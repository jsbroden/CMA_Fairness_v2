{
 "cells": [
  {
   "cell_type": "markdown",
   "id": "ef23dbb3",
   "metadata": {
    "papermill": {
     "duration": 0.00911,
     "end_time": "2025-08-19T18:08:56.563805",
     "exception": false,
     "start_time": "2025-08-19T18:08:56.554695",
     "status": "completed"
    },
    "tags": []
   },
   "source": [
    "# Setup"
   ]
  },
  {
   "cell_type": "code",
   "execution_count": 1,
   "id": "0bc8e7dc",
   "metadata": {
    "execution": {
     "iopub.execute_input": "2025-08-19T18:08:56.583716Z",
     "iopub.status.busy": "2025-08-19T18:08:56.582660Z",
     "iopub.status.idle": "2025-08-19T18:08:56.604082Z",
     "shell.execute_reply": "2025-08-19T18:08:56.602695Z"
    },
    "papermill": {
     "duration": 0.034522,
     "end_time": "2025-08-19T18:08:56.606962",
     "exception": false,
     "start_time": "2025-08-19T18:08:56.572440",
     "status": "completed"
    },
    "tags": []
   },
   "outputs": [
    {
     "name": "stdout",
     "output_type": "stream",
     "text": [
      "/dss/dsshome1/0C/ra93lal2/cma/CMA_Fairness_v2\n"
     ]
    },
    {
     "name": "stderr",
     "output_type": "stream",
     "text": [
      "/dss/dsshome1/0C/ra93lal2/.local/share/virtualenvs/CMA_Fairness_v2-3j10GkSs/lib/python3.10/site-packages/IPython/core/magics/osm.py:393: UserWarning: This is now an optional IPython functionality, using bookmarks requires you to install the `pickleshare` library.\n",
      "  bkms = self.shell.db.get('bookmarks', {})\n",
      "/dss/dsshome1/0C/ra93lal2/.local/share/virtualenvs/CMA_Fairness_v2-3j10GkSs/lib/python3.10/site-packages/IPython/core/magics/osm.py:417: UserWarning: This is now an optional IPython functionality, setting dhist requires you to install the `pickleshare` library.\n",
      "  self.shell.db['dhist'] = compress_dhist(dhist)[-100:]\n"
     ]
    }
   ],
   "source": [
    "%cd ~/cma/CMA_Fairness_v2"
   ]
  },
  {
   "cell_type": "markdown",
   "id": "9d235661",
   "metadata": {
    "papermill": {
     "duration": 0.009061,
     "end_time": "2025-08-19T18:08:56.628819",
     "exception": false,
     "start_time": "2025-08-19T18:08:56.619758",
     "status": "completed"
    },
    "tags": []
   },
   "source": [
    "The following cell holds the definition of our parameters, these values can be overriden by rendering the with e.g. the following command:\n",
    "\n",
    "papermill -p alpha 0.2 -p ratio 0.3 universe_analysis.ipynb output/test_run.ipynb"
   ]
  },
  {
   "cell_type": "code",
   "execution_count": 2,
   "id": "4a789d8e",
   "metadata": {
    "execution": {
     "iopub.execute_input": "2025-08-19T18:08:56.649144Z",
     "iopub.status.busy": "2025-08-19T18:08:56.648244Z",
     "iopub.status.idle": "2025-08-19T18:08:56.656018Z",
     "shell.execute_reply": "2025-08-19T18:08:56.654620Z"
    },
    "papermill": {
     "duration": 0.020253,
     "end_time": "2025-08-19T18:08:56.657701",
     "exception": false,
     "start_time": "2025-08-19T18:08:56.637448",
     "status": "completed"
    },
    "tags": []
   },
   "outputs": [
    {
     "name": "stdout",
     "output_type": "stream",
     "text": [
      "Current working directory: /dss/dsshome1/0C/ra93lal2/cma/CMA_Fairness_v2\n"
     ]
    }
   ],
   "source": [
    "import os\n",
    "print(\"Current working directory:\", os.getcwd())"
   ]
  },
  {
   "cell_type": "code",
   "execution_count": 3,
   "id": "4132aaed",
   "metadata": {
    "execution": {
     "iopub.execute_input": "2025-08-19T18:08:56.678622Z",
     "iopub.status.busy": "2025-08-19T18:08:56.677935Z",
     "iopub.status.idle": "2025-08-19T18:08:56.687039Z",
     "shell.execute_reply": "2025-08-19T18:08:56.685686Z"
    },
    "papermill": {
     "duration": 0.021607,
     "end_time": "2025-08-19T18:08:56.688703",
     "exception": false,
     "start_time": "2025-08-19T18:08:56.667096",
     "status": "completed"
    },
    "tags": [
     "parameters"
    ]
   },
   "outputs": [],
   "source": [
    "run_no = 0\n",
    "universe_id = \"test\"\n",
    "universe = {\n",
    "    \"training_size\": \"5k\", # \"25k\", \"5k\", \"1k\"\n",
    "    \"training_year\": \"2012_14\", # \"2014\", \"2012_14\", \"2010_14\"\n",
    "    \"scale\": \"scale\", # \"scale\", \"do-not-scale\",\n",
    "    \"model\": \"elasticnet\", # \"logreg\", \"penalized_logreg\", \"rf\", \"gbm\", \"elasticnet\"\n",
    "    \"cutoff\": [\"quantile_0.15\", \"quantile_0.30\"],\n",
    "    \"exclude_features\": \"age\", # \"none\", \"nationality\", \"sex\", \"nationality-sex\", \"age\"\n",
    "    \"exclude_subgroups\": \"drop-non-german\", # \"keep-all\", \"drop-non-german\"\n",
    "    \"eval_fairness_grouping\": [\"majority-minority\", \"nationality-all\"]\n",
    "}\n",
    "\n",
    "output_dir=\"./output\"\n",
    "seed=0"
   ]
  },
  {
   "cell_type": "code",
   "execution_count": 4,
   "id": "1b0b40f6",
   "metadata": {
    "execution": {
     "iopub.execute_input": "2025-08-19T18:08:56.711745Z",
     "iopub.status.busy": "2025-08-19T18:08:56.711032Z",
     "iopub.status.idle": "2025-08-19T18:08:56.718546Z",
     "shell.execute_reply": "2025-08-19T18:08:56.717148Z"
    },
    "papermill": {
     "duration": 0.020033,
     "end_time": "2025-08-19T18:08:56.720222",
     "exception": false,
     "start_time": "2025-08-19T18:08:56.700189",
     "status": "completed"
    },
    "tags": [
     "injected-parameters"
    ]
   },
   "outputs": [],
   "source": [
    "# Parameters\n",
    "universe_id = \"170244a627acf92dd2aa5db16aa9fd48\"\n",
    "run_no = \"3\"\n",
    "universe = \"{\\\"cutoff\\\": [\\\"quantile_0.1\\\", \\\"quantile_0.25\\\"], \\\"eval_fairness_grouping\\\": [\\\"majority-minority\\\", \\\"nationality-all\\\"], \\\"exclude_features\\\": \\\"nationality-sex\\\", \\\"exclude_subgroups\\\": \\\"keep-all\\\", \\\"model\\\": \\\"penalized_logreg\\\", \\\"scale\\\": \\\"do-not-scale\\\", \\\"training_size\\\": \\\"25k\\\", \\\"training_year\\\": \\\"2012_14\\\"}\"\n",
    "output_dir = \"output\"\n",
    "seed = \"2023\"\n"
   ]
  },
  {
   "cell_type": "code",
   "execution_count": 5,
   "id": "a5d7941f",
   "metadata": {
    "execution": {
     "iopub.execute_input": "2025-08-19T18:08:56.743822Z",
     "iopub.status.busy": "2025-08-19T18:08:56.743082Z",
     "iopub.status.idle": "2025-08-19T18:08:56.749917Z",
     "shell.execute_reply": "2025-08-19T18:08:56.748598Z"
    },
    "papermill": {
     "duration": 0.019663,
     "end_time": "2025-08-19T18:08:56.751914",
     "exception": false,
     "start_time": "2025-08-19T18:08:56.732251",
     "status": "completed"
    },
    "tags": []
   },
   "outputs": [],
   "source": [
    "import json\n",
    "if isinstance(universe, str):\n",
    "    universe = json.loads(universe)"
   ]
  },
  {
   "cell_type": "code",
   "execution_count": 6,
   "id": "7076ccb1",
   "metadata": {
    "execution": {
     "iopub.execute_input": "2025-08-19T18:08:56.774515Z",
     "iopub.status.busy": "2025-08-19T18:08:56.773826Z",
     "iopub.status.idle": "2025-08-19T18:08:56.824592Z",
     "shell.execute_reply": "2025-08-19T18:08:56.823418Z"
    },
    "papermill": {
     "duration": 0.064713,
     "end_time": "2025-08-19T18:08:56.827756",
     "exception": false,
     "start_time": "2025-08-19T18:08:56.763043",
     "status": "completed"
    },
    "tags": []
   },
   "outputs": [],
   "source": [
    "# Auto-reload the custom package\n",
    "%load_ext autoreload\n",
    "%autoreload 1\n",
    "%aimport fairness_multiverse"
   ]
  },
  {
   "cell_type": "code",
   "execution_count": 7,
   "id": "94c8eb93",
   "metadata": {
    "execution": {
     "iopub.execute_input": "2025-08-19T18:08:56.862675Z",
     "iopub.status.busy": "2025-08-19T18:08:56.862063Z",
     "iopub.status.idle": "2025-08-19T18:08:58.437433Z",
     "shell.execute_reply": "2025-08-19T18:08:58.435798Z"
    },
    "papermill": {
     "duration": 1.590815,
     "end_time": "2025-08-19T18:08:58.439278",
     "exception": false,
     "start_time": "2025-08-19T18:08:56.848463",
     "status": "completed"
    },
    "tags": []
   },
   "outputs": [],
   "source": [
    "from fairness_multiverse.universe import UniverseAnalysis\n",
    "\n",
    "universe_analysis = UniverseAnalysis(\n",
    "    run_no = run_no,\n",
    "    universe_id = universe_id,\n",
    "    universe = universe,\n",
    "    output_dir=output_dir,\n",
    ")"
   ]
  },
  {
   "cell_type": "code",
   "execution_count": 8,
   "id": "2a6381cf",
   "metadata": {
    "execution": {
     "iopub.execute_input": "2025-08-19T18:08:58.461510Z",
     "iopub.status.busy": "2025-08-19T18:08:58.460043Z",
     "iopub.status.idle": "2025-08-19T18:08:58.474224Z",
     "shell.execute_reply": "2025-08-19T18:08:58.472739Z"
    },
    "papermill": {
     "duration": 0.027702,
     "end_time": "2025-08-19T18:08:58.476304",
     "exception": false,
     "start_time": "2025-08-19T18:08:58.448602",
     "status": "completed"
    },
    "tags": []
   },
   "outputs": [
    {
     "name": "stdout",
     "output_type": "stream",
     "text": [
      "Using Seed: 2023\n"
     ]
    }
   ],
   "source": [
    "import numpy as np\n",
    "parsed_seed = int(seed)\n",
    "np.random.seed(parsed_seed)\n",
    "print(f\"Using Seed: {parsed_seed}\")"
   ]
  },
  {
   "cell_type": "markdown",
   "id": "b6e958b4",
   "metadata": {
    "papermill": {
     "duration": 0.009242,
     "end_time": "2025-08-19T18:08:58.497319",
     "exception": false,
     "start_time": "2025-08-19T18:08:58.488077",
     "status": "completed"
    },
    "tags": []
   },
   "source": [
    "# Loading Data"
   ]
  },
  {
   "cell_type": "code",
   "execution_count": 9,
   "id": "98701482",
   "metadata": {
    "execution": {
     "iopub.execute_input": "2025-08-19T18:08:58.516901Z",
     "iopub.status.busy": "2025-08-19T18:08:58.516584Z",
     "iopub.status.idle": "2025-08-19T18:09:09.021607Z",
     "shell.execute_reply": "2025-08-19T18:09:09.020619Z"
    },
    "papermill": {
     "duration": 10.517015,
     "end_time": "2025-08-19T18:09:09.023359",
     "exception": false,
     "start_time": "2025-08-19T18:08:58.506344",
     "status": "completed"
    },
    "tags": []
   },
   "outputs": [
    {
     "name": "stdout",
     "output_type": "stream",
     "text": [
      "Loading SIAB data from cache: data/siab_cached.csv.gz\n"
     ]
    },
    {
     "name": "stdout",
     "output_type": "stream",
     "text": [
      "(643690, 164)\n"
     ]
    }
   ],
   "source": [
    "from pathlib import Path\n",
    "import pandas as pd\n",
    "\n",
    "# File paths\n",
    "raw_file = Path(\"data/raw/siab.csv\")\n",
    "cache_file = Path(\"data/siab_cached.csv.gz\")\n",
    "\n",
    "# Ensure cache directory exists\n",
    "cache_file.parent.mkdir(parents=True, exist_ok=True)\n",
    "\n",
    "# Load with simple caching\n",
    "if cache_file.exists():\n",
    "    print(f\"Loading SIAB data from cache: {cache_file}\")\n",
    "    siab = pd.read_csv(cache_file, compression='gzip')\n",
    "else:\n",
    "    print(f\"Cache not found. Reading raw SIAB data: {raw_file}\")\n",
    "    siab = pd.read_csv(raw_file)\n",
    "    siab.to_csv(cache_file, index=False, compression='gzip')\n",
    "    print(f\"Cached SIAB data to: {cache_file}\")\n",
    "\n",
    "print(siab.shape)"
   ]
  },
  {
   "cell_type": "code",
   "execution_count": 10,
   "id": "058d2abb",
   "metadata": {
    "execution": {
     "iopub.execute_input": "2025-08-19T18:09:09.049845Z",
     "iopub.status.busy": "2025-08-19T18:09:09.048918Z",
     "iopub.status.idle": "2025-08-19T18:09:09.309461Z",
     "shell.execute_reply": "2025-08-19T18:09:09.298497Z"
    },
    "papermill": {
     "duration": 0.274457,
     "end_time": "2025-08-19T18:09:09.311480",
     "exception": false,
     "start_time": "2025-08-19T18:09:09.037023",
     "status": "completed"
    },
    "tags": []
   },
   "outputs": [
    {
     "data": {
      "text/html": [
       "<div>\n",
       "<style scoped>\n",
       "    .dataframe tbody tr th:only-of-type {\n",
       "        vertical-align: middle;\n",
       "    }\n",
       "\n",
       "    .dataframe tbody tr th {\n",
       "        vertical-align: top;\n",
       "    }\n",
       "\n",
       "    .dataframe thead th {\n",
       "        text-align: right;\n",
       "    }\n",
       "</style>\n",
       "<table border=\"1\" class=\"dataframe\">\n",
       "  <thead>\n",
       "    <tr style=\"text-align: right;\">\n",
       "      <th></th>\n",
       "      <th>persnr</th>\n",
       "      <th>year</th>\n",
       "      <th>nrEntry</th>\n",
       "      <th>ltue</th>\n",
       "      <th>employed_before</th>\n",
       "      <th>receipt_leh_before</th>\n",
       "      <th>receipt_lhg_before</th>\n",
       "      <th>se_before</th>\n",
       "      <th>ASU_notue_seeking_before</th>\n",
       "      <th>ASU_other_before</th>\n",
       "      <th>...</th>\n",
       "      <th>minijob_tot_dur_byage</th>\n",
       "      <th>ft_tot_dur_byage</th>\n",
       "      <th>befrist_tot_dur_byage</th>\n",
       "      <th>leih_tot_dur_byage</th>\n",
       "      <th>LHG_tot_dur_byage</th>\n",
       "      <th>LEH_tot_dur_byage</th>\n",
       "      <th>almp_tot_dur_byage</th>\n",
       "      <th>almp_aw_tot_dur_byage</th>\n",
       "      <th>se_tot_dur_byage</th>\n",
       "      <th>seeking1_tot_dur_byage</th>\n",
       "    </tr>\n",
       "  </thead>\n",
       "  <tbody>\n",
       "    <tr>\n",
       "      <th>0</th>\n",
       "      <td>7</td>\n",
       "      <td>2015</td>\n",
       "      <td>1</td>\n",
       "      <td>0</td>\n",
       "      <td>1</td>\n",
       "      <td>0</td>\n",
       "      <td>0</td>\n",
       "      <td>0</td>\n",
       "      <td>1</td>\n",
       "      <td>0</td>\n",
       "      <td>...</td>\n",
       "      <td>0.000000</td>\n",
       "      <td>0.000000</td>\n",
       "      <td>15.043478</td>\n",
       "      <td>0.000000</td>\n",
       "      <td>0.000000</td>\n",
       "      <td>0.000000</td>\n",
       "      <td>0.000000</td>\n",
       "      <td>0.000000</td>\n",
       "      <td>0.000000</td>\n",
       "      <td>0.000000</td>\n",
       "    </tr>\n",
       "    <tr>\n",
       "      <th>1</th>\n",
       "      <td>18</td>\n",
       "      <td>2010</td>\n",
       "      <td>1</td>\n",
       "      <td>1</td>\n",
       "      <td>0</td>\n",
       "      <td>0</td>\n",
       "      <td>0</td>\n",
       "      <td>0</td>\n",
       "      <td>0</td>\n",
       "      <td>0</td>\n",
       "      <td>...</td>\n",
       "      <td>0.000000</td>\n",
       "      <td>0.000000</td>\n",
       "      <td>0.000000</td>\n",
       "      <td>0.000000</td>\n",
       "      <td>0.000000</td>\n",
       "      <td>0.000000</td>\n",
       "      <td>0.000000</td>\n",
       "      <td>0.000000</td>\n",
       "      <td>0.000000</td>\n",
       "      <td>0.000000</td>\n",
       "    </tr>\n",
       "    <tr>\n",
       "      <th>2</th>\n",
       "      <td>18</td>\n",
       "      <td>2011</td>\n",
       "      <td>2</td>\n",
       "      <td>0</td>\n",
       "      <td>1</td>\n",
       "      <td>0</td>\n",
       "      <td>1</td>\n",
       "      <td>0</td>\n",
       "      <td>1</td>\n",
       "      <td>0</td>\n",
       "      <td>...</td>\n",
       "      <td>2.714286</td>\n",
       "      <td>2.714286</td>\n",
       "      <td>0.000000</td>\n",
       "      <td>0.000000</td>\n",
       "      <td>10.775510</td>\n",
       "      <td>0.000000</td>\n",
       "      <td>8.367347</td>\n",
       "      <td>0.000000</td>\n",
       "      <td>0.000000</td>\n",
       "      <td>9.836735</td>\n",
       "    </tr>\n",
       "    <tr>\n",
       "      <th>3</th>\n",
       "      <td>18</td>\n",
       "      <td>2012</td>\n",
       "      <td>3</td>\n",
       "      <td>0</td>\n",
       "      <td>1</td>\n",
       "      <td>0</td>\n",
       "      <td>1</td>\n",
       "      <td>0</td>\n",
       "      <td>1</td>\n",
       "      <td>0</td>\n",
       "      <td>...</td>\n",
       "      <td>4.200000</td>\n",
       "      <td>4.200000</td>\n",
       "      <td>0.000000</td>\n",
       "      <td>0.000000</td>\n",
       "      <td>12.100000</td>\n",
       "      <td>0.000000</td>\n",
       "      <td>9.400000</td>\n",
       "      <td>0.000000</td>\n",
       "      <td>0.000000</td>\n",
       "      <td>9.960000</td>\n",
       "    </tr>\n",
       "    <tr>\n",
       "      <th>4</th>\n",
       "      <td>18</td>\n",
       "      <td>2012</td>\n",
       "      <td>4</td>\n",
       "      <td>0</td>\n",
       "      <td>1</td>\n",
       "      <td>0</td>\n",
       "      <td>1</td>\n",
       "      <td>0</td>\n",
       "      <td>1</td>\n",
       "      <td>0</td>\n",
       "      <td>...</td>\n",
       "      <td>5.460000</td>\n",
       "      <td>5.460000</td>\n",
       "      <td>0.000000</td>\n",
       "      <td>0.000000</td>\n",
       "      <td>13.360000</td>\n",
       "      <td>0.000000</td>\n",
       "      <td>10.320000</td>\n",
       "      <td>0.000000</td>\n",
       "      <td>0.000000</td>\n",
       "      <td>10.280000</td>\n",
       "    </tr>\n",
       "    <tr>\n",
       "      <th>...</th>\n",
       "      <td>...</td>\n",
       "      <td>...</td>\n",
       "      <td>...</td>\n",
       "      <td>...</td>\n",
       "      <td>...</td>\n",
       "      <td>...</td>\n",
       "      <td>...</td>\n",
       "      <td>...</td>\n",
       "      <td>...</td>\n",
       "      <td>...</td>\n",
       "      <td>...</td>\n",
       "      <td>...</td>\n",
       "      <td>...</td>\n",
       "      <td>...</td>\n",
       "      <td>...</td>\n",
       "      <td>...</td>\n",
       "      <td>...</td>\n",
       "      <td>...</td>\n",
       "      <td>...</td>\n",
       "      <td>...</td>\n",
       "      <td>...</td>\n",
       "    </tr>\n",
       "    <tr>\n",
       "      <th>643685</th>\n",
       "      <td>1827860</td>\n",
       "      <td>2013</td>\n",
       "      <td>1</td>\n",
       "      <td>0</td>\n",
       "      <td>0</td>\n",
       "      <td>0</td>\n",
       "      <td>1</td>\n",
       "      <td>0</td>\n",
       "      <td>0</td>\n",
       "      <td>1</td>\n",
       "      <td>...</td>\n",
       "      <td>0.000000</td>\n",
       "      <td>0.000000</td>\n",
       "      <td>0.000000</td>\n",
       "      <td>0.000000</td>\n",
       "      <td>0.612903</td>\n",
       "      <td>0.000000</td>\n",
       "      <td>0.000000</td>\n",
       "      <td>0.000000</td>\n",
       "      <td>0.000000</td>\n",
       "      <td>0.000000</td>\n",
       "    </tr>\n",
       "    <tr>\n",
       "      <th>643686</th>\n",
       "      <td>1827860</td>\n",
       "      <td>2015</td>\n",
       "      <td>2</td>\n",
       "      <td>1</td>\n",
       "      <td>0</td>\n",
       "      <td>0</td>\n",
       "      <td>1</td>\n",
       "      <td>0</td>\n",
       "      <td>1</td>\n",
       "      <td>0</td>\n",
       "      <td>...</td>\n",
       "      <td>0.000000</td>\n",
       "      <td>0.000000</td>\n",
       "      <td>0.212121</td>\n",
       "      <td>0.212121</td>\n",
       "      <td>17.363636</td>\n",
       "      <td>0.000000</td>\n",
       "      <td>8.909091</td>\n",
       "      <td>0.000000</td>\n",
       "      <td>0.000000</td>\n",
       "      <td>7.121212</td>\n",
       "    </tr>\n",
       "    <tr>\n",
       "      <th>643687</th>\n",
       "      <td>1827860</td>\n",
       "      <td>2016</td>\n",
       "      <td>3</td>\n",
       "      <td>1</td>\n",
       "      <td>0</td>\n",
       "      <td>0</td>\n",
       "      <td>1</td>\n",
       "      <td>1</td>\n",
       "      <td>0</td>\n",
       "      <td>1</td>\n",
       "      <td>...</td>\n",
       "      <td>0.000000</td>\n",
       "      <td>0.000000</td>\n",
       "      <td>0.294118</td>\n",
       "      <td>0.205882</td>\n",
       "      <td>34.705882</td>\n",
       "      <td>0.000000</td>\n",
       "      <td>10.352941</td>\n",
       "      <td>1.705882</td>\n",
       "      <td>1.705882</td>\n",
       "      <td>23.911765</td>\n",
       "    </tr>\n",
       "    <tr>\n",
       "      <th>643688</th>\n",
       "      <td>1827869</td>\n",
       "      <td>2013</td>\n",
       "      <td>1</td>\n",
       "      <td>1</td>\n",
       "      <td>1</td>\n",
       "      <td>0</td>\n",
       "      <td>0</td>\n",
       "      <td>0</td>\n",
       "      <td>1</td>\n",
       "      <td>0</td>\n",
       "      <td>...</td>\n",
       "      <td>0.000000</td>\n",
       "      <td>0.000000</td>\n",
       "      <td>0.000000</td>\n",
       "      <td>0.000000</td>\n",
       "      <td>0.000000</td>\n",
       "      <td>0.525424</td>\n",
       "      <td>0.000000</td>\n",
       "      <td>0.000000</td>\n",
       "      <td>0.000000</td>\n",
       "      <td>0.000000</td>\n",
       "    </tr>\n",
       "    <tr>\n",
       "      <th>643689</th>\n",
       "      <td>1827869</td>\n",
       "      <td>2014</td>\n",
       "      <td>2</td>\n",
       "      <td>0</td>\n",
       "      <td>0</td>\n",
       "      <td>1</td>\n",
       "      <td>0</td>\n",
       "      <td>0</td>\n",
       "      <td>1</td>\n",
       "      <td>0</td>\n",
       "      <td>...</td>\n",
       "      <td>0.000000</td>\n",
       "      <td>0.666667</td>\n",
       "      <td>0.666667</td>\n",
       "      <td>0.000000</td>\n",
       "      <td>0.000000</td>\n",
       "      <td>8.950000</td>\n",
       "      <td>1.033333</td>\n",
       "      <td>0.083333</td>\n",
       "      <td>0.083333</td>\n",
       "      <td>8.133333</td>\n",
       "    </tr>\n",
       "  </tbody>\n",
       "</table>\n",
       "<p>643690 rows × 164 columns</p>\n",
       "</div>"
      ],
      "text/plain": [
       "         persnr  year  nrEntry  ltue  employed_before  receipt_leh_before  \\\n",
       "0             7  2015        1     0                1                   0   \n",
       "1            18  2010        1     1                0                   0   \n",
       "2            18  2011        2     0                1                   0   \n",
       "3            18  2012        3     0                1                   0   \n",
       "4            18  2012        4     0                1                   0   \n",
       "...         ...   ...      ...   ...              ...                 ...   \n",
       "643685  1827860  2013        1     0                0                   0   \n",
       "643686  1827860  2015        2     1                0                   0   \n",
       "643687  1827860  2016        3     1                0                   0   \n",
       "643688  1827869  2013        1     1                1                   0   \n",
       "643689  1827869  2014        2     0                0                   1   \n",
       "\n",
       "        receipt_lhg_before  se_before  ASU_notue_seeking_before  \\\n",
       "0                        0          0                         1   \n",
       "1                        0          0                         0   \n",
       "2                        1          0                         1   \n",
       "3                        1          0                         1   \n",
       "4                        1          0                         1   \n",
       "...                    ...        ...                       ...   \n",
       "643685                   1          0                         0   \n",
       "643686                   1          0                         1   \n",
       "643687                   1          1                         0   \n",
       "643688                   0          0                         1   \n",
       "643689                   0          0                         1   \n",
       "\n",
       "        ASU_other_before  ...  minijob_tot_dur_byage  ft_tot_dur_byage  \\\n",
       "0                      0  ...               0.000000          0.000000   \n",
       "1                      0  ...               0.000000          0.000000   \n",
       "2                      0  ...               2.714286          2.714286   \n",
       "3                      0  ...               4.200000          4.200000   \n",
       "4                      0  ...               5.460000          5.460000   \n",
       "...                  ...  ...                    ...               ...   \n",
       "643685                 1  ...               0.000000          0.000000   \n",
       "643686                 0  ...               0.000000          0.000000   \n",
       "643687                 1  ...               0.000000          0.000000   \n",
       "643688                 0  ...               0.000000          0.000000   \n",
       "643689                 0  ...               0.000000          0.666667   \n",
       "\n",
       "        befrist_tot_dur_byage  leih_tot_dur_byage  LHG_tot_dur_byage  \\\n",
       "0                   15.043478            0.000000           0.000000   \n",
       "1                    0.000000            0.000000           0.000000   \n",
       "2                    0.000000            0.000000          10.775510   \n",
       "3                    0.000000            0.000000          12.100000   \n",
       "4                    0.000000            0.000000          13.360000   \n",
       "...                       ...                 ...                ...   \n",
       "643685               0.000000            0.000000           0.612903   \n",
       "643686               0.212121            0.212121          17.363636   \n",
       "643687               0.294118            0.205882          34.705882   \n",
       "643688               0.000000            0.000000           0.000000   \n",
       "643689               0.666667            0.000000           0.000000   \n",
       "\n",
       "        LEH_tot_dur_byage  almp_tot_dur_byage  almp_aw_tot_dur_byage  \\\n",
       "0                0.000000            0.000000               0.000000   \n",
       "1                0.000000            0.000000               0.000000   \n",
       "2                0.000000            8.367347               0.000000   \n",
       "3                0.000000            9.400000               0.000000   \n",
       "4                0.000000           10.320000               0.000000   \n",
       "...                   ...                 ...                    ...   \n",
       "643685           0.000000            0.000000               0.000000   \n",
       "643686           0.000000            8.909091               0.000000   \n",
       "643687           0.000000           10.352941               1.705882   \n",
       "643688           0.525424            0.000000               0.000000   \n",
       "643689           8.950000            1.033333               0.083333   \n",
       "\n",
       "        se_tot_dur_byage  seeking1_tot_dur_byage  \n",
       "0               0.000000                0.000000  \n",
       "1               0.000000                0.000000  \n",
       "2               0.000000                9.836735  \n",
       "3               0.000000                9.960000  \n",
       "4               0.000000               10.280000  \n",
       "...                  ...                     ...  \n",
       "643685          0.000000                0.000000  \n",
       "643686          0.000000                7.121212  \n",
       "643687          1.705882               23.911765  \n",
       "643688          0.000000                0.000000  \n",
       "643689          0.083333                8.133333  \n",
       "\n",
       "[643690 rows x 164 columns]"
      ]
     },
     "execution_count": 10,
     "metadata": {},
     "output_type": "execute_result"
    }
   ],
   "source": [
    "siab"
   ]
  },
  {
   "cell_type": "markdown",
   "id": "1f87e805",
   "metadata": {
    "papermill": {
     "duration": 0.010277,
     "end_time": "2025-08-19T18:09:09.334762",
     "exception": false,
     "start_time": "2025-08-19T18:09:09.324485",
     "status": "completed"
    },
    "tags": []
   },
   "source": [
    "# Splitting Data and Setting Training Data Size"
   ]
  },
  {
   "cell_type": "code",
   "execution_count": 11,
   "id": "910ae358",
   "metadata": {
    "execution": {
     "iopub.execute_input": "2025-08-19T18:09:09.356784Z",
     "iopub.status.busy": "2025-08-19T18:09:09.355845Z",
     "iopub.status.idle": "2025-08-19T18:09:10.494278Z",
     "shell.execute_reply": "2025-08-19T18:09:10.493088Z"
    },
    "papermill": {
     "duration": 1.151682,
     "end_time": "2025-08-19T18:09:10.495910",
     "exception": false,
     "start_time": "2025-08-19T18:09:09.344228",
     "status": "completed"
    },
    "tags": []
   },
   "outputs": [],
   "source": [
    "from fairness_multiverse.universe import sample_by_year_size\n",
    "\n",
    "siab_train = sample_by_year_size(siab,\n",
    "                               training_year=universe[\"training_year\"],\n",
    "                               training_size=universe[\"training_size\"])"
   ]
  },
  {
   "cell_type": "code",
   "execution_count": 12,
   "id": "919c8ff5",
   "metadata": {
    "execution": {
     "iopub.execute_input": "2025-08-19T18:09:10.535007Z",
     "iopub.status.busy": "2025-08-19T18:09:10.533406Z",
     "iopub.status.idle": "2025-08-19T18:09:10.548509Z",
     "shell.execute_reply": "2025-08-19T18:09:10.546819Z"
    },
    "papermill": {
     "duration": 0.042904,
     "end_time": "2025-08-19T18:09:10.550062",
     "exception": false,
     "start_time": "2025-08-19T18:09:10.507158",
     "status": "completed"
    },
    "tags": []
   },
   "outputs": [
    {
     "data": {
      "text/plain": [
       "(25000, 164)"
      ]
     },
     "execution_count": 12,
     "metadata": {},
     "output_type": "execute_result"
    }
   ],
   "source": [
    "siab_train.shape"
   ]
  },
  {
   "cell_type": "code",
   "execution_count": 13,
   "id": "feb13bf4",
   "metadata": {
    "execution": {
     "iopub.execute_input": "2025-08-19T18:09:10.594858Z",
     "iopub.status.busy": "2025-08-19T18:09:10.593743Z",
     "iopub.status.idle": "2025-08-19T18:09:10.606934Z",
     "shell.execute_reply": "2025-08-19T18:09:10.605775Z"
    },
    "papermill": {
     "duration": 0.047308,
     "end_time": "2025-08-19T18:09:10.608342",
     "exception": false,
     "start_time": "2025-08-19T18:09:10.561034",
     "status": "completed"
    },
    "tags": []
   },
   "outputs": [
    {
     "data": {
      "text/plain": [
       "year\n",
       "2012    8334\n",
       "2013    8333\n",
       "2014    8333\n",
       "dtype: int64"
      ]
     },
     "metadata": {},
     "output_type": "display_data"
    }
   ],
   "source": [
    "display(siab_train.groupby(\"year\").size())"
   ]
  },
  {
   "cell_type": "code",
   "execution_count": 14,
   "id": "0997782f",
   "metadata": {
    "execution": {
     "iopub.execute_input": "2025-08-19T18:09:10.636810Z",
     "iopub.status.busy": "2025-08-19T18:09:10.636314Z",
     "iopub.status.idle": "2025-08-19T18:09:11.232058Z",
     "shell.execute_reply": "2025-08-19T18:09:11.229958Z"
    },
    "papermill": {
     "duration": 0.610346,
     "end_time": "2025-08-19T18:09:11.234313",
     "exception": false,
     "start_time": "2025-08-19T18:09:10.623967",
     "status": "completed"
    },
    "tags": []
   },
   "outputs": [],
   "source": [
    "#siab_train = siab_s[siab_s.year < 2015]\n",
    "siab_calib = siab[siab.year == 2015]\n",
    "siab_test = siab[siab.year == 2016]"
   ]
  },
  {
   "cell_type": "code",
   "execution_count": 15,
   "id": "2c1e4012",
   "metadata": {
    "execution": {
     "iopub.execute_input": "2025-08-19T18:09:11.257596Z",
     "iopub.status.busy": "2025-08-19T18:09:11.257012Z",
     "iopub.status.idle": "2025-08-19T18:09:11.265775Z",
     "shell.execute_reply": "2025-08-19T18:09:11.264613Z"
    },
    "papermill": {
     "duration": 0.022173,
     "end_time": "2025-08-19T18:09:11.267093",
     "exception": false,
     "start_time": "2025-08-19T18:09:11.244920",
     "status": "completed"
    },
    "tags": []
   },
   "outputs": [],
   "source": [
    "#siab_calib.shape"
   ]
  },
  {
   "cell_type": "code",
   "execution_count": 16,
   "id": "f66b54ca",
   "metadata": {
    "execution": {
     "iopub.execute_input": "2025-08-19T18:09:11.292345Z",
     "iopub.status.busy": "2025-08-19T18:09:11.290908Z",
     "iopub.status.idle": "2025-08-19T18:09:11.300073Z",
     "shell.execute_reply": "2025-08-19T18:09:11.298675Z"
    },
    "papermill": {
     "duration": 0.021923,
     "end_time": "2025-08-19T18:09:11.301576",
     "exception": false,
     "start_time": "2025-08-19T18:09:11.279653",
     "status": "completed"
    },
    "tags": []
   },
   "outputs": [],
   "source": [
    "#siab_test.shape"
   ]
  },
  {
   "cell_type": "code",
   "execution_count": 17,
   "id": "27e4384d",
   "metadata": {
    "execution": {
     "iopub.execute_input": "2025-08-19T18:09:11.328598Z",
     "iopub.status.busy": "2025-08-19T18:09:11.327363Z",
     "iopub.status.idle": "2025-08-19T18:09:11.390630Z",
     "shell.execute_reply": "2025-08-19T18:09:11.389619Z"
    },
    "papermill": {
     "duration": 0.078798,
     "end_time": "2025-08-19T18:09:11.393572",
     "exception": false,
     "start_time": "2025-08-19T18:09:11.314774",
     "status": "completed"
    },
    "tags": []
   },
   "outputs": [],
   "source": [
    "X_train = siab_train.iloc[:,4:164]\n",
    "y_train = siab_train.iloc[:, [3]]"
   ]
  },
  {
   "cell_type": "code",
   "execution_count": 18,
   "id": "08ee8389",
   "metadata": {
    "execution": {
     "iopub.execute_input": "2025-08-19T18:09:11.434375Z",
     "iopub.status.busy": "2025-08-19T18:09:11.433714Z",
     "iopub.status.idle": "2025-08-19T18:09:11.508796Z",
     "shell.execute_reply": "2025-08-19T18:09:11.507758Z"
    },
    "papermill": {
     "duration": 0.093139,
     "end_time": "2025-08-19T18:09:11.512828",
     "exception": false,
     "start_time": "2025-08-19T18:09:11.419689",
     "status": "completed"
    },
    "tags": []
   },
   "outputs": [],
   "source": [
    "X_calib = siab_calib.iloc[:,4:164]\n",
    "y_calib = siab_calib.iloc[:, [3]]"
   ]
  },
  {
   "cell_type": "code",
   "execution_count": 19,
   "id": "b7ff42e0",
   "metadata": {
    "execution": {
     "iopub.execute_input": "2025-08-19T18:09:11.549491Z",
     "iopub.status.busy": "2025-08-19T18:09:11.548077Z",
     "iopub.status.idle": "2025-08-19T18:09:11.621445Z",
     "shell.execute_reply": "2025-08-19T18:09:11.620312Z"
    },
    "papermill": {
     "duration": 0.08964,
     "end_time": "2025-08-19T18:09:11.624255",
     "exception": false,
     "start_time": "2025-08-19T18:09:11.534615",
     "status": "completed"
    },
    "tags": []
   },
   "outputs": [],
   "source": [
    "X_test = siab_test.iloc[:,4:164]\n",
    "y_true = siab_test.iloc[:, [3]]"
   ]
  },
  {
   "cell_type": "code",
   "execution_count": 20,
   "id": "0275101e",
   "metadata": {
    "execution": {
     "iopub.execute_input": "2025-08-19T18:09:11.669786Z",
     "iopub.status.busy": "2025-08-19T18:09:11.663572Z",
     "iopub.status.idle": "2025-08-19T18:09:11.813510Z",
     "shell.execute_reply": "2025-08-19T18:09:11.812526Z"
    },
    "papermill": {
     "duration": 0.167995,
     "end_time": "2025-08-19T18:09:11.816316",
     "exception": false,
     "start_time": "2025-08-19T18:09:11.648321",
     "status": "completed"
    },
    "tags": []
   },
   "outputs": [],
   "source": [
    "# Auxiliary data needed downstream in the pipeline\n",
    "\n",
    "org_train = X_train.copy()\n",
    "org_test = X_test.copy()\n",
    "org_calib = X_calib.copy()"
   ]
  },
  {
   "cell_type": "markdown",
   "id": "b461e618",
   "metadata": {
    "papermill": {
     "duration": 0.012852,
     "end_time": "2025-08-19T18:09:11.852773",
     "exception": false,
     "start_time": "2025-08-19T18:09:11.839921",
     "status": "completed"
    },
    "tags": []
   },
   "source": [
    "# Preprocessing Data"
   ]
  },
  {
   "cell_type": "code",
   "execution_count": 21,
   "id": "78e74c4b",
   "metadata": {
    "execution": {
     "iopub.execute_input": "2025-08-19T18:09:11.876233Z",
     "iopub.status.busy": "2025-08-19T18:09:11.874764Z",
     "iopub.status.idle": "2025-08-19T18:09:11.884786Z",
     "shell.execute_reply": "2025-08-19T18:09:11.883347Z"
    },
    "papermill": {
     "duration": 0.023574,
     "end_time": "2025-08-19T18:09:11.886510",
     "exception": false,
     "start_time": "2025-08-19T18:09:11.862936",
     "status": "completed"
    },
    "tags": []
   },
   "outputs": [],
   "source": [
    "# EXCLUDE PROTECTED FEATURES\n",
    "# --------------------------\n",
    "\n",
    "excluded_features = universe[\"exclude_features\"].split(\"-\")\n",
    "excluded_features_dictionary = {\n",
    "    \"nationality\": [\"maxdeutsch1\", \"maxdeutsch.Missing.\"],\n",
    "    \"sex\": [\"frau1\"],\n",
    "    \"age\": [\"age\"],\n",
    "}"
   ]
  },
  {
   "cell_type": "code",
   "execution_count": 22,
   "id": "f8e63555",
   "metadata": {
    "execution": {
     "iopub.execute_input": "2025-08-19T18:09:11.913406Z",
     "iopub.status.busy": "2025-08-19T18:09:11.912160Z",
     "iopub.status.idle": "2025-08-19T18:09:11.921357Z",
     "shell.execute_reply": "2025-08-19T18:09:11.920016Z"
    },
    "papermill": {
     "duration": 0.023351,
     "end_time": "2025-08-19T18:09:11.922890",
     "exception": false,
     "start_time": "2025-08-19T18:09:11.899539",
     "status": "completed"
    },
    "tags": []
   },
   "outputs": [],
   "source": [
    "excluded_features_columns = [\n",
    "    excluded_features_dictionary[f] for f in excluded_features if len(f) > 0 and f != \"none\"\n",
    "]"
   ]
  },
  {
   "cell_type": "code",
   "execution_count": 23,
   "id": "da781f7c",
   "metadata": {
    "execution": {
     "iopub.execute_input": "2025-08-19T18:09:11.948900Z",
     "iopub.status.busy": "2025-08-19T18:09:11.947487Z",
     "iopub.status.idle": "2025-08-19T18:09:11.955778Z",
     "shell.execute_reply": "2025-08-19T18:09:11.954471Z"
    },
    "papermill": {
     "duration": 0.021573,
     "end_time": "2025-08-19T18:09:11.957367",
     "exception": false,
     "start_time": "2025-08-19T18:09:11.935794",
     "status": "completed"
    },
    "tags": []
   },
   "outputs": [],
   "source": [
    "from fairness_multiverse.universe import flatten_once\n",
    "\n",
    "excluded_features_columns = flatten_once(excluded_features_columns)"
   ]
  },
  {
   "cell_type": "code",
   "execution_count": 24,
   "id": "37fef0f0",
   "metadata": {
    "execution": {
     "iopub.execute_input": "2025-08-19T18:09:11.983917Z",
     "iopub.status.busy": "2025-08-19T18:09:11.982781Z",
     "iopub.status.idle": "2025-08-19T18:09:12.025468Z",
     "shell.execute_reply": "2025-08-19T18:09:12.024304Z"
    },
    "papermill": {
     "duration": 0.057642,
     "end_time": "2025-08-19T18:09:12.028029",
     "exception": false,
     "start_time": "2025-08-19T18:09:11.970387",
     "status": "completed"
    },
    "tags": []
   },
   "outputs": [
    {
     "name": "stdout",
     "output_type": "stream",
     "text": [
      "Dropping features: ['maxdeutsch1', 'maxdeutsch.Missing.', 'frau1']\n"
     ]
    }
   ],
   "source": [
    "if len(excluded_features_columns) > 0:\n",
    "    print(f\"Dropping features: {excluded_features_columns}\")\n",
    "    X_train.drop(excluded_features_columns, axis=1, inplace=True)"
   ]
  },
  {
   "cell_type": "code",
   "execution_count": 25,
   "id": "d029e3e9",
   "metadata": {
    "execution": {
     "iopub.execute_input": "2025-08-19T18:09:12.066536Z",
     "iopub.status.busy": "2025-08-19T18:09:12.065283Z",
     "iopub.status.idle": "2025-08-19T18:09:12.128248Z",
     "shell.execute_reply": "2025-08-19T18:09:12.127191Z"
    },
    "papermill": {
     "duration": 0.079366,
     "end_time": "2025-08-19T18:09:12.130775",
     "exception": false,
     "start_time": "2025-08-19T18:09:12.051409",
     "status": "completed"
    },
    "tags": []
   },
   "outputs": [
    {
     "name": "stdout",
     "output_type": "stream",
     "text": [
      "Dropping features: ['maxdeutsch1', 'maxdeutsch.Missing.', 'frau1']\n"
     ]
    }
   ],
   "source": [
    "if len(excluded_features_columns) > 0:\n",
    "    print(f\"Dropping features: {excluded_features_columns}\")\n",
    "    X_test.drop(excluded_features_columns, axis=1, inplace=True)"
   ]
  },
  {
   "cell_type": "code",
   "execution_count": 26,
   "id": "01d571f0",
   "metadata": {
    "execution": {
     "iopub.execute_input": "2025-08-19T18:09:12.169404Z",
     "iopub.status.busy": "2025-08-19T18:09:12.168145Z",
     "iopub.status.idle": "2025-08-19T18:09:12.225773Z",
     "shell.execute_reply": "2025-08-19T18:09:12.224901Z"
    },
    "papermill": {
     "duration": 0.074045,
     "end_time": "2025-08-19T18:09:12.228229",
     "exception": false,
     "start_time": "2025-08-19T18:09:12.154184",
     "status": "completed"
    },
    "tags": []
   },
   "outputs": [
    {
     "name": "stdout",
     "output_type": "stream",
     "text": [
      "Dropping features: ['maxdeutsch1', 'maxdeutsch.Missing.', 'frau1']\n"
     ]
    }
   ],
   "source": [
    "if len(excluded_features_columns) > 0:\n",
    "    print(f\"Dropping features: {excluded_features_columns}\")\n",
    "    X_calib.drop(excluded_features_columns, axis=1, inplace=True)"
   ]
  },
  {
   "cell_type": "code",
   "execution_count": 27,
   "id": "3037356e",
   "metadata": {
    "execution": {
     "iopub.execute_input": "2025-08-19T18:09:12.267282Z",
     "iopub.status.busy": "2025-08-19T18:09:12.265921Z",
     "iopub.status.idle": "2025-08-19T18:09:12.275881Z",
     "shell.execute_reply": "2025-08-19T18:09:12.274039Z"
    },
    "papermill": {
     "duration": 0.025534,
     "end_time": "2025-08-19T18:09:12.277483",
     "exception": false,
     "start_time": "2025-08-19T18:09:12.251949",
     "status": "completed"
    },
    "tags": []
   },
   "outputs": [],
   "source": [
    "# EXCLUDE CERTAIN SUBGROUPS\n",
    "# -------------------------\n",
    "\n",
    "mode = universe.get(\"exclude_subgroups\", \"keep-all\") # Defaults to \"keep-all\" if the key is missing."
   ]
  },
  {
   "cell_type": "code",
   "execution_count": 28,
   "id": "9d1e63fd",
   "metadata": {
    "execution": {
     "iopub.execute_input": "2025-08-19T18:09:12.302597Z",
     "iopub.status.busy": "2025-08-19T18:09:12.302187Z",
     "iopub.status.idle": "2025-08-19T18:09:12.309025Z",
     "shell.execute_reply": "2025-08-19T18:09:12.308178Z"
    },
    "papermill": {
     "duration": 0.019429,
     "end_time": "2025-08-19T18:09:12.310256",
     "exception": false,
     "start_time": "2025-08-19T18:09:12.290827",
     "status": "completed"
    },
    "tags": []
   },
   "outputs": [],
   "source": [
    "if mode == \"keep-all\":\n",
    "    keep_mask = pd.Series(True, index=org_train.index)\n",
    "\n",
    "elif mode == \"drop-non-german\":\n",
    "    keep_mask = (org_train[\"maxdeutsch1\"] == 1) & (org_train[\"maxdeutsch.Missing.\"] == 0)\n",
    "\n",
    "else:\n",
    "    raise ValueError(f\"Unsupported mode for exclude_subgroups: {mode}\")"
   ]
  },
  {
   "cell_type": "code",
   "execution_count": 29,
   "id": "d3b65474",
   "metadata": {
    "execution": {
     "iopub.execute_input": "2025-08-19T18:09:12.334232Z",
     "iopub.status.busy": "2025-08-19T18:09:12.333268Z",
     "iopub.status.idle": "2025-08-19T18:09:12.339629Z",
     "shell.execute_reply": "2025-08-19T18:09:12.338867Z"
    },
    "papermill": {
     "duration": 0.01947,
     "end_time": "2025-08-19T18:09:12.340885",
     "exception": false,
     "start_time": "2025-08-19T18:09:12.321415",
     "status": "completed"
    },
    "tags": []
   },
   "outputs": [],
   "source": [
    "n_drop = (~keep_mask).sum() # Calculates how many rows are set to be dropped\n",
    "if n_drop > 0:\n",
    "    pct = n_drop / len(keep_mask) * 100\n",
    "    print(f\"Dropping {n_drop} rows ({pct:.2f}%) where mode='{mode}'\")"
   ]
  },
  {
   "cell_type": "code",
   "execution_count": 30,
   "id": "f44389b3",
   "metadata": {
    "execution": {
     "iopub.execute_input": "2025-08-19T18:09:12.363442Z",
     "iopub.status.busy": "2025-08-19T18:09:12.362960Z",
     "iopub.status.idle": "2025-08-19T18:09:12.389449Z",
     "shell.execute_reply": "2025-08-19T18:09:12.388415Z"
    },
    "papermill": {
     "duration": 0.040364,
     "end_time": "2025-08-19T18:09:12.391679",
     "exception": false,
     "start_time": "2025-08-19T18:09:12.351315",
     "status": "completed"
    },
    "tags": []
   },
   "outputs": [],
   "source": [
    "X_train = X_train[keep_mask]"
   ]
  },
  {
   "cell_type": "code",
   "execution_count": 31,
   "id": "ceca8c2a",
   "metadata": {
    "execution": {
     "iopub.execute_input": "2025-08-19T18:09:12.421174Z",
     "iopub.status.busy": "2025-08-19T18:09:12.420737Z",
     "iopub.status.idle": "2025-08-19T18:09:12.426326Z",
     "shell.execute_reply": "2025-08-19T18:09:12.425647Z"
    },
    "papermill": {
     "duration": 0.020228,
     "end_time": "2025-08-19T18:09:12.429178",
     "exception": false,
     "start_time": "2025-08-19T18:09:12.408950",
     "status": "completed"
    },
    "tags": []
   },
   "outputs": [],
   "source": [
    "y_train = y_train[keep_mask]"
   ]
  },
  {
   "cell_type": "markdown",
   "id": "04d31e2f",
   "metadata": {
    "papermill": {
     "duration": 0.01132,
     "end_time": "2025-08-19T18:09:12.451450",
     "exception": false,
     "start_time": "2025-08-19T18:09:12.440130",
     "status": "completed"
    },
    "tags": []
   },
   "source": [
    "# Model Training"
   ]
  },
  {
   "cell_type": "code",
   "execution_count": 32,
   "id": "db991733",
   "metadata": {
    "execution": {
     "iopub.execute_input": "2025-08-19T18:09:12.483887Z",
     "iopub.status.busy": "2025-08-19T18:09:12.483447Z",
     "iopub.status.idle": "2025-08-19T18:09:12.589662Z",
     "shell.execute_reply": "2025-08-19T18:09:12.588683Z"
    },
    "papermill": {
     "duration": 0.120979,
     "end_time": "2025-08-19T18:09:12.592652",
     "exception": false,
     "start_time": "2025-08-19T18:09:12.471673",
     "status": "completed"
    },
    "tags": []
   },
   "outputs": [],
   "source": [
    "from sklearn.linear_model import LogisticRegression\n",
    "from sklearn.ensemble import GradientBoostingClassifier, RandomForestClassifier\n",
    "\n",
    "if (universe[\"model\"] == \"logreg\"):\n",
    "    model = LogisticRegression() #penalty=\"none\", solver=\"newton-cg\", max_iter=1)\n",
    "elif (universe[\"model\"] == \"penalized_logreg\"):\n",
    "    model = LogisticRegression(penalty=\"l2\", C=0.1) #, solver=\"newton-cg\", max_iter=1)\n",
    "elif (universe[\"model\"] == \"rf\"):\n",
    "    model = RandomForestClassifier() # n_estimators=100, n_jobs=-1\n",
    "elif (universe[\"model\"] == \"gbm\"):\n",
    "    model = GradientBoostingClassifier()\n",
    "elif (universe[\"model\"] == \"elasticnet\"):\n",
    "    model = LogisticRegression(penalty = 'elasticnet', solver = 'saga', l1_ratio = 0.5) # max_iter=5000\n",
    "else:\n",
    "    raise \"Unsupported universe.model\""
   ]
  },
  {
   "cell_type": "code",
   "execution_count": 33,
   "id": "a4b5cd25",
   "metadata": {
    "execution": {
     "iopub.execute_input": "2025-08-19T18:09:12.617258Z",
     "iopub.status.busy": "2025-08-19T18:09:12.616776Z",
     "iopub.status.idle": "2025-08-19T18:09:12.622324Z",
     "shell.execute_reply": "2025-08-19T18:09:12.621577Z"
    },
    "papermill": {
     "duration": 0.031495,
     "end_time": "2025-08-19T18:09:12.636216",
     "exception": false,
     "start_time": "2025-08-19T18:09:12.604721",
     "status": "completed"
    },
    "tags": []
   },
   "outputs": [],
   "source": [
    "from sklearn.pipeline import Pipeline\n",
    "from sklearn.preprocessing import StandardScaler\n",
    "\n",
    "model = Pipeline([\n",
    "    #(\"continuous_processor\", continuous_processor),\n",
    "    #(\"categorical_preprocessor\", categorical_preprocessor),\n",
    "    (\"scale\", StandardScaler() if universe[\"scale\"] == \"scale\" else None), \n",
    "    (\"model\", model),\n",
    "])"
   ]
  },
  {
   "cell_type": "code",
   "execution_count": 34,
   "id": "283a904d",
   "metadata": {
    "execution": {
     "iopub.execute_input": "2025-08-19T18:09:12.670435Z",
     "iopub.status.busy": "2025-08-19T18:09:12.669924Z",
     "iopub.status.idle": "2025-08-19T18:09:13.780367Z",
     "shell.execute_reply": "2025-08-19T18:09:13.778687Z"
    },
    "papermill": {
     "duration": 1.124622,
     "end_time": "2025-08-19T18:09:13.782151",
     "exception": false,
     "start_time": "2025-08-19T18:09:12.657529",
     "status": "completed"
    },
    "tags": []
   },
   "outputs": [
    {
     "name": "stderr",
     "output_type": "stream",
     "text": [
      "/dss/dsshome1/0C/ra93lal2/.local/share/virtualenvs/CMA_Fairness_v2-3j10GkSs/lib/python3.10/site-packages/sklearn/linear_model/_logistic.py:444: ConvergenceWarning: lbfgs failed to converge (status=1):\n",
      "STOP: TOTAL NO. of ITERATIONS REACHED LIMIT.\n",
      "\n",
      "Increase the number of iterations (max_iter) or scale the data as shown in:\n",
      "    https://scikit-learn.org/stable/modules/preprocessing.html\n",
      "Please also refer to the documentation for alternative solver options:\n",
      "    https://scikit-learn.org/stable/modules/linear_model.html#logistic-regression\n",
      "  n_iter_i = _check_optimize_result(\n"
     ]
    },
    {
     "data": {
      "text/html": [
       "<style>#sk-container-id-1 {color: black;background-color: white;}#sk-container-id-1 pre{padding: 0;}#sk-container-id-1 div.sk-toggleable {background-color: white;}#sk-container-id-1 label.sk-toggleable__label {cursor: pointer;display: block;width: 100%;margin-bottom: 0;padding: 0.3em;box-sizing: border-box;text-align: center;}#sk-container-id-1 label.sk-toggleable__label-arrow:before {content: \"▸\";float: left;margin-right: 0.25em;color: #696969;}#sk-container-id-1 label.sk-toggleable__label-arrow:hover:before {color: black;}#sk-container-id-1 div.sk-estimator:hover label.sk-toggleable__label-arrow:before {color: black;}#sk-container-id-1 div.sk-toggleable__content {max-height: 0;max-width: 0;overflow: hidden;text-align: left;background-color: #f0f8ff;}#sk-container-id-1 div.sk-toggleable__content pre {margin: 0.2em;color: black;border-radius: 0.25em;background-color: #f0f8ff;}#sk-container-id-1 input.sk-toggleable__control:checked~div.sk-toggleable__content {max-height: 200px;max-width: 100%;overflow: auto;}#sk-container-id-1 input.sk-toggleable__control:checked~label.sk-toggleable__label-arrow:before {content: \"▾\";}#sk-container-id-1 div.sk-estimator input.sk-toggleable__control:checked~label.sk-toggleable__label {background-color: #d4ebff;}#sk-container-id-1 div.sk-label input.sk-toggleable__control:checked~label.sk-toggleable__label {background-color: #d4ebff;}#sk-container-id-1 input.sk-hidden--visually {border: 0;clip: rect(1px 1px 1px 1px);clip: rect(1px, 1px, 1px, 1px);height: 1px;margin: -1px;overflow: hidden;padding: 0;position: absolute;width: 1px;}#sk-container-id-1 div.sk-estimator {font-family: monospace;background-color: #f0f8ff;border: 1px dotted black;border-radius: 0.25em;box-sizing: border-box;margin-bottom: 0.5em;}#sk-container-id-1 div.sk-estimator:hover {background-color: #d4ebff;}#sk-container-id-1 div.sk-parallel-item::after {content: \"\";width: 100%;border-bottom: 1px solid gray;flex-grow: 1;}#sk-container-id-1 div.sk-label:hover label.sk-toggleable__label {background-color: #d4ebff;}#sk-container-id-1 div.sk-serial::before {content: \"\";position: absolute;border-left: 1px solid gray;box-sizing: border-box;top: 0;bottom: 0;left: 50%;z-index: 0;}#sk-container-id-1 div.sk-serial {display: flex;flex-direction: column;align-items: center;background-color: white;padding-right: 0.2em;padding-left: 0.2em;position: relative;}#sk-container-id-1 div.sk-item {position: relative;z-index: 1;}#sk-container-id-1 div.sk-parallel {display: flex;align-items: stretch;justify-content: center;background-color: white;position: relative;}#sk-container-id-1 div.sk-item::before, #sk-container-id-1 div.sk-parallel-item::before {content: \"\";position: absolute;border-left: 1px solid gray;box-sizing: border-box;top: 0;bottom: 0;left: 50%;z-index: -1;}#sk-container-id-1 div.sk-parallel-item {display: flex;flex-direction: column;z-index: 1;position: relative;background-color: white;}#sk-container-id-1 div.sk-parallel-item:first-child::after {align-self: flex-end;width: 50%;}#sk-container-id-1 div.sk-parallel-item:last-child::after {align-self: flex-start;width: 50%;}#sk-container-id-1 div.sk-parallel-item:only-child::after {width: 0;}#sk-container-id-1 div.sk-dashed-wrapped {border: 1px dashed gray;margin: 0 0.4em 0.5em 0.4em;box-sizing: border-box;padding-bottom: 0.4em;background-color: white;}#sk-container-id-1 div.sk-label label {font-family: monospace;font-weight: bold;display: inline-block;line-height: 1.2em;}#sk-container-id-1 div.sk-label-container {text-align: center;}#sk-container-id-1 div.sk-container {/* jupyter's `normalize.less` sets `[hidden] { display: none; }` but bootstrap.min.css set `[hidden] { display: none !important; }` so we also need the `!important` here to be able to override the default hidden behavior on the sphinx rendered scikit-learn.org. See: https://github.com/scikit-learn/scikit-learn/issues/21755 */display: inline-block !important;position: relative;}#sk-container-id-1 div.sk-text-repr-fallback {display: none;}</style><div id=\"sk-container-id-1\" class=\"sk-top-container\"><div class=\"sk-text-repr-fallback\"><pre>Pipeline(steps=[(&#x27;scale&#x27;, None), (&#x27;model&#x27;, LogisticRegression(C=0.1))])</pre><b>In a Jupyter environment, please rerun this cell to show the HTML representation or trust the notebook. <br />On GitHub, the HTML representation is unable to render, please try loading this page with nbviewer.org.</b></div><div class=\"sk-container\" hidden><div class=\"sk-item sk-dashed-wrapped\"><div class=\"sk-label-container\"><div class=\"sk-label sk-toggleable\"><input class=\"sk-toggleable__control sk-hidden--visually\" id=\"sk-estimator-id-1\" type=\"checkbox\" ><label for=\"sk-estimator-id-1\" class=\"sk-toggleable__label sk-toggleable__label-arrow\">Pipeline</label><div class=\"sk-toggleable__content\"><pre>Pipeline(steps=[(&#x27;scale&#x27;, None), (&#x27;model&#x27;, LogisticRegression(C=0.1))])</pre></div></div></div><div class=\"sk-serial\"><div class=\"sk-item\"><div class=\"sk-estimator sk-toggleable\"><input class=\"sk-toggleable__control sk-hidden--visually\" id=\"sk-estimator-id-2\" type=\"checkbox\" ><label for=\"sk-estimator-id-2\" class=\"sk-toggleable__label sk-toggleable__label-arrow\">None</label><div class=\"sk-toggleable__content\"><pre>None</pre></div></div></div><div class=\"sk-item\"><div class=\"sk-estimator sk-toggleable\"><input class=\"sk-toggleable__control sk-hidden--visually\" id=\"sk-estimator-id-3\" type=\"checkbox\" ><label for=\"sk-estimator-id-3\" class=\"sk-toggleable__label sk-toggleable__label-arrow\">LogisticRegression</label><div class=\"sk-toggleable__content\"><pre>LogisticRegression(C=0.1)</pre></div></div></div></div></div></div></div>"
      ],
      "text/plain": [
       "Pipeline(steps=[('scale', None), ('model', LogisticRegression(C=0.1))])"
      ]
     },
     "execution_count": 34,
     "metadata": {},
     "output_type": "execute_result"
    }
   ],
   "source": [
    "model.fit(X_train, y_train.values.ravel())"
   ]
  },
  {
   "cell_type": "code",
   "execution_count": 35,
   "id": "6e15e313",
   "metadata": {
    "execution": {
     "iopub.execute_input": "2025-08-19T18:09:13.823330Z",
     "iopub.status.busy": "2025-08-19T18:09:13.816992Z",
     "iopub.status.idle": "2025-08-19T18:09:13.992171Z",
     "shell.execute_reply": "2025-08-19T18:09:13.990985Z"
    },
    "papermill": {
     "duration": 0.200142,
     "end_time": "2025-08-19T18:09:13.993938",
     "exception": false,
     "start_time": "2025-08-19T18:09:13.793796",
     "status": "completed"
    },
    "tags": []
   },
   "outputs": [
    {
     "data": {
      "text/plain": [
       "0.8614647196522127"
      ]
     },
     "execution_count": 35,
     "metadata": {},
     "output_type": "execute_result"
    }
   ],
   "source": [
    "from fairness_multiverse.universe import predict_w_threshold\n",
    "\n",
    "probs_test = model.predict_proba(X_test)\n",
    "\n",
    "'''\n",
    "Below code returns a boolean array (or binary 0/1 array depending on how it’s used) where each element \n",
    "is True if the probability of class 1 is greater than or equal to the threshold, and False otherwise.\n",
    "'''\n",
    "y_pred_default = predict_w_threshold(probs_test, 0.5)\n",
    "\n",
    "from sklearn.metrics import accuracy_score\n",
    "\n",
    "# Naive prediction\n",
    "accuracy_score(y_true = y_true, y_pred = y_pred_default)"
   ]
  },
  {
   "cell_type": "code",
   "execution_count": 36,
   "id": "6f14067c",
   "metadata": {
    "execution": {
     "iopub.execute_input": "2025-08-19T18:09:14.096223Z",
     "iopub.status.busy": "2025-08-19T18:09:14.095796Z",
     "iopub.status.idle": "2025-08-19T18:09:14.187842Z",
     "shell.execute_reply": "2025-08-19T18:09:14.186912Z"
    },
    "papermill": {
     "duration": 0.18338,
     "end_time": "2025-08-19T18:09:14.189437",
     "exception": false,
     "start_time": "2025-08-19T18:09:14.006057",
     "status": "completed"
    },
    "tags": []
   },
   "outputs": [
    {
     "data": {
      "text/plain": [
       "array([0, 0, 0, ..., 0, 0, 0])"
      ]
     },
     "execution_count": 36,
     "metadata": {},
     "output_type": "execute_result"
    }
   ],
   "source": [
    "model.predict(X_test)"
   ]
  },
  {
   "cell_type": "markdown",
   "id": "3759920c",
   "metadata": {
    "papermill": {
     "duration": 0.011992,
     "end_time": "2025-08-19T18:09:14.215970",
     "exception": false,
     "start_time": "2025-08-19T18:09:14.203978",
     "status": "completed"
    },
    "tags": []
   },
   "source": [
    "# Conformal Prediction"
   ]
  },
  {
   "cell_type": "code",
   "execution_count": 37,
   "id": "14b27f59",
   "metadata": {
    "execution": {
     "iopub.execute_input": "2025-08-19T18:09:14.241471Z",
     "iopub.status.busy": "2025-08-19T18:09:14.241029Z",
     "iopub.status.idle": "2025-08-19T18:09:14.246795Z",
     "shell.execute_reply": "2025-08-19T18:09:14.245928Z"
    },
    "papermill": {
     "duration": 0.020588,
     "end_time": "2025-08-19T18:09:14.248439",
     "exception": false,
     "start_time": "2025-08-19T18:09:14.227851",
     "status": "completed"
    },
    "tags": []
   },
   "outputs": [],
   "source": [
    "# Miscoverage level for conformal prediction (10% allowed error rate => 90% target coverage)\n",
    "alpha = 0.1"
   ]
  },
  {
   "cell_type": "code",
   "execution_count": 38,
   "id": "59102472",
   "metadata": {
    "execution": {
     "iopub.execute_input": "2025-08-19T18:09:14.273952Z",
     "iopub.status.busy": "2025-08-19T18:09:14.273520Z",
     "iopub.status.idle": "2025-08-19T18:09:14.399738Z",
     "shell.execute_reply": "2025-08-19T18:09:14.398347Z"
    },
    "papermill": {
     "duration": 0.141003,
     "end_time": "2025-08-19T18:09:14.401485",
     "exception": false,
     "start_time": "2025-08-19T18:09:14.260482",
     "status": "completed"
    },
    "tags": []
   },
   "outputs": [],
   "source": [
    "probs_calib = model.predict_proba(X_calib)"
   ]
  },
  {
   "cell_type": "code",
   "execution_count": 39,
   "id": "a792d4dd",
   "metadata": {
    "execution": {
     "iopub.execute_input": "2025-08-19T18:09:14.438227Z",
     "iopub.status.busy": "2025-08-19T18:09:14.437294Z",
     "iopub.status.idle": "2025-08-19T18:09:14.444628Z",
     "shell.execute_reply": "2025-08-19T18:09:14.443779Z"
    },
    "papermill": {
     "duration": 0.029342,
     "end_time": "2025-08-19T18:09:14.446065",
     "exception": false,
     "start_time": "2025-08-19T18:09:14.416723",
     "status": "completed"
    },
    "tags": []
   },
   "outputs": [],
   "source": [
    "y_calib = y_calib.values.ravel().astype(int)"
   ]
  },
  {
   "cell_type": "code",
   "execution_count": 40,
   "id": "650fd033",
   "metadata": {
    "execution": {
     "iopub.execute_input": "2025-08-19T18:09:14.472060Z",
     "iopub.status.busy": "2025-08-19T18:09:14.470906Z",
     "iopub.status.idle": "2025-08-19T18:09:14.483427Z",
     "shell.execute_reply": "2025-08-19T18:09:14.482217Z"
    },
    "papermill": {
     "duration": 0.027052,
     "end_time": "2025-08-19T18:09:14.485161",
     "exception": false,
     "start_time": "2025-08-19T18:09:14.458109",
     "status": "completed"
    },
    "tags": []
   },
   "outputs": [],
   "source": [
    "from fairness_multiverse.conformal import compute_nc_scores\n",
    "\n",
    "# Compute nonconformity scores on calibration set (1 - probability of true class)\n",
    "nc_scores = compute_nc_scores(probs_calib, y_calib)"
   ]
  },
  {
   "cell_type": "code",
   "execution_count": 41,
   "id": "28ada44c",
   "metadata": {
    "execution": {
     "iopub.execute_input": "2025-08-19T18:09:14.515539Z",
     "iopub.status.busy": "2025-08-19T18:09:14.514234Z",
     "iopub.status.idle": "2025-08-19T18:09:14.527101Z",
     "shell.execute_reply": "2025-08-19T18:09:14.525467Z"
    },
    "papermill": {
     "duration": 0.028644,
     "end_time": "2025-08-19T18:09:14.528988",
     "exception": false,
     "start_time": "2025-08-19T18:09:14.500344",
     "status": "completed"
    },
    "tags": []
   },
   "outputs": [],
   "source": [
    "from fairness_multiverse.conformal import find_threshold\n",
    "\n",
    "# Find conformal threshold q_hat for the given alpha (split conformal method)\n",
    "q_hat = find_threshold(nc_scores, alpha)"
   ]
  },
  {
   "cell_type": "code",
   "execution_count": 42,
   "id": "df56469e",
   "metadata": {
    "execution": {
     "iopub.execute_input": "2025-08-19T18:09:14.571827Z",
     "iopub.status.busy": "2025-08-19T18:09:14.570764Z",
     "iopub.status.idle": "2025-08-19T18:09:14.578056Z",
     "shell.execute_reply": "2025-08-19T18:09:14.577057Z"
    },
    "papermill": {
     "duration": 0.024779,
     "end_time": "2025-08-19T18:09:14.580149",
     "exception": false,
     "start_time": "2025-08-19T18:09:14.555370",
     "status": "completed"
    },
    "tags": []
   },
   "outputs": [
    {
     "data": {
      "text/plain": [
       "0.6801155466889556"
      ]
     },
     "execution_count": 42,
     "metadata": {},
     "output_type": "execute_result"
    }
   ],
   "source": [
    "q_hat"
   ]
  },
  {
   "cell_type": "code",
   "execution_count": 43,
   "id": "aa1f5faa",
   "metadata": {
    "execution": {
     "iopub.execute_input": "2025-08-19T18:09:14.615388Z",
     "iopub.status.busy": "2025-08-19T18:09:14.614078Z",
     "iopub.status.idle": "2025-08-19T18:09:15.232843Z",
     "shell.execute_reply": "2025-08-19T18:09:15.231574Z"
    },
    "papermill": {
     "duration": 0.634725,
     "end_time": "2025-08-19T18:09:15.234896",
     "exception": false,
     "start_time": "2025-08-19T18:09:14.600171",
     "status": "completed"
    },
    "tags": []
   },
   "outputs": [],
   "source": [
    "from fairness_multiverse.conformal import predict_conformal_sets\n",
    "\n",
    "# Generate prediction sets for each test example\n",
    "pred_sets = predict_conformal_sets(model, X_test, q_hat)"
   ]
  },
  {
   "cell_type": "code",
   "execution_count": 44,
   "id": "97f67a6b",
   "metadata": {
    "execution": {
     "iopub.execute_input": "2025-08-19T18:09:15.262497Z",
     "iopub.status.busy": "2025-08-19T18:09:15.262015Z",
     "iopub.status.idle": "2025-08-19T18:09:15.270549Z",
     "shell.execute_reply": "2025-08-19T18:09:15.269263Z"
    },
    "papermill": {
     "duration": 0.02431,
     "end_time": "2025-08-19T18:09:15.273590",
     "exception": false,
     "start_time": "2025-08-19T18:09:15.249280",
     "status": "completed"
    },
    "tags": []
   },
   "outputs": [],
   "source": [
    "y_true = y_true.squeeze()"
   ]
  },
  {
   "cell_type": "code",
   "execution_count": 45,
   "id": "e700e9a7",
   "metadata": {
    "execution": {
     "iopub.execute_input": "2025-08-19T18:09:15.302044Z",
     "iopub.status.busy": "2025-08-19T18:09:15.301684Z",
     "iopub.status.idle": "2025-08-19T18:09:15.841853Z",
     "shell.execute_reply": "2025-08-19T18:09:15.840343Z"
    },
    "papermill": {
     "duration": 0.556291,
     "end_time": "2025-08-19T18:09:15.845074",
     "exception": false,
     "start_time": "2025-08-19T18:09:15.288783",
     "status": "completed"
    },
    "tags": []
   },
   "outputs": [],
   "source": [
    "from fairness_multiverse.conformal import evaluate_sets\n",
    "\n",
    "# Evaluate coverage and average set size on test data\n",
    "metrics = evaluate_sets(pred_sets, y_true)"
   ]
  },
  {
   "cell_type": "markdown",
   "id": "efbacec0",
   "metadata": {
    "papermill": {
     "duration": 0.012982,
     "end_time": "2025-08-19T18:09:15.883926",
     "exception": false,
     "start_time": "2025-08-19T18:09:15.870944",
     "status": "completed"
    },
    "tags": []
   },
   "source": [
    "# CP Metrics"
   ]
  },
  {
   "cell_type": "code",
   "execution_count": 46,
   "id": "9de55fb1",
   "metadata": {
    "execution": {
     "iopub.execute_input": "2025-08-19T18:09:15.911082Z",
     "iopub.status.busy": "2025-08-19T18:09:15.910289Z",
     "iopub.status.idle": "2025-08-19T18:09:15.920317Z",
     "shell.execute_reply": "2025-08-19T18:09:15.919425Z"
    },
    "papermill": {
     "duration": 0.025538,
     "end_time": "2025-08-19T18:09:15.921754",
     "exception": false,
     "start_time": "2025-08-19T18:09:15.896216",
     "status": "completed"
    },
    "tags": []
   },
   "outputs": [
    {
     "data": {
      "text/plain": [
       "{'coverage': 0.9116263515773046, 'avg_size': 1.1983390926318136}"
      ]
     },
     "execution_count": 46,
     "metadata": {},
     "output_type": "execute_result"
    }
   ],
   "source": [
    "metrics"
   ]
  },
  {
   "cell_type": "code",
   "execution_count": 47,
   "id": "64c340a1",
   "metadata": {
    "execution": {
     "iopub.execute_input": "2025-08-19T18:09:15.951482Z",
     "iopub.status.busy": "2025-08-19T18:09:15.950687Z",
     "iopub.status.idle": "2025-08-19T18:09:15.957721Z",
     "shell.execute_reply": "2025-08-19T18:09:15.956855Z"
    },
    "papermill": {
     "duration": 0.022302,
     "end_time": "2025-08-19T18:09:15.958929",
     "exception": false,
     "start_time": "2025-08-19T18:09:15.936627",
     "status": "completed"
    },
    "tags": []
   },
   "outputs": [],
   "source": [
    "example_universe = universe.copy()\n",
    "universe_training_year = example_universe.get(\"training_year\")\n",
    "universe_training_size = example_universe.get(\"training_size\")\n",
    "universe_scale = example_universe.get(\"scale\")\n",
    "universe_model = example_universe.get(\"model\")\n",
    "universe_exclude_features = example_universe.get(\"exclude_features\")\n",
    "universe_exclude_subgroups = example_universe.get(\"exclude_subgroups\")"
   ]
  },
  {
   "cell_type": "code",
   "execution_count": 48,
   "id": "dbb53cb4",
   "metadata": {
    "execution": {
     "iopub.execute_input": "2025-08-19T18:09:15.985089Z",
     "iopub.status.busy": "2025-08-19T18:09:15.984074Z",
     "iopub.status.idle": "2025-08-19T18:09:15.997942Z",
     "shell.execute_reply": "2025-08-19T18:09:15.996732Z"
    },
    "papermill": {
     "duration": 0.028214,
     "end_time": "2025-08-19T18:09:15.999461",
     "exception": false,
     "start_time": "2025-08-19T18:09:15.971247",
     "status": "completed"
    },
    "tags": []
   },
   "outputs": [],
   "source": [
    "cp_metrics_dict = {\n",
    "    \"universe_id\": [universe_id],\n",
    "    \"universe_training_year\": [universe_training_year],\n",
    "    \"universe_training_size\": [universe_training_size],\n",
    "    \"universe_scale\": [universe_scale],\n",
    "    \"universe_model\": [universe_model],\n",
    "    \"universe_exclude_features\": [universe_exclude_features],\n",
    "    \"universe_exclude_subgroups\": [universe_exclude_subgroups],\n",
    "    \"q_hat\": [q_hat],\n",
    "    \"coverage\": [metrics[\"coverage\"]],\n",
    "    \"avg_size\": [metrics[\"avg_size\"]],\n",
    "}"
   ]
  },
  {
   "cell_type": "code",
   "execution_count": 49,
   "id": "0d70d4b2",
   "metadata": {
    "execution": {
     "iopub.execute_input": "2025-08-19T18:09:16.033231Z",
     "iopub.status.busy": "2025-08-19T18:09:16.031192Z",
     "iopub.status.idle": "2025-08-19T18:09:16.046335Z",
     "shell.execute_reply": "2025-08-19T18:09:16.045046Z"
    },
    "papermill": {
     "duration": 0.037497,
     "end_time": "2025-08-19T18:09:16.049099",
     "exception": false,
     "start_time": "2025-08-19T18:09:16.011602",
     "status": "completed"
    },
    "tags": []
   },
   "outputs": [],
   "source": [
    "cp_metrics_df = pd.DataFrame(cp_metrics_dict)"
   ]
  },
  {
   "cell_type": "code",
   "execution_count": 50,
   "id": "b494403c",
   "metadata": {
    "execution": {
     "iopub.execute_input": "2025-08-19T18:09:16.081492Z",
     "iopub.status.busy": "2025-08-19T18:09:16.080763Z",
     "iopub.status.idle": "2025-08-19T18:09:16.113140Z",
     "shell.execute_reply": "2025-08-19T18:09:16.112019Z"
    },
    "papermill": {
     "duration": 0.050188,
     "end_time": "2025-08-19T18:09:16.114878",
     "exception": false,
     "start_time": "2025-08-19T18:09:16.064690",
     "status": "completed"
    },
    "tags": []
   },
   "outputs": [
    {
     "data": {
      "text/html": [
       "<div>\n",
       "<style scoped>\n",
       "    .dataframe tbody tr th:only-of-type {\n",
       "        vertical-align: middle;\n",
       "    }\n",
       "\n",
       "    .dataframe tbody tr th {\n",
       "        vertical-align: top;\n",
       "    }\n",
       "\n",
       "    .dataframe thead th {\n",
       "        text-align: right;\n",
       "    }\n",
       "</style>\n",
       "<table border=\"1\" class=\"dataframe\">\n",
       "  <thead>\n",
       "    <tr style=\"text-align: right;\">\n",
       "      <th></th>\n",
       "      <th>universe_id</th>\n",
       "      <th>universe_training_year</th>\n",
       "      <th>universe_training_size</th>\n",
       "      <th>universe_scale</th>\n",
       "      <th>universe_model</th>\n",
       "      <th>universe_exclude_features</th>\n",
       "      <th>universe_exclude_subgroups</th>\n",
       "      <th>q_hat</th>\n",
       "      <th>coverage</th>\n",
       "      <th>avg_size</th>\n",
       "    </tr>\n",
       "  </thead>\n",
       "  <tbody>\n",
       "    <tr>\n",
       "      <th>0</th>\n",
       "      <td>170244a627acf92dd2aa5db16aa9fd48</td>\n",
       "      <td>2012_14</td>\n",
       "      <td>25k</td>\n",
       "      <td>do-not-scale</td>\n",
       "      <td>penalized_logreg</td>\n",
       "      <td>nationality-sex</td>\n",
       "      <td>keep-all</td>\n",
       "      <td>0.680116</td>\n",
       "      <td>0.911626</td>\n",
       "      <td>1.198339</td>\n",
       "    </tr>\n",
       "  </tbody>\n",
       "</table>\n",
       "</div>"
      ],
      "text/plain": [
       "                        universe_id universe_training_year  \\\n",
       "0  170244a627acf92dd2aa5db16aa9fd48                2012_14   \n",
       "\n",
       "  universe_training_size universe_scale    universe_model  \\\n",
       "0                    25k   do-not-scale  penalized_logreg   \n",
       "\n",
       "  universe_exclude_features universe_exclude_subgroups     q_hat  coverage  \\\n",
       "0           nationality-sex                   keep-all  0.680116  0.911626   \n",
       "\n",
       "   avg_size  \n",
       "0  1.198339  "
      ]
     },
     "execution_count": 50,
     "metadata": {},
     "output_type": "execute_result"
    }
   ],
   "source": [
    "cp_metrics_df"
   ]
  },
  {
   "cell_type": "markdown",
   "id": "ed608b0b",
   "metadata": {
    "papermill": {
     "duration": 0.018757,
     "end_time": "2025-08-19T18:09:16.175641",
     "exception": false,
     "start_time": "2025-08-19T18:09:16.156884",
     "status": "completed"
    },
    "tags": []
   },
   "source": [
    "Conditional coverage & looking at subgroups"
   ]
  },
  {
   "cell_type": "code",
   "execution_count": 51,
   "id": "8968c366",
   "metadata": {
    "execution": {
     "iopub.execute_input": "2025-08-19T18:09:16.201976Z",
     "iopub.status.busy": "2025-08-19T18:09:16.201611Z",
     "iopub.status.idle": "2025-08-19T18:09:16.550740Z",
     "shell.execute_reply": "2025-08-19T18:09:16.549436Z"
    },
    "papermill": {
     "duration": 0.365383,
     "end_time": "2025-08-19T18:09:16.553877",
     "exception": false,
     "start_time": "2025-08-19T18:09:16.188494",
     "status": "completed"
    },
    "tags": []
   },
   "outputs": [],
   "source": [
    "from fairness_multiverse.conformal import build_cp_groups\n",
    "\n",
    "cp_groups_df = build_cp_groups(pred_sets, y_true, X_test.index, org_test)"
   ]
  },
  {
   "cell_type": "code",
   "execution_count": 52,
   "id": "292ddabf",
   "metadata": {
    "execution": {
     "iopub.execute_input": "2025-08-19T18:09:16.605180Z",
     "iopub.status.busy": "2025-08-19T18:09:16.604828Z",
     "iopub.status.idle": "2025-08-19T18:09:17.480526Z",
     "shell.execute_reply": "2025-08-19T18:09:17.479255Z"
    },
    "papermill": {
     "duration": 0.903458,
     "end_time": "2025-08-19T18:09:17.482335",
     "exception": false,
     "start_time": "2025-08-19T18:09:16.578877",
     "status": "completed"
    },
    "tags": []
   },
   "outputs": [],
   "source": [
    "# Define covered = 1 if true_label is in the predicted set\n",
    "cp_groups_df['covered'] = cp_groups_df.apply(\n",
    "    lambda r: int(r['true_label'] in r['pred_set']),\n",
    "    axis=1\n",
    ")"
   ]
  },
  {
   "cell_type": "code",
   "execution_count": 53,
   "id": "3a261692",
   "metadata": {
    "execution": {
     "iopub.execute_input": "2025-08-19T18:09:17.512187Z",
     "iopub.status.busy": "2025-08-19T18:09:17.510501Z",
     "iopub.status.idle": "2025-08-19T18:09:17.534757Z",
     "shell.execute_reply": "2025-08-19T18:09:17.534060Z"
    },
    "papermill": {
     "duration": 0.040488,
     "end_time": "2025-08-19T18:09:17.536137",
     "exception": false,
     "start_time": "2025-08-19T18:09:17.495649",
     "status": "completed"
    },
    "tags": []
   },
   "outputs": [],
   "source": [
    "subgroups = ['frau1','nongerman','nongerman_male','nongerman_female']\n",
    "\n",
    "# Conditional coverage for subgroup==1\n",
    "cond_coverage = {\n",
    "    g: cp_groups_df.loc[cp_groups_df[g]==1, 'covered'].mean()\n",
    "    for g in subgroups\n",
    "}"
   ]
  },
  {
   "cell_type": "code",
   "execution_count": 54,
   "id": "894fd600",
   "metadata": {
    "execution": {
     "iopub.execute_input": "2025-08-19T18:09:17.573352Z",
     "iopub.status.busy": "2025-08-19T18:09:17.572860Z",
     "iopub.status.idle": "2025-08-19T18:09:17.579974Z",
     "shell.execute_reply": "2025-08-19T18:09:17.579108Z"
    },
    "papermill": {
     "duration": 0.030109,
     "end_time": "2025-08-19T18:09:17.582359",
     "exception": false,
     "start_time": "2025-08-19T18:09:17.552250",
     "status": "completed"
    },
    "tags": []
   },
   "outputs": [
    {
     "data": {
      "text/plain": [
       "{'frau1': 0.9107426876937592,\n",
       " 'nongerman': 0.9274125638578566,\n",
       " 'nongerman_male': 0.9413671980545798,\n",
       " 'nongerman_female': 0.9043219076005962}"
      ]
     },
     "execution_count": 54,
     "metadata": {},
     "output_type": "execute_result"
    }
   ],
   "source": [
    "cond_coverage"
   ]
  },
  {
   "cell_type": "code",
   "execution_count": 55,
   "id": "942895c7",
   "metadata": {
    "execution": {
     "iopub.execute_input": "2025-08-19T18:09:17.624856Z",
     "iopub.status.busy": "2025-08-19T18:09:17.624343Z",
     "iopub.status.idle": "2025-08-19T18:09:17.631342Z",
     "shell.execute_reply": "2025-08-19T18:09:17.630463Z"
    },
    "papermill": {
     "duration": 0.029813,
     "end_time": "2025-08-19T18:09:17.633228",
     "exception": false,
     "start_time": "2025-08-19T18:09:17.603415",
     "status": "completed"
    },
    "tags": []
   },
   "outputs": [],
   "source": [
    "for subgroup, cov in cond_coverage.items():\n",
    "    cp_metrics_df[f\"cov_{subgroup}\"] = cov"
   ]
  },
  {
   "cell_type": "code",
   "execution_count": 56,
   "id": "3970120f",
   "metadata": {
    "execution": {
     "iopub.execute_input": "2025-08-19T18:09:17.671270Z",
     "iopub.status.busy": "2025-08-19T18:09:17.670839Z",
     "iopub.status.idle": "2025-08-19T18:09:17.688060Z",
     "shell.execute_reply": "2025-08-19T18:09:17.687182Z"
    },
    "papermill": {
     "duration": 0.033634,
     "end_time": "2025-08-19T18:09:17.689595",
     "exception": false,
     "start_time": "2025-08-19T18:09:17.655961",
     "status": "completed"
    },
    "tags": []
   },
   "outputs": [
    {
     "data": {
      "text/html": [
       "<div>\n",
       "<style scoped>\n",
       "    .dataframe tbody tr th:only-of-type {\n",
       "        vertical-align: middle;\n",
       "    }\n",
       "\n",
       "    .dataframe tbody tr th {\n",
       "        vertical-align: top;\n",
       "    }\n",
       "\n",
       "    .dataframe thead th {\n",
       "        text-align: right;\n",
       "    }\n",
       "</style>\n",
       "<table border=\"1\" class=\"dataframe\">\n",
       "  <thead>\n",
       "    <tr style=\"text-align: right;\">\n",
       "      <th></th>\n",
       "      <th>universe_id</th>\n",
       "      <th>universe_training_year</th>\n",
       "      <th>universe_training_size</th>\n",
       "      <th>universe_scale</th>\n",
       "      <th>universe_model</th>\n",
       "      <th>universe_exclude_features</th>\n",
       "      <th>universe_exclude_subgroups</th>\n",
       "      <th>q_hat</th>\n",
       "      <th>coverage</th>\n",
       "      <th>avg_size</th>\n",
       "      <th>cov_frau1</th>\n",
       "      <th>cov_nongerman</th>\n",
       "      <th>cov_nongerman_male</th>\n",
       "      <th>cov_nongerman_female</th>\n",
       "    </tr>\n",
       "  </thead>\n",
       "  <tbody>\n",
       "    <tr>\n",
       "      <th>0</th>\n",
       "      <td>170244a627acf92dd2aa5db16aa9fd48</td>\n",
       "      <td>2012_14</td>\n",
       "      <td>25k</td>\n",
       "      <td>do-not-scale</td>\n",
       "      <td>penalized_logreg</td>\n",
       "      <td>nationality-sex</td>\n",
       "      <td>keep-all</td>\n",
       "      <td>0.680116</td>\n",
       "      <td>0.911626</td>\n",
       "      <td>1.198339</td>\n",
       "      <td>0.910743</td>\n",
       "      <td>0.927413</td>\n",
       "      <td>0.941367</td>\n",
       "      <td>0.904322</td>\n",
       "    </tr>\n",
       "  </tbody>\n",
       "</table>\n",
       "</div>"
      ],
      "text/plain": [
       "                        universe_id universe_training_year  \\\n",
       "0  170244a627acf92dd2aa5db16aa9fd48                2012_14   \n",
       "\n",
       "  universe_training_size universe_scale    universe_model  \\\n",
       "0                    25k   do-not-scale  penalized_logreg   \n",
       "\n",
       "  universe_exclude_features universe_exclude_subgroups     q_hat  coverage  \\\n",
       "0           nationality-sex                   keep-all  0.680116  0.911626   \n",
       "\n",
       "   avg_size  cov_frau1  cov_nongerman  cov_nongerman_male  \\\n",
       "0  1.198339   0.910743       0.927413            0.941367   \n",
       "\n",
       "   cov_nongerman_female  \n",
       "0              0.904322  "
      ]
     },
     "execution_count": 56,
     "metadata": {},
     "output_type": "execute_result"
    }
   ],
   "source": [
    "cp_metrics_df"
   ]
  },
  {
   "cell_type": "markdown",
   "id": "3fc519cc",
   "metadata": {
    "papermill": {
     "duration": 0.013733,
     "end_time": "2025-08-19T18:09:17.720765",
     "exception": false,
     "start_time": "2025-08-19T18:09:17.707032",
     "status": "completed"
    },
    "tags": []
   },
   "source": [
    "# (Fairness) Metrics"
   ]
  },
  {
   "cell_type": "code",
   "execution_count": 57,
   "id": "a2e5e155",
   "metadata": {
    "execution": {
     "iopub.execute_input": "2025-08-19T18:09:17.748734Z",
     "iopub.status.busy": "2025-08-19T18:09:17.748183Z",
     "iopub.status.idle": "2025-08-19T18:09:17.766475Z",
     "shell.execute_reply": "2025-08-19T18:09:17.765724Z"
    },
    "papermill": {
     "duration": 0.034217,
     "end_time": "2025-08-19T18:09:17.768271",
     "exception": false,
     "start_time": "2025-08-19T18:09:17.734054",
     "status": "completed"
    },
    "tags": []
   },
   "outputs": [],
   "source": [
    "colname_to_bin = \"maxdeutsch1\"\n",
    "majority_value = org_train[colname_to_bin].mode()[0]\n",
    "\n",
    "org_test[\"majmin\"] = np.where(org_test[colname_to_bin] == majority_value, \"majority\", \"minority\")"
   ]
  },
  {
   "cell_type": "code",
   "execution_count": 58,
   "id": "17e3e4d5",
   "metadata": {
    "execution": {
     "iopub.execute_input": "2025-08-19T18:09:17.796986Z",
     "iopub.status.busy": "2025-08-19T18:09:17.795765Z",
     "iopub.status.idle": "2025-08-19T18:09:19.573544Z",
     "shell.execute_reply": "2025-08-19T18:09:19.569904Z"
    },
    "papermill": {
     "duration": 1.797277,
     "end_time": "2025-08-19T18:09:19.578975",
     "exception": false,
     "start_time": "2025-08-19T18:09:17.781698",
     "status": "completed"
    },
    "tags": []
   },
   "outputs": [],
   "source": [
    "example_universe = universe.copy()\n",
    "example_universe[\"cutoff\"] = example_universe[\"cutoff\"][0]\n",
    "example_universe[\"eval_fairness_grouping\"] = example_universe[\"eval_fairness_grouping\"][0]\n",
    "fairness_dict, metric_frame = universe_analysis.compute_metrics(\n",
    "    example_universe,\n",
    "    y_pred_prob=probs_test,\n",
    "    y_test=y_true,\n",
    "    org_test=org_test,\n",
    ")"
   ]
  },
  {
   "cell_type": "markdown",
   "id": "1fb7a0e9",
   "metadata": {
    "papermill": {
     "duration": 0.026522,
     "end_time": "2025-08-19T18:09:19.627052",
     "exception": false,
     "start_time": "2025-08-19T18:09:19.600530",
     "status": "completed"
    },
    "tags": []
   },
   "source": [
    "# Overall"
   ]
  },
  {
   "cell_type": "markdown",
   "id": "be1784b1",
   "metadata": {
    "papermill": {
     "duration": 0.012099,
     "end_time": "2025-08-19T18:09:19.653913",
     "exception": false,
     "start_time": "2025-08-19T18:09:19.641814",
     "status": "completed"
    },
    "tags": []
   },
   "source": [
    "Main fairness target: Equalized Odds. Seems to be a better fit than equal opportunity, since we're not only interested in Y = 1. Seems to be a better fit than demographic parity, since we also care about accuracy, not just equal distribution of preds.\n",
    "\n",
    "Pick column for computation of fairness metrics\n",
    "\n",
    "Performance\n",
    "Overall performance measures, most interesting in relation to the measures split by group below"
   ]
  },
  {
   "cell_type": "code",
   "execution_count": 59,
   "id": "b7672bee",
   "metadata": {
    "execution": {
     "iopub.execute_input": "2025-08-19T18:09:19.689504Z",
     "iopub.status.busy": "2025-08-19T18:09:19.688951Z",
     "iopub.status.idle": "2025-08-19T18:09:19.708449Z",
     "shell.execute_reply": "2025-08-19T18:09:19.707670Z"
    },
    "papermill": {
     "duration": 0.045629,
     "end_time": "2025-08-19T18:09:19.712179",
     "exception": false,
     "start_time": "2025-08-19T18:09:19.666550",
     "status": "completed"
    },
    "tags": []
   },
   "outputs": [
    {
     "data": {
      "text/plain": [
       "accuracy                   0.218270\n",
       "balanced accuracy          0.534979\n",
       "f1                         0.239769\n",
       "precision                  0.136972\n",
       "false positive rate        0.891026\n",
       "false negative rate        0.039016\n",
       "selection rate             0.900000\n",
       "count                  89710.000000\n",
       "dtype: float64"
      ]
     },
     "execution_count": 59,
     "metadata": {},
     "output_type": "execute_result"
    }
   ],
   "source": [
    "metric_frame.overall"
   ]
  },
  {
   "cell_type": "markdown",
   "id": "d93333c9",
   "metadata": {
    "papermill": {
     "duration": 0.013553,
     "end_time": "2025-08-19T18:09:19.745801",
     "exception": false,
     "start_time": "2025-08-19T18:09:19.732248",
     "status": "completed"
    },
    "tags": []
   },
   "source": [
    "By Group"
   ]
  },
  {
   "cell_type": "code",
   "execution_count": 60,
   "id": "52256966",
   "metadata": {
    "execution": {
     "iopub.execute_input": "2025-08-19T18:09:19.774255Z",
     "iopub.status.busy": "2025-08-19T18:09:19.773103Z",
     "iopub.status.idle": "2025-08-19T18:09:19.794447Z",
     "shell.execute_reply": "2025-08-19T18:09:19.793015Z"
    },
    "papermill": {
     "duration": 0.037939,
     "end_time": "2025-08-19T18:09:19.796668",
     "exception": false,
     "start_time": "2025-08-19T18:09:19.758729",
     "status": "completed"
    },
    "tags": []
   },
   "outputs": [
    {
     "data": {
      "text/html": [
       "<div>\n",
       "<style scoped>\n",
       "    .dataframe tbody tr th:only-of-type {\n",
       "        vertical-align: middle;\n",
       "    }\n",
       "\n",
       "    .dataframe tbody tr th {\n",
       "        vertical-align: top;\n",
       "    }\n",
       "\n",
       "    .dataframe thead th {\n",
       "        text-align: right;\n",
       "    }\n",
       "</style>\n",
       "<table border=\"1\" class=\"dataframe\">\n",
       "  <thead>\n",
       "    <tr style=\"text-align: right;\">\n",
       "      <th></th>\n",
       "      <th>accuracy</th>\n",
       "      <th>balanced accuracy</th>\n",
       "      <th>f1</th>\n",
       "      <th>precision</th>\n",
       "      <th>false positive rate</th>\n",
       "      <th>false negative rate</th>\n",
       "      <th>selection rate</th>\n",
       "      <th>count</th>\n",
       "    </tr>\n",
       "    <tr>\n",
       "      <th>majmin</th>\n",
       "      <th></th>\n",
       "      <th></th>\n",
       "      <th></th>\n",
       "      <th></th>\n",
       "      <th></th>\n",
       "      <th></th>\n",
       "      <th></th>\n",
       "      <th></th>\n",
       "    </tr>\n",
       "  </thead>\n",
       "  <tbody>\n",
       "    <tr>\n",
       "      <th>majority</th>\n",
       "      <td>0.241000</td>\n",
       "      <td>0.543519</td>\n",
       "      <td>0.249485</td>\n",
       "      <td>0.143491</td>\n",
       "      <td>0.867666</td>\n",
       "      <td>0.045295</td>\n",
       "      <td>0.879167</td>\n",
       "      <td>69170.0</td>\n",
       "    </tr>\n",
       "    <tr>\n",
       "      <th>minority</th>\n",
       "      <td>0.141723</td>\n",
       "      <td>0.508513</td>\n",
       "      <td>0.209285</td>\n",
       "      <td>0.117077</td>\n",
       "      <td>0.968193</td>\n",
       "      <td>0.014780</td>\n",
       "      <td>0.970156</td>\n",
       "      <td>20540.0</td>\n",
       "    </tr>\n",
       "  </tbody>\n",
       "</table>\n",
       "</div>"
      ],
      "text/plain": [
       "          accuracy  balanced accuracy        f1  precision  \\\n",
       "majmin                                                       \n",
       "majority  0.241000           0.543519  0.249485   0.143491   \n",
       "minority  0.141723           0.508513  0.209285   0.117077   \n",
       "\n",
       "          false positive rate  false negative rate  selection rate    count  \n",
       "majmin                                                                       \n",
       "majority             0.867666             0.045295        0.879167  69170.0  \n",
       "minority             0.968193             0.014780        0.970156  20540.0  "
      ]
     },
     "execution_count": 60,
     "metadata": {},
     "output_type": "execute_result"
    }
   ],
   "source": [
    "metric_frame.by_group"
   ]
  },
  {
   "cell_type": "code",
   "execution_count": 61,
   "id": "6e6c20ae",
   "metadata": {
    "execution": {
     "iopub.execute_input": "2025-08-19T18:09:19.838553Z",
     "iopub.status.busy": "2025-08-19T18:09:19.833984Z",
     "iopub.status.idle": "2025-08-19T18:09:21.636943Z",
     "shell.execute_reply": "2025-08-19T18:09:21.635979Z"
    },
    "papermill": {
     "duration": 1.818999,
     "end_time": "2025-08-19T18:09:21.638397",
     "exception": false,
     "start_time": "2025-08-19T18:09:19.819398",
     "status": "completed"
    },
    "tags": []
   },
   "outputs": [
    {
     "data": {
      "text/plain": [
       "array([[<Axes: title={'center': 'accuracy'}, xlabel='majmin'>,\n",
       "        <Axes: title={'center': 'balanced accuracy'}, xlabel='majmin'>,\n",
       "        <Axes: title={'center': 'f1'}, xlabel='majmin'>],\n",
       "       [<Axes: title={'center': 'precision'}, xlabel='majmin'>,\n",
       "        <Axes: title={'center': 'false positive rate'}, xlabel='majmin'>,\n",
       "        <Axes: title={'center': 'false negative rate'}, xlabel='majmin'>],\n",
       "       [<Axes: title={'center': 'selection rate'}, xlabel='majmin'>,\n",
       "        <Axes: title={'center': 'count'}, xlabel='majmin'>,\n",
       "        <Axes: xlabel='majmin'>]], dtype=object)"
      ]
     },
     "execution_count": 61,
     "metadata": {},
     "output_type": "execute_result"
    },
    {
     "data": {
      "image/png": "[encoded data removed]",
      "text/plain": [
       "<Figure size 1200x800 with 9 Axes>"
      ]
     },
     "metadata": {},
     "output_type": "display_data"
    }
   ],
   "source": [
    "# In a graphic\n",
    "metric_frame.by_group.plot.bar(\n",
    "    subplots=True,\n",
    "    layout=[3, 3],\n",
    "    legend=False,\n",
    "    figsize=[12, 8],\n",
    "    title=\"Show all metrics\",\n",
    ")"
   ]
  },
  {
   "cell_type": "markdown",
   "id": "b2e433ae",
   "metadata": {
    "papermill": {
     "duration": 0.014609,
     "end_time": "2025-08-19T18:09:21.667618",
     "exception": false,
     "start_time": "2025-08-19T18:09:21.653009",
     "status": "completed"
    },
    "tags": []
   },
   "source": [
    "# Final Output"
   ]
  },
  {
   "cell_type": "code",
   "execution_count": 62,
   "id": "3871301e",
   "metadata": {
    "execution": {
     "iopub.execute_input": "2025-08-19T18:09:21.697421Z",
     "iopub.status.busy": "2025-08-19T18:09:21.696484Z",
     "iopub.status.idle": "2025-08-19T18:09:21.705777Z",
     "shell.execute_reply": "2025-08-19T18:09:21.705117Z"
    },
    "papermill": {
     "duration": 0.026056,
     "end_time": "2025-08-19T18:09:21.707128",
     "exception": false,
     "start_time": "2025-08-19T18:09:21.681072",
     "status": "completed"
    },
    "tags": []
   },
   "outputs": [
    {
     "data": {
      "text/plain": [
       "4"
      ]
     },
     "execution_count": 62,
     "metadata": {},
     "output_type": "execute_result"
    }
   ],
   "source": [
    "sub_universes = universe_analysis.generate_sub_universes()\n",
    "len(sub_universes)"
   ]
  },
  {
   "cell_type": "code",
   "execution_count": 63,
   "id": "d9cfdaca",
   "metadata": {
    "execution": {
     "iopub.execute_input": "2025-08-19T18:09:21.738644Z",
     "iopub.status.busy": "2025-08-19T18:09:21.737684Z",
     "iopub.status.idle": "2025-08-19T18:09:21.745423Z",
     "shell.execute_reply": "2025-08-19T18:09:21.744375Z"
    },
    "papermill": {
     "duration": 0.024269,
     "end_time": "2025-08-19T18:09:21.747220",
     "exception": false,
     "start_time": "2025-08-19T18:09:21.722951",
     "status": "completed"
    },
    "tags": []
   },
   "outputs": [],
   "source": [
    "def filter_sub_universe_data(sub_universe, org_test):\n",
    "    # Keep all rows — no filtering\n",
    "    keep_rows_mask = np.ones(org_test.shape[0], dtype=bool)\n",
    "\n",
    "    print(f\"[INFO] Keeping all rows: {keep_rows_mask.sum()} rows retained.\")\n",
    "    return keep_rows_mask"
   ]
  },
  {
   "cell_type": "code",
   "execution_count": 64,
   "id": "2bc31ac1",
   "metadata": {
    "execution": {
     "iopub.execute_input": "2025-08-19T18:09:21.779085Z",
     "iopub.status.busy": "2025-08-19T18:09:21.778281Z",
     "iopub.status.idle": "2025-08-19T18:09:28.600579Z",
     "shell.execute_reply": "2025-08-19T18:09:28.599627Z"
    },
    "papermill": {
     "duration": 6.838503,
     "end_time": "2025-08-19T18:09:28.601882",
     "exception": false,
     "start_time": "2025-08-19T18:09:21.763379",
     "status": "completed"
    },
    "tags": []
   },
   "outputs": [
    {
     "name": "stdout",
     "output_type": "stream",
     "text": [
      "Stopping execution_time clock.\n",
      "[INFO] Keeping all rows: 89710 rows retained.\n"
     ]
    },
    {
     "name": "stdout",
     "output_type": "stream",
     "text": [
      "[INFO] Keeping all rows: 89710 rows retained.\n"
     ]
    },
    {
     "name": "stdout",
     "output_type": "stream",
     "text": [
      "[INFO] Keeping all rows: 89710 rows retained.\n"
     ]
    },
    {
     "name": "stdout",
     "output_type": "stream",
     "text": [
      "[INFO] Keeping all rows: 89710 rows retained.\n"
     ]
    },
    {
     "data": {
      "text/html": [
       "<div>\n",
       "<style scoped>\n",
       "    .dataframe tbody tr th:only-of-type {\n",
       "        vertical-align: middle;\n",
       "    }\n",
       "\n",
       "    .dataframe tbody tr th {\n",
       "        vertical-align: top;\n",
       "    }\n",
       "\n",
       "    .dataframe thead th {\n",
       "        text-align: right;\n",
       "    }\n",
       "</style>\n",
       "<table border=\"1\" class=\"dataframe\">\n",
       "  <thead>\n",
       "    <tr style=\"text-align: right;\">\n",
       "      <th></th>\n",
       "      <th>run_no</th>\n",
       "      <th>universe_id</th>\n",
       "      <th>universe_settings</th>\n",
       "      <th>execution_time</th>\n",
       "      <th>test_size_n</th>\n",
       "      <th>test_size_frac</th>\n",
       "      <th>fair_main_equalized_odds_difference</th>\n",
       "      <th>fair_main_equalized_odds_ratio</th>\n",
       "      <th>fair_main_demographic_parity_difference</th>\n",
       "      <th>fair_main_demographic_parity_ratio</th>\n",
       "      <th>...</th>\n",
       "      <th>perf_grp_precision_0</th>\n",
       "      <th>perf_grp_precision_1</th>\n",
       "      <th>perf_grp_false positive rate_0</th>\n",
       "      <th>perf_grp_false positive rate_1</th>\n",
       "      <th>perf_grp_false negative rate_0</th>\n",
       "      <th>perf_grp_false negative rate_1</th>\n",
       "      <th>perf_grp_selection rate_0</th>\n",
       "      <th>perf_grp_selection rate_1</th>\n",
       "      <th>perf_grp_count_0</th>\n",
       "      <th>perf_grp_count_1</th>\n",
       "    </tr>\n",
       "  </thead>\n",
       "  <tbody>\n",
       "    <tr>\n",
       "      <th>0</th>\n",
       "      <td>3</td>\n",
       "      <td>170244a627acf92dd2aa5db16aa9fd48</td>\n",
       "      <td>{\"cutoff\": \"quantile_0.1\", \"eval_fairness_grou...</td>\n",
       "      <td>23.410661</td>\n",
       "      <td>89710</td>\n",
       "      <td>1.0</td>\n",
       "      <td>0.100527</td>\n",
       "      <td>0.896171</td>\n",
       "      <td>0.090989</td>\n",
       "      <td>0.906212</td>\n",
       "      <td>...</td>\n",
       "      <td>NaN</td>\n",
       "      <td>NaN</td>\n",
       "      <td>NaN</td>\n",
       "      <td>NaN</td>\n",
       "      <td>NaN</td>\n",
       "      <td>NaN</td>\n",
       "      <td>NaN</td>\n",
       "      <td>NaN</td>\n",
       "      <td>NaN</td>\n",
       "      <td>NaN</td>\n",
       "    </tr>\n",
       "    <tr>\n",
       "      <th>0</th>\n",
       "      <td>3</td>\n",
       "      <td>170244a627acf92dd2aa5db16aa9fd48</td>\n",
       "      <td>{\"cutoff\": \"quantile_0.1\", \"eval_fairness_grou...</td>\n",
       "      <td>23.410661</td>\n",
       "      <td>89710</td>\n",
       "      <td>1.0</td>\n",
       "      <td>0.100527</td>\n",
       "      <td>0.896171</td>\n",
       "      <td>0.090989</td>\n",
       "      <td>0.906212</td>\n",
       "      <td>...</td>\n",
       "      <td>0.117077</td>\n",
       "      <td>0.143491</td>\n",
       "      <td>0.968193</td>\n",
       "      <td>0.867666</td>\n",
       "      <td>0.014780</td>\n",
       "      <td>0.045295</td>\n",
       "      <td>0.970156</td>\n",
       "      <td>0.879167</td>\n",
       "      <td>20540.0</td>\n",
       "      <td>69170.0</td>\n",
       "    </tr>\n",
       "    <tr>\n",
       "      <th>0</th>\n",
       "      <td>3</td>\n",
       "      <td>170244a627acf92dd2aa5db16aa9fd48</td>\n",
       "      <td>{\"cutoff\": \"quantile_0.25\", \"eval_fairness_gro...</td>\n",
       "      <td>23.410661</td>\n",
       "      <td>89710</td>\n",
       "      <td>1.0</td>\n",
       "      <td>0.219950</td>\n",
       "      <td>0.755315</td>\n",
       "      <td>0.201243</td>\n",
       "      <td>0.777672</td>\n",
       "      <td>...</td>\n",
       "      <td>NaN</td>\n",
       "      <td>NaN</td>\n",
       "      <td>NaN</td>\n",
       "      <td>NaN</td>\n",
       "      <td>NaN</td>\n",
       "      <td>NaN</td>\n",
       "      <td>NaN</td>\n",
       "      <td>NaN</td>\n",
       "      <td>NaN</td>\n",
       "      <td>NaN</td>\n",
       "    </tr>\n",
       "    <tr>\n",
       "      <th>0</th>\n",
       "      <td>3</td>\n",
       "      <td>170244a627acf92dd2aa5db16aa9fd48</td>\n",
       "      <td>{\"cutoff\": \"quantile_0.25\", \"eval_fairness_gro...</td>\n",
       "      <td>23.410661</td>\n",
       "      <td>89710</td>\n",
       "      <td>1.0</td>\n",
       "      <td>0.219950</td>\n",
       "      <td>0.755315</td>\n",
       "      <td>0.201243</td>\n",
       "      <td>0.777672</td>\n",
       "      <td>...</td>\n",
       "      <td>0.121396</td>\n",
       "      <td>0.162908</td>\n",
       "      <td>0.898910</td>\n",
       "      <td>0.678961</td>\n",
       "      <td>0.046875</td>\n",
       "      <td>0.132166</td>\n",
       "      <td>0.905161</td>\n",
       "      <td>0.703918</td>\n",
       "      <td>20540.0</td>\n",
       "      <td>69170.0</td>\n",
       "    </tr>\n",
       "  </tbody>\n",
       "</table>\n",
       "<p>4 rows × 50 columns</p>\n",
       "</div>"
      ],
      "text/plain": [
       "  run_no                       universe_id  \\\n",
       "0      3  170244a627acf92dd2aa5db16aa9fd48   \n",
       "0      3  170244a627acf92dd2aa5db16aa9fd48   \n",
       "0      3  170244a627acf92dd2aa5db16aa9fd48   \n",
       "0      3  170244a627acf92dd2aa5db16aa9fd48   \n",
       "\n",
       "                                   universe_settings  execution_time  \\\n",
       "0  {\"cutoff\": \"quantile_0.1\", \"eval_fairness_grou...       23.410661   \n",
       "0  {\"cutoff\": \"quantile_0.1\", \"eval_fairness_grou...       23.410661   \n",
       "0  {\"cutoff\": \"quantile_0.25\", \"eval_fairness_gro...       23.410661   \n",
       "0  {\"cutoff\": \"quantile_0.25\", \"eval_fairness_gro...       23.410661   \n",
       "\n",
       "   test_size_n  test_size_frac  fair_main_equalized_odds_difference  \\\n",
       "0        89710             1.0                             0.100527   \n",
       "0        89710             1.0                             0.100527   \n",
       "0        89710             1.0                             0.219950   \n",
       "0        89710             1.0                             0.219950   \n",
       "\n",
       "   fair_main_equalized_odds_ratio  fair_main_demographic_parity_difference  \\\n",
       "0                        0.896171                                 0.090989   \n",
       "0                        0.896171                                 0.090989   \n",
       "0                        0.755315                                 0.201243   \n",
       "0                        0.755315                                 0.201243   \n",
       "\n",
       "   fair_main_demographic_parity_ratio  ...  perf_grp_precision_0  \\\n",
       "0                            0.906212  ...                   NaN   \n",
       "0                            0.906212  ...              0.117077   \n",
       "0                            0.777672  ...                   NaN   \n",
       "0                            0.777672  ...              0.121396   \n",
       "\n",
       "   perf_grp_precision_1  perf_grp_false positive rate_0  \\\n",
       "0                   NaN                             NaN   \n",
       "0              0.143491                        0.968193   \n",
       "0                   NaN                             NaN   \n",
       "0              0.162908                        0.898910   \n",
       "\n",
       "   perf_grp_false positive rate_1  perf_grp_false negative rate_0  \\\n",
       "0                             NaN                             NaN   \n",
       "0                        0.867666                        0.014780   \n",
       "0                             NaN                             NaN   \n",
       "0                        0.678961                        0.046875   \n",
       "\n",
       "   perf_grp_false negative rate_1  perf_grp_selection rate_0  \\\n",
       "0                             NaN                        NaN   \n",
       "0                        0.045295                   0.970156   \n",
       "0                             NaN                        NaN   \n",
       "0                        0.132166                   0.905161   \n",
       "\n",
       "   perf_grp_selection rate_1  perf_grp_count_0  perf_grp_count_1  \n",
       "0                        NaN               NaN               NaN  \n",
       "0                   0.879167           20540.0           69170.0  \n",
       "0                        NaN               NaN               NaN  \n",
       "0                   0.703918           20540.0           69170.0  \n",
       "\n",
       "[4 rows x 50 columns]"
      ]
     },
     "execution_count": 64,
     "metadata": {},
     "output_type": "execute_result"
    }
   ],
   "source": [
    "final_output = universe_analysis.generate_final_output(\n",
    "    y_pred_prob=probs_test,\n",
    "    y_test=y_true,\n",
    "    org_test=org_test,\n",
    "    filter_data=filter_sub_universe_data,\n",
    "    cp_metrics_df=cp_metrics_df,\n",
    "    save=True,\n",
    ")\n",
    "final_output"
   ]
  },
  {
   "cell_type": "code",
   "execution_count": null,
   "id": "8b80a1ff",
   "metadata": {
    "papermill": {
     "duration": 0.016764,
     "end_time": "2025-08-19T18:09:28.636280",
     "exception": false,
     "start_time": "2025-08-19T18:09:28.619516",
     "status": "completed"
    },
    "tags": []
   },
   "outputs": [],
   "source": []
  },
  {
   "cell_type": "code",
   "execution_count": null,
   "id": "275c9fad",
   "metadata": {
    "papermill": {
     "duration": 0.014824,
     "end_time": "2025-08-19T18:09:28.675652",
     "exception": false,
     "start_time": "2025-08-19T18:09:28.660828",
     "status": "completed"
    },
    "tags": []
   },
   "outputs": [],
   "source": []
  }
 ],
 "metadata": {
  "celltoolbar": "Tags",
  "kernelspec": {
   "display_name": "Python (CMA Fairness)",
   "language": "python",
   "name": "cma_fair_env"
  },
  "language_info": {
   "codemirror_mode": {
    "name": "ipython",
    "version": 3
   },
   "file_extension": ".py",
   "mimetype": "text/x-python",
   "name": "python",
   "nbconvert_exporter": "python",
   "pygments_lexer": "ipython3",
   "version": "3.10.12"
  },
  "papermill": {
   "default_parameters": {},
   "duration": 33.923467,
   "end_time": "2025-08-19T18:09:29.515798",
   "environment_variables": {},
   "exception": null,
   "input_path": "universe_analysis.ipynb",
   "output_path": "output/runs/3/notebooks/m_3-170244a627acf92dd2aa5db16aa9fd48.ipynb",
   "parameters": {
    "output_dir": "output",
    "run_no": "3",
    "seed": "2023",
    "universe": "{\"cutoff\": [\"quantile_0.1\", \"quantile_0.25\"], \"eval_fairness_grouping\": [\"majority-minority\", \"nationality-all\"], \"exclude_features\": \"nationality-sex\", \"exclude_subgroups\": \"keep-all\", \"model\": \"penalized_logreg\", \"scale\": \"do-not-scale\", \"training_size\": \"25k\", \"training_year\": \"2012_14\"}",
    "universe_id": "170244a627acf92dd2aa5db16aa9fd48"
   },
   "start_time": "2025-08-19T18:08:55.592331",
   "version": "2.6.0"
  }
 },
 "nbformat": 4,
 "nbformat_minor": 5
}