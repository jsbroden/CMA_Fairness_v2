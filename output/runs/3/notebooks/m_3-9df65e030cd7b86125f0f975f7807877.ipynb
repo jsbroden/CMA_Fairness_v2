{
 "cells": [
  {
   "cell_type": "markdown",
   "id": "ef23dbb3",
   "metadata": {
    "papermill": {
     "duration": 0.023284,
     "end_time": "2025-08-19T18:01:23.709221",
     "exception": false,
     "start_time": "2025-08-19T18:01:23.685937",
     "status": "completed"
    },
    "tags": []
   },
   "source": [
    "# Setup"
   ]
  },
  {
   "cell_type": "code",
   "execution_count": 1,
   "id": "0bc8e7dc",
   "metadata": {
    "execution": {
     "iopub.execute_input": "2025-08-19T18:01:23.732339Z",
     "iopub.status.busy": "2025-08-19T18:01:23.732034Z",
     "iopub.status.idle": "2025-08-19T18:01:23.741840Z",
     "shell.execute_reply": "2025-08-19T18:01:23.741128Z"
    },
    "papermill": {
     "duration": 0.024072,
     "end_time": "2025-08-19T18:01:23.746214",
     "exception": false,
     "start_time": "2025-08-19T18:01:23.722142",
     "status": "completed"
    },
    "tags": []
   },
   "outputs": [
    {
     "name": "stdout",
     "output_type": "stream",
     "text": [
      "/dss/dsshome1/0C/ra93lal2/cma/CMA_Fairness_v2\n"
     ]
    },
    {
     "name": "stderr",
     "output_type": "stream",
     "text": [
      "/dss/dsshome1/0C/ra93lal2/.local/share/virtualenvs/CMA_Fairness_v2-3j10GkSs/lib/python3.10/site-packages/IPython/core/magics/osm.py:393: UserWarning: This is now an optional IPython functionality, using bookmarks requires you to install the `pickleshare` library.\n",
      "  bkms = self.shell.db.get('bookmarks', {})\n",
      "/dss/dsshome1/0C/ra93lal2/.local/share/virtualenvs/CMA_Fairness_v2-3j10GkSs/lib/python3.10/site-packages/IPython/core/magics/osm.py:417: UserWarning: This is now an optional IPython functionality, setting dhist requires you to install the `pickleshare` library.\n",
      "  self.shell.db['dhist'] = compress_dhist(dhist)[-100:]\n"
     ]
    }
   ],
   "source": [
    "%cd ~/cma/CMA_Fairness_v2"
   ]
  },
  {
   "cell_type": "markdown",
   "id": "9d235661",
   "metadata": {
    "papermill": {
     "duration": 0.009383,
     "end_time": "2025-08-19T18:01:23.774206",
     "exception": false,
     "start_time": "2025-08-19T18:01:23.764823",
     "status": "completed"
    },
    "tags": []
   },
   "source": [
    "The following cell holds the definition of our parameters, these values can be overriden by rendering the with e.g. the following command:\n",
    "\n",
    "papermill -p alpha 0.2 -p ratio 0.3 universe_analysis.ipynb output/test_run.ipynb"
   ]
  },
  {
   "cell_type": "code",
   "execution_count": 2,
   "id": "4a789d8e",
   "metadata": {
    "execution": {
     "iopub.execute_input": "2025-08-19T18:01:23.795041Z",
     "iopub.status.busy": "2025-08-19T18:01:23.793654Z",
     "iopub.status.idle": "2025-08-19T18:01:23.801961Z",
     "shell.execute_reply": "2025-08-19T18:01:23.800781Z"
    },
    "papermill": {
     "duration": 0.02637,
     "end_time": "2025-08-19T18:01:23.809429",
     "exception": false,
     "start_time": "2025-08-19T18:01:23.783059",
     "status": "completed"
    },
    "tags": []
   },
   "outputs": [
    {
     "name": "stdout",
     "output_type": "stream",
     "text": [
      "Current working directory: /dss/dsshome1/0C/ra93lal2/cma/CMA_Fairness_v2\n"
     ]
    }
   ],
   "source": [
    "import os\n",
    "print(\"Current working directory:\", os.getcwd())"
   ]
  },
  {
   "cell_type": "code",
   "execution_count": 3,
   "id": "4132aaed",
   "metadata": {
    "execution": {
     "iopub.execute_input": "2025-08-19T18:01:23.837168Z",
     "iopub.status.busy": "2025-08-19T18:01:23.835852Z",
     "iopub.status.idle": "2025-08-19T18:01:23.845058Z",
     "shell.execute_reply": "2025-08-19T18:01:23.843910Z"
    },
    "papermill": {
     "duration": 0.03134,
     "end_time": "2025-08-19T18:01:23.852361",
     "exception": false,
     "start_time": "2025-08-19T18:01:23.821021",
     "status": "completed"
    },
    "tags": [
     "parameters"
    ]
   },
   "outputs": [],
   "source": [
    "run_no = 0\n",
    "universe_id = \"test\"\n",
    "universe = {\n",
    "    \"training_size\": \"5k\", # \"25k\", \"5k\", \"1k\"\n",
    "    \"training_year\": \"2012_14\", # \"2014\", \"2012_14\", \"2010_14\"\n",
    "    \"scale\": \"scale\", # \"scale\", \"do-not-scale\",\n",
    "    \"model\": \"elasticnet\", # \"logreg\", \"penalized_logreg\", \"rf\", \"gbm\", \"elasticnet\"\n",
    "    \"cutoff\": [\"quantile_0.15\", \"quantile_0.30\"],\n",
    "    \"exclude_features\": \"age\", # \"none\", \"nationality\", \"sex\", \"nationality-sex\", \"age\"\n",
    "    \"exclude_subgroups\": \"drop-non-german\", # \"keep-all\", \"drop-non-german\"\n",
    "    \"eval_fairness_grouping\": [\"majority-minority\", \"nationality-all\"]\n",
    "}\n",
    "\n",
    "output_dir=\"./output\"\n",
    "seed=0"
   ]
  },
  {
   "cell_type": "code",
   "execution_count": 4,
   "id": "864eff73",
   "metadata": {
    "execution": {
     "iopub.execute_input": "2025-08-19T18:01:23.891589Z",
     "iopub.status.busy": "2025-08-19T18:01:23.891220Z",
     "iopub.status.idle": "2025-08-19T18:01:23.896655Z",
     "shell.execute_reply": "2025-08-19T18:01:23.895932Z"
    },
    "papermill": {
     "duration": 0.023441,
     "end_time": "2025-08-19T18:01:23.898113",
     "exception": false,
     "start_time": "2025-08-19T18:01:23.874672",
     "status": "completed"
    },
    "tags": [
     "injected-parameters"
    ]
   },
   "outputs": [],
   "source": [
    "# Parameters\n",
    "universe_id = \"9df65e030cd7b86125f0f975f7807877\"\n",
    "run_no = \"3\"\n",
    "universe = \"{\\\"cutoff\\\": [\\\"quantile_0.1\\\", \\\"quantile_0.25\\\"], \\\"eval_fairness_grouping\\\": [\\\"majority-minority\\\", \\\"nationality-all\\\"], \\\"exclude_features\\\": \\\"age\\\", \\\"exclude_subgroups\\\": \\\"keep-all\\\", \\\"model\\\": \\\"gbm\\\", \\\"scale\\\": \\\"do-not-scale\\\", \\\"training_size\\\": \\\"25k\\\", \\\"training_year\\\": \\\"2014\\\"}\"\n",
    "output_dir = \"output\"\n",
    "seed = \"2023\"\n"
   ]
  },
  {
   "cell_type": "code",
   "execution_count": 5,
   "id": "a5d7941f",
   "metadata": {
    "execution": {
     "iopub.execute_input": "2025-08-19T18:01:23.918398Z",
     "iopub.status.busy": "2025-08-19T18:01:23.917981Z",
     "iopub.status.idle": "2025-08-19T18:01:23.921983Z",
     "shell.execute_reply": "2025-08-19T18:01:23.921338Z"
    },
    "papermill": {
     "duration": 0.015379,
     "end_time": "2025-08-19T18:01:23.923242",
     "exception": false,
     "start_time": "2025-08-19T18:01:23.907863",
     "status": "completed"
    },
    "tags": []
   },
   "outputs": [],
   "source": [
    "import json\n",
    "if isinstance(universe, str):\n",
    "    universe = json.loads(universe)"
   ]
  },
  {
   "cell_type": "code",
   "execution_count": 6,
   "id": "7076ccb1",
   "metadata": {
    "execution": {
     "iopub.execute_input": "2025-08-19T18:01:23.943156Z",
     "iopub.status.busy": "2025-08-19T18:01:23.942894Z",
     "iopub.status.idle": "2025-08-19T18:01:23.987038Z",
     "shell.execute_reply": "2025-08-19T18:01:23.986156Z"
    },
    "papermill": {
     "duration": 0.056786,
     "end_time": "2025-08-19T18:01:23.989206",
     "exception": false,
     "start_time": "2025-08-19T18:01:23.932420",
     "status": "completed"
    },
    "tags": []
   },
   "outputs": [],
   "source": [
    "# Auto-reload the custom package\n",
    "%load_ext autoreload\n",
    "%autoreload 1\n",
    "%aimport fairness_multiverse"
   ]
  },
  {
   "cell_type": "code",
   "execution_count": 7,
   "id": "94c8eb93",
   "metadata": {
    "execution": {
     "iopub.execute_input": "2025-08-19T18:01:24.048776Z",
     "iopub.status.busy": "2025-08-19T18:01:24.042472Z",
     "iopub.status.idle": "2025-08-19T18:01:25.609420Z",
     "shell.execute_reply": "2025-08-19T18:01:25.608543Z"
    },
    "papermill": {
     "duration": 1.604936,
     "end_time": "2025-08-19T18:01:25.611023",
     "exception": false,
     "start_time": "2025-08-19T18:01:24.006087",
     "status": "completed"
    },
    "tags": []
   },
   "outputs": [],
   "source": [
    "from fairness_multiverse.universe import UniverseAnalysis\n",
    "\n",
    "universe_analysis = UniverseAnalysis(\n",
    "    run_no = run_no,\n",
    "    universe_id = universe_id,\n",
    "    universe = universe,\n",
    "    output_dir=output_dir,\n",
    ")"
   ]
  },
  {
   "cell_type": "code",
   "execution_count": 8,
   "id": "2a6381cf",
   "metadata": {
    "execution": {
     "iopub.execute_input": "2025-08-19T18:01:25.631077Z",
     "iopub.status.busy": "2025-08-19T18:01:25.630781Z",
     "iopub.status.idle": "2025-08-19T18:01:25.636128Z",
     "shell.execute_reply": "2025-08-19T18:01:25.635452Z"
    },
    "papermill": {
     "duration": 0.016624,
     "end_time": "2025-08-19T18:01:25.637403",
     "exception": false,
     "start_time": "2025-08-19T18:01:25.620779",
     "status": "completed"
    },
    "tags": []
   },
   "outputs": [
    {
     "name": "stdout",
     "output_type": "stream",
     "text": [
      "Using Seed: 2023\n"
     ]
    }
   ],
   "source": [
    "import numpy as np\n",
    "parsed_seed = int(seed)\n",
    "np.random.seed(parsed_seed)\n",
    "print(f\"Using Seed: {parsed_seed}\")"
   ]
  },
  {
   "cell_type": "markdown",
   "id": "b6e958b4",
   "metadata": {
    "papermill": {
     "duration": 0.009247,
     "end_time": "2025-08-19T18:01:25.656045",
     "exception": false,
     "start_time": "2025-08-19T18:01:25.646798",
     "status": "completed"
    },
    "tags": []
   },
   "source": [
    "# Loading Data"
   ]
  },
  {
   "cell_type": "code",
   "execution_count": 9,
   "id": "98701482",
   "metadata": {
    "execution": {
     "iopub.execute_input": "2025-08-19T18:01:25.675127Z",
     "iopub.status.busy": "2025-08-19T18:01:25.674800Z",
     "iopub.status.idle": "2025-08-19T18:01:35.696087Z",
     "shell.execute_reply": "2025-08-19T18:01:35.694834Z"
    },
    "papermill": {
     "duration": 10.03248,
     "end_time": "2025-08-19T18:01:35.697385",
     "exception": false,
     "start_time": "2025-08-19T18:01:25.664905",
     "status": "completed"
    },
    "tags": []
   },
   "outputs": [
    {
     "name": "stdout",
     "output_type": "stream",
     "text": [
      "Loading SIAB data from cache: data/siab_cached.csv.gz\n"
     ]
    },
    {
     "name": "stdout",
     "output_type": "stream",
     "text": [
      "(643690, 164)\n"
     ]
    }
   ],
   "source": [
    "from pathlib import Path\n",
    "import pandas as pd\n",
    "\n",
    "# File paths\n",
    "raw_file = Path(\"data/raw/siab.csv\")\n",
    "cache_file = Path(\"data/siab_cached.csv.gz\")\n",
    "\n",
    "# Ensure cache directory exists\n",
    "cache_file.parent.mkdir(parents=True, exist_ok=True)\n",
    "\n",
    "# Load with simple caching\n",
    "if cache_file.exists():\n",
    "    print(f\"Loading SIAB data from cache: {cache_file}\")\n",
    "    siab = pd.read_csv(cache_file, compression='gzip')\n",
    "else:\n",
    "    print(f\"Cache not found. Reading raw SIAB data: {raw_file}\")\n",
    "    siab = pd.read_csv(raw_file)\n",
    "    siab.to_csv(cache_file, index=False, compression='gzip')\n",
    "    print(f\"Cached SIAB data to: {cache_file}\")\n",
    "\n",
    "print(siab.shape)"
   ]
  },
  {
   "cell_type": "code",
   "execution_count": 10,
   "id": "058d2abb",
   "metadata": {
    "execution": {
     "iopub.execute_input": "2025-08-19T18:01:35.745211Z",
     "iopub.status.busy": "2025-08-19T18:01:35.743853Z",
     "iopub.status.idle": "2025-08-19T18:01:35.972950Z",
     "shell.execute_reply": "2025-08-19T18:01:35.972175Z"
    },
    "papermill": {
     "duration": 0.260091,
     "end_time": "2025-08-19T18:01:35.976296",
     "exception": false,
     "start_time": "2025-08-19T18:01:35.716205",
     "status": "completed"
    },
    "tags": []
   },
   "outputs": [
    {
     "data": {
      "text/html": [
       "<div>\n",
       "<style scoped>\n",
       "    .dataframe tbody tr th:only-of-type {\n",
       "        vertical-align: middle;\n",
       "    }\n",
       "\n",
       "    .dataframe tbody tr th {\n",
       "        vertical-align: top;\n",
       "    }\n",
       "\n",
       "    .dataframe thead th {\n",
       "        text-align: right;\n",
       "    }\n",
       "</style>\n",
       "<table border=\"1\" class=\"dataframe\">\n",
       "  <thead>\n",
       "    <tr style=\"text-align: right;\">\n",
       "      <th></th>\n",
       "      <th>persnr</th>\n",
       "      <th>year</th>\n",
       "      <th>nrEntry</th>\n",
       "      <th>ltue</th>\n",
       "      <th>employed_before</th>\n",
       "      <th>receipt_leh_before</th>\n",
       "      <th>receipt_lhg_before</th>\n",
       "      <th>se_before</th>\n",
       "      <th>ASU_notue_seeking_before</th>\n",
       "      <th>ASU_other_before</th>\n",
       "      <th>...</th>\n",
       "      <th>minijob_tot_dur_byage</th>\n",
       "      <th>ft_tot_dur_byage</th>\n",
       "      <th>befrist_tot_dur_byage</th>\n",
       "      <th>leih_tot_dur_byage</th>\n",
       "      <th>LHG_tot_dur_byage</th>\n",
       "      <th>LEH_tot_dur_byage</th>\n",
       "      <th>almp_tot_dur_byage</th>\n",
       "      <th>almp_aw_tot_dur_byage</th>\n",
       "      <th>se_tot_dur_byage</th>\n",
       "      <th>seeking1_tot_dur_byage</th>\n",
       "    </tr>\n",
       "  </thead>\n",
       "  <tbody>\n",
       "    <tr>\n",
       "      <th>0</th>\n",
       "      <td>7</td>\n",
       "      <td>2015</td>\n",
       "      <td>1</td>\n",
       "      <td>0</td>\n",
       "      <td>1</td>\n",
       "      <td>0</td>\n",
       "      <td>0</td>\n",
       "      <td>0</td>\n",
       "      <td>1</td>\n",
       "      <td>0</td>\n",
       "      <td>...</td>\n",
       "      <td>0.000000</td>\n",
       "      <td>0.000000</td>\n",
       "      <td>15.043478</td>\n",
       "      <td>0.000000</td>\n",
       "      <td>0.000000</td>\n",
       "      <td>0.000000</td>\n",
       "      <td>0.000000</td>\n",
       "      <td>0.000000</td>\n",
       "      <td>0.000000</td>\n",
       "      <td>0.000000</td>\n",
       "    </tr>\n",
       "    <tr>\n",
       "      <th>1</th>\n",
       "      <td>18</td>\n",
       "      <td>2010</td>\n",
       "      <td>1</td>\n",
       "      <td>1</td>\n",
       "      <td>0</td>\n",
       "      <td>0</td>\n",
       "      <td>0</td>\n",
       "      <td>0</td>\n",
       "      <td>0</td>\n",
       "      <td>0</td>\n",
       "      <td>...</td>\n",
       "      <td>0.000000</td>\n",
       "      <td>0.000000</td>\n",
       "      <td>0.000000</td>\n",
       "      <td>0.000000</td>\n",
       "      <td>0.000000</td>\n",
       "      <td>0.000000</td>\n",
       "      <td>0.000000</td>\n",
       "      <td>0.000000</td>\n",
       "      <td>0.000000</td>\n",
       "      <td>0.000000</td>\n",
       "    </tr>\n",
       "    <tr>\n",
       "      <th>2</th>\n",
       "      <td>18</td>\n",
       "      <td>2011</td>\n",
       "      <td>2</td>\n",
       "      <td>0</td>\n",
       "      <td>1</td>\n",
       "      <td>0</td>\n",
       "      <td>1</td>\n",
       "      <td>0</td>\n",
       "      <td>1</td>\n",
       "      <td>0</td>\n",
       "      <td>...</td>\n",
       "      <td>2.714286</td>\n",
       "      <td>2.714286</td>\n",
       "      <td>0.000000</td>\n",
       "      <td>0.000000</td>\n",
       "      <td>10.775510</td>\n",
       "      <td>0.000000</td>\n",
       "      <td>8.367347</td>\n",
       "      <td>0.000000</td>\n",
       "      <td>0.000000</td>\n",
       "      <td>9.836735</td>\n",
       "    </tr>\n",
       "    <tr>\n",
       "      <th>3</th>\n",
       "      <td>18</td>\n",
       "      <td>2012</td>\n",
       "      <td>3</td>\n",
       "      <td>0</td>\n",
       "      <td>1</td>\n",
       "      <td>0</td>\n",
       "      <td>1</td>\n",
       "      <td>0</td>\n",
       "      <td>1</td>\n",
       "      <td>0</td>\n",
       "      <td>...</td>\n",
       "      <td>4.200000</td>\n",
       "      <td>4.200000</td>\n",
       "      <td>0.000000</td>\n",
       "      <td>0.000000</td>\n",
       "      <td>12.100000</td>\n",
       "      <td>0.000000</td>\n",
       "      <td>9.400000</td>\n",
       "      <td>0.000000</td>\n",
       "      <td>0.000000</td>\n",
       "      <td>9.960000</td>\n",
       "    </tr>\n",
       "    <tr>\n",
       "      <th>4</th>\n",
       "      <td>18</td>\n",
       "      <td>2012</td>\n",
       "      <td>4</td>\n",
       "      <td>0</td>\n",
       "      <td>1</td>\n",
       "      <td>0</td>\n",
       "      <td>1</td>\n",
       "      <td>0</td>\n",
       "      <td>1</td>\n",
       "      <td>0</td>\n",
       "      <td>...</td>\n",
       "      <td>5.460000</td>\n",
       "      <td>5.460000</td>\n",
       "      <td>0.000000</td>\n",
       "      <td>0.000000</td>\n",
       "      <td>13.360000</td>\n",
       "      <td>0.000000</td>\n",
       "      <td>10.320000</td>\n",
       "      <td>0.000000</td>\n",
       "      <td>0.000000</td>\n",
       "      <td>10.280000</td>\n",
       "    </tr>\n",
       "    <tr>\n",
       "      <th>...</th>\n",
       "      <td>...</td>\n",
       "      <td>...</td>\n",
       "      <td>...</td>\n",
       "      <td>...</td>\n",
       "      <td>...</td>\n",
       "      <td>...</td>\n",
       "      <td>...</td>\n",
       "      <td>...</td>\n",
       "      <td>...</td>\n",
       "      <td>...</td>\n",
       "      <td>...</td>\n",
       "      <td>...</td>\n",
       "      <td>...</td>\n",
       "      <td>...</td>\n",
       "      <td>...</td>\n",
       "      <td>...</td>\n",
       "      <td>...</td>\n",
       "      <td>...</td>\n",
       "      <td>...</td>\n",
       "      <td>...</td>\n",
       "      <td>...</td>\n",
       "    </tr>\n",
       "    <tr>\n",
       "      <th>643685</th>\n",
       "      <td>1827860</td>\n",
       "      <td>2013</td>\n",
       "      <td>1</td>\n",
       "      <td>0</td>\n",
       "      <td>0</td>\n",
       "      <td>0</td>\n",
       "      <td>1</td>\n",
       "      <td>0</td>\n",
       "      <td>0</td>\n",
       "      <td>1</td>\n",
       "      <td>...</td>\n",
       "      <td>0.000000</td>\n",
       "      <td>0.000000</td>\n",
       "      <td>0.000000</td>\n",
       "      <td>0.000000</td>\n",
       "      <td>0.612903</td>\n",
       "      <td>0.000000</td>\n",
       "      <td>0.000000</td>\n",
       "      <td>0.000000</td>\n",
       "      <td>0.000000</td>\n",
       "      <td>0.000000</td>\n",
       "    </tr>\n",
       "    <tr>\n",
       "      <th>643686</th>\n",
       "      <td>1827860</td>\n",
       "      <td>2015</td>\n",
       "      <td>2</td>\n",
       "      <td>1</td>\n",
       "      <td>0</td>\n",
       "      <td>0</td>\n",
       "      <td>1</td>\n",
       "      <td>0</td>\n",
       "      <td>1</td>\n",
       "      <td>0</td>\n",
       "      <td>...</td>\n",
       "      <td>0.000000</td>\n",
       "      <td>0.000000</td>\n",
       "      <td>0.212121</td>\n",
       "      <td>0.212121</td>\n",
       "      <td>17.363636</td>\n",
       "      <td>0.000000</td>\n",
       "      <td>8.909091</td>\n",
       "      <td>0.000000</td>\n",
       "      <td>0.000000</td>\n",
       "      <td>7.121212</td>\n",
       "    </tr>\n",
       "    <tr>\n",
       "      <th>643687</th>\n",
       "      <td>1827860</td>\n",
       "      <td>2016</td>\n",
       "      <td>3</td>\n",
       "      <td>1</td>\n",
       "      <td>0</td>\n",
       "      <td>0</td>\n",
       "      <td>1</td>\n",
       "      <td>1</td>\n",
       "      <td>0</td>\n",
       "      <td>1</td>\n",
       "      <td>...</td>\n",
       "      <td>0.000000</td>\n",
       "      <td>0.000000</td>\n",
       "      <td>0.294118</td>\n",
       "      <td>0.205882</td>\n",
       "      <td>34.705882</td>\n",
       "      <td>0.000000</td>\n",
       "      <td>10.352941</td>\n",
       "      <td>1.705882</td>\n",
       "      <td>1.705882</td>\n",
       "      <td>23.911765</td>\n",
       "    </tr>\n",
       "    <tr>\n",
       "      <th>643688</th>\n",
       "      <td>1827869</td>\n",
       "      <td>2013</td>\n",
       "      <td>1</td>\n",
       "      <td>1</td>\n",
       "      <td>1</td>\n",
       "      <td>0</td>\n",
       "      <td>0</td>\n",
       "      <td>0</td>\n",
       "      <td>1</td>\n",
       "      <td>0</td>\n",
       "      <td>...</td>\n",
       "      <td>0.000000</td>\n",
       "      <td>0.000000</td>\n",
       "      <td>0.000000</td>\n",
       "      <td>0.000000</td>\n",
       "      <td>0.000000</td>\n",
       "      <td>0.525424</td>\n",
       "      <td>0.000000</td>\n",
       "      <td>0.000000</td>\n",
       "      <td>0.000000</td>\n",
       "      <td>0.000000</td>\n",
       "    </tr>\n",
       "    <tr>\n",
       "      <th>643689</th>\n",
       "      <td>1827869</td>\n",
       "      <td>2014</td>\n",
       "      <td>2</td>\n",
       "      <td>0</td>\n",
       "      <td>0</td>\n",
       "      <td>1</td>\n",
       "      <td>0</td>\n",
       "      <td>0</td>\n",
       "      <td>1</td>\n",
       "      <td>0</td>\n",
       "      <td>...</td>\n",
       "      <td>0.000000</td>\n",
       "      <td>0.666667</td>\n",
       "      <td>0.666667</td>\n",
       "      <td>0.000000</td>\n",
       "      <td>0.000000</td>\n",
       "      <td>8.950000</td>\n",
       "      <td>1.033333</td>\n",
       "      <td>0.083333</td>\n",
       "      <td>0.083333</td>\n",
       "      <td>8.133333</td>\n",
       "    </tr>\n",
       "  </tbody>\n",
       "</table>\n",
       "<p>643690 rows × 164 columns</p>\n",
       "</div>"
      ],
      "text/plain": [
       "         persnr  year  nrEntry  ltue  employed_before  receipt_leh_before  \\\n",
       "0             7  2015        1     0                1                   0   \n",
       "1            18  2010        1     1                0                   0   \n",
       "2            18  2011        2     0                1                   0   \n",
       "3            18  2012        3     0                1                   0   \n",
       "4            18  2012        4     0                1                   0   \n",
       "...         ...   ...      ...   ...              ...                 ...   \n",
       "643685  1827860  2013        1     0                0                   0   \n",
       "643686  1827860  2015        2     1                0                   0   \n",
       "643687  1827860  2016        3     1                0                   0   \n",
       "643688  1827869  2013        1     1                1                   0   \n",
       "643689  1827869  2014        2     0                0                   1   \n",
       "\n",
       "        receipt_lhg_before  se_before  ASU_notue_seeking_before  \\\n",
       "0                        0          0                         1   \n",
       "1                        0          0                         0   \n",
       "2                        1          0                         1   \n",
       "3                        1          0                         1   \n",
       "4                        1          0                         1   \n",
       "...                    ...        ...                       ...   \n",
       "643685                   1          0                         0   \n",
       "643686                   1          0                         1   \n",
       "643687                   1          1                         0   \n",
       "643688                   0          0                         1   \n",
       "643689                   0          0                         1   \n",
       "\n",
       "        ASU_other_before  ...  minijob_tot_dur_byage  ft_tot_dur_byage  \\\n",
       "0                      0  ...               0.000000          0.000000   \n",
       "1                      0  ...               0.000000          0.000000   \n",
       "2                      0  ...               2.714286          2.714286   \n",
       "3                      0  ...               4.200000          4.200000   \n",
       "4                      0  ...               5.460000          5.460000   \n",
       "...                  ...  ...                    ...               ...   \n",
       "643685                 1  ...               0.000000          0.000000   \n",
       "643686                 0  ...               0.000000          0.000000   \n",
       "643687                 1  ...               0.000000          0.000000   \n",
       "643688                 0  ...               0.000000          0.000000   \n",
       "643689                 0  ...               0.000000          0.666667   \n",
       "\n",
       "        befrist_tot_dur_byage  leih_tot_dur_byage  LHG_tot_dur_byage  \\\n",
       "0                   15.043478            0.000000           0.000000   \n",
       "1                    0.000000            0.000000           0.000000   \n",
       "2                    0.000000            0.000000          10.775510   \n",
       "3                    0.000000            0.000000          12.100000   \n",
       "4                    0.000000            0.000000          13.360000   \n",
       "...                       ...                 ...                ...   \n",
       "643685               0.000000            0.000000           0.612903   \n",
       "643686               0.212121            0.212121          17.363636   \n",
       "643687               0.294118            0.205882          34.705882   \n",
       "643688               0.000000            0.000000           0.000000   \n",
       "643689               0.666667            0.000000           0.000000   \n",
       "\n",
       "        LEH_tot_dur_byage  almp_tot_dur_byage  almp_aw_tot_dur_byage  \\\n",
       "0                0.000000            0.000000               0.000000   \n",
       "1                0.000000            0.000000               0.000000   \n",
       "2                0.000000            8.367347               0.000000   \n",
       "3                0.000000            9.400000               0.000000   \n",
       "4                0.000000           10.320000               0.000000   \n",
       "...                   ...                 ...                    ...   \n",
       "643685           0.000000            0.000000               0.000000   \n",
       "643686           0.000000            8.909091               0.000000   \n",
       "643687           0.000000           10.352941               1.705882   \n",
       "643688           0.525424            0.000000               0.000000   \n",
       "643689           8.950000            1.033333               0.083333   \n",
       "\n",
       "        se_tot_dur_byage  seeking1_tot_dur_byage  \n",
       "0               0.000000                0.000000  \n",
       "1               0.000000                0.000000  \n",
       "2               0.000000                9.836735  \n",
       "3               0.000000                9.960000  \n",
       "4               0.000000               10.280000  \n",
       "...                  ...                     ...  \n",
       "643685          0.000000                0.000000  \n",
       "643686          0.000000                7.121212  \n",
       "643687          1.705882               23.911765  \n",
       "643688          0.000000                0.000000  \n",
       "643689          0.083333                8.133333  \n",
       "\n",
       "[643690 rows x 164 columns]"
      ]
     },
     "execution_count": 10,
     "metadata": {},
     "output_type": "execute_result"
    }
   ],
   "source": [
    "siab"
   ]
  },
  {
   "cell_type": "markdown",
   "id": "1f87e805",
   "metadata": {
    "papermill": {
     "duration": 0.011717,
     "end_time": "2025-08-19T18:01:36.009949",
     "exception": false,
     "start_time": "2025-08-19T18:01:35.998232",
     "status": "completed"
    },
    "tags": []
   },
   "source": [
    "# Splitting Data and Setting Training Data Size"
   ]
  },
  {
   "cell_type": "code",
   "execution_count": 11,
   "id": "910ae358",
   "metadata": {
    "execution": {
     "iopub.execute_input": "2025-08-19T18:01:36.031896Z",
     "iopub.status.busy": "2025-08-19T18:01:36.030834Z",
     "iopub.status.idle": "2025-08-19T18:01:36.375416Z",
     "shell.execute_reply": "2025-08-19T18:01:36.374679Z"
    },
    "papermill": {
     "duration": 0.358704,
     "end_time": "2025-08-19T18:01:36.378314",
     "exception": false,
     "start_time": "2025-08-19T18:01:36.019610",
     "status": "completed"
    },
    "tags": []
   },
   "outputs": [],
   "source": [
    "from fairness_multiverse.universe import sample_by_year_size\n",
    "\n",
    "siab_train = sample_by_year_size(siab,\n",
    "                               training_year=universe[\"training_year\"],\n",
    "                               training_size=universe[\"training_size\"])"
   ]
  },
  {
   "cell_type": "code",
   "execution_count": 12,
   "id": "919c8ff5",
   "metadata": {
    "execution": {
     "iopub.execute_input": "2025-08-19T18:01:36.416027Z",
     "iopub.status.busy": "2025-08-19T18:01:36.415045Z",
     "iopub.status.idle": "2025-08-19T18:01:36.424069Z",
     "shell.execute_reply": "2025-08-19T18:01:36.422869Z"
    },
    "papermill": {
     "duration": 0.024092,
     "end_time": "2025-08-19T18:01:36.425473",
     "exception": false,
     "start_time": "2025-08-19T18:01:36.401381",
     "status": "completed"
    },
    "tags": []
   },
   "outputs": [
    {
     "data": {
      "text/plain": [
       "(25000, 164)"
      ]
     },
     "execution_count": 12,
     "metadata": {},
     "output_type": "execute_result"
    }
   ],
   "source": [
    "siab_train.shape"
   ]
  },
  {
   "cell_type": "code",
   "execution_count": 13,
   "id": "feb13bf4",
   "metadata": {
    "execution": {
     "iopub.execute_input": "2025-08-19T18:01:36.449169Z",
     "iopub.status.busy": "2025-08-19T18:01:36.448229Z",
     "iopub.status.idle": "2025-08-19T18:01:36.462513Z",
     "shell.execute_reply": "2025-08-19T18:01:36.461571Z"
    },
    "papermill": {
     "duration": 0.027358,
     "end_time": "2025-08-19T18:01:36.464024",
     "exception": false,
     "start_time": "2025-08-19T18:01:36.436666",
     "status": "completed"
    },
    "tags": []
   },
   "outputs": [
    {
     "data": {
      "text/plain": [
       "year\n",
       "2014    25000\n",
       "dtype: int64"
      ]
     },
     "metadata": {},
     "output_type": "display_data"
    }
   ],
   "source": [
    "display(siab_train.groupby(\"year\").size())"
   ]
  },
  {
   "cell_type": "code",
   "execution_count": 14,
   "id": "0997782f",
   "metadata": {
    "execution": {
     "iopub.execute_input": "2025-08-19T18:01:36.490307Z",
     "iopub.status.busy": "2025-08-19T18:01:36.489408Z",
     "iopub.status.idle": "2025-08-19T18:01:36.745350Z",
     "shell.execute_reply": "2025-08-19T18:01:36.744579Z"
    },
    "papermill": {
     "duration": 0.270908,
     "end_time": "2025-08-19T18:01:36.748187",
     "exception": false,
     "start_time": "2025-08-19T18:01:36.477279",
     "status": "completed"
    },
    "tags": []
   },
   "outputs": [],
   "source": [
    "#siab_train = siab_s[siab_s.year < 2015]\n",
    "siab_calib = siab[siab.year == 2015]\n",
    "siab_test = siab[siab.year == 2016]"
   ]
  },
  {
   "cell_type": "code",
   "execution_count": 15,
   "id": "2c1e4012",
   "metadata": {
    "execution": {
     "iopub.execute_input": "2025-08-19T18:01:36.788186Z",
     "iopub.status.busy": "2025-08-19T18:01:36.787119Z",
     "iopub.status.idle": "2025-08-19T18:01:36.793703Z",
     "shell.execute_reply": "2025-08-19T18:01:36.792578Z"
    },
    "papermill": {
     "duration": 0.022156,
     "end_time": "2025-08-19T18:01:36.795213",
     "exception": false,
     "start_time": "2025-08-19T18:01:36.773057",
     "status": "completed"
    },
    "tags": []
   },
   "outputs": [],
   "source": [
    "#siab_calib.shape"
   ]
  },
  {
   "cell_type": "code",
   "execution_count": 16,
   "id": "f66b54ca",
   "metadata": {
    "execution": {
     "iopub.execute_input": "2025-08-19T18:01:36.819117Z",
     "iopub.status.busy": "2025-08-19T18:01:36.818221Z",
     "iopub.status.idle": "2025-08-19T18:01:36.824952Z",
     "shell.execute_reply": "2025-08-19T18:01:36.823756Z"
    },
    "papermill": {
     "duration": 0.019716,
     "end_time": "2025-08-19T18:01:36.826351",
     "exception": false,
     "start_time": "2025-08-19T18:01:36.806635",
     "status": "completed"
    },
    "tags": []
   },
   "outputs": [],
   "source": [
    "#siab_test.shape"
   ]
  },
  {
   "cell_type": "code",
   "execution_count": 17,
   "id": "27e4384d",
   "metadata": {
    "execution": {
     "iopub.execute_input": "2025-08-19T18:01:36.849343Z",
     "iopub.status.busy": "2025-08-19T18:01:36.848360Z",
     "iopub.status.idle": "2025-08-19T18:01:36.866535Z",
     "shell.execute_reply": "2025-08-19T18:01:36.865579Z"
    },
    "papermill": {
     "duration": 0.031195,
     "end_time": "2025-08-19T18:01:36.868187",
     "exception": false,
     "start_time": "2025-08-19T18:01:36.836992",
     "status": "completed"
    },
    "tags": []
   },
   "outputs": [],
   "source": [
    "X_train = siab_train.iloc[:,4:164]\n",
    "y_train = siab_train.iloc[:, [3]]"
   ]
  },
  {
   "cell_type": "code",
   "execution_count": 18,
   "id": "08ee8389",
   "metadata": {
    "execution": {
     "iopub.execute_input": "2025-08-19T18:01:36.898289Z",
     "iopub.status.busy": "2025-08-19T18:01:36.897205Z",
     "iopub.status.idle": "2025-08-19T18:01:36.957423Z",
     "shell.execute_reply": "2025-08-19T18:01:36.956590Z"
    },
    "papermill": {
     "duration": 0.075641,
     "end_time": "2025-08-19T18:01:36.959970",
     "exception": false,
     "start_time": "2025-08-19T18:01:36.884329",
     "status": "completed"
    },
    "tags": []
   },
   "outputs": [],
   "source": [
    "X_calib = siab_calib.iloc[:,4:164]\n",
    "y_calib = siab_calib.iloc[:, [3]]"
   ]
  },
  {
   "cell_type": "code",
   "execution_count": 19,
   "id": "b7ff42e0",
   "metadata": {
    "execution": {
     "iopub.execute_input": "2025-08-19T18:01:37.000862Z",
     "iopub.status.busy": "2025-08-19T18:01:36.999724Z",
     "iopub.status.idle": "2025-08-19T18:01:37.055752Z",
     "shell.execute_reply": "2025-08-19T18:01:37.054968Z"
    },
    "papermill": {
     "duration": 0.072578,
     "end_time": "2025-08-19T18:01:37.058144",
     "exception": false,
     "start_time": "2025-08-19T18:01:36.985566",
     "status": "completed"
    },
    "tags": []
   },
   "outputs": [],
   "source": [
    "X_test = siab_test.iloc[:,4:164]\n",
    "y_true = siab_test.iloc[:, [3]]"
   ]
  },
  {
   "cell_type": "code",
   "execution_count": 20,
   "id": "0275101e",
   "metadata": {
    "execution": {
     "iopub.execute_input": "2025-08-19T18:01:37.095844Z",
     "iopub.status.busy": "2025-08-19T18:01:37.094594Z",
     "iopub.status.idle": "2025-08-19T18:01:37.226981Z",
     "shell.execute_reply": "2025-08-19T18:01:37.226173Z"
    },
    "papermill": {
     "duration": 0.14893,
     "end_time": "2025-08-19T18:01:37.229933",
     "exception": false,
     "start_time": "2025-08-19T18:01:37.081003",
     "status": "completed"
    },
    "tags": []
   },
   "outputs": [],
   "source": [
    "# Auxiliary data needed downstream in the pipeline\n",
    "\n",
    "org_train = X_train.copy()\n",
    "org_test = X_test.copy()\n",
    "org_calib = X_calib.copy()"
   ]
  },
  {
   "cell_type": "markdown",
   "id": "b461e618",
   "metadata": {
    "papermill": {
     "duration": 0.011799,
     "end_time": "2025-08-19T18:01:37.264541",
     "exception": false,
     "start_time": "2025-08-19T18:01:37.252742",
     "status": "completed"
    },
    "tags": []
   },
   "source": [
    "# Preprocessing Data"
   ]
  },
  {
   "cell_type": "code",
   "execution_count": 21,
   "id": "78e74c4b",
   "metadata": {
    "execution": {
     "iopub.execute_input": "2025-08-19T18:01:37.291709Z",
     "iopub.status.busy": "2025-08-19T18:01:37.290586Z",
     "iopub.status.idle": "2025-08-19T18:01:37.299569Z",
     "shell.execute_reply": "2025-08-19T18:01:37.298337Z"
    },
    "papermill": {
     "duration": 0.026557,
     "end_time": "2025-08-19T18:01:37.301176",
     "exception": false,
     "start_time": "2025-08-19T18:01:37.274619",
     "status": "completed"
    },
    "tags": []
   },
   "outputs": [],
   "source": [
    "# EXCLUDE PROTECTED FEATURES\n",
    "# --------------------------\n",
    "\n",
    "excluded_features = universe[\"exclude_features\"].split(\"-\")\n",
    "excluded_features_dictionary = {\n",
    "    \"nationality\": [\"maxdeutsch1\", \"maxdeutsch.Missing.\"],\n",
    "    \"sex\": [\"frau1\"],\n",
    "    \"age\": [\"age\"],\n",
    "}"
   ]
  },
  {
   "cell_type": "code",
   "execution_count": 22,
   "id": "f8e63555",
   "metadata": {
    "execution": {
     "iopub.execute_input": "2025-08-19T18:01:37.326385Z",
     "iopub.status.busy": "2025-08-19T18:01:37.325462Z",
     "iopub.status.idle": "2025-08-19T18:01:37.333625Z",
     "shell.execute_reply": "2025-08-19T18:01:37.332371Z"
    },
    "papermill": {
     "duration": 0.021361,
     "end_time": "2025-08-19T18:01:37.334919",
     "exception": false,
     "start_time": "2025-08-19T18:01:37.313558",
     "status": "completed"
    },
    "tags": []
   },
   "outputs": [],
   "source": [
    "excluded_features_columns = [\n",
    "    excluded_features_dictionary[f] for f in excluded_features if len(f) > 0 and f != \"none\"\n",
    "]"
   ]
  },
  {
   "cell_type": "code",
   "execution_count": 23,
   "id": "da781f7c",
   "metadata": {
    "execution": {
     "iopub.execute_input": "2025-08-19T18:01:37.360767Z",
     "iopub.status.busy": "2025-08-19T18:01:37.359444Z",
     "iopub.status.idle": "2025-08-19T18:01:37.367094Z",
     "shell.execute_reply": "2025-08-19T18:01:37.365902Z"
    },
    "papermill": {
     "duration": 0.020945,
     "end_time": "2025-08-19T18:01:37.368559",
     "exception": false,
     "start_time": "2025-08-19T18:01:37.347614",
     "status": "completed"
    },
    "tags": []
   },
   "outputs": [],
   "source": [
    "from fairness_multiverse.universe import flatten_once\n",
    "\n",
    "excluded_features_columns = flatten_once(excluded_features_columns)"
   ]
  },
  {
   "cell_type": "code",
   "execution_count": 24,
   "id": "37fef0f0",
   "metadata": {
    "execution": {
     "iopub.execute_input": "2025-08-19T18:01:37.394134Z",
     "iopub.status.busy": "2025-08-19T18:01:37.393063Z",
     "iopub.status.idle": "2025-08-19T18:01:37.432693Z",
     "shell.execute_reply": "2025-08-19T18:01:37.431967Z"
    },
    "papermill": {
     "duration": 0.057656,
     "end_time": "2025-08-19T18:01:37.438923",
     "exception": false,
     "start_time": "2025-08-19T18:01:37.381267",
     "status": "completed"
    },
    "tags": []
   },
   "outputs": [
    {
     "name": "stdout",
     "output_type": "stream",
     "text": [
      "Dropping features: ['age']\n"
     ]
    }
   ],
   "source": [
    "if len(excluded_features_columns) > 0:\n",
    "    print(f\"Dropping features: {excluded_features_columns}\")\n",
    "    X_train.drop(excluded_features_columns, axis=1, inplace=True)"
   ]
  },
  {
   "cell_type": "code",
   "execution_count": 25,
   "id": "d029e3e9",
   "metadata": {
    "execution": {
     "iopub.execute_input": "2025-08-19T18:01:37.477710Z",
     "iopub.status.busy": "2025-08-19T18:01:37.476361Z",
     "iopub.status.idle": "2025-08-19T18:01:37.538245Z",
     "shell.execute_reply": "2025-08-19T18:01:37.537468Z"
    },
    "papermill": {
     "duration": 0.078494,
     "end_time": "2025-08-19T18:01:37.540718",
     "exception": false,
     "start_time": "2025-08-19T18:01:37.462224",
     "status": "completed"
    },
    "tags": []
   },
   "outputs": [
    {
     "name": "stdout",
     "output_type": "stream",
     "text": [
      "Dropping features: ['age']\n"
     ]
    }
   ],
   "source": [
    "if len(excluded_features_columns) > 0:\n",
    "    print(f\"Dropping features: {excluded_features_columns}\")\n",
    "    X_test.drop(excluded_features_columns, axis=1, inplace=True)"
   ]
  },
  {
   "cell_type": "code",
   "execution_count": 26,
   "id": "01d571f0",
   "metadata": {
    "execution": {
     "iopub.execute_input": "2025-08-19T18:01:37.578607Z",
     "iopub.status.busy": "2025-08-19T18:01:37.577612Z",
     "iopub.status.idle": "2025-08-19T18:01:37.632261Z",
     "shell.execute_reply": "2025-08-19T18:01:37.631501Z"
    },
    "papermill": {
     "duration": 0.070763,
     "end_time": "2025-08-19T18:01:37.634603",
     "exception": false,
     "start_time": "2025-08-19T18:01:37.563840",
     "status": "completed"
    },
    "tags": []
   },
   "outputs": [
    {
     "name": "stdout",
     "output_type": "stream",
     "text": [
      "Dropping features: ['age']\n"
     ]
    }
   ],
   "source": [
    "if len(excluded_features_columns) > 0:\n",
    "    print(f\"Dropping features: {excluded_features_columns}\")\n",
    "    X_calib.drop(excluded_features_columns, axis=1, inplace=True)"
   ]
  },
  {
   "cell_type": "code",
   "execution_count": 27,
   "id": "3037356e",
   "metadata": {
    "execution": {
     "iopub.execute_input": "2025-08-19T18:01:37.672690Z",
     "iopub.status.busy": "2025-08-19T18:01:37.671414Z",
     "iopub.status.idle": "2025-08-19T18:01:37.678868Z",
     "shell.execute_reply": "2025-08-19T18:01:37.677775Z"
    },
    "papermill": {
     "duration": 0.022719,
     "end_time": "2025-08-19T18:01:37.680219",
     "exception": false,
     "start_time": "2025-08-19T18:01:37.657500",
     "status": "completed"
    },
    "tags": []
   },
   "outputs": [],
   "source": [
    "# EXCLUDE CERTAIN SUBGROUPS\n",
    "# -------------------------\n",
    "\n",
    "mode = universe.get(\"exclude_subgroups\", \"keep-all\") # Defaults to \"keep-all\" if the key is missing."
   ]
  },
  {
   "cell_type": "code",
   "execution_count": 28,
   "id": "9d1e63fd",
   "metadata": {
    "execution": {
     "iopub.execute_input": "2025-08-19T18:01:37.706827Z",
     "iopub.status.busy": "2025-08-19T18:01:37.705791Z",
     "iopub.status.idle": "2025-08-19T18:01:37.715989Z",
     "shell.execute_reply": "2025-08-19T18:01:37.714796Z"
    },
    "papermill": {
     "duration": 0.023704,
     "end_time": "2025-08-19T18:01:37.717491",
     "exception": false,
     "start_time": "2025-08-19T18:01:37.693787",
     "status": "completed"
    },
    "tags": []
   },
   "outputs": [],
   "source": [
    "if mode == \"keep-all\":\n",
    "    keep_mask = pd.Series(True, index=org_train.index)\n",
    "\n",
    "elif mode == \"drop-non-german\":\n",
    "    keep_mask = (org_train[\"maxdeutsch1\"] == 1) & (org_train[\"maxdeutsch.Missing.\"] == 0)\n",
    "\n",
    "else:\n",
    "    raise ValueError(f\"Unsupported mode for exclude_subgroups: {mode}\")"
   ]
  },
  {
   "cell_type": "code",
   "execution_count": 29,
   "id": "d3b65474",
   "metadata": {
    "execution": {
     "iopub.execute_input": "2025-08-19T18:01:37.749075Z",
     "iopub.status.busy": "2025-08-19T18:01:37.747368Z",
     "iopub.status.idle": "2025-08-19T18:01:37.753424Z",
     "shell.execute_reply": "2025-08-19T18:01:37.752767Z"
    },
    "papermill": {
     "duration": 0.020533,
     "end_time": "2025-08-19T18:01:37.754525",
     "exception": false,
     "start_time": "2025-08-19T18:01:37.733992",
     "status": "completed"
    },
    "tags": []
   },
   "outputs": [],
   "source": [
    "n_drop = (~keep_mask).sum() # Calculates how many rows are set to be dropped\n",
    "if n_drop > 0:\n",
    "    pct = n_drop / len(keep_mask) * 100\n",
    "    print(f\"Dropping {n_drop} rows ({pct:.2f}%) where mode='{mode}'\")"
   ]
  },
  {
   "cell_type": "code",
   "execution_count": 30,
   "id": "f44389b3",
   "metadata": {
    "execution": {
     "iopub.execute_input": "2025-08-19T18:01:37.778124Z",
     "iopub.status.busy": "2025-08-19T18:01:37.777714Z",
     "iopub.status.idle": "2025-08-19T18:01:37.793585Z",
     "shell.execute_reply": "2025-08-19T18:01:37.792720Z"
    },
    "papermill": {
     "duration": 0.029059,
     "end_time": "2025-08-19T18:01:37.795059",
     "exception": false,
     "start_time": "2025-08-19T18:01:37.766000",
     "status": "completed"
    },
    "tags": []
   },
   "outputs": [],
   "source": [
    "X_train = X_train[keep_mask]"
   ]
  },
  {
   "cell_type": "code",
   "execution_count": 31,
   "id": "ceca8c2a",
   "metadata": {
    "execution": {
     "iopub.execute_input": "2025-08-19T18:01:37.823784Z",
     "iopub.status.busy": "2025-08-19T18:01:37.823082Z",
     "iopub.status.idle": "2025-08-19T18:01:37.831597Z",
     "shell.execute_reply": "2025-08-19T18:01:37.830379Z"
    },
    "papermill": {
     "duration": 0.023188,
     "end_time": "2025-08-19T18:01:37.832971",
     "exception": false,
     "start_time": "2025-08-19T18:01:37.809783",
     "status": "completed"
    },
    "tags": []
   },
   "outputs": [],
   "source": [
    "y_train = y_train[keep_mask]"
   ]
  },
  {
   "cell_type": "markdown",
   "id": "04d31e2f",
   "metadata": {
    "papermill": {
     "duration": 0.010594,
     "end_time": "2025-08-19T18:01:37.857264",
     "exception": false,
     "start_time": "2025-08-19T18:01:37.846670",
     "status": "completed"
    },
    "tags": []
   },
   "source": [
    "# Model Training"
   ]
  },
  {
   "cell_type": "code",
   "execution_count": 32,
   "id": "db991733",
   "metadata": {
    "execution": {
     "iopub.execute_input": "2025-08-19T18:01:37.880859Z",
     "iopub.status.busy": "2025-08-19T18:01:37.880092Z",
     "iopub.status.idle": "2025-08-19T18:01:37.985183Z",
     "shell.execute_reply": "2025-08-19T18:01:37.984395Z"
    },
    "papermill": {
     "duration": 0.120182,
     "end_time": "2025-08-19T18:01:37.987970",
     "exception": false,
     "start_time": "2025-08-19T18:01:37.867788",
     "status": "completed"
    },
    "tags": []
   },
   "outputs": [],
   "source": [
    "from sklearn.linear_model import LogisticRegression\n",
    "from sklearn.ensemble import GradientBoostingClassifier, RandomForestClassifier\n",
    "\n",
    "if (universe[\"model\"] == \"logreg\"):\n",
    "    model = LogisticRegression() #penalty=\"none\", solver=\"newton-cg\", max_iter=1)\n",
    "elif (universe[\"model\"] == \"penalized_logreg\"):\n",
    "    model = LogisticRegression(penalty=\"l2\", C=0.1) #, solver=\"newton-cg\", max_iter=1)\n",
    "elif (universe[\"model\"] == \"rf\"):\n",
    "    model = RandomForestClassifier() # n_estimators=100, n_jobs=-1\n",
    "elif (universe[\"model\"] == \"gbm\"):\n",
    "    model = GradientBoostingClassifier()\n",
    "elif (universe[\"model\"] == \"elasticnet\"):\n",
    "    model = LogisticRegression(penalty = 'elasticnet', solver = 'saga', l1_ratio = 0.5) # max_iter=5000\n",
    "else:\n",
    "    raise \"Unsupported universe.model\""
   ]
  },
  {
   "cell_type": "code",
   "execution_count": 33,
   "id": "a4b5cd25",
   "metadata": {
    "execution": {
     "iopub.execute_input": "2025-08-19T18:01:38.027893Z",
     "iopub.status.busy": "2025-08-19T18:01:38.027142Z",
     "iopub.status.idle": "2025-08-19T18:01:38.035607Z",
     "shell.execute_reply": "2025-08-19T18:01:38.034430Z"
    },
    "papermill": {
     "duration": 0.02482,
     "end_time": "2025-08-19T18:01:38.037220",
     "exception": false,
     "start_time": "2025-08-19T18:01:38.012400",
     "status": "completed"
    },
    "tags": []
   },
   "outputs": [],
   "source": [
    "from sklearn.pipeline import Pipeline\n",
    "from sklearn.preprocessing import StandardScaler\n",
    "\n",
    "model = Pipeline([\n",
    "    #(\"continuous_processor\", continuous_processor),\n",
    "    #(\"categorical_preprocessor\", categorical_preprocessor),\n",
    "    (\"scale\", StandardScaler() if universe[\"scale\"] == \"scale\" else None), \n",
    "    (\"model\", model),\n",
    "])"
   ]
  },
  {
   "cell_type": "code",
   "execution_count": 34,
   "id": "283a904d",
   "metadata": {
    "execution": {
     "iopub.execute_input": "2025-08-19T18:01:38.064381Z",
     "iopub.status.busy": "2025-08-19T18:01:38.063706Z",
     "iopub.status.idle": "2025-08-19T18:02:01.177892Z",
     "shell.execute_reply": "2025-08-19T18:02:01.176996Z"
    },
    "papermill": {
     "duration": 23.128374,
     "end_time": "2025-08-19T18:02:01.179151",
     "exception": false,
     "start_time": "2025-08-19T18:01:38.050777",
     "status": "completed"
    },
    "tags": []
   },
   "outputs": [
    {
     "data": {
      "text/html": [
       "<style>#sk-container-id-1 {color: black;background-color: white;}#sk-container-id-1 pre{padding: 0;}#sk-container-id-1 div.sk-toggleable {background-color: white;}#sk-container-id-1 label.sk-toggleable__label {cursor: pointer;display: block;width: 100%;margin-bottom: 0;padding: 0.3em;box-sizing: border-box;text-align: center;}#sk-container-id-1 label.sk-toggleable__label-arrow:before {content: \"▸\";float: left;margin-right: 0.25em;color: #696969;}#sk-container-id-1 label.sk-toggleable__label-arrow:hover:before {color: black;}#sk-container-id-1 div.sk-estimator:hover label.sk-toggleable__label-arrow:before {color: black;}#sk-container-id-1 div.sk-toggleable__content {max-height: 0;max-width: 0;overflow: hidden;text-align: left;background-color: #f0f8ff;}#sk-container-id-1 div.sk-toggleable__content pre {margin: 0.2em;color: black;border-radius: 0.25em;background-color: #f0f8ff;}#sk-container-id-1 input.sk-toggleable__control:checked~div.sk-toggleable__content {max-height: 200px;max-width: 100%;overflow: auto;}#sk-container-id-1 input.sk-toggleable__control:checked~label.sk-toggleable__label-arrow:before {content: \"▾\";}#sk-container-id-1 div.sk-estimator input.sk-toggleable__control:checked~label.sk-toggleable__label {background-color: #d4ebff;}#sk-container-id-1 div.sk-label input.sk-toggleable__control:checked~label.sk-toggleable__label {background-color: #d4ebff;}#sk-container-id-1 input.sk-hidden--visually {border: 0;clip: rect(1px 1px 1px 1px);clip: rect(1px, 1px, 1px, 1px);height: 1px;margin: -1px;overflow: hidden;padding: 0;position: absolute;width: 1px;}#sk-container-id-1 div.sk-estimator {font-family: monospace;background-color: #f0f8ff;border: 1px dotted black;border-radius: 0.25em;box-sizing: border-box;margin-bottom: 0.5em;}#sk-container-id-1 div.sk-estimator:hover {background-color: #d4ebff;}#sk-container-id-1 div.sk-parallel-item::after {content: \"\";width: 100%;border-bottom: 1px solid gray;flex-grow: 1;}#sk-container-id-1 div.sk-label:hover label.sk-toggleable__label {background-color: #d4ebff;}#sk-container-id-1 div.sk-serial::before {content: \"\";position: absolute;border-left: 1px solid gray;box-sizing: border-box;top: 0;bottom: 0;left: 50%;z-index: 0;}#sk-container-id-1 div.sk-serial {display: flex;flex-direction: column;align-items: center;background-color: white;padding-right: 0.2em;padding-left: 0.2em;position: relative;}#sk-container-id-1 div.sk-item {position: relative;z-index: 1;}#sk-container-id-1 div.sk-parallel {display: flex;align-items: stretch;justify-content: center;background-color: white;position: relative;}#sk-container-id-1 div.sk-item::before, #sk-container-id-1 div.sk-parallel-item::before {content: \"\";position: absolute;border-left: 1px solid gray;box-sizing: border-box;top: 0;bottom: 0;left: 50%;z-index: -1;}#sk-container-id-1 div.sk-parallel-item {display: flex;flex-direction: column;z-index: 1;position: relative;background-color: white;}#sk-container-id-1 div.sk-parallel-item:first-child::after {align-self: flex-end;width: 50%;}#sk-container-id-1 div.sk-parallel-item:last-child::after {align-self: flex-start;width: 50%;}#sk-container-id-1 div.sk-parallel-item:only-child::after {width: 0;}#sk-container-id-1 div.sk-dashed-wrapped {border: 1px dashed gray;margin: 0 0.4em 0.5em 0.4em;box-sizing: border-box;padding-bottom: 0.4em;background-color: white;}#sk-container-id-1 div.sk-label label {font-family: monospace;font-weight: bold;display: inline-block;line-height: 1.2em;}#sk-container-id-1 div.sk-label-container {text-align: center;}#sk-container-id-1 div.sk-container {/* jupyter's `normalize.less` sets `[hidden] { display: none; }` but bootstrap.min.css set `[hidden] { display: none !important; }` so we also need the `!important` here to be able to override the default hidden behavior on the sphinx rendered scikit-learn.org. See: https://github.com/scikit-learn/scikit-learn/issues/21755 */display: inline-block !important;position: relative;}#sk-container-id-1 div.sk-text-repr-fallback {display: none;}</style><div id=\"sk-container-id-1\" class=\"sk-top-container\"><div class=\"sk-text-repr-fallback\"><pre>Pipeline(steps=[(&#x27;scale&#x27;, None), (&#x27;model&#x27;, GradientBoostingClassifier())])</pre><b>In a Jupyter environment, please rerun this cell to show the HTML representation or trust the notebook. <br />On GitHub, the HTML representation is unable to render, please try loading this page with nbviewer.org.</b></div><div class=\"sk-container\" hidden><div class=\"sk-item sk-dashed-wrapped\"><div class=\"sk-label-container\"><div class=\"sk-label sk-toggleable\"><input class=\"sk-toggleable__control sk-hidden--visually\" id=\"sk-estimator-id-1\" type=\"checkbox\" ><label for=\"sk-estimator-id-1\" class=\"sk-toggleable__label sk-toggleable__label-arrow\">Pipeline</label><div class=\"sk-toggleable__content\"><pre>Pipeline(steps=[(&#x27;scale&#x27;, None), (&#x27;model&#x27;, GradientBoostingClassifier())])</pre></div></div></div><div class=\"sk-serial\"><div class=\"sk-item\"><div class=\"sk-estimator sk-toggleable\"><input class=\"sk-toggleable__control sk-hidden--visually\" id=\"sk-estimator-id-2\" type=\"checkbox\" ><label for=\"sk-estimator-id-2\" class=\"sk-toggleable__label sk-toggleable__label-arrow\">None</label><div class=\"sk-toggleable__content\"><pre>None</pre></div></div></div><div class=\"sk-item\"><div class=\"sk-estimator sk-toggleable\"><input class=\"sk-toggleable__control sk-hidden--visually\" id=\"sk-estimator-id-3\" type=\"checkbox\" ><label for=\"sk-estimator-id-3\" class=\"sk-toggleable__label sk-toggleable__label-arrow\">GradientBoostingClassifier</label><div class=\"sk-toggleable__content\"><pre>GradientBoostingClassifier()</pre></div></div></div></div></div></div></div>"
      ],
      "text/plain": [
       "Pipeline(steps=[('scale', None), ('model', GradientBoostingClassifier())])"
      ]
     },
     "execution_count": 34,
     "metadata": {},
     "output_type": "execute_result"
    }
   ],
   "source": [
    "model.fit(X_train, y_train.values.ravel())"
   ]
  },
  {
   "cell_type": "code",
   "execution_count": 35,
   "id": "6e15e313",
   "metadata": {
    "execution": {
     "iopub.execute_input": "2025-08-19T18:02:01.252013Z",
     "iopub.status.busy": "2025-08-19T18:02:01.250612Z",
     "iopub.status.idle": "2025-08-19T18:02:01.810815Z",
     "shell.execute_reply": "2025-08-19T18:02:01.810047Z"
    },
    "papermill": {
     "duration": 0.615661,
     "end_time": "2025-08-19T18:02:01.812245",
     "exception": false,
     "start_time": "2025-08-19T18:02:01.196584",
     "status": "completed"
    },
    "tags": []
   },
   "outputs": [
    {
     "data": {
      "text/plain": [
       "0.8703934901348791"
      ]
     },
     "execution_count": 35,
     "metadata": {},
     "output_type": "execute_result"
    }
   ],
   "source": [
    "from fairness_multiverse.universe import predict_w_threshold\n",
    "\n",
    "probs_test = model.predict_proba(X_test)\n",
    "\n",
    "'''\n",
    "Below code returns a boolean array (or binary 0/1 array depending on how it’s used) where each element \n",
    "is True if the probability of class 1 is greater than or equal to the threshold, and False otherwise.\n",
    "'''\n",
    "y_pred_default = predict_w_threshold(probs_test, 0.5)\n",
    "\n",
    "from sklearn.metrics import accuracy_score\n",
    "\n",
    "# Naive prediction\n",
    "accuracy_score(y_true = y_true, y_pred = y_pred_default)"
   ]
  },
  {
   "cell_type": "code",
   "execution_count": 36,
   "id": "6f14067c",
   "metadata": {
    "execution": {
     "iopub.execute_input": "2025-08-19T18:02:01.844153Z",
     "iopub.status.busy": "2025-08-19T18:02:01.843716Z",
     "iopub.status.idle": "2025-08-19T18:02:02.375918Z",
     "shell.execute_reply": "2025-08-19T18:02:02.374838Z"
    },
    "papermill": {
     "duration": 0.552113,
     "end_time": "2025-08-19T18:02:02.377216",
     "exception": false,
     "start_time": "2025-08-19T18:02:01.825103",
     "status": "completed"
    },
    "tags": []
   },
   "outputs": [
    {
     "data": {
      "text/plain": [
       "array([0, 0, 0, ..., 0, 0, 0])"
      ]
     },
     "execution_count": 36,
     "metadata": {},
     "output_type": "execute_result"
    }
   ],
   "source": [
    "model.predict(X_test)"
   ]
  },
  {
   "cell_type": "markdown",
   "id": "3759920c",
   "metadata": {
    "papermill": {
     "duration": 0.011137,
     "end_time": "2025-08-19T18:02:02.400617",
     "exception": false,
     "start_time": "2025-08-19T18:02:02.389480",
     "status": "completed"
    },
    "tags": []
   },
   "source": [
    "# Conformal Prediction"
   ]
  },
  {
   "cell_type": "code",
   "execution_count": 37,
   "id": "14b27f59",
   "metadata": {
    "execution": {
     "iopub.execute_input": "2025-08-19T18:02:02.423834Z",
     "iopub.status.busy": "2025-08-19T18:02:02.423479Z",
     "iopub.status.idle": "2025-08-19T18:02:02.429059Z",
     "shell.execute_reply": "2025-08-19T18:02:02.428261Z"
    },
    "papermill": {
     "duration": 0.018995,
     "end_time": "2025-08-19T18:02:02.430579",
     "exception": false,
     "start_time": "2025-08-19T18:02:02.411584",
     "status": "completed"
    },
    "tags": []
   },
   "outputs": [],
   "source": [
    "# Miscoverage level for conformal prediction (10% allowed error rate => 90% target coverage)\n",
    "alpha = 0.1"
   ]
  },
  {
   "cell_type": "code",
   "execution_count": 38,
   "id": "59102472",
   "metadata": {
    "execution": {
     "iopub.execute_input": "2025-08-19T18:02:02.454316Z",
     "iopub.status.busy": "2025-08-19T18:02:02.453914Z",
     "iopub.status.idle": "2025-08-19T18:02:02.944260Z",
     "shell.execute_reply": "2025-08-19T18:02:02.943462Z"
    },
    "papermill": {
     "duration": 0.50424,
     "end_time": "2025-08-19T18:02:02.945905",
     "exception": false,
     "start_time": "2025-08-19T18:02:02.441665",
     "status": "completed"
    },
    "tags": []
   },
   "outputs": [],
   "source": [
    "probs_calib = model.predict_proba(X_calib)"
   ]
  },
  {
   "cell_type": "code",
   "execution_count": 39,
   "id": "a792d4dd",
   "metadata": {
    "execution": {
     "iopub.execute_input": "2025-08-19T18:02:02.971494Z",
     "iopub.status.busy": "2025-08-19T18:02:02.970785Z",
     "iopub.status.idle": "2025-08-19T18:02:02.978804Z",
     "shell.execute_reply": "2025-08-19T18:02:02.977475Z"
    },
    "papermill": {
     "duration": 0.022006,
     "end_time": "2025-08-19T18:02:02.980163",
     "exception": false,
     "start_time": "2025-08-19T18:02:02.958157",
     "status": "completed"
    },
    "tags": []
   },
   "outputs": [],
   "source": [
    "y_calib = y_calib.values.ravel().astype(int)"
   ]
  },
  {
   "cell_type": "code",
   "execution_count": 40,
   "id": "650fd033",
   "metadata": {
    "execution": {
     "iopub.execute_input": "2025-08-19T18:02:03.011205Z",
     "iopub.status.busy": "2025-08-19T18:02:03.009987Z",
     "iopub.status.idle": "2025-08-19T18:02:03.023017Z",
     "shell.execute_reply": "2025-08-19T18:02:03.021321Z"
    },
    "papermill": {
     "duration": 0.02764,
     "end_time": "2025-08-19T18:02:03.024757",
     "exception": false,
     "start_time": "2025-08-19T18:02:02.997117",
     "status": "completed"
    },
    "tags": []
   },
   "outputs": [],
   "source": [
    "from fairness_multiverse.conformal import compute_nc_scores\n",
    "\n",
    "# Compute nonconformity scores on calibration set (1 - probability of true class)\n",
    "nc_scores = compute_nc_scores(probs_calib, y_calib)"
   ]
  },
  {
   "cell_type": "code",
   "execution_count": 41,
   "id": "28ada44c",
   "metadata": {
    "execution": {
     "iopub.execute_input": "2025-08-19T18:02:03.055293Z",
     "iopub.status.busy": "2025-08-19T18:02:03.054233Z",
     "iopub.status.idle": "2025-08-19T18:02:03.067398Z",
     "shell.execute_reply": "2025-08-19T18:02:03.066521Z"
    },
    "papermill": {
     "duration": 0.027789,
     "end_time": "2025-08-19T18:02:03.068810",
     "exception": false,
     "start_time": "2025-08-19T18:02:03.041021",
     "status": "completed"
    },
    "tags": []
   },
   "outputs": [],
   "source": [
    "from fairness_multiverse.conformal import find_threshold\n",
    "\n",
    "# Find conformal threshold q_hat for the given alpha (split conformal method)\n",
    "q_hat = find_threshold(nc_scores, alpha)"
   ]
  },
  {
   "cell_type": "code",
   "execution_count": 42,
   "id": "df56469e",
   "metadata": {
    "execution": {
     "iopub.execute_input": "2025-08-19T18:02:03.105897Z",
     "iopub.status.busy": "2025-08-19T18:02:03.104203Z",
     "iopub.status.idle": "2025-08-19T18:02:03.115455Z",
     "shell.execute_reply": "2025-08-19T18:02:03.114244Z"
    },
    "papermill": {
     "duration": 0.030233,
     "end_time": "2025-08-19T18:02:03.116948",
     "exception": false,
     "start_time": "2025-08-19T18:02:03.086715",
     "status": "completed"
    },
    "tags": []
   },
   "outputs": [
    {
     "data": {
      "text/plain": [
       "0.6887817108811853"
      ]
     },
     "execution_count": 42,
     "metadata": {},
     "output_type": "execute_result"
    }
   ],
   "source": [
    "q_hat"
   ]
  },
  {
   "cell_type": "code",
   "execution_count": 43,
   "id": "aa1f5faa",
   "metadata": {
    "execution": {
     "iopub.execute_input": "2025-08-19T18:02:03.148421Z",
     "iopub.status.busy": "2025-08-19T18:02:03.144583Z",
     "iopub.status.idle": "2025-08-19T18:02:04.104646Z",
     "shell.execute_reply": "2025-08-19T18:02:04.103771Z"
    },
    "papermill": {
     "duration": 0.975325,
     "end_time": "2025-08-19T18:02:04.106331",
     "exception": false,
     "start_time": "2025-08-19T18:02:03.131006",
     "status": "completed"
    },
    "tags": []
   },
   "outputs": [],
   "source": [
    "from fairness_multiverse.conformal import predict_conformal_sets\n",
    "\n",
    "# Generate prediction sets for each test example\n",
    "pred_sets = predict_conformal_sets(model, X_test, q_hat)"
   ]
  },
  {
   "cell_type": "code",
   "execution_count": 44,
   "id": "97f67a6b",
   "metadata": {
    "execution": {
     "iopub.execute_input": "2025-08-19T18:02:04.132139Z",
     "iopub.status.busy": "2025-08-19T18:02:04.131527Z",
     "iopub.status.idle": "2025-08-19T18:02:04.137733Z",
     "shell.execute_reply": "2025-08-19T18:02:04.136627Z"
    },
    "papermill": {
     "duration": 0.020677,
     "end_time": "2025-08-19T18:02:04.139337",
     "exception": false,
     "start_time": "2025-08-19T18:02:04.118660",
     "status": "completed"
    },
    "tags": []
   },
   "outputs": [],
   "source": [
    "y_true = y_true.squeeze()"
   ]
  },
  {
   "cell_type": "code",
   "execution_count": 45,
   "id": "e700e9a7",
   "metadata": {
    "execution": {
     "iopub.execute_input": "2025-08-19T18:02:04.165260Z",
     "iopub.status.busy": "2025-08-19T18:02:04.164220Z",
     "iopub.status.idle": "2025-08-19T18:02:04.679797Z",
     "shell.execute_reply": "2025-08-19T18:02:04.678284Z"
    },
    "papermill": {
     "duration": 0.532708,
     "end_time": "2025-08-19T18:02:04.684098",
     "exception": false,
     "start_time": "2025-08-19T18:02:04.151390",
     "status": "completed"
    },
    "tags": []
   },
   "outputs": [],
   "source": [
    "from fairness_multiverse.conformal import evaluate_sets\n",
    "\n",
    "# Evaluate coverage and average set size on test data\n",
    "metrics = evaluate_sets(pred_sets, y_true)"
   ]
  },
  {
   "cell_type": "markdown",
   "id": "efbacec0",
   "metadata": {
    "papermill": {
     "duration": 0.012347,
     "end_time": "2025-08-19T18:02:04.721166",
     "exception": false,
     "start_time": "2025-08-19T18:02:04.708819",
     "status": "completed"
    },
    "tags": []
   },
   "source": [
    "# CP Metrics"
   ]
  },
  {
   "cell_type": "code",
   "execution_count": 46,
   "id": "9de55fb1",
   "metadata": {
    "execution": {
     "iopub.execute_input": "2025-08-19T18:02:04.748745Z",
     "iopub.status.busy": "2025-08-19T18:02:04.747164Z",
     "iopub.status.idle": "2025-08-19T18:02:04.760573Z",
     "shell.execute_reply": "2025-08-19T18:02:04.759315Z"
    },
    "papermill": {
     "duration": 0.029844,
     "end_time": "2025-08-19T18:02:04.762567",
     "exception": false,
     "start_time": "2025-08-19T18:02:04.732723",
     "status": "completed"
    },
    "tags": []
   },
   "outputs": [
    {
     "data": {
      "text/plain": [
       "{'coverage': 0.9098651209452681, 'avg_size': 1.1148478430498272}"
      ]
     },
     "execution_count": 46,
     "metadata": {},
     "output_type": "execute_result"
    }
   ],
   "source": [
    "metrics"
   ]
  },
  {
   "cell_type": "code",
   "execution_count": 47,
   "id": "64c340a1",
   "metadata": {
    "execution": {
     "iopub.execute_input": "2025-08-19T18:02:04.793014Z",
     "iopub.status.busy": "2025-08-19T18:02:04.791880Z",
     "iopub.status.idle": "2025-08-19T18:02:04.801761Z",
     "shell.execute_reply": "2025-08-19T18:02:04.800649Z"
    },
    "papermill": {
     "duration": 0.025706,
     "end_time": "2025-08-19T18:02:04.803677",
     "exception": false,
     "start_time": "2025-08-19T18:02:04.777971",
     "status": "completed"
    },
    "tags": []
   },
   "outputs": [],
   "source": [
    "example_universe = universe.copy()\n",
    "universe_training_year = example_universe.get(\"training_year\")\n",
    "universe_training_size = example_universe.get(\"training_size\")\n",
    "universe_scale = example_universe.get(\"scale\")\n",
    "universe_model = example_universe.get(\"model\")\n",
    "universe_exclude_features = example_universe.get(\"exclude_features\")\n",
    "universe_exclude_subgroups = example_universe.get(\"exclude_subgroups\")"
   ]
  },
  {
   "cell_type": "code",
   "execution_count": 48,
   "id": "dbb53cb4",
   "metadata": {
    "execution": {
     "iopub.execute_input": "2025-08-19T18:02:04.836351Z",
     "iopub.status.busy": "2025-08-19T18:02:04.835101Z",
     "iopub.status.idle": "2025-08-19T18:02:04.844907Z",
     "shell.execute_reply": "2025-08-19T18:02:04.843594Z"
    },
    "papermill": {
     "duration": 0.02681,
     "end_time": "2025-08-19T18:02:04.846504",
     "exception": false,
     "start_time": "2025-08-19T18:02:04.819694",
     "status": "completed"
    },
    "tags": []
   },
   "outputs": [],
   "source": [
    "cp_metrics_dict = {\n",
    "    \"universe_id\": [universe_id],\n",
    "    \"universe_training_year\": [universe_training_year],\n",
    "    \"universe_training_size\": [universe_training_size],\n",
    "    \"universe_scale\": [universe_scale],\n",
    "    \"universe_model\": [universe_model],\n",
    "    \"universe_exclude_features\": [universe_exclude_features],\n",
    "    \"universe_exclude_subgroups\": [universe_exclude_subgroups],\n",
    "    \"q_hat\": [q_hat],\n",
    "    \"coverage\": [metrics[\"coverage\"]],\n",
    "    \"avg_size\": [metrics[\"avg_size\"]],\n",
    "}"
   ]
  },
  {
   "cell_type": "code",
   "execution_count": 49,
   "id": "0d70d4b2",
   "metadata": {
    "execution": {
     "iopub.execute_input": "2025-08-19T18:02:04.872822Z",
     "iopub.status.busy": "2025-08-19T18:02:04.872085Z",
     "iopub.status.idle": "2025-08-19T18:02:04.883852Z",
     "shell.execute_reply": "2025-08-19T18:02:04.882595Z"
    },
    "papermill": {
     "duration": 0.026268,
     "end_time": "2025-08-19T18:02:04.885572",
     "exception": false,
     "start_time": "2025-08-19T18:02:04.859304",
     "status": "completed"
    },
    "tags": []
   },
   "outputs": [],
   "source": [
    "cp_metrics_df = pd.DataFrame(cp_metrics_dict)"
   ]
  },
  {
   "cell_type": "code",
   "execution_count": 50,
   "id": "b494403c",
   "metadata": {
    "execution": {
     "iopub.execute_input": "2025-08-19T18:02:04.914617Z",
     "iopub.status.busy": "2025-08-19T18:02:04.913134Z",
     "iopub.status.idle": "2025-08-19T18:02:04.937169Z",
     "shell.execute_reply": "2025-08-19T18:02:04.936077Z"
    },
    "papermill": {
     "duration": 0.039927,
     "end_time": "2025-08-19T18:02:04.940009",
     "exception": false,
     "start_time": "2025-08-19T18:02:04.900082",
     "status": "completed"
    },
    "tags": []
   },
   "outputs": [
    {
     "data": {
      "text/html": [
       "<div>\n",
       "<style scoped>\n",
       "    .dataframe tbody tr th:only-of-type {\n",
       "        vertical-align: middle;\n",
       "    }\n",
       "\n",
       "    .dataframe tbody tr th {\n",
       "        vertical-align: top;\n",
       "    }\n",
       "\n",
       "    .dataframe thead th {\n",
       "        text-align: right;\n",
       "    }\n",
       "</style>\n",
       "<table border=\"1\" class=\"dataframe\">\n",
       "  <thead>\n",
       "    <tr style=\"text-align: right;\">\n",
       "      <th></th>\n",
       "      <th>universe_id</th>\n",
       "      <th>universe_training_year</th>\n",
       "      <th>universe_training_size</th>\n",
       "      <th>universe_scale</th>\n",
       "      <th>universe_model</th>\n",
       "      <th>universe_exclude_features</th>\n",
       "      <th>universe_exclude_subgroups</th>\n",
       "      <th>q_hat</th>\n",
       "      <th>coverage</th>\n",
       "      <th>avg_size</th>\n",
       "    </tr>\n",
       "  </thead>\n",
       "  <tbody>\n",
       "    <tr>\n",
       "      <th>0</th>\n",
       "      <td>9df65e030cd7b86125f0f975f7807877</td>\n",
       "      <td>2014</td>\n",
       "      <td>25k</td>\n",
       "      <td>do-not-scale</td>\n",
       "      <td>gbm</td>\n",
       "      <td>age</td>\n",
       "      <td>keep-all</td>\n",
       "      <td>0.688782</td>\n",
       "      <td>0.909865</td>\n",
       "      <td>1.114848</td>\n",
       "    </tr>\n",
       "  </tbody>\n",
       "</table>\n",
       "</div>"
      ],
      "text/plain": [
       "                        universe_id universe_training_year  \\\n",
       "0  9df65e030cd7b86125f0f975f7807877                   2014   \n",
       "\n",
       "  universe_training_size universe_scale universe_model  \\\n",
       "0                    25k   do-not-scale            gbm   \n",
       "\n",
       "  universe_exclude_features universe_exclude_subgroups     q_hat  coverage  \\\n",
       "0                       age                   keep-all  0.688782  0.909865   \n",
       "\n",
       "   avg_size  \n",
       "0  1.114848  "
      ]
     },
     "execution_count": 50,
     "metadata": {},
     "output_type": "execute_result"
    }
   ],
   "source": [
    "cp_metrics_df"
   ]
  },
  {
   "cell_type": "markdown",
   "id": "ed608b0b",
   "metadata": {
    "papermill": {
     "duration": 0.012263,
     "end_time": "2025-08-19T18:02:04.969926",
     "exception": false,
     "start_time": "2025-08-19T18:02:04.957663",
     "status": "completed"
    },
    "tags": []
   },
   "source": [
    "Conditional coverage & looking at subgroups"
   ]
  },
  {
   "cell_type": "code",
   "execution_count": 51,
   "id": "8968c366",
   "metadata": {
    "execution": {
     "iopub.execute_input": "2025-08-19T18:02:04.996304Z",
     "iopub.status.busy": "2025-08-19T18:02:04.994898Z",
     "iopub.status.idle": "2025-08-19T18:02:05.284502Z",
     "shell.execute_reply": "2025-08-19T18:02:05.283415Z"
    },
    "papermill": {
     "duration": 0.304522,
     "end_time": "2025-08-19T18:02:05.286196",
     "exception": false,
     "start_time": "2025-08-19T18:02:04.981674",
     "status": "completed"
    },
    "tags": []
   },
   "outputs": [],
   "source": [
    "from fairness_multiverse.conformal import build_cp_groups\n",
    "\n",
    "cp_groups_df = build_cp_groups(pred_sets, y_true, X_test.index, org_test)"
   ]
  },
  {
   "cell_type": "code",
   "execution_count": 52,
   "id": "292ddabf",
   "metadata": {
    "execution": {
     "iopub.execute_input": "2025-08-19T18:02:05.323087Z",
     "iopub.status.busy": "2025-08-19T18:02:05.322193Z",
     "iopub.status.idle": "2025-08-19T18:02:06.224510Z",
     "shell.execute_reply": "2025-08-19T18:02:06.223175Z"
    },
    "papermill": {
     "duration": 0.92297,
     "end_time": "2025-08-19T18:02:06.226705",
     "exception": false,
     "start_time": "2025-08-19T18:02:05.303735",
     "status": "completed"
    },
    "tags": []
   },
   "outputs": [],
   "source": [
    "# Define covered = 1 if true_label is in the predicted set\n",
    "cp_groups_df['covered'] = cp_groups_df.apply(\n",
    "    lambda r: int(r['true_label'] in r['pred_set']),\n",
    "    axis=1\n",
    ")"
   ]
  },
  {
   "cell_type": "code",
   "execution_count": 53,
   "id": "3a261692",
   "metadata": {
    "execution": {
     "iopub.execute_input": "2025-08-19T18:02:06.258590Z",
     "iopub.status.busy": "2025-08-19T18:02:06.257507Z",
     "iopub.status.idle": "2025-08-19T18:02:06.277622Z",
     "shell.execute_reply": "2025-08-19T18:02:06.276877Z"
    },
    "papermill": {
     "duration": 0.037344,
     "end_time": "2025-08-19T18:02:06.279757",
     "exception": false,
     "start_time": "2025-08-19T18:02:06.242413",
     "status": "completed"
    },
    "tags": []
   },
   "outputs": [],
   "source": [
    "subgroups = ['frau1','nongerman','nongerman_male','nongerman_female']\n",
    "\n",
    "# Conditional coverage for subgroup==1\n",
    "cond_coverage = {\n",
    "    g: cp_groups_df.loc[cp_groups_df[g]==1, 'covered'].mean()\n",
    "    for g in subgroups\n",
    "}"
   ]
  },
  {
   "cell_type": "code",
   "execution_count": 54,
   "id": "894fd600",
   "metadata": {
    "execution": {
     "iopub.execute_input": "2025-08-19T18:02:06.314931Z",
     "iopub.status.busy": "2025-08-19T18:02:06.313841Z",
     "iopub.status.idle": "2025-08-19T18:02:06.326135Z",
     "shell.execute_reply": "2025-08-19T18:02:06.324552Z"
    },
    "papermill": {
     "duration": 0.028146,
     "end_time": "2025-08-19T18:02:06.327802",
     "exception": false,
     "start_time": "2025-08-19T18:02:06.299656",
     "status": "completed"
    },
    "tags": []
   },
   "outputs": [
    {
     "data": {
      "text/plain": [
       "{'frau1': 0.9103113627173474,\n",
       " 'nongerman': 0.9087744905406164,\n",
       " 'nongerman_male': 0.9241646401873368,\n",
       " 'nongerman_female': 0.8833084947839046}"
      ]
     },
     "execution_count": 54,
     "metadata": {},
     "output_type": "execute_result"
    }
   ],
   "source": [
    "cond_coverage"
   ]
  },
  {
   "cell_type": "code",
   "execution_count": 55,
   "id": "942895c7",
   "metadata": {
    "execution": {
     "iopub.execute_input": "2025-08-19T18:02:06.358702Z",
     "iopub.status.busy": "2025-08-19T18:02:06.357620Z",
     "iopub.status.idle": "2025-08-19T18:02:06.369212Z",
     "shell.execute_reply": "2025-08-19T18:02:06.367783Z"
    },
    "papermill": {
     "duration": 0.027353,
     "end_time": "2025-08-19T18:02:06.370882",
     "exception": false,
     "start_time": "2025-08-19T18:02:06.343529",
     "status": "completed"
    },
    "tags": []
   },
   "outputs": [],
   "source": [
    "for subgroup, cov in cond_coverage.items():\n",
    "    cp_metrics_df[f\"cov_{subgroup}\"] = cov"
   ]
  },
  {
   "cell_type": "code",
   "execution_count": 56,
   "id": "3970120f",
   "metadata": {
    "execution": {
     "iopub.execute_input": "2025-08-19T18:02:06.401776Z",
     "iopub.status.busy": "2025-08-19T18:02:06.400725Z",
     "iopub.status.idle": "2025-08-19T18:02:06.425750Z",
     "shell.execute_reply": "2025-08-19T18:02:06.424824Z"
    },
    "papermill": {
     "duration": 0.041464,
     "end_time": "2025-08-19T18:02:06.427970",
     "exception": false,
     "start_time": "2025-08-19T18:02:06.386506",
     "status": "completed"
    },
    "tags": []
   },
   "outputs": [
    {
     "data": {
      "text/html": [
       "<div>\n",
       "<style scoped>\n",
       "    .dataframe tbody tr th:only-of-type {\n",
       "        vertical-align: middle;\n",
       "    }\n",
       "\n",
       "    .dataframe tbody tr th {\n",
       "        vertical-align: top;\n",
       "    }\n",
       "\n",
       "    .dataframe thead th {\n",
       "        text-align: right;\n",
       "    }\n",
       "</style>\n",
       "<table border=\"1\" class=\"dataframe\">\n",
       "  <thead>\n",
       "    <tr style=\"text-align: right;\">\n",
       "      <th></th>\n",
       "      <th>universe_id</th>\n",
       "      <th>universe_training_year</th>\n",
       "      <th>universe_training_size</th>\n",
       "      <th>universe_scale</th>\n",
       "      <th>universe_model</th>\n",
       "      <th>universe_exclude_features</th>\n",
       "      <th>universe_exclude_subgroups</th>\n",
       "      <th>q_hat</th>\n",
       "      <th>coverage</th>\n",
       "      <th>avg_size</th>\n",
       "      <th>cov_frau1</th>\n",
       "      <th>cov_nongerman</th>\n",
       "      <th>cov_nongerman_male</th>\n",
       "      <th>cov_nongerman_female</th>\n",
       "    </tr>\n",
       "  </thead>\n",
       "  <tbody>\n",
       "    <tr>\n",
       "      <th>0</th>\n",
       "      <td>9df65e030cd7b86125f0f975f7807877</td>\n",
       "      <td>2014</td>\n",
       "      <td>25k</td>\n",
       "      <td>do-not-scale</td>\n",
       "      <td>gbm</td>\n",
       "      <td>age</td>\n",
       "      <td>keep-all</td>\n",
       "      <td>0.688782</td>\n",
       "      <td>0.909865</td>\n",
       "      <td>1.114848</td>\n",
       "      <td>0.910311</td>\n",
       "      <td>0.908774</td>\n",
       "      <td>0.924165</td>\n",
       "      <td>0.883308</td>\n",
       "    </tr>\n",
       "  </tbody>\n",
       "</table>\n",
       "</div>"
      ],
      "text/plain": [
       "                        universe_id universe_training_year  \\\n",
       "0  9df65e030cd7b86125f0f975f7807877                   2014   \n",
       "\n",
       "  universe_training_size universe_scale universe_model  \\\n",
       "0                    25k   do-not-scale            gbm   \n",
       "\n",
       "  universe_exclude_features universe_exclude_subgroups     q_hat  coverage  \\\n",
       "0                       age                   keep-all  0.688782  0.909865   \n",
       "\n",
       "   avg_size  cov_frau1  cov_nongerman  cov_nongerman_male  \\\n",
       "0  1.114848   0.910311       0.908774            0.924165   \n",
       "\n",
       "   cov_nongerman_female  \n",
       "0              0.883308  "
      ]
     },
     "execution_count": 56,
     "metadata": {},
     "output_type": "execute_result"
    }
   ],
   "source": [
    "cp_metrics_df"
   ]
  },
  {
   "cell_type": "markdown",
   "id": "3fc519cc",
   "metadata": {
    "papermill": {
     "duration": 0.013223,
     "end_time": "2025-08-19T18:02:06.465318",
     "exception": false,
     "start_time": "2025-08-19T18:02:06.452095",
     "status": "completed"
    },
    "tags": []
   },
   "source": [
    "# (Fairness) Metrics"
   ]
  },
  {
   "cell_type": "code",
   "execution_count": 57,
   "id": "a2e5e155",
   "metadata": {
    "execution": {
     "iopub.execute_input": "2025-08-19T18:02:06.492614Z",
     "iopub.status.busy": "2025-08-19T18:02:06.491497Z",
     "iopub.status.idle": "2025-08-19T18:02:06.517808Z",
     "shell.execute_reply": "2025-08-19T18:02:06.516939Z"
    },
    "papermill": {
     "duration": 0.042208,
     "end_time": "2025-08-19T18:02:06.519703",
     "exception": false,
     "start_time": "2025-08-19T18:02:06.477495",
     "status": "completed"
    },
    "tags": []
   },
   "outputs": [],
   "source": [
    "colname_to_bin = \"maxdeutsch1\"\n",
    "majority_value = org_train[colname_to_bin].mode()[0]\n",
    "\n",
    "org_test[\"majmin\"] = np.where(org_test[colname_to_bin] == majority_value, \"majority\", \"minority\")"
   ]
  },
  {
   "cell_type": "code",
   "execution_count": 58,
   "id": "17e3e4d5",
   "metadata": {
    "execution": {
     "iopub.execute_input": "2025-08-19T18:02:06.559813Z",
     "iopub.status.busy": "2025-08-19T18:02:06.558822Z",
     "iopub.status.idle": "2025-08-19T18:02:08.296465Z",
     "shell.execute_reply": "2025-08-19T18:02:08.295340Z"
    },
    "papermill": {
     "duration": 1.755708,
     "end_time": "2025-08-19T18:02:08.299474",
     "exception": false,
     "start_time": "2025-08-19T18:02:06.543766",
     "status": "completed"
    },
    "tags": []
   },
   "outputs": [],
   "source": [
    "example_universe = universe.copy()\n",
    "example_universe[\"cutoff\"] = example_universe[\"cutoff\"][0]\n",
    "example_universe[\"eval_fairness_grouping\"] = example_universe[\"eval_fairness_grouping\"][0]\n",
    "fairness_dict, metric_frame = universe_analysis.compute_metrics(\n",
    "    example_universe,\n",
    "    y_pred_prob=probs_test,\n",
    "    y_test=y_true,\n",
    "    org_test=org_test,\n",
    ")"
   ]
  },
  {
   "cell_type": "markdown",
   "id": "1fb7a0e9",
   "metadata": {
    "papermill": {
     "duration": 0.012906,
     "end_time": "2025-08-19T18:02:08.342021",
     "exception": false,
     "start_time": "2025-08-19T18:02:08.329115",
     "status": "completed"
    },
    "tags": []
   },
   "source": [
    "# Overall"
   ]
  },
  {
   "cell_type": "markdown",
   "id": "be1784b1",
   "metadata": {
    "papermill": {
     "duration": 0.014292,
     "end_time": "2025-08-19T18:02:08.369950",
     "exception": false,
     "start_time": "2025-08-19T18:02:08.355658",
     "status": "completed"
    },
    "tags": []
   },
   "source": [
    "Main fairness target: Equalized Odds. Seems to be a better fit than equal opportunity, since we're not only interested in Y = 1. Seems to be a better fit than demographic parity, since we also care about accuracy, not just equal distribution of preds.\n",
    "\n",
    "Pick column for computation of fairness metrics\n",
    "\n",
    "Performance\n",
    "Overall performance measures, most interesting in relation to the measures split by group below"
   ]
  },
  {
   "cell_type": "code",
   "execution_count": 59,
   "id": "b7672bee",
   "metadata": {
    "execution": {
     "iopub.execute_input": "2025-08-19T18:02:08.412663Z",
     "iopub.status.busy": "2025-08-19T18:02:08.412300Z",
     "iopub.status.idle": "2025-08-19T18:02:08.421428Z",
     "shell.execute_reply": "2025-08-19T18:02:08.420530Z"
    },
    "papermill": {
     "duration": 0.02688,
     "end_time": "2025-08-19T18:02:08.424050",
     "exception": false,
     "start_time": "2025-08-19T18:02:08.397170",
     "status": "completed"
    },
    "tags": []
   },
   "outputs": [
    {
     "data": {
      "text/plain": [
       "accuracy                   0.225415\n",
       "balanced accuracy          0.550972\n",
       "f1                         0.246726\n",
       "precision                  0.140946\n",
       "false positive rate        0.886934\n",
       "false negative rate        0.011123\n",
       "selection rate             0.900011\n",
       "count                  89710.000000\n",
       "dtype: float64"
      ]
     },
     "execution_count": 59,
     "metadata": {},
     "output_type": "execute_result"
    }
   ],
   "source": [
    "metric_frame.overall"
   ]
  },
  {
   "cell_type": "markdown",
   "id": "d93333c9",
   "metadata": {
    "papermill": {
     "duration": 0.013177,
     "end_time": "2025-08-19T18:02:08.465109",
     "exception": false,
     "start_time": "2025-08-19T18:02:08.451932",
     "status": "completed"
    },
    "tags": []
   },
   "source": [
    "By Group"
   ]
  },
  {
   "cell_type": "code",
   "execution_count": 60,
   "id": "52256966",
   "metadata": {
    "execution": {
     "iopub.execute_input": "2025-08-19T18:02:08.494529Z",
     "iopub.status.busy": "2025-08-19T18:02:08.493253Z",
     "iopub.status.idle": "2025-08-19T18:02:08.516943Z",
     "shell.execute_reply": "2025-08-19T18:02:08.516048Z"
    },
    "papermill": {
     "duration": 0.039746,
     "end_time": "2025-08-19T18:02:08.518585",
     "exception": false,
     "start_time": "2025-08-19T18:02:08.478839",
     "status": "completed"
    },
    "tags": []
   },
   "outputs": [
    {
     "data": {
      "text/html": [
       "<div>\n",
       "<style scoped>\n",
       "    .dataframe tbody tr th:only-of-type {\n",
       "        vertical-align: middle;\n",
       "    }\n",
       "\n",
       "    .dataframe tbody tr th {\n",
       "        vertical-align: top;\n",
       "    }\n",
       "\n",
       "    .dataframe thead th {\n",
       "        text-align: right;\n",
       "    }\n",
       "</style>\n",
       "<table border=\"1\" class=\"dataframe\">\n",
       "  <thead>\n",
       "    <tr style=\"text-align: right;\">\n",
       "      <th></th>\n",
       "      <th>accuracy</th>\n",
       "      <th>balanced accuracy</th>\n",
       "      <th>f1</th>\n",
       "      <th>precision</th>\n",
       "      <th>false positive rate</th>\n",
       "      <th>false negative rate</th>\n",
       "      <th>selection rate</th>\n",
       "      <th>count</th>\n",
       "    </tr>\n",
       "    <tr>\n",
       "      <th>majmin</th>\n",
       "      <th></th>\n",
       "      <th></th>\n",
       "      <th></th>\n",
       "      <th></th>\n",
       "      <th></th>\n",
       "      <th></th>\n",
       "      <th></th>\n",
       "      <th></th>\n",
       "    </tr>\n",
       "  </thead>\n",
       "  <tbody>\n",
       "    <tr>\n",
       "      <th>majority</th>\n",
       "      <td>0.241550</td>\n",
       "      <td>0.557934</td>\n",
       "      <td>0.256090</td>\n",
       "      <td>0.147112</td>\n",
       "      <td>0.872097</td>\n",
       "      <td>0.012035</td>\n",
       "      <td>0.887408</td>\n",
       "      <td>69170.0</td>\n",
       "    </tr>\n",
       "    <tr>\n",
       "      <th>minority</th>\n",
       "      <td>0.171081</td>\n",
       "      <td>0.528227</td>\n",
       "      <td>0.216331</td>\n",
       "      <td>0.121397</td>\n",
       "      <td>0.935945</td>\n",
       "      <td>0.007601</td>\n",
       "      <td>0.942454</td>\n",
       "      <td>20540.0</td>\n",
       "    </tr>\n",
       "  </tbody>\n",
       "</table>\n",
       "</div>"
      ],
      "text/plain": [
       "          accuracy  balanced accuracy        f1  precision  \\\n",
       "majmin                                                       \n",
       "majority  0.241550           0.557934  0.256090   0.147112   \n",
       "minority  0.171081           0.528227  0.216331   0.121397   \n",
       "\n",
       "          false positive rate  false negative rate  selection rate    count  \n",
       "majmin                                                                       \n",
       "majority             0.872097             0.012035        0.887408  69170.0  \n",
       "minority             0.935945             0.007601        0.942454  20540.0  "
      ]
     },
     "execution_count": 60,
     "metadata": {},
     "output_type": "execute_result"
    }
   ],
   "source": [
    "metric_frame.by_group"
   ]
  },
  {
   "cell_type": "code",
   "execution_count": 61,
   "id": "6e6c20ae",
   "metadata": {
    "execution": {
     "iopub.execute_input": "2025-08-19T18:02:08.558335Z",
     "iopub.status.busy": "2025-08-19T18:02:08.557072Z",
     "iopub.status.idle": "2025-08-19T18:02:10.353228Z",
     "shell.execute_reply": "2025-08-19T18:02:10.352335Z"
    },
    "papermill": {
     "duration": 1.816466,
     "end_time": "2025-08-19T18:02:10.358708",
     "exception": false,
     "start_time": "2025-08-19T18:02:08.542242",
     "status": "completed"
    },
    "tags": []
   },
   "outputs": [
    {
     "data": {
      "text/plain": [
       "array([[<Axes: title={'center': 'accuracy'}, xlabel='majmin'>,\n",
       "        <Axes: title={'center': 'balanced accuracy'}, xlabel='majmin'>,\n",
       "        <Axes: title={'center': 'f1'}, xlabel='majmin'>],\n",
       "       [<Axes: title={'center': 'precision'}, xlabel='majmin'>,\n",
       "        <Axes: title={'center': 'false positive rate'}, xlabel='majmin'>,\n",
       "        <Axes: title={'center': 'false negative rate'}, xlabel='majmin'>],\n",
       "       [<Axes: title={'center': 'selection rate'}, xlabel='majmin'>,\n",
       "        <Axes: title={'center': 'count'}, xlabel='majmin'>,\n",
       "        <Axes: xlabel='majmin'>]], dtype=object)"
      ]
     },
     "execution_count": 61,
     "metadata": {},
     "output_type": "execute_result"
    },
    {
     "data": {
      "image/png": "[encoded data removed]",
      "text/plain": [
       "<Figure size 1200x800 with 9 Axes>"
      ]
     },
     "metadata": {},
     "output_type": "display_data"
    }
   ],
   "source": [
    "# In a graphic\n",
    "metric_frame.by_group.plot.bar(\n",
    "    subplots=True,\n",
    "    layout=[3, 3],\n",
    "    legend=False,\n",
    "    figsize=[12, 8],\n",
    "    title=\"Show all metrics\",\n",
    ")"
   ]
  },
  {
   "cell_type": "markdown",
   "id": "b2e433ae",
   "metadata": {
    "papermill": {
     "duration": 0.014292,
     "end_time": "2025-08-19T18:02:10.398803",
     "exception": false,
     "start_time": "2025-08-19T18:02:10.384511",
     "status": "completed"
    },
    "tags": []
   },
   "source": [
    "# Final Output"
   ]
  },
  {
   "cell_type": "code",
   "execution_count": 62,
   "id": "3871301e",
   "metadata": {
    "execution": {
     "iopub.execute_input": "2025-08-19T18:02:10.433596Z",
     "iopub.status.busy": "2025-08-19T18:02:10.431396Z",
     "iopub.status.idle": "2025-08-19T18:02:10.444541Z",
     "shell.execute_reply": "2025-08-19T18:02:10.443536Z"
    },
    "papermill": {
     "duration": 0.032975,
     "end_time": "2025-08-19T18:02:10.446114",
     "exception": false,
     "start_time": "2025-08-19T18:02:10.413139",
     "status": "completed"
    },
    "tags": []
   },
   "outputs": [
    {
     "data": {
      "text/plain": [
       "4"
      ]
     },
     "execution_count": 62,
     "metadata": {},
     "output_type": "execute_result"
    }
   ],
   "source": [
    "sub_universes = universe_analysis.generate_sub_universes()\n",
    "len(sub_universes)"
   ]
  },
  {
   "cell_type": "code",
   "execution_count": 63,
   "id": "d9cfdaca",
   "metadata": {
    "execution": {
     "iopub.execute_input": "2025-08-19T18:02:10.481536Z",
     "iopub.status.busy": "2025-08-19T18:02:10.481245Z",
     "iopub.status.idle": "2025-08-19T18:02:10.486032Z",
     "shell.execute_reply": "2025-08-19T18:02:10.485255Z"
    },
    "papermill": {
     "duration": 0.023714,
     "end_time": "2025-08-19T18:02:10.487377",
     "exception": false,
     "start_time": "2025-08-19T18:02:10.463663",
     "status": "completed"
    },
    "tags": []
   },
   "outputs": [],
   "source": [
    "def filter_sub_universe_data(sub_universe, org_test):\n",
    "    # Keep all rows — no filtering\n",
    "    keep_rows_mask = np.ones(org_test.shape[0], dtype=bool)\n",
    "\n",
    "    print(f\"[INFO] Keeping all rows: {keep_rows_mask.sum()} rows retained.\")\n",
    "    return keep_rows_mask"
   ]
  },
  {
   "cell_type": "code",
   "execution_count": 64,
   "id": "2bc31ac1",
   "metadata": {
    "execution": {
     "iopub.execute_input": "2025-08-19T18:02:10.517247Z",
     "iopub.status.busy": "2025-08-19T18:02:10.516959Z",
     "iopub.status.idle": "2025-08-19T18:02:17.224393Z",
     "shell.execute_reply": "2025-08-19T18:02:17.223323Z"
    },
    "papermill": {
     "duration": 6.723889,
     "end_time": "2025-08-19T18:02:17.225844",
     "exception": false,
     "start_time": "2025-08-19T18:02:10.501955",
     "status": "completed"
    },
    "tags": []
   },
   "outputs": [
    {
     "name": "stdout",
     "output_type": "stream",
     "text": [
      "Stopping execution_time clock.\n",
      "[INFO] Keeping all rows: 89710 rows retained.\n"
     ]
    },
    {
     "name": "stdout",
     "output_type": "stream",
     "text": [
      "[INFO] Keeping all rows: 89710 rows retained.\n"
     ]
    },
    {
     "name": "stdout",
     "output_type": "stream",
     "text": [
      "[INFO] Keeping all rows: 89710 rows retained.\n"
     ]
    },
    {
     "name": "stdout",
     "output_type": "stream",
     "text": [
      "[INFO] Keeping all rows: 89710 rows retained.\n"
     ]
    },
    {
     "data": {
      "text/html": [
       "<div>\n",
       "<style scoped>\n",
       "    .dataframe tbody tr th:only-of-type {\n",
       "        vertical-align: middle;\n",
       "    }\n",
       "\n",
       "    .dataframe tbody tr th {\n",
       "        vertical-align: top;\n",
       "    }\n",
       "\n",
       "    .dataframe thead th {\n",
       "        text-align: right;\n",
       "    }\n",
       "</style>\n",
       "<table border=\"1\" class=\"dataframe\">\n",
       "  <thead>\n",
       "    <tr style=\"text-align: right;\">\n",
       "      <th></th>\n",
       "      <th>run_no</th>\n",
       "      <th>universe_id</th>\n",
       "      <th>universe_settings</th>\n",
       "      <th>execution_time</th>\n",
       "      <th>test_size_n</th>\n",
       "      <th>test_size_frac</th>\n",
       "      <th>fair_main_equalized_odds_difference</th>\n",
       "      <th>fair_main_equalized_odds_ratio</th>\n",
       "      <th>fair_main_demographic_parity_difference</th>\n",
       "      <th>fair_main_demographic_parity_ratio</th>\n",
       "      <th>...</th>\n",
       "      <th>perf_grp_precision_0</th>\n",
       "      <th>perf_grp_precision_1</th>\n",
       "      <th>perf_grp_false positive rate_0</th>\n",
       "      <th>perf_grp_false positive rate_1</th>\n",
       "      <th>perf_grp_false negative rate_0</th>\n",
       "      <th>perf_grp_false negative rate_1</th>\n",
       "      <th>perf_grp_selection rate_0</th>\n",
       "      <th>perf_grp_selection rate_1</th>\n",
       "      <th>perf_grp_count_0</th>\n",
       "      <th>perf_grp_count_1</th>\n",
       "    </tr>\n",
       "  </thead>\n",
       "  <tbody>\n",
       "    <tr>\n",
       "      <th>0</th>\n",
       "      <td>3</td>\n",
       "      <td>9df65e030cd7b86125f0f975f7807877</td>\n",
       "      <td>{\"cutoff\": \"quantile_0.1\", \"eval_fairness_grou...</td>\n",
       "      <td>44.956511</td>\n",
       "      <td>89710</td>\n",
       "      <td>1.0</td>\n",
       "      <td>0.063848</td>\n",
       "      <td>0.931782</td>\n",
       "      <td>0.055046</td>\n",
       "      <td>0.941593</td>\n",
       "      <td>...</td>\n",
       "      <td>NaN</td>\n",
       "      <td>NaN</td>\n",
       "      <td>NaN</td>\n",
       "      <td>NaN</td>\n",
       "      <td>NaN</td>\n",
       "      <td>NaN</td>\n",
       "      <td>NaN</td>\n",
       "      <td>NaN</td>\n",
       "      <td>NaN</td>\n",
       "      <td>NaN</td>\n",
       "    </tr>\n",
       "    <tr>\n",
       "      <th>0</th>\n",
       "      <td>3</td>\n",
       "      <td>9df65e030cd7b86125f0f975f7807877</td>\n",
       "      <td>{\"cutoff\": \"quantile_0.1\", \"eval_fairness_grou...</td>\n",
       "      <td>44.956511</td>\n",
       "      <td>89710</td>\n",
       "      <td>1.0</td>\n",
       "      <td>0.063848</td>\n",
       "      <td>0.931782</td>\n",
       "      <td>0.055046</td>\n",
       "      <td>0.941593</td>\n",
       "      <td>...</td>\n",
       "      <td>0.121397</td>\n",
       "      <td>0.147112</td>\n",
       "      <td>0.935945</td>\n",
       "      <td>0.872097</td>\n",
       "      <td>0.007601</td>\n",
       "      <td>0.012035</td>\n",
       "      <td>0.942454</td>\n",
       "      <td>0.887408</td>\n",
       "      <td>20540.0</td>\n",
       "      <td>69170.0</td>\n",
       "    </tr>\n",
       "    <tr>\n",
       "      <th>0</th>\n",
       "      <td>3</td>\n",
       "      <td>9df65e030cd7b86125f0f975f7807877</td>\n",
       "      <td>{\"cutoff\": \"quantile_0.25\", \"eval_fairness_gro...</td>\n",
       "      <td>44.956511</td>\n",
       "      <td>89710</td>\n",
       "      <td>1.0</td>\n",
       "      <td>0.140172</td>\n",
       "      <td>0.830818</td>\n",
       "      <td>0.120610</td>\n",
       "      <td>0.856926</td>\n",
       "      <td>...</td>\n",
       "      <td>NaN</td>\n",
       "      <td>NaN</td>\n",
       "      <td>NaN</td>\n",
       "      <td>NaN</td>\n",
       "      <td>NaN</td>\n",
       "      <td>NaN</td>\n",
       "      <td>NaN</td>\n",
       "      <td>NaN</td>\n",
       "      <td>NaN</td>\n",
       "      <td>NaN</td>\n",
       "    </tr>\n",
       "    <tr>\n",
       "      <th>0</th>\n",
       "      <td>3</td>\n",
       "      <td>9df65e030cd7b86125f0f975f7807877</td>\n",
       "      <td>{\"cutoff\": \"quantile_0.25\", \"eval_fairness_gro...</td>\n",
       "      <td>44.956511</td>\n",
       "      <td>89710</td>\n",
       "      <td>1.0</td>\n",
       "      <td>0.140172</td>\n",
       "      <td>0.830818</td>\n",
       "      <td>0.120610</td>\n",
       "      <td>0.856926</td>\n",
       "      <td>...</td>\n",
       "      <td>0.130465</td>\n",
       "      <td>0.173014</td>\n",
       "      <td>0.828527</td>\n",
       "      <td>0.688356</td>\n",
       "      <td>0.046030</td>\n",
       "      <td>0.054158</td>\n",
       "      <td>0.842989</td>\n",
       "      <td>0.722380</td>\n",
       "      <td>20540.0</td>\n",
       "      <td>69170.0</td>\n",
       "    </tr>\n",
       "  </tbody>\n",
       "</table>\n",
       "<p>4 rows × 50 columns</p>\n",
       "</div>"
      ],
      "text/plain": [
       "  run_no                       universe_id  \\\n",
       "0      3  9df65e030cd7b86125f0f975f7807877   \n",
       "0      3  9df65e030cd7b86125f0f975f7807877   \n",
       "0      3  9df65e030cd7b86125f0f975f7807877   \n",
       "0      3  9df65e030cd7b86125f0f975f7807877   \n",
       "\n",
       "                                   universe_settings  execution_time  \\\n",
       "0  {\"cutoff\": \"quantile_0.1\", \"eval_fairness_grou...       44.956511   \n",
       "0  {\"cutoff\": \"quantile_0.1\", \"eval_fairness_grou...       44.956511   \n",
       "0  {\"cutoff\": \"quantile_0.25\", \"eval_fairness_gro...       44.956511   \n",
       "0  {\"cutoff\": \"quantile_0.25\", \"eval_fairness_gro...       44.956511   \n",
       "\n",
       "   test_size_n  test_size_frac  fair_main_equalized_odds_difference  \\\n",
       "0        89710             1.0                             0.063848   \n",
       "0        89710             1.0                             0.063848   \n",
       "0        89710             1.0                             0.140172   \n",
       "0        89710             1.0                             0.140172   \n",
       "\n",
       "   fair_main_equalized_odds_ratio  fair_main_demographic_parity_difference  \\\n",
       "0                        0.931782                                 0.055046   \n",
       "0                        0.931782                                 0.055046   \n",
       "0                        0.830818                                 0.120610   \n",
       "0                        0.830818                                 0.120610   \n",
       "\n",
       "   fair_main_demographic_parity_ratio  ...  perf_grp_precision_0  \\\n",
       "0                            0.941593  ...                   NaN   \n",
       "0                            0.941593  ...              0.121397   \n",
       "0                            0.856926  ...                   NaN   \n",
       "0                            0.856926  ...              0.130465   \n",
       "\n",
       "   perf_grp_precision_1  perf_grp_false positive rate_0  \\\n",
       "0                   NaN                             NaN   \n",
       "0              0.147112                        0.935945   \n",
       "0                   NaN                             NaN   \n",
       "0              0.173014                        0.828527   \n",
       "\n",
       "   perf_grp_false positive rate_1  perf_grp_false negative rate_0  \\\n",
       "0                             NaN                             NaN   \n",
       "0                        0.872097                        0.007601   \n",
       "0                             NaN                             NaN   \n",
       "0                        0.688356                        0.046030   \n",
       "\n",
       "   perf_grp_false negative rate_1  perf_grp_selection rate_0  \\\n",
       "0                             NaN                        NaN   \n",
       "0                        0.012035                   0.942454   \n",
       "0                             NaN                        NaN   \n",
       "0                        0.054158                   0.842989   \n",
       "\n",
       "   perf_grp_selection rate_1  perf_grp_count_0  perf_grp_count_1  \n",
       "0                        NaN               NaN               NaN  \n",
       "0                   0.887408           20540.0           69170.0  \n",
       "0                        NaN               NaN               NaN  \n",
       "0                   0.722380           20540.0           69170.0  \n",
       "\n",
       "[4 rows x 50 columns]"
      ]
     },
     "execution_count": 64,
     "metadata": {},
     "output_type": "execute_result"
    }
   ],
   "source": [
    "final_output = universe_analysis.generate_final_output(\n",
    "    y_pred_prob=probs_test,\n",
    "    y_test=y_true,\n",
    "    org_test=org_test,\n",
    "    filter_data=filter_sub_universe_data,\n",
    "    cp_metrics_df=cp_metrics_df,\n",
    "    save=True,\n",
    ")\n",
    "final_output"
   ]
  },
  {
   "cell_type": "code",
   "execution_count": null,
   "id": "8b80a1ff",
   "metadata": {
    "papermill": {
     "duration": 0.015049,
     "end_time": "2025-08-19T18:02:17.274906",
     "exception": false,
     "start_time": "2025-08-19T18:02:17.259857",
     "status": "completed"
    },
    "tags": []
   },
   "outputs": [],
   "source": []
  },
  {
   "cell_type": "code",
   "execution_count": null,
   "id": "275c9fad",
   "metadata": {
    "papermill": {
     "duration": 0.014274,
     "end_time": "2025-08-19T18:02:17.303551",
     "exception": false,
     "start_time": "2025-08-19T18:02:17.289277",
     "status": "completed"
    },
    "tags": []
   },
   "outputs": [],
   "source": []
  }
 ],
 "metadata": {
  "celltoolbar": "Tags",
  "kernelspec": {
   "display_name": "Python (CMA Fairness)",
   "language": "python",
   "name": "cma_fair_env"
  },
  "language_info": {
   "codemirror_mode": {
    "name": "ipython",
    "version": 3
   },
   "file_extension": ".py",
   "mimetype": "text/x-python",
   "name": "python",
   "nbconvert_exporter": "python",
   "pygments_lexer": "ipython3",
   "version": "3.10.12"
  },
  "papermill": {
   "default_parameters": {},
   "duration": 55.411132,
   "end_time": "2025-08-19T18:02:18.144563",
   "environment_variables": {},
   "exception": null,
   "input_path": "universe_analysis.ipynb",
   "output_path": "output/runs/3/notebooks/m_3-9df65e030cd7b86125f0f975f7807877.ipynb",
   "parameters": {
    "output_dir": "output",
    "run_no": "3",
    "seed": "2023",
    "universe": "{\"cutoff\": [\"quantile_0.1\", \"quantile_0.25\"], \"eval_fairness_grouping\": [\"majority-minority\", \"nationality-all\"], \"exclude_features\": \"age\", \"exclude_subgroups\": \"keep-all\", \"model\": \"gbm\", \"scale\": \"do-not-scale\", \"training_size\": \"25k\", \"training_year\": \"2014\"}",
    "universe_id": "9df65e030cd7b86125f0f975f7807877"
   },
   "start_time": "2025-08-19T18:01:22.733431",
   "version": "2.6.0"
  }
 },
 "nbformat": 4,
 "nbformat_minor": 5
}