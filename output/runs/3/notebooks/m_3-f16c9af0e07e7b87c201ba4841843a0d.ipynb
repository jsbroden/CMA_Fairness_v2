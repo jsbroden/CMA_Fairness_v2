{
 "cells": [
  {
   "cell_type": "markdown",
   "id": "ef23dbb3",
   "metadata": {
    "papermill": {
     "duration": 0.009166,
     "end_time": "2025-08-19T18:12:28.822906",
     "exception": false,
     "start_time": "2025-08-19T18:12:28.813740",
     "status": "completed"
    },
    "tags": []
   },
   "source": [
    "# Setup"
   ]
  },
  {
   "cell_type": "code",
   "execution_count": 1,
   "id": "0bc8e7dc",
   "metadata": {
    "execution": {
     "iopub.execute_input": "2025-08-19T18:12:28.842983Z",
     "iopub.status.busy": "2025-08-19T18:12:28.842328Z",
     "iopub.status.idle": "2025-08-19T18:12:28.859073Z",
     "shell.execute_reply": "2025-08-19T18:12:28.858235Z"
    },
    "papermill": {
     "duration": 0.028819,
     "end_time": "2025-08-19T18:12:28.860949",
     "exception": false,
     "start_time": "2025-08-19T18:12:28.832130",
     "status": "completed"
    },
    "tags": []
   },
   "outputs": [
    {
     "name": "stdout",
     "output_type": "stream",
     "text": [
      "/dss/dsshome1/0C/ra93lal2/cma/CMA_Fairness_v2\n"
     ]
    },
    {
     "name": "stderr",
     "output_type": "stream",
     "text": [
      "/dss/dsshome1/0C/ra93lal2/.local/share/virtualenvs/CMA_Fairness_v2-3j10GkSs/lib/python3.10/site-packages/IPython/core/magics/osm.py:393: UserWarning: This is now an optional IPython functionality, using bookmarks requires you to install the `pickleshare` library.\n",
      "  bkms = self.shell.db.get('bookmarks', {})\n",
      "/dss/dsshome1/0C/ra93lal2/.local/share/virtualenvs/CMA_Fairness_v2-3j10GkSs/lib/python3.10/site-packages/IPython/core/magics/osm.py:417: UserWarning: This is now an optional IPython functionality, setting dhist requires you to install the `pickleshare` library.\n",
      "  self.shell.db['dhist'] = compress_dhist(dhist)[-100:]\n"
     ]
    }
   ],
   "source": [
    "%cd ~/cma/CMA_Fairness_v2"
   ]
  },
  {
   "cell_type": "markdown",
   "id": "9d235661",
   "metadata": {
    "papermill": {
     "duration": 0.00926,
     "end_time": "2025-08-19T18:12:28.881685",
     "exception": false,
     "start_time": "2025-08-19T18:12:28.872425",
     "status": "completed"
    },
    "tags": []
   },
   "source": [
    "The following cell holds the definition of our parameters, these values can be overriden by rendering the with e.g. the following command:\n",
    "\n",
    "papermill -p alpha 0.2 -p ratio 0.3 universe_analysis.ipynb output/test_run.ipynb"
   ]
  },
  {
   "cell_type": "code",
   "execution_count": 2,
   "id": "4a789d8e",
   "metadata": {
    "execution": {
     "iopub.execute_input": "2025-08-19T18:12:28.900604Z",
     "iopub.status.busy": "2025-08-19T18:12:28.900165Z",
     "iopub.status.idle": "2025-08-19T18:12:28.905571Z",
     "shell.execute_reply": "2025-08-19T18:12:28.904740Z"
    },
    "papermill": {
     "duration": 0.023491,
     "end_time": "2025-08-19T18:12:28.913933",
     "exception": false,
     "start_time": "2025-08-19T18:12:28.890442",
     "status": "completed"
    },
    "tags": []
   },
   "outputs": [
    {
     "name": "stdout",
     "output_type": "stream",
     "text": [
      "Current working directory: /dss/dsshome1/0C/ra93lal2/cma/CMA_Fairness_v2\n"
     ]
    }
   ],
   "source": [
    "import os\n",
    "print(\"Current working directory:\", os.getcwd())"
   ]
  },
  {
   "cell_type": "code",
   "execution_count": 3,
   "id": "4132aaed",
   "metadata": {
    "execution": {
     "iopub.execute_input": "2025-08-19T18:12:28.947251Z",
     "iopub.status.busy": "2025-08-19T18:12:28.946804Z",
     "iopub.status.idle": "2025-08-19T18:12:28.951825Z",
     "shell.execute_reply": "2025-08-19T18:12:28.951129Z"
    },
    "papermill": {
     "duration": 0.02134,
     "end_time": "2025-08-19T18:12:28.953602",
     "exception": false,
     "start_time": "2025-08-19T18:12:28.932262",
     "status": "completed"
    },
    "tags": [
     "parameters"
    ]
   },
   "outputs": [],
   "source": [
    "run_no = 0\n",
    "universe_id = \"test\"\n",
    "universe = {\n",
    "    \"training_size\": \"5k\", # \"25k\", \"5k\", \"1k\"\n",
    "    \"training_year\": \"2012_14\", # \"2014\", \"2012_14\", \"2010_14\"\n",
    "    \"scale\": \"scale\", # \"scale\", \"do-not-scale\",\n",
    "    \"model\": \"elasticnet\", # \"logreg\", \"penalized_logreg\", \"rf\", \"gbm\", \"elasticnet\"\n",
    "    \"cutoff\": [\"quantile_0.15\", \"quantile_0.30\"],\n",
    "    \"exclude_features\": \"age\", # \"none\", \"nationality\", \"sex\", \"nationality-sex\", \"age\"\n",
    "    \"exclude_subgroups\": \"drop-non-german\", # \"keep-all\", \"drop-non-german\"\n",
    "    \"eval_fairness_grouping\": [\"majority-minority\", \"nationality-all\"]\n",
    "}\n",
    "\n",
    "output_dir=\"./output\"\n",
    "seed=0"
   ]
  },
  {
   "cell_type": "code",
   "execution_count": 4,
   "id": "4c1501f1",
   "metadata": {
    "execution": {
     "iopub.execute_input": "2025-08-19T18:12:28.973362Z",
     "iopub.status.busy": "2025-08-19T18:12:28.973061Z",
     "iopub.status.idle": "2025-08-19T18:12:28.978631Z",
     "shell.execute_reply": "2025-08-19T18:12:28.977293Z"
    },
    "papermill": {
     "duration": 0.020632,
     "end_time": "2025-08-19T18:12:28.983638",
     "exception": false,
     "start_time": "2025-08-19T18:12:28.963006",
     "status": "completed"
    },
    "tags": [
     "injected-parameters"
    ]
   },
   "outputs": [],
   "source": [
    "# Parameters\n",
    "universe_id = \"f16c9af0e07e7b87c201ba4841843a0d\"\n",
    "run_no = \"3\"\n",
    "universe = \"{\\\"cutoff\\\": [\\\"quantile_0.1\\\", \\\"quantile_0.25\\\"], \\\"eval_fairness_grouping\\\": [\\\"majority-minority\\\", \\\"nationality-all\\\"], \\\"exclude_features\\\": \\\"age\\\", \\\"exclude_subgroups\\\": \\\"keep-all\\\", \\\"model\\\": \\\"elasticnet\\\", \\\"scale\\\": \\\"do-not-scale\\\", \\\"training_size\\\": \\\"25k\\\", \\\"training_year\\\": \\\"2012_14\\\"}\"\n",
    "output_dir = \"output\"\n",
    "seed = \"2023\"\n"
   ]
  },
  {
   "cell_type": "code",
   "execution_count": 5,
   "id": "a5d7941f",
   "metadata": {
    "execution": {
     "iopub.execute_input": "2025-08-19T18:12:29.015124Z",
     "iopub.status.busy": "2025-08-19T18:12:29.014812Z",
     "iopub.status.idle": "2025-08-19T18:12:29.019090Z",
     "shell.execute_reply": "2025-08-19T18:12:29.018420Z"
    },
    "papermill": {
     "duration": 0.017452,
     "end_time": "2025-08-19T18:12:29.020336",
     "exception": false,
     "start_time": "2025-08-19T18:12:29.002884",
     "status": "completed"
    },
    "tags": []
   },
   "outputs": [],
   "source": [
    "import json\n",
    "if isinstance(universe, str):\n",
    "    universe = json.loads(universe)"
   ]
  },
  {
   "cell_type": "code",
   "execution_count": 6,
   "id": "7076ccb1",
   "metadata": {
    "execution": {
     "iopub.execute_input": "2025-08-19T18:12:29.039869Z",
     "iopub.status.busy": "2025-08-19T18:12:29.039584Z",
     "iopub.status.idle": "2025-08-19T18:12:29.073627Z",
     "shell.execute_reply": "2025-08-19T18:12:29.072972Z"
    },
    "papermill": {
     "duration": 0.046586,
     "end_time": "2025-08-19T18:12:29.076154",
     "exception": false,
     "start_time": "2025-08-19T18:12:29.029568",
     "status": "completed"
    },
    "tags": []
   },
   "outputs": [],
   "source": [
    "# Auto-reload the custom package\n",
    "%load_ext autoreload\n",
    "%autoreload 1\n",
    "%aimport fairness_multiverse"
   ]
  },
  {
   "cell_type": "code",
   "execution_count": 7,
   "id": "94c8eb93",
   "metadata": {
    "execution": {
     "iopub.execute_input": "2025-08-19T18:12:29.112819Z",
     "iopub.status.busy": "2025-08-19T18:12:29.112422Z",
     "iopub.status.idle": "2025-08-19T18:12:30.791097Z",
     "shell.execute_reply": "2025-08-19T18:12:30.790212Z"
    },
    "papermill": {
     "duration": 1.693689,
     "end_time": "2025-08-19T18:12:30.792774",
     "exception": false,
     "start_time": "2025-08-19T18:12:29.099085",
     "status": "completed"
    },
    "tags": []
   },
   "outputs": [],
   "source": [
    "from fairness_multiverse.universe import UniverseAnalysis\n",
    "\n",
    "universe_analysis = UniverseAnalysis(\n",
    "    run_no = run_no,\n",
    "    universe_id = universe_id,\n",
    "    universe = universe,\n",
    "    output_dir=output_dir,\n",
    ")"
   ]
  },
  {
   "cell_type": "code",
   "execution_count": 8,
   "id": "2a6381cf",
   "metadata": {
    "execution": {
     "iopub.execute_input": "2025-08-19T18:12:30.814855Z",
     "iopub.status.busy": "2025-08-19T18:12:30.813713Z",
     "iopub.status.idle": "2025-08-19T18:12:30.823145Z",
     "shell.execute_reply": "2025-08-19T18:12:30.821871Z"
    },
    "papermill": {
     "duration": 0.022143,
     "end_time": "2025-08-19T18:12:30.824586",
     "exception": false,
     "start_time": "2025-08-19T18:12:30.802443",
     "status": "completed"
    },
    "tags": []
   },
   "outputs": [
    {
     "name": "stdout",
     "output_type": "stream",
     "text": [
      "Using Seed: 2023\n"
     ]
    }
   ],
   "source": [
    "import numpy as np\n",
    "parsed_seed = int(seed)\n",
    "np.random.seed(parsed_seed)\n",
    "print(f\"Using Seed: {parsed_seed}\")"
   ]
  },
  {
   "cell_type": "markdown",
   "id": "b6e958b4",
   "metadata": {
    "papermill": {
     "duration": 0.009575,
     "end_time": "2025-08-19T18:12:30.843780",
     "exception": false,
     "start_time": "2025-08-19T18:12:30.834205",
     "status": "completed"
    },
    "tags": []
   },
   "source": [
    "# Loading Data"
   ]
  },
  {
   "cell_type": "code",
   "execution_count": 9,
   "id": "98701482",
   "metadata": {
    "execution": {
     "iopub.execute_input": "2025-08-19T18:12:30.864453Z",
     "iopub.status.busy": "2025-08-19T18:12:30.863497Z",
     "iopub.status.idle": "2025-08-19T18:12:40.868641Z",
     "shell.execute_reply": "2025-08-19T18:12:40.867614Z"
    },
    "papermill": {
     "duration": 10.017119,
     "end_time": "2025-08-19T18:12:40.869900",
     "exception": false,
     "start_time": "2025-08-19T18:12:30.852781",
     "status": "completed"
    },
    "tags": []
   },
   "outputs": [
    {
     "name": "stdout",
     "output_type": "stream",
     "text": [
      "Loading SIAB data from cache: data/siab_cached.csv.gz\n"
     ]
    },
    {
     "name": "stdout",
     "output_type": "stream",
     "text": [
      "(643690, 164)\n"
     ]
    }
   ],
   "source": [
    "from pathlib import Path\n",
    "import pandas as pd\n",
    "\n",
    "# File paths\n",
    "raw_file = Path(\"data/raw/siab.csv\")\n",
    "cache_file = Path(\"data/siab_cached.csv.gz\")\n",
    "\n",
    "# Ensure cache directory exists\n",
    "cache_file.parent.mkdir(parents=True, exist_ok=True)\n",
    "\n",
    "# Load with simple caching\n",
    "if cache_file.exists():\n",
    "    print(f\"Loading SIAB data from cache: {cache_file}\")\n",
    "    siab = pd.read_csv(cache_file, compression='gzip')\n",
    "else:\n",
    "    print(f\"Cache not found. Reading raw SIAB data: {raw_file}\")\n",
    "    siab = pd.read_csv(raw_file)\n",
    "    siab.to_csv(cache_file, index=False, compression='gzip')\n",
    "    print(f\"Cached SIAB data to: {cache_file}\")\n",
    "\n",
    "print(siab.shape)"
   ]
  },
  {
   "cell_type": "code",
   "execution_count": 10,
   "id": "058d2abb",
   "metadata": {
    "execution": {
     "iopub.execute_input": "2025-08-19T18:12:40.898231Z",
     "iopub.status.busy": "2025-08-19T18:12:40.897676Z",
     "iopub.status.idle": "2025-08-19T18:12:41.024676Z",
     "shell.execute_reply": "2025-08-19T18:12:41.023843Z"
    },
    "papermill": {
     "duration": 0.143176,
     "end_time": "2025-08-19T18:12:41.026137",
     "exception": false,
     "start_time": "2025-08-19T18:12:40.882961",
     "status": "completed"
    },
    "tags": []
   },
   "outputs": [
    {
     "data": {
      "text/html": [
       "<div>\n",
       "<style scoped>\n",
       "    .dataframe tbody tr th:only-of-type {\n",
       "        vertical-align: middle;\n",
       "    }\n",
       "\n",
       "    .dataframe tbody tr th {\n",
       "        vertical-align: top;\n",
       "    }\n",
       "\n",
       "    .dataframe thead th {\n",
       "        text-align: right;\n",
       "    }\n",
       "</style>\n",
       "<table border=\"1\" class=\"dataframe\">\n",
       "  <thead>\n",
       "    <tr style=\"text-align: right;\">\n",
       "      <th></th>\n",
       "      <th>persnr</th>\n",
       "      <th>year</th>\n",
       "      <th>nrEntry</th>\n",
       "      <th>ltue</th>\n",
       "      <th>employed_before</th>\n",
       "      <th>receipt_leh_before</th>\n",
       "      <th>receipt_lhg_before</th>\n",
       "      <th>se_before</th>\n",
       "      <th>ASU_notue_seeking_before</th>\n",
       "      <th>ASU_other_before</th>\n",
       "      <th>...</th>\n",
       "      <th>minijob_tot_dur_byage</th>\n",
       "      <th>ft_tot_dur_byage</th>\n",
       "      <th>befrist_tot_dur_byage</th>\n",
       "      <th>leih_tot_dur_byage</th>\n",
       "      <th>LHG_tot_dur_byage</th>\n",
       "      <th>LEH_tot_dur_byage</th>\n",
       "      <th>almp_tot_dur_byage</th>\n",
       "      <th>almp_aw_tot_dur_byage</th>\n",
       "      <th>se_tot_dur_byage</th>\n",
       "      <th>seeking1_tot_dur_byage</th>\n",
       "    </tr>\n",
       "  </thead>\n",
       "  <tbody>\n",
       "    <tr>\n",
       "      <th>0</th>\n",
       "      <td>7</td>\n",
       "      <td>2015</td>\n",
       "      <td>1</td>\n",
       "      <td>0</td>\n",
       "      <td>1</td>\n",
       "      <td>0</td>\n",
       "      <td>0</td>\n",
       "      <td>0</td>\n",
       "      <td>1</td>\n",
       "      <td>0</td>\n",
       "      <td>...</td>\n",
       "      <td>0.000000</td>\n",
       "      <td>0.000000</td>\n",
       "      <td>15.043478</td>\n",
       "      <td>0.000000</td>\n",
       "      <td>0.000000</td>\n",
       "      <td>0.000000</td>\n",
       "      <td>0.000000</td>\n",
       "      <td>0.000000</td>\n",
       "      <td>0.000000</td>\n",
       "      <td>0.000000</td>\n",
       "    </tr>\n",
       "    <tr>\n",
       "      <th>1</th>\n",
       "      <td>18</td>\n",
       "      <td>2010</td>\n",
       "      <td>1</td>\n",
       "      <td>1</td>\n",
       "      <td>0</td>\n",
       "      <td>0</td>\n",
       "      <td>0</td>\n",
       "      <td>0</td>\n",
       "      <td>0</td>\n",
       "      <td>0</td>\n",
       "      <td>...</td>\n",
       "      <td>0.000000</td>\n",
       "      <td>0.000000</td>\n",
       "      <td>0.000000</td>\n",
       "      <td>0.000000</td>\n",
       "      <td>0.000000</td>\n",
       "      <td>0.000000</td>\n",
       "      <td>0.000000</td>\n",
       "      <td>0.000000</td>\n",
       "      <td>0.000000</td>\n",
       "      <td>0.000000</td>\n",
       "    </tr>\n",
       "    <tr>\n",
       "      <th>2</th>\n",
       "      <td>18</td>\n",
       "      <td>2011</td>\n",
       "      <td>2</td>\n",
       "      <td>0</td>\n",
       "      <td>1</td>\n",
       "      <td>0</td>\n",
       "      <td>1</td>\n",
       "      <td>0</td>\n",
       "      <td>1</td>\n",
       "      <td>0</td>\n",
       "      <td>...</td>\n",
       "      <td>2.714286</td>\n",
       "      <td>2.714286</td>\n",
       "      <td>0.000000</td>\n",
       "      <td>0.000000</td>\n",
       "      <td>10.775510</td>\n",
       "      <td>0.000000</td>\n",
       "      <td>8.367347</td>\n",
       "      <td>0.000000</td>\n",
       "      <td>0.000000</td>\n",
       "      <td>9.836735</td>\n",
       "    </tr>\n",
       "    <tr>\n",
       "      <th>3</th>\n",
       "      <td>18</td>\n",
       "      <td>2012</td>\n",
       "      <td>3</td>\n",
       "      <td>0</td>\n",
       "      <td>1</td>\n",
       "      <td>0</td>\n",
       "      <td>1</td>\n",
       "      <td>0</td>\n",
       "      <td>1</td>\n",
       "      <td>0</td>\n",
       "      <td>...</td>\n",
       "      <td>4.200000</td>\n",
       "      <td>4.200000</td>\n",
       "      <td>0.000000</td>\n",
       "      <td>0.000000</td>\n",
       "      <td>12.100000</td>\n",
       "      <td>0.000000</td>\n",
       "      <td>9.400000</td>\n",
       "      <td>0.000000</td>\n",
       "      <td>0.000000</td>\n",
       "      <td>9.960000</td>\n",
       "    </tr>\n",
       "    <tr>\n",
       "      <th>4</th>\n",
       "      <td>18</td>\n",
       "      <td>2012</td>\n",
       "      <td>4</td>\n",
       "      <td>0</td>\n",
       "      <td>1</td>\n",
       "      <td>0</td>\n",
       "      <td>1</td>\n",
       "      <td>0</td>\n",
       "      <td>1</td>\n",
       "      <td>0</td>\n",
       "      <td>...</td>\n",
       "      <td>5.460000</td>\n",
       "      <td>5.460000</td>\n",
       "      <td>0.000000</td>\n",
       "      <td>0.000000</td>\n",
       "      <td>13.360000</td>\n",
       "      <td>0.000000</td>\n",
       "      <td>10.320000</td>\n",
       "      <td>0.000000</td>\n",
       "      <td>0.000000</td>\n",
       "      <td>10.280000</td>\n",
       "    </tr>\n",
       "    <tr>\n",
       "      <th>...</th>\n",
       "      <td>...</td>\n",
       "      <td>...</td>\n",
       "      <td>...</td>\n",
       "      <td>...</td>\n",
       "      <td>...</td>\n",
       "      <td>...</td>\n",
       "      <td>...</td>\n",
       "      <td>...</td>\n",
       "      <td>...</td>\n",
       "      <td>...</td>\n",
       "      <td>...</td>\n",
       "      <td>...</td>\n",
       "      <td>...</td>\n",
       "      <td>...</td>\n",
       "      <td>...</td>\n",
       "      <td>...</td>\n",
       "      <td>...</td>\n",
       "      <td>...</td>\n",
       "      <td>...</td>\n",
       "      <td>...</td>\n",
       "      <td>...</td>\n",
       "    </tr>\n",
       "    <tr>\n",
       "      <th>643685</th>\n",
       "      <td>1827860</td>\n",
       "      <td>2013</td>\n",
       "      <td>1</td>\n",
       "      <td>0</td>\n",
       "      <td>0</td>\n",
       "      <td>0</td>\n",
       "      <td>1</td>\n",
       "      <td>0</td>\n",
       "      <td>0</td>\n",
       "      <td>1</td>\n",
       "      <td>...</td>\n",
       "      <td>0.000000</td>\n",
       "      <td>0.000000</td>\n",
       "      <td>0.000000</td>\n",
       "      <td>0.000000</td>\n",
       "      <td>0.612903</td>\n",
       "      <td>0.000000</td>\n",
       "      <td>0.000000</td>\n",
       "      <td>0.000000</td>\n",
       "      <td>0.000000</td>\n",
       "      <td>0.000000</td>\n",
       "    </tr>\n",
       "    <tr>\n",
       "      <th>643686</th>\n",
       "      <td>1827860</td>\n",
       "      <td>2015</td>\n",
       "      <td>2</td>\n",
       "      <td>1</td>\n",
       "      <td>0</td>\n",
       "      <td>0</td>\n",
       "      <td>1</td>\n",
       "      <td>0</td>\n",
       "      <td>1</td>\n",
       "      <td>0</td>\n",
       "      <td>...</td>\n",
       "      <td>0.000000</td>\n",
       "      <td>0.000000</td>\n",
       "      <td>0.212121</td>\n",
       "      <td>0.212121</td>\n",
       "      <td>17.363636</td>\n",
       "      <td>0.000000</td>\n",
       "      <td>8.909091</td>\n",
       "      <td>0.000000</td>\n",
       "      <td>0.000000</td>\n",
       "      <td>7.121212</td>\n",
       "    </tr>\n",
       "    <tr>\n",
       "      <th>643687</th>\n",
       "      <td>1827860</td>\n",
       "      <td>2016</td>\n",
       "      <td>3</td>\n",
       "      <td>1</td>\n",
       "      <td>0</td>\n",
       "      <td>0</td>\n",
       "      <td>1</td>\n",
       "      <td>1</td>\n",
       "      <td>0</td>\n",
       "      <td>1</td>\n",
       "      <td>...</td>\n",
       "      <td>0.000000</td>\n",
       "      <td>0.000000</td>\n",
       "      <td>0.294118</td>\n",
       "      <td>0.205882</td>\n",
       "      <td>34.705882</td>\n",
       "      <td>0.000000</td>\n",
       "      <td>10.352941</td>\n",
       "      <td>1.705882</td>\n",
       "      <td>1.705882</td>\n",
       "      <td>23.911765</td>\n",
       "    </tr>\n",
       "    <tr>\n",
       "      <th>643688</th>\n",
       "      <td>1827869</td>\n",
       "      <td>2013</td>\n",
       "      <td>1</td>\n",
       "      <td>1</td>\n",
       "      <td>1</td>\n",
       "      <td>0</td>\n",
       "      <td>0</td>\n",
       "      <td>0</td>\n",
       "      <td>1</td>\n",
       "      <td>0</td>\n",
       "      <td>...</td>\n",
       "      <td>0.000000</td>\n",
       "      <td>0.000000</td>\n",
       "      <td>0.000000</td>\n",
       "      <td>0.000000</td>\n",
       "      <td>0.000000</td>\n",
       "      <td>0.525424</td>\n",
       "      <td>0.000000</td>\n",
       "      <td>0.000000</td>\n",
       "      <td>0.000000</td>\n",
       "      <td>0.000000</td>\n",
       "    </tr>\n",
       "    <tr>\n",
       "      <th>643689</th>\n",
       "      <td>1827869</td>\n",
       "      <td>2014</td>\n",
       "      <td>2</td>\n",
       "      <td>0</td>\n",
       "      <td>0</td>\n",
       "      <td>1</td>\n",
       "      <td>0</td>\n",
       "      <td>0</td>\n",
       "      <td>1</td>\n",
       "      <td>0</td>\n",
       "      <td>...</td>\n",
       "      <td>0.000000</td>\n",
       "      <td>0.666667</td>\n",
       "      <td>0.666667</td>\n",
       "      <td>0.000000</td>\n",
       "      <td>0.000000</td>\n",
       "      <td>8.950000</td>\n",
       "      <td>1.033333</td>\n",
       "      <td>0.083333</td>\n",
       "      <td>0.083333</td>\n",
       "      <td>8.133333</td>\n",
       "    </tr>\n",
       "  </tbody>\n",
       "</table>\n",
       "<p>643690 rows × 164 columns</p>\n",
       "</div>"
      ],
      "text/plain": [
       "         persnr  year  nrEntry  ltue  employed_before  receipt_leh_before  \\\n",
       "0             7  2015        1     0                1                   0   \n",
       "1            18  2010        1     1                0                   0   \n",
       "2            18  2011        2     0                1                   0   \n",
       "3            18  2012        3     0                1                   0   \n",
       "4            18  2012        4     0                1                   0   \n",
       "...         ...   ...      ...   ...              ...                 ...   \n",
       "643685  1827860  2013        1     0                0                   0   \n",
       "643686  1827860  2015        2     1                0                   0   \n",
       "643687  1827860  2016        3     1                0                   0   \n",
       "643688  1827869  2013        1     1                1                   0   \n",
       "643689  1827869  2014        2     0                0                   1   \n",
       "\n",
       "        receipt_lhg_before  se_before  ASU_notue_seeking_before  \\\n",
       "0                        0          0                         1   \n",
       "1                        0          0                         0   \n",
       "2                        1          0                         1   \n",
       "3                        1          0                         1   \n",
       "4                        1          0                         1   \n",
       "...                    ...        ...                       ...   \n",
       "643685                   1          0                         0   \n",
       "643686                   1          0                         1   \n",
       "643687                   1          1                         0   \n",
       "643688                   0          0                         1   \n",
       "643689                   0          0                         1   \n",
       "\n",
       "        ASU_other_before  ...  minijob_tot_dur_byage  ft_tot_dur_byage  \\\n",
       "0                      0  ...               0.000000          0.000000   \n",
       "1                      0  ...               0.000000          0.000000   \n",
       "2                      0  ...               2.714286          2.714286   \n",
       "3                      0  ...               4.200000          4.200000   \n",
       "4                      0  ...               5.460000          5.460000   \n",
       "...                  ...  ...                    ...               ...   \n",
       "643685                 1  ...               0.000000          0.000000   \n",
       "643686                 0  ...               0.000000          0.000000   \n",
       "643687                 1  ...               0.000000          0.000000   \n",
       "643688                 0  ...               0.000000          0.000000   \n",
       "643689                 0  ...               0.000000          0.666667   \n",
       "\n",
       "        befrist_tot_dur_byage  leih_tot_dur_byage  LHG_tot_dur_byage  \\\n",
       "0                   15.043478            0.000000           0.000000   \n",
       "1                    0.000000            0.000000           0.000000   \n",
       "2                    0.000000            0.000000          10.775510   \n",
       "3                    0.000000            0.000000          12.100000   \n",
       "4                    0.000000            0.000000          13.360000   \n",
       "...                       ...                 ...                ...   \n",
       "643685               0.000000            0.000000           0.612903   \n",
       "643686               0.212121            0.212121          17.363636   \n",
       "643687               0.294118            0.205882          34.705882   \n",
       "643688               0.000000            0.000000           0.000000   \n",
       "643689               0.666667            0.000000           0.000000   \n",
       "\n",
       "        LEH_tot_dur_byage  almp_tot_dur_byage  almp_aw_tot_dur_byage  \\\n",
       "0                0.000000            0.000000               0.000000   \n",
       "1                0.000000            0.000000               0.000000   \n",
       "2                0.000000            8.367347               0.000000   \n",
       "3                0.000000            9.400000               0.000000   \n",
       "4                0.000000           10.320000               0.000000   \n",
       "...                   ...                 ...                    ...   \n",
       "643685           0.000000            0.000000               0.000000   \n",
       "643686           0.000000            8.909091               0.000000   \n",
       "643687           0.000000           10.352941               1.705882   \n",
       "643688           0.525424            0.000000               0.000000   \n",
       "643689           8.950000            1.033333               0.083333   \n",
       "\n",
       "        se_tot_dur_byage  seeking1_tot_dur_byage  \n",
       "0               0.000000                0.000000  \n",
       "1               0.000000                0.000000  \n",
       "2               0.000000                9.836735  \n",
       "3               0.000000                9.960000  \n",
       "4               0.000000               10.280000  \n",
       "...                  ...                     ...  \n",
       "643685          0.000000                0.000000  \n",
       "643686          0.000000                7.121212  \n",
       "643687          1.705882               23.911765  \n",
       "643688          0.000000                0.000000  \n",
       "643689          0.083333                8.133333  \n",
       "\n",
       "[643690 rows x 164 columns]"
      ]
     },
     "execution_count": 10,
     "metadata": {},
     "output_type": "execute_result"
    }
   ],
   "source": [
    "siab"
   ]
  },
  {
   "cell_type": "markdown",
   "id": "1f87e805",
   "metadata": {
    "papermill": {
     "duration": 0.013832,
     "end_time": "2025-08-19T18:12:41.051605",
     "exception": false,
     "start_time": "2025-08-19T18:12:41.037773",
     "status": "completed"
    },
    "tags": []
   },
   "source": [
    "# Splitting Data and Setting Training Data Size"
   ]
  },
  {
   "cell_type": "code",
   "execution_count": 11,
   "id": "910ae358",
   "metadata": {
    "execution": {
     "iopub.execute_input": "2025-08-19T18:12:41.072860Z",
     "iopub.status.busy": "2025-08-19T18:12:41.072421Z",
     "iopub.status.idle": "2025-08-19T18:12:41.771328Z",
     "shell.execute_reply": "2025-08-19T18:12:41.770558Z"
    },
    "papermill": {
     "duration": 0.711267,
     "end_time": "2025-08-19T18:12:41.772921",
     "exception": false,
     "start_time": "2025-08-19T18:12:41.061654",
     "status": "completed"
    },
    "tags": []
   },
   "outputs": [],
   "source": [
    "from fairness_multiverse.universe import sample_by_year_size\n",
    "\n",
    "siab_train = sample_by_year_size(siab,\n",
    "                               training_year=universe[\"training_year\"],\n",
    "                               training_size=universe[\"training_size\"])"
   ]
  },
  {
   "cell_type": "code",
   "execution_count": 12,
   "id": "919c8ff5",
   "metadata": {
    "execution": {
     "iopub.execute_input": "2025-08-19T18:12:41.798097Z",
     "iopub.status.busy": "2025-08-19T18:12:41.797536Z",
     "iopub.status.idle": "2025-08-19T18:12:41.803865Z",
     "shell.execute_reply": "2025-08-19T18:12:41.803168Z"
    },
    "papermill": {
     "duration": 0.021938,
     "end_time": "2025-08-19T18:12:41.805190",
     "exception": false,
     "start_time": "2025-08-19T18:12:41.783252",
     "status": "completed"
    },
    "tags": []
   },
   "outputs": [
    {
     "data": {
      "text/plain": [
       "(25000, 164)"
      ]
     },
     "execution_count": 12,
     "metadata": {},
     "output_type": "execute_result"
    }
   ],
   "source": [
    "siab_train.shape"
   ]
  },
  {
   "cell_type": "code",
   "execution_count": 13,
   "id": "feb13bf4",
   "metadata": {
    "execution": {
     "iopub.execute_input": "2025-08-19T18:12:41.847390Z",
     "iopub.status.busy": "2025-08-19T18:12:41.846696Z",
     "iopub.status.idle": "2025-08-19T18:12:41.860159Z",
     "shell.execute_reply": "2025-08-19T18:12:41.859243Z"
    },
    "papermill": {
     "duration": 0.039177,
     "end_time": "2025-08-19T18:12:41.863231",
     "exception": false,
     "start_time": "2025-08-19T18:12:41.824054",
     "status": "completed"
    },
    "tags": []
   },
   "outputs": [
    {
     "data": {
      "text/plain": [
       "year\n",
       "2012    8334\n",
       "2013    8333\n",
       "2014    8333\n",
       "dtype: int64"
      ]
     },
     "metadata": {},
     "output_type": "display_data"
    }
   ],
   "source": [
    "display(siab_train.groupby(\"year\").size())"
   ]
  },
  {
   "cell_type": "code",
   "execution_count": 14,
   "id": "0997782f",
   "metadata": {
    "execution": {
     "iopub.execute_input": "2025-08-19T18:12:41.902280Z",
     "iopub.status.busy": "2025-08-19T18:12:41.900858Z",
     "iopub.status.idle": "2025-08-19T18:12:42.160675Z",
     "shell.execute_reply": "2025-08-19T18:12:42.159819Z"
    },
    "papermill": {
     "duration": 0.275444,
     "end_time": "2025-08-19T18:12:42.162260",
     "exception": false,
     "start_time": "2025-08-19T18:12:41.886816",
     "status": "completed"
    },
    "tags": []
   },
   "outputs": [],
   "source": [
    "#siab_train = siab_s[siab_s.year < 2015]\n",
    "siab_calib = siab[siab.year == 2015]\n",
    "siab_test = siab[siab.year == 2016]"
   ]
  },
  {
   "cell_type": "code",
   "execution_count": 15,
   "id": "2c1e4012",
   "metadata": {
    "execution": {
     "iopub.execute_input": "2025-08-19T18:12:42.188254Z",
     "iopub.status.busy": "2025-08-19T18:12:42.187932Z",
     "iopub.status.idle": "2025-08-19T18:12:42.192428Z",
     "shell.execute_reply": "2025-08-19T18:12:42.191721Z"
    },
    "papermill": {
     "duration": 0.018858,
     "end_time": "2025-08-19T18:12:42.195056",
     "exception": false,
     "start_time": "2025-08-19T18:12:42.176198",
     "status": "completed"
    },
    "tags": []
   },
   "outputs": [],
   "source": [
    "#siab_calib.shape"
   ]
  },
  {
   "cell_type": "code",
   "execution_count": 16,
   "id": "f66b54ca",
   "metadata": {
    "execution": {
     "iopub.execute_input": "2025-08-19T18:12:42.232698Z",
     "iopub.status.busy": "2025-08-19T18:12:42.231304Z",
     "iopub.status.idle": "2025-08-19T18:12:42.241101Z",
     "shell.execute_reply": "2025-08-19T18:12:42.237781Z"
    },
    "papermill": {
     "duration": 0.025589,
     "end_time": "2025-08-19T18:12:42.243066",
     "exception": false,
     "start_time": "2025-08-19T18:12:42.217477",
     "status": "completed"
    },
    "tags": []
   },
   "outputs": [],
   "source": [
    "#siab_test.shape"
   ]
  },
  {
   "cell_type": "code",
   "execution_count": 17,
   "id": "27e4384d",
   "metadata": {
    "execution": {
     "iopub.execute_input": "2025-08-19T18:12:42.269577Z",
     "iopub.status.busy": "2025-08-19T18:12:42.268263Z",
     "iopub.status.idle": "2025-08-19T18:12:42.288893Z",
     "shell.execute_reply": "2025-08-19T18:12:42.287024Z"
    },
    "papermill": {
     "duration": 0.034136,
     "end_time": "2025-08-19T18:12:42.290701",
     "exception": false,
     "start_time": "2025-08-19T18:12:42.256565",
     "status": "completed"
    },
    "tags": []
   },
   "outputs": [],
   "source": [
    "X_train = siab_train.iloc[:,4:164]\n",
    "y_train = siab_train.iloc[:, [3]]"
   ]
  },
  {
   "cell_type": "code",
   "execution_count": 18,
   "id": "08ee8389",
   "metadata": {
    "execution": {
     "iopub.execute_input": "2025-08-19T18:12:42.326228Z",
     "iopub.status.busy": "2025-08-19T18:12:42.324889Z",
     "iopub.status.idle": "2025-08-19T18:12:42.383005Z",
     "shell.execute_reply": "2025-08-19T18:12:42.382223Z"
    },
    "papermill": {
     "duration": 0.073846,
     "end_time": "2025-08-19T18:12:42.384706",
     "exception": false,
     "start_time": "2025-08-19T18:12:42.310860",
     "status": "completed"
    },
    "tags": []
   },
   "outputs": [],
   "source": [
    "X_calib = siab_calib.iloc[:,4:164]\n",
    "y_calib = siab_calib.iloc[:, [3]]"
   ]
  },
  {
   "cell_type": "code",
   "execution_count": 19,
   "id": "b7ff42e0",
   "metadata": {
    "execution": {
     "iopub.execute_input": "2025-08-19T18:12:42.409993Z",
     "iopub.status.busy": "2025-08-19T18:12:42.408792Z",
     "iopub.status.idle": "2025-08-19T18:12:42.462790Z",
     "shell.execute_reply": "2025-08-19T18:12:42.462023Z"
    },
    "papermill": {
     "duration": 0.068761,
     "end_time": "2025-08-19T18:12:42.465754",
     "exception": false,
     "start_time": "2025-08-19T18:12:42.396993",
     "status": "completed"
    },
    "tags": []
   },
   "outputs": [],
   "source": [
    "X_test = siab_test.iloc[:,4:164]\n",
    "y_true = siab_test.iloc[:, [3]]"
   ]
  },
  {
   "cell_type": "code",
   "execution_count": 20,
   "id": "0275101e",
   "metadata": {
    "execution": {
     "iopub.execute_input": "2025-08-19T18:12:42.505060Z",
     "iopub.status.busy": "2025-08-19T18:12:42.503963Z",
     "iopub.status.idle": "2025-08-19T18:12:42.622534Z",
     "shell.execute_reply": "2025-08-19T18:12:42.621788Z"
    },
    "papermill": {
     "duration": 0.135782,
     "end_time": "2025-08-19T18:12:42.625530",
     "exception": false,
     "start_time": "2025-08-19T18:12:42.489748",
     "status": "completed"
    },
    "tags": []
   },
   "outputs": [],
   "source": [
    "# Auxiliary data needed downstream in the pipeline\n",
    "\n",
    "org_train = X_train.copy()\n",
    "org_test = X_test.copy()\n",
    "org_calib = X_calib.copy()"
   ]
  },
  {
   "cell_type": "markdown",
   "id": "b461e618",
   "metadata": {
    "papermill": {
     "duration": 0.012654,
     "end_time": "2025-08-19T18:12:42.663030",
     "exception": false,
     "start_time": "2025-08-19T18:12:42.650376",
     "status": "completed"
    },
    "tags": []
   },
   "source": [
    "# Preprocessing Data"
   ]
  },
  {
   "cell_type": "code",
   "execution_count": 21,
   "id": "78e74c4b",
   "metadata": {
    "execution": {
     "iopub.execute_input": "2025-08-19T18:12:42.686881Z",
     "iopub.status.busy": "2025-08-19T18:12:42.685120Z",
     "iopub.status.idle": "2025-08-19T18:12:42.697211Z",
     "shell.execute_reply": "2025-08-19T18:12:42.695048Z"
    },
    "papermill": {
     "duration": 0.025982,
     "end_time": "2025-08-19T18:12:42.699206",
     "exception": false,
     "start_time": "2025-08-19T18:12:42.673224",
     "status": "completed"
    },
    "tags": []
   },
   "outputs": [],
   "source": [
    "# EXCLUDE PROTECTED FEATURES\n",
    "# --------------------------\n",
    "\n",
    "excluded_features = universe[\"exclude_features\"].split(\"-\")\n",
    "excluded_features_dictionary = {\n",
    "    \"nationality\": [\"maxdeutsch1\", \"maxdeutsch.Missing.\"],\n",
    "    \"sex\": [\"frau1\"],\n",
    "    \"age\": [\"age\"],\n",
    "}"
   ]
  },
  {
   "cell_type": "code",
   "execution_count": 22,
   "id": "f8e63555",
   "metadata": {
    "execution": {
     "iopub.execute_input": "2025-08-19T18:12:42.725964Z",
     "iopub.status.busy": "2025-08-19T18:12:42.724746Z",
     "iopub.status.idle": "2025-08-19T18:12:42.735796Z",
     "shell.execute_reply": "2025-08-19T18:12:42.733669Z"
    },
    "papermill": {
     "duration": 0.024825,
     "end_time": "2025-08-19T18:12:42.737405",
     "exception": false,
     "start_time": "2025-08-19T18:12:42.712580",
     "status": "completed"
    },
    "tags": []
   },
   "outputs": [],
   "source": [
    "excluded_features_columns = [\n",
    "    excluded_features_dictionary[f] for f in excluded_features if len(f) > 0 and f != \"none\"\n",
    "]"
   ]
  },
  {
   "cell_type": "code",
   "execution_count": 23,
   "id": "da781f7c",
   "metadata": {
    "execution": {
     "iopub.execute_input": "2025-08-19T18:12:42.764213Z",
     "iopub.status.busy": "2025-08-19T18:12:42.763018Z",
     "iopub.status.idle": "2025-08-19T18:12:42.773457Z",
     "shell.execute_reply": "2025-08-19T18:12:42.771316Z"
    },
    "papermill": {
     "duration": 0.02431,
     "end_time": "2025-08-19T18:12:42.775281",
     "exception": false,
     "start_time": "2025-08-19T18:12:42.750971",
     "status": "completed"
    },
    "tags": []
   },
   "outputs": [],
   "source": [
    "from fairness_multiverse.universe import flatten_once\n",
    "\n",
    "excluded_features_columns = flatten_once(excluded_features_columns)"
   ]
  },
  {
   "cell_type": "code",
   "execution_count": 24,
   "id": "37fef0f0",
   "metadata": {
    "execution": {
     "iopub.execute_input": "2025-08-19T18:12:42.805402Z",
     "iopub.status.busy": "2025-08-19T18:12:42.804190Z",
     "iopub.status.idle": "2025-08-19T18:12:42.828303Z",
     "shell.execute_reply": "2025-08-19T18:12:42.827130Z"
    },
    "papermill": {
     "duration": 0.038849,
     "end_time": "2025-08-19T18:12:42.830129",
     "exception": false,
     "start_time": "2025-08-19T18:12:42.791280",
     "status": "completed"
    },
    "tags": []
   },
   "outputs": [
    {
     "name": "stdout",
     "output_type": "stream",
     "text": [
      "Dropping features: ['age']\n"
     ]
    }
   ],
   "source": [
    "if len(excluded_features_columns) > 0:\n",
    "    print(f\"Dropping features: {excluded_features_columns}\")\n",
    "    X_train.drop(excluded_features_columns, axis=1, inplace=True)"
   ]
  },
  {
   "cell_type": "code",
   "execution_count": 25,
   "id": "d029e3e9",
   "metadata": {
    "execution": {
     "iopub.execute_input": "2025-08-19T18:12:42.864668Z",
     "iopub.status.busy": "2025-08-19T18:12:42.863447Z",
     "iopub.status.idle": "2025-08-19T18:12:42.926419Z",
     "shell.execute_reply": "2025-08-19T18:12:42.925626Z"
    },
    "papermill": {
     "duration": 0.079685,
     "end_time": "2025-08-19T18:12:42.929943",
     "exception": false,
     "start_time": "2025-08-19T18:12:42.850258",
     "status": "completed"
    },
    "tags": []
   },
   "outputs": [
    {
     "name": "stdout",
     "output_type": "stream",
     "text": [
      "Dropping features: ['age']\n"
     ]
    }
   ],
   "source": [
    "if len(excluded_features_columns) > 0:\n",
    "    print(f\"Dropping features: {excluded_features_columns}\")\n",
    "    X_test.drop(excluded_features_columns, axis=1, inplace=True)"
   ]
  },
  {
   "cell_type": "code",
   "execution_count": 26,
   "id": "01d571f0",
   "metadata": {
    "execution": {
     "iopub.execute_input": "2025-08-19T18:12:42.976258Z",
     "iopub.status.busy": "2025-08-19T18:12:42.974211Z",
     "iopub.status.idle": "2025-08-19T18:12:43.016036Z",
     "shell.execute_reply": "2025-08-19T18:12:43.015403Z"
    },
    "papermill": {
     "duration": 0.060709,
     "end_time": "2025-08-19T18:12:43.018572",
     "exception": false,
     "start_time": "2025-08-19T18:12:42.957863",
     "status": "completed"
    },
    "tags": []
   },
   "outputs": [
    {
     "name": "stdout",
     "output_type": "stream",
     "text": [
      "Dropping features: ['age']\n"
     ]
    }
   ],
   "source": [
    "if len(excluded_features_columns) > 0:\n",
    "    print(f\"Dropping features: {excluded_features_columns}\")\n",
    "    X_calib.drop(excluded_features_columns, axis=1, inplace=True)"
   ]
  },
  {
   "cell_type": "code",
   "execution_count": 27,
   "id": "3037356e",
   "metadata": {
    "execution": {
     "iopub.execute_input": "2025-08-19T18:12:43.064020Z",
     "iopub.status.busy": "2025-08-19T18:12:43.062617Z",
     "iopub.status.idle": "2025-08-19T18:12:43.072998Z",
     "shell.execute_reply": "2025-08-19T18:12:43.071033Z"
    },
    "papermill": {
     "duration": 0.030287,
     "end_time": "2025-08-19T18:12:43.074650",
     "exception": false,
     "start_time": "2025-08-19T18:12:43.044363",
     "status": "completed"
    },
    "tags": []
   },
   "outputs": [],
   "source": [
    "# EXCLUDE CERTAIN SUBGROUPS\n",
    "# -------------------------\n",
    "\n",
    "mode = universe.get(\"exclude_subgroups\", \"keep-all\") # Defaults to \"keep-all\" if the key is missing."
   ]
  },
  {
   "cell_type": "code",
   "execution_count": 28,
   "id": "9d1e63fd",
   "metadata": {
    "execution": {
     "iopub.execute_input": "2025-08-19T18:12:43.101241Z",
     "iopub.status.busy": "2025-08-19T18:12:43.100550Z",
     "iopub.status.idle": "2025-08-19T18:12:43.108782Z",
     "shell.execute_reply": "2025-08-19T18:12:43.107967Z"
    },
    "papermill": {
     "duration": 0.023931,
     "end_time": "2025-08-19T18:12:43.110013",
     "exception": false,
     "start_time": "2025-08-19T18:12:43.086082",
     "status": "completed"
    },
    "tags": []
   },
   "outputs": [],
   "source": [
    "if mode == \"keep-all\":\n",
    "    keep_mask = pd.Series(True, index=org_train.index)\n",
    "\n",
    "elif mode == \"drop-non-german\":\n",
    "    keep_mask = (org_train[\"maxdeutsch1\"] == 1) & (org_train[\"maxdeutsch.Missing.\"] == 0)\n",
    "\n",
    "else:\n",
    "    raise ValueError(f\"Unsupported mode for exclude_subgroups: {mode}\")"
   ]
  },
  {
   "cell_type": "code",
   "execution_count": 29,
   "id": "d3b65474",
   "metadata": {
    "execution": {
     "iopub.execute_input": "2025-08-19T18:12:43.150988Z",
     "iopub.status.busy": "2025-08-19T18:12:43.150023Z",
     "iopub.status.idle": "2025-08-19T18:12:43.155717Z",
     "shell.execute_reply": "2025-08-19T18:12:43.155134Z"
    },
    "papermill": {
     "duration": 0.038169,
     "end_time": "2025-08-19T18:12:43.163418",
     "exception": false,
     "start_time": "2025-08-19T18:12:43.125249",
     "status": "completed"
    },
    "tags": []
   },
   "outputs": [],
   "source": [
    "n_drop = (~keep_mask).sum() # Calculates how many rows are set to be dropped\n",
    "if n_drop > 0:\n",
    "    pct = n_drop / len(keep_mask) * 100\n",
    "    print(f\"Dropping {n_drop} rows ({pct:.2f}%) where mode='{mode}'\")"
   ]
  },
  {
   "cell_type": "code",
   "execution_count": 30,
   "id": "f44389b3",
   "metadata": {
    "execution": {
     "iopub.execute_input": "2025-08-19T18:12:43.195300Z",
     "iopub.status.busy": "2025-08-19T18:12:43.194811Z",
     "iopub.status.idle": "2025-08-19T18:12:43.208380Z",
     "shell.execute_reply": "2025-08-19T18:12:43.207755Z"
    },
    "papermill": {
     "duration": 0.030086,
     "end_time": "2025-08-19T18:12:43.211464",
     "exception": false,
     "start_time": "2025-08-19T18:12:43.181378",
     "status": "completed"
    },
    "tags": []
   },
   "outputs": [],
   "source": [
    "X_train = X_train[keep_mask]"
   ]
  },
  {
   "cell_type": "code",
   "execution_count": 31,
   "id": "ceca8c2a",
   "metadata": {
    "execution": {
     "iopub.execute_input": "2025-08-19T18:12:43.248077Z",
     "iopub.status.busy": "2025-08-19T18:12:43.246874Z",
     "iopub.status.idle": "2025-08-19T18:12:43.257493Z",
     "shell.execute_reply": "2025-08-19T18:12:43.256209Z"
    },
    "papermill": {
     "duration": 0.025965,
     "end_time": "2025-08-19T18:12:43.259126",
     "exception": false,
     "start_time": "2025-08-19T18:12:43.233161",
     "status": "completed"
    },
    "tags": []
   },
   "outputs": [],
   "source": [
    "y_train = y_train[keep_mask]"
   ]
  },
  {
   "cell_type": "markdown",
   "id": "04d31e2f",
   "metadata": {
    "papermill": {
     "duration": 0.011692,
     "end_time": "2025-08-19T18:12:43.285809",
     "exception": false,
     "start_time": "2025-08-19T18:12:43.274117",
     "status": "completed"
    },
    "tags": []
   },
   "source": [
    "# Model Training"
   ]
  },
  {
   "cell_type": "code",
   "execution_count": 32,
   "id": "db991733",
   "metadata": {
    "execution": {
     "iopub.execute_input": "2025-08-19T18:12:43.309206Z",
     "iopub.status.busy": "2025-08-19T18:12:43.308629Z",
     "iopub.status.idle": "2025-08-19T18:12:43.415993Z",
     "shell.execute_reply": "2025-08-19T18:12:43.415151Z"
    },
    "papermill": {
     "duration": 0.120817,
     "end_time": "2025-08-19T18:12:43.417597",
     "exception": false,
     "start_time": "2025-08-19T18:12:43.296780",
     "status": "completed"
    },
    "tags": []
   },
   "outputs": [],
   "source": [
    "from sklearn.linear_model import LogisticRegression\n",
    "from sklearn.ensemble import GradientBoostingClassifier, RandomForestClassifier\n",
    "\n",
    "if (universe[\"model\"] == \"logreg\"):\n",
    "    model = LogisticRegression() #penalty=\"none\", solver=\"newton-cg\", max_iter=1)\n",
    "elif (universe[\"model\"] == \"penalized_logreg\"):\n",
    "    model = LogisticRegression(penalty=\"l2\", C=0.1) #, solver=\"newton-cg\", max_iter=1)\n",
    "elif (universe[\"model\"] == \"rf\"):\n",
    "    model = RandomForestClassifier() # n_estimators=100, n_jobs=-1\n",
    "elif (universe[\"model\"] == \"gbm\"):\n",
    "    model = GradientBoostingClassifier()\n",
    "elif (universe[\"model\"] == \"elasticnet\"):\n",
    "    model = LogisticRegression(penalty = 'elasticnet', solver = 'saga', l1_ratio = 0.5) # max_iter=5000\n",
    "else:\n",
    "    raise \"Unsupported universe.model\""
   ]
  },
  {
   "cell_type": "code",
   "execution_count": 33,
   "id": "a4b5cd25",
   "metadata": {
    "execution": {
     "iopub.execute_input": "2025-08-19T18:12:43.441571Z",
     "iopub.status.busy": "2025-08-19T18:12:43.441259Z",
     "iopub.status.idle": "2025-08-19T18:12:43.446657Z",
     "shell.execute_reply": "2025-08-19T18:12:43.445821Z"
    },
    "papermill": {
     "duration": 0.019166,
     "end_time": "2025-08-19T18:12:43.448145",
     "exception": false,
     "start_time": "2025-08-19T18:12:43.428979",
     "status": "completed"
    },
    "tags": []
   },
   "outputs": [],
   "source": [
    "from sklearn.pipeline import Pipeline\n",
    "from sklearn.preprocessing import StandardScaler\n",
    "\n",
    "model = Pipeline([\n",
    "    #(\"continuous_processor\", continuous_processor),\n",
    "    #(\"categorical_preprocessor\", categorical_preprocessor),\n",
    "    (\"scale\", StandardScaler() if universe[\"scale\"] == \"scale\" else None), \n",
    "    (\"model\", model),\n",
    "])"
   ]
  },
  {
   "cell_type": "code",
   "execution_count": 34,
   "id": "283a904d",
   "metadata": {
    "execution": {
     "iopub.execute_input": "2025-08-19T18:12:43.472788Z",
     "iopub.status.busy": "2025-08-19T18:12:43.472352Z",
     "iopub.status.idle": "2025-08-19T18:12:50.522554Z",
     "shell.execute_reply": "2025-08-19T18:12:50.521769Z"
    },
    "papermill": {
     "duration": 7.063707,
     "end_time": "2025-08-19T18:12:50.523911",
     "exception": false,
     "start_time": "2025-08-19T18:12:43.460204",
     "status": "completed"
    },
    "tags": []
   },
   "outputs": [
    {
     "name": "stderr",
     "output_type": "stream",
     "text": [
      "/dss/dsshome1/0C/ra93lal2/.local/share/virtualenvs/CMA_Fairness_v2-3j10GkSs/lib/python3.10/site-packages/sklearn/linear_model/_sag.py:350: ConvergenceWarning: The max_iter was reached which means the coef_ did not converge\n",
      "  warnings.warn(\n"
     ]
    },
    {
     "data": {
      "text/html": [
       "<style>#sk-container-id-1 {color: black;background-color: white;}#sk-container-id-1 pre{padding: 0;}#sk-container-id-1 div.sk-toggleable {background-color: white;}#sk-container-id-1 label.sk-toggleable__label {cursor: pointer;display: block;width: 100%;margin-bottom: 0;padding: 0.3em;box-sizing: border-box;text-align: center;}#sk-container-id-1 label.sk-toggleable__label-arrow:before {content: \"▸\";float: left;margin-right: 0.25em;color: #696969;}#sk-container-id-1 label.sk-toggleable__label-arrow:hover:before {color: black;}#sk-container-id-1 div.sk-estimator:hover label.sk-toggleable__label-arrow:before {color: black;}#sk-container-id-1 div.sk-toggleable__content {max-height: 0;max-width: 0;overflow: hidden;text-align: left;background-color: #f0f8ff;}#sk-container-id-1 div.sk-toggleable__content pre {margin: 0.2em;color: black;border-radius: 0.25em;background-color: #f0f8ff;}#sk-container-id-1 input.sk-toggleable__control:checked~div.sk-toggleable__content {max-height: 200px;max-width: 100%;overflow: auto;}#sk-container-id-1 input.sk-toggleable__control:checked~label.sk-toggleable__label-arrow:before {content: \"▾\";}#sk-container-id-1 div.sk-estimator input.sk-toggleable__control:checked~label.sk-toggleable__label {background-color: #d4ebff;}#sk-container-id-1 div.sk-label input.sk-toggleable__control:checked~label.sk-toggleable__label {background-color: #d4ebff;}#sk-container-id-1 input.sk-hidden--visually {border: 0;clip: rect(1px 1px 1px 1px);clip: rect(1px, 1px, 1px, 1px);height: 1px;margin: -1px;overflow: hidden;padding: 0;position: absolute;width: 1px;}#sk-container-id-1 div.sk-estimator {font-family: monospace;background-color: #f0f8ff;border: 1px dotted black;border-radius: 0.25em;box-sizing: border-box;margin-bottom: 0.5em;}#sk-container-id-1 div.sk-estimator:hover {background-color: #d4ebff;}#sk-container-id-1 div.sk-parallel-item::after {content: \"\";width: 100%;border-bottom: 1px solid gray;flex-grow: 1;}#sk-container-id-1 div.sk-label:hover label.sk-toggleable__label {background-color: #d4ebff;}#sk-container-id-1 div.sk-serial::before {content: \"\";position: absolute;border-left: 1px solid gray;box-sizing: border-box;top: 0;bottom: 0;left: 50%;z-index: 0;}#sk-container-id-1 div.sk-serial {display: flex;flex-direction: column;align-items: center;background-color: white;padding-right: 0.2em;padding-left: 0.2em;position: relative;}#sk-container-id-1 div.sk-item {position: relative;z-index: 1;}#sk-container-id-1 div.sk-parallel {display: flex;align-items: stretch;justify-content: center;background-color: white;position: relative;}#sk-container-id-1 div.sk-item::before, #sk-container-id-1 div.sk-parallel-item::before {content: \"\";position: absolute;border-left: 1px solid gray;box-sizing: border-box;top: 0;bottom: 0;left: 50%;z-index: -1;}#sk-container-id-1 div.sk-parallel-item {display: flex;flex-direction: column;z-index: 1;position: relative;background-color: white;}#sk-container-id-1 div.sk-parallel-item:first-child::after {align-self: flex-end;width: 50%;}#sk-container-id-1 div.sk-parallel-item:last-child::after {align-self: flex-start;width: 50%;}#sk-container-id-1 div.sk-parallel-item:only-child::after {width: 0;}#sk-container-id-1 div.sk-dashed-wrapped {border: 1px dashed gray;margin: 0 0.4em 0.5em 0.4em;box-sizing: border-box;padding-bottom: 0.4em;background-color: white;}#sk-container-id-1 div.sk-label label {font-family: monospace;font-weight: bold;display: inline-block;line-height: 1.2em;}#sk-container-id-1 div.sk-label-container {text-align: center;}#sk-container-id-1 div.sk-container {/* jupyter's `normalize.less` sets `[hidden] { display: none; }` but bootstrap.min.css set `[hidden] { display: none !important; }` so we also need the `!important` here to be able to override the default hidden behavior on the sphinx rendered scikit-learn.org. See: https://github.com/scikit-learn/scikit-learn/issues/21755 */display: inline-block !important;position: relative;}#sk-container-id-1 div.sk-text-repr-fallback {display: none;}</style><div id=\"sk-container-id-1\" class=\"sk-top-container\"><div class=\"sk-text-repr-fallback\"><pre>Pipeline(steps=[(&#x27;scale&#x27;, None),\n",
       "                (&#x27;model&#x27;,\n",
       "                 LogisticRegression(l1_ratio=0.5, penalty=&#x27;elasticnet&#x27;,\n",
       "                                    solver=&#x27;saga&#x27;))])</pre><b>In a Jupyter environment, please rerun this cell to show the HTML representation or trust the notebook. <br />On GitHub, the HTML representation is unable to render, please try loading this page with nbviewer.org.</b></div><div class=\"sk-container\" hidden><div class=\"sk-item sk-dashed-wrapped\"><div class=\"sk-label-container\"><div class=\"sk-label sk-toggleable\"><input class=\"sk-toggleable__control sk-hidden--visually\" id=\"sk-estimator-id-1\" type=\"checkbox\" ><label for=\"sk-estimator-id-1\" class=\"sk-toggleable__label sk-toggleable__label-arrow\">Pipeline</label><div class=\"sk-toggleable__content\"><pre>Pipeline(steps=[(&#x27;scale&#x27;, None),\n",
       "                (&#x27;model&#x27;,\n",
       "                 LogisticRegression(l1_ratio=0.5, penalty=&#x27;elasticnet&#x27;,\n",
       "                                    solver=&#x27;saga&#x27;))])</pre></div></div></div><div class=\"sk-serial\"><div class=\"sk-item\"><div class=\"sk-estimator sk-toggleable\"><input class=\"sk-toggleable__control sk-hidden--visually\" id=\"sk-estimator-id-2\" type=\"checkbox\" ><label for=\"sk-estimator-id-2\" class=\"sk-toggleable__label sk-toggleable__label-arrow\">None</label><div class=\"sk-toggleable__content\"><pre>None</pre></div></div></div><div class=\"sk-item\"><div class=\"sk-estimator sk-toggleable\"><input class=\"sk-toggleable__control sk-hidden--visually\" id=\"sk-estimator-id-3\" type=\"checkbox\" ><label for=\"sk-estimator-id-3\" class=\"sk-toggleable__label sk-toggleable__label-arrow\">LogisticRegression</label><div class=\"sk-toggleable__content\"><pre>LogisticRegression(l1_ratio=0.5, penalty=&#x27;elasticnet&#x27;, solver=&#x27;saga&#x27;)</pre></div></div></div></div></div></div></div>"
      ],
      "text/plain": [
       "Pipeline(steps=[('scale', None),\n",
       "                ('model',\n",
       "                 LogisticRegression(l1_ratio=0.5, penalty='elasticnet',\n",
       "                                    solver='saga'))])"
      ]
     },
     "execution_count": 34,
     "metadata": {},
     "output_type": "execute_result"
    }
   ],
   "source": [
    "model.fit(X_train, y_train.values.ravel())"
   ]
  },
  {
   "cell_type": "code",
   "execution_count": 35,
   "id": "6e15e313",
   "metadata": {
    "execution": {
     "iopub.execute_input": "2025-08-19T18:12:50.552315Z",
     "iopub.status.busy": "2025-08-19T18:12:50.551904Z",
     "iopub.status.idle": "2025-08-19T18:12:50.658898Z",
     "shell.execute_reply": "2025-08-19T18:12:50.658274Z"
    },
    "papermill": {
     "duration": 0.122295,
     "end_time": "2025-08-19T18:12:50.660172",
     "exception": false,
     "start_time": "2025-08-19T18:12:50.537877",
     "status": "completed"
    },
    "tags": []
   },
   "outputs": [
    {
     "data": {
      "text/plain": [
       "0.865834355144354"
      ]
     },
     "execution_count": 35,
     "metadata": {},
     "output_type": "execute_result"
    }
   ],
   "source": [
    "from fairness_multiverse.universe import predict_w_threshold\n",
    "\n",
    "probs_test = model.predict_proba(X_test)\n",
    "\n",
    "'''\n",
    "Below code returns a boolean array (or binary 0/1 array depending on how it’s used) where each element \n",
    "is True if the probability of class 1 is greater than or equal to the threshold, and False otherwise.\n",
    "'''\n",
    "y_pred_default = predict_w_threshold(probs_test, 0.5)\n",
    "\n",
    "from sklearn.metrics import accuracy_score\n",
    "\n",
    "# Naive prediction\n",
    "accuracy_score(y_true = y_true, y_pred = y_pred_default)"
   ]
  },
  {
   "cell_type": "code",
   "execution_count": 36,
   "id": "6f14067c",
   "metadata": {
    "execution": {
     "iopub.execute_input": "2025-08-19T18:12:50.687823Z",
     "iopub.status.busy": "2025-08-19T18:12:50.687062Z",
     "iopub.status.idle": "2025-08-19T18:12:50.779385Z",
     "shell.execute_reply": "2025-08-19T18:12:50.778609Z"
    },
    "papermill": {
     "duration": 0.106127,
     "end_time": "2025-08-19T18:12:50.781080",
     "exception": false,
     "start_time": "2025-08-19T18:12:50.674953",
     "status": "completed"
    },
    "tags": []
   },
   "outputs": [
    {
     "data": {
      "text/plain": [
       "array([0, 0, 0, ..., 0, 0, 0])"
      ]
     },
     "execution_count": 36,
     "metadata": {},
     "output_type": "execute_result"
    }
   ],
   "source": [
    "model.predict(X_test)"
   ]
  },
  {
   "cell_type": "markdown",
   "id": "3759920c",
   "metadata": {
    "papermill": {
     "duration": 0.014441,
     "end_time": "2025-08-19T18:12:50.815379",
     "exception": false,
     "start_time": "2025-08-19T18:12:50.800938",
     "status": "completed"
    },
    "tags": []
   },
   "source": [
    "# Conformal Prediction"
   ]
  },
  {
   "cell_type": "code",
   "execution_count": 37,
   "id": "14b27f59",
   "metadata": {
    "execution": {
     "iopub.execute_input": "2025-08-19T18:12:50.840326Z",
     "iopub.status.busy": "2025-08-19T18:12:50.839112Z",
     "iopub.status.idle": "2025-08-19T18:12:50.849829Z",
     "shell.execute_reply": "2025-08-19T18:12:50.847970Z"
    },
    "papermill": {
     "duration": 0.025206,
     "end_time": "2025-08-19T18:12:50.851600",
     "exception": false,
     "start_time": "2025-08-19T18:12:50.826394",
     "status": "completed"
    },
    "tags": []
   },
   "outputs": [],
   "source": [
    "# Miscoverage level for conformal prediction (10% allowed error rate => 90% target coverage)\n",
    "alpha = 0.1"
   ]
  },
  {
   "cell_type": "code",
   "execution_count": 38,
   "id": "59102472",
   "metadata": {
    "execution": {
     "iopub.execute_input": "2025-08-19T18:12:50.918422Z",
     "iopub.status.busy": "2025-08-19T18:12:50.917696Z",
     "iopub.status.idle": "2025-08-19T18:12:51.081549Z",
     "shell.execute_reply": "2025-08-19T18:12:51.080554Z"
    },
    "papermill": {
     "duration": 0.202978,
     "end_time": "2025-08-19T18:12:51.084445",
     "exception": false,
     "start_time": "2025-08-19T18:12:50.881467",
     "status": "completed"
    },
    "tags": []
   },
   "outputs": [],
   "source": [
    "probs_calib = model.predict_proba(X_calib)"
   ]
  },
  {
   "cell_type": "code",
   "execution_count": 39,
   "id": "a792d4dd",
   "metadata": {
    "execution": {
     "iopub.execute_input": "2025-08-19T18:12:51.128027Z",
     "iopub.status.busy": "2025-08-19T18:12:51.127269Z",
     "iopub.status.idle": "2025-08-19T18:12:51.136308Z",
     "shell.execute_reply": "2025-08-19T18:12:51.134977Z"
    },
    "papermill": {
     "duration": 0.026693,
     "end_time": "2025-08-19T18:12:51.137974",
     "exception": false,
     "start_time": "2025-08-19T18:12:51.111281",
     "status": "completed"
    },
    "tags": []
   },
   "outputs": [],
   "source": [
    "y_calib = y_calib.values.ravel().astype(int)"
   ]
  },
  {
   "cell_type": "code",
   "execution_count": 40,
   "id": "650fd033",
   "metadata": {
    "execution": {
     "iopub.execute_input": "2025-08-19T18:12:51.167151Z",
     "iopub.status.busy": "2025-08-19T18:12:51.166445Z",
     "iopub.status.idle": "2025-08-19T18:12:51.178850Z",
     "shell.execute_reply": "2025-08-19T18:12:51.177531Z"
    },
    "papermill": {
     "duration": 0.027954,
     "end_time": "2025-08-19T18:12:51.180759",
     "exception": false,
     "start_time": "2025-08-19T18:12:51.152805",
     "status": "completed"
    },
    "tags": []
   },
   "outputs": [],
   "source": [
    "from fairness_multiverse.conformal import compute_nc_scores\n",
    "\n",
    "# Compute nonconformity scores on calibration set (1 - probability of true class)\n",
    "nc_scores = compute_nc_scores(probs_calib, y_calib)"
   ]
  },
  {
   "cell_type": "code",
   "execution_count": 41,
   "id": "28ada44c",
   "metadata": {
    "execution": {
     "iopub.execute_input": "2025-08-19T18:12:51.210804Z",
     "iopub.status.busy": "2025-08-19T18:12:51.210088Z",
     "iopub.status.idle": "2025-08-19T18:12:51.220679Z",
     "shell.execute_reply": "2025-08-19T18:12:51.219360Z"
    },
    "papermill": {
     "duration": 0.026376,
     "end_time": "2025-08-19T18:12:51.222496",
     "exception": false,
     "start_time": "2025-08-19T18:12:51.196120",
     "status": "completed"
    },
    "tags": []
   },
   "outputs": [],
   "source": [
    "from fairness_multiverse.conformal import find_threshold\n",
    "\n",
    "# Find conformal threshold q_hat for the given alpha (split conformal method)\n",
    "q_hat = find_threshold(nc_scores, alpha)"
   ]
  },
  {
   "cell_type": "code",
   "execution_count": 42,
   "id": "df56469e",
   "metadata": {
    "execution": {
     "iopub.execute_input": "2025-08-19T18:12:51.252673Z",
     "iopub.status.busy": "2025-08-19T18:12:51.251918Z",
     "iopub.status.idle": "2025-08-19T18:12:51.262052Z",
     "shell.execute_reply": "2025-08-19T18:12:51.260900Z"
    },
    "papermill": {
     "duration": 0.026048,
     "end_time": "2025-08-19T18:12:51.263754",
     "exception": false,
     "start_time": "2025-08-19T18:12:51.237706",
     "status": "completed"
    },
    "tags": []
   },
   "outputs": [
    {
     "data": {
      "text/plain": [
       "0.6627574725603039"
      ]
     },
     "execution_count": 42,
     "metadata": {},
     "output_type": "execute_result"
    }
   ],
   "source": [
    "q_hat"
   ]
  },
  {
   "cell_type": "code",
   "execution_count": 43,
   "id": "aa1f5faa",
   "metadata": {
    "execution": {
     "iopub.execute_input": "2025-08-19T18:12:51.293156Z",
     "iopub.status.busy": "2025-08-19T18:12:51.292384Z",
     "iopub.status.idle": "2025-08-19T18:12:51.811758Z",
     "shell.execute_reply": "2025-08-19T18:12:51.810894Z"
    },
    "papermill": {
     "duration": 0.536268,
     "end_time": "2025-08-19T18:12:51.814650",
     "exception": false,
     "start_time": "2025-08-19T18:12:51.278382",
     "status": "completed"
    },
    "tags": []
   },
   "outputs": [],
   "source": [
    "from fairness_multiverse.conformal import predict_conformal_sets\n",
    "\n",
    "# Generate prediction sets for each test example\n",
    "pred_sets = predict_conformal_sets(model, X_test, q_hat)"
   ]
  },
  {
   "cell_type": "code",
   "execution_count": 44,
   "id": "97f67a6b",
   "metadata": {
    "execution": {
     "iopub.execute_input": "2025-08-19T18:12:51.857843Z",
     "iopub.status.busy": "2025-08-19T18:12:51.857208Z",
     "iopub.status.idle": "2025-08-19T18:12:51.864566Z",
     "shell.execute_reply": "2025-08-19T18:12:51.863341Z"
    },
    "papermill": {
     "duration": 0.041431,
     "end_time": "2025-08-19T18:12:51.882230",
     "exception": false,
     "start_time": "2025-08-19T18:12:51.840799",
     "status": "completed"
    },
    "tags": []
   },
   "outputs": [],
   "source": [
    "y_true = y_true.squeeze()"
   ]
  },
  {
   "cell_type": "code",
   "execution_count": 45,
   "id": "e700e9a7",
   "metadata": {
    "execution": {
     "iopub.execute_input": "2025-08-19T18:12:51.938141Z",
     "iopub.status.busy": "2025-08-19T18:12:51.937767Z",
     "iopub.status.idle": "2025-08-19T18:12:52.474242Z",
     "shell.execute_reply": "2025-08-19T18:12:52.472965Z"
    },
    "papermill": {
     "duration": 0.55705,
     "end_time": "2025-08-19T18:12:52.476257",
     "exception": false,
     "start_time": "2025-08-19T18:12:51.919207",
     "status": "completed"
    },
    "tags": []
   },
   "outputs": [],
   "source": [
    "from fairness_multiverse.conformal import evaluate_sets\n",
    "\n",
    "# Evaluate coverage and average set size on test data\n",
    "metrics = evaluate_sets(pred_sets, y_true)"
   ]
  },
  {
   "cell_type": "markdown",
   "id": "efbacec0",
   "metadata": {
    "papermill": {
     "duration": 0.012234,
     "end_time": "2025-08-19T18:12:52.511772",
     "exception": false,
     "start_time": "2025-08-19T18:12:52.499538",
     "status": "completed"
    },
    "tags": []
   },
   "source": [
    "# CP Metrics"
   ]
  },
  {
   "cell_type": "code",
   "execution_count": 46,
   "id": "9de55fb1",
   "metadata": {
    "execution": {
     "iopub.execute_input": "2025-08-19T18:12:52.542136Z",
     "iopub.status.busy": "2025-08-19T18:12:52.541523Z",
     "iopub.status.idle": "2025-08-19T18:12:52.551475Z",
     "shell.execute_reply": "2025-08-19T18:12:52.550300Z"
    },
    "papermill": {
     "duration": 0.029338,
     "end_time": "2025-08-19T18:12:52.552912",
     "exception": false,
     "start_time": "2025-08-19T18:12:52.523574",
     "status": "completed"
    },
    "tags": []
   },
   "outputs": [
    {
     "data": {
      "text/plain": [
       "{'coverage': 0.9136662579422584, 'avg_size': 1.262412217144131}"
      ]
     },
     "execution_count": 46,
     "metadata": {},
     "output_type": "execute_result"
    }
   ],
   "source": [
    "metrics"
   ]
  },
  {
   "cell_type": "code",
   "execution_count": 47,
   "id": "64c340a1",
   "metadata": {
    "execution": {
     "iopub.execute_input": "2025-08-19T18:12:52.587063Z",
     "iopub.status.busy": "2025-08-19T18:12:52.586628Z",
     "iopub.status.idle": "2025-08-19T18:12:52.593105Z",
     "shell.execute_reply": "2025-08-19T18:12:52.592282Z"
    },
    "papermill": {
     "duration": 0.02963,
     "end_time": "2025-08-19T18:12:52.594400",
     "exception": false,
     "start_time": "2025-08-19T18:12:52.564770",
     "status": "completed"
    },
    "tags": []
   },
   "outputs": [],
   "source": [
    "example_universe = universe.copy()\n",
    "universe_training_year = example_universe.get(\"training_year\")\n",
    "universe_training_size = example_universe.get(\"training_size\")\n",
    "universe_scale = example_universe.get(\"scale\")\n",
    "universe_model = example_universe.get(\"model\")\n",
    "universe_exclude_features = example_universe.get(\"exclude_features\")\n",
    "universe_exclude_subgroups = example_universe.get(\"exclude_subgroups\")"
   ]
  },
  {
   "cell_type": "code",
   "execution_count": 48,
   "id": "dbb53cb4",
   "metadata": {
    "execution": {
     "iopub.execute_input": "2025-08-19T18:12:52.620849Z",
     "iopub.status.busy": "2025-08-19T18:12:52.620548Z",
     "iopub.status.idle": "2025-08-19T18:12:52.625254Z",
     "shell.execute_reply": "2025-08-19T18:12:52.624509Z"
    },
    "papermill": {
     "duration": 0.020001,
     "end_time": "2025-08-19T18:12:52.626420",
     "exception": false,
     "start_time": "2025-08-19T18:12:52.606419",
     "status": "completed"
    },
    "tags": []
   },
   "outputs": [],
   "source": [
    "cp_metrics_dict = {\n",
    "    \"universe_id\": [universe_id],\n",
    "    \"universe_training_year\": [universe_training_year],\n",
    "    \"universe_training_size\": [universe_training_size],\n",
    "    \"universe_scale\": [universe_scale],\n",
    "    \"universe_model\": [universe_model],\n",
    "    \"universe_exclude_features\": [universe_exclude_features],\n",
    "    \"universe_exclude_subgroups\": [universe_exclude_subgroups],\n",
    "    \"q_hat\": [q_hat],\n",
    "    \"coverage\": [metrics[\"coverage\"]],\n",
    "    \"avg_size\": [metrics[\"avg_size\"]],\n",
    "}"
   ]
  },
  {
   "cell_type": "code",
   "execution_count": 49,
   "id": "0d70d4b2",
   "metadata": {
    "execution": {
     "iopub.execute_input": "2025-08-19T18:12:52.652166Z",
     "iopub.status.busy": "2025-08-19T18:12:52.651831Z",
     "iopub.status.idle": "2025-08-19T18:12:52.657546Z",
     "shell.execute_reply": "2025-08-19T18:12:52.656747Z"
    },
    "papermill": {
     "duration": 0.019305,
     "end_time": "2025-08-19T18:12:52.658717",
     "exception": false,
     "start_time": "2025-08-19T18:12:52.639412",
     "status": "completed"
    },
    "tags": []
   },
   "outputs": [],
   "source": [
    "cp_metrics_df = pd.DataFrame(cp_metrics_dict)"
   ]
  },
  {
   "cell_type": "code",
   "execution_count": 50,
   "id": "b494403c",
   "metadata": {
    "execution": {
     "iopub.execute_input": "2025-08-19T18:12:52.684704Z",
     "iopub.status.busy": "2025-08-19T18:12:52.684045Z",
     "iopub.status.idle": "2025-08-19T18:12:52.703959Z",
     "shell.execute_reply": "2025-08-19T18:12:52.703079Z"
    },
    "papermill": {
     "duration": 0.034576,
     "end_time": "2025-08-19T18:12:52.705498",
     "exception": false,
     "start_time": "2025-08-19T18:12:52.670922",
     "status": "completed"
    },
    "tags": []
   },
   "outputs": [
    {
     "data": {
      "text/html": [
       "<div>\n",
       "<style scoped>\n",
       "    .dataframe tbody tr th:only-of-type {\n",
       "        vertical-align: middle;\n",
       "    }\n",
       "\n",
       "    .dataframe tbody tr th {\n",
       "        vertical-align: top;\n",
       "    }\n",
       "\n",
       "    .dataframe thead th {\n",
       "        text-align: right;\n",
       "    }\n",
       "</style>\n",
       "<table border=\"1\" class=\"dataframe\">\n",
       "  <thead>\n",
       "    <tr style=\"text-align: right;\">\n",
       "      <th></th>\n",
       "      <th>universe_id</th>\n",
       "      <th>universe_training_year</th>\n",
       "      <th>universe_training_size</th>\n",
       "      <th>universe_scale</th>\n",
       "      <th>universe_model</th>\n",
       "      <th>universe_exclude_features</th>\n",
       "      <th>universe_exclude_subgroups</th>\n",
       "      <th>q_hat</th>\n",
       "      <th>coverage</th>\n",
       "      <th>avg_size</th>\n",
       "    </tr>\n",
       "  </thead>\n",
       "  <tbody>\n",
       "    <tr>\n",
       "      <th>0</th>\n",
       "      <td>f16c9af0e07e7b87c201ba4841843a0d</td>\n",
       "      <td>2012_14</td>\n",
       "      <td>25k</td>\n",
       "      <td>do-not-scale</td>\n",
       "      <td>elasticnet</td>\n",
       "      <td>age</td>\n",
       "      <td>keep-all</td>\n",
       "      <td>0.662757</td>\n",
       "      <td>0.913666</td>\n",
       "      <td>1.262412</td>\n",
       "    </tr>\n",
       "  </tbody>\n",
       "</table>\n",
       "</div>"
      ],
      "text/plain": [
       "                        universe_id universe_training_year  \\\n",
       "0  f16c9af0e07e7b87c201ba4841843a0d                2012_14   \n",
       "\n",
       "  universe_training_size universe_scale universe_model  \\\n",
       "0                    25k   do-not-scale     elasticnet   \n",
       "\n",
       "  universe_exclude_features universe_exclude_subgroups     q_hat  coverage  \\\n",
       "0                       age                   keep-all  0.662757  0.913666   \n",
       "\n",
       "   avg_size  \n",
       "0  1.262412  "
      ]
     },
     "execution_count": 50,
     "metadata": {},
     "output_type": "execute_result"
    }
   ],
   "source": [
    "cp_metrics_df"
   ]
  },
  {
   "cell_type": "markdown",
   "id": "ed608b0b",
   "metadata": {
    "papermill": {
     "duration": 0.012067,
     "end_time": "2025-08-19T18:12:52.732051",
     "exception": false,
     "start_time": "2025-08-19T18:12:52.719984",
     "status": "completed"
    },
    "tags": []
   },
   "source": [
    "Conditional coverage & looking at subgroups"
   ]
  },
  {
   "cell_type": "code",
   "execution_count": 51,
   "id": "8968c366",
   "metadata": {
    "execution": {
     "iopub.execute_input": "2025-08-19T18:12:52.760046Z",
     "iopub.status.busy": "2025-08-19T18:12:52.757894Z",
     "iopub.status.idle": "2025-08-19T18:12:53.081303Z",
     "shell.execute_reply": "2025-08-19T18:12:53.080559Z"
    },
    "papermill": {
     "duration": 0.338913,
     "end_time": "2025-08-19T18:12:53.082882",
     "exception": false,
     "start_time": "2025-08-19T18:12:52.743969",
     "status": "completed"
    },
    "tags": []
   },
   "outputs": [],
   "source": [
    "from fairness_multiverse.conformal import build_cp_groups\n",
    "\n",
    "cp_groups_df = build_cp_groups(pred_sets, y_true, X_test.index, org_test)"
   ]
  },
  {
   "cell_type": "code",
   "execution_count": 52,
   "id": "292ddabf",
   "metadata": {
    "execution": {
     "iopub.execute_input": "2025-08-19T18:12:53.111211Z",
     "iopub.status.busy": "2025-08-19T18:12:53.110538Z",
     "iopub.status.idle": "2025-08-19T18:12:53.989098Z",
     "shell.execute_reply": "2025-08-19T18:12:53.983935Z"
    },
    "papermill": {
     "duration": 0.895326,
     "end_time": "2025-08-19T18:12:53.990755",
     "exception": false,
     "start_time": "2025-08-19T18:12:53.095429",
     "status": "completed"
    },
    "tags": []
   },
   "outputs": [],
   "source": [
    "# Define covered = 1 if true_label is in the predicted set\n",
    "cp_groups_df['covered'] = cp_groups_df.apply(\n",
    "    lambda r: int(r['true_label'] in r['pred_set']),\n",
    "    axis=1\n",
    ")"
   ]
  },
  {
   "cell_type": "code",
   "execution_count": 53,
   "id": "3a261692",
   "metadata": {
    "execution": {
     "iopub.execute_input": "2025-08-19T18:12:54.029311Z",
     "iopub.status.busy": "2025-08-19T18:12:54.027198Z",
     "iopub.status.idle": "2025-08-19T18:12:54.064015Z",
     "shell.execute_reply": "2025-08-19T18:12:54.062942Z"
    },
    "papermill": {
     "duration": 0.056411,
     "end_time": "2025-08-19T18:12:54.065383",
     "exception": false,
     "start_time": "2025-08-19T18:12:54.008972",
     "status": "completed"
    },
    "tags": []
   },
   "outputs": [],
   "source": [
    "subgroups = ['frau1','nongerman','nongerman_male','nongerman_female']\n",
    "\n",
    "# Conditional coverage for subgroup==1\n",
    "cond_coverage = {\n",
    "    g: cp_groups_df.loc[cp_groups_df[g]==1, 'covered'].mean()\n",
    "    for g in subgroups\n",
    "}"
   ]
  },
  {
   "cell_type": "code",
   "execution_count": 54,
   "id": "894fd600",
   "metadata": {
    "execution": {
     "iopub.execute_input": "2025-08-19T18:12:54.126113Z",
     "iopub.status.busy": "2025-08-19T18:12:54.124699Z",
     "iopub.status.idle": "2025-08-19T18:12:54.138684Z",
     "shell.execute_reply": "2025-08-19T18:12:54.137261Z"
    },
    "papermill": {
     "duration": 0.056096,
     "end_time": "2025-08-19T18:12:54.140132",
     "exception": false,
     "start_time": "2025-08-19T18:12:54.084036",
     "status": "completed"
    },
    "tags": []
   },
   "outputs": [
    {
     "data": {
      "text/plain": [
       "{'frau1': 0.9130341016309476,\n",
       " 'nongerman': 0.9656992084432717,\n",
       " 'nongerman_male': 0.9716292893812483,\n",
       " 'nongerman_female': 0.9558867362146051}"
      ]
     },
     "execution_count": 54,
     "metadata": {},
     "output_type": "execute_result"
    }
   ],
   "source": [
    "cond_coverage"
   ]
  },
  {
   "cell_type": "code",
   "execution_count": 55,
   "id": "942895c7",
   "metadata": {
    "execution": {
     "iopub.execute_input": "2025-08-19T18:12:54.191935Z",
     "iopub.status.busy": "2025-08-19T18:12:54.190605Z",
     "iopub.status.idle": "2025-08-19T18:12:54.210361Z",
     "shell.execute_reply": "2025-08-19T18:12:54.205543Z"
    },
    "papermill": {
     "duration": 0.049218,
     "end_time": "2025-08-19T18:12:54.211983",
     "exception": false,
     "start_time": "2025-08-19T18:12:54.162765",
     "status": "completed"
    },
    "tags": []
   },
   "outputs": [],
   "source": [
    "for subgroup, cov in cond_coverage.items():\n",
    "    cp_metrics_df[f\"cov_{subgroup}\"] = cov"
   ]
  },
  {
   "cell_type": "code",
   "execution_count": 56,
   "id": "3970120f",
   "metadata": {
    "execution": {
     "iopub.execute_input": "2025-08-19T18:12:54.238993Z",
     "iopub.status.busy": "2025-08-19T18:12:54.238492Z",
     "iopub.status.idle": "2025-08-19T18:12:54.260623Z",
     "shell.execute_reply": "2025-08-19T18:12:54.259225Z"
    },
    "papermill": {
     "duration": 0.042176,
     "end_time": "2025-08-19T18:12:54.266620",
     "exception": false,
     "start_time": "2025-08-19T18:12:54.224444",
     "status": "completed"
    },
    "tags": []
   },
   "outputs": [
    {
     "data": {
      "text/html": [
       "<div>\n",
       "<style scoped>\n",
       "    .dataframe tbody tr th:only-of-type {\n",
       "        vertical-align: middle;\n",
       "    }\n",
       "\n",
       "    .dataframe tbody tr th {\n",
       "        vertical-align: top;\n",
       "    }\n",
       "\n",
       "    .dataframe thead th {\n",
       "        text-align: right;\n",
       "    }\n",
       "</style>\n",
       "<table border=\"1\" class=\"dataframe\">\n",
       "  <thead>\n",
       "    <tr style=\"text-align: right;\">\n",
       "      <th></th>\n",
       "      <th>universe_id</th>\n",
       "      <th>universe_training_year</th>\n",
       "      <th>universe_training_size</th>\n",
       "      <th>universe_scale</th>\n",
       "      <th>universe_model</th>\n",
       "      <th>universe_exclude_features</th>\n",
       "      <th>universe_exclude_subgroups</th>\n",
       "      <th>q_hat</th>\n",
       "      <th>coverage</th>\n",
       "      <th>avg_size</th>\n",
       "      <th>cov_frau1</th>\n",
       "      <th>cov_nongerman</th>\n",
       "      <th>cov_nongerman_male</th>\n",
       "      <th>cov_nongerman_female</th>\n",
       "    </tr>\n",
       "  </thead>\n",
       "  <tbody>\n",
       "    <tr>\n",
       "      <th>0</th>\n",
       "      <td>f16c9af0e07e7b87c201ba4841843a0d</td>\n",
       "      <td>2012_14</td>\n",
       "      <td>25k</td>\n",
       "      <td>do-not-scale</td>\n",
       "      <td>elasticnet</td>\n",
       "      <td>age</td>\n",
       "      <td>keep-all</td>\n",
       "      <td>0.662757</td>\n",
       "      <td>0.913666</td>\n",
       "      <td>1.262412</td>\n",
       "      <td>0.913034</td>\n",
       "      <td>0.965699</td>\n",
       "      <td>0.971629</td>\n",
       "      <td>0.955887</td>\n",
       "    </tr>\n",
       "  </tbody>\n",
       "</table>\n",
       "</div>"
      ],
      "text/plain": [
       "                        universe_id universe_training_year  \\\n",
       "0  f16c9af0e07e7b87c201ba4841843a0d                2012_14   \n",
       "\n",
       "  universe_training_size universe_scale universe_model  \\\n",
       "0                    25k   do-not-scale     elasticnet   \n",
       "\n",
       "  universe_exclude_features universe_exclude_subgroups     q_hat  coverage  \\\n",
       "0                       age                   keep-all  0.662757  0.913666   \n",
       "\n",
       "   avg_size  cov_frau1  cov_nongerman  cov_nongerman_male  \\\n",
       "0  1.262412   0.913034       0.965699            0.971629   \n",
       "\n",
       "   cov_nongerman_female  \n",
       "0              0.955887  "
      ]
     },
     "execution_count": 56,
     "metadata": {},
     "output_type": "execute_result"
    }
   ],
   "source": [
    "cp_metrics_df"
   ]
  },
  {
   "cell_type": "markdown",
   "id": "3fc519cc",
   "metadata": {
    "papermill": {
     "duration": 0.012992,
     "end_time": "2025-08-19T18:12:54.295929",
     "exception": false,
     "start_time": "2025-08-19T18:12:54.282937",
     "status": "completed"
    },
    "tags": []
   },
   "source": [
    "# (Fairness) Metrics"
   ]
  },
  {
   "cell_type": "code",
   "execution_count": 57,
   "id": "a2e5e155",
   "metadata": {
    "execution": {
     "iopub.execute_input": "2025-08-19T18:12:54.323717Z",
     "iopub.status.busy": "2025-08-19T18:12:54.323142Z",
     "iopub.status.idle": "2025-08-19T18:12:54.342539Z",
     "shell.execute_reply": "2025-08-19T18:12:54.341817Z"
    },
    "papermill": {
     "duration": 0.034109,
     "end_time": "2025-08-19T18:12:54.343831",
     "exception": false,
     "start_time": "2025-08-19T18:12:54.309722",
     "status": "completed"
    },
    "tags": []
   },
   "outputs": [],
   "source": [
    "colname_to_bin = \"maxdeutsch1\"\n",
    "majority_value = org_train[colname_to_bin].mode()[0]\n",
    "\n",
    "org_test[\"majmin\"] = np.where(org_test[colname_to_bin] == majority_value, \"majority\", \"minority\")"
   ]
  },
  {
   "cell_type": "code",
   "execution_count": 58,
   "id": "17e3e4d5",
   "metadata": {
    "execution": {
     "iopub.execute_input": "2025-08-19T18:12:54.378525Z",
     "iopub.status.busy": "2025-08-19T18:12:54.377440Z",
     "iopub.status.idle": "2025-08-19T18:12:56.290322Z",
     "shell.execute_reply": "2025-08-19T18:12:56.288807Z"
    },
    "papermill": {
     "duration": 1.928535,
     "end_time": "2025-08-19T18:12:56.291971",
     "exception": false,
     "start_time": "2025-08-19T18:12:54.363436",
     "status": "completed"
    },
    "tags": []
   },
   "outputs": [],
   "source": [
    "example_universe = universe.copy()\n",
    "example_universe[\"cutoff\"] = example_universe[\"cutoff\"][0]\n",
    "example_universe[\"eval_fairness_grouping\"] = example_universe[\"eval_fairness_grouping\"][0]\n",
    "fairness_dict, metric_frame = universe_analysis.compute_metrics(\n",
    "    example_universe,\n",
    "    y_pred_prob=probs_test,\n",
    "    y_test=y_true,\n",
    "    org_test=org_test,\n",
    ")"
   ]
  },
  {
   "cell_type": "markdown",
   "id": "1fb7a0e9",
   "metadata": {
    "papermill": {
     "duration": 0.014781,
     "end_time": "2025-08-19T18:12:56.322931",
     "exception": false,
     "start_time": "2025-08-19T18:12:56.308150",
     "status": "completed"
    },
    "tags": []
   },
   "source": [
    "# Overall"
   ]
  },
  {
   "cell_type": "markdown",
   "id": "be1784b1",
   "metadata": {
    "papermill": {
     "duration": 0.014669,
     "end_time": "2025-08-19T18:12:56.368425",
     "exception": false,
     "start_time": "2025-08-19T18:12:56.353756",
     "status": "completed"
    },
    "tags": []
   },
   "source": [
    "Main fairness target: Equalized Odds. Seems to be a better fit than equal opportunity, since we're not only interested in Y = 1. Seems to be a better fit than demographic parity, since we also care about accuracy, not just equal distribution of preds.\n",
    "\n",
    "Pick column for computation of fairness metrics\n",
    "\n",
    "Performance\n",
    "Overall performance measures, most interesting in relation to the measures split by group below"
   ]
  },
  {
   "cell_type": "code",
   "execution_count": 59,
   "id": "b7672bee",
   "metadata": {
    "execution": {
     "iopub.execute_input": "2025-08-19T18:12:56.396026Z",
     "iopub.status.busy": "2025-08-19T18:12:56.395542Z",
     "iopub.status.idle": "2025-08-19T18:12:56.407771Z",
     "shell.execute_reply": "2025-08-19T18:12:56.407014Z"
    },
    "papermill": {
     "duration": 0.047543,
     "end_time": "2025-08-19T18:12:56.428629",
     "exception": false,
     "start_time": "2025-08-19T18:12:56.381086",
     "status": "completed"
    },
    "tags": []
   },
   "outputs": [
    {
     "data": {
      "text/plain": [
       "accuracy                   0.215639\n",
       "balanced accuracy          0.529098\n",
       "f1                         0.237211\n",
       "precision                  0.135511\n",
       "false positive rate        0.892535\n",
       "false negative rate        0.049270\n",
       "selection rate             0.900000\n",
       "count                  89710.000000\n",
       "dtype: float64"
      ]
     },
     "execution_count": 59,
     "metadata": {},
     "output_type": "execute_result"
    }
   ],
   "source": [
    "metric_frame.overall"
   ]
  },
  {
   "cell_type": "markdown",
   "id": "d93333c9",
   "metadata": {
    "papermill": {
     "duration": 0.016721,
     "end_time": "2025-08-19T18:12:56.469989",
     "exception": false,
     "start_time": "2025-08-19T18:12:56.453268",
     "status": "completed"
    },
    "tags": []
   },
   "source": [
    "By Group"
   ]
  },
  {
   "cell_type": "code",
   "execution_count": 60,
   "id": "52256966",
   "metadata": {
    "execution": {
     "iopub.execute_input": "2025-08-19T18:12:56.498787Z",
     "iopub.status.busy": "2025-08-19T18:12:56.498358Z",
     "iopub.status.idle": "2025-08-19T18:12:56.515717Z",
     "shell.execute_reply": "2025-08-19T18:12:56.514337Z"
    },
    "papermill": {
     "duration": 0.034919,
     "end_time": "2025-08-19T18:12:56.517941",
     "exception": false,
     "start_time": "2025-08-19T18:12:56.483022",
     "status": "completed"
    },
    "tags": []
   },
   "outputs": [
    {
     "data": {
      "text/html": [
       "<div>\n",
       "<style scoped>\n",
       "    .dataframe tbody tr th:only-of-type {\n",
       "        vertical-align: middle;\n",
       "    }\n",
       "\n",
       "    .dataframe tbody tr th {\n",
       "        vertical-align: top;\n",
       "    }\n",
       "\n",
       "    .dataframe thead th {\n",
       "        text-align: right;\n",
       "    }\n",
       "</style>\n",
       "<table border=\"1\" class=\"dataframe\">\n",
       "  <thead>\n",
       "    <tr style=\"text-align: right;\">\n",
       "      <th></th>\n",
       "      <th>accuracy</th>\n",
       "      <th>balanced accuracy</th>\n",
       "      <th>f1</th>\n",
       "      <th>precision</th>\n",
       "      <th>false positive rate</th>\n",
       "      <th>false negative rate</th>\n",
       "      <th>selection rate</th>\n",
       "      <th>count</th>\n",
       "    </tr>\n",
       "    <tr>\n",
       "      <th>majmin</th>\n",
       "      <th></th>\n",
       "      <th></th>\n",
       "      <th></th>\n",
       "      <th></th>\n",
       "      <th></th>\n",
       "      <th></th>\n",
       "      <th></th>\n",
       "      <th></th>\n",
       "    </tr>\n",
       "  </thead>\n",
       "  <tbody>\n",
       "    <tr>\n",
       "      <th>majority</th>\n",
       "      <td>0.236880</td>\n",
       "      <td>0.536554</td>\n",
       "      <td>0.246348</td>\n",
       "      <td>0.141661</td>\n",
       "      <td>0.870765</td>\n",
       "      <td>0.056127</td>\n",
       "      <td>0.880425</td>\n",
       "      <td>69170.0</td>\n",
       "    </tr>\n",
       "    <tr>\n",
       "      <th>minority</th>\n",
       "      <td>0.144109</td>\n",
       "      <td>0.506373</td>\n",
       "      <td>0.208393</td>\n",
       "      <td>0.116633</td>\n",
       "      <td>0.964451</td>\n",
       "      <td>0.022804</td>\n",
       "      <td>0.965920</td>\n",
       "      <td>20540.0</td>\n",
       "    </tr>\n",
       "  </tbody>\n",
       "</table>\n",
       "</div>"
      ],
      "text/plain": [
       "          accuracy  balanced accuracy        f1  precision  \\\n",
       "majmin                                                       \n",
       "majority  0.236880           0.536554  0.246348   0.141661   \n",
       "minority  0.144109           0.506373  0.208393   0.116633   \n",
       "\n",
       "          false positive rate  false negative rate  selection rate    count  \n",
       "majmin                                                                       \n",
       "majority             0.870765             0.056127        0.880425  69170.0  \n",
       "minority             0.964451             0.022804        0.965920  20540.0  "
      ]
     },
     "execution_count": 60,
     "metadata": {},
     "output_type": "execute_result"
    }
   ],
   "source": [
    "metric_frame.by_group"
   ]
  },
  {
   "cell_type": "code",
   "execution_count": 61,
   "id": "6e6c20ae",
   "metadata": {
    "execution": {
     "iopub.execute_input": "2025-08-19T18:12:56.549441Z",
     "iopub.status.busy": "2025-08-19T18:12:56.549035Z",
     "iopub.status.idle": "2025-08-19T18:12:58.559830Z",
     "shell.execute_reply": "2025-08-19T18:12:58.558315Z"
    },
    "papermill": {
     "duration": 2.027851,
     "end_time": "2025-08-19T18:12:58.562411",
     "exception": false,
     "start_time": "2025-08-19T18:12:56.534560",
     "status": "completed"
    },
    "tags": []
   },
   "outputs": [
    {
     "data": {
      "text/plain": [
       "array([[<Axes: title={'center': 'accuracy'}, xlabel='majmin'>,\n",
       "        <Axes: title={'center': 'balanced accuracy'}, xlabel='majmin'>,\n",
       "        <Axes: title={'center': 'f1'}, xlabel='majmin'>],\n",
       "       [<Axes: title={'center': 'precision'}, xlabel='majmin'>,\n",
       "        <Axes: title={'center': 'false positive rate'}, xlabel='majmin'>,\n",
       "        <Axes: title={'center': 'false negative rate'}, xlabel='majmin'>],\n",
       "       [<Axes: title={'center': 'selection rate'}, xlabel='majmin'>,\n",
       "        <Axes: title={'center': 'count'}, xlabel='majmin'>,\n",
       "        <Axes: xlabel='majmin'>]], dtype=object)"
      ]
     },
     "execution_count": 61,
     "metadata": {},
     "output_type": "execute_result"
    },
    {
     "data": {
      "image/png": "[encoded data removed]",
      "text/plain": [
       "<Figure size 1200x800 with 9 Axes>"
      ]
     },
     "metadata": {},
     "output_type": "display_data"
    }
   ],
   "source": [
    "# In a graphic\n",
    "metric_frame.by_group.plot.bar(\n",
    "    subplots=True,\n",
    "    layout=[3, 3],\n",
    "    legend=False,\n",
    "    figsize=[12, 8],\n",
    "    title=\"Show all metrics\",\n",
    ")"
   ]
  },
  {
   "cell_type": "markdown",
   "id": "b2e433ae",
   "metadata": {
    "papermill": {
     "duration": 0.013693,
     "end_time": "2025-08-19T18:12:58.591540",
     "exception": false,
     "start_time": "2025-08-19T18:12:58.577847",
     "status": "completed"
    },
    "tags": []
   },
   "source": [
    "# Final Output"
   ]
  },
  {
   "cell_type": "code",
   "execution_count": 62,
   "id": "3871301e",
   "metadata": {
    "execution": {
     "iopub.execute_input": "2025-08-19T18:12:58.621284Z",
     "iopub.status.busy": "2025-08-19T18:12:58.620359Z",
     "iopub.status.idle": "2025-08-19T18:12:58.631342Z",
     "shell.execute_reply": "2025-08-19T18:12:58.630474Z"
    },
    "papermill": {
     "duration": 0.031023,
     "end_time": "2025-08-19T18:12:58.636168",
     "exception": false,
     "start_time": "2025-08-19T18:12:58.605145",
     "status": "completed"
    },
    "tags": []
   },
   "outputs": [
    {
     "data": {
      "text/plain": [
       "4"
      ]
     },
     "execution_count": 62,
     "metadata": {},
     "output_type": "execute_result"
    }
   ],
   "source": [
    "sub_universes = universe_analysis.generate_sub_universes()\n",
    "len(sub_universes)"
   ]
  },
  {
   "cell_type": "code",
   "execution_count": 63,
   "id": "d9cfdaca",
   "metadata": {
    "execution": {
     "iopub.execute_input": "2025-08-19T18:12:58.685124Z",
     "iopub.status.busy": "2025-08-19T18:12:58.676175Z",
     "iopub.status.idle": "2025-08-19T18:12:58.690556Z",
     "shell.execute_reply": "2025-08-19T18:12:58.689533Z"
    },
    "papermill": {
     "duration": 0.033654,
     "end_time": "2025-08-19T18:12:58.692207",
     "exception": false,
     "start_time": "2025-08-19T18:12:58.658553",
     "status": "completed"
    },
    "tags": []
   },
   "outputs": [],
   "source": [
    "def filter_sub_universe_data(sub_universe, org_test):\n",
    "    # Keep all rows — no filtering\n",
    "    keep_rows_mask = np.ones(org_test.shape[0], dtype=bool)\n",
    "\n",
    "    print(f\"[INFO] Keeping all rows: {keep_rows_mask.sum()} rows retained.\")\n",
    "    return keep_rows_mask"
   ]
  },
  {
   "cell_type": "code",
   "execution_count": 64,
   "id": "2bc31ac1",
   "metadata": {
    "execution": {
     "iopub.execute_input": "2025-08-19T18:12:58.726381Z",
     "iopub.status.busy": "2025-08-19T18:12:58.725486Z",
     "iopub.status.idle": "2025-08-19T18:13:05.619357Z",
     "shell.execute_reply": "2025-08-19T18:13:05.618266Z"
    },
    "papermill": {
     "duration": 6.912224,
     "end_time": "2025-08-19T18:13:05.622178",
     "exception": false,
     "start_time": "2025-08-19T18:12:58.709954",
     "status": "completed"
    },
    "tags": []
   },
   "outputs": [
    {
     "name": "stdout",
     "output_type": "stream",
     "text": [
      "Stopping execution_time clock.\n",
      "[INFO] Keeping all rows: 89710 rows retained.\n"
     ]
    },
    {
     "name": "stdout",
     "output_type": "stream",
     "text": [
      "[INFO] Keeping all rows: 89710 rows retained.\n"
     ]
    },
    {
     "name": "stdout",
     "output_type": "stream",
     "text": [
      "[INFO] Keeping all rows: 89710 rows retained.\n"
     ]
    },
    {
     "name": "stdout",
     "output_type": "stream",
     "text": [
      "[INFO] Keeping all rows: 89710 rows retained.\n"
     ]
    },
    {
     "data": {
      "text/html": [
       "<div>\n",
       "<style scoped>\n",
       "    .dataframe tbody tr th:only-of-type {\n",
       "        vertical-align: middle;\n",
       "    }\n",
       "\n",
       "    .dataframe tbody tr th {\n",
       "        vertical-align: top;\n",
       "    }\n",
       "\n",
       "    .dataframe thead th {\n",
       "        text-align: right;\n",
       "    }\n",
       "</style>\n",
       "<table border=\"1\" class=\"dataframe\">\n",
       "  <thead>\n",
       "    <tr style=\"text-align: right;\">\n",
       "      <th></th>\n",
       "      <th>run_no</th>\n",
       "      <th>universe_id</th>\n",
       "      <th>universe_settings</th>\n",
       "      <th>execution_time</th>\n",
       "      <th>test_size_n</th>\n",
       "      <th>test_size_frac</th>\n",
       "      <th>fair_main_equalized_odds_difference</th>\n",
       "      <th>fair_main_equalized_odds_ratio</th>\n",
       "      <th>fair_main_demographic_parity_difference</th>\n",
       "      <th>fair_main_demographic_parity_ratio</th>\n",
       "      <th>...</th>\n",
       "      <th>perf_grp_precision_0</th>\n",
       "      <th>perf_grp_precision_1</th>\n",
       "      <th>perf_grp_false positive rate_0</th>\n",
       "      <th>perf_grp_false positive rate_1</th>\n",
       "      <th>perf_grp_false negative rate_0</th>\n",
       "      <th>perf_grp_false negative rate_1</th>\n",
       "      <th>perf_grp_selection rate_0</th>\n",
       "      <th>perf_grp_selection rate_1</th>\n",
       "      <th>perf_grp_count_0</th>\n",
       "      <th>perf_grp_count_1</th>\n",
       "    </tr>\n",
       "  </thead>\n",
       "  <tbody>\n",
       "    <tr>\n",
       "      <th>0</th>\n",
       "      <td>3</td>\n",
       "      <td>f16c9af0e07e7b87c201ba4841843a0d</td>\n",
       "      <td>{\"cutoff\": \"quantile_0.1\", \"eval_fairness_grou...</td>\n",
       "      <td>27.99279</td>\n",
       "      <td>89710</td>\n",
       "      <td>1.0</td>\n",
       "      <td>0.093686</td>\n",
       "      <td>0.902861</td>\n",
       "      <td>0.085495</td>\n",
       "      <td>0.911488</td>\n",
       "      <td>...</td>\n",
       "      <td>NaN</td>\n",
       "      <td>NaN</td>\n",
       "      <td>NaN</td>\n",
       "      <td>NaN</td>\n",
       "      <td>NaN</td>\n",
       "      <td>NaN</td>\n",
       "      <td>NaN</td>\n",
       "      <td>NaN</td>\n",
       "      <td>NaN</td>\n",
       "      <td>NaN</td>\n",
       "    </tr>\n",
       "    <tr>\n",
       "      <th>0</th>\n",
       "      <td>3</td>\n",
       "      <td>f16c9af0e07e7b87c201ba4841843a0d</td>\n",
       "      <td>{\"cutoff\": \"quantile_0.1\", \"eval_fairness_grou...</td>\n",
       "      <td>27.99279</td>\n",
       "      <td>89710</td>\n",
       "      <td>1.0</td>\n",
       "      <td>0.093686</td>\n",
       "      <td>0.902861</td>\n",
       "      <td>0.085495</td>\n",
       "      <td>0.911488</td>\n",
       "      <td>...</td>\n",
       "      <td>0.116633</td>\n",
       "      <td>0.141661</td>\n",
       "      <td>0.964451</td>\n",
       "      <td>0.870765</td>\n",
       "      <td>0.022804</td>\n",
       "      <td>0.056127</td>\n",
       "      <td>0.965920</td>\n",
       "      <td>0.880425</td>\n",
       "      <td>20540.0</td>\n",
       "      <td>69170.0</td>\n",
       "    </tr>\n",
       "    <tr>\n",
       "      <th>0</th>\n",
       "      <td>3</td>\n",
       "      <td>f16c9af0e07e7b87c201ba4841843a0d</td>\n",
       "      <td>{\"cutoff\": \"quantile_0.25\", \"eval_fairness_gro...</td>\n",
       "      <td>27.99279</td>\n",
       "      <td>89710</td>\n",
       "      <td>1.0</td>\n",
       "      <td>0.227348</td>\n",
       "      <td>0.749917</td>\n",
       "      <td>0.211282</td>\n",
       "      <td>0.768559</td>\n",
       "      <td>...</td>\n",
       "      <td>NaN</td>\n",
       "      <td>NaN</td>\n",
       "      <td>NaN</td>\n",
       "      <td>NaN</td>\n",
       "      <td>NaN</td>\n",
       "      <td>NaN</td>\n",
       "      <td>NaN</td>\n",
       "      <td>NaN</td>\n",
       "      <td>NaN</td>\n",
       "      <td>NaN</td>\n",
       "    </tr>\n",
       "    <tr>\n",
       "      <th>0</th>\n",
       "      <td>3</td>\n",
       "      <td>f16c9af0e07e7b87c201ba4841843a0d</td>\n",
       "      <td>{\"cutoff\": \"quantile_0.25\", \"eval_fairness_gro...</td>\n",
       "      <td>27.99279</td>\n",
       "      <td>89710</td>\n",
       "      <td>1.0</td>\n",
       "      <td>0.227348</td>\n",
       "      <td>0.749917</td>\n",
       "      <td>0.211282</td>\n",
       "      <td>0.768559</td>\n",
       "      <td>...</td>\n",
       "      <td>0.118980</td>\n",
       "      <td>0.156725</td>\n",
       "      <td>0.909091</td>\n",
       "      <td>0.681742</td>\n",
       "      <td>0.057855</td>\n",
       "      <td>0.167834</td>\n",
       "      <td>0.912902</td>\n",
       "      <td>0.701619</td>\n",
       "      <td>20540.0</td>\n",
       "      <td>69170.0</td>\n",
       "    </tr>\n",
       "  </tbody>\n",
       "</table>\n",
       "<p>4 rows × 50 columns</p>\n",
       "</div>"
      ],
      "text/plain": [
       "  run_no                       universe_id  \\\n",
       "0      3  f16c9af0e07e7b87c201ba4841843a0d   \n",
       "0      3  f16c9af0e07e7b87c201ba4841843a0d   \n",
       "0      3  f16c9af0e07e7b87c201ba4841843a0d   \n",
       "0      3  f16c9af0e07e7b87c201ba4841843a0d   \n",
       "\n",
       "                                   universe_settings  execution_time  \\\n",
       "0  {\"cutoff\": \"quantile_0.1\", \"eval_fairness_grou...        27.99279   \n",
       "0  {\"cutoff\": \"quantile_0.1\", \"eval_fairness_grou...        27.99279   \n",
       "0  {\"cutoff\": \"quantile_0.25\", \"eval_fairness_gro...        27.99279   \n",
       "0  {\"cutoff\": \"quantile_0.25\", \"eval_fairness_gro...        27.99279   \n",
       "\n",
       "   test_size_n  test_size_frac  fair_main_equalized_odds_difference  \\\n",
       "0        89710             1.0                             0.093686   \n",
       "0        89710             1.0                             0.093686   \n",
       "0        89710             1.0                             0.227348   \n",
       "0        89710             1.0                             0.227348   \n",
       "\n",
       "   fair_main_equalized_odds_ratio  fair_main_demographic_parity_difference  \\\n",
       "0                        0.902861                                 0.085495   \n",
       "0                        0.902861                                 0.085495   \n",
       "0                        0.749917                                 0.211282   \n",
       "0                        0.749917                                 0.211282   \n",
       "\n",
       "   fair_main_demographic_parity_ratio  ...  perf_grp_precision_0  \\\n",
       "0                            0.911488  ...                   NaN   \n",
       "0                            0.911488  ...              0.116633   \n",
       "0                            0.768559  ...                   NaN   \n",
       "0                            0.768559  ...              0.118980   \n",
       "\n",
       "   perf_grp_precision_1  perf_grp_false positive rate_0  \\\n",
       "0                   NaN                             NaN   \n",
       "0              0.141661                        0.964451   \n",
       "0                   NaN                             NaN   \n",
       "0              0.156725                        0.909091   \n",
       "\n",
       "   perf_grp_false positive rate_1  perf_grp_false negative rate_0  \\\n",
       "0                             NaN                             NaN   \n",
       "0                        0.870765                        0.022804   \n",
       "0                             NaN                             NaN   \n",
       "0                        0.681742                        0.057855   \n",
       "\n",
       "   perf_grp_false negative rate_1  perf_grp_selection rate_0  \\\n",
       "0                             NaN                        NaN   \n",
       "0                        0.056127                   0.965920   \n",
       "0                             NaN                        NaN   \n",
       "0                        0.167834                   0.912902   \n",
       "\n",
       "   perf_grp_selection rate_1  perf_grp_count_0  perf_grp_count_1  \n",
       "0                        NaN               NaN               NaN  \n",
       "0                   0.880425           20540.0           69170.0  \n",
       "0                        NaN               NaN               NaN  \n",
       "0                   0.701619           20540.0           69170.0  \n",
       "\n",
       "[4 rows x 50 columns]"
      ]
     },
     "execution_count": 64,
     "metadata": {},
     "output_type": "execute_result"
    }
   ],
   "source": [
    "final_output = universe_analysis.generate_final_output(\n",
    "    y_pred_prob=probs_test,\n",
    "    y_test=y_true,\n",
    "    org_test=org_test,\n",
    "    filter_data=filter_sub_universe_data,\n",
    "    cp_metrics_df=cp_metrics_df,\n",
    "    save=True,\n",
    ")\n",
    "final_output"
   ]
  },
  {
   "cell_type": "code",
   "execution_count": null,
   "id": "8b80a1ff",
   "metadata": {
    "papermill": {
     "duration": 0.014887,
     "end_time": "2025-08-19T18:13:05.671909",
     "exception": false,
     "start_time": "2025-08-19T18:13:05.657022",
     "status": "completed"
    },
    "tags": []
   },
   "outputs": [],
   "source": []
  },
  {
   "cell_type": "code",
   "execution_count": null,
   "id": "275c9fad",
   "metadata": {
    "papermill": {
     "duration": 0.036935,
     "end_time": "2025-08-19T18:13:05.738149",
     "exception": false,
     "start_time": "2025-08-19T18:13:05.701214",
     "status": "completed"
    },
    "tags": []
   },
   "outputs": [],
   "source": []
  }
 ],
 "metadata": {
  "celltoolbar": "Tags",
  "kernelspec": {
   "display_name": "Python (CMA Fairness)",
   "language": "python",
   "name": "cma_fair_env"
  },
  "language_info": {
   "codemirror_mode": {
    "name": "ipython",
    "version": 3
   },
   "file_extension": ".py",
   "mimetype": "text/x-python",
   "name": "python",
   "nbconvert_exporter": "python",
   "pygments_lexer": "ipython3",
   "version": "3.10.12"
  },
  "papermill": {
   "default_parameters": {},
   "duration": 38.68252,
   "end_time": "2025-08-19T18:13:06.575076",
   "environment_variables": {},
   "exception": null,
   "input_path": "universe_analysis.ipynb",
   "output_path": "output/runs/3/notebooks/m_3-f16c9af0e07e7b87c201ba4841843a0d.ipynb",
   "parameters": {
    "output_dir": "output",
    "run_no": "3",
    "seed": "2023",
    "universe": "{\"cutoff\": [\"quantile_0.1\", \"quantile_0.25\"], \"eval_fairness_grouping\": [\"majority-minority\", \"nationality-all\"], \"exclude_features\": \"age\", \"exclude_subgroups\": \"keep-all\", \"model\": \"elasticnet\", \"scale\": \"do-not-scale\", \"training_size\": \"25k\", \"training_year\": \"2012_14\"}",
    "universe_id": "f16c9af0e07e7b87c201ba4841843a0d"
   },
   "start_time": "2025-08-19T18:12:27.892556",
   "version": "2.6.0"
  }
 },
 "nbformat": 4,
 "nbformat_minor": 5
}