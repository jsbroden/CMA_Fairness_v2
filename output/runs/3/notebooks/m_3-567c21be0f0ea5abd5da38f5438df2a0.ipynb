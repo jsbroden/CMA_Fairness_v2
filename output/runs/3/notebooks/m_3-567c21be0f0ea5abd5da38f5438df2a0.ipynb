{
 "cells": [
  {
   "cell_type": "markdown",
   "id": "ef23dbb3",
   "metadata": {
    "papermill": {
     "duration": 0.027225,
     "end_time": "2025-08-19T18:28:31.377079",
     "exception": false,
     "start_time": "2025-08-19T18:28:31.349854",
     "status": "completed"
    },
    "tags": []
   },
   "source": [
    "# Setup"
   ]
  },
  {
   "cell_type": "code",
   "execution_count": 1,
   "id": "0bc8e7dc",
   "metadata": {
    "execution": {
     "iopub.execute_input": "2025-08-19T18:28:31.399372Z",
     "iopub.status.busy": "2025-08-19T18:28:31.398741Z",
     "iopub.status.idle": "2025-08-19T18:28:31.410489Z",
     "shell.execute_reply": "2025-08-19T18:28:31.409532Z"
    },
    "papermill": {
     "duration": 0.023455,
     "end_time": "2025-08-19T18:28:31.412353",
     "exception": false,
     "start_time": "2025-08-19T18:28:31.388898",
     "status": "completed"
    },
    "tags": []
   },
   "outputs": [
    {
     "name": "stdout",
     "output_type": "stream",
     "text": [
      "/dss/dsshome1/0C/ra93lal2/cma/CMA_Fairness_v2\n"
     ]
    },
    {
     "name": "stderr",
     "output_type": "stream",
     "text": [
      "/dss/dsshome1/0C/ra93lal2/.local/share/virtualenvs/CMA_Fairness_v2-3j10GkSs/lib/python3.10/site-packages/IPython/core/magics/osm.py:393: UserWarning: This is now an optional IPython functionality, using bookmarks requires you to install the `pickleshare` library.\n",
      "  bkms = self.shell.db.get('bookmarks', {})\n",
      "/dss/dsshome1/0C/ra93lal2/.local/share/virtualenvs/CMA_Fairness_v2-3j10GkSs/lib/python3.10/site-packages/IPython/core/magics/osm.py:417: UserWarning: This is now an optional IPython functionality, setting dhist requires you to install the `pickleshare` library.\n",
      "  self.shell.db['dhist'] = compress_dhist(dhist)[-100:]\n"
     ]
    }
   ],
   "source": [
    "%cd ~/cma/CMA_Fairness_v2"
   ]
  },
  {
   "cell_type": "markdown",
   "id": "9d235661",
   "metadata": {
    "papermill": {
     "duration": 0.009156,
     "end_time": "2025-08-19T18:28:31.431094",
     "exception": false,
     "start_time": "2025-08-19T18:28:31.421938",
     "status": "completed"
    },
    "tags": []
   },
   "source": [
    "The following cell holds the definition of our parameters, these values can be overriden by rendering the with e.g. the following command:\n",
    "\n",
    "papermill -p alpha 0.2 -p ratio 0.3 universe_analysis.ipynb output/test_run.ipynb"
   ]
  },
  {
   "cell_type": "code",
   "execution_count": 2,
   "id": "4a789d8e",
   "metadata": {
    "execution": {
     "iopub.execute_input": "2025-08-19T18:28:31.618248Z",
     "iopub.status.busy": "2025-08-19T18:28:31.617767Z",
     "iopub.status.idle": "2025-08-19T18:28:31.623297Z",
     "shell.execute_reply": "2025-08-19T18:28:31.622380Z"
    },
    "papermill": {
     "duration": 0.017707,
     "end_time": "2025-08-19T18:28:31.625023",
     "exception": false,
     "start_time": "2025-08-19T18:28:31.607316",
     "status": "completed"
    },
    "tags": []
   },
   "outputs": [
    {
     "name": "stdout",
     "output_type": "stream",
     "text": [
      "Current working directory: /dss/dsshome1/0C/ra93lal2/cma/CMA_Fairness_v2\n"
     ]
    }
   ],
   "source": [
    "import os\n",
    "print(\"Current working directory:\", os.getcwd())"
   ]
  },
  {
   "cell_type": "code",
   "execution_count": 3,
   "id": "4132aaed",
   "metadata": {
    "execution": {
     "iopub.execute_input": "2025-08-19T18:28:31.646979Z",
     "iopub.status.busy": "2025-08-19T18:28:31.646182Z",
     "iopub.status.idle": "2025-08-19T18:28:31.653865Z",
     "shell.execute_reply": "2025-08-19T18:28:31.652521Z"
    },
    "papermill": {
     "duration": 0.02205,
     "end_time": "2025-08-19T18:28:31.657257",
     "exception": false,
     "start_time": "2025-08-19T18:28:31.635207",
     "status": "completed"
    },
    "tags": [
     "parameters"
    ]
   },
   "outputs": [],
   "source": [
    "run_no = 0\n",
    "universe_id = \"test\"\n",
    "universe = {\n",
    "    \"training_size\": \"5k\", # \"25k\", \"5k\", \"1k\"\n",
    "    \"training_year\": \"2012_14\", # \"2014\", \"2012_14\", \"2010_14\"\n",
    "    \"scale\": \"scale\", # \"scale\", \"do-not-scale\",\n",
    "    \"model\": \"elasticnet\", # \"logreg\", \"penalized_logreg\", \"rf\", \"gbm\", \"elasticnet\"\n",
    "    \"cutoff\": [\"quantile_0.15\", \"quantile_0.30\"],\n",
    "    \"exclude_features\": \"age\", # \"none\", \"nationality\", \"sex\", \"nationality-sex\", \"age\"\n",
    "    \"exclude_subgroups\": \"drop-non-german\", # \"keep-all\", \"drop-non-german\"\n",
    "    \"eval_fairness_grouping\": [\"majority-minority\", \"nationality-all\"]\n",
    "}\n",
    "\n",
    "output_dir=\"./output\"\n",
    "seed=0"
   ]
  },
  {
   "cell_type": "code",
   "execution_count": 4,
   "id": "9267c320",
   "metadata": {
    "execution": {
     "iopub.execute_input": "2025-08-19T18:28:31.698179Z",
     "iopub.status.busy": "2025-08-19T18:28:31.696850Z",
     "iopub.status.idle": "2025-08-19T18:28:31.705051Z",
     "shell.execute_reply": "2025-08-19T18:28:31.704048Z"
    },
    "papermill": {
     "duration": 0.027882,
     "end_time": "2025-08-19T18:28:31.706431",
     "exception": false,
     "start_time": "2025-08-19T18:28:31.678549",
     "status": "completed"
    },
    "tags": [
     "injected-parameters"
    ]
   },
   "outputs": [],
   "source": [
    "# Parameters\n",
    "universe_id = \"567c21be0f0ea5abd5da38f5438df2a0\"\n",
    "run_no = \"3\"\n",
    "universe = \"{\\\"cutoff\\\": [\\\"quantile_0.1\\\", \\\"quantile_0.25\\\"], \\\"eval_fairness_grouping\\\": [\\\"majority-minority\\\", \\\"nationality-all\\\"], \\\"exclude_features\\\": \\\"sex\\\", \\\"exclude_subgroups\\\": \\\"drop-non-german\\\", \\\"model\\\": \\\"rf\\\", \\\"scale\\\": \\\"do-not-scale\\\", \\\"training_size\\\": \\\"5k\\\", \\\"training_year\\\": \\\"2014\\\"}\"\n",
    "output_dir = \"output\"\n",
    "seed = \"2023\"\n"
   ]
  },
  {
   "cell_type": "code",
   "execution_count": 5,
   "id": "a5d7941f",
   "metadata": {
    "execution": {
     "iopub.execute_input": "2025-08-19T18:28:31.731262Z",
     "iopub.status.busy": "2025-08-19T18:28:31.729863Z",
     "iopub.status.idle": "2025-08-19T18:28:31.774113Z",
     "shell.execute_reply": "2025-08-19T18:28:31.772401Z"
    },
    "papermill": {
     "duration": 0.059119,
     "end_time": "2025-08-19T18:28:31.777790",
     "exception": false,
     "start_time": "2025-08-19T18:28:31.718671",
     "status": "completed"
    },
    "tags": []
   },
   "outputs": [],
   "source": [
    "import json\n",
    "if isinstance(universe, str):\n",
    "    universe = json.loads(universe)"
   ]
  },
  {
   "cell_type": "code",
   "execution_count": 6,
   "id": "7076ccb1",
   "metadata": {
    "execution": {
     "iopub.execute_input": "2025-08-19T18:28:31.843207Z",
     "iopub.status.busy": "2025-08-19T18:28:31.842595Z",
     "iopub.status.idle": "2025-08-19T18:28:31.909640Z",
     "shell.execute_reply": "2025-08-19T18:28:31.908319Z"
    },
    "papermill": {
     "duration": 0.101531,
     "end_time": "2025-08-19T18:28:31.911394",
     "exception": false,
     "start_time": "2025-08-19T18:28:31.809863",
     "status": "completed"
    },
    "tags": []
   },
   "outputs": [],
   "source": [
    "# Auto-reload the custom package\n",
    "%load_ext autoreload\n",
    "%autoreload 1\n",
    "%aimport fairness_multiverse"
   ]
  },
  {
   "cell_type": "code",
   "execution_count": 7,
   "id": "94c8eb93",
   "metadata": {
    "execution": {
     "iopub.execute_input": "2025-08-19T18:28:31.933238Z",
     "iopub.status.busy": "2025-08-19T18:28:31.932930Z",
     "iopub.status.idle": "2025-08-19T18:28:33.645451Z",
     "shell.execute_reply": "2025-08-19T18:28:33.644566Z"
    },
    "papermill": {
     "duration": 1.725993,
     "end_time": "2025-08-19T18:28:33.647169",
     "exception": false,
     "start_time": "2025-08-19T18:28:31.921176",
     "status": "completed"
    },
    "tags": []
   },
   "outputs": [],
   "source": [
    "from fairness_multiverse.universe import UniverseAnalysis\n",
    "\n",
    "universe_analysis = UniverseAnalysis(\n",
    "    run_no = run_no,\n",
    "    universe_id = universe_id,\n",
    "    universe = universe,\n",
    "    output_dir=output_dir,\n",
    ")"
   ]
  },
  {
   "cell_type": "code",
   "execution_count": 8,
   "id": "2a6381cf",
   "metadata": {
    "execution": {
     "iopub.execute_input": "2025-08-19T18:28:33.689370Z",
     "iopub.status.busy": "2025-08-19T18:28:33.688668Z",
     "iopub.status.idle": "2025-08-19T18:28:33.697062Z",
     "shell.execute_reply": "2025-08-19T18:28:33.696109Z"
    },
    "papermill": {
     "duration": 0.030351,
     "end_time": "2025-08-19T18:28:33.698597",
     "exception": false,
     "start_time": "2025-08-19T18:28:33.668246",
     "status": "completed"
    },
    "tags": []
   },
   "outputs": [
    {
     "name": "stdout",
     "output_type": "stream",
     "text": [
      "Using Seed: 2023\n"
     ]
    }
   ],
   "source": [
    "import numpy as np\n",
    "parsed_seed = int(seed)\n",
    "np.random.seed(parsed_seed)\n",
    "print(f\"Using Seed: {parsed_seed}\")"
   ]
  },
  {
   "cell_type": "markdown",
   "id": "b6e958b4",
   "metadata": {
    "papermill": {
     "duration": 0.009965,
     "end_time": "2025-08-19T18:28:33.721798",
     "exception": false,
     "start_time": "2025-08-19T18:28:33.711833",
     "status": "completed"
    },
    "tags": []
   },
   "source": [
    "# Loading Data"
   ]
  },
  {
   "cell_type": "code",
   "execution_count": 9,
   "id": "98701482",
   "metadata": {
    "execution": {
     "iopub.execute_input": "2025-08-19T18:28:33.744995Z",
     "iopub.status.busy": "2025-08-19T18:28:33.744452Z",
     "iopub.status.idle": "2025-08-19T18:28:43.963297Z",
     "shell.execute_reply": "2025-08-19T18:28:43.962312Z"
    },
    "papermill": {
     "duration": 10.234581,
     "end_time": "2025-08-19T18:28:43.965792",
     "exception": false,
     "start_time": "2025-08-19T18:28:33.731211",
     "status": "completed"
    },
    "tags": []
   },
   "outputs": [
    {
     "name": "stdout",
     "output_type": "stream",
     "text": [
      "Loading SIAB data from cache: data/siab_cached.csv.gz\n"
     ]
    },
    {
     "name": "stdout",
     "output_type": "stream",
     "text": [
      "(643690, 164)\n"
     ]
    }
   ],
   "source": [
    "from pathlib import Path\n",
    "import pandas as pd\n",
    "\n",
    "# File paths\n",
    "raw_file = Path(\"data/raw/siab.csv\")\n",
    "cache_file = Path(\"data/siab_cached.csv.gz\")\n",
    "\n",
    "# Ensure cache directory exists\n",
    "cache_file.parent.mkdir(parents=True, exist_ok=True)\n",
    "\n",
    "# Load with simple caching\n",
    "if cache_file.exists():\n",
    "    print(f\"Loading SIAB data from cache: {cache_file}\")\n",
    "    siab = pd.read_csv(cache_file, compression='gzip')\n",
    "else:\n",
    "    print(f\"Cache not found. Reading raw SIAB data: {raw_file}\")\n",
    "    siab = pd.read_csv(raw_file)\n",
    "    siab.to_csv(cache_file, index=False, compression='gzip')\n",
    "    print(f\"Cached SIAB data to: {cache_file}\")\n",
    "\n",
    "print(siab.shape)"
   ]
  },
  {
   "cell_type": "code",
   "execution_count": 10,
   "id": "058d2abb",
   "metadata": {
    "execution": {
     "iopub.execute_input": "2025-08-19T18:28:44.020677Z",
     "iopub.status.busy": "2025-08-19T18:28:44.019307Z",
     "iopub.status.idle": "2025-08-19T18:28:44.164194Z",
     "shell.execute_reply": "2025-08-19T18:28:44.163478Z"
    },
    "papermill": {
     "duration": 0.17482,
     "end_time": "2025-08-19T18:28:44.167177",
     "exception": false,
     "start_time": "2025-08-19T18:28:43.992357",
     "status": "completed"
    },
    "tags": []
   },
   "outputs": [
    {
     "data": {
      "text/html": [
       "<div>\n",
       "<style scoped>\n",
       "    .dataframe tbody tr th:only-of-type {\n",
       "        vertical-align: middle;\n",
       "    }\n",
       "\n",
       "    .dataframe tbody tr th {\n",
       "        vertical-align: top;\n",
       "    }\n",
       "\n",
       "    .dataframe thead th {\n",
       "        text-align: right;\n",
       "    }\n",
       "</style>\n",
       "<table border=\"1\" class=\"dataframe\">\n",
       "  <thead>\n",
       "    <tr style=\"text-align: right;\">\n",
       "      <th></th>\n",
       "      <th>persnr</th>\n",
       "      <th>year</th>\n",
       "      <th>nrEntry</th>\n",
       "      <th>ltue</th>\n",
       "      <th>employed_before</th>\n",
       "      <th>receipt_leh_before</th>\n",
       "      <th>receipt_lhg_before</th>\n",
       "      <th>se_before</th>\n",
       "      <th>ASU_notue_seeking_before</th>\n",
       "      <th>ASU_other_before</th>\n",
       "      <th>...</th>\n",
       "      <th>minijob_tot_dur_byage</th>\n",
       "      <th>ft_tot_dur_byage</th>\n",
       "      <th>befrist_tot_dur_byage</th>\n",
       "      <th>leih_tot_dur_byage</th>\n",
       "      <th>LHG_tot_dur_byage</th>\n",
       "      <th>LEH_tot_dur_byage</th>\n",
       "      <th>almp_tot_dur_byage</th>\n",
       "      <th>almp_aw_tot_dur_byage</th>\n",
       "      <th>se_tot_dur_byage</th>\n",
       "      <th>seeking1_tot_dur_byage</th>\n",
       "    </tr>\n",
       "  </thead>\n",
       "  <tbody>\n",
       "    <tr>\n",
       "      <th>0</th>\n",
       "      <td>7</td>\n",
       "      <td>2015</td>\n",
       "      <td>1</td>\n",
       "      <td>0</td>\n",
       "      <td>1</td>\n",
       "      <td>0</td>\n",
       "      <td>0</td>\n",
       "      <td>0</td>\n",
       "      <td>1</td>\n",
       "      <td>0</td>\n",
       "      <td>...</td>\n",
       "      <td>0.000000</td>\n",
       "      <td>0.000000</td>\n",
       "      <td>15.043478</td>\n",
       "      <td>0.000000</td>\n",
       "      <td>0.000000</td>\n",
       "      <td>0.000000</td>\n",
       "      <td>0.000000</td>\n",
       "      <td>0.000000</td>\n",
       "      <td>0.000000</td>\n",
       "      <td>0.000000</td>\n",
       "    </tr>\n",
       "    <tr>\n",
       "      <th>1</th>\n",
       "      <td>18</td>\n",
       "      <td>2010</td>\n",
       "      <td>1</td>\n",
       "      <td>1</td>\n",
       "      <td>0</td>\n",
       "      <td>0</td>\n",
       "      <td>0</td>\n",
       "      <td>0</td>\n",
       "      <td>0</td>\n",
       "      <td>0</td>\n",
       "      <td>...</td>\n",
       "      <td>0.000000</td>\n",
       "      <td>0.000000</td>\n",
       "      <td>0.000000</td>\n",
       "      <td>0.000000</td>\n",
       "      <td>0.000000</td>\n",
       "      <td>0.000000</td>\n",
       "      <td>0.000000</td>\n",
       "      <td>0.000000</td>\n",
       "      <td>0.000000</td>\n",
       "      <td>0.000000</td>\n",
       "    </tr>\n",
       "    <tr>\n",
       "      <th>2</th>\n",
       "      <td>18</td>\n",
       "      <td>2011</td>\n",
       "      <td>2</td>\n",
       "      <td>0</td>\n",
       "      <td>1</td>\n",
       "      <td>0</td>\n",
       "      <td>1</td>\n",
       "      <td>0</td>\n",
       "      <td>1</td>\n",
       "      <td>0</td>\n",
       "      <td>...</td>\n",
       "      <td>2.714286</td>\n",
       "      <td>2.714286</td>\n",
       "      <td>0.000000</td>\n",
       "      <td>0.000000</td>\n",
       "      <td>10.775510</td>\n",
       "      <td>0.000000</td>\n",
       "      <td>8.367347</td>\n",
       "      <td>0.000000</td>\n",
       "      <td>0.000000</td>\n",
       "      <td>9.836735</td>\n",
       "    </tr>\n",
       "    <tr>\n",
       "      <th>3</th>\n",
       "      <td>18</td>\n",
       "      <td>2012</td>\n",
       "      <td>3</td>\n",
       "      <td>0</td>\n",
       "      <td>1</td>\n",
       "      <td>0</td>\n",
       "      <td>1</td>\n",
       "      <td>0</td>\n",
       "      <td>1</td>\n",
       "      <td>0</td>\n",
       "      <td>...</td>\n",
       "      <td>4.200000</td>\n",
       "      <td>4.200000</td>\n",
       "      <td>0.000000</td>\n",
       "      <td>0.000000</td>\n",
       "      <td>12.100000</td>\n",
       "      <td>0.000000</td>\n",
       "      <td>9.400000</td>\n",
       "      <td>0.000000</td>\n",
       "      <td>0.000000</td>\n",
       "      <td>9.960000</td>\n",
       "    </tr>\n",
       "    <tr>\n",
       "      <th>4</th>\n",
       "      <td>18</td>\n",
       "      <td>2012</td>\n",
       "      <td>4</td>\n",
       "      <td>0</td>\n",
       "      <td>1</td>\n",
       "      <td>0</td>\n",
       "      <td>1</td>\n",
       "      <td>0</td>\n",
       "      <td>1</td>\n",
       "      <td>0</td>\n",
       "      <td>...</td>\n",
       "      <td>5.460000</td>\n",
       "      <td>5.460000</td>\n",
       "      <td>0.000000</td>\n",
       "      <td>0.000000</td>\n",
       "      <td>13.360000</td>\n",
       "      <td>0.000000</td>\n",
       "      <td>10.320000</td>\n",
       "      <td>0.000000</td>\n",
       "      <td>0.000000</td>\n",
       "      <td>10.280000</td>\n",
       "    </tr>\n",
       "    <tr>\n",
       "      <th>...</th>\n",
       "      <td>...</td>\n",
       "      <td>...</td>\n",
       "      <td>...</td>\n",
       "      <td>...</td>\n",
       "      <td>...</td>\n",
       "      <td>...</td>\n",
       "      <td>...</td>\n",
       "      <td>...</td>\n",
       "      <td>...</td>\n",
       "      <td>...</td>\n",
       "      <td>...</td>\n",
       "      <td>...</td>\n",
       "      <td>...</td>\n",
       "      <td>...</td>\n",
       "      <td>...</td>\n",
       "      <td>...</td>\n",
       "      <td>...</td>\n",
       "      <td>...</td>\n",
       "      <td>...</td>\n",
       "      <td>...</td>\n",
       "      <td>...</td>\n",
       "    </tr>\n",
       "    <tr>\n",
       "      <th>643685</th>\n",
       "      <td>1827860</td>\n",
       "      <td>2013</td>\n",
       "      <td>1</td>\n",
       "      <td>0</td>\n",
       "      <td>0</td>\n",
       "      <td>0</td>\n",
       "      <td>1</td>\n",
       "      <td>0</td>\n",
       "      <td>0</td>\n",
       "      <td>1</td>\n",
       "      <td>...</td>\n",
       "      <td>0.000000</td>\n",
       "      <td>0.000000</td>\n",
       "      <td>0.000000</td>\n",
       "      <td>0.000000</td>\n",
       "      <td>0.612903</td>\n",
       "      <td>0.000000</td>\n",
       "      <td>0.000000</td>\n",
       "      <td>0.000000</td>\n",
       "      <td>0.000000</td>\n",
       "      <td>0.000000</td>\n",
       "    </tr>\n",
       "    <tr>\n",
       "      <th>643686</th>\n",
       "      <td>1827860</td>\n",
       "      <td>2015</td>\n",
       "      <td>2</td>\n",
       "      <td>1</td>\n",
       "      <td>0</td>\n",
       "      <td>0</td>\n",
       "      <td>1</td>\n",
       "      <td>0</td>\n",
       "      <td>1</td>\n",
       "      <td>0</td>\n",
       "      <td>...</td>\n",
       "      <td>0.000000</td>\n",
       "      <td>0.000000</td>\n",
       "      <td>0.212121</td>\n",
       "      <td>0.212121</td>\n",
       "      <td>17.363636</td>\n",
       "      <td>0.000000</td>\n",
       "      <td>8.909091</td>\n",
       "      <td>0.000000</td>\n",
       "      <td>0.000000</td>\n",
       "      <td>7.121212</td>\n",
       "    </tr>\n",
       "    <tr>\n",
       "      <th>643687</th>\n",
       "      <td>1827860</td>\n",
       "      <td>2016</td>\n",
       "      <td>3</td>\n",
       "      <td>1</td>\n",
       "      <td>0</td>\n",
       "      <td>0</td>\n",
       "      <td>1</td>\n",
       "      <td>1</td>\n",
       "      <td>0</td>\n",
       "      <td>1</td>\n",
       "      <td>...</td>\n",
       "      <td>0.000000</td>\n",
       "      <td>0.000000</td>\n",
       "      <td>0.294118</td>\n",
       "      <td>0.205882</td>\n",
       "      <td>34.705882</td>\n",
       "      <td>0.000000</td>\n",
       "      <td>10.352941</td>\n",
       "      <td>1.705882</td>\n",
       "      <td>1.705882</td>\n",
       "      <td>23.911765</td>\n",
       "    </tr>\n",
       "    <tr>\n",
       "      <th>643688</th>\n",
       "      <td>1827869</td>\n",
       "      <td>2013</td>\n",
       "      <td>1</td>\n",
       "      <td>1</td>\n",
       "      <td>1</td>\n",
       "      <td>0</td>\n",
       "      <td>0</td>\n",
       "      <td>0</td>\n",
       "      <td>1</td>\n",
       "      <td>0</td>\n",
       "      <td>...</td>\n",
       "      <td>0.000000</td>\n",
       "      <td>0.000000</td>\n",
       "      <td>0.000000</td>\n",
       "      <td>0.000000</td>\n",
       "      <td>0.000000</td>\n",
       "      <td>0.525424</td>\n",
       "      <td>0.000000</td>\n",
       "      <td>0.000000</td>\n",
       "      <td>0.000000</td>\n",
       "      <td>0.000000</td>\n",
       "    </tr>\n",
       "    <tr>\n",
       "      <th>643689</th>\n",
       "      <td>1827869</td>\n",
       "      <td>2014</td>\n",
       "      <td>2</td>\n",
       "      <td>0</td>\n",
       "      <td>0</td>\n",
       "      <td>1</td>\n",
       "      <td>0</td>\n",
       "      <td>0</td>\n",
       "      <td>1</td>\n",
       "      <td>0</td>\n",
       "      <td>...</td>\n",
       "      <td>0.000000</td>\n",
       "      <td>0.666667</td>\n",
       "      <td>0.666667</td>\n",
       "      <td>0.000000</td>\n",
       "      <td>0.000000</td>\n",
       "      <td>8.950000</td>\n",
       "      <td>1.033333</td>\n",
       "      <td>0.083333</td>\n",
       "      <td>0.083333</td>\n",
       "      <td>8.133333</td>\n",
       "    </tr>\n",
       "  </tbody>\n",
       "</table>\n",
       "<p>643690 rows × 164 columns</p>\n",
       "</div>"
      ],
      "text/plain": [
       "         persnr  year  nrEntry  ltue  employed_before  receipt_leh_before  \\\n",
       "0             7  2015        1     0                1                   0   \n",
       "1            18  2010        1     1                0                   0   \n",
       "2            18  2011        2     0                1                   0   \n",
       "3            18  2012        3     0                1                   0   \n",
       "4            18  2012        4     0                1                   0   \n",
       "...         ...   ...      ...   ...              ...                 ...   \n",
       "643685  1827860  2013        1     0                0                   0   \n",
       "643686  1827860  2015        2     1                0                   0   \n",
       "643687  1827860  2016        3     1                0                   0   \n",
       "643688  1827869  2013        1     1                1                   0   \n",
       "643689  1827869  2014        2     0                0                   1   \n",
       "\n",
       "        receipt_lhg_before  se_before  ASU_notue_seeking_before  \\\n",
       "0                        0          0                         1   \n",
       "1                        0          0                         0   \n",
       "2                        1          0                         1   \n",
       "3                        1          0                         1   \n",
       "4                        1          0                         1   \n",
       "...                    ...        ...                       ...   \n",
       "643685                   1          0                         0   \n",
       "643686                   1          0                         1   \n",
       "643687                   1          1                         0   \n",
       "643688                   0          0                         1   \n",
       "643689                   0          0                         1   \n",
       "\n",
       "        ASU_other_before  ...  minijob_tot_dur_byage  ft_tot_dur_byage  \\\n",
       "0                      0  ...               0.000000          0.000000   \n",
       "1                      0  ...               0.000000          0.000000   \n",
       "2                      0  ...               2.714286          2.714286   \n",
       "3                      0  ...               4.200000          4.200000   \n",
       "4                      0  ...               5.460000          5.460000   \n",
       "...                  ...  ...                    ...               ...   \n",
       "643685                 1  ...               0.000000          0.000000   \n",
       "643686                 0  ...               0.000000          0.000000   \n",
       "643687                 1  ...               0.000000          0.000000   \n",
       "643688                 0  ...               0.000000          0.000000   \n",
       "643689                 0  ...               0.000000          0.666667   \n",
       "\n",
       "        befrist_tot_dur_byage  leih_tot_dur_byage  LHG_tot_dur_byage  \\\n",
       "0                   15.043478            0.000000           0.000000   \n",
       "1                    0.000000            0.000000           0.000000   \n",
       "2                    0.000000            0.000000          10.775510   \n",
       "3                    0.000000            0.000000          12.100000   \n",
       "4                    0.000000            0.000000          13.360000   \n",
       "...                       ...                 ...                ...   \n",
       "643685               0.000000            0.000000           0.612903   \n",
       "643686               0.212121            0.212121          17.363636   \n",
       "643687               0.294118            0.205882          34.705882   \n",
       "643688               0.000000            0.000000           0.000000   \n",
       "643689               0.666667            0.000000           0.000000   \n",
       "\n",
       "        LEH_tot_dur_byage  almp_tot_dur_byage  almp_aw_tot_dur_byage  \\\n",
       "0                0.000000            0.000000               0.000000   \n",
       "1                0.000000            0.000000               0.000000   \n",
       "2                0.000000            8.367347               0.000000   \n",
       "3                0.000000            9.400000               0.000000   \n",
       "4                0.000000           10.320000               0.000000   \n",
       "...                   ...                 ...                    ...   \n",
       "643685           0.000000            0.000000               0.000000   \n",
       "643686           0.000000            8.909091               0.000000   \n",
       "643687           0.000000           10.352941               1.705882   \n",
       "643688           0.525424            0.000000               0.000000   \n",
       "643689           8.950000            1.033333               0.083333   \n",
       "\n",
       "        se_tot_dur_byage  seeking1_tot_dur_byage  \n",
       "0               0.000000                0.000000  \n",
       "1               0.000000                0.000000  \n",
       "2               0.000000                9.836735  \n",
       "3               0.000000                9.960000  \n",
       "4               0.000000               10.280000  \n",
       "...                  ...                     ...  \n",
       "643685          0.000000                0.000000  \n",
       "643686          0.000000                7.121212  \n",
       "643687          1.705882               23.911765  \n",
       "643688          0.000000                0.000000  \n",
       "643689          0.083333                8.133333  \n",
       "\n",
       "[643690 rows x 164 columns]"
      ]
     },
     "execution_count": 10,
     "metadata": {},
     "output_type": "execute_result"
    }
   ],
   "source": [
    "siab"
   ]
  },
  {
   "cell_type": "markdown",
   "id": "1f87e805",
   "metadata": {
    "papermill": {
     "duration": 0.011336,
     "end_time": "2025-08-19T18:28:44.204883",
     "exception": false,
     "start_time": "2025-08-19T18:28:44.193547",
     "status": "completed"
    },
    "tags": []
   },
   "source": [
    "# Splitting Data and Setting Training Data Size"
   ]
  },
  {
   "cell_type": "code",
   "execution_count": 11,
   "id": "910ae358",
   "metadata": {
    "execution": {
     "iopub.execute_input": "2025-08-19T18:28:44.228946Z",
     "iopub.status.busy": "2025-08-19T18:28:44.228166Z",
     "iopub.status.idle": "2025-08-19T18:28:44.455510Z",
     "shell.execute_reply": "2025-08-19T18:28:44.454752Z"
    },
    "papermill": {
     "duration": 0.242588,
     "end_time": "2025-08-19T18:28:44.457357",
     "exception": false,
     "start_time": "2025-08-19T18:28:44.214769",
     "status": "completed"
    },
    "tags": []
   },
   "outputs": [],
   "source": [
    "from fairness_multiverse.universe import sample_by_year_size\n",
    "\n",
    "siab_train = sample_by_year_size(siab,\n",
    "                               training_year=universe[\"training_year\"],\n",
    "                               training_size=universe[\"training_size\"])"
   ]
  },
  {
   "cell_type": "code",
   "execution_count": 12,
   "id": "919c8ff5",
   "metadata": {
    "execution": {
     "iopub.execute_input": "2025-08-19T18:28:44.499982Z",
     "iopub.status.busy": "2025-08-19T18:28:44.498798Z",
     "iopub.status.idle": "2025-08-19T18:28:44.508351Z",
     "shell.execute_reply": "2025-08-19T18:28:44.507236Z"
    },
    "papermill": {
     "duration": 0.036378,
     "end_time": "2025-08-19T18:28:44.509966",
     "exception": false,
     "start_time": "2025-08-19T18:28:44.473588",
     "status": "completed"
    },
    "tags": []
   },
   "outputs": [
    {
     "data": {
      "text/plain": [
       "(5000, 164)"
      ]
     },
     "execution_count": 12,
     "metadata": {},
     "output_type": "execute_result"
    }
   ],
   "source": [
    "siab_train.shape"
   ]
  },
  {
   "cell_type": "code",
   "execution_count": 13,
   "id": "feb13bf4",
   "metadata": {
    "execution": {
     "iopub.execute_input": "2025-08-19T18:28:44.538792Z",
     "iopub.status.busy": "2025-08-19T18:28:44.537660Z",
     "iopub.status.idle": "2025-08-19T18:28:44.550437Z",
     "shell.execute_reply": "2025-08-19T18:28:44.549512Z"
    },
    "papermill": {
     "duration": 0.026628,
     "end_time": "2025-08-19T18:28:44.551916",
     "exception": false,
     "start_time": "2025-08-19T18:28:44.525288",
     "status": "completed"
    },
    "tags": []
   },
   "outputs": [
    {
     "data": {
      "text/plain": [
       "year\n",
       "2014    5000\n",
       "dtype: int64"
      ]
     },
     "metadata": {},
     "output_type": "display_data"
    }
   ],
   "source": [
    "display(siab_train.groupby(\"year\").size())"
   ]
  },
  {
   "cell_type": "code",
   "execution_count": 14,
   "id": "0997782f",
   "metadata": {
    "execution": {
     "iopub.execute_input": "2025-08-19T18:28:44.580872Z",
     "iopub.status.busy": "2025-08-19T18:28:44.579788Z",
     "iopub.status.idle": "2025-08-19T18:28:44.834877Z",
     "shell.execute_reply": "2025-08-19T18:28:44.834105Z"
    },
    "papermill": {
     "duration": 0.271095,
     "end_time": "2025-08-19T18:28:44.838002",
     "exception": false,
     "start_time": "2025-08-19T18:28:44.566907",
     "status": "completed"
    },
    "tags": []
   },
   "outputs": [],
   "source": [
    "#siab_train = siab_s[siab_s.year < 2015]\n",
    "siab_calib = siab[siab.year == 2015]\n",
    "siab_test = siab[siab.year == 2016]"
   ]
  },
  {
   "cell_type": "code",
   "execution_count": 15,
   "id": "2c1e4012",
   "metadata": {
    "execution": {
     "iopub.execute_input": "2025-08-19T18:28:44.876526Z",
     "iopub.status.busy": "2025-08-19T18:28:44.874977Z",
     "iopub.status.idle": "2025-08-19T18:28:44.883196Z",
     "shell.execute_reply": "2025-08-19T18:28:44.881573Z"
    },
    "papermill": {
     "duration": 0.023572,
     "end_time": "2025-08-19T18:28:44.884714",
     "exception": false,
     "start_time": "2025-08-19T18:28:44.861142",
     "status": "completed"
    },
    "tags": []
   },
   "outputs": [],
   "source": [
    "#siab_calib.shape"
   ]
  },
  {
   "cell_type": "code",
   "execution_count": 16,
   "id": "f66b54ca",
   "metadata": {
    "execution": {
     "iopub.execute_input": "2025-08-19T18:28:44.910645Z",
     "iopub.status.busy": "2025-08-19T18:28:44.909656Z",
     "iopub.status.idle": "2025-08-19T18:28:44.917473Z",
     "shell.execute_reply": "2025-08-19T18:28:44.915854Z"
    },
    "papermill": {
     "duration": 0.021268,
     "end_time": "2025-08-19T18:28:44.919200",
     "exception": false,
     "start_time": "2025-08-19T18:28:44.897932",
     "status": "completed"
    },
    "tags": []
   },
   "outputs": [],
   "source": [
    "#siab_test.shape"
   ]
  },
  {
   "cell_type": "code",
   "execution_count": 17,
   "id": "27e4384d",
   "metadata": {
    "execution": {
     "iopub.execute_input": "2025-08-19T18:28:44.945003Z",
     "iopub.status.busy": "2025-08-19T18:28:44.943597Z",
     "iopub.status.idle": "2025-08-19T18:28:44.956440Z",
     "shell.execute_reply": "2025-08-19T18:28:44.955289Z"
    },
    "papermill": {
     "duration": 0.026187,
     "end_time": "2025-08-19T18:28:44.957991",
     "exception": false,
     "start_time": "2025-08-19T18:28:44.931804",
     "status": "completed"
    },
    "tags": []
   },
   "outputs": [],
   "source": [
    "X_train = siab_train.iloc[:,4:164]\n",
    "y_train = siab_train.iloc[:, [3]]"
   ]
  },
  {
   "cell_type": "code",
   "execution_count": 18,
   "id": "08ee8389",
   "metadata": {
    "execution": {
     "iopub.execute_input": "2025-08-19T18:28:44.983882Z",
     "iopub.status.busy": "2025-08-19T18:28:44.982585Z",
     "iopub.status.idle": "2025-08-19T18:28:45.038259Z",
     "shell.execute_reply": "2025-08-19T18:28:45.037568Z"
    },
    "papermill": {
     "duration": 0.069997,
     "end_time": "2025-08-19T18:28:45.040992",
     "exception": false,
     "start_time": "2025-08-19T18:28:44.970995",
     "status": "completed"
    },
    "tags": []
   },
   "outputs": [],
   "source": [
    "X_calib = siab_calib.iloc[:,4:164]\n",
    "y_calib = siab_calib.iloc[:, [3]]"
   ]
  },
  {
   "cell_type": "code",
   "execution_count": 19,
   "id": "b7ff42e0",
   "metadata": {
    "execution": {
     "iopub.execute_input": "2025-08-19T18:28:45.081085Z",
     "iopub.status.busy": "2025-08-19T18:28:45.077322Z",
     "iopub.status.idle": "2025-08-19T18:28:45.135933Z",
     "shell.execute_reply": "2025-08-19T18:28:45.134795Z"
    },
    "papermill": {
     "duration": 0.074246,
     "end_time": "2025-08-19T18:28:45.137854",
     "exception": false,
     "start_time": "2025-08-19T18:28:45.063608",
     "status": "completed"
    },
    "tags": []
   },
   "outputs": [],
   "source": [
    "X_test = siab_test.iloc[:,4:164]\n",
    "y_true = siab_test.iloc[:, [3]]"
   ]
  },
  {
   "cell_type": "code",
   "execution_count": 20,
   "id": "0275101e",
   "metadata": {
    "execution": {
     "iopub.execute_input": "2025-08-19T18:28:45.183159Z",
     "iopub.status.busy": "2025-08-19T18:28:45.182008Z",
     "iopub.status.idle": "2025-08-19T18:28:45.296394Z",
     "shell.execute_reply": "2025-08-19T18:28:45.295399Z"
    },
    "papermill": {
     "duration": 0.140341,
     "end_time": "2025-08-19T18:28:45.298210",
     "exception": false,
     "start_time": "2025-08-19T18:28:45.157869",
     "status": "completed"
    },
    "tags": []
   },
   "outputs": [],
   "source": [
    "# Auxiliary data needed downstream in the pipeline\n",
    "\n",
    "org_train = X_train.copy()\n",
    "org_test = X_test.copy()\n",
    "org_calib = X_calib.copy()"
   ]
  },
  {
   "cell_type": "markdown",
   "id": "b461e618",
   "metadata": {
    "papermill": {
     "duration": 0.01097,
     "end_time": "2025-08-19T18:28:45.320321",
     "exception": false,
     "start_time": "2025-08-19T18:28:45.309351",
     "status": "completed"
    },
    "tags": []
   },
   "source": [
    "# Preprocessing Data"
   ]
  },
  {
   "cell_type": "code",
   "execution_count": 21,
   "id": "78e74c4b",
   "metadata": {
    "execution": {
     "iopub.execute_input": "2025-08-19T18:28:45.345136Z",
     "iopub.status.busy": "2025-08-19T18:28:45.344136Z",
     "iopub.status.idle": "2025-08-19T18:28:45.353598Z",
     "shell.execute_reply": "2025-08-19T18:28:45.352066Z"
    },
    "papermill": {
     "duration": 0.023405,
     "end_time": "2025-08-19T18:28:45.355246",
     "exception": false,
     "start_time": "2025-08-19T18:28:45.331841",
     "status": "completed"
    },
    "tags": []
   },
   "outputs": [],
   "source": [
    "# EXCLUDE PROTECTED FEATURES\n",
    "# --------------------------\n",
    "\n",
    "excluded_features = universe[\"exclude_features\"].split(\"-\")\n",
    "excluded_features_dictionary = {\n",
    "    \"nationality\": [\"maxdeutsch1\", \"maxdeutsch.Missing.\"],\n",
    "    \"sex\": [\"frau1\"],\n",
    "    \"age\": [\"age\"],\n",
    "}"
   ]
  },
  {
   "cell_type": "code",
   "execution_count": 22,
   "id": "f8e63555",
   "metadata": {
    "execution": {
     "iopub.execute_input": "2025-08-19T18:28:45.383001Z",
     "iopub.status.busy": "2025-08-19T18:28:45.381833Z",
     "iopub.status.idle": "2025-08-19T18:28:45.389759Z",
     "shell.execute_reply": "2025-08-19T18:28:45.388544Z"
    },
    "papermill": {
     "duration": 0.022054,
     "end_time": "2025-08-19T18:28:45.391143",
     "exception": false,
     "start_time": "2025-08-19T18:28:45.369089",
     "status": "completed"
    },
    "tags": []
   },
   "outputs": [],
   "source": [
    "excluded_features_columns = [\n",
    "    excluded_features_dictionary[f] for f in excluded_features if len(f) > 0 and f != \"none\"\n",
    "]"
   ]
  },
  {
   "cell_type": "code",
   "execution_count": 23,
   "id": "da781f7c",
   "metadata": {
    "execution": {
     "iopub.execute_input": "2025-08-19T18:28:45.417046Z",
     "iopub.status.busy": "2025-08-19T18:28:45.416096Z",
     "iopub.status.idle": "2025-08-19T18:28:45.423331Z",
     "shell.execute_reply": "2025-08-19T18:28:45.422155Z"
    },
    "papermill": {
     "duration": 0.020601,
     "end_time": "2025-08-19T18:28:45.424816",
     "exception": false,
     "start_time": "2025-08-19T18:28:45.404215",
     "status": "completed"
    },
    "tags": []
   },
   "outputs": [],
   "source": [
    "from fairness_multiverse.universe import flatten_once\n",
    "\n",
    "excluded_features_columns = flatten_once(excluded_features_columns)"
   ]
  },
  {
   "cell_type": "code",
   "execution_count": 24,
   "id": "37fef0f0",
   "metadata": {
    "execution": {
     "iopub.execute_input": "2025-08-19T18:28:45.450903Z",
     "iopub.status.busy": "2025-08-19T18:28:45.449971Z",
     "iopub.status.idle": "2025-08-19T18:28:45.467532Z",
     "shell.execute_reply": "2025-08-19T18:28:45.466224Z"
    },
    "papermill": {
     "duration": 0.031446,
     "end_time": "2025-08-19T18:28:45.469144",
     "exception": false,
     "start_time": "2025-08-19T18:28:45.437698",
     "status": "completed"
    },
    "tags": []
   },
   "outputs": [
    {
     "name": "stdout",
     "output_type": "stream",
     "text": [
      "Dropping features: ['frau1']\n"
     ]
    }
   ],
   "source": [
    "if len(excluded_features_columns) > 0:\n",
    "    print(f\"Dropping features: {excluded_features_columns}\")\n",
    "    X_train.drop(excluded_features_columns, axis=1, inplace=True)"
   ]
  },
  {
   "cell_type": "code",
   "execution_count": 25,
   "id": "d029e3e9",
   "metadata": {
    "execution": {
     "iopub.execute_input": "2025-08-19T18:28:45.499200Z",
     "iopub.status.busy": "2025-08-19T18:28:45.498208Z",
     "iopub.status.idle": "2025-08-19T18:28:45.550903Z",
     "shell.execute_reply": "2025-08-19T18:28:45.550196Z"
    },
    "papermill": {
     "duration": 0.066186,
     "end_time": "2025-08-19T18:28:45.552259",
     "exception": false,
     "start_time": "2025-08-19T18:28:45.486073",
     "status": "completed"
    },
    "tags": []
   },
   "outputs": [
    {
     "name": "stdout",
     "output_type": "stream",
     "text": [
      "Dropping features: ['frau1']\n"
     ]
    }
   ],
   "source": [
    "if len(excluded_features_columns) > 0:\n",
    "    print(f\"Dropping features: {excluded_features_columns}\")\n",
    "    X_test.drop(excluded_features_columns, axis=1, inplace=True)"
   ]
  },
  {
   "cell_type": "code",
   "execution_count": 26,
   "id": "01d571f0",
   "metadata": {
    "execution": {
     "iopub.execute_input": "2025-08-19T18:28:45.586476Z",
     "iopub.status.busy": "2025-08-19T18:28:45.586108Z",
     "iopub.status.idle": "2025-08-19T18:28:45.635044Z",
     "shell.execute_reply": "2025-08-19T18:28:45.634453Z"
    },
    "papermill": {
     "duration": 0.071491,
     "end_time": "2025-08-19T18:28:45.636117",
     "exception": false,
     "start_time": "2025-08-19T18:28:45.564626",
     "status": "completed"
    },
    "tags": []
   },
   "outputs": [
    {
     "name": "stdout",
     "output_type": "stream",
     "text": [
      "Dropping features: ['frau1']\n"
     ]
    }
   ],
   "source": [
    "if len(excluded_features_columns) > 0:\n",
    "    print(f\"Dropping features: {excluded_features_columns}\")\n",
    "    X_calib.drop(excluded_features_columns, axis=1, inplace=True)"
   ]
  },
  {
   "cell_type": "code",
   "execution_count": 27,
   "id": "3037356e",
   "metadata": {
    "execution": {
     "iopub.execute_input": "2025-08-19T18:28:45.667008Z",
     "iopub.status.busy": "2025-08-19T18:28:45.666459Z",
     "iopub.status.idle": "2025-08-19T18:28:45.671809Z",
     "shell.execute_reply": "2025-08-19T18:28:45.671054Z"
    },
    "papermill": {
     "duration": 0.026508,
     "end_time": "2025-08-19T18:28:45.673832",
     "exception": false,
     "start_time": "2025-08-19T18:28:45.647324",
     "status": "completed"
    },
    "tags": []
   },
   "outputs": [],
   "source": [
    "# EXCLUDE CERTAIN SUBGROUPS\n",
    "# -------------------------\n",
    "\n",
    "mode = universe.get(\"exclude_subgroups\", \"keep-all\") # Defaults to \"keep-all\" if the key is missing."
   ]
  },
  {
   "cell_type": "code",
   "execution_count": 28,
   "id": "9d1e63fd",
   "metadata": {
    "execution": {
     "iopub.execute_input": "2025-08-19T18:28:45.697836Z",
     "iopub.status.busy": "2025-08-19T18:28:45.697499Z",
     "iopub.status.idle": "2025-08-19T18:28:45.702846Z",
     "shell.execute_reply": "2025-08-19T18:28:45.702236Z"
    },
    "papermill": {
     "duration": 0.01814,
     "end_time": "2025-08-19T18:28:45.704223",
     "exception": false,
     "start_time": "2025-08-19T18:28:45.686083",
     "status": "completed"
    },
    "tags": []
   },
   "outputs": [],
   "source": [
    "if mode == \"keep-all\":\n",
    "    keep_mask = pd.Series(True, index=org_train.index)\n",
    "\n",
    "elif mode == \"drop-non-german\":\n",
    "    keep_mask = (org_train[\"maxdeutsch1\"] == 1) & (org_train[\"maxdeutsch.Missing.\"] == 0)\n",
    "\n",
    "else:\n",
    "    raise ValueError(f\"Unsupported mode for exclude_subgroups: {mode}\")"
   ]
  },
  {
   "cell_type": "code",
   "execution_count": 29,
   "id": "d3b65474",
   "metadata": {
    "execution": {
     "iopub.execute_input": "2025-08-19T18:28:45.726847Z",
     "iopub.status.busy": "2025-08-19T18:28:45.726494Z",
     "iopub.status.idle": "2025-08-19T18:28:45.733982Z",
     "shell.execute_reply": "2025-08-19T18:28:45.733374Z"
    },
    "papermill": {
     "duration": 0.0204,
     "end_time": "2025-08-19T18:28:45.735410",
     "exception": false,
     "start_time": "2025-08-19T18:28:45.715010",
     "status": "completed"
    },
    "tags": []
   },
   "outputs": [
    {
     "name": "stdout",
     "output_type": "stream",
     "text": [
      "Dropping 741 rows (14.82%) where mode='drop-non-german'\n"
     ]
    }
   ],
   "source": [
    "n_drop = (~keep_mask).sum() # Calculates how many rows are set to be dropped\n",
    "if n_drop > 0:\n",
    "    pct = n_drop / len(keep_mask) * 100\n",
    "    print(f\"Dropping {n_drop} rows ({pct:.2f}%) where mode='{mode}'\")"
   ]
  },
  {
   "cell_type": "code",
   "execution_count": 30,
   "id": "f44389b3",
   "metadata": {
    "execution": {
     "iopub.execute_input": "2025-08-19T18:28:45.758253Z",
     "iopub.status.busy": "2025-08-19T18:28:45.757889Z",
     "iopub.status.idle": "2025-08-19T18:28:45.763789Z",
     "shell.execute_reply": "2025-08-19T18:28:45.763210Z"
    },
    "papermill": {
     "duration": 0.019796,
     "end_time": "2025-08-19T18:28:45.766090",
     "exception": false,
     "start_time": "2025-08-19T18:28:45.746294",
     "status": "completed"
    },
    "tags": []
   },
   "outputs": [],
   "source": [
    "X_train = X_train[keep_mask]"
   ]
  },
  {
   "cell_type": "code",
   "execution_count": 31,
   "id": "ceca8c2a",
   "metadata": {
    "execution": {
     "iopub.execute_input": "2025-08-19T18:28:45.814447Z",
     "iopub.status.busy": "2025-08-19T18:28:45.813450Z",
     "iopub.status.idle": "2025-08-19T18:28:45.822602Z",
     "shell.execute_reply": "2025-08-19T18:28:45.821171Z"
    },
    "papermill": {
     "duration": 0.024617,
     "end_time": "2025-08-19T18:28:45.823968",
     "exception": false,
     "start_time": "2025-08-19T18:28:45.799351",
     "status": "completed"
    },
    "tags": []
   },
   "outputs": [],
   "source": [
    "y_train = y_train[keep_mask]"
   ]
  },
  {
   "cell_type": "markdown",
   "id": "04d31e2f",
   "metadata": {
    "papermill": {
     "duration": 0.032525,
     "end_time": "2025-08-19T18:28:45.870292",
     "exception": false,
     "start_time": "2025-08-19T18:28:45.837767",
     "status": "completed"
    },
    "tags": []
   },
   "source": [
    "# Model Training"
   ]
  },
  {
   "cell_type": "code",
   "execution_count": 32,
   "id": "db991733",
   "metadata": {
    "execution": {
     "iopub.execute_input": "2025-08-19T18:28:45.903835Z",
     "iopub.status.busy": "2025-08-19T18:28:45.903440Z",
     "iopub.status.idle": "2025-08-19T18:28:45.995729Z",
     "shell.execute_reply": "2025-08-19T18:28:45.994434Z"
    },
    "papermill": {
     "duration": 0.111547,
     "end_time": "2025-08-19T18:28:45.997811",
     "exception": false,
     "start_time": "2025-08-19T18:28:45.886264",
     "status": "completed"
    },
    "tags": []
   },
   "outputs": [],
   "source": [
    "from sklearn.linear_model import LogisticRegression\n",
    "from sklearn.ensemble import GradientBoostingClassifier, RandomForestClassifier\n",
    "\n",
    "if (universe[\"model\"] == \"logreg\"):\n",
    "    model = LogisticRegression() #penalty=\"none\", solver=\"newton-cg\", max_iter=1)\n",
    "elif (universe[\"model\"] == \"penalized_logreg\"):\n",
    "    model = LogisticRegression(penalty=\"l2\", C=0.1) #, solver=\"newton-cg\", max_iter=1)\n",
    "elif (universe[\"model\"] == \"rf\"):\n",
    "    model = RandomForestClassifier() # n_estimators=100, n_jobs=-1\n",
    "elif (universe[\"model\"] == \"gbm\"):\n",
    "    model = GradientBoostingClassifier()\n",
    "elif (universe[\"model\"] == \"elasticnet\"):\n",
    "    model = LogisticRegression(penalty = 'elasticnet', solver = 'saga', l1_ratio = 0.5) # max_iter=5000\n",
    "else:\n",
    "    raise \"Unsupported universe.model\""
   ]
  },
  {
   "cell_type": "code",
   "execution_count": 33,
   "id": "a4b5cd25",
   "metadata": {
    "execution": {
     "iopub.execute_input": "2025-08-19T18:28:46.022535Z",
     "iopub.status.busy": "2025-08-19T18:28:46.021975Z",
     "iopub.status.idle": "2025-08-19T18:28:46.028202Z",
     "shell.execute_reply": "2025-08-19T18:28:46.027430Z"
    },
    "papermill": {
     "duration": 0.019496,
     "end_time": "2025-08-19T18:28:46.029287",
     "exception": false,
     "start_time": "2025-08-19T18:28:46.009791",
     "status": "completed"
    },
    "tags": []
   },
   "outputs": [],
   "source": [
    "from sklearn.pipeline import Pipeline\n",
    "from sklearn.preprocessing import StandardScaler\n",
    "\n",
    "model = Pipeline([\n",
    "    #(\"continuous_processor\", continuous_processor),\n",
    "    #(\"categorical_preprocessor\", categorical_preprocessor),\n",
    "    (\"scale\", StandardScaler() if universe[\"scale\"] == \"scale\" else None), \n",
    "    (\"model\", model),\n",
    "])"
   ]
  },
  {
   "cell_type": "code",
   "execution_count": 34,
   "id": "283a904d",
   "metadata": {
    "execution": {
     "iopub.execute_input": "2025-08-19T18:28:46.067348Z",
     "iopub.status.busy": "2025-08-19T18:28:46.066317Z",
     "iopub.status.idle": "2025-08-19T18:28:47.147458Z",
     "shell.execute_reply": "2025-08-19T18:28:47.146786Z"
    },
    "papermill": {
     "duration": 1.108085,
     "end_time": "2025-08-19T18:28:47.148652",
     "exception": false,
     "start_time": "2025-08-19T18:28:46.040567",
     "status": "completed"
    },
    "tags": []
   },
   "outputs": [
    {
     "data": {
      "text/html": [
       "<style>#sk-container-id-1 {color: black;background-color: white;}#sk-container-id-1 pre{padding: 0;}#sk-container-id-1 div.sk-toggleable {background-color: white;}#sk-container-id-1 label.sk-toggleable__label {cursor: pointer;display: block;width: 100%;margin-bottom: 0;padding: 0.3em;box-sizing: border-box;text-align: center;}#sk-container-id-1 label.sk-toggleable__label-arrow:before {content: \"▸\";float: left;margin-right: 0.25em;color: #696969;}#sk-container-id-1 label.sk-toggleable__label-arrow:hover:before {color: black;}#sk-container-id-1 div.sk-estimator:hover label.sk-toggleable__label-arrow:before {color: black;}#sk-container-id-1 div.sk-toggleable__content {max-height: 0;max-width: 0;overflow: hidden;text-align: left;background-color: #f0f8ff;}#sk-container-id-1 div.sk-toggleable__content pre {margin: 0.2em;color: black;border-radius: 0.25em;background-color: #f0f8ff;}#sk-container-id-1 input.sk-toggleable__control:checked~div.sk-toggleable__content {max-height: 200px;max-width: 100%;overflow: auto;}#sk-container-id-1 input.sk-toggleable__control:checked~label.sk-toggleable__label-arrow:before {content: \"▾\";}#sk-container-id-1 div.sk-estimator input.sk-toggleable__control:checked~label.sk-toggleable__label {background-color: #d4ebff;}#sk-container-id-1 div.sk-label input.sk-toggleable__control:checked~label.sk-toggleable__label {background-color: #d4ebff;}#sk-container-id-1 input.sk-hidden--visually {border: 0;clip: rect(1px 1px 1px 1px);clip: rect(1px, 1px, 1px, 1px);height: 1px;margin: -1px;overflow: hidden;padding: 0;position: absolute;width: 1px;}#sk-container-id-1 div.sk-estimator {font-family: monospace;background-color: #f0f8ff;border: 1px dotted black;border-radius: 0.25em;box-sizing: border-box;margin-bottom: 0.5em;}#sk-container-id-1 div.sk-estimator:hover {background-color: #d4ebff;}#sk-container-id-1 div.sk-parallel-item::after {content: \"\";width: 100%;border-bottom: 1px solid gray;flex-grow: 1;}#sk-container-id-1 div.sk-label:hover label.sk-toggleable__label {background-color: #d4ebff;}#sk-container-id-1 div.sk-serial::before {content: \"\";position: absolute;border-left: 1px solid gray;box-sizing: border-box;top: 0;bottom: 0;left: 50%;z-index: 0;}#sk-container-id-1 div.sk-serial {display: flex;flex-direction: column;align-items: center;background-color: white;padding-right: 0.2em;padding-left: 0.2em;position: relative;}#sk-container-id-1 div.sk-item {position: relative;z-index: 1;}#sk-container-id-1 div.sk-parallel {display: flex;align-items: stretch;justify-content: center;background-color: white;position: relative;}#sk-container-id-1 div.sk-item::before, #sk-container-id-1 div.sk-parallel-item::before {content: \"\";position: absolute;border-left: 1px solid gray;box-sizing: border-box;top: 0;bottom: 0;left: 50%;z-index: -1;}#sk-container-id-1 div.sk-parallel-item {display: flex;flex-direction: column;z-index: 1;position: relative;background-color: white;}#sk-container-id-1 div.sk-parallel-item:first-child::after {align-self: flex-end;width: 50%;}#sk-container-id-1 div.sk-parallel-item:last-child::after {align-self: flex-start;width: 50%;}#sk-container-id-1 div.sk-parallel-item:only-child::after {width: 0;}#sk-container-id-1 div.sk-dashed-wrapped {border: 1px dashed gray;margin: 0 0.4em 0.5em 0.4em;box-sizing: border-box;padding-bottom: 0.4em;background-color: white;}#sk-container-id-1 div.sk-label label {font-family: monospace;font-weight: bold;display: inline-block;line-height: 1.2em;}#sk-container-id-1 div.sk-label-container {text-align: center;}#sk-container-id-1 div.sk-container {/* jupyter's `normalize.less` sets `[hidden] { display: none; }` but bootstrap.min.css set `[hidden] { display: none !important; }` so we also need the `!important` here to be able to override the default hidden behavior on the sphinx rendered scikit-learn.org. See: https://github.com/scikit-learn/scikit-learn/issues/21755 */display: inline-block !important;position: relative;}#sk-container-id-1 div.sk-text-repr-fallback {display: none;}</style><div id=\"sk-container-id-1\" class=\"sk-top-container\"><div class=\"sk-text-repr-fallback\"><pre>Pipeline(steps=[(&#x27;scale&#x27;, None), (&#x27;model&#x27;, RandomForestClassifier())])</pre><b>In a Jupyter environment, please rerun this cell to show the HTML representation or trust the notebook. <br />On GitHub, the HTML representation is unable to render, please try loading this page with nbviewer.org.</b></div><div class=\"sk-container\" hidden><div class=\"sk-item sk-dashed-wrapped\"><div class=\"sk-label-container\"><div class=\"sk-label sk-toggleable\"><input class=\"sk-toggleable__control sk-hidden--visually\" id=\"sk-estimator-id-1\" type=\"checkbox\" ><label for=\"sk-estimator-id-1\" class=\"sk-toggleable__label sk-toggleable__label-arrow\">Pipeline</label><div class=\"sk-toggleable__content\"><pre>Pipeline(steps=[(&#x27;scale&#x27;, None), (&#x27;model&#x27;, RandomForestClassifier())])</pre></div></div></div><div class=\"sk-serial\"><div class=\"sk-item\"><div class=\"sk-estimator sk-toggleable\"><input class=\"sk-toggleable__control sk-hidden--visually\" id=\"sk-estimator-id-2\" type=\"checkbox\" ><label for=\"sk-estimator-id-2\" class=\"sk-toggleable__label sk-toggleable__label-arrow\">None</label><div class=\"sk-toggleable__content\"><pre>None</pre></div></div></div><div class=\"sk-item\"><div class=\"sk-estimator sk-toggleable\"><input class=\"sk-toggleable__control sk-hidden--visually\" id=\"sk-estimator-id-3\" type=\"checkbox\" ><label for=\"sk-estimator-id-3\" class=\"sk-toggleable__label sk-toggleable__label-arrow\">RandomForestClassifier</label><div class=\"sk-toggleable__content\"><pre>RandomForestClassifier()</pre></div></div></div></div></div></div></div>"
      ],
      "text/plain": [
       "Pipeline(steps=[('scale', None), ('model', RandomForestClassifier())])"
      ]
     },
     "execution_count": 34,
     "metadata": {},
     "output_type": "execute_result"
    }
   ],
   "source": [
    "model.fit(X_train, y_train.values.ravel())"
   ]
  },
  {
   "cell_type": "code",
   "execution_count": 35,
   "id": "6e15e313",
   "metadata": {
    "execution": {
     "iopub.execute_input": "2025-08-19T18:28:47.174363Z",
     "iopub.status.busy": "2025-08-19T18:28:47.173017Z",
     "iopub.status.idle": "2025-08-19T18:28:49.244207Z",
     "shell.execute_reply": "2025-08-19T18:28:49.243185Z"
    },
    "papermill": {
     "duration": 2.085231,
     "end_time": "2025-08-19T18:28:49.245636",
     "exception": false,
     "start_time": "2025-08-19T18:28:47.160405",
     "status": "completed"
    },
    "tags": []
   },
   "outputs": [
    {
     "data": {
      "text/plain": [
       "0.8631813621669825"
      ]
     },
     "execution_count": 35,
     "metadata": {},
     "output_type": "execute_result"
    }
   ],
   "source": [
    "from fairness_multiverse.universe import predict_w_threshold\n",
    "\n",
    "probs_test = model.predict_proba(X_test)\n",
    "\n",
    "'''\n",
    "Below code returns a boolean array (or binary 0/1 array depending on how it’s used) where each element \n",
    "is True if the probability of class 1 is greater than or equal to the threshold, and False otherwise.\n",
    "'''\n",
    "y_pred_default = predict_w_threshold(probs_test, 0.5)\n",
    "\n",
    "from sklearn.metrics import accuracy_score\n",
    "\n",
    "# Naive prediction\n",
    "accuracy_score(y_true = y_true, y_pred = y_pred_default)"
   ]
  },
  {
   "cell_type": "code",
   "execution_count": 36,
   "id": "6f14067c",
   "metadata": {
    "execution": {
     "iopub.execute_input": "2025-08-19T18:28:49.270214Z",
     "iopub.status.busy": "2025-08-19T18:28:49.269816Z",
     "iopub.status.idle": "2025-08-19T18:28:51.154343Z",
     "shell.execute_reply": "2025-08-19T18:28:51.153425Z"
    },
    "papermill": {
     "duration": 1.898011,
     "end_time": "2025-08-19T18:28:51.155467",
     "exception": false,
     "start_time": "2025-08-19T18:28:49.257456",
     "status": "completed"
    },
    "tags": []
   },
   "outputs": [
    {
     "data": {
      "text/plain": [
       "array([0, 0, 0, ..., 0, 0, 0])"
      ]
     },
     "execution_count": 36,
     "metadata": {},
     "output_type": "execute_result"
    }
   ],
   "source": [
    "model.predict(X_test)"
   ]
  },
  {
   "cell_type": "markdown",
   "id": "3759920c",
   "metadata": {
    "papermill": {
     "duration": 0.011152,
     "end_time": "2025-08-19T18:28:51.178547",
     "exception": false,
     "start_time": "2025-08-19T18:28:51.167395",
     "status": "completed"
    },
    "tags": []
   },
   "source": [
    "# Conformal Prediction"
   ]
  },
  {
   "cell_type": "code",
   "execution_count": 37,
   "id": "14b27f59",
   "metadata": {
    "execution": {
     "iopub.execute_input": "2025-08-19T18:28:51.204993Z",
     "iopub.status.busy": "2025-08-19T18:28:51.203705Z",
     "iopub.status.idle": "2025-08-19T18:28:51.221124Z",
     "shell.execute_reply": "2025-08-19T18:28:51.219659Z"
    },
    "papermill": {
     "duration": 0.033233,
     "end_time": "2025-08-19T18:28:51.223029",
     "exception": false,
     "start_time": "2025-08-19T18:28:51.189796",
     "status": "completed"
    },
    "tags": []
   },
   "outputs": [],
   "source": [
    "# Miscoverage level for conformal prediction (10% allowed error rate => 90% target coverage)\n",
    "alpha = 0.1"
   ]
  },
  {
   "cell_type": "code",
   "execution_count": 38,
   "id": "59102472",
   "metadata": {
    "execution": {
     "iopub.execute_input": "2025-08-19T18:28:51.250853Z",
     "iopub.status.busy": "2025-08-19T18:28:51.250487Z",
     "iopub.status.idle": "2025-08-19T18:28:52.962097Z",
     "shell.execute_reply": "2025-08-19T18:28:52.960896Z"
    },
    "papermill": {
     "duration": 1.726106,
     "end_time": "2025-08-19T18:28:52.963748",
     "exception": false,
     "start_time": "2025-08-19T18:28:51.237642",
     "status": "completed"
    },
    "tags": []
   },
   "outputs": [],
   "source": [
    "probs_calib = model.predict_proba(X_calib)"
   ]
  },
  {
   "cell_type": "code",
   "execution_count": 39,
   "id": "a792d4dd",
   "metadata": {
    "execution": {
     "iopub.execute_input": "2025-08-19T18:28:52.995424Z",
     "iopub.status.busy": "2025-08-19T18:28:52.994352Z",
     "iopub.status.idle": "2025-08-19T18:28:53.004249Z",
     "shell.execute_reply": "2025-08-19T18:28:53.003188Z"
    },
    "papermill": {
     "duration": 0.028511,
     "end_time": "2025-08-19T18:28:53.005663",
     "exception": false,
     "start_time": "2025-08-19T18:28:52.977152",
     "status": "completed"
    },
    "tags": []
   },
   "outputs": [],
   "source": [
    "y_calib = y_calib.values.ravel().astype(int)"
   ]
  },
  {
   "cell_type": "code",
   "execution_count": 40,
   "id": "650fd033",
   "metadata": {
    "execution": {
     "iopub.execute_input": "2025-08-19T18:28:53.045913Z",
     "iopub.status.busy": "2025-08-19T18:28:53.045576Z",
     "iopub.status.idle": "2025-08-19T18:28:53.053085Z",
     "shell.execute_reply": "2025-08-19T18:28:53.052446Z"
    },
    "papermill": {
     "duration": 0.034179,
     "end_time": "2025-08-19T18:28:53.055849",
     "exception": false,
     "start_time": "2025-08-19T18:28:53.021670",
     "status": "completed"
    },
    "tags": []
   },
   "outputs": [],
   "source": [
    "from fairness_multiverse.conformal import compute_nc_scores\n",
    "\n",
    "# Compute nonconformity scores on calibration set (1 - probability of true class)\n",
    "nc_scores = compute_nc_scores(probs_calib, y_calib)"
   ]
  },
  {
   "cell_type": "code",
   "execution_count": 41,
   "id": "28ada44c",
   "metadata": {
    "execution": {
     "iopub.execute_input": "2025-08-19T18:28:53.095836Z",
     "iopub.status.busy": "2025-08-19T18:28:53.094682Z",
     "iopub.status.idle": "2025-08-19T18:28:53.108362Z",
     "shell.execute_reply": "2025-08-19T18:28:53.106526Z"
    },
    "papermill": {
     "duration": 0.030972,
     "end_time": "2025-08-19T18:28:53.110388",
     "exception": false,
     "start_time": "2025-08-19T18:28:53.079416",
     "status": "completed"
    },
    "tags": []
   },
   "outputs": [],
   "source": [
    "from fairness_multiverse.conformal import find_threshold\n",
    "\n",
    "# Find conformal threshold q_hat for the given alpha (split conformal method)\n",
    "q_hat = find_threshold(nc_scores, alpha)"
   ]
  },
  {
   "cell_type": "code",
   "execution_count": 42,
   "id": "df56469e",
   "metadata": {
    "execution": {
     "iopub.execute_input": "2025-08-19T18:28:53.136723Z",
     "iopub.status.busy": "2025-08-19T18:28:53.135655Z",
     "iopub.status.idle": "2025-08-19T18:28:53.149436Z",
     "shell.execute_reply": "2025-08-19T18:28:53.147569Z"
    },
    "papermill": {
     "duration": 0.028459,
     "end_time": "2025-08-19T18:28:53.150955",
     "exception": false,
     "start_time": "2025-08-19T18:28:53.122496",
     "status": "completed"
    },
    "tags": []
   },
   "outputs": [
    {
     "data": {
      "text/plain": [
       "0.65"
      ]
     },
     "execution_count": 42,
     "metadata": {},
     "output_type": "execute_result"
    }
   ],
   "source": [
    "q_hat"
   ]
  },
  {
   "cell_type": "code",
   "execution_count": 43,
   "id": "aa1f5faa",
   "metadata": {
    "execution": {
     "iopub.execute_input": "2025-08-19T18:28:53.182382Z",
     "iopub.status.busy": "2025-08-19T18:28:53.181339Z",
     "iopub.status.idle": "2025-08-19T18:28:55.364198Z",
     "shell.execute_reply": "2025-08-19T18:28:55.363370Z"
    },
    "papermill": {
     "duration": 2.199764,
     "end_time": "2025-08-19T18:28:55.367318",
     "exception": false,
     "start_time": "2025-08-19T18:28:53.167554",
     "status": "completed"
    },
    "tags": []
   },
   "outputs": [],
   "source": [
    "from fairness_multiverse.conformal import predict_conformal_sets\n",
    "\n",
    "# Generate prediction sets for each test example\n",
    "pred_sets = predict_conformal_sets(model, X_test, q_hat)"
   ]
  },
  {
   "cell_type": "code",
   "execution_count": 44,
   "id": "97f67a6b",
   "metadata": {
    "execution": {
     "iopub.execute_input": "2025-08-19T18:28:55.409376Z",
     "iopub.status.busy": "2025-08-19T18:28:55.408221Z",
     "iopub.status.idle": "2025-08-19T18:28:55.419169Z",
     "shell.execute_reply": "2025-08-19T18:28:55.417725Z"
    },
    "papermill": {
     "duration": 0.027403,
     "end_time": "2025-08-19T18:28:55.420766",
     "exception": false,
     "start_time": "2025-08-19T18:28:55.393363",
     "status": "completed"
    },
    "tags": []
   },
   "outputs": [],
   "source": [
    "y_true = y_true.squeeze()"
   ]
  },
  {
   "cell_type": "code",
   "execution_count": 45,
   "id": "e700e9a7",
   "metadata": {
    "execution": {
     "iopub.execute_input": "2025-08-19T18:28:55.450938Z",
     "iopub.status.busy": "2025-08-19T18:28:55.449905Z",
     "iopub.status.idle": "2025-08-19T18:28:56.005611Z",
     "shell.execute_reply": "2025-08-19T18:28:56.004042Z"
    },
    "papermill": {
     "duration": 0.570938,
     "end_time": "2025-08-19T18:28:56.007575",
     "exception": false,
     "start_time": "2025-08-19T18:28:55.436637",
     "status": "completed"
    },
    "tags": []
   },
   "outputs": [],
   "source": [
    "from fairness_multiverse.conformal import evaluate_sets\n",
    "\n",
    "# Evaluate coverage and average set size on test data\n",
    "metrics = evaluate_sets(pred_sets, y_true)"
   ]
  },
  {
   "cell_type": "markdown",
   "id": "efbacec0",
   "metadata": {
    "papermill": {
     "duration": 0.012703,
     "end_time": "2025-08-19T18:28:56.033422",
     "exception": false,
     "start_time": "2025-08-19T18:28:56.020719",
     "status": "completed"
    },
    "tags": []
   },
   "source": [
    "# CP Metrics"
   ]
  },
  {
   "cell_type": "code",
   "execution_count": 46,
   "id": "9de55fb1",
   "metadata": {
    "execution": {
     "iopub.execute_input": "2025-08-19T18:28:56.059001Z",
     "iopub.status.busy": "2025-08-19T18:28:56.058655Z",
     "iopub.status.idle": "2025-08-19T18:28:56.067660Z",
     "shell.execute_reply": "2025-08-19T18:28:56.066373Z"
    },
    "papermill": {
     "duration": 0.02902,
     "end_time": "2025-08-19T18:28:56.074544",
     "exception": false,
     "start_time": "2025-08-19T18:28:56.045524",
     "status": "completed"
    },
    "tags": []
   },
   "outputs": [
    {
     "data": {
      "text/plain": [
       "{'coverage': 0.9124177906587895, 'avg_size': 1.1377326942369859}"
      ]
     },
     "execution_count": 46,
     "metadata": {},
     "output_type": "execute_result"
    }
   ],
   "source": [
    "metrics"
   ]
  },
  {
   "cell_type": "code",
   "execution_count": 47,
   "id": "64c340a1",
   "metadata": {
    "execution": {
     "iopub.execute_input": "2025-08-19T18:28:56.108313Z",
     "iopub.status.busy": "2025-08-19T18:28:56.107472Z",
     "iopub.status.idle": "2025-08-19T18:28:56.118067Z",
     "shell.execute_reply": "2025-08-19T18:28:56.116584Z"
    },
    "papermill": {
     "duration": 0.025741,
     "end_time": "2025-08-19T18:28:56.119867",
     "exception": false,
     "start_time": "2025-08-19T18:28:56.094126",
     "status": "completed"
    },
    "tags": []
   },
   "outputs": [],
   "source": [
    "example_universe = universe.copy()\n",
    "universe_training_year = example_universe.get(\"training_year\")\n",
    "universe_training_size = example_universe.get(\"training_size\")\n",
    "universe_scale = example_universe.get(\"scale\")\n",
    "universe_model = example_universe.get(\"model\")\n",
    "universe_exclude_features = example_universe.get(\"exclude_features\")\n",
    "universe_exclude_subgroups = example_universe.get(\"exclude_subgroups\")"
   ]
  },
  {
   "cell_type": "code",
   "execution_count": 48,
   "id": "dbb53cb4",
   "metadata": {
    "execution": {
     "iopub.execute_input": "2025-08-19T18:28:56.148240Z",
     "iopub.status.busy": "2025-08-19T18:28:56.147237Z",
     "iopub.status.idle": "2025-08-19T18:28:56.157518Z",
     "shell.execute_reply": "2025-08-19T18:28:56.156240Z"
    },
    "papermill": {
     "duration": 0.025088,
     "end_time": "2025-08-19T18:28:56.159093",
     "exception": false,
     "start_time": "2025-08-19T18:28:56.134005",
     "status": "completed"
    },
    "tags": []
   },
   "outputs": [],
   "source": [
    "cp_metrics_dict = {\n",
    "    \"universe_id\": [universe_id],\n",
    "    \"universe_training_year\": [universe_training_year],\n",
    "    \"universe_training_size\": [universe_training_size],\n",
    "    \"universe_scale\": [universe_scale],\n",
    "    \"universe_model\": [universe_model],\n",
    "    \"universe_exclude_features\": [universe_exclude_features],\n",
    "    \"universe_exclude_subgroups\": [universe_exclude_subgroups],\n",
    "    \"q_hat\": [q_hat],\n",
    "    \"coverage\": [metrics[\"coverage\"]],\n",
    "    \"avg_size\": [metrics[\"avg_size\"]],\n",
    "}"
   ]
  },
  {
   "cell_type": "code",
   "execution_count": 49,
   "id": "0d70d4b2",
   "metadata": {
    "execution": {
     "iopub.execute_input": "2025-08-19T18:28:56.188871Z",
     "iopub.status.busy": "2025-08-19T18:28:56.186999Z",
     "iopub.status.idle": "2025-08-19T18:28:56.203846Z",
     "shell.execute_reply": "2025-08-19T18:28:56.202532Z"
    },
    "papermill": {
     "duration": 0.032107,
     "end_time": "2025-08-19T18:28:56.205601",
     "exception": false,
     "start_time": "2025-08-19T18:28:56.173494",
     "status": "completed"
    },
    "tags": []
   },
   "outputs": [],
   "source": [
    "cp_metrics_df = pd.DataFrame(cp_metrics_dict)"
   ]
  },
  {
   "cell_type": "code",
   "execution_count": 50,
   "id": "b494403c",
   "metadata": {
    "execution": {
     "iopub.execute_input": "2025-08-19T18:28:56.238362Z",
     "iopub.status.busy": "2025-08-19T18:28:56.237373Z",
     "iopub.status.idle": "2025-08-19T18:28:56.260700Z",
     "shell.execute_reply": "2025-08-19T18:28:56.259598Z"
    },
    "papermill": {
     "duration": 0.039034,
     "end_time": "2025-08-19T18:28:56.262922",
     "exception": false,
     "start_time": "2025-08-19T18:28:56.223888",
     "status": "completed"
    },
    "tags": []
   },
   "outputs": [
    {
     "data": {
      "text/html": [
       "<div>\n",
       "<style scoped>\n",
       "    .dataframe tbody tr th:only-of-type {\n",
       "        vertical-align: middle;\n",
       "    }\n",
       "\n",
       "    .dataframe tbody tr th {\n",
       "        vertical-align: top;\n",
       "    }\n",
       "\n",
       "    .dataframe thead th {\n",
       "        text-align: right;\n",
       "    }\n",
       "</style>\n",
       "<table border=\"1\" class=\"dataframe\">\n",
       "  <thead>\n",
       "    <tr style=\"text-align: right;\">\n",
       "      <th></th>\n",
       "      <th>universe_id</th>\n",
       "      <th>universe_training_year</th>\n",
       "      <th>universe_training_size</th>\n",
       "      <th>universe_scale</th>\n",
       "      <th>universe_model</th>\n",
       "      <th>universe_exclude_features</th>\n",
       "      <th>universe_exclude_subgroups</th>\n",
       "      <th>q_hat</th>\n",
       "      <th>coverage</th>\n",
       "      <th>avg_size</th>\n",
       "    </tr>\n",
       "  </thead>\n",
       "  <tbody>\n",
       "    <tr>\n",
       "      <th>0</th>\n",
       "      <td>567c21be0f0ea5abd5da38f5438df2a0</td>\n",
       "      <td>2014</td>\n",
       "      <td>5k</td>\n",
       "      <td>do-not-scale</td>\n",
       "      <td>rf</td>\n",
       "      <td>sex</td>\n",
       "      <td>drop-non-german</td>\n",
       "      <td>0.65</td>\n",
       "      <td>0.912418</td>\n",
       "      <td>1.137733</td>\n",
       "    </tr>\n",
       "  </tbody>\n",
       "</table>\n",
       "</div>"
      ],
      "text/plain": [
       "                        universe_id universe_training_year  \\\n",
       "0  567c21be0f0ea5abd5da38f5438df2a0                   2014   \n",
       "\n",
       "  universe_training_size universe_scale universe_model  \\\n",
       "0                     5k   do-not-scale             rf   \n",
       "\n",
       "  universe_exclude_features universe_exclude_subgroups  q_hat  coverage  \\\n",
       "0                       sex            drop-non-german   0.65  0.912418   \n",
       "\n",
       "   avg_size  \n",
       "0  1.137733  "
      ]
     },
     "execution_count": 50,
     "metadata": {},
     "output_type": "execute_result"
    }
   ],
   "source": [
    "cp_metrics_df"
   ]
  },
  {
   "cell_type": "markdown",
   "id": "ed608b0b",
   "metadata": {
    "papermill": {
     "duration": 0.01211,
     "end_time": "2025-08-19T18:28:56.292562",
     "exception": false,
     "start_time": "2025-08-19T18:28:56.280452",
     "status": "completed"
    },
    "tags": []
   },
   "source": [
    "Conditional coverage & looking at subgroups"
   ]
  },
  {
   "cell_type": "code",
   "execution_count": 51,
   "id": "8968c366",
   "metadata": {
    "execution": {
     "iopub.execute_input": "2025-08-19T18:28:56.318976Z",
     "iopub.status.busy": "2025-08-19T18:28:56.317759Z",
     "iopub.status.idle": "2025-08-19T18:28:56.583480Z",
     "shell.execute_reply": "2025-08-19T18:28:56.582254Z"
    },
    "papermill": {
     "duration": 0.282132,
     "end_time": "2025-08-19T18:28:56.586461",
     "exception": false,
     "start_time": "2025-08-19T18:28:56.304329",
     "status": "completed"
    },
    "tags": []
   },
   "outputs": [],
   "source": [
    "from fairness_multiverse.conformal import build_cp_groups\n",
    "\n",
    "cp_groups_df = build_cp_groups(pred_sets, y_true, X_test.index, org_test)"
   ]
  },
  {
   "cell_type": "code",
   "execution_count": 52,
   "id": "292ddabf",
   "metadata": {
    "execution": {
     "iopub.execute_input": "2025-08-19T18:28:56.629210Z",
     "iopub.status.busy": "2025-08-19T18:28:56.628100Z",
     "iopub.status.idle": "2025-08-19T18:28:57.492340Z",
     "shell.execute_reply": "2025-08-19T18:28:57.490894Z"
    },
    "papermill": {
     "duration": 0.883042,
     "end_time": "2025-08-19T18:28:57.495745",
     "exception": false,
     "start_time": "2025-08-19T18:28:56.612703",
     "status": "completed"
    },
    "tags": []
   },
   "outputs": [],
   "source": [
    "# Define covered = 1 if true_label is in the predicted set\n",
    "cp_groups_df['covered'] = cp_groups_df.apply(\n",
    "    lambda r: int(r['true_label'] in r['pred_set']),\n",
    "    axis=1\n",
    ")"
   ]
  },
  {
   "cell_type": "code",
   "execution_count": 53,
   "id": "3a261692",
   "metadata": {
    "execution": {
     "iopub.execute_input": "2025-08-19T18:28:57.538026Z",
     "iopub.status.busy": "2025-08-19T18:28:57.536921Z",
     "iopub.status.idle": "2025-08-19T18:28:57.559164Z",
     "shell.execute_reply": "2025-08-19T18:28:57.558041Z"
    },
    "papermill": {
     "duration": 0.039668,
     "end_time": "2025-08-19T18:28:57.561227",
     "exception": false,
     "start_time": "2025-08-19T18:28:57.521559",
     "status": "completed"
    },
    "tags": []
   },
   "outputs": [],
   "source": [
    "subgroups = ['frau1','nongerman','nongerman_male','nongerman_female']\n",
    "\n",
    "# Conditional coverage for subgroup==1\n",
    "cond_coverage = {\n",
    "    g: cp_groups_df.loc[cp_groups_df[g]==1, 'covered'].mean()\n",
    "    for g in subgroups\n",
    "}"
   ]
  },
  {
   "cell_type": "code",
   "execution_count": 54,
   "id": "894fd600",
   "metadata": {
    "execution": {
     "iopub.execute_input": "2025-08-19T18:28:57.596692Z",
     "iopub.status.busy": "2025-08-19T18:28:57.595665Z",
     "iopub.status.idle": "2025-08-19T18:28:57.607228Z",
     "shell.execute_reply": "2025-08-19T18:28:57.605845Z"
    },
    "papermill": {
     "duration": 0.026614,
     "end_time": "2025-08-19T18:28:57.608940",
     "exception": false,
     "start_time": "2025-08-19T18:28:57.582326",
     "status": "completed"
    },
    "tags": []
   },
   "outputs": [
    {
     "data": {
      "text/plain": [
       "{'frau1': 0.9103113627173474,\n",
       " 'nongerman': 0.9110761803177455,\n",
       " 'nongerman_male': 0.9265964153832298,\n",
       " 'nongerman_female': 0.8853949329359165}"
      ]
     },
     "execution_count": 54,
     "metadata": {},
     "output_type": "execute_result"
    }
   ],
   "source": [
    "cond_coverage"
   ]
  },
  {
   "cell_type": "code",
   "execution_count": 55,
   "id": "942895c7",
   "metadata": {
    "execution": {
     "iopub.execute_input": "2025-08-19T18:28:57.636697Z",
     "iopub.status.busy": "2025-08-19T18:28:57.635677Z",
     "iopub.status.idle": "2025-08-19T18:28:57.659772Z",
     "shell.execute_reply": "2025-08-19T18:28:57.650552Z"
    },
    "papermill": {
     "duration": 0.040229,
     "end_time": "2025-08-19T18:28:57.662040",
     "exception": false,
     "start_time": "2025-08-19T18:28:57.621811",
     "status": "completed"
    },
    "tags": []
   },
   "outputs": [],
   "source": [
    "for subgroup, cov in cond_coverage.items():\n",
    "    cp_metrics_df[f\"cov_{subgroup}\"] = cov"
   ]
  },
  {
   "cell_type": "code",
   "execution_count": 56,
   "id": "3970120f",
   "metadata": {
    "execution": {
     "iopub.execute_input": "2025-08-19T18:28:57.699823Z",
     "iopub.status.busy": "2025-08-19T18:28:57.699430Z",
     "iopub.status.idle": "2025-08-19T18:28:57.715460Z",
     "shell.execute_reply": "2025-08-19T18:28:57.714364Z"
    },
    "papermill": {
     "duration": 0.031689,
     "end_time": "2025-08-19T18:28:57.717052",
     "exception": false,
     "start_time": "2025-08-19T18:28:57.685363",
     "status": "completed"
    },
    "tags": []
   },
   "outputs": [
    {
     "data": {
      "text/html": [
       "<div>\n",
       "<style scoped>\n",
       "    .dataframe tbody tr th:only-of-type {\n",
       "        vertical-align: middle;\n",
       "    }\n",
       "\n",
       "    .dataframe tbody tr th {\n",
       "        vertical-align: top;\n",
       "    }\n",
       "\n",
       "    .dataframe thead th {\n",
       "        text-align: right;\n",
       "    }\n",
       "</style>\n",
       "<table border=\"1\" class=\"dataframe\">\n",
       "  <thead>\n",
       "    <tr style=\"text-align: right;\">\n",
       "      <th></th>\n",
       "      <th>universe_id</th>\n",
       "      <th>universe_training_year</th>\n",
       "      <th>universe_training_size</th>\n",
       "      <th>universe_scale</th>\n",
       "      <th>universe_model</th>\n",
       "      <th>universe_exclude_features</th>\n",
       "      <th>universe_exclude_subgroups</th>\n",
       "      <th>q_hat</th>\n",
       "      <th>coverage</th>\n",
       "      <th>avg_size</th>\n",
       "      <th>cov_frau1</th>\n",
       "      <th>cov_nongerman</th>\n",
       "      <th>cov_nongerman_male</th>\n",
       "      <th>cov_nongerman_female</th>\n",
       "    </tr>\n",
       "  </thead>\n",
       "  <tbody>\n",
       "    <tr>\n",
       "      <th>0</th>\n",
       "      <td>567c21be0f0ea5abd5da38f5438df2a0</td>\n",
       "      <td>2014</td>\n",
       "      <td>5k</td>\n",
       "      <td>do-not-scale</td>\n",
       "      <td>rf</td>\n",
       "      <td>sex</td>\n",
       "      <td>drop-non-german</td>\n",
       "      <td>0.65</td>\n",
       "      <td>0.912418</td>\n",
       "      <td>1.137733</td>\n",
       "      <td>0.910311</td>\n",
       "      <td>0.911076</td>\n",
       "      <td>0.926596</td>\n",
       "      <td>0.885395</td>\n",
       "    </tr>\n",
       "  </tbody>\n",
       "</table>\n",
       "</div>"
      ],
      "text/plain": [
       "                        universe_id universe_training_year  \\\n",
       "0  567c21be0f0ea5abd5da38f5438df2a0                   2014   \n",
       "\n",
       "  universe_training_size universe_scale universe_model  \\\n",
       "0                     5k   do-not-scale             rf   \n",
       "\n",
       "  universe_exclude_features universe_exclude_subgroups  q_hat  coverage  \\\n",
       "0                       sex            drop-non-german   0.65  0.912418   \n",
       "\n",
       "   avg_size  cov_frau1  cov_nongerman  cov_nongerman_male  \\\n",
       "0  1.137733   0.910311       0.911076            0.926596   \n",
       "\n",
       "   cov_nongerman_female  \n",
       "0              0.885395  "
      ]
     },
     "execution_count": 56,
     "metadata": {},
     "output_type": "execute_result"
    }
   ],
   "source": [
    "cp_metrics_df"
   ]
  },
  {
   "cell_type": "markdown",
   "id": "3fc519cc",
   "metadata": {
    "papermill": {
     "duration": 0.012735,
     "end_time": "2025-08-19T18:28:57.744656",
     "exception": false,
     "start_time": "2025-08-19T18:28:57.731921",
     "status": "completed"
    },
    "tags": []
   },
   "source": [
    "# (Fairness) Metrics"
   ]
  },
  {
   "cell_type": "code",
   "execution_count": 57,
   "id": "a2e5e155",
   "metadata": {
    "execution": {
     "iopub.execute_input": "2025-08-19T18:28:57.771914Z",
     "iopub.status.busy": "2025-08-19T18:28:57.771602Z",
     "iopub.status.idle": "2025-08-19T18:28:57.787814Z",
     "shell.execute_reply": "2025-08-19T18:28:57.787124Z"
    },
    "papermill": {
     "duration": 0.031569,
     "end_time": "2025-08-19T18:28:57.789199",
     "exception": false,
     "start_time": "2025-08-19T18:28:57.757630",
     "status": "completed"
    },
    "tags": []
   },
   "outputs": [],
   "source": [
    "colname_to_bin = \"maxdeutsch1\"\n",
    "majority_value = org_train[colname_to_bin].mode()[0]\n",
    "\n",
    "org_test[\"majmin\"] = np.where(org_test[colname_to_bin] == majority_value, \"majority\", \"minority\")"
   ]
  },
  {
   "cell_type": "code",
   "execution_count": 58,
   "id": "17e3e4d5",
   "metadata": {
    "execution": {
     "iopub.execute_input": "2025-08-19T18:28:57.816221Z",
     "iopub.status.busy": "2025-08-19T18:28:57.815932Z",
     "iopub.status.idle": "2025-08-19T18:28:59.512260Z",
     "shell.execute_reply": "2025-08-19T18:28:59.511154Z"
    },
    "papermill": {
     "duration": 1.712619,
     "end_time": "2025-08-19T18:28:59.515184",
     "exception": false,
     "start_time": "2025-08-19T18:28:57.802565",
     "status": "completed"
    },
    "tags": []
   },
   "outputs": [],
   "source": [
    "example_universe = universe.copy()\n",
    "example_universe[\"cutoff\"] = example_universe[\"cutoff\"][0]\n",
    "example_universe[\"eval_fairness_grouping\"] = example_universe[\"eval_fairness_grouping\"][0]\n",
    "fairness_dict, metric_frame = universe_analysis.compute_metrics(\n",
    "    example_universe,\n",
    "    y_pred_prob=probs_test,\n",
    "    y_test=y_true,\n",
    "    org_test=org_test,\n",
    ")"
   ]
  },
  {
   "cell_type": "markdown",
   "id": "1fb7a0e9",
   "metadata": {
    "papermill": {
     "duration": 0.012238,
     "end_time": "2025-08-19T18:28:59.540623",
     "exception": false,
     "start_time": "2025-08-19T18:28:59.528385",
     "status": "completed"
    },
    "tags": []
   },
   "source": [
    "# Overall"
   ]
  },
  {
   "cell_type": "markdown",
   "id": "be1784b1",
   "metadata": {
    "papermill": {
     "duration": 0.012137,
     "end_time": "2025-08-19T18:28:59.564905",
     "exception": false,
     "start_time": "2025-08-19T18:28:59.552768",
     "status": "completed"
    },
    "tags": []
   },
   "source": [
    "Main fairness target: Equalized Odds. Seems to be a better fit than equal opportunity, since we're not only interested in Y = 1. Seems to be a better fit than demographic parity, since we also care about accuracy, not just equal distribution of preds.\n",
    "\n",
    "Pick column for computation of fairness metrics\n",
    "\n",
    "Performance\n",
    "Overall performance measures, most interesting in relation to the measures split by group below"
   ]
  },
  {
   "cell_type": "code",
   "execution_count": 59,
   "id": "b7672bee",
   "metadata": {
    "execution": {
     "iopub.execute_input": "2025-08-19T18:28:59.590606Z",
     "iopub.status.busy": "2025-08-19T18:28:59.590282Z",
     "iopub.status.idle": "2025-08-19T18:28:59.598567Z",
     "shell.execute_reply": "2025-08-19T18:28:59.597729Z"
    },
    "papermill": {
     "duration": 0.024494,
     "end_time": "2025-08-19T18:28:59.601412",
     "exception": false,
     "start_time": "2025-08-19T18:28:59.576918",
     "status": "completed"
    },
    "tags": []
   },
   "outputs": [
    {
     "data": {
      "text/plain": [
       "accuracy                   0.199632\n",
       "balanced accuracy          0.534516\n",
       "f1                         0.239968\n",
       "precision                  0.136627\n",
       "false positive rate        0.915936\n",
       "false negative rate        0.015033\n",
       "selection rate             0.924791\n",
       "count                  89710.000000\n",
       "dtype: float64"
      ]
     },
     "execution_count": 59,
     "metadata": {},
     "output_type": "execute_result"
    }
   ],
   "source": [
    "metric_frame.overall"
   ]
  },
  {
   "cell_type": "markdown",
   "id": "d93333c9",
   "metadata": {
    "papermill": {
     "duration": 0.016129,
     "end_time": "2025-08-19T18:28:59.632400",
     "exception": false,
     "start_time": "2025-08-19T18:28:59.616271",
     "status": "completed"
    },
    "tags": []
   },
   "source": [
    "By Group"
   ]
  },
  {
   "cell_type": "code",
   "execution_count": 60,
   "id": "52256966",
   "metadata": {
    "execution": {
     "iopub.execute_input": "2025-08-19T18:28:59.662987Z",
     "iopub.status.busy": "2025-08-19T18:28:59.662686Z",
     "iopub.status.idle": "2025-08-19T18:28:59.677351Z",
     "shell.execute_reply": "2025-08-19T18:28:59.676652Z"
    },
    "papermill": {
     "duration": 0.033131,
     "end_time": "2025-08-19T18:28:59.680523",
     "exception": false,
     "start_time": "2025-08-19T18:28:59.647392",
     "status": "completed"
    },
    "tags": []
   },
   "outputs": [
    {
     "data": {
      "text/html": [
       "<div>\n",
       "<style scoped>\n",
       "    .dataframe tbody tr th:only-of-type {\n",
       "        vertical-align: middle;\n",
       "    }\n",
       "\n",
       "    .dataframe tbody tr th {\n",
       "        vertical-align: top;\n",
       "    }\n",
       "\n",
       "    .dataframe thead th {\n",
       "        text-align: right;\n",
       "    }\n",
       "</style>\n",
       "<table border=\"1\" class=\"dataframe\">\n",
       "  <thead>\n",
       "    <tr style=\"text-align: right;\">\n",
       "      <th></th>\n",
       "      <th>accuracy</th>\n",
       "      <th>balanced accuracy</th>\n",
       "      <th>f1</th>\n",
       "      <th>precision</th>\n",
       "      <th>false positive rate</th>\n",
       "      <th>false negative rate</th>\n",
       "      <th>selection rate</th>\n",
       "      <th>count</th>\n",
       "    </tr>\n",
       "    <tr>\n",
       "      <th>majmin</th>\n",
       "      <th></th>\n",
       "      <th></th>\n",
       "      <th></th>\n",
       "      <th></th>\n",
       "      <th></th>\n",
       "      <th></th>\n",
       "      <th></th>\n",
       "      <th></th>\n",
       "    </tr>\n",
       "  </thead>\n",
       "  <tbody>\n",
       "    <tr>\n",
       "      <th>majority</th>\n",
       "      <td>0.203846</td>\n",
       "      <td>0.536490</td>\n",
       "      <td>0.247081</td>\n",
       "      <td>0.141183</td>\n",
       "      <td>0.915642</td>\n",
       "      <td>0.011379</td>\n",
       "      <td>0.925286</td>\n",
       "      <td>69170.0</td>\n",
       "    </tr>\n",
       "    <tr>\n",
       "      <th>minority</th>\n",
       "      <td>0.185443</td>\n",
       "      <td>0.526978</td>\n",
       "      <td>0.215575</td>\n",
       "      <td>0.121249</td>\n",
       "      <td>0.916905</td>\n",
       "      <td>0.029139</td>\n",
       "      <td>0.923126</td>\n",
       "      <td>20540.0</td>\n",
       "    </tr>\n",
       "  </tbody>\n",
       "</table>\n",
       "</div>"
      ],
      "text/plain": [
       "          accuracy  balanced accuracy        f1  precision  \\\n",
       "majmin                                                       \n",
       "majority  0.203846           0.536490  0.247081   0.141183   \n",
       "minority  0.185443           0.526978  0.215575   0.121249   \n",
       "\n",
       "          false positive rate  false negative rate  selection rate    count  \n",
       "majmin                                                                       \n",
       "majority             0.915642             0.011379        0.925286  69170.0  \n",
       "minority             0.916905             0.029139        0.923126  20540.0  "
      ]
     },
     "execution_count": 60,
     "metadata": {},
     "output_type": "execute_result"
    }
   ],
   "source": [
    "metric_frame.by_group"
   ]
  },
  {
   "cell_type": "code",
   "execution_count": 61,
   "id": "6e6c20ae",
   "metadata": {
    "execution": {
     "iopub.execute_input": "2025-08-19T18:28:59.709290Z",
     "iopub.status.busy": "2025-08-19T18:28:59.709014Z",
     "iopub.status.idle": "2025-08-19T18:29:01.500907Z",
     "shell.execute_reply": "2025-08-19T18:29:01.498271Z"
    },
    "papermill": {
     "duration": 1.807419,
     "end_time": "2025-08-19T18:29:01.502979",
     "exception": false,
     "start_time": "2025-08-19T18:28:59.695560",
     "status": "completed"
    },
    "tags": []
   },
   "outputs": [
    {
     "data": {
      "text/plain": [
       "array([[<Axes: title={'center': 'accuracy'}, xlabel='majmin'>,\n",
       "        <Axes: title={'center': 'balanced accuracy'}, xlabel='majmin'>,\n",
       "        <Axes: title={'center': 'f1'}, xlabel='majmin'>],\n",
       "       [<Axes: title={'center': 'precision'}, xlabel='majmin'>,\n",
       "        <Axes: title={'center': 'false positive rate'}, xlabel='majmin'>,\n",
       "        <Axes: title={'center': 'false negative rate'}, xlabel='majmin'>],\n",
       "       [<Axes: title={'center': 'selection rate'}, xlabel='majmin'>,\n",
       "        <Axes: title={'center': 'count'}, xlabel='majmin'>,\n",
       "        <Axes: xlabel='majmin'>]], dtype=object)"
      ]
     },
     "execution_count": 61,
     "metadata": {},
     "output_type": "execute_result"
    },
    {
     "data": {
      "image/png": "[encoded data removed]",
      "text/plain": [
       "<Figure size 1200x800 with 9 Axes>"
      ]
     },
     "metadata": {},
     "output_type": "display_data"
    }
   ],
   "source": [
    "# In a graphic\n",
    "metric_frame.by_group.plot.bar(\n",
    "    subplots=True,\n",
    "    layout=[3, 3],\n",
    "    legend=False,\n",
    "    figsize=[12, 8],\n",
    "    title=\"Show all metrics\",\n",
    ")"
   ]
  },
  {
   "cell_type": "markdown",
   "id": "b2e433ae",
   "metadata": {
    "papermill": {
     "duration": 0.01369,
     "end_time": "2025-08-19T18:29:01.531306",
     "exception": false,
     "start_time": "2025-08-19T18:29:01.517616",
     "status": "completed"
    },
    "tags": []
   },
   "source": [
    "# Final Output"
   ]
  },
  {
   "cell_type": "code",
   "execution_count": 62,
   "id": "3871301e",
   "metadata": {
    "execution": {
     "iopub.execute_input": "2025-08-19T18:29:01.562443Z",
     "iopub.status.busy": "2025-08-19T18:29:01.561502Z",
     "iopub.status.idle": "2025-08-19T18:29:01.571460Z",
     "shell.execute_reply": "2025-08-19T18:29:01.570559Z"
    },
    "papermill": {
     "duration": 0.03225,
     "end_time": "2025-08-19T18:29:01.578300",
     "exception": false,
     "start_time": "2025-08-19T18:29:01.546050",
     "status": "completed"
    },
    "tags": []
   },
   "outputs": [
    {
     "data": {
      "text/plain": [
       "4"
      ]
     },
     "execution_count": 62,
     "metadata": {},
     "output_type": "execute_result"
    }
   ],
   "source": [
    "sub_universes = universe_analysis.generate_sub_universes()\n",
    "len(sub_universes)"
   ]
  },
  {
   "cell_type": "code",
   "execution_count": 63,
   "id": "d9cfdaca",
   "metadata": {
    "execution": {
     "iopub.execute_input": "2025-08-19T18:29:01.610005Z",
     "iopub.status.busy": "2025-08-19T18:29:01.609025Z",
     "iopub.status.idle": "2025-08-19T18:29:01.617434Z",
     "shell.execute_reply": "2025-08-19T18:29:01.616259Z"
    },
    "papermill": {
     "duration": 0.028242,
     "end_time": "2025-08-19T18:29:01.620396",
     "exception": false,
     "start_time": "2025-08-19T18:29:01.592154",
     "status": "completed"
    },
    "tags": []
   },
   "outputs": [],
   "source": [
    "def filter_sub_universe_data(sub_universe, org_test):\n",
    "    # Keep all rows — no filtering\n",
    "    keep_rows_mask = np.ones(org_test.shape[0], dtype=bool)\n",
    "\n",
    "    print(f\"[INFO] Keeping all rows: {keep_rows_mask.sum()} rows retained.\")\n",
    "    return keep_rows_mask"
   ]
  },
  {
   "cell_type": "code",
   "execution_count": 64,
   "id": "2bc31ac1",
   "metadata": {
    "execution": {
     "iopub.execute_input": "2025-08-19T18:29:01.652428Z",
     "iopub.status.busy": "2025-08-19T18:29:01.652083Z",
     "iopub.status.idle": "2025-08-19T18:29:08.394186Z",
     "shell.execute_reply": "2025-08-19T18:29:08.393177Z"
    },
    "papermill": {
     "duration": 6.757893,
     "end_time": "2025-08-19T18:29:08.395606",
     "exception": false,
     "start_time": "2025-08-19T18:29:01.637713",
     "status": "completed"
    },
    "tags": []
   },
   "outputs": [
    {
     "name": "stdout",
     "output_type": "stream",
     "text": [
      "Stopping execution_time clock.\n",
      "[INFO] Keeping all rows: 89710 rows retained.\n"
     ]
    },
    {
     "name": "stdout",
     "output_type": "stream",
     "text": [
      "[INFO] Keeping all rows: 89710 rows retained.\n"
     ]
    },
    {
     "name": "stdout",
     "output_type": "stream",
     "text": [
      "[INFO] Keeping all rows: 89710 rows retained.\n"
     ]
    },
    {
     "name": "stdout",
     "output_type": "stream",
     "text": [
      "[INFO] Keeping all rows: 89710 rows retained.\n"
     ]
    },
    {
     "data": {
      "text/html": [
       "<div>\n",
       "<style scoped>\n",
       "    .dataframe tbody tr th:only-of-type {\n",
       "        vertical-align: middle;\n",
       "    }\n",
       "\n",
       "    .dataframe tbody tr th {\n",
       "        vertical-align: top;\n",
       "    }\n",
       "\n",
       "    .dataframe thead th {\n",
       "        text-align: right;\n",
       "    }\n",
       "</style>\n",
       "<table border=\"1\" class=\"dataframe\">\n",
       "  <thead>\n",
       "    <tr style=\"text-align: right;\">\n",
       "      <th></th>\n",
       "      <th>run_no</th>\n",
       "      <th>universe_id</th>\n",
       "      <th>universe_settings</th>\n",
       "      <th>execution_time</th>\n",
       "      <th>test_size_n</th>\n",
       "      <th>test_size_frac</th>\n",
       "      <th>fair_main_equalized_odds_difference</th>\n",
       "      <th>fair_main_equalized_odds_ratio</th>\n",
       "      <th>fair_main_demographic_parity_difference</th>\n",
       "      <th>fair_main_demographic_parity_ratio</th>\n",
       "      <th>...</th>\n",
       "      <th>perf_grp_precision_0</th>\n",
       "      <th>perf_grp_precision_1</th>\n",
       "      <th>perf_grp_false positive rate_0</th>\n",
       "      <th>perf_grp_false positive rate_1</th>\n",
       "      <th>perf_grp_false negative rate_0</th>\n",
       "      <th>perf_grp_false negative rate_1</th>\n",
       "      <th>perf_grp_selection rate_0</th>\n",
       "      <th>perf_grp_selection rate_1</th>\n",
       "      <th>perf_grp_count_0</th>\n",
       "      <th>perf_grp_count_1</th>\n",
       "    </tr>\n",
       "  </thead>\n",
       "  <tbody>\n",
       "    <tr>\n",
       "      <th>0</th>\n",
       "      <td>3</td>\n",
       "      <td>567c21be0f0ea5abd5da38f5438df2a0</td>\n",
       "      <td>{\"cutoff\": \"quantile_0.1\", \"eval_fairness_grou...</td>\n",
       "      <td>28.061457</td>\n",
       "      <td>89710</td>\n",
       "      <td>1.0</td>\n",
       "      <td>0.017760</td>\n",
       "      <td>0.982036</td>\n",
       "      <td>0.002160</td>\n",
       "      <td>0.997666</td>\n",
       "      <td>...</td>\n",
       "      <td>NaN</td>\n",
       "      <td>NaN</td>\n",
       "      <td>NaN</td>\n",
       "      <td>NaN</td>\n",
       "      <td>NaN</td>\n",
       "      <td>NaN</td>\n",
       "      <td>NaN</td>\n",
       "      <td>NaN</td>\n",
       "      <td>NaN</td>\n",
       "      <td>NaN</td>\n",
       "    </tr>\n",
       "    <tr>\n",
       "      <th>0</th>\n",
       "      <td>3</td>\n",
       "      <td>567c21be0f0ea5abd5da38f5438df2a0</td>\n",
       "      <td>{\"cutoff\": \"quantile_0.1\", \"eval_fairness_grou...</td>\n",
       "      <td>28.061457</td>\n",
       "      <td>89710</td>\n",
       "      <td>1.0</td>\n",
       "      <td>0.017760</td>\n",
       "      <td>0.982036</td>\n",
       "      <td>0.002160</td>\n",
       "      <td>0.997666</td>\n",
       "      <td>...</td>\n",
       "      <td>0.121249</td>\n",
       "      <td>0.141183</td>\n",
       "      <td>0.916905</td>\n",
       "      <td>0.915642</td>\n",
       "      <td>0.029139</td>\n",
       "      <td>0.011379</td>\n",
       "      <td>0.923126</td>\n",
       "      <td>0.925286</td>\n",
       "      <td>20540.0</td>\n",
       "      <td>69170.0</td>\n",
       "    </tr>\n",
       "    <tr>\n",
       "      <th>0</th>\n",
       "      <td>3</td>\n",
       "      <td>567c21be0f0ea5abd5da38f5438df2a0</td>\n",
       "      <td>{\"cutoff\": \"quantile_0.25\", \"eval_fairness_gro...</td>\n",
       "      <td>28.061457</td>\n",
       "      <td>89710</td>\n",
       "      <td>1.0</td>\n",
       "      <td>0.047726</td>\n",
       "      <td>0.949548</td>\n",
       "      <td>0.007057</td>\n",
       "      <td>0.990759</td>\n",
       "      <td>...</td>\n",
       "      <td>NaN</td>\n",
       "      <td>NaN</td>\n",
       "      <td>NaN</td>\n",
       "      <td>NaN</td>\n",
       "      <td>NaN</td>\n",
       "      <td>NaN</td>\n",
       "      <td>NaN</td>\n",
       "      <td>NaN</td>\n",
       "      <td>NaN</td>\n",
       "      <td>NaN</td>\n",
       "    </tr>\n",
       "    <tr>\n",
       "      <th>0</th>\n",
       "      <td>3</td>\n",
       "      <td>567c21be0f0ea5abd5da38f5438df2a0</td>\n",
       "      <td>{\"cutoff\": \"quantile_0.25\", \"eval_fairness_gro...</td>\n",
       "      <td>28.061457</td>\n",
       "      <td>89710</td>\n",
       "      <td>1.0</td>\n",
       "      <td>0.047726</td>\n",
       "      <td>0.949548</td>\n",
       "      <td>0.007057</td>\n",
       "      <td>0.990759</td>\n",
       "      <td>...</td>\n",
       "      <td>0.135590</td>\n",
       "      <td>0.165192</td>\n",
       "      <td>0.746203</td>\n",
       "      <td>0.727853</td>\n",
       "      <td>0.101774</td>\n",
       "      <td>0.054048</td>\n",
       "      <td>0.763729</td>\n",
       "      <td>0.756672</td>\n",
       "      <td>20540.0</td>\n",
       "      <td>69170.0</td>\n",
       "    </tr>\n",
       "  </tbody>\n",
       "</table>\n",
       "<p>4 rows × 50 columns</p>\n",
       "</div>"
      ],
      "text/plain": [
       "  run_no                       universe_id  \\\n",
       "0      3  567c21be0f0ea5abd5da38f5438df2a0   \n",
       "0      3  567c21be0f0ea5abd5da38f5438df2a0   \n",
       "0      3  567c21be0f0ea5abd5da38f5438df2a0   \n",
       "0      3  567c21be0f0ea5abd5da38f5438df2a0   \n",
       "\n",
       "                                   universe_settings  execution_time  \\\n",
       "0  {\"cutoff\": \"quantile_0.1\", \"eval_fairness_grou...       28.061457   \n",
       "0  {\"cutoff\": \"quantile_0.1\", \"eval_fairness_grou...       28.061457   \n",
       "0  {\"cutoff\": \"quantile_0.25\", \"eval_fairness_gro...       28.061457   \n",
       "0  {\"cutoff\": \"quantile_0.25\", \"eval_fairness_gro...       28.061457   \n",
       "\n",
       "   test_size_n  test_size_frac  fair_main_equalized_odds_difference  \\\n",
       "0        89710             1.0                             0.017760   \n",
       "0        89710             1.0                             0.017760   \n",
       "0        89710             1.0                             0.047726   \n",
       "0        89710             1.0                             0.047726   \n",
       "\n",
       "   fair_main_equalized_odds_ratio  fair_main_demographic_parity_difference  \\\n",
       "0                        0.982036                                 0.002160   \n",
       "0                        0.982036                                 0.002160   \n",
       "0                        0.949548                                 0.007057   \n",
       "0                        0.949548                                 0.007057   \n",
       "\n",
       "   fair_main_demographic_parity_ratio  ...  perf_grp_precision_0  \\\n",
       "0                            0.997666  ...                   NaN   \n",
       "0                            0.997666  ...              0.121249   \n",
       "0                            0.990759  ...                   NaN   \n",
       "0                            0.990759  ...              0.135590   \n",
       "\n",
       "   perf_grp_precision_1  perf_grp_false positive rate_0  \\\n",
       "0                   NaN                             NaN   \n",
       "0              0.141183                        0.916905   \n",
       "0                   NaN                             NaN   \n",
       "0              0.165192                        0.746203   \n",
       "\n",
       "   perf_grp_false positive rate_1  perf_grp_false negative rate_0  \\\n",
       "0                             NaN                             NaN   \n",
       "0                        0.915642                        0.029139   \n",
       "0                             NaN                             NaN   \n",
       "0                        0.727853                        0.101774   \n",
       "\n",
       "   perf_grp_false negative rate_1  perf_grp_selection rate_0  \\\n",
       "0                             NaN                        NaN   \n",
       "0                        0.011379                   0.923126   \n",
       "0                             NaN                        NaN   \n",
       "0                        0.054048                   0.763729   \n",
       "\n",
       "   perf_grp_selection rate_1  perf_grp_count_0  perf_grp_count_1  \n",
       "0                        NaN               NaN               NaN  \n",
       "0                   0.925286           20540.0           69170.0  \n",
       "0                        NaN               NaN               NaN  \n",
       "0                   0.756672           20540.0           69170.0  \n",
       "\n",
       "[4 rows x 50 columns]"
      ]
     },
     "execution_count": 64,
     "metadata": {},
     "output_type": "execute_result"
    }
   ],
   "source": [
    "final_output = universe_analysis.generate_final_output(\n",
    "    y_pred_prob=probs_test,\n",
    "    y_test=y_true,\n",
    "    org_test=org_test,\n",
    "    filter_data=filter_sub_universe_data,\n",
    "    cp_metrics_df=cp_metrics_df,\n",
    "    save=True,\n",
    ")\n",
    "final_output"
   ]
  },
  {
   "cell_type": "code",
   "execution_count": null,
   "id": "8b80a1ff",
   "metadata": {
    "papermill": {
     "duration": 0.015204,
     "end_time": "2025-08-19T18:29:08.431720",
     "exception": false,
     "start_time": "2025-08-19T18:29:08.416516",
     "status": "completed"
    },
    "tags": []
   },
   "outputs": [],
   "source": []
  },
  {
   "cell_type": "code",
   "execution_count": null,
   "id": "275c9fad",
   "metadata": {
    "papermill": {
     "duration": 0.014374,
     "end_time": "2025-08-19T18:29:08.460562",
     "exception": false,
     "start_time": "2025-08-19T18:29:08.446188",
     "status": "completed"
    },
    "tags": []
   },
   "outputs": [],
   "source": []
  }
 ],
 "metadata": {
  "celltoolbar": "Tags",
  "kernelspec": {
   "display_name": "Python (CMA Fairness)",
   "language": "python",
   "name": "cma_fair_env"
  },
  "language_info": {
   "codemirror_mode": {
    "name": "ipython",
    "version": 3
   },
   "file_extension": ".py",
   "mimetype": "text/x-python",
   "name": "python",
   "nbconvert_exporter": "python",
   "pygments_lexer": "ipython3",
   "version": "3.10.12"
  },
  "papermill": {
   "default_parameters": {},
   "duration": 38.93021,
   "end_time": "2025-08-19T18:29:09.297568",
   "environment_variables": {},
   "exception": null,
   "input_path": "universe_analysis.ipynb",
   "output_path": "output/runs/3/notebooks/m_3-567c21be0f0ea5abd5da38f5438df2a0.ipynb",
   "parameters": {
    "output_dir": "output",
    "run_no": "3",
    "seed": "2023",
    "universe": "{\"cutoff\": [\"quantile_0.1\", \"quantile_0.25\"], \"eval_fairness_grouping\": [\"majority-minority\", \"nationality-all\"], \"exclude_features\": \"sex\", \"exclude_subgroups\": \"drop-non-german\", \"model\": \"rf\", \"scale\": \"do-not-scale\", \"training_size\": \"5k\", \"training_year\": \"2014\"}",
    "universe_id": "567c21be0f0ea5abd5da38f5438df2a0"
   },
   "start_time": "2025-08-19T18:28:30.367358",
   "version": "2.6.0"
  }
 },
 "nbformat": 4,
 "nbformat_minor": 5
}