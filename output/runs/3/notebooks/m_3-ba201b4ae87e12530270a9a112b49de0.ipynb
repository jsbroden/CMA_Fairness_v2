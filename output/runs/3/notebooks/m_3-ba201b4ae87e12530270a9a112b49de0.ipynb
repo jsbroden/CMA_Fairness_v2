{
 "cells": [
  {
   "cell_type": "markdown",
   "id": "ef23dbb3",
   "metadata": {
    "papermill": {
     "duration": 0.019189,
     "end_time": "2025-08-19T18:38:20.709290",
     "exception": false,
     "start_time": "2025-08-19T18:38:20.690101",
     "status": "completed"
    },
    "tags": []
   },
   "source": [
    "# Setup"
   ]
  },
  {
   "cell_type": "code",
   "execution_count": 1,
   "id": "0bc8e7dc",
   "metadata": {
    "execution": {
     "iopub.execute_input": "2025-08-19T18:38:20.750718Z",
     "iopub.status.busy": "2025-08-19T18:38:20.750325Z",
     "iopub.status.idle": "2025-08-19T18:38:20.759876Z",
     "shell.execute_reply": "2025-08-19T18:38:20.759233Z"
    },
    "papermill": {
     "duration": 0.032205,
     "end_time": "2025-08-19T18:38:20.761191",
     "exception": false,
     "start_time": "2025-08-19T18:38:20.728986",
     "status": "completed"
    },
    "tags": []
   },
   "outputs": [
    {
     "name": "stdout",
     "output_type": "stream",
     "text": [
      "/dss/dsshome1/0C/ra93lal2/cma/CMA_Fairness_v2\n"
     ]
    },
    {
     "name": "stderr",
     "output_type": "stream",
     "text": [
      "/dss/dsshome1/0C/ra93lal2/.local/share/virtualenvs/CMA_Fairness_v2-3j10GkSs/lib/python3.10/site-packages/IPython/core/magics/osm.py:393: UserWarning: This is now an optional IPython functionality, using bookmarks requires you to install the `pickleshare` library.\n",
      "  bkms = self.shell.db.get('bookmarks', {})\n",
      "/dss/dsshome1/0C/ra93lal2/.local/share/virtualenvs/CMA_Fairness_v2-3j10GkSs/lib/python3.10/site-packages/IPython/core/magics/osm.py:417: UserWarning: This is now an optional IPython functionality, setting dhist requires you to install the `pickleshare` library.\n",
      "  self.shell.db['dhist'] = compress_dhist(dhist)[-100:]\n"
     ]
    }
   ],
   "source": [
    "%cd ~/cma/CMA_Fairness_v2"
   ]
  },
  {
   "cell_type": "markdown",
   "id": "9d235661",
   "metadata": {
    "papermill": {
     "duration": 0.012462,
     "end_time": "2025-08-19T18:38:20.786322",
     "exception": false,
     "start_time": "2025-08-19T18:38:20.773860",
     "status": "completed"
    },
    "tags": []
   },
   "source": [
    "The following cell holds the definition of our parameters, these values can be overriden by rendering the with e.g. the following command:\n",
    "\n",
    "papermill -p alpha 0.2 -p ratio 0.3 universe_analysis.ipynb output/test_run.ipynb"
   ]
  },
  {
   "cell_type": "code",
   "execution_count": 2,
   "id": "4a789d8e",
   "metadata": {
    "execution": {
     "iopub.execute_input": "2025-08-19T18:38:20.812182Z",
     "iopub.status.busy": "2025-08-19T18:38:20.811165Z",
     "iopub.status.idle": "2025-08-19T18:38:20.820342Z",
     "shell.execute_reply": "2025-08-19T18:38:20.818516Z"
    },
    "papermill": {
     "duration": 0.028376,
     "end_time": "2025-08-19T18:38:20.826529",
     "exception": false,
     "start_time": "2025-08-19T18:38:20.798153",
     "status": "completed"
    },
    "tags": []
   },
   "outputs": [
    {
     "name": "stdout",
     "output_type": "stream",
     "text": [
      "Current working directory: /dss/dsshome1/0C/ra93lal2/cma/CMA_Fairness_v2\n"
     ]
    }
   ],
   "source": [
    "import os\n",
    "print(\"Current working directory:\", os.getcwd())"
   ]
  },
  {
   "cell_type": "code",
   "execution_count": 3,
   "id": "4132aaed",
   "metadata": {
    "execution": {
     "iopub.execute_input": "2025-08-19T18:38:20.854892Z",
     "iopub.status.busy": "2025-08-19T18:38:20.854583Z",
     "iopub.status.idle": "2025-08-19T18:38:20.859290Z",
     "shell.execute_reply": "2025-08-19T18:38:20.858592Z"
    },
    "papermill": {
     "duration": 0.01935,
     "end_time": "2025-08-19T18:38:20.861097",
     "exception": false,
     "start_time": "2025-08-19T18:38:20.841747",
     "status": "completed"
    },
    "tags": [
     "parameters"
    ]
   },
   "outputs": [],
   "source": [
    "run_no = 0\n",
    "universe_id = \"test\"\n",
    "universe = {\n",
    "    \"training_size\": \"5k\", # \"25k\", \"5k\", \"1k\"\n",
    "    \"training_year\": \"2012_14\", # \"2014\", \"2012_14\", \"2010_14\"\n",
    "    \"scale\": \"scale\", # \"scale\", \"do-not-scale\",\n",
    "    \"model\": \"elasticnet\", # \"logreg\", \"penalized_logreg\", \"rf\", \"gbm\", \"elasticnet\"\n",
    "    \"cutoff\": [\"quantile_0.15\", \"quantile_0.30\"],\n",
    "    \"exclude_features\": \"age\", # \"none\", \"nationality\", \"sex\", \"nationality-sex\", \"age\"\n",
    "    \"exclude_subgroups\": \"drop-non-german\", # \"keep-all\", \"drop-non-german\"\n",
    "    \"eval_fairness_grouping\": [\"majority-minority\", \"nationality-all\"]\n",
    "}\n",
    "\n",
    "output_dir=\"./output\"\n",
    "seed=0"
   ]
  },
  {
   "cell_type": "code",
   "execution_count": 4,
   "id": "da99f197",
   "metadata": {
    "execution": {
     "iopub.execute_input": "2025-08-19T18:38:20.884175Z",
     "iopub.status.busy": "2025-08-19T18:38:20.883774Z",
     "iopub.status.idle": "2025-08-19T18:38:20.888191Z",
     "shell.execute_reply": "2025-08-19T18:38:20.887581Z"
    },
    "papermill": {
     "duration": 0.017734,
     "end_time": "2025-08-19T18:38:20.890239",
     "exception": false,
     "start_time": "2025-08-19T18:38:20.872505",
     "status": "completed"
    },
    "tags": [
     "injected-parameters"
    ]
   },
   "outputs": [],
   "source": [
    "# Parameters\n",
    "universe_id = \"ba201b4ae87e12530270a9a112b49de0\"\n",
    "run_no = \"3\"\n",
    "universe = \"{\\\"cutoff\\\": [\\\"quantile_0.1\\\", \\\"quantile_0.25\\\"], \\\"eval_fairness_grouping\\\": [\\\"majority-minority\\\", \\\"nationality-all\\\"], \\\"exclude_features\\\": \\\"age\\\", \\\"exclude_subgroups\\\": \\\"keep-all\\\", \\\"model\\\": \\\"gbm\\\", \\\"scale\\\": \\\"do-not-scale\\\", \\\"training_size\\\": \\\"5k\\\", \\\"training_year\\\": \\\"2012_14\\\"}\"\n",
    "output_dir = \"output\"\n",
    "seed = \"2023\"\n"
   ]
  },
  {
   "cell_type": "code",
   "execution_count": 5,
   "id": "a5d7941f",
   "metadata": {
    "execution": {
     "iopub.execute_input": "2025-08-19T18:38:20.930720Z",
     "iopub.status.busy": "2025-08-19T18:38:20.930177Z",
     "iopub.status.idle": "2025-08-19T18:38:20.934760Z",
     "shell.execute_reply": "2025-08-19T18:38:20.934083Z"
    },
    "papermill": {
     "duration": 0.024217,
     "end_time": "2025-08-19T18:38:20.937008",
     "exception": false,
     "start_time": "2025-08-19T18:38:20.912791",
     "status": "completed"
    },
    "tags": []
   },
   "outputs": [],
   "source": [
    "import json\n",
    "if isinstance(universe, str):\n",
    "    universe = json.loads(universe)"
   ]
  },
  {
   "cell_type": "code",
   "execution_count": 6,
   "id": "7076ccb1",
   "metadata": {
    "execution": {
     "iopub.execute_input": "2025-08-19T18:38:20.957740Z",
     "iopub.status.busy": "2025-08-19T18:38:20.957366Z",
     "iopub.status.idle": "2025-08-19T18:38:21.054876Z",
     "shell.execute_reply": "2025-08-19T18:38:21.054174Z"
    },
    "papermill": {
     "duration": 0.109036,
     "end_time": "2025-08-19T18:38:21.056524",
     "exception": false,
     "start_time": "2025-08-19T18:38:20.947488",
     "status": "completed"
    },
    "tags": []
   },
   "outputs": [],
   "source": [
    "# Auto-reload the custom package\n",
    "%load_ext autoreload\n",
    "%autoreload 1\n",
    "%aimport fairness_multiverse"
   ]
  },
  {
   "cell_type": "code",
   "execution_count": 7,
   "id": "94c8eb93",
   "metadata": {
    "execution": {
     "iopub.execute_input": "2025-08-19T18:38:21.109075Z",
     "iopub.status.busy": "2025-08-19T18:38:21.108688Z",
     "iopub.status.idle": "2025-08-19T18:38:23.878371Z",
     "shell.execute_reply": "2025-08-19T18:38:23.877485Z"
    },
    "papermill": {
     "duration": 2.799195,
     "end_time": "2025-08-19T18:38:23.879886",
     "exception": false,
     "start_time": "2025-08-19T18:38:21.080691",
     "status": "completed"
    },
    "tags": []
   },
   "outputs": [],
   "source": [
    "from fairness_multiverse.universe import UniverseAnalysis\n",
    "\n",
    "universe_analysis = UniverseAnalysis(\n",
    "    run_no = run_no,\n",
    "    universe_id = universe_id,\n",
    "    universe = universe,\n",
    "    output_dir=output_dir,\n",
    ")"
   ]
  },
  {
   "cell_type": "code",
   "execution_count": 8,
   "id": "2a6381cf",
   "metadata": {
    "execution": {
     "iopub.execute_input": "2025-08-19T18:38:23.911391Z",
     "iopub.status.busy": "2025-08-19T18:38:23.910995Z",
     "iopub.status.idle": "2025-08-19T18:38:23.915957Z",
     "shell.execute_reply": "2025-08-19T18:38:23.915311Z"
    },
    "papermill": {
     "duration": 0.020137,
     "end_time": "2025-08-19T18:38:23.917679",
     "exception": false,
     "start_time": "2025-08-19T18:38:23.897542",
     "status": "completed"
    },
    "tags": []
   },
   "outputs": [
    {
     "name": "stdout",
     "output_type": "stream",
     "text": [
      "Using Seed: 2023\n"
     ]
    }
   ],
   "source": [
    "import numpy as np\n",
    "parsed_seed = int(seed)\n",
    "np.random.seed(parsed_seed)\n",
    "print(f\"Using Seed: {parsed_seed}\")"
   ]
  },
  {
   "cell_type": "markdown",
   "id": "b6e958b4",
   "metadata": {
    "papermill": {
     "duration": 0.026806,
     "end_time": "2025-08-19T18:38:23.961190",
     "exception": false,
     "start_time": "2025-08-19T18:38:23.934384",
     "status": "completed"
    },
    "tags": []
   },
   "source": [
    "# Loading Data"
   ]
  },
  {
   "cell_type": "code",
   "execution_count": 9,
   "id": "98701482",
   "metadata": {
    "execution": {
     "iopub.execute_input": "2025-08-19T18:38:24.011077Z",
     "iopub.status.busy": "2025-08-19T18:38:24.010352Z",
     "iopub.status.idle": "2025-08-19T18:38:36.782618Z",
     "shell.execute_reply": "2025-08-19T18:38:36.781629Z"
    },
    "papermill": {
     "duration": 12.811671,
     "end_time": "2025-08-19T18:38:36.783880",
     "exception": false,
     "start_time": "2025-08-19T18:38:23.972209",
     "status": "completed"
    },
    "tags": []
   },
   "outputs": [
    {
     "name": "stdout",
     "output_type": "stream",
     "text": [
      "Loading SIAB data from cache: data/siab_cached.csv.gz\n"
     ]
    },
    {
     "name": "stdout",
     "output_type": "stream",
     "text": [
      "(643690, 164)\n"
     ]
    }
   ],
   "source": [
    "from pathlib import Path\n",
    "import pandas as pd\n",
    "\n",
    "# File paths\n",
    "raw_file = Path(\"data/raw/siab.csv\")\n",
    "cache_file = Path(\"data/siab_cached.csv.gz\")\n",
    "\n",
    "# Ensure cache directory exists\n",
    "cache_file.parent.mkdir(parents=True, exist_ok=True)\n",
    "\n",
    "# Load with simple caching\n",
    "if cache_file.exists():\n",
    "    print(f\"Loading SIAB data from cache: {cache_file}\")\n",
    "    siab = pd.read_csv(cache_file, compression='gzip')\n",
    "else:\n",
    "    print(f\"Cache not found. Reading raw SIAB data: {raw_file}\")\n",
    "    siab = pd.read_csv(raw_file)\n",
    "    siab.to_csv(cache_file, index=False, compression='gzip')\n",
    "    print(f\"Cached SIAB data to: {cache_file}\")\n",
    "\n",
    "print(siab.shape)"
   ]
  },
  {
   "cell_type": "code",
   "execution_count": 10,
   "id": "058d2abb",
   "metadata": {
    "execution": {
     "iopub.execute_input": "2025-08-19T18:38:36.830823Z",
     "iopub.status.busy": "2025-08-19T18:38:36.830377Z",
     "iopub.status.idle": "2025-08-19T18:38:36.963681Z",
     "shell.execute_reply": "2025-08-19T18:38:36.962785Z"
    },
    "papermill": {
     "duration": 0.160406,
     "end_time": "2025-08-19T18:38:36.965056",
     "exception": false,
     "start_time": "2025-08-19T18:38:36.804650",
     "status": "completed"
    },
    "tags": []
   },
   "outputs": [
    {
     "data": {
      "text/html": [
       "<div>\n",
       "<style scoped>\n",
       "    .dataframe tbody tr th:only-of-type {\n",
       "        vertical-align: middle;\n",
       "    }\n",
       "\n",
       "    .dataframe tbody tr th {\n",
       "        vertical-align: top;\n",
       "    }\n",
       "\n",
       "    .dataframe thead th {\n",
       "        text-align: right;\n",
       "    }\n",
       "</style>\n",
       "<table border=\"1\" class=\"dataframe\">\n",
       "  <thead>\n",
       "    <tr style=\"text-align: right;\">\n",
       "      <th></th>\n",
       "      <th>persnr</th>\n",
       "      <th>year</th>\n",
       "      <th>nrEntry</th>\n",
       "      <th>ltue</th>\n",
       "      <th>employed_before</th>\n",
       "      <th>receipt_leh_before</th>\n",
       "      <th>receipt_lhg_before</th>\n",
       "      <th>se_before</th>\n",
       "      <th>ASU_notue_seeking_before</th>\n",
       "      <th>ASU_other_before</th>\n",
       "      <th>...</th>\n",
       "      <th>minijob_tot_dur_byage</th>\n",
       "      <th>ft_tot_dur_byage</th>\n",
       "      <th>befrist_tot_dur_byage</th>\n",
       "      <th>leih_tot_dur_byage</th>\n",
       "      <th>LHG_tot_dur_byage</th>\n",
       "      <th>LEH_tot_dur_byage</th>\n",
       "      <th>almp_tot_dur_byage</th>\n",
       "      <th>almp_aw_tot_dur_byage</th>\n",
       "      <th>se_tot_dur_byage</th>\n",
       "      <th>seeking1_tot_dur_byage</th>\n",
       "    </tr>\n",
       "  </thead>\n",
       "  <tbody>\n",
       "    <tr>\n",
       "      <th>0</th>\n",
       "      <td>7</td>\n",
       "      <td>2015</td>\n",
       "      <td>1</td>\n",
       "      <td>0</td>\n",
       "      <td>1</td>\n",
       "      <td>0</td>\n",
       "      <td>0</td>\n",
       "      <td>0</td>\n",
       "      <td>1</td>\n",
       "      <td>0</td>\n",
       "      <td>...</td>\n",
       "      <td>0.000000</td>\n",
       "      <td>0.000000</td>\n",
       "      <td>15.043478</td>\n",
       "      <td>0.000000</td>\n",
       "      <td>0.000000</td>\n",
       "      <td>0.000000</td>\n",
       "      <td>0.000000</td>\n",
       "      <td>0.000000</td>\n",
       "      <td>0.000000</td>\n",
       "      <td>0.000000</td>\n",
       "    </tr>\n",
       "    <tr>\n",
       "      <th>1</th>\n",
       "      <td>18</td>\n",
       "      <td>2010</td>\n",
       "      <td>1</td>\n",
       "      <td>1</td>\n",
       "      <td>0</td>\n",
       "      <td>0</td>\n",
       "      <td>0</td>\n",
       "      <td>0</td>\n",
       "      <td>0</td>\n",
       "      <td>0</td>\n",
       "      <td>...</td>\n",
       "      <td>0.000000</td>\n",
       "      <td>0.000000</td>\n",
       "      <td>0.000000</td>\n",
       "      <td>0.000000</td>\n",
       "      <td>0.000000</td>\n",
       "      <td>0.000000</td>\n",
       "      <td>0.000000</td>\n",
       "      <td>0.000000</td>\n",
       "      <td>0.000000</td>\n",
       "      <td>0.000000</td>\n",
       "    </tr>\n",
       "    <tr>\n",
       "      <th>2</th>\n",
       "      <td>18</td>\n",
       "      <td>2011</td>\n",
       "      <td>2</td>\n",
       "      <td>0</td>\n",
       "      <td>1</td>\n",
       "      <td>0</td>\n",
       "      <td>1</td>\n",
       "      <td>0</td>\n",
       "      <td>1</td>\n",
       "      <td>0</td>\n",
       "      <td>...</td>\n",
       "      <td>2.714286</td>\n",
       "      <td>2.714286</td>\n",
       "      <td>0.000000</td>\n",
       "      <td>0.000000</td>\n",
       "      <td>10.775510</td>\n",
       "      <td>0.000000</td>\n",
       "      <td>8.367347</td>\n",
       "      <td>0.000000</td>\n",
       "      <td>0.000000</td>\n",
       "      <td>9.836735</td>\n",
       "    </tr>\n",
       "    <tr>\n",
       "      <th>3</th>\n",
       "      <td>18</td>\n",
       "      <td>2012</td>\n",
       "      <td>3</td>\n",
       "      <td>0</td>\n",
       "      <td>1</td>\n",
       "      <td>0</td>\n",
       "      <td>1</td>\n",
       "      <td>0</td>\n",
       "      <td>1</td>\n",
       "      <td>0</td>\n",
       "      <td>...</td>\n",
       "      <td>4.200000</td>\n",
       "      <td>4.200000</td>\n",
       "      <td>0.000000</td>\n",
       "      <td>0.000000</td>\n",
       "      <td>12.100000</td>\n",
       "      <td>0.000000</td>\n",
       "      <td>9.400000</td>\n",
       "      <td>0.000000</td>\n",
       "      <td>0.000000</td>\n",
       "      <td>9.960000</td>\n",
       "    </tr>\n",
       "    <tr>\n",
       "      <th>4</th>\n",
       "      <td>18</td>\n",
       "      <td>2012</td>\n",
       "      <td>4</td>\n",
       "      <td>0</td>\n",
       "      <td>1</td>\n",
       "      <td>0</td>\n",
       "      <td>1</td>\n",
       "      <td>0</td>\n",
       "      <td>1</td>\n",
       "      <td>0</td>\n",
       "      <td>...</td>\n",
       "      <td>5.460000</td>\n",
       "      <td>5.460000</td>\n",
       "      <td>0.000000</td>\n",
       "      <td>0.000000</td>\n",
       "      <td>13.360000</td>\n",
       "      <td>0.000000</td>\n",
       "      <td>10.320000</td>\n",
       "      <td>0.000000</td>\n",
       "      <td>0.000000</td>\n",
       "      <td>10.280000</td>\n",
       "    </tr>\n",
       "    <tr>\n",
       "      <th>...</th>\n",
       "      <td>...</td>\n",
       "      <td>...</td>\n",
       "      <td>...</td>\n",
       "      <td>...</td>\n",
       "      <td>...</td>\n",
       "      <td>...</td>\n",
       "      <td>...</td>\n",
       "      <td>...</td>\n",
       "      <td>...</td>\n",
       "      <td>...</td>\n",
       "      <td>...</td>\n",
       "      <td>...</td>\n",
       "      <td>...</td>\n",
       "      <td>...</td>\n",
       "      <td>...</td>\n",
       "      <td>...</td>\n",
       "      <td>...</td>\n",
       "      <td>...</td>\n",
       "      <td>...</td>\n",
       "      <td>...</td>\n",
       "      <td>...</td>\n",
       "    </tr>\n",
       "    <tr>\n",
       "      <th>643685</th>\n",
       "      <td>1827860</td>\n",
       "      <td>2013</td>\n",
       "      <td>1</td>\n",
       "      <td>0</td>\n",
       "      <td>0</td>\n",
       "      <td>0</td>\n",
       "      <td>1</td>\n",
       "      <td>0</td>\n",
       "      <td>0</td>\n",
       "      <td>1</td>\n",
       "      <td>...</td>\n",
       "      <td>0.000000</td>\n",
       "      <td>0.000000</td>\n",
       "      <td>0.000000</td>\n",
       "      <td>0.000000</td>\n",
       "      <td>0.612903</td>\n",
       "      <td>0.000000</td>\n",
       "      <td>0.000000</td>\n",
       "      <td>0.000000</td>\n",
       "      <td>0.000000</td>\n",
       "      <td>0.000000</td>\n",
       "    </tr>\n",
       "    <tr>\n",
       "      <th>643686</th>\n",
       "      <td>1827860</td>\n",
       "      <td>2015</td>\n",
       "      <td>2</td>\n",
       "      <td>1</td>\n",
       "      <td>0</td>\n",
       "      <td>0</td>\n",
       "      <td>1</td>\n",
       "      <td>0</td>\n",
       "      <td>1</td>\n",
       "      <td>0</td>\n",
       "      <td>...</td>\n",
       "      <td>0.000000</td>\n",
       "      <td>0.000000</td>\n",
       "      <td>0.212121</td>\n",
       "      <td>0.212121</td>\n",
       "      <td>17.363636</td>\n",
       "      <td>0.000000</td>\n",
       "      <td>8.909091</td>\n",
       "      <td>0.000000</td>\n",
       "      <td>0.000000</td>\n",
       "      <td>7.121212</td>\n",
       "    </tr>\n",
       "    <tr>\n",
       "      <th>643687</th>\n",
       "      <td>1827860</td>\n",
       "      <td>2016</td>\n",
       "      <td>3</td>\n",
       "      <td>1</td>\n",
       "      <td>0</td>\n",
       "      <td>0</td>\n",
       "      <td>1</td>\n",
       "      <td>1</td>\n",
       "      <td>0</td>\n",
       "      <td>1</td>\n",
       "      <td>...</td>\n",
       "      <td>0.000000</td>\n",
       "      <td>0.000000</td>\n",
       "      <td>0.294118</td>\n",
       "      <td>0.205882</td>\n",
       "      <td>34.705882</td>\n",
       "      <td>0.000000</td>\n",
       "      <td>10.352941</td>\n",
       "      <td>1.705882</td>\n",
       "      <td>1.705882</td>\n",
       "      <td>23.911765</td>\n",
       "    </tr>\n",
       "    <tr>\n",
       "      <th>643688</th>\n",
       "      <td>1827869</td>\n",
       "      <td>2013</td>\n",
       "      <td>1</td>\n",
       "      <td>1</td>\n",
       "      <td>1</td>\n",
       "      <td>0</td>\n",
       "      <td>0</td>\n",
       "      <td>0</td>\n",
       "      <td>1</td>\n",
       "      <td>0</td>\n",
       "      <td>...</td>\n",
       "      <td>0.000000</td>\n",
       "      <td>0.000000</td>\n",
       "      <td>0.000000</td>\n",
       "      <td>0.000000</td>\n",
       "      <td>0.000000</td>\n",
       "      <td>0.525424</td>\n",
       "      <td>0.000000</td>\n",
       "      <td>0.000000</td>\n",
       "      <td>0.000000</td>\n",
       "      <td>0.000000</td>\n",
       "    </tr>\n",
       "    <tr>\n",
       "      <th>643689</th>\n",
       "      <td>1827869</td>\n",
       "      <td>2014</td>\n",
       "      <td>2</td>\n",
       "      <td>0</td>\n",
       "      <td>0</td>\n",
       "      <td>1</td>\n",
       "      <td>0</td>\n",
       "      <td>0</td>\n",
       "      <td>1</td>\n",
       "      <td>0</td>\n",
       "      <td>...</td>\n",
       "      <td>0.000000</td>\n",
       "      <td>0.666667</td>\n",
       "      <td>0.666667</td>\n",
       "      <td>0.000000</td>\n",
       "      <td>0.000000</td>\n",
       "      <td>8.950000</td>\n",
       "      <td>1.033333</td>\n",
       "      <td>0.083333</td>\n",
       "      <td>0.083333</td>\n",
       "      <td>8.133333</td>\n",
       "    </tr>\n",
       "  </tbody>\n",
       "</table>\n",
       "<p>643690 rows × 164 columns</p>\n",
       "</div>"
      ],
      "text/plain": [
       "         persnr  year  nrEntry  ltue  employed_before  receipt_leh_before  \\\n",
       "0             7  2015        1     0                1                   0   \n",
       "1            18  2010        1     1                0                   0   \n",
       "2            18  2011        2     0                1                   0   \n",
       "3            18  2012        3     0                1                   0   \n",
       "4            18  2012        4     0                1                   0   \n",
       "...         ...   ...      ...   ...              ...                 ...   \n",
       "643685  1827860  2013        1     0                0                   0   \n",
       "643686  1827860  2015        2     1                0                   0   \n",
       "643687  1827860  2016        3     1                0                   0   \n",
       "643688  1827869  2013        1     1                1                   0   \n",
       "643689  1827869  2014        2     0                0                   1   \n",
       "\n",
       "        receipt_lhg_before  se_before  ASU_notue_seeking_before  \\\n",
       "0                        0          0                         1   \n",
       "1                        0          0                         0   \n",
       "2                        1          0                         1   \n",
       "3                        1          0                         1   \n",
       "4                        1          0                         1   \n",
       "...                    ...        ...                       ...   \n",
       "643685                   1          0                         0   \n",
       "643686                   1          0                         1   \n",
       "643687                   1          1                         0   \n",
       "643688                   0          0                         1   \n",
       "643689                   0          0                         1   \n",
       "\n",
       "        ASU_other_before  ...  minijob_tot_dur_byage  ft_tot_dur_byage  \\\n",
       "0                      0  ...               0.000000          0.000000   \n",
       "1                      0  ...               0.000000          0.000000   \n",
       "2                      0  ...               2.714286          2.714286   \n",
       "3                      0  ...               4.200000          4.200000   \n",
       "4                      0  ...               5.460000          5.460000   \n",
       "...                  ...  ...                    ...               ...   \n",
       "643685                 1  ...               0.000000          0.000000   \n",
       "643686                 0  ...               0.000000          0.000000   \n",
       "643687                 1  ...               0.000000          0.000000   \n",
       "643688                 0  ...               0.000000          0.000000   \n",
       "643689                 0  ...               0.000000          0.666667   \n",
       "\n",
       "        befrist_tot_dur_byage  leih_tot_dur_byage  LHG_tot_dur_byage  \\\n",
       "0                   15.043478            0.000000           0.000000   \n",
       "1                    0.000000            0.000000           0.000000   \n",
       "2                    0.000000            0.000000          10.775510   \n",
       "3                    0.000000            0.000000          12.100000   \n",
       "4                    0.000000            0.000000          13.360000   \n",
       "...                       ...                 ...                ...   \n",
       "643685               0.000000            0.000000           0.612903   \n",
       "643686               0.212121            0.212121          17.363636   \n",
       "643687               0.294118            0.205882          34.705882   \n",
       "643688               0.000000            0.000000           0.000000   \n",
       "643689               0.666667            0.000000           0.000000   \n",
       "\n",
       "        LEH_tot_dur_byage  almp_tot_dur_byage  almp_aw_tot_dur_byage  \\\n",
       "0                0.000000            0.000000               0.000000   \n",
       "1                0.000000            0.000000               0.000000   \n",
       "2                0.000000            8.367347               0.000000   \n",
       "3                0.000000            9.400000               0.000000   \n",
       "4                0.000000           10.320000               0.000000   \n",
       "...                   ...                 ...                    ...   \n",
       "643685           0.000000            0.000000               0.000000   \n",
       "643686           0.000000            8.909091               0.000000   \n",
       "643687           0.000000           10.352941               1.705882   \n",
       "643688           0.525424            0.000000               0.000000   \n",
       "643689           8.950000            1.033333               0.083333   \n",
       "\n",
       "        se_tot_dur_byage  seeking1_tot_dur_byage  \n",
       "0               0.000000                0.000000  \n",
       "1               0.000000                0.000000  \n",
       "2               0.000000                9.836735  \n",
       "3               0.000000                9.960000  \n",
       "4               0.000000               10.280000  \n",
       "...                  ...                     ...  \n",
       "643685          0.000000                0.000000  \n",
       "643686          0.000000                7.121212  \n",
       "643687          1.705882               23.911765  \n",
       "643688          0.000000                0.000000  \n",
       "643689          0.083333                8.133333  \n",
       "\n",
       "[643690 rows x 164 columns]"
      ]
     },
     "execution_count": 10,
     "metadata": {},
     "output_type": "execute_result"
    }
   ],
   "source": [
    "siab"
   ]
  },
  {
   "cell_type": "markdown",
   "id": "1f87e805",
   "metadata": {
    "papermill": {
     "duration": 0.015141,
     "end_time": "2025-08-19T18:38:36.990565",
     "exception": false,
     "start_time": "2025-08-19T18:38:36.975424",
     "status": "completed"
    },
    "tags": []
   },
   "source": [
    "# Splitting Data and Setting Training Data Size"
   ]
  },
  {
   "cell_type": "code",
   "execution_count": 11,
   "id": "910ae358",
   "metadata": {
    "execution": {
     "iopub.execute_input": "2025-08-19T18:38:37.058846Z",
     "iopub.status.busy": "2025-08-19T18:38:37.058453Z",
     "iopub.status.idle": "2025-08-19T18:38:38.098309Z",
     "shell.execute_reply": "2025-08-19T18:38:38.097282Z"
    },
    "papermill": {
     "duration": 1.074769,
     "end_time": "2025-08-19T18:38:38.099775",
     "exception": false,
     "start_time": "2025-08-19T18:38:37.025006",
     "status": "completed"
    },
    "tags": []
   },
   "outputs": [],
   "source": [
    "from fairness_multiverse.universe import sample_by_year_size\n",
    "\n",
    "siab_train = sample_by_year_size(siab,\n",
    "                               training_year=universe[\"training_year\"],\n",
    "                               training_size=universe[\"training_size\"])"
   ]
  },
  {
   "cell_type": "code",
   "execution_count": 12,
   "id": "919c8ff5",
   "metadata": {
    "execution": {
     "iopub.execute_input": "2025-08-19T18:38:38.146603Z",
     "iopub.status.busy": "2025-08-19T18:38:38.146158Z",
     "iopub.status.idle": "2025-08-19T18:38:38.152646Z",
     "shell.execute_reply": "2025-08-19T18:38:38.152071Z"
    },
    "papermill": {
     "duration": 0.043583,
     "end_time": "2025-08-19T18:38:38.153817",
     "exception": false,
     "start_time": "2025-08-19T18:38:38.110234",
     "status": "completed"
    },
    "tags": []
   },
   "outputs": [
    {
     "data": {
      "text/plain": [
       "(5000, 164)"
      ]
     },
     "execution_count": 12,
     "metadata": {},
     "output_type": "execute_result"
    }
   ],
   "source": [
    "siab_train.shape"
   ]
  },
  {
   "cell_type": "code",
   "execution_count": 13,
   "id": "feb13bf4",
   "metadata": {
    "execution": {
     "iopub.execute_input": "2025-08-19T18:38:38.206591Z",
     "iopub.status.busy": "2025-08-19T18:38:38.206221Z",
     "iopub.status.idle": "2025-08-19T18:38:38.214373Z",
     "shell.execute_reply": "2025-08-19T18:38:38.213630Z"
    },
    "papermill": {
     "duration": 0.038806,
     "end_time": "2025-08-19T18:38:38.215395",
     "exception": false,
     "start_time": "2025-08-19T18:38:38.176589",
     "status": "completed"
    },
    "tags": []
   },
   "outputs": [
    {
     "data": {
      "text/plain": [
       "year\n",
       "2012    1667\n",
       "2013    1667\n",
       "2014    1666\n",
       "dtype: int64"
      ]
     },
     "metadata": {},
     "output_type": "display_data"
    }
   ],
   "source": [
    "display(siab_train.groupby(\"year\").size())"
   ]
  },
  {
   "cell_type": "code",
   "execution_count": 14,
   "id": "0997782f",
   "metadata": {
    "execution": {
     "iopub.execute_input": "2025-08-19T18:38:38.254773Z",
     "iopub.status.busy": "2025-08-19T18:38:38.254385Z",
     "iopub.status.idle": "2025-08-19T18:38:38.666568Z",
     "shell.execute_reply": "2025-08-19T18:38:38.665490Z"
    },
    "papermill": {
     "duration": 0.442431,
     "end_time": "2025-08-19T18:38:38.668228",
     "exception": false,
     "start_time": "2025-08-19T18:38:38.225797",
     "status": "completed"
    },
    "tags": []
   },
   "outputs": [],
   "source": [
    "#siab_train = siab_s[siab_s.year < 2015]\n",
    "siab_calib = siab[siab.year == 2015]\n",
    "siab_test = siab[siab.year == 2016]"
   ]
  },
  {
   "cell_type": "code",
   "execution_count": 15,
   "id": "2c1e4012",
   "metadata": {
    "execution": {
     "iopub.execute_input": "2025-08-19T18:38:38.699374Z",
     "iopub.status.busy": "2025-08-19T18:38:38.698897Z",
     "iopub.status.idle": "2025-08-19T18:38:38.705095Z",
     "shell.execute_reply": "2025-08-19T18:38:38.702824Z"
    },
    "papermill": {
     "duration": 0.031221,
     "end_time": "2025-08-19T18:38:38.712496",
     "exception": false,
     "start_time": "2025-08-19T18:38:38.681275",
     "status": "completed"
    },
    "tags": []
   },
   "outputs": [],
   "source": [
    "#siab_calib.shape"
   ]
  },
  {
   "cell_type": "code",
   "execution_count": 16,
   "id": "f66b54ca",
   "metadata": {
    "execution": {
     "iopub.execute_input": "2025-08-19T18:38:38.766796Z",
     "iopub.status.busy": "2025-08-19T18:38:38.766388Z",
     "iopub.status.idle": "2025-08-19T18:38:38.771402Z",
     "shell.execute_reply": "2025-08-19T18:38:38.770795Z"
    },
    "papermill": {
     "duration": 0.04675,
     "end_time": "2025-08-19T18:38:38.772717",
     "exception": false,
     "start_time": "2025-08-19T18:38:38.725967",
     "status": "completed"
    },
    "tags": []
   },
   "outputs": [],
   "source": [
    "#siab_test.shape"
   ]
  },
  {
   "cell_type": "code",
   "execution_count": 17,
   "id": "27e4384d",
   "metadata": {
    "execution": {
     "iopub.execute_input": "2025-08-19T18:38:38.811474Z",
     "iopub.status.busy": "2025-08-19T18:38:38.811086Z",
     "iopub.status.idle": "2025-08-19T18:38:38.824742Z",
     "shell.execute_reply": "2025-08-19T18:38:38.824074Z"
    },
    "papermill": {
     "duration": 0.040382,
     "end_time": "2025-08-19T18:38:38.825904",
     "exception": false,
     "start_time": "2025-08-19T18:38:38.785522",
     "status": "completed"
    },
    "tags": []
   },
   "outputs": [],
   "source": [
    "X_train = siab_train.iloc[:,4:164]\n",
    "y_train = siab_train.iloc[:, [3]]"
   ]
  },
  {
   "cell_type": "code",
   "execution_count": 18,
   "id": "08ee8389",
   "metadata": {
    "execution": {
     "iopub.execute_input": "2025-08-19T18:38:38.866609Z",
     "iopub.status.busy": "2025-08-19T18:38:38.866229Z",
     "iopub.status.idle": "2025-08-19T18:38:39.018994Z",
     "shell.execute_reply": "2025-08-19T18:38:39.018218Z"
    },
    "papermill": {
     "duration": 0.169448,
     "end_time": "2025-08-19T18:38:39.020052",
     "exception": false,
     "start_time": "2025-08-19T18:38:38.850604",
     "status": "completed"
    },
    "tags": []
   },
   "outputs": [],
   "source": [
    "X_calib = siab_calib.iloc[:,4:164]\n",
    "y_calib = siab_calib.iloc[:, [3]]"
   ]
  },
  {
   "cell_type": "code",
   "execution_count": 19,
   "id": "b7ff42e0",
   "metadata": {
    "execution": {
     "iopub.execute_input": "2025-08-19T18:38:39.078344Z",
     "iopub.status.busy": "2025-08-19T18:38:39.077943Z",
     "iopub.status.idle": "2025-08-19T18:38:39.173165Z",
     "shell.execute_reply": "2025-08-19T18:38:39.172423Z"
    },
    "papermill": {
     "duration": 0.125549,
     "end_time": "2025-08-19T18:38:39.174283",
     "exception": false,
     "start_time": "2025-08-19T18:38:39.048734",
     "status": "completed"
    },
    "tags": []
   },
   "outputs": [],
   "source": [
    "X_test = siab_test.iloc[:,4:164]\n",
    "y_true = siab_test.iloc[:, [3]]"
   ]
  },
  {
   "cell_type": "code",
   "execution_count": 20,
   "id": "0275101e",
   "metadata": {
    "execution": {
     "iopub.execute_input": "2025-08-19T18:38:39.206098Z",
     "iopub.status.busy": "2025-08-19T18:38:39.205789Z",
     "iopub.status.idle": "2025-08-19T18:38:39.391459Z",
     "shell.execute_reply": "2025-08-19T18:38:39.390769Z"
    },
    "papermill": {
     "duration": 0.199422,
     "end_time": "2025-08-19T18:38:39.393090",
     "exception": false,
     "start_time": "2025-08-19T18:38:39.193668",
     "status": "completed"
    },
    "tags": []
   },
   "outputs": [],
   "source": [
    "# Auxiliary data needed downstream in the pipeline\n",
    "\n",
    "org_train = X_train.copy()\n",
    "org_test = X_test.copy()\n",
    "org_calib = X_calib.copy()"
   ]
  },
  {
   "cell_type": "markdown",
   "id": "b461e618",
   "metadata": {
    "papermill": {
     "duration": 0.010425,
     "end_time": "2025-08-19T18:38:39.414368",
     "exception": false,
     "start_time": "2025-08-19T18:38:39.403943",
     "status": "completed"
    },
    "tags": []
   },
   "source": [
    "# Preprocessing Data"
   ]
  },
  {
   "cell_type": "code",
   "execution_count": 21,
   "id": "78e74c4b",
   "metadata": {
    "execution": {
     "iopub.execute_input": "2025-08-19T18:38:39.478903Z",
     "iopub.status.busy": "2025-08-19T18:38:39.478505Z",
     "iopub.status.idle": "2025-08-19T18:38:39.484186Z",
     "shell.execute_reply": "2025-08-19T18:38:39.483585Z"
    },
    "papermill": {
     "duration": 0.033113,
     "end_time": "2025-08-19T18:38:39.486112",
     "exception": false,
     "start_time": "2025-08-19T18:38:39.452999",
     "status": "completed"
    },
    "tags": []
   },
   "outputs": [],
   "source": [
    "# EXCLUDE PROTECTED FEATURES\n",
    "# --------------------------\n",
    "\n",
    "excluded_features = universe[\"exclude_features\"].split(\"-\")\n",
    "excluded_features_dictionary = {\n",
    "    \"nationality\": [\"maxdeutsch1\", \"maxdeutsch.Missing.\"],\n",
    "    \"sex\": [\"frau1\"],\n",
    "    \"age\": [\"age\"],\n",
    "}"
   ]
  },
  {
   "cell_type": "code",
   "execution_count": 22,
   "id": "f8e63555",
   "metadata": {
    "execution": {
     "iopub.execute_input": "2025-08-19T18:38:39.534907Z",
     "iopub.status.busy": "2025-08-19T18:38:39.534512Z",
     "iopub.status.idle": "2025-08-19T18:38:39.540139Z",
     "shell.execute_reply": "2025-08-19T18:38:39.539417Z"
    },
    "papermill": {
     "duration": 0.032419,
     "end_time": "2025-08-19T18:38:39.541510",
     "exception": false,
     "start_time": "2025-08-19T18:38:39.509091",
     "status": "completed"
    },
    "tags": []
   },
   "outputs": [],
   "source": [
    "excluded_features_columns = [\n",
    "    excluded_features_dictionary[f] for f in excluded_features if len(f) > 0 and f != \"none\"\n",
    "]"
   ]
  },
  {
   "cell_type": "code",
   "execution_count": 23,
   "id": "da781f7c",
   "metadata": {
    "execution": {
     "iopub.execute_input": "2025-08-19T18:38:39.564735Z",
     "iopub.status.busy": "2025-08-19T18:38:39.564315Z",
     "iopub.status.idle": "2025-08-19T18:38:39.568752Z",
     "shell.execute_reply": "2025-08-19T18:38:39.568102Z"
    },
    "papermill": {
     "duration": 0.018112,
     "end_time": "2025-08-19T18:38:39.570377",
     "exception": false,
     "start_time": "2025-08-19T18:38:39.552265",
     "status": "completed"
    },
    "tags": []
   },
   "outputs": [],
   "source": [
    "from fairness_multiverse.universe import flatten_once\n",
    "\n",
    "excluded_features_columns = flatten_once(excluded_features_columns)"
   ]
  },
  {
   "cell_type": "code",
   "execution_count": 24,
   "id": "37fef0f0",
   "metadata": {
    "execution": {
     "iopub.execute_input": "2025-08-19T18:38:39.597548Z",
     "iopub.status.busy": "2025-08-19T18:38:39.597135Z",
     "iopub.status.idle": "2025-08-19T18:38:39.608757Z",
     "shell.execute_reply": "2025-08-19T18:38:39.608039Z"
    },
    "papermill": {
     "duration": 0.038632,
     "end_time": "2025-08-19T18:38:39.622601",
     "exception": false,
     "start_time": "2025-08-19T18:38:39.583969",
     "status": "completed"
    },
    "tags": []
   },
   "outputs": [
    {
     "name": "stdout",
     "output_type": "stream",
     "text": [
      "Dropping features: ['age']\n"
     ]
    }
   ],
   "source": [
    "if len(excluded_features_columns) > 0:\n",
    "    print(f\"Dropping features: {excluded_features_columns}\")\n",
    "    X_train.drop(excluded_features_columns, axis=1, inplace=True)"
   ]
  },
  {
   "cell_type": "code",
   "execution_count": 25,
   "id": "d029e3e9",
   "metadata": {
    "execution": {
     "iopub.execute_input": "2025-08-19T18:38:39.677510Z",
     "iopub.status.busy": "2025-08-19T18:38:39.677103Z",
     "iopub.status.idle": "2025-08-19T18:38:39.747772Z",
     "shell.execute_reply": "2025-08-19T18:38:39.747158Z"
    },
    "papermill": {
     "duration": 0.099981,
     "end_time": "2025-08-19T18:38:39.748917",
     "exception": false,
     "start_time": "2025-08-19T18:38:39.648936",
     "status": "completed"
    },
    "tags": []
   },
   "outputs": [
    {
     "name": "stdout",
     "output_type": "stream",
     "text": [
      "Dropping features: ['age']\n"
     ]
    }
   ],
   "source": [
    "if len(excluded_features_columns) > 0:\n",
    "    print(f\"Dropping features: {excluded_features_columns}\")\n",
    "    X_test.drop(excluded_features_columns, axis=1, inplace=True)"
   ]
  },
  {
   "cell_type": "code",
   "execution_count": 26,
   "id": "01d571f0",
   "metadata": {
    "execution": {
     "iopub.execute_input": "2025-08-19T18:38:39.794609Z",
     "iopub.status.busy": "2025-08-19T18:38:39.794202Z",
     "iopub.status.idle": "2025-08-19T18:38:39.884119Z",
     "shell.execute_reply": "2025-08-19T18:38:39.883489Z"
    },
    "papermill": {
     "duration": 0.125458,
     "end_time": "2025-08-19T18:38:39.885430",
     "exception": false,
     "start_time": "2025-08-19T18:38:39.759972",
     "status": "completed"
    },
    "tags": []
   },
   "outputs": [
    {
     "name": "stdout",
     "output_type": "stream",
     "text": [
      "Dropping features: ['age']\n"
     ]
    }
   ],
   "source": [
    "if len(excluded_features_columns) > 0:\n",
    "    print(f\"Dropping features: {excluded_features_columns}\")\n",
    "    X_calib.drop(excluded_features_columns, axis=1, inplace=True)"
   ]
  },
  {
   "cell_type": "code",
   "execution_count": 27,
   "id": "3037356e",
   "metadata": {
    "execution": {
     "iopub.execute_input": "2025-08-19T18:38:39.911584Z",
     "iopub.status.busy": "2025-08-19T18:38:39.911196Z",
     "iopub.status.idle": "2025-08-19T18:38:39.915355Z",
     "shell.execute_reply": "2025-08-19T18:38:39.914757Z"
    },
    "papermill": {
     "duration": 0.017032,
     "end_time": "2025-08-19T18:38:39.916466",
     "exception": false,
     "start_time": "2025-08-19T18:38:39.899434",
     "status": "completed"
    },
    "tags": []
   },
   "outputs": [],
   "source": [
    "# EXCLUDE CERTAIN SUBGROUPS\n",
    "# -------------------------\n",
    "\n",
    "mode = universe.get(\"exclude_subgroups\", \"keep-all\") # Defaults to \"keep-all\" if the key is missing."
   ]
  },
  {
   "cell_type": "code",
   "execution_count": 28,
   "id": "9d1e63fd",
   "metadata": {
    "execution": {
     "iopub.execute_input": "2025-08-19T18:38:39.974735Z",
     "iopub.status.busy": "2025-08-19T18:38:39.974348Z",
     "iopub.status.idle": "2025-08-19T18:38:39.979525Z",
     "shell.execute_reply": "2025-08-19T18:38:39.978916Z"
    },
    "papermill": {
     "duration": 0.031039,
     "end_time": "2025-08-19T18:38:39.980734",
     "exception": false,
     "start_time": "2025-08-19T18:38:39.949695",
     "status": "completed"
    },
    "tags": []
   },
   "outputs": [],
   "source": [
    "if mode == \"keep-all\":\n",
    "    keep_mask = pd.Series(True, index=org_train.index)\n",
    "\n",
    "elif mode == \"drop-non-german\":\n",
    "    keep_mask = (org_train[\"maxdeutsch1\"] == 1) & (org_train[\"maxdeutsch.Missing.\"] == 0)\n",
    "\n",
    "else:\n",
    "    raise ValueError(f\"Unsupported mode for exclude_subgroups: {mode}\")"
   ]
  },
  {
   "cell_type": "code",
   "execution_count": 29,
   "id": "d3b65474",
   "metadata": {
    "execution": {
     "iopub.execute_input": "2025-08-19T18:38:40.026228Z",
     "iopub.status.busy": "2025-08-19T18:38:40.025838Z",
     "iopub.status.idle": "2025-08-19T18:38:40.030754Z",
     "shell.execute_reply": "2025-08-19T18:38:40.030170Z"
    },
    "papermill": {
     "duration": 0.03384,
     "end_time": "2025-08-19T18:38:40.031929",
     "exception": false,
     "start_time": "2025-08-19T18:38:39.998089",
     "status": "completed"
    },
    "tags": []
   },
   "outputs": [],
   "source": [
    "n_drop = (~keep_mask).sum() # Calculates how many rows are set to be dropped\n",
    "if n_drop > 0:\n",
    "    pct = n_drop / len(keep_mask) * 100\n",
    "    print(f\"Dropping {n_drop} rows ({pct:.2f}%) where mode='{mode}'\")"
   ]
  },
  {
   "cell_type": "code",
   "execution_count": 30,
   "id": "f44389b3",
   "metadata": {
    "execution": {
     "iopub.execute_input": "2025-08-19T18:38:40.069476Z",
     "iopub.status.busy": "2025-08-19T18:38:40.069048Z",
     "iopub.status.idle": "2025-08-19T18:38:40.075505Z",
     "shell.execute_reply": "2025-08-19T18:38:40.074928Z"
    },
    "papermill": {
     "duration": 0.020029,
     "end_time": "2025-08-19T18:38:40.076533",
     "exception": false,
     "start_time": "2025-08-19T18:38:40.056504",
     "status": "completed"
    },
    "tags": []
   },
   "outputs": [],
   "source": [
    "X_train = X_train[keep_mask]"
   ]
  },
  {
   "cell_type": "code",
   "execution_count": 31,
   "id": "ceca8c2a",
   "metadata": {
    "execution": {
     "iopub.execute_input": "2025-08-19T18:38:40.146481Z",
     "iopub.status.busy": "2025-08-19T18:38:40.146079Z",
     "iopub.status.idle": "2025-08-19T18:38:40.150758Z",
     "shell.execute_reply": "2025-08-19T18:38:40.150126Z"
    },
    "papermill": {
     "duration": 0.061124,
     "end_time": "2025-08-19T18:38:40.152045",
     "exception": false,
     "start_time": "2025-08-19T18:38:40.090921",
     "status": "completed"
    },
    "tags": []
   },
   "outputs": [],
   "source": [
    "y_train = y_train[keep_mask]"
   ]
  },
  {
   "cell_type": "markdown",
   "id": "04d31e2f",
   "metadata": {
    "papermill": {
     "duration": 0.017781,
     "end_time": "2025-08-19T18:38:40.198372",
     "exception": false,
     "start_time": "2025-08-19T18:38:40.180591",
     "status": "completed"
    },
    "tags": []
   },
   "source": [
    "# Model Training"
   ]
  },
  {
   "cell_type": "code",
   "execution_count": 32,
   "id": "db991733",
   "metadata": {
    "execution": {
     "iopub.execute_input": "2025-08-19T18:38:40.231287Z",
     "iopub.status.busy": "2025-08-19T18:38:40.230499Z",
     "iopub.status.idle": "2025-08-19T18:38:40.409294Z",
     "shell.execute_reply": "2025-08-19T18:38:40.408557Z"
    },
    "papermill": {
     "duration": 0.192559,
     "end_time": "2025-08-19T18:38:40.410675",
     "exception": false,
     "start_time": "2025-08-19T18:38:40.218116",
     "status": "completed"
    },
    "tags": []
   },
   "outputs": [],
   "source": [
    "from sklearn.linear_model import LogisticRegression\n",
    "from sklearn.ensemble import GradientBoostingClassifier, RandomForestClassifier\n",
    "\n",
    "if (universe[\"model\"] == \"logreg\"):\n",
    "    model = LogisticRegression() #penalty=\"none\", solver=\"newton-cg\", max_iter=1)\n",
    "elif (universe[\"model\"] == \"penalized_logreg\"):\n",
    "    model = LogisticRegression(penalty=\"l2\", C=0.1) #, solver=\"newton-cg\", max_iter=1)\n",
    "elif (universe[\"model\"] == \"rf\"):\n",
    "    model = RandomForestClassifier() # n_estimators=100, n_jobs=-1\n",
    "elif (universe[\"model\"] == \"gbm\"):\n",
    "    model = GradientBoostingClassifier()\n",
    "elif (universe[\"model\"] == \"elasticnet\"):\n",
    "    model = LogisticRegression(penalty = 'elasticnet', solver = 'saga', l1_ratio = 0.5) # max_iter=5000\n",
    "else:\n",
    "    raise \"Unsupported universe.model\""
   ]
  },
  {
   "cell_type": "code",
   "execution_count": 33,
   "id": "a4b5cd25",
   "metadata": {
    "execution": {
     "iopub.execute_input": "2025-08-19T18:38:40.482239Z",
     "iopub.status.busy": "2025-08-19T18:38:40.481843Z",
     "iopub.status.idle": "2025-08-19T18:38:40.487175Z",
     "shell.execute_reply": "2025-08-19T18:38:40.486561Z"
    },
    "papermill": {
     "duration": 0.057226,
     "end_time": "2025-08-19T18:38:40.497900",
     "exception": false,
     "start_time": "2025-08-19T18:38:40.440674",
     "status": "completed"
    },
    "tags": []
   },
   "outputs": [],
   "source": [
    "from sklearn.pipeline import Pipeline\n",
    "from sklearn.preprocessing import StandardScaler\n",
    "\n",
    "model = Pipeline([\n",
    "    #(\"continuous_processor\", continuous_processor),\n",
    "    #(\"categorical_preprocessor\", categorical_preprocessor),\n",
    "    (\"scale\", StandardScaler() if universe[\"scale\"] == \"scale\" else None), \n",
    "    (\"model\", model),\n",
    "])"
   ]
  },
  {
   "cell_type": "code",
   "execution_count": 34,
   "id": "283a904d",
   "metadata": {
    "execution": {
     "iopub.execute_input": "2025-08-19T18:38:40.521093Z",
     "iopub.status.busy": "2025-08-19T18:38:40.520704Z",
     "iopub.status.idle": "2025-08-19T18:38:47.349275Z",
     "shell.execute_reply": "2025-08-19T18:38:47.348268Z"
    },
    "papermill": {
     "duration": 6.841527,
     "end_time": "2025-08-19T18:38:47.350670",
     "exception": false,
     "start_time": "2025-08-19T18:38:40.509143",
     "status": "completed"
    },
    "tags": []
   },
   "outputs": [
    {
     "data": {
      "text/html": [
       "<style>#sk-container-id-1 {color: black;background-color: white;}#sk-container-id-1 pre{padding: 0;}#sk-container-id-1 div.sk-toggleable {background-color: white;}#sk-container-id-1 label.sk-toggleable__label {cursor: pointer;display: block;width: 100%;margin-bottom: 0;padding: 0.3em;box-sizing: border-box;text-align: center;}#sk-container-id-1 label.sk-toggleable__label-arrow:before {content: \"▸\";float: left;margin-right: 0.25em;color: #696969;}#sk-container-id-1 label.sk-toggleable__label-arrow:hover:before {color: black;}#sk-container-id-1 div.sk-estimator:hover label.sk-toggleable__label-arrow:before {color: black;}#sk-container-id-1 div.sk-toggleable__content {max-height: 0;max-width: 0;overflow: hidden;text-align: left;background-color: #f0f8ff;}#sk-container-id-1 div.sk-toggleable__content pre {margin: 0.2em;color: black;border-radius: 0.25em;background-color: #f0f8ff;}#sk-container-id-1 input.sk-toggleable__control:checked~div.sk-toggleable__content {max-height: 200px;max-width: 100%;overflow: auto;}#sk-container-id-1 input.sk-toggleable__control:checked~label.sk-toggleable__label-arrow:before {content: \"▾\";}#sk-container-id-1 div.sk-estimator input.sk-toggleable__control:checked~label.sk-toggleable__label {background-color: #d4ebff;}#sk-container-id-1 div.sk-label input.sk-toggleable__control:checked~label.sk-toggleable__label {background-color: #d4ebff;}#sk-container-id-1 input.sk-hidden--visually {border: 0;clip: rect(1px 1px 1px 1px);clip: rect(1px, 1px, 1px, 1px);height: 1px;margin: -1px;overflow: hidden;padding: 0;position: absolute;width: 1px;}#sk-container-id-1 div.sk-estimator {font-family: monospace;background-color: #f0f8ff;border: 1px dotted black;border-radius: 0.25em;box-sizing: border-box;margin-bottom: 0.5em;}#sk-container-id-1 div.sk-estimator:hover {background-color: #d4ebff;}#sk-container-id-1 div.sk-parallel-item::after {content: \"\";width: 100%;border-bottom: 1px solid gray;flex-grow: 1;}#sk-container-id-1 div.sk-label:hover label.sk-toggleable__label {background-color: #d4ebff;}#sk-container-id-1 div.sk-serial::before {content: \"\";position: absolute;border-left: 1px solid gray;box-sizing: border-box;top: 0;bottom: 0;left: 50%;z-index: 0;}#sk-container-id-1 div.sk-serial {display: flex;flex-direction: column;align-items: center;background-color: white;padding-right: 0.2em;padding-left: 0.2em;position: relative;}#sk-container-id-1 div.sk-item {position: relative;z-index: 1;}#sk-container-id-1 div.sk-parallel {display: flex;align-items: stretch;justify-content: center;background-color: white;position: relative;}#sk-container-id-1 div.sk-item::before, #sk-container-id-1 div.sk-parallel-item::before {content: \"\";position: absolute;border-left: 1px solid gray;box-sizing: border-box;top: 0;bottom: 0;left: 50%;z-index: -1;}#sk-container-id-1 div.sk-parallel-item {display: flex;flex-direction: column;z-index: 1;position: relative;background-color: white;}#sk-container-id-1 div.sk-parallel-item:first-child::after {align-self: flex-end;width: 50%;}#sk-container-id-1 div.sk-parallel-item:last-child::after {align-self: flex-start;width: 50%;}#sk-container-id-1 div.sk-parallel-item:only-child::after {width: 0;}#sk-container-id-1 div.sk-dashed-wrapped {border: 1px dashed gray;margin: 0 0.4em 0.5em 0.4em;box-sizing: border-box;padding-bottom: 0.4em;background-color: white;}#sk-container-id-1 div.sk-label label {font-family: monospace;font-weight: bold;display: inline-block;line-height: 1.2em;}#sk-container-id-1 div.sk-label-container {text-align: center;}#sk-container-id-1 div.sk-container {/* jupyter's `normalize.less` sets `[hidden] { display: none; }` but bootstrap.min.css set `[hidden] { display: none !important; }` so we also need the `!important` here to be able to override the default hidden behavior on the sphinx rendered scikit-learn.org. See: https://github.com/scikit-learn/scikit-learn/issues/21755 */display: inline-block !important;position: relative;}#sk-container-id-1 div.sk-text-repr-fallback {display: none;}</style><div id=\"sk-container-id-1\" class=\"sk-top-container\"><div class=\"sk-text-repr-fallback\"><pre>Pipeline(steps=[(&#x27;scale&#x27;, None), (&#x27;model&#x27;, GradientBoostingClassifier())])</pre><b>In a Jupyter environment, please rerun this cell to show the HTML representation or trust the notebook. <br />On GitHub, the HTML representation is unable to render, please try loading this page with nbviewer.org.</b></div><div class=\"sk-container\" hidden><div class=\"sk-item sk-dashed-wrapped\"><div class=\"sk-label-container\"><div class=\"sk-label sk-toggleable\"><input class=\"sk-toggleable__control sk-hidden--visually\" id=\"sk-estimator-id-1\" type=\"checkbox\" ><label for=\"sk-estimator-id-1\" class=\"sk-toggleable__label sk-toggleable__label-arrow\">Pipeline</label><div class=\"sk-toggleable__content\"><pre>Pipeline(steps=[(&#x27;scale&#x27;, None), (&#x27;model&#x27;, GradientBoostingClassifier())])</pre></div></div></div><div class=\"sk-serial\"><div class=\"sk-item\"><div class=\"sk-estimator sk-toggleable\"><input class=\"sk-toggleable__control sk-hidden--visually\" id=\"sk-estimator-id-2\" type=\"checkbox\" ><label for=\"sk-estimator-id-2\" class=\"sk-toggleable__label sk-toggleable__label-arrow\">None</label><div class=\"sk-toggleable__content\"><pre>None</pre></div></div></div><div class=\"sk-item\"><div class=\"sk-estimator sk-toggleable\"><input class=\"sk-toggleable__control sk-hidden--visually\" id=\"sk-estimator-id-3\" type=\"checkbox\" ><label for=\"sk-estimator-id-3\" class=\"sk-toggleable__label sk-toggleable__label-arrow\">GradientBoostingClassifier</label><div class=\"sk-toggleable__content\"><pre>GradientBoostingClassifier()</pre></div></div></div></div></div></div></div>"
      ],
      "text/plain": [
       "Pipeline(steps=[('scale', None), ('model', GradientBoostingClassifier())])"
      ]
     },
     "execution_count": 34,
     "metadata": {},
     "output_type": "execute_result"
    }
   ],
   "source": [
    "model.fit(X_train, y_train.values.ravel())"
   ]
  },
  {
   "cell_type": "code",
   "execution_count": 35,
   "id": "6e15e313",
   "metadata": {
    "execution": {
     "iopub.execute_input": "2025-08-19T18:38:47.391001Z",
     "iopub.status.busy": "2025-08-19T18:38:47.388280Z",
     "iopub.status.idle": "2025-08-19T18:38:47.961190Z",
     "shell.execute_reply": "2025-08-19T18:38:47.960463Z"
    },
    "papermill": {
     "duration": 0.589756,
     "end_time": "2025-08-19T18:38:47.962566",
     "exception": false,
     "start_time": "2025-08-19T18:38:47.372810",
     "status": "completed"
    },
    "tags": []
   },
   "outputs": [
    {
     "data": {
      "text/plain": [
       "0.8619217478541968"
      ]
     },
     "execution_count": 35,
     "metadata": {},
     "output_type": "execute_result"
    }
   ],
   "source": [
    "from fairness_multiverse.universe import predict_w_threshold\n",
    "\n",
    "probs_test = model.predict_proba(X_test)\n",
    "\n",
    "'''\n",
    "Below code returns a boolean array (or binary 0/1 array depending on how it’s used) where each element \n",
    "is True if the probability of class 1 is greater than or equal to the threshold, and False otherwise.\n",
    "'''\n",
    "y_pred_default = predict_w_threshold(probs_test, 0.5)\n",
    "\n",
    "from sklearn.metrics import accuracy_score\n",
    "\n",
    "# Naive prediction\n",
    "accuracy_score(y_true = y_true, y_pred = y_pred_default)"
   ]
  },
  {
   "cell_type": "code",
   "execution_count": 36,
   "id": "6f14067c",
   "metadata": {
    "execution": {
     "iopub.execute_input": "2025-08-19T18:38:48.003401Z",
     "iopub.status.busy": "2025-08-19T18:38:48.002558Z",
     "iopub.status.idle": "2025-08-19T18:38:48.529591Z",
     "shell.execute_reply": "2025-08-19T18:38:48.527408Z"
    },
    "papermill": {
     "duration": 0.553231,
     "end_time": "2025-08-19T18:38:48.531479",
     "exception": false,
     "start_time": "2025-08-19T18:38:47.978248",
     "status": "completed"
    },
    "tags": []
   },
   "outputs": [
    {
     "data": {
      "text/plain": [
       "array([0, 0, 0, ..., 0, 0, 0])"
      ]
     },
     "execution_count": 36,
     "metadata": {},
     "output_type": "execute_result"
    }
   ],
   "source": [
    "model.predict(X_test)"
   ]
  },
  {
   "cell_type": "markdown",
   "id": "3759920c",
   "metadata": {
    "papermill": {
     "duration": 0.019569,
     "end_time": "2025-08-19T18:38:48.562696",
     "exception": false,
     "start_time": "2025-08-19T18:38:48.543127",
     "status": "completed"
    },
    "tags": []
   },
   "source": [
    "# Conformal Prediction"
   ]
  },
  {
   "cell_type": "code",
   "execution_count": 37,
   "id": "14b27f59",
   "metadata": {
    "execution": {
     "iopub.execute_input": "2025-08-19T18:38:48.630871Z",
     "iopub.status.busy": "2025-08-19T18:38:48.630472Z",
     "iopub.status.idle": "2025-08-19T18:38:48.637471Z",
     "shell.execute_reply": "2025-08-19T18:38:48.636013Z"
    },
    "papermill": {
     "duration": 0.050276,
     "end_time": "2025-08-19T18:38:48.638602",
     "exception": false,
     "start_time": "2025-08-19T18:38:48.588326",
     "status": "completed"
    },
    "tags": []
   },
   "outputs": [],
   "source": [
    "# Miscoverage level for conformal prediction (10% allowed error rate => 90% target coverage)\n",
    "alpha = 0.1"
   ]
  },
  {
   "cell_type": "code",
   "execution_count": 38,
   "id": "59102472",
   "metadata": {
    "execution": {
     "iopub.execute_input": "2025-08-19T18:38:48.678205Z",
     "iopub.status.busy": "2025-08-19T18:38:48.677899Z",
     "iopub.status.idle": "2025-08-19T18:38:49.190544Z",
     "shell.execute_reply": "2025-08-19T18:38:49.189644Z"
    },
    "papermill": {
     "duration": 0.542027,
     "end_time": "2025-08-19T18:38:49.192189",
     "exception": false,
     "start_time": "2025-08-19T18:38:48.650162",
     "status": "completed"
    },
    "tags": []
   },
   "outputs": [],
   "source": [
    "probs_calib = model.predict_proba(X_calib)"
   ]
  },
  {
   "cell_type": "code",
   "execution_count": 39,
   "id": "a792d4dd",
   "metadata": {
    "execution": {
     "iopub.execute_input": "2025-08-19T18:38:49.226133Z",
     "iopub.status.busy": "2025-08-19T18:38:49.225453Z",
     "iopub.status.idle": "2025-08-19T18:38:49.237249Z",
     "shell.execute_reply": "2025-08-19T18:38:49.236255Z"
    },
    "papermill": {
     "duration": 0.026049,
     "end_time": "2025-08-19T18:38:49.238907",
     "exception": false,
     "start_time": "2025-08-19T18:38:49.212858",
     "status": "completed"
    },
    "tags": []
   },
   "outputs": [],
   "source": [
    "y_calib = y_calib.values.ravel().astype(int)"
   ]
  },
  {
   "cell_type": "code",
   "execution_count": 40,
   "id": "650fd033",
   "metadata": {
    "execution": {
     "iopub.execute_input": "2025-08-19T18:38:49.277516Z",
     "iopub.status.busy": "2025-08-19T18:38:49.277195Z",
     "iopub.status.idle": "2025-08-19T18:38:49.283663Z",
     "shell.execute_reply": "2025-08-19T18:38:49.283095Z"
    },
    "papermill": {
     "duration": 0.019876,
     "end_time": "2025-08-19T18:38:49.284592",
     "exception": false,
     "start_time": "2025-08-19T18:38:49.264716",
     "status": "completed"
    },
    "tags": []
   },
   "outputs": [],
   "source": [
    "from fairness_multiverse.conformal import compute_nc_scores\n",
    "\n",
    "# Compute nonconformity scores on calibration set (1 - probability of true class)\n",
    "nc_scores = compute_nc_scores(probs_calib, y_calib)"
   ]
  },
  {
   "cell_type": "code",
   "execution_count": 41,
   "id": "28ada44c",
   "metadata": {
    "execution": {
     "iopub.execute_input": "2025-08-19T18:38:49.334414Z",
     "iopub.status.busy": "2025-08-19T18:38:49.334116Z",
     "iopub.status.idle": "2025-08-19T18:38:49.339372Z",
     "shell.execute_reply": "2025-08-19T18:38:49.338702Z"
    },
    "papermill": {
     "duration": 0.031568,
     "end_time": "2025-08-19T18:38:49.340489",
     "exception": false,
     "start_time": "2025-08-19T18:38:49.308921",
     "status": "completed"
    },
    "tags": []
   },
   "outputs": [],
   "source": [
    "from fairness_multiverse.conformal import find_threshold\n",
    "\n",
    "# Find conformal threshold q_hat for the given alpha (split conformal method)\n",
    "q_hat = find_threshold(nc_scores, alpha)"
   ]
  },
  {
   "cell_type": "code",
   "execution_count": 42,
   "id": "df56469e",
   "metadata": {
    "execution": {
     "iopub.execute_input": "2025-08-19T18:38:49.373996Z",
     "iopub.status.busy": "2025-08-19T18:38:49.373703Z",
     "iopub.status.idle": "2025-08-19T18:38:49.379820Z",
     "shell.execute_reply": "2025-08-19T18:38:49.378889Z"
    },
    "papermill": {
     "duration": 0.021037,
     "end_time": "2025-08-19T18:38:49.382592",
     "exception": false,
     "start_time": "2025-08-19T18:38:49.361555",
     "status": "completed"
    },
    "tags": []
   },
   "outputs": [
    {
     "data": {
      "text/plain": [
       "0.7088011543745274"
      ]
     },
     "execution_count": 42,
     "metadata": {},
     "output_type": "execute_result"
    }
   ],
   "source": [
    "q_hat"
   ]
  },
  {
   "cell_type": "code",
   "execution_count": 43,
   "id": "aa1f5faa",
   "metadata": {
    "execution": {
     "iopub.execute_input": "2025-08-19T18:38:49.410386Z",
     "iopub.status.busy": "2025-08-19T18:38:49.410045Z",
     "iopub.status.idle": "2025-08-19T18:38:50.968542Z",
     "shell.execute_reply": "2025-08-19T18:38:50.967153Z"
    },
    "papermill": {
     "duration": 1.572719,
     "end_time": "2025-08-19T18:38:50.970548",
     "exception": false,
     "start_time": "2025-08-19T18:38:49.397829",
     "status": "completed"
    },
    "tags": []
   },
   "outputs": [],
   "source": [
    "from fairness_multiverse.conformal import predict_conformal_sets\n",
    "\n",
    "# Generate prediction sets for each test example\n",
    "pred_sets = predict_conformal_sets(model, X_test, q_hat)"
   ]
  },
  {
   "cell_type": "code",
   "execution_count": 44,
   "id": "97f67a6b",
   "metadata": {
    "execution": {
     "iopub.execute_input": "2025-08-19T18:38:51.001082Z",
     "iopub.status.busy": "2025-08-19T18:38:50.999957Z",
     "iopub.status.idle": "2025-08-19T18:38:51.010763Z",
     "shell.execute_reply": "2025-08-19T18:38:51.009430Z"
    },
    "papermill": {
     "duration": 0.026962,
     "end_time": "2025-08-19T18:38:51.012345",
     "exception": false,
     "start_time": "2025-08-19T18:38:50.985383",
     "status": "completed"
    },
    "tags": []
   },
   "outputs": [],
   "source": [
    "y_true = y_true.squeeze()"
   ]
  },
  {
   "cell_type": "code",
   "execution_count": 45,
   "id": "e700e9a7",
   "metadata": {
    "execution": {
     "iopub.execute_input": "2025-08-19T18:38:51.119062Z",
     "iopub.status.busy": "2025-08-19T18:38:51.118728Z",
     "iopub.status.idle": "2025-08-19T18:38:51.667693Z",
     "shell.execute_reply": "2025-08-19T18:38:51.666447Z"
    },
    "papermill": {
     "duration": 0.577275,
     "end_time": "2025-08-19T18:38:51.669559",
     "exception": false,
     "start_time": "2025-08-19T18:38:51.092284",
     "status": "completed"
    },
    "tags": []
   },
   "outputs": [],
   "source": [
    "from fairness_multiverse.conformal import evaluate_sets\n",
    "\n",
    "# Evaluate coverage and average set size on test data\n",
    "metrics = evaluate_sets(pred_sets, y_true)"
   ]
  },
  {
   "cell_type": "markdown",
   "id": "efbacec0",
   "metadata": {
    "papermill": {
     "duration": 0.011953,
     "end_time": "2025-08-19T18:38:51.693970",
     "exception": false,
     "start_time": "2025-08-19T18:38:51.682017",
     "status": "completed"
    },
    "tags": []
   },
   "source": [
    "# CP Metrics"
   ]
  },
  {
   "cell_type": "code",
   "execution_count": 46,
   "id": "9de55fb1",
   "metadata": {
    "execution": {
     "iopub.execute_input": "2025-08-19T18:38:51.723154Z",
     "iopub.status.busy": "2025-08-19T18:38:51.722745Z",
     "iopub.status.idle": "2025-08-19T18:38:51.729825Z",
     "shell.execute_reply": "2025-08-19T18:38:51.729119Z"
    },
    "papermill": {
     "duration": 0.02435,
     "end_time": "2025-08-19T18:38:51.732761",
     "exception": false,
     "start_time": "2025-08-19T18:38:51.708411",
     "status": "completed"
    },
    "tags": []
   },
   "outputs": [
    {
     "data": {
      "text/plain": [
       "{'coverage': 0.9101772377661353, 'avg_size': 1.131523798907591}"
      ]
     },
     "execution_count": 46,
     "metadata": {},
     "output_type": "execute_result"
    }
   ],
   "source": [
    "metrics"
   ]
  },
  {
   "cell_type": "code",
   "execution_count": 47,
   "id": "64c340a1",
   "metadata": {
    "execution": {
     "iopub.execute_input": "2025-08-19T18:38:51.760197Z",
     "iopub.status.busy": "2025-08-19T18:38:51.759887Z",
     "iopub.status.idle": "2025-08-19T18:38:51.764706Z",
     "shell.execute_reply": "2025-08-19T18:38:51.764067Z"
    },
    "papermill": {
     "duration": 0.022058,
     "end_time": "2025-08-19T18:38:51.768781",
     "exception": false,
     "start_time": "2025-08-19T18:38:51.746723",
     "status": "completed"
    },
    "tags": []
   },
   "outputs": [],
   "source": [
    "example_universe = universe.copy()\n",
    "universe_training_year = example_universe.get(\"training_year\")\n",
    "universe_training_size = example_universe.get(\"training_size\")\n",
    "universe_scale = example_universe.get(\"scale\")\n",
    "universe_model = example_universe.get(\"model\")\n",
    "universe_exclude_features = example_universe.get(\"exclude_features\")\n",
    "universe_exclude_subgroups = example_universe.get(\"exclude_subgroups\")"
   ]
  },
  {
   "cell_type": "code",
   "execution_count": 48,
   "id": "dbb53cb4",
   "metadata": {
    "execution": {
     "iopub.execute_input": "2025-08-19T18:38:51.882200Z",
     "iopub.status.busy": "2025-08-19T18:38:51.881893Z",
     "iopub.status.idle": "2025-08-19T18:38:51.886630Z",
     "shell.execute_reply": "2025-08-19T18:38:51.886050Z"
    },
    "papermill": {
     "duration": 0.058847,
     "end_time": "2025-08-19T18:38:51.891616",
     "exception": false,
     "start_time": "2025-08-19T18:38:51.832769",
     "status": "completed"
    },
    "tags": []
   },
   "outputs": [],
   "source": [
    "cp_metrics_dict = {\n",
    "    \"universe_id\": [universe_id],\n",
    "    \"universe_training_year\": [universe_training_year],\n",
    "    \"universe_training_size\": [universe_training_size],\n",
    "    \"universe_scale\": [universe_scale],\n",
    "    \"universe_model\": [universe_model],\n",
    "    \"universe_exclude_features\": [universe_exclude_features],\n",
    "    \"universe_exclude_subgroups\": [universe_exclude_subgroups],\n",
    "    \"q_hat\": [q_hat],\n",
    "    \"coverage\": [metrics[\"coverage\"]],\n",
    "    \"avg_size\": [metrics[\"avg_size\"]],\n",
    "}"
   ]
  },
  {
   "cell_type": "code",
   "execution_count": 49,
   "id": "0d70d4b2",
   "metadata": {
    "execution": {
     "iopub.execute_input": "2025-08-19T18:38:51.969530Z",
     "iopub.status.busy": "2025-08-19T18:38:51.969210Z",
     "iopub.status.idle": "2025-08-19T18:38:51.989204Z",
     "shell.execute_reply": "2025-08-19T18:38:51.988522Z"
    },
    "papermill": {
     "duration": 0.047021,
     "end_time": "2025-08-19T18:38:51.990219",
     "exception": false,
     "start_time": "2025-08-19T18:38:51.943198",
     "status": "completed"
    },
    "tags": []
   },
   "outputs": [],
   "source": [
    "cp_metrics_df = pd.DataFrame(cp_metrics_dict)"
   ]
  },
  {
   "cell_type": "code",
   "execution_count": 50,
   "id": "b494403c",
   "metadata": {
    "execution": {
     "iopub.execute_input": "2025-08-19T18:38:52.064378Z",
     "iopub.status.busy": "2025-08-19T18:38:52.064076Z",
     "iopub.status.idle": "2025-08-19T18:38:52.077296Z",
     "shell.execute_reply": "2025-08-19T18:38:52.076600Z"
    },
    "papermill": {
     "duration": 0.064223,
     "end_time": "2025-08-19T18:38:52.078325",
     "exception": false,
     "start_time": "2025-08-19T18:38:52.014102",
     "status": "completed"
    },
    "tags": []
   },
   "outputs": [
    {
     "data": {
      "text/html": [
       "<div>\n",
       "<style scoped>\n",
       "    .dataframe tbody tr th:only-of-type {\n",
       "        vertical-align: middle;\n",
       "    }\n",
       "\n",
       "    .dataframe tbody tr th {\n",
       "        vertical-align: top;\n",
       "    }\n",
       "\n",
       "    .dataframe thead th {\n",
       "        text-align: right;\n",
       "    }\n",
       "</style>\n",
       "<table border=\"1\" class=\"dataframe\">\n",
       "  <thead>\n",
       "    <tr style=\"text-align: right;\">\n",
       "      <th></th>\n",
       "      <th>universe_id</th>\n",
       "      <th>universe_training_year</th>\n",
       "      <th>universe_training_size</th>\n",
       "      <th>universe_scale</th>\n",
       "      <th>universe_model</th>\n",
       "      <th>universe_exclude_features</th>\n",
       "      <th>universe_exclude_subgroups</th>\n",
       "      <th>q_hat</th>\n",
       "      <th>coverage</th>\n",
       "      <th>avg_size</th>\n",
       "    </tr>\n",
       "  </thead>\n",
       "  <tbody>\n",
       "    <tr>\n",
       "      <th>0</th>\n",
       "      <td>ba201b4ae87e12530270a9a112b49de0</td>\n",
       "      <td>2012_14</td>\n",
       "      <td>5k</td>\n",
       "      <td>do-not-scale</td>\n",
       "      <td>gbm</td>\n",
       "      <td>age</td>\n",
       "      <td>keep-all</td>\n",
       "      <td>0.708801</td>\n",
       "      <td>0.910177</td>\n",
       "      <td>1.131524</td>\n",
       "    </tr>\n",
       "  </tbody>\n",
       "</table>\n",
       "</div>"
      ],
      "text/plain": [
       "                        universe_id universe_training_year  \\\n",
       "0  ba201b4ae87e12530270a9a112b49de0                2012_14   \n",
       "\n",
       "  universe_training_size universe_scale universe_model  \\\n",
       "0                     5k   do-not-scale            gbm   \n",
       "\n",
       "  universe_exclude_features universe_exclude_subgroups     q_hat  coverage  \\\n",
       "0                       age                   keep-all  0.708801  0.910177   \n",
       "\n",
       "   avg_size  \n",
       "0  1.131524  "
      ]
     },
     "execution_count": 50,
     "metadata": {},
     "output_type": "execute_result"
    }
   ],
   "source": [
    "cp_metrics_df"
   ]
  },
  {
   "cell_type": "markdown",
   "id": "ed608b0b",
   "metadata": {
    "papermill": {
     "duration": 0.018769,
     "end_time": "2025-08-19T18:38:52.113882",
     "exception": false,
     "start_time": "2025-08-19T18:38:52.095113",
     "status": "completed"
    },
    "tags": []
   },
   "source": [
    "Conditional coverage & looking at subgroups"
   ]
  },
  {
   "cell_type": "code",
   "execution_count": 51,
   "id": "8968c366",
   "metadata": {
    "execution": {
     "iopub.execute_input": "2025-08-19T18:38:52.161507Z",
     "iopub.status.busy": "2025-08-19T18:38:52.161202Z",
     "iopub.status.idle": "2025-08-19T18:38:52.763016Z",
     "shell.execute_reply": "2025-08-19T18:38:52.762138Z"
    },
    "papermill": {
     "duration": 0.627656,
     "end_time": "2025-08-19T18:38:52.764433",
     "exception": false,
     "start_time": "2025-08-19T18:38:52.136777",
     "status": "completed"
    },
    "tags": []
   },
   "outputs": [],
   "source": [
    "from fairness_multiverse.conformal import build_cp_groups\n",
    "\n",
    "cp_groups_df = build_cp_groups(pred_sets, y_true, X_test.index, org_test)"
   ]
  },
  {
   "cell_type": "code",
   "execution_count": 52,
   "id": "292ddabf",
   "metadata": {
    "execution": {
     "iopub.execute_input": "2025-08-19T18:38:52.801634Z",
     "iopub.status.busy": "2025-08-19T18:38:52.801322Z",
     "iopub.status.idle": "2025-08-19T18:38:53.702067Z",
     "shell.execute_reply": "2025-08-19T18:38:53.700702Z"
    },
    "papermill": {
     "duration": 0.926522,
     "end_time": "2025-08-19T18:38:53.703536",
     "exception": false,
     "start_time": "2025-08-19T18:38:52.777014",
     "status": "completed"
    },
    "tags": []
   },
   "outputs": [],
   "source": [
    "# Define covered = 1 if true_label is in the predicted set\n",
    "cp_groups_df['covered'] = cp_groups_df.apply(\n",
    "    lambda r: int(r['true_label'] in r['pred_set']),\n",
    "    axis=1\n",
    ")"
   ]
  },
  {
   "cell_type": "code",
   "execution_count": 53,
   "id": "3a261692",
   "metadata": {
    "execution": {
     "iopub.execute_input": "2025-08-19T18:38:53.750691Z",
     "iopub.status.busy": "2025-08-19T18:38:53.750212Z",
     "iopub.status.idle": "2025-08-19T18:38:53.773277Z",
     "shell.execute_reply": "2025-08-19T18:38:53.772538Z"
    },
    "papermill": {
     "duration": 0.045392,
     "end_time": "2025-08-19T18:38:53.774477",
     "exception": false,
     "start_time": "2025-08-19T18:38:53.729085",
     "status": "completed"
    },
    "tags": []
   },
   "outputs": [],
   "source": [
    "subgroups = ['frau1','nongerman','nongerman_male','nongerman_female']\n",
    "\n",
    "# Conditional coverage for subgroup==1\n",
    "cond_coverage = {\n",
    "    g: cp_groups_df.loc[cp_groups_df[g]==1, 'covered'].mean()\n",
    "    for g in subgroups\n",
    "}"
   ]
  },
  {
   "cell_type": "code",
   "execution_count": 54,
   "id": "894fd600",
   "metadata": {
    "execution": {
     "iopub.execute_input": "2025-08-19T18:38:53.801309Z",
     "iopub.status.busy": "2025-08-19T18:38:53.800512Z",
     "iopub.status.idle": "2025-08-19T18:38:53.806246Z",
     "shell.execute_reply": "2025-08-19T18:38:53.805665Z"
    },
    "papermill": {
     "duration": 0.021975,
     "end_time": "2025-08-19T18:38:53.809016",
     "exception": false,
     "start_time": "2025-08-19T18:38:53.787041",
     "status": "completed"
    },
    "tags": []
   },
   "outputs": [
    {
     "data": {
      "text/plain": [
       "{'frau1': 0.9034640787168082,\n",
       " 'nongerman': 0.9058552742379161,\n",
       " 'nongerman_male': 0.9242547059353328,\n",
       " 'nongerman_female': 0.8754098360655738}"
      ]
     },
     "execution_count": 54,
     "metadata": {},
     "output_type": "execute_result"
    }
   ],
   "source": [
    "cond_coverage"
   ]
  },
  {
   "cell_type": "code",
   "execution_count": 55,
   "id": "942895c7",
   "metadata": {
    "execution": {
     "iopub.execute_input": "2025-08-19T18:38:53.852708Z",
     "iopub.status.busy": "2025-08-19T18:38:53.852267Z",
     "iopub.status.idle": "2025-08-19T18:38:53.858208Z",
     "shell.execute_reply": "2025-08-19T18:38:53.857543Z"
    },
    "papermill": {
     "duration": 0.024504,
     "end_time": "2025-08-19T18:38:53.859938",
     "exception": false,
     "start_time": "2025-08-19T18:38:53.835434",
     "status": "completed"
    },
    "tags": []
   },
   "outputs": [],
   "source": [
    "for subgroup, cov in cond_coverage.items():\n",
    "    cp_metrics_df[f\"cov_{subgroup}\"] = cov"
   ]
  },
  {
   "cell_type": "code",
   "execution_count": 56,
   "id": "3970120f",
   "metadata": {
    "execution": {
     "iopub.execute_input": "2025-08-19T18:38:53.886568Z",
     "iopub.status.busy": "2025-08-19T18:38:53.886157Z",
     "iopub.status.idle": "2025-08-19T18:38:53.900585Z",
     "shell.execute_reply": "2025-08-19T18:38:53.899851Z"
    },
    "papermill": {
     "duration": 0.041043,
     "end_time": "2025-08-19T18:38:53.913631",
     "exception": false,
     "start_time": "2025-08-19T18:38:53.872588",
     "status": "completed"
    },
    "tags": []
   },
   "outputs": [
    {
     "data": {
      "text/html": [
       "<div>\n",
       "<style scoped>\n",
       "    .dataframe tbody tr th:only-of-type {\n",
       "        vertical-align: middle;\n",
       "    }\n",
       "\n",
       "    .dataframe tbody tr th {\n",
       "        vertical-align: top;\n",
       "    }\n",
       "\n",
       "    .dataframe thead th {\n",
       "        text-align: right;\n",
       "    }\n",
       "</style>\n",
       "<table border=\"1\" class=\"dataframe\">\n",
       "  <thead>\n",
       "    <tr style=\"text-align: right;\">\n",
       "      <th></th>\n",
       "      <th>universe_id</th>\n",
       "      <th>universe_training_year</th>\n",
       "      <th>universe_training_size</th>\n",
       "      <th>universe_scale</th>\n",
       "      <th>universe_model</th>\n",
       "      <th>universe_exclude_features</th>\n",
       "      <th>universe_exclude_subgroups</th>\n",
       "      <th>q_hat</th>\n",
       "      <th>coverage</th>\n",
       "      <th>avg_size</th>\n",
       "      <th>cov_frau1</th>\n",
       "      <th>cov_nongerman</th>\n",
       "      <th>cov_nongerman_male</th>\n",
       "      <th>cov_nongerman_female</th>\n",
       "    </tr>\n",
       "  </thead>\n",
       "  <tbody>\n",
       "    <tr>\n",
       "      <th>0</th>\n",
       "      <td>ba201b4ae87e12530270a9a112b49de0</td>\n",
       "      <td>2012_14</td>\n",
       "      <td>5k</td>\n",
       "      <td>do-not-scale</td>\n",
       "      <td>gbm</td>\n",
       "      <td>age</td>\n",
       "      <td>keep-all</td>\n",
       "      <td>0.708801</td>\n",
       "      <td>0.910177</td>\n",
       "      <td>1.131524</td>\n",
       "      <td>0.903464</td>\n",
       "      <td>0.905855</td>\n",
       "      <td>0.924255</td>\n",
       "      <td>0.87541</td>\n",
       "    </tr>\n",
       "  </tbody>\n",
       "</table>\n",
       "</div>"
      ],
      "text/plain": [
       "                        universe_id universe_training_year  \\\n",
       "0  ba201b4ae87e12530270a9a112b49de0                2012_14   \n",
       "\n",
       "  universe_training_size universe_scale universe_model  \\\n",
       "0                     5k   do-not-scale            gbm   \n",
       "\n",
       "  universe_exclude_features universe_exclude_subgroups     q_hat  coverage  \\\n",
       "0                       age                   keep-all  0.708801  0.910177   \n",
       "\n",
       "   avg_size  cov_frau1  cov_nongerman  cov_nongerman_male  \\\n",
       "0  1.131524   0.903464       0.905855            0.924255   \n",
       "\n",
       "   cov_nongerman_female  \n",
       "0               0.87541  "
      ]
     },
     "execution_count": 56,
     "metadata": {},
     "output_type": "execute_result"
    }
   ],
   "source": [
    "cp_metrics_df"
   ]
  },
  {
   "cell_type": "markdown",
   "id": "3fc519cc",
   "metadata": {
    "papermill": {
     "duration": 0.031255,
     "end_time": "2025-08-19T18:38:53.975946",
     "exception": false,
     "start_time": "2025-08-19T18:38:53.944691",
     "status": "completed"
    },
    "tags": []
   },
   "source": [
    "# (Fairness) Metrics"
   ]
  },
  {
   "cell_type": "code",
   "execution_count": 57,
   "id": "a2e5e155",
   "metadata": {
    "execution": {
     "iopub.execute_input": "2025-08-19T18:38:54.086194Z",
     "iopub.status.busy": "2025-08-19T18:38:54.085814Z",
     "iopub.status.idle": "2025-08-19T18:38:54.108807Z",
     "shell.execute_reply": "2025-08-19T18:38:54.107249Z"
    },
    "papermill": {
     "duration": 0.069488,
     "end_time": "2025-08-19T18:38:54.110131",
     "exception": false,
     "start_time": "2025-08-19T18:38:54.040643",
     "status": "completed"
    },
    "tags": []
   },
   "outputs": [],
   "source": [
    "colname_to_bin = \"maxdeutsch1\"\n",
    "majority_value = org_train[colname_to_bin].mode()[0]\n",
    "\n",
    "org_test[\"majmin\"] = np.where(org_test[colname_to_bin] == majority_value, \"majority\", \"minority\")"
   ]
  },
  {
   "cell_type": "code",
   "execution_count": 58,
   "id": "17e3e4d5",
   "metadata": {
    "execution": {
     "iopub.execute_input": "2025-08-19T18:38:54.190648Z",
     "iopub.status.busy": "2025-08-19T18:38:54.190261Z",
     "iopub.status.idle": "2025-08-19T18:38:56.583972Z",
     "shell.execute_reply": "2025-08-19T18:38:56.582670Z"
    },
    "papermill": {
     "duration": 2.448565,
     "end_time": "2025-08-19T18:38:56.585405",
     "exception": false,
     "start_time": "2025-08-19T18:38:54.136840",
     "status": "completed"
    },
    "tags": []
   },
   "outputs": [],
   "source": [
    "example_universe = universe.copy()\n",
    "example_universe[\"cutoff\"] = example_universe[\"cutoff\"][0]\n",
    "example_universe[\"eval_fairness_grouping\"] = example_universe[\"eval_fairness_grouping\"][0]\n",
    "fairness_dict, metric_frame = universe_analysis.compute_metrics(\n",
    "    example_universe,\n",
    "    y_pred_prob=probs_test,\n",
    "    y_test=y_true,\n",
    "    org_test=org_test,\n",
    ")"
   ]
  },
  {
   "cell_type": "markdown",
   "id": "1fb7a0e9",
   "metadata": {
    "papermill": {
     "duration": 0.017346,
     "end_time": "2025-08-19T18:38:56.615578",
     "exception": false,
     "start_time": "2025-08-19T18:38:56.598232",
     "status": "completed"
    },
    "tags": []
   },
   "source": [
    "# Overall"
   ]
  },
  {
   "cell_type": "markdown",
   "id": "be1784b1",
   "metadata": {
    "papermill": {
     "duration": 0.012079,
     "end_time": "2025-08-19T18:38:56.639946",
     "exception": false,
     "start_time": "2025-08-19T18:38:56.627867",
     "status": "completed"
    },
    "tags": []
   },
   "source": [
    "Main fairness target: Equalized Odds. Seems to be a better fit than equal opportunity, since we're not only interested in Y = 1. Seems to be a better fit than demographic parity, since we also care about accuracy, not just equal distribution of preds.\n",
    "\n",
    "Pick column for computation of fairness metrics\n",
    "\n",
    "Performance\n",
    "Overall performance measures, most interesting in relation to the measures split by group below"
   ]
  },
  {
   "cell_type": "code",
   "execution_count": 59,
   "id": "b7672bee",
   "metadata": {
    "execution": {
     "iopub.execute_input": "2025-08-19T18:38:56.694829Z",
     "iopub.status.busy": "2025-08-19T18:38:56.694380Z",
     "iopub.status.idle": "2025-08-19T18:38:56.702091Z",
     "shell.execute_reply": "2025-08-19T18:38:56.701453Z"
    },
    "papermill": {
     "duration": 0.050755,
     "end_time": "2025-08-19T18:38:56.703266",
     "exception": false,
     "start_time": "2025-08-19T18:38:56.652511",
     "status": "completed"
    },
    "tags": []
   },
   "outputs": [
    {
     "data": {
      "text/plain": [
       "accuracy                   0.223732\n",
       "balanced accuracy          0.547190\n",
       "f1                         0.245081\n",
       "precision                  0.140007\n",
       "false positive rate        0.887893\n",
       "false negative rate        0.017727\n",
       "selection rate             0.900000\n",
       "count                  89710.000000\n",
       "dtype: float64"
      ]
     },
     "execution_count": 59,
     "metadata": {},
     "output_type": "execute_result"
    }
   ],
   "source": [
    "metric_frame.overall"
   ]
  },
  {
   "cell_type": "markdown",
   "id": "d93333c9",
   "metadata": {
    "papermill": {
     "duration": 0.026921,
     "end_time": "2025-08-19T18:38:56.752920",
     "exception": false,
     "start_time": "2025-08-19T18:38:56.725999",
     "status": "completed"
    },
    "tags": []
   },
   "source": [
    "By Group"
   ]
  },
  {
   "cell_type": "code",
   "execution_count": 60,
   "id": "52256966",
   "metadata": {
    "execution": {
     "iopub.execute_input": "2025-08-19T18:38:56.794049Z",
     "iopub.status.busy": "2025-08-19T18:38:56.793711Z",
     "iopub.status.idle": "2025-08-19T18:38:56.805148Z",
     "shell.execute_reply": "2025-08-19T18:38:56.804510Z"
    },
    "papermill": {
     "duration": 0.025389,
     "end_time": "2025-08-19T18:38:56.806221",
     "exception": false,
     "start_time": "2025-08-19T18:38:56.780832",
     "status": "completed"
    },
    "tags": []
   },
   "outputs": [
    {
     "data": {
      "text/html": [
       "<div>\n",
       "<style scoped>\n",
       "    .dataframe tbody tr th:only-of-type {\n",
       "        vertical-align: middle;\n",
       "    }\n",
       "\n",
       "    .dataframe tbody tr th {\n",
       "        vertical-align: top;\n",
       "    }\n",
       "\n",
       "    .dataframe thead th {\n",
       "        text-align: right;\n",
       "    }\n",
       "</style>\n",
       "<table border=\"1\" class=\"dataframe\">\n",
       "  <thead>\n",
       "    <tr style=\"text-align: right;\">\n",
       "      <th></th>\n",
       "      <th>accuracy</th>\n",
       "      <th>balanced accuracy</th>\n",
       "      <th>f1</th>\n",
       "      <th>precision</th>\n",
       "      <th>false positive rate</th>\n",
       "      <th>false negative rate</th>\n",
       "      <th>selection rate</th>\n",
       "      <th>count</th>\n",
       "    </tr>\n",
       "    <tr>\n",
       "      <th>majmin</th>\n",
       "      <th></th>\n",
       "      <th></th>\n",
       "      <th></th>\n",
       "      <th></th>\n",
       "      <th></th>\n",
       "      <th></th>\n",
       "      <th></th>\n",
       "      <th></th>\n",
       "    </tr>\n",
       "  </thead>\n",
       "  <tbody>\n",
       "    <tr>\n",
       "      <th>majority</th>\n",
       "      <td>0.243183</td>\n",
       "      <td>0.555907</td>\n",
       "      <td>0.255147</td>\n",
       "      <td>0.146645</td>\n",
       "      <td>0.869149</td>\n",
       "      <td>0.019037</td>\n",
       "      <td>0.883924</td>\n",
       "      <td>69170.0</td>\n",
       "    </tr>\n",
       "    <tr>\n",
       "      <th>minority</th>\n",
       "      <td>0.158228</td>\n",
       "      <td>0.518759</td>\n",
       "      <td>0.212874</td>\n",
       "      <td>0.119298</td>\n",
       "      <td>0.949813</td>\n",
       "      <td>0.012669</td>\n",
       "      <td>0.954138</td>\n",
       "      <td>20540.0</td>\n",
       "    </tr>\n",
       "  </tbody>\n",
       "</table>\n",
       "</div>"
      ],
      "text/plain": [
       "          accuracy  balanced accuracy        f1  precision  \\\n",
       "majmin                                                       \n",
       "majority  0.243183           0.555907  0.255147   0.146645   \n",
       "minority  0.158228           0.518759  0.212874   0.119298   \n",
       "\n",
       "          false positive rate  false negative rate  selection rate    count  \n",
       "majmin                                                                       \n",
       "majority             0.869149             0.019037        0.883924  69170.0  \n",
       "minority             0.949813             0.012669        0.954138  20540.0  "
      ]
     },
     "execution_count": 60,
     "metadata": {},
     "output_type": "execute_result"
    }
   ],
   "source": [
    "metric_frame.by_group"
   ]
  },
  {
   "cell_type": "code",
   "execution_count": 61,
   "id": "6e6c20ae",
   "metadata": {
    "execution": {
     "iopub.execute_input": "2025-08-19T18:38:56.835647Z",
     "iopub.status.busy": "2025-08-19T18:38:56.834622Z",
     "iopub.status.idle": "2025-08-19T18:38:58.928653Z",
     "shell.execute_reply": "2025-08-19T18:38:58.927810Z"
    },
    "papermill": {
     "duration": 2.108602,
     "end_time": "2025-08-19T18:38:58.930060",
     "exception": false,
     "start_time": "2025-08-19T18:38:56.821458",
     "status": "completed"
    },
    "tags": []
   },
   "outputs": [
    {
     "data": {
      "text/plain": [
       "array([[<Axes: title={'center': 'accuracy'}, xlabel='majmin'>,\n",
       "        <Axes: title={'center': 'balanced accuracy'}, xlabel='majmin'>,\n",
       "        <Axes: title={'center': 'f1'}, xlabel='majmin'>],\n",
       "       [<Axes: title={'center': 'precision'}, xlabel='majmin'>,\n",
       "        <Axes: title={'center': 'false positive rate'}, xlabel='majmin'>,\n",
       "        <Axes: title={'center': 'false negative rate'}, xlabel='majmin'>],\n",
       "       [<Axes: title={'center': 'selection rate'}, xlabel='majmin'>,\n",
       "        <Axes: title={'center': 'count'}, xlabel='majmin'>,\n",
       "        <Axes: xlabel='majmin'>]], dtype=object)"
      ]
     },
     "execution_count": 61,
     "metadata": {},
     "output_type": "execute_result"
    },
    {
     "data": {
      "image/png": "[encoded data removed]",
      "text/plain": [
       "<Figure size 1200x800 with 9 Axes>"
      ]
     },
     "metadata": {},
     "output_type": "display_data"
    }
   ],
   "source": [
    "# In a graphic\n",
    "metric_frame.by_group.plot.bar(\n",
    "    subplots=True,\n",
    "    layout=[3, 3],\n",
    "    legend=False,\n",
    "    figsize=[12, 8],\n",
    "    title=\"Show all metrics\",\n",
    ")"
   ]
  },
  {
   "cell_type": "markdown",
   "id": "b2e433ae",
   "metadata": {
    "papermill": {
     "duration": 0.025085,
     "end_time": "2025-08-19T18:38:58.982291",
     "exception": false,
     "start_time": "2025-08-19T18:38:58.957206",
     "status": "completed"
    },
    "tags": []
   },
   "source": [
    "# Final Output"
   ]
  },
  {
   "cell_type": "code",
   "execution_count": 62,
   "id": "3871301e",
   "metadata": {
    "execution": {
     "iopub.execute_input": "2025-08-19T18:38:59.043079Z",
     "iopub.status.busy": "2025-08-19T18:38:59.042282Z",
     "iopub.status.idle": "2025-08-19T18:38:59.051666Z",
     "shell.execute_reply": "2025-08-19T18:38:59.051012Z"
    },
    "papermill": {
     "duration": 0.03952,
     "end_time": "2025-08-19T18:38:59.052954",
     "exception": false,
     "start_time": "2025-08-19T18:38:59.013434",
     "status": "completed"
    },
    "tags": []
   },
   "outputs": [
    {
     "data": {
      "text/plain": [
       "4"
      ]
     },
     "execution_count": 62,
     "metadata": {},
     "output_type": "execute_result"
    }
   ],
   "source": [
    "sub_universes = universe_analysis.generate_sub_universes()\n",
    "len(sub_universes)"
   ]
  },
  {
   "cell_type": "code",
   "execution_count": 63,
   "id": "d9cfdaca",
   "metadata": {
    "execution": {
     "iopub.execute_input": "2025-08-19T18:38:59.093265Z",
     "iopub.status.busy": "2025-08-19T18:38:59.092516Z",
     "iopub.status.idle": "2025-08-19T18:38:59.097278Z",
     "shell.execute_reply": "2025-08-19T18:38:59.096597Z"
    },
    "papermill": {
     "duration": 0.029699,
     "end_time": "2025-08-19T18:38:59.098588",
     "exception": false,
     "start_time": "2025-08-19T18:38:59.068889",
     "status": "completed"
    },
    "tags": []
   },
   "outputs": [],
   "source": [
    "def filter_sub_universe_data(sub_universe, org_test):\n",
    "    # Keep all rows — no filtering\n",
    "    keep_rows_mask = np.ones(org_test.shape[0], dtype=bool)\n",
    "\n",
    "    print(f\"[INFO] Keeping all rows: {keep_rows_mask.sum()} rows retained.\")\n",
    "    return keep_rows_mask"
   ]
  },
  {
   "cell_type": "code",
   "execution_count": 64,
   "id": "2bc31ac1",
   "metadata": {
    "execution": {
     "iopub.execute_input": "2025-08-19T18:38:59.145987Z",
     "iopub.status.busy": "2025-08-19T18:38:59.145593Z",
     "iopub.status.idle": "2025-08-19T18:39:08.010438Z",
     "shell.execute_reply": "2025-08-19T18:39:08.009443Z"
    },
    "papermill": {
     "duration": 8.881719,
     "end_time": "2025-08-19T18:39:08.012014",
     "exception": false,
     "start_time": "2025-08-19T18:38:59.130295",
     "status": "completed"
    },
    "tags": []
   },
   "outputs": [
    {
     "name": "stdout",
     "output_type": "stream",
     "text": [
      "Stopping execution_time clock.\n",
      "[INFO] Keeping all rows: 89710 rows retained.\n"
     ]
    },
    {
     "name": "stdout",
     "output_type": "stream",
     "text": [
      "[INFO] Keeping all rows: 89710 rows retained.\n"
     ]
    },
    {
     "name": "stdout",
     "output_type": "stream",
     "text": [
      "[INFO] Keeping all rows: 89710 rows retained.\n"
     ]
    },
    {
     "name": "stdout",
     "output_type": "stream",
     "text": [
      "[INFO] Keeping all rows: 89710 rows retained.\n"
     ]
    },
    {
     "data": {
      "text/html": [
       "<div>\n",
       "<style scoped>\n",
       "    .dataframe tbody tr th:only-of-type {\n",
       "        vertical-align: middle;\n",
       "    }\n",
       "\n",
       "    .dataframe tbody tr th {\n",
       "        vertical-align: top;\n",
       "    }\n",
       "\n",
       "    .dataframe thead th {\n",
       "        text-align: right;\n",
       "    }\n",
       "</style>\n",
       "<table border=\"1\" class=\"dataframe\">\n",
       "  <thead>\n",
       "    <tr style=\"text-align: right;\">\n",
       "      <th></th>\n",
       "      <th>run_no</th>\n",
       "      <th>universe_id</th>\n",
       "      <th>universe_settings</th>\n",
       "      <th>execution_time</th>\n",
       "      <th>test_size_n</th>\n",
       "      <th>test_size_frac</th>\n",
       "      <th>fair_main_equalized_odds_difference</th>\n",
       "      <th>fair_main_equalized_odds_ratio</th>\n",
       "      <th>fair_main_demographic_parity_difference</th>\n",
       "      <th>fair_main_demographic_parity_ratio</th>\n",
       "      <th>...</th>\n",
       "      <th>perf_grp_precision_0</th>\n",
       "      <th>perf_grp_precision_1</th>\n",
       "      <th>perf_grp_false positive rate_0</th>\n",
       "      <th>perf_grp_false positive rate_1</th>\n",
       "      <th>perf_grp_false negative rate_0</th>\n",
       "      <th>perf_grp_false negative rate_1</th>\n",
       "      <th>perf_grp_selection rate_0</th>\n",
       "      <th>perf_grp_selection rate_1</th>\n",
       "      <th>perf_grp_count_0</th>\n",
       "      <th>perf_grp_count_1</th>\n",
       "    </tr>\n",
       "  </thead>\n",
       "  <tbody>\n",
       "    <tr>\n",
       "      <th>0</th>\n",
       "      <td>3</td>\n",
       "      <td>ba201b4ae87e12530270a9a112b49de0</td>\n",
       "      <td>{\"cutoff\": \"quantile_0.1\", \"eval_fairness_grou...</td>\n",
       "      <td>35.361061</td>\n",
       "      <td>89710</td>\n",
       "      <td>1.0</td>\n",
       "      <td>0.080664</td>\n",
       "      <td>0.915074</td>\n",
       "      <td>0.070215</td>\n",
       "      <td>0.926410</td>\n",
       "      <td>...</td>\n",
       "      <td>NaN</td>\n",
       "      <td>NaN</td>\n",
       "      <td>NaN</td>\n",
       "      <td>NaN</td>\n",
       "      <td>NaN</td>\n",
       "      <td>NaN</td>\n",
       "      <td>NaN</td>\n",
       "      <td>NaN</td>\n",
       "      <td>NaN</td>\n",
       "      <td>NaN</td>\n",
       "    </tr>\n",
       "    <tr>\n",
       "      <th>0</th>\n",
       "      <td>3</td>\n",
       "      <td>ba201b4ae87e12530270a9a112b49de0</td>\n",
       "      <td>{\"cutoff\": \"quantile_0.1\", \"eval_fairness_grou...</td>\n",
       "      <td>35.361061</td>\n",
       "      <td>89710</td>\n",
       "      <td>1.0</td>\n",
       "      <td>0.080664</td>\n",
       "      <td>0.915074</td>\n",
       "      <td>0.070215</td>\n",
       "      <td>0.926410</td>\n",
       "      <td>...</td>\n",
       "      <td>0.119298</td>\n",
       "      <td>0.146645</td>\n",
       "      <td>0.949813</td>\n",
       "      <td>0.869149</td>\n",
       "      <td>0.012669</td>\n",
       "      <td>0.019037</td>\n",
       "      <td>0.954138</td>\n",
       "      <td>0.883924</td>\n",
       "      <td>20540.0</td>\n",
       "      <td>69170.0</td>\n",
       "    </tr>\n",
       "    <tr>\n",
       "      <th>0</th>\n",
       "      <td>3</td>\n",
       "      <td>ba201b4ae87e12530270a9a112b49de0</td>\n",
       "      <td>{\"cutoff\": \"quantile_0.25\", \"eval_fairness_gro...</td>\n",
       "      <td>35.361061</td>\n",
       "      <td>89710</td>\n",
       "      <td>1.0</td>\n",
       "      <td>0.151825</td>\n",
       "      <td>0.818954</td>\n",
       "      <td>0.131596</td>\n",
       "      <td>0.845446</td>\n",
       "      <td>...</td>\n",
       "      <td>NaN</td>\n",
       "      <td>NaN</td>\n",
       "      <td>NaN</td>\n",
       "      <td>NaN</td>\n",
       "      <td>NaN</td>\n",
       "      <td>NaN</td>\n",
       "      <td>NaN</td>\n",
       "      <td>NaN</td>\n",
       "      <td>NaN</td>\n",
       "      <td>NaN</td>\n",
       "    </tr>\n",
       "    <tr>\n",
       "      <th>0</th>\n",
       "      <td>3</td>\n",
       "      <td>ba201b4ae87e12530270a9a112b49de0</td>\n",
       "      <td>{\"cutoff\": \"quantile_0.25\", \"eval_fairness_gro...</td>\n",
       "      <td>35.361061</td>\n",
       "      <td>89710</td>\n",
       "      <td>1.0</td>\n",
       "      <td>0.151825</td>\n",
       "      <td>0.818954</td>\n",
       "      <td>0.131596</td>\n",
       "      <td>0.845446</td>\n",
       "      <td>...</td>\n",
       "      <td>0.128652</td>\n",
       "      <td>0.172032</td>\n",
       "      <td>0.838598</td>\n",
       "      <td>0.686773</td>\n",
       "      <td>0.049831</td>\n",
       "      <td>0.062801</td>\n",
       "      <td>0.851461</td>\n",
       "      <td>0.719864</td>\n",
       "      <td>20540.0</td>\n",
       "      <td>69170.0</td>\n",
       "    </tr>\n",
       "  </tbody>\n",
       "</table>\n",
       "<p>4 rows × 50 columns</p>\n",
       "</div>"
      ],
      "text/plain": [
       "  run_no                       universe_id  \\\n",
       "0      3  ba201b4ae87e12530270a9a112b49de0   \n",
       "0      3  ba201b4ae87e12530270a9a112b49de0   \n",
       "0      3  ba201b4ae87e12530270a9a112b49de0   \n",
       "0      3  ba201b4ae87e12530270a9a112b49de0   \n",
       "\n",
       "                                   universe_settings  execution_time  \\\n",
       "0  {\"cutoff\": \"quantile_0.1\", \"eval_fairness_grou...       35.361061   \n",
       "0  {\"cutoff\": \"quantile_0.1\", \"eval_fairness_grou...       35.361061   \n",
       "0  {\"cutoff\": \"quantile_0.25\", \"eval_fairness_gro...       35.361061   \n",
       "0  {\"cutoff\": \"quantile_0.25\", \"eval_fairness_gro...       35.361061   \n",
       "\n",
       "   test_size_n  test_size_frac  fair_main_equalized_odds_difference  \\\n",
       "0        89710             1.0                             0.080664   \n",
       "0        89710             1.0                             0.080664   \n",
       "0        89710             1.0                             0.151825   \n",
       "0        89710             1.0                             0.151825   \n",
       "\n",
       "   fair_main_equalized_odds_ratio  fair_main_demographic_parity_difference  \\\n",
       "0                        0.915074                                 0.070215   \n",
       "0                        0.915074                                 0.070215   \n",
       "0                        0.818954                                 0.131596   \n",
       "0                        0.818954                                 0.131596   \n",
       "\n",
       "   fair_main_demographic_parity_ratio  ...  perf_grp_precision_0  \\\n",
       "0                            0.926410  ...                   NaN   \n",
       "0                            0.926410  ...              0.119298   \n",
       "0                            0.845446  ...                   NaN   \n",
       "0                            0.845446  ...              0.128652   \n",
       "\n",
       "   perf_grp_precision_1  perf_grp_false positive rate_0  \\\n",
       "0                   NaN                             NaN   \n",
       "0              0.146645                        0.949813   \n",
       "0                   NaN                             NaN   \n",
       "0              0.172032                        0.838598   \n",
       "\n",
       "   perf_grp_false positive rate_1  perf_grp_false negative rate_0  \\\n",
       "0                             NaN                             NaN   \n",
       "0                        0.869149                        0.012669   \n",
       "0                             NaN                             NaN   \n",
       "0                        0.686773                        0.049831   \n",
       "\n",
       "   perf_grp_false negative rate_1  perf_grp_selection rate_0  \\\n",
       "0                             NaN                        NaN   \n",
       "0                        0.019037                   0.954138   \n",
       "0                             NaN                        NaN   \n",
       "0                        0.062801                   0.851461   \n",
       "\n",
       "   perf_grp_selection rate_1  perf_grp_count_0  perf_grp_count_1  \n",
       "0                        NaN               NaN               NaN  \n",
       "0                   0.883924           20540.0           69170.0  \n",
       "0                        NaN               NaN               NaN  \n",
       "0                   0.719864           20540.0           69170.0  \n",
       "\n",
       "[4 rows x 50 columns]"
      ]
     },
     "execution_count": 64,
     "metadata": {},
     "output_type": "execute_result"
    }
   ],
   "source": [
    "final_output = universe_analysis.generate_final_output(\n",
    "    y_pred_prob=probs_test,\n",
    "    y_test=y_true,\n",
    "    org_test=org_test,\n",
    "    filter_data=filter_sub_universe_data,\n",
    "    cp_metrics_df=cp_metrics_df,\n",
    "    save=True,\n",
    ")\n",
    "final_output"
   ]
  },
  {
   "cell_type": "code",
   "execution_count": null,
   "id": "8b80a1ff",
   "metadata": {
    "papermill": {
     "duration": 0.014206,
     "end_time": "2025-08-19T18:39:08.049148",
     "exception": false,
     "start_time": "2025-08-19T18:39:08.034942",
     "status": "completed"
    },
    "tags": []
   },
   "outputs": [],
   "source": []
  },
  {
   "cell_type": "code",
   "execution_count": null,
   "id": "275c9fad",
   "metadata": {
    "papermill": {
     "duration": 0.014144,
     "end_time": "2025-08-19T18:39:08.077430",
     "exception": false,
     "start_time": "2025-08-19T18:39:08.063286",
     "status": "completed"
    },
    "tags": []
   },
   "outputs": [],
   "source": []
  }
 ],
 "metadata": {
  "celltoolbar": "Tags",
  "kernelspec": {
   "display_name": "Python (CMA Fairness)",
   "language": "python",
   "name": "cma_fair_env"
  },
  "language_info": {
   "codemirror_mode": {
    "name": "ipython",
    "version": 3
   },
   "file_extension": ".py",
   "mimetype": "text/x-python",
   "name": "python",
   "nbconvert_exporter": "python",
   "pygments_lexer": "ipython3",
   "version": "3.10.12"
  },
  "papermill": {
   "default_parameters": {},
   "duration": 50.546006,
   "end_time": "2025-08-19T18:39:09.612502",
   "environment_variables": {},
   "exception": null,
   "input_path": "universe_analysis.ipynb",
   "output_path": "output/runs/3/notebooks/m_3-ba201b4ae87e12530270a9a112b49de0.ipynb",
   "parameters": {
    "output_dir": "output",
    "run_no": "3",
    "seed": "2023",
    "universe": "{\"cutoff\": [\"quantile_0.1\", \"quantile_0.25\"], \"eval_fairness_grouping\": [\"majority-minority\", \"nationality-all\"], \"exclude_features\": \"age\", \"exclude_subgroups\": \"keep-all\", \"model\": \"gbm\", \"scale\": \"do-not-scale\", \"training_size\": \"5k\", \"training_year\": \"2012_14\"}",
    "universe_id": "ba201b4ae87e12530270a9a112b49de0"
   },
   "start_time": "2025-08-19T18:38:19.066496",
   "version": "2.6.0"
  }
 },
 "nbformat": 4,
 "nbformat_minor": 5
}