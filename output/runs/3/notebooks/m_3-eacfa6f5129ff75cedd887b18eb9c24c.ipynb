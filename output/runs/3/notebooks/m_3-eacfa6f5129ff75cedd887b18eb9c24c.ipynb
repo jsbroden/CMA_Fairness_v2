{
 "cells": [
  {
   "cell_type": "markdown",
   "id": "ef23dbb3",
   "metadata": {
    "papermill": {
     "duration": 0.013738,
     "end_time": "2025-08-19T18:43:06.188056",
     "exception": false,
     "start_time": "2025-08-19T18:43:06.174318",
     "status": "completed"
    },
    "tags": []
   },
   "source": [
    "# Setup"
   ]
  },
  {
   "cell_type": "code",
   "execution_count": 1,
   "id": "0bc8e7dc",
   "metadata": {
    "execution": {
     "iopub.execute_input": "2025-08-19T18:43:06.207329Z",
     "iopub.status.busy": "2025-08-19T18:43:06.207006Z",
     "iopub.status.idle": "2025-08-19T18:43:06.216790Z",
     "shell.execute_reply": "2025-08-19T18:43:06.215927Z"
    },
    "papermill": {
     "duration": 0.022146,
     "end_time": "2025-08-19T18:43:06.218795",
     "exception": false,
     "start_time": "2025-08-19T18:43:06.196649",
     "status": "completed"
    },
    "tags": []
   },
   "outputs": [
    {
     "name": "stdout",
     "output_type": "stream",
     "text": [
      "/dss/dsshome1/0C/ra93lal2/cma/CMA_Fairness_v2\n"
     ]
    },
    {
     "name": "stderr",
     "output_type": "stream",
     "text": [
      "/dss/dsshome1/0C/ra93lal2/.local/share/virtualenvs/CMA_Fairness_v2-3j10GkSs/lib/python3.10/site-packages/IPython/core/magics/osm.py:393: UserWarning: This is now an optional IPython functionality, using bookmarks requires you to install the `pickleshare` library.\n",
      "  bkms = self.shell.db.get('bookmarks', {})\n",
      "/dss/dsshome1/0C/ra93lal2/.local/share/virtualenvs/CMA_Fairness_v2-3j10GkSs/lib/python3.10/site-packages/IPython/core/magics/osm.py:417: UserWarning: This is now an optional IPython functionality, setting dhist requires you to install the `pickleshare` library.\n",
      "  self.shell.db['dhist'] = compress_dhist(dhist)[-100:]\n"
     ]
    }
   ],
   "source": [
    "%cd ~/cma/CMA_Fairness_v2"
   ]
  },
  {
   "cell_type": "markdown",
   "id": "9d235661",
   "metadata": {
    "papermill": {
     "duration": 0.00948,
     "end_time": "2025-08-19T18:43:06.237084",
     "exception": false,
     "start_time": "2025-08-19T18:43:06.227604",
     "status": "completed"
    },
    "tags": []
   },
   "source": [
    "The following cell holds the definition of our parameters, these values can be overriden by rendering the with e.g. the following command:\n",
    "\n",
    "papermill -p alpha 0.2 -p ratio 0.3 universe_analysis.ipynb output/test_run.ipynb"
   ]
  },
  {
   "cell_type": "code",
   "execution_count": 2,
   "id": "4a789d8e",
   "metadata": {
    "execution": {
     "iopub.execute_input": "2025-08-19T18:43:06.256257Z",
     "iopub.status.busy": "2025-08-19T18:43:06.255963Z",
     "iopub.status.idle": "2025-08-19T18:43:06.260794Z",
     "shell.execute_reply": "2025-08-19T18:43:06.259816Z"
    },
    "papermill": {
     "duration": 0.016189,
     "end_time": "2025-08-19T18:43:06.262659",
     "exception": false,
     "start_time": "2025-08-19T18:43:06.246470",
     "status": "completed"
    },
    "tags": []
   },
   "outputs": [
    {
     "name": "stdout",
     "output_type": "stream",
     "text": [
      "Current working directory: /dss/dsshome1/0C/ra93lal2/cma/CMA_Fairness_v2\n"
     ]
    }
   ],
   "source": [
    "import os\n",
    "print(\"Current working directory:\", os.getcwd())"
   ]
  },
  {
   "cell_type": "code",
   "execution_count": 3,
   "id": "4132aaed",
   "metadata": {
    "execution": {
     "iopub.execute_input": "2025-08-19T18:43:06.282535Z",
     "iopub.status.busy": "2025-08-19T18:43:06.282003Z",
     "iopub.status.idle": "2025-08-19T18:43:06.286951Z",
     "shell.execute_reply": "2025-08-19T18:43:06.286169Z"
    },
    "papermill": {
     "duration": 0.016133,
     "end_time": "2025-08-19T18:43:06.288385",
     "exception": false,
     "start_time": "2025-08-19T18:43:06.272252",
     "status": "completed"
    },
    "tags": [
     "parameters"
    ]
   },
   "outputs": [],
   "source": [
    "run_no = 0\n",
    "universe_id = \"test\"\n",
    "universe = {\n",
    "    \"training_size\": \"5k\", # \"25k\", \"5k\", \"1k\"\n",
    "    \"training_year\": \"2012_14\", # \"2014\", \"2012_14\", \"2010_14\"\n",
    "    \"scale\": \"scale\", # \"scale\", \"do-not-scale\",\n",
    "    \"model\": \"elasticnet\", # \"logreg\", \"penalized_logreg\", \"rf\", \"gbm\", \"elasticnet\"\n",
    "    \"cutoff\": [\"quantile_0.15\", \"quantile_0.30\"],\n",
    "    \"exclude_features\": \"age\", # \"none\", \"nationality\", \"sex\", \"nationality-sex\", \"age\"\n",
    "    \"exclude_subgroups\": \"drop-non-german\", # \"keep-all\", \"drop-non-german\"\n",
    "    \"eval_fairness_grouping\": [\"majority-minority\", \"nationality-all\"]\n",
    "}\n",
    "\n",
    "output_dir=\"./output\"\n",
    "seed=0"
   ]
  },
  {
   "cell_type": "code",
   "execution_count": 4,
   "id": "94702262",
   "metadata": {
    "execution": {
     "iopub.execute_input": "2025-08-19T18:43:06.308438Z",
     "iopub.status.busy": "2025-08-19T18:43:06.307965Z",
     "iopub.status.idle": "2025-08-19T18:43:06.314506Z",
     "shell.execute_reply": "2025-08-19T18:43:06.313381Z"
    },
    "papermill": {
     "duration": 0.017841,
     "end_time": "2025-08-19T18:43:06.316153",
     "exception": false,
     "start_time": "2025-08-19T18:43:06.298312",
     "status": "completed"
    },
    "tags": [
     "injected-parameters"
    ]
   },
   "outputs": [],
   "source": [
    "# Parameters\n",
    "universe_id = \"eacfa6f5129ff75cedd887b18eb9c24c\"\n",
    "run_no = \"3\"\n",
    "universe = \"{\\\"cutoff\\\": [\\\"quantile_0.1\\\", \\\"quantile_0.25\\\"], \\\"eval_fairness_grouping\\\": [\\\"majority-minority\\\", \\\"nationality-all\\\"], \\\"exclude_features\\\": \\\"sex\\\", \\\"exclude_subgroups\\\": \\\"keep-all\\\", \\\"model\\\": \\\"gbm\\\", \\\"scale\\\": \\\"scale\\\", \\\"training_size\\\": \\\"5k\\\", \\\"training_year\\\": \\\"2010_14\\\"}\"\n",
    "output_dir = \"output\"\n",
    "seed = \"2023\"\n"
   ]
  },
  {
   "cell_type": "code",
   "execution_count": 5,
   "id": "a5d7941f",
   "metadata": {
    "execution": {
     "iopub.execute_input": "2025-08-19T18:43:06.339863Z",
     "iopub.status.busy": "2025-08-19T18:43:06.339387Z",
     "iopub.status.idle": "2025-08-19T18:43:06.345033Z",
     "shell.execute_reply": "2025-08-19T18:43:06.344328Z"
    },
    "papermill": {
     "duration": 0.016967,
     "end_time": "2025-08-19T18:43:06.346312",
     "exception": false,
     "start_time": "2025-08-19T18:43:06.329345",
     "status": "completed"
    },
    "tags": []
   },
   "outputs": [],
   "source": [
    "import json\n",
    "if isinstance(universe, str):\n",
    "    universe = json.loads(universe)"
   ]
  },
  {
   "cell_type": "code",
   "execution_count": 6,
   "id": "7076ccb1",
   "metadata": {
    "execution": {
     "iopub.execute_input": "2025-08-19T18:43:06.365873Z",
     "iopub.status.busy": "2025-08-19T18:43:06.365430Z",
     "iopub.status.idle": "2025-08-19T18:43:06.407770Z",
     "shell.execute_reply": "2025-08-19T18:43:06.406902Z"
    },
    "papermill": {
     "duration": 0.053508,
     "end_time": "2025-08-19T18:43:06.409154",
     "exception": false,
     "start_time": "2025-08-19T18:43:06.355646",
     "status": "completed"
    },
    "tags": []
   },
   "outputs": [],
   "source": [
    "# Auto-reload the custom package\n",
    "%load_ext autoreload\n",
    "%autoreload 1\n",
    "%aimport fairness_multiverse"
   ]
  },
  {
   "cell_type": "code",
   "execution_count": 7,
   "id": "94c8eb93",
   "metadata": {
    "execution": {
     "iopub.execute_input": "2025-08-19T18:43:06.428750Z",
     "iopub.status.busy": "2025-08-19T18:43:06.428394Z",
     "iopub.status.idle": "2025-08-19T18:43:07.899952Z",
     "shell.execute_reply": "2025-08-19T18:43:07.898997Z"
    },
    "papermill": {
     "duration": 1.483485,
     "end_time": "2025-08-19T18:43:07.901875",
     "exception": false,
     "start_time": "2025-08-19T18:43:06.418390",
     "status": "completed"
    },
    "tags": []
   },
   "outputs": [],
   "source": [
    "from fairness_multiverse.universe import UniverseAnalysis\n",
    "\n",
    "universe_analysis = UniverseAnalysis(\n",
    "    run_no = run_no,\n",
    "    universe_id = universe_id,\n",
    "    universe = universe,\n",
    "    output_dir=output_dir,\n",
    ")"
   ]
  },
  {
   "cell_type": "code",
   "execution_count": 8,
   "id": "2a6381cf",
   "metadata": {
    "execution": {
     "iopub.execute_input": "2025-08-19T18:43:07.923229Z",
     "iopub.status.busy": "2025-08-19T18:43:07.922629Z",
     "iopub.status.idle": "2025-08-19T18:43:07.931200Z",
     "shell.execute_reply": "2025-08-19T18:43:07.929851Z"
    },
    "papermill": {
     "duration": 0.021199,
     "end_time": "2025-08-19T18:43:07.932768",
     "exception": false,
     "start_time": "2025-08-19T18:43:07.911569",
     "status": "completed"
    },
    "tags": []
   },
   "outputs": [
    {
     "name": "stdout",
     "output_type": "stream",
     "text": [
      "Using Seed: 2023\n"
     ]
    }
   ],
   "source": [
    "import numpy as np\n",
    "parsed_seed = int(seed)\n",
    "np.random.seed(parsed_seed)\n",
    "print(f\"Using Seed: {parsed_seed}\")"
   ]
  },
  {
   "cell_type": "markdown",
   "id": "b6e958b4",
   "metadata": {
    "papermill": {
     "duration": 0.00904,
     "end_time": "2025-08-19T18:43:07.951775",
     "exception": false,
     "start_time": "2025-08-19T18:43:07.942735",
     "status": "completed"
    },
    "tags": []
   },
   "source": [
    "# Loading Data"
   ]
  },
  {
   "cell_type": "code",
   "execution_count": 9,
   "id": "98701482",
   "metadata": {
    "execution": {
     "iopub.execute_input": "2025-08-19T18:43:07.972255Z",
     "iopub.status.busy": "2025-08-19T18:43:07.971586Z",
     "iopub.status.idle": "2025-08-19T18:43:18.791281Z",
     "shell.execute_reply": "2025-08-19T18:43:18.789198Z"
    },
    "papermill": {
     "duration": 10.832423,
     "end_time": "2025-08-19T18:43:18.793102",
     "exception": false,
     "start_time": "2025-08-19T18:43:07.960679",
     "status": "completed"
    },
    "tags": []
   },
   "outputs": [
    {
     "name": "stdout",
     "output_type": "stream",
     "text": [
      "Loading SIAB data from cache: data/siab_cached.csv.gz\n"
     ]
    },
    {
     "name": "stdout",
     "output_type": "stream",
     "text": [
      "(643690, 164)\n"
     ]
    }
   ],
   "source": [
    "from pathlib import Path\n",
    "import pandas as pd\n",
    "\n",
    "# File paths\n",
    "raw_file = Path(\"data/raw/siab.csv\")\n",
    "cache_file = Path(\"data/siab_cached.csv.gz\")\n",
    "\n",
    "# Ensure cache directory exists\n",
    "cache_file.parent.mkdir(parents=True, exist_ok=True)\n",
    "\n",
    "# Load with simple caching\n",
    "if cache_file.exists():\n",
    "    print(f\"Loading SIAB data from cache: {cache_file}\")\n",
    "    siab = pd.read_csv(cache_file, compression='gzip')\n",
    "else:\n",
    "    print(f\"Cache not found. Reading raw SIAB data: {raw_file}\")\n",
    "    siab = pd.read_csv(raw_file)\n",
    "    siab.to_csv(cache_file, index=False, compression='gzip')\n",
    "    print(f\"Cached SIAB data to: {cache_file}\")\n",
    "\n",
    "print(siab.shape)"
   ]
  },
  {
   "cell_type": "code",
   "execution_count": 10,
   "id": "058d2abb",
   "metadata": {
    "execution": {
     "iopub.execute_input": "2025-08-19T18:43:18.829918Z",
     "iopub.status.busy": "2025-08-19T18:43:18.829376Z",
     "iopub.status.idle": "2025-08-19T18:43:19.042284Z",
     "shell.execute_reply": "2025-08-19T18:43:19.040843Z"
    },
    "papermill": {
     "duration": 0.236233,
     "end_time": "2025-08-19T18:43:19.043953",
     "exception": false,
     "start_time": "2025-08-19T18:43:18.807720",
     "status": "completed"
    },
    "tags": []
   },
   "outputs": [
    {
     "data": {
      "text/html": [
       "<div>\n",
       "<style scoped>\n",
       "    .dataframe tbody tr th:only-of-type {\n",
       "        vertical-align: middle;\n",
       "    }\n",
       "\n",
       "    .dataframe tbody tr th {\n",
       "        vertical-align: top;\n",
       "    }\n",
       "\n",
       "    .dataframe thead th {\n",
       "        text-align: right;\n",
       "    }\n",
       "</style>\n",
       "<table border=\"1\" class=\"dataframe\">\n",
       "  <thead>\n",
       "    <tr style=\"text-align: right;\">\n",
       "      <th></th>\n",
       "      <th>persnr</th>\n",
       "      <th>year</th>\n",
       "      <th>nrEntry</th>\n",
       "      <th>ltue</th>\n",
       "      <th>employed_before</th>\n",
       "      <th>receipt_leh_before</th>\n",
       "      <th>receipt_lhg_before</th>\n",
       "      <th>se_before</th>\n",
       "      <th>ASU_notue_seeking_before</th>\n",
       "      <th>ASU_other_before</th>\n",
       "      <th>...</th>\n",
       "      <th>minijob_tot_dur_byage</th>\n",
       "      <th>ft_tot_dur_byage</th>\n",
       "      <th>befrist_tot_dur_byage</th>\n",
       "      <th>leih_tot_dur_byage</th>\n",
       "      <th>LHG_tot_dur_byage</th>\n",
       "      <th>LEH_tot_dur_byage</th>\n",
       "      <th>almp_tot_dur_byage</th>\n",
       "      <th>almp_aw_tot_dur_byage</th>\n",
       "      <th>se_tot_dur_byage</th>\n",
       "      <th>seeking1_tot_dur_byage</th>\n",
       "    </tr>\n",
       "  </thead>\n",
       "  <tbody>\n",
       "    <tr>\n",
       "      <th>0</th>\n",
       "      <td>7</td>\n",
       "      <td>2015</td>\n",
       "      <td>1</td>\n",
       "      <td>0</td>\n",
       "      <td>1</td>\n",
       "      <td>0</td>\n",
       "      <td>0</td>\n",
       "      <td>0</td>\n",
       "      <td>1</td>\n",
       "      <td>0</td>\n",
       "      <td>...</td>\n",
       "      <td>0.000000</td>\n",
       "      <td>0.000000</td>\n",
       "      <td>15.043478</td>\n",
       "      <td>0.000000</td>\n",
       "      <td>0.000000</td>\n",
       "      <td>0.000000</td>\n",
       "      <td>0.000000</td>\n",
       "      <td>0.000000</td>\n",
       "      <td>0.000000</td>\n",
       "      <td>0.000000</td>\n",
       "    </tr>\n",
       "    <tr>\n",
       "      <th>1</th>\n",
       "      <td>18</td>\n",
       "      <td>2010</td>\n",
       "      <td>1</td>\n",
       "      <td>1</td>\n",
       "      <td>0</td>\n",
       "      <td>0</td>\n",
       "      <td>0</td>\n",
       "      <td>0</td>\n",
       "      <td>0</td>\n",
       "      <td>0</td>\n",
       "      <td>...</td>\n",
       "      <td>0.000000</td>\n",
       "      <td>0.000000</td>\n",
       "      <td>0.000000</td>\n",
       "      <td>0.000000</td>\n",
       "      <td>0.000000</td>\n",
       "      <td>0.000000</td>\n",
       "      <td>0.000000</td>\n",
       "      <td>0.000000</td>\n",
       "      <td>0.000000</td>\n",
       "      <td>0.000000</td>\n",
       "    </tr>\n",
       "    <tr>\n",
       "      <th>2</th>\n",
       "      <td>18</td>\n",
       "      <td>2011</td>\n",
       "      <td>2</td>\n",
       "      <td>0</td>\n",
       "      <td>1</td>\n",
       "      <td>0</td>\n",
       "      <td>1</td>\n",
       "      <td>0</td>\n",
       "      <td>1</td>\n",
       "      <td>0</td>\n",
       "      <td>...</td>\n",
       "      <td>2.714286</td>\n",
       "      <td>2.714286</td>\n",
       "      <td>0.000000</td>\n",
       "      <td>0.000000</td>\n",
       "      <td>10.775510</td>\n",
       "      <td>0.000000</td>\n",
       "      <td>8.367347</td>\n",
       "      <td>0.000000</td>\n",
       "      <td>0.000000</td>\n",
       "      <td>9.836735</td>\n",
       "    </tr>\n",
       "    <tr>\n",
       "      <th>3</th>\n",
       "      <td>18</td>\n",
       "      <td>2012</td>\n",
       "      <td>3</td>\n",
       "      <td>0</td>\n",
       "      <td>1</td>\n",
       "      <td>0</td>\n",
       "      <td>1</td>\n",
       "      <td>0</td>\n",
       "      <td>1</td>\n",
       "      <td>0</td>\n",
       "      <td>...</td>\n",
       "      <td>4.200000</td>\n",
       "      <td>4.200000</td>\n",
       "      <td>0.000000</td>\n",
       "      <td>0.000000</td>\n",
       "      <td>12.100000</td>\n",
       "      <td>0.000000</td>\n",
       "      <td>9.400000</td>\n",
       "      <td>0.000000</td>\n",
       "      <td>0.000000</td>\n",
       "      <td>9.960000</td>\n",
       "    </tr>\n",
       "    <tr>\n",
       "      <th>4</th>\n",
       "      <td>18</td>\n",
       "      <td>2012</td>\n",
       "      <td>4</td>\n",
       "      <td>0</td>\n",
       "      <td>1</td>\n",
       "      <td>0</td>\n",
       "      <td>1</td>\n",
       "      <td>0</td>\n",
       "      <td>1</td>\n",
       "      <td>0</td>\n",
       "      <td>...</td>\n",
       "      <td>5.460000</td>\n",
       "      <td>5.460000</td>\n",
       "      <td>0.000000</td>\n",
       "      <td>0.000000</td>\n",
       "      <td>13.360000</td>\n",
       "      <td>0.000000</td>\n",
       "      <td>10.320000</td>\n",
       "      <td>0.000000</td>\n",
       "      <td>0.000000</td>\n",
       "      <td>10.280000</td>\n",
       "    </tr>\n",
       "    <tr>\n",
       "      <th>...</th>\n",
       "      <td>...</td>\n",
       "      <td>...</td>\n",
       "      <td>...</td>\n",
       "      <td>...</td>\n",
       "      <td>...</td>\n",
       "      <td>...</td>\n",
       "      <td>...</td>\n",
       "      <td>...</td>\n",
       "      <td>...</td>\n",
       "      <td>...</td>\n",
       "      <td>...</td>\n",
       "      <td>...</td>\n",
       "      <td>...</td>\n",
       "      <td>...</td>\n",
       "      <td>...</td>\n",
       "      <td>...</td>\n",
       "      <td>...</td>\n",
       "      <td>...</td>\n",
       "      <td>...</td>\n",
       "      <td>...</td>\n",
       "      <td>...</td>\n",
       "    </tr>\n",
       "    <tr>\n",
       "      <th>643685</th>\n",
       "      <td>1827860</td>\n",
       "      <td>2013</td>\n",
       "      <td>1</td>\n",
       "      <td>0</td>\n",
       "      <td>0</td>\n",
       "      <td>0</td>\n",
       "      <td>1</td>\n",
       "      <td>0</td>\n",
       "      <td>0</td>\n",
       "      <td>1</td>\n",
       "      <td>...</td>\n",
       "      <td>0.000000</td>\n",
       "      <td>0.000000</td>\n",
       "      <td>0.000000</td>\n",
       "      <td>0.000000</td>\n",
       "      <td>0.612903</td>\n",
       "      <td>0.000000</td>\n",
       "      <td>0.000000</td>\n",
       "      <td>0.000000</td>\n",
       "      <td>0.000000</td>\n",
       "      <td>0.000000</td>\n",
       "    </tr>\n",
       "    <tr>\n",
       "      <th>643686</th>\n",
       "      <td>1827860</td>\n",
       "      <td>2015</td>\n",
       "      <td>2</td>\n",
       "      <td>1</td>\n",
       "      <td>0</td>\n",
       "      <td>0</td>\n",
       "      <td>1</td>\n",
       "      <td>0</td>\n",
       "      <td>1</td>\n",
       "      <td>0</td>\n",
       "      <td>...</td>\n",
       "      <td>0.000000</td>\n",
       "      <td>0.000000</td>\n",
       "      <td>0.212121</td>\n",
       "      <td>0.212121</td>\n",
       "      <td>17.363636</td>\n",
       "      <td>0.000000</td>\n",
       "      <td>8.909091</td>\n",
       "      <td>0.000000</td>\n",
       "      <td>0.000000</td>\n",
       "      <td>7.121212</td>\n",
       "    </tr>\n",
       "    <tr>\n",
       "      <th>643687</th>\n",
       "      <td>1827860</td>\n",
       "      <td>2016</td>\n",
       "      <td>3</td>\n",
       "      <td>1</td>\n",
       "      <td>0</td>\n",
       "      <td>0</td>\n",
       "      <td>1</td>\n",
       "      <td>1</td>\n",
       "      <td>0</td>\n",
       "      <td>1</td>\n",
       "      <td>...</td>\n",
       "      <td>0.000000</td>\n",
       "      <td>0.000000</td>\n",
       "      <td>0.294118</td>\n",
       "      <td>0.205882</td>\n",
       "      <td>34.705882</td>\n",
       "      <td>0.000000</td>\n",
       "      <td>10.352941</td>\n",
       "      <td>1.705882</td>\n",
       "      <td>1.705882</td>\n",
       "      <td>23.911765</td>\n",
       "    </tr>\n",
       "    <tr>\n",
       "      <th>643688</th>\n",
       "      <td>1827869</td>\n",
       "      <td>2013</td>\n",
       "      <td>1</td>\n",
       "      <td>1</td>\n",
       "      <td>1</td>\n",
       "      <td>0</td>\n",
       "      <td>0</td>\n",
       "      <td>0</td>\n",
       "      <td>1</td>\n",
       "      <td>0</td>\n",
       "      <td>...</td>\n",
       "      <td>0.000000</td>\n",
       "      <td>0.000000</td>\n",
       "      <td>0.000000</td>\n",
       "      <td>0.000000</td>\n",
       "      <td>0.000000</td>\n",
       "      <td>0.525424</td>\n",
       "      <td>0.000000</td>\n",
       "      <td>0.000000</td>\n",
       "      <td>0.000000</td>\n",
       "      <td>0.000000</td>\n",
       "    </tr>\n",
       "    <tr>\n",
       "      <th>643689</th>\n",
       "      <td>1827869</td>\n",
       "      <td>2014</td>\n",
       "      <td>2</td>\n",
       "      <td>0</td>\n",
       "      <td>0</td>\n",
       "      <td>1</td>\n",
       "      <td>0</td>\n",
       "      <td>0</td>\n",
       "      <td>1</td>\n",
       "      <td>0</td>\n",
       "      <td>...</td>\n",
       "      <td>0.000000</td>\n",
       "      <td>0.666667</td>\n",
       "      <td>0.666667</td>\n",
       "      <td>0.000000</td>\n",
       "      <td>0.000000</td>\n",
       "      <td>8.950000</td>\n",
       "      <td>1.033333</td>\n",
       "      <td>0.083333</td>\n",
       "      <td>0.083333</td>\n",
       "      <td>8.133333</td>\n",
       "    </tr>\n",
       "  </tbody>\n",
       "</table>\n",
       "<p>643690 rows × 164 columns</p>\n",
       "</div>"
      ],
      "text/plain": [
       "         persnr  year  nrEntry  ltue  employed_before  receipt_leh_before  \\\n",
       "0             7  2015        1     0                1                   0   \n",
       "1            18  2010        1     1                0                   0   \n",
       "2            18  2011        2     0                1                   0   \n",
       "3            18  2012        3     0                1                   0   \n",
       "4            18  2012        4     0                1                   0   \n",
       "...         ...   ...      ...   ...              ...                 ...   \n",
       "643685  1827860  2013        1     0                0                   0   \n",
       "643686  1827860  2015        2     1                0                   0   \n",
       "643687  1827860  2016        3     1                0                   0   \n",
       "643688  1827869  2013        1     1                1                   0   \n",
       "643689  1827869  2014        2     0                0                   1   \n",
       "\n",
       "        receipt_lhg_before  se_before  ASU_notue_seeking_before  \\\n",
       "0                        0          0                         1   \n",
       "1                        0          0                         0   \n",
       "2                        1          0                         1   \n",
       "3                        1          0                         1   \n",
       "4                        1          0                         1   \n",
       "...                    ...        ...                       ...   \n",
       "643685                   1          0                         0   \n",
       "643686                   1          0                         1   \n",
       "643687                   1          1                         0   \n",
       "643688                   0          0                         1   \n",
       "643689                   0          0                         1   \n",
       "\n",
       "        ASU_other_before  ...  minijob_tot_dur_byage  ft_tot_dur_byage  \\\n",
       "0                      0  ...               0.000000          0.000000   \n",
       "1                      0  ...               0.000000          0.000000   \n",
       "2                      0  ...               2.714286          2.714286   \n",
       "3                      0  ...               4.200000          4.200000   \n",
       "4                      0  ...               5.460000          5.460000   \n",
       "...                  ...  ...                    ...               ...   \n",
       "643685                 1  ...               0.000000          0.000000   \n",
       "643686                 0  ...               0.000000          0.000000   \n",
       "643687                 1  ...               0.000000          0.000000   \n",
       "643688                 0  ...               0.000000          0.000000   \n",
       "643689                 0  ...               0.000000          0.666667   \n",
       "\n",
       "        befrist_tot_dur_byage  leih_tot_dur_byage  LHG_tot_dur_byage  \\\n",
       "0                   15.043478            0.000000           0.000000   \n",
       "1                    0.000000            0.000000           0.000000   \n",
       "2                    0.000000            0.000000          10.775510   \n",
       "3                    0.000000            0.000000          12.100000   \n",
       "4                    0.000000            0.000000          13.360000   \n",
       "...                       ...                 ...                ...   \n",
       "643685               0.000000            0.000000           0.612903   \n",
       "643686               0.212121            0.212121          17.363636   \n",
       "643687               0.294118            0.205882          34.705882   \n",
       "643688               0.000000            0.000000           0.000000   \n",
       "643689               0.666667            0.000000           0.000000   \n",
       "\n",
       "        LEH_tot_dur_byage  almp_tot_dur_byage  almp_aw_tot_dur_byage  \\\n",
       "0                0.000000            0.000000               0.000000   \n",
       "1                0.000000            0.000000               0.000000   \n",
       "2                0.000000            8.367347               0.000000   \n",
       "3                0.000000            9.400000               0.000000   \n",
       "4                0.000000           10.320000               0.000000   \n",
       "...                   ...                 ...                    ...   \n",
       "643685           0.000000            0.000000               0.000000   \n",
       "643686           0.000000            8.909091               0.000000   \n",
       "643687           0.000000           10.352941               1.705882   \n",
       "643688           0.525424            0.000000               0.000000   \n",
       "643689           8.950000            1.033333               0.083333   \n",
       "\n",
       "        se_tot_dur_byage  seeking1_tot_dur_byage  \n",
       "0               0.000000                0.000000  \n",
       "1               0.000000                0.000000  \n",
       "2               0.000000                9.836735  \n",
       "3               0.000000                9.960000  \n",
       "4               0.000000               10.280000  \n",
       "...                  ...                     ...  \n",
       "643685          0.000000                0.000000  \n",
       "643686          0.000000                7.121212  \n",
       "643687          1.705882               23.911765  \n",
       "643688          0.000000                0.000000  \n",
       "643689          0.083333                8.133333  \n",
       "\n",
       "[643690 rows x 164 columns]"
      ]
     },
     "execution_count": 10,
     "metadata": {},
     "output_type": "execute_result"
    }
   ],
   "source": [
    "siab"
   ]
  },
  {
   "cell_type": "markdown",
   "id": "1f87e805",
   "metadata": {
    "papermill": {
     "duration": 0.009787,
     "end_time": "2025-08-19T18:43:19.065749",
     "exception": false,
     "start_time": "2025-08-19T18:43:19.055962",
     "status": "completed"
    },
    "tags": []
   },
   "source": [
    "# Splitting Data and Setting Training Data Size"
   ]
  },
  {
   "cell_type": "code",
   "execution_count": 11,
   "id": "910ae358",
   "metadata": {
    "execution": {
     "iopub.execute_input": "2025-08-19T18:43:19.087273Z",
     "iopub.status.busy": "2025-08-19T18:43:19.086707Z",
     "iopub.status.idle": "2025-08-19T18:43:20.139455Z",
     "shell.execute_reply": "2025-08-19T18:43:20.138434Z"
    },
    "papermill": {
     "duration": 1.065934,
     "end_time": "2025-08-19T18:43:20.141273",
     "exception": false,
     "start_time": "2025-08-19T18:43:19.075339",
     "status": "completed"
    },
    "tags": []
   },
   "outputs": [],
   "source": [
    "from fairness_multiverse.universe import sample_by_year_size\n",
    "\n",
    "siab_train = sample_by_year_size(siab,\n",
    "                               training_year=universe[\"training_year\"],\n",
    "                               training_size=universe[\"training_size\"])"
   ]
  },
  {
   "cell_type": "code",
   "execution_count": 12,
   "id": "919c8ff5",
   "metadata": {
    "execution": {
     "iopub.execute_input": "2025-08-19T18:43:20.167375Z",
     "iopub.status.busy": "2025-08-19T18:43:20.166947Z",
     "iopub.status.idle": "2025-08-19T18:43:20.173242Z",
     "shell.execute_reply": "2025-08-19T18:43:20.172275Z"
    },
    "papermill": {
     "duration": 0.022012,
     "end_time": "2025-08-19T18:43:20.175056",
     "exception": false,
     "start_time": "2025-08-19T18:43:20.153044",
     "status": "completed"
    },
    "tags": []
   },
   "outputs": [
    {
     "data": {
      "text/plain": [
       "(5000, 164)"
      ]
     },
     "execution_count": 12,
     "metadata": {},
     "output_type": "execute_result"
    }
   ],
   "source": [
    "siab_train.shape"
   ]
  },
  {
   "cell_type": "code",
   "execution_count": 13,
   "id": "feb13bf4",
   "metadata": {
    "execution": {
     "iopub.execute_input": "2025-08-19T18:43:20.197031Z",
     "iopub.status.busy": "2025-08-19T18:43:20.196603Z",
     "iopub.status.idle": "2025-08-19T18:43:20.205271Z",
     "shell.execute_reply": "2025-08-19T18:43:20.204282Z"
    },
    "papermill": {
     "duration": 0.021494,
     "end_time": "2025-08-19T18:43:20.206853",
     "exception": false,
     "start_time": "2025-08-19T18:43:20.185359",
     "status": "completed"
    },
    "tags": []
   },
   "outputs": [
    {
     "data": {
      "text/plain": [
       "year\n",
       "2010    1000\n",
       "2011    1000\n",
       "2012    1000\n",
       "2013    1000\n",
       "2014    1000\n",
       "dtype: int64"
      ]
     },
     "metadata": {},
     "output_type": "display_data"
    }
   ],
   "source": [
    "display(siab_train.groupby(\"year\").size())"
   ]
  },
  {
   "cell_type": "code",
   "execution_count": 14,
   "id": "0997782f",
   "metadata": {
    "execution": {
     "iopub.execute_input": "2025-08-19T18:43:20.229278Z",
     "iopub.status.busy": "2025-08-19T18:43:20.228843Z",
     "iopub.status.idle": "2025-08-19T18:43:20.508274Z",
     "shell.execute_reply": "2025-08-19T18:43:20.507251Z"
    },
    "papermill": {
     "duration": 0.292625,
     "end_time": "2025-08-19T18:43:20.510073",
     "exception": false,
     "start_time": "2025-08-19T18:43:20.217448",
     "status": "completed"
    },
    "tags": []
   },
   "outputs": [],
   "source": [
    "#siab_train = siab_s[siab_s.year < 2015]\n",
    "siab_calib = siab[siab.year == 2015]\n",
    "siab_test = siab[siab.year == 2016]"
   ]
  },
  {
   "cell_type": "code",
   "execution_count": 15,
   "id": "2c1e4012",
   "metadata": {
    "execution": {
     "iopub.execute_input": "2025-08-19T18:43:20.532749Z",
     "iopub.status.busy": "2025-08-19T18:43:20.532310Z",
     "iopub.status.idle": "2025-08-19T18:43:20.536869Z",
     "shell.execute_reply": "2025-08-19T18:43:20.535904Z"
    },
    "papermill": {
     "duration": 0.017442,
     "end_time": "2025-08-19T18:43:20.538401",
     "exception": false,
     "start_time": "2025-08-19T18:43:20.520959",
     "status": "completed"
    },
    "tags": []
   },
   "outputs": [],
   "source": [
    "#siab_calib.shape"
   ]
  },
  {
   "cell_type": "code",
   "execution_count": 16,
   "id": "f66b54ca",
   "metadata": {
    "execution": {
     "iopub.execute_input": "2025-08-19T18:43:20.560599Z",
     "iopub.status.busy": "2025-08-19T18:43:20.560162Z",
     "iopub.status.idle": "2025-08-19T18:43:20.564777Z",
     "shell.execute_reply": "2025-08-19T18:43:20.563853Z"
    },
    "papermill": {
     "duration": 0.018989,
     "end_time": "2025-08-19T18:43:20.567790",
     "exception": false,
     "start_time": "2025-08-19T18:43:20.548801",
     "status": "completed"
    },
    "tags": []
   },
   "outputs": [],
   "source": [
    "#siab_test.shape"
   ]
  },
  {
   "cell_type": "code",
   "execution_count": 17,
   "id": "27e4384d",
   "metadata": {
    "execution": {
     "iopub.execute_input": "2025-08-19T18:43:20.631419Z",
     "iopub.status.busy": "2025-08-19T18:43:20.630907Z",
     "iopub.status.idle": "2025-08-19T18:43:20.639103Z",
     "shell.execute_reply": "2025-08-19T18:43:20.638050Z"
    },
    "papermill": {
     "duration": 0.035607,
     "end_time": "2025-08-19T18:43:20.640886",
     "exception": false,
     "start_time": "2025-08-19T18:43:20.605279",
     "status": "completed"
    },
    "tags": []
   },
   "outputs": [],
   "source": [
    "X_train = siab_train.iloc[:,4:164]\n",
    "y_train = siab_train.iloc[:, [3]]"
   ]
  },
  {
   "cell_type": "code",
   "execution_count": 18,
   "id": "08ee8389",
   "metadata": {
    "execution": {
     "iopub.execute_input": "2025-08-19T18:43:20.664662Z",
     "iopub.status.busy": "2025-08-19T18:43:20.664221Z",
     "iopub.status.idle": "2025-08-19T18:43:20.719531Z",
     "shell.execute_reply": "2025-08-19T18:43:20.718495Z"
    },
    "papermill": {
     "duration": 0.068071,
     "end_time": "2025-08-19T18:43:20.721002",
     "exception": false,
     "start_time": "2025-08-19T18:43:20.652931",
     "status": "completed"
    },
    "tags": []
   },
   "outputs": [],
   "source": [
    "X_calib = siab_calib.iloc[:,4:164]\n",
    "y_calib = siab_calib.iloc[:, [3]]"
   ]
  },
  {
   "cell_type": "code",
   "execution_count": 19,
   "id": "b7ff42e0",
   "metadata": {
    "execution": {
     "iopub.execute_input": "2025-08-19T18:43:20.743238Z",
     "iopub.status.busy": "2025-08-19T18:43:20.742550Z",
     "iopub.status.idle": "2025-08-19T18:43:20.797361Z",
     "shell.execute_reply": "2025-08-19T18:43:20.796312Z"
    },
    "papermill": {
     "duration": 0.068329,
     "end_time": "2025-08-19T18:43:20.799788",
     "exception": false,
     "start_time": "2025-08-19T18:43:20.731459",
     "status": "completed"
    },
    "tags": []
   },
   "outputs": [],
   "source": [
    "X_test = siab_test.iloc[:,4:164]\n",
    "y_true = siab_test.iloc[:, [3]]"
   ]
  },
  {
   "cell_type": "code",
   "execution_count": 20,
   "id": "0275101e",
   "metadata": {
    "execution": {
     "iopub.execute_input": "2025-08-19T18:43:20.837754Z",
     "iopub.status.busy": "2025-08-19T18:43:20.836520Z",
     "iopub.status.idle": "2025-08-19T18:43:20.955793Z",
     "shell.execute_reply": "2025-08-19T18:43:20.954819Z"
    },
    "papermill": {
     "duration": 0.135518,
     "end_time": "2025-08-19T18:43:20.958533",
     "exception": false,
     "start_time": "2025-08-19T18:43:20.823015",
     "status": "completed"
    },
    "tags": []
   },
   "outputs": [],
   "source": [
    "# Auxiliary data needed downstream in the pipeline\n",
    "\n",
    "org_train = X_train.copy()\n",
    "org_test = X_test.copy()\n",
    "org_calib = X_calib.copy()"
   ]
  },
  {
   "cell_type": "markdown",
   "id": "b461e618",
   "metadata": {
    "papermill": {
     "duration": 0.01838,
     "end_time": "2025-08-19T18:43:21.004671",
     "exception": false,
     "start_time": "2025-08-19T18:43:20.986291",
     "status": "completed"
    },
    "tags": []
   },
   "source": [
    "# Preprocessing Data"
   ]
  },
  {
   "cell_type": "code",
   "execution_count": 21,
   "id": "78e74c4b",
   "metadata": {
    "execution": {
     "iopub.execute_input": "2025-08-19T18:43:21.028106Z",
     "iopub.status.busy": "2025-08-19T18:43:21.027673Z",
     "iopub.status.idle": "2025-08-19T18:43:21.032944Z",
     "shell.execute_reply": "2025-08-19T18:43:21.032084Z"
    },
    "papermill": {
     "duration": 0.018611,
     "end_time": "2025-08-19T18:43:21.034456",
     "exception": false,
     "start_time": "2025-08-19T18:43:21.015845",
     "status": "completed"
    },
    "tags": []
   },
   "outputs": [],
   "source": [
    "# EXCLUDE PROTECTED FEATURES\n",
    "# --------------------------\n",
    "\n",
    "excluded_features = universe[\"exclude_features\"].split(\"-\")\n",
    "excluded_features_dictionary = {\n",
    "    \"nationality\": [\"maxdeutsch1\", \"maxdeutsch.Missing.\"],\n",
    "    \"sex\": [\"frau1\"],\n",
    "    \"age\": [\"age\"],\n",
    "}"
   ]
  },
  {
   "cell_type": "code",
   "execution_count": 22,
   "id": "f8e63555",
   "metadata": {
    "execution": {
     "iopub.execute_input": "2025-08-19T18:43:21.057461Z",
     "iopub.status.busy": "2025-08-19T18:43:21.057060Z",
     "iopub.status.idle": "2025-08-19T18:43:21.062162Z",
     "shell.execute_reply": "2025-08-19T18:43:21.061307Z"
    },
    "papermill": {
     "duration": 0.018286,
     "end_time": "2025-08-19T18:43:21.063632",
     "exception": false,
     "start_time": "2025-08-19T18:43:21.045346",
     "status": "completed"
    },
    "tags": []
   },
   "outputs": [],
   "source": [
    "excluded_features_columns = [\n",
    "    excluded_features_dictionary[f] for f in excluded_features if len(f) > 0 and f != \"none\"\n",
    "]"
   ]
  },
  {
   "cell_type": "code",
   "execution_count": 23,
   "id": "da781f7c",
   "metadata": {
    "execution": {
     "iopub.execute_input": "2025-08-19T18:43:21.098292Z",
     "iopub.status.busy": "2025-08-19T18:43:21.097866Z",
     "iopub.status.idle": "2025-08-19T18:43:21.102529Z",
     "shell.execute_reply": "2025-08-19T18:43:21.101716Z"
    },
    "papermill": {
     "duration": 0.028244,
     "end_time": "2025-08-19T18:43:21.105313",
     "exception": false,
     "start_time": "2025-08-19T18:43:21.077069",
     "status": "completed"
    },
    "tags": []
   },
   "outputs": [],
   "source": [
    "from fairness_multiverse.universe import flatten_once\n",
    "\n",
    "excluded_features_columns = flatten_once(excluded_features_columns)"
   ]
  },
  {
   "cell_type": "code",
   "execution_count": 24,
   "id": "37fef0f0",
   "metadata": {
    "execution": {
     "iopub.execute_input": "2025-08-19T18:43:21.146450Z",
     "iopub.status.busy": "2025-08-19T18:43:21.145604Z",
     "iopub.status.idle": "2025-08-19T18:43:21.157727Z",
     "shell.execute_reply": "2025-08-19T18:43:21.156768Z"
    },
    "papermill": {
     "duration": 0.040094,
     "end_time": "2025-08-19T18:43:21.161244",
     "exception": false,
     "start_time": "2025-08-19T18:43:21.121150",
     "status": "completed"
    },
    "tags": []
   },
   "outputs": [
    {
     "name": "stdout",
     "output_type": "stream",
     "text": [
      "Dropping features: ['frau1']\n"
     ]
    }
   ],
   "source": [
    "if len(excluded_features_columns) > 0:\n",
    "    print(f\"Dropping features: {excluded_features_columns}\")\n",
    "    X_train.drop(excluded_features_columns, axis=1, inplace=True)"
   ]
  },
  {
   "cell_type": "code",
   "execution_count": 25,
   "id": "d029e3e9",
   "metadata": {
    "execution": {
     "iopub.execute_input": "2025-08-19T18:43:21.186169Z",
     "iopub.status.busy": "2025-08-19T18:43:21.185708Z",
     "iopub.status.idle": "2025-08-19T18:43:21.276510Z",
     "shell.execute_reply": "2025-08-19T18:43:21.275470Z"
    },
    "papermill": {
     "duration": 0.106399,
     "end_time": "2025-08-19T18:43:21.280808",
     "exception": false,
     "start_time": "2025-08-19T18:43:21.174409",
     "status": "completed"
    },
    "tags": []
   },
   "outputs": [
    {
     "name": "stdout",
     "output_type": "stream",
     "text": [
      "Dropping features: ['frau1']\n"
     ]
    }
   ],
   "source": [
    "if len(excluded_features_columns) > 0:\n",
    "    print(f\"Dropping features: {excluded_features_columns}\")\n",
    "    X_test.drop(excluded_features_columns, axis=1, inplace=True)"
   ]
  },
  {
   "cell_type": "code",
   "execution_count": 26,
   "id": "01d571f0",
   "metadata": {
    "execution": {
     "iopub.execute_input": "2025-08-19T18:43:21.343700Z",
     "iopub.status.busy": "2025-08-19T18:43:21.342993Z",
     "iopub.status.idle": "2025-08-19T18:43:21.391997Z",
     "shell.execute_reply": "2025-08-19T18:43:21.391074Z"
    },
    "papermill": {
     "duration": 0.076865,
     "end_time": "2025-08-19T18:43:21.393398",
     "exception": false,
     "start_time": "2025-08-19T18:43:21.316533",
     "status": "completed"
    },
    "tags": []
   },
   "outputs": [
    {
     "name": "stdout",
     "output_type": "stream",
     "text": [
      "Dropping features: ['frau1']\n"
     ]
    }
   ],
   "source": [
    "if len(excluded_features_columns) > 0:\n",
    "    print(f\"Dropping features: {excluded_features_columns}\")\n",
    "    X_calib.drop(excluded_features_columns, axis=1, inplace=True)"
   ]
  },
  {
   "cell_type": "code",
   "execution_count": 27,
   "id": "3037356e",
   "metadata": {
    "execution": {
     "iopub.execute_input": "2025-08-19T18:43:21.424184Z",
     "iopub.status.busy": "2025-08-19T18:43:21.423105Z",
     "iopub.status.idle": "2025-08-19T18:43:21.431226Z",
     "shell.execute_reply": "2025-08-19T18:43:21.430035Z"
    },
    "papermill": {
     "duration": 0.029934,
     "end_time": "2025-08-19T18:43:21.434453",
     "exception": false,
     "start_time": "2025-08-19T18:43:21.404519",
     "status": "completed"
    },
    "tags": []
   },
   "outputs": [],
   "source": [
    "# EXCLUDE CERTAIN SUBGROUPS\n",
    "# -------------------------\n",
    "\n",
    "mode = universe.get(\"exclude_subgroups\", \"keep-all\") # Defaults to \"keep-all\" if the key is missing."
   ]
  },
  {
   "cell_type": "code",
   "execution_count": 28,
   "id": "9d1e63fd",
   "metadata": {
    "execution": {
     "iopub.execute_input": "2025-08-19T18:43:21.463639Z",
     "iopub.status.busy": "2025-08-19T18:43:21.463303Z",
     "iopub.status.idle": "2025-08-19T18:43:21.470284Z",
     "shell.execute_reply": "2025-08-19T18:43:21.469000Z"
    },
    "papermill": {
     "duration": 0.024659,
     "end_time": "2025-08-19T18:43:21.475522",
     "exception": false,
     "start_time": "2025-08-19T18:43:21.450863",
     "status": "completed"
    },
    "tags": []
   },
   "outputs": [],
   "source": [
    "if mode == \"keep-all\":\n",
    "    keep_mask = pd.Series(True, index=org_train.index)\n",
    "\n",
    "elif mode == \"drop-non-german\":\n",
    "    keep_mask = (org_train[\"maxdeutsch1\"] == 1) & (org_train[\"maxdeutsch.Missing.\"] == 0)\n",
    "\n",
    "else:\n",
    "    raise ValueError(f\"Unsupported mode for exclude_subgroups: {mode}\")"
   ]
  },
  {
   "cell_type": "code",
   "execution_count": 29,
   "id": "d3b65474",
   "metadata": {
    "execution": {
     "iopub.execute_input": "2025-08-19T18:43:21.512580Z",
     "iopub.status.busy": "2025-08-19T18:43:21.510913Z",
     "iopub.status.idle": "2025-08-19T18:43:21.521152Z",
     "shell.execute_reply": "2025-08-19T18:43:21.519876Z"
    },
    "papermill": {
     "duration": 0.026147,
     "end_time": "2025-08-19T18:43:21.523221",
     "exception": false,
     "start_time": "2025-08-19T18:43:21.497074",
     "status": "completed"
    },
    "tags": []
   },
   "outputs": [],
   "source": [
    "n_drop = (~keep_mask).sum() # Calculates how many rows are set to be dropped\n",
    "if n_drop > 0:\n",
    "    pct = n_drop / len(keep_mask) * 100\n",
    "    print(f\"Dropping {n_drop} rows ({pct:.2f}%) where mode='{mode}'\")"
   ]
  },
  {
   "cell_type": "code",
   "execution_count": 30,
   "id": "f44389b3",
   "metadata": {
    "execution": {
     "iopub.execute_input": "2025-08-19T18:43:21.550870Z",
     "iopub.status.busy": "2025-08-19T18:43:21.549819Z",
     "iopub.status.idle": "2025-08-19T18:43:21.567346Z",
     "shell.execute_reply": "2025-08-19T18:43:21.565940Z"
    },
    "papermill": {
     "duration": 0.032279,
     "end_time": "2025-08-19T18:43:21.569388",
     "exception": false,
     "start_time": "2025-08-19T18:43:21.537109",
     "status": "completed"
    },
    "tags": []
   },
   "outputs": [],
   "source": [
    "X_train = X_train[keep_mask]"
   ]
  },
  {
   "cell_type": "code",
   "execution_count": 31,
   "id": "ceca8c2a",
   "metadata": {
    "execution": {
     "iopub.execute_input": "2025-08-19T18:43:21.601562Z",
     "iopub.status.busy": "2025-08-19T18:43:21.600531Z",
     "iopub.status.idle": "2025-08-19T18:43:21.609702Z",
     "shell.execute_reply": "2025-08-19T18:43:21.608333Z"
    },
    "papermill": {
     "duration": 0.024812,
     "end_time": "2025-08-19T18:43:21.611470",
     "exception": false,
     "start_time": "2025-08-19T18:43:21.586658",
     "status": "completed"
    },
    "tags": []
   },
   "outputs": [],
   "source": [
    "y_train = y_train[keep_mask]"
   ]
  },
  {
   "cell_type": "markdown",
   "id": "04d31e2f",
   "metadata": {
    "papermill": {
     "duration": 0.010807,
     "end_time": "2025-08-19T18:43:21.635933",
     "exception": false,
     "start_time": "2025-08-19T18:43:21.625126",
     "status": "completed"
    },
    "tags": []
   },
   "source": [
    "# Model Training"
   ]
  },
  {
   "cell_type": "code",
   "execution_count": 32,
   "id": "db991733",
   "metadata": {
    "execution": {
     "iopub.execute_input": "2025-08-19T18:43:21.660182Z",
     "iopub.status.busy": "2025-08-19T18:43:21.659145Z",
     "iopub.status.idle": "2025-08-19T18:43:21.762193Z",
     "shell.execute_reply": "2025-08-19T18:43:21.760982Z"
    },
    "papermill": {
     "duration": 0.119122,
     "end_time": "2025-08-19T18:43:21.765713",
     "exception": false,
     "start_time": "2025-08-19T18:43:21.646591",
     "status": "completed"
    },
    "tags": []
   },
   "outputs": [],
   "source": [
    "from sklearn.linear_model import LogisticRegression\n",
    "from sklearn.ensemble import GradientBoostingClassifier, RandomForestClassifier\n",
    "\n",
    "if (universe[\"model\"] == \"logreg\"):\n",
    "    model = LogisticRegression() #penalty=\"none\", solver=\"newton-cg\", max_iter=1)\n",
    "elif (universe[\"model\"] == \"penalized_logreg\"):\n",
    "    model = LogisticRegression(penalty=\"l2\", C=0.1) #, solver=\"newton-cg\", max_iter=1)\n",
    "elif (universe[\"model\"] == \"rf\"):\n",
    "    model = RandomForestClassifier() # n_estimators=100, n_jobs=-1\n",
    "elif (universe[\"model\"] == \"gbm\"):\n",
    "    model = GradientBoostingClassifier()\n",
    "elif (universe[\"model\"] == \"elasticnet\"):\n",
    "    model = LogisticRegression(penalty = 'elasticnet', solver = 'saga', l1_ratio = 0.5) # max_iter=5000\n",
    "else:\n",
    "    raise \"Unsupported universe.model\""
   ]
  },
  {
   "cell_type": "code",
   "execution_count": 33,
   "id": "a4b5cd25",
   "metadata": {
    "execution": {
     "iopub.execute_input": "2025-08-19T18:43:21.805269Z",
     "iopub.status.busy": "2025-08-19T18:43:21.803495Z",
     "iopub.status.idle": "2025-08-19T18:43:21.813340Z",
     "shell.execute_reply": "2025-08-19T18:43:21.812093Z"
    },
    "papermill": {
     "duration": 0.025825,
     "end_time": "2025-08-19T18:43:21.815011",
     "exception": false,
     "start_time": "2025-08-19T18:43:21.789186",
     "status": "completed"
    },
    "tags": []
   },
   "outputs": [],
   "source": [
    "from sklearn.pipeline import Pipeline\n",
    "from sklearn.preprocessing import StandardScaler\n",
    "\n",
    "model = Pipeline([\n",
    "    #(\"continuous_processor\", continuous_processor),\n",
    "    #(\"categorical_preprocessor\", categorical_preprocessor),\n",
    "    (\"scale\", StandardScaler() if universe[\"scale\"] == \"scale\" else None), \n",
    "    (\"model\", model),\n",
    "])"
   ]
  },
  {
   "cell_type": "code",
   "execution_count": 34,
   "id": "283a904d",
   "metadata": {
    "execution": {
     "iopub.execute_input": "2025-08-19T18:43:21.842836Z",
     "iopub.status.busy": "2025-08-19T18:43:21.842107Z",
     "iopub.status.idle": "2025-08-19T18:43:26.250458Z",
     "shell.execute_reply": "2025-08-19T18:43:26.249366Z"
    },
    "papermill": {
     "duration": 4.422966,
     "end_time": "2025-08-19T18:43:26.252128",
     "exception": false,
     "start_time": "2025-08-19T18:43:21.829162",
     "status": "completed"
    },
    "tags": []
   },
   "outputs": [
    {
     "data": {
      "text/html": [
       "<style>#sk-container-id-1 {color: black;background-color: white;}#sk-container-id-1 pre{padding: 0;}#sk-container-id-1 div.sk-toggleable {background-color: white;}#sk-container-id-1 label.sk-toggleable__label {cursor: pointer;display: block;width: 100%;margin-bottom: 0;padding: 0.3em;box-sizing: border-box;text-align: center;}#sk-container-id-1 label.sk-toggleable__label-arrow:before {content: \"▸\";float: left;margin-right: 0.25em;color: #696969;}#sk-container-id-1 label.sk-toggleable__label-arrow:hover:before {color: black;}#sk-container-id-1 div.sk-estimator:hover label.sk-toggleable__label-arrow:before {color: black;}#sk-container-id-1 div.sk-toggleable__content {max-height: 0;max-width: 0;overflow: hidden;text-align: left;background-color: #f0f8ff;}#sk-container-id-1 div.sk-toggleable__content pre {margin: 0.2em;color: black;border-radius: 0.25em;background-color: #f0f8ff;}#sk-container-id-1 input.sk-toggleable__control:checked~div.sk-toggleable__content {max-height: 200px;max-width: 100%;overflow: auto;}#sk-container-id-1 input.sk-toggleable__control:checked~label.sk-toggleable__label-arrow:before {content: \"▾\";}#sk-container-id-1 div.sk-estimator input.sk-toggleable__control:checked~label.sk-toggleable__label {background-color: #d4ebff;}#sk-container-id-1 div.sk-label input.sk-toggleable__control:checked~label.sk-toggleable__label {background-color: #d4ebff;}#sk-container-id-1 input.sk-hidden--visually {border: 0;clip: rect(1px 1px 1px 1px);clip: rect(1px, 1px, 1px, 1px);height: 1px;margin: -1px;overflow: hidden;padding: 0;position: absolute;width: 1px;}#sk-container-id-1 div.sk-estimator {font-family: monospace;background-color: #f0f8ff;border: 1px dotted black;border-radius: 0.25em;box-sizing: border-box;margin-bottom: 0.5em;}#sk-container-id-1 div.sk-estimator:hover {background-color: #d4ebff;}#sk-container-id-1 div.sk-parallel-item::after {content: \"\";width: 100%;border-bottom: 1px solid gray;flex-grow: 1;}#sk-container-id-1 div.sk-label:hover label.sk-toggleable__label {background-color: #d4ebff;}#sk-container-id-1 div.sk-serial::before {content: \"\";position: absolute;border-left: 1px solid gray;box-sizing: border-box;top: 0;bottom: 0;left: 50%;z-index: 0;}#sk-container-id-1 div.sk-serial {display: flex;flex-direction: column;align-items: center;background-color: white;padding-right: 0.2em;padding-left: 0.2em;position: relative;}#sk-container-id-1 div.sk-item {position: relative;z-index: 1;}#sk-container-id-1 div.sk-parallel {display: flex;align-items: stretch;justify-content: center;background-color: white;position: relative;}#sk-container-id-1 div.sk-item::before, #sk-container-id-1 div.sk-parallel-item::before {content: \"\";position: absolute;border-left: 1px solid gray;box-sizing: border-box;top: 0;bottom: 0;left: 50%;z-index: -1;}#sk-container-id-1 div.sk-parallel-item {display: flex;flex-direction: column;z-index: 1;position: relative;background-color: white;}#sk-container-id-1 div.sk-parallel-item:first-child::after {align-self: flex-end;width: 50%;}#sk-container-id-1 div.sk-parallel-item:last-child::after {align-self: flex-start;width: 50%;}#sk-container-id-1 div.sk-parallel-item:only-child::after {width: 0;}#sk-container-id-1 div.sk-dashed-wrapped {border: 1px dashed gray;margin: 0 0.4em 0.5em 0.4em;box-sizing: border-box;padding-bottom: 0.4em;background-color: white;}#sk-container-id-1 div.sk-label label {font-family: monospace;font-weight: bold;display: inline-block;line-height: 1.2em;}#sk-container-id-1 div.sk-label-container {text-align: center;}#sk-container-id-1 div.sk-container {/* jupyter's `normalize.less` sets `[hidden] { display: none; }` but bootstrap.min.css set `[hidden] { display: none !important; }` so we also need the `!important` here to be able to override the default hidden behavior on the sphinx rendered scikit-learn.org. See: https://github.com/scikit-learn/scikit-learn/issues/21755 */display: inline-block !important;position: relative;}#sk-container-id-1 div.sk-text-repr-fallback {display: none;}</style><div id=\"sk-container-id-1\" class=\"sk-top-container\"><div class=\"sk-text-repr-fallback\"><pre>Pipeline(steps=[(&#x27;scale&#x27;, StandardScaler()),\n",
       "                (&#x27;model&#x27;, GradientBoostingClassifier())])</pre><b>In a Jupyter environment, please rerun this cell to show the HTML representation or trust the notebook. <br />On GitHub, the HTML representation is unable to render, please try loading this page with nbviewer.org.</b></div><div class=\"sk-container\" hidden><div class=\"sk-item sk-dashed-wrapped\"><div class=\"sk-label-container\"><div class=\"sk-label sk-toggleable\"><input class=\"sk-toggleable__control sk-hidden--visually\" id=\"sk-estimator-id-1\" type=\"checkbox\" ><label for=\"sk-estimator-id-1\" class=\"sk-toggleable__label sk-toggleable__label-arrow\">Pipeline</label><div class=\"sk-toggleable__content\"><pre>Pipeline(steps=[(&#x27;scale&#x27;, StandardScaler()),\n",
       "                (&#x27;model&#x27;, GradientBoostingClassifier())])</pre></div></div></div><div class=\"sk-serial\"><div class=\"sk-item\"><div class=\"sk-estimator sk-toggleable\"><input class=\"sk-toggleable__control sk-hidden--visually\" id=\"sk-estimator-id-2\" type=\"checkbox\" ><label for=\"sk-estimator-id-2\" class=\"sk-toggleable__label sk-toggleable__label-arrow\">StandardScaler</label><div class=\"sk-toggleable__content\"><pre>StandardScaler()</pre></div></div></div><div class=\"sk-item\"><div class=\"sk-estimator sk-toggleable\"><input class=\"sk-toggleable__control sk-hidden--visually\" id=\"sk-estimator-id-3\" type=\"checkbox\" ><label for=\"sk-estimator-id-3\" class=\"sk-toggleable__label sk-toggleable__label-arrow\">GradientBoostingClassifier</label><div class=\"sk-toggleable__content\"><pre>GradientBoostingClassifier()</pre></div></div></div></div></div></div></div>"
      ],
      "text/plain": [
       "Pipeline(steps=[('scale', StandardScaler()),\n",
       "                ('model', GradientBoostingClassifier())])"
      ]
     },
     "execution_count": 34,
     "metadata": {},
     "output_type": "execute_result"
    }
   ],
   "source": [
    "model.fit(X_train, y_train.values.ravel())"
   ]
  },
  {
   "cell_type": "code",
   "execution_count": 35,
   "id": "6e15e313",
   "metadata": {
    "execution": {
     "iopub.execute_input": "2025-08-19T18:43:26.281518Z",
     "iopub.status.busy": "2025-08-19T18:43:26.280836Z",
     "iopub.status.idle": "2025-08-19T18:43:26.924800Z",
     "shell.execute_reply": "2025-08-19T18:43:26.923186Z"
    },
    "papermill": {
     "duration": 0.663069,
     "end_time": "2025-08-19T18:43:26.930314",
     "exception": false,
     "start_time": "2025-08-19T18:43:26.267245",
     "status": "completed"
    },
    "tags": []
   },
   "outputs": [
    {
     "data": {
      "text/plain": [
       "0.8623787760561811"
      ]
     },
     "execution_count": 35,
     "metadata": {},
     "output_type": "execute_result"
    }
   ],
   "source": [
    "from fairness_multiverse.universe import predict_w_threshold\n",
    "\n",
    "probs_test = model.predict_proba(X_test)\n",
    "\n",
    "'''\n",
    "Below code returns a boolean array (or binary 0/1 array depending on how it’s used) where each element \n",
    "is True if the probability of class 1 is greater than or equal to the threshold, and False otherwise.\n",
    "'''\n",
    "y_pred_default = predict_w_threshold(probs_test, 0.5)\n",
    "\n",
    "from sklearn.metrics import accuracy_score\n",
    "\n",
    "# Naive prediction\n",
    "accuracy_score(y_true = y_true, y_pred = y_pred_default)"
   ]
  },
  {
   "cell_type": "code",
   "execution_count": 36,
   "id": "6f14067c",
   "metadata": {
    "execution": {
     "iopub.execute_input": "2025-08-19T18:43:26.954490Z",
     "iopub.status.busy": "2025-08-19T18:43:26.954058Z",
     "iopub.status.idle": "2025-08-19T18:43:27.605450Z",
     "shell.execute_reply": "2025-08-19T18:43:27.604075Z"
    },
    "papermill": {
     "duration": 0.665049,
     "end_time": "2025-08-19T18:43:27.606867",
     "exception": false,
     "start_time": "2025-08-19T18:43:26.941818",
     "status": "completed"
    },
    "tags": []
   },
   "outputs": [
    {
     "data": {
      "text/plain": [
       "array([0, 0, 0, ..., 0, 0, 0])"
      ]
     },
     "execution_count": 36,
     "metadata": {},
     "output_type": "execute_result"
    }
   ],
   "source": [
    "model.predict(X_test)"
   ]
  },
  {
   "cell_type": "markdown",
   "id": "3759920c",
   "metadata": {
    "papermill": {
     "duration": 0.022717,
     "end_time": "2025-08-19T18:43:27.655110",
     "exception": false,
     "start_time": "2025-08-19T18:43:27.632393",
     "status": "completed"
    },
    "tags": []
   },
   "source": [
    "# Conformal Prediction"
   ]
  },
  {
   "cell_type": "code",
   "execution_count": 37,
   "id": "14b27f59",
   "metadata": {
    "execution": {
     "iopub.execute_input": "2025-08-19T18:43:27.682834Z",
     "iopub.status.busy": "2025-08-19T18:43:27.680342Z",
     "iopub.status.idle": "2025-08-19T18:43:27.690011Z",
     "shell.execute_reply": "2025-08-19T18:43:27.688811Z"
    },
    "papermill": {
     "duration": 0.027412,
     "end_time": "2025-08-19T18:43:27.695287",
     "exception": false,
     "start_time": "2025-08-19T18:43:27.667875",
     "status": "completed"
    },
    "tags": []
   },
   "outputs": [],
   "source": [
    "# Miscoverage level for conformal prediction (10% allowed error rate => 90% target coverage)\n",
    "alpha = 0.1"
   ]
  },
  {
   "cell_type": "code",
   "execution_count": 38,
   "id": "59102472",
   "metadata": {
    "execution": {
     "iopub.execute_input": "2025-08-19T18:43:27.731271Z",
     "iopub.status.busy": "2025-08-19T18:43:27.730248Z",
     "iopub.status.idle": "2025-08-19T18:43:28.404312Z",
     "shell.execute_reply": "2025-08-19T18:43:28.403006Z"
    },
    "papermill": {
     "duration": 0.689758,
     "end_time": "2025-08-19T18:43:28.406046",
     "exception": false,
     "start_time": "2025-08-19T18:43:27.716288",
     "status": "completed"
    },
    "tags": []
   },
   "outputs": [],
   "source": [
    "probs_calib = model.predict_proba(X_calib)"
   ]
  },
  {
   "cell_type": "code",
   "execution_count": 39,
   "id": "a792d4dd",
   "metadata": {
    "execution": {
     "iopub.execute_input": "2025-08-19T18:43:28.435620Z",
     "iopub.status.busy": "2025-08-19T18:43:28.434411Z",
     "iopub.status.idle": "2025-08-19T18:43:28.446249Z",
     "shell.execute_reply": "2025-08-19T18:43:28.445025Z"
    },
    "papermill": {
     "duration": 0.029892,
     "end_time": "2025-08-19T18:43:28.448246",
     "exception": false,
     "start_time": "2025-08-19T18:43:28.418354",
     "status": "completed"
    },
    "tags": []
   },
   "outputs": [],
   "source": [
    "y_calib = y_calib.values.ravel().astype(int)"
   ]
  },
  {
   "cell_type": "code",
   "execution_count": 40,
   "id": "650fd033",
   "metadata": {
    "execution": {
     "iopub.execute_input": "2025-08-19T18:43:28.477648Z",
     "iopub.status.busy": "2025-08-19T18:43:28.475260Z",
     "iopub.status.idle": "2025-08-19T18:43:28.509102Z",
     "shell.execute_reply": "2025-08-19T18:43:28.507599Z"
    },
    "papermill": {
     "duration": 0.050786,
     "end_time": "2025-08-19T18:43:28.512526",
     "exception": false,
     "start_time": "2025-08-19T18:43:28.461740",
     "status": "completed"
    },
    "tags": []
   },
   "outputs": [],
   "source": [
    "from fairness_multiverse.conformal import compute_nc_scores\n",
    "\n",
    "# Compute nonconformity scores on calibration set (1 - probability of true class)\n",
    "nc_scores = compute_nc_scores(probs_calib, y_calib)"
   ]
  },
  {
   "cell_type": "code",
   "execution_count": 41,
   "id": "28ada44c",
   "metadata": {
    "execution": {
     "iopub.execute_input": "2025-08-19T18:43:28.553754Z",
     "iopub.status.busy": "2025-08-19T18:43:28.553113Z",
     "iopub.status.idle": "2025-08-19T18:43:28.559815Z",
     "shell.execute_reply": "2025-08-19T18:43:28.558999Z"
    },
    "papermill": {
     "duration": 0.030735,
     "end_time": "2025-08-19T18:43:28.561412",
     "exception": false,
     "start_time": "2025-08-19T18:43:28.530677",
     "status": "completed"
    },
    "tags": []
   },
   "outputs": [],
   "source": [
    "from fairness_multiverse.conformal import find_threshold\n",
    "\n",
    "# Find conformal threshold q_hat for the given alpha (split conformal method)\n",
    "q_hat = find_threshold(nc_scores, alpha)"
   ]
  },
  {
   "cell_type": "code",
   "execution_count": 42,
   "id": "df56469e",
   "metadata": {
    "execution": {
     "iopub.execute_input": "2025-08-19T18:43:28.588972Z",
     "iopub.status.busy": "2025-08-19T18:43:28.588545Z",
     "iopub.status.idle": "2025-08-19T18:43:28.594477Z",
     "shell.execute_reply": "2025-08-19T18:43:28.593794Z"
    },
    "papermill": {
     "duration": 0.019696,
     "end_time": "2025-08-19T18:43:28.595966",
     "exception": false,
     "start_time": "2025-08-19T18:43:28.576270",
     "status": "completed"
    },
    "tags": []
   },
   "outputs": [
    {
     "data": {
      "text/plain": [
       "0.6850738445123488"
      ]
     },
     "execution_count": 42,
     "metadata": {},
     "output_type": "execute_result"
    }
   ],
   "source": [
    "q_hat"
   ]
  },
  {
   "cell_type": "code",
   "execution_count": 43,
   "id": "aa1f5faa",
   "metadata": {
    "execution": {
     "iopub.execute_input": "2025-08-19T18:43:28.628468Z",
     "iopub.status.busy": "2025-08-19T18:43:28.628132Z",
     "iopub.status.idle": "2025-08-19T18:43:29.964078Z",
     "shell.execute_reply": "2025-08-19T18:43:29.962969Z"
    },
    "papermill": {
     "duration": 1.351322,
     "end_time": "2025-08-19T18:43:29.965801",
     "exception": false,
     "start_time": "2025-08-19T18:43:28.614479",
     "status": "completed"
    },
    "tags": []
   },
   "outputs": [],
   "source": [
    "from fairness_multiverse.conformal import predict_conformal_sets\n",
    "\n",
    "# Generate prediction sets for each test example\n",
    "pred_sets = predict_conformal_sets(model, X_test, q_hat)"
   ]
  },
  {
   "cell_type": "code",
   "execution_count": 44,
   "id": "97f67a6b",
   "metadata": {
    "execution": {
     "iopub.execute_input": "2025-08-19T18:43:29.991590Z",
     "iopub.status.busy": "2025-08-19T18:43:29.991267Z",
     "iopub.status.idle": "2025-08-19T18:43:29.996504Z",
     "shell.execute_reply": "2025-08-19T18:43:29.995780Z"
    },
    "papermill": {
     "duration": 0.019458,
     "end_time": "2025-08-19T18:43:29.997684",
     "exception": false,
     "start_time": "2025-08-19T18:43:29.978226",
     "status": "completed"
    },
    "tags": []
   },
   "outputs": [],
   "source": [
    "y_true = y_true.squeeze()"
   ]
  },
  {
   "cell_type": "code",
   "execution_count": 45,
   "id": "e700e9a7",
   "metadata": {
    "execution": {
     "iopub.execute_input": "2025-08-19T18:43:30.022468Z",
     "iopub.status.busy": "2025-08-19T18:43:30.021788Z",
     "iopub.status.idle": "2025-08-19T18:43:30.570693Z",
     "shell.execute_reply": "2025-08-19T18:43:30.569129Z"
    },
    "papermill": {
     "duration": 0.562929,
     "end_time": "2025-08-19T18:43:30.572543",
     "exception": false,
     "start_time": "2025-08-19T18:43:30.009614",
     "status": "completed"
    },
    "tags": []
   },
   "outputs": [],
   "source": [
    "from fairness_multiverse.conformal import evaluate_sets\n",
    "\n",
    "# Evaluate coverage and average set size on test data\n",
    "metrics = evaluate_sets(pred_sets, y_true)"
   ]
  },
  {
   "cell_type": "markdown",
   "id": "efbacec0",
   "metadata": {
    "papermill": {
     "duration": 0.02344,
     "end_time": "2025-08-19T18:43:30.615838",
     "exception": false,
     "start_time": "2025-08-19T18:43:30.592398",
     "status": "completed"
    },
    "tags": []
   },
   "source": [
    "# CP Metrics"
   ]
  },
  {
   "cell_type": "code",
   "execution_count": 46,
   "id": "9de55fb1",
   "metadata": {
    "execution": {
     "iopub.execute_input": "2025-08-19T18:43:30.642083Z",
     "iopub.status.busy": "2025-08-19T18:43:30.641717Z",
     "iopub.status.idle": "2025-08-19T18:43:30.649872Z",
     "shell.execute_reply": "2025-08-19T18:43:30.649001Z"
    },
    "papermill": {
     "duration": 0.027814,
     "end_time": "2025-08-19T18:43:30.656866",
     "exception": false,
     "start_time": "2025-08-19T18:43:30.629052",
     "status": "completed"
    },
    "tags": []
   },
   "outputs": [
    {
     "data": {
      "text/plain": [
       "{'coverage': 0.9108237654665032, 'avg_size': 1.13092185932449}"
      ]
     },
     "execution_count": 46,
     "metadata": {},
     "output_type": "execute_result"
    }
   ],
   "source": [
    "metrics"
   ]
  },
  {
   "cell_type": "code",
   "execution_count": 47,
   "id": "64c340a1",
   "metadata": {
    "execution": {
     "iopub.execute_input": "2025-08-19T18:43:30.691584Z",
     "iopub.status.busy": "2025-08-19T18:43:30.690596Z",
     "iopub.status.idle": "2025-08-19T18:43:30.701554Z",
     "shell.execute_reply": "2025-08-19T18:43:30.700240Z"
    },
    "papermill": {
     "duration": 0.026867,
     "end_time": "2025-08-19T18:43:30.703416",
     "exception": false,
     "start_time": "2025-08-19T18:43:30.676549",
     "status": "completed"
    },
    "tags": []
   },
   "outputs": [],
   "source": [
    "example_universe = universe.copy()\n",
    "universe_training_year = example_universe.get(\"training_year\")\n",
    "universe_training_size = example_universe.get(\"training_size\")\n",
    "universe_scale = example_universe.get(\"scale\")\n",
    "universe_model = example_universe.get(\"model\")\n",
    "universe_exclude_features = example_universe.get(\"exclude_features\")\n",
    "universe_exclude_subgroups = example_universe.get(\"exclude_subgroups\")"
   ]
  },
  {
   "cell_type": "code",
   "execution_count": 48,
   "id": "dbb53cb4",
   "metadata": {
    "execution": {
     "iopub.execute_input": "2025-08-19T18:43:30.732002Z",
     "iopub.status.busy": "2025-08-19T18:43:30.731565Z",
     "iopub.status.idle": "2025-08-19T18:43:30.736764Z",
     "shell.execute_reply": "2025-08-19T18:43:30.735942Z"
    },
    "papermill": {
     "duration": 0.019622,
     "end_time": "2025-08-19T18:43:30.737988",
     "exception": false,
     "start_time": "2025-08-19T18:43:30.718366",
     "status": "completed"
    },
    "tags": []
   },
   "outputs": [],
   "source": [
    "cp_metrics_dict = {\n",
    "    \"universe_id\": [universe_id],\n",
    "    \"universe_training_year\": [universe_training_year],\n",
    "    \"universe_training_size\": [universe_training_size],\n",
    "    \"universe_scale\": [universe_scale],\n",
    "    \"universe_model\": [universe_model],\n",
    "    \"universe_exclude_features\": [universe_exclude_features],\n",
    "    \"universe_exclude_subgroups\": [universe_exclude_subgroups],\n",
    "    \"q_hat\": [q_hat],\n",
    "    \"coverage\": [metrics[\"coverage\"]],\n",
    "    \"avg_size\": [metrics[\"avg_size\"]],\n",
    "}"
   ]
  },
  {
   "cell_type": "code",
   "execution_count": 49,
   "id": "0d70d4b2",
   "metadata": {
    "execution": {
     "iopub.execute_input": "2025-08-19T18:43:30.764079Z",
     "iopub.status.busy": "2025-08-19T18:43:30.763658Z",
     "iopub.status.idle": "2025-08-19T18:43:30.769560Z",
     "shell.execute_reply": "2025-08-19T18:43:30.768766Z"
    },
    "papermill": {
     "duration": 0.020258,
     "end_time": "2025-08-19T18:43:30.770813",
     "exception": false,
     "start_time": "2025-08-19T18:43:30.750555",
     "status": "completed"
    },
    "tags": []
   },
   "outputs": [],
   "source": [
    "cp_metrics_df = pd.DataFrame(cp_metrics_dict)"
   ]
  },
  {
   "cell_type": "code",
   "execution_count": 50,
   "id": "b494403c",
   "metadata": {
    "execution": {
     "iopub.execute_input": "2025-08-19T18:43:30.797015Z",
     "iopub.status.busy": "2025-08-19T18:43:30.796589Z",
     "iopub.status.idle": "2025-08-19T18:43:30.809619Z",
     "shell.execute_reply": "2025-08-19T18:43:30.808917Z"
    },
    "papermill": {
     "duration": 0.032659,
     "end_time": "2025-08-19T18:43:30.816125",
     "exception": false,
     "start_time": "2025-08-19T18:43:30.783466",
     "status": "completed"
    },
    "tags": []
   },
   "outputs": [
    {
     "data": {
      "text/html": [
       "<div>\n",
       "<style scoped>\n",
       "    .dataframe tbody tr th:only-of-type {\n",
       "        vertical-align: middle;\n",
       "    }\n",
       "\n",
       "    .dataframe tbody tr th {\n",
       "        vertical-align: top;\n",
       "    }\n",
       "\n",
       "    .dataframe thead th {\n",
       "        text-align: right;\n",
       "    }\n",
       "</style>\n",
       "<table border=\"1\" class=\"dataframe\">\n",
       "  <thead>\n",
       "    <tr style=\"text-align: right;\">\n",
       "      <th></th>\n",
       "      <th>universe_id</th>\n",
       "      <th>universe_training_year</th>\n",
       "      <th>universe_training_size</th>\n",
       "      <th>universe_scale</th>\n",
       "      <th>universe_model</th>\n",
       "      <th>universe_exclude_features</th>\n",
       "      <th>universe_exclude_subgroups</th>\n",
       "      <th>q_hat</th>\n",
       "      <th>coverage</th>\n",
       "      <th>avg_size</th>\n",
       "    </tr>\n",
       "  </thead>\n",
       "  <tbody>\n",
       "    <tr>\n",
       "      <th>0</th>\n",
       "      <td>eacfa6f5129ff75cedd887b18eb9c24c</td>\n",
       "      <td>2010_14</td>\n",
       "      <td>5k</td>\n",
       "      <td>scale</td>\n",
       "      <td>gbm</td>\n",
       "      <td>sex</td>\n",
       "      <td>keep-all</td>\n",
       "      <td>0.685074</td>\n",
       "      <td>0.910824</td>\n",
       "      <td>1.130922</td>\n",
       "    </tr>\n",
       "  </tbody>\n",
       "</table>\n",
       "</div>"
      ],
      "text/plain": [
       "                        universe_id universe_training_year  \\\n",
       "0  eacfa6f5129ff75cedd887b18eb9c24c                2010_14   \n",
       "\n",
       "  universe_training_size universe_scale universe_model  \\\n",
       "0                     5k          scale            gbm   \n",
       "\n",
       "  universe_exclude_features universe_exclude_subgroups     q_hat  coverage  \\\n",
       "0                       sex                   keep-all  0.685074  0.910824   \n",
       "\n",
       "   avg_size  \n",
       "0  1.130922  "
      ]
     },
     "execution_count": 50,
     "metadata": {},
     "output_type": "execute_result"
    }
   ],
   "source": [
    "cp_metrics_df"
   ]
  },
  {
   "cell_type": "markdown",
   "id": "ed608b0b",
   "metadata": {
    "papermill": {
     "duration": 0.012389,
     "end_time": "2025-08-19T18:43:30.853043",
     "exception": false,
     "start_time": "2025-08-19T18:43:30.840654",
     "status": "completed"
    },
    "tags": []
   },
   "source": [
    "Conditional coverage & looking at subgroups"
   ]
  },
  {
   "cell_type": "code",
   "execution_count": 51,
   "id": "8968c366",
   "metadata": {
    "execution": {
     "iopub.execute_input": "2025-08-19T18:43:30.880961Z",
     "iopub.status.busy": "2025-08-19T18:43:30.878396Z",
     "iopub.status.idle": "2025-08-19T18:43:31.264117Z",
     "shell.execute_reply": "2025-08-19T18:43:31.262954Z"
    },
    "papermill": {
     "duration": 0.400889,
     "end_time": "2025-08-19T18:43:31.265748",
     "exception": false,
     "start_time": "2025-08-19T18:43:30.864859",
     "status": "completed"
    },
    "tags": []
   },
   "outputs": [],
   "source": [
    "from fairness_multiverse.conformal import build_cp_groups\n",
    "\n",
    "cp_groups_df = build_cp_groups(pred_sets, y_true, X_test.index, org_test)"
   ]
  },
  {
   "cell_type": "code",
   "execution_count": 52,
   "id": "292ddabf",
   "metadata": {
    "execution": {
     "iopub.execute_input": "2025-08-19T18:43:31.304357Z",
     "iopub.status.busy": "2025-08-19T18:43:31.303773Z",
     "iopub.status.idle": "2025-08-19T18:43:32.260013Z",
     "shell.execute_reply": "2025-08-19T18:43:32.258758Z"
    },
    "papermill": {
     "duration": 0.976585,
     "end_time": "2025-08-19T18:43:32.261910",
     "exception": false,
     "start_time": "2025-08-19T18:43:31.285325",
     "status": "completed"
    },
    "tags": []
   },
   "outputs": [],
   "source": [
    "# Define covered = 1 if true_label is in the predicted set\n",
    "cp_groups_df['covered'] = cp_groups_df.apply(\n",
    "    lambda r: int(r['true_label'] in r['pred_set']),\n",
    "    axis=1\n",
    ")"
   ]
  },
  {
   "cell_type": "code",
   "execution_count": 53,
   "id": "3a261692",
   "metadata": {
    "execution": {
     "iopub.execute_input": "2025-08-19T18:43:32.289698Z",
     "iopub.status.busy": "2025-08-19T18:43:32.288787Z",
     "iopub.status.idle": "2025-08-19T18:43:32.310982Z",
     "shell.execute_reply": "2025-08-19T18:43:32.309981Z"
    },
    "papermill": {
     "duration": 0.037427,
     "end_time": "2025-08-19T18:43:32.312583",
     "exception": false,
     "start_time": "2025-08-19T18:43:32.275156",
     "status": "completed"
    },
    "tags": []
   },
   "outputs": [],
   "source": [
    "subgroups = ['frau1','nongerman','nongerman_male','nongerman_female']\n",
    "\n",
    "# Conditional coverage for subgroup==1\n",
    "cond_coverage = {\n",
    "    g: cp_groups_df.loc[cp_groups_df[g]==1, 'covered'].mean()\n",
    "    for g in subgroups\n",
    "}"
   ]
  },
  {
   "cell_type": "code",
   "execution_count": 54,
   "id": "894fd600",
   "metadata": {
    "execution": {
     "iopub.execute_input": "2025-08-19T18:43:32.354403Z",
     "iopub.status.busy": "2025-08-19T18:43:32.353922Z",
     "iopub.status.idle": "2025-08-19T18:43:32.361461Z",
     "shell.execute_reply": "2025-08-19T18:43:32.360505Z"
    },
    "papermill": {
     "duration": 0.025374,
     "end_time": "2025-08-19T18:43:32.362735",
     "exception": false,
     "start_time": "2025-08-19T18:43:32.337361",
     "status": "completed"
    },
    "tags": []
   },
   "outputs": [
    {
     "data": {
      "text/plain": [
       "{'frau1': 0.9106078986386306,\n",
       " 'nongerman': 0.9115814292932128,\n",
       " 'nongerman_male': 0.9254255606592813,\n",
       " 'nongerman_female': 0.8886736214605067}"
      ]
     },
     "execution_count": 54,
     "metadata": {},
     "output_type": "execute_result"
    }
   ],
   "source": [
    "cond_coverage"
   ]
  },
  {
   "cell_type": "code",
   "execution_count": 55,
   "id": "942895c7",
   "metadata": {
    "execution": {
     "iopub.execute_input": "2025-08-19T18:43:32.399496Z",
     "iopub.status.busy": "2025-08-19T18:43:32.399211Z",
     "iopub.status.idle": "2025-08-19T18:43:32.409325Z",
     "shell.execute_reply": "2025-08-19T18:43:32.408572Z"
    },
    "papermill": {
     "duration": 0.034747,
     "end_time": "2025-08-19T18:43:32.412073",
     "exception": false,
     "start_time": "2025-08-19T18:43:32.377326",
     "status": "completed"
    },
    "tags": []
   },
   "outputs": [],
   "source": [
    "for subgroup, cov in cond_coverage.items():\n",
    "    cp_metrics_df[f\"cov_{subgroup}\"] = cov"
   ]
  },
  {
   "cell_type": "code",
   "execution_count": 56,
   "id": "3970120f",
   "metadata": {
    "execution": {
     "iopub.execute_input": "2025-08-19T18:43:32.470255Z",
     "iopub.status.busy": "2025-08-19T18:43:32.469681Z",
     "iopub.status.idle": "2025-08-19T18:43:32.485157Z",
     "shell.execute_reply": "2025-08-19T18:43:32.484279Z"
    },
    "papermill": {
     "duration": 0.054442,
     "end_time": "2025-08-19T18:43:32.491279",
     "exception": false,
     "start_time": "2025-08-19T18:43:32.436837",
     "status": "completed"
    },
    "tags": []
   },
   "outputs": [
    {
     "data": {
      "text/html": [
       "<div>\n",
       "<style scoped>\n",
       "    .dataframe tbody tr th:only-of-type {\n",
       "        vertical-align: middle;\n",
       "    }\n",
       "\n",
       "    .dataframe tbody tr th {\n",
       "        vertical-align: top;\n",
       "    }\n",
       "\n",
       "    .dataframe thead th {\n",
       "        text-align: right;\n",
       "    }\n",
       "</style>\n",
       "<table border=\"1\" class=\"dataframe\">\n",
       "  <thead>\n",
       "    <tr style=\"text-align: right;\">\n",
       "      <th></th>\n",
       "      <th>universe_id</th>\n",
       "      <th>universe_training_year</th>\n",
       "      <th>universe_training_size</th>\n",
       "      <th>universe_scale</th>\n",
       "      <th>universe_model</th>\n",
       "      <th>universe_exclude_features</th>\n",
       "      <th>universe_exclude_subgroups</th>\n",
       "      <th>q_hat</th>\n",
       "      <th>coverage</th>\n",
       "      <th>avg_size</th>\n",
       "      <th>cov_frau1</th>\n",
       "      <th>cov_nongerman</th>\n",
       "      <th>cov_nongerman_male</th>\n",
       "      <th>cov_nongerman_female</th>\n",
       "    </tr>\n",
       "  </thead>\n",
       "  <tbody>\n",
       "    <tr>\n",
       "      <th>0</th>\n",
       "      <td>eacfa6f5129ff75cedd887b18eb9c24c</td>\n",
       "      <td>2010_14</td>\n",
       "      <td>5k</td>\n",
       "      <td>scale</td>\n",
       "      <td>gbm</td>\n",
       "      <td>sex</td>\n",
       "      <td>keep-all</td>\n",
       "      <td>0.685074</td>\n",
       "      <td>0.910824</td>\n",
       "      <td>1.130922</td>\n",
       "      <td>0.910608</td>\n",
       "      <td>0.911581</td>\n",
       "      <td>0.925426</td>\n",
       "      <td>0.888674</td>\n",
       "    </tr>\n",
       "  </tbody>\n",
       "</table>\n",
       "</div>"
      ],
      "text/plain": [
       "                        universe_id universe_training_year  \\\n",
       "0  eacfa6f5129ff75cedd887b18eb9c24c                2010_14   \n",
       "\n",
       "  universe_training_size universe_scale universe_model  \\\n",
       "0                     5k          scale            gbm   \n",
       "\n",
       "  universe_exclude_features universe_exclude_subgroups     q_hat  coverage  \\\n",
       "0                       sex                   keep-all  0.685074  0.910824   \n",
       "\n",
       "   avg_size  cov_frau1  cov_nongerman  cov_nongerman_male  \\\n",
       "0  1.130922   0.910608       0.911581            0.925426   \n",
       "\n",
       "   cov_nongerman_female  \n",
       "0              0.888674  "
      ]
     },
     "execution_count": 56,
     "metadata": {},
     "output_type": "execute_result"
    }
   ],
   "source": [
    "cp_metrics_df"
   ]
  },
  {
   "cell_type": "markdown",
   "id": "3fc519cc",
   "metadata": {
    "papermill": {
     "duration": 0.013578,
     "end_time": "2025-08-19T18:43:32.530007",
     "exception": false,
     "start_time": "2025-08-19T18:43:32.516429",
     "status": "completed"
    },
    "tags": []
   },
   "source": [
    "# (Fairness) Metrics"
   ]
  },
  {
   "cell_type": "code",
   "execution_count": 57,
   "id": "a2e5e155",
   "metadata": {
    "execution": {
     "iopub.execute_input": "2025-08-19T18:43:32.557890Z",
     "iopub.status.busy": "2025-08-19T18:43:32.556813Z",
     "iopub.status.idle": "2025-08-19T18:43:32.586900Z",
     "shell.execute_reply": "2025-08-19T18:43:32.586094Z"
    },
    "papermill": {
     "duration": 0.04694,
     "end_time": "2025-08-19T18:43:32.589432",
     "exception": false,
     "start_time": "2025-08-19T18:43:32.542492",
     "status": "completed"
    },
    "tags": []
   },
   "outputs": [],
   "source": [
    "colname_to_bin = \"maxdeutsch1\"\n",
    "majority_value = org_train[colname_to_bin].mode()[0]\n",
    "\n",
    "org_test[\"majmin\"] = np.where(org_test[colname_to_bin] == majority_value, \"majority\", \"minority\")"
   ]
  },
  {
   "cell_type": "code",
   "execution_count": 58,
   "id": "17e3e4d5",
   "metadata": {
    "execution": {
     "iopub.execute_input": "2025-08-19T18:43:32.656006Z",
     "iopub.status.busy": "2025-08-19T18:43:32.655525Z",
     "iopub.status.idle": "2025-08-19T18:43:34.415775Z",
     "shell.execute_reply": "2025-08-19T18:43:34.414138Z"
    },
    "papermill": {
     "duration": 1.792241,
     "end_time": "2025-08-19T18:43:34.419852",
     "exception": false,
     "start_time": "2025-08-19T18:43:32.627611",
     "status": "completed"
    },
    "tags": []
   },
   "outputs": [],
   "source": [
    "example_universe = universe.copy()\n",
    "example_universe[\"cutoff\"] = example_universe[\"cutoff\"][0]\n",
    "example_universe[\"eval_fairness_grouping\"] = example_universe[\"eval_fairness_grouping\"][0]\n",
    "fairness_dict, metric_frame = universe_analysis.compute_metrics(\n",
    "    example_universe,\n",
    "    y_pred_prob=probs_test,\n",
    "    y_test=y_true,\n",
    "    org_test=org_test,\n",
    ")"
   ]
  },
  {
   "cell_type": "markdown",
   "id": "1fb7a0e9",
   "metadata": {
    "papermill": {
     "duration": 0.013408,
     "end_time": "2025-08-19T18:43:34.478894",
     "exception": false,
     "start_time": "2025-08-19T18:43:34.465486",
     "status": "completed"
    },
    "tags": []
   },
   "source": [
    "# Overall"
   ]
  },
  {
   "cell_type": "markdown",
   "id": "be1784b1",
   "metadata": {
    "papermill": {
     "duration": 0.01318,
     "end_time": "2025-08-19T18:43:34.505533",
     "exception": false,
     "start_time": "2025-08-19T18:43:34.492353",
     "status": "completed"
    },
    "tags": []
   },
   "source": [
    "Main fairness target: Equalized Odds. Seems to be a better fit than equal opportunity, since we're not only interested in Y = 1. Seems to be a better fit than demographic parity, since we also care about accuracy, not just equal distribution of preds.\n",
    "\n",
    "Pick column for computation of fairness metrics\n",
    "\n",
    "Performance\n",
    "Overall performance measures, most interesting in relation to the measures split by group below"
   ]
  },
  {
   "cell_type": "code",
   "execution_count": 59,
   "id": "b7672bee",
   "metadata": {
    "execution": {
     "iopub.execute_input": "2025-08-19T18:43:34.554232Z",
     "iopub.status.busy": "2025-08-19T18:43:34.553372Z",
     "iopub.status.idle": "2025-08-19T18:43:34.562905Z",
     "shell.execute_reply": "2025-08-19T18:43:34.562161Z"
    },
    "papermill": {
     "duration": 0.046928,
     "end_time": "2025-08-19T18:43:34.565601",
     "exception": false,
     "start_time": "2025-08-19T18:43:34.518673",
     "status": "completed"
    },
    "tags": []
   },
   "outputs": [
    {
     "data": {
      "text/plain": [
       "accuracy                   0.224758\n",
       "balanced accuracy          0.549483\n",
       "f1                         0.246078\n",
       "precision                  0.140576\n",
       "false positive rate        0.887305\n",
       "false negative rate        0.013730\n",
       "selection rate             0.900000\n",
       "count                  89710.000000\n",
       "dtype: float64"
      ]
     },
     "execution_count": 59,
     "metadata": {},
     "output_type": "execute_result"
    }
   ],
   "source": [
    "metric_frame.overall"
   ]
  },
  {
   "cell_type": "markdown",
   "id": "d93333c9",
   "metadata": {
    "papermill": {
     "duration": 0.012711,
     "end_time": "2025-08-19T18:43:34.593896",
     "exception": false,
     "start_time": "2025-08-19T18:43:34.581185",
     "status": "completed"
    },
    "tags": []
   },
   "source": [
    "By Group"
   ]
  },
  {
   "cell_type": "code",
   "execution_count": 60,
   "id": "52256966",
   "metadata": {
    "execution": {
     "iopub.execute_input": "2025-08-19T18:43:34.621399Z",
     "iopub.status.busy": "2025-08-19T18:43:34.620977Z",
     "iopub.status.idle": "2025-08-19T18:43:34.636030Z",
     "shell.execute_reply": "2025-08-19T18:43:34.635242Z"
    },
    "papermill": {
     "duration": 0.030573,
     "end_time": "2025-08-19T18:43:34.637455",
     "exception": false,
     "start_time": "2025-08-19T18:43:34.606882",
     "status": "completed"
    },
    "tags": []
   },
   "outputs": [
    {
     "data": {
      "text/html": [
       "<div>\n",
       "<style scoped>\n",
       "    .dataframe tbody tr th:only-of-type {\n",
       "        vertical-align: middle;\n",
       "    }\n",
       "\n",
       "    .dataframe tbody tr th {\n",
       "        vertical-align: top;\n",
       "    }\n",
       "\n",
       "    .dataframe thead th {\n",
       "        text-align: right;\n",
       "    }\n",
       "</style>\n",
       "<table border=\"1\" class=\"dataframe\">\n",
       "  <thead>\n",
       "    <tr style=\"text-align: right;\">\n",
       "      <th></th>\n",
       "      <th>accuracy</th>\n",
       "      <th>balanced accuracy</th>\n",
       "      <th>f1</th>\n",
       "      <th>precision</th>\n",
       "      <th>false positive rate</th>\n",
       "      <th>false negative rate</th>\n",
       "      <th>selection rate</th>\n",
       "      <th>count</th>\n",
       "    </tr>\n",
       "    <tr>\n",
       "      <th>majmin</th>\n",
       "      <th></th>\n",
       "      <th></th>\n",
       "      <th></th>\n",
       "      <th></th>\n",
       "      <th></th>\n",
       "      <th></th>\n",
       "      <th></th>\n",
       "      <th></th>\n",
       "    </tr>\n",
       "  </thead>\n",
       "  <tbody>\n",
       "    <tr>\n",
       "      <th>majority</th>\n",
       "      <td>0.244803</td>\n",
       "      <td>0.558649</td>\n",
       "      <td>0.256381</td>\n",
       "      <td>0.147364</td>\n",
       "      <td>0.867933</td>\n",
       "      <td>0.014770</td>\n",
       "      <td>0.883432</td>\n",
       "      <td>69170.0</td>\n",
       "    </tr>\n",
       "    <tr>\n",
       "      <th>minority</th>\n",
       "      <td>0.157254</td>\n",
       "      <td>0.519494</td>\n",
       "      <td>0.213182</td>\n",
       "      <td>0.119448</td>\n",
       "      <td>0.951299</td>\n",
       "      <td>0.009713</td>\n",
       "      <td>0.955794</td>\n",
       "      <td>20540.0</td>\n",
       "    </tr>\n",
       "  </tbody>\n",
       "</table>\n",
       "</div>"
      ],
      "text/plain": [
       "          accuracy  balanced accuracy        f1  precision  \\\n",
       "majmin                                                       \n",
       "majority  0.244803           0.558649  0.256381   0.147364   \n",
       "minority  0.157254           0.519494  0.213182   0.119448   \n",
       "\n",
       "          false positive rate  false negative rate  selection rate    count  \n",
       "majmin                                                                       \n",
       "majority             0.867933             0.014770        0.883432  69170.0  \n",
       "minority             0.951299             0.009713        0.955794  20540.0  "
      ]
     },
     "execution_count": 60,
     "metadata": {},
     "output_type": "execute_result"
    }
   ],
   "source": [
    "metric_frame.by_group"
   ]
  },
  {
   "cell_type": "code",
   "execution_count": 61,
   "id": "6e6c20ae",
   "metadata": {
    "execution": {
     "iopub.execute_input": "2025-08-19T18:43:34.669028Z",
     "iopub.status.busy": "2025-08-19T18:43:34.668612Z",
     "iopub.status.idle": "2025-08-19T18:43:36.557396Z",
     "shell.execute_reply": "2025-08-19T18:43:36.556367Z"
    },
    "papermill": {
     "duration": 1.904897,
     "end_time": "2025-08-19T18:43:36.558878",
     "exception": false,
     "start_time": "2025-08-19T18:43:34.653981",
     "status": "completed"
    },
    "tags": []
   },
   "outputs": [
    {
     "data": {
      "text/plain": [
       "array([[<Axes: title={'center': 'accuracy'}, xlabel='majmin'>,\n",
       "        <Axes: title={'center': 'balanced accuracy'}, xlabel='majmin'>,\n",
       "        <Axes: title={'center': 'f1'}, xlabel='majmin'>],\n",
       "       [<Axes: title={'center': 'precision'}, xlabel='majmin'>,\n",
       "        <Axes: title={'center': 'false positive rate'}, xlabel='majmin'>,\n",
       "        <Axes: title={'center': 'false negative rate'}, xlabel='majmin'>],\n",
       "       [<Axes: title={'center': 'selection rate'}, xlabel='majmin'>,\n",
       "        <Axes: title={'center': 'count'}, xlabel='majmin'>,\n",
       "        <Axes: xlabel='majmin'>]], dtype=object)"
      ]
     },
     "execution_count": 61,
     "metadata": {},
     "output_type": "execute_result"
    },
    {
     "data": {
      "image/png": "[encoded data removed]",
      "text/plain": [
       "<Figure size 1200x800 with 9 Axes>"
      ]
     },
     "metadata": {},
     "output_type": "display_data"
    }
   ],
   "source": [
    "# In a graphic\n",
    "metric_frame.by_group.plot.bar(\n",
    "    subplots=True,\n",
    "    layout=[3, 3],\n",
    "    legend=False,\n",
    "    figsize=[12, 8],\n",
    "    title=\"Show all metrics\",\n",
    ")"
   ]
  },
  {
   "cell_type": "markdown",
   "id": "b2e433ae",
   "metadata": {
    "papermill": {
     "duration": 0.014722,
     "end_time": "2025-08-19T18:43:36.589550",
     "exception": false,
     "start_time": "2025-08-19T18:43:36.574828",
     "status": "completed"
    },
    "tags": []
   },
   "source": [
    "# Final Output"
   ]
  },
  {
   "cell_type": "code",
   "execution_count": 62,
   "id": "3871301e",
   "metadata": {
    "execution": {
     "iopub.execute_input": "2025-08-19T18:43:36.633565Z",
     "iopub.status.busy": "2025-08-19T18:43:36.631790Z",
     "iopub.status.idle": "2025-08-19T18:43:36.642590Z",
     "shell.execute_reply": "2025-08-19T18:43:36.641899Z"
    },
    "papermill": {
     "duration": 0.040044,
     "end_time": "2025-08-19T18:43:36.644297",
     "exception": false,
     "start_time": "2025-08-19T18:43:36.604253",
     "status": "completed"
    },
    "tags": []
   },
   "outputs": [
    {
     "data": {
      "text/plain": [
       "4"
      ]
     },
     "execution_count": 62,
     "metadata": {},
     "output_type": "execute_result"
    }
   ],
   "source": [
    "sub_universes = universe_analysis.generate_sub_universes()\n",
    "len(sub_universes)"
   ]
  },
  {
   "cell_type": "code",
   "execution_count": 63,
   "id": "d9cfdaca",
   "metadata": {
    "execution": {
     "iopub.execute_input": "2025-08-19T18:43:36.683493Z",
     "iopub.status.busy": "2025-08-19T18:43:36.682728Z",
     "iopub.status.idle": "2025-08-19T18:43:36.691988Z",
     "shell.execute_reply": "2025-08-19T18:43:36.690681Z"
    },
    "papermill": {
     "duration": 0.027992,
     "end_time": "2025-08-19T18:43:36.693685",
     "exception": false,
     "start_time": "2025-08-19T18:43:36.665693",
     "status": "completed"
    },
    "tags": []
   },
   "outputs": [],
   "source": [
    "def filter_sub_universe_data(sub_universe, org_test):\n",
    "    # Keep all rows — no filtering\n",
    "    keep_rows_mask = np.ones(org_test.shape[0], dtype=bool)\n",
    "\n",
    "    print(f\"[INFO] Keeping all rows: {keep_rows_mask.sum()} rows retained.\")\n",
    "    return keep_rows_mask"
   ]
  },
  {
   "cell_type": "code",
   "execution_count": 64,
   "id": "2bc31ac1",
   "metadata": {
    "execution": {
     "iopub.execute_input": "2025-08-19T18:43:36.729210Z",
     "iopub.status.busy": "2025-08-19T18:43:36.728439Z",
     "iopub.status.idle": "2025-08-19T18:43:43.492274Z",
     "shell.execute_reply": "2025-08-19T18:43:43.490249Z"
    },
    "papermill": {
     "duration": 6.782519,
     "end_time": "2025-08-19T18:43:43.493972",
     "exception": false,
     "start_time": "2025-08-19T18:43:36.711453",
     "status": "completed"
    },
    "tags": []
   },
   "outputs": [
    {
     "name": "stdout",
     "output_type": "stream",
     "text": [
      "Stopping execution_time clock.\n",
      "[INFO] Keeping all rows: 89710 rows retained.\n"
     ]
    },
    {
     "name": "stdout",
     "output_type": "stream",
     "text": [
      "[INFO] Keeping all rows: 89710 rows retained.\n"
     ]
    },
    {
     "name": "stdout",
     "output_type": "stream",
     "text": [
      "[INFO] Keeping all rows: 89710 rows retained.\n"
     ]
    },
    {
     "name": "stdout",
     "output_type": "stream",
     "text": [
      "[INFO] Keeping all rows: 89710 rows retained.\n"
     ]
    },
    {
     "data": {
      "text/html": [
       "<div>\n",
       "<style scoped>\n",
       "    .dataframe tbody tr th:only-of-type {\n",
       "        vertical-align: middle;\n",
       "    }\n",
       "\n",
       "    .dataframe tbody tr th {\n",
       "        vertical-align: top;\n",
       "    }\n",
       "\n",
       "    .dataframe thead th {\n",
       "        text-align: right;\n",
       "    }\n",
       "</style>\n",
       "<table border=\"1\" class=\"dataframe\">\n",
       "  <thead>\n",
       "    <tr style=\"text-align: right;\">\n",
       "      <th></th>\n",
       "      <th>run_no</th>\n",
       "      <th>universe_id</th>\n",
       "      <th>universe_settings</th>\n",
       "      <th>execution_time</th>\n",
       "      <th>test_size_n</th>\n",
       "      <th>test_size_frac</th>\n",
       "      <th>fair_main_equalized_odds_difference</th>\n",
       "      <th>fair_main_equalized_odds_ratio</th>\n",
       "      <th>fair_main_demographic_parity_difference</th>\n",
       "      <th>fair_main_demographic_parity_ratio</th>\n",
       "      <th>...</th>\n",
       "      <th>perf_grp_precision_0</th>\n",
       "      <th>perf_grp_precision_1</th>\n",
       "      <th>perf_grp_false positive rate_0</th>\n",
       "      <th>perf_grp_false positive rate_1</th>\n",
       "      <th>perf_grp_false negative rate_0</th>\n",
       "      <th>perf_grp_false negative rate_1</th>\n",
       "      <th>perf_grp_selection rate_0</th>\n",
       "      <th>perf_grp_selection rate_1</th>\n",
       "      <th>perf_grp_count_0</th>\n",
       "      <th>perf_grp_count_1</th>\n",
       "    </tr>\n",
       "  </thead>\n",
       "  <tbody>\n",
       "    <tr>\n",
       "      <th>0</th>\n",
       "      <td>3</td>\n",
       "      <td>eacfa6f5129ff75cedd887b18eb9c24c</td>\n",
       "      <td>{\"cutoff\": \"quantile_0.1\", \"eval_fairness_grou...</td>\n",
       "      <td>28.879497</td>\n",
       "      <td>89710</td>\n",
       "      <td>1.0</td>\n",
       "      <td>0.083366</td>\n",
       "      <td>0.912366</td>\n",
       "      <td>0.072361</td>\n",
       "      <td>0.924292</td>\n",
       "      <td>...</td>\n",
       "      <td>NaN</td>\n",
       "      <td>NaN</td>\n",
       "      <td>NaN</td>\n",
       "      <td>NaN</td>\n",
       "      <td>NaN</td>\n",
       "      <td>NaN</td>\n",
       "      <td>NaN</td>\n",
       "      <td>NaN</td>\n",
       "      <td>NaN</td>\n",
       "      <td>NaN</td>\n",
       "    </tr>\n",
       "    <tr>\n",
       "      <th>0</th>\n",
       "      <td>3</td>\n",
       "      <td>eacfa6f5129ff75cedd887b18eb9c24c</td>\n",
       "      <td>{\"cutoff\": \"quantile_0.1\", \"eval_fairness_grou...</td>\n",
       "      <td>28.879497</td>\n",
       "      <td>89710</td>\n",
       "      <td>1.0</td>\n",
       "      <td>0.083366</td>\n",
       "      <td>0.912366</td>\n",
       "      <td>0.072361</td>\n",
       "      <td>0.924292</td>\n",
       "      <td>...</td>\n",
       "      <td>0.119448</td>\n",
       "      <td>0.147364</td>\n",
       "      <td>0.951299</td>\n",
       "      <td>0.867933</td>\n",
       "      <td>0.009713</td>\n",
       "      <td>0.01477</td>\n",
       "      <td>0.955794</td>\n",
       "      <td>0.883432</td>\n",
       "      <td>20540.0</td>\n",
       "      <td>69170.0</td>\n",
       "    </tr>\n",
       "    <tr>\n",
       "      <th>0</th>\n",
       "      <td>3</td>\n",
       "      <td>eacfa6f5129ff75cedd887b18eb9c24c</td>\n",
       "      <td>{\"cutoff\": \"quantile_0.25\", \"eval_fairness_gro...</td>\n",
       "      <td>28.879497</td>\n",
       "      <td>89710</td>\n",
       "      <td>1.0</td>\n",
       "      <td>0.078205</td>\n",
       "      <td>0.899940</td>\n",
       "      <td>0.063402</td>\n",
       "      <td>0.920636</td>\n",
       "      <td>...</td>\n",
       "      <td>NaN</td>\n",
       "      <td>NaN</td>\n",
       "      <td>NaN</td>\n",
       "      <td>NaN</td>\n",
       "      <td>NaN</td>\n",
       "      <td>NaN</td>\n",
       "      <td>NaN</td>\n",
       "      <td>NaN</td>\n",
       "      <td>NaN</td>\n",
       "      <td>NaN</td>\n",
       "    </tr>\n",
       "    <tr>\n",
       "      <th>0</th>\n",
       "      <td>3</td>\n",
       "      <td>eacfa6f5129ff75cedd887b18eb9c24c</td>\n",
       "      <td>{\"cutoff\": \"quantile_0.25\", \"eval_fairness_gro...</td>\n",
       "      <td>28.879497</td>\n",
       "      <td>89710</td>\n",
       "      <td>1.0</td>\n",
       "      <td>0.078205</td>\n",
       "      <td>0.899940</td>\n",
       "      <td>0.063402</td>\n",
       "      <td>0.920636</td>\n",
       "      <td>...</td>\n",
       "      <td>0.134438</td>\n",
       "      <td>0.170012</td>\n",
       "      <td>0.781587</td>\n",
       "      <td>0.703382</td>\n",
       "      <td>0.068412</td>\n",
       "      <td>0.05372</td>\n",
       "      <td>0.798880</td>\n",
       "      <td>0.735478</td>\n",
       "      <td>20540.0</td>\n",
       "      <td>69170.0</td>\n",
       "    </tr>\n",
       "  </tbody>\n",
       "</table>\n",
       "<p>4 rows × 50 columns</p>\n",
       "</div>"
      ],
      "text/plain": [
       "  run_no                       universe_id  \\\n",
       "0      3  eacfa6f5129ff75cedd887b18eb9c24c   \n",
       "0      3  eacfa6f5129ff75cedd887b18eb9c24c   \n",
       "0      3  eacfa6f5129ff75cedd887b18eb9c24c   \n",
       "0      3  eacfa6f5129ff75cedd887b18eb9c24c   \n",
       "\n",
       "                                   universe_settings  execution_time  \\\n",
       "0  {\"cutoff\": \"quantile_0.1\", \"eval_fairness_grou...       28.879497   \n",
       "0  {\"cutoff\": \"quantile_0.1\", \"eval_fairness_grou...       28.879497   \n",
       "0  {\"cutoff\": \"quantile_0.25\", \"eval_fairness_gro...       28.879497   \n",
       "0  {\"cutoff\": \"quantile_0.25\", \"eval_fairness_gro...       28.879497   \n",
       "\n",
       "   test_size_n  test_size_frac  fair_main_equalized_odds_difference  \\\n",
       "0        89710             1.0                             0.083366   \n",
       "0        89710             1.0                             0.083366   \n",
       "0        89710             1.0                             0.078205   \n",
       "0        89710             1.0                             0.078205   \n",
       "\n",
       "   fair_main_equalized_odds_ratio  fair_main_demographic_parity_difference  \\\n",
       "0                        0.912366                                 0.072361   \n",
       "0                        0.912366                                 0.072361   \n",
       "0                        0.899940                                 0.063402   \n",
       "0                        0.899940                                 0.063402   \n",
       "\n",
       "   fair_main_demographic_parity_ratio  ...  perf_grp_precision_0  \\\n",
       "0                            0.924292  ...                   NaN   \n",
       "0                            0.924292  ...              0.119448   \n",
       "0                            0.920636  ...                   NaN   \n",
       "0                            0.920636  ...              0.134438   \n",
       "\n",
       "   perf_grp_precision_1  perf_grp_false positive rate_0  \\\n",
       "0                   NaN                             NaN   \n",
       "0              0.147364                        0.951299   \n",
       "0                   NaN                             NaN   \n",
       "0              0.170012                        0.781587   \n",
       "\n",
       "   perf_grp_false positive rate_1  perf_grp_false negative rate_0  \\\n",
       "0                             NaN                             NaN   \n",
       "0                        0.867933                        0.009713   \n",
       "0                             NaN                             NaN   \n",
       "0                        0.703382                        0.068412   \n",
       "\n",
       "   perf_grp_false negative rate_1  perf_grp_selection rate_0  \\\n",
       "0                             NaN                        NaN   \n",
       "0                         0.01477                   0.955794   \n",
       "0                             NaN                        NaN   \n",
       "0                         0.05372                   0.798880   \n",
       "\n",
       "   perf_grp_selection rate_1  perf_grp_count_0  perf_grp_count_1  \n",
       "0                        NaN               NaN               NaN  \n",
       "0                   0.883432           20540.0           69170.0  \n",
       "0                        NaN               NaN               NaN  \n",
       "0                   0.735478           20540.0           69170.0  \n",
       "\n",
       "[4 rows x 50 columns]"
      ]
     },
     "execution_count": 64,
     "metadata": {},
     "output_type": "execute_result"
    }
   ],
   "source": [
    "final_output = universe_analysis.generate_final_output(\n",
    "    y_pred_prob=probs_test,\n",
    "    y_test=y_true,\n",
    "    org_test=org_test,\n",
    "    filter_data=filter_sub_universe_data,\n",
    "    cp_metrics_df=cp_metrics_df,\n",
    "    save=True,\n",
    ")\n",
    "final_output"
   ]
  },
  {
   "cell_type": "code",
   "execution_count": null,
   "id": "8b80a1ff",
   "metadata": {
    "papermill": {
     "duration": 0.022686,
     "end_time": "2025-08-19T18:43:43.546994",
     "exception": false,
     "start_time": "2025-08-19T18:43:43.524308",
     "status": "completed"
    },
    "tags": []
   },
   "outputs": [],
   "source": []
  },
  {
   "cell_type": "code",
   "execution_count": null,
   "id": "275c9fad",
   "metadata": {
    "papermill": {
     "duration": 0.015456,
     "end_time": "2025-08-19T18:43:43.578197",
     "exception": false,
     "start_time": "2025-08-19T18:43:43.562741",
     "status": "completed"
    },
    "tags": []
   },
   "outputs": [],
   "source": []
  }
 ],
 "metadata": {
  "celltoolbar": "Tags",
  "kernelspec": {
   "display_name": "Python (CMA Fairness)",
   "language": "python",
   "name": "cma_fair_env"
  },
  "language_info": {
   "codemirror_mode": {
    "name": "ipython",
    "version": 3
   },
   "file_extension": ".py",
   "mimetype": "text/x-python",
   "name": "python",
   "nbconvert_exporter": "python",
   "pygments_lexer": "ipython3",
   "version": "3.10.12"
  },
  "papermill": {
   "default_parameters": {},
   "duration": 39.343111,
   "end_time": "2025-08-19T18:43:44.423288",
   "environment_variables": {},
   "exception": null,
   "input_path": "universe_analysis.ipynb",
   "output_path": "output/runs/3/notebooks/m_3-eacfa6f5129ff75cedd887b18eb9c24c.ipynb",
   "parameters": {
    "output_dir": "output",
    "run_no": "3",
    "seed": "2023",
    "universe": "{\"cutoff\": [\"quantile_0.1\", \"quantile_0.25\"], \"eval_fairness_grouping\": [\"majority-minority\", \"nationality-all\"], \"exclude_features\": \"sex\", \"exclude_subgroups\": \"keep-all\", \"model\": \"gbm\", \"scale\": \"scale\", \"training_size\": \"5k\", \"training_year\": \"2010_14\"}",
    "universe_id": "eacfa6f5129ff75cedd887b18eb9c24c"
   },
   "start_time": "2025-08-19T18:43:05.080177",
   "version": "2.6.0"
  }
 },
 "nbformat": 4,
 "nbformat_minor": 5
}