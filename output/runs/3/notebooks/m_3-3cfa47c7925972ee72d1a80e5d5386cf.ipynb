{
 "cells": [
  {
   "cell_type": "markdown",
   "id": "ef23dbb3",
   "metadata": {
    "papermill": {
     "duration": 0.034642,
     "end_time": "2025-08-19T19:00:47.510897",
     "exception": false,
     "start_time": "2025-08-19T19:00:47.476255",
     "status": "completed"
    },
    "tags": []
   },
   "source": [
    "# Setup"
   ]
  },
  {
   "cell_type": "code",
   "execution_count": 1,
   "id": "0bc8e7dc",
   "metadata": {
    "execution": {
     "iopub.execute_input": "2025-08-19T19:00:47.530871Z",
     "iopub.status.busy": "2025-08-19T19:00:47.530518Z",
     "iopub.status.idle": "2025-08-19T19:00:47.540123Z",
     "shell.execute_reply": "2025-08-19T19:00:47.539451Z"
    },
    "papermill": {
     "duration": 0.021533,
     "end_time": "2025-08-19T19:00:47.541630",
     "exception": false,
     "start_time": "2025-08-19T19:00:47.520097",
     "status": "completed"
    },
    "tags": []
   },
   "outputs": [
    {
     "name": "stdout",
     "output_type": "stream",
     "text": [
      "/dss/dsshome1/0C/ra93lal2/cma/CMA_Fairness_v2\n"
     ]
    },
    {
     "name": "stderr",
     "output_type": "stream",
     "text": [
      "/dss/dsshome1/0C/ra93lal2/.local/share/virtualenvs/CMA_Fairness_v2-3j10GkSs/lib/python3.10/site-packages/IPython/core/magics/osm.py:393: UserWarning: This is now an optional IPython functionality, using bookmarks requires you to install the `pickleshare` library.\n",
      "  bkms = self.shell.db.get('bookmarks', {})\n",
      "/dss/dsshome1/0C/ra93lal2/.local/share/virtualenvs/CMA_Fairness_v2-3j10GkSs/lib/python3.10/site-packages/IPython/core/magics/osm.py:417: UserWarning: This is now an optional IPython functionality, setting dhist requires you to install the `pickleshare` library.\n",
      "  self.shell.db['dhist'] = compress_dhist(dhist)[-100:]\n"
     ]
    }
   ],
   "source": [
    "%cd ~/cma/CMA_Fairness_v2"
   ]
  },
  {
   "cell_type": "markdown",
   "id": "9d235661",
   "metadata": {
    "papermill": {
     "duration": 0.028101,
     "end_time": "2025-08-19T19:00:47.582397",
     "exception": false,
     "start_time": "2025-08-19T19:00:47.554296",
     "status": "completed"
    },
    "tags": []
   },
   "source": [
    "The following cell holds the definition of our parameters, these values can be overriden by rendering the with e.g. the following command:\n",
    "\n",
    "papermill -p alpha 0.2 -p ratio 0.3 universe_analysis.ipynb output/test_run.ipynb"
   ]
  },
  {
   "cell_type": "code",
   "execution_count": 2,
   "id": "4a789d8e",
   "metadata": {
    "execution": {
     "iopub.execute_input": "2025-08-19T19:00:47.606942Z",
     "iopub.status.busy": "2025-08-19T19:00:47.606502Z",
     "iopub.status.idle": "2025-08-19T19:00:47.612050Z",
     "shell.execute_reply": "2025-08-19T19:00:47.611343Z"
    },
    "papermill": {
     "duration": 0.019242,
     "end_time": "2025-08-19T19:00:47.613252",
     "exception": false,
     "start_time": "2025-08-19T19:00:47.594010",
     "status": "completed"
    },
    "tags": []
   },
   "outputs": [
    {
     "name": "stdout",
     "output_type": "stream",
     "text": [
      "Current working directory: /dss/dsshome1/0C/ra93lal2/cma/CMA_Fairness_v2\n"
     ]
    }
   ],
   "source": [
    "import os\n",
    "print(\"Current working directory:\", os.getcwd())"
   ]
  },
  {
   "cell_type": "code",
   "execution_count": 3,
   "id": "4132aaed",
   "metadata": {
    "execution": {
     "iopub.execute_input": "2025-08-19T19:00:47.649583Z",
     "iopub.status.busy": "2025-08-19T19:00:47.649044Z",
     "iopub.status.idle": "2025-08-19T19:00:47.655670Z",
     "shell.execute_reply": "2025-08-19T19:00:47.654687Z"
    },
    "papermill": {
     "duration": 0.039656,
     "end_time": "2025-08-19T19:00:47.662097",
     "exception": false,
     "start_time": "2025-08-19T19:00:47.622441",
     "status": "completed"
    },
    "tags": [
     "parameters"
    ]
   },
   "outputs": [],
   "source": [
    "run_no = 0\n",
    "universe_id = \"test\"\n",
    "universe = {\n",
    "    \"training_size\": \"5k\", # \"25k\", \"5k\", \"1k\"\n",
    "    \"training_year\": \"2012_14\", # \"2014\", \"2012_14\", \"2010_14\"\n",
    "    \"scale\": \"scale\", # \"scale\", \"do-not-scale\",\n",
    "    \"model\": \"elasticnet\", # \"logreg\", \"penalized_logreg\", \"rf\", \"gbm\", \"elasticnet\"\n",
    "    \"cutoff\": [\"quantile_0.15\", \"quantile_0.30\"],\n",
    "    \"exclude_features\": \"age\", # \"none\", \"nationality\", \"sex\", \"nationality-sex\", \"age\"\n",
    "    \"exclude_subgroups\": \"drop-non-german\", # \"keep-all\", \"drop-non-german\"\n",
    "    \"eval_fairness_grouping\": [\"majority-minority\", \"nationality-all\"]\n",
    "}\n",
    "\n",
    "output_dir=\"./output\"\n",
    "seed=0"
   ]
  },
  {
   "cell_type": "code",
   "execution_count": 4,
   "id": "8946eb37",
   "metadata": {
    "execution": {
     "iopub.execute_input": "2025-08-19T19:00:47.686951Z",
     "iopub.status.busy": "2025-08-19T19:00:47.686376Z",
     "iopub.status.idle": "2025-08-19T19:00:47.692816Z",
     "shell.execute_reply": "2025-08-19T19:00:47.691450Z"
    },
    "papermill": {
     "duration": 0.023168,
     "end_time": "2025-08-19T19:00:47.694633",
     "exception": false,
     "start_time": "2025-08-19T19:00:47.671465",
     "status": "completed"
    },
    "tags": [
     "injected-parameters"
    ]
   },
   "outputs": [],
   "source": [
    "# Parameters\n",
    "universe_id = \"3cfa47c7925972ee72d1a80e5d5386cf\"\n",
    "run_no = \"3\"\n",
    "universe = \"{\\\"cutoff\\\": [\\\"quantile_0.1\\\", \\\"quantile_0.25\\\"], \\\"eval_fairness_grouping\\\": [\\\"majority-minority\\\", \\\"nationality-all\\\"], \\\"exclude_features\\\": \\\"sex\\\", \\\"exclude_subgroups\\\": \\\"keep-all\\\", \\\"model\\\": \\\"logreg\\\", \\\"scale\\\": \\\"do-not-scale\\\", \\\"training_size\\\": \\\"1k\\\", \\\"training_year\\\": \\\"2012_14\\\"}\"\n",
    "output_dir = \"output\"\n",
    "seed = \"2023\"\n"
   ]
  },
  {
   "cell_type": "code",
   "execution_count": 5,
   "id": "a5d7941f",
   "metadata": {
    "execution": {
     "iopub.execute_input": "2025-08-19T19:00:47.717698Z",
     "iopub.status.busy": "2025-08-19T19:00:47.716552Z",
     "iopub.status.idle": "2025-08-19T19:00:47.724286Z",
     "shell.execute_reply": "2025-08-19T19:00:47.723291Z"
    },
    "papermill": {
     "duration": 0.019908,
     "end_time": "2025-08-19T19:00:47.725624",
     "exception": false,
     "start_time": "2025-08-19T19:00:47.705716",
     "status": "completed"
    },
    "tags": []
   },
   "outputs": [],
   "source": [
    "import json\n",
    "if isinstance(universe, str):\n",
    "    universe = json.loads(universe)"
   ]
  },
  {
   "cell_type": "code",
   "execution_count": 6,
   "id": "7076ccb1",
   "metadata": {
    "execution": {
     "iopub.execute_input": "2025-08-19T19:00:47.747544Z",
     "iopub.status.busy": "2025-08-19T19:00:47.746854Z",
     "iopub.status.idle": "2025-08-19T19:00:47.781902Z",
     "shell.execute_reply": "2025-08-19T19:00:47.781017Z"
    },
    "papermill": {
     "duration": 0.047837,
     "end_time": "2025-08-19T19:00:47.784147",
     "exception": false,
     "start_time": "2025-08-19T19:00:47.736310",
     "status": "completed"
    },
    "tags": []
   },
   "outputs": [],
   "source": [
    "# Auto-reload the custom package\n",
    "%load_ext autoreload\n",
    "%autoreload 1\n",
    "%aimport fairness_multiverse"
   ]
  },
  {
   "cell_type": "code",
   "execution_count": 7,
   "id": "94c8eb93",
   "metadata": {
    "execution": {
     "iopub.execute_input": "2025-08-19T19:00:47.817788Z",
     "iopub.status.busy": "2025-08-19T19:00:47.816732Z",
     "iopub.status.idle": "2025-08-19T19:00:49.435289Z",
     "shell.execute_reply": "2025-08-19T19:00:49.434185Z"
    },
    "papermill": {
     "duration": 1.634664,
     "end_time": "2025-08-19T19:00:49.438399",
     "exception": false,
     "start_time": "2025-08-19T19:00:47.803735",
     "status": "completed"
    },
    "tags": []
   },
   "outputs": [],
   "source": [
    "from fairness_multiverse.universe import UniverseAnalysis\n",
    "\n",
    "universe_analysis = UniverseAnalysis(\n",
    "    run_no = run_no,\n",
    "    universe_id = universe_id,\n",
    "    universe = universe,\n",
    "    output_dir=output_dir,\n",
    ")"
   ]
  },
  {
   "cell_type": "code",
   "execution_count": 8,
   "id": "2a6381cf",
   "metadata": {
    "execution": {
     "iopub.execute_input": "2025-08-19T19:00:49.473667Z",
     "iopub.status.busy": "2025-08-19T19:00:49.473143Z",
     "iopub.status.idle": "2025-08-19T19:00:49.479495Z",
     "shell.execute_reply": "2025-08-19T19:00:49.478453Z"
    },
    "papermill": {
     "duration": 0.020894,
     "end_time": "2025-08-19T19:00:49.481173",
     "exception": false,
     "start_time": "2025-08-19T19:00:49.460279",
     "status": "completed"
    },
    "tags": []
   },
   "outputs": [
    {
     "name": "stdout",
     "output_type": "stream",
     "text": [
      "Using Seed: 2023\n"
     ]
    }
   ],
   "source": [
    "import numpy as np\n",
    "parsed_seed = int(seed)\n",
    "np.random.seed(parsed_seed)\n",
    "print(f\"Using Seed: {parsed_seed}\")"
   ]
  },
  {
   "cell_type": "markdown",
   "id": "b6e958b4",
   "metadata": {
    "papermill": {
     "duration": 0.008947,
     "end_time": "2025-08-19T19:00:49.500333",
     "exception": false,
     "start_time": "2025-08-19T19:00:49.491386",
     "status": "completed"
    },
    "tags": []
   },
   "source": [
    "# Loading Data"
   ]
  },
  {
   "cell_type": "code",
   "execution_count": 9,
   "id": "98701482",
   "metadata": {
    "execution": {
     "iopub.execute_input": "2025-08-19T19:00:49.519916Z",
     "iopub.status.busy": "2025-08-19T19:00:49.519413Z",
     "iopub.status.idle": "2025-08-19T19:01:00.125474Z",
     "shell.execute_reply": "2025-08-19T19:01:00.124144Z"
    },
    "papermill": {
     "duration": 10.618014,
     "end_time": "2025-08-19T19:01:00.127263",
     "exception": false,
     "start_time": "2025-08-19T19:00:49.509249",
     "status": "completed"
    },
    "tags": []
   },
   "outputs": [
    {
     "name": "stdout",
     "output_type": "stream",
     "text": [
      "Loading SIAB data from cache: data/siab_cached.csv.gz\n"
     ]
    },
    {
     "name": "stdout",
     "output_type": "stream",
     "text": [
      "(643690, 164)\n"
     ]
    }
   ],
   "source": [
    "from pathlib import Path\n",
    "import pandas as pd\n",
    "\n",
    "# File paths\n",
    "raw_file = Path(\"data/raw/siab.csv\")\n",
    "cache_file = Path(\"data/siab_cached.csv.gz\")\n",
    "\n",
    "# Ensure cache directory exists\n",
    "cache_file.parent.mkdir(parents=True, exist_ok=True)\n",
    "\n",
    "# Load with simple caching\n",
    "if cache_file.exists():\n",
    "    print(f\"Loading SIAB data from cache: {cache_file}\")\n",
    "    siab = pd.read_csv(cache_file, compression='gzip')\n",
    "else:\n",
    "    print(f\"Cache not found. Reading raw SIAB data: {raw_file}\")\n",
    "    siab = pd.read_csv(raw_file)\n",
    "    siab.to_csv(cache_file, index=False, compression='gzip')\n",
    "    print(f\"Cached SIAB data to: {cache_file}\")\n",
    "\n",
    "print(siab.shape)"
   ]
  },
  {
   "cell_type": "code",
   "execution_count": 10,
   "id": "058d2abb",
   "metadata": {
    "execution": {
     "iopub.execute_input": "2025-08-19T19:01:00.185869Z",
     "iopub.status.busy": "2025-08-19T19:01:00.185235Z",
     "iopub.status.idle": "2025-08-19T19:01:00.408015Z",
     "shell.execute_reply": "2025-08-19T19:01:00.407139Z"
    },
    "papermill": {
     "duration": 0.265862,
     "end_time": "2025-08-19T19:01:00.409541",
     "exception": false,
     "start_time": "2025-08-19T19:01:00.143679",
     "status": "completed"
    },
    "tags": []
   },
   "outputs": [
    {
     "data": {
      "text/html": [
       "<div>\n",
       "<style scoped>\n",
       "    .dataframe tbody tr th:only-of-type {\n",
       "        vertical-align: middle;\n",
       "    }\n",
       "\n",
       "    .dataframe tbody tr th {\n",
       "        vertical-align: top;\n",
       "    }\n",
       "\n",
       "    .dataframe thead th {\n",
       "        text-align: right;\n",
       "    }\n",
       "</style>\n",
       "<table border=\"1\" class=\"dataframe\">\n",
       "  <thead>\n",
       "    <tr style=\"text-align: right;\">\n",
       "      <th></th>\n",
       "      <th>persnr</th>\n",
       "      <th>year</th>\n",
       "      <th>nrEntry</th>\n",
       "      <th>ltue</th>\n",
       "      <th>employed_before</th>\n",
       "      <th>receipt_leh_before</th>\n",
       "      <th>receipt_lhg_before</th>\n",
       "      <th>se_before</th>\n",
       "      <th>ASU_notue_seeking_before</th>\n",
       "      <th>ASU_other_before</th>\n",
       "      <th>...</th>\n",
       "      <th>minijob_tot_dur_byage</th>\n",
       "      <th>ft_tot_dur_byage</th>\n",
       "      <th>befrist_tot_dur_byage</th>\n",
       "      <th>leih_tot_dur_byage</th>\n",
       "      <th>LHG_tot_dur_byage</th>\n",
       "      <th>LEH_tot_dur_byage</th>\n",
       "      <th>almp_tot_dur_byage</th>\n",
       "      <th>almp_aw_tot_dur_byage</th>\n",
       "      <th>se_tot_dur_byage</th>\n",
       "      <th>seeking1_tot_dur_byage</th>\n",
       "    </tr>\n",
       "  </thead>\n",
       "  <tbody>\n",
       "    <tr>\n",
       "      <th>0</th>\n",
       "      <td>7</td>\n",
       "      <td>2015</td>\n",
       "      <td>1</td>\n",
       "      <td>0</td>\n",
       "      <td>1</td>\n",
       "      <td>0</td>\n",
       "      <td>0</td>\n",
       "      <td>0</td>\n",
       "      <td>1</td>\n",
       "      <td>0</td>\n",
       "      <td>...</td>\n",
       "      <td>0.000000</td>\n",
       "      <td>0.000000</td>\n",
       "      <td>15.043478</td>\n",
       "      <td>0.000000</td>\n",
       "      <td>0.000000</td>\n",
       "      <td>0.000000</td>\n",
       "      <td>0.000000</td>\n",
       "      <td>0.000000</td>\n",
       "      <td>0.000000</td>\n",
       "      <td>0.000000</td>\n",
       "    </tr>\n",
       "    <tr>\n",
       "      <th>1</th>\n",
       "      <td>18</td>\n",
       "      <td>2010</td>\n",
       "      <td>1</td>\n",
       "      <td>1</td>\n",
       "      <td>0</td>\n",
       "      <td>0</td>\n",
       "      <td>0</td>\n",
       "      <td>0</td>\n",
       "      <td>0</td>\n",
       "      <td>0</td>\n",
       "      <td>...</td>\n",
       "      <td>0.000000</td>\n",
       "      <td>0.000000</td>\n",
       "      <td>0.000000</td>\n",
       "      <td>0.000000</td>\n",
       "      <td>0.000000</td>\n",
       "      <td>0.000000</td>\n",
       "      <td>0.000000</td>\n",
       "      <td>0.000000</td>\n",
       "      <td>0.000000</td>\n",
       "      <td>0.000000</td>\n",
       "    </tr>\n",
       "    <tr>\n",
       "      <th>2</th>\n",
       "      <td>18</td>\n",
       "      <td>2011</td>\n",
       "      <td>2</td>\n",
       "      <td>0</td>\n",
       "      <td>1</td>\n",
       "      <td>0</td>\n",
       "      <td>1</td>\n",
       "      <td>0</td>\n",
       "      <td>1</td>\n",
       "      <td>0</td>\n",
       "      <td>...</td>\n",
       "      <td>2.714286</td>\n",
       "      <td>2.714286</td>\n",
       "      <td>0.000000</td>\n",
       "      <td>0.000000</td>\n",
       "      <td>10.775510</td>\n",
       "      <td>0.000000</td>\n",
       "      <td>8.367347</td>\n",
       "      <td>0.000000</td>\n",
       "      <td>0.000000</td>\n",
       "      <td>9.836735</td>\n",
       "    </tr>\n",
       "    <tr>\n",
       "      <th>3</th>\n",
       "      <td>18</td>\n",
       "      <td>2012</td>\n",
       "      <td>3</td>\n",
       "      <td>0</td>\n",
       "      <td>1</td>\n",
       "      <td>0</td>\n",
       "      <td>1</td>\n",
       "      <td>0</td>\n",
       "      <td>1</td>\n",
       "      <td>0</td>\n",
       "      <td>...</td>\n",
       "      <td>4.200000</td>\n",
       "      <td>4.200000</td>\n",
       "      <td>0.000000</td>\n",
       "      <td>0.000000</td>\n",
       "      <td>12.100000</td>\n",
       "      <td>0.000000</td>\n",
       "      <td>9.400000</td>\n",
       "      <td>0.000000</td>\n",
       "      <td>0.000000</td>\n",
       "      <td>9.960000</td>\n",
       "    </tr>\n",
       "    <tr>\n",
       "      <th>4</th>\n",
       "      <td>18</td>\n",
       "      <td>2012</td>\n",
       "      <td>4</td>\n",
       "      <td>0</td>\n",
       "      <td>1</td>\n",
       "      <td>0</td>\n",
       "      <td>1</td>\n",
       "      <td>0</td>\n",
       "      <td>1</td>\n",
       "      <td>0</td>\n",
       "      <td>...</td>\n",
       "      <td>5.460000</td>\n",
       "      <td>5.460000</td>\n",
       "      <td>0.000000</td>\n",
       "      <td>0.000000</td>\n",
       "      <td>13.360000</td>\n",
       "      <td>0.000000</td>\n",
       "      <td>10.320000</td>\n",
       "      <td>0.000000</td>\n",
       "      <td>0.000000</td>\n",
       "      <td>10.280000</td>\n",
       "    </tr>\n",
       "    <tr>\n",
       "      <th>...</th>\n",
       "      <td>...</td>\n",
       "      <td>...</td>\n",
       "      <td>...</td>\n",
       "      <td>...</td>\n",
       "      <td>...</td>\n",
       "      <td>...</td>\n",
       "      <td>...</td>\n",
       "      <td>...</td>\n",
       "      <td>...</td>\n",
       "      <td>...</td>\n",
       "      <td>...</td>\n",
       "      <td>...</td>\n",
       "      <td>...</td>\n",
       "      <td>...</td>\n",
       "      <td>...</td>\n",
       "      <td>...</td>\n",
       "      <td>...</td>\n",
       "      <td>...</td>\n",
       "      <td>...</td>\n",
       "      <td>...</td>\n",
       "      <td>...</td>\n",
       "    </tr>\n",
       "    <tr>\n",
       "      <th>643685</th>\n",
       "      <td>1827860</td>\n",
       "      <td>2013</td>\n",
       "      <td>1</td>\n",
       "      <td>0</td>\n",
       "      <td>0</td>\n",
       "      <td>0</td>\n",
       "      <td>1</td>\n",
       "      <td>0</td>\n",
       "      <td>0</td>\n",
       "      <td>1</td>\n",
       "      <td>...</td>\n",
       "      <td>0.000000</td>\n",
       "      <td>0.000000</td>\n",
       "      <td>0.000000</td>\n",
       "      <td>0.000000</td>\n",
       "      <td>0.612903</td>\n",
       "      <td>0.000000</td>\n",
       "      <td>0.000000</td>\n",
       "      <td>0.000000</td>\n",
       "      <td>0.000000</td>\n",
       "      <td>0.000000</td>\n",
       "    </tr>\n",
       "    <tr>\n",
       "      <th>643686</th>\n",
       "      <td>1827860</td>\n",
       "      <td>2015</td>\n",
       "      <td>2</td>\n",
       "      <td>1</td>\n",
       "      <td>0</td>\n",
       "      <td>0</td>\n",
       "      <td>1</td>\n",
       "      <td>0</td>\n",
       "      <td>1</td>\n",
       "      <td>0</td>\n",
       "      <td>...</td>\n",
       "      <td>0.000000</td>\n",
       "      <td>0.000000</td>\n",
       "      <td>0.212121</td>\n",
       "      <td>0.212121</td>\n",
       "      <td>17.363636</td>\n",
       "      <td>0.000000</td>\n",
       "      <td>8.909091</td>\n",
       "      <td>0.000000</td>\n",
       "      <td>0.000000</td>\n",
       "      <td>7.121212</td>\n",
       "    </tr>\n",
       "    <tr>\n",
       "      <th>643687</th>\n",
       "      <td>1827860</td>\n",
       "      <td>2016</td>\n",
       "      <td>3</td>\n",
       "      <td>1</td>\n",
       "      <td>0</td>\n",
       "      <td>0</td>\n",
       "      <td>1</td>\n",
       "      <td>1</td>\n",
       "      <td>0</td>\n",
       "      <td>1</td>\n",
       "      <td>...</td>\n",
       "      <td>0.000000</td>\n",
       "      <td>0.000000</td>\n",
       "      <td>0.294118</td>\n",
       "      <td>0.205882</td>\n",
       "      <td>34.705882</td>\n",
       "      <td>0.000000</td>\n",
       "      <td>10.352941</td>\n",
       "      <td>1.705882</td>\n",
       "      <td>1.705882</td>\n",
       "      <td>23.911765</td>\n",
       "    </tr>\n",
       "    <tr>\n",
       "      <th>643688</th>\n",
       "      <td>1827869</td>\n",
       "      <td>2013</td>\n",
       "      <td>1</td>\n",
       "      <td>1</td>\n",
       "      <td>1</td>\n",
       "      <td>0</td>\n",
       "      <td>0</td>\n",
       "      <td>0</td>\n",
       "      <td>1</td>\n",
       "      <td>0</td>\n",
       "      <td>...</td>\n",
       "      <td>0.000000</td>\n",
       "      <td>0.000000</td>\n",
       "      <td>0.000000</td>\n",
       "      <td>0.000000</td>\n",
       "      <td>0.000000</td>\n",
       "      <td>0.525424</td>\n",
       "      <td>0.000000</td>\n",
       "      <td>0.000000</td>\n",
       "      <td>0.000000</td>\n",
       "      <td>0.000000</td>\n",
       "    </tr>\n",
       "    <tr>\n",
       "      <th>643689</th>\n",
       "      <td>1827869</td>\n",
       "      <td>2014</td>\n",
       "      <td>2</td>\n",
       "      <td>0</td>\n",
       "      <td>0</td>\n",
       "      <td>1</td>\n",
       "      <td>0</td>\n",
       "      <td>0</td>\n",
       "      <td>1</td>\n",
       "      <td>0</td>\n",
       "      <td>...</td>\n",
       "      <td>0.000000</td>\n",
       "      <td>0.666667</td>\n",
       "      <td>0.666667</td>\n",
       "      <td>0.000000</td>\n",
       "      <td>0.000000</td>\n",
       "      <td>8.950000</td>\n",
       "      <td>1.033333</td>\n",
       "      <td>0.083333</td>\n",
       "      <td>0.083333</td>\n",
       "      <td>8.133333</td>\n",
       "    </tr>\n",
       "  </tbody>\n",
       "</table>\n",
       "<p>643690 rows × 164 columns</p>\n",
       "</div>"
      ],
      "text/plain": [
       "         persnr  year  nrEntry  ltue  employed_before  receipt_leh_before  \\\n",
       "0             7  2015        1     0                1                   0   \n",
       "1            18  2010        1     1                0                   0   \n",
       "2            18  2011        2     0                1                   0   \n",
       "3            18  2012        3     0                1                   0   \n",
       "4            18  2012        4     0                1                   0   \n",
       "...         ...   ...      ...   ...              ...                 ...   \n",
       "643685  1827860  2013        1     0                0                   0   \n",
       "643686  1827860  2015        2     1                0                   0   \n",
       "643687  1827860  2016        3     1                0                   0   \n",
       "643688  1827869  2013        1     1                1                   0   \n",
       "643689  1827869  2014        2     0                0                   1   \n",
       "\n",
       "        receipt_lhg_before  se_before  ASU_notue_seeking_before  \\\n",
       "0                        0          0                         1   \n",
       "1                        0          0                         0   \n",
       "2                        1          0                         1   \n",
       "3                        1          0                         1   \n",
       "4                        1          0                         1   \n",
       "...                    ...        ...                       ...   \n",
       "643685                   1          0                         0   \n",
       "643686                   1          0                         1   \n",
       "643687                   1          1                         0   \n",
       "643688                   0          0                         1   \n",
       "643689                   0          0                         1   \n",
       "\n",
       "        ASU_other_before  ...  minijob_tot_dur_byage  ft_tot_dur_byage  \\\n",
       "0                      0  ...               0.000000          0.000000   \n",
       "1                      0  ...               0.000000          0.000000   \n",
       "2                      0  ...               2.714286          2.714286   \n",
       "3                      0  ...               4.200000          4.200000   \n",
       "4                      0  ...               5.460000          5.460000   \n",
       "...                  ...  ...                    ...               ...   \n",
       "643685                 1  ...               0.000000          0.000000   \n",
       "643686                 0  ...               0.000000          0.000000   \n",
       "643687                 1  ...               0.000000          0.000000   \n",
       "643688                 0  ...               0.000000          0.000000   \n",
       "643689                 0  ...               0.000000          0.666667   \n",
       "\n",
       "        befrist_tot_dur_byage  leih_tot_dur_byage  LHG_tot_dur_byage  \\\n",
       "0                   15.043478            0.000000           0.000000   \n",
       "1                    0.000000            0.000000           0.000000   \n",
       "2                    0.000000            0.000000          10.775510   \n",
       "3                    0.000000            0.000000          12.100000   \n",
       "4                    0.000000            0.000000          13.360000   \n",
       "...                       ...                 ...                ...   \n",
       "643685               0.000000            0.000000           0.612903   \n",
       "643686               0.212121            0.212121          17.363636   \n",
       "643687               0.294118            0.205882          34.705882   \n",
       "643688               0.000000            0.000000           0.000000   \n",
       "643689               0.666667            0.000000           0.000000   \n",
       "\n",
       "        LEH_tot_dur_byage  almp_tot_dur_byage  almp_aw_tot_dur_byage  \\\n",
       "0                0.000000            0.000000               0.000000   \n",
       "1                0.000000            0.000000               0.000000   \n",
       "2                0.000000            8.367347               0.000000   \n",
       "3                0.000000            9.400000               0.000000   \n",
       "4                0.000000           10.320000               0.000000   \n",
       "...                   ...                 ...                    ...   \n",
       "643685           0.000000            0.000000               0.000000   \n",
       "643686           0.000000            8.909091               0.000000   \n",
       "643687           0.000000           10.352941               1.705882   \n",
       "643688           0.525424            0.000000               0.000000   \n",
       "643689           8.950000            1.033333               0.083333   \n",
       "\n",
       "        se_tot_dur_byage  seeking1_tot_dur_byage  \n",
       "0               0.000000                0.000000  \n",
       "1               0.000000                0.000000  \n",
       "2               0.000000                9.836735  \n",
       "3               0.000000                9.960000  \n",
       "4               0.000000               10.280000  \n",
       "...                  ...                     ...  \n",
       "643685          0.000000                0.000000  \n",
       "643686          0.000000                7.121212  \n",
       "643687          1.705882               23.911765  \n",
       "643688          0.000000                0.000000  \n",
       "643689          0.083333                8.133333  \n",
       "\n",
       "[643690 rows x 164 columns]"
      ]
     },
     "execution_count": 10,
     "metadata": {},
     "output_type": "execute_result"
    }
   ],
   "source": [
    "siab"
   ]
  },
  {
   "cell_type": "markdown",
   "id": "1f87e805",
   "metadata": {
    "papermill": {
     "duration": 0.010456,
     "end_time": "2025-08-19T19:01:00.432879",
     "exception": false,
     "start_time": "2025-08-19T19:01:00.422423",
     "status": "completed"
    },
    "tags": []
   },
   "source": [
    "# Splitting Data and Setting Training Data Size"
   ]
  },
  {
   "cell_type": "code",
   "execution_count": 11,
   "id": "910ae358",
   "metadata": {
    "execution": {
     "iopub.execute_input": "2025-08-19T19:01:00.466440Z",
     "iopub.status.busy": "2025-08-19T19:01:00.456616Z",
     "iopub.status.idle": "2025-08-19T19:01:01.161572Z",
     "shell.execute_reply": "2025-08-19T19:01:01.160650Z"
    },
    "papermill": {
     "duration": 0.717721,
     "end_time": "2025-08-19T19:01:01.163120",
     "exception": false,
     "start_time": "2025-08-19T19:01:00.445399",
     "status": "completed"
    },
    "tags": []
   },
   "outputs": [],
   "source": [
    "from fairness_multiverse.universe import sample_by_year_size\n",
    "\n",
    "siab_train = sample_by_year_size(siab,\n",
    "                               training_year=universe[\"training_year\"],\n",
    "                               training_size=universe[\"training_size\"])"
   ]
  },
  {
   "cell_type": "code",
   "execution_count": 12,
   "id": "919c8ff5",
   "metadata": {
    "execution": {
     "iopub.execute_input": "2025-08-19T19:01:01.184755Z",
     "iopub.status.busy": "2025-08-19T19:01:01.184284Z",
     "iopub.status.idle": "2025-08-19T19:01:01.190538Z",
     "shell.execute_reply": "2025-08-19T19:01:01.189638Z"
    },
    "papermill": {
     "duration": 0.018271,
     "end_time": "2025-08-19T19:01:01.191801",
     "exception": false,
     "start_time": "2025-08-19T19:01:01.173530",
     "status": "completed"
    },
    "tags": []
   },
   "outputs": [
    {
     "data": {
      "text/plain": [
       "(1000, 164)"
      ]
     },
     "execution_count": 12,
     "metadata": {},
     "output_type": "execute_result"
    }
   ],
   "source": [
    "siab_train.shape"
   ]
  },
  {
   "cell_type": "code",
   "execution_count": 13,
   "id": "feb13bf4",
   "metadata": {
    "execution": {
     "iopub.execute_input": "2025-08-19T19:01:01.214588Z",
     "iopub.status.busy": "2025-08-19T19:01:01.214169Z",
     "iopub.status.idle": "2025-08-19T19:01:01.222184Z",
     "shell.execute_reply": "2025-08-19T19:01:01.221402Z"
    },
    "papermill": {
     "duration": 0.0201,
     "end_time": "2025-08-19T19:01:01.223543",
     "exception": false,
     "start_time": "2025-08-19T19:01:01.203443",
     "status": "completed"
    },
    "tags": []
   },
   "outputs": [
    {
     "data": {
      "text/plain": [
       "year\n",
       "2012    334\n",
       "2013    333\n",
       "2014    333\n",
       "dtype: int64"
      ]
     },
     "metadata": {},
     "output_type": "display_data"
    }
   ],
   "source": [
    "display(siab_train.groupby(\"year\").size())"
   ]
  },
  {
   "cell_type": "code",
   "execution_count": 14,
   "id": "0997782f",
   "metadata": {
    "execution": {
     "iopub.execute_input": "2025-08-19T19:01:01.246921Z",
     "iopub.status.busy": "2025-08-19T19:01:01.246504Z",
     "iopub.status.idle": "2025-08-19T19:01:01.564059Z",
     "shell.execute_reply": "2025-08-19T19:01:01.562562Z"
    },
    "papermill": {
     "duration": 0.330142,
     "end_time": "2025-08-19T19:01:01.565869",
     "exception": false,
     "start_time": "2025-08-19T19:01:01.235727",
     "status": "completed"
    },
    "tags": []
   },
   "outputs": [],
   "source": [
    "#siab_train = siab_s[siab_s.year < 2015]\n",
    "siab_calib = siab[siab.year == 2015]\n",
    "siab_test = siab[siab.year == 2016]"
   ]
  },
  {
   "cell_type": "code",
   "execution_count": 15,
   "id": "2c1e4012",
   "metadata": {
    "execution": {
     "iopub.execute_input": "2025-08-19T19:01:01.594393Z",
     "iopub.status.busy": "2025-08-19T19:01:01.593073Z",
     "iopub.status.idle": "2025-08-19T19:01:01.601453Z",
     "shell.execute_reply": "2025-08-19T19:01:01.600266Z"
    },
    "papermill": {
     "duration": 0.022806,
     "end_time": "2025-08-19T19:01:01.602769",
     "exception": false,
     "start_time": "2025-08-19T19:01:01.579963",
     "status": "completed"
    },
    "tags": []
   },
   "outputs": [],
   "source": [
    "#siab_calib.shape"
   ]
  },
  {
   "cell_type": "code",
   "execution_count": 16,
   "id": "f66b54ca",
   "metadata": {
    "execution": {
     "iopub.execute_input": "2025-08-19T19:01:01.628990Z",
     "iopub.status.busy": "2025-08-19T19:01:01.627766Z",
     "iopub.status.idle": "2025-08-19T19:01:01.634971Z",
     "shell.execute_reply": "2025-08-19T19:01:01.633621Z"
    },
    "papermill": {
     "duration": 0.020683,
     "end_time": "2025-08-19T19:01:01.636310",
     "exception": false,
     "start_time": "2025-08-19T19:01:01.615627",
     "status": "completed"
    },
    "tags": []
   },
   "outputs": [],
   "source": [
    "#siab_test.shape"
   ]
  },
  {
   "cell_type": "code",
   "execution_count": 17,
   "id": "27e4384d",
   "metadata": {
    "execution": {
     "iopub.execute_input": "2025-08-19T19:01:01.663067Z",
     "iopub.status.busy": "2025-08-19T19:01:01.661674Z",
     "iopub.status.idle": "2025-08-19T19:01:01.675125Z",
     "shell.execute_reply": "2025-08-19T19:01:01.673976Z"
    },
    "papermill": {
     "duration": 0.028451,
     "end_time": "2025-08-19T19:01:01.678097",
     "exception": false,
     "start_time": "2025-08-19T19:01:01.649646",
     "status": "completed"
    },
    "tags": []
   },
   "outputs": [],
   "source": [
    "X_train = siab_train.iloc[:,4:164]\n",
    "y_train = siab_train.iloc[:, [3]]"
   ]
  },
  {
   "cell_type": "code",
   "execution_count": 18,
   "id": "08ee8389",
   "metadata": {
    "execution": {
     "iopub.execute_input": "2025-08-19T19:01:01.718050Z",
     "iopub.status.busy": "2025-08-19T19:01:01.716306Z",
     "iopub.status.idle": "2025-08-19T19:01:01.800608Z",
     "shell.execute_reply": "2025-08-19T19:01:01.799635Z"
    },
    "papermill": {
     "duration": 0.101648,
     "end_time": "2025-08-19T19:01:01.803614",
     "exception": false,
     "start_time": "2025-08-19T19:01:01.701966",
     "status": "completed"
    },
    "tags": []
   },
   "outputs": [],
   "source": [
    "X_calib = siab_calib.iloc[:,4:164]\n",
    "y_calib = siab_calib.iloc[:, [3]]"
   ]
  },
  {
   "cell_type": "code",
   "execution_count": 19,
   "id": "b7ff42e0",
   "metadata": {
    "execution": {
     "iopub.execute_input": "2025-08-19T19:01:01.848981Z",
     "iopub.status.busy": "2025-08-19T19:01:01.847674Z",
     "iopub.status.idle": "2025-08-19T19:01:01.915606Z",
     "shell.execute_reply": "2025-08-19T19:01:01.914620Z"
    },
    "papermill": {
     "duration": 0.088283,
     "end_time": "2025-08-19T19:01:01.917253",
     "exception": false,
     "start_time": "2025-08-19T19:01:01.828970",
     "status": "completed"
    },
    "tags": []
   },
   "outputs": [],
   "source": [
    "X_test = siab_test.iloc[:,4:164]\n",
    "y_true = siab_test.iloc[:, [3]]"
   ]
  },
  {
   "cell_type": "code",
   "execution_count": 20,
   "id": "0275101e",
   "metadata": {
    "execution": {
     "iopub.execute_input": "2025-08-19T19:01:01.954056Z",
     "iopub.status.busy": "2025-08-19T19:01:01.952782Z",
     "iopub.status.idle": "2025-08-19T19:01:02.071838Z",
     "shell.execute_reply": "2025-08-19T19:01:02.070932Z"
    },
    "papermill": {
     "duration": 0.143726,
     "end_time": "2025-08-19T19:01:02.073572",
     "exception": false,
     "start_time": "2025-08-19T19:01:01.929846",
     "status": "completed"
    },
    "tags": []
   },
   "outputs": [],
   "source": [
    "# Auxiliary data needed downstream in the pipeline\n",
    "\n",
    "org_train = X_train.copy()\n",
    "org_test = X_test.copy()\n",
    "org_calib = X_calib.copy()"
   ]
  },
  {
   "cell_type": "markdown",
   "id": "b461e618",
   "metadata": {
    "papermill": {
     "duration": 0.019289,
     "end_time": "2025-08-19T19:01:02.105060",
     "exception": false,
     "start_time": "2025-08-19T19:01:02.085771",
     "status": "completed"
    },
    "tags": []
   },
   "source": [
    "# Preprocessing Data"
   ]
  },
  {
   "cell_type": "code",
   "execution_count": 21,
   "id": "78e74c4b",
   "metadata": {
    "execution": {
     "iopub.execute_input": "2025-08-19T19:01:02.141603Z",
     "iopub.status.busy": "2025-08-19T19:01:02.140298Z",
     "iopub.status.idle": "2025-08-19T19:01:02.149726Z",
     "shell.execute_reply": "2025-08-19T19:01:02.148295Z"
    },
    "papermill": {
     "duration": 0.022925,
     "end_time": "2025-08-19T19:01:02.151124",
     "exception": false,
     "start_time": "2025-08-19T19:01:02.128199",
     "status": "completed"
    },
    "tags": []
   },
   "outputs": [],
   "source": [
    "# EXCLUDE PROTECTED FEATURES\n",
    "# --------------------------\n",
    "\n",
    "excluded_features = universe[\"exclude_features\"].split(\"-\")\n",
    "excluded_features_dictionary = {\n",
    "    \"nationality\": [\"maxdeutsch1\", \"maxdeutsch.Missing.\"],\n",
    "    \"sex\": [\"frau1\"],\n",
    "    \"age\": [\"age\"],\n",
    "}"
   ]
  },
  {
   "cell_type": "code",
   "execution_count": 22,
   "id": "f8e63555",
   "metadata": {
    "execution": {
     "iopub.execute_input": "2025-08-19T19:01:02.193413Z",
     "iopub.status.busy": "2025-08-19T19:01:02.192869Z",
     "iopub.status.idle": "2025-08-19T19:01:02.198595Z",
     "shell.execute_reply": "2025-08-19T19:01:02.197781Z"
    },
    "papermill": {
     "duration": 0.03278,
     "end_time": "2025-08-19T19:01:02.199999",
     "exception": false,
     "start_time": "2025-08-19T19:01:02.167219",
     "status": "completed"
    },
    "tags": []
   },
   "outputs": [],
   "source": [
    "excluded_features_columns = [\n",
    "    excluded_features_dictionary[f] for f in excluded_features if len(f) > 0 and f != \"none\"\n",
    "]"
   ]
  },
  {
   "cell_type": "code",
   "execution_count": 23,
   "id": "da781f7c",
   "metadata": {
    "execution": {
     "iopub.execute_input": "2025-08-19T19:01:02.222684Z",
     "iopub.status.busy": "2025-08-19T19:01:02.222254Z",
     "iopub.status.idle": "2025-08-19T19:01:02.227483Z",
     "shell.execute_reply": "2025-08-19T19:01:02.226573Z"
    },
    "papermill": {
     "duration": 0.018093,
     "end_time": "2025-08-19T19:01:02.228797",
     "exception": false,
     "start_time": "2025-08-19T19:01:02.210704",
     "status": "completed"
    },
    "tags": []
   },
   "outputs": [],
   "source": [
    "from fairness_multiverse.universe import flatten_once\n",
    "\n",
    "excluded_features_columns = flatten_once(excluded_features_columns)"
   ]
  },
  {
   "cell_type": "code",
   "execution_count": 24,
   "id": "37fef0f0",
   "metadata": {
    "execution": {
     "iopub.execute_input": "2025-08-19T19:01:02.252413Z",
     "iopub.status.busy": "2025-08-19T19:01:02.251488Z",
     "iopub.status.idle": "2025-08-19T19:01:02.262070Z",
     "shell.execute_reply": "2025-08-19T19:01:02.261127Z"
    },
    "papermill": {
     "duration": 0.023466,
     "end_time": "2025-08-19T19:01:02.263343",
     "exception": false,
     "start_time": "2025-08-19T19:01:02.239877",
     "status": "completed"
    },
    "tags": []
   },
   "outputs": [
    {
     "name": "stdout",
     "output_type": "stream",
     "text": [
      "Dropping features: ['frau1']\n"
     ]
    }
   ],
   "source": [
    "if len(excluded_features_columns) > 0:\n",
    "    print(f\"Dropping features: {excluded_features_columns}\")\n",
    "    X_train.drop(excluded_features_columns, axis=1, inplace=True)"
   ]
  },
  {
   "cell_type": "code",
   "execution_count": 25,
   "id": "d029e3e9",
   "metadata": {
    "execution": {
     "iopub.execute_input": "2025-08-19T19:01:02.290243Z",
     "iopub.status.busy": "2025-08-19T19:01:02.288815Z",
     "iopub.status.idle": "2025-08-19T19:01:02.352241Z",
     "shell.execute_reply": "2025-08-19T19:01:02.351315Z"
    },
    "papermill": {
     "duration": 0.077691,
     "end_time": "2025-08-19T19:01:02.354717",
     "exception": false,
     "start_time": "2025-08-19T19:01:02.277026",
     "status": "completed"
    },
    "tags": []
   },
   "outputs": [
    {
     "name": "stdout",
     "output_type": "stream",
     "text": [
      "Dropping features: ['frau1']\n"
     ]
    }
   ],
   "source": [
    "if len(excluded_features_columns) > 0:\n",
    "    print(f\"Dropping features: {excluded_features_columns}\")\n",
    "    X_test.drop(excluded_features_columns, axis=1, inplace=True)"
   ]
  },
  {
   "cell_type": "code",
   "execution_count": 26,
   "id": "01d571f0",
   "metadata": {
    "execution": {
     "iopub.execute_input": "2025-08-19T19:01:02.393795Z",
     "iopub.status.busy": "2025-08-19T19:01:02.392356Z",
     "iopub.status.idle": "2025-08-19T19:01:02.447500Z",
     "shell.execute_reply": "2025-08-19T19:01:02.446576Z"
    },
    "papermill": {
     "duration": 0.071824,
     "end_time": "2025-08-19T19:01:02.449943",
     "exception": false,
     "start_time": "2025-08-19T19:01:02.378119",
     "status": "completed"
    },
    "tags": []
   },
   "outputs": [
    {
     "name": "stdout",
     "output_type": "stream",
     "text": [
      "Dropping features: ['frau1']\n"
     ]
    }
   ],
   "source": [
    "if len(excluded_features_columns) > 0:\n",
    "    print(f\"Dropping features: {excluded_features_columns}\")\n",
    "    X_calib.drop(excluded_features_columns, axis=1, inplace=True)"
   ]
  },
  {
   "cell_type": "code",
   "execution_count": 27,
   "id": "3037356e",
   "metadata": {
    "execution": {
     "iopub.execute_input": "2025-08-19T19:01:02.487856Z",
     "iopub.status.busy": "2025-08-19T19:01:02.486695Z",
     "iopub.status.idle": "2025-08-19T19:01:02.494112Z",
     "shell.execute_reply": "2025-08-19T19:01:02.492782Z"
    },
    "papermill": {
     "duration": 0.02249,
     "end_time": "2025-08-19T19:01:02.495522",
     "exception": false,
     "start_time": "2025-08-19T19:01:02.473032",
     "status": "completed"
    },
    "tags": []
   },
   "outputs": [],
   "source": [
    "# EXCLUDE CERTAIN SUBGROUPS\n",
    "# -------------------------\n",
    "\n",
    "mode = universe.get(\"exclude_subgroups\", \"keep-all\") # Defaults to \"keep-all\" if the key is missing."
   ]
  },
  {
   "cell_type": "code",
   "execution_count": 28,
   "id": "9d1e63fd",
   "metadata": {
    "execution": {
     "iopub.execute_input": "2025-08-19T19:01:02.522792Z",
     "iopub.status.busy": "2025-08-19T19:01:02.521634Z",
     "iopub.status.idle": "2025-08-19T19:01:02.532352Z",
     "shell.execute_reply": "2025-08-19T19:01:02.530917Z"
    },
    "papermill": {
     "duration": 0.024778,
     "end_time": "2025-08-19T19:01:02.533827",
     "exception": false,
     "start_time": "2025-08-19T19:01:02.509049",
     "status": "completed"
    },
    "tags": []
   },
   "outputs": [],
   "source": [
    "if mode == \"keep-all\":\n",
    "    keep_mask = pd.Series(True, index=org_train.index)\n",
    "\n",
    "elif mode == \"drop-non-german\":\n",
    "    keep_mask = (org_train[\"maxdeutsch1\"] == 1) & (org_train[\"maxdeutsch.Missing.\"] == 0)\n",
    "\n",
    "else:\n",
    "    raise ValueError(f\"Unsupported mode for exclude_subgroups: {mode}\")"
   ]
  },
  {
   "cell_type": "code",
   "execution_count": 29,
   "id": "d3b65474",
   "metadata": {
    "execution": {
     "iopub.execute_input": "2025-08-19T19:01:02.561473Z",
     "iopub.status.busy": "2025-08-19T19:01:02.560158Z",
     "iopub.status.idle": "2025-08-19T19:01:02.569957Z",
     "shell.execute_reply": "2025-08-19T19:01:02.568622Z"
    },
    "papermill": {
     "duration": 0.023423,
     "end_time": "2025-08-19T19:01:02.571504",
     "exception": false,
     "start_time": "2025-08-19T19:01:02.548081",
     "status": "completed"
    },
    "tags": []
   },
   "outputs": [],
   "source": [
    "n_drop = (~keep_mask).sum() # Calculates how many rows are set to be dropped\n",
    "if n_drop > 0:\n",
    "    pct = n_drop / len(keep_mask) * 100\n",
    "    print(f\"Dropping {n_drop} rows ({pct:.2f}%) where mode='{mode}'\")"
   ]
  },
  {
   "cell_type": "code",
   "execution_count": 30,
   "id": "f44389b3",
   "metadata": {
    "execution": {
     "iopub.execute_input": "2025-08-19T19:01:02.600638Z",
     "iopub.status.busy": "2025-08-19T19:01:02.599304Z",
     "iopub.status.idle": "2025-08-19T19:01:02.608608Z",
     "shell.execute_reply": "2025-08-19T19:01:02.607303Z"
    },
    "papermill": {
     "duration": 0.023687,
     "end_time": "2025-08-19T19:01:02.610282",
     "exception": false,
     "start_time": "2025-08-19T19:01:02.586595",
     "status": "completed"
    },
    "tags": []
   },
   "outputs": [],
   "source": [
    "X_train = X_train[keep_mask]"
   ]
  },
  {
   "cell_type": "code",
   "execution_count": 31,
   "id": "ceca8c2a",
   "metadata": {
    "execution": {
     "iopub.execute_input": "2025-08-19T19:01:02.639292Z",
     "iopub.status.busy": "2025-08-19T19:01:02.637805Z",
     "iopub.status.idle": "2025-08-19T19:01:02.646591Z",
     "shell.execute_reply": "2025-08-19T19:01:02.645185Z"
    },
    "papermill": {
     "duration": 0.023661,
     "end_time": "2025-08-19T19:01:02.648088",
     "exception": false,
     "start_time": "2025-08-19T19:01:02.624427",
     "status": "completed"
    },
    "tags": []
   },
   "outputs": [],
   "source": [
    "y_train = y_train[keep_mask]"
   ]
  },
  {
   "cell_type": "markdown",
   "id": "04d31e2f",
   "metadata": {
    "papermill": {
     "duration": 0.011092,
     "end_time": "2025-08-19T19:01:02.672993",
     "exception": false,
     "start_time": "2025-08-19T19:01:02.661901",
     "status": "completed"
    },
    "tags": []
   },
   "source": [
    "# Model Training"
   ]
  },
  {
   "cell_type": "code",
   "execution_count": 32,
   "id": "db991733",
   "metadata": {
    "execution": {
     "iopub.execute_input": "2025-08-19T19:01:02.697936Z",
     "iopub.status.busy": "2025-08-19T19:01:02.696428Z",
     "iopub.status.idle": "2025-08-19T19:01:02.804413Z",
     "shell.execute_reply": "2025-08-19T19:01:02.803378Z"
    },
    "papermill": {
     "duration": 0.122038,
     "end_time": "2025-08-19T19:01:02.806009",
     "exception": false,
     "start_time": "2025-08-19T19:01:02.683971",
     "status": "completed"
    },
    "tags": []
   },
   "outputs": [],
   "source": [
    "from sklearn.linear_model import LogisticRegression\n",
    "from sklearn.ensemble import GradientBoostingClassifier, RandomForestClassifier\n",
    "\n",
    "if (universe[\"model\"] == \"logreg\"):\n",
    "    model = LogisticRegression() #penalty=\"none\", solver=\"newton-cg\", max_iter=1)\n",
    "elif (universe[\"model\"] == \"penalized_logreg\"):\n",
    "    model = LogisticRegression(penalty=\"l2\", C=0.1) #, solver=\"newton-cg\", max_iter=1)\n",
    "elif (universe[\"model\"] == \"rf\"):\n",
    "    model = RandomForestClassifier() # n_estimators=100, n_jobs=-1\n",
    "elif (universe[\"model\"] == \"gbm\"):\n",
    "    model = GradientBoostingClassifier()\n",
    "elif (universe[\"model\"] == \"elasticnet\"):\n",
    "    model = LogisticRegression(penalty = 'elasticnet', solver = 'saga', l1_ratio = 0.5) # max_iter=5000\n",
    "else:\n",
    "    raise \"Unsupported universe.model\""
   ]
  },
  {
   "cell_type": "code",
   "execution_count": 33,
   "id": "a4b5cd25",
   "metadata": {
    "execution": {
     "iopub.execute_input": "2025-08-19T19:01:02.845197Z",
     "iopub.status.busy": "2025-08-19T19:01:02.843714Z",
     "iopub.status.idle": "2025-08-19T19:01:02.853729Z",
     "shell.execute_reply": "2025-08-19T19:01:02.852340Z"
    },
    "papermill": {
     "duration": 0.026382,
     "end_time": "2025-08-19T19:01:02.857164",
     "exception": false,
     "start_time": "2025-08-19T19:01:02.830782",
     "status": "completed"
    },
    "tags": []
   },
   "outputs": [],
   "source": [
    "from sklearn.pipeline import Pipeline\n",
    "from sklearn.preprocessing import StandardScaler\n",
    "\n",
    "model = Pipeline([\n",
    "    #(\"continuous_processor\", continuous_processor),\n",
    "    #(\"categorical_preprocessor\", categorical_preprocessor),\n",
    "    (\"scale\", StandardScaler() if universe[\"scale\"] == \"scale\" else None), \n",
    "    (\"model\", model),\n",
    "])"
   ]
  },
  {
   "cell_type": "code",
   "execution_count": 34,
   "id": "283a904d",
   "metadata": {
    "execution": {
     "iopub.execute_input": "2025-08-19T19:01:02.891239Z",
     "iopub.status.busy": "2025-08-19T19:01:02.889610Z",
     "iopub.status.idle": "2025-08-19T19:01:02.957869Z",
     "shell.execute_reply": "2025-08-19T19:01:02.956926Z"
    },
    "papermill": {
     "duration": 0.084444,
     "end_time": "2025-08-19T19:01:02.961494",
     "exception": false,
     "start_time": "2025-08-19T19:01:02.877050",
     "status": "completed"
    },
    "tags": []
   },
   "outputs": [
    {
     "name": "stderr",
     "output_type": "stream",
     "text": [
      "/dss/dsshome1/0C/ra93lal2/.local/share/virtualenvs/CMA_Fairness_v2-3j10GkSs/lib/python3.10/site-packages/sklearn/linear_model/_logistic.py:444: ConvergenceWarning: lbfgs failed to converge (status=1):\n",
      "STOP: TOTAL NO. of ITERATIONS REACHED LIMIT.\n",
      "\n",
      "Increase the number of iterations (max_iter) or scale the data as shown in:\n",
      "    https://scikit-learn.org/stable/modules/preprocessing.html\n",
      "Please also refer to the documentation for alternative solver options:\n",
      "    https://scikit-learn.org/stable/modules/linear_model.html#logistic-regression\n",
      "  n_iter_i = _check_optimize_result(\n"
     ]
    },
    {
     "data": {
      "text/html": [
       "<style>#sk-container-id-1 {color: black;background-color: white;}#sk-container-id-1 pre{padding: 0;}#sk-container-id-1 div.sk-toggleable {background-color: white;}#sk-container-id-1 label.sk-toggleable__label {cursor: pointer;display: block;width: 100%;margin-bottom: 0;padding: 0.3em;box-sizing: border-box;text-align: center;}#sk-container-id-1 label.sk-toggleable__label-arrow:before {content: \"▸\";float: left;margin-right: 0.25em;color: #696969;}#sk-container-id-1 label.sk-toggleable__label-arrow:hover:before {color: black;}#sk-container-id-1 div.sk-estimator:hover label.sk-toggleable__label-arrow:before {color: black;}#sk-container-id-1 div.sk-toggleable__content {max-height: 0;max-width: 0;overflow: hidden;text-align: left;background-color: #f0f8ff;}#sk-container-id-1 div.sk-toggleable__content pre {margin: 0.2em;color: black;border-radius: 0.25em;background-color: #f0f8ff;}#sk-container-id-1 input.sk-toggleable__control:checked~div.sk-toggleable__content {max-height: 200px;max-width: 100%;overflow: auto;}#sk-container-id-1 input.sk-toggleable__control:checked~label.sk-toggleable__label-arrow:before {content: \"▾\";}#sk-container-id-1 div.sk-estimator input.sk-toggleable__control:checked~label.sk-toggleable__label {background-color: #d4ebff;}#sk-container-id-1 div.sk-label input.sk-toggleable__control:checked~label.sk-toggleable__label {background-color: #d4ebff;}#sk-container-id-1 input.sk-hidden--visually {border: 0;clip: rect(1px 1px 1px 1px);clip: rect(1px, 1px, 1px, 1px);height: 1px;margin: -1px;overflow: hidden;padding: 0;position: absolute;width: 1px;}#sk-container-id-1 div.sk-estimator {font-family: monospace;background-color: #f0f8ff;border: 1px dotted black;border-radius: 0.25em;box-sizing: border-box;margin-bottom: 0.5em;}#sk-container-id-1 div.sk-estimator:hover {background-color: #d4ebff;}#sk-container-id-1 div.sk-parallel-item::after {content: \"\";width: 100%;border-bottom: 1px solid gray;flex-grow: 1;}#sk-container-id-1 div.sk-label:hover label.sk-toggleable__label {background-color: #d4ebff;}#sk-container-id-1 div.sk-serial::before {content: \"\";position: absolute;border-left: 1px solid gray;box-sizing: border-box;top: 0;bottom: 0;left: 50%;z-index: 0;}#sk-container-id-1 div.sk-serial {display: flex;flex-direction: column;align-items: center;background-color: white;padding-right: 0.2em;padding-left: 0.2em;position: relative;}#sk-container-id-1 div.sk-item {position: relative;z-index: 1;}#sk-container-id-1 div.sk-parallel {display: flex;align-items: stretch;justify-content: center;background-color: white;position: relative;}#sk-container-id-1 div.sk-item::before, #sk-container-id-1 div.sk-parallel-item::before {content: \"\";position: absolute;border-left: 1px solid gray;box-sizing: border-box;top: 0;bottom: 0;left: 50%;z-index: -1;}#sk-container-id-1 div.sk-parallel-item {display: flex;flex-direction: column;z-index: 1;position: relative;background-color: white;}#sk-container-id-1 div.sk-parallel-item:first-child::after {align-self: flex-end;width: 50%;}#sk-container-id-1 div.sk-parallel-item:last-child::after {align-self: flex-start;width: 50%;}#sk-container-id-1 div.sk-parallel-item:only-child::after {width: 0;}#sk-container-id-1 div.sk-dashed-wrapped {border: 1px dashed gray;margin: 0 0.4em 0.5em 0.4em;box-sizing: border-box;padding-bottom: 0.4em;background-color: white;}#sk-container-id-1 div.sk-label label {font-family: monospace;font-weight: bold;display: inline-block;line-height: 1.2em;}#sk-container-id-1 div.sk-label-container {text-align: center;}#sk-container-id-1 div.sk-container {/* jupyter's `normalize.less` sets `[hidden] { display: none; }` but bootstrap.min.css set `[hidden] { display: none !important; }` so we also need the `!important` here to be able to override the default hidden behavior on the sphinx rendered scikit-learn.org. See: https://github.com/scikit-learn/scikit-learn/issues/21755 */display: inline-block !important;position: relative;}#sk-container-id-1 div.sk-text-repr-fallback {display: none;}</style><div id=\"sk-container-id-1\" class=\"sk-top-container\"><div class=\"sk-text-repr-fallback\"><pre>Pipeline(steps=[(&#x27;scale&#x27;, None), (&#x27;model&#x27;, LogisticRegression())])</pre><b>In a Jupyter environment, please rerun this cell to show the HTML representation or trust the notebook. <br />On GitHub, the HTML representation is unable to render, please try loading this page with nbviewer.org.</b></div><div class=\"sk-container\" hidden><div class=\"sk-item sk-dashed-wrapped\"><div class=\"sk-label-container\"><div class=\"sk-label sk-toggleable\"><input class=\"sk-toggleable__control sk-hidden--visually\" id=\"sk-estimator-id-1\" type=\"checkbox\" ><label for=\"sk-estimator-id-1\" class=\"sk-toggleable__label sk-toggleable__label-arrow\">Pipeline</label><div class=\"sk-toggleable__content\"><pre>Pipeline(steps=[(&#x27;scale&#x27;, None), (&#x27;model&#x27;, LogisticRegression())])</pre></div></div></div><div class=\"sk-serial\"><div class=\"sk-item\"><div class=\"sk-estimator sk-toggleable\"><input class=\"sk-toggleable__control sk-hidden--visually\" id=\"sk-estimator-id-2\" type=\"checkbox\" ><label for=\"sk-estimator-id-2\" class=\"sk-toggleable__label sk-toggleable__label-arrow\">None</label><div class=\"sk-toggleable__content\"><pre>None</pre></div></div></div><div class=\"sk-item\"><div class=\"sk-estimator sk-toggleable\"><input class=\"sk-toggleable__control sk-hidden--visually\" id=\"sk-estimator-id-3\" type=\"checkbox\" ><label for=\"sk-estimator-id-3\" class=\"sk-toggleable__label sk-toggleable__label-arrow\">LogisticRegression</label><div class=\"sk-toggleable__content\"><pre>LogisticRegression()</pre></div></div></div></div></div></div></div>"
      ],
      "text/plain": [
       "Pipeline(steps=[('scale', None), ('model', LogisticRegression())])"
      ]
     },
     "execution_count": 34,
     "metadata": {},
     "output_type": "execute_result"
    }
   ],
   "source": [
    "model.fit(X_train, y_train.values.ravel())"
   ]
  },
  {
   "cell_type": "code",
   "execution_count": 35,
   "id": "6e15e313",
   "metadata": {
    "execution": {
     "iopub.execute_input": "2025-08-19T19:01:03.003880Z",
     "iopub.status.busy": "2025-08-19T19:01:03.002157Z",
     "iopub.status.idle": "2025-08-19T19:01:03.107675Z",
     "shell.execute_reply": "2025-08-19T19:01:03.106834Z"
    },
    "papermill": {
     "duration": 0.123266,
     "end_time": "2025-08-19T19:01:03.108961",
     "exception": false,
     "start_time": "2025-08-19T19:01:02.985695",
     "status": "completed"
    },
    "tags": []
   },
   "outputs": [
    {
     "data": {
      "text/plain": [
       "0.8609965444209118"
      ]
     },
     "execution_count": 35,
     "metadata": {},
     "output_type": "execute_result"
    }
   ],
   "source": [
    "from fairness_multiverse.universe import predict_w_threshold\n",
    "\n",
    "probs_test = model.predict_proba(X_test)\n",
    "\n",
    "'''\n",
    "Below code returns a boolean array (or binary 0/1 array depending on how it’s used) where each element \n",
    "is True if the probability of class 1 is greater than or equal to the threshold, and False otherwise.\n",
    "'''\n",
    "y_pred_default = predict_w_threshold(probs_test, 0.5)\n",
    "\n",
    "from sklearn.metrics import accuracy_score\n",
    "\n",
    "# Naive prediction\n",
    "accuracy_score(y_true = y_true, y_pred = y_pred_default)"
   ]
  },
  {
   "cell_type": "code",
   "execution_count": 36,
   "id": "6f14067c",
   "metadata": {
    "execution": {
     "iopub.execute_input": "2025-08-19T19:01:03.146275Z",
     "iopub.status.busy": "2025-08-19T19:01:03.145157Z",
     "iopub.status.idle": "2025-08-19T19:01:03.231721Z",
     "shell.execute_reply": "2025-08-19T19:01:03.230879Z"
    },
    "papermill": {
     "duration": 0.115578,
     "end_time": "2025-08-19T19:01:03.236397",
     "exception": false,
     "start_time": "2025-08-19T19:01:03.120819",
     "status": "completed"
    },
    "tags": []
   },
   "outputs": [
    {
     "data": {
      "text/plain": [
       "array([0, 0, 0, ..., 0, 0, 0])"
      ]
     },
     "execution_count": 36,
     "metadata": {},
     "output_type": "execute_result"
    }
   ],
   "source": [
    "model.predict(X_test)"
   ]
  },
  {
   "cell_type": "markdown",
   "id": "3759920c",
   "metadata": {
    "papermill": {
     "duration": 0.012684,
     "end_time": "2025-08-19T19:01:03.273134",
     "exception": false,
     "start_time": "2025-08-19T19:01:03.260450",
     "status": "completed"
    },
    "tags": []
   },
   "source": [
    "# Conformal Prediction"
   ]
  },
  {
   "cell_type": "code",
   "execution_count": 37,
   "id": "14b27f59",
   "metadata": {
    "execution": {
     "iopub.execute_input": "2025-08-19T19:01:03.299453Z",
     "iopub.status.busy": "2025-08-19T19:01:03.298065Z",
     "iopub.status.idle": "2025-08-19T19:01:03.305831Z",
     "shell.execute_reply": "2025-08-19T19:01:03.304461Z"
    },
    "papermill": {
     "duration": 0.022776,
     "end_time": "2025-08-19T19:01:03.307618",
     "exception": false,
     "start_time": "2025-08-19T19:01:03.284842",
     "status": "completed"
    },
    "tags": []
   },
   "outputs": [],
   "source": [
    "# Miscoverage level for conformal prediction (10% allowed error rate => 90% target coverage)\n",
    "alpha = 0.1"
   ]
  },
  {
   "cell_type": "code",
   "execution_count": 38,
   "id": "59102472",
   "metadata": {
    "execution": {
     "iopub.execute_input": "2025-08-19T19:01:03.337038Z",
     "iopub.status.busy": "2025-08-19T19:01:03.335700Z",
     "iopub.status.idle": "2025-08-19T19:01:03.425866Z",
     "shell.execute_reply": "2025-08-19T19:01:03.424955Z"
    },
    "papermill": {
     "duration": 0.106414,
     "end_time": "2025-08-19T19:01:03.428543",
     "exception": false,
     "start_time": "2025-08-19T19:01:03.322129",
     "status": "completed"
    },
    "tags": []
   },
   "outputs": [],
   "source": [
    "probs_calib = model.predict_proba(X_calib)"
   ]
  },
  {
   "cell_type": "code",
   "execution_count": 39,
   "id": "a792d4dd",
   "metadata": {
    "execution": {
     "iopub.execute_input": "2025-08-19T19:01:03.469653Z",
     "iopub.status.busy": "2025-08-19T19:01:03.468391Z",
     "iopub.status.idle": "2025-08-19T19:01:03.476729Z",
     "shell.execute_reply": "2025-08-19T19:01:03.475377Z"
    },
    "papermill": {
     "duration": 0.024866,
     "end_time": "2025-08-19T19:01:03.478417",
     "exception": false,
     "start_time": "2025-08-19T19:01:03.453551",
     "status": "completed"
    },
    "tags": []
   },
   "outputs": [],
   "source": [
    "y_calib = y_calib.values.ravel().astype(int)"
   ]
  },
  {
   "cell_type": "code",
   "execution_count": 40,
   "id": "650fd033",
   "metadata": {
    "execution": {
     "iopub.execute_input": "2025-08-19T19:01:03.507972Z",
     "iopub.status.busy": "2025-08-19T19:01:03.506599Z",
     "iopub.status.idle": "2025-08-19T19:01:03.517974Z",
     "shell.execute_reply": "2025-08-19T19:01:03.516591Z"
    },
    "papermill": {
     "duration": 0.026727,
     "end_time": "2025-08-19T19:01:03.519660",
     "exception": false,
     "start_time": "2025-08-19T19:01:03.492933",
     "status": "completed"
    },
    "tags": []
   },
   "outputs": [],
   "source": [
    "from fairness_multiverse.conformal import compute_nc_scores\n",
    "\n",
    "# Compute nonconformity scores on calibration set (1 - probability of true class)\n",
    "nc_scores = compute_nc_scores(probs_calib, y_calib)"
   ]
  },
  {
   "cell_type": "code",
   "execution_count": 41,
   "id": "28ada44c",
   "metadata": {
    "execution": {
     "iopub.execute_input": "2025-08-19T19:01:03.549859Z",
     "iopub.status.busy": "2025-08-19T19:01:03.548660Z",
     "iopub.status.idle": "2025-08-19T19:01:03.558820Z",
     "shell.execute_reply": "2025-08-19T19:01:03.557547Z"
    },
    "papermill": {
     "duration": 0.025705,
     "end_time": "2025-08-19T19:01:03.560450",
     "exception": false,
     "start_time": "2025-08-19T19:01:03.534745",
     "status": "completed"
    },
    "tags": []
   },
   "outputs": [],
   "source": [
    "from fairness_multiverse.conformal import find_threshold\n",
    "\n",
    "# Find conformal threshold q_hat for the given alpha (split conformal method)\n",
    "q_hat = find_threshold(nc_scores, alpha)"
   ]
  },
  {
   "cell_type": "code",
   "execution_count": 42,
   "id": "df56469e",
   "metadata": {
    "execution": {
     "iopub.execute_input": "2025-08-19T19:01:03.591135Z",
     "iopub.status.busy": "2025-08-19T19:01:03.589912Z",
     "iopub.status.idle": "2025-08-19T19:01:03.600447Z",
     "shell.execute_reply": "2025-08-19T19:01:03.599102Z"
    },
    "papermill": {
     "duration": 0.026614,
     "end_time": "2025-08-19T19:01:03.602305",
     "exception": false,
     "start_time": "2025-08-19T19:01:03.575691",
     "status": "completed"
    },
    "tags": []
   },
   "outputs": [
    {
     "data": {
      "text/plain": [
       "0.6985927952008464"
      ]
     },
     "execution_count": 42,
     "metadata": {},
     "output_type": "execute_result"
    }
   ],
   "source": [
    "q_hat"
   ]
  },
  {
   "cell_type": "code",
   "execution_count": 43,
   "id": "aa1f5faa",
   "metadata": {
    "execution": {
     "iopub.execute_input": "2025-08-19T19:01:03.631931Z",
     "iopub.status.busy": "2025-08-19T19:01:03.630718Z",
     "iopub.status.idle": "2025-08-19T19:01:04.149725Z",
     "shell.execute_reply": "2025-08-19T19:01:04.148494Z"
    },
    "papermill": {
     "duration": 0.53418,
     "end_time": "2025-08-19T19:01:04.151452",
     "exception": false,
     "start_time": "2025-08-19T19:01:03.617272",
     "status": "completed"
    },
    "tags": []
   },
   "outputs": [],
   "source": [
    "from fairness_multiverse.conformal import predict_conformal_sets\n",
    "\n",
    "# Generate prediction sets for each test example\n",
    "pred_sets = predict_conformal_sets(model, X_test, q_hat)"
   ]
  },
  {
   "cell_type": "code",
   "execution_count": 44,
   "id": "97f67a6b",
   "metadata": {
    "execution": {
     "iopub.execute_input": "2025-08-19T19:01:04.181546Z",
     "iopub.status.busy": "2025-08-19T19:01:04.180651Z",
     "iopub.status.idle": "2025-08-19T19:01:04.185975Z",
     "shell.execute_reply": "2025-08-19T19:01:04.185189Z"
    },
    "papermill": {
     "duration": 0.020043,
     "end_time": "2025-08-19T19:01:04.187216",
     "exception": false,
     "start_time": "2025-08-19T19:01:04.167173",
     "status": "completed"
    },
    "tags": []
   },
   "outputs": [],
   "source": [
    "y_true = y_true.squeeze()"
   ]
  },
  {
   "cell_type": "code",
   "execution_count": 45,
   "id": "e700e9a7",
   "metadata": {
    "execution": {
     "iopub.execute_input": "2025-08-19T19:01:04.213799Z",
     "iopub.status.busy": "2025-08-19T19:01:04.212802Z",
     "iopub.status.idle": "2025-08-19T19:01:04.718967Z",
     "shell.execute_reply": "2025-08-19T19:01:04.717635Z"
    },
    "papermill": {
     "duration": 0.521144,
     "end_time": "2025-08-19T19:01:04.720699",
     "exception": false,
     "start_time": "2025-08-19T19:01:04.199555",
     "status": "completed"
    },
    "tags": []
   },
   "outputs": [],
   "source": [
    "from fairness_multiverse.conformal import evaluate_sets\n",
    "\n",
    "# Evaluate coverage and average set size on test data\n",
    "metrics = evaluate_sets(pred_sets, y_true)"
   ]
  },
  {
   "cell_type": "markdown",
   "id": "efbacec0",
   "metadata": {
    "papermill": {
     "duration": 0.012226,
     "end_time": "2025-08-19T19:01:04.745441",
     "exception": false,
     "start_time": "2025-08-19T19:01:04.733215",
     "status": "completed"
    },
    "tags": []
   },
   "source": [
    "# CP Metrics"
   ]
  },
  {
   "cell_type": "code",
   "execution_count": 46,
   "id": "9de55fb1",
   "metadata": {
    "execution": {
     "iopub.execute_input": "2025-08-19T19:01:04.772766Z",
     "iopub.status.busy": "2025-08-19T19:01:04.771867Z",
     "iopub.status.idle": "2025-08-19T19:01:04.785706Z",
     "shell.execute_reply": "2025-08-19T19:01:04.784617Z"
    },
    "papermill": {
     "duration": 0.029805,
     "end_time": "2025-08-19T19:01:04.787287",
     "exception": false,
     "start_time": "2025-08-19T19:01:04.757482",
     "status": "completed"
    },
    "tags": []
   },
   "outputs": [
    {
     "data": {
      "text/plain": [
       "{'coverage': 0.9115371753427711, 'avg_size': 1.1934566937911046}"
      ]
     },
     "execution_count": 46,
     "metadata": {},
     "output_type": "execute_result"
    }
   ],
   "source": [
    "metrics"
   ]
  },
  {
   "cell_type": "code",
   "execution_count": 47,
   "id": "64c340a1",
   "metadata": {
    "execution": {
     "iopub.execute_input": "2025-08-19T19:01:04.821945Z",
     "iopub.status.busy": "2025-08-19T19:01:04.821230Z",
     "iopub.status.idle": "2025-08-19T19:01:04.831637Z",
     "shell.execute_reply": "2025-08-19T19:01:04.830226Z"
    },
    "papermill": {
     "duration": 0.027396,
     "end_time": "2025-08-19T19:01:04.833481",
     "exception": false,
     "start_time": "2025-08-19T19:01:04.806085",
     "status": "completed"
    },
    "tags": []
   },
   "outputs": [],
   "source": [
    "example_universe = universe.copy()\n",
    "universe_training_year = example_universe.get(\"training_year\")\n",
    "universe_training_size = example_universe.get(\"training_size\")\n",
    "universe_scale = example_universe.get(\"scale\")\n",
    "universe_model = example_universe.get(\"model\")\n",
    "universe_exclude_features = example_universe.get(\"exclude_features\")\n",
    "universe_exclude_subgroups = example_universe.get(\"exclude_subgroups\")"
   ]
  },
  {
   "cell_type": "code",
   "execution_count": 48,
   "id": "dbb53cb4",
   "metadata": {
    "execution": {
     "iopub.execute_input": "2025-08-19T19:01:04.864421Z",
     "iopub.status.busy": "2025-08-19T19:01:04.863714Z",
     "iopub.status.idle": "2025-08-19T19:01:04.874024Z",
     "shell.execute_reply": "2025-08-19T19:01:04.872639Z"
    },
    "papermill": {
     "duration": 0.026623,
     "end_time": "2025-08-19T19:01:04.875912",
     "exception": false,
     "start_time": "2025-08-19T19:01:04.849289",
     "status": "completed"
    },
    "tags": []
   },
   "outputs": [],
   "source": [
    "cp_metrics_dict = {\n",
    "    \"universe_id\": [universe_id],\n",
    "    \"universe_training_year\": [universe_training_year],\n",
    "    \"universe_training_size\": [universe_training_size],\n",
    "    \"universe_scale\": [universe_scale],\n",
    "    \"universe_model\": [universe_model],\n",
    "    \"universe_exclude_features\": [universe_exclude_features],\n",
    "    \"universe_exclude_subgroups\": [universe_exclude_subgroups],\n",
    "    \"q_hat\": [q_hat],\n",
    "    \"coverage\": [metrics[\"coverage\"]],\n",
    "    \"avg_size\": [metrics[\"avg_size\"]],\n",
    "}"
   ]
  },
  {
   "cell_type": "code",
   "execution_count": 49,
   "id": "0d70d4b2",
   "metadata": {
    "execution": {
     "iopub.execute_input": "2025-08-19T19:01:04.926235Z",
     "iopub.status.busy": "2025-08-19T19:01:04.924034Z",
     "iopub.status.idle": "2025-08-19T19:01:04.938753Z",
     "shell.execute_reply": "2025-08-19T19:01:04.937644Z"
    },
    "papermill": {
     "duration": 0.048096,
     "end_time": "2025-08-19T19:01:04.941270",
     "exception": false,
     "start_time": "2025-08-19T19:01:04.893174",
     "status": "completed"
    },
    "tags": []
   },
   "outputs": [],
   "source": [
    "cp_metrics_df = pd.DataFrame(cp_metrics_dict)"
   ]
  },
  {
   "cell_type": "code",
   "execution_count": 50,
   "id": "b494403c",
   "metadata": {
    "execution": {
     "iopub.execute_input": "2025-08-19T19:01:04.991772Z",
     "iopub.status.busy": "2025-08-19T19:01:04.991382Z",
     "iopub.status.idle": "2025-08-19T19:01:05.015477Z",
     "shell.execute_reply": "2025-08-19T19:01:05.014561Z"
    },
    "papermill": {
     "duration": 0.049637,
     "end_time": "2025-08-19T19:01:05.017399",
     "exception": false,
     "start_time": "2025-08-19T19:01:04.967762",
     "status": "completed"
    },
    "tags": []
   },
   "outputs": [
    {
     "data": {
      "text/html": [
       "<div>\n",
       "<style scoped>\n",
       "    .dataframe tbody tr th:only-of-type {\n",
       "        vertical-align: middle;\n",
       "    }\n",
       "\n",
       "    .dataframe tbody tr th {\n",
       "        vertical-align: top;\n",
       "    }\n",
       "\n",
       "    .dataframe thead th {\n",
       "        text-align: right;\n",
       "    }\n",
       "</style>\n",
       "<table border=\"1\" class=\"dataframe\">\n",
       "  <thead>\n",
       "    <tr style=\"text-align: right;\">\n",
       "      <th></th>\n",
       "      <th>universe_id</th>\n",
       "      <th>universe_training_year</th>\n",
       "      <th>universe_training_size</th>\n",
       "      <th>universe_scale</th>\n",
       "      <th>universe_model</th>\n",
       "      <th>universe_exclude_features</th>\n",
       "      <th>universe_exclude_subgroups</th>\n",
       "      <th>q_hat</th>\n",
       "      <th>coverage</th>\n",
       "      <th>avg_size</th>\n",
       "    </tr>\n",
       "  </thead>\n",
       "  <tbody>\n",
       "    <tr>\n",
       "      <th>0</th>\n",
       "      <td>3cfa47c7925972ee72d1a80e5d5386cf</td>\n",
       "      <td>2012_14</td>\n",
       "      <td>1k</td>\n",
       "      <td>do-not-scale</td>\n",
       "      <td>logreg</td>\n",
       "      <td>sex</td>\n",
       "      <td>keep-all</td>\n",
       "      <td>0.698593</td>\n",
       "      <td>0.911537</td>\n",
       "      <td>1.193457</td>\n",
       "    </tr>\n",
       "  </tbody>\n",
       "</table>\n",
       "</div>"
      ],
      "text/plain": [
       "                        universe_id universe_training_year  \\\n",
       "0  3cfa47c7925972ee72d1a80e5d5386cf                2012_14   \n",
       "\n",
       "  universe_training_size universe_scale universe_model  \\\n",
       "0                     1k   do-not-scale         logreg   \n",
       "\n",
       "  universe_exclude_features universe_exclude_subgroups     q_hat  coverage  \\\n",
       "0                       sex                   keep-all  0.698593  0.911537   \n",
       "\n",
       "   avg_size  \n",
       "0  1.193457  "
      ]
     },
     "execution_count": 50,
     "metadata": {},
     "output_type": "execute_result"
    }
   ],
   "source": [
    "cp_metrics_df"
   ]
  },
  {
   "cell_type": "markdown",
   "id": "ed608b0b",
   "metadata": {
    "papermill": {
     "duration": 0.013707,
     "end_time": "2025-08-19T19:01:05.065489",
     "exception": false,
     "start_time": "2025-08-19T19:01:05.051782",
     "status": "completed"
    },
    "tags": []
   },
   "source": [
    "Conditional coverage & looking at subgroups"
   ]
  },
  {
   "cell_type": "code",
   "execution_count": 51,
   "id": "8968c366",
   "metadata": {
    "execution": {
     "iopub.execute_input": "2025-08-19T19:01:05.092104Z",
     "iopub.status.busy": "2025-08-19T19:01:05.091379Z",
     "iopub.status.idle": "2025-08-19T19:01:05.380385Z",
     "shell.execute_reply": "2025-08-19T19:01:05.377703Z"
    },
    "papermill": {
     "duration": 0.305421,
     "end_time": "2025-08-19T19:01:05.382913",
     "exception": false,
     "start_time": "2025-08-19T19:01:05.077492",
     "status": "completed"
    },
    "tags": []
   },
   "outputs": [],
   "source": [
    "from fairness_multiverse.conformal import build_cp_groups\n",
    "\n",
    "cp_groups_df = build_cp_groups(pred_sets, y_true, X_test.index, org_test)"
   ]
  },
  {
   "cell_type": "code",
   "execution_count": 52,
   "id": "292ddabf",
   "metadata": {
    "execution": {
     "iopub.execute_input": "2025-08-19T19:01:05.432403Z",
     "iopub.status.busy": "2025-08-19T19:01:05.432027Z",
     "iopub.status.idle": "2025-08-19T19:01:06.319497Z",
     "shell.execute_reply": "2025-08-19T19:01:06.317926Z"
    },
    "papermill": {
     "duration": 0.925839,
     "end_time": "2025-08-19T19:01:06.321350",
     "exception": false,
     "start_time": "2025-08-19T19:01:05.395511",
     "status": "completed"
    },
    "tags": []
   },
   "outputs": [],
   "source": [
    "# Define covered = 1 if true_label is in the predicted set\n",
    "cp_groups_df['covered'] = cp_groups_df.apply(\n",
    "    lambda r: int(r['true_label'] in r['pred_set']),\n",
    "    axis=1\n",
    ")"
   ]
  },
  {
   "cell_type": "code",
   "execution_count": 53,
   "id": "3a261692",
   "metadata": {
    "execution": {
     "iopub.execute_input": "2025-08-19T19:01:06.348965Z",
     "iopub.status.busy": "2025-08-19T19:01:06.348364Z",
     "iopub.status.idle": "2025-08-19T19:01:06.370386Z",
     "shell.execute_reply": "2025-08-19T19:01:06.369209Z"
    },
    "papermill": {
     "duration": 0.038344,
     "end_time": "2025-08-19T19:01:06.372328",
     "exception": false,
     "start_time": "2025-08-19T19:01:06.333984",
     "status": "completed"
    },
    "tags": []
   },
   "outputs": [],
   "source": [
    "subgroups = ['frau1','nongerman','nongerman_male','nongerman_female']\n",
    "\n",
    "# Conditional coverage for subgroup==1\n",
    "cond_coverage = {\n",
    "    g: cp_groups_df.loc[cp_groups_df[g]==1, 'covered'].mean()\n",
    "    for g in subgroups\n",
    "}"
   ]
  },
  {
   "cell_type": "code",
   "execution_count": 54,
   "id": "894fd600",
   "metadata": {
    "execution": {
     "iopub.execute_input": "2025-08-19T19:01:06.437655Z",
     "iopub.status.busy": "2025-08-19T19:01:06.437284Z",
     "iopub.status.idle": "2025-08-19T19:01:06.444740Z",
     "shell.execute_reply": "2025-08-19T19:01:06.443820Z"
    },
    "papermill": {
     "duration": 0.037611,
     "end_time": "2025-08-19T19:01:06.446120",
     "exception": false,
     "start_time": "2025-08-19T19:01:06.408509",
     "status": "completed"
    },
    "tags": []
   },
   "outputs": [
    {
     "data": {
      "text/plain": [
       "{'frau1': 0.9086399784337512,\n",
       " 'nongerman': 0.9234267108291697,\n",
       " 'nongerman_male': 0.9388453571106908,\n",
       " 'nongerman_female': 0.8979135618479881}"
      ]
     },
     "execution_count": 54,
     "metadata": {},
     "output_type": "execute_result"
    }
   ],
   "source": [
    "cond_coverage"
   ]
  },
  {
   "cell_type": "code",
   "execution_count": 55,
   "id": "942895c7",
   "metadata": {
    "execution": {
     "iopub.execute_input": "2025-08-19T19:01:06.472852Z",
     "iopub.status.busy": "2025-08-19T19:01:06.472600Z",
     "iopub.status.idle": "2025-08-19T19:01:06.479369Z",
     "shell.execute_reply": "2025-08-19T19:01:06.478495Z"
    },
    "papermill": {
     "duration": 0.02337,
     "end_time": "2025-08-19T19:01:06.481942",
     "exception": false,
     "start_time": "2025-08-19T19:01:06.458572",
     "status": "completed"
    },
    "tags": []
   },
   "outputs": [],
   "source": [
    "for subgroup, cov in cond_coverage.items():\n",
    "    cp_metrics_df[f\"cov_{subgroup}\"] = cov"
   ]
  },
  {
   "cell_type": "code",
   "execution_count": 56,
   "id": "3970120f",
   "metadata": {
    "execution": {
     "iopub.execute_input": "2025-08-19T19:01:06.507816Z",
     "iopub.status.busy": "2025-08-19T19:01:06.507402Z",
     "iopub.status.idle": "2025-08-19T19:01:06.524289Z",
     "shell.execute_reply": "2025-08-19T19:01:06.523483Z"
    },
    "papermill": {
     "duration": 0.031422,
     "end_time": "2025-08-19T19:01:06.525913",
     "exception": false,
     "start_time": "2025-08-19T19:01:06.494491",
     "status": "completed"
    },
    "tags": []
   },
   "outputs": [
    {
     "data": {
      "text/html": [
       "<div>\n",
       "<style scoped>\n",
       "    .dataframe tbody tr th:only-of-type {\n",
       "        vertical-align: middle;\n",
       "    }\n",
       "\n",
       "    .dataframe tbody tr th {\n",
       "        vertical-align: top;\n",
       "    }\n",
       "\n",
       "    .dataframe thead th {\n",
       "        text-align: right;\n",
       "    }\n",
       "</style>\n",
       "<table border=\"1\" class=\"dataframe\">\n",
       "  <thead>\n",
       "    <tr style=\"text-align: right;\">\n",
       "      <th></th>\n",
       "      <th>universe_id</th>\n",
       "      <th>universe_training_year</th>\n",
       "      <th>universe_training_size</th>\n",
       "      <th>universe_scale</th>\n",
       "      <th>universe_model</th>\n",
       "      <th>universe_exclude_features</th>\n",
       "      <th>universe_exclude_subgroups</th>\n",
       "      <th>q_hat</th>\n",
       "      <th>coverage</th>\n",
       "      <th>avg_size</th>\n",
       "      <th>cov_frau1</th>\n",
       "      <th>cov_nongerman</th>\n",
       "      <th>cov_nongerman_male</th>\n",
       "      <th>cov_nongerman_female</th>\n",
       "    </tr>\n",
       "  </thead>\n",
       "  <tbody>\n",
       "    <tr>\n",
       "      <th>0</th>\n",
       "      <td>3cfa47c7925972ee72d1a80e5d5386cf</td>\n",
       "      <td>2012_14</td>\n",
       "      <td>1k</td>\n",
       "      <td>do-not-scale</td>\n",
       "      <td>logreg</td>\n",
       "      <td>sex</td>\n",
       "      <td>keep-all</td>\n",
       "      <td>0.698593</td>\n",
       "      <td>0.911537</td>\n",
       "      <td>1.193457</td>\n",
       "      <td>0.90864</td>\n",
       "      <td>0.923427</td>\n",
       "      <td>0.938845</td>\n",
       "      <td>0.897914</td>\n",
       "    </tr>\n",
       "  </tbody>\n",
       "</table>\n",
       "</div>"
      ],
      "text/plain": [
       "                        universe_id universe_training_year  \\\n",
       "0  3cfa47c7925972ee72d1a80e5d5386cf                2012_14   \n",
       "\n",
       "  universe_training_size universe_scale universe_model  \\\n",
       "0                     1k   do-not-scale         logreg   \n",
       "\n",
       "  universe_exclude_features universe_exclude_subgroups     q_hat  coverage  \\\n",
       "0                       sex                   keep-all  0.698593  0.911537   \n",
       "\n",
       "   avg_size  cov_frau1  cov_nongerman  cov_nongerman_male  \\\n",
       "0  1.193457    0.90864       0.923427            0.938845   \n",
       "\n",
       "   cov_nongerman_female  \n",
       "0              0.897914  "
      ]
     },
     "execution_count": 56,
     "metadata": {},
     "output_type": "execute_result"
    }
   ],
   "source": [
    "cp_metrics_df"
   ]
  },
  {
   "cell_type": "markdown",
   "id": "3fc519cc",
   "metadata": {
    "papermill": {
     "duration": 0.014734,
     "end_time": "2025-08-19T19:01:06.556089",
     "exception": false,
     "start_time": "2025-08-19T19:01:06.541355",
     "status": "completed"
    },
    "tags": []
   },
   "source": [
    "# (Fairness) Metrics"
   ]
  },
  {
   "cell_type": "code",
   "execution_count": 57,
   "id": "a2e5e155",
   "metadata": {
    "execution": {
     "iopub.execute_input": "2025-08-19T19:01:06.584229Z",
     "iopub.status.busy": "2025-08-19T19:01:06.583913Z",
     "iopub.status.idle": "2025-08-19T19:01:06.599851Z",
     "shell.execute_reply": "2025-08-19T19:01:06.598433Z"
    },
    "papermill": {
     "duration": 0.033694,
     "end_time": "2025-08-19T19:01:06.602941",
     "exception": false,
     "start_time": "2025-08-19T19:01:06.569247",
     "status": "completed"
    },
    "tags": []
   },
   "outputs": [],
   "source": [
    "colname_to_bin = \"maxdeutsch1\"\n",
    "majority_value = org_train[colname_to_bin].mode()[0]\n",
    "\n",
    "org_test[\"majmin\"] = np.where(org_test[colname_to_bin] == majority_value, \"majority\", \"minority\")"
   ]
  },
  {
   "cell_type": "code",
   "execution_count": 58,
   "id": "17e3e4d5",
   "metadata": {
    "execution": {
     "iopub.execute_input": "2025-08-19T19:01:06.650323Z",
     "iopub.status.busy": "2025-08-19T19:01:06.648518Z",
     "iopub.status.idle": "2025-08-19T19:01:08.390933Z",
     "shell.execute_reply": "2025-08-19T19:01:08.390047Z"
    },
    "papermill": {
     "duration": 1.764533,
     "end_time": "2025-08-19T19:01:08.392769",
     "exception": false,
     "start_time": "2025-08-19T19:01:06.628236",
     "status": "completed"
    },
    "tags": []
   },
   "outputs": [],
   "source": [
    "example_universe = universe.copy()\n",
    "example_universe[\"cutoff\"] = example_universe[\"cutoff\"][0]\n",
    "example_universe[\"eval_fairness_grouping\"] = example_universe[\"eval_fairness_grouping\"][0]\n",
    "fairness_dict, metric_frame = universe_analysis.compute_metrics(\n",
    "    example_universe,\n",
    "    y_pred_prob=probs_test,\n",
    "    y_test=y_true,\n",
    "    org_test=org_test,\n",
    ")"
   ]
  },
  {
   "cell_type": "markdown",
   "id": "1fb7a0e9",
   "metadata": {
    "papermill": {
     "duration": 0.012553,
     "end_time": "2025-08-19T19:01:08.418900",
     "exception": false,
     "start_time": "2025-08-19T19:01:08.406347",
     "status": "completed"
    },
    "tags": []
   },
   "source": [
    "# Overall"
   ]
  },
  {
   "cell_type": "markdown",
   "id": "be1784b1",
   "metadata": {
    "papermill": {
     "duration": 0.012892,
     "end_time": "2025-08-19T19:01:08.444365",
     "exception": false,
     "start_time": "2025-08-19T19:01:08.431473",
     "status": "completed"
    },
    "tags": []
   },
   "source": [
    "Main fairness target: Equalized Odds. Seems to be a better fit than equal opportunity, since we're not only interested in Y = 1. Seems to be a better fit than demographic parity, since we also care about accuracy, not just equal distribution of preds.\n",
    "\n",
    "Pick column for computation of fairness metrics\n",
    "\n",
    "Performance\n",
    "Overall performance measures, most interesting in relation to the measures split by group below"
   ]
  },
  {
   "cell_type": "code",
   "execution_count": 59,
   "id": "b7672bee",
   "metadata": {
    "execution": {
     "iopub.execute_input": "2025-08-19T19:01:08.472316Z",
     "iopub.status.busy": "2025-08-19T19:01:08.471834Z",
     "iopub.status.idle": "2025-08-19T19:01:08.479187Z",
     "shell.execute_reply": "2025-08-19T19:01:08.478316Z"
    },
    "papermill": {
     "duration": 0.023852,
     "end_time": "2025-08-19T19:01:08.481264",
     "exception": false,
     "start_time": "2025-08-19T19:01:08.457412",
     "status": "completed"
    },
    "tags": []
   },
   "outputs": [
    {
     "data": {
      "text/plain": [
       "accuracy                   0.215060\n",
       "balanced accuracy          0.527802\n",
       "f1                         0.236647\n",
       "precision                  0.135189\n",
       "false positive rate        0.892867\n",
       "false negative rate        0.051529\n",
       "selection rate             0.900000\n",
       "count                  89710.000000\n",
       "dtype: float64"
      ]
     },
     "execution_count": 59,
     "metadata": {},
     "output_type": "execute_result"
    }
   ],
   "source": [
    "metric_frame.overall"
   ]
  },
  {
   "cell_type": "markdown",
   "id": "d93333c9",
   "metadata": {
    "papermill": {
     "duration": 0.012823,
     "end_time": "2025-08-19T19:01:08.509062",
     "exception": false,
     "start_time": "2025-08-19T19:01:08.496239",
     "status": "completed"
    },
    "tags": []
   },
   "source": [
    "By Group"
   ]
  },
  {
   "cell_type": "code",
   "execution_count": 60,
   "id": "52256966",
   "metadata": {
    "execution": {
     "iopub.execute_input": "2025-08-19T19:01:08.535819Z",
     "iopub.status.busy": "2025-08-19T19:01:08.535356Z",
     "iopub.status.idle": "2025-08-19T19:01:08.548687Z",
     "shell.execute_reply": "2025-08-19T19:01:08.547808Z"
    },
    "papermill": {
     "duration": 0.029121,
     "end_time": "2025-08-19T19:01:08.550961",
     "exception": false,
     "start_time": "2025-08-19T19:01:08.521840",
     "status": "completed"
    },
    "tags": []
   },
   "outputs": [
    {
     "data": {
      "text/html": [
       "<div>\n",
       "<style scoped>\n",
       "    .dataframe tbody tr th:only-of-type {\n",
       "        vertical-align: middle;\n",
       "    }\n",
       "\n",
       "    .dataframe tbody tr th {\n",
       "        vertical-align: top;\n",
       "    }\n",
       "\n",
       "    .dataframe thead th {\n",
       "        text-align: right;\n",
       "    }\n",
       "</style>\n",
       "<table border=\"1\" class=\"dataframe\">\n",
       "  <thead>\n",
       "    <tr style=\"text-align: right;\">\n",
       "      <th></th>\n",
       "      <th>accuracy</th>\n",
       "      <th>balanced accuracy</th>\n",
       "      <th>f1</th>\n",
       "      <th>precision</th>\n",
       "      <th>false positive rate</th>\n",
       "      <th>false negative rate</th>\n",
       "      <th>selection rate</th>\n",
       "      <th>count</th>\n",
       "    </tr>\n",
       "    <tr>\n",
       "      <th>majmin</th>\n",
       "      <th></th>\n",
       "      <th></th>\n",
       "      <th></th>\n",
       "      <th></th>\n",
       "      <th></th>\n",
       "      <th></th>\n",
       "      <th></th>\n",
       "      <th></th>\n",
       "    </tr>\n",
       "  </thead>\n",
       "  <tbody>\n",
       "    <tr>\n",
       "      <th>majority</th>\n",
       "      <td>0.236230</td>\n",
       "      <td>0.534000</td>\n",
       "      <td>0.245178</td>\n",
       "      <td>0.141002</td>\n",
       "      <td>0.870731</td>\n",
       "      <td>0.061269</td>\n",
       "      <td>0.879717</td>\n",
       "      <td>69170.0</td>\n",
       "    </tr>\n",
       "    <tr>\n",
       "      <th>minority</th>\n",
       "      <td>0.143768</td>\n",
       "      <td>0.510036</td>\n",
       "      <td>0.209822</td>\n",
       "      <td>0.117402</td>\n",
       "      <td>0.965992</td>\n",
       "      <td>0.013936</td>\n",
       "      <td>0.968306</td>\n",
       "      <td>20540.0</td>\n",
       "    </tr>\n",
       "  </tbody>\n",
       "</table>\n",
       "</div>"
      ],
      "text/plain": [
       "          accuracy  balanced accuracy        f1  precision  \\\n",
       "majmin                                                       \n",
       "majority  0.236230           0.534000  0.245178   0.141002   \n",
       "minority  0.143768           0.510036  0.209822   0.117402   \n",
       "\n",
       "          false positive rate  false negative rate  selection rate    count  \n",
       "majmin                                                                       \n",
       "majority             0.870731             0.061269        0.879717  69170.0  \n",
       "minority             0.965992             0.013936        0.968306  20540.0  "
      ]
     },
     "execution_count": 60,
     "metadata": {},
     "output_type": "execute_result"
    }
   ],
   "source": [
    "metric_frame.by_group"
   ]
  },
  {
   "cell_type": "code",
   "execution_count": 61,
   "id": "6e6c20ae",
   "metadata": {
    "execution": {
     "iopub.execute_input": "2025-08-19T19:01:08.611200Z",
     "iopub.status.busy": "2025-08-19T19:01:08.610461Z",
     "iopub.status.idle": "2025-08-19T19:01:10.330353Z",
     "shell.execute_reply": "2025-08-19T19:01:10.329522Z"
    },
    "papermill": {
     "duration": 1.751694,
     "end_time": "2025-08-19T19:01:10.331846",
     "exception": false,
     "start_time": "2025-08-19T19:01:08.580152",
     "status": "completed"
    },
    "tags": []
   },
   "outputs": [
    {
     "data": {
      "text/plain": [
       "array([[<Axes: title={'center': 'accuracy'}, xlabel='majmin'>,\n",
       "        <Axes: title={'center': 'balanced accuracy'}, xlabel='majmin'>,\n",
       "        <Axes: title={'center': 'f1'}, xlabel='majmin'>],\n",
       "       [<Axes: title={'center': 'precision'}, xlabel='majmin'>,\n",
       "        <Axes: title={'center': 'false positive rate'}, xlabel='majmin'>,\n",
       "        <Axes: title={'center': 'false negative rate'}, xlabel='majmin'>],\n",
       "       [<Axes: title={'center': 'selection rate'}, xlabel='majmin'>,\n",
       "        <Axes: title={'center': 'count'}, xlabel='majmin'>,\n",
       "        <Axes: xlabel='majmin'>]], dtype=object)"
      ]
     },
     "execution_count": 61,
     "metadata": {},
     "output_type": "execute_result"
    },
    {
     "data": {
      "image/png": "[encoded data removed]",
      "text/plain": [
       "<Figure size 1200x800 with 9 Axes>"
      ]
     },
     "metadata": {},
     "output_type": "display_data"
    }
   ],
   "source": [
    "# In a graphic\n",
    "metric_frame.by_group.plot.bar(\n",
    "    subplots=True,\n",
    "    layout=[3, 3],\n",
    "    legend=False,\n",
    "    figsize=[12, 8],\n",
    "    title=\"Show all metrics\",\n",
    ")"
   ]
  },
  {
   "cell_type": "markdown",
   "id": "b2e433ae",
   "metadata": {
    "papermill": {
     "duration": 0.039538,
     "end_time": "2025-08-19T19:01:10.394760",
     "exception": false,
     "start_time": "2025-08-19T19:01:10.355222",
     "status": "completed"
    },
    "tags": []
   },
   "source": [
    "# Final Output"
   ]
  },
  {
   "cell_type": "code",
   "execution_count": 62,
   "id": "3871301e",
   "metadata": {
    "execution": {
     "iopub.execute_input": "2025-08-19T19:01:10.425876Z",
     "iopub.status.busy": "2025-08-19T19:01:10.425420Z",
     "iopub.status.idle": "2025-08-19T19:01:10.432634Z",
     "shell.execute_reply": "2025-08-19T19:01:10.431835Z"
    },
    "papermill": {
     "duration": 0.024205,
     "end_time": "2025-08-19T19:01:10.433922",
     "exception": false,
     "start_time": "2025-08-19T19:01:10.409717",
     "status": "completed"
    },
    "tags": []
   },
   "outputs": [
    {
     "data": {
      "text/plain": [
       "4"
      ]
     },
     "execution_count": 62,
     "metadata": {},
     "output_type": "execute_result"
    }
   ],
   "source": [
    "sub_universes = universe_analysis.generate_sub_universes()\n",
    "len(sub_universes)"
   ]
  },
  {
   "cell_type": "code",
   "execution_count": 63,
   "id": "d9cfdaca",
   "metadata": {
    "execution": {
     "iopub.execute_input": "2025-08-19T19:01:10.503484Z",
     "iopub.status.busy": "2025-08-19T19:01:10.503170Z",
     "iopub.status.idle": "2025-08-19T19:01:10.508588Z",
     "shell.execute_reply": "2025-08-19T19:01:10.507780Z"
    },
    "papermill": {
     "duration": 0.050017,
     "end_time": "2025-08-19T19:01:10.510731",
     "exception": false,
     "start_time": "2025-08-19T19:01:10.460714",
     "status": "completed"
    },
    "tags": []
   },
   "outputs": [],
   "source": [
    "def filter_sub_universe_data(sub_universe, org_test):\n",
    "    # Keep all rows — no filtering\n",
    "    keep_rows_mask = np.ones(org_test.shape[0], dtype=bool)\n",
    "\n",
    "    print(f\"[INFO] Keeping all rows: {keep_rows_mask.sum()} rows retained.\")\n",
    "    return keep_rows_mask"
   ]
  },
  {
   "cell_type": "code",
   "execution_count": 64,
   "id": "2bc31ac1",
   "metadata": {
    "execution": {
     "iopub.execute_input": "2025-08-19T19:01:10.564322Z",
     "iopub.status.busy": "2025-08-19T19:01:10.563013Z",
     "iopub.status.idle": "2025-08-19T19:01:17.341330Z",
     "shell.execute_reply": "2025-08-19T19:01:17.339875Z"
    },
    "papermill": {
     "duration": 6.79972,
     "end_time": "2025-08-19T19:01:17.343312",
     "exception": false,
     "start_time": "2025-08-19T19:01:10.543592",
     "status": "completed"
    },
    "tags": []
   },
   "outputs": [
    {
     "name": "stdout",
     "output_type": "stream",
     "text": [
      "Stopping execution_time clock.\n",
      "[INFO] Keeping all rows: 89710 rows retained.\n"
     ]
    },
    {
     "name": "stdout",
     "output_type": "stream",
     "text": [
      "[INFO] Keeping all rows: 89710 rows retained.\n"
     ]
    },
    {
     "name": "stdout",
     "output_type": "stream",
     "text": [
      "[INFO] Keeping all rows: 89710 rows retained.\n"
     ]
    },
    {
     "name": "stdout",
     "output_type": "stream",
     "text": [
      "[INFO] Keeping all rows: 89710 rows retained.\n"
     ]
    },
    {
     "data": {
      "text/html": [
       "<div>\n",
       "<style scoped>\n",
       "    .dataframe tbody tr th:only-of-type {\n",
       "        vertical-align: middle;\n",
       "    }\n",
       "\n",
       "    .dataframe tbody tr th {\n",
       "        vertical-align: top;\n",
       "    }\n",
       "\n",
       "    .dataframe thead th {\n",
       "        text-align: right;\n",
       "    }\n",
       "</style>\n",
       "<table border=\"1\" class=\"dataframe\">\n",
       "  <thead>\n",
       "    <tr style=\"text-align: right;\">\n",
       "      <th></th>\n",
       "      <th>run_no</th>\n",
       "      <th>universe_id</th>\n",
       "      <th>universe_settings</th>\n",
       "      <th>execution_time</th>\n",
       "      <th>test_size_n</th>\n",
       "      <th>test_size_frac</th>\n",
       "      <th>fair_main_equalized_odds_difference</th>\n",
       "      <th>fair_main_equalized_odds_ratio</th>\n",
       "      <th>fair_main_demographic_parity_difference</th>\n",
       "      <th>fair_main_demographic_parity_ratio</th>\n",
       "      <th>...</th>\n",
       "      <th>perf_grp_precision_0</th>\n",
       "      <th>perf_grp_precision_1</th>\n",
       "      <th>perf_grp_false positive rate_0</th>\n",
       "      <th>perf_grp_false positive rate_1</th>\n",
       "      <th>perf_grp_false negative rate_0</th>\n",
       "      <th>perf_grp_false negative rate_1</th>\n",
       "      <th>perf_grp_selection rate_0</th>\n",
       "      <th>perf_grp_selection rate_1</th>\n",
       "      <th>perf_grp_count_0</th>\n",
       "      <th>perf_grp_count_1</th>\n",
       "    </tr>\n",
       "  </thead>\n",
       "  <tbody>\n",
       "    <tr>\n",
       "      <th>0</th>\n",
       "      <td>3</td>\n",
       "      <td>3cfa47c7925972ee72d1a80e5d5386cf</td>\n",
       "      <td>{\"cutoff\": \"quantile_0.1\", \"eval_fairness_grou...</td>\n",
       "      <td>21.192616</td>\n",
       "      <td>89710</td>\n",
       "      <td>1.0</td>\n",
       "      <td>0.095260</td>\n",
       "      <td>0.901386</td>\n",
       "      <td>0.088589</td>\n",
       "      <td>0.908511</td>\n",
       "      <td>...</td>\n",
       "      <td>NaN</td>\n",
       "      <td>NaN</td>\n",
       "      <td>NaN</td>\n",
       "      <td>NaN</td>\n",
       "      <td>NaN</td>\n",
       "      <td>NaN</td>\n",
       "      <td>NaN</td>\n",
       "      <td>NaN</td>\n",
       "      <td>NaN</td>\n",
       "      <td>NaN</td>\n",
       "    </tr>\n",
       "    <tr>\n",
       "      <th>0</th>\n",
       "      <td>3</td>\n",
       "      <td>3cfa47c7925972ee72d1a80e5d5386cf</td>\n",
       "      <td>{\"cutoff\": \"quantile_0.1\", \"eval_fairness_grou...</td>\n",
       "      <td>21.192616</td>\n",
       "      <td>89710</td>\n",
       "      <td>1.0</td>\n",
       "      <td>0.095260</td>\n",
       "      <td>0.901386</td>\n",
       "      <td>0.088589</td>\n",
       "      <td>0.908511</td>\n",
       "      <td>...</td>\n",
       "      <td>0.117402</td>\n",
       "      <td>0.141002</td>\n",
       "      <td>0.965992</td>\n",
       "      <td>0.870731</td>\n",
       "      <td>0.013936</td>\n",
       "      <td>0.061269</td>\n",
       "      <td>0.968306</td>\n",
       "      <td>0.879717</td>\n",
       "      <td>20540.0</td>\n",
       "      <td>69170.0</td>\n",
       "    </tr>\n",
       "    <tr>\n",
       "      <th>0</th>\n",
       "      <td>3</td>\n",
       "      <td>3cfa47c7925972ee72d1a80e5d5386cf</td>\n",
       "      <td>{\"cutoff\": \"quantile_0.25\", \"eval_fairness_gro...</td>\n",
       "      <td>21.192616</td>\n",
       "      <td>89710</td>\n",
       "      <td>1.0</td>\n",
       "      <td>0.216324</td>\n",
       "      <td>0.759171</td>\n",
       "      <td>0.199854</td>\n",
       "      <td>0.778945</td>\n",
       "      <td>...</td>\n",
       "      <td>NaN</td>\n",
       "      <td>NaN</td>\n",
       "      <td>NaN</td>\n",
       "      <td>NaN</td>\n",
       "      <td>NaN</td>\n",
       "      <td>NaN</td>\n",
       "      <td>NaN</td>\n",
       "      <td>NaN</td>\n",
       "      <td>NaN</td>\n",
       "      <td>NaN</td>\n",
       "    </tr>\n",
       "    <tr>\n",
       "      <th>0</th>\n",
       "      <td>3</td>\n",
       "      <td>3cfa47c7925972ee72d1a80e5d5386cf</td>\n",
       "      <td>{\"cutoff\": \"quantile_0.25\", \"eval_fairness_gro...</td>\n",
       "      <td>21.192616</td>\n",
       "      <td>89710</td>\n",
       "      <td>1.0</td>\n",
       "      <td>0.216324</td>\n",
       "      <td>0.759171</td>\n",
       "      <td>0.199854</td>\n",
       "      <td>0.778945</td>\n",
       "      <td>...</td>\n",
       "      <td>0.121002</td>\n",
       "      <td>0.159632</td>\n",
       "      <td>0.898250</td>\n",
       "      <td>0.681926</td>\n",
       "      <td>0.051098</td>\n",
       "      <td>0.149234</td>\n",
       "      <td>0.904090</td>\n",
       "      <td>0.704236</td>\n",
       "      <td>20540.0</td>\n",
       "      <td>69170.0</td>\n",
       "    </tr>\n",
       "  </tbody>\n",
       "</table>\n",
       "<p>4 rows × 50 columns</p>\n",
       "</div>"
      ],
      "text/plain": [
       "  run_no                       universe_id  \\\n",
       "0      3  3cfa47c7925972ee72d1a80e5d5386cf   \n",
       "0      3  3cfa47c7925972ee72d1a80e5d5386cf   \n",
       "0      3  3cfa47c7925972ee72d1a80e5d5386cf   \n",
       "0      3  3cfa47c7925972ee72d1a80e5d5386cf   \n",
       "\n",
       "                                   universe_settings  execution_time  \\\n",
       "0  {\"cutoff\": \"quantile_0.1\", \"eval_fairness_grou...       21.192616   \n",
       "0  {\"cutoff\": \"quantile_0.1\", \"eval_fairness_grou...       21.192616   \n",
       "0  {\"cutoff\": \"quantile_0.25\", \"eval_fairness_gro...       21.192616   \n",
       "0  {\"cutoff\": \"quantile_0.25\", \"eval_fairness_gro...       21.192616   \n",
       "\n",
       "   test_size_n  test_size_frac  fair_main_equalized_odds_difference  \\\n",
       "0        89710             1.0                             0.095260   \n",
       "0        89710             1.0                             0.095260   \n",
       "0        89710             1.0                             0.216324   \n",
       "0        89710             1.0                             0.216324   \n",
       "\n",
       "   fair_main_equalized_odds_ratio  fair_main_demographic_parity_difference  \\\n",
       "0                        0.901386                                 0.088589   \n",
       "0                        0.901386                                 0.088589   \n",
       "0                        0.759171                                 0.199854   \n",
       "0                        0.759171                                 0.199854   \n",
       "\n",
       "   fair_main_demographic_parity_ratio  ...  perf_grp_precision_0  \\\n",
       "0                            0.908511  ...                   NaN   \n",
       "0                            0.908511  ...              0.117402   \n",
       "0                            0.778945  ...                   NaN   \n",
       "0                            0.778945  ...              0.121002   \n",
       "\n",
       "   perf_grp_precision_1  perf_grp_false positive rate_0  \\\n",
       "0                   NaN                             NaN   \n",
       "0              0.141002                        0.965992   \n",
       "0                   NaN                             NaN   \n",
       "0              0.159632                        0.898250   \n",
       "\n",
       "   perf_grp_false positive rate_1  perf_grp_false negative rate_0  \\\n",
       "0                             NaN                             NaN   \n",
       "0                        0.870731                        0.013936   \n",
       "0                             NaN                             NaN   \n",
       "0                        0.681926                        0.051098   \n",
       "\n",
       "   perf_grp_false negative rate_1  perf_grp_selection rate_0  \\\n",
       "0                             NaN                        NaN   \n",
       "0                        0.061269                   0.968306   \n",
       "0                             NaN                        NaN   \n",
       "0                        0.149234                   0.904090   \n",
       "\n",
       "   perf_grp_selection rate_1  perf_grp_count_0  perf_grp_count_1  \n",
       "0                        NaN               NaN               NaN  \n",
       "0                   0.879717           20540.0           69170.0  \n",
       "0                        NaN               NaN               NaN  \n",
       "0                   0.704236           20540.0           69170.0  \n",
       "\n",
       "[4 rows x 50 columns]"
      ]
     },
     "execution_count": 64,
     "metadata": {},
     "output_type": "execute_result"
    }
   ],
   "source": [
    "final_output = universe_analysis.generate_final_output(\n",
    "    y_pred_prob=probs_test,\n",
    "    y_test=y_true,\n",
    "    org_test=org_test,\n",
    "    filter_data=filter_sub_universe_data,\n",
    "    cp_metrics_df=cp_metrics_df,\n",
    "    save=True,\n",
    ")\n",
    "final_output"
   ]
  },
  {
   "cell_type": "code",
   "execution_count": null,
   "id": "8b80a1ff",
   "metadata": {
    "papermill": {
     "duration": 0.01957,
     "end_time": "2025-08-19T19:01:17.386496",
     "exception": false,
     "start_time": "2025-08-19T19:01:17.366926",
     "status": "completed"
    },
    "tags": []
   },
   "outputs": [],
   "source": []
  },
  {
   "cell_type": "code",
   "execution_count": null,
   "id": "275c9fad",
   "metadata": {
    "papermill": {
     "duration": 0.014853,
     "end_time": "2025-08-19T19:01:17.416847",
     "exception": false,
     "start_time": "2025-08-19T19:01:17.401994",
     "status": "completed"
    },
    "tags": []
   },
   "outputs": [],
   "source": []
  }
 ],
 "metadata": {
  "celltoolbar": "Tags",
  "kernelspec": {
   "display_name": "Python (CMA Fairness)",
   "language": "python",
   "name": "cma_fair_env"
  },
  "language_info": {
   "codemirror_mode": {
    "name": "ipython",
    "version": 3
   },
   "file_extension": ".py",
   "mimetype": "text/x-python",
   "name": "python",
   "nbconvert_exporter": "python",
   "pygments_lexer": "ipython3",
   "version": "3.10.12"
  },
  "papermill": {
   "default_parameters": {},
   "duration": 31.728429,
   "end_time": "2025-08-19T19:01:18.257567",
   "environment_variables": {},
   "exception": null,
   "input_path": "universe_analysis.ipynb",
   "output_path": "output/runs/3/notebooks/m_3-3cfa47c7925972ee72d1a80e5d5386cf.ipynb",
   "parameters": {
    "output_dir": "output",
    "run_no": "3",
    "seed": "2023",
    "universe": "{\"cutoff\": [\"quantile_0.1\", \"quantile_0.25\"], \"eval_fairness_grouping\": [\"majority-minority\", \"nationality-all\"], \"exclude_features\": \"sex\", \"exclude_subgroups\": \"keep-all\", \"model\": \"logreg\", \"scale\": \"do-not-scale\", \"training_size\": \"1k\", \"training_year\": \"2012_14\"}",
    "universe_id": "3cfa47c7925972ee72d1a80e5d5386cf"
   },
   "start_time": "2025-08-19T19:00:46.529138",
   "version": "2.6.0"
  }
 },
 "nbformat": 4,
 "nbformat_minor": 5
}