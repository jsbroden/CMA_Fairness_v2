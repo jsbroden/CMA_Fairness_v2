{
 "cells": [
  {
   "cell_type": "markdown",
   "id": "ef23dbb3",
   "metadata": {
    "papermill": {
     "duration": 0.010299,
     "end_time": "2025-08-19T19:10:56.575888",
     "exception": false,
     "start_time": "2025-08-19T19:10:56.565589",
     "status": "completed"
    },
    "tags": []
   },
   "source": [
    "# Setup"
   ]
  },
  {
   "cell_type": "code",
   "execution_count": 1,
   "id": "0bc8e7dc",
   "metadata": {
    "execution": {
     "iopub.execute_input": "2025-08-19T19:10:56.595829Z",
     "iopub.status.busy": "2025-08-19T19:10:56.595272Z",
     "iopub.status.idle": "2025-08-19T19:10:56.606251Z",
     "shell.execute_reply": "2025-08-19T19:10:56.605573Z"
    },
    "papermill": {
     "duration": 0.022538,
     "end_time": "2025-08-19T19:10:56.607395",
     "exception": false,
     "start_time": "2025-08-19T19:10:56.584857",
     "status": "completed"
    },
    "tags": []
   },
   "outputs": [
    {
     "name": "stdout",
     "output_type": "stream",
     "text": [
      "/dss/dsshome1/0C/ra93lal2/cma/CMA_Fairness_v2\n"
     ]
    },
    {
     "name": "stderr",
     "output_type": "stream",
     "text": [
      "/dss/dsshome1/0C/ra93lal2/.local/share/virtualenvs/CMA_Fairness_v2-3j10GkSs/lib/python3.10/site-packages/IPython/core/magics/osm.py:393: UserWarning: This is now an optional IPython functionality, using bookmarks requires you to install the `pickleshare` library.\n",
      "  bkms = self.shell.db.get('bookmarks', {})\n",
      "/dss/dsshome1/0C/ra93lal2/.local/share/virtualenvs/CMA_Fairness_v2-3j10GkSs/lib/python3.10/site-packages/IPython/core/magics/osm.py:417: UserWarning: This is now an optional IPython functionality, setting dhist requires you to install the `pickleshare` library.\n",
      "  self.shell.db['dhist'] = compress_dhist(dhist)[-100:]\n"
     ]
    }
   ],
   "source": [
    "%cd ~/cma/CMA_Fairness_v2"
   ]
  },
  {
   "cell_type": "markdown",
   "id": "9d235661",
   "metadata": {
    "papermill": {
     "duration": 0.009023,
     "end_time": "2025-08-19T19:10:56.626921",
     "exception": false,
     "start_time": "2025-08-19T19:10:56.617898",
     "status": "completed"
    },
    "tags": []
   },
   "source": [
    "The following cell holds the definition of our parameters, these values can be overriden by rendering the with e.g. the following command:\n",
    "\n",
    "papermill -p alpha 0.2 -p ratio 0.3 universe_analysis.ipynb output/test_run.ipynb"
   ]
  },
  {
   "cell_type": "code",
   "execution_count": 2,
   "id": "4a789d8e",
   "metadata": {
    "execution": {
     "iopub.execute_input": "2025-08-19T19:10:56.647980Z",
     "iopub.status.busy": "2025-08-19T19:10:56.647637Z",
     "iopub.status.idle": "2025-08-19T19:10:56.653503Z",
     "shell.execute_reply": "2025-08-19T19:10:56.652435Z"
    },
    "papermill": {
     "duration": 0.017594,
     "end_time": "2025-08-19T19:10:56.654872",
     "exception": false,
     "start_time": "2025-08-19T19:10:56.637278",
     "status": "completed"
    },
    "tags": []
   },
   "outputs": [
    {
     "name": "stdout",
     "output_type": "stream",
     "text": [
      "Current working directory: /dss/dsshome1/0C/ra93lal2/cma/CMA_Fairness_v2\n"
     ]
    }
   ],
   "source": [
    "import os\n",
    "print(\"Current working directory:\", os.getcwd())"
   ]
  },
  {
   "cell_type": "code",
   "execution_count": 3,
   "id": "4132aaed",
   "metadata": {
    "execution": {
     "iopub.execute_input": "2025-08-19T19:10:56.676704Z",
     "iopub.status.busy": "2025-08-19T19:10:56.675943Z",
     "iopub.status.idle": "2025-08-19T19:10:56.683474Z",
     "shell.execute_reply": "2025-08-19T19:10:56.682458Z"
    },
    "papermill": {
     "duration": 0.020177,
     "end_time": "2025-08-19T19:10:56.684828",
     "exception": false,
     "start_time": "2025-08-19T19:10:56.664651",
     "status": "completed"
    },
    "tags": [
     "parameters"
    ]
   },
   "outputs": [],
   "source": [
    "run_no = 0\n",
    "universe_id = \"test\"\n",
    "universe = {\n",
    "    \"training_size\": \"5k\", # \"25k\", \"5k\", \"1k\"\n",
    "    \"training_year\": \"2012_14\", # \"2014\", \"2012_14\", \"2010_14\"\n",
    "    \"scale\": \"scale\", # \"scale\", \"do-not-scale\",\n",
    "    \"model\": \"elasticnet\", # \"logreg\", \"penalized_logreg\", \"rf\", \"gbm\", \"elasticnet\"\n",
    "    \"cutoff\": [\"quantile_0.15\", \"quantile_0.30\"],\n",
    "    \"exclude_features\": \"age\", # \"none\", \"nationality\", \"sex\", \"nationality-sex\", \"age\"\n",
    "    \"exclude_subgroups\": \"drop-non-german\", # \"keep-all\", \"drop-non-german\"\n",
    "    \"eval_fairness_grouping\": [\"majority-minority\", \"nationality-all\"]\n",
    "}\n",
    "\n",
    "output_dir=\"./output\"\n",
    "seed=0"
   ]
  },
  {
   "cell_type": "code",
   "execution_count": 4,
   "id": "b2791c53",
   "metadata": {
    "execution": {
     "iopub.execute_input": "2025-08-19T19:10:56.707365Z",
     "iopub.status.busy": "2025-08-19T19:10:56.706405Z",
     "iopub.status.idle": "2025-08-19T19:10:56.720073Z",
     "shell.execute_reply": "2025-08-19T19:10:56.718039Z"
    },
    "papermill": {
     "duration": 0.027557,
     "end_time": "2025-08-19T19:10:56.722243",
     "exception": false,
     "start_time": "2025-08-19T19:10:56.694686",
     "status": "completed"
    },
    "tags": [
     "injected-parameters"
    ]
   },
   "outputs": [],
   "source": [
    "# Parameters\n",
    "universe_id = \"9b5f3b9933a0aa4a6612521468bf1594\"\n",
    "run_no = \"3\"\n",
    "universe = \"{\\\"cutoff\\\": [\\\"quantile_0.1\\\", \\\"quantile_0.25\\\"], \\\"eval_fairness_grouping\\\": [\\\"majority-minority\\\", \\\"nationality-all\\\"], \\\"exclude_features\\\": \\\"none\\\", \\\"exclude_subgroups\\\": \\\"keep-all\\\", \\\"model\\\": \\\"gbm\\\", \\\"scale\\\": \\\"do-not-scale\\\", \\\"training_size\\\": \\\"1k\\\", \\\"training_year\\\": \\\"2010_14\\\"}\"\n",
    "output_dir = \"output\"\n",
    "seed = \"2023\"\n"
   ]
  },
  {
   "cell_type": "code",
   "execution_count": 5,
   "id": "a5d7941f",
   "metadata": {
    "execution": {
     "iopub.execute_input": "2025-08-19T19:10:56.756869Z",
     "iopub.status.busy": "2025-08-19T19:10:56.755925Z",
     "iopub.status.idle": "2025-08-19T19:10:56.761254Z",
     "shell.execute_reply": "2025-08-19T19:10:56.759976Z"
    },
    "papermill": {
     "duration": 0.026729,
     "end_time": "2025-08-19T19:10:56.762335",
     "exception": false,
     "start_time": "2025-08-19T19:10:56.735606",
     "status": "completed"
    },
    "tags": []
   },
   "outputs": [],
   "source": [
    "import json\n",
    "if isinstance(universe, str):\n",
    "    universe = json.loads(universe)"
   ]
  },
  {
   "cell_type": "code",
   "execution_count": 6,
   "id": "7076ccb1",
   "metadata": {
    "execution": {
     "iopub.execute_input": "2025-08-19T19:10:56.785033Z",
     "iopub.status.busy": "2025-08-19T19:10:56.784313Z",
     "iopub.status.idle": "2025-08-19T19:10:56.828499Z",
     "shell.execute_reply": "2025-08-19T19:10:56.827787Z"
    },
    "papermill": {
     "duration": 0.056829,
     "end_time": "2025-08-19T19:10:56.829935",
     "exception": false,
     "start_time": "2025-08-19T19:10:56.773106",
     "status": "completed"
    },
    "tags": []
   },
   "outputs": [],
   "source": [
    "# Auto-reload the custom package\n",
    "%load_ext autoreload\n",
    "%autoreload 1\n",
    "%aimport fairness_multiverse"
   ]
  },
  {
   "cell_type": "code",
   "execution_count": 7,
   "id": "94c8eb93",
   "metadata": {
    "execution": {
     "iopub.execute_input": "2025-08-19T19:10:56.850240Z",
     "iopub.status.busy": "2025-08-19T19:10:56.849463Z",
     "iopub.status.idle": "2025-08-19T19:10:58.569327Z",
     "shell.execute_reply": "2025-08-19T19:10:58.568344Z"
    },
    "papermill": {
     "duration": 1.731714,
     "end_time": "2025-08-19T19:10:58.571106",
     "exception": false,
     "start_time": "2025-08-19T19:10:56.839392",
     "status": "completed"
    },
    "tags": []
   },
   "outputs": [],
   "source": [
    "from fairness_multiverse.universe import UniverseAnalysis\n",
    "\n",
    "universe_analysis = UniverseAnalysis(\n",
    "    run_no = run_no,\n",
    "    universe_id = universe_id,\n",
    "    universe = universe,\n",
    "    output_dir=output_dir,\n",
    ")"
   ]
  },
  {
   "cell_type": "code",
   "execution_count": 8,
   "id": "2a6381cf",
   "metadata": {
    "execution": {
     "iopub.execute_input": "2025-08-19T19:10:58.622999Z",
     "iopub.status.busy": "2025-08-19T19:10:58.621671Z",
     "iopub.status.idle": "2025-08-19T19:10:58.630552Z",
     "shell.execute_reply": "2025-08-19T19:10:58.629535Z"
    },
    "papermill": {
     "duration": 0.046349,
     "end_time": "2025-08-19T19:10:58.633097",
     "exception": false,
     "start_time": "2025-08-19T19:10:58.586748",
     "status": "completed"
    },
    "tags": []
   },
   "outputs": [
    {
     "name": "stdout",
     "output_type": "stream",
     "text": [
      "Using Seed: 2023\n"
     ]
    }
   ],
   "source": [
    "import numpy as np\n",
    "parsed_seed = int(seed)\n",
    "np.random.seed(parsed_seed)\n",
    "print(f\"Using Seed: {parsed_seed}\")"
   ]
  },
  {
   "cell_type": "markdown",
   "id": "b6e958b4",
   "metadata": {
    "papermill": {
     "duration": 0.012488,
     "end_time": "2025-08-19T19:10:58.667220",
     "exception": false,
     "start_time": "2025-08-19T19:10:58.654732",
     "status": "completed"
    },
    "tags": []
   },
   "source": [
    "# Loading Data"
   ]
  },
  {
   "cell_type": "code",
   "execution_count": 9,
   "id": "98701482",
   "metadata": {
    "execution": {
     "iopub.execute_input": "2025-08-19T19:10:58.688881Z",
     "iopub.status.busy": "2025-08-19T19:10:58.688434Z",
     "iopub.status.idle": "2025-08-19T19:11:08.669407Z",
     "shell.execute_reply": "2025-08-19T19:11:08.668530Z"
    },
    "papermill": {
     "duration": 9.993922,
     "end_time": "2025-08-19T19:11:08.670652",
     "exception": false,
     "start_time": "2025-08-19T19:10:58.676730",
     "status": "completed"
    },
    "tags": []
   },
   "outputs": [
    {
     "name": "stdout",
     "output_type": "stream",
     "text": [
      "Loading SIAB data from cache: data/siab_cached.csv.gz\n"
     ]
    },
    {
     "name": "stdout",
     "output_type": "stream",
     "text": [
      "(643690, 164)\n"
     ]
    }
   ],
   "source": [
    "from pathlib import Path\n",
    "import pandas as pd\n",
    "\n",
    "# File paths\n",
    "raw_file = Path(\"data/raw/siab.csv\")\n",
    "cache_file = Path(\"data/siab_cached.csv.gz\")\n",
    "\n",
    "# Ensure cache directory exists\n",
    "cache_file.parent.mkdir(parents=True, exist_ok=True)\n",
    "\n",
    "# Load with simple caching\n",
    "if cache_file.exists():\n",
    "    print(f\"Loading SIAB data from cache: {cache_file}\")\n",
    "    siab = pd.read_csv(cache_file, compression='gzip')\n",
    "else:\n",
    "    print(f\"Cache not found. Reading raw SIAB data: {raw_file}\")\n",
    "    siab = pd.read_csv(raw_file)\n",
    "    siab.to_csv(cache_file, index=False, compression='gzip')\n",
    "    print(f\"Cached SIAB data to: {cache_file}\")\n",
    "\n",
    "print(siab.shape)"
   ]
  },
  {
   "cell_type": "code",
   "execution_count": 10,
   "id": "058d2abb",
   "metadata": {
    "execution": {
     "iopub.execute_input": "2025-08-19T19:11:08.695261Z",
     "iopub.status.busy": "2025-08-19T19:11:08.694160Z",
     "iopub.status.idle": "2025-08-19T19:11:08.909026Z",
     "shell.execute_reply": "2025-08-19T19:11:08.908309Z"
    },
    "papermill": {
     "duration": 0.229115,
     "end_time": "2025-08-19T19:11:08.912354",
     "exception": false,
     "start_time": "2025-08-19T19:11:08.683239",
     "status": "completed"
    },
    "tags": []
   },
   "outputs": [
    {
     "data": {
      "text/html": [
       "<div>\n",
       "<style scoped>\n",
       "    .dataframe tbody tr th:only-of-type {\n",
       "        vertical-align: middle;\n",
       "    }\n",
       "\n",
       "    .dataframe tbody tr th {\n",
       "        vertical-align: top;\n",
       "    }\n",
       "\n",
       "    .dataframe thead th {\n",
       "        text-align: right;\n",
       "    }\n",
       "</style>\n",
       "<table border=\"1\" class=\"dataframe\">\n",
       "  <thead>\n",
       "    <tr style=\"text-align: right;\">\n",
       "      <th></th>\n",
       "      <th>persnr</th>\n",
       "      <th>year</th>\n",
       "      <th>nrEntry</th>\n",
       "      <th>ltue</th>\n",
       "      <th>employed_before</th>\n",
       "      <th>receipt_leh_before</th>\n",
       "      <th>receipt_lhg_before</th>\n",
       "      <th>se_before</th>\n",
       "      <th>ASU_notue_seeking_before</th>\n",
       "      <th>ASU_other_before</th>\n",
       "      <th>...</th>\n",
       "      <th>minijob_tot_dur_byage</th>\n",
       "      <th>ft_tot_dur_byage</th>\n",
       "      <th>befrist_tot_dur_byage</th>\n",
       "      <th>leih_tot_dur_byage</th>\n",
       "      <th>LHG_tot_dur_byage</th>\n",
       "      <th>LEH_tot_dur_byage</th>\n",
       "      <th>almp_tot_dur_byage</th>\n",
       "      <th>almp_aw_tot_dur_byage</th>\n",
       "      <th>se_tot_dur_byage</th>\n",
       "      <th>seeking1_tot_dur_byage</th>\n",
       "    </tr>\n",
       "  </thead>\n",
       "  <tbody>\n",
       "    <tr>\n",
       "      <th>0</th>\n",
       "      <td>7</td>\n",
       "      <td>2015</td>\n",
       "      <td>1</td>\n",
       "      <td>0</td>\n",
       "      <td>1</td>\n",
       "      <td>0</td>\n",
       "      <td>0</td>\n",
       "      <td>0</td>\n",
       "      <td>1</td>\n",
       "      <td>0</td>\n",
       "      <td>...</td>\n",
       "      <td>0.000000</td>\n",
       "      <td>0.000000</td>\n",
       "      <td>15.043478</td>\n",
       "      <td>0.000000</td>\n",
       "      <td>0.000000</td>\n",
       "      <td>0.000000</td>\n",
       "      <td>0.000000</td>\n",
       "      <td>0.000000</td>\n",
       "      <td>0.000000</td>\n",
       "      <td>0.000000</td>\n",
       "    </tr>\n",
       "    <tr>\n",
       "      <th>1</th>\n",
       "      <td>18</td>\n",
       "      <td>2010</td>\n",
       "      <td>1</td>\n",
       "      <td>1</td>\n",
       "      <td>0</td>\n",
       "      <td>0</td>\n",
       "      <td>0</td>\n",
       "      <td>0</td>\n",
       "      <td>0</td>\n",
       "      <td>0</td>\n",
       "      <td>...</td>\n",
       "      <td>0.000000</td>\n",
       "      <td>0.000000</td>\n",
       "      <td>0.000000</td>\n",
       "      <td>0.000000</td>\n",
       "      <td>0.000000</td>\n",
       "      <td>0.000000</td>\n",
       "      <td>0.000000</td>\n",
       "      <td>0.000000</td>\n",
       "      <td>0.000000</td>\n",
       "      <td>0.000000</td>\n",
       "    </tr>\n",
       "    <tr>\n",
       "      <th>2</th>\n",
       "      <td>18</td>\n",
       "      <td>2011</td>\n",
       "      <td>2</td>\n",
       "      <td>0</td>\n",
       "      <td>1</td>\n",
       "      <td>0</td>\n",
       "      <td>1</td>\n",
       "      <td>0</td>\n",
       "      <td>1</td>\n",
       "      <td>0</td>\n",
       "      <td>...</td>\n",
       "      <td>2.714286</td>\n",
       "      <td>2.714286</td>\n",
       "      <td>0.000000</td>\n",
       "      <td>0.000000</td>\n",
       "      <td>10.775510</td>\n",
       "      <td>0.000000</td>\n",
       "      <td>8.367347</td>\n",
       "      <td>0.000000</td>\n",
       "      <td>0.000000</td>\n",
       "      <td>9.836735</td>\n",
       "    </tr>\n",
       "    <tr>\n",
       "      <th>3</th>\n",
       "      <td>18</td>\n",
       "      <td>2012</td>\n",
       "      <td>3</td>\n",
       "      <td>0</td>\n",
       "      <td>1</td>\n",
       "      <td>0</td>\n",
       "      <td>1</td>\n",
       "      <td>0</td>\n",
       "      <td>1</td>\n",
       "      <td>0</td>\n",
       "      <td>...</td>\n",
       "      <td>4.200000</td>\n",
       "      <td>4.200000</td>\n",
       "      <td>0.000000</td>\n",
       "      <td>0.000000</td>\n",
       "      <td>12.100000</td>\n",
       "      <td>0.000000</td>\n",
       "      <td>9.400000</td>\n",
       "      <td>0.000000</td>\n",
       "      <td>0.000000</td>\n",
       "      <td>9.960000</td>\n",
       "    </tr>\n",
       "    <tr>\n",
       "      <th>4</th>\n",
       "      <td>18</td>\n",
       "      <td>2012</td>\n",
       "      <td>4</td>\n",
       "      <td>0</td>\n",
       "      <td>1</td>\n",
       "      <td>0</td>\n",
       "      <td>1</td>\n",
       "      <td>0</td>\n",
       "      <td>1</td>\n",
       "      <td>0</td>\n",
       "      <td>...</td>\n",
       "      <td>5.460000</td>\n",
       "      <td>5.460000</td>\n",
       "      <td>0.000000</td>\n",
       "      <td>0.000000</td>\n",
       "      <td>13.360000</td>\n",
       "      <td>0.000000</td>\n",
       "      <td>10.320000</td>\n",
       "      <td>0.000000</td>\n",
       "      <td>0.000000</td>\n",
       "      <td>10.280000</td>\n",
       "    </tr>\n",
       "    <tr>\n",
       "      <th>...</th>\n",
       "      <td>...</td>\n",
       "      <td>...</td>\n",
       "      <td>...</td>\n",
       "      <td>...</td>\n",
       "      <td>...</td>\n",
       "      <td>...</td>\n",
       "      <td>...</td>\n",
       "      <td>...</td>\n",
       "      <td>...</td>\n",
       "      <td>...</td>\n",
       "      <td>...</td>\n",
       "      <td>...</td>\n",
       "      <td>...</td>\n",
       "      <td>...</td>\n",
       "      <td>...</td>\n",
       "      <td>...</td>\n",
       "      <td>...</td>\n",
       "      <td>...</td>\n",
       "      <td>...</td>\n",
       "      <td>...</td>\n",
       "      <td>...</td>\n",
       "    </tr>\n",
       "    <tr>\n",
       "      <th>643685</th>\n",
       "      <td>1827860</td>\n",
       "      <td>2013</td>\n",
       "      <td>1</td>\n",
       "      <td>0</td>\n",
       "      <td>0</td>\n",
       "      <td>0</td>\n",
       "      <td>1</td>\n",
       "      <td>0</td>\n",
       "      <td>0</td>\n",
       "      <td>1</td>\n",
       "      <td>...</td>\n",
       "      <td>0.000000</td>\n",
       "      <td>0.000000</td>\n",
       "      <td>0.000000</td>\n",
       "      <td>0.000000</td>\n",
       "      <td>0.612903</td>\n",
       "      <td>0.000000</td>\n",
       "      <td>0.000000</td>\n",
       "      <td>0.000000</td>\n",
       "      <td>0.000000</td>\n",
       "      <td>0.000000</td>\n",
       "    </tr>\n",
       "    <tr>\n",
       "      <th>643686</th>\n",
       "      <td>1827860</td>\n",
       "      <td>2015</td>\n",
       "      <td>2</td>\n",
       "      <td>1</td>\n",
       "      <td>0</td>\n",
       "      <td>0</td>\n",
       "      <td>1</td>\n",
       "      <td>0</td>\n",
       "      <td>1</td>\n",
       "      <td>0</td>\n",
       "      <td>...</td>\n",
       "      <td>0.000000</td>\n",
       "      <td>0.000000</td>\n",
       "      <td>0.212121</td>\n",
       "      <td>0.212121</td>\n",
       "      <td>17.363636</td>\n",
       "      <td>0.000000</td>\n",
       "      <td>8.909091</td>\n",
       "      <td>0.000000</td>\n",
       "      <td>0.000000</td>\n",
       "      <td>7.121212</td>\n",
       "    </tr>\n",
       "    <tr>\n",
       "      <th>643687</th>\n",
       "      <td>1827860</td>\n",
       "      <td>2016</td>\n",
       "      <td>3</td>\n",
       "      <td>1</td>\n",
       "      <td>0</td>\n",
       "      <td>0</td>\n",
       "      <td>1</td>\n",
       "      <td>1</td>\n",
       "      <td>0</td>\n",
       "      <td>1</td>\n",
       "      <td>...</td>\n",
       "      <td>0.000000</td>\n",
       "      <td>0.000000</td>\n",
       "      <td>0.294118</td>\n",
       "      <td>0.205882</td>\n",
       "      <td>34.705882</td>\n",
       "      <td>0.000000</td>\n",
       "      <td>10.352941</td>\n",
       "      <td>1.705882</td>\n",
       "      <td>1.705882</td>\n",
       "      <td>23.911765</td>\n",
       "    </tr>\n",
       "    <tr>\n",
       "      <th>643688</th>\n",
       "      <td>1827869</td>\n",
       "      <td>2013</td>\n",
       "      <td>1</td>\n",
       "      <td>1</td>\n",
       "      <td>1</td>\n",
       "      <td>0</td>\n",
       "      <td>0</td>\n",
       "      <td>0</td>\n",
       "      <td>1</td>\n",
       "      <td>0</td>\n",
       "      <td>...</td>\n",
       "      <td>0.000000</td>\n",
       "      <td>0.000000</td>\n",
       "      <td>0.000000</td>\n",
       "      <td>0.000000</td>\n",
       "      <td>0.000000</td>\n",
       "      <td>0.525424</td>\n",
       "      <td>0.000000</td>\n",
       "      <td>0.000000</td>\n",
       "      <td>0.000000</td>\n",
       "      <td>0.000000</td>\n",
       "    </tr>\n",
       "    <tr>\n",
       "      <th>643689</th>\n",
       "      <td>1827869</td>\n",
       "      <td>2014</td>\n",
       "      <td>2</td>\n",
       "      <td>0</td>\n",
       "      <td>0</td>\n",
       "      <td>1</td>\n",
       "      <td>0</td>\n",
       "      <td>0</td>\n",
       "      <td>1</td>\n",
       "      <td>0</td>\n",
       "      <td>...</td>\n",
       "      <td>0.000000</td>\n",
       "      <td>0.666667</td>\n",
       "      <td>0.666667</td>\n",
       "      <td>0.000000</td>\n",
       "      <td>0.000000</td>\n",
       "      <td>8.950000</td>\n",
       "      <td>1.033333</td>\n",
       "      <td>0.083333</td>\n",
       "      <td>0.083333</td>\n",
       "      <td>8.133333</td>\n",
       "    </tr>\n",
       "  </tbody>\n",
       "</table>\n",
       "<p>643690 rows × 164 columns</p>\n",
       "</div>"
      ],
      "text/plain": [
       "         persnr  year  nrEntry  ltue  employed_before  receipt_leh_before  \\\n",
       "0             7  2015        1     0                1                   0   \n",
       "1            18  2010        1     1                0                   0   \n",
       "2            18  2011        2     0                1                   0   \n",
       "3            18  2012        3     0                1                   0   \n",
       "4            18  2012        4     0                1                   0   \n",
       "...         ...   ...      ...   ...              ...                 ...   \n",
       "643685  1827860  2013        1     0                0                   0   \n",
       "643686  1827860  2015        2     1                0                   0   \n",
       "643687  1827860  2016        3     1                0                   0   \n",
       "643688  1827869  2013        1     1                1                   0   \n",
       "643689  1827869  2014        2     0                0                   1   \n",
       "\n",
       "        receipt_lhg_before  se_before  ASU_notue_seeking_before  \\\n",
       "0                        0          0                         1   \n",
       "1                        0          0                         0   \n",
       "2                        1          0                         1   \n",
       "3                        1          0                         1   \n",
       "4                        1          0                         1   \n",
       "...                    ...        ...                       ...   \n",
       "643685                   1          0                         0   \n",
       "643686                   1          0                         1   \n",
       "643687                   1          1                         0   \n",
       "643688                   0          0                         1   \n",
       "643689                   0          0                         1   \n",
       "\n",
       "        ASU_other_before  ...  minijob_tot_dur_byage  ft_tot_dur_byage  \\\n",
       "0                      0  ...               0.000000          0.000000   \n",
       "1                      0  ...               0.000000          0.000000   \n",
       "2                      0  ...               2.714286          2.714286   \n",
       "3                      0  ...               4.200000          4.200000   \n",
       "4                      0  ...               5.460000          5.460000   \n",
       "...                  ...  ...                    ...               ...   \n",
       "643685                 1  ...               0.000000          0.000000   \n",
       "643686                 0  ...               0.000000          0.000000   \n",
       "643687                 1  ...               0.000000          0.000000   \n",
       "643688                 0  ...               0.000000          0.000000   \n",
       "643689                 0  ...               0.000000          0.666667   \n",
       "\n",
       "        befrist_tot_dur_byage  leih_tot_dur_byage  LHG_tot_dur_byage  \\\n",
       "0                   15.043478            0.000000           0.000000   \n",
       "1                    0.000000            0.000000           0.000000   \n",
       "2                    0.000000            0.000000          10.775510   \n",
       "3                    0.000000            0.000000          12.100000   \n",
       "4                    0.000000            0.000000          13.360000   \n",
       "...                       ...                 ...                ...   \n",
       "643685               0.000000            0.000000           0.612903   \n",
       "643686               0.212121            0.212121          17.363636   \n",
       "643687               0.294118            0.205882          34.705882   \n",
       "643688               0.000000            0.000000           0.000000   \n",
       "643689               0.666667            0.000000           0.000000   \n",
       "\n",
       "        LEH_tot_dur_byage  almp_tot_dur_byage  almp_aw_tot_dur_byage  \\\n",
       "0                0.000000            0.000000               0.000000   \n",
       "1                0.000000            0.000000               0.000000   \n",
       "2                0.000000            8.367347               0.000000   \n",
       "3                0.000000            9.400000               0.000000   \n",
       "4                0.000000           10.320000               0.000000   \n",
       "...                   ...                 ...                    ...   \n",
       "643685           0.000000            0.000000               0.000000   \n",
       "643686           0.000000            8.909091               0.000000   \n",
       "643687           0.000000           10.352941               1.705882   \n",
       "643688           0.525424            0.000000               0.000000   \n",
       "643689           8.950000            1.033333               0.083333   \n",
       "\n",
       "        se_tot_dur_byage  seeking1_tot_dur_byage  \n",
       "0               0.000000                0.000000  \n",
       "1               0.000000                0.000000  \n",
       "2               0.000000                9.836735  \n",
       "3               0.000000                9.960000  \n",
       "4               0.000000               10.280000  \n",
       "...                  ...                     ...  \n",
       "643685          0.000000                0.000000  \n",
       "643686          0.000000                7.121212  \n",
       "643687          1.705882               23.911765  \n",
       "643688          0.000000                0.000000  \n",
       "643689          0.083333                8.133333  \n",
       "\n",
       "[643690 rows x 164 columns]"
      ]
     },
     "execution_count": 10,
     "metadata": {},
     "output_type": "execute_result"
    }
   ],
   "source": [
    "siab"
   ]
  },
  {
   "cell_type": "markdown",
   "id": "1f87e805",
   "metadata": {
    "papermill": {
     "duration": 0.011744,
     "end_time": "2025-08-19T19:11:08.946778",
     "exception": false,
     "start_time": "2025-08-19T19:11:08.935034",
     "status": "completed"
    },
    "tags": []
   },
   "source": [
    "# Splitting Data and Setting Training Data Size"
   ]
  },
  {
   "cell_type": "code",
   "execution_count": 11,
   "id": "910ae358",
   "metadata": {
    "execution": {
     "iopub.execute_input": "2025-08-19T19:11:08.968595Z",
     "iopub.status.busy": "2025-08-19T19:11:08.967536Z",
     "iopub.status.idle": "2025-08-19T19:11:10.045819Z",
     "shell.execute_reply": "2025-08-19T19:11:10.045125Z"
    },
    "papermill": {
     "duration": 1.090747,
     "end_time": "2025-08-19T19:11:10.047212",
     "exception": false,
     "start_time": "2025-08-19T19:11:08.956465",
     "status": "completed"
    },
    "tags": []
   },
   "outputs": [],
   "source": [
    "from fairness_multiverse.universe import sample_by_year_size\n",
    "\n",
    "siab_train = sample_by_year_size(siab,\n",
    "                               training_year=universe[\"training_year\"],\n",
    "                               training_size=universe[\"training_size\"])"
   ]
  },
  {
   "cell_type": "code",
   "execution_count": 12,
   "id": "919c8ff5",
   "metadata": {
    "execution": {
     "iopub.execute_input": "2025-08-19T19:11:10.070071Z",
     "iopub.status.busy": "2025-08-19T19:11:10.069638Z",
     "iopub.status.idle": "2025-08-19T19:11:10.076752Z",
     "shell.execute_reply": "2025-08-19T19:11:10.075878Z"
    },
    "papermill": {
     "duration": 0.0203,
     "end_time": "2025-08-19T19:11:10.078246",
     "exception": false,
     "start_time": "2025-08-19T19:11:10.057946",
     "status": "completed"
    },
    "tags": []
   },
   "outputs": [
    {
     "data": {
      "text/plain": [
       "(1000, 164)"
      ]
     },
     "execution_count": 12,
     "metadata": {},
     "output_type": "execute_result"
    }
   ],
   "source": [
    "siab_train.shape"
   ]
  },
  {
   "cell_type": "code",
   "execution_count": 13,
   "id": "feb13bf4",
   "metadata": {
    "execution": {
     "iopub.execute_input": "2025-08-19T19:11:10.103361Z",
     "iopub.status.busy": "2025-08-19T19:11:10.102899Z",
     "iopub.status.idle": "2025-08-19T19:11:10.111723Z",
     "shell.execute_reply": "2025-08-19T19:11:10.110998Z"
    },
    "papermill": {
     "duration": 0.022318,
     "end_time": "2025-08-19T19:11:10.113217",
     "exception": false,
     "start_time": "2025-08-19T19:11:10.090899",
     "status": "completed"
    },
    "tags": []
   },
   "outputs": [
    {
     "data": {
      "text/plain": [
       "year\n",
       "2010    200\n",
       "2011    200\n",
       "2012    200\n",
       "2013    200\n",
       "2014    200\n",
       "dtype: int64"
      ]
     },
     "metadata": {},
     "output_type": "display_data"
    }
   ],
   "source": [
    "display(siab_train.groupby(\"year\").size())"
   ]
  },
  {
   "cell_type": "code",
   "execution_count": 14,
   "id": "0997782f",
   "metadata": {
    "execution": {
     "iopub.execute_input": "2025-08-19T19:11:10.136639Z",
     "iopub.status.busy": "2025-08-19T19:11:10.136189Z",
     "iopub.status.idle": "2025-08-19T19:11:10.405827Z",
     "shell.execute_reply": "2025-08-19T19:11:10.404662Z"
    },
    "papermill": {
     "duration": 0.282694,
     "end_time": "2025-08-19T19:11:10.407468",
     "exception": false,
     "start_time": "2025-08-19T19:11:10.124774",
     "status": "completed"
    },
    "tags": []
   },
   "outputs": [],
   "source": [
    "#siab_train = siab_s[siab_s.year < 2015]\n",
    "siab_calib = siab[siab.year == 2015]\n",
    "siab_test = siab[siab.year == 2016]"
   ]
  },
  {
   "cell_type": "code",
   "execution_count": 15,
   "id": "2c1e4012",
   "metadata": {
    "execution": {
     "iopub.execute_input": "2025-08-19T19:11:10.454369Z",
     "iopub.status.busy": "2025-08-19T19:11:10.453644Z",
     "iopub.status.idle": "2025-08-19T19:11:10.458992Z",
     "shell.execute_reply": "2025-08-19T19:11:10.458182Z"
    },
    "papermill": {
     "duration": 0.040027,
     "end_time": "2025-08-19T19:11:10.461566",
     "exception": false,
     "start_time": "2025-08-19T19:11:10.421539",
     "status": "completed"
    },
    "tags": []
   },
   "outputs": [],
   "source": [
    "#siab_calib.shape"
   ]
  },
  {
   "cell_type": "code",
   "execution_count": 16,
   "id": "f66b54ca",
   "metadata": {
    "execution": {
     "iopub.execute_input": "2025-08-19T19:11:10.497452Z",
     "iopub.status.busy": "2025-08-19T19:11:10.497018Z",
     "iopub.status.idle": "2025-08-19T19:11:10.501667Z",
     "shell.execute_reply": "2025-08-19T19:11:10.500713Z"
    },
    "papermill": {
     "duration": 0.019096,
     "end_time": "2025-08-19T19:11:10.502965",
     "exception": false,
     "start_time": "2025-08-19T19:11:10.483869",
     "status": "completed"
    },
    "tags": []
   },
   "outputs": [],
   "source": [
    "#siab_test.shape"
   ]
  },
  {
   "cell_type": "code",
   "execution_count": 17,
   "id": "27e4384d",
   "metadata": {
    "execution": {
     "iopub.execute_input": "2025-08-19T19:11:10.527971Z",
     "iopub.status.busy": "2025-08-19T19:11:10.527373Z",
     "iopub.status.idle": "2025-08-19T19:11:10.537147Z",
     "shell.execute_reply": "2025-08-19T19:11:10.535779Z"
    },
    "papermill": {
     "duration": 0.025066,
     "end_time": "2025-08-19T19:11:10.538836",
     "exception": false,
     "start_time": "2025-08-19T19:11:10.513770",
     "status": "completed"
    },
    "tags": []
   },
   "outputs": [],
   "source": [
    "X_train = siab_train.iloc[:,4:164]\n",
    "y_train = siab_train.iloc[:, [3]]"
   ]
  },
  {
   "cell_type": "code",
   "execution_count": 18,
   "id": "08ee8389",
   "metadata": {
    "execution": {
     "iopub.execute_input": "2025-08-19T19:11:10.569498Z",
     "iopub.status.busy": "2025-08-19T19:11:10.566268Z",
     "iopub.status.idle": "2025-08-19T19:11:10.638934Z",
     "shell.execute_reply": "2025-08-19T19:11:10.637914Z"
    },
    "papermill": {
     "duration": 0.088013,
     "end_time": "2025-08-19T19:11:10.640925",
     "exception": false,
     "start_time": "2025-08-19T19:11:10.552912",
     "status": "completed"
    },
    "tags": []
   },
   "outputs": [],
   "source": [
    "X_calib = siab_calib.iloc[:,4:164]\n",
    "y_calib = siab_calib.iloc[:, [3]]"
   ]
  },
  {
   "cell_type": "code",
   "execution_count": 19,
   "id": "b7ff42e0",
   "metadata": {
    "execution": {
     "iopub.execute_input": "2025-08-19T19:11:10.666839Z",
     "iopub.status.busy": "2025-08-19T19:11:10.666400Z",
     "iopub.status.idle": "2025-08-19T19:11:10.719563Z",
     "shell.execute_reply": "2025-08-19T19:11:10.718456Z"
    },
    "papermill": {
     "duration": 0.067332,
     "end_time": "2025-08-19T19:11:10.721268",
     "exception": false,
     "start_time": "2025-08-19T19:11:10.653936",
     "status": "completed"
    },
    "tags": []
   },
   "outputs": [],
   "source": [
    "X_test = siab_test.iloc[:,4:164]\n",
    "y_true = siab_test.iloc[:, [3]]"
   ]
  },
  {
   "cell_type": "code",
   "execution_count": 20,
   "id": "0275101e",
   "metadata": {
    "execution": {
     "iopub.execute_input": "2025-08-19T19:11:10.747984Z",
     "iopub.status.busy": "2025-08-19T19:11:10.747480Z",
     "iopub.status.idle": "2025-08-19T19:11:10.867610Z",
     "shell.execute_reply": "2025-08-19T19:11:10.866701Z"
    },
    "papermill": {
     "duration": 0.13422,
     "end_time": "2025-08-19T19:11:10.869220",
     "exception": false,
     "start_time": "2025-08-19T19:11:10.735000",
     "status": "completed"
    },
    "tags": []
   },
   "outputs": [],
   "source": [
    "# Auxiliary data needed downstream in the pipeline\n",
    "\n",
    "org_train = X_train.copy()\n",
    "org_test = X_test.copy()\n",
    "org_calib = X_calib.copy()"
   ]
  },
  {
   "cell_type": "markdown",
   "id": "b461e618",
   "metadata": {
    "papermill": {
     "duration": 0.010753,
     "end_time": "2025-08-19T19:11:10.891132",
     "exception": false,
     "start_time": "2025-08-19T19:11:10.880379",
     "status": "completed"
    },
    "tags": []
   },
   "source": [
    "# Preprocessing Data"
   ]
  },
  {
   "cell_type": "code",
   "execution_count": 21,
   "id": "78e74c4b",
   "metadata": {
    "execution": {
     "iopub.execute_input": "2025-08-19T19:11:10.913779Z",
     "iopub.status.busy": "2025-08-19T19:11:10.913351Z",
     "iopub.status.idle": "2025-08-19T19:11:10.918430Z",
     "shell.execute_reply": "2025-08-19T19:11:10.917638Z"
    },
    "papermill": {
     "duration": 0.018219,
     "end_time": "2025-08-19T19:11:10.920066",
     "exception": false,
     "start_time": "2025-08-19T19:11:10.901847",
     "status": "completed"
    },
    "tags": []
   },
   "outputs": [],
   "source": [
    "# EXCLUDE PROTECTED FEATURES\n",
    "# --------------------------\n",
    "\n",
    "excluded_features = universe[\"exclude_features\"].split(\"-\")\n",
    "excluded_features_dictionary = {\n",
    "    \"nationality\": [\"maxdeutsch1\", \"maxdeutsch.Missing.\"],\n",
    "    \"sex\": [\"frau1\"],\n",
    "    \"age\": [\"age\"],\n",
    "}"
   ]
  },
  {
   "cell_type": "code",
   "execution_count": 22,
   "id": "f8e63555",
   "metadata": {
    "execution": {
     "iopub.execute_input": "2025-08-19T19:11:10.942003Z",
     "iopub.status.busy": "2025-08-19T19:11:10.941660Z",
     "iopub.status.idle": "2025-08-19T19:11:10.946248Z",
     "shell.execute_reply": "2025-08-19T19:11:10.945512Z"
    },
    "papermill": {
     "duration": 0.017086,
     "end_time": "2025-08-19T19:11:10.947525",
     "exception": false,
     "start_time": "2025-08-19T19:11:10.930439",
     "status": "completed"
    },
    "tags": []
   },
   "outputs": [],
   "source": [
    "excluded_features_columns = [\n",
    "    excluded_features_dictionary[f] for f in excluded_features if len(f) > 0 and f != \"none\"\n",
    "]"
   ]
  },
  {
   "cell_type": "code",
   "execution_count": 23,
   "id": "da781f7c",
   "metadata": {
    "execution": {
     "iopub.execute_input": "2025-08-19T19:11:10.980090Z",
     "iopub.status.busy": "2025-08-19T19:11:10.979671Z",
     "iopub.status.idle": "2025-08-19T19:11:10.988449Z",
     "shell.execute_reply": "2025-08-19T19:11:10.986295Z"
    },
    "papermill": {
     "duration": 0.041748,
     "end_time": "2025-08-19T19:11:11.006868",
     "exception": false,
     "start_time": "2025-08-19T19:11:10.965120",
     "status": "completed"
    },
    "tags": []
   },
   "outputs": [],
   "source": [
    "from fairness_multiverse.universe import flatten_once\n",
    "\n",
    "excluded_features_columns = flatten_once(excluded_features_columns)"
   ]
  },
  {
   "cell_type": "code",
   "execution_count": 24,
   "id": "37fef0f0",
   "metadata": {
    "execution": {
     "iopub.execute_input": "2025-08-19T19:11:11.042480Z",
     "iopub.status.busy": "2025-08-19T19:11:11.042116Z",
     "iopub.status.idle": "2025-08-19T19:11:11.046559Z",
     "shell.execute_reply": "2025-08-19T19:11:11.045766Z"
    },
    "papermill": {
     "duration": 0.018106,
     "end_time": "2025-08-19T19:11:11.047856",
     "exception": false,
     "start_time": "2025-08-19T19:11:11.029750",
     "status": "completed"
    },
    "tags": []
   },
   "outputs": [],
   "source": [
    "if len(excluded_features_columns) > 0:\n",
    "    print(f\"Dropping features: {excluded_features_columns}\")\n",
    "    X_train.drop(excluded_features_columns, axis=1, inplace=True)"
   ]
  },
  {
   "cell_type": "code",
   "execution_count": 25,
   "id": "d029e3e9",
   "metadata": {
    "execution": {
     "iopub.execute_input": "2025-08-19T19:11:11.071083Z",
     "iopub.status.busy": "2025-08-19T19:11:11.070713Z",
     "iopub.status.idle": "2025-08-19T19:11:11.074778Z",
     "shell.execute_reply": "2025-08-19T19:11:11.074076Z"
    },
    "papermill": {
     "duration": 0.017512,
     "end_time": "2025-08-19T19:11:11.076227",
     "exception": false,
     "start_time": "2025-08-19T19:11:11.058715",
     "status": "completed"
    },
    "tags": []
   },
   "outputs": [],
   "source": [
    "if len(excluded_features_columns) > 0:\n",
    "    print(f\"Dropping features: {excluded_features_columns}\")\n",
    "    X_test.drop(excluded_features_columns, axis=1, inplace=True)"
   ]
  },
  {
   "cell_type": "code",
   "execution_count": 26,
   "id": "01d571f0",
   "metadata": {
    "execution": {
     "iopub.execute_input": "2025-08-19T19:11:11.104386Z",
     "iopub.status.busy": "2025-08-19T19:11:11.103832Z",
     "iopub.status.idle": "2025-08-19T19:11:11.110840Z",
     "shell.execute_reply": "2025-08-19T19:11:11.109725Z"
    },
    "papermill": {
     "duration": 0.024175,
     "end_time": "2025-08-19T19:11:11.114694",
     "exception": false,
     "start_time": "2025-08-19T19:11:11.090519",
     "status": "completed"
    },
    "tags": []
   },
   "outputs": [],
   "source": [
    "if len(excluded_features_columns) > 0:\n",
    "    print(f\"Dropping features: {excluded_features_columns}\")\n",
    "    X_calib.drop(excluded_features_columns, axis=1, inplace=True)"
   ]
  },
  {
   "cell_type": "code",
   "execution_count": 27,
   "id": "3037356e",
   "metadata": {
    "execution": {
     "iopub.execute_input": "2025-08-19T19:11:11.143948Z",
     "iopub.status.busy": "2025-08-19T19:11:11.143567Z",
     "iopub.status.idle": "2025-08-19T19:11:11.148003Z",
     "shell.execute_reply": "2025-08-19T19:11:11.147325Z"
    },
    "papermill": {
     "duration": 0.018196,
     "end_time": "2025-08-19T19:11:11.149318",
     "exception": false,
     "start_time": "2025-08-19T19:11:11.131122",
     "status": "completed"
    },
    "tags": []
   },
   "outputs": [],
   "source": [
    "# EXCLUDE CERTAIN SUBGROUPS\n",
    "# -------------------------\n",
    "\n",
    "mode = universe.get(\"exclude_subgroups\", \"keep-all\") # Defaults to \"keep-all\" if the key is missing."
   ]
  },
  {
   "cell_type": "code",
   "execution_count": 28,
   "id": "9d1e63fd",
   "metadata": {
    "execution": {
     "iopub.execute_input": "2025-08-19T19:11:11.171949Z",
     "iopub.status.busy": "2025-08-19T19:11:11.171586Z",
     "iopub.status.idle": "2025-08-19T19:11:11.178714Z",
     "shell.execute_reply": "2025-08-19T19:11:11.177280Z"
    },
    "papermill": {
     "duration": 0.024609,
     "end_time": "2025-08-19T19:11:11.184705",
     "exception": false,
     "start_time": "2025-08-19T19:11:11.160096",
     "status": "completed"
    },
    "tags": []
   },
   "outputs": [],
   "source": [
    "if mode == \"keep-all\":\n",
    "    keep_mask = pd.Series(True, index=org_train.index)\n",
    "\n",
    "elif mode == \"drop-non-german\":\n",
    "    keep_mask = (org_train[\"maxdeutsch1\"] == 1) & (org_train[\"maxdeutsch.Missing.\"] == 0)\n",
    "\n",
    "else:\n",
    "    raise ValueError(f\"Unsupported mode for exclude_subgroups: {mode}\")"
   ]
  },
  {
   "cell_type": "code",
   "execution_count": 29,
   "id": "d3b65474",
   "metadata": {
    "execution": {
     "iopub.execute_input": "2025-08-19T19:11:11.221229Z",
     "iopub.status.busy": "2025-08-19T19:11:11.219927Z",
     "iopub.status.idle": "2025-08-19T19:11:11.235475Z",
     "shell.execute_reply": "2025-08-19T19:11:11.233926Z"
    },
    "papermill": {
     "duration": 0.03289,
     "end_time": "2025-08-19T19:11:11.239175",
     "exception": false,
     "start_time": "2025-08-19T19:11:11.206285",
     "status": "completed"
    },
    "tags": []
   },
   "outputs": [],
   "source": [
    "n_drop = (~keep_mask).sum() # Calculates how many rows are set to be dropped\n",
    "if n_drop > 0:\n",
    "    pct = n_drop / len(keep_mask) * 100\n",
    "    print(f\"Dropping {n_drop} rows ({pct:.2f}%) where mode='{mode}'\")"
   ]
  },
  {
   "cell_type": "code",
   "execution_count": 30,
   "id": "f44389b3",
   "metadata": {
    "execution": {
     "iopub.execute_input": "2025-08-19T19:11:11.272691Z",
     "iopub.status.busy": "2025-08-19T19:11:11.272188Z",
     "iopub.status.idle": "2025-08-19T19:11:11.278548Z",
     "shell.execute_reply": "2025-08-19T19:11:11.277815Z"
    },
    "papermill": {
     "duration": 0.021856,
     "end_time": "2025-08-19T19:11:11.280218",
     "exception": false,
     "start_time": "2025-08-19T19:11:11.258362",
     "status": "completed"
    },
    "tags": []
   },
   "outputs": [],
   "source": [
    "X_train = X_train[keep_mask]"
   ]
  },
  {
   "cell_type": "code",
   "execution_count": 31,
   "id": "ceca8c2a",
   "metadata": {
    "execution": {
     "iopub.execute_input": "2025-08-19T19:11:11.304310Z",
     "iopub.status.busy": "2025-08-19T19:11:11.303904Z",
     "iopub.status.idle": "2025-08-19T19:11:11.309005Z",
     "shell.execute_reply": "2025-08-19T19:11:11.308203Z"
    },
    "papermill": {
     "duration": 0.018683,
     "end_time": "2025-08-19T19:11:11.310331",
     "exception": false,
     "start_time": "2025-08-19T19:11:11.291648",
     "status": "completed"
    },
    "tags": []
   },
   "outputs": [],
   "source": [
    "y_train = y_train[keep_mask]"
   ]
  },
  {
   "cell_type": "markdown",
   "id": "04d31e2f",
   "metadata": {
    "papermill": {
     "duration": 0.011022,
     "end_time": "2025-08-19T19:11:11.332783",
     "exception": false,
     "start_time": "2025-08-19T19:11:11.321761",
     "status": "completed"
    },
    "tags": []
   },
   "source": [
    "# Model Training"
   ]
  },
  {
   "cell_type": "code",
   "execution_count": 32,
   "id": "db991733",
   "metadata": {
    "execution": {
     "iopub.execute_input": "2025-08-19T19:11:11.355832Z",
     "iopub.status.busy": "2025-08-19T19:11:11.355436Z",
     "iopub.status.idle": "2025-08-19T19:11:11.461830Z",
     "shell.execute_reply": "2025-08-19T19:11:11.460777Z"
    },
    "papermill": {
     "duration": 0.122022,
     "end_time": "2025-08-19T19:11:11.465688",
     "exception": false,
     "start_time": "2025-08-19T19:11:11.343666",
     "status": "completed"
    },
    "tags": []
   },
   "outputs": [],
   "source": [
    "from sklearn.linear_model import LogisticRegression\n",
    "from sklearn.ensemble import GradientBoostingClassifier, RandomForestClassifier\n",
    "\n",
    "if (universe[\"model\"] == \"logreg\"):\n",
    "    model = LogisticRegression() #penalty=\"none\", solver=\"newton-cg\", max_iter=1)\n",
    "elif (universe[\"model\"] == \"penalized_logreg\"):\n",
    "    model = LogisticRegression(penalty=\"l2\", C=0.1) #, solver=\"newton-cg\", max_iter=1)\n",
    "elif (universe[\"model\"] == \"rf\"):\n",
    "    model = RandomForestClassifier() # n_estimators=100, n_jobs=-1\n",
    "elif (universe[\"model\"] == \"gbm\"):\n",
    "    model = GradientBoostingClassifier()\n",
    "elif (universe[\"model\"] == \"elasticnet\"):\n",
    "    model = LogisticRegression(penalty = 'elasticnet', solver = 'saga', l1_ratio = 0.5) # max_iter=5000\n",
    "else:\n",
    "    raise \"Unsupported universe.model\""
   ]
  },
  {
   "cell_type": "code",
   "execution_count": 33,
   "id": "a4b5cd25",
   "metadata": {
    "execution": {
     "iopub.execute_input": "2025-08-19T19:11:11.505932Z",
     "iopub.status.busy": "2025-08-19T19:11:11.505176Z",
     "iopub.status.idle": "2025-08-19T19:11:11.512518Z",
     "shell.execute_reply": "2025-08-19T19:11:11.511372Z"
    },
    "papermill": {
     "duration": 0.022327,
     "end_time": "2025-08-19T19:11:11.513975",
     "exception": false,
     "start_time": "2025-08-19T19:11:11.491648",
     "status": "completed"
    },
    "tags": []
   },
   "outputs": [],
   "source": [
    "from sklearn.pipeline import Pipeline\n",
    "from sklearn.preprocessing import StandardScaler\n",
    "\n",
    "model = Pipeline([\n",
    "    #(\"continuous_processor\", continuous_processor),\n",
    "    #(\"categorical_preprocessor\", categorical_preprocessor),\n",
    "    (\"scale\", StandardScaler() if universe[\"scale\"] == \"scale\" else None), \n",
    "    (\"model\", model),\n",
    "])"
   ]
  },
  {
   "cell_type": "code",
   "execution_count": 34,
   "id": "283a904d",
   "metadata": {
    "execution": {
     "iopub.execute_input": "2025-08-19T19:11:11.539038Z",
     "iopub.status.busy": "2025-08-19T19:11:11.537951Z",
     "iopub.status.idle": "2025-08-19T19:11:12.487621Z",
     "shell.execute_reply": "2025-08-19T19:11:12.485885Z"
    },
    "papermill": {
     "duration": 0.963786,
     "end_time": "2025-08-19T19:11:12.489237",
     "exception": false,
     "start_time": "2025-08-19T19:11:11.525451",
     "status": "completed"
    },
    "tags": []
   },
   "outputs": [
    {
     "data": {
      "text/html": [
       "<style>#sk-container-id-1 {color: black;background-color: white;}#sk-container-id-1 pre{padding: 0;}#sk-container-id-1 div.sk-toggleable {background-color: white;}#sk-container-id-1 label.sk-toggleable__label {cursor: pointer;display: block;width: 100%;margin-bottom: 0;padding: 0.3em;box-sizing: border-box;text-align: center;}#sk-container-id-1 label.sk-toggleable__label-arrow:before {content: \"▸\";float: left;margin-right: 0.25em;color: #696969;}#sk-container-id-1 label.sk-toggleable__label-arrow:hover:before {color: black;}#sk-container-id-1 div.sk-estimator:hover label.sk-toggleable__label-arrow:before {color: black;}#sk-container-id-1 div.sk-toggleable__content {max-height: 0;max-width: 0;overflow: hidden;text-align: left;background-color: #f0f8ff;}#sk-container-id-1 div.sk-toggleable__content pre {margin: 0.2em;color: black;border-radius: 0.25em;background-color: #f0f8ff;}#sk-container-id-1 input.sk-toggleable__control:checked~div.sk-toggleable__content {max-height: 200px;max-width: 100%;overflow: auto;}#sk-container-id-1 input.sk-toggleable__control:checked~label.sk-toggleable__label-arrow:before {content: \"▾\";}#sk-container-id-1 div.sk-estimator input.sk-toggleable__control:checked~label.sk-toggleable__label {background-color: #d4ebff;}#sk-container-id-1 div.sk-label input.sk-toggleable__control:checked~label.sk-toggleable__label {background-color: #d4ebff;}#sk-container-id-1 input.sk-hidden--visually {border: 0;clip: rect(1px 1px 1px 1px);clip: rect(1px, 1px, 1px, 1px);height: 1px;margin: -1px;overflow: hidden;padding: 0;position: absolute;width: 1px;}#sk-container-id-1 div.sk-estimator {font-family: monospace;background-color: #f0f8ff;border: 1px dotted black;border-radius: 0.25em;box-sizing: border-box;margin-bottom: 0.5em;}#sk-container-id-1 div.sk-estimator:hover {background-color: #d4ebff;}#sk-container-id-1 div.sk-parallel-item::after {content: \"\";width: 100%;border-bottom: 1px solid gray;flex-grow: 1;}#sk-container-id-1 div.sk-label:hover label.sk-toggleable__label {background-color: #d4ebff;}#sk-container-id-1 div.sk-serial::before {content: \"\";position: absolute;border-left: 1px solid gray;box-sizing: border-box;top: 0;bottom: 0;left: 50%;z-index: 0;}#sk-container-id-1 div.sk-serial {display: flex;flex-direction: column;align-items: center;background-color: white;padding-right: 0.2em;padding-left: 0.2em;position: relative;}#sk-container-id-1 div.sk-item {position: relative;z-index: 1;}#sk-container-id-1 div.sk-parallel {display: flex;align-items: stretch;justify-content: center;background-color: white;position: relative;}#sk-container-id-1 div.sk-item::before, #sk-container-id-1 div.sk-parallel-item::before {content: \"\";position: absolute;border-left: 1px solid gray;box-sizing: border-box;top: 0;bottom: 0;left: 50%;z-index: -1;}#sk-container-id-1 div.sk-parallel-item {display: flex;flex-direction: column;z-index: 1;position: relative;background-color: white;}#sk-container-id-1 div.sk-parallel-item:first-child::after {align-self: flex-end;width: 50%;}#sk-container-id-1 div.sk-parallel-item:last-child::after {align-self: flex-start;width: 50%;}#sk-container-id-1 div.sk-parallel-item:only-child::after {width: 0;}#sk-container-id-1 div.sk-dashed-wrapped {border: 1px dashed gray;margin: 0 0.4em 0.5em 0.4em;box-sizing: border-box;padding-bottom: 0.4em;background-color: white;}#sk-container-id-1 div.sk-label label {font-family: monospace;font-weight: bold;display: inline-block;line-height: 1.2em;}#sk-container-id-1 div.sk-label-container {text-align: center;}#sk-container-id-1 div.sk-container {/* jupyter's `normalize.less` sets `[hidden] { display: none; }` but bootstrap.min.css set `[hidden] { display: none !important; }` so we also need the `!important` here to be able to override the default hidden behavior on the sphinx rendered scikit-learn.org. See: https://github.com/scikit-learn/scikit-learn/issues/21755 */display: inline-block !important;position: relative;}#sk-container-id-1 div.sk-text-repr-fallback {display: none;}</style><div id=\"sk-container-id-1\" class=\"sk-top-container\"><div class=\"sk-text-repr-fallback\"><pre>Pipeline(steps=[(&#x27;scale&#x27;, None), (&#x27;model&#x27;, GradientBoostingClassifier())])</pre><b>In a Jupyter environment, please rerun this cell to show the HTML representation or trust the notebook. <br />On GitHub, the HTML representation is unable to render, please try loading this page with nbviewer.org.</b></div><div class=\"sk-container\" hidden><div class=\"sk-item sk-dashed-wrapped\"><div class=\"sk-label-container\"><div class=\"sk-label sk-toggleable\"><input class=\"sk-toggleable__control sk-hidden--visually\" id=\"sk-estimator-id-1\" type=\"checkbox\" ><label for=\"sk-estimator-id-1\" class=\"sk-toggleable__label sk-toggleable__label-arrow\">Pipeline</label><div class=\"sk-toggleable__content\"><pre>Pipeline(steps=[(&#x27;scale&#x27;, None), (&#x27;model&#x27;, GradientBoostingClassifier())])</pre></div></div></div><div class=\"sk-serial\"><div class=\"sk-item\"><div class=\"sk-estimator sk-toggleable\"><input class=\"sk-toggleable__control sk-hidden--visually\" id=\"sk-estimator-id-2\" type=\"checkbox\" ><label for=\"sk-estimator-id-2\" class=\"sk-toggleable__label sk-toggleable__label-arrow\">None</label><div class=\"sk-toggleable__content\"><pre>None</pre></div></div></div><div class=\"sk-item\"><div class=\"sk-estimator sk-toggleable\"><input class=\"sk-toggleable__control sk-hidden--visually\" id=\"sk-estimator-id-3\" type=\"checkbox\" ><label for=\"sk-estimator-id-3\" class=\"sk-toggleable__label sk-toggleable__label-arrow\">GradientBoostingClassifier</label><div class=\"sk-toggleable__content\"><pre>GradientBoostingClassifier()</pre></div></div></div></div></div></div></div>"
      ],
      "text/plain": [
       "Pipeline(steps=[('scale', None), ('model', GradientBoostingClassifier())])"
      ]
     },
     "execution_count": 34,
     "metadata": {},
     "output_type": "execute_result"
    }
   ],
   "source": [
    "model.fit(X_train, y_train.values.ravel())"
   ]
  },
  {
   "cell_type": "code",
   "execution_count": 35,
   "id": "6e15e313",
   "metadata": {
    "execution": {
     "iopub.execute_input": "2025-08-19T19:11:12.513484Z",
     "iopub.status.busy": "2025-08-19T19:11:12.512701Z",
     "iopub.status.idle": "2025-08-19T19:11:13.089278Z",
     "shell.execute_reply": "2025-08-19T19:11:13.088325Z"
    },
    "papermill": {
     "duration": 0.590091,
     "end_time": "2025-08-19T19:11:13.090600",
     "exception": false,
     "start_time": "2025-08-19T19:11:12.500509",
     "status": "completed"
    },
    "tags": []
   },
   "outputs": [
    {
     "data": {
      "text/plain": [
       "0.8438635603611637"
      ]
     },
     "execution_count": 35,
     "metadata": {},
     "output_type": "execute_result"
    }
   ],
   "source": [
    "from fairness_multiverse.universe import predict_w_threshold\n",
    "\n",
    "probs_test = model.predict_proba(X_test)\n",
    "\n",
    "'''\n",
    "Below code returns a boolean array (or binary 0/1 array depending on how it’s used) where each element \n",
    "is True if the probability of class 1 is greater than or equal to the threshold, and False otherwise.\n",
    "'''\n",
    "y_pred_default = predict_w_threshold(probs_test, 0.5)\n",
    "\n",
    "from sklearn.metrics import accuracy_score\n",
    "\n",
    "# Naive prediction\n",
    "accuracy_score(y_true = y_true, y_pred = y_pred_default)"
   ]
  },
  {
   "cell_type": "code",
   "execution_count": 36,
   "id": "6f14067c",
   "metadata": {
    "execution": {
     "iopub.execute_input": "2025-08-19T19:11:13.115395Z",
     "iopub.status.busy": "2025-08-19T19:11:13.114452Z",
     "iopub.status.idle": "2025-08-19T19:11:13.632641Z",
     "shell.execute_reply": "2025-08-19T19:11:13.631830Z"
    },
    "papermill": {
     "duration": 0.531757,
     "end_time": "2025-08-19T19:11:13.633886",
     "exception": false,
     "start_time": "2025-08-19T19:11:13.102129",
     "status": "completed"
    },
    "tags": []
   },
   "outputs": [
    {
     "data": {
      "text/plain": [
       "array([0, 0, 0, ..., 1, 0, 0])"
      ]
     },
     "execution_count": 36,
     "metadata": {},
     "output_type": "execute_result"
    }
   ],
   "source": [
    "model.predict(X_test)"
   ]
  },
  {
   "cell_type": "markdown",
   "id": "3759920c",
   "metadata": {
    "papermill": {
     "duration": 0.018169,
     "end_time": "2025-08-19T19:11:13.671558",
     "exception": false,
     "start_time": "2025-08-19T19:11:13.653389",
     "status": "completed"
    },
    "tags": []
   },
   "source": [
    "# Conformal Prediction"
   ]
  },
  {
   "cell_type": "code",
   "execution_count": 37,
   "id": "14b27f59",
   "metadata": {
    "execution": {
     "iopub.execute_input": "2025-08-19T19:11:13.695933Z",
     "iopub.status.busy": "2025-08-19T19:11:13.695508Z",
     "iopub.status.idle": "2025-08-19T19:11:13.699636Z",
     "shell.execute_reply": "2025-08-19T19:11:13.699032Z"
    },
    "papermill": {
     "duration": 0.019019,
     "end_time": "2025-08-19T19:11:13.702179",
     "exception": false,
     "start_time": "2025-08-19T19:11:13.683160",
     "status": "completed"
    },
    "tags": []
   },
   "outputs": [],
   "source": [
    "# Miscoverage level for conformal prediction (10% allowed error rate => 90% target coverage)\n",
    "alpha = 0.1"
   ]
  },
  {
   "cell_type": "code",
   "execution_count": 38,
   "id": "59102472",
   "metadata": {
    "execution": {
     "iopub.execute_input": "2025-08-19T19:11:13.746620Z",
     "iopub.status.busy": "2025-08-19T19:11:13.745550Z",
     "iopub.status.idle": "2025-08-19T19:11:14.301708Z",
     "shell.execute_reply": "2025-08-19T19:11:14.300462Z"
    },
    "papermill": {
     "duration": 0.587154,
     "end_time": "2025-08-19T19:11:14.304683",
     "exception": false,
     "start_time": "2025-08-19T19:11:13.717529",
     "status": "completed"
    },
    "tags": []
   },
   "outputs": [],
   "source": [
    "probs_calib = model.predict_proba(X_calib)"
   ]
  },
  {
   "cell_type": "code",
   "execution_count": 39,
   "id": "a792d4dd",
   "metadata": {
    "execution": {
     "iopub.execute_input": "2025-08-19T19:11:14.330260Z",
     "iopub.status.busy": "2025-08-19T19:11:14.329778Z",
     "iopub.status.idle": "2025-08-19T19:11:14.336149Z",
     "shell.execute_reply": "2025-08-19T19:11:14.335491Z"
    },
    "papermill": {
     "duration": 0.020877,
     "end_time": "2025-08-19T19:11:14.337821",
     "exception": false,
     "start_time": "2025-08-19T19:11:14.316944",
     "status": "completed"
    },
    "tags": []
   },
   "outputs": [],
   "source": [
    "y_calib = y_calib.values.ravel().astype(int)"
   ]
  },
  {
   "cell_type": "code",
   "execution_count": 40,
   "id": "650fd033",
   "metadata": {
    "execution": {
     "iopub.execute_input": "2025-08-19T19:11:14.362470Z",
     "iopub.status.busy": "2025-08-19T19:11:14.362056Z",
     "iopub.status.idle": "2025-08-19T19:11:14.368838Z",
     "shell.execute_reply": "2025-08-19T19:11:14.368157Z"
    },
    "papermill": {
     "duration": 0.022783,
     "end_time": "2025-08-19T19:11:14.372326",
     "exception": false,
     "start_time": "2025-08-19T19:11:14.349543",
     "status": "completed"
    },
    "tags": []
   },
   "outputs": [],
   "source": [
    "from fairness_multiverse.conformal import compute_nc_scores\n",
    "\n",
    "# Compute nonconformity scores on calibration set (1 - probability of true class)\n",
    "nc_scores = compute_nc_scores(probs_calib, y_calib)"
   ]
  },
  {
   "cell_type": "code",
   "execution_count": 41,
   "id": "28ada44c",
   "metadata": {
    "execution": {
     "iopub.execute_input": "2025-08-19T19:11:14.409118Z",
     "iopub.status.busy": "2025-08-19T19:11:14.408699Z",
     "iopub.status.idle": "2025-08-19T19:11:14.414218Z",
     "shell.execute_reply": "2025-08-19T19:11:14.413467Z"
    },
    "papermill": {
     "duration": 0.021478,
     "end_time": "2025-08-19T19:11:14.416149",
     "exception": false,
     "start_time": "2025-08-19T19:11:14.394671",
     "status": "completed"
    },
    "tags": []
   },
   "outputs": [],
   "source": [
    "from fairness_multiverse.conformal import find_threshold\n",
    "\n",
    "# Find conformal threshold q_hat for the given alpha (split conformal method)\n",
    "q_hat = find_threshold(nc_scores, alpha)"
   ]
  },
  {
   "cell_type": "code",
   "execution_count": 42,
   "id": "df56469e",
   "metadata": {
    "execution": {
     "iopub.execute_input": "2025-08-19T19:11:14.442860Z",
     "iopub.status.busy": "2025-08-19T19:11:14.442436Z",
     "iopub.status.idle": "2025-08-19T19:11:14.447939Z",
     "shell.execute_reply": "2025-08-19T19:11:14.447335Z"
    },
    "papermill": {
     "duration": 0.0219,
     "end_time": "2025-08-19T19:11:14.451489",
     "exception": false,
     "start_time": "2025-08-19T19:11:14.429589",
     "status": "completed"
    },
    "tags": []
   },
   "outputs": [
    {
     "data": {
      "text/plain": [
       "0.7462326934239845"
      ]
     },
     "execution_count": 42,
     "metadata": {},
     "output_type": "execute_result"
    }
   ],
   "source": [
    "q_hat"
   ]
  },
  {
   "cell_type": "code",
   "execution_count": 43,
   "id": "aa1f5faa",
   "metadata": {
    "execution": {
     "iopub.execute_input": "2025-08-19T19:11:14.490121Z",
     "iopub.status.busy": "2025-08-19T19:11:14.489180Z",
     "iopub.status.idle": "2025-08-19T19:11:15.512744Z",
     "shell.execute_reply": "2025-08-19T19:11:15.511909Z"
    },
    "papermill": {
     "duration": 1.039202,
     "end_time": "2025-08-19T19:11:15.514196",
     "exception": false,
     "start_time": "2025-08-19T19:11:14.474994",
     "status": "completed"
    },
    "tags": []
   },
   "outputs": [],
   "source": [
    "from fairness_multiverse.conformal import predict_conformal_sets\n",
    "\n",
    "# Generate prediction sets for each test example\n",
    "pred_sets = predict_conformal_sets(model, X_test, q_hat)"
   ]
  },
  {
   "cell_type": "code",
   "execution_count": 44,
   "id": "97f67a6b",
   "metadata": {
    "execution": {
     "iopub.execute_input": "2025-08-19T19:11:15.570195Z",
     "iopub.status.busy": "2025-08-19T19:11:15.569563Z",
     "iopub.status.idle": "2025-08-19T19:11:15.576600Z",
     "shell.execute_reply": "2025-08-19T19:11:15.575736Z"
    },
    "papermill": {
     "duration": 0.045287,
     "end_time": "2025-08-19T19:11:15.578860",
     "exception": false,
     "start_time": "2025-08-19T19:11:15.533573",
     "status": "completed"
    },
    "tags": []
   },
   "outputs": [],
   "source": [
    "y_true = y_true.squeeze()"
   ]
  },
  {
   "cell_type": "code",
   "execution_count": 45,
   "id": "e700e9a7",
   "metadata": {
    "execution": {
     "iopub.execute_input": "2025-08-19T19:11:15.606155Z",
     "iopub.status.busy": "2025-08-19T19:11:15.605736Z",
     "iopub.status.idle": "2025-08-19T19:11:16.099107Z",
     "shell.execute_reply": "2025-08-19T19:11:16.098352Z"
    },
    "papermill": {
     "duration": 0.508311,
     "end_time": "2025-08-19T19:11:16.100648",
     "exception": false,
     "start_time": "2025-08-19T19:11:15.592337",
     "status": "completed"
    },
    "tags": []
   },
   "outputs": [],
   "source": [
    "from fairness_multiverse.conformal import evaluate_sets\n",
    "\n",
    "# Evaluate coverage and average set size on test data\n",
    "metrics = evaluate_sets(pred_sets, y_true)"
   ]
  },
  {
   "cell_type": "markdown",
   "id": "efbacec0",
   "metadata": {
    "papermill": {
     "duration": 0.011486,
     "end_time": "2025-08-19T19:11:16.124600",
     "exception": false,
     "start_time": "2025-08-19T19:11:16.113114",
     "status": "completed"
    },
    "tags": []
   },
   "source": [
    "# CP Metrics"
   ]
  },
  {
   "cell_type": "code",
   "execution_count": 46,
   "id": "9de55fb1",
   "metadata": {
    "execution": {
     "iopub.execute_input": "2025-08-19T19:11:16.153525Z",
     "iopub.status.busy": "2025-08-19T19:11:16.153101Z",
     "iopub.status.idle": "2025-08-19T19:11:16.159802Z",
     "shell.execute_reply": "2025-08-19T19:11:16.159170Z"
    },
    "papermill": {
     "duration": 0.024426,
     "end_time": "2025-08-19T19:11:16.161035",
     "exception": false,
     "start_time": "2025-08-19T19:11:16.136609",
     "status": "completed"
    },
    "tags": []
   },
   "outputs": [
    {
     "data": {
      "text/plain": [
       "{'coverage': 0.9126295842158065, 'avg_size': 1.1762233864675065}"
      ]
     },
     "execution_count": 46,
     "metadata": {},
     "output_type": "execute_result"
    }
   ],
   "source": [
    "metrics"
   ]
  },
  {
   "cell_type": "code",
   "execution_count": 47,
   "id": "64c340a1",
   "metadata": {
    "execution": {
     "iopub.execute_input": "2025-08-19T19:11:16.186540Z",
     "iopub.status.busy": "2025-08-19T19:11:16.186160Z",
     "iopub.status.idle": "2025-08-19T19:11:16.192057Z",
     "shell.execute_reply": "2025-08-19T19:11:16.190738Z"
    },
    "papermill": {
     "duration": 0.020701,
     "end_time": "2025-08-19T19:11:16.193472",
     "exception": false,
     "start_time": "2025-08-19T19:11:16.172771",
     "status": "completed"
    },
    "tags": []
   },
   "outputs": [],
   "source": [
    "example_universe = universe.copy()\n",
    "universe_training_year = example_universe.get(\"training_year\")\n",
    "universe_training_size = example_universe.get(\"training_size\")\n",
    "universe_scale = example_universe.get(\"scale\")\n",
    "universe_model = example_universe.get(\"model\")\n",
    "universe_exclude_features = example_universe.get(\"exclude_features\")\n",
    "universe_exclude_subgroups = example_universe.get(\"exclude_subgroups\")"
   ]
  },
  {
   "cell_type": "code",
   "execution_count": 48,
   "id": "dbb53cb4",
   "metadata": {
    "execution": {
     "iopub.execute_input": "2025-08-19T19:11:16.223219Z",
     "iopub.status.busy": "2025-08-19T19:11:16.220089Z",
     "iopub.status.idle": "2025-08-19T19:11:16.233978Z",
     "shell.execute_reply": "2025-08-19T19:11:16.233004Z"
    },
    "papermill": {
     "duration": 0.032409,
     "end_time": "2025-08-19T19:11:16.237661",
     "exception": false,
     "start_time": "2025-08-19T19:11:16.205252",
     "status": "completed"
    },
    "tags": []
   },
   "outputs": [],
   "source": [
    "cp_metrics_dict = {\n",
    "    \"universe_id\": [universe_id],\n",
    "    \"universe_training_year\": [universe_training_year],\n",
    "    \"universe_training_size\": [universe_training_size],\n",
    "    \"universe_scale\": [universe_scale],\n",
    "    \"universe_model\": [universe_model],\n",
    "    \"universe_exclude_features\": [universe_exclude_features],\n",
    "    \"universe_exclude_subgroups\": [universe_exclude_subgroups],\n",
    "    \"q_hat\": [q_hat],\n",
    "    \"coverage\": [metrics[\"coverage\"]],\n",
    "    \"avg_size\": [metrics[\"avg_size\"]],\n",
    "}"
   ]
  },
  {
   "cell_type": "code",
   "execution_count": 49,
   "id": "0d70d4b2",
   "metadata": {
    "execution": {
     "iopub.execute_input": "2025-08-19T19:11:16.266934Z",
     "iopub.status.busy": "2025-08-19T19:11:16.265960Z",
     "iopub.status.idle": "2025-08-19T19:11:16.342440Z",
     "shell.execute_reply": "2025-08-19T19:11:16.341560Z"
    },
    "papermill": {
     "duration": 0.091436,
     "end_time": "2025-08-19T19:11:16.344235",
     "exception": false,
     "start_time": "2025-08-19T19:11:16.252799",
     "status": "completed"
    },
    "tags": []
   },
   "outputs": [],
   "source": [
    "cp_metrics_df = pd.DataFrame(cp_metrics_dict)"
   ]
  },
  {
   "cell_type": "code",
   "execution_count": 50,
   "id": "b494403c",
   "metadata": {
    "execution": {
     "iopub.execute_input": "2025-08-19T19:11:16.372302Z",
     "iopub.status.busy": "2025-08-19T19:11:16.371824Z",
     "iopub.status.idle": "2025-08-19T19:11:16.391868Z",
     "shell.execute_reply": "2025-08-19T19:11:16.390859Z"
    },
    "papermill": {
     "duration": 0.035283,
     "end_time": "2025-08-19T19:11:16.393772",
     "exception": false,
     "start_time": "2025-08-19T19:11:16.358489",
     "status": "completed"
    },
    "tags": []
   },
   "outputs": [
    {
     "data": {
      "text/html": [
       "<div>\n",
       "<style scoped>\n",
       "    .dataframe tbody tr th:only-of-type {\n",
       "        vertical-align: middle;\n",
       "    }\n",
       "\n",
       "    .dataframe tbody tr th {\n",
       "        vertical-align: top;\n",
       "    }\n",
       "\n",
       "    .dataframe thead th {\n",
       "        text-align: right;\n",
       "    }\n",
       "</style>\n",
       "<table border=\"1\" class=\"dataframe\">\n",
       "  <thead>\n",
       "    <tr style=\"text-align: right;\">\n",
       "      <th></th>\n",
       "      <th>universe_id</th>\n",
       "      <th>universe_training_year</th>\n",
       "      <th>universe_training_size</th>\n",
       "      <th>universe_scale</th>\n",
       "      <th>universe_model</th>\n",
       "      <th>universe_exclude_features</th>\n",
       "      <th>universe_exclude_subgroups</th>\n",
       "      <th>q_hat</th>\n",
       "      <th>coverage</th>\n",
       "      <th>avg_size</th>\n",
       "    </tr>\n",
       "  </thead>\n",
       "  <tbody>\n",
       "    <tr>\n",
       "      <th>0</th>\n",
       "      <td>9b5f3b9933a0aa4a6612521468bf1594</td>\n",
       "      <td>2010_14</td>\n",
       "      <td>1k</td>\n",
       "      <td>do-not-scale</td>\n",
       "      <td>gbm</td>\n",
       "      <td>none</td>\n",
       "      <td>keep-all</td>\n",
       "      <td>0.746233</td>\n",
       "      <td>0.91263</td>\n",
       "      <td>1.176223</td>\n",
       "    </tr>\n",
       "  </tbody>\n",
       "</table>\n",
       "</div>"
      ],
      "text/plain": [
       "                        universe_id universe_training_year  \\\n",
       "0  9b5f3b9933a0aa4a6612521468bf1594                2010_14   \n",
       "\n",
       "  universe_training_size universe_scale universe_model  \\\n",
       "0                     1k   do-not-scale            gbm   \n",
       "\n",
       "  universe_exclude_features universe_exclude_subgroups     q_hat  coverage  \\\n",
       "0                      none                   keep-all  0.746233   0.91263   \n",
       "\n",
       "   avg_size  \n",
       "0  1.176223  "
      ]
     },
     "execution_count": 50,
     "metadata": {},
     "output_type": "execute_result"
    }
   ],
   "source": [
    "cp_metrics_df"
   ]
  },
  {
   "cell_type": "markdown",
   "id": "ed608b0b",
   "metadata": {
    "papermill": {
     "duration": 0.012492,
     "end_time": "2025-08-19T19:11:16.425097",
     "exception": false,
     "start_time": "2025-08-19T19:11:16.412605",
     "status": "completed"
    },
    "tags": []
   },
   "source": [
    "Conditional coverage & looking at subgroups"
   ]
  },
  {
   "cell_type": "code",
   "execution_count": 51,
   "id": "8968c366",
   "metadata": {
    "execution": {
     "iopub.execute_input": "2025-08-19T19:11:16.451556Z",
     "iopub.status.busy": "2025-08-19T19:11:16.451232Z",
     "iopub.status.idle": "2025-08-19T19:11:16.788750Z",
     "shell.execute_reply": "2025-08-19T19:11:16.787870Z"
    },
    "papermill": {
     "duration": 0.353087,
     "end_time": "2025-08-19T19:11:16.790461",
     "exception": false,
     "start_time": "2025-08-19T19:11:16.437374",
     "status": "completed"
    },
    "tags": []
   },
   "outputs": [],
   "source": [
    "from fairness_multiverse.conformal import build_cp_groups\n",
    "\n",
    "cp_groups_df = build_cp_groups(pred_sets, y_true, X_test.index, org_test)"
   ]
  },
  {
   "cell_type": "code",
   "execution_count": 52,
   "id": "292ddabf",
   "metadata": {
    "execution": {
     "iopub.execute_input": "2025-08-19T19:11:16.818885Z",
     "iopub.status.busy": "2025-08-19T19:11:16.818157Z",
     "iopub.status.idle": "2025-08-19T19:11:17.691837Z",
     "shell.execute_reply": "2025-08-19T19:11:17.690910Z"
    },
    "papermill": {
     "duration": 0.889539,
     "end_time": "2025-08-19T19:11:17.693382",
     "exception": false,
     "start_time": "2025-08-19T19:11:16.803843",
     "status": "completed"
    },
    "tags": []
   },
   "outputs": [],
   "source": [
    "# Define covered = 1 if true_label is in the predicted set\n",
    "cp_groups_df['covered'] = cp_groups_df.apply(\n",
    "    lambda r: int(r['true_label'] in r['pred_set']),\n",
    "    axis=1\n",
    ")"
   ]
  },
  {
   "cell_type": "code",
   "execution_count": 53,
   "id": "3a261692",
   "metadata": {
    "execution": {
     "iopub.execute_input": "2025-08-19T19:11:17.720191Z",
     "iopub.status.busy": "2025-08-19T19:11:17.719711Z",
     "iopub.status.idle": "2025-08-19T19:11:17.736776Z",
     "shell.execute_reply": "2025-08-19T19:11:17.735789Z"
    },
    "papermill": {
     "duration": 0.032194,
     "end_time": "2025-08-19T19:11:17.738449",
     "exception": false,
     "start_time": "2025-08-19T19:11:17.706255",
     "status": "completed"
    },
    "tags": []
   },
   "outputs": [],
   "source": [
    "subgroups = ['frau1','nongerman','nongerman_male','nongerman_female']\n",
    "\n",
    "# Conditional coverage for subgroup==1\n",
    "cond_coverage = {\n",
    "    g: cp_groups_df.loc[cp_groups_df[g]==1, 'covered'].mean()\n",
    "    for g in subgroups\n",
    "}"
   ]
  },
  {
   "cell_type": "code",
   "execution_count": 54,
   "id": "894fd600",
   "metadata": {
    "execution": {
     "iopub.execute_input": "2025-08-19T19:11:17.776711Z",
     "iopub.status.busy": "2025-08-19T19:11:17.775952Z",
     "iopub.status.idle": "2025-08-19T19:11:17.787092Z",
     "shell.execute_reply": "2025-08-19T19:11:17.786048Z"
    },
    "papermill": {
     "duration": 0.030745,
     "end_time": "2025-08-19T19:11:17.788647",
     "exception": false,
     "start_time": "2025-08-19T19:11:17.757902",
     "status": "completed"
    },
    "tags": []
   },
   "outputs": [
    {
     "data": {
      "text/plain": [
       "{'frau1': 0.9116053376465831,\n",
       " 'nongerman': 0.9077639925896817,\n",
       " 'nongerman_male': 0.9249752319193011,\n",
       " 'nongerman_female': 0.879284649776453}"
      ]
     },
     "execution_count": 54,
     "metadata": {},
     "output_type": "execute_result"
    }
   ],
   "source": [
    "cond_coverage"
   ]
  },
  {
   "cell_type": "code",
   "execution_count": 55,
   "id": "942895c7",
   "metadata": {
    "execution": {
     "iopub.execute_input": "2025-08-19T19:11:17.817954Z",
     "iopub.status.busy": "2025-08-19T19:11:17.817247Z",
     "iopub.status.idle": "2025-08-19T19:11:17.823801Z",
     "shell.execute_reply": "2025-08-19T19:11:17.823105Z"
    },
    "papermill": {
     "duration": 0.021258,
     "end_time": "2025-08-19T19:11:17.825218",
     "exception": false,
     "start_time": "2025-08-19T19:11:17.803960",
     "status": "completed"
    },
    "tags": []
   },
   "outputs": [],
   "source": [
    "for subgroup, cov in cond_coverage.items():\n",
    "    cp_metrics_df[f\"cov_{subgroup}\"] = cov"
   ]
  },
  {
   "cell_type": "code",
   "execution_count": 56,
   "id": "3970120f",
   "metadata": {
    "execution": {
     "iopub.execute_input": "2025-08-19T19:11:17.851087Z",
     "iopub.status.busy": "2025-08-19T19:11:17.850678Z",
     "iopub.status.idle": "2025-08-19T19:11:17.875546Z",
     "shell.execute_reply": "2025-08-19T19:11:17.874406Z"
    },
    "papermill": {
     "duration": 0.039438,
     "end_time": "2025-08-19T19:11:17.877103",
     "exception": false,
     "start_time": "2025-08-19T19:11:17.837665",
     "status": "completed"
    },
    "tags": []
   },
   "outputs": [
    {
     "data": {
      "text/html": [
       "<div>\n",
       "<style scoped>\n",
       "    .dataframe tbody tr th:only-of-type {\n",
       "        vertical-align: middle;\n",
       "    }\n",
       "\n",
       "    .dataframe tbody tr th {\n",
       "        vertical-align: top;\n",
       "    }\n",
       "\n",
       "    .dataframe thead th {\n",
       "        text-align: right;\n",
       "    }\n",
       "</style>\n",
       "<table border=\"1\" class=\"dataframe\">\n",
       "  <thead>\n",
       "    <tr style=\"text-align: right;\">\n",
       "      <th></th>\n",
       "      <th>universe_id</th>\n",
       "      <th>universe_training_year</th>\n",
       "      <th>universe_training_size</th>\n",
       "      <th>universe_scale</th>\n",
       "      <th>universe_model</th>\n",
       "      <th>universe_exclude_features</th>\n",
       "      <th>universe_exclude_subgroups</th>\n",
       "      <th>q_hat</th>\n",
       "      <th>coverage</th>\n",
       "      <th>avg_size</th>\n",
       "      <th>cov_frau1</th>\n",
       "      <th>cov_nongerman</th>\n",
       "      <th>cov_nongerman_male</th>\n",
       "      <th>cov_nongerman_female</th>\n",
       "    </tr>\n",
       "  </thead>\n",
       "  <tbody>\n",
       "    <tr>\n",
       "      <th>0</th>\n",
       "      <td>9b5f3b9933a0aa4a6612521468bf1594</td>\n",
       "      <td>2010_14</td>\n",
       "      <td>1k</td>\n",
       "      <td>do-not-scale</td>\n",
       "      <td>gbm</td>\n",
       "      <td>none</td>\n",
       "      <td>keep-all</td>\n",
       "      <td>0.746233</td>\n",
       "      <td>0.91263</td>\n",
       "      <td>1.176223</td>\n",
       "      <td>0.911605</td>\n",
       "      <td>0.907764</td>\n",
       "      <td>0.924975</td>\n",
       "      <td>0.879285</td>\n",
       "    </tr>\n",
       "  </tbody>\n",
       "</table>\n",
       "</div>"
      ],
      "text/plain": [
       "                        universe_id universe_training_year  \\\n",
       "0  9b5f3b9933a0aa4a6612521468bf1594                2010_14   \n",
       "\n",
       "  universe_training_size universe_scale universe_model  \\\n",
       "0                     1k   do-not-scale            gbm   \n",
       "\n",
       "  universe_exclude_features universe_exclude_subgroups     q_hat  coverage  \\\n",
       "0                      none                   keep-all  0.746233   0.91263   \n",
       "\n",
       "   avg_size  cov_frau1  cov_nongerman  cov_nongerman_male  \\\n",
       "0  1.176223   0.911605       0.907764            0.924975   \n",
       "\n",
       "   cov_nongerman_female  \n",
       "0              0.879285  "
      ]
     },
     "execution_count": 56,
     "metadata": {},
     "output_type": "execute_result"
    }
   ],
   "source": [
    "cp_metrics_df"
   ]
  },
  {
   "cell_type": "markdown",
   "id": "3fc519cc",
   "metadata": {
    "papermill": {
     "duration": 0.012331,
     "end_time": "2025-08-19T19:11:17.905539",
     "exception": false,
     "start_time": "2025-08-19T19:11:17.893208",
     "status": "completed"
    },
    "tags": []
   },
   "source": [
    "# (Fairness) Metrics"
   ]
  },
  {
   "cell_type": "code",
   "execution_count": 57,
   "id": "a2e5e155",
   "metadata": {
    "execution": {
     "iopub.execute_input": "2025-08-19T19:11:17.931603Z",
     "iopub.status.busy": "2025-08-19T19:11:17.931189Z",
     "iopub.status.idle": "2025-08-19T19:11:17.946553Z",
     "shell.execute_reply": "2025-08-19T19:11:17.945762Z"
    },
    "papermill": {
     "duration": 0.031302,
     "end_time": "2025-08-19T19:11:17.949082",
     "exception": false,
     "start_time": "2025-08-19T19:11:17.917780",
     "status": "completed"
    },
    "tags": []
   },
   "outputs": [],
   "source": [
    "colname_to_bin = \"maxdeutsch1\"\n",
    "majority_value = org_train[colname_to_bin].mode()[0]\n",
    "\n",
    "org_test[\"majmin\"] = np.where(org_test[colname_to_bin] == majority_value, \"majority\", \"minority\")"
   ]
  },
  {
   "cell_type": "code",
   "execution_count": 58,
   "id": "17e3e4d5",
   "metadata": {
    "execution": {
     "iopub.execute_input": "2025-08-19T19:11:17.991971Z",
     "iopub.status.busy": "2025-08-19T19:11:17.990845Z",
     "iopub.status.idle": "2025-08-19T19:11:19.789073Z",
     "shell.execute_reply": "2025-08-19T19:11:19.787754Z"
    },
    "papermill": {
     "duration": 1.815653,
     "end_time": "2025-08-19T19:11:19.790874",
     "exception": false,
     "start_time": "2025-08-19T19:11:17.975221",
     "status": "completed"
    },
    "tags": []
   },
   "outputs": [],
   "source": [
    "example_universe = universe.copy()\n",
    "example_universe[\"cutoff\"] = example_universe[\"cutoff\"][0]\n",
    "example_universe[\"eval_fairness_grouping\"] = example_universe[\"eval_fairness_grouping\"][0]\n",
    "fairness_dict, metric_frame = universe_analysis.compute_metrics(\n",
    "    example_universe,\n",
    "    y_pred_prob=probs_test,\n",
    "    y_test=y_true,\n",
    "    org_test=org_test,\n",
    ")"
   ]
  },
  {
   "cell_type": "markdown",
   "id": "1fb7a0e9",
   "metadata": {
    "papermill": {
     "duration": 0.026909,
     "end_time": "2025-08-19T19:11:19.833032",
     "exception": false,
     "start_time": "2025-08-19T19:11:19.806123",
     "status": "completed"
    },
    "tags": []
   },
   "source": [
    "# Overall"
   ]
  },
  {
   "cell_type": "markdown",
   "id": "be1784b1",
   "metadata": {
    "papermill": {
     "duration": 0.012751,
     "end_time": "2025-08-19T19:11:19.862941",
     "exception": false,
     "start_time": "2025-08-19T19:11:19.850190",
     "status": "completed"
    },
    "tags": []
   },
   "source": [
    "Main fairness target: Equalized Odds. Seems to be a better fit than equal opportunity, since we're not only interested in Y = 1. Seems to be a better fit than demographic parity, since we also care about accuracy, not just equal distribution of preds.\n",
    "\n",
    "Pick column for computation of fairness metrics\n",
    "\n",
    "Performance\n",
    "Overall performance measures, most interesting in relation to the measures split by group below"
   ]
  },
  {
   "cell_type": "code",
   "execution_count": 59,
   "id": "b7672bee",
   "metadata": {
    "execution": {
     "iopub.execute_input": "2025-08-19T19:11:19.890268Z",
     "iopub.status.busy": "2025-08-19T19:11:19.889795Z",
     "iopub.status.idle": "2025-08-19T19:11:19.897973Z",
     "shell.execute_reply": "2025-08-19T19:11:19.897279Z"
    },
    "papermill": {
     "duration": 0.024036,
     "end_time": "2025-08-19T19:11:19.899651",
     "exception": false,
     "start_time": "2025-08-19T19:11:19.875615",
     "status": "completed"
    },
    "tags": []
   },
   "outputs": [
    {
     "data": {
      "text/plain": [
       "accuracy                   0.222439\n",
       "balanced accuracy          0.544299\n",
       "f1                         0.243824\n",
       "precision                  0.139288\n",
       "false positive rate        0.888635\n",
       "false negative rate        0.022767\n",
       "selection rate             0.900000\n",
       "count                  89710.000000\n",
       "dtype: float64"
      ]
     },
     "execution_count": 59,
     "metadata": {},
     "output_type": "execute_result"
    }
   ],
   "source": [
    "metric_frame.overall"
   ]
  },
  {
   "cell_type": "markdown",
   "id": "d93333c9",
   "metadata": {
    "papermill": {
     "duration": 0.012403,
     "end_time": "2025-08-19T19:11:19.926662",
     "exception": false,
     "start_time": "2025-08-19T19:11:19.914259",
     "status": "completed"
    },
    "tags": []
   },
   "source": [
    "By Group"
   ]
  },
  {
   "cell_type": "code",
   "execution_count": 60,
   "id": "52256966",
   "metadata": {
    "execution": {
     "iopub.execute_input": "2025-08-19T19:11:19.953150Z",
     "iopub.status.busy": "2025-08-19T19:11:19.952742Z",
     "iopub.status.idle": "2025-08-19T19:11:19.966933Z",
     "shell.execute_reply": "2025-08-19T19:11:19.966196Z"
    },
    "papermill": {
     "duration": 0.029168,
     "end_time": "2025-08-19T19:11:19.968379",
     "exception": false,
     "start_time": "2025-08-19T19:11:19.939211",
     "status": "completed"
    },
    "tags": []
   },
   "outputs": [
    {
     "data": {
      "text/html": [
       "<div>\n",
       "<style scoped>\n",
       "    .dataframe tbody tr th:only-of-type {\n",
       "        vertical-align: middle;\n",
       "    }\n",
       "\n",
       "    .dataframe tbody tr th {\n",
       "        vertical-align: top;\n",
       "    }\n",
       "\n",
       "    .dataframe thead th {\n",
       "        text-align: right;\n",
       "    }\n",
       "</style>\n",
       "<table border=\"1\" class=\"dataframe\">\n",
       "  <thead>\n",
       "    <tr style=\"text-align: right;\">\n",
       "      <th></th>\n",
       "      <th>accuracy</th>\n",
       "      <th>balanced accuracy</th>\n",
       "      <th>f1</th>\n",
       "      <th>precision</th>\n",
       "      <th>false positive rate</th>\n",
       "      <th>false negative rate</th>\n",
       "      <th>selection rate</th>\n",
       "      <th>count</th>\n",
       "    </tr>\n",
       "    <tr>\n",
       "      <th>majmin</th>\n",
       "      <th></th>\n",
       "      <th></th>\n",
       "      <th></th>\n",
       "      <th></th>\n",
       "      <th></th>\n",
       "      <th></th>\n",
       "      <th></th>\n",
       "      <th></th>\n",
       "    </tr>\n",
       "  </thead>\n",
       "  <tbody>\n",
       "    <tr>\n",
       "      <th>majority</th>\n",
       "      <td>0.237054</td>\n",
       "      <td>0.550474</td>\n",
       "      <td>0.252751</td>\n",
       "      <td>0.145162</td>\n",
       "      <td>0.875529</td>\n",
       "      <td>0.023523</td>\n",
       "      <td>0.888868</td>\n",
       "      <td>69170.0</td>\n",
       "    </tr>\n",
       "    <tr>\n",
       "      <th>minority</th>\n",
       "      <td>0.173223</td>\n",
       "      <td>0.524112</td>\n",
       "      <td>0.214669</td>\n",
       "      <td>0.120534</td>\n",
       "      <td>0.931928</td>\n",
       "      <td>0.019848</td>\n",
       "      <td>0.937488</td>\n",
       "      <td>20540.0</td>\n",
       "    </tr>\n",
       "  </tbody>\n",
       "</table>\n",
       "</div>"
      ],
      "text/plain": [
       "          accuracy  balanced accuracy        f1  precision  \\\n",
       "majmin                                                       \n",
       "majority  0.237054           0.550474  0.252751   0.145162   \n",
       "minority  0.173223           0.524112  0.214669   0.120534   \n",
       "\n",
       "          false positive rate  false negative rate  selection rate    count  \n",
       "majmin                                                                       \n",
       "majority             0.875529             0.023523        0.888868  69170.0  \n",
       "minority             0.931928             0.019848        0.937488  20540.0  "
      ]
     },
     "execution_count": 60,
     "metadata": {},
     "output_type": "execute_result"
    }
   ],
   "source": [
    "metric_frame.by_group"
   ]
  },
  {
   "cell_type": "code",
   "execution_count": 61,
   "id": "6e6c20ae",
   "metadata": {
    "execution": {
     "iopub.execute_input": "2025-08-19T19:11:19.997009Z",
     "iopub.status.busy": "2025-08-19T19:11:19.996623Z",
     "iopub.status.idle": "2025-08-19T19:11:21.798145Z",
     "shell.execute_reply": "2025-08-19T19:11:21.796912Z"
    },
    "papermill": {
     "duration": 1.816572,
     "end_time": "2025-08-19T19:11:21.799729",
     "exception": false,
     "start_time": "2025-08-19T19:11:19.983157",
     "status": "completed"
    },
    "tags": []
   },
   "outputs": [
    {
     "data": {
      "text/plain": [
       "array([[<Axes: title={'center': 'accuracy'}, xlabel='majmin'>,\n",
       "        <Axes: title={'center': 'balanced accuracy'}, xlabel='majmin'>,\n",
       "        <Axes: title={'center': 'f1'}, xlabel='majmin'>],\n",
       "       [<Axes: title={'center': 'precision'}, xlabel='majmin'>,\n",
       "        <Axes: title={'center': 'false positive rate'}, xlabel='majmin'>,\n",
       "        <Axes: title={'center': 'false negative rate'}, xlabel='majmin'>],\n",
       "       [<Axes: title={'center': 'selection rate'}, xlabel='majmin'>,\n",
       "        <Axes: title={'center': 'count'}, xlabel='majmin'>,\n",
       "        <Axes: xlabel='majmin'>]], dtype=object)"
      ]
     },
     "execution_count": 61,
     "metadata": {},
     "output_type": "execute_result"
    },
    {
     "data": {
      "image/png": "[encoded data removed]",
      "text/plain": [
       "<Figure size 1200x800 with 9 Axes>"
      ]
     },
     "metadata": {},
     "output_type": "display_data"
    }
   ],
   "source": [
    "# In a graphic\n",
    "metric_frame.by_group.plot.bar(\n",
    "    subplots=True,\n",
    "    layout=[3, 3],\n",
    "    legend=False,\n",
    "    figsize=[12, 8],\n",
    "    title=\"Show all metrics\",\n",
    ")"
   ]
  },
  {
   "cell_type": "markdown",
   "id": "b2e433ae",
   "metadata": {
    "papermill": {
     "duration": 0.013824,
     "end_time": "2025-08-19T19:11:21.834732",
     "exception": false,
     "start_time": "2025-08-19T19:11:21.820908",
     "status": "completed"
    },
    "tags": []
   },
   "source": [
    "# Final Output"
   ]
  },
  {
   "cell_type": "code",
   "execution_count": 62,
   "id": "3871301e",
   "metadata": {
    "execution": {
     "iopub.execute_input": "2025-08-19T19:11:21.875723Z",
     "iopub.status.busy": "2025-08-19T19:11:21.871372Z",
     "iopub.status.idle": "2025-08-19T19:11:21.892087Z",
     "shell.execute_reply": "2025-08-19T19:11:21.891148Z"
    },
    "papermill": {
     "duration": 0.045767,
     "end_time": "2025-08-19T19:11:21.894279",
     "exception": false,
     "start_time": "2025-08-19T19:11:21.848512",
     "status": "completed"
    },
    "tags": []
   },
   "outputs": [
    {
     "data": {
      "text/plain": [
       "4"
      ]
     },
     "execution_count": 62,
     "metadata": {},
     "output_type": "execute_result"
    }
   ],
   "source": [
    "sub_universes = universe_analysis.generate_sub_universes()\n",
    "len(sub_universes)"
   ]
  },
  {
   "cell_type": "code",
   "execution_count": 63,
   "id": "d9cfdaca",
   "metadata": {
    "execution": {
     "iopub.execute_input": "2025-08-19T19:11:21.938243Z",
     "iopub.status.busy": "2025-08-19T19:11:21.937118Z",
     "iopub.status.idle": "2025-08-19T19:11:21.954592Z",
     "shell.execute_reply": "2025-08-19T19:11:21.953223Z"
    },
    "papermill": {
     "duration": 0.035599,
     "end_time": "2025-08-19T19:11:21.956611",
     "exception": false,
     "start_time": "2025-08-19T19:11:21.921012",
     "status": "completed"
    },
    "tags": []
   },
   "outputs": [],
   "source": [
    "def filter_sub_universe_data(sub_universe, org_test):\n",
    "    # Keep all rows — no filtering\n",
    "    keep_rows_mask = np.ones(org_test.shape[0], dtype=bool)\n",
    "\n",
    "    print(f\"[INFO] Keeping all rows: {keep_rows_mask.sum()} rows retained.\")\n",
    "    return keep_rows_mask"
   ]
  },
  {
   "cell_type": "code",
   "execution_count": 64,
   "id": "2bc31ac1",
   "metadata": {
    "execution": {
     "iopub.execute_input": "2025-08-19T19:11:22.000541Z",
     "iopub.status.busy": "2025-08-19T19:11:21.999314Z",
     "iopub.status.idle": "2025-08-19T19:11:29.045224Z",
     "shell.execute_reply": "2025-08-19T19:11:29.044202Z"
    },
    "papermill": {
     "duration": 7.068547,
     "end_time": "2025-08-19T19:11:29.046410",
     "exception": false,
     "start_time": "2025-08-19T19:11:21.977863",
     "status": "completed"
    },
    "tags": []
   },
   "outputs": [
    {
     "name": "stdout",
     "output_type": "stream",
     "text": [
      "Stopping execution_time clock.\n",
      "[INFO] Keeping all rows: 89710 rows retained.\n"
     ]
    },
    {
     "name": "stdout",
     "output_type": "stream",
     "text": [
      "[INFO] Keeping all rows: 89710 rows retained.\n"
     ]
    },
    {
     "name": "stdout",
     "output_type": "stream",
     "text": [
      "[INFO] Keeping all rows: 89710 rows retained.\n"
     ]
    },
    {
     "name": "stdout",
     "output_type": "stream",
     "text": [
      "[INFO] Keeping all rows: 89710 rows retained.\n"
     ]
    },
    {
     "data": {
      "text/html": [
       "<div>\n",
       "<style scoped>\n",
       "    .dataframe tbody tr th:only-of-type {\n",
       "        vertical-align: middle;\n",
       "    }\n",
       "\n",
       "    .dataframe tbody tr th {\n",
       "        vertical-align: top;\n",
       "    }\n",
       "\n",
       "    .dataframe thead th {\n",
       "        text-align: right;\n",
       "    }\n",
       "</style>\n",
       "<table border=\"1\" class=\"dataframe\">\n",
       "  <thead>\n",
       "    <tr style=\"text-align: right;\">\n",
       "      <th></th>\n",
       "      <th>run_no</th>\n",
       "      <th>universe_id</th>\n",
       "      <th>universe_settings</th>\n",
       "      <th>execution_time</th>\n",
       "      <th>test_size_n</th>\n",
       "      <th>test_size_frac</th>\n",
       "      <th>fair_main_equalized_odds_difference</th>\n",
       "      <th>fair_main_equalized_odds_ratio</th>\n",
       "      <th>fair_main_demographic_parity_difference</th>\n",
       "      <th>fair_main_demographic_parity_ratio</th>\n",
       "      <th>...</th>\n",
       "      <th>perf_grp_precision_0</th>\n",
       "      <th>perf_grp_precision_1</th>\n",
       "      <th>perf_grp_false positive rate_0</th>\n",
       "      <th>perf_grp_false positive rate_1</th>\n",
       "      <th>perf_grp_false negative rate_0</th>\n",
       "      <th>perf_grp_false negative rate_1</th>\n",
       "      <th>perf_grp_selection rate_0</th>\n",
       "      <th>perf_grp_selection rate_1</th>\n",
       "      <th>perf_grp_count_0</th>\n",
       "      <th>perf_grp_count_1</th>\n",
       "    </tr>\n",
       "  </thead>\n",
       "  <tbody>\n",
       "    <tr>\n",
       "      <th>0</th>\n",
       "      <td>3</td>\n",
       "      <td>9b5f3b9933a0aa4a6612521468bf1594</td>\n",
       "      <td>{\"cutoff\": \"quantile_0.1\", \"eval_fairness_grou...</td>\n",
       "      <td>23.501461</td>\n",
       "      <td>89710</td>\n",
       "      <td>1.0</td>\n",
       "      <td>0.056399</td>\n",
       "      <td>0.939481</td>\n",
       "      <td>0.048620</td>\n",
       "      <td>0.948138</td>\n",
       "      <td>...</td>\n",
       "      <td>NaN</td>\n",
       "      <td>NaN</td>\n",
       "      <td>NaN</td>\n",
       "      <td>NaN</td>\n",
       "      <td>NaN</td>\n",
       "      <td>NaN</td>\n",
       "      <td>NaN</td>\n",
       "      <td>NaN</td>\n",
       "      <td>NaN</td>\n",
       "      <td>NaN</td>\n",
       "    </tr>\n",
       "    <tr>\n",
       "      <th>0</th>\n",
       "      <td>3</td>\n",
       "      <td>9b5f3b9933a0aa4a6612521468bf1594</td>\n",
       "      <td>{\"cutoff\": \"quantile_0.1\", \"eval_fairness_grou...</td>\n",
       "      <td>23.501461</td>\n",
       "      <td>89710</td>\n",
       "      <td>1.0</td>\n",
       "      <td>0.056399</td>\n",
       "      <td>0.939481</td>\n",
       "      <td>0.048620</td>\n",
       "      <td>0.948138</td>\n",
       "      <td>...</td>\n",
       "      <td>0.120534</td>\n",
       "      <td>0.145162</td>\n",
       "      <td>0.931928</td>\n",
       "      <td>0.875529</td>\n",
       "      <td>0.019848</td>\n",
       "      <td>0.023523</td>\n",
       "      <td>0.937488</td>\n",
       "      <td>0.888868</td>\n",
       "      <td>20540.0</td>\n",
       "      <td>69170.0</td>\n",
       "    </tr>\n",
       "    <tr>\n",
       "      <th>0</th>\n",
       "      <td>3</td>\n",
       "      <td>9b5f3b9933a0aa4a6612521468bf1594</td>\n",
       "      <td>{\"cutoff\": \"quantile_0.25\", \"eval_fairness_gro...</td>\n",
       "      <td>23.501461</td>\n",
       "      <td>89710</td>\n",
       "      <td>1.0</td>\n",
       "      <td>0.136564</td>\n",
       "      <td>0.835260</td>\n",
       "      <td>0.118968</td>\n",
       "      <td>0.858661</td>\n",
       "      <td>...</td>\n",
       "      <td>NaN</td>\n",
       "      <td>NaN</td>\n",
       "      <td>NaN</td>\n",
       "      <td>NaN</td>\n",
       "      <td>NaN</td>\n",
       "      <td>NaN</td>\n",
       "      <td>NaN</td>\n",
       "      <td>NaN</td>\n",
       "      <td>NaN</td>\n",
       "      <td>NaN</td>\n",
       "    </tr>\n",
       "    <tr>\n",
       "      <th>0</th>\n",
       "      <td>3</td>\n",
       "      <td>9b5f3b9933a0aa4a6612521468bf1594</td>\n",
       "      <td>{\"cutoff\": \"quantile_0.25\", \"eval_fairness_gro...</td>\n",
       "      <td>23.501461</td>\n",
       "      <td>89710</td>\n",
       "      <td>1.0</td>\n",
       "      <td>0.136564</td>\n",
       "      <td>0.835260</td>\n",
       "      <td>0.118968</td>\n",
       "      <td>0.858661</td>\n",
       "      <td>...</td>\n",
       "      <td>0.128695</td>\n",
       "      <td>0.168584</td>\n",
       "      <td>0.828968</td>\n",
       "      <td>0.692404</td>\n",
       "      <td>0.060389</td>\n",
       "      <td>0.077899</td>\n",
       "      <td>0.841723</td>\n",
       "      <td>0.722756</td>\n",
       "      <td>20540.0</td>\n",
       "      <td>69170.0</td>\n",
       "    </tr>\n",
       "  </tbody>\n",
       "</table>\n",
       "<p>4 rows × 50 columns</p>\n",
       "</div>"
      ],
      "text/plain": [
       "  run_no                       universe_id  \\\n",
       "0      3  9b5f3b9933a0aa4a6612521468bf1594   \n",
       "0      3  9b5f3b9933a0aa4a6612521468bf1594   \n",
       "0      3  9b5f3b9933a0aa4a6612521468bf1594   \n",
       "0      3  9b5f3b9933a0aa4a6612521468bf1594   \n",
       "\n",
       "                                   universe_settings  execution_time  \\\n",
       "0  {\"cutoff\": \"quantile_0.1\", \"eval_fairness_grou...       23.501461   \n",
       "0  {\"cutoff\": \"quantile_0.1\", \"eval_fairness_grou...       23.501461   \n",
       "0  {\"cutoff\": \"quantile_0.25\", \"eval_fairness_gro...       23.501461   \n",
       "0  {\"cutoff\": \"quantile_0.25\", \"eval_fairness_gro...       23.501461   \n",
       "\n",
       "   test_size_n  test_size_frac  fair_main_equalized_odds_difference  \\\n",
       "0        89710             1.0                             0.056399   \n",
       "0        89710             1.0                             0.056399   \n",
       "0        89710             1.0                             0.136564   \n",
       "0        89710             1.0                             0.136564   \n",
       "\n",
       "   fair_main_equalized_odds_ratio  fair_main_demographic_parity_difference  \\\n",
       "0                        0.939481                                 0.048620   \n",
       "0                        0.939481                                 0.048620   \n",
       "0                        0.835260                                 0.118968   \n",
       "0                        0.835260                                 0.118968   \n",
       "\n",
       "   fair_main_demographic_parity_ratio  ...  perf_grp_precision_0  \\\n",
       "0                            0.948138  ...                   NaN   \n",
       "0                            0.948138  ...              0.120534   \n",
       "0                            0.858661  ...                   NaN   \n",
       "0                            0.858661  ...              0.128695   \n",
       "\n",
       "   perf_grp_precision_1  perf_grp_false positive rate_0  \\\n",
       "0                   NaN                             NaN   \n",
       "0              0.145162                        0.931928   \n",
       "0                   NaN                             NaN   \n",
       "0              0.168584                        0.828968   \n",
       "\n",
       "   perf_grp_false positive rate_1  perf_grp_false negative rate_0  \\\n",
       "0                             NaN                             NaN   \n",
       "0                        0.875529                        0.019848   \n",
       "0                             NaN                             NaN   \n",
       "0                        0.692404                        0.060389   \n",
       "\n",
       "   perf_grp_false negative rate_1  perf_grp_selection rate_0  \\\n",
       "0                             NaN                        NaN   \n",
       "0                        0.023523                   0.937488   \n",
       "0                             NaN                        NaN   \n",
       "0                        0.077899                   0.841723   \n",
       "\n",
       "   perf_grp_selection rate_1  perf_grp_count_0  perf_grp_count_1  \n",
       "0                        NaN               NaN               NaN  \n",
       "0                   0.888868           20540.0           69170.0  \n",
       "0                        NaN               NaN               NaN  \n",
       "0                   0.722756           20540.0           69170.0  \n",
       "\n",
       "[4 rows x 50 columns]"
      ]
     },
     "execution_count": 64,
     "metadata": {},
     "output_type": "execute_result"
    }
   ],
   "source": [
    "final_output = universe_analysis.generate_final_output(\n",
    "    y_pred_prob=probs_test,\n",
    "    y_test=y_true,\n",
    "    org_test=org_test,\n",
    "    filter_data=filter_sub_universe_data,\n",
    "    cp_metrics_df=cp_metrics_df,\n",
    "    save=True,\n",
    ")\n",
    "final_output"
   ]
  },
  {
   "cell_type": "code",
   "execution_count": null,
   "id": "8b80a1ff",
   "metadata": {
    "papermill": {
     "duration": 0.021085,
     "end_time": "2025-08-19T19:11:29.086041",
     "exception": false,
     "start_time": "2025-08-19T19:11:29.064956",
     "status": "completed"
    },
    "tags": []
   },
   "outputs": [],
   "source": []
  },
  {
   "cell_type": "code",
   "execution_count": null,
   "id": "275c9fad",
   "metadata": {
    "papermill": {
     "duration": 0.014265,
     "end_time": "2025-08-19T19:11:29.115282",
     "exception": false,
     "start_time": "2025-08-19T19:11:29.101017",
     "status": "completed"
    },
    "tags": []
   },
   "outputs": [],
   "source": []
  }
 ],
 "metadata": {
  "celltoolbar": "Tags",
  "kernelspec": {
   "display_name": "Python (CMA Fairness)",
   "language": "python",
   "name": "cma_fair_env"
  },
  "language_info": {
   "codemirror_mode": {
    "name": "ipython",
    "version": 3
   },
   "file_extension": ".py",
   "mimetype": "text/x-python",
   "name": "python",
   "nbconvert_exporter": "python",
   "pygments_lexer": "ipython3",
   "version": "3.10.12"
  },
  "papermill": {
   "default_parameters": {},
   "duration": 34.321905,
   "end_time": "2025-08-19T19:11:29.957917",
   "environment_variables": {},
   "exception": null,
   "input_path": "universe_analysis.ipynb",
   "output_path": "output/runs/3/notebooks/m_3-9b5f3b9933a0aa4a6612521468bf1594.ipynb",
   "parameters": {
    "output_dir": "output",
    "run_no": "3",
    "seed": "2023",
    "universe": "{\"cutoff\": [\"quantile_0.1\", \"quantile_0.25\"], \"eval_fairness_grouping\": [\"majority-minority\", \"nationality-all\"], \"exclude_features\": \"none\", \"exclude_subgroups\": \"keep-all\", \"model\": \"gbm\", \"scale\": \"do-not-scale\", \"training_size\": \"1k\", \"training_year\": \"2010_14\"}",
    "universe_id": "9b5f3b9933a0aa4a6612521468bf1594"
   },
   "start_time": "2025-08-19T19:10:55.636012",
   "version": "2.6.0"
  }
 },
 "nbformat": 4,
 "nbformat_minor": 5
}