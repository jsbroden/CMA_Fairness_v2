{
 "cells": [
  {
   "cell_type": "markdown",
   "id": "ef23dbb3",
   "metadata": {
    "papermill": {
     "duration": 0.021677,
     "end_time": "2025-08-19T18:05:13.689984",
     "exception": false,
     "start_time": "2025-08-19T18:05:13.668307",
     "status": "completed"
    },
    "tags": []
   },
   "source": [
    "# Setup"
   ]
  },
  {
   "cell_type": "code",
   "execution_count": 1,
   "id": "0bc8e7dc",
   "metadata": {
    "execution": {
     "iopub.execute_input": "2025-08-19T18:05:13.712152Z",
     "iopub.status.busy": "2025-08-19T18:05:13.711840Z",
     "iopub.status.idle": "2025-08-19T18:05:13.722376Z",
     "shell.execute_reply": "2025-08-19T18:05:13.721536Z"
    },
    "papermill": {
     "duration": 0.027996,
     "end_time": "2025-08-19T18:05:13.729391",
     "exception": false,
     "start_time": "2025-08-19T18:05:13.701395",
     "status": "completed"
    },
    "tags": []
   },
   "outputs": [
    {
     "name": "stdout",
     "output_type": "stream",
     "text": [
      "/dss/dsshome1/0C/ra93lal2/cma/CMA_Fairness_v2\n"
     ]
    },
    {
     "name": "stderr",
     "output_type": "stream",
     "text": [
      "/dss/dsshome1/0C/ra93lal2/.local/share/virtualenvs/CMA_Fairness_v2-3j10GkSs/lib/python3.10/site-packages/IPython/core/magics/osm.py:393: UserWarning: This is now an optional IPython functionality, using bookmarks requires you to install the `pickleshare` library.\n",
      "  bkms = self.shell.db.get('bookmarks', {})\n",
      "/dss/dsshome1/0C/ra93lal2/.local/share/virtualenvs/CMA_Fairness_v2-3j10GkSs/lib/python3.10/site-packages/IPython/core/magics/osm.py:417: UserWarning: This is now an optional IPython functionality, setting dhist requires you to install the `pickleshare` library.\n",
      "  self.shell.db['dhist'] = compress_dhist(dhist)[-100:]\n"
     ]
    }
   ],
   "source": [
    "%cd ~/cma/CMA_Fairness_v2"
   ]
  },
  {
   "cell_type": "markdown",
   "id": "9d235661",
   "metadata": {
    "papermill": {
     "duration": 0.00866,
     "end_time": "2025-08-19T18:05:13.752334",
     "exception": false,
     "start_time": "2025-08-19T18:05:13.743674",
     "status": "completed"
    },
    "tags": []
   },
   "source": [
    "The following cell holds the definition of our parameters, these values can be overriden by rendering the with e.g. the following command:\n",
    "\n",
    "papermill -p alpha 0.2 -p ratio 0.3 universe_analysis.ipynb output/test_run.ipynb"
   ]
  },
  {
   "cell_type": "code",
   "execution_count": 2,
   "id": "4a789d8e",
   "metadata": {
    "execution": {
     "iopub.execute_input": "2025-08-19T18:05:13.774097Z",
     "iopub.status.busy": "2025-08-19T18:05:13.773807Z",
     "iopub.status.idle": "2025-08-19T18:05:13.779738Z",
     "shell.execute_reply": "2025-08-19T18:05:13.778213Z"
    },
    "papermill": {
     "duration": 0.031113,
     "end_time": "2025-08-19T18:05:13.795330",
     "exception": false,
     "start_time": "2025-08-19T18:05:13.764217",
     "status": "completed"
    },
    "tags": []
   },
   "outputs": [
    {
     "name": "stdout",
     "output_type": "stream",
     "text": [
      "Current working directory: /dss/dsshome1/0C/ra93lal2/cma/CMA_Fairness_v2\n"
     ]
    }
   ],
   "source": [
    "import os\n",
    "print(\"Current working directory:\", os.getcwd())"
   ]
  },
  {
   "cell_type": "code",
   "execution_count": 3,
   "id": "4132aaed",
   "metadata": {
    "execution": {
     "iopub.execute_input": "2025-08-19T18:05:13.822331Z",
     "iopub.status.busy": "2025-08-19T18:05:13.821106Z",
     "iopub.status.idle": "2025-08-19T18:05:13.832079Z",
     "shell.execute_reply": "2025-08-19T18:05:13.830845Z"
    },
    "papermill": {
     "duration": 0.0238,
     "end_time": "2025-08-19T18:05:13.833811",
     "exception": false,
     "start_time": "2025-08-19T18:05:13.810011",
     "status": "completed"
    },
    "tags": [
     "parameters"
    ]
   },
   "outputs": [],
   "source": [
    "run_no = 0\n",
    "universe_id = \"test\"\n",
    "universe = {\n",
    "    \"training_size\": \"5k\", # \"25k\", \"5k\", \"1k\"\n",
    "    \"training_year\": \"2012_14\", # \"2014\", \"2012_14\", \"2010_14\"\n",
    "    \"scale\": \"scale\", # \"scale\", \"do-not-scale\",\n",
    "    \"model\": \"elasticnet\", # \"logreg\", \"penalized_logreg\", \"rf\", \"gbm\", \"elasticnet\"\n",
    "    \"cutoff\": [\"quantile_0.15\", \"quantile_0.30\"],\n",
    "    \"exclude_features\": \"age\", # \"none\", \"nationality\", \"sex\", \"nationality-sex\", \"age\"\n",
    "    \"exclude_subgroups\": \"drop-non-german\", # \"keep-all\", \"drop-non-german\"\n",
    "    \"eval_fairness_grouping\": [\"majority-minority\", \"nationality-all\"]\n",
    "}\n",
    "\n",
    "output_dir=\"./output\"\n",
    "seed=0"
   ]
  },
  {
   "cell_type": "code",
   "execution_count": 4,
   "id": "ac1db4e0",
   "metadata": {
    "execution": {
     "iopub.execute_input": "2025-08-19T18:05:13.857590Z",
     "iopub.status.busy": "2025-08-19T18:05:13.856378Z",
     "iopub.status.idle": "2025-08-19T18:05:13.865081Z",
     "shell.execute_reply": "2025-08-19T18:05:13.863811Z"
    },
    "papermill": {
     "duration": 0.02114,
     "end_time": "2025-08-19T18:05:13.866796",
     "exception": false,
     "start_time": "2025-08-19T18:05:13.845656",
     "status": "completed"
    },
    "tags": [
     "injected-parameters"
    ]
   },
   "outputs": [],
   "source": [
    "# Parameters\n",
    "universe_id = \"d9b1aab13a90fa48ecd4cbc5aa821279\"\n",
    "run_no = \"3\"\n",
    "universe = \"{\\\"cutoff\\\": [\\\"quantile_0.1\\\", \\\"quantile_0.25\\\"], \\\"eval_fairness_grouping\\\": [\\\"majority-minority\\\", \\\"nationality-all\\\"], \\\"exclude_features\\\": \\\"nationality-sex\\\", \\\"exclude_subgroups\\\": \\\"drop-non-german\\\", \\\"model\\\": \\\"rf\\\", \\\"scale\\\": \\\"scale\\\", \\\"training_size\\\": \\\"25k\\\", \\\"training_year\\\": \\\"2012_14\\\"}\"\n",
    "output_dir = \"output\"\n",
    "seed = \"2023\"\n"
   ]
  },
  {
   "cell_type": "code",
   "execution_count": 5,
   "id": "a5d7941f",
   "metadata": {
    "execution": {
     "iopub.execute_input": "2025-08-19T18:05:13.889634Z",
     "iopub.status.busy": "2025-08-19T18:05:13.888470Z",
     "iopub.status.idle": "2025-08-19T18:05:13.897131Z",
     "shell.execute_reply": "2025-08-19T18:05:13.895878Z"
    },
    "papermill": {
     "duration": 0.021007,
     "end_time": "2025-08-19T18:05:13.898777",
     "exception": false,
     "start_time": "2025-08-19T18:05:13.877770",
     "status": "completed"
    },
    "tags": []
   },
   "outputs": [],
   "source": [
    "import json\n",
    "if isinstance(universe, str):\n",
    "    universe = json.loads(universe)"
   ]
  },
  {
   "cell_type": "code",
   "execution_count": 6,
   "id": "7076ccb1",
   "metadata": {
    "execution": {
     "iopub.execute_input": "2025-08-19T18:05:13.921323Z",
     "iopub.status.busy": "2025-08-19T18:05:13.920533Z",
     "iopub.status.idle": "2025-08-19T18:05:13.992628Z",
     "shell.execute_reply": "2025-08-19T18:05:13.991861Z"
    },
    "papermill": {
     "duration": 0.085386,
     "end_time": "2025-08-19T18:05:13.994718",
     "exception": false,
     "start_time": "2025-08-19T18:05:13.909332",
     "status": "completed"
    },
    "tags": []
   },
   "outputs": [],
   "source": [
    "# Auto-reload the custom package\n",
    "%load_ext autoreload\n",
    "%autoreload 1\n",
    "%aimport fairness_multiverse"
   ]
  },
  {
   "cell_type": "code",
   "execution_count": 7,
   "id": "94c8eb93",
   "metadata": {
    "execution": {
     "iopub.execute_input": "2025-08-19T18:05:14.046667Z",
     "iopub.status.busy": "2025-08-19T18:05:14.044230Z",
     "iopub.status.idle": "2025-08-19T18:05:15.573246Z",
     "shell.execute_reply": "2025-08-19T18:05:15.571983Z"
    },
    "papermill": {
     "duration": 1.542176,
     "end_time": "2025-08-19T18:05:15.575137",
     "exception": false,
     "start_time": "2025-08-19T18:05:14.032961",
     "status": "completed"
    },
    "tags": []
   },
   "outputs": [],
   "source": [
    "from fairness_multiverse.universe import UniverseAnalysis\n",
    "\n",
    "universe_analysis = UniverseAnalysis(\n",
    "    run_no = run_no,\n",
    "    universe_id = universe_id,\n",
    "    universe = universe,\n",
    "    output_dir=output_dir,\n",
    ")"
   ]
  },
  {
   "cell_type": "code",
   "execution_count": 8,
   "id": "2a6381cf",
   "metadata": {
    "execution": {
     "iopub.execute_input": "2025-08-19T18:05:15.605872Z",
     "iopub.status.busy": "2025-08-19T18:05:15.605295Z",
     "iopub.status.idle": "2025-08-19T18:05:15.618848Z",
     "shell.execute_reply": "2025-08-19T18:05:15.616123Z"
    },
    "papermill": {
     "duration": 0.03165,
     "end_time": "2025-08-19T18:05:15.620817",
     "exception": false,
     "start_time": "2025-08-19T18:05:15.589167",
     "status": "completed"
    },
    "tags": []
   },
   "outputs": [
    {
     "name": "stdout",
     "output_type": "stream",
     "text": [
      "Using Seed: 2023\n"
     ]
    }
   ],
   "source": [
    "import numpy as np\n",
    "parsed_seed = int(seed)\n",
    "np.random.seed(parsed_seed)\n",
    "print(f\"Using Seed: {parsed_seed}\")"
   ]
  },
  {
   "cell_type": "markdown",
   "id": "b6e958b4",
   "metadata": {
    "papermill": {
     "duration": 0.009181,
     "end_time": "2025-08-19T18:05:15.641931",
     "exception": false,
     "start_time": "2025-08-19T18:05:15.632750",
     "status": "completed"
    },
    "tags": []
   },
   "source": [
    "# Loading Data"
   ]
  },
  {
   "cell_type": "code",
   "execution_count": 9,
   "id": "98701482",
   "metadata": {
    "execution": {
     "iopub.execute_input": "2025-08-19T18:05:15.661606Z",
     "iopub.status.busy": "2025-08-19T18:05:15.661140Z",
     "iopub.status.idle": "2025-08-19T18:05:25.662789Z",
     "shell.execute_reply": "2025-08-19T18:05:25.661722Z"
    },
    "papermill": {
     "duration": 10.013139,
     "end_time": "2025-08-19T18:05:25.664088",
     "exception": false,
     "start_time": "2025-08-19T18:05:15.650949",
     "status": "completed"
    },
    "tags": []
   },
   "outputs": [
    {
     "name": "stdout",
     "output_type": "stream",
     "text": [
      "Loading SIAB data from cache: data/siab_cached.csv.gz\n"
     ]
    },
    {
     "name": "stdout",
     "output_type": "stream",
     "text": [
      "(643690, 164)\n"
     ]
    }
   ],
   "source": [
    "from pathlib import Path\n",
    "import pandas as pd\n",
    "\n",
    "# File paths\n",
    "raw_file = Path(\"data/raw/siab.csv\")\n",
    "cache_file = Path(\"data/siab_cached.csv.gz\")\n",
    "\n",
    "# Ensure cache directory exists\n",
    "cache_file.parent.mkdir(parents=True, exist_ok=True)\n",
    "\n",
    "# Load with simple caching\n",
    "if cache_file.exists():\n",
    "    print(f\"Loading SIAB data from cache: {cache_file}\")\n",
    "    siab = pd.read_csv(cache_file, compression='gzip')\n",
    "else:\n",
    "    print(f\"Cache not found. Reading raw SIAB data: {raw_file}\")\n",
    "    siab = pd.read_csv(raw_file)\n",
    "    siab.to_csv(cache_file, index=False, compression='gzip')\n",
    "    print(f\"Cached SIAB data to: {cache_file}\")\n",
    "\n",
    "print(siab.shape)"
   ]
  },
  {
   "cell_type": "code",
   "execution_count": 10,
   "id": "058d2abb",
   "metadata": {
    "execution": {
     "iopub.execute_input": "2025-08-19T18:05:25.688130Z",
     "iopub.status.busy": "2025-08-19T18:05:25.687330Z",
     "iopub.status.idle": "2025-08-19T18:05:25.824891Z",
     "shell.execute_reply": "2025-08-19T18:05:25.824014Z"
    },
    "papermill": {
     "duration": 0.150329,
     "end_time": "2025-08-19T18:05:25.826943",
     "exception": false,
     "start_time": "2025-08-19T18:05:25.676614",
     "status": "completed"
    },
    "tags": []
   },
   "outputs": [
    {
     "data": {
      "text/html": [
       "<div>\n",
       "<style scoped>\n",
       "    .dataframe tbody tr th:only-of-type {\n",
       "        vertical-align: middle;\n",
       "    }\n",
       "\n",
       "    .dataframe tbody tr th {\n",
       "        vertical-align: top;\n",
       "    }\n",
       "\n",
       "    .dataframe thead th {\n",
       "        text-align: right;\n",
       "    }\n",
       "</style>\n",
       "<table border=\"1\" class=\"dataframe\">\n",
       "  <thead>\n",
       "    <tr style=\"text-align: right;\">\n",
       "      <th></th>\n",
       "      <th>persnr</th>\n",
       "      <th>year</th>\n",
       "      <th>nrEntry</th>\n",
       "      <th>ltue</th>\n",
       "      <th>employed_before</th>\n",
       "      <th>receipt_leh_before</th>\n",
       "      <th>receipt_lhg_before</th>\n",
       "      <th>se_before</th>\n",
       "      <th>ASU_notue_seeking_before</th>\n",
       "      <th>ASU_other_before</th>\n",
       "      <th>...</th>\n",
       "      <th>minijob_tot_dur_byage</th>\n",
       "      <th>ft_tot_dur_byage</th>\n",
       "      <th>befrist_tot_dur_byage</th>\n",
       "      <th>leih_tot_dur_byage</th>\n",
       "      <th>LHG_tot_dur_byage</th>\n",
       "      <th>LEH_tot_dur_byage</th>\n",
       "      <th>almp_tot_dur_byage</th>\n",
       "      <th>almp_aw_tot_dur_byage</th>\n",
       "      <th>se_tot_dur_byage</th>\n",
       "      <th>seeking1_tot_dur_byage</th>\n",
       "    </tr>\n",
       "  </thead>\n",
       "  <tbody>\n",
       "    <tr>\n",
       "      <th>0</th>\n",
       "      <td>7</td>\n",
       "      <td>2015</td>\n",
       "      <td>1</td>\n",
       "      <td>0</td>\n",
       "      <td>1</td>\n",
       "      <td>0</td>\n",
       "      <td>0</td>\n",
       "      <td>0</td>\n",
       "      <td>1</td>\n",
       "      <td>0</td>\n",
       "      <td>...</td>\n",
       "      <td>0.000000</td>\n",
       "      <td>0.000000</td>\n",
       "      <td>15.043478</td>\n",
       "      <td>0.000000</td>\n",
       "      <td>0.000000</td>\n",
       "      <td>0.000000</td>\n",
       "      <td>0.000000</td>\n",
       "      <td>0.000000</td>\n",
       "      <td>0.000000</td>\n",
       "      <td>0.000000</td>\n",
       "    </tr>\n",
       "    <tr>\n",
       "      <th>1</th>\n",
       "      <td>18</td>\n",
       "      <td>2010</td>\n",
       "      <td>1</td>\n",
       "      <td>1</td>\n",
       "      <td>0</td>\n",
       "      <td>0</td>\n",
       "      <td>0</td>\n",
       "      <td>0</td>\n",
       "      <td>0</td>\n",
       "      <td>0</td>\n",
       "      <td>...</td>\n",
       "      <td>0.000000</td>\n",
       "      <td>0.000000</td>\n",
       "      <td>0.000000</td>\n",
       "      <td>0.000000</td>\n",
       "      <td>0.000000</td>\n",
       "      <td>0.000000</td>\n",
       "      <td>0.000000</td>\n",
       "      <td>0.000000</td>\n",
       "      <td>0.000000</td>\n",
       "      <td>0.000000</td>\n",
       "    </tr>\n",
       "    <tr>\n",
       "      <th>2</th>\n",
       "      <td>18</td>\n",
       "      <td>2011</td>\n",
       "      <td>2</td>\n",
       "      <td>0</td>\n",
       "      <td>1</td>\n",
       "      <td>0</td>\n",
       "      <td>1</td>\n",
       "      <td>0</td>\n",
       "      <td>1</td>\n",
       "      <td>0</td>\n",
       "      <td>...</td>\n",
       "      <td>2.714286</td>\n",
       "      <td>2.714286</td>\n",
       "      <td>0.000000</td>\n",
       "      <td>0.000000</td>\n",
       "      <td>10.775510</td>\n",
       "      <td>0.000000</td>\n",
       "      <td>8.367347</td>\n",
       "      <td>0.000000</td>\n",
       "      <td>0.000000</td>\n",
       "      <td>9.836735</td>\n",
       "    </tr>\n",
       "    <tr>\n",
       "      <th>3</th>\n",
       "      <td>18</td>\n",
       "      <td>2012</td>\n",
       "      <td>3</td>\n",
       "      <td>0</td>\n",
       "      <td>1</td>\n",
       "      <td>0</td>\n",
       "      <td>1</td>\n",
       "      <td>0</td>\n",
       "      <td>1</td>\n",
       "      <td>0</td>\n",
       "      <td>...</td>\n",
       "      <td>4.200000</td>\n",
       "      <td>4.200000</td>\n",
       "      <td>0.000000</td>\n",
       "      <td>0.000000</td>\n",
       "      <td>12.100000</td>\n",
       "      <td>0.000000</td>\n",
       "      <td>9.400000</td>\n",
       "      <td>0.000000</td>\n",
       "      <td>0.000000</td>\n",
       "      <td>9.960000</td>\n",
       "    </tr>\n",
       "    <tr>\n",
       "      <th>4</th>\n",
       "      <td>18</td>\n",
       "      <td>2012</td>\n",
       "      <td>4</td>\n",
       "      <td>0</td>\n",
       "      <td>1</td>\n",
       "      <td>0</td>\n",
       "      <td>1</td>\n",
       "      <td>0</td>\n",
       "      <td>1</td>\n",
       "      <td>0</td>\n",
       "      <td>...</td>\n",
       "      <td>5.460000</td>\n",
       "      <td>5.460000</td>\n",
       "      <td>0.000000</td>\n",
       "      <td>0.000000</td>\n",
       "      <td>13.360000</td>\n",
       "      <td>0.000000</td>\n",
       "      <td>10.320000</td>\n",
       "      <td>0.000000</td>\n",
       "      <td>0.000000</td>\n",
       "      <td>10.280000</td>\n",
       "    </tr>\n",
       "    <tr>\n",
       "      <th>...</th>\n",
       "      <td>...</td>\n",
       "      <td>...</td>\n",
       "      <td>...</td>\n",
       "      <td>...</td>\n",
       "      <td>...</td>\n",
       "      <td>...</td>\n",
       "      <td>...</td>\n",
       "      <td>...</td>\n",
       "      <td>...</td>\n",
       "      <td>...</td>\n",
       "      <td>...</td>\n",
       "      <td>...</td>\n",
       "      <td>...</td>\n",
       "      <td>...</td>\n",
       "      <td>...</td>\n",
       "      <td>...</td>\n",
       "      <td>...</td>\n",
       "      <td>...</td>\n",
       "      <td>...</td>\n",
       "      <td>...</td>\n",
       "      <td>...</td>\n",
       "    </tr>\n",
       "    <tr>\n",
       "      <th>643685</th>\n",
       "      <td>1827860</td>\n",
       "      <td>2013</td>\n",
       "      <td>1</td>\n",
       "      <td>0</td>\n",
       "      <td>0</td>\n",
       "      <td>0</td>\n",
       "      <td>1</td>\n",
       "      <td>0</td>\n",
       "      <td>0</td>\n",
       "      <td>1</td>\n",
       "      <td>...</td>\n",
       "      <td>0.000000</td>\n",
       "      <td>0.000000</td>\n",
       "      <td>0.000000</td>\n",
       "      <td>0.000000</td>\n",
       "      <td>0.612903</td>\n",
       "      <td>0.000000</td>\n",
       "      <td>0.000000</td>\n",
       "      <td>0.000000</td>\n",
       "      <td>0.000000</td>\n",
       "      <td>0.000000</td>\n",
       "    </tr>\n",
       "    <tr>\n",
       "      <th>643686</th>\n",
       "      <td>1827860</td>\n",
       "      <td>2015</td>\n",
       "      <td>2</td>\n",
       "      <td>1</td>\n",
       "      <td>0</td>\n",
       "      <td>0</td>\n",
       "      <td>1</td>\n",
       "      <td>0</td>\n",
       "      <td>1</td>\n",
       "      <td>0</td>\n",
       "      <td>...</td>\n",
       "      <td>0.000000</td>\n",
       "      <td>0.000000</td>\n",
       "      <td>0.212121</td>\n",
       "      <td>0.212121</td>\n",
       "      <td>17.363636</td>\n",
       "      <td>0.000000</td>\n",
       "      <td>8.909091</td>\n",
       "      <td>0.000000</td>\n",
       "      <td>0.000000</td>\n",
       "      <td>7.121212</td>\n",
       "    </tr>\n",
       "    <tr>\n",
       "      <th>643687</th>\n",
       "      <td>1827860</td>\n",
       "      <td>2016</td>\n",
       "      <td>3</td>\n",
       "      <td>1</td>\n",
       "      <td>0</td>\n",
       "      <td>0</td>\n",
       "      <td>1</td>\n",
       "      <td>1</td>\n",
       "      <td>0</td>\n",
       "      <td>1</td>\n",
       "      <td>...</td>\n",
       "      <td>0.000000</td>\n",
       "      <td>0.000000</td>\n",
       "      <td>0.294118</td>\n",
       "      <td>0.205882</td>\n",
       "      <td>34.705882</td>\n",
       "      <td>0.000000</td>\n",
       "      <td>10.352941</td>\n",
       "      <td>1.705882</td>\n",
       "      <td>1.705882</td>\n",
       "      <td>23.911765</td>\n",
       "    </tr>\n",
       "    <tr>\n",
       "      <th>643688</th>\n",
       "      <td>1827869</td>\n",
       "      <td>2013</td>\n",
       "      <td>1</td>\n",
       "      <td>1</td>\n",
       "      <td>1</td>\n",
       "      <td>0</td>\n",
       "      <td>0</td>\n",
       "      <td>0</td>\n",
       "      <td>1</td>\n",
       "      <td>0</td>\n",
       "      <td>...</td>\n",
       "      <td>0.000000</td>\n",
       "      <td>0.000000</td>\n",
       "      <td>0.000000</td>\n",
       "      <td>0.000000</td>\n",
       "      <td>0.000000</td>\n",
       "      <td>0.525424</td>\n",
       "      <td>0.000000</td>\n",
       "      <td>0.000000</td>\n",
       "      <td>0.000000</td>\n",
       "      <td>0.000000</td>\n",
       "    </tr>\n",
       "    <tr>\n",
       "      <th>643689</th>\n",
       "      <td>1827869</td>\n",
       "      <td>2014</td>\n",
       "      <td>2</td>\n",
       "      <td>0</td>\n",
       "      <td>0</td>\n",
       "      <td>1</td>\n",
       "      <td>0</td>\n",
       "      <td>0</td>\n",
       "      <td>1</td>\n",
       "      <td>0</td>\n",
       "      <td>...</td>\n",
       "      <td>0.000000</td>\n",
       "      <td>0.666667</td>\n",
       "      <td>0.666667</td>\n",
       "      <td>0.000000</td>\n",
       "      <td>0.000000</td>\n",
       "      <td>8.950000</td>\n",
       "      <td>1.033333</td>\n",
       "      <td>0.083333</td>\n",
       "      <td>0.083333</td>\n",
       "      <td>8.133333</td>\n",
       "    </tr>\n",
       "  </tbody>\n",
       "</table>\n",
       "<p>643690 rows × 164 columns</p>\n",
       "</div>"
      ],
      "text/plain": [
       "         persnr  year  nrEntry  ltue  employed_before  receipt_leh_before  \\\n",
       "0             7  2015        1     0                1                   0   \n",
       "1            18  2010        1     1                0                   0   \n",
       "2            18  2011        2     0                1                   0   \n",
       "3            18  2012        3     0                1                   0   \n",
       "4            18  2012        4     0                1                   0   \n",
       "...         ...   ...      ...   ...              ...                 ...   \n",
       "643685  1827860  2013        1     0                0                   0   \n",
       "643686  1827860  2015        2     1                0                   0   \n",
       "643687  1827860  2016        3     1                0                   0   \n",
       "643688  1827869  2013        1     1                1                   0   \n",
       "643689  1827869  2014        2     0                0                   1   \n",
       "\n",
       "        receipt_lhg_before  se_before  ASU_notue_seeking_before  \\\n",
       "0                        0          0                         1   \n",
       "1                        0          0                         0   \n",
       "2                        1          0                         1   \n",
       "3                        1          0                         1   \n",
       "4                        1          0                         1   \n",
       "...                    ...        ...                       ...   \n",
       "643685                   1          0                         0   \n",
       "643686                   1          0                         1   \n",
       "643687                   1          1                         0   \n",
       "643688                   0          0                         1   \n",
       "643689                   0          0                         1   \n",
       "\n",
       "        ASU_other_before  ...  minijob_tot_dur_byage  ft_tot_dur_byage  \\\n",
       "0                      0  ...               0.000000          0.000000   \n",
       "1                      0  ...               0.000000          0.000000   \n",
       "2                      0  ...               2.714286          2.714286   \n",
       "3                      0  ...               4.200000          4.200000   \n",
       "4                      0  ...               5.460000          5.460000   \n",
       "...                  ...  ...                    ...               ...   \n",
       "643685                 1  ...               0.000000          0.000000   \n",
       "643686                 0  ...               0.000000          0.000000   \n",
       "643687                 1  ...               0.000000          0.000000   \n",
       "643688                 0  ...               0.000000          0.000000   \n",
       "643689                 0  ...               0.000000          0.666667   \n",
       "\n",
       "        befrist_tot_dur_byage  leih_tot_dur_byage  LHG_tot_dur_byage  \\\n",
       "0                   15.043478            0.000000           0.000000   \n",
       "1                    0.000000            0.000000           0.000000   \n",
       "2                    0.000000            0.000000          10.775510   \n",
       "3                    0.000000            0.000000          12.100000   \n",
       "4                    0.000000            0.000000          13.360000   \n",
       "...                       ...                 ...                ...   \n",
       "643685               0.000000            0.000000           0.612903   \n",
       "643686               0.212121            0.212121          17.363636   \n",
       "643687               0.294118            0.205882          34.705882   \n",
       "643688               0.000000            0.000000           0.000000   \n",
       "643689               0.666667            0.000000           0.000000   \n",
       "\n",
       "        LEH_tot_dur_byage  almp_tot_dur_byage  almp_aw_tot_dur_byage  \\\n",
       "0                0.000000            0.000000               0.000000   \n",
       "1                0.000000            0.000000               0.000000   \n",
       "2                0.000000            8.367347               0.000000   \n",
       "3                0.000000            9.400000               0.000000   \n",
       "4                0.000000           10.320000               0.000000   \n",
       "...                   ...                 ...                    ...   \n",
       "643685           0.000000            0.000000               0.000000   \n",
       "643686           0.000000            8.909091               0.000000   \n",
       "643687           0.000000           10.352941               1.705882   \n",
       "643688           0.525424            0.000000               0.000000   \n",
       "643689           8.950000            1.033333               0.083333   \n",
       "\n",
       "        se_tot_dur_byage  seeking1_tot_dur_byage  \n",
       "0               0.000000                0.000000  \n",
       "1               0.000000                0.000000  \n",
       "2               0.000000                9.836735  \n",
       "3               0.000000                9.960000  \n",
       "4               0.000000               10.280000  \n",
       "...                  ...                     ...  \n",
       "643685          0.000000                0.000000  \n",
       "643686          0.000000                7.121212  \n",
       "643687          1.705882               23.911765  \n",
       "643688          0.000000                0.000000  \n",
       "643689          0.083333                8.133333  \n",
       "\n",
       "[643690 rows x 164 columns]"
      ]
     },
     "execution_count": 10,
     "metadata": {},
     "output_type": "execute_result"
    }
   ],
   "source": [
    "siab"
   ]
  },
  {
   "cell_type": "markdown",
   "id": "1f87e805",
   "metadata": {
    "papermill": {
     "duration": 0.010603,
     "end_time": "2025-08-19T18:05:25.856946",
     "exception": false,
     "start_time": "2025-08-19T18:05:25.846343",
     "status": "completed"
    },
    "tags": []
   },
   "source": [
    "# Splitting Data and Setting Training Data Size"
   ]
  },
  {
   "cell_type": "code",
   "execution_count": 11,
   "id": "910ae358",
   "metadata": {
    "execution": {
     "iopub.execute_input": "2025-08-19T18:05:25.878764Z",
     "iopub.status.busy": "2025-08-19T18:05:25.877629Z",
     "iopub.status.idle": "2025-08-19T18:05:26.582210Z",
     "shell.execute_reply": "2025-08-19T18:05:26.581149Z"
    },
    "papermill": {
     "duration": 0.718822,
     "end_time": "2025-08-19T18:05:26.585344",
     "exception": false,
     "start_time": "2025-08-19T18:05:25.866522",
     "status": "completed"
    },
    "tags": []
   },
   "outputs": [],
   "source": [
    "from fairness_multiverse.universe import sample_by_year_size\n",
    "\n",
    "siab_train = sample_by_year_size(siab,\n",
    "                               training_year=universe[\"training_year\"],\n",
    "                               training_size=universe[\"training_size\"])"
   ]
  },
  {
   "cell_type": "code",
   "execution_count": 12,
   "id": "919c8ff5",
   "metadata": {
    "execution": {
     "iopub.execute_input": "2025-08-19T18:05:26.621296Z",
     "iopub.status.busy": "2025-08-19T18:05:26.620137Z",
     "iopub.status.idle": "2025-08-19T18:05:26.629536Z",
     "shell.execute_reply": "2025-08-19T18:05:26.628170Z"
    },
    "papermill": {
     "duration": 0.023791,
     "end_time": "2025-08-19T18:05:26.631084",
     "exception": false,
     "start_time": "2025-08-19T18:05:26.607293",
     "status": "completed"
    },
    "tags": []
   },
   "outputs": [
    {
     "data": {
      "text/plain": [
       "(25000, 164)"
      ]
     },
     "execution_count": 12,
     "metadata": {},
     "output_type": "execute_result"
    }
   ],
   "source": [
    "siab_train.shape"
   ]
  },
  {
   "cell_type": "code",
   "execution_count": 13,
   "id": "feb13bf4",
   "metadata": {
    "execution": {
     "iopub.execute_input": "2025-08-19T18:05:26.653668Z",
     "iopub.status.busy": "2025-08-19T18:05:26.652597Z",
     "iopub.status.idle": "2025-08-19T18:05:26.666831Z",
     "shell.execute_reply": "2025-08-19T18:05:26.665820Z"
    },
    "papermill": {
     "duration": 0.02706,
     "end_time": "2025-08-19T18:05:26.668608",
     "exception": false,
     "start_time": "2025-08-19T18:05:26.641548",
     "status": "completed"
    },
    "tags": []
   },
   "outputs": [
    {
     "data": {
      "text/plain": [
       "year\n",
       "2012    8334\n",
       "2013    8333\n",
       "2014    8333\n",
       "dtype: int64"
      ]
     },
     "metadata": {},
     "output_type": "display_data"
    }
   ],
   "source": [
    "display(siab_train.groupby(\"year\").size())"
   ]
  },
  {
   "cell_type": "code",
   "execution_count": 14,
   "id": "0997782f",
   "metadata": {
    "execution": {
     "iopub.execute_input": "2025-08-19T18:05:26.693196Z",
     "iopub.status.busy": "2025-08-19T18:05:26.692515Z",
     "iopub.status.idle": "2025-08-19T18:05:26.970795Z",
     "shell.execute_reply": "2025-08-19T18:05:26.970042Z"
    },
    "papermill": {
     "duration": 0.291693,
     "end_time": "2025-08-19T18:05:26.972455",
     "exception": false,
     "start_time": "2025-08-19T18:05:26.680762",
     "status": "completed"
    },
    "tags": []
   },
   "outputs": [],
   "source": [
    "#siab_train = siab_s[siab_s.year < 2015]\n",
    "siab_calib = siab[siab.year == 2015]\n",
    "siab_test = siab[siab.year == 2016]"
   ]
  },
  {
   "cell_type": "code",
   "execution_count": 15,
   "id": "2c1e4012",
   "metadata": {
    "execution": {
     "iopub.execute_input": "2025-08-19T18:05:26.997691Z",
     "iopub.status.busy": "2025-08-19T18:05:26.996981Z",
     "iopub.status.idle": "2025-08-19T18:05:27.004426Z",
     "shell.execute_reply": "2025-08-19T18:05:27.003080Z"
    },
    "papermill": {
     "duration": 0.025496,
     "end_time": "2025-08-19T18:05:27.010192",
     "exception": false,
     "start_time": "2025-08-19T18:05:26.984696",
     "status": "completed"
    },
    "tags": []
   },
   "outputs": [],
   "source": [
    "#siab_calib.shape"
   ]
  },
  {
   "cell_type": "code",
   "execution_count": 16,
   "id": "f66b54ca",
   "metadata": {
    "execution": {
     "iopub.execute_input": "2025-08-19T18:05:27.050799Z",
     "iopub.status.busy": "2025-08-19T18:05:27.050342Z",
     "iopub.status.idle": "2025-08-19T18:05:27.054817Z",
     "shell.execute_reply": "2025-08-19T18:05:27.054068Z"
    },
    "papermill": {
     "duration": 0.022196,
     "end_time": "2025-08-19T18:05:27.056462",
     "exception": false,
     "start_time": "2025-08-19T18:05:27.034266",
     "status": "completed"
    },
    "tags": []
   },
   "outputs": [],
   "source": [
    "#siab_test.shape"
   ]
  },
  {
   "cell_type": "code",
   "execution_count": 17,
   "id": "27e4384d",
   "metadata": {
    "execution": {
     "iopub.execute_input": "2025-08-19T18:05:27.077891Z",
     "iopub.status.busy": "2025-08-19T18:05:27.077476Z",
     "iopub.status.idle": "2025-08-19T18:05:27.090240Z",
     "shell.execute_reply": "2025-08-19T18:05:27.089619Z"
    },
    "papermill": {
     "duration": 0.025764,
     "end_time": "2025-08-19T18:05:27.092659",
     "exception": false,
     "start_time": "2025-08-19T18:05:27.066895",
     "status": "completed"
    },
    "tags": []
   },
   "outputs": [],
   "source": [
    "X_train = siab_train.iloc[:,4:164]\n",
    "y_train = siab_train.iloc[:, [3]]"
   ]
  },
  {
   "cell_type": "code",
   "execution_count": 18,
   "id": "08ee8389",
   "metadata": {
    "execution": {
     "iopub.execute_input": "2025-08-19T18:05:27.129920Z",
     "iopub.status.busy": "2025-08-19T18:05:27.128871Z",
     "iopub.status.idle": "2025-08-19T18:05:27.187752Z",
     "shell.execute_reply": "2025-08-19T18:05:27.186972Z"
    },
    "papermill": {
     "duration": 0.074787,
     "end_time": "2025-08-19T18:05:27.190460",
     "exception": false,
     "start_time": "2025-08-19T18:05:27.115673",
     "status": "completed"
    },
    "tags": []
   },
   "outputs": [],
   "source": [
    "X_calib = siab_calib.iloc[:,4:164]\n",
    "y_calib = siab_calib.iloc[:, [3]]"
   ]
  },
  {
   "cell_type": "code",
   "execution_count": 19,
   "id": "b7ff42e0",
   "metadata": {
    "execution": {
     "iopub.execute_input": "2025-08-19T18:05:27.229490Z",
     "iopub.status.busy": "2025-08-19T18:05:27.227590Z",
     "iopub.status.idle": "2025-08-19T18:05:27.283792Z",
     "shell.execute_reply": "2025-08-19T18:05:27.283098Z"
    },
    "papermill": {
     "duration": 0.071271,
     "end_time": "2025-08-19T18:05:27.285219",
     "exception": false,
     "start_time": "2025-08-19T18:05:27.213948",
     "status": "completed"
    },
    "tags": []
   },
   "outputs": [],
   "source": [
    "X_test = siab_test.iloc[:,4:164]\n",
    "y_true = siab_test.iloc[:, [3]]"
   ]
  },
  {
   "cell_type": "code",
   "execution_count": 20,
   "id": "0275101e",
   "metadata": {
    "execution": {
     "iopub.execute_input": "2025-08-19T18:05:27.324220Z",
     "iopub.status.busy": "2025-08-19T18:05:27.323669Z",
     "iopub.status.idle": "2025-08-19T18:05:27.430843Z",
     "shell.execute_reply": "2025-08-19T18:05:27.429792Z"
    },
    "papermill": {
     "duration": 0.135939,
     "end_time": "2025-08-19T18:05:27.433290",
     "exception": false,
     "start_time": "2025-08-19T18:05:27.297351",
     "status": "completed"
    },
    "tags": []
   },
   "outputs": [],
   "source": [
    "# Auxiliary data needed downstream in the pipeline\n",
    "\n",
    "org_train = X_train.copy()\n",
    "org_test = X_test.copy()\n",
    "org_calib = X_calib.copy()"
   ]
  },
  {
   "cell_type": "markdown",
   "id": "b461e618",
   "metadata": {
    "papermill": {
     "duration": 0.010357,
     "end_time": "2025-08-19T18:05:27.457669",
     "exception": false,
     "start_time": "2025-08-19T18:05:27.447312",
     "status": "completed"
    },
    "tags": []
   },
   "source": [
    "# Preprocessing Data"
   ]
  },
  {
   "cell_type": "code",
   "execution_count": 21,
   "id": "78e74c4b",
   "metadata": {
    "execution": {
     "iopub.execute_input": "2025-08-19T18:05:27.479854Z",
     "iopub.status.busy": "2025-08-19T18:05:27.479347Z",
     "iopub.status.idle": "2025-08-19T18:05:27.486761Z",
     "shell.execute_reply": "2025-08-19T18:05:27.485438Z"
    },
    "papermill": {
     "duration": 0.020292,
     "end_time": "2025-08-19T18:05:27.488402",
     "exception": false,
     "start_time": "2025-08-19T18:05:27.468110",
     "status": "completed"
    },
    "tags": []
   },
   "outputs": [],
   "source": [
    "# EXCLUDE PROTECTED FEATURES\n",
    "# --------------------------\n",
    "\n",
    "excluded_features = universe[\"exclude_features\"].split(\"-\")\n",
    "excluded_features_dictionary = {\n",
    "    \"nationality\": [\"maxdeutsch1\", \"maxdeutsch.Missing.\"],\n",
    "    \"sex\": [\"frau1\"],\n",
    "    \"age\": [\"age\"],\n",
    "}"
   ]
  },
  {
   "cell_type": "code",
   "execution_count": 22,
   "id": "f8e63555",
   "metadata": {
    "execution": {
     "iopub.execute_input": "2025-08-19T18:05:27.524675Z",
     "iopub.status.busy": "2025-08-19T18:05:27.511585Z",
     "iopub.status.idle": "2025-08-19T18:05:27.529127Z",
     "shell.execute_reply": "2025-08-19T18:05:27.528158Z"
    },
    "papermill": {
     "duration": 0.031214,
     "end_time": "2025-08-19T18:05:27.530616",
     "exception": false,
     "start_time": "2025-08-19T18:05:27.499402",
     "status": "completed"
    },
    "tags": []
   },
   "outputs": [],
   "source": [
    "excluded_features_columns = [\n",
    "    excluded_features_dictionary[f] for f in excluded_features if len(f) > 0 and f != \"none\"\n",
    "]"
   ]
  },
  {
   "cell_type": "code",
   "execution_count": 23,
   "id": "da781f7c",
   "metadata": {
    "execution": {
     "iopub.execute_input": "2025-08-19T18:05:27.575610Z",
     "iopub.status.busy": "2025-08-19T18:05:27.574331Z",
     "iopub.status.idle": "2025-08-19T18:05:27.580496Z",
     "shell.execute_reply": "2025-08-19T18:05:27.579481Z"
    },
    "papermill": {
     "duration": 0.036465,
     "end_time": "2025-08-19T18:05:27.581783",
     "exception": false,
     "start_time": "2025-08-19T18:05:27.545318",
     "status": "completed"
    },
    "tags": []
   },
   "outputs": [],
   "source": [
    "from fairness_multiverse.universe import flatten_once\n",
    "\n",
    "excluded_features_columns = flatten_once(excluded_features_columns)"
   ]
  },
  {
   "cell_type": "code",
   "execution_count": 24,
   "id": "37fef0f0",
   "metadata": {
    "execution": {
     "iopub.execute_input": "2025-08-19T18:05:27.607990Z",
     "iopub.status.busy": "2025-08-19T18:05:27.606855Z",
     "iopub.status.idle": "2025-08-19T18:05:27.628616Z",
     "shell.execute_reply": "2025-08-19T18:05:27.627118Z"
    },
    "papermill": {
     "duration": 0.035801,
     "end_time": "2025-08-19T18:05:27.630575",
     "exception": false,
     "start_time": "2025-08-19T18:05:27.594774",
     "status": "completed"
    },
    "tags": []
   },
   "outputs": [
    {
     "name": "stdout",
     "output_type": "stream",
     "text": [
      "Dropping features: ['maxdeutsch1', 'maxdeutsch.Missing.', 'frau1']\n"
     ]
    }
   ],
   "source": [
    "if len(excluded_features_columns) > 0:\n",
    "    print(f\"Dropping features: {excluded_features_columns}\")\n",
    "    X_train.drop(excluded_features_columns, axis=1, inplace=True)"
   ]
  },
  {
   "cell_type": "code",
   "execution_count": 25,
   "id": "d029e3e9",
   "metadata": {
    "execution": {
     "iopub.execute_input": "2025-08-19T18:05:27.662482Z",
     "iopub.status.busy": "2025-08-19T18:05:27.661006Z",
     "iopub.status.idle": "2025-08-19T18:05:27.721391Z",
     "shell.execute_reply": "2025-08-19T18:05:27.719529Z"
    },
    "papermill": {
     "duration": 0.075281,
     "end_time": "2025-08-19T18:05:27.723208",
     "exception": false,
     "start_time": "2025-08-19T18:05:27.647927",
     "status": "completed"
    },
    "tags": []
   },
   "outputs": [
    {
     "name": "stdout",
     "output_type": "stream",
     "text": [
      "Dropping features: ['maxdeutsch1', 'maxdeutsch.Missing.', 'frau1']\n"
     ]
    }
   ],
   "source": [
    "if len(excluded_features_columns) > 0:\n",
    "    print(f\"Dropping features: {excluded_features_columns}\")\n",
    "    X_test.drop(excluded_features_columns, axis=1, inplace=True)"
   ]
  },
  {
   "cell_type": "code",
   "execution_count": 26,
   "id": "01d571f0",
   "metadata": {
    "execution": {
     "iopub.execute_input": "2025-08-19T18:05:27.768953Z",
     "iopub.status.busy": "2025-08-19T18:05:27.767752Z",
     "iopub.status.idle": "2025-08-19T18:05:27.824900Z",
     "shell.execute_reply": "2025-08-19T18:05:27.823114Z"
    },
    "papermill": {
     "duration": 0.091184,
     "end_time": "2025-08-19T18:05:27.829178",
     "exception": false,
     "start_time": "2025-08-19T18:05:27.737994",
     "status": "completed"
    },
    "tags": []
   },
   "outputs": [
    {
     "name": "stdout",
     "output_type": "stream",
     "text": [
      "Dropping features: ['maxdeutsch1', 'maxdeutsch.Missing.', 'frau1']\n"
     ]
    }
   ],
   "source": [
    "if len(excluded_features_columns) > 0:\n",
    "    print(f\"Dropping features: {excluded_features_columns}\")\n",
    "    X_calib.drop(excluded_features_columns, axis=1, inplace=True)"
   ]
  },
  {
   "cell_type": "code",
   "execution_count": 27,
   "id": "3037356e",
   "metadata": {
    "execution": {
     "iopub.execute_input": "2025-08-19T18:05:27.866515Z",
     "iopub.status.busy": "2025-08-19T18:05:27.865319Z",
     "iopub.status.idle": "2025-08-19T18:05:27.873910Z",
     "shell.execute_reply": "2025-08-19T18:05:27.872301Z"
    },
    "papermill": {
     "duration": 0.031624,
     "end_time": "2025-08-19T18:05:27.875453",
     "exception": false,
     "start_time": "2025-08-19T18:05:27.843829",
     "status": "completed"
    },
    "tags": []
   },
   "outputs": [],
   "source": [
    "# EXCLUDE CERTAIN SUBGROUPS\n",
    "# -------------------------\n",
    "\n",
    "mode = universe.get(\"exclude_subgroups\", \"keep-all\") # Defaults to \"keep-all\" if the key is missing."
   ]
  },
  {
   "cell_type": "code",
   "execution_count": 28,
   "id": "9d1e63fd",
   "metadata": {
    "execution": {
     "iopub.execute_input": "2025-08-19T18:05:27.921356Z",
     "iopub.status.busy": "2025-08-19T18:05:27.920152Z",
     "iopub.status.idle": "2025-08-19T18:05:27.931915Z",
     "shell.execute_reply": "2025-08-19T18:05:27.930513Z"
    },
    "papermill": {
     "duration": 0.035089,
     "end_time": "2025-08-19T18:05:27.933439",
     "exception": false,
     "start_time": "2025-08-19T18:05:27.898350",
     "status": "completed"
    },
    "tags": []
   },
   "outputs": [],
   "source": [
    "if mode == \"keep-all\":\n",
    "    keep_mask = pd.Series(True, index=org_train.index)\n",
    "\n",
    "elif mode == \"drop-non-german\":\n",
    "    keep_mask = (org_train[\"maxdeutsch1\"] == 1) & (org_train[\"maxdeutsch.Missing.\"] == 0)\n",
    "\n",
    "else:\n",
    "    raise ValueError(f\"Unsupported mode for exclude_subgroups: {mode}\")"
   ]
  },
  {
   "cell_type": "code",
   "execution_count": 29,
   "id": "d3b65474",
   "metadata": {
    "execution": {
     "iopub.execute_input": "2025-08-19T18:05:27.964603Z",
     "iopub.status.busy": "2025-08-19T18:05:27.963443Z",
     "iopub.status.idle": "2025-08-19T18:05:27.975109Z",
     "shell.execute_reply": "2025-08-19T18:05:27.973557Z"
    },
    "papermill": {
     "duration": 0.027587,
     "end_time": "2025-08-19T18:05:27.978741",
     "exception": false,
     "start_time": "2025-08-19T18:05:27.951154",
     "status": "completed"
    },
    "tags": []
   },
   "outputs": [
    {
     "name": "stdout",
     "output_type": "stream",
     "text": [
      "Dropping 3481 rows (13.92%) where mode='drop-non-german'\n"
     ]
    }
   ],
   "source": [
    "n_drop = (~keep_mask).sum() # Calculates how many rows are set to be dropped\n",
    "if n_drop > 0:\n",
    "    pct = n_drop / len(keep_mask) * 100\n",
    "    print(f\"Dropping {n_drop} rows ({pct:.2f}%) where mode='{mode}'\")"
   ]
  },
  {
   "cell_type": "code",
   "execution_count": 30,
   "id": "f44389b3",
   "metadata": {
    "execution": {
     "iopub.execute_input": "2025-08-19T18:05:28.032302Z",
     "iopub.status.busy": "2025-08-19T18:05:28.031059Z",
     "iopub.status.idle": "2025-08-19T18:05:28.052263Z",
     "shell.execute_reply": "2025-08-19T18:05:28.051080Z"
    },
    "papermill": {
     "duration": 0.044914,
     "end_time": "2025-08-19T18:05:28.054225",
     "exception": false,
     "start_time": "2025-08-19T18:05:28.009311",
     "status": "completed"
    },
    "tags": []
   },
   "outputs": [],
   "source": [
    "X_train = X_train[keep_mask]"
   ]
  },
  {
   "cell_type": "code",
   "execution_count": 31,
   "id": "ceca8c2a",
   "metadata": {
    "execution": {
     "iopub.execute_input": "2025-08-19T18:05:28.094876Z",
     "iopub.status.busy": "2025-08-19T18:05:28.093268Z",
     "iopub.status.idle": "2025-08-19T18:05:28.102691Z",
     "shell.execute_reply": "2025-08-19T18:05:28.101466Z"
    },
    "papermill": {
     "duration": 0.025867,
     "end_time": "2025-08-19T18:05:28.104406",
     "exception": false,
     "start_time": "2025-08-19T18:05:28.078539",
     "status": "completed"
    },
    "tags": []
   },
   "outputs": [],
   "source": [
    "y_train = y_train[keep_mask]"
   ]
  },
  {
   "cell_type": "markdown",
   "id": "04d31e2f",
   "metadata": {
    "papermill": {
     "duration": 0.011527,
     "end_time": "2025-08-19T18:05:28.130131",
     "exception": false,
     "start_time": "2025-08-19T18:05:28.118604",
     "status": "completed"
    },
    "tags": []
   },
   "source": [
    "# Model Training"
   ]
  },
  {
   "cell_type": "code",
   "execution_count": 32,
   "id": "db991733",
   "metadata": {
    "execution": {
     "iopub.execute_input": "2025-08-19T18:05:28.155261Z",
     "iopub.status.busy": "2025-08-19T18:05:28.153886Z",
     "iopub.status.idle": "2025-08-19T18:05:28.262745Z",
     "shell.execute_reply": "2025-08-19T18:05:28.261892Z"
    },
    "papermill": {
     "duration": 0.124357,
     "end_time": "2025-08-19T18:05:28.265475",
     "exception": false,
     "start_time": "2025-08-19T18:05:28.141118",
     "status": "completed"
    },
    "tags": []
   },
   "outputs": [],
   "source": [
    "from sklearn.linear_model import LogisticRegression\n",
    "from sklearn.ensemble import GradientBoostingClassifier, RandomForestClassifier\n",
    "\n",
    "if (universe[\"model\"] == \"logreg\"):\n",
    "    model = LogisticRegression() #penalty=\"none\", solver=\"newton-cg\", max_iter=1)\n",
    "elif (universe[\"model\"] == \"penalized_logreg\"):\n",
    "    model = LogisticRegression(penalty=\"l2\", C=0.1) #, solver=\"newton-cg\", max_iter=1)\n",
    "elif (universe[\"model\"] == \"rf\"):\n",
    "    model = RandomForestClassifier() # n_estimators=100, n_jobs=-1\n",
    "elif (universe[\"model\"] == \"gbm\"):\n",
    "    model = GradientBoostingClassifier()\n",
    "elif (universe[\"model\"] == \"elasticnet\"):\n",
    "    model = LogisticRegression(penalty = 'elasticnet', solver = 'saga', l1_ratio = 0.5) # max_iter=5000\n",
    "else:\n",
    "    raise \"Unsupported universe.model\""
   ]
  },
  {
   "cell_type": "code",
   "execution_count": 33,
   "id": "a4b5cd25",
   "metadata": {
    "execution": {
     "iopub.execute_input": "2025-08-19T18:05:28.307564Z",
     "iopub.status.busy": "2025-08-19T18:05:28.306035Z",
     "iopub.status.idle": "2025-08-19T18:05:28.317483Z",
     "shell.execute_reply": "2025-08-19T18:05:28.316225Z"
    },
    "papermill": {
     "duration": 0.028098,
     "end_time": "2025-08-19T18:05:28.319074",
     "exception": false,
     "start_time": "2025-08-19T18:05:28.290976",
     "status": "completed"
    },
    "tags": []
   },
   "outputs": [],
   "source": [
    "from sklearn.pipeline import Pipeline\n",
    "from sklearn.preprocessing import StandardScaler\n",
    "\n",
    "model = Pipeline([\n",
    "    #(\"continuous_processor\", continuous_processor),\n",
    "    #(\"categorical_preprocessor\", categorical_preprocessor),\n",
    "    (\"scale\", StandardScaler() if universe[\"scale\"] == \"scale\" else None), \n",
    "    (\"model\", model),\n",
    "])"
   ]
  },
  {
   "cell_type": "code",
   "execution_count": 34,
   "id": "283a904d",
   "metadata": {
    "execution": {
     "iopub.execute_input": "2025-08-19T18:05:28.346774Z",
     "iopub.status.busy": "2025-08-19T18:05:28.346312Z",
     "iopub.status.idle": "2025-08-19T18:05:35.586178Z",
     "shell.execute_reply": "2025-08-19T18:05:35.585254Z"
    },
    "papermill": {
     "duration": 7.256916,
     "end_time": "2025-08-19T18:05:35.588601",
     "exception": false,
     "start_time": "2025-08-19T18:05:28.331685",
     "status": "completed"
    },
    "tags": []
   },
   "outputs": [
    {
     "data": {
      "text/html": [
       "<style>#sk-container-id-1 {color: black;background-color: white;}#sk-container-id-1 pre{padding: 0;}#sk-container-id-1 div.sk-toggleable {background-color: white;}#sk-container-id-1 label.sk-toggleable__label {cursor: pointer;display: block;width: 100%;margin-bottom: 0;padding: 0.3em;box-sizing: border-box;text-align: center;}#sk-container-id-1 label.sk-toggleable__label-arrow:before {content: \"▸\";float: left;margin-right: 0.25em;color: #696969;}#sk-container-id-1 label.sk-toggleable__label-arrow:hover:before {color: black;}#sk-container-id-1 div.sk-estimator:hover label.sk-toggleable__label-arrow:before {color: black;}#sk-container-id-1 div.sk-toggleable__content {max-height: 0;max-width: 0;overflow: hidden;text-align: left;background-color: #f0f8ff;}#sk-container-id-1 div.sk-toggleable__content pre {margin: 0.2em;color: black;border-radius: 0.25em;background-color: #f0f8ff;}#sk-container-id-1 input.sk-toggleable__control:checked~div.sk-toggleable__content {max-height: 200px;max-width: 100%;overflow: auto;}#sk-container-id-1 input.sk-toggleable__control:checked~label.sk-toggleable__label-arrow:before {content: \"▾\";}#sk-container-id-1 div.sk-estimator input.sk-toggleable__control:checked~label.sk-toggleable__label {background-color: #d4ebff;}#sk-container-id-1 div.sk-label input.sk-toggleable__control:checked~label.sk-toggleable__label {background-color: #d4ebff;}#sk-container-id-1 input.sk-hidden--visually {border: 0;clip: rect(1px 1px 1px 1px);clip: rect(1px, 1px, 1px, 1px);height: 1px;margin: -1px;overflow: hidden;padding: 0;position: absolute;width: 1px;}#sk-container-id-1 div.sk-estimator {font-family: monospace;background-color: #f0f8ff;border: 1px dotted black;border-radius: 0.25em;box-sizing: border-box;margin-bottom: 0.5em;}#sk-container-id-1 div.sk-estimator:hover {background-color: #d4ebff;}#sk-container-id-1 div.sk-parallel-item::after {content: \"\";width: 100%;border-bottom: 1px solid gray;flex-grow: 1;}#sk-container-id-1 div.sk-label:hover label.sk-toggleable__label {background-color: #d4ebff;}#sk-container-id-1 div.sk-serial::before {content: \"\";position: absolute;border-left: 1px solid gray;box-sizing: border-box;top: 0;bottom: 0;left: 50%;z-index: 0;}#sk-container-id-1 div.sk-serial {display: flex;flex-direction: column;align-items: center;background-color: white;padding-right: 0.2em;padding-left: 0.2em;position: relative;}#sk-container-id-1 div.sk-item {position: relative;z-index: 1;}#sk-container-id-1 div.sk-parallel {display: flex;align-items: stretch;justify-content: center;background-color: white;position: relative;}#sk-container-id-1 div.sk-item::before, #sk-container-id-1 div.sk-parallel-item::before {content: \"\";position: absolute;border-left: 1px solid gray;box-sizing: border-box;top: 0;bottom: 0;left: 50%;z-index: -1;}#sk-container-id-1 div.sk-parallel-item {display: flex;flex-direction: column;z-index: 1;position: relative;background-color: white;}#sk-container-id-1 div.sk-parallel-item:first-child::after {align-self: flex-end;width: 50%;}#sk-container-id-1 div.sk-parallel-item:last-child::after {align-self: flex-start;width: 50%;}#sk-container-id-1 div.sk-parallel-item:only-child::after {width: 0;}#sk-container-id-1 div.sk-dashed-wrapped {border: 1px dashed gray;margin: 0 0.4em 0.5em 0.4em;box-sizing: border-box;padding-bottom: 0.4em;background-color: white;}#sk-container-id-1 div.sk-label label {font-family: monospace;font-weight: bold;display: inline-block;line-height: 1.2em;}#sk-container-id-1 div.sk-label-container {text-align: center;}#sk-container-id-1 div.sk-container {/* jupyter's `normalize.less` sets `[hidden] { display: none; }` but bootstrap.min.css set `[hidden] { display: none !important; }` so we also need the `!important` here to be able to override the default hidden behavior on the sphinx rendered scikit-learn.org. See: https://github.com/scikit-learn/scikit-learn/issues/21755 */display: inline-block !important;position: relative;}#sk-container-id-1 div.sk-text-repr-fallback {display: none;}</style><div id=\"sk-container-id-1\" class=\"sk-top-container\"><div class=\"sk-text-repr-fallback\"><pre>Pipeline(steps=[(&#x27;scale&#x27;, StandardScaler()),\n",
       "                (&#x27;model&#x27;, RandomForestClassifier())])</pre><b>In a Jupyter environment, please rerun this cell to show the HTML representation or trust the notebook. <br />On GitHub, the HTML representation is unable to render, please try loading this page with nbviewer.org.</b></div><div class=\"sk-container\" hidden><div class=\"sk-item sk-dashed-wrapped\"><div class=\"sk-label-container\"><div class=\"sk-label sk-toggleable\"><input class=\"sk-toggleable__control sk-hidden--visually\" id=\"sk-estimator-id-1\" type=\"checkbox\" ><label for=\"sk-estimator-id-1\" class=\"sk-toggleable__label sk-toggleable__label-arrow\">Pipeline</label><div class=\"sk-toggleable__content\"><pre>Pipeline(steps=[(&#x27;scale&#x27;, StandardScaler()),\n",
       "                (&#x27;model&#x27;, RandomForestClassifier())])</pre></div></div></div><div class=\"sk-serial\"><div class=\"sk-item\"><div class=\"sk-estimator sk-toggleable\"><input class=\"sk-toggleable__control sk-hidden--visually\" id=\"sk-estimator-id-2\" type=\"checkbox\" ><label for=\"sk-estimator-id-2\" class=\"sk-toggleable__label sk-toggleable__label-arrow\">StandardScaler</label><div class=\"sk-toggleable__content\"><pre>StandardScaler()</pre></div></div></div><div class=\"sk-item\"><div class=\"sk-estimator sk-toggleable\"><input class=\"sk-toggleable__control sk-hidden--visually\" id=\"sk-estimator-id-3\" type=\"checkbox\" ><label for=\"sk-estimator-id-3\" class=\"sk-toggleable__label sk-toggleable__label-arrow\">RandomForestClassifier</label><div class=\"sk-toggleable__content\"><pre>RandomForestClassifier()</pre></div></div></div></div></div></div></div>"
      ],
      "text/plain": [
       "Pipeline(steps=[('scale', StandardScaler()),\n",
       "                ('model', RandomForestClassifier())])"
      ]
     },
     "execution_count": 34,
     "metadata": {},
     "output_type": "execute_result"
    }
   ],
   "source": [
    "model.fit(X_train, y_train.values.ravel())"
   ]
  },
  {
   "cell_type": "code",
   "execution_count": 35,
   "id": "6e15e313",
   "metadata": {
    "execution": {
     "iopub.execute_input": "2025-08-19T18:05:35.635385Z",
     "iopub.status.busy": "2025-08-19T18:05:35.633121Z",
     "iopub.status.idle": "2025-08-19T18:05:38.118611Z",
     "shell.execute_reply": "2025-08-19T18:05:38.117681Z"
    },
    "papermill": {
     "duration": 2.505918,
     "end_time": "2025-08-19T18:05:38.121036",
     "exception": false,
     "start_time": "2025-08-19T18:05:35.615118",
     "status": "completed"
    },
    "tags": []
   },
   "outputs": [
    {
     "data": {
      "text/plain": [
       "0.8660461487013711"
      ]
     },
     "execution_count": 35,
     "metadata": {},
     "output_type": "execute_result"
    }
   ],
   "source": [
    "from fairness_multiverse.universe import predict_w_threshold\n",
    "\n",
    "probs_test = model.predict_proba(X_test)\n",
    "\n",
    "'''\n",
    "Below code returns a boolean array (or binary 0/1 array depending on how it’s used) where each element \n",
    "is True if the probability of class 1 is greater than or equal to the threshold, and False otherwise.\n",
    "'''\n",
    "y_pred_default = predict_w_threshold(probs_test, 0.5)\n",
    "\n",
    "from sklearn.metrics import accuracy_score\n",
    "\n",
    "# Naive prediction\n",
    "accuracy_score(y_true = y_true, y_pred = y_pred_default)"
   ]
  },
  {
   "cell_type": "code",
   "execution_count": 36,
   "id": "6f14067c",
   "metadata": {
    "execution": {
     "iopub.execute_input": "2025-08-19T18:05:38.166651Z",
     "iopub.status.busy": "2025-08-19T18:05:38.164835Z",
     "iopub.status.idle": "2025-08-19T18:05:40.659048Z",
     "shell.execute_reply": "2025-08-19T18:05:40.658021Z"
    },
    "papermill": {
     "duration": 2.510951,
     "end_time": "2025-08-19T18:05:40.660520",
     "exception": false,
     "start_time": "2025-08-19T18:05:38.149569",
     "status": "completed"
    },
    "tags": []
   },
   "outputs": [
    {
     "data": {
      "text/plain": [
       "array([0, 0, 0, ..., 0, 0, 0])"
      ]
     },
     "execution_count": 36,
     "metadata": {},
     "output_type": "execute_result"
    }
   ],
   "source": [
    "model.predict(X_test)"
   ]
  },
  {
   "cell_type": "markdown",
   "id": "3759920c",
   "metadata": {
    "papermill": {
     "duration": 0.025556,
     "end_time": "2025-08-19T18:05:40.717607",
     "exception": false,
     "start_time": "2025-08-19T18:05:40.692051",
     "status": "completed"
    },
    "tags": []
   },
   "source": [
    "# Conformal Prediction"
   ]
  },
  {
   "cell_type": "code",
   "execution_count": 37,
   "id": "14b27f59",
   "metadata": {
    "execution": {
     "iopub.execute_input": "2025-08-19T18:05:40.744623Z",
     "iopub.status.busy": "2025-08-19T18:05:40.743762Z",
     "iopub.status.idle": "2025-08-19T18:05:40.751226Z",
     "shell.execute_reply": "2025-08-19T18:05:40.750078Z"
    },
    "papermill": {
     "duration": 0.023503,
     "end_time": "2025-08-19T18:05:40.752572",
     "exception": false,
     "start_time": "2025-08-19T18:05:40.729069",
     "status": "completed"
    },
    "tags": []
   },
   "outputs": [],
   "source": [
    "# Miscoverage level for conformal prediction (10% allowed error rate => 90% target coverage)\n",
    "alpha = 0.1"
   ]
  },
  {
   "cell_type": "code",
   "execution_count": 38,
   "id": "59102472",
   "metadata": {
    "execution": {
     "iopub.execute_input": "2025-08-19T18:05:40.777812Z",
     "iopub.status.busy": "2025-08-19T18:05:40.776877Z",
     "iopub.status.idle": "2025-08-19T18:05:43.109520Z",
     "shell.execute_reply": "2025-08-19T18:05:43.108723Z"
    },
    "papermill": {
     "duration": 2.347202,
     "end_time": "2025-08-19T18:05:43.111067",
     "exception": false,
     "start_time": "2025-08-19T18:05:40.763865",
     "status": "completed"
    },
    "tags": []
   },
   "outputs": [],
   "source": [
    "probs_calib = model.predict_proba(X_calib)"
   ]
  },
  {
   "cell_type": "code",
   "execution_count": 39,
   "id": "a792d4dd",
   "metadata": {
    "execution": {
     "iopub.execute_input": "2025-08-19T18:05:43.139337Z",
     "iopub.status.busy": "2025-08-19T18:05:43.138275Z",
     "iopub.status.idle": "2025-08-19T18:05:43.147395Z",
     "shell.execute_reply": "2025-08-19T18:05:43.146304Z"
    },
    "papermill": {
     "duration": 0.023431,
     "end_time": "2025-08-19T18:05:43.148841",
     "exception": false,
     "start_time": "2025-08-19T18:05:43.125410",
     "status": "completed"
    },
    "tags": []
   },
   "outputs": [],
   "source": [
    "y_calib = y_calib.values.ravel().astype(int)"
   ]
  },
  {
   "cell_type": "code",
   "execution_count": 40,
   "id": "650fd033",
   "metadata": {
    "execution": {
     "iopub.execute_input": "2025-08-19T18:05:43.179459Z",
     "iopub.status.busy": "2025-08-19T18:05:43.178180Z",
     "iopub.status.idle": "2025-08-19T18:05:43.191044Z",
     "shell.execute_reply": "2025-08-19T18:05:43.189805Z"
    },
    "papermill": {
     "duration": 0.026797,
     "end_time": "2025-08-19T18:05:43.192556",
     "exception": false,
     "start_time": "2025-08-19T18:05:43.165759",
     "status": "completed"
    },
    "tags": []
   },
   "outputs": [],
   "source": [
    "from fairness_multiverse.conformal import compute_nc_scores\n",
    "\n",
    "# Compute nonconformity scores on calibration set (1 - probability of true class)\n",
    "nc_scores = compute_nc_scores(probs_calib, y_calib)"
   ]
  },
  {
   "cell_type": "code",
   "execution_count": 41,
   "id": "28ada44c",
   "metadata": {
    "execution": {
     "iopub.execute_input": "2025-08-19T18:05:43.224636Z",
     "iopub.status.busy": "2025-08-19T18:05:43.223353Z",
     "iopub.status.idle": "2025-08-19T18:05:43.235243Z",
     "shell.execute_reply": "2025-08-19T18:05:43.233648Z"
    },
    "papermill": {
     "duration": 0.02723,
     "end_time": "2025-08-19T18:05:43.236913",
     "exception": false,
     "start_time": "2025-08-19T18:05:43.209683",
     "status": "completed"
    },
    "tags": []
   },
   "outputs": [],
   "source": [
    "from fairness_multiverse.conformal import find_threshold\n",
    "\n",
    "# Find conformal threshold q_hat for the given alpha (split conformal method)\n",
    "q_hat = find_threshold(nc_scores, alpha)"
   ]
  },
  {
   "cell_type": "code",
   "execution_count": 42,
   "id": "df56469e",
   "metadata": {
    "execution": {
     "iopub.execute_input": "2025-08-19T18:05:43.264061Z",
     "iopub.status.busy": "2025-08-19T18:05:43.262762Z",
     "iopub.status.idle": "2025-08-19T18:05:43.274672Z",
     "shell.execute_reply": "2025-08-19T18:05:43.273092Z"
    },
    "papermill": {
     "duration": 0.025786,
     "end_time": "2025-08-19T18:05:43.276117",
     "exception": false,
     "start_time": "2025-08-19T18:05:43.250331",
     "status": "completed"
    },
    "tags": []
   },
   "outputs": [
    {
     "data": {
      "text/plain": [
       "0.65"
      ]
     },
     "execution_count": 42,
     "metadata": {},
     "output_type": "execute_result"
    }
   ],
   "source": [
    "q_hat"
   ]
  },
  {
   "cell_type": "code",
   "execution_count": 43,
   "id": "aa1f5faa",
   "metadata": {
    "execution": {
     "iopub.execute_input": "2025-08-19T18:05:43.303545Z",
     "iopub.status.busy": "2025-08-19T18:05:43.302434Z",
     "iopub.status.idle": "2025-08-19T18:05:46.019015Z",
     "shell.execute_reply": "2025-08-19T18:05:46.018300Z"
    },
    "papermill": {
     "duration": 2.73078,
     "end_time": "2025-08-19T18:05:46.020716",
     "exception": false,
     "start_time": "2025-08-19T18:05:43.289936",
     "status": "completed"
    },
    "tags": []
   },
   "outputs": [],
   "source": [
    "from fairness_multiverse.conformal import predict_conformal_sets\n",
    "\n",
    "# Generate prediction sets for each test example\n",
    "pred_sets = predict_conformal_sets(model, X_test, q_hat)"
   ]
  },
  {
   "cell_type": "code",
   "execution_count": 44,
   "id": "97f67a6b",
   "metadata": {
    "execution": {
     "iopub.execute_input": "2025-08-19T18:05:46.046173Z",
     "iopub.status.busy": "2025-08-19T18:05:46.044864Z",
     "iopub.status.idle": "2025-08-19T18:05:46.053070Z",
     "shell.execute_reply": "2025-08-19T18:05:46.051687Z"
    },
    "papermill": {
     "duration": 0.022827,
     "end_time": "2025-08-19T18:05:46.055095",
     "exception": false,
     "start_time": "2025-08-19T18:05:46.032268",
     "status": "completed"
    },
    "tags": []
   },
   "outputs": [],
   "source": [
    "y_true = y_true.squeeze()"
   ]
  },
  {
   "cell_type": "code",
   "execution_count": 45,
   "id": "e700e9a7",
   "metadata": {
    "execution": {
     "iopub.execute_input": "2025-08-19T18:05:46.086171Z",
     "iopub.status.busy": "2025-08-19T18:05:46.081406Z",
     "iopub.status.idle": "2025-08-19T18:05:46.585233Z",
     "shell.execute_reply": "2025-08-19T18:05:46.584416Z"
    },
    "papermill": {
     "duration": 0.520869,
     "end_time": "2025-08-19T18:05:46.588168",
     "exception": false,
     "start_time": "2025-08-19T18:05:46.067299",
     "status": "completed"
    },
    "tags": []
   },
   "outputs": [],
   "source": [
    "from fairness_multiverse.conformal import evaluate_sets\n",
    "\n",
    "# Evaluate coverage and average set size on test data\n",
    "metrics = evaluate_sets(pred_sets, y_true)"
   ]
  },
  {
   "cell_type": "markdown",
   "id": "efbacec0",
   "metadata": {
    "papermill": {
     "duration": 0.013412,
     "end_time": "2025-08-19T18:05:46.629742",
     "exception": false,
     "start_time": "2025-08-19T18:05:46.616330",
     "status": "completed"
    },
    "tags": []
   },
   "source": [
    "# CP Metrics"
   ]
  },
  {
   "cell_type": "code",
   "execution_count": 46,
   "id": "9de55fb1",
   "metadata": {
    "execution": {
     "iopub.execute_input": "2025-08-19T18:05:46.656922Z",
     "iopub.status.busy": "2025-08-19T18:05:46.654515Z",
     "iopub.status.idle": "2025-08-19T18:05:46.667409Z",
     "shell.execute_reply": "2025-08-19T18:05:46.666060Z"
    },
    "papermill": {
     "duration": 0.027695,
     "end_time": "2025-08-19T18:05:46.669005",
     "exception": false,
     "start_time": "2025-08-19T18:05:46.641310",
     "status": "completed"
    },
    "tags": []
   },
   "outputs": [
    {
     "data": {
      "text/plain": [
       "{'coverage': 0.9129751421246238, 'avg_size': 1.136551109129417}"
      ]
     },
     "execution_count": 46,
     "metadata": {},
     "output_type": "execute_result"
    }
   ],
   "source": [
    "metrics"
   ]
  },
  {
   "cell_type": "code",
   "execution_count": 47,
   "id": "64c340a1",
   "metadata": {
    "execution": {
     "iopub.execute_input": "2025-08-19T18:05:46.700244Z",
     "iopub.status.busy": "2025-08-19T18:05:46.699131Z",
     "iopub.status.idle": "2025-08-19T18:05:46.709900Z",
     "shell.execute_reply": "2025-08-19T18:05:46.708285Z"
    },
    "papermill": {
     "duration": 0.025681,
     "end_time": "2025-08-19T18:05:46.711380",
     "exception": false,
     "start_time": "2025-08-19T18:05:46.685699",
     "status": "completed"
    },
    "tags": []
   },
   "outputs": [],
   "source": [
    "example_universe = universe.copy()\n",
    "universe_training_year = example_universe.get(\"training_year\")\n",
    "universe_training_size = example_universe.get(\"training_size\")\n",
    "universe_scale = example_universe.get(\"scale\")\n",
    "universe_model = example_universe.get(\"model\")\n",
    "universe_exclude_features = example_universe.get(\"exclude_features\")\n",
    "universe_exclude_subgroups = example_universe.get(\"exclude_subgroups\")"
   ]
  },
  {
   "cell_type": "code",
   "execution_count": 48,
   "id": "dbb53cb4",
   "metadata": {
    "execution": {
     "iopub.execute_input": "2025-08-19T18:05:46.739374Z",
     "iopub.status.busy": "2025-08-19T18:05:46.738248Z",
     "iopub.status.idle": "2025-08-19T18:05:46.749203Z",
     "shell.execute_reply": "2025-08-19T18:05:46.747548Z"
    },
    "papermill": {
     "duration": 0.025263,
     "end_time": "2025-08-19T18:05:46.750695",
     "exception": false,
     "start_time": "2025-08-19T18:05:46.725432",
     "status": "completed"
    },
    "tags": []
   },
   "outputs": [],
   "source": [
    "cp_metrics_dict = {\n",
    "    \"universe_id\": [universe_id],\n",
    "    \"universe_training_year\": [universe_training_year],\n",
    "    \"universe_training_size\": [universe_training_size],\n",
    "    \"universe_scale\": [universe_scale],\n",
    "    \"universe_model\": [universe_model],\n",
    "    \"universe_exclude_features\": [universe_exclude_features],\n",
    "    \"universe_exclude_subgroups\": [universe_exclude_subgroups],\n",
    "    \"q_hat\": [q_hat],\n",
    "    \"coverage\": [metrics[\"coverage\"]],\n",
    "    \"avg_size\": [metrics[\"avg_size\"]],\n",
    "}"
   ]
  },
  {
   "cell_type": "code",
   "execution_count": 49,
   "id": "0d70d4b2",
   "metadata": {
    "execution": {
     "iopub.execute_input": "2025-08-19T18:05:46.780138Z",
     "iopub.status.busy": "2025-08-19T18:05:46.779026Z",
     "iopub.status.idle": "2025-08-19T18:05:46.789848Z",
     "shell.execute_reply": "2025-08-19T18:05:46.788235Z"
    },
    "papermill": {
     "duration": 0.025348,
     "end_time": "2025-08-19T18:05:46.791308",
     "exception": false,
     "start_time": "2025-08-19T18:05:46.765960",
     "status": "completed"
    },
    "tags": []
   },
   "outputs": [],
   "source": [
    "cp_metrics_df = pd.DataFrame(cp_metrics_dict)"
   ]
  },
  {
   "cell_type": "code",
   "execution_count": 50,
   "id": "b494403c",
   "metadata": {
    "execution": {
     "iopub.execute_input": "2025-08-19T18:05:46.820310Z",
     "iopub.status.busy": "2025-08-19T18:05:46.819192Z",
     "iopub.status.idle": "2025-08-19T18:05:46.842687Z",
     "shell.execute_reply": "2025-08-19T18:05:46.841552Z"
    },
    "papermill": {
     "duration": 0.038432,
     "end_time": "2025-08-19T18:05:46.844220",
     "exception": false,
     "start_time": "2025-08-19T18:05:46.805788",
     "status": "completed"
    },
    "tags": []
   },
   "outputs": [
    {
     "data": {
      "text/html": [
       "<div>\n",
       "<style scoped>\n",
       "    .dataframe tbody tr th:only-of-type {\n",
       "        vertical-align: middle;\n",
       "    }\n",
       "\n",
       "    .dataframe tbody tr th {\n",
       "        vertical-align: top;\n",
       "    }\n",
       "\n",
       "    .dataframe thead th {\n",
       "        text-align: right;\n",
       "    }\n",
       "</style>\n",
       "<table border=\"1\" class=\"dataframe\">\n",
       "  <thead>\n",
       "    <tr style=\"text-align: right;\">\n",
       "      <th></th>\n",
       "      <th>universe_id</th>\n",
       "      <th>universe_training_year</th>\n",
       "      <th>universe_training_size</th>\n",
       "      <th>universe_scale</th>\n",
       "      <th>universe_model</th>\n",
       "      <th>universe_exclude_features</th>\n",
       "      <th>universe_exclude_subgroups</th>\n",
       "      <th>q_hat</th>\n",
       "      <th>coverage</th>\n",
       "      <th>avg_size</th>\n",
       "    </tr>\n",
       "  </thead>\n",
       "  <tbody>\n",
       "    <tr>\n",
       "      <th>0</th>\n",
       "      <td>d9b1aab13a90fa48ecd4cbc5aa821279</td>\n",
       "      <td>2012_14</td>\n",
       "      <td>25k</td>\n",
       "      <td>scale</td>\n",
       "      <td>rf</td>\n",
       "      <td>nationality-sex</td>\n",
       "      <td>drop-non-german</td>\n",
       "      <td>0.65</td>\n",
       "      <td>0.912975</td>\n",
       "      <td>1.136551</td>\n",
       "    </tr>\n",
       "  </tbody>\n",
       "</table>\n",
       "</div>"
      ],
      "text/plain": [
       "                        universe_id universe_training_year  \\\n",
       "0  d9b1aab13a90fa48ecd4cbc5aa821279                2012_14   \n",
       "\n",
       "  universe_training_size universe_scale universe_model  \\\n",
       "0                    25k          scale             rf   \n",
       "\n",
       "  universe_exclude_features universe_exclude_subgroups  q_hat  coverage  \\\n",
       "0           nationality-sex            drop-non-german   0.65  0.912975   \n",
       "\n",
       "   avg_size  \n",
       "0  1.136551  "
      ]
     },
     "execution_count": 50,
     "metadata": {},
     "output_type": "execute_result"
    }
   ],
   "source": [
    "cp_metrics_df"
   ]
  },
  {
   "cell_type": "markdown",
   "id": "ed608b0b",
   "metadata": {
    "papermill": {
     "duration": 0.011852,
     "end_time": "2025-08-19T18:05:46.875328",
     "exception": false,
     "start_time": "2025-08-19T18:05:46.863476",
     "status": "completed"
    },
    "tags": []
   },
   "source": [
    "Conditional coverage & looking at subgroups"
   ]
  },
  {
   "cell_type": "code",
   "execution_count": 51,
   "id": "8968c366",
   "metadata": {
    "execution": {
     "iopub.execute_input": "2025-08-19T18:05:46.901093Z",
     "iopub.status.busy": "2025-08-19T18:05:46.899950Z",
     "iopub.status.idle": "2025-08-19T18:05:47.135324Z",
     "shell.execute_reply": "2025-08-19T18:05:47.134610Z"
    },
    "papermill": {
     "duration": 0.251127,
     "end_time": "2025-08-19T18:05:47.138055",
     "exception": false,
     "start_time": "2025-08-19T18:05:46.886928",
     "status": "completed"
    },
    "tags": []
   },
   "outputs": [],
   "source": [
    "from fairness_multiverse.conformal import build_cp_groups\n",
    "\n",
    "cp_groups_df = build_cp_groups(pred_sets, y_true, X_test.index, org_test)"
   ]
  },
  {
   "cell_type": "code",
   "execution_count": 52,
   "id": "292ddabf",
   "metadata": {
    "execution": {
     "iopub.execute_input": "2025-08-19T18:05:47.179783Z",
     "iopub.status.busy": "2025-08-19T18:05:47.178633Z",
     "iopub.status.idle": "2025-08-19T18:05:48.044844Z",
     "shell.execute_reply": "2025-08-19T18:05:48.043630Z"
    },
    "papermill": {
     "duration": 0.883818,
     "end_time": "2025-08-19T18:05:48.047974",
     "exception": false,
     "start_time": "2025-08-19T18:05:47.164156",
     "status": "completed"
    },
    "tags": []
   },
   "outputs": [],
   "source": [
    "# Define covered = 1 if true_label is in the predicted set\n",
    "cp_groups_df['covered'] = cp_groups_df.apply(\n",
    "    lambda r: int(r['true_label'] in r['pred_set']),\n",
    "    axis=1\n",
    ")"
   ]
  },
  {
   "cell_type": "code",
   "execution_count": 53,
   "id": "3a261692",
   "metadata": {
    "execution": {
     "iopub.execute_input": "2025-08-19T18:05:48.090626Z",
     "iopub.status.busy": "2025-08-19T18:05:48.089266Z",
     "iopub.status.idle": "2025-08-19T18:05:48.112968Z",
     "shell.execute_reply": "2025-08-19T18:05:48.112053Z"
    },
    "papermill": {
     "duration": 0.040791,
     "end_time": "2025-08-19T18:05:48.114722",
     "exception": false,
     "start_time": "2025-08-19T18:05:48.073931",
     "status": "completed"
    },
    "tags": []
   },
   "outputs": [],
   "source": [
    "subgroups = ['frau1','nongerman','nongerman_male','nongerman_female']\n",
    "\n",
    "# Conditional coverage for subgroup==1\n",
    "cond_coverage = {\n",
    "    g: cp_groups_df.loc[cp_groups_df[g]==1, 'covered'].mean()\n",
    "    for g in subgroups\n",
    "}"
   ]
  },
  {
   "cell_type": "code",
   "execution_count": 54,
   "id": "894fd600",
   "metadata": {
    "execution": {
     "iopub.execute_input": "2025-08-19T18:05:48.156003Z",
     "iopub.status.busy": "2025-08-19T18:05:48.154875Z",
     "iopub.status.idle": "2025-08-19T18:05:48.167620Z",
     "shell.execute_reply": "2025-08-19T18:05:48.165993Z"
    },
    "papermill": {
     "duration": 0.031145,
     "end_time": "2025-08-19T18:05:48.169306",
     "exception": false,
     "start_time": "2025-08-19T18:05:48.138161",
     "status": "completed"
    },
    "tags": []
   },
   "outputs": [
    {
     "data": {
      "text/plain": [
       "{'frau1': 0.912252325111201,\n",
       " 'nongerman': 0.9057429966878122,\n",
       " 'nongerman_male': 0.92227325947942,\n",
       " 'nongerman_female': 0.8783904619970194}"
      ]
     },
     "execution_count": 54,
     "metadata": {},
     "output_type": "execute_result"
    }
   ],
   "source": [
    "cond_coverage"
   ]
  },
  {
   "cell_type": "code",
   "execution_count": 55,
   "id": "942895c7",
   "metadata": {
    "execution": {
     "iopub.execute_input": "2025-08-19T18:05:48.199887Z",
     "iopub.status.busy": "2025-08-19T18:05:48.198789Z",
     "iopub.status.idle": "2025-08-19T18:05:48.210504Z",
     "shell.execute_reply": "2025-08-19T18:05:48.209371Z"
    },
    "papermill": {
     "duration": 0.026737,
     "end_time": "2025-08-19T18:05:48.212004",
     "exception": false,
     "start_time": "2025-08-19T18:05:48.185267",
     "status": "completed"
    },
    "tags": []
   },
   "outputs": [],
   "source": [
    "for subgroup, cov in cond_coverage.items():\n",
    "    cp_metrics_df[f\"cov_{subgroup}\"] = cov"
   ]
  },
  {
   "cell_type": "code",
   "execution_count": 56,
   "id": "3970120f",
   "metadata": {
    "execution": {
     "iopub.execute_input": "2025-08-19T18:05:48.242679Z",
     "iopub.status.busy": "2025-08-19T18:05:48.241373Z",
     "iopub.status.idle": "2025-08-19T18:05:48.267547Z",
     "shell.execute_reply": "2025-08-19T18:05:48.266583Z"
    },
    "papermill": {
     "duration": 0.041828,
     "end_time": "2025-08-19T18:05:48.269799",
     "exception": false,
     "start_time": "2025-08-19T18:05:48.227971",
     "status": "completed"
    },
    "tags": []
   },
   "outputs": [
    {
     "data": {
      "text/html": [
       "<div>\n",
       "<style scoped>\n",
       "    .dataframe tbody tr th:only-of-type {\n",
       "        vertical-align: middle;\n",
       "    }\n",
       "\n",
       "    .dataframe tbody tr th {\n",
       "        vertical-align: top;\n",
       "    }\n",
       "\n",
       "    .dataframe thead th {\n",
       "        text-align: right;\n",
       "    }\n",
       "</style>\n",
       "<table border=\"1\" class=\"dataframe\">\n",
       "  <thead>\n",
       "    <tr style=\"text-align: right;\">\n",
       "      <th></th>\n",
       "      <th>universe_id</th>\n",
       "      <th>universe_training_year</th>\n",
       "      <th>universe_training_size</th>\n",
       "      <th>universe_scale</th>\n",
       "      <th>universe_model</th>\n",
       "      <th>universe_exclude_features</th>\n",
       "      <th>universe_exclude_subgroups</th>\n",
       "      <th>q_hat</th>\n",
       "      <th>coverage</th>\n",
       "      <th>avg_size</th>\n",
       "      <th>cov_frau1</th>\n",
       "      <th>cov_nongerman</th>\n",
       "      <th>cov_nongerman_male</th>\n",
       "      <th>cov_nongerman_female</th>\n",
       "    </tr>\n",
       "  </thead>\n",
       "  <tbody>\n",
       "    <tr>\n",
       "      <th>0</th>\n",
       "      <td>d9b1aab13a90fa48ecd4cbc5aa821279</td>\n",
       "      <td>2012_14</td>\n",
       "      <td>25k</td>\n",
       "      <td>scale</td>\n",
       "      <td>rf</td>\n",
       "      <td>nationality-sex</td>\n",
       "      <td>drop-non-german</td>\n",
       "      <td>0.65</td>\n",
       "      <td>0.912975</td>\n",
       "      <td>1.136551</td>\n",
       "      <td>0.912252</td>\n",
       "      <td>0.905743</td>\n",
       "      <td>0.922273</td>\n",
       "      <td>0.87839</td>\n",
       "    </tr>\n",
       "  </tbody>\n",
       "</table>\n",
       "</div>"
      ],
      "text/plain": [
       "                        universe_id universe_training_year  \\\n",
       "0  d9b1aab13a90fa48ecd4cbc5aa821279                2012_14   \n",
       "\n",
       "  universe_training_size universe_scale universe_model  \\\n",
       "0                    25k          scale             rf   \n",
       "\n",
       "  universe_exclude_features universe_exclude_subgroups  q_hat  coverage  \\\n",
       "0           nationality-sex            drop-non-german   0.65  0.912975   \n",
       "\n",
       "   avg_size  cov_frau1  cov_nongerman  cov_nongerman_male  \\\n",
       "0  1.136551   0.912252       0.905743            0.922273   \n",
       "\n",
       "   cov_nongerman_female  \n",
       "0               0.87839  "
      ]
     },
     "execution_count": 56,
     "metadata": {},
     "output_type": "execute_result"
    }
   ],
   "source": [
    "cp_metrics_df"
   ]
  },
  {
   "cell_type": "markdown",
   "id": "3fc519cc",
   "metadata": {
    "papermill": {
     "duration": 0.013098,
     "end_time": "2025-08-19T18:05:48.305853",
     "exception": false,
     "start_time": "2025-08-19T18:05:48.292755",
     "status": "completed"
    },
    "tags": []
   },
   "source": [
    "# (Fairness) Metrics"
   ]
  },
  {
   "cell_type": "code",
   "execution_count": 57,
   "id": "a2e5e155",
   "metadata": {
    "execution": {
     "iopub.execute_input": "2025-08-19T18:05:48.332373Z",
     "iopub.status.busy": "2025-08-19T18:05:48.331222Z",
     "iopub.status.idle": "2025-08-19T18:05:48.358297Z",
     "shell.execute_reply": "2025-08-19T18:05:48.357364Z"
    },
    "papermill": {
     "duration": 0.042406,
     "end_time": "2025-08-19T18:05:48.360279",
     "exception": false,
     "start_time": "2025-08-19T18:05:48.317873",
     "status": "completed"
    },
    "tags": []
   },
   "outputs": [],
   "source": [
    "colname_to_bin = \"maxdeutsch1\"\n",
    "majority_value = org_train[colname_to_bin].mode()[0]\n",
    "\n",
    "org_test[\"majmin\"] = np.where(org_test[colname_to_bin] == majority_value, \"majority\", \"minority\")"
   ]
  },
  {
   "cell_type": "code",
   "execution_count": 58,
   "id": "17e3e4d5",
   "metadata": {
    "execution": {
     "iopub.execute_input": "2025-08-19T18:05:48.410791Z",
     "iopub.status.busy": "2025-08-19T18:05:48.409641Z",
     "iopub.status.idle": "2025-08-19T18:05:50.172701Z",
     "shell.execute_reply": "2025-08-19T18:05:50.171544Z"
    },
    "papermill": {
     "duration": 1.790702,
     "end_time": "2025-08-19T18:05:50.174776",
     "exception": false,
     "start_time": "2025-08-19T18:05:48.384074",
     "status": "completed"
    },
    "tags": []
   },
   "outputs": [],
   "source": [
    "example_universe = universe.copy()\n",
    "example_universe[\"cutoff\"] = example_universe[\"cutoff\"][0]\n",
    "example_universe[\"eval_fairness_grouping\"] = example_universe[\"eval_fairness_grouping\"][0]\n",
    "fairness_dict, metric_frame = universe_analysis.compute_metrics(\n",
    "    example_universe,\n",
    "    y_pred_prob=probs_test,\n",
    "    y_test=y_true,\n",
    "    org_test=org_test,\n",
    ")"
   ]
  },
  {
   "cell_type": "markdown",
   "id": "1fb7a0e9",
   "metadata": {
    "papermill": {
     "duration": 0.012613,
     "end_time": "2025-08-19T18:05:50.203173",
     "exception": false,
     "start_time": "2025-08-19T18:05:50.190560",
     "status": "completed"
    },
    "tags": []
   },
   "source": [
    "# Overall"
   ]
  },
  {
   "cell_type": "markdown",
   "id": "be1784b1",
   "metadata": {
    "papermill": {
     "duration": 0.012219,
     "end_time": "2025-08-19T18:05:50.227580",
     "exception": false,
     "start_time": "2025-08-19T18:05:50.215361",
     "status": "completed"
    },
    "tags": []
   },
   "source": [
    "Main fairness target: Equalized Odds. Seems to be a better fit than equal opportunity, since we're not only interested in Y = 1. Seems to be a better fit than demographic parity, since we also care about accuracy, not just equal distribution of preds.\n",
    "\n",
    "Pick column for computation of fairness metrics\n",
    "\n",
    "Performance\n",
    "Overall performance measures, most interesting in relation to the measures split by group below"
   ]
  },
  {
   "cell_type": "code",
   "execution_count": 59,
   "id": "b7672bee",
   "metadata": {
    "execution": {
     "iopub.execute_input": "2025-08-19T18:05:50.254081Z",
     "iopub.status.busy": "2025-08-19T18:05:50.253559Z",
     "iopub.status.idle": "2025-08-19T18:05:50.262291Z",
     "shell.execute_reply": "2025-08-19T18:05:50.261553Z"
    },
    "papermill": {
     "duration": 0.026735,
     "end_time": "2025-08-19T18:05:50.266289",
     "exception": false,
     "start_time": "2025-08-19T18:05:50.239554",
     "status": "completed"
    },
    "tags": []
   },
   "outputs": [
    {
     "data": {
      "text/plain": [
       "accuracy                   0.196567\n",
       "balanced accuracy          0.530868\n",
       "f1                         0.238451\n",
       "precision                  0.135729\n",
       "false positive rate        0.918800\n",
       "false negative rate        0.019465\n",
       "selection rate             0.926719\n",
       "count                  89710.000000\n",
       "dtype: float64"
      ]
     },
     "execution_count": 59,
     "metadata": {},
     "output_type": "execute_result"
    }
   ],
   "source": [
    "metric_frame.overall"
   ]
  },
  {
   "cell_type": "markdown",
   "id": "d93333c9",
   "metadata": {
    "papermill": {
     "duration": 0.012104,
     "end_time": "2025-08-19T18:05:50.292410",
     "exception": false,
     "start_time": "2025-08-19T18:05:50.280306",
     "status": "completed"
    },
    "tags": []
   },
   "source": [
    "By Group"
   ]
  },
  {
   "cell_type": "code",
   "execution_count": 60,
   "id": "52256966",
   "metadata": {
    "execution": {
     "iopub.execute_input": "2025-08-19T18:05:50.319430Z",
     "iopub.status.busy": "2025-08-19T18:05:50.318932Z",
     "iopub.status.idle": "2025-08-19T18:05:50.337115Z",
     "shell.execute_reply": "2025-08-19T18:05:50.336428Z"
    },
    "papermill": {
     "duration": 0.03361,
     "end_time": "2025-08-19T18:05:50.338169",
     "exception": false,
     "start_time": "2025-08-19T18:05:50.304559",
     "status": "completed"
    },
    "tags": []
   },
   "outputs": [
    {
     "data": {
      "text/html": [
       "<div>\n",
       "<style scoped>\n",
       "    .dataframe tbody tr th:only-of-type {\n",
       "        vertical-align: middle;\n",
       "    }\n",
       "\n",
       "    .dataframe tbody tr th {\n",
       "        vertical-align: top;\n",
       "    }\n",
       "\n",
       "    .dataframe thead th {\n",
       "        text-align: right;\n",
       "    }\n",
       "</style>\n",
       "<table border=\"1\" class=\"dataframe\">\n",
       "  <thead>\n",
       "    <tr style=\"text-align: right;\">\n",
       "      <th></th>\n",
       "      <th>accuracy</th>\n",
       "      <th>balanced accuracy</th>\n",
       "      <th>f1</th>\n",
       "      <th>precision</th>\n",
       "      <th>false positive rate</th>\n",
       "      <th>false negative rate</th>\n",
       "      <th>selection rate</th>\n",
       "      <th>count</th>\n",
       "    </tr>\n",
       "    <tr>\n",
       "      <th>majmin</th>\n",
       "      <th></th>\n",
       "      <th></th>\n",
       "      <th></th>\n",
       "      <th></th>\n",
       "      <th></th>\n",
       "      <th></th>\n",
       "      <th></th>\n",
       "      <th></th>\n",
       "    </tr>\n",
       "  </thead>\n",
       "  <tbody>\n",
       "    <tr>\n",
       "      <th>majority</th>\n",
       "      <td>0.191832</td>\n",
       "      <td>0.530217</td>\n",
       "      <td>0.244591</td>\n",
       "      <td>0.139529</td>\n",
       "      <td>0.929718</td>\n",
       "      <td>0.009847</td>\n",
       "      <td>0.937704</td>\n",
       "      <td>69170.0</td>\n",
       "    </tr>\n",
       "    <tr>\n",
       "      <th>minority</th>\n",
       "      <td>0.212512</td>\n",
       "      <td>0.530340</td>\n",
       "      <td>0.216441</td>\n",
       "      <td>0.122244</td>\n",
       "      <td>0.882732</td>\n",
       "      <td>0.056588</td>\n",
       "      <td>0.889727</td>\n",
       "      <td>20540.0</td>\n",
       "    </tr>\n",
       "  </tbody>\n",
       "</table>\n",
       "</div>"
      ],
      "text/plain": [
       "          accuracy  balanced accuracy        f1  precision  \\\n",
       "majmin                                                       \n",
       "majority  0.191832           0.530217  0.244591   0.139529   \n",
       "minority  0.212512           0.530340  0.216441   0.122244   \n",
       "\n",
       "          false positive rate  false negative rate  selection rate    count  \n",
       "majmin                                                                       \n",
       "majority             0.929718             0.009847        0.937704  69170.0  \n",
       "minority             0.882732             0.056588        0.889727  20540.0  "
      ]
     },
     "execution_count": 60,
     "metadata": {},
     "output_type": "execute_result"
    }
   ],
   "source": [
    "metric_frame.by_group"
   ]
  },
  {
   "cell_type": "code",
   "execution_count": 61,
   "id": "6e6c20ae",
   "metadata": {
    "execution": {
     "iopub.execute_input": "2025-08-19T18:05:50.365816Z",
     "iopub.status.busy": "2025-08-19T18:05:50.364669Z",
     "iopub.status.idle": "2025-08-19T18:05:52.195322Z",
     "shell.execute_reply": "2025-08-19T18:05:52.194044Z"
    },
    "papermill": {
     "duration": 1.845951,
     "end_time": "2025-08-19T18:05:52.197192",
     "exception": false,
     "start_time": "2025-08-19T18:05:50.351241",
     "status": "completed"
    },
    "tags": []
   },
   "outputs": [
    {
     "data": {
      "text/plain": [
       "array([[<Axes: title={'center': 'accuracy'}, xlabel='majmin'>,\n",
       "        <Axes: title={'center': 'balanced accuracy'}, xlabel='majmin'>,\n",
       "        <Axes: title={'center': 'f1'}, xlabel='majmin'>],\n",
       "       [<Axes: title={'center': 'precision'}, xlabel='majmin'>,\n",
       "        <Axes: title={'center': 'false positive rate'}, xlabel='majmin'>,\n",
       "        <Axes: title={'center': 'false negative rate'}, xlabel='majmin'>],\n",
       "       [<Axes: title={'center': 'selection rate'}, xlabel='majmin'>,\n",
       "        <Axes: title={'center': 'count'}, xlabel='majmin'>,\n",
       "        <Axes: xlabel='majmin'>]], dtype=object)"
      ]
     },
     "execution_count": 61,
     "metadata": {},
     "output_type": "execute_result"
    },
    {
     "data": {
      "image/png": "[encoded data removed]",
      "text/plain": [
       "<Figure size 1200x800 with 9 Axes>"
      ]
     },
     "metadata": {},
     "output_type": "display_data"
    }
   ],
   "source": [
    "# In a graphic\n",
    "metric_frame.by_group.plot.bar(\n",
    "    subplots=True,\n",
    "    layout=[3, 3],\n",
    "    legend=False,\n",
    "    figsize=[12, 8],\n",
    "    title=\"Show all metrics\",\n",
    ")"
   ]
  },
  {
   "cell_type": "markdown",
   "id": "b2e433ae",
   "metadata": {
    "papermill": {
     "duration": 0.013586,
     "end_time": "2025-08-19T18:05:52.225726",
     "exception": false,
     "start_time": "2025-08-19T18:05:52.212140",
     "status": "completed"
    },
    "tags": []
   },
   "source": [
    "# Final Output"
   ]
  },
  {
   "cell_type": "code",
   "execution_count": 62,
   "id": "3871301e",
   "metadata": {
    "execution": {
     "iopub.execute_input": "2025-08-19T18:05:52.254492Z",
     "iopub.status.busy": "2025-08-19T18:05:52.253574Z",
     "iopub.status.idle": "2025-08-19T18:05:52.263932Z",
     "shell.execute_reply": "2025-08-19T18:05:52.263060Z"
    },
    "papermill": {
     "duration": 0.029445,
     "end_time": "2025-08-19T18:05:52.268532",
     "exception": false,
     "start_time": "2025-08-19T18:05:52.239087",
     "status": "completed"
    },
    "tags": []
   },
   "outputs": [
    {
     "data": {
      "text/plain": [
       "4"
      ]
     },
     "execution_count": 62,
     "metadata": {},
     "output_type": "execute_result"
    }
   ],
   "source": [
    "sub_universes = universe_analysis.generate_sub_universes()\n",
    "len(sub_universes)"
   ]
  },
  {
   "cell_type": "code",
   "execution_count": 63,
   "id": "d9cfdaca",
   "metadata": {
    "execution": {
     "iopub.execute_input": "2025-08-19T18:05:52.308523Z",
     "iopub.status.busy": "2025-08-19T18:05:52.307367Z",
     "iopub.status.idle": "2025-08-19T18:05:52.321820Z",
     "shell.execute_reply": "2025-08-19T18:05:52.320518Z"
    },
    "papermill": {
     "duration": 0.031616,
     "end_time": "2025-08-19T18:05:52.323689",
     "exception": false,
     "start_time": "2025-08-19T18:05:52.292073",
     "status": "completed"
    },
    "tags": []
   },
   "outputs": [],
   "source": [
    "def filter_sub_universe_data(sub_universe, org_test):\n",
    "    # Keep all rows — no filtering\n",
    "    keep_rows_mask = np.ones(org_test.shape[0], dtype=bool)\n",
    "\n",
    "    print(f\"[INFO] Keeping all rows: {keep_rows_mask.sum()} rows retained.\")\n",
    "    return keep_rows_mask"
   ]
  },
  {
   "cell_type": "code",
   "execution_count": 64,
   "id": "2bc31ac1",
   "metadata": {
    "execution": {
     "iopub.execute_input": "2025-08-19T18:05:52.356800Z",
     "iopub.status.busy": "2025-08-19T18:05:52.355663Z",
     "iopub.status.idle": "2025-08-19T18:05:58.939497Z",
     "shell.execute_reply": "2025-08-19T18:05:58.938469Z"
    },
    "papermill": {
     "duration": 6.600602,
     "end_time": "2025-08-19T18:05:58.941040",
     "exception": false,
     "start_time": "2025-08-19T18:05:52.340438",
     "status": "completed"
    },
    "tags": []
   },
   "outputs": [
    {
     "name": "stdout",
     "output_type": "stream",
     "text": [
      "Stopping execution_time clock.\n",
      "[INFO] Keeping all rows: 89710 rows retained.\n"
     ]
    },
    {
     "name": "stdout",
     "output_type": "stream",
     "text": [
      "[INFO] Keeping all rows: 89710 rows retained.\n"
     ]
    },
    {
     "name": "stdout",
     "output_type": "stream",
     "text": [
      "[INFO] Keeping all rows: 89710 rows retained.\n"
     ]
    },
    {
     "name": "stdout",
     "output_type": "stream",
     "text": [
      "[INFO] Keeping all rows: 89710 rows retained.\n"
     ]
    },
    {
     "data": {
      "text/html": [
       "<div>\n",
       "<style scoped>\n",
       "    .dataframe tbody tr th:only-of-type {\n",
       "        vertical-align: middle;\n",
       "    }\n",
       "\n",
       "    .dataframe tbody tr th {\n",
       "        vertical-align: top;\n",
       "    }\n",
       "\n",
       "    .dataframe thead th {\n",
       "        text-align: right;\n",
       "    }\n",
       "</style>\n",
       "<table border=\"1\" class=\"dataframe\">\n",
       "  <thead>\n",
       "    <tr style=\"text-align: right;\">\n",
       "      <th></th>\n",
       "      <th>run_no</th>\n",
       "      <th>universe_id</th>\n",
       "      <th>universe_settings</th>\n",
       "      <th>execution_time</th>\n",
       "      <th>test_size_n</th>\n",
       "      <th>test_size_frac</th>\n",
       "      <th>fair_main_equalized_odds_difference</th>\n",
       "      <th>fair_main_equalized_odds_ratio</th>\n",
       "      <th>fair_main_demographic_parity_difference</th>\n",
       "      <th>fair_main_demographic_parity_ratio</th>\n",
       "      <th>...</th>\n",
       "      <th>perf_grp_precision_0</th>\n",
       "      <th>perf_grp_precision_1</th>\n",
       "      <th>perf_grp_false positive rate_0</th>\n",
       "      <th>perf_grp_false positive rate_1</th>\n",
       "      <th>perf_grp_false negative rate_0</th>\n",
       "      <th>perf_grp_false negative rate_1</th>\n",
       "      <th>perf_grp_selection rate_0</th>\n",
       "      <th>perf_grp_selection rate_1</th>\n",
       "      <th>perf_grp_count_0</th>\n",
       "      <th>perf_grp_count_1</th>\n",
       "    </tr>\n",
       "  </thead>\n",
       "  <tbody>\n",
       "    <tr>\n",
       "      <th>0</th>\n",
       "      <td>3</td>\n",
       "      <td>d9b1aab13a90fa48ecd4cbc5aa821279</td>\n",
       "      <td>{\"cutoff\": \"quantile_0.1\", \"eval_fairness_grou...</td>\n",
       "      <td>36.842418</td>\n",
       "      <td>89710</td>\n",
       "      <td>1.0</td>\n",
       "      <td>0.046987</td>\n",
       "      <td>0.949461</td>\n",
       "      <td>0.047977</td>\n",
       "      <td>0.948836</td>\n",
       "      <td>...</td>\n",
       "      <td>NaN</td>\n",
       "      <td>NaN</td>\n",
       "      <td>NaN</td>\n",
       "      <td>NaN</td>\n",
       "      <td>NaN</td>\n",
       "      <td>NaN</td>\n",
       "      <td>NaN</td>\n",
       "      <td>NaN</td>\n",
       "      <td>NaN</td>\n",
       "      <td>NaN</td>\n",
       "    </tr>\n",
       "    <tr>\n",
       "      <th>0</th>\n",
       "      <td>3</td>\n",
       "      <td>d9b1aab13a90fa48ecd4cbc5aa821279</td>\n",
       "      <td>{\"cutoff\": \"quantile_0.1\", \"eval_fairness_grou...</td>\n",
       "      <td>36.842418</td>\n",
       "      <td>89710</td>\n",
       "      <td>1.0</td>\n",
       "      <td>0.046987</td>\n",
       "      <td>0.949461</td>\n",
       "      <td>0.047977</td>\n",
       "      <td>0.948836</td>\n",
       "      <td>...</td>\n",
       "      <td>0.122244</td>\n",
       "      <td>0.139529</td>\n",
       "      <td>0.882732</td>\n",
       "      <td>0.929718</td>\n",
       "      <td>0.056588</td>\n",
       "      <td>0.009847</td>\n",
       "      <td>0.889727</td>\n",
       "      <td>0.937704</td>\n",
       "      <td>20540.0</td>\n",
       "      <td>69170.0</td>\n",
       "    </tr>\n",
       "    <tr>\n",
       "      <th>0</th>\n",
       "      <td>3</td>\n",
       "      <td>d9b1aab13a90fa48ecd4cbc5aa821279</td>\n",
       "      <td>{\"cutoff\": \"quantile_0.25\", \"eval_fairness_gro...</td>\n",
       "      <td>36.842418</td>\n",
       "      <td>89710</td>\n",
       "      <td>1.0</td>\n",
       "      <td>0.094170</td>\n",
       "      <td>0.901678</td>\n",
       "      <td>0.056491</td>\n",
       "      <td>0.928186</td>\n",
       "      <td>...</td>\n",
       "      <td>NaN</td>\n",
       "      <td>NaN</td>\n",
       "      <td>NaN</td>\n",
       "      <td>NaN</td>\n",
       "      <td>NaN</td>\n",
       "      <td>NaN</td>\n",
       "      <td>NaN</td>\n",
       "      <td>NaN</td>\n",
       "      <td>NaN</td>\n",
       "      <td>NaN</td>\n",
       "    </tr>\n",
       "    <tr>\n",
       "      <th>0</th>\n",
       "      <td>3</td>\n",
       "      <td>d9b1aab13a90fa48ecd4cbc5aa821279</td>\n",
       "      <td>{\"cutoff\": \"quantile_0.25\", \"eval_fairness_gro...</td>\n",
       "      <td>36.842418</td>\n",
       "      <td>89710</td>\n",
       "      <td>1.0</td>\n",
       "      <td>0.094170</td>\n",
       "      <td>0.901678</td>\n",
       "      <td>0.056491</td>\n",
       "      <td>0.928186</td>\n",
       "      <td>...</td>\n",
       "      <td>0.136361</td>\n",
       "      <td>0.160887</td>\n",
       "      <td>0.712745</td>\n",
       "      <td>0.760570</td>\n",
       "      <td>0.136402</td>\n",
       "      <td>0.042232</td>\n",
       "      <td>0.730136</td>\n",
       "      <td>0.786627</td>\n",
       "      <td>20540.0</td>\n",
       "      <td>69170.0</td>\n",
       "    </tr>\n",
       "  </tbody>\n",
       "</table>\n",
       "<p>4 rows × 50 columns</p>\n",
       "</div>"
      ],
      "text/plain": [
       "  run_no                       universe_id  \\\n",
       "0      3  d9b1aab13a90fa48ecd4cbc5aa821279   \n",
       "0      3  d9b1aab13a90fa48ecd4cbc5aa821279   \n",
       "0      3  d9b1aab13a90fa48ecd4cbc5aa821279   \n",
       "0      3  d9b1aab13a90fa48ecd4cbc5aa821279   \n",
       "\n",
       "                                   universe_settings  execution_time  \\\n",
       "0  {\"cutoff\": \"quantile_0.1\", \"eval_fairness_grou...       36.842418   \n",
       "0  {\"cutoff\": \"quantile_0.1\", \"eval_fairness_grou...       36.842418   \n",
       "0  {\"cutoff\": \"quantile_0.25\", \"eval_fairness_gro...       36.842418   \n",
       "0  {\"cutoff\": \"quantile_0.25\", \"eval_fairness_gro...       36.842418   \n",
       "\n",
       "   test_size_n  test_size_frac  fair_main_equalized_odds_difference  \\\n",
       "0        89710             1.0                             0.046987   \n",
       "0        89710             1.0                             0.046987   \n",
       "0        89710             1.0                             0.094170   \n",
       "0        89710             1.0                             0.094170   \n",
       "\n",
       "   fair_main_equalized_odds_ratio  fair_main_demographic_parity_difference  \\\n",
       "0                        0.949461                                 0.047977   \n",
       "0                        0.949461                                 0.047977   \n",
       "0                        0.901678                                 0.056491   \n",
       "0                        0.901678                                 0.056491   \n",
       "\n",
       "   fair_main_demographic_parity_ratio  ...  perf_grp_precision_0  \\\n",
       "0                            0.948836  ...                   NaN   \n",
       "0                            0.948836  ...              0.122244   \n",
       "0                            0.928186  ...                   NaN   \n",
       "0                            0.928186  ...              0.136361   \n",
       "\n",
       "   perf_grp_precision_1  perf_grp_false positive rate_0  \\\n",
       "0                   NaN                             NaN   \n",
       "0              0.139529                        0.882732   \n",
       "0                   NaN                             NaN   \n",
       "0              0.160887                        0.712745   \n",
       "\n",
       "   perf_grp_false positive rate_1  perf_grp_false negative rate_0  \\\n",
       "0                             NaN                             NaN   \n",
       "0                        0.929718                        0.056588   \n",
       "0                             NaN                             NaN   \n",
       "0                        0.760570                        0.136402   \n",
       "\n",
       "   perf_grp_false negative rate_1  perf_grp_selection rate_0  \\\n",
       "0                             NaN                        NaN   \n",
       "0                        0.009847                   0.889727   \n",
       "0                             NaN                        NaN   \n",
       "0                        0.042232                   0.730136   \n",
       "\n",
       "   perf_grp_selection rate_1  perf_grp_count_0  perf_grp_count_1  \n",
       "0                        NaN               NaN               NaN  \n",
       "0                   0.937704           20540.0           69170.0  \n",
       "0                        NaN               NaN               NaN  \n",
       "0                   0.786627           20540.0           69170.0  \n",
       "\n",
       "[4 rows x 50 columns]"
      ]
     },
     "execution_count": 64,
     "metadata": {},
     "output_type": "execute_result"
    }
   ],
   "source": [
    "final_output = universe_analysis.generate_final_output(\n",
    "    y_pred_prob=probs_test,\n",
    "    y_test=y_true,\n",
    "    org_test=org_test,\n",
    "    filter_data=filter_sub_universe_data,\n",
    "    cp_metrics_df=cp_metrics_df,\n",
    "    save=True,\n",
    ")\n",
    "final_output"
   ]
  },
  {
   "cell_type": "code",
   "execution_count": null,
   "id": "8b80a1ff",
   "metadata": {
    "papermill": {
     "duration": 0.018984,
     "end_time": "2025-08-19T18:05:58.992817",
     "exception": false,
     "start_time": "2025-08-19T18:05:58.973833",
     "status": "completed"
    },
    "tags": []
   },
   "outputs": [],
   "source": []
  },
  {
   "cell_type": "code",
   "execution_count": null,
   "id": "275c9fad",
   "metadata": {
    "papermill": {
     "duration": 0.01428,
     "end_time": "2025-08-19T18:05:59.021538",
     "exception": false,
     "start_time": "2025-08-19T18:05:59.007258",
     "status": "completed"
    },
    "tags": []
   },
   "outputs": [],
   "source": []
  }
 ],
 "metadata": {
  "celltoolbar": "Tags",
  "kernelspec": {
   "display_name": "Python (CMA Fairness)",
   "language": "python",
   "name": "cma_fair_env"
  },
  "language_info": {
   "codemirror_mode": {
    "name": "ipython",
    "version": 3
   },
   "file_extension": ".py",
   "mimetype": "text/x-python",
   "name": "python",
   "nbconvert_exporter": "python",
   "pygments_lexer": "ipython3",
   "version": "3.10.12"
  },
  "papermill": {
   "default_parameters": {},
   "duration": 47.099557,
   "end_time": "2025-08-19T18:05:59.864690",
   "environment_variables": {},
   "exception": null,
   "input_path": "universe_analysis.ipynb",
   "output_path": "output/runs/3/notebooks/m_3-d9b1aab13a90fa48ecd4cbc5aa821279.ipynb",
   "parameters": {
    "output_dir": "output",
    "run_no": "3",
    "seed": "2023",
    "universe": "{\"cutoff\": [\"quantile_0.1\", \"quantile_0.25\"], \"eval_fairness_grouping\": [\"majority-minority\", \"nationality-all\"], \"exclude_features\": \"nationality-sex\", \"exclude_subgroups\": \"drop-non-german\", \"model\": \"rf\", \"scale\": \"scale\", \"training_size\": \"25k\", \"training_year\": \"2012_14\"}",
    "universe_id": "d9b1aab13a90fa48ecd4cbc5aa821279"
   },
   "start_time": "2025-08-19T18:05:12.765133",
   "version": "2.6.0"
  }
 },
 "nbformat": 4,
 "nbformat_minor": 5
}