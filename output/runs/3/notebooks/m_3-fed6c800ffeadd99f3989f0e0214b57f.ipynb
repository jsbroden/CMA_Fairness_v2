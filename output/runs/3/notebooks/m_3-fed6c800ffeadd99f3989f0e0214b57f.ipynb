{
 "cells": [
  {
   "cell_type": "markdown",
   "id": "ef23dbb3",
   "metadata": {
    "papermill": {
     "duration": 0.027178,
     "end_time": "2025-08-19T19:06:17.234632",
     "exception": false,
     "start_time": "2025-08-19T19:06:17.207454",
     "status": "completed"
    },
    "tags": []
   },
   "source": [
    "# Setup"
   ]
  },
  {
   "cell_type": "code",
   "execution_count": 1,
   "id": "0bc8e7dc",
   "metadata": {
    "execution": {
     "iopub.execute_input": "2025-08-19T19:06:17.260820Z",
     "iopub.status.busy": "2025-08-19T19:06:17.260514Z",
     "iopub.status.idle": "2025-08-19T19:06:17.269112Z",
     "shell.execute_reply": "2025-08-19T19:06:17.268578Z"
    },
    "papermill": {
     "duration": 0.022134,
     "end_time": "2025-08-19T19:06:17.270805",
     "exception": false,
     "start_time": "2025-08-19T19:06:17.248671",
     "status": "completed"
    },
    "tags": []
   },
   "outputs": [
    {
     "name": "stdout",
     "output_type": "stream",
     "text": [
      "/dss/dsshome1/0C/ra93lal2/cma/CMA_Fairness_v2\n"
     ]
    },
    {
     "name": "stderr",
     "output_type": "stream",
     "text": [
      "/dss/dsshome1/0C/ra93lal2/.local/share/virtualenvs/CMA_Fairness_v2-3j10GkSs/lib/python3.10/site-packages/IPython/core/magics/osm.py:393: UserWarning: This is now an optional IPython functionality, using bookmarks requires you to install the `pickleshare` library.\n",
      "  bkms = self.shell.db.get('bookmarks', {})\n",
      "/dss/dsshome1/0C/ra93lal2/.local/share/virtualenvs/CMA_Fairness_v2-3j10GkSs/lib/python3.10/site-packages/IPython/core/magics/osm.py:417: UserWarning: This is now an optional IPython functionality, setting dhist requires you to install the `pickleshare` library.\n",
      "  self.shell.db['dhist'] = compress_dhist(dhist)[-100:]\n"
     ]
    }
   ],
   "source": [
    "%cd ~/cma/CMA_Fairness_v2"
   ]
  },
  {
   "cell_type": "markdown",
   "id": "9d235661",
   "metadata": {
    "papermill": {
     "duration": 0.018492,
     "end_time": "2025-08-19T19:06:17.312703",
     "exception": false,
     "start_time": "2025-08-19T19:06:17.294211",
     "status": "completed"
    },
    "tags": []
   },
   "source": [
    "The following cell holds the definition of our parameters, these values can be overriden by rendering the with e.g. the following command:\n",
    "\n",
    "papermill -p alpha 0.2 -p ratio 0.3 universe_analysis.ipynb output/test_run.ipynb"
   ]
  },
  {
   "cell_type": "code",
   "execution_count": 2,
   "id": "4a789d8e",
   "metadata": {
    "execution": {
     "iopub.execute_input": "2025-08-19T19:06:17.335209Z",
     "iopub.status.busy": "2025-08-19T19:06:17.334924Z",
     "iopub.status.idle": "2025-08-19T19:06:17.338545Z",
     "shell.execute_reply": "2025-08-19T19:06:17.337968Z"
    },
    "papermill": {
     "duration": 0.015574,
     "end_time": "2025-08-19T19:06:17.340661",
     "exception": false,
     "start_time": "2025-08-19T19:06:17.325087",
     "status": "completed"
    },
    "tags": []
   },
   "outputs": [
    {
     "name": "stdout",
     "output_type": "stream",
     "text": [
      "Current working directory: /dss/dsshome1/0C/ra93lal2/cma/CMA_Fairness_v2\n"
     ]
    }
   ],
   "source": [
    "import os\n",
    "print(\"Current working directory:\", os.getcwd())"
   ]
  },
  {
   "cell_type": "code",
   "execution_count": 3,
   "id": "4132aaed",
   "metadata": {
    "execution": {
     "iopub.execute_input": "2025-08-19T19:06:17.366107Z",
     "iopub.status.busy": "2025-08-19T19:06:17.365840Z",
     "iopub.status.idle": "2025-08-19T19:06:17.370630Z",
     "shell.execute_reply": "2025-08-19T19:06:17.370077Z"
    },
    "papermill": {
     "duration": 0.019593,
     "end_time": "2025-08-19T19:06:17.373406",
     "exception": false,
     "start_time": "2025-08-19T19:06:17.353813",
     "status": "completed"
    },
    "tags": [
     "parameters"
    ]
   },
   "outputs": [],
   "source": [
    "run_no = 0\n",
    "universe_id = \"test\"\n",
    "universe = {\n",
    "    \"training_size\": \"5k\", # \"25k\", \"5k\", \"1k\"\n",
    "    \"training_year\": \"2012_14\", # \"2014\", \"2012_14\", \"2010_14\"\n",
    "    \"scale\": \"scale\", # \"scale\", \"do-not-scale\",\n",
    "    \"model\": \"elasticnet\", # \"logreg\", \"penalized_logreg\", \"rf\", \"gbm\", \"elasticnet\"\n",
    "    \"cutoff\": [\"quantile_0.15\", \"quantile_0.30\"],\n",
    "    \"exclude_features\": \"age\", # \"none\", \"nationality\", \"sex\", \"nationality-sex\", \"age\"\n",
    "    \"exclude_subgroups\": \"drop-non-german\", # \"keep-all\", \"drop-non-german\"\n",
    "    \"eval_fairness_grouping\": [\"majority-minority\", \"nationality-all\"]\n",
    "}\n",
    "\n",
    "output_dir=\"./output\"\n",
    "seed=0"
   ]
  },
  {
   "cell_type": "code",
   "execution_count": 4,
   "id": "d05614a1",
   "metadata": {
    "execution": {
     "iopub.execute_input": "2025-08-19T19:06:17.397019Z",
     "iopub.status.busy": "2025-08-19T19:06:17.396591Z",
     "iopub.status.idle": "2025-08-19T19:06:17.402171Z",
     "shell.execute_reply": "2025-08-19T19:06:17.400867Z"
    },
    "papermill": {
     "duration": 0.018891,
     "end_time": "2025-08-19T19:06:17.404146",
     "exception": false,
     "start_time": "2025-08-19T19:06:17.385255",
     "status": "completed"
    },
    "tags": [
     "injected-parameters"
    ]
   },
   "outputs": [],
   "source": [
    "# Parameters\n",
    "universe_id = \"fed6c800ffeadd99f3989f0e0214b57f\"\n",
    "run_no = \"3\"\n",
    "universe = \"{\\\"cutoff\\\": [\\\"quantile_0.1\\\", \\\"quantile_0.25\\\"], \\\"eval_fairness_grouping\\\": [\\\"majority-minority\\\", \\\"nationality-all\\\"], \\\"exclude_features\\\": \\\"nationality\\\", \\\"exclude_subgroups\\\": \\\"drop-non-german\\\", \\\"model\\\": \\\"rf\\\", \\\"scale\\\": \\\"scale\\\", \\\"training_size\\\": \\\"1k\\\", \\\"training_year\\\": \\\"2010_14\\\"}\"\n",
    "output_dir = \"output\"\n",
    "seed = \"2023\"\n"
   ]
  },
  {
   "cell_type": "code",
   "execution_count": 5,
   "id": "a5d7941f",
   "metadata": {
    "execution": {
     "iopub.execute_input": "2025-08-19T19:06:17.427065Z",
     "iopub.status.busy": "2025-08-19T19:06:17.426491Z",
     "iopub.status.idle": "2025-08-19T19:06:17.433671Z",
     "shell.execute_reply": "2025-08-19T19:06:17.431867Z"
    },
    "papermill": {
     "duration": 0.020606,
     "end_time": "2025-08-19T19:06:17.435559",
     "exception": false,
     "start_time": "2025-08-19T19:06:17.414953",
     "status": "completed"
    },
    "tags": []
   },
   "outputs": [],
   "source": [
    "import json\n",
    "if isinstance(universe, str):\n",
    "    universe = json.loads(universe)"
   ]
  },
  {
   "cell_type": "code",
   "execution_count": 6,
   "id": "7076ccb1",
   "metadata": {
    "execution": {
     "iopub.execute_input": "2025-08-19T19:06:17.460207Z",
     "iopub.status.busy": "2025-08-19T19:06:17.458827Z",
     "iopub.status.idle": "2025-08-19T19:06:17.600161Z",
     "shell.execute_reply": "2025-08-19T19:06:17.599248Z"
    },
    "papermill": {
     "duration": 0.156064,
     "end_time": "2025-08-19T19:06:17.603270",
     "exception": false,
     "start_time": "2025-08-19T19:06:17.447206",
     "status": "completed"
    },
    "tags": []
   },
   "outputs": [],
   "source": [
    "# Auto-reload the custom package\n",
    "%load_ext autoreload\n",
    "%autoreload 1\n",
    "%aimport fairness_multiverse"
   ]
  },
  {
   "cell_type": "code",
   "execution_count": 7,
   "id": "94c8eb93",
   "metadata": {
    "execution": {
     "iopub.execute_input": "2025-08-19T19:06:17.640967Z",
     "iopub.status.busy": "2025-08-19T19:06:17.639765Z",
     "iopub.status.idle": "2025-08-19T19:06:19.398719Z",
     "shell.execute_reply": "2025-08-19T19:06:19.397632Z"
    },
    "papermill": {
     "duration": 1.775698,
     "end_time": "2025-08-19T19:06:19.400583",
     "exception": false,
     "start_time": "2025-08-19T19:06:17.624885",
     "status": "completed"
    },
    "tags": []
   },
   "outputs": [],
   "source": [
    "from fairness_multiverse.universe import UniverseAnalysis\n",
    "\n",
    "universe_analysis = UniverseAnalysis(\n",
    "    run_no = run_no,\n",
    "    universe_id = universe_id,\n",
    "    universe = universe,\n",
    "    output_dir=output_dir,\n",
    ")"
   ]
  },
  {
   "cell_type": "code",
   "execution_count": 8,
   "id": "2a6381cf",
   "metadata": {
    "execution": {
     "iopub.execute_input": "2025-08-19T19:06:19.432335Z",
     "iopub.status.busy": "2025-08-19T19:06:19.431131Z",
     "iopub.status.idle": "2025-08-19T19:06:19.446747Z",
     "shell.execute_reply": "2025-08-19T19:06:19.444759Z"
    },
    "papermill": {
     "duration": 0.035684,
     "end_time": "2025-08-19T19:06:19.448948",
     "exception": false,
     "start_time": "2025-08-19T19:06:19.413264",
     "status": "completed"
    },
    "tags": []
   },
   "outputs": [
    {
     "name": "stdout",
     "output_type": "stream",
     "text": [
      "Using Seed: 2023\n"
     ]
    }
   ],
   "source": [
    "import numpy as np\n",
    "parsed_seed = int(seed)\n",
    "np.random.seed(parsed_seed)\n",
    "print(f\"Using Seed: {parsed_seed}\")"
   ]
  },
  {
   "cell_type": "markdown",
   "id": "b6e958b4",
   "metadata": {
    "papermill": {
     "duration": 0.009161,
     "end_time": "2025-08-19T19:06:19.471742",
     "exception": false,
     "start_time": "2025-08-19T19:06:19.462581",
     "status": "completed"
    },
    "tags": []
   },
   "source": [
    "# Loading Data"
   ]
  },
  {
   "cell_type": "code",
   "execution_count": 9,
   "id": "98701482",
   "metadata": {
    "execution": {
     "iopub.execute_input": "2025-08-19T19:06:19.491655Z",
     "iopub.status.busy": "2025-08-19T19:06:19.491204Z",
     "iopub.status.idle": "2025-08-19T19:06:30.345348Z",
     "shell.execute_reply": "2025-08-19T19:06:30.343898Z"
    },
    "papermill": {
     "duration": 10.866997,
     "end_time": "2025-08-19T19:06:30.347880",
     "exception": false,
     "start_time": "2025-08-19T19:06:19.480883",
     "status": "completed"
    },
    "tags": []
   },
   "outputs": [
    {
     "name": "stdout",
     "output_type": "stream",
     "text": [
      "Loading SIAB data from cache: data/siab_cached.csv.gz\n"
     ]
    },
    {
     "name": "stdout",
     "output_type": "stream",
     "text": [
      "(643690, 164)\n"
     ]
    }
   ],
   "source": [
    "from pathlib import Path\n",
    "import pandas as pd\n",
    "\n",
    "# File paths\n",
    "raw_file = Path(\"data/raw/siab.csv\")\n",
    "cache_file = Path(\"data/siab_cached.csv.gz\")\n",
    "\n",
    "# Ensure cache directory exists\n",
    "cache_file.parent.mkdir(parents=True, exist_ok=True)\n",
    "\n",
    "# Load with simple caching\n",
    "if cache_file.exists():\n",
    "    print(f\"Loading SIAB data from cache: {cache_file}\")\n",
    "    siab = pd.read_csv(cache_file, compression='gzip')\n",
    "else:\n",
    "    print(f\"Cache not found. Reading raw SIAB data: {raw_file}\")\n",
    "    siab = pd.read_csv(raw_file)\n",
    "    siab.to_csv(cache_file, index=False, compression='gzip')\n",
    "    print(f\"Cached SIAB data to: {cache_file}\")\n",
    "\n",
    "print(siab.shape)"
   ]
  },
  {
   "cell_type": "code",
   "execution_count": 10,
   "id": "058d2abb",
   "metadata": {
    "execution": {
     "iopub.execute_input": "2025-08-19T19:06:30.389240Z",
     "iopub.status.busy": "2025-08-19T19:06:30.387738Z",
     "iopub.status.idle": "2025-08-19T19:06:30.577660Z",
     "shell.execute_reply": "2025-08-19T19:06:30.576890Z"
    },
    "papermill": {
     "duration": 0.208922,
     "end_time": "2025-08-19T19:06:30.581141",
     "exception": false,
     "start_time": "2025-08-19T19:06:30.372219",
     "status": "completed"
    },
    "tags": []
   },
   "outputs": [
    {
     "data": {
      "text/html": [
       "<div>\n",
       "<style scoped>\n",
       "    .dataframe tbody tr th:only-of-type {\n",
       "        vertical-align: middle;\n",
       "    }\n",
       "\n",
       "    .dataframe tbody tr th {\n",
       "        vertical-align: top;\n",
       "    }\n",
       "\n",
       "    .dataframe thead th {\n",
       "        text-align: right;\n",
       "    }\n",
       "</style>\n",
       "<table border=\"1\" class=\"dataframe\">\n",
       "  <thead>\n",
       "    <tr style=\"text-align: right;\">\n",
       "      <th></th>\n",
       "      <th>persnr</th>\n",
       "      <th>year</th>\n",
       "      <th>nrEntry</th>\n",
       "      <th>ltue</th>\n",
       "      <th>employed_before</th>\n",
       "      <th>receipt_leh_before</th>\n",
       "      <th>receipt_lhg_before</th>\n",
       "      <th>se_before</th>\n",
       "      <th>ASU_notue_seeking_before</th>\n",
       "      <th>ASU_other_before</th>\n",
       "      <th>...</th>\n",
       "      <th>minijob_tot_dur_byage</th>\n",
       "      <th>ft_tot_dur_byage</th>\n",
       "      <th>befrist_tot_dur_byage</th>\n",
       "      <th>leih_tot_dur_byage</th>\n",
       "      <th>LHG_tot_dur_byage</th>\n",
       "      <th>LEH_tot_dur_byage</th>\n",
       "      <th>almp_tot_dur_byage</th>\n",
       "      <th>almp_aw_tot_dur_byage</th>\n",
       "      <th>se_tot_dur_byage</th>\n",
       "      <th>seeking1_tot_dur_byage</th>\n",
       "    </tr>\n",
       "  </thead>\n",
       "  <tbody>\n",
       "    <tr>\n",
       "      <th>0</th>\n",
       "      <td>7</td>\n",
       "      <td>2015</td>\n",
       "      <td>1</td>\n",
       "      <td>0</td>\n",
       "      <td>1</td>\n",
       "      <td>0</td>\n",
       "      <td>0</td>\n",
       "      <td>0</td>\n",
       "      <td>1</td>\n",
       "      <td>0</td>\n",
       "      <td>...</td>\n",
       "      <td>0.000000</td>\n",
       "      <td>0.000000</td>\n",
       "      <td>15.043478</td>\n",
       "      <td>0.000000</td>\n",
       "      <td>0.000000</td>\n",
       "      <td>0.000000</td>\n",
       "      <td>0.000000</td>\n",
       "      <td>0.000000</td>\n",
       "      <td>0.000000</td>\n",
       "      <td>0.000000</td>\n",
       "    </tr>\n",
       "    <tr>\n",
       "      <th>1</th>\n",
       "      <td>18</td>\n",
       "      <td>2010</td>\n",
       "      <td>1</td>\n",
       "      <td>1</td>\n",
       "      <td>0</td>\n",
       "      <td>0</td>\n",
       "      <td>0</td>\n",
       "      <td>0</td>\n",
       "      <td>0</td>\n",
       "      <td>0</td>\n",
       "      <td>...</td>\n",
       "      <td>0.000000</td>\n",
       "      <td>0.000000</td>\n",
       "      <td>0.000000</td>\n",
       "      <td>0.000000</td>\n",
       "      <td>0.000000</td>\n",
       "      <td>0.000000</td>\n",
       "      <td>0.000000</td>\n",
       "      <td>0.000000</td>\n",
       "      <td>0.000000</td>\n",
       "      <td>0.000000</td>\n",
       "    </tr>\n",
       "    <tr>\n",
       "      <th>2</th>\n",
       "      <td>18</td>\n",
       "      <td>2011</td>\n",
       "      <td>2</td>\n",
       "      <td>0</td>\n",
       "      <td>1</td>\n",
       "      <td>0</td>\n",
       "      <td>1</td>\n",
       "      <td>0</td>\n",
       "      <td>1</td>\n",
       "      <td>0</td>\n",
       "      <td>...</td>\n",
       "      <td>2.714286</td>\n",
       "      <td>2.714286</td>\n",
       "      <td>0.000000</td>\n",
       "      <td>0.000000</td>\n",
       "      <td>10.775510</td>\n",
       "      <td>0.000000</td>\n",
       "      <td>8.367347</td>\n",
       "      <td>0.000000</td>\n",
       "      <td>0.000000</td>\n",
       "      <td>9.836735</td>\n",
       "    </tr>\n",
       "    <tr>\n",
       "      <th>3</th>\n",
       "      <td>18</td>\n",
       "      <td>2012</td>\n",
       "      <td>3</td>\n",
       "      <td>0</td>\n",
       "      <td>1</td>\n",
       "      <td>0</td>\n",
       "      <td>1</td>\n",
       "      <td>0</td>\n",
       "      <td>1</td>\n",
       "      <td>0</td>\n",
       "      <td>...</td>\n",
       "      <td>4.200000</td>\n",
       "      <td>4.200000</td>\n",
       "      <td>0.000000</td>\n",
       "      <td>0.000000</td>\n",
       "      <td>12.100000</td>\n",
       "      <td>0.000000</td>\n",
       "      <td>9.400000</td>\n",
       "      <td>0.000000</td>\n",
       "      <td>0.000000</td>\n",
       "      <td>9.960000</td>\n",
       "    </tr>\n",
       "    <tr>\n",
       "      <th>4</th>\n",
       "      <td>18</td>\n",
       "      <td>2012</td>\n",
       "      <td>4</td>\n",
       "      <td>0</td>\n",
       "      <td>1</td>\n",
       "      <td>0</td>\n",
       "      <td>1</td>\n",
       "      <td>0</td>\n",
       "      <td>1</td>\n",
       "      <td>0</td>\n",
       "      <td>...</td>\n",
       "      <td>5.460000</td>\n",
       "      <td>5.460000</td>\n",
       "      <td>0.000000</td>\n",
       "      <td>0.000000</td>\n",
       "      <td>13.360000</td>\n",
       "      <td>0.000000</td>\n",
       "      <td>10.320000</td>\n",
       "      <td>0.000000</td>\n",
       "      <td>0.000000</td>\n",
       "      <td>10.280000</td>\n",
       "    </tr>\n",
       "    <tr>\n",
       "      <th>...</th>\n",
       "      <td>...</td>\n",
       "      <td>...</td>\n",
       "      <td>...</td>\n",
       "      <td>...</td>\n",
       "      <td>...</td>\n",
       "      <td>...</td>\n",
       "      <td>...</td>\n",
       "      <td>...</td>\n",
       "      <td>...</td>\n",
       "      <td>...</td>\n",
       "      <td>...</td>\n",
       "      <td>...</td>\n",
       "      <td>...</td>\n",
       "      <td>...</td>\n",
       "      <td>...</td>\n",
       "      <td>...</td>\n",
       "      <td>...</td>\n",
       "      <td>...</td>\n",
       "      <td>...</td>\n",
       "      <td>...</td>\n",
       "      <td>...</td>\n",
       "    </tr>\n",
       "    <tr>\n",
       "      <th>643685</th>\n",
       "      <td>1827860</td>\n",
       "      <td>2013</td>\n",
       "      <td>1</td>\n",
       "      <td>0</td>\n",
       "      <td>0</td>\n",
       "      <td>0</td>\n",
       "      <td>1</td>\n",
       "      <td>0</td>\n",
       "      <td>0</td>\n",
       "      <td>1</td>\n",
       "      <td>...</td>\n",
       "      <td>0.000000</td>\n",
       "      <td>0.000000</td>\n",
       "      <td>0.000000</td>\n",
       "      <td>0.000000</td>\n",
       "      <td>0.612903</td>\n",
       "      <td>0.000000</td>\n",
       "      <td>0.000000</td>\n",
       "      <td>0.000000</td>\n",
       "      <td>0.000000</td>\n",
       "      <td>0.000000</td>\n",
       "    </tr>\n",
       "    <tr>\n",
       "      <th>643686</th>\n",
       "      <td>1827860</td>\n",
       "      <td>2015</td>\n",
       "      <td>2</td>\n",
       "      <td>1</td>\n",
       "      <td>0</td>\n",
       "      <td>0</td>\n",
       "      <td>1</td>\n",
       "      <td>0</td>\n",
       "      <td>1</td>\n",
       "      <td>0</td>\n",
       "      <td>...</td>\n",
       "      <td>0.000000</td>\n",
       "      <td>0.000000</td>\n",
       "      <td>0.212121</td>\n",
       "      <td>0.212121</td>\n",
       "      <td>17.363636</td>\n",
       "      <td>0.000000</td>\n",
       "      <td>8.909091</td>\n",
       "      <td>0.000000</td>\n",
       "      <td>0.000000</td>\n",
       "      <td>7.121212</td>\n",
       "    </tr>\n",
       "    <tr>\n",
       "      <th>643687</th>\n",
       "      <td>1827860</td>\n",
       "      <td>2016</td>\n",
       "      <td>3</td>\n",
       "      <td>1</td>\n",
       "      <td>0</td>\n",
       "      <td>0</td>\n",
       "      <td>1</td>\n",
       "      <td>1</td>\n",
       "      <td>0</td>\n",
       "      <td>1</td>\n",
       "      <td>...</td>\n",
       "      <td>0.000000</td>\n",
       "      <td>0.000000</td>\n",
       "      <td>0.294118</td>\n",
       "      <td>0.205882</td>\n",
       "      <td>34.705882</td>\n",
       "      <td>0.000000</td>\n",
       "      <td>10.352941</td>\n",
       "      <td>1.705882</td>\n",
       "      <td>1.705882</td>\n",
       "      <td>23.911765</td>\n",
       "    </tr>\n",
       "    <tr>\n",
       "      <th>643688</th>\n",
       "      <td>1827869</td>\n",
       "      <td>2013</td>\n",
       "      <td>1</td>\n",
       "      <td>1</td>\n",
       "      <td>1</td>\n",
       "      <td>0</td>\n",
       "      <td>0</td>\n",
       "      <td>0</td>\n",
       "      <td>1</td>\n",
       "      <td>0</td>\n",
       "      <td>...</td>\n",
       "      <td>0.000000</td>\n",
       "      <td>0.000000</td>\n",
       "      <td>0.000000</td>\n",
       "      <td>0.000000</td>\n",
       "      <td>0.000000</td>\n",
       "      <td>0.525424</td>\n",
       "      <td>0.000000</td>\n",
       "      <td>0.000000</td>\n",
       "      <td>0.000000</td>\n",
       "      <td>0.000000</td>\n",
       "    </tr>\n",
       "    <tr>\n",
       "      <th>643689</th>\n",
       "      <td>1827869</td>\n",
       "      <td>2014</td>\n",
       "      <td>2</td>\n",
       "      <td>0</td>\n",
       "      <td>0</td>\n",
       "      <td>1</td>\n",
       "      <td>0</td>\n",
       "      <td>0</td>\n",
       "      <td>1</td>\n",
       "      <td>0</td>\n",
       "      <td>...</td>\n",
       "      <td>0.000000</td>\n",
       "      <td>0.666667</td>\n",
       "      <td>0.666667</td>\n",
       "      <td>0.000000</td>\n",
       "      <td>0.000000</td>\n",
       "      <td>8.950000</td>\n",
       "      <td>1.033333</td>\n",
       "      <td>0.083333</td>\n",
       "      <td>0.083333</td>\n",
       "      <td>8.133333</td>\n",
       "    </tr>\n",
       "  </tbody>\n",
       "</table>\n",
       "<p>643690 rows × 164 columns</p>\n",
       "</div>"
      ],
      "text/plain": [
       "         persnr  year  nrEntry  ltue  employed_before  receipt_leh_before  \\\n",
       "0             7  2015        1     0                1                   0   \n",
       "1            18  2010        1     1                0                   0   \n",
       "2            18  2011        2     0                1                   0   \n",
       "3            18  2012        3     0                1                   0   \n",
       "4            18  2012        4     0                1                   0   \n",
       "...         ...   ...      ...   ...              ...                 ...   \n",
       "643685  1827860  2013        1     0                0                   0   \n",
       "643686  1827860  2015        2     1                0                   0   \n",
       "643687  1827860  2016        3     1                0                   0   \n",
       "643688  1827869  2013        1     1                1                   0   \n",
       "643689  1827869  2014        2     0                0                   1   \n",
       "\n",
       "        receipt_lhg_before  se_before  ASU_notue_seeking_before  \\\n",
       "0                        0          0                         1   \n",
       "1                        0          0                         0   \n",
       "2                        1          0                         1   \n",
       "3                        1          0                         1   \n",
       "4                        1          0                         1   \n",
       "...                    ...        ...                       ...   \n",
       "643685                   1          0                         0   \n",
       "643686                   1          0                         1   \n",
       "643687                   1          1                         0   \n",
       "643688                   0          0                         1   \n",
       "643689                   0          0                         1   \n",
       "\n",
       "        ASU_other_before  ...  minijob_tot_dur_byage  ft_tot_dur_byage  \\\n",
       "0                      0  ...               0.000000          0.000000   \n",
       "1                      0  ...               0.000000          0.000000   \n",
       "2                      0  ...               2.714286          2.714286   \n",
       "3                      0  ...               4.200000          4.200000   \n",
       "4                      0  ...               5.460000          5.460000   \n",
       "...                  ...  ...                    ...               ...   \n",
       "643685                 1  ...               0.000000          0.000000   \n",
       "643686                 0  ...               0.000000          0.000000   \n",
       "643687                 1  ...               0.000000          0.000000   \n",
       "643688                 0  ...               0.000000          0.000000   \n",
       "643689                 0  ...               0.000000          0.666667   \n",
       "\n",
       "        befrist_tot_dur_byage  leih_tot_dur_byage  LHG_tot_dur_byage  \\\n",
       "0                   15.043478            0.000000           0.000000   \n",
       "1                    0.000000            0.000000           0.000000   \n",
       "2                    0.000000            0.000000          10.775510   \n",
       "3                    0.000000            0.000000          12.100000   \n",
       "4                    0.000000            0.000000          13.360000   \n",
       "...                       ...                 ...                ...   \n",
       "643685               0.000000            0.000000           0.612903   \n",
       "643686               0.212121            0.212121          17.363636   \n",
       "643687               0.294118            0.205882          34.705882   \n",
       "643688               0.000000            0.000000           0.000000   \n",
       "643689               0.666667            0.000000           0.000000   \n",
       "\n",
       "        LEH_tot_dur_byage  almp_tot_dur_byage  almp_aw_tot_dur_byage  \\\n",
       "0                0.000000            0.000000               0.000000   \n",
       "1                0.000000            0.000000               0.000000   \n",
       "2                0.000000            8.367347               0.000000   \n",
       "3                0.000000            9.400000               0.000000   \n",
       "4                0.000000           10.320000               0.000000   \n",
       "...                   ...                 ...                    ...   \n",
       "643685           0.000000            0.000000               0.000000   \n",
       "643686           0.000000            8.909091               0.000000   \n",
       "643687           0.000000           10.352941               1.705882   \n",
       "643688           0.525424            0.000000               0.000000   \n",
       "643689           8.950000            1.033333               0.083333   \n",
       "\n",
       "        se_tot_dur_byage  seeking1_tot_dur_byage  \n",
       "0               0.000000                0.000000  \n",
       "1               0.000000                0.000000  \n",
       "2               0.000000                9.836735  \n",
       "3               0.000000                9.960000  \n",
       "4               0.000000               10.280000  \n",
       "...                  ...                     ...  \n",
       "643685          0.000000                0.000000  \n",
       "643686          0.000000                7.121212  \n",
       "643687          1.705882               23.911765  \n",
       "643688          0.000000                0.000000  \n",
       "643689          0.083333                8.133333  \n",
       "\n",
       "[643690 rows x 164 columns]"
      ]
     },
     "execution_count": 10,
     "metadata": {},
     "output_type": "execute_result"
    }
   ],
   "source": [
    "siab"
   ]
  },
  {
   "cell_type": "markdown",
   "id": "1f87e805",
   "metadata": {
    "papermill": {
     "duration": 0.010755,
     "end_time": "2025-08-19T19:06:30.616744",
     "exception": false,
     "start_time": "2025-08-19T19:06:30.605989",
     "status": "completed"
    },
    "tags": []
   },
   "source": [
    "# Splitting Data and Setting Training Data Size"
   ]
  },
  {
   "cell_type": "code",
   "execution_count": 11,
   "id": "910ae358",
   "metadata": {
    "execution": {
     "iopub.execute_input": "2025-08-19T19:06:30.639387Z",
     "iopub.status.busy": "2025-08-19T19:06:30.638005Z",
     "iopub.status.idle": "2025-08-19T19:06:31.709997Z",
     "shell.execute_reply": "2025-08-19T19:06:31.709222Z"
    },
    "papermill": {
     "duration": 1.085863,
     "end_time": "2025-08-19T19:06:31.712326",
     "exception": false,
     "start_time": "2025-08-19T19:06:30.626463",
     "status": "completed"
    },
    "tags": []
   },
   "outputs": [],
   "source": [
    "from fairness_multiverse.universe import sample_by_year_size\n",
    "\n",
    "siab_train = sample_by_year_size(siab,\n",
    "                               training_year=universe[\"training_year\"],\n",
    "                               training_size=universe[\"training_size\"])"
   ]
  },
  {
   "cell_type": "code",
   "execution_count": 12,
   "id": "919c8ff5",
   "metadata": {
    "execution": {
     "iopub.execute_input": "2025-08-19T19:06:31.747874Z",
     "iopub.status.busy": "2025-08-19T19:06:31.747264Z",
     "iopub.status.idle": "2025-08-19T19:06:31.761060Z",
     "shell.execute_reply": "2025-08-19T19:06:31.760091Z"
    },
    "papermill": {
     "duration": 0.030592,
     "end_time": "2025-08-19T19:06:31.762892",
     "exception": false,
     "start_time": "2025-08-19T19:06:31.732300",
     "status": "completed"
    },
    "tags": []
   },
   "outputs": [
    {
     "data": {
      "text/plain": [
       "(1000, 164)"
      ]
     },
     "execution_count": 12,
     "metadata": {},
     "output_type": "execute_result"
    }
   ],
   "source": [
    "siab_train.shape"
   ]
  },
  {
   "cell_type": "code",
   "execution_count": 13,
   "id": "feb13bf4",
   "metadata": {
    "execution": {
     "iopub.execute_input": "2025-08-19T19:06:31.797109Z",
     "iopub.status.busy": "2025-08-19T19:06:31.793891Z",
     "iopub.status.idle": "2025-08-19T19:06:31.817127Z",
     "shell.execute_reply": "2025-08-19T19:06:31.816110Z"
    },
    "papermill": {
     "duration": 0.041752,
     "end_time": "2025-08-19T19:06:31.818897",
     "exception": false,
     "start_time": "2025-08-19T19:06:31.777145",
     "status": "completed"
    },
    "tags": []
   },
   "outputs": [
    {
     "data": {
      "text/plain": [
       "year\n",
       "2010    200\n",
       "2011    200\n",
       "2012    200\n",
       "2013    200\n",
       "2014    200\n",
       "dtype: int64"
      ]
     },
     "metadata": {},
     "output_type": "display_data"
    }
   ],
   "source": [
    "display(siab_train.groupby(\"year\").size())"
   ]
  },
  {
   "cell_type": "code",
   "execution_count": 14,
   "id": "0997782f",
   "metadata": {
    "execution": {
     "iopub.execute_input": "2025-08-19T19:06:31.855055Z",
     "iopub.status.busy": "2025-08-19T19:06:31.853665Z",
     "iopub.status.idle": "2025-08-19T19:06:32.118613Z",
     "shell.execute_reply": "2025-08-19T19:06:32.117819Z"
    },
    "papermill": {
     "duration": 0.28011,
     "end_time": "2025-08-19T19:06:32.120217",
     "exception": false,
     "start_time": "2025-08-19T19:06:31.840107",
     "status": "completed"
    },
    "tags": []
   },
   "outputs": [],
   "source": [
    "#siab_train = siab_s[siab_s.year < 2015]\n",
    "siab_calib = siab[siab.year == 2015]\n",
    "siab_test = siab[siab.year == 2016]"
   ]
  },
  {
   "cell_type": "code",
   "execution_count": 15,
   "id": "2c1e4012",
   "metadata": {
    "execution": {
     "iopub.execute_input": "2025-08-19T19:06:32.145184Z",
     "iopub.status.busy": "2025-08-19T19:06:32.143926Z",
     "iopub.status.idle": "2025-08-19T19:06:32.149572Z",
     "shell.execute_reply": "2025-08-19T19:06:32.148869Z"
    },
    "papermill": {
     "duration": 0.019296,
     "end_time": "2025-08-19T19:06:32.150912",
     "exception": false,
     "start_time": "2025-08-19T19:06:32.131616",
     "status": "completed"
    },
    "tags": []
   },
   "outputs": [],
   "source": [
    "#siab_calib.shape"
   ]
  },
  {
   "cell_type": "code",
   "execution_count": 16,
   "id": "f66b54ca",
   "metadata": {
    "execution": {
     "iopub.execute_input": "2025-08-19T19:06:32.175763Z",
     "iopub.status.busy": "2025-08-19T19:06:32.175148Z",
     "iopub.status.idle": "2025-08-19T19:06:32.185073Z",
     "shell.execute_reply": "2025-08-19T19:06:32.184348Z"
    },
    "papermill": {
     "duration": 0.026606,
     "end_time": "2025-08-19T19:06:32.187757",
     "exception": false,
     "start_time": "2025-08-19T19:06:32.161151",
     "status": "completed"
    },
    "tags": []
   },
   "outputs": [],
   "source": [
    "#siab_test.shape"
   ]
  },
  {
   "cell_type": "code",
   "execution_count": 17,
   "id": "27e4384d",
   "metadata": {
    "execution": {
     "iopub.execute_input": "2025-08-19T19:06:32.230242Z",
     "iopub.status.busy": "2025-08-19T19:06:32.228912Z",
     "iopub.status.idle": "2025-08-19T19:06:32.240663Z",
     "shell.execute_reply": "2025-08-19T19:06:32.239419Z"
    },
    "papermill": {
     "duration": 0.027999,
     "end_time": "2025-08-19T19:06:32.242129",
     "exception": false,
     "start_time": "2025-08-19T19:06:32.214130",
     "status": "completed"
    },
    "tags": []
   },
   "outputs": [],
   "source": [
    "X_train = siab_train.iloc[:,4:164]\n",
    "y_train = siab_train.iloc[:, [3]]"
   ]
  },
  {
   "cell_type": "code",
   "execution_count": 18,
   "id": "08ee8389",
   "metadata": {
    "execution": {
     "iopub.execute_input": "2025-08-19T19:06:32.271561Z",
     "iopub.status.busy": "2025-08-19T19:06:32.270286Z",
     "iopub.status.idle": "2025-08-19T19:06:32.337525Z",
     "shell.execute_reply": "2025-08-19T19:06:32.336732Z"
    },
    "papermill": {
     "duration": 0.081541,
     "end_time": "2025-08-19T19:06:32.339840",
     "exception": false,
     "start_time": "2025-08-19T19:06:32.258299",
     "status": "completed"
    },
    "tags": []
   },
   "outputs": [],
   "source": [
    "X_calib = siab_calib.iloc[:,4:164]\n",
    "y_calib = siab_calib.iloc[:, [3]]"
   ]
  },
  {
   "cell_type": "code",
   "execution_count": 19,
   "id": "b7ff42e0",
   "metadata": {
    "execution": {
     "iopub.execute_input": "2025-08-19T19:06:32.377686Z",
     "iopub.status.busy": "2025-08-19T19:06:32.376983Z",
     "iopub.status.idle": "2025-08-19T19:06:32.449925Z",
     "shell.execute_reply": "2025-08-19T19:06:32.449194Z"
    },
    "papermill": {
     "duration": 0.088454,
     "end_time": "2025-08-19T19:06:32.451359",
     "exception": false,
     "start_time": "2025-08-19T19:06:32.362905",
     "status": "completed"
    },
    "tags": []
   },
   "outputs": [],
   "source": [
    "X_test = siab_test.iloc[:,4:164]\n",
    "y_true = siab_test.iloc[:, [3]]"
   ]
  },
  {
   "cell_type": "code",
   "execution_count": 20,
   "id": "0275101e",
   "metadata": {
    "execution": {
     "iopub.execute_input": "2025-08-19T19:06:32.480123Z",
     "iopub.status.busy": "2025-08-19T19:06:32.479772Z",
     "iopub.status.idle": "2025-08-19T19:06:32.590155Z",
     "shell.execute_reply": "2025-08-19T19:06:32.589377Z"
    },
    "papermill": {
     "duration": 0.124683,
     "end_time": "2025-08-19T19:06:32.592068",
     "exception": false,
     "start_time": "2025-08-19T19:06:32.467385",
     "status": "completed"
    },
    "tags": []
   },
   "outputs": [],
   "source": [
    "# Auxiliary data needed downstream in the pipeline\n",
    "\n",
    "org_train = X_train.copy()\n",
    "org_test = X_test.copy()\n",
    "org_calib = X_calib.copy()"
   ]
  },
  {
   "cell_type": "markdown",
   "id": "b461e618",
   "metadata": {
    "papermill": {
     "duration": 0.010717,
     "end_time": "2025-08-19T19:06:32.614912",
     "exception": false,
     "start_time": "2025-08-19T19:06:32.604195",
     "status": "completed"
    },
    "tags": []
   },
   "source": [
    "# Preprocessing Data"
   ]
  },
  {
   "cell_type": "code",
   "execution_count": 21,
   "id": "78e74c4b",
   "metadata": {
    "execution": {
     "iopub.execute_input": "2025-08-19T19:06:32.637144Z",
     "iopub.status.busy": "2025-08-19T19:06:32.636638Z",
     "iopub.status.idle": "2025-08-19T19:06:32.641846Z",
     "shell.execute_reply": "2025-08-19T19:06:32.641136Z"
    },
    "papermill": {
     "duration": 0.017889,
     "end_time": "2025-08-19T19:06:32.643202",
     "exception": false,
     "start_time": "2025-08-19T19:06:32.625313",
     "status": "completed"
    },
    "tags": []
   },
   "outputs": [],
   "source": [
    "# EXCLUDE PROTECTED FEATURES\n",
    "# --------------------------\n",
    "\n",
    "excluded_features = universe[\"exclude_features\"].split(\"-\")\n",
    "excluded_features_dictionary = {\n",
    "    \"nationality\": [\"maxdeutsch1\", \"maxdeutsch.Missing.\"],\n",
    "    \"sex\": [\"frau1\"],\n",
    "    \"age\": [\"age\"],\n",
    "}"
   ]
  },
  {
   "cell_type": "code",
   "execution_count": 22,
   "id": "f8e63555",
   "metadata": {
    "execution": {
     "iopub.execute_input": "2025-08-19T19:06:32.664973Z",
     "iopub.status.busy": "2025-08-19T19:06:32.664685Z",
     "iopub.status.idle": "2025-08-19T19:06:32.670326Z",
     "shell.execute_reply": "2025-08-19T19:06:32.669648Z"
    },
    "papermill": {
     "duration": 0.018075,
     "end_time": "2025-08-19T19:06:32.671686",
     "exception": false,
     "start_time": "2025-08-19T19:06:32.653611",
     "status": "completed"
    },
    "tags": []
   },
   "outputs": [],
   "source": [
    "excluded_features_columns = [\n",
    "    excluded_features_dictionary[f] for f in excluded_features if len(f) > 0 and f != \"none\"\n",
    "]"
   ]
  },
  {
   "cell_type": "code",
   "execution_count": 23,
   "id": "da781f7c",
   "metadata": {
    "execution": {
     "iopub.execute_input": "2025-08-19T19:06:32.693454Z",
     "iopub.status.busy": "2025-08-19T19:06:32.693180Z",
     "iopub.status.idle": "2025-08-19T19:06:32.697675Z",
     "shell.execute_reply": "2025-08-19T19:06:32.696990Z"
    },
    "papermill": {
     "duration": 0.017111,
     "end_time": "2025-08-19T19:06:32.699333",
     "exception": false,
     "start_time": "2025-08-19T19:06:32.682222",
     "status": "completed"
    },
    "tags": []
   },
   "outputs": [],
   "source": [
    "from fairness_multiverse.universe import flatten_once\n",
    "\n",
    "excluded_features_columns = flatten_once(excluded_features_columns)"
   ]
  },
  {
   "cell_type": "code",
   "execution_count": 24,
   "id": "37fef0f0",
   "metadata": {
    "execution": {
     "iopub.execute_input": "2025-08-19T19:06:32.735072Z",
     "iopub.status.busy": "2025-08-19T19:06:32.733945Z",
     "iopub.status.idle": "2025-08-19T19:06:32.747192Z",
     "shell.execute_reply": "2025-08-19T19:06:32.745953Z"
    },
    "papermill": {
     "duration": 0.028171,
     "end_time": "2025-08-19T19:06:32.748898",
     "exception": false,
     "start_time": "2025-08-19T19:06:32.720727",
     "status": "completed"
    },
    "tags": []
   },
   "outputs": [
    {
     "name": "stdout",
     "output_type": "stream",
     "text": [
      "Dropping features: ['maxdeutsch1', 'maxdeutsch.Missing.']\n"
     ]
    }
   ],
   "source": [
    "if len(excluded_features_columns) > 0:\n",
    "    print(f\"Dropping features: {excluded_features_columns}\")\n",
    "    X_train.drop(excluded_features_columns, axis=1, inplace=True)"
   ]
  },
  {
   "cell_type": "code",
   "execution_count": 25,
   "id": "d029e3e9",
   "metadata": {
    "execution": {
     "iopub.execute_input": "2025-08-19T19:06:32.778514Z",
     "iopub.status.busy": "2025-08-19T19:06:32.777329Z",
     "iopub.status.idle": "2025-08-19T19:06:32.839333Z",
     "shell.execute_reply": "2025-08-19T19:06:32.837827Z"
    },
    "papermill": {
     "duration": 0.079075,
     "end_time": "2025-08-19T19:06:32.842494",
     "exception": false,
     "start_time": "2025-08-19T19:06:32.763419",
     "status": "completed"
    },
    "tags": []
   },
   "outputs": [
    {
     "name": "stdout",
     "output_type": "stream",
     "text": [
      "Dropping features: ['maxdeutsch1', 'maxdeutsch.Missing.']\n"
     ]
    }
   ],
   "source": [
    "if len(excluded_features_columns) > 0:\n",
    "    print(f\"Dropping features: {excluded_features_columns}\")\n",
    "    X_test.drop(excluded_features_columns, axis=1, inplace=True)"
   ]
  },
  {
   "cell_type": "code",
   "execution_count": 26,
   "id": "01d571f0",
   "metadata": {
    "execution": {
     "iopub.execute_input": "2025-08-19T19:06:32.872490Z",
     "iopub.status.busy": "2025-08-19T19:06:32.871497Z",
     "iopub.status.idle": "2025-08-19T19:06:32.919039Z",
     "shell.execute_reply": "2025-08-19T19:06:32.918257Z"
    },
    "papermill": {
     "duration": 0.065617,
     "end_time": "2025-08-19T19:06:32.920302",
     "exception": false,
     "start_time": "2025-08-19T19:06:32.854685",
     "status": "completed"
    },
    "tags": []
   },
   "outputs": [
    {
     "name": "stdout",
     "output_type": "stream",
     "text": [
      "Dropping features: ['maxdeutsch1', 'maxdeutsch.Missing.']\n"
     ]
    }
   ],
   "source": [
    "if len(excluded_features_columns) > 0:\n",
    "    print(f\"Dropping features: {excluded_features_columns}\")\n",
    "    X_calib.drop(excluded_features_columns, axis=1, inplace=True)"
   ]
  },
  {
   "cell_type": "code",
   "execution_count": 27,
   "id": "3037356e",
   "metadata": {
    "execution": {
     "iopub.execute_input": "2025-08-19T19:06:32.958828Z",
     "iopub.status.busy": "2025-08-19T19:06:32.958035Z",
     "iopub.status.idle": "2025-08-19T19:06:32.964426Z",
     "shell.execute_reply": "2025-08-19T19:06:32.963563Z"
    },
    "papermill": {
     "duration": 0.036138,
     "end_time": "2025-08-19T19:06:32.968163",
     "exception": false,
     "start_time": "2025-08-19T19:06:32.932025",
     "status": "completed"
    },
    "tags": []
   },
   "outputs": [],
   "source": [
    "# EXCLUDE CERTAIN SUBGROUPS\n",
    "# -------------------------\n",
    "\n",
    "mode = universe.get(\"exclude_subgroups\", \"keep-all\") # Defaults to \"keep-all\" if the key is missing."
   ]
  },
  {
   "cell_type": "code",
   "execution_count": 28,
   "id": "9d1e63fd",
   "metadata": {
    "execution": {
     "iopub.execute_input": "2025-08-19T19:06:33.021736Z",
     "iopub.status.busy": "2025-08-19T19:06:33.020798Z",
     "iopub.status.idle": "2025-08-19T19:06:33.026692Z",
     "shell.execute_reply": "2025-08-19T19:06:33.026032Z"
    },
    "papermill": {
     "duration": 0.032505,
     "end_time": "2025-08-19T19:06:33.028999",
     "exception": false,
     "start_time": "2025-08-19T19:06:32.996494",
     "status": "completed"
    },
    "tags": []
   },
   "outputs": [],
   "source": [
    "if mode == \"keep-all\":\n",
    "    keep_mask = pd.Series(True, index=org_train.index)\n",
    "\n",
    "elif mode == \"drop-non-german\":\n",
    "    keep_mask = (org_train[\"maxdeutsch1\"] == 1) & (org_train[\"maxdeutsch.Missing.\"] == 0)\n",
    "\n",
    "else:\n",
    "    raise ValueError(f\"Unsupported mode for exclude_subgroups: {mode}\")"
   ]
  },
  {
   "cell_type": "code",
   "execution_count": 29,
   "id": "d3b65474",
   "metadata": {
    "execution": {
     "iopub.execute_input": "2025-08-19T19:06:33.074953Z",
     "iopub.status.busy": "2025-08-19T19:06:33.074473Z",
     "iopub.status.idle": "2025-08-19T19:06:33.080365Z",
     "shell.execute_reply": "2025-08-19T19:06:33.079685Z"
    },
    "papermill": {
     "duration": 0.024703,
     "end_time": "2025-08-19T19:06:33.081752",
     "exception": false,
     "start_time": "2025-08-19T19:06:33.057049",
     "status": "completed"
    },
    "tags": []
   },
   "outputs": [
    {
     "name": "stdout",
     "output_type": "stream",
     "text": [
      "Dropping 131 rows (13.10%) where mode='drop-non-german'\n"
     ]
    }
   ],
   "source": [
    "n_drop = (~keep_mask).sum() # Calculates how many rows are set to be dropped\n",
    "if n_drop > 0:\n",
    "    pct = n_drop / len(keep_mask) * 100\n",
    "    print(f\"Dropping {n_drop} rows ({pct:.2f}%) where mode='{mode}'\")"
   ]
  },
  {
   "cell_type": "code",
   "execution_count": 30,
   "id": "f44389b3",
   "metadata": {
    "execution": {
     "iopub.execute_input": "2025-08-19T19:06:33.105528Z",
     "iopub.status.busy": "2025-08-19T19:06:33.105012Z",
     "iopub.status.idle": "2025-08-19T19:06:33.115339Z",
     "shell.execute_reply": "2025-08-19T19:06:33.114632Z"
    },
    "papermill": {
     "duration": 0.02384,
     "end_time": "2025-08-19T19:06:33.116827",
     "exception": false,
     "start_time": "2025-08-19T19:06:33.092987",
     "status": "completed"
    },
    "tags": []
   },
   "outputs": [],
   "source": [
    "X_train = X_train[keep_mask]"
   ]
  },
  {
   "cell_type": "code",
   "execution_count": 31,
   "id": "ceca8c2a",
   "metadata": {
    "execution": {
     "iopub.execute_input": "2025-08-19T19:06:33.144695Z",
     "iopub.status.busy": "2025-08-19T19:06:33.144176Z",
     "iopub.status.idle": "2025-08-19T19:06:33.149404Z",
     "shell.execute_reply": "2025-08-19T19:06:33.148655Z"
    },
    "papermill": {
     "duration": 0.019209,
     "end_time": "2025-08-19T19:06:33.150859",
     "exception": false,
     "start_time": "2025-08-19T19:06:33.131650",
     "status": "completed"
    },
    "tags": []
   },
   "outputs": [],
   "source": [
    "y_train = y_train[keep_mask]"
   ]
  },
  {
   "cell_type": "markdown",
   "id": "04d31e2f",
   "metadata": {
    "papermill": {
     "duration": 0.011678,
     "end_time": "2025-08-19T19:06:33.174480",
     "exception": false,
     "start_time": "2025-08-19T19:06:33.162802",
     "status": "completed"
    },
    "tags": []
   },
   "source": [
    "# Model Training"
   ]
  },
  {
   "cell_type": "code",
   "execution_count": 32,
   "id": "db991733",
   "metadata": {
    "execution": {
     "iopub.execute_input": "2025-08-19T19:06:33.197588Z",
     "iopub.status.busy": "2025-08-19T19:06:33.197104Z",
     "iopub.status.idle": "2025-08-19T19:06:33.358518Z",
     "shell.execute_reply": "2025-08-19T19:06:33.357778Z"
    },
    "papermill": {
     "duration": 0.175576,
     "end_time": "2025-08-19T19:06:33.360738",
     "exception": false,
     "start_time": "2025-08-19T19:06:33.185162",
     "status": "completed"
    },
    "tags": []
   },
   "outputs": [],
   "source": [
    "from sklearn.linear_model import LogisticRegression\n",
    "from sklearn.ensemble import GradientBoostingClassifier, RandomForestClassifier\n",
    "\n",
    "if (universe[\"model\"] == \"logreg\"):\n",
    "    model = LogisticRegression() #penalty=\"none\", solver=\"newton-cg\", max_iter=1)\n",
    "elif (universe[\"model\"] == \"penalized_logreg\"):\n",
    "    model = LogisticRegression(penalty=\"l2\", C=0.1) #, solver=\"newton-cg\", max_iter=1)\n",
    "elif (universe[\"model\"] == \"rf\"):\n",
    "    model = RandomForestClassifier() # n_estimators=100, n_jobs=-1\n",
    "elif (universe[\"model\"] == \"gbm\"):\n",
    "    model = GradientBoostingClassifier()\n",
    "elif (universe[\"model\"] == \"elasticnet\"):\n",
    "    model = LogisticRegression(penalty = 'elasticnet', solver = 'saga', l1_ratio = 0.5) # max_iter=5000\n",
    "else:\n",
    "    raise \"Unsupported universe.model\""
   ]
  },
  {
   "cell_type": "code",
   "execution_count": 33,
   "id": "a4b5cd25",
   "metadata": {
    "execution": {
     "iopub.execute_input": "2025-08-19T19:06:33.401136Z",
     "iopub.status.busy": "2025-08-19T19:06:33.400635Z",
     "iopub.status.idle": "2025-08-19T19:06:33.406004Z",
     "shell.execute_reply": "2025-08-19T19:06:33.405294Z"
    },
    "papermill": {
     "duration": 0.031884,
     "end_time": "2025-08-19T19:06:33.407327",
     "exception": false,
     "start_time": "2025-08-19T19:06:33.375443",
     "status": "completed"
    },
    "tags": []
   },
   "outputs": [],
   "source": [
    "from sklearn.pipeline import Pipeline\n",
    "from sklearn.preprocessing import StandardScaler\n",
    "\n",
    "model = Pipeline([\n",
    "    #(\"continuous_processor\", continuous_processor),\n",
    "    #(\"categorical_preprocessor\", categorical_preprocessor),\n",
    "    (\"scale\", StandardScaler() if universe[\"scale\"] == \"scale\" else None), \n",
    "    (\"model\", model),\n",
    "])"
   ]
  },
  {
   "cell_type": "code",
   "execution_count": 34,
   "id": "283a904d",
   "metadata": {
    "execution": {
     "iopub.execute_input": "2025-08-19T19:06:33.433440Z",
     "iopub.status.busy": "2025-08-19T19:06:33.433004Z",
     "iopub.status.idle": "2025-08-19T19:06:33.764206Z",
     "shell.execute_reply": "2025-08-19T19:06:33.763499Z"
    },
    "papermill": {
     "duration": 0.346919,
     "end_time": "2025-08-19T19:06:33.766460",
     "exception": false,
     "start_time": "2025-08-19T19:06:33.419541",
     "status": "completed"
    },
    "tags": []
   },
   "outputs": [
    {
     "data": {
      "text/html": [
       "<style>#sk-container-id-1 {color: black;background-color: white;}#sk-container-id-1 pre{padding: 0;}#sk-container-id-1 div.sk-toggleable {background-color: white;}#sk-container-id-1 label.sk-toggleable__label {cursor: pointer;display: block;width: 100%;margin-bottom: 0;padding: 0.3em;box-sizing: border-box;text-align: center;}#sk-container-id-1 label.sk-toggleable__label-arrow:before {content: \"▸\";float: left;margin-right: 0.25em;color: #696969;}#sk-container-id-1 label.sk-toggleable__label-arrow:hover:before {color: black;}#sk-container-id-1 div.sk-estimator:hover label.sk-toggleable__label-arrow:before {color: black;}#sk-container-id-1 div.sk-toggleable__content {max-height: 0;max-width: 0;overflow: hidden;text-align: left;background-color: #f0f8ff;}#sk-container-id-1 div.sk-toggleable__content pre {margin: 0.2em;color: black;border-radius: 0.25em;background-color: #f0f8ff;}#sk-container-id-1 input.sk-toggleable__control:checked~div.sk-toggleable__content {max-height: 200px;max-width: 100%;overflow: auto;}#sk-container-id-1 input.sk-toggleable__control:checked~label.sk-toggleable__label-arrow:before {content: \"▾\";}#sk-container-id-1 div.sk-estimator input.sk-toggleable__control:checked~label.sk-toggleable__label {background-color: #d4ebff;}#sk-container-id-1 div.sk-label input.sk-toggleable__control:checked~label.sk-toggleable__label {background-color: #d4ebff;}#sk-container-id-1 input.sk-hidden--visually {border: 0;clip: rect(1px 1px 1px 1px);clip: rect(1px, 1px, 1px, 1px);height: 1px;margin: -1px;overflow: hidden;padding: 0;position: absolute;width: 1px;}#sk-container-id-1 div.sk-estimator {font-family: monospace;background-color: #f0f8ff;border: 1px dotted black;border-radius: 0.25em;box-sizing: border-box;margin-bottom: 0.5em;}#sk-container-id-1 div.sk-estimator:hover {background-color: #d4ebff;}#sk-container-id-1 div.sk-parallel-item::after {content: \"\";width: 100%;border-bottom: 1px solid gray;flex-grow: 1;}#sk-container-id-1 div.sk-label:hover label.sk-toggleable__label {background-color: #d4ebff;}#sk-container-id-1 div.sk-serial::before {content: \"\";position: absolute;border-left: 1px solid gray;box-sizing: border-box;top: 0;bottom: 0;left: 50%;z-index: 0;}#sk-container-id-1 div.sk-serial {display: flex;flex-direction: column;align-items: center;background-color: white;padding-right: 0.2em;padding-left: 0.2em;position: relative;}#sk-container-id-1 div.sk-item {position: relative;z-index: 1;}#sk-container-id-1 div.sk-parallel {display: flex;align-items: stretch;justify-content: center;background-color: white;position: relative;}#sk-container-id-1 div.sk-item::before, #sk-container-id-1 div.sk-parallel-item::before {content: \"\";position: absolute;border-left: 1px solid gray;box-sizing: border-box;top: 0;bottom: 0;left: 50%;z-index: -1;}#sk-container-id-1 div.sk-parallel-item {display: flex;flex-direction: column;z-index: 1;position: relative;background-color: white;}#sk-container-id-1 div.sk-parallel-item:first-child::after {align-self: flex-end;width: 50%;}#sk-container-id-1 div.sk-parallel-item:last-child::after {align-self: flex-start;width: 50%;}#sk-container-id-1 div.sk-parallel-item:only-child::after {width: 0;}#sk-container-id-1 div.sk-dashed-wrapped {border: 1px dashed gray;margin: 0 0.4em 0.5em 0.4em;box-sizing: border-box;padding-bottom: 0.4em;background-color: white;}#sk-container-id-1 div.sk-label label {font-family: monospace;font-weight: bold;display: inline-block;line-height: 1.2em;}#sk-container-id-1 div.sk-label-container {text-align: center;}#sk-container-id-1 div.sk-container {/* jupyter's `normalize.less` sets `[hidden] { display: none; }` but bootstrap.min.css set `[hidden] { display: none !important; }` so we also need the `!important` here to be able to override the default hidden behavior on the sphinx rendered scikit-learn.org. See: https://github.com/scikit-learn/scikit-learn/issues/21755 */display: inline-block !important;position: relative;}#sk-container-id-1 div.sk-text-repr-fallback {display: none;}</style><div id=\"sk-container-id-1\" class=\"sk-top-container\"><div class=\"sk-text-repr-fallback\"><pre>Pipeline(steps=[(&#x27;scale&#x27;, StandardScaler()),\n",
       "                (&#x27;model&#x27;, RandomForestClassifier())])</pre><b>In a Jupyter environment, please rerun this cell to show the HTML representation or trust the notebook. <br />On GitHub, the HTML representation is unable to render, please try loading this page with nbviewer.org.</b></div><div class=\"sk-container\" hidden><div class=\"sk-item sk-dashed-wrapped\"><div class=\"sk-label-container\"><div class=\"sk-label sk-toggleable\"><input class=\"sk-toggleable__control sk-hidden--visually\" id=\"sk-estimator-id-1\" type=\"checkbox\" ><label for=\"sk-estimator-id-1\" class=\"sk-toggleable__label sk-toggleable__label-arrow\">Pipeline</label><div class=\"sk-toggleable__content\"><pre>Pipeline(steps=[(&#x27;scale&#x27;, StandardScaler()),\n",
       "                (&#x27;model&#x27;, RandomForestClassifier())])</pre></div></div></div><div class=\"sk-serial\"><div class=\"sk-item\"><div class=\"sk-estimator sk-toggleable\"><input class=\"sk-toggleable__control sk-hidden--visually\" id=\"sk-estimator-id-2\" type=\"checkbox\" ><label for=\"sk-estimator-id-2\" class=\"sk-toggleable__label sk-toggleable__label-arrow\">StandardScaler</label><div class=\"sk-toggleable__content\"><pre>StandardScaler()</pre></div></div></div><div class=\"sk-item\"><div class=\"sk-estimator sk-toggleable\"><input class=\"sk-toggleable__control sk-hidden--visually\" id=\"sk-estimator-id-3\" type=\"checkbox\" ><label for=\"sk-estimator-id-3\" class=\"sk-toggleable__label sk-toggleable__label-arrow\">RandomForestClassifier</label><div class=\"sk-toggleable__content\"><pre>RandomForestClassifier()</pre></div></div></div></div></div></div></div>"
      ],
      "text/plain": [
       "Pipeline(steps=[('scale', StandardScaler()),\n",
       "                ('model', RandomForestClassifier())])"
      ]
     },
     "execution_count": 34,
     "metadata": {},
     "output_type": "execute_result"
    }
   ],
   "source": [
    "model.fit(X_train, y_train.values.ravel())"
   ]
  },
  {
   "cell_type": "code",
   "execution_count": 35,
   "id": "6e15e313",
   "metadata": {
    "execution": {
     "iopub.execute_input": "2025-08-19T19:06:33.805473Z",
     "iopub.status.busy": "2025-08-19T19:06:33.805009Z",
     "iopub.status.idle": "2025-08-19T19:06:35.229175Z",
     "shell.execute_reply": "2025-08-19T19:06:35.228110Z"
    },
    "papermill": {
     "duration": 1.441802,
     "end_time": "2025-08-19T19:06:35.230865",
     "exception": false,
     "start_time": "2025-08-19T19:06:33.789063",
     "status": "completed"
    },
    "tags": []
   },
   "outputs": [
    {
     "data": {
      "text/plain": [
       "0.8588451677627912"
      ]
     },
     "execution_count": 35,
     "metadata": {},
     "output_type": "execute_result"
    }
   ],
   "source": [
    "from fairness_multiverse.universe import predict_w_threshold\n",
    "\n",
    "probs_test = model.predict_proba(X_test)\n",
    "\n",
    "'''\n",
    "Below code returns a boolean array (or binary 0/1 array depending on how it’s used) where each element \n",
    "is True if the probability of class 1 is greater than or equal to the threshold, and False otherwise.\n",
    "'''\n",
    "y_pred_default = predict_w_threshold(probs_test, 0.5)\n",
    "\n",
    "from sklearn.metrics import accuracy_score\n",
    "\n",
    "# Naive prediction\n",
    "accuracy_score(y_true = y_true, y_pred = y_pred_default)"
   ]
  },
  {
   "cell_type": "code",
   "execution_count": 36,
   "id": "6f14067c",
   "metadata": {
    "execution": {
     "iopub.execute_input": "2025-08-19T19:06:35.273220Z",
     "iopub.status.busy": "2025-08-19T19:06:35.271666Z",
     "iopub.status.idle": "2025-08-19T19:06:36.678927Z",
     "shell.execute_reply": "2025-08-19T19:06:36.677757Z"
    },
    "papermill": {
     "duration": 1.424823,
     "end_time": "2025-08-19T19:06:36.680184",
     "exception": false,
     "start_time": "2025-08-19T19:06:35.255361",
     "status": "completed"
    },
    "tags": []
   },
   "outputs": [
    {
     "data": {
      "text/plain": [
       "array([0, 0, 0, ..., 0, 0, 0])"
      ]
     },
     "execution_count": 36,
     "metadata": {},
     "output_type": "execute_result"
    }
   ],
   "source": [
    "model.predict(X_test)"
   ]
  },
  {
   "cell_type": "markdown",
   "id": "3759920c",
   "metadata": {
    "papermill": {
     "duration": 0.011159,
     "end_time": "2025-08-19T19:06:36.703135",
     "exception": false,
     "start_time": "2025-08-19T19:06:36.691976",
     "status": "completed"
    },
    "tags": []
   },
   "source": [
    "# Conformal Prediction"
   ]
  },
  {
   "cell_type": "code",
   "execution_count": 37,
   "id": "14b27f59",
   "metadata": {
    "execution": {
     "iopub.execute_input": "2025-08-19T19:06:36.730083Z",
     "iopub.status.busy": "2025-08-19T19:06:36.728401Z",
     "iopub.status.idle": "2025-08-19T19:06:36.739933Z",
     "shell.execute_reply": "2025-08-19T19:06:36.738073Z"
    },
    "papermill": {
     "duration": 0.027171,
     "end_time": "2025-08-19T19:06:36.741504",
     "exception": false,
     "start_time": "2025-08-19T19:06:36.714333",
     "status": "completed"
    },
    "tags": []
   },
   "outputs": [],
   "source": [
    "# Miscoverage level for conformal prediction (10% allowed error rate => 90% target coverage)\n",
    "alpha = 0.1"
   ]
  },
  {
   "cell_type": "code",
   "execution_count": 38,
   "id": "59102472",
   "metadata": {
    "execution": {
     "iopub.execute_input": "2025-08-19T19:06:36.770221Z",
     "iopub.status.busy": "2025-08-19T19:06:36.769207Z",
     "iopub.status.idle": "2025-08-19T19:06:38.167240Z",
     "shell.execute_reply": "2025-08-19T19:06:38.165984Z"
    },
    "papermill": {
     "duration": 1.413202,
     "end_time": "2025-08-19T19:06:38.169000",
     "exception": false,
     "start_time": "2025-08-19T19:06:36.755798",
     "status": "completed"
    },
    "tags": []
   },
   "outputs": [],
   "source": [
    "probs_calib = model.predict_proba(X_calib)"
   ]
  },
  {
   "cell_type": "code",
   "execution_count": 39,
   "id": "a792d4dd",
   "metadata": {
    "execution": {
     "iopub.execute_input": "2025-08-19T19:06:38.196823Z",
     "iopub.status.busy": "2025-08-19T19:06:38.195049Z",
     "iopub.status.idle": "2025-08-19T19:06:38.207243Z",
     "shell.execute_reply": "2025-08-19T19:06:38.206183Z"
    },
    "papermill": {
     "duration": 0.028024,
     "end_time": "2025-08-19T19:06:38.208808",
     "exception": false,
     "start_time": "2025-08-19T19:06:38.180784",
     "status": "completed"
    },
    "tags": []
   },
   "outputs": [],
   "source": [
    "y_calib = y_calib.values.ravel().astype(int)"
   ]
  },
  {
   "cell_type": "code",
   "execution_count": 40,
   "id": "650fd033",
   "metadata": {
    "execution": {
     "iopub.execute_input": "2025-08-19T19:06:38.239443Z",
     "iopub.status.busy": "2025-08-19T19:06:38.238315Z",
     "iopub.status.idle": "2025-08-19T19:06:38.252614Z",
     "shell.execute_reply": "2025-08-19T19:06:38.251371Z"
    },
    "papermill": {
     "duration": 0.029574,
     "end_time": "2025-08-19T19:06:38.254364",
     "exception": false,
     "start_time": "2025-08-19T19:06:38.224790",
     "status": "completed"
    },
    "tags": []
   },
   "outputs": [],
   "source": [
    "from fairness_multiverse.conformal import compute_nc_scores\n",
    "\n",
    "# Compute nonconformity scores on calibration set (1 - probability of true class)\n",
    "nc_scores = compute_nc_scores(probs_calib, y_calib)"
   ]
  },
  {
   "cell_type": "code",
   "execution_count": 41,
   "id": "28ada44c",
   "metadata": {
    "execution": {
     "iopub.execute_input": "2025-08-19T19:06:38.301654Z",
     "iopub.status.busy": "2025-08-19T19:06:38.301011Z",
     "iopub.status.idle": "2025-08-19T19:06:38.307110Z",
     "shell.execute_reply": "2025-08-19T19:06:38.306316Z"
    },
    "papermill": {
     "duration": 0.035879,
     "end_time": "2025-08-19T19:06:38.308607",
     "exception": false,
     "start_time": "2025-08-19T19:06:38.272728",
     "status": "completed"
    },
    "tags": []
   },
   "outputs": [],
   "source": [
    "from fairness_multiverse.conformal import find_threshold\n",
    "\n",
    "# Find conformal threshold q_hat for the given alpha (split conformal method)\n",
    "q_hat = find_threshold(nc_scores, alpha)"
   ]
  },
  {
   "cell_type": "code",
   "execution_count": 42,
   "id": "df56469e",
   "metadata": {
    "execution": {
     "iopub.execute_input": "2025-08-19T19:06:38.354080Z",
     "iopub.status.busy": "2025-08-19T19:06:38.353560Z",
     "iopub.status.idle": "2025-08-19T19:06:38.361463Z",
     "shell.execute_reply": "2025-08-19T19:06:38.360513Z"
    },
    "papermill": {
     "duration": 0.041247,
     "end_time": "2025-08-19T19:06:38.365584",
     "exception": false,
     "start_time": "2025-08-19T19:06:38.324337",
     "status": "completed"
    },
    "tags": []
   },
   "outputs": [
    {
     "data": {
      "text/plain": [
       "0.65"
      ]
     },
     "execution_count": 42,
     "metadata": {},
     "output_type": "execute_result"
    }
   ],
   "source": [
    "q_hat"
   ]
  },
  {
   "cell_type": "code",
   "execution_count": 43,
   "id": "aa1f5faa",
   "metadata": {
    "execution": {
     "iopub.execute_input": "2025-08-19T19:06:38.392922Z",
     "iopub.status.busy": "2025-08-19T19:06:38.392525Z",
     "iopub.status.idle": "2025-08-19T19:06:40.390463Z",
     "shell.execute_reply": "2025-08-19T19:06:40.389579Z"
    },
    "papermill": {
     "duration": 2.014178,
     "end_time": "2025-08-19T19:06:40.393381",
     "exception": false,
     "start_time": "2025-08-19T19:06:38.379203",
     "status": "completed"
    },
    "tags": []
   },
   "outputs": [],
   "source": [
    "from fairness_multiverse.conformal import predict_conformal_sets\n",
    "\n",
    "# Generate prediction sets for each test example\n",
    "pred_sets = predict_conformal_sets(model, X_test, q_hat)"
   ]
  },
  {
   "cell_type": "code",
   "execution_count": 44,
   "id": "97f67a6b",
   "metadata": {
    "execution": {
     "iopub.execute_input": "2025-08-19T19:06:40.437184Z",
     "iopub.status.busy": "2025-08-19T19:06:40.436877Z",
     "iopub.status.idle": "2025-08-19T19:06:40.450566Z",
     "shell.execute_reply": "2025-08-19T19:06:40.449508Z"
    },
    "papermill": {
     "duration": 0.034286,
     "end_time": "2025-08-19T19:06:40.456614",
     "exception": false,
     "start_time": "2025-08-19T19:06:40.422328",
     "status": "completed"
    },
    "tags": []
   },
   "outputs": [],
   "source": [
    "y_true = y_true.squeeze()"
   ]
  },
  {
   "cell_type": "code",
   "execution_count": 45,
   "id": "e700e9a7",
   "metadata": {
    "execution": {
     "iopub.execute_input": "2025-08-19T19:06:40.490621Z",
     "iopub.status.busy": "2025-08-19T19:06:40.483567Z",
     "iopub.status.idle": "2025-08-19T19:06:41.019070Z",
     "shell.execute_reply": "2025-08-19T19:06:41.018027Z"
    },
    "papermill": {
     "duration": 0.550611,
     "end_time": "2025-08-19T19:06:41.020811",
     "exception": false,
     "start_time": "2025-08-19T19:06:40.470200",
     "status": "completed"
    },
    "tags": []
   },
   "outputs": [],
   "source": [
    "from fairness_multiverse.conformal import evaluate_sets\n",
    "\n",
    "# Evaluate coverage and average set size on test data\n",
    "metrics = evaluate_sets(pred_sets, y_true)"
   ]
  },
  {
   "cell_type": "markdown",
   "id": "efbacec0",
   "metadata": {
    "papermill": {
     "duration": 0.01262,
     "end_time": "2025-08-19T19:06:41.046014",
     "exception": false,
     "start_time": "2025-08-19T19:06:41.033394",
     "status": "completed"
    },
    "tags": []
   },
   "source": [
    "# CP Metrics"
   ]
  },
  {
   "cell_type": "code",
   "execution_count": 46,
   "id": "9de55fb1",
   "metadata": {
    "execution": {
     "iopub.execute_input": "2025-08-19T19:06:41.071769Z",
     "iopub.status.busy": "2025-08-19T19:06:41.071190Z",
     "iopub.status.idle": "2025-08-19T19:06:41.079153Z",
     "shell.execute_reply": "2025-08-19T19:06:41.078366Z"
    },
    "papermill": {
     "duration": 0.022377,
     "end_time": "2025-08-19T19:06:41.080344",
     "exception": false,
     "start_time": "2025-08-19T19:06:41.057967",
     "status": "completed"
    },
    "tags": []
   },
   "outputs": [
    {
     "data": {
      "text/plain": [
       "{'coverage': 0.9133541411213911, 'avg_size': 1.1544978263292833}"
      ]
     },
     "execution_count": 46,
     "metadata": {},
     "output_type": "execute_result"
    }
   ],
   "source": [
    "metrics"
   ]
  },
  {
   "cell_type": "code",
   "execution_count": 47,
   "id": "64c340a1",
   "metadata": {
    "execution": {
     "iopub.execute_input": "2025-08-19T19:06:41.145699Z",
     "iopub.status.busy": "2025-08-19T19:06:41.144987Z",
     "iopub.status.idle": "2025-08-19T19:06:41.165286Z",
     "shell.execute_reply": "2025-08-19T19:06:41.164251Z"
    },
    "papermill": {
     "duration": 0.068928,
     "end_time": "2025-08-19T19:06:41.174756",
     "exception": false,
     "start_time": "2025-08-19T19:06:41.105828",
     "status": "completed"
    },
    "tags": []
   },
   "outputs": [],
   "source": [
    "example_universe = universe.copy()\n",
    "universe_training_year = example_universe.get(\"training_year\")\n",
    "universe_training_size = example_universe.get(\"training_size\")\n",
    "universe_scale = example_universe.get(\"scale\")\n",
    "universe_model = example_universe.get(\"model\")\n",
    "universe_exclude_features = example_universe.get(\"exclude_features\")\n",
    "universe_exclude_subgroups = example_universe.get(\"exclude_subgroups\")"
   ]
  },
  {
   "cell_type": "code",
   "execution_count": 48,
   "id": "dbb53cb4",
   "metadata": {
    "execution": {
     "iopub.execute_input": "2025-08-19T19:06:41.203661Z",
     "iopub.status.busy": "2025-08-19T19:06:41.203256Z",
     "iopub.status.idle": "2025-08-19T19:06:41.209691Z",
     "shell.execute_reply": "2025-08-19T19:06:41.208976Z"
    },
    "papermill": {
     "duration": 0.020866,
     "end_time": "2025-08-19T19:06:41.210897",
     "exception": false,
     "start_time": "2025-08-19T19:06:41.190031",
     "status": "completed"
    },
    "tags": []
   },
   "outputs": [],
   "source": [
    "cp_metrics_dict = {\n",
    "    \"universe_id\": [universe_id],\n",
    "    \"universe_training_year\": [universe_training_year],\n",
    "    \"universe_training_size\": [universe_training_size],\n",
    "    \"universe_scale\": [universe_scale],\n",
    "    \"universe_model\": [universe_model],\n",
    "    \"universe_exclude_features\": [universe_exclude_features],\n",
    "    \"universe_exclude_subgroups\": [universe_exclude_subgroups],\n",
    "    \"q_hat\": [q_hat],\n",
    "    \"coverage\": [metrics[\"coverage\"]],\n",
    "    \"avg_size\": [metrics[\"avg_size\"]],\n",
    "}"
   ]
  },
  {
   "cell_type": "code",
   "execution_count": 49,
   "id": "0d70d4b2",
   "metadata": {
    "execution": {
     "iopub.execute_input": "2025-08-19T19:06:41.239102Z",
     "iopub.status.busy": "2025-08-19T19:06:41.238691Z",
     "iopub.status.idle": "2025-08-19T19:06:41.244561Z",
     "shell.execute_reply": "2025-08-19T19:06:41.243837Z"
    },
    "papermill": {
     "duration": 0.021458,
     "end_time": "2025-08-19T19:06:41.245730",
     "exception": false,
     "start_time": "2025-08-19T19:06:41.224272",
     "status": "completed"
    },
    "tags": []
   },
   "outputs": [],
   "source": [
    "cp_metrics_df = pd.DataFrame(cp_metrics_dict)"
   ]
  },
  {
   "cell_type": "code",
   "execution_count": 50,
   "id": "b494403c",
   "metadata": {
    "execution": {
     "iopub.execute_input": "2025-08-19T19:06:41.275346Z",
     "iopub.status.busy": "2025-08-19T19:06:41.274520Z",
     "iopub.status.idle": "2025-08-19T19:06:41.294616Z",
     "shell.execute_reply": "2025-08-19T19:06:41.293789Z"
    },
    "papermill": {
     "duration": 0.035124,
     "end_time": "2025-08-19T19:06:41.296158",
     "exception": false,
     "start_time": "2025-08-19T19:06:41.261034",
     "status": "completed"
    },
    "tags": []
   },
   "outputs": [
    {
     "data": {
      "text/html": [
       "<div>\n",
       "<style scoped>\n",
       "    .dataframe tbody tr th:only-of-type {\n",
       "        vertical-align: middle;\n",
       "    }\n",
       "\n",
       "    .dataframe tbody tr th {\n",
       "        vertical-align: top;\n",
       "    }\n",
       "\n",
       "    .dataframe thead th {\n",
       "        text-align: right;\n",
       "    }\n",
       "</style>\n",
       "<table border=\"1\" class=\"dataframe\">\n",
       "  <thead>\n",
       "    <tr style=\"text-align: right;\">\n",
       "      <th></th>\n",
       "      <th>universe_id</th>\n",
       "      <th>universe_training_year</th>\n",
       "      <th>universe_training_size</th>\n",
       "      <th>universe_scale</th>\n",
       "      <th>universe_model</th>\n",
       "      <th>universe_exclude_features</th>\n",
       "      <th>universe_exclude_subgroups</th>\n",
       "      <th>q_hat</th>\n",
       "      <th>coverage</th>\n",
       "      <th>avg_size</th>\n",
       "    </tr>\n",
       "  </thead>\n",
       "  <tbody>\n",
       "    <tr>\n",
       "      <th>0</th>\n",
       "      <td>fed6c800ffeadd99f3989f0e0214b57f</td>\n",
       "      <td>2010_14</td>\n",
       "      <td>1k</td>\n",
       "      <td>scale</td>\n",
       "      <td>rf</td>\n",
       "      <td>nationality</td>\n",
       "      <td>drop-non-german</td>\n",
       "      <td>0.65</td>\n",
       "      <td>0.913354</td>\n",
       "      <td>1.154498</td>\n",
       "    </tr>\n",
       "  </tbody>\n",
       "</table>\n",
       "</div>"
      ],
      "text/plain": [
       "                        universe_id universe_training_year  \\\n",
       "0  fed6c800ffeadd99f3989f0e0214b57f                2010_14   \n",
       "\n",
       "  universe_training_size universe_scale universe_model  \\\n",
       "0                     1k          scale             rf   \n",
       "\n",
       "  universe_exclude_features universe_exclude_subgroups  q_hat  coverage  \\\n",
       "0               nationality            drop-non-german   0.65  0.913354   \n",
       "\n",
       "   avg_size  \n",
       "0  1.154498  "
      ]
     },
     "execution_count": 50,
     "metadata": {},
     "output_type": "execute_result"
    }
   ],
   "source": [
    "cp_metrics_df"
   ]
  },
  {
   "cell_type": "markdown",
   "id": "ed608b0b",
   "metadata": {
    "papermill": {
     "duration": 0.012738,
     "end_time": "2025-08-19T19:06:41.322828",
     "exception": false,
     "start_time": "2025-08-19T19:06:41.310090",
     "status": "completed"
    },
    "tags": []
   },
   "source": [
    "Conditional coverage & looking at subgroups"
   ]
  },
  {
   "cell_type": "code",
   "execution_count": 51,
   "id": "8968c366",
   "metadata": {
    "execution": {
     "iopub.execute_input": "2025-08-19T19:06:41.352894Z",
     "iopub.status.busy": "2025-08-19T19:06:41.350501Z",
     "iopub.status.idle": "2025-08-19T19:06:41.637127Z",
     "shell.execute_reply": "2025-08-19T19:06:41.636262Z"
    },
    "papermill": {
     "duration": 0.302909,
     "end_time": "2025-08-19T19:06:41.638638",
     "exception": false,
     "start_time": "2025-08-19T19:06:41.335729",
     "status": "completed"
    },
    "tags": []
   },
   "outputs": [],
   "source": [
    "from fairness_multiverse.conformal import build_cp_groups\n",
    "\n",
    "cp_groups_df = build_cp_groups(pred_sets, y_true, X_test.index, org_test)"
   ]
  },
  {
   "cell_type": "code",
   "execution_count": 52,
   "id": "292ddabf",
   "metadata": {
    "execution": {
     "iopub.execute_input": "2025-08-19T19:06:41.664641Z",
     "iopub.status.busy": "2025-08-19T19:06:41.664225Z",
     "iopub.status.idle": "2025-08-19T19:06:42.530194Z",
     "shell.execute_reply": "2025-08-19T19:06:42.528995Z"
    },
    "papermill": {
     "duration": 0.881507,
     "end_time": "2025-08-19T19:06:42.532768",
     "exception": false,
     "start_time": "2025-08-19T19:06:41.651261",
     "status": "completed"
    },
    "tags": []
   },
   "outputs": [],
   "source": [
    "# Define covered = 1 if true_label is in the predicted set\n",
    "cp_groups_df['covered'] = cp_groups_df.apply(\n",
    "    lambda r: int(r['true_label'] in r['pred_set']),\n",
    "    axis=1\n",
    ")"
   ]
  },
  {
   "cell_type": "code",
   "execution_count": 53,
   "id": "3a261692",
   "metadata": {
    "execution": {
     "iopub.execute_input": "2025-08-19T19:06:42.597347Z",
     "iopub.status.busy": "2025-08-19T19:06:42.596012Z",
     "iopub.status.idle": "2025-08-19T19:06:42.618928Z",
     "shell.execute_reply": "2025-08-19T19:06:42.618045Z"
    },
    "papermill": {
     "duration": 0.057972,
     "end_time": "2025-08-19T19:06:42.621356",
     "exception": false,
     "start_time": "2025-08-19T19:06:42.563384",
     "status": "completed"
    },
    "tags": []
   },
   "outputs": [],
   "source": [
    "subgroups = ['frau1','nongerman','nongerman_male','nongerman_female']\n",
    "\n",
    "# Conditional coverage for subgroup==1\n",
    "cond_coverage = {\n",
    "    g: cp_groups_df.loc[cp_groups_df[g]==1, 'covered'].mean()\n",
    "    for g in subgroups\n",
    "}"
   ]
  },
  {
   "cell_type": "code",
   "execution_count": 54,
   "id": "894fd600",
   "metadata": {
    "execution": {
     "iopub.execute_input": "2025-08-19T19:06:42.671109Z",
     "iopub.status.busy": "2025-08-19T19:06:42.669709Z",
     "iopub.status.idle": "2025-08-19T19:06:42.680650Z",
     "shell.execute_reply": "2025-08-19T19:06:42.679358Z"
    },
    "papermill": {
     "duration": 0.038923,
     "end_time": "2025-08-19T19:06:42.694285",
     "exception": false,
     "start_time": "2025-08-19T19:06:42.655362",
     "status": "completed"
    },
    "tags": []
   },
   "outputs": [
    {
     "data": {
      "text/plain": [
       "{'frau1': 0.9104461517724761,\n",
       " 'nongerman': 0.9040588334362544,\n",
       " 'nongerman_male': 0.924885166171305,\n",
       " 'nongerman_female': 0.8695976154992549}"
      ]
     },
     "execution_count": 54,
     "metadata": {},
     "output_type": "execute_result"
    }
   ],
   "source": [
    "cond_coverage"
   ]
  },
  {
   "cell_type": "code",
   "execution_count": 55,
   "id": "942895c7",
   "metadata": {
    "execution": {
     "iopub.execute_input": "2025-08-19T19:06:42.752237Z",
     "iopub.status.busy": "2025-08-19T19:06:42.751045Z",
     "iopub.status.idle": "2025-08-19T19:06:42.768038Z",
     "shell.execute_reply": "2025-08-19T19:06:42.766670Z"
    },
    "papermill": {
     "duration": 0.048635,
     "end_time": "2025-08-19T19:06:42.769693",
     "exception": false,
     "start_time": "2025-08-19T19:06:42.721058",
     "status": "completed"
    },
    "tags": []
   },
   "outputs": [],
   "source": [
    "for subgroup, cov in cond_coverage.items():\n",
    "    cp_metrics_df[f\"cov_{subgroup}\"] = cov"
   ]
  },
  {
   "cell_type": "code",
   "execution_count": 56,
   "id": "3970120f",
   "metadata": {
    "execution": {
     "iopub.execute_input": "2025-08-19T19:06:42.805037Z",
     "iopub.status.busy": "2025-08-19T19:06:42.803904Z",
     "iopub.status.idle": "2025-08-19T19:06:42.837866Z",
     "shell.execute_reply": "2025-08-19T19:06:42.836792Z"
    },
    "papermill": {
     "duration": 0.057174,
     "end_time": "2025-08-19T19:06:42.845770",
     "exception": false,
     "start_time": "2025-08-19T19:06:42.788596",
     "status": "completed"
    },
    "tags": []
   },
   "outputs": [
    {
     "data": {
      "text/html": [
       "<div>\n",
       "<style scoped>\n",
       "    .dataframe tbody tr th:only-of-type {\n",
       "        vertical-align: middle;\n",
       "    }\n",
       "\n",
       "    .dataframe tbody tr th {\n",
       "        vertical-align: top;\n",
       "    }\n",
       "\n",
       "    .dataframe thead th {\n",
       "        text-align: right;\n",
       "    }\n",
       "</style>\n",
       "<table border=\"1\" class=\"dataframe\">\n",
       "  <thead>\n",
       "    <tr style=\"text-align: right;\">\n",
       "      <th></th>\n",
       "      <th>universe_id</th>\n",
       "      <th>universe_training_year</th>\n",
       "      <th>universe_training_size</th>\n",
       "      <th>universe_scale</th>\n",
       "      <th>universe_model</th>\n",
       "      <th>universe_exclude_features</th>\n",
       "      <th>universe_exclude_subgroups</th>\n",
       "      <th>q_hat</th>\n",
       "      <th>coverage</th>\n",
       "      <th>avg_size</th>\n",
       "      <th>cov_frau1</th>\n",
       "      <th>cov_nongerman</th>\n",
       "      <th>cov_nongerman_male</th>\n",
       "      <th>cov_nongerman_female</th>\n",
       "    </tr>\n",
       "  </thead>\n",
       "  <tbody>\n",
       "    <tr>\n",
       "      <th>0</th>\n",
       "      <td>fed6c800ffeadd99f3989f0e0214b57f</td>\n",
       "      <td>2010_14</td>\n",
       "      <td>1k</td>\n",
       "      <td>scale</td>\n",
       "      <td>rf</td>\n",
       "      <td>nationality</td>\n",
       "      <td>drop-non-german</td>\n",
       "      <td>0.65</td>\n",
       "      <td>0.913354</td>\n",
       "      <td>1.154498</td>\n",
       "      <td>0.910446</td>\n",
       "      <td>0.904059</td>\n",
       "      <td>0.924885</td>\n",
       "      <td>0.869598</td>\n",
       "    </tr>\n",
       "  </tbody>\n",
       "</table>\n",
       "</div>"
      ],
      "text/plain": [
       "                        universe_id universe_training_year  \\\n",
       "0  fed6c800ffeadd99f3989f0e0214b57f                2010_14   \n",
       "\n",
       "  universe_training_size universe_scale universe_model  \\\n",
       "0                     1k          scale             rf   \n",
       "\n",
       "  universe_exclude_features universe_exclude_subgroups  q_hat  coverage  \\\n",
       "0               nationality            drop-non-german   0.65  0.913354   \n",
       "\n",
       "   avg_size  cov_frau1  cov_nongerman  cov_nongerman_male  \\\n",
       "0  1.154498   0.910446       0.904059            0.924885   \n",
       "\n",
       "   cov_nongerman_female  \n",
       "0              0.869598  "
      ]
     },
     "execution_count": 56,
     "metadata": {},
     "output_type": "execute_result"
    }
   ],
   "source": [
    "cp_metrics_df"
   ]
  },
  {
   "cell_type": "markdown",
   "id": "3fc519cc",
   "metadata": {
    "papermill": {
     "duration": 0.024708,
     "end_time": "2025-08-19T19:06:42.886096",
     "exception": false,
     "start_time": "2025-08-19T19:06:42.861388",
     "status": "completed"
    },
    "tags": []
   },
   "source": [
    "# (Fairness) Metrics"
   ]
  },
  {
   "cell_type": "code",
   "execution_count": 57,
   "id": "a2e5e155",
   "metadata": {
    "execution": {
     "iopub.execute_input": "2025-08-19T19:06:42.913730Z",
     "iopub.status.busy": "2025-08-19T19:06:42.913172Z",
     "iopub.status.idle": "2025-08-19T19:06:42.932280Z",
     "shell.execute_reply": "2025-08-19T19:06:42.931515Z"
    },
    "papermill": {
     "duration": 0.034124,
     "end_time": "2025-08-19T19:06:42.933508",
     "exception": false,
     "start_time": "2025-08-19T19:06:42.899384",
     "status": "completed"
    },
    "tags": []
   },
   "outputs": [],
   "source": [
    "colname_to_bin = \"maxdeutsch1\"\n",
    "majority_value = org_train[colname_to_bin].mode()[0]\n",
    "\n",
    "org_test[\"majmin\"] = np.where(org_test[colname_to_bin] == majority_value, \"majority\", \"minority\")"
   ]
  },
  {
   "cell_type": "code",
   "execution_count": 58,
   "id": "17e3e4d5",
   "metadata": {
    "execution": {
     "iopub.execute_input": "2025-08-19T19:06:42.966306Z",
     "iopub.status.busy": "2025-08-19T19:06:42.965486Z",
     "iopub.status.idle": "2025-08-19T19:06:44.699587Z",
     "shell.execute_reply": "2025-08-19T19:06:44.698296Z"
    },
    "papermill": {
     "duration": 1.749967,
     "end_time": "2025-08-19T19:06:44.701230",
     "exception": false,
     "start_time": "2025-08-19T19:06:42.951263",
     "status": "completed"
    },
    "tags": []
   },
   "outputs": [],
   "source": [
    "example_universe = universe.copy()\n",
    "example_universe[\"cutoff\"] = example_universe[\"cutoff\"][0]\n",
    "example_universe[\"eval_fairness_grouping\"] = example_universe[\"eval_fairness_grouping\"][0]\n",
    "fairness_dict, metric_frame = universe_analysis.compute_metrics(\n",
    "    example_universe,\n",
    "    y_pred_prob=probs_test,\n",
    "    y_test=y_true,\n",
    "    org_test=org_test,\n",
    ")"
   ]
  },
  {
   "cell_type": "markdown",
   "id": "1fb7a0e9",
   "metadata": {
    "papermill": {
     "duration": 0.025997,
     "end_time": "2025-08-19T19:06:44.755550",
     "exception": false,
     "start_time": "2025-08-19T19:06:44.729553",
     "status": "completed"
    },
    "tags": []
   },
   "source": [
    "# Overall"
   ]
  },
  {
   "cell_type": "markdown",
   "id": "be1784b1",
   "metadata": {
    "papermill": {
     "duration": 0.012672,
     "end_time": "2025-08-19T19:06:44.781760",
     "exception": false,
     "start_time": "2025-08-19T19:06:44.769088",
     "status": "completed"
    },
    "tags": []
   },
   "source": [
    "Main fairness target: Equalized Odds. Seems to be a better fit than equal opportunity, since we're not only interested in Y = 1. Seems to be a better fit than demographic parity, since we also care about accuracy, not just equal distribution of preds.\n",
    "\n",
    "Pick column for computation of fairness metrics\n",
    "\n",
    "Performance\n",
    "Overall performance measures, most interesting in relation to the measures split by group below"
   ]
  },
  {
   "cell_type": "code",
   "execution_count": 59,
   "id": "b7672bee",
   "metadata": {
    "execution": {
     "iopub.execute_input": "2025-08-19T19:06:44.812603Z",
     "iopub.status.busy": "2025-08-19T19:06:44.810613Z",
     "iopub.status.idle": "2025-08-19T19:06:44.826026Z",
     "shell.execute_reply": "2025-08-19T19:06:44.824924Z"
    },
    "papermill": {
     "duration": 0.033021,
     "end_time": "2025-08-19T19:06:44.827596",
     "exception": false,
     "start_time": "2025-08-19T19:06:44.794575",
     "status": "completed"
    },
    "tags": []
   },
   "outputs": [
    {
     "data": {
      "text/plain": [
       "accuracy                   0.195876\n",
       "balanced accuracy          0.533213\n",
       "f1                         0.239484\n",
       "precision                  0.136275\n",
       "false positive rate        0.920539\n",
       "false negative rate        0.013034\n",
       "selection rate             0.929060\n",
       "count                  89710.000000\n",
       "dtype: float64"
      ]
     },
     "execution_count": 59,
     "metadata": {},
     "output_type": "execute_result"
    }
   ],
   "source": [
    "metric_frame.overall"
   ]
  },
  {
   "cell_type": "markdown",
   "id": "d93333c9",
   "metadata": {
    "papermill": {
     "duration": 0.012693,
     "end_time": "2025-08-19T19:06:44.853674",
     "exception": false,
     "start_time": "2025-08-19T19:06:44.840981",
     "status": "completed"
    },
    "tags": []
   },
   "source": [
    "By Group"
   ]
  },
  {
   "cell_type": "code",
   "execution_count": 60,
   "id": "52256966",
   "metadata": {
    "execution": {
     "iopub.execute_input": "2025-08-19T19:06:44.881637Z",
     "iopub.status.busy": "2025-08-19T19:06:44.880246Z",
     "iopub.status.idle": "2025-08-19T19:06:44.901896Z",
     "shell.execute_reply": "2025-08-19T19:06:44.901057Z"
    },
    "papermill": {
     "duration": 0.036944,
     "end_time": "2025-08-19T19:06:44.903152",
     "exception": false,
     "start_time": "2025-08-19T19:06:44.866208",
     "status": "completed"
    },
    "tags": []
   },
   "outputs": [
    {
     "data": {
      "text/html": [
       "<div>\n",
       "<style scoped>\n",
       "    .dataframe tbody tr th:only-of-type {\n",
       "        vertical-align: middle;\n",
       "    }\n",
       "\n",
       "    .dataframe tbody tr th {\n",
       "        vertical-align: top;\n",
       "    }\n",
       "\n",
       "    .dataframe thead th {\n",
       "        text-align: right;\n",
       "    }\n",
       "</style>\n",
       "<table border=\"1\" class=\"dataframe\">\n",
       "  <thead>\n",
       "    <tr style=\"text-align: right;\">\n",
       "      <th></th>\n",
       "      <th>accuracy</th>\n",
       "      <th>balanced accuracy</th>\n",
       "      <th>f1</th>\n",
       "      <th>precision</th>\n",
       "      <th>false positive rate</th>\n",
       "      <th>false negative rate</th>\n",
       "      <th>selection rate</th>\n",
       "      <th>count</th>\n",
       "    </tr>\n",
       "    <tr>\n",
       "      <th>majmin</th>\n",
       "      <th></th>\n",
       "      <th></th>\n",
       "      <th></th>\n",
       "      <th></th>\n",
       "      <th></th>\n",
       "      <th></th>\n",
       "      <th></th>\n",
       "      <th></th>\n",
       "    </tr>\n",
       "  </thead>\n",
       "  <tbody>\n",
       "    <tr>\n",
       "      <th>majority</th>\n",
       "      <td>0.200347</td>\n",
       "      <td>0.534520</td>\n",
       "      <td>0.246287</td>\n",
       "      <td>0.140662</td>\n",
       "      <td>0.919690</td>\n",
       "      <td>0.011269</td>\n",
       "      <td>0.928813</td>\n",
       "      <td>69170.0</td>\n",
       "    </tr>\n",
       "    <tr>\n",
       "      <th>minority</th>\n",
       "      <td>0.180818</td>\n",
       "      <td>0.528404</td>\n",
       "      <td>0.216229</td>\n",
       "      <td>0.121518</td>\n",
       "      <td>0.923344</td>\n",
       "      <td>0.019848</td>\n",
       "      <td>0.929893</td>\n",
       "      <td>20540.0</td>\n",
       "    </tr>\n",
       "  </tbody>\n",
       "</table>\n",
       "</div>"
      ],
      "text/plain": [
       "          accuracy  balanced accuracy        f1  precision  \\\n",
       "majmin                                                       \n",
       "majority  0.200347           0.534520  0.246287   0.140662   \n",
       "minority  0.180818           0.528404  0.216229   0.121518   \n",
       "\n",
       "          false positive rate  false negative rate  selection rate    count  \n",
       "majmin                                                                       \n",
       "majority             0.919690             0.011269        0.928813  69170.0  \n",
       "minority             0.923344             0.019848        0.929893  20540.0  "
      ]
     },
     "execution_count": 60,
     "metadata": {},
     "output_type": "execute_result"
    }
   ],
   "source": [
    "metric_frame.by_group"
   ]
  },
  {
   "cell_type": "code",
   "execution_count": 61,
   "id": "6e6c20ae",
   "metadata": {
    "execution": {
     "iopub.execute_input": "2025-08-19T19:06:44.948977Z",
     "iopub.status.busy": "2025-08-19T19:06:44.946254Z",
     "iopub.status.idle": "2025-08-19T19:06:46.850575Z",
     "shell.execute_reply": "2025-08-19T19:06:46.849507Z"
    },
    "papermill": {
     "duration": 1.925084,
     "end_time": "2025-08-19T19:06:46.852097",
     "exception": false,
     "start_time": "2025-08-19T19:06:44.927013",
     "status": "completed"
    },
    "tags": []
   },
   "outputs": [
    {
     "data": {
      "text/plain": [
       "array([[<Axes: title={'center': 'accuracy'}, xlabel='majmin'>,\n",
       "        <Axes: title={'center': 'balanced accuracy'}, xlabel='majmin'>,\n",
       "        <Axes: title={'center': 'f1'}, xlabel='majmin'>],\n",
       "       [<Axes: title={'center': 'precision'}, xlabel='majmin'>,\n",
       "        <Axes: title={'center': 'false positive rate'}, xlabel='majmin'>,\n",
       "        <Axes: title={'center': 'false negative rate'}, xlabel='majmin'>],\n",
       "       [<Axes: title={'center': 'selection rate'}, xlabel='majmin'>,\n",
       "        <Axes: title={'center': 'count'}, xlabel='majmin'>,\n",
       "        <Axes: xlabel='majmin'>]], dtype=object)"
      ]
     },
     "execution_count": 61,
     "metadata": {},
     "output_type": "execute_result"
    },
    {
     "data": {
      "image/png": "[encoded data removed]",
      "text/plain": [
       "<Figure size 1200x800 with 9 Axes>"
      ]
     },
     "metadata": {},
     "output_type": "display_data"
    }
   ],
   "source": [
    "# In a graphic\n",
    "metric_frame.by_group.plot.bar(\n",
    "    subplots=True,\n",
    "    layout=[3, 3],\n",
    "    legend=False,\n",
    "    figsize=[12, 8],\n",
    "    title=\"Show all metrics\",\n",
    ")"
   ]
  },
  {
   "cell_type": "markdown",
   "id": "b2e433ae",
   "metadata": {
    "papermill": {
     "duration": 0.014053,
     "end_time": "2025-08-19T19:06:46.885230",
     "exception": false,
     "start_time": "2025-08-19T19:06:46.871177",
     "status": "completed"
    },
    "tags": []
   },
   "source": [
    "# Final Output"
   ]
  },
  {
   "cell_type": "code",
   "execution_count": 62,
   "id": "3871301e",
   "metadata": {
    "execution": {
     "iopub.execute_input": "2025-08-19T19:06:46.914696Z",
     "iopub.status.busy": "2025-08-19T19:06:46.913949Z",
     "iopub.status.idle": "2025-08-19T19:06:46.923717Z",
     "shell.execute_reply": "2025-08-19T19:06:46.922685Z"
    },
    "papermill": {
     "duration": 0.027196,
     "end_time": "2025-08-19T19:06:46.926190",
     "exception": false,
     "start_time": "2025-08-19T19:06:46.898994",
     "status": "completed"
    },
    "tags": []
   },
   "outputs": [
    {
     "data": {
      "text/plain": [
       "4"
      ]
     },
     "execution_count": 62,
     "metadata": {},
     "output_type": "execute_result"
    }
   ],
   "source": [
    "sub_universes = universe_analysis.generate_sub_universes()\n",
    "len(sub_universes)"
   ]
  },
  {
   "cell_type": "code",
   "execution_count": 63,
   "id": "d9cfdaca",
   "metadata": {
    "execution": {
     "iopub.execute_input": "2025-08-19T19:06:46.970657Z",
     "iopub.status.busy": "2025-08-19T19:06:46.970108Z",
     "iopub.status.idle": "2025-08-19T19:06:46.979047Z",
     "shell.execute_reply": "2025-08-19T19:06:46.977337Z"
    },
    "papermill": {
     "duration": 0.02686,
     "end_time": "2025-08-19T19:06:46.981174",
     "exception": false,
     "start_time": "2025-08-19T19:06:46.954314",
     "status": "completed"
    },
    "tags": []
   },
   "outputs": [],
   "source": [
    "def filter_sub_universe_data(sub_universe, org_test):\n",
    "    # Keep all rows — no filtering\n",
    "    keep_rows_mask = np.ones(org_test.shape[0], dtype=bool)\n",
    "\n",
    "    print(f\"[INFO] Keeping all rows: {keep_rows_mask.sum()} rows retained.\")\n",
    "    return keep_rows_mask"
   ]
  },
  {
   "cell_type": "code",
   "execution_count": 64,
   "id": "2bc31ac1",
   "metadata": {
    "execution": {
     "iopub.execute_input": "2025-08-19T19:06:47.025730Z",
     "iopub.status.busy": "2025-08-19T19:06:47.023867Z",
     "iopub.status.idle": "2025-08-19T19:06:53.809528Z",
     "shell.execute_reply": "2025-08-19T19:06:53.808494Z"
    },
    "papermill": {
     "duration": 6.803497,
     "end_time": "2025-08-19T19:06:53.810860",
     "exception": false,
     "start_time": "2025-08-19T19:06:47.007363",
     "status": "completed"
    },
    "tags": []
   },
   "outputs": [
    {
     "name": "stdout",
     "output_type": "stream",
     "text": [
      "Stopping execution_time clock.\n",
      "[INFO] Keeping all rows: 89710 rows retained.\n"
     ]
    },
    {
     "name": "stdout",
     "output_type": "stream",
     "text": [
      "[INFO] Keeping all rows: 89710 rows retained.\n"
     ]
    },
    {
     "name": "stdout",
     "output_type": "stream",
     "text": [
      "[INFO] Keeping all rows: 89710 rows retained.\n"
     ]
    },
    {
     "name": "stdout",
     "output_type": "stream",
     "text": [
      "[INFO] Keeping all rows: 89710 rows retained.\n"
     ]
    },
    {
     "data": {
      "text/html": [
       "<div>\n",
       "<style scoped>\n",
       "    .dataframe tbody tr th:only-of-type {\n",
       "        vertical-align: middle;\n",
       "    }\n",
       "\n",
       "    .dataframe tbody tr th {\n",
       "        vertical-align: top;\n",
       "    }\n",
       "\n",
       "    .dataframe thead th {\n",
       "        text-align: right;\n",
       "    }\n",
       "</style>\n",
       "<table border=\"1\" class=\"dataframe\">\n",
       "  <thead>\n",
       "    <tr style=\"text-align: right;\">\n",
       "      <th></th>\n",
       "      <th>run_no</th>\n",
       "      <th>universe_id</th>\n",
       "      <th>universe_settings</th>\n",
       "      <th>execution_time</th>\n",
       "      <th>test_size_n</th>\n",
       "      <th>test_size_frac</th>\n",
       "      <th>fair_main_equalized_odds_difference</th>\n",
       "      <th>fair_main_equalized_odds_ratio</th>\n",
       "      <th>fair_main_demographic_parity_difference</th>\n",
       "      <th>fair_main_demographic_parity_ratio</th>\n",
       "      <th>...</th>\n",
       "      <th>perf_grp_precision_0</th>\n",
       "      <th>perf_grp_precision_1</th>\n",
       "      <th>perf_grp_false positive rate_0</th>\n",
       "      <th>perf_grp_false positive rate_1</th>\n",
       "      <th>perf_grp_false negative rate_0</th>\n",
       "      <th>perf_grp_false negative rate_1</th>\n",
       "      <th>perf_grp_selection rate_0</th>\n",
       "      <th>perf_grp_selection rate_1</th>\n",
       "      <th>perf_grp_count_0</th>\n",
       "      <th>perf_grp_count_1</th>\n",
       "    </tr>\n",
       "  </thead>\n",
       "  <tbody>\n",
       "    <tr>\n",
       "      <th>0</th>\n",
       "      <td>3</td>\n",
       "      <td>fed6c800ffeadd99f3989f0e0214b57f</td>\n",
       "      <td>{\"cutoff\": \"quantile_0.1\", \"eval_fairness_grou...</td>\n",
       "      <td>27.684325</td>\n",
       "      <td>89710</td>\n",
       "      <td>1.0</td>\n",
       "      <td>0.008579</td>\n",
       "      <td>0.991323</td>\n",
       "      <td>0.001080</td>\n",
       "      <td>0.998839</td>\n",
       "      <td>...</td>\n",
       "      <td>NaN</td>\n",
       "      <td>NaN</td>\n",
       "      <td>NaN</td>\n",
       "      <td>NaN</td>\n",
       "      <td>NaN</td>\n",
       "      <td>NaN</td>\n",
       "      <td>NaN</td>\n",
       "      <td>NaN</td>\n",
       "      <td>NaN</td>\n",
       "      <td>NaN</td>\n",
       "    </tr>\n",
       "    <tr>\n",
       "      <th>0</th>\n",
       "      <td>3</td>\n",
       "      <td>fed6c800ffeadd99f3989f0e0214b57f</td>\n",
       "      <td>{\"cutoff\": \"quantile_0.1\", \"eval_fairness_grou...</td>\n",
       "      <td>27.684325</td>\n",
       "      <td>89710</td>\n",
       "      <td>1.0</td>\n",
       "      <td>0.008579</td>\n",
       "      <td>0.991323</td>\n",
       "      <td>0.001080</td>\n",
       "      <td>0.998839</td>\n",
       "      <td>...</td>\n",
       "      <td>0.121518</td>\n",
       "      <td>0.140662</td>\n",
       "      <td>0.923344</td>\n",
       "      <td>0.919690</td>\n",
       "      <td>0.019848</td>\n",
       "      <td>0.011269</td>\n",
       "      <td>0.929893</td>\n",
       "      <td>0.928813</td>\n",
       "      <td>20540.0</td>\n",
       "      <td>69170.0</td>\n",
       "    </tr>\n",
       "    <tr>\n",
       "      <th>0</th>\n",
       "      <td>3</td>\n",
       "      <td>fed6c800ffeadd99f3989f0e0214b57f</td>\n",
       "      <td>{\"cutoff\": \"quantile_0.25\", \"eval_fairness_gro...</td>\n",
       "      <td>27.684325</td>\n",
       "      <td>89710</td>\n",
       "      <td>1.0</td>\n",
       "      <td>0.046638</td>\n",
       "      <td>0.950173</td>\n",
       "      <td>0.016697</td>\n",
       "      <td>0.978554</td>\n",
       "      <td>...</td>\n",
       "      <td>NaN</td>\n",
       "      <td>NaN</td>\n",
       "      <td>NaN</td>\n",
       "      <td>NaN</td>\n",
       "      <td>NaN</td>\n",
       "      <td>NaN</td>\n",
       "      <td>NaN</td>\n",
       "      <td>NaN</td>\n",
       "      <td>NaN</td>\n",
       "      <td>NaN</td>\n",
       "    </tr>\n",
       "    <tr>\n",
       "      <th>0</th>\n",
       "      <td>3</td>\n",
       "      <td>fed6c800ffeadd99f3989f0e0214b57f</td>\n",
       "      <td>{\"cutoff\": \"quantile_0.25\", \"eval_fairness_gro...</td>\n",
       "      <td>27.684325</td>\n",
       "      <td>89710</td>\n",
       "      <td>1.0</td>\n",
       "      <td>0.046638</td>\n",
       "      <td>0.950173</td>\n",
       "      <td>0.016697</td>\n",
       "      <td>0.978554</td>\n",
       "      <td>...</td>\n",
       "      <td>0.131699</td>\n",
       "      <td>0.162346</td>\n",
       "      <td>0.764088</td>\n",
       "      <td>0.735316</td>\n",
       "      <td>0.110642</td>\n",
       "      <td>0.064004</td>\n",
       "      <td>0.778530</td>\n",
       "      <td>0.761833</td>\n",
       "      <td>20540.0</td>\n",
       "      <td>69170.0</td>\n",
       "    </tr>\n",
       "  </tbody>\n",
       "</table>\n",
       "<p>4 rows × 50 columns</p>\n",
       "</div>"
      ],
      "text/plain": [
       "  run_no                       universe_id  \\\n",
       "0      3  fed6c800ffeadd99f3989f0e0214b57f   \n",
       "0      3  fed6c800ffeadd99f3989f0e0214b57f   \n",
       "0      3  fed6c800ffeadd99f3989f0e0214b57f   \n",
       "0      3  fed6c800ffeadd99f3989f0e0214b57f   \n",
       "\n",
       "                                   universe_settings  execution_time  \\\n",
       "0  {\"cutoff\": \"quantile_0.1\", \"eval_fairness_grou...       27.684325   \n",
       "0  {\"cutoff\": \"quantile_0.1\", \"eval_fairness_grou...       27.684325   \n",
       "0  {\"cutoff\": \"quantile_0.25\", \"eval_fairness_gro...       27.684325   \n",
       "0  {\"cutoff\": \"quantile_0.25\", \"eval_fairness_gro...       27.684325   \n",
       "\n",
       "   test_size_n  test_size_frac  fair_main_equalized_odds_difference  \\\n",
       "0        89710             1.0                             0.008579   \n",
       "0        89710             1.0                             0.008579   \n",
       "0        89710             1.0                             0.046638   \n",
       "0        89710             1.0                             0.046638   \n",
       "\n",
       "   fair_main_equalized_odds_ratio  fair_main_demographic_parity_difference  \\\n",
       "0                        0.991323                                 0.001080   \n",
       "0                        0.991323                                 0.001080   \n",
       "0                        0.950173                                 0.016697   \n",
       "0                        0.950173                                 0.016697   \n",
       "\n",
       "   fair_main_demographic_parity_ratio  ...  perf_grp_precision_0  \\\n",
       "0                            0.998839  ...                   NaN   \n",
       "0                            0.998839  ...              0.121518   \n",
       "0                            0.978554  ...                   NaN   \n",
       "0                            0.978554  ...              0.131699   \n",
       "\n",
       "   perf_grp_precision_1  perf_grp_false positive rate_0  \\\n",
       "0                   NaN                             NaN   \n",
       "0              0.140662                        0.923344   \n",
       "0                   NaN                             NaN   \n",
       "0              0.162346                        0.764088   \n",
       "\n",
       "   perf_grp_false positive rate_1  perf_grp_false negative rate_0  \\\n",
       "0                             NaN                             NaN   \n",
       "0                        0.919690                        0.019848   \n",
       "0                             NaN                             NaN   \n",
       "0                        0.735316                        0.110642   \n",
       "\n",
       "   perf_grp_false negative rate_1  perf_grp_selection rate_0  \\\n",
       "0                             NaN                        NaN   \n",
       "0                        0.011269                   0.929893   \n",
       "0                             NaN                        NaN   \n",
       "0                        0.064004                   0.778530   \n",
       "\n",
       "   perf_grp_selection rate_1  perf_grp_count_0  perf_grp_count_1  \n",
       "0                        NaN               NaN               NaN  \n",
       "0                   0.928813           20540.0           69170.0  \n",
       "0                        NaN               NaN               NaN  \n",
       "0                   0.761833           20540.0           69170.0  \n",
       "\n",
       "[4 rows x 50 columns]"
      ]
     },
     "execution_count": 64,
     "metadata": {},
     "output_type": "execute_result"
    }
   ],
   "source": [
    "final_output = universe_analysis.generate_final_output(\n",
    "    y_pred_prob=probs_test,\n",
    "    y_test=y_true,\n",
    "    org_test=org_test,\n",
    "    filter_data=filter_sub_universe_data,\n",
    "    cp_metrics_df=cp_metrics_df,\n",
    "    save=True,\n",
    ")\n",
    "final_output"
   ]
  },
  {
   "cell_type": "code",
   "execution_count": null,
   "id": "8b80a1ff",
   "metadata": {
    "papermill": {
     "duration": 0.015206,
     "end_time": "2025-08-19T19:06:53.844086",
     "exception": false,
     "start_time": "2025-08-19T19:06:53.828880",
     "status": "completed"
    },
    "tags": []
   },
   "outputs": [],
   "source": []
  },
  {
   "cell_type": "code",
   "execution_count": null,
   "id": "275c9fad",
   "metadata": {
    "papermill": {
     "duration": 0.014634,
     "end_time": "2025-08-19T19:06:53.873472",
     "exception": false,
     "start_time": "2025-08-19T19:06:53.858838",
     "status": "completed"
    },
    "tags": []
   },
   "outputs": [],
   "source": []
  }
 ],
 "metadata": {
  "celltoolbar": "Tags",
  "kernelspec": {
   "display_name": "Python (CMA Fairness)",
   "language": "python",
   "name": "cma_fair_env"
  },
  "language_info": {
   "codemirror_mode": {
    "name": "ipython",
    "version": 3
   },
   "file_extension": ".py",
   "mimetype": "text/x-python",
   "name": "python",
   "nbconvert_exporter": "python",
   "pygments_lexer": "ipython3",
   "version": "3.10.12"
  },
  "papermill": {
   "default_parameters": {},
   "duration": 38.563263,
   "end_time": "2025-08-19T19:06:54.811349",
   "environment_variables": {},
   "exception": null,
   "input_path": "universe_analysis.ipynb",
   "output_path": "output/runs/3/notebooks/m_3-fed6c800ffeadd99f3989f0e0214b57f.ipynb",
   "parameters": {
    "output_dir": "output",
    "run_no": "3",
    "seed": "2023",
    "universe": "{\"cutoff\": [\"quantile_0.1\", \"quantile_0.25\"], \"eval_fairness_grouping\": [\"majority-minority\", \"nationality-all\"], \"exclude_features\": \"nationality\", \"exclude_subgroups\": \"drop-non-german\", \"model\": \"rf\", \"scale\": \"scale\", \"training_size\": \"1k\", \"training_year\": \"2010_14\"}",
    "universe_id": "fed6c800ffeadd99f3989f0e0214b57f"
   },
   "start_time": "2025-08-19T19:06:16.248086",
   "version": "2.6.0"
  }
 },
 "nbformat": 4,
 "nbformat_minor": 5
}