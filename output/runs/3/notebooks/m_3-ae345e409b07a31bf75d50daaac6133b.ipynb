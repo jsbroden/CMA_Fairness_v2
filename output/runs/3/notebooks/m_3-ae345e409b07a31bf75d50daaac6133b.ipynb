{
 "cells": [
  {
   "cell_type": "markdown",
   "id": "ef23dbb3",
   "metadata": {
    "papermill": {
     "duration": 0.022639,
     "end_time": "2025-08-19T18:44:50.327904",
     "exception": false,
     "start_time": "2025-08-19T18:44:50.305265",
     "status": "completed"
    },
    "tags": []
   },
   "source": [
    "# Setup"
   ]
  },
  {
   "cell_type": "code",
   "execution_count": 1,
   "id": "0bc8e7dc",
   "metadata": {
    "execution": {
     "iopub.execute_input": "2025-08-19T18:44:50.355769Z",
     "iopub.status.busy": "2025-08-19T18:44:50.350636Z",
     "iopub.status.idle": "2025-08-19T18:44:50.378822Z",
     "shell.execute_reply": "2025-08-19T18:44:50.377224Z"
    },
    "papermill": {
     "duration": 0.041094,
     "end_time": "2025-08-19T18:44:50.381209",
     "exception": false,
     "start_time": "2025-08-19T18:44:50.340115",
     "status": "completed"
    },
    "tags": []
   },
   "outputs": [
    {
     "name": "stdout",
     "output_type": "stream",
     "text": [
      "/dss/dsshome1/0C/ra93lal2/cma/CMA_Fairness_v2\n"
     ]
    },
    {
     "name": "stderr",
     "output_type": "stream",
     "text": [
      "/dss/dsshome1/0C/ra93lal2/.local/share/virtualenvs/CMA_Fairness_v2-3j10GkSs/lib/python3.10/site-packages/IPython/core/magics/osm.py:393: UserWarning: This is now an optional IPython functionality, using bookmarks requires you to install the `pickleshare` library.\n",
      "  bkms = self.shell.db.get('bookmarks', {})\n",
      "/dss/dsshome1/0C/ra93lal2/.local/share/virtualenvs/CMA_Fairness_v2-3j10GkSs/lib/python3.10/site-packages/IPython/core/magics/osm.py:417: UserWarning: This is now an optional IPython functionality, setting dhist requires you to install the `pickleshare` library.\n",
      "  self.shell.db['dhist'] = compress_dhist(dhist)[-100:]\n"
     ]
    }
   ],
   "source": [
    "%cd ~/cma/CMA_Fairness_v2"
   ]
  },
  {
   "cell_type": "markdown",
   "id": "9d235661",
   "metadata": {
    "papermill": {
     "duration": 0.011258,
     "end_time": "2025-08-19T18:44:50.411361",
     "exception": false,
     "start_time": "2025-08-19T18:44:50.400103",
     "status": "completed"
    },
    "tags": []
   },
   "source": [
    "The following cell holds the definition of our parameters, these values can be overriden by rendering the with e.g. the following command:\n",
    "\n",
    "papermill -p alpha 0.2 -p ratio 0.3 universe_analysis.ipynb output/test_run.ipynb"
   ]
  },
  {
   "cell_type": "code",
   "execution_count": 2,
   "id": "4a789d8e",
   "metadata": {
    "execution": {
     "iopub.execute_input": "2025-08-19T18:44:50.431745Z",
     "iopub.status.busy": "2025-08-19T18:44:50.430555Z",
     "iopub.status.idle": "2025-08-19T18:44:50.440271Z",
     "shell.execute_reply": "2025-08-19T18:44:50.438628Z"
    },
    "papermill": {
     "duration": 0.02181,
     "end_time": "2025-08-19T18:44:50.441877",
     "exception": false,
     "start_time": "2025-08-19T18:44:50.420067",
     "status": "completed"
    },
    "tags": []
   },
   "outputs": [
    {
     "name": "stdout",
     "output_type": "stream",
     "text": [
      "Current working directory: /dss/dsshome1/0C/ra93lal2/cma/CMA_Fairness_v2\n"
     ]
    }
   ],
   "source": [
    "import os\n",
    "print(\"Current working directory:\", os.getcwd())"
   ]
  },
  {
   "cell_type": "code",
   "execution_count": 3,
   "id": "4132aaed",
   "metadata": {
    "execution": {
     "iopub.execute_input": "2025-08-19T18:44:50.467260Z",
     "iopub.status.busy": "2025-08-19T18:44:50.466093Z",
     "iopub.status.idle": "2025-08-19T18:44:50.476699Z",
     "shell.execute_reply": "2025-08-19T18:44:50.475027Z"
    },
    "papermill": {
     "duration": 0.023636,
     "end_time": "2025-08-19T18:44:50.478137",
     "exception": false,
     "start_time": "2025-08-19T18:44:50.454501",
     "status": "completed"
    },
    "tags": [
     "parameters"
    ]
   },
   "outputs": [],
   "source": [
    "run_no = 0\n",
    "universe_id = \"test\"\n",
    "universe = {\n",
    "    \"training_size\": \"5k\", # \"25k\", \"5k\", \"1k\"\n",
    "    \"training_year\": \"2012_14\", # \"2014\", \"2012_14\", \"2010_14\"\n",
    "    \"scale\": \"scale\", # \"scale\", \"do-not-scale\",\n",
    "    \"model\": \"elasticnet\", # \"logreg\", \"penalized_logreg\", \"rf\", \"gbm\", \"elasticnet\"\n",
    "    \"cutoff\": [\"quantile_0.15\", \"quantile_0.30\"],\n",
    "    \"exclude_features\": \"age\", # \"none\", \"nationality\", \"sex\", \"nationality-sex\", \"age\"\n",
    "    \"exclude_subgroups\": \"drop-non-german\", # \"keep-all\", \"drop-non-german\"\n",
    "    \"eval_fairness_grouping\": [\"majority-minority\", \"nationality-all\"]\n",
    "}\n",
    "\n",
    "output_dir=\"./output\"\n",
    "seed=0"
   ]
  },
  {
   "cell_type": "code",
   "execution_count": 4,
   "id": "61601743",
   "metadata": {
    "execution": {
     "iopub.execute_input": "2025-08-19T18:44:50.501864Z",
     "iopub.status.busy": "2025-08-19T18:44:50.500747Z",
     "iopub.status.idle": "2025-08-19T18:44:50.509632Z",
     "shell.execute_reply": "2025-08-19T18:44:50.507855Z"
    },
    "papermill": {
     "duration": 0.021119,
     "end_time": "2025-08-19T18:44:50.511402",
     "exception": false,
     "start_time": "2025-08-19T18:44:50.490283",
     "status": "completed"
    },
    "tags": [
     "injected-parameters"
    ]
   },
   "outputs": [],
   "source": [
    "# Parameters\n",
    "universe_id = \"ae345e409b07a31bf75d50daaac6133b\"\n",
    "run_no = \"3\"\n",
    "universe = \"{\\\"cutoff\\\": [\\\"quantile_0.1\\\", \\\"quantile_0.25\\\"], \\\"eval_fairness_grouping\\\": [\\\"majority-minority\\\", \\\"nationality-all\\\"], \\\"exclude_features\\\": \\\"sex\\\", \\\"exclude_subgroups\\\": \\\"drop-non-german\\\", \\\"model\\\": \\\"logreg\\\", \\\"scale\\\": \\\"do-not-scale\\\", \\\"training_size\\\": \\\"5k\\\", \\\"training_year\\\": \\\"2010_14\\\"}\"\n",
    "output_dir = \"output\"\n",
    "seed = \"2023\"\n"
   ]
  },
  {
   "cell_type": "code",
   "execution_count": 5,
   "id": "a5d7941f",
   "metadata": {
    "execution": {
     "iopub.execute_input": "2025-08-19T18:44:50.534943Z",
     "iopub.status.busy": "2025-08-19T18:44:50.533807Z",
     "iopub.status.idle": "2025-08-19T18:44:50.542028Z",
     "shell.execute_reply": "2025-08-19T18:44:50.540577Z"
    },
    "papermill": {
     "duration": 0.020646,
     "end_time": "2025-08-19T18:44:50.543481",
     "exception": false,
     "start_time": "2025-08-19T18:44:50.522835",
     "status": "completed"
    },
    "tags": []
   },
   "outputs": [],
   "source": [
    "import json\n",
    "if isinstance(universe, str):\n",
    "    universe = json.loads(universe)"
   ]
  },
  {
   "cell_type": "code",
   "execution_count": 6,
   "id": "7076ccb1",
   "metadata": {
    "execution": {
     "iopub.execute_input": "2025-08-19T18:44:50.566207Z",
     "iopub.status.busy": "2025-08-19T18:44:50.564994Z",
     "iopub.status.idle": "2025-08-19T18:44:50.616720Z",
     "shell.execute_reply": "2025-08-19T18:44:50.615996Z"
    },
    "papermill": {
     "duration": 0.065151,
     "end_time": "2025-08-19T18:44:50.619350",
     "exception": false,
     "start_time": "2025-08-19T18:44:50.554199",
     "status": "completed"
    },
    "tags": []
   },
   "outputs": [],
   "source": [
    "# Auto-reload the custom package\n",
    "%load_ext autoreload\n",
    "%autoreload 1\n",
    "%aimport fairness_multiverse"
   ]
  },
  {
   "cell_type": "code",
   "execution_count": 7,
   "id": "94c8eb93",
   "metadata": {
    "execution": {
     "iopub.execute_input": "2025-08-19T18:44:50.655515Z",
     "iopub.status.busy": "2025-08-19T18:44:50.654457Z",
     "iopub.status.idle": "2025-08-19T18:44:52.251989Z",
     "shell.execute_reply": "2025-08-19T18:44:52.250602Z"
    },
    "papermill": {
     "duration": 1.612271,
     "end_time": "2025-08-19T18:44:52.253758",
     "exception": false,
     "start_time": "2025-08-19T18:44:50.641487",
     "status": "completed"
    },
    "tags": []
   },
   "outputs": [],
   "source": [
    "from fairness_multiverse.universe import UniverseAnalysis\n",
    "\n",
    "universe_analysis = UniverseAnalysis(\n",
    "    run_no = run_no,\n",
    "    universe_id = universe_id,\n",
    "    universe = universe,\n",
    "    output_dir=output_dir,\n",
    ")"
   ]
  },
  {
   "cell_type": "code",
   "execution_count": 8,
   "id": "2a6381cf",
   "metadata": {
    "execution": {
     "iopub.execute_input": "2025-08-19T18:44:52.274732Z",
     "iopub.status.busy": "2025-08-19T18:44:52.274246Z",
     "iopub.status.idle": "2025-08-19T18:44:52.287683Z",
     "shell.execute_reply": "2025-08-19T18:44:52.286118Z"
    },
    "papermill": {
     "duration": 0.027241,
     "end_time": "2025-08-19T18:44:52.290570",
     "exception": false,
     "start_time": "2025-08-19T18:44:52.263329",
     "status": "completed"
    },
    "tags": []
   },
   "outputs": [
    {
     "name": "stdout",
     "output_type": "stream",
     "text": [
      "Using Seed: 2023\n"
     ]
    }
   ],
   "source": [
    "import numpy as np\n",
    "parsed_seed = int(seed)\n",
    "np.random.seed(parsed_seed)\n",
    "print(f\"Using Seed: {parsed_seed}\")"
   ]
  },
  {
   "cell_type": "markdown",
   "id": "b6e958b4",
   "metadata": {
    "papermill": {
     "duration": 0.009864,
     "end_time": "2025-08-19T18:44:52.314069",
     "exception": false,
     "start_time": "2025-08-19T18:44:52.304205",
     "status": "completed"
    },
    "tags": []
   },
   "source": [
    "# Loading Data"
   ]
  },
  {
   "cell_type": "code",
   "execution_count": 9,
   "id": "98701482",
   "metadata": {
    "execution": {
     "iopub.execute_input": "2025-08-19T18:44:52.334506Z",
     "iopub.status.busy": "2025-08-19T18:44:52.334188Z",
     "iopub.status.idle": "2025-08-19T18:45:02.628455Z",
     "shell.execute_reply": "2025-08-19T18:45:02.627273Z"
    },
    "papermill": {
     "duration": 10.306192,
     "end_time": "2025-08-19T18:45:02.629867",
     "exception": false,
     "start_time": "2025-08-19T18:44:52.323675",
     "status": "completed"
    },
    "tags": []
   },
   "outputs": [
    {
     "name": "stdout",
     "output_type": "stream",
     "text": [
      "Loading SIAB data from cache: data/siab_cached.csv.gz\n"
     ]
    },
    {
     "name": "stdout",
     "output_type": "stream",
     "text": [
      "(643690, 164)\n"
     ]
    }
   ],
   "source": [
    "from pathlib import Path\n",
    "import pandas as pd\n",
    "\n",
    "# File paths\n",
    "raw_file = Path(\"data/raw/siab.csv\")\n",
    "cache_file = Path(\"data/siab_cached.csv.gz\")\n",
    "\n",
    "# Ensure cache directory exists\n",
    "cache_file.parent.mkdir(parents=True, exist_ok=True)\n",
    "\n",
    "# Load with simple caching\n",
    "if cache_file.exists():\n",
    "    print(f\"Loading SIAB data from cache: {cache_file}\")\n",
    "    siab = pd.read_csv(cache_file, compression='gzip')\n",
    "else:\n",
    "    print(f\"Cache not found. Reading raw SIAB data: {raw_file}\")\n",
    "    siab = pd.read_csv(raw_file)\n",
    "    siab.to_csv(cache_file, index=False, compression='gzip')\n",
    "    print(f\"Cached SIAB data to: {cache_file}\")\n",
    "\n",
    "print(siab.shape)"
   ]
  },
  {
   "cell_type": "code",
   "execution_count": 10,
   "id": "058d2abb",
   "metadata": {
    "execution": {
     "iopub.execute_input": "2025-08-19T18:45:02.667447Z",
     "iopub.status.busy": "2025-08-19T18:45:02.666048Z",
     "iopub.status.idle": "2025-08-19T18:45:02.864839Z",
     "shell.execute_reply": "2025-08-19T18:45:02.863900Z"
    },
    "papermill": {
     "duration": 0.213087,
     "end_time": "2025-08-19T18:45:02.867472",
     "exception": false,
     "start_time": "2025-08-19T18:45:02.654385",
     "status": "completed"
    },
    "tags": []
   },
   "outputs": [
    {
     "data": {
      "text/html": [
       "<div>\n",
       "<style scoped>\n",
       "    .dataframe tbody tr th:only-of-type {\n",
       "        vertical-align: middle;\n",
       "    }\n",
       "\n",
       "    .dataframe tbody tr th {\n",
       "        vertical-align: top;\n",
       "    }\n",
       "\n",
       "    .dataframe thead th {\n",
       "        text-align: right;\n",
       "    }\n",
       "</style>\n",
       "<table border=\"1\" class=\"dataframe\">\n",
       "  <thead>\n",
       "    <tr style=\"text-align: right;\">\n",
       "      <th></th>\n",
       "      <th>persnr</th>\n",
       "      <th>year</th>\n",
       "      <th>nrEntry</th>\n",
       "      <th>ltue</th>\n",
       "      <th>employed_before</th>\n",
       "      <th>receipt_leh_before</th>\n",
       "      <th>receipt_lhg_before</th>\n",
       "      <th>se_before</th>\n",
       "      <th>ASU_notue_seeking_before</th>\n",
       "      <th>ASU_other_before</th>\n",
       "      <th>...</th>\n",
       "      <th>minijob_tot_dur_byage</th>\n",
       "      <th>ft_tot_dur_byage</th>\n",
       "      <th>befrist_tot_dur_byage</th>\n",
       "      <th>leih_tot_dur_byage</th>\n",
       "      <th>LHG_tot_dur_byage</th>\n",
       "      <th>LEH_tot_dur_byage</th>\n",
       "      <th>almp_tot_dur_byage</th>\n",
       "      <th>almp_aw_tot_dur_byage</th>\n",
       "      <th>se_tot_dur_byage</th>\n",
       "      <th>seeking1_tot_dur_byage</th>\n",
       "    </tr>\n",
       "  </thead>\n",
       "  <tbody>\n",
       "    <tr>\n",
       "      <th>0</th>\n",
       "      <td>7</td>\n",
       "      <td>2015</td>\n",
       "      <td>1</td>\n",
       "      <td>0</td>\n",
       "      <td>1</td>\n",
       "      <td>0</td>\n",
       "      <td>0</td>\n",
       "      <td>0</td>\n",
       "      <td>1</td>\n",
       "      <td>0</td>\n",
       "      <td>...</td>\n",
       "      <td>0.000000</td>\n",
       "      <td>0.000000</td>\n",
       "      <td>15.043478</td>\n",
       "      <td>0.000000</td>\n",
       "      <td>0.000000</td>\n",
       "      <td>0.000000</td>\n",
       "      <td>0.000000</td>\n",
       "      <td>0.000000</td>\n",
       "      <td>0.000000</td>\n",
       "      <td>0.000000</td>\n",
       "    </tr>\n",
       "    <tr>\n",
       "      <th>1</th>\n",
       "      <td>18</td>\n",
       "      <td>2010</td>\n",
       "      <td>1</td>\n",
       "      <td>1</td>\n",
       "      <td>0</td>\n",
       "      <td>0</td>\n",
       "      <td>0</td>\n",
       "      <td>0</td>\n",
       "      <td>0</td>\n",
       "      <td>0</td>\n",
       "      <td>...</td>\n",
       "      <td>0.000000</td>\n",
       "      <td>0.000000</td>\n",
       "      <td>0.000000</td>\n",
       "      <td>0.000000</td>\n",
       "      <td>0.000000</td>\n",
       "      <td>0.000000</td>\n",
       "      <td>0.000000</td>\n",
       "      <td>0.000000</td>\n",
       "      <td>0.000000</td>\n",
       "      <td>0.000000</td>\n",
       "    </tr>\n",
       "    <tr>\n",
       "      <th>2</th>\n",
       "      <td>18</td>\n",
       "      <td>2011</td>\n",
       "      <td>2</td>\n",
       "      <td>0</td>\n",
       "      <td>1</td>\n",
       "      <td>0</td>\n",
       "      <td>1</td>\n",
       "      <td>0</td>\n",
       "      <td>1</td>\n",
       "      <td>0</td>\n",
       "      <td>...</td>\n",
       "      <td>2.714286</td>\n",
       "      <td>2.714286</td>\n",
       "      <td>0.000000</td>\n",
       "      <td>0.000000</td>\n",
       "      <td>10.775510</td>\n",
       "      <td>0.000000</td>\n",
       "      <td>8.367347</td>\n",
       "      <td>0.000000</td>\n",
       "      <td>0.000000</td>\n",
       "      <td>9.836735</td>\n",
       "    </tr>\n",
       "    <tr>\n",
       "      <th>3</th>\n",
       "      <td>18</td>\n",
       "      <td>2012</td>\n",
       "      <td>3</td>\n",
       "      <td>0</td>\n",
       "      <td>1</td>\n",
       "      <td>0</td>\n",
       "      <td>1</td>\n",
       "      <td>0</td>\n",
       "      <td>1</td>\n",
       "      <td>0</td>\n",
       "      <td>...</td>\n",
       "      <td>4.200000</td>\n",
       "      <td>4.200000</td>\n",
       "      <td>0.000000</td>\n",
       "      <td>0.000000</td>\n",
       "      <td>12.100000</td>\n",
       "      <td>0.000000</td>\n",
       "      <td>9.400000</td>\n",
       "      <td>0.000000</td>\n",
       "      <td>0.000000</td>\n",
       "      <td>9.960000</td>\n",
       "    </tr>\n",
       "    <tr>\n",
       "      <th>4</th>\n",
       "      <td>18</td>\n",
       "      <td>2012</td>\n",
       "      <td>4</td>\n",
       "      <td>0</td>\n",
       "      <td>1</td>\n",
       "      <td>0</td>\n",
       "      <td>1</td>\n",
       "      <td>0</td>\n",
       "      <td>1</td>\n",
       "      <td>0</td>\n",
       "      <td>...</td>\n",
       "      <td>5.460000</td>\n",
       "      <td>5.460000</td>\n",
       "      <td>0.000000</td>\n",
       "      <td>0.000000</td>\n",
       "      <td>13.360000</td>\n",
       "      <td>0.000000</td>\n",
       "      <td>10.320000</td>\n",
       "      <td>0.000000</td>\n",
       "      <td>0.000000</td>\n",
       "      <td>10.280000</td>\n",
       "    </tr>\n",
       "    <tr>\n",
       "      <th>...</th>\n",
       "      <td>...</td>\n",
       "      <td>...</td>\n",
       "      <td>...</td>\n",
       "      <td>...</td>\n",
       "      <td>...</td>\n",
       "      <td>...</td>\n",
       "      <td>...</td>\n",
       "      <td>...</td>\n",
       "      <td>...</td>\n",
       "      <td>...</td>\n",
       "      <td>...</td>\n",
       "      <td>...</td>\n",
       "      <td>...</td>\n",
       "      <td>...</td>\n",
       "      <td>...</td>\n",
       "      <td>...</td>\n",
       "      <td>...</td>\n",
       "      <td>...</td>\n",
       "      <td>...</td>\n",
       "      <td>...</td>\n",
       "      <td>...</td>\n",
       "    </tr>\n",
       "    <tr>\n",
       "      <th>643685</th>\n",
       "      <td>1827860</td>\n",
       "      <td>2013</td>\n",
       "      <td>1</td>\n",
       "      <td>0</td>\n",
       "      <td>0</td>\n",
       "      <td>0</td>\n",
       "      <td>1</td>\n",
       "      <td>0</td>\n",
       "      <td>0</td>\n",
       "      <td>1</td>\n",
       "      <td>...</td>\n",
       "      <td>0.000000</td>\n",
       "      <td>0.000000</td>\n",
       "      <td>0.000000</td>\n",
       "      <td>0.000000</td>\n",
       "      <td>0.612903</td>\n",
       "      <td>0.000000</td>\n",
       "      <td>0.000000</td>\n",
       "      <td>0.000000</td>\n",
       "      <td>0.000000</td>\n",
       "      <td>0.000000</td>\n",
       "    </tr>\n",
       "    <tr>\n",
       "      <th>643686</th>\n",
       "      <td>1827860</td>\n",
       "      <td>2015</td>\n",
       "      <td>2</td>\n",
       "      <td>1</td>\n",
       "      <td>0</td>\n",
       "      <td>0</td>\n",
       "      <td>1</td>\n",
       "      <td>0</td>\n",
       "      <td>1</td>\n",
       "      <td>0</td>\n",
       "      <td>...</td>\n",
       "      <td>0.000000</td>\n",
       "      <td>0.000000</td>\n",
       "      <td>0.212121</td>\n",
       "      <td>0.212121</td>\n",
       "      <td>17.363636</td>\n",
       "      <td>0.000000</td>\n",
       "      <td>8.909091</td>\n",
       "      <td>0.000000</td>\n",
       "      <td>0.000000</td>\n",
       "      <td>7.121212</td>\n",
       "    </tr>\n",
       "    <tr>\n",
       "      <th>643687</th>\n",
       "      <td>1827860</td>\n",
       "      <td>2016</td>\n",
       "      <td>3</td>\n",
       "      <td>1</td>\n",
       "      <td>0</td>\n",
       "      <td>0</td>\n",
       "      <td>1</td>\n",
       "      <td>1</td>\n",
       "      <td>0</td>\n",
       "      <td>1</td>\n",
       "      <td>...</td>\n",
       "      <td>0.000000</td>\n",
       "      <td>0.000000</td>\n",
       "      <td>0.294118</td>\n",
       "      <td>0.205882</td>\n",
       "      <td>34.705882</td>\n",
       "      <td>0.000000</td>\n",
       "      <td>10.352941</td>\n",
       "      <td>1.705882</td>\n",
       "      <td>1.705882</td>\n",
       "      <td>23.911765</td>\n",
       "    </tr>\n",
       "    <tr>\n",
       "      <th>643688</th>\n",
       "      <td>1827869</td>\n",
       "      <td>2013</td>\n",
       "      <td>1</td>\n",
       "      <td>1</td>\n",
       "      <td>1</td>\n",
       "      <td>0</td>\n",
       "      <td>0</td>\n",
       "      <td>0</td>\n",
       "      <td>1</td>\n",
       "      <td>0</td>\n",
       "      <td>...</td>\n",
       "      <td>0.000000</td>\n",
       "      <td>0.000000</td>\n",
       "      <td>0.000000</td>\n",
       "      <td>0.000000</td>\n",
       "      <td>0.000000</td>\n",
       "      <td>0.525424</td>\n",
       "      <td>0.000000</td>\n",
       "      <td>0.000000</td>\n",
       "      <td>0.000000</td>\n",
       "      <td>0.000000</td>\n",
       "    </tr>\n",
       "    <tr>\n",
       "      <th>643689</th>\n",
       "      <td>1827869</td>\n",
       "      <td>2014</td>\n",
       "      <td>2</td>\n",
       "      <td>0</td>\n",
       "      <td>0</td>\n",
       "      <td>1</td>\n",
       "      <td>0</td>\n",
       "      <td>0</td>\n",
       "      <td>1</td>\n",
       "      <td>0</td>\n",
       "      <td>...</td>\n",
       "      <td>0.000000</td>\n",
       "      <td>0.666667</td>\n",
       "      <td>0.666667</td>\n",
       "      <td>0.000000</td>\n",
       "      <td>0.000000</td>\n",
       "      <td>8.950000</td>\n",
       "      <td>1.033333</td>\n",
       "      <td>0.083333</td>\n",
       "      <td>0.083333</td>\n",
       "      <td>8.133333</td>\n",
       "    </tr>\n",
       "  </tbody>\n",
       "</table>\n",
       "<p>643690 rows × 164 columns</p>\n",
       "</div>"
      ],
      "text/plain": [
       "         persnr  year  nrEntry  ltue  employed_before  receipt_leh_before  \\\n",
       "0             7  2015        1     0                1                   0   \n",
       "1            18  2010        1     1                0                   0   \n",
       "2            18  2011        2     0                1                   0   \n",
       "3            18  2012        3     0                1                   0   \n",
       "4            18  2012        4     0                1                   0   \n",
       "...         ...   ...      ...   ...              ...                 ...   \n",
       "643685  1827860  2013        1     0                0                   0   \n",
       "643686  1827860  2015        2     1                0                   0   \n",
       "643687  1827860  2016        3     1                0                   0   \n",
       "643688  1827869  2013        1     1                1                   0   \n",
       "643689  1827869  2014        2     0                0                   1   \n",
       "\n",
       "        receipt_lhg_before  se_before  ASU_notue_seeking_before  \\\n",
       "0                        0          0                         1   \n",
       "1                        0          0                         0   \n",
       "2                        1          0                         1   \n",
       "3                        1          0                         1   \n",
       "4                        1          0                         1   \n",
       "...                    ...        ...                       ...   \n",
       "643685                   1          0                         0   \n",
       "643686                   1          0                         1   \n",
       "643687                   1          1                         0   \n",
       "643688                   0          0                         1   \n",
       "643689                   0          0                         1   \n",
       "\n",
       "        ASU_other_before  ...  minijob_tot_dur_byage  ft_tot_dur_byage  \\\n",
       "0                      0  ...               0.000000          0.000000   \n",
       "1                      0  ...               0.000000          0.000000   \n",
       "2                      0  ...               2.714286          2.714286   \n",
       "3                      0  ...               4.200000          4.200000   \n",
       "4                      0  ...               5.460000          5.460000   \n",
       "...                  ...  ...                    ...               ...   \n",
       "643685                 1  ...               0.000000          0.000000   \n",
       "643686                 0  ...               0.000000          0.000000   \n",
       "643687                 1  ...               0.000000          0.000000   \n",
       "643688                 0  ...               0.000000          0.000000   \n",
       "643689                 0  ...               0.000000          0.666667   \n",
       "\n",
       "        befrist_tot_dur_byage  leih_tot_dur_byage  LHG_tot_dur_byage  \\\n",
       "0                   15.043478            0.000000           0.000000   \n",
       "1                    0.000000            0.000000           0.000000   \n",
       "2                    0.000000            0.000000          10.775510   \n",
       "3                    0.000000            0.000000          12.100000   \n",
       "4                    0.000000            0.000000          13.360000   \n",
       "...                       ...                 ...                ...   \n",
       "643685               0.000000            0.000000           0.612903   \n",
       "643686               0.212121            0.212121          17.363636   \n",
       "643687               0.294118            0.205882          34.705882   \n",
       "643688               0.000000            0.000000           0.000000   \n",
       "643689               0.666667            0.000000           0.000000   \n",
       "\n",
       "        LEH_tot_dur_byage  almp_tot_dur_byage  almp_aw_tot_dur_byage  \\\n",
       "0                0.000000            0.000000               0.000000   \n",
       "1                0.000000            0.000000               0.000000   \n",
       "2                0.000000            8.367347               0.000000   \n",
       "3                0.000000            9.400000               0.000000   \n",
       "4                0.000000           10.320000               0.000000   \n",
       "...                   ...                 ...                    ...   \n",
       "643685           0.000000            0.000000               0.000000   \n",
       "643686           0.000000            8.909091               0.000000   \n",
       "643687           0.000000           10.352941               1.705882   \n",
       "643688           0.525424            0.000000               0.000000   \n",
       "643689           8.950000            1.033333               0.083333   \n",
       "\n",
       "        se_tot_dur_byage  seeking1_tot_dur_byage  \n",
       "0               0.000000                0.000000  \n",
       "1               0.000000                0.000000  \n",
       "2               0.000000                9.836735  \n",
       "3               0.000000                9.960000  \n",
       "4               0.000000               10.280000  \n",
       "...                  ...                     ...  \n",
       "643685          0.000000                0.000000  \n",
       "643686          0.000000                7.121212  \n",
       "643687          1.705882               23.911765  \n",
       "643688          0.000000                0.000000  \n",
       "643689          0.083333                8.133333  \n",
       "\n",
       "[643690 rows x 164 columns]"
      ]
     },
     "execution_count": 10,
     "metadata": {},
     "output_type": "execute_result"
    }
   ],
   "source": [
    "siab"
   ]
  },
  {
   "cell_type": "markdown",
   "id": "1f87e805",
   "metadata": {
    "papermill": {
     "duration": 0.012164,
     "end_time": "2025-08-19T18:45:02.903331",
     "exception": false,
     "start_time": "2025-08-19T18:45:02.891167",
     "status": "completed"
    },
    "tags": []
   },
   "source": [
    "# Splitting Data and Setting Training Data Size"
   ]
  },
  {
   "cell_type": "code",
   "execution_count": 11,
   "id": "910ae358",
   "metadata": {
    "execution": {
     "iopub.execute_input": "2025-08-19T18:45:02.925586Z",
     "iopub.status.busy": "2025-08-19T18:45:02.924078Z",
     "iopub.status.idle": "2025-08-19T18:45:04.014607Z",
     "shell.execute_reply": "2025-08-19T18:45:04.013397Z"
    },
    "papermill": {
     "duration": 1.103288,
     "end_time": "2025-08-19T18:45:04.016173",
     "exception": false,
     "start_time": "2025-08-19T18:45:02.912885",
     "status": "completed"
    },
    "tags": []
   },
   "outputs": [],
   "source": [
    "from fairness_multiverse.universe import sample_by_year_size\n",
    "\n",
    "siab_train = sample_by_year_size(siab,\n",
    "                               training_year=universe[\"training_year\"],\n",
    "                               training_size=universe[\"training_size\"])"
   ]
  },
  {
   "cell_type": "code",
   "execution_count": 12,
   "id": "919c8ff5",
   "metadata": {
    "execution": {
     "iopub.execute_input": "2025-08-19T18:45:04.038147Z",
     "iopub.status.busy": "2025-08-19T18:45:04.037177Z",
     "iopub.status.idle": "2025-08-19T18:45:04.045994Z",
     "shell.execute_reply": "2025-08-19T18:45:04.044514Z"
    },
    "papermill": {
     "duration": 0.020922,
     "end_time": "2025-08-19T18:45:04.047336",
     "exception": false,
     "start_time": "2025-08-19T18:45:04.026414",
     "status": "completed"
    },
    "tags": []
   },
   "outputs": [
    {
     "data": {
      "text/plain": [
       "(5000, 164)"
      ]
     },
     "execution_count": 12,
     "metadata": {},
     "output_type": "execute_result"
    }
   ],
   "source": [
    "siab_train.shape"
   ]
  },
  {
   "cell_type": "code",
   "execution_count": 13,
   "id": "feb13bf4",
   "metadata": {
    "execution": {
     "iopub.execute_input": "2025-08-19T18:45:04.072188Z",
     "iopub.status.busy": "2025-08-19T18:45:04.070984Z",
     "iopub.status.idle": "2025-08-19T18:45:04.085760Z",
     "shell.execute_reply": "2025-08-19T18:45:04.084637Z"
    },
    "papermill": {
     "duration": 0.02759,
     "end_time": "2025-08-19T18:45:04.087210",
     "exception": false,
     "start_time": "2025-08-19T18:45:04.059620",
     "status": "completed"
    },
    "tags": []
   },
   "outputs": [
    {
     "data": {
      "text/plain": [
       "year\n",
       "2010    1000\n",
       "2011    1000\n",
       "2012    1000\n",
       "2013    1000\n",
       "2014    1000\n",
       "dtype: int64"
      ]
     },
     "metadata": {},
     "output_type": "display_data"
    }
   ],
   "source": [
    "display(siab_train.groupby(\"year\").size())"
   ]
  },
  {
   "cell_type": "code",
   "execution_count": 14,
   "id": "0997782f",
   "metadata": {
    "execution": {
     "iopub.execute_input": "2025-08-19T18:45:04.117802Z",
     "iopub.status.busy": "2025-08-19T18:45:04.116342Z",
     "iopub.status.idle": "2025-08-19T18:45:04.414259Z",
     "shell.execute_reply": "2025-08-19T18:45:04.412875Z"
    },
    "papermill": {
     "duration": 0.313701,
     "end_time": "2025-08-19T18:45:04.417000",
     "exception": false,
     "start_time": "2025-08-19T18:45:04.103299",
     "status": "completed"
    },
    "tags": []
   },
   "outputs": [],
   "source": [
    "#siab_train = siab_s[siab_s.year < 2015]\n",
    "siab_calib = siab[siab.year == 2015]\n",
    "siab_test = siab[siab.year == 2016]"
   ]
  },
  {
   "cell_type": "code",
   "execution_count": 15,
   "id": "2c1e4012",
   "metadata": {
    "execution": {
     "iopub.execute_input": "2025-08-19T18:45:04.449124Z",
     "iopub.status.busy": "2025-08-19T18:45:04.448657Z",
     "iopub.status.idle": "2025-08-19T18:45:04.453491Z",
     "shell.execute_reply": "2025-08-19T18:45:04.452665Z"
    },
    "papermill": {
     "duration": 0.018781,
     "end_time": "2025-08-19T18:45:04.454724",
     "exception": false,
     "start_time": "2025-08-19T18:45:04.435943",
     "status": "completed"
    },
    "tags": []
   },
   "outputs": [],
   "source": [
    "#siab_calib.shape"
   ]
  },
  {
   "cell_type": "code",
   "execution_count": 16,
   "id": "f66b54ca",
   "metadata": {
    "execution": {
     "iopub.execute_input": "2025-08-19T18:45:04.477470Z",
     "iopub.status.busy": "2025-08-19T18:45:04.477112Z",
     "iopub.status.idle": "2025-08-19T18:45:04.481455Z",
     "shell.execute_reply": "2025-08-19T18:45:04.480385Z"
    },
    "papermill": {
     "duration": 0.016933,
     "end_time": "2025-08-19T18:45:04.482825",
     "exception": false,
     "start_time": "2025-08-19T18:45:04.465892",
     "status": "completed"
    },
    "tags": []
   },
   "outputs": [],
   "source": [
    "#siab_test.shape"
   ]
  },
  {
   "cell_type": "code",
   "execution_count": 17,
   "id": "27e4384d",
   "metadata": {
    "execution": {
     "iopub.execute_input": "2025-08-19T18:45:04.505437Z",
     "iopub.status.busy": "2025-08-19T18:45:04.505084Z",
     "iopub.status.idle": "2025-08-19T18:45:04.513284Z",
     "shell.execute_reply": "2025-08-19T18:45:04.512374Z"
    },
    "papermill": {
     "duration": 0.021023,
     "end_time": "2025-08-19T18:45:04.514823",
     "exception": false,
     "start_time": "2025-08-19T18:45:04.493800",
     "status": "completed"
    },
    "tags": []
   },
   "outputs": [],
   "source": [
    "X_train = siab_train.iloc[:,4:164]\n",
    "y_train = siab_train.iloc[:, [3]]"
   ]
  },
  {
   "cell_type": "code",
   "execution_count": 18,
   "id": "08ee8389",
   "metadata": {
    "execution": {
     "iopub.execute_input": "2025-08-19T18:45:04.541368Z",
     "iopub.status.busy": "2025-08-19T18:45:04.540372Z",
     "iopub.status.idle": "2025-08-19T18:45:04.644118Z",
     "shell.execute_reply": "2025-08-19T18:45:04.642768Z"
    },
    "papermill": {
     "duration": 0.116707,
     "end_time": "2025-08-19T18:45:04.645919",
     "exception": false,
     "start_time": "2025-08-19T18:45:04.529212",
     "status": "completed"
    },
    "tags": []
   },
   "outputs": [],
   "source": [
    "X_calib = siab_calib.iloc[:,4:164]\n",
    "y_calib = siab_calib.iloc[:, [3]]"
   ]
  },
  {
   "cell_type": "code",
   "execution_count": 19,
   "id": "b7ff42e0",
   "metadata": {
    "execution": {
     "iopub.execute_input": "2025-08-19T18:45:04.686577Z",
     "iopub.status.busy": "2025-08-19T18:45:04.686117Z",
     "iopub.status.idle": "2025-08-19T18:45:04.741429Z",
     "shell.execute_reply": "2025-08-19T18:45:04.740503Z"
    },
    "papermill": {
     "duration": 0.077796,
     "end_time": "2025-08-19T18:45:04.742685",
     "exception": false,
     "start_time": "2025-08-19T18:45:04.664889",
     "status": "completed"
    },
    "tags": []
   },
   "outputs": [],
   "source": [
    "X_test = siab_test.iloc[:,4:164]\n",
    "y_true = siab_test.iloc[:, [3]]"
   ]
  },
  {
   "cell_type": "code",
   "execution_count": 20,
   "id": "0275101e",
   "metadata": {
    "execution": {
     "iopub.execute_input": "2025-08-19T18:45:04.772678Z",
     "iopub.status.busy": "2025-08-19T18:45:04.771664Z",
     "iopub.status.idle": "2025-08-19T18:45:04.886411Z",
     "shell.execute_reply": "2025-08-19T18:45:04.885493Z"
    },
    "papermill": {
     "duration": 0.132724,
     "end_time": "2025-08-19T18:45:04.889521",
     "exception": false,
     "start_time": "2025-08-19T18:45:04.756797",
     "status": "completed"
    },
    "tags": []
   },
   "outputs": [],
   "source": [
    "# Auxiliary data needed downstream in the pipeline\n",
    "\n",
    "org_train = X_train.copy()\n",
    "org_test = X_test.copy()\n",
    "org_calib = X_calib.copy()"
   ]
  },
  {
   "cell_type": "markdown",
   "id": "b461e618",
   "metadata": {
    "papermill": {
     "duration": 0.010214,
     "end_time": "2025-08-19T18:45:04.910644",
     "exception": false,
     "start_time": "2025-08-19T18:45:04.900430",
     "status": "completed"
    },
    "tags": []
   },
   "source": [
    "# Preprocessing Data"
   ]
  },
  {
   "cell_type": "code",
   "execution_count": 21,
   "id": "78e74c4b",
   "metadata": {
    "execution": {
     "iopub.execute_input": "2025-08-19T18:45:04.932564Z",
     "iopub.status.busy": "2025-08-19T18:45:04.932131Z",
     "iopub.status.idle": "2025-08-19T18:45:04.937364Z",
     "shell.execute_reply": "2025-08-19T18:45:04.936452Z"
    },
    "papermill": {
     "duration": 0.017939,
     "end_time": "2025-08-19T18:45:04.938879",
     "exception": false,
     "start_time": "2025-08-19T18:45:04.920940",
     "status": "completed"
    },
    "tags": []
   },
   "outputs": [],
   "source": [
    "# EXCLUDE PROTECTED FEATURES\n",
    "# --------------------------\n",
    "\n",
    "excluded_features = universe[\"exclude_features\"].split(\"-\")\n",
    "excluded_features_dictionary = {\n",
    "    \"nationality\": [\"maxdeutsch1\", \"maxdeutsch.Missing.\"],\n",
    "    \"sex\": [\"frau1\"],\n",
    "    \"age\": [\"age\"],\n",
    "}"
   ]
  },
  {
   "cell_type": "code",
   "execution_count": 22,
   "id": "f8e63555",
   "metadata": {
    "execution": {
     "iopub.execute_input": "2025-08-19T18:45:04.961063Z",
     "iopub.status.busy": "2025-08-19T18:45:04.960670Z",
     "iopub.status.idle": "2025-08-19T18:45:04.965447Z",
     "shell.execute_reply": "2025-08-19T18:45:04.964646Z"
    },
    "papermill": {
     "duration": 0.017484,
     "end_time": "2025-08-19T18:45:04.966930",
     "exception": false,
     "start_time": "2025-08-19T18:45:04.949446",
     "status": "completed"
    },
    "tags": []
   },
   "outputs": [],
   "source": [
    "excluded_features_columns = [\n",
    "    excluded_features_dictionary[f] for f in excluded_features if len(f) > 0 and f != \"none\"\n",
    "]"
   ]
  },
  {
   "cell_type": "code",
   "execution_count": 23,
   "id": "da781f7c",
   "metadata": {
    "execution": {
     "iopub.execute_input": "2025-08-19T18:45:04.989694Z",
     "iopub.status.busy": "2025-08-19T18:45:04.989331Z",
     "iopub.status.idle": "2025-08-19T18:45:04.993842Z",
     "shell.execute_reply": "2025-08-19T18:45:04.993032Z"
    },
    "papermill": {
     "duration": 0.017037,
     "end_time": "2025-08-19T18:45:04.995292",
     "exception": false,
     "start_time": "2025-08-19T18:45:04.978255",
     "status": "completed"
    },
    "tags": []
   },
   "outputs": [],
   "source": [
    "from fairness_multiverse.universe import flatten_once\n",
    "\n",
    "excluded_features_columns = flatten_once(excluded_features_columns)"
   ]
  },
  {
   "cell_type": "code",
   "execution_count": 24,
   "id": "37fef0f0",
   "metadata": {
    "execution": {
     "iopub.execute_input": "2025-08-19T18:45:05.017099Z",
     "iopub.status.busy": "2025-08-19T18:45:05.016733Z",
     "iopub.status.idle": "2025-08-19T18:45:05.026122Z",
     "shell.execute_reply": "2025-08-19T18:45:05.025225Z"
    },
    "papermill": {
     "duration": 0.02351,
     "end_time": "2025-08-19T18:45:05.029206",
     "exception": false,
     "start_time": "2025-08-19T18:45:05.005696",
     "status": "completed"
    },
    "tags": []
   },
   "outputs": [
    {
     "name": "stdout",
     "output_type": "stream",
     "text": [
      "Dropping features: ['frau1']\n"
     ]
    }
   ],
   "source": [
    "if len(excluded_features_columns) > 0:\n",
    "    print(f\"Dropping features: {excluded_features_columns}\")\n",
    "    X_train.drop(excluded_features_columns, axis=1, inplace=True)"
   ]
  },
  {
   "cell_type": "code",
   "execution_count": 25,
   "id": "d029e3e9",
   "metadata": {
    "execution": {
     "iopub.execute_input": "2025-08-19T18:45:05.057266Z",
     "iopub.status.busy": "2025-08-19T18:45:05.056452Z",
     "iopub.status.idle": "2025-08-19T18:45:05.107650Z",
     "shell.execute_reply": "2025-08-19T18:45:05.106722Z"
    },
    "papermill": {
     "duration": 0.06765,
     "end_time": "2025-08-19T18:45:05.110274",
     "exception": false,
     "start_time": "2025-08-19T18:45:05.042624",
     "status": "completed"
    },
    "tags": []
   },
   "outputs": [
    {
     "name": "stdout",
     "output_type": "stream",
     "text": [
      "Dropping features: ['frau1']\n"
     ]
    }
   ],
   "source": [
    "if len(excluded_features_columns) > 0:\n",
    "    print(f\"Dropping features: {excluded_features_columns}\")\n",
    "    X_test.drop(excluded_features_columns, axis=1, inplace=True)"
   ]
  },
  {
   "cell_type": "code",
   "execution_count": 26,
   "id": "01d571f0",
   "metadata": {
    "execution": {
     "iopub.execute_input": "2025-08-19T18:45:05.147305Z",
     "iopub.status.busy": "2025-08-19T18:45:05.146140Z",
     "iopub.status.idle": "2025-08-19T18:45:05.212496Z",
     "shell.execute_reply": "2025-08-19T18:45:05.211490Z"
    },
    "papermill": {
     "duration": 0.082607,
     "end_time": "2025-08-19T18:45:05.215283",
     "exception": false,
     "start_time": "2025-08-19T18:45:05.132676",
     "status": "completed"
    },
    "tags": []
   },
   "outputs": [
    {
     "name": "stdout",
     "output_type": "stream",
     "text": [
      "Dropping features: ['frau1']\n"
     ]
    }
   ],
   "source": [
    "if len(excluded_features_columns) > 0:\n",
    "    print(f\"Dropping features: {excluded_features_columns}\")\n",
    "    X_calib.drop(excluded_features_columns, axis=1, inplace=True)"
   ]
  },
  {
   "cell_type": "code",
   "execution_count": 27,
   "id": "3037356e",
   "metadata": {
    "execution": {
     "iopub.execute_input": "2025-08-19T18:45:05.256844Z",
     "iopub.status.busy": "2025-08-19T18:45:05.255244Z",
     "iopub.status.idle": "2025-08-19T18:45:05.263921Z",
     "shell.execute_reply": "2025-08-19T18:45:05.262629Z"
    },
    "papermill": {
     "duration": 0.025093,
     "end_time": "2025-08-19T18:45:05.265458",
     "exception": false,
     "start_time": "2025-08-19T18:45:05.240365",
     "status": "completed"
    },
    "tags": []
   },
   "outputs": [],
   "source": [
    "# EXCLUDE CERTAIN SUBGROUPS\n",
    "# -------------------------\n",
    "\n",
    "mode = universe.get(\"exclude_subgroups\", \"keep-all\") # Defaults to \"keep-all\" if the key is missing."
   ]
  },
  {
   "cell_type": "code",
   "execution_count": 28,
   "id": "9d1e63fd",
   "metadata": {
    "execution": {
     "iopub.execute_input": "2025-08-19T18:45:05.292897Z",
     "iopub.status.busy": "2025-08-19T18:45:05.291760Z",
     "iopub.status.idle": "2025-08-19T18:45:05.303921Z",
     "shell.execute_reply": "2025-08-19T18:45:05.302798Z"
    },
    "papermill": {
     "duration": 0.026258,
     "end_time": "2025-08-19T18:45:05.305534",
     "exception": false,
     "start_time": "2025-08-19T18:45:05.279276",
     "status": "completed"
    },
    "tags": []
   },
   "outputs": [],
   "source": [
    "if mode == \"keep-all\":\n",
    "    keep_mask = pd.Series(True, index=org_train.index)\n",
    "\n",
    "elif mode == \"drop-non-german\":\n",
    "    keep_mask = (org_train[\"maxdeutsch1\"] == 1) & (org_train[\"maxdeutsch.Missing.\"] == 0)\n",
    "\n",
    "else:\n",
    "    raise ValueError(f\"Unsupported mode for exclude_subgroups: {mode}\")"
   ]
  },
  {
   "cell_type": "code",
   "execution_count": 29,
   "id": "d3b65474",
   "metadata": {
    "execution": {
     "iopub.execute_input": "2025-08-19T18:45:05.338657Z",
     "iopub.status.busy": "2025-08-19T18:45:05.337343Z",
     "iopub.status.idle": "2025-08-19T18:45:05.348671Z",
     "shell.execute_reply": "2025-08-19T18:45:05.347325Z"
    },
    "papermill": {
     "duration": 0.026851,
     "end_time": "2025-08-19T18:45:05.350391",
     "exception": false,
     "start_time": "2025-08-19T18:45:05.323540",
     "status": "completed"
    },
    "tags": []
   },
   "outputs": [
    {
     "name": "stdout",
     "output_type": "stream",
     "text": [
      "Dropping 657 rows (13.14%) where mode='drop-non-german'\n"
     ]
    }
   ],
   "source": [
    "n_drop = (~keep_mask).sum() # Calculates how many rows are set to be dropped\n",
    "if n_drop > 0:\n",
    "    pct = n_drop / len(keep_mask) * 100\n",
    "    print(f\"Dropping {n_drop} rows ({pct:.2f}%) where mode='{mode}'\")"
   ]
  },
  {
   "cell_type": "code",
   "execution_count": 30,
   "id": "f44389b3",
   "metadata": {
    "execution": {
     "iopub.execute_input": "2025-08-19T18:45:05.378100Z",
     "iopub.status.busy": "2025-08-19T18:45:05.376793Z",
     "iopub.status.idle": "2025-08-19T18:45:05.405104Z",
     "shell.execute_reply": "2025-08-19T18:45:05.404165Z"
    },
    "papermill": {
     "duration": 0.042995,
     "end_time": "2025-08-19T18:45:05.407098",
     "exception": false,
     "start_time": "2025-08-19T18:45:05.364103",
     "status": "completed"
    },
    "tags": []
   },
   "outputs": [],
   "source": [
    "X_train = X_train[keep_mask]"
   ]
  },
  {
   "cell_type": "code",
   "execution_count": 31,
   "id": "ceca8c2a",
   "metadata": {
    "execution": {
     "iopub.execute_input": "2025-08-19T18:45:05.445392Z",
     "iopub.status.busy": "2025-08-19T18:45:05.444204Z",
     "iopub.status.idle": "2025-08-19T18:45:05.453311Z",
     "shell.execute_reply": "2025-08-19T18:45:05.451964Z"
    },
    "papermill": {
     "duration": 0.024728,
     "end_time": "2025-08-19T18:45:05.454899",
     "exception": false,
     "start_time": "2025-08-19T18:45:05.430171",
     "status": "completed"
    },
    "tags": []
   },
   "outputs": [],
   "source": [
    "y_train = y_train[keep_mask]"
   ]
  },
  {
   "cell_type": "markdown",
   "id": "04d31e2f",
   "metadata": {
    "papermill": {
     "duration": 0.011321,
     "end_time": "2025-08-19T18:45:05.480501",
     "exception": false,
     "start_time": "2025-08-19T18:45:05.469180",
     "status": "completed"
    },
    "tags": []
   },
   "source": [
    "# Model Training"
   ]
  },
  {
   "cell_type": "code",
   "execution_count": 32,
   "id": "db991733",
   "metadata": {
    "execution": {
     "iopub.execute_input": "2025-08-19T18:45:05.505474Z",
     "iopub.status.busy": "2025-08-19T18:45:05.503996Z",
     "iopub.status.idle": "2025-08-19T18:45:05.613633Z",
     "shell.execute_reply": "2025-08-19T18:45:05.612737Z"
    },
    "papermill": {
     "duration": 0.125342,
     "end_time": "2025-08-19T18:45:05.616718",
     "exception": false,
     "start_time": "2025-08-19T18:45:05.491376",
     "status": "completed"
    },
    "tags": []
   },
   "outputs": [],
   "source": [
    "from sklearn.linear_model import LogisticRegression\n",
    "from sklearn.ensemble import GradientBoostingClassifier, RandomForestClassifier\n",
    "\n",
    "if (universe[\"model\"] == \"logreg\"):\n",
    "    model = LogisticRegression() #penalty=\"none\", solver=\"newton-cg\", max_iter=1)\n",
    "elif (universe[\"model\"] == \"penalized_logreg\"):\n",
    "    model = LogisticRegression(penalty=\"l2\", C=0.1) #, solver=\"newton-cg\", max_iter=1)\n",
    "elif (universe[\"model\"] == \"rf\"):\n",
    "    model = RandomForestClassifier() # n_estimators=100, n_jobs=-1\n",
    "elif (universe[\"model\"] == \"gbm\"):\n",
    "    model = GradientBoostingClassifier()\n",
    "elif (universe[\"model\"] == \"elasticnet\"):\n",
    "    model = LogisticRegression(penalty = 'elasticnet', solver = 'saga', l1_ratio = 0.5) # max_iter=5000\n",
    "else:\n",
    "    raise \"Unsupported universe.model\""
   ]
  },
  {
   "cell_type": "code",
   "execution_count": 33,
   "id": "a4b5cd25",
   "metadata": {
    "execution": {
     "iopub.execute_input": "2025-08-19T18:45:05.659571Z",
     "iopub.status.busy": "2025-08-19T18:45:05.658395Z",
     "iopub.status.idle": "2025-08-19T18:45:05.668259Z",
     "shell.execute_reply": "2025-08-19T18:45:05.666999Z"
    },
    "papermill": {
     "duration": 0.026571,
     "end_time": "2025-08-19T18:45:05.669826",
     "exception": false,
     "start_time": "2025-08-19T18:45:05.643255",
     "status": "completed"
    },
    "tags": []
   },
   "outputs": [],
   "source": [
    "from sklearn.pipeline import Pipeline\n",
    "from sklearn.preprocessing import StandardScaler\n",
    "\n",
    "model = Pipeline([\n",
    "    #(\"continuous_processor\", continuous_processor),\n",
    "    #(\"categorical_preprocessor\", categorical_preprocessor),\n",
    "    (\"scale\", StandardScaler() if universe[\"scale\"] == \"scale\" else None), \n",
    "    (\"model\", model),\n",
    "])"
   ]
  },
  {
   "cell_type": "code",
   "execution_count": 34,
   "id": "283a904d",
   "metadata": {
    "execution": {
     "iopub.execute_input": "2025-08-19T18:45:05.698427Z",
     "iopub.status.busy": "2025-08-19T18:45:05.697282Z",
     "iopub.status.idle": "2025-08-19T18:45:05.841837Z",
     "shell.execute_reply": "2025-08-19T18:45:05.840989Z"
    },
    "papermill": {
     "duration": 0.161905,
     "end_time": "2025-08-19T18:45:05.846248",
     "exception": false,
     "start_time": "2025-08-19T18:45:05.684343",
     "status": "completed"
    },
    "tags": []
   },
   "outputs": [
    {
     "name": "stderr",
     "output_type": "stream",
     "text": [
      "/dss/dsshome1/0C/ra93lal2/.local/share/virtualenvs/CMA_Fairness_v2-3j10GkSs/lib/python3.10/site-packages/sklearn/linear_model/_logistic.py:444: ConvergenceWarning: lbfgs failed to converge (status=1):\n",
      "STOP: TOTAL NO. of ITERATIONS REACHED LIMIT.\n",
      "\n",
      "Increase the number of iterations (max_iter) or scale the data as shown in:\n",
      "    https://scikit-learn.org/stable/modules/preprocessing.html\n",
      "Please also refer to the documentation for alternative solver options:\n",
      "    https://scikit-learn.org/stable/modules/linear_model.html#logistic-regression\n",
      "  n_iter_i = _check_optimize_result(\n"
     ]
    },
    {
     "data": {
      "text/html": [
       "<style>#sk-container-id-1 {color: black;background-color: white;}#sk-container-id-1 pre{padding: 0;}#sk-container-id-1 div.sk-toggleable {background-color: white;}#sk-container-id-1 label.sk-toggleable__label {cursor: pointer;display: block;width: 100%;margin-bottom: 0;padding: 0.3em;box-sizing: border-box;text-align: center;}#sk-container-id-1 label.sk-toggleable__label-arrow:before {content: \"▸\";float: left;margin-right: 0.25em;color: #696969;}#sk-container-id-1 label.sk-toggleable__label-arrow:hover:before {color: black;}#sk-container-id-1 div.sk-estimator:hover label.sk-toggleable__label-arrow:before {color: black;}#sk-container-id-1 div.sk-toggleable__content {max-height: 0;max-width: 0;overflow: hidden;text-align: left;background-color: #f0f8ff;}#sk-container-id-1 div.sk-toggleable__content pre {margin: 0.2em;color: black;border-radius: 0.25em;background-color: #f0f8ff;}#sk-container-id-1 input.sk-toggleable__control:checked~div.sk-toggleable__content {max-height: 200px;max-width: 100%;overflow: auto;}#sk-container-id-1 input.sk-toggleable__control:checked~label.sk-toggleable__label-arrow:before {content: \"▾\";}#sk-container-id-1 div.sk-estimator input.sk-toggleable__control:checked~label.sk-toggleable__label {background-color: #d4ebff;}#sk-container-id-1 div.sk-label input.sk-toggleable__control:checked~label.sk-toggleable__label {background-color: #d4ebff;}#sk-container-id-1 input.sk-hidden--visually {border: 0;clip: rect(1px 1px 1px 1px);clip: rect(1px, 1px, 1px, 1px);height: 1px;margin: -1px;overflow: hidden;padding: 0;position: absolute;width: 1px;}#sk-container-id-1 div.sk-estimator {font-family: monospace;background-color: #f0f8ff;border: 1px dotted black;border-radius: 0.25em;box-sizing: border-box;margin-bottom: 0.5em;}#sk-container-id-1 div.sk-estimator:hover {background-color: #d4ebff;}#sk-container-id-1 div.sk-parallel-item::after {content: \"\";width: 100%;border-bottom: 1px solid gray;flex-grow: 1;}#sk-container-id-1 div.sk-label:hover label.sk-toggleable__label {background-color: #d4ebff;}#sk-container-id-1 div.sk-serial::before {content: \"\";position: absolute;border-left: 1px solid gray;box-sizing: border-box;top: 0;bottom: 0;left: 50%;z-index: 0;}#sk-container-id-1 div.sk-serial {display: flex;flex-direction: column;align-items: center;background-color: white;padding-right: 0.2em;padding-left: 0.2em;position: relative;}#sk-container-id-1 div.sk-item {position: relative;z-index: 1;}#sk-container-id-1 div.sk-parallel {display: flex;align-items: stretch;justify-content: center;background-color: white;position: relative;}#sk-container-id-1 div.sk-item::before, #sk-container-id-1 div.sk-parallel-item::before {content: \"\";position: absolute;border-left: 1px solid gray;box-sizing: border-box;top: 0;bottom: 0;left: 50%;z-index: -1;}#sk-container-id-1 div.sk-parallel-item {display: flex;flex-direction: column;z-index: 1;position: relative;background-color: white;}#sk-container-id-1 div.sk-parallel-item:first-child::after {align-self: flex-end;width: 50%;}#sk-container-id-1 div.sk-parallel-item:last-child::after {align-self: flex-start;width: 50%;}#sk-container-id-1 div.sk-parallel-item:only-child::after {width: 0;}#sk-container-id-1 div.sk-dashed-wrapped {border: 1px dashed gray;margin: 0 0.4em 0.5em 0.4em;box-sizing: border-box;padding-bottom: 0.4em;background-color: white;}#sk-container-id-1 div.sk-label label {font-family: monospace;font-weight: bold;display: inline-block;line-height: 1.2em;}#sk-container-id-1 div.sk-label-container {text-align: center;}#sk-container-id-1 div.sk-container {/* jupyter's `normalize.less` sets `[hidden] { display: none; }` but bootstrap.min.css set `[hidden] { display: none !important; }` so we also need the `!important` here to be able to override the default hidden behavior on the sphinx rendered scikit-learn.org. See: https://github.com/scikit-learn/scikit-learn/issues/21755 */display: inline-block !important;position: relative;}#sk-container-id-1 div.sk-text-repr-fallback {display: none;}</style><div id=\"sk-container-id-1\" class=\"sk-top-container\"><div class=\"sk-text-repr-fallback\"><pre>Pipeline(steps=[(&#x27;scale&#x27;, None), (&#x27;model&#x27;, LogisticRegression())])</pre><b>In a Jupyter environment, please rerun this cell to show the HTML representation or trust the notebook. <br />On GitHub, the HTML representation is unable to render, please try loading this page with nbviewer.org.</b></div><div class=\"sk-container\" hidden><div class=\"sk-item sk-dashed-wrapped\"><div class=\"sk-label-container\"><div class=\"sk-label sk-toggleable\"><input class=\"sk-toggleable__control sk-hidden--visually\" id=\"sk-estimator-id-1\" type=\"checkbox\" ><label for=\"sk-estimator-id-1\" class=\"sk-toggleable__label sk-toggleable__label-arrow\">Pipeline</label><div class=\"sk-toggleable__content\"><pre>Pipeline(steps=[(&#x27;scale&#x27;, None), (&#x27;model&#x27;, LogisticRegression())])</pre></div></div></div><div class=\"sk-serial\"><div class=\"sk-item\"><div class=\"sk-estimator sk-toggleable\"><input class=\"sk-toggleable__control sk-hidden--visually\" id=\"sk-estimator-id-2\" type=\"checkbox\" ><label for=\"sk-estimator-id-2\" class=\"sk-toggleable__label sk-toggleable__label-arrow\">None</label><div class=\"sk-toggleable__content\"><pre>None</pre></div></div></div><div class=\"sk-item\"><div class=\"sk-estimator sk-toggleable\"><input class=\"sk-toggleable__control sk-hidden--visually\" id=\"sk-estimator-id-3\" type=\"checkbox\" ><label for=\"sk-estimator-id-3\" class=\"sk-toggleable__label sk-toggleable__label-arrow\">LogisticRegression</label><div class=\"sk-toggleable__content\"><pre>LogisticRegression()</pre></div></div></div></div></div></div></div>"
      ],
      "text/plain": [
       "Pipeline(steps=[('scale', None), ('model', LogisticRegression())])"
      ]
     },
     "execution_count": 34,
     "metadata": {},
     "output_type": "execute_result"
    }
   ],
   "source": [
    "model.fit(X_train, y_train.values.ravel())"
   ]
  },
  {
   "cell_type": "code",
   "execution_count": 35,
   "id": "6e15e313",
   "metadata": {
    "execution": {
     "iopub.execute_input": "2025-08-19T18:45:05.885891Z",
     "iopub.status.busy": "2025-08-19T18:45:05.884679Z",
     "iopub.status.idle": "2025-08-19T18:45:05.997216Z",
     "shell.execute_reply": "2025-08-19T18:45:05.996343Z"
    },
    "papermill": {
     "duration": 0.130279,
     "end_time": "2025-08-19T18:45:06.000118",
     "exception": false,
     "start_time": "2025-08-19T18:45:05.869839",
     "status": "completed"
    },
    "tags": []
   },
   "outputs": [
    {
     "data": {
      "text/plain": [
       "0.8597146360494928"
      ]
     },
     "execution_count": 35,
     "metadata": {},
     "output_type": "execute_result"
    }
   ],
   "source": [
    "from fairness_multiverse.universe import predict_w_threshold\n",
    "\n",
    "probs_test = model.predict_proba(X_test)\n",
    "\n",
    "'''\n",
    "Below code returns a boolean array (or binary 0/1 array depending on how it’s used) where each element \n",
    "is True if the probability of class 1 is greater than or equal to the threshold, and False otherwise.\n",
    "'''\n",
    "y_pred_default = predict_w_threshold(probs_test, 0.5)\n",
    "\n",
    "from sklearn.metrics import accuracy_score\n",
    "\n",
    "# Naive prediction\n",
    "accuracy_score(y_true = y_true, y_pred = y_pred_default)"
   ]
  },
  {
   "cell_type": "code",
   "execution_count": 36,
   "id": "6f14067c",
   "metadata": {
    "execution": {
     "iopub.execute_input": "2025-08-19T18:45:06.038609Z",
     "iopub.status.busy": "2025-08-19T18:45:06.037496Z",
     "iopub.status.idle": "2025-08-19T18:45:06.131029Z",
     "shell.execute_reply": "2025-08-19T18:45:06.130140Z"
    },
    "papermill": {
     "duration": 0.110364,
     "end_time": "2025-08-19T18:45:06.133769",
     "exception": false,
     "start_time": "2025-08-19T18:45:06.023405",
     "status": "completed"
    },
    "tags": []
   },
   "outputs": [
    {
     "data": {
      "text/plain": [
       "array([0, 0, 0, ..., 0, 0, 0])"
      ]
     },
     "execution_count": 36,
     "metadata": {},
     "output_type": "execute_result"
    }
   ],
   "source": [
    "model.predict(X_test)"
   ]
  },
  {
   "cell_type": "markdown",
   "id": "3759920c",
   "metadata": {
    "papermill": {
     "duration": 0.013061,
     "end_time": "2025-08-19T18:45:06.172185",
     "exception": false,
     "start_time": "2025-08-19T18:45:06.159124",
     "status": "completed"
    },
    "tags": []
   },
   "source": [
    "# Conformal Prediction"
   ]
  },
  {
   "cell_type": "code",
   "execution_count": 37,
   "id": "14b27f59",
   "metadata": {
    "execution": {
     "iopub.execute_input": "2025-08-19T18:45:06.198320Z",
     "iopub.status.busy": "2025-08-19T18:45:06.197081Z",
     "iopub.status.idle": "2025-08-19T18:45:06.204562Z",
     "shell.execute_reply": "2025-08-19T18:45:06.203220Z"
    },
    "papermill": {
     "duration": 0.022549,
     "end_time": "2025-08-19T18:45:06.206281",
     "exception": false,
     "start_time": "2025-08-19T18:45:06.183732",
     "status": "completed"
    },
    "tags": []
   },
   "outputs": [],
   "source": [
    "# Miscoverage level for conformal prediction (10% allowed error rate => 90% target coverage)\n",
    "alpha = 0.1"
   ]
  },
  {
   "cell_type": "code",
   "execution_count": 38,
   "id": "59102472",
   "metadata": {
    "execution": {
     "iopub.execute_input": "2025-08-19T18:45:06.236313Z",
     "iopub.status.busy": "2025-08-19T18:45:06.234695Z",
     "iopub.status.idle": "2025-08-19T18:45:06.326411Z",
     "shell.execute_reply": "2025-08-19T18:45:06.325470Z"
    },
    "papermill": {
     "duration": 0.108204,
     "end_time": "2025-08-19T18:45:06.329543",
     "exception": false,
     "start_time": "2025-08-19T18:45:06.221339",
     "status": "completed"
    },
    "tags": []
   },
   "outputs": [],
   "source": [
    "probs_calib = model.predict_proba(X_calib)"
   ]
  },
  {
   "cell_type": "code",
   "execution_count": 39,
   "id": "a792d4dd",
   "metadata": {
    "execution": {
     "iopub.execute_input": "2025-08-19T18:45:06.371695Z",
     "iopub.status.busy": "2025-08-19T18:45:06.370214Z",
     "iopub.status.idle": "2025-08-19T18:45:06.378479Z",
     "shell.execute_reply": "2025-08-19T18:45:06.377240Z"
    },
    "papermill": {
     "duration": 0.025067,
     "end_time": "2025-08-19T18:45:06.380176",
     "exception": false,
     "start_time": "2025-08-19T18:45:06.355109",
     "status": "completed"
    },
    "tags": []
   },
   "outputs": [],
   "source": [
    "y_calib = y_calib.values.ravel().astype(int)"
   ]
  },
  {
   "cell_type": "code",
   "execution_count": 40,
   "id": "650fd033",
   "metadata": {
    "execution": {
     "iopub.execute_input": "2025-08-19T18:45:06.409794Z",
     "iopub.status.busy": "2025-08-19T18:45:06.408279Z",
     "iopub.status.idle": "2025-08-19T18:45:06.420242Z",
     "shell.execute_reply": "2025-08-19T18:45:06.418807Z"
    },
    "papermill": {
     "duration": 0.027464,
     "end_time": "2025-08-19T18:45:06.422213",
     "exception": false,
     "start_time": "2025-08-19T18:45:06.394749",
     "status": "completed"
    },
    "tags": []
   },
   "outputs": [],
   "source": [
    "from fairness_multiverse.conformal import compute_nc_scores\n",
    "\n",
    "# Compute nonconformity scores on calibration set (1 - probability of true class)\n",
    "nc_scores = compute_nc_scores(probs_calib, y_calib)"
   ]
  },
  {
   "cell_type": "code",
   "execution_count": 41,
   "id": "28ada44c",
   "metadata": {
    "execution": {
     "iopub.execute_input": "2025-08-19T18:45:06.453348Z",
     "iopub.status.busy": "2025-08-19T18:45:06.451605Z",
     "iopub.status.idle": "2025-08-19T18:45:06.464440Z",
     "shell.execute_reply": "2025-08-19T18:45:06.460918Z"
    },
    "papermill": {
     "duration": 0.028804,
     "end_time": "2025-08-19T18:45:06.466453",
     "exception": false,
     "start_time": "2025-08-19T18:45:06.437649",
     "status": "completed"
    },
    "tags": []
   },
   "outputs": [],
   "source": [
    "from fairness_multiverse.conformal import find_threshold\n",
    "\n",
    "# Find conformal threshold q_hat for the given alpha (split conformal method)\n",
    "q_hat = find_threshold(nc_scores, alpha)"
   ]
  },
  {
   "cell_type": "code",
   "execution_count": 42,
   "id": "df56469e",
   "metadata": {
    "execution": {
     "iopub.execute_input": "2025-08-19T18:45:06.503300Z",
     "iopub.status.busy": "2025-08-19T18:45:06.501707Z",
     "iopub.status.idle": "2025-08-19T18:45:06.513065Z",
     "shell.execute_reply": "2025-08-19T18:45:06.511701Z"
    },
    "papermill": {
     "duration": 0.031476,
     "end_time": "2025-08-19T18:45:06.516502",
     "exception": false,
     "start_time": "2025-08-19T18:45:06.485026",
     "status": "completed"
    },
    "tags": []
   },
   "outputs": [
    {
     "data": {
      "text/plain": [
       "0.6714663855847706"
      ]
     },
     "execution_count": 42,
     "metadata": {},
     "output_type": "execute_result"
    }
   ],
   "source": [
    "q_hat"
   ]
  },
  {
   "cell_type": "code",
   "execution_count": 43,
   "id": "aa1f5faa",
   "metadata": {
    "execution": {
     "iopub.execute_input": "2025-08-19T18:45:06.546091Z",
     "iopub.status.busy": "2025-08-19T18:45:06.544918Z",
     "iopub.status.idle": "2025-08-19T18:45:07.087852Z",
     "shell.execute_reply": "2025-08-19T18:45:07.086921Z"
    },
    "papermill": {
     "duration": 0.560079,
     "end_time": "2025-08-19T18:45:07.090976",
     "exception": false,
     "start_time": "2025-08-19T18:45:06.530897",
     "status": "completed"
    },
    "tags": []
   },
   "outputs": [],
   "source": [
    "from fairness_multiverse.conformal import predict_conformal_sets\n",
    "\n",
    "# Generate prediction sets for each test example\n",
    "pred_sets = predict_conformal_sets(model, X_test, q_hat)"
   ]
  },
  {
   "cell_type": "code",
   "execution_count": 44,
   "id": "97f67a6b",
   "metadata": {
    "execution": {
     "iopub.execute_input": "2025-08-19T18:45:07.133582Z",
     "iopub.status.busy": "2025-08-19T18:45:07.132064Z",
     "iopub.status.idle": "2025-08-19T18:45:07.140652Z",
     "shell.execute_reply": "2025-08-19T18:45:07.139301Z"
    },
    "papermill": {
     "duration": 0.025505,
     "end_time": "2025-08-19T18:45:07.142363",
     "exception": false,
     "start_time": "2025-08-19T18:45:07.116858",
     "status": "completed"
    },
    "tags": []
   },
   "outputs": [],
   "source": [
    "y_true = y_true.squeeze()"
   ]
  },
  {
   "cell_type": "code",
   "execution_count": 45,
   "id": "e700e9a7",
   "metadata": {
    "execution": {
     "iopub.execute_input": "2025-08-19T18:45:07.185329Z",
     "iopub.status.busy": "2025-08-19T18:45:07.184150Z",
     "iopub.status.idle": "2025-08-19T18:45:07.691569Z",
     "shell.execute_reply": "2025-08-19T18:45:07.690640Z"
    },
    "papermill": {
     "duration": 0.536012,
     "end_time": "2025-08-19T18:45:07.694219",
     "exception": false,
     "start_time": "2025-08-19T18:45:07.158207",
     "status": "completed"
    },
    "tags": []
   },
   "outputs": [],
   "source": [
    "from fairness_multiverse.conformal import evaluate_sets\n",
    "\n",
    "# Evaluate coverage and average set size on test data\n",
    "metrics = evaluate_sets(pred_sets, y_true)"
   ]
  },
  {
   "cell_type": "markdown",
   "id": "efbacec0",
   "metadata": {
    "papermill": {
     "duration": 0.024338,
     "end_time": "2025-08-19T18:45:07.745648",
     "exception": false,
     "start_time": "2025-08-19T18:45:07.721310",
     "status": "completed"
    },
    "tags": []
   },
   "source": [
    "# CP Metrics"
   ]
  },
  {
   "cell_type": "code",
   "execution_count": 46,
   "id": "9de55fb1",
   "metadata": {
    "execution": {
     "iopub.execute_input": "2025-08-19T18:45:07.772214Z",
     "iopub.status.busy": "2025-08-19T18:45:07.771803Z",
     "iopub.status.idle": "2025-08-19T18:45:07.778010Z",
     "shell.execute_reply": "2025-08-19T18:45:07.777228Z"
    },
    "papermill": {
     "duration": 0.026438,
     "end_time": "2025-08-19T18:45:07.785263",
     "exception": false,
     "start_time": "2025-08-19T18:45:07.758825",
     "status": "completed"
    },
    "tags": []
   },
   "outputs": [
    {
     "data": {
      "text/plain": [
       "{'coverage': 0.9131312005350574, 'avg_size': 1.2168543083268308}"
      ]
     },
     "execution_count": 46,
     "metadata": {},
     "output_type": "execute_result"
    }
   ],
   "source": [
    "metrics"
   ]
  },
  {
   "cell_type": "code",
   "execution_count": 47,
   "id": "64c340a1",
   "metadata": {
    "execution": {
     "iopub.execute_input": "2025-08-19T18:45:07.821332Z",
     "iopub.status.busy": "2025-08-19T18:45:07.820441Z",
     "iopub.status.idle": "2025-08-19T18:45:07.830488Z",
     "shell.execute_reply": "2025-08-19T18:45:07.829180Z"
    },
    "papermill": {
     "duration": 0.025918,
     "end_time": "2025-08-19T18:45:07.832368",
     "exception": false,
     "start_time": "2025-08-19T18:45:07.806450",
     "status": "completed"
    },
    "tags": []
   },
   "outputs": [],
   "source": [
    "example_universe = universe.copy()\n",
    "universe_training_year = example_universe.get(\"training_year\")\n",
    "universe_training_size = example_universe.get(\"training_size\")\n",
    "universe_scale = example_universe.get(\"scale\")\n",
    "universe_model = example_universe.get(\"model\")\n",
    "universe_exclude_features = example_universe.get(\"exclude_features\")\n",
    "universe_exclude_subgroups = example_universe.get(\"exclude_subgroups\")"
   ]
  },
  {
   "cell_type": "code",
   "execution_count": 48,
   "id": "dbb53cb4",
   "metadata": {
    "execution": {
     "iopub.execute_input": "2025-08-19T18:45:07.863662Z",
     "iopub.status.busy": "2025-08-19T18:45:07.862351Z",
     "iopub.status.idle": "2025-08-19T18:45:07.872056Z",
     "shell.execute_reply": "2025-08-19T18:45:07.870809Z"
    },
    "papermill": {
     "duration": 0.025397,
     "end_time": "2025-08-19T18:45:07.873661",
     "exception": false,
     "start_time": "2025-08-19T18:45:07.848264",
     "status": "completed"
    },
    "tags": []
   },
   "outputs": [],
   "source": [
    "cp_metrics_dict = {\n",
    "    \"universe_id\": [universe_id],\n",
    "    \"universe_training_year\": [universe_training_year],\n",
    "    \"universe_training_size\": [universe_training_size],\n",
    "    \"universe_scale\": [universe_scale],\n",
    "    \"universe_model\": [universe_model],\n",
    "    \"universe_exclude_features\": [universe_exclude_features],\n",
    "    \"universe_exclude_subgroups\": [universe_exclude_subgroups],\n",
    "    \"q_hat\": [q_hat],\n",
    "    \"coverage\": [metrics[\"coverage\"]],\n",
    "    \"avg_size\": [metrics[\"avg_size\"]],\n",
    "}"
   ]
  },
  {
   "cell_type": "code",
   "execution_count": 49,
   "id": "0d70d4b2",
   "metadata": {
    "execution": {
     "iopub.execute_input": "2025-08-19T18:45:07.904551Z",
     "iopub.status.busy": "2025-08-19T18:45:07.902983Z",
     "iopub.status.idle": "2025-08-19T18:45:07.912544Z",
     "shell.execute_reply": "2025-08-19T18:45:07.911242Z"
    },
    "papermill": {
     "duration": 0.025209,
     "end_time": "2025-08-19T18:45:07.914010",
     "exception": false,
     "start_time": "2025-08-19T18:45:07.888801",
     "status": "completed"
    },
    "tags": []
   },
   "outputs": [],
   "source": [
    "cp_metrics_df = pd.DataFrame(cp_metrics_dict)"
   ]
  },
  {
   "cell_type": "code",
   "execution_count": 50,
   "id": "b494403c",
   "metadata": {
    "execution": {
     "iopub.execute_input": "2025-08-19T18:45:07.944106Z",
     "iopub.status.busy": "2025-08-19T18:45:07.943421Z",
     "iopub.status.idle": "2025-08-19T18:45:07.965587Z",
     "shell.execute_reply": "2025-08-19T18:45:07.964643Z"
    },
    "papermill": {
     "duration": 0.038135,
     "end_time": "2025-08-19T18:45:07.967275",
     "exception": false,
     "start_time": "2025-08-19T18:45:07.929140",
     "status": "completed"
    },
    "tags": []
   },
   "outputs": [
    {
     "data": {
      "text/html": [
       "<div>\n",
       "<style scoped>\n",
       "    .dataframe tbody tr th:only-of-type {\n",
       "        vertical-align: middle;\n",
       "    }\n",
       "\n",
       "    .dataframe tbody tr th {\n",
       "        vertical-align: top;\n",
       "    }\n",
       "\n",
       "    .dataframe thead th {\n",
       "        text-align: right;\n",
       "    }\n",
       "</style>\n",
       "<table border=\"1\" class=\"dataframe\">\n",
       "  <thead>\n",
       "    <tr style=\"text-align: right;\">\n",
       "      <th></th>\n",
       "      <th>universe_id</th>\n",
       "      <th>universe_training_year</th>\n",
       "      <th>universe_training_size</th>\n",
       "      <th>universe_scale</th>\n",
       "      <th>universe_model</th>\n",
       "      <th>universe_exclude_features</th>\n",
       "      <th>universe_exclude_subgroups</th>\n",
       "      <th>q_hat</th>\n",
       "      <th>coverage</th>\n",
       "      <th>avg_size</th>\n",
       "    </tr>\n",
       "  </thead>\n",
       "  <tbody>\n",
       "    <tr>\n",
       "      <th>0</th>\n",
       "      <td>ae345e409b07a31bf75d50daaac6133b</td>\n",
       "      <td>2010_14</td>\n",
       "      <td>5k</td>\n",
       "      <td>do-not-scale</td>\n",
       "      <td>logreg</td>\n",
       "      <td>sex</td>\n",
       "      <td>drop-non-german</td>\n",
       "      <td>0.671466</td>\n",
       "      <td>0.913131</td>\n",
       "      <td>1.216854</td>\n",
       "    </tr>\n",
       "  </tbody>\n",
       "</table>\n",
       "</div>"
      ],
      "text/plain": [
       "                        universe_id universe_training_year  \\\n",
       "0  ae345e409b07a31bf75d50daaac6133b                2010_14   \n",
       "\n",
       "  universe_training_size universe_scale universe_model  \\\n",
       "0                     5k   do-not-scale         logreg   \n",
       "\n",
       "  universe_exclude_features universe_exclude_subgroups     q_hat  coverage  \\\n",
       "0                       sex            drop-non-german  0.671466  0.913131   \n",
       "\n",
       "   avg_size  \n",
       "0  1.216854  "
      ]
     },
     "execution_count": 50,
     "metadata": {},
     "output_type": "execute_result"
    }
   ],
   "source": [
    "cp_metrics_df"
   ]
  },
  {
   "cell_type": "markdown",
   "id": "ed608b0b",
   "metadata": {
    "papermill": {
     "duration": 0.012754,
     "end_time": "2025-08-19T18:45:07.999114",
     "exception": false,
     "start_time": "2025-08-19T18:45:07.986360",
     "status": "completed"
    },
    "tags": []
   },
   "source": [
    "Conditional coverage & looking at subgroups"
   ]
  },
  {
   "cell_type": "code",
   "execution_count": 51,
   "id": "8968c366",
   "metadata": {
    "execution": {
     "iopub.execute_input": "2025-08-19T18:45:08.027296Z",
     "iopub.status.busy": "2025-08-19T18:45:08.026072Z",
     "iopub.status.idle": "2025-08-19T18:45:08.285254Z",
     "shell.execute_reply": "2025-08-19T18:45:08.284312Z"
    },
    "papermill": {
     "duration": 0.276644,
     "end_time": "2025-08-19T18:45:08.288297",
     "exception": false,
     "start_time": "2025-08-19T18:45:08.011653",
     "status": "completed"
    },
    "tags": []
   },
   "outputs": [],
   "source": [
    "from fairness_multiverse.conformal import build_cp_groups\n",
    "\n",
    "cp_groups_df = build_cp_groups(pred_sets, y_true, X_test.index, org_test)"
   ]
  },
  {
   "cell_type": "code",
   "execution_count": 52,
   "id": "292ddabf",
   "metadata": {
    "execution": {
     "iopub.execute_input": "2025-08-19T18:45:08.343648Z",
     "iopub.status.busy": "2025-08-19T18:45:08.343178Z",
     "iopub.status.idle": "2025-08-19T18:45:09.208079Z",
     "shell.execute_reply": "2025-08-19T18:45:09.206042Z"
    },
    "papermill": {
     "duration": 0.89177,
     "end_time": "2025-08-19T18:45:09.209827",
     "exception": false,
     "start_time": "2025-08-19T18:45:08.318057",
     "status": "completed"
    },
    "tags": []
   },
   "outputs": [],
   "source": [
    "# Define covered = 1 if true_label is in the predicted set\n",
    "cp_groups_df['covered'] = cp_groups_df.apply(\n",
    "    lambda r: int(r['true_label'] in r['pred_set']),\n",
    "    axis=1\n",
    ")"
   ]
  },
  {
   "cell_type": "code",
   "execution_count": 53,
   "id": "3a261692",
   "metadata": {
    "execution": {
     "iopub.execute_input": "2025-08-19T18:45:09.240855Z",
     "iopub.status.busy": "2025-08-19T18:45:09.239633Z",
     "iopub.status.idle": "2025-08-19T18:45:09.262388Z",
     "shell.execute_reply": "2025-08-19T18:45:09.261433Z"
    },
    "papermill": {
     "duration": 0.039027,
     "end_time": "2025-08-19T18:45:09.264259",
     "exception": false,
     "start_time": "2025-08-19T18:45:09.225232",
     "status": "completed"
    },
    "tags": []
   },
   "outputs": [],
   "source": [
    "subgroups = ['frau1','nongerman','nongerman_male','nongerman_female']\n",
    "\n",
    "# Conditional coverage for subgroup==1\n",
    "cond_coverage = {\n",
    "    g: cp_groups_df.loc[cp_groups_df[g]==1, 'covered'].mean()\n",
    "    for g in subgroups\n",
    "}"
   ]
  },
  {
   "cell_type": "code",
   "execution_count": 54,
   "id": "894fd600",
   "metadata": {
    "execution": {
     "iopub.execute_input": "2025-08-19T18:45:09.300094Z",
     "iopub.status.busy": "2025-08-19T18:45:09.298360Z",
     "iopub.status.idle": "2025-08-19T18:45:09.316018Z",
     "shell.execute_reply": "2025-08-19T18:45:09.314928Z"
    },
    "papermill": {
     "duration": 0.033584,
     "end_time": "2025-08-19T18:45:09.317576",
     "exception": false,
     "start_time": "2025-08-19T18:45:09.283992",
     "status": "completed"
    },
    "tags": []
   },
   "outputs": [
    {
     "data": {
      "text/plain": [
       "{'frau1': 0.913411510985308,\n",
       " 'nongerman': 0.938078931117723,\n",
       " 'nongerman_male': 0.9479419976582906,\n",
       " 'nongerman_female': 0.9217585692995529}"
      ]
     },
     "execution_count": 54,
     "metadata": {},
     "output_type": "execute_result"
    }
   ],
   "source": [
    "cond_coverage"
   ]
  },
  {
   "cell_type": "code",
   "execution_count": 55,
   "id": "942895c7",
   "metadata": {
    "execution": {
     "iopub.execute_input": "2025-08-19T18:45:09.349418Z",
     "iopub.status.busy": "2025-08-19T18:45:09.348204Z",
     "iopub.status.idle": "2025-08-19T18:45:09.359424Z",
     "shell.execute_reply": "2025-08-19T18:45:09.358338Z"
    },
    "papermill": {
     "duration": 0.026893,
     "end_time": "2025-08-19T18:45:09.360874",
     "exception": false,
     "start_time": "2025-08-19T18:45:09.333981",
     "status": "completed"
    },
    "tags": []
   },
   "outputs": [],
   "source": [
    "for subgroup, cov in cond_coverage.items():\n",
    "    cp_metrics_df[f\"cov_{subgroup}\"] = cov"
   ]
  },
  {
   "cell_type": "code",
   "execution_count": 56,
   "id": "3970120f",
   "metadata": {
    "execution": {
     "iopub.execute_input": "2025-08-19T18:45:09.392353Z",
     "iopub.status.busy": "2025-08-19T18:45:09.390966Z",
     "iopub.status.idle": "2025-08-19T18:45:09.418136Z",
     "shell.execute_reply": "2025-08-19T18:45:09.417278Z"
    },
    "papermill": {
     "duration": 0.043413,
     "end_time": "2025-08-19T18:45:09.419924",
     "exception": false,
     "start_time": "2025-08-19T18:45:09.376511",
     "status": "completed"
    },
    "tags": []
   },
   "outputs": [
    {
     "data": {
      "text/html": [
       "<div>\n",
       "<style scoped>\n",
       "    .dataframe tbody tr th:only-of-type {\n",
       "        vertical-align: middle;\n",
       "    }\n",
       "\n",
       "    .dataframe tbody tr th {\n",
       "        vertical-align: top;\n",
       "    }\n",
       "\n",
       "    .dataframe thead th {\n",
       "        text-align: right;\n",
       "    }\n",
       "</style>\n",
       "<table border=\"1\" class=\"dataframe\">\n",
       "  <thead>\n",
       "    <tr style=\"text-align: right;\">\n",
       "      <th></th>\n",
       "      <th>universe_id</th>\n",
       "      <th>universe_training_year</th>\n",
       "      <th>universe_training_size</th>\n",
       "      <th>universe_scale</th>\n",
       "      <th>universe_model</th>\n",
       "      <th>universe_exclude_features</th>\n",
       "      <th>universe_exclude_subgroups</th>\n",
       "      <th>q_hat</th>\n",
       "      <th>coverage</th>\n",
       "      <th>avg_size</th>\n",
       "      <th>cov_frau1</th>\n",
       "      <th>cov_nongerman</th>\n",
       "      <th>cov_nongerman_male</th>\n",
       "      <th>cov_nongerman_female</th>\n",
       "    </tr>\n",
       "  </thead>\n",
       "  <tbody>\n",
       "    <tr>\n",
       "      <th>0</th>\n",
       "      <td>ae345e409b07a31bf75d50daaac6133b</td>\n",
       "      <td>2010_14</td>\n",
       "      <td>5k</td>\n",
       "      <td>do-not-scale</td>\n",
       "      <td>logreg</td>\n",
       "      <td>sex</td>\n",
       "      <td>drop-non-german</td>\n",
       "      <td>0.671466</td>\n",
       "      <td>0.913131</td>\n",
       "      <td>1.216854</td>\n",
       "      <td>0.913412</td>\n",
       "      <td>0.938079</td>\n",
       "      <td>0.947942</td>\n",
       "      <td>0.921759</td>\n",
       "    </tr>\n",
       "  </tbody>\n",
       "</table>\n",
       "</div>"
      ],
      "text/plain": [
       "                        universe_id universe_training_year  \\\n",
       "0  ae345e409b07a31bf75d50daaac6133b                2010_14   \n",
       "\n",
       "  universe_training_size universe_scale universe_model  \\\n",
       "0                     5k   do-not-scale         logreg   \n",
       "\n",
       "  universe_exclude_features universe_exclude_subgroups     q_hat  coverage  \\\n",
       "0                       sex            drop-non-german  0.671466  0.913131   \n",
       "\n",
       "   avg_size  cov_frau1  cov_nongerman  cov_nongerman_male  \\\n",
       "0  1.216854   0.913412       0.938079            0.947942   \n",
       "\n",
       "   cov_nongerman_female  \n",
       "0              0.921759  "
      ]
     },
     "execution_count": 56,
     "metadata": {},
     "output_type": "execute_result"
    }
   ],
   "source": [
    "cp_metrics_df"
   ]
  },
  {
   "cell_type": "markdown",
   "id": "3fc519cc",
   "metadata": {
    "papermill": {
     "duration": 0.012829,
     "end_time": "2025-08-19T18:45:09.457369",
     "exception": false,
     "start_time": "2025-08-19T18:45:09.444540",
     "status": "completed"
    },
    "tags": []
   },
   "source": [
    "# (Fairness) Metrics"
   ]
  },
  {
   "cell_type": "code",
   "execution_count": 57,
   "id": "a2e5e155",
   "metadata": {
    "execution": {
     "iopub.execute_input": "2025-08-19T18:45:09.486182Z",
     "iopub.status.busy": "2025-08-19T18:45:09.484987Z",
     "iopub.status.idle": "2025-08-19T18:45:09.523936Z",
     "shell.execute_reply": "2025-08-19T18:45:09.522564Z"
    },
    "papermill": {
     "duration": 0.055575,
     "end_time": "2025-08-19T18:45:09.525749",
     "exception": false,
     "start_time": "2025-08-19T18:45:09.470174",
     "status": "completed"
    },
    "tags": []
   },
   "outputs": [],
   "source": [
    "colname_to_bin = \"maxdeutsch1\"\n",
    "majority_value = org_train[colname_to_bin].mode()[0]\n",
    "\n",
    "org_test[\"majmin\"] = np.where(org_test[colname_to_bin] == majority_value, \"majority\", \"minority\")"
   ]
  },
  {
   "cell_type": "code",
   "execution_count": 58,
   "id": "17e3e4d5",
   "metadata": {
    "execution": {
     "iopub.execute_input": "2025-08-19T18:45:09.553432Z",
     "iopub.status.busy": "2025-08-19T18:45:09.552873Z",
     "iopub.status.idle": "2025-08-19T18:45:11.306814Z",
     "shell.execute_reply": "2025-08-19T18:45:11.304805Z"
    },
    "papermill": {
     "duration": 1.770754,
     "end_time": "2025-08-19T18:45:11.309477",
     "exception": false,
     "start_time": "2025-08-19T18:45:09.538723",
     "status": "completed"
    },
    "tags": []
   },
   "outputs": [],
   "source": [
    "example_universe = universe.copy()\n",
    "example_universe[\"cutoff\"] = example_universe[\"cutoff\"][0]\n",
    "example_universe[\"eval_fairness_grouping\"] = example_universe[\"eval_fairness_grouping\"][0]\n",
    "fairness_dict, metric_frame = universe_analysis.compute_metrics(\n",
    "    example_universe,\n",
    "    y_pred_prob=probs_test,\n",
    "    y_test=y_true,\n",
    "    org_test=org_test,\n",
    ")"
   ]
  },
  {
   "cell_type": "markdown",
   "id": "1fb7a0e9",
   "metadata": {
    "papermill": {
     "duration": 0.013363,
     "end_time": "2025-08-19T18:45:11.343986",
     "exception": false,
     "start_time": "2025-08-19T18:45:11.330623",
     "status": "completed"
    },
    "tags": []
   },
   "source": [
    "# Overall"
   ]
  },
  {
   "cell_type": "markdown",
   "id": "be1784b1",
   "metadata": {
    "papermill": {
     "duration": 0.015306,
     "end_time": "2025-08-19T18:45:11.372653",
     "exception": false,
     "start_time": "2025-08-19T18:45:11.357347",
     "status": "completed"
    },
    "tags": []
   },
   "source": [
    "Main fairness target: Equalized Odds. Seems to be a better fit than equal opportunity, since we're not only interested in Y = 1. Seems to be a better fit than demographic parity, since we also care about accuracy, not just equal distribution of preds.\n",
    "\n",
    "Pick column for computation of fairness metrics\n",
    "\n",
    "Performance\n",
    "Overall performance measures, most interesting in relation to the measures split by group below"
   ]
  },
  {
   "cell_type": "code",
   "execution_count": 59,
   "id": "b7672bee",
   "metadata": {
    "execution": {
     "iopub.execute_input": "2025-08-19T18:45:11.406995Z",
     "iopub.status.busy": "2025-08-19T18:45:11.405480Z",
     "iopub.status.idle": "2025-08-19T18:45:11.422962Z",
     "shell.execute_reply": "2025-08-19T18:45:11.422262Z"
    },
    "papermill": {
     "duration": 0.036843,
     "end_time": "2025-08-19T18:45:11.426229",
     "exception": false,
     "start_time": "2025-08-19T18:45:11.389386",
     "status": "completed"
    },
    "tags": []
   },
   "outputs": [
    {
     "data": {
      "text/plain": [
       "accuracy                   0.217668\n",
       "balanced accuracy          0.533633\n",
       "f1                         0.239184\n",
       "precision                  0.136638\n",
       "false positive rate        0.891371\n",
       "false negative rate        0.041363\n",
       "selection rate             0.900000\n",
       "count                  89710.000000\n",
       "dtype: float64"
      ]
     },
     "execution_count": 59,
     "metadata": {},
     "output_type": "execute_result"
    }
   ],
   "source": [
    "metric_frame.overall"
   ]
  },
  {
   "cell_type": "markdown",
   "id": "d93333c9",
   "metadata": {
    "papermill": {
     "duration": 0.012933,
     "end_time": "2025-08-19T18:45:11.461041",
     "exception": false,
     "start_time": "2025-08-19T18:45:11.448108",
     "status": "completed"
    },
    "tags": []
   },
   "source": [
    "By Group"
   ]
  },
  {
   "cell_type": "code",
   "execution_count": 60,
   "id": "52256966",
   "metadata": {
    "execution": {
     "iopub.execute_input": "2025-08-19T18:45:11.507901Z",
     "iopub.status.busy": "2025-08-19T18:45:11.507505Z",
     "iopub.status.idle": "2025-08-19T18:45:11.530083Z",
     "shell.execute_reply": "2025-08-19T18:45:11.529002Z"
    },
    "papermill": {
     "duration": 0.049305,
     "end_time": "2025-08-19T18:45:11.531740",
     "exception": false,
     "start_time": "2025-08-19T18:45:11.482435",
     "status": "completed"
    },
    "tags": []
   },
   "outputs": [
    {
     "data": {
      "text/html": [
       "<div>\n",
       "<style scoped>\n",
       "    .dataframe tbody tr th:only-of-type {\n",
       "        vertical-align: middle;\n",
       "    }\n",
       "\n",
       "    .dataframe tbody tr th {\n",
       "        vertical-align: top;\n",
       "    }\n",
       "\n",
       "    .dataframe thead th {\n",
       "        text-align: right;\n",
       "    }\n",
       "</style>\n",
       "<table border=\"1\" class=\"dataframe\">\n",
       "  <thead>\n",
       "    <tr style=\"text-align: right;\">\n",
       "      <th></th>\n",
       "      <th>accuracy</th>\n",
       "      <th>balanced accuracy</th>\n",
       "      <th>f1</th>\n",
       "      <th>precision</th>\n",
       "      <th>false positive rate</th>\n",
       "      <th>false negative rate</th>\n",
       "      <th>selection rate</th>\n",
       "      <th>count</th>\n",
       "    </tr>\n",
       "    <tr>\n",
       "      <th>majmin</th>\n",
       "      <th></th>\n",
       "      <th></th>\n",
       "      <th></th>\n",
       "      <th></th>\n",
       "      <th></th>\n",
       "      <th></th>\n",
       "      <th></th>\n",
       "      <th></th>\n",
       "    </tr>\n",
       "  </thead>\n",
       "  <tbody>\n",
       "    <tr>\n",
       "      <th>majority</th>\n",
       "      <td>0.238962</td>\n",
       "      <td>0.541139</td>\n",
       "      <td>0.248426</td>\n",
       "      <td>0.142855</td>\n",
       "      <td>0.869582</td>\n",
       "      <td>0.048140</td>\n",
       "      <td>0.880454</td>\n",
       "      <td>69170.0</td>\n",
       "    </tr>\n",
       "    <tr>\n",
       "      <th>minority</th>\n",
       "      <td>0.145959</td>\n",
       "      <td>0.510724</td>\n",
       "      <td>0.210033</td>\n",
       "      <td>0.117552</td>\n",
       "      <td>0.963350</td>\n",
       "      <td>0.015203</td>\n",
       "      <td>0.965823</td>\n",
       "      <td>20540.0</td>\n",
       "    </tr>\n",
       "  </tbody>\n",
       "</table>\n",
       "</div>"
      ],
      "text/plain": [
       "          accuracy  balanced accuracy        f1  precision  \\\n",
       "majmin                                                       \n",
       "majority  0.238962           0.541139  0.248426   0.142855   \n",
       "minority  0.145959           0.510724  0.210033   0.117552   \n",
       "\n",
       "          false positive rate  false negative rate  selection rate    count  \n",
       "majmin                                                                       \n",
       "majority             0.869582             0.048140        0.880454  69170.0  \n",
       "minority             0.963350             0.015203        0.965823  20540.0  "
      ]
     },
     "execution_count": 60,
     "metadata": {},
     "output_type": "execute_result"
    }
   ],
   "source": [
    "metric_frame.by_group"
   ]
  },
  {
   "cell_type": "code",
   "execution_count": 61,
   "id": "6e6c20ae",
   "metadata": {
    "execution": {
     "iopub.execute_input": "2025-08-19T18:45:11.587481Z",
     "iopub.status.busy": "2025-08-19T18:45:11.578259Z",
     "iopub.status.idle": "2025-08-19T18:45:13.514345Z",
     "shell.execute_reply": "2025-08-19T18:45:13.513117Z"
    },
    "papermill": {
     "duration": 1.957307,
     "end_time": "2025-08-19T18:45:13.518788",
     "exception": false,
     "start_time": "2025-08-19T18:45:11.561481",
     "status": "completed"
    },
    "tags": []
   },
   "outputs": [
    {
     "data": {
      "text/plain": [
       "array([[<Axes: title={'center': 'accuracy'}, xlabel='majmin'>,\n",
       "        <Axes: title={'center': 'balanced accuracy'}, xlabel='majmin'>,\n",
       "        <Axes: title={'center': 'f1'}, xlabel='majmin'>],\n",
       "       [<Axes: title={'center': 'precision'}, xlabel='majmin'>,\n",
       "        <Axes: title={'center': 'false positive rate'}, xlabel='majmin'>,\n",
       "        <Axes: title={'center': 'false negative rate'}, xlabel='majmin'>],\n",
       "       [<Axes: title={'center': 'selection rate'}, xlabel='majmin'>,\n",
       "        <Axes: title={'center': 'count'}, xlabel='majmin'>,\n",
       "        <Axes: xlabel='majmin'>]], dtype=object)"
      ]
     },
     "execution_count": 61,
     "metadata": {},
     "output_type": "execute_result"
    },
    {
     "data": {
      "image/png": "[encoded data removed]",
      "text/plain": [
       "<Figure size 1200x800 with 9 Axes>"
      ]
     },
     "metadata": {},
     "output_type": "display_data"
    }
   ],
   "source": [
    "# In a graphic\n",
    "metric_frame.by_group.plot.bar(\n",
    "    subplots=True,\n",
    "    layout=[3, 3],\n",
    "    legend=False,\n",
    "    figsize=[12, 8],\n",
    "    title=\"Show all metrics\",\n",
    ")"
   ]
  },
  {
   "cell_type": "markdown",
   "id": "b2e433ae",
   "metadata": {
    "papermill": {
     "duration": 0.018415,
     "end_time": "2025-08-19T18:45:13.565905",
     "exception": false,
     "start_time": "2025-08-19T18:45:13.547490",
     "status": "completed"
    },
    "tags": []
   },
   "source": [
    "# Final Output"
   ]
  },
  {
   "cell_type": "code",
   "execution_count": 62,
   "id": "3871301e",
   "metadata": {
    "execution": {
     "iopub.execute_input": "2025-08-19T18:45:13.622638Z",
     "iopub.status.busy": "2025-08-19T18:45:13.616369Z",
     "iopub.status.idle": "2025-08-19T18:45:13.640395Z",
     "shell.execute_reply": "2025-08-19T18:45:13.638902Z"
    },
    "papermill": {
     "duration": 0.042189,
     "end_time": "2025-08-19T18:45:13.642335",
     "exception": false,
     "start_time": "2025-08-19T18:45:13.600146",
     "status": "completed"
    },
    "tags": []
   },
   "outputs": [
    {
     "data": {
      "text/plain": [
       "4"
      ]
     },
     "execution_count": 62,
     "metadata": {},
     "output_type": "execute_result"
    }
   ],
   "source": [
    "sub_universes = universe_analysis.generate_sub_universes()\n",
    "len(sub_universes)"
   ]
  },
  {
   "cell_type": "code",
   "execution_count": 63,
   "id": "d9cfdaca",
   "metadata": {
    "execution": {
     "iopub.execute_input": "2025-08-19T18:45:13.681955Z",
     "iopub.status.busy": "2025-08-19T18:45:13.680827Z",
     "iopub.status.idle": "2025-08-19T18:45:13.710307Z",
     "shell.execute_reply": "2025-08-19T18:45:13.708607Z"
    },
    "papermill": {
     "duration": 0.047939,
     "end_time": "2025-08-19T18:45:13.712850",
     "exception": false,
     "start_time": "2025-08-19T18:45:13.664911",
     "status": "completed"
    },
    "tags": []
   },
   "outputs": [],
   "source": [
    "def filter_sub_universe_data(sub_universe, org_test):\n",
    "    # Keep all rows — no filtering\n",
    "    keep_rows_mask = np.ones(org_test.shape[0], dtype=bool)\n",
    "\n",
    "    print(f\"[INFO] Keeping all rows: {keep_rows_mask.sum()} rows retained.\")\n",
    "    return keep_rows_mask"
   ]
  },
  {
   "cell_type": "code",
   "execution_count": 64,
   "id": "2bc31ac1",
   "metadata": {
    "execution": {
     "iopub.execute_input": "2025-08-19T18:45:13.755496Z",
     "iopub.status.busy": "2025-08-19T18:45:13.754370Z",
     "iopub.status.idle": "2025-08-19T18:45:20.408980Z",
     "shell.execute_reply": "2025-08-19T18:45:20.407975Z"
    },
    "papermill": {
     "duration": 6.67225,
     "end_time": "2025-08-19T18:45:20.410529",
     "exception": false,
     "start_time": "2025-08-19T18:45:13.738279",
     "status": "completed"
    },
    "tags": []
   },
   "outputs": [
    {
     "name": "stdout",
     "output_type": "stream",
     "text": [
      "Stopping execution_time clock.\n",
      "[INFO] Keeping all rows: 89710 rows retained.\n"
     ]
    },
    {
     "name": "stdout",
     "output_type": "stream",
     "text": [
      "[INFO] Keeping all rows: 89710 rows retained.\n"
     ]
    },
    {
     "name": "stdout",
     "output_type": "stream",
     "text": [
      "[INFO] Keeping all rows: 89710 rows retained.\n"
     ]
    },
    {
     "name": "stdout",
     "output_type": "stream",
     "text": [
      "[INFO] Keeping all rows: 89710 rows retained.\n"
     ]
    },
    {
     "data": {
      "text/html": [
       "<div>\n",
       "<style scoped>\n",
       "    .dataframe tbody tr th:only-of-type {\n",
       "        vertical-align: middle;\n",
       "    }\n",
       "\n",
       "    .dataframe tbody tr th {\n",
       "        vertical-align: top;\n",
       "    }\n",
       "\n",
       "    .dataframe thead th {\n",
       "        text-align: right;\n",
       "    }\n",
       "</style>\n",
       "<table border=\"1\" class=\"dataframe\">\n",
       "  <thead>\n",
       "    <tr style=\"text-align: right;\">\n",
       "      <th></th>\n",
       "      <th>run_no</th>\n",
       "      <th>universe_id</th>\n",
       "      <th>universe_settings</th>\n",
       "      <th>execution_time</th>\n",
       "      <th>test_size_n</th>\n",
       "      <th>test_size_frac</th>\n",
       "      <th>fair_main_equalized_odds_difference</th>\n",
       "      <th>fair_main_equalized_odds_ratio</th>\n",
       "      <th>fair_main_demographic_parity_difference</th>\n",
       "      <th>fair_main_demographic_parity_ratio</th>\n",
       "      <th>...</th>\n",
       "      <th>perf_grp_precision_0</th>\n",
       "      <th>perf_grp_precision_1</th>\n",
       "      <th>perf_grp_false positive rate_0</th>\n",
       "      <th>perf_grp_false positive rate_1</th>\n",
       "      <th>perf_grp_false negative rate_0</th>\n",
       "      <th>perf_grp_false negative rate_1</th>\n",
       "      <th>perf_grp_selection rate_0</th>\n",
       "      <th>perf_grp_selection rate_1</th>\n",
       "      <th>perf_grp_count_0</th>\n",
       "      <th>perf_grp_count_1</th>\n",
       "    </tr>\n",
       "  </thead>\n",
       "  <tbody>\n",
       "    <tr>\n",
       "      <th>0</th>\n",
       "      <td>3</td>\n",
       "      <td>ae345e409b07a31bf75d50daaac6133b</td>\n",
       "      <td>{\"cutoff\": \"quantile_0.1\", \"eval_fairness_grou...</td>\n",
       "      <td>21.573502</td>\n",
       "      <td>89710</td>\n",
       "      <td>1.0</td>\n",
       "      <td>0.093768</td>\n",
       "      <td>0.902664</td>\n",
       "      <td>0.085369</td>\n",
       "      <td>0.911610</td>\n",
       "      <td>...</td>\n",
       "      <td>NaN</td>\n",
       "      <td>NaN</td>\n",
       "      <td>NaN</td>\n",
       "      <td>NaN</td>\n",
       "      <td>NaN</td>\n",
       "      <td>NaN</td>\n",
       "      <td>NaN</td>\n",
       "      <td>NaN</td>\n",
       "      <td>NaN</td>\n",
       "      <td>NaN</td>\n",
       "    </tr>\n",
       "    <tr>\n",
       "      <th>0</th>\n",
       "      <td>3</td>\n",
       "      <td>ae345e409b07a31bf75d50daaac6133b</td>\n",
       "      <td>{\"cutoff\": \"quantile_0.1\", \"eval_fairness_grou...</td>\n",
       "      <td>21.573502</td>\n",
       "      <td>89710</td>\n",
       "      <td>1.0</td>\n",
       "      <td>0.093768</td>\n",
       "      <td>0.902664</td>\n",
       "      <td>0.085369</td>\n",
       "      <td>0.911610</td>\n",
       "      <td>...</td>\n",
       "      <td>0.117552</td>\n",
       "      <td>0.142855</td>\n",
       "      <td>0.963350</td>\n",
       "      <td>0.869582</td>\n",
       "      <td>0.015203</td>\n",
       "      <td>0.048140</td>\n",
       "      <td>0.965823</td>\n",
       "      <td>0.880454</td>\n",
       "      <td>20540.0</td>\n",
       "      <td>69170.0</td>\n",
       "    </tr>\n",
       "    <tr>\n",
       "      <th>0</th>\n",
       "      <td>3</td>\n",
       "      <td>ae345e409b07a31bf75d50daaac6133b</td>\n",
       "      <td>{\"cutoff\": \"quantile_0.25\", \"eval_fairness_gro...</td>\n",
       "      <td>21.573502</td>\n",
       "      <td>89710</td>\n",
       "      <td>1.0</td>\n",
       "      <td>0.219055</td>\n",
       "      <td>0.756176</td>\n",
       "      <td>0.200674</td>\n",
       "      <td>0.778192</td>\n",
       "      <td>...</td>\n",
       "      <td>NaN</td>\n",
       "      <td>NaN</td>\n",
       "      <td>NaN</td>\n",
       "      <td>NaN</td>\n",
       "      <td>NaN</td>\n",
       "      <td>NaN</td>\n",
       "      <td>NaN</td>\n",
       "      <td>NaN</td>\n",
       "      <td>NaN</td>\n",
       "      <td>NaN</td>\n",
       "    </tr>\n",
       "    <tr>\n",
       "      <th>0</th>\n",
       "      <td>3</td>\n",
       "      <td>ae345e409b07a31bf75d50daaac6133b</td>\n",
       "      <td>{\"cutoff\": \"quantile_0.25\", \"eval_fairness_gro...</td>\n",
       "      <td>21.573502</td>\n",
       "      <td>89710</td>\n",
       "      <td>1.0</td>\n",
       "      <td>0.219055</td>\n",
       "      <td>0.756176</td>\n",
       "      <td>0.200674</td>\n",
       "      <td>0.778192</td>\n",
       "      <td>...</td>\n",
       "      <td>0.121455</td>\n",
       "      <td>0.162570</td>\n",
       "      <td>0.898415</td>\n",
       "      <td>0.679360</td>\n",
       "      <td>0.046875</td>\n",
       "      <td>0.133807</td>\n",
       "      <td>0.904722</td>\n",
       "      <td>0.704048</td>\n",
       "      <td>20540.0</td>\n",
       "      <td>69170.0</td>\n",
       "    </tr>\n",
       "  </tbody>\n",
       "</table>\n",
       "<p>4 rows × 50 columns</p>\n",
       "</div>"
      ],
      "text/plain": [
       "  run_no                       universe_id  \\\n",
       "0      3  ae345e409b07a31bf75d50daaac6133b   \n",
       "0      3  ae345e409b07a31bf75d50daaac6133b   \n",
       "0      3  ae345e409b07a31bf75d50daaac6133b   \n",
       "0      3  ae345e409b07a31bf75d50daaac6133b   \n",
       "\n",
       "                                   universe_settings  execution_time  \\\n",
       "0  {\"cutoff\": \"quantile_0.1\", \"eval_fairness_grou...       21.573502   \n",
       "0  {\"cutoff\": \"quantile_0.1\", \"eval_fairness_grou...       21.573502   \n",
       "0  {\"cutoff\": \"quantile_0.25\", \"eval_fairness_gro...       21.573502   \n",
       "0  {\"cutoff\": \"quantile_0.25\", \"eval_fairness_gro...       21.573502   \n",
       "\n",
       "   test_size_n  test_size_frac  fair_main_equalized_odds_difference  \\\n",
       "0        89710             1.0                             0.093768   \n",
       "0        89710             1.0                             0.093768   \n",
       "0        89710             1.0                             0.219055   \n",
       "0        89710             1.0                             0.219055   \n",
       "\n",
       "   fair_main_equalized_odds_ratio  fair_main_demographic_parity_difference  \\\n",
       "0                        0.902664                                 0.085369   \n",
       "0                        0.902664                                 0.085369   \n",
       "0                        0.756176                                 0.200674   \n",
       "0                        0.756176                                 0.200674   \n",
       "\n",
       "   fair_main_demographic_parity_ratio  ...  perf_grp_precision_0  \\\n",
       "0                            0.911610  ...                   NaN   \n",
       "0                            0.911610  ...              0.117552   \n",
       "0                            0.778192  ...                   NaN   \n",
       "0                            0.778192  ...              0.121455   \n",
       "\n",
       "   perf_grp_precision_1  perf_grp_false positive rate_0  \\\n",
       "0                   NaN                             NaN   \n",
       "0              0.142855                        0.963350   \n",
       "0                   NaN                             NaN   \n",
       "0              0.162570                        0.898415   \n",
       "\n",
       "   perf_grp_false positive rate_1  perf_grp_false negative rate_0  \\\n",
       "0                             NaN                             NaN   \n",
       "0                        0.869582                        0.015203   \n",
       "0                             NaN                             NaN   \n",
       "0                        0.679360                        0.046875   \n",
       "\n",
       "   perf_grp_false negative rate_1  perf_grp_selection rate_0  \\\n",
       "0                             NaN                        NaN   \n",
       "0                        0.048140                   0.965823   \n",
       "0                             NaN                        NaN   \n",
       "0                        0.133807                   0.904722   \n",
       "\n",
       "   perf_grp_selection rate_1  perf_grp_count_0  perf_grp_count_1  \n",
       "0                        NaN               NaN               NaN  \n",
       "0                   0.880454           20540.0           69170.0  \n",
       "0                        NaN               NaN               NaN  \n",
       "0                   0.704048           20540.0           69170.0  \n",
       "\n",
       "[4 rows x 50 columns]"
      ]
     },
     "execution_count": 64,
     "metadata": {},
     "output_type": "execute_result"
    }
   ],
   "source": [
    "final_output = universe_analysis.generate_final_output(\n",
    "    y_pred_prob=probs_test,\n",
    "    y_test=y_true,\n",
    "    org_test=org_test,\n",
    "    filter_data=filter_sub_universe_data,\n",
    "    cp_metrics_df=cp_metrics_df,\n",
    "    save=True,\n",
    ")\n",
    "final_output"
   ]
  },
  {
   "cell_type": "code",
   "execution_count": null,
   "id": "8b80a1ff",
   "metadata": {
    "papermill": {
     "duration": 0.019237,
     "end_time": "2025-08-19T18:45:20.460661",
     "exception": false,
     "start_time": "2025-08-19T18:45:20.441424",
     "status": "completed"
    },
    "tags": []
   },
   "outputs": [],
   "source": []
  },
  {
   "cell_type": "code",
   "execution_count": null,
   "id": "275c9fad",
   "metadata": {
    "papermill": {
     "duration": 0.0143,
     "end_time": "2025-08-19T18:45:20.489269",
     "exception": false,
     "start_time": "2025-08-19T18:45:20.474969",
     "status": "completed"
    },
    "tags": []
   },
   "outputs": [],
   "source": []
  }
 ],
 "metadata": {
  "celltoolbar": "Tags",
  "kernelspec": {
   "display_name": "Python (CMA Fairness)",
   "language": "python",
   "name": "cma_fair_env"
  },
  "language_info": {
   "codemirror_mode": {
    "name": "ipython",
    "version": 3
   },
   "file_extension": ".py",
   "mimetype": "text/x-python",
   "name": "python",
   "nbconvert_exporter": "python",
   "pygments_lexer": "ipython3",
   "version": "3.10.12"
  },
  "papermill": {
   "default_parameters": {},
   "duration": 31.963466,
   "end_time": "2025-08-19T18:45:21.328435",
   "environment_variables": {},
   "exception": null,
   "input_path": "universe_analysis.ipynb",
   "output_path": "output/runs/3/notebooks/m_3-ae345e409b07a31bf75d50daaac6133b.ipynb",
   "parameters": {
    "output_dir": "output",
    "run_no": "3",
    "seed": "2023",
    "universe": "{\"cutoff\": [\"quantile_0.1\", \"quantile_0.25\"], \"eval_fairness_grouping\": [\"majority-minority\", \"nationality-all\"], \"exclude_features\": \"sex\", \"exclude_subgroups\": \"drop-non-german\", \"model\": \"logreg\", \"scale\": \"do-not-scale\", \"training_size\": \"5k\", \"training_year\": \"2010_14\"}",
    "universe_id": "ae345e409b07a31bf75d50daaac6133b"
   },
   "start_time": "2025-08-19T18:44:49.364969",
   "version": "2.6.0"
  }
 },
 "nbformat": 4,
 "nbformat_minor": 5
}