{
 "cells": [
  {
   "cell_type": "markdown",
   "id": "ef23dbb3",
   "metadata": {
    "papermill": {
     "duration": 0.020824,
     "end_time": "2025-08-19T18:52:43.245211",
     "exception": false,
     "start_time": "2025-08-19T18:52:43.224387",
     "status": "completed"
    },
    "tags": []
   },
   "source": [
    "# Setup"
   ]
  },
  {
   "cell_type": "code",
   "execution_count": 1,
   "id": "0bc8e7dc",
   "metadata": {
    "execution": {
     "iopub.execute_input": "2025-08-19T18:52:43.288770Z",
     "iopub.status.busy": "2025-08-19T18:52:43.288264Z",
     "iopub.status.idle": "2025-08-19T18:52:43.300824Z",
     "shell.execute_reply": "2025-08-19T18:52:43.299844Z"
    },
    "papermill": {
     "duration": 0.042376,
     "end_time": "2025-08-19T18:52:43.303722",
     "exception": false,
     "start_time": "2025-08-19T18:52:43.261346",
     "status": "completed"
    },
    "tags": []
   },
   "outputs": [
    {
     "name": "stdout",
     "output_type": "stream",
     "text": [
      "/dss/dsshome1/0C/ra93lal2/cma/CMA_Fairness_v2\n"
     ]
    },
    {
     "name": "stderr",
     "output_type": "stream",
     "text": [
      "/dss/dsshome1/0C/ra93lal2/.local/share/virtualenvs/CMA_Fairness_v2-3j10GkSs/lib/python3.10/site-packages/IPython/core/magics/osm.py:393: UserWarning: This is now an optional IPython functionality, using bookmarks requires you to install the `pickleshare` library.\n",
      "  bkms = self.shell.db.get('bookmarks', {})\n",
      "/dss/dsshome1/0C/ra93lal2/.local/share/virtualenvs/CMA_Fairness_v2-3j10GkSs/lib/python3.10/site-packages/IPython/core/magics/osm.py:417: UserWarning: This is now an optional IPython functionality, setting dhist requires you to install the `pickleshare` library.\n",
      "  self.shell.db['dhist'] = compress_dhist(dhist)[-100:]\n"
     ]
    }
   ],
   "source": [
    "%cd ~/cma/CMA_Fairness_v2"
   ]
  },
  {
   "cell_type": "markdown",
   "id": "9d235661",
   "metadata": {
    "papermill": {
     "duration": 0.020539,
     "end_time": "2025-08-19T18:52:43.342091",
     "exception": false,
     "start_time": "2025-08-19T18:52:43.321552",
     "status": "completed"
    },
    "tags": []
   },
   "source": [
    "The following cell holds the definition of our parameters, these values can be overriden by rendering the with e.g. the following command:\n",
    "\n",
    "papermill -p alpha 0.2 -p ratio 0.3 universe_analysis.ipynb output/test_run.ipynb"
   ]
  },
  {
   "cell_type": "code",
   "execution_count": 2,
   "id": "4a789d8e",
   "metadata": {
    "execution": {
     "iopub.execute_input": "2025-08-19T18:52:43.367380Z",
     "iopub.status.busy": "2025-08-19T18:52:43.366430Z",
     "iopub.status.idle": "2025-08-19T18:52:43.373139Z",
     "shell.execute_reply": "2025-08-19T18:52:43.371910Z"
    },
    "papermill": {
     "duration": 0.021233,
     "end_time": "2025-08-19T18:52:43.374595",
     "exception": false,
     "start_time": "2025-08-19T18:52:43.353362",
     "status": "completed"
    },
    "tags": []
   },
   "outputs": [
    {
     "name": "stdout",
     "output_type": "stream",
     "text": [
      "Current working directory: /dss/dsshome1/0C/ra93lal2/cma/CMA_Fairness_v2\n"
     ]
    }
   ],
   "source": [
    "import os\n",
    "print(\"Current working directory:\", os.getcwd())"
   ]
  },
  {
   "cell_type": "code",
   "execution_count": 3,
   "id": "4132aaed",
   "metadata": {
    "execution": {
     "iopub.execute_input": "2025-08-19T18:52:43.395222Z",
     "iopub.status.busy": "2025-08-19T18:52:43.394774Z",
     "iopub.status.idle": "2025-08-19T18:52:43.443840Z",
     "shell.execute_reply": "2025-08-19T18:52:43.442296Z"
    },
    "papermill": {
     "duration": 0.061557,
     "end_time": "2025-08-19T18:52:43.445723",
     "exception": false,
     "start_time": "2025-08-19T18:52:43.384166",
     "status": "completed"
    },
    "tags": [
     "parameters"
    ]
   },
   "outputs": [],
   "source": [
    "run_no = 0\n",
    "universe_id = \"test\"\n",
    "universe = {\n",
    "    \"training_size\": \"5k\", # \"25k\", \"5k\", \"1k\"\n",
    "    \"training_year\": \"2012_14\", # \"2014\", \"2012_14\", \"2010_14\"\n",
    "    \"scale\": \"scale\", # \"scale\", \"do-not-scale\",\n",
    "    \"model\": \"elasticnet\", # \"logreg\", \"penalized_logreg\", \"rf\", \"gbm\", \"elasticnet\"\n",
    "    \"cutoff\": [\"quantile_0.15\", \"quantile_0.30\"],\n",
    "    \"exclude_features\": \"age\", # \"none\", \"nationality\", \"sex\", \"nationality-sex\", \"age\"\n",
    "    \"exclude_subgroups\": \"drop-non-german\", # \"keep-all\", \"drop-non-german\"\n",
    "    \"eval_fairness_grouping\": [\"majority-minority\", \"nationality-all\"]\n",
    "}\n",
    "\n",
    "output_dir=\"./output\"\n",
    "seed=0"
   ]
  },
  {
   "cell_type": "code",
   "execution_count": 4,
   "id": "31fea9d1",
   "metadata": {
    "execution": {
     "iopub.execute_input": "2025-08-19T18:52:43.466460Z",
     "iopub.status.busy": "2025-08-19T18:52:43.465591Z",
     "iopub.status.idle": "2025-08-19T18:52:43.474429Z",
     "shell.execute_reply": "2025-08-19T18:52:43.472884Z"
    },
    "papermill": {
     "duration": 0.021511,
     "end_time": "2025-08-19T18:52:43.476348",
     "exception": false,
     "start_time": "2025-08-19T18:52:43.454837",
     "status": "completed"
    },
    "tags": [
     "injected-parameters"
    ]
   },
   "outputs": [],
   "source": [
    "# Parameters\n",
    "universe_id = \"d22c83a9e1e31ec72d61792767910898\"\n",
    "run_no = \"3\"\n",
    "universe = \"{\\\"cutoff\\\": [\\\"quantile_0.1\\\", \\\"quantile_0.25\\\"], \\\"eval_fairness_grouping\\\": [\\\"majority-minority\\\", \\\"nationality-all\\\"], \\\"exclude_features\\\": \\\"nationality\\\", \\\"exclude_subgroups\\\": \\\"drop-non-german\\\", \\\"model\\\": \\\"logreg\\\", \\\"scale\\\": \\\"do-not-scale\\\", \\\"training_size\\\": \\\"1k\\\", \\\"training_year\\\": \\\"2014\\\"}\"\n",
    "output_dir = \"output\"\n",
    "seed = \"2023\"\n"
   ]
  },
  {
   "cell_type": "code",
   "execution_count": 5,
   "id": "a5d7941f",
   "metadata": {
    "execution": {
     "iopub.execute_input": "2025-08-19T18:52:43.500813Z",
     "iopub.status.busy": "2025-08-19T18:52:43.500056Z",
     "iopub.status.idle": "2025-08-19T18:52:43.508084Z",
     "shell.execute_reply": "2025-08-19T18:52:43.506572Z"
    },
    "papermill": {
     "duration": 0.021543,
     "end_time": "2025-08-19T18:52:43.509774",
     "exception": false,
     "start_time": "2025-08-19T18:52:43.488231",
     "status": "completed"
    },
    "tags": []
   },
   "outputs": [],
   "source": [
    "import json\n",
    "if isinstance(universe, str):\n",
    "    universe = json.loads(universe)"
   ]
  },
  {
   "cell_type": "code",
   "execution_count": 6,
   "id": "7076ccb1",
   "metadata": {
    "execution": {
     "iopub.execute_input": "2025-08-19T18:52:43.531536Z",
     "iopub.status.busy": "2025-08-19T18:52:43.530806Z",
     "iopub.status.idle": "2025-08-19T18:52:43.573094Z",
     "shell.execute_reply": "2025-08-19T18:52:43.571976Z"
    },
    "papermill": {
     "duration": 0.056067,
     "end_time": "2025-08-19T18:52:43.576266",
     "exception": false,
     "start_time": "2025-08-19T18:52:43.520199",
     "status": "completed"
    },
    "tags": []
   },
   "outputs": [],
   "source": [
    "# Auto-reload the custom package\n",
    "%load_ext autoreload\n",
    "%autoreload 1\n",
    "%aimport fairness_multiverse"
   ]
  },
  {
   "cell_type": "code",
   "execution_count": 7,
   "id": "94c8eb93",
   "metadata": {
    "execution": {
     "iopub.execute_input": "2025-08-19T18:52:43.617908Z",
     "iopub.status.busy": "2025-08-19T18:52:43.617343Z",
     "iopub.status.idle": "2025-08-19T18:52:45.159725Z",
     "shell.execute_reply": "2025-08-19T18:52:45.158918Z"
    },
    "papermill": {
     "duration": 1.55758,
     "end_time": "2025-08-19T18:52:45.161645",
     "exception": false,
     "start_time": "2025-08-19T18:52:43.604065",
     "status": "completed"
    },
    "tags": []
   },
   "outputs": [],
   "source": [
    "from fairness_multiverse.universe import UniverseAnalysis\n",
    "\n",
    "universe_analysis = UniverseAnalysis(\n",
    "    run_no = run_no,\n",
    "    universe_id = universe_id,\n",
    "    universe = universe,\n",
    "    output_dir=output_dir,\n",
    ")"
   ]
  },
  {
   "cell_type": "code",
   "execution_count": 8,
   "id": "2a6381cf",
   "metadata": {
    "execution": {
     "iopub.execute_input": "2025-08-19T18:52:45.181970Z",
     "iopub.status.busy": "2025-08-19T18:52:45.181185Z",
     "iopub.status.idle": "2025-08-19T18:52:45.191068Z",
     "shell.execute_reply": "2025-08-19T18:52:45.189425Z"
    },
    "papermill": {
     "duration": 0.021613,
     "end_time": "2025-08-19T18:52:45.192521",
     "exception": false,
     "start_time": "2025-08-19T18:52:45.170908",
     "status": "completed"
    },
    "tags": []
   },
   "outputs": [
    {
     "name": "stdout",
     "output_type": "stream",
     "text": [
      "Using Seed: 2023\n"
     ]
    }
   ],
   "source": [
    "import numpy as np\n",
    "parsed_seed = int(seed)\n",
    "np.random.seed(parsed_seed)\n",
    "print(f\"Using Seed: {parsed_seed}\")"
   ]
  },
  {
   "cell_type": "markdown",
   "id": "b6e958b4",
   "metadata": {
    "papermill": {
     "duration": 0.008936,
     "end_time": "2025-08-19T18:52:45.211022",
     "exception": false,
     "start_time": "2025-08-19T18:52:45.202086",
     "status": "completed"
    },
    "tags": []
   },
   "source": [
    "# Loading Data"
   ]
  },
  {
   "cell_type": "code",
   "execution_count": 9,
   "id": "98701482",
   "metadata": {
    "execution": {
     "iopub.execute_input": "2025-08-19T18:52:45.242650Z",
     "iopub.status.busy": "2025-08-19T18:52:45.241702Z",
     "iopub.status.idle": "2025-08-19T18:52:55.444624Z",
     "shell.execute_reply": "2025-08-19T18:52:55.443474Z"
    },
    "papermill": {
     "duration": 10.226133,
     "end_time": "2025-08-19T18:52:55.445924",
     "exception": false,
     "start_time": "2025-08-19T18:52:45.219791",
     "status": "completed"
    },
    "tags": []
   },
   "outputs": [
    {
     "name": "stdout",
     "output_type": "stream",
     "text": [
      "Loading SIAB data from cache: data/siab_cached.csv.gz\n"
     ]
    },
    {
     "name": "stdout",
     "output_type": "stream",
     "text": [
      "(643690, 164)\n"
     ]
    }
   ],
   "source": [
    "from pathlib import Path\n",
    "import pandas as pd\n",
    "\n",
    "# File paths\n",
    "raw_file = Path(\"data/raw/siab.csv\")\n",
    "cache_file = Path(\"data/siab_cached.csv.gz\")\n",
    "\n",
    "# Ensure cache directory exists\n",
    "cache_file.parent.mkdir(parents=True, exist_ok=True)\n",
    "\n",
    "# Load with simple caching\n",
    "if cache_file.exists():\n",
    "    print(f\"Loading SIAB data from cache: {cache_file}\")\n",
    "    siab = pd.read_csv(cache_file, compression='gzip')\n",
    "else:\n",
    "    print(f\"Cache not found. Reading raw SIAB data: {raw_file}\")\n",
    "    siab = pd.read_csv(raw_file)\n",
    "    siab.to_csv(cache_file, index=False, compression='gzip')\n",
    "    print(f\"Cached SIAB data to: {cache_file}\")\n",
    "\n",
    "print(siab.shape)"
   ]
  },
  {
   "cell_type": "code",
   "execution_count": 10,
   "id": "058d2abb",
   "metadata": {
    "execution": {
     "iopub.execute_input": "2025-08-19T18:52:55.470304Z",
     "iopub.status.busy": "2025-08-19T18:52:55.469325Z",
     "iopub.status.idle": "2025-08-19T18:52:55.597526Z",
     "shell.execute_reply": "2025-08-19T18:52:55.596828Z"
    },
    "papermill": {
     "duration": 0.140481,
     "end_time": "2025-08-19T18:52:55.598960",
     "exception": false,
     "start_time": "2025-08-19T18:52:55.458479",
     "status": "completed"
    },
    "tags": []
   },
   "outputs": [
    {
     "data": {
      "text/html": [
       "<div>\n",
       "<style scoped>\n",
       "    .dataframe tbody tr th:only-of-type {\n",
       "        vertical-align: middle;\n",
       "    }\n",
       "\n",
       "    .dataframe tbody tr th {\n",
       "        vertical-align: top;\n",
       "    }\n",
       "\n",
       "    .dataframe thead th {\n",
       "        text-align: right;\n",
       "    }\n",
       "</style>\n",
       "<table border=\"1\" class=\"dataframe\">\n",
       "  <thead>\n",
       "    <tr style=\"text-align: right;\">\n",
       "      <th></th>\n",
       "      <th>persnr</th>\n",
       "      <th>year</th>\n",
       "      <th>nrEntry</th>\n",
       "      <th>ltue</th>\n",
       "      <th>employed_before</th>\n",
       "      <th>receipt_leh_before</th>\n",
       "      <th>receipt_lhg_before</th>\n",
       "      <th>se_before</th>\n",
       "      <th>ASU_notue_seeking_before</th>\n",
       "      <th>ASU_other_before</th>\n",
       "      <th>...</th>\n",
       "      <th>minijob_tot_dur_byage</th>\n",
       "      <th>ft_tot_dur_byage</th>\n",
       "      <th>befrist_tot_dur_byage</th>\n",
       "      <th>leih_tot_dur_byage</th>\n",
       "      <th>LHG_tot_dur_byage</th>\n",
       "      <th>LEH_tot_dur_byage</th>\n",
       "      <th>almp_tot_dur_byage</th>\n",
       "      <th>almp_aw_tot_dur_byage</th>\n",
       "      <th>se_tot_dur_byage</th>\n",
       "      <th>seeking1_tot_dur_byage</th>\n",
       "    </tr>\n",
       "  </thead>\n",
       "  <tbody>\n",
       "    <tr>\n",
       "      <th>0</th>\n",
       "      <td>7</td>\n",
       "      <td>2015</td>\n",
       "      <td>1</td>\n",
       "      <td>0</td>\n",
       "      <td>1</td>\n",
       "      <td>0</td>\n",
       "      <td>0</td>\n",
       "      <td>0</td>\n",
       "      <td>1</td>\n",
       "      <td>0</td>\n",
       "      <td>...</td>\n",
       "      <td>0.000000</td>\n",
       "      <td>0.000000</td>\n",
       "      <td>15.043478</td>\n",
       "      <td>0.000000</td>\n",
       "      <td>0.000000</td>\n",
       "      <td>0.000000</td>\n",
       "      <td>0.000000</td>\n",
       "      <td>0.000000</td>\n",
       "      <td>0.000000</td>\n",
       "      <td>0.000000</td>\n",
       "    </tr>\n",
       "    <tr>\n",
       "      <th>1</th>\n",
       "      <td>18</td>\n",
       "      <td>2010</td>\n",
       "      <td>1</td>\n",
       "      <td>1</td>\n",
       "      <td>0</td>\n",
       "      <td>0</td>\n",
       "      <td>0</td>\n",
       "      <td>0</td>\n",
       "      <td>0</td>\n",
       "      <td>0</td>\n",
       "      <td>...</td>\n",
       "      <td>0.000000</td>\n",
       "      <td>0.000000</td>\n",
       "      <td>0.000000</td>\n",
       "      <td>0.000000</td>\n",
       "      <td>0.000000</td>\n",
       "      <td>0.000000</td>\n",
       "      <td>0.000000</td>\n",
       "      <td>0.000000</td>\n",
       "      <td>0.000000</td>\n",
       "      <td>0.000000</td>\n",
       "    </tr>\n",
       "    <tr>\n",
       "      <th>2</th>\n",
       "      <td>18</td>\n",
       "      <td>2011</td>\n",
       "      <td>2</td>\n",
       "      <td>0</td>\n",
       "      <td>1</td>\n",
       "      <td>0</td>\n",
       "      <td>1</td>\n",
       "      <td>0</td>\n",
       "      <td>1</td>\n",
       "      <td>0</td>\n",
       "      <td>...</td>\n",
       "      <td>2.714286</td>\n",
       "      <td>2.714286</td>\n",
       "      <td>0.000000</td>\n",
       "      <td>0.000000</td>\n",
       "      <td>10.775510</td>\n",
       "      <td>0.000000</td>\n",
       "      <td>8.367347</td>\n",
       "      <td>0.000000</td>\n",
       "      <td>0.000000</td>\n",
       "      <td>9.836735</td>\n",
       "    </tr>\n",
       "    <tr>\n",
       "      <th>3</th>\n",
       "      <td>18</td>\n",
       "      <td>2012</td>\n",
       "      <td>3</td>\n",
       "      <td>0</td>\n",
       "      <td>1</td>\n",
       "      <td>0</td>\n",
       "      <td>1</td>\n",
       "      <td>0</td>\n",
       "      <td>1</td>\n",
       "      <td>0</td>\n",
       "      <td>...</td>\n",
       "      <td>4.200000</td>\n",
       "      <td>4.200000</td>\n",
       "      <td>0.000000</td>\n",
       "      <td>0.000000</td>\n",
       "      <td>12.100000</td>\n",
       "      <td>0.000000</td>\n",
       "      <td>9.400000</td>\n",
       "      <td>0.000000</td>\n",
       "      <td>0.000000</td>\n",
       "      <td>9.960000</td>\n",
       "    </tr>\n",
       "    <tr>\n",
       "      <th>4</th>\n",
       "      <td>18</td>\n",
       "      <td>2012</td>\n",
       "      <td>4</td>\n",
       "      <td>0</td>\n",
       "      <td>1</td>\n",
       "      <td>0</td>\n",
       "      <td>1</td>\n",
       "      <td>0</td>\n",
       "      <td>1</td>\n",
       "      <td>0</td>\n",
       "      <td>...</td>\n",
       "      <td>5.460000</td>\n",
       "      <td>5.460000</td>\n",
       "      <td>0.000000</td>\n",
       "      <td>0.000000</td>\n",
       "      <td>13.360000</td>\n",
       "      <td>0.000000</td>\n",
       "      <td>10.320000</td>\n",
       "      <td>0.000000</td>\n",
       "      <td>0.000000</td>\n",
       "      <td>10.280000</td>\n",
       "    </tr>\n",
       "    <tr>\n",
       "      <th>...</th>\n",
       "      <td>...</td>\n",
       "      <td>...</td>\n",
       "      <td>...</td>\n",
       "      <td>...</td>\n",
       "      <td>...</td>\n",
       "      <td>...</td>\n",
       "      <td>...</td>\n",
       "      <td>...</td>\n",
       "      <td>...</td>\n",
       "      <td>...</td>\n",
       "      <td>...</td>\n",
       "      <td>...</td>\n",
       "      <td>...</td>\n",
       "      <td>...</td>\n",
       "      <td>...</td>\n",
       "      <td>...</td>\n",
       "      <td>...</td>\n",
       "      <td>...</td>\n",
       "      <td>...</td>\n",
       "      <td>...</td>\n",
       "      <td>...</td>\n",
       "    </tr>\n",
       "    <tr>\n",
       "      <th>643685</th>\n",
       "      <td>1827860</td>\n",
       "      <td>2013</td>\n",
       "      <td>1</td>\n",
       "      <td>0</td>\n",
       "      <td>0</td>\n",
       "      <td>0</td>\n",
       "      <td>1</td>\n",
       "      <td>0</td>\n",
       "      <td>0</td>\n",
       "      <td>1</td>\n",
       "      <td>...</td>\n",
       "      <td>0.000000</td>\n",
       "      <td>0.000000</td>\n",
       "      <td>0.000000</td>\n",
       "      <td>0.000000</td>\n",
       "      <td>0.612903</td>\n",
       "      <td>0.000000</td>\n",
       "      <td>0.000000</td>\n",
       "      <td>0.000000</td>\n",
       "      <td>0.000000</td>\n",
       "      <td>0.000000</td>\n",
       "    </tr>\n",
       "    <tr>\n",
       "      <th>643686</th>\n",
       "      <td>1827860</td>\n",
       "      <td>2015</td>\n",
       "      <td>2</td>\n",
       "      <td>1</td>\n",
       "      <td>0</td>\n",
       "      <td>0</td>\n",
       "      <td>1</td>\n",
       "      <td>0</td>\n",
       "      <td>1</td>\n",
       "      <td>0</td>\n",
       "      <td>...</td>\n",
       "      <td>0.000000</td>\n",
       "      <td>0.000000</td>\n",
       "      <td>0.212121</td>\n",
       "      <td>0.212121</td>\n",
       "      <td>17.363636</td>\n",
       "      <td>0.000000</td>\n",
       "      <td>8.909091</td>\n",
       "      <td>0.000000</td>\n",
       "      <td>0.000000</td>\n",
       "      <td>7.121212</td>\n",
       "    </tr>\n",
       "    <tr>\n",
       "      <th>643687</th>\n",
       "      <td>1827860</td>\n",
       "      <td>2016</td>\n",
       "      <td>3</td>\n",
       "      <td>1</td>\n",
       "      <td>0</td>\n",
       "      <td>0</td>\n",
       "      <td>1</td>\n",
       "      <td>1</td>\n",
       "      <td>0</td>\n",
       "      <td>1</td>\n",
       "      <td>...</td>\n",
       "      <td>0.000000</td>\n",
       "      <td>0.000000</td>\n",
       "      <td>0.294118</td>\n",
       "      <td>0.205882</td>\n",
       "      <td>34.705882</td>\n",
       "      <td>0.000000</td>\n",
       "      <td>10.352941</td>\n",
       "      <td>1.705882</td>\n",
       "      <td>1.705882</td>\n",
       "      <td>23.911765</td>\n",
       "    </tr>\n",
       "    <tr>\n",
       "      <th>643688</th>\n",
       "      <td>1827869</td>\n",
       "      <td>2013</td>\n",
       "      <td>1</td>\n",
       "      <td>1</td>\n",
       "      <td>1</td>\n",
       "      <td>0</td>\n",
       "      <td>0</td>\n",
       "      <td>0</td>\n",
       "      <td>1</td>\n",
       "      <td>0</td>\n",
       "      <td>...</td>\n",
       "      <td>0.000000</td>\n",
       "      <td>0.000000</td>\n",
       "      <td>0.000000</td>\n",
       "      <td>0.000000</td>\n",
       "      <td>0.000000</td>\n",
       "      <td>0.525424</td>\n",
       "      <td>0.000000</td>\n",
       "      <td>0.000000</td>\n",
       "      <td>0.000000</td>\n",
       "      <td>0.000000</td>\n",
       "    </tr>\n",
       "    <tr>\n",
       "      <th>643689</th>\n",
       "      <td>1827869</td>\n",
       "      <td>2014</td>\n",
       "      <td>2</td>\n",
       "      <td>0</td>\n",
       "      <td>0</td>\n",
       "      <td>1</td>\n",
       "      <td>0</td>\n",
       "      <td>0</td>\n",
       "      <td>1</td>\n",
       "      <td>0</td>\n",
       "      <td>...</td>\n",
       "      <td>0.000000</td>\n",
       "      <td>0.666667</td>\n",
       "      <td>0.666667</td>\n",
       "      <td>0.000000</td>\n",
       "      <td>0.000000</td>\n",
       "      <td>8.950000</td>\n",
       "      <td>1.033333</td>\n",
       "      <td>0.083333</td>\n",
       "      <td>0.083333</td>\n",
       "      <td>8.133333</td>\n",
       "    </tr>\n",
       "  </tbody>\n",
       "</table>\n",
       "<p>643690 rows × 164 columns</p>\n",
       "</div>"
      ],
      "text/plain": [
       "         persnr  year  nrEntry  ltue  employed_before  receipt_leh_before  \\\n",
       "0             7  2015        1     0                1                   0   \n",
       "1            18  2010        1     1                0                   0   \n",
       "2            18  2011        2     0                1                   0   \n",
       "3            18  2012        3     0                1                   0   \n",
       "4            18  2012        4     0                1                   0   \n",
       "...         ...   ...      ...   ...              ...                 ...   \n",
       "643685  1827860  2013        1     0                0                   0   \n",
       "643686  1827860  2015        2     1                0                   0   \n",
       "643687  1827860  2016        3     1                0                   0   \n",
       "643688  1827869  2013        1     1                1                   0   \n",
       "643689  1827869  2014        2     0                0                   1   \n",
       "\n",
       "        receipt_lhg_before  se_before  ASU_notue_seeking_before  \\\n",
       "0                        0          0                         1   \n",
       "1                        0          0                         0   \n",
       "2                        1          0                         1   \n",
       "3                        1          0                         1   \n",
       "4                        1          0                         1   \n",
       "...                    ...        ...                       ...   \n",
       "643685                   1          0                         0   \n",
       "643686                   1          0                         1   \n",
       "643687                   1          1                         0   \n",
       "643688                   0          0                         1   \n",
       "643689                   0          0                         1   \n",
       "\n",
       "        ASU_other_before  ...  minijob_tot_dur_byage  ft_tot_dur_byage  \\\n",
       "0                      0  ...               0.000000          0.000000   \n",
       "1                      0  ...               0.000000          0.000000   \n",
       "2                      0  ...               2.714286          2.714286   \n",
       "3                      0  ...               4.200000          4.200000   \n",
       "4                      0  ...               5.460000          5.460000   \n",
       "...                  ...  ...                    ...               ...   \n",
       "643685                 1  ...               0.000000          0.000000   \n",
       "643686                 0  ...               0.000000          0.000000   \n",
       "643687                 1  ...               0.000000          0.000000   \n",
       "643688                 0  ...               0.000000          0.000000   \n",
       "643689                 0  ...               0.000000          0.666667   \n",
       "\n",
       "        befrist_tot_dur_byage  leih_tot_dur_byage  LHG_tot_dur_byage  \\\n",
       "0                   15.043478            0.000000           0.000000   \n",
       "1                    0.000000            0.000000           0.000000   \n",
       "2                    0.000000            0.000000          10.775510   \n",
       "3                    0.000000            0.000000          12.100000   \n",
       "4                    0.000000            0.000000          13.360000   \n",
       "...                       ...                 ...                ...   \n",
       "643685               0.000000            0.000000           0.612903   \n",
       "643686               0.212121            0.212121          17.363636   \n",
       "643687               0.294118            0.205882          34.705882   \n",
       "643688               0.000000            0.000000           0.000000   \n",
       "643689               0.666667            0.000000           0.000000   \n",
       "\n",
       "        LEH_tot_dur_byage  almp_tot_dur_byage  almp_aw_tot_dur_byage  \\\n",
       "0                0.000000            0.000000               0.000000   \n",
       "1                0.000000            0.000000               0.000000   \n",
       "2                0.000000            8.367347               0.000000   \n",
       "3                0.000000            9.400000               0.000000   \n",
       "4                0.000000           10.320000               0.000000   \n",
       "...                   ...                 ...                    ...   \n",
       "643685           0.000000            0.000000               0.000000   \n",
       "643686           0.000000            8.909091               0.000000   \n",
       "643687           0.000000           10.352941               1.705882   \n",
       "643688           0.525424            0.000000               0.000000   \n",
       "643689           8.950000            1.033333               0.083333   \n",
       "\n",
       "        se_tot_dur_byage  seeking1_tot_dur_byage  \n",
       "0               0.000000                0.000000  \n",
       "1               0.000000                0.000000  \n",
       "2               0.000000                9.836735  \n",
       "3               0.000000                9.960000  \n",
       "4               0.000000               10.280000  \n",
       "...                  ...                     ...  \n",
       "643685          0.000000                0.000000  \n",
       "643686          0.000000                7.121212  \n",
       "643687          1.705882               23.911765  \n",
       "643688          0.000000                0.000000  \n",
       "643689          0.083333                8.133333  \n",
       "\n",
       "[643690 rows x 164 columns]"
      ]
     },
     "execution_count": 10,
     "metadata": {},
     "output_type": "execute_result"
    }
   ],
   "source": [
    "siab"
   ]
  },
  {
   "cell_type": "markdown",
   "id": "1f87e805",
   "metadata": {
    "papermill": {
     "duration": 0.010335,
     "end_time": "2025-08-19T18:52:55.622040",
     "exception": false,
     "start_time": "2025-08-19T18:52:55.611705",
     "status": "completed"
    },
    "tags": []
   },
   "source": [
    "# Splitting Data and Setting Training Data Size"
   ]
  },
  {
   "cell_type": "code",
   "execution_count": 11,
   "id": "910ae358",
   "metadata": {
    "execution": {
     "iopub.execute_input": "2025-08-19T18:52:55.649327Z",
     "iopub.status.busy": "2025-08-19T18:52:55.649024Z",
     "iopub.status.idle": "2025-08-19T18:52:55.921379Z",
     "shell.execute_reply": "2025-08-19T18:52:55.920322Z"
    },
    "papermill": {
     "duration": 0.291384,
     "end_time": "2025-08-19T18:52:55.923251",
     "exception": false,
     "start_time": "2025-08-19T18:52:55.631867",
     "status": "completed"
    },
    "tags": []
   },
   "outputs": [],
   "source": [
    "from fairness_multiverse.universe import sample_by_year_size\n",
    "\n",
    "siab_train = sample_by_year_size(siab,\n",
    "                               training_year=universe[\"training_year\"],\n",
    "                               training_size=universe[\"training_size\"])"
   ]
  },
  {
   "cell_type": "code",
   "execution_count": 12,
   "id": "919c8ff5",
   "metadata": {
    "execution": {
     "iopub.execute_input": "2025-08-19T18:52:55.945412Z",
     "iopub.status.busy": "2025-08-19T18:52:55.944541Z",
     "iopub.status.idle": "2025-08-19T18:52:55.953457Z",
     "shell.execute_reply": "2025-08-19T18:52:55.952103Z"
    },
    "papermill": {
     "duration": 0.021092,
     "end_time": "2025-08-19T18:52:55.954758",
     "exception": false,
     "start_time": "2025-08-19T18:52:55.933666",
     "status": "completed"
    },
    "tags": []
   },
   "outputs": [
    {
     "data": {
      "text/plain": [
       "(1000, 164)"
      ]
     },
     "execution_count": 12,
     "metadata": {},
     "output_type": "execute_result"
    }
   ],
   "source": [
    "siab_train.shape"
   ]
  },
  {
   "cell_type": "code",
   "execution_count": 13,
   "id": "feb13bf4",
   "metadata": {
    "execution": {
     "iopub.execute_input": "2025-08-19T18:52:55.980911Z",
     "iopub.status.busy": "2025-08-19T18:52:55.979755Z",
     "iopub.status.idle": "2025-08-19T18:52:55.993593Z",
     "shell.execute_reply": "2025-08-19T18:52:55.992416Z"
    },
    "papermill": {
     "duration": 0.027086,
     "end_time": "2025-08-19T18:52:55.995093",
     "exception": false,
     "start_time": "2025-08-19T18:52:55.968007",
     "status": "completed"
    },
    "tags": []
   },
   "outputs": [
    {
     "data": {
      "text/plain": [
       "year\n",
       "2014    1000\n",
       "dtype: int64"
      ]
     },
     "metadata": {},
     "output_type": "display_data"
    }
   ],
   "source": [
    "display(siab_train.groupby(\"year\").size())"
   ]
  },
  {
   "cell_type": "code",
   "execution_count": 14,
   "id": "0997782f",
   "metadata": {
    "execution": {
     "iopub.execute_input": "2025-08-19T18:52:56.032876Z",
     "iopub.status.busy": "2025-08-19T18:52:56.031428Z",
     "iopub.status.idle": "2025-08-19T18:52:56.313260Z",
     "shell.execute_reply": "2025-08-19T18:52:56.312568Z"
    },
    "papermill": {
     "duration": 0.306944,
     "end_time": "2025-08-19T18:52:56.315653",
     "exception": false,
     "start_time": "2025-08-19T18:52:56.008709",
     "status": "completed"
    },
    "tags": []
   },
   "outputs": [],
   "source": [
    "#siab_train = siab_s[siab_s.year < 2015]\n",
    "siab_calib = siab[siab.year == 2015]\n",
    "siab_test = siab[siab.year == 2016]"
   ]
  },
  {
   "cell_type": "code",
   "execution_count": 15,
   "id": "2c1e4012",
   "metadata": {
    "execution": {
     "iopub.execute_input": "2025-08-19T18:52:56.354510Z",
     "iopub.status.busy": "2025-08-19T18:52:56.353342Z",
     "iopub.status.idle": "2025-08-19T18:52:56.361373Z",
     "shell.execute_reply": "2025-08-19T18:52:56.359710Z"
    },
    "papermill": {
     "duration": 0.02383,
     "end_time": "2025-08-19T18:52:56.362806",
     "exception": false,
     "start_time": "2025-08-19T18:52:56.338976",
     "status": "completed"
    },
    "tags": []
   },
   "outputs": [],
   "source": [
    "#siab_calib.shape"
   ]
  },
  {
   "cell_type": "code",
   "execution_count": 16,
   "id": "f66b54ca",
   "metadata": {
    "execution": {
     "iopub.execute_input": "2025-08-19T18:52:56.388558Z",
     "iopub.status.busy": "2025-08-19T18:52:56.387295Z",
     "iopub.status.idle": "2025-08-19T18:52:56.395115Z",
     "shell.execute_reply": "2025-08-19T18:52:56.393531Z"
    },
    "papermill": {
     "duration": 0.020702,
     "end_time": "2025-08-19T18:52:56.396586",
     "exception": false,
     "start_time": "2025-08-19T18:52:56.375884",
     "status": "completed"
    },
    "tags": []
   },
   "outputs": [],
   "source": [
    "#siab_test.shape"
   ]
  },
  {
   "cell_type": "code",
   "execution_count": 17,
   "id": "27e4384d",
   "metadata": {
    "execution": {
     "iopub.execute_input": "2025-08-19T18:52:56.421723Z",
     "iopub.status.busy": "2025-08-19T18:52:56.420597Z",
     "iopub.status.idle": "2025-08-19T18:52:56.446367Z",
     "shell.execute_reply": "2025-08-19T18:52:56.445565Z"
    },
    "papermill": {
     "duration": 0.039531,
     "end_time": "2025-08-19T18:52:56.448069",
     "exception": false,
     "start_time": "2025-08-19T18:52:56.408538",
     "status": "completed"
    },
    "tags": []
   },
   "outputs": [],
   "source": [
    "X_train = siab_train.iloc[:,4:164]\n",
    "y_train = siab_train.iloc[:, [3]]"
   ]
  },
  {
   "cell_type": "code",
   "execution_count": 18,
   "id": "08ee8389",
   "metadata": {
    "execution": {
     "iopub.execute_input": "2025-08-19T18:52:56.482248Z",
     "iopub.status.busy": "2025-08-19T18:52:56.481242Z",
     "iopub.status.idle": "2025-08-19T18:52:56.538070Z",
     "shell.execute_reply": "2025-08-19T18:52:56.536784Z"
    },
    "papermill": {
     "duration": 0.075366,
     "end_time": "2025-08-19T18:52:56.542426",
     "exception": false,
     "start_time": "2025-08-19T18:52:56.467060",
     "status": "completed"
    },
    "tags": []
   },
   "outputs": [],
   "source": [
    "X_calib = siab_calib.iloc[:,4:164]\n",
    "y_calib = siab_calib.iloc[:, [3]]"
   ]
  },
  {
   "cell_type": "code",
   "execution_count": 19,
   "id": "b7ff42e0",
   "metadata": {
    "execution": {
     "iopub.execute_input": "2025-08-19T18:52:56.575458Z",
     "iopub.status.busy": "2025-08-19T18:52:56.574529Z",
     "iopub.status.idle": "2025-08-19T18:52:56.631564Z",
     "shell.execute_reply": "2025-08-19T18:52:56.630782Z"
    },
    "papermill": {
     "duration": 0.077051,
     "end_time": "2025-08-19T18:52:56.639268",
     "exception": false,
     "start_time": "2025-08-19T18:52:56.562217",
     "status": "completed"
    },
    "tags": []
   },
   "outputs": [],
   "source": [
    "X_test = siab_test.iloc[:,4:164]\n",
    "y_true = siab_test.iloc[:, [3]]"
   ]
  },
  {
   "cell_type": "code",
   "execution_count": 20,
   "id": "0275101e",
   "metadata": {
    "execution": {
     "iopub.execute_input": "2025-08-19T18:52:56.667918Z",
     "iopub.status.busy": "2025-08-19T18:52:56.666870Z",
     "iopub.status.idle": "2025-08-19T18:52:56.783353Z",
     "shell.execute_reply": "2025-08-19T18:52:56.782220Z"
    },
    "papermill": {
     "duration": 0.129525,
     "end_time": "2025-08-19T18:52:56.785049",
     "exception": false,
     "start_time": "2025-08-19T18:52:56.655524",
     "status": "completed"
    },
    "tags": []
   },
   "outputs": [],
   "source": [
    "# Auxiliary data needed downstream in the pipeline\n",
    "\n",
    "org_train = X_train.copy()\n",
    "org_test = X_test.copy()\n",
    "org_calib = X_calib.copy()"
   ]
  },
  {
   "cell_type": "markdown",
   "id": "b461e618",
   "metadata": {
    "papermill": {
     "duration": 0.010692,
     "end_time": "2025-08-19T18:52:56.806480",
     "exception": false,
     "start_time": "2025-08-19T18:52:56.795788",
     "status": "completed"
    },
    "tags": []
   },
   "source": [
    "# Preprocessing Data"
   ]
  },
  {
   "cell_type": "code",
   "execution_count": 21,
   "id": "78e74c4b",
   "metadata": {
    "execution": {
     "iopub.execute_input": "2025-08-19T18:52:56.828244Z",
     "iopub.status.busy": "2025-08-19T18:52:56.827669Z",
     "iopub.status.idle": "2025-08-19T18:52:56.834327Z",
     "shell.execute_reply": "2025-08-19T18:52:56.833418Z"
    },
    "papermill": {
     "duration": 0.026268,
     "end_time": "2025-08-19T18:52:56.842514",
     "exception": false,
     "start_time": "2025-08-19T18:52:56.816246",
     "status": "completed"
    },
    "tags": []
   },
   "outputs": [],
   "source": [
    "# EXCLUDE PROTECTED FEATURES\n",
    "# --------------------------\n",
    "\n",
    "excluded_features = universe[\"exclude_features\"].split(\"-\")\n",
    "excluded_features_dictionary = {\n",
    "    \"nationality\": [\"maxdeutsch1\", \"maxdeutsch.Missing.\"],\n",
    "    \"sex\": [\"frau1\"],\n",
    "    \"age\": [\"age\"],\n",
    "}"
   ]
  },
  {
   "cell_type": "code",
   "execution_count": 22,
   "id": "f8e63555",
   "metadata": {
    "execution": {
     "iopub.execute_input": "2025-08-19T18:52:56.865769Z",
     "iopub.status.busy": "2025-08-19T18:52:56.865278Z",
     "iopub.status.idle": "2025-08-19T18:52:56.870577Z",
     "shell.execute_reply": "2025-08-19T18:52:56.869899Z"
    },
    "papermill": {
     "duration": 0.018506,
     "end_time": "2025-08-19T18:52:56.871826",
     "exception": false,
     "start_time": "2025-08-19T18:52:56.853320",
     "status": "completed"
    },
    "tags": []
   },
   "outputs": [],
   "source": [
    "excluded_features_columns = [\n",
    "    excluded_features_dictionary[f] for f in excluded_features if len(f) > 0 and f != \"none\"\n",
    "]"
   ]
  },
  {
   "cell_type": "code",
   "execution_count": 23,
   "id": "da781f7c",
   "metadata": {
    "execution": {
     "iopub.execute_input": "2025-08-19T18:52:56.895233Z",
     "iopub.status.busy": "2025-08-19T18:52:56.894695Z",
     "iopub.status.idle": "2025-08-19T18:52:56.898578Z",
     "shell.execute_reply": "2025-08-19T18:52:56.898030Z"
    },
    "papermill": {
     "duration": 0.016952,
     "end_time": "2025-08-19T18:52:56.899916",
     "exception": false,
     "start_time": "2025-08-19T18:52:56.882964",
     "status": "completed"
    },
    "tags": []
   },
   "outputs": [],
   "source": [
    "from fairness_multiverse.universe import flatten_once\n",
    "\n",
    "excluded_features_columns = flatten_once(excluded_features_columns)"
   ]
  },
  {
   "cell_type": "code",
   "execution_count": 24,
   "id": "37fef0f0",
   "metadata": {
    "execution": {
     "iopub.execute_input": "2025-08-19T18:52:56.936065Z",
     "iopub.status.busy": "2025-08-19T18:52:56.934484Z",
     "iopub.status.idle": "2025-08-19T18:52:56.944346Z",
     "shell.execute_reply": "2025-08-19T18:52:56.943520Z"
    },
    "papermill": {
     "duration": 0.040612,
     "end_time": "2025-08-19T18:52:56.959634",
     "exception": false,
     "start_time": "2025-08-19T18:52:56.919022",
     "status": "completed"
    },
    "tags": []
   },
   "outputs": [
    {
     "name": "stdout",
     "output_type": "stream",
     "text": [
      "Dropping features: ['maxdeutsch1', 'maxdeutsch.Missing.']\n"
     ]
    }
   ],
   "source": [
    "if len(excluded_features_columns) > 0:\n",
    "    print(f\"Dropping features: {excluded_features_columns}\")\n",
    "    X_train.drop(excluded_features_columns, axis=1, inplace=True)"
   ]
  },
  {
   "cell_type": "code",
   "execution_count": 25,
   "id": "d029e3e9",
   "metadata": {
    "execution": {
     "iopub.execute_input": "2025-08-19T18:52:56.983674Z",
     "iopub.status.busy": "2025-08-19T18:52:56.982354Z",
     "iopub.status.idle": "2025-08-19T18:52:57.042737Z",
     "shell.execute_reply": "2025-08-19T18:52:57.042070Z"
    },
    "papermill": {
     "duration": 0.073517,
     "end_time": "2025-08-19T18:52:57.043896",
     "exception": false,
     "start_time": "2025-08-19T18:52:56.970379",
     "status": "completed"
    },
    "tags": []
   },
   "outputs": [
    {
     "name": "stdout",
     "output_type": "stream",
     "text": [
      "Dropping features: ['maxdeutsch1', 'maxdeutsch.Missing.']\n"
     ]
    }
   ],
   "source": [
    "if len(excluded_features_columns) > 0:\n",
    "    print(f\"Dropping features: {excluded_features_columns}\")\n",
    "    X_test.drop(excluded_features_columns, axis=1, inplace=True)"
   ]
  },
  {
   "cell_type": "code",
   "execution_count": 26,
   "id": "01d571f0",
   "metadata": {
    "execution": {
     "iopub.execute_input": "2025-08-19T18:52:57.067506Z",
     "iopub.status.busy": "2025-08-19T18:52:57.066306Z",
     "iopub.status.idle": "2025-08-19T18:52:57.132704Z",
     "shell.execute_reply": "2025-08-19T18:52:57.131932Z"
    },
    "papermill": {
     "duration": 0.07935,
     "end_time": "2025-08-19T18:52:57.134062",
     "exception": false,
     "start_time": "2025-08-19T18:52:57.054712",
     "status": "completed"
    },
    "tags": []
   },
   "outputs": [
    {
     "name": "stdout",
     "output_type": "stream",
     "text": [
      "Dropping features: ['maxdeutsch1', 'maxdeutsch.Missing.']\n"
     ]
    }
   ],
   "source": [
    "if len(excluded_features_columns) > 0:\n",
    "    print(f\"Dropping features: {excluded_features_columns}\")\n",
    "    X_calib.drop(excluded_features_columns, axis=1, inplace=True)"
   ]
  },
  {
   "cell_type": "code",
   "execution_count": 27,
   "id": "3037356e",
   "metadata": {
    "execution": {
     "iopub.execute_input": "2025-08-19T18:52:57.159062Z",
     "iopub.status.busy": "2025-08-19T18:52:57.158129Z",
     "iopub.status.idle": "2025-08-19T18:52:57.167977Z",
     "shell.execute_reply": "2025-08-19T18:52:57.166755Z"
    },
    "papermill": {
     "duration": 0.023419,
     "end_time": "2025-08-19T18:52:57.169679",
     "exception": false,
     "start_time": "2025-08-19T18:52:57.146260",
     "status": "completed"
    },
    "tags": []
   },
   "outputs": [],
   "source": [
    "# EXCLUDE CERTAIN SUBGROUPS\n",
    "# -------------------------\n",
    "\n",
    "mode = universe.get(\"exclude_subgroups\", \"keep-all\") # Defaults to \"keep-all\" if the key is missing."
   ]
  },
  {
   "cell_type": "code",
   "execution_count": 28,
   "id": "9d1e63fd",
   "metadata": {
    "execution": {
     "iopub.execute_input": "2025-08-19T18:52:57.200321Z",
     "iopub.status.busy": "2025-08-19T18:52:57.195533Z",
     "iopub.status.idle": "2025-08-19T18:52:57.211327Z",
     "shell.execute_reply": "2025-08-19T18:52:57.209796Z"
    },
    "papermill": {
     "duration": 0.030567,
     "end_time": "2025-08-19T18:52:57.213460",
     "exception": false,
     "start_time": "2025-08-19T18:52:57.182893",
     "status": "completed"
    },
    "tags": []
   },
   "outputs": [],
   "source": [
    "if mode == \"keep-all\":\n",
    "    keep_mask = pd.Series(True, index=org_train.index)\n",
    "\n",
    "elif mode == \"drop-non-german\":\n",
    "    keep_mask = (org_train[\"maxdeutsch1\"] == 1) & (org_train[\"maxdeutsch.Missing.\"] == 0)\n",
    "\n",
    "else:\n",
    "    raise ValueError(f\"Unsupported mode for exclude_subgroups: {mode}\")"
   ]
  },
  {
   "cell_type": "code",
   "execution_count": 29,
   "id": "d3b65474",
   "metadata": {
    "execution": {
     "iopub.execute_input": "2025-08-19T18:52:57.246091Z",
     "iopub.status.busy": "2025-08-19T18:52:57.244838Z",
     "iopub.status.idle": "2025-08-19T18:52:57.256525Z",
     "shell.execute_reply": "2025-08-19T18:52:57.255302Z"
    },
    "papermill": {
     "duration": 0.028946,
     "end_time": "2025-08-19T18:52:57.260885",
     "exception": false,
     "start_time": "2025-08-19T18:52:57.231939",
     "status": "completed"
    },
    "tags": []
   },
   "outputs": [
    {
     "name": "stdout",
     "output_type": "stream",
     "text": [
      "Dropping 147 rows (14.70%) where mode='drop-non-german'\n"
     ]
    }
   ],
   "source": [
    "n_drop = (~keep_mask).sum() # Calculates how many rows are set to be dropped\n",
    "if n_drop > 0:\n",
    "    pct = n_drop / len(keep_mask) * 100\n",
    "    print(f\"Dropping {n_drop} rows ({pct:.2f}%) where mode='{mode}'\")"
   ]
  },
  {
   "cell_type": "code",
   "execution_count": 30,
   "id": "f44389b3",
   "metadata": {
    "execution": {
     "iopub.execute_input": "2025-08-19T18:52:57.292384Z",
     "iopub.status.busy": "2025-08-19T18:52:57.290648Z",
     "iopub.status.idle": "2025-08-19T18:52:57.306757Z",
     "shell.execute_reply": "2025-08-19T18:52:57.305593Z"
    },
    "papermill": {
     "duration": 0.030756,
     "end_time": "2025-08-19T18:52:57.308364",
     "exception": false,
     "start_time": "2025-08-19T18:52:57.277608",
     "status": "completed"
    },
    "tags": []
   },
   "outputs": [],
   "source": [
    "X_train = X_train[keep_mask]"
   ]
  },
  {
   "cell_type": "code",
   "execution_count": 31,
   "id": "ceca8c2a",
   "metadata": {
    "execution": {
     "iopub.execute_input": "2025-08-19T18:52:57.342452Z",
     "iopub.status.busy": "2025-08-19T18:52:57.341389Z",
     "iopub.status.idle": "2025-08-19T18:52:57.351097Z",
     "shell.execute_reply": "2025-08-19T18:52:57.349413Z"
    },
    "papermill": {
     "duration": 0.027779,
     "end_time": "2025-08-19T18:52:57.352788",
     "exception": false,
     "start_time": "2025-08-19T18:52:57.325009",
     "status": "completed"
    },
    "tags": []
   },
   "outputs": [],
   "source": [
    "y_train = y_train[keep_mask]"
   ]
  },
  {
   "cell_type": "markdown",
   "id": "04d31e2f",
   "metadata": {
    "papermill": {
     "duration": 0.011022,
     "end_time": "2025-08-19T18:52:57.374372",
     "exception": false,
     "start_time": "2025-08-19T18:52:57.363350",
     "status": "completed"
    },
    "tags": []
   },
   "source": [
    "# Model Training"
   ]
  },
  {
   "cell_type": "code",
   "execution_count": 32,
   "id": "db991733",
   "metadata": {
    "execution": {
     "iopub.execute_input": "2025-08-19T18:52:57.399084Z",
     "iopub.status.busy": "2025-08-19T18:52:57.398493Z",
     "iopub.status.idle": "2025-08-19T18:52:57.494170Z",
     "shell.execute_reply": "2025-08-19T18:52:57.493510Z"
    },
    "papermill": {
     "duration": 0.109534,
     "end_time": "2025-08-19T18:52:57.495512",
     "exception": false,
     "start_time": "2025-08-19T18:52:57.385978",
     "status": "completed"
    },
    "tags": []
   },
   "outputs": [],
   "source": [
    "from sklearn.linear_model import LogisticRegression\n",
    "from sklearn.ensemble import GradientBoostingClassifier, RandomForestClassifier\n",
    "\n",
    "if (universe[\"model\"] == \"logreg\"):\n",
    "    model = LogisticRegression() #penalty=\"none\", solver=\"newton-cg\", max_iter=1)\n",
    "elif (universe[\"model\"] == \"penalized_logreg\"):\n",
    "    model = LogisticRegression(penalty=\"l2\", C=0.1) #, solver=\"newton-cg\", max_iter=1)\n",
    "elif (universe[\"model\"] == \"rf\"):\n",
    "    model = RandomForestClassifier() # n_estimators=100, n_jobs=-1\n",
    "elif (universe[\"model\"] == \"gbm\"):\n",
    "    model = GradientBoostingClassifier()\n",
    "elif (universe[\"model\"] == \"elasticnet\"):\n",
    "    model = LogisticRegression(penalty = 'elasticnet', solver = 'saga', l1_ratio = 0.5) # max_iter=5000\n",
    "else:\n",
    "    raise \"Unsupported universe.model\""
   ]
  },
  {
   "cell_type": "code",
   "execution_count": 33,
   "id": "a4b5cd25",
   "metadata": {
    "execution": {
     "iopub.execute_input": "2025-08-19T18:52:57.521215Z",
     "iopub.status.busy": "2025-08-19T18:52:57.520071Z",
     "iopub.status.idle": "2025-08-19T18:52:57.526841Z",
     "shell.execute_reply": "2025-08-19T18:52:57.525940Z"
    },
    "papermill": {
     "duration": 0.021753,
     "end_time": "2025-08-19T18:52:57.528264",
     "exception": false,
     "start_time": "2025-08-19T18:52:57.506511",
     "status": "completed"
    },
    "tags": []
   },
   "outputs": [],
   "source": [
    "from sklearn.pipeline import Pipeline\n",
    "from sklearn.preprocessing import StandardScaler\n",
    "\n",
    "model = Pipeline([\n",
    "    #(\"continuous_processor\", continuous_processor),\n",
    "    #(\"categorical_preprocessor\", categorical_preprocessor),\n",
    "    (\"scale\", StandardScaler() if universe[\"scale\"] == \"scale\" else None), \n",
    "    (\"model\", model),\n",
    "])"
   ]
  },
  {
   "cell_type": "code",
   "execution_count": 34,
   "id": "283a904d",
   "metadata": {
    "execution": {
     "iopub.execute_input": "2025-08-19T18:52:57.554458Z",
     "iopub.status.busy": "2025-08-19T18:52:57.553236Z",
     "iopub.status.idle": "2025-08-19T18:52:57.616746Z",
     "shell.execute_reply": "2025-08-19T18:52:57.616118Z"
    },
    "papermill": {
     "duration": 0.084493,
     "end_time": "2025-08-19T18:52:57.624588",
     "exception": false,
     "start_time": "2025-08-19T18:52:57.540095",
     "status": "completed"
    },
    "tags": []
   },
   "outputs": [
    {
     "name": "stderr",
     "output_type": "stream",
     "text": [
      "/dss/dsshome1/0C/ra93lal2/.local/share/virtualenvs/CMA_Fairness_v2-3j10GkSs/lib/python3.10/site-packages/sklearn/linear_model/_logistic.py:444: ConvergenceWarning: lbfgs failed to converge (status=1):\n",
      "STOP: TOTAL NO. of ITERATIONS REACHED LIMIT.\n",
      "\n",
      "Increase the number of iterations (max_iter) or scale the data as shown in:\n",
      "    https://scikit-learn.org/stable/modules/preprocessing.html\n",
      "Please also refer to the documentation for alternative solver options:\n",
      "    https://scikit-learn.org/stable/modules/linear_model.html#logistic-regression\n",
      "  n_iter_i = _check_optimize_result(\n"
     ]
    },
    {
     "data": {
      "text/html": [
       "<style>#sk-container-id-1 {color: black;background-color: white;}#sk-container-id-1 pre{padding: 0;}#sk-container-id-1 div.sk-toggleable {background-color: white;}#sk-container-id-1 label.sk-toggleable__label {cursor: pointer;display: block;width: 100%;margin-bottom: 0;padding: 0.3em;box-sizing: border-box;text-align: center;}#sk-container-id-1 label.sk-toggleable__label-arrow:before {content: \"▸\";float: left;margin-right: 0.25em;color: #696969;}#sk-container-id-1 label.sk-toggleable__label-arrow:hover:before {color: black;}#sk-container-id-1 div.sk-estimator:hover label.sk-toggleable__label-arrow:before {color: black;}#sk-container-id-1 div.sk-toggleable__content {max-height: 0;max-width: 0;overflow: hidden;text-align: left;background-color: #f0f8ff;}#sk-container-id-1 div.sk-toggleable__content pre {margin: 0.2em;color: black;border-radius: 0.25em;background-color: #f0f8ff;}#sk-container-id-1 input.sk-toggleable__control:checked~div.sk-toggleable__content {max-height: 200px;max-width: 100%;overflow: auto;}#sk-container-id-1 input.sk-toggleable__control:checked~label.sk-toggleable__label-arrow:before {content: \"▾\";}#sk-container-id-1 div.sk-estimator input.sk-toggleable__control:checked~label.sk-toggleable__label {background-color: #d4ebff;}#sk-container-id-1 div.sk-label input.sk-toggleable__control:checked~label.sk-toggleable__label {background-color: #d4ebff;}#sk-container-id-1 input.sk-hidden--visually {border: 0;clip: rect(1px 1px 1px 1px);clip: rect(1px, 1px, 1px, 1px);height: 1px;margin: -1px;overflow: hidden;padding: 0;position: absolute;width: 1px;}#sk-container-id-1 div.sk-estimator {font-family: monospace;background-color: #f0f8ff;border: 1px dotted black;border-radius: 0.25em;box-sizing: border-box;margin-bottom: 0.5em;}#sk-container-id-1 div.sk-estimator:hover {background-color: #d4ebff;}#sk-container-id-1 div.sk-parallel-item::after {content: \"\";width: 100%;border-bottom: 1px solid gray;flex-grow: 1;}#sk-container-id-1 div.sk-label:hover label.sk-toggleable__label {background-color: #d4ebff;}#sk-container-id-1 div.sk-serial::before {content: \"\";position: absolute;border-left: 1px solid gray;box-sizing: border-box;top: 0;bottom: 0;left: 50%;z-index: 0;}#sk-container-id-1 div.sk-serial {display: flex;flex-direction: column;align-items: center;background-color: white;padding-right: 0.2em;padding-left: 0.2em;position: relative;}#sk-container-id-1 div.sk-item {position: relative;z-index: 1;}#sk-container-id-1 div.sk-parallel {display: flex;align-items: stretch;justify-content: center;background-color: white;position: relative;}#sk-container-id-1 div.sk-item::before, #sk-container-id-1 div.sk-parallel-item::before {content: \"\";position: absolute;border-left: 1px solid gray;box-sizing: border-box;top: 0;bottom: 0;left: 50%;z-index: -1;}#sk-container-id-1 div.sk-parallel-item {display: flex;flex-direction: column;z-index: 1;position: relative;background-color: white;}#sk-container-id-1 div.sk-parallel-item:first-child::after {align-self: flex-end;width: 50%;}#sk-container-id-1 div.sk-parallel-item:last-child::after {align-self: flex-start;width: 50%;}#sk-container-id-1 div.sk-parallel-item:only-child::after {width: 0;}#sk-container-id-1 div.sk-dashed-wrapped {border: 1px dashed gray;margin: 0 0.4em 0.5em 0.4em;box-sizing: border-box;padding-bottom: 0.4em;background-color: white;}#sk-container-id-1 div.sk-label label {font-family: monospace;font-weight: bold;display: inline-block;line-height: 1.2em;}#sk-container-id-1 div.sk-label-container {text-align: center;}#sk-container-id-1 div.sk-container {/* jupyter's `normalize.less` sets `[hidden] { display: none; }` but bootstrap.min.css set `[hidden] { display: none !important; }` so we also need the `!important` here to be able to override the default hidden behavior on the sphinx rendered scikit-learn.org. See: https://github.com/scikit-learn/scikit-learn/issues/21755 */display: inline-block !important;position: relative;}#sk-container-id-1 div.sk-text-repr-fallback {display: none;}</style><div id=\"sk-container-id-1\" class=\"sk-top-container\"><div class=\"sk-text-repr-fallback\"><pre>Pipeline(steps=[(&#x27;scale&#x27;, None), (&#x27;model&#x27;, LogisticRegression())])</pre><b>In a Jupyter environment, please rerun this cell to show the HTML representation or trust the notebook. <br />On GitHub, the HTML representation is unable to render, please try loading this page with nbviewer.org.</b></div><div class=\"sk-container\" hidden><div class=\"sk-item sk-dashed-wrapped\"><div class=\"sk-label-container\"><div class=\"sk-label sk-toggleable\"><input class=\"sk-toggleable__control sk-hidden--visually\" id=\"sk-estimator-id-1\" type=\"checkbox\" ><label for=\"sk-estimator-id-1\" class=\"sk-toggleable__label sk-toggleable__label-arrow\">Pipeline</label><div class=\"sk-toggleable__content\"><pre>Pipeline(steps=[(&#x27;scale&#x27;, None), (&#x27;model&#x27;, LogisticRegression())])</pre></div></div></div><div class=\"sk-serial\"><div class=\"sk-item\"><div class=\"sk-estimator sk-toggleable\"><input class=\"sk-toggleable__control sk-hidden--visually\" id=\"sk-estimator-id-2\" type=\"checkbox\" ><label for=\"sk-estimator-id-2\" class=\"sk-toggleable__label sk-toggleable__label-arrow\">None</label><div class=\"sk-toggleable__content\"><pre>None</pre></div></div></div><div class=\"sk-item\"><div class=\"sk-estimator sk-toggleable\"><input class=\"sk-toggleable__control sk-hidden--visually\" id=\"sk-estimator-id-3\" type=\"checkbox\" ><label for=\"sk-estimator-id-3\" class=\"sk-toggleable__label sk-toggleable__label-arrow\">LogisticRegression</label><div class=\"sk-toggleable__content\"><pre>LogisticRegression()</pre></div></div></div></div></div></div></div>"
      ],
      "text/plain": [
       "Pipeline(steps=[('scale', None), ('model', LogisticRegression())])"
      ]
     },
     "execution_count": 34,
     "metadata": {},
     "output_type": "execute_result"
    }
   ],
   "source": [
    "model.fit(X_train, y_train.values.ravel())"
   ]
  },
  {
   "cell_type": "code",
   "execution_count": 35,
   "id": "6e15e313",
   "metadata": {
    "execution": {
     "iopub.execute_input": "2025-08-19T18:52:57.681950Z",
     "iopub.status.busy": "2025-08-19T18:52:57.680908Z",
     "iopub.status.idle": "2025-08-19T18:52:57.783853Z",
     "shell.execute_reply": "2025-08-19T18:52:57.782631Z"
    },
    "papermill": {
     "duration": 0.135345,
     "end_time": "2025-08-19T18:52:57.786755",
     "exception": false,
     "start_time": "2025-08-19T18:52:57.651410",
     "status": "completed"
    },
    "tags": []
   },
   "outputs": [
    {
     "data": {
      "text/plain": [
       "0.8474751978597703"
      ]
     },
     "execution_count": 35,
     "metadata": {},
     "output_type": "execute_result"
    }
   ],
   "source": [
    "from fairness_multiverse.universe import predict_w_threshold\n",
    "\n",
    "probs_test = model.predict_proba(X_test)\n",
    "\n",
    "'''\n",
    "Below code returns a boolean array (or binary 0/1 array depending on how it’s used) where each element \n",
    "is True if the probability of class 1 is greater than or equal to the threshold, and False otherwise.\n",
    "'''\n",
    "y_pred_default = predict_w_threshold(probs_test, 0.5)\n",
    "\n",
    "from sklearn.metrics import accuracy_score\n",
    "\n",
    "# Naive prediction\n",
    "accuracy_score(y_true = y_true, y_pred = y_pred_default)"
   ]
  },
  {
   "cell_type": "code",
   "execution_count": 36,
   "id": "6f14067c",
   "metadata": {
    "execution": {
     "iopub.execute_input": "2025-08-19T18:52:57.820889Z",
     "iopub.status.busy": "2025-08-19T18:52:57.819832Z",
     "iopub.status.idle": "2025-08-19T18:52:57.914904Z",
     "shell.execute_reply": "2025-08-19T18:52:57.914190Z"
    },
    "papermill": {
     "duration": 0.109089,
     "end_time": "2025-08-19T18:52:57.916069",
     "exception": false,
     "start_time": "2025-08-19T18:52:57.806980",
     "status": "completed"
    },
    "tags": []
   },
   "outputs": [
    {
     "data": {
      "text/plain": [
       "array([0, 0, 0, ..., 0, 0, 0])"
      ]
     },
     "execution_count": 36,
     "metadata": {},
     "output_type": "execute_result"
    }
   ],
   "source": [
    "model.predict(X_test)"
   ]
  },
  {
   "cell_type": "markdown",
   "id": "3759920c",
   "metadata": {
    "papermill": {
     "duration": 0.011018,
     "end_time": "2025-08-19T18:52:57.939182",
     "exception": false,
     "start_time": "2025-08-19T18:52:57.928164",
     "status": "completed"
    },
    "tags": []
   },
   "source": [
    "# Conformal Prediction"
   ]
  },
  {
   "cell_type": "code",
   "execution_count": 37,
   "id": "14b27f59",
   "metadata": {
    "execution": {
     "iopub.execute_input": "2025-08-19T18:52:57.973836Z",
     "iopub.status.busy": "2025-08-19T18:52:57.973176Z",
     "iopub.status.idle": "2025-08-19T18:52:57.979068Z",
     "shell.execute_reply": "2025-08-19T18:52:57.977969Z"
    },
    "papermill": {
     "duration": 0.030775,
     "end_time": "2025-08-19T18:52:57.980740",
     "exception": false,
     "start_time": "2025-08-19T18:52:57.949965",
     "status": "completed"
    },
    "tags": []
   },
   "outputs": [],
   "source": [
    "# Miscoverage level for conformal prediction (10% allowed error rate => 90% target coverage)\n",
    "alpha = 0.1"
   ]
  },
  {
   "cell_type": "code",
   "execution_count": 38,
   "id": "59102472",
   "metadata": {
    "execution": {
     "iopub.execute_input": "2025-08-19T18:52:58.026887Z",
     "iopub.status.busy": "2025-08-19T18:52:58.026484Z",
     "iopub.status.idle": "2025-08-19T18:52:58.161794Z",
     "shell.execute_reply": "2025-08-19T18:52:58.160722Z"
    },
    "papermill": {
     "duration": 0.161419,
     "end_time": "2025-08-19T18:52:58.163407",
     "exception": false,
     "start_time": "2025-08-19T18:52:58.001988",
     "status": "completed"
    },
    "tags": []
   },
   "outputs": [],
   "source": [
    "probs_calib = model.predict_proba(X_calib)"
   ]
  },
  {
   "cell_type": "code",
   "execution_count": 39,
   "id": "a792d4dd",
   "metadata": {
    "execution": {
     "iopub.execute_input": "2025-08-19T18:52:58.191335Z",
     "iopub.status.busy": "2025-08-19T18:52:58.190203Z",
     "iopub.status.idle": "2025-08-19T18:52:58.200990Z",
     "shell.execute_reply": "2025-08-19T18:52:58.199119Z"
    },
    "papermill": {
     "duration": 0.02595,
     "end_time": "2025-08-19T18:52:58.202925",
     "exception": false,
     "start_time": "2025-08-19T18:52:58.176975",
     "status": "completed"
    },
    "tags": []
   },
   "outputs": [],
   "source": [
    "y_calib = y_calib.values.ravel().astype(int)"
   ]
  },
  {
   "cell_type": "code",
   "execution_count": 40,
   "id": "650fd033",
   "metadata": {
    "execution": {
     "iopub.execute_input": "2025-08-19T18:52:58.230533Z",
     "iopub.status.busy": "2025-08-19T18:52:58.229345Z",
     "iopub.status.idle": "2025-08-19T18:52:58.241656Z",
     "shell.execute_reply": "2025-08-19T18:52:58.240375Z"
    },
    "papermill": {
     "duration": 0.026503,
     "end_time": "2025-08-19T18:52:58.243155",
     "exception": false,
     "start_time": "2025-08-19T18:52:58.216652",
     "status": "completed"
    },
    "tags": []
   },
   "outputs": [],
   "source": [
    "from fairness_multiverse.conformal import compute_nc_scores\n",
    "\n",
    "# Compute nonconformity scores on calibration set (1 - probability of true class)\n",
    "nc_scores = compute_nc_scores(probs_calib, y_calib)"
   ]
  },
  {
   "cell_type": "code",
   "execution_count": 41,
   "id": "28ada44c",
   "metadata": {
    "execution": {
     "iopub.execute_input": "2025-08-19T18:52:58.273787Z",
     "iopub.status.busy": "2025-08-19T18:52:58.272420Z",
     "iopub.status.idle": "2025-08-19T18:52:58.282594Z",
     "shell.execute_reply": "2025-08-19T18:52:58.281429Z"
    },
    "papermill": {
     "duration": 0.025363,
     "end_time": "2025-08-19T18:52:58.284357",
     "exception": false,
     "start_time": "2025-08-19T18:52:58.258994",
     "status": "completed"
    },
    "tags": []
   },
   "outputs": [],
   "source": [
    "from fairness_multiverse.conformal import find_threshold\n",
    "\n",
    "# Find conformal threshold q_hat for the given alpha (split conformal method)\n",
    "q_hat = find_threshold(nc_scores, alpha)"
   ]
  },
  {
   "cell_type": "code",
   "execution_count": 42,
   "id": "df56469e",
   "metadata": {
    "execution": {
     "iopub.execute_input": "2025-08-19T18:52:58.312545Z",
     "iopub.status.busy": "2025-08-19T18:52:58.311201Z",
     "iopub.status.idle": "2025-08-19T18:52:58.321801Z",
     "shell.execute_reply": "2025-08-19T18:52:58.320561Z"
    },
    "papermill": {
     "duration": 0.026166,
     "end_time": "2025-08-19T18:52:58.324757",
     "exception": false,
     "start_time": "2025-08-19T18:52:58.298591",
     "status": "completed"
    },
    "tags": []
   },
   "outputs": [
    {
     "data": {
      "text/plain": [
       "0.6837659317201816"
      ]
     },
     "execution_count": 42,
     "metadata": {},
     "output_type": "execute_result"
    }
   ],
   "source": [
    "q_hat"
   ]
  },
  {
   "cell_type": "code",
   "execution_count": 43,
   "id": "aa1f5faa",
   "metadata": {
    "execution": {
     "iopub.execute_input": "2025-08-19T18:52:58.352584Z",
     "iopub.status.busy": "2025-08-19T18:52:58.351416Z",
     "iopub.status.idle": "2025-08-19T18:52:58.947495Z",
     "shell.execute_reply": "2025-08-19T18:52:58.946316Z"
    },
    "papermill": {
     "duration": 0.610017,
     "end_time": "2025-08-19T18:52:58.948942",
     "exception": false,
     "start_time": "2025-08-19T18:52:58.338925",
     "status": "completed"
    },
    "tags": []
   },
   "outputs": [],
   "source": [
    "from fairness_multiverse.conformal import predict_conformal_sets\n",
    "\n",
    "# Generate prediction sets for each test example\n",
    "pred_sets = predict_conformal_sets(model, X_test, q_hat)"
   ]
  },
  {
   "cell_type": "code",
   "execution_count": 44,
   "id": "97f67a6b",
   "metadata": {
    "execution": {
     "iopub.execute_input": "2025-08-19T18:52:59.004016Z",
     "iopub.status.busy": "2025-08-19T18:52:59.002352Z",
     "iopub.status.idle": "2025-08-19T18:52:59.015505Z",
     "shell.execute_reply": "2025-08-19T18:52:59.014261Z"
    },
    "papermill": {
     "duration": 0.048029,
     "end_time": "2025-08-19T18:52:59.017917",
     "exception": false,
     "start_time": "2025-08-19T18:52:58.969888",
     "status": "completed"
    },
    "tags": []
   },
   "outputs": [],
   "source": [
    "y_true = y_true.squeeze()"
   ]
  },
  {
   "cell_type": "code",
   "execution_count": 45,
   "id": "e700e9a7",
   "metadata": {
    "execution": {
     "iopub.execute_input": "2025-08-19T18:52:59.061508Z",
     "iopub.status.busy": "2025-08-19T18:52:59.060392Z",
     "iopub.status.idle": "2025-08-19T18:52:59.578210Z",
     "shell.execute_reply": "2025-08-19T18:52:59.577377Z"
    },
    "papermill": {
     "duration": 0.535824,
     "end_time": "2025-08-19T18:52:59.581137",
     "exception": false,
     "start_time": "2025-08-19T18:52:59.045313",
     "status": "completed"
    },
    "tags": []
   },
   "outputs": [],
   "source": [
    "from fairness_multiverse.conformal import evaluate_sets\n",
    "\n",
    "# Evaluate coverage and average set size on test data\n",
    "metrics = evaluate_sets(pred_sets, y_true)"
   ]
  },
  {
   "cell_type": "markdown",
   "id": "efbacec0",
   "metadata": {
    "papermill": {
     "duration": 0.013428,
     "end_time": "2025-08-19T18:52:59.619805",
     "exception": false,
     "start_time": "2025-08-19T18:52:59.606377",
     "status": "completed"
    },
    "tags": []
   },
   "source": [
    "# CP Metrics"
   ]
  },
  {
   "cell_type": "code",
   "execution_count": 46,
   "id": "9de55fb1",
   "metadata": {
    "execution": {
     "iopub.execute_input": "2025-08-19T18:52:59.646633Z",
     "iopub.status.busy": "2025-08-19T18:52:59.645574Z",
     "iopub.status.idle": "2025-08-19T18:52:59.659688Z",
     "shell.execute_reply": "2025-08-19T18:52:59.658393Z"
    },
    "papermill": {
     "duration": 0.029511,
     "end_time": "2025-08-19T18:52:59.661326",
     "exception": false,
     "start_time": "2025-08-19T18:52:59.631815",
     "status": "completed"
    },
    "tags": []
   },
   "outputs": [
    {
     "data": {
      "text/plain": [
       "{'coverage': 0.9085051833686323, 'avg_size': 1.234165644855646}"
      ]
     },
     "execution_count": 46,
     "metadata": {},
     "output_type": "execute_result"
    }
   ],
   "source": [
    "metrics"
   ]
  },
  {
   "cell_type": "code",
   "execution_count": 47,
   "id": "64c340a1",
   "metadata": {
    "execution": {
     "iopub.execute_input": "2025-08-19T18:52:59.691261Z",
     "iopub.status.busy": "2025-08-19T18:52:59.690068Z",
     "iopub.status.idle": "2025-08-19T18:52:59.701766Z",
     "shell.execute_reply": "2025-08-19T18:52:59.700562Z"
    },
    "papermill": {
     "duration": 0.027063,
     "end_time": "2025-08-19T18:52:59.703288",
     "exception": false,
     "start_time": "2025-08-19T18:52:59.676225",
     "status": "completed"
    },
    "tags": []
   },
   "outputs": [],
   "source": [
    "example_universe = universe.copy()\n",
    "universe_training_year = example_universe.get(\"training_year\")\n",
    "universe_training_size = example_universe.get(\"training_size\")\n",
    "universe_scale = example_universe.get(\"scale\")\n",
    "universe_model = example_universe.get(\"model\")\n",
    "universe_exclude_features = example_universe.get(\"exclude_features\")\n",
    "universe_exclude_subgroups = example_universe.get(\"exclude_subgroups\")"
   ]
  },
  {
   "cell_type": "code",
   "execution_count": 48,
   "id": "dbb53cb4",
   "metadata": {
    "execution": {
     "iopub.execute_input": "2025-08-19T18:52:59.733140Z",
     "iopub.status.busy": "2025-08-19T18:52:59.732758Z",
     "iopub.status.idle": "2025-08-19T18:52:59.737788Z",
     "shell.execute_reply": "2025-08-19T18:52:59.737204Z"
    },
    "papermill": {
     "duration": 0.019137,
     "end_time": "2025-08-19T18:52:59.738818",
     "exception": false,
     "start_time": "2025-08-19T18:52:59.719681",
     "status": "completed"
    },
    "tags": []
   },
   "outputs": [],
   "source": [
    "cp_metrics_dict = {\n",
    "    \"universe_id\": [universe_id],\n",
    "    \"universe_training_year\": [universe_training_year],\n",
    "    \"universe_training_size\": [universe_training_size],\n",
    "    \"universe_scale\": [universe_scale],\n",
    "    \"universe_model\": [universe_model],\n",
    "    \"universe_exclude_features\": [universe_exclude_features],\n",
    "    \"universe_exclude_subgroups\": [universe_exclude_subgroups],\n",
    "    \"q_hat\": [q_hat],\n",
    "    \"coverage\": [metrics[\"coverage\"]],\n",
    "    \"avg_size\": [metrics[\"avg_size\"]],\n",
    "}"
   ]
  },
  {
   "cell_type": "code",
   "execution_count": 49,
   "id": "0d70d4b2",
   "metadata": {
    "execution": {
     "iopub.execute_input": "2025-08-19T18:52:59.783999Z",
     "iopub.status.busy": "2025-08-19T18:52:59.782615Z",
     "iopub.status.idle": "2025-08-19T18:52:59.795629Z",
     "shell.execute_reply": "2025-08-19T18:52:59.794115Z"
    },
    "papermill": {
     "duration": 0.045935,
     "end_time": "2025-08-19T18:52:59.798810",
     "exception": false,
     "start_time": "2025-08-19T18:52:59.752875",
     "status": "completed"
    },
    "tags": []
   },
   "outputs": [],
   "source": [
    "cp_metrics_df = pd.DataFrame(cp_metrics_dict)"
   ]
  },
  {
   "cell_type": "code",
   "execution_count": 50,
   "id": "b494403c",
   "metadata": {
    "execution": {
     "iopub.execute_input": "2025-08-19T18:52:59.832189Z",
     "iopub.status.busy": "2025-08-19T18:52:59.831811Z",
     "iopub.status.idle": "2025-08-19T18:52:59.846952Z",
     "shell.execute_reply": "2025-08-19T18:52:59.843773Z"
    },
    "papermill": {
     "duration": 0.030589,
     "end_time": "2025-08-19T18:52:59.849043",
     "exception": false,
     "start_time": "2025-08-19T18:52:59.818454",
     "status": "completed"
    },
    "tags": []
   },
   "outputs": [
    {
     "data": {
      "text/html": [
       "<div>\n",
       "<style scoped>\n",
       "    .dataframe tbody tr th:only-of-type {\n",
       "        vertical-align: middle;\n",
       "    }\n",
       "\n",
       "    .dataframe tbody tr th {\n",
       "        vertical-align: top;\n",
       "    }\n",
       "\n",
       "    .dataframe thead th {\n",
       "        text-align: right;\n",
       "    }\n",
       "</style>\n",
       "<table border=\"1\" class=\"dataframe\">\n",
       "  <thead>\n",
       "    <tr style=\"text-align: right;\">\n",
       "      <th></th>\n",
       "      <th>universe_id</th>\n",
       "      <th>universe_training_year</th>\n",
       "      <th>universe_training_size</th>\n",
       "      <th>universe_scale</th>\n",
       "      <th>universe_model</th>\n",
       "      <th>universe_exclude_features</th>\n",
       "      <th>universe_exclude_subgroups</th>\n",
       "      <th>q_hat</th>\n",
       "      <th>coverage</th>\n",
       "      <th>avg_size</th>\n",
       "    </tr>\n",
       "  </thead>\n",
       "  <tbody>\n",
       "    <tr>\n",
       "      <th>0</th>\n",
       "      <td>d22c83a9e1e31ec72d61792767910898</td>\n",
       "      <td>2014</td>\n",
       "      <td>1k</td>\n",
       "      <td>do-not-scale</td>\n",
       "      <td>logreg</td>\n",
       "      <td>nationality</td>\n",
       "      <td>drop-non-german</td>\n",
       "      <td>0.683766</td>\n",
       "      <td>0.908505</td>\n",
       "      <td>1.234166</td>\n",
       "    </tr>\n",
       "  </tbody>\n",
       "</table>\n",
       "</div>"
      ],
      "text/plain": [
       "                        universe_id universe_training_year  \\\n",
       "0  d22c83a9e1e31ec72d61792767910898                   2014   \n",
       "\n",
       "  universe_training_size universe_scale universe_model  \\\n",
       "0                     1k   do-not-scale         logreg   \n",
       "\n",
       "  universe_exclude_features universe_exclude_subgroups     q_hat  coverage  \\\n",
       "0               nationality            drop-non-german  0.683766  0.908505   \n",
       "\n",
       "   avg_size  \n",
       "0  1.234166  "
      ]
     },
     "execution_count": 50,
     "metadata": {},
     "output_type": "execute_result"
    }
   ],
   "source": [
    "cp_metrics_df"
   ]
  },
  {
   "cell_type": "markdown",
   "id": "ed608b0b",
   "metadata": {
    "papermill": {
     "duration": 0.012447,
     "end_time": "2025-08-19T18:52:59.879660",
     "exception": false,
     "start_time": "2025-08-19T18:52:59.867213",
     "status": "completed"
    },
    "tags": []
   },
   "source": [
    "Conditional coverage & looking at subgroups"
   ]
  },
  {
   "cell_type": "code",
   "execution_count": 51,
   "id": "8968c366",
   "metadata": {
    "execution": {
     "iopub.execute_input": "2025-08-19T18:52:59.908300Z",
     "iopub.status.busy": "2025-08-19T18:52:59.906145Z",
     "iopub.status.idle": "2025-08-19T18:53:00.209465Z",
     "shell.execute_reply": "2025-08-19T18:53:00.208745Z"
    },
    "papermill": {
     "duration": 0.320692,
     "end_time": "2025-08-19T18:53:00.212278",
     "exception": false,
     "start_time": "2025-08-19T18:52:59.891586",
     "status": "completed"
    },
    "tags": []
   },
   "outputs": [],
   "source": [
    "from fairness_multiverse.conformal import build_cp_groups\n",
    "\n",
    "cp_groups_df = build_cp_groups(pred_sets, y_true, X_test.index, org_test)"
   ]
  },
  {
   "cell_type": "code",
   "execution_count": 52,
   "id": "292ddabf",
   "metadata": {
    "execution": {
     "iopub.execute_input": "2025-08-19T18:53:00.270085Z",
     "iopub.status.busy": "2025-08-19T18:53:00.268676Z",
     "iopub.status.idle": "2025-08-19T18:53:01.126270Z",
     "shell.execute_reply": "2025-08-19T18:53:01.125092Z"
    },
    "papermill": {
     "duration": 0.888765,
     "end_time": "2025-08-19T18:53:01.128093",
     "exception": false,
     "start_time": "2025-08-19T18:53:00.239328",
     "status": "completed"
    },
    "tags": []
   },
   "outputs": [],
   "source": [
    "# Define covered = 1 if true_label is in the predicted set\n",
    "cp_groups_df['covered'] = cp_groups_df.apply(\n",
    "    lambda r: int(r['true_label'] in r['pred_set']),\n",
    "    axis=1\n",
    ")"
   ]
  },
  {
   "cell_type": "code",
   "execution_count": 53,
   "id": "3a261692",
   "metadata": {
    "execution": {
     "iopub.execute_input": "2025-08-19T18:53:01.166659Z",
     "iopub.status.busy": "2025-08-19T18:53:01.165536Z",
     "iopub.status.idle": "2025-08-19T18:53:01.189112Z",
     "shell.execute_reply": "2025-08-19T18:53:01.188246Z"
    },
    "papermill": {
     "duration": 0.050281,
     "end_time": "2025-08-19T18:53:01.191241",
     "exception": false,
     "start_time": "2025-08-19T18:53:01.140960",
     "status": "completed"
    },
    "tags": []
   },
   "outputs": [],
   "source": [
    "subgroups = ['frau1','nongerman','nongerman_male','nongerman_female']\n",
    "\n",
    "# Conditional coverage for subgroup==1\n",
    "cond_coverage = {\n",
    "    g: cp_groups_df.loc[cp_groups_df[g]==1, 'covered'].mean()\n",
    "    for g in subgroups\n",
    "}"
   ]
  },
  {
   "cell_type": "code",
   "execution_count": 54,
   "id": "894fd600",
   "metadata": {
    "execution": {
     "iopub.execute_input": "2025-08-19T18:53:01.228755Z",
     "iopub.status.busy": "2025-08-19T18:53:01.228310Z",
     "iopub.status.idle": "2025-08-19T18:53:01.234881Z",
     "shell.execute_reply": "2025-08-19T18:53:01.234087Z"
    },
    "papermill": {
     "duration": 0.023488,
     "end_time": "2025-08-19T18:53:01.238301",
     "exception": false,
     "start_time": "2025-08-19T18:53:01.214813",
     "status": "completed"
    },
    "tags": []
   },
   "outputs": [
    {
     "data": {
      "text/plain": [
       "{'frau1': 0.9085591050006739,\n",
       " 'nongerman': 0.937292988266996,\n",
       " 'nongerman_male': 0.9481221291542826,\n",
       " 'nongerman_female': 0.9193740685543964}"
      ]
     },
     "execution_count": 54,
     "metadata": {},
     "output_type": "execute_result"
    }
   ],
   "source": [
    "cond_coverage"
   ]
  },
  {
   "cell_type": "code",
   "execution_count": 55,
   "id": "942895c7",
   "metadata": {
    "execution": {
     "iopub.execute_input": "2025-08-19T18:53:01.264111Z",
     "iopub.status.busy": "2025-08-19T18:53:01.263723Z",
     "iopub.status.idle": "2025-08-19T18:53:01.269798Z",
     "shell.execute_reply": "2025-08-19T18:53:01.269121Z"
    },
    "papermill": {
     "duration": 0.020362,
     "end_time": "2025-08-19T18:53:01.271133",
     "exception": false,
     "start_time": "2025-08-19T18:53:01.250771",
     "status": "completed"
    },
    "tags": []
   },
   "outputs": [],
   "source": [
    "for subgroup, cov in cond_coverage.items():\n",
    "    cp_metrics_df[f\"cov_{subgroup}\"] = cov"
   ]
  },
  {
   "cell_type": "code",
   "execution_count": 56,
   "id": "3970120f",
   "metadata": {
    "execution": {
     "iopub.execute_input": "2025-08-19T18:53:01.297759Z",
     "iopub.status.busy": "2025-08-19T18:53:01.297079Z",
     "iopub.status.idle": "2025-08-19T18:53:01.320329Z",
     "shell.execute_reply": "2025-08-19T18:53:01.319363Z"
    },
    "papermill": {
     "duration": 0.039138,
     "end_time": "2025-08-19T18:53:01.323180",
     "exception": false,
     "start_time": "2025-08-19T18:53:01.284042",
     "status": "completed"
    },
    "tags": []
   },
   "outputs": [
    {
     "data": {
      "text/html": [
       "<div>\n",
       "<style scoped>\n",
       "    .dataframe tbody tr th:only-of-type {\n",
       "        vertical-align: middle;\n",
       "    }\n",
       "\n",
       "    .dataframe tbody tr th {\n",
       "        vertical-align: top;\n",
       "    }\n",
       "\n",
       "    .dataframe thead th {\n",
       "        text-align: right;\n",
       "    }\n",
       "</style>\n",
       "<table border=\"1\" class=\"dataframe\">\n",
       "  <thead>\n",
       "    <tr style=\"text-align: right;\">\n",
       "      <th></th>\n",
       "      <th>universe_id</th>\n",
       "      <th>universe_training_year</th>\n",
       "      <th>universe_training_size</th>\n",
       "      <th>universe_scale</th>\n",
       "      <th>universe_model</th>\n",
       "      <th>universe_exclude_features</th>\n",
       "      <th>universe_exclude_subgroups</th>\n",
       "      <th>q_hat</th>\n",
       "      <th>coverage</th>\n",
       "      <th>avg_size</th>\n",
       "      <th>cov_frau1</th>\n",
       "      <th>cov_nongerman</th>\n",
       "      <th>cov_nongerman_male</th>\n",
       "      <th>cov_nongerman_female</th>\n",
       "    </tr>\n",
       "  </thead>\n",
       "  <tbody>\n",
       "    <tr>\n",
       "      <th>0</th>\n",
       "      <td>d22c83a9e1e31ec72d61792767910898</td>\n",
       "      <td>2014</td>\n",
       "      <td>1k</td>\n",
       "      <td>do-not-scale</td>\n",
       "      <td>logreg</td>\n",
       "      <td>nationality</td>\n",
       "      <td>drop-non-german</td>\n",
       "      <td>0.683766</td>\n",
       "      <td>0.908505</td>\n",
       "      <td>1.234166</td>\n",
       "      <td>0.908559</td>\n",
       "      <td>0.937293</td>\n",
       "      <td>0.948122</td>\n",
       "      <td>0.919374</td>\n",
       "    </tr>\n",
       "  </tbody>\n",
       "</table>\n",
       "</div>"
      ],
      "text/plain": [
       "                        universe_id universe_training_year  \\\n",
       "0  d22c83a9e1e31ec72d61792767910898                   2014   \n",
       "\n",
       "  universe_training_size universe_scale universe_model  \\\n",
       "0                     1k   do-not-scale         logreg   \n",
       "\n",
       "  universe_exclude_features universe_exclude_subgroups     q_hat  coverage  \\\n",
       "0               nationality            drop-non-german  0.683766  0.908505   \n",
       "\n",
       "   avg_size  cov_frau1  cov_nongerman  cov_nongerman_male  \\\n",
       "0  1.234166   0.908559       0.937293            0.948122   \n",
       "\n",
       "   cov_nongerman_female  \n",
       "0              0.919374  "
      ]
     },
     "execution_count": 56,
     "metadata": {},
     "output_type": "execute_result"
    }
   ],
   "source": [
    "cp_metrics_df"
   ]
  },
  {
   "cell_type": "markdown",
   "id": "3fc519cc",
   "metadata": {
    "papermill": {
     "duration": 0.011996,
     "end_time": "2025-08-19T18:53:01.352980",
     "exception": false,
     "start_time": "2025-08-19T18:53:01.340984",
     "status": "completed"
    },
    "tags": []
   },
   "source": [
    "# (Fairness) Metrics"
   ]
  },
  {
   "cell_type": "code",
   "execution_count": 57,
   "id": "a2e5e155",
   "metadata": {
    "execution": {
     "iopub.execute_input": "2025-08-19T18:53:01.384908Z",
     "iopub.status.busy": "2025-08-19T18:53:01.378835Z",
     "iopub.status.idle": "2025-08-19T18:53:01.401288Z",
     "shell.execute_reply": "2025-08-19T18:53:01.400447Z"
    },
    "papermill": {
     "duration": 0.038162,
     "end_time": "2025-08-19T18:53:01.403309",
     "exception": false,
     "start_time": "2025-08-19T18:53:01.365147",
     "status": "completed"
    },
    "tags": []
   },
   "outputs": [],
   "source": [
    "colname_to_bin = \"maxdeutsch1\"\n",
    "majority_value = org_train[colname_to_bin].mode()[0]\n",
    "\n",
    "org_test[\"majmin\"] = np.where(org_test[colname_to_bin] == majority_value, \"majority\", \"minority\")"
   ]
  },
  {
   "cell_type": "code",
   "execution_count": 58,
   "id": "17e3e4d5",
   "metadata": {
    "execution": {
     "iopub.execute_input": "2025-08-19T18:53:01.436952Z",
     "iopub.status.busy": "2025-08-19T18:53:01.436330Z",
     "iopub.status.idle": "2025-08-19T18:53:03.151984Z",
     "shell.execute_reply": "2025-08-19T18:53:03.150812Z"
    },
    "papermill": {
     "duration": 1.731813,
     "end_time": "2025-08-19T18:53:03.153630",
     "exception": false,
     "start_time": "2025-08-19T18:53:01.421817",
     "status": "completed"
    },
    "tags": []
   },
   "outputs": [],
   "source": [
    "example_universe = universe.copy()\n",
    "example_universe[\"cutoff\"] = example_universe[\"cutoff\"][0]\n",
    "example_universe[\"eval_fairness_grouping\"] = example_universe[\"eval_fairness_grouping\"][0]\n",
    "fairness_dict, metric_frame = universe_analysis.compute_metrics(\n",
    "    example_universe,\n",
    "    y_pred_prob=probs_test,\n",
    "    y_test=y_true,\n",
    "    org_test=org_test,\n",
    ")"
   ]
  },
  {
   "cell_type": "markdown",
   "id": "1fb7a0e9",
   "metadata": {
    "papermill": {
     "duration": 0.012328,
     "end_time": "2025-08-19T18:53:03.179009",
     "exception": false,
     "start_time": "2025-08-19T18:53:03.166681",
     "status": "completed"
    },
    "tags": []
   },
   "source": [
    "# Overall"
   ]
  },
  {
   "cell_type": "markdown",
   "id": "be1784b1",
   "metadata": {
    "papermill": {
     "duration": 0.0123,
     "end_time": "2025-08-19T18:53:03.203511",
     "exception": false,
     "start_time": "2025-08-19T18:53:03.191211",
     "status": "completed"
    },
    "tags": []
   },
   "source": [
    "Main fairness target: Equalized Odds. Seems to be a better fit than equal opportunity, since we're not only interested in Y = 1. Seems to be a better fit than demographic parity, since we also care about accuracy, not just equal distribution of preds.\n",
    "\n",
    "Pick column for computation of fairness metrics\n",
    "\n",
    "Performance\n",
    "Overall performance measures, most interesting in relation to the measures split by group below"
   ]
  },
  {
   "cell_type": "code",
   "execution_count": 59,
   "id": "b7672bee",
   "metadata": {
    "execution": {
     "iopub.execute_input": "2025-08-19T18:53:03.229363Z",
     "iopub.status.busy": "2025-08-19T18:53:03.228925Z",
     "iopub.status.idle": "2025-08-19T18:53:03.237186Z",
     "shell.execute_reply": "2025-08-19T18:53:03.236456Z"
    },
    "papermill": {
     "duration": 0.02308,
     "end_time": "2025-08-19T18:53:03.238653",
     "exception": false,
     "start_time": "2025-08-19T18:53:03.215573",
     "status": "completed"
    },
    "tags": []
   },
   "outputs": [
    {
     "data": {
      "text/plain": [
       "accuracy                   0.217490\n",
       "balanced accuracy          0.533234\n",
       "f1                         0.239010\n",
       "precision                  0.136539\n",
       "false positive rate        0.891473\n",
       "false negative rate        0.042058\n",
       "selection rate             0.900000\n",
       "count                  89710.000000\n",
       "dtype: float64"
      ]
     },
     "execution_count": 59,
     "metadata": {},
     "output_type": "execute_result"
    }
   ],
   "source": [
    "metric_frame.overall"
   ]
  },
  {
   "cell_type": "markdown",
   "id": "d93333c9",
   "metadata": {
    "papermill": {
     "duration": 0.012052,
     "end_time": "2025-08-19T18:53:03.264114",
     "exception": false,
     "start_time": "2025-08-19T18:53:03.252062",
     "status": "completed"
    },
    "tags": []
   },
   "source": [
    "By Group"
   ]
  },
  {
   "cell_type": "code",
   "execution_count": 60,
   "id": "52256966",
   "metadata": {
    "execution": {
     "iopub.execute_input": "2025-08-19T18:53:03.289673Z",
     "iopub.status.busy": "2025-08-19T18:53:03.289286Z",
     "iopub.status.idle": "2025-08-19T18:53:03.301915Z",
     "shell.execute_reply": "2025-08-19T18:53:03.301022Z"
    },
    "papermill": {
     "duration": 0.028215,
     "end_time": "2025-08-19T18:53:03.304415",
     "exception": false,
     "start_time": "2025-08-19T18:53:03.276200",
     "status": "completed"
    },
    "tags": []
   },
   "outputs": [
    {
     "data": {
      "text/html": [
       "<div>\n",
       "<style scoped>\n",
       "    .dataframe tbody tr th:only-of-type {\n",
       "        vertical-align: middle;\n",
       "    }\n",
       "\n",
       "    .dataframe tbody tr th {\n",
       "        vertical-align: top;\n",
       "    }\n",
       "\n",
       "    .dataframe thead th {\n",
       "        text-align: right;\n",
       "    }\n",
       "</style>\n",
       "<table border=\"1\" class=\"dataframe\">\n",
       "  <thead>\n",
       "    <tr style=\"text-align: right;\">\n",
       "      <th></th>\n",
       "      <th>accuracy</th>\n",
       "      <th>balanced accuracy</th>\n",
       "      <th>f1</th>\n",
       "      <th>precision</th>\n",
       "      <th>false positive rate</th>\n",
       "      <th>false negative rate</th>\n",
       "      <th>selection rate</th>\n",
       "      <th>count</th>\n",
       "    </tr>\n",
       "    <tr>\n",
       "      <th>majmin</th>\n",
       "      <th></th>\n",
       "      <th></th>\n",
       "      <th></th>\n",
       "      <th></th>\n",
       "      <th></th>\n",
       "      <th></th>\n",
       "      <th></th>\n",
       "      <th></th>\n",
       "    </tr>\n",
       "  </thead>\n",
       "  <tbody>\n",
       "    <tr>\n",
       "      <th>majority</th>\n",
       "      <td>0.238384</td>\n",
       "      <td>0.541084</td>\n",
       "      <td>0.248413</td>\n",
       "      <td>0.142831</td>\n",
       "      <td>0.870348</td>\n",
       "      <td>0.047484</td>\n",
       "      <td>0.881206</td>\n",
       "      <td>69170.0</td>\n",
       "    </tr>\n",
       "    <tr>\n",
       "      <th>minority</th>\n",
       "      <td>0.147128</td>\n",
       "      <td>0.508813</td>\n",
       "      <td>0.209262</td>\n",
       "      <td>0.117154</td>\n",
       "      <td>0.961259</td>\n",
       "      <td>0.021115</td>\n",
       "      <td>0.963291</td>\n",
       "      <td>20540.0</td>\n",
       "    </tr>\n",
       "  </tbody>\n",
       "</table>\n",
       "</div>"
      ],
      "text/plain": [
       "          accuracy  balanced accuracy        f1  precision  \\\n",
       "majmin                                                       \n",
       "majority  0.238384           0.541084  0.248413   0.142831   \n",
       "minority  0.147128           0.508813  0.209262   0.117154   \n",
       "\n",
       "          false positive rate  false negative rate  selection rate    count  \n",
       "majmin                                                                       \n",
       "majority             0.870348             0.047484        0.881206  69170.0  \n",
       "minority             0.961259             0.021115        0.963291  20540.0  "
      ]
     },
     "execution_count": 60,
     "metadata": {},
     "output_type": "execute_result"
    }
   ],
   "source": [
    "metric_frame.by_group"
   ]
  },
  {
   "cell_type": "code",
   "execution_count": 61,
   "id": "6e6c20ae",
   "metadata": {
    "execution": {
     "iopub.execute_input": "2025-08-19T18:53:03.332300Z",
     "iopub.status.busy": "2025-08-19T18:53:03.331900Z",
     "iopub.status.idle": "2025-08-19T18:53:05.208463Z",
     "shell.execute_reply": "2025-08-19T18:53:05.207481Z"
    },
    "papermill": {
     "duration": 1.891647,
     "end_time": "2025-08-19T18:53:05.210205",
     "exception": false,
     "start_time": "2025-08-19T18:53:03.318558",
     "status": "completed"
    },
    "tags": []
   },
   "outputs": [
    {
     "data": {
      "text/plain": [
       "array([[<Axes: title={'center': 'accuracy'}, xlabel='majmin'>,\n",
       "        <Axes: title={'center': 'balanced accuracy'}, xlabel='majmin'>,\n",
       "        <Axes: title={'center': 'f1'}, xlabel='majmin'>],\n",
       "       [<Axes: title={'center': 'precision'}, xlabel='majmin'>,\n",
       "        <Axes: title={'center': 'false positive rate'}, xlabel='majmin'>,\n",
       "        <Axes: title={'center': 'false negative rate'}, xlabel='majmin'>],\n",
       "       [<Axes: title={'center': 'selection rate'}, xlabel='majmin'>,\n",
       "        <Axes: title={'center': 'count'}, xlabel='majmin'>,\n",
       "        <Axes: xlabel='majmin'>]], dtype=object)"
      ]
     },
     "execution_count": 61,
     "metadata": {},
     "output_type": "execute_result"
    },
    {
     "data": {
      "image/png": "[encoded data removed]",
      "text/plain": [
       "<Figure size 1200x800 with 9 Axes>"
      ]
     },
     "metadata": {},
     "output_type": "display_data"
    }
   ],
   "source": [
    "# In a graphic\n",
    "metric_frame.by_group.plot.bar(\n",
    "    subplots=True,\n",
    "    layout=[3, 3],\n",
    "    legend=False,\n",
    "    figsize=[12, 8],\n",
    "    title=\"Show all metrics\",\n",
    ")"
   ]
  },
  {
   "cell_type": "markdown",
   "id": "b2e433ae",
   "metadata": {
    "papermill": {
     "duration": 0.023384,
     "end_time": "2025-08-19T18:53:05.248943",
     "exception": false,
     "start_time": "2025-08-19T18:53:05.225559",
     "status": "completed"
    },
    "tags": []
   },
   "source": [
    "# Final Output"
   ]
  },
  {
   "cell_type": "code",
   "execution_count": 62,
   "id": "3871301e",
   "metadata": {
    "execution": {
     "iopub.execute_input": "2025-08-19T18:53:05.279311Z",
     "iopub.status.busy": "2025-08-19T18:53:05.278459Z",
     "iopub.status.idle": "2025-08-19T18:53:05.288461Z",
     "shell.execute_reply": "2025-08-19T18:53:05.287361Z"
    },
    "papermill": {
     "duration": 0.026884,
     "end_time": "2025-08-19T18:53:05.289966",
     "exception": false,
     "start_time": "2025-08-19T18:53:05.263082",
     "status": "completed"
    },
    "tags": []
   },
   "outputs": [
    {
     "data": {
      "text/plain": [
       "4"
      ]
     },
     "execution_count": 62,
     "metadata": {},
     "output_type": "execute_result"
    }
   ],
   "source": [
    "sub_universes = universe_analysis.generate_sub_universes()\n",
    "len(sub_universes)"
   ]
  },
  {
   "cell_type": "code",
   "execution_count": 63,
   "id": "d9cfdaca",
   "metadata": {
    "execution": {
     "iopub.execute_input": "2025-08-19T18:53:05.322621Z",
     "iopub.status.busy": "2025-08-19T18:53:05.322306Z",
     "iopub.status.idle": "2025-08-19T18:53:05.343958Z",
     "shell.execute_reply": "2025-08-19T18:53:05.342745Z"
    },
    "papermill": {
     "duration": 0.040845,
     "end_time": "2025-08-19T18:53:05.345933",
     "exception": false,
     "start_time": "2025-08-19T18:53:05.305088",
     "status": "completed"
    },
    "tags": []
   },
   "outputs": [],
   "source": [
    "def filter_sub_universe_data(sub_universe, org_test):\n",
    "    # Keep all rows — no filtering\n",
    "    keep_rows_mask = np.ones(org_test.shape[0], dtype=bool)\n",
    "\n",
    "    print(f\"[INFO] Keeping all rows: {keep_rows_mask.sum()} rows retained.\")\n",
    "    return keep_rows_mask"
   ]
  },
  {
   "cell_type": "code",
   "execution_count": 64,
   "id": "2bc31ac1",
   "metadata": {
    "execution": {
     "iopub.execute_input": "2025-08-19T18:53:05.392934Z",
     "iopub.status.busy": "2025-08-19T18:53:05.392523Z",
     "iopub.status.idle": "2025-08-19T18:53:12.069857Z",
     "shell.execute_reply": "2025-08-19T18:53:12.068841Z"
    },
    "papermill": {
     "duration": 6.698319,
     "end_time": "2025-08-19T18:53:12.071226",
     "exception": false,
     "start_time": "2025-08-19T18:53:05.372907",
     "status": "completed"
    },
    "tags": []
   },
   "outputs": [
    {
     "name": "stdout",
     "output_type": "stream",
     "text": [
      "Stopping execution_time clock.\n",
      "[INFO] Keeping all rows: 89710 rows retained.\n"
     ]
    },
    {
     "name": "stdout",
     "output_type": "stream",
     "text": [
      "[INFO] Keeping all rows: 89710 rows retained.\n"
     ]
    },
    {
     "name": "stdout",
     "output_type": "stream",
     "text": [
      "[INFO] Keeping all rows: 89710 rows retained.\n"
     ]
    },
    {
     "name": "stdout",
     "output_type": "stream",
     "text": [
      "[INFO] Keeping all rows: 89710 rows retained.\n"
     ]
    },
    {
     "data": {
      "text/html": [
       "<div>\n",
       "<style scoped>\n",
       "    .dataframe tbody tr th:only-of-type {\n",
       "        vertical-align: middle;\n",
       "    }\n",
       "\n",
       "    .dataframe tbody tr th {\n",
       "        vertical-align: top;\n",
       "    }\n",
       "\n",
       "    .dataframe thead th {\n",
       "        text-align: right;\n",
       "    }\n",
       "</style>\n",
       "<table border=\"1\" class=\"dataframe\">\n",
       "  <thead>\n",
       "    <tr style=\"text-align: right;\">\n",
       "      <th></th>\n",
       "      <th>run_no</th>\n",
       "      <th>universe_id</th>\n",
       "      <th>universe_settings</th>\n",
       "      <th>execution_time</th>\n",
       "      <th>test_size_n</th>\n",
       "      <th>test_size_frac</th>\n",
       "      <th>fair_main_equalized_odds_difference</th>\n",
       "      <th>fair_main_equalized_odds_ratio</th>\n",
       "      <th>fair_main_demographic_parity_difference</th>\n",
       "      <th>fair_main_demographic_parity_ratio</th>\n",
       "      <th>...</th>\n",
       "      <th>perf_grp_precision_0</th>\n",
       "      <th>perf_grp_precision_1</th>\n",
       "      <th>perf_grp_false positive rate_0</th>\n",
       "      <th>perf_grp_false positive rate_1</th>\n",
       "      <th>perf_grp_false negative rate_0</th>\n",
       "      <th>perf_grp_false negative rate_1</th>\n",
       "      <th>perf_grp_selection rate_0</th>\n",
       "      <th>perf_grp_selection rate_1</th>\n",
       "      <th>perf_grp_count_0</th>\n",
       "      <th>perf_grp_count_1</th>\n",
       "    </tr>\n",
       "  </thead>\n",
       "  <tbody>\n",
       "    <tr>\n",
       "      <th>0</th>\n",
       "      <td>3</td>\n",
       "      <td>d22c83a9e1e31ec72d61792767910898</td>\n",
       "      <td>{\"cutoff\": \"quantile_0.1\", \"eval_fairness_grou...</td>\n",
       "      <td>20.280477</td>\n",
       "      <td>89710</td>\n",
       "      <td>1.0</td>\n",
       "      <td>0.090911</td>\n",
       "      <td>0.905425</td>\n",
       "      <td>0.082085</td>\n",
       "      <td>0.914786</td>\n",
       "      <td>...</td>\n",
       "      <td>NaN</td>\n",
       "      <td>NaN</td>\n",
       "      <td>NaN</td>\n",
       "      <td>NaN</td>\n",
       "      <td>NaN</td>\n",
       "      <td>NaN</td>\n",
       "      <td>NaN</td>\n",
       "      <td>NaN</td>\n",
       "      <td>NaN</td>\n",
       "      <td>NaN</td>\n",
       "    </tr>\n",
       "    <tr>\n",
       "      <th>0</th>\n",
       "      <td>3</td>\n",
       "      <td>d22c83a9e1e31ec72d61792767910898</td>\n",
       "      <td>{\"cutoff\": \"quantile_0.1\", \"eval_fairness_grou...</td>\n",
       "      <td>20.280477</td>\n",
       "      <td>89710</td>\n",
       "      <td>1.0</td>\n",
       "      <td>0.090911</td>\n",
       "      <td>0.905425</td>\n",
       "      <td>0.082085</td>\n",
       "      <td>0.914786</td>\n",
       "      <td>...</td>\n",
       "      <td>0.117154</td>\n",
       "      <td>0.142831</td>\n",
       "      <td>0.961259</td>\n",
       "      <td>0.870348</td>\n",
       "      <td>0.021115</td>\n",
       "      <td>0.047484</td>\n",
       "      <td>0.963291</td>\n",
       "      <td>0.881206</td>\n",
       "      <td>20540.0</td>\n",
       "      <td>69170.0</td>\n",
       "    </tr>\n",
       "    <tr>\n",
       "      <th>0</th>\n",
       "      <td>3</td>\n",
       "      <td>d22c83a9e1e31ec72d61792767910898</td>\n",
       "      <td>{\"cutoff\": \"quantile_0.25\", \"eval_fairness_gro...</td>\n",
       "      <td>20.280477</td>\n",
       "      <td>89710</td>\n",
       "      <td>1.0</td>\n",
       "      <td>0.209899</td>\n",
       "      <td>0.765058</td>\n",
       "      <td>0.192213</td>\n",
       "      <td>0.786001</td>\n",
       "      <td>...</td>\n",
       "      <td>NaN</td>\n",
       "      <td>NaN</td>\n",
       "      <td>NaN</td>\n",
       "      <td>NaN</td>\n",
       "      <td>NaN</td>\n",
       "      <td>NaN</td>\n",
       "      <td>NaN</td>\n",
       "      <td>NaN</td>\n",
       "      <td>NaN</td>\n",
       "      <td>NaN</td>\n",
       "    </tr>\n",
       "    <tr>\n",
       "      <th>0</th>\n",
       "      <td>3</td>\n",
       "      <td>d22c83a9e1e31ec72d61792767910898</td>\n",
       "      <td>{\"cutoff\": \"quantile_0.25\", \"eval_fairness_gro...</td>\n",
       "      <td>20.280477</td>\n",
       "      <td>89710</td>\n",
       "      <td>1.0</td>\n",
       "      <td>0.209899</td>\n",
       "      <td>0.765058</td>\n",
       "      <td>0.192213</td>\n",
       "      <td>0.786001</td>\n",
       "      <td>...</td>\n",
       "      <td>0.120007</td>\n",
       "      <td>0.159769</td>\n",
       "      <td>0.893407</td>\n",
       "      <td>0.683508</td>\n",
       "      <td>0.065034</td>\n",
       "      <td>0.146389</td>\n",
       "      <td>0.898199</td>\n",
       "      <td>0.705985</td>\n",
       "      <td>20540.0</td>\n",
       "      <td>69170.0</td>\n",
       "    </tr>\n",
       "  </tbody>\n",
       "</table>\n",
       "<p>4 rows × 50 columns</p>\n",
       "</div>"
      ],
      "text/plain": [
       "  run_no                       universe_id  \\\n",
       "0      3  d22c83a9e1e31ec72d61792767910898   \n",
       "0      3  d22c83a9e1e31ec72d61792767910898   \n",
       "0      3  d22c83a9e1e31ec72d61792767910898   \n",
       "0      3  d22c83a9e1e31ec72d61792767910898   \n",
       "\n",
       "                                   universe_settings  execution_time  \\\n",
       "0  {\"cutoff\": \"quantile_0.1\", \"eval_fairness_grou...       20.280477   \n",
       "0  {\"cutoff\": \"quantile_0.1\", \"eval_fairness_grou...       20.280477   \n",
       "0  {\"cutoff\": \"quantile_0.25\", \"eval_fairness_gro...       20.280477   \n",
       "0  {\"cutoff\": \"quantile_0.25\", \"eval_fairness_gro...       20.280477   \n",
       "\n",
       "   test_size_n  test_size_frac  fair_main_equalized_odds_difference  \\\n",
       "0        89710             1.0                             0.090911   \n",
       "0        89710             1.0                             0.090911   \n",
       "0        89710             1.0                             0.209899   \n",
       "0        89710             1.0                             0.209899   \n",
       "\n",
       "   fair_main_equalized_odds_ratio  fair_main_demographic_parity_difference  \\\n",
       "0                        0.905425                                 0.082085   \n",
       "0                        0.905425                                 0.082085   \n",
       "0                        0.765058                                 0.192213   \n",
       "0                        0.765058                                 0.192213   \n",
       "\n",
       "   fair_main_demographic_parity_ratio  ...  perf_grp_precision_0  \\\n",
       "0                            0.914786  ...                   NaN   \n",
       "0                            0.914786  ...              0.117154   \n",
       "0                            0.786001  ...                   NaN   \n",
       "0                            0.786001  ...              0.120007   \n",
       "\n",
       "   perf_grp_precision_1  perf_grp_false positive rate_0  \\\n",
       "0                   NaN                             NaN   \n",
       "0              0.142831                        0.961259   \n",
       "0                   NaN                             NaN   \n",
       "0              0.159769                        0.893407   \n",
       "\n",
       "   perf_grp_false positive rate_1  perf_grp_false negative rate_0  \\\n",
       "0                             NaN                             NaN   \n",
       "0                        0.870348                        0.021115   \n",
       "0                             NaN                             NaN   \n",
       "0                        0.683508                        0.065034   \n",
       "\n",
       "   perf_grp_false negative rate_1  perf_grp_selection rate_0  \\\n",
       "0                             NaN                        NaN   \n",
       "0                        0.047484                   0.963291   \n",
       "0                             NaN                        NaN   \n",
       "0                        0.146389                   0.898199   \n",
       "\n",
       "   perf_grp_selection rate_1  perf_grp_count_0  perf_grp_count_1  \n",
       "0                        NaN               NaN               NaN  \n",
       "0                   0.881206           20540.0           69170.0  \n",
       "0                        NaN               NaN               NaN  \n",
       "0                   0.705985           20540.0           69170.0  \n",
       "\n",
       "[4 rows x 50 columns]"
      ]
     },
     "execution_count": 64,
     "metadata": {},
     "output_type": "execute_result"
    }
   ],
   "source": [
    "final_output = universe_analysis.generate_final_output(\n",
    "    y_pred_prob=probs_test,\n",
    "    y_test=y_true,\n",
    "    org_test=org_test,\n",
    "    filter_data=filter_sub_universe_data,\n",
    "    cp_metrics_df=cp_metrics_df,\n",
    "    save=True,\n",
    ")\n",
    "final_output"
   ]
  },
  {
   "cell_type": "code",
   "execution_count": null,
   "id": "8b80a1ff",
   "metadata": {
    "papermill": {
     "duration": 0.014635,
     "end_time": "2025-08-19T18:53:12.103717",
     "exception": false,
     "start_time": "2025-08-19T18:53:12.089082",
     "status": "completed"
    },
    "tags": []
   },
   "outputs": [],
   "source": []
  },
  {
   "cell_type": "code",
   "execution_count": null,
   "id": "275c9fad",
   "metadata": {
    "papermill": {
     "duration": 0.014226,
     "end_time": "2025-08-19T18:53:12.132364",
     "exception": false,
     "start_time": "2025-08-19T18:53:12.118138",
     "status": "completed"
    },
    "tags": []
   },
   "outputs": [],
   "source": []
  }
 ],
 "metadata": {
  "celltoolbar": "Tags",
  "kernelspec": {
   "display_name": "Python (CMA Fairness)",
   "language": "python",
   "name": "cma_fair_env"
  },
  "language_info": {
   "codemirror_mode": {
    "name": "ipython",
    "version": 3
   },
   "file_extension": ".py",
   "mimetype": "text/x-python",
   "name": "python",
   "nbconvert_exporter": "python",
   "pygments_lexer": "ipython3",
   "version": "3.10.12"
  },
  "papermill": {
   "default_parameters": {},
   "duration": 30.733722,
   "end_time": "2025-08-19T18:53:12.974660",
   "environment_variables": {},
   "exception": null,
   "input_path": "universe_analysis.ipynb",
   "output_path": "output/runs/3/notebooks/m_3-d22c83a9e1e31ec72d61792767910898.ipynb",
   "parameters": {
    "output_dir": "output",
    "run_no": "3",
    "seed": "2023",
    "universe": "{\"cutoff\": [\"quantile_0.1\", \"quantile_0.25\"], \"eval_fairness_grouping\": [\"majority-minority\", \"nationality-all\"], \"exclude_features\": \"nationality\", \"exclude_subgroups\": \"drop-non-german\", \"model\": \"logreg\", \"scale\": \"do-not-scale\", \"training_size\": \"1k\", \"training_year\": \"2014\"}",
    "universe_id": "d22c83a9e1e31ec72d61792767910898"
   },
   "start_time": "2025-08-19T18:52:42.240938",
   "version": "2.6.0"
  }
 },
 "nbformat": 4,
 "nbformat_minor": 5
}