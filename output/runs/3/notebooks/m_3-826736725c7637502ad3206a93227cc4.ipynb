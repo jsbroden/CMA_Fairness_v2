{
 "cells": [
  {
   "cell_type": "markdown",
   "id": "ef23dbb3",
   "metadata": {
    "papermill": {
     "duration": 0.01823,
     "end_time": "2025-08-19T18:18:09.195142",
     "exception": false,
     "start_time": "2025-08-19T18:18:09.176912",
     "status": "completed"
    },
    "tags": []
   },
   "source": [
    "# Setup"
   ]
  },
  {
   "cell_type": "code",
   "execution_count": 1,
   "id": "0bc8e7dc",
   "metadata": {
    "execution": {
     "iopub.execute_input": "2025-08-19T18:18:09.218501Z",
     "iopub.status.busy": "2025-08-19T18:18:09.218167Z",
     "iopub.status.idle": "2025-08-19T18:18:09.231530Z",
     "shell.execute_reply": "2025-08-19T18:18:09.230132Z"
    },
    "papermill": {
     "duration": 0.025681,
     "end_time": "2025-08-19T18:18:09.233300",
     "exception": false,
     "start_time": "2025-08-19T18:18:09.207619",
     "status": "completed"
    },
    "tags": []
   },
   "outputs": [
    {
     "name": "stdout",
     "output_type": "stream",
     "text": [
      "/dss/dsshome1/0C/ra93lal2/cma/CMA_Fairness_v2\n"
     ]
    },
    {
     "name": "stderr",
     "output_type": "stream",
     "text": [
      "/dss/dsshome1/0C/ra93lal2/.local/share/virtualenvs/CMA_Fairness_v2-3j10GkSs/lib/python3.10/site-packages/IPython/core/magics/osm.py:393: UserWarning: This is now an optional IPython functionality, using bookmarks requires you to install the `pickleshare` library.\n",
      "  bkms = self.shell.db.get('bookmarks', {})\n",
      "/dss/dsshome1/0C/ra93lal2/.local/share/virtualenvs/CMA_Fairness_v2-3j10GkSs/lib/python3.10/site-packages/IPython/core/magics/osm.py:417: UserWarning: This is now an optional IPython functionality, setting dhist requires you to install the `pickleshare` library.\n",
      "  self.shell.db['dhist'] = compress_dhist(dhist)[-100:]\n"
     ]
    }
   ],
   "source": [
    "%cd ~/cma/CMA_Fairness_v2"
   ]
  },
  {
   "cell_type": "markdown",
   "id": "9d235661",
   "metadata": {
    "papermill": {
     "duration": 0.010762,
     "end_time": "2025-08-19T18:18:09.253172",
     "exception": false,
     "start_time": "2025-08-19T18:18:09.242410",
     "status": "completed"
    },
    "tags": []
   },
   "source": [
    "The following cell holds the definition of our parameters, these values can be overriden by rendering the with e.g. the following command:\n",
    "\n",
    "papermill -p alpha 0.2 -p ratio 0.3 universe_analysis.ipynb output/test_run.ipynb"
   ]
  },
  {
   "cell_type": "code",
   "execution_count": 2,
   "id": "4a789d8e",
   "metadata": {
    "execution": {
     "iopub.execute_input": "2025-08-19T18:18:09.271963Z",
     "iopub.status.busy": "2025-08-19T18:18:09.271654Z",
     "iopub.status.idle": "2025-08-19T18:18:09.278063Z",
     "shell.execute_reply": "2025-08-19T18:18:09.276925Z"
    },
    "papermill": {
     "duration": 0.017886,
     "end_time": "2025-08-19T18:18:09.279819",
     "exception": false,
     "start_time": "2025-08-19T18:18:09.261933",
     "status": "completed"
    },
    "tags": []
   },
   "outputs": [
    {
     "name": "stdout",
     "output_type": "stream",
     "text": [
      "Current working directory: /dss/dsshome1/0C/ra93lal2/cma/CMA_Fairness_v2\n"
     ]
    }
   ],
   "source": [
    "import os\n",
    "print(\"Current working directory:\", os.getcwd())"
   ]
  },
  {
   "cell_type": "code",
   "execution_count": 3,
   "id": "4132aaed",
   "metadata": {
    "execution": {
     "iopub.execute_input": "2025-08-19T18:18:09.306170Z",
     "iopub.status.busy": "2025-08-19T18:18:09.305204Z",
     "iopub.status.idle": "2025-08-19T18:18:09.313292Z",
     "shell.execute_reply": "2025-08-19T18:18:09.311947Z"
    },
    "papermill": {
     "duration": 0.01987,
     "end_time": "2025-08-19T18:18:09.314912",
     "exception": false,
     "start_time": "2025-08-19T18:18:09.295042",
     "status": "completed"
    },
    "tags": [
     "parameters"
    ]
   },
   "outputs": [],
   "source": [
    "run_no = 0\n",
    "universe_id = \"test\"\n",
    "universe = {\n",
    "    \"training_size\": \"5k\", # \"25k\", \"5k\", \"1k\"\n",
    "    \"training_year\": \"2012_14\", # \"2014\", \"2012_14\", \"2010_14\"\n",
    "    \"scale\": \"scale\", # \"scale\", \"do-not-scale\",\n",
    "    \"model\": \"elasticnet\", # \"logreg\", \"penalized_logreg\", \"rf\", \"gbm\", \"elasticnet\"\n",
    "    \"cutoff\": [\"quantile_0.15\", \"quantile_0.30\"],\n",
    "    \"exclude_features\": \"age\", # \"none\", \"nationality\", \"sex\", \"nationality-sex\", \"age\"\n",
    "    \"exclude_subgroups\": \"drop-non-german\", # \"keep-all\", \"drop-non-german\"\n",
    "    \"eval_fairness_grouping\": [\"majority-minority\", \"nationality-all\"]\n",
    "}\n",
    "\n",
    "output_dir=\"./output\"\n",
    "seed=0"
   ]
  },
  {
   "cell_type": "code",
   "execution_count": 4,
   "id": "5de96266",
   "metadata": {
    "execution": {
     "iopub.execute_input": "2025-08-19T18:18:09.337739Z",
     "iopub.status.busy": "2025-08-19T18:18:09.336862Z",
     "iopub.status.idle": "2025-08-19T18:18:09.343552Z",
     "shell.execute_reply": "2025-08-19T18:18:09.342342Z"
    },
    "papermill": {
     "duration": 0.018164,
     "end_time": "2025-08-19T18:18:09.344792",
     "exception": false,
     "start_time": "2025-08-19T18:18:09.326628",
     "status": "completed"
    },
    "tags": [
     "injected-parameters"
    ]
   },
   "outputs": [],
   "source": [
    "# Parameters\n",
    "universe_id = \"826736725c7637502ad3206a93227cc4\"\n",
    "run_no = \"3\"\n",
    "universe = \"{\\\"cutoff\\\": [\\\"quantile_0.1\\\", \\\"quantile_0.25\\\"], \\\"eval_fairness_grouping\\\": [\\\"majority-minority\\\", \\\"nationality-all\\\"], \\\"exclude_features\\\": \\\"nationality-sex\\\", \\\"exclude_subgroups\\\": \\\"keep-all\\\", \\\"model\\\": \\\"logreg\\\", \\\"scale\\\": \\\"do-not-scale\\\", \\\"training_size\\\": \\\"25k\\\", \\\"training_year\\\": \\\"2010_14\\\"}\"\n",
    "output_dir = \"output\"\n",
    "seed = \"2023\"\n"
   ]
  },
  {
   "cell_type": "code",
   "execution_count": 5,
   "id": "a5d7941f",
   "metadata": {
    "execution": {
     "iopub.execute_input": "2025-08-19T18:18:09.367491Z",
     "iopub.status.busy": "2025-08-19T18:18:09.366691Z",
     "iopub.status.idle": "2025-08-19T18:18:09.372685Z",
     "shell.execute_reply": "2025-08-19T18:18:09.371512Z"
    },
    "papermill": {
     "duration": 0.017265,
     "end_time": "2025-08-19T18:18:09.374008",
     "exception": false,
     "start_time": "2025-08-19T18:18:09.356743",
     "status": "completed"
    },
    "tags": []
   },
   "outputs": [],
   "source": [
    "import json\n",
    "if isinstance(universe, str):\n",
    "    universe = json.loads(universe)"
   ]
  },
  {
   "cell_type": "code",
   "execution_count": 6,
   "id": "7076ccb1",
   "metadata": {
    "execution": {
     "iopub.execute_input": "2025-08-19T18:18:09.397336Z",
     "iopub.status.busy": "2025-08-19T18:18:09.396460Z",
     "iopub.status.idle": "2025-08-19T18:18:09.446595Z",
     "shell.execute_reply": "2025-08-19T18:18:09.445979Z"
    },
    "papermill": {
     "duration": 0.063088,
     "end_time": "2025-08-19T18:18:09.449122",
     "exception": false,
     "start_time": "2025-08-19T18:18:09.386034",
     "status": "completed"
    },
    "tags": []
   },
   "outputs": [],
   "source": [
    "# Auto-reload the custom package\n",
    "%load_ext autoreload\n",
    "%autoreload 1\n",
    "%aimport fairness_multiverse"
   ]
  },
  {
   "cell_type": "code",
   "execution_count": 7,
   "id": "94c8eb93",
   "metadata": {
    "execution": {
     "iopub.execute_input": "2025-08-19T18:18:09.486259Z",
     "iopub.status.busy": "2025-08-19T18:18:09.485774Z",
     "iopub.status.idle": "2025-08-19T18:18:10.949617Z",
     "shell.execute_reply": "2025-08-19T18:18:10.948833Z"
    },
    "papermill": {
     "duration": 1.479557,
     "end_time": "2025-08-19T18:18:10.951127",
     "exception": false,
     "start_time": "2025-08-19T18:18:09.471570",
     "status": "completed"
    },
    "tags": []
   },
   "outputs": [],
   "source": [
    "from fairness_multiverse.universe import UniverseAnalysis\n",
    "\n",
    "universe_analysis = UniverseAnalysis(\n",
    "    run_no = run_no,\n",
    "    universe_id = universe_id,\n",
    "    universe = universe,\n",
    "    output_dir=output_dir,\n",
    ")"
   ]
  },
  {
   "cell_type": "code",
   "execution_count": 8,
   "id": "2a6381cf",
   "metadata": {
    "execution": {
     "iopub.execute_input": "2025-08-19T18:18:10.979506Z",
     "iopub.status.busy": "2025-08-19T18:18:10.979067Z",
     "iopub.status.idle": "2025-08-19T18:18:10.990933Z",
     "shell.execute_reply": "2025-08-19T18:18:10.989909Z"
    },
    "papermill": {
     "duration": 0.026453,
     "end_time": "2025-08-19T18:18:10.993972",
     "exception": false,
     "start_time": "2025-08-19T18:18:10.967519",
     "status": "completed"
    },
    "tags": []
   },
   "outputs": [
    {
     "name": "stdout",
     "output_type": "stream",
     "text": [
      "Using Seed: 2023\n"
     ]
    }
   ],
   "source": [
    "import numpy as np\n",
    "parsed_seed = int(seed)\n",
    "np.random.seed(parsed_seed)\n",
    "print(f\"Using Seed: {parsed_seed}\")"
   ]
  },
  {
   "cell_type": "markdown",
   "id": "b6e958b4",
   "metadata": {
    "papermill": {
     "duration": 0.010035,
     "end_time": "2025-08-19T18:18:11.019003",
     "exception": false,
     "start_time": "2025-08-19T18:18:11.008968",
     "status": "completed"
    },
    "tags": []
   },
   "source": [
    "# Loading Data"
   ]
  },
  {
   "cell_type": "code",
   "execution_count": 9,
   "id": "98701482",
   "metadata": {
    "execution": {
     "iopub.execute_input": "2025-08-19T18:18:11.039130Z",
     "iopub.status.busy": "2025-08-19T18:18:11.038359Z",
     "iopub.status.idle": "2025-08-19T18:18:20.722082Z",
     "shell.execute_reply": "2025-08-19T18:18:20.721305Z"
    },
    "papermill": {
     "duration": 9.695062,
     "end_time": "2025-08-19T18:18:20.723320",
     "exception": false,
     "start_time": "2025-08-19T18:18:11.028258",
     "status": "completed"
    },
    "tags": []
   },
   "outputs": [
    {
     "name": "stdout",
     "output_type": "stream",
     "text": [
      "Loading SIAB data from cache: data/siab_cached.csv.gz\n"
     ]
    },
    {
     "name": "stdout",
     "output_type": "stream",
     "text": [
      "(643690, 164)\n"
     ]
    }
   ],
   "source": [
    "from pathlib import Path\n",
    "import pandas as pd\n",
    "\n",
    "# File paths\n",
    "raw_file = Path(\"data/raw/siab.csv\")\n",
    "cache_file = Path(\"data/siab_cached.csv.gz\")\n",
    "\n",
    "# Ensure cache directory exists\n",
    "cache_file.parent.mkdir(parents=True, exist_ok=True)\n",
    "\n",
    "# Load with simple caching\n",
    "if cache_file.exists():\n",
    "    print(f\"Loading SIAB data from cache: {cache_file}\")\n",
    "    siab = pd.read_csv(cache_file, compression='gzip')\n",
    "else:\n",
    "    print(f\"Cache not found. Reading raw SIAB data: {raw_file}\")\n",
    "    siab = pd.read_csv(raw_file)\n",
    "    siab.to_csv(cache_file, index=False, compression='gzip')\n",
    "    print(f\"Cached SIAB data to: {cache_file}\")\n",
    "\n",
    "print(siab.shape)"
   ]
  },
  {
   "cell_type": "code",
   "execution_count": 10,
   "id": "058d2abb",
   "metadata": {
    "execution": {
     "iopub.execute_input": "2025-08-19T18:18:20.747390Z",
     "iopub.status.busy": "2025-08-19T18:18:20.746826Z",
     "iopub.status.idle": "2025-08-19T18:18:20.897058Z",
     "shell.execute_reply": "2025-08-19T18:18:20.896421Z"
    },
    "papermill": {
     "duration": 0.163026,
     "end_time": "2025-08-19T18:18:20.898532",
     "exception": false,
     "start_time": "2025-08-19T18:18:20.735506",
     "status": "completed"
    },
    "tags": []
   },
   "outputs": [
    {
     "data": {
      "text/html": [
       "<div>\n",
       "<style scoped>\n",
       "    .dataframe tbody tr th:only-of-type {\n",
       "        vertical-align: middle;\n",
       "    }\n",
       "\n",
       "    .dataframe tbody tr th {\n",
       "        vertical-align: top;\n",
       "    }\n",
       "\n",
       "    .dataframe thead th {\n",
       "        text-align: right;\n",
       "    }\n",
       "</style>\n",
       "<table border=\"1\" class=\"dataframe\">\n",
       "  <thead>\n",
       "    <tr style=\"text-align: right;\">\n",
       "      <th></th>\n",
       "      <th>persnr</th>\n",
       "      <th>year</th>\n",
       "      <th>nrEntry</th>\n",
       "      <th>ltue</th>\n",
       "      <th>employed_before</th>\n",
       "      <th>receipt_leh_before</th>\n",
       "      <th>receipt_lhg_before</th>\n",
       "      <th>se_before</th>\n",
       "      <th>ASU_notue_seeking_before</th>\n",
       "      <th>ASU_other_before</th>\n",
       "      <th>...</th>\n",
       "      <th>minijob_tot_dur_byage</th>\n",
       "      <th>ft_tot_dur_byage</th>\n",
       "      <th>befrist_tot_dur_byage</th>\n",
       "      <th>leih_tot_dur_byage</th>\n",
       "      <th>LHG_tot_dur_byage</th>\n",
       "      <th>LEH_tot_dur_byage</th>\n",
       "      <th>almp_tot_dur_byage</th>\n",
       "      <th>almp_aw_tot_dur_byage</th>\n",
       "      <th>se_tot_dur_byage</th>\n",
       "      <th>seeking1_tot_dur_byage</th>\n",
       "    </tr>\n",
       "  </thead>\n",
       "  <tbody>\n",
       "    <tr>\n",
       "      <th>0</th>\n",
       "      <td>7</td>\n",
       "      <td>2015</td>\n",
       "      <td>1</td>\n",
       "      <td>0</td>\n",
       "      <td>1</td>\n",
       "      <td>0</td>\n",
       "      <td>0</td>\n",
       "      <td>0</td>\n",
       "      <td>1</td>\n",
       "      <td>0</td>\n",
       "      <td>...</td>\n",
       "      <td>0.000000</td>\n",
       "      <td>0.000000</td>\n",
       "      <td>15.043478</td>\n",
       "      <td>0.000000</td>\n",
       "      <td>0.000000</td>\n",
       "      <td>0.000000</td>\n",
       "      <td>0.000000</td>\n",
       "      <td>0.000000</td>\n",
       "      <td>0.000000</td>\n",
       "      <td>0.000000</td>\n",
       "    </tr>\n",
       "    <tr>\n",
       "      <th>1</th>\n",
       "      <td>18</td>\n",
       "      <td>2010</td>\n",
       "      <td>1</td>\n",
       "      <td>1</td>\n",
       "      <td>0</td>\n",
       "      <td>0</td>\n",
       "      <td>0</td>\n",
       "      <td>0</td>\n",
       "      <td>0</td>\n",
       "      <td>0</td>\n",
       "      <td>...</td>\n",
       "      <td>0.000000</td>\n",
       "      <td>0.000000</td>\n",
       "      <td>0.000000</td>\n",
       "      <td>0.000000</td>\n",
       "      <td>0.000000</td>\n",
       "      <td>0.000000</td>\n",
       "      <td>0.000000</td>\n",
       "      <td>0.000000</td>\n",
       "      <td>0.000000</td>\n",
       "      <td>0.000000</td>\n",
       "    </tr>\n",
       "    <tr>\n",
       "      <th>2</th>\n",
       "      <td>18</td>\n",
       "      <td>2011</td>\n",
       "      <td>2</td>\n",
       "      <td>0</td>\n",
       "      <td>1</td>\n",
       "      <td>0</td>\n",
       "      <td>1</td>\n",
       "      <td>0</td>\n",
       "      <td>1</td>\n",
       "      <td>0</td>\n",
       "      <td>...</td>\n",
       "      <td>2.714286</td>\n",
       "      <td>2.714286</td>\n",
       "      <td>0.000000</td>\n",
       "      <td>0.000000</td>\n",
       "      <td>10.775510</td>\n",
       "      <td>0.000000</td>\n",
       "      <td>8.367347</td>\n",
       "      <td>0.000000</td>\n",
       "      <td>0.000000</td>\n",
       "      <td>9.836735</td>\n",
       "    </tr>\n",
       "    <tr>\n",
       "      <th>3</th>\n",
       "      <td>18</td>\n",
       "      <td>2012</td>\n",
       "      <td>3</td>\n",
       "      <td>0</td>\n",
       "      <td>1</td>\n",
       "      <td>0</td>\n",
       "      <td>1</td>\n",
       "      <td>0</td>\n",
       "      <td>1</td>\n",
       "      <td>0</td>\n",
       "      <td>...</td>\n",
       "      <td>4.200000</td>\n",
       "      <td>4.200000</td>\n",
       "      <td>0.000000</td>\n",
       "      <td>0.000000</td>\n",
       "      <td>12.100000</td>\n",
       "      <td>0.000000</td>\n",
       "      <td>9.400000</td>\n",
       "      <td>0.000000</td>\n",
       "      <td>0.000000</td>\n",
       "      <td>9.960000</td>\n",
       "    </tr>\n",
       "    <tr>\n",
       "      <th>4</th>\n",
       "      <td>18</td>\n",
       "      <td>2012</td>\n",
       "      <td>4</td>\n",
       "      <td>0</td>\n",
       "      <td>1</td>\n",
       "      <td>0</td>\n",
       "      <td>1</td>\n",
       "      <td>0</td>\n",
       "      <td>1</td>\n",
       "      <td>0</td>\n",
       "      <td>...</td>\n",
       "      <td>5.460000</td>\n",
       "      <td>5.460000</td>\n",
       "      <td>0.000000</td>\n",
       "      <td>0.000000</td>\n",
       "      <td>13.360000</td>\n",
       "      <td>0.000000</td>\n",
       "      <td>10.320000</td>\n",
       "      <td>0.000000</td>\n",
       "      <td>0.000000</td>\n",
       "      <td>10.280000</td>\n",
       "    </tr>\n",
       "    <tr>\n",
       "      <th>...</th>\n",
       "      <td>...</td>\n",
       "      <td>...</td>\n",
       "      <td>...</td>\n",
       "      <td>...</td>\n",
       "      <td>...</td>\n",
       "      <td>...</td>\n",
       "      <td>...</td>\n",
       "      <td>...</td>\n",
       "      <td>...</td>\n",
       "      <td>...</td>\n",
       "      <td>...</td>\n",
       "      <td>...</td>\n",
       "      <td>...</td>\n",
       "      <td>...</td>\n",
       "      <td>...</td>\n",
       "      <td>...</td>\n",
       "      <td>...</td>\n",
       "      <td>...</td>\n",
       "      <td>...</td>\n",
       "      <td>...</td>\n",
       "      <td>...</td>\n",
       "    </tr>\n",
       "    <tr>\n",
       "      <th>643685</th>\n",
       "      <td>1827860</td>\n",
       "      <td>2013</td>\n",
       "      <td>1</td>\n",
       "      <td>0</td>\n",
       "      <td>0</td>\n",
       "      <td>0</td>\n",
       "      <td>1</td>\n",
       "      <td>0</td>\n",
       "      <td>0</td>\n",
       "      <td>1</td>\n",
       "      <td>...</td>\n",
       "      <td>0.000000</td>\n",
       "      <td>0.000000</td>\n",
       "      <td>0.000000</td>\n",
       "      <td>0.000000</td>\n",
       "      <td>0.612903</td>\n",
       "      <td>0.000000</td>\n",
       "      <td>0.000000</td>\n",
       "      <td>0.000000</td>\n",
       "      <td>0.000000</td>\n",
       "      <td>0.000000</td>\n",
       "    </tr>\n",
       "    <tr>\n",
       "      <th>643686</th>\n",
       "      <td>1827860</td>\n",
       "      <td>2015</td>\n",
       "      <td>2</td>\n",
       "      <td>1</td>\n",
       "      <td>0</td>\n",
       "      <td>0</td>\n",
       "      <td>1</td>\n",
       "      <td>0</td>\n",
       "      <td>1</td>\n",
       "      <td>0</td>\n",
       "      <td>...</td>\n",
       "      <td>0.000000</td>\n",
       "      <td>0.000000</td>\n",
       "      <td>0.212121</td>\n",
       "      <td>0.212121</td>\n",
       "      <td>17.363636</td>\n",
       "      <td>0.000000</td>\n",
       "      <td>8.909091</td>\n",
       "      <td>0.000000</td>\n",
       "      <td>0.000000</td>\n",
       "      <td>7.121212</td>\n",
       "    </tr>\n",
       "    <tr>\n",
       "      <th>643687</th>\n",
       "      <td>1827860</td>\n",
       "      <td>2016</td>\n",
       "      <td>3</td>\n",
       "      <td>1</td>\n",
       "      <td>0</td>\n",
       "      <td>0</td>\n",
       "      <td>1</td>\n",
       "      <td>1</td>\n",
       "      <td>0</td>\n",
       "      <td>1</td>\n",
       "      <td>...</td>\n",
       "      <td>0.000000</td>\n",
       "      <td>0.000000</td>\n",
       "      <td>0.294118</td>\n",
       "      <td>0.205882</td>\n",
       "      <td>34.705882</td>\n",
       "      <td>0.000000</td>\n",
       "      <td>10.352941</td>\n",
       "      <td>1.705882</td>\n",
       "      <td>1.705882</td>\n",
       "      <td>23.911765</td>\n",
       "    </tr>\n",
       "    <tr>\n",
       "      <th>643688</th>\n",
       "      <td>1827869</td>\n",
       "      <td>2013</td>\n",
       "      <td>1</td>\n",
       "      <td>1</td>\n",
       "      <td>1</td>\n",
       "      <td>0</td>\n",
       "      <td>0</td>\n",
       "      <td>0</td>\n",
       "      <td>1</td>\n",
       "      <td>0</td>\n",
       "      <td>...</td>\n",
       "      <td>0.000000</td>\n",
       "      <td>0.000000</td>\n",
       "      <td>0.000000</td>\n",
       "      <td>0.000000</td>\n",
       "      <td>0.000000</td>\n",
       "      <td>0.525424</td>\n",
       "      <td>0.000000</td>\n",
       "      <td>0.000000</td>\n",
       "      <td>0.000000</td>\n",
       "      <td>0.000000</td>\n",
       "    </tr>\n",
       "    <tr>\n",
       "      <th>643689</th>\n",
       "      <td>1827869</td>\n",
       "      <td>2014</td>\n",
       "      <td>2</td>\n",
       "      <td>0</td>\n",
       "      <td>0</td>\n",
       "      <td>1</td>\n",
       "      <td>0</td>\n",
       "      <td>0</td>\n",
       "      <td>1</td>\n",
       "      <td>0</td>\n",
       "      <td>...</td>\n",
       "      <td>0.000000</td>\n",
       "      <td>0.666667</td>\n",
       "      <td>0.666667</td>\n",
       "      <td>0.000000</td>\n",
       "      <td>0.000000</td>\n",
       "      <td>8.950000</td>\n",
       "      <td>1.033333</td>\n",
       "      <td>0.083333</td>\n",
       "      <td>0.083333</td>\n",
       "      <td>8.133333</td>\n",
       "    </tr>\n",
       "  </tbody>\n",
       "</table>\n",
       "<p>643690 rows × 164 columns</p>\n",
       "</div>"
      ],
      "text/plain": [
       "         persnr  year  nrEntry  ltue  employed_before  receipt_leh_before  \\\n",
       "0             7  2015        1     0                1                   0   \n",
       "1            18  2010        1     1                0                   0   \n",
       "2            18  2011        2     0                1                   0   \n",
       "3            18  2012        3     0                1                   0   \n",
       "4            18  2012        4     0                1                   0   \n",
       "...         ...   ...      ...   ...              ...                 ...   \n",
       "643685  1827860  2013        1     0                0                   0   \n",
       "643686  1827860  2015        2     1                0                   0   \n",
       "643687  1827860  2016        3     1                0                   0   \n",
       "643688  1827869  2013        1     1                1                   0   \n",
       "643689  1827869  2014        2     0                0                   1   \n",
       "\n",
       "        receipt_lhg_before  se_before  ASU_notue_seeking_before  \\\n",
       "0                        0          0                         1   \n",
       "1                        0          0                         0   \n",
       "2                        1          0                         1   \n",
       "3                        1          0                         1   \n",
       "4                        1          0                         1   \n",
       "...                    ...        ...                       ...   \n",
       "643685                   1          0                         0   \n",
       "643686                   1          0                         1   \n",
       "643687                   1          1                         0   \n",
       "643688                   0          0                         1   \n",
       "643689                   0          0                         1   \n",
       "\n",
       "        ASU_other_before  ...  minijob_tot_dur_byage  ft_tot_dur_byage  \\\n",
       "0                      0  ...               0.000000          0.000000   \n",
       "1                      0  ...               0.000000          0.000000   \n",
       "2                      0  ...               2.714286          2.714286   \n",
       "3                      0  ...               4.200000          4.200000   \n",
       "4                      0  ...               5.460000          5.460000   \n",
       "...                  ...  ...                    ...               ...   \n",
       "643685                 1  ...               0.000000          0.000000   \n",
       "643686                 0  ...               0.000000          0.000000   \n",
       "643687                 1  ...               0.000000          0.000000   \n",
       "643688                 0  ...               0.000000          0.000000   \n",
       "643689                 0  ...               0.000000          0.666667   \n",
       "\n",
       "        befrist_tot_dur_byage  leih_tot_dur_byage  LHG_tot_dur_byage  \\\n",
       "0                   15.043478            0.000000           0.000000   \n",
       "1                    0.000000            0.000000           0.000000   \n",
       "2                    0.000000            0.000000          10.775510   \n",
       "3                    0.000000            0.000000          12.100000   \n",
       "4                    0.000000            0.000000          13.360000   \n",
       "...                       ...                 ...                ...   \n",
       "643685               0.000000            0.000000           0.612903   \n",
       "643686               0.212121            0.212121          17.363636   \n",
       "643687               0.294118            0.205882          34.705882   \n",
       "643688               0.000000            0.000000           0.000000   \n",
       "643689               0.666667            0.000000           0.000000   \n",
       "\n",
       "        LEH_tot_dur_byage  almp_tot_dur_byage  almp_aw_tot_dur_byage  \\\n",
       "0                0.000000            0.000000               0.000000   \n",
       "1                0.000000            0.000000               0.000000   \n",
       "2                0.000000            8.367347               0.000000   \n",
       "3                0.000000            9.400000               0.000000   \n",
       "4                0.000000           10.320000               0.000000   \n",
       "...                   ...                 ...                    ...   \n",
       "643685           0.000000            0.000000               0.000000   \n",
       "643686           0.000000            8.909091               0.000000   \n",
       "643687           0.000000           10.352941               1.705882   \n",
       "643688           0.525424            0.000000               0.000000   \n",
       "643689           8.950000            1.033333               0.083333   \n",
       "\n",
       "        se_tot_dur_byage  seeking1_tot_dur_byage  \n",
       "0               0.000000                0.000000  \n",
       "1               0.000000                0.000000  \n",
       "2               0.000000                9.836735  \n",
       "3               0.000000                9.960000  \n",
       "4               0.000000               10.280000  \n",
       "...                  ...                     ...  \n",
       "643685          0.000000                0.000000  \n",
       "643686          0.000000                7.121212  \n",
       "643687          1.705882               23.911765  \n",
       "643688          0.000000                0.000000  \n",
       "643689          0.083333                8.133333  \n",
       "\n",
       "[643690 rows x 164 columns]"
      ]
     },
     "execution_count": 10,
     "metadata": {},
     "output_type": "execute_result"
    }
   ],
   "source": [
    "siab"
   ]
  },
  {
   "cell_type": "markdown",
   "id": "1f87e805",
   "metadata": {
    "papermill": {
     "duration": 0.009538,
     "end_time": "2025-08-19T18:18:20.918479",
     "exception": false,
     "start_time": "2025-08-19T18:18:20.908941",
     "status": "completed"
    },
    "tags": []
   },
   "source": [
    "# Splitting Data and Setting Training Data Size"
   ]
  },
  {
   "cell_type": "code",
   "execution_count": 11,
   "id": "910ae358",
   "metadata": {
    "execution": {
     "iopub.execute_input": "2025-08-19T18:18:20.940265Z",
     "iopub.status.busy": "2025-08-19T18:18:20.939391Z",
     "iopub.status.idle": "2025-08-19T18:18:22.051651Z",
     "shell.execute_reply": "2025-08-19T18:18:22.050900Z"
    },
    "papermill": {
     "duration": 1.125016,
     "end_time": "2025-08-19T18:18:22.053186",
     "exception": false,
     "start_time": "2025-08-19T18:18:20.928170",
     "status": "completed"
    },
    "tags": []
   },
   "outputs": [],
   "source": [
    "from fairness_multiverse.universe import sample_by_year_size\n",
    "\n",
    "siab_train = sample_by_year_size(siab,\n",
    "                               training_year=universe[\"training_year\"],\n",
    "                               training_size=universe[\"training_size\"])"
   ]
  },
  {
   "cell_type": "code",
   "execution_count": 12,
   "id": "919c8ff5",
   "metadata": {
    "execution": {
     "iopub.execute_input": "2025-08-19T18:18:22.080251Z",
     "iopub.status.busy": "2025-08-19T18:18:22.079781Z",
     "iopub.status.idle": "2025-08-19T18:18:22.085454Z",
     "shell.execute_reply": "2025-08-19T18:18:22.084781Z"
    },
    "papermill": {
     "duration": 0.022214,
     "end_time": "2025-08-19T18:18:22.087359",
     "exception": false,
     "start_time": "2025-08-19T18:18:22.065145",
     "status": "completed"
    },
    "tags": []
   },
   "outputs": [
    {
     "data": {
      "text/plain": [
       "(25000, 164)"
      ]
     },
     "execution_count": 12,
     "metadata": {},
     "output_type": "execute_result"
    }
   ],
   "source": [
    "siab_train.shape"
   ]
  },
  {
   "cell_type": "code",
   "execution_count": 13,
   "id": "feb13bf4",
   "metadata": {
    "execution": {
     "iopub.execute_input": "2025-08-19T18:18:22.112092Z",
     "iopub.status.busy": "2025-08-19T18:18:22.111278Z",
     "iopub.status.idle": "2025-08-19T18:18:22.124136Z",
     "shell.execute_reply": "2025-08-19T18:18:22.123183Z"
    },
    "papermill": {
     "duration": 0.025596,
     "end_time": "2025-08-19T18:18:22.125551",
     "exception": false,
     "start_time": "2025-08-19T18:18:22.099955",
     "status": "completed"
    },
    "tags": []
   },
   "outputs": [
    {
     "data": {
      "text/plain": [
       "year\n",
       "2010    5000\n",
       "2011    5000\n",
       "2012    5000\n",
       "2013    5000\n",
       "2014    5000\n",
       "dtype: int64"
      ]
     },
     "metadata": {},
     "output_type": "display_data"
    }
   ],
   "source": [
    "display(siab_train.groupby(\"year\").size())"
   ]
  },
  {
   "cell_type": "code",
   "execution_count": 14,
   "id": "0997782f",
   "metadata": {
    "execution": {
     "iopub.execute_input": "2025-08-19T18:18:22.156873Z",
     "iopub.status.busy": "2025-08-19T18:18:22.153683Z",
     "iopub.status.idle": "2025-08-19T18:18:22.410601Z",
     "shell.execute_reply": "2025-08-19T18:18:22.409822Z"
    },
    "papermill": {
     "duration": 0.271772,
     "end_time": "2025-08-19T18:18:22.412735",
     "exception": false,
     "start_time": "2025-08-19T18:18:22.140963",
     "status": "completed"
    },
    "tags": []
   },
   "outputs": [],
   "source": [
    "#siab_train = siab_s[siab_s.year < 2015]\n",
    "siab_calib = siab[siab.year == 2015]\n",
    "siab_test = siab[siab.year == 2016]"
   ]
  },
  {
   "cell_type": "code",
   "execution_count": 15,
   "id": "2c1e4012",
   "metadata": {
    "execution": {
     "iopub.execute_input": "2025-08-19T18:18:22.435782Z",
     "iopub.status.busy": "2025-08-19T18:18:22.435337Z",
     "iopub.status.idle": "2025-08-19T18:18:22.439970Z",
     "shell.execute_reply": "2025-08-19T18:18:22.439073Z"
    },
    "papermill": {
     "duration": 0.017576,
     "end_time": "2025-08-19T18:18:22.441326",
     "exception": false,
     "start_time": "2025-08-19T18:18:22.423750",
     "status": "completed"
    },
    "tags": []
   },
   "outputs": [],
   "source": [
    "#siab_calib.shape"
   ]
  },
  {
   "cell_type": "code",
   "execution_count": 16,
   "id": "f66b54ca",
   "metadata": {
    "execution": {
     "iopub.execute_input": "2025-08-19T18:18:22.464621Z",
     "iopub.status.busy": "2025-08-19T18:18:22.463905Z",
     "iopub.status.idle": "2025-08-19T18:18:22.470359Z",
     "shell.execute_reply": "2025-08-19T18:18:22.469155Z"
    },
    "papermill": {
     "duration": 0.020044,
     "end_time": "2025-08-19T18:18:22.471969",
     "exception": false,
     "start_time": "2025-08-19T18:18:22.451925",
     "status": "completed"
    },
    "tags": []
   },
   "outputs": [],
   "source": [
    "#siab_test.shape"
   ]
  },
  {
   "cell_type": "code",
   "execution_count": 17,
   "id": "27e4384d",
   "metadata": {
    "execution": {
     "iopub.execute_input": "2025-08-19T18:18:22.497411Z",
     "iopub.status.busy": "2025-08-19T18:18:22.496721Z",
     "iopub.status.idle": "2025-08-19T18:18:22.514060Z",
     "shell.execute_reply": "2025-08-19T18:18:22.512997Z"
    },
    "papermill": {
     "duration": 0.031327,
     "end_time": "2025-08-19T18:18:22.515949",
     "exception": false,
     "start_time": "2025-08-19T18:18:22.484622",
     "status": "completed"
    },
    "tags": []
   },
   "outputs": [],
   "source": [
    "X_train = siab_train.iloc[:,4:164]\n",
    "y_train = siab_train.iloc[:, [3]]"
   ]
  },
  {
   "cell_type": "code",
   "execution_count": 18,
   "id": "08ee8389",
   "metadata": {
    "execution": {
     "iopub.execute_input": "2025-08-19T18:18:22.546561Z",
     "iopub.status.busy": "2025-08-19T18:18:22.545922Z",
     "iopub.status.idle": "2025-08-19T18:18:22.601431Z",
     "shell.execute_reply": "2025-08-19T18:18:22.600677Z"
    },
    "papermill": {
     "duration": 0.071634,
     "end_time": "2025-08-19T18:18:22.604311",
     "exception": false,
     "start_time": "2025-08-19T18:18:22.532677",
     "status": "completed"
    },
    "tags": []
   },
   "outputs": [],
   "source": [
    "X_calib = siab_calib.iloc[:,4:164]\n",
    "y_calib = siab_calib.iloc[:, [3]]"
   ]
  },
  {
   "cell_type": "code",
   "execution_count": 19,
   "id": "b7ff42e0",
   "metadata": {
    "execution": {
     "iopub.execute_input": "2025-08-19T18:18:22.641856Z",
     "iopub.status.busy": "2025-08-19T18:18:22.641154Z",
     "iopub.status.idle": "2025-08-19T18:18:22.697295Z",
     "shell.execute_reply": "2025-08-19T18:18:22.696527Z"
    },
    "papermill": {
     "duration": 0.072491,
     "end_time": "2025-08-19T18:18:22.699827",
     "exception": false,
     "start_time": "2025-08-19T18:18:22.627336",
     "status": "completed"
    },
    "tags": []
   },
   "outputs": [],
   "source": [
    "X_test = siab_test.iloc[:,4:164]\n",
    "y_true = siab_test.iloc[:, [3]]"
   ]
  },
  {
   "cell_type": "code",
   "execution_count": 20,
   "id": "0275101e",
   "metadata": {
    "execution": {
     "iopub.execute_input": "2025-08-19T18:18:22.749212Z",
     "iopub.status.busy": "2025-08-19T18:18:22.748511Z",
     "iopub.status.idle": "2025-08-19T18:18:22.866793Z",
     "shell.execute_reply": "2025-08-19T18:18:22.865853Z"
    },
    "papermill": {
     "duration": 0.143204,
     "end_time": "2025-08-19T18:18:22.868335",
     "exception": false,
     "start_time": "2025-08-19T18:18:22.725131",
     "status": "completed"
    },
    "tags": []
   },
   "outputs": [],
   "source": [
    "# Auxiliary data needed downstream in the pipeline\n",
    "\n",
    "org_train = X_train.copy()\n",
    "org_test = X_test.copy()\n",
    "org_calib = X_calib.copy()"
   ]
  },
  {
   "cell_type": "markdown",
   "id": "b461e618",
   "metadata": {
    "papermill": {
     "duration": 0.019217,
     "end_time": "2025-08-19T18:18:22.900449",
     "exception": false,
     "start_time": "2025-08-19T18:18:22.881232",
     "status": "completed"
    },
    "tags": []
   },
   "source": [
    "# Preprocessing Data"
   ]
  },
  {
   "cell_type": "code",
   "execution_count": 21,
   "id": "78e74c4b",
   "metadata": {
    "execution": {
     "iopub.execute_input": "2025-08-19T18:18:22.926956Z",
     "iopub.status.busy": "2025-08-19T18:18:22.926438Z",
     "iopub.status.idle": "2025-08-19T18:18:22.931890Z",
     "shell.execute_reply": "2025-08-19T18:18:22.931053Z"
    },
    "papermill": {
     "duration": 0.021016,
     "end_time": "2025-08-19T18:18:22.933296",
     "exception": false,
     "start_time": "2025-08-19T18:18:22.912280",
     "status": "completed"
    },
    "tags": []
   },
   "outputs": [],
   "source": [
    "# EXCLUDE PROTECTED FEATURES\n",
    "# --------------------------\n",
    "\n",
    "excluded_features = universe[\"exclude_features\"].split(\"-\")\n",
    "excluded_features_dictionary = {\n",
    "    \"nationality\": [\"maxdeutsch1\", \"maxdeutsch.Missing.\"],\n",
    "    \"sex\": [\"frau1\"],\n",
    "    \"age\": [\"age\"],\n",
    "}"
   ]
  },
  {
   "cell_type": "code",
   "execution_count": 22,
   "id": "f8e63555",
   "metadata": {
    "execution": {
     "iopub.execute_input": "2025-08-19T18:18:22.955435Z",
     "iopub.status.busy": "2025-08-19T18:18:22.955157Z",
     "iopub.status.idle": "2025-08-19T18:18:22.959968Z",
     "shell.execute_reply": "2025-08-19T18:18:22.959204Z"
    },
    "papermill": {
     "duration": 0.017703,
     "end_time": "2025-08-19T18:18:22.961305",
     "exception": false,
     "start_time": "2025-08-19T18:18:22.943602",
     "status": "completed"
    },
    "tags": []
   },
   "outputs": [],
   "source": [
    "excluded_features_columns = [\n",
    "    excluded_features_dictionary[f] for f in excluded_features if len(f) > 0 and f != \"none\"\n",
    "]"
   ]
  },
  {
   "cell_type": "code",
   "execution_count": 23,
   "id": "da781f7c",
   "metadata": {
    "execution": {
     "iopub.execute_input": "2025-08-19T18:18:22.982889Z",
     "iopub.status.busy": "2025-08-19T18:18:22.982516Z",
     "iopub.status.idle": "2025-08-19T18:18:22.986863Z",
     "shell.execute_reply": "2025-08-19T18:18:22.986114Z"
    },
    "papermill": {
     "duration": 0.026536,
     "end_time": "2025-08-19T18:18:22.998086",
     "exception": false,
     "start_time": "2025-08-19T18:18:22.971550",
     "status": "completed"
    },
    "tags": []
   },
   "outputs": [],
   "source": [
    "from fairness_multiverse.universe import flatten_once\n",
    "\n",
    "excluded_features_columns = flatten_once(excluded_features_columns)"
   ]
  },
  {
   "cell_type": "code",
   "execution_count": 24,
   "id": "37fef0f0",
   "metadata": {
    "execution": {
     "iopub.execute_input": "2025-08-19T18:18:23.022557Z",
     "iopub.status.busy": "2025-08-19T18:18:23.022071Z",
     "iopub.status.idle": "2025-08-19T18:18:23.073619Z",
     "shell.execute_reply": "2025-08-19T18:18:23.072504Z"
    },
    "papermill": {
     "duration": 0.064876,
     "end_time": "2025-08-19T18:18:23.075545",
     "exception": false,
     "start_time": "2025-08-19T18:18:23.010669",
     "status": "completed"
    },
    "tags": []
   },
   "outputs": [
    {
     "name": "stdout",
     "output_type": "stream",
     "text": [
      "Dropping features: ['maxdeutsch1', 'maxdeutsch.Missing.', 'frau1']\n"
     ]
    }
   ],
   "source": [
    "if len(excluded_features_columns) > 0:\n",
    "    print(f\"Dropping features: {excluded_features_columns}\")\n",
    "    X_train.drop(excluded_features_columns, axis=1, inplace=True)"
   ]
  },
  {
   "cell_type": "code",
   "execution_count": 25,
   "id": "d029e3e9",
   "metadata": {
    "execution": {
     "iopub.execute_input": "2025-08-19T18:18:23.104048Z",
     "iopub.status.busy": "2025-08-19T18:18:23.102974Z",
     "iopub.status.idle": "2025-08-19T18:18:23.185489Z",
     "shell.execute_reply": "2025-08-19T18:18:23.184511Z"
    },
    "papermill": {
     "duration": 0.098467,
     "end_time": "2025-08-19T18:18:23.187953",
     "exception": false,
     "start_time": "2025-08-19T18:18:23.089486",
     "status": "completed"
    },
    "tags": []
   },
   "outputs": [
    {
     "name": "stdout",
     "output_type": "stream",
     "text": [
      "Dropping features: ['maxdeutsch1', 'maxdeutsch.Missing.', 'frau1']\n"
     ]
    }
   ],
   "source": [
    "if len(excluded_features_columns) > 0:\n",
    "    print(f\"Dropping features: {excluded_features_columns}\")\n",
    "    X_test.drop(excluded_features_columns, axis=1, inplace=True)"
   ]
  },
  {
   "cell_type": "code",
   "execution_count": 26,
   "id": "01d571f0",
   "metadata": {
    "execution": {
     "iopub.execute_input": "2025-08-19T18:18:23.233622Z",
     "iopub.status.busy": "2025-08-19T18:18:23.232712Z",
     "iopub.status.idle": "2025-08-19T18:18:23.311669Z",
     "shell.execute_reply": "2025-08-19T18:18:23.310827Z"
    },
    "papermill": {
     "duration": 0.100812,
     "end_time": "2025-08-19T18:18:23.314102",
     "exception": false,
     "start_time": "2025-08-19T18:18:23.213290",
     "status": "completed"
    },
    "tags": []
   },
   "outputs": [
    {
     "name": "stdout",
     "output_type": "stream",
     "text": [
      "Dropping features: ['maxdeutsch1', 'maxdeutsch.Missing.', 'frau1']\n"
     ]
    }
   ],
   "source": [
    "if len(excluded_features_columns) > 0:\n",
    "    print(f\"Dropping features: {excluded_features_columns}\")\n",
    "    X_calib.drop(excluded_features_columns, axis=1, inplace=True)"
   ]
  },
  {
   "cell_type": "code",
   "execution_count": 27,
   "id": "3037356e",
   "metadata": {
    "execution": {
     "iopub.execute_input": "2025-08-19T18:18:23.358669Z",
     "iopub.status.busy": "2025-08-19T18:18:23.358181Z",
     "iopub.status.idle": "2025-08-19T18:18:23.362783Z",
     "shell.execute_reply": "2025-08-19T18:18:23.362136Z"
    },
    "papermill": {
     "duration": 0.01923,
     "end_time": "2025-08-19T18:18:23.363957",
     "exception": false,
     "start_time": "2025-08-19T18:18:23.344727",
     "status": "completed"
    },
    "tags": []
   },
   "outputs": [],
   "source": [
    "# EXCLUDE CERTAIN SUBGROUPS\n",
    "# -------------------------\n",
    "\n",
    "mode = universe.get(\"exclude_subgroups\", \"keep-all\") # Defaults to \"keep-all\" if the key is missing."
   ]
  },
  {
   "cell_type": "code",
   "execution_count": 28,
   "id": "9d1e63fd",
   "metadata": {
    "execution": {
     "iopub.execute_input": "2025-08-19T18:18:23.390385Z",
     "iopub.status.busy": "2025-08-19T18:18:23.390004Z",
     "iopub.status.idle": "2025-08-19T18:18:23.395110Z",
     "shell.execute_reply": "2025-08-19T18:18:23.394438Z"
    },
    "papermill": {
     "duration": 0.018005,
     "end_time": "2025-08-19T18:18:23.396268",
     "exception": false,
     "start_time": "2025-08-19T18:18:23.378263",
     "status": "completed"
    },
    "tags": []
   },
   "outputs": [],
   "source": [
    "if mode == \"keep-all\":\n",
    "    keep_mask = pd.Series(True, index=org_train.index)\n",
    "\n",
    "elif mode == \"drop-non-german\":\n",
    "    keep_mask = (org_train[\"maxdeutsch1\"] == 1) & (org_train[\"maxdeutsch.Missing.\"] == 0)\n",
    "\n",
    "else:\n",
    "    raise ValueError(f\"Unsupported mode for exclude_subgroups: {mode}\")"
   ]
  },
  {
   "cell_type": "code",
   "execution_count": 29,
   "id": "d3b65474",
   "metadata": {
    "execution": {
     "iopub.execute_input": "2025-08-19T18:18:23.442187Z",
     "iopub.status.busy": "2025-08-19T18:18:23.441480Z",
     "iopub.status.idle": "2025-08-19T18:18:23.446825Z",
     "shell.execute_reply": "2025-08-19T18:18:23.446181Z"
    },
    "papermill": {
     "duration": 0.018708,
     "end_time": "2025-08-19T18:18:23.447911",
     "exception": false,
     "start_time": "2025-08-19T18:18:23.429203",
     "status": "completed"
    },
    "tags": []
   },
   "outputs": [],
   "source": [
    "n_drop = (~keep_mask).sum() # Calculates how many rows are set to be dropped\n",
    "if n_drop > 0:\n",
    "    pct = n_drop / len(keep_mask) * 100\n",
    "    print(f\"Dropping {n_drop} rows ({pct:.2f}%) where mode='{mode}'\")"
   ]
  },
  {
   "cell_type": "code",
   "execution_count": 30,
   "id": "f44389b3",
   "metadata": {
    "execution": {
     "iopub.execute_input": "2025-08-19T18:18:23.493619Z",
     "iopub.status.busy": "2025-08-19T18:18:23.493202Z",
     "iopub.status.idle": "2025-08-19T18:18:23.507904Z",
     "shell.execute_reply": "2025-08-19T18:18:23.507118Z"
    },
    "papermill": {
     "duration": 0.033136,
     "end_time": "2025-08-19T18:18:23.509937",
     "exception": false,
     "start_time": "2025-08-19T18:18:23.476801",
     "status": "completed"
    },
    "tags": []
   },
   "outputs": [],
   "source": [
    "X_train = X_train[keep_mask]"
   ]
  },
  {
   "cell_type": "code",
   "execution_count": 31,
   "id": "ceca8c2a",
   "metadata": {
    "execution": {
     "iopub.execute_input": "2025-08-19T18:18:23.535605Z",
     "iopub.status.busy": "2025-08-19T18:18:23.535198Z",
     "iopub.status.idle": "2025-08-19T18:18:23.540836Z",
     "shell.execute_reply": "2025-08-19T18:18:23.540065Z"
    },
    "papermill": {
     "duration": 0.018806,
     "end_time": "2025-08-19T18:18:23.542154",
     "exception": false,
     "start_time": "2025-08-19T18:18:23.523348",
     "status": "completed"
    },
    "tags": []
   },
   "outputs": [],
   "source": [
    "y_train = y_train[keep_mask]"
   ]
  },
  {
   "cell_type": "markdown",
   "id": "04d31e2f",
   "metadata": {
    "papermill": {
     "duration": 0.010729,
     "end_time": "2025-08-19T18:18:23.564558",
     "exception": false,
     "start_time": "2025-08-19T18:18:23.553829",
     "status": "completed"
    },
    "tags": []
   },
   "source": [
    "# Model Training"
   ]
  },
  {
   "cell_type": "code",
   "execution_count": 32,
   "id": "db991733",
   "metadata": {
    "execution": {
     "iopub.execute_input": "2025-08-19T18:18:23.587381Z",
     "iopub.status.busy": "2025-08-19T18:18:23.586970Z",
     "iopub.status.idle": "2025-08-19T18:18:23.682585Z",
     "shell.execute_reply": "2025-08-19T18:18:23.681891Z"
    },
    "papermill": {
     "duration": 0.108755,
     "end_time": "2025-08-19T18:18:23.684138",
     "exception": false,
     "start_time": "2025-08-19T18:18:23.575383",
     "status": "completed"
    },
    "tags": []
   },
   "outputs": [],
   "source": [
    "from sklearn.linear_model import LogisticRegression\n",
    "from sklearn.ensemble import GradientBoostingClassifier, RandomForestClassifier\n",
    "\n",
    "if (universe[\"model\"] == \"logreg\"):\n",
    "    model = LogisticRegression() #penalty=\"none\", solver=\"newton-cg\", max_iter=1)\n",
    "elif (universe[\"model\"] == \"penalized_logreg\"):\n",
    "    model = LogisticRegression(penalty=\"l2\", C=0.1) #, solver=\"newton-cg\", max_iter=1)\n",
    "elif (universe[\"model\"] == \"rf\"):\n",
    "    model = RandomForestClassifier() # n_estimators=100, n_jobs=-1\n",
    "elif (universe[\"model\"] == \"gbm\"):\n",
    "    model = GradientBoostingClassifier()\n",
    "elif (universe[\"model\"] == \"elasticnet\"):\n",
    "    model = LogisticRegression(penalty = 'elasticnet', solver = 'saga', l1_ratio = 0.5) # max_iter=5000\n",
    "else:\n",
    "    raise \"Unsupported universe.model\""
   ]
  },
  {
   "cell_type": "code",
   "execution_count": 33,
   "id": "a4b5cd25",
   "metadata": {
    "execution": {
     "iopub.execute_input": "2025-08-19T18:18:23.707918Z",
     "iopub.status.busy": "2025-08-19T18:18:23.707520Z",
     "iopub.status.idle": "2025-08-19T18:18:23.712240Z",
     "shell.execute_reply": "2025-08-19T18:18:23.711567Z"
    },
    "papermill": {
     "duration": 0.018032,
     "end_time": "2025-08-19T18:18:23.713547",
     "exception": false,
     "start_time": "2025-08-19T18:18:23.695515",
     "status": "completed"
    },
    "tags": []
   },
   "outputs": [],
   "source": [
    "from sklearn.pipeline import Pipeline\n",
    "from sklearn.preprocessing import StandardScaler\n",
    "\n",
    "model = Pipeline([\n",
    "    #(\"continuous_processor\", continuous_processor),\n",
    "    #(\"categorical_preprocessor\", categorical_preprocessor),\n",
    "    (\"scale\", StandardScaler() if universe[\"scale\"] == \"scale\" else None), \n",
    "    (\"model\", model),\n",
    "])"
   ]
  },
  {
   "cell_type": "code",
   "execution_count": 34,
   "id": "283a904d",
   "metadata": {
    "execution": {
     "iopub.execute_input": "2025-08-19T18:18:23.737483Z",
     "iopub.status.busy": "2025-08-19T18:18:23.737085Z",
     "iopub.status.idle": "2025-08-19T18:18:24.766317Z",
     "shell.execute_reply": "2025-08-19T18:18:24.765192Z"
    },
    "papermill": {
     "duration": 1.042373,
     "end_time": "2025-08-19T18:18:24.767612",
     "exception": false,
     "start_time": "2025-08-19T18:18:23.725239",
     "status": "completed"
    },
    "tags": []
   },
   "outputs": [
    {
     "name": "stderr",
     "output_type": "stream",
     "text": [
      "/dss/dsshome1/0C/ra93lal2/.local/share/virtualenvs/CMA_Fairness_v2-3j10GkSs/lib/python3.10/site-packages/sklearn/linear_model/_logistic.py:444: ConvergenceWarning: lbfgs failed to converge (status=1):\n",
      "STOP: TOTAL NO. of ITERATIONS REACHED LIMIT.\n",
      "\n",
      "Increase the number of iterations (max_iter) or scale the data as shown in:\n",
      "    https://scikit-learn.org/stable/modules/preprocessing.html\n",
      "Please also refer to the documentation for alternative solver options:\n",
      "    https://scikit-learn.org/stable/modules/linear_model.html#logistic-regression\n",
      "  n_iter_i = _check_optimize_result(\n"
     ]
    },
    {
     "data": {
      "text/html": [
       "<style>#sk-container-id-1 {color: black;background-color: white;}#sk-container-id-1 pre{padding: 0;}#sk-container-id-1 div.sk-toggleable {background-color: white;}#sk-container-id-1 label.sk-toggleable__label {cursor: pointer;display: block;width: 100%;margin-bottom: 0;padding: 0.3em;box-sizing: border-box;text-align: center;}#sk-container-id-1 label.sk-toggleable__label-arrow:before {content: \"▸\";float: left;margin-right: 0.25em;color: #696969;}#sk-container-id-1 label.sk-toggleable__label-arrow:hover:before {color: black;}#sk-container-id-1 div.sk-estimator:hover label.sk-toggleable__label-arrow:before {color: black;}#sk-container-id-1 div.sk-toggleable__content {max-height: 0;max-width: 0;overflow: hidden;text-align: left;background-color: #f0f8ff;}#sk-container-id-1 div.sk-toggleable__content pre {margin: 0.2em;color: black;border-radius: 0.25em;background-color: #f0f8ff;}#sk-container-id-1 input.sk-toggleable__control:checked~div.sk-toggleable__content {max-height: 200px;max-width: 100%;overflow: auto;}#sk-container-id-1 input.sk-toggleable__control:checked~label.sk-toggleable__label-arrow:before {content: \"▾\";}#sk-container-id-1 div.sk-estimator input.sk-toggleable__control:checked~label.sk-toggleable__label {background-color: #d4ebff;}#sk-container-id-1 div.sk-label input.sk-toggleable__control:checked~label.sk-toggleable__label {background-color: #d4ebff;}#sk-container-id-1 input.sk-hidden--visually {border: 0;clip: rect(1px 1px 1px 1px);clip: rect(1px, 1px, 1px, 1px);height: 1px;margin: -1px;overflow: hidden;padding: 0;position: absolute;width: 1px;}#sk-container-id-1 div.sk-estimator {font-family: monospace;background-color: #f0f8ff;border: 1px dotted black;border-radius: 0.25em;box-sizing: border-box;margin-bottom: 0.5em;}#sk-container-id-1 div.sk-estimator:hover {background-color: #d4ebff;}#sk-container-id-1 div.sk-parallel-item::after {content: \"\";width: 100%;border-bottom: 1px solid gray;flex-grow: 1;}#sk-container-id-1 div.sk-label:hover label.sk-toggleable__label {background-color: #d4ebff;}#sk-container-id-1 div.sk-serial::before {content: \"\";position: absolute;border-left: 1px solid gray;box-sizing: border-box;top: 0;bottom: 0;left: 50%;z-index: 0;}#sk-container-id-1 div.sk-serial {display: flex;flex-direction: column;align-items: center;background-color: white;padding-right: 0.2em;padding-left: 0.2em;position: relative;}#sk-container-id-1 div.sk-item {position: relative;z-index: 1;}#sk-container-id-1 div.sk-parallel {display: flex;align-items: stretch;justify-content: center;background-color: white;position: relative;}#sk-container-id-1 div.sk-item::before, #sk-container-id-1 div.sk-parallel-item::before {content: \"\";position: absolute;border-left: 1px solid gray;box-sizing: border-box;top: 0;bottom: 0;left: 50%;z-index: -1;}#sk-container-id-1 div.sk-parallel-item {display: flex;flex-direction: column;z-index: 1;position: relative;background-color: white;}#sk-container-id-1 div.sk-parallel-item:first-child::after {align-self: flex-end;width: 50%;}#sk-container-id-1 div.sk-parallel-item:last-child::after {align-self: flex-start;width: 50%;}#sk-container-id-1 div.sk-parallel-item:only-child::after {width: 0;}#sk-container-id-1 div.sk-dashed-wrapped {border: 1px dashed gray;margin: 0 0.4em 0.5em 0.4em;box-sizing: border-box;padding-bottom: 0.4em;background-color: white;}#sk-container-id-1 div.sk-label label {font-family: monospace;font-weight: bold;display: inline-block;line-height: 1.2em;}#sk-container-id-1 div.sk-label-container {text-align: center;}#sk-container-id-1 div.sk-container {/* jupyter's `normalize.less` sets `[hidden] { display: none; }` but bootstrap.min.css set `[hidden] { display: none !important; }` so we also need the `!important` here to be able to override the default hidden behavior on the sphinx rendered scikit-learn.org. See: https://github.com/scikit-learn/scikit-learn/issues/21755 */display: inline-block !important;position: relative;}#sk-container-id-1 div.sk-text-repr-fallback {display: none;}</style><div id=\"sk-container-id-1\" class=\"sk-top-container\"><div class=\"sk-text-repr-fallback\"><pre>Pipeline(steps=[(&#x27;scale&#x27;, None), (&#x27;model&#x27;, LogisticRegression())])</pre><b>In a Jupyter environment, please rerun this cell to show the HTML representation or trust the notebook. <br />On GitHub, the HTML representation is unable to render, please try loading this page with nbviewer.org.</b></div><div class=\"sk-container\" hidden><div class=\"sk-item sk-dashed-wrapped\"><div class=\"sk-label-container\"><div class=\"sk-label sk-toggleable\"><input class=\"sk-toggleable__control sk-hidden--visually\" id=\"sk-estimator-id-1\" type=\"checkbox\" ><label for=\"sk-estimator-id-1\" class=\"sk-toggleable__label sk-toggleable__label-arrow\">Pipeline</label><div class=\"sk-toggleable__content\"><pre>Pipeline(steps=[(&#x27;scale&#x27;, None), (&#x27;model&#x27;, LogisticRegression())])</pre></div></div></div><div class=\"sk-serial\"><div class=\"sk-item\"><div class=\"sk-estimator sk-toggleable\"><input class=\"sk-toggleable__control sk-hidden--visually\" id=\"sk-estimator-id-2\" type=\"checkbox\" ><label for=\"sk-estimator-id-2\" class=\"sk-toggleable__label sk-toggleable__label-arrow\">None</label><div class=\"sk-toggleable__content\"><pre>None</pre></div></div></div><div class=\"sk-item\"><div class=\"sk-estimator sk-toggleable\"><input class=\"sk-toggleable__control sk-hidden--visually\" id=\"sk-estimator-id-3\" type=\"checkbox\" ><label for=\"sk-estimator-id-3\" class=\"sk-toggleable__label sk-toggleable__label-arrow\">LogisticRegression</label><div class=\"sk-toggleable__content\"><pre>LogisticRegression()</pre></div></div></div></div></div></div></div>"
      ],
      "text/plain": [
       "Pipeline(steps=[('scale', None), ('model', LogisticRegression())])"
      ]
     },
     "execution_count": 34,
     "metadata": {},
     "output_type": "execute_result"
    }
   ],
   "source": [
    "model.fit(X_train, y_train.values.ravel())"
   ]
  },
  {
   "cell_type": "code",
   "execution_count": 35,
   "id": "6e15e313",
   "metadata": {
    "execution": {
     "iopub.execute_input": "2025-08-19T18:18:24.796894Z",
     "iopub.status.busy": "2025-08-19T18:18:24.796557Z",
     "iopub.status.idle": "2025-08-19T18:18:24.901776Z",
     "shell.execute_reply": "2025-08-19T18:18:24.900766Z"
    },
    "papermill": {
     "duration": 0.123801,
     "end_time": "2025-08-19T18:18:24.904368",
     "exception": false,
     "start_time": "2025-08-19T18:18:24.780567",
     "status": "completed"
    },
    "tags": []
   },
   "outputs": [
    {
     "data": {
      "text/plain": [
       "0.8585553450005573"
      ]
     },
     "execution_count": 35,
     "metadata": {},
     "output_type": "execute_result"
    }
   ],
   "source": [
    "from fairness_multiverse.universe import predict_w_threshold\n",
    "\n",
    "probs_test = model.predict_proba(X_test)\n",
    "\n",
    "'''\n",
    "Below code returns a boolean array (or binary 0/1 array depending on how it’s used) where each element \n",
    "is True if the probability of class 1 is greater than or equal to the threshold, and False otherwise.\n",
    "'''\n",
    "y_pred_default = predict_w_threshold(probs_test, 0.5)\n",
    "\n",
    "from sklearn.metrics import accuracy_score\n",
    "\n",
    "# Naive prediction\n",
    "accuracy_score(y_true = y_true, y_pred = y_pred_default)"
   ]
  },
  {
   "cell_type": "code",
   "execution_count": 36,
   "id": "6f14067c",
   "metadata": {
    "execution": {
     "iopub.execute_input": "2025-08-19T18:18:24.950082Z",
     "iopub.status.busy": "2025-08-19T18:18:24.942643Z",
     "iopub.status.idle": "2025-08-19T18:18:25.064841Z",
     "shell.execute_reply": "2025-08-19T18:18:25.064023Z"
    },
    "papermill": {
     "duration": 0.138027,
     "end_time": "2025-08-19T18:18:25.066313",
     "exception": false,
     "start_time": "2025-08-19T18:18:24.928286",
     "status": "completed"
    },
    "tags": []
   },
   "outputs": [
    {
     "data": {
      "text/plain": [
       "array([0, 0, 0, ..., 0, 0, 0])"
      ]
     },
     "execution_count": 36,
     "metadata": {},
     "output_type": "execute_result"
    }
   ],
   "source": [
    "model.predict(X_test)"
   ]
  },
  {
   "cell_type": "markdown",
   "id": "3759920c",
   "metadata": {
    "papermill": {
     "duration": 0.011422,
     "end_time": "2025-08-19T18:18:25.091148",
     "exception": false,
     "start_time": "2025-08-19T18:18:25.079726",
     "status": "completed"
    },
    "tags": []
   },
   "source": [
    "# Conformal Prediction"
   ]
  },
  {
   "cell_type": "code",
   "execution_count": 37,
   "id": "14b27f59",
   "metadata": {
    "execution": {
     "iopub.execute_input": "2025-08-19T18:18:25.115813Z",
     "iopub.status.busy": "2025-08-19T18:18:25.115326Z",
     "iopub.status.idle": "2025-08-19T18:18:25.119668Z",
     "shell.execute_reply": "2025-08-19T18:18:25.119012Z"
    },
    "papermill": {
     "duration": 0.018565,
     "end_time": "2025-08-19T18:18:25.120970",
     "exception": false,
     "start_time": "2025-08-19T18:18:25.102405",
     "status": "completed"
    },
    "tags": []
   },
   "outputs": [],
   "source": [
    "# Miscoverage level for conformal prediction (10% allowed error rate => 90% target coverage)\n",
    "alpha = 0.1"
   ]
  },
  {
   "cell_type": "code",
   "execution_count": 38,
   "id": "59102472",
   "metadata": {
    "execution": {
     "iopub.execute_input": "2025-08-19T18:18:25.144690Z",
     "iopub.status.busy": "2025-08-19T18:18:25.144264Z",
     "iopub.status.idle": "2025-08-19T18:18:25.232409Z",
     "shell.execute_reply": "2025-08-19T18:18:25.231634Z"
    },
    "papermill": {
     "duration": 0.101624,
     "end_time": "2025-08-19T18:18:25.234035",
     "exception": false,
     "start_time": "2025-08-19T18:18:25.132411",
     "status": "completed"
    },
    "tags": []
   },
   "outputs": [],
   "source": [
    "probs_calib = model.predict_proba(X_calib)"
   ]
  },
  {
   "cell_type": "code",
   "execution_count": 39,
   "id": "a792d4dd",
   "metadata": {
    "execution": {
     "iopub.execute_input": "2025-08-19T18:18:25.262258Z",
     "iopub.status.busy": "2025-08-19T18:18:25.260771Z",
     "iopub.status.idle": "2025-08-19T18:18:25.269984Z",
     "shell.execute_reply": "2025-08-19T18:18:25.268751Z"
    },
    "papermill": {
     "duration": 0.025927,
     "end_time": "2025-08-19T18:18:25.271686",
     "exception": false,
     "start_time": "2025-08-19T18:18:25.245759",
     "status": "completed"
    },
    "tags": []
   },
   "outputs": [],
   "source": [
    "y_calib = y_calib.values.ravel().astype(int)"
   ]
  },
  {
   "cell_type": "code",
   "execution_count": 40,
   "id": "650fd033",
   "metadata": {
    "execution": {
     "iopub.execute_input": "2025-08-19T18:18:25.300863Z",
     "iopub.status.busy": "2025-08-19T18:18:25.300159Z",
     "iopub.status.idle": "2025-08-19T18:18:25.309422Z",
     "shell.execute_reply": "2025-08-19T18:18:25.308644Z"
    },
    "papermill": {
     "duration": 0.025925,
     "end_time": "2025-08-19T18:18:25.313240",
     "exception": false,
     "start_time": "2025-08-19T18:18:25.287315",
     "status": "completed"
    },
    "tags": []
   },
   "outputs": [],
   "source": [
    "from fairness_multiverse.conformal import compute_nc_scores\n",
    "\n",
    "# Compute nonconformity scores on calibration set (1 - probability of true class)\n",
    "nc_scores = compute_nc_scores(probs_calib, y_calib)"
   ]
  },
  {
   "cell_type": "code",
   "execution_count": 41,
   "id": "28ada44c",
   "metadata": {
    "execution": {
     "iopub.execute_input": "2025-08-19T18:18:25.373288Z",
     "iopub.status.busy": "2025-08-19T18:18:25.372794Z",
     "iopub.status.idle": "2025-08-19T18:18:25.380765Z",
     "shell.execute_reply": "2025-08-19T18:18:25.379593Z"
    },
    "papermill": {
     "duration": 0.034606,
     "end_time": "2025-08-19T18:18:25.382416",
     "exception": false,
     "start_time": "2025-08-19T18:18:25.347810",
     "status": "completed"
    },
    "tags": []
   },
   "outputs": [],
   "source": [
    "from fairness_multiverse.conformal import find_threshold\n",
    "\n",
    "# Find conformal threshold q_hat for the given alpha (split conformal method)\n",
    "q_hat = find_threshold(nc_scores, alpha)"
   ]
  },
  {
   "cell_type": "code",
   "execution_count": 42,
   "id": "df56469e",
   "metadata": {
    "execution": {
     "iopub.execute_input": "2025-08-19T18:18:25.414387Z",
     "iopub.status.busy": "2025-08-19T18:18:25.413280Z",
     "iopub.status.idle": "2025-08-19T18:18:25.425126Z",
     "shell.execute_reply": "2025-08-19T18:18:25.423538Z"
    },
    "papermill": {
     "duration": 0.02697,
     "end_time": "2025-08-19T18:18:25.426450",
     "exception": false,
     "start_time": "2025-08-19T18:18:25.399480",
     "status": "completed"
    },
    "tags": []
   },
   "outputs": [
    {
     "data": {
      "text/plain": [
       "0.6625729233800949"
      ]
     },
     "execution_count": 42,
     "metadata": {},
     "output_type": "execute_result"
    }
   ],
   "source": [
    "q_hat"
   ]
  },
  {
   "cell_type": "code",
   "execution_count": 43,
   "id": "aa1f5faa",
   "metadata": {
    "execution": {
     "iopub.execute_input": "2025-08-19T18:18:25.475871Z",
     "iopub.status.busy": "2025-08-19T18:18:25.474560Z",
     "iopub.status.idle": "2025-08-19T18:18:25.995738Z",
     "shell.execute_reply": "2025-08-19T18:18:25.994656Z"
    },
    "papermill": {
     "duration": 0.556853,
     "end_time": "2025-08-19T18:18:25.997549",
     "exception": false,
     "start_time": "2025-08-19T18:18:25.440696",
     "status": "completed"
    },
    "tags": []
   },
   "outputs": [],
   "source": [
    "from fairness_multiverse.conformal import predict_conformal_sets\n",
    "\n",
    "# Generate prediction sets for each test example\n",
    "pred_sets = predict_conformal_sets(model, X_test, q_hat)"
   ]
  },
  {
   "cell_type": "code",
   "execution_count": 44,
   "id": "97f67a6b",
   "metadata": {
    "execution": {
     "iopub.execute_input": "2025-08-19T18:18:26.025031Z",
     "iopub.status.busy": "2025-08-19T18:18:26.023983Z",
     "iopub.status.idle": "2025-08-19T18:18:26.032980Z",
     "shell.execute_reply": "2025-08-19T18:18:26.031055Z"
    },
    "papermill": {
     "duration": 0.023573,
     "end_time": "2025-08-19T18:18:26.034862",
     "exception": false,
     "start_time": "2025-08-19T18:18:26.011289",
     "status": "completed"
    },
    "tags": []
   },
   "outputs": [],
   "source": [
    "y_true = y_true.squeeze()"
   ]
  },
  {
   "cell_type": "code",
   "execution_count": 45,
   "id": "e700e9a7",
   "metadata": {
    "execution": {
     "iopub.execute_input": "2025-08-19T18:18:26.064046Z",
     "iopub.status.busy": "2025-08-19T18:18:26.062543Z",
     "iopub.status.idle": "2025-08-19T18:18:26.571658Z",
     "shell.execute_reply": "2025-08-19T18:18:26.570787Z"
    },
    "papermill": {
     "duration": 0.524259,
     "end_time": "2025-08-19T18:18:26.573200",
     "exception": false,
     "start_time": "2025-08-19T18:18:26.048941",
     "status": "completed"
    },
    "tags": []
   },
   "outputs": [],
   "source": [
    "from fairness_multiverse.conformal import evaluate_sets\n",
    "\n",
    "# Evaluate coverage and average set size on test data\n",
    "metrics = evaluate_sets(pred_sets, y_true)"
   ]
  },
  {
   "cell_type": "markdown",
   "id": "efbacec0",
   "metadata": {
    "papermill": {
     "duration": 0.011598,
     "end_time": "2025-08-19T18:18:26.596916",
     "exception": false,
     "start_time": "2025-08-19T18:18:26.585318",
     "status": "completed"
    },
    "tags": []
   },
   "source": [
    "# CP Metrics"
   ]
  },
  {
   "cell_type": "code",
   "execution_count": 46,
   "id": "9de55fb1",
   "metadata": {
    "execution": {
     "iopub.execute_input": "2025-08-19T18:18:26.622704Z",
     "iopub.status.busy": "2025-08-19T18:18:26.621369Z",
     "iopub.status.idle": "2025-08-19T18:18:26.634008Z",
     "shell.execute_reply": "2025-08-19T18:18:26.632772Z"
    },
    "papermill": {
     "duration": 0.038085,
     "end_time": "2025-08-19T18:18:26.646356",
     "exception": false,
     "start_time": "2025-08-19T18:18:26.608271",
     "status": "completed"
    },
    "tags": []
   },
   "outputs": [
    {
     "data": {
      "text/plain": [
       "{'coverage': 0.911080147140787, 'avg_size': 1.19266525470962}"
      ]
     },
     "execution_count": 46,
     "metadata": {},
     "output_type": "execute_result"
    }
   ],
   "source": [
    "metrics"
   ]
  },
  {
   "cell_type": "code",
   "execution_count": 47,
   "id": "64c340a1",
   "metadata": {
    "execution": {
     "iopub.execute_input": "2025-08-19T18:18:26.671657Z",
     "iopub.status.busy": "2025-08-19T18:18:26.671056Z",
     "iopub.status.idle": "2025-08-19T18:18:26.677628Z",
     "shell.execute_reply": "2025-08-19T18:18:26.676791Z"
    },
    "papermill": {
     "duration": 0.020618,
     "end_time": "2025-08-19T18:18:26.679014",
     "exception": false,
     "start_time": "2025-08-19T18:18:26.658396",
     "status": "completed"
    },
    "tags": []
   },
   "outputs": [],
   "source": [
    "example_universe = universe.copy()\n",
    "universe_training_year = example_universe.get(\"training_year\")\n",
    "universe_training_size = example_universe.get(\"training_size\")\n",
    "universe_scale = example_universe.get(\"scale\")\n",
    "universe_model = example_universe.get(\"model\")\n",
    "universe_exclude_features = example_universe.get(\"exclude_features\")\n",
    "universe_exclude_subgroups = example_universe.get(\"exclude_subgroups\")"
   ]
  },
  {
   "cell_type": "code",
   "execution_count": 48,
   "id": "dbb53cb4",
   "metadata": {
    "execution": {
     "iopub.execute_input": "2025-08-19T18:18:26.705409Z",
     "iopub.status.busy": "2025-08-19T18:18:26.704748Z",
     "iopub.status.idle": "2025-08-19T18:18:26.709884Z",
     "shell.execute_reply": "2025-08-19T18:18:26.709117Z"
    },
    "papermill": {
     "duration": 0.019045,
     "end_time": "2025-08-19T18:18:26.711090",
     "exception": false,
     "start_time": "2025-08-19T18:18:26.692045",
     "status": "completed"
    },
    "tags": []
   },
   "outputs": [],
   "source": [
    "cp_metrics_dict = {\n",
    "    \"universe_id\": [universe_id],\n",
    "    \"universe_training_year\": [universe_training_year],\n",
    "    \"universe_training_size\": [universe_training_size],\n",
    "    \"universe_scale\": [universe_scale],\n",
    "    \"universe_model\": [universe_model],\n",
    "    \"universe_exclude_features\": [universe_exclude_features],\n",
    "    \"universe_exclude_subgroups\": [universe_exclude_subgroups],\n",
    "    \"q_hat\": [q_hat],\n",
    "    \"coverage\": [metrics[\"coverage\"]],\n",
    "    \"avg_size\": [metrics[\"avg_size\"]],\n",
    "}"
   ]
  },
  {
   "cell_type": "code",
   "execution_count": 49,
   "id": "0d70d4b2",
   "metadata": {
    "execution": {
     "iopub.execute_input": "2025-08-19T18:18:26.735732Z",
     "iopub.status.busy": "2025-08-19T18:18:26.735317Z",
     "iopub.status.idle": "2025-08-19T18:18:26.744080Z",
     "shell.execute_reply": "2025-08-19T18:18:26.743432Z"
    },
    "papermill": {
     "duration": 0.023004,
     "end_time": "2025-08-19T18:18:26.745687",
     "exception": false,
     "start_time": "2025-08-19T18:18:26.722683",
     "status": "completed"
    },
    "tags": []
   },
   "outputs": [],
   "source": [
    "cp_metrics_df = pd.DataFrame(cp_metrics_dict)"
   ]
  },
  {
   "cell_type": "code",
   "execution_count": 50,
   "id": "b494403c",
   "metadata": {
    "execution": {
     "iopub.execute_input": "2025-08-19T18:18:26.770888Z",
     "iopub.status.busy": "2025-08-19T18:18:26.770047Z",
     "iopub.status.idle": "2025-08-19T18:18:26.786953Z",
     "shell.execute_reply": "2025-08-19T18:18:26.785974Z"
    },
    "papermill": {
     "duration": 0.031231,
     "end_time": "2025-08-19T18:18:26.788902",
     "exception": false,
     "start_time": "2025-08-19T18:18:26.757671",
     "status": "completed"
    },
    "tags": []
   },
   "outputs": [
    {
     "data": {
      "text/html": [
       "<div>\n",
       "<style scoped>\n",
       "    .dataframe tbody tr th:only-of-type {\n",
       "        vertical-align: middle;\n",
       "    }\n",
       "\n",
       "    .dataframe tbody tr th {\n",
       "        vertical-align: top;\n",
       "    }\n",
       "\n",
       "    .dataframe thead th {\n",
       "        text-align: right;\n",
       "    }\n",
       "</style>\n",
       "<table border=\"1\" class=\"dataframe\">\n",
       "  <thead>\n",
       "    <tr style=\"text-align: right;\">\n",
       "      <th></th>\n",
       "      <th>universe_id</th>\n",
       "      <th>universe_training_year</th>\n",
       "      <th>universe_training_size</th>\n",
       "      <th>universe_scale</th>\n",
       "      <th>universe_model</th>\n",
       "      <th>universe_exclude_features</th>\n",
       "      <th>universe_exclude_subgroups</th>\n",
       "      <th>q_hat</th>\n",
       "      <th>coverage</th>\n",
       "      <th>avg_size</th>\n",
       "    </tr>\n",
       "  </thead>\n",
       "  <tbody>\n",
       "    <tr>\n",
       "      <th>0</th>\n",
       "      <td>826736725c7637502ad3206a93227cc4</td>\n",
       "      <td>2010_14</td>\n",
       "      <td>25k</td>\n",
       "      <td>do-not-scale</td>\n",
       "      <td>logreg</td>\n",
       "      <td>nationality-sex</td>\n",
       "      <td>keep-all</td>\n",
       "      <td>0.662573</td>\n",
       "      <td>0.91108</td>\n",
       "      <td>1.192665</td>\n",
       "    </tr>\n",
       "  </tbody>\n",
       "</table>\n",
       "</div>"
      ],
      "text/plain": [
       "                        universe_id universe_training_year  \\\n",
       "0  826736725c7637502ad3206a93227cc4                2010_14   \n",
       "\n",
       "  universe_training_size universe_scale universe_model  \\\n",
       "0                    25k   do-not-scale         logreg   \n",
       "\n",
       "  universe_exclude_features universe_exclude_subgroups     q_hat  coverage  \\\n",
       "0           nationality-sex                   keep-all  0.662573   0.91108   \n",
       "\n",
       "   avg_size  \n",
       "0  1.192665  "
      ]
     },
     "execution_count": 50,
     "metadata": {},
     "output_type": "execute_result"
    }
   ],
   "source": [
    "cp_metrics_df"
   ]
  },
  {
   "cell_type": "markdown",
   "id": "ed608b0b",
   "metadata": {
    "papermill": {
     "duration": 0.011832,
     "end_time": "2025-08-19T18:18:26.815931",
     "exception": false,
     "start_time": "2025-08-19T18:18:26.804099",
     "status": "completed"
    },
    "tags": []
   },
   "source": [
    "Conditional coverage & looking at subgroups"
   ]
  },
  {
   "cell_type": "code",
   "execution_count": 51,
   "id": "8968c366",
   "metadata": {
    "execution": {
     "iopub.execute_input": "2025-08-19T18:18:26.842380Z",
     "iopub.status.busy": "2025-08-19T18:18:26.841244Z",
     "iopub.status.idle": "2025-08-19T18:18:27.123210Z",
     "shell.execute_reply": "2025-08-19T18:18:27.122326Z"
    },
    "papermill": {
     "duration": 0.297139,
     "end_time": "2025-08-19T18:18:27.124832",
     "exception": false,
     "start_time": "2025-08-19T18:18:26.827693",
     "status": "completed"
    },
    "tags": []
   },
   "outputs": [],
   "source": [
    "from fairness_multiverse.conformal import build_cp_groups\n",
    "\n",
    "cp_groups_df = build_cp_groups(pred_sets, y_true, X_test.index, org_test)"
   ]
  },
  {
   "cell_type": "code",
   "execution_count": 52,
   "id": "292ddabf",
   "metadata": {
    "execution": {
     "iopub.execute_input": "2025-08-19T18:18:27.151953Z",
     "iopub.status.busy": "2025-08-19T18:18:27.150848Z",
     "iopub.status.idle": "2025-08-19T18:18:28.050019Z",
     "shell.execute_reply": "2025-08-19T18:18:28.048837Z"
    },
    "papermill": {
     "duration": 0.914394,
     "end_time": "2025-08-19T18:18:28.052142",
     "exception": false,
     "start_time": "2025-08-19T18:18:27.137748",
     "status": "completed"
    },
    "tags": []
   },
   "outputs": [],
   "source": [
    "# Define covered = 1 if true_label is in the predicted set\n",
    "cp_groups_df['covered'] = cp_groups_df.apply(\n",
    "    lambda r: int(r['true_label'] in r['pred_set']),\n",
    "    axis=1\n",
    ")"
   ]
  },
  {
   "cell_type": "code",
   "execution_count": 53,
   "id": "3a261692",
   "metadata": {
    "execution": {
     "iopub.execute_input": "2025-08-19T18:18:28.105835Z",
     "iopub.status.busy": "2025-08-19T18:18:28.103954Z",
     "iopub.status.idle": "2025-08-19T18:18:28.129074Z",
     "shell.execute_reply": "2025-08-19T18:18:28.128275Z"
    },
    "papermill": {
     "duration": 0.053896,
     "end_time": "2025-08-19T18:18:28.130842",
     "exception": false,
     "start_time": "2025-08-19T18:18:28.076946",
     "status": "completed"
    },
    "tags": []
   },
   "outputs": [],
   "source": [
    "subgroups = ['frau1','nongerman','nongerman_male','nongerman_female']\n",
    "\n",
    "# Conditional coverage for subgroup==1\n",
    "cond_coverage = {\n",
    "    g: cp_groups_df.loc[cp_groups_df[g]==1, 'covered'].mean()\n",
    "    for g in subgroups\n",
    "}"
   ]
  },
  {
   "cell_type": "code",
   "execution_count": 54,
   "id": "894fd600",
   "metadata": {
    "execution": {
     "iopub.execute_input": "2025-08-19T18:18:28.187436Z",
     "iopub.status.busy": "2025-08-19T18:18:28.186264Z",
     "iopub.status.idle": "2025-08-19T18:18:28.199029Z",
     "shell.execute_reply": "2025-08-19T18:18:28.197689Z"
    },
    "papermill": {
     "duration": 0.030239,
     "end_time": "2025-08-19T18:18:28.200916",
     "exception": false,
     "start_time": "2025-08-19T18:18:28.170677",
     "status": "completed"
    },
    "tags": []
   },
   "outputs": [
    {
     "data": {
      "text/plain": [
       "{'frau1': 0.9114975064024802,\n",
       " 'nongerman': 0.9259529557065065,\n",
       " 'nongerman_male': 0.9398360803386472,\n",
       " 'nongerman_female': 0.9029806259314456}"
      ]
     },
     "execution_count": 54,
     "metadata": {},
     "output_type": "execute_result"
    }
   ],
   "source": [
    "cond_coverage"
   ]
  },
  {
   "cell_type": "code",
   "execution_count": 55,
   "id": "942895c7",
   "metadata": {
    "execution": {
     "iopub.execute_input": "2025-08-19T18:18:28.232297Z",
     "iopub.status.busy": "2025-08-19T18:18:28.230960Z",
     "iopub.status.idle": "2025-08-19T18:18:28.243824Z",
     "shell.execute_reply": "2025-08-19T18:18:28.242089Z"
    },
    "papermill": {
     "duration": 0.027957,
     "end_time": "2025-08-19T18:18:28.245315",
     "exception": false,
     "start_time": "2025-08-19T18:18:28.217358",
     "status": "completed"
    },
    "tags": []
   },
   "outputs": [],
   "source": [
    "for subgroup, cov in cond_coverage.items():\n",
    "    cp_metrics_df[f\"cov_{subgroup}\"] = cov"
   ]
  },
  {
   "cell_type": "code",
   "execution_count": 56,
   "id": "3970120f",
   "metadata": {
    "execution": {
     "iopub.execute_input": "2025-08-19T18:18:28.279937Z",
     "iopub.status.busy": "2025-08-19T18:18:28.277785Z",
     "iopub.status.idle": "2025-08-19T18:18:28.302991Z",
     "shell.execute_reply": "2025-08-19T18:18:28.302212Z"
    },
    "papermill": {
     "duration": 0.04515,
     "end_time": "2025-08-19T18:18:28.307465",
     "exception": false,
     "start_time": "2025-08-19T18:18:28.262315",
     "status": "completed"
    },
    "tags": []
   },
   "outputs": [
    {
     "data": {
      "text/html": [
       "<div>\n",
       "<style scoped>\n",
       "    .dataframe tbody tr th:only-of-type {\n",
       "        vertical-align: middle;\n",
       "    }\n",
       "\n",
       "    .dataframe tbody tr th {\n",
       "        vertical-align: top;\n",
       "    }\n",
       "\n",
       "    .dataframe thead th {\n",
       "        text-align: right;\n",
       "    }\n",
       "</style>\n",
       "<table border=\"1\" class=\"dataframe\">\n",
       "  <thead>\n",
       "    <tr style=\"text-align: right;\">\n",
       "      <th></th>\n",
       "      <th>universe_id</th>\n",
       "      <th>universe_training_year</th>\n",
       "      <th>universe_training_size</th>\n",
       "      <th>universe_scale</th>\n",
       "      <th>universe_model</th>\n",
       "      <th>universe_exclude_features</th>\n",
       "      <th>universe_exclude_subgroups</th>\n",
       "      <th>q_hat</th>\n",
       "      <th>coverage</th>\n",
       "      <th>avg_size</th>\n",
       "      <th>cov_frau1</th>\n",
       "      <th>cov_nongerman</th>\n",
       "      <th>cov_nongerman_male</th>\n",
       "      <th>cov_nongerman_female</th>\n",
       "    </tr>\n",
       "  </thead>\n",
       "  <tbody>\n",
       "    <tr>\n",
       "      <th>0</th>\n",
       "      <td>826736725c7637502ad3206a93227cc4</td>\n",
       "      <td>2010_14</td>\n",
       "      <td>25k</td>\n",
       "      <td>do-not-scale</td>\n",
       "      <td>logreg</td>\n",
       "      <td>nationality-sex</td>\n",
       "      <td>keep-all</td>\n",
       "      <td>0.662573</td>\n",
       "      <td>0.91108</td>\n",
       "      <td>1.192665</td>\n",
       "      <td>0.911498</td>\n",
       "      <td>0.925953</td>\n",
       "      <td>0.939836</td>\n",
       "      <td>0.902981</td>\n",
       "    </tr>\n",
       "  </tbody>\n",
       "</table>\n",
       "</div>"
      ],
      "text/plain": [
       "                        universe_id universe_training_year  \\\n",
       "0  826736725c7637502ad3206a93227cc4                2010_14   \n",
       "\n",
       "  universe_training_size universe_scale universe_model  \\\n",
       "0                    25k   do-not-scale         logreg   \n",
       "\n",
       "  universe_exclude_features universe_exclude_subgroups     q_hat  coverage  \\\n",
       "0           nationality-sex                   keep-all  0.662573   0.91108   \n",
       "\n",
       "   avg_size  cov_frau1  cov_nongerman  cov_nongerman_male  \\\n",
       "0  1.192665   0.911498       0.925953            0.939836   \n",
       "\n",
       "   cov_nongerman_female  \n",
       "0              0.902981  "
      ]
     },
     "execution_count": 56,
     "metadata": {},
     "output_type": "execute_result"
    }
   ],
   "source": [
    "cp_metrics_df"
   ]
  },
  {
   "cell_type": "markdown",
   "id": "3fc519cc",
   "metadata": {
    "papermill": {
     "duration": 0.012551,
     "end_time": "2025-08-19T18:18:28.334030",
     "exception": false,
     "start_time": "2025-08-19T18:18:28.321479",
     "status": "completed"
    },
    "tags": []
   },
   "source": [
    "# (Fairness) Metrics"
   ]
  },
  {
   "cell_type": "code",
   "execution_count": 57,
   "id": "a2e5e155",
   "metadata": {
    "execution": {
     "iopub.execute_input": "2025-08-19T18:18:28.360687Z",
     "iopub.status.busy": "2025-08-19T18:18:28.360188Z",
     "iopub.status.idle": "2025-08-19T18:18:28.377248Z",
     "shell.execute_reply": "2025-08-19T18:18:28.376015Z"
    },
    "papermill": {
     "duration": 0.034863,
     "end_time": "2025-08-19T18:18:28.381628",
     "exception": false,
     "start_time": "2025-08-19T18:18:28.346765",
     "status": "completed"
    },
    "tags": []
   },
   "outputs": [],
   "source": [
    "colname_to_bin = \"maxdeutsch1\"\n",
    "majority_value = org_train[colname_to_bin].mode()[0]\n",
    "\n",
    "org_test[\"majmin\"] = np.where(org_test[colname_to_bin] == majority_value, \"majority\", \"minority\")"
   ]
  },
  {
   "cell_type": "code",
   "execution_count": 58,
   "id": "17e3e4d5",
   "metadata": {
    "execution": {
     "iopub.execute_input": "2025-08-19T18:18:28.422926Z",
     "iopub.status.busy": "2025-08-19T18:18:28.421616Z",
     "iopub.status.idle": "2025-08-19T18:18:30.190380Z",
     "shell.execute_reply": "2025-08-19T18:18:30.188930Z"
    },
    "papermill": {
     "duration": 1.787864,
     "end_time": "2025-08-19T18:18:30.194208",
     "exception": false,
     "start_time": "2025-08-19T18:18:28.406344",
     "status": "completed"
    },
    "tags": []
   },
   "outputs": [],
   "source": [
    "example_universe = universe.copy()\n",
    "example_universe[\"cutoff\"] = example_universe[\"cutoff\"][0]\n",
    "example_universe[\"eval_fairness_grouping\"] = example_universe[\"eval_fairness_grouping\"][0]\n",
    "fairness_dict, metric_frame = universe_analysis.compute_metrics(\n",
    "    example_universe,\n",
    "    y_pred_prob=probs_test,\n",
    "    y_test=y_true,\n",
    "    org_test=org_test,\n",
    ")"
   ]
  },
  {
   "cell_type": "markdown",
   "id": "1fb7a0e9",
   "metadata": {
    "papermill": {
     "duration": 0.01348,
     "end_time": "2025-08-19T18:18:30.233234",
     "exception": false,
     "start_time": "2025-08-19T18:18:30.219754",
     "status": "completed"
    },
    "tags": []
   },
   "source": [
    "# Overall"
   ]
  },
  {
   "cell_type": "markdown",
   "id": "be1784b1",
   "metadata": {
    "papermill": {
     "duration": 0.012096,
     "end_time": "2025-08-19T18:18:30.257539",
     "exception": false,
     "start_time": "2025-08-19T18:18:30.245443",
     "status": "completed"
    },
    "tags": []
   },
   "source": [
    "Main fairness target: Equalized Odds. Seems to be a better fit than equal opportunity, since we're not only interested in Y = 1. Seems to be a better fit than demographic parity, since we also care about accuracy, not just equal distribution of preds.\n",
    "\n",
    "Pick column for computation of fairness metrics\n",
    "\n",
    "Performance\n",
    "Overall performance measures, most interesting in relation to the measures split by group below"
   ]
  },
  {
   "cell_type": "code",
   "execution_count": 59,
   "id": "b7672bee",
   "metadata": {
    "execution": {
     "iopub.execute_input": "2025-08-19T18:18:30.285356Z",
     "iopub.status.busy": "2025-08-19T18:18:30.284040Z",
     "iopub.status.idle": "2025-08-19T18:18:30.299712Z",
     "shell.execute_reply": "2025-08-19T18:18:30.298613Z"
    },
    "papermill": {
     "duration": 0.031867,
     "end_time": "2025-08-19T18:18:30.301526",
     "exception": false,
     "start_time": "2025-08-19T18:18:30.269659",
     "status": "completed"
    },
    "tags": []
   },
   "outputs": [
    {
     "data": {
      "text/plain": [
       "accuracy                   0.217267\n",
       "balanced accuracy          0.532736\n",
       "f1                         0.238794\n",
       "precision                  0.136415\n",
       "false positive rate        0.891601\n",
       "false negative rate        0.042927\n",
       "selection rate             0.900000\n",
       "count                  89710.000000\n",
       "dtype: float64"
      ]
     },
     "execution_count": 59,
     "metadata": {},
     "output_type": "execute_result"
    }
   ],
   "source": [
    "metric_frame.overall"
   ]
  },
  {
   "cell_type": "markdown",
   "id": "d93333c9",
   "metadata": {
    "papermill": {
     "duration": 0.012321,
     "end_time": "2025-08-19T18:18:30.342069",
     "exception": false,
     "start_time": "2025-08-19T18:18:30.329748",
     "status": "completed"
    },
    "tags": []
   },
   "source": [
    "By Group"
   ]
  },
  {
   "cell_type": "code",
   "execution_count": 60,
   "id": "52256966",
   "metadata": {
    "execution": {
     "iopub.execute_input": "2025-08-19T18:18:30.370011Z",
     "iopub.status.busy": "2025-08-19T18:18:30.369460Z",
     "iopub.status.idle": "2025-08-19T18:18:30.392106Z",
     "shell.execute_reply": "2025-08-19T18:18:30.391375Z"
    },
    "papermill": {
     "duration": 0.040248,
     "end_time": "2025-08-19T18:18:30.394871",
     "exception": false,
     "start_time": "2025-08-19T18:18:30.354623",
     "status": "completed"
    },
    "tags": []
   },
   "outputs": [
    {
     "data": {
      "text/html": [
       "<div>\n",
       "<style scoped>\n",
       "    .dataframe tbody tr th:only-of-type {\n",
       "        vertical-align: middle;\n",
       "    }\n",
       "\n",
       "    .dataframe tbody tr th {\n",
       "        vertical-align: top;\n",
       "    }\n",
       "\n",
       "    .dataframe thead th {\n",
       "        text-align: right;\n",
       "    }\n",
       "</style>\n",
       "<table border=\"1\" class=\"dataframe\">\n",
       "  <thead>\n",
       "    <tr style=\"text-align: right;\">\n",
       "      <th></th>\n",
       "      <th>accuracy</th>\n",
       "      <th>balanced accuracy</th>\n",
       "      <th>f1</th>\n",
       "      <th>precision</th>\n",
       "      <th>false positive rate</th>\n",
       "      <th>false negative rate</th>\n",
       "      <th>selection rate</th>\n",
       "      <th>count</th>\n",
       "    </tr>\n",
       "    <tr>\n",
       "      <th>majmin</th>\n",
       "      <th></th>\n",
       "      <th></th>\n",
       "      <th></th>\n",
       "      <th></th>\n",
       "      <th></th>\n",
       "      <th></th>\n",
       "      <th></th>\n",
       "      <th></th>\n",
       "    </tr>\n",
       "  </thead>\n",
       "  <tbody>\n",
       "    <tr>\n",
       "      <th>majority</th>\n",
       "      <td>0.239222</td>\n",
       "      <td>0.540315</td>\n",
       "      <td>0.248039</td>\n",
       "      <td>0.142651</td>\n",
       "      <td>0.868932</td>\n",
       "      <td>0.050438</td>\n",
       "      <td>0.879587</td>\n",
       "      <td>69170.0</td>\n",
       "    </tr>\n",
       "    <tr>\n",
       "      <th>minority</th>\n",
       "      <td>0.143330</td>\n",
       "      <td>0.509789</td>\n",
       "      <td>0.209737</td>\n",
       "      <td>0.117348</td>\n",
       "      <td>0.966487</td>\n",
       "      <td>0.013936</td>\n",
       "      <td>0.968744</td>\n",
       "      <td>20540.0</td>\n",
       "    </tr>\n",
       "  </tbody>\n",
       "</table>\n",
       "</div>"
      ],
      "text/plain": [
       "          accuracy  balanced accuracy        f1  precision  \\\n",
       "majmin                                                       \n",
       "majority  0.239222           0.540315  0.248039   0.142651   \n",
       "minority  0.143330           0.509789  0.209737   0.117348   \n",
       "\n",
       "          false positive rate  false negative rate  selection rate    count  \n",
       "majmin                                                                       \n",
       "majority             0.868932             0.050438        0.879587  69170.0  \n",
       "minority             0.966487             0.013936        0.968744  20540.0  "
      ]
     },
     "execution_count": 60,
     "metadata": {},
     "output_type": "execute_result"
    }
   ],
   "source": [
    "metric_frame.by_group"
   ]
  },
  {
   "cell_type": "code",
   "execution_count": 61,
   "id": "6e6c20ae",
   "metadata": {
    "execution": {
     "iopub.execute_input": "2025-08-19T18:18:30.428262Z",
     "iopub.status.busy": "2025-08-19T18:18:30.427295Z",
     "iopub.status.idle": "2025-08-19T18:18:32.263989Z",
     "shell.execute_reply": "2025-08-19T18:18:32.263041Z"
    },
    "papermill": {
     "duration": 1.852325,
     "end_time": "2025-08-19T18:18:32.265262",
     "exception": false,
     "start_time": "2025-08-19T18:18:30.412937",
     "status": "completed"
    },
    "tags": []
   },
   "outputs": [
    {
     "data": {
      "text/plain": [
       "array([[<Axes: title={'center': 'accuracy'}, xlabel='majmin'>,\n",
       "        <Axes: title={'center': 'balanced accuracy'}, xlabel='majmin'>,\n",
       "        <Axes: title={'center': 'f1'}, xlabel='majmin'>],\n",
       "       [<Axes: title={'center': 'precision'}, xlabel='majmin'>,\n",
       "        <Axes: title={'center': 'false positive rate'}, xlabel='majmin'>,\n",
       "        <Axes: title={'center': 'false negative rate'}, xlabel='majmin'>],\n",
       "       [<Axes: title={'center': 'selection rate'}, xlabel='majmin'>,\n",
       "        <Axes: title={'center': 'count'}, xlabel='majmin'>,\n",
       "        <Axes: xlabel='majmin'>]], dtype=object)"
      ]
     },
     "execution_count": 61,
     "metadata": {},
     "output_type": "execute_result"
    },
    {
     "data": {
      "image/png": "[encoded data removed]",
      "text/plain": [
       "<Figure size 1200x800 with 9 Axes>"
      ]
     },
     "metadata": {},
     "output_type": "display_data"
    }
   ],
   "source": [
    "# In a graphic\n",
    "metric_frame.by_group.plot.bar(\n",
    "    subplots=True,\n",
    "    layout=[3, 3],\n",
    "    legend=False,\n",
    "    figsize=[12, 8],\n",
    "    title=\"Show all metrics\",\n",
    ")"
   ]
  },
  {
   "cell_type": "markdown",
   "id": "b2e433ae",
   "metadata": {
    "papermill": {
     "duration": 0.013984,
     "end_time": "2025-08-19T18:18:32.294079",
     "exception": false,
     "start_time": "2025-08-19T18:18:32.280095",
     "status": "completed"
    },
    "tags": []
   },
   "source": [
    "# Final Output"
   ]
  },
  {
   "cell_type": "code",
   "execution_count": 62,
   "id": "3871301e",
   "metadata": {
    "execution": {
     "iopub.execute_input": "2025-08-19T18:18:32.328143Z",
     "iopub.status.busy": "2025-08-19T18:18:32.327371Z",
     "iopub.status.idle": "2025-08-19T18:18:32.335962Z",
     "shell.execute_reply": "2025-08-19T18:18:32.335322Z"
    },
    "papermill": {
     "duration": 0.031418,
     "end_time": "2025-08-19T18:18:32.339485",
     "exception": false,
     "start_time": "2025-08-19T18:18:32.308067",
     "status": "completed"
    },
    "tags": []
   },
   "outputs": [
    {
     "data": {
      "text/plain": [
       "4"
      ]
     },
     "execution_count": 62,
     "metadata": {},
     "output_type": "execute_result"
    }
   ],
   "source": [
    "sub_universes = universe_analysis.generate_sub_universes()\n",
    "len(sub_universes)"
   ]
  },
  {
   "cell_type": "code",
   "execution_count": 63,
   "id": "d9cfdaca",
   "metadata": {
    "execution": {
     "iopub.execute_input": "2025-08-19T18:18:32.369694Z",
     "iopub.status.busy": "2025-08-19T18:18:32.369239Z",
     "iopub.status.idle": "2025-08-19T18:18:32.389295Z",
     "shell.execute_reply": "2025-08-19T18:18:32.387915Z"
    },
    "papermill": {
     "duration": 0.037316,
     "end_time": "2025-08-19T18:18:32.391698",
     "exception": false,
     "start_time": "2025-08-19T18:18:32.354382",
     "status": "completed"
    },
    "tags": []
   },
   "outputs": [],
   "source": [
    "def filter_sub_universe_data(sub_universe, org_test):\n",
    "    # Keep all rows — no filtering\n",
    "    keep_rows_mask = np.ones(org_test.shape[0], dtype=bool)\n",
    "\n",
    "    print(f\"[INFO] Keeping all rows: {keep_rows_mask.sum()} rows retained.\")\n",
    "    return keep_rows_mask"
   ]
  },
  {
   "cell_type": "code",
   "execution_count": 64,
   "id": "2bc31ac1",
   "metadata": {
    "execution": {
     "iopub.execute_input": "2025-08-19T18:18:32.428222Z",
     "iopub.status.busy": "2025-08-19T18:18:32.427760Z",
     "iopub.status.idle": "2025-08-19T18:18:39.183750Z",
     "shell.execute_reply": "2025-08-19T18:18:39.182712Z"
    },
    "papermill": {
     "duration": 6.774497,
     "end_time": "2025-08-19T18:18:39.185401",
     "exception": false,
     "start_time": "2025-08-19T18:18:32.410904",
     "status": "completed"
    },
    "tags": []
   },
   "outputs": [
    {
     "name": "stdout",
     "output_type": "stream",
     "text": [
      "Stopping execution_time clock.\n",
      "[INFO] Keeping all rows: 89710 rows retained.\n"
     ]
    },
    {
     "name": "stdout",
     "output_type": "stream",
     "text": [
      "[INFO] Keeping all rows: 89710 rows retained.\n"
     ]
    },
    {
     "name": "stdout",
     "output_type": "stream",
     "text": [
      "[INFO] Keeping all rows: 89710 rows retained.\n"
     ]
    },
    {
     "name": "stdout",
     "output_type": "stream",
     "text": [
      "[INFO] Keeping all rows: 89710 rows retained.\n"
     ]
    },
    {
     "data": {
      "text/html": [
       "<div>\n",
       "<style scoped>\n",
       "    .dataframe tbody tr th:only-of-type {\n",
       "        vertical-align: middle;\n",
       "    }\n",
       "\n",
       "    .dataframe tbody tr th {\n",
       "        vertical-align: top;\n",
       "    }\n",
       "\n",
       "    .dataframe thead th {\n",
       "        text-align: right;\n",
       "    }\n",
       "</style>\n",
       "<table border=\"1\" class=\"dataframe\">\n",
       "  <thead>\n",
       "    <tr style=\"text-align: right;\">\n",
       "      <th></th>\n",
       "      <th>run_no</th>\n",
       "      <th>universe_id</th>\n",
       "      <th>universe_settings</th>\n",
       "      <th>execution_time</th>\n",
       "      <th>test_size_n</th>\n",
       "      <th>test_size_frac</th>\n",
       "      <th>fair_main_equalized_odds_difference</th>\n",
       "      <th>fair_main_equalized_odds_ratio</th>\n",
       "      <th>fair_main_demographic_parity_difference</th>\n",
       "      <th>fair_main_demographic_parity_ratio</th>\n",
       "      <th>...</th>\n",
       "      <th>perf_grp_precision_0</th>\n",
       "      <th>perf_grp_precision_1</th>\n",
       "      <th>perf_grp_false positive rate_0</th>\n",
       "      <th>perf_grp_false positive rate_1</th>\n",
       "      <th>perf_grp_false negative rate_0</th>\n",
       "      <th>perf_grp_false negative rate_1</th>\n",
       "      <th>perf_grp_selection rate_0</th>\n",
       "      <th>perf_grp_selection rate_1</th>\n",
       "      <th>perf_grp_count_0</th>\n",
       "      <th>perf_grp_count_1</th>\n",
       "    </tr>\n",
       "  </thead>\n",
       "  <tbody>\n",
       "    <tr>\n",
       "      <th>0</th>\n",
       "      <td>3</td>\n",
       "      <td>826736725c7637502ad3206a93227cc4</td>\n",
       "      <td>{\"cutoff\": \"quantile_0.1\", \"eval_fairness_grou...</td>\n",
       "      <td>21.528822</td>\n",
       "      <td>89710</td>\n",
       "      <td>1.0</td>\n",
       "      <td>0.097555</td>\n",
       "      <td>0.899063</td>\n",
       "      <td>0.089157</td>\n",
       "      <td>0.907966</td>\n",
       "      <td>...</td>\n",
       "      <td>NaN</td>\n",
       "      <td>NaN</td>\n",
       "      <td>NaN</td>\n",
       "      <td>NaN</td>\n",
       "      <td>NaN</td>\n",
       "      <td>NaN</td>\n",
       "      <td>NaN</td>\n",
       "      <td>NaN</td>\n",
       "      <td>NaN</td>\n",
       "      <td>NaN</td>\n",
       "    </tr>\n",
       "    <tr>\n",
       "      <th>0</th>\n",
       "      <td>3</td>\n",
       "      <td>826736725c7637502ad3206a93227cc4</td>\n",
       "      <td>{\"cutoff\": \"quantile_0.1\", \"eval_fairness_grou...</td>\n",
       "      <td>21.528822</td>\n",
       "      <td>89710</td>\n",
       "      <td>1.0</td>\n",
       "      <td>0.097555</td>\n",
       "      <td>0.899063</td>\n",
       "      <td>0.089157</td>\n",
       "      <td>0.907966</td>\n",
       "      <td>...</td>\n",
       "      <td>0.117348</td>\n",
       "      <td>0.142651</td>\n",
       "      <td>0.966487</td>\n",
       "      <td>0.868932</td>\n",
       "      <td>0.013936</td>\n",
       "      <td>0.050438</td>\n",
       "      <td>0.968744</td>\n",
       "      <td>0.879587</td>\n",
       "      <td>20540.0</td>\n",
       "      <td>69170.0</td>\n",
       "    </tr>\n",
       "    <tr>\n",
       "      <th>0</th>\n",
       "      <td>3</td>\n",
       "      <td>826736725c7637502ad3206a93227cc4</td>\n",
       "      <td>{\"cutoff\": \"quantile_0.25\", \"eval_fairness_gro...</td>\n",
       "      <td>21.528822</td>\n",
       "      <td>89710</td>\n",
       "      <td>1.0</td>\n",
       "      <td>0.213885</td>\n",
       "      <td>0.760803</td>\n",
       "      <td>0.196191</td>\n",
       "      <td>0.782316</td>\n",
       "      <td>...</td>\n",
       "      <td>NaN</td>\n",
       "      <td>NaN</td>\n",
       "      <td>NaN</td>\n",
       "      <td>NaN</td>\n",
       "      <td>NaN</td>\n",
       "      <td>NaN</td>\n",
       "      <td>NaN</td>\n",
       "      <td>NaN</td>\n",
       "      <td>NaN</td>\n",
       "      <td>NaN</td>\n",
       "    </tr>\n",
       "    <tr>\n",
       "      <th>0</th>\n",
       "      <td>3</td>\n",
       "      <td>826736725c7637502ad3206a93227cc4</td>\n",
       "      <td>{\"cutoff\": \"quantile_0.25\", \"eval_fairness_gro...</td>\n",
       "      <td>21.528822</td>\n",
       "      <td>89710</td>\n",
       "      <td>1.0</td>\n",
       "      <td>0.213885</td>\n",
       "      <td>0.760803</td>\n",
       "      <td>0.196191</td>\n",
       "      <td>0.782316</td>\n",
       "      <td>...</td>\n",
       "      <td>0.122245</td>\n",
       "      <td>0.162641</td>\n",
       "      <td>0.894178</td>\n",
       "      <td>0.680293</td>\n",
       "      <td>0.044341</td>\n",
       "      <td>0.132166</td>\n",
       "      <td>0.901266</td>\n",
       "      <td>0.705074</td>\n",
       "      <td>20540.0</td>\n",
       "      <td>69170.0</td>\n",
       "    </tr>\n",
       "  </tbody>\n",
       "</table>\n",
       "<p>4 rows × 50 columns</p>\n",
       "</div>"
      ],
      "text/plain": [
       "  run_no                       universe_id  \\\n",
       "0      3  826736725c7637502ad3206a93227cc4   \n",
       "0      3  826736725c7637502ad3206a93227cc4   \n",
       "0      3  826736725c7637502ad3206a93227cc4   \n",
       "0      3  826736725c7637502ad3206a93227cc4   \n",
       "\n",
       "                                   universe_settings  execution_time  \\\n",
       "0  {\"cutoff\": \"quantile_0.1\", \"eval_fairness_grou...       21.528822   \n",
       "0  {\"cutoff\": \"quantile_0.1\", \"eval_fairness_grou...       21.528822   \n",
       "0  {\"cutoff\": \"quantile_0.25\", \"eval_fairness_gro...       21.528822   \n",
       "0  {\"cutoff\": \"quantile_0.25\", \"eval_fairness_gro...       21.528822   \n",
       "\n",
       "   test_size_n  test_size_frac  fair_main_equalized_odds_difference  \\\n",
       "0        89710             1.0                             0.097555   \n",
       "0        89710             1.0                             0.097555   \n",
       "0        89710             1.0                             0.213885   \n",
       "0        89710             1.0                             0.213885   \n",
       "\n",
       "   fair_main_equalized_odds_ratio  fair_main_demographic_parity_difference  \\\n",
       "0                        0.899063                                 0.089157   \n",
       "0                        0.899063                                 0.089157   \n",
       "0                        0.760803                                 0.196191   \n",
       "0                        0.760803                                 0.196191   \n",
       "\n",
       "   fair_main_demographic_parity_ratio  ...  perf_grp_precision_0  \\\n",
       "0                            0.907966  ...                   NaN   \n",
       "0                            0.907966  ...              0.117348   \n",
       "0                            0.782316  ...                   NaN   \n",
       "0                            0.782316  ...              0.122245   \n",
       "\n",
       "   perf_grp_precision_1  perf_grp_false positive rate_0  \\\n",
       "0                   NaN                             NaN   \n",
       "0              0.142651                        0.966487   \n",
       "0                   NaN                             NaN   \n",
       "0              0.162641                        0.894178   \n",
       "\n",
       "   perf_grp_false positive rate_1  perf_grp_false negative rate_0  \\\n",
       "0                             NaN                             NaN   \n",
       "0                        0.868932                        0.013936   \n",
       "0                             NaN                             NaN   \n",
       "0                        0.680293                        0.044341   \n",
       "\n",
       "   perf_grp_false negative rate_1  perf_grp_selection rate_0  \\\n",
       "0                             NaN                        NaN   \n",
       "0                        0.050438                   0.968744   \n",
       "0                             NaN                        NaN   \n",
       "0                        0.132166                   0.901266   \n",
       "\n",
       "   perf_grp_selection rate_1  perf_grp_count_0  perf_grp_count_1  \n",
       "0                        NaN               NaN               NaN  \n",
       "0                   0.879587           20540.0           69170.0  \n",
       "0                        NaN               NaN               NaN  \n",
       "0                   0.705074           20540.0           69170.0  \n",
       "\n",
       "[4 rows x 50 columns]"
      ]
     },
     "execution_count": 64,
     "metadata": {},
     "output_type": "execute_result"
    }
   ],
   "source": [
    "final_output = universe_analysis.generate_final_output(\n",
    "    y_pred_prob=probs_test,\n",
    "    y_test=y_true,\n",
    "    org_test=org_test,\n",
    "    filter_data=filter_sub_universe_data,\n",
    "    cp_metrics_df=cp_metrics_df,\n",
    "    save=True,\n",
    ")\n",
    "final_output"
   ]
  },
  {
   "cell_type": "code",
   "execution_count": null,
   "id": "8b80a1ff",
   "metadata": {
    "papermill": {
     "duration": 0.014752,
     "end_time": "2025-08-19T18:18:39.220439",
     "exception": false,
     "start_time": "2025-08-19T18:18:39.205687",
     "status": "completed"
    },
    "tags": []
   },
   "outputs": [],
   "source": []
  },
  {
   "cell_type": "code",
   "execution_count": null,
   "id": "275c9fad",
   "metadata": {
    "papermill": {
     "duration": 0.015093,
     "end_time": "2025-08-19T18:18:39.250504",
     "exception": false,
     "start_time": "2025-08-19T18:18:39.235411",
     "status": "completed"
    },
    "tags": []
   },
   "outputs": [],
   "source": []
  }
 ],
 "metadata": {
  "celltoolbar": "Tags",
  "kernelspec": {
   "display_name": "Python (CMA Fairness)",
   "language": "python",
   "name": "cma_fair_env"
  },
  "language_info": {
   "codemirror_mode": {
    "name": "ipython",
    "version": 3
   },
   "file_extension": ".py",
   "mimetype": "text/x-python",
   "name": "python",
   "nbconvert_exporter": "python",
   "pygments_lexer": "ipython3",
   "version": "3.10.12"
  },
  "papermill": {
   "default_parameters": {},
   "duration": 31.968624,
   "end_time": "2025-08-19T18:18:40.093385",
   "environment_variables": {},
   "exception": null,
   "input_path": "universe_analysis.ipynb",
   "output_path": "output/runs/3/notebooks/m_3-826736725c7637502ad3206a93227cc4.ipynb",
   "parameters": {
    "output_dir": "output",
    "run_no": "3",
    "seed": "2023",
    "universe": "{\"cutoff\": [\"quantile_0.1\", \"quantile_0.25\"], \"eval_fairness_grouping\": [\"majority-minority\", \"nationality-all\"], \"exclude_features\": \"nationality-sex\", \"exclude_subgroups\": \"keep-all\", \"model\": \"logreg\", \"scale\": \"do-not-scale\", \"training_size\": \"25k\", \"training_year\": \"2010_14\"}",
    "universe_id": "826736725c7637502ad3206a93227cc4"
   },
   "start_time": "2025-08-19T18:18:08.124761",
   "version": "2.6.0"
  }
 },
 "nbformat": 4,
 "nbformat_minor": 5
}