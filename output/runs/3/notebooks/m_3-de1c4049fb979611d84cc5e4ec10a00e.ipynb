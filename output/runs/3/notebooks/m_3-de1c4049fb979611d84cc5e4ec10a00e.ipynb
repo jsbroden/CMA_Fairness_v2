{
 "cells": [
  {
   "cell_type": "markdown",
   "id": "ef23dbb3",
   "metadata": {
    "papermill": {
     "duration": 0.017405,
     "end_time": "2025-08-19T18:50:55.517395",
     "exception": false,
     "start_time": "2025-08-19T18:50:55.499990",
     "status": "completed"
    },
    "tags": []
   },
   "source": [
    "# Setup"
   ]
  },
  {
   "cell_type": "code",
   "execution_count": 1,
   "id": "0bc8e7dc",
   "metadata": {
    "execution": {
     "iopub.execute_input": "2025-08-19T18:50:55.553695Z",
     "iopub.status.busy": "2025-08-19T18:50:55.552541Z",
     "iopub.status.idle": "2025-08-19T18:50:55.573447Z",
     "shell.execute_reply": "2025-08-19T18:50:55.572277Z"
    },
    "papermill": {
     "duration": 0.047132,
     "end_time": "2025-08-19T18:50:55.575730",
     "exception": false,
     "start_time": "2025-08-19T18:50:55.528598",
     "status": "completed"
    },
    "tags": []
   },
   "outputs": [
    {
     "name": "stdout",
     "output_type": "stream",
     "text": [
      "/dss/dsshome1/0C/ra93lal2/cma/CMA_Fairness_v2\n"
     ]
    },
    {
     "name": "stderr",
     "output_type": "stream",
     "text": [
      "/dss/dsshome1/0C/ra93lal2/.local/share/virtualenvs/CMA_Fairness_v2-3j10GkSs/lib/python3.10/site-packages/IPython/core/magics/osm.py:393: UserWarning: This is now an optional IPython functionality, using bookmarks requires you to install the `pickleshare` library.\n",
      "  bkms = self.shell.db.get('bookmarks', {})\n",
      "/dss/dsshome1/0C/ra93lal2/.local/share/virtualenvs/CMA_Fairness_v2-3j10GkSs/lib/python3.10/site-packages/IPython/core/magics/osm.py:417: UserWarning: This is now an optional IPython functionality, setting dhist requires you to install the `pickleshare` library.\n",
      "  self.shell.db['dhist'] = compress_dhist(dhist)[-100:]\n"
     ]
    }
   ],
   "source": [
    "%cd ~/cma/CMA_Fairness_v2"
   ]
  },
  {
   "cell_type": "markdown",
   "id": "9d235661",
   "metadata": {
    "papermill": {
     "duration": 0.010668,
     "end_time": "2025-08-19T18:50:55.606035",
     "exception": false,
     "start_time": "2025-08-19T18:50:55.595367",
     "status": "completed"
    },
    "tags": []
   },
   "source": [
    "The following cell holds the definition of our parameters, these values can be overriden by rendering the with e.g. the following command:\n",
    "\n",
    "papermill -p alpha 0.2 -p ratio 0.3 universe_analysis.ipynb output/test_run.ipynb"
   ]
  },
  {
   "cell_type": "code",
   "execution_count": 2,
   "id": "4a789d8e",
   "metadata": {
    "execution": {
     "iopub.execute_input": "2025-08-19T18:50:55.627912Z",
     "iopub.status.busy": "2025-08-19T18:50:55.626641Z",
     "iopub.status.idle": "2025-08-19T18:50:55.636084Z",
     "shell.execute_reply": "2025-08-19T18:50:55.634559Z"
    },
    "papermill": {
     "duration": 0.022018,
     "end_time": "2025-08-19T18:50:55.637930",
     "exception": false,
     "start_time": "2025-08-19T18:50:55.615912",
     "status": "completed"
    },
    "tags": []
   },
   "outputs": [
    {
     "name": "stdout",
     "output_type": "stream",
     "text": [
      "Current working directory: /dss/dsshome1/0C/ra93lal2/cma/CMA_Fairness_v2\n"
     ]
    }
   ],
   "source": [
    "import os\n",
    "print(\"Current working directory:\", os.getcwd())"
   ]
  },
  {
   "cell_type": "code",
   "execution_count": 3,
   "id": "4132aaed",
   "metadata": {
    "execution": {
     "iopub.execute_input": "2025-08-19T18:50:55.662523Z",
     "iopub.status.busy": "2025-08-19T18:50:55.661565Z",
     "iopub.status.idle": "2025-08-19T18:50:55.671727Z",
     "shell.execute_reply": "2025-08-19T18:50:55.670139Z"
    },
    "papermill": {
     "duration": 0.023557,
     "end_time": "2025-08-19T18:50:55.673693",
     "exception": false,
     "start_time": "2025-08-19T18:50:55.650136",
     "status": "completed"
    },
    "tags": [
     "parameters"
    ]
   },
   "outputs": [],
   "source": [
    "run_no = 0\n",
    "universe_id = \"test\"\n",
    "universe = {\n",
    "    \"training_size\": \"5k\", # \"25k\", \"5k\", \"1k\"\n",
    "    \"training_year\": \"2012_14\", # \"2014\", \"2012_14\", \"2010_14\"\n",
    "    \"scale\": \"scale\", # \"scale\", \"do-not-scale\",\n",
    "    \"model\": \"elasticnet\", # \"logreg\", \"penalized_logreg\", \"rf\", \"gbm\", \"elasticnet\"\n",
    "    \"cutoff\": [\"quantile_0.15\", \"quantile_0.30\"],\n",
    "    \"exclude_features\": \"age\", # \"none\", \"nationality\", \"sex\", \"nationality-sex\", \"age\"\n",
    "    \"exclude_subgroups\": \"drop-non-german\", # \"keep-all\", \"drop-non-german\"\n",
    "    \"eval_fairness_grouping\": [\"majority-minority\", \"nationality-all\"]\n",
    "}\n",
    "\n",
    "output_dir=\"./output\"\n",
    "seed=0"
   ]
  },
  {
   "cell_type": "code",
   "execution_count": 4,
   "id": "7021b3d0",
   "metadata": {
    "execution": {
     "iopub.execute_input": "2025-08-19T18:50:55.700182Z",
     "iopub.status.busy": "2025-08-19T18:50:55.698939Z",
     "iopub.status.idle": "2025-08-19T18:50:55.707727Z",
     "shell.execute_reply": "2025-08-19T18:50:55.706180Z"
    },
    "papermill": {
     "duration": 0.022664,
     "end_time": "2025-08-19T18:50:55.709678",
     "exception": false,
     "start_time": "2025-08-19T18:50:55.687014",
     "status": "completed"
    },
    "tags": [
     "injected-parameters"
    ]
   },
   "outputs": [],
   "source": [
    "# Parameters\n",
    "universe_id = \"de1c4049fb979611d84cc5e4ec10a00e\"\n",
    "run_no = \"3\"\n",
    "universe = \"{\\\"cutoff\\\": [\\\"quantile_0.1\\\", \\\"quantile_0.25\\\"], \\\"eval_fairness_grouping\\\": [\\\"majority-minority\\\", \\\"nationality-all\\\"], \\\"exclude_features\\\": \\\"none\\\", \\\"exclude_subgroups\\\": \\\"keep-all\\\", \\\"model\\\": \\\"gbm\\\", \\\"scale\\\": \\\"scale\\\", \\\"training_size\\\": \\\"1k\\\", \\\"training_year\\\": \\\"2014\\\"}\"\n",
    "output_dir = \"output\"\n",
    "seed = \"2023\"\n"
   ]
  },
  {
   "cell_type": "code",
   "execution_count": 5,
   "id": "a5d7941f",
   "metadata": {
    "execution": {
     "iopub.execute_input": "2025-08-19T18:50:55.733832Z",
     "iopub.status.busy": "2025-08-19T18:50:55.732591Z",
     "iopub.status.idle": "2025-08-19T18:50:55.740943Z",
     "shell.execute_reply": "2025-08-19T18:50:55.739328Z"
    },
    "papermill": {
     "duration": 0.021101,
     "end_time": "2025-08-19T18:50:55.742793",
     "exception": false,
     "start_time": "2025-08-19T18:50:55.721692",
     "status": "completed"
    },
    "tags": []
   },
   "outputs": [],
   "source": [
    "import json\n",
    "if isinstance(universe, str):\n",
    "    universe = json.loads(universe)"
   ]
  },
  {
   "cell_type": "code",
   "execution_count": 6,
   "id": "7076ccb1",
   "metadata": {
    "execution": {
     "iopub.execute_input": "2025-08-19T18:50:55.766896Z",
     "iopub.status.busy": "2025-08-19T18:50:55.765668Z",
     "iopub.status.idle": "2025-08-19T18:50:55.814520Z",
     "shell.execute_reply": "2025-08-19T18:50:55.813875Z"
    },
    "papermill": {
     "duration": 0.063364,
     "end_time": "2025-08-19T18:50:55.817413",
     "exception": false,
     "start_time": "2025-08-19T18:50:55.754049",
     "status": "completed"
    },
    "tags": []
   },
   "outputs": [],
   "source": [
    "# Auto-reload the custom package\n",
    "%load_ext autoreload\n",
    "%autoreload 1\n",
    "%aimport fairness_multiverse"
   ]
  },
  {
   "cell_type": "code",
   "execution_count": 7,
   "id": "94c8eb93",
   "metadata": {
    "execution": {
     "iopub.execute_input": "2025-08-19T18:50:55.854662Z",
     "iopub.status.busy": "2025-08-19T18:50:55.853771Z",
     "iopub.status.idle": "2025-08-19T18:50:57.316393Z",
     "shell.execute_reply": "2025-08-19T18:50:57.315658Z"
    },
    "papermill": {
     "duration": 1.479315,
     "end_time": "2025-08-19T18:50:57.319519",
     "exception": false,
     "start_time": "2025-08-19T18:50:55.840204",
     "status": "completed"
    },
    "tags": []
   },
   "outputs": [],
   "source": [
    "from fairness_multiverse.universe import UniverseAnalysis\n",
    "\n",
    "universe_analysis = UniverseAnalysis(\n",
    "    run_no = run_no,\n",
    "    universe_id = universe_id,\n",
    "    universe = universe,\n",
    "    output_dir=output_dir,\n",
    ")"
   ]
  },
  {
   "cell_type": "code",
   "execution_count": 8,
   "id": "2a6381cf",
   "metadata": {
    "execution": {
     "iopub.execute_input": "2025-08-19T18:50:57.359373Z",
     "iopub.status.busy": "2025-08-19T18:50:57.358014Z",
     "iopub.status.idle": "2025-08-19T18:50:57.369783Z",
     "shell.execute_reply": "2025-08-19T18:50:57.368177Z"
    },
    "papermill": {
     "duration": 0.028146,
     "end_time": "2025-08-19T18:50:57.371650",
     "exception": false,
     "start_time": "2025-08-19T18:50:57.343504",
     "status": "completed"
    },
    "tags": []
   },
   "outputs": [
    {
     "name": "stdout",
     "output_type": "stream",
     "text": [
      "Using Seed: 2023\n"
     ]
    }
   ],
   "source": [
    "import numpy as np\n",
    "parsed_seed = int(seed)\n",
    "np.random.seed(parsed_seed)\n",
    "print(f\"Using Seed: {parsed_seed}\")"
   ]
  },
  {
   "cell_type": "markdown",
   "id": "b6e958b4",
   "metadata": {
    "papermill": {
     "duration": 0.010759,
     "end_time": "2025-08-19T18:50:57.396904",
     "exception": false,
     "start_time": "2025-08-19T18:50:57.386145",
     "status": "completed"
    },
    "tags": []
   },
   "source": [
    "# Loading Data"
   ]
  },
  {
   "cell_type": "code",
   "execution_count": 9,
   "id": "98701482",
   "metadata": {
    "execution": {
     "iopub.execute_input": "2025-08-19T18:50:57.419642Z",
     "iopub.status.busy": "2025-08-19T18:50:57.417988Z",
     "iopub.status.idle": "2025-08-19T18:51:07.980878Z",
     "shell.execute_reply": "2025-08-19T18:51:07.979798Z"
    },
    "papermill": {
     "duration": 10.575436,
     "end_time": "2025-08-19T18:51:07.982100",
     "exception": false,
     "start_time": "2025-08-19T18:50:57.406664",
     "status": "completed"
    },
    "tags": []
   },
   "outputs": [
    {
     "name": "stdout",
     "output_type": "stream",
     "text": [
      "Loading SIAB data from cache: data/siab_cached.csv.gz\n"
     ]
    },
    {
     "name": "stdout",
     "output_type": "stream",
     "text": [
      "(643690, 164)\n"
     ]
    }
   ],
   "source": [
    "from pathlib import Path\n",
    "import pandas as pd\n",
    "\n",
    "# File paths\n",
    "raw_file = Path(\"data/raw/siab.csv\")\n",
    "cache_file = Path(\"data/siab_cached.csv.gz\")\n",
    "\n",
    "# Ensure cache directory exists\n",
    "cache_file.parent.mkdir(parents=True, exist_ok=True)\n",
    "\n",
    "# Load with simple caching\n",
    "if cache_file.exists():\n",
    "    print(f\"Loading SIAB data from cache: {cache_file}\")\n",
    "    siab = pd.read_csv(cache_file, compression='gzip')\n",
    "else:\n",
    "    print(f\"Cache not found. Reading raw SIAB data: {raw_file}\")\n",
    "    siab = pd.read_csv(raw_file)\n",
    "    siab.to_csv(cache_file, index=False, compression='gzip')\n",
    "    print(f\"Cached SIAB data to: {cache_file}\")\n",
    "\n",
    "print(siab.shape)"
   ]
  },
  {
   "cell_type": "code",
   "execution_count": 10,
   "id": "058d2abb",
   "metadata": {
    "execution": {
     "iopub.execute_input": "2025-08-19T18:51:08.007074Z",
     "iopub.status.busy": "2025-08-19T18:51:08.006071Z",
     "iopub.status.idle": "2025-08-19T18:51:08.192924Z",
     "shell.execute_reply": "2025-08-19T18:51:08.192083Z"
    },
    "papermill": {
     "duration": 0.200912,
     "end_time": "2025-08-19T18:51:08.195675",
     "exception": false,
     "start_time": "2025-08-19T18:51:07.994763",
     "status": "completed"
    },
    "tags": []
   },
   "outputs": [
    {
     "data": {
      "text/html": [
       "<div>\n",
       "<style scoped>\n",
       "    .dataframe tbody tr th:only-of-type {\n",
       "        vertical-align: middle;\n",
       "    }\n",
       "\n",
       "    .dataframe tbody tr th {\n",
       "        vertical-align: top;\n",
       "    }\n",
       "\n",
       "    .dataframe thead th {\n",
       "        text-align: right;\n",
       "    }\n",
       "</style>\n",
       "<table border=\"1\" class=\"dataframe\">\n",
       "  <thead>\n",
       "    <tr style=\"text-align: right;\">\n",
       "      <th></th>\n",
       "      <th>persnr</th>\n",
       "      <th>year</th>\n",
       "      <th>nrEntry</th>\n",
       "      <th>ltue</th>\n",
       "      <th>employed_before</th>\n",
       "      <th>receipt_leh_before</th>\n",
       "      <th>receipt_lhg_before</th>\n",
       "      <th>se_before</th>\n",
       "      <th>ASU_notue_seeking_before</th>\n",
       "      <th>ASU_other_before</th>\n",
       "      <th>...</th>\n",
       "      <th>minijob_tot_dur_byage</th>\n",
       "      <th>ft_tot_dur_byage</th>\n",
       "      <th>befrist_tot_dur_byage</th>\n",
       "      <th>leih_tot_dur_byage</th>\n",
       "      <th>LHG_tot_dur_byage</th>\n",
       "      <th>LEH_tot_dur_byage</th>\n",
       "      <th>almp_tot_dur_byage</th>\n",
       "      <th>almp_aw_tot_dur_byage</th>\n",
       "      <th>se_tot_dur_byage</th>\n",
       "      <th>seeking1_tot_dur_byage</th>\n",
       "    </tr>\n",
       "  </thead>\n",
       "  <tbody>\n",
       "    <tr>\n",
       "      <th>0</th>\n",
       "      <td>7</td>\n",
       "      <td>2015</td>\n",
       "      <td>1</td>\n",
       "      <td>0</td>\n",
       "      <td>1</td>\n",
       "      <td>0</td>\n",
       "      <td>0</td>\n",
       "      <td>0</td>\n",
       "      <td>1</td>\n",
       "      <td>0</td>\n",
       "      <td>...</td>\n",
       "      <td>0.000000</td>\n",
       "      <td>0.000000</td>\n",
       "      <td>15.043478</td>\n",
       "      <td>0.000000</td>\n",
       "      <td>0.000000</td>\n",
       "      <td>0.000000</td>\n",
       "      <td>0.000000</td>\n",
       "      <td>0.000000</td>\n",
       "      <td>0.000000</td>\n",
       "      <td>0.000000</td>\n",
       "    </tr>\n",
       "    <tr>\n",
       "      <th>1</th>\n",
       "      <td>18</td>\n",
       "      <td>2010</td>\n",
       "      <td>1</td>\n",
       "      <td>1</td>\n",
       "      <td>0</td>\n",
       "      <td>0</td>\n",
       "      <td>0</td>\n",
       "      <td>0</td>\n",
       "      <td>0</td>\n",
       "      <td>0</td>\n",
       "      <td>...</td>\n",
       "      <td>0.000000</td>\n",
       "      <td>0.000000</td>\n",
       "      <td>0.000000</td>\n",
       "      <td>0.000000</td>\n",
       "      <td>0.000000</td>\n",
       "      <td>0.000000</td>\n",
       "      <td>0.000000</td>\n",
       "      <td>0.000000</td>\n",
       "      <td>0.000000</td>\n",
       "      <td>0.000000</td>\n",
       "    </tr>\n",
       "    <tr>\n",
       "      <th>2</th>\n",
       "      <td>18</td>\n",
       "      <td>2011</td>\n",
       "      <td>2</td>\n",
       "      <td>0</td>\n",
       "      <td>1</td>\n",
       "      <td>0</td>\n",
       "      <td>1</td>\n",
       "      <td>0</td>\n",
       "      <td>1</td>\n",
       "      <td>0</td>\n",
       "      <td>...</td>\n",
       "      <td>2.714286</td>\n",
       "      <td>2.714286</td>\n",
       "      <td>0.000000</td>\n",
       "      <td>0.000000</td>\n",
       "      <td>10.775510</td>\n",
       "      <td>0.000000</td>\n",
       "      <td>8.367347</td>\n",
       "      <td>0.000000</td>\n",
       "      <td>0.000000</td>\n",
       "      <td>9.836735</td>\n",
       "    </tr>\n",
       "    <tr>\n",
       "      <th>3</th>\n",
       "      <td>18</td>\n",
       "      <td>2012</td>\n",
       "      <td>3</td>\n",
       "      <td>0</td>\n",
       "      <td>1</td>\n",
       "      <td>0</td>\n",
       "      <td>1</td>\n",
       "      <td>0</td>\n",
       "      <td>1</td>\n",
       "      <td>0</td>\n",
       "      <td>...</td>\n",
       "      <td>4.200000</td>\n",
       "      <td>4.200000</td>\n",
       "      <td>0.000000</td>\n",
       "      <td>0.000000</td>\n",
       "      <td>12.100000</td>\n",
       "      <td>0.000000</td>\n",
       "      <td>9.400000</td>\n",
       "      <td>0.000000</td>\n",
       "      <td>0.000000</td>\n",
       "      <td>9.960000</td>\n",
       "    </tr>\n",
       "    <tr>\n",
       "      <th>4</th>\n",
       "      <td>18</td>\n",
       "      <td>2012</td>\n",
       "      <td>4</td>\n",
       "      <td>0</td>\n",
       "      <td>1</td>\n",
       "      <td>0</td>\n",
       "      <td>1</td>\n",
       "      <td>0</td>\n",
       "      <td>1</td>\n",
       "      <td>0</td>\n",
       "      <td>...</td>\n",
       "      <td>5.460000</td>\n",
       "      <td>5.460000</td>\n",
       "      <td>0.000000</td>\n",
       "      <td>0.000000</td>\n",
       "      <td>13.360000</td>\n",
       "      <td>0.000000</td>\n",
       "      <td>10.320000</td>\n",
       "      <td>0.000000</td>\n",
       "      <td>0.000000</td>\n",
       "      <td>10.280000</td>\n",
       "    </tr>\n",
       "    <tr>\n",
       "      <th>...</th>\n",
       "      <td>...</td>\n",
       "      <td>...</td>\n",
       "      <td>...</td>\n",
       "      <td>...</td>\n",
       "      <td>...</td>\n",
       "      <td>...</td>\n",
       "      <td>...</td>\n",
       "      <td>...</td>\n",
       "      <td>...</td>\n",
       "      <td>...</td>\n",
       "      <td>...</td>\n",
       "      <td>...</td>\n",
       "      <td>...</td>\n",
       "      <td>...</td>\n",
       "      <td>...</td>\n",
       "      <td>...</td>\n",
       "      <td>...</td>\n",
       "      <td>...</td>\n",
       "      <td>...</td>\n",
       "      <td>...</td>\n",
       "      <td>...</td>\n",
       "    </tr>\n",
       "    <tr>\n",
       "      <th>643685</th>\n",
       "      <td>1827860</td>\n",
       "      <td>2013</td>\n",
       "      <td>1</td>\n",
       "      <td>0</td>\n",
       "      <td>0</td>\n",
       "      <td>0</td>\n",
       "      <td>1</td>\n",
       "      <td>0</td>\n",
       "      <td>0</td>\n",
       "      <td>1</td>\n",
       "      <td>...</td>\n",
       "      <td>0.000000</td>\n",
       "      <td>0.000000</td>\n",
       "      <td>0.000000</td>\n",
       "      <td>0.000000</td>\n",
       "      <td>0.612903</td>\n",
       "      <td>0.000000</td>\n",
       "      <td>0.000000</td>\n",
       "      <td>0.000000</td>\n",
       "      <td>0.000000</td>\n",
       "      <td>0.000000</td>\n",
       "    </tr>\n",
       "    <tr>\n",
       "      <th>643686</th>\n",
       "      <td>1827860</td>\n",
       "      <td>2015</td>\n",
       "      <td>2</td>\n",
       "      <td>1</td>\n",
       "      <td>0</td>\n",
       "      <td>0</td>\n",
       "      <td>1</td>\n",
       "      <td>0</td>\n",
       "      <td>1</td>\n",
       "      <td>0</td>\n",
       "      <td>...</td>\n",
       "      <td>0.000000</td>\n",
       "      <td>0.000000</td>\n",
       "      <td>0.212121</td>\n",
       "      <td>0.212121</td>\n",
       "      <td>17.363636</td>\n",
       "      <td>0.000000</td>\n",
       "      <td>8.909091</td>\n",
       "      <td>0.000000</td>\n",
       "      <td>0.000000</td>\n",
       "      <td>7.121212</td>\n",
       "    </tr>\n",
       "    <tr>\n",
       "      <th>643687</th>\n",
       "      <td>1827860</td>\n",
       "      <td>2016</td>\n",
       "      <td>3</td>\n",
       "      <td>1</td>\n",
       "      <td>0</td>\n",
       "      <td>0</td>\n",
       "      <td>1</td>\n",
       "      <td>1</td>\n",
       "      <td>0</td>\n",
       "      <td>1</td>\n",
       "      <td>...</td>\n",
       "      <td>0.000000</td>\n",
       "      <td>0.000000</td>\n",
       "      <td>0.294118</td>\n",
       "      <td>0.205882</td>\n",
       "      <td>34.705882</td>\n",
       "      <td>0.000000</td>\n",
       "      <td>10.352941</td>\n",
       "      <td>1.705882</td>\n",
       "      <td>1.705882</td>\n",
       "      <td>23.911765</td>\n",
       "    </tr>\n",
       "    <tr>\n",
       "      <th>643688</th>\n",
       "      <td>1827869</td>\n",
       "      <td>2013</td>\n",
       "      <td>1</td>\n",
       "      <td>1</td>\n",
       "      <td>1</td>\n",
       "      <td>0</td>\n",
       "      <td>0</td>\n",
       "      <td>0</td>\n",
       "      <td>1</td>\n",
       "      <td>0</td>\n",
       "      <td>...</td>\n",
       "      <td>0.000000</td>\n",
       "      <td>0.000000</td>\n",
       "      <td>0.000000</td>\n",
       "      <td>0.000000</td>\n",
       "      <td>0.000000</td>\n",
       "      <td>0.525424</td>\n",
       "      <td>0.000000</td>\n",
       "      <td>0.000000</td>\n",
       "      <td>0.000000</td>\n",
       "      <td>0.000000</td>\n",
       "    </tr>\n",
       "    <tr>\n",
       "      <th>643689</th>\n",
       "      <td>1827869</td>\n",
       "      <td>2014</td>\n",
       "      <td>2</td>\n",
       "      <td>0</td>\n",
       "      <td>0</td>\n",
       "      <td>1</td>\n",
       "      <td>0</td>\n",
       "      <td>0</td>\n",
       "      <td>1</td>\n",
       "      <td>0</td>\n",
       "      <td>...</td>\n",
       "      <td>0.000000</td>\n",
       "      <td>0.666667</td>\n",
       "      <td>0.666667</td>\n",
       "      <td>0.000000</td>\n",
       "      <td>0.000000</td>\n",
       "      <td>8.950000</td>\n",
       "      <td>1.033333</td>\n",
       "      <td>0.083333</td>\n",
       "      <td>0.083333</td>\n",
       "      <td>8.133333</td>\n",
       "    </tr>\n",
       "  </tbody>\n",
       "</table>\n",
       "<p>643690 rows × 164 columns</p>\n",
       "</div>"
      ],
      "text/plain": [
       "         persnr  year  nrEntry  ltue  employed_before  receipt_leh_before  \\\n",
       "0             7  2015        1     0                1                   0   \n",
       "1            18  2010        1     1                0                   0   \n",
       "2            18  2011        2     0                1                   0   \n",
       "3            18  2012        3     0                1                   0   \n",
       "4            18  2012        4     0                1                   0   \n",
       "...         ...   ...      ...   ...              ...                 ...   \n",
       "643685  1827860  2013        1     0                0                   0   \n",
       "643686  1827860  2015        2     1                0                   0   \n",
       "643687  1827860  2016        3     1                0                   0   \n",
       "643688  1827869  2013        1     1                1                   0   \n",
       "643689  1827869  2014        2     0                0                   1   \n",
       "\n",
       "        receipt_lhg_before  se_before  ASU_notue_seeking_before  \\\n",
       "0                        0          0                         1   \n",
       "1                        0          0                         0   \n",
       "2                        1          0                         1   \n",
       "3                        1          0                         1   \n",
       "4                        1          0                         1   \n",
       "...                    ...        ...                       ...   \n",
       "643685                   1          0                         0   \n",
       "643686                   1          0                         1   \n",
       "643687                   1          1                         0   \n",
       "643688                   0          0                         1   \n",
       "643689                   0          0                         1   \n",
       "\n",
       "        ASU_other_before  ...  minijob_tot_dur_byage  ft_tot_dur_byage  \\\n",
       "0                      0  ...               0.000000          0.000000   \n",
       "1                      0  ...               0.000000          0.000000   \n",
       "2                      0  ...               2.714286          2.714286   \n",
       "3                      0  ...               4.200000          4.200000   \n",
       "4                      0  ...               5.460000          5.460000   \n",
       "...                  ...  ...                    ...               ...   \n",
       "643685                 1  ...               0.000000          0.000000   \n",
       "643686                 0  ...               0.000000          0.000000   \n",
       "643687                 1  ...               0.000000          0.000000   \n",
       "643688                 0  ...               0.000000          0.000000   \n",
       "643689                 0  ...               0.000000          0.666667   \n",
       "\n",
       "        befrist_tot_dur_byage  leih_tot_dur_byage  LHG_tot_dur_byage  \\\n",
       "0                   15.043478            0.000000           0.000000   \n",
       "1                    0.000000            0.000000           0.000000   \n",
       "2                    0.000000            0.000000          10.775510   \n",
       "3                    0.000000            0.000000          12.100000   \n",
       "4                    0.000000            0.000000          13.360000   \n",
       "...                       ...                 ...                ...   \n",
       "643685               0.000000            0.000000           0.612903   \n",
       "643686               0.212121            0.212121          17.363636   \n",
       "643687               0.294118            0.205882          34.705882   \n",
       "643688               0.000000            0.000000           0.000000   \n",
       "643689               0.666667            0.000000           0.000000   \n",
       "\n",
       "        LEH_tot_dur_byage  almp_tot_dur_byage  almp_aw_tot_dur_byage  \\\n",
       "0                0.000000            0.000000               0.000000   \n",
       "1                0.000000            0.000000               0.000000   \n",
       "2                0.000000            8.367347               0.000000   \n",
       "3                0.000000            9.400000               0.000000   \n",
       "4                0.000000           10.320000               0.000000   \n",
       "...                   ...                 ...                    ...   \n",
       "643685           0.000000            0.000000               0.000000   \n",
       "643686           0.000000            8.909091               0.000000   \n",
       "643687           0.000000           10.352941               1.705882   \n",
       "643688           0.525424            0.000000               0.000000   \n",
       "643689           8.950000            1.033333               0.083333   \n",
       "\n",
       "        se_tot_dur_byage  seeking1_tot_dur_byage  \n",
       "0               0.000000                0.000000  \n",
       "1               0.000000                0.000000  \n",
       "2               0.000000                9.836735  \n",
       "3               0.000000                9.960000  \n",
       "4               0.000000               10.280000  \n",
       "...                  ...                     ...  \n",
       "643685          0.000000                0.000000  \n",
       "643686          0.000000                7.121212  \n",
       "643687          1.705882               23.911765  \n",
       "643688          0.000000                0.000000  \n",
       "643689          0.083333                8.133333  \n",
       "\n",
       "[643690 rows x 164 columns]"
      ]
     },
     "execution_count": 10,
     "metadata": {},
     "output_type": "execute_result"
    }
   ],
   "source": [
    "siab"
   ]
  },
  {
   "cell_type": "markdown",
   "id": "1f87e805",
   "metadata": {
    "papermill": {
     "duration": 0.021238,
     "end_time": "2025-08-19T18:51:08.253588",
     "exception": false,
     "start_time": "2025-08-19T18:51:08.232350",
     "status": "completed"
    },
    "tags": []
   },
   "source": [
    "# Splitting Data and Setting Training Data Size"
   ]
  },
  {
   "cell_type": "code",
   "execution_count": 11,
   "id": "910ae358",
   "metadata": {
    "execution": {
     "iopub.execute_input": "2025-08-19T18:51:08.277390Z",
     "iopub.status.busy": "2025-08-19T18:51:08.276892Z",
     "iopub.status.idle": "2025-08-19T18:51:08.535253Z",
     "shell.execute_reply": "2025-08-19T18:51:08.534581Z"
    },
    "papermill": {
     "duration": 0.271177,
     "end_time": "2025-08-19T18:51:08.536874",
     "exception": false,
     "start_time": "2025-08-19T18:51:08.265697",
     "status": "completed"
    },
    "tags": []
   },
   "outputs": [],
   "source": [
    "from fairness_multiverse.universe import sample_by_year_size\n",
    "\n",
    "siab_train = sample_by_year_size(siab,\n",
    "                               training_year=universe[\"training_year\"],\n",
    "                               training_size=universe[\"training_size\"])"
   ]
  },
  {
   "cell_type": "code",
   "execution_count": 12,
   "id": "919c8ff5",
   "metadata": {
    "execution": {
     "iopub.execute_input": "2025-08-19T18:51:08.559179Z",
     "iopub.status.busy": "2025-08-19T18:51:08.558558Z",
     "iopub.status.idle": "2025-08-19T18:51:08.565824Z",
     "shell.execute_reply": "2025-08-19T18:51:08.564853Z"
    },
    "papermill": {
     "duration": 0.019621,
     "end_time": "2025-08-19T18:51:08.567169",
     "exception": false,
     "start_time": "2025-08-19T18:51:08.547548",
     "status": "completed"
    },
    "tags": []
   },
   "outputs": [
    {
     "data": {
      "text/plain": [
       "(1000, 164)"
      ]
     },
     "execution_count": 12,
     "metadata": {},
     "output_type": "execute_result"
    }
   ],
   "source": [
    "siab_train.shape"
   ]
  },
  {
   "cell_type": "code",
   "execution_count": 13,
   "id": "feb13bf4",
   "metadata": {
    "execution": {
     "iopub.execute_input": "2025-08-19T18:51:08.592395Z",
     "iopub.status.busy": "2025-08-19T18:51:08.591407Z",
     "iopub.status.idle": "2025-08-19T18:51:08.605763Z",
     "shell.execute_reply": "2025-08-19T18:51:08.604583Z"
    },
    "papermill": {
     "duration": 0.028544,
     "end_time": "2025-08-19T18:51:08.607359",
     "exception": false,
     "start_time": "2025-08-19T18:51:08.578815",
     "status": "completed"
    },
    "tags": []
   },
   "outputs": [
    {
     "data": {
      "text/plain": [
       "year\n",
       "2014    1000\n",
       "dtype: int64"
      ]
     },
     "metadata": {},
     "output_type": "display_data"
    }
   ],
   "source": [
    "display(siab_train.groupby(\"year\").size())"
   ]
  },
  {
   "cell_type": "code",
   "execution_count": 14,
   "id": "0997782f",
   "metadata": {
    "execution": {
     "iopub.execute_input": "2025-08-19T18:51:08.637424Z",
     "iopub.status.busy": "2025-08-19T18:51:08.636376Z",
     "iopub.status.idle": "2025-08-19T18:51:08.882172Z",
     "shell.execute_reply": "2025-08-19T18:51:08.881505Z"
    },
    "papermill": {
     "duration": 0.261794,
     "end_time": "2025-08-19T18:51:08.885061",
     "exception": false,
     "start_time": "2025-08-19T18:51:08.623267",
     "status": "completed"
    },
    "tags": []
   },
   "outputs": [],
   "source": [
    "#siab_train = siab_s[siab_s.year < 2015]\n",
    "siab_calib = siab[siab.year == 2015]\n",
    "siab_test = siab[siab.year == 2016]"
   ]
  },
  {
   "cell_type": "code",
   "execution_count": 15,
   "id": "2c1e4012",
   "metadata": {
    "execution": {
     "iopub.execute_input": "2025-08-19T18:51:08.923521Z",
     "iopub.status.busy": "2025-08-19T18:51:08.922595Z",
     "iopub.status.idle": "2025-08-19T18:51:08.930330Z",
     "shell.execute_reply": "2025-08-19T18:51:08.928723Z"
    },
    "papermill": {
     "duration": 0.023481,
     "end_time": "2025-08-19T18:51:08.932103",
     "exception": false,
     "start_time": "2025-08-19T18:51:08.908622",
     "status": "completed"
    },
    "tags": []
   },
   "outputs": [],
   "source": [
    "#siab_calib.shape"
   ]
  },
  {
   "cell_type": "code",
   "execution_count": 16,
   "id": "f66b54ca",
   "metadata": {
    "execution": {
     "iopub.execute_input": "2025-08-19T18:51:08.958106Z",
     "iopub.status.busy": "2025-08-19T18:51:08.957154Z",
     "iopub.status.idle": "2025-08-19T18:51:08.965173Z",
     "shell.execute_reply": "2025-08-19T18:51:08.963481Z"
    },
    "papermill": {
     "duration": 0.021615,
     "end_time": "2025-08-19T18:51:08.966982",
     "exception": false,
     "start_time": "2025-08-19T18:51:08.945367",
     "status": "completed"
    },
    "tags": []
   },
   "outputs": [],
   "source": [
    "#siab_test.shape"
   ]
  },
  {
   "cell_type": "code",
   "execution_count": 17,
   "id": "27e4384d",
   "metadata": {
    "execution": {
     "iopub.execute_input": "2025-08-19T18:51:08.993244Z",
     "iopub.status.busy": "2025-08-19T18:51:08.991696Z",
     "iopub.status.idle": "2025-08-19T18:51:09.004713Z",
     "shell.execute_reply": "2025-08-19T18:51:09.003090Z"
    },
    "papermill": {
     "duration": 0.026838,
     "end_time": "2025-08-19T18:51:09.006614",
     "exception": false,
     "start_time": "2025-08-19T18:51:08.979776",
     "status": "completed"
    },
    "tags": []
   },
   "outputs": [],
   "source": [
    "X_train = siab_train.iloc[:,4:164]\n",
    "y_train = siab_train.iloc[:, [3]]"
   ]
  },
  {
   "cell_type": "code",
   "execution_count": 18,
   "id": "08ee8389",
   "metadata": {
    "execution": {
     "iopub.execute_input": "2025-08-19T18:51:09.037882Z",
     "iopub.status.busy": "2025-08-19T18:51:09.031435Z",
     "iopub.status.idle": "2025-08-19T18:51:09.105973Z",
     "shell.execute_reply": "2025-08-19T18:51:09.105299Z"
    },
    "papermill": {
     "duration": 0.089135,
     "end_time": "2025-08-19T18:51:09.108655",
     "exception": false,
     "start_time": "2025-08-19T18:51:09.019520",
     "status": "completed"
    },
    "tags": []
   },
   "outputs": [],
   "source": [
    "X_calib = siab_calib.iloc[:,4:164]\n",
    "y_calib = siab_calib.iloc[:, [3]]"
   ]
  },
  {
   "cell_type": "code",
   "execution_count": 19,
   "id": "b7ff42e0",
   "metadata": {
    "execution": {
     "iopub.execute_input": "2025-08-19T18:51:09.156502Z",
     "iopub.status.busy": "2025-08-19T18:51:09.145529Z",
     "iopub.status.idle": "2025-08-19T18:51:09.228616Z",
     "shell.execute_reply": "2025-08-19T18:51:09.227527Z"
    },
    "papermill": {
     "duration": 0.099309,
     "end_time": "2025-08-19T18:51:09.230792",
     "exception": false,
     "start_time": "2025-08-19T18:51:09.131483",
     "status": "completed"
    },
    "tags": []
   },
   "outputs": [],
   "source": [
    "X_test = siab_test.iloc[:,4:164]\n",
    "y_true = siab_test.iloc[:, [3]]"
   ]
  },
  {
   "cell_type": "code",
   "execution_count": 20,
   "id": "0275101e",
   "metadata": {
    "execution": {
     "iopub.execute_input": "2025-08-19T18:51:09.275711Z",
     "iopub.status.busy": "2025-08-19T18:51:09.274985Z",
     "iopub.status.idle": "2025-08-19T18:51:09.391244Z",
     "shell.execute_reply": "2025-08-19T18:51:09.390443Z"
    },
    "papermill": {
     "duration": 0.137286,
     "end_time": "2025-08-19T18:51:09.393110",
     "exception": false,
     "start_time": "2025-08-19T18:51:09.255824",
     "status": "completed"
    },
    "tags": []
   },
   "outputs": [],
   "source": [
    "# Auxiliary data needed downstream in the pipeline\n",
    "\n",
    "org_train = X_train.copy()\n",
    "org_test = X_test.copy()\n",
    "org_calib = X_calib.copy()"
   ]
  },
  {
   "cell_type": "markdown",
   "id": "b461e618",
   "metadata": {
    "papermill": {
     "duration": 0.010768,
     "end_time": "2025-08-19T18:51:09.417236",
     "exception": false,
     "start_time": "2025-08-19T18:51:09.406468",
     "status": "completed"
    },
    "tags": []
   },
   "source": [
    "# Preprocessing Data"
   ]
  },
  {
   "cell_type": "code",
   "execution_count": 21,
   "id": "78e74c4b",
   "metadata": {
    "execution": {
     "iopub.execute_input": "2025-08-19T18:51:09.441284Z",
     "iopub.status.busy": "2025-08-19T18:51:09.440567Z",
     "iopub.status.idle": "2025-08-19T18:51:09.448755Z",
     "shell.execute_reply": "2025-08-19T18:51:09.447538Z"
    },
    "papermill": {
     "duration": 0.022535,
     "end_time": "2025-08-19T18:51:09.450456",
     "exception": false,
     "start_time": "2025-08-19T18:51:09.427921",
     "status": "completed"
    },
    "tags": []
   },
   "outputs": [],
   "source": [
    "# EXCLUDE PROTECTED FEATURES\n",
    "# --------------------------\n",
    "\n",
    "excluded_features = universe[\"exclude_features\"].split(\"-\")\n",
    "excluded_features_dictionary = {\n",
    "    \"nationality\": [\"maxdeutsch1\", \"maxdeutsch.Missing.\"],\n",
    "    \"sex\": [\"frau1\"],\n",
    "    \"age\": [\"age\"],\n",
    "}"
   ]
  },
  {
   "cell_type": "code",
   "execution_count": 22,
   "id": "f8e63555",
   "metadata": {
    "execution": {
     "iopub.execute_input": "2025-08-19T18:51:09.476761Z",
     "iopub.status.busy": "2025-08-19T18:51:09.476033Z",
     "iopub.status.idle": "2025-08-19T18:51:09.484418Z",
     "shell.execute_reply": "2025-08-19T18:51:09.483053Z"
    },
    "papermill": {
     "duration": 0.022463,
     "end_time": "2025-08-19T18:51:09.486263",
     "exception": false,
     "start_time": "2025-08-19T18:51:09.463800",
     "status": "completed"
    },
    "tags": []
   },
   "outputs": [],
   "source": [
    "excluded_features_columns = [\n",
    "    excluded_features_dictionary[f] for f in excluded_features if len(f) > 0 and f != \"none\"\n",
    "]"
   ]
  },
  {
   "cell_type": "code",
   "execution_count": 23,
   "id": "da781f7c",
   "metadata": {
    "execution": {
     "iopub.execute_input": "2025-08-19T18:51:09.511855Z",
     "iopub.status.busy": "2025-08-19T18:51:09.511180Z",
     "iopub.status.idle": "2025-08-19T18:51:09.518366Z",
     "shell.execute_reply": "2025-08-19T18:51:09.517066Z"
    },
    "papermill": {
     "duration": 0.021333,
     "end_time": "2025-08-19T18:51:09.520005",
     "exception": false,
     "start_time": "2025-08-19T18:51:09.498672",
     "status": "completed"
    },
    "tags": []
   },
   "outputs": [],
   "source": [
    "from fairness_multiverse.universe import flatten_once\n",
    "\n",
    "excluded_features_columns = flatten_once(excluded_features_columns)"
   ]
  },
  {
   "cell_type": "code",
   "execution_count": 24,
   "id": "37fef0f0",
   "metadata": {
    "execution": {
     "iopub.execute_input": "2025-08-19T18:51:09.558013Z",
     "iopub.status.busy": "2025-08-19T18:51:09.557324Z",
     "iopub.status.idle": "2025-08-19T18:51:09.565126Z",
     "shell.execute_reply": "2025-08-19T18:51:09.563925Z"
    },
    "papermill": {
     "duration": 0.025597,
     "end_time": "2025-08-19T18:51:09.566900",
     "exception": false,
     "start_time": "2025-08-19T18:51:09.541303",
     "status": "completed"
    },
    "tags": []
   },
   "outputs": [],
   "source": [
    "if len(excluded_features_columns) > 0:\n",
    "    print(f\"Dropping features: {excluded_features_columns}\")\n",
    "    X_train.drop(excluded_features_columns, axis=1, inplace=True)"
   ]
  },
  {
   "cell_type": "code",
   "execution_count": 25,
   "id": "d029e3e9",
   "metadata": {
    "execution": {
     "iopub.execute_input": "2025-08-19T18:51:09.592469Z",
     "iopub.status.busy": "2025-08-19T18:51:09.591785Z",
     "iopub.status.idle": "2025-08-19T18:51:09.599508Z",
     "shell.execute_reply": "2025-08-19T18:51:09.598327Z"
    },
    "papermill": {
     "duration": 0.023089,
     "end_time": "2025-08-19T18:51:09.601149",
     "exception": false,
     "start_time": "2025-08-19T18:51:09.578060",
     "status": "completed"
    },
    "tags": []
   },
   "outputs": [],
   "source": [
    "if len(excluded_features_columns) > 0:\n",
    "    print(f\"Dropping features: {excluded_features_columns}\")\n",
    "    X_test.drop(excluded_features_columns, axis=1, inplace=True)"
   ]
  },
  {
   "cell_type": "code",
   "execution_count": 26,
   "id": "01d571f0",
   "metadata": {
    "execution": {
     "iopub.execute_input": "2025-08-19T18:51:09.627291Z",
     "iopub.status.busy": "2025-08-19T18:51:09.626588Z",
     "iopub.status.idle": "2025-08-19T18:51:09.635575Z",
     "shell.execute_reply": "2025-08-19T18:51:09.634169Z"
    },
    "papermill": {
     "duration": 0.023151,
     "end_time": "2025-08-19T18:51:09.637525",
     "exception": false,
     "start_time": "2025-08-19T18:51:09.614374",
     "status": "completed"
    },
    "tags": []
   },
   "outputs": [],
   "source": [
    "if len(excluded_features_columns) > 0:\n",
    "    print(f\"Dropping features: {excluded_features_columns}\")\n",
    "    X_calib.drop(excluded_features_columns, axis=1, inplace=True)"
   ]
  },
  {
   "cell_type": "code",
   "execution_count": 27,
   "id": "3037356e",
   "metadata": {
    "execution": {
     "iopub.execute_input": "2025-08-19T18:51:09.663417Z",
     "iopub.status.busy": "2025-08-19T18:51:09.662712Z",
     "iopub.status.idle": "2025-08-19T18:51:09.669886Z",
     "shell.execute_reply": "2025-08-19T18:51:09.668742Z"
    },
    "papermill": {
     "duration": 0.021201,
     "end_time": "2025-08-19T18:51:09.671447",
     "exception": false,
     "start_time": "2025-08-19T18:51:09.650246",
     "status": "completed"
    },
    "tags": []
   },
   "outputs": [],
   "source": [
    "# EXCLUDE CERTAIN SUBGROUPS\n",
    "# -------------------------\n",
    "\n",
    "mode = universe.get(\"exclude_subgroups\", \"keep-all\") # Defaults to \"keep-all\" if the key is missing."
   ]
  },
  {
   "cell_type": "code",
   "execution_count": 28,
   "id": "9d1e63fd",
   "metadata": {
    "execution": {
     "iopub.execute_input": "2025-08-19T18:51:09.697309Z",
     "iopub.status.busy": "2025-08-19T18:51:09.696634Z",
     "iopub.status.idle": "2025-08-19T18:51:09.706578Z",
     "shell.execute_reply": "2025-08-19T18:51:09.705278Z"
    },
    "papermill": {
     "duration": 0.023937,
     "end_time": "2025-08-19T18:51:09.708362",
     "exception": false,
     "start_time": "2025-08-19T18:51:09.684425",
     "status": "completed"
    },
    "tags": []
   },
   "outputs": [],
   "source": [
    "if mode == \"keep-all\":\n",
    "    keep_mask = pd.Series(True, index=org_train.index)\n",
    "\n",
    "elif mode == \"drop-non-german\":\n",
    "    keep_mask = (org_train[\"maxdeutsch1\"] == 1) & (org_train[\"maxdeutsch.Missing.\"] == 0)\n",
    "\n",
    "else:\n",
    "    raise ValueError(f\"Unsupported mode for exclude_subgroups: {mode}\")"
   ]
  },
  {
   "cell_type": "code",
   "execution_count": 29,
   "id": "d3b65474",
   "metadata": {
    "execution": {
     "iopub.execute_input": "2025-08-19T18:51:09.734716Z",
     "iopub.status.busy": "2025-08-19T18:51:09.734022Z",
     "iopub.status.idle": "2025-08-19T18:51:09.743341Z",
     "shell.execute_reply": "2025-08-19T18:51:09.742076Z"
    },
    "papermill": {
     "duration": 0.023738,
     "end_time": "2025-08-19T18:51:09.745104",
     "exception": false,
     "start_time": "2025-08-19T18:51:09.721366",
     "status": "completed"
    },
    "tags": []
   },
   "outputs": [],
   "source": [
    "n_drop = (~keep_mask).sum() # Calculates how many rows are set to be dropped\n",
    "if n_drop > 0:\n",
    "    pct = n_drop / len(keep_mask) * 100\n",
    "    print(f\"Dropping {n_drop} rows ({pct:.2f}%) where mode='{mode}'\")"
   ]
  },
  {
   "cell_type": "code",
   "execution_count": 30,
   "id": "f44389b3",
   "metadata": {
    "execution": {
     "iopub.execute_input": "2025-08-19T18:51:09.770965Z",
     "iopub.status.busy": "2025-08-19T18:51:09.770270Z",
     "iopub.status.idle": "2025-08-19T18:51:09.780154Z",
     "shell.execute_reply": "2025-08-19T18:51:09.778931Z"
    },
    "papermill": {
     "duration": 0.023545,
     "end_time": "2025-08-19T18:51:09.781693",
     "exception": false,
     "start_time": "2025-08-19T18:51:09.758148",
     "status": "completed"
    },
    "tags": []
   },
   "outputs": [],
   "source": [
    "X_train = X_train[keep_mask]"
   ]
  },
  {
   "cell_type": "code",
   "execution_count": 31,
   "id": "ceca8c2a",
   "metadata": {
    "execution": {
     "iopub.execute_input": "2025-08-19T18:51:09.808146Z",
     "iopub.status.busy": "2025-08-19T18:51:09.807472Z",
     "iopub.status.idle": "2025-08-19T18:51:09.815141Z",
     "shell.execute_reply": "2025-08-19T18:51:09.814006Z"
    },
    "papermill": {
     "duration": 0.02208,
     "end_time": "2025-08-19T18:51:09.817173",
     "exception": false,
     "start_time": "2025-08-19T18:51:09.795093",
     "status": "completed"
    },
    "tags": []
   },
   "outputs": [],
   "source": [
    "y_train = y_train[keep_mask]"
   ]
  },
  {
   "cell_type": "markdown",
   "id": "04d31e2f",
   "metadata": {
    "papermill": {
     "duration": 0.010705,
     "end_time": "2025-08-19T18:51:09.840667",
     "exception": false,
     "start_time": "2025-08-19T18:51:09.829962",
     "status": "completed"
    },
    "tags": []
   },
   "source": [
    "# Model Training"
   ]
  },
  {
   "cell_type": "code",
   "execution_count": 32,
   "id": "db991733",
   "metadata": {
    "execution": {
     "iopub.execute_input": "2025-08-19T18:51:09.864980Z",
     "iopub.status.busy": "2025-08-19T18:51:09.864252Z",
     "iopub.status.idle": "2025-08-19T18:51:09.969507Z",
     "shell.execute_reply": "2025-08-19T18:51:09.968393Z"
    },
    "papermill": {
     "duration": 0.121419,
     "end_time": "2025-08-19T18:51:09.972316",
     "exception": false,
     "start_time": "2025-08-19T18:51:09.850897",
     "status": "completed"
    },
    "tags": []
   },
   "outputs": [],
   "source": [
    "from sklearn.linear_model import LogisticRegression\n",
    "from sklearn.ensemble import GradientBoostingClassifier, RandomForestClassifier\n",
    "\n",
    "if (universe[\"model\"] == \"logreg\"):\n",
    "    model = LogisticRegression() #penalty=\"none\", solver=\"newton-cg\", max_iter=1)\n",
    "elif (universe[\"model\"] == \"penalized_logreg\"):\n",
    "    model = LogisticRegression(penalty=\"l2\", C=0.1) #, solver=\"newton-cg\", max_iter=1)\n",
    "elif (universe[\"model\"] == \"rf\"):\n",
    "    model = RandomForestClassifier() # n_estimators=100, n_jobs=-1\n",
    "elif (universe[\"model\"] == \"gbm\"):\n",
    "    model = GradientBoostingClassifier()\n",
    "elif (universe[\"model\"] == \"elasticnet\"):\n",
    "    model = LogisticRegression(penalty = 'elasticnet', solver = 'saga', l1_ratio = 0.5) # max_iter=5000\n",
    "else:\n",
    "    raise \"Unsupported universe.model\""
   ]
  },
  {
   "cell_type": "code",
   "execution_count": 33,
   "id": "a4b5cd25",
   "metadata": {
    "execution": {
     "iopub.execute_input": "2025-08-19T18:51:10.013173Z",
     "iopub.status.busy": "2025-08-19T18:51:10.012393Z",
     "iopub.status.idle": "2025-08-19T18:51:10.020332Z",
     "shell.execute_reply": "2025-08-19T18:51:10.019349Z"
    },
    "papermill": {
     "duration": 0.02536,
     "end_time": "2025-08-19T18:51:10.021801",
     "exception": false,
     "start_time": "2025-08-19T18:51:09.996441",
     "status": "completed"
    },
    "tags": []
   },
   "outputs": [],
   "source": [
    "from sklearn.pipeline import Pipeline\n",
    "from sklearn.preprocessing import StandardScaler\n",
    "\n",
    "model = Pipeline([\n",
    "    #(\"continuous_processor\", continuous_processor),\n",
    "    #(\"categorical_preprocessor\", categorical_preprocessor),\n",
    "    (\"scale\", StandardScaler() if universe[\"scale\"] == \"scale\" else None), \n",
    "    (\"model\", model),\n",
    "])"
   ]
  },
  {
   "cell_type": "code",
   "execution_count": 34,
   "id": "283a904d",
   "metadata": {
    "execution": {
     "iopub.execute_input": "2025-08-19T18:51:10.046305Z",
     "iopub.status.busy": "2025-08-19T18:51:10.045751Z",
     "iopub.status.idle": "2025-08-19T18:51:11.018792Z",
     "shell.execute_reply": "2025-08-19T18:51:11.017693Z"
    },
    "papermill": {
     "duration": 0.992165,
     "end_time": "2025-08-19T18:51:11.024786",
     "exception": false,
     "start_time": "2025-08-19T18:51:10.032621",
     "status": "completed"
    },
    "tags": []
   },
   "outputs": [
    {
     "data": {
      "text/html": [
       "<style>#sk-container-id-1 {color: black;background-color: white;}#sk-container-id-1 pre{padding: 0;}#sk-container-id-1 div.sk-toggleable {background-color: white;}#sk-container-id-1 label.sk-toggleable__label {cursor: pointer;display: block;width: 100%;margin-bottom: 0;padding: 0.3em;box-sizing: border-box;text-align: center;}#sk-container-id-1 label.sk-toggleable__label-arrow:before {content: \"▸\";float: left;margin-right: 0.25em;color: #696969;}#sk-container-id-1 label.sk-toggleable__label-arrow:hover:before {color: black;}#sk-container-id-1 div.sk-estimator:hover label.sk-toggleable__label-arrow:before {color: black;}#sk-container-id-1 div.sk-toggleable__content {max-height: 0;max-width: 0;overflow: hidden;text-align: left;background-color: #f0f8ff;}#sk-container-id-1 div.sk-toggleable__content pre {margin: 0.2em;color: black;border-radius: 0.25em;background-color: #f0f8ff;}#sk-container-id-1 input.sk-toggleable__control:checked~div.sk-toggleable__content {max-height: 200px;max-width: 100%;overflow: auto;}#sk-container-id-1 input.sk-toggleable__control:checked~label.sk-toggleable__label-arrow:before {content: \"▾\";}#sk-container-id-1 div.sk-estimator input.sk-toggleable__control:checked~label.sk-toggleable__label {background-color: #d4ebff;}#sk-container-id-1 div.sk-label input.sk-toggleable__control:checked~label.sk-toggleable__label {background-color: #d4ebff;}#sk-container-id-1 input.sk-hidden--visually {border: 0;clip: rect(1px 1px 1px 1px);clip: rect(1px, 1px, 1px, 1px);height: 1px;margin: -1px;overflow: hidden;padding: 0;position: absolute;width: 1px;}#sk-container-id-1 div.sk-estimator {font-family: monospace;background-color: #f0f8ff;border: 1px dotted black;border-radius: 0.25em;box-sizing: border-box;margin-bottom: 0.5em;}#sk-container-id-1 div.sk-estimator:hover {background-color: #d4ebff;}#sk-container-id-1 div.sk-parallel-item::after {content: \"\";width: 100%;border-bottom: 1px solid gray;flex-grow: 1;}#sk-container-id-1 div.sk-label:hover label.sk-toggleable__label {background-color: #d4ebff;}#sk-container-id-1 div.sk-serial::before {content: \"\";position: absolute;border-left: 1px solid gray;box-sizing: border-box;top: 0;bottom: 0;left: 50%;z-index: 0;}#sk-container-id-1 div.sk-serial {display: flex;flex-direction: column;align-items: center;background-color: white;padding-right: 0.2em;padding-left: 0.2em;position: relative;}#sk-container-id-1 div.sk-item {position: relative;z-index: 1;}#sk-container-id-1 div.sk-parallel {display: flex;align-items: stretch;justify-content: center;background-color: white;position: relative;}#sk-container-id-1 div.sk-item::before, #sk-container-id-1 div.sk-parallel-item::before {content: \"\";position: absolute;border-left: 1px solid gray;box-sizing: border-box;top: 0;bottom: 0;left: 50%;z-index: -1;}#sk-container-id-1 div.sk-parallel-item {display: flex;flex-direction: column;z-index: 1;position: relative;background-color: white;}#sk-container-id-1 div.sk-parallel-item:first-child::after {align-self: flex-end;width: 50%;}#sk-container-id-1 div.sk-parallel-item:last-child::after {align-self: flex-start;width: 50%;}#sk-container-id-1 div.sk-parallel-item:only-child::after {width: 0;}#sk-container-id-1 div.sk-dashed-wrapped {border: 1px dashed gray;margin: 0 0.4em 0.5em 0.4em;box-sizing: border-box;padding-bottom: 0.4em;background-color: white;}#sk-container-id-1 div.sk-label label {font-family: monospace;font-weight: bold;display: inline-block;line-height: 1.2em;}#sk-container-id-1 div.sk-label-container {text-align: center;}#sk-container-id-1 div.sk-container {/* jupyter's `normalize.less` sets `[hidden] { display: none; }` but bootstrap.min.css set `[hidden] { display: none !important; }` so we also need the `!important` here to be able to override the default hidden behavior on the sphinx rendered scikit-learn.org. See: https://github.com/scikit-learn/scikit-learn/issues/21755 */display: inline-block !important;position: relative;}#sk-container-id-1 div.sk-text-repr-fallback {display: none;}</style><div id=\"sk-container-id-1\" class=\"sk-top-container\"><div class=\"sk-text-repr-fallback\"><pre>Pipeline(steps=[(&#x27;scale&#x27;, StandardScaler()),\n",
       "                (&#x27;model&#x27;, GradientBoostingClassifier())])</pre><b>In a Jupyter environment, please rerun this cell to show the HTML representation or trust the notebook. <br />On GitHub, the HTML representation is unable to render, please try loading this page with nbviewer.org.</b></div><div class=\"sk-container\" hidden><div class=\"sk-item sk-dashed-wrapped\"><div class=\"sk-label-container\"><div class=\"sk-label sk-toggleable\"><input class=\"sk-toggleable__control sk-hidden--visually\" id=\"sk-estimator-id-1\" type=\"checkbox\" ><label for=\"sk-estimator-id-1\" class=\"sk-toggleable__label sk-toggleable__label-arrow\">Pipeline</label><div class=\"sk-toggleable__content\"><pre>Pipeline(steps=[(&#x27;scale&#x27;, StandardScaler()),\n",
       "                (&#x27;model&#x27;, GradientBoostingClassifier())])</pre></div></div></div><div class=\"sk-serial\"><div class=\"sk-item\"><div class=\"sk-estimator sk-toggleable\"><input class=\"sk-toggleable__control sk-hidden--visually\" id=\"sk-estimator-id-2\" type=\"checkbox\" ><label for=\"sk-estimator-id-2\" class=\"sk-toggleable__label sk-toggleable__label-arrow\">StandardScaler</label><div class=\"sk-toggleable__content\"><pre>StandardScaler()</pre></div></div></div><div class=\"sk-item\"><div class=\"sk-estimator sk-toggleable\"><input class=\"sk-toggleable__control sk-hidden--visually\" id=\"sk-estimator-id-3\" type=\"checkbox\" ><label for=\"sk-estimator-id-3\" class=\"sk-toggleable__label sk-toggleable__label-arrow\">GradientBoostingClassifier</label><div class=\"sk-toggleable__content\"><pre>GradientBoostingClassifier()</pre></div></div></div></div></div></div></div>"
      ],
      "text/plain": [
       "Pipeline(steps=[('scale', StandardScaler()),\n",
       "                ('model', GradientBoostingClassifier())])"
      ]
     },
     "execution_count": 34,
     "metadata": {},
     "output_type": "execute_result"
    }
   ],
   "source": [
    "model.fit(X_train, y_train.values.ravel())"
   ]
  },
  {
   "cell_type": "code",
   "execution_count": 35,
   "id": "6e15e313",
   "metadata": {
    "execution": {
     "iopub.execute_input": "2025-08-19T18:51:11.059437Z",
     "iopub.status.busy": "2025-08-19T18:51:11.058646Z",
     "iopub.status.idle": "2025-08-19T18:51:11.710985Z",
     "shell.execute_reply": "2025-08-19T18:51:11.709871Z"
    },
    "papermill": {
     "duration": 0.669072,
     "end_time": "2025-08-19T18:51:11.713621",
     "exception": false,
     "start_time": "2025-08-19T18:51:11.044549",
     "status": "completed"
    },
    "tags": []
   },
   "outputs": [
    {
     "data": {
      "text/plain": [
       "0.850373425482109"
      ]
     },
     "execution_count": 35,
     "metadata": {},
     "output_type": "execute_result"
    }
   ],
   "source": [
    "from fairness_multiverse.universe import predict_w_threshold\n",
    "\n",
    "probs_test = model.predict_proba(X_test)\n",
    "\n",
    "'''\n",
    "Below code returns a boolean array (or binary 0/1 array depending on how it’s used) where each element \n",
    "is True if the probability of class 1 is greater than or equal to the threshold, and False otherwise.\n",
    "'''\n",
    "y_pred_default = predict_w_threshold(probs_test, 0.5)\n",
    "\n",
    "from sklearn.metrics import accuracy_score\n",
    "\n",
    "# Naive prediction\n",
    "accuracy_score(y_true = y_true, y_pred = y_pred_default)"
   ]
  },
  {
   "cell_type": "code",
   "execution_count": 36,
   "id": "6f14067c",
   "metadata": {
    "execution": {
     "iopub.execute_input": "2025-08-19T18:51:11.750981Z",
     "iopub.status.busy": "2025-08-19T18:51:11.750243Z",
     "iopub.status.idle": "2025-08-19T18:51:12.418953Z",
     "shell.execute_reply": "2025-08-19T18:51:12.417846Z"
    },
    "papermill": {
     "duration": 0.684641,
     "end_time": "2025-08-19T18:51:12.420625",
     "exception": false,
     "start_time": "2025-08-19T18:51:11.735984",
     "status": "completed"
    },
    "tags": []
   },
   "outputs": [
    {
     "data": {
      "text/plain": [
       "array([0, 0, 0, ..., 0, 0, 0])"
      ]
     },
     "execution_count": 36,
     "metadata": {},
     "output_type": "execute_result"
    }
   ],
   "source": [
    "model.predict(X_test)"
   ]
  },
  {
   "cell_type": "markdown",
   "id": "3759920c",
   "metadata": {
    "papermill": {
     "duration": 0.011064,
     "end_time": "2025-08-19T18:51:12.444871",
     "exception": false,
     "start_time": "2025-08-19T18:51:12.433807",
     "status": "completed"
    },
    "tags": []
   },
   "source": [
    "# Conformal Prediction"
   ]
  },
  {
   "cell_type": "code",
   "execution_count": 37,
   "id": "14b27f59",
   "metadata": {
    "execution": {
     "iopub.execute_input": "2025-08-19T18:51:12.468547Z",
     "iopub.status.busy": "2025-08-19T18:51:12.468068Z",
     "iopub.status.idle": "2025-08-19T18:51:12.473193Z",
     "shell.execute_reply": "2025-08-19T18:51:12.472512Z"
    },
    "papermill": {
     "duration": 0.019423,
     "end_time": "2025-08-19T18:51:12.475250",
     "exception": false,
     "start_time": "2025-08-19T18:51:12.455827",
     "status": "completed"
    },
    "tags": []
   },
   "outputs": [],
   "source": [
    "# Miscoverage level for conformal prediction (10% allowed error rate => 90% target coverage)\n",
    "alpha = 0.1"
   ]
  },
  {
   "cell_type": "code",
   "execution_count": 38,
   "id": "59102472",
   "metadata": {
    "execution": {
     "iopub.execute_input": "2025-08-19T18:51:12.499519Z",
     "iopub.status.busy": "2025-08-19T18:51:12.499079Z",
     "iopub.status.idle": "2025-08-19T18:51:13.061205Z",
     "shell.execute_reply": "2025-08-19T18:51:13.059597Z"
    },
    "papermill": {
     "duration": 0.578249,
     "end_time": "2025-08-19T18:51:13.065014",
     "exception": false,
     "start_time": "2025-08-19T18:51:12.486765",
     "status": "completed"
    },
    "tags": []
   },
   "outputs": [],
   "source": [
    "probs_calib = model.predict_proba(X_calib)"
   ]
  },
  {
   "cell_type": "code",
   "execution_count": 39,
   "id": "a792d4dd",
   "metadata": {
    "execution": {
     "iopub.execute_input": "2025-08-19T18:51:13.106196Z",
     "iopub.status.busy": "2025-08-19T18:51:13.105014Z",
     "iopub.status.idle": "2025-08-19T18:51:13.116942Z",
     "shell.execute_reply": "2025-08-19T18:51:13.115646Z"
    },
    "papermill": {
     "duration": 0.02933,
     "end_time": "2025-08-19T18:51:13.118825",
     "exception": false,
     "start_time": "2025-08-19T18:51:13.089495",
     "status": "completed"
    },
    "tags": []
   },
   "outputs": [],
   "source": [
    "y_calib = y_calib.values.ravel().astype(int)"
   ]
  },
  {
   "cell_type": "code",
   "execution_count": 40,
   "id": "650fd033",
   "metadata": {
    "execution": {
     "iopub.execute_input": "2025-08-19T18:51:13.150745Z",
     "iopub.status.busy": "2025-08-19T18:51:13.149762Z",
     "iopub.status.idle": "2025-08-19T18:51:13.163545Z",
     "shell.execute_reply": "2025-08-19T18:51:13.162457Z"
    },
    "papermill": {
     "duration": 0.029427,
     "end_time": "2025-08-19T18:51:13.165354",
     "exception": false,
     "start_time": "2025-08-19T18:51:13.135927",
     "status": "completed"
    },
    "tags": []
   },
   "outputs": [],
   "source": [
    "from fairness_multiverse.conformal import compute_nc_scores\n",
    "\n",
    "# Compute nonconformity scores on calibration set (1 - probability of true class)\n",
    "nc_scores = compute_nc_scores(probs_calib, y_calib)"
   ]
  },
  {
   "cell_type": "code",
   "execution_count": 41,
   "id": "28ada44c",
   "metadata": {
    "execution": {
     "iopub.execute_input": "2025-08-19T18:51:13.199807Z",
     "iopub.status.busy": "2025-08-19T18:51:13.199089Z",
     "iopub.status.idle": "2025-08-19T18:51:13.213310Z",
     "shell.execute_reply": "2025-08-19T18:51:13.212168Z"
    },
    "papermill": {
     "duration": 0.029806,
     "end_time": "2025-08-19T18:51:13.215069",
     "exception": false,
     "start_time": "2025-08-19T18:51:13.185263",
     "status": "completed"
    },
    "tags": []
   },
   "outputs": [],
   "source": [
    "from fairness_multiverse.conformal import find_threshold\n",
    "\n",
    "# Find conformal threshold q_hat for the given alpha (split conformal method)\n",
    "q_hat = find_threshold(nc_scores, alpha)"
   ]
  },
  {
   "cell_type": "code",
   "execution_count": 42,
   "id": "df56469e",
   "metadata": {
    "execution": {
     "iopub.execute_input": "2025-08-19T18:51:13.244373Z",
     "iopub.status.busy": "2025-08-19T18:51:13.243419Z",
     "iopub.status.idle": "2025-08-19T18:51:13.253829Z",
     "shell.execute_reply": "2025-08-19T18:51:13.252539Z"
    },
    "papermill": {
     "duration": 0.025216,
     "end_time": "2025-08-19T18:51:13.255617",
     "exception": false,
     "start_time": "2025-08-19T18:51:13.230401",
     "status": "completed"
    },
    "tags": []
   },
   "outputs": [
    {
     "data": {
      "text/plain": [
       "0.7418336171636242"
      ]
     },
     "execution_count": 42,
     "metadata": {},
     "output_type": "execute_result"
    }
   ],
   "source": [
    "q_hat"
   ]
  },
  {
   "cell_type": "code",
   "execution_count": 43,
   "id": "aa1f5faa",
   "metadata": {
    "execution": {
     "iopub.execute_input": "2025-08-19T18:51:13.283580Z",
     "iopub.status.busy": "2025-08-19T18:51:13.282604Z",
     "iopub.status.idle": "2025-08-19T18:51:14.428123Z",
     "shell.execute_reply": "2025-08-19T18:51:14.427037Z"
    },
    "papermill": {
     "duration": 1.161339,
     "end_time": "2025-08-19T18:51:14.430456",
     "exception": false,
     "start_time": "2025-08-19T18:51:13.269117",
     "status": "completed"
    },
    "tags": []
   },
   "outputs": [],
   "source": [
    "from fairness_multiverse.conformal import predict_conformal_sets\n",
    "\n",
    "# Generate prediction sets for each test example\n",
    "pred_sets = predict_conformal_sets(model, X_test, q_hat)"
   ]
  },
  {
   "cell_type": "code",
   "execution_count": 44,
   "id": "97f67a6b",
   "metadata": {
    "execution": {
     "iopub.execute_input": "2025-08-19T18:51:14.462347Z",
     "iopub.status.busy": "2025-08-19T18:51:14.461586Z",
     "iopub.status.idle": "2025-08-19T18:51:14.469626Z",
     "shell.execute_reply": "2025-08-19T18:51:14.468397Z"
    },
    "papermill": {
     "duration": 0.023154,
     "end_time": "2025-08-19T18:51:14.471144",
     "exception": false,
     "start_time": "2025-08-19T18:51:14.447990",
     "status": "completed"
    },
    "tags": []
   },
   "outputs": [],
   "source": [
    "y_true = y_true.squeeze()"
   ]
  },
  {
   "cell_type": "code",
   "execution_count": 45,
   "id": "e700e9a7",
   "metadata": {
    "execution": {
     "iopub.execute_input": "2025-08-19T18:51:14.498642Z",
     "iopub.status.busy": "2025-08-19T18:51:14.497424Z",
     "iopub.status.idle": "2025-08-19T18:51:15.025990Z",
     "shell.execute_reply": "2025-08-19T18:51:15.024685Z"
    },
    "papermill": {
     "duration": 0.543657,
     "end_time": "2025-08-19T18:51:15.027613",
     "exception": false,
     "start_time": "2025-08-19T18:51:14.483956",
     "status": "completed"
    },
    "tags": []
   },
   "outputs": [],
   "source": [
    "from fairness_multiverse.conformal import evaluate_sets\n",
    "\n",
    "# Evaluate coverage and average set size on test data\n",
    "metrics = evaluate_sets(pred_sets, y_true)"
   ]
  },
  {
   "cell_type": "markdown",
   "id": "efbacec0",
   "metadata": {
    "papermill": {
     "duration": 0.017692,
     "end_time": "2025-08-19T18:51:15.057490",
     "exception": false,
     "start_time": "2025-08-19T18:51:15.039798",
     "status": "completed"
    },
    "tags": []
   },
   "source": [
    "# CP Metrics"
   ]
  },
  {
   "cell_type": "code",
   "execution_count": 46,
   "id": "9de55fb1",
   "metadata": {
    "execution": {
     "iopub.execute_input": "2025-08-19T18:51:15.089523Z",
     "iopub.status.busy": "2025-08-19T18:51:15.088689Z",
     "iopub.status.idle": "2025-08-19T18:51:15.105102Z",
     "shell.execute_reply": "2025-08-19T18:51:15.103920Z"
    },
    "papermill": {
     "duration": 0.037321,
     "end_time": "2025-08-19T18:51:15.106375",
     "exception": false,
     "start_time": "2025-08-19T18:51:15.069054",
     "status": "completed"
    },
    "tags": []
   },
   "outputs": [
    {
     "data": {
      "text/plain": [
       "{'coverage': 0.9102441199420355, 'avg_size': 1.1564931445769702}"
      ]
     },
     "execution_count": 46,
     "metadata": {},
     "output_type": "execute_result"
    }
   ],
   "source": [
    "metrics"
   ]
  },
  {
   "cell_type": "code",
   "execution_count": 47,
   "id": "64c340a1",
   "metadata": {
    "execution": {
     "iopub.execute_input": "2025-08-19T18:51:15.134479Z",
     "iopub.status.busy": "2025-08-19T18:51:15.133630Z",
     "iopub.status.idle": "2025-08-19T18:51:15.141911Z",
     "shell.execute_reply": "2025-08-19T18:51:15.140922Z"
    },
    "papermill": {
     "duration": 0.025128,
     "end_time": "2025-08-19T18:51:15.143154",
     "exception": false,
     "start_time": "2025-08-19T18:51:15.118026",
     "status": "completed"
    },
    "tags": []
   },
   "outputs": [],
   "source": [
    "example_universe = universe.copy()\n",
    "universe_training_year = example_universe.get(\"training_year\")\n",
    "universe_training_size = example_universe.get(\"training_size\")\n",
    "universe_scale = example_universe.get(\"scale\")\n",
    "universe_model = example_universe.get(\"model\")\n",
    "universe_exclude_features = example_universe.get(\"exclude_features\")\n",
    "universe_exclude_subgroups = example_universe.get(\"exclude_subgroups\")"
   ]
  },
  {
   "cell_type": "code",
   "execution_count": 48,
   "id": "dbb53cb4",
   "metadata": {
    "execution": {
     "iopub.execute_input": "2025-08-19T18:51:15.170351Z",
     "iopub.status.busy": "2025-08-19T18:51:15.169354Z",
     "iopub.status.idle": "2025-08-19T18:51:15.180232Z",
     "shell.execute_reply": "2025-08-19T18:51:15.179410Z"
    },
    "papermill": {
     "duration": 0.02689,
     "end_time": "2025-08-19T18:51:15.181628",
     "exception": false,
     "start_time": "2025-08-19T18:51:15.154738",
     "status": "completed"
    },
    "tags": []
   },
   "outputs": [],
   "source": [
    "cp_metrics_dict = {\n",
    "    \"universe_id\": [universe_id],\n",
    "    \"universe_training_year\": [universe_training_year],\n",
    "    \"universe_training_size\": [universe_training_size],\n",
    "    \"universe_scale\": [universe_scale],\n",
    "    \"universe_model\": [universe_model],\n",
    "    \"universe_exclude_features\": [universe_exclude_features],\n",
    "    \"universe_exclude_subgroups\": [universe_exclude_subgroups],\n",
    "    \"q_hat\": [q_hat],\n",
    "    \"coverage\": [metrics[\"coverage\"]],\n",
    "    \"avg_size\": [metrics[\"avg_size\"]],\n",
    "}"
   ]
  },
  {
   "cell_type": "code",
   "execution_count": 49,
   "id": "0d70d4b2",
   "metadata": {
    "execution": {
     "iopub.execute_input": "2025-08-19T18:51:15.210393Z",
     "iopub.status.busy": "2025-08-19T18:51:15.209302Z",
     "iopub.status.idle": "2025-08-19T18:51:15.235125Z",
     "shell.execute_reply": "2025-08-19T18:51:15.233897Z"
    },
    "papermill": {
     "duration": 0.041283,
     "end_time": "2025-08-19T18:51:15.237321",
     "exception": false,
     "start_time": "2025-08-19T18:51:15.196038",
     "status": "completed"
    },
    "tags": []
   },
   "outputs": [],
   "source": [
    "cp_metrics_df = pd.DataFrame(cp_metrics_dict)"
   ]
  },
  {
   "cell_type": "code",
   "execution_count": 50,
   "id": "b494403c",
   "metadata": {
    "execution": {
     "iopub.execute_input": "2025-08-19T18:51:15.268333Z",
     "iopub.status.busy": "2025-08-19T18:51:15.267636Z",
     "iopub.status.idle": "2025-08-19T18:51:15.285211Z",
     "shell.execute_reply": "2025-08-19T18:51:15.283834Z"
    },
    "papermill": {
     "duration": 0.032664,
     "end_time": "2025-08-19T18:51:15.286818",
     "exception": false,
     "start_time": "2025-08-19T18:51:15.254154",
     "status": "completed"
    },
    "tags": []
   },
   "outputs": [
    {
     "data": {
      "text/html": [
       "<div>\n",
       "<style scoped>\n",
       "    .dataframe tbody tr th:only-of-type {\n",
       "        vertical-align: middle;\n",
       "    }\n",
       "\n",
       "    .dataframe tbody tr th {\n",
       "        vertical-align: top;\n",
       "    }\n",
       "\n",
       "    .dataframe thead th {\n",
       "        text-align: right;\n",
       "    }\n",
       "</style>\n",
       "<table border=\"1\" class=\"dataframe\">\n",
       "  <thead>\n",
       "    <tr style=\"text-align: right;\">\n",
       "      <th></th>\n",
       "      <th>universe_id</th>\n",
       "      <th>universe_training_year</th>\n",
       "      <th>universe_training_size</th>\n",
       "      <th>universe_scale</th>\n",
       "      <th>universe_model</th>\n",
       "      <th>universe_exclude_features</th>\n",
       "      <th>universe_exclude_subgroups</th>\n",
       "      <th>q_hat</th>\n",
       "      <th>coverage</th>\n",
       "      <th>avg_size</th>\n",
       "    </tr>\n",
       "  </thead>\n",
       "  <tbody>\n",
       "    <tr>\n",
       "      <th>0</th>\n",
       "      <td>de1c4049fb979611d84cc5e4ec10a00e</td>\n",
       "      <td>2014</td>\n",
       "      <td>1k</td>\n",
       "      <td>scale</td>\n",
       "      <td>gbm</td>\n",
       "      <td>none</td>\n",
       "      <td>keep-all</td>\n",
       "      <td>0.741834</td>\n",
       "      <td>0.910244</td>\n",
       "      <td>1.156493</td>\n",
       "    </tr>\n",
       "  </tbody>\n",
       "</table>\n",
       "</div>"
      ],
      "text/plain": [
       "                        universe_id universe_training_year  \\\n",
       "0  de1c4049fb979611d84cc5e4ec10a00e                   2014   \n",
       "\n",
       "  universe_training_size universe_scale universe_model  \\\n",
       "0                     1k          scale            gbm   \n",
       "\n",
       "  universe_exclude_features universe_exclude_subgroups     q_hat  coverage  \\\n",
       "0                      none                   keep-all  0.741834  0.910244   \n",
       "\n",
       "   avg_size  \n",
       "0  1.156493  "
      ]
     },
     "execution_count": 50,
     "metadata": {},
     "output_type": "execute_result"
    }
   ],
   "source": [
    "cp_metrics_df"
   ]
  },
  {
   "cell_type": "markdown",
   "id": "ed608b0b",
   "metadata": {
    "papermill": {
     "duration": 0.011472,
     "end_time": "2025-08-19T18:51:15.311064",
     "exception": false,
     "start_time": "2025-08-19T18:51:15.299592",
     "status": "completed"
    },
    "tags": []
   },
   "source": [
    "Conditional coverage & looking at subgroups"
   ]
  },
  {
   "cell_type": "code",
   "execution_count": 51,
   "id": "8968c366",
   "metadata": {
    "execution": {
     "iopub.execute_input": "2025-08-19T18:51:15.338385Z",
     "iopub.status.busy": "2025-08-19T18:51:15.337212Z",
     "iopub.status.idle": "2025-08-19T18:51:15.729873Z",
     "shell.execute_reply": "2025-08-19T18:51:15.728843Z"
    },
    "papermill": {
     "duration": 0.408804,
     "end_time": "2025-08-19T18:51:15.731363",
     "exception": false,
     "start_time": "2025-08-19T18:51:15.322559",
     "status": "completed"
    },
    "tags": []
   },
   "outputs": [],
   "source": [
    "from fairness_multiverse.conformal import build_cp_groups\n",
    "\n",
    "cp_groups_df = build_cp_groups(pred_sets, y_true, X_test.index, org_test)"
   ]
  },
  {
   "cell_type": "code",
   "execution_count": 52,
   "id": "292ddabf",
   "metadata": {
    "execution": {
     "iopub.execute_input": "2025-08-19T18:51:15.756869Z",
     "iopub.status.busy": "2025-08-19T18:51:15.756373Z",
     "iopub.status.idle": "2025-08-19T18:51:16.680852Z",
     "shell.execute_reply": "2025-08-19T18:51:16.679704Z"
    },
    "papermill": {
     "duration": 0.940201,
     "end_time": "2025-08-19T18:51:16.683772",
     "exception": false,
     "start_time": "2025-08-19T18:51:15.743571",
     "status": "completed"
    },
    "tags": []
   },
   "outputs": [],
   "source": [
    "# Define covered = 1 if true_label is in the predicted set\n",
    "cp_groups_df['covered'] = cp_groups_df.apply(\n",
    "    lambda r: int(r['true_label'] in r['pred_set']),\n",
    "    axis=1\n",
    ")"
   ]
  },
  {
   "cell_type": "code",
   "execution_count": 53,
   "id": "3a261692",
   "metadata": {
    "execution": {
     "iopub.execute_input": "2025-08-19T18:51:16.736674Z",
     "iopub.status.busy": "2025-08-19T18:51:16.735981Z",
     "iopub.status.idle": "2025-08-19T18:51:16.760517Z",
     "shell.execute_reply": "2025-08-19T18:51:16.759384Z"
    },
    "papermill": {
     "duration": 0.052973,
     "end_time": "2025-08-19T18:51:16.762671",
     "exception": false,
     "start_time": "2025-08-19T18:51:16.709698",
     "status": "completed"
    },
    "tags": []
   },
   "outputs": [],
   "source": [
    "subgroups = ['frau1','nongerman','nongerman_male','nongerman_female']\n",
    "\n",
    "# Conditional coverage for subgroup==1\n",
    "cond_coverage = {\n",
    "    g: cp_groups_df.loc[cp_groups_df[g]==1, 'covered'].mean()\n",
    "    for g in subgroups\n",
    "}"
   ]
  },
  {
   "cell_type": "code",
   "execution_count": 54,
   "id": "894fd600",
   "metadata": {
    "execution": {
     "iopub.execute_input": "2025-08-19T18:51:16.806155Z",
     "iopub.status.busy": "2025-08-19T18:51:16.804780Z",
     "iopub.status.idle": "2025-08-19T18:51:16.818705Z",
     "shell.execute_reply": "2025-08-19T18:51:16.817247Z"
    },
    "papermill": {
     "duration": 0.034077,
     "end_time": "2025-08-19T18:51:16.823096",
     "exception": false,
     "start_time": "2025-08-19T18:51:16.789019",
     "status": "completed"
    },
    "tags": []
   },
   "outputs": [
    {
     "data": {
      "text/plain": [
       "{'frau1': 0.9071572988273352,\n",
       " 'nongerman': 0.9072587436142143,\n",
       " 'nongerman_male': 0.9252454291632892,\n",
       " 'nongerman_female': 0.8774962742175857}"
      ]
     },
     "execution_count": 54,
     "metadata": {},
     "output_type": "execute_result"
    }
   ],
   "source": [
    "cond_coverage"
   ]
  },
  {
   "cell_type": "code",
   "execution_count": 55,
   "id": "942895c7",
   "metadata": {
    "execution": {
     "iopub.execute_input": "2025-08-19T18:51:16.853494Z",
     "iopub.status.busy": "2025-08-19T18:51:16.852002Z",
     "iopub.status.idle": "2025-08-19T18:51:16.864153Z",
     "shell.execute_reply": "2025-08-19T18:51:16.862803Z"
    },
    "papermill": {
     "duration": 0.027537,
     "end_time": "2025-08-19T18:51:16.865721",
     "exception": false,
     "start_time": "2025-08-19T18:51:16.838184",
     "status": "completed"
    },
    "tags": []
   },
   "outputs": [],
   "source": [
    "for subgroup, cov in cond_coverage.items():\n",
    "    cp_metrics_df[f\"cov_{subgroup}\"] = cov"
   ]
  },
  {
   "cell_type": "code",
   "execution_count": 56,
   "id": "3970120f",
   "metadata": {
    "execution": {
     "iopub.execute_input": "2025-08-19T18:51:16.895029Z",
     "iopub.status.busy": "2025-08-19T18:51:16.893658Z",
     "iopub.status.idle": "2025-08-19T18:51:16.923185Z",
     "shell.execute_reply": "2025-08-19T18:51:16.922129Z"
    },
    "papermill": {
     "duration": 0.044755,
     "end_time": "2025-08-19T18:51:16.925040",
     "exception": false,
     "start_time": "2025-08-19T18:51:16.880285",
     "status": "completed"
    },
    "tags": []
   },
   "outputs": [
    {
     "data": {
      "text/html": [
       "<div>\n",
       "<style scoped>\n",
       "    .dataframe tbody tr th:only-of-type {\n",
       "        vertical-align: middle;\n",
       "    }\n",
       "\n",
       "    .dataframe tbody tr th {\n",
       "        vertical-align: top;\n",
       "    }\n",
       "\n",
       "    .dataframe thead th {\n",
       "        text-align: right;\n",
       "    }\n",
       "</style>\n",
       "<table border=\"1\" class=\"dataframe\">\n",
       "  <thead>\n",
       "    <tr style=\"text-align: right;\">\n",
       "      <th></th>\n",
       "      <th>universe_id</th>\n",
       "      <th>universe_training_year</th>\n",
       "      <th>universe_training_size</th>\n",
       "      <th>universe_scale</th>\n",
       "      <th>universe_model</th>\n",
       "      <th>universe_exclude_features</th>\n",
       "      <th>universe_exclude_subgroups</th>\n",
       "      <th>q_hat</th>\n",
       "      <th>coverage</th>\n",
       "      <th>avg_size</th>\n",
       "      <th>cov_frau1</th>\n",
       "      <th>cov_nongerman</th>\n",
       "      <th>cov_nongerman_male</th>\n",
       "      <th>cov_nongerman_female</th>\n",
       "    </tr>\n",
       "  </thead>\n",
       "  <tbody>\n",
       "    <tr>\n",
       "      <th>0</th>\n",
       "      <td>de1c4049fb979611d84cc5e4ec10a00e</td>\n",
       "      <td>2014</td>\n",
       "      <td>1k</td>\n",
       "      <td>scale</td>\n",
       "      <td>gbm</td>\n",
       "      <td>none</td>\n",
       "      <td>keep-all</td>\n",
       "      <td>0.741834</td>\n",
       "      <td>0.910244</td>\n",
       "      <td>1.156493</td>\n",
       "      <td>0.907157</td>\n",
       "      <td>0.907259</td>\n",
       "      <td>0.925245</td>\n",
       "      <td>0.877496</td>\n",
       "    </tr>\n",
       "  </tbody>\n",
       "</table>\n",
       "</div>"
      ],
      "text/plain": [
       "                        universe_id universe_training_year  \\\n",
       "0  de1c4049fb979611d84cc5e4ec10a00e                   2014   \n",
       "\n",
       "  universe_training_size universe_scale universe_model  \\\n",
       "0                     1k          scale            gbm   \n",
       "\n",
       "  universe_exclude_features universe_exclude_subgroups     q_hat  coverage  \\\n",
       "0                      none                   keep-all  0.741834  0.910244   \n",
       "\n",
       "   avg_size  cov_frau1  cov_nongerman  cov_nongerman_male  \\\n",
       "0  1.156493   0.907157       0.907259            0.925245   \n",
       "\n",
       "   cov_nongerman_female  \n",
       "0              0.877496  "
      ]
     },
     "execution_count": 56,
     "metadata": {},
     "output_type": "execute_result"
    }
   ],
   "source": [
    "cp_metrics_df"
   ]
  },
  {
   "cell_type": "markdown",
   "id": "3fc519cc",
   "metadata": {
    "papermill": {
     "duration": 0.012793,
     "end_time": "2025-08-19T18:51:16.961298",
     "exception": false,
     "start_time": "2025-08-19T18:51:16.948505",
     "status": "completed"
    },
    "tags": []
   },
   "source": [
    "# (Fairness) Metrics"
   ]
  },
  {
   "cell_type": "code",
   "execution_count": 57,
   "id": "a2e5e155",
   "metadata": {
    "execution": {
     "iopub.execute_input": "2025-08-19T18:51:16.989701Z",
     "iopub.status.busy": "2025-08-19T18:51:16.988369Z",
     "iopub.status.idle": "2025-08-19T18:51:17.023557Z",
     "shell.execute_reply": "2025-08-19T18:51:17.022217Z"
    },
    "papermill": {
     "duration": 0.053184,
     "end_time": "2025-08-19T18:51:17.026189",
     "exception": false,
     "start_time": "2025-08-19T18:51:16.973005",
     "status": "completed"
    },
    "tags": []
   },
   "outputs": [],
   "source": [
    "colname_to_bin = \"maxdeutsch1\"\n",
    "majority_value = org_train[colname_to_bin].mode()[0]\n",
    "\n",
    "org_test[\"majmin\"] = np.where(org_test[colname_to_bin] == majority_value, \"majority\", \"minority\")"
   ]
  },
  {
   "cell_type": "code",
   "execution_count": 58,
   "id": "17e3e4d5",
   "metadata": {
    "execution": {
     "iopub.execute_input": "2025-08-19T18:51:17.066277Z",
     "iopub.status.busy": "2025-08-19T18:51:17.065578Z",
     "iopub.status.idle": "2025-08-19T18:51:18.877833Z",
     "shell.execute_reply": "2025-08-19T18:51:18.876484Z"
    },
    "papermill": {
     "duration": 1.828748,
     "end_time": "2025-08-19T18:51:18.879606",
     "exception": false,
     "start_time": "2025-08-19T18:51:17.050858",
     "status": "completed"
    },
    "tags": []
   },
   "outputs": [],
   "source": [
    "example_universe = universe.copy()\n",
    "example_universe[\"cutoff\"] = example_universe[\"cutoff\"][0]\n",
    "example_universe[\"eval_fairness_grouping\"] = example_universe[\"eval_fairness_grouping\"][0]\n",
    "fairness_dict, metric_frame = universe_analysis.compute_metrics(\n",
    "    example_universe,\n",
    "    y_pred_prob=probs_test,\n",
    "    y_test=y_true,\n",
    "    org_test=org_test,\n",
    ")"
   ]
  },
  {
   "cell_type": "markdown",
   "id": "1fb7a0e9",
   "metadata": {
    "papermill": {
     "duration": 0.012602,
     "end_time": "2025-08-19T18:51:18.906743",
     "exception": false,
     "start_time": "2025-08-19T18:51:18.894141",
     "status": "completed"
    },
    "tags": []
   },
   "source": [
    "# Overall"
   ]
  },
  {
   "cell_type": "markdown",
   "id": "be1784b1",
   "metadata": {
    "papermill": {
     "duration": 0.012154,
     "end_time": "2025-08-19T18:51:18.931209",
     "exception": false,
     "start_time": "2025-08-19T18:51:18.919055",
     "status": "completed"
    },
    "tags": []
   },
   "source": [
    "Main fairness target: Equalized Odds. Seems to be a better fit than equal opportunity, since we're not only interested in Y = 1. Seems to be a better fit than demographic parity, since we also care about accuracy, not just equal distribution of preds.\n",
    "\n",
    "Pick column for computation of fairness metrics\n",
    "\n",
    "Performance\n",
    "Overall performance measures, most interesting in relation to the measures split by group below"
   ]
  },
  {
   "cell_type": "code",
   "execution_count": 59,
   "id": "b7672bee",
   "metadata": {
    "execution": {
     "iopub.execute_input": "2025-08-19T18:51:18.960671Z",
     "iopub.status.busy": "2025-08-19T18:51:18.959388Z",
     "iopub.status.idle": "2025-08-19T18:51:18.975128Z",
     "shell.execute_reply": "2025-08-19T18:51:18.973875Z"
    },
    "papermill": {
     "duration": 0.032843,
     "end_time": "2025-08-19T18:51:18.976573",
     "exception": false,
     "start_time": "2025-08-19T18:51:18.943730",
     "status": "completed"
    },
    "tags": []
   },
   "outputs": [
    {
     "data": {
      "text/plain": [
       "accuracy                   0.221792\n",
       "balanced accuracy          0.542854\n",
       "f1                         0.243195\n",
       "precision                  0.138929\n",
       "false positive rate        0.889005\n",
       "false negative rate        0.025287\n",
       "selection rate             0.900000\n",
       "count                  89710.000000\n",
       "dtype: float64"
      ]
     },
     "execution_count": 59,
     "metadata": {},
     "output_type": "execute_result"
    }
   ],
   "source": [
    "metric_frame.overall"
   ]
  },
  {
   "cell_type": "markdown",
   "id": "d93333c9",
   "metadata": {
    "papermill": {
     "duration": 0.012487,
     "end_time": "2025-08-19T18:51:19.002114",
     "exception": false,
     "start_time": "2025-08-19T18:51:18.989627",
     "status": "completed"
    },
    "tags": []
   },
   "source": [
    "By Group"
   ]
  },
  {
   "cell_type": "code",
   "execution_count": 60,
   "id": "52256966",
   "metadata": {
    "execution": {
     "iopub.execute_input": "2025-08-19T18:51:19.031672Z",
     "iopub.status.busy": "2025-08-19T18:51:19.031235Z",
     "iopub.status.idle": "2025-08-19T18:51:19.054598Z",
     "shell.execute_reply": "2025-08-19T18:51:19.052744Z"
    },
    "papermill": {
     "duration": 0.040656,
     "end_time": "2025-08-19T18:51:19.056932",
     "exception": false,
     "start_time": "2025-08-19T18:51:19.016276",
     "status": "completed"
    },
    "tags": []
   },
   "outputs": [
    {
     "data": {
      "text/html": [
       "<div>\n",
       "<style scoped>\n",
       "    .dataframe tbody tr th:only-of-type {\n",
       "        vertical-align: middle;\n",
       "    }\n",
       "\n",
       "    .dataframe tbody tr th {\n",
       "        vertical-align: top;\n",
       "    }\n",
       "\n",
       "    .dataframe thead th {\n",
       "        text-align: right;\n",
       "    }\n",
       "</style>\n",
       "<table border=\"1\" class=\"dataframe\">\n",
       "  <thead>\n",
       "    <tr style=\"text-align: right;\">\n",
       "      <th></th>\n",
       "      <th>accuracy</th>\n",
       "      <th>balanced accuracy</th>\n",
       "      <th>f1</th>\n",
       "      <th>precision</th>\n",
       "      <th>false positive rate</th>\n",
       "      <th>false negative rate</th>\n",
       "      <th>selection rate</th>\n",
       "      <th>count</th>\n",
       "    </tr>\n",
       "    <tr>\n",
       "      <th>majmin</th>\n",
       "      <th></th>\n",
       "      <th></th>\n",
       "      <th></th>\n",
       "      <th></th>\n",
       "      <th></th>\n",
       "      <th></th>\n",
       "      <th></th>\n",
       "      <th></th>\n",
       "    </tr>\n",
       "  </thead>\n",
       "  <tbody>\n",
       "    <tr>\n",
       "      <th>majority</th>\n",
       "      <td>0.243386</td>\n",
       "      <td>0.551479</td>\n",
       "      <td>0.253115</td>\n",
       "      <td>0.145542</td>\n",
       "      <td>0.867283</td>\n",
       "      <td>0.029759</td>\n",
       "      <td>0.880888</td>\n",
       "      <td>69170.0</td>\n",
       "    </tr>\n",
       "    <tr>\n",
       "      <th>minority</th>\n",
       "      <td>0.149075</td>\n",
       "      <td>0.515606</td>\n",
       "      <td>0.211851</td>\n",
       "      <td>0.118588</td>\n",
       "      <td>0.960764</td>\n",
       "      <td>0.008024</td>\n",
       "      <td>0.964362</td>\n",
       "      <td>20540.0</td>\n",
       "    </tr>\n",
       "  </tbody>\n",
       "</table>\n",
       "</div>"
      ],
      "text/plain": [
       "          accuracy  balanced accuracy        f1  precision  \\\n",
       "majmin                                                       \n",
       "majority  0.243386           0.551479  0.253115   0.145542   \n",
       "minority  0.149075           0.515606  0.211851   0.118588   \n",
       "\n",
       "          false positive rate  false negative rate  selection rate    count  \n",
       "majmin                                                                       \n",
       "majority             0.867283             0.029759        0.880888  69170.0  \n",
       "minority             0.960764             0.008024        0.964362  20540.0  "
      ]
     },
     "execution_count": 60,
     "metadata": {},
     "output_type": "execute_result"
    }
   ],
   "source": [
    "metric_frame.by_group"
   ]
  },
  {
   "cell_type": "code",
   "execution_count": 61,
   "id": "6e6c20ae",
   "metadata": {
    "execution": {
     "iopub.execute_input": "2025-08-19T18:51:19.089227Z",
     "iopub.status.busy": "2025-08-19T18:51:19.087968Z",
     "iopub.status.idle": "2025-08-19T18:51:21.127109Z",
     "shell.execute_reply": "2025-08-19T18:51:21.126120Z"
    },
    "papermill": {
     "duration": 2.055231,
     "end_time": "2025-08-19T18:51:21.128564",
     "exception": false,
     "start_time": "2025-08-19T18:51:19.073333",
     "status": "completed"
    },
    "tags": []
   },
   "outputs": [
    {
     "data": {
      "text/plain": [
       "array([[<Axes: title={'center': 'accuracy'}, xlabel='majmin'>,\n",
       "        <Axes: title={'center': 'balanced accuracy'}, xlabel='majmin'>,\n",
       "        <Axes: title={'center': 'f1'}, xlabel='majmin'>],\n",
       "       [<Axes: title={'center': 'precision'}, xlabel='majmin'>,\n",
       "        <Axes: title={'center': 'false positive rate'}, xlabel='majmin'>,\n",
       "        <Axes: title={'center': 'false negative rate'}, xlabel='majmin'>],\n",
       "       [<Axes: title={'center': 'selection rate'}, xlabel='majmin'>,\n",
       "        <Axes: title={'center': 'count'}, xlabel='majmin'>,\n",
       "        <Axes: xlabel='majmin'>]], dtype=object)"
      ]
     },
     "execution_count": 61,
     "metadata": {},
     "output_type": "execute_result"
    },
    {
     "data": {
      "image/png": "[encoded data removed]",
      "text/plain": [
       "<Figure size 1200x800 with 9 Axes>"
      ]
     },
     "metadata": {},
     "output_type": "display_data"
    }
   ],
   "source": [
    "# In a graphic\n",
    "metric_frame.by_group.plot.bar(\n",
    "    subplots=True,\n",
    "    layout=[3, 3],\n",
    "    legend=False,\n",
    "    figsize=[12, 8],\n",
    "    title=\"Show all metrics\",\n",
    ")"
   ]
  },
  {
   "cell_type": "markdown",
   "id": "b2e433ae",
   "metadata": {
    "papermill": {
     "duration": 0.014332,
     "end_time": "2025-08-19T18:51:21.171069",
     "exception": false,
     "start_time": "2025-08-19T18:51:21.156737",
     "status": "completed"
    },
    "tags": []
   },
   "source": [
    "# Final Output"
   ]
  },
  {
   "cell_type": "code",
   "execution_count": 62,
   "id": "3871301e",
   "metadata": {
    "execution": {
     "iopub.execute_input": "2025-08-19T18:51:21.207173Z",
     "iopub.status.busy": "2025-08-19T18:51:21.199864Z",
     "iopub.status.idle": "2025-08-19T18:51:21.226472Z",
     "shell.execute_reply": "2025-08-19T18:51:21.225064Z"
    },
    "papermill": {
     "duration": 0.043317,
     "end_time": "2025-08-19T18:51:21.228054",
     "exception": false,
     "start_time": "2025-08-19T18:51:21.184737",
     "status": "completed"
    },
    "tags": []
   },
   "outputs": [
    {
     "data": {
      "text/plain": [
       "4"
      ]
     },
     "execution_count": 62,
     "metadata": {},
     "output_type": "execute_result"
    }
   ],
   "source": [
    "sub_universes = universe_analysis.generate_sub_universes()\n",
    "len(sub_universes)"
   ]
  },
  {
   "cell_type": "code",
   "execution_count": 63,
   "id": "d9cfdaca",
   "metadata": {
    "execution": {
     "iopub.execute_input": "2025-08-19T18:51:21.261481Z",
     "iopub.status.busy": "2025-08-19T18:51:21.260227Z",
     "iopub.status.idle": "2025-08-19T18:51:21.269635Z",
     "shell.execute_reply": "2025-08-19T18:51:21.268350Z"
    },
    "papermill": {
     "duration": 0.026367,
     "end_time": "2025-08-19T18:51:21.271161",
     "exception": false,
     "start_time": "2025-08-19T18:51:21.244794",
     "status": "completed"
    },
    "tags": []
   },
   "outputs": [],
   "source": [
    "def filter_sub_universe_data(sub_universe, org_test):\n",
    "    # Keep all rows — no filtering\n",
    "    keep_rows_mask = np.ones(org_test.shape[0], dtype=bool)\n",
    "\n",
    "    print(f\"[INFO] Keeping all rows: {keep_rows_mask.sum()} rows retained.\")\n",
    "    return keep_rows_mask"
   ]
  },
  {
   "cell_type": "code",
   "execution_count": 64,
   "id": "2bc31ac1",
   "metadata": {
    "execution": {
     "iopub.execute_input": "2025-08-19T18:51:21.303820Z",
     "iopub.status.busy": "2025-08-19T18:51:21.303182Z",
     "iopub.status.idle": "2025-08-19T18:51:28.049769Z",
     "shell.execute_reply": "2025-08-19T18:51:28.048781Z"
    },
    "papermill": {
     "duration": 6.762729,
     "end_time": "2025-08-19T18:51:28.051127",
     "exception": false,
     "start_time": "2025-08-19T18:51:21.288398",
     "status": "completed"
    },
    "tags": []
   },
   "outputs": [
    {
     "name": "stdout",
     "output_type": "stream",
     "text": [
      "Stopping execution_time clock.\n",
      "[INFO] Keeping all rows: 89710 rows retained.\n"
     ]
    },
    {
     "name": "stdout",
     "output_type": "stream",
     "text": [
      "[INFO] Keeping all rows: 89710 rows retained.\n"
     ]
    },
    {
     "name": "stdout",
     "output_type": "stream",
     "text": [
      "[INFO] Keeping all rows: 89710 rows retained.\n"
     ]
    },
    {
     "name": "stdout",
     "output_type": "stream",
     "text": [
      "[INFO] Keeping all rows: 89710 rows retained.\n"
     ]
    },
    {
     "data": {
      "text/html": [
       "<div>\n",
       "<style scoped>\n",
       "    .dataframe tbody tr th:only-of-type {\n",
       "        vertical-align: middle;\n",
       "    }\n",
       "\n",
       "    .dataframe tbody tr th {\n",
       "        vertical-align: top;\n",
       "    }\n",
       "\n",
       "    .dataframe thead th {\n",
       "        text-align: right;\n",
       "    }\n",
       "</style>\n",
       "<table border=\"1\" class=\"dataframe\">\n",
       "  <thead>\n",
       "    <tr style=\"text-align: right;\">\n",
       "      <th></th>\n",
       "      <th>run_no</th>\n",
       "      <th>universe_id</th>\n",
       "      <th>universe_settings</th>\n",
       "      <th>execution_time</th>\n",
       "      <th>test_size_n</th>\n",
       "      <th>test_size_frac</th>\n",
       "      <th>fair_main_equalized_odds_difference</th>\n",
       "      <th>fair_main_equalized_odds_ratio</th>\n",
       "      <th>fair_main_demographic_parity_difference</th>\n",
       "      <th>fair_main_demographic_parity_ratio</th>\n",
       "      <th>...</th>\n",
       "      <th>perf_grp_precision_0</th>\n",
       "      <th>perf_grp_precision_1</th>\n",
       "      <th>perf_grp_false positive rate_0</th>\n",
       "      <th>perf_grp_false positive rate_1</th>\n",
       "      <th>perf_grp_false negative rate_0</th>\n",
       "      <th>perf_grp_false negative rate_1</th>\n",
       "      <th>perf_grp_selection rate_0</th>\n",
       "      <th>perf_grp_selection rate_1</th>\n",
       "      <th>perf_grp_count_0</th>\n",
       "      <th>perf_grp_count_1</th>\n",
       "    </tr>\n",
       "  </thead>\n",
       "  <tbody>\n",
       "    <tr>\n",
       "      <th>0</th>\n",
       "      <td>3</td>\n",
       "      <td>de1c4049fb979611d84cc5e4ec10a00e</td>\n",
       "      <td>{\"cutoff\": \"quantile_0.1\", \"eval_fairness_grou...</td>\n",
       "      <td>24.036609</td>\n",
       "      <td>89710</td>\n",
       "      <td>1.0</td>\n",
       "      <td>0.093481</td>\n",
       "      <td>0.902702</td>\n",
       "      <td>0.083475</td>\n",
       "      <td>0.913441</td>\n",
       "      <td>...</td>\n",
       "      <td>NaN</td>\n",
       "      <td>NaN</td>\n",
       "      <td>NaN</td>\n",
       "      <td>NaN</td>\n",
       "      <td>NaN</td>\n",
       "      <td>NaN</td>\n",
       "      <td>NaN</td>\n",
       "      <td>NaN</td>\n",
       "      <td>NaN</td>\n",
       "      <td>NaN</td>\n",
       "    </tr>\n",
       "    <tr>\n",
       "      <th>0</th>\n",
       "      <td>3</td>\n",
       "      <td>de1c4049fb979611d84cc5e4ec10a00e</td>\n",
       "      <td>{\"cutoff\": \"quantile_0.1\", \"eval_fairness_grou...</td>\n",
       "      <td>24.036609</td>\n",
       "      <td>89710</td>\n",
       "      <td>1.0</td>\n",
       "      <td>0.093481</td>\n",
       "      <td>0.902702</td>\n",
       "      <td>0.083475</td>\n",
       "      <td>0.913441</td>\n",
       "      <td>...</td>\n",
       "      <td>0.118588</td>\n",
       "      <td>0.145542</td>\n",
       "      <td>0.960764</td>\n",
       "      <td>0.867283</td>\n",
       "      <td>0.008024</td>\n",
       "      <td>0.029759</td>\n",
       "      <td>0.964362</td>\n",
       "      <td>0.880888</td>\n",
       "      <td>20540.0</td>\n",
       "      <td>69170.0</td>\n",
       "    </tr>\n",
       "    <tr>\n",
       "      <th>0</th>\n",
       "      <td>3</td>\n",
       "      <td>de1c4049fb979611d84cc5e4ec10a00e</td>\n",
       "      <td>{\"cutoff\": \"quantile_0.25\", \"eval_fairness_gro...</td>\n",
       "      <td>24.036609</td>\n",
       "      <td>89710</td>\n",
       "      <td>1.0</td>\n",
       "      <td>0.114462</td>\n",
       "      <td>0.859250</td>\n",
       "      <td>0.099141</td>\n",
       "      <td>0.880038</td>\n",
       "      <td>...</td>\n",
       "      <td>NaN</td>\n",
       "      <td>NaN</td>\n",
       "      <td>NaN</td>\n",
       "      <td>NaN</td>\n",
       "      <td>NaN</td>\n",
       "      <td>NaN</td>\n",
       "      <td>NaN</td>\n",
       "      <td>NaN</td>\n",
       "      <td>NaN</td>\n",
       "      <td>NaN</td>\n",
       "    </tr>\n",
       "    <tr>\n",
       "      <th>0</th>\n",
       "      <td>3</td>\n",
       "      <td>de1c4049fb979611d84cc5e4ec10a00e</td>\n",
       "      <td>{\"cutoff\": \"quantile_0.25\", \"eval_fairness_gro...</td>\n",
       "      <td>24.036609</td>\n",
       "      <td>89710</td>\n",
       "      <td>1.0</td>\n",
       "      <td>0.114462</td>\n",
       "      <td>0.859250</td>\n",
       "      <td>0.099141</td>\n",
       "      <td>0.880038</td>\n",
       "      <td>...</td>\n",
       "      <td>0.129426</td>\n",
       "      <td>0.166180</td>\n",
       "      <td>0.813229</td>\n",
       "      <td>0.698767</td>\n",
       "      <td>0.072213</td>\n",
       "      <td>0.085339</td>\n",
       "      <td>0.826436</td>\n",
       "      <td>0.727295</td>\n",
       "      <td>20540.0</td>\n",
       "      <td>69170.0</td>\n",
       "    </tr>\n",
       "  </tbody>\n",
       "</table>\n",
       "<p>4 rows × 50 columns</p>\n",
       "</div>"
      ],
      "text/plain": [
       "  run_no                       universe_id  \\\n",
       "0      3  de1c4049fb979611d84cc5e4ec10a00e   \n",
       "0      3  de1c4049fb979611d84cc5e4ec10a00e   \n",
       "0      3  de1c4049fb979611d84cc5e4ec10a00e   \n",
       "0      3  de1c4049fb979611d84cc5e4ec10a00e   \n",
       "\n",
       "                                   universe_settings  execution_time  \\\n",
       "0  {\"cutoff\": \"quantile_0.1\", \"eval_fairness_grou...       24.036609   \n",
       "0  {\"cutoff\": \"quantile_0.1\", \"eval_fairness_grou...       24.036609   \n",
       "0  {\"cutoff\": \"quantile_0.25\", \"eval_fairness_gro...       24.036609   \n",
       "0  {\"cutoff\": \"quantile_0.25\", \"eval_fairness_gro...       24.036609   \n",
       "\n",
       "   test_size_n  test_size_frac  fair_main_equalized_odds_difference  \\\n",
       "0        89710             1.0                             0.093481   \n",
       "0        89710             1.0                             0.093481   \n",
       "0        89710             1.0                             0.114462   \n",
       "0        89710             1.0                             0.114462   \n",
       "\n",
       "   fair_main_equalized_odds_ratio  fair_main_demographic_parity_difference  \\\n",
       "0                        0.902702                                 0.083475   \n",
       "0                        0.902702                                 0.083475   \n",
       "0                        0.859250                                 0.099141   \n",
       "0                        0.859250                                 0.099141   \n",
       "\n",
       "   fair_main_demographic_parity_ratio  ...  perf_grp_precision_0  \\\n",
       "0                            0.913441  ...                   NaN   \n",
       "0                            0.913441  ...              0.118588   \n",
       "0                            0.880038  ...                   NaN   \n",
       "0                            0.880038  ...              0.129426   \n",
       "\n",
       "   perf_grp_precision_1  perf_grp_false positive rate_0  \\\n",
       "0                   NaN                             NaN   \n",
       "0              0.145542                        0.960764   \n",
       "0                   NaN                             NaN   \n",
       "0              0.166180                        0.813229   \n",
       "\n",
       "   perf_grp_false positive rate_1  perf_grp_false negative rate_0  \\\n",
       "0                             NaN                             NaN   \n",
       "0                        0.867283                        0.008024   \n",
       "0                             NaN                             NaN   \n",
       "0                        0.698767                        0.072213   \n",
       "\n",
       "   perf_grp_false negative rate_1  perf_grp_selection rate_0  \\\n",
       "0                             NaN                        NaN   \n",
       "0                        0.029759                   0.964362   \n",
       "0                             NaN                        NaN   \n",
       "0                        0.085339                   0.826436   \n",
       "\n",
       "   perf_grp_selection rate_1  perf_grp_count_0  perf_grp_count_1  \n",
       "0                        NaN               NaN               NaN  \n",
       "0                   0.880888           20540.0           69170.0  \n",
       "0                        NaN               NaN               NaN  \n",
       "0                   0.727295           20540.0           69170.0  \n",
       "\n",
       "[4 rows x 50 columns]"
      ]
     },
     "execution_count": 64,
     "metadata": {},
     "output_type": "execute_result"
    }
   ],
   "source": [
    "final_output = universe_analysis.generate_final_output(\n",
    "    y_pred_prob=probs_test,\n",
    "    y_test=y_true,\n",
    "    org_test=org_test,\n",
    "    filter_data=filter_sub_universe_data,\n",
    "    cp_metrics_df=cp_metrics_df,\n",
    "    save=True,\n",
    ")\n",
    "final_output"
   ]
  },
  {
   "cell_type": "code",
   "execution_count": null,
   "id": "8b80a1ff",
   "metadata": {
    "papermill": {
     "duration": 0.022684,
     "end_time": "2025-08-19T18:51:28.105265",
     "exception": false,
     "start_time": "2025-08-19T18:51:28.082581",
     "status": "completed"
    },
    "tags": []
   },
   "outputs": [],
   "source": []
  },
  {
   "cell_type": "code",
   "execution_count": null,
   "id": "275c9fad",
   "metadata": {
    "papermill": {
     "duration": 0.014755,
     "end_time": "2025-08-19T18:51:28.150034",
     "exception": false,
     "start_time": "2025-08-19T18:51:28.135279",
     "status": "completed"
    },
    "tags": []
   },
   "outputs": [],
   "source": []
  }
 ],
 "metadata": {
  "celltoolbar": "Tags",
  "kernelspec": {
   "display_name": "Python (CMA Fairness)",
   "language": "python",
   "name": "cma_fair_env"
  },
  "language_info": {
   "codemirror_mode": {
    "name": "ipython",
    "version": 3
   },
   "file_extension": ".py",
   "mimetype": "text/x-python",
   "name": "python",
   "nbconvert_exporter": "python",
   "pygments_lexer": "ipython3",
   "version": "3.10.12"
  },
  "papermill": {
   "default_parameters": {},
   "duration": 34.444578,
   "end_time": "2025-08-19T18:51:28.986591",
   "environment_variables": {},
   "exception": null,
   "input_path": "universe_analysis.ipynb",
   "output_path": "output/runs/3/notebooks/m_3-de1c4049fb979611d84cc5e4ec10a00e.ipynb",
   "parameters": {
    "output_dir": "output",
    "run_no": "3",
    "seed": "2023",
    "universe": "{\"cutoff\": [\"quantile_0.1\", \"quantile_0.25\"], \"eval_fairness_grouping\": [\"majority-minority\", \"nationality-all\"], \"exclude_features\": \"none\", \"exclude_subgroups\": \"keep-all\", \"model\": \"gbm\", \"scale\": \"scale\", \"training_size\": \"1k\", \"training_year\": \"2014\"}",
    "universe_id": "de1c4049fb979611d84cc5e4ec10a00e"
   },
   "start_time": "2025-08-19T18:50:54.542013",
   "version": "2.6.0"
  }
 },
 "nbformat": 4,
 "nbformat_minor": 5
}