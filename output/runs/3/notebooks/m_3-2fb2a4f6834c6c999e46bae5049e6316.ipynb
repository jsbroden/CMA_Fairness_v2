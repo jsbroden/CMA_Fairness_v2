{
 "cells": [
  {
   "cell_type": "markdown",
   "id": "ef23dbb3",
   "metadata": {
    "papermill": {
     "duration": 0.009773,
     "end_time": "2025-08-19T18:16:14.906491",
     "exception": false,
     "start_time": "2025-08-19T18:16:14.896718",
     "status": "completed"
    },
    "tags": []
   },
   "source": [
    "# Setup"
   ]
  },
  {
   "cell_type": "code",
   "execution_count": 1,
   "id": "0bc8e7dc",
   "metadata": {
    "execution": {
     "iopub.execute_input": "2025-08-19T18:16:14.927998Z",
     "iopub.status.busy": "2025-08-19T18:16:14.926787Z",
     "iopub.status.idle": "2025-08-19T18:16:14.948928Z",
     "shell.execute_reply": "2025-08-19T18:16:14.947821Z"
    },
    "papermill": {
     "duration": 0.03503,
     "end_time": "2025-08-19T18:16:14.950746",
     "exception": false,
     "start_time": "2025-08-19T18:16:14.915716",
     "status": "completed"
    },
    "tags": []
   },
   "outputs": [
    {
     "name": "stdout",
     "output_type": "stream",
     "text": [
      "/dss/dsshome1/0C/ra93lal2/cma/CMA_Fairness_v2\n"
     ]
    },
    {
     "name": "stderr",
     "output_type": "stream",
     "text": [
      "/dss/dsshome1/0C/ra93lal2/.local/share/virtualenvs/CMA_Fairness_v2-3j10GkSs/lib/python3.10/site-packages/IPython/core/magics/osm.py:393: UserWarning: This is now an optional IPython functionality, using bookmarks requires you to install the `pickleshare` library.\n",
      "  bkms = self.shell.db.get('bookmarks', {})\n",
      "/dss/dsshome1/0C/ra93lal2/.local/share/virtualenvs/CMA_Fairness_v2-3j10GkSs/lib/python3.10/site-packages/IPython/core/magics/osm.py:417: UserWarning: This is now an optional IPython functionality, setting dhist requires you to install the `pickleshare` library.\n",
      "  self.shell.db['dhist'] = compress_dhist(dhist)[-100:]\n"
     ]
    }
   ],
   "source": [
    "%cd ~/cma/CMA_Fairness_v2"
   ]
  },
  {
   "cell_type": "markdown",
   "id": "9d235661",
   "metadata": {
    "papermill": {
     "duration": 0.010486,
     "end_time": "2025-08-19T18:16:14.977018",
     "exception": false,
     "start_time": "2025-08-19T18:16:14.966532",
     "status": "completed"
    },
    "tags": []
   },
   "source": [
    "The following cell holds the definition of our parameters, these values can be overriden by rendering the with e.g. the following command:\n",
    "\n",
    "papermill -p alpha 0.2 -p ratio 0.3 universe_analysis.ipynb output/test_run.ipynb"
   ]
  },
  {
   "cell_type": "code",
   "execution_count": 2,
   "id": "4a789d8e",
   "metadata": {
    "execution": {
     "iopub.execute_input": "2025-08-19T18:16:14.998848Z",
     "iopub.status.busy": "2025-08-19T18:16:14.997565Z",
     "iopub.status.idle": "2025-08-19T18:16:15.008078Z",
     "shell.execute_reply": "2025-08-19T18:16:15.006615Z"
    },
    "papermill": {
     "duration": 0.023834,
     "end_time": "2025-08-19T18:16:15.010010",
     "exception": false,
     "start_time": "2025-08-19T18:16:14.986176",
     "status": "completed"
    },
    "tags": []
   },
   "outputs": [
    {
     "name": "stdout",
     "output_type": "stream",
     "text": [
      "Current working directory: /dss/dsshome1/0C/ra93lal2/cma/CMA_Fairness_v2\n"
     ]
    }
   ],
   "source": [
    "import os\n",
    "print(\"Current working directory:\", os.getcwd())"
   ]
  },
  {
   "cell_type": "code",
   "execution_count": 3,
   "id": "4132aaed",
   "metadata": {
    "execution": {
     "iopub.execute_input": "2025-08-19T18:16:15.034257Z",
     "iopub.status.busy": "2025-08-19T18:16:15.033293Z",
     "iopub.status.idle": "2025-08-19T18:16:15.044722Z",
     "shell.execute_reply": "2025-08-19T18:16:15.042901Z"
    },
    "papermill": {
     "duration": 0.024101,
     "end_time": "2025-08-19T18:16:15.046397",
     "exception": false,
     "start_time": "2025-08-19T18:16:15.022296",
     "status": "completed"
    },
    "tags": [
     "parameters"
    ]
   },
   "outputs": [],
   "source": [
    "run_no = 0\n",
    "universe_id = \"test\"\n",
    "universe = {\n",
    "    \"training_size\": \"5k\", # \"25k\", \"5k\", \"1k\"\n",
    "    \"training_year\": \"2012_14\", # \"2014\", \"2012_14\", \"2010_14\"\n",
    "    \"scale\": \"scale\", # \"scale\", \"do-not-scale\",\n",
    "    \"model\": \"elasticnet\", # \"logreg\", \"penalized_logreg\", \"rf\", \"gbm\", \"elasticnet\"\n",
    "    \"cutoff\": [\"quantile_0.15\", \"quantile_0.30\"],\n",
    "    \"exclude_features\": \"age\", # \"none\", \"nationality\", \"sex\", \"nationality-sex\", \"age\"\n",
    "    \"exclude_subgroups\": \"drop-non-german\", # \"keep-all\", \"drop-non-german\"\n",
    "    \"eval_fairness_grouping\": [\"majority-minority\", \"nationality-all\"]\n",
    "}\n",
    "\n",
    "output_dir=\"./output\"\n",
    "seed=0"
   ]
  },
  {
   "cell_type": "code",
   "execution_count": 4,
   "id": "768c189b",
   "metadata": {
    "execution": {
     "iopub.execute_input": "2025-08-19T18:16:15.069590Z",
     "iopub.status.busy": "2025-08-19T18:16:15.068647Z",
     "iopub.status.idle": "2025-08-19T18:16:15.078561Z",
     "shell.execute_reply": "2025-08-19T18:16:15.076649Z"
    },
    "papermill": {
     "duration": 0.022694,
     "end_time": "2025-08-19T18:16:15.080405",
     "exception": false,
     "start_time": "2025-08-19T18:16:15.057711",
     "status": "completed"
    },
    "tags": [
     "injected-parameters"
    ]
   },
   "outputs": [],
   "source": [
    "# Parameters\n",
    "universe_id = \"2fb2a4f6834c6c999e46bae5049e6316\"\n",
    "run_no = \"3\"\n",
    "universe = \"{\\\"cutoff\\\": [\\\"quantile_0.1\\\", \\\"quantile_0.25\\\"], \\\"eval_fairness_grouping\\\": [\\\"majority-minority\\\", \\\"nationality-all\\\"], \\\"exclude_features\\\": \\\"age\\\", \\\"exclude_subgroups\\\": \\\"keep-all\\\", \\\"model\\\": \\\"gbm\\\", \\\"scale\\\": \\\"scale\\\", \\\"training_size\\\": \\\"25k\\\", \\\"training_year\\\": \\\"2010_14\\\"}\"\n",
    "output_dir = \"output\"\n",
    "seed = \"2023\"\n"
   ]
  },
  {
   "cell_type": "code",
   "execution_count": 5,
   "id": "a5d7941f",
   "metadata": {
    "execution": {
     "iopub.execute_input": "2025-08-19T18:16:15.108195Z",
     "iopub.status.busy": "2025-08-19T18:16:15.107184Z",
     "iopub.status.idle": "2025-08-19T18:16:15.116691Z",
     "shell.execute_reply": "2025-08-19T18:16:15.114797Z"
    },
    "papermill": {
     "duration": 0.021758,
     "end_time": "2025-08-19T18:16:15.118503",
     "exception": false,
     "start_time": "2025-08-19T18:16:15.096745",
     "status": "completed"
    },
    "tags": []
   },
   "outputs": [],
   "source": [
    "import json\n",
    "if isinstance(universe, str):\n",
    "    universe = json.loads(universe)"
   ]
  },
  {
   "cell_type": "code",
   "execution_count": 6,
   "id": "7076ccb1",
   "metadata": {
    "execution": {
     "iopub.execute_input": "2025-08-19T18:16:15.143085Z",
     "iopub.status.busy": "2025-08-19T18:16:15.141717Z",
     "iopub.status.idle": "2025-08-19T18:16:15.197645Z",
     "shell.execute_reply": "2025-08-19T18:16:15.197006Z"
    },
    "papermill": {
     "duration": 0.069864,
     "end_time": "2025-08-19T18:16:15.200162",
     "exception": false,
     "start_time": "2025-08-19T18:16:15.130298",
     "status": "completed"
    },
    "tags": []
   },
   "outputs": [],
   "source": [
    "# Auto-reload the custom package\n",
    "%load_ext autoreload\n",
    "%autoreload 1\n",
    "%aimport fairness_multiverse"
   ]
  },
  {
   "cell_type": "code",
   "execution_count": 7,
   "id": "94c8eb93",
   "metadata": {
    "execution": {
     "iopub.execute_input": "2025-08-19T18:16:15.236508Z",
     "iopub.status.busy": "2025-08-19T18:16:15.236064Z",
     "iopub.status.idle": "2025-08-19T18:16:16.833460Z",
     "shell.execute_reply": "2025-08-19T18:16:16.831097Z"
    },
    "papermill": {
     "duration": 1.614792,
     "end_time": "2025-08-19T18:16:16.837687",
     "exception": false,
     "start_time": "2025-08-19T18:16:15.222895",
     "status": "completed"
    },
    "tags": []
   },
   "outputs": [],
   "source": [
    "from fairness_multiverse.universe import UniverseAnalysis\n",
    "\n",
    "universe_analysis = UniverseAnalysis(\n",
    "    run_no = run_no,\n",
    "    universe_id = universe_id,\n",
    "    universe = universe,\n",
    "    output_dir=output_dir,\n",
    ")"
   ]
  },
  {
   "cell_type": "code",
   "execution_count": 8,
   "id": "2a6381cf",
   "metadata": {
    "execution": {
     "iopub.execute_input": "2025-08-19T18:16:16.873012Z",
     "iopub.status.busy": "2025-08-19T18:16:16.871518Z",
     "iopub.status.idle": "2025-08-19T18:16:16.885603Z",
     "shell.execute_reply": "2025-08-19T18:16:16.884001Z"
    },
    "papermill": {
     "duration": 0.029899,
     "end_time": "2025-08-19T18:16:16.887486",
     "exception": false,
     "start_time": "2025-08-19T18:16:16.857587",
     "status": "completed"
    },
    "tags": []
   },
   "outputs": [
    {
     "name": "stdout",
     "output_type": "stream",
     "text": [
      "Using Seed: 2023\n"
     ]
    }
   ],
   "source": [
    "import numpy as np\n",
    "parsed_seed = int(seed)\n",
    "np.random.seed(parsed_seed)\n",
    "print(f\"Using Seed: {parsed_seed}\")"
   ]
  },
  {
   "cell_type": "markdown",
   "id": "b6e958b4",
   "metadata": {
    "papermill": {
     "duration": 0.010141,
     "end_time": "2025-08-19T18:16:16.910314",
     "exception": false,
     "start_time": "2025-08-19T18:16:16.900173",
     "status": "completed"
    },
    "tags": []
   },
   "source": [
    "# Loading Data"
   ]
  },
  {
   "cell_type": "code",
   "execution_count": 9,
   "id": "98701482",
   "metadata": {
    "execution": {
     "iopub.execute_input": "2025-08-19T18:16:16.965665Z",
     "iopub.status.busy": "2025-08-19T18:16:16.964365Z",
     "iopub.status.idle": "2025-08-19T18:16:27.199176Z",
     "shell.execute_reply": "2025-08-19T18:16:27.198299Z"
    },
    "papermill": {
     "duration": 10.260649,
     "end_time": "2025-08-19T18:16:27.200357",
     "exception": false,
     "start_time": "2025-08-19T18:16:16.939708",
     "status": "completed"
    },
    "tags": []
   },
   "outputs": [
    {
     "name": "stdout",
     "output_type": "stream",
     "text": [
      "Loading SIAB data from cache: data/siab_cached.csv.gz\n"
     ]
    },
    {
     "name": "stdout",
     "output_type": "stream",
     "text": [
      "(643690, 164)\n"
     ]
    }
   ],
   "source": [
    "from pathlib import Path\n",
    "import pandas as pd\n",
    "\n",
    "# File paths\n",
    "raw_file = Path(\"data/raw/siab.csv\")\n",
    "cache_file = Path(\"data/siab_cached.csv.gz\")\n",
    "\n",
    "# Ensure cache directory exists\n",
    "cache_file.parent.mkdir(parents=True, exist_ok=True)\n",
    "\n",
    "# Load with simple caching\n",
    "if cache_file.exists():\n",
    "    print(f\"Loading SIAB data from cache: {cache_file}\")\n",
    "    siab = pd.read_csv(cache_file, compression='gzip')\n",
    "else:\n",
    "    print(f\"Cache not found. Reading raw SIAB data: {raw_file}\")\n",
    "    siab = pd.read_csv(raw_file)\n",
    "    siab.to_csv(cache_file, index=False, compression='gzip')\n",
    "    print(f\"Cached SIAB data to: {cache_file}\")\n",
    "\n",
    "print(siab.shape)"
   ]
  },
  {
   "cell_type": "code",
   "execution_count": 10,
   "id": "058d2abb",
   "metadata": {
    "execution": {
     "iopub.execute_input": "2025-08-19T18:16:27.225207Z",
     "iopub.status.busy": "2025-08-19T18:16:27.223992Z",
     "iopub.status.idle": "2025-08-19T18:16:27.448150Z",
     "shell.execute_reply": "2025-08-19T18:16:27.447350Z"
    },
    "papermill": {
     "duration": 0.237071,
     "end_time": "2025-08-19T18:16:27.449679",
     "exception": false,
     "start_time": "2025-08-19T18:16:27.212608",
     "status": "completed"
    },
    "tags": []
   },
   "outputs": [
    {
     "data": {
      "text/html": [
       "<div>\n",
       "<style scoped>\n",
       "    .dataframe tbody tr th:only-of-type {\n",
       "        vertical-align: middle;\n",
       "    }\n",
       "\n",
       "    .dataframe tbody tr th {\n",
       "        vertical-align: top;\n",
       "    }\n",
       "\n",
       "    .dataframe thead th {\n",
       "        text-align: right;\n",
       "    }\n",
       "</style>\n",
       "<table border=\"1\" class=\"dataframe\">\n",
       "  <thead>\n",
       "    <tr style=\"text-align: right;\">\n",
       "      <th></th>\n",
       "      <th>persnr</th>\n",
       "      <th>year</th>\n",
       "      <th>nrEntry</th>\n",
       "      <th>ltue</th>\n",
       "      <th>employed_before</th>\n",
       "      <th>receipt_leh_before</th>\n",
       "      <th>receipt_lhg_before</th>\n",
       "      <th>se_before</th>\n",
       "      <th>ASU_notue_seeking_before</th>\n",
       "      <th>ASU_other_before</th>\n",
       "      <th>...</th>\n",
       "      <th>minijob_tot_dur_byage</th>\n",
       "      <th>ft_tot_dur_byage</th>\n",
       "      <th>befrist_tot_dur_byage</th>\n",
       "      <th>leih_tot_dur_byage</th>\n",
       "      <th>LHG_tot_dur_byage</th>\n",
       "      <th>LEH_tot_dur_byage</th>\n",
       "      <th>almp_tot_dur_byage</th>\n",
       "      <th>almp_aw_tot_dur_byage</th>\n",
       "      <th>se_tot_dur_byage</th>\n",
       "      <th>seeking1_tot_dur_byage</th>\n",
       "    </tr>\n",
       "  </thead>\n",
       "  <tbody>\n",
       "    <tr>\n",
       "      <th>0</th>\n",
       "      <td>7</td>\n",
       "      <td>2015</td>\n",
       "      <td>1</td>\n",
       "      <td>0</td>\n",
       "      <td>1</td>\n",
       "      <td>0</td>\n",
       "      <td>0</td>\n",
       "      <td>0</td>\n",
       "      <td>1</td>\n",
       "      <td>0</td>\n",
       "      <td>...</td>\n",
       "      <td>0.000000</td>\n",
       "      <td>0.000000</td>\n",
       "      <td>15.043478</td>\n",
       "      <td>0.000000</td>\n",
       "      <td>0.000000</td>\n",
       "      <td>0.000000</td>\n",
       "      <td>0.000000</td>\n",
       "      <td>0.000000</td>\n",
       "      <td>0.000000</td>\n",
       "      <td>0.000000</td>\n",
       "    </tr>\n",
       "    <tr>\n",
       "      <th>1</th>\n",
       "      <td>18</td>\n",
       "      <td>2010</td>\n",
       "      <td>1</td>\n",
       "      <td>1</td>\n",
       "      <td>0</td>\n",
       "      <td>0</td>\n",
       "      <td>0</td>\n",
       "      <td>0</td>\n",
       "      <td>0</td>\n",
       "      <td>0</td>\n",
       "      <td>...</td>\n",
       "      <td>0.000000</td>\n",
       "      <td>0.000000</td>\n",
       "      <td>0.000000</td>\n",
       "      <td>0.000000</td>\n",
       "      <td>0.000000</td>\n",
       "      <td>0.000000</td>\n",
       "      <td>0.000000</td>\n",
       "      <td>0.000000</td>\n",
       "      <td>0.000000</td>\n",
       "      <td>0.000000</td>\n",
       "    </tr>\n",
       "    <tr>\n",
       "      <th>2</th>\n",
       "      <td>18</td>\n",
       "      <td>2011</td>\n",
       "      <td>2</td>\n",
       "      <td>0</td>\n",
       "      <td>1</td>\n",
       "      <td>0</td>\n",
       "      <td>1</td>\n",
       "      <td>0</td>\n",
       "      <td>1</td>\n",
       "      <td>0</td>\n",
       "      <td>...</td>\n",
       "      <td>2.714286</td>\n",
       "      <td>2.714286</td>\n",
       "      <td>0.000000</td>\n",
       "      <td>0.000000</td>\n",
       "      <td>10.775510</td>\n",
       "      <td>0.000000</td>\n",
       "      <td>8.367347</td>\n",
       "      <td>0.000000</td>\n",
       "      <td>0.000000</td>\n",
       "      <td>9.836735</td>\n",
       "    </tr>\n",
       "    <tr>\n",
       "      <th>3</th>\n",
       "      <td>18</td>\n",
       "      <td>2012</td>\n",
       "      <td>3</td>\n",
       "      <td>0</td>\n",
       "      <td>1</td>\n",
       "      <td>0</td>\n",
       "      <td>1</td>\n",
       "      <td>0</td>\n",
       "      <td>1</td>\n",
       "      <td>0</td>\n",
       "      <td>...</td>\n",
       "      <td>4.200000</td>\n",
       "      <td>4.200000</td>\n",
       "      <td>0.000000</td>\n",
       "      <td>0.000000</td>\n",
       "      <td>12.100000</td>\n",
       "      <td>0.000000</td>\n",
       "      <td>9.400000</td>\n",
       "      <td>0.000000</td>\n",
       "      <td>0.000000</td>\n",
       "      <td>9.960000</td>\n",
       "    </tr>\n",
       "    <tr>\n",
       "      <th>4</th>\n",
       "      <td>18</td>\n",
       "      <td>2012</td>\n",
       "      <td>4</td>\n",
       "      <td>0</td>\n",
       "      <td>1</td>\n",
       "      <td>0</td>\n",
       "      <td>1</td>\n",
       "      <td>0</td>\n",
       "      <td>1</td>\n",
       "      <td>0</td>\n",
       "      <td>...</td>\n",
       "      <td>5.460000</td>\n",
       "      <td>5.460000</td>\n",
       "      <td>0.000000</td>\n",
       "      <td>0.000000</td>\n",
       "      <td>13.360000</td>\n",
       "      <td>0.000000</td>\n",
       "      <td>10.320000</td>\n",
       "      <td>0.000000</td>\n",
       "      <td>0.000000</td>\n",
       "      <td>10.280000</td>\n",
       "    </tr>\n",
       "    <tr>\n",
       "      <th>...</th>\n",
       "      <td>...</td>\n",
       "      <td>...</td>\n",
       "      <td>...</td>\n",
       "      <td>...</td>\n",
       "      <td>...</td>\n",
       "      <td>...</td>\n",
       "      <td>...</td>\n",
       "      <td>...</td>\n",
       "      <td>...</td>\n",
       "      <td>...</td>\n",
       "      <td>...</td>\n",
       "      <td>...</td>\n",
       "      <td>...</td>\n",
       "      <td>...</td>\n",
       "      <td>...</td>\n",
       "      <td>...</td>\n",
       "      <td>...</td>\n",
       "      <td>...</td>\n",
       "      <td>...</td>\n",
       "      <td>...</td>\n",
       "      <td>...</td>\n",
       "    </tr>\n",
       "    <tr>\n",
       "      <th>643685</th>\n",
       "      <td>1827860</td>\n",
       "      <td>2013</td>\n",
       "      <td>1</td>\n",
       "      <td>0</td>\n",
       "      <td>0</td>\n",
       "      <td>0</td>\n",
       "      <td>1</td>\n",
       "      <td>0</td>\n",
       "      <td>0</td>\n",
       "      <td>1</td>\n",
       "      <td>...</td>\n",
       "      <td>0.000000</td>\n",
       "      <td>0.000000</td>\n",
       "      <td>0.000000</td>\n",
       "      <td>0.000000</td>\n",
       "      <td>0.612903</td>\n",
       "      <td>0.000000</td>\n",
       "      <td>0.000000</td>\n",
       "      <td>0.000000</td>\n",
       "      <td>0.000000</td>\n",
       "      <td>0.000000</td>\n",
       "    </tr>\n",
       "    <tr>\n",
       "      <th>643686</th>\n",
       "      <td>1827860</td>\n",
       "      <td>2015</td>\n",
       "      <td>2</td>\n",
       "      <td>1</td>\n",
       "      <td>0</td>\n",
       "      <td>0</td>\n",
       "      <td>1</td>\n",
       "      <td>0</td>\n",
       "      <td>1</td>\n",
       "      <td>0</td>\n",
       "      <td>...</td>\n",
       "      <td>0.000000</td>\n",
       "      <td>0.000000</td>\n",
       "      <td>0.212121</td>\n",
       "      <td>0.212121</td>\n",
       "      <td>17.363636</td>\n",
       "      <td>0.000000</td>\n",
       "      <td>8.909091</td>\n",
       "      <td>0.000000</td>\n",
       "      <td>0.000000</td>\n",
       "      <td>7.121212</td>\n",
       "    </tr>\n",
       "    <tr>\n",
       "      <th>643687</th>\n",
       "      <td>1827860</td>\n",
       "      <td>2016</td>\n",
       "      <td>3</td>\n",
       "      <td>1</td>\n",
       "      <td>0</td>\n",
       "      <td>0</td>\n",
       "      <td>1</td>\n",
       "      <td>1</td>\n",
       "      <td>0</td>\n",
       "      <td>1</td>\n",
       "      <td>...</td>\n",
       "      <td>0.000000</td>\n",
       "      <td>0.000000</td>\n",
       "      <td>0.294118</td>\n",
       "      <td>0.205882</td>\n",
       "      <td>34.705882</td>\n",
       "      <td>0.000000</td>\n",
       "      <td>10.352941</td>\n",
       "      <td>1.705882</td>\n",
       "      <td>1.705882</td>\n",
       "      <td>23.911765</td>\n",
       "    </tr>\n",
       "    <tr>\n",
       "      <th>643688</th>\n",
       "      <td>1827869</td>\n",
       "      <td>2013</td>\n",
       "      <td>1</td>\n",
       "      <td>1</td>\n",
       "      <td>1</td>\n",
       "      <td>0</td>\n",
       "      <td>0</td>\n",
       "      <td>0</td>\n",
       "      <td>1</td>\n",
       "      <td>0</td>\n",
       "      <td>...</td>\n",
       "      <td>0.000000</td>\n",
       "      <td>0.000000</td>\n",
       "      <td>0.000000</td>\n",
       "      <td>0.000000</td>\n",
       "      <td>0.000000</td>\n",
       "      <td>0.525424</td>\n",
       "      <td>0.000000</td>\n",
       "      <td>0.000000</td>\n",
       "      <td>0.000000</td>\n",
       "      <td>0.000000</td>\n",
       "    </tr>\n",
       "    <tr>\n",
       "      <th>643689</th>\n",
       "      <td>1827869</td>\n",
       "      <td>2014</td>\n",
       "      <td>2</td>\n",
       "      <td>0</td>\n",
       "      <td>0</td>\n",
       "      <td>1</td>\n",
       "      <td>0</td>\n",
       "      <td>0</td>\n",
       "      <td>1</td>\n",
       "      <td>0</td>\n",
       "      <td>...</td>\n",
       "      <td>0.000000</td>\n",
       "      <td>0.666667</td>\n",
       "      <td>0.666667</td>\n",
       "      <td>0.000000</td>\n",
       "      <td>0.000000</td>\n",
       "      <td>8.950000</td>\n",
       "      <td>1.033333</td>\n",
       "      <td>0.083333</td>\n",
       "      <td>0.083333</td>\n",
       "      <td>8.133333</td>\n",
       "    </tr>\n",
       "  </tbody>\n",
       "</table>\n",
       "<p>643690 rows × 164 columns</p>\n",
       "</div>"
      ],
      "text/plain": [
       "         persnr  year  nrEntry  ltue  employed_before  receipt_leh_before  \\\n",
       "0             7  2015        1     0                1                   0   \n",
       "1            18  2010        1     1                0                   0   \n",
       "2            18  2011        2     0                1                   0   \n",
       "3            18  2012        3     0                1                   0   \n",
       "4            18  2012        4     0                1                   0   \n",
       "...         ...   ...      ...   ...              ...                 ...   \n",
       "643685  1827860  2013        1     0                0                   0   \n",
       "643686  1827860  2015        2     1                0                   0   \n",
       "643687  1827860  2016        3     1                0                   0   \n",
       "643688  1827869  2013        1     1                1                   0   \n",
       "643689  1827869  2014        2     0                0                   1   \n",
       "\n",
       "        receipt_lhg_before  se_before  ASU_notue_seeking_before  \\\n",
       "0                        0          0                         1   \n",
       "1                        0          0                         0   \n",
       "2                        1          0                         1   \n",
       "3                        1          0                         1   \n",
       "4                        1          0                         1   \n",
       "...                    ...        ...                       ...   \n",
       "643685                   1          0                         0   \n",
       "643686                   1          0                         1   \n",
       "643687                   1          1                         0   \n",
       "643688                   0          0                         1   \n",
       "643689                   0          0                         1   \n",
       "\n",
       "        ASU_other_before  ...  minijob_tot_dur_byage  ft_tot_dur_byage  \\\n",
       "0                      0  ...               0.000000          0.000000   \n",
       "1                      0  ...               0.000000          0.000000   \n",
       "2                      0  ...               2.714286          2.714286   \n",
       "3                      0  ...               4.200000          4.200000   \n",
       "4                      0  ...               5.460000          5.460000   \n",
       "...                  ...  ...                    ...               ...   \n",
       "643685                 1  ...               0.000000          0.000000   \n",
       "643686                 0  ...               0.000000          0.000000   \n",
       "643687                 1  ...               0.000000          0.000000   \n",
       "643688                 0  ...               0.000000          0.000000   \n",
       "643689                 0  ...               0.000000          0.666667   \n",
       "\n",
       "        befrist_tot_dur_byage  leih_tot_dur_byage  LHG_tot_dur_byage  \\\n",
       "0                   15.043478            0.000000           0.000000   \n",
       "1                    0.000000            0.000000           0.000000   \n",
       "2                    0.000000            0.000000          10.775510   \n",
       "3                    0.000000            0.000000          12.100000   \n",
       "4                    0.000000            0.000000          13.360000   \n",
       "...                       ...                 ...                ...   \n",
       "643685               0.000000            0.000000           0.612903   \n",
       "643686               0.212121            0.212121          17.363636   \n",
       "643687               0.294118            0.205882          34.705882   \n",
       "643688               0.000000            0.000000           0.000000   \n",
       "643689               0.666667            0.000000           0.000000   \n",
       "\n",
       "        LEH_tot_dur_byage  almp_tot_dur_byage  almp_aw_tot_dur_byage  \\\n",
       "0                0.000000            0.000000               0.000000   \n",
       "1                0.000000            0.000000               0.000000   \n",
       "2                0.000000            8.367347               0.000000   \n",
       "3                0.000000            9.400000               0.000000   \n",
       "4                0.000000           10.320000               0.000000   \n",
       "...                   ...                 ...                    ...   \n",
       "643685           0.000000            0.000000               0.000000   \n",
       "643686           0.000000            8.909091               0.000000   \n",
       "643687           0.000000           10.352941               1.705882   \n",
       "643688           0.525424            0.000000               0.000000   \n",
       "643689           8.950000            1.033333               0.083333   \n",
       "\n",
       "        se_tot_dur_byage  seeking1_tot_dur_byage  \n",
       "0               0.000000                0.000000  \n",
       "1               0.000000                0.000000  \n",
       "2               0.000000                9.836735  \n",
       "3               0.000000                9.960000  \n",
       "4               0.000000               10.280000  \n",
       "...                  ...                     ...  \n",
       "643685          0.000000                0.000000  \n",
       "643686          0.000000                7.121212  \n",
       "643687          1.705882               23.911765  \n",
       "643688          0.000000                0.000000  \n",
       "643689          0.083333                8.133333  \n",
       "\n",
       "[643690 rows x 164 columns]"
      ]
     },
     "execution_count": 10,
     "metadata": {},
     "output_type": "execute_result"
    }
   ],
   "source": [
    "siab"
   ]
  },
  {
   "cell_type": "markdown",
   "id": "1f87e805",
   "metadata": {
    "papermill": {
     "duration": 0.009825,
     "end_time": "2025-08-19T18:16:27.471934",
     "exception": false,
     "start_time": "2025-08-19T18:16:27.462109",
     "status": "completed"
    },
    "tags": []
   },
   "source": [
    "# Splitting Data and Setting Training Data Size"
   ]
  },
  {
   "cell_type": "code",
   "execution_count": 11,
   "id": "910ae358",
   "metadata": {
    "execution": {
     "iopub.execute_input": "2025-08-19T18:16:27.492632Z",
     "iopub.status.busy": "2025-08-19T18:16:27.492306Z",
     "iopub.status.idle": "2025-08-19T18:16:28.642090Z",
     "shell.execute_reply": "2025-08-19T18:16:28.640758Z"
    },
    "papermill": {
     "duration": 1.162307,
     "end_time": "2025-08-19T18:16:28.643865",
     "exception": false,
     "start_time": "2025-08-19T18:16:27.481558",
     "status": "completed"
    },
    "tags": []
   },
   "outputs": [],
   "source": [
    "from fairness_multiverse.universe import sample_by_year_size\n",
    "\n",
    "siab_train = sample_by_year_size(siab,\n",
    "                               training_year=universe[\"training_year\"],\n",
    "                               training_size=universe[\"training_size\"])"
   ]
  },
  {
   "cell_type": "code",
   "execution_count": 12,
   "id": "919c8ff5",
   "metadata": {
    "execution": {
     "iopub.execute_input": "2025-08-19T18:16:28.685299Z",
     "iopub.status.busy": "2025-08-19T18:16:28.683716Z",
     "iopub.status.idle": "2025-08-19T18:16:28.698604Z",
     "shell.execute_reply": "2025-08-19T18:16:28.697568Z"
    },
    "papermill": {
     "duration": 0.033929,
     "end_time": "2025-08-19T18:16:28.700402",
     "exception": false,
     "start_time": "2025-08-19T18:16:28.666473",
     "status": "completed"
    },
    "tags": []
   },
   "outputs": [
    {
     "data": {
      "text/plain": [
       "(25000, 164)"
      ]
     },
     "execution_count": 12,
     "metadata": {},
     "output_type": "execute_result"
    }
   ],
   "source": [
    "siab_train.shape"
   ]
  },
  {
   "cell_type": "code",
   "execution_count": 13,
   "id": "feb13bf4",
   "metadata": {
    "execution": {
     "iopub.execute_input": "2025-08-19T18:16:28.732225Z",
     "iopub.status.busy": "2025-08-19T18:16:28.731189Z",
     "iopub.status.idle": "2025-08-19T18:16:28.752331Z",
     "shell.execute_reply": "2025-08-19T18:16:28.751013Z"
    },
    "papermill": {
     "duration": 0.03678,
     "end_time": "2025-08-19T18:16:28.755342",
     "exception": false,
     "start_time": "2025-08-19T18:16:28.718562",
     "status": "completed"
    },
    "tags": []
   },
   "outputs": [
    {
     "data": {
      "text/plain": [
       "year\n",
       "2010    5000\n",
       "2011    5000\n",
       "2012    5000\n",
       "2013    5000\n",
       "2014    5000\n",
       "dtype: int64"
      ]
     },
     "metadata": {},
     "output_type": "display_data"
    }
   ],
   "source": [
    "display(siab_train.groupby(\"year\").size())"
   ]
  },
  {
   "cell_type": "code",
   "execution_count": 14,
   "id": "0997782f",
   "metadata": {
    "execution": {
     "iopub.execute_input": "2025-08-19T18:16:28.781458Z",
     "iopub.status.busy": "2025-08-19T18:16:28.780335Z",
     "iopub.status.idle": "2025-08-19T18:16:29.099640Z",
     "shell.execute_reply": "2025-08-19T18:16:29.098945Z"
    },
    "papermill": {
     "duration": 0.334143,
     "end_time": "2025-08-19T18:16:29.102412",
     "exception": false,
     "start_time": "2025-08-19T18:16:28.768269",
     "status": "completed"
    },
    "tags": []
   },
   "outputs": [],
   "source": [
    "#siab_train = siab_s[siab_s.year < 2015]\n",
    "siab_calib = siab[siab.year == 2015]\n",
    "siab_test = siab[siab.year == 2016]"
   ]
  },
  {
   "cell_type": "code",
   "execution_count": 15,
   "id": "2c1e4012",
   "metadata": {
    "execution": {
     "iopub.execute_input": "2025-08-19T18:16:29.142675Z",
     "iopub.status.busy": "2025-08-19T18:16:29.141563Z",
     "iopub.status.idle": "2025-08-19T18:16:29.151239Z",
     "shell.execute_reply": "2025-08-19T18:16:29.148912Z"
    },
    "papermill": {
     "duration": 0.02544,
     "end_time": "2025-08-19T18:16:29.152890",
     "exception": false,
     "start_time": "2025-08-19T18:16:29.127450",
     "status": "completed"
    },
    "tags": []
   },
   "outputs": [],
   "source": [
    "#siab_calib.shape"
   ]
  },
  {
   "cell_type": "code",
   "execution_count": 16,
   "id": "f66b54ca",
   "metadata": {
    "execution": {
     "iopub.execute_input": "2025-08-19T18:16:29.179852Z",
     "iopub.status.busy": "2025-08-19T18:16:29.178906Z",
     "iopub.status.idle": "2025-08-19T18:16:29.188239Z",
     "shell.execute_reply": "2025-08-19T18:16:29.185974Z"
    },
    "papermill": {
     "duration": 0.023469,
     "end_time": "2025-08-19T18:16:29.189977",
     "exception": false,
     "start_time": "2025-08-19T18:16:29.166508",
     "status": "completed"
    },
    "tags": []
   },
   "outputs": [],
   "source": [
    "#siab_test.shape"
   ]
  },
  {
   "cell_type": "code",
   "execution_count": 17,
   "id": "27e4384d",
   "metadata": {
    "execution": {
     "iopub.execute_input": "2025-08-19T18:16:29.216690Z",
     "iopub.status.busy": "2025-08-19T18:16:29.215530Z",
     "iopub.status.idle": "2025-08-19T18:16:29.236164Z",
     "shell.execute_reply": "2025-08-19T18:16:29.235004Z"
    },
    "papermill": {
     "duration": 0.034706,
     "end_time": "2025-08-19T18:16:29.237686",
     "exception": false,
     "start_time": "2025-08-19T18:16:29.202980",
     "status": "completed"
    },
    "tags": []
   },
   "outputs": [],
   "source": [
    "X_train = siab_train.iloc[:,4:164]\n",
    "y_train = siab_train.iloc[:, [3]]"
   ]
  },
  {
   "cell_type": "code",
   "execution_count": 18,
   "id": "08ee8389",
   "metadata": {
    "execution": {
     "iopub.execute_input": "2025-08-19T18:16:29.267824Z",
     "iopub.status.busy": "2025-08-19T18:16:29.266445Z",
     "iopub.status.idle": "2025-08-19T18:16:29.328004Z",
     "shell.execute_reply": "2025-08-19T18:16:29.327187Z"
    },
    "papermill": {
     "duration": 0.07702,
     "end_time": "2025-08-19T18:16:29.330752",
     "exception": false,
     "start_time": "2025-08-19T18:16:29.253732",
     "status": "completed"
    },
    "tags": []
   },
   "outputs": [],
   "source": [
    "X_calib = siab_calib.iloc[:,4:164]\n",
    "y_calib = siab_calib.iloc[:, [3]]"
   ]
  },
  {
   "cell_type": "code",
   "execution_count": 19,
   "id": "b7ff42e0",
   "metadata": {
    "execution": {
     "iopub.execute_input": "2025-08-19T18:16:29.367508Z",
     "iopub.status.busy": "2025-08-19T18:16:29.366498Z",
     "iopub.status.idle": "2025-08-19T18:16:29.442173Z",
     "shell.execute_reply": "2025-08-19T18:16:29.441394Z"
    },
    "papermill": {
     "duration": 0.091938,
     "end_time": "2025-08-19T18:16:29.444801",
     "exception": false,
     "start_time": "2025-08-19T18:16:29.352863",
     "status": "completed"
    },
    "tags": []
   },
   "outputs": [],
   "source": [
    "X_test = siab_test.iloc[:,4:164]\n",
    "y_true = siab_test.iloc[:, [3]]"
   ]
  },
  {
   "cell_type": "code",
   "execution_count": 20,
   "id": "0275101e",
   "metadata": {
    "execution": {
     "iopub.execute_input": "2025-08-19T18:16:29.484953Z",
     "iopub.status.busy": "2025-08-19T18:16:29.483975Z",
     "iopub.status.idle": "2025-08-19T18:16:29.613422Z",
     "shell.execute_reply": "2025-08-19T18:16:29.612751Z"
    },
    "papermill": {
     "duration": 0.144641,
     "end_time": "2025-08-19T18:16:29.614775",
     "exception": false,
     "start_time": "2025-08-19T18:16:29.470134",
     "status": "completed"
    },
    "tags": []
   },
   "outputs": [],
   "source": [
    "# Auxiliary data needed downstream in the pipeline\n",
    "\n",
    "org_train = X_train.copy()\n",
    "org_test = X_test.copy()\n",
    "org_calib = X_calib.copy()"
   ]
  },
  {
   "cell_type": "markdown",
   "id": "b461e618",
   "metadata": {
    "papermill": {
     "duration": 0.009894,
     "end_time": "2025-08-19T18:16:29.635117",
     "exception": false,
     "start_time": "2025-08-19T18:16:29.625223",
     "status": "completed"
    },
    "tags": []
   },
   "source": [
    "# Preprocessing Data"
   ]
  },
  {
   "cell_type": "code",
   "execution_count": 21,
   "id": "78e74c4b",
   "metadata": {
    "execution": {
     "iopub.execute_input": "2025-08-19T18:16:29.657243Z",
     "iopub.status.busy": "2025-08-19T18:16:29.656050Z",
     "iopub.status.idle": "2025-08-19T18:16:29.667004Z",
     "shell.execute_reply": "2025-08-19T18:16:29.664796Z"
    },
    "papermill": {
     "duration": 0.023922,
     "end_time": "2025-08-19T18:16:29.668861",
     "exception": false,
     "start_time": "2025-08-19T18:16:29.644939",
     "status": "completed"
    },
    "tags": []
   },
   "outputs": [],
   "source": [
    "# EXCLUDE PROTECTED FEATURES\n",
    "# --------------------------\n",
    "\n",
    "excluded_features = universe[\"exclude_features\"].split(\"-\")\n",
    "excluded_features_dictionary = {\n",
    "    \"nationality\": [\"maxdeutsch1\", \"maxdeutsch.Missing.\"],\n",
    "    \"sex\": [\"frau1\"],\n",
    "    \"age\": [\"age\"],\n",
    "}"
   ]
  },
  {
   "cell_type": "code",
   "execution_count": 22,
   "id": "f8e63555",
   "metadata": {
    "execution": {
     "iopub.execute_input": "2025-08-19T18:16:29.697781Z",
     "iopub.status.busy": "2025-08-19T18:16:29.696809Z",
     "iopub.status.idle": "2025-08-19T18:16:29.707628Z",
     "shell.execute_reply": "2025-08-19T18:16:29.705264Z"
    },
    "papermill": {
     "duration": 0.025375,
     "end_time": "2025-08-19T18:16:29.709313",
     "exception": false,
     "start_time": "2025-08-19T18:16:29.683938",
     "status": "completed"
    },
    "tags": []
   },
   "outputs": [],
   "source": [
    "excluded_features_columns = [\n",
    "    excluded_features_dictionary[f] for f in excluded_features if len(f) > 0 and f != \"none\"\n",
    "]"
   ]
  },
  {
   "cell_type": "code",
   "execution_count": 23,
   "id": "da781f7c",
   "metadata": {
    "execution": {
     "iopub.execute_input": "2025-08-19T18:16:29.738109Z",
     "iopub.status.busy": "2025-08-19T18:16:29.737137Z",
     "iopub.status.idle": "2025-08-19T18:16:29.747125Z",
     "shell.execute_reply": "2025-08-19T18:16:29.744900Z"
    },
    "papermill": {
     "duration": 0.024503,
     "end_time": "2025-08-19T18:16:29.748944",
     "exception": false,
     "start_time": "2025-08-19T18:16:29.724441",
     "status": "completed"
    },
    "tags": []
   },
   "outputs": [],
   "source": [
    "from fairness_multiverse.universe import flatten_once\n",
    "\n",
    "excluded_features_columns = flatten_once(excluded_features_columns)"
   ]
  },
  {
   "cell_type": "code",
   "execution_count": 24,
   "id": "37fef0f0",
   "metadata": {
    "execution": {
     "iopub.execute_input": "2025-08-19T18:16:29.777077Z",
     "iopub.status.busy": "2025-08-19T18:16:29.776099Z",
     "iopub.status.idle": "2025-08-19T18:16:29.816083Z",
     "shell.execute_reply": "2025-08-19T18:16:29.815486Z"
    },
    "papermill": {
     "duration": 0.055169,
     "end_time": "2025-08-19T18:16:29.818802",
     "exception": false,
     "start_time": "2025-08-19T18:16:29.763633",
     "status": "completed"
    },
    "tags": []
   },
   "outputs": [
    {
     "name": "stdout",
     "output_type": "stream",
     "text": [
      "Dropping features: ['age']\n"
     ]
    }
   ],
   "source": [
    "if len(excluded_features_columns) > 0:\n",
    "    print(f\"Dropping features: {excluded_features_columns}\")\n",
    "    X_train.drop(excluded_features_columns, axis=1, inplace=True)"
   ]
  },
  {
   "cell_type": "code",
   "execution_count": 25,
   "id": "d029e3e9",
   "metadata": {
    "execution": {
     "iopub.execute_input": "2025-08-19T18:16:29.854817Z",
     "iopub.status.busy": "2025-08-19T18:16:29.853910Z",
     "iopub.status.idle": "2025-08-19T18:16:29.918760Z",
     "shell.execute_reply": "2025-08-19T18:16:29.918075Z"
    },
    "papermill": {
     "duration": 0.080587,
     "end_time": "2025-08-19T18:16:29.921352",
     "exception": false,
     "start_time": "2025-08-19T18:16:29.840765",
     "status": "completed"
    },
    "tags": []
   },
   "outputs": [
    {
     "name": "stdout",
     "output_type": "stream",
     "text": [
      "Dropping features: ['age']\n"
     ]
    }
   ],
   "source": [
    "if len(excluded_features_columns) > 0:\n",
    "    print(f\"Dropping features: {excluded_features_columns}\")\n",
    "    X_test.drop(excluded_features_columns, axis=1, inplace=True)"
   ]
  },
  {
   "cell_type": "code",
   "execution_count": 26,
   "id": "01d571f0",
   "metadata": {
    "execution": {
     "iopub.execute_input": "2025-08-19T18:16:29.966335Z",
     "iopub.status.busy": "2025-08-19T18:16:29.965136Z",
     "iopub.status.idle": "2025-08-19T18:16:30.024289Z",
     "shell.execute_reply": "2025-08-19T18:16:30.023649Z"
    },
    "papermill": {
     "duration": 0.078521,
     "end_time": "2025-08-19T18:16:30.026839",
     "exception": false,
     "start_time": "2025-08-19T18:16:29.948318",
     "status": "completed"
    },
    "tags": []
   },
   "outputs": [
    {
     "name": "stdout",
     "output_type": "stream",
     "text": [
      "Dropping features: ['age']\n"
     ]
    }
   ],
   "source": [
    "if len(excluded_features_columns) > 0:\n",
    "    print(f\"Dropping features: {excluded_features_columns}\")\n",
    "    X_calib.drop(excluded_features_columns, axis=1, inplace=True)"
   ]
  },
  {
   "cell_type": "code",
   "execution_count": 27,
   "id": "3037356e",
   "metadata": {
    "execution": {
     "iopub.execute_input": "2025-08-19T18:16:30.062192Z",
     "iopub.status.busy": "2025-08-19T18:16:30.061217Z",
     "iopub.status.idle": "2025-08-19T18:16:30.071458Z",
     "shell.execute_reply": "2025-08-19T18:16:30.069038Z"
    },
    "papermill": {
     "duration": 0.024814,
     "end_time": "2025-08-19T18:16:30.073017",
     "exception": false,
     "start_time": "2025-08-19T18:16:30.048203",
     "status": "completed"
    },
    "tags": []
   },
   "outputs": [],
   "source": [
    "# EXCLUDE CERTAIN SUBGROUPS\n",
    "# -------------------------\n",
    "\n",
    "mode = universe.get(\"exclude_subgroups\", \"keep-all\") # Defaults to \"keep-all\" if the key is missing."
   ]
  },
  {
   "cell_type": "code",
   "execution_count": 28,
   "id": "9d1e63fd",
   "metadata": {
    "execution": {
     "iopub.execute_input": "2025-08-19T18:16:30.099816Z",
     "iopub.status.busy": "2025-08-19T18:16:30.098797Z",
     "iopub.status.idle": "2025-08-19T18:16:30.112016Z",
     "shell.execute_reply": "2025-08-19T18:16:30.109990Z"
    },
    "papermill": {
     "duration": 0.026769,
     "end_time": "2025-08-19T18:16:30.113772",
     "exception": false,
     "start_time": "2025-08-19T18:16:30.087003",
     "status": "completed"
    },
    "tags": []
   },
   "outputs": [],
   "source": [
    "if mode == \"keep-all\":\n",
    "    keep_mask = pd.Series(True, index=org_train.index)\n",
    "\n",
    "elif mode == \"drop-non-german\":\n",
    "    keep_mask = (org_train[\"maxdeutsch1\"] == 1) & (org_train[\"maxdeutsch.Missing.\"] == 0)\n",
    "\n",
    "else:\n",
    "    raise ValueError(f\"Unsupported mode for exclude_subgroups: {mode}\")"
   ]
  },
  {
   "cell_type": "code",
   "execution_count": 29,
   "id": "d3b65474",
   "metadata": {
    "execution": {
     "iopub.execute_input": "2025-08-19T18:16:30.144440Z",
     "iopub.status.busy": "2025-08-19T18:16:30.143268Z",
     "iopub.status.idle": "2025-08-19T18:16:30.155468Z",
     "shell.execute_reply": "2025-08-19T18:16:30.154108Z"
    },
    "papermill": {
     "duration": 0.02684,
     "end_time": "2025-08-19T18:16:30.156746",
     "exception": false,
     "start_time": "2025-08-19T18:16:30.129906",
     "status": "completed"
    },
    "tags": []
   },
   "outputs": [],
   "source": [
    "n_drop = (~keep_mask).sum() # Calculates how many rows are set to be dropped\n",
    "if n_drop > 0:\n",
    "    pct = n_drop / len(keep_mask) * 100\n",
    "    print(f\"Dropping {n_drop} rows ({pct:.2f}%) where mode='{mode}'\")"
   ]
  },
  {
   "cell_type": "code",
   "execution_count": 30,
   "id": "f44389b3",
   "metadata": {
    "execution": {
     "iopub.execute_input": "2025-08-19T18:16:30.182130Z",
     "iopub.status.busy": "2025-08-19T18:16:30.181538Z",
     "iopub.status.idle": "2025-08-19T18:16:30.196097Z",
     "shell.execute_reply": "2025-08-19T18:16:30.195422Z"
    },
    "papermill": {
     "duration": 0.027658,
     "end_time": "2025-08-19T18:16:30.197273",
     "exception": false,
     "start_time": "2025-08-19T18:16:30.169615",
     "status": "completed"
    },
    "tags": []
   },
   "outputs": [],
   "source": [
    "X_train = X_train[keep_mask]"
   ]
  },
  {
   "cell_type": "code",
   "execution_count": 31,
   "id": "ceca8c2a",
   "metadata": {
    "execution": {
     "iopub.execute_input": "2025-08-19T18:16:30.223351Z",
     "iopub.status.busy": "2025-08-19T18:16:30.222299Z",
     "iopub.status.idle": "2025-08-19T18:16:30.231335Z",
     "shell.execute_reply": "2025-08-19T18:16:30.229904Z"
    },
    "papermill": {
     "duration": 0.022108,
     "end_time": "2025-08-19T18:16:30.232883",
     "exception": false,
     "start_time": "2025-08-19T18:16:30.210775",
     "status": "completed"
    },
    "tags": []
   },
   "outputs": [],
   "source": [
    "y_train = y_train[keep_mask]"
   ]
  },
  {
   "cell_type": "markdown",
   "id": "04d31e2f",
   "metadata": {
    "papermill": {
     "duration": 0.010898,
     "end_time": "2025-08-19T18:16:30.257027",
     "exception": false,
     "start_time": "2025-08-19T18:16:30.246129",
     "status": "completed"
    },
    "tags": []
   },
   "source": [
    "# Model Training"
   ]
  },
  {
   "cell_type": "code",
   "execution_count": 32,
   "id": "db991733",
   "metadata": {
    "execution": {
     "iopub.execute_input": "2025-08-19T18:16:30.280870Z",
     "iopub.status.busy": "2025-08-19T18:16:30.279250Z",
     "iopub.status.idle": "2025-08-19T18:16:30.386148Z",
     "shell.execute_reply": "2025-08-19T18:16:30.385478Z"
    },
    "papermill": {
     "duration": 0.12172,
     "end_time": "2025-08-19T18:16:30.388959",
     "exception": false,
     "start_time": "2025-08-19T18:16:30.267239",
     "status": "completed"
    },
    "tags": []
   },
   "outputs": [],
   "source": [
    "from sklearn.linear_model import LogisticRegression\n",
    "from sklearn.ensemble import GradientBoostingClassifier, RandomForestClassifier\n",
    "\n",
    "if (universe[\"model\"] == \"logreg\"):\n",
    "    model = LogisticRegression() #penalty=\"none\", solver=\"newton-cg\", max_iter=1)\n",
    "elif (universe[\"model\"] == \"penalized_logreg\"):\n",
    "    model = LogisticRegression(penalty=\"l2\", C=0.1) #, solver=\"newton-cg\", max_iter=1)\n",
    "elif (universe[\"model\"] == \"rf\"):\n",
    "    model = RandomForestClassifier() # n_estimators=100, n_jobs=-1\n",
    "elif (universe[\"model\"] == \"gbm\"):\n",
    "    model = GradientBoostingClassifier()\n",
    "elif (universe[\"model\"] == \"elasticnet\"):\n",
    "    model = LogisticRegression(penalty = 'elasticnet', solver = 'saga', l1_ratio = 0.5) # max_iter=5000\n",
    "else:\n",
    "    raise \"Unsupported universe.model\""
   ]
  },
  {
   "cell_type": "code",
   "execution_count": 33,
   "id": "a4b5cd25",
   "metadata": {
    "execution": {
     "iopub.execute_input": "2025-08-19T18:16:30.428818Z",
     "iopub.status.busy": "2025-08-19T18:16:30.427227Z",
     "iopub.status.idle": "2025-08-19T18:16:30.437637Z",
     "shell.execute_reply": "2025-08-19T18:16:30.436314Z"
    },
    "papermill": {
     "duration": 0.02582,
     "end_time": "2025-08-19T18:16:30.438994",
     "exception": false,
     "start_time": "2025-08-19T18:16:30.413174",
     "status": "completed"
    },
    "tags": []
   },
   "outputs": [],
   "source": [
    "from sklearn.pipeline import Pipeline\n",
    "from sklearn.preprocessing import StandardScaler\n",
    "\n",
    "model = Pipeline([\n",
    "    #(\"continuous_processor\", continuous_processor),\n",
    "    #(\"categorical_preprocessor\", categorical_preprocessor),\n",
    "    (\"scale\", StandardScaler() if universe[\"scale\"] == \"scale\" else None), \n",
    "    (\"model\", model),\n",
    "])"
   ]
  },
  {
   "cell_type": "code",
   "execution_count": 34,
   "id": "283a904d",
   "metadata": {
    "execution": {
     "iopub.execute_input": "2025-08-19T18:16:30.465399Z",
     "iopub.status.busy": "2025-08-19T18:16:30.463878Z",
     "iopub.status.idle": "2025-08-19T18:16:52.389681Z",
     "shell.execute_reply": "2025-08-19T18:16:52.388798Z"
    },
    "papermill": {
     "duration": 21.939282,
     "end_time": "2025-08-19T18:16:52.391155",
     "exception": false,
     "start_time": "2025-08-19T18:16:30.451873",
     "status": "completed"
    },
    "tags": []
   },
   "outputs": [
    {
     "data": {
      "text/html": [
       "<style>#sk-container-id-1 {color: black;background-color: white;}#sk-container-id-1 pre{padding: 0;}#sk-container-id-1 div.sk-toggleable {background-color: white;}#sk-container-id-1 label.sk-toggleable__label {cursor: pointer;display: block;width: 100%;margin-bottom: 0;padding: 0.3em;box-sizing: border-box;text-align: center;}#sk-container-id-1 label.sk-toggleable__label-arrow:before {content: \"▸\";float: left;margin-right: 0.25em;color: #696969;}#sk-container-id-1 label.sk-toggleable__label-arrow:hover:before {color: black;}#sk-container-id-1 div.sk-estimator:hover label.sk-toggleable__label-arrow:before {color: black;}#sk-container-id-1 div.sk-toggleable__content {max-height: 0;max-width: 0;overflow: hidden;text-align: left;background-color: #f0f8ff;}#sk-container-id-1 div.sk-toggleable__content pre {margin: 0.2em;color: black;border-radius: 0.25em;background-color: #f0f8ff;}#sk-container-id-1 input.sk-toggleable__control:checked~div.sk-toggleable__content {max-height: 200px;max-width: 100%;overflow: auto;}#sk-container-id-1 input.sk-toggleable__control:checked~label.sk-toggleable__label-arrow:before {content: \"▾\";}#sk-container-id-1 div.sk-estimator input.sk-toggleable__control:checked~label.sk-toggleable__label {background-color: #d4ebff;}#sk-container-id-1 div.sk-label input.sk-toggleable__control:checked~label.sk-toggleable__label {background-color: #d4ebff;}#sk-container-id-1 input.sk-hidden--visually {border: 0;clip: rect(1px 1px 1px 1px);clip: rect(1px, 1px, 1px, 1px);height: 1px;margin: -1px;overflow: hidden;padding: 0;position: absolute;width: 1px;}#sk-container-id-1 div.sk-estimator {font-family: monospace;background-color: #f0f8ff;border: 1px dotted black;border-radius: 0.25em;box-sizing: border-box;margin-bottom: 0.5em;}#sk-container-id-1 div.sk-estimator:hover {background-color: #d4ebff;}#sk-container-id-1 div.sk-parallel-item::after {content: \"\";width: 100%;border-bottom: 1px solid gray;flex-grow: 1;}#sk-container-id-1 div.sk-label:hover label.sk-toggleable__label {background-color: #d4ebff;}#sk-container-id-1 div.sk-serial::before {content: \"\";position: absolute;border-left: 1px solid gray;box-sizing: border-box;top: 0;bottom: 0;left: 50%;z-index: 0;}#sk-container-id-1 div.sk-serial {display: flex;flex-direction: column;align-items: center;background-color: white;padding-right: 0.2em;padding-left: 0.2em;position: relative;}#sk-container-id-1 div.sk-item {position: relative;z-index: 1;}#sk-container-id-1 div.sk-parallel {display: flex;align-items: stretch;justify-content: center;background-color: white;position: relative;}#sk-container-id-1 div.sk-item::before, #sk-container-id-1 div.sk-parallel-item::before {content: \"\";position: absolute;border-left: 1px solid gray;box-sizing: border-box;top: 0;bottom: 0;left: 50%;z-index: -1;}#sk-container-id-1 div.sk-parallel-item {display: flex;flex-direction: column;z-index: 1;position: relative;background-color: white;}#sk-container-id-1 div.sk-parallel-item:first-child::after {align-self: flex-end;width: 50%;}#sk-container-id-1 div.sk-parallel-item:last-child::after {align-self: flex-start;width: 50%;}#sk-container-id-1 div.sk-parallel-item:only-child::after {width: 0;}#sk-container-id-1 div.sk-dashed-wrapped {border: 1px dashed gray;margin: 0 0.4em 0.5em 0.4em;box-sizing: border-box;padding-bottom: 0.4em;background-color: white;}#sk-container-id-1 div.sk-label label {font-family: monospace;font-weight: bold;display: inline-block;line-height: 1.2em;}#sk-container-id-1 div.sk-label-container {text-align: center;}#sk-container-id-1 div.sk-container {/* jupyter's `normalize.less` sets `[hidden] { display: none; }` but bootstrap.min.css set `[hidden] { display: none !important; }` so we also need the `!important` here to be able to override the default hidden behavior on the sphinx rendered scikit-learn.org. See: https://github.com/scikit-learn/scikit-learn/issues/21755 */display: inline-block !important;position: relative;}#sk-container-id-1 div.sk-text-repr-fallback {display: none;}</style><div id=\"sk-container-id-1\" class=\"sk-top-container\"><div class=\"sk-text-repr-fallback\"><pre>Pipeline(steps=[(&#x27;scale&#x27;, StandardScaler()),\n",
       "                (&#x27;model&#x27;, GradientBoostingClassifier())])</pre><b>In a Jupyter environment, please rerun this cell to show the HTML representation or trust the notebook. <br />On GitHub, the HTML representation is unable to render, please try loading this page with nbviewer.org.</b></div><div class=\"sk-container\" hidden><div class=\"sk-item sk-dashed-wrapped\"><div class=\"sk-label-container\"><div class=\"sk-label sk-toggleable\"><input class=\"sk-toggleable__control sk-hidden--visually\" id=\"sk-estimator-id-1\" type=\"checkbox\" ><label for=\"sk-estimator-id-1\" class=\"sk-toggleable__label sk-toggleable__label-arrow\">Pipeline</label><div class=\"sk-toggleable__content\"><pre>Pipeline(steps=[(&#x27;scale&#x27;, StandardScaler()),\n",
       "                (&#x27;model&#x27;, GradientBoostingClassifier())])</pre></div></div></div><div class=\"sk-serial\"><div class=\"sk-item\"><div class=\"sk-estimator sk-toggleable\"><input class=\"sk-toggleable__control sk-hidden--visually\" id=\"sk-estimator-id-2\" type=\"checkbox\" ><label for=\"sk-estimator-id-2\" class=\"sk-toggleable__label sk-toggleable__label-arrow\">StandardScaler</label><div class=\"sk-toggleable__content\"><pre>StandardScaler()</pre></div></div></div><div class=\"sk-item\"><div class=\"sk-estimator sk-toggleable\"><input class=\"sk-toggleable__control sk-hidden--visually\" id=\"sk-estimator-id-3\" type=\"checkbox\" ><label for=\"sk-estimator-id-3\" class=\"sk-toggleable__label sk-toggleable__label-arrow\">GradientBoostingClassifier</label><div class=\"sk-toggleable__content\"><pre>GradientBoostingClassifier()</pre></div></div></div></div></div></div></div>"
      ],
      "text/plain": [
       "Pipeline(steps=[('scale', StandardScaler()),\n",
       "                ('model', GradientBoostingClassifier())])"
      ]
     },
     "execution_count": 34,
     "metadata": {},
     "output_type": "execute_result"
    }
   ],
   "source": [
    "model.fit(X_train, y_train.values.ravel())"
   ]
  },
  {
   "cell_type": "code",
   "execution_count": 35,
   "id": "6e15e313",
   "metadata": {
    "execution": {
     "iopub.execute_input": "2025-08-19T18:16:52.425565Z",
     "iopub.status.busy": "2025-08-19T18:16:52.424579Z",
     "iopub.status.idle": "2025-08-19T18:16:53.063533Z",
     "shell.execute_reply": "2025-08-19T18:16:53.062652Z"
    },
    "papermill": {
     "duration": 0.655005,
     "end_time": "2025-08-19T18:16:53.066159",
     "exception": false,
     "start_time": "2025-08-19T18:16:52.411154",
     "status": "completed"
    },
    "tags": []
   },
   "outputs": [
    {
     "data": {
      "text/plain": [
       "0.8678854085386245"
      ]
     },
     "execution_count": 35,
     "metadata": {},
     "output_type": "execute_result"
    }
   ],
   "source": [
    "from fairness_multiverse.universe import predict_w_threshold\n",
    "\n",
    "probs_test = model.predict_proba(X_test)\n",
    "\n",
    "'''\n",
    "Below code returns a boolean array (or binary 0/1 array depending on how it’s used) where each element \n",
    "is True if the probability of class 1 is greater than or equal to the threshold, and False otherwise.\n",
    "'''\n",
    "y_pred_default = predict_w_threshold(probs_test, 0.5)\n",
    "\n",
    "from sklearn.metrics import accuracy_score\n",
    "\n",
    "# Naive prediction\n",
    "accuracy_score(y_true = y_true, y_pred = y_pred_default)"
   ]
  },
  {
   "cell_type": "code",
   "execution_count": 36,
   "id": "6f14067c",
   "metadata": {
    "execution": {
     "iopub.execute_input": "2025-08-19T18:16:53.123071Z",
     "iopub.status.busy": "2025-08-19T18:16:53.122571Z",
     "iopub.status.idle": "2025-08-19T18:16:53.707942Z",
     "shell.execute_reply": "2025-08-19T18:16:53.707186Z"
    },
    "papermill": {
     "duration": 0.61201,
     "end_time": "2025-08-19T18:16:53.709330",
     "exception": false,
     "start_time": "2025-08-19T18:16:53.097320",
     "status": "completed"
    },
    "tags": []
   },
   "outputs": [
    {
     "data": {
      "text/plain": [
       "array([0, 0, 0, ..., 0, 0, 0])"
      ]
     },
     "execution_count": 36,
     "metadata": {},
     "output_type": "execute_result"
    }
   ],
   "source": [
    "model.predict(X_test)"
   ]
  },
  {
   "cell_type": "markdown",
   "id": "3759920c",
   "metadata": {
    "papermill": {
     "duration": 0.010923,
     "end_time": "2025-08-19T18:16:53.731852",
     "exception": false,
     "start_time": "2025-08-19T18:16:53.720929",
     "status": "completed"
    },
    "tags": []
   },
   "source": [
    "# Conformal Prediction"
   ]
  },
  {
   "cell_type": "code",
   "execution_count": 37,
   "id": "14b27f59",
   "metadata": {
    "execution": {
     "iopub.execute_input": "2025-08-19T18:16:53.756234Z",
     "iopub.status.busy": "2025-08-19T18:16:53.755027Z",
     "iopub.status.idle": "2025-08-19T18:16:53.763440Z",
     "shell.execute_reply": "2025-08-19T18:16:53.761819Z"
    },
    "papermill": {
     "duration": 0.022301,
     "end_time": "2025-08-19T18:16:53.764927",
     "exception": false,
     "start_time": "2025-08-19T18:16:53.742626",
     "status": "completed"
    },
    "tags": []
   },
   "outputs": [],
   "source": [
    "# Miscoverage level for conformal prediction (10% allowed error rate => 90% target coverage)\n",
    "alpha = 0.1"
   ]
  },
  {
   "cell_type": "code",
   "execution_count": 38,
   "id": "59102472",
   "metadata": {
    "execution": {
     "iopub.execute_input": "2025-08-19T18:16:53.793083Z",
     "iopub.status.busy": "2025-08-19T18:16:53.791258Z",
     "iopub.status.idle": "2025-08-19T18:16:54.434189Z",
     "shell.execute_reply": "2025-08-19T18:16:54.433511Z"
    },
    "papermill": {
     "duration": 0.658361,
     "end_time": "2025-08-19T18:16:54.437061",
     "exception": false,
     "start_time": "2025-08-19T18:16:53.778700",
     "status": "completed"
    },
    "tags": []
   },
   "outputs": [],
   "source": [
    "probs_calib = model.predict_proba(X_calib)"
   ]
  },
  {
   "cell_type": "code",
   "execution_count": 39,
   "id": "a792d4dd",
   "metadata": {
    "execution": {
     "iopub.execute_input": "2025-08-19T18:16:54.480160Z",
     "iopub.status.busy": "2025-08-19T18:16:54.479069Z",
     "iopub.status.idle": "2025-08-19T18:16:54.489232Z",
     "shell.execute_reply": "2025-08-19T18:16:54.487541Z"
    },
    "papermill": {
     "duration": 0.025856,
     "end_time": "2025-08-19T18:16:54.490713",
     "exception": false,
     "start_time": "2025-08-19T18:16:54.464857",
     "status": "completed"
    },
    "tags": []
   },
   "outputs": [],
   "source": [
    "y_calib = y_calib.values.ravel().astype(int)"
   ]
  },
  {
   "cell_type": "code",
   "execution_count": 40,
   "id": "650fd033",
   "metadata": {
    "execution": {
     "iopub.execute_input": "2025-08-19T18:16:54.518919Z",
     "iopub.status.busy": "2025-08-19T18:16:54.517453Z",
     "iopub.status.idle": "2025-08-19T18:16:54.530706Z",
     "shell.execute_reply": "2025-08-19T18:16:54.529024Z"
    },
    "papermill": {
     "duration": 0.027533,
     "end_time": "2025-08-19T18:16:54.532370",
     "exception": false,
     "start_time": "2025-08-19T18:16:54.504837",
     "status": "completed"
    },
    "tags": []
   },
   "outputs": [],
   "source": [
    "from fairness_multiverse.conformal import compute_nc_scores\n",
    "\n",
    "# Compute nonconformity scores on calibration set (1 - probability of true class)\n",
    "nc_scores = compute_nc_scores(probs_calib, y_calib)"
   ]
  },
  {
   "cell_type": "code",
   "execution_count": 41,
   "id": "28ada44c",
   "metadata": {
    "execution": {
     "iopub.execute_input": "2025-08-19T18:16:54.564700Z",
     "iopub.status.busy": "2025-08-19T18:16:54.563617Z",
     "iopub.status.idle": "2025-08-19T18:16:54.575057Z",
     "shell.execute_reply": "2025-08-19T18:16:54.573455Z"
    },
    "papermill": {
     "duration": 0.026782,
     "end_time": "2025-08-19T18:16:54.576602",
     "exception": false,
     "start_time": "2025-08-19T18:16:54.549820",
     "status": "completed"
    },
    "tags": []
   },
   "outputs": [],
   "source": [
    "from fairness_multiverse.conformal import find_threshold\n",
    "\n",
    "# Find conformal threshold q_hat for the given alpha (split conformal method)\n",
    "q_hat = find_threshold(nc_scores, alpha)"
   ]
  },
  {
   "cell_type": "code",
   "execution_count": 42,
   "id": "df56469e",
   "metadata": {
    "execution": {
     "iopub.execute_input": "2025-08-19T18:16:54.604796Z",
     "iopub.status.busy": "2025-08-19T18:16:54.603741Z",
     "iopub.status.idle": "2025-08-19T18:16:54.615370Z",
     "shell.execute_reply": "2025-08-19T18:16:54.613851Z"
    },
    "papermill": {
     "duration": 0.02629,
     "end_time": "2025-08-19T18:16:54.616905",
     "exception": false,
     "start_time": "2025-08-19T18:16:54.590615",
     "status": "completed"
    },
    "tags": []
   },
   "outputs": [
    {
     "data": {
      "text/plain": [
       "0.6862858436255042"
      ]
     },
     "execution_count": 42,
     "metadata": {},
     "output_type": "execute_result"
    }
   ],
   "source": [
    "q_hat"
   ]
  },
  {
   "cell_type": "code",
   "execution_count": 43,
   "id": "aa1f5faa",
   "metadata": {
    "execution": {
     "iopub.execute_input": "2025-08-19T18:16:54.656905Z",
     "iopub.status.busy": "2025-08-19T18:16:54.655866Z",
     "iopub.status.idle": "2025-08-19T18:16:55.673863Z",
     "shell.execute_reply": "2025-08-19T18:16:55.673137Z"
    },
    "papermill": {
     "duration": 1.043857,
     "end_time": "2025-08-19T18:16:55.675784",
     "exception": false,
     "start_time": "2025-08-19T18:16:54.631927",
     "status": "completed"
    },
    "tags": []
   },
   "outputs": [],
   "source": [
    "from fairness_multiverse.conformal import predict_conformal_sets\n",
    "\n",
    "# Generate prediction sets for each test example\n",
    "pred_sets = predict_conformal_sets(model, X_test, q_hat)"
   ]
  },
  {
   "cell_type": "code",
   "execution_count": 44,
   "id": "97f67a6b",
   "metadata": {
    "execution": {
     "iopub.execute_input": "2025-08-19T18:16:55.726021Z",
     "iopub.status.busy": "2025-08-19T18:16:55.725531Z",
     "iopub.status.idle": "2025-08-19T18:16:55.730518Z",
     "shell.execute_reply": "2025-08-19T18:16:55.729881Z"
    },
    "papermill": {
     "duration": 0.031113,
     "end_time": "2025-08-19T18:16:55.734360",
     "exception": false,
     "start_time": "2025-08-19T18:16:55.703247",
     "status": "completed"
    },
    "tags": []
   },
   "outputs": [],
   "source": [
    "y_true = y_true.squeeze()"
   ]
  },
  {
   "cell_type": "code",
   "execution_count": 45,
   "id": "e700e9a7",
   "metadata": {
    "execution": {
     "iopub.execute_input": "2025-08-19T18:16:55.776852Z",
     "iopub.status.busy": "2025-08-19T18:16:55.775776Z",
     "iopub.status.idle": "2025-08-19T18:16:56.271738Z",
     "shell.execute_reply": "2025-08-19T18:16:56.271039Z"
    },
    "papermill": {
     "duration": 0.512894,
     "end_time": "2025-08-19T18:16:56.273465",
     "exception": false,
     "start_time": "2025-08-19T18:16:55.760571",
     "status": "completed"
    },
    "tags": []
   },
   "outputs": [],
   "source": [
    "from fairness_multiverse.conformal import evaluate_sets\n",
    "\n",
    "# Evaluate coverage and average set size on test data\n",
    "metrics = evaluate_sets(pred_sets, y_true)"
   ]
  },
  {
   "cell_type": "markdown",
   "id": "efbacec0",
   "metadata": {
    "papermill": {
     "duration": 0.011508,
     "end_time": "2025-08-19T18:16:56.297349",
     "exception": false,
     "start_time": "2025-08-19T18:16:56.285841",
     "status": "completed"
    },
    "tags": []
   },
   "source": [
    "# CP Metrics"
   ]
  },
  {
   "cell_type": "code",
   "execution_count": 46,
   "id": "9de55fb1",
   "metadata": {
    "execution": {
     "iopub.execute_input": "2025-08-19T18:16:56.321477Z",
     "iopub.status.busy": "2025-08-19T18:16:56.321066Z",
     "iopub.status.idle": "2025-08-19T18:16:56.327451Z",
     "shell.execute_reply": "2025-08-19T18:16:56.326832Z"
    },
    "papermill": {
     "duration": 0.020956,
     "end_time": "2025-08-19T18:16:56.329671",
     "exception": false,
     "start_time": "2025-08-19T18:16:56.308715",
     "status": "completed"
    },
    "tags": []
   },
   "outputs": [
    {
     "data": {
      "text/plain": [
       "{'coverage': 0.9116597926652548, 'avg_size': 1.1219485007245569}"
      ]
     },
     "execution_count": 46,
     "metadata": {},
     "output_type": "execute_result"
    }
   ],
   "source": [
    "metrics"
   ]
  },
  {
   "cell_type": "code",
   "execution_count": 47,
   "id": "64c340a1",
   "metadata": {
    "execution": {
     "iopub.execute_input": "2025-08-19T18:16:56.354303Z",
     "iopub.status.busy": "2025-08-19T18:16:56.353861Z",
     "iopub.status.idle": "2025-08-19T18:16:56.359198Z",
     "shell.execute_reply": "2025-08-19T18:16:56.358597Z"
    },
    "papermill": {
     "duration": 0.019356,
     "end_time": "2025-08-19T18:16:56.360722",
     "exception": false,
     "start_time": "2025-08-19T18:16:56.341366",
     "status": "completed"
    },
    "tags": []
   },
   "outputs": [],
   "source": [
    "example_universe = universe.copy()\n",
    "universe_training_year = example_universe.get(\"training_year\")\n",
    "universe_training_size = example_universe.get(\"training_size\")\n",
    "universe_scale = example_universe.get(\"scale\")\n",
    "universe_model = example_universe.get(\"model\")\n",
    "universe_exclude_features = example_universe.get(\"exclude_features\")\n",
    "universe_exclude_subgroups = example_universe.get(\"exclude_subgroups\")"
   ]
  },
  {
   "cell_type": "code",
   "execution_count": 48,
   "id": "dbb53cb4",
   "metadata": {
    "execution": {
     "iopub.execute_input": "2025-08-19T18:16:56.385435Z",
     "iopub.status.busy": "2025-08-19T18:16:56.385059Z",
     "iopub.status.idle": "2025-08-19T18:16:56.389748Z",
     "shell.execute_reply": "2025-08-19T18:16:56.389198Z"
    },
    "papermill": {
     "duration": 0.018307,
     "end_time": "2025-08-19T18:16:56.390973",
     "exception": false,
     "start_time": "2025-08-19T18:16:56.372666",
     "status": "completed"
    },
    "tags": []
   },
   "outputs": [],
   "source": [
    "cp_metrics_dict = {\n",
    "    \"universe_id\": [universe_id],\n",
    "    \"universe_training_year\": [universe_training_year],\n",
    "    \"universe_training_size\": [universe_training_size],\n",
    "    \"universe_scale\": [universe_scale],\n",
    "    \"universe_model\": [universe_model],\n",
    "    \"universe_exclude_features\": [universe_exclude_features],\n",
    "    \"universe_exclude_subgroups\": [universe_exclude_subgroups],\n",
    "    \"q_hat\": [q_hat],\n",
    "    \"coverage\": [metrics[\"coverage\"]],\n",
    "    \"avg_size\": [metrics[\"avg_size\"]],\n",
    "}"
   ]
  },
  {
   "cell_type": "code",
   "execution_count": 49,
   "id": "0d70d4b2",
   "metadata": {
    "execution": {
     "iopub.execute_input": "2025-08-19T18:16:56.429914Z",
     "iopub.status.busy": "2025-08-19T18:16:56.428883Z",
     "iopub.status.idle": "2025-08-19T18:16:56.438993Z",
     "shell.execute_reply": "2025-08-19T18:16:56.437581Z"
    },
    "papermill": {
     "duration": 0.032836,
     "end_time": "2025-08-19T18:16:56.440535",
     "exception": false,
     "start_time": "2025-08-19T18:16:56.407699",
     "status": "completed"
    },
    "tags": []
   },
   "outputs": [],
   "source": [
    "cp_metrics_df = pd.DataFrame(cp_metrics_dict)"
   ]
  },
  {
   "cell_type": "code",
   "execution_count": 50,
   "id": "b494403c",
   "metadata": {
    "execution": {
     "iopub.execute_input": "2025-08-19T18:16:56.477929Z",
     "iopub.status.busy": "2025-08-19T18:16:56.476644Z",
     "iopub.status.idle": "2025-08-19T18:16:56.514181Z",
     "shell.execute_reply": "2025-08-19T18:16:56.509634Z"
    },
    "papermill": {
     "duration": 0.054041,
     "end_time": "2025-08-19T18:16:56.517214",
     "exception": false,
     "start_time": "2025-08-19T18:16:56.463173",
     "status": "completed"
    },
    "tags": []
   },
   "outputs": [
    {
     "data": {
      "text/html": [
       "<div>\n",
       "<style scoped>\n",
       "    .dataframe tbody tr th:only-of-type {\n",
       "        vertical-align: middle;\n",
       "    }\n",
       "\n",
       "    .dataframe tbody tr th {\n",
       "        vertical-align: top;\n",
       "    }\n",
       "\n",
       "    .dataframe thead th {\n",
       "        text-align: right;\n",
       "    }\n",
       "</style>\n",
       "<table border=\"1\" class=\"dataframe\">\n",
       "  <thead>\n",
       "    <tr style=\"text-align: right;\">\n",
       "      <th></th>\n",
       "      <th>universe_id</th>\n",
       "      <th>universe_training_year</th>\n",
       "      <th>universe_training_size</th>\n",
       "      <th>universe_scale</th>\n",
       "      <th>universe_model</th>\n",
       "      <th>universe_exclude_features</th>\n",
       "      <th>universe_exclude_subgroups</th>\n",
       "      <th>q_hat</th>\n",
       "      <th>coverage</th>\n",
       "      <th>avg_size</th>\n",
       "    </tr>\n",
       "  </thead>\n",
       "  <tbody>\n",
       "    <tr>\n",
       "      <th>0</th>\n",
       "      <td>2fb2a4f6834c6c999e46bae5049e6316</td>\n",
       "      <td>2010_14</td>\n",
       "      <td>25k</td>\n",
       "      <td>scale</td>\n",
       "      <td>gbm</td>\n",
       "      <td>age</td>\n",
       "      <td>keep-all</td>\n",
       "      <td>0.686286</td>\n",
       "      <td>0.91166</td>\n",
       "      <td>1.121949</td>\n",
       "    </tr>\n",
       "  </tbody>\n",
       "</table>\n",
       "</div>"
      ],
      "text/plain": [
       "                        universe_id universe_training_year  \\\n",
       "0  2fb2a4f6834c6c999e46bae5049e6316                2010_14   \n",
       "\n",
       "  universe_training_size universe_scale universe_model  \\\n",
       "0                    25k          scale            gbm   \n",
       "\n",
       "  universe_exclude_features universe_exclude_subgroups     q_hat  coverage  \\\n",
       "0                       age                   keep-all  0.686286   0.91166   \n",
       "\n",
       "   avg_size  \n",
       "0  1.121949  "
      ]
     },
     "execution_count": 50,
     "metadata": {},
     "output_type": "execute_result"
    }
   ],
   "source": [
    "cp_metrics_df"
   ]
  },
  {
   "cell_type": "markdown",
   "id": "ed608b0b",
   "metadata": {
    "papermill": {
     "duration": 0.013521,
     "end_time": "2025-08-19T18:16:56.555818",
     "exception": false,
     "start_time": "2025-08-19T18:16:56.542297",
     "status": "completed"
    },
    "tags": []
   },
   "source": [
    "Conditional coverage & looking at subgroups"
   ]
  },
  {
   "cell_type": "code",
   "execution_count": 51,
   "id": "8968c366",
   "metadata": {
    "execution": {
     "iopub.execute_input": "2025-08-19T18:16:56.582234Z",
     "iopub.status.busy": "2025-08-19T18:16:56.581792Z",
     "iopub.status.idle": "2025-08-19T18:16:56.813123Z",
     "shell.execute_reply": "2025-08-19T18:16:56.812400Z"
    },
    "papermill": {
     "duration": 0.246654,
     "end_time": "2025-08-19T18:16:56.814687",
     "exception": false,
     "start_time": "2025-08-19T18:16:56.568033",
     "status": "completed"
    },
    "tags": []
   },
   "outputs": [],
   "source": [
    "from fairness_multiverse.conformal import build_cp_groups\n",
    "\n",
    "cp_groups_df = build_cp_groups(pred_sets, y_true, X_test.index, org_test)"
   ]
  },
  {
   "cell_type": "code",
   "execution_count": 52,
   "id": "292ddabf",
   "metadata": {
    "execution": {
     "iopub.execute_input": "2025-08-19T18:16:56.867362Z",
     "iopub.status.busy": "2025-08-19T18:16:56.866357Z",
     "iopub.status.idle": "2025-08-19T18:16:57.719873Z",
     "shell.execute_reply": "2025-08-19T18:16:57.718699Z"
    },
    "papermill": {
     "duration": 0.884969,
     "end_time": "2025-08-19T18:16:57.722704",
     "exception": false,
     "start_time": "2025-08-19T18:16:56.837735",
     "status": "completed"
    },
    "tags": []
   },
   "outputs": [],
   "source": [
    "# Define covered = 1 if true_label is in the predicted set\n",
    "cp_groups_df['covered'] = cp_groups_df.apply(\n",
    "    lambda r: int(r['true_label'] in r['pred_set']),\n",
    "    axis=1\n",
    ")"
   ]
  },
  {
   "cell_type": "code",
   "execution_count": 53,
   "id": "3a261692",
   "metadata": {
    "execution": {
     "iopub.execute_input": "2025-08-19T18:16:57.768527Z",
     "iopub.status.busy": "2025-08-19T18:16:57.767264Z",
     "iopub.status.idle": "2025-08-19T18:16:57.792060Z",
     "shell.execute_reply": "2025-08-19T18:16:57.791227Z"
    },
    "papermill": {
     "duration": 0.042658,
     "end_time": "2025-08-19T18:16:57.793722",
     "exception": false,
     "start_time": "2025-08-19T18:16:57.751064",
     "status": "completed"
    },
    "tags": []
   },
   "outputs": [],
   "source": [
    "subgroups = ['frau1','nongerman','nongerman_male','nongerman_female']\n",
    "\n",
    "# Conditional coverage for subgroup==1\n",
    "cond_coverage = {\n",
    "    g: cp_groups_df.loc[cp_groups_df[g]==1, 'covered'].mean()\n",
    "    for g in subgroups\n",
    "}"
   ]
  },
  {
   "cell_type": "code",
   "execution_count": 54,
   "id": "894fd600",
   "metadata": {
    "execution": {
     "iopub.execute_input": "2025-08-19T18:16:57.837268Z",
     "iopub.status.busy": "2025-08-19T18:16:57.836225Z",
     "iopub.status.idle": "2025-08-19T18:16:57.848908Z",
     "shell.execute_reply": "2025-08-19T18:16:57.847246Z"
    },
    "papermill": {
     "duration": 0.029786,
     "end_time": "2025-08-19T18:16:57.850453",
     "exception": false,
     "start_time": "2025-08-19T18:16:57.820667",
     "status": "completed"
    },
    "tags": []
   },
   "outputs": [
    {
     "data": {
      "text/plain": [
       "{'frau1': 0.9096913330637553,\n",
       " 'nongerman': 0.9077078538146298,\n",
       " 'nongerman_male': 0.9243447716833288,\n",
       " 'nongerman_female': 0.8801788375558868}"
      ]
     },
     "execution_count": 54,
     "metadata": {},
     "output_type": "execute_result"
    }
   ],
   "source": [
    "cond_coverage"
   ]
  },
  {
   "cell_type": "code",
   "execution_count": 55,
   "id": "942895c7",
   "metadata": {
    "execution": {
     "iopub.execute_input": "2025-08-19T18:16:57.879868Z",
     "iopub.status.busy": "2025-08-19T18:16:57.878959Z",
     "iopub.status.idle": "2025-08-19T18:16:57.891091Z",
     "shell.execute_reply": "2025-08-19T18:16:57.889541Z"
    },
    "papermill": {
     "duration": 0.027283,
     "end_time": "2025-08-19T18:16:57.892740",
     "exception": false,
     "start_time": "2025-08-19T18:16:57.865457",
     "status": "completed"
    },
    "tags": []
   },
   "outputs": [],
   "source": [
    "for subgroup, cov in cond_coverage.items():\n",
    "    cp_metrics_df[f\"cov_{subgroup}\"] = cov"
   ]
  },
  {
   "cell_type": "code",
   "execution_count": 56,
   "id": "3970120f",
   "metadata": {
    "execution": {
     "iopub.execute_input": "2025-08-19T18:16:57.923430Z",
     "iopub.status.busy": "2025-08-19T18:16:57.922386Z",
     "iopub.status.idle": "2025-08-19T18:16:57.949981Z",
     "shell.execute_reply": "2025-08-19T18:16:57.948942Z"
    },
    "papermill": {
     "duration": 0.043374,
     "end_time": "2025-08-19T18:16:57.952032",
     "exception": false,
     "start_time": "2025-08-19T18:16:57.908658",
     "status": "completed"
    },
    "tags": []
   },
   "outputs": [
    {
     "data": {
      "text/html": [
       "<div>\n",
       "<style scoped>\n",
       "    .dataframe tbody tr th:only-of-type {\n",
       "        vertical-align: middle;\n",
       "    }\n",
       "\n",
       "    .dataframe tbody tr th {\n",
       "        vertical-align: top;\n",
       "    }\n",
       "\n",
       "    .dataframe thead th {\n",
       "        text-align: right;\n",
       "    }\n",
       "</style>\n",
       "<table border=\"1\" class=\"dataframe\">\n",
       "  <thead>\n",
       "    <tr style=\"text-align: right;\">\n",
       "      <th></th>\n",
       "      <th>universe_id</th>\n",
       "      <th>universe_training_year</th>\n",
       "      <th>universe_training_size</th>\n",
       "      <th>universe_scale</th>\n",
       "      <th>universe_model</th>\n",
       "      <th>universe_exclude_features</th>\n",
       "      <th>universe_exclude_subgroups</th>\n",
       "      <th>q_hat</th>\n",
       "      <th>coverage</th>\n",
       "      <th>avg_size</th>\n",
       "      <th>cov_frau1</th>\n",
       "      <th>cov_nongerman</th>\n",
       "      <th>cov_nongerman_male</th>\n",
       "      <th>cov_nongerman_female</th>\n",
       "    </tr>\n",
       "  </thead>\n",
       "  <tbody>\n",
       "    <tr>\n",
       "      <th>0</th>\n",
       "      <td>2fb2a4f6834c6c999e46bae5049e6316</td>\n",
       "      <td>2010_14</td>\n",
       "      <td>25k</td>\n",
       "      <td>scale</td>\n",
       "      <td>gbm</td>\n",
       "      <td>age</td>\n",
       "      <td>keep-all</td>\n",
       "      <td>0.686286</td>\n",
       "      <td>0.91166</td>\n",
       "      <td>1.121949</td>\n",
       "      <td>0.909691</td>\n",
       "      <td>0.907708</td>\n",
       "      <td>0.924345</td>\n",
       "      <td>0.880179</td>\n",
       "    </tr>\n",
       "  </tbody>\n",
       "</table>\n",
       "</div>"
      ],
      "text/plain": [
       "                        universe_id universe_training_year  \\\n",
       "0  2fb2a4f6834c6c999e46bae5049e6316                2010_14   \n",
       "\n",
       "  universe_training_size universe_scale universe_model  \\\n",
       "0                    25k          scale            gbm   \n",
       "\n",
       "  universe_exclude_features universe_exclude_subgroups     q_hat  coverage  \\\n",
       "0                       age                   keep-all  0.686286   0.91166   \n",
       "\n",
       "   avg_size  cov_frau1  cov_nongerman  cov_nongerman_male  \\\n",
       "0  1.121949   0.909691       0.907708            0.924345   \n",
       "\n",
       "   cov_nongerman_female  \n",
       "0              0.880179  "
      ]
     },
     "execution_count": 56,
     "metadata": {},
     "output_type": "execute_result"
    }
   ],
   "source": [
    "cp_metrics_df"
   ]
  },
  {
   "cell_type": "markdown",
   "id": "3fc519cc",
   "metadata": {
    "papermill": {
     "duration": 0.013215,
     "end_time": "2025-08-19T18:16:57.988525",
     "exception": false,
     "start_time": "2025-08-19T18:16:57.975310",
     "status": "completed"
    },
    "tags": []
   },
   "source": [
    "# (Fairness) Metrics"
   ]
  },
  {
   "cell_type": "code",
   "execution_count": 57,
   "id": "a2e5e155",
   "metadata": {
    "execution": {
     "iopub.execute_input": "2025-08-19T18:16:58.015725Z",
     "iopub.status.busy": "2025-08-19T18:16:58.014633Z",
     "iopub.status.idle": "2025-08-19T18:16:58.046715Z",
     "shell.execute_reply": "2025-08-19T18:16:58.046030Z"
    },
    "papermill": {
     "duration": 0.048186,
     "end_time": "2025-08-19T18:16:58.048873",
     "exception": false,
     "start_time": "2025-08-19T18:16:58.000687",
     "status": "completed"
    },
    "tags": []
   },
   "outputs": [],
   "source": [
    "colname_to_bin = \"maxdeutsch1\"\n",
    "majority_value = org_train[colname_to_bin].mode()[0]\n",
    "\n",
    "org_test[\"majmin\"] = np.where(org_test[colname_to_bin] == majority_value, \"majority\", \"minority\")"
   ]
  },
  {
   "cell_type": "code",
   "execution_count": 58,
   "id": "17e3e4d5",
   "metadata": {
    "execution": {
     "iopub.execute_input": "2025-08-19T18:16:58.092266Z",
     "iopub.status.busy": "2025-08-19T18:16:58.091228Z",
     "iopub.status.idle": "2025-08-19T18:16:59.816274Z",
     "shell.execute_reply": "2025-08-19T18:16:59.814994Z"
    },
    "papermill": {
     "duration": 1.742155,
     "end_time": "2025-08-19T18:16:59.817900",
     "exception": false,
     "start_time": "2025-08-19T18:16:58.075745",
     "status": "completed"
    },
    "tags": []
   },
   "outputs": [],
   "source": [
    "example_universe = universe.copy()\n",
    "example_universe[\"cutoff\"] = example_universe[\"cutoff\"][0]\n",
    "example_universe[\"eval_fairness_grouping\"] = example_universe[\"eval_fairness_grouping\"][0]\n",
    "fairness_dict, metric_frame = universe_analysis.compute_metrics(\n",
    "    example_universe,\n",
    "    y_pred_prob=probs_test,\n",
    "    y_test=y_true,\n",
    "    org_test=org_test,\n",
    ")"
   ]
  },
  {
   "cell_type": "markdown",
   "id": "1fb7a0e9",
   "metadata": {
    "papermill": {
     "duration": 0.014591,
     "end_time": "2025-08-19T18:16:59.848550",
     "exception": false,
     "start_time": "2025-08-19T18:16:59.833959",
     "status": "completed"
    },
    "tags": []
   },
   "source": [
    "# Overall"
   ]
  },
  {
   "cell_type": "markdown",
   "id": "be1784b1",
   "metadata": {
    "papermill": {
     "duration": 0.01232,
     "end_time": "2025-08-19T18:16:59.872958",
     "exception": false,
     "start_time": "2025-08-19T18:16:59.860638",
     "status": "completed"
    },
    "tags": []
   },
   "source": [
    "Main fairness target: Equalized Odds. Seems to be a better fit than equal opportunity, since we're not only interested in Y = 1. Seems to be a better fit than demographic parity, since we also care about accuracy, not just equal distribution of preds.\n",
    "\n",
    "Pick column for computation of fairness metrics\n",
    "\n",
    "Performance\n",
    "Overall performance measures, most interesting in relation to the measures split by group below"
   ]
  },
  {
   "cell_type": "code",
   "execution_count": 59,
   "id": "b7672bee",
   "metadata": {
    "execution": {
     "iopub.execute_input": "2025-08-19T18:16:59.900922Z",
     "iopub.status.busy": "2025-08-19T18:16:59.899628Z",
     "iopub.status.idle": "2025-08-19T18:16:59.915310Z",
     "shell.execute_reply": "2025-08-19T18:16:59.914208Z"
    },
    "papermill": {
     "duration": 0.032181,
     "end_time": "2025-08-19T18:16:59.916984",
     "exception": false,
     "start_time": "2025-08-19T18:16:59.884803",
     "status": "completed"
    },
    "tags": []
   },
   "outputs": [
    {
     "data": {
      "text/plain": [
       "accuracy                   0.225471\n",
       "balanced accuracy          0.551078\n",
       "f1                         0.246772\n",
       "precision                  0.140973\n",
       "false positive rate        0.886895\n",
       "false negative rate        0.010949\n",
       "selection rate             0.900000\n",
       "count                  89710.000000\n",
       "dtype: float64"
      ]
     },
     "execution_count": 59,
     "metadata": {},
     "output_type": "execute_result"
    }
   ],
   "source": [
    "metric_frame.overall"
   ]
  },
  {
   "cell_type": "markdown",
   "id": "d93333c9",
   "metadata": {
    "papermill": {
     "duration": 0.01243,
     "end_time": "2025-08-19T18:16:59.965634",
     "exception": false,
     "start_time": "2025-08-19T18:16:59.953204",
     "status": "completed"
    },
    "tags": []
   },
   "source": [
    "By Group"
   ]
  },
  {
   "cell_type": "code",
   "execution_count": 60,
   "id": "52256966",
   "metadata": {
    "execution": {
     "iopub.execute_input": "2025-08-19T18:16:59.993929Z",
     "iopub.status.busy": "2025-08-19T18:16:59.992404Z",
     "iopub.status.idle": "2025-08-19T18:17:00.017541Z",
     "shell.execute_reply": "2025-08-19T18:17:00.016537Z"
    },
    "papermill": {
     "duration": 0.041451,
     "end_time": "2025-08-19T18:17:00.019262",
     "exception": false,
     "start_time": "2025-08-19T18:16:59.977811",
     "status": "completed"
    },
    "tags": []
   },
   "outputs": [
    {
     "data": {
      "text/html": [
       "<div>\n",
       "<style scoped>\n",
       "    .dataframe tbody tr th:only-of-type {\n",
       "        vertical-align: middle;\n",
       "    }\n",
       "\n",
       "    .dataframe tbody tr th {\n",
       "        vertical-align: top;\n",
       "    }\n",
       "\n",
       "    .dataframe thead th {\n",
       "        text-align: right;\n",
       "    }\n",
       "</style>\n",
       "<table border=\"1\" class=\"dataframe\">\n",
       "  <thead>\n",
       "    <tr style=\"text-align: right;\">\n",
       "      <th></th>\n",
       "      <th>accuracy</th>\n",
       "      <th>balanced accuracy</th>\n",
       "      <th>f1</th>\n",
       "      <th>precision</th>\n",
       "      <th>false positive rate</th>\n",
       "      <th>false negative rate</th>\n",
       "      <th>selection rate</th>\n",
       "      <th>count</th>\n",
       "    </tr>\n",
       "    <tr>\n",
       "      <th>majmin</th>\n",
       "      <th></th>\n",
       "      <th></th>\n",
       "      <th></th>\n",
       "      <th></th>\n",
       "      <th></th>\n",
       "      <th></th>\n",
       "      <th></th>\n",
       "      <th></th>\n",
       "    </tr>\n",
       "  </thead>\n",
       "  <tbody>\n",
       "    <tr>\n",
       "      <th>majority</th>\n",
       "      <td>0.241159</td>\n",
       "      <td>0.558080</td>\n",
       "      <td>0.256161</td>\n",
       "      <td>0.147139</td>\n",
       "      <td>0.872680</td>\n",
       "      <td>0.011160</td>\n",
       "      <td>0.888029</td>\n",
       "      <td>69170.0</td>\n",
       "    </tr>\n",
       "    <tr>\n",
       "      <th>minority</th>\n",
       "      <td>0.172639</td>\n",
       "      <td>0.528005</td>\n",
       "      <td>0.216216</td>\n",
       "      <td>0.121363</td>\n",
       "      <td>0.933854</td>\n",
       "      <td>0.010135</td>\n",
       "      <td>0.940312</td>\n",
       "      <td>20540.0</td>\n",
       "    </tr>\n",
       "  </tbody>\n",
       "</table>\n",
       "</div>"
      ],
      "text/plain": [
       "          accuracy  balanced accuracy        f1  precision  \\\n",
       "majmin                                                       \n",
       "majority  0.241159           0.558080  0.256161   0.147139   \n",
       "minority  0.172639           0.528005  0.216216   0.121363   \n",
       "\n",
       "          false positive rate  false negative rate  selection rate    count  \n",
       "majmin                                                                       \n",
       "majority             0.872680             0.011160        0.888029  69170.0  \n",
       "minority             0.933854             0.010135        0.940312  20540.0  "
      ]
     },
     "execution_count": 60,
     "metadata": {},
     "output_type": "execute_result"
    }
   ],
   "source": [
    "metric_frame.by_group"
   ]
  },
  {
   "cell_type": "code",
   "execution_count": 61,
   "id": "6e6c20ae",
   "metadata": {
    "execution": {
     "iopub.execute_input": "2025-08-19T18:17:00.046708Z",
     "iopub.status.busy": "2025-08-19T18:17:00.046322Z",
     "iopub.status.idle": "2025-08-19T18:17:01.805146Z",
     "shell.execute_reply": "2025-08-19T18:17:01.804127Z"
    },
    "papermill": {
     "duration": 1.774044,
     "end_time": "2025-08-19T18:17:01.806810",
     "exception": false,
     "start_time": "2025-08-19T18:17:00.032766",
     "status": "completed"
    },
    "tags": []
   },
   "outputs": [
    {
     "data": {
      "text/plain": [
       "array([[<Axes: title={'center': 'accuracy'}, xlabel='majmin'>,\n",
       "        <Axes: title={'center': 'balanced accuracy'}, xlabel='majmin'>,\n",
       "        <Axes: title={'center': 'f1'}, xlabel='majmin'>],\n",
       "       [<Axes: title={'center': 'precision'}, xlabel='majmin'>,\n",
       "        <Axes: title={'center': 'false positive rate'}, xlabel='majmin'>,\n",
       "        <Axes: title={'center': 'false negative rate'}, xlabel='majmin'>],\n",
       "       [<Axes: title={'center': 'selection rate'}, xlabel='majmin'>,\n",
       "        <Axes: title={'center': 'count'}, xlabel='majmin'>,\n",
       "        <Axes: xlabel='majmin'>]], dtype=object)"
      ]
     },
     "execution_count": 61,
     "metadata": {},
     "output_type": "execute_result"
    },
    {
     "data": {
      "image/png": "[encoded data removed]",
      "text/plain": [
       "<Figure size 1200x800 with 9 Axes>"
      ]
     },
     "metadata": {},
     "output_type": "display_data"
    }
   ],
   "source": [
    "# In a graphic\n",
    "metric_frame.by_group.plot.bar(\n",
    "    subplots=True,\n",
    "    layout=[3, 3],\n",
    "    legend=False,\n",
    "    figsize=[12, 8],\n",
    "    title=\"Show all metrics\",\n",
    ")"
   ]
  },
  {
   "cell_type": "markdown",
   "id": "b2e433ae",
   "metadata": {
    "papermill": {
     "duration": 0.013861,
     "end_time": "2025-08-19T18:17:01.835965",
     "exception": false,
     "start_time": "2025-08-19T18:17:01.822104",
     "status": "completed"
    },
    "tags": []
   },
   "source": [
    "# Final Output"
   ]
  },
  {
   "cell_type": "code",
   "execution_count": 62,
   "id": "3871301e",
   "metadata": {
    "execution": {
     "iopub.execute_input": "2025-08-19T18:17:01.872800Z",
     "iopub.status.busy": "2025-08-19T18:17:01.871949Z",
     "iopub.status.idle": "2025-08-19T18:17:01.881154Z",
     "shell.execute_reply": "2025-08-19T18:17:01.880404Z"
    },
    "papermill": {
     "duration": 0.027598,
     "end_time": "2025-08-19T18:17:01.882992",
     "exception": false,
     "start_time": "2025-08-19T18:17:01.855394",
     "status": "completed"
    },
    "tags": []
   },
   "outputs": [
    {
     "data": {
      "text/plain": [
       "4"
      ]
     },
     "execution_count": 62,
     "metadata": {},
     "output_type": "execute_result"
    }
   ],
   "source": [
    "sub_universes = universe_analysis.generate_sub_universes()\n",
    "len(sub_universes)"
   ]
  },
  {
   "cell_type": "code",
   "execution_count": 63,
   "id": "d9cfdaca",
   "metadata": {
    "execution": {
     "iopub.execute_input": "2025-08-19T18:17:01.912841Z",
     "iopub.status.busy": "2025-08-19T18:17:01.912455Z",
     "iopub.status.idle": "2025-08-19T18:17:01.931646Z",
     "shell.execute_reply": "2025-08-19T18:17:01.930583Z"
    },
    "papermill": {
     "duration": 0.036352,
     "end_time": "2025-08-19T18:17:01.933319",
     "exception": false,
     "start_time": "2025-08-19T18:17:01.896967",
     "status": "completed"
    },
    "tags": []
   },
   "outputs": [],
   "source": [
    "def filter_sub_universe_data(sub_universe, org_test):\n",
    "    # Keep all rows — no filtering\n",
    "    keep_rows_mask = np.ones(org_test.shape[0], dtype=bool)\n",
    "\n",
    "    print(f\"[INFO] Keeping all rows: {keep_rows_mask.sum()} rows retained.\")\n",
    "    return keep_rows_mask"
   ]
  },
  {
   "cell_type": "code",
   "execution_count": 64,
   "id": "2bc31ac1",
   "metadata": {
    "execution": {
     "iopub.execute_input": "2025-08-19T18:17:01.967758Z",
     "iopub.status.busy": "2025-08-19T18:17:01.966675Z",
     "iopub.status.idle": "2025-08-19T18:17:08.597737Z",
     "shell.execute_reply": "2025-08-19T18:17:08.596741Z"
    },
    "papermill": {
     "duration": 6.647875,
     "end_time": "2025-08-19T18:17:08.599035",
     "exception": false,
     "start_time": "2025-08-19T18:17:01.951160",
     "status": "completed"
    },
    "tags": []
   },
   "outputs": [
    {
     "name": "stdout",
     "output_type": "stream",
     "text": [
      "Stopping execution_time clock.\n",
      "[INFO] Keeping all rows: 89710 rows retained.\n"
     ]
    },
    {
     "name": "stdout",
     "output_type": "stream",
     "text": [
      "[INFO] Keeping all rows: 89710 rows retained.\n"
     ]
    },
    {
     "name": "stdout",
     "output_type": "stream",
     "text": [
      "[INFO] Keeping all rows: 89710 rows retained.\n"
     ]
    },
    {
     "name": "stdout",
     "output_type": "stream",
     "text": [
      "[INFO] Keeping all rows: 89710 rows retained.\n"
     ]
    },
    {
     "data": {
      "text/html": [
       "<div>\n",
       "<style scoped>\n",
       "    .dataframe tbody tr th:only-of-type {\n",
       "        vertical-align: middle;\n",
       "    }\n",
       "\n",
       "    .dataframe tbody tr th {\n",
       "        vertical-align: top;\n",
       "    }\n",
       "\n",
       "    .dataframe thead th {\n",
       "        text-align: right;\n",
       "    }\n",
       "</style>\n",
       "<table border=\"1\" class=\"dataframe\">\n",
       "  <thead>\n",
       "    <tr style=\"text-align: right;\">\n",
       "      <th></th>\n",
       "      <th>run_no</th>\n",
       "      <th>universe_id</th>\n",
       "      <th>universe_settings</th>\n",
       "      <th>execution_time</th>\n",
       "      <th>test_size_n</th>\n",
       "      <th>test_size_frac</th>\n",
       "      <th>fair_main_equalized_odds_difference</th>\n",
       "      <th>fair_main_equalized_odds_ratio</th>\n",
       "      <th>fair_main_demographic_parity_difference</th>\n",
       "      <th>fair_main_demographic_parity_ratio</th>\n",
       "      <th>...</th>\n",
       "      <th>perf_grp_precision_0</th>\n",
       "      <th>perf_grp_precision_1</th>\n",
       "      <th>perf_grp_false positive rate_0</th>\n",
       "      <th>perf_grp_false positive rate_1</th>\n",
       "      <th>perf_grp_false negative rate_0</th>\n",
       "      <th>perf_grp_false negative rate_1</th>\n",
       "      <th>perf_grp_selection rate_0</th>\n",
       "      <th>perf_grp_selection rate_1</th>\n",
       "      <th>perf_grp_count_0</th>\n",
       "      <th>perf_grp_count_1</th>\n",
       "    </tr>\n",
       "  </thead>\n",
       "  <tbody>\n",
       "    <tr>\n",
       "      <th>0</th>\n",
       "      <td>3</td>\n",
       "      <td>2fb2a4f6834c6c999e46bae5049e6316</td>\n",
       "      <td>{\"cutoff\": \"quantile_0.1\", \"eval_fairness_grou...</td>\n",
       "      <td>45.194569</td>\n",
       "      <td>89710</td>\n",
       "      <td>1.0</td>\n",
       "      <td>0.061174</td>\n",
       "      <td>0.934493</td>\n",
       "      <td>0.052282</td>\n",
       "      <td>0.944399</td>\n",
       "      <td>...</td>\n",
       "      <td>NaN</td>\n",
       "      <td>NaN</td>\n",
       "      <td>NaN</td>\n",
       "      <td>NaN</td>\n",
       "      <td>NaN</td>\n",
       "      <td>NaN</td>\n",
       "      <td>NaN</td>\n",
       "      <td>NaN</td>\n",
       "      <td>NaN</td>\n",
       "      <td>NaN</td>\n",
       "    </tr>\n",
       "    <tr>\n",
       "      <th>0</th>\n",
       "      <td>3</td>\n",
       "      <td>2fb2a4f6834c6c999e46bae5049e6316</td>\n",
       "      <td>{\"cutoff\": \"quantile_0.1\", \"eval_fairness_grou...</td>\n",
       "      <td>45.194569</td>\n",
       "      <td>89710</td>\n",
       "      <td>1.0</td>\n",
       "      <td>0.061174</td>\n",
       "      <td>0.934493</td>\n",
       "      <td>0.052282</td>\n",
       "      <td>0.944399</td>\n",
       "      <td>...</td>\n",
       "      <td>0.121363</td>\n",
       "      <td>0.147139</td>\n",
       "      <td>0.933854</td>\n",
       "      <td>0.872680</td>\n",
       "      <td>0.010135</td>\n",
       "      <td>0.011160</td>\n",
       "      <td>0.940312</td>\n",
       "      <td>0.888029</td>\n",
       "      <td>20540.0</td>\n",
       "      <td>69170.0</td>\n",
       "    </tr>\n",
       "    <tr>\n",
       "      <th>0</th>\n",
       "      <td>3</td>\n",
       "      <td>2fb2a4f6834c6c999e46bae5049e6316</td>\n",
       "      <td>{\"cutoff\": \"quantile_0.25\", \"eval_fairness_gro...</td>\n",
       "      <td>45.194569</td>\n",
       "      <td>89710</td>\n",
       "      <td>1.0</td>\n",
       "      <td>0.133523</td>\n",
       "      <td>0.837809</td>\n",
       "      <td>0.114422</td>\n",
       "      <td>0.863494</td>\n",
       "      <td>...</td>\n",
       "      <td>NaN</td>\n",
       "      <td>NaN</td>\n",
       "      <td>NaN</td>\n",
       "      <td>NaN</td>\n",
       "      <td>NaN</td>\n",
       "      <td>NaN</td>\n",
       "      <td>NaN</td>\n",
       "      <td>NaN</td>\n",
       "      <td>NaN</td>\n",
       "      <td>NaN</td>\n",
       "    </tr>\n",
       "    <tr>\n",
       "      <th>0</th>\n",
       "      <td>3</td>\n",
       "      <td>2fb2a4f6834c6c999e46bae5049e6316</td>\n",
       "      <td>{\"cutoff\": \"quantile_0.25\", \"eval_fairness_gro...</td>\n",
       "      <td>45.194569</td>\n",
       "      <td>89710</td>\n",
       "      <td>1.0</td>\n",
       "      <td>0.133523</td>\n",
       "      <td>0.837809</td>\n",
       "      <td>0.114422</td>\n",
       "      <td>0.863494</td>\n",
       "      <td>...</td>\n",
       "      <td>0.131091</td>\n",
       "      <td>0.172995</td>\n",
       "      <td>0.823245</td>\n",
       "      <td>0.689722</td>\n",
       "      <td>0.046875</td>\n",
       "      <td>0.052407</td>\n",
       "      <td>0.838218</td>\n",
       "      <td>0.723796</td>\n",
       "      <td>20540.0</td>\n",
       "      <td>69170.0</td>\n",
       "    </tr>\n",
       "  </tbody>\n",
       "</table>\n",
       "<p>4 rows × 50 columns</p>\n",
       "</div>"
      ],
      "text/plain": [
       "  run_no                       universe_id  \\\n",
       "0      3  2fb2a4f6834c6c999e46bae5049e6316   \n",
       "0      3  2fb2a4f6834c6c999e46bae5049e6316   \n",
       "0      3  2fb2a4f6834c6c999e46bae5049e6316   \n",
       "0      3  2fb2a4f6834c6c999e46bae5049e6316   \n",
       "\n",
       "                                   universe_settings  execution_time  \\\n",
       "0  {\"cutoff\": \"quantile_0.1\", \"eval_fairness_grou...       45.194569   \n",
       "0  {\"cutoff\": \"quantile_0.1\", \"eval_fairness_grou...       45.194569   \n",
       "0  {\"cutoff\": \"quantile_0.25\", \"eval_fairness_gro...       45.194569   \n",
       "0  {\"cutoff\": \"quantile_0.25\", \"eval_fairness_gro...       45.194569   \n",
       "\n",
       "   test_size_n  test_size_frac  fair_main_equalized_odds_difference  \\\n",
       "0        89710             1.0                             0.061174   \n",
       "0        89710             1.0                             0.061174   \n",
       "0        89710             1.0                             0.133523   \n",
       "0        89710             1.0                             0.133523   \n",
       "\n",
       "   fair_main_equalized_odds_ratio  fair_main_demographic_parity_difference  \\\n",
       "0                        0.934493                                 0.052282   \n",
       "0                        0.934493                                 0.052282   \n",
       "0                        0.837809                                 0.114422   \n",
       "0                        0.837809                                 0.114422   \n",
       "\n",
       "   fair_main_demographic_parity_ratio  ...  perf_grp_precision_0  \\\n",
       "0                            0.944399  ...                   NaN   \n",
       "0                            0.944399  ...              0.121363   \n",
       "0                            0.863494  ...                   NaN   \n",
       "0                            0.863494  ...              0.131091   \n",
       "\n",
       "   perf_grp_precision_1  perf_grp_false positive rate_0  \\\n",
       "0                   NaN                             NaN   \n",
       "0              0.147139                        0.933854   \n",
       "0                   NaN                             NaN   \n",
       "0              0.172995                        0.823245   \n",
       "\n",
       "   perf_grp_false positive rate_1  perf_grp_false negative rate_0  \\\n",
       "0                             NaN                             NaN   \n",
       "0                        0.872680                        0.010135   \n",
       "0                             NaN                             NaN   \n",
       "0                        0.689722                        0.046875   \n",
       "\n",
       "   perf_grp_false negative rate_1  perf_grp_selection rate_0  \\\n",
       "0                             NaN                        NaN   \n",
       "0                        0.011160                   0.940312   \n",
       "0                             NaN                        NaN   \n",
       "0                        0.052407                   0.838218   \n",
       "\n",
       "   perf_grp_selection rate_1  perf_grp_count_0  perf_grp_count_1  \n",
       "0                        NaN               NaN               NaN  \n",
       "0                   0.888029           20540.0           69170.0  \n",
       "0                        NaN               NaN               NaN  \n",
       "0                   0.723796           20540.0           69170.0  \n",
       "\n",
       "[4 rows x 50 columns]"
      ]
     },
     "execution_count": 64,
     "metadata": {},
     "output_type": "execute_result"
    }
   ],
   "source": [
    "final_output = universe_analysis.generate_final_output(\n",
    "    y_pred_prob=probs_test,\n",
    "    y_test=y_true,\n",
    "    org_test=org_test,\n",
    "    filter_data=filter_sub_universe_data,\n",
    "    cp_metrics_df=cp_metrics_df,\n",
    "    save=True,\n",
    ")\n",
    "final_output"
   ]
  },
  {
   "cell_type": "code",
   "execution_count": null,
   "id": "8b80a1ff",
   "metadata": {
    "papermill": {
     "duration": 0.023286,
     "end_time": "2025-08-19T18:17:08.648040",
     "exception": false,
     "start_time": "2025-08-19T18:17:08.624754",
     "status": "completed"
    },
    "tags": []
   },
   "outputs": [],
   "source": []
  },
  {
   "cell_type": "code",
   "execution_count": null,
   "id": "275c9fad",
   "metadata": {
    "papermill": {
     "duration": 0.014394,
     "end_time": "2025-08-19T18:17:08.677820",
     "exception": false,
     "start_time": "2025-08-19T18:17:08.663426",
     "status": "completed"
    },
    "tags": []
   },
   "outputs": [],
   "source": []
  }
 ],
 "metadata": {
  "celltoolbar": "Tags",
  "kernelspec": {
   "display_name": "Python (CMA Fairness)",
   "language": "python",
   "name": "cma_fair_env"
  },
  "language_info": {
   "codemirror_mode": {
    "name": "ipython",
    "version": 3
   },
   "file_extension": ".py",
   "mimetype": "text/x-python",
   "name": "python",
   "nbconvert_exporter": "python",
   "pygments_lexer": "ipython3",
   "version": "3.10.12"
  },
  "papermill": {
   "default_parameters": {},
   "duration": 55.578689,
   "end_time": "2025-08-19T18:17:09.414008",
   "environment_variables": {},
   "exception": null,
   "input_path": "universe_analysis.ipynb",
   "output_path": "output/runs/3/notebooks/m_3-2fb2a4f6834c6c999e46bae5049e6316.ipynb",
   "parameters": {
    "output_dir": "output",
    "run_no": "3",
    "seed": "2023",
    "universe": "{\"cutoff\": [\"quantile_0.1\", \"quantile_0.25\"], \"eval_fairness_grouping\": [\"majority-minority\", \"nationality-all\"], \"exclude_features\": \"age\", \"exclude_subgroups\": \"keep-all\", \"model\": \"gbm\", \"scale\": \"scale\", \"training_size\": \"25k\", \"training_year\": \"2010_14\"}",
    "universe_id": "2fb2a4f6834c6c999e46bae5049e6316"
   },
   "start_time": "2025-08-19T18:16:13.835319",
   "version": "2.6.0"
  }
 },
 "nbformat": 4,
 "nbformat_minor": 5
}