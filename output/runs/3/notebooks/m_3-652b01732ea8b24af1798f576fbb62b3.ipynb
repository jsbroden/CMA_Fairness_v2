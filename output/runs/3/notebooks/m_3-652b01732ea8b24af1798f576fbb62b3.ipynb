{
 "cells": [
  {
   "cell_type": "markdown",
   "id": "ef23dbb3",
   "metadata": {
    "papermill": {
     "duration": 0.021588,
     "end_time": "2025-08-19T18:44:28.899679",
     "exception": false,
     "start_time": "2025-08-19T18:44:28.878091",
     "status": "completed"
    },
    "tags": []
   },
   "source": [
    "# Setup"
   ]
  },
  {
   "cell_type": "code",
   "execution_count": 1,
   "id": "0bc8e7dc",
   "metadata": {
    "execution": {
     "iopub.execute_input": "2025-08-19T18:44:28.923043Z",
     "iopub.status.busy": "2025-08-19T18:44:28.921919Z",
     "iopub.status.idle": "2025-08-19T18:44:28.946553Z",
     "shell.execute_reply": "2025-08-19T18:44:28.945632Z"
    },
    "papermill": {
     "duration": 0.038726,
     "end_time": "2025-08-19T18:44:28.949991",
     "exception": false,
     "start_time": "2025-08-19T18:44:28.911265",
     "status": "completed"
    },
    "tags": []
   },
   "outputs": [
    {
     "name": "stdout",
     "output_type": "stream",
     "text": [
      "/dss/dsshome1/0C/ra93lal2/cma/CMA_Fairness_v2\n"
     ]
    },
    {
     "name": "stderr",
     "output_type": "stream",
     "text": [
      "/dss/dsshome1/0C/ra93lal2/.local/share/virtualenvs/CMA_Fairness_v2-3j10GkSs/lib/python3.10/site-packages/IPython/core/magics/osm.py:393: UserWarning: This is now an optional IPython functionality, using bookmarks requires you to install the `pickleshare` library.\n",
      "  bkms = self.shell.db.get('bookmarks', {})\n",
      "/dss/dsshome1/0C/ra93lal2/.local/share/virtualenvs/CMA_Fairness_v2-3j10GkSs/lib/python3.10/site-packages/IPython/core/magics/osm.py:417: UserWarning: This is now an optional IPython functionality, setting dhist requires you to install the `pickleshare` library.\n",
      "  self.shell.db['dhist'] = compress_dhist(dhist)[-100:]\n"
     ]
    }
   ],
   "source": [
    "%cd ~/cma/CMA_Fairness_v2"
   ]
  },
  {
   "cell_type": "markdown",
   "id": "9d235661",
   "metadata": {
    "papermill": {
     "duration": 0.010447,
     "end_time": "2025-08-19T18:44:28.978387",
     "exception": false,
     "start_time": "2025-08-19T18:44:28.967940",
     "status": "completed"
    },
    "tags": []
   },
   "source": [
    "The following cell holds the definition of our parameters, these values can be overriden by rendering the with e.g. the following command:\n",
    "\n",
    "papermill -p alpha 0.2 -p ratio 0.3 universe_analysis.ipynb output/test_run.ipynb"
   ]
  },
  {
   "cell_type": "code",
   "execution_count": 2,
   "id": "4a789d8e",
   "metadata": {
    "execution": {
     "iopub.execute_input": "2025-08-19T18:44:28.997582Z",
     "iopub.status.busy": "2025-08-19T18:44:28.997300Z",
     "iopub.status.idle": "2025-08-19T18:44:29.001081Z",
     "shell.execute_reply": "2025-08-19T18:44:29.000518Z"
    },
    "papermill": {
     "duration": 0.014847,
     "end_time": "2025-08-19T18:44:29.002070",
     "exception": false,
     "start_time": "2025-08-19T18:44:28.987223",
     "status": "completed"
    },
    "tags": []
   },
   "outputs": [
    {
     "name": "stdout",
     "output_type": "stream",
     "text": [
      "Current working directory: /dss/dsshome1/0C/ra93lal2/cma/CMA_Fairness_v2\n"
     ]
    }
   ],
   "source": [
    "import os\n",
    "print(\"Current working directory:\", os.getcwd())"
   ]
  },
  {
   "cell_type": "code",
   "execution_count": 3,
   "id": "4132aaed",
   "metadata": {
    "execution": {
     "iopub.execute_input": "2025-08-19T18:44:29.021199Z",
     "iopub.status.busy": "2025-08-19T18:44:29.020864Z",
     "iopub.status.idle": "2025-08-19T18:44:29.025908Z",
     "shell.execute_reply": "2025-08-19T18:44:29.025191Z"
    },
    "papermill": {
     "duration": 0.016082,
     "end_time": "2025-08-19T18:44:29.027077",
     "exception": false,
     "start_time": "2025-08-19T18:44:29.010995",
     "status": "completed"
    },
    "tags": [
     "parameters"
    ]
   },
   "outputs": [],
   "source": [
    "run_no = 0\n",
    "universe_id = \"test\"\n",
    "universe = {\n",
    "    \"training_size\": \"5k\", # \"25k\", \"5k\", \"1k\"\n",
    "    \"training_year\": \"2012_14\", # \"2014\", \"2012_14\", \"2010_14\"\n",
    "    \"scale\": \"scale\", # \"scale\", \"do-not-scale\",\n",
    "    \"model\": \"elasticnet\", # \"logreg\", \"penalized_logreg\", \"rf\", \"gbm\", \"elasticnet\"\n",
    "    \"cutoff\": [\"quantile_0.15\", \"quantile_0.30\"],\n",
    "    \"exclude_features\": \"age\", # \"none\", \"nationality\", \"sex\", \"nationality-sex\", \"age\"\n",
    "    \"exclude_subgroups\": \"drop-non-german\", # \"keep-all\", \"drop-non-german\"\n",
    "    \"eval_fairness_grouping\": [\"majority-minority\", \"nationality-all\"]\n",
    "}\n",
    "\n",
    "output_dir=\"./output\"\n",
    "seed=0"
   ]
  },
  {
   "cell_type": "code",
   "execution_count": 4,
   "id": "3cd68768",
   "metadata": {
    "execution": {
     "iopub.execute_input": "2025-08-19T18:44:29.047870Z",
     "iopub.status.busy": "2025-08-19T18:44:29.047146Z",
     "iopub.status.idle": "2025-08-19T18:44:29.056318Z",
     "shell.execute_reply": "2025-08-19T18:44:29.053982Z"
    },
    "papermill": {
     "duration": 0.021694,
     "end_time": "2025-08-19T18:44:29.058258",
     "exception": false,
     "start_time": "2025-08-19T18:44:29.036564",
     "status": "completed"
    },
    "tags": [
     "injected-parameters"
    ]
   },
   "outputs": [],
   "source": [
    "# Parameters\n",
    "universe_id = \"652b01732ea8b24af1798f576fbb62b3\"\n",
    "run_no = \"3\"\n",
    "universe = \"{\\\"cutoff\\\": [\\\"quantile_0.1\\\", \\\"quantile_0.25\\\"], \\\"eval_fairness_grouping\\\": [\\\"majority-minority\\\", \\\"nationality-all\\\"], \\\"exclude_features\\\": \\\"nationality\\\", \\\"exclude_subgroups\\\": \\\"keep-all\\\", \\\"model\\\": \\\"logreg\\\", \\\"scale\\\": \\\"do-not-scale\\\", \\\"training_size\\\": \\\"5k\\\", \\\"training_year\\\": \\\"2010_14\\\"}\"\n",
    "output_dir = \"output\"\n",
    "seed = \"2023\"\n"
   ]
  },
  {
   "cell_type": "code",
   "execution_count": 5,
   "id": "a5d7941f",
   "metadata": {
    "execution": {
     "iopub.execute_input": "2025-08-19T18:44:29.081264Z",
     "iopub.status.busy": "2025-08-19T18:44:29.080968Z",
     "iopub.status.idle": "2025-08-19T18:44:29.084690Z",
     "shell.execute_reply": "2025-08-19T18:44:29.083788Z"
    },
    "papermill": {
     "duration": 0.014849,
     "end_time": "2025-08-19T18:44:29.085697",
     "exception": false,
     "start_time": "2025-08-19T18:44:29.070848",
     "status": "completed"
    },
    "tags": []
   },
   "outputs": [],
   "source": [
    "import json\n",
    "if isinstance(universe, str):\n",
    "    universe = json.loads(universe)"
   ]
  },
  {
   "cell_type": "code",
   "execution_count": 6,
   "id": "7076ccb1",
   "metadata": {
    "execution": {
     "iopub.execute_input": "2025-08-19T18:44:29.106557Z",
     "iopub.status.busy": "2025-08-19T18:44:29.106218Z",
     "iopub.status.idle": "2025-08-19T18:44:29.148490Z",
     "shell.execute_reply": "2025-08-19T18:44:29.147832Z"
    },
    "papermill": {
     "duration": 0.058134,
     "end_time": "2025-08-19T18:44:29.153898",
     "exception": false,
     "start_time": "2025-08-19T18:44:29.095764",
     "status": "completed"
    },
    "tags": []
   },
   "outputs": [],
   "source": [
    "# Auto-reload the custom package\n",
    "%load_ext autoreload\n",
    "%autoreload 1\n",
    "%aimport fairness_multiverse"
   ]
  },
  {
   "cell_type": "code",
   "execution_count": 7,
   "id": "94c8eb93",
   "metadata": {
    "execution": {
     "iopub.execute_input": "2025-08-19T18:44:29.191907Z",
     "iopub.status.busy": "2025-08-19T18:44:29.188244Z",
     "iopub.status.idle": "2025-08-19T18:44:30.750063Z",
     "shell.execute_reply": "2025-08-19T18:44:30.749235Z"
    },
    "papermill": {
     "duration": 1.578294,
     "end_time": "2025-08-19T18:44:30.751766",
     "exception": false,
     "start_time": "2025-08-19T18:44:29.173472",
     "status": "completed"
    },
    "tags": []
   },
   "outputs": [],
   "source": [
    "from fairness_multiverse.universe import UniverseAnalysis\n",
    "\n",
    "universe_analysis = UniverseAnalysis(\n",
    "    run_no = run_no,\n",
    "    universe_id = universe_id,\n",
    "    universe = universe,\n",
    "    output_dir=output_dir,\n",
    ")"
   ]
  },
  {
   "cell_type": "code",
   "execution_count": 8,
   "id": "2a6381cf",
   "metadata": {
    "execution": {
     "iopub.execute_input": "2025-08-19T18:44:30.772879Z",
     "iopub.status.busy": "2025-08-19T18:44:30.771866Z",
     "iopub.status.idle": "2025-08-19T18:44:30.781411Z",
     "shell.execute_reply": "2025-08-19T18:44:30.779830Z"
    },
    "papermill": {
     "duration": 0.021608,
     "end_time": "2025-08-19T18:44:30.782788",
     "exception": false,
     "start_time": "2025-08-19T18:44:30.761180",
     "status": "completed"
    },
    "tags": []
   },
   "outputs": [
    {
     "name": "stdout",
     "output_type": "stream",
     "text": [
      "Using Seed: 2023\n"
     ]
    }
   ],
   "source": [
    "import numpy as np\n",
    "parsed_seed = int(seed)\n",
    "np.random.seed(parsed_seed)\n",
    "print(f\"Using Seed: {parsed_seed}\")"
   ]
  },
  {
   "cell_type": "markdown",
   "id": "b6e958b4",
   "metadata": {
    "papermill": {
     "duration": 0.009468,
     "end_time": "2025-08-19T18:44:30.802839",
     "exception": false,
     "start_time": "2025-08-19T18:44:30.793371",
     "status": "completed"
    },
    "tags": []
   },
   "source": [
    "# Loading Data"
   ]
  },
  {
   "cell_type": "code",
   "execution_count": 9,
   "id": "98701482",
   "metadata": {
    "execution": {
     "iopub.execute_input": "2025-08-19T18:44:30.824158Z",
     "iopub.status.busy": "2025-08-19T18:44:30.823073Z",
     "iopub.status.idle": "2025-08-19T18:44:40.682753Z",
     "shell.execute_reply": "2025-08-19T18:44:40.681879Z"
    },
    "papermill": {
     "duration": 9.872066,
     "end_time": "2025-08-19T18:44:40.683867",
     "exception": false,
     "start_time": "2025-08-19T18:44:30.811801",
     "status": "completed"
    },
    "tags": []
   },
   "outputs": [
    {
     "name": "stdout",
     "output_type": "stream",
     "text": [
      "Loading SIAB data from cache: data/siab_cached.csv.gz\n"
     ]
    },
    {
     "name": "stdout",
     "output_type": "stream",
     "text": [
      "(643690, 164)\n"
     ]
    }
   ],
   "source": [
    "from pathlib import Path\n",
    "import pandas as pd\n",
    "\n",
    "# File paths\n",
    "raw_file = Path(\"data/raw/siab.csv\")\n",
    "cache_file = Path(\"data/siab_cached.csv.gz\")\n",
    "\n",
    "# Ensure cache directory exists\n",
    "cache_file.parent.mkdir(parents=True, exist_ok=True)\n",
    "\n",
    "# Load with simple caching\n",
    "if cache_file.exists():\n",
    "    print(f\"Loading SIAB data from cache: {cache_file}\")\n",
    "    siab = pd.read_csv(cache_file, compression='gzip')\n",
    "else:\n",
    "    print(f\"Cache not found. Reading raw SIAB data: {raw_file}\")\n",
    "    siab = pd.read_csv(raw_file)\n",
    "    siab.to_csv(cache_file, index=False, compression='gzip')\n",
    "    print(f\"Cached SIAB data to: {cache_file}\")\n",
    "\n",
    "print(siab.shape)"
   ]
  },
  {
   "cell_type": "code",
   "execution_count": 10,
   "id": "058d2abb",
   "metadata": {
    "execution": {
     "iopub.execute_input": "2025-08-19T18:44:40.707980Z",
     "iopub.status.busy": "2025-08-19T18:44:40.707227Z",
     "iopub.status.idle": "2025-08-19T18:44:40.906659Z",
     "shell.execute_reply": "2025-08-19T18:44:40.905968Z"
    },
    "papermill": {
     "duration": 0.211703,
     "end_time": "2025-08-19T18:44:40.907849",
     "exception": false,
     "start_time": "2025-08-19T18:44:40.696146",
     "status": "completed"
    },
    "tags": []
   },
   "outputs": [
    {
     "data": {
      "text/html": [
       "<div>\n",
       "<style scoped>\n",
       "    .dataframe tbody tr th:only-of-type {\n",
       "        vertical-align: middle;\n",
       "    }\n",
       "\n",
       "    .dataframe tbody tr th {\n",
       "        vertical-align: top;\n",
       "    }\n",
       "\n",
       "    .dataframe thead th {\n",
       "        text-align: right;\n",
       "    }\n",
       "</style>\n",
       "<table border=\"1\" class=\"dataframe\">\n",
       "  <thead>\n",
       "    <tr style=\"text-align: right;\">\n",
       "      <th></th>\n",
       "      <th>persnr</th>\n",
       "      <th>year</th>\n",
       "      <th>nrEntry</th>\n",
       "      <th>ltue</th>\n",
       "      <th>employed_before</th>\n",
       "      <th>receipt_leh_before</th>\n",
       "      <th>receipt_lhg_before</th>\n",
       "      <th>se_before</th>\n",
       "      <th>ASU_notue_seeking_before</th>\n",
       "      <th>ASU_other_before</th>\n",
       "      <th>...</th>\n",
       "      <th>minijob_tot_dur_byage</th>\n",
       "      <th>ft_tot_dur_byage</th>\n",
       "      <th>befrist_tot_dur_byage</th>\n",
       "      <th>leih_tot_dur_byage</th>\n",
       "      <th>LHG_tot_dur_byage</th>\n",
       "      <th>LEH_tot_dur_byage</th>\n",
       "      <th>almp_tot_dur_byage</th>\n",
       "      <th>almp_aw_tot_dur_byage</th>\n",
       "      <th>se_tot_dur_byage</th>\n",
       "      <th>seeking1_tot_dur_byage</th>\n",
       "    </tr>\n",
       "  </thead>\n",
       "  <tbody>\n",
       "    <tr>\n",
       "      <th>0</th>\n",
       "      <td>7</td>\n",
       "      <td>2015</td>\n",
       "      <td>1</td>\n",
       "      <td>0</td>\n",
       "      <td>1</td>\n",
       "      <td>0</td>\n",
       "      <td>0</td>\n",
       "      <td>0</td>\n",
       "      <td>1</td>\n",
       "      <td>0</td>\n",
       "      <td>...</td>\n",
       "      <td>0.000000</td>\n",
       "      <td>0.000000</td>\n",
       "      <td>15.043478</td>\n",
       "      <td>0.000000</td>\n",
       "      <td>0.000000</td>\n",
       "      <td>0.000000</td>\n",
       "      <td>0.000000</td>\n",
       "      <td>0.000000</td>\n",
       "      <td>0.000000</td>\n",
       "      <td>0.000000</td>\n",
       "    </tr>\n",
       "    <tr>\n",
       "      <th>1</th>\n",
       "      <td>18</td>\n",
       "      <td>2010</td>\n",
       "      <td>1</td>\n",
       "      <td>1</td>\n",
       "      <td>0</td>\n",
       "      <td>0</td>\n",
       "      <td>0</td>\n",
       "      <td>0</td>\n",
       "      <td>0</td>\n",
       "      <td>0</td>\n",
       "      <td>...</td>\n",
       "      <td>0.000000</td>\n",
       "      <td>0.000000</td>\n",
       "      <td>0.000000</td>\n",
       "      <td>0.000000</td>\n",
       "      <td>0.000000</td>\n",
       "      <td>0.000000</td>\n",
       "      <td>0.000000</td>\n",
       "      <td>0.000000</td>\n",
       "      <td>0.000000</td>\n",
       "      <td>0.000000</td>\n",
       "    </tr>\n",
       "    <tr>\n",
       "      <th>2</th>\n",
       "      <td>18</td>\n",
       "      <td>2011</td>\n",
       "      <td>2</td>\n",
       "      <td>0</td>\n",
       "      <td>1</td>\n",
       "      <td>0</td>\n",
       "      <td>1</td>\n",
       "      <td>0</td>\n",
       "      <td>1</td>\n",
       "      <td>0</td>\n",
       "      <td>...</td>\n",
       "      <td>2.714286</td>\n",
       "      <td>2.714286</td>\n",
       "      <td>0.000000</td>\n",
       "      <td>0.000000</td>\n",
       "      <td>10.775510</td>\n",
       "      <td>0.000000</td>\n",
       "      <td>8.367347</td>\n",
       "      <td>0.000000</td>\n",
       "      <td>0.000000</td>\n",
       "      <td>9.836735</td>\n",
       "    </tr>\n",
       "    <tr>\n",
       "      <th>3</th>\n",
       "      <td>18</td>\n",
       "      <td>2012</td>\n",
       "      <td>3</td>\n",
       "      <td>0</td>\n",
       "      <td>1</td>\n",
       "      <td>0</td>\n",
       "      <td>1</td>\n",
       "      <td>0</td>\n",
       "      <td>1</td>\n",
       "      <td>0</td>\n",
       "      <td>...</td>\n",
       "      <td>4.200000</td>\n",
       "      <td>4.200000</td>\n",
       "      <td>0.000000</td>\n",
       "      <td>0.000000</td>\n",
       "      <td>12.100000</td>\n",
       "      <td>0.000000</td>\n",
       "      <td>9.400000</td>\n",
       "      <td>0.000000</td>\n",
       "      <td>0.000000</td>\n",
       "      <td>9.960000</td>\n",
       "    </tr>\n",
       "    <tr>\n",
       "      <th>4</th>\n",
       "      <td>18</td>\n",
       "      <td>2012</td>\n",
       "      <td>4</td>\n",
       "      <td>0</td>\n",
       "      <td>1</td>\n",
       "      <td>0</td>\n",
       "      <td>1</td>\n",
       "      <td>0</td>\n",
       "      <td>1</td>\n",
       "      <td>0</td>\n",
       "      <td>...</td>\n",
       "      <td>5.460000</td>\n",
       "      <td>5.460000</td>\n",
       "      <td>0.000000</td>\n",
       "      <td>0.000000</td>\n",
       "      <td>13.360000</td>\n",
       "      <td>0.000000</td>\n",
       "      <td>10.320000</td>\n",
       "      <td>0.000000</td>\n",
       "      <td>0.000000</td>\n",
       "      <td>10.280000</td>\n",
       "    </tr>\n",
       "    <tr>\n",
       "      <th>...</th>\n",
       "      <td>...</td>\n",
       "      <td>...</td>\n",
       "      <td>...</td>\n",
       "      <td>...</td>\n",
       "      <td>...</td>\n",
       "      <td>...</td>\n",
       "      <td>...</td>\n",
       "      <td>...</td>\n",
       "      <td>...</td>\n",
       "      <td>...</td>\n",
       "      <td>...</td>\n",
       "      <td>...</td>\n",
       "      <td>...</td>\n",
       "      <td>...</td>\n",
       "      <td>...</td>\n",
       "      <td>...</td>\n",
       "      <td>...</td>\n",
       "      <td>...</td>\n",
       "      <td>...</td>\n",
       "      <td>...</td>\n",
       "      <td>...</td>\n",
       "    </tr>\n",
       "    <tr>\n",
       "      <th>643685</th>\n",
       "      <td>1827860</td>\n",
       "      <td>2013</td>\n",
       "      <td>1</td>\n",
       "      <td>0</td>\n",
       "      <td>0</td>\n",
       "      <td>0</td>\n",
       "      <td>1</td>\n",
       "      <td>0</td>\n",
       "      <td>0</td>\n",
       "      <td>1</td>\n",
       "      <td>...</td>\n",
       "      <td>0.000000</td>\n",
       "      <td>0.000000</td>\n",
       "      <td>0.000000</td>\n",
       "      <td>0.000000</td>\n",
       "      <td>0.612903</td>\n",
       "      <td>0.000000</td>\n",
       "      <td>0.000000</td>\n",
       "      <td>0.000000</td>\n",
       "      <td>0.000000</td>\n",
       "      <td>0.000000</td>\n",
       "    </tr>\n",
       "    <tr>\n",
       "      <th>643686</th>\n",
       "      <td>1827860</td>\n",
       "      <td>2015</td>\n",
       "      <td>2</td>\n",
       "      <td>1</td>\n",
       "      <td>0</td>\n",
       "      <td>0</td>\n",
       "      <td>1</td>\n",
       "      <td>0</td>\n",
       "      <td>1</td>\n",
       "      <td>0</td>\n",
       "      <td>...</td>\n",
       "      <td>0.000000</td>\n",
       "      <td>0.000000</td>\n",
       "      <td>0.212121</td>\n",
       "      <td>0.212121</td>\n",
       "      <td>17.363636</td>\n",
       "      <td>0.000000</td>\n",
       "      <td>8.909091</td>\n",
       "      <td>0.000000</td>\n",
       "      <td>0.000000</td>\n",
       "      <td>7.121212</td>\n",
       "    </tr>\n",
       "    <tr>\n",
       "      <th>643687</th>\n",
       "      <td>1827860</td>\n",
       "      <td>2016</td>\n",
       "      <td>3</td>\n",
       "      <td>1</td>\n",
       "      <td>0</td>\n",
       "      <td>0</td>\n",
       "      <td>1</td>\n",
       "      <td>1</td>\n",
       "      <td>0</td>\n",
       "      <td>1</td>\n",
       "      <td>...</td>\n",
       "      <td>0.000000</td>\n",
       "      <td>0.000000</td>\n",
       "      <td>0.294118</td>\n",
       "      <td>0.205882</td>\n",
       "      <td>34.705882</td>\n",
       "      <td>0.000000</td>\n",
       "      <td>10.352941</td>\n",
       "      <td>1.705882</td>\n",
       "      <td>1.705882</td>\n",
       "      <td>23.911765</td>\n",
       "    </tr>\n",
       "    <tr>\n",
       "      <th>643688</th>\n",
       "      <td>1827869</td>\n",
       "      <td>2013</td>\n",
       "      <td>1</td>\n",
       "      <td>1</td>\n",
       "      <td>1</td>\n",
       "      <td>0</td>\n",
       "      <td>0</td>\n",
       "      <td>0</td>\n",
       "      <td>1</td>\n",
       "      <td>0</td>\n",
       "      <td>...</td>\n",
       "      <td>0.000000</td>\n",
       "      <td>0.000000</td>\n",
       "      <td>0.000000</td>\n",
       "      <td>0.000000</td>\n",
       "      <td>0.000000</td>\n",
       "      <td>0.525424</td>\n",
       "      <td>0.000000</td>\n",
       "      <td>0.000000</td>\n",
       "      <td>0.000000</td>\n",
       "      <td>0.000000</td>\n",
       "    </tr>\n",
       "    <tr>\n",
       "      <th>643689</th>\n",
       "      <td>1827869</td>\n",
       "      <td>2014</td>\n",
       "      <td>2</td>\n",
       "      <td>0</td>\n",
       "      <td>0</td>\n",
       "      <td>1</td>\n",
       "      <td>0</td>\n",
       "      <td>0</td>\n",
       "      <td>1</td>\n",
       "      <td>0</td>\n",
       "      <td>...</td>\n",
       "      <td>0.000000</td>\n",
       "      <td>0.666667</td>\n",
       "      <td>0.666667</td>\n",
       "      <td>0.000000</td>\n",
       "      <td>0.000000</td>\n",
       "      <td>8.950000</td>\n",
       "      <td>1.033333</td>\n",
       "      <td>0.083333</td>\n",
       "      <td>0.083333</td>\n",
       "      <td>8.133333</td>\n",
       "    </tr>\n",
       "  </tbody>\n",
       "</table>\n",
       "<p>643690 rows × 164 columns</p>\n",
       "</div>"
      ],
      "text/plain": [
       "         persnr  year  nrEntry  ltue  employed_before  receipt_leh_before  \\\n",
       "0             7  2015        1     0                1                   0   \n",
       "1            18  2010        1     1                0                   0   \n",
       "2            18  2011        2     0                1                   0   \n",
       "3            18  2012        3     0                1                   0   \n",
       "4            18  2012        4     0                1                   0   \n",
       "...         ...   ...      ...   ...              ...                 ...   \n",
       "643685  1827860  2013        1     0                0                   0   \n",
       "643686  1827860  2015        2     1                0                   0   \n",
       "643687  1827860  2016        3     1                0                   0   \n",
       "643688  1827869  2013        1     1                1                   0   \n",
       "643689  1827869  2014        2     0                0                   1   \n",
       "\n",
       "        receipt_lhg_before  se_before  ASU_notue_seeking_before  \\\n",
       "0                        0          0                         1   \n",
       "1                        0          0                         0   \n",
       "2                        1          0                         1   \n",
       "3                        1          0                         1   \n",
       "4                        1          0                         1   \n",
       "...                    ...        ...                       ...   \n",
       "643685                   1          0                         0   \n",
       "643686                   1          0                         1   \n",
       "643687                   1          1                         0   \n",
       "643688                   0          0                         1   \n",
       "643689                   0          0                         1   \n",
       "\n",
       "        ASU_other_before  ...  minijob_tot_dur_byage  ft_tot_dur_byage  \\\n",
       "0                      0  ...               0.000000          0.000000   \n",
       "1                      0  ...               0.000000          0.000000   \n",
       "2                      0  ...               2.714286          2.714286   \n",
       "3                      0  ...               4.200000          4.200000   \n",
       "4                      0  ...               5.460000          5.460000   \n",
       "...                  ...  ...                    ...               ...   \n",
       "643685                 1  ...               0.000000          0.000000   \n",
       "643686                 0  ...               0.000000          0.000000   \n",
       "643687                 1  ...               0.000000          0.000000   \n",
       "643688                 0  ...               0.000000          0.000000   \n",
       "643689                 0  ...               0.000000          0.666667   \n",
       "\n",
       "        befrist_tot_dur_byage  leih_tot_dur_byage  LHG_tot_dur_byage  \\\n",
       "0                   15.043478            0.000000           0.000000   \n",
       "1                    0.000000            0.000000           0.000000   \n",
       "2                    0.000000            0.000000          10.775510   \n",
       "3                    0.000000            0.000000          12.100000   \n",
       "4                    0.000000            0.000000          13.360000   \n",
       "...                       ...                 ...                ...   \n",
       "643685               0.000000            0.000000           0.612903   \n",
       "643686               0.212121            0.212121          17.363636   \n",
       "643687               0.294118            0.205882          34.705882   \n",
       "643688               0.000000            0.000000           0.000000   \n",
       "643689               0.666667            0.000000           0.000000   \n",
       "\n",
       "        LEH_tot_dur_byage  almp_tot_dur_byage  almp_aw_tot_dur_byage  \\\n",
       "0                0.000000            0.000000               0.000000   \n",
       "1                0.000000            0.000000               0.000000   \n",
       "2                0.000000            8.367347               0.000000   \n",
       "3                0.000000            9.400000               0.000000   \n",
       "4                0.000000           10.320000               0.000000   \n",
       "...                   ...                 ...                    ...   \n",
       "643685           0.000000            0.000000               0.000000   \n",
       "643686           0.000000            8.909091               0.000000   \n",
       "643687           0.000000           10.352941               1.705882   \n",
       "643688           0.525424            0.000000               0.000000   \n",
       "643689           8.950000            1.033333               0.083333   \n",
       "\n",
       "        se_tot_dur_byage  seeking1_tot_dur_byage  \n",
       "0               0.000000                0.000000  \n",
       "1               0.000000                0.000000  \n",
       "2               0.000000                9.836735  \n",
       "3               0.000000                9.960000  \n",
       "4               0.000000               10.280000  \n",
       "...                  ...                     ...  \n",
       "643685          0.000000                0.000000  \n",
       "643686          0.000000                7.121212  \n",
       "643687          1.705882               23.911765  \n",
       "643688          0.000000                0.000000  \n",
       "643689          0.083333                8.133333  \n",
       "\n",
       "[643690 rows x 164 columns]"
      ]
     },
     "execution_count": 10,
     "metadata": {},
     "output_type": "execute_result"
    }
   ],
   "source": [
    "siab"
   ]
  },
  {
   "cell_type": "markdown",
   "id": "1f87e805",
   "metadata": {
    "papermill": {
     "duration": 0.009935,
     "end_time": "2025-08-19T18:44:40.928612",
     "exception": false,
     "start_time": "2025-08-19T18:44:40.918677",
     "status": "completed"
    },
    "tags": []
   },
   "source": [
    "# Splitting Data and Setting Training Data Size"
   ]
  },
  {
   "cell_type": "code",
   "execution_count": 11,
   "id": "910ae358",
   "metadata": {
    "execution": {
     "iopub.execute_input": "2025-08-19T18:44:40.951168Z",
     "iopub.status.busy": "2025-08-19T18:44:40.950083Z",
     "iopub.status.idle": "2025-08-19T18:44:42.060115Z",
     "shell.execute_reply": "2025-08-19T18:44:42.059440Z"
    },
    "papermill": {
     "duration": 1.122976,
     "end_time": "2025-08-19T18:44:42.061470",
     "exception": false,
     "start_time": "2025-08-19T18:44:40.938494",
     "status": "completed"
    },
    "tags": []
   },
   "outputs": [],
   "source": [
    "from fairness_multiverse.universe import sample_by_year_size\n",
    "\n",
    "siab_train = sample_by_year_size(siab,\n",
    "                               training_year=universe[\"training_year\"],\n",
    "                               training_size=universe[\"training_size\"])"
   ]
  },
  {
   "cell_type": "code",
   "execution_count": 12,
   "id": "919c8ff5",
   "metadata": {
    "execution": {
     "iopub.execute_input": "2025-08-19T18:44:42.083397Z",
     "iopub.status.busy": "2025-08-19T18:44:42.082699Z",
     "iopub.status.idle": "2025-08-19T18:44:42.091556Z",
     "shell.execute_reply": "2025-08-19T18:44:42.090811Z"
    },
    "papermill": {
     "duration": 0.021046,
     "end_time": "2025-08-19T18:44:42.092644",
     "exception": false,
     "start_time": "2025-08-19T18:44:42.071598",
     "status": "completed"
    },
    "tags": []
   },
   "outputs": [
    {
     "data": {
      "text/plain": [
       "(5000, 164)"
      ]
     },
     "execution_count": 12,
     "metadata": {},
     "output_type": "execute_result"
    }
   ],
   "source": [
    "siab_train.shape"
   ]
  },
  {
   "cell_type": "code",
   "execution_count": 13,
   "id": "feb13bf4",
   "metadata": {
    "execution": {
     "iopub.execute_input": "2025-08-19T18:44:42.114364Z",
     "iopub.status.busy": "2025-08-19T18:44:42.114077Z",
     "iopub.status.idle": "2025-08-19T18:44:42.124418Z",
     "shell.execute_reply": "2025-08-19T18:44:42.123842Z"
    },
    "papermill": {
     "duration": 0.024196,
     "end_time": "2025-08-19T18:44:42.126722",
     "exception": false,
     "start_time": "2025-08-19T18:44:42.102526",
     "status": "completed"
    },
    "tags": []
   },
   "outputs": [
    {
     "data": {
      "text/plain": [
       "year\n",
       "2010    1000\n",
       "2011    1000\n",
       "2012    1000\n",
       "2013    1000\n",
       "2014    1000\n",
       "dtype: int64"
      ]
     },
     "metadata": {},
     "output_type": "display_data"
    }
   ],
   "source": [
    "display(siab_train.groupby(\"year\").size())"
   ]
  },
  {
   "cell_type": "code",
   "execution_count": 14,
   "id": "0997782f",
   "metadata": {
    "execution": {
     "iopub.execute_input": "2025-08-19T18:44:42.162053Z",
     "iopub.status.busy": "2025-08-19T18:44:42.161050Z",
     "iopub.status.idle": "2025-08-19T18:44:42.458364Z",
     "shell.execute_reply": "2025-08-19T18:44:42.457685Z"
    },
    "papermill": {
     "duration": 0.314752,
     "end_time": "2025-08-19T18:44:42.460005",
     "exception": false,
     "start_time": "2025-08-19T18:44:42.145253",
     "status": "completed"
    },
    "tags": []
   },
   "outputs": [],
   "source": [
    "#siab_train = siab_s[siab_s.year < 2015]\n",
    "siab_calib = siab[siab.year == 2015]\n",
    "siab_test = siab[siab.year == 2016]"
   ]
  },
  {
   "cell_type": "code",
   "execution_count": 15,
   "id": "2c1e4012",
   "metadata": {
    "execution": {
     "iopub.execute_input": "2025-08-19T18:44:42.497397Z",
     "iopub.status.busy": "2025-08-19T18:44:42.496439Z",
     "iopub.status.idle": "2025-08-19T18:44:42.502968Z",
     "shell.execute_reply": "2025-08-19T18:44:42.501631Z"
    },
    "papermill": {
     "duration": 0.024393,
     "end_time": "2025-08-19T18:44:42.504592",
     "exception": false,
     "start_time": "2025-08-19T18:44:42.480199",
     "status": "completed"
    },
    "tags": []
   },
   "outputs": [],
   "source": [
    "#siab_calib.shape"
   ]
  },
  {
   "cell_type": "code",
   "execution_count": 16,
   "id": "f66b54ca",
   "metadata": {
    "execution": {
     "iopub.execute_input": "2025-08-19T18:44:42.529023Z",
     "iopub.status.busy": "2025-08-19T18:44:42.527948Z",
     "iopub.status.idle": "2025-08-19T18:44:42.535290Z",
     "shell.execute_reply": "2025-08-19T18:44:42.533695Z"
    },
    "papermill": {
     "duration": 0.020944,
     "end_time": "2025-08-19T18:44:42.536649",
     "exception": false,
     "start_time": "2025-08-19T18:44:42.515705",
     "status": "completed"
    },
    "tags": []
   },
   "outputs": [],
   "source": [
    "#siab_test.shape"
   ]
  },
  {
   "cell_type": "code",
   "execution_count": 17,
   "id": "27e4384d",
   "metadata": {
    "execution": {
     "iopub.execute_input": "2025-08-19T18:44:42.563267Z",
     "iopub.status.busy": "2025-08-19T18:44:42.562198Z",
     "iopub.status.idle": "2025-08-19T18:44:42.579829Z",
     "shell.execute_reply": "2025-08-19T18:44:42.578744Z"
    },
    "papermill": {
     "duration": 0.031349,
     "end_time": "2025-08-19T18:44:42.581310",
     "exception": false,
     "start_time": "2025-08-19T18:44:42.549961",
     "status": "completed"
    },
    "tags": []
   },
   "outputs": [],
   "source": [
    "X_train = siab_train.iloc[:,4:164]\n",
    "y_train = siab_train.iloc[:, [3]]"
   ]
  },
  {
   "cell_type": "code",
   "execution_count": 18,
   "id": "08ee8389",
   "metadata": {
    "execution": {
     "iopub.execute_input": "2025-08-19T18:44:42.611239Z",
     "iopub.status.busy": "2025-08-19T18:44:42.610177Z",
     "iopub.status.idle": "2025-08-19T18:44:42.667577Z",
     "shell.execute_reply": "2025-08-19T18:44:42.666805Z"
    },
    "papermill": {
     "duration": 0.073296,
     "end_time": "2025-08-19T18:44:42.670593",
     "exception": false,
     "start_time": "2025-08-19T18:44:42.597297",
     "status": "completed"
    },
    "tags": []
   },
   "outputs": [],
   "source": [
    "X_calib = siab_calib.iloc[:,4:164]\n",
    "y_calib = siab_calib.iloc[:, [3]]"
   ]
  },
  {
   "cell_type": "code",
   "execution_count": 19,
   "id": "b7ff42e0",
   "metadata": {
    "execution": {
     "iopub.execute_input": "2025-08-19T18:44:42.722491Z",
     "iopub.status.busy": "2025-08-19T18:44:42.721675Z",
     "iopub.status.idle": "2025-08-19T18:44:42.778775Z",
     "shell.execute_reply": "2025-08-19T18:44:42.778031Z"
    },
    "papermill": {
     "duration": 0.08566,
     "end_time": "2025-08-19T18:44:42.780161",
     "exception": false,
     "start_time": "2025-08-19T18:44:42.694501",
     "status": "completed"
    },
    "tags": []
   },
   "outputs": [],
   "source": [
    "X_test = siab_test.iloc[:,4:164]\n",
    "y_true = siab_test.iloc[:, [3]]"
   ]
  },
  {
   "cell_type": "code",
   "execution_count": 20,
   "id": "0275101e",
   "metadata": {
    "execution": {
     "iopub.execute_input": "2025-08-19T18:44:42.804846Z",
     "iopub.status.busy": "2025-08-19T18:44:42.804084Z",
     "iopub.status.idle": "2025-08-19T18:44:42.915976Z",
     "shell.execute_reply": "2025-08-19T18:44:42.915284Z"
    },
    "papermill": {
     "duration": 0.126998,
     "end_time": "2025-08-19T18:44:42.918615",
     "exception": false,
     "start_time": "2025-08-19T18:44:42.791617",
     "status": "completed"
    },
    "tags": []
   },
   "outputs": [],
   "source": [
    "# Auxiliary data needed downstream in the pipeline\n",
    "\n",
    "org_train = X_train.copy()\n",
    "org_test = X_test.copy()\n",
    "org_calib = X_calib.copy()"
   ]
  },
  {
   "cell_type": "markdown",
   "id": "b461e618",
   "metadata": {
    "papermill": {
     "duration": 0.013844,
     "end_time": "2025-08-19T18:44:42.963821",
     "exception": false,
     "start_time": "2025-08-19T18:44:42.949977",
     "status": "completed"
    },
    "tags": []
   },
   "source": [
    "# Preprocessing Data"
   ]
  },
  {
   "cell_type": "code",
   "execution_count": 21,
   "id": "78e74c4b",
   "metadata": {
    "execution": {
     "iopub.execute_input": "2025-08-19T18:44:42.986881Z",
     "iopub.status.busy": "2025-08-19T18:44:42.986432Z",
     "iopub.status.idle": "2025-08-19T18:44:42.991437Z",
     "shell.execute_reply": "2025-08-19T18:44:42.990758Z"
    },
    "papermill": {
     "duration": 0.018139,
     "end_time": "2025-08-19T18:44:42.992626",
     "exception": false,
     "start_time": "2025-08-19T18:44:42.974487",
     "status": "completed"
    },
    "tags": []
   },
   "outputs": [],
   "source": [
    "# EXCLUDE PROTECTED FEATURES\n",
    "# --------------------------\n",
    "\n",
    "excluded_features = universe[\"exclude_features\"].split(\"-\")\n",
    "excluded_features_dictionary = {\n",
    "    \"nationality\": [\"maxdeutsch1\", \"maxdeutsch.Missing.\"],\n",
    "    \"sex\": [\"frau1\"],\n",
    "    \"age\": [\"age\"],\n",
    "}"
   ]
  },
  {
   "cell_type": "code",
   "execution_count": 22,
   "id": "f8e63555",
   "metadata": {
    "execution": {
     "iopub.execute_input": "2025-08-19T18:44:43.015965Z",
     "iopub.status.busy": "2025-08-19T18:44:43.015719Z",
     "iopub.status.idle": "2025-08-19T18:44:43.019385Z",
     "shell.execute_reply": "2025-08-19T18:44:43.018808Z"
    },
    "papermill": {
     "duration": 0.015539,
     "end_time": "2025-08-19T18:44:43.020308",
     "exception": false,
     "start_time": "2025-08-19T18:44:43.004769",
     "status": "completed"
    },
    "tags": []
   },
   "outputs": [],
   "source": [
    "excluded_features_columns = [\n",
    "    excluded_features_dictionary[f] for f in excluded_features if len(f) > 0 and f != \"none\"\n",
    "]"
   ]
  },
  {
   "cell_type": "code",
   "execution_count": 23,
   "id": "da781f7c",
   "metadata": {
    "execution": {
     "iopub.execute_input": "2025-08-19T18:44:43.043683Z",
     "iopub.status.busy": "2025-08-19T18:44:43.043448Z",
     "iopub.status.idle": "2025-08-19T18:44:43.046927Z",
     "shell.execute_reply": "2025-08-19T18:44:43.046346Z"
    },
    "papermill": {
     "duration": 0.017311,
     "end_time": "2025-08-19T18:44:43.048588",
     "exception": false,
     "start_time": "2025-08-19T18:44:43.031277",
     "status": "completed"
    },
    "tags": []
   },
   "outputs": [],
   "source": [
    "from fairness_multiverse.universe import flatten_once\n",
    "\n",
    "excluded_features_columns = flatten_once(excluded_features_columns)"
   ]
  },
  {
   "cell_type": "code",
   "execution_count": 24,
   "id": "37fef0f0",
   "metadata": {
    "execution": {
     "iopub.execute_input": "2025-08-19T18:44:43.075086Z",
     "iopub.status.busy": "2025-08-19T18:44:43.074665Z",
     "iopub.status.idle": "2025-08-19T18:44:43.092110Z",
     "shell.execute_reply": "2025-08-19T18:44:43.091121Z"
    },
    "papermill": {
     "duration": 0.031902,
     "end_time": "2025-08-19T18:44:43.094194",
     "exception": false,
     "start_time": "2025-08-19T18:44:43.062292",
     "status": "completed"
    },
    "tags": []
   },
   "outputs": [
    {
     "name": "stdout",
     "output_type": "stream",
     "text": [
      "Dropping features: ['maxdeutsch1', 'maxdeutsch.Missing.']\n"
     ]
    }
   ],
   "source": [
    "if len(excluded_features_columns) > 0:\n",
    "    print(f\"Dropping features: {excluded_features_columns}\")\n",
    "    X_train.drop(excluded_features_columns, axis=1, inplace=True)"
   ]
  },
  {
   "cell_type": "code",
   "execution_count": 25,
   "id": "d029e3e9",
   "metadata": {
    "execution": {
     "iopub.execute_input": "2025-08-19T18:44:43.125184Z",
     "iopub.status.busy": "2025-08-19T18:44:43.124533Z",
     "iopub.status.idle": "2025-08-19T18:44:43.185634Z",
     "shell.execute_reply": "2025-08-19T18:44:43.184746Z"
    },
    "papermill": {
     "duration": 0.077091,
     "end_time": "2025-08-19T18:44:43.188558",
     "exception": false,
     "start_time": "2025-08-19T18:44:43.111467",
     "status": "completed"
    },
    "tags": []
   },
   "outputs": [
    {
     "name": "stdout",
     "output_type": "stream",
     "text": [
      "Dropping features: ['maxdeutsch1', 'maxdeutsch.Missing.']\n"
     ]
    }
   ],
   "source": [
    "if len(excluded_features_columns) > 0:\n",
    "    print(f\"Dropping features: {excluded_features_columns}\")\n",
    "    X_test.drop(excluded_features_columns, axis=1, inplace=True)"
   ]
  },
  {
   "cell_type": "code",
   "execution_count": 26,
   "id": "01d571f0",
   "metadata": {
    "execution": {
     "iopub.execute_input": "2025-08-19T18:44:43.225997Z",
     "iopub.status.busy": "2025-08-19T18:44:43.225325Z",
     "iopub.status.idle": "2025-08-19T18:44:43.288179Z",
     "shell.execute_reply": "2025-08-19T18:44:43.286919Z"
    },
    "papermill": {
     "duration": 0.078409,
     "end_time": "2025-08-19T18:44:43.290217",
     "exception": false,
     "start_time": "2025-08-19T18:44:43.211808",
     "status": "completed"
    },
    "tags": []
   },
   "outputs": [
    {
     "name": "stdout",
     "output_type": "stream",
     "text": [
      "Dropping features: ['maxdeutsch1', 'maxdeutsch.Missing.']\n"
     ]
    }
   ],
   "source": [
    "if len(excluded_features_columns) > 0:\n",
    "    print(f\"Dropping features: {excluded_features_columns}\")\n",
    "    X_calib.drop(excluded_features_columns, axis=1, inplace=True)"
   ]
  },
  {
   "cell_type": "code",
   "execution_count": 27,
   "id": "3037356e",
   "metadata": {
    "execution": {
     "iopub.execute_input": "2025-08-19T18:44:43.320199Z",
     "iopub.status.busy": "2025-08-19T18:44:43.319492Z",
     "iopub.status.idle": "2025-08-19T18:44:43.329336Z",
     "shell.execute_reply": "2025-08-19T18:44:43.327500Z"
    },
    "papermill": {
     "duration": 0.027921,
     "end_time": "2025-08-19T18:44:43.331452",
     "exception": false,
     "start_time": "2025-08-19T18:44:43.303531",
     "status": "completed"
    },
    "tags": []
   },
   "outputs": [],
   "source": [
    "# EXCLUDE CERTAIN SUBGROUPS\n",
    "# -------------------------\n",
    "\n",
    "mode = universe.get(\"exclude_subgroups\", \"keep-all\") # Defaults to \"keep-all\" if the key is missing."
   ]
  },
  {
   "cell_type": "code",
   "execution_count": 28,
   "id": "9d1e63fd",
   "metadata": {
    "execution": {
     "iopub.execute_input": "2025-08-19T18:44:43.362023Z",
     "iopub.status.busy": "2025-08-19T18:44:43.361124Z",
     "iopub.status.idle": "2025-08-19T18:44:43.367875Z",
     "shell.execute_reply": "2025-08-19T18:44:43.367297Z"
    },
    "papermill": {
     "duration": 0.023018,
     "end_time": "2025-08-19T18:44:43.369242",
     "exception": false,
     "start_time": "2025-08-19T18:44:43.346224",
     "status": "completed"
    },
    "tags": []
   },
   "outputs": [],
   "source": [
    "if mode == \"keep-all\":\n",
    "    keep_mask = pd.Series(True, index=org_train.index)\n",
    "\n",
    "elif mode == \"drop-non-german\":\n",
    "    keep_mask = (org_train[\"maxdeutsch1\"] == 1) & (org_train[\"maxdeutsch.Missing.\"] == 0)\n",
    "\n",
    "else:\n",
    "    raise ValueError(f\"Unsupported mode for exclude_subgroups: {mode}\")"
   ]
  },
  {
   "cell_type": "code",
   "execution_count": 29,
   "id": "d3b65474",
   "metadata": {
    "execution": {
     "iopub.execute_input": "2025-08-19T18:44:43.398870Z",
     "iopub.status.busy": "2025-08-19T18:44:43.398598Z",
     "iopub.status.idle": "2025-08-19T18:44:43.403616Z",
     "shell.execute_reply": "2025-08-19T18:44:43.403054Z"
    },
    "papermill": {
     "duration": 0.025794,
     "end_time": "2025-08-19T18:44:43.406310",
     "exception": false,
     "start_time": "2025-08-19T18:44:43.380516",
     "status": "completed"
    },
    "tags": []
   },
   "outputs": [],
   "source": [
    "n_drop = (~keep_mask).sum() # Calculates how many rows are set to be dropped\n",
    "if n_drop > 0:\n",
    "    pct = n_drop / len(keep_mask) * 100\n",
    "    print(f\"Dropping {n_drop} rows ({pct:.2f}%) where mode='{mode}'\")"
   ]
  },
  {
   "cell_type": "code",
   "execution_count": 30,
   "id": "f44389b3",
   "metadata": {
    "execution": {
     "iopub.execute_input": "2025-08-19T18:44:43.437517Z",
     "iopub.status.busy": "2025-08-19T18:44:43.436632Z",
     "iopub.status.idle": "2025-08-19T18:44:43.446062Z",
     "shell.execute_reply": "2025-08-19T18:44:43.444966Z"
    },
    "papermill": {
     "duration": 0.023404,
     "end_time": "2025-08-19T18:44:43.447531",
     "exception": false,
     "start_time": "2025-08-19T18:44:43.424127",
     "status": "completed"
    },
    "tags": []
   },
   "outputs": [],
   "source": [
    "X_train = X_train[keep_mask]"
   ]
  },
  {
   "cell_type": "code",
   "execution_count": 31,
   "id": "ceca8c2a",
   "metadata": {
    "execution": {
     "iopub.execute_input": "2025-08-19T18:44:43.474836Z",
     "iopub.status.busy": "2025-08-19T18:44:43.473323Z",
     "iopub.status.idle": "2025-08-19T18:44:43.490829Z",
     "shell.execute_reply": "2025-08-19T18:44:43.489776Z"
    },
    "papermill": {
     "duration": 0.032226,
     "end_time": "2025-08-19T18:44:43.493034",
     "exception": false,
     "start_time": "2025-08-19T18:44:43.460808",
     "status": "completed"
    },
    "tags": []
   },
   "outputs": [],
   "source": [
    "y_train = y_train[keep_mask]"
   ]
  },
  {
   "cell_type": "markdown",
   "id": "04d31e2f",
   "metadata": {
    "papermill": {
     "duration": 0.011682,
     "end_time": "2025-08-19T18:44:43.522714",
     "exception": false,
     "start_time": "2025-08-19T18:44:43.511032",
     "status": "completed"
    },
    "tags": []
   },
   "source": [
    "# Model Training"
   ]
  },
  {
   "cell_type": "code",
   "execution_count": 32,
   "id": "db991733",
   "metadata": {
    "execution": {
     "iopub.execute_input": "2025-08-19T18:44:43.546054Z",
     "iopub.status.busy": "2025-08-19T18:44:43.545756Z",
     "iopub.status.idle": "2025-08-19T18:44:43.655050Z",
     "shell.execute_reply": "2025-08-19T18:44:43.654211Z"
    },
    "papermill": {
     "duration": 0.123602,
     "end_time": "2025-08-19T18:44:43.656933",
     "exception": false,
     "start_time": "2025-08-19T18:44:43.533331",
     "status": "completed"
    },
    "tags": []
   },
   "outputs": [],
   "source": [
    "from sklearn.linear_model import LogisticRegression\n",
    "from sklearn.ensemble import GradientBoostingClassifier, RandomForestClassifier\n",
    "\n",
    "if (universe[\"model\"] == \"logreg\"):\n",
    "    model = LogisticRegression() #penalty=\"none\", solver=\"newton-cg\", max_iter=1)\n",
    "elif (universe[\"model\"] == \"penalized_logreg\"):\n",
    "    model = LogisticRegression(penalty=\"l2\", C=0.1) #, solver=\"newton-cg\", max_iter=1)\n",
    "elif (universe[\"model\"] == \"rf\"):\n",
    "    model = RandomForestClassifier() # n_estimators=100, n_jobs=-1\n",
    "elif (universe[\"model\"] == \"gbm\"):\n",
    "    model = GradientBoostingClassifier()\n",
    "elif (universe[\"model\"] == \"elasticnet\"):\n",
    "    model = LogisticRegression(penalty = 'elasticnet', solver = 'saga', l1_ratio = 0.5) # max_iter=5000\n",
    "else:\n",
    "    raise \"Unsupported universe.model\""
   ]
  },
  {
   "cell_type": "code",
   "execution_count": 33,
   "id": "a4b5cd25",
   "metadata": {
    "execution": {
     "iopub.execute_input": "2025-08-19T18:44:43.682859Z",
     "iopub.status.busy": "2025-08-19T18:44:43.681969Z",
     "iopub.status.idle": "2025-08-19T18:44:43.694224Z",
     "shell.execute_reply": "2025-08-19T18:44:43.688246Z"
    },
    "papermill": {
     "duration": 0.028339,
     "end_time": "2025-08-19T18:44:43.696673",
     "exception": false,
     "start_time": "2025-08-19T18:44:43.668334",
     "status": "completed"
    },
    "tags": []
   },
   "outputs": [],
   "source": [
    "from sklearn.pipeline import Pipeline\n",
    "from sklearn.preprocessing import StandardScaler\n",
    "\n",
    "model = Pipeline([\n",
    "    #(\"continuous_processor\", continuous_processor),\n",
    "    #(\"categorical_preprocessor\", categorical_preprocessor),\n",
    "    (\"scale\", StandardScaler() if universe[\"scale\"] == \"scale\" else None), \n",
    "    (\"model\", model),\n",
    "])"
   ]
  },
  {
   "cell_type": "code",
   "execution_count": 34,
   "id": "283a904d",
   "metadata": {
    "execution": {
     "iopub.execute_input": "2025-08-19T18:44:43.723466Z",
     "iopub.status.busy": "2025-08-19T18:44:43.722754Z",
     "iopub.status.idle": "2025-08-19T18:44:43.871975Z",
     "shell.execute_reply": "2025-08-19T18:44:43.871258Z"
    },
    "papermill": {
     "duration": 0.165549,
     "end_time": "2025-08-19T18:44:43.876166",
     "exception": false,
     "start_time": "2025-08-19T18:44:43.710617",
     "status": "completed"
    },
    "tags": []
   },
   "outputs": [
    {
     "name": "stderr",
     "output_type": "stream",
     "text": [
      "/dss/dsshome1/0C/ra93lal2/.local/share/virtualenvs/CMA_Fairness_v2-3j10GkSs/lib/python3.10/site-packages/sklearn/linear_model/_logistic.py:444: ConvergenceWarning: lbfgs failed to converge (status=1):\n",
      "STOP: TOTAL NO. of ITERATIONS REACHED LIMIT.\n",
      "\n",
      "Increase the number of iterations (max_iter) or scale the data as shown in:\n",
      "    https://scikit-learn.org/stable/modules/preprocessing.html\n",
      "Please also refer to the documentation for alternative solver options:\n",
      "    https://scikit-learn.org/stable/modules/linear_model.html#logistic-regression\n",
      "  n_iter_i = _check_optimize_result(\n"
     ]
    },
    {
     "data": {
      "text/html": [
       "<style>#sk-container-id-1 {color: black;background-color: white;}#sk-container-id-1 pre{padding: 0;}#sk-container-id-1 div.sk-toggleable {background-color: white;}#sk-container-id-1 label.sk-toggleable__label {cursor: pointer;display: block;width: 100%;margin-bottom: 0;padding: 0.3em;box-sizing: border-box;text-align: center;}#sk-container-id-1 label.sk-toggleable__label-arrow:before {content: \"▸\";float: left;margin-right: 0.25em;color: #696969;}#sk-container-id-1 label.sk-toggleable__label-arrow:hover:before {color: black;}#sk-container-id-1 div.sk-estimator:hover label.sk-toggleable__label-arrow:before {color: black;}#sk-container-id-1 div.sk-toggleable__content {max-height: 0;max-width: 0;overflow: hidden;text-align: left;background-color: #f0f8ff;}#sk-container-id-1 div.sk-toggleable__content pre {margin: 0.2em;color: black;border-radius: 0.25em;background-color: #f0f8ff;}#sk-container-id-1 input.sk-toggleable__control:checked~div.sk-toggleable__content {max-height: 200px;max-width: 100%;overflow: auto;}#sk-container-id-1 input.sk-toggleable__control:checked~label.sk-toggleable__label-arrow:before {content: \"▾\";}#sk-container-id-1 div.sk-estimator input.sk-toggleable__control:checked~label.sk-toggleable__label {background-color: #d4ebff;}#sk-container-id-1 div.sk-label input.sk-toggleable__control:checked~label.sk-toggleable__label {background-color: #d4ebff;}#sk-container-id-1 input.sk-hidden--visually {border: 0;clip: rect(1px 1px 1px 1px);clip: rect(1px, 1px, 1px, 1px);height: 1px;margin: -1px;overflow: hidden;padding: 0;position: absolute;width: 1px;}#sk-container-id-1 div.sk-estimator {font-family: monospace;background-color: #f0f8ff;border: 1px dotted black;border-radius: 0.25em;box-sizing: border-box;margin-bottom: 0.5em;}#sk-container-id-1 div.sk-estimator:hover {background-color: #d4ebff;}#sk-container-id-1 div.sk-parallel-item::after {content: \"\";width: 100%;border-bottom: 1px solid gray;flex-grow: 1;}#sk-container-id-1 div.sk-label:hover label.sk-toggleable__label {background-color: #d4ebff;}#sk-container-id-1 div.sk-serial::before {content: \"\";position: absolute;border-left: 1px solid gray;box-sizing: border-box;top: 0;bottom: 0;left: 50%;z-index: 0;}#sk-container-id-1 div.sk-serial {display: flex;flex-direction: column;align-items: center;background-color: white;padding-right: 0.2em;padding-left: 0.2em;position: relative;}#sk-container-id-1 div.sk-item {position: relative;z-index: 1;}#sk-container-id-1 div.sk-parallel {display: flex;align-items: stretch;justify-content: center;background-color: white;position: relative;}#sk-container-id-1 div.sk-item::before, #sk-container-id-1 div.sk-parallel-item::before {content: \"\";position: absolute;border-left: 1px solid gray;box-sizing: border-box;top: 0;bottom: 0;left: 50%;z-index: -1;}#sk-container-id-1 div.sk-parallel-item {display: flex;flex-direction: column;z-index: 1;position: relative;background-color: white;}#sk-container-id-1 div.sk-parallel-item:first-child::after {align-self: flex-end;width: 50%;}#sk-container-id-1 div.sk-parallel-item:last-child::after {align-self: flex-start;width: 50%;}#sk-container-id-1 div.sk-parallel-item:only-child::after {width: 0;}#sk-container-id-1 div.sk-dashed-wrapped {border: 1px dashed gray;margin: 0 0.4em 0.5em 0.4em;box-sizing: border-box;padding-bottom: 0.4em;background-color: white;}#sk-container-id-1 div.sk-label label {font-family: monospace;font-weight: bold;display: inline-block;line-height: 1.2em;}#sk-container-id-1 div.sk-label-container {text-align: center;}#sk-container-id-1 div.sk-container {/* jupyter's `normalize.less` sets `[hidden] { display: none; }` but bootstrap.min.css set `[hidden] { display: none !important; }` so we also need the `!important` here to be able to override the default hidden behavior on the sphinx rendered scikit-learn.org. See: https://github.com/scikit-learn/scikit-learn/issues/21755 */display: inline-block !important;position: relative;}#sk-container-id-1 div.sk-text-repr-fallback {display: none;}</style><div id=\"sk-container-id-1\" class=\"sk-top-container\"><div class=\"sk-text-repr-fallback\"><pre>Pipeline(steps=[(&#x27;scale&#x27;, None), (&#x27;model&#x27;, LogisticRegression())])</pre><b>In a Jupyter environment, please rerun this cell to show the HTML representation or trust the notebook. <br />On GitHub, the HTML representation is unable to render, please try loading this page with nbviewer.org.</b></div><div class=\"sk-container\" hidden><div class=\"sk-item sk-dashed-wrapped\"><div class=\"sk-label-container\"><div class=\"sk-label sk-toggleable\"><input class=\"sk-toggleable__control sk-hidden--visually\" id=\"sk-estimator-id-1\" type=\"checkbox\" ><label for=\"sk-estimator-id-1\" class=\"sk-toggleable__label sk-toggleable__label-arrow\">Pipeline</label><div class=\"sk-toggleable__content\"><pre>Pipeline(steps=[(&#x27;scale&#x27;, None), (&#x27;model&#x27;, LogisticRegression())])</pre></div></div></div><div class=\"sk-serial\"><div class=\"sk-item\"><div class=\"sk-estimator sk-toggleable\"><input class=\"sk-toggleable__control sk-hidden--visually\" id=\"sk-estimator-id-2\" type=\"checkbox\" ><label for=\"sk-estimator-id-2\" class=\"sk-toggleable__label sk-toggleable__label-arrow\">None</label><div class=\"sk-toggleable__content\"><pre>None</pre></div></div></div><div class=\"sk-item\"><div class=\"sk-estimator sk-toggleable\"><input class=\"sk-toggleable__control sk-hidden--visually\" id=\"sk-estimator-id-3\" type=\"checkbox\" ><label for=\"sk-estimator-id-3\" class=\"sk-toggleable__label sk-toggleable__label-arrow\">LogisticRegression</label><div class=\"sk-toggleable__content\"><pre>LogisticRegression()</pre></div></div></div></div></div></div></div>"
      ],
      "text/plain": [
       "Pipeline(steps=[('scale', None), ('model', LogisticRegression())])"
      ]
     },
     "execution_count": 34,
     "metadata": {},
     "output_type": "execute_result"
    }
   ],
   "source": [
    "model.fit(X_train, y_train.values.ravel())"
   ]
  },
  {
   "cell_type": "code",
   "execution_count": 35,
   "id": "6e15e313",
   "metadata": {
    "execution": {
     "iopub.execute_input": "2025-08-19T18:44:43.916778Z",
     "iopub.status.busy": "2025-08-19T18:44:43.915458Z",
     "iopub.status.idle": "2025-08-19T18:44:44.026998Z",
     "shell.execute_reply": "2025-08-19T18:44:44.026306Z"
    },
    "papermill": {
     "duration": 0.129096,
     "end_time": "2025-08-19T18:44:44.030006",
     "exception": false,
     "start_time": "2025-08-19T18:44:43.900910",
     "status": "completed"
    },
    "tags": []
   },
   "outputs": [
    {
     "data": {
      "text/plain": [
       "0.8580760227399398"
      ]
     },
     "execution_count": 35,
     "metadata": {},
     "output_type": "execute_result"
    }
   ],
   "source": [
    "from fairness_multiverse.universe import predict_w_threshold\n",
    "\n",
    "probs_test = model.predict_proba(X_test)\n",
    "\n",
    "'''\n",
    "Below code returns a boolean array (or binary 0/1 array depending on how it’s used) where each element \n",
    "is True if the probability of class 1 is greater than or equal to the threshold, and False otherwise.\n",
    "'''\n",
    "y_pred_default = predict_w_threshold(probs_test, 0.5)\n",
    "\n",
    "from sklearn.metrics import accuracy_score\n",
    "\n",
    "# Naive prediction\n",
    "accuracy_score(y_true = y_true, y_pred = y_pred_default)"
   ]
  },
  {
   "cell_type": "code",
   "execution_count": 36,
   "id": "6f14067c",
   "metadata": {
    "execution": {
     "iopub.execute_input": "2025-08-19T18:44:44.069349Z",
     "iopub.status.busy": "2025-08-19T18:44:44.068372Z",
     "iopub.status.idle": "2025-08-19T18:44:44.160537Z",
     "shell.execute_reply": "2025-08-19T18:44:44.159734Z"
    },
    "papermill": {
     "duration": 0.109241,
     "end_time": "2025-08-19T18:44:44.163422",
     "exception": false,
     "start_time": "2025-08-19T18:44:44.054181",
     "status": "completed"
    },
    "tags": []
   },
   "outputs": [
    {
     "data": {
      "text/plain": [
       "array([0, 0, 0, ..., 0, 0, 0])"
      ]
     },
     "execution_count": 36,
     "metadata": {},
     "output_type": "execute_result"
    }
   ],
   "source": [
    "model.predict(X_test)"
   ]
  },
  {
   "cell_type": "markdown",
   "id": "3759920c",
   "metadata": {
    "papermill": {
     "duration": 0.012132,
     "end_time": "2025-08-19T18:44:44.199525",
     "exception": false,
     "start_time": "2025-08-19T18:44:44.187393",
     "status": "completed"
    },
    "tags": []
   },
   "source": [
    "# Conformal Prediction"
   ]
  },
  {
   "cell_type": "code",
   "execution_count": 37,
   "id": "14b27f59",
   "metadata": {
    "execution": {
     "iopub.execute_input": "2025-08-19T18:44:44.224554Z",
     "iopub.status.busy": "2025-08-19T18:44:44.223444Z",
     "iopub.status.idle": "2025-08-19T18:44:44.230423Z",
     "shell.execute_reply": "2025-08-19T18:44:44.229221Z"
    },
    "papermill": {
     "duration": 0.0211,
     "end_time": "2025-08-19T18:44:44.231753",
     "exception": false,
     "start_time": "2025-08-19T18:44:44.210653",
     "status": "completed"
    },
    "tags": []
   },
   "outputs": [],
   "source": [
    "# Miscoverage level for conformal prediction (10% allowed error rate => 90% target coverage)\n",
    "alpha = 0.1"
   ]
  },
  {
   "cell_type": "code",
   "execution_count": 38,
   "id": "59102472",
   "metadata": {
    "execution": {
     "iopub.execute_input": "2025-08-19T18:44:44.259247Z",
     "iopub.status.busy": "2025-08-19T18:44:44.258079Z",
     "iopub.status.idle": "2025-08-19T18:44:44.353975Z",
     "shell.execute_reply": "2025-08-19T18:44:44.353244Z"
    },
    "papermill": {
     "duration": 0.110166,
     "end_time": "2025-08-19T18:44:44.355848",
     "exception": false,
     "start_time": "2025-08-19T18:44:44.245682",
     "status": "completed"
    },
    "tags": []
   },
   "outputs": [],
   "source": [
    "probs_calib = model.predict_proba(X_calib)"
   ]
  },
  {
   "cell_type": "code",
   "execution_count": 39,
   "id": "a792d4dd",
   "metadata": {
    "execution": {
     "iopub.execute_input": "2025-08-19T18:44:44.384871Z",
     "iopub.status.busy": "2025-08-19T18:44:44.383830Z",
     "iopub.status.idle": "2025-08-19T18:44:44.391290Z",
     "shell.execute_reply": "2025-08-19T18:44:44.390226Z"
    },
    "papermill": {
     "duration": 0.02213,
     "end_time": "2025-08-19T18:44:44.392654",
     "exception": false,
     "start_time": "2025-08-19T18:44:44.370524",
     "status": "completed"
    },
    "tags": []
   },
   "outputs": [],
   "source": [
    "y_calib = y_calib.values.ravel().astype(int)"
   ]
  },
  {
   "cell_type": "code",
   "execution_count": 40,
   "id": "650fd033",
   "metadata": {
    "execution": {
     "iopub.execute_input": "2025-08-19T18:44:44.429001Z",
     "iopub.status.busy": "2025-08-19T18:44:44.427865Z",
     "iopub.status.idle": "2025-08-19T18:44:44.441449Z",
     "shell.execute_reply": "2025-08-19T18:44:44.440194Z"
    },
    "papermill": {
     "duration": 0.036213,
     "end_time": "2025-08-19T18:44:44.444177",
     "exception": false,
     "start_time": "2025-08-19T18:44:44.407964",
     "status": "completed"
    },
    "tags": []
   },
   "outputs": [],
   "source": [
    "from fairness_multiverse.conformal import compute_nc_scores\n",
    "\n",
    "# Compute nonconformity scores on calibration set (1 - probability of true class)\n",
    "nc_scores = compute_nc_scores(probs_calib, y_calib)"
   ]
  },
  {
   "cell_type": "code",
   "execution_count": 41,
   "id": "28ada44c",
   "metadata": {
    "execution": {
     "iopub.execute_input": "2025-08-19T18:44:44.479073Z",
     "iopub.status.busy": "2025-08-19T18:44:44.477729Z",
     "iopub.status.idle": "2025-08-19T18:44:44.485632Z",
     "shell.execute_reply": "2025-08-19T18:44:44.484837Z"
    },
    "papermill": {
     "duration": 0.023116,
     "end_time": "2025-08-19T18:44:44.487154",
     "exception": false,
     "start_time": "2025-08-19T18:44:44.464038",
     "status": "completed"
    },
    "tags": []
   },
   "outputs": [],
   "source": [
    "from fairness_multiverse.conformal import find_threshold\n",
    "\n",
    "# Find conformal threshold q_hat for the given alpha (split conformal method)\n",
    "q_hat = find_threshold(nc_scores, alpha)"
   ]
  },
  {
   "cell_type": "code",
   "execution_count": 42,
   "id": "df56469e",
   "metadata": {
    "execution": {
     "iopub.execute_input": "2025-08-19T18:44:44.513788Z",
     "iopub.status.busy": "2025-08-19T18:44:44.513390Z",
     "iopub.status.idle": "2025-08-19T18:44:44.519205Z",
     "shell.execute_reply": "2025-08-19T18:44:44.518476Z"
    },
    "papermill": {
     "duration": 0.019628,
     "end_time": "2025-08-19T18:44:44.520527",
     "exception": false,
     "start_time": "2025-08-19T18:44:44.500899",
     "status": "completed"
    },
    "tags": []
   },
   "outputs": [
    {
     "data": {
      "text/plain": [
       "0.6852731401111454"
      ]
     },
     "execution_count": 42,
     "metadata": {},
     "output_type": "execute_result"
    }
   ],
   "source": [
    "q_hat"
   ]
  },
  {
   "cell_type": "code",
   "execution_count": 43,
   "id": "aa1f5faa",
   "metadata": {
    "execution": {
     "iopub.execute_input": "2025-08-19T18:44:44.545106Z",
     "iopub.status.busy": "2025-08-19T18:44:44.544725Z",
     "iopub.status.idle": "2025-08-19T18:44:45.045720Z",
     "shell.execute_reply": "2025-08-19T18:44:45.044540Z"
    },
    "papermill": {
     "duration": 0.515131,
     "end_time": "2025-08-19T18:44:45.047358",
     "exception": false,
     "start_time": "2025-08-19T18:44:44.532227",
     "status": "completed"
    },
    "tags": []
   },
   "outputs": [],
   "source": [
    "from fairness_multiverse.conformal import predict_conformal_sets\n",
    "\n",
    "# Generate prediction sets for each test example\n",
    "pred_sets = predict_conformal_sets(model, X_test, q_hat)"
   ]
  },
  {
   "cell_type": "code",
   "execution_count": 44,
   "id": "97f67a6b",
   "metadata": {
    "execution": {
     "iopub.execute_input": "2025-08-19T18:44:45.075226Z",
     "iopub.status.busy": "2025-08-19T18:44:45.073924Z",
     "iopub.status.idle": "2025-08-19T18:44:45.082400Z",
     "shell.execute_reply": "2025-08-19T18:44:45.081337Z"
    },
    "papermill": {
     "duration": 0.023059,
     "end_time": "2025-08-19T18:44:45.083681",
     "exception": false,
     "start_time": "2025-08-19T18:44:45.060622",
     "status": "completed"
    },
    "tags": []
   },
   "outputs": [],
   "source": [
    "y_true = y_true.squeeze()"
   ]
  },
  {
   "cell_type": "code",
   "execution_count": 45,
   "id": "e700e9a7",
   "metadata": {
    "execution": {
     "iopub.execute_input": "2025-08-19T18:44:45.112623Z",
     "iopub.status.busy": "2025-08-19T18:44:45.111638Z",
     "iopub.status.idle": "2025-08-19T18:44:45.618550Z",
     "shell.execute_reply": "2025-08-19T18:44:45.617278Z"
    },
    "papermill": {
     "duration": 0.521761,
     "end_time": "2025-08-19T18:44:45.620045",
     "exception": false,
     "start_time": "2025-08-19T18:44:45.098284",
     "status": "completed"
    },
    "tags": []
   },
   "outputs": [],
   "source": [
    "from fairness_multiverse.conformal import evaluate_sets\n",
    "\n",
    "# Evaluate coverage and average set size on test data\n",
    "metrics = evaluate_sets(pred_sets, y_true)"
   ]
  },
  {
   "cell_type": "markdown",
   "id": "efbacec0",
   "metadata": {
    "papermill": {
     "duration": 0.021825,
     "end_time": "2025-08-19T18:44:45.655056",
     "exception": false,
     "start_time": "2025-08-19T18:44:45.633231",
     "status": "completed"
    },
    "tags": []
   },
   "source": [
    "# CP Metrics"
   ]
  },
  {
   "cell_type": "code",
   "execution_count": 46,
   "id": "9de55fb1",
   "metadata": {
    "execution": {
     "iopub.execute_input": "2025-08-19T18:44:45.708412Z",
     "iopub.status.busy": "2025-08-19T18:44:45.707931Z",
     "iopub.status.idle": "2025-08-19T18:44:45.714330Z",
     "shell.execute_reply": "2025-08-19T18:44:45.713760Z"
    },
    "papermill": {
     "duration": 0.027432,
     "end_time": "2025-08-19T18:44:45.716323",
     "exception": false,
     "start_time": "2025-08-19T18:44:45.688891",
     "status": "completed"
    },
    "tags": []
   },
   "outputs": [
    {
     "data": {
      "text/plain": [
       "{'coverage': 0.9115260283134544, 'avg_size': 1.1908928770482667}"
      ]
     },
     "execution_count": 46,
     "metadata": {},
     "output_type": "execute_result"
    }
   ],
   "source": [
    "metrics"
   ]
  },
  {
   "cell_type": "code",
   "execution_count": 47,
   "id": "64c340a1",
   "metadata": {
    "execution": {
     "iopub.execute_input": "2025-08-19T18:44:45.744897Z",
     "iopub.status.busy": "2025-08-19T18:44:45.744159Z",
     "iopub.status.idle": "2025-08-19T18:44:45.752778Z",
     "shell.execute_reply": "2025-08-19T18:44:45.751376Z"
    },
    "papermill": {
     "duration": 0.023344,
     "end_time": "2025-08-19T18:44:45.754379",
     "exception": false,
     "start_time": "2025-08-19T18:44:45.731035",
     "status": "completed"
    },
    "tags": []
   },
   "outputs": [],
   "source": [
    "example_universe = universe.copy()\n",
    "universe_training_year = example_universe.get(\"training_year\")\n",
    "universe_training_size = example_universe.get(\"training_size\")\n",
    "universe_scale = example_universe.get(\"scale\")\n",
    "universe_model = example_universe.get(\"model\")\n",
    "universe_exclude_features = example_universe.get(\"exclude_features\")\n",
    "universe_exclude_subgroups = example_universe.get(\"exclude_subgroups\")"
   ]
  },
  {
   "cell_type": "code",
   "execution_count": 48,
   "id": "dbb53cb4",
   "metadata": {
    "execution": {
     "iopub.execute_input": "2025-08-19T18:44:45.785613Z",
     "iopub.status.busy": "2025-08-19T18:44:45.784045Z",
     "iopub.status.idle": "2025-08-19T18:44:45.795122Z",
     "shell.execute_reply": "2025-08-19T18:44:45.793489Z"
    },
    "papermill": {
     "duration": 0.027312,
     "end_time": "2025-08-19T18:44:45.796844",
     "exception": false,
     "start_time": "2025-08-19T18:44:45.769532",
     "status": "completed"
    },
    "tags": []
   },
   "outputs": [],
   "source": [
    "cp_metrics_dict = {\n",
    "    \"universe_id\": [universe_id],\n",
    "    \"universe_training_year\": [universe_training_year],\n",
    "    \"universe_training_size\": [universe_training_size],\n",
    "    \"universe_scale\": [universe_scale],\n",
    "    \"universe_model\": [universe_model],\n",
    "    \"universe_exclude_features\": [universe_exclude_features],\n",
    "    \"universe_exclude_subgroups\": [universe_exclude_subgroups],\n",
    "    \"q_hat\": [q_hat],\n",
    "    \"coverage\": [metrics[\"coverage\"]],\n",
    "    \"avg_size\": [metrics[\"avg_size\"]],\n",
    "}"
   ]
  },
  {
   "cell_type": "code",
   "execution_count": 49,
   "id": "0d70d4b2",
   "metadata": {
    "execution": {
     "iopub.execute_input": "2025-08-19T18:44:45.829482Z",
     "iopub.status.busy": "2025-08-19T18:44:45.828275Z",
     "iopub.status.idle": "2025-08-19T18:44:45.840414Z",
     "shell.execute_reply": "2025-08-19T18:44:45.839266Z"
    },
    "papermill": {
     "duration": 0.027424,
     "end_time": "2025-08-19T18:44:45.841807",
     "exception": false,
     "start_time": "2025-08-19T18:44:45.814383",
     "status": "completed"
    },
    "tags": []
   },
   "outputs": [],
   "source": [
    "cp_metrics_df = pd.DataFrame(cp_metrics_dict)"
   ]
  },
  {
   "cell_type": "code",
   "execution_count": 50,
   "id": "b494403c",
   "metadata": {
    "execution": {
     "iopub.execute_input": "2025-08-19T18:44:45.872655Z",
     "iopub.status.busy": "2025-08-19T18:44:45.871580Z",
     "iopub.status.idle": "2025-08-19T18:44:45.895428Z",
     "shell.execute_reply": "2025-08-19T18:44:45.894490Z"
    },
    "papermill": {
     "duration": 0.039913,
     "end_time": "2025-08-19T18:44:45.897147",
     "exception": false,
     "start_time": "2025-08-19T18:44:45.857234",
     "status": "completed"
    },
    "tags": []
   },
   "outputs": [
    {
     "data": {
      "text/html": [
       "<div>\n",
       "<style scoped>\n",
       "    .dataframe tbody tr th:only-of-type {\n",
       "        vertical-align: middle;\n",
       "    }\n",
       "\n",
       "    .dataframe tbody tr th {\n",
       "        vertical-align: top;\n",
       "    }\n",
       "\n",
       "    .dataframe thead th {\n",
       "        text-align: right;\n",
       "    }\n",
       "</style>\n",
       "<table border=\"1\" class=\"dataframe\">\n",
       "  <thead>\n",
       "    <tr style=\"text-align: right;\">\n",
       "      <th></th>\n",
       "      <th>universe_id</th>\n",
       "      <th>universe_training_year</th>\n",
       "      <th>universe_training_size</th>\n",
       "      <th>universe_scale</th>\n",
       "      <th>universe_model</th>\n",
       "      <th>universe_exclude_features</th>\n",
       "      <th>universe_exclude_subgroups</th>\n",
       "      <th>q_hat</th>\n",
       "      <th>coverage</th>\n",
       "      <th>avg_size</th>\n",
       "    </tr>\n",
       "  </thead>\n",
       "  <tbody>\n",
       "    <tr>\n",
       "      <th>0</th>\n",
       "      <td>652b01732ea8b24af1798f576fbb62b3</td>\n",
       "      <td>2010_14</td>\n",
       "      <td>5k</td>\n",
       "      <td>do-not-scale</td>\n",
       "      <td>logreg</td>\n",
       "      <td>nationality</td>\n",
       "      <td>keep-all</td>\n",
       "      <td>0.685273</td>\n",
       "      <td>0.911526</td>\n",
       "      <td>1.190893</td>\n",
       "    </tr>\n",
       "  </tbody>\n",
       "</table>\n",
       "</div>"
      ],
      "text/plain": [
       "                        universe_id universe_training_year  \\\n",
       "0  652b01732ea8b24af1798f576fbb62b3                2010_14   \n",
       "\n",
       "  universe_training_size universe_scale universe_model  \\\n",
       "0                     5k   do-not-scale         logreg   \n",
       "\n",
       "  universe_exclude_features universe_exclude_subgroups     q_hat  coverage  \\\n",
       "0               nationality                   keep-all  0.685273  0.911526   \n",
       "\n",
       "   avg_size  \n",
       "0  1.190893  "
      ]
     },
     "execution_count": 50,
     "metadata": {},
     "output_type": "execute_result"
    }
   ],
   "source": [
    "cp_metrics_df"
   ]
  },
  {
   "cell_type": "markdown",
   "id": "ed608b0b",
   "metadata": {
    "papermill": {
     "duration": 0.012737,
     "end_time": "2025-08-19T18:44:45.929240",
     "exception": false,
     "start_time": "2025-08-19T18:44:45.916503",
     "status": "completed"
    },
    "tags": []
   },
   "source": [
    "Conditional coverage & looking at subgroups"
   ]
  },
  {
   "cell_type": "code",
   "execution_count": 51,
   "id": "8968c366",
   "metadata": {
    "execution": {
     "iopub.execute_input": "2025-08-19T18:44:45.956637Z",
     "iopub.status.busy": "2025-08-19T18:44:45.954938Z",
     "iopub.status.idle": "2025-08-19T18:44:46.256722Z",
     "shell.execute_reply": "2025-08-19T18:44:46.255958Z"
    },
    "papermill": {
     "duration": 0.322844,
     "end_time": "2025-08-19T18:44:46.264076",
     "exception": false,
     "start_time": "2025-08-19T18:44:45.941232",
     "status": "completed"
    },
    "tags": []
   },
   "outputs": [],
   "source": [
    "from fairness_multiverse.conformal import build_cp_groups\n",
    "\n",
    "cp_groups_df = build_cp_groups(pred_sets, y_true, X_test.index, org_test)"
   ]
  },
  {
   "cell_type": "code",
   "execution_count": 52,
   "id": "292ddabf",
   "metadata": {
    "execution": {
     "iopub.execute_input": "2025-08-19T18:44:46.304698Z",
     "iopub.status.busy": "2025-08-19T18:44:46.303038Z",
     "iopub.status.idle": "2025-08-19T18:44:47.176960Z",
     "shell.execute_reply": "2025-08-19T18:44:47.175517Z"
    },
    "papermill": {
     "duration": 0.88993,
     "end_time": "2025-08-19T18:44:47.178704",
     "exception": false,
     "start_time": "2025-08-19T18:44:46.288774",
     "status": "completed"
    },
    "tags": []
   },
   "outputs": [],
   "source": [
    "# Define covered = 1 if true_label is in the predicted set\n",
    "cp_groups_df['covered'] = cp_groups_df.apply(\n",
    "    lambda r: int(r['true_label'] in r['pred_set']),\n",
    "    axis=1\n",
    ")"
   ]
  },
  {
   "cell_type": "code",
   "execution_count": 53,
   "id": "3a261692",
   "metadata": {
    "execution": {
     "iopub.execute_input": "2025-08-19T18:44:47.208823Z",
     "iopub.status.busy": "2025-08-19T18:44:47.207770Z",
     "iopub.status.idle": "2025-08-19T18:44:47.227832Z",
     "shell.execute_reply": "2025-08-19T18:44:47.226977Z"
    },
    "papermill": {
     "duration": 0.03593,
     "end_time": "2025-08-19T18:44:47.229553",
     "exception": false,
     "start_time": "2025-08-19T18:44:47.193623",
     "status": "completed"
    },
    "tags": []
   },
   "outputs": [],
   "source": [
    "subgroups = ['frau1','nongerman','nongerman_male','nongerman_female']\n",
    "\n",
    "# Conditional coverage for subgroup==1\n",
    "cond_coverage = {\n",
    "    g: cp_groups_df.loc[cp_groups_df[g]==1, 'covered'].mean()\n",
    "    for g in subgroups\n",
    "}"
   ]
  },
  {
   "cell_type": "code",
   "execution_count": 54,
   "id": "894fd600",
   "metadata": {
    "execution": {
     "iopub.execute_input": "2025-08-19T18:44:47.265334Z",
     "iopub.status.busy": "2025-08-19T18:44:47.263693Z",
     "iopub.status.idle": "2025-08-19T18:44:47.276092Z",
     "shell.execute_reply": "2025-08-19T18:44:47.274902Z"
    },
    "papermill": {
     "duration": 0.028193,
     "end_time": "2025-08-19T18:44:47.277449",
     "exception": false,
     "start_time": "2025-08-19T18:44:47.249256",
     "status": "completed"
    },
    "tags": []
   },
   "outputs": [
    {
     "data": {
      "text/plain": [
       "{'frau1': 0.9106348564496562,\n",
       " 'nongerman': 0.9243249312300006,\n",
       " 'nongerman_male': 0.9383950283707106,\n",
       " 'nongerman_female': 0.9010432190760059}"
      ]
     },
     "execution_count": 54,
     "metadata": {},
     "output_type": "execute_result"
    }
   ],
   "source": [
    "cond_coverage"
   ]
  },
  {
   "cell_type": "code",
   "execution_count": 55,
   "id": "942895c7",
   "metadata": {
    "execution": {
     "iopub.execute_input": "2025-08-19T18:44:47.311908Z",
     "iopub.status.busy": "2025-08-19T18:44:47.310898Z",
     "iopub.status.idle": "2025-08-19T18:44:47.323422Z",
     "shell.execute_reply": "2025-08-19T18:44:47.321750Z"
    },
    "papermill": {
     "duration": 0.029522,
     "end_time": "2025-08-19T18:44:47.325254",
     "exception": false,
     "start_time": "2025-08-19T18:44:47.295732",
     "status": "completed"
    },
    "tags": []
   },
   "outputs": [],
   "source": [
    "for subgroup, cov in cond_coverage.items():\n",
    "    cp_metrics_df[f\"cov_{subgroup}\"] = cov"
   ]
  },
  {
   "cell_type": "code",
   "execution_count": 56,
   "id": "3970120f",
   "metadata": {
    "execution": {
     "iopub.execute_input": "2025-08-19T18:44:47.360684Z",
     "iopub.status.busy": "2025-08-19T18:44:47.359528Z",
     "iopub.status.idle": "2025-08-19T18:44:47.386420Z",
     "shell.execute_reply": "2025-08-19T18:44:47.385673Z"
    },
    "papermill": {
     "duration": 0.043538,
     "end_time": "2025-08-19T18:44:47.388167",
     "exception": false,
     "start_time": "2025-08-19T18:44:47.344629",
     "status": "completed"
    },
    "tags": []
   },
   "outputs": [
    {
     "data": {
      "text/html": [
       "<div>\n",
       "<style scoped>\n",
       "    .dataframe tbody tr th:only-of-type {\n",
       "        vertical-align: middle;\n",
       "    }\n",
       "\n",
       "    .dataframe tbody tr th {\n",
       "        vertical-align: top;\n",
       "    }\n",
       "\n",
       "    .dataframe thead th {\n",
       "        text-align: right;\n",
       "    }\n",
       "</style>\n",
       "<table border=\"1\" class=\"dataframe\">\n",
       "  <thead>\n",
       "    <tr style=\"text-align: right;\">\n",
       "      <th></th>\n",
       "      <th>universe_id</th>\n",
       "      <th>universe_training_year</th>\n",
       "      <th>universe_training_size</th>\n",
       "      <th>universe_scale</th>\n",
       "      <th>universe_model</th>\n",
       "      <th>universe_exclude_features</th>\n",
       "      <th>universe_exclude_subgroups</th>\n",
       "      <th>q_hat</th>\n",
       "      <th>coverage</th>\n",
       "      <th>avg_size</th>\n",
       "      <th>cov_frau1</th>\n",
       "      <th>cov_nongerman</th>\n",
       "      <th>cov_nongerman_male</th>\n",
       "      <th>cov_nongerman_female</th>\n",
       "    </tr>\n",
       "  </thead>\n",
       "  <tbody>\n",
       "    <tr>\n",
       "      <th>0</th>\n",
       "      <td>652b01732ea8b24af1798f576fbb62b3</td>\n",
       "      <td>2010_14</td>\n",
       "      <td>5k</td>\n",
       "      <td>do-not-scale</td>\n",
       "      <td>logreg</td>\n",
       "      <td>nationality</td>\n",
       "      <td>keep-all</td>\n",
       "      <td>0.685273</td>\n",
       "      <td>0.911526</td>\n",
       "      <td>1.190893</td>\n",
       "      <td>0.910635</td>\n",
       "      <td>0.924325</td>\n",
       "      <td>0.938395</td>\n",
       "      <td>0.901043</td>\n",
       "    </tr>\n",
       "  </tbody>\n",
       "</table>\n",
       "</div>"
      ],
      "text/plain": [
       "                        universe_id universe_training_year  \\\n",
       "0  652b01732ea8b24af1798f576fbb62b3                2010_14   \n",
       "\n",
       "  universe_training_size universe_scale universe_model  \\\n",
       "0                     5k   do-not-scale         logreg   \n",
       "\n",
       "  universe_exclude_features universe_exclude_subgroups     q_hat  coverage  \\\n",
       "0               nationality                   keep-all  0.685273  0.911526   \n",
       "\n",
       "   avg_size  cov_frau1  cov_nongerman  cov_nongerman_male  \\\n",
       "0  1.190893   0.910635       0.924325            0.938395   \n",
       "\n",
       "   cov_nongerman_female  \n",
       "0              0.901043  "
      ]
     },
     "execution_count": 56,
     "metadata": {},
     "output_type": "execute_result"
    }
   ],
   "source": [
    "cp_metrics_df"
   ]
  },
  {
   "cell_type": "markdown",
   "id": "3fc519cc",
   "metadata": {
    "papermill": {
     "duration": 0.013572,
     "end_time": "2025-08-19T18:44:47.426038",
     "exception": false,
     "start_time": "2025-08-19T18:44:47.412466",
     "status": "completed"
    },
    "tags": []
   },
   "source": [
    "# (Fairness) Metrics"
   ]
  },
  {
   "cell_type": "code",
   "execution_count": 57,
   "id": "a2e5e155",
   "metadata": {
    "execution": {
     "iopub.execute_input": "2025-08-19T18:44:47.453923Z",
     "iopub.status.busy": "2025-08-19T18:44:47.452903Z",
     "iopub.status.idle": "2025-08-19T18:44:47.480376Z",
     "shell.execute_reply": "2025-08-19T18:44:47.479591Z"
    },
    "papermill": {
     "duration": 0.044,
     "end_time": "2025-08-19T18:44:47.482565",
     "exception": false,
     "start_time": "2025-08-19T18:44:47.438565",
     "status": "completed"
    },
    "tags": []
   },
   "outputs": [],
   "source": [
    "colname_to_bin = \"maxdeutsch1\"\n",
    "majority_value = org_train[colname_to_bin].mode()[0]\n",
    "\n",
    "org_test[\"majmin\"] = np.where(org_test[colname_to_bin] == majority_value, \"majority\", \"minority\")"
   ]
  },
  {
   "cell_type": "code",
   "execution_count": 58,
   "id": "17e3e4d5",
   "metadata": {
    "execution": {
     "iopub.execute_input": "2025-08-19T18:44:47.541168Z",
     "iopub.status.busy": "2025-08-19T18:44:47.540234Z",
     "iopub.status.idle": "2025-08-19T18:44:49.244135Z",
     "shell.execute_reply": "2025-08-19T18:44:49.243020Z"
    },
    "papermill": {
     "duration": 1.73901,
     "end_time": "2025-08-19T18:44:49.246911",
     "exception": false,
     "start_time": "2025-08-19T18:44:47.507901",
     "status": "completed"
    },
    "tags": []
   },
   "outputs": [],
   "source": [
    "example_universe = universe.copy()\n",
    "example_universe[\"cutoff\"] = example_universe[\"cutoff\"][0]\n",
    "example_universe[\"eval_fairness_grouping\"] = example_universe[\"eval_fairness_grouping\"][0]\n",
    "fairness_dict, metric_frame = universe_analysis.compute_metrics(\n",
    "    example_universe,\n",
    "    y_pred_prob=probs_test,\n",
    "    y_test=y_true,\n",
    "    org_test=org_test,\n",
    ")"
   ]
  },
  {
   "cell_type": "markdown",
   "id": "1fb7a0e9",
   "metadata": {
    "papermill": {
     "duration": 0.013154,
     "end_time": "2025-08-19T18:44:49.286314",
     "exception": false,
     "start_time": "2025-08-19T18:44:49.273160",
     "status": "completed"
    },
    "tags": []
   },
   "source": [
    "# Overall"
   ]
  },
  {
   "cell_type": "markdown",
   "id": "be1784b1",
   "metadata": {
    "papermill": {
     "duration": 0.012489,
     "end_time": "2025-08-19T18:44:49.311580",
     "exception": false,
     "start_time": "2025-08-19T18:44:49.299091",
     "status": "completed"
    },
    "tags": []
   },
   "source": [
    "Main fairness target: Equalized Odds. Seems to be a better fit than equal opportunity, since we're not only interested in Y = 1. Seems to be a better fit than demographic parity, since we also care about accuracy, not just equal distribution of preds.\n",
    "\n",
    "Pick column for computation of fairness metrics\n",
    "\n",
    "Performance\n",
    "Overall performance measures, most interesting in relation to the measures split by group below"
   ]
  },
  {
   "cell_type": "code",
   "execution_count": 59,
   "id": "b7672bee",
   "metadata": {
    "execution": {
     "iopub.execute_input": "2025-08-19T18:44:49.340409Z",
     "iopub.status.busy": "2025-08-19T18:44:49.339034Z",
     "iopub.status.idle": "2025-08-19T18:44:49.354356Z",
     "shell.execute_reply": "2025-08-19T18:44:49.353208Z"
    },
    "papermill": {
     "duration": 0.031961,
     "end_time": "2025-08-19T18:44:49.355902",
     "exception": false,
     "start_time": "2025-08-19T18:44:49.323941",
     "status": "completed"
    },
    "tags": []
   },
   "outputs": [
    {
     "data": {
      "text/plain": [
       "accuracy                   0.218827\n",
       "balanced accuracy          0.536225\n",
       "f1                         0.240311\n",
       "precision                  0.137282\n",
       "false positive rate        0.890706\n",
       "false negative rate        0.036844\n",
       "selection rate             0.900000\n",
       "count                  89710.000000\n",
       "dtype: float64"
      ]
     },
     "execution_count": 59,
     "metadata": {},
     "output_type": "execute_result"
    }
   ],
   "source": [
    "metric_frame.overall"
   ]
  },
  {
   "cell_type": "markdown",
   "id": "d93333c9",
   "metadata": {
    "papermill": {
     "duration": 0.013847,
     "end_time": "2025-08-19T18:44:49.389468",
     "exception": false,
     "start_time": "2025-08-19T18:44:49.375621",
     "status": "completed"
    },
    "tags": []
   },
   "source": [
    "By Group"
   ]
  },
  {
   "cell_type": "code",
   "execution_count": 60,
   "id": "52256966",
   "metadata": {
    "execution": {
     "iopub.execute_input": "2025-08-19T18:44:49.416590Z",
     "iopub.status.busy": "2025-08-19T18:44:49.416150Z",
     "iopub.status.idle": "2025-08-19T18:44:49.428445Z",
     "shell.execute_reply": "2025-08-19T18:44:49.427803Z"
    },
    "papermill": {
     "duration": 0.027528,
     "end_time": "2025-08-19T18:44:49.429964",
     "exception": false,
     "start_time": "2025-08-19T18:44:49.402436",
     "status": "completed"
    },
    "tags": []
   },
   "outputs": [
    {
     "data": {
      "text/html": [
       "<div>\n",
       "<style scoped>\n",
       "    .dataframe tbody tr th:only-of-type {\n",
       "        vertical-align: middle;\n",
       "    }\n",
       "\n",
       "    .dataframe tbody tr th {\n",
       "        vertical-align: top;\n",
       "    }\n",
       "\n",
       "    .dataframe thead th {\n",
       "        text-align: right;\n",
       "    }\n",
       "</style>\n",
       "<table border=\"1\" class=\"dataframe\">\n",
       "  <thead>\n",
       "    <tr style=\"text-align: right;\">\n",
       "      <th></th>\n",
       "      <th>accuracy</th>\n",
       "      <th>balanced accuracy</th>\n",
       "      <th>f1</th>\n",
       "      <th>precision</th>\n",
       "      <th>false positive rate</th>\n",
       "      <th>false negative rate</th>\n",
       "      <th>selection rate</th>\n",
       "      <th>count</th>\n",
       "    </tr>\n",
       "    <tr>\n",
       "      <th>majmin</th>\n",
       "      <th></th>\n",
       "      <th></th>\n",
       "      <th></th>\n",
       "      <th></th>\n",
       "      <th></th>\n",
       "      <th></th>\n",
       "      <th></th>\n",
       "      <th></th>\n",
       "    </tr>\n",
       "  </thead>\n",
       "  <tbody>\n",
       "    <tr>\n",
       "      <th>majority</th>\n",
       "      <td>0.240972</td>\n",
       "      <td>0.544523</td>\n",
       "      <td>0.249950</td>\n",
       "      <td>0.143744</td>\n",
       "      <td>0.868066</td>\n",
       "      <td>0.042888</td>\n",
       "      <td>0.879832</td>\n",
       "      <td>69170.0</td>\n",
       "    </tr>\n",
       "    <tr>\n",
       "      <th>minority</th>\n",
       "      <td>0.144255</td>\n",
       "      <td>0.510495</td>\n",
       "      <td>0.209987</td>\n",
       "      <td>0.117499</td>\n",
       "      <td>0.965496</td>\n",
       "      <td>0.013514</td>\n",
       "      <td>0.967916</td>\n",
       "      <td>20540.0</td>\n",
       "    </tr>\n",
       "  </tbody>\n",
       "</table>\n",
       "</div>"
      ],
      "text/plain": [
       "          accuracy  balanced accuracy        f1  precision  \\\n",
       "majmin                                                       \n",
       "majority  0.240972           0.544523  0.249950   0.143744   \n",
       "minority  0.144255           0.510495  0.209987   0.117499   \n",
       "\n",
       "          false positive rate  false negative rate  selection rate    count  \n",
       "majmin                                                                       \n",
       "majority             0.868066             0.042888        0.879832  69170.0  \n",
       "minority             0.965496             0.013514        0.967916  20540.0  "
      ]
     },
     "execution_count": 60,
     "metadata": {},
     "output_type": "execute_result"
    }
   ],
   "source": [
    "metric_frame.by_group"
   ]
  },
  {
   "cell_type": "code",
   "execution_count": 61,
   "id": "6e6c20ae",
   "metadata": {
    "execution": {
     "iopub.execute_input": "2025-08-19T18:44:49.459418Z",
     "iopub.status.busy": "2025-08-19T18:44:49.458717Z",
     "iopub.status.idle": "2025-08-19T18:44:51.352255Z",
     "shell.execute_reply": "2025-08-19T18:44:51.351161Z"
    },
    "papermill": {
     "duration": 1.909849,
     "end_time": "2025-08-19T18:44:51.354175",
     "exception": false,
     "start_time": "2025-08-19T18:44:49.444326",
     "status": "completed"
    },
    "tags": []
   },
   "outputs": [
    {
     "data": {
      "text/plain": [
       "array([[<Axes: title={'center': 'accuracy'}, xlabel='majmin'>,\n",
       "        <Axes: title={'center': 'balanced accuracy'}, xlabel='majmin'>,\n",
       "        <Axes: title={'center': 'f1'}, xlabel='majmin'>],\n",
       "       [<Axes: title={'center': 'precision'}, xlabel='majmin'>,\n",
       "        <Axes: title={'center': 'false positive rate'}, xlabel='majmin'>,\n",
       "        <Axes: title={'center': 'false negative rate'}, xlabel='majmin'>],\n",
       "       [<Axes: title={'center': 'selection rate'}, xlabel='majmin'>,\n",
       "        <Axes: title={'center': 'count'}, xlabel='majmin'>,\n",
       "        <Axes: xlabel='majmin'>]], dtype=object)"
      ]
     },
     "execution_count": 61,
     "metadata": {},
     "output_type": "execute_result"
    },
    {
     "data": {
      "image/png": "[encoded data removed]",
      "text/plain": [
       "<Figure size 1200x800 with 9 Axes>"
      ]
     },
     "metadata": {},
     "output_type": "display_data"
    }
   ],
   "source": [
    "# In a graphic\n",
    "metric_frame.by_group.plot.bar(\n",
    "    subplots=True,\n",
    "    layout=[3, 3],\n",
    "    legend=False,\n",
    "    figsize=[12, 8],\n",
    "    title=\"Show all metrics\",\n",
    ")"
   ]
  },
  {
   "cell_type": "markdown",
   "id": "b2e433ae",
   "metadata": {
    "papermill": {
     "duration": 0.029437,
     "end_time": "2025-08-19T18:44:51.401163",
     "exception": false,
     "start_time": "2025-08-19T18:44:51.371726",
     "status": "completed"
    },
    "tags": []
   },
   "source": [
    "# Final Output"
   ]
  },
  {
   "cell_type": "code",
   "execution_count": 62,
   "id": "3871301e",
   "metadata": {
    "execution": {
     "iopub.execute_input": "2025-08-19T18:44:51.434962Z",
     "iopub.status.busy": "2025-08-19T18:44:51.432834Z",
     "iopub.status.idle": "2025-08-19T18:44:51.453415Z",
     "shell.execute_reply": "2025-08-19T18:44:51.452260Z"
    },
    "papermill": {
     "duration": 0.039306,
     "end_time": "2025-08-19T18:44:51.455239",
     "exception": false,
     "start_time": "2025-08-19T18:44:51.415933",
     "status": "completed"
    },
    "tags": []
   },
   "outputs": [
    {
     "data": {
      "text/plain": [
       "4"
      ]
     },
     "execution_count": 62,
     "metadata": {},
     "output_type": "execute_result"
    }
   ],
   "source": [
    "sub_universes = universe_analysis.generate_sub_universes()\n",
    "len(sub_universes)"
   ]
  },
  {
   "cell_type": "code",
   "execution_count": 63,
   "id": "d9cfdaca",
   "metadata": {
    "execution": {
     "iopub.execute_input": "2025-08-19T18:44:51.495074Z",
     "iopub.status.busy": "2025-08-19T18:44:51.494004Z",
     "iopub.status.idle": "2025-08-19T18:44:51.507518Z",
     "shell.execute_reply": "2025-08-19T18:44:51.505799Z"
    },
    "papermill": {
     "duration": 0.032054,
     "end_time": "2025-08-19T18:44:51.509377",
     "exception": false,
     "start_time": "2025-08-19T18:44:51.477323",
     "status": "completed"
    },
    "tags": []
   },
   "outputs": [],
   "source": [
    "def filter_sub_universe_data(sub_universe, org_test):\n",
    "    # Keep all rows — no filtering\n",
    "    keep_rows_mask = np.ones(org_test.shape[0], dtype=bool)\n",
    "\n",
    "    print(f\"[INFO] Keeping all rows: {keep_rows_mask.sum()} rows retained.\")\n",
    "    return keep_rows_mask"
   ]
  },
  {
   "cell_type": "code",
   "execution_count": 64,
   "id": "2bc31ac1",
   "metadata": {
    "execution": {
     "iopub.execute_input": "2025-08-19T18:44:51.548283Z",
     "iopub.status.busy": "2025-08-19T18:44:51.547256Z",
     "iopub.status.idle": "2025-08-19T18:44:58.329377Z",
     "shell.execute_reply": "2025-08-19T18:44:58.328105Z"
    },
    "papermill": {
     "duration": 6.79982,
     "end_time": "2025-08-19T18:44:58.330961",
     "exception": false,
     "start_time": "2025-08-19T18:44:51.531141",
     "status": "completed"
    },
    "tags": []
   },
   "outputs": [
    {
     "name": "stdout",
     "output_type": "stream",
     "text": [
      "Stopping execution_time clock.\n",
      "[INFO] Keeping all rows: 89710 rows retained.\n"
     ]
    },
    {
     "name": "stdout",
     "output_type": "stream",
     "text": [
      "[INFO] Keeping all rows: 89710 rows retained.\n"
     ]
    },
    {
     "name": "stdout",
     "output_type": "stream",
     "text": [
      "[INFO] Keeping all rows: 89710 rows retained.\n"
     ]
    },
    {
     "name": "stdout",
     "output_type": "stream",
     "text": [
      "[INFO] Keeping all rows: 89710 rows retained.\n"
     ]
    },
    {
     "data": {
      "text/html": [
       "<div>\n",
       "<style scoped>\n",
       "    .dataframe tbody tr th:only-of-type {\n",
       "        vertical-align: middle;\n",
       "    }\n",
       "\n",
       "    .dataframe tbody tr th {\n",
       "        vertical-align: top;\n",
       "    }\n",
       "\n",
       "    .dataframe thead th {\n",
       "        text-align: right;\n",
       "    }\n",
       "</style>\n",
       "<table border=\"1\" class=\"dataframe\">\n",
       "  <thead>\n",
       "    <tr style=\"text-align: right;\">\n",
       "      <th></th>\n",
       "      <th>run_no</th>\n",
       "      <th>universe_id</th>\n",
       "      <th>universe_settings</th>\n",
       "      <th>execution_time</th>\n",
       "      <th>test_size_n</th>\n",
       "      <th>test_size_frac</th>\n",
       "      <th>fair_main_equalized_odds_difference</th>\n",
       "      <th>fair_main_equalized_odds_ratio</th>\n",
       "      <th>fair_main_demographic_parity_difference</th>\n",
       "      <th>fair_main_demographic_parity_ratio</th>\n",
       "      <th>...</th>\n",
       "      <th>perf_grp_precision_0</th>\n",
       "      <th>perf_grp_precision_1</th>\n",
       "      <th>perf_grp_false positive rate_0</th>\n",
       "      <th>perf_grp_false positive rate_1</th>\n",
       "      <th>perf_grp_false negative rate_0</th>\n",
       "      <th>perf_grp_false negative rate_1</th>\n",
       "      <th>perf_grp_selection rate_0</th>\n",
       "      <th>perf_grp_selection rate_1</th>\n",
       "      <th>perf_grp_count_0</th>\n",
       "      <th>perf_grp_count_1</th>\n",
       "    </tr>\n",
       "  </thead>\n",
       "  <tbody>\n",
       "    <tr>\n",
       "      <th>0</th>\n",
       "      <td>3</td>\n",
       "      <td>652b01732ea8b24af1798f576fbb62b3</td>\n",
       "      <td>{\"cutoff\": \"quantile_0.1\", \"eval_fairness_grou...</td>\n",
       "      <td>20.85011</td>\n",
       "      <td>89710</td>\n",
       "      <td>1.0</td>\n",
       "      <td>0.097430</td>\n",
       "      <td>0.899088</td>\n",
       "      <td>0.088084</td>\n",
       "      <td>0.908996</td>\n",
       "      <td>...</td>\n",
       "      <td>NaN</td>\n",
       "      <td>NaN</td>\n",
       "      <td>NaN</td>\n",
       "      <td>NaN</td>\n",
       "      <td>NaN</td>\n",
       "      <td>NaN</td>\n",
       "      <td>NaN</td>\n",
       "      <td>NaN</td>\n",
       "      <td>NaN</td>\n",
       "      <td>NaN</td>\n",
       "    </tr>\n",
       "    <tr>\n",
       "      <th>0</th>\n",
       "      <td>3</td>\n",
       "      <td>652b01732ea8b24af1798f576fbb62b3</td>\n",
       "      <td>{\"cutoff\": \"quantile_0.1\", \"eval_fairness_grou...</td>\n",
       "      <td>20.85011</td>\n",
       "      <td>89710</td>\n",
       "      <td>1.0</td>\n",
       "      <td>0.097430</td>\n",
       "      <td>0.899088</td>\n",
       "      <td>0.088084</td>\n",
       "      <td>0.908996</td>\n",
       "      <td>...</td>\n",
       "      <td>0.117499</td>\n",
       "      <td>0.143744</td>\n",
       "      <td>0.965496</td>\n",
       "      <td>0.868066</td>\n",
       "      <td>0.013514</td>\n",
       "      <td>0.042888</td>\n",
       "      <td>0.967916</td>\n",
       "      <td>0.879832</td>\n",
       "      <td>20540.0</td>\n",
       "      <td>69170.0</td>\n",
       "    </tr>\n",
       "    <tr>\n",
       "      <th>0</th>\n",
       "      <td>3</td>\n",
       "      <td>652b01732ea8b24af1798f576fbb62b3</td>\n",
       "      <td>{\"cutoff\": \"quantile_0.25\", \"eval_fairness_gro...</td>\n",
       "      <td>20.85011</td>\n",
       "      <td>89710</td>\n",
       "      <td>1.0</td>\n",
       "      <td>0.216838</td>\n",
       "      <td>0.758006</td>\n",
       "      <td>0.197644</td>\n",
       "      <td>0.780977</td>\n",
       "      <td>...</td>\n",
       "      <td>NaN</td>\n",
       "      <td>NaN</td>\n",
       "      <td>NaN</td>\n",
       "      <td>NaN</td>\n",
       "      <td>NaN</td>\n",
       "      <td>NaN</td>\n",
       "      <td>NaN</td>\n",
       "      <td>NaN</td>\n",
       "      <td>NaN</td>\n",
       "      <td>NaN</td>\n",
       "    </tr>\n",
       "    <tr>\n",
       "      <th>0</th>\n",
       "      <td>3</td>\n",
       "      <td>652b01732ea8b24af1798f576fbb62b3</td>\n",
       "      <td>{\"cutoff\": \"quantile_0.25\", \"eval_fairness_gro...</td>\n",
       "      <td>20.85011</td>\n",
       "      <td>89710</td>\n",
       "      <td>1.0</td>\n",
       "      <td>0.216838</td>\n",
       "      <td>0.758006</td>\n",
       "      <td>0.197644</td>\n",
       "      <td>0.780977</td>\n",
       "      <td>...</td>\n",
       "      <td>0.121500</td>\n",
       "      <td>0.163579</td>\n",
       "      <td>0.896049</td>\n",
       "      <td>0.679210</td>\n",
       "      <td>0.048986</td>\n",
       "      <td>0.127571</td>\n",
       "      <td>0.902386</td>\n",
       "      <td>0.704742</td>\n",
       "      <td>20540.0</td>\n",
       "      <td>69170.0</td>\n",
       "    </tr>\n",
       "  </tbody>\n",
       "</table>\n",
       "<p>4 rows × 50 columns</p>\n",
       "</div>"
      ],
      "text/plain": [
       "  run_no                       universe_id  \\\n",
       "0      3  652b01732ea8b24af1798f576fbb62b3   \n",
       "0      3  652b01732ea8b24af1798f576fbb62b3   \n",
       "0      3  652b01732ea8b24af1798f576fbb62b3   \n",
       "0      3  652b01732ea8b24af1798f576fbb62b3   \n",
       "\n",
       "                                   universe_settings  execution_time  \\\n",
       "0  {\"cutoff\": \"quantile_0.1\", \"eval_fairness_grou...        20.85011   \n",
       "0  {\"cutoff\": \"quantile_0.1\", \"eval_fairness_grou...        20.85011   \n",
       "0  {\"cutoff\": \"quantile_0.25\", \"eval_fairness_gro...        20.85011   \n",
       "0  {\"cutoff\": \"quantile_0.25\", \"eval_fairness_gro...        20.85011   \n",
       "\n",
       "   test_size_n  test_size_frac  fair_main_equalized_odds_difference  \\\n",
       "0        89710             1.0                             0.097430   \n",
       "0        89710             1.0                             0.097430   \n",
       "0        89710             1.0                             0.216838   \n",
       "0        89710             1.0                             0.216838   \n",
       "\n",
       "   fair_main_equalized_odds_ratio  fair_main_demographic_parity_difference  \\\n",
       "0                        0.899088                                 0.088084   \n",
       "0                        0.899088                                 0.088084   \n",
       "0                        0.758006                                 0.197644   \n",
       "0                        0.758006                                 0.197644   \n",
       "\n",
       "   fair_main_demographic_parity_ratio  ...  perf_grp_precision_0  \\\n",
       "0                            0.908996  ...                   NaN   \n",
       "0                            0.908996  ...              0.117499   \n",
       "0                            0.780977  ...                   NaN   \n",
       "0                            0.780977  ...              0.121500   \n",
       "\n",
       "   perf_grp_precision_1  perf_grp_false positive rate_0  \\\n",
       "0                   NaN                             NaN   \n",
       "0              0.143744                        0.965496   \n",
       "0                   NaN                             NaN   \n",
       "0              0.163579                        0.896049   \n",
       "\n",
       "   perf_grp_false positive rate_1  perf_grp_false negative rate_0  \\\n",
       "0                             NaN                             NaN   \n",
       "0                        0.868066                        0.013514   \n",
       "0                             NaN                             NaN   \n",
       "0                        0.679210                        0.048986   \n",
       "\n",
       "   perf_grp_false negative rate_1  perf_grp_selection rate_0  \\\n",
       "0                             NaN                        NaN   \n",
       "0                        0.042888                   0.967916   \n",
       "0                             NaN                        NaN   \n",
       "0                        0.127571                   0.902386   \n",
       "\n",
       "   perf_grp_selection rate_1  perf_grp_count_0  perf_grp_count_1  \n",
       "0                        NaN               NaN               NaN  \n",
       "0                   0.879832           20540.0           69170.0  \n",
       "0                        NaN               NaN               NaN  \n",
       "0                   0.704742           20540.0           69170.0  \n",
       "\n",
       "[4 rows x 50 columns]"
      ]
     },
     "execution_count": 64,
     "metadata": {},
     "output_type": "execute_result"
    }
   ],
   "source": [
    "final_output = universe_analysis.generate_final_output(\n",
    "    y_pred_prob=probs_test,\n",
    "    y_test=y_true,\n",
    "    org_test=org_test,\n",
    "    filter_data=filter_sub_universe_data,\n",
    "    cp_metrics_df=cp_metrics_df,\n",
    "    save=True,\n",
    ")\n",
    "final_output"
   ]
  },
  {
   "cell_type": "code",
   "execution_count": null,
   "id": "8b80a1ff",
   "metadata": {
    "papermill": {
     "duration": 0.014782,
     "end_time": "2025-08-19T18:44:58.364374",
     "exception": false,
     "start_time": "2025-08-19T18:44:58.349592",
     "status": "completed"
    },
    "tags": []
   },
   "outputs": [],
   "source": []
  },
  {
   "cell_type": "code",
   "execution_count": null,
   "id": "275c9fad",
   "metadata": {
    "papermill": {
     "duration": 0.014632,
     "end_time": "2025-08-19T18:44:58.393842",
     "exception": false,
     "start_time": "2025-08-19T18:44:58.379210",
     "status": "completed"
    },
    "tags": []
   },
   "outputs": [],
   "source": []
  }
 ],
 "metadata": {
  "celltoolbar": "Tags",
  "kernelspec": {
   "display_name": "Python (CMA Fairness)",
   "language": "python",
   "name": "cma_fair_env"
  },
  "language_info": {
   "codemirror_mode": {
    "name": "ipython",
    "version": 3
   },
   "file_extension": ".py",
   "mimetype": "text/x-python",
   "name": "python",
   "nbconvert_exporter": "python",
   "pygments_lexer": "ipython3",
   "version": "3.10.12"
  },
  "papermill": {
   "default_parameters": {},
   "duration": 31.279415,
   "end_time": "2025-08-19T18:44:59.231282",
   "environment_variables": {},
   "exception": null,
   "input_path": "universe_analysis.ipynb",
   "output_path": "output/runs/3/notebooks/m_3-652b01732ea8b24af1798f576fbb62b3.ipynb",
   "parameters": {
    "output_dir": "output",
    "run_no": "3",
    "seed": "2023",
    "universe": "{\"cutoff\": [\"quantile_0.1\", \"quantile_0.25\"], \"eval_fairness_grouping\": [\"majority-minority\", \"nationality-all\"], \"exclude_features\": \"nationality\", \"exclude_subgroups\": \"keep-all\", \"model\": \"logreg\", \"scale\": \"do-not-scale\", \"training_size\": \"5k\", \"training_year\": \"2010_14\"}",
    "universe_id": "652b01732ea8b24af1798f576fbb62b3"
   },
   "start_time": "2025-08-19T18:44:27.951867",
   "version": "2.6.0"
  }
 },
 "nbformat": 4,
 "nbformat_minor": 5
}