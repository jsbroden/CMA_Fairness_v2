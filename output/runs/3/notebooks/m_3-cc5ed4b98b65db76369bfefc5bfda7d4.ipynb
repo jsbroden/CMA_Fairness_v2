{
 "cells": [
  {
   "cell_type": "markdown",
   "id": "ef23dbb3",
   "metadata": {
    "papermill": {
     "duration": 0.009366,
     "end_time": "2025-08-19T18:28:22.990647",
     "exception": false,
     "start_time": "2025-08-19T18:28:22.981281",
     "status": "completed"
    },
    "tags": []
   },
   "source": [
    "# Setup"
   ]
  },
  {
   "cell_type": "code",
   "execution_count": 1,
   "id": "0bc8e7dc",
   "metadata": {
    "execution": {
     "iopub.execute_input": "2025-08-19T18:28:23.011833Z",
     "iopub.status.busy": "2025-08-19T18:28:23.010035Z",
     "iopub.status.idle": "2025-08-19T18:28:23.029936Z",
     "shell.execute_reply": "2025-08-19T18:28:23.028991Z"
    },
    "papermill": {
     "duration": 0.031999,
     "end_time": "2025-08-19T18:28:23.031507",
     "exception": false,
     "start_time": "2025-08-19T18:28:22.999508",
     "status": "completed"
    },
    "tags": []
   },
   "outputs": [
    {
     "name": "stdout",
     "output_type": "stream",
     "text": [
      "/dss/dsshome1/0C/ra93lal2/cma/CMA_Fairness_v2\n"
     ]
    },
    {
     "name": "stderr",
     "output_type": "stream",
     "text": [
      "/dss/dsshome1/0C/ra93lal2/.local/share/virtualenvs/CMA_Fairness_v2-3j10GkSs/lib/python3.10/site-packages/IPython/core/magics/osm.py:393: UserWarning: This is now an optional IPython functionality, using bookmarks requires you to install the `pickleshare` library.\n",
      "  bkms = self.shell.db.get('bookmarks', {})\n",
      "/dss/dsshome1/0C/ra93lal2/.local/share/virtualenvs/CMA_Fairness_v2-3j10GkSs/lib/python3.10/site-packages/IPython/core/magics/osm.py:417: UserWarning: This is now an optional IPython functionality, setting dhist requires you to install the `pickleshare` library.\n",
      "  self.shell.db['dhist'] = compress_dhist(dhist)[-100:]\n"
     ]
    }
   ],
   "source": [
    "%cd ~/cma/CMA_Fairness_v2"
   ]
  },
  {
   "cell_type": "markdown",
   "id": "9d235661",
   "metadata": {
    "papermill": {
     "duration": 0.010412,
     "end_time": "2025-08-19T18:28:23.056874",
     "exception": false,
     "start_time": "2025-08-19T18:28:23.046462",
     "status": "completed"
    },
    "tags": []
   },
   "source": [
    "The following cell holds the definition of our parameters, these values can be overriden by rendering the with e.g. the following command:\n",
    "\n",
    "papermill -p alpha 0.2 -p ratio 0.3 universe_analysis.ipynb output/test_run.ipynb"
   ]
  },
  {
   "cell_type": "code",
   "execution_count": 2,
   "id": "4a789d8e",
   "metadata": {
    "execution": {
     "iopub.execute_input": "2025-08-19T18:28:23.077722Z",
     "iopub.status.busy": "2025-08-19T18:28:23.076158Z",
     "iopub.status.idle": "2025-08-19T18:28:23.085432Z",
     "shell.execute_reply": "2025-08-19T18:28:23.083260Z"
    },
    "papermill": {
     "duration": 0.021543,
     "end_time": "2025-08-19T18:28:23.087051",
     "exception": false,
     "start_time": "2025-08-19T18:28:23.065508",
     "status": "completed"
    },
    "tags": []
   },
   "outputs": [
    {
     "name": "stdout",
     "output_type": "stream",
     "text": [
      "Current working directory: /dss/dsshome1/0C/ra93lal2/cma/CMA_Fairness_v2\n"
     ]
    }
   ],
   "source": [
    "import os\n",
    "print(\"Current working directory:\", os.getcwd())"
   ]
  },
  {
   "cell_type": "code",
   "execution_count": 3,
   "id": "4132aaed",
   "metadata": {
    "execution": {
     "iopub.execute_input": "2025-08-19T18:28:23.112335Z",
     "iopub.status.busy": "2025-08-19T18:28:23.110874Z",
     "iopub.status.idle": "2025-08-19T18:28:23.120161Z",
     "shell.execute_reply": "2025-08-19T18:28:23.119096Z"
    },
    "papermill": {
     "duration": 0.023444,
     "end_time": "2025-08-19T18:28:23.121646",
     "exception": false,
     "start_time": "2025-08-19T18:28:23.098202",
     "status": "completed"
    },
    "tags": [
     "parameters"
    ]
   },
   "outputs": [],
   "source": [
    "run_no = 0\n",
    "universe_id = \"test\"\n",
    "universe = {\n",
    "    \"training_size\": \"5k\", # \"25k\", \"5k\", \"1k\"\n",
    "    \"training_year\": \"2012_14\", # \"2014\", \"2012_14\", \"2010_14\"\n",
    "    \"scale\": \"scale\", # \"scale\", \"do-not-scale\",\n",
    "    \"model\": \"elasticnet\", # \"logreg\", \"penalized_logreg\", \"rf\", \"gbm\", \"elasticnet\"\n",
    "    \"cutoff\": [\"quantile_0.15\", \"quantile_0.30\"],\n",
    "    \"exclude_features\": \"age\", # \"none\", \"nationality\", \"sex\", \"nationality-sex\", \"age\"\n",
    "    \"exclude_subgroups\": \"drop-non-german\", # \"keep-all\", \"drop-non-german\"\n",
    "    \"eval_fairness_grouping\": [\"majority-minority\", \"nationality-all\"]\n",
    "}\n",
    "\n",
    "output_dir=\"./output\"\n",
    "seed=0"
   ]
  },
  {
   "cell_type": "code",
   "execution_count": 4,
   "id": "a93ccabe",
   "metadata": {
    "execution": {
     "iopub.execute_input": "2025-08-19T18:28:23.148993Z",
     "iopub.status.busy": "2025-08-19T18:28:23.147801Z",
     "iopub.status.idle": "2025-08-19T18:28:23.155301Z",
     "shell.execute_reply": "2025-08-19T18:28:23.154119Z"
    },
    "papermill": {
     "duration": 0.021117,
     "end_time": "2025-08-19T18:28:23.156789",
     "exception": false,
     "start_time": "2025-08-19T18:28:23.135672",
     "status": "completed"
    },
    "tags": [
     "injected-parameters"
    ]
   },
   "outputs": [],
   "source": [
    "# Parameters\n",
    "universe_id = \"cc5ed4b98b65db76369bfefc5bfda7d4\"\n",
    "run_no = \"3\"\n",
    "universe = \"{\\\"cutoff\\\": [\\\"quantile_0.1\\\", \\\"quantile_0.25\\\"], \\\"eval_fairness_grouping\\\": [\\\"majority-minority\\\", \\\"nationality-all\\\"], \\\"exclude_features\\\": \\\"none\\\", \\\"exclude_subgroups\\\": \\\"drop-non-german\\\", \\\"model\\\": \\\"rf\\\", \\\"scale\\\": \\\"do-not-scale\\\", \\\"training_size\\\": \\\"5k\\\", \\\"training_year\\\": \\\"2014\\\"}\"\n",
    "output_dir = \"output\"\n",
    "seed = \"2023\"\n"
   ]
  },
  {
   "cell_type": "code",
   "execution_count": 5,
   "id": "a5d7941f",
   "metadata": {
    "execution": {
     "iopub.execute_input": "2025-08-19T18:28:23.179778Z",
     "iopub.status.busy": "2025-08-19T18:28:23.178423Z",
     "iopub.status.idle": "2025-08-19T18:28:23.185610Z",
     "shell.execute_reply": "2025-08-19T18:28:23.184405Z"
    },
    "papermill": {
     "duration": 0.018848,
     "end_time": "2025-08-19T18:28:23.187021",
     "exception": false,
     "start_time": "2025-08-19T18:28:23.168173",
     "status": "completed"
    },
    "tags": []
   },
   "outputs": [],
   "source": [
    "import json\n",
    "if isinstance(universe, str):\n",
    "    universe = json.loads(universe)"
   ]
  },
  {
   "cell_type": "code",
   "execution_count": 6,
   "id": "7076ccb1",
   "metadata": {
    "execution": {
     "iopub.execute_input": "2025-08-19T18:28:23.209873Z",
     "iopub.status.busy": "2025-08-19T18:28:23.208671Z",
     "iopub.status.idle": "2025-08-19T18:28:23.260604Z",
     "shell.execute_reply": "2025-08-19T18:28:23.259919Z"
    },
    "papermill": {
     "duration": 0.06499,
     "end_time": "2025-08-19T18:28:23.263294",
     "exception": false,
     "start_time": "2025-08-19T18:28:23.198304",
     "status": "completed"
    },
    "tags": []
   },
   "outputs": [],
   "source": [
    "# Auto-reload the custom package\n",
    "%load_ext autoreload\n",
    "%autoreload 1\n",
    "%aimport fairness_multiverse"
   ]
  },
  {
   "cell_type": "code",
   "execution_count": 7,
   "id": "94c8eb93",
   "metadata": {
    "execution": {
     "iopub.execute_input": "2025-08-19T18:28:23.301659Z",
     "iopub.status.busy": "2025-08-19T18:28:23.300372Z",
     "iopub.status.idle": "2025-08-19T18:28:24.806814Z",
     "shell.execute_reply": "2025-08-19T18:28:24.805632Z"
    },
    "papermill": {
     "duration": 1.522325,
     "end_time": "2025-08-19T18:28:24.808633",
     "exception": false,
     "start_time": "2025-08-19T18:28:23.286308",
     "status": "completed"
    },
    "tags": []
   },
   "outputs": [],
   "source": [
    "from fairness_multiverse.universe import UniverseAnalysis\n",
    "\n",
    "universe_analysis = UniverseAnalysis(\n",
    "    run_no = run_no,\n",
    "    universe_id = universe_id,\n",
    "    universe = universe,\n",
    "    output_dir=output_dir,\n",
    ")"
   ]
  },
  {
   "cell_type": "code",
   "execution_count": 8,
   "id": "2a6381cf",
   "metadata": {
    "execution": {
     "iopub.execute_input": "2025-08-19T18:28:24.837055Z",
     "iopub.status.busy": "2025-08-19T18:28:24.829140Z",
     "iopub.status.idle": "2025-08-19T18:28:24.841998Z",
     "shell.execute_reply": "2025-08-19T18:28:24.841386Z"
    },
    "papermill": {
     "duration": 0.025252,
     "end_time": "2025-08-19T18:28:24.843540",
     "exception": false,
     "start_time": "2025-08-19T18:28:24.818288",
     "status": "completed"
    },
    "tags": []
   },
   "outputs": [
    {
     "name": "stdout",
     "output_type": "stream",
     "text": [
      "Using Seed: 2023\n"
     ]
    }
   ],
   "source": [
    "import numpy as np\n",
    "parsed_seed = int(seed)\n",
    "np.random.seed(parsed_seed)\n",
    "print(f\"Using Seed: {parsed_seed}\")"
   ]
  },
  {
   "cell_type": "markdown",
   "id": "b6e958b4",
   "metadata": {
    "papermill": {
     "duration": 0.011232,
     "end_time": "2025-08-19T18:28:24.871955",
     "exception": false,
     "start_time": "2025-08-19T18:28:24.860723",
     "status": "completed"
    },
    "tags": []
   },
   "source": [
    "# Loading Data"
   ]
  },
  {
   "cell_type": "code",
   "execution_count": 9,
   "id": "98701482",
   "metadata": {
    "execution": {
     "iopub.execute_input": "2025-08-19T18:28:24.906215Z",
     "iopub.status.busy": "2025-08-19T18:28:24.905801Z",
     "iopub.status.idle": "2025-08-19T18:28:35.038751Z",
     "shell.execute_reply": "2025-08-19T18:28:35.037862Z"
    },
    "papermill": {
     "duration": 10.155912,
     "end_time": "2025-08-19T18:28:35.049242",
     "exception": false,
     "start_time": "2025-08-19T18:28:24.893330",
     "status": "completed"
    },
    "tags": []
   },
   "outputs": [
    {
     "name": "stdout",
     "output_type": "stream",
     "text": [
      "Loading SIAB data from cache: data/siab_cached.csv.gz\n"
     ]
    },
    {
     "name": "stdout",
     "output_type": "stream",
     "text": [
      "(643690, 164)\n"
     ]
    }
   ],
   "source": [
    "from pathlib import Path\n",
    "import pandas as pd\n",
    "\n",
    "# File paths\n",
    "raw_file = Path(\"data/raw/siab.csv\")\n",
    "cache_file = Path(\"data/siab_cached.csv.gz\")\n",
    "\n",
    "# Ensure cache directory exists\n",
    "cache_file.parent.mkdir(parents=True, exist_ok=True)\n",
    "\n",
    "# Load with simple caching\n",
    "if cache_file.exists():\n",
    "    print(f\"Loading SIAB data from cache: {cache_file}\")\n",
    "    siab = pd.read_csv(cache_file, compression='gzip')\n",
    "else:\n",
    "    print(f\"Cache not found. Reading raw SIAB data: {raw_file}\")\n",
    "    siab = pd.read_csv(raw_file)\n",
    "    siab.to_csv(cache_file, index=False, compression='gzip')\n",
    "    print(f\"Cached SIAB data to: {cache_file}\")\n",
    "\n",
    "print(siab.shape)"
   ]
  },
  {
   "cell_type": "code",
   "execution_count": 10,
   "id": "058d2abb",
   "metadata": {
    "execution": {
     "iopub.execute_input": "2025-08-19T18:28:35.077420Z",
     "iopub.status.busy": "2025-08-19T18:28:35.076967Z",
     "iopub.status.idle": "2025-08-19T18:28:35.247471Z",
     "shell.execute_reply": "2025-08-19T18:28:35.246744Z"
    },
    "papermill": {
     "duration": 0.184261,
     "end_time": "2025-08-19T18:28:35.248809",
     "exception": false,
     "start_time": "2025-08-19T18:28:35.064548",
     "status": "completed"
    },
    "tags": []
   },
   "outputs": [
    {
     "data": {
      "text/html": [
       "<div>\n",
       "<style scoped>\n",
       "    .dataframe tbody tr th:only-of-type {\n",
       "        vertical-align: middle;\n",
       "    }\n",
       "\n",
       "    .dataframe tbody tr th {\n",
       "        vertical-align: top;\n",
       "    }\n",
       "\n",
       "    .dataframe thead th {\n",
       "        text-align: right;\n",
       "    }\n",
       "</style>\n",
       "<table border=\"1\" class=\"dataframe\">\n",
       "  <thead>\n",
       "    <tr style=\"text-align: right;\">\n",
       "      <th></th>\n",
       "      <th>persnr</th>\n",
       "      <th>year</th>\n",
       "      <th>nrEntry</th>\n",
       "      <th>ltue</th>\n",
       "      <th>employed_before</th>\n",
       "      <th>receipt_leh_before</th>\n",
       "      <th>receipt_lhg_before</th>\n",
       "      <th>se_before</th>\n",
       "      <th>ASU_notue_seeking_before</th>\n",
       "      <th>ASU_other_before</th>\n",
       "      <th>...</th>\n",
       "      <th>minijob_tot_dur_byage</th>\n",
       "      <th>ft_tot_dur_byage</th>\n",
       "      <th>befrist_tot_dur_byage</th>\n",
       "      <th>leih_tot_dur_byage</th>\n",
       "      <th>LHG_tot_dur_byage</th>\n",
       "      <th>LEH_tot_dur_byage</th>\n",
       "      <th>almp_tot_dur_byage</th>\n",
       "      <th>almp_aw_tot_dur_byage</th>\n",
       "      <th>se_tot_dur_byage</th>\n",
       "      <th>seeking1_tot_dur_byage</th>\n",
       "    </tr>\n",
       "  </thead>\n",
       "  <tbody>\n",
       "    <tr>\n",
       "      <th>0</th>\n",
       "      <td>7</td>\n",
       "      <td>2015</td>\n",
       "      <td>1</td>\n",
       "      <td>0</td>\n",
       "      <td>1</td>\n",
       "      <td>0</td>\n",
       "      <td>0</td>\n",
       "      <td>0</td>\n",
       "      <td>1</td>\n",
       "      <td>0</td>\n",
       "      <td>...</td>\n",
       "      <td>0.000000</td>\n",
       "      <td>0.000000</td>\n",
       "      <td>15.043478</td>\n",
       "      <td>0.000000</td>\n",
       "      <td>0.000000</td>\n",
       "      <td>0.000000</td>\n",
       "      <td>0.000000</td>\n",
       "      <td>0.000000</td>\n",
       "      <td>0.000000</td>\n",
       "      <td>0.000000</td>\n",
       "    </tr>\n",
       "    <tr>\n",
       "      <th>1</th>\n",
       "      <td>18</td>\n",
       "      <td>2010</td>\n",
       "      <td>1</td>\n",
       "      <td>1</td>\n",
       "      <td>0</td>\n",
       "      <td>0</td>\n",
       "      <td>0</td>\n",
       "      <td>0</td>\n",
       "      <td>0</td>\n",
       "      <td>0</td>\n",
       "      <td>...</td>\n",
       "      <td>0.000000</td>\n",
       "      <td>0.000000</td>\n",
       "      <td>0.000000</td>\n",
       "      <td>0.000000</td>\n",
       "      <td>0.000000</td>\n",
       "      <td>0.000000</td>\n",
       "      <td>0.000000</td>\n",
       "      <td>0.000000</td>\n",
       "      <td>0.000000</td>\n",
       "      <td>0.000000</td>\n",
       "    </tr>\n",
       "    <tr>\n",
       "      <th>2</th>\n",
       "      <td>18</td>\n",
       "      <td>2011</td>\n",
       "      <td>2</td>\n",
       "      <td>0</td>\n",
       "      <td>1</td>\n",
       "      <td>0</td>\n",
       "      <td>1</td>\n",
       "      <td>0</td>\n",
       "      <td>1</td>\n",
       "      <td>0</td>\n",
       "      <td>...</td>\n",
       "      <td>2.714286</td>\n",
       "      <td>2.714286</td>\n",
       "      <td>0.000000</td>\n",
       "      <td>0.000000</td>\n",
       "      <td>10.775510</td>\n",
       "      <td>0.000000</td>\n",
       "      <td>8.367347</td>\n",
       "      <td>0.000000</td>\n",
       "      <td>0.000000</td>\n",
       "      <td>9.836735</td>\n",
       "    </tr>\n",
       "    <tr>\n",
       "      <th>3</th>\n",
       "      <td>18</td>\n",
       "      <td>2012</td>\n",
       "      <td>3</td>\n",
       "      <td>0</td>\n",
       "      <td>1</td>\n",
       "      <td>0</td>\n",
       "      <td>1</td>\n",
       "      <td>0</td>\n",
       "      <td>1</td>\n",
       "      <td>0</td>\n",
       "      <td>...</td>\n",
       "      <td>4.200000</td>\n",
       "      <td>4.200000</td>\n",
       "      <td>0.000000</td>\n",
       "      <td>0.000000</td>\n",
       "      <td>12.100000</td>\n",
       "      <td>0.000000</td>\n",
       "      <td>9.400000</td>\n",
       "      <td>0.000000</td>\n",
       "      <td>0.000000</td>\n",
       "      <td>9.960000</td>\n",
       "    </tr>\n",
       "    <tr>\n",
       "      <th>4</th>\n",
       "      <td>18</td>\n",
       "      <td>2012</td>\n",
       "      <td>4</td>\n",
       "      <td>0</td>\n",
       "      <td>1</td>\n",
       "      <td>0</td>\n",
       "      <td>1</td>\n",
       "      <td>0</td>\n",
       "      <td>1</td>\n",
       "      <td>0</td>\n",
       "      <td>...</td>\n",
       "      <td>5.460000</td>\n",
       "      <td>5.460000</td>\n",
       "      <td>0.000000</td>\n",
       "      <td>0.000000</td>\n",
       "      <td>13.360000</td>\n",
       "      <td>0.000000</td>\n",
       "      <td>10.320000</td>\n",
       "      <td>0.000000</td>\n",
       "      <td>0.000000</td>\n",
       "      <td>10.280000</td>\n",
       "    </tr>\n",
       "    <tr>\n",
       "      <th>...</th>\n",
       "      <td>...</td>\n",
       "      <td>...</td>\n",
       "      <td>...</td>\n",
       "      <td>...</td>\n",
       "      <td>...</td>\n",
       "      <td>...</td>\n",
       "      <td>...</td>\n",
       "      <td>...</td>\n",
       "      <td>...</td>\n",
       "      <td>...</td>\n",
       "      <td>...</td>\n",
       "      <td>...</td>\n",
       "      <td>...</td>\n",
       "      <td>...</td>\n",
       "      <td>...</td>\n",
       "      <td>...</td>\n",
       "      <td>...</td>\n",
       "      <td>...</td>\n",
       "      <td>...</td>\n",
       "      <td>...</td>\n",
       "      <td>...</td>\n",
       "    </tr>\n",
       "    <tr>\n",
       "      <th>643685</th>\n",
       "      <td>1827860</td>\n",
       "      <td>2013</td>\n",
       "      <td>1</td>\n",
       "      <td>0</td>\n",
       "      <td>0</td>\n",
       "      <td>0</td>\n",
       "      <td>1</td>\n",
       "      <td>0</td>\n",
       "      <td>0</td>\n",
       "      <td>1</td>\n",
       "      <td>...</td>\n",
       "      <td>0.000000</td>\n",
       "      <td>0.000000</td>\n",
       "      <td>0.000000</td>\n",
       "      <td>0.000000</td>\n",
       "      <td>0.612903</td>\n",
       "      <td>0.000000</td>\n",
       "      <td>0.000000</td>\n",
       "      <td>0.000000</td>\n",
       "      <td>0.000000</td>\n",
       "      <td>0.000000</td>\n",
       "    </tr>\n",
       "    <tr>\n",
       "      <th>643686</th>\n",
       "      <td>1827860</td>\n",
       "      <td>2015</td>\n",
       "      <td>2</td>\n",
       "      <td>1</td>\n",
       "      <td>0</td>\n",
       "      <td>0</td>\n",
       "      <td>1</td>\n",
       "      <td>0</td>\n",
       "      <td>1</td>\n",
       "      <td>0</td>\n",
       "      <td>...</td>\n",
       "      <td>0.000000</td>\n",
       "      <td>0.000000</td>\n",
       "      <td>0.212121</td>\n",
       "      <td>0.212121</td>\n",
       "      <td>17.363636</td>\n",
       "      <td>0.000000</td>\n",
       "      <td>8.909091</td>\n",
       "      <td>0.000000</td>\n",
       "      <td>0.000000</td>\n",
       "      <td>7.121212</td>\n",
       "    </tr>\n",
       "    <tr>\n",
       "      <th>643687</th>\n",
       "      <td>1827860</td>\n",
       "      <td>2016</td>\n",
       "      <td>3</td>\n",
       "      <td>1</td>\n",
       "      <td>0</td>\n",
       "      <td>0</td>\n",
       "      <td>1</td>\n",
       "      <td>1</td>\n",
       "      <td>0</td>\n",
       "      <td>1</td>\n",
       "      <td>...</td>\n",
       "      <td>0.000000</td>\n",
       "      <td>0.000000</td>\n",
       "      <td>0.294118</td>\n",
       "      <td>0.205882</td>\n",
       "      <td>34.705882</td>\n",
       "      <td>0.000000</td>\n",
       "      <td>10.352941</td>\n",
       "      <td>1.705882</td>\n",
       "      <td>1.705882</td>\n",
       "      <td>23.911765</td>\n",
       "    </tr>\n",
       "    <tr>\n",
       "      <th>643688</th>\n",
       "      <td>1827869</td>\n",
       "      <td>2013</td>\n",
       "      <td>1</td>\n",
       "      <td>1</td>\n",
       "      <td>1</td>\n",
       "      <td>0</td>\n",
       "      <td>0</td>\n",
       "      <td>0</td>\n",
       "      <td>1</td>\n",
       "      <td>0</td>\n",
       "      <td>...</td>\n",
       "      <td>0.000000</td>\n",
       "      <td>0.000000</td>\n",
       "      <td>0.000000</td>\n",
       "      <td>0.000000</td>\n",
       "      <td>0.000000</td>\n",
       "      <td>0.525424</td>\n",
       "      <td>0.000000</td>\n",
       "      <td>0.000000</td>\n",
       "      <td>0.000000</td>\n",
       "      <td>0.000000</td>\n",
       "    </tr>\n",
       "    <tr>\n",
       "      <th>643689</th>\n",
       "      <td>1827869</td>\n",
       "      <td>2014</td>\n",
       "      <td>2</td>\n",
       "      <td>0</td>\n",
       "      <td>0</td>\n",
       "      <td>1</td>\n",
       "      <td>0</td>\n",
       "      <td>0</td>\n",
       "      <td>1</td>\n",
       "      <td>0</td>\n",
       "      <td>...</td>\n",
       "      <td>0.000000</td>\n",
       "      <td>0.666667</td>\n",
       "      <td>0.666667</td>\n",
       "      <td>0.000000</td>\n",
       "      <td>0.000000</td>\n",
       "      <td>8.950000</td>\n",
       "      <td>1.033333</td>\n",
       "      <td>0.083333</td>\n",
       "      <td>0.083333</td>\n",
       "      <td>8.133333</td>\n",
       "    </tr>\n",
       "  </tbody>\n",
       "</table>\n",
       "<p>643690 rows × 164 columns</p>\n",
       "</div>"
      ],
      "text/plain": [
       "         persnr  year  nrEntry  ltue  employed_before  receipt_leh_before  \\\n",
       "0             7  2015        1     0                1                   0   \n",
       "1            18  2010        1     1                0                   0   \n",
       "2            18  2011        2     0                1                   0   \n",
       "3            18  2012        3     0                1                   0   \n",
       "4            18  2012        4     0                1                   0   \n",
       "...         ...   ...      ...   ...              ...                 ...   \n",
       "643685  1827860  2013        1     0                0                   0   \n",
       "643686  1827860  2015        2     1                0                   0   \n",
       "643687  1827860  2016        3     1                0                   0   \n",
       "643688  1827869  2013        1     1                1                   0   \n",
       "643689  1827869  2014        2     0                0                   1   \n",
       "\n",
       "        receipt_lhg_before  se_before  ASU_notue_seeking_before  \\\n",
       "0                        0          0                         1   \n",
       "1                        0          0                         0   \n",
       "2                        1          0                         1   \n",
       "3                        1          0                         1   \n",
       "4                        1          0                         1   \n",
       "...                    ...        ...                       ...   \n",
       "643685                   1          0                         0   \n",
       "643686                   1          0                         1   \n",
       "643687                   1          1                         0   \n",
       "643688                   0          0                         1   \n",
       "643689                   0          0                         1   \n",
       "\n",
       "        ASU_other_before  ...  minijob_tot_dur_byage  ft_tot_dur_byage  \\\n",
       "0                      0  ...               0.000000          0.000000   \n",
       "1                      0  ...               0.000000          0.000000   \n",
       "2                      0  ...               2.714286          2.714286   \n",
       "3                      0  ...               4.200000          4.200000   \n",
       "4                      0  ...               5.460000          5.460000   \n",
       "...                  ...  ...                    ...               ...   \n",
       "643685                 1  ...               0.000000          0.000000   \n",
       "643686                 0  ...               0.000000          0.000000   \n",
       "643687                 1  ...               0.000000          0.000000   \n",
       "643688                 0  ...               0.000000          0.000000   \n",
       "643689                 0  ...               0.000000          0.666667   \n",
       "\n",
       "        befrist_tot_dur_byage  leih_tot_dur_byage  LHG_tot_dur_byage  \\\n",
       "0                   15.043478            0.000000           0.000000   \n",
       "1                    0.000000            0.000000           0.000000   \n",
       "2                    0.000000            0.000000          10.775510   \n",
       "3                    0.000000            0.000000          12.100000   \n",
       "4                    0.000000            0.000000          13.360000   \n",
       "...                       ...                 ...                ...   \n",
       "643685               0.000000            0.000000           0.612903   \n",
       "643686               0.212121            0.212121          17.363636   \n",
       "643687               0.294118            0.205882          34.705882   \n",
       "643688               0.000000            0.000000           0.000000   \n",
       "643689               0.666667            0.000000           0.000000   \n",
       "\n",
       "        LEH_tot_dur_byage  almp_tot_dur_byage  almp_aw_tot_dur_byage  \\\n",
       "0                0.000000            0.000000               0.000000   \n",
       "1                0.000000            0.000000               0.000000   \n",
       "2                0.000000            8.367347               0.000000   \n",
       "3                0.000000            9.400000               0.000000   \n",
       "4                0.000000           10.320000               0.000000   \n",
       "...                   ...                 ...                    ...   \n",
       "643685           0.000000            0.000000               0.000000   \n",
       "643686           0.000000            8.909091               0.000000   \n",
       "643687           0.000000           10.352941               1.705882   \n",
       "643688           0.525424            0.000000               0.000000   \n",
       "643689           8.950000            1.033333               0.083333   \n",
       "\n",
       "        se_tot_dur_byage  seeking1_tot_dur_byage  \n",
       "0               0.000000                0.000000  \n",
       "1               0.000000                0.000000  \n",
       "2               0.000000                9.836735  \n",
       "3               0.000000                9.960000  \n",
       "4               0.000000               10.280000  \n",
       "...                  ...                     ...  \n",
       "643685          0.000000                0.000000  \n",
       "643686          0.000000                7.121212  \n",
       "643687          1.705882               23.911765  \n",
       "643688          0.000000                0.000000  \n",
       "643689          0.083333                8.133333  \n",
       "\n",
       "[643690 rows x 164 columns]"
      ]
     },
     "execution_count": 10,
     "metadata": {},
     "output_type": "execute_result"
    }
   ],
   "source": [
    "siab"
   ]
  },
  {
   "cell_type": "markdown",
   "id": "1f87e805",
   "metadata": {
    "papermill": {
     "duration": 0.009634,
     "end_time": "2025-08-19T18:28:35.268804",
     "exception": false,
     "start_time": "2025-08-19T18:28:35.259170",
     "status": "completed"
    },
    "tags": []
   },
   "source": [
    "# Splitting Data and Setting Training Data Size"
   ]
  },
  {
   "cell_type": "code",
   "execution_count": 11,
   "id": "910ae358",
   "metadata": {
    "execution": {
     "iopub.execute_input": "2025-08-19T18:28:35.293481Z",
     "iopub.status.busy": "2025-08-19T18:28:35.292419Z",
     "iopub.status.idle": "2025-08-19T18:28:35.533788Z",
     "shell.execute_reply": "2025-08-19T18:28:35.532718Z"
    },
    "papermill": {
     "duration": 0.25952,
     "end_time": "2025-08-19T18:28:35.538026",
     "exception": false,
     "start_time": "2025-08-19T18:28:35.278506",
     "status": "completed"
    },
    "tags": []
   },
   "outputs": [],
   "source": [
    "from fairness_multiverse.universe import sample_by_year_size\n",
    "\n",
    "siab_train = sample_by_year_size(siab,\n",
    "                               training_year=universe[\"training_year\"],\n",
    "                               training_size=universe[\"training_size\"])"
   ]
  },
  {
   "cell_type": "code",
   "execution_count": 12,
   "id": "919c8ff5",
   "metadata": {
    "execution": {
     "iopub.execute_input": "2025-08-19T18:28:35.577199Z",
     "iopub.status.busy": "2025-08-19T18:28:35.576546Z",
     "iopub.status.idle": "2025-08-19T18:28:35.584702Z",
     "shell.execute_reply": "2025-08-19T18:28:35.583935Z"
    },
    "papermill": {
     "duration": 0.023628,
     "end_time": "2025-08-19T18:28:35.585839",
     "exception": false,
     "start_time": "2025-08-19T18:28:35.562211",
     "status": "completed"
    },
    "tags": []
   },
   "outputs": [
    {
     "data": {
      "text/plain": [
       "(5000, 164)"
      ]
     },
     "execution_count": 12,
     "metadata": {},
     "output_type": "execute_result"
    }
   ],
   "source": [
    "siab_train.shape"
   ]
  },
  {
   "cell_type": "code",
   "execution_count": 13,
   "id": "feb13bf4",
   "metadata": {
    "execution": {
     "iopub.execute_input": "2025-08-19T18:28:35.609788Z",
     "iopub.status.busy": "2025-08-19T18:28:35.609370Z",
     "iopub.status.idle": "2025-08-19T18:28:35.617027Z",
     "shell.execute_reply": "2025-08-19T18:28:35.616382Z"
    },
    "papermill": {
     "duration": 0.020035,
     "end_time": "2025-08-19T18:28:35.618087",
     "exception": false,
     "start_time": "2025-08-19T18:28:35.598052",
     "status": "completed"
    },
    "tags": []
   },
   "outputs": [
    {
     "data": {
      "text/plain": [
       "year\n",
       "2014    5000\n",
       "dtype: int64"
      ]
     },
     "metadata": {},
     "output_type": "display_data"
    }
   ],
   "source": [
    "display(siab_train.groupby(\"year\").size())"
   ]
  },
  {
   "cell_type": "code",
   "execution_count": 14,
   "id": "0997782f",
   "metadata": {
    "execution": {
     "iopub.execute_input": "2025-08-19T18:28:35.641523Z",
     "iopub.status.busy": "2025-08-19T18:28:35.641118Z",
     "iopub.status.idle": "2025-08-19T18:28:35.893654Z",
     "shell.execute_reply": "2025-08-19T18:28:35.892547Z"
    },
    "papermill": {
     "duration": 0.267334,
     "end_time": "2025-08-19T18:28:35.896788",
     "exception": false,
     "start_time": "2025-08-19T18:28:35.629454",
     "status": "completed"
    },
    "tags": []
   },
   "outputs": [],
   "source": [
    "#siab_train = siab_s[siab_s.year < 2015]\n",
    "siab_calib = siab[siab.year == 2015]\n",
    "siab_test = siab[siab.year == 2016]"
   ]
  },
  {
   "cell_type": "code",
   "execution_count": 15,
   "id": "2c1e4012",
   "metadata": {
    "execution": {
     "iopub.execute_input": "2025-08-19T18:28:35.933273Z",
     "iopub.status.busy": "2025-08-19T18:28:35.932645Z",
     "iopub.status.idle": "2025-08-19T18:28:35.939657Z",
     "shell.execute_reply": "2025-08-19T18:28:35.938114Z"
    },
    "papermill": {
     "duration": 0.022238,
     "end_time": "2025-08-19T18:28:35.941321",
     "exception": false,
     "start_time": "2025-08-19T18:28:35.919083",
     "status": "completed"
    },
    "tags": []
   },
   "outputs": [],
   "source": [
    "#siab_calib.shape"
   ]
  },
  {
   "cell_type": "code",
   "execution_count": 16,
   "id": "f66b54ca",
   "metadata": {
    "execution": {
     "iopub.execute_input": "2025-08-19T18:28:35.966769Z",
     "iopub.status.busy": "2025-08-19T18:28:35.965406Z",
     "iopub.status.idle": "2025-08-19T18:28:35.973287Z",
     "shell.execute_reply": "2025-08-19T18:28:35.971562Z"
    },
    "papermill": {
     "duration": 0.021183,
     "end_time": "2025-08-19T18:28:35.974795",
     "exception": false,
     "start_time": "2025-08-19T18:28:35.953612",
     "status": "completed"
    },
    "tags": []
   },
   "outputs": [],
   "source": [
    "#siab_test.shape"
   ]
  },
  {
   "cell_type": "code",
   "execution_count": 17,
   "id": "27e4384d",
   "metadata": {
    "execution": {
     "iopub.execute_input": "2025-08-19T18:28:36.000581Z",
     "iopub.status.busy": "2025-08-19T18:28:35.999273Z",
     "iopub.status.idle": "2025-08-19T18:28:36.021297Z",
     "shell.execute_reply": "2025-08-19T18:28:36.019910Z"
    },
    "papermill": {
     "duration": 0.035623,
     "end_time": "2025-08-19T18:28:36.023317",
     "exception": false,
     "start_time": "2025-08-19T18:28:35.987694",
     "status": "completed"
    },
    "tags": []
   },
   "outputs": [],
   "source": [
    "X_train = siab_train.iloc[:,4:164]\n",
    "y_train = siab_train.iloc[:, [3]]"
   ]
  },
  {
   "cell_type": "code",
   "execution_count": 18,
   "id": "08ee8389",
   "metadata": {
    "execution": {
     "iopub.execute_input": "2025-08-19T18:28:36.057867Z",
     "iopub.status.busy": "2025-08-19T18:28:36.056899Z",
     "iopub.status.idle": "2025-08-19T18:28:36.104492Z",
     "shell.execute_reply": "2025-08-19T18:28:36.103703Z"
    },
    "papermill": {
     "duration": 0.063789,
     "end_time": "2025-08-19T18:28:36.107245",
     "exception": false,
     "start_time": "2025-08-19T18:28:36.043456",
     "status": "completed"
    },
    "tags": []
   },
   "outputs": [],
   "source": [
    "X_calib = siab_calib.iloc[:,4:164]\n",
    "y_calib = siab_calib.iloc[:, [3]]"
   ]
  },
  {
   "cell_type": "code",
   "execution_count": 19,
   "id": "b7ff42e0",
   "metadata": {
    "execution": {
     "iopub.execute_input": "2025-08-19T18:28:36.145381Z",
     "iopub.status.busy": "2025-08-19T18:28:36.144248Z",
     "iopub.status.idle": "2025-08-19T18:28:36.240102Z",
     "shell.execute_reply": "2025-08-19T18:28:36.239224Z"
    },
    "papermill": {
     "duration": 0.112477,
     "end_time": "2025-08-19T18:28:36.242905",
     "exception": false,
     "start_time": "2025-08-19T18:28:36.130428",
     "status": "completed"
    },
    "tags": []
   },
   "outputs": [],
   "source": [
    "X_test = siab_test.iloc[:,4:164]\n",
    "y_true = siab_test.iloc[:, [3]]"
   ]
  },
  {
   "cell_type": "code",
   "execution_count": 20,
   "id": "0275101e",
   "metadata": {
    "execution": {
     "iopub.execute_input": "2025-08-19T18:28:36.284574Z",
     "iopub.status.busy": "2025-08-19T18:28:36.283377Z",
     "iopub.status.idle": "2025-08-19T18:28:36.397393Z",
     "shell.execute_reply": "2025-08-19T18:28:36.396610Z"
    },
    "papermill": {
     "duration": 0.130779,
     "end_time": "2025-08-19T18:28:36.399525",
     "exception": false,
     "start_time": "2025-08-19T18:28:36.268746",
     "status": "completed"
    },
    "tags": []
   },
   "outputs": [],
   "source": [
    "# Auxiliary data needed downstream in the pipeline\n",
    "\n",
    "org_train = X_train.copy()\n",
    "org_test = X_test.copy()\n",
    "org_calib = X_calib.copy()"
   ]
  },
  {
   "cell_type": "markdown",
   "id": "b461e618",
   "metadata": {
    "papermill": {
     "duration": 0.014558,
     "end_time": "2025-08-19T18:28:36.425490",
     "exception": false,
     "start_time": "2025-08-19T18:28:36.410932",
     "status": "completed"
    },
    "tags": []
   },
   "source": [
    "# Preprocessing Data"
   ]
  },
  {
   "cell_type": "code",
   "execution_count": 21,
   "id": "78e74c4b",
   "metadata": {
    "execution": {
     "iopub.execute_input": "2025-08-19T18:28:36.461956Z",
     "iopub.status.busy": "2025-08-19T18:28:36.461535Z",
     "iopub.status.idle": "2025-08-19T18:28:36.466674Z",
     "shell.execute_reply": "2025-08-19T18:28:36.465939Z"
    },
    "papermill": {
     "duration": 0.021013,
     "end_time": "2025-08-19T18:28:36.468004",
     "exception": false,
     "start_time": "2025-08-19T18:28:36.446991",
     "status": "completed"
    },
    "tags": []
   },
   "outputs": [],
   "source": [
    "# EXCLUDE PROTECTED FEATURES\n",
    "# --------------------------\n",
    "\n",
    "excluded_features = universe[\"exclude_features\"].split(\"-\")\n",
    "excluded_features_dictionary = {\n",
    "    \"nationality\": [\"maxdeutsch1\", \"maxdeutsch.Missing.\"],\n",
    "    \"sex\": [\"frau1\"],\n",
    "    \"age\": [\"age\"],\n",
    "}"
   ]
  },
  {
   "cell_type": "code",
   "execution_count": 22,
   "id": "f8e63555",
   "metadata": {
    "execution": {
     "iopub.execute_input": "2025-08-19T18:28:36.491388Z",
     "iopub.status.busy": "2025-08-19T18:28:36.490955Z",
     "iopub.status.idle": "2025-08-19T18:28:36.495545Z",
     "shell.execute_reply": "2025-08-19T18:28:36.494907Z"
    },
    "papermill": {
     "duration": 0.017907,
     "end_time": "2025-08-19T18:28:36.497067",
     "exception": false,
     "start_time": "2025-08-19T18:28:36.479160",
     "status": "completed"
    },
    "tags": []
   },
   "outputs": [],
   "source": [
    "excluded_features_columns = [\n",
    "    excluded_features_dictionary[f] for f in excluded_features if len(f) > 0 and f != \"none\"\n",
    "]"
   ]
  },
  {
   "cell_type": "code",
   "execution_count": 23,
   "id": "da781f7c",
   "metadata": {
    "execution": {
     "iopub.execute_input": "2025-08-19T18:28:36.520549Z",
     "iopub.status.busy": "2025-08-19T18:28:36.520103Z",
     "iopub.status.idle": "2025-08-19T18:28:36.524451Z",
     "shell.execute_reply": "2025-08-19T18:28:36.523822Z"
    },
    "papermill": {
     "duration": 0.017564,
     "end_time": "2025-08-19T18:28:36.525999",
     "exception": false,
     "start_time": "2025-08-19T18:28:36.508435",
     "status": "completed"
    },
    "tags": []
   },
   "outputs": [],
   "source": [
    "from fairness_multiverse.universe import flatten_once\n",
    "\n",
    "excluded_features_columns = flatten_once(excluded_features_columns)"
   ]
  },
  {
   "cell_type": "code",
   "execution_count": 24,
   "id": "37fef0f0",
   "metadata": {
    "execution": {
     "iopub.execute_input": "2025-08-19T18:28:36.550478Z",
     "iopub.status.busy": "2025-08-19T18:28:36.549648Z",
     "iopub.status.idle": "2025-08-19T18:28:36.554038Z",
     "shell.execute_reply": "2025-08-19T18:28:36.553431Z"
    },
    "papermill": {
     "duration": 0.018237,
     "end_time": "2025-08-19T18:28:36.555679",
     "exception": false,
     "start_time": "2025-08-19T18:28:36.537442",
     "status": "completed"
    },
    "tags": []
   },
   "outputs": [],
   "source": [
    "if len(excluded_features_columns) > 0:\n",
    "    print(f\"Dropping features: {excluded_features_columns}\")\n",
    "    X_train.drop(excluded_features_columns, axis=1, inplace=True)"
   ]
  },
  {
   "cell_type": "code",
   "execution_count": 25,
   "id": "d029e3e9",
   "metadata": {
    "execution": {
     "iopub.execute_input": "2025-08-19T18:28:36.579861Z",
     "iopub.status.busy": "2025-08-19T18:28:36.579437Z",
     "iopub.status.idle": "2025-08-19T18:28:36.583826Z",
     "shell.execute_reply": "2025-08-19T18:28:36.583204Z"
    },
    "papermill": {
     "duration": 0.018355,
     "end_time": "2025-08-19T18:28:36.585515",
     "exception": false,
     "start_time": "2025-08-19T18:28:36.567160",
     "status": "completed"
    },
    "tags": []
   },
   "outputs": [],
   "source": [
    "if len(excluded_features_columns) > 0:\n",
    "    print(f\"Dropping features: {excluded_features_columns}\")\n",
    "    X_test.drop(excluded_features_columns, axis=1, inplace=True)"
   ]
  },
  {
   "cell_type": "code",
   "execution_count": 26,
   "id": "01d571f0",
   "metadata": {
    "execution": {
     "iopub.execute_input": "2025-08-19T18:28:36.610798Z",
     "iopub.status.busy": "2025-08-19T18:28:36.610327Z",
     "iopub.status.idle": "2025-08-19T18:28:36.615531Z",
     "shell.execute_reply": "2025-08-19T18:28:36.614147Z"
    },
    "papermill": {
     "duration": 0.018465,
     "end_time": "2025-08-19T18:28:36.616921",
     "exception": false,
     "start_time": "2025-08-19T18:28:36.598456",
     "status": "completed"
    },
    "tags": []
   },
   "outputs": [],
   "source": [
    "if len(excluded_features_columns) > 0:\n",
    "    print(f\"Dropping features: {excluded_features_columns}\")\n",
    "    X_calib.drop(excluded_features_columns, axis=1, inplace=True)"
   ]
  },
  {
   "cell_type": "code",
   "execution_count": 27,
   "id": "3037356e",
   "metadata": {
    "execution": {
     "iopub.execute_input": "2025-08-19T18:28:36.655084Z",
     "iopub.status.busy": "2025-08-19T18:28:36.654647Z",
     "iopub.status.idle": "2025-08-19T18:28:36.659923Z",
     "shell.execute_reply": "2025-08-19T18:28:36.659070Z"
    },
    "papermill": {
     "duration": 0.025164,
     "end_time": "2025-08-19T18:28:36.663503",
     "exception": false,
     "start_time": "2025-08-19T18:28:36.638339",
     "status": "completed"
    },
    "tags": []
   },
   "outputs": [],
   "source": [
    "# EXCLUDE CERTAIN SUBGROUPS\n",
    "# -------------------------\n",
    "\n",
    "mode = universe.get(\"exclude_subgroups\", \"keep-all\") # Defaults to \"keep-all\" if the key is missing."
   ]
  },
  {
   "cell_type": "code",
   "execution_count": 28,
   "id": "9d1e63fd",
   "metadata": {
    "execution": {
     "iopub.execute_input": "2025-08-19T18:28:36.685980Z",
     "iopub.status.busy": "2025-08-19T18:28:36.685647Z",
     "iopub.status.idle": "2025-08-19T18:28:36.691473Z",
     "shell.execute_reply": "2025-08-19T18:28:36.690764Z"
    },
    "papermill": {
     "duration": 0.019667,
     "end_time": "2025-08-19T18:28:36.694307",
     "exception": false,
     "start_time": "2025-08-19T18:28:36.674640",
     "status": "completed"
    },
    "tags": []
   },
   "outputs": [],
   "source": [
    "if mode == \"keep-all\":\n",
    "    keep_mask = pd.Series(True, index=org_train.index)\n",
    "\n",
    "elif mode == \"drop-non-german\":\n",
    "    keep_mask = (org_train[\"maxdeutsch1\"] == 1) & (org_train[\"maxdeutsch.Missing.\"] == 0)\n",
    "\n",
    "else:\n",
    "    raise ValueError(f\"Unsupported mode for exclude_subgroups: {mode}\")"
   ]
  },
  {
   "cell_type": "code",
   "execution_count": 29,
   "id": "d3b65474",
   "metadata": {
    "execution": {
     "iopub.execute_input": "2025-08-19T18:28:36.724366Z",
     "iopub.status.busy": "2025-08-19T18:28:36.723958Z",
     "iopub.status.idle": "2025-08-19T18:28:36.730252Z",
     "shell.execute_reply": "2025-08-19T18:28:36.729637Z"
    },
    "papermill": {
     "duration": 0.024479,
     "end_time": "2025-08-19T18:28:36.733493",
     "exception": false,
     "start_time": "2025-08-19T18:28:36.709014",
     "status": "completed"
    },
    "tags": []
   },
   "outputs": [
    {
     "name": "stdout",
     "output_type": "stream",
     "text": [
      "Dropping 741 rows (14.82%) where mode='drop-non-german'\n"
     ]
    }
   ],
   "source": [
    "n_drop = (~keep_mask).sum() # Calculates how many rows are set to be dropped\n",
    "if n_drop > 0:\n",
    "    pct = n_drop / len(keep_mask) * 100\n",
    "    print(f\"Dropping {n_drop} rows ({pct:.2f}%) where mode='{mode}'\")"
   ]
  },
  {
   "cell_type": "code",
   "execution_count": 30,
   "id": "f44389b3",
   "metadata": {
    "execution": {
     "iopub.execute_input": "2025-08-19T18:28:36.755502Z",
     "iopub.status.busy": "2025-08-19T18:28:36.755255Z",
     "iopub.status.idle": "2025-08-19T18:28:36.810043Z",
     "shell.execute_reply": "2025-08-19T18:28:36.808303Z"
    },
    "papermill": {
     "duration": 0.069646,
     "end_time": "2025-08-19T18:28:36.813736",
     "exception": false,
     "start_time": "2025-08-19T18:28:36.744090",
     "status": "completed"
    },
    "tags": []
   },
   "outputs": [],
   "source": [
    "X_train = X_train[keep_mask]"
   ]
  },
  {
   "cell_type": "code",
   "execution_count": 31,
   "id": "ceca8c2a",
   "metadata": {
    "execution": {
     "iopub.execute_input": "2025-08-19T18:28:36.844412Z",
     "iopub.status.busy": "2025-08-19T18:28:36.844110Z",
     "iopub.status.idle": "2025-08-19T18:28:36.850759Z",
     "shell.execute_reply": "2025-08-19T18:28:36.849719Z"
    },
    "papermill": {
     "duration": 0.020378,
     "end_time": "2025-08-19T18:28:36.852271",
     "exception": false,
     "start_time": "2025-08-19T18:28:36.831893",
     "status": "completed"
    },
    "tags": []
   },
   "outputs": [],
   "source": [
    "y_train = y_train[keep_mask]"
   ]
  },
  {
   "cell_type": "markdown",
   "id": "04d31e2f",
   "metadata": {
    "papermill": {
     "duration": 0.010508,
     "end_time": "2025-08-19T18:28:36.874050",
     "exception": false,
     "start_time": "2025-08-19T18:28:36.863542",
     "status": "completed"
    },
    "tags": []
   },
   "source": [
    "# Model Training"
   ]
  },
  {
   "cell_type": "code",
   "execution_count": 32,
   "id": "db991733",
   "metadata": {
    "execution": {
     "iopub.execute_input": "2025-08-19T18:28:36.896226Z",
     "iopub.status.busy": "2025-08-19T18:28:36.895833Z",
     "iopub.status.idle": "2025-08-19T18:28:36.989792Z",
     "shell.execute_reply": "2025-08-19T18:28:36.988751Z"
    },
    "papermill": {
     "duration": 0.106861,
     "end_time": "2025-08-19T18:28:36.991448",
     "exception": false,
     "start_time": "2025-08-19T18:28:36.884587",
     "status": "completed"
    },
    "tags": []
   },
   "outputs": [],
   "source": [
    "from sklearn.linear_model import LogisticRegression\n",
    "from sklearn.ensemble import GradientBoostingClassifier, RandomForestClassifier\n",
    "\n",
    "if (universe[\"model\"] == \"logreg\"):\n",
    "    model = LogisticRegression() #penalty=\"none\", solver=\"newton-cg\", max_iter=1)\n",
    "elif (universe[\"model\"] == \"penalized_logreg\"):\n",
    "    model = LogisticRegression(penalty=\"l2\", C=0.1) #, solver=\"newton-cg\", max_iter=1)\n",
    "elif (universe[\"model\"] == \"rf\"):\n",
    "    model = RandomForestClassifier() # n_estimators=100, n_jobs=-1\n",
    "elif (universe[\"model\"] == \"gbm\"):\n",
    "    model = GradientBoostingClassifier()\n",
    "elif (universe[\"model\"] == \"elasticnet\"):\n",
    "    model = LogisticRegression(penalty = 'elasticnet', solver = 'saga', l1_ratio = 0.5) # max_iter=5000\n",
    "else:\n",
    "    raise \"Unsupported universe.model\""
   ]
  },
  {
   "cell_type": "code",
   "execution_count": 33,
   "id": "a4b5cd25",
   "metadata": {
    "execution": {
     "iopub.execute_input": "2025-08-19T18:28:37.016507Z",
     "iopub.status.busy": "2025-08-19T18:28:37.015597Z",
     "iopub.status.idle": "2025-08-19T18:28:37.023382Z",
     "shell.execute_reply": "2025-08-19T18:28:37.022188Z"
    },
    "papermill": {
     "duration": 0.021974,
     "end_time": "2025-08-19T18:28:37.024998",
     "exception": false,
     "start_time": "2025-08-19T18:28:37.003024",
     "status": "completed"
    },
    "tags": []
   },
   "outputs": [],
   "source": [
    "from sklearn.pipeline import Pipeline\n",
    "from sklearn.preprocessing import StandardScaler\n",
    "\n",
    "model = Pipeline([\n",
    "    #(\"continuous_processor\", continuous_processor),\n",
    "    #(\"categorical_preprocessor\", categorical_preprocessor),\n",
    "    (\"scale\", StandardScaler() if universe[\"scale\"] == \"scale\" else None), \n",
    "    (\"model\", model),\n",
    "])"
   ]
  },
  {
   "cell_type": "code",
   "execution_count": 34,
   "id": "283a904d",
   "metadata": {
    "execution": {
     "iopub.execute_input": "2025-08-19T18:28:37.069334Z",
     "iopub.status.busy": "2025-08-19T18:28:37.068909Z",
     "iopub.status.idle": "2025-08-19T18:28:38.139075Z",
     "shell.execute_reply": "2025-08-19T18:28:38.138472Z"
    },
    "papermill": {
     "duration": 1.089137,
     "end_time": "2025-08-19T18:28:38.140448",
     "exception": false,
     "start_time": "2025-08-19T18:28:37.051311",
     "status": "completed"
    },
    "tags": []
   },
   "outputs": [
    {
     "data": {
      "text/html": [
       "<style>#sk-container-id-1 {color: black;background-color: white;}#sk-container-id-1 pre{padding: 0;}#sk-container-id-1 div.sk-toggleable {background-color: white;}#sk-container-id-1 label.sk-toggleable__label {cursor: pointer;display: block;width: 100%;margin-bottom: 0;padding: 0.3em;box-sizing: border-box;text-align: center;}#sk-container-id-1 label.sk-toggleable__label-arrow:before {content: \"▸\";float: left;margin-right: 0.25em;color: #696969;}#sk-container-id-1 label.sk-toggleable__label-arrow:hover:before {color: black;}#sk-container-id-1 div.sk-estimator:hover label.sk-toggleable__label-arrow:before {color: black;}#sk-container-id-1 div.sk-toggleable__content {max-height: 0;max-width: 0;overflow: hidden;text-align: left;background-color: #f0f8ff;}#sk-container-id-1 div.sk-toggleable__content pre {margin: 0.2em;color: black;border-radius: 0.25em;background-color: #f0f8ff;}#sk-container-id-1 input.sk-toggleable__control:checked~div.sk-toggleable__content {max-height: 200px;max-width: 100%;overflow: auto;}#sk-container-id-1 input.sk-toggleable__control:checked~label.sk-toggleable__label-arrow:before {content: \"▾\";}#sk-container-id-1 div.sk-estimator input.sk-toggleable__control:checked~label.sk-toggleable__label {background-color: #d4ebff;}#sk-container-id-1 div.sk-label input.sk-toggleable__control:checked~label.sk-toggleable__label {background-color: #d4ebff;}#sk-container-id-1 input.sk-hidden--visually {border: 0;clip: rect(1px 1px 1px 1px);clip: rect(1px, 1px, 1px, 1px);height: 1px;margin: -1px;overflow: hidden;padding: 0;position: absolute;width: 1px;}#sk-container-id-1 div.sk-estimator {font-family: monospace;background-color: #f0f8ff;border: 1px dotted black;border-radius: 0.25em;box-sizing: border-box;margin-bottom: 0.5em;}#sk-container-id-1 div.sk-estimator:hover {background-color: #d4ebff;}#sk-container-id-1 div.sk-parallel-item::after {content: \"\";width: 100%;border-bottom: 1px solid gray;flex-grow: 1;}#sk-container-id-1 div.sk-label:hover label.sk-toggleable__label {background-color: #d4ebff;}#sk-container-id-1 div.sk-serial::before {content: \"\";position: absolute;border-left: 1px solid gray;box-sizing: border-box;top: 0;bottom: 0;left: 50%;z-index: 0;}#sk-container-id-1 div.sk-serial {display: flex;flex-direction: column;align-items: center;background-color: white;padding-right: 0.2em;padding-left: 0.2em;position: relative;}#sk-container-id-1 div.sk-item {position: relative;z-index: 1;}#sk-container-id-1 div.sk-parallel {display: flex;align-items: stretch;justify-content: center;background-color: white;position: relative;}#sk-container-id-1 div.sk-item::before, #sk-container-id-1 div.sk-parallel-item::before {content: \"\";position: absolute;border-left: 1px solid gray;box-sizing: border-box;top: 0;bottom: 0;left: 50%;z-index: -1;}#sk-container-id-1 div.sk-parallel-item {display: flex;flex-direction: column;z-index: 1;position: relative;background-color: white;}#sk-container-id-1 div.sk-parallel-item:first-child::after {align-self: flex-end;width: 50%;}#sk-container-id-1 div.sk-parallel-item:last-child::after {align-self: flex-start;width: 50%;}#sk-container-id-1 div.sk-parallel-item:only-child::after {width: 0;}#sk-container-id-1 div.sk-dashed-wrapped {border: 1px dashed gray;margin: 0 0.4em 0.5em 0.4em;box-sizing: border-box;padding-bottom: 0.4em;background-color: white;}#sk-container-id-1 div.sk-label label {font-family: monospace;font-weight: bold;display: inline-block;line-height: 1.2em;}#sk-container-id-1 div.sk-label-container {text-align: center;}#sk-container-id-1 div.sk-container {/* jupyter's `normalize.less` sets `[hidden] { display: none; }` but bootstrap.min.css set `[hidden] { display: none !important; }` so we also need the `!important` here to be able to override the default hidden behavior on the sphinx rendered scikit-learn.org. See: https://github.com/scikit-learn/scikit-learn/issues/21755 */display: inline-block !important;position: relative;}#sk-container-id-1 div.sk-text-repr-fallback {display: none;}</style><div id=\"sk-container-id-1\" class=\"sk-top-container\"><div class=\"sk-text-repr-fallback\"><pre>Pipeline(steps=[(&#x27;scale&#x27;, None), (&#x27;model&#x27;, RandomForestClassifier())])</pre><b>In a Jupyter environment, please rerun this cell to show the HTML representation or trust the notebook. <br />On GitHub, the HTML representation is unable to render, please try loading this page with nbviewer.org.</b></div><div class=\"sk-container\" hidden><div class=\"sk-item sk-dashed-wrapped\"><div class=\"sk-label-container\"><div class=\"sk-label sk-toggleable\"><input class=\"sk-toggleable__control sk-hidden--visually\" id=\"sk-estimator-id-1\" type=\"checkbox\" ><label for=\"sk-estimator-id-1\" class=\"sk-toggleable__label sk-toggleable__label-arrow\">Pipeline</label><div class=\"sk-toggleable__content\"><pre>Pipeline(steps=[(&#x27;scale&#x27;, None), (&#x27;model&#x27;, RandomForestClassifier())])</pre></div></div></div><div class=\"sk-serial\"><div class=\"sk-item\"><div class=\"sk-estimator sk-toggleable\"><input class=\"sk-toggleable__control sk-hidden--visually\" id=\"sk-estimator-id-2\" type=\"checkbox\" ><label for=\"sk-estimator-id-2\" class=\"sk-toggleable__label sk-toggleable__label-arrow\">None</label><div class=\"sk-toggleable__content\"><pre>None</pre></div></div></div><div class=\"sk-item\"><div class=\"sk-estimator sk-toggleable\"><input class=\"sk-toggleable__control sk-hidden--visually\" id=\"sk-estimator-id-3\" type=\"checkbox\" ><label for=\"sk-estimator-id-3\" class=\"sk-toggleable__label sk-toggleable__label-arrow\">RandomForestClassifier</label><div class=\"sk-toggleable__content\"><pre>RandomForestClassifier()</pre></div></div></div></div></div></div></div>"
      ],
      "text/plain": [
       "Pipeline(steps=[('scale', None), ('model', RandomForestClassifier())])"
      ]
     },
     "execution_count": 34,
     "metadata": {},
     "output_type": "execute_result"
    }
   ],
   "source": [
    "model.fit(X_train, y_train.values.ravel())"
   ]
  },
  {
   "cell_type": "code",
   "execution_count": 35,
   "id": "6e15e313",
   "metadata": {
    "execution": {
     "iopub.execute_input": "2025-08-19T18:28:38.177912Z",
     "iopub.status.busy": "2025-08-19T18:28:38.176322Z",
     "iopub.status.idle": "2025-08-19T18:28:39.870356Z",
     "shell.execute_reply": "2025-08-19T18:28:39.869734Z"
    },
    "papermill": {
     "duration": 1.70764,
     "end_time": "2025-08-19T18:28:39.871533",
     "exception": false,
     "start_time": "2025-08-19T18:28:38.163893",
     "status": "completed"
    },
    "tags": []
   },
   "outputs": [
    {
     "data": {
      "text/plain": [
       "0.8647085051833686"
      ]
     },
     "execution_count": 35,
     "metadata": {},
     "output_type": "execute_result"
    }
   ],
   "source": [
    "from fairness_multiverse.universe import predict_w_threshold\n",
    "\n",
    "probs_test = model.predict_proba(X_test)\n",
    "\n",
    "'''\n",
    "Below code returns a boolean array (or binary 0/1 array depending on how it’s used) where each element \n",
    "is True if the probability of class 1 is greater than or equal to the threshold, and False otherwise.\n",
    "'''\n",
    "y_pred_default = predict_w_threshold(probs_test, 0.5)\n",
    "\n",
    "from sklearn.metrics import accuracy_score\n",
    "\n",
    "# Naive prediction\n",
    "accuracy_score(y_true = y_true, y_pred = y_pred_default)"
   ]
  },
  {
   "cell_type": "code",
   "execution_count": 36,
   "id": "6f14067c",
   "metadata": {
    "execution": {
     "iopub.execute_input": "2025-08-19T18:28:39.897885Z",
     "iopub.status.busy": "2025-08-19T18:28:39.896923Z",
     "iopub.status.idle": "2025-08-19T18:28:41.593423Z",
     "shell.execute_reply": "2025-08-19T18:28:41.591410Z"
    },
    "papermill": {
     "duration": 1.710633,
     "end_time": "2025-08-19T18:28:41.594889",
     "exception": false,
     "start_time": "2025-08-19T18:28:39.884256",
     "status": "completed"
    },
    "tags": []
   },
   "outputs": [
    {
     "data": {
      "text/plain": [
       "array([0, 0, 0, ..., 0, 0, 0])"
      ]
     },
     "execution_count": 36,
     "metadata": {},
     "output_type": "execute_result"
    }
   ],
   "source": [
    "model.predict(X_test)"
   ]
  },
  {
   "cell_type": "markdown",
   "id": "3759920c",
   "metadata": {
    "papermill": {
     "duration": 0.026622,
     "end_time": "2025-08-19T18:28:41.636245",
     "exception": false,
     "start_time": "2025-08-19T18:28:41.609623",
     "status": "completed"
    },
    "tags": []
   },
   "source": [
    "# Conformal Prediction"
   ]
  },
  {
   "cell_type": "code",
   "execution_count": 37,
   "id": "14b27f59",
   "metadata": {
    "execution": {
     "iopub.execute_input": "2025-08-19T18:28:41.662320Z",
     "iopub.status.busy": "2025-08-19T18:28:41.661834Z",
     "iopub.status.idle": "2025-08-19T18:28:41.667021Z",
     "shell.execute_reply": "2025-08-19T18:28:41.666152Z"
    },
    "papermill": {
     "duration": 0.018827,
     "end_time": "2025-08-19T18:28:41.668501",
     "exception": false,
     "start_time": "2025-08-19T18:28:41.649674",
     "status": "completed"
    },
    "tags": []
   },
   "outputs": [],
   "source": [
    "# Miscoverage level for conformal prediction (10% allowed error rate => 90% target coverage)\n",
    "alpha = 0.1"
   ]
  },
  {
   "cell_type": "code",
   "execution_count": 38,
   "id": "59102472",
   "metadata": {
    "execution": {
     "iopub.execute_input": "2025-08-19T18:28:41.691616Z",
     "iopub.status.busy": "2025-08-19T18:28:41.691261Z",
     "iopub.status.idle": "2025-08-19T18:28:43.375864Z",
     "shell.execute_reply": "2025-08-19T18:28:43.374930Z"
    },
    "papermill": {
     "duration": 1.697803,
     "end_time": "2025-08-19T18:28:43.377379",
     "exception": false,
     "start_time": "2025-08-19T18:28:41.679576",
     "status": "completed"
    },
    "tags": []
   },
   "outputs": [],
   "source": [
    "probs_calib = model.predict_proba(X_calib)"
   ]
  },
  {
   "cell_type": "code",
   "execution_count": 39,
   "id": "a792d4dd",
   "metadata": {
    "execution": {
     "iopub.execute_input": "2025-08-19T18:28:43.420856Z",
     "iopub.status.busy": "2025-08-19T18:28:43.420089Z",
     "iopub.status.idle": "2025-08-19T18:28:43.428619Z",
     "shell.execute_reply": "2025-08-19T18:28:43.427606Z"
    },
    "papermill": {
     "duration": 0.037427,
     "end_time": "2025-08-19T18:28:43.430352",
     "exception": false,
     "start_time": "2025-08-19T18:28:43.392925",
     "status": "completed"
    },
    "tags": []
   },
   "outputs": [],
   "source": [
    "y_calib = y_calib.values.ravel().astype(int)"
   ]
  },
  {
   "cell_type": "code",
   "execution_count": 40,
   "id": "650fd033",
   "metadata": {
    "execution": {
     "iopub.execute_input": "2025-08-19T18:28:43.461817Z",
     "iopub.status.busy": "2025-08-19T18:28:43.461135Z",
     "iopub.status.idle": "2025-08-19T18:28:43.484903Z",
     "shell.execute_reply": "2025-08-19T18:28:43.475010Z"
    },
    "papermill": {
     "duration": 0.0392,
     "end_time": "2025-08-19T18:28:43.486791",
     "exception": false,
     "start_time": "2025-08-19T18:28:43.447591",
     "status": "completed"
    },
    "tags": []
   },
   "outputs": [],
   "source": [
    "from fairness_multiverse.conformal import compute_nc_scores\n",
    "\n",
    "# Compute nonconformity scores on calibration set (1 - probability of true class)\n",
    "nc_scores = compute_nc_scores(probs_calib, y_calib)"
   ]
  },
  {
   "cell_type": "code",
   "execution_count": 41,
   "id": "28ada44c",
   "metadata": {
    "execution": {
     "iopub.execute_input": "2025-08-19T18:28:43.512679Z",
     "iopub.status.busy": "2025-08-19T18:28:43.511667Z",
     "iopub.status.idle": "2025-08-19T18:28:43.521686Z",
     "shell.execute_reply": "2025-08-19T18:28:43.520434Z"
    },
    "papermill": {
     "duration": 0.023927,
     "end_time": "2025-08-19T18:28:43.523038",
     "exception": false,
     "start_time": "2025-08-19T18:28:43.499111",
     "status": "completed"
    },
    "tags": []
   },
   "outputs": [],
   "source": [
    "from fairness_multiverse.conformal import find_threshold\n",
    "\n",
    "# Find conformal threshold q_hat for the given alpha (split conformal method)\n",
    "q_hat = find_threshold(nc_scores, alpha)"
   ]
  },
  {
   "cell_type": "code",
   "execution_count": 42,
   "id": "df56469e",
   "metadata": {
    "execution": {
     "iopub.execute_input": "2025-08-19T18:28:43.550172Z",
     "iopub.status.busy": "2025-08-19T18:28:43.549269Z",
     "iopub.status.idle": "2025-08-19T18:28:43.558916Z",
     "shell.execute_reply": "2025-08-19T18:28:43.557720Z"
    },
    "papermill": {
     "duration": 0.023532,
     "end_time": "2025-08-19T18:28:43.560440",
     "exception": false,
     "start_time": "2025-08-19T18:28:43.536908",
     "status": "completed"
    },
    "tags": []
   },
   "outputs": [
    {
     "data": {
      "text/plain": [
       "0.6599999999999999"
      ]
     },
     "execution_count": 42,
     "metadata": {},
     "output_type": "execute_result"
    }
   ],
   "source": [
    "q_hat"
   ]
  },
  {
   "cell_type": "code",
   "execution_count": 43,
   "id": "aa1f5faa",
   "metadata": {
    "execution": {
     "iopub.execute_input": "2025-08-19T18:28:43.586570Z",
     "iopub.status.busy": "2025-08-19T18:28:43.585669Z",
     "iopub.status.idle": "2025-08-19T18:28:45.905867Z",
     "shell.execute_reply": "2025-08-19T18:28:45.903901Z"
    },
    "papermill": {
     "duration": 2.336506,
     "end_time": "2025-08-19T18:28:45.909523",
     "exception": false,
     "start_time": "2025-08-19T18:28:43.573017",
     "status": "completed"
    },
    "tags": []
   },
   "outputs": [],
   "source": [
    "from fairness_multiverse.conformal import predict_conformal_sets\n",
    "\n",
    "# Generate prediction sets for each test example\n",
    "pred_sets = predict_conformal_sets(model, X_test, q_hat)"
   ]
  },
  {
   "cell_type": "code",
   "execution_count": 44,
   "id": "97f67a6b",
   "metadata": {
    "execution": {
     "iopub.execute_input": "2025-08-19T18:28:45.953682Z",
     "iopub.status.busy": "2025-08-19T18:28:45.952587Z",
     "iopub.status.idle": "2025-08-19T18:28:45.962167Z",
     "shell.execute_reply": "2025-08-19T18:28:45.960582Z"
    },
    "papermill": {
     "duration": 0.036461,
     "end_time": "2025-08-19T18:28:45.964088",
     "exception": false,
     "start_time": "2025-08-19T18:28:45.927627",
     "status": "completed"
    },
    "tags": []
   },
   "outputs": [],
   "source": [
    "y_true = y_true.squeeze()"
   ]
  },
  {
   "cell_type": "code",
   "execution_count": 45,
   "id": "e700e9a7",
   "metadata": {
    "execution": {
     "iopub.execute_input": "2025-08-19T18:28:45.997188Z",
     "iopub.status.busy": "2025-08-19T18:28:45.994108Z",
     "iopub.status.idle": "2025-08-19T18:28:46.531959Z",
     "shell.execute_reply": "2025-08-19T18:28:46.530654Z"
    },
    "papermill": {
     "duration": 0.553438,
     "end_time": "2025-08-19T18:28:46.533363",
     "exception": false,
     "start_time": "2025-08-19T18:28:45.979925",
     "status": "completed"
    },
    "tags": []
   },
   "outputs": [],
   "source": [
    "from fairness_multiverse.conformal import evaluate_sets\n",
    "\n",
    "# Evaluate coverage and average set size on test data\n",
    "metrics = evaluate_sets(pred_sets, y_true)"
   ]
  },
  {
   "cell_type": "markdown",
   "id": "efbacec0",
   "metadata": {
    "papermill": {
     "duration": 0.011453,
     "end_time": "2025-08-19T18:28:46.557186",
     "exception": false,
     "start_time": "2025-08-19T18:28:46.545733",
     "status": "completed"
    },
    "tags": []
   },
   "source": [
    "# CP Metrics"
   ]
  },
  {
   "cell_type": "code",
   "execution_count": 46,
   "id": "9de55fb1",
   "metadata": {
    "execution": {
     "iopub.execute_input": "2025-08-19T18:28:46.582349Z",
     "iopub.status.busy": "2025-08-19T18:28:46.581873Z",
     "iopub.status.idle": "2025-08-19T18:28:46.588217Z",
     "shell.execute_reply": "2025-08-19T18:28:46.587625Z"
    },
    "papermill": {
     "duration": 0.021329,
     "end_time": "2025-08-19T18:28:46.590301",
     "exception": false,
     "start_time": "2025-08-19T18:28:46.568972",
     "status": "completed"
    },
    "tags": []
   },
   "outputs": [
    {
     "data": {
      "text/plain": [
       "{'coverage': 0.914390814847843, 'avg_size': 1.142503622784528}"
      ]
     },
     "execution_count": 46,
     "metadata": {},
     "output_type": "execute_result"
    }
   ],
   "source": [
    "metrics"
   ]
  },
  {
   "cell_type": "code",
   "execution_count": 47,
   "id": "64c340a1",
   "metadata": {
    "execution": {
     "iopub.execute_input": "2025-08-19T18:28:46.614759Z",
     "iopub.status.busy": "2025-08-19T18:28:46.614376Z",
     "iopub.status.idle": "2025-08-19T18:28:46.619563Z",
     "shell.execute_reply": "2025-08-19T18:28:46.618939Z"
    },
    "papermill": {
     "duration": 0.01895,
     "end_time": "2025-08-19T18:28:46.620923",
     "exception": false,
     "start_time": "2025-08-19T18:28:46.601973",
     "status": "completed"
    },
    "tags": []
   },
   "outputs": [],
   "source": [
    "example_universe = universe.copy()\n",
    "universe_training_year = example_universe.get(\"training_year\")\n",
    "universe_training_size = example_universe.get(\"training_size\")\n",
    "universe_scale = example_universe.get(\"scale\")\n",
    "universe_model = example_universe.get(\"model\")\n",
    "universe_exclude_features = example_universe.get(\"exclude_features\")\n",
    "universe_exclude_subgroups = example_universe.get(\"exclude_subgroups\")"
   ]
  },
  {
   "cell_type": "code",
   "execution_count": 48,
   "id": "dbb53cb4",
   "metadata": {
    "execution": {
     "iopub.execute_input": "2025-08-19T18:28:46.645633Z",
     "iopub.status.busy": "2025-08-19T18:28:46.645245Z",
     "iopub.status.idle": "2025-08-19T18:28:46.649938Z",
     "shell.execute_reply": "2025-08-19T18:28:46.649330Z"
    },
    "papermill": {
     "duration": 0.018565,
     "end_time": "2025-08-19T18:28:46.651307",
     "exception": false,
     "start_time": "2025-08-19T18:28:46.632742",
     "status": "completed"
    },
    "tags": []
   },
   "outputs": [],
   "source": [
    "cp_metrics_dict = {\n",
    "    \"universe_id\": [universe_id],\n",
    "    \"universe_training_year\": [universe_training_year],\n",
    "    \"universe_training_size\": [universe_training_size],\n",
    "    \"universe_scale\": [universe_scale],\n",
    "    \"universe_model\": [universe_model],\n",
    "    \"universe_exclude_features\": [universe_exclude_features],\n",
    "    \"universe_exclude_subgroups\": [universe_exclude_subgroups],\n",
    "    \"q_hat\": [q_hat],\n",
    "    \"coverage\": [metrics[\"coverage\"]],\n",
    "    \"avg_size\": [metrics[\"avg_size\"]],\n",
    "}"
   ]
  },
  {
   "cell_type": "code",
   "execution_count": 49,
   "id": "0d70d4b2",
   "metadata": {
    "execution": {
     "iopub.execute_input": "2025-08-19T18:28:46.676010Z",
     "iopub.status.busy": "2025-08-19T18:28:46.675622Z",
     "iopub.status.idle": "2025-08-19T18:28:46.681178Z",
     "shell.execute_reply": "2025-08-19T18:28:46.680592Z"
    },
    "papermill": {
     "duration": 0.020858,
     "end_time": "2025-08-19T18:28:46.683815",
     "exception": false,
     "start_time": "2025-08-19T18:28:46.662957",
     "status": "completed"
    },
    "tags": []
   },
   "outputs": [],
   "source": [
    "cp_metrics_df = pd.DataFrame(cp_metrics_dict)"
   ]
  },
  {
   "cell_type": "code",
   "execution_count": 50,
   "id": "b494403c",
   "metadata": {
    "execution": {
     "iopub.execute_input": "2025-08-19T18:28:46.723990Z",
     "iopub.status.busy": "2025-08-19T18:28:46.722955Z",
     "iopub.status.idle": "2025-08-19T18:28:46.747358Z",
     "shell.execute_reply": "2025-08-19T18:28:46.746539Z"
    },
    "papermill": {
     "duration": 0.040425,
     "end_time": "2025-08-19T18:28:46.748946",
     "exception": false,
     "start_time": "2025-08-19T18:28:46.708521",
     "status": "completed"
    },
    "tags": []
   },
   "outputs": [
    {
     "data": {
      "text/html": [
       "<div>\n",
       "<style scoped>\n",
       "    .dataframe tbody tr th:only-of-type {\n",
       "        vertical-align: middle;\n",
       "    }\n",
       "\n",
       "    .dataframe tbody tr th {\n",
       "        vertical-align: top;\n",
       "    }\n",
       "\n",
       "    .dataframe thead th {\n",
       "        text-align: right;\n",
       "    }\n",
       "</style>\n",
       "<table border=\"1\" class=\"dataframe\">\n",
       "  <thead>\n",
       "    <tr style=\"text-align: right;\">\n",
       "      <th></th>\n",
       "      <th>universe_id</th>\n",
       "      <th>universe_training_year</th>\n",
       "      <th>universe_training_size</th>\n",
       "      <th>universe_scale</th>\n",
       "      <th>universe_model</th>\n",
       "      <th>universe_exclude_features</th>\n",
       "      <th>universe_exclude_subgroups</th>\n",
       "      <th>q_hat</th>\n",
       "      <th>coverage</th>\n",
       "      <th>avg_size</th>\n",
       "    </tr>\n",
       "  </thead>\n",
       "  <tbody>\n",
       "    <tr>\n",
       "      <th>0</th>\n",
       "      <td>cc5ed4b98b65db76369bfefc5bfda7d4</td>\n",
       "      <td>2014</td>\n",
       "      <td>5k</td>\n",
       "      <td>do-not-scale</td>\n",
       "      <td>rf</td>\n",
       "      <td>none</td>\n",
       "      <td>drop-non-german</td>\n",
       "      <td>0.66</td>\n",
       "      <td>0.914391</td>\n",
       "      <td>1.142504</td>\n",
       "    </tr>\n",
       "  </tbody>\n",
       "</table>\n",
       "</div>"
      ],
      "text/plain": [
       "                        universe_id universe_training_year  \\\n",
       "0  cc5ed4b98b65db76369bfefc5bfda7d4                   2014   \n",
       "\n",
       "  universe_training_size universe_scale universe_model  \\\n",
       "0                     5k   do-not-scale             rf   \n",
       "\n",
       "  universe_exclude_features universe_exclude_subgroups  q_hat  coverage  \\\n",
       "0                      none            drop-non-german   0.66  0.914391   \n",
       "\n",
       "   avg_size  \n",
       "0  1.142504  "
      ]
     },
     "execution_count": 50,
     "metadata": {},
     "output_type": "execute_result"
    }
   ],
   "source": [
    "cp_metrics_df"
   ]
  },
  {
   "cell_type": "markdown",
   "id": "ed608b0b",
   "metadata": {
    "papermill": {
     "duration": 0.012771,
     "end_time": "2025-08-19T18:28:46.783013",
     "exception": false,
     "start_time": "2025-08-19T18:28:46.770242",
     "status": "completed"
    },
    "tags": []
   },
   "source": [
    "Conditional coverage & looking at subgroups"
   ]
  },
  {
   "cell_type": "code",
   "execution_count": 51,
   "id": "8968c366",
   "metadata": {
    "execution": {
     "iopub.execute_input": "2025-08-19T18:28:46.809772Z",
     "iopub.status.busy": "2025-08-19T18:28:46.808685Z",
     "iopub.status.idle": "2025-08-19T18:28:47.093839Z",
     "shell.execute_reply": "2025-08-19T18:28:47.093006Z"
    },
    "papermill": {
     "duration": 0.301771,
     "end_time": "2025-08-19T18:28:47.096764",
     "exception": false,
     "start_time": "2025-08-19T18:28:46.794993",
     "status": "completed"
    },
    "tags": []
   },
   "outputs": [],
   "source": [
    "from fairness_multiverse.conformal import build_cp_groups\n",
    "\n",
    "cp_groups_df = build_cp_groups(pred_sets, y_true, X_test.index, org_test)"
   ]
  },
  {
   "cell_type": "code",
   "execution_count": 52,
   "id": "292ddabf",
   "metadata": {
    "execution": {
     "iopub.execute_input": "2025-08-19T18:28:47.140189Z",
     "iopub.status.busy": "2025-08-19T18:28:47.138896Z",
     "iopub.status.idle": "2025-08-19T18:28:48.005597Z",
     "shell.execute_reply": "2025-08-19T18:28:48.004399Z"
    },
    "papermill": {
     "duration": 0.883341,
     "end_time": "2025-08-19T18:28:48.007276",
     "exception": false,
     "start_time": "2025-08-19T18:28:47.123935",
     "status": "completed"
    },
    "tags": []
   },
   "outputs": [],
   "source": [
    "# Define covered = 1 if true_label is in the predicted set\n",
    "cp_groups_df['covered'] = cp_groups_df.apply(\n",
    "    lambda r: int(r['true_label'] in r['pred_set']),\n",
    "    axis=1\n",
    ")"
   ]
  },
  {
   "cell_type": "code",
   "execution_count": 53,
   "id": "3a261692",
   "metadata": {
    "execution": {
     "iopub.execute_input": "2025-08-19T18:28:48.034889Z",
     "iopub.status.busy": "2025-08-19T18:28:48.034005Z",
     "iopub.status.idle": "2025-08-19T18:28:48.054041Z",
     "shell.execute_reply": "2025-08-19T18:28:48.053193Z"
    },
    "papermill": {
     "duration": 0.035247,
     "end_time": "2025-08-19T18:28:48.055519",
     "exception": false,
     "start_time": "2025-08-19T18:28:48.020272",
     "status": "completed"
    },
    "tags": []
   },
   "outputs": [],
   "source": [
    "subgroups = ['frau1','nongerman','nongerman_male','nongerman_female']\n",
    "\n",
    "# Conditional coverage for subgroup==1\n",
    "cond_coverage = {\n",
    "    g: cp_groups_df.loc[cp_groups_df[g]==1, 'covered'].mean()\n",
    "    for g in subgroups\n",
    "}"
   ]
  },
  {
   "cell_type": "code",
   "execution_count": 54,
   "id": "894fd600",
   "metadata": {
    "execution": {
     "iopub.execute_input": "2025-08-19T18:28:48.089049Z",
     "iopub.status.busy": "2025-08-19T18:28:48.088117Z",
     "iopub.status.idle": "2025-08-19T18:28:48.100604Z",
     "shell.execute_reply": "2025-08-19T18:28:48.099238Z"
    },
    "papermill": {
     "duration": 0.027997,
     "end_time": "2025-08-19T18:28:48.102047",
     "exception": false,
     "start_time": "2025-08-19T18:28:48.074050",
     "status": "completed"
    },
    "tags": []
   },
   "outputs": [
    {
     "data": {
      "text/plain": [
       "{'frau1': 0.9128723547647931,\n",
       " 'nongerman': 0.9101779599169146,\n",
       " 'nongerman_male': 0.9262361523912456,\n",
       " 'nongerman_female': 0.8836065573770492}"
      ]
     },
     "execution_count": 54,
     "metadata": {},
     "output_type": "execute_result"
    }
   ],
   "source": [
    "cond_coverage"
   ]
  },
  {
   "cell_type": "code",
   "execution_count": 55,
   "id": "942895c7",
   "metadata": {
    "execution": {
     "iopub.execute_input": "2025-08-19T18:28:48.134651Z",
     "iopub.status.busy": "2025-08-19T18:28:48.133594Z",
     "iopub.status.idle": "2025-08-19T18:28:48.146320Z",
     "shell.execute_reply": "2025-08-19T18:28:48.144857Z"
    },
    "papermill": {
     "duration": 0.028747,
     "end_time": "2025-08-19T18:28:48.148035",
     "exception": false,
     "start_time": "2025-08-19T18:28:48.119288",
     "status": "completed"
    },
    "tags": []
   },
   "outputs": [],
   "source": [
    "for subgroup, cov in cond_coverage.items():\n",
    "    cp_metrics_df[f\"cov_{subgroup}\"] = cov"
   ]
  },
  {
   "cell_type": "code",
   "execution_count": 56,
   "id": "3970120f",
   "metadata": {
    "execution": {
     "iopub.execute_input": "2025-08-19T18:28:48.177689Z",
     "iopub.status.busy": "2025-08-19T18:28:48.176546Z",
     "iopub.status.idle": "2025-08-19T18:28:48.204566Z",
     "shell.execute_reply": "2025-08-19T18:28:48.203755Z"
    },
    "papermill": {
     "duration": 0.043426,
     "end_time": "2025-08-19T18:28:48.206222",
     "exception": false,
     "start_time": "2025-08-19T18:28:48.162796",
     "status": "completed"
    },
    "tags": []
   },
   "outputs": [
    {
     "data": {
      "text/html": [
       "<div>\n",
       "<style scoped>\n",
       "    .dataframe tbody tr th:only-of-type {\n",
       "        vertical-align: middle;\n",
       "    }\n",
       "\n",
       "    .dataframe tbody tr th {\n",
       "        vertical-align: top;\n",
       "    }\n",
       "\n",
       "    .dataframe thead th {\n",
       "        text-align: right;\n",
       "    }\n",
       "</style>\n",
       "<table border=\"1\" class=\"dataframe\">\n",
       "  <thead>\n",
       "    <tr style=\"text-align: right;\">\n",
       "      <th></th>\n",
       "      <th>universe_id</th>\n",
       "      <th>universe_training_year</th>\n",
       "      <th>universe_training_size</th>\n",
       "      <th>universe_scale</th>\n",
       "      <th>universe_model</th>\n",
       "      <th>universe_exclude_features</th>\n",
       "      <th>universe_exclude_subgroups</th>\n",
       "      <th>q_hat</th>\n",
       "      <th>coverage</th>\n",
       "      <th>avg_size</th>\n",
       "      <th>cov_frau1</th>\n",
       "      <th>cov_nongerman</th>\n",
       "      <th>cov_nongerman_male</th>\n",
       "      <th>cov_nongerman_female</th>\n",
       "    </tr>\n",
       "  </thead>\n",
       "  <tbody>\n",
       "    <tr>\n",
       "      <th>0</th>\n",
       "      <td>cc5ed4b98b65db76369bfefc5bfda7d4</td>\n",
       "      <td>2014</td>\n",
       "      <td>5k</td>\n",
       "      <td>do-not-scale</td>\n",
       "      <td>rf</td>\n",
       "      <td>none</td>\n",
       "      <td>drop-non-german</td>\n",
       "      <td>0.66</td>\n",
       "      <td>0.914391</td>\n",
       "      <td>1.142504</td>\n",
       "      <td>0.912872</td>\n",
       "      <td>0.910178</td>\n",
       "      <td>0.926236</td>\n",
       "      <td>0.883607</td>\n",
       "    </tr>\n",
       "  </tbody>\n",
       "</table>\n",
       "</div>"
      ],
      "text/plain": [
       "                        universe_id universe_training_year  \\\n",
       "0  cc5ed4b98b65db76369bfefc5bfda7d4                   2014   \n",
       "\n",
       "  universe_training_size universe_scale universe_model  \\\n",
       "0                     5k   do-not-scale             rf   \n",
       "\n",
       "  universe_exclude_features universe_exclude_subgroups  q_hat  coverage  \\\n",
       "0                      none            drop-non-german   0.66  0.914391   \n",
       "\n",
       "   avg_size  cov_frau1  cov_nongerman  cov_nongerman_male  \\\n",
       "0  1.142504   0.912872       0.910178            0.926236   \n",
       "\n",
       "   cov_nongerman_female  \n",
       "0              0.883607  "
      ]
     },
     "execution_count": 56,
     "metadata": {},
     "output_type": "execute_result"
    }
   ],
   "source": [
    "cp_metrics_df"
   ]
  },
  {
   "cell_type": "markdown",
   "id": "3fc519cc",
   "metadata": {
    "papermill": {
     "duration": 0.023862,
     "end_time": "2025-08-19T18:28:48.247593",
     "exception": false,
     "start_time": "2025-08-19T18:28:48.223731",
     "status": "completed"
    },
    "tags": []
   },
   "source": [
    "# (Fairness) Metrics"
   ]
  },
  {
   "cell_type": "code",
   "execution_count": 57,
   "id": "a2e5e155",
   "metadata": {
    "execution": {
     "iopub.execute_input": "2025-08-19T18:28:48.281187Z",
     "iopub.status.busy": "2025-08-19T18:28:48.278419Z",
     "iopub.status.idle": "2025-08-19T18:28:48.314340Z",
     "shell.execute_reply": "2025-08-19T18:28:48.313315Z"
    },
    "papermill": {
     "duration": 0.055387,
     "end_time": "2025-08-19T18:28:48.316860",
     "exception": false,
     "start_time": "2025-08-19T18:28:48.261473",
     "status": "completed"
    },
    "tags": []
   },
   "outputs": [],
   "source": [
    "colname_to_bin = \"maxdeutsch1\"\n",
    "majority_value = org_train[colname_to_bin].mode()[0]\n",
    "\n",
    "org_test[\"majmin\"] = np.where(org_test[colname_to_bin] == majority_value, \"majority\", \"minority\")"
   ]
  },
  {
   "cell_type": "code",
   "execution_count": 58,
   "id": "17e3e4d5",
   "metadata": {
    "execution": {
     "iopub.execute_input": "2025-08-19T18:28:48.369666Z",
     "iopub.status.busy": "2025-08-19T18:28:48.368024Z",
     "iopub.status.idle": "2025-08-19T18:28:50.118739Z",
     "shell.execute_reply": "2025-08-19T18:28:50.117476Z"
    },
    "papermill": {
     "duration": 1.769352,
     "end_time": "2025-08-19T18:28:50.120261",
     "exception": false,
     "start_time": "2025-08-19T18:28:48.350909",
     "status": "completed"
    },
    "tags": []
   },
   "outputs": [],
   "source": [
    "example_universe = universe.copy()\n",
    "example_universe[\"cutoff\"] = example_universe[\"cutoff\"][0]\n",
    "example_universe[\"eval_fairness_grouping\"] = example_universe[\"eval_fairness_grouping\"][0]\n",
    "fairness_dict, metric_frame = universe_analysis.compute_metrics(\n",
    "    example_universe,\n",
    "    y_pred_prob=probs_test,\n",
    "    y_test=y_true,\n",
    "    org_test=org_test,\n",
    ")"
   ]
  },
  {
   "cell_type": "markdown",
   "id": "1fb7a0e9",
   "metadata": {
    "papermill": {
     "duration": 0.013968,
     "end_time": "2025-08-19T18:28:50.147107",
     "exception": false,
     "start_time": "2025-08-19T18:28:50.133139",
     "status": "completed"
    },
    "tags": []
   },
   "source": [
    "# Overall"
   ]
  },
  {
   "cell_type": "markdown",
   "id": "be1784b1",
   "metadata": {
    "papermill": {
     "duration": 0.012117,
     "end_time": "2025-08-19T18:28:50.176257",
     "exception": false,
     "start_time": "2025-08-19T18:28:50.164140",
     "status": "completed"
    },
    "tags": []
   },
   "source": [
    "Main fairness target: Equalized Odds. Seems to be a better fit than equal opportunity, since we're not only interested in Y = 1. Seems to be a better fit than demographic parity, since we also care about accuracy, not just equal distribution of preds.\n",
    "\n",
    "Pick column for computation of fairness metrics\n",
    "\n",
    "Performance\n",
    "Overall performance measures, most interesting in relation to the measures split by group below"
   ]
  },
  {
   "cell_type": "code",
   "execution_count": 59,
   "id": "b7672bee",
   "metadata": {
    "execution": {
     "iopub.execute_input": "2025-08-19T18:28:50.203952Z",
     "iopub.status.busy": "2025-08-19T18:28:50.202775Z",
     "iopub.status.idle": "2025-08-19T18:28:50.218808Z",
     "shell.execute_reply": "2025-08-19T18:28:50.217299Z"
    },
    "papermill": {
     "duration": 0.03213,
     "end_time": "2025-08-19T18:28:50.220440",
     "exception": false,
     "start_time": "2025-08-19T18:28:50.188310",
     "status": "completed"
    },
    "tags": []
   },
   "outputs": [
    {
     "data": {
      "text/plain": [
       "accuracy                   0.201037\n",
       "balanced accuracy          0.535136\n",
       "f1                         0.240208\n",
       "precision                  0.136791\n",
       "false positive rate        0.914261\n",
       "false negative rate        0.015468\n",
       "selection rate             0.923275\n",
       "count                  89710.000000\n",
       "dtype: float64"
      ]
     },
     "execution_count": 59,
     "metadata": {},
     "output_type": "execute_result"
    }
   ],
   "source": [
    "metric_frame.overall"
   ]
  },
  {
   "cell_type": "markdown",
   "id": "d93333c9",
   "metadata": {
    "papermill": {
     "duration": 0.012322,
     "end_time": "2025-08-19T18:28:50.251848",
     "exception": false,
     "start_time": "2025-08-19T18:28:50.239526",
     "status": "completed"
    },
    "tags": []
   },
   "source": [
    "By Group"
   ]
  },
  {
   "cell_type": "code",
   "execution_count": 60,
   "id": "52256966",
   "metadata": {
    "execution": {
     "iopub.execute_input": "2025-08-19T18:28:50.278969Z",
     "iopub.status.busy": "2025-08-19T18:28:50.277703Z",
     "iopub.status.idle": "2025-08-19T18:28:50.306231Z",
     "shell.execute_reply": "2025-08-19T18:28:50.305256Z"
    },
    "papermill": {
     "duration": 0.044017,
     "end_time": "2025-08-19T18:28:50.308104",
     "exception": false,
     "start_time": "2025-08-19T18:28:50.264087",
     "status": "completed"
    },
    "tags": []
   },
   "outputs": [
    {
     "data": {
      "text/html": [
       "<div>\n",
       "<style scoped>\n",
       "    .dataframe tbody tr th:only-of-type {\n",
       "        vertical-align: middle;\n",
       "    }\n",
       "\n",
       "    .dataframe tbody tr th {\n",
       "        vertical-align: top;\n",
       "    }\n",
       "\n",
       "    .dataframe thead th {\n",
       "        text-align: right;\n",
       "    }\n",
       "</style>\n",
       "<table border=\"1\" class=\"dataframe\">\n",
       "  <thead>\n",
       "    <tr style=\"text-align: right;\">\n",
       "      <th></th>\n",
       "      <th>accuracy</th>\n",
       "      <th>balanced accuracy</th>\n",
       "      <th>f1</th>\n",
       "      <th>precision</th>\n",
       "      <th>false positive rate</th>\n",
       "      <th>false negative rate</th>\n",
       "      <th>selection rate</th>\n",
       "      <th>count</th>\n",
       "    </tr>\n",
       "    <tr>\n",
       "      <th>majmin</th>\n",
       "      <th></th>\n",
       "      <th></th>\n",
       "      <th></th>\n",
       "      <th></th>\n",
       "      <th></th>\n",
       "      <th></th>\n",
       "      <th></th>\n",
       "      <th></th>\n",
       "    </tr>\n",
       "  </thead>\n",
       "  <tbody>\n",
       "    <tr>\n",
       "      <th>majority</th>\n",
       "      <td>0.207055</td>\n",
       "      <td>0.538385</td>\n",
       "      <td>0.247854</td>\n",
       "      <td>0.141686</td>\n",
       "      <td>0.911961</td>\n",
       "      <td>0.011269</td>\n",
       "      <td>0.922105</td>\n",
       "      <td>69170.0</td>\n",
       "    </tr>\n",
       "    <tr>\n",
       "      <th>minority</th>\n",
       "      <td>0.180769</td>\n",
       "      <td>0.523235</td>\n",
       "      <td>0.214169</td>\n",
       "      <td>0.120399</td>\n",
       "      <td>0.921858</td>\n",
       "      <td>0.031672</td>\n",
       "      <td>0.927215</td>\n",
       "      <td>20540.0</td>\n",
       "    </tr>\n",
       "  </tbody>\n",
       "</table>\n",
       "</div>"
      ],
      "text/plain": [
       "          accuracy  balanced accuracy        f1  precision  \\\n",
       "majmin                                                       \n",
       "majority  0.207055           0.538385  0.247854   0.141686   \n",
       "minority  0.180769           0.523235  0.214169   0.120399   \n",
       "\n",
       "          false positive rate  false negative rate  selection rate    count  \n",
       "majmin                                                                       \n",
       "majority             0.911961             0.011269        0.922105  69170.0  \n",
       "minority             0.921858             0.031672        0.927215  20540.0  "
      ]
     },
     "execution_count": 60,
     "metadata": {},
     "output_type": "execute_result"
    }
   ],
   "source": [
    "metric_frame.by_group"
   ]
  },
  {
   "cell_type": "code",
   "execution_count": 61,
   "id": "6e6c20ae",
   "metadata": {
    "execution": {
     "iopub.execute_input": "2025-08-19T18:28:50.340280Z",
     "iopub.status.busy": "2025-08-19T18:28:50.339515Z",
     "iopub.status.idle": "2025-08-19T18:28:52.265632Z",
     "shell.execute_reply": "2025-08-19T18:28:52.264705Z"
    },
    "papermill": {
     "duration": 1.941147,
     "end_time": "2025-08-19T18:28:52.267021",
     "exception": false,
     "start_time": "2025-08-19T18:28:50.325874",
     "status": "completed"
    },
    "tags": []
   },
   "outputs": [
    {
     "data": {
      "text/plain": [
       "array([[<Axes: title={'center': 'accuracy'}, xlabel='majmin'>,\n",
       "        <Axes: title={'center': 'balanced accuracy'}, xlabel='majmin'>,\n",
       "        <Axes: title={'center': 'f1'}, xlabel='majmin'>],\n",
       "       [<Axes: title={'center': 'precision'}, xlabel='majmin'>,\n",
       "        <Axes: title={'center': 'false positive rate'}, xlabel='majmin'>,\n",
       "        <Axes: title={'center': 'false negative rate'}, xlabel='majmin'>],\n",
       "       [<Axes: title={'center': 'selection rate'}, xlabel='majmin'>,\n",
       "        <Axes: title={'center': 'count'}, xlabel='majmin'>,\n",
       "        <Axes: xlabel='majmin'>]], dtype=object)"
      ]
     },
     "execution_count": 61,
     "metadata": {},
     "output_type": "execute_result"
    },
    {
     "data": {
      "image/png": "[encoded data removed]",
      "text/plain": [
       "<Figure size 1200x800 with 9 Axes>"
      ]
     },
     "metadata": {},
     "output_type": "display_data"
    }
   ],
   "source": [
    "# In a graphic\n",
    "metric_frame.by_group.plot.bar(\n",
    "    subplots=True,\n",
    "    layout=[3, 3],\n",
    "    legend=False,\n",
    "    figsize=[12, 8],\n",
    "    title=\"Show all metrics\",\n",
    ")"
   ]
  },
  {
   "cell_type": "markdown",
   "id": "b2e433ae",
   "metadata": {
    "papermill": {
     "duration": 0.013804,
     "end_time": "2025-08-19T18:28:52.298705",
     "exception": false,
     "start_time": "2025-08-19T18:28:52.284901",
     "status": "completed"
    },
    "tags": []
   },
   "source": [
    "# Final Output"
   ]
  },
  {
   "cell_type": "code",
   "execution_count": 62,
   "id": "3871301e",
   "metadata": {
    "execution": {
     "iopub.execute_input": "2025-08-19T18:28:52.330539Z",
     "iopub.status.busy": "2025-08-19T18:28:52.328006Z",
     "iopub.status.idle": "2025-08-19T18:28:52.346976Z",
     "shell.execute_reply": "2025-08-19T18:28:52.345822Z"
    },
    "papermill": {
     "duration": 0.036191,
     "end_time": "2025-08-19T18:28:52.348374",
     "exception": false,
     "start_time": "2025-08-19T18:28:52.312183",
     "status": "completed"
    },
    "tags": []
   },
   "outputs": [
    {
     "data": {
      "text/plain": [
       "4"
      ]
     },
     "execution_count": 62,
     "metadata": {},
     "output_type": "execute_result"
    }
   ],
   "source": [
    "sub_universes = universe_analysis.generate_sub_universes()\n",
    "len(sub_universes)"
   ]
  },
  {
   "cell_type": "code",
   "execution_count": 63,
   "id": "d9cfdaca",
   "metadata": {
    "execution": {
     "iopub.execute_input": "2025-08-19T18:28:52.386673Z",
     "iopub.status.busy": "2025-08-19T18:28:52.385243Z",
     "iopub.status.idle": "2025-08-19T18:28:52.398772Z",
     "shell.execute_reply": "2025-08-19T18:28:52.397098Z"
    },
    "papermill": {
     "duration": 0.031321,
     "end_time": "2025-08-19T18:28:52.400337",
     "exception": false,
     "start_time": "2025-08-19T18:28:52.369016",
     "status": "completed"
    },
    "tags": []
   },
   "outputs": [],
   "source": [
    "def filter_sub_universe_data(sub_universe, org_test):\n",
    "    # Keep all rows — no filtering\n",
    "    keep_rows_mask = np.ones(org_test.shape[0], dtype=bool)\n",
    "\n",
    "    print(f\"[INFO] Keeping all rows: {keep_rows_mask.sum()} rows retained.\")\n",
    "    return keep_rows_mask"
   ]
  },
  {
   "cell_type": "code",
   "execution_count": 64,
   "id": "2bc31ac1",
   "metadata": {
    "execution": {
     "iopub.execute_input": "2025-08-19T18:28:52.437228Z",
     "iopub.status.busy": "2025-08-19T18:28:52.436093Z",
     "iopub.status.idle": "2025-08-19T18:28:59.293548Z",
     "shell.execute_reply": "2025-08-19T18:28:59.292523Z"
    },
    "papermill": {
     "duration": 6.875533,
     "end_time": "2025-08-19T18:28:59.296202",
     "exception": false,
     "start_time": "2025-08-19T18:28:52.420669",
     "status": "completed"
    },
    "tags": []
   },
   "outputs": [
    {
     "name": "stdout",
     "output_type": "stream",
     "text": [
      "Stopping execution_time clock.\n",
      "[INFO] Keeping all rows: 89710 rows retained.\n"
     ]
    },
    {
     "name": "stdout",
     "output_type": "stream",
     "text": [
      "[INFO] Keeping all rows: 89710 rows retained.\n"
     ]
    },
    {
     "name": "stdout",
     "output_type": "stream",
     "text": [
      "[INFO] Keeping all rows: 89710 rows retained.\n"
     ]
    },
    {
     "name": "stdout",
     "output_type": "stream",
     "text": [
      "[INFO] Keeping all rows: 89710 rows retained.\n"
     ]
    },
    {
     "data": {
      "text/html": [
       "<div>\n",
       "<style scoped>\n",
       "    .dataframe tbody tr th:only-of-type {\n",
       "        vertical-align: middle;\n",
       "    }\n",
       "\n",
       "    .dataframe tbody tr th {\n",
       "        vertical-align: top;\n",
       "    }\n",
       "\n",
       "    .dataframe thead th {\n",
       "        text-align: right;\n",
       "    }\n",
       "</style>\n",
       "<table border=\"1\" class=\"dataframe\">\n",
       "  <thead>\n",
       "    <tr style=\"text-align: right;\">\n",
       "      <th></th>\n",
       "      <th>run_no</th>\n",
       "      <th>universe_id</th>\n",
       "      <th>universe_settings</th>\n",
       "      <th>execution_time</th>\n",
       "      <th>test_size_n</th>\n",
       "      <th>test_size_frac</th>\n",
       "      <th>fair_main_equalized_odds_difference</th>\n",
       "      <th>fair_main_equalized_odds_ratio</th>\n",
       "      <th>fair_main_demographic_parity_difference</th>\n",
       "      <th>fair_main_demographic_parity_ratio</th>\n",
       "      <th>...</th>\n",
       "      <th>perf_grp_precision_0</th>\n",
       "      <th>perf_grp_precision_1</th>\n",
       "      <th>perf_grp_false positive rate_0</th>\n",
       "      <th>perf_grp_false positive rate_1</th>\n",
       "      <th>perf_grp_false negative rate_0</th>\n",
       "      <th>perf_grp_false negative rate_1</th>\n",
       "      <th>perf_grp_selection rate_0</th>\n",
       "      <th>perf_grp_selection rate_1</th>\n",
       "      <th>perf_grp_count_0</th>\n",
       "      <th>perf_grp_count_1</th>\n",
       "    </tr>\n",
       "  </thead>\n",
       "  <tbody>\n",
       "    <tr>\n",
       "      <th>0</th>\n",
       "      <td>3</td>\n",
       "      <td>cc5ed4b98b65db76369bfefc5bfda7d4</td>\n",
       "      <td>{\"cutoff\": \"quantile_0.1\", \"eval_fairness_grou...</td>\n",
       "      <td>27.69722</td>\n",
       "      <td>89710</td>\n",
       "      <td>1.0</td>\n",
       "      <td>0.020403</td>\n",
       "      <td>0.979364</td>\n",
       "      <td>0.005110</td>\n",
       "      <td>0.994489</td>\n",
       "      <td>...</td>\n",
       "      <td>NaN</td>\n",
       "      <td>NaN</td>\n",
       "      <td>NaN</td>\n",
       "      <td>NaN</td>\n",
       "      <td>NaN</td>\n",
       "      <td>NaN</td>\n",
       "      <td>NaN</td>\n",
       "      <td>NaN</td>\n",
       "      <td>NaN</td>\n",
       "      <td>NaN</td>\n",
       "    </tr>\n",
       "    <tr>\n",
       "      <th>0</th>\n",
       "      <td>3</td>\n",
       "      <td>cc5ed4b98b65db76369bfefc5bfda7d4</td>\n",
       "      <td>{\"cutoff\": \"quantile_0.1\", \"eval_fairness_grou...</td>\n",
       "      <td>27.69722</td>\n",
       "      <td>89710</td>\n",
       "      <td>1.0</td>\n",
       "      <td>0.020403</td>\n",
       "      <td>0.979364</td>\n",
       "      <td>0.005110</td>\n",
       "      <td>0.994489</td>\n",
       "      <td>...</td>\n",
       "      <td>0.120399</td>\n",
       "      <td>0.141686</td>\n",
       "      <td>0.921858</td>\n",
       "      <td>0.911961</td>\n",
       "      <td>0.031672</td>\n",
       "      <td>0.011269</td>\n",
       "      <td>0.927215</td>\n",
       "      <td>0.922105</td>\n",
       "      <td>20540.0</td>\n",
       "      <td>69170.0</td>\n",
       "    </tr>\n",
       "    <tr>\n",
       "      <th>0</th>\n",
       "      <td>3</td>\n",
       "      <td>cc5ed4b98b65db76369bfefc5bfda7d4</td>\n",
       "      <td>{\"cutoff\": \"quantile_0.25\", \"eval_fairness_gro...</td>\n",
       "      <td>27.69722</td>\n",
       "      <td>89710</td>\n",
       "      <td>1.0</td>\n",
       "      <td>0.059020</td>\n",
       "      <td>0.937405</td>\n",
       "      <td>0.000339</td>\n",
       "      <td>0.999553</td>\n",
       "      <td>...</td>\n",
       "      <td>NaN</td>\n",
       "      <td>NaN</td>\n",
       "      <td>NaN</td>\n",
       "      <td>NaN</td>\n",
       "      <td>NaN</td>\n",
       "      <td>NaN</td>\n",
       "      <td>NaN</td>\n",
       "      <td>NaN</td>\n",
       "      <td>NaN</td>\n",
       "      <td>NaN</td>\n",
       "    </tr>\n",
       "    <tr>\n",
       "      <th>0</th>\n",
       "      <td>3</td>\n",
       "      <td>cc5ed4b98b65db76369bfefc5bfda7d4</td>\n",
       "      <td>{\"cutoff\": \"quantile_0.25\", \"eval_fairness_gro...</td>\n",
       "      <td>27.69722</td>\n",
       "      <td>89710</td>\n",
       "      <td>1.0</td>\n",
       "      <td>0.059020</td>\n",
       "      <td>0.937405</td>\n",
       "      <td>0.000339</td>\n",
       "      <td>0.999553</td>\n",
       "      <td>...</td>\n",
       "      <td>0.134442</td>\n",
       "      <td>0.164456</td>\n",
       "      <td>0.741525</td>\n",
       "      <td>0.729385</td>\n",
       "      <td>0.116132</td>\n",
       "      <td>0.057112</td>\n",
       "      <td>0.757936</td>\n",
       "      <td>0.757597</td>\n",
       "      <td>20540.0</td>\n",
       "      <td>69170.0</td>\n",
       "    </tr>\n",
       "  </tbody>\n",
       "</table>\n",
       "<p>4 rows × 50 columns</p>\n",
       "</div>"
      ],
      "text/plain": [
       "  run_no                       universe_id  \\\n",
       "0      3  cc5ed4b98b65db76369bfefc5bfda7d4   \n",
       "0      3  cc5ed4b98b65db76369bfefc5bfda7d4   \n",
       "0      3  cc5ed4b98b65db76369bfefc5bfda7d4   \n",
       "0      3  cc5ed4b98b65db76369bfefc5bfda7d4   \n",
       "\n",
       "                                   universe_settings  execution_time  \\\n",
       "0  {\"cutoff\": \"quantile_0.1\", \"eval_fairness_grou...        27.69722   \n",
       "0  {\"cutoff\": \"quantile_0.1\", \"eval_fairness_grou...        27.69722   \n",
       "0  {\"cutoff\": \"quantile_0.25\", \"eval_fairness_gro...        27.69722   \n",
       "0  {\"cutoff\": \"quantile_0.25\", \"eval_fairness_gro...        27.69722   \n",
       "\n",
       "   test_size_n  test_size_frac  fair_main_equalized_odds_difference  \\\n",
       "0        89710             1.0                             0.020403   \n",
       "0        89710             1.0                             0.020403   \n",
       "0        89710             1.0                             0.059020   \n",
       "0        89710             1.0                             0.059020   \n",
       "\n",
       "   fair_main_equalized_odds_ratio  fair_main_demographic_parity_difference  \\\n",
       "0                        0.979364                                 0.005110   \n",
       "0                        0.979364                                 0.005110   \n",
       "0                        0.937405                                 0.000339   \n",
       "0                        0.937405                                 0.000339   \n",
       "\n",
       "   fair_main_demographic_parity_ratio  ...  perf_grp_precision_0  \\\n",
       "0                            0.994489  ...                   NaN   \n",
       "0                            0.994489  ...              0.120399   \n",
       "0                            0.999553  ...                   NaN   \n",
       "0                            0.999553  ...              0.134442   \n",
       "\n",
       "   perf_grp_precision_1  perf_grp_false positive rate_0  \\\n",
       "0                   NaN                             NaN   \n",
       "0              0.141686                        0.921858   \n",
       "0                   NaN                             NaN   \n",
       "0              0.164456                        0.741525   \n",
       "\n",
       "   perf_grp_false positive rate_1  perf_grp_false negative rate_0  \\\n",
       "0                             NaN                             NaN   \n",
       "0                        0.911961                        0.031672   \n",
       "0                             NaN                             NaN   \n",
       "0                        0.729385                        0.116132   \n",
       "\n",
       "   perf_grp_false negative rate_1  perf_grp_selection rate_0  \\\n",
       "0                             NaN                        NaN   \n",
       "0                        0.011269                   0.927215   \n",
       "0                             NaN                        NaN   \n",
       "0                        0.057112                   0.757936   \n",
       "\n",
       "   perf_grp_selection rate_1  perf_grp_count_0  perf_grp_count_1  \n",
       "0                        NaN               NaN               NaN  \n",
       "0                   0.922105           20540.0           69170.0  \n",
       "0                        NaN               NaN               NaN  \n",
       "0                   0.757597           20540.0           69170.0  \n",
       "\n",
       "[4 rows x 50 columns]"
      ]
     },
     "execution_count": 64,
     "metadata": {},
     "output_type": "execute_result"
    }
   ],
   "source": [
    "final_output = universe_analysis.generate_final_output(\n",
    "    y_pred_prob=probs_test,\n",
    "    y_test=y_true,\n",
    "    org_test=org_test,\n",
    "    filter_data=filter_sub_universe_data,\n",
    "    cp_metrics_df=cp_metrics_df,\n",
    "    save=True,\n",
    ")\n",
    "final_output"
   ]
  },
  {
   "cell_type": "code",
   "execution_count": null,
   "id": "8b80a1ff",
   "metadata": {
    "papermill": {
     "duration": 0.014947,
     "end_time": "2025-08-19T18:28:59.343020",
     "exception": false,
     "start_time": "2025-08-19T18:28:59.328073",
     "status": "completed"
    },
    "tags": []
   },
   "outputs": [],
   "source": []
  },
  {
   "cell_type": "code",
   "execution_count": null,
   "id": "275c9fad",
   "metadata": {
    "papermill": {
     "duration": 0.014505,
     "end_time": "2025-08-19T18:28:59.372105",
     "exception": false,
     "start_time": "2025-08-19T18:28:59.357600",
     "status": "completed"
    },
    "tags": []
   },
   "outputs": [],
   "source": []
  }
 ],
 "metadata": {
  "celltoolbar": "Tags",
  "kernelspec": {
   "display_name": "Python (CMA Fairness)",
   "language": "python",
   "name": "cma_fair_env"
  },
  "language_info": {
   "codemirror_mode": {
    "name": "ipython",
    "version": 3
   },
   "file_extension": ".py",
   "mimetype": "text/x-python",
   "name": "python",
   "nbconvert_exporter": "python",
   "pygments_lexer": "ipython3",
   "version": "3.10.12"
  },
  "papermill": {
   "default_parameters": {},
   "duration": 38.185148,
   "end_time": "2025-08-19T18:29:00.219352",
   "environment_variables": {},
   "exception": null,
   "input_path": "universe_analysis.ipynb",
   "output_path": "output/runs/3/notebooks/m_3-cc5ed4b98b65db76369bfefc5bfda7d4.ipynb",
   "parameters": {
    "output_dir": "output",
    "run_no": "3",
    "seed": "2023",
    "universe": "{\"cutoff\": [\"quantile_0.1\", \"quantile_0.25\"], \"eval_fairness_grouping\": [\"majority-minority\", \"nationality-all\"], \"exclude_features\": \"none\", \"exclude_subgroups\": \"drop-non-german\", \"model\": \"rf\", \"scale\": \"do-not-scale\", \"training_size\": \"5k\", \"training_year\": \"2014\"}",
    "universe_id": "cc5ed4b98b65db76369bfefc5bfda7d4"
   },
   "start_time": "2025-08-19T18:28:22.034204",
   "version": "2.6.0"
  }
 },
 "nbformat": 4,
 "nbformat_minor": 5
}