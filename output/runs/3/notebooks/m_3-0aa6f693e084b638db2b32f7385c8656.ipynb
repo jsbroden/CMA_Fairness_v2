{
 "cells": [
  {
   "cell_type": "markdown",
   "id": "ef23dbb3",
   "metadata": {
    "papermill": {
     "duration": 0.009253,
     "end_time": "2025-08-19T19:03:31.735317",
     "exception": false,
     "start_time": "2025-08-19T19:03:31.726064",
     "status": "completed"
    },
    "tags": []
   },
   "source": [
    "# Setup"
   ]
  },
  {
   "cell_type": "code",
   "execution_count": 1,
   "id": "0bc8e7dc",
   "metadata": {
    "execution": {
     "iopub.execute_input": "2025-08-19T19:03:31.771321Z",
     "iopub.status.busy": "2025-08-19T19:03:31.770582Z",
     "iopub.status.idle": "2025-08-19T19:03:31.795245Z",
     "shell.execute_reply": "2025-08-19T19:03:31.794383Z"
    },
    "papermill": {
     "duration": 0.052396,
     "end_time": "2025-08-19T19:03:31.796575",
     "exception": false,
     "start_time": "2025-08-19T19:03:31.744179",
     "status": "completed"
    },
    "tags": []
   },
   "outputs": [
    {
     "name": "stdout",
     "output_type": "stream",
     "text": [
      "/dss/dsshome1/0C/ra93lal2/cma/CMA_Fairness_v2\n"
     ]
    },
    {
     "name": "stderr",
     "output_type": "stream",
     "text": [
      "/dss/dsshome1/0C/ra93lal2/.local/share/virtualenvs/CMA_Fairness_v2-3j10GkSs/lib/python3.10/site-packages/IPython/core/magics/osm.py:393: UserWarning: This is now an optional IPython functionality, using bookmarks requires you to install the `pickleshare` library.\n",
      "  bkms = self.shell.db.get('bookmarks', {})\n",
      "/dss/dsshome1/0C/ra93lal2/.local/share/virtualenvs/CMA_Fairness_v2-3j10GkSs/lib/python3.10/site-packages/IPython/core/magics/osm.py:417: UserWarning: This is now an optional IPython functionality, setting dhist requires you to install the `pickleshare` library.\n",
      "  self.shell.db['dhist'] = compress_dhist(dhist)[-100:]\n"
     ]
    }
   ],
   "source": [
    "%cd ~/cma/CMA_Fairness_v2"
   ]
  },
  {
   "cell_type": "markdown",
   "id": "9d235661",
   "metadata": {
    "papermill": {
     "duration": 0.00895,
     "end_time": "2025-08-19T19:03:31.815448",
     "exception": false,
     "start_time": "2025-08-19T19:03:31.806498",
     "status": "completed"
    },
    "tags": []
   },
   "source": [
    "The following cell holds the definition of our parameters, these values can be overriden by rendering the with e.g. the following command:\n",
    "\n",
    "papermill -p alpha 0.2 -p ratio 0.3 universe_analysis.ipynb output/test_run.ipynb"
   ]
  },
  {
   "cell_type": "code",
   "execution_count": 2,
   "id": "4a789d8e",
   "metadata": {
    "execution": {
     "iopub.execute_input": "2025-08-19T19:03:31.839560Z",
     "iopub.status.busy": "2025-08-19T19:03:31.839260Z",
     "iopub.status.idle": "2025-08-19T19:03:31.855988Z",
     "shell.execute_reply": "2025-08-19T19:03:31.854822Z"
    },
    "papermill": {
     "duration": 0.033228,
     "end_time": "2025-08-19T19:03:31.857919",
     "exception": false,
     "start_time": "2025-08-19T19:03:31.824691",
     "status": "completed"
    },
    "tags": []
   },
   "outputs": [
    {
     "name": "stdout",
     "output_type": "stream",
     "text": [
      "Current working directory: /dss/dsshome1/0C/ra93lal2/cma/CMA_Fairness_v2\n"
     ]
    }
   ],
   "source": [
    "import os\n",
    "print(\"Current working directory:\", os.getcwd())"
   ]
  },
  {
   "cell_type": "code",
   "execution_count": 3,
   "id": "4132aaed",
   "metadata": {
    "execution": {
     "iopub.execute_input": "2025-08-19T19:03:31.895168Z",
     "iopub.status.busy": "2025-08-19T19:03:31.894868Z",
     "iopub.status.idle": "2025-08-19T19:03:31.900738Z",
     "shell.execute_reply": "2025-08-19T19:03:31.899916Z"
    },
    "papermill": {
     "duration": 0.033028,
     "end_time": "2025-08-19T19:03:31.902472",
     "exception": false,
     "start_time": "2025-08-19T19:03:31.869444",
     "status": "completed"
    },
    "tags": [
     "parameters"
    ]
   },
   "outputs": [],
   "source": [
    "run_no = 0\n",
    "universe_id = \"test\"\n",
    "universe = {\n",
    "    \"training_size\": \"5k\", # \"25k\", \"5k\", \"1k\"\n",
    "    \"training_year\": \"2012_14\", # \"2014\", \"2012_14\", \"2010_14\"\n",
    "    \"scale\": \"scale\", # \"scale\", \"do-not-scale\",\n",
    "    \"model\": \"elasticnet\", # \"logreg\", \"penalized_logreg\", \"rf\", \"gbm\", \"elasticnet\"\n",
    "    \"cutoff\": [\"quantile_0.15\", \"quantile_0.30\"],\n",
    "    \"exclude_features\": \"age\", # \"none\", \"nationality\", \"sex\", \"nationality-sex\", \"age\"\n",
    "    \"exclude_subgroups\": \"drop-non-german\", # \"keep-all\", \"drop-non-german\"\n",
    "    \"eval_fairness_grouping\": [\"majority-minority\", \"nationality-all\"]\n",
    "}\n",
    "\n",
    "output_dir=\"./output\"\n",
    "seed=0"
   ]
  },
  {
   "cell_type": "code",
   "execution_count": 4,
   "id": "782730c3",
   "metadata": {
    "execution": {
     "iopub.execute_input": "2025-08-19T19:03:31.928152Z",
     "iopub.status.busy": "2025-08-19T19:03:31.927846Z",
     "iopub.status.idle": "2025-08-19T19:03:31.932438Z",
     "shell.execute_reply": "2025-08-19T19:03:31.931743Z"
    },
    "papermill": {
     "duration": 0.018144,
     "end_time": "2025-08-19T19:03:31.933839",
     "exception": false,
     "start_time": "2025-08-19T19:03:31.915695",
     "status": "completed"
    },
    "tags": [
     "injected-parameters"
    ]
   },
   "outputs": [],
   "source": [
    "# Parameters\n",
    "universe_id = \"0aa6f693e084b638db2b32f7385c8656\"\n",
    "run_no = \"3\"\n",
    "universe = \"{\\\"cutoff\\\": [\\\"quantile_0.1\\\", \\\"quantile_0.25\\\"], \\\"eval_fairness_grouping\\\": [\\\"majority-minority\\\", \\\"nationality-all\\\"], \\\"exclude_features\\\": \\\"age\\\", \\\"exclude_subgroups\\\": \\\"drop-non-german\\\", \\\"model\\\": \\\"gbm\\\", \\\"scale\\\": \\\"do-not-scale\\\", \\\"training_size\\\": \\\"1k\\\", \\\"training_year\\\": \\\"2012_14\\\"}\"\n",
    "output_dir = \"output\"\n",
    "seed = \"2023\"\n"
   ]
  },
  {
   "cell_type": "code",
   "execution_count": 5,
   "id": "a5d7941f",
   "metadata": {
    "execution": {
     "iopub.execute_input": "2025-08-19T19:03:31.967716Z",
     "iopub.status.busy": "2025-08-19T19:03:31.967403Z",
     "iopub.status.idle": "2025-08-19T19:03:31.972239Z",
     "shell.execute_reply": "2025-08-19T19:03:31.971532Z"
    },
    "papermill": {
     "duration": 0.023079,
     "end_time": "2025-08-19T19:03:31.974047",
     "exception": false,
     "start_time": "2025-08-19T19:03:31.950968",
     "status": "completed"
    },
    "tags": []
   },
   "outputs": [],
   "source": [
    "import json\n",
    "if isinstance(universe, str):\n",
    "    universe = json.loads(universe)"
   ]
  },
  {
   "cell_type": "code",
   "execution_count": 6,
   "id": "7076ccb1",
   "metadata": {
    "execution": {
     "iopub.execute_input": "2025-08-19T19:03:31.996000Z",
     "iopub.status.busy": "2025-08-19T19:03:31.995693Z",
     "iopub.status.idle": "2025-08-19T19:03:32.032187Z",
     "shell.execute_reply": "2025-08-19T19:03:32.031492Z"
    },
    "papermill": {
     "duration": 0.049449,
     "end_time": "2025-08-19T19:03:32.033823",
     "exception": false,
     "start_time": "2025-08-19T19:03:31.984374",
     "status": "completed"
    },
    "tags": []
   },
   "outputs": [],
   "source": [
    "# Auto-reload the custom package\n",
    "%load_ext autoreload\n",
    "%autoreload 1\n",
    "%aimport fairness_multiverse"
   ]
  },
  {
   "cell_type": "code",
   "execution_count": 7,
   "id": "94c8eb93",
   "metadata": {
    "execution": {
     "iopub.execute_input": "2025-08-19T19:03:32.057865Z",
     "iopub.status.busy": "2025-08-19T19:03:32.055793Z",
     "iopub.status.idle": "2025-08-19T19:03:33.933236Z",
     "shell.execute_reply": "2025-08-19T19:03:33.932057Z"
    },
    "papermill": {
     "duration": 1.890574,
     "end_time": "2025-08-19T19:03:33.934963",
     "exception": false,
     "start_time": "2025-08-19T19:03:32.044389",
     "status": "completed"
    },
    "tags": []
   },
   "outputs": [],
   "source": [
    "from fairness_multiverse.universe import UniverseAnalysis\n",
    "\n",
    "universe_analysis = UniverseAnalysis(\n",
    "    run_no = run_no,\n",
    "    universe_id = universe_id,\n",
    "    universe = universe,\n",
    "    output_dir=output_dir,\n",
    ")"
   ]
  },
  {
   "cell_type": "code",
   "execution_count": 8,
   "id": "2a6381cf",
   "metadata": {
    "execution": {
     "iopub.execute_input": "2025-08-19T19:03:33.955310Z",
     "iopub.status.busy": "2025-08-19T19:03:33.954815Z",
     "iopub.status.idle": "2025-08-19T19:03:33.961365Z",
     "shell.execute_reply": "2025-08-19T19:03:33.960190Z"
    },
    "papermill": {
     "duration": 0.018073,
     "end_time": "2025-08-19T19:03:33.962671",
     "exception": false,
     "start_time": "2025-08-19T19:03:33.944598",
     "status": "completed"
    },
    "tags": []
   },
   "outputs": [
    {
     "name": "stdout",
     "output_type": "stream",
     "text": [
      "Using Seed: 2023\n"
     ]
    }
   ],
   "source": [
    "import numpy as np\n",
    "parsed_seed = int(seed)\n",
    "np.random.seed(parsed_seed)\n",
    "print(f\"Using Seed: {parsed_seed}\")"
   ]
  },
  {
   "cell_type": "markdown",
   "id": "b6e958b4",
   "metadata": {
    "papermill": {
     "duration": 0.009849,
     "end_time": "2025-08-19T19:03:33.981949",
     "exception": false,
     "start_time": "2025-08-19T19:03:33.972100",
     "status": "completed"
    },
    "tags": []
   },
   "source": [
    "# Loading Data"
   ]
  },
  {
   "cell_type": "code",
   "execution_count": 9,
   "id": "98701482",
   "metadata": {
    "execution": {
     "iopub.execute_input": "2025-08-19T19:03:34.007436Z",
     "iopub.status.busy": "2025-08-19T19:03:34.006524Z",
     "iopub.status.idle": "2025-08-19T19:03:44.410932Z",
     "shell.execute_reply": "2025-08-19T19:03:44.409455Z"
    },
    "papermill": {
     "duration": 10.42676,
     "end_time": "2025-08-19T19:03:44.421464",
     "exception": false,
     "start_time": "2025-08-19T19:03:33.994704",
     "status": "completed"
    },
    "tags": []
   },
   "outputs": [
    {
     "name": "stdout",
     "output_type": "stream",
     "text": [
      "Loading SIAB data from cache: data/siab_cached.csv.gz\n"
     ]
    },
    {
     "name": "stdout",
     "output_type": "stream",
     "text": [
      "(643690, 164)\n"
     ]
    }
   ],
   "source": [
    "from pathlib import Path\n",
    "import pandas as pd\n",
    "\n",
    "# File paths\n",
    "raw_file = Path(\"data/raw/siab.csv\")\n",
    "cache_file = Path(\"data/siab_cached.csv.gz\")\n",
    "\n",
    "# Ensure cache directory exists\n",
    "cache_file.parent.mkdir(parents=True, exist_ok=True)\n",
    "\n",
    "# Load with simple caching\n",
    "if cache_file.exists():\n",
    "    print(f\"Loading SIAB data from cache: {cache_file}\")\n",
    "    siab = pd.read_csv(cache_file, compression='gzip')\n",
    "else:\n",
    "    print(f\"Cache not found. Reading raw SIAB data: {raw_file}\")\n",
    "    siab = pd.read_csv(raw_file)\n",
    "    siab.to_csv(cache_file, index=False, compression='gzip')\n",
    "    print(f\"Cached SIAB data to: {cache_file}\")\n",
    "\n",
    "print(siab.shape)"
   ]
  },
  {
   "cell_type": "code",
   "execution_count": 10,
   "id": "058d2abb",
   "metadata": {
    "execution": {
     "iopub.execute_input": "2025-08-19T19:03:44.454188Z",
     "iopub.status.busy": "2025-08-19T19:03:44.452845Z",
     "iopub.status.idle": "2025-08-19T19:03:44.621395Z",
     "shell.execute_reply": "2025-08-19T19:03:44.620504Z"
    },
    "papermill": {
     "duration": 0.191383,
     "end_time": "2025-08-19T19:03:44.625473",
     "exception": false,
     "start_time": "2025-08-19T19:03:44.434090",
     "status": "completed"
    },
    "tags": []
   },
   "outputs": [
    {
     "data": {
      "text/html": [
       "<div>\n",
       "<style scoped>\n",
       "    .dataframe tbody tr th:only-of-type {\n",
       "        vertical-align: middle;\n",
       "    }\n",
       "\n",
       "    .dataframe tbody tr th {\n",
       "        vertical-align: top;\n",
       "    }\n",
       "\n",
       "    .dataframe thead th {\n",
       "        text-align: right;\n",
       "    }\n",
       "</style>\n",
       "<table border=\"1\" class=\"dataframe\">\n",
       "  <thead>\n",
       "    <tr style=\"text-align: right;\">\n",
       "      <th></th>\n",
       "      <th>persnr</th>\n",
       "      <th>year</th>\n",
       "      <th>nrEntry</th>\n",
       "      <th>ltue</th>\n",
       "      <th>employed_before</th>\n",
       "      <th>receipt_leh_before</th>\n",
       "      <th>receipt_lhg_before</th>\n",
       "      <th>se_before</th>\n",
       "      <th>ASU_notue_seeking_before</th>\n",
       "      <th>ASU_other_before</th>\n",
       "      <th>...</th>\n",
       "      <th>minijob_tot_dur_byage</th>\n",
       "      <th>ft_tot_dur_byage</th>\n",
       "      <th>befrist_tot_dur_byage</th>\n",
       "      <th>leih_tot_dur_byage</th>\n",
       "      <th>LHG_tot_dur_byage</th>\n",
       "      <th>LEH_tot_dur_byage</th>\n",
       "      <th>almp_tot_dur_byage</th>\n",
       "      <th>almp_aw_tot_dur_byage</th>\n",
       "      <th>se_tot_dur_byage</th>\n",
       "      <th>seeking1_tot_dur_byage</th>\n",
       "    </tr>\n",
       "  </thead>\n",
       "  <tbody>\n",
       "    <tr>\n",
       "      <th>0</th>\n",
       "      <td>7</td>\n",
       "      <td>2015</td>\n",
       "      <td>1</td>\n",
       "      <td>0</td>\n",
       "      <td>1</td>\n",
       "      <td>0</td>\n",
       "      <td>0</td>\n",
       "      <td>0</td>\n",
       "      <td>1</td>\n",
       "      <td>0</td>\n",
       "      <td>...</td>\n",
       "      <td>0.000000</td>\n",
       "      <td>0.000000</td>\n",
       "      <td>15.043478</td>\n",
       "      <td>0.000000</td>\n",
       "      <td>0.000000</td>\n",
       "      <td>0.000000</td>\n",
       "      <td>0.000000</td>\n",
       "      <td>0.000000</td>\n",
       "      <td>0.000000</td>\n",
       "      <td>0.000000</td>\n",
       "    </tr>\n",
       "    <tr>\n",
       "      <th>1</th>\n",
       "      <td>18</td>\n",
       "      <td>2010</td>\n",
       "      <td>1</td>\n",
       "      <td>1</td>\n",
       "      <td>0</td>\n",
       "      <td>0</td>\n",
       "      <td>0</td>\n",
       "      <td>0</td>\n",
       "      <td>0</td>\n",
       "      <td>0</td>\n",
       "      <td>...</td>\n",
       "      <td>0.000000</td>\n",
       "      <td>0.000000</td>\n",
       "      <td>0.000000</td>\n",
       "      <td>0.000000</td>\n",
       "      <td>0.000000</td>\n",
       "      <td>0.000000</td>\n",
       "      <td>0.000000</td>\n",
       "      <td>0.000000</td>\n",
       "      <td>0.000000</td>\n",
       "      <td>0.000000</td>\n",
       "    </tr>\n",
       "    <tr>\n",
       "      <th>2</th>\n",
       "      <td>18</td>\n",
       "      <td>2011</td>\n",
       "      <td>2</td>\n",
       "      <td>0</td>\n",
       "      <td>1</td>\n",
       "      <td>0</td>\n",
       "      <td>1</td>\n",
       "      <td>0</td>\n",
       "      <td>1</td>\n",
       "      <td>0</td>\n",
       "      <td>...</td>\n",
       "      <td>2.714286</td>\n",
       "      <td>2.714286</td>\n",
       "      <td>0.000000</td>\n",
       "      <td>0.000000</td>\n",
       "      <td>10.775510</td>\n",
       "      <td>0.000000</td>\n",
       "      <td>8.367347</td>\n",
       "      <td>0.000000</td>\n",
       "      <td>0.000000</td>\n",
       "      <td>9.836735</td>\n",
       "    </tr>\n",
       "    <tr>\n",
       "      <th>3</th>\n",
       "      <td>18</td>\n",
       "      <td>2012</td>\n",
       "      <td>3</td>\n",
       "      <td>0</td>\n",
       "      <td>1</td>\n",
       "      <td>0</td>\n",
       "      <td>1</td>\n",
       "      <td>0</td>\n",
       "      <td>1</td>\n",
       "      <td>0</td>\n",
       "      <td>...</td>\n",
       "      <td>4.200000</td>\n",
       "      <td>4.200000</td>\n",
       "      <td>0.000000</td>\n",
       "      <td>0.000000</td>\n",
       "      <td>12.100000</td>\n",
       "      <td>0.000000</td>\n",
       "      <td>9.400000</td>\n",
       "      <td>0.000000</td>\n",
       "      <td>0.000000</td>\n",
       "      <td>9.960000</td>\n",
       "    </tr>\n",
       "    <tr>\n",
       "      <th>4</th>\n",
       "      <td>18</td>\n",
       "      <td>2012</td>\n",
       "      <td>4</td>\n",
       "      <td>0</td>\n",
       "      <td>1</td>\n",
       "      <td>0</td>\n",
       "      <td>1</td>\n",
       "      <td>0</td>\n",
       "      <td>1</td>\n",
       "      <td>0</td>\n",
       "      <td>...</td>\n",
       "      <td>5.460000</td>\n",
       "      <td>5.460000</td>\n",
       "      <td>0.000000</td>\n",
       "      <td>0.000000</td>\n",
       "      <td>13.360000</td>\n",
       "      <td>0.000000</td>\n",
       "      <td>10.320000</td>\n",
       "      <td>0.000000</td>\n",
       "      <td>0.000000</td>\n",
       "      <td>10.280000</td>\n",
       "    </tr>\n",
       "    <tr>\n",
       "      <th>...</th>\n",
       "      <td>...</td>\n",
       "      <td>...</td>\n",
       "      <td>...</td>\n",
       "      <td>...</td>\n",
       "      <td>...</td>\n",
       "      <td>...</td>\n",
       "      <td>...</td>\n",
       "      <td>...</td>\n",
       "      <td>...</td>\n",
       "      <td>...</td>\n",
       "      <td>...</td>\n",
       "      <td>...</td>\n",
       "      <td>...</td>\n",
       "      <td>...</td>\n",
       "      <td>...</td>\n",
       "      <td>...</td>\n",
       "      <td>...</td>\n",
       "      <td>...</td>\n",
       "      <td>...</td>\n",
       "      <td>...</td>\n",
       "      <td>...</td>\n",
       "    </tr>\n",
       "    <tr>\n",
       "      <th>643685</th>\n",
       "      <td>1827860</td>\n",
       "      <td>2013</td>\n",
       "      <td>1</td>\n",
       "      <td>0</td>\n",
       "      <td>0</td>\n",
       "      <td>0</td>\n",
       "      <td>1</td>\n",
       "      <td>0</td>\n",
       "      <td>0</td>\n",
       "      <td>1</td>\n",
       "      <td>...</td>\n",
       "      <td>0.000000</td>\n",
       "      <td>0.000000</td>\n",
       "      <td>0.000000</td>\n",
       "      <td>0.000000</td>\n",
       "      <td>0.612903</td>\n",
       "      <td>0.000000</td>\n",
       "      <td>0.000000</td>\n",
       "      <td>0.000000</td>\n",
       "      <td>0.000000</td>\n",
       "      <td>0.000000</td>\n",
       "    </tr>\n",
       "    <tr>\n",
       "      <th>643686</th>\n",
       "      <td>1827860</td>\n",
       "      <td>2015</td>\n",
       "      <td>2</td>\n",
       "      <td>1</td>\n",
       "      <td>0</td>\n",
       "      <td>0</td>\n",
       "      <td>1</td>\n",
       "      <td>0</td>\n",
       "      <td>1</td>\n",
       "      <td>0</td>\n",
       "      <td>...</td>\n",
       "      <td>0.000000</td>\n",
       "      <td>0.000000</td>\n",
       "      <td>0.212121</td>\n",
       "      <td>0.212121</td>\n",
       "      <td>17.363636</td>\n",
       "      <td>0.000000</td>\n",
       "      <td>8.909091</td>\n",
       "      <td>0.000000</td>\n",
       "      <td>0.000000</td>\n",
       "      <td>7.121212</td>\n",
       "    </tr>\n",
       "    <tr>\n",
       "      <th>643687</th>\n",
       "      <td>1827860</td>\n",
       "      <td>2016</td>\n",
       "      <td>3</td>\n",
       "      <td>1</td>\n",
       "      <td>0</td>\n",
       "      <td>0</td>\n",
       "      <td>1</td>\n",
       "      <td>1</td>\n",
       "      <td>0</td>\n",
       "      <td>1</td>\n",
       "      <td>...</td>\n",
       "      <td>0.000000</td>\n",
       "      <td>0.000000</td>\n",
       "      <td>0.294118</td>\n",
       "      <td>0.205882</td>\n",
       "      <td>34.705882</td>\n",
       "      <td>0.000000</td>\n",
       "      <td>10.352941</td>\n",
       "      <td>1.705882</td>\n",
       "      <td>1.705882</td>\n",
       "      <td>23.911765</td>\n",
       "    </tr>\n",
       "    <tr>\n",
       "      <th>643688</th>\n",
       "      <td>1827869</td>\n",
       "      <td>2013</td>\n",
       "      <td>1</td>\n",
       "      <td>1</td>\n",
       "      <td>1</td>\n",
       "      <td>0</td>\n",
       "      <td>0</td>\n",
       "      <td>0</td>\n",
       "      <td>1</td>\n",
       "      <td>0</td>\n",
       "      <td>...</td>\n",
       "      <td>0.000000</td>\n",
       "      <td>0.000000</td>\n",
       "      <td>0.000000</td>\n",
       "      <td>0.000000</td>\n",
       "      <td>0.000000</td>\n",
       "      <td>0.525424</td>\n",
       "      <td>0.000000</td>\n",
       "      <td>0.000000</td>\n",
       "      <td>0.000000</td>\n",
       "      <td>0.000000</td>\n",
       "    </tr>\n",
       "    <tr>\n",
       "      <th>643689</th>\n",
       "      <td>1827869</td>\n",
       "      <td>2014</td>\n",
       "      <td>2</td>\n",
       "      <td>0</td>\n",
       "      <td>0</td>\n",
       "      <td>1</td>\n",
       "      <td>0</td>\n",
       "      <td>0</td>\n",
       "      <td>1</td>\n",
       "      <td>0</td>\n",
       "      <td>...</td>\n",
       "      <td>0.000000</td>\n",
       "      <td>0.666667</td>\n",
       "      <td>0.666667</td>\n",
       "      <td>0.000000</td>\n",
       "      <td>0.000000</td>\n",
       "      <td>8.950000</td>\n",
       "      <td>1.033333</td>\n",
       "      <td>0.083333</td>\n",
       "      <td>0.083333</td>\n",
       "      <td>8.133333</td>\n",
       "    </tr>\n",
       "  </tbody>\n",
       "</table>\n",
       "<p>643690 rows × 164 columns</p>\n",
       "</div>"
      ],
      "text/plain": [
       "         persnr  year  nrEntry  ltue  employed_before  receipt_leh_before  \\\n",
       "0             7  2015        1     0                1                   0   \n",
       "1            18  2010        1     1                0                   0   \n",
       "2            18  2011        2     0                1                   0   \n",
       "3            18  2012        3     0                1                   0   \n",
       "4            18  2012        4     0                1                   0   \n",
       "...         ...   ...      ...   ...              ...                 ...   \n",
       "643685  1827860  2013        1     0                0                   0   \n",
       "643686  1827860  2015        2     1                0                   0   \n",
       "643687  1827860  2016        3     1                0                   0   \n",
       "643688  1827869  2013        1     1                1                   0   \n",
       "643689  1827869  2014        2     0                0                   1   \n",
       "\n",
       "        receipt_lhg_before  se_before  ASU_notue_seeking_before  \\\n",
       "0                        0          0                         1   \n",
       "1                        0          0                         0   \n",
       "2                        1          0                         1   \n",
       "3                        1          0                         1   \n",
       "4                        1          0                         1   \n",
       "...                    ...        ...                       ...   \n",
       "643685                   1          0                         0   \n",
       "643686                   1          0                         1   \n",
       "643687                   1          1                         0   \n",
       "643688                   0          0                         1   \n",
       "643689                   0          0                         1   \n",
       "\n",
       "        ASU_other_before  ...  minijob_tot_dur_byage  ft_tot_dur_byage  \\\n",
       "0                      0  ...               0.000000          0.000000   \n",
       "1                      0  ...               0.000000          0.000000   \n",
       "2                      0  ...               2.714286          2.714286   \n",
       "3                      0  ...               4.200000          4.200000   \n",
       "4                      0  ...               5.460000          5.460000   \n",
       "...                  ...  ...                    ...               ...   \n",
       "643685                 1  ...               0.000000          0.000000   \n",
       "643686                 0  ...               0.000000          0.000000   \n",
       "643687                 1  ...               0.000000          0.000000   \n",
       "643688                 0  ...               0.000000          0.000000   \n",
       "643689                 0  ...               0.000000          0.666667   \n",
       "\n",
       "        befrist_tot_dur_byage  leih_tot_dur_byage  LHG_tot_dur_byage  \\\n",
       "0                   15.043478            0.000000           0.000000   \n",
       "1                    0.000000            0.000000           0.000000   \n",
       "2                    0.000000            0.000000          10.775510   \n",
       "3                    0.000000            0.000000          12.100000   \n",
       "4                    0.000000            0.000000          13.360000   \n",
       "...                       ...                 ...                ...   \n",
       "643685               0.000000            0.000000           0.612903   \n",
       "643686               0.212121            0.212121          17.363636   \n",
       "643687               0.294118            0.205882          34.705882   \n",
       "643688               0.000000            0.000000           0.000000   \n",
       "643689               0.666667            0.000000           0.000000   \n",
       "\n",
       "        LEH_tot_dur_byage  almp_tot_dur_byage  almp_aw_tot_dur_byage  \\\n",
       "0                0.000000            0.000000               0.000000   \n",
       "1                0.000000            0.000000               0.000000   \n",
       "2                0.000000            8.367347               0.000000   \n",
       "3                0.000000            9.400000               0.000000   \n",
       "4                0.000000           10.320000               0.000000   \n",
       "...                   ...                 ...                    ...   \n",
       "643685           0.000000            0.000000               0.000000   \n",
       "643686           0.000000            8.909091               0.000000   \n",
       "643687           0.000000           10.352941               1.705882   \n",
       "643688           0.525424            0.000000               0.000000   \n",
       "643689           8.950000            1.033333               0.083333   \n",
       "\n",
       "        se_tot_dur_byage  seeking1_tot_dur_byage  \n",
       "0               0.000000                0.000000  \n",
       "1               0.000000                0.000000  \n",
       "2               0.000000                9.836735  \n",
       "3               0.000000                9.960000  \n",
       "4               0.000000               10.280000  \n",
       "...                  ...                     ...  \n",
       "643685          0.000000                0.000000  \n",
       "643686          0.000000                7.121212  \n",
       "643687          1.705882               23.911765  \n",
       "643688          0.000000                0.000000  \n",
       "643689          0.083333                8.133333  \n",
       "\n",
       "[643690 rows x 164 columns]"
      ]
     },
     "execution_count": 10,
     "metadata": {},
     "output_type": "execute_result"
    }
   ],
   "source": [
    "siab"
   ]
  },
  {
   "cell_type": "markdown",
   "id": "1f87e805",
   "metadata": {
    "papermill": {
     "duration": 0.012123,
     "end_time": "2025-08-19T19:03:44.660058",
     "exception": false,
     "start_time": "2025-08-19T19:03:44.647935",
     "status": "completed"
    },
    "tags": []
   },
   "source": [
    "# Splitting Data and Setting Training Data Size"
   ]
  },
  {
   "cell_type": "code",
   "execution_count": 11,
   "id": "910ae358",
   "metadata": {
    "execution": {
     "iopub.execute_input": "2025-08-19T19:03:44.685087Z",
     "iopub.status.busy": "2025-08-19T19:03:44.682343Z",
     "iopub.status.idle": "2025-08-19T19:03:45.328929Z",
     "shell.execute_reply": "2025-08-19T19:03:45.327673Z"
    },
    "papermill": {
     "duration": 0.659824,
     "end_time": "2025-08-19T19:03:45.330440",
     "exception": false,
     "start_time": "2025-08-19T19:03:44.670616",
     "status": "completed"
    },
    "tags": []
   },
   "outputs": [],
   "source": [
    "from fairness_multiverse.universe import sample_by_year_size\n",
    "\n",
    "siab_train = sample_by_year_size(siab,\n",
    "                               training_year=universe[\"training_year\"],\n",
    "                               training_size=universe[\"training_size\"])"
   ]
  },
  {
   "cell_type": "code",
   "execution_count": 12,
   "id": "919c8ff5",
   "metadata": {
    "execution": {
     "iopub.execute_input": "2025-08-19T19:03:45.363754Z",
     "iopub.status.busy": "2025-08-19T19:03:45.362383Z",
     "iopub.status.idle": "2025-08-19T19:03:45.374027Z",
     "shell.execute_reply": "2025-08-19T19:03:45.372425Z"
    },
    "papermill": {
     "duration": 0.027783,
     "end_time": "2025-08-19T19:03:45.375681",
     "exception": false,
     "start_time": "2025-08-19T19:03:45.347898",
     "status": "completed"
    },
    "tags": []
   },
   "outputs": [
    {
     "data": {
      "text/plain": [
       "(1000, 164)"
      ]
     },
     "execution_count": 12,
     "metadata": {},
     "output_type": "execute_result"
    }
   ],
   "source": [
    "siab_train.shape"
   ]
  },
  {
   "cell_type": "code",
   "execution_count": 13,
   "id": "feb13bf4",
   "metadata": {
    "execution": {
     "iopub.execute_input": "2025-08-19T19:03:45.400805Z",
     "iopub.status.busy": "2025-08-19T19:03:45.399325Z",
     "iopub.status.idle": "2025-08-19T19:03:45.451883Z",
     "shell.execute_reply": "2025-08-19T19:03:45.450075Z"
    },
    "papermill": {
     "duration": 0.067492,
     "end_time": "2025-08-19T19:03:45.454831",
     "exception": false,
     "start_time": "2025-08-19T19:03:45.387339",
     "status": "completed"
    },
    "tags": []
   },
   "outputs": [
    {
     "data": {
      "text/plain": [
       "year\n",
       "2012    334\n",
       "2013    333\n",
       "2014    333\n",
       "dtype: int64"
      ]
     },
     "metadata": {},
     "output_type": "display_data"
    }
   ],
   "source": [
    "display(siab_train.groupby(\"year\").size())"
   ]
  },
  {
   "cell_type": "code",
   "execution_count": 14,
   "id": "0997782f",
   "metadata": {
    "execution": {
     "iopub.execute_input": "2025-08-19T19:03:45.494609Z",
     "iopub.status.busy": "2025-08-19T19:03:45.493385Z",
     "iopub.status.idle": "2025-08-19T19:03:45.758277Z",
     "shell.execute_reply": "2025-08-19T19:03:45.757137Z"
    },
    "papermill": {
     "duration": 0.280743,
     "end_time": "2025-08-19T19:03:45.759995",
     "exception": false,
     "start_time": "2025-08-19T19:03:45.479252",
     "status": "completed"
    },
    "tags": []
   },
   "outputs": [],
   "source": [
    "#siab_train = siab_s[siab_s.year < 2015]\n",
    "siab_calib = siab[siab.year == 2015]\n",
    "siab_test = siab[siab.year == 2016]"
   ]
  },
  {
   "cell_type": "code",
   "execution_count": 15,
   "id": "2c1e4012",
   "metadata": {
    "execution": {
     "iopub.execute_input": "2025-08-19T19:03:45.786236Z",
     "iopub.status.busy": "2025-08-19T19:03:45.783851Z",
     "iopub.status.idle": "2025-08-19T19:03:45.792293Z",
     "shell.execute_reply": "2025-08-19T19:03:45.790730Z"
    },
    "papermill": {
     "duration": 0.022048,
     "end_time": "2025-08-19T19:03:45.794393",
     "exception": false,
     "start_time": "2025-08-19T19:03:45.772345",
     "status": "completed"
    },
    "tags": []
   },
   "outputs": [],
   "source": [
    "#siab_calib.shape"
   ]
  },
  {
   "cell_type": "code",
   "execution_count": 16,
   "id": "f66b54ca",
   "metadata": {
    "execution": {
     "iopub.execute_input": "2025-08-19T19:03:45.822344Z",
     "iopub.status.busy": "2025-08-19T19:03:45.819181Z",
     "iopub.status.idle": "2025-08-19T19:03:45.828447Z",
     "shell.execute_reply": "2025-08-19T19:03:45.827046Z"
    },
    "papermill": {
     "duration": 0.022956,
     "end_time": "2025-08-19T19:03:45.830017",
     "exception": false,
     "start_time": "2025-08-19T19:03:45.807061",
     "status": "completed"
    },
    "tags": []
   },
   "outputs": [],
   "source": [
    "#siab_test.shape"
   ]
  },
  {
   "cell_type": "code",
   "execution_count": 17,
   "id": "27e4384d",
   "metadata": {
    "execution": {
     "iopub.execute_input": "2025-08-19T19:03:45.856627Z",
     "iopub.status.busy": "2025-08-19T19:03:45.854974Z",
     "iopub.status.idle": "2025-08-19T19:03:45.872160Z",
     "shell.execute_reply": "2025-08-19T19:03:45.870931Z"
    },
    "papermill": {
     "duration": 0.031963,
     "end_time": "2025-08-19T19:03:45.873787",
     "exception": false,
     "start_time": "2025-08-19T19:03:45.841824",
     "status": "completed"
    },
    "tags": []
   },
   "outputs": [],
   "source": [
    "X_train = siab_train.iloc[:,4:164]\n",
    "y_train = siab_train.iloc[:, [3]]"
   ]
  },
  {
   "cell_type": "code",
   "execution_count": 18,
   "id": "08ee8389",
   "metadata": {
    "execution": {
     "iopub.execute_input": "2025-08-19T19:03:45.907643Z",
     "iopub.status.busy": "2025-08-19T19:03:45.906175Z",
     "iopub.status.idle": "2025-08-19T19:03:46.018018Z",
     "shell.execute_reply": "2025-08-19T19:03:46.016623Z"
    },
    "papermill": {
     "duration": 0.126048,
     "end_time": "2025-08-19T19:03:46.019816",
     "exception": false,
     "start_time": "2025-08-19T19:03:45.893768",
     "status": "completed"
    },
    "tags": []
   },
   "outputs": [],
   "source": [
    "X_calib = siab_calib.iloc[:,4:164]\n",
    "y_calib = siab_calib.iloc[:, [3]]"
   ]
  },
  {
   "cell_type": "code",
   "execution_count": 19,
   "id": "b7ff42e0",
   "metadata": {
    "execution": {
     "iopub.execute_input": "2025-08-19T19:03:46.043797Z",
     "iopub.status.busy": "2025-08-19T19:03:46.043124Z",
     "iopub.status.idle": "2025-08-19T19:03:46.105510Z",
     "shell.execute_reply": "2025-08-19T19:03:46.104356Z"
    },
    "papermill": {
     "duration": 0.075823,
     "end_time": "2025-08-19T19:03:46.107151",
     "exception": false,
     "start_time": "2025-08-19T19:03:46.031328",
     "status": "completed"
    },
    "tags": []
   },
   "outputs": [],
   "source": [
    "X_test = siab_test.iloc[:,4:164]\n",
    "y_true = siab_test.iloc[:, [3]]"
   ]
  },
  {
   "cell_type": "code",
   "execution_count": 20,
   "id": "0275101e",
   "metadata": {
    "execution": {
     "iopub.execute_input": "2025-08-19T19:03:46.140129Z",
     "iopub.status.busy": "2025-08-19T19:03:46.139017Z",
     "iopub.status.idle": "2025-08-19T19:03:46.259545Z",
     "shell.execute_reply": "2025-08-19T19:03:46.258607Z"
    },
    "papermill": {
     "duration": 0.136076,
     "end_time": "2025-08-19T19:03:46.262945",
     "exception": false,
     "start_time": "2025-08-19T19:03:46.126869",
     "status": "completed"
    },
    "tags": []
   },
   "outputs": [],
   "source": [
    "# Auxiliary data needed downstream in the pipeline\n",
    "\n",
    "org_train = X_train.copy()\n",
    "org_test = X_test.copy()\n",
    "org_calib = X_calib.copy()"
   ]
  },
  {
   "cell_type": "markdown",
   "id": "b461e618",
   "metadata": {
    "papermill": {
     "duration": 0.014057,
     "end_time": "2025-08-19T19:03:46.296623",
     "exception": false,
     "start_time": "2025-08-19T19:03:46.282566",
     "status": "completed"
    },
    "tags": []
   },
   "source": [
    "# Preprocessing Data"
   ]
  },
  {
   "cell_type": "code",
   "execution_count": 21,
   "id": "78e74c4b",
   "metadata": {
    "execution": {
     "iopub.execute_input": "2025-08-19T19:03:46.322410Z",
     "iopub.status.busy": "2025-08-19T19:03:46.320908Z",
     "iopub.status.idle": "2025-08-19T19:03:46.334924Z",
     "shell.execute_reply": "2025-08-19T19:03:46.334031Z"
    },
    "papermill": {
     "duration": 0.029672,
     "end_time": "2025-08-19T19:03:46.336900",
     "exception": false,
     "start_time": "2025-08-19T19:03:46.307228",
     "status": "completed"
    },
    "tags": []
   },
   "outputs": [],
   "source": [
    "# EXCLUDE PROTECTED FEATURES\n",
    "# --------------------------\n",
    "\n",
    "excluded_features = universe[\"exclude_features\"].split(\"-\")\n",
    "excluded_features_dictionary = {\n",
    "    \"nationality\": [\"maxdeutsch1\", \"maxdeutsch.Missing.\"],\n",
    "    \"sex\": [\"frau1\"],\n",
    "    \"age\": [\"age\"],\n",
    "}"
   ]
  },
  {
   "cell_type": "code",
   "execution_count": 22,
   "id": "f8e63555",
   "metadata": {
    "execution": {
     "iopub.execute_input": "2025-08-19T19:03:46.364560Z",
     "iopub.status.busy": "2025-08-19T19:03:46.364112Z",
     "iopub.status.idle": "2025-08-19T19:03:46.455425Z",
     "shell.execute_reply": "2025-08-19T19:03:46.453108Z"
    },
    "papermill": {
     "duration": 0.108785,
     "end_time": "2025-08-19T19:03:46.460293",
     "exception": false,
     "start_time": "2025-08-19T19:03:46.351508",
     "status": "completed"
    },
    "tags": []
   },
   "outputs": [],
   "source": [
    "excluded_features_columns = [\n",
    "    excluded_features_dictionary[f] for f in excluded_features if len(f) > 0 and f != \"none\"\n",
    "]"
   ]
  },
  {
   "cell_type": "code",
   "execution_count": 23,
   "id": "da781f7c",
   "metadata": {
    "execution": {
     "iopub.execute_input": "2025-08-19T19:03:46.497509Z",
     "iopub.status.busy": "2025-08-19T19:03:46.497058Z",
     "iopub.status.idle": "2025-08-19T19:03:46.503038Z",
     "shell.execute_reply": "2025-08-19T19:03:46.501724Z"
    },
    "papermill": {
     "duration": 0.022571,
     "end_time": "2025-08-19T19:03:46.505349",
     "exception": false,
     "start_time": "2025-08-19T19:03:46.482778",
     "status": "completed"
    },
    "tags": []
   },
   "outputs": [],
   "source": [
    "from fairness_multiverse.universe import flatten_once\n",
    "\n",
    "excluded_features_columns = flatten_once(excluded_features_columns)"
   ]
  },
  {
   "cell_type": "code",
   "execution_count": 24,
   "id": "37fef0f0",
   "metadata": {
    "execution": {
     "iopub.execute_input": "2025-08-19T19:03:46.532259Z",
     "iopub.status.busy": "2025-08-19T19:03:46.531966Z",
     "iopub.status.idle": "2025-08-19T19:03:46.539534Z",
     "shell.execute_reply": "2025-08-19T19:03:46.538612Z"
    },
    "papermill": {
     "duration": 0.022284,
     "end_time": "2025-08-19T19:03:46.541230",
     "exception": false,
     "start_time": "2025-08-19T19:03:46.518946",
     "status": "completed"
    },
    "tags": []
   },
   "outputs": [
    {
     "name": "stdout",
     "output_type": "stream",
     "text": [
      "Dropping features: ['age']\n"
     ]
    }
   ],
   "source": [
    "if len(excluded_features_columns) > 0:\n",
    "    print(f\"Dropping features: {excluded_features_columns}\")\n",
    "    X_train.drop(excluded_features_columns, axis=1, inplace=True)"
   ]
  },
  {
   "cell_type": "code",
   "execution_count": 25,
   "id": "d029e3e9",
   "metadata": {
    "execution": {
     "iopub.execute_input": "2025-08-19T19:03:46.572518Z",
     "iopub.status.busy": "2025-08-19T19:03:46.572186Z",
     "iopub.status.idle": "2025-08-19T19:03:46.635443Z",
     "shell.execute_reply": "2025-08-19T19:03:46.634366Z"
    },
    "papermill": {
     "duration": 0.07983,
     "end_time": "2025-08-19T19:03:46.636804",
     "exception": false,
     "start_time": "2025-08-19T19:03:46.556974",
     "status": "completed"
    },
    "tags": []
   },
   "outputs": [
    {
     "name": "stdout",
     "output_type": "stream",
     "text": [
      "Dropping features: ['age']\n"
     ]
    }
   ],
   "source": [
    "if len(excluded_features_columns) > 0:\n",
    "    print(f\"Dropping features: {excluded_features_columns}\")\n",
    "    X_test.drop(excluded_features_columns, axis=1, inplace=True)"
   ]
  },
  {
   "cell_type": "code",
   "execution_count": 26,
   "id": "01d571f0",
   "metadata": {
    "execution": {
     "iopub.execute_input": "2025-08-19T19:03:46.664068Z",
     "iopub.status.busy": "2025-08-19T19:03:46.663571Z",
     "iopub.status.idle": "2025-08-19T19:03:46.719980Z",
     "shell.execute_reply": "2025-08-19T19:03:46.719224Z"
    },
    "papermill": {
     "duration": 0.074823,
     "end_time": "2025-08-19T19:03:46.725015",
     "exception": false,
     "start_time": "2025-08-19T19:03:46.650192",
     "status": "completed"
    },
    "tags": []
   },
   "outputs": [
    {
     "name": "stdout",
     "output_type": "stream",
     "text": [
      "Dropping features: ['age']\n"
     ]
    }
   ],
   "source": [
    "if len(excluded_features_columns) > 0:\n",
    "    print(f\"Dropping features: {excluded_features_columns}\")\n",
    "    X_calib.drop(excluded_features_columns, axis=1, inplace=True)"
   ]
  },
  {
   "cell_type": "code",
   "execution_count": 27,
   "id": "3037356e",
   "metadata": {
    "execution": {
     "iopub.execute_input": "2025-08-19T19:03:46.772891Z",
     "iopub.status.busy": "2025-08-19T19:03:46.772092Z",
     "iopub.status.idle": "2025-08-19T19:03:46.779473Z",
     "shell.execute_reply": "2025-08-19T19:03:46.778470Z"
    },
    "papermill": {
     "duration": 0.035075,
     "end_time": "2025-08-19T19:03:46.781256",
     "exception": false,
     "start_time": "2025-08-19T19:03:46.746181",
     "status": "completed"
    },
    "tags": []
   },
   "outputs": [],
   "source": [
    "# EXCLUDE CERTAIN SUBGROUPS\n",
    "# -------------------------\n",
    "\n",
    "mode = universe.get(\"exclude_subgroups\", \"keep-all\") # Defaults to \"keep-all\" if the key is missing."
   ]
  },
  {
   "cell_type": "code",
   "execution_count": 28,
   "id": "9d1e63fd",
   "metadata": {
    "execution": {
     "iopub.execute_input": "2025-08-19T19:03:46.808187Z",
     "iopub.status.busy": "2025-08-19T19:03:46.807865Z",
     "iopub.status.idle": "2025-08-19T19:03:46.814102Z",
     "shell.execute_reply": "2025-08-19T19:03:46.813191Z"
    },
    "papermill": {
     "duration": 0.0205,
     "end_time": "2025-08-19T19:03:46.815710",
     "exception": false,
     "start_time": "2025-08-19T19:03:46.795210",
     "status": "completed"
    },
    "tags": []
   },
   "outputs": [],
   "source": [
    "if mode == \"keep-all\":\n",
    "    keep_mask = pd.Series(True, index=org_train.index)\n",
    "\n",
    "elif mode == \"drop-non-german\":\n",
    "    keep_mask = (org_train[\"maxdeutsch1\"] == 1) & (org_train[\"maxdeutsch.Missing.\"] == 0)\n",
    "\n",
    "else:\n",
    "    raise ValueError(f\"Unsupported mode for exclude_subgroups: {mode}\")"
   ]
  },
  {
   "cell_type": "code",
   "execution_count": 29,
   "id": "d3b65474",
   "metadata": {
    "execution": {
     "iopub.execute_input": "2025-08-19T19:03:46.840983Z",
     "iopub.status.busy": "2025-08-19T19:03:46.840560Z",
     "iopub.status.idle": "2025-08-19T19:03:46.847257Z",
     "shell.execute_reply": "2025-08-19T19:03:46.846381Z"
    },
    "papermill": {
     "duration": 0.02085,
     "end_time": "2025-08-19T19:03:46.848710",
     "exception": false,
     "start_time": "2025-08-19T19:03:46.827860",
     "status": "completed"
    },
    "tags": []
   },
   "outputs": [
    {
     "name": "stdout",
     "output_type": "stream",
     "text": [
      "Dropping 147 rows (14.70%) where mode='drop-non-german'\n"
     ]
    }
   ],
   "source": [
    "n_drop = (~keep_mask).sum() # Calculates how many rows are set to be dropped\n",
    "if n_drop > 0:\n",
    "    pct = n_drop / len(keep_mask) * 100\n",
    "    print(f\"Dropping {n_drop} rows ({pct:.2f}%) where mode='{mode}'\")"
   ]
  },
  {
   "cell_type": "code",
   "execution_count": 30,
   "id": "f44389b3",
   "metadata": {
    "execution": {
     "iopub.execute_input": "2025-08-19T19:03:46.871556Z",
     "iopub.status.busy": "2025-08-19T19:03:46.871270Z",
     "iopub.status.idle": "2025-08-19T19:03:46.877649Z",
     "shell.execute_reply": "2025-08-19T19:03:46.876842Z"
    },
    "papermill": {
     "duration": 0.019463,
     "end_time": "2025-08-19T19:03:46.879072",
     "exception": false,
     "start_time": "2025-08-19T19:03:46.859609",
     "status": "completed"
    },
    "tags": []
   },
   "outputs": [],
   "source": [
    "X_train = X_train[keep_mask]"
   ]
  },
  {
   "cell_type": "code",
   "execution_count": 31,
   "id": "ceca8c2a",
   "metadata": {
    "execution": {
     "iopub.execute_input": "2025-08-19T19:03:46.902052Z",
     "iopub.status.busy": "2025-08-19T19:03:46.901769Z",
     "iopub.status.idle": "2025-08-19T19:03:46.907690Z",
     "shell.execute_reply": "2025-08-19T19:03:46.906895Z"
    },
    "papermill": {
     "duration": 0.02055,
     "end_time": "2025-08-19T19:03:46.910725",
     "exception": false,
     "start_time": "2025-08-19T19:03:46.890175",
     "status": "completed"
    },
    "tags": []
   },
   "outputs": [],
   "source": [
    "y_train = y_train[keep_mask]"
   ]
  },
  {
   "cell_type": "markdown",
   "id": "04d31e2f",
   "metadata": {
    "papermill": {
     "duration": 0.011956,
     "end_time": "2025-08-19T19:03:46.944872",
     "exception": false,
     "start_time": "2025-08-19T19:03:46.932916",
     "status": "completed"
    },
    "tags": []
   },
   "source": [
    "# Model Training"
   ]
  },
  {
   "cell_type": "code",
   "execution_count": 32,
   "id": "db991733",
   "metadata": {
    "execution": {
     "iopub.execute_input": "2025-08-19T19:03:46.969664Z",
     "iopub.status.busy": "2025-08-19T19:03:46.968138Z",
     "iopub.status.idle": "2025-08-19T19:03:47.078817Z",
     "shell.execute_reply": "2025-08-19T19:03:47.077949Z"
    },
    "papermill": {
     "duration": 0.124826,
     "end_time": "2025-08-19T19:03:47.080575",
     "exception": false,
     "start_time": "2025-08-19T19:03:46.955749",
     "status": "completed"
    },
    "tags": []
   },
   "outputs": [],
   "source": [
    "from sklearn.linear_model import LogisticRegression\n",
    "from sklearn.ensemble import GradientBoostingClassifier, RandomForestClassifier\n",
    "\n",
    "if (universe[\"model\"] == \"logreg\"):\n",
    "    model = LogisticRegression() #penalty=\"none\", solver=\"newton-cg\", max_iter=1)\n",
    "elif (universe[\"model\"] == \"penalized_logreg\"):\n",
    "    model = LogisticRegression(penalty=\"l2\", C=0.1) #, solver=\"newton-cg\", max_iter=1)\n",
    "elif (universe[\"model\"] == \"rf\"):\n",
    "    model = RandomForestClassifier() # n_estimators=100, n_jobs=-1\n",
    "elif (universe[\"model\"] == \"gbm\"):\n",
    "    model = GradientBoostingClassifier()\n",
    "elif (universe[\"model\"] == \"elasticnet\"):\n",
    "    model = LogisticRegression(penalty = 'elasticnet', solver = 'saga', l1_ratio = 0.5) # max_iter=5000\n",
    "else:\n",
    "    raise \"Unsupported universe.model\""
   ]
  },
  {
   "cell_type": "code",
   "execution_count": 33,
   "id": "a4b5cd25",
   "metadata": {
    "execution": {
     "iopub.execute_input": "2025-08-19T19:03:47.121477Z",
     "iopub.status.busy": "2025-08-19T19:03:47.121049Z",
     "iopub.status.idle": "2025-08-19T19:03:47.126361Z",
     "shell.execute_reply": "2025-08-19T19:03:47.125489Z"
    },
    "papermill": {
     "duration": 0.026721,
     "end_time": "2025-08-19T19:03:47.128058",
     "exception": false,
     "start_time": "2025-08-19T19:03:47.101337",
     "status": "completed"
    },
    "tags": []
   },
   "outputs": [],
   "source": [
    "from sklearn.pipeline import Pipeline\n",
    "from sklearn.preprocessing import StandardScaler\n",
    "\n",
    "model = Pipeline([\n",
    "    #(\"continuous_processor\", continuous_processor),\n",
    "    #(\"categorical_preprocessor\", categorical_preprocessor),\n",
    "    (\"scale\", StandardScaler() if universe[\"scale\"] == \"scale\" else None), \n",
    "    (\"model\", model),\n",
    "])"
   ]
  },
  {
   "cell_type": "code",
   "execution_count": 34,
   "id": "283a904d",
   "metadata": {
    "execution": {
     "iopub.execute_input": "2025-08-19T19:03:47.151796Z",
     "iopub.status.busy": "2025-08-19T19:03:47.151408Z",
     "iopub.status.idle": "2025-08-19T19:03:47.949286Z",
     "shell.execute_reply": "2025-08-19T19:03:47.948107Z"
    },
    "papermill": {
     "duration": 0.81124,
     "end_time": "2025-08-19T19:03:47.950685",
     "exception": false,
     "start_time": "2025-08-19T19:03:47.139445",
     "status": "completed"
    },
    "tags": []
   },
   "outputs": [
    {
     "data": {
      "text/html": [
       "<style>#sk-container-id-1 {color: black;background-color: white;}#sk-container-id-1 pre{padding: 0;}#sk-container-id-1 div.sk-toggleable {background-color: white;}#sk-container-id-1 label.sk-toggleable__label {cursor: pointer;display: block;width: 100%;margin-bottom: 0;padding: 0.3em;box-sizing: border-box;text-align: center;}#sk-container-id-1 label.sk-toggleable__label-arrow:before {content: \"▸\";float: left;margin-right: 0.25em;color: #696969;}#sk-container-id-1 label.sk-toggleable__label-arrow:hover:before {color: black;}#sk-container-id-1 div.sk-estimator:hover label.sk-toggleable__label-arrow:before {color: black;}#sk-container-id-1 div.sk-toggleable__content {max-height: 0;max-width: 0;overflow: hidden;text-align: left;background-color: #f0f8ff;}#sk-container-id-1 div.sk-toggleable__content pre {margin: 0.2em;color: black;border-radius: 0.25em;background-color: #f0f8ff;}#sk-container-id-1 input.sk-toggleable__control:checked~div.sk-toggleable__content {max-height: 200px;max-width: 100%;overflow: auto;}#sk-container-id-1 input.sk-toggleable__control:checked~label.sk-toggleable__label-arrow:before {content: \"▾\";}#sk-container-id-1 div.sk-estimator input.sk-toggleable__control:checked~label.sk-toggleable__label {background-color: #d4ebff;}#sk-container-id-1 div.sk-label input.sk-toggleable__control:checked~label.sk-toggleable__label {background-color: #d4ebff;}#sk-container-id-1 input.sk-hidden--visually {border: 0;clip: rect(1px 1px 1px 1px);clip: rect(1px, 1px, 1px, 1px);height: 1px;margin: -1px;overflow: hidden;padding: 0;position: absolute;width: 1px;}#sk-container-id-1 div.sk-estimator {font-family: monospace;background-color: #f0f8ff;border: 1px dotted black;border-radius: 0.25em;box-sizing: border-box;margin-bottom: 0.5em;}#sk-container-id-1 div.sk-estimator:hover {background-color: #d4ebff;}#sk-container-id-1 div.sk-parallel-item::after {content: \"\";width: 100%;border-bottom: 1px solid gray;flex-grow: 1;}#sk-container-id-1 div.sk-label:hover label.sk-toggleable__label {background-color: #d4ebff;}#sk-container-id-1 div.sk-serial::before {content: \"\";position: absolute;border-left: 1px solid gray;box-sizing: border-box;top: 0;bottom: 0;left: 50%;z-index: 0;}#sk-container-id-1 div.sk-serial {display: flex;flex-direction: column;align-items: center;background-color: white;padding-right: 0.2em;padding-left: 0.2em;position: relative;}#sk-container-id-1 div.sk-item {position: relative;z-index: 1;}#sk-container-id-1 div.sk-parallel {display: flex;align-items: stretch;justify-content: center;background-color: white;position: relative;}#sk-container-id-1 div.sk-item::before, #sk-container-id-1 div.sk-parallel-item::before {content: \"\";position: absolute;border-left: 1px solid gray;box-sizing: border-box;top: 0;bottom: 0;left: 50%;z-index: -1;}#sk-container-id-1 div.sk-parallel-item {display: flex;flex-direction: column;z-index: 1;position: relative;background-color: white;}#sk-container-id-1 div.sk-parallel-item:first-child::after {align-self: flex-end;width: 50%;}#sk-container-id-1 div.sk-parallel-item:last-child::after {align-self: flex-start;width: 50%;}#sk-container-id-1 div.sk-parallel-item:only-child::after {width: 0;}#sk-container-id-1 div.sk-dashed-wrapped {border: 1px dashed gray;margin: 0 0.4em 0.5em 0.4em;box-sizing: border-box;padding-bottom: 0.4em;background-color: white;}#sk-container-id-1 div.sk-label label {font-family: monospace;font-weight: bold;display: inline-block;line-height: 1.2em;}#sk-container-id-1 div.sk-label-container {text-align: center;}#sk-container-id-1 div.sk-container {/* jupyter's `normalize.less` sets `[hidden] { display: none; }` but bootstrap.min.css set `[hidden] { display: none !important; }` so we also need the `!important` here to be able to override the default hidden behavior on the sphinx rendered scikit-learn.org. See: https://github.com/scikit-learn/scikit-learn/issues/21755 */display: inline-block !important;position: relative;}#sk-container-id-1 div.sk-text-repr-fallback {display: none;}</style><div id=\"sk-container-id-1\" class=\"sk-top-container\"><div class=\"sk-text-repr-fallback\"><pre>Pipeline(steps=[(&#x27;scale&#x27;, None), (&#x27;model&#x27;, GradientBoostingClassifier())])</pre><b>In a Jupyter environment, please rerun this cell to show the HTML representation or trust the notebook. <br />On GitHub, the HTML representation is unable to render, please try loading this page with nbviewer.org.</b></div><div class=\"sk-container\" hidden><div class=\"sk-item sk-dashed-wrapped\"><div class=\"sk-label-container\"><div class=\"sk-label sk-toggleable\"><input class=\"sk-toggleable__control sk-hidden--visually\" id=\"sk-estimator-id-1\" type=\"checkbox\" ><label for=\"sk-estimator-id-1\" class=\"sk-toggleable__label sk-toggleable__label-arrow\">Pipeline</label><div class=\"sk-toggleable__content\"><pre>Pipeline(steps=[(&#x27;scale&#x27;, None), (&#x27;model&#x27;, GradientBoostingClassifier())])</pre></div></div></div><div class=\"sk-serial\"><div class=\"sk-item\"><div class=\"sk-estimator sk-toggleable\"><input class=\"sk-toggleable__control sk-hidden--visually\" id=\"sk-estimator-id-2\" type=\"checkbox\" ><label for=\"sk-estimator-id-2\" class=\"sk-toggleable__label sk-toggleable__label-arrow\">None</label><div class=\"sk-toggleable__content\"><pre>None</pre></div></div></div><div class=\"sk-item\"><div class=\"sk-estimator sk-toggleable\"><input class=\"sk-toggleable__control sk-hidden--visually\" id=\"sk-estimator-id-3\" type=\"checkbox\" ><label for=\"sk-estimator-id-3\" class=\"sk-toggleable__label sk-toggleable__label-arrow\">GradientBoostingClassifier</label><div class=\"sk-toggleable__content\"><pre>GradientBoostingClassifier()</pre></div></div></div></div></div></div></div>"
      ],
      "text/plain": [
       "Pipeline(steps=[('scale', None), ('model', GradientBoostingClassifier())])"
      ]
     },
     "execution_count": 34,
     "metadata": {},
     "output_type": "execute_result"
    }
   ],
   "source": [
    "model.fit(X_train, y_train.values.ravel())"
   ]
  },
  {
   "cell_type": "code",
   "execution_count": 35,
   "id": "6e15e313",
   "metadata": {
    "execution": {
     "iopub.execute_input": "2025-08-19T19:03:47.977721Z",
     "iopub.status.busy": "2025-08-19T19:03:47.976524Z",
     "iopub.status.idle": "2025-08-19T19:03:48.565465Z",
     "shell.execute_reply": "2025-08-19T19:03:48.564402Z"
    },
    "papermill": {
     "duration": 0.603987,
     "end_time": "2025-08-19T19:03:48.566825",
     "exception": false,
     "start_time": "2025-08-19T19:03:47.962838",
     "status": "completed"
    },
    "tags": []
   },
   "outputs": [
    {
     "data": {
      "text/plain": [
       "0.8347564374094304"
      ]
     },
     "execution_count": 35,
     "metadata": {},
     "output_type": "execute_result"
    }
   ],
   "source": [
    "from fairness_multiverse.universe import predict_w_threshold\n",
    "\n",
    "probs_test = model.predict_proba(X_test)\n",
    "\n",
    "'''\n",
    "Below code returns a boolean array (or binary 0/1 array depending on how it’s used) where each element \n",
    "is True if the probability of class 1 is greater than or equal to the threshold, and False otherwise.\n",
    "'''\n",
    "y_pred_default = predict_w_threshold(probs_test, 0.5)\n",
    "\n",
    "from sklearn.metrics import accuracy_score\n",
    "\n",
    "# Naive prediction\n",
    "accuracy_score(y_true = y_true, y_pred = y_pred_default)"
   ]
  },
  {
   "cell_type": "code",
   "execution_count": 36,
   "id": "6f14067c",
   "metadata": {
    "execution": {
     "iopub.execute_input": "2025-08-19T19:03:48.601129Z",
     "iopub.status.busy": "2025-08-19T19:03:48.600721Z",
     "iopub.status.idle": "2025-08-19T19:03:49.179365Z",
     "shell.execute_reply": "2025-08-19T19:03:49.178203Z"
    },
    "papermill": {
     "duration": 0.599934,
     "end_time": "2025-08-19T19:03:49.181228",
     "exception": false,
     "start_time": "2025-08-19T19:03:48.581294",
     "status": "completed"
    },
    "tags": []
   },
   "outputs": [
    {
     "data": {
      "text/plain": [
       "array([0, 0, 0, ..., 0, 0, 0])"
      ]
     },
     "execution_count": 36,
     "metadata": {},
     "output_type": "execute_result"
    }
   ],
   "source": [
    "model.predict(X_test)"
   ]
  },
  {
   "cell_type": "markdown",
   "id": "3759920c",
   "metadata": {
    "papermill": {
     "duration": 0.011461,
     "end_time": "2025-08-19T19:03:49.206482",
     "exception": false,
     "start_time": "2025-08-19T19:03:49.195021",
     "status": "completed"
    },
    "tags": []
   },
   "source": [
    "# Conformal Prediction"
   ]
  },
  {
   "cell_type": "code",
   "execution_count": 37,
   "id": "14b27f59",
   "metadata": {
    "execution": {
     "iopub.execute_input": "2025-08-19T19:03:49.245127Z",
     "iopub.status.busy": "2025-08-19T19:03:49.243809Z",
     "iopub.status.idle": "2025-08-19T19:03:49.252669Z",
     "shell.execute_reply": "2025-08-19T19:03:49.251442Z"
    },
    "papermill": {
     "duration": 0.028756,
     "end_time": "2025-08-19T19:03:49.254555",
     "exception": false,
     "start_time": "2025-08-19T19:03:49.225799",
     "status": "completed"
    },
    "tags": []
   },
   "outputs": [],
   "source": [
    "# Miscoverage level for conformal prediction (10% allowed error rate => 90% target coverage)\n",
    "alpha = 0.1"
   ]
  },
  {
   "cell_type": "code",
   "execution_count": 38,
   "id": "59102472",
   "metadata": {
    "execution": {
     "iopub.execute_input": "2025-08-19T19:03:49.287481Z",
     "iopub.status.busy": "2025-08-19T19:03:49.286444Z",
     "iopub.status.idle": "2025-08-19T19:03:49.864865Z",
     "shell.execute_reply": "2025-08-19T19:03:49.863580Z"
    },
    "papermill": {
     "duration": 0.597863,
     "end_time": "2025-08-19T19:03:49.866665",
     "exception": false,
     "start_time": "2025-08-19T19:03:49.268802",
     "status": "completed"
    },
    "tags": []
   },
   "outputs": [],
   "source": [
    "probs_calib = model.predict_proba(X_calib)"
   ]
  },
  {
   "cell_type": "code",
   "execution_count": 39,
   "id": "a792d4dd",
   "metadata": {
    "execution": {
     "iopub.execute_input": "2025-08-19T19:03:49.891881Z",
     "iopub.status.busy": "2025-08-19T19:03:49.891534Z",
     "iopub.status.idle": "2025-08-19T19:03:49.897539Z",
     "shell.execute_reply": "2025-08-19T19:03:49.896919Z"
    },
    "papermill": {
     "duration": 0.020606,
     "end_time": "2025-08-19T19:03:49.899560",
     "exception": false,
     "start_time": "2025-08-19T19:03:49.878954",
     "status": "completed"
    },
    "tags": []
   },
   "outputs": [],
   "source": [
    "y_calib = y_calib.values.ravel().astype(int)"
   ]
  },
  {
   "cell_type": "code",
   "execution_count": 40,
   "id": "650fd033",
   "metadata": {
    "execution": {
     "iopub.execute_input": "2025-08-19T19:03:49.924192Z",
     "iopub.status.busy": "2025-08-19T19:03:49.923900Z",
     "iopub.status.idle": "2025-08-19T19:03:49.930523Z",
     "shell.execute_reply": "2025-08-19T19:03:49.929886Z"
    },
    "papermill": {
     "duration": 0.020688,
     "end_time": "2025-08-19T19:03:49.932436",
     "exception": false,
     "start_time": "2025-08-19T19:03:49.911748",
     "status": "completed"
    },
    "tags": []
   },
   "outputs": [],
   "source": [
    "from fairness_multiverse.conformal import compute_nc_scores\n",
    "\n",
    "# Compute nonconformity scores on calibration set (1 - probability of true class)\n",
    "nc_scores = compute_nc_scores(probs_calib, y_calib)"
   ]
  },
  {
   "cell_type": "code",
   "execution_count": 41,
   "id": "28ada44c",
   "metadata": {
    "execution": {
     "iopub.execute_input": "2025-08-19T19:03:49.957224Z",
     "iopub.status.busy": "2025-08-19T19:03:49.956926Z",
     "iopub.status.idle": "2025-08-19T19:03:49.962959Z",
     "shell.execute_reply": "2025-08-19T19:03:49.962206Z"
    },
    "papermill": {
     "duration": 0.020559,
     "end_time": "2025-08-19T19:03:49.965248",
     "exception": false,
     "start_time": "2025-08-19T19:03:49.944689",
     "status": "completed"
    },
    "tags": []
   },
   "outputs": [],
   "source": [
    "from fairness_multiverse.conformal import find_threshold\n",
    "\n",
    "# Find conformal threshold q_hat for the given alpha (split conformal method)\n",
    "q_hat = find_threshold(nc_scores, alpha)"
   ]
  },
  {
   "cell_type": "code",
   "execution_count": 42,
   "id": "df56469e",
   "metadata": {
    "execution": {
     "iopub.execute_input": "2025-08-19T19:03:49.991705Z",
     "iopub.status.busy": "2025-08-19T19:03:49.991406Z",
     "iopub.status.idle": "2025-08-19T19:03:49.997279Z",
     "shell.execute_reply": "2025-08-19T19:03:49.996503Z"
    },
    "papermill": {
     "duration": 0.022401,
     "end_time": "2025-08-19T19:03:50.001505",
     "exception": false,
     "start_time": "2025-08-19T19:03:49.979104",
     "status": "completed"
    },
    "tags": []
   },
   "outputs": [
    {
     "data": {
      "text/plain": [
       "0.7886282572323702"
      ]
     },
     "execution_count": 42,
     "metadata": {},
     "output_type": "execute_result"
    }
   ],
   "source": [
    "q_hat"
   ]
  },
  {
   "cell_type": "code",
   "execution_count": 43,
   "id": "aa1f5faa",
   "metadata": {
    "execution": {
     "iopub.execute_input": "2025-08-19T19:03:50.027450Z",
     "iopub.status.busy": "2025-08-19T19:03:50.027098Z",
     "iopub.status.idle": "2025-08-19T19:03:51.000509Z",
     "shell.execute_reply": "2025-08-19T19:03:50.999219Z"
    },
    "papermill": {
     "duration": 0.989913,
     "end_time": "2025-08-19T19:03:51.003939",
     "exception": false,
     "start_time": "2025-08-19T19:03:50.014026",
     "status": "completed"
    },
    "tags": []
   },
   "outputs": [],
   "source": [
    "from fairness_multiverse.conformal import predict_conformal_sets\n",
    "\n",
    "# Generate prediction sets for each test example\n",
    "pred_sets = predict_conformal_sets(model, X_test, q_hat)"
   ]
  },
  {
   "cell_type": "code",
   "execution_count": 44,
   "id": "97f67a6b",
   "metadata": {
    "execution": {
     "iopub.execute_input": "2025-08-19T19:03:51.049871Z",
     "iopub.status.busy": "2025-08-19T19:03:51.049028Z",
     "iopub.status.idle": "2025-08-19T19:03:51.055746Z",
     "shell.execute_reply": "2025-08-19T19:03:51.054925Z"
    },
    "papermill": {
     "duration": 0.021038,
     "end_time": "2025-08-19T19:03:51.056974",
     "exception": false,
     "start_time": "2025-08-19T19:03:51.035936",
     "status": "completed"
    },
    "tags": []
   },
   "outputs": [],
   "source": [
    "y_true = y_true.squeeze()"
   ]
  },
  {
   "cell_type": "code",
   "execution_count": 45,
   "id": "e700e9a7",
   "metadata": {
    "execution": {
     "iopub.execute_input": "2025-08-19T19:03:51.082315Z",
     "iopub.status.busy": "2025-08-19T19:03:51.081895Z",
     "iopub.status.idle": "2025-08-19T19:03:51.580999Z",
     "shell.execute_reply": "2025-08-19T19:03:51.579804Z"
    },
    "papermill": {
     "duration": 0.514029,
     "end_time": "2025-08-19T19:03:51.582651",
     "exception": false,
     "start_time": "2025-08-19T19:03:51.068622",
     "status": "completed"
    },
    "tags": []
   },
   "outputs": [],
   "source": [
    "from fairness_multiverse.conformal import evaluate_sets\n",
    "\n",
    "# Evaluate coverage and average set size on test data\n",
    "metrics = evaluate_sets(pred_sets, y_true)"
   ]
  },
  {
   "cell_type": "markdown",
   "id": "efbacec0",
   "metadata": {
    "papermill": {
     "duration": 0.011503,
     "end_time": "2025-08-19T19:03:51.606311",
     "exception": false,
     "start_time": "2025-08-19T19:03:51.594808",
     "status": "completed"
    },
    "tags": []
   },
   "source": [
    "# CP Metrics"
   ]
  },
  {
   "cell_type": "code",
   "execution_count": 46,
   "id": "9de55fb1",
   "metadata": {
    "execution": {
     "iopub.execute_input": "2025-08-19T19:03:51.634566Z",
     "iopub.status.busy": "2025-08-19T19:03:51.633291Z",
     "iopub.status.idle": "2025-08-19T19:03:51.645441Z",
     "shell.execute_reply": "2025-08-19T19:03:51.644541Z"
    },
    "papermill": {
     "duration": 0.029641,
     "end_time": "2025-08-19T19:03:51.647325",
     "exception": false,
     "start_time": "2025-08-19T19:03:51.617684",
     "status": "completed"
    },
    "tags": []
   },
   "outputs": [
    {
     "data": {
      "text/plain": [
       "{'coverage': 0.9108126184371865, 'avg_size': 1.1962545981495931}"
      ]
     },
     "execution_count": 46,
     "metadata": {},
     "output_type": "execute_result"
    }
   ],
   "source": [
    "metrics"
   ]
  },
  {
   "cell_type": "code",
   "execution_count": 47,
   "id": "64c340a1",
   "metadata": {
    "execution": {
     "iopub.execute_input": "2025-08-19T19:03:51.675254Z",
     "iopub.status.busy": "2025-08-19T19:03:51.674228Z",
     "iopub.status.idle": "2025-08-19T19:03:51.694309Z",
     "shell.execute_reply": "2025-08-19T19:03:51.693421Z"
    },
    "papermill": {
     "duration": 0.034995,
     "end_time": "2025-08-19T19:03:51.696174",
     "exception": false,
     "start_time": "2025-08-19T19:03:51.661179",
     "status": "completed"
    },
    "tags": []
   },
   "outputs": [],
   "source": [
    "example_universe = universe.copy()\n",
    "universe_training_year = example_universe.get(\"training_year\")\n",
    "universe_training_size = example_universe.get(\"training_size\")\n",
    "universe_scale = example_universe.get(\"scale\")\n",
    "universe_model = example_universe.get(\"model\")\n",
    "universe_exclude_features = example_universe.get(\"exclude_features\")\n",
    "universe_exclude_subgroups = example_universe.get(\"exclude_subgroups\")"
   ]
  },
  {
   "cell_type": "code",
   "execution_count": 48,
   "id": "dbb53cb4",
   "metadata": {
    "execution": {
     "iopub.execute_input": "2025-08-19T19:03:51.726878Z",
     "iopub.status.busy": "2025-08-19T19:03:51.726570Z",
     "iopub.status.idle": "2025-08-19T19:03:51.731754Z",
     "shell.execute_reply": "2025-08-19T19:03:51.731094Z"
    },
    "papermill": {
     "duration": 0.019109,
     "end_time": "2025-08-19T19:03:51.733064",
     "exception": false,
     "start_time": "2025-08-19T19:03:51.713955",
     "status": "completed"
    },
    "tags": []
   },
   "outputs": [],
   "source": [
    "cp_metrics_dict = {\n",
    "    \"universe_id\": [universe_id],\n",
    "    \"universe_training_year\": [universe_training_year],\n",
    "    \"universe_training_size\": [universe_training_size],\n",
    "    \"universe_scale\": [universe_scale],\n",
    "    \"universe_model\": [universe_model],\n",
    "    \"universe_exclude_features\": [universe_exclude_features],\n",
    "    \"universe_exclude_subgroups\": [universe_exclude_subgroups],\n",
    "    \"q_hat\": [q_hat],\n",
    "    \"coverage\": [metrics[\"coverage\"]],\n",
    "    \"avg_size\": [metrics[\"avg_size\"]],\n",
    "}"
   ]
  },
  {
   "cell_type": "code",
   "execution_count": 49,
   "id": "0d70d4b2",
   "metadata": {
    "execution": {
     "iopub.execute_input": "2025-08-19T19:03:51.757997Z",
     "iopub.status.busy": "2025-08-19T19:03:51.757636Z",
     "iopub.status.idle": "2025-08-19T19:03:51.883420Z",
     "shell.execute_reply": "2025-08-19T19:03:51.882077Z"
    },
    "papermill": {
     "duration": 0.141175,
     "end_time": "2025-08-19T19:03:51.886337",
     "exception": false,
     "start_time": "2025-08-19T19:03:51.745162",
     "status": "completed"
    },
    "tags": []
   },
   "outputs": [],
   "source": [
    "cp_metrics_df = pd.DataFrame(cp_metrics_dict)"
   ]
  },
  {
   "cell_type": "code",
   "execution_count": 50,
   "id": "b494403c",
   "metadata": {
    "execution": {
     "iopub.execute_input": "2025-08-19T19:03:51.925057Z",
     "iopub.status.busy": "2025-08-19T19:03:51.924324Z",
     "iopub.status.idle": "2025-08-19T19:03:51.943356Z",
     "shell.execute_reply": "2025-08-19T19:03:51.942527Z"
    },
    "papermill": {
     "duration": 0.034328,
     "end_time": "2025-08-19T19:03:51.944913",
     "exception": false,
     "start_time": "2025-08-19T19:03:51.910585",
     "status": "completed"
    },
    "tags": []
   },
   "outputs": [
    {
     "data": {
      "text/html": [
       "<div>\n",
       "<style scoped>\n",
       "    .dataframe tbody tr th:only-of-type {\n",
       "        vertical-align: middle;\n",
       "    }\n",
       "\n",
       "    .dataframe tbody tr th {\n",
       "        vertical-align: top;\n",
       "    }\n",
       "\n",
       "    .dataframe thead th {\n",
       "        text-align: right;\n",
       "    }\n",
       "</style>\n",
       "<table border=\"1\" class=\"dataframe\">\n",
       "  <thead>\n",
       "    <tr style=\"text-align: right;\">\n",
       "      <th></th>\n",
       "      <th>universe_id</th>\n",
       "      <th>universe_training_year</th>\n",
       "      <th>universe_training_size</th>\n",
       "      <th>universe_scale</th>\n",
       "      <th>universe_model</th>\n",
       "      <th>universe_exclude_features</th>\n",
       "      <th>universe_exclude_subgroups</th>\n",
       "      <th>q_hat</th>\n",
       "      <th>coverage</th>\n",
       "      <th>avg_size</th>\n",
       "    </tr>\n",
       "  </thead>\n",
       "  <tbody>\n",
       "    <tr>\n",
       "      <th>0</th>\n",
       "      <td>0aa6f693e084b638db2b32f7385c8656</td>\n",
       "      <td>2012_14</td>\n",
       "      <td>1k</td>\n",
       "      <td>do-not-scale</td>\n",
       "      <td>gbm</td>\n",
       "      <td>age</td>\n",
       "      <td>drop-non-german</td>\n",
       "      <td>0.788628</td>\n",
       "      <td>0.910813</td>\n",
       "      <td>1.196255</td>\n",
       "    </tr>\n",
       "  </tbody>\n",
       "</table>\n",
       "</div>"
      ],
      "text/plain": [
       "                        universe_id universe_training_year  \\\n",
       "0  0aa6f693e084b638db2b32f7385c8656                2012_14   \n",
       "\n",
       "  universe_training_size universe_scale universe_model  \\\n",
       "0                     1k   do-not-scale            gbm   \n",
       "\n",
       "  universe_exclude_features universe_exclude_subgroups     q_hat  coverage  \\\n",
       "0                       age            drop-non-german  0.788628  0.910813   \n",
       "\n",
       "   avg_size  \n",
       "0  1.196255  "
      ]
     },
     "execution_count": 50,
     "metadata": {},
     "output_type": "execute_result"
    }
   ],
   "source": [
    "cp_metrics_df"
   ]
  },
  {
   "cell_type": "markdown",
   "id": "ed608b0b",
   "metadata": {
    "papermill": {
     "duration": 0.012085,
     "end_time": "2025-08-19T19:03:51.975484",
     "exception": false,
     "start_time": "2025-08-19T19:03:51.963399",
     "status": "completed"
    },
    "tags": []
   },
   "source": [
    "Conditional coverage & looking at subgroups"
   ]
  },
  {
   "cell_type": "code",
   "execution_count": 51,
   "id": "8968c366",
   "metadata": {
    "execution": {
     "iopub.execute_input": "2025-08-19T19:03:52.002418Z",
     "iopub.status.busy": "2025-08-19T19:03:52.001169Z",
     "iopub.status.idle": "2025-08-19T19:03:52.324063Z",
     "shell.execute_reply": "2025-08-19T19:03:52.322950Z"
    },
    "papermill": {
     "duration": 0.338603,
     "end_time": "2025-08-19T19:03:52.326234",
     "exception": false,
     "start_time": "2025-08-19T19:03:51.987631",
     "status": "completed"
    },
    "tags": []
   },
   "outputs": [],
   "source": [
    "from fairness_multiverse.conformal import build_cp_groups\n",
    "\n",
    "cp_groups_df = build_cp_groups(pred_sets, y_true, X_test.index, org_test)"
   ]
  },
  {
   "cell_type": "code",
   "execution_count": 52,
   "id": "292ddabf",
   "metadata": {
    "execution": {
     "iopub.execute_input": "2025-08-19T19:03:52.352286Z",
     "iopub.status.busy": "2025-08-19T19:03:52.351855Z",
     "iopub.status.idle": "2025-08-19T19:03:53.231543Z",
     "shell.execute_reply": "2025-08-19T19:03:53.230321Z"
    },
    "papermill": {
     "duration": 0.895718,
     "end_time": "2025-08-19T19:03:53.234418",
     "exception": false,
     "start_time": "2025-08-19T19:03:52.338700",
     "status": "completed"
    },
    "tags": []
   },
   "outputs": [],
   "source": [
    "# Define covered = 1 if true_label is in the predicted set\n",
    "cp_groups_df['covered'] = cp_groups_df.apply(\n",
    "    lambda r: int(r['true_label'] in r['pred_set']),\n",
    "    axis=1\n",
    ")"
   ]
  },
  {
   "cell_type": "code",
   "execution_count": 53,
   "id": "3a261692",
   "metadata": {
    "execution": {
     "iopub.execute_input": "2025-08-19T19:03:53.279733Z",
     "iopub.status.busy": "2025-08-19T19:03:53.278517Z",
     "iopub.status.idle": "2025-08-19T19:03:53.301258Z",
     "shell.execute_reply": "2025-08-19T19:03:53.300451Z"
    },
    "papermill": {
     "duration": 0.040396,
     "end_time": "2025-08-19T19:03:53.302981",
     "exception": false,
     "start_time": "2025-08-19T19:03:53.262585",
     "status": "completed"
    },
    "tags": []
   },
   "outputs": [],
   "source": [
    "subgroups = ['frau1','nongerman','nongerman_male','nongerman_female']\n",
    "\n",
    "# Conditional coverage for subgroup==1\n",
    "cond_coverage = {\n",
    "    g: cp_groups_df.loc[cp_groups_df[g]==1, 'covered'].mean()\n",
    "    for g in subgroups\n",
    "}"
   ]
  },
  {
   "cell_type": "code",
   "execution_count": 54,
   "id": "894fd600",
   "metadata": {
    "execution": {
     "iopub.execute_input": "2025-08-19T19:03:53.340428Z",
     "iopub.status.busy": "2025-08-19T19:03:53.339073Z",
     "iopub.status.idle": "2025-08-19T19:03:53.352816Z",
     "shell.execute_reply": "2025-08-19T19:03:53.351286Z"
    },
    "papermill": {
     "duration": 0.030949,
     "end_time": "2025-08-19T19:03:53.354598",
     "exception": false,
     "start_time": "2025-08-19T19:03:53.323649",
     "status": "completed"
    },
    "tags": []
   },
   "outputs": [
    {
     "data": {
      "text/plain": [
       "{'frau1': 0.9045154333468123,\n",
       " 'nongerman': 0.9087744905406164,\n",
       " 'nongerman_male': 0.9292083220751148,\n",
       " 'nongerman_female': 0.8749627421758569}"
      ]
     },
     "execution_count": 54,
     "metadata": {},
     "output_type": "execute_result"
    }
   ],
   "source": [
    "cond_coverage"
   ]
  },
  {
   "cell_type": "code",
   "execution_count": 55,
   "id": "942895c7",
   "metadata": {
    "execution": {
     "iopub.execute_input": "2025-08-19T19:03:53.389223Z",
     "iopub.status.busy": "2025-08-19T19:03:53.387950Z",
     "iopub.status.idle": "2025-08-19T19:03:53.400834Z",
     "shell.execute_reply": "2025-08-19T19:03:53.399175Z"
    },
    "papermill": {
     "duration": 0.029397,
     "end_time": "2025-08-19T19:03:53.402512",
     "exception": false,
     "start_time": "2025-08-19T19:03:53.373115",
     "status": "completed"
    },
    "tags": []
   },
   "outputs": [],
   "source": [
    "for subgroup, cov in cond_coverage.items():\n",
    "    cp_metrics_df[f\"cov_{subgroup}\"] = cov"
   ]
  },
  {
   "cell_type": "code",
   "execution_count": 56,
   "id": "3970120f",
   "metadata": {
    "execution": {
     "iopub.execute_input": "2025-08-19T19:03:53.435289Z",
     "iopub.status.busy": "2025-08-19T19:03:53.434507Z",
     "iopub.status.idle": "2025-08-19T19:03:53.456817Z",
     "shell.execute_reply": "2025-08-19T19:03:53.454903Z"
    },
    "papermill": {
     "duration": 0.037925,
     "end_time": "2025-08-19T19:03:53.458931",
     "exception": false,
     "start_time": "2025-08-19T19:03:53.421006",
     "status": "completed"
    },
    "tags": []
   },
   "outputs": [
    {
     "data": {
      "text/html": [
       "<div>\n",
       "<style scoped>\n",
       "    .dataframe tbody tr th:only-of-type {\n",
       "        vertical-align: middle;\n",
       "    }\n",
       "\n",
       "    .dataframe tbody tr th {\n",
       "        vertical-align: top;\n",
       "    }\n",
       "\n",
       "    .dataframe thead th {\n",
       "        text-align: right;\n",
       "    }\n",
       "</style>\n",
       "<table border=\"1\" class=\"dataframe\">\n",
       "  <thead>\n",
       "    <tr style=\"text-align: right;\">\n",
       "      <th></th>\n",
       "      <th>universe_id</th>\n",
       "      <th>universe_training_year</th>\n",
       "      <th>universe_training_size</th>\n",
       "      <th>universe_scale</th>\n",
       "      <th>universe_model</th>\n",
       "      <th>universe_exclude_features</th>\n",
       "      <th>universe_exclude_subgroups</th>\n",
       "      <th>q_hat</th>\n",
       "      <th>coverage</th>\n",
       "      <th>avg_size</th>\n",
       "      <th>cov_frau1</th>\n",
       "      <th>cov_nongerman</th>\n",
       "      <th>cov_nongerman_male</th>\n",
       "      <th>cov_nongerman_female</th>\n",
       "    </tr>\n",
       "  </thead>\n",
       "  <tbody>\n",
       "    <tr>\n",
       "      <th>0</th>\n",
       "      <td>0aa6f693e084b638db2b32f7385c8656</td>\n",
       "      <td>2012_14</td>\n",
       "      <td>1k</td>\n",
       "      <td>do-not-scale</td>\n",
       "      <td>gbm</td>\n",
       "      <td>age</td>\n",
       "      <td>drop-non-german</td>\n",
       "      <td>0.788628</td>\n",
       "      <td>0.910813</td>\n",
       "      <td>1.196255</td>\n",
       "      <td>0.904515</td>\n",
       "      <td>0.908774</td>\n",
       "      <td>0.929208</td>\n",
       "      <td>0.874963</td>\n",
       "    </tr>\n",
       "  </tbody>\n",
       "</table>\n",
       "</div>"
      ],
      "text/plain": [
       "                        universe_id universe_training_year  \\\n",
       "0  0aa6f693e084b638db2b32f7385c8656                2012_14   \n",
       "\n",
       "  universe_training_size universe_scale universe_model  \\\n",
       "0                     1k   do-not-scale            gbm   \n",
       "\n",
       "  universe_exclude_features universe_exclude_subgroups     q_hat  coverage  \\\n",
       "0                       age            drop-non-german  0.788628  0.910813   \n",
       "\n",
       "   avg_size  cov_frau1  cov_nongerman  cov_nongerman_male  \\\n",
       "0  1.196255   0.904515       0.908774            0.929208   \n",
       "\n",
       "   cov_nongerman_female  \n",
       "0              0.874963  "
      ]
     },
     "execution_count": 56,
     "metadata": {},
     "output_type": "execute_result"
    }
   ],
   "source": [
    "cp_metrics_df"
   ]
  },
  {
   "cell_type": "markdown",
   "id": "3fc519cc",
   "metadata": {
    "papermill": {
     "duration": 0.012895,
     "end_time": "2025-08-19T19:03:53.491084",
     "exception": false,
     "start_time": "2025-08-19T19:03:53.478189",
     "status": "completed"
    },
    "tags": []
   },
   "source": [
    "# (Fairness) Metrics"
   ]
  },
  {
   "cell_type": "code",
   "execution_count": 57,
   "id": "a2e5e155",
   "metadata": {
    "execution": {
     "iopub.execute_input": "2025-08-19T19:03:53.518262Z",
     "iopub.status.busy": "2025-08-19T19:03:53.516977Z",
     "iopub.status.idle": "2025-08-19T19:03:53.542947Z",
     "shell.execute_reply": "2025-08-19T19:03:53.542021Z"
    },
    "papermill": {
     "duration": 0.041749,
     "end_time": "2025-08-19T19:03:53.545098",
     "exception": false,
     "start_time": "2025-08-19T19:03:53.503349",
     "status": "completed"
    },
    "tags": []
   },
   "outputs": [],
   "source": [
    "colname_to_bin = \"maxdeutsch1\"\n",
    "majority_value = org_train[colname_to_bin].mode()[0]\n",
    "\n",
    "org_test[\"majmin\"] = np.where(org_test[colname_to_bin] == majority_value, \"majority\", \"minority\")"
   ]
  },
  {
   "cell_type": "code",
   "execution_count": 58,
   "id": "17e3e4d5",
   "metadata": {
    "execution": {
     "iopub.execute_input": "2025-08-19T19:03:53.577503Z",
     "iopub.status.busy": "2025-08-19T19:03:53.577192Z",
     "iopub.status.idle": "2025-08-19T19:03:55.373649Z",
     "shell.execute_reply": "2025-08-19T19:03:55.372348Z"
    },
    "papermill": {
     "duration": 1.811885,
     "end_time": "2025-08-19T19:03:55.375311",
     "exception": false,
     "start_time": "2025-08-19T19:03:53.563426",
     "status": "completed"
    },
    "tags": []
   },
   "outputs": [],
   "source": [
    "example_universe = universe.copy()\n",
    "example_universe[\"cutoff\"] = example_universe[\"cutoff\"][0]\n",
    "example_universe[\"eval_fairness_grouping\"] = example_universe[\"eval_fairness_grouping\"][0]\n",
    "fairness_dict, metric_frame = universe_analysis.compute_metrics(\n",
    "    example_universe,\n",
    "    y_pred_prob=probs_test,\n",
    "    y_test=y_true,\n",
    "    org_test=org_test,\n",
    ")"
   ]
  },
  {
   "cell_type": "markdown",
   "id": "1fb7a0e9",
   "metadata": {
    "papermill": {
     "duration": 0.012418,
     "end_time": "2025-08-19T19:03:55.401311",
     "exception": false,
     "start_time": "2025-08-19T19:03:55.388893",
     "status": "completed"
    },
    "tags": []
   },
   "source": [
    "# Overall"
   ]
  },
  {
   "cell_type": "markdown",
   "id": "be1784b1",
   "metadata": {
    "papermill": {
     "duration": 0.012332,
     "end_time": "2025-08-19T19:03:55.426046",
     "exception": false,
     "start_time": "2025-08-19T19:03:55.413714",
     "status": "completed"
    },
    "tags": []
   },
   "source": [
    "Main fairness target: Equalized Odds. Seems to be a better fit than equal opportunity, since we're not only interested in Y = 1. Seems to be a better fit than demographic parity, since we also care about accuracy, not just equal distribution of preds.\n",
    "\n",
    "Pick column for computation of fairness metrics\n",
    "\n",
    "Performance\n",
    "Overall performance measures, most interesting in relation to the measures split by group below"
   ]
  },
  {
   "cell_type": "code",
   "execution_count": 59,
   "id": "b7672bee",
   "metadata": {
    "execution": {
     "iopub.execute_input": "2025-08-19T19:03:55.455266Z",
     "iopub.status.busy": "2025-08-19T19:03:55.453998Z",
     "iopub.status.idle": "2025-08-19T19:03:55.468281Z",
     "shell.execute_reply": "2025-08-19T19:03:55.467205Z"
    },
    "papermill": {
     "duration": 0.031601,
     "end_time": "2025-08-19T19:03:55.469951",
     "exception": false,
     "start_time": "2025-08-19T19:03:55.438350",
     "status": "completed"
    },
    "tags": []
   },
   "outputs": [
    {
     "data": {
      "text/plain": [
       "accuracy                   0.222027\n",
       "balanced accuracy          0.543729\n",
       "f1                         0.243578\n",
       "precision                  0.139144\n",
       "false positive rate        0.888993\n",
       "false negative rate        0.023549\n",
       "selection rate             0.900212\n",
       "count                  89710.000000\n",
       "dtype: float64"
      ]
     },
     "execution_count": 59,
     "metadata": {},
     "output_type": "execute_result"
    }
   ],
   "source": [
    "metric_frame.overall"
   ]
  },
  {
   "cell_type": "markdown",
   "id": "d93333c9",
   "metadata": {
    "papermill": {
     "duration": 0.012884,
     "end_time": "2025-08-19T19:03:55.499753",
     "exception": false,
     "start_time": "2025-08-19T19:03:55.486869",
     "status": "completed"
    },
    "tags": []
   },
   "source": [
    "By Group"
   ]
  },
  {
   "cell_type": "code",
   "execution_count": 60,
   "id": "52256966",
   "metadata": {
    "execution": {
     "iopub.execute_input": "2025-08-19T19:03:55.527474Z",
     "iopub.status.busy": "2025-08-19T19:03:55.526495Z",
     "iopub.status.idle": "2025-08-19T19:03:55.550401Z",
     "shell.execute_reply": "2025-08-19T19:03:55.549265Z"
    },
    "papermill": {
     "duration": 0.040227,
     "end_time": "2025-08-19T19:03:55.552439",
     "exception": false,
     "start_time": "2025-08-19T19:03:55.512212",
     "status": "completed"
    },
    "tags": []
   },
   "outputs": [
    {
     "data": {
      "text/html": [
       "<div>\n",
       "<style scoped>\n",
       "    .dataframe tbody tr th:only-of-type {\n",
       "        vertical-align: middle;\n",
       "    }\n",
       "\n",
       "    .dataframe tbody tr th {\n",
       "        vertical-align: top;\n",
       "    }\n",
       "\n",
       "    .dataframe thead th {\n",
       "        text-align: right;\n",
       "    }\n",
       "</style>\n",
       "<table border=\"1\" class=\"dataframe\">\n",
       "  <thead>\n",
       "    <tr style=\"text-align: right;\">\n",
       "      <th></th>\n",
       "      <th>accuracy</th>\n",
       "      <th>balanced accuracy</th>\n",
       "      <th>f1</th>\n",
       "      <th>precision</th>\n",
       "      <th>false positive rate</th>\n",
       "      <th>false negative rate</th>\n",
       "      <th>selection rate</th>\n",
       "      <th>count</th>\n",
       "    </tr>\n",
       "    <tr>\n",
       "      <th>majmin</th>\n",
       "      <th></th>\n",
       "      <th></th>\n",
       "      <th></th>\n",
       "      <th></th>\n",
       "      <th></th>\n",
       "      <th></th>\n",
       "      <th></th>\n",
       "      <th></th>\n",
       "    </tr>\n",
       "  </thead>\n",
       "  <tbody>\n",
       "    <tr>\n",
       "      <th>majority</th>\n",
       "      <td>0.241434</td>\n",
       "      <td>0.551838</td>\n",
       "      <td>0.253309</td>\n",
       "      <td>0.145591</td>\n",
       "      <td>0.870065</td>\n",
       "      <td>0.026258</td>\n",
       "      <td>0.883765</td>\n",
       "      <td>69170.0</td>\n",
       "    </tr>\n",
       "    <tr>\n",
       "      <th>minority</th>\n",
       "      <td>0.156670</td>\n",
       "      <td>0.517695</td>\n",
       "      <td>0.212493</td>\n",
       "      <td>0.119065</td>\n",
       "      <td>0.951519</td>\n",
       "      <td>0.013091</td>\n",
       "      <td>0.955599</td>\n",
       "      <td>20540.0</td>\n",
       "    </tr>\n",
       "  </tbody>\n",
       "</table>\n",
       "</div>"
      ],
      "text/plain": [
       "          accuracy  balanced accuracy        f1  precision  \\\n",
       "majmin                                                       \n",
       "majority  0.241434           0.551838  0.253309   0.145591   \n",
       "minority  0.156670           0.517695  0.212493   0.119065   \n",
       "\n",
       "          false positive rate  false negative rate  selection rate    count  \n",
       "majmin                                                                       \n",
       "majority             0.870065             0.026258        0.883765  69170.0  \n",
       "minority             0.951519             0.013091        0.955599  20540.0  "
      ]
     },
     "execution_count": 60,
     "metadata": {},
     "output_type": "execute_result"
    }
   ],
   "source": [
    "metric_frame.by_group"
   ]
  },
  {
   "cell_type": "code",
   "execution_count": 61,
   "id": "6e6c20ae",
   "metadata": {
    "execution": {
     "iopub.execute_input": "2025-08-19T19:03:55.587816Z",
     "iopub.status.busy": "2025-08-19T19:03:55.586819Z",
     "iopub.status.idle": "2025-08-19T19:03:57.429652Z",
     "shell.execute_reply": "2025-08-19T19:03:57.428711Z"
    },
    "papermill": {
     "duration": 1.859381,
     "end_time": "2025-08-19T19:03:57.430991",
     "exception": false,
     "start_time": "2025-08-19T19:03:55.571610",
     "status": "completed"
    },
    "tags": []
   },
   "outputs": [
    {
     "data": {
      "text/plain": [
       "array([[<Axes: title={'center': 'accuracy'}, xlabel='majmin'>,\n",
       "        <Axes: title={'center': 'balanced accuracy'}, xlabel='majmin'>,\n",
       "        <Axes: title={'center': 'f1'}, xlabel='majmin'>],\n",
       "       [<Axes: title={'center': 'precision'}, xlabel='majmin'>,\n",
       "        <Axes: title={'center': 'false positive rate'}, xlabel='majmin'>,\n",
       "        <Axes: title={'center': 'false negative rate'}, xlabel='majmin'>],\n",
       "       [<Axes: title={'center': 'selection rate'}, xlabel='majmin'>,\n",
       "        <Axes: title={'center': 'count'}, xlabel='majmin'>,\n",
       "        <Axes: xlabel='majmin'>]], dtype=object)"
      ]
     },
     "execution_count": 61,
     "metadata": {},
     "output_type": "execute_result"
    },
    {
     "data": {
      "image/png": "[encoded data removed]",
      "text/plain": [
       "<Figure size 1200x800 with 9 Axes>"
      ]
     },
     "metadata": {},
     "output_type": "display_data"
    }
   ],
   "source": [
    "# In a graphic\n",
    "metric_frame.by_group.plot.bar(\n",
    "    subplots=True,\n",
    "    layout=[3, 3],\n",
    "    legend=False,\n",
    "    figsize=[12, 8],\n",
    "    title=\"Show all metrics\",\n",
    ")"
   ]
  },
  {
   "cell_type": "markdown",
   "id": "b2e433ae",
   "metadata": {
    "papermill": {
     "duration": 0.013791,
     "end_time": "2025-08-19T19:03:57.459632",
     "exception": false,
     "start_time": "2025-08-19T19:03:57.445841",
     "status": "completed"
    },
    "tags": []
   },
   "source": [
    "# Final Output"
   ]
  },
  {
   "cell_type": "code",
   "execution_count": 62,
   "id": "3871301e",
   "metadata": {
    "execution": {
     "iopub.execute_input": "2025-08-19T19:03:57.491905Z",
     "iopub.status.busy": "2025-08-19T19:03:57.489461Z",
     "iopub.status.idle": "2025-08-19T19:03:57.510083Z",
     "shell.execute_reply": "2025-08-19T19:03:57.508953Z"
    },
    "papermill": {
     "duration": 0.038447,
     "end_time": "2025-08-19T19:03:57.511799",
     "exception": false,
     "start_time": "2025-08-19T19:03:57.473352",
     "status": "completed"
    },
    "tags": []
   },
   "outputs": [
    {
     "data": {
      "text/plain": [
       "4"
      ]
     },
     "execution_count": 62,
     "metadata": {},
     "output_type": "execute_result"
    }
   ],
   "source": [
    "sub_universes = universe_analysis.generate_sub_universes()\n",
    "len(sub_universes)"
   ]
  },
  {
   "cell_type": "code",
   "execution_count": 63,
   "id": "d9cfdaca",
   "metadata": {
    "execution": {
     "iopub.execute_input": "2025-08-19T19:03:57.551858Z",
     "iopub.status.busy": "2025-08-19T19:03:57.550679Z",
     "iopub.status.idle": "2025-08-19T19:03:57.584033Z",
     "shell.execute_reply": "2025-08-19T19:03:57.582182Z"
    },
    "papermill": {
     "duration": 0.051507,
     "end_time": "2025-08-19T19:03:57.586395",
     "exception": false,
     "start_time": "2025-08-19T19:03:57.534888",
     "status": "completed"
    },
    "tags": []
   },
   "outputs": [],
   "source": [
    "def filter_sub_universe_data(sub_universe, org_test):\n",
    "    # Keep all rows — no filtering\n",
    "    keep_rows_mask = np.ones(org_test.shape[0], dtype=bool)\n",
    "\n",
    "    print(f\"[INFO] Keeping all rows: {keep_rows_mask.sum()} rows retained.\")\n",
    "    return keep_rows_mask"
   ]
  },
  {
   "cell_type": "code",
   "execution_count": 64,
   "id": "2bc31ac1",
   "metadata": {
    "execution": {
     "iopub.execute_input": "2025-08-19T19:03:57.634782Z",
     "iopub.status.busy": "2025-08-19T19:03:57.633496Z",
     "iopub.status.idle": "2025-08-19T19:04:04.402421Z",
     "shell.execute_reply": "2025-08-19T19:04:04.401417Z"
    },
    "papermill": {
     "duration": 6.787959,
     "end_time": "2025-08-19T19:04:04.404293",
     "exception": false,
     "start_time": "2025-08-19T19:03:57.616334",
     "status": "completed"
    },
    "tags": []
   },
   "outputs": [
    {
     "name": "stdout",
     "output_type": "stream",
     "text": [
      "Stopping execution_time clock.\n",
      "[INFO] Keeping all rows: 89710 rows retained.\n"
     ]
    },
    {
     "name": "stdout",
     "output_type": "stream",
     "text": [
      "[INFO] Keeping all rows: 89710 rows retained.\n"
     ]
    },
    {
     "name": "stdout",
     "output_type": "stream",
     "text": [
      "[INFO] Keeping all rows: 89710 rows retained.\n"
     ]
    },
    {
     "name": "stdout",
     "output_type": "stream",
     "text": [
      "[INFO] Keeping all rows: 89710 rows retained.\n"
     ]
    },
    {
     "data": {
      "text/html": [
       "<div>\n",
       "<style scoped>\n",
       "    .dataframe tbody tr th:only-of-type {\n",
       "        vertical-align: middle;\n",
       "    }\n",
       "\n",
       "    .dataframe tbody tr th {\n",
       "        vertical-align: top;\n",
       "    }\n",
       "\n",
       "    .dataframe thead th {\n",
       "        text-align: right;\n",
       "    }\n",
       "</style>\n",
       "<table border=\"1\" class=\"dataframe\">\n",
       "  <thead>\n",
       "    <tr style=\"text-align: right;\">\n",
       "      <th></th>\n",
       "      <th>run_no</th>\n",
       "      <th>universe_id</th>\n",
       "      <th>universe_settings</th>\n",
       "      <th>execution_time</th>\n",
       "      <th>test_size_n</th>\n",
       "      <th>test_size_frac</th>\n",
       "      <th>fair_main_equalized_odds_difference</th>\n",
       "      <th>fair_main_equalized_odds_ratio</th>\n",
       "      <th>fair_main_demographic_parity_difference</th>\n",
       "      <th>fair_main_demographic_parity_ratio</th>\n",
       "      <th>...</th>\n",
       "      <th>perf_grp_precision_0</th>\n",
       "      <th>perf_grp_precision_1</th>\n",
       "      <th>perf_grp_false positive rate_0</th>\n",
       "      <th>perf_grp_false positive rate_1</th>\n",
       "      <th>perf_grp_false negative rate_0</th>\n",
       "      <th>perf_grp_false negative rate_1</th>\n",
       "      <th>perf_grp_selection rate_0</th>\n",
       "      <th>perf_grp_selection rate_1</th>\n",
       "      <th>perf_grp_count_0</th>\n",
       "      <th>perf_grp_count_1</th>\n",
       "    </tr>\n",
       "  </thead>\n",
       "  <tbody>\n",
       "    <tr>\n",
       "      <th>0</th>\n",
       "      <td>3</td>\n",
       "      <td>0aa6f693e084b638db2b32f7385c8656</td>\n",
       "      <td>{\"cutoff\": \"quantile_0.1\", \"eval_fairness_grou...</td>\n",
       "      <td>23.754276</td>\n",
       "      <td>89710</td>\n",
       "      <td>1.0</td>\n",
       "      <td>0.081454</td>\n",
       "      <td>0.914396</td>\n",
       "      <td>0.071834</td>\n",
       "      <td>0.924828</td>\n",
       "      <td>...</td>\n",
       "      <td>NaN</td>\n",
       "      <td>NaN</td>\n",
       "      <td>NaN</td>\n",
       "      <td>NaN</td>\n",
       "      <td>NaN</td>\n",
       "      <td>NaN</td>\n",
       "      <td>NaN</td>\n",
       "      <td>NaN</td>\n",
       "      <td>NaN</td>\n",
       "      <td>NaN</td>\n",
       "    </tr>\n",
       "    <tr>\n",
       "      <th>0</th>\n",
       "      <td>3</td>\n",
       "      <td>0aa6f693e084b638db2b32f7385c8656</td>\n",
       "      <td>{\"cutoff\": \"quantile_0.1\", \"eval_fairness_grou...</td>\n",
       "      <td>23.754276</td>\n",
       "      <td>89710</td>\n",
       "      <td>1.0</td>\n",
       "      <td>0.081454</td>\n",
       "      <td>0.914396</td>\n",
       "      <td>0.071834</td>\n",
       "      <td>0.924828</td>\n",
       "      <td>...</td>\n",
       "      <td>0.119065</td>\n",
       "      <td>0.145591</td>\n",
       "      <td>0.951519</td>\n",
       "      <td>0.870065</td>\n",
       "      <td>0.013091</td>\n",
       "      <td>0.026258</td>\n",
       "      <td>0.955599</td>\n",
       "      <td>0.883765</td>\n",
       "      <td>20540.0</td>\n",
       "      <td>69170.0</td>\n",
       "    </tr>\n",
       "    <tr>\n",
       "      <th>0</th>\n",
       "      <td>3</td>\n",
       "      <td>0aa6f693e084b638db2b32f7385c8656</td>\n",
       "      <td>{\"cutoff\": \"quantile_0.25\", \"eval_fairness_gro...</td>\n",
       "      <td>23.754276</td>\n",
       "      <td>89710</td>\n",
       "      <td>1.0</td>\n",
       "      <td>0.158705</td>\n",
       "      <td>0.812655</td>\n",
       "      <td>0.140990</td>\n",
       "      <td>0.835812</td>\n",
       "      <td>...</td>\n",
       "      <td>NaN</td>\n",
       "      <td>NaN</td>\n",
       "      <td>NaN</td>\n",
       "      <td>NaN</td>\n",
       "      <td>NaN</td>\n",
       "      <td>NaN</td>\n",
       "      <td>NaN</td>\n",
       "      <td>NaN</td>\n",
       "      <td>NaN</td>\n",
       "      <td>NaN</td>\n",
       "    </tr>\n",
       "    <tr>\n",
       "      <th>0</th>\n",
       "      <td>3</td>\n",
       "      <td>0aa6f693e084b638db2b32f7385c8656</td>\n",
       "      <td>{\"cutoff\": \"quantile_0.25\", \"eval_fairness_gro...</td>\n",
       "      <td>23.754276</td>\n",
       "      <td>89710</td>\n",
       "      <td>1.0</td>\n",
       "      <td>0.158705</td>\n",
       "      <td>0.812655</td>\n",
       "      <td>0.140990</td>\n",
       "      <td>0.835812</td>\n",
       "      <td>...</td>\n",
       "      <td>0.127225</td>\n",
       "      <td>0.167570</td>\n",
       "      <td>0.847127</td>\n",
       "      <td>0.688422</td>\n",
       "      <td>0.052365</td>\n",
       "      <td>0.089825</td>\n",
       "      <td>0.858715</td>\n",
       "      <td>0.717724</td>\n",
       "      <td>20540.0</td>\n",
       "      <td>69170.0</td>\n",
       "    </tr>\n",
       "  </tbody>\n",
       "</table>\n",
       "<p>4 rows × 50 columns</p>\n",
       "</div>"
      ],
      "text/plain": [
       "  run_no                       universe_id  \\\n",
       "0      3  0aa6f693e084b638db2b32f7385c8656   \n",
       "0      3  0aa6f693e084b638db2b32f7385c8656   \n",
       "0      3  0aa6f693e084b638db2b32f7385c8656   \n",
       "0      3  0aa6f693e084b638db2b32f7385c8656   \n",
       "\n",
       "                                   universe_settings  execution_time  \\\n",
       "0  {\"cutoff\": \"quantile_0.1\", \"eval_fairness_grou...       23.754276   \n",
       "0  {\"cutoff\": \"quantile_0.1\", \"eval_fairness_grou...       23.754276   \n",
       "0  {\"cutoff\": \"quantile_0.25\", \"eval_fairness_gro...       23.754276   \n",
       "0  {\"cutoff\": \"quantile_0.25\", \"eval_fairness_gro...       23.754276   \n",
       "\n",
       "   test_size_n  test_size_frac  fair_main_equalized_odds_difference  \\\n",
       "0        89710             1.0                             0.081454   \n",
       "0        89710             1.0                             0.081454   \n",
       "0        89710             1.0                             0.158705   \n",
       "0        89710             1.0                             0.158705   \n",
       "\n",
       "   fair_main_equalized_odds_ratio  fair_main_demographic_parity_difference  \\\n",
       "0                        0.914396                                 0.071834   \n",
       "0                        0.914396                                 0.071834   \n",
       "0                        0.812655                                 0.140990   \n",
       "0                        0.812655                                 0.140990   \n",
       "\n",
       "   fair_main_demographic_parity_ratio  ...  perf_grp_precision_0  \\\n",
       "0                            0.924828  ...                   NaN   \n",
       "0                            0.924828  ...              0.119065   \n",
       "0                            0.835812  ...                   NaN   \n",
       "0                            0.835812  ...              0.127225   \n",
       "\n",
       "   perf_grp_precision_1  perf_grp_false positive rate_0  \\\n",
       "0                   NaN                             NaN   \n",
       "0              0.145591                        0.951519   \n",
       "0                   NaN                             NaN   \n",
       "0              0.167570                        0.847127   \n",
       "\n",
       "   perf_grp_false positive rate_1  perf_grp_false negative rate_0  \\\n",
       "0                             NaN                             NaN   \n",
       "0                        0.870065                        0.013091   \n",
       "0                             NaN                             NaN   \n",
       "0                        0.688422                        0.052365   \n",
       "\n",
       "   perf_grp_false negative rate_1  perf_grp_selection rate_0  \\\n",
       "0                             NaN                        NaN   \n",
       "0                        0.026258                   0.955599   \n",
       "0                             NaN                        NaN   \n",
       "0                        0.089825                   0.858715   \n",
       "\n",
       "   perf_grp_selection rate_1  perf_grp_count_0  perf_grp_count_1  \n",
       "0                        NaN               NaN               NaN  \n",
       "0                   0.883765           20540.0           69170.0  \n",
       "0                        NaN               NaN               NaN  \n",
       "0                   0.717724           20540.0           69170.0  \n",
       "\n",
       "[4 rows x 50 columns]"
      ]
     },
     "execution_count": 64,
     "metadata": {},
     "output_type": "execute_result"
    }
   ],
   "source": [
    "final_output = universe_analysis.generate_final_output(\n",
    "    y_pred_prob=probs_test,\n",
    "    y_test=y_true,\n",
    "    org_test=org_test,\n",
    "    filter_data=filter_sub_universe_data,\n",
    "    cp_metrics_df=cp_metrics_df,\n",
    "    save=True,\n",
    ")\n",
    "final_output"
   ]
  },
  {
   "cell_type": "code",
   "execution_count": null,
   "id": "8b80a1ff",
   "metadata": {
    "papermill": {
     "duration": 0.015003,
     "end_time": "2025-08-19T19:04:04.439863",
     "exception": false,
     "start_time": "2025-08-19T19:04:04.424860",
     "status": "completed"
    },
    "tags": []
   },
   "outputs": [],
   "source": []
  },
  {
   "cell_type": "code",
   "execution_count": null,
   "id": "275c9fad",
   "metadata": {
    "papermill": {
     "duration": 0.015159,
     "end_time": "2025-08-19T19:04:04.469557",
     "exception": false,
     "start_time": "2025-08-19T19:04:04.454398",
     "status": "completed"
    },
    "tags": []
   },
   "outputs": [],
   "source": []
  }
 ],
 "metadata": {
  "celltoolbar": "Tags",
  "kernelspec": {
   "display_name": "Python (CMA Fairness)",
   "language": "python",
   "name": "cma_fair_env"
  },
  "language_info": {
   "codemirror_mode": {
    "name": "ipython",
    "version": 3
   },
   "file_extension": ".py",
   "mimetype": "text/x-python",
   "name": "python",
   "nbconvert_exporter": "python",
   "pygments_lexer": "ipython3",
   "version": "3.10.12"
  },
  "papermill": {
   "default_parameters": {},
   "duration": 34.693252,
   "end_time": "2025-08-19T19:04:05.415416",
   "environment_variables": {},
   "exception": null,
   "input_path": "universe_analysis.ipynb",
   "output_path": "output/runs/3/notebooks/m_3-0aa6f693e084b638db2b32f7385c8656.ipynb",
   "parameters": {
    "output_dir": "output",
    "run_no": "3",
    "seed": "2023",
    "universe": "{\"cutoff\": [\"quantile_0.1\", \"quantile_0.25\"], \"eval_fairness_grouping\": [\"majority-minority\", \"nationality-all\"], \"exclude_features\": \"age\", \"exclude_subgroups\": \"drop-non-german\", \"model\": \"gbm\", \"scale\": \"do-not-scale\", \"training_size\": \"1k\", \"training_year\": \"2012_14\"}",
    "universe_id": "0aa6f693e084b638db2b32f7385c8656"
   },
   "start_time": "2025-08-19T19:03:30.722164",
   "version": "2.6.0"
  }
 },
 "nbformat": 4,
 "nbformat_minor": 5
}