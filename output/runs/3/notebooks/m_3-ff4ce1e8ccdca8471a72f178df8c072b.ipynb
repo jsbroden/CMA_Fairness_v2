{
 "cells": [
  {
   "cell_type": "markdown",
   "id": "ef23dbb3",
   "metadata": {
    "papermill": {
     "duration": 0.009625,
     "end_time": "2025-08-19T18:25:05.021867",
     "exception": false,
     "start_time": "2025-08-19T18:25:05.012242",
     "status": "completed"
    },
    "tags": []
   },
   "source": [
    "# Setup"
   ]
  },
  {
   "cell_type": "code",
   "execution_count": 1,
   "id": "0bc8e7dc",
   "metadata": {
    "execution": {
     "iopub.execute_input": "2025-08-19T18:25:05.042628Z",
     "iopub.status.busy": "2025-08-19T18:25:05.041705Z",
     "iopub.status.idle": "2025-08-19T18:25:05.060216Z",
     "shell.execute_reply": "2025-08-19T18:25:05.059072Z"
    },
    "papermill": {
     "duration": 0.032887,
     "end_time": "2025-08-19T18:25:05.064048",
     "exception": false,
     "start_time": "2025-08-19T18:25:05.031161",
     "status": "completed"
    },
    "tags": []
   },
   "outputs": [
    {
     "name": "stdout",
     "output_type": "stream",
     "text": [
      "/dss/dsshome1/0C/ra93lal2/cma/CMA_Fairness_v2\n"
     ]
    },
    {
     "name": "stderr",
     "output_type": "stream",
     "text": [
      "/dss/dsshome1/0C/ra93lal2/.local/share/virtualenvs/CMA_Fairness_v2-3j10GkSs/lib/python3.10/site-packages/IPython/core/magics/osm.py:393: UserWarning: This is now an optional IPython functionality, using bookmarks requires you to install the `pickleshare` library.\n",
      "  bkms = self.shell.db.get('bookmarks', {})\n",
      "/dss/dsshome1/0C/ra93lal2/.local/share/virtualenvs/CMA_Fairness_v2-3j10GkSs/lib/python3.10/site-packages/IPython/core/magics/osm.py:417: UserWarning: This is now an optional IPython functionality, setting dhist requires you to install the `pickleshare` library.\n",
      "  self.shell.db['dhist'] = compress_dhist(dhist)[-100:]\n"
     ]
    }
   ],
   "source": [
    "%cd ~/cma/CMA_Fairness_v2"
   ]
  },
  {
   "cell_type": "markdown",
   "id": "9d235661",
   "metadata": {
    "papermill": {
     "duration": 0.00923,
     "end_time": "2025-08-19T18:25:05.086700",
     "exception": false,
     "start_time": "2025-08-19T18:25:05.077470",
     "status": "completed"
    },
    "tags": []
   },
   "source": [
    "The following cell holds the definition of our parameters, these values can be overriden by rendering the with e.g. the following command:\n",
    "\n",
    "papermill -p alpha 0.2 -p ratio 0.3 universe_analysis.ipynb output/test_run.ipynb"
   ]
  },
  {
   "cell_type": "code",
   "execution_count": 2,
   "id": "4a789d8e",
   "metadata": {
    "execution": {
     "iopub.execute_input": "2025-08-19T18:25:05.117905Z",
     "iopub.status.busy": "2025-08-19T18:25:05.117187Z",
     "iopub.status.idle": "2025-08-19T18:25:05.400735Z",
     "shell.execute_reply": "2025-08-19T18:25:05.400061Z"
    },
    "papermill": {
     "duration": 0.305998,
     "end_time": "2025-08-19T18:25:05.404225",
     "exception": false,
     "start_time": "2025-08-19T18:25:05.098227",
     "status": "completed"
    },
    "tags": []
   },
   "outputs": [
    {
     "name": "stdout",
     "output_type": "stream",
     "text": [
      "Current working directory: /dss/dsshome1/0C/ra93lal2/cma/CMA_Fairness_v2\n"
     ]
    }
   ],
   "source": [
    "import os\n",
    "print(\"Current working directory:\", os.getcwd())"
   ]
  },
  {
   "cell_type": "code",
   "execution_count": 3,
   "id": "4132aaed",
   "metadata": {
    "execution": {
     "iopub.execute_input": "2025-08-19T18:25:05.439975Z",
     "iopub.status.busy": "2025-08-19T18:25:05.439666Z",
     "iopub.status.idle": "2025-08-19T18:25:05.443984Z",
     "shell.execute_reply": "2025-08-19T18:25:05.443368Z"
    },
    "papermill": {
     "duration": 0.017505,
     "end_time": "2025-08-19T18:25:05.445106",
     "exception": false,
     "start_time": "2025-08-19T18:25:05.427601",
     "status": "completed"
    },
    "tags": [
     "parameters"
    ]
   },
   "outputs": [],
   "source": [
    "run_no = 0\n",
    "universe_id = \"test\"\n",
    "universe = {\n",
    "    \"training_size\": \"5k\", # \"25k\", \"5k\", \"1k\"\n",
    "    \"training_year\": \"2012_14\", # \"2014\", \"2012_14\", \"2010_14\"\n",
    "    \"scale\": \"scale\", # \"scale\", \"do-not-scale\",\n",
    "    \"model\": \"elasticnet\", # \"logreg\", \"penalized_logreg\", \"rf\", \"gbm\", \"elasticnet\"\n",
    "    \"cutoff\": [\"quantile_0.15\", \"quantile_0.30\"],\n",
    "    \"exclude_features\": \"age\", # \"none\", \"nationality\", \"sex\", \"nationality-sex\", \"age\"\n",
    "    \"exclude_subgroups\": \"drop-non-german\", # \"keep-all\", \"drop-non-german\"\n",
    "    \"eval_fairness_grouping\": [\"majority-minority\", \"nationality-all\"]\n",
    "}\n",
    "\n",
    "output_dir=\"./output\"\n",
    "seed=0"
   ]
  },
  {
   "cell_type": "code",
   "execution_count": 4,
   "id": "56925195",
   "metadata": {
    "execution": {
     "iopub.execute_input": "2025-08-19T18:25:05.465409Z",
     "iopub.status.busy": "2025-08-19T18:25:05.465085Z",
     "iopub.status.idle": "2025-08-19T18:25:05.472498Z",
     "shell.execute_reply": "2025-08-19T18:25:05.468516Z"
    },
    "papermill": {
     "duration": 0.018804,
     "end_time": "2025-08-19T18:25:05.473675",
     "exception": false,
     "start_time": "2025-08-19T18:25:05.454871",
     "status": "completed"
    },
    "tags": [
     "injected-parameters"
    ]
   },
   "outputs": [],
   "source": [
    "# Parameters\n",
    "universe_id = \"ff4ce1e8ccdca8471a72f178df8c072b\"\n",
    "run_no = \"3\"\n",
    "universe = \"{\\\"cutoff\\\": [\\\"quantile_0.1\\\", \\\"quantile_0.25\\\"], \\\"eval_fairness_grouping\\\": [\\\"majority-minority\\\", \\\"nationality-all\\\"], \\\"exclude_features\\\": \\\"nationality\\\", \\\"exclude_subgroups\\\": \\\"keep-all\\\", \\\"model\\\": \\\"gbm\\\", \\\"scale\\\": \\\"scale\\\", \\\"training_size\\\": \\\"5k\\\", \\\"training_year\\\": \\\"2014\\\"}\"\n",
    "output_dir = \"output\"\n",
    "seed = \"2023\"\n"
   ]
  },
  {
   "cell_type": "code",
   "execution_count": 5,
   "id": "a5d7941f",
   "metadata": {
    "execution": {
     "iopub.execute_input": "2025-08-19T18:25:05.496001Z",
     "iopub.status.busy": "2025-08-19T18:25:05.495711Z",
     "iopub.status.idle": "2025-08-19T18:25:05.499824Z",
     "shell.execute_reply": "2025-08-19T18:25:05.499096Z"
    },
    "papermill": {
     "duration": 0.015533,
     "end_time": "2025-08-19T18:25:05.500938",
     "exception": false,
     "start_time": "2025-08-19T18:25:05.485405",
     "status": "completed"
    },
    "tags": []
   },
   "outputs": [],
   "source": [
    "import json\n",
    "if isinstance(universe, str):\n",
    "    universe = json.loads(universe)"
   ]
  },
  {
   "cell_type": "code",
   "execution_count": 6,
   "id": "7076ccb1",
   "metadata": {
    "execution": {
     "iopub.execute_input": "2025-08-19T18:25:05.521537Z",
     "iopub.status.busy": "2025-08-19T18:25:05.520960Z",
     "iopub.status.idle": "2025-08-19T18:25:05.571743Z",
     "shell.execute_reply": "2025-08-19T18:25:05.571073Z"
    },
    "papermill": {
     "duration": 0.063987,
     "end_time": "2025-08-19T18:25:05.574294",
     "exception": false,
     "start_time": "2025-08-19T18:25:05.510307",
     "status": "completed"
    },
    "tags": []
   },
   "outputs": [],
   "source": [
    "# Auto-reload the custom package\n",
    "%load_ext autoreload\n",
    "%autoreload 1\n",
    "%aimport fairness_multiverse"
   ]
  },
  {
   "cell_type": "code",
   "execution_count": 7,
   "id": "94c8eb93",
   "metadata": {
    "execution": {
     "iopub.execute_input": "2025-08-19T18:25:05.623804Z",
     "iopub.status.busy": "2025-08-19T18:25:05.622679Z",
     "iopub.status.idle": "2025-08-19T18:25:07.146109Z",
     "shell.execute_reply": "2025-08-19T18:25:07.145413Z"
    },
    "papermill": {
     "duration": 1.53638,
     "end_time": "2025-08-19T18:25:07.147791",
     "exception": false,
     "start_time": "2025-08-19T18:25:05.611411",
     "status": "completed"
    },
    "tags": []
   },
   "outputs": [],
   "source": [
    "from fairness_multiverse.universe import UniverseAnalysis\n",
    "\n",
    "universe_analysis = UniverseAnalysis(\n",
    "    run_no = run_no,\n",
    "    universe_id = universe_id,\n",
    "    universe = universe,\n",
    "    output_dir=output_dir,\n",
    ")"
   ]
  },
  {
   "cell_type": "code",
   "execution_count": 8,
   "id": "2a6381cf",
   "metadata": {
    "execution": {
     "iopub.execute_input": "2025-08-19T18:25:07.174215Z",
     "iopub.status.busy": "2025-08-19T18:25:07.173544Z",
     "iopub.status.idle": "2025-08-19T18:25:07.182321Z",
     "shell.execute_reply": "2025-08-19T18:25:07.181027Z"
    },
    "papermill": {
     "duration": 0.026295,
     "end_time": "2025-08-19T18:25:07.183722",
     "exception": false,
     "start_time": "2025-08-19T18:25:07.157427",
     "status": "completed"
    },
    "tags": []
   },
   "outputs": [
    {
     "name": "stdout",
     "output_type": "stream",
     "text": [
      "Using Seed: 2023\n"
     ]
    }
   ],
   "source": [
    "import numpy as np\n",
    "parsed_seed = int(seed)\n",
    "np.random.seed(parsed_seed)\n",
    "print(f\"Using Seed: {parsed_seed}\")"
   ]
  },
  {
   "cell_type": "markdown",
   "id": "b6e958b4",
   "metadata": {
    "papermill": {
     "duration": 0.009267,
     "end_time": "2025-08-19T18:25:07.202414",
     "exception": false,
     "start_time": "2025-08-19T18:25:07.193147",
     "status": "completed"
    },
    "tags": []
   },
   "source": [
    "# Loading Data"
   ]
  },
  {
   "cell_type": "code",
   "execution_count": 9,
   "id": "98701482",
   "metadata": {
    "execution": {
     "iopub.execute_input": "2025-08-19T18:25:07.223119Z",
     "iopub.status.busy": "2025-08-19T18:25:07.222036Z",
     "iopub.status.idle": "2025-08-19T18:25:17.093826Z",
     "shell.execute_reply": "2025-08-19T18:25:17.092861Z"
    },
    "papermill": {
     "duration": 9.883911,
     "end_time": "2025-08-19T18:25:17.095265",
     "exception": false,
     "start_time": "2025-08-19T18:25:07.211354",
     "status": "completed"
    },
    "tags": []
   },
   "outputs": [
    {
     "name": "stdout",
     "output_type": "stream",
     "text": [
      "Loading SIAB data from cache: data/siab_cached.csv.gz\n"
     ]
    },
    {
     "name": "stdout",
     "output_type": "stream",
     "text": [
      "(643690, 164)\n"
     ]
    }
   ],
   "source": [
    "from pathlib import Path\n",
    "import pandas as pd\n",
    "\n",
    "# File paths\n",
    "raw_file = Path(\"data/raw/siab.csv\")\n",
    "cache_file = Path(\"data/siab_cached.csv.gz\")\n",
    "\n",
    "# Ensure cache directory exists\n",
    "cache_file.parent.mkdir(parents=True, exist_ok=True)\n",
    "\n",
    "# Load with simple caching\n",
    "if cache_file.exists():\n",
    "    print(f\"Loading SIAB data from cache: {cache_file}\")\n",
    "    siab = pd.read_csv(cache_file, compression='gzip')\n",
    "else:\n",
    "    print(f\"Cache not found. Reading raw SIAB data: {raw_file}\")\n",
    "    siab = pd.read_csv(raw_file)\n",
    "    siab.to_csv(cache_file, index=False, compression='gzip')\n",
    "    print(f\"Cached SIAB data to: {cache_file}\")\n",
    "\n",
    "print(siab.shape)"
   ]
  },
  {
   "cell_type": "code",
   "execution_count": 10,
   "id": "058d2abb",
   "metadata": {
    "execution": {
     "iopub.execute_input": "2025-08-19T18:25:17.120595Z",
     "iopub.status.busy": "2025-08-19T18:25:17.118548Z",
     "iopub.status.idle": "2025-08-19T18:25:17.324526Z",
     "shell.execute_reply": "2025-08-19T18:25:17.323556Z"
    },
    "papermill": {
     "duration": 0.218352,
     "end_time": "2025-08-19T18:25:17.325982",
     "exception": false,
     "start_time": "2025-08-19T18:25:17.107630",
     "status": "completed"
    },
    "tags": []
   },
   "outputs": [
    {
     "data": {
      "text/html": [
       "<div>\n",
       "<style scoped>\n",
       "    .dataframe tbody tr th:only-of-type {\n",
       "        vertical-align: middle;\n",
       "    }\n",
       "\n",
       "    .dataframe tbody tr th {\n",
       "        vertical-align: top;\n",
       "    }\n",
       "\n",
       "    .dataframe thead th {\n",
       "        text-align: right;\n",
       "    }\n",
       "</style>\n",
       "<table border=\"1\" class=\"dataframe\">\n",
       "  <thead>\n",
       "    <tr style=\"text-align: right;\">\n",
       "      <th></th>\n",
       "      <th>persnr</th>\n",
       "      <th>year</th>\n",
       "      <th>nrEntry</th>\n",
       "      <th>ltue</th>\n",
       "      <th>employed_before</th>\n",
       "      <th>receipt_leh_before</th>\n",
       "      <th>receipt_lhg_before</th>\n",
       "      <th>se_before</th>\n",
       "      <th>ASU_notue_seeking_before</th>\n",
       "      <th>ASU_other_before</th>\n",
       "      <th>...</th>\n",
       "      <th>minijob_tot_dur_byage</th>\n",
       "      <th>ft_tot_dur_byage</th>\n",
       "      <th>befrist_tot_dur_byage</th>\n",
       "      <th>leih_tot_dur_byage</th>\n",
       "      <th>LHG_tot_dur_byage</th>\n",
       "      <th>LEH_tot_dur_byage</th>\n",
       "      <th>almp_tot_dur_byage</th>\n",
       "      <th>almp_aw_tot_dur_byage</th>\n",
       "      <th>se_tot_dur_byage</th>\n",
       "      <th>seeking1_tot_dur_byage</th>\n",
       "    </tr>\n",
       "  </thead>\n",
       "  <tbody>\n",
       "    <tr>\n",
       "      <th>0</th>\n",
       "      <td>7</td>\n",
       "      <td>2015</td>\n",
       "      <td>1</td>\n",
       "      <td>0</td>\n",
       "      <td>1</td>\n",
       "      <td>0</td>\n",
       "      <td>0</td>\n",
       "      <td>0</td>\n",
       "      <td>1</td>\n",
       "      <td>0</td>\n",
       "      <td>...</td>\n",
       "      <td>0.000000</td>\n",
       "      <td>0.000000</td>\n",
       "      <td>15.043478</td>\n",
       "      <td>0.000000</td>\n",
       "      <td>0.000000</td>\n",
       "      <td>0.000000</td>\n",
       "      <td>0.000000</td>\n",
       "      <td>0.000000</td>\n",
       "      <td>0.000000</td>\n",
       "      <td>0.000000</td>\n",
       "    </tr>\n",
       "    <tr>\n",
       "      <th>1</th>\n",
       "      <td>18</td>\n",
       "      <td>2010</td>\n",
       "      <td>1</td>\n",
       "      <td>1</td>\n",
       "      <td>0</td>\n",
       "      <td>0</td>\n",
       "      <td>0</td>\n",
       "      <td>0</td>\n",
       "      <td>0</td>\n",
       "      <td>0</td>\n",
       "      <td>...</td>\n",
       "      <td>0.000000</td>\n",
       "      <td>0.000000</td>\n",
       "      <td>0.000000</td>\n",
       "      <td>0.000000</td>\n",
       "      <td>0.000000</td>\n",
       "      <td>0.000000</td>\n",
       "      <td>0.000000</td>\n",
       "      <td>0.000000</td>\n",
       "      <td>0.000000</td>\n",
       "      <td>0.000000</td>\n",
       "    </tr>\n",
       "    <tr>\n",
       "      <th>2</th>\n",
       "      <td>18</td>\n",
       "      <td>2011</td>\n",
       "      <td>2</td>\n",
       "      <td>0</td>\n",
       "      <td>1</td>\n",
       "      <td>0</td>\n",
       "      <td>1</td>\n",
       "      <td>0</td>\n",
       "      <td>1</td>\n",
       "      <td>0</td>\n",
       "      <td>...</td>\n",
       "      <td>2.714286</td>\n",
       "      <td>2.714286</td>\n",
       "      <td>0.000000</td>\n",
       "      <td>0.000000</td>\n",
       "      <td>10.775510</td>\n",
       "      <td>0.000000</td>\n",
       "      <td>8.367347</td>\n",
       "      <td>0.000000</td>\n",
       "      <td>0.000000</td>\n",
       "      <td>9.836735</td>\n",
       "    </tr>\n",
       "    <tr>\n",
       "      <th>3</th>\n",
       "      <td>18</td>\n",
       "      <td>2012</td>\n",
       "      <td>3</td>\n",
       "      <td>0</td>\n",
       "      <td>1</td>\n",
       "      <td>0</td>\n",
       "      <td>1</td>\n",
       "      <td>0</td>\n",
       "      <td>1</td>\n",
       "      <td>0</td>\n",
       "      <td>...</td>\n",
       "      <td>4.200000</td>\n",
       "      <td>4.200000</td>\n",
       "      <td>0.000000</td>\n",
       "      <td>0.000000</td>\n",
       "      <td>12.100000</td>\n",
       "      <td>0.000000</td>\n",
       "      <td>9.400000</td>\n",
       "      <td>0.000000</td>\n",
       "      <td>0.000000</td>\n",
       "      <td>9.960000</td>\n",
       "    </tr>\n",
       "    <tr>\n",
       "      <th>4</th>\n",
       "      <td>18</td>\n",
       "      <td>2012</td>\n",
       "      <td>4</td>\n",
       "      <td>0</td>\n",
       "      <td>1</td>\n",
       "      <td>0</td>\n",
       "      <td>1</td>\n",
       "      <td>0</td>\n",
       "      <td>1</td>\n",
       "      <td>0</td>\n",
       "      <td>...</td>\n",
       "      <td>5.460000</td>\n",
       "      <td>5.460000</td>\n",
       "      <td>0.000000</td>\n",
       "      <td>0.000000</td>\n",
       "      <td>13.360000</td>\n",
       "      <td>0.000000</td>\n",
       "      <td>10.320000</td>\n",
       "      <td>0.000000</td>\n",
       "      <td>0.000000</td>\n",
       "      <td>10.280000</td>\n",
       "    </tr>\n",
       "    <tr>\n",
       "      <th>...</th>\n",
       "      <td>...</td>\n",
       "      <td>...</td>\n",
       "      <td>...</td>\n",
       "      <td>...</td>\n",
       "      <td>...</td>\n",
       "      <td>...</td>\n",
       "      <td>...</td>\n",
       "      <td>...</td>\n",
       "      <td>...</td>\n",
       "      <td>...</td>\n",
       "      <td>...</td>\n",
       "      <td>...</td>\n",
       "      <td>...</td>\n",
       "      <td>...</td>\n",
       "      <td>...</td>\n",
       "      <td>...</td>\n",
       "      <td>...</td>\n",
       "      <td>...</td>\n",
       "      <td>...</td>\n",
       "      <td>...</td>\n",
       "      <td>...</td>\n",
       "    </tr>\n",
       "    <tr>\n",
       "      <th>643685</th>\n",
       "      <td>1827860</td>\n",
       "      <td>2013</td>\n",
       "      <td>1</td>\n",
       "      <td>0</td>\n",
       "      <td>0</td>\n",
       "      <td>0</td>\n",
       "      <td>1</td>\n",
       "      <td>0</td>\n",
       "      <td>0</td>\n",
       "      <td>1</td>\n",
       "      <td>...</td>\n",
       "      <td>0.000000</td>\n",
       "      <td>0.000000</td>\n",
       "      <td>0.000000</td>\n",
       "      <td>0.000000</td>\n",
       "      <td>0.612903</td>\n",
       "      <td>0.000000</td>\n",
       "      <td>0.000000</td>\n",
       "      <td>0.000000</td>\n",
       "      <td>0.000000</td>\n",
       "      <td>0.000000</td>\n",
       "    </tr>\n",
       "    <tr>\n",
       "      <th>643686</th>\n",
       "      <td>1827860</td>\n",
       "      <td>2015</td>\n",
       "      <td>2</td>\n",
       "      <td>1</td>\n",
       "      <td>0</td>\n",
       "      <td>0</td>\n",
       "      <td>1</td>\n",
       "      <td>0</td>\n",
       "      <td>1</td>\n",
       "      <td>0</td>\n",
       "      <td>...</td>\n",
       "      <td>0.000000</td>\n",
       "      <td>0.000000</td>\n",
       "      <td>0.212121</td>\n",
       "      <td>0.212121</td>\n",
       "      <td>17.363636</td>\n",
       "      <td>0.000000</td>\n",
       "      <td>8.909091</td>\n",
       "      <td>0.000000</td>\n",
       "      <td>0.000000</td>\n",
       "      <td>7.121212</td>\n",
       "    </tr>\n",
       "    <tr>\n",
       "      <th>643687</th>\n",
       "      <td>1827860</td>\n",
       "      <td>2016</td>\n",
       "      <td>3</td>\n",
       "      <td>1</td>\n",
       "      <td>0</td>\n",
       "      <td>0</td>\n",
       "      <td>1</td>\n",
       "      <td>1</td>\n",
       "      <td>0</td>\n",
       "      <td>1</td>\n",
       "      <td>...</td>\n",
       "      <td>0.000000</td>\n",
       "      <td>0.000000</td>\n",
       "      <td>0.294118</td>\n",
       "      <td>0.205882</td>\n",
       "      <td>34.705882</td>\n",
       "      <td>0.000000</td>\n",
       "      <td>10.352941</td>\n",
       "      <td>1.705882</td>\n",
       "      <td>1.705882</td>\n",
       "      <td>23.911765</td>\n",
       "    </tr>\n",
       "    <tr>\n",
       "      <th>643688</th>\n",
       "      <td>1827869</td>\n",
       "      <td>2013</td>\n",
       "      <td>1</td>\n",
       "      <td>1</td>\n",
       "      <td>1</td>\n",
       "      <td>0</td>\n",
       "      <td>0</td>\n",
       "      <td>0</td>\n",
       "      <td>1</td>\n",
       "      <td>0</td>\n",
       "      <td>...</td>\n",
       "      <td>0.000000</td>\n",
       "      <td>0.000000</td>\n",
       "      <td>0.000000</td>\n",
       "      <td>0.000000</td>\n",
       "      <td>0.000000</td>\n",
       "      <td>0.525424</td>\n",
       "      <td>0.000000</td>\n",
       "      <td>0.000000</td>\n",
       "      <td>0.000000</td>\n",
       "      <td>0.000000</td>\n",
       "    </tr>\n",
       "    <tr>\n",
       "      <th>643689</th>\n",
       "      <td>1827869</td>\n",
       "      <td>2014</td>\n",
       "      <td>2</td>\n",
       "      <td>0</td>\n",
       "      <td>0</td>\n",
       "      <td>1</td>\n",
       "      <td>0</td>\n",
       "      <td>0</td>\n",
       "      <td>1</td>\n",
       "      <td>0</td>\n",
       "      <td>...</td>\n",
       "      <td>0.000000</td>\n",
       "      <td>0.666667</td>\n",
       "      <td>0.666667</td>\n",
       "      <td>0.000000</td>\n",
       "      <td>0.000000</td>\n",
       "      <td>8.950000</td>\n",
       "      <td>1.033333</td>\n",
       "      <td>0.083333</td>\n",
       "      <td>0.083333</td>\n",
       "      <td>8.133333</td>\n",
       "    </tr>\n",
       "  </tbody>\n",
       "</table>\n",
       "<p>643690 rows × 164 columns</p>\n",
       "</div>"
      ],
      "text/plain": [
       "         persnr  year  nrEntry  ltue  employed_before  receipt_leh_before  \\\n",
       "0             7  2015        1     0                1                   0   \n",
       "1            18  2010        1     1                0                   0   \n",
       "2            18  2011        2     0                1                   0   \n",
       "3            18  2012        3     0                1                   0   \n",
       "4            18  2012        4     0                1                   0   \n",
       "...         ...   ...      ...   ...              ...                 ...   \n",
       "643685  1827860  2013        1     0                0                   0   \n",
       "643686  1827860  2015        2     1                0                   0   \n",
       "643687  1827860  2016        3     1                0                   0   \n",
       "643688  1827869  2013        1     1                1                   0   \n",
       "643689  1827869  2014        2     0                0                   1   \n",
       "\n",
       "        receipt_lhg_before  se_before  ASU_notue_seeking_before  \\\n",
       "0                        0          0                         1   \n",
       "1                        0          0                         0   \n",
       "2                        1          0                         1   \n",
       "3                        1          0                         1   \n",
       "4                        1          0                         1   \n",
       "...                    ...        ...                       ...   \n",
       "643685                   1          0                         0   \n",
       "643686                   1          0                         1   \n",
       "643687                   1          1                         0   \n",
       "643688                   0          0                         1   \n",
       "643689                   0          0                         1   \n",
       "\n",
       "        ASU_other_before  ...  minijob_tot_dur_byage  ft_tot_dur_byage  \\\n",
       "0                      0  ...               0.000000          0.000000   \n",
       "1                      0  ...               0.000000          0.000000   \n",
       "2                      0  ...               2.714286          2.714286   \n",
       "3                      0  ...               4.200000          4.200000   \n",
       "4                      0  ...               5.460000          5.460000   \n",
       "...                  ...  ...                    ...               ...   \n",
       "643685                 1  ...               0.000000          0.000000   \n",
       "643686                 0  ...               0.000000          0.000000   \n",
       "643687                 1  ...               0.000000          0.000000   \n",
       "643688                 0  ...               0.000000          0.000000   \n",
       "643689                 0  ...               0.000000          0.666667   \n",
       "\n",
       "        befrist_tot_dur_byage  leih_tot_dur_byage  LHG_tot_dur_byage  \\\n",
       "0                   15.043478            0.000000           0.000000   \n",
       "1                    0.000000            0.000000           0.000000   \n",
       "2                    0.000000            0.000000          10.775510   \n",
       "3                    0.000000            0.000000          12.100000   \n",
       "4                    0.000000            0.000000          13.360000   \n",
       "...                       ...                 ...                ...   \n",
       "643685               0.000000            0.000000           0.612903   \n",
       "643686               0.212121            0.212121          17.363636   \n",
       "643687               0.294118            0.205882          34.705882   \n",
       "643688               0.000000            0.000000           0.000000   \n",
       "643689               0.666667            0.000000           0.000000   \n",
       "\n",
       "        LEH_tot_dur_byage  almp_tot_dur_byage  almp_aw_tot_dur_byage  \\\n",
       "0                0.000000            0.000000               0.000000   \n",
       "1                0.000000            0.000000               0.000000   \n",
       "2                0.000000            8.367347               0.000000   \n",
       "3                0.000000            9.400000               0.000000   \n",
       "4                0.000000           10.320000               0.000000   \n",
       "...                   ...                 ...                    ...   \n",
       "643685           0.000000            0.000000               0.000000   \n",
       "643686           0.000000            8.909091               0.000000   \n",
       "643687           0.000000           10.352941               1.705882   \n",
       "643688           0.525424            0.000000               0.000000   \n",
       "643689           8.950000            1.033333               0.083333   \n",
       "\n",
       "        se_tot_dur_byage  seeking1_tot_dur_byage  \n",
       "0               0.000000                0.000000  \n",
       "1               0.000000                0.000000  \n",
       "2               0.000000                9.836735  \n",
       "3               0.000000                9.960000  \n",
       "4               0.000000               10.280000  \n",
       "...                  ...                     ...  \n",
       "643685          0.000000                0.000000  \n",
       "643686          0.000000                7.121212  \n",
       "643687          1.705882               23.911765  \n",
       "643688          0.000000                0.000000  \n",
       "643689          0.083333                8.133333  \n",
       "\n",
       "[643690 rows x 164 columns]"
      ]
     },
     "execution_count": 10,
     "metadata": {},
     "output_type": "execute_result"
    }
   ],
   "source": [
    "siab"
   ]
  },
  {
   "cell_type": "markdown",
   "id": "1f87e805",
   "metadata": {
    "papermill": {
     "duration": 0.009645,
     "end_time": "2025-08-19T18:25:17.346008",
     "exception": false,
     "start_time": "2025-08-19T18:25:17.336363",
     "status": "completed"
    },
    "tags": []
   },
   "source": [
    "# Splitting Data and Setting Training Data Size"
   ]
  },
  {
   "cell_type": "code",
   "execution_count": 11,
   "id": "910ae358",
   "metadata": {
    "execution": {
     "iopub.execute_input": "2025-08-19T18:25:17.370557Z",
     "iopub.status.busy": "2025-08-19T18:25:17.368563Z",
     "iopub.status.idle": "2025-08-19T18:25:17.644899Z",
     "shell.execute_reply": "2025-08-19T18:25:17.644042Z"
    },
    "papermill": {
     "duration": 0.291392,
     "end_time": "2025-08-19T18:25:17.647094",
     "exception": false,
     "start_time": "2025-08-19T18:25:17.355702",
     "status": "completed"
    },
    "tags": []
   },
   "outputs": [],
   "source": [
    "from fairness_multiverse.universe import sample_by_year_size\n",
    "\n",
    "siab_train = sample_by_year_size(siab,\n",
    "                               training_year=universe[\"training_year\"],\n",
    "                               training_size=universe[\"training_size\"])"
   ]
  },
  {
   "cell_type": "code",
   "execution_count": 12,
   "id": "919c8ff5",
   "metadata": {
    "execution": {
     "iopub.execute_input": "2025-08-19T18:25:17.668699Z",
     "iopub.status.busy": "2025-08-19T18:25:17.668304Z",
     "iopub.status.idle": "2025-08-19T18:25:17.680888Z",
     "shell.execute_reply": "2025-08-19T18:25:17.676216Z"
    },
    "papermill": {
     "duration": 0.024753,
     "end_time": "2025-08-19T18:25:17.682337",
     "exception": false,
     "start_time": "2025-08-19T18:25:17.657584",
     "status": "completed"
    },
    "tags": []
   },
   "outputs": [
    {
     "data": {
      "text/plain": [
       "(5000, 164)"
      ]
     },
     "execution_count": 12,
     "metadata": {},
     "output_type": "execute_result"
    }
   ],
   "source": [
    "siab_train.shape"
   ]
  },
  {
   "cell_type": "code",
   "execution_count": 13,
   "id": "feb13bf4",
   "metadata": {
    "execution": {
     "iopub.execute_input": "2025-08-19T18:25:17.710966Z",
     "iopub.status.busy": "2025-08-19T18:25:17.710246Z",
     "iopub.status.idle": "2025-08-19T18:25:17.720233Z",
     "shell.execute_reply": "2025-08-19T18:25:17.719395Z"
    },
    "papermill": {
     "duration": 0.023842,
     "end_time": "2025-08-19T18:25:17.721645",
     "exception": false,
     "start_time": "2025-08-19T18:25:17.697803",
     "status": "completed"
    },
    "tags": []
   },
   "outputs": [
    {
     "data": {
      "text/plain": [
       "year\n",
       "2014    5000\n",
       "dtype: int64"
      ]
     },
     "metadata": {},
     "output_type": "display_data"
    }
   ],
   "source": [
    "display(siab_train.groupby(\"year\").size())"
   ]
  },
  {
   "cell_type": "code",
   "execution_count": 14,
   "id": "0997782f",
   "metadata": {
    "execution": {
     "iopub.execute_input": "2025-08-19T18:25:17.746921Z",
     "iopub.status.busy": "2025-08-19T18:25:17.746011Z",
     "iopub.status.idle": "2025-08-19T18:25:18.017758Z",
     "shell.execute_reply": "2025-08-19T18:25:18.016243Z"
    },
    "papermill": {
     "duration": 0.287613,
     "end_time": "2025-08-19T18:25:18.021607",
     "exception": false,
     "start_time": "2025-08-19T18:25:17.733994",
     "status": "completed"
    },
    "tags": []
   },
   "outputs": [],
   "source": [
    "#siab_train = siab_s[siab_s.year < 2015]\n",
    "siab_calib = siab[siab.year == 2015]\n",
    "siab_test = siab[siab.year == 2016]"
   ]
  },
  {
   "cell_type": "code",
   "execution_count": 15,
   "id": "2c1e4012",
   "metadata": {
    "execution": {
     "iopub.execute_input": "2025-08-19T18:25:18.048287Z",
     "iopub.status.busy": "2025-08-19T18:25:18.047912Z",
     "iopub.status.idle": "2025-08-19T18:25:18.052780Z",
     "shell.execute_reply": "2025-08-19T18:25:18.051902Z"
    },
    "papermill": {
     "duration": 0.019765,
     "end_time": "2025-08-19T18:25:18.055861",
     "exception": false,
     "start_time": "2025-08-19T18:25:18.036096",
     "status": "completed"
    },
    "tags": []
   },
   "outputs": [],
   "source": [
    "#siab_calib.shape"
   ]
  },
  {
   "cell_type": "code",
   "execution_count": 16,
   "id": "f66b54ca",
   "metadata": {
    "execution": {
     "iopub.execute_input": "2025-08-19T18:25:18.088093Z",
     "iopub.status.busy": "2025-08-19T18:25:18.086501Z",
     "iopub.status.idle": "2025-08-19T18:25:18.093388Z",
     "shell.execute_reply": "2025-08-19T18:25:18.092206Z"
    },
    "papermill": {
     "duration": 0.022996,
     "end_time": "2025-08-19T18:25:18.094810",
     "exception": false,
     "start_time": "2025-08-19T18:25:18.071814",
     "status": "completed"
    },
    "tags": []
   },
   "outputs": [],
   "source": [
    "#siab_test.shape"
   ]
  },
  {
   "cell_type": "code",
   "execution_count": 17,
   "id": "27e4384d",
   "metadata": {
    "execution": {
     "iopub.execute_input": "2025-08-19T18:25:18.117754Z",
     "iopub.status.busy": "2025-08-19T18:25:18.116829Z",
     "iopub.status.idle": "2025-08-19T18:25:18.143613Z",
     "shell.execute_reply": "2025-08-19T18:25:18.142790Z"
    },
    "papermill": {
     "duration": 0.040083,
     "end_time": "2025-08-19T18:25:18.145527",
     "exception": false,
     "start_time": "2025-08-19T18:25:18.105444",
     "status": "completed"
    },
    "tags": []
   },
   "outputs": [],
   "source": [
    "X_train = siab_train.iloc[:,4:164]\n",
    "y_train = siab_train.iloc[:, [3]]"
   ]
  },
  {
   "cell_type": "code",
   "execution_count": 18,
   "id": "08ee8389",
   "metadata": {
    "execution": {
     "iopub.execute_input": "2025-08-19T18:25:18.179990Z",
     "iopub.status.busy": "2025-08-19T18:25:18.178785Z",
     "iopub.status.idle": "2025-08-19T18:25:18.336230Z",
     "shell.execute_reply": "2025-08-19T18:25:18.335431Z"
    },
    "papermill": {
     "duration": 0.173242,
     "end_time": "2025-08-19T18:25:18.337887",
     "exception": false,
     "start_time": "2025-08-19T18:25:18.164645",
     "status": "completed"
    },
    "tags": []
   },
   "outputs": [],
   "source": [
    "X_calib = siab_calib.iloc[:,4:164]\n",
    "y_calib = siab_calib.iloc[:, [3]]"
   ]
  },
  {
   "cell_type": "code",
   "execution_count": 19,
   "id": "b7ff42e0",
   "metadata": {
    "execution": {
     "iopub.execute_input": "2025-08-19T18:25:18.361479Z",
     "iopub.status.busy": "2025-08-19T18:25:18.361139Z",
     "iopub.status.idle": "2025-08-19T18:25:18.452557Z",
     "shell.execute_reply": "2025-08-19T18:25:18.451541Z"
    },
    "papermill": {
     "duration": 0.104239,
     "end_time": "2025-08-19T18:25:18.454567",
     "exception": false,
     "start_time": "2025-08-19T18:25:18.350328",
     "status": "completed"
    },
    "tags": []
   },
   "outputs": [],
   "source": [
    "X_test = siab_test.iloc[:,4:164]\n",
    "y_true = siab_test.iloc[:, [3]]"
   ]
  },
  {
   "cell_type": "code",
   "execution_count": 20,
   "id": "0275101e",
   "metadata": {
    "execution": {
     "iopub.execute_input": "2025-08-19T18:25:18.479742Z",
     "iopub.status.busy": "2025-08-19T18:25:18.479412Z",
     "iopub.status.idle": "2025-08-19T18:25:18.590140Z",
     "shell.execute_reply": "2025-08-19T18:25:18.589348Z"
    },
    "papermill": {
     "duration": 0.12496,
     "end_time": "2025-08-19T18:25:18.592053",
     "exception": false,
     "start_time": "2025-08-19T18:25:18.467093",
     "status": "completed"
    },
    "tags": []
   },
   "outputs": [],
   "source": [
    "# Auxiliary data needed downstream in the pipeline\n",
    "\n",
    "org_train = X_train.copy()\n",
    "org_test = X_test.copy()\n",
    "org_calib = X_calib.copy()"
   ]
  },
  {
   "cell_type": "markdown",
   "id": "b461e618",
   "metadata": {
    "papermill": {
     "duration": 0.010436,
     "end_time": "2025-08-19T18:25:18.613473",
     "exception": false,
     "start_time": "2025-08-19T18:25:18.603037",
     "status": "completed"
    },
    "tags": []
   },
   "source": [
    "# Preprocessing Data"
   ]
  },
  {
   "cell_type": "code",
   "execution_count": 21,
   "id": "78e74c4b",
   "metadata": {
    "execution": {
     "iopub.execute_input": "2025-08-19T18:25:18.635608Z",
     "iopub.status.busy": "2025-08-19T18:25:18.635188Z",
     "iopub.status.idle": "2025-08-19T18:25:18.640028Z",
     "shell.execute_reply": "2025-08-19T18:25:18.639325Z"
    },
    "papermill": {
     "duration": 0.019007,
     "end_time": "2025-08-19T18:25:18.642724",
     "exception": false,
     "start_time": "2025-08-19T18:25:18.623717",
     "status": "completed"
    },
    "tags": []
   },
   "outputs": [],
   "source": [
    "# EXCLUDE PROTECTED FEATURES\n",
    "# --------------------------\n",
    "\n",
    "excluded_features = universe[\"exclude_features\"].split(\"-\")\n",
    "excluded_features_dictionary = {\n",
    "    \"nationality\": [\"maxdeutsch1\", \"maxdeutsch.Missing.\"],\n",
    "    \"sex\": [\"frau1\"],\n",
    "    \"age\": [\"age\"],\n",
    "}"
   ]
  },
  {
   "cell_type": "code",
   "execution_count": 22,
   "id": "f8e63555",
   "metadata": {
    "execution": {
     "iopub.execute_input": "2025-08-19T18:25:18.692110Z",
     "iopub.status.busy": "2025-08-19T18:25:18.690950Z",
     "iopub.status.idle": "2025-08-19T18:25:18.699017Z",
     "shell.execute_reply": "2025-08-19T18:25:18.697729Z"
    },
    "papermill": {
     "duration": 0.025062,
     "end_time": "2025-08-19T18:25:18.700792",
     "exception": false,
     "start_time": "2025-08-19T18:25:18.675730",
     "status": "completed"
    },
    "tags": []
   },
   "outputs": [],
   "source": [
    "excluded_features_columns = [\n",
    "    excluded_features_dictionary[f] for f in excluded_features if len(f) > 0 and f != \"none\"\n",
    "]"
   ]
  },
  {
   "cell_type": "code",
   "execution_count": 23,
   "id": "da781f7c",
   "metadata": {
    "execution": {
     "iopub.execute_input": "2025-08-19T18:25:18.744873Z",
     "iopub.status.busy": "2025-08-19T18:25:18.723882Z",
     "iopub.status.idle": "2025-08-19T18:25:18.749954Z",
     "shell.execute_reply": "2025-08-19T18:25:18.748992Z"
    },
    "papermill": {
     "duration": 0.040148,
     "end_time": "2025-08-19T18:25:18.751948",
     "exception": false,
     "start_time": "2025-08-19T18:25:18.711800",
     "status": "completed"
    },
    "tags": []
   },
   "outputs": [],
   "source": [
    "from fairness_multiverse.universe import flatten_once\n",
    "\n",
    "excluded_features_columns = flatten_once(excluded_features_columns)"
   ]
  },
  {
   "cell_type": "code",
   "execution_count": 24,
   "id": "37fef0f0",
   "metadata": {
    "execution": {
     "iopub.execute_input": "2025-08-19T18:25:18.783105Z",
     "iopub.status.busy": "2025-08-19T18:25:18.782484Z",
     "iopub.status.idle": "2025-08-19T18:25:18.794260Z",
     "shell.execute_reply": "2025-08-19T18:25:18.793386Z"
    },
    "papermill": {
     "duration": 0.026342,
     "end_time": "2025-08-19T18:25:18.796088",
     "exception": false,
     "start_time": "2025-08-19T18:25:18.769746",
     "status": "completed"
    },
    "tags": []
   },
   "outputs": [
    {
     "name": "stdout",
     "output_type": "stream",
     "text": [
      "Dropping features: ['maxdeutsch1', 'maxdeutsch.Missing.']\n"
     ]
    }
   ],
   "source": [
    "if len(excluded_features_columns) > 0:\n",
    "    print(f\"Dropping features: {excluded_features_columns}\")\n",
    "    X_train.drop(excluded_features_columns, axis=1, inplace=True)"
   ]
  },
  {
   "cell_type": "code",
   "execution_count": 25,
   "id": "d029e3e9",
   "metadata": {
    "execution": {
     "iopub.execute_input": "2025-08-19T18:25:18.822199Z",
     "iopub.status.busy": "2025-08-19T18:25:18.821800Z",
     "iopub.status.idle": "2025-08-19T18:25:18.879116Z",
     "shell.execute_reply": "2025-08-19T18:25:18.878443Z"
    },
    "papermill": {
     "duration": 0.070388,
     "end_time": "2025-08-19T18:25:18.880694",
     "exception": false,
     "start_time": "2025-08-19T18:25:18.810306",
     "status": "completed"
    },
    "tags": []
   },
   "outputs": [
    {
     "name": "stdout",
     "output_type": "stream",
     "text": [
      "Dropping features: ['maxdeutsch1', 'maxdeutsch.Missing.']\n"
     ]
    }
   ],
   "source": [
    "if len(excluded_features_columns) > 0:\n",
    "    print(f\"Dropping features: {excluded_features_columns}\")\n",
    "    X_test.drop(excluded_features_columns, axis=1, inplace=True)"
   ]
  },
  {
   "cell_type": "code",
   "execution_count": 26,
   "id": "01d571f0",
   "metadata": {
    "execution": {
     "iopub.execute_input": "2025-08-19T18:25:18.908266Z",
     "iopub.status.busy": "2025-08-19T18:25:18.907705Z",
     "iopub.status.idle": "2025-08-19T18:25:18.959185Z",
     "shell.execute_reply": "2025-08-19T18:25:18.958326Z"
    },
    "papermill": {
     "duration": 0.065777,
     "end_time": "2025-08-19T18:25:18.960639",
     "exception": false,
     "start_time": "2025-08-19T18:25:18.894862",
     "status": "completed"
    },
    "tags": []
   },
   "outputs": [
    {
     "name": "stdout",
     "output_type": "stream",
     "text": [
      "Dropping features: ['maxdeutsch1', 'maxdeutsch.Missing.']\n"
     ]
    }
   ],
   "source": [
    "if len(excluded_features_columns) > 0:\n",
    "    print(f\"Dropping features: {excluded_features_columns}\")\n",
    "    X_calib.drop(excluded_features_columns, axis=1, inplace=True)"
   ]
  },
  {
   "cell_type": "code",
   "execution_count": 27,
   "id": "3037356e",
   "metadata": {
    "execution": {
     "iopub.execute_input": "2025-08-19T18:25:18.987507Z",
     "iopub.status.busy": "2025-08-19T18:25:18.986351Z",
     "iopub.status.idle": "2025-08-19T18:25:18.993083Z",
     "shell.execute_reply": "2025-08-19T18:25:18.991724Z"
    },
    "papermill": {
     "duration": 0.022301,
     "end_time": "2025-08-19T18:25:18.994658",
     "exception": false,
     "start_time": "2025-08-19T18:25:18.972357",
     "status": "completed"
    },
    "tags": []
   },
   "outputs": [],
   "source": [
    "# EXCLUDE CERTAIN SUBGROUPS\n",
    "# -------------------------\n",
    "\n",
    "mode = universe.get(\"exclude_subgroups\", \"keep-all\") # Defaults to \"keep-all\" if the key is missing."
   ]
  },
  {
   "cell_type": "code",
   "execution_count": 28,
   "id": "9d1e63fd",
   "metadata": {
    "execution": {
     "iopub.execute_input": "2025-08-19T18:25:19.024056Z",
     "iopub.status.busy": "2025-08-19T18:25:19.022531Z",
     "iopub.status.idle": "2025-08-19T18:25:19.033208Z",
     "shell.execute_reply": "2025-08-19T18:25:19.031951Z"
    },
    "papermill": {
     "duration": 0.027103,
     "end_time": "2025-08-19T18:25:19.035093",
     "exception": false,
     "start_time": "2025-08-19T18:25:19.007990",
     "status": "completed"
    },
    "tags": []
   },
   "outputs": [],
   "source": [
    "if mode == \"keep-all\":\n",
    "    keep_mask = pd.Series(True, index=org_train.index)\n",
    "\n",
    "elif mode == \"drop-non-german\":\n",
    "    keep_mask = (org_train[\"maxdeutsch1\"] == 1) & (org_train[\"maxdeutsch.Missing.\"] == 0)\n",
    "\n",
    "else:\n",
    "    raise ValueError(f\"Unsupported mode for exclude_subgroups: {mode}\")"
   ]
  },
  {
   "cell_type": "code",
   "execution_count": 29,
   "id": "d3b65474",
   "metadata": {
    "execution": {
     "iopub.execute_input": "2025-08-19T18:25:19.073217Z",
     "iopub.status.busy": "2025-08-19T18:25:19.065160Z",
     "iopub.status.idle": "2025-08-19T18:25:19.090314Z",
     "shell.execute_reply": "2025-08-19T18:25:19.089226Z"
    },
    "papermill": {
     "duration": 0.041899,
     "end_time": "2025-08-19T18:25:19.093310",
     "exception": false,
     "start_time": "2025-08-19T18:25:19.051411",
     "status": "completed"
    },
    "tags": []
   },
   "outputs": [],
   "source": [
    "n_drop = (~keep_mask).sum() # Calculates how many rows are set to be dropped\n",
    "if n_drop > 0:\n",
    "    pct = n_drop / len(keep_mask) * 100\n",
    "    print(f\"Dropping {n_drop} rows ({pct:.2f}%) where mode='{mode}'\")"
   ]
  },
  {
   "cell_type": "code",
   "execution_count": 30,
   "id": "f44389b3",
   "metadata": {
    "execution": {
     "iopub.execute_input": "2025-08-19T18:25:19.158747Z",
     "iopub.status.busy": "2025-08-19T18:25:19.158331Z",
     "iopub.status.idle": "2025-08-19T18:25:19.165810Z",
     "shell.execute_reply": "2025-08-19T18:25:19.164992Z"
    },
    "papermill": {
     "duration": 0.047216,
     "end_time": "2025-08-19T18:25:19.168223",
     "exception": false,
     "start_time": "2025-08-19T18:25:19.121007",
     "status": "completed"
    },
    "tags": []
   },
   "outputs": [],
   "source": [
    "X_train = X_train[keep_mask]"
   ]
  },
  {
   "cell_type": "code",
   "execution_count": 31,
   "id": "ceca8c2a",
   "metadata": {
    "execution": {
     "iopub.execute_input": "2025-08-19T18:25:19.201272Z",
     "iopub.status.busy": "2025-08-19T18:25:19.200118Z",
     "iopub.status.idle": "2025-08-19T18:25:19.206180Z",
     "shell.execute_reply": "2025-08-19T18:25:19.205339Z"
    },
    "papermill": {
     "duration": 0.019909,
     "end_time": "2025-08-19T18:25:19.207499",
     "exception": false,
     "start_time": "2025-08-19T18:25:19.187590",
     "status": "completed"
    },
    "tags": []
   },
   "outputs": [],
   "source": [
    "y_train = y_train[keep_mask]"
   ]
  },
  {
   "cell_type": "markdown",
   "id": "04d31e2f",
   "metadata": {
    "papermill": {
     "duration": 0.011413,
     "end_time": "2025-08-19T18:25:19.234121",
     "exception": false,
     "start_time": "2025-08-19T18:25:19.222708",
     "status": "completed"
    },
    "tags": []
   },
   "source": [
    "# Model Training"
   ]
  },
  {
   "cell_type": "code",
   "execution_count": 32,
   "id": "db991733",
   "metadata": {
    "execution": {
     "iopub.execute_input": "2025-08-19T18:25:19.257756Z",
     "iopub.status.busy": "2025-08-19T18:25:19.257307Z",
     "iopub.status.idle": "2025-08-19T18:25:19.364371Z",
     "shell.execute_reply": "2025-08-19T18:25:19.363466Z"
    },
    "papermill": {
     "duration": 0.121036,
     "end_time": "2025-08-19T18:25:19.366137",
     "exception": false,
     "start_time": "2025-08-19T18:25:19.245101",
     "status": "completed"
    },
    "tags": []
   },
   "outputs": [],
   "source": [
    "from sklearn.linear_model import LogisticRegression\n",
    "from sklearn.ensemble import GradientBoostingClassifier, RandomForestClassifier\n",
    "\n",
    "if (universe[\"model\"] == \"logreg\"):\n",
    "    model = LogisticRegression() #penalty=\"none\", solver=\"newton-cg\", max_iter=1)\n",
    "elif (universe[\"model\"] == \"penalized_logreg\"):\n",
    "    model = LogisticRegression(penalty=\"l2\", C=0.1) #, solver=\"newton-cg\", max_iter=1)\n",
    "elif (universe[\"model\"] == \"rf\"):\n",
    "    model = RandomForestClassifier() # n_estimators=100, n_jobs=-1\n",
    "elif (universe[\"model\"] == \"gbm\"):\n",
    "    model = GradientBoostingClassifier()\n",
    "elif (universe[\"model\"] == \"elasticnet\"):\n",
    "    model = LogisticRegression(penalty = 'elasticnet', solver = 'saga', l1_ratio = 0.5) # max_iter=5000\n",
    "else:\n",
    "    raise \"Unsupported universe.model\""
   ]
  },
  {
   "cell_type": "code",
   "execution_count": 33,
   "id": "a4b5cd25",
   "metadata": {
    "execution": {
     "iopub.execute_input": "2025-08-19T18:25:19.391338Z",
     "iopub.status.busy": "2025-08-19T18:25:19.390917Z",
     "iopub.status.idle": "2025-08-19T18:25:19.396386Z",
     "shell.execute_reply": "2025-08-19T18:25:19.395549Z"
    },
    "papermill": {
     "duration": 0.018939,
     "end_time": "2025-08-19T18:25:19.397914",
     "exception": false,
     "start_time": "2025-08-19T18:25:19.378975",
     "status": "completed"
    },
    "tags": []
   },
   "outputs": [],
   "source": [
    "from sklearn.pipeline import Pipeline\n",
    "from sklearn.preprocessing import StandardScaler\n",
    "\n",
    "model = Pipeline([\n",
    "    #(\"continuous_processor\", continuous_processor),\n",
    "    #(\"categorical_preprocessor\", categorical_preprocessor),\n",
    "    (\"scale\", StandardScaler() if universe[\"scale\"] == \"scale\" else None), \n",
    "    (\"model\", model),\n",
    "])"
   ]
  },
  {
   "cell_type": "code",
   "execution_count": 34,
   "id": "283a904d",
   "metadata": {
    "execution": {
     "iopub.execute_input": "2025-08-19T18:25:19.421986Z",
     "iopub.status.busy": "2025-08-19T18:25:19.421453Z",
     "iopub.status.idle": "2025-08-19T18:25:23.890709Z",
     "shell.execute_reply": "2025-08-19T18:25:23.889252Z"
    },
    "papermill": {
     "duration": 4.484025,
     "end_time": "2025-08-19T18:25:23.893499",
     "exception": false,
     "start_time": "2025-08-19T18:25:19.409474",
     "status": "completed"
    },
    "tags": []
   },
   "outputs": [
    {
     "data": {
      "text/html": [
       "<style>#sk-container-id-1 {color: black;background-color: white;}#sk-container-id-1 pre{padding: 0;}#sk-container-id-1 div.sk-toggleable {background-color: white;}#sk-container-id-1 label.sk-toggleable__label {cursor: pointer;display: block;width: 100%;margin-bottom: 0;padding: 0.3em;box-sizing: border-box;text-align: center;}#sk-container-id-1 label.sk-toggleable__label-arrow:before {content: \"▸\";float: left;margin-right: 0.25em;color: #696969;}#sk-container-id-1 label.sk-toggleable__label-arrow:hover:before {color: black;}#sk-container-id-1 div.sk-estimator:hover label.sk-toggleable__label-arrow:before {color: black;}#sk-container-id-1 div.sk-toggleable__content {max-height: 0;max-width: 0;overflow: hidden;text-align: left;background-color: #f0f8ff;}#sk-container-id-1 div.sk-toggleable__content pre {margin: 0.2em;color: black;border-radius: 0.25em;background-color: #f0f8ff;}#sk-container-id-1 input.sk-toggleable__control:checked~div.sk-toggleable__content {max-height: 200px;max-width: 100%;overflow: auto;}#sk-container-id-1 input.sk-toggleable__control:checked~label.sk-toggleable__label-arrow:before {content: \"▾\";}#sk-container-id-1 div.sk-estimator input.sk-toggleable__control:checked~label.sk-toggleable__label {background-color: #d4ebff;}#sk-container-id-1 div.sk-label input.sk-toggleable__control:checked~label.sk-toggleable__label {background-color: #d4ebff;}#sk-container-id-1 input.sk-hidden--visually {border: 0;clip: rect(1px 1px 1px 1px);clip: rect(1px, 1px, 1px, 1px);height: 1px;margin: -1px;overflow: hidden;padding: 0;position: absolute;width: 1px;}#sk-container-id-1 div.sk-estimator {font-family: monospace;background-color: #f0f8ff;border: 1px dotted black;border-radius: 0.25em;box-sizing: border-box;margin-bottom: 0.5em;}#sk-container-id-1 div.sk-estimator:hover {background-color: #d4ebff;}#sk-container-id-1 div.sk-parallel-item::after {content: \"\";width: 100%;border-bottom: 1px solid gray;flex-grow: 1;}#sk-container-id-1 div.sk-label:hover label.sk-toggleable__label {background-color: #d4ebff;}#sk-container-id-1 div.sk-serial::before {content: \"\";position: absolute;border-left: 1px solid gray;box-sizing: border-box;top: 0;bottom: 0;left: 50%;z-index: 0;}#sk-container-id-1 div.sk-serial {display: flex;flex-direction: column;align-items: center;background-color: white;padding-right: 0.2em;padding-left: 0.2em;position: relative;}#sk-container-id-1 div.sk-item {position: relative;z-index: 1;}#sk-container-id-1 div.sk-parallel {display: flex;align-items: stretch;justify-content: center;background-color: white;position: relative;}#sk-container-id-1 div.sk-item::before, #sk-container-id-1 div.sk-parallel-item::before {content: \"\";position: absolute;border-left: 1px solid gray;box-sizing: border-box;top: 0;bottom: 0;left: 50%;z-index: -1;}#sk-container-id-1 div.sk-parallel-item {display: flex;flex-direction: column;z-index: 1;position: relative;background-color: white;}#sk-container-id-1 div.sk-parallel-item:first-child::after {align-self: flex-end;width: 50%;}#sk-container-id-1 div.sk-parallel-item:last-child::after {align-self: flex-start;width: 50%;}#sk-container-id-1 div.sk-parallel-item:only-child::after {width: 0;}#sk-container-id-1 div.sk-dashed-wrapped {border: 1px dashed gray;margin: 0 0.4em 0.5em 0.4em;box-sizing: border-box;padding-bottom: 0.4em;background-color: white;}#sk-container-id-1 div.sk-label label {font-family: monospace;font-weight: bold;display: inline-block;line-height: 1.2em;}#sk-container-id-1 div.sk-label-container {text-align: center;}#sk-container-id-1 div.sk-container {/* jupyter's `normalize.less` sets `[hidden] { display: none; }` but bootstrap.min.css set `[hidden] { display: none !important; }` so we also need the `!important` here to be able to override the default hidden behavior on the sphinx rendered scikit-learn.org. See: https://github.com/scikit-learn/scikit-learn/issues/21755 */display: inline-block !important;position: relative;}#sk-container-id-1 div.sk-text-repr-fallback {display: none;}</style><div id=\"sk-container-id-1\" class=\"sk-top-container\"><div class=\"sk-text-repr-fallback\"><pre>Pipeline(steps=[(&#x27;scale&#x27;, StandardScaler()),\n",
       "                (&#x27;model&#x27;, GradientBoostingClassifier())])</pre><b>In a Jupyter environment, please rerun this cell to show the HTML representation or trust the notebook. <br />On GitHub, the HTML representation is unable to render, please try loading this page with nbviewer.org.</b></div><div class=\"sk-container\" hidden><div class=\"sk-item sk-dashed-wrapped\"><div class=\"sk-label-container\"><div class=\"sk-label sk-toggleable\"><input class=\"sk-toggleable__control sk-hidden--visually\" id=\"sk-estimator-id-1\" type=\"checkbox\" ><label for=\"sk-estimator-id-1\" class=\"sk-toggleable__label sk-toggleable__label-arrow\">Pipeline</label><div class=\"sk-toggleable__content\"><pre>Pipeline(steps=[(&#x27;scale&#x27;, StandardScaler()),\n",
       "                (&#x27;model&#x27;, GradientBoostingClassifier())])</pre></div></div></div><div class=\"sk-serial\"><div class=\"sk-item\"><div class=\"sk-estimator sk-toggleable\"><input class=\"sk-toggleable__control sk-hidden--visually\" id=\"sk-estimator-id-2\" type=\"checkbox\" ><label for=\"sk-estimator-id-2\" class=\"sk-toggleable__label sk-toggleable__label-arrow\">StandardScaler</label><div class=\"sk-toggleable__content\"><pre>StandardScaler()</pre></div></div></div><div class=\"sk-item\"><div class=\"sk-estimator sk-toggleable\"><input class=\"sk-toggleable__control sk-hidden--visually\" id=\"sk-estimator-id-3\" type=\"checkbox\" ><label for=\"sk-estimator-id-3\" class=\"sk-toggleable__label sk-toggleable__label-arrow\">GradientBoostingClassifier</label><div class=\"sk-toggleable__content\"><pre>GradientBoostingClassifier()</pre></div></div></div></div></div></div></div>"
      ],
      "text/plain": [
       "Pipeline(steps=[('scale', StandardScaler()),\n",
       "                ('model', GradientBoostingClassifier())])"
      ]
     },
     "execution_count": 34,
     "metadata": {},
     "output_type": "execute_result"
    }
   ],
   "source": [
    "model.fit(X_train, y_train.values.ravel())"
   ]
  },
  {
   "cell_type": "code",
   "execution_count": 35,
   "id": "6e15e313",
   "metadata": {
    "execution": {
     "iopub.execute_input": "2025-08-19T18:25:23.955709Z",
     "iopub.status.busy": "2025-08-19T18:25:23.954164Z",
     "iopub.status.idle": "2025-08-19T18:25:24.575826Z",
     "shell.execute_reply": "2025-08-19T18:25:24.574597Z"
    },
    "papermill": {
     "duration": 0.650025,
     "end_time": "2025-08-19T18:25:24.577654",
     "exception": false,
     "start_time": "2025-08-19T18:25:23.927629",
     "status": "completed"
    },
    "tags": []
   },
   "outputs": [
    {
     "data": {
      "text/plain": [
       "0.865622561587337"
      ]
     },
     "execution_count": 35,
     "metadata": {},
     "output_type": "execute_result"
    }
   ],
   "source": [
    "from fairness_multiverse.universe import predict_w_threshold\n",
    "\n",
    "probs_test = model.predict_proba(X_test)\n",
    "\n",
    "'''\n",
    "Below code returns a boolean array (or binary 0/1 array depending on how it’s used) where each element \n",
    "is True if the probability of class 1 is greater than or equal to the threshold, and False otherwise.\n",
    "'''\n",
    "y_pred_default = predict_w_threshold(probs_test, 0.5)\n",
    "\n",
    "from sklearn.metrics import accuracy_score\n",
    "\n",
    "# Naive prediction\n",
    "accuracy_score(y_true = y_true, y_pred = y_pred_default)"
   ]
  },
  {
   "cell_type": "code",
   "execution_count": 36,
   "id": "6f14067c",
   "metadata": {
    "execution": {
     "iopub.execute_input": "2025-08-19T18:25:24.603682Z",
     "iopub.status.busy": "2025-08-19T18:25:24.602755Z",
     "iopub.status.idle": "2025-08-19T18:25:25.179629Z",
     "shell.execute_reply": "2025-08-19T18:25:25.178488Z"
    },
    "papermill": {
     "duration": 0.591594,
     "end_time": "2025-08-19T18:25:25.181138",
     "exception": false,
     "start_time": "2025-08-19T18:25:24.589544",
     "status": "completed"
    },
    "tags": []
   },
   "outputs": [
    {
     "data": {
      "text/plain": [
       "array([0, 0, 0, ..., 0, 0, 0])"
      ]
     },
     "execution_count": 36,
     "metadata": {},
     "output_type": "execute_result"
    }
   ],
   "source": [
    "model.predict(X_test)"
   ]
  },
  {
   "cell_type": "markdown",
   "id": "3759920c",
   "metadata": {
    "papermill": {
     "duration": 0.017029,
     "end_time": "2025-08-19T18:25:25.222125",
     "exception": false,
     "start_time": "2025-08-19T18:25:25.205096",
     "status": "completed"
    },
    "tags": []
   },
   "source": [
    "# Conformal Prediction"
   ]
  },
  {
   "cell_type": "code",
   "execution_count": 37,
   "id": "14b27f59",
   "metadata": {
    "execution": {
     "iopub.execute_input": "2025-08-19T18:25:25.256840Z",
     "iopub.status.busy": "2025-08-19T18:25:25.255827Z",
     "iopub.status.idle": "2025-08-19T18:25:25.263237Z",
     "shell.execute_reply": "2025-08-19T18:25:25.261976Z"
    },
    "papermill": {
     "duration": 0.023362,
     "end_time": "2025-08-19T18:25:25.264917",
     "exception": false,
     "start_time": "2025-08-19T18:25:25.241555",
     "status": "completed"
    },
    "tags": []
   },
   "outputs": [],
   "source": [
    "# Miscoverage level for conformal prediction (10% allowed error rate => 90% target coverage)\n",
    "alpha = 0.1"
   ]
  },
  {
   "cell_type": "code",
   "execution_count": 38,
   "id": "59102472",
   "metadata": {
    "execution": {
     "iopub.execute_input": "2025-08-19T18:25:25.291388Z",
     "iopub.status.busy": "2025-08-19T18:25:25.290139Z",
     "iopub.status.idle": "2025-08-19T18:25:25.842418Z",
     "shell.execute_reply": "2025-08-19T18:25:25.841670Z"
    },
    "papermill": {
     "duration": 0.566959,
     "end_time": "2025-08-19T18:25:25.843851",
     "exception": false,
     "start_time": "2025-08-19T18:25:25.276892",
     "status": "completed"
    },
    "tags": []
   },
   "outputs": [],
   "source": [
    "probs_calib = model.predict_proba(X_calib)"
   ]
  },
  {
   "cell_type": "code",
   "execution_count": 39,
   "id": "a792d4dd",
   "metadata": {
    "execution": {
     "iopub.execute_input": "2025-08-19T18:25:25.871467Z",
     "iopub.status.busy": "2025-08-19T18:25:25.870680Z",
     "iopub.status.idle": "2025-08-19T18:25:25.877717Z",
     "shell.execute_reply": "2025-08-19T18:25:25.876659Z"
    },
    "papermill": {
     "duration": 0.022253,
     "end_time": "2025-08-19T18:25:25.879223",
     "exception": false,
     "start_time": "2025-08-19T18:25:25.856970",
     "status": "completed"
    },
    "tags": []
   },
   "outputs": [],
   "source": [
    "y_calib = y_calib.values.ravel().astype(int)"
   ]
  },
  {
   "cell_type": "code",
   "execution_count": 40,
   "id": "650fd033",
   "metadata": {
    "execution": {
     "iopub.execute_input": "2025-08-19T18:25:25.907875Z",
     "iopub.status.busy": "2025-08-19T18:25:25.906465Z",
     "iopub.status.idle": "2025-08-19T18:25:25.919869Z",
     "shell.execute_reply": "2025-08-19T18:25:25.918683Z"
    },
    "papermill": {
     "duration": 0.028348,
     "end_time": "2025-08-19T18:25:25.922444",
     "exception": false,
     "start_time": "2025-08-19T18:25:25.894096",
     "status": "completed"
    },
    "tags": []
   },
   "outputs": [],
   "source": [
    "from fairness_multiverse.conformal import compute_nc_scores\n",
    "\n",
    "# Compute nonconformity scores on calibration set (1 - probability of true class)\n",
    "nc_scores = compute_nc_scores(probs_calib, y_calib)"
   ]
  },
  {
   "cell_type": "code",
   "execution_count": 41,
   "id": "28ada44c",
   "metadata": {
    "execution": {
     "iopub.execute_input": "2025-08-19T18:25:25.956159Z",
     "iopub.status.busy": "2025-08-19T18:25:25.955129Z",
     "iopub.status.idle": "2025-08-19T18:25:25.968319Z",
     "shell.execute_reply": "2025-08-19T18:25:25.966353Z"
    },
    "papermill": {
     "duration": 0.030087,
     "end_time": "2025-08-19T18:25:25.970441",
     "exception": false,
     "start_time": "2025-08-19T18:25:25.940354",
     "status": "completed"
    },
    "tags": []
   },
   "outputs": [],
   "source": [
    "from fairness_multiverse.conformal import find_threshold\n",
    "\n",
    "# Find conformal threshold q_hat for the given alpha (split conformal method)\n",
    "q_hat = find_threshold(nc_scores, alpha)"
   ]
  },
  {
   "cell_type": "code",
   "execution_count": 42,
   "id": "df56469e",
   "metadata": {
    "execution": {
     "iopub.execute_input": "2025-08-19T18:25:26.002993Z",
     "iopub.status.busy": "2025-08-19T18:25:26.001620Z",
     "iopub.status.idle": "2025-08-19T18:25:26.013978Z",
     "shell.execute_reply": "2025-08-19T18:25:26.012608Z"
    },
    "papermill": {
     "duration": 0.029894,
     "end_time": "2025-08-19T18:25:26.015569",
     "exception": false,
     "start_time": "2025-08-19T18:25:25.985675",
     "status": "completed"
    },
    "tags": []
   },
   "outputs": [
    {
     "data": {
      "text/plain": [
       "0.7094070576131477"
      ]
     },
     "execution_count": 42,
     "metadata": {},
     "output_type": "execute_result"
    }
   ],
   "source": [
    "q_hat"
   ]
  },
  {
   "cell_type": "code",
   "execution_count": 43,
   "id": "aa1f5faa",
   "metadata": {
    "execution": {
     "iopub.execute_input": "2025-08-19T18:25:26.047509Z",
     "iopub.status.busy": "2025-08-19T18:25:26.047053Z",
     "iopub.status.idle": "2025-08-19T18:25:27.032095Z",
     "shell.execute_reply": "2025-08-19T18:25:27.031425Z"
    },
    "papermill": {
     "duration": 1.001576,
     "end_time": "2025-08-19T18:25:27.035194",
     "exception": false,
     "start_time": "2025-08-19T18:25:26.033618",
     "status": "completed"
    },
    "tags": []
   },
   "outputs": [],
   "source": [
    "from fairness_multiverse.conformal import predict_conformal_sets\n",
    "\n",
    "# Generate prediction sets for each test example\n",
    "pred_sets = predict_conformal_sets(model, X_test, q_hat)"
   ]
  },
  {
   "cell_type": "code",
   "execution_count": 44,
   "id": "97f67a6b",
   "metadata": {
    "execution": {
     "iopub.execute_input": "2025-08-19T18:25:27.078644Z",
     "iopub.status.busy": "2025-08-19T18:25:27.077487Z",
     "iopub.status.idle": "2025-08-19T18:25:27.087914Z",
     "shell.execute_reply": "2025-08-19T18:25:27.086278Z"
    },
    "papermill": {
     "duration": 0.027162,
     "end_time": "2025-08-19T18:25:27.089616",
     "exception": false,
     "start_time": "2025-08-19T18:25:27.062454",
     "status": "completed"
    },
    "tags": []
   },
   "outputs": [],
   "source": [
    "y_true = y_true.squeeze()"
   ]
  },
  {
   "cell_type": "code",
   "execution_count": 45,
   "id": "e700e9a7",
   "metadata": {
    "execution": {
     "iopub.execute_input": "2025-08-19T18:25:27.119240Z",
     "iopub.status.busy": "2025-08-19T18:25:27.118201Z",
     "iopub.status.idle": "2025-08-19T18:25:27.617840Z",
     "shell.execute_reply": "2025-08-19T18:25:27.616760Z"
    },
    "papermill": {
     "duration": 0.51534,
     "end_time": "2025-08-19T18:25:27.620665",
     "exception": false,
     "start_time": "2025-08-19T18:25:27.105325",
     "status": "completed"
    },
    "tags": []
   },
   "outputs": [],
   "source": [
    "from fairness_multiverse.conformal import evaluate_sets\n",
    "\n",
    "# Evaluate coverage and average set size on test data\n",
    "metrics = evaluate_sets(pred_sets, y_true)"
   ]
  },
  {
   "cell_type": "markdown",
   "id": "efbacec0",
   "metadata": {
    "papermill": {
     "duration": 0.01299,
     "end_time": "2025-08-19T18:25:27.660669",
     "exception": false,
     "start_time": "2025-08-19T18:25:27.647679",
     "status": "completed"
    },
    "tags": []
   },
   "source": [
    "# CP Metrics"
   ]
  },
  {
   "cell_type": "code",
   "execution_count": 46,
   "id": "9de55fb1",
   "metadata": {
    "execution": {
     "iopub.execute_input": "2025-08-19T18:25:27.686650Z",
     "iopub.status.busy": "2025-08-19T18:25:27.685476Z",
     "iopub.status.idle": "2025-08-19T18:25:27.700284Z",
     "shell.execute_reply": "2025-08-19T18:25:27.698919Z"
    },
    "papermill": {
     "duration": 0.029888,
     "end_time": "2025-08-19T18:25:27.701844",
     "exception": false,
     "start_time": "2025-08-19T18:25:27.671956",
     "status": "completed"
    },
    "tags": []
   },
   "outputs": [
    {
     "data": {
      "text/plain": [
       "{'coverage': 0.9116263515773046, 'avg_size': 1.1283023074350687}"
      ]
     },
     "execution_count": 46,
     "metadata": {},
     "output_type": "execute_result"
    }
   ],
   "source": [
    "metrics"
   ]
  },
  {
   "cell_type": "code",
   "execution_count": 47,
   "id": "64c340a1",
   "metadata": {
    "execution": {
     "iopub.execute_input": "2025-08-19T18:25:27.736715Z",
     "iopub.status.busy": "2025-08-19T18:25:27.735537Z",
     "iopub.status.idle": "2025-08-19T18:25:27.747540Z",
     "shell.execute_reply": "2025-08-19T18:25:27.745911Z"
    },
    "papermill": {
     "duration": 0.028456,
     "end_time": "2025-08-19T18:25:27.749377",
     "exception": false,
     "start_time": "2025-08-19T18:25:27.720921",
     "status": "completed"
    },
    "tags": []
   },
   "outputs": [],
   "source": [
    "example_universe = universe.copy()\n",
    "universe_training_year = example_universe.get(\"training_year\")\n",
    "universe_training_size = example_universe.get(\"training_size\")\n",
    "universe_scale = example_universe.get(\"scale\")\n",
    "universe_model = example_universe.get(\"model\")\n",
    "universe_exclude_features = example_universe.get(\"exclude_features\")\n",
    "universe_exclude_subgroups = example_universe.get(\"exclude_subgroups\")"
   ]
  },
  {
   "cell_type": "code",
   "execution_count": 48,
   "id": "dbb53cb4",
   "metadata": {
    "execution": {
     "iopub.execute_input": "2025-08-19T18:25:27.777699Z",
     "iopub.status.busy": "2025-08-19T18:25:27.776616Z",
     "iopub.status.idle": "2025-08-19T18:25:27.788470Z",
     "shell.execute_reply": "2025-08-19T18:25:27.786827Z"
    },
    "papermill": {
     "duration": 0.026491,
     "end_time": "2025-08-19T18:25:27.790182",
     "exception": false,
     "start_time": "2025-08-19T18:25:27.763691",
     "status": "completed"
    },
    "tags": []
   },
   "outputs": [],
   "source": [
    "cp_metrics_dict = {\n",
    "    \"universe_id\": [universe_id],\n",
    "    \"universe_training_year\": [universe_training_year],\n",
    "    \"universe_training_size\": [universe_training_size],\n",
    "    \"universe_scale\": [universe_scale],\n",
    "    \"universe_model\": [universe_model],\n",
    "    \"universe_exclude_features\": [universe_exclude_features],\n",
    "    \"universe_exclude_subgroups\": [universe_exclude_subgroups],\n",
    "    \"q_hat\": [q_hat],\n",
    "    \"coverage\": [metrics[\"coverage\"]],\n",
    "    \"avg_size\": [metrics[\"avg_size\"]],\n",
    "}"
   ]
  },
  {
   "cell_type": "code",
   "execution_count": 49,
   "id": "0d70d4b2",
   "metadata": {
    "execution": {
     "iopub.execute_input": "2025-08-19T18:25:27.818638Z",
     "iopub.status.busy": "2025-08-19T18:25:27.817525Z",
     "iopub.status.idle": "2025-08-19T18:25:27.830125Z",
     "shell.execute_reply": "2025-08-19T18:25:27.828831Z"
    },
    "papermill": {
     "duration": 0.027335,
     "end_time": "2025-08-19T18:25:27.831718",
     "exception": false,
     "start_time": "2025-08-19T18:25:27.804383",
     "status": "completed"
    },
    "tags": []
   },
   "outputs": [],
   "source": [
    "cp_metrics_df = pd.DataFrame(cp_metrics_dict)"
   ]
  },
  {
   "cell_type": "code",
   "execution_count": 50,
   "id": "b494403c",
   "metadata": {
    "execution": {
     "iopub.execute_input": "2025-08-19T18:25:27.860151Z",
     "iopub.status.busy": "2025-08-19T18:25:27.859204Z",
     "iopub.status.idle": "2025-08-19T18:25:27.884067Z",
     "shell.execute_reply": "2025-08-19T18:25:27.883214Z"
    },
    "papermill": {
     "duration": 0.039852,
     "end_time": "2025-08-19T18:25:27.885900",
     "exception": false,
     "start_time": "2025-08-19T18:25:27.846048",
     "status": "completed"
    },
    "tags": []
   },
   "outputs": [
    {
     "data": {
      "text/html": [
       "<div>\n",
       "<style scoped>\n",
       "    .dataframe tbody tr th:only-of-type {\n",
       "        vertical-align: middle;\n",
       "    }\n",
       "\n",
       "    .dataframe tbody tr th {\n",
       "        vertical-align: top;\n",
       "    }\n",
       "\n",
       "    .dataframe thead th {\n",
       "        text-align: right;\n",
       "    }\n",
       "</style>\n",
       "<table border=\"1\" class=\"dataframe\">\n",
       "  <thead>\n",
       "    <tr style=\"text-align: right;\">\n",
       "      <th></th>\n",
       "      <th>universe_id</th>\n",
       "      <th>universe_training_year</th>\n",
       "      <th>universe_training_size</th>\n",
       "      <th>universe_scale</th>\n",
       "      <th>universe_model</th>\n",
       "      <th>universe_exclude_features</th>\n",
       "      <th>universe_exclude_subgroups</th>\n",
       "      <th>q_hat</th>\n",
       "      <th>coverage</th>\n",
       "      <th>avg_size</th>\n",
       "    </tr>\n",
       "  </thead>\n",
       "  <tbody>\n",
       "    <tr>\n",
       "      <th>0</th>\n",
       "      <td>ff4ce1e8ccdca8471a72f178df8c072b</td>\n",
       "      <td>2014</td>\n",
       "      <td>5k</td>\n",
       "      <td>scale</td>\n",
       "      <td>gbm</td>\n",
       "      <td>nationality</td>\n",
       "      <td>keep-all</td>\n",
       "      <td>0.709407</td>\n",
       "      <td>0.911626</td>\n",
       "      <td>1.128302</td>\n",
       "    </tr>\n",
       "  </tbody>\n",
       "</table>\n",
       "</div>"
      ],
      "text/plain": [
       "                        universe_id universe_training_year  \\\n",
       "0  ff4ce1e8ccdca8471a72f178df8c072b                   2014   \n",
       "\n",
       "  universe_training_size universe_scale universe_model  \\\n",
       "0                     5k          scale            gbm   \n",
       "\n",
       "  universe_exclude_features universe_exclude_subgroups     q_hat  coverage  \\\n",
       "0               nationality                   keep-all  0.709407  0.911626   \n",
       "\n",
       "   avg_size  \n",
       "0  1.128302  "
      ]
     },
     "execution_count": 50,
     "metadata": {},
     "output_type": "execute_result"
    }
   ],
   "source": [
    "cp_metrics_df"
   ]
  },
  {
   "cell_type": "markdown",
   "id": "ed608b0b",
   "metadata": {
    "papermill": {
     "duration": 0.01155,
     "end_time": "2025-08-19T18:25:27.914142",
     "exception": false,
     "start_time": "2025-08-19T18:25:27.902592",
     "status": "completed"
    },
    "tags": []
   },
   "source": [
    "Conditional coverage & looking at subgroups"
   ]
  },
  {
   "cell_type": "code",
   "execution_count": 51,
   "id": "8968c366",
   "metadata": {
    "execution": {
     "iopub.execute_input": "2025-08-19T18:25:27.940548Z",
     "iopub.status.busy": "2025-08-19T18:25:27.938904Z",
     "iopub.status.idle": "2025-08-19T18:25:28.195826Z",
     "shell.execute_reply": "2025-08-19T18:25:28.195141Z"
    },
    "papermill": {
     "duration": 0.271625,
     "end_time": "2025-08-19T18:25:28.197352",
     "exception": false,
     "start_time": "2025-08-19T18:25:27.925727",
     "status": "completed"
    },
    "tags": []
   },
   "outputs": [],
   "source": [
    "from fairness_multiverse.conformal import build_cp_groups\n",
    "\n",
    "cp_groups_df = build_cp_groups(pred_sets, y_true, X_test.index, org_test)"
   ]
  },
  {
   "cell_type": "code",
   "execution_count": 52,
   "id": "292ddabf",
   "metadata": {
    "execution": {
     "iopub.execute_input": "2025-08-19T18:25:28.230818Z",
     "iopub.status.busy": "2025-08-19T18:25:28.229924Z",
     "iopub.status.idle": "2025-08-19T18:25:29.064803Z",
     "shell.execute_reply": "2025-08-19T18:25:29.064000Z"
    },
    "papermill": {
     "duration": 0.854538,
     "end_time": "2025-08-19T18:25:29.067643",
     "exception": false,
     "start_time": "2025-08-19T18:25:28.213105",
     "status": "completed"
    },
    "tags": []
   },
   "outputs": [],
   "source": [
    "# Define covered = 1 if true_label is in the predicted set\n",
    "cp_groups_df['covered'] = cp_groups_df.apply(\n",
    "    lambda r: int(r['true_label'] in r['pred_set']),\n",
    "    axis=1\n",
    ")"
   ]
  },
  {
   "cell_type": "code",
   "execution_count": 53,
   "id": "3a261692",
   "metadata": {
    "execution": {
     "iopub.execute_input": "2025-08-19T18:25:29.113208Z",
     "iopub.status.busy": "2025-08-19T18:25:29.111662Z",
     "iopub.status.idle": "2025-08-19T18:25:29.134135Z",
     "shell.execute_reply": "2025-08-19T18:25:29.133265Z"
    },
    "papermill": {
     "duration": 0.040353,
     "end_time": "2025-08-19T18:25:29.136339",
     "exception": false,
     "start_time": "2025-08-19T18:25:29.095986",
     "status": "completed"
    },
    "tags": []
   },
   "outputs": [],
   "source": [
    "subgroups = ['frau1','nongerman','nongerman_male','nongerman_female']\n",
    "\n",
    "# Conditional coverage for subgroup==1\n",
    "cond_coverage = {\n",
    "    g: cp_groups_df.loc[cp_groups_df[g]==1, 'covered'].mean()\n",
    "    for g in subgroups\n",
    "}"
   ]
  },
  {
   "cell_type": "code",
   "execution_count": 54,
   "id": "894fd600",
   "metadata": {
    "execution": {
     "iopub.execute_input": "2025-08-19T18:25:29.172354Z",
     "iopub.status.busy": "2025-08-19T18:25:29.171340Z",
     "iopub.status.idle": "2025-08-19T18:25:29.183987Z",
     "shell.execute_reply": "2025-08-19T18:25:29.182678Z"
    },
    "papermill": {
     "duration": 0.028872,
     "end_time": "2025-08-19T18:25:29.185594",
     "exception": false,
     "start_time": "2025-08-19T18:25:29.156722",
     "status": "completed"
    },
    "tags": []
   },
   "outputs": [
    {
     "data": {
      "text/plain": [
       "{'frau1': 0.9083973581345195,\n",
       " 'nongerman': 0.9100656823668107,\n",
       " 'nongerman_male': 0.9265964153832298,\n",
       " 'nongerman_female': 0.8827123695976155}"
      ]
     },
     "execution_count": 54,
     "metadata": {},
     "output_type": "execute_result"
    }
   ],
   "source": [
    "cond_coverage"
   ]
  },
  {
   "cell_type": "code",
   "execution_count": 55,
   "id": "942895c7",
   "metadata": {
    "execution": {
     "iopub.execute_input": "2025-08-19T18:25:29.217443Z",
     "iopub.status.busy": "2025-08-19T18:25:29.215905Z",
     "iopub.status.idle": "2025-08-19T18:25:29.229621Z",
     "shell.execute_reply": "2025-08-19T18:25:29.227881Z"
    },
    "papermill": {
     "duration": 0.029991,
     "end_time": "2025-08-19T18:25:29.231536",
     "exception": false,
     "start_time": "2025-08-19T18:25:29.201545",
     "status": "completed"
    },
    "tags": []
   },
   "outputs": [],
   "source": [
    "for subgroup, cov in cond_coverage.items():\n",
    "    cp_metrics_df[f\"cov_{subgroup}\"] = cov"
   ]
  },
  {
   "cell_type": "code",
   "execution_count": 56,
   "id": "3970120f",
   "metadata": {
    "execution": {
     "iopub.execute_input": "2025-08-19T18:25:29.266431Z",
     "iopub.status.busy": "2025-08-19T18:25:29.265332Z",
     "iopub.status.idle": "2025-08-19T18:25:29.293434Z",
     "shell.execute_reply": "2025-08-19T18:25:29.292514Z"
    },
    "papermill": {
     "duration": 0.044907,
     "end_time": "2025-08-19T18:25:29.295701",
     "exception": false,
     "start_time": "2025-08-19T18:25:29.250794",
     "status": "completed"
    },
    "tags": []
   },
   "outputs": [
    {
     "data": {
      "text/html": [
       "<div>\n",
       "<style scoped>\n",
       "    .dataframe tbody tr th:only-of-type {\n",
       "        vertical-align: middle;\n",
       "    }\n",
       "\n",
       "    .dataframe tbody tr th {\n",
       "        vertical-align: top;\n",
       "    }\n",
       "\n",
       "    .dataframe thead th {\n",
       "        text-align: right;\n",
       "    }\n",
       "</style>\n",
       "<table border=\"1\" class=\"dataframe\">\n",
       "  <thead>\n",
       "    <tr style=\"text-align: right;\">\n",
       "      <th></th>\n",
       "      <th>universe_id</th>\n",
       "      <th>universe_training_year</th>\n",
       "      <th>universe_training_size</th>\n",
       "      <th>universe_scale</th>\n",
       "      <th>universe_model</th>\n",
       "      <th>universe_exclude_features</th>\n",
       "      <th>universe_exclude_subgroups</th>\n",
       "      <th>q_hat</th>\n",
       "      <th>coverage</th>\n",
       "      <th>avg_size</th>\n",
       "      <th>cov_frau1</th>\n",
       "      <th>cov_nongerman</th>\n",
       "      <th>cov_nongerman_male</th>\n",
       "      <th>cov_nongerman_female</th>\n",
       "    </tr>\n",
       "  </thead>\n",
       "  <tbody>\n",
       "    <tr>\n",
       "      <th>0</th>\n",
       "      <td>ff4ce1e8ccdca8471a72f178df8c072b</td>\n",
       "      <td>2014</td>\n",
       "      <td>5k</td>\n",
       "      <td>scale</td>\n",
       "      <td>gbm</td>\n",
       "      <td>nationality</td>\n",
       "      <td>keep-all</td>\n",
       "      <td>0.709407</td>\n",
       "      <td>0.911626</td>\n",
       "      <td>1.128302</td>\n",
       "      <td>0.908397</td>\n",
       "      <td>0.910066</td>\n",
       "      <td>0.926596</td>\n",
       "      <td>0.882712</td>\n",
       "    </tr>\n",
       "  </tbody>\n",
       "</table>\n",
       "</div>"
      ],
      "text/plain": [
       "                        universe_id universe_training_year  \\\n",
       "0  ff4ce1e8ccdca8471a72f178df8c072b                   2014   \n",
       "\n",
       "  universe_training_size universe_scale universe_model  \\\n",
       "0                     5k          scale            gbm   \n",
       "\n",
       "  universe_exclude_features universe_exclude_subgroups     q_hat  coverage  \\\n",
       "0               nationality                   keep-all  0.709407  0.911626   \n",
       "\n",
       "   avg_size  cov_frau1  cov_nongerman  cov_nongerman_male  \\\n",
       "0  1.128302   0.908397       0.910066            0.926596   \n",
       "\n",
       "   cov_nongerman_female  \n",
       "0              0.882712  "
      ]
     },
     "execution_count": 56,
     "metadata": {},
     "output_type": "execute_result"
    }
   ],
   "source": [
    "cp_metrics_df"
   ]
  },
  {
   "cell_type": "markdown",
   "id": "3fc519cc",
   "metadata": {
    "papermill": {
     "duration": 0.013605,
     "end_time": "2025-08-19T18:25:29.333053",
     "exception": false,
     "start_time": "2025-08-19T18:25:29.319448",
     "status": "completed"
    },
    "tags": []
   },
   "source": [
    "# (Fairness) Metrics"
   ]
  },
  {
   "cell_type": "code",
   "execution_count": 57,
   "id": "a2e5e155",
   "metadata": {
    "execution": {
     "iopub.execute_input": "2025-08-19T18:25:29.360694Z",
     "iopub.status.busy": "2025-08-19T18:25:29.359639Z",
     "iopub.status.idle": "2025-08-19T18:25:29.390045Z",
     "shell.execute_reply": "2025-08-19T18:25:29.389235Z"
    },
    "papermill": {
     "duration": 0.047366,
     "end_time": "2025-08-19T18:25:29.392960",
     "exception": false,
     "start_time": "2025-08-19T18:25:29.345594",
     "status": "completed"
    },
    "tags": []
   },
   "outputs": [],
   "source": [
    "colname_to_bin = \"maxdeutsch1\"\n",
    "majority_value = org_train[colname_to_bin].mode()[0]\n",
    "\n",
    "org_test[\"majmin\"] = np.where(org_test[colname_to_bin] == majority_value, \"majority\", \"minority\")"
   ]
  },
  {
   "cell_type": "code",
   "execution_count": 58,
   "id": "17e3e4d5",
   "metadata": {
    "execution": {
     "iopub.execute_input": "2025-08-19T18:25:29.437383Z",
     "iopub.status.busy": "2025-08-19T18:25:29.436062Z",
     "iopub.status.idle": "2025-08-19T18:25:31.127262Z",
     "shell.execute_reply": "2025-08-19T18:25:31.126245Z"
    },
    "papermill": {
     "duration": 1.708627,
     "end_time": "2025-08-19T18:25:31.128863",
     "exception": false,
     "start_time": "2025-08-19T18:25:29.420236",
     "status": "completed"
    },
    "tags": []
   },
   "outputs": [],
   "source": [
    "example_universe = universe.copy()\n",
    "example_universe[\"cutoff\"] = example_universe[\"cutoff\"][0]\n",
    "example_universe[\"eval_fairness_grouping\"] = example_universe[\"eval_fairness_grouping\"][0]\n",
    "fairness_dict, metric_frame = universe_analysis.compute_metrics(\n",
    "    example_universe,\n",
    "    y_pred_prob=probs_test,\n",
    "    y_test=y_true,\n",
    "    org_test=org_test,\n",
    ")"
   ]
  },
  {
   "cell_type": "markdown",
   "id": "1fb7a0e9",
   "metadata": {
    "papermill": {
     "duration": 0.016743,
     "end_time": "2025-08-19T18:25:31.161965",
     "exception": false,
     "start_time": "2025-08-19T18:25:31.145222",
     "status": "completed"
    },
    "tags": []
   },
   "source": [
    "# Overall"
   ]
  },
  {
   "cell_type": "markdown",
   "id": "be1784b1",
   "metadata": {
    "papermill": {
     "duration": 0.012199,
     "end_time": "2025-08-19T18:25:31.186700",
     "exception": false,
     "start_time": "2025-08-19T18:25:31.174501",
     "status": "completed"
    },
    "tags": []
   },
   "source": [
    "Main fairness target: Equalized Odds. Seems to be a better fit than equal opportunity, since we're not only interested in Y = 1. Seems to be a better fit than demographic parity, since we also care about accuracy, not just equal distribution of preds.\n",
    "\n",
    "Pick column for computation of fairness metrics\n",
    "\n",
    "Performance\n",
    "Overall performance measures, most interesting in relation to the measures split by group below"
   ]
  },
  {
   "cell_type": "code",
   "execution_count": 59,
   "id": "b7672bee",
   "metadata": {
    "execution": {
     "iopub.execute_input": "2025-08-19T18:25:31.212791Z",
     "iopub.status.busy": "2025-08-19T18:25:31.212310Z",
     "iopub.status.idle": "2025-08-19T18:25:31.220447Z",
     "shell.execute_reply": "2025-08-19T18:25:31.219802Z"
    },
    "papermill": {
     "duration": 0.02391,
     "end_time": "2025-08-19T18:25:31.222710",
     "exception": false,
     "start_time": "2025-08-19T18:25:31.198800",
     "status": "completed"
    },
    "tags": []
   },
   "outputs": [
    {
     "data": {
      "text/plain": [
       "accuracy                   0.224891\n",
       "balanced accuracy          0.549782\n",
       "f1                         0.246209\n",
       "precision                  0.140651\n",
       "false positive rate        0.887228\n",
       "false negative rate        0.013208\n",
       "selection rate             0.900000\n",
       "count                  89710.000000\n",
       "dtype: float64"
      ]
     },
     "execution_count": 59,
     "metadata": {},
     "output_type": "execute_result"
    }
   ],
   "source": [
    "metric_frame.overall"
   ]
  },
  {
   "cell_type": "markdown",
   "id": "d93333c9",
   "metadata": {
    "papermill": {
     "duration": 0.013816,
     "end_time": "2025-08-19T18:25:31.262964",
     "exception": false,
     "start_time": "2025-08-19T18:25:31.249148",
     "status": "completed"
    },
    "tags": []
   },
   "source": [
    "By Group"
   ]
  },
  {
   "cell_type": "code",
   "execution_count": 60,
   "id": "52256966",
   "metadata": {
    "execution": {
     "iopub.execute_input": "2025-08-19T18:25:31.289285Z",
     "iopub.status.busy": "2025-08-19T18:25:31.288887Z",
     "iopub.status.idle": "2025-08-19T18:25:31.305306Z",
     "shell.execute_reply": "2025-08-19T18:25:31.304621Z"
    },
    "papermill": {
     "duration": 0.034788,
     "end_time": "2025-08-19T18:25:31.310353",
     "exception": false,
     "start_time": "2025-08-19T18:25:31.275565",
     "status": "completed"
    },
    "tags": []
   },
   "outputs": [
    {
     "data": {
      "text/html": [
       "<div>\n",
       "<style scoped>\n",
       "    .dataframe tbody tr th:only-of-type {\n",
       "        vertical-align: middle;\n",
       "    }\n",
       "\n",
       "    .dataframe tbody tr th {\n",
       "        vertical-align: top;\n",
       "    }\n",
       "\n",
       "    .dataframe thead th {\n",
       "        text-align: right;\n",
       "    }\n",
       "</style>\n",
       "<table border=\"1\" class=\"dataframe\">\n",
       "  <thead>\n",
       "    <tr style=\"text-align: right;\">\n",
       "      <th></th>\n",
       "      <th>accuracy</th>\n",
       "      <th>balanced accuracy</th>\n",
       "      <th>f1</th>\n",
       "      <th>precision</th>\n",
       "      <th>false positive rate</th>\n",
       "      <th>false negative rate</th>\n",
       "      <th>selection rate</th>\n",
       "      <th>count</th>\n",
       "    </tr>\n",
       "    <tr>\n",
       "      <th>majmin</th>\n",
       "      <th></th>\n",
       "      <th></th>\n",
       "      <th></th>\n",
       "      <th></th>\n",
       "      <th></th>\n",
       "      <th></th>\n",
       "      <th></th>\n",
       "      <th></th>\n",
       "    </tr>\n",
       "  </thead>\n",
       "  <tbody>\n",
       "    <tr>\n",
       "      <th>majority</th>\n",
       "      <td>0.246523</td>\n",
       "      <td>0.559315</td>\n",
       "      <td>0.256668</td>\n",
       "      <td>0.147571</td>\n",
       "      <td>0.865834</td>\n",
       "      <td>0.015536</td>\n",
       "      <td>0.881509</td>\n",
       "      <td>69170.0</td>\n",
       "    </tr>\n",
       "    <tr>\n",
       "      <th>minority</th>\n",
       "      <td>0.152045</td>\n",
       "      <td>0.518937</td>\n",
       "      <td>0.213075</td>\n",
       "      <td>0.119302</td>\n",
       "      <td>0.957902</td>\n",
       "      <td>0.004223</td>\n",
       "      <td>0.962269</td>\n",
       "      <td>20540.0</td>\n",
       "    </tr>\n",
       "  </tbody>\n",
       "</table>\n",
       "</div>"
      ],
      "text/plain": [
       "          accuracy  balanced accuracy        f1  precision  \\\n",
       "majmin                                                       \n",
       "majority  0.246523           0.559315  0.256668   0.147571   \n",
       "minority  0.152045           0.518937  0.213075   0.119302   \n",
       "\n",
       "          false positive rate  false negative rate  selection rate    count  \n",
       "majmin                                                                       \n",
       "majority             0.865834             0.015536        0.881509  69170.0  \n",
       "minority             0.957902             0.004223        0.962269  20540.0  "
      ]
     },
     "execution_count": 60,
     "metadata": {},
     "output_type": "execute_result"
    }
   ],
   "source": [
    "metric_frame.by_group"
   ]
  },
  {
   "cell_type": "code",
   "execution_count": 61,
   "id": "6e6c20ae",
   "metadata": {
    "execution": {
     "iopub.execute_input": "2025-08-19T18:25:31.356310Z",
     "iopub.status.busy": "2025-08-19T18:25:31.355931Z",
     "iopub.status.idle": "2025-08-19T18:25:33.309960Z",
     "shell.execute_reply": "2025-08-19T18:25:33.305929Z"
    },
    "papermill": {
     "duration": 1.969304,
     "end_time": "2025-08-19T18:25:33.311643",
     "exception": false,
     "start_time": "2025-08-19T18:25:31.342339",
     "status": "completed"
    },
    "tags": []
   },
   "outputs": [
    {
     "data": {
      "text/plain": [
       "array([[<Axes: title={'center': 'accuracy'}, xlabel='majmin'>,\n",
       "        <Axes: title={'center': 'balanced accuracy'}, xlabel='majmin'>,\n",
       "        <Axes: title={'center': 'f1'}, xlabel='majmin'>],\n",
       "       [<Axes: title={'center': 'precision'}, xlabel='majmin'>,\n",
       "        <Axes: title={'center': 'false positive rate'}, xlabel='majmin'>,\n",
       "        <Axes: title={'center': 'false negative rate'}, xlabel='majmin'>],\n",
       "       [<Axes: title={'center': 'selection rate'}, xlabel='majmin'>,\n",
       "        <Axes: title={'center': 'count'}, xlabel='majmin'>,\n",
       "        <Axes: xlabel='majmin'>]], dtype=object)"
      ]
     },
     "execution_count": 61,
     "metadata": {},
     "output_type": "execute_result"
    },
    {
     "data": {
      "image/png": "[encoded data removed]",
      "text/plain": [
       "<Figure size 1200x800 with 9 Axes>"
      ]
     },
     "metadata": {},
     "output_type": "display_data"
    }
   ],
   "source": [
    "# In a graphic\n",
    "metric_frame.by_group.plot.bar(\n",
    "    subplots=True,\n",
    "    layout=[3, 3],\n",
    "    legend=False,\n",
    "    figsize=[12, 8],\n",
    "    title=\"Show all metrics\",\n",
    ")"
   ]
  },
  {
   "cell_type": "markdown",
   "id": "b2e433ae",
   "metadata": {
    "papermill": {
     "duration": 0.013497,
     "end_time": "2025-08-19T18:25:33.342028",
     "exception": false,
     "start_time": "2025-08-19T18:25:33.328531",
     "status": "completed"
    },
    "tags": []
   },
   "source": [
    "# Final Output"
   ]
  },
  {
   "cell_type": "code",
   "execution_count": 62,
   "id": "3871301e",
   "metadata": {
    "execution": {
     "iopub.execute_input": "2025-08-19T18:25:33.377319Z",
     "iopub.status.busy": "2025-08-19T18:25:33.372206Z",
     "iopub.status.idle": "2025-08-19T18:25:33.401461Z",
     "shell.execute_reply": "2025-08-19T18:25:33.400496Z"
    },
    "papermill": {
     "duration": 0.0478,
     "end_time": "2025-08-19T18:25:33.403316",
     "exception": false,
     "start_time": "2025-08-19T18:25:33.355516",
     "status": "completed"
    },
    "tags": []
   },
   "outputs": [
    {
     "data": {
      "text/plain": [
       "4"
      ]
     },
     "execution_count": 62,
     "metadata": {},
     "output_type": "execute_result"
    }
   ],
   "source": [
    "sub_universes = universe_analysis.generate_sub_universes()\n",
    "len(sub_universes)"
   ]
  },
  {
   "cell_type": "code",
   "execution_count": 63,
   "id": "d9cfdaca",
   "metadata": {
    "execution": {
     "iopub.execute_input": "2025-08-19T18:25:33.446944Z",
     "iopub.status.busy": "2025-08-19T18:25:33.445634Z",
     "iopub.status.idle": "2025-08-19T18:25:33.455342Z",
     "shell.execute_reply": "2025-08-19T18:25:33.454041Z"
    },
    "papermill": {
     "duration": 0.027868,
     "end_time": "2025-08-19T18:25:33.457068",
     "exception": false,
     "start_time": "2025-08-19T18:25:33.429200",
     "status": "completed"
    },
    "tags": []
   },
   "outputs": [],
   "source": [
    "def filter_sub_universe_data(sub_universe, org_test):\n",
    "    # Keep all rows — no filtering\n",
    "    keep_rows_mask = np.ones(org_test.shape[0], dtype=bool)\n",
    "\n",
    "    print(f\"[INFO] Keeping all rows: {keep_rows_mask.sum()} rows retained.\")\n",
    "    return keep_rows_mask"
   ]
  },
  {
   "cell_type": "code",
   "execution_count": 64,
   "id": "2bc31ac1",
   "metadata": {
    "execution": {
     "iopub.execute_input": "2025-08-19T18:25:33.490175Z",
     "iopub.status.busy": "2025-08-19T18:25:33.488931Z",
     "iopub.status.idle": "2025-08-19T18:25:40.299560Z",
     "shell.execute_reply": "2025-08-19T18:25:40.298476Z"
    },
    "papermill": {
     "duration": 6.827446,
     "end_time": "2025-08-19T18:25:40.300995",
     "exception": false,
     "start_time": "2025-08-19T18:25:33.473549",
     "status": "completed"
    },
    "tags": []
   },
   "outputs": [
    {
     "name": "stdout",
     "output_type": "stream",
     "text": [
      "Stopping execution_time clock.\n",
      "[INFO] Keeping all rows: 89710 rows retained.\n"
     ]
    },
    {
     "name": "stdout",
     "output_type": "stream",
     "text": [
      "[INFO] Keeping all rows: 89710 rows retained.\n"
     ]
    },
    {
     "name": "stdout",
     "output_type": "stream",
     "text": [
      "[INFO] Keeping all rows: 89710 rows retained.\n"
     ]
    },
    {
     "name": "stdout",
     "output_type": "stream",
     "text": [
      "[INFO] Keeping all rows: 89710 rows retained.\n"
     ]
    },
    {
     "data": {
      "text/html": [
       "<div>\n",
       "<style scoped>\n",
       "    .dataframe tbody tr th:only-of-type {\n",
       "        vertical-align: middle;\n",
       "    }\n",
       "\n",
       "    .dataframe tbody tr th {\n",
       "        vertical-align: top;\n",
       "    }\n",
       "\n",
       "    .dataframe thead th {\n",
       "        text-align: right;\n",
       "    }\n",
       "</style>\n",
       "<table border=\"1\" class=\"dataframe\">\n",
       "  <thead>\n",
       "    <tr style=\"text-align: right;\">\n",
       "      <th></th>\n",
       "      <th>run_no</th>\n",
       "      <th>universe_id</th>\n",
       "      <th>universe_settings</th>\n",
       "      <th>execution_time</th>\n",
       "      <th>test_size_n</th>\n",
       "      <th>test_size_frac</th>\n",
       "      <th>fair_main_equalized_odds_difference</th>\n",
       "      <th>fair_main_equalized_odds_ratio</th>\n",
       "      <th>fair_main_demographic_parity_difference</th>\n",
       "      <th>fair_main_demographic_parity_ratio</th>\n",
       "      <th>...</th>\n",
       "      <th>perf_grp_precision_0</th>\n",
       "      <th>perf_grp_precision_1</th>\n",
       "      <th>perf_grp_false positive rate_0</th>\n",
       "      <th>perf_grp_false positive rate_1</th>\n",
       "      <th>perf_grp_false negative rate_0</th>\n",
       "      <th>perf_grp_false negative rate_1</th>\n",
       "      <th>perf_grp_selection rate_0</th>\n",
       "      <th>perf_grp_selection rate_1</th>\n",
       "      <th>perf_grp_count_0</th>\n",
       "      <th>perf_grp_count_1</th>\n",
       "    </tr>\n",
       "  </thead>\n",
       "  <tbody>\n",
       "    <tr>\n",
       "      <th>0</th>\n",
       "      <td>3</td>\n",
       "      <td>ff4ce1e8ccdca8471a72f178df8c072b</td>\n",
       "      <td>{\"cutoff\": \"quantile_0.1\", \"eval_fairness_grou...</td>\n",
       "      <td>26.399779</td>\n",
       "      <td>89710</td>\n",
       "      <td>1.0</td>\n",
       "      <td>0.092069</td>\n",
       "      <td>0.903885</td>\n",
       "      <td>0.080759</td>\n",
       "      <td>0.916074</td>\n",
       "      <td>...</td>\n",
       "      <td>NaN</td>\n",
       "      <td>NaN</td>\n",
       "      <td>NaN</td>\n",
       "      <td>NaN</td>\n",
       "      <td>NaN</td>\n",
       "      <td>NaN</td>\n",
       "      <td>NaN</td>\n",
       "      <td>NaN</td>\n",
       "      <td>NaN</td>\n",
       "      <td>NaN</td>\n",
       "    </tr>\n",
       "    <tr>\n",
       "      <th>0</th>\n",
       "      <td>3</td>\n",
       "      <td>ff4ce1e8ccdca8471a72f178df8c072b</td>\n",
       "      <td>{\"cutoff\": \"quantile_0.1\", \"eval_fairness_grou...</td>\n",
       "      <td>26.399779</td>\n",
       "      <td>89710</td>\n",
       "      <td>1.0</td>\n",
       "      <td>0.092069</td>\n",
       "      <td>0.903885</td>\n",
       "      <td>0.080759</td>\n",
       "      <td>0.916074</td>\n",
       "      <td>...</td>\n",
       "      <td>0.119302</td>\n",
       "      <td>0.147571</td>\n",
       "      <td>0.957902</td>\n",
       "      <td>0.865834</td>\n",
       "      <td>0.004223</td>\n",
       "      <td>0.015536</td>\n",
       "      <td>0.962269</td>\n",
       "      <td>0.881509</td>\n",
       "      <td>20540.0</td>\n",
       "      <td>69170.0</td>\n",
       "    </tr>\n",
       "    <tr>\n",
       "      <th>0</th>\n",
       "      <td>3</td>\n",
       "      <td>ff4ce1e8ccdca8471a72f178df8c072b</td>\n",
       "      <td>{\"cutoff\": \"quantile_0.25\", \"eval_fairness_gro...</td>\n",
       "      <td>26.399779</td>\n",
       "      <td>89710</td>\n",
       "      <td>1.0</td>\n",
       "      <td>0.086467</td>\n",
       "      <td>0.890411</td>\n",
       "      <td>0.072157</td>\n",
       "      <td>0.910560</td>\n",
       "      <td>...</td>\n",
       "      <td>NaN</td>\n",
       "      <td>NaN</td>\n",
       "      <td>NaN</td>\n",
       "      <td>NaN</td>\n",
       "      <td>NaN</td>\n",
       "      <td>NaN</td>\n",
       "      <td>NaN</td>\n",
       "      <td>NaN</td>\n",
       "      <td>NaN</td>\n",
       "      <td>NaN</td>\n",
       "    </tr>\n",
       "    <tr>\n",
       "      <th>0</th>\n",
       "      <td>3</td>\n",
       "      <td>ff4ce1e8ccdca8471a72f178df8c072b</td>\n",
       "      <td>{\"cutoff\": \"quantile_0.25\", \"eval_fairness_gro...</td>\n",
       "      <td>26.399779</td>\n",
       "      <td>89710</td>\n",
       "      <td>1.0</td>\n",
       "      <td>0.086467</td>\n",
       "      <td>0.890411</td>\n",
       "      <td>0.072157</td>\n",
       "      <td>0.910560</td>\n",
       "      <td>...</td>\n",
       "      <td>0.134753</td>\n",
       "      <td>0.170016</td>\n",
       "      <td>0.789016</td>\n",
       "      <td>0.702549</td>\n",
       "      <td>0.057010</td>\n",
       "      <td>0.054814</td>\n",
       "      <td>0.806767</td>\n",
       "      <td>0.734610</td>\n",
       "      <td>20540.0</td>\n",
       "      <td>69170.0</td>\n",
       "    </tr>\n",
       "  </tbody>\n",
       "</table>\n",
       "<p>4 rows × 50 columns</p>\n",
       "</div>"
      ],
      "text/plain": [
       "  run_no                       universe_id  \\\n",
       "0      3  ff4ce1e8ccdca8471a72f178df8c072b   \n",
       "0      3  ff4ce1e8ccdca8471a72f178df8c072b   \n",
       "0      3  ff4ce1e8ccdca8471a72f178df8c072b   \n",
       "0      3  ff4ce1e8ccdca8471a72f178df8c072b   \n",
       "\n",
       "                                   universe_settings  execution_time  \\\n",
       "0  {\"cutoff\": \"quantile_0.1\", \"eval_fairness_grou...       26.399779   \n",
       "0  {\"cutoff\": \"quantile_0.1\", \"eval_fairness_grou...       26.399779   \n",
       "0  {\"cutoff\": \"quantile_0.25\", \"eval_fairness_gro...       26.399779   \n",
       "0  {\"cutoff\": \"quantile_0.25\", \"eval_fairness_gro...       26.399779   \n",
       "\n",
       "   test_size_n  test_size_frac  fair_main_equalized_odds_difference  \\\n",
       "0        89710             1.0                             0.092069   \n",
       "0        89710             1.0                             0.092069   \n",
       "0        89710             1.0                             0.086467   \n",
       "0        89710             1.0                             0.086467   \n",
       "\n",
       "   fair_main_equalized_odds_ratio  fair_main_demographic_parity_difference  \\\n",
       "0                        0.903885                                 0.080759   \n",
       "0                        0.903885                                 0.080759   \n",
       "0                        0.890411                                 0.072157   \n",
       "0                        0.890411                                 0.072157   \n",
       "\n",
       "   fair_main_demographic_parity_ratio  ...  perf_grp_precision_0  \\\n",
       "0                            0.916074  ...                   NaN   \n",
       "0                            0.916074  ...              0.119302   \n",
       "0                            0.910560  ...                   NaN   \n",
       "0                            0.910560  ...              0.134753   \n",
       "\n",
       "   perf_grp_precision_1  perf_grp_false positive rate_0  \\\n",
       "0                   NaN                             NaN   \n",
       "0              0.147571                        0.957902   \n",
       "0                   NaN                             NaN   \n",
       "0              0.170016                        0.789016   \n",
       "\n",
       "   perf_grp_false positive rate_1  perf_grp_false negative rate_0  \\\n",
       "0                             NaN                             NaN   \n",
       "0                        0.865834                        0.004223   \n",
       "0                             NaN                             NaN   \n",
       "0                        0.702549                        0.057010   \n",
       "\n",
       "   perf_grp_false negative rate_1  perf_grp_selection rate_0  \\\n",
       "0                             NaN                        NaN   \n",
       "0                        0.015536                   0.962269   \n",
       "0                             NaN                        NaN   \n",
       "0                        0.054814                   0.806767   \n",
       "\n",
       "   perf_grp_selection rate_1  perf_grp_count_0  perf_grp_count_1  \n",
       "0                        NaN               NaN               NaN  \n",
       "0                   0.881509           20540.0           69170.0  \n",
       "0                        NaN               NaN               NaN  \n",
       "0                   0.734610           20540.0           69170.0  \n",
       "\n",
       "[4 rows x 50 columns]"
      ]
     },
     "execution_count": 64,
     "metadata": {},
     "output_type": "execute_result"
    }
   ],
   "source": [
    "final_output = universe_analysis.generate_final_output(\n",
    "    y_pred_prob=probs_test,\n",
    "    y_test=y_true,\n",
    "    org_test=org_test,\n",
    "    filter_data=filter_sub_universe_data,\n",
    "    cp_metrics_df=cp_metrics_df,\n",
    "    save=True,\n",
    ")\n",
    "final_output"
   ]
  },
  {
   "cell_type": "code",
   "execution_count": null,
   "id": "8b80a1ff",
   "metadata": {
    "papermill": {
     "duration": 0.014241,
     "end_time": "2025-08-19T18:25:40.336132",
     "exception": false,
     "start_time": "2025-08-19T18:25:40.321891",
     "status": "completed"
    },
    "tags": []
   },
   "outputs": [],
   "source": []
  },
  {
   "cell_type": "code",
   "execution_count": null,
   "id": "275c9fad",
   "metadata": {
    "papermill": {
     "duration": 0.014058,
     "end_time": "2025-08-19T18:25:40.364348",
     "exception": false,
     "start_time": "2025-08-19T18:25:40.350290",
     "status": "completed"
    },
    "tags": []
   },
   "outputs": [],
   "source": []
  }
 ],
 "metadata": {
  "celltoolbar": "Tags",
  "kernelspec": {
   "display_name": "Python (CMA Fairness)",
   "language": "python",
   "name": "cma_fair_env"
  },
  "language_info": {
   "codemirror_mode": {
    "name": "ipython",
    "version": 3
   },
   "file_extension": ".py",
   "mimetype": "text/x-python",
   "name": "python",
   "nbconvert_exporter": "python",
   "pygments_lexer": "ipython3",
   "version": "3.10.12"
  },
  "papermill": {
   "default_parameters": {},
   "duration": 37.27292,
   "end_time": "2025-08-19T18:25:41.299578",
   "environment_variables": {},
   "exception": null,
   "input_path": "universe_analysis.ipynb",
   "output_path": "output/runs/3/notebooks/m_3-ff4ce1e8ccdca8471a72f178df8c072b.ipynb",
   "parameters": {
    "output_dir": "output",
    "run_no": "3",
    "seed": "2023",
    "universe": "{\"cutoff\": [\"quantile_0.1\", \"quantile_0.25\"], \"eval_fairness_grouping\": [\"majority-minority\", \"nationality-all\"], \"exclude_features\": \"nationality\", \"exclude_subgroups\": \"keep-all\", \"model\": \"gbm\", \"scale\": \"scale\", \"training_size\": \"5k\", \"training_year\": \"2014\"}",
    "universe_id": "ff4ce1e8ccdca8471a72f178df8c072b"
   },
   "start_time": "2025-08-19T18:25:04.026658",
   "version": "2.6.0"
  }
 },
 "nbformat": 4,
 "nbformat_minor": 5
}