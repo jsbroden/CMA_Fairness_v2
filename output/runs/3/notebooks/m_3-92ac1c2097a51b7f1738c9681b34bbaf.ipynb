{
 "cells": [
  {
   "cell_type": "markdown",
   "id": "ef23dbb3",
   "metadata": {
    "papermill": {
     "duration": 0.021681,
     "end_time": "2025-08-19T18:59:13.547560",
     "exception": false,
     "start_time": "2025-08-19T18:59:13.525879",
     "status": "completed"
    },
    "tags": []
   },
   "source": [
    "# Setup"
   ]
  },
  {
   "cell_type": "code",
   "execution_count": 1,
   "id": "0bc8e7dc",
   "metadata": {
    "execution": {
     "iopub.execute_input": "2025-08-19T18:59:13.569612Z",
     "iopub.status.busy": "2025-08-19T18:59:13.569305Z",
     "iopub.status.idle": "2025-08-19T18:59:13.581949Z",
     "shell.execute_reply": "2025-08-19T18:59:13.580927Z"
    },
    "papermill": {
     "duration": 0.030935,
     "end_time": "2025-08-19T18:59:13.590404",
     "exception": false,
     "start_time": "2025-08-19T18:59:13.559469",
     "status": "completed"
    },
    "tags": []
   },
   "outputs": [
    {
     "name": "stdout",
     "output_type": "stream",
     "text": [
      "/dss/dsshome1/0C/ra93lal2/cma/CMA_Fairness_v2\n"
     ]
    },
    {
     "name": "stderr",
     "output_type": "stream",
     "text": [
      "/dss/dsshome1/0C/ra93lal2/.local/share/virtualenvs/CMA_Fairness_v2-3j10GkSs/lib/python3.10/site-packages/IPython/core/magics/osm.py:393: UserWarning: This is now an optional IPython functionality, using bookmarks requires you to install the `pickleshare` library.\n",
      "  bkms = self.shell.db.get('bookmarks', {})\n",
      "/dss/dsshome1/0C/ra93lal2/.local/share/virtualenvs/CMA_Fairness_v2-3j10GkSs/lib/python3.10/site-packages/IPython/core/magics/osm.py:417: UserWarning: This is now an optional IPython functionality, setting dhist requires you to install the `pickleshare` library.\n",
      "  self.shell.db['dhist'] = compress_dhist(dhist)[-100:]\n"
     ]
    }
   ],
   "source": [
    "%cd ~/cma/CMA_Fairness_v2"
   ]
  },
  {
   "cell_type": "markdown",
   "id": "9d235661",
   "metadata": {
    "papermill": {
     "duration": 0.008948,
     "end_time": "2025-08-19T18:59:13.614590",
     "exception": false,
     "start_time": "2025-08-19T18:59:13.605642",
     "status": "completed"
    },
    "tags": []
   },
   "source": [
    "The following cell holds the definition of our parameters, these values can be overriden by rendering the with e.g. the following command:\n",
    "\n",
    "papermill -p alpha 0.2 -p ratio 0.3 universe_analysis.ipynb output/test_run.ipynb"
   ]
  },
  {
   "cell_type": "code",
   "execution_count": 2,
   "id": "4a789d8e",
   "metadata": {
    "execution": {
     "iopub.execute_input": "2025-08-19T18:59:13.634548Z",
     "iopub.status.busy": "2025-08-19T18:59:13.633466Z",
     "iopub.status.idle": "2025-08-19T18:59:13.640247Z",
     "shell.execute_reply": "2025-08-19T18:59:13.639102Z"
    },
    "papermill": {
     "duration": 0.018536,
     "end_time": "2025-08-19T18:59:13.641791",
     "exception": false,
     "start_time": "2025-08-19T18:59:13.623255",
     "status": "completed"
    },
    "tags": []
   },
   "outputs": [
    {
     "name": "stdout",
     "output_type": "stream",
     "text": [
      "Current working directory: /dss/dsshome1/0C/ra93lal2/cma/CMA_Fairness_v2\n"
     ]
    }
   ],
   "source": [
    "import os\n",
    "print(\"Current working directory:\", os.getcwd())"
   ]
  },
  {
   "cell_type": "code",
   "execution_count": 3,
   "id": "4132aaed",
   "metadata": {
    "execution": {
     "iopub.execute_input": "2025-08-19T18:59:13.662610Z",
     "iopub.status.busy": "2025-08-19T18:59:13.661681Z",
     "iopub.status.idle": "2025-08-19T18:59:13.670453Z",
     "shell.execute_reply": "2025-08-19T18:59:13.669196Z"
    },
    "papermill": {
     "duration": 0.020586,
     "end_time": "2025-08-19T18:59:13.672066",
     "exception": false,
     "start_time": "2025-08-19T18:59:13.651480",
     "status": "completed"
    },
    "tags": [
     "parameters"
    ]
   },
   "outputs": [],
   "source": [
    "run_no = 0\n",
    "universe_id = \"test\"\n",
    "universe = {\n",
    "    \"training_size\": \"5k\", # \"25k\", \"5k\", \"1k\"\n",
    "    \"training_year\": \"2012_14\", # \"2014\", \"2012_14\", \"2010_14\"\n",
    "    \"scale\": \"scale\", # \"scale\", \"do-not-scale\",\n",
    "    \"model\": \"elasticnet\", # \"logreg\", \"penalized_logreg\", \"rf\", \"gbm\", \"elasticnet\"\n",
    "    \"cutoff\": [\"quantile_0.15\", \"quantile_0.30\"],\n",
    "    \"exclude_features\": \"age\", # \"none\", \"nationality\", \"sex\", \"nationality-sex\", \"age\"\n",
    "    \"exclude_subgroups\": \"drop-non-german\", # \"keep-all\", \"drop-non-german\"\n",
    "    \"eval_fairness_grouping\": [\"majority-minority\", \"nationality-all\"]\n",
    "}\n",
    "\n",
    "output_dir=\"./output\"\n",
    "seed=0"
   ]
  },
  {
   "cell_type": "code",
   "execution_count": 4,
   "id": "ebc2ae19",
   "metadata": {
    "execution": {
     "iopub.execute_input": "2025-08-19T18:59:13.692855Z",
     "iopub.status.busy": "2025-08-19T18:59:13.691887Z",
     "iopub.status.idle": "2025-08-19T18:59:13.699115Z",
     "shell.execute_reply": "2025-08-19T18:59:13.697820Z"
    },
    "papermill": {
     "duration": 0.018862,
     "end_time": "2025-08-19T18:59:13.700689",
     "exception": false,
     "start_time": "2025-08-19T18:59:13.681827",
     "status": "completed"
    },
    "tags": [
     "injected-parameters"
    ]
   },
   "outputs": [],
   "source": [
    "# Parameters\n",
    "universe_id = \"92ac1c2097a51b7f1738c9681b34bbaf\"\n",
    "run_no = \"3\"\n",
    "universe = \"{\\\"cutoff\\\": [\\\"quantile_0.1\\\", \\\"quantile_0.25\\\"], \\\"eval_fairness_grouping\\\": [\\\"majority-minority\\\", \\\"nationality-all\\\"], \\\"exclude_features\\\": \\\"sex\\\", \\\"exclude_subgroups\\\": \\\"drop-non-german\\\", \\\"model\\\": \\\"gbm\\\", \\\"scale\\\": \\\"scale\\\", \\\"training_size\\\": \\\"1k\\\", \\\"training_year\\\": \\\"2012_14\\\"}\"\n",
    "output_dir = \"output\"\n",
    "seed = \"2023\"\n"
   ]
  },
  {
   "cell_type": "code",
   "execution_count": 5,
   "id": "a5d7941f",
   "metadata": {
    "execution": {
     "iopub.execute_input": "2025-08-19T18:59:13.721745Z",
     "iopub.status.busy": "2025-08-19T18:59:13.720943Z",
     "iopub.status.idle": "2025-08-19T18:59:13.727475Z",
     "shell.execute_reply": "2025-08-19T18:59:13.726204Z"
    },
    "papermill": {
     "duration": 0.018321,
     "end_time": "2025-08-19T18:59:13.729071",
     "exception": false,
     "start_time": "2025-08-19T18:59:13.710750",
     "status": "completed"
    },
    "tags": []
   },
   "outputs": [],
   "source": [
    "import json\n",
    "if isinstance(universe, str):\n",
    "    universe = json.loads(universe)"
   ]
  },
  {
   "cell_type": "code",
   "execution_count": 6,
   "id": "7076ccb1",
   "metadata": {
    "execution": {
     "iopub.execute_input": "2025-08-19T18:59:13.755306Z",
     "iopub.status.busy": "2025-08-19T18:59:13.754640Z",
     "iopub.status.idle": "2025-08-19T18:59:13.796312Z",
     "shell.execute_reply": "2025-08-19T18:59:13.795734Z"
    },
    "papermill": {
     "duration": 0.058456,
     "end_time": "2025-08-19T18:59:13.797782",
     "exception": false,
     "start_time": "2025-08-19T18:59:13.739326",
     "status": "completed"
    },
    "tags": []
   },
   "outputs": [],
   "source": [
    "# Auto-reload the custom package\n",
    "%load_ext autoreload\n",
    "%autoreload 1\n",
    "%aimport fairness_multiverse"
   ]
  },
  {
   "cell_type": "code",
   "execution_count": 7,
   "id": "94c8eb93",
   "metadata": {
    "execution": {
     "iopub.execute_input": "2025-08-19T18:59:13.818979Z",
     "iopub.status.busy": "2025-08-19T18:59:13.817641Z",
     "iopub.status.idle": "2025-08-19T18:59:15.459578Z",
     "shell.execute_reply": "2025-08-19T18:59:15.458470Z"
    },
    "papermill": {
     "duration": 1.654251,
     "end_time": "2025-08-19T18:59:15.461223",
     "exception": false,
     "start_time": "2025-08-19T18:59:13.806972",
     "status": "completed"
    },
    "tags": []
   },
   "outputs": [],
   "source": [
    "from fairness_multiverse.universe import UniverseAnalysis\n",
    "\n",
    "universe_analysis = UniverseAnalysis(\n",
    "    run_no = run_no,\n",
    "    universe_id = universe_id,\n",
    "    universe = universe,\n",
    "    output_dir=output_dir,\n",
    ")"
   ]
  },
  {
   "cell_type": "code",
   "execution_count": 8,
   "id": "2a6381cf",
   "metadata": {
    "execution": {
     "iopub.execute_input": "2025-08-19T18:59:15.496914Z",
     "iopub.status.busy": "2025-08-19T18:59:15.496414Z",
     "iopub.status.idle": "2025-08-19T18:59:15.502463Z",
     "shell.execute_reply": "2025-08-19T18:59:15.501738Z"
    },
    "papermill": {
     "duration": 0.030704,
     "end_time": "2025-08-19T18:59:15.509175",
     "exception": false,
     "start_time": "2025-08-19T18:59:15.478471",
     "status": "completed"
    },
    "tags": []
   },
   "outputs": [
    {
     "name": "stdout",
     "output_type": "stream",
     "text": [
      "Using Seed: 2023\n"
     ]
    }
   ],
   "source": [
    "import numpy as np\n",
    "parsed_seed = int(seed)\n",
    "np.random.seed(parsed_seed)\n",
    "print(f\"Using Seed: {parsed_seed}\")"
   ]
  },
  {
   "cell_type": "markdown",
   "id": "b6e958b4",
   "metadata": {
    "papermill": {
     "duration": 0.009458,
     "end_time": "2025-08-19T18:59:15.529900",
     "exception": false,
     "start_time": "2025-08-19T18:59:15.520442",
     "status": "completed"
    },
    "tags": []
   },
   "source": [
    "# Loading Data"
   ]
  },
  {
   "cell_type": "code",
   "execution_count": 9,
   "id": "98701482",
   "metadata": {
    "execution": {
     "iopub.execute_input": "2025-08-19T18:59:15.550960Z",
     "iopub.status.busy": "2025-08-19T18:59:15.550632Z",
     "iopub.status.idle": "2025-08-19T18:59:25.974536Z",
     "shell.execute_reply": "2025-08-19T18:59:25.973431Z"
    },
    "papermill": {
     "duration": 10.436566,
     "end_time": "2025-08-19T18:59:25.976024",
     "exception": false,
     "start_time": "2025-08-19T18:59:15.539458",
     "status": "completed"
    },
    "tags": []
   },
   "outputs": [
    {
     "name": "stdout",
     "output_type": "stream",
     "text": [
      "Loading SIAB data from cache: data/siab_cached.csv.gz\n"
     ]
    },
    {
     "name": "stdout",
     "output_type": "stream",
     "text": [
      "(643690, 164)\n"
     ]
    }
   ],
   "source": [
    "from pathlib import Path\n",
    "import pandas as pd\n",
    "\n",
    "# File paths\n",
    "raw_file = Path(\"data/raw/siab.csv\")\n",
    "cache_file = Path(\"data/siab_cached.csv.gz\")\n",
    "\n",
    "# Ensure cache directory exists\n",
    "cache_file.parent.mkdir(parents=True, exist_ok=True)\n",
    "\n",
    "# Load with simple caching\n",
    "if cache_file.exists():\n",
    "    print(f\"Loading SIAB data from cache: {cache_file}\")\n",
    "    siab = pd.read_csv(cache_file, compression='gzip')\n",
    "else:\n",
    "    print(f\"Cache not found. Reading raw SIAB data: {raw_file}\")\n",
    "    siab = pd.read_csv(raw_file)\n",
    "    siab.to_csv(cache_file, index=False, compression='gzip')\n",
    "    print(f\"Cached SIAB data to: {cache_file}\")\n",
    "\n",
    "print(siab.shape)"
   ]
  },
  {
   "cell_type": "code",
   "execution_count": 10,
   "id": "058d2abb",
   "metadata": {
    "execution": {
     "iopub.execute_input": "2025-08-19T18:59:26.004164Z",
     "iopub.status.busy": "2025-08-19T18:59:26.002451Z",
     "iopub.status.idle": "2025-08-19T18:59:26.197676Z",
     "shell.execute_reply": "2025-08-19T18:59:26.196729Z"
    },
    "papermill": {
     "duration": 0.2099,
     "end_time": "2025-08-19T18:59:26.200693",
     "exception": false,
     "start_time": "2025-08-19T18:59:25.990793",
     "status": "completed"
    },
    "tags": []
   },
   "outputs": [
    {
     "data": {
      "text/html": [
       "<div>\n",
       "<style scoped>\n",
       "    .dataframe tbody tr th:only-of-type {\n",
       "        vertical-align: middle;\n",
       "    }\n",
       "\n",
       "    .dataframe tbody tr th {\n",
       "        vertical-align: top;\n",
       "    }\n",
       "\n",
       "    .dataframe thead th {\n",
       "        text-align: right;\n",
       "    }\n",
       "</style>\n",
       "<table border=\"1\" class=\"dataframe\">\n",
       "  <thead>\n",
       "    <tr style=\"text-align: right;\">\n",
       "      <th></th>\n",
       "      <th>persnr</th>\n",
       "      <th>year</th>\n",
       "      <th>nrEntry</th>\n",
       "      <th>ltue</th>\n",
       "      <th>employed_before</th>\n",
       "      <th>receipt_leh_before</th>\n",
       "      <th>receipt_lhg_before</th>\n",
       "      <th>se_before</th>\n",
       "      <th>ASU_notue_seeking_before</th>\n",
       "      <th>ASU_other_before</th>\n",
       "      <th>...</th>\n",
       "      <th>minijob_tot_dur_byage</th>\n",
       "      <th>ft_tot_dur_byage</th>\n",
       "      <th>befrist_tot_dur_byage</th>\n",
       "      <th>leih_tot_dur_byage</th>\n",
       "      <th>LHG_tot_dur_byage</th>\n",
       "      <th>LEH_tot_dur_byage</th>\n",
       "      <th>almp_tot_dur_byage</th>\n",
       "      <th>almp_aw_tot_dur_byage</th>\n",
       "      <th>se_tot_dur_byage</th>\n",
       "      <th>seeking1_tot_dur_byage</th>\n",
       "    </tr>\n",
       "  </thead>\n",
       "  <tbody>\n",
       "    <tr>\n",
       "      <th>0</th>\n",
       "      <td>7</td>\n",
       "      <td>2015</td>\n",
       "      <td>1</td>\n",
       "      <td>0</td>\n",
       "      <td>1</td>\n",
       "      <td>0</td>\n",
       "      <td>0</td>\n",
       "      <td>0</td>\n",
       "      <td>1</td>\n",
       "      <td>0</td>\n",
       "      <td>...</td>\n",
       "      <td>0.000000</td>\n",
       "      <td>0.000000</td>\n",
       "      <td>15.043478</td>\n",
       "      <td>0.000000</td>\n",
       "      <td>0.000000</td>\n",
       "      <td>0.000000</td>\n",
       "      <td>0.000000</td>\n",
       "      <td>0.000000</td>\n",
       "      <td>0.000000</td>\n",
       "      <td>0.000000</td>\n",
       "    </tr>\n",
       "    <tr>\n",
       "      <th>1</th>\n",
       "      <td>18</td>\n",
       "      <td>2010</td>\n",
       "      <td>1</td>\n",
       "      <td>1</td>\n",
       "      <td>0</td>\n",
       "      <td>0</td>\n",
       "      <td>0</td>\n",
       "      <td>0</td>\n",
       "      <td>0</td>\n",
       "      <td>0</td>\n",
       "      <td>...</td>\n",
       "      <td>0.000000</td>\n",
       "      <td>0.000000</td>\n",
       "      <td>0.000000</td>\n",
       "      <td>0.000000</td>\n",
       "      <td>0.000000</td>\n",
       "      <td>0.000000</td>\n",
       "      <td>0.000000</td>\n",
       "      <td>0.000000</td>\n",
       "      <td>0.000000</td>\n",
       "      <td>0.000000</td>\n",
       "    </tr>\n",
       "    <tr>\n",
       "      <th>2</th>\n",
       "      <td>18</td>\n",
       "      <td>2011</td>\n",
       "      <td>2</td>\n",
       "      <td>0</td>\n",
       "      <td>1</td>\n",
       "      <td>0</td>\n",
       "      <td>1</td>\n",
       "      <td>0</td>\n",
       "      <td>1</td>\n",
       "      <td>0</td>\n",
       "      <td>...</td>\n",
       "      <td>2.714286</td>\n",
       "      <td>2.714286</td>\n",
       "      <td>0.000000</td>\n",
       "      <td>0.000000</td>\n",
       "      <td>10.775510</td>\n",
       "      <td>0.000000</td>\n",
       "      <td>8.367347</td>\n",
       "      <td>0.000000</td>\n",
       "      <td>0.000000</td>\n",
       "      <td>9.836735</td>\n",
       "    </tr>\n",
       "    <tr>\n",
       "      <th>3</th>\n",
       "      <td>18</td>\n",
       "      <td>2012</td>\n",
       "      <td>3</td>\n",
       "      <td>0</td>\n",
       "      <td>1</td>\n",
       "      <td>0</td>\n",
       "      <td>1</td>\n",
       "      <td>0</td>\n",
       "      <td>1</td>\n",
       "      <td>0</td>\n",
       "      <td>...</td>\n",
       "      <td>4.200000</td>\n",
       "      <td>4.200000</td>\n",
       "      <td>0.000000</td>\n",
       "      <td>0.000000</td>\n",
       "      <td>12.100000</td>\n",
       "      <td>0.000000</td>\n",
       "      <td>9.400000</td>\n",
       "      <td>0.000000</td>\n",
       "      <td>0.000000</td>\n",
       "      <td>9.960000</td>\n",
       "    </tr>\n",
       "    <tr>\n",
       "      <th>4</th>\n",
       "      <td>18</td>\n",
       "      <td>2012</td>\n",
       "      <td>4</td>\n",
       "      <td>0</td>\n",
       "      <td>1</td>\n",
       "      <td>0</td>\n",
       "      <td>1</td>\n",
       "      <td>0</td>\n",
       "      <td>1</td>\n",
       "      <td>0</td>\n",
       "      <td>...</td>\n",
       "      <td>5.460000</td>\n",
       "      <td>5.460000</td>\n",
       "      <td>0.000000</td>\n",
       "      <td>0.000000</td>\n",
       "      <td>13.360000</td>\n",
       "      <td>0.000000</td>\n",
       "      <td>10.320000</td>\n",
       "      <td>0.000000</td>\n",
       "      <td>0.000000</td>\n",
       "      <td>10.280000</td>\n",
       "    </tr>\n",
       "    <tr>\n",
       "      <th>...</th>\n",
       "      <td>...</td>\n",
       "      <td>...</td>\n",
       "      <td>...</td>\n",
       "      <td>...</td>\n",
       "      <td>...</td>\n",
       "      <td>...</td>\n",
       "      <td>...</td>\n",
       "      <td>...</td>\n",
       "      <td>...</td>\n",
       "      <td>...</td>\n",
       "      <td>...</td>\n",
       "      <td>...</td>\n",
       "      <td>...</td>\n",
       "      <td>...</td>\n",
       "      <td>...</td>\n",
       "      <td>...</td>\n",
       "      <td>...</td>\n",
       "      <td>...</td>\n",
       "      <td>...</td>\n",
       "      <td>...</td>\n",
       "      <td>...</td>\n",
       "    </tr>\n",
       "    <tr>\n",
       "      <th>643685</th>\n",
       "      <td>1827860</td>\n",
       "      <td>2013</td>\n",
       "      <td>1</td>\n",
       "      <td>0</td>\n",
       "      <td>0</td>\n",
       "      <td>0</td>\n",
       "      <td>1</td>\n",
       "      <td>0</td>\n",
       "      <td>0</td>\n",
       "      <td>1</td>\n",
       "      <td>...</td>\n",
       "      <td>0.000000</td>\n",
       "      <td>0.000000</td>\n",
       "      <td>0.000000</td>\n",
       "      <td>0.000000</td>\n",
       "      <td>0.612903</td>\n",
       "      <td>0.000000</td>\n",
       "      <td>0.000000</td>\n",
       "      <td>0.000000</td>\n",
       "      <td>0.000000</td>\n",
       "      <td>0.000000</td>\n",
       "    </tr>\n",
       "    <tr>\n",
       "      <th>643686</th>\n",
       "      <td>1827860</td>\n",
       "      <td>2015</td>\n",
       "      <td>2</td>\n",
       "      <td>1</td>\n",
       "      <td>0</td>\n",
       "      <td>0</td>\n",
       "      <td>1</td>\n",
       "      <td>0</td>\n",
       "      <td>1</td>\n",
       "      <td>0</td>\n",
       "      <td>...</td>\n",
       "      <td>0.000000</td>\n",
       "      <td>0.000000</td>\n",
       "      <td>0.212121</td>\n",
       "      <td>0.212121</td>\n",
       "      <td>17.363636</td>\n",
       "      <td>0.000000</td>\n",
       "      <td>8.909091</td>\n",
       "      <td>0.000000</td>\n",
       "      <td>0.000000</td>\n",
       "      <td>7.121212</td>\n",
       "    </tr>\n",
       "    <tr>\n",
       "      <th>643687</th>\n",
       "      <td>1827860</td>\n",
       "      <td>2016</td>\n",
       "      <td>3</td>\n",
       "      <td>1</td>\n",
       "      <td>0</td>\n",
       "      <td>0</td>\n",
       "      <td>1</td>\n",
       "      <td>1</td>\n",
       "      <td>0</td>\n",
       "      <td>1</td>\n",
       "      <td>...</td>\n",
       "      <td>0.000000</td>\n",
       "      <td>0.000000</td>\n",
       "      <td>0.294118</td>\n",
       "      <td>0.205882</td>\n",
       "      <td>34.705882</td>\n",
       "      <td>0.000000</td>\n",
       "      <td>10.352941</td>\n",
       "      <td>1.705882</td>\n",
       "      <td>1.705882</td>\n",
       "      <td>23.911765</td>\n",
       "    </tr>\n",
       "    <tr>\n",
       "      <th>643688</th>\n",
       "      <td>1827869</td>\n",
       "      <td>2013</td>\n",
       "      <td>1</td>\n",
       "      <td>1</td>\n",
       "      <td>1</td>\n",
       "      <td>0</td>\n",
       "      <td>0</td>\n",
       "      <td>0</td>\n",
       "      <td>1</td>\n",
       "      <td>0</td>\n",
       "      <td>...</td>\n",
       "      <td>0.000000</td>\n",
       "      <td>0.000000</td>\n",
       "      <td>0.000000</td>\n",
       "      <td>0.000000</td>\n",
       "      <td>0.000000</td>\n",
       "      <td>0.525424</td>\n",
       "      <td>0.000000</td>\n",
       "      <td>0.000000</td>\n",
       "      <td>0.000000</td>\n",
       "      <td>0.000000</td>\n",
       "    </tr>\n",
       "    <tr>\n",
       "      <th>643689</th>\n",
       "      <td>1827869</td>\n",
       "      <td>2014</td>\n",
       "      <td>2</td>\n",
       "      <td>0</td>\n",
       "      <td>0</td>\n",
       "      <td>1</td>\n",
       "      <td>0</td>\n",
       "      <td>0</td>\n",
       "      <td>1</td>\n",
       "      <td>0</td>\n",
       "      <td>...</td>\n",
       "      <td>0.000000</td>\n",
       "      <td>0.666667</td>\n",
       "      <td>0.666667</td>\n",
       "      <td>0.000000</td>\n",
       "      <td>0.000000</td>\n",
       "      <td>8.950000</td>\n",
       "      <td>1.033333</td>\n",
       "      <td>0.083333</td>\n",
       "      <td>0.083333</td>\n",
       "      <td>8.133333</td>\n",
       "    </tr>\n",
       "  </tbody>\n",
       "</table>\n",
       "<p>643690 rows × 164 columns</p>\n",
       "</div>"
      ],
      "text/plain": [
       "         persnr  year  nrEntry  ltue  employed_before  receipt_leh_before  \\\n",
       "0             7  2015        1     0                1                   0   \n",
       "1            18  2010        1     1                0                   0   \n",
       "2            18  2011        2     0                1                   0   \n",
       "3            18  2012        3     0                1                   0   \n",
       "4            18  2012        4     0                1                   0   \n",
       "...         ...   ...      ...   ...              ...                 ...   \n",
       "643685  1827860  2013        1     0                0                   0   \n",
       "643686  1827860  2015        2     1                0                   0   \n",
       "643687  1827860  2016        3     1                0                   0   \n",
       "643688  1827869  2013        1     1                1                   0   \n",
       "643689  1827869  2014        2     0                0                   1   \n",
       "\n",
       "        receipt_lhg_before  se_before  ASU_notue_seeking_before  \\\n",
       "0                        0          0                         1   \n",
       "1                        0          0                         0   \n",
       "2                        1          0                         1   \n",
       "3                        1          0                         1   \n",
       "4                        1          0                         1   \n",
       "...                    ...        ...                       ...   \n",
       "643685                   1          0                         0   \n",
       "643686                   1          0                         1   \n",
       "643687                   1          1                         0   \n",
       "643688                   0          0                         1   \n",
       "643689                   0          0                         1   \n",
       "\n",
       "        ASU_other_before  ...  minijob_tot_dur_byage  ft_tot_dur_byage  \\\n",
       "0                      0  ...               0.000000          0.000000   \n",
       "1                      0  ...               0.000000          0.000000   \n",
       "2                      0  ...               2.714286          2.714286   \n",
       "3                      0  ...               4.200000          4.200000   \n",
       "4                      0  ...               5.460000          5.460000   \n",
       "...                  ...  ...                    ...               ...   \n",
       "643685                 1  ...               0.000000          0.000000   \n",
       "643686                 0  ...               0.000000          0.000000   \n",
       "643687                 1  ...               0.000000          0.000000   \n",
       "643688                 0  ...               0.000000          0.000000   \n",
       "643689                 0  ...               0.000000          0.666667   \n",
       "\n",
       "        befrist_tot_dur_byage  leih_tot_dur_byage  LHG_tot_dur_byage  \\\n",
       "0                   15.043478            0.000000           0.000000   \n",
       "1                    0.000000            0.000000           0.000000   \n",
       "2                    0.000000            0.000000          10.775510   \n",
       "3                    0.000000            0.000000          12.100000   \n",
       "4                    0.000000            0.000000          13.360000   \n",
       "...                       ...                 ...                ...   \n",
       "643685               0.000000            0.000000           0.612903   \n",
       "643686               0.212121            0.212121          17.363636   \n",
       "643687               0.294118            0.205882          34.705882   \n",
       "643688               0.000000            0.000000           0.000000   \n",
       "643689               0.666667            0.000000           0.000000   \n",
       "\n",
       "        LEH_tot_dur_byage  almp_tot_dur_byage  almp_aw_tot_dur_byage  \\\n",
       "0                0.000000            0.000000               0.000000   \n",
       "1                0.000000            0.000000               0.000000   \n",
       "2                0.000000            8.367347               0.000000   \n",
       "3                0.000000            9.400000               0.000000   \n",
       "4                0.000000           10.320000               0.000000   \n",
       "...                   ...                 ...                    ...   \n",
       "643685           0.000000            0.000000               0.000000   \n",
       "643686           0.000000            8.909091               0.000000   \n",
       "643687           0.000000           10.352941               1.705882   \n",
       "643688           0.525424            0.000000               0.000000   \n",
       "643689           8.950000            1.033333               0.083333   \n",
       "\n",
       "        se_tot_dur_byage  seeking1_tot_dur_byage  \n",
       "0               0.000000                0.000000  \n",
       "1               0.000000                0.000000  \n",
       "2               0.000000                9.836735  \n",
       "3               0.000000                9.960000  \n",
       "4               0.000000               10.280000  \n",
       "...                  ...                     ...  \n",
       "643685          0.000000                0.000000  \n",
       "643686          0.000000                7.121212  \n",
       "643687          1.705882               23.911765  \n",
       "643688          0.000000                0.000000  \n",
       "643689          0.083333                8.133333  \n",
       "\n",
       "[643690 rows x 164 columns]"
      ]
     },
     "execution_count": 10,
     "metadata": {},
     "output_type": "execute_result"
    }
   ],
   "source": [
    "siab"
   ]
  },
  {
   "cell_type": "markdown",
   "id": "1f87e805",
   "metadata": {
    "papermill": {
     "duration": 0.012294,
     "end_time": "2025-08-19T18:59:26.237571",
     "exception": false,
     "start_time": "2025-08-19T18:59:26.225277",
     "status": "completed"
    },
    "tags": []
   },
   "source": [
    "# Splitting Data and Setting Training Data Size"
   ]
  },
  {
   "cell_type": "code",
   "execution_count": 11,
   "id": "910ae358",
   "metadata": {
    "execution": {
     "iopub.execute_input": "2025-08-19T18:59:26.260665Z",
     "iopub.status.busy": "2025-08-19T18:59:26.260014Z",
     "iopub.status.idle": "2025-08-19T18:59:26.943172Z",
     "shell.execute_reply": "2025-08-19T18:59:26.942393Z"
    },
    "papermill": {
     "duration": 0.696933,
     "end_time": "2025-08-19T18:59:26.944788",
     "exception": false,
     "start_time": "2025-08-19T18:59:26.247855",
     "status": "completed"
    },
    "tags": []
   },
   "outputs": [],
   "source": [
    "from fairness_multiverse.universe import sample_by_year_size\n",
    "\n",
    "siab_train = sample_by_year_size(siab,\n",
    "                               training_year=universe[\"training_year\"],\n",
    "                               training_size=universe[\"training_size\"])"
   ]
  },
  {
   "cell_type": "code",
   "execution_count": 12,
   "id": "919c8ff5",
   "metadata": {
    "execution": {
     "iopub.execute_input": "2025-08-19T18:59:26.966337Z",
     "iopub.status.busy": "2025-08-19T18:59:26.966052Z",
     "iopub.status.idle": "2025-08-19T18:59:26.973682Z",
     "shell.execute_reply": "2025-08-19T18:59:26.972736Z"
    },
    "papermill": {
     "duration": 0.025276,
     "end_time": "2025-08-19T18:59:26.980675",
     "exception": false,
     "start_time": "2025-08-19T18:59:26.955399",
     "status": "completed"
    },
    "tags": []
   },
   "outputs": [
    {
     "data": {
      "text/plain": [
       "(1000, 164)"
      ]
     },
     "execution_count": 12,
     "metadata": {},
     "output_type": "execute_result"
    }
   ],
   "source": [
    "siab_train.shape"
   ]
  },
  {
   "cell_type": "code",
   "execution_count": 13,
   "id": "feb13bf4",
   "metadata": {
    "execution": {
     "iopub.execute_input": "2025-08-19T18:59:27.026512Z",
     "iopub.status.busy": "2025-08-19T18:59:27.025438Z",
     "iopub.status.idle": "2025-08-19T18:59:27.038582Z",
     "shell.execute_reply": "2025-08-19T18:59:27.037615Z"
    },
    "papermill": {
     "duration": 0.027756,
     "end_time": "2025-08-19T18:59:27.040137",
     "exception": false,
     "start_time": "2025-08-19T18:59:27.012381",
     "status": "completed"
    },
    "tags": []
   },
   "outputs": [
    {
     "data": {
      "text/plain": [
       "year\n",
       "2012    334\n",
       "2013    333\n",
       "2014    333\n",
       "dtype: int64"
      ]
     },
     "metadata": {},
     "output_type": "display_data"
    }
   ],
   "source": [
    "display(siab_train.groupby(\"year\").size())"
   ]
  },
  {
   "cell_type": "code",
   "execution_count": 14,
   "id": "0997782f",
   "metadata": {
    "execution": {
     "iopub.execute_input": "2025-08-19T18:59:27.068668Z",
     "iopub.status.busy": "2025-08-19T18:59:27.067719Z",
     "iopub.status.idle": "2025-08-19T18:59:27.375716Z",
     "shell.execute_reply": "2025-08-19T18:59:27.375066Z"
    },
    "papermill": {
     "duration": 0.322841,
     "end_time": "2025-08-19T18:59:27.378448",
     "exception": false,
     "start_time": "2025-08-19T18:59:27.055607",
     "status": "completed"
    },
    "tags": []
   },
   "outputs": [],
   "source": [
    "#siab_train = siab_s[siab_s.year < 2015]\n",
    "siab_calib = siab[siab.year == 2015]\n",
    "siab_test = siab[siab.year == 2016]"
   ]
  },
  {
   "cell_type": "code",
   "execution_count": 15,
   "id": "2c1e4012",
   "metadata": {
    "execution": {
     "iopub.execute_input": "2025-08-19T18:59:27.415491Z",
     "iopub.status.busy": "2025-08-19T18:59:27.414611Z",
     "iopub.status.idle": "2025-08-19T18:59:27.422019Z",
     "shell.execute_reply": "2025-08-19T18:59:27.420507Z"
    },
    "papermill": {
     "duration": 0.022347,
     "end_time": "2025-08-19T18:59:27.423733",
     "exception": false,
     "start_time": "2025-08-19T18:59:27.401386",
     "status": "completed"
    },
    "tags": []
   },
   "outputs": [],
   "source": [
    "#siab_calib.shape"
   ]
  },
  {
   "cell_type": "code",
   "execution_count": 16,
   "id": "f66b54ca",
   "metadata": {
    "execution": {
     "iopub.execute_input": "2025-08-19T18:59:27.449722Z",
     "iopub.status.busy": "2025-08-19T18:59:27.448667Z",
     "iopub.status.idle": "2025-08-19T18:59:27.456539Z",
     "shell.execute_reply": "2025-08-19T18:59:27.454949Z"
    },
    "papermill": {
     "duration": 0.021441,
     "end_time": "2025-08-19T18:59:27.458161",
     "exception": false,
     "start_time": "2025-08-19T18:59:27.436720",
     "status": "completed"
    },
    "tags": []
   },
   "outputs": [],
   "source": [
    "#siab_test.shape"
   ]
  },
  {
   "cell_type": "code",
   "execution_count": 17,
   "id": "27e4384d",
   "metadata": {
    "execution": {
     "iopub.execute_input": "2025-08-19T18:59:27.483841Z",
     "iopub.status.busy": "2025-08-19T18:59:27.482356Z",
     "iopub.status.idle": "2025-08-19T18:59:27.493510Z",
     "shell.execute_reply": "2025-08-19T18:59:27.491919Z"
    },
    "papermill": {
     "duration": 0.024147,
     "end_time": "2025-08-19T18:59:27.495218",
     "exception": false,
     "start_time": "2025-08-19T18:59:27.471071",
     "status": "completed"
    },
    "tags": []
   },
   "outputs": [],
   "source": [
    "X_train = siab_train.iloc[:,4:164]\n",
    "y_train = siab_train.iloc[:, [3]]"
   ]
  },
  {
   "cell_type": "code",
   "execution_count": 18,
   "id": "08ee8389",
   "metadata": {
    "execution": {
     "iopub.execute_input": "2025-08-19T18:59:27.526732Z",
     "iopub.status.busy": "2025-08-19T18:59:27.525143Z",
     "iopub.status.idle": "2025-08-19T18:59:27.587087Z",
     "shell.execute_reply": "2025-08-19T18:59:27.586305Z"
    },
    "papermill": {
     "duration": 0.07904,
     "end_time": "2025-08-19T18:59:27.590009",
     "exception": false,
     "start_time": "2025-08-19T18:59:27.510969",
     "status": "completed"
    },
    "tags": []
   },
   "outputs": [],
   "source": [
    "X_calib = siab_calib.iloc[:,4:164]\n",
    "y_calib = siab_calib.iloc[:, [3]]"
   ]
  },
  {
   "cell_type": "code",
   "execution_count": 19,
   "id": "b7ff42e0",
   "metadata": {
    "execution": {
     "iopub.execute_input": "2025-08-19T18:59:27.628352Z",
     "iopub.status.busy": "2025-08-19T18:59:27.627508Z",
     "iopub.status.idle": "2025-08-19T18:59:27.689265Z",
     "shell.execute_reply": "2025-08-19T18:59:27.688522Z"
    },
    "papermill": {
     "duration": 0.077924,
     "end_time": "2025-08-19T18:59:27.691896",
     "exception": false,
     "start_time": "2025-08-19T18:59:27.613972",
     "status": "completed"
    },
    "tags": []
   },
   "outputs": [],
   "source": [
    "X_test = siab_test.iloc[:,4:164]\n",
    "y_true = siab_test.iloc[:, [3]]"
   ]
  },
  {
   "cell_type": "code",
   "execution_count": 20,
   "id": "0275101e",
   "metadata": {
    "execution": {
     "iopub.execute_input": "2025-08-19T18:59:27.729763Z",
     "iopub.status.busy": "2025-08-19T18:59:27.728932Z",
     "iopub.status.idle": "2025-08-19T18:59:27.846520Z",
     "shell.execute_reply": "2025-08-19T18:59:27.845863Z"
    },
    "papermill": {
     "duration": 0.133617,
     "end_time": "2025-08-19T18:59:27.849172",
     "exception": false,
     "start_time": "2025-08-19T18:59:27.715555",
     "status": "completed"
    },
    "tags": []
   },
   "outputs": [],
   "source": [
    "# Auxiliary data needed downstream in the pipeline\n",
    "\n",
    "org_train = X_train.copy()\n",
    "org_test = X_test.copy()\n",
    "org_calib = X_calib.copy()"
   ]
  },
  {
   "cell_type": "markdown",
   "id": "b461e618",
   "metadata": {
    "papermill": {
     "duration": 0.010454,
     "end_time": "2025-08-19T18:59:27.892881",
     "exception": false,
     "start_time": "2025-08-19T18:59:27.882427",
     "status": "completed"
    },
    "tags": []
   },
   "source": [
    "# Preprocessing Data"
   ]
  },
  {
   "cell_type": "code",
   "execution_count": 21,
   "id": "78e74c4b",
   "metadata": {
    "execution": {
     "iopub.execute_input": "2025-08-19T18:59:27.916205Z",
     "iopub.status.busy": "2025-08-19T18:59:27.915398Z",
     "iopub.status.idle": "2025-08-19T18:59:27.920028Z",
     "shell.execute_reply": "2025-08-19T18:59:27.919435Z"
    },
    "papermill": {
     "duration": 0.018946,
     "end_time": "2025-08-19T18:59:27.921838",
     "exception": false,
     "start_time": "2025-08-19T18:59:27.902892",
     "status": "completed"
    },
    "tags": []
   },
   "outputs": [],
   "source": [
    "# EXCLUDE PROTECTED FEATURES\n",
    "# --------------------------\n",
    "\n",
    "excluded_features = universe[\"exclude_features\"].split(\"-\")\n",
    "excluded_features_dictionary = {\n",
    "    \"nationality\": [\"maxdeutsch1\", \"maxdeutsch.Missing.\"],\n",
    "    \"sex\": [\"frau1\"],\n",
    "    \"age\": [\"age\"],\n",
    "}"
   ]
  },
  {
   "cell_type": "code",
   "execution_count": 22,
   "id": "f8e63555",
   "metadata": {
    "execution": {
     "iopub.execute_input": "2025-08-19T18:59:27.956402Z",
     "iopub.status.busy": "2025-08-19T18:59:27.955964Z",
     "iopub.status.idle": "2025-08-19T18:59:27.960426Z",
     "shell.execute_reply": "2025-08-19T18:59:27.959840Z"
    },
    "papermill": {
     "duration": 0.017285,
     "end_time": "2025-08-19T18:59:27.961535",
     "exception": false,
     "start_time": "2025-08-19T18:59:27.944250",
     "status": "completed"
    },
    "tags": []
   },
   "outputs": [],
   "source": [
    "excluded_features_columns = [\n",
    "    excluded_features_dictionary[f] for f in excluded_features if len(f) > 0 and f != \"none\"\n",
    "]"
   ]
  },
  {
   "cell_type": "code",
   "execution_count": 23,
   "id": "da781f7c",
   "metadata": {
    "execution": {
     "iopub.execute_input": "2025-08-19T18:59:27.985736Z",
     "iopub.status.busy": "2025-08-19T18:59:27.985003Z",
     "iopub.status.idle": "2025-08-19T18:59:27.993506Z",
     "shell.execute_reply": "2025-08-19T18:59:27.992543Z"
    },
    "papermill": {
     "duration": 0.022198,
     "end_time": "2025-08-19T18:59:27.995019",
     "exception": false,
     "start_time": "2025-08-19T18:59:27.972821",
     "status": "completed"
    },
    "tags": []
   },
   "outputs": [],
   "source": [
    "from fairness_multiverse.universe import flatten_once\n",
    "\n",
    "excluded_features_columns = flatten_once(excluded_features_columns)"
   ]
  },
  {
   "cell_type": "code",
   "execution_count": 24,
   "id": "37fef0f0",
   "metadata": {
    "execution": {
     "iopub.execute_input": "2025-08-19T18:59:28.023170Z",
     "iopub.status.busy": "2025-08-19T18:59:28.022424Z",
     "iopub.status.idle": "2025-08-19T18:59:28.039475Z",
     "shell.execute_reply": "2025-08-19T18:59:28.036389Z"
    },
    "papermill": {
     "duration": 0.032154,
     "end_time": "2025-08-19T18:59:28.041300",
     "exception": false,
     "start_time": "2025-08-19T18:59:28.009146",
     "status": "completed"
    },
    "tags": []
   },
   "outputs": [
    {
     "name": "stdout",
     "output_type": "stream",
     "text": [
      "Dropping features: ['frau1']\n"
     ]
    }
   ],
   "source": [
    "if len(excluded_features_columns) > 0:\n",
    "    print(f\"Dropping features: {excluded_features_columns}\")\n",
    "    X_train.drop(excluded_features_columns, axis=1, inplace=True)"
   ]
  },
  {
   "cell_type": "code",
   "execution_count": 25,
   "id": "d029e3e9",
   "metadata": {
    "execution": {
     "iopub.execute_input": "2025-08-19T18:59:28.073168Z",
     "iopub.status.busy": "2025-08-19T18:59:28.072313Z",
     "iopub.status.idle": "2025-08-19T18:59:28.141121Z",
     "shell.execute_reply": "2025-08-19T18:59:28.140271Z"
    },
    "papermill": {
     "duration": 0.085296,
     "end_time": "2025-08-19T18:59:28.143523",
     "exception": false,
     "start_time": "2025-08-19T18:59:28.058227",
     "status": "completed"
    },
    "tags": []
   },
   "outputs": [
    {
     "name": "stdout",
     "output_type": "stream",
     "text": [
      "Dropping features: ['frau1']\n"
     ]
    }
   ],
   "source": [
    "if len(excluded_features_columns) > 0:\n",
    "    print(f\"Dropping features: {excluded_features_columns}\")\n",
    "    X_test.drop(excluded_features_columns, axis=1, inplace=True)"
   ]
  },
  {
   "cell_type": "code",
   "execution_count": 26,
   "id": "01d571f0",
   "metadata": {
    "execution": {
     "iopub.execute_input": "2025-08-19T18:59:28.183426Z",
     "iopub.status.busy": "2025-08-19T18:59:28.182830Z",
     "iopub.status.idle": "2025-08-19T18:59:28.248552Z",
     "shell.execute_reply": "2025-08-19T18:59:28.247719Z"
    },
    "papermill": {
     "duration": 0.083144,
     "end_time": "2025-08-19T18:59:28.251530",
     "exception": false,
     "start_time": "2025-08-19T18:59:28.168386",
     "status": "completed"
    },
    "tags": []
   },
   "outputs": [
    {
     "name": "stdout",
     "output_type": "stream",
     "text": [
      "Dropping features: ['frau1']\n"
     ]
    }
   ],
   "source": [
    "if len(excluded_features_columns) > 0:\n",
    "    print(f\"Dropping features: {excluded_features_columns}\")\n",
    "    X_calib.drop(excluded_features_columns, axis=1, inplace=True)"
   ]
  },
  {
   "cell_type": "code",
   "execution_count": 27,
   "id": "3037356e",
   "metadata": {
    "execution": {
     "iopub.execute_input": "2025-08-19T18:59:28.291235Z",
     "iopub.status.busy": "2025-08-19T18:59:28.290929Z",
     "iopub.status.idle": "2025-08-19T18:59:28.297717Z",
     "shell.execute_reply": "2025-08-19T18:59:28.296746Z"
    },
    "papermill": {
     "duration": 0.022715,
     "end_time": "2025-08-19T18:59:28.299102",
     "exception": false,
     "start_time": "2025-08-19T18:59:28.276387",
     "status": "completed"
    },
    "tags": []
   },
   "outputs": [],
   "source": [
    "# EXCLUDE CERTAIN SUBGROUPS\n",
    "# -------------------------\n",
    "\n",
    "mode = universe.get(\"exclude_subgroups\", \"keep-all\") # Defaults to \"keep-all\" if the key is missing."
   ]
  },
  {
   "cell_type": "code",
   "execution_count": 28,
   "id": "9d1e63fd",
   "metadata": {
    "execution": {
     "iopub.execute_input": "2025-08-19T18:59:28.323365Z",
     "iopub.status.busy": "2025-08-19T18:59:28.322929Z",
     "iopub.status.idle": "2025-08-19T18:59:28.398397Z",
     "shell.execute_reply": "2025-08-19T18:59:28.397074Z"
    },
    "papermill": {
     "duration": 0.089617,
     "end_time": "2025-08-19T18:59:28.400309",
     "exception": false,
     "start_time": "2025-08-19T18:59:28.310692",
     "status": "completed"
    },
    "tags": []
   },
   "outputs": [],
   "source": [
    "if mode == \"keep-all\":\n",
    "    keep_mask = pd.Series(True, index=org_train.index)\n",
    "\n",
    "elif mode == \"drop-non-german\":\n",
    "    keep_mask = (org_train[\"maxdeutsch1\"] == 1) & (org_train[\"maxdeutsch.Missing.\"] == 0)\n",
    "\n",
    "else:\n",
    "    raise ValueError(f\"Unsupported mode for exclude_subgroups: {mode}\")"
   ]
  },
  {
   "cell_type": "code",
   "execution_count": 29,
   "id": "d3b65474",
   "metadata": {
    "execution": {
     "iopub.execute_input": "2025-08-19T18:59:28.428845Z",
     "iopub.status.busy": "2025-08-19T18:59:28.427711Z",
     "iopub.status.idle": "2025-08-19T18:59:28.438678Z",
     "shell.execute_reply": "2025-08-19T18:59:28.437443Z"
    },
    "papermill": {
     "duration": 0.026714,
     "end_time": "2025-08-19T18:59:28.440524",
     "exception": false,
     "start_time": "2025-08-19T18:59:28.413810",
     "status": "completed"
    },
    "tags": []
   },
   "outputs": [
    {
     "name": "stdout",
     "output_type": "stream",
     "text": [
      "Dropping 147 rows (14.70%) where mode='drop-non-german'\n"
     ]
    }
   ],
   "source": [
    "n_drop = (~keep_mask).sum() # Calculates how many rows are set to be dropped\n",
    "if n_drop > 0:\n",
    "    pct = n_drop / len(keep_mask) * 100\n",
    "    print(f\"Dropping {n_drop} rows ({pct:.2f}%) where mode='{mode}'\")"
   ]
  },
  {
   "cell_type": "code",
   "execution_count": 30,
   "id": "f44389b3",
   "metadata": {
    "execution": {
     "iopub.execute_input": "2025-08-19T18:59:28.472295Z",
     "iopub.status.busy": "2025-08-19T18:59:28.471477Z",
     "iopub.status.idle": "2025-08-19T18:59:28.478596Z",
     "shell.execute_reply": "2025-08-19T18:59:28.477751Z"
    },
    "papermill": {
     "duration": 0.025049,
     "end_time": "2025-08-19T18:59:28.479944",
     "exception": false,
     "start_time": "2025-08-19T18:59:28.454895",
     "status": "completed"
    },
    "tags": []
   },
   "outputs": [],
   "source": [
    "X_train = X_train[keep_mask]"
   ]
  },
  {
   "cell_type": "code",
   "execution_count": 31,
   "id": "ceca8c2a",
   "metadata": {
    "execution": {
     "iopub.execute_input": "2025-08-19T18:59:28.506559Z",
     "iopub.status.busy": "2025-08-19T18:59:28.506157Z",
     "iopub.status.idle": "2025-08-19T18:59:28.510990Z",
     "shell.execute_reply": "2025-08-19T18:59:28.510277Z"
    },
    "papermill": {
     "duration": 0.019202,
     "end_time": "2025-08-19T18:59:28.512514",
     "exception": false,
     "start_time": "2025-08-19T18:59:28.493312",
     "status": "completed"
    },
    "tags": []
   },
   "outputs": [],
   "source": [
    "y_train = y_train[keep_mask]"
   ]
  },
  {
   "cell_type": "markdown",
   "id": "04d31e2f",
   "metadata": {
    "papermill": {
     "duration": 0.012992,
     "end_time": "2025-08-19T18:59:28.537797",
     "exception": false,
     "start_time": "2025-08-19T18:59:28.524805",
     "status": "completed"
    },
    "tags": []
   },
   "source": [
    "# Model Training"
   ]
  },
  {
   "cell_type": "code",
   "execution_count": 32,
   "id": "db991733",
   "metadata": {
    "execution": {
     "iopub.execute_input": "2025-08-19T18:59:28.564417Z",
     "iopub.status.busy": "2025-08-19T18:59:28.563999Z",
     "iopub.status.idle": "2025-08-19T18:59:28.693722Z",
     "shell.execute_reply": "2025-08-19T18:59:28.692528Z"
    },
    "papermill": {
     "duration": 0.144119,
     "end_time": "2025-08-19T18:59:28.695453",
     "exception": false,
     "start_time": "2025-08-19T18:59:28.551334",
     "status": "completed"
    },
    "tags": []
   },
   "outputs": [],
   "source": [
    "from sklearn.linear_model import LogisticRegression\n",
    "from sklearn.ensemble import GradientBoostingClassifier, RandomForestClassifier\n",
    "\n",
    "if (universe[\"model\"] == \"logreg\"):\n",
    "    model = LogisticRegression() #penalty=\"none\", solver=\"newton-cg\", max_iter=1)\n",
    "elif (universe[\"model\"] == \"penalized_logreg\"):\n",
    "    model = LogisticRegression(penalty=\"l2\", C=0.1) #, solver=\"newton-cg\", max_iter=1)\n",
    "elif (universe[\"model\"] == \"rf\"):\n",
    "    model = RandomForestClassifier() # n_estimators=100, n_jobs=-1\n",
    "elif (universe[\"model\"] == \"gbm\"):\n",
    "    model = GradientBoostingClassifier()\n",
    "elif (universe[\"model\"] == \"elasticnet\"):\n",
    "    model = LogisticRegression(penalty = 'elasticnet', solver = 'saga', l1_ratio = 0.5) # max_iter=5000\n",
    "else:\n",
    "    raise \"Unsupported universe.model\""
   ]
  },
  {
   "cell_type": "code",
   "execution_count": 33,
   "id": "a4b5cd25",
   "metadata": {
    "execution": {
     "iopub.execute_input": "2025-08-19T18:59:28.723408Z",
     "iopub.status.busy": "2025-08-19T18:59:28.723041Z",
     "iopub.status.idle": "2025-08-19T18:59:28.822428Z",
     "shell.execute_reply": "2025-08-19T18:59:28.820842Z"
    },
    "papermill": {
     "duration": 0.114768,
     "end_time": "2025-08-19T18:59:28.824363",
     "exception": false,
     "start_time": "2025-08-19T18:59:28.709595",
     "status": "completed"
    },
    "tags": []
   },
   "outputs": [],
   "source": [
    "from sklearn.pipeline import Pipeline\n",
    "from sklearn.preprocessing import StandardScaler\n",
    "\n",
    "model = Pipeline([\n",
    "    #(\"continuous_processor\", continuous_processor),\n",
    "    #(\"categorical_preprocessor\", categorical_preprocessor),\n",
    "    (\"scale\", StandardScaler() if universe[\"scale\"] == \"scale\" else None), \n",
    "    (\"model\", model),\n",
    "])"
   ]
  },
  {
   "cell_type": "code",
   "execution_count": 34,
   "id": "283a904d",
   "metadata": {
    "execution": {
     "iopub.execute_input": "2025-08-19T18:59:28.854258Z",
     "iopub.status.busy": "2025-08-19T18:59:28.853725Z",
     "iopub.status.idle": "2025-08-19T18:59:29.699708Z",
     "shell.execute_reply": "2025-08-19T18:59:29.698268Z"
    },
    "papermill": {
     "duration": 0.863266,
     "end_time": "2025-08-19T18:59:29.702714",
     "exception": false,
     "start_time": "2025-08-19T18:59:28.839448",
     "status": "completed"
    },
    "tags": []
   },
   "outputs": [
    {
     "data": {
      "text/html": [
       "<style>#sk-container-id-1 {color: black;background-color: white;}#sk-container-id-1 pre{padding: 0;}#sk-container-id-1 div.sk-toggleable {background-color: white;}#sk-container-id-1 label.sk-toggleable__label {cursor: pointer;display: block;width: 100%;margin-bottom: 0;padding: 0.3em;box-sizing: border-box;text-align: center;}#sk-container-id-1 label.sk-toggleable__label-arrow:before {content: \"▸\";float: left;margin-right: 0.25em;color: #696969;}#sk-container-id-1 label.sk-toggleable__label-arrow:hover:before {color: black;}#sk-container-id-1 div.sk-estimator:hover label.sk-toggleable__label-arrow:before {color: black;}#sk-container-id-1 div.sk-toggleable__content {max-height: 0;max-width: 0;overflow: hidden;text-align: left;background-color: #f0f8ff;}#sk-container-id-1 div.sk-toggleable__content pre {margin: 0.2em;color: black;border-radius: 0.25em;background-color: #f0f8ff;}#sk-container-id-1 input.sk-toggleable__control:checked~div.sk-toggleable__content {max-height: 200px;max-width: 100%;overflow: auto;}#sk-container-id-1 input.sk-toggleable__control:checked~label.sk-toggleable__label-arrow:before {content: \"▾\";}#sk-container-id-1 div.sk-estimator input.sk-toggleable__control:checked~label.sk-toggleable__label {background-color: #d4ebff;}#sk-container-id-1 div.sk-label input.sk-toggleable__control:checked~label.sk-toggleable__label {background-color: #d4ebff;}#sk-container-id-1 input.sk-hidden--visually {border: 0;clip: rect(1px 1px 1px 1px);clip: rect(1px, 1px, 1px, 1px);height: 1px;margin: -1px;overflow: hidden;padding: 0;position: absolute;width: 1px;}#sk-container-id-1 div.sk-estimator {font-family: monospace;background-color: #f0f8ff;border: 1px dotted black;border-radius: 0.25em;box-sizing: border-box;margin-bottom: 0.5em;}#sk-container-id-1 div.sk-estimator:hover {background-color: #d4ebff;}#sk-container-id-1 div.sk-parallel-item::after {content: \"\";width: 100%;border-bottom: 1px solid gray;flex-grow: 1;}#sk-container-id-1 div.sk-label:hover label.sk-toggleable__label {background-color: #d4ebff;}#sk-container-id-1 div.sk-serial::before {content: \"\";position: absolute;border-left: 1px solid gray;box-sizing: border-box;top: 0;bottom: 0;left: 50%;z-index: 0;}#sk-container-id-1 div.sk-serial {display: flex;flex-direction: column;align-items: center;background-color: white;padding-right: 0.2em;padding-left: 0.2em;position: relative;}#sk-container-id-1 div.sk-item {position: relative;z-index: 1;}#sk-container-id-1 div.sk-parallel {display: flex;align-items: stretch;justify-content: center;background-color: white;position: relative;}#sk-container-id-1 div.sk-item::before, #sk-container-id-1 div.sk-parallel-item::before {content: \"\";position: absolute;border-left: 1px solid gray;box-sizing: border-box;top: 0;bottom: 0;left: 50%;z-index: -1;}#sk-container-id-1 div.sk-parallel-item {display: flex;flex-direction: column;z-index: 1;position: relative;background-color: white;}#sk-container-id-1 div.sk-parallel-item:first-child::after {align-self: flex-end;width: 50%;}#sk-container-id-1 div.sk-parallel-item:last-child::after {align-self: flex-start;width: 50%;}#sk-container-id-1 div.sk-parallel-item:only-child::after {width: 0;}#sk-container-id-1 div.sk-dashed-wrapped {border: 1px dashed gray;margin: 0 0.4em 0.5em 0.4em;box-sizing: border-box;padding-bottom: 0.4em;background-color: white;}#sk-container-id-1 div.sk-label label {font-family: monospace;font-weight: bold;display: inline-block;line-height: 1.2em;}#sk-container-id-1 div.sk-label-container {text-align: center;}#sk-container-id-1 div.sk-container {/* jupyter's `normalize.less` sets `[hidden] { display: none; }` but bootstrap.min.css set `[hidden] { display: none !important; }` so we also need the `!important` here to be able to override the default hidden behavior on the sphinx rendered scikit-learn.org. See: https://github.com/scikit-learn/scikit-learn/issues/21755 */display: inline-block !important;position: relative;}#sk-container-id-1 div.sk-text-repr-fallback {display: none;}</style><div id=\"sk-container-id-1\" class=\"sk-top-container\"><div class=\"sk-text-repr-fallback\"><pre>Pipeline(steps=[(&#x27;scale&#x27;, StandardScaler()),\n",
       "                (&#x27;model&#x27;, GradientBoostingClassifier())])</pre><b>In a Jupyter environment, please rerun this cell to show the HTML representation or trust the notebook. <br />On GitHub, the HTML representation is unable to render, please try loading this page with nbviewer.org.</b></div><div class=\"sk-container\" hidden><div class=\"sk-item sk-dashed-wrapped\"><div class=\"sk-label-container\"><div class=\"sk-label sk-toggleable\"><input class=\"sk-toggleable__control sk-hidden--visually\" id=\"sk-estimator-id-1\" type=\"checkbox\" ><label for=\"sk-estimator-id-1\" class=\"sk-toggleable__label sk-toggleable__label-arrow\">Pipeline</label><div class=\"sk-toggleable__content\"><pre>Pipeline(steps=[(&#x27;scale&#x27;, StandardScaler()),\n",
       "                (&#x27;model&#x27;, GradientBoostingClassifier())])</pre></div></div></div><div class=\"sk-serial\"><div class=\"sk-item\"><div class=\"sk-estimator sk-toggleable\"><input class=\"sk-toggleable__control sk-hidden--visually\" id=\"sk-estimator-id-2\" type=\"checkbox\" ><label for=\"sk-estimator-id-2\" class=\"sk-toggleable__label sk-toggleable__label-arrow\">StandardScaler</label><div class=\"sk-toggleable__content\"><pre>StandardScaler()</pre></div></div></div><div class=\"sk-item\"><div class=\"sk-estimator sk-toggleable\"><input class=\"sk-toggleable__control sk-hidden--visually\" id=\"sk-estimator-id-3\" type=\"checkbox\" ><label for=\"sk-estimator-id-3\" class=\"sk-toggleable__label sk-toggleable__label-arrow\">GradientBoostingClassifier</label><div class=\"sk-toggleable__content\"><pre>GradientBoostingClassifier()</pre></div></div></div></div></div></div></div>"
      ],
      "text/plain": [
       "Pipeline(steps=[('scale', StandardScaler()),\n",
       "                ('model', GradientBoostingClassifier())])"
      ]
     },
     "execution_count": 34,
     "metadata": {},
     "output_type": "execute_result"
    }
   ],
   "source": [
    "model.fit(X_train, y_train.values.ravel())"
   ]
  },
  {
   "cell_type": "code",
   "execution_count": 35,
   "id": "6e15e313",
   "metadata": {
    "execution": {
     "iopub.execute_input": "2025-08-19T18:59:29.741918Z",
     "iopub.status.busy": "2025-08-19T18:59:29.739953Z",
     "iopub.status.idle": "2025-08-19T18:59:30.413242Z",
     "shell.execute_reply": "2025-08-19T18:59:30.412294Z"
    },
    "papermill": {
     "duration": 0.690097,
     "end_time": "2025-08-19T18:59:30.414534",
     "exception": false,
     "start_time": "2025-08-19T18:59:29.724437",
     "status": "completed"
    },
    "tags": []
   },
   "outputs": [
    {
     "data": {
      "text/plain": [
       "0.8386133095530042"
      ]
     },
     "execution_count": 35,
     "metadata": {},
     "output_type": "execute_result"
    }
   ],
   "source": [
    "from fairness_multiverse.universe import predict_w_threshold\n",
    "\n",
    "probs_test = model.predict_proba(X_test)\n",
    "\n",
    "'''\n",
    "Below code returns a boolean array (or binary 0/1 array depending on how it’s used) where each element \n",
    "is True if the probability of class 1 is greater than or equal to the threshold, and False otherwise.\n",
    "'''\n",
    "y_pred_default = predict_w_threshold(probs_test, 0.5)\n",
    "\n",
    "from sklearn.metrics import accuracy_score\n",
    "\n",
    "# Naive prediction\n",
    "accuracy_score(y_true = y_true, y_pred = y_pred_default)"
   ]
  },
  {
   "cell_type": "code",
   "execution_count": 36,
   "id": "6f14067c",
   "metadata": {
    "execution": {
     "iopub.execute_input": "2025-08-19T18:59:30.440952Z",
     "iopub.status.busy": "2025-08-19T18:59:30.439561Z",
     "iopub.status.idle": "2025-08-19T18:59:31.044742Z",
     "shell.execute_reply": "2025-08-19T18:59:31.043610Z"
    },
    "papermill": {
     "duration": 0.621305,
     "end_time": "2025-08-19T18:59:31.047744",
     "exception": false,
     "start_time": "2025-08-19T18:59:30.426439",
     "status": "completed"
    },
    "tags": []
   },
   "outputs": [
    {
     "data": {
      "text/plain": [
       "array([0, 0, 0, ..., 0, 0, 0])"
      ]
     },
     "execution_count": 36,
     "metadata": {},
     "output_type": "execute_result"
    }
   ],
   "source": [
    "model.predict(X_test)"
   ]
  },
  {
   "cell_type": "markdown",
   "id": "3759920c",
   "metadata": {
    "papermill": {
     "duration": 0.012629,
     "end_time": "2025-08-19T18:59:31.084917",
     "exception": false,
     "start_time": "2025-08-19T18:59:31.072288",
     "status": "completed"
    },
    "tags": []
   },
   "source": [
    "# Conformal Prediction"
   ]
  },
  {
   "cell_type": "code",
   "execution_count": 37,
   "id": "14b27f59",
   "metadata": {
    "execution": {
     "iopub.execute_input": "2025-08-19T18:59:31.110652Z",
     "iopub.status.busy": "2025-08-19T18:59:31.109465Z",
     "iopub.status.idle": "2025-08-19T18:59:31.119099Z",
     "shell.execute_reply": "2025-08-19T18:59:31.117583Z"
    },
    "papermill": {
     "duration": 0.02476,
     "end_time": "2025-08-19T18:59:31.120867",
     "exception": false,
     "start_time": "2025-08-19T18:59:31.096107",
     "status": "completed"
    },
    "tags": []
   },
   "outputs": [],
   "source": [
    "# Miscoverage level for conformal prediction (10% allowed error rate => 90% target coverage)\n",
    "alpha = 0.1"
   ]
  },
  {
   "cell_type": "code",
   "execution_count": 38,
   "id": "59102472",
   "metadata": {
    "execution": {
     "iopub.execute_input": "2025-08-19T18:59:31.148950Z",
     "iopub.status.busy": "2025-08-19T18:59:31.147965Z",
     "iopub.status.idle": "2025-08-19T18:59:31.704400Z",
     "shell.execute_reply": "2025-08-19T18:59:31.703289Z"
    },
    "papermill": {
     "duration": 0.572132,
     "end_time": "2025-08-19T18:59:31.707349",
     "exception": false,
     "start_time": "2025-08-19T18:59:31.135217",
     "status": "completed"
    },
    "tags": []
   },
   "outputs": [],
   "source": [
    "probs_calib = model.predict_proba(X_calib)"
   ]
  },
  {
   "cell_type": "code",
   "execution_count": 39,
   "id": "a792d4dd",
   "metadata": {
    "execution": {
     "iopub.execute_input": "2025-08-19T18:59:31.753734Z",
     "iopub.status.busy": "2025-08-19T18:59:31.752305Z",
     "iopub.status.idle": "2025-08-19T18:59:31.764477Z",
     "shell.execute_reply": "2025-08-19T18:59:31.763004Z"
    },
    "papermill": {
     "duration": 0.029516,
     "end_time": "2025-08-19T18:59:31.766404",
     "exception": false,
     "start_time": "2025-08-19T18:59:31.736888",
     "status": "completed"
    },
    "tags": []
   },
   "outputs": [],
   "source": [
    "y_calib = y_calib.values.ravel().astype(int)"
   ]
  },
  {
   "cell_type": "code",
   "execution_count": 40,
   "id": "650fd033",
   "metadata": {
    "execution": {
     "iopub.execute_input": "2025-08-19T18:59:31.794513Z",
     "iopub.status.busy": "2025-08-19T18:59:31.793543Z",
     "iopub.status.idle": "2025-08-19T18:59:31.806632Z",
     "shell.execute_reply": "2025-08-19T18:59:31.805466Z"
    },
    "papermill": {
     "duration": 0.028025,
     "end_time": "2025-08-19T18:59:31.808513",
     "exception": false,
     "start_time": "2025-08-19T18:59:31.780488",
     "status": "completed"
    },
    "tags": []
   },
   "outputs": [],
   "source": [
    "from fairness_multiverse.conformal import compute_nc_scores\n",
    "\n",
    "# Compute nonconformity scores on calibration set (1 - probability of true class)\n",
    "nc_scores = compute_nc_scores(probs_calib, y_calib)"
   ]
  },
  {
   "cell_type": "code",
   "execution_count": 41,
   "id": "28ada44c",
   "metadata": {
    "execution": {
     "iopub.execute_input": "2025-08-19T18:59:31.880425Z",
     "iopub.status.busy": "2025-08-19T18:59:31.879456Z",
     "iopub.status.idle": "2025-08-19T18:59:31.891812Z",
     "shell.execute_reply": "2025-08-19T18:59:31.890492Z"
    },
    "papermill": {
     "duration": 0.054429,
     "end_time": "2025-08-19T18:59:31.894367",
     "exception": false,
     "start_time": "2025-08-19T18:59:31.839938",
     "status": "completed"
    },
    "tags": []
   },
   "outputs": [],
   "source": [
    "from fairness_multiverse.conformal import find_threshold\n",
    "\n",
    "# Find conformal threshold q_hat for the given alpha (split conformal method)\n",
    "q_hat = find_threshold(nc_scores, alpha)"
   ]
  },
  {
   "cell_type": "code",
   "execution_count": 42,
   "id": "df56469e",
   "metadata": {
    "execution": {
     "iopub.execute_input": "2025-08-19T18:59:31.958924Z",
     "iopub.status.busy": "2025-08-19T18:59:31.958457Z",
     "iopub.status.idle": "2025-08-19T18:59:31.964810Z",
     "shell.execute_reply": "2025-08-19T18:59:31.964041Z"
    },
    "papermill": {
     "duration": 0.041894,
     "end_time": "2025-08-19T18:59:31.967849",
     "exception": false,
     "start_time": "2025-08-19T18:59:31.925955",
     "status": "completed"
    },
    "tags": []
   },
   "outputs": [
    {
     "data": {
      "text/plain": [
       "0.7815116599838856"
      ]
     },
     "execution_count": 42,
     "metadata": {},
     "output_type": "execute_result"
    }
   ],
   "source": [
    "q_hat"
   ]
  },
  {
   "cell_type": "code",
   "execution_count": 43,
   "id": "aa1f5faa",
   "metadata": {
    "execution": {
     "iopub.execute_input": "2025-08-19T18:59:31.992424Z",
     "iopub.status.busy": "2025-08-19T18:59:31.992089Z",
     "iopub.status.idle": "2025-08-19T18:59:33.023359Z",
     "shell.execute_reply": "2025-08-19T18:59:33.022432Z"
    },
    "papermill": {
     "duration": 1.045687,
     "end_time": "2025-08-19T18:59:33.025139",
     "exception": false,
     "start_time": "2025-08-19T18:59:31.979452",
     "status": "completed"
    },
    "tags": []
   },
   "outputs": [],
   "source": [
    "from fairness_multiverse.conformal import predict_conformal_sets\n",
    "\n",
    "# Generate prediction sets for each test example\n",
    "pred_sets = predict_conformal_sets(model, X_test, q_hat)"
   ]
  },
  {
   "cell_type": "code",
   "execution_count": 44,
   "id": "97f67a6b",
   "metadata": {
    "execution": {
     "iopub.execute_input": "2025-08-19T18:59:33.051011Z",
     "iopub.status.busy": "2025-08-19T18:59:33.050369Z",
     "iopub.status.idle": "2025-08-19T18:59:33.056988Z",
     "shell.execute_reply": "2025-08-19T18:59:33.056085Z"
    },
    "papermill": {
     "duration": 0.021041,
     "end_time": "2025-08-19T18:59:33.058385",
     "exception": false,
     "start_time": "2025-08-19T18:59:33.037344",
     "status": "completed"
    },
    "tags": []
   },
   "outputs": [],
   "source": [
    "y_true = y_true.squeeze()"
   ]
  },
  {
   "cell_type": "code",
   "execution_count": 45,
   "id": "e700e9a7",
   "metadata": {
    "execution": {
     "iopub.execute_input": "2025-08-19T18:59:33.085003Z",
     "iopub.status.busy": "2025-08-19T18:59:33.083949Z",
     "iopub.status.idle": "2025-08-19T18:59:33.601437Z",
     "shell.execute_reply": "2025-08-19T18:59:33.600199Z"
    },
    "papermill": {
     "duration": 0.532672,
     "end_time": "2025-08-19T18:59:33.603949",
     "exception": false,
     "start_time": "2025-08-19T18:59:33.071277",
     "status": "completed"
    },
    "tags": []
   },
   "outputs": [],
   "source": [
    "from fairness_multiverse.conformal import evaluate_sets\n",
    "\n",
    "# Evaluate coverage and average set size on test data\n",
    "metrics = evaluate_sets(pred_sets, y_true)"
   ]
  },
  {
   "cell_type": "markdown",
   "id": "efbacec0",
   "metadata": {
    "papermill": {
     "duration": 0.020085,
     "end_time": "2025-08-19T18:59:33.659363",
     "exception": false,
     "start_time": "2025-08-19T18:59:33.639278",
     "status": "completed"
    },
    "tags": []
   },
   "source": [
    "# CP Metrics"
   ]
  },
  {
   "cell_type": "code",
   "execution_count": 46,
   "id": "9de55fb1",
   "metadata": {
    "execution": {
     "iopub.execute_input": "2025-08-19T18:59:33.684833Z",
     "iopub.status.busy": "2025-08-19T18:59:33.684362Z",
     "iopub.status.idle": "2025-08-19T18:59:33.691088Z",
     "shell.execute_reply": "2025-08-19T18:59:33.690331Z"
    },
    "papermill": {
     "duration": 0.020706,
     "end_time": "2025-08-19T18:59:33.692404",
     "exception": false,
     "start_time": "2025-08-19T18:59:33.671698",
     "status": "completed"
    },
    "tags": []
   },
   "outputs": [
    {
     "data": {
      "text/plain": [
       "{'coverage': 0.9119830565154387, 'avg_size': 1.1862222717645747}"
      ]
     },
     "execution_count": 46,
     "metadata": {},
     "output_type": "execute_result"
    }
   ],
   "source": [
    "metrics"
   ]
  },
  {
   "cell_type": "code",
   "execution_count": 47,
   "id": "64c340a1",
   "metadata": {
    "execution": {
     "iopub.execute_input": "2025-08-19T18:59:33.716711Z",
     "iopub.status.busy": "2025-08-19T18:59:33.716355Z",
     "iopub.status.idle": "2025-08-19T18:59:33.721638Z",
     "shell.execute_reply": "2025-08-19T18:59:33.720833Z"
    },
    "papermill": {
     "duration": 0.018905,
     "end_time": "2025-08-19T18:59:33.723049",
     "exception": false,
     "start_time": "2025-08-19T18:59:33.704144",
     "status": "completed"
    },
    "tags": []
   },
   "outputs": [],
   "source": [
    "example_universe = universe.copy()\n",
    "universe_training_year = example_universe.get(\"training_year\")\n",
    "universe_training_size = example_universe.get(\"training_size\")\n",
    "universe_scale = example_universe.get(\"scale\")\n",
    "universe_model = example_universe.get(\"model\")\n",
    "universe_exclude_features = example_universe.get(\"exclude_features\")\n",
    "universe_exclude_subgroups = example_universe.get(\"exclude_subgroups\")"
   ]
  },
  {
   "cell_type": "code",
   "execution_count": 48,
   "id": "dbb53cb4",
   "metadata": {
    "execution": {
     "iopub.execute_input": "2025-08-19T18:59:33.747515Z",
     "iopub.status.busy": "2025-08-19T18:59:33.747187Z",
     "iopub.status.idle": "2025-08-19T18:59:33.752207Z",
     "shell.execute_reply": "2025-08-19T18:59:33.751316Z"
    },
    "papermill": {
     "duration": 0.018739,
     "end_time": "2025-08-19T18:59:33.753541",
     "exception": false,
     "start_time": "2025-08-19T18:59:33.734802",
     "status": "completed"
    },
    "tags": []
   },
   "outputs": [],
   "source": [
    "cp_metrics_dict = {\n",
    "    \"universe_id\": [universe_id],\n",
    "    \"universe_training_year\": [universe_training_year],\n",
    "    \"universe_training_size\": [universe_training_size],\n",
    "    \"universe_scale\": [universe_scale],\n",
    "    \"universe_model\": [universe_model],\n",
    "    \"universe_exclude_features\": [universe_exclude_features],\n",
    "    \"universe_exclude_subgroups\": [universe_exclude_subgroups],\n",
    "    \"q_hat\": [q_hat],\n",
    "    \"coverage\": [metrics[\"coverage\"]],\n",
    "    \"avg_size\": [metrics[\"avg_size\"]],\n",
    "}"
   ]
  },
  {
   "cell_type": "code",
   "execution_count": 49,
   "id": "0d70d4b2",
   "metadata": {
    "execution": {
     "iopub.execute_input": "2025-08-19T18:59:33.779532Z",
     "iopub.status.busy": "2025-08-19T18:59:33.779124Z",
     "iopub.status.idle": "2025-08-19T18:59:33.785656Z",
     "shell.execute_reply": "2025-08-19T18:59:33.784614Z"
    },
    "papermill": {
     "duration": 0.021194,
     "end_time": "2025-08-19T18:59:33.787131",
     "exception": false,
     "start_time": "2025-08-19T18:59:33.765937",
     "status": "completed"
    },
    "tags": []
   },
   "outputs": [],
   "source": [
    "cp_metrics_df = pd.DataFrame(cp_metrics_dict)"
   ]
  },
  {
   "cell_type": "code",
   "execution_count": 50,
   "id": "b494403c",
   "metadata": {
    "execution": {
     "iopub.execute_input": "2025-08-19T18:59:33.813063Z",
     "iopub.status.busy": "2025-08-19T18:59:33.812675Z",
     "iopub.status.idle": "2025-08-19T18:59:33.827191Z",
     "shell.execute_reply": "2025-08-19T18:59:33.826034Z"
    },
    "papermill": {
     "duration": 0.033733,
     "end_time": "2025-08-19T18:59:33.833412",
     "exception": false,
     "start_time": "2025-08-19T18:59:33.799679",
     "status": "completed"
    },
    "tags": []
   },
   "outputs": [
    {
     "data": {
      "text/html": [
       "<div>\n",
       "<style scoped>\n",
       "    .dataframe tbody tr th:only-of-type {\n",
       "        vertical-align: middle;\n",
       "    }\n",
       "\n",
       "    .dataframe tbody tr th {\n",
       "        vertical-align: top;\n",
       "    }\n",
       "\n",
       "    .dataframe thead th {\n",
       "        text-align: right;\n",
       "    }\n",
       "</style>\n",
       "<table border=\"1\" class=\"dataframe\">\n",
       "  <thead>\n",
       "    <tr style=\"text-align: right;\">\n",
       "      <th></th>\n",
       "      <th>universe_id</th>\n",
       "      <th>universe_training_year</th>\n",
       "      <th>universe_training_size</th>\n",
       "      <th>universe_scale</th>\n",
       "      <th>universe_model</th>\n",
       "      <th>universe_exclude_features</th>\n",
       "      <th>universe_exclude_subgroups</th>\n",
       "      <th>q_hat</th>\n",
       "      <th>coverage</th>\n",
       "      <th>avg_size</th>\n",
       "    </tr>\n",
       "  </thead>\n",
       "  <tbody>\n",
       "    <tr>\n",
       "      <th>0</th>\n",
       "      <td>92ac1c2097a51b7f1738c9681b34bbaf</td>\n",
       "      <td>2012_14</td>\n",
       "      <td>1k</td>\n",
       "      <td>scale</td>\n",
       "      <td>gbm</td>\n",
       "      <td>sex</td>\n",
       "      <td>drop-non-german</td>\n",
       "      <td>0.781512</td>\n",
       "      <td>0.911983</td>\n",
       "      <td>1.186222</td>\n",
       "    </tr>\n",
       "  </tbody>\n",
       "</table>\n",
       "</div>"
      ],
      "text/plain": [
       "                        universe_id universe_training_year  \\\n",
       "0  92ac1c2097a51b7f1738c9681b34bbaf                2012_14   \n",
       "\n",
       "  universe_training_size universe_scale universe_model  \\\n",
       "0                     1k          scale            gbm   \n",
       "\n",
       "  universe_exclude_features universe_exclude_subgroups     q_hat  coverage  \\\n",
       "0                       sex            drop-non-german  0.781512  0.911983   \n",
       "\n",
       "   avg_size  \n",
       "0  1.186222  "
      ]
     },
     "execution_count": 50,
     "metadata": {},
     "output_type": "execute_result"
    }
   ],
   "source": [
    "cp_metrics_df"
   ]
  },
  {
   "cell_type": "markdown",
   "id": "ed608b0b",
   "metadata": {
    "papermill": {
     "duration": 0.012101,
     "end_time": "2025-08-19T18:59:33.869736",
     "exception": false,
     "start_time": "2025-08-19T18:59:33.857635",
     "status": "completed"
    },
    "tags": []
   },
   "source": [
    "Conditional coverage & looking at subgroups"
   ]
  },
  {
   "cell_type": "code",
   "execution_count": 51,
   "id": "8968c366",
   "metadata": {
    "execution": {
     "iopub.execute_input": "2025-08-19T18:59:33.914025Z",
     "iopub.status.busy": "2025-08-19T18:59:33.912834Z",
     "iopub.status.idle": "2025-08-19T18:59:34.189948Z",
     "shell.execute_reply": "2025-08-19T18:59:34.188887Z"
    },
    "papermill": {
     "duration": 0.293955,
     "end_time": "2025-08-19T18:59:34.191672",
     "exception": false,
     "start_time": "2025-08-19T18:59:33.897717",
     "status": "completed"
    },
    "tags": []
   },
   "outputs": [],
   "source": [
    "from fairness_multiverse.conformal import build_cp_groups\n",
    "\n",
    "cp_groups_df = build_cp_groups(pred_sets, y_true, X_test.index, org_test)"
   ]
  },
  {
   "cell_type": "code",
   "execution_count": 52,
   "id": "292ddabf",
   "metadata": {
    "execution": {
     "iopub.execute_input": "2025-08-19T18:59:34.219819Z",
     "iopub.status.busy": "2025-08-19T18:59:34.218763Z",
     "iopub.status.idle": "2025-08-19T18:59:35.069605Z",
     "shell.execute_reply": "2025-08-19T18:59:35.068342Z"
    },
    "papermill": {
     "duration": 0.867684,
     "end_time": "2025-08-19T18:59:35.072518",
     "exception": false,
     "start_time": "2025-08-19T18:59:34.204834",
     "status": "completed"
    },
    "tags": []
   },
   "outputs": [],
   "source": [
    "# Define covered = 1 if true_label is in the predicted set\n",
    "cp_groups_df['covered'] = cp_groups_df.apply(\n",
    "    lambda r: int(r['true_label'] in r['pred_set']),\n",
    "    axis=1\n",
    ")"
   ]
  },
  {
   "cell_type": "code",
   "execution_count": 53,
   "id": "3a261692",
   "metadata": {
    "execution": {
     "iopub.execute_input": "2025-08-19T18:59:35.133865Z",
     "iopub.status.busy": "2025-08-19T18:59:35.133332Z",
     "iopub.status.idle": "2025-08-19T18:59:35.145723Z",
     "shell.execute_reply": "2025-08-19T18:59:35.144981Z"
    },
    "papermill": {
     "duration": 0.04214,
     "end_time": "2025-08-19T18:59:35.147599",
     "exception": false,
     "start_time": "2025-08-19T18:59:35.105459",
     "status": "completed"
    },
    "tags": []
   },
   "outputs": [],
   "source": [
    "subgroups = ['frau1','nongerman','nongerman_male','nongerman_female']\n",
    "\n",
    "# Conditional coverage for subgroup==1\n",
    "cond_coverage = {\n",
    "    g: cp_groups_df.loc[cp_groups_df[g]==1, 'covered'].mean()\n",
    "    for g in subgroups\n",
    "}"
   ]
  },
  {
   "cell_type": "code",
   "execution_count": 54,
   "id": "894fd600",
   "metadata": {
    "execution": {
     "iopub.execute_input": "2025-08-19T18:59:35.185584Z",
     "iopub.status.busy": "2025-08-19T18:59:35.184683Z",
     "iopub.status.idle": "2025-08-19T18:59:35.194665Z",
     "shell.execute_reply": "2025-08-19T18:59:35.193417Z"
    },
    "papermill": {
     "duration": 0.025568,
     "end_time": "2025-08-19T18:59:35.196084",
     "exception": false,
     "start_time": "2025-08-19T18:59:35.170516",
     "status": "completed"
    },
    "tags": []
   },
   "outputs": [
    {
     "data": {
      "text/plain": [
       "{'frau1': 0.9081008222132363,\n",
       " 'nongerman': 0.9056307191377084,\n",
       " 'nongerman_male': 0.9237143114473566,\n",
       " 'nongerman_female': 0.8757078986587183}"
      ]
     },
     "execution_count": 54,
     "metadata": {},
     "output_type": "execute_result"
    }
   ],
   "source": [
    "cond_coverage"
   ]
  },
  {
   "cell_type": "code",
   "execution_count": 55,
   "id": "942895c7",
   "metadata": {
    "execution": {
     "iopub.execute_input": "2025-08-19T18:59:35.224852Z",
     "iopub.status.busy": "2025-08-19T18:59:35.224168Z",
     "iopub.status.idle": "2025-08-19T18:59:35.234777Z",
     "shell.execute_reply": "2025-08-19T18:59:35.233665Z"
    },
    "papermill": {
     "duration": 0.026752,
     "end_time": "2025-08-19T18:59:35.236210",
     "exception": false,
     "start_time": "2025-08-19T18:59:35.209458",
     "status": "completed"
    },
    "tags": []
   },
   "outputs": [],
   "source": [
    "for subgroup, cov in cond_coverage.items():\n",
    "    cp_metrics_df[f\"cov_{subgroup}\"] = cov"
   ]
  },
  {
   "cell_type": "code",
   "execution_count": 56,
   "id": "3970120f",
   "metadata": {
    "execution": {
     "iopub.execute_input": "2025-08-19T18:59:35.294102Z",
     "iopub.status.busy": "2025-08-19T18:59:35.293676Z",
     "iopub.status.idle": "2025-08-19T18:59:35.309300Z",
     "shell.execute_reply": "2025-08-19T18:59:35.308383Z"
    },
    "papermill": {
     "duration": 0.049927,
     "end_time": "2025-08-19T18:59:35.312678",
     "exception": false,
     "start_time": "2025-08-19T18:59:35.262751",
     "status": "completed"
    },
    "tags": []
   },
   "outputs": [
    {
     "data": {
      "text/html": [
       "<div>\n",
       "<style scoped>\n",
       "    .dataframe tbody tr th:only-of-type {\n",
       "        vertical-align: middle;\n",
       "    }\n",
       "\n",
       "    .dataframe tbody tr th {\n",
       "        vertical-align: top;\n",
       "    }\n",
       "\n",
       "    .dataframe thead th {\n",
       "        text-align: right;\n",
       "    }\n",
       "</style>\n",
       "<table border=\"1\" class=\"dataframe\">\n",
       "  <thead>\n",
       "    <tr style=\"text-align: right;\">\n",
       "      <th></th>\n",
       "      <th>universe_id</th>\n",
       "      <th>universe_training_year</th>\n",
       "      <th>universe_training_size</th>\n",
       "      <th>universe_scale</th>\n",
       "      <th>universe_model</th>\n",
       "      <th>universe_exclude_features</th>\n",
       "      <th>universe_exclude_subgroups</th>\n",
       "      <th>q_hat</th>\n",
       "      <th>coverage</th>\n",
       "      <th>avg_size</th>\n",
       "      <th>cov_frau1</th>\n",
       "      <th>cov_nongerman</th>\n",
       "      <th>cov_nongerman_male</th>\n",
       "      <th>cov_nongerman_female</th>\n",
       "    </tr>\n",
       "  </thead>\n",
       "  <tbody>\n",
       "    <tr>\n",
       "      <th>0</th>\n",
       "      <td>92ac1c2097a51b7f1738c9681b34bbaf</td>\n",
       "      <td>2012_14</td>\n",
       "      <td>1k</td>\n",
       "      <td>scale</td>\n",
       "      <td>gbm</td>\n",
       "      <td>sex</td>\n",
       "      <td>drop-non-german</td>\n",
       "      <td>0.781512</td>\n",
       "      <td>0.911983</td>\n",
       "      <td>1.186222</td>\n",
       "      <td>0.908101</td>\n",
       "      <td>0.905631</td>\n",
       "      <td>0.923714</td>\n",
       "      <td>0.875708</td>\n",
       "    </tr>\n",
       "  </tbody>\n",
       "</table>\n",
       "</div>"
      ],
      "text/plain": [
       "                        universe_id universe_training_year  \\\n",
       "0  92ac1c2097a51b7f1738c9681b34bbaf                2012_14   \n",
       "\n",
       "  universe_training_size universe_scale universe_model  \\\n",
       "0                     1k          scale            gbm   \n",
       "\n",
       "  universe_exclude_features universe_exclude_subgroups     q_hat  coverage  \\\n",
       "0                       sex            drop-non-german  0.781512  0.911983   \n",
       "\n",
       "   avg_size  cov_frau1  cov_nongerman  cov_nongerman_male  \\\n",
       "0  1.186222   0.908101       0.905631            0.923714   \n",
       "\n",
       "   cov_nongerman_female  \n",
       "0              0.875708  "
      ]
     },
     "execution_count": 56,
     "metadata": {},
     "output_type": "execute_result"
    }
   ],
   "source": [
    "cp_metrics_df"
   ]
  },
  {
   "cell_type": "markdown",
   "id": "3fc519cc",
   "metadata": {
    "papermill": {
     "duration": 0.025213,
     "end_time": "2025-08-19T18:59:35.362639",
     "exception": false,
     "start_time": "2025-08-19T18:59:35.337426",
     "status": "completed"
    },
    "tags": []
   },
   "source": [
    "# (Fairness) Metrics"
   ]
  },
  {
   "cell_type": "code",
   "execution_count": 57,
   "id": "a2e5e155",
   "metadata": {
    "execution": {
     "iopub.execute_input": "2025-08-19T18:59:35.405553Z",
     "iopub.status.busy": "2025-08-19T18:59:35.405146Z",
     "iopub.status.idle": "2025-08-19T18:59:35.419675Z",
     "shell.execute_reply": "2025-08-19T18:59:35.418997Z"
    },
    "papermill": {
     "duration": 0.032228,
     "end_time": "2025-08-19T18:59:35.420982",
     "exception": false,
     "start_time": "2025-08-19T18:59:35.388754",
     "status": "completed"
    },
    "tags": []
   },
   "outputs": [],
   "source": [
    "colname_to_bin = \"maxdeutsch1\"\n",
    "majority_value = org_train[colname_to_bin].mode()[0]\n",
    "\n",
    "org_test[\"majmin\"] = np.where(org_test[colname_to_bin] == majority_value, \"majority\", \"minority\")"
   ]
  },
  {
   "cell_type": "code",
   "execution_count": 58,
   "id": "17e3e4d5",
   "metadata": {
    "execution": {
     "iopub.execute_input": "2025-08-19T18:59:35.453085Z",
     "iopub.status.busy": "2025-08-19T18:59:35.452613Z",
     "iopub.status.idle": "2025-08-19T18:59:37.155504Z",
     "shell.execute_reply": "2025-08-19T18:59:37.154269Z"
    },
    "papermill": {
     "duration": 1.719422,
     "end_time": "2025-08-19T18:59:37.158369",
     "exception": false,
     "start_time": "2025-08-19T18:59:35.438947",
     "status": "completed"
    },
    "tags": []
   },
   "outputs": [],
   "source": [
    "example_universe = universe.copy()\n",
    "example_universe[\"cutoff\"] = example_universe[\"cutoff\"][0]\n",
    "example_universe[\"eval_fairness_grouping\"] = example_universe[\"eval_fairness_grouping\"][0]\n",
    "fairness_dict, metric_frame = universe_analysis.compute_metrics(\n",
    "    example_universe,\n",
    "    y_pred_prob=probs_test,\n",
    "    y_test=y_true,\n",
    "    org_test=org_test,\n",
    ")"
   ]
  },
  {
   "cell_type": "markdown",
   "id": "1fb7a0e9",
   "metadata": {
    "papermill": {
     "duration": 0.013053,
     "end_time": "2025-08-19T18:59:37.198356",
     "exception": false,
     "start_time": "2025-08-19T18:59:37.185303",
     "status": "completed"
    },
    "tags": []
   },
   "source": [
    "# Overall"
   ]
  },
  {
   "cell_type": "markdown",
   "id": "be1784b1",
   "metadata": {
    "papermill": {
     "duration": 0.012157,
     "end_time": "2025-08-19T18:59:37.222630",
     "exception": false,
     "start_time": "2025-08-19T18:59:37.210473",
     "status": "completed"
    },
    "tags": []
   },
   "source": [
    "Main fairness target: Equalized Odds. Seems to be a better fit than equal opportunity, since we're not only interested in Y = 1. Seems to be a better fit than demographic parity, since we also care about accuracy, not just equal distribution of preds.\n",
    "\n",
    "Pick column for computation of fairness metrics\n",
    "\n",
    "Performance\n",
    "Overall performance measures, most interesting in relation to the measures split by group below"
   ]
  },
  {
   "cell_type": "code",
   "execution_count": 59,
   "id": "b7672bee",
   "metadata": {
    "execution": {
     "iopub.execute_input": "2025-08-19T18:59:37.250800Z",
     "iopub.status.busy": "2025-08-19T18:59:37.249245Z",
     "iopub.status.idle": "2025-08-19T18:59:37.265555Z",
     "shell.execute_reply": "2025-08-19T18:59:37.264167Z"
    },
    "papermill": {
     "duration": 0.032669,
     "end_time": "2025-08-19T18:59:37.267482",
     "exception": false,
     "start_time": "2025-08-19T18:59:37.234813",
     "status": "completed"
    },
    "tags": []
   },
   "outputs": [
    {
     "data": {
      "text/plain": [
       "accuracy                   0.222651\n",
       "balanced accuracy          0.544903\n",
       "f1                         0.244087\n",
       "precision                  0.139437\n",
       "false positive rate        0.888558\n",
       "false negative rate        0.021637\n",
       "selection rate             0.900078\n",
       "count                  89710.000000\n",
       "dtype: float64"
      ]
     },
     "execution_count": 59,
     "metadata": {},
     "output_type": "execute_result"
    }
   ],
   "source": [
    "metric_frame.overall"
   ]
  },
  {
   "cell_type": "markdown",
   "id": "d93333c9",
   "metadata": {
    "papermill": {
     "duration": 0.015393,
     "end_time": "2025-08-19T18:59:37.301750",
     "exception": false,
     "start_time": "2025-08-19T18:59:37.286357",
     "status": "completed"
    },
    "tags": []
   },
   "source": [
    "By Group"
   ]
  },
  {
   "cell_type": "code",
   "execution_count": 60,
   "id": "52256966",
   "metadata": {
    "execution": {
     "iopub.execute_input": "2025-08-19T18:59:37.374482Z",
     "iopub.status.busy": "2025-08-19T18:59:37.373989Z",
     "iopub.status.idle": "2025-08-19T18:59:37.390725Z",
     "shell.execute_reply": "2025-08-19T18:59:37.389729Z"
    },
    "papermill": {
     "duration": 0.055449,
     "end_time": "2025-08-19T18:59:37.391987",
     "exception": false,
     "start_time": "2025-08-19T18:59:37.336538",
     "status": "completed"
    },
    "tags": []
   },
   "outputs": [
    {
     "data": {
      "text/html": [
       "<div>\n",
       "<style scoped>\n",
       "    .dataframe tbody tr th:only-of-type {\n",
       "        vertical-align: middle;\n",
       "    }\n",
       "\n",
       "    .dataframe tbody tr th {\n",
       "        vertical-align: top;\n",
       "    }\n",
       "\n",
       "    .dataframe thead th {\n",
       "        text-align: right;\n",
       "    }\n",
       "</style>\n",
       "<table border=\"1\" class=\"dataframe\">\n",
       "  <thead>\n",
       "    <tr style=\"text-align: right;\">\n",
       "      <th></th>\n",
       "      <th>accuracy</th>\n",
       "      <th>balanced accuracy</th>\n",
       "      <th>f1</th>\n",
       "      <th>precision</th>\n",
       "      <th>false positive rate</th>\n",
       "      <th>false negative rate</th>\n",
       "      <th>selection rate</th>\n",
       "      <th>count</th>\n",
       "    </tr>\n",
       "    <tr>\n",
       "      <th>majmin</th>\n",
       "      <th></th>\n",
       "      <th></th>\n",
       "      <th></th>\n",
       "      <th></th>\n",
       "      <th></th>\n",
       "      <th></th>\n",
       "      <th></th>\n",
       "      <th></th>\n",
       "    </tr>\n",
       "  </thead>\n",
       "  <tbody>\n",
       "    <tr>\n",
       "      <th>majority</th>\n",
       "      <td>0.243718</td>\n",
       "      <td>0.554175</td>\n",
       "      <td>0.254347</td>\n",
       "      <td>0.146224</td>\n",
       "      <td>0.867799</td>\n",
       "      <td>0.023851</td>\n",
       "      <td>0.882117</td>\n",
       "      <td>69170.0</td>\n",
       "    </tr>\n",
       "    <tr>\n",
       "      <th>minority</th>\n",
       "      <td>0.151704</td>\n",
       "      <td>0.514888</td>\n",
       "      <td>0.211512</td>\n",
       "      <td>0.118449</td>\n",
       "      <td>0.957132</td>\n",
       "      <td>0.013091</td>\n",
       "      <td>0.960565</td>\n",
       "      <td>20540.0</td>\n",
       "    </tr>\n",
       "  </tbody>\n",
       "</table>\n",
       "</div>"
      ],
      "text/plain": [
       "          accuracy  balanced accuracy        f1  precision  \\\n",
       "majmin                                                       \n",
       "majority  0.243718           0.554175  0.254347   0.146224   \n",
       "minority  0.151704           0.514888  0.211512   0.118449   \n",
       "\n",
       "          false positive rate  false negative rate  selection rate    count  \n",
       "majmin                                                                       \n",
       "majority             0.867799             0.023851        0.882117  69170.0  \n",
       "minority             0.957132             0.013091        0.960565  20540.0  "
      ]
     },
     "execution_count": 60,
     "metadata": {},
     "output_type": "execute_result"
    }
   ],
   "source": [
    "metric_frame.by_group"
   ]
  },
  {
   "cell_type": "code",
   "execution_count": 61,
   "id": "6e6c20ae",
   "metadata": {
    "execution": {
     "iopub.execute_input": "2025-08-19T18:59:37.421705Z",
     "iopub.status.busy": "2025-08-19T18:59:37.421025Z",
     "iopub.status.idle": "2025-08-19T18:59:39.306837Z",
     "shell.execute_reply": "2025-08-19T18:59:39.305872Z"
    },
    "papermill": {
     "duration": 1.902962,
     "end_time": "2025-08-19T18:59:39.308086",
     "exception": false,
     "start_time": "2025-08-19T18:59:37.405124",
     "status": "completed"
    },
    "tags": []
   },
   "outputs": [
    {
     "data": {
      "text/plain": [
       "array([[<Axes: title={'center': 'accuracy'}, xlabel='majmin'>,\n",
       "        <Axes: title={'center': 'balanced accuracy'}, xlabel='majmin'>,\n",
       "        <Axes: title={'center': 'f1'}, xlabel='majmin'>],\n",
       "       [<Axes: title={'center': 'precision'}, xlabel='majmin'>,\n",
       "        <Axes: title={'center': 'false positive rate'}, xlabel='majmin'>,\n",
       "        <Axes: title={'center': 'false negative rate'}, xlabel='majmin'>],\n",
       "       [<Axes: title={'center': 'selection rate'}, xlabel='majmin'>,\n",
       "        <Axes: title={'center': 'count'}, xlabel='majmin'>,\n",
       "        <Axes: xlabel='majmin'>]], dtype=object)"
      ]
     },
     "execution_count": 61,
     "metadata": {},
     "output_type": "execute_result"
    },
    {
     "data": {
      "image/png": "[encoded data removed]",
      "text/plain": [
       "<Figure size 1200x800 with 9 Axes>"
      ]
     },
     "metadata": {},
     "output_type": "display_data"
    }
   ],
   "source": [
    "# In a graphic\n",
    "metric_frame.by_group.plot.bar(\n",
    "    subplots=True,\n",
    "    layout=[3, 3],\n",
    "    legend=False,\n",
    "    figsize=[12, 8],\n",
    "    title=\"Show all metrics\",\n",
    ")"
   ]
  },
  {
   "cell_type": "markdown",
   "id": "b2e433ae",
   "metadata": {
    "papermill": {
     "duration": 0.017194,
     "end_time": "2025-08-19T18:59:39.340150",
     "exception": false,
     "start_time": "2025-08-19T18:59:39.322956",
     "status": "completed"
    },
    "tags": []
   },
   "source": [
    "# Final Output"
   ]
  },
  {
   "cell_type": "code",
   "execution_count": 62,
   "id": "3871301e",
   "metadata": {
    "execution": {
     "iopub.execute_input": "2025-08-19T18:59:39.373430Z",
     "iopub.status.busy": "2025-08-19T18:59:39.371856Z",
     "iopub.status.idle": "2025-08-19T18:59:39.391147Z",
     "shell.execute_reply": "2025-08-19T18:59:39.390087Z"
    },
    "papermill": {
     "duration": 0.037843,
     "end_time": "2025-08-19T18:59:39.392906",
     "exception": false,
     "start_time": "2025-08-19T18:59:39.355063",
     "status": "completed"
    },
    "tags": []
   },
   "outputs": [
    {
     "data": {
      "text/plain": [
       "4"
      ]
     },
     "execution_count": 62,
     "metadata": {},
     "output_type": "execute_result"
    }
   ],
   "source": [
    "sub_universes = universe_analysis.generate_sub_universes()\n",
    "len(sub_universes)"
   ]
  },
  {
   "cell_type": "code",
   "execution_count": 63,
   "id": "d9cfdaca",
   "metadata": {
    "execution": {
     "iopub.execute_input": "2025-08-19T18:59:39.431853Z",
     "iopub.status.busy": "2025-08-19T18:59:39.430569Z",
     "iopub.status.idle": "2025-08-19T18:59:39.442186Z",
     "shell.execute_reply": "2025-08-19T18:59:39.440710Z"
    },
    "papermill": {
     "duration": 0.029542,
     "end_time": "2025-08-19T18:59:39.443721",
     "exception": false,
     "start_time": "2025-08-19T18:59:39.414179",
     "status": "completed"
    },
    "tags": []
   },
   "outputs": [],
   "source": [
    "def filter_sub_universe_data(sub_universe, org_test):\n",
    "    # Keep all rows — no filtering\n",
    "    keep_rows_mask = np.ones(org_test.shape[0], dtype=bool)\n",
    "\n",
    "    print(f\"[INFO] Keeping all rows: {keep_rows_mask.sum()} rows retained.\")\n",
    "    return keep_rows_mask"
   ]
  },
  {
   "cell_type": "code",
   "execution_count": 64,
   "id": "2bc31ac1",
   "metadata": {
    "execution": {
     "iopub.execute_input": "2025-08-19T18:59:39.477293Z",
     "iopub.status.busy": "2025-08-19T18:59:39.476984Z",
     "iopub.status.idle": "2025-08-19T18:59:46.126867Z",
     "shell.execute_reply": "2025-08-19T18:59:46.125839Z"
    },
    "papermill": {
     "duration": 6.666165,
     "end_time": "2025-08-19T18:59:46.128114",
     "exception": false,
     "start_time": "2025-08-19T18:59:39.461949",
     "status": "completed"
    },
    "tags": []
   },
   "outputs": [
    {
     "name": "stdout",
     "output_type": "stream",
     "text": [
      "Stopping execution_time clock.\n",
      "[INFO] Keeping all rows: 89710 rows retained.\n"
     ]
    },
    {
     "name": "stdout",
     "output_type": "stream",
     "text": [
      "[INFO] Keeping all rows: 89710 rows retained.\n"
     ]
    },
    {
     "name": "stdout",
     "output_type": "stream",
     "text": [
      "[INFO] Keeping all rows: 89710 rows retained.\n"
     ]
    },
    {
     "name": "stdout",
     "output_type": "stream",
     "text": [
      "[INFO] Keeping all rows: 89710 rows retained.\n"
     ]
    },
    {
     "data": {
      "text/html": [
       "<div>\n",
       "<style scoped>\n",
       "    .dataframe tbody tr th:only-of-type {\n",
       "        vertical-align: middle;\n",
       "    }\n",
       "\n",
       "    .dataframe tbody tr th {\n",
       "        vertical-align: top;\n",
       "    }\n",
       "\n",
       "    .dataframe thead th {\n",
       "        text-align: right;\n",
       "    }\n",
       "</style>\n",
       "<table border=\"1\" class=\"dataframe\">\n",
       "  <thead>\n",
       "    <tr style=\"text-align: right;\">\n",
       "      <th></th>\n",
       "      <th>run_no</th>\n",
       "      <th>universe_id</th>\n",
       "      <th>universe_settings</th>\n",
       "      <th>execution_time</th>\n",
       "      <th>test_size_n</th>\n",
       "      <th>test_size_frac</th>\n",
       "      <th>fair_main_equalized_odds_difference</th>\n",
       "      <th>fair_main_equalized_odds_ratio</th>\n",
       "      <th>fair_main_demographic_parity_difference</th>\n",
       "      <th>fair_main_demographic_parity_ratio</th>\n",
       "      <th>...</th>\n",
       "      <th>perf_grp_precision_0</th>\n",
       "      <th>perf_grp_precision_1</th>\n",
       "      <th>perf_grp_false positive rate_0</th>\n",
       "      <th>perf_grp_false positive rate_1</th>\n",
       "      <th>perf_grp_false negative rate_0</th>\n",
       "      <th>perf_grp_false negative rate_1</th>\n",
       "      <th>perf_grp_selection rate_0</th>\n",
       "      <th>perf_grp_selection rate_1</th>\n",
       "      <th>perf_grp_count_0</th>\n",
       "      <th>perf_grp_count_1</th>\n",
       "    </tr>\n",
       "  </thead>\n",
       "  <tbody>\n",
       "    <tr>\n",
       "      <th>0</th>\n",
       "      <td>3</td>\n",
       "      <td>92ac1c2097a51b7f1738c9681b34bbaf</td>\n",
       "      <td>{\"cutoff\": \"quantile_0.1\", \"eval_fairness_grou...</td>\n",
       "      <td>24.074142</td>\n",
       "      <td>89710</td>\n",
       "      <td>1.0</td>\n",
       "      <td>0.089332</td>\n",
       "      <td>0.906667</td>\n",
       "      <td>0.078448</td>\n",
       "      <td>0.918331</td>\n",
       "      <td>...</td>\n",
       "      <td>NaN</td>\n",
       "      <td>NaN</td>\n",
       "      <td>NaN</td>\n",
       "      <td>NaN</td>\n",
       "      <td>NaN</td>\n",
       "      <td>NaN</td>\n",
       "      <td>NaN</td>\n",
       "      <td>NaN</td>\n",
       "      <td>NaN</td>\n",
       "      <td>NaN</td>\n",
       "    </tr>\n",
       "    <tr>\n",
       "      <th>0</th>\n",
       "      <td>3</td>\n",
       "      <td>92ac1c2097a51b7f1738c9681b34bbaf</td>\n",
       "      <td>{\"cutoff\": \"quantile_0.1\", \"eval_fairness_grou...</td>\n",
       "      <td>24.074142</td>\n",
       "      <td>89710</td>\n",
       "      <td>1.0</td>\n",
       "      <td>0.089332</td>\n",
       "      <td>0.906667</td>\n",
       "      <td>0.078448</td>\n",
       "      <td>0.918331</td>\n",
       "      <td>...</td>\n",
       "      <td>0.118449</td>\n",
       "      <td>0.146224</td>\n",
       "      <td>0.957132</td>\n",
       "      <td>0.867799</td>\n",
       "      <td>0.013091</td>\n",
       "      <td>0.023851</td>\n",
       "      <td>0.960565</td>\n",
       "      <td>0.882117</td>\n",
       "      <td>20540.0</td>\n",
       "      <td>69170.0</td>\n",
       "    </tr>\n",
       "    <tr>\n",
       "      <th>0</th>\n",
       "      <td>3</td>\n",
       "      <td>92ac1c2097a51b7f1738c9681b34bbaf</td>\n",
       "      <td>{\"cutoff\": \"quantile_0.25\", \"eval_fairness_gro...</td>\n",
       "      <td>24.074142</td>\n",
       "      <td>89710</td>\n",
       "      <td>1.0</td>\n",
       "      <td>0.097106</td>\n",
       "      <td>0.878454</td>\n",
       "      <td>0.082282</td>\n",
       "      <td>0.898846</td>\n",
       "      <td>...</td>\n",
       "      <td>NaN</td>\n",
       "      <td>NaN</td>\n",
       "      <td>NaN</td>\n",
       "      <td>NaN</td>\n",
       "      <td>NaN</td>\n",
       "      <td>NaN</td>\n",
       "      <td>NaN</td>\n",
       "      <td>NaN</td>\n",
       "      <td>NaN</td>\n",
       "      <td>NaN</td>\n",
       "    </tr>\n",
       "    <tr>\n",
       "      <th>0</th>\n",
       "      <td>3</td>\n",
       "      <td>92ac1c2097a51b7f1738c9681b34bbaf</td>\n",
       "      <td>{\"cutoff\": \"quantile_0.25\", \"eval_fairness_gro...</td>\n",
       "      <td>24.074142</td>\n",
       "      <td>89710</td>\n",
       "      <td>1.0</td>\n",
       "      <td>0.097106</td>\n",
       "      <td>0.878454</td>\n",
       "      <td>0.082282</td>\n",
       "      <td>0.898846</td>\n",
       "      <td>...</td>\n",
       "      <td>0.131075</td>\n",
       "      <td>0.166963</td>\n",
       "      <td>0.798921</td>\n",
       "      <td>0.701816</td>\n",
       "      <td>0.075169</td>\n",
       "      <td>0.076149</td>\n",
       "      <td>0.813437</td>\n",
       "      <td>0.731155</td>\n",
       "      <td>20540.0</td>\n",
       "      <td>69170.0</td>\n",
       "    </tr>\n",
       "  </tbody>\n",
       "</table>\n",
       "<p>4 rows × 50 columns</p>\n",
       "</div>"
      ],
      "text/plain": [
       "  run_no                       universe_id  \\\n",
       "0      3  92ac1c2097a51b7f1738c9681b34bbaf   \n",
       "0      3  92ac1c2097a51b7f1738c9681b34bbaf   \n",
       "0      3  92ac1c2097a51b7f1738c9681b34bbaf   \n",
       "0      3  92ac1c2097a51b7f1738c9681b34bbaf   \n",
       "\n",
       "                                   universe_settings  execution_time  \\\n",
       "0  {\"cutoff\": \"quantile_0.1\", \"eval_fairness_grou...       24.074142   \n",
       "0  {\"cutoff\": \"quantile_0.1\", \"eval_fairness_grou...       24.074142   \n",
       "0  {\"cutoff\": \"quantile_0.25\", \"eval_fairness_gro...       24.074142   \n",
       "0  {\"cutoff\": \"quantile_0.25\", \"eval_fairness_gro...       24.074142   \n",
       "\n",
       "   test_size_n  test_size_frac  fair_main_equalized_odds_difference  \\\n",
       "0        89710             1.0                             0.089332   \n",
       "0        89710             1.0                             0.089332   \n",
       "0        89710             1.0                             0.097106   \n",
       "0        89710             1.0                             0.097106   \n",
       "\n",
       "   fair_main_equalized_odds_ratio  fair_main_demographic_parity_difference  \\\n",
       "0                        0.906667                                 0.078448   \n",
       "0                        0.906667                                 0.078448   \n",
       "0                        0.878454                                 0.082282   \n",
       "0                        0.878454                                 0.082282   \n",
       "\n",
       "   fair_main_demographic_parity_ratio  ...  perf_grp_precision_0  \\\n",
       "0                            0.918331  ...                   NaN   \n",
       "0                            0.918331  ...              0.118449   \n",
       "0                            0.898846  ...                   NaN   \n",
       "0                            0.898846  ...              0.131075   \n",
       "\n",
       "   perf_grp_precision_1  perf_grp_false positive rate_0  \\\n",
       "0                   NaN                             NaN   \n",
       "0              0.146224                        0.957132   \n",
       "0                   NaN                             NaN   \n",
       "0              0.166963                        0.798921   \n",
       "\n",
       "   perf_grp_false positive rate_1  perf_grp_false negative rate_0  \\\n",
       "0                             NaN                             NaN   \n",
       "0                        0.867799                        0.013091   \n",
       "0                             NaN                             NaN   \n",
       "0                        0.701816                        0.075169   \n",
       "\n",
       "   perf_grp_false negative rate_1  perf_grp_selection rate_0  \\\n",
       "0                             NaN                        NaN   \n",
       "0                        0.023851                   0.960565   \n",
       "0                             NaN                        NaN   \n",
       "0                        0.076149                   0.813437   \n",
       "\n",
       "   perf_grp_selection rate_1  perf_grp_count_0  perf_grp_count_1  \n",
       "0                        NaN               NaN               NaN  \n",
       "0                   0.882117           20540.0           69170.0  \n",
       "0                        NaN               NaN               NaN  \n",
       "0                   0.731155           20540.0           69170.0  \n",
       "\n",
       "[4 rows x 50 columns]"
      ]
     },
     "execution_count": 64,
     "metadata": {},
     "output_type": "execute_result"
    }
   ],
   "source": [
    "final_output = universe_analysis.generate_final_output(\n",
    "    y_pred_prob=probs_test,\n",
    "    y_test=y_true,\n",
    "    org_test=org_test,\n",
    "    filter_data=filter_sub_universe_data,\n",
    "    cp_metrics_df=cp_metrics_df,\n",
    "    save=True,\n",
    ")\n",
    "final_output"
   ]
  },
  {
   "cell_type": "code",
   "execution_count": null,
   "id": "8b80a1ff",
   "metadata": {
    "papermill": {
     "duration": 0.024966,
     "end_time": "2025-08-19T18:59:46.177673",
     "exception": false,
     "start_time": "2025-08-19T18:59:46.152707",
     "status": "completed"
    },
    "tags": []
   },
   "outputs": [],
   "source": []
  },
  {
   "cell_type": "code",
   "execution_count": null,
   "id": "275c9fad",
   "metadata": {
    "papermill": {
     "duration": 0.016626,
     "end_time": "2025-08-19T18:59:46.209445",
     "exception": false,
     "start_time": "2025-08-19T18:59:46.192819",
     "status": "completed"
    },
    "tags": []
   },
   "outputs": [],
   "source": []
  }
 ],
 "metadata": {
  "celltoolbar": "Tags",
  "kernelspec": {
   "display_name": "Python (CMA Fairness)",
   "language": "python",
   "name": "cma_fair_env"
  },
  "language_info": {
   "codemirror_mode": {
    "name": "ipython",
    "version": 3
   },
   "file_extension": ".py",
   "mimetype": "text/x-python",
   "name": "python",
   "nbconvert_exporter": "python",
   "pygments_lexer": "ipython3",
   "version": "3.10.12"
  },
  "papermill": {
   "default_parameters": {},
   "duration": 34.462432,
   "end_time": "2025-08-19T18:59:47.043447",
   "environment_variables": {},
   "exception": null,
   "input_path": "universe_analysis.ipynb",
   "output_path": "output/runs/3/notebooks/m_3-92ac1c2097a51b7f1738c9681b34bbaf.ipynb",
   "parameters": {
    "output_dir": "output",
    "run_no": "3",
    "seed": "2023",
    "universe": "{\"cutoff\": [\"quantile_0.1\", \"quantile_0.25\"], \"eval_fairness_grouping\": [\"majority-minority\", \"nationality-all\"], \"exclude_features\": \"sex\", \"exclude_subgroups\": \"drop-non-german\", \"model\": \"gbm\", \"scale\": \"scale\", \"training_size\": \"1k\", \"training_year\": \"2012_14\"}",
    "universe_id": "92ac1c2097a51b7f1738c9681b34bbaf"
   },
   "start_time": "2025-08-19T18:59:12.581015",
   "version": "2.6.0"
  }
 },
 "nbformat": 4,
 "nbformat_minor": 5
}