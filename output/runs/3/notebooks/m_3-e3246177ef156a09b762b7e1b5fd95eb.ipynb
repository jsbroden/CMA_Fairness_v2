{
 "cells": [
  {
   "cell_type": "markdown",
   "id": "ef23dbb3",
   "metadata": {
    "papermill": {
     "duration": 0.022744,
     "end_time": "2025-08-19T18:23:48.255593",
     "exception": false,
     "start_time": "2025-08-19T18:23:48.232849",
     "status": "completed"
    },
    "tags": []
   },
   "source": [
    "# Setup"
   ]
  },
  {
   "cell_type": "code",
   "execution_count": 1,
   "id": "0bc8e7dc",
   "metadata": {
    "execution": {
     "iopub.execute_input": "2025-08-19T18:23:48.300397Z",
     "iopub.status.busy": "2025-08-19T18:23:48.299884Z",
     "iopub.status.idle": "2025-08-19T18:23:48.309994Z",
     "shell.execute_reply": "2025-08-19T18:23:48.309118Z"
    },
    "papermill": {
     "duration": 0.029193,
     "end_time": "2025-08-19T18:23:48.311741",
     "exception": false,
     "start_time": "2025-08-19T18:23:48.282548",
     "status": "completed"
    },
    "tags": []
   },
   "outputs": [
    {
     "name": "stdout",
     "output_type": "stream",
     "text": [
      "/dss/dsshome1/0C/ra93lal2/cma/CMA_Fairness_v2\n"
     ]
    },
    {
     "name": "stderr",
     "output_type": "stream",
     "text": [
      "/dss/dsshome1/0C/ra93lal2/.local/share/virtualenvs/CMA_Fairness_v2-3j10GkSs/lib/python3.10/site-packages/IPython/core/magics/osm.py:393: UserWarning: This is now an optional IPython functionality, using bookmarks requires you to install the `pickleshare` library.\n",
      "  bkms = self.shell.db.get('bookmarks', {})\n",
      "/dss/dsshome1/0C/ra93lal2/.local/share/virtualenvs/CMA_Fairness_v2-3j10GkSs/lib/python3.10/site-packages/IPython/core/magics/osm.py:417: UserWarning: This is now an optional IPython functionality, setting dhist requires you to install the `pickleshare` library.\n",
      "  self.shell.db['dhist'] = compress_dhist(dhist)[-100:]\n"
     ]
    }
   ],
   "source": [
    "%cd ~/cma/CMA_Fairness_v2"
   ]
  },
  {
   "cell_type": "markdown",
   "id": "9d235661",
   "metadata": {
    "papermill": {
     "duration": 0.009544,
     "end_time": "2025-08-19T18:23:48.330469",
     "exception": false,
     "start_time": "2025-08-19T18:23:48.320925",
     "status": "completed"
    },
    "tags": []
   },
   "source": [
    "The following cell holds the definition of our parameters, these values can be overriden by rendering the with e.g. the following command:\n",
    "\n",
    "papermill -p alpha 0.2 -p ratio 0.3 universe_analysis.ipynb output/test_run.ipynb"
   ]
  },
  {
   "cell_type": "code",
   "execution_count": 2,
   "id": "4a789d8e",
   "metadata": {
    "execution": {
     "iopub.execute_input": "2025-08-19T18:23:48.350478Z",
     "iopub.status.busy": "2025-08-19T18:23:48.349747Z",
     "iopub.status.idle": "2025-08-19T18:23:48.354718Z",
     "shell.execute_reply": "2025-08-19T18:23:48.353824Z"
    },
    "papermill": {
     "duration": 0.017469,
     "end_time": "2025-08-19T18:23:48.357140",
     "exception": false,
     "start_time": "2025-08-19T18:23:48.339671",
     "status": "completed"
    },
    "tags": []
   },
   "outputs": [
    {
     "name": "stdout",
     "output_type": "stream",
     "text": [
      "Current working directory: /dss/dsshome1/0C/ra93lal2/cma/CMA_Fairness_v2\n"
     ]
    }
   ],
   "source": [
    "import os\n",
    "print(\"Current working directory:\", os.getcwd())"
   ]
  },
  {
   "cell_type": "code",
   "execution_count": 3,
   "id": "4132aaed",
   "metadata": {
    "execution": {
     "iopub.execute_input": "2025-08-19T18:23:48.394946Z",
     "iopub.status.busy": "2025-08-19T18:23:48.393554Z",
     "iopub.status.idle": "2025-08-19T18:23:48.403516Z",
     "shell.execute_reply": "2025-08-19T18:23:48.402102Z"
    },
    "papermill": {
     "duration": 0.022912,
     "end_time": "2025-08-19T18:23:48.404935",
     "exception": false,
     "start_time": "2025-08-19T18:23:48.382023",
     "status": "completed"
    },
    "tags": [
     "parameters"
    ]
   },
   "outputs": [],
   "source": [
    "run_no = 0\n",
    "universe_id = \"test\"\n",
    "universe = {\n",
    "    \"training_size\": \"5k\", # \"25k\", \"5k\", \"1k\"\n",
    "    \"training_year\": \"2012_14\", # \"2014\", \"2012_14\", \"2010_14\"\n",
    "    \"scale\": \"scale\", # \"scale\", \"do-not-scale\",\n",
    "    \"model\": \"elasticnet\", # \"logreg\", \"penalized_logreg\", \"rf\", \"gbm\", \"elasticnet\"\n",
    "    \"cutoff\": [\"quantile_0.15\", \"quantile_0.30\"],\n",
    "    \"exclude_features\": \"age\", # \"none\", \"nationality\", \"sex\", \"nationality-sex\", \"age\"\n",
    "    \"exclude_subgroups\": \"drop-non-german\", # \"keep-all\", \"drop-non-german\"\n",
    "    \"eval_fairness_grouping\": [\"majority-minority\", \"nationality-all\"]\n",
    "}\n",
    "\n",
    "output_dir=\"./output\"\n",
    "seed=0"
   ]
  },
  {
   "cell_type": "code",
   "execution_count": 4,
   "id": "92ee8db7",
   "metadata": {
    "execution": {
     "iopub.execute_input": "2025-08-19T18:23:48.428679Z",
     "iopub.status.busy": "2025-08-19T18:23:48.427965Z",
     "iopub.status.idle": "2025-08-19T18:23:48.435668Z",
     "shell.execute_reply": "2025-08-19T18:23:48.434908Z"
    },
    "papermill": {
     "duration": 0.024303,
     "end_time": "2025-08-19T18:23:48.441199",
     "exception": false,
     "start_time": "2025-08-19T18:23:48.416896",
     "status": "completed"
    },
    "tags": [
     "injected-parameters"
    ]
   },
   "outputs": [],
   "source": [
    "# Parameters\n",
    "universe_id = \"e3246177ef156a09b762b7e1b5fd95eb\"\n",
    "run_no = \"3\"\n",
    "universe = \"{\\\"cutoff\\\": [\\\"quantile_0.1\\\", \\\"quantile_0.25\\\"], \\\"eval_fairness_grouping\\\": [\\\"majority-minority\\\", \\\"nationality-all\\\"], \\\"exclude_features\\\": \\\"nationality-sex\\\", \\\"exclude_subgroups\\\": \\\"keep-all\\\", \\\"model\\\": \\\"penalized_logreg\\\", \\\"scale\\\": \\\"scale\\\", \\\"training_size\\\": \\\"5k\\\", \\\"training_year\\\": \\\"2014\\\"}\"\n",
    "output_dir = \"output\"\n",
    "seed = \"2023\"\n"
   ]
  },
  {
   "cell_type": "code",
   "execution_count": 5,
   "id": "a5d7941f",
   "metadata": {
    "execution": {
     "iopub.execute_input": "2025-08-19T18:23:48.466298Z",
     "iopub.status.busy": "2025-08-19T18:23:48.465968Z",
     "iopub.status.idle": "2025-08-19T18:23:48.469767Z",
     "shell.execute_reply": "2025-08-19T18:23:48.469196Z"
    },
    "papermill": {
     "duration": 0.021687,
     "end_time": "2025-08-19T18:23:48.477810",
     "exception": false,
     "start_time": "2025-08-19T18:23:48.456123",
     "status": "completed"
    },
    "tags": []
   },
   "outputs": [],
   "source": [
    "import json\n",
    "if isinstance(universe, str):\n",
    "    universe = json.loads(universe)"
   ]
  },
  {
   "cell_type": "code",
   "execution_count": 6,
   "id": "7076ccb1",
   "metadata": {
    "execution": {
     "iopub.execute_input": "2025-08-19T18:23:48.520314Z",
     "iopub.status.busy": "2025-08-19T18:23:48.519942Z",
     "iopub.status.idle": "2025-08-19T18:23:48.568299Z",
     "shell.execute_reply": "2025-08-19T18:23:48.567643Z"
    },
    "papermill": {
     "duration": 0.065502,
     "end_time": "2025-08-19T18:23:48.569803",
     "exception": false,
     "start_time": "2025-08-19T18:23:48.504301",
     "status": "completed"
    },
    "tags": []
   },
   "outputs": [],
   "source": [
    "# Auto-reload the custom package\n",
    "%load_ext autoreload\n",
    "%autoreload 1\n",
    "%aimport fairness_multiverse"
   ]
  },
  {
   "cell_type": "code",
   "execution_count": 7,
   "id": "94c8eb93",
   "metadata": {
    "execution": {
     "iopub.execute_input": "2025-08-19T18:23:48.589925Z",
     "iopub.status.busy": "2025-08-19T18:23:48.589622Z",
     "iopub.status.idle": "2025-08-19T18:23:50.135476Z",
     "shell.execute_reply": "2025-08-19T18:23:50.134503Z"
    },
    "papermill": {
     "duration": 1.557698,
     "end_time": "2025-08-19T18:23:50.137112",
     "exception": false,
     "start_time": "2025-08-19T18:23:48.579414",
     "status": "completed"
    },
    "tags": []
   },
   "outputs": [],
   "source": [
    "from fairness_multiverse.universe import UniverseAnalysis\n",
    "\n",
    "universe_analysis = UniverseAnalysis(\n",
    "    run_no = run_no,\n",
    "    universe_id = universe_id,\n",
    "    universe = universe,\n",
    "    output_dir=output_dir,\n",
    ")"
   ]
  },
  {
   "cell_type": "code",
   "execution_count": 8,
   "id": "2a6381cf",
   "metadata": {
    "execution": {
     "iopub.execute_input": "2025-08-19T18:23:50.169983Z",
     "iopub.status.busy": "2025-08-19T18:23:50.169335Z",
     "iopub.status.idle": "2025-08-19T18:23:50.175907Z",
     "shell.execute_reply": "2025-08-19T18:23:50.175054Z"
    },
    "papermill": {
     "duration": 0.030336,
     "end_time": "2025-08-19T18:23:50.177788",
     "exception": false,
     "start_time": "2025-08-19T18:23:50.147452",
     "status": "completed"
    },
    "tags": []
   },
   "outputs": [
    {
     "name": "stdout",
     "output_type": "stream",
     "text": [
      "Using Seed: 2023\n"
     ]
    }
   ],
   "source": [
    "import numpy as np\n",
    "parsed_seed = int(seed)\n",
    "np.random.seed(parsed_seed)\n",
    "print(f\"Using Seed: {parsed_seed}\")"
   ]
  },
  {
   "cell_type": "markdown",
   "id": "b6e958b4",
   "metadata": {
    "papermill": {
     "duration": 0.008932,
     "end_time": "2025-08-19T18:23:50.198979",
     "exception": false,
     "start_time": "2025-08-19T18:23:50.190047",
     "status": "completed"
    },
    "tags": []
   },
   "source": [
    "# Loading Data"
   ]
  },
  {
   "cell_type": "code",
   "execution_count": 9,
   "id": "98701482",
   "metadata": {
    "execution": {
     "iopub.execute_input": "2025-08-19T18:23:50.218122Z",
     "iopub.status.busy": "2025-08-19T18:23:50.217820Z",
     "iopub.status.idle": "2025-08-19T18:23:59.841871Z",
     "shell.execute_reply": "2025-08-19T18:23:59.840772Z"
    },
    "papermill": {
     "duration": 9.635208,
     "end_time": "2025-08-19T18:23:59.843077",
     "exception": false,
     "start_time": "2025-08-19T18:23:50.207869",
     "status": "completed"
    },
    "tags": []
   },
   "outputs": [
    {
     "name": "stdout",
     "output_type": "stream",
     "text": [
      "Loading SIAB data from cache: data/siab_cached.csv.gz\n"
     ]
    },
    {
     "name": "stdout",
     "output_type": "stream",
     "text": [
      "(643690, 164)\n"
     ]
    }
   ],
   "source": [
    "from pathlib import Path\n",
    "import pandas as pd\n",
    "\n",
    "# File paths\n",
    "raw_file = Path(\"data/raw/siab.csv\")\n",
    "cache_file = Path(\"data/siab_cached.csv.gz\")\n",
    "\n",
    "# Ensure cache directory exists\n",
    "cache_file.parent.mkdir(parents=True, exist_ok=True)\n",
    "\n",
    "# Load with simple caching\n",
    "if cache_file.exists():\n",
    "    print(f\"Loading SIAB data from cache: {cache_file}\")\n",
    "    siab = pd.read_csv(cache_file, compression='gzip')\n",
    "else:\n",
    "    print(f\"Cache not found. Reading raw SIAB data: {raw_file}\")\n",
    "    siab = pd.read_csv(raw_file)\n",
    "    siab.to_csv(cache_file, index=False, compression='gzip')\n",
    "    print(f\"Cached SIAB data to: {cache_file}\")\n",
    "\n",
    "print(siab.shape)"
   ]
  },
  {
   "cell_type": "code",
   "execution_count": 10,
   "id": "058d2abb",
   "metadata": {
    "execution": {
     "iopub.execute_input": "2025-08-19T18:23:59.866755Z",
     "iopub.status.busy": "2025-08-19T18:23:59.866256Z",
     "iopub.status.idle": "2025-08-19T18:24:00.069000Z",
     "shell.execute_reply": "2025-08-19T18:24:00.068277Z"
    },
    "papermill": {
     "duration": 0.214701,
     "end_time": "2025-08-19T18:24:00.070220",
     "exception": false,
     "start_time": "2025-08-19T18:23:59.855519",
     "status": "completed"
    },
    "tags": []
   },
   "outputs": [
    {
     "data": {
      "text/html": [
       "<div>\n",
       "<style scoped>\n",
       "    .dataframe tbody tr th:only-of-type {\n",
       "        vertical-align: middle;\n",
       "    }\n",
       "\n",
       "    .dataframe tbody tr th {\n",
       "        vertical-align: top;\n",
       "    }\n",
       "\n",
       "    .dataframe thead th {\n",
       "        text-align: right;\n",
       "    }\n",
       "</style>\n",
       "<table border=\"1\" class=\"dataframe\">\n",
       "  <thead>\n",
       "    <tr style=\"text-align: right;\">\n",
       "      <th></th>\n",
       "      <th>persnr</th>\n",
       "      <th>year</th>\n",
       "      <th>nrEntry</th>\n",
       "      <th>ltue</th>\n",
       "      <th>employed_before</th>\n",
       "      <th>receipt_leh_before</th>\n",
       "      <th>receipt_lhg_before</th>\n",
       "      <th>se_before</th>\n",
       "      <th>ASU_notue_seeking_before</th>\n",
       "      <th>ASU_other_before</th>\n",
       "      <th>...</th>\n",
       "      <th>minijob_tot_dur_byage</th>\n",
       "      <th>ft_tot_dur_byage</th>\n",
       "      <th>befrist_tot_dur_byage</th>\n",
       "      <th>leih_tot_dur_byage</th>\n",
       "      <th>LHG_tot_dur_byage</th>\n",
       "      <th>LEH_tot_dur_byage</th>\n",
       "      <th>almp_tot_dur_byage</th>\n",
       "      <th>almp_aw_tot_dur_byage</th>\n",
       "      <th>se_tot_dur_byage</th>\n",
       "      <th>seeking1_tot_dur_byage</th>\n",
       "    </tr>\n",
       "  </thead>\n",
       "  <tbody>\n",
       "    <tr>\n",
       "      <th>0</th>\n",
       "      <td>7</td>\n",
       "      <td>2015</td>\n",
       "      <td>1</td>\n",
       "      <td>0</td>\n",
       "      <td>1</td>\n",
       "      <td>0</td>\n",
       "      <td>0</td>\n",
       "      <td>0</td>\n",
       "      <td>1</td>\n",
       "      <td>0</td>\n",
       "      <td>...</td>\n",
       "      <td>0.000000</td>\n",
       "      <td>0.000000</td>\n",
       "      <td>15.043478</td>\n",
       "      <td>0.000000</td>\n",
       "      <td>0.000000</td>\n",
       "      <td>0.000000</td>\n",
       "      <td>0.000000</td>\n",
       "      <td>0.000000</td>\n",
       "      <td>0.000000</td>\n",
       "      <td>0.000000</td>\n",
       "    </tr>\n",
       "    <tr>\n",
       "      <th>1</th>\n",
       "      <td>18</td>\n",
       "      <td>2010</td>\n",
       "      <td>1</td>\n",
       "      <td>1</td>\n",
       "      <td>0</td>\n",
       "      <td>0</td>\n",
       "      <td>0</td>\n",
       "      <td>0</td>\n",
       "      <td>0</td>\n",
       "      <td>0</td>\n",
       "      <td>...</td>\n",
       "      <td>0.000000</td>\n",
       "      <td>0.000000</td>\n",
       "      <td>0.000000</td>\n",
       "      <td>0.000000</td>\n",
       "      <td>0.000000</td>\n",
       "      <td>0.000000</td>\n",
       "      <td>0.000000</td>\n",
       "      <td>0.000000</td>\n",
       "      <td>0.000000</td>\n",
       "      <td>0.000000</td>\n",
       "    </tr>\n",
       "    <tr>\n",
       "      <th>2</th>\n",
       "      <td>18</td>\n",
       "      <td>2011</td>\n",
       "      <td>2</td>\n",
       "      <td>0</td>\n",
       "      <td>1</td>\n",
       "      <td>0</td>\n",
       "      <td>1</td>\n",
       "      <td>0</td>\n",
       "      <td>1</td>\n",
       "      <td>0</td>\n",
       "      <td>...</td>\n",
       "      <td>2.714286</td>\n",
       "      <td>2.714286</td>\n",
       "      <td>0.000000</td>\n",
       "      <td>0.000000</td>\n",
       "      <td>10.775510</td>\n",
       "      <td>0.000000</td>\n",
       "      <td>8.367347</td>\n",
       "      <td>0.000000</td>\n",
       "      <td>0.000000</td>\n",
       "      <td>9.836735</td>\n",
       "    </tr>\n",
       "    <tr>\n",
       "      <th>3</th>\n",
       "      <td>18</td>\n",
       "      <td>2012</td>\n",
       "      <td>3</td>\n",
       "      <td>0</td>\n",
       "      <td>1</td>\n",
       "      <td>0</td>\n",
       "      <td>1</td>\n",
       "      <td>0</td>\n",
       "      <td>1</td>\n",
       "      <td>0</td>\n",
       "      <td>...</td>\n",
       "      <td>4.200000</td>\n",
       "      <td>4.200000</td>\n",
       "      <td>0.000000</td>\n",
       "      <td>0.000000</td>\n",
       "      <td>12.100000</td>\n",
       "      <td>0.000000</td>\n",
       "      <td>9.400000</td>\n",
       "      <td>0.000000</td>\n",
       "      <td>0.000000</td>\n",
       "      <td>9.960000</td>\n",
       "    </tr>\n",
       "    <tr>\n",
       "      <th>4</th>\n",
       "      <td>18</td>\n",
       "      <td>2012</td>\n",
       "      <td>4</td>\n",
       "      <td>0</td>\n",
       "      <td>1</td>\n",
       "      <td>0</td>\n",
       "      <td>1</td>\n",
       "      <td>0</td>\n",
       "      <td>1</td>\n",
       "      <td>0</td>\n",
       "      <td>...</td>\n",
       "      <td>5.460000</td>\n",
       "      <td>5.460000</td>\n",
       "      <td>0.000000</td>\n",
       "      <td>0.000000</td>\n",
       "      <td>13.360000</td>\n",
       "      <td>0.000000</td>\n",
       "      <td>10.320000</td>\n",
       "      <td>0.000000</td>\n",
       "      <td>0.000000</td>\n",
       "      <td>10.280000</td>\n",
       "    </tr>\n",
       "    <tr>\n",
       "      <th>...</th>\n",
       "      <td>...</td>\n",
       "      <td>...</td>\n",
       "      <td>...</td>\n",
       "      <td>...</td>\n",
       "      <td>...</td>\n",
       "      <td>...</td>\n",
       "      <td>...</td>\n",
       "      <td>...</td>\n",
       "      <td>...</td>\n",
       "      <td>...</td>\n",
       "      <td>...</td>\n",
       "      <td>...</td>\n",
       "      <td>...</td>\n",
       "      <td>...</td>\n",
       "      <td>...</td>\n",
       "      <td>...</td>\n",
       "      <td>...</td>\n",
       "      <td>...</td>\n",
       "      <td>...</td>\n",
       "      <td>...</td>\n",
       "      <td>...</td>\n",
       "    </tr>\n",
       "    <tr>\n",
       "      <th>643685</th>\n",
       "      <td>1827860</td>\n",
       "      <td>2013</td>\n",
       "      <td>1</td>\n",
       "      <td>0</td>\n",
       "      <td>0</td>\n",
       "      <td>0</td>\n",
       "      <td>1</td>\n",
       "      <td>0</td>\n",
       "      <td>0</td>\n",
       "      <td>1</td>\n",
       "      <td>...</td>\n",
       "      <td>0.000000</td>\n",
       "      <td>0.000000</td>\n",
       "      <td>0.000000</td>\n",
       "      <td>0.000000</td>\n",
       "      <td>0.612903</td>\n",
       "      <td>0.000000</td>\n",
       "      <td>0.000000</td>\n",
       "      <td>0.000000</td>\n",
       "      <td>0.000000</td>\n",
       "      <td>0.000000</td>\n",
       "    </tr>\n",
       "    <tr>\n",
       "      <th>643686</th>\n",
       "      <td>1827860</td>\n",
       "      <td>2015</td>\n",
       "      <td>2</td>\n",
       "      <td>1</td>\n",
       "      <td>0</td>\n",
       "      <td>0</td>\n",
       "      <td>1</td>\n",
       "      <td>0</td>\n",
       "      <td>1</td>\n",
       "      <td>0</td>\n",
       "      <td>...</td>\n",
       "      <td>0.000000</td>\n",
       "      <td>0.000000</td>\n",
       "      <td>0.212121</td>\n",
       "      <td>0.212121</td>\n",
       "      <td>17.363636</td>\n",
       "      <td>0.000000</td>\n",
       "      <td>8.909091</td>\n",
       "      <td>0.000000</td>\n",
       "      <td>0.000000</td>\n",
       "      <td>7.121212</td>\n",
       "    </tr>\n",
       "    <tr>\n",
       "      <th>643687</th>\n",
       "      <td>1827860</td>\n",
       "      <td>2016</td>\n",
       "      <td>3</td>\n",
       "      <td>1</td>\n",
       "      <td>0</td>\n",
       "      <td>0</td>\n",
       "      <td>1</td>\n",
       "      <td>1</td>\n",
       "      <td>0</td>\n",
       "      <td>1</td>\n",
       "      <td>...</td>\n",
       "      <td>0.000000</td>\n",
       "      <td>0.000000</td>\n",
       "      <td>0.294118</td>\n",
       "      <td>0.205882</td>\n",
       "      <td>34.705882</td>\n",
       "      <td>0.000000</td>\n",
       "      <td>10.352941</td>\n",
       "      <td>1.705882</td>\n",
       "      <td>1.705882</td>\n",
       "      <td>23.911765</td>\n",
       "    </tr>\n",
       "    <tr>\n",
       "      <th>643688</th>\n",
       "      <td>1827869</td>\n",
       "      <td>2013</td>\n",
       "      <td>1</td>\n",
       "      <td>1</td>\n",
       "      <td>1</td>\n",
       "      <td>0</td>\n",
       "      <td>0</td>\n",
       "      <td>0</td>\n",
       "      <td>1</td>\n",
       "      <td>0</td>\n",
       "      <td>...</td>\n",
       "      <td>0.000000</td>\n",
       "      <td>0.000000</td>\n",
       "      <td>0.000000</td>\n",
       "      <td>0.000000</td>\n",
       "      <td>0.000000</td>\n",
       "      <td>0.525424</td>\n",
       "      <td>0.000000</td>\n",
       "      <td>0.000000</td>\n",
       "      <td>0.000000</td>\n",
       "      <td>0.000000</td>\n",
       "    </tr>\n",
       "    <tr>\n",
       "      <th>643689</th>\n",
       "      <td>1827869</td>\n",
       "      <td>2014</td>\n",
       "      <td>2</td>\n",
       "      <td>0</td>\n",
       "      <td>0</td>\n",
       "      <td>1</td>\n",
       "      <td>0</td>\n",
       "      <td>0</td>\n",
       "      <td>1</td>\n",
       "      <td>0</td>\n",
       "      <td>...</td>\n",
       "      <td>0.000000</td>\n",
       "      <td>0.666667</td>\n",
       "      <td>0.666667</td>\n",
       "      <td>0.000000</td>\n",
       "      <td>0.000000</td>\n",
       "      <td>8.950000</td>\n",
       "      <td>1.033333</td>\n",
       "      <td>0.083333</td>\n",
       "      <td>0.083333</td>\n",
       "      <td>8.133333</td>\n",
       "    </tr>\n",
       "  </tbody>\n",
       "</table>\n",
       "<p>643690 rows × 164 columns</p>\n",
       "</div>"
      ],
      "text/plain": [
       "         persnr  year  nrEntry  ltue  employed_before  receipt_leh_before  \\\n",
       "0             7  2015        1     0                1                   0   \n",
       "1            18  2010        1     1                0                   0   \n",
       "2            18  2011        2     0                1                   0   \n",
       "3            18  2012        3     0                1                   0   \n",
       "4            18  2012        4     0                1                   0   \n",
       "...         ...   ...      ...   ...              ...                 ...   \n",
       "643685  1827860  2013        1     0                0                   0   \n",
       "643686  1827860  2015        2     1                0                   0   \n",
       "643687  1827860  2016        3     1                0                   0   \n",
       "643688  1827869  2013        1     1                1                   0   \n",
       "643689  1827869  2014        2     0                0                   1   \n",
       "\n",
       "        receipt_lhg_before  se_before  ASU_notue_seeking_before  \\\n",
       "0                        0          0                         1   \n",
       "1                        0          0                         0   \n",
       "2                        1          0                         1   \n",
       "3                        1          0                         1   \n",
       "4                        1          0                         1   \n",
       "...                    ...        ...                       ...   \n",
       "643685                   1          0                         0   \n",
       "643686                   1          0                         1   \n",
       "643687                   1          1                         0   \n",
       "643688                   0          0                         1   \n",
       "643689                   0          0                         1   \n",
       "\n",
       "        ASU_other_before  ...  minijob_tot_dur_byage  ft_tot_dur_byage  \\\n",
       "0                      0  ...               0.000000          0.000000   \n",
       "1                      0  ...               0.000000          0.000000   \n",
       "2                      0  ...               2.714286          2.714286   \n",
       "3                      0  ...               4.200000          4.200000   \n",
       "4                      0  ...               5.460000          5.460000   \n",
       "...                  ...  ...                    ...               ...   \n",
       "643685                 1  ...               0.000000          0.000000   \n",
       "643686                 0  ...               0.000000          0.000000   \n",
       "643687                 1  ...               0.000000          0.000000   \n",
       "643688                 0  ...               0.000000          0.000000   \n",
       "643689                 0  ...               0.000000          0.666667   \n",
       "\n",
       "        befrist_tot_dur_byage  leih_tot_dur_byage  LHG_tot_dur_byage  \\\n",
       "0                   15.043478            0.000000           0.000000   \n",
       "1                    0.000000            0.000000           0.000000   \n",
       "2                    0.000000            0.000000          10.775510   \n",
       "3                    0.000000            0.000000          12.100000   \n",
       "4                    0.000000            0.000000          13.360000   \n",
       "...                       ...                 ...                ...   \n",
       "643685               0.000000            0.000000           0.612903   \n",
       "643686               0.212121            0.212121          17.363636   \n",
       "643687               0.294118            0.205882          34.705882   \n",
       "643688               0.000000            0.000000           0.000000   \n",
       "643689               0.666667            0.000000           0.000000   \n",
       "\n",
       "        LEH_tot_dur_byage  almp_tot_dur_byage  almp_aw_tot_dur_byage  \\\n",
       "0                0.000000            0.000000               0.000000   \n",
       "1                0.000000            0.000000               0.000000   \n",
       "2                0.000000            8.367347               0.000000   \n",
       "3                0.000000            9.400000               0.000000   \n",
       "4                0.000000           10.320000               0.000000   \n",
       "...                   ...                 ...                    ...   \n",
       "643685           0.000000            0.000000               0.000000   \n",
       "643686           0.000000            8.909091               0.000000   \n",
       "643687           0.000000           10.352941               1.705882   \n",
       "643688           0.525424            0.000000               0.000000   \n",
       "643689           8.950000            1.033333               0.083333   \n",
       "\n",
       "        se_tot_dur_byage  seeking1_tot_dur_byage  \n",
       "0               0.000000                0.000000  \n",
       "1               0.000000                0.000000  \n",
       "2               0.000000                9.836735  \n",
       "3               0.000000                9.960000  \n",
       "4               0.000000               10.280000  \n",
       "...                  ...                     ...  \n",
       "643685          0.000000                0.000000  \n",
       "643686          0.000000                7.121212  \n",
       "643687          1.705882               23.911765  \n",
       "643688          0.000000                0.000000  \n",
       "643689          0.083333                8.133333  \n",
       "\n",
       "[643690 rows x 164 columns]"
      ]
     },
     "execution_count": 10,
     "metadata": {},
     "output_type": "execute_result"
    }
   ],
   "source": [
    "siab"
   ]
  },
  {
   "cell_type": "markdown",
   "id": "1f87e805",
   "metadata": {
    "papermill": {
     "duration": 0.009449,
     "end_time": "2025-08-19T18:24:00.089683",
     "exception": false,
     "start_time": "2025-08-19T18:24:00.080234",
     "status": "completed"
    },
    "tags": []
   },
   "source": [
    "# Splitting Data and Setting Training Data Size"
   ]
  },
  {
   "cell_type": "code",
   "execution_count": 11,
   "id": "910ae358",
   "metadata": {
    "execution": {
     "iopub.execute_input": "2025-08-19T18:24:00.109852Z",
     "iopub.status.busy": "2025-08-19T18:24:00.109364Z",
     "iopub.status.idle": "2025-08-19T18:24:00.386739Z",
     "shell.execute_reply": "2025-08-19T18:24:00.386018Z"
    },
    "papermill": {
     "duration": 0.289253,
     "end_time": "2025-08-19T18:24:00.388279",
     "exception": false,
     "start_time": "2025-08-19T18:24:00.099026",
     "status": "completed"
    },
    "tags": []
   },
   "outputs": [],
   "source": [
    "from fairness_multiverse.universe import sample_by_year_size\n",
    "\n",
    "siab_train = sample_by_year_size(siab,\n",
    "                               training_year=universe[\"training_year\"],\n",
    "                               training_size=universe[\"training_size\"])"
   ]
  },
  {
   "cell_type": "code",
   "execution_count": 12,
   "id": "919c8ff5",
   "metadata": {
    "execution": {
     "iopub.execute_input": "2025-08-19T18:24:00.418142Z",
     "iopub.status.busy": "2025-08-19T18:24:00.417720Z",
     "iopub.status.idle": "2025-08-19T18:24:00.423470Z",
     "shell.execute_reply": "2025-08-19T18:24:00.422733Z"
    },
    "papermill": {
     "duration": 0.024103,
     "end_time": "2025-08-19T18:24:00.425200",
     "exception": false,
     "start_time": "2025-08-19T18:24:00.401097",
     "status": "completed"
    },
    "tags": []
   },
   "outputs": [
    {
     "data": {
      "text/plain": [
       "(5000, 164)"
      ]
     },
     "execution_count": 12,
     "metadata": {},
     "output_type": "execute_result"
    }
   ],
   "source": [
    "siab_train.shape"
   ]
  },
  {
   "cell_type": "code",
   "execution_count": 13,
   "id": "feb13bf4",
   "metadata": {
    "execution": {
     "iopub.execute_input": "2025-08-19T18:24:00.445854Z",
     "iopub.status.busy": "2025-08-19T18:24:00.445500Z",
     "iopub.status.idle": "2025-08-19T18:24:00.452752Z",
     "shell.execute_reply": "2025-08-19T18:24:00.452084Z"
    },
    "papermill": {
     "duration": 0.019041,
     "end_time": "2025-08-19T18:24:00.454066",
     "exception": false,
     "start_time": "2025-08-19T18:24:00.435025",
     "status": "completed"
    },
    "tags": []
   },
   "outputs": [
    {
     "data": {
      "text/plain": [
       "year\n",
       "2014    5000\n",
       "dtype: int64"
      ]
     },
     "metadata": {},
     "output_type": "display_data"
    }
   ],
   "source": [
    "display(siab_train.groupby(\"year\").size())"
   ]
  },
  {
   "cell_type": "code",
   "execution_count": 14,
   "id": "0997782f",
   "metadata": {
    "execution": {
     "iopub.execute_input": "2025-08-19T18:24:00.475800Z",
     "iopub.status.busy": "2025-08-19T18:24:00.475390Z",
     "iopub.status.idle": "2025-08-19T18:24:01.071301Z",
     "shell.execute_reply": "2025-08-19T18:24:01.070512Z"
    },
    "papermill": {
     "duration": 0.608491,
     "end_time": "2025-08-19T18:24:01.072821",
     "exception": false,
     "start_time": "2025-08-19T18:24:00.464330",
     "status": "completed"
    },
    "tags": []
   },
   "outputs": [],
   "source": [
    "#siab_train = siab_s[siab_s.year < 2015]\n",
    "siab_calib = siab[siab.year == 2015]\n",
    "siab_test = siab[siab.year == 2016]"
   ]
  },
  {
   "cell_type": "code",
   "execution_count": 15,
   "id": "2c1e4012",
   "metadata": {
    "execution": {
     "iopub.execute_input": "2025-08-19T18:24:01.094073Z",
     "iopub.status.busy": "2025-08-19T18:24:01.093712Z",
     "iopub.status.idle": "2025-08-19T18:24:01.097205Z",
     "shell.execute_reply": "2025-08-19T18:24:01.096529Z"
    },
    "papermill": {
     "duration": 0.015552,
     "end_time": "2025-08-19T18:24:01.098541",
     "exception": false,
     "start_time": "2025-08-19T18:24:01.082989",
     "status": "completed"
    },
    "tags": []
   },
   "outputs": [],
   "source": [
    "#siab_calib.shape"
   ]
  },
  {
   "cell_type": "code",
   "execution_count": 16,
   "id": "f66b54ca",
   "metadata": {
    "execution": {
     "iopub.execute_input": "2025-08-19T18:24:01.119505Z",
     "iopub.status.busy": "2025-08-19T18:24:01.119051Z",
     "iopub.status.idle": "2025-08-19T18:24:01.122817Z",
     "shell.execute_reply": "2025-08-19T18:24:01.122169Z"
    },
    "papermill": {
     "duration": 0.015782,
     "end_time": "2025-08-19T18:24:01.124084",
     "exception": false,
     "start_time": "2025-08-19T18:24:01.108302",
     "status": "completed"
    },
    "tags": []
   },
   "outputs": [],
   "source": [
    "#siab_test.shape"
   ]
  },
  {
   "cell_type": "code",
   "execution_count": 17,
   "id": "27e4384d",
   "metadata": {
    "execution": {
     "iopub.execute_input": "2025-08-19T18:24:01.144709Z",
     "iopub.status.busy": "2025-08-19T18:24:01.144364Z",
     "iopub.status.idle": "2025-08-19T18:24:01.203647Z",
     "shell.execute_reply": "2025-08-19T18:24:01.202334Z"
    },
    "papermill": {
     "duration": 0.072316,
     "end_time": "2025-08-19T18:24:01.206159",
     "exception": false,
     "start_time": "2025-08-19T18:24:01.133843",
     "status": "completed"
    },
    "tags": []
   },
   "outputs": [],
   "source": [
    "X_train = siab_train.iloc[:,4:164]\n",
    "y_train = siab_train.iloc[:, [3]]"
   ]
  },
  {
   "cell_type": "code",
   "execution_count": 18,
   "id": "08ee8389",
   "metadata": {
    "execution": {
     "iopub.execute_input": "2025-08-19T18:24:01.234228Z",
     "iopub.status.busy": "2025-08-19T18:24:01.233875Z",
     "iopub.status.idle": "2025-08-19T18:24:01.282797Z",
     "shell.execute_reply": "2025-08-19T18:24:01.282035Z"
    },
    "papermill": {
     "duration": 0.062138,
     "end_time": "2025-08-19T18:24:01.285243",
     "exception": false,
     "start_time": "2025-08-19T18:24:01.223105",
     "status": "completed"
    },
    "tags": []
   },
   "outputs": [],
   "source": [
    "X_calib = siab_calib.iloc[:,4:164]\n",
    "y_calib = siab_calib.iloc[:, [3]]"
   ]
  },
  {
   "cell_type": "code",
   "execution_count": 19,
   "id": "b7ff42e0",
   "metadata": {
    "execution": {
     "iopub.execute_input": "2025-08-19T18:24:01.326535Z",
     "iopub.status.busy": "2025-08-19T18:24:01.325199Z",
     "iopub.status.idle": "2025-08-19T18:24:01.382430Z",
     "shell.execute_reply": "2025-08-19T18:24:01.381754Z"
    },
    "papermill": {
     "duration": 0.091268,
     "end_time": "2025-08-19T18:24:01.399917",
     "exception": false,
     "start_time": "2025-08-19T18:24:01.308649",
     "status": "completed"
    },
    "tags": []
   },
   "outputs": [],
   "source": [
    "X_test = siab_test.iloc[:,4:164]\n",
    "y_true = siab_test.iloc[:, [3]]"
   ]
  },
  {
   "cell_type": "code",
   "execution_count": 20,
   "id": "0275101e",
   "metadata": {
    "execution": {
     "iopub.execute_input": "2025-08-19T18:24:01.436200Z",
     "iopub.status.busy": "2025-08-19T18:24:01.435171Z",
     "iopub.status.idle": "2025-08-19T18:24:01.547744Z",
     "shell.execute_reply": "2025-08-19T18:24:01.547045Z"
    },
    "papermill": {
     "duration": 0.127552,
     "end_time": "2025-08-19T18:24:01.549462",
     "exception": false,
     "start_time": "2025-08-19T18:24:01.421910",
     "status": "completed"
    },
    "tags": []
   },
   "outputs": [],
   "source": [
    "# Auxiliary data needed downstream in the pipeline\n",
    "\n",
    "org_train = X_train.copy()\n",
    "org_test = X_test.copy()\n",
    "org_calib = X_calib.copy()"
   ]
  },
  {
   "cell_type": "markdown",
   "id": "b461e618",
   "metadata": {
    "papermill": {
     "duration": 0.036448,
     "end_time": "2025-08-19T18:24:01.597906",
     "exception": false,
     "start_time": "2025-08-19T18:24:01.561458",
     "status": "completed"
    },
    "tags": []
   },
   "source": [
    "# Preprocessing Data"
   ]
  },
  {
   "cell_type": "code",
   "execution_count": 21,
   "id": "78e74c4b",
   "metadata": {
    "execution": {
     "iopub.execute_input": "2025-08-19T18:24:01.621920Z",
     "iopub.status.busy": "2025-08-19T18:24:01.620446Z",
     "iopub.status.idle": "2025-08-19T18:24:01.629789Z",
     "shell.execute_reply": "2025-08-19T18:24:01.628460Z"
    },
    "papermill": {
     "duration": 0.024381,
     "end_time": "2025-08-19T18:24:01.632846",
     "exception": false,
     "start_time": "2025-08-19T18:24:01.608465",
     "status": "completed"
    },
    "tags": []
   },
   "outputs": [],
   "source": [
    "# EXCLUDE PROTECTED FEATURES\n",
    "# --------------------------\n",
    "\n",
    "excluded_features = universe[\"exclude_features\"].split(\"-\")\n",
    "excluded_features_dictionary = {\n",
    "    \"nationality\": [\"maxdeutsch1\", \"maxdeutsch.Missing.\"],\n",
    "    \"sex\": [\"frau1\"],\n",
    "    \"age\": [\"age\"],\n",
    "}"
   ]
  },
  {
   "cell_type": "code",
   "execution_count": 22,
   "id": "f8e63555",
   "metadata": {
    "execution": {
     "iopub.execute_input": "2025-08-19T18:24:01.673182Z",
     "iopub.status.busy": "2025-08-19T18:24:01.672318Z",
     "iopub.status.idle": "2025-08-19T18:24:01.679491Z",
     "shell.execute_reply": "2025-08-19T18:24:01.678284Z"
    },
    "papermill": {
     "duration": 0.028995,
     "end_time": "2025-08-19T18:24:01.681343",
     "exception": false,
     "start_time": "2025-08-19T18:24:01.652348",
     "status": "completed"
    },
    "tags": []
   },
   "outputs": [],
   "source": [
    "excluded_features_columns = [\n",
    "    excluded_features_dictionary[f] for f in excluded_features if len(f) > 0 and f != \"none\"\n",
    "]"
   ]
  },
  {
   "cell_type": "code",
   "execution_count": 23,
   "id": "da781f7c",
   "metadata": {
    "execution": {
     "iopub.execute_input": "2025-08-19T18:24:01.710384Z",
     "iopub.status.busy": "2025-08-19T18:24:01.709408Z",
     "iopub.status.idle": "2025-08-19T18:24:01.717888Z",
     "shell.execute_reply": "2025-08-19T18:24:01.716231Z"
    },
    "papermill": {
     "duration": 0.023384,
     "end_time": "2025-08-19T18:24:01.719466",
     "exception": false,
     "start_time": "2025-08-19T18:24:01.696082",
     "status": "completed"
    },
    "tags": []
   },
   "outputs": [],
   "source": [
    "from fairness_multiverse.universe import flatten_once\n",
    "\n",
    "excluded_features_columns = flatten_once(excluded_features_columns)"
   ]
  },
  {
   "cell_type": "code",
   "execution_count": 24,
   "id": "37fef0f0",
   "metadata": {
    "execution": {
     "iopub.execute_input": "2025-08-19T18:24:01.745799Z",
     "iopub.status.busy": "2025-08-19T18:24:01.744956Z",
     "iopub.status.idle": "2025-08-19T18:24:01.759398Z",
     "shell.execute_reply": "2025-08-19T18:24:01.757920Z"
    },
    "papermill": {
     "duration": 0.03001,
     "end_time": "2025-08-19T18:24:01.762940",
     "exception": false,
     "start_time": "2025-08-19T18:24:01.732930",
     "status": "completed"
    },
    "tags": []
   },
   "outputs": [
    {
     "name": "stdout",
     "output_type": "stream",
     "text": [
      "Dropping features: ['maxdeutsch1', 'maxdeutsch.Missing.', 'frau1']\n"
     ]
    }
   ],
   "source": [
    "if len(excluded_features_columns) > 0:\n",
    "    print(f\"Dropping features: {excluded_features_columns}\")\n",
    "    X_train.drop(excluded_features_columns, axis=1, inplace=True)"
   ]
  },
  {
   "cell_type": "code",
   "execution_count": 25,
   "id": "d029e3e9",
   "metadata": {
    "execution": {
     "iopub.execute_input": "2025-08-19T18:24:01.789661Z",
     "iopub.status.busy": "2025-08-19T18:24:01.788747Z",
     "iopub.status.idle": "2025-08-19T18:24:01.848706Z",
     "shell.execute_reply": "2025-08-19T18:24:01.847621Z"
    },
    "papermill": {
     "duration": 0.073707,
     "end_time": "2025-08-19T18:24:01.850066",
     "exception": false,
     "start_time": "2025-08-19T18:24:01.776359",
     "status": "completed"
    },
    "tags": []
   },
   "outputs": [
    {
     "name": "stdout",
     "output_type": "stream",
     "text": [
      "Dropping features: ['maxdeutsch1', 'maxdeutsch.Missing.', 'frau1']\n"
     ]
    }
   ],
   "source": [
    "if len(excluded_features_columns) > 0:\n",
    "    print(f\"Dropping features: {excluded_features_columns}\")\n",
    "    X_test.drop(excluded_features_columns, axis=1, inplace=True)"
   ]
  },
  {
   "cell_type": "code",
   "execution_count": 26,
   "id": "01d571f0",
   "metadata": {
    "execution": {
     "iopub.execute_input": "2025-08-19T18:24:01.888228Z",
     "iopub.status.busy": "2025-08-19T18:24:01.887415Z",
     "iopub.status.idle": "2025-08-19T18:24:01.944842Z",
     "shell.execute_reply": "2025-08-19T18:24:01.943467Z"
    },
    "papermill": {
     "duration": 0.078116,
     "end_time": "2025-08-19T18:24:01.946996",
     "exception": false,
     "start_time": "2025-08-19T18:24:01.868880",
     "status": "completed"
    },
    "tags": []
   },
   "outputs": [
    {
     "name": "stdout",
     "output_type": "stream",
     "text": [
      "Dropping features: ['maxdeutsch1', 'maxdeutsch.Missing.', 'frau1']\n"
     ]
    }
   ],
   "source": [
    "if len(excluded_features_columns) > 0:\n",
    "    print(f\"Dropping features: {excluded_features_columns}\")\n",
    "    X_calib.drop(excluded_features_columns, axis=1, inplace=True)"
   ]
  },
  {
   "cell_type": "code",
   "execution_count": 27,
   "id": "3037356e",
   "metadata": {
    "execution": {
     "iopub.execute_input": "2025-08-19T18:24:01.988747Z",
     "iopub.status.busy": "2025-08-19T18:24:01.987680Z",
     "iopub.status.idle": "2025-08-19T18:24:01.995287Z",
     "shell.execute_reply": "2025-08-19T18:24:01.993943Z"
    },
    "papermill": {
     "duration": 0.02727,
     "end_time": "2025-08-19T18:24:01.996880",
     "exception": false,
     "start_time": "2025-08-19T18:24:01.969610",
     "status": "completed"
    },
    "tags": []
   },
   "outputs": [],
   "source": [
    "# EXCLUDE CERTAIN SUBGROUPS\n",
    "# -------------------------\n",
    "\n",
    "mode = universe.get(\"exclude_subgroups\", \"keep-all\") # Defaults to \"keep-all\" if the key is missing."
   ]
  },
  {
   "cell_type": "code",
   "execution_count": 28,
   "id": "9d1e63fd",
   "metadata": {
    "execution": {
     "iopub.execute_input": "2025-08-19T18:24:02.030454Z",
     "iopub.status.busy": "2025-08-19T18:24:02.029217Z",
     "iopub.status.idle": "2025-08-19T18:24:02.040607Z",
     "shell.execute_reply": "2025-08-19T18:24:02.038637Z"
    },
    "papermill": {
     "duration": 0.026317,
     "end_time": "2025-08-19T18:24:02.042147",
     "exception": false,
     "start_time": "2025-08-19T18:24:02.015830",
     "status": "completed"
    },
    "tags": []
   },
   "outputs": [],
   "source": [
    "if mode == \"keep-all\":\n",
    "    keep_mask = pd.Series(True, index=org_train.index)\n",
    "\n",
    "elif mode == \"drop-non-german\":\n",
    "    keep_mask = (org_train[\"maxdeutsch1\"] == 1) & (org_train[\"maxdeutsch.Missing.\"] == 0)\n",
    "\n",
    "else:\n",
    "    raise ValueError(f\"Unsupported mode for exclude_subgroups: {mode}\")"
   ]
  },
  {
   "cell_type": "code",
   "execution_count": 29,
   "id": "d3b65474",
   "metadata": {
    "execution": {
     "iopub.execute_input": "2025-08-19T18:24:02.066528Z",
     "iopub.status.busy": "2025-08-19T18:24:02.065571Z",
     "iopub.status.idle": "2025-08-19T18:24:02.077271Z",
     "shell.execute_reply": "2025-08-19T18:24:02.075742Z"
    },
    "papermill": {
     "duration": 0.029495,
     "end_time": "2025-08-19T18:24:02.082612",
     "exception": false,
     "start_time": "2025-08-19T18:24:02.053117",
     "status": "completed"
    },
    "tags": []
   },
   "outputs": [],
   "source": [
    "n_drop = (~keep_mask).sum() # Calculates how many rows are set to be dropped\n",
    "if n_drop > 0:\n",
    "    pct = n_drop / len(keep_mask) * 100\n",
    "    print(f\"Dropping {n_drop} rows ({pct:.2f}%) where mode='{mode}'\")"
   ]
  },
  {
   "cell_type": "code",
   "execution_count": 30,
   "id": "f44389b3",
   "metadata": {
    "execution": {
     "iopub.execute_input": "2025-08-19T18:24:02.110504Z",
     "iopub.status.busy": "2025-08-19T18:24:02.107726Z",
     "iopub.status.idle": "2025-08-19T18:24:02.126481Z",
     "shell.execute_reply": "2025-08-19T18:24:02.125354Z"
    },
    "papermill": {
     "duration": 0.034886,
     "end_time": "2025-08-19T18:24:02.129887",
     "exception": false,
     "start_time": "2025-08-19T18:24:02.095001",
     "status": "completed"
    },
    "tags": []
   },
   "outputs": [],
   "source": [
    "X_train = X_train[keep_mask]"
   ]
  },
  {
   "cell_type": "code",
   "execution_count": 31,
   "id": "ceca8c2a",
   "metadata": {
    "execution": {
     "iopub.execute_input": "2025-08-19T18:24:02.167410Z",
     "iopub.status.busy": "2025-08-19T18:24:02.165892Z",
     "iopub.status.idle": "2025-08-19T18:24:02.174885Z",
     "shell.execute_reply": "2025-08-19T18:24:02.173636Z"
    },
    "papermill": {
     "duration": 0.024816,
     "end_time": "2025-08-19T18:24:02.176896",
     "exception": false,
     "start_time": "2025-08-19T18:24:02.152080",
     "status": "completed"
    },
    "tags": []
   },
   "outputs": [],
   "source": [
    "y_train = y_train[keep_mask]"
   ]
  },
  {
   "cell_type": "markdown",
   "id": "04d31e2f",
   "metadata": {
    "papermill": {
     "duration": 0.011703,
     "end_time": "2025-08-19T18:24:02.202551",
     "exception": false,
     "start_time": "2025-08-19T18:24:02.190848",
     "status": "completed"
    },
    "tags": []
   },
   "source": [
    "# Model Training"
   ]
  },
  {
   "cell_type": "code",
   "execution_count": 32,
   "id": "db991733",
   "metadata": {
    "execution": {
     "iopub.execute_input": "2025-08-19T18:24:02.227081Z",
     "iopub.status.busy": "2025-08-19T18:24:02.225999Z",
     "iopub.status.idle": "2025-08-19T18:24:02.326118Z",
     "shell.execute_reply": "2025-08-19T18:24:02.325270Z"
    },
    "papermill": {
     "duration": 0.113999,
     "end_time": "2025-08-19T18:24:02.327660",
     "exception": false,
     "start_time": "2025-08-19T18:24:02.213661",
     "status": "completed"
    },
    "tags": []
   },
   "outputs": [],
   "source": [
    "from sklearn.linear_model import LogisticRegression\n",
    "from sklearn.ensemble import GradientBoostingClassifier, RandomForestClassifier\n",
    "\n",
    "if (universe[\"model\"] == \"logreg\"):\n",
    "    model = LogisticRegression() #penalty=\"none\", solver=\"newton-cg\", max_iter=1)\n",
    "elif (universe[\"model\"] == \"penalized_logreg\"):\n",
    "    model = LogisticRegression(penalty=\"l2\", C=0.1) #, solver=\"newton-cg\", max_iter=1)\n",
    "elif (universe[\"model\"] == \"rf\"):\n",
    "    model = RandomForestClassifier() # n_estimators=100, n_jobs=-1\n",
    "elif (universe[\"model\"] == \"gbm\"):\n",
    "    model = GradientBoostingClassifier()\n",
    "elif (universe[\"model\"] == \"elasticnet\"):\n",
    "    model = LogisticRegression(penalty = 'elasticnet', solver = 'saga', l1_ratio = 0.5) # max_iter=5000\n",
    "else:\n",
    "    raise \"Unsupported universe.model\""
   ]
  },
  {
   "cell_type": "code",
   "execution_count": 33,
   "id": "a4b5cd25",
   "metadata": {
    "execution": {
     "iopub.execute_input": "2025-08-19T18:24:02.351109Z",
     "iopub.status.busy": "2025-08-19T18:24:02.350215Z",
     "iopub.status.idle": "2025-08-19T18:24:02.356865Z",
     "shell.execute_reply": "2025-08-19T18:24:02.355800Z"
    },
    "papermill": {
     "duration": 0.019689,
     "end_time": "2025-08-19T18:24:02.358334",
     "exception": false,
     "start_time": "2025-08-19T18:24:02.338645",
     "status": "completed"
    },
    "tags": []
   },
   "outputs": [],
   "source": [
    "from sklearn.pipeline import Pipeline\n",
    "from sklearn.preprocessing import StandardScaler\n",
    "\n",
    "model = Pipeline([\n",
    "    #(\"continuous_processor\", continuous_processor),\n",
    "    #(\"categorical_preprocessor\", categorical_preprocessor),\n",
    "    (\"scale\", StandardScaler() if universe[\"scale\"] == \"scale\" else None), \n",
    "    (\"model\", model),\n",
    "])"
   ]
  },
  {
   "cell_type": "code",
   "execution_count": 34,
   "id": "283a904d",
   "metadata": {
    "execution": {
     "iopub.execute_input": "2025-08-19T18:24:02.383350Z",
     "iopub.status.busy": "2025-08-19T18:24:02.382113Z",
     "iopub.status.idle": "2025-08-19T18:24:02.521857Z",
     "shell.execute_reply": "2025-08-19T18:24:02.521044Z"
    },
    "papermill": {
     "duration": 0.153886,
     "end_time": "2025-08-19T18:24:02.523957",
     "exception": false,
     "start_time": "2025-08-19T18:24:02.370071",
     "status": "completed"
    },
    "tags": []
   },
   "outputs": [
    {
     "data": {
      "text/html": [
       "<style>#sk-container-id-1 {color: black;background-color: white;}#sk-container-id-1 pre{padding: 0;}#sk-container-id-1 div.sk-toggleable {background-color: white;}#sk-container-id-1 label.sk-toggleable__label {cursor: pointer;display: block;width: 100%;margin-bottom: 0;padding: 0.3em;box-sizing: border-box;text-align: center;}#sk-container-id-1 label.sk-toggleable__label-arrow:before {content: \"▸\";float: left;margin-right: 0.25em;color: #696969;}#sk-container-id-1 label.sk-toggleable__label-arrow:hover:before {color: black;}#sk-container-id-1 div.sk-estimator:hover label.sk-toggleable__label-arrow:before {color: black;}#sk-container-id-1 div.sk-toggleable__content {max-height: 0;max-width: 0;overflow: hidden;text-align: left;background-color: #f0f8ff;}#sk-container-id-1 div.sk-toggleable__content pre {margin: 0.2em;color: black;border-radius: 0.25em;background-color: #f0f8ff;}#sk-container-id-1 input.sk-toggleable__control:checked~div.sk-toggleable__content {max-height: 200px;max-width: 100%;overflow: auto;}#sk-container-id-1 input.sk-toggleable__control:checked~label.sk-toggleable__label-arrow:before {content: \"▾\";}#sk-container-id-1 div.sk-estimator input.sk-toggleable__control:checked~label.sk-toggleable__label {background-color: #d4ebff;}#sk-container-id-1 div.sk-label input.sk-toggleable__control:checked~label.sk-toggleable__label {background-color: #d4ebff;}#sk-container-id-1 input.sk-hidden--visually {border: 0;clip: rect(1px 1px 1px 1px);clip: rect(1px, 1px, 1px, 1px);height: 1px;margin: -1px;overflow: hidden;padding: 0;position: absolute;width: 1px;}#sk-container-id-1 div.sk-estimator {font-family: monospace;background-color: #f0f8ff;border: 1px dotted black;border-radius: 0.25em;box-sizing: border-box;margin-bottom: 0.5em;}#sk-container-id-1 div.sk-estimator:hover {background-color: #d4ebff;}#sk-container-id-1 div.sk-parallel-item::after {content: \"\";width: 100%;border-bottom: 1px solid gray;flex-grow: 1;}#sk-container-id-1 div.sk-label:hover label.sk-toggleable__label {background-color: #d4ebff;}#sk-container-id-1 div.sk-serial::before {content: \"\";position: absolute;border-left: 1px solid gray;box-sizing: border-box;top: 0;bottom: 0;left: 50%;z-index: 0;}#sk-container-id-1 div.sk-serial {display: flex;flex-direction: column;align-items: center;background-color: white;padding-right: 0.2em;padding-left: 0.2em;position: relative;}#sk-container-id-1 div.sk-item {position: relative;z-index: 1;}#sk-container-id-1 div.sk-parallel {display: flex;align-items: stretch;justify-content: center;background-color: white;position: relative;}#sk-container-id-1 div.sk-item::before, #sk-container-id-1 div.sk-parallel-item::before {content: \"\";position: absolute;border-left: 1px solid gray;box-sizing: border-box;top: 0;bottom: 0;left: 50%;z-index: -1;}#sk-container-id-1 div.sk-parallel-item {display: flex;flex-direction: column;z-index: 1;position: relative;background-color: white;}#sk-container-id-1 div.sk-parallel-item:first-child::after {align-self: flex-end;width: 50%;}#sk-container-id-1 div.sk-parallel-item:last-child::after {align-self: flex-start;width: 50%;}#sk-container-id-1 div.sk-parallel-item:only-child::after {width: 0;}#sk-container-id-1 div.sk-dashed-wrapped {border: 1px dashed gray;margin: 0 0.4em 0.5em 0.4em;box-sizing: border-box;padding-bottom: 0.4em;background-color: white;}#sk-container-id-1 div.sk-label label {font-family: monospace;font-weight: bold;display: inline-block;line-height: 1.2em;}#sk-container-id-1 div.sk-label-container {text-align: center;}#sk-container-id-1 div.sk-container {/* jupyter's `normalize.less` sets `[hidden] { display: none; }` but bootstrap.min.css set `[hidden] { display: none !important; }` so we also need the `!important` here to be able to override the default hidden behavior on the sphinx rendered scikit-learn.org. See: https://github.com/scikit-learn/scikit-learn/issues/21755 */display: inline-block !important;position: relative;}#sk-container-id-1 div.sk-text-repr-fallback {display: none;}</style><div id=\"sk-container-id-1\" class=\"sk-top-container\"><div class=\"sk-text-repr-fallback\"><pre>Pipeline(steps=[(&#x27;scale&#x27;, StandardScaler()),\n",
       "                (&#x27;model&#x27;, LogisticRegression(C=0.1))])</pre><b>In a Jupyter environment, please rerun this cell to show the HTML representation or trust the notebook. <br />On GitHub, the HTML representation is unable to render, please try loading this page with nbviewer.org.</b></div><div class=\"sk-container\" hidden><div class=\"sk-item sk-dashed-wrapped\"><div class=\"sk-label-container\"><div class=\"sk-label sk-toggleable\"><input class=\"sk-toggleable__control sk-hidden--visually\" id=\"sk-estimator-id-1\" type=\"checkbox\" ><label for=\"sk-estimator-id-1\" class=\"sk-toggleable__label sk-toggleable__label-arrow\">Pipeline</label><div class=\"sk-toggleable__content\"><pre>Pipeline(steps=[(&#x27;scale&#x27;, StandardScaler()),\n",
       "                (&#x27;model&#x27;, LogisticRegression(C=0.1))])</pre></div></div></div><div class=\"sk-serial\"><div class=\"sk-item\"><div class=\"sk-estimator sk-toggleable\"><input class=\"sk-toggleable__control sk-hidden--visually\" id=\"sk-estimator-id-2\" type=\"checkbox\" ><label for=\"sk-estimator-id-2\" class=\"sk-toggleable__label sk-toggleable__label-arrow\">StandardScaler</label><div class=\"sk-toggleable__content\"><pre>StandardScaler()</pre></div></div></div><div class=\"sk-item\"><div class=\"sk-estimator sk-toggleable\"><input class=\"sk-toggleable__control sk-hidden--visually\" id=\"sk-estimator-id-3\" type=\"checkbox\" ><label for=\"sk-estimator-id-3\" class=\"sk-toggleable__label sk-toggleable__label-arrow\">LogisticRegression</label><div class=\"sk-toggleable__content\"><pre>LogisticRegression(C=0.1)</pre></div></div></div></div></div></div></div>"
      ],
      "text/plain": [
       "Pipeline(steps=[('scale', StandardScaler()),\n",
       "                ('model', LogisticRegression(C=0.1))])"
      ]
     },
     "execution_count": 34,
     "metadata": {},
     "output_type": "execute_result"
    }
   ],
   "source": [
    "model.fit(X_train, y_train.values.ravel())"
   ]
  },
  {
   "cell_type": "code",
   "execution_count": 35,
   "id": "6e15e313",
   "metadata": {
    "execution": {
     "iopub.execute_input": "2025-08-19T18:24:02.565784Z",
     "iopub.status.busy": "2025-08-19T18:24:02.564632Z",
     "iopub.status.idle": "2025-08-19T18:24:02.757714Z",
     "shell.execute_reply": "2025-08-19T18:24:02.756901Z"
    },
    "papermill": {
     "duration": 0.208671,
     "end_time": "2025-08-19T18:24:02.759688",
     "exception": false,
     "start_time": "2025-08-19T18:24:02.551017",
     "status": "completed"
    },
    "tags": []
   },
   "outputs": [
    {
     "data": {
      "text/plain": [
       "0.858711403410991"
      ]
     },
     "execution_count": 35,
     "metadata": {},
     "output_type": "execute_result"
    }
   ],
   "source": [
    "from fairness_multiverse.universe import predict_w_threshold\n",
    "\n",
    "probs_test = model.predict_proba(X_test)\n",
    "\n",
    "'''\n",
    "Below code returns a boolean array (or binary 0/1 array depending on how it’s used) where each element \n",
    "is True if the probability of class 1 is greater than or equal to the threshold, and False otherwise.\n",
    "'''\n",
    "y_pred_default = predict_w_threshold(probs_test, 0.5)\n",
    "\n",
    "from sklearn.metrics import accuracy_score\n",
    "\n",
    "# Naive prediction\n",
    "accuracy_score(y_true = y_true, y_pred = y_pred_default)"
   ]
  },
  {
   "cell_type": "code",
   "execution_count": 36,
   "id": "6f14067c",
   "metadata": {
    "execution": {
     "iopub.execute_input": "2025-08-19T18:24:02.788321Z",
     "iopub.status.busy": "2025-08-19T18:24:02.787898Z",
     "iopub.status.idle": "2025-08-19T18:24:02.964374Z",
     "shell.execute_reply": "2025-08-19T18:24:02.963532Z"
    },
    "papermill": {
     "duration": 0.190384,
     "end_time": "2025-08-19T18:24:02.965972",
     "exception": false,
     "start_time": "2025-08-19T18:24:02.775588",
     "status": "completed"
    },
    "tags": []
   },
   "outputs": [
    {
     "data": {
      "text/plain": [
       "array([0, 0, 0, ..., 0, 0, 0])"
      ]
     },
     "execution_count": 36,
     "metadata": {},
     "output_type": "execute_result"
    }
   ],
   "source": [
    "model.predict(X_test)"
   ]
  },
  {
   "cell_type": "markdown",
   "id": "3759920c",
   "metadata": {
    "papermill": {
     "duration": 0.013231,
     "end_time": "2025-08-19T18:24:03.007456",
     "exception": false,
     "start_time": "2025-08-19T18:24:02.994225",
     "status": "completed"
    },
    "tags": []
   },
   "source": [
    "# Conformal Prediction"
   ]
  },
  {
   "cell_type": "code",
   "execution_count": 37,
   "id": "14b27f59",
   "metadata": {
    "execution": {
     "iopub.execute_input": "2025-08-19T18:24:03.040231Z",
     "iopub.status.busy": "2025-08-19T18:24:03.039003Z",
     "iopub.status.idle": "2025-08-19T18:24:03.046124Z",
     "shell.execute_reply": "2025-08-19T18:24:03.044861Z"
    },
    "papermill": {
     "duration": 0.029059,
     "end_time": "2025-08-19T18:24:03.047688",
     "exception": false,
     "start_time": "2025-08-19T18:24:03.018629",
     "status": "completed"
    },
    "tags": []
   },
   "outputs": [],
   "source": [
    "# Miscoverage level for conformal prediction (10% allowed error rate => 90% target coverage)\n",
    "alpha = 0.1"
   ]
  },
  {
   "cell_type": "code",
   "execution_count": 38,
   "id": "59102472",
   "metadata": {
    "execution": {
     "iopub.execute_input": "2025-08-19T18:24:03.092827Z",
     "iopub.status.busy": "2025-08-19T18:24:03.092365Z",
     "iopub.status.idle": "2025-08-19T18:24:03.259678Z",
     "shell.execute_reply": "2025-08-19T18:24:03.258764Z"
    },
    "papermill": {
     "duration": 0.190196,
     "end_time": "2025-08-19T18:24:03.262007",
     "exception": false,
     "start_time": "2025-08-19T18:24:03.071811",
     "status": "completed"
    },
    "tags": []
   },
   "outputs": [],
   "source": [
    "probs_calib = model.predict_proba(X_calib)"
   ]
  },
  {
   "cell_type": "code",
   "execution_count": 39,
   "id": "a792d4dd",
   "metadata": {
    "execution": {
     "iopub.execute_input": "2025-08-19T18:24:03.291800Z",
     "iopub.status.busy": "2025-08-19T18:24:03.290793Z",
     "iopub.status.idle": "2025-08-19T18:24:03.297291Z",
     "shell.execute_reply": "2025-08-19T18:24:03.296045Z"
    },
    "papermill": {
     "duration": 0.020216,
     "end_time": "2025-08-19T18:24:03.298689",
     "exception": false,
     "start_time": "2025-08-19T18:24:03.278473",
     "status": "completed"
    },
    "tags": []
   },
   "outputs": [],
   "source": [
    "y_calib = y_calib.values.ravel().astype(int)"
   ]
  },
  {
   "cell_type": "code",
   "execution_count": 40,
   "id": "650fd033",
   "metadata": {
    "execution": {
     "iopub.execute_input": "2025-08-19T18:24:03.324609Z",
     "iopub.status.busy": "2025-08-19T18:24:03.323912Z",
     "iopub.status.idle": "2025-08-19T18:24:03.337465Z",
     "shell.execute_reply": "2025-08-19T18:24:03.336350Z"
    },
    "papermill": {
     "duration": 0.027625,
     "end_time": "2025-08-19T18:24:03.338820",
     "exception": false,
     "start_time": "2025-08-19T18:24:03.311195",
     "status": "completed"
    },
    "tags": []
   },
   "outputs": [],
   "source": [
    "from fairness_multiverse.conformal import compute_nc_scores\n",
    "\n",
    "# Compute nonconformity scores on calibration set (1 - probability of true class)\n",
    "nc_scores = compute_nc_scores(probs_calib, y_calib)"
   ]
  },
  {
   "cell_type": "code",
   "execution_count": 41,
   "id": "28ada44c",
   "metadata": {
    "execution": {
     "iopub.execute_input": "2025-08-19T18:24:03.368874Z",
     "iopub.status.busy": "2025-08-19T18:24:03.367623Z",
     "iopub.status.idle": "2025-08-19T18:24:03.683960Z",
     "shell.execute_reply": "2025-08-19T18:24:03.682777Z"
    },
    "papermill": {
     "duration": 0.332443,
     "end_time": "2025-08-19T18:24:03.687571",
     "exception": false,
     "start_time": "2025-08-19T18:24:03.355128",
     "status": "completed"
    },
    "tags": []
   },
   "outputs": [],
   "source": [
    "from fairness_multiverse.conformal import find_threshold\n",
    "\n",
    "# Find conformal threshold q_hat for the given alpha (split conformal method)\n",
    "q_hat = find_threshold(nc_scores, alpha)"
   ]
  },
  {
   "cell_type": "code",
   "execution_count": 42,
   "id": "df56469e",
   "metadata": {
    "execution": {
     "iopub.execute_input": "2025-08-19T18:24:03.713231Z",
     "iopub.status.busy": "2025-08-19T18:24:03.712822Z",
     "iopub.status.idle": "2025-08-19T18:24:03.719501Z",
     "shell.execute_reply": "2025-08-19T18:24:03.718561Z"
    },
    "papermill": {
     "duration": 0.02121,
     "end_time": "2025-08-19T18:24:03.721046",
     "exception": false,
     "start_time": "2025-08-19T18:24:03.699836",
     "status": "completed"
    },
    "tags": []
   },
   "outputs": [
    {
     "data": {
      "text/plain": [
       "0.6834871028978781"
      ]
     },
     "execution_count": 42,
     "metadata": {},
     "output_type": "execute_result"
    }
   ],
   "source": [
    "q_hat"
   ]
  },
  {
   "cell_type": "code",
   "execution_count": 43,
   "id": "aa1f5faa",
   "metadata": {
    "execution": {
     "iopub.execute_input": "2025-08-19T18:24:03.747994Z",
     "iopub.status.busy": "2025-08-19T18:24:03.747374Z",
     "iopub.status.idle": "2025-08-19T18:24:04.350301Z",
     "shell.execute_reply": "2025-08-19T18:24:04.348817Z"
    },
    "papermill": {
     "duration": 0.617302,
     "end_time": "2025-08-19T18:24:04.352284",
     "exception": false,
     "start_time": "2025-08-19T18:24:03.734982",
     "status": "completed"
    },
    "tags": []
   },
   "outputs": [],
   "source": [
    "from fairness_multiverse.conformal import predict_conformal_sets\n",
    "\n",
    "# Generate prediction sets for each test example\n",
    "pred_sets = predict_conformal_sets(model, X_test, q_hat)"
   ]
  },
  {
   "cell_type": "code",
   "execution_count": 44,
   "id": "97f67a6b",
   "metadata": {
    "execution": {
     "iopub.execute_input": "2025-08-19T18:24:04.390991Z",
     "iopub.status.busy": "2025-08-19T18:24:04.390359Z",
     "iopub.status.idle": "2025-08-19T18:24:04.399148Z",
     "shell.execute_reply": "2025-08-19T18:24:04.398206Z"
    },
    "papermill": {
     "duration": 0.023687,
     "end_time": "2025-08-19T18:24:04.400706",
     "exception": false,
     "start_time": "2025-08-19T18:24:04.377019",
     "status": "completed"
    },
    "tags": []
   },
   "outputs": [],
   "source": [
    "y_true = y_true.squeeze()"
   ]
  },
  {
   "cell_type": "code",
   "execution_count": 45,
   "id": "e700e9a7",
   "metadata": {
    "execution": {
     "iopub.execute_input": "2025-08-19T18:24:04.428407Z",
     "iopub.status.busy": "2025-08-19T18:24:04.428055Z",
     "iopub.status.idle": "2025-08-19T18:24:04.928629Z",
     "shell.execute_reply": "2025-08-19T18:24:04.927685Z"
    },
    "papermill": {
     "duration": 0.514877,
     "end_time": "2025-08-19T18:24:04.930400",
     "exception": false,
     "start_time": "2025-08-19T18:24:04.415523",
     "status": "completed"
    },
    "tags": []
   },
   "outputs": [],
   "source": [
    "from fairness_multiverse.conformal import evaluate_sets\n",
    "\n",
    "# Evaluate coverage and average set size on test data\n",
    "metrics = evaluate_sets(pred_sets, y_true)"
   ]
  },
  {
   "cell_type": "markdown",
   "id": "efbacec0",
   "metadata": {
    "papermill": {
     "duration": 0.011448,
     "end_time": "2025-08-19T18:24:04.954067",
     "exception": false,
     "start_time": "2025-08-19T18:24:04.942619",
     "status": "completed"
    },
    "tags": []
   },
   "source": [
    "# CP Metrics"
   ]
  },
  {
   "cell_type": "code",
   "execution_count": 46,
   "id": "9de55fb1",
   "metadata": {
    "execution": {
     "iopub.execute_input": "2025-08-19T18:24:04.979816Z",
     "iopub.status.busy": "2025-08-19T18:24:04.978559Z",
     "iopub.status.idle": "2025-08-19T18:24:04.991163Z",
     "shell.execute_reply": "2025-08-19T18:24:04.990190Z"
    },
    "papermill": {
     "duration": 0.027566,
     "end_time": "2025-08-19T18:24:04.993241",
     "exception": false,
     "start_time": "2025-08-19T18:24:04.965675",
     "status": "completed"
    },
    "tags": []
   },
   "outputs": [
    {
     "data": {
      "text/plain": [
       "{'coverage': 0.9105227956749526, 'avg_size': 1.1329060305428604}"
      ]
     },
     "execution_count": 46,
     "metadata": {},
     "output_type": "execute_result"
    }
   ],
   "source": [
    "metrics"
   ]
  },
  {
   "cell_type": "code",
   "execution_count": 47,
   "id": "64c340a1",
   "metadata": {
    "execution": {
     "iopub.execute_input": "2025-08-19T18:24:05.023336Z",
     "iopub.status.busy": "2025-08-19T18:24:05.022604Z",
     "iopub.status.idle": "2025-08-19T18:24:05.029370Z",
     "shell.execute_reply": "2025-08-19T18:24:05.027713Z"
    },
    "papermill": {
     "duration": 0.02295,
     "end_time": "2025-08-19T18:24:05.030652",
     "exception": false,
     "start_time": "2025-08-19T18:24:05.007702",
     "status": "completed"
    },
    "tags": []
   },
   "outputs": [],
   "source": [
    "example_universe = universe.copy()\n",
    "universe_training_year = example_universe.get(\"training_year\")\n",
    "universe_training_size = example_universe.get(\"training_size\")\n",
    "universe_scale = example_universe.get(\"scale\")\n",
    "universe_model = example_universe.get(\"model\")\n",
    "universe_exclude_features = example_universe.get(\"exclude_features\")\n",
    "universe_exclude_subgroups = example_universe.get(\"exclude_subgroups\")"
   ]
  },
  {
   "cell_type": "code",
   "execution_count": 48,
   "id": "dbb53cb4",
   "metadata": {
    "execution": {
     "iopub.execute_input": "2025-08-19T18:24:05.057314Z",
     "iopub.status.busy": "2025-08-19T18:24:05.056192Z",
     "iopub.status.idle": "2025-08-19T18:24:05.065068Z",
     "shell.execute_reply": "2025-08-19T18:24:05.063771Z"
    },
    "papermill": {
     "duration": 0.023155,
     "end_time": "2025-08-19T18:24:05.066525",
     "exception": false,
     "start_time": "2025-08-19T18:24:05.043370",
     "status": "completed"
    },
    "tags": []
   },
   "outputs": [],
   "source": [
    "cp_metrics_dict = {\n",
    "    \"universe_id\": [universe_id],\n",
    "    \"universe_training_year\": [universe_training_year],\n",
    "    \"universe_training_size\": [universe_training_size],\n",
    "    \"universe_scale\": [universe_scale],\n",
    "    \"universe_model\": [universe_model],\n",
    "    \"universe_exclude_features\": [universe_exclude_features],\n",
    "    \"universe_exclude_subgroups\": [universe_exclude_subgroups],\n",
    "    \"q_hat\": [q_hat],\n",
    "    \"coverage\": [metrics[\"coverage\"]],\n",
    "    \"avg_size\": [metrics[\"avg_size\"]],\n",
    "}"
   ]
  },
  {
   "cell_type": "code",
   "execution_count": 49,
   "id": "0d70d4b2",
   "metadata": {
    "execution": {
     "iopub.execute_input": "2025-08-19T18:24:05.136946Z",
     "iopub.status.busy": "2025-08-19T18:24:05.135937Z",
     "iopub.status.idle": "2025-08-19T18:24:05.147156Z",
     "shell.execute_reply": "2025-08-19T18:24:05.146223Z"
    },
    "papermill": {
     "duration": 0.059395,
     "end_time": "2025-08-19T18:24:05.151646",
     "exception": false,
     "start_time": "2025-08-19T18:24:05.092251",
     "status": "completed"
    },
    "tags": []
   },
   "outputs": [],
   "source": [
    "cp_metrics_df = pd.DataFrame(cp_metrics_dict)"
   ]
  },
  {
   "cell_type": "code",
   "execution_count": 50,
   "id": "b494403c",
   "metadata": {
    "execution": {
     "iopub.execute_input": "2025-08-19T18:24:05.181404Z",
     "iopub.status.busy": "2025-08-19T18:24:05.180329Z",
     "iopub.status.idle": "2025-08-19T18:24:05.214571Z",
     "shell.execute_reply": "2025-08-19T18:24:05.213756Z"
    },
    "papermill": {
     "duration": 0.05161,
     "end_time": "2025-08-19T18:24:05.218778",
     "exception": false,
     "start_time": "2025-08-19T18:24:05.167168",
     "status": "completed"
    },
    "tags": []
   },
   "outputs": [
    {
     "data": {
      "text/html": [
       "<div>\n",
       "<style scoped>\n",
       "    .dataframe tbody tr th:only-of-type {\n",
       "        vertical-align: middle;\n",
       "    }\n",
       "\n",
       "    .dataframe tbody tr th {\n",
       "        vertical-align: top;\n",
       "    }\n",
       "\n",
       "    .dataframe thead th {\n",
       "        text-align: right;\n",
       "    }\n",
       "</style>\n",
       "<table border=\"1\" class=\"dataframe\">\n",
       "  <thead>\n",
       "    <tr style=\"text-align: right;\">\n",
       "      <th></th>\n",
       "      <th>universe_id</th>\n",
       "      <th>universe_training_year</th>\n",
       "      <th>universe_training_size</th>\n",
       "      <th>universe_scale</th>\n",
       "      <th>universe_model</th>\n",
       "      <th>universe_exclude_features</th>\n",
       "      <th>universe_exclude_subgroups</th>\n",
       "      <th>q_hat</th>\n",
       "      <th>coverage</th>\n",
       "      <th>avg_size</th>\n",
       "    </tr>\n",
       "  </thead>\n",
       "  <tbody>\n",
       "    <tr>\n",
       "      <th>0</th>\n",
       "      <td>e3246177ef156a09b762b7e1b5fd95eb</td>\n",
       "      <td>2014</td>\n",
       "      <td>5k</td>\n",
       "      <td>scale</td>\n",
       "      <td>penalized_logreg</td>\n",
       "      <td>nationality-sex</td>\n",
       "      <td>keep-all</td>\n",
       "      <td>0.683487</td>\n",
       "      <td>0.910523</td>\n",
       "      <td>1.132906</td>\n",
       "    </tr>\n",
       "  </tbody>\n",
       "</table>\n",
       "</div>"
      ],
      "text/plain": [
       "                        universe_id universe_training_year  \\\n",
       "0  e3246177ef156a09b762b7e1b5fd95eb                   2014   \n",
       "\n",
       "  universe_training_size universe_scale    universe_model  \\\n",
       "0                     5k          scale  penalized_logreg   \n",
       "\n",
       "  universe_exclude_features universe_exclude_subgroups     q_hat  coverage  \\\n",
       "0           nationality-sex                   keep-all  0.683487  0.910523   \n",
       "\n",
       "   avg_size  \n",
       "0  1.132906  "
      ]
     },
     "execution_count": 50,
     "metadata": {},
     "output_type": "execute_result"
    }
   ],
   "source": [
    "cp_metrics_df"
   ]
  },
  {
   "cell_type": "markdown",
   "id": "ed608b0b",
   "metadata": {
    "papermill": {
     "duration": 0.013315,
     "end_time": "2025-08-19T18:24:05.254309",
     "exception": false,
     "start_time": "2025-08-19T18:24:05.240994",
     "status": "completed"
    },
    "tags": []
   },
   "source": [
    "Conditional coverage & looking at subgroups"
   ]
  },
  {
   "cell_type": "code",
   "execution_count": 51,
   "id": "8968c366",
   "metadata": {
    "execution": {
     "iopub.execute_input": "2025-08-19T18:24:05.280953Z",
     "iopub.status.busy": "2025-08-19T18:24:05.279765Z",
     "iopub.status.idle": "2025-08-19T18:24:05.597012Z",
     "shell.execute_reply": "2025-08-19T18:24:05.595864Z"
    },
    "papermill": {
     "duration": 0.332551,
     "end_time": "2025-08-19T18:24:05.598935",
     "exception": false,
     "start_time": "2025-08-19T18:24:05.266384",
     "status": "completed"
    },
    "tags": []
   },
   "outputs": [],
   "source": [
    "from fairness_multiverse.conformal import build_cp_groups\n",
    "\n",
    "cp_groups_df = build_cp_groups(pred_sets, y_true, X_test.index, org_test)"
   ]
  },
  {
   "cell_type": "code",
   "execution_count": 52,
   "id": "292ddabf",
   "metadata": {
    "execution": {
     "iopub.execute_input": "2025-08-19T18:24:05.633942Z",
     "iopub.status.busy": "2025-08-19T18:24:05.633220Z",
     "iopub.status.idle": "2025-08-19T18:24:06.540102Z",
     "shell.execute_reply": "2025-08-19T18:24:06.538728Z"
    },
    "papermill": {
     "duration": 0.930763,
     "end_time": "2025-08-19T18:24:06.542177",
     "exception": false,
     "start_time": "2025-08-19T18:24:05.611414",
     "status": "completed"
    },
    "tags": []
   },
   "outputs": [],
   "source": [
    "# Define covered = 1 if true_label is in the predicted set\n",
    "cp_groups_df['covered'] = cp_groups_df.apply(\n",
    "    lambda r: int(r['true_label'] in r['pred_set']),\n",
    "    axis=1\n",
    ")"
   ]
  },
  {
   "cell_type": "code",
   "execution_count": 53,
   "id": "3a261692",
   "metadata": {
    "execution": {
     "iopub.execute_input": "2025-08-19T18:24:06.568173Z",
     "iopub.status.busy": "2025-08-19T18:24:06.567857Z",
     "iopub.status.idle": "2025-08-19T18:24:06.580789Z",
     "shell.execute_reply": "2025-08-19T18:24:06.579954Z"
    },
    "papermill": {
     "duration": 0.028976,
     "end_time": "2025-08-19T18:24:06.583817",
     "exception": false,
     "start_time": "2025-08-19T18:24:06.554841",
     "status": "completed"
    },
    "tags": []
   },
   "outputs": [],
   "source": [
    "subgroups = ['frau1','nongerman','nongerman_male','nongerman_female']\n",
    "\n",
    "# Conditional coverage for subgroup==1\n",
    "cond_coverage = {\n",
    "    g: cp_groups_df.loc[cp_groups_df[g]==1, 'covered'].mean()\n",
    "    for g in subgroups\n",
    "}"
   ]
  },
  {
   "cell_type": "code",
   "execution_count": 54,
   "id": "894fd600",
   "metadata": {
    "execution": {
     "iopub.execute_input": "2025-08-19T18:24:06.623087Z",
     "iopub.status.busy": "2025-08-19T18:24:06.622239Z",
     "iopub.status.idle": "2025-08-19T18:24:06.632614Z",
     "shell.execute_reply": "2025-08-19T18:24:06.631374Z"
    },
    "papermill": {
     "duration": 0.026287,
     "end_time": "2025-08-19T18:24:06.634159",
     "exception": false,
     "start_time": "2025-08-19T18:24:06.607872",
     "status": "completed"
    },
    "tags": []
   },
   "outputs": [
    {
     "data": {
      "text/plain": [
       "{'frau1': 0.9097722064968324,\n",
       " 'nongerman': 0.9095042946162915,\n",
       " 'nongerman_male': 0.9264162838872377,\n",
       " 'nongerman_female': 0.8815201192250373}"
      ]
     },
     "execution_count": 54,
     "metadata": {},
     "output_type": "execute_result"
    }
   ],
   "source": [
    "cond_coverage"
   ]
  },
  {
   "cell_type": "code",
   "execution_count": 55,
   "id": "942895c7",
   "metadata": {
    "execution": {
     "iopub.execute_input": "2025-08-19T18:24:06.666805Z",
     "iopub.status.busy": "2025-08-19T18:24:06.665918Z",
     "iopub.status.idle": "2025-08-19T18:24:06.678072Z",
     "shell.execute_reply": "2025-08-19T18:24:06.677047Z"
    },
    "papermill": {
     "duration": 0.031374,
     "end_time": "2025-08-19T18:24:06.680135",
     "exception": false,
     "start_time": "2025-08-19T18:24:06.648761",
     "status": "completed"
    },
    "tags": []
   },
   "outputs": [],
   "source": [
    "for subgroup, cov in cond_coverage.items():\n",
    "    cp_metrics_df[f\"cov_{subgroup}\"] = cov"
   ]
  },
  {
   "cell_type": "code",
   "execution_count": 56,
   "id": "3970120f",
   "metadata": {
    "execution": {
     "iopub.execute_input": "2025-08-19T18:24:06.711065Z",
     "iopub.status.busy": "2025-08-19T18:24:06.710492Z",
     "iopub.status.idle": "2025-08-19T18:24:06.729402Z",
     "shell.execute_reply": "2025-08-19T18:24:06.728503Z"
    },
    "papermill": {
     "duration": 0.033213,
     "end_time": "2025-08-19T18:24:06.730671",
     "exception": false,
     "start_time": "2025-08-19T18:24:06.697458",
     "status": "completed"
    },
    "tags": []
   },
   "outputs": [
    {
     "data": {
      "text/html": [
       "<div>\n",
       "<style scoped>\n",
       "    .dataframe tbody tr th:only-of-type {\n",
       "        vertical-align: middle;\n",
       "    }\n",
       "\n",
       "    .dataframe tbody tr th {\n",
       "        vertical-align: top;\n",
       "    }\n",
       "\n",
       "    .dataframe thead th {\n",
       "        text-align: right;\n",
       "    }\n",
       "</style>\n",
       "<table border=\"1\" class=\"dataframe\">\n",
       "  <thead>\n",
       "    <tr style=\"text-align: right;\">\n",
       "      <th></th>\n",
       "      <th>universe_id</th>\n",
       "      <th>universe_training_year</th>\n",
       "      <th>universe_training_size</th>\n",
       "      <th>universe_scale</th>\n",
       "      <th>universe_model</th>\n",
       "      <th>universe_exclude_features</th>\n",
       "      <th>universe_exclude_subgroups</th>\n",
       "      <th>q_hat</th>\n",
       "      <th>coverage</th>\n",
       "      <th>avg_size</th>\n",
       "      <th>cov_frau1</th>\n",
       "      <th>cov_nongerman</th>\n",
       "      <th>cov_nongerman_male</th>\n",
       "      <th>cov_nongerman_female</th>\n",
       "    </tr>\n",
       "  </thead>\n",
       "  <tbody>\n",
       "    <tr>\n",
       "      <th>0</th>\n",
       "      <td>e3246177ef156a09b762b7e1b5fd95eb</td>\n",
       "      <td>2014</td>\n",
       "      <td>5k</td>\n",
       "      <td>scale</td>\n",
       "      <td>penalized_logreg</td>\n",
       "      <td>nationality-sex</td>\n",
       "      <td>keep-all</td>\n",
       "      <td>0.683487</td>\n",
       "      <td>0.910523</td>\n",
       "      <td>1.132906</td>\n",
       "      <td>0.909772</td>\n",
       "      <td>0.909504</td>\n",
       "      <td>0.926416</td>\n",
       "      <td>0.88152</td>\n",
       "    </tr>\n",
       "  </tbody>\n",
       "</table>\n",
       "</div>"
      ],
      "text/plain": [
       "                        universe_id universe_training_year  \\\n",
       "0  e3246177ef156a09b762b7e1b5fd95eb                   2014   \n",
       "\n",
       "  universe_training_size universe_scale    universe_model  \\\n",
       "0                     5k          scale  penalized_logreg   \n",
       "\n",
       "  universe_exclude_features universe_exclude_subgroups     q_hat  coverage  \\\n",
       "0           nationality-sex                   keep-all  0.683487  0.910523   \n",
       "\n",
       "   avg_size  cov_frau1  cov_nongerman  cov_nongerman_male  \\\n",
       "0  1.132906   0.909772       0.909504            0.926416   \n",
       "\n",
       "   cov_nongerman_female  \n",
       "0               0.88152  "
      ]
     },
     "execution_count": 56,
     "metadata": {},
     "output_type": "execute_result"
    }
   ],
   "source": [
    "cp_metrics_df"
   ]
  },
  {
   "cell_type": "markdown",
   "id": "3fc519cc",
   "metadata": {
    "papermill": {
     "duration": 0.012351,
     "end_time": "2025-08-19T18:24:06.757064",
     "exception": false,
     "start_time": "2025-08-19T18:24:06.744713",
     "status": "completed"
    },
    "tags": []
   },
   "source": [
    "# (Fairness) Metrics"
   ]
  },
  {
   "cell_type": "code",
   "execution_count": 57,
   "id": "a2e5e155",
   "metadata": {
    "execution": {
     "iopub.execute_input": "2025-08-19T18:24:06.783051Z",
     "iopub.status.busy": "2025-08-19T18:24:06.782357Z",
     "iopub.status.idle": "2025-08-19T18:24:06.812112Z",
     "shell.execute_reply": "2025-08-19T18:24:06.811252Z"
    },
    "papermill": {
     "duration": 0.044782,
     "end_time": "2025-08-19T18:24:06.813727",
     "exception": false,
     "start_time": "2025-08-19T18:24:06.768945",
     "status": "completed"
    },
    "tags": []
   },
   "outputs": [],
   "source": [
    "colname_to_bin = \"maxdeutsch1\"\n",
    "majority_value = org_train[colname_to_bin].mode()[0]\n",
    "\n",
    "org_test[\"majmin\"] = np.where(org_test[colname_to_bin] == majority_value, \"majority\", \"minority\")"
   ]
  },
  {
   "cell_type": "code",
   "execution_count": 58,
   "id": "17e3e4d5",
   "metadata": {
    "execution": {
     "iopub.execute_input": "2025-08-19T18:24:06.854377Z",
     "iopub.status.busy": "2025-08-19T18:24:06.853376Z",
     "iopub.status.idle": "2025-08-19T18:24:08.638862Z",
     "shell.execute_reply": "2025-08-19T18:24:08.637801Z"
    },
    "papermill": {
     "duration": 1.802311,
     "end_time": "2025-08-19T18:24:08.640646",
     "exception": false,
     "start_time": "2025-08-19T18:24:06.838335",
     "status": "completed"
    },
    "tags": []
   },
   "outputs": [],
   "source": [
    "example_universe = universe.copy()\n",
    "example_universe[\"cutoff\"] = example_universe[\"cutoff\"][0]\n",
    "example_universe[\"eval_fairness_grouping\"] = example_universe[\"eval_fairness_grouping\"][0]\n",
    "fairness_dict, metric_frame = universe_analysis.compute_metrics(\n",
    "    example_universe,\n",
    "    y_pred_prob=probs_test,\n",
    "    y_test=y_true,\n",
    "    org_test=org_test,\n",
    ")"
   ]
  },
  {
   "cell_type": "markdown",
   "id": "1fb7a0e9",
   "metadata": {
    "papermill": {
     "duration": 0.0121,
     "end_time": "2025-08-19T18:24:08.665818",
     "exception": false,
     "start_time": "2025-08-19T18:24:08.653718",
     "status": "completed"
    },
    "tags": []
   },
   "source": [
    "# Overall"
   ]
  },
  {
   "cell_type": "markdown",
   "id": "be1784b1",
   "metadata": {
    "papermill": {
     "duration": 0.011823,
     "end_time": "2025-08-19T18:24:08.689564",
     "exception": false,
     "start_time": "2025-08-19T18:24:08.677741",
     "status": "completed"
    },
    "tags": []
   },
   "source": [
    "Main fairness target: Equalized Odds. Seems to be a better fit than equal opportunity, since we're not only interested in Y = 1. Seems to be a better fit than demographic parity, since we also care about accuracy, not just equal distribution of preds.\n",
    "\n",
    "Pick column for computation of fairness metrics\n",
    "\n",
    "Performance\n",
    "Overall performance measures, most interesting in relation to the measures split by group below"
   ]
  },
  {
   "cell_type": "code",
   "execution_count": 59,
   "id": "b7672bee",
   "metadata": {
    "execution": {
     "iopub.execute_input": "2025-08-19T18:24:08.720996Z",
     "iopub.status.busy": "2025-08-19T18:24:08.718550Z",
     "iopub.status.idle": "2025-08-19T18:24:08.736574Z",
     "shell.execute_reply": "2025-08-19T18:24:08.735410Z"
    },
    "papermill": {
     "duration": 0.036502,
     "end_time": "2025-08-19T18:24:08.738404",
     "exception": false,
     "start_time": "2025-08-19T18:24:08.701902",
     "status": "completed"
    },
    "tags": []
   },
   "outputs": [
    {
     "data": {
      "text/plain": [
       "accuracy                   0.224379\n",
       "balanced accuracy          0.548636\n",
       "f1                         0.245710\n",
       "precision                  0.140366\n",
       "false positive rate        0.887522\n",
       "false negative rate        0.015207\n",
       "selection rate             0.900000\n",
       "count                  89710.000000\n",
       "dtype: float64"
      ]
     },
     "execution_count": 59,
     "metadata": {},
     "output_type": "execute_result"
    }
   ],
   "source": [
    "metric_frame.overall"
   ]
  },
  {
   "cell_type": "markdown",
   "id": "d93333c9",
   "metadata": {
    "papermill": {
     "duration": 0.013142,
     "end_time": "2025-08-19T18:24:08.772168",
     "exception": false,
     "start_time": "2025-08-19T18:24:08.759026",
     "status": "completed"
    },
    "tags": []
   },
   "source": [
    "By Group"
   ]
  },
  {
   "cell_type": "code",
   "execution_count": 60,
   "id": "52256966",
   "metadata": {
    "execution": {
     "iopub.execute_input": "2025-08-19T18:24:08.799579Z",
     "iopub.status.busy": "2025-08-19T18:24:08.798325Z",
     "iopub.status.idle": "2025-08-19T18:24:08.822294Z",
     "shell.execute_reply": "2025-08-19T18:24:08.821205Z"
    },
    "papermill": {
     "duration": 0.03974,
     "end_time": "2025-08-19T18:24:08.823929",
     "exception": false,
     "start_time": "2025-08-19T18:24:08.784189",
     "status": "completed"
    },
    "tags": []
   },
   "outputs": [
    {
     "data": {
      "text/html": [
       "<div>\n",
       "<style scoped>\n",
       "    .dataframe tbody tr th:only-of-type {\n",
       "        vertical-align: middle;\n",
       "    }\n",
       "\n",
       "    .dataframe tbody tr th {\n",
       "        vertical-align: top;\n",
       "    }\n",
       "\n",
       "    .dataframe thead th {\n",
       "        text-align: right;\n",
       "    }\n",
       "</style>\n",
       "<table border=\"1\" class=\"dataframe\">\n",
       "  <thead>\n",
       "    <tr style=\"text-align: right;\">\n",
       "      <th></th>\n",
       "      <th>accuracy</th>\n",
       "      <th>balanced accuracy</th>\n",
       "      <th>f1</th>\n",
       "      <th>precision</th>\n",
       "      <th>false positive rate</th>\n",
       "      <th>false negative rate</th>\n",
       "      <th>selection rate</th>\n",
       "      <th>count</th>\n",
       "    </tr>\n",
       "    <tr>\n",
       "      <th>majmin</th>\n",
       "      <th></th>\n",
       "      <th></th>\n",
       "      <th></th>\n",
       "      <th></th>\n",
       "      <th></th>\n",
       "      <th></th>\n",
       "      <th></th>\n",
       "      <th></th>\n",
       "    </tr>\n",
       "  </thead>\n",
       "  <tbody>\n",
       "    <tr>\n",
       "      <th>majority</th>\n",
       "      <td>0.242417</td>\n",
       "      <td>0.556950</td>\n",
       "      <td>0.255632</td>\n",
       "      <td>0.146887</td>\n",
       "      <td>0.870565</td>\n",
       "      <td>0.015536</td>\n",
       "      <td>0.885615</td>\n",
       "      <td>69170.0</td>\n",
       "    </tr>\n",
       "    <tr>\n",
       "      <th>minority</th>\n",
       "      <td>0.163632</td>\n",
       "      <td>0.521262</td>\n",
       "      <td>0.213740</td>\n",
       "      <td>0.119860</td>\n",
       "      <td>0.943540</td>\n",
       "      <td>0.013936</td>\n",
       "      <td>0.948442</td>\n",
       "      <td>20540.0</td>\n",
       "    </tr>\n",
       "  </tbody>\n",
       "</table>\n",
       "</div>"
      ],
      "text/plain": [
       "          accuracy  balanced accuracy        f1  precision  \\\n",
       "majmin                                                       \n",
       "majority  0.242417           0.556950  0.255632   0.146887   \n",
       "minority  0.163632           0.521262  0.213740   0.119860   \n",
       "\n",
       "          false positive rate  false negative rate  selection rate    count  \n",
       "majmin                                                                       \n",
       "majority             0.870565             0.015536        0.885615  69170.0  \n",
       "minority             0.943540             0.013936        0.948442  20540.0  "
      ]
     },
     "execution_count": 60,
     "metadata": {},
     "output_type": "execute_result"
    }
   ],
   "source": [
    "metric_frame.by_group"
   ]
  },
  {
   "cell_type": "code",
   "execution_count": 61,
   "id": "6e6c20ae",
   "metadata": {
    "execution": {
     "iopub.execute_input": "2025-08-19T18:24:08.860438Z",
     "iopub.status.busy": "2025-08-19T18:24:08.860177Z",
     "iopub.status.idle": "2025-08-19T18:24:10.713269Z",
     "shell.execute_reply": "2025-08-19T18:24:10.712109Z"
    },
    "papermill": {
     "duration": 1.869955,
     "end_time": "2025-08-19T18:24:10.716238",
     "exception": false,
     "start_time": "2025-08-19T18:24:08.846283",
     "status": "completed"
    },
    "tags": []
   },
   "outputs": [
    {
     "data": {
      "text/plain": [
       "array([[<Axes: title={'center': 'accuracy'}, xlabel='majmin'>,\n",
       "        <Axes: title={'center': 'balanced accuracy'}, xlabel='majmin'>,\n",
       "        <Axes: title={'center': 'f1'}, xlabel='majmin'>],\n",
       "       [<Axes: title={'center': 'precision'}, xlabel='majmin'>,\n",
       "        <Axes: title={'center': 'false positive rate'}, xlabel='majmin'>,\n",
       "        <Axes: title={'center': 'false negative rate'}, xlabel='majmin'>],\n",
       "       [<Axes: title={'center': 'selection rate'}, xlabel='majmin'>,\n",
       "        <Axes: title={'center': 'count'}, xlabel='majmin'>,\n",
       "        <Axes: xlabel='majmin'>]], dtype=object)"
      ]
     },
     "execution_count": 61,
     "metadata": {},
     "output_type": "execute_result"
    },
    {
     "data": {
      "image/png": "[encoded data removed]",
      "text/plain": [
       "<Figure size 1200x800 with 9 Axes>"
      ]
     },
     "metadata": {},
     "output_type": "display_data"
    }
   ],
   "source": [
    "# In a graphic\n",
    "metric_frame.by_group.plot.bar(\n",
    "    subplots=True,\n",
    "    layout=[3, 3],\n",
    "    legend=False,\n",
    "    figsize=[12, 8],\n",
    "    title=\"Show all metrics\",\n",
    ")"
   ]
  },
  {
   "cell_type": "markdown",
   "id": "b2e433ae",
   "metadata": {
    "papermill": {
     "duration": 0.013719,
     "end_time": "2025-08-19T18:24:10.749615",
     "exception": false,
     "start_time": "2025-08-19T18:24:10.735896",
     "status": "completed"
    },
    "tags": []
   },
   "source": [
    "# Final Output"
   ]
  },
  {
   "cell_type": "code",
   "execution_count": 62,
   "id": "3871301e",
   "metadata": {
    "execution": {
     "iopub.execute_input": "2025-08-19T18:24:10.778718Z",
     "iopub.status.busy": "2025-08-19T18:24:10.777993Z",
     "iopub.status.idle": "2025-08-19T18:24:10.788845Z",
     "shell.execute_reply": "2025-08-19T18:24:10.788180Z"
    },
    "papermill": {
     "duration": 0.0281,
     "end_time": "2025-08-19T18:24:10.791241",
     "exception": false,
     "start_time": "2025-08-19T18:24:10.763141",
     "status": "completed"
    },
    "tags": []
   },
   "outputs": [
    {
     "data": {
      "text/plain": [
       "4"
      ]
     },
     "execution_count": 62,
     "metadata": {},
     "output_type": "execute_result"
    }
   ],
   "source": [
    "sub_universes = universe_analysis.generate_sub_universes()\n",
    "len(sub_universes)"
   ]
  },
  {
   "cell_type": "code",
   "execution_count": 63,
   "id": "d9cfdaca",
   "metadata": {
    "execution": {
     "iopub.execute_input": "2025-08-19T18:24:10.831493Z",
     "iopub.status.busy": "2025-08-19T18:24:10.830344Z",
     "iopub.status.idle": "2025-08-19T18:24:10.840871Z",
     "shell.execute_reply": "2025-08-19T18:24:10.839143Z"
    },
    "papermill": {
     "duration": 0.033482,
     "end_time": "2025-08-19T18:24:10.842453",
     "exception": false,
     "start_time": "2025-08-19T18:24:10.808971",
     "status": "completed"
    },
    "tags": []
   },
   "outputs": [],
   "source": [
    "def filter_sub_universe_data(sub_universe, org_test):\n",
    "    # Keep all rows — no filtering\n",
    "    keep_rows_mask = np.ones(org_test.shape[0], dtype=bool)\n",
    "\n",
    "    print(f\"[INFO] Keeping all rows: {keep_rows_mask.sum()} rows retained.\")\n",
    "    return keep_rows_mask"
   ]
  },
  {
   "cell_type": "code",
   "execution_count": 64,
   "id": "2bc31ac1",
   "metadata": {
    "execution": {
     "iopub.execute_input": "2025-08-19T18:24:10.895647Z",
     "iopub.status.busy": "2025-08-19T18:24:10.895256Z",
     "iopub.status.idle": "2025-08-19T18:24:17.527347Z",
     "shell.execute_reply": "2025-08-19T18:24:17.526326Z"
    },
    "papermill": {
     "duration": 6.664391,
     "end_time": "2025-08-19T18:24:17.528723",
     "exception": false,
     "start_time": "2025-08-19T18:24:10.864332",
     "status": "completed"
    },
    "tags": []
   },
   "outputs": [
    {
     "name": "stdout",
     "output_type": "stream",
     "text": [
      "Stopping execution_time clock.\n",
      "[INFO] Keeping all rows: 89710 rows retained.\n"
     ]
    },
    {
     "name": "stdout",
     "output_type": "stream",
     "text": [
      "[INFO] Keeping all rows: 89710 rows retained.\n"
     ]
    },
    {
     "name": "stdout",
     "output_type": "stream",
     "text": [
      "[INFO] Keeping all rows: 89710 rows retained.\n"
     ]
    },
    {
     "name": "stdout",
     "output_type": "stream",
     "text": [
      "[INFO] Keeping all rows: 89710 rows retained.\n"
     ]
    },
    {
     "data": {
      "text/html": [
       "<div>\n",
       "<style scoped>\n",
       "    .dataframe tbody tr th:only-of-type {\n",
       "        vertical-align: middle;\n",
       "    }\n",
       "\n",
       "    .dataframe tbody tr th {\n",
       "        vertical-align: top;\n",
       "    }\n",
       "\n",
       "    .dataframe thead th {\n",
       "        text-align: right;\n",
       "    }\n",
       "</style>\n",
       "<table border=\"1\" class=\"dataframe\">\n",
       "  <thead>\n",
       "    <tr style=\"text-align: right;\">\n",
       "      <th></th>\n",
       "      <th>run_no</th>\n",
       "      <th>universe_id</th>\n",
       "      <th>universe_settings</th>\n",
       "      <th>execution_time</th>\n",
       "      <th>test_size_n</th>\n",
       "      <th>test_size_frac</th>\n",
       "      <th>fair_main_equalized_odds_difference</th>\n",
       "      <th>fair_main_equalized_odds_ratio</th>\n",
       "      <th>fair_main_demographic_parity_difference</th>\n",
       "      <th>fair_main_demographic_parity_ratio</th>\n",
       "      <th>...</th>\n",
       "      <th>perf_grp_precision_0</th>\n",
       "      <th>perf_grp_precision_1</th>\n",
       "      <th>perf_grp_false positive rate_0</th>\n",
       "      <th>perf_grp_false positive rate_1</th>\n",
       "      <th>perf_grp_false negative rate_0</th>\n",
       "      <th>perf_grp_false negative rate_1</th>\n",
       "      <th>perf_grp_selection rate_0</th>\n",
       "      <th>perf_grp_selection rate_1</th>\n",
       "      <th>perf_grp_count_0</th>\n",
       "      <th>perf_grp_count_1</th>\n",
       "    </tr>\n",
       "  </thead>\n",
       "  <tbody>\n",
       "    <tr>\n",
       "      <th>0</th>\n",
       "      <td>3</td>\n",
       "      <td>e3246177ef156a09b762b7e1b5fd95eb</td>\n",
       "      <td>{\"cutoff\": \"quantile_0.1\", \"eval_fairness_grou...</td>\n",
       "      <td>20.814417</td>\n",
       "      <td>89710</td>\n",
       "      <td>1.0</td>\n",
       "      <td>0.072975</td>\n",
       "      <td>0.922658</td>\n",
       "      <td>0.062827</td>\n",
       "      <td>0.933758</td>\n",
       "      <td>...</td>\n",
       "      <td>NaN</td>\n",
       "      <td>NaN</td>\n",
       "      <td>NaN</td>\n",
       "      <td>NaN</td>\n",
       "      <td>NaN</td>\n",
       "      <td>NaN</td>\n",
       "      <td>NaN</td>\n",
       "      <td>NaN</td>\n",
       "      <td>NaN</td>\n",
       "      <td>NaN</td>\n",
       "    </tr>\n",
       "    <tr>\n",
       "      <th>0</th>\n",
       "      <td>3</td>\n",
       "      <td>e3246177ef156a09b762b7e1b5fd95eb</td>\n",
       "      <td>{\"cutoff\": \"quantile_0.1\", \"eval_fairness_grou...</td>\n",
       "      <td>20.814417</td>\n",
       "      <td>89710</td>\n",
       "      <td>1.0</td>\n",
       "      <td>0.072975</td>\n",
       "      <td>0.922658</td>\n",
       "      <td>0.062827</td>\n",
       "      <td>0.933758</td>\n",
       "      <td>...</td>\n",
       "      <td>0.11986</td>\n",
       "      <td>0.146887</td>\n",
       "      <td>0.943540</td>\n",
       "      <td>0.870565</td>\n",
       "      <td>0.013936</td>\n",
       "      <td>0.015536</td>\n",
       "      <td>0.948442</td>\n",
       "      <td>0.885615</td>\n",
       "      <td>20540.0</td>\n",
       "      <td>69170.0</td>\n",
       "    </tr>\n",
       "    <tr>\n",
       "      <th>0</th>\n",
       "      <td>3</td>\n",
       "      <td>e3246177ef156a09b762b7e1b5fd95eb</td>\n",
       "      <td>{\"cutoff\": \"quantile_0.25\", \"eval_fairness_gro...</td>\n",
       "      <td>20.814417</td>\n",
       "      <td>89710</td>\n",
       "      <td>1.0</td>\n",
       "      <td>0.147067</td>\n",
       "      <td>0.823958</td>\n",
       "      <td>0.127492</td>\n",
       "      <td>0.849708</td>\n",
       "      <td>...</td>\n",
       "      <td>NaN</td>\n",
       "      <td>NaN</td>\n",
       "      <td>NaN</td>\n",
       "      <td>NaN</td>\n",
       "      <td>NaN</td>\n",
       "      <td>NaN</td>\n",
       "      <td>NaN</td>\n",
       "      <td>NaN</td>\n",
       "      <td>NaN</td>\n",
       "      <td>NaN</td>\n",
       "    </tr>\n",
       "    <tr>\n",
       "      <th>0</th>\n",
       "      <td>3</td>\n",
       "      <td>e3246177ef156a09b762b7e1b5fd95eb</td>\n",
       "      <td>{\"cutoff\": \"quantile_0.25\", \"eval_fairness_gro...</td>\n",
       "      <td>20.814417</td>\n",
       "      <td>89710</td>\n",
       "      <td>1.0</td>\n",
       "      <td>0.147067</td>\n",
       "      <td>0.823958</td>\n",
       "      <td>0.127492</td>\n",
       "      <td>0.849708</td>\n",
       "      <td>...</td>\n",
       "      <td>0.12873</td>\n",
       "      <td>0.171226</td>\n",
       "      <td>0.835406</td>\n",
       "      <td>0.688339</td>\n",
       "      <td>0.052787</td>\n",
       "      <td>0.065974</td>\n",
       "      <td>0.848296</td>\n",
       "      <td>0.720804</td>\n",
       "      <td>20540.0</td>\n",
       "      <td>69170.0</td>\n",
       "    </tr>\n",
       "  </tbody>\n",
       "</table>\n",
       "<p>4 rows × 50 columns</p>\n",
       "</div>"
      ],
      "text/plain": [
       "  run_no                       universe_id  \\\n",
       "0      3  e3246177ef156a09b762b7e1b5fd95eb   \n",
       "0      3  e3246177ef156a09b762b7e1b5fd95eb   \n",
       "0      3  e3246177ef156a09b762b7e1b5fd95eb   \n",
       "0      3  e3246177ef156a09b762b7e1b5fd95eb   \n",
       "\n",
       "                                   universe_settings  execution_time  \\\n",
       "0  {\"cutoff\": \"quantile_0.1\", \"eval_fairness_grou...       20.814417   \n",
       "0  {\"cutoff\": \"quantile_0.1\", \"eval_fairness_grou...       20.814417   \n",
       "0  {\"cutoff\": \"quantile_0.25\", \"eval_fairness_gro...       20.814417   \n",
       "0  {\"cutoff\": \"quantile_0.25\", \"eval_fairness_gro...       20.814417   \n",
       "\n",
       "   test_size_n  test_size_frac  fair_main_equalized_odds_difference  \\\n",
       "0        89710             1.0                             0.072975   \n",
       "0        89710             1.0                             0.072975   \n",
       "0        89710             1.0                             0.147067   \n",
       "0        89710             1.0                             0.147067   \n",
       "\n",
       "   fair_main_equalized_odds_ratio  fair_main_demographic_parity_difference  \\\n",
       "0                        0.922658                                 0.062827   \n",
       "0                        0.922658                                 0.062827   \n",
       "0                        0.823958                                 0.127492   \n",
       "0                        0.823958                                 0.127492   \n",
       "\n",
       "   fair_main_demographic_parity_ratio  ...  perf_grp_precision_0  \\\n",
       "0                            0.933758  ...                   NaN   \n",
       "0                            0.933758  ...               0.11986   \n",
       "0                            0.849708  ...                   NaN   \n",
       "0                            0.849708  ...               0.12873   \n",
       "\n",
       "   perf_grp_precision_1  perf_grp_false positive rate_0  \\\n",
       "0                   NaN                             NaN   \n",
       "0              0.146887                        0.943540   \n",
       "0                   NaN                             NaN   \n",
       "0              0.171226                        0.835406   \n",
       "\n",
       "   perf_grp_false positive rate_1  perf_grp_false negative rate_0  \\\n",
       "0                             NaN                             NaN   \n",
       "0                        0.870565                        0.013936   \n",
       "0                             NaN                             NaN   \n",
       "0                        0.688339                        0.052787   \n",
       "\n",
       "   perf_grp_false negative rate_1  perf_grp_selection rate_0  \\\n",
       "0                             NaN                        NaN   \n",
       "0                        0.015536                   0.948442   \n",
       "0                             NaN                        NaN   \n",
       "0                        0.065974                   0.848296   \n",
       "\n",
       "   perf_grp_selection rate_1  perf_grp_count_0  perf_grp_count_1  \n",
       "0                        NaN               NaN               NaN  \n",
       "0                   0.885615           20540.0           69170.0  \n",
       "0                        NaN               NaN               NaN  \n",
       "0                   0.720804           20540.0           69170.0  \n",
       "\n",
       "[4 rows x 50 columns]"
      ]
     },
     "execution_count": 64,
     "metadata": {},
     "output_type": "execute_result"
    }
   ],
   "source": [
    "final_output = universe_analysis.generate_final_output(\n",
    "    y_pred_prob=probs_test,\n",
    "    y_test=y_true,\n",
    "    org_test=org_test,\n",
    "    filter_data=filter_sub_universe_data,\n",
    "    cp_metrics_df=cp_metrics_df,\n",
    "    save=True,\n",
    ")\n",
    "final_output"
   ]
  },
  {
   "cell_type": "code",
   "execution_count": null,
   "id": "8b80a1ff",
   "metadata": {
    "papermill": {
     "duration": 0.014554,
     "end_time": "2025-08-19T18:24:17.561061",
     "exception": false,
     "start_time": "2025-08-19T18:24:17.546507",
     "status": "completed"
    },
    "tags": []
   },
   "outputs": [],
   "source": []
  },
  {
   "cell_type": "code",
   "execution_count": null,
   "id": "275c9fad",
   "metadata": {
    "papermill": {
     "duration": 0.014358,
     "end_time": "2025-08-19T18:24:17.589970",
     "exception": false,
     "start_time": "2025-08-19T18:24:17.575612",
     "status": "completed"
    },
    "tags": []
   },
   "outputs": [],
   "source": []
  }
 ],
 "metadata": {
  "celltoolbar": "Tags",
  "kernelspec": {
   "display_name": "Python (CMA Fairness)",
   "language": "python",
   "name": "cma_fair_env"
  },
  "language_info": {
   "codemirror_mode": {
    "name": "ipython",
    "version": 3
   },
   "file_extension": ".py",
   "mimetype": "text/x-python",
   "name": "python",
   "nbconvert_exporter": "python",
   "pygments_lexer": "ipython3",
   "version": "3.10.12"
  },
  "papermill": {
   "default_parameters": {},
   "duration": 31.221617,
   "end_time": "2025-08-19T18:24:18.429452",
   "environment_variables": {},
   "exception": null,
   "input_path": "universe_analysis.ipynb",
   "output_path": "output/runs/3/notebooks/m_3-e3246177ef156a09b762b7e1b5fd95eb.ipynb",
   "parameters": {
    "output_dir": "output",
    "run_no": "3",
    "seed": "2023",
    "universe": "{\"cutoff\": [\"quantile_0.1\", \"quantile_0.25\"], \"eval_fairness_grouping\": [\"majority-minority\", \"nationality-all\"], \"exclude_features\": \"nationality-sex\", \"exclude_subgroups\": \"keep-all\", \"model\": \"penalized_logreg\", \"scale\": \"scale\", \"training_size\": \"5k\", \"training_year\": \"2014\"}",
    "universe_id": "e3246177ef156a09b762b7e1b5fd95eb"
   },
   "start_time": "2025-08-19T18:23:47.207835",
   "version": "2.6.0"
  }
 },
 "nbformat": 4,
 "nbformat_minor": 5
}