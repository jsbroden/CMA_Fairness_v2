{
 "cells": [
  {
   "cell_type": "markdown",
   "id": "ef23dbb3",
   "metadata": {
    "papermill": {
     "duration": 0.014877,
     "end_time": "2025-08-19T18:17:12.890023",
     "exception": false,
     "start_time": "2025-08-19T18:17:12.875146",
     "status": "completed"
    },
    "tags": []
   },
   "source": [
    "# Setup"
   ]
  },
  {
   "cell_type": "code",
   "execution_count": 1,
   "id": "0bc8e7dc",
   "metadata": {
    "execution": {
     "iopub.execute_input": "2025-08-19T18:17:12.918418Z",
     "iopub.status.busy": "2025-08-19T18:17:12.917705Z",
     "iopub.status.idle": "2025-08-19T18:17:12.937044Z",
     "shell.execute_reply": "2025-08-19T18:17:12.928406Z"
    },
    "papermill": {
     "duration": 0.034084,
     "end_time": "2025-08-19T18:17:12.939862",
     "exception": false,
     "start_time": "2025-08-19T18:17:12.905778",
     "status": "completed"
    },
    "tags": []
   },
   "outputs": [
    {
     "name": "stdout",
     "output_type": "stream",
     "text": [
      "/dss/dsshome1/0C/ra93lal2/cma/CMA_Fairness_v2\n"
     ]
    },
    {
     "name": "stderr",
     "output_type": "stream",
     "text": [
      "/dss/dsshome1/0C/ra93lal2/.local/share/virtualenvs/CMA_Fairness_v2-3j10GkSs/lib/python3.10/site-packages/IPython/core/magics/osm.py:393: UserWarning: This is now an optional IPython functionality, using bookmarks requires you to install the `pickleshare` library.\n",
      "  bkms = self.shell.db.get('bookmarks', {})\n",
      "/dss/dsshome1/0C/ra93lal2/.local/share/virtualenvs/CMA_Fairness_v2-3j10GkSs/lib/python3.10/site-packages/IPython/core/magics/osm.py:417: UserWarning: This is now an optional IPython functionality, setting dhist requires you to install the `pickleshare` library.\n",
      "  self.shell.db['dhist'] = compress_dhist(dhist)[-100:]\n"
     ]
    }
   ],
   "source": [
    "%cd ~/cma/CMA_Fairness_v2"
   ]
  },
  {
   "cell_type": "markdown",
   "id": "9d235661",
   "metadata": {
    "papermill": {
     "duration": 0.010232,
     "end_time": "2025-08-19T18:17:12.960742",
     "exception": false,
     "start_time": "2025-08-19T18:17:12.950510",
     "status": "completed"
    },
    "tags": []
   },
   "source": [
    "The following cell holds the definition of our parameters, these values can be overriden by rendering the with e.g. the following command:\n",
    "\n",
    "papermill -p alpha 0.2 -p ratio 0.3 universe_analysis.ipynb output/test_run.ipynb"
   ]
  },
  {
   "cell_type": "code",
   "execution_count": 2,
   "id": "4a789d8e",
   "metadata": {
    "execution": {
     "iopub.execute_input": "2025-08-19T18:17:12.981688Z",
     "iopub.status.busy": "2025-08-19T18:17:12.980752Z",
     "iopub.status.idle": "2025-08-19T18:17:12.985612Z",
     "shell.execute_reply": "2025-08-19T18:17:12.984735Z"
    },
    "papermill": {
     "duration": 0.017616,
     "end_time": "2025-08-19T18:17:12.987400",
     "exception": false,
     "start_time": "2025-08-19T18:17:12.969784",
     "status": "completed"
    },
    "tags": []
   },
   "outputs": [
    {
     "name": "stdout",
     "output_type": "stream",
     "text": [
      "Current working directory: /dss/dsshome1/0C/ra93lal2/cma/CMA_Fairness_v2\n"
     ]
    }
   ],
   "source": [
    "import os\n",
    "print(\"Current working directory:\", os.getcwd())"
   ]
  },
  {
   "cell_type": "code",
   "execution_count": 3,
   "id": "4132aaed",
   "metadata": {
    "execution": {
     "iopub.execute_input": "2025-08-19T18:17:13.008324Z",
     "iopub.status.busy": "2025-08-19T18:17:13.007859Z",
     "iopub.status.idle": "2025-08-19T18:17:13.013228Z",
     "shell.execute_reply": "2025-08-19T18:17:13.012377Z"
    },
    "papermill": {
     "duration": 0.017774,
     "end_time": "2025-08-19T18:17:13.014969",
     "exception": false,
     "start_time": "2025-08-19T18:17:12.997195",
     "status": "completed"
    },
    "tags": [
     "parameters"
    ]
   },
   "outputs": [],
   "source": [
    "run_no = 0\n",
    "universe_id = \"test\"\n",
    "universe = {\n",
    "    \"training_size\": \"5k\", # \"25k\", \"5k\", \"1k\"\n",
    "    \"training_year\": \"2012_14\", # \"2014\", \"2012_14\", \"2010_14\"\n",
    "    \"scale\": \"scale\", # \"scale\", \"do-not-scale\",\n",
    "    \"model\": \"elasticnet\", # \"logreg\", \"penalized_logreg\", \"rf\", \"gbm\", \"elasticnet\"\n",
    "    \"cutoff\": [\"quantile_0.15\", \"quantile_0.30\"],\n",
    "    \"exclude_features\": \"age\", # \"none\", \"nationality\", \"sex\", \"nationality-sex\", \"age\"\n",
    "    \"exclude_subgroups\": \"drop-non-german\", # \"keep-all\", \"drop-non-german\"\n",
    "    \"eval_fairness_grouping\": [\"majority-minority\", \"nationality-all\"]\n",
    "}\n",
    "\n",
    "output_dir=\"./output\"\n",
    "seed=0"
   ]
  },
  {
   "cell_type": "code",
   "execution_count": 4,
   "id": "c6171fe7",
   "metadata": {
    "execution": {
     "iopub.execute_input": "2025-08-19T18:17:13.035348Z",
     "iopub.status.busy": "2025-08-19T18:17:13.035020Z",
     "iopub.status.idle": "2025-08-19T18:17:13.039802Z",
     "shell.execute_reply": "2025-08-19T18:17:13.038984Z"
    },
    "papermill": {
     "duration": 0.01697,
     "end_time": "2025-08-19T18:17:13.041393",
     "exception": false,
     "start_time": "2025-08-19T18:17:13.024423",
     "status": "completed"
    },
    "tags": [
     "injected-parameters"
    ]
   },
   "outputs": [],
   "source": [
    "# Parameters\n",
    "universe_id = \"6777bd6df839d2ff5f30929cbb825de2\"\n",
    "run_no = \"3\"\n",
    "universe = \"{\\\"cutoff\\\": [\\\"quantile_0.1\\\", \\\"quantile_0.25\\\"], \\\"eval_fairness_grouping\\\": [\\\"majority-minority\\\", \\\"nationality-all\\\"], \\\"exclude_features\\\": \\\"nationality-sex\\\", \\\"exclude_subgroups\\\": \\\"drop-non-german\\\", \\\"model\\\": \\\"elasticnet\\\", \\\"scale\\\": \\\"scale\\\", \\\"training_size\\\": \\\"25k\\\", \\\"training_year\\\": \\\"2010_14\\\"}\"\n",
    "output_dir = \"output\"\n",
    "seed = \"2023\"\n"
   ]
  },
  {
   "cell_type": "code",
   "execution_count": 5,
   "id": "a5d7941f",
   "metadata": {
    "execution": {
     "iopub.execute_input": "2025-08-19T18:17:13.061558Z",
     "iopub.status.busy": "2025-08-19T18:17:13.061087Z",
     "iopub.status.idle": "2025-08-19T18:17:13.065399Z",
     "shell.execute_reply": "2025-08-19T18:17:13.064608Z"
    },
    "papermill": {
     "duration": 0.016016,
     "end_time": "2025-08-19T18:17:13.066857",
     "exception": false,
     "start_time": "2025-08-19T18:17:13.050841",
     "status": "completed"
    },
    "tags": []
   },
   "outputs": [],
   "source": [
    "import json\n",
    "if isinstance(universe, str):\n",
    "    universe = json.loads(universe)"
   ]
  },
  {
   "cell_type": "code",
   "execution_count": 6,
   "id": "7076ccb1",
   "metadata": {
    "execution": {
     "iopub.execute_input": "2025-08-19T18:17:13.087625Z",
     "iopub.status.busy": "2025-08-19T18:17:13.087127Z",
     "iopub.status.idle": "2025-08-19T18:17:13.130849Z",
     "shell.execute_reply": "2025-08-19T18:17:13.129320Z"
    },
    "papermill": {
     "duration": 0.056733,
     "end_time": "2025-08-19T18:17:13.133314",
     "exception": false,
     "start_time": "2025-08-19T18:17:13.076581",
     "status": "completed"
    },
    "tags": []
   },
   "outputs": [],
   "source": [
    "# Auto-reload the custom package\n",
    "%load_ext autoreload\n",
    "%autoreload 1\n",
    "%aimport fairness_multiverse"
   ]
  },
  {
   "cell_type": "code",
   "execution_count": 7,
   "id": "94c8eb93",
   "metadata": {
    "execution": {
     "iopub.execute_input": "2025-08-19T18:17:13.180748Z",
     "iopub.status.busy": "2025-08-19T18:17:13.178878Z",
     "iopub.status.idle": "2025-08-19T18:17:14.909398Z",
     "shell.execute_reply": "2025-08-19T18:17:14.907892Z"
    },
    "papermill": {
     "duration": 1.763142,
     "end_time": "2025-08-19T18:17:14.911161",
     "exception": false,
     "start_time": "2025-08-19T18:17:13.148019",
     "status": "completed"
    },
    "tags": []
   },
   "outputs": [],
   "source": [
    "from fairness_multiverse.universe import UniverseAnalysis\n",
    "\n",
    "universe_analysis = UniverseAnalysis(\n",
    "    run_no = run_no,\n",
    "    universe_id = universe_id,\n",
    "    universe = universe,\n",
    "    output_dir=output_dir,\n",
    ")"
   ]
  },
  {
   "cell_type": "code",
   "execution_count": 8,
   "id": "2a6381cf",
   "metadata": {
    "execution": {
     "iopub.execute_input": "2025-08-19T18:17:14.948449Z",
     "iopub.status.busy": "2025-08-19T18:17:14.946929Z",
     "iopub.status.idle": "2025-08-19T18:17:14.958892Z",
     "shell.execute_reply": "2025-08-19T18:17:14.958035Z"
    },
    "papermill": {
     "duration": 0.043405,
     "end_time": "2025-08-19T18:17:14.966557",
     "exception": false,
     "start_time": "2025-08-19T18:17:14.923152",
     "status": "completed"
    },
    "tags": []
   },
   "outputs": [
    {
     "name": "stdout",
     "output_type": "stream",
     "text": [
      "Using Seed: 2023\n"
     ]
    }
   ],
   "source": [
    "import numpy as np\n",
    "parsed_seed = int(seed)\n",
    "np.random.seed(parsed_seed)\n",
    "print(f\"Using Seed: {parsed_seed}\")"
   ]
  },
  {
   "cell_type": "markdown",
   "id": "b6e958b4",
   "metadata": {
    "papermill": {
     "duration": 0.009804,
     "end_time": "2025-08-19T18:17:14.986416",
     "exception": false,
     "start_time": "2025-08-19T18:17:14.976612",
     "status": "completed"
    },
    "tags": []
   },
   "source": [
    "# Loading Data"
   ]
  },
  {
   "cell_type": "code",
   "execution_count": 9,
   "id": "98701482",
   "metadata": {
    "execution": {
     "iopub.execute_input": "2025-08-19T18:17:15.010388Z",
     "iopub.status.busy": "2025-08-19T18:17:15.009369Z",
     "iopub.status.idle": "2025-08-19T18:17:25.686494Z",
     "shell.execute_reply": "2025-08-19T18:17:25.683824Z"
    },
    "papermill": {
     "duration": 10.6895,
     "end_time": "2025-08-19T18:17:25.688034",
     "exception": false,
     "start_time": "2025-08-19T18:17:14.998534",
     "status": "completed"
    },
    "tags": []
   },
   "outputs": [
    {
     "name": "stdout",
     "output_type": "stream",
     "text": [
      "Loading SIAB data from cache: data/siab_cached.csv.gz\n"
     ]
    },
    {
     "name": "stdout",
     "output_type": "stream",
     "text": [
      "(643690, 164)\n"
     ]
    }
   ],
   "source": [
    "from pathlib import Path\n",
    "import pandas as pd\n",
    "\n",
    "# File paths\n",
    "raw_file = Path(\"data/raw/siab.csv\")\n",
    "cache_file = Path(\"data/siab_cached.csv.gz\")\n",
    "\n",
    "# Ensure cache directory exists\n",
    "cache_file.parent.mkdir(parents=True, exist_ok=True)\n",
    "\n",
    "# Load with simple caching\n",
    "if cache_file.exists():\n",
    "    print(f\"Loading SIAB data from cache: {cache_file}\")\n",
    "    siab = pd.read_csv(cache_file, compression='gzip')\n",
    "else:\n",
    "    print(f\"Cache not found. Reading raw SIAB data: {raw_file}\")\n",
    "    siab = pd.read_csv(raw_file)\n",
    "    siab.to_csv(cache_file, index=False, compression='gzip')\n",
    "    print(f\"Cached SIAB data to: {cache_file}\")\n",
    "\n",
    "print(siab.shape)"
   ]
  },
  {
   "cell_type": "code",
   "execution_count": 10,
   "id": "058d2abb",
   "metadata": {
    "execution": {
     "iopub.execute_input": "2025-08-19T18:17:25.714927Z",
     "iopub.status.busy": "2025-08-19T18:17:25.714315Z",
     "iopub.status.idle": "2025-08-19T18:17:25.908430Z",
     "shell.execute_reply": "2025-08-19T18:17:25.907483Z"
    },
    "papermill": {
     "duration": 0.208894,
     "end_time": "2025-08-19T18:17:25.911415",
     "exception": false,
     "start_time": "2025-08-19T18:17:25.702521",
     "status": "completed"
    },
    "tags": []
   },
   "outputs": [
    {
     "data": {
      "text/html": [
       "<div>\n",
       "<style scoped>\n",
       "    .dataframe tbody tr th:only-of-type {\n",
       "        vertical-align: middle;\n",
       "    }\n",
       "\n",
       "    .dataframe tbody tr th {\n",
       "        vertical-align: top;\n",
       "    }\n",
       "\n",
       "    .dataframe thead th {\n",
       "        text-align: right;\n",
       "    }\n",
       "</style>\n",
       "<table border=\"1\" class=\"dataframe\">\n",
       "  <thead>\n",
       "    <tr style=\"text-align: right;\">\n",
       "      <th></th>\n",
       "      <th>persnr</th>\n",
       "      <th>year</th>\n",
       "      <th>nrEntry</th>\n",
       "      <th>ltue</th>\n",
       "      <th>employed_before</th>\n",
       "      <th>receipt_leh_before</th>\n",
       "      <th>receipt_lhg_before</th>\n",
       "      <th>se_before</th>\n",
       "      <th>ASU_notue_seeking_before</th>\n",
       "      <th>ASU_other_before</th>\n",
       "      <th>...</th>\n",
       "      <th>minijob_tot_dur_byage</th>\n",
       "      <th>ft_tot_dur_byage</th>\n",
       "      <th>befrist_tot_dur_byage</th>\n",
       "      <th>leih_tot_dur_byage</th>\n",
       "      <th>LHG_tot_dur_byage</th>\n",
       "      <th>LEH_tot_dur_byage</th>\n",
       "      <th>almp_tot_dur_byage</th>\n",
       "      <th>almp_aw_tot_dur_byage</th>\n",
       "      <th>se_tot_dur_byage</th>\n",
       "      <th>seeking1_tot_dur_byage</th>\n",
       "    </tr>\n",
       "  </thead>\n",
       "  <tbody>\n",
       "    <tr>\n",
       "      <th>0</th>\n",
       "      <td>7</td>\n",
       "      <td>2015</td>\n",
       "      <td>1</td>\n",
       "      <td>0</td>\n",
       "      <td>1</td>\n",
       "      <td>0</td>\n",
       "      <td>0</td>\n",
       "      <td>0</td>\n",
       "      <td>1</td>\n",
       "      <td>0</td>\n",
       "      <td>...</td>\n",
       "      <td>0.000000</td>\n",
       "      <td>0.000000</td>\n",
       "      <td>15.043478</td>\n",
       "      <td>0.000000</td>\n",
       "      <td>0.000000</td>\n",
       "      <td>0.000000</td>\n",
       "      <td>0.000000</td>\n",
       "      <td>0.000000</td>\n",
       "      <td>0.000000</td>\n",
       "      <td>0.000000</td>\n",
       "    </tr>\n",
       "    <tr>\n",
       "      <th>1</th>\n",
       "      <td>18</td>\n",
       "      <td>2010</td>\n",
       "      <td>1</td>\n",
       "      <td>1</td>\n",
       "      <td>0</td>\n",
       "      <td>0</td>\n",
       "      <td>0</td>\n",
       "      <td>0</td>\n",
       "      <td>0</td>\n",
       "      <td>0</td>\n",
       "      <td>...</td>\n",
       "      <td>0.000000</td>\n",
       "      <td>0.000000</td>\n",
       "      <td>0.000000</td>\n",
       "      <td>0.000000</td>\n",
       "      <td>0.000000</td>\n",
       "      <td>0.000000</td>\n",
       "      <td>0.000000</td>\n",
       "      <td>0.000000</td>\n",
       "      <td>0.000000</td>\n",
       "      <td>0.000000</td>\n",
       "    </tr>\n",
       "    <tr>\n",
       "      <th>2</th>\n",
       "      <td>18</td>\n",
       "      <td>2011</td>\n",
       "      <td>2</td>\n",
       "      <td>0</td>\n",
       "      <td>1</td>\n",
       "      <td>0</td>\n",
       "      <td>1</td>\n",
       "      <td>0</td>\n",
       "      <td>1</td>\n",
       "      <td>0</td>\n",
       "      <td>...</td>\n",
       "      <td>2.714286</td>\n",
       "      <td>2.714286</td>\n",
       "      <td>0.000000</td>\n",
       "      <td>0.000000</td>\n",
       "      <td>10.775510</td>\n",
       "      <td>0.000000</td>\n",
       "      <td>8.367347</td>\n",
       "      <td>0.000000</td>\n",
       "      <td>0.000000</td>\n",
       "      <td>9.836735</td>\n",
       "    </tr>\n",
       "    <tr>\n",
       "      <th>3</th>\n",
       "      <td>18</td>\n",
       "      <td>2012</td>\n",
       "      <td>3</td>\n",
       "      <td>0</td>\n",
       "      <td>1</td>\n",
       "      <td>0</td>\n",
       "      <td>1</td>\n",
       "      <td>0</td>\n",
       "      <td>1</td>\n",
       "      <td>0</td>\n",
       "      <td>...</td>\n",
       "      <td>4.200000</td>\n",
       "      <td>4.200000</td>\n",
       "      <td>0.000000</td>\n",
       "      <td>0.000000</td>\n",
       "      <td>12.100000</td>\n",
       "      <td>0.000000</td>\n",
       "      <td>9.400000</td>\n",
       "      <td>0.000000</td>\n",
       "      <td>0.000000</td>\n",
       "      <td>9.960000</td>\n",
       "    </tr>\n",
       "    <tr>\n",
       "      <th>4</th>\n",
       "      <td>18</td>\n",
       "      <td>2012</td>\n",
       "      <td>4</td>\n",
       "      <td>0</td>\n",
       "      <td>1</td>\n",
       "      <td>0</td>\n",
       "      <td>1</td>\n",
       "      <td>0</td>\n",
       "      <td>1</td>\n",
       "      <td>0</td>\n",
       "      <td>...</td>\n",
       "      <td>5.460000</td>\n",
       "      <td>5.460000</td>\n",
       "      <td>0.000000</td>\n",
       "      <td>0.000000</td>\n",
       "      <td>13.360000</td>\n",
       "      <td>0.000000</td>\n",
       "      <td>10.320000</td>\n",
       "      <td>0.000000</td>\n",
       "      <td>0.000000</td>\n",
       "      <td>10.280000</td>\n",
       "    </tr>\n",
       "    <tr>\n",
       "      <th>...</th>\n",
       "      <td>...</td>\n",
       "      <td>...</td>\n",
       "      <td>...</td>\n",
       "      <td>...</td>\n",
       "      <td>...</td>\n",
       "      <td>...</td>\n",
       "      <td>...</td>\n",
       "      <td>...</td>\n",
       "      <td>...</td>\n",
       "      <td>...</td>\n",
       "      <td>...</td>\n",
       "      <td>...</td>\n",
       "      <td>...</td>\n",
       "      <td>...</td>\n",
       "      <td>...</td>\n",
       "      <td>...</td>\n",
       "      <td>...</td>\n",
       "      <td>...</td>\n",
       "      <td>...</td>\n",
       "      <td>...</td>\n",
       "      <td>...</td>\n",
       "    </tr>\n",
       "    <tr>\n",
       "      <th>643685</th>\n",
       "      <td>1827860</td>\n",
       "      <td>2013</td>\n",
       "      <td>1</td>\n",
       "      <td>0</td>\n",
       "      <td>0</td>\n",
       "      <td>0</td>\n",
       "      <td>1</td>\n",
       "      <td>0</td>\n",
       "      <td>0</td>\n",
       "      <td>1</td>\n",
       "      <td>...</td>\n",
       "      <td>0.000000</td>\n",
       "      <td>0.000000</td>\n",
       "      <td>0.000000</td>\n",
       "      <td>0.000000</td>\n",
       "      <td>0.612903</td>\n",
       "      <td>0.000000</td>\n",
       "      <td>0.000000</td>\n",
       "      <td>0.000000</td>\n",
       "      <td>0.000000</td>\n",
       "      <td>0.000000</td>\n",
       "    </tr>\n",
       "    <tr>\n",
       "      <th>643686</th>\n",
       "      <td>1827860</td>\n",
       "      <td>2015</td>\n",
       "      <td>2</td>\n",
       "      <td>1</td>\n",
       "      <td>0</td>\n",
       "      <td>0</td>\n",
       "      <td>1</td>\n",
       "      <td>0</td>\n",
       "      <td>1</td>\n",
       "      <td>0</td>\n",
       "      <td>...</td>\n",
       "      <td>0.000000</td>\n",
       "      <td>0.000000</td>\n",
       "      <td>0.212121</td>\n",
       "      <td>0.212121</td>\n",
       "      <td>17.363636</td>\n",
       "      <td>0.000000</td>\n",
       "      <td>8.909091</td>\n",
       "      <td>0.000000</td>\n",
       "      <td>0.000000</td>\n",
       "      <td>7.121212</td>\n",
       "    </tr>\n",
       "    <tr>\n",
       "      <th>643687</th>\n",
       "      <td>1827860</td>\n",
       "      <td>2016</td>\n",
       "      <td>3</td>\n",
       "      <td>1</td>\n",
       "      <td>0</td>\n",
       "      <td>0</td>\n",
       "      <td>1</td>\n",
       "      <td>1</td>\n",
       "      <td>0</td>\n",
       "      <td>1</td>\n",
       "      <td>...</td>\n",
       "      <td>0.000000</td>\n",
       "      <td>0.000000</td>\n",
       "      <td>0.294118</td>\n",
       "      <td>0.205882</td>\n",
       "      <td>34.705882</td>\n",
       "      <td>0.000000</td>\n",
       "      <td>10.352941</td>\n",
       "      <td>1.705882</td>\n",
       "      <td>1.705882</td>\n",
       "      <td>23.911765</td>\n",
       "    </tr>\n",
       "    <tr>\n",
       "      <th>643688</th>\n",
       "      <td>1827869</td>\n",
       "      <td>2013</td>\n",
       "      <td>1</td>\n",
       "      <td>1</td>\n",
       "      <td>1</td>\n",
       "      <td>0</td>\n",
       "      <td>0</td>\n",
       "      <td>0</td>\n",
       "      <td>1</td>\n",
       "      <td>0</td>\n",
       "      <td>...</td>\n",
       "      <td>0.000000</td>\n",
       "      <td>0.000000</td>\n",
       "      <td>0.000000</td>\n",
       "      <td>0.000000</td>\n",
       "      <td>0.000000</td>\n",
       "      <td>0.525424</td>\n",
       "      <td>0.000000</td>\n",
       "      <td>0.000000</td>\n",
       "      <td>0.000000</td>\n",
       "      <td>0.000000</td>\n",
       "    </tr>\n",
       "    <tr>\n",
       "      <th>643689</th>\n",
       "      <td>1827869</td>\n",
       "      <td>2014</td>\n",
       "      <td>2</td>\n",
       "      <td>0</td>\n",
       "      <td>0</td>\n",
       "      <td>1</td>\n",
       "      <td>0</td>\n",
       "      <td>0</td>\n",
       "      <td>1</td>\n",
       "      <td>0</td>\n",
       "      <td>...</td>\n",
       "      <td>0.000000</td>\n",
       "      <td>0.666667</td>\n",
       "      <td>0.666667</td>\n",
       "      <td>0.000000</td>\n",
       "      <td>0.000000</td>\n",
       "      <td>8.950000</td>\n",
       "      <td>1.033333</td>\n",
       "      <td>0.083333</td>\n",
       "      <td>0.083333</td>\n",
       "      <td>8.133333</td>\n",
       "    </tr>\n",
       "  </tbody>\n",
       "</table>\n",
       "<p>643690 rows × 164 columns</p>\n",
       "</div>"
      ],
      "text/plain": [
       "         persnr  year  nrEntry  ltue  employed_before  receipt_leh_before  \\\n",
       "0             7  2015        1     0                1                   0   \n",
       "1            18  2010        1     1                0                   0   \n",
       "2            18  2011        2     0                1                   0   \n",
       "3            18  2012        3     0                1                   0   \n",
       "4            18  2012        4     0                1                   0   \n",
       "...         ...   ...      ...   ...              ...                 ...   \n",
       "643685  1827860  2013        1     0                0                   0   \n",
       "643686  1827860  2015        2     1                0                   0   \n",
       "643687  1827860  2016        3     1                0                   0   \n",
       "643688  1827869  2013        1     1                1                   0   \n",
       "643689  1827869  2014        2     0                0                   1   \n",
       "\n",
       "        receipt_lhg_before  se_before  ASU_notue_seeking_before  \\\n",
       "0                        0          0                         1   \n",
       "1                        0          0                         0   \n",
       "2                        1          0                         1   \n",
       "3                        1          0                         1   \n",
       "4                        1          0                         1   \n",
       "...                    ...        ...                       ...   \n",
       "643685                   1          0                         0   \n",
       "643686                   1          0                         1   \n",
       "643687                   1          1                         0   \n",
       "643688                   0          0                         1   \n",
       "643689                   0          0                         1   \n",
       "\n",
       "        ASU_other_before  ...  minijob_tot_dur_byage  ft_tot_dur_byage  \\\n",
       "0                      0  ...               0.000000          0.000000   \n",
       "1                      0  ...               0.000000          0.000000   \n",
       "2                      0  ...               2.714286          2.714286   \n",
       "3                      0  ...               4.200000          4.200000   \n",
       "4                      0  ...               5.460000          5.460000   \n",
       "...                  ...  ...                    ...               ...   \n",
       "643685                 1  ...               0.000000          0.000000   \n",
       "643686                 0  ...               0.000000          0.000000   \n",
       "643687                 1  ...               0.000000          0.000000   \n",
       "643688                 0  ...               0.000000          0.000000   \n",
       "643689                 0  ...               0.000000          0.666667   \n",
       "\n",
       "        befrist_tot_dur_byage  leih_tot_dur_byage  LHG_tot_dur_byage  \\\n",
       "0                   15.043478            0.000000           0.000000   \n",
       "1                    0.000000            0.000000           0.000000   \n",
       "2                    0.000000            0.000000          10.775510   \n",
       "3                    0.000000            0.000000          12.100000   \n",
       "4                    0.000000            0.000000          13.360000   \n",
       "...                       ...                 ...                ...   \n",
       "643685               0.000000            0.000000           0.612903   \n",
       "643686               0.212121            0.212121          17.363636   \n",
       "643687               0.294118            0.205882          34.705882   \n",
       "643688               0.000000            0.000000           0.000000   \n",
       "643689               0.666667            0.000000           0.000000   \n",
       "\n",
       "        LEH_tot_dur_byage  almp_tot_dur_byage  almp_aw_tot_dur_byage  \\\n",
       "0                0.000000            0.000000               0.000000   \n",
       "1                0.000000            0.000000               0.000000   \n",
       "2                0.000000            8.367347               0.000000   \n",
       "3                0.000000            9.400000               0.000000   \n",
       "4                0.000000           10.320000               0.000000   \n",
       "...                   ...                 ...                    ...   \n",
       "643685           0.000000            0.000000               0.000000   \n",
       "643686           0.000000            8.909091               0.000000   \n",
       "643687           0.000000           10.352941               1.705882   \n",
       "643688           0.525424            0.000000               0.000000   \n",
       "643689           8.950000            1.033333               0.083333   \n",
       "\n",
       "        se_tot_dur_byage  seeking1_tot_dur_byage  \n",
       "0               0.000000                0.000000  \n",
       "1               0.000000                0.000000  \n",
       "2               0.000000                9.836735  \n",
       "3               0.000000                9.960000  \n",
       "4               0.000000               10.280000  \n",
       "...                  ...                     ...  \n",
       "643685          0.000000                0.000000  \n",
       "643686          0.000000                7.121212  \n",
       "643687          1.705882               23.911765  \n",
       "643688          0.000000                0.000000  \n",
       "643689          0.083333                8.133333  \n",
       "\n",
       "[643690 rows x 164 columns]"
      ]
     },
     "execution_count": 10,
     "metadata": {},
     "output_type": "execute_result"
    }
   ],
   "source": [
    "siab"
   ]
  },
  {
   "cell_type": "markdown",
   "id": "1f87e805",
   "metadata": {
    "papermill": {
     "duration": 0.011192,
     "end_time": "2025-08-19T18:17:25.956081",
     "exception": false,
     "start_time": "2025-08-19T18:17:25.944889",
     "status": "completed"
    },
    "tags": []
   },
   "source": [
    "# Splitting Data and Setting Training Data Size"
   ]
  },
  {
   "cell_type": "code",
   "execution_count": 11,
   "id": "910ae358",
   "metadata": {
    "execution": {
     "iopub.execute_input": "2025-08-19T18:17:25.980184Z",
     "iopub.status.busy": "2025-08-19T18:17:25.978720Z",
     "iopub.status.idle": "2025-08-19T18:17:27.279598Z",
     "shell.execute_reply": "2025-08-19T18:17:27.277917Z"
    },
    "papermill": {
     "duration": 1.315222,
     "end_time": "2025-08-19T18:17:27.281612",
     "exception": false,
     "start_time": "2025-08-19T18:17:25.966390",
     "status": "completed"
    },
    "tags": []
   },
   "outputs": [],
   "source": [
    "from fairness_multiverse.universe import sample_by_year_size\n",
    "\n",
    "siab_train = sample_by_year_size(siab,\n",
    "                               training_year=universe[\"training_year\"],\n",
    "                               training_size=universe[\"training_size\"])"
   ]
  },
  {
   "cell_type": "code",
   "execution_count": 12,
   "id": "919c8ff5",
   "metadata": {
    "execution": {
     "iopub.execute_input": "2025-08-19T18:17:27.318657Z",
     "iopub.status.busy": "2025-08-19T18:17:27.317252Z",
     "iopub.status.idle": "2025-08-19T18:17:27.332176Z",
     "shell.execute_reply": "2025-08-19T18:17:27.331031Z"
    },
    "papermill": {
     "duration": 0.03398,
     "end_time": "2025-08-19T18:17:27.334029",
     "exception": false,
     "start_time": "2025-08-19T18:17:27.300049",
     "status": "completed"
    },
    "tags": []
   },
   "outputs": [
    {
     "data": {
      "text/plain": [
       "(25000, 164)"
      ]
     },
     "execution_count": 12,
     "metadata": {},
     "output_type": "execute_result"
    }
   ],
   "source": [
    "siab_train.shape"
   ]
  },
  {
   "cell_type": "code",
   "execution_count": 13,
   "id": "feb13bf4",
   "metadata": {
    "execution": {
     "iopub.execute_input": "2025-08-19T18:17:27.362217Z",
     "iopub.status.busy": "2025-08-19T18:17:27.360964Z",
     "iopub.status.idle": "2025-08-19T18:17:27.377762Z",
     "shell.execute_reply": "2025-08-19T18:17:27.376543Z"
    },
    "papermill": {
     "duration": 0.030504,
     "end_time": "2025-08-19T18:17:27.379349",
     "exception": false,
     "start_time": "2025-08-19T18:17:27.348845",
     "status": "completed"
    },
    "tags": []
   },
   "outputs": [
    {
     "data": {
      "text/plain": [
       "year\n",
       "2010    5000\n",
       "2011    5000\n",
       "2012    5000\n",
       "2013    5000\n",
       "2014    5000\n",
       "dtype: int64"
      ]
     },
     "metadata": {},
     "output_type": "display_data"
    }
   ],
   "source": [
    "display(siab_train.groupby(\"year\").size())"
   ]
  },
  {
   "cell_type": "code",
   "execution_count": 14,
   "id": "0997782f",
   "metadata": {
    "execution": {
     "iopub.execute_input": "2025-08-19T18:17:27.407138Z",
     "iopub.status.busy": "2025-08-19T18:17:27.405909Z",
     "iopub.status.idle": "2025-08-19T18:17:27.740981Z",
     "shell.execute_reply": "2025-08-19T18:17:27.739291Z"
    },
    "papermill": {
     "duration": 0.350242,
     "end_time": "2025-08-19T18:17:27.744052",
     "exception": false,
     "start_time": "2025-08-19T18:17:27.393810",
     "status": "completed"
    },
    "tags": []
   },
   "outputs": [],
   "source": [
    "#siab_train = siab_s[siab_s.year < 2015]\n",
    "siab_calib = siab[siab.year == 2015]\n",
    "siab_test = siab[siab.year == 2016]"
   ]
  },
  {
   "cell_type": "code",
   "execution_count": 15,
   "id": "2c1e4012",
   "metadata": {
    "execution": {
     "iopub.execute_input": "2025-08-19T18:17:27.813426Z",
     "iopub.status.busy": "2025-08-19T18:17:27.811548Z",
     "iopub.status.idle": "2025-08-19T18:17:27.822227Z",
     "shell.execute_reply": "2025-08-19T18:17:27.820516Z"
    },
    "papermill": {
     "duration": 0.033561,
     "end_time": "2025-08-19T18:17:27.826415",
     "exception": false,
     "start_time": "2025-08-19T18:17:27.792854",
     "status": "completed"
    },
    "tags": []
   },
   "outputs": [],
   "source": [
    "#siab_calib.shape"
   ]
  },
  {
   "cell_type": "code",
   "execution_count": 16,
   "id": "f66b54ca",
   "metadata": {
    "execution": {
     "iopub.execute_input": "2025-08-19T18:17:27.863803Z",
     "iopub.status.busy": "2025-08-19T18:17:27.860347Z",
     "iopub.status.idle": "2025-08-19T18:17:27.867909Z",
     "shell.execute_reply": "2025-08-19T18:17:27.867305Z"
    },
    "papermill": {
     "duration": 0.022421,
     "end_time": "2025-08-19T18:17:27.869488",
     "exception": false,
     "start_time": "2025-08-19T18:17:27.847067",
     "status": "completed"
    },
    "tags": []
   },
   "outputs": [],
   "source": [
    "#siab_test.shape"
   ]
  },
  {
   "cell_type": "code",
   "execution_count": 17,
   "id": "27e4384d",
   "metadata": {
    "execution": {
     "iopub.execute_input": "2025-08-19T18:17:27.897667Z",
     "iopub.status.busy": "2025-08-19T18:17:27.896499Z",
     "iopub.status.idle": "2025-08-19T18:17:27.917379Z",
     "shell.execute_reply": "2025-08-19T18:17:27.916164Z"
    },
    "papermill": {
     "duration": 0.041373,
     "end_time": "2025-08-19T18:17:27.921395",
     "exception": false,
     "start_time": "2025-08-19T18:17:27.880022",
     "status": "completed"
    },
    "tags": []
   },
   "outputs": [],
   "source": [
    "X_train = siab_train.iloc[:,4:164]\n",
    "y_train = siab_train.iloc[:, [3]]"
   ]
  },
  {
   "cell_type": "code",
   "execution_count": 18,
   "id": "08ee8389",
   "metadata": {
    "execution": {
     "iopub.execute_input": "2025-08-19T18:17:27.954072Z",
     "iopub.status.busy": "2025-08-19T18:17:27.952243Z",
     "iopub.status.idle": "2025-08-19T18:17:28.020450Z",
     "shell.execute_reply": "2025-08-19T18:17:28.019542Z"
    },
    "papermill": {
     "duration": 0.085276,
     "end_time": "2025-08-19T18:17:28.022096",
     "exception": false,
     "start_time": "2025-08-19T18:17:27.936820",
     "status": "completed"
    },
    "tags": []
   },
   "outputs": [],
   "source": [
    "X_calib = siab_calib.iloc[:,4:164]\n",
    "y_calib = siab_calib.iloc[:, [3]]"
   ]
  },
  {
   "cell_type": "code",
   "execution_count": 19,
   "id": "b7ff42e0",
   "metadata": {
    "execution": {
     "iopub.execute_input": "2025-08-19T18:17:28.055259Z",
     "iopub.status.busy": "2025-08-19T18:17:28.054700Z",
     "iopub.status.idle": "2025-08-19T18:17:28.117411Z",
     "shell.execute_reply": "2025-08-19T18:17:28.116662Z"
    },
    "papermill": {
     "duration": 0.085523,
     "end_time": "2025-08-19T18:17:28.118915",
     "exception": false,
     "start_time": "2025-08-19T18:17:28.033392",
     "status": "completed"
    },
    "tags": []
   },
   "outputs": [],
   "source": [
    "X_test = siab_test.iloc[:,4:164]\n",
    "y_true = siab_test.iloc[:, [3]]"
   ]
  },
  {
   "cell_type": "code",
   "execution_count": 20,
   "id": "0275101e",
   "metadata": {
    "execution": {
     "iopub.execute_input": "2025-08-19T18:17:28.152648Z",
     "iopub.status.busy": "2025-08-19T18:17:28.151485Z",
     "iopub.status.idle": "2025-08-19T18:17:28.311065Z",
     "shell.execute_reply": "2025-08-19T18:17:28.310385Z"
    },
    "papermill": {
     "duration": 0.181828,
     "end_time": "2025-08-19T18:17:28.312561",
     "exception": false,
     "start_time": "2025-08-19T18:17:28.130733",
     "status": "completed"
    },
    "tags": []
   },
   "outputs": [],
   "source": [
    "# Auxiliary data needed downstream in the pipeline\n",
    "\n",
    "org_train = X_train.copy()\n",
    "org_test = X_test.copy()\n",
    "org_calib = X_calib.copy()"
   ]
  },
  {
   "cell_type": "markdown",
   "id": "b461e618",
   "metadata": {
    "papermill": {
     "duration": 0.010337,
     "end_time": "2025-08-19T18:17:28.333966",
     "exception": false,
     "start_time": "2025-08-19T18:17:28.323629",
     "status": "completed"
    },
    "tags": []
   },
   "source": [
    "# Preprocessing Data"
   ]
  },
  {
   "cell_type": "code",
   "execution_count": 21,
   "id": "78e74c4b",
   "metadata": {
    "execution": {
     "iopub.execute_input": "2025-08-19T18:17:28.357830Z",
     "iopub.status.busy": "2025-08-19T18:17:28.356431Z",
     "iopub.status.idle": "2025-08-19T18:17:28.366711Z",
     "shell.execute_reply": "2025-08-19T18:17:28.365109Z"
    },
    "papermill": {
     "duration": 0.024063,
     "end_time": "2025-08-19T18:17:28.368460",
     "exception": false,
     "start_time": "2025-08-19T18:17:28.344397",
     "status": "completed"
    },
    "tags": []
   },
   "outputs": [],
   "source": [
    "# EXCLUDE PROTECTED FEATURES\n",
    "# --------------------------\n",
    "\n",
    "excluded_features = universe[\"exclude_features\"].split(\"-\")\n",
    "excluded_features_dictionary = {\n",
    "    \"nationality\": [\"maxdeutsch1\", \"maxdeutsch.Missing.\"],\n",
    "    \"sex\": [\"frau1\"],\n",
    "    \"age\": [\"age\"],\n",
    "}"
   ]
  },
  {
   "cell_type": "code",
   "execution_count": 22,
   "id": "f8e63555",
   "metadata": {
    "execution": {
     "iopub.execute_input": "2025-08-19T18:17:28.399307Z",
     "iopub.status.busy": "2025-08-19T18:17:28.397953Z",
     "iopub.status.idle": "2025-08-19T18:17:28.407652Z",
     "shell.execute_reply": "2025-08-19T18:17:28.406001Z"
    },
    "papermill": {
     "duration": 0.02608,
     "end_time": "2025-08-19T18:17:28.409481",
     "exception": false,
     "start_time": "2025-08-19T18:17:28.383401",
     "status": "completed"
    },
    "tags": []
   },
   "outputs": [],
   "source": [
    "excluded_features_columns = [\n",
    "    excluded_features_dictionary[f] for f in excluded_features if len(f) > 0 and f != \"none\"\n",
    "]"
   ]
  },
  {
   "cell_type": "code",
   "execution_count": 23,
   "id": "da781f7c",
   "metadata": {
    "execution": {
     "iopub.execute_input": "2025-08-19T18:17:28.447202Z",
     "iopub.status.busy": "2025-08-19T18:17:28.445920Z",
     "iopub.status.idle": "2025-08-19T18:17:28.454601Z",
     "shell.execute_reply": "2025-08-19T18:17:28.452979Z"
    },
    "papermill": {
     "duration": 0.02985,
     "end_time": "2025-08-19T18:17:28.456516",
     "exception": false,
     "start_time": "2025-08-19T18:17:28.426666",
     "status": "completed"
    },
    "tags": []
   },
   "outputs": [],
   "source": [
    "from fairness_multiverse.universe import flatten_once\n",
    "\n",
    "excluded_features_columns = flatten_once(excluded_features_columns)"
   ]
  },
  {
   "cell_type": "code",
   "execution_count": 24,
   "id": "37fef0f0",
   "metadata": {
    "execution": {
     "iopub.execute_input": "2025-08-19T18:17:28.489170Z",
     "iopub.status.busy": "2025-08-19T18:17:28.487833Z",
     "iopub.status.idle": "2025-08-19T18:17:28.539285Z",
     "shell.execute_reply": "2025-08-19T18:17:28.538651Z"
    },
    "papermill": {
     "duration": 0.069041,
     "end_time": "2025-08-19T18:17:28.541860",
     "exception": false,
     "start_time": "2025-08-19T18:17:28.472819",
     "status": "completed"
    },
    "tags": []
   },
   "outputs": [
    {
     "name": "stdout",
     "output_type": "stream",
     "text": [
      "Dropping features: ['maxdeutsch1', 'maxdeutsch.Missing.', 'frau1']\n"
     ]
    }
   ],
   "source": [
    "if len(excluded_features_columns) > 0:\n",
    "    print(f\"Dropping features: {excluded_features_columns}\")\n",
    "    X_train.drop(excluded_features_columns, axis=1, inplace=True)"
   ]
  },
  {
   "cell_type": "code",
   "execution_count": 25,
   "id": "d029e3e9",
   "metadata": {
    "execution": {
     "iopub.execute_input": "2025-08-19T18:17:28.572532Z",
     "iopub.status.busy": "2025-08-19T18:17:28.572217Z",
     "iopub.status.idle": "2025-08-19T18:17:28.651335Z",
     "shell.execute_reply": "2025-08-19T18:17:28.649903Z"
    },
    "papermill": {
     "duration": 0.092691,
     "end_time": "2025-08-19T18:17:28.652895",
     "exception": false,
     "start_time": "2025-08-19T18:17:28.560204",
     "status": "completed"
    },
    "tags": []
   },
   "outputs": [
    {
     "name": "stdout",
     "output_type": "stream",
     "text": [
      "Dropping features: ['maxdeutsch1', 'maxdeutsch.Missing.', 'frau1']\n"
     ]
    }
   ],
   "source": [
    "if len(excluded_features_columns) > 0:\n",
    "    print(f\"Dropping features: {excluded_features_columns}\")\n",
    "    X_test.drop(excluded_features_columns, axis=1, inplace=True)"
   ]
  },
  {
   "cell_type": "code",
   "execution_count": 26,
   "id": "01d571f0",
   "metadata": {
    "execution": {
     "iopub.execute_input": "2025-08-19T18:17:28.680206Z",
     "iopub.status.busy": "2025-08-19T18:17:28.678697Z",
     "iopub.status.idle": "2025-08-19T18:17:28.745042Z",
     "shell.execute_reply": "2025-08-19T18:17:28.744290Z"
    },
    "papermill": {
     "duration": 0.083057,
     "end_time": "2025-08-19T18:17:28.747987",
     "exception": false,
     "start_time": "2025-08-19T18:17:28.664930",
     "status": "completed"
    },
    "tags": []
   },
   "outputs": [
    {
     "name": "stdout",
     "output_type": "stream",
     "text": [
      "Dropping features: ['maxdeutsch1', 'maxdeutsch.Missing.', 'frau1']\n"
     ]
    }
   ],
   "source": [
    "if len(excluded_features_columns) > 0:\n",
    "    print(f\"Dropping features: {excluded_features_columns}\")\n",
    "    X_calib.drop(excluded_features_columns, axis=1, inplace=True)"
   ]
  },
  {
   "cell_type": "code",
   "execution_count": 27,
   "id": "3037356e",
   "metadata": {
    "execution": {
     "iopub.execute_input": "2025-08-19T18:17:28.788720Z",
     "iopub.status.busy": "2025-08-19T18:17:28.785883Z",
     "iopub.status.idle": "2025-08-19T18:17:28.797144Z",
     "shell.execute_reply": "2025-08-19T18:17:28.795932Z"
    },
    "papermill": {
     "duration": 0.026611,
     "end_time": "2025-08-19T18:17:28.799382",
     "exception": false,
     "start_time": "2025-08-19T18:17:28.772771",
     "status": "completed"
    },
    "tags": []
   },
   "outputs": [],
   "source": [
    "# EXCLUDE CERTAIN SUBGROUPS\n",
    "# -------------------------\n",
    "\n",
    "mode = universe.get(\"exclude_subgroups\", \"keep-all\") # Defaults to \"keep-all\" if the key is missing."
   ]
  },
  {
   "cell_type": "code",
   "execution_count": 28,
   "id": "9d1e63fd",
   "metadata": {
    "execution": {
     "iopub.execute_input": "2025-08-19T18:17:28.840300Z",
     "iopub.status.busy": "2025-08-19T18:17:28.838984Z",
     "iopub.status.idle": "2025-08-19T18:17:28.853187Z",
     "shell.execute_reply": "2025-08-19T18:17:28.852013Z"
    },
    "papermill": {
     "duration": 0.03323,
     "end_time": "2025-08-19T18:17:28.855133",
     "exception": false,
     "start_time": "2025-08-19T18:17:28.821903",
     "status": "completed"
    },
    "tags": []
   },
   "outputs": [],
   "source": [
    "if mode == \"keep-all\":\n",
    "    keep_mask = pd.Series(True, index=org_train.index)\n",
    "\n",
    "elif mode == \"drop-non-german\":\n",
    "    keep_mask = (org_train[\"maxdeutsch1\"] == 1) & (org_train[\"maxdeutsch.Missing.\"] == 0)\n",
    "\n",
    "else:\n",
    "    raise ValueError(f\"Unsupported mode for exclude_subgroups: {mode}\")"
   ]
  },
  {
   "cell_type": "code",
   "execution_count": 29,
   "id": "d3b65474",
   "metadata": {
    "execution": {
     "iopub.execute_input": "2025-08-19T18:17:28.888910Z",
     "iopub.status.busy": "2025-08-19T18:17:28.887811Z",
     "iopub.status.idle": "2025-08-19T18:17:28.902950Z",
     "shell.execute_reply": "2025-08-19T18:17:28.901691Z"
    },
    "papermill": {
     "duration": 0.035297,
     "end_time": "2025-08-19T18:17:28.904448",
     "exception": false,
     "start_time": "2025-08-19T18:17:28.869151",
     "status": "completed"
    },
    "tags": []
   },
   "outputs": [
    {
     "name": "stdout",
     "output_type": "stream",
     "text": [
      "Dropping 3312 rows (13.25%) where mode='drop-non-german'\n"
     ]
    }
   ],
   "source": [
    "n_drop = (~keep_mask).sum() # Calculates how many rows are set to be dropped\n",
    "if n_drop > 0:\n",
    "    pct = n_drop / len(keep_mask) * 100\n",
    "    print(f\"Dropping {n_drop} rows ({pct:.2f}%) where mode='{mode}'\")"
   ]
  },
  {
   "cell_type": "code",
   "execution_count": 30,
   "id": "f44389b3",
   "metadata": {
    "execution": {
     "iopub.execute_input": "2025-08-19T18:17:28.943602Z",
     "iopub.status.busy": "2025-08-19T18:17:28.941991Z",
     "iopub.status.idle": "2025-08-19T18:17:28.981345Z",
     "shell.execute_reply": "2025-08-19T18:17:28.980568Z"
    },
    "papermill": {
     "duration": 0.060334,
     "end_time": "2025-08-19T18:17:28.983884",
     "exception": false,
     "start_time": "2025-08-19T18:17:28.923550",
     "status": "completed"
    },
    "tags": []
   },
   "outputs": [],
   "source": [
    "X_train = X_train[keep_mask]"
   ]
  },
  {
   "cell_type": "code",
   "execution_count": 31,
   "id": "ceca8c2a",
   "metadata": {
    "execution": {
     "iopub.execute_input": "2025-08-19T18:17:29.065039Z",
     "iopub.status.busy": "2025-08-19T18:17:29.063176Z",
     "iopub.status.idle": "2025-08-19T18:17:29.074624Z",
     "shell.execute_reply": "2025-08-19T18:17:29.072979Z"
    },
    "papermill": {
     "duration": 0.039395,
     "end_time": "2025-08-19T18:17:29.076754",
     "exception": false,
     "start_time": "2025-08-19T18:17:29.037359",
     "status": "completed"
    },
    "tags": []
   },
   "outputs": [],
   "source": [
    "y_train = y_train[keep_mask]"
   ]
  },
  {
   "cell_type": "markdown",
   "id": "04d31e2f",
   "metadata": {
    "papermill": {
     "duration": 0.024261,
     "end_time": "2025-08-19T18:17:29.125259",
     "exception": false,
     "start_time": "2025-08-19T18:17:29.100998",
     "status": "completed"
    },
    "tags": []
   },
   "source": [
    "# Model Training"
   ]
  },
  {
   "cell_type": "code",
   "execution_count": 32,
   "id": "db991733",
   "metadata": {
    "execution": {
     "iopub.execute_input": "2025-08-19T18:17:29.180809Z",
     "iopub.status.busy": "2025-08-19T18:17:29.179215Z",
     "iopub.status.idle": "2025-08-19T18:17:29.295125Z",
     "shell.execute_reply": "2025-08-19T18:17:29.294052Z"
    },
    "papermill": {
     "duration": 0.143736,
     "end_time": "2025-08-19T18:17:29.296994",
     "exception": false,
     "start_time": "2025-08-19T18:17:29.153258",
     "status": "completed"
    },
    "tags": []
   },
   "outputs": [],
   "source": [
    "from sklearn.linear_model import LogisticRegression\n",
    "from sklearn.ensemble import GradientBoostingClassifier, RandomForestClassifier\n",
    "\n",
    "if (universe[\"model\"] == \"logreg\"):\n",
    "    model = LogisticRegression() #penalty=\"none\", solver=\"newton-cg\", max_iter=1)\n",
    "elif (universe[\"model\"] == \"penalized_logreg\"):\n",
    "    model = LogisticRegression(penalty=\"l2\", C=0.1) #, solver=\"newton-cg\", max_iter=1)\n",
    "elif (universe[\"model\"] == \"rf\"):\n",
    "    model = RandomForestClassifier() # n_estimators=100, n_jobs=-1\n",
    "elif (universe[\"model\"] == \"gbm\"):\n",
    "    model = GradientBoostingClassifier()\n",
    "elif (universe[\"model\"] == \"elasticnet\"):\n",
    "    model = LogisticRegression(penalty = 'elasticnet', solver = 'saga', l1_ratio = 0.5) # max_iter=5000\n",
    "else:\n",
    "    raise \"Unsupported universe.model\""
   ]
  },
  {
   "cell_type": "code",
   "execution_count": 33,
   "id": "a4b5cd25",
   "metadata": {
    "execution": {
     "iopub.execute_input": "2025-08-19T18:17:29.350339Z",
     "iopub.status.busy": "2025-08-19T18:17:29.349196Z",
     "iopub.status.idle": "2025-08-19T18:17:29.359572Z",
     "shell.execute_reply": "2025-08-19T18:17:29.358041Z"
    },
    "papermill": {
     "duration": 0.040397,
     "end_time": "2025-08-19T18:17:29.361371",
     "exception": false,
     "start_time": "2025-08-19T18:17:29.320974",
     "status": "completed"
    },
    "tags": []
   },
   "outputs": [],
   "source": [
    "from sklearn.pipeline import Pipeline\n",
    "from sklearn.preprocessing import StandardScaler\n",
    "\n",
    "model = Pipeline([\n",
    "    #(\"continuous_processor\", continuous_processor),\n",
    "    #(\"categorical_preprocessor\", categorical_preprocessor),\n",
    "    (\"scale\", StandardScaler() if universe[\"scale\"] == \"scale\" else None), \n",
    "    (\"model\", model),\n",
    "])"
   ]
  },
  {
   "cell_type": "code",
   "execution_count": 34,
   "id": "283a904d",
   "metadata": {
    "execution": {
     "iopub.execute_input": "2025-08-19T18:17:29.420752Z",
     "iopub.status.busy": "2025-08-19T18:17:29.419935Z",
     "iopub.status.idle": "2025-08-19T18:17:35.648318Z",
     "shell.execute_reply": "2025-08-19T18:17:35.647465Z"
    },
    "papermill": {
     "duration": 6.250719,
     "end_time": "2025-08-19T18:17:35.649810",
     "exception": false,
     "start_time": "2025-08-19T18:17:29.399091",
     "status": "completed"
    },
    "tags": []
   },
   "outputs": [
    {
     "name": "stderr",
     "output_type": "stream",
     "text": [
      "/dss/dsshome1/0C/ra93lal2/.local/share/virtualenvs/CMA_Fairness_v2-3j10GkSs/lib/python3.10/site-packages/sklearn/linear_model/_sag.py:350: ConvergenceWarning: The max_iter was reached which means the coef_ did not converge\n",
      "  warnings.warn(\n"
     ]
    },
    {
     "data": {
      "text/html": [
       "<style>#sk-container-id-1 {color: black;background-color: white;}#sk-container-id-1 pre{padding: 0;}#sk-container-id-1 div.sk-toggleable {background-color: white;}#sk-container-id-1 label.sk-toggleable__label {cursor: pointer;display: block;width: 100%;margin-bottom: 0;padding: 0.3em;box-sizing: border-box;text-align: center;}#sk-container-id-1 label.sk-toggleable__label-arrow:before {content: \"▸\";float: left;margin-right: 0.25em;color: #696969;}#sk-container-id-1 label.sk-toggleable__label-arrow:hover:before {color: black;}#sk-container-id-1 div.sk-estimator:hover label.sk-toggleable__label-arrow:before {color: black;}#sk-container-id-1 div.sk-toggleable__content {max-height: 0;max-width: 0;overflow: hidden;text-align: left;background-color: #f0f8ff;}#sk-container-id-1 div.sk-toggleable__content pre {margin: 0.2em;color: black;border-radius: 0.25em;background-color: #f0f8ff;}#sk-container-id-1 input.sk-toggleable__control:checked~div.sk-toggleable__content {max-height: 200px;max-width: 100%;overflow: auto;}#sk-container-id-1 input.sk-toggleable__control:checked~label.sk-toggleable__label-arrow:before {content: \"▾\";}#sk-container-id-1 div.sk-estimator input.sk-toggleable__control:checked~label.sk-toggleable__label {background-color: #d4ebff;}#sk-container-id-1 div.sk-label input.sk-toggleable__control:checked~label.sk-toggleable__label {background-color: #d4ebff;}#sk-container-id-1 input.sk-hidden--visually {border: 0;clip: rect(1px 1px 1px 1px);clip: rect(1px, 1px, 1px, 1px);height: 1px;margin: -1px;overflow: hidden;padding: 0;position: absolute;width: 1px;}#sk-container-id-1 div.sk-estimator {font-family: monospace;background-color: #f0f8ff;border: 1px dotted black;border-radius: 0.25em;box-sizing: border-box;margin-bottom: 0.5em;}#sk-container-id-1 div.sk-estimator:hover {background-color: #d4ebff;}#sk-container-id-1 div.sk-parallel-item::after {content: \"\";width: 100%;border-bottom: 1px solid gray;flex-grow: 1;}#sk-container-id-1 div.sk-label:hover label.sk-toggleable__label {background-color: #d4ebff;}#sk-container-id-1 div.sk-serial::before {content: \"\";position: absolute;border-left: 1px solid gray;box-sizing: border-box;top: 0;bottom: 0;left: 50%;z-index: 0;}#sk-container-id-1 div.sk-serial {display: flex;flex-direction: column;align-items: center;background-color: white;padding-right: 0.2em;padding-left: 0.2em;position: relative;}#sk-container-id-1 div.sk-item {position: relative;z-index: 1;}#sk-container-id-1 div.sk-parallel {display: flex;align-items: stretch;justify-content: center;background-color: white;position: relative;}#sk-container-id-1 div.sk-item::before, #sk-container-id-1 div.sk-parallel-item::before {content: \"\";position: absolute;border-left: 1px solid gray;box-sizing: border-box;top: 0;bottom: 0;left: 50%;z-index: -1;}#sk-container-id-1 div.sk-parallel-item {display: flex;flex-direction: column;z-index: 1;position: relative;background-color: white;}#sk-container-id-1 div.sk-parallel-item:first-child::after {align-self: flex-end;width: 50%;}#sk-container-id-1 div.sk-parallel-item:last-child::after {align-self: flex-start;width: 50%;}#sk-container-id-1 div.sk-parallel-item:only-child::after {width: 0;}#sk-container-id-1 div.sk-dashed-wrapped {border: 1px dashed gray;margin: 0 0.4em 0.5em 0.4em;box-sizing: border-box;padding-bottom: 0.4em;background-color: white;}#sk-container-id-1 div.sk-label label {font-family: monospace;font-weight: bold;display: inline-block;line-height: 1.2em;}#sk-container-id-1 div.sk-label-container {text-align: center;}#sk-container-id-1 div.sk-container {/* jupyter's `normalize.less` sets `[hidden] { display: none; }` but bootstrap.min.css set `[hidden] { display: none !important; }` so we also need the `!important` here to be able to override the default hidden behavior on the sphinx rendered scikit-learn.org. See: https://github.com/scikit-learn/scikit-learn/issues/21755 */display: inline-block !important;position: relative;}#sk-container-id-1 div.sk-text-repr-fallback {display: none;}</style><div id=\"sk-container-id-1\" class=\"sk-top-container\"><div class=\"sk-text-repr-fallback\"><pre>Pipeline(steps=[(&#x27;scale&#x27;, StandardScaler()),\n",
       "                (&#x27;model&#x27;,\n",
       "                 LogisticRegression(l1_ratio=0.5, penalty=&#x27;elasticnet&#x27;,\n",
       "                                    solver=&#x27;saga&#x27;))])</pre><b>In a Jupyter environment, please rerun this cell to show the HTML representation or trust the notebook. <br />On GitHub, the HTML representation is unable to render, please try loading this page with nbviewer.org.</b></div><div class=\"sk-container\" hidden><div class=\"sk-item sk-dashed-wrapped\"><div class=\"sk-label-container\"><div class=\"sk-label sk-toggleable\"><input class=\"sk-toggleable__control sk-hidden--visually\" id=\"sk-estimator-id-1\" type=\"checkbox\" ><label for=\"sk-estimator-id-1\" class=\"sk-toggleable__label sk-toggleable__label-arrow\">Pipeline</label><div class=\"sk-toggleable__content\"><pre>Pipeline(steps=[(&#x27;scale&#x27;, StandardScaler()),\n",
       "                (&#x27;model&#x27;,\n",
       "                 LogisticRegression(l1_ratio=0.5, penalty=&#x27;elasticnet&#x27;,\n",
       "                                    solver=&#x27;saga&#x27;))])</pre></div></div></div><div class=\"sk-serial\"><div class=\"sk-item\"><div class=\"sk-estimator sk-toggleable\"><input class=\"sk-toggleable__control sk-hidden--visually\" id=\"sk-estimator-id-2\" type=\"checkbox\" ><label for=\"sk-estimator-id-2\" class=\"sk-toggleable__label sk-toggleable__label-arrow\">StandardScaler</label><div class=\"sk-toggleable__content\"><pre>StandardScaler()</pre></div></div></div><div class=\"sk-item\"><div class=\"sk-estimator sk-toggleable\"><input class=\"sk-toggleable__control sk-hidden--visually\" id=\"sk-estimator-id-3\" type=\"checkbox\" ><label for=\"sk-estimator-id-3\" class=\"sk-toggleable__label sk-toggleable__label-arrow\">LogisticRegression</label><div class=\"sk-toggleable__content\"><pre>LogisticRegression(l1_ratio=0.5, penalty=&#x27;elasticnet&#x27;, solver=&#x27;saga&#x27;)</pre></div></div></div></div></div></div></div>"
      ],
      "text/plain": [
       "Pipeline(steps=[('scale', StandardScaler()),\n",
       "                ('model',\n",
       "                 LogisticRegression(l1_ratio=0.5, penalty='elasticnet',\n",
       "                                    solver='saga'))])"
      ]
     },
     "execution_count": 34,
     "metadata": {},
     "output_type": "execute_result"
    }
   ],
   "source": [
    "model.fit(X_train, y_train.values.ravel())"
   ]
  },
  {
   "cell_type": "code",
   "execution_count": 35,
   "id": "6e15e313",
   "metadata": {
    "execution": {
     "iopub.execute_input": "2025-08-19T18:17:35.677642Z",
     "iopub.status.busy": "2025-08-19T18:17:35.677192Z",
     "iopub.status.idle": "2025-08-19T18:17:35.921866Z",
     "shell.execute_reply": "2025-08-19T18:17:35.921160Z"
    },
    "papermill": {
     "duration": 0.258241,
     "end_time": "2025-08-19T18:17:35.923061",
     "exception": false,
     "start_time": "2025-08-19T18:17:35.664820",
     "status": "completed"
    },
    "tags": []
   },
   "outputs": [
    {
     "data": {
      "text/plain": [
       "0.8598818414892431"
      ]
     },
     "execution_count": 35,
     "metadata": {},
     "output_type": "execute_result"
    }
   ],
   "source": [
    "from fairness_multiverse.universe import predict_w_threshold\n",
    "\n",
    "probs_test = model.predict_proba(X_test)\n",
    "\n",
    "'''\n",
    "Below code returns a boolean array (or binary 0/1 array depending on how it’s used) where each element \n",
    "is True if the probability of class 1 is greater than or equal to the threshold, and False otherwise.\n",
    "'''\n",
    "y_pred_default = predict_w_threshold(probs_test, 0.5)\n",
    "\n",
    "from sklearn.metrics import accuracy_score\n",
    "\n",
    "# Naive prediction\n",
    "accuracy_score(y_true = y_true, y_pred = y_pred_default)"
   ]
  },
  {
   "cell_type": "code",
   "execution_count": 36,
   "id": "6f14067c",
   "metadata": {
    "execution": {
     "iopub.execute_input": "2025-08-19T18:17:35.956518Z",
     "iopub.status.busy": "2025-08-19T18:17:35.955590Z",
     "iopub.status.idle": "2025-08-19T18:17:36.141644Z",
     "shell.execute_reply": "2025-08-19T18:17:36.140896Z"
    },
    "papermill": {
     "duration": 0.200289,
     "end_time": "2025-08-19T18:17:36.143002",
     "exception": false,
     "start_time": "2025-08-19T18:17:35.942713",
     "status": "completed"
    },
    "tags": []
   },
   "outputs": [
    {
     "data": {
      "text/plain": [
       "array([0, 0, 0, ..., 0, 0, 0])"
      ]
     },
     "execution_count": 36,
     "metadata": {},
     "output_type": "execute_result"
    }
   ],
   "source": [
    "model.predict(X_test)"
   ]
  },
  {
   "cell_type": "markdown",
   "id": "3759920c",
   "metadata": {
    "papermill": {
     "duration": 0.020486,
     "end_time": "2025-08-19T18:17:36.177787",
     "exception": false,
     "start_time": "2025-08-19T18:17:36.157301",
     "status": "completed"
    },
    "tags": []
   },
   "source": [
    "# Conformal Prediction"
   ]
  },
  {
   "cell_type": "code",
   "execution_count": 37,
   "id": "14b27f59",
   "metadata": {
    "execution": {
     "iopub.execute_input": "2025-08-19T18:17:36.203123Z",
     "iopub.status.busy": "2025-08-19T18:17:36.202820Z",
     "iopub.status.idle": "2025-08-19T18:17:36.207153Z",
     "shell.execute_reply": "2025-08-19T18:17:36.206312Z"
    },
    "papermill": {
     "duration": 0.017972,
     "end_time": "2025-08-19T18:17:36.208387",
     "exception": false,
     "start_time": "2025-08-19T18:17:36.190415",
     "status": "completed"
    },
    "tags": []
   },
   "outputs": [],
   "source": [
    "# Miscoverage level for conformal prediction (10% allowed error rate => 90% target coverage)\n",
    "alpha = 0.1"
   ]
  },
  {
   "cell_type": "code",
   "execution_count": 38,
   "id": "59102472",
   "metadata": {
    "execution": {
     "iopub.execute_input": "2025-08-19T18:17:36.250877Z",
     "iopub.status.busy": "2025-08-19T18:17:36.250503Z",
     "iopub.status.idle": "2025-08-19T18:17:36.433409Z",
     "shell.execute_reply": "2025-08-19T18:17:36.432328Z"
    },
    "papermill": {
     "duration": 0.202857,
     "end_time": "2025-08-19T18:17:36.435152",
     "exception": false,
     "start_time": "2025-08-19T18:17:36.232295",
     "status": "completed"
    },
    "tags": []
   },
   "outputs": [],
   "source": [
    "probs_calib = model.predict_proba(X_calib)"
   ]
  },
  {
   "cell_type": "code",
   "execution_count": 39,
   "id": "a792d4dd",
   "metadata": {
    "execution": {
     "iopub.execute_input": "2025-08-19T18:17:36.461816Z",
     "iopub.status.busy": "2025-08-19T18:17:36.460893Z",
     "iopub.status.idle": "2025-08-19T18:17:36.467594Z",
     "shell.execute_reply": "2025-08-19T18:17:36.466880Z"
    },
    "papermill": {
     "duration": 0.021294,
     "end_time": "2025-08-19T18:17:36.468923",
     "exception": false,
     "start_time": "2025-08-19T18:17:36.447629",
     "status": "completed"
    },
    "tags": []
   },
   "outputs": [],
   "source": [
    "y_calib = y_calib.values.ravel().astype(int)"
   ]
  },
  {
   "cell_type": "code",
   "execution_count": 40,
   "id": "650fd033",
   "metadata": {
    "execution": {
     "iopub.execute_input": "2025-08-19T18:17:36.497587Z",
     "iopub.status.busy": "2025-08-19T18:17:36.496429Z",
     "iopub.status.idle": "2025-08-19T18:17:36.507935Z",
     "shell.execute_reply": "2025-08-19T18:17:36.506762Z"
    },
    "papermill": {
     "duration": 0.025977,
     "end_time": "2025-08-19T18:17:36.509270",
     "exception": false,
     "start_time": "2025-08-19T18:17:36.483293",
     "status": "completed"
    },
    "tags": []
   },
   "outputs": [],
   "source": [
    "from fairness_multiverse.conformal import compute_nc_scores\n",
    "\n",
    "# Compute nonconformity scores on calibration set (1 - probability of true class)\n",
    "nc_scores = compute_nc_scores(probs_calib, y_calib)"
   ]
  },
  {
   "cell_type": "code",
   "execution_count": 41,
   "id": "28ada44c",
   "metadata": {
    "execution": {
     "iopub.execute_input": "2025-08-19T18:17:36.538093Z",
     "iopub.status.busy": "2025-08-19T18:17:36.536996Z",
     "iopub.status.idle": "2025-08-19T18:17:36.547688Z",
     "shell.execute_reply": "2025-08-19T18:17:36.546437Z"
    },
    "papermill": {
     "duration": 0.031489,
     "end_time": "2025-08-19T18:17:36.555004",
     "exception": false,
     "start_time": "2025-08-19T18:17:36.523515",
     "status": "completed"
    },
    "tags": []
   },
   "outputs": [],
   "source": [
    "from fairness_multiverse.conformal import find_threshold\n",
    "\n",
    "# Find conformal threshold q_hat for the given alpha (split conformal method)\n",
    "q_hat = find_threshold(nc_scores, alpha)"
   ]
  },
  {
   "cell_type": "code",
   "execution_count": 42,
   "id": "df56469e",
   "metadata": {
    "execution": {
     "iopub.execute_input": "2025-08-19T18:17:36.588703Z",
     "iopub.status.busy": "2025-08-19T18:17:36.587569Z",
     "iopub.status.idle": "2025-08-19T18:17:36.597787Z",
     "shell.execute_reply": "2025-08-19T18:17:36.596579Z"
    },
    "papermill": {
     "duration": 0.025545,
     "end_time": "2025-08-19T18:17:36.599242",
     "exception": false,
     "start_time": "2025-08-19T18:17:36.573697",
     "status": "completed"
    },
    "tags": []
   },
   "outputs": [
    {
     "data": {
      "text/plain": [
       "0.6591395018881814"
      ]
     },
     "execution_count": 42,
     "metadata": {},
     "output_type": "execute_result"
    }
   ],
   "source": [
    "q_hat"
   ]
  },
  {
   "cell_type": "code",
   "execution_count": 43,
   "id": "aa1f5faa",
   "metadata": {
    "execution": {
     "iopub.execute_input": "2025-08-19T18:17:36.628136Z",
     "iopub.status.busy": "2025-08-19T18:17:36.627082Z",
     "iopub.status.idle": "2025-08-19T18:17:37.262262Z",
     "shell.execute_reply": "2025-08-19T18:17:37.261530Z"
    },
    "papermill": {
     "duration": 0.651372,
     "end_time": "2025-08-19T18:17:37.265229",
     "exception": false,
     "start_time": "2025-08-19T18:17:36.613857",
     "status": "completed"
    },
    "tags": []
   },
   "outputs": [],
   "source": [
    "from fairness_multiverse.conformal import predict_conformal_sets\n",
    "\n",
    "# Generate prediction sets for each test example\n",
    "pred_sets = predict_conformal_sets(model, X_test, q_hat)"
   ]
  },
  {
   "cell_type": "code",
   "execution_count": 44,
   "id": "97f67a6b",
   "metadata": {
    "execution": {
     "iopub.execute_input": "2025-08-19T18:17:37.308048Z",
     "iopub.status.busy": "2025-08-19T18:17:37.306876Z",
     "iopub.status.idle": "2025-08-19T18:17:37.314712Z",
     "shell.execute_reply": "2025-08-19T18:17:37.313442Z"
    },
    "papermill": {
     "duration": 0.024169,
     "end_time": "2025-08-19T18:17:37.315980",
     "exception": false,
     "start_time": "2025-08-19T18:17:37.291811",
     "status": "completed"
    },
    "tags": []
   },
   "outputs": [],
   "source": [
    "y_true = y_true.squeeze()"
   ]
  },
  {
   "cell_type": "code",
   "execution_count": 45,
   "id": "e700e9a7",
   "metadata": {
    "execution": {
     "iopub.execute_input": "2025-08-19T18:17:37.344659Z",
     "iopub.status.busy": "2025-08-19T18:17:37.343526Z",
     "iopub.status.idle": "2025-08-19T18:17:37.829706Z",
     "shell.execute_reply": "2025-08-19T18:17:37.828915Z"
    },
    "papermill": {
     "duration": 0.502119,
     "end_time": "2025-08-19T18:17:37.832585",
     "exception": false,
     "start_time": "2025-08-19T18:17:37.330466",
     "status": "completed"
    },
    "tags": []
   },
   "outputs": [],
   "source": [
    "from fairness_multiverse.conformal import evaluate_sets\n",
    "\n",
    "# Evaluate coverage and average set size on test data\n",
    "metrics = evaluate_sets(pred_sets, y_true)"
   ]
  },
  {
   "cell_type": "markdown",
   "id": "efbacec0",
   "metadata": {
    "papermill": {
     "duration": 0.011562,
     "end_time": "2025-08-19T18:17:37.883110",
     "exception": false,
     "start_time": "2025-08-19T18:17:37.871548",
     "status": "completed"
    },
    "tags": []
   },
   "source": [
    "# CP Metrics"
   ]
  },
  {
   "cell_type": "code",
   "execution_count": 46,
   "id": "9de55fb1",
   "metadata": {
    "execution": {
     "iopub.execute_input": "2025-08-19T18:17:37.909806Z",
     "iopub.status.busy": "2025-08-19T18:17:37.908620Z",
     "iopub.status.idle": "2025-08-19T18:17:37.917945Z",
     "shell.execute_reply": "2025-08-19T18:17:37.916842Z"
    },
    "papermill": {
     "duration": 0.026237,
     "end_time": "2025-08-19T18:17:37.920952",
     "exception": false,
     "start_time": "2025-08-19T18:17:37.894715",
     "status": "completed"
    },
    "tags": []
   },
   "outputs": [
    {
     "data": {
      "text/plain": [
       "{'coverage': 0.9099320031211682, 'avg_size': 1.1245011704380783}"
      ]
     },
     "execution_count": 46,
     "metadata": {},
     "output_type": "execute_result"
    }
   ],
   "source": [
    "metrics"
   ]
  },
  {
   "cell_type": "code",
   "execution_count": 47,
   "id": "64c340a1",
   "metadata": {
    "execution": {
     "iopub.execute_input": "2025-08-19T18:17:37.950760Z",
     "iopub.status.busy": "2025-08-19T18:17:37.949681Z",
     "iopub.status.idle": "2025-08-19T18:17:37.959304Z",
     "shell.execute_reply": "2025-08-19T18:17:37.958257Z"
    },
    "papermill": {
     "duration": 0.024987,
     "end_time": "2025-08-19T18:17:37.960898",
     "exception": false,
     "start_time": "2025-08-19T18:17:37.935911",
     "status": "completed"
    },
    "tags": []
   },
   "outputs": [],
   "source": [
    "example_universe = universe.copy()\n",
    "universe_training_year = example_universe.get(\"training_year\")\n",
    "universe_training_size = example_universe.get(\"training_size\")\n",
    "universe_scale = example_universe.get(\"scale\")\n",
    "universe_model = example_universe.get(\"model\")\n",
    "universe_exclude_features = example_universe.get(\"exclude_features\")\n",
    "universe_exclude_subgroups = example_universe.get(\"exclude_subgroups\")"
   ]
  },
  {
   "cell_type": "code",
   "execution_count": 48,
   "id": "dbb53cb4",
   "metadata": {
    "execution": {
     "iopub.execute_input": "2025-08-19T18:17:37.991831Z",
     "iopub.status.busy": "2025-08-19T18:17:37.990578Z",
     "iopub.status.idle": "2025-08-19T18:17:38.000075Z",
     "shell.execute_reply": "2025-08-19T18:17:37.998909Z"
    },
    "papermill": {
     "duration": 0.024564,
     "end_time": "2025-08-19T18:17:38.001792",
     "exception": false,
     "start_time": "2025-08-19T18:17:37.977228",
     "status": "completed"
    },
    "tags": []
   },
   "outputs": [],
   "source": [
    "cp_metrics_dict = {\n",
    "    \"universe_id\": [universe_id],\n",
    "    \"universe_training_year\": [universe_training_year],\n",
    "    \"universe_training_size\": [universe_training_size],\n",
    "    \"universe_scale\": [universe_scale],\n",
    "    \"universe_model\": [universe_model],\n",
    "    \"universe_exclude_features\": [universe_exclude_features],\n",
    "    \"universe_exclude_subgroups\": [universe_exclude_subgroups],\n",
    "    \"q_hat\": [q_hat],\n",
    "    \"coverage\": [metrics[\"coverage\"]],\n",
    "    \"avg_size\": [metrics[\"avg_size\"]],\n",
    "}"
   ]
  },
  {
   "cell_type": "code",
   "execution_count": 49,
   "id": "0d70d4b2",
   "metadata": {
    "execution": {
     "iopub.execute_input": "2025-08-19T18:17:38.033094Z",
     "iopub.status.busy": "2025-08-19T18:17:38.032054Z",
     "iopub.status.idle": "2025-08-19T18:17:38.041415Z",
     "shell.execute_reply": "2025-08-19T18:17:38.040162Z"
    },
    "papermill": {
     "duration": 0.024262,
     "end_time": "2025-08-19T18:17:38.042834",
     "exception": false,
     "start_time": "2025-08-19T18:17:38.018572",
     "status": "completed"
    },
    "tags": []
   },
   "outputs": [],
   "source": [
    "cp_metrics_df = pd.DataFrame(cp_metrics_dict)"
   ]
  },
  {
   "cell_type": "code",
   "execution_count": 50,
   "id": "b494403c",
   "metadata": {
    "execution": {
     "iopub.execute_input": "2025-08-19T18:17:38.072976Z",
     "iopub.status.busy": "2025-08-19T18:17:38.071562Z",
     "iopub.status.idle": "2025-08-19T18:17:38.093814Z",
     "shell.execute_reply": "2025-08-19T18:17:38.092891Z"
    },
    "papermill": {
     "duration": 0.037332,
     "end_time": "2025-08-19T18:17:38.095404",
     "exception": false,
     "start_time": "2025-08-19T18:17:38.058072",
     "status": "completed"
    },
    "tags": []
   },
   "outputs": [
    {
     "data": {
      "text/html": [
       "<div>\n",
       "<style scoped>\n",
       "    .dataframe tbody tr th:only-of-type {\n",
       "        vertical-align: middle;\n",
       "    }\n",
       "\n",
       "    .dataframe tbody tr th {\n",
       "        vertical-align: top;\n",
       "    }\n",
       "\n",
       "    .dataframe thead th {\n",
       "        text-align: right;\n",
       "    }\n",
       "</style>\n",
       "<table border=\"1\" class=\"dataframe\">\n",
       "  <thead>\n",
       "    <tr style=\"text-align: right;\">\n",
       "      <th></th>\n",
       "      <th>universe_id</th>\n",
       "      <th>universe_training_year</th>\n",
       "      <th>universe_training_size</th>\n",
       "      <th>universe_scale</th>\n",
       "      <th>universe_model</th>\n",
       "      <th>universe_exclude_features</th>\n",
       "      <th>universe_exclude_subgroups</th>\n",
       "      <th>q_hat</th>\n",
       "      <th>coverage</th>\n",
       "      <th>avg_size</th>\n",
       "    </tr>\n",
       "  </thead>\n",
       "  <tbody>\n",
       "    <tr>\n",
       "      <th>0</th>\n",
       "      <td>6777bd6df839d2ff5f30929cbb825de2</td>\n",
       "      <td>2010_14</td>\n",
       "      <td>25k</td>\n",
       "      <td>scale</td>\n",
       "      <td>elasticnet</td>\n",
       "      <td>nationality-sex</td>\n",
       "      <td>drop-non-german</td>\n",
       "      <td>0.65914</td>\n",
       "      <td>0.909932</td>\n",
       "      <td>1.124501</td>\n",
       "    </tr>\n",
       "  </tbody>\n",
       "</table>\n",
       "</div>"
      ],
      "text/plain": [
       "                        universe_id universe_training_year  \\\n",
       "0  6777bd6df839d2ff5f30929cbb825de2                2010_14   \n",
       "\n",
       "  universe_training_size universe_scale universe_model  \\\n",
       "0                    25k          scale     elasticnet   \n",
       "\n",
       "  universe_exclude_features universe_exclude_subgroups    q_hat  coverage  \\\n",
       "0           nationality-sex            drop-non-german  0.65914  0.909932   \n",
       "\n",
       "   avg_size  \n",
       "0  1.124501  "
      ]
     },
     "execution_count": 50,
     "metadata": {},
     "output_type": "execute_result"
    }
   ],
   "source": [
    "cp_metrics_df"
   ]
  },
  {
   "cell_type": "markdown",
   "id": "ed608b0b",
   "metadata": {
    "papermill": {
     "duration": 0.01255,
     "end_time": "2025-08-19T18:17:38.129756",
     "exception": false,
     "start_time": "2025-08-19T18:17:38.117206",
     "status": "completed"
    },
    "tags": []
   },
   "source": [
    "Conditional coverage & looking at subgroups"
   ]
  },
  {
   "cell_type": "code",
   "execution_count": 51,
   "id": "8968c366",
   "metadata": {
    "execution": {
     "iopub.execute_input": "2025-08-19T18:17:38.156861Z",
     "iopub.status.busy": "2025-08-19T18:17:38.155668Z",
     "iopub.status.idle": "2025-08-19T18:17:38.409300Z",
     "shell.execute_reply": "2025-08-19T18:17:38.408611Z"
    },
    "papermill": {
     "duration": 0.288174,
     "end_time": "2025-08-19T18:17:38.430083",
     "exception": false,
     "start_time": "2025-08-19T18:17:38.141909",
     "status": "completed"
    },
    "tags": []
   },
   "outputs": [],
   "source": [
    "from fairness_multiverse.conformal import build_cp_groups\n",
    "\n",
    "cp_groups_df = build_cp_groups(pred_sets, y_true, X_test.index, org_test)"
   ]
  },
  {
   "cell_type": "code",
   "execution_count": 52,
   "id": "292ddabf",
   "metadata": {
    "execution": {
     "iopub.execute_input": "2025-08-19T18:17:38.459225Z",
     "iopub.status.busy": "2025-08-19T18:17:38.458830Z",
     "iopub.status.idle": "2025-08-19T18:17:39.273793Z",
     "shell.execute_reply": "2025-08-19T18:17:39.273137Z"
    },
    "papermill": {
     "duration": 0.829541,
     "end_time": "2025-08-19T18:17:39.275296",
     "exception": false,
     "start_time": "2025-08-19T18:17:38.445755",
     "status": "completed"
    },
    "tags": []
   },
   "outputs": [],
   "source": [
    "# Define covered = 1 if true_label is in the predicted set\n",
    "cp_groups_df['covered'] = cp_groups_df.apply(\n",
    "    lambda r: int(r['true_label'] in r['pred_set']),\n",
    "    axis=1\n",
    ")"
   ]
  },
  {
   "cell_type": "code",
   "execution_count": 53,
   "id": "3a261692",
   "metadata": {
    "execution": {
     "iopub.execute_input": "2025-08-19T18:17:39.304924Z",
     "iopub.status.busy": "2025-08-19T18:17:39.304417Z",
     "iopub.status.idle": "2025-08-19T18:17:39.315024Z",
     "shell.execute_reply": "2025-08-19T18:17:39.314417Z"
    },
    "papermill": {
     "duration": 0.025629,
     "end_time": "2025-08-19T18:17:39.316341",
     "exception": false,
     "start_time": "2025-08-19T18:17:39.290712",
     "status": "completed"
    },
    "tags": []
   },
   "outputs": [],
   "source": [
    "subgroups = ['frau1','nongerman','nongerman_male','nongerman_female']\n",
    "\n",
    "# Conditional coverage for subgroup==1\n",
    "cond_coverage = {\n",
    "    g: cp_groups_df.loc[cp_groups_df[g]==1, 'covered'].mean()\n",
    "    for g in subgroups\n",
    "}"
   ]
  },
  {
   "cell_type": "code",
   "execution_count": 54,
   "id": "894fd600",
   "metadata": {
    "execution": {
     "iopub.execute_input": "2025-08-19T18:17:39.348809Z",
     "iopub.status.busy": "2025-08-19T18:17:39.347922Z",
     "iopub.status.idle": "2025-08-19T18:17:39.359548Z",
     "shell.execute_reply": "2025-08-19T18:17:39.356784Z"
    },
    "papermill": {
     "duration": 0.027966,
     "end_time": "2025-08-19T18:17:39.361557",
     "exception": false,
     "start_time": "2025-08-19T18:17:39.333591",
     "status": "completed"
    },
    "tags": []
   },
   "outputs": [
    {
     "data": {
      "text/plain": [
       "{'frau1': 0.9094487127645235,\n",
       " 'nongerman': 0.9100656823668107,\n",
       " 'nongerman_male': 0.9257858236512654,\n",
       " 'nongerman_female': 0.884053651266766}"
      ]
     },
     "execution_count": 54,
     "metadata": {},
     "output_type": "execute_result"
    }
   ],
   "source": [
    "cond_coverage"
   ]
  },
  {
   "cell_type": "code",
   "execution_count": 55,
   "id": "942895c7",
   "metadata": {
    "execution": {
     "iopub.execute_input": "2025-08-19T18:17:39.391775Z",
     "iopub.status.busy": "2025-08-19T18:17:39.390636Z",
     "iopub.status.idle": "2025-08-19T18:17:39.401815Z",
     "shell.execute_reply": "2025-08-19T18:17:39.400459Z"
    },
    "papermill": {
     "duration": 0.026912,
     "end_time": "2025-08-19T18:17:39.403658",
     "exception": false,
     "start_time": "2025-08-19T18:17:39.376746",
     "status": "completed"
    },
    "tags": []
   },
   "outputs": [],
   "source": [
    "for subgroup, cov in cond_coverage.items():\n",
    "    cp_metrics_df[f\"cov_{subgroup}\"] = cov"
   ]
  },
  {
   "cell_type": "code",
   "execution_count": 56,
   "id": "3970120f",
   "metadata": {
    "execution": {
     "iopub.execute_input": "2025-08-19T18:17:39.434603Z",
     "iopub.status.busy": "2025-08-19T18:17:39.433485Z",
     "iopub.status.idle": "2025-08-19T18:17:39.458145Z",
     "shell.execute_reply": "2025-08-19T18:17:39.457316Z"
    },
    "papermill": {
     "duration": 0.041187,
     "end_time": "2025-08-19T18:17:39.460041",
     "exception": false,
     "start_time": "2025-08-19T18:17:39.418854",
     "status": "completed"
    },
    "tags": []
   },
   "outputs": [
    {
     "data": {
      "text/html": [
       "<div>\n",
       "<style scoped>\n",
       "    .dataframe tbody tr th:only-of-type {\n",
       "        vertical-align: middle;\n",
       "    }\n",
       "\n",
       "    .dataframe tbody tr th {\n",
       "        vertical-align: top;\n",
       "    }\n",
       "\n",
       "    .dataframe thead th {\n",
       "        text-align: right;\n",
       "    }\n",
       "</style>\n",
       "<table border=\"1\" class=\"dataframe\">\n",
       "  <thead>\n",
       "    <tr style=\"text-align: right;\">\n",
       "      <th></th>\n",
       "      <th>universe_id</th>\n",
       "      <th>universe_training_year</th>\n",
       "      <th>universe_training_size</th>\n",
       "      <th>universe_scale</th>\n",
       "      <th>universe_model</th>\n",
       "      <th>universe_exclude_features</th>\n",
       "      <th>universe_exclude_subgroups</th>\n",
       "      <th>q_hat</th>\n",
       "      <th>coverage</th>\n",
       "      <th>avg_size</th>\n",
       "      <th>cov_frau1</th>\n",
       "      <th>cov_nongerman</th>\n",
       "      <th>cov_nongerman_male</th>\n",
       "      <th>cov_nongerman_female</th>\n",
       "    </tr>\n",
       "  </thead>\n",
       "  <tbody>\n",
       "    <tr>\n",
       "      <th>0</th>\n",
       "      <td>6777bd6df839d2ff5f30929cbb825de2</td>\n",
       "      <td>2010_14</td>\n",
       "      <td>25k</td>\n",
       "      <td>scale</td>\n",
       "      <td>elasticnet</td>\n",
       "      <td>nationality-sex</td>\n",
       "      <td>drop-non-german</td>\n",
       "      <td>0.65914</td>\n",
       "      <td>0.909932</td>\n",
       "      <td>1.124501</td>\n",
       "      <td>0.909449</td>\n",
       "      <td>0.910066</td>\n",
       "      <td>0.925786</td>\n",
       "      <td>0.884054</td>\n",
       "    </tr>\n",
       "  </tbody>\n",
       "</table>\n",
       "</div>"
      ],
      "text/plain": [
       "                        universe_id universe_training_year  \\\n",
       "0  6777bd6df839d2ff5f30929cbb825de2                2010_14   \n",
       "\n",
       "  universe_training_size universe_scale universe_model  \\\n",
       "0                    25k          scale     elasticnet   \n",
       "\n",
       "  universe_exclude_features universe_exclude_subgroups    q_hat  coverage  \\\n",
       "0           nationality-sex            drop-non-german  0.65914  0.909932   \n",
       "\n",
       "   avg_size  cov_frau1  cov_nongerman  cov_nongerman_male  \\\n",
       "0  1.124501   0.909449       0.910066            0.925786   \n",
       "\n",
       "   cov_nongerman_female  \n",
       "0              0.884054  "
      ]
     },
     "execution_count": 56,
     "metadata": {},
     "output_type": "execute_result"
    }
   ],
   "source": [
    "cp_metrics_df"
   ]
  },
  {
   "cell_type": "markdown",
   "id": "3fc519cc",
   "metadata": {
    "papermill": {
     "duration": 0.013906,
     "end_time": "2025-08-19T18:17:39.499030",
     "exception": false,
     "start_time": "2025-08-19T18:17:39.485124",
     "status": "completed"
    },
    "tags": []
   },
   "source": [
    "# (Fairness) Metrics"
   ]
  },
  {
   "cell_type": "code",
   "execution_count": 57,
   "id": "a2e5e155",
   "metadata": {
    "execution": {
     "iopub.execute_input": "2025-08-19T18:17:39.527656Z",
     "iopub.status.busy": "2025-08-19T18:17:39.526917Z",
     "iopub.status.idle": "2025-08-19T18:17:39.553215Z",
     "shell.execute_reply": "2025-08-19T18:17:39.552161Z"
    },
    "papermill": {
     "duration": 0.043822,
     "end_time": "2025-08-19T18:17:39.555329",
     "exception": false,
     "start_time": "2025-08-19T18:17:39.511507",
     "status": "completed"
    },
    "tags": []
   },
   "outputs": [],
   "source": [
    "colname_to_bin = \"maxdeutsch1\"\n",
    "majority_value = org_train[colname_to_bin].mode()[0]\n",
    "\n",
    "org_test[\"majmin\"] = np.where(org_test[colname_to_bin] == majority_value, \"majority\", \"minority\")"
   ]
  },
  {
   "cell_type": "code",
   "execution_count": 58,
   "id": "17e3e4d5",
   "metadata": {
    "execution": {
     "iopub.execute_input": "2025-08-19T18:17:39.590954Z",
     "iopub.status.busy": "2025-08-19T18:17:39.590292Z",
     "iopub.status.idle": "2025-08-19T18:17:41.346374Z",
     "shell.execute_reply": "2025-08-19T18:17:41.345720Z"
    },
    "papermill": {
     "duration": 1.772084,
     "end_time": "2025-08-19T18:17:41.348172",
     "exception": false,
     "start_time": "2025-08-19T18:17:39.576088",
     "status": "completed"
    },
    "tags": []
   },
   "outputs": [],
   "source": [
    "example_universe = universe.copy()\n",
    "example_universe[\"cutoff\"] = example_universe[\"cutoff\"][0]\n",
    "example_universe[\"eval_fairness_grouping\"] = example_universe[\"eval_fairness_grouping\"][0]\n",
    "fairness_dict, metric_frame = universe_analysis.compute_metrics(\n",
    "    example_universe,\n",
    "    y_pred_prob=probs_test,\n",
    "    y_test=y_true,\n",
    "    org_test=org_test,\n",
    ")"
   ]
  },
  {
   "cell_type": "markdown",
   "id": "1fb7a0e9",
   "metadata": {
    "papermill": {
     "duration": 0.01236,
     "end_time": "2025-08-19T18:17:41.373669",
     "exception": false,
     "start_time": "2025-08-19T18:17:41.361309",
     "status": "completed"
    },
    "tags": []
   },
   "source": [
    "# Overall"
   ]
  },
  {
   "cell_type": "markdown",
   "id": "be1784b1",
   "metadata": {
    "papermill": {
     "duration": 0.012355,
     "end_time": "2025-08-19T18:17:41.398335",
     "exception": false,
     "start_time": "2025-08-19T18:17:41.385980",
     "status": "completed"
    },
    "tags": []
   },
   "source": [
    "Main fairness target: Equalized Odds. Seems to be a better fit than equal opportunity, since we're not only interested in Y = 1. Seems to be a better fit than demographic parity, since we also care about accuracy, not just equal distribution of preds.\n",
    "\n",
    "Pick column for computation of fairness metrics\n",
    "\n",
    "Performance\n",
    "Overall performance measures, most interesting in relation to the measures split by group below"
   ]
  },
  {
   "cell_type": "code",
   "execution_count": 59,
   "id": "b7672bee",
   "metadata": {
    "execution": {
     "iopub.execute_input": "2025-08-19T18:17:41.424624Z",
     "iopub.status.busy": "2025-08-19T18:17:41.424286Z",
     "iopub.status.idle": "2025-08-19T18:17:41.434551Z",
     "shell.execute_reply": "2025-08-19T18:17:41.433484Z"
    },
    "papermill": {
     "duration": 0.025238,
     "end_time": "2025-08-19T18:17:41.436026",
     "exception": false,
     "start_time": "2025-08-19T18:17:41.410788",
     "status": "completed"
    },
    "tags": []
   },
   "outputs": [
    {
     "data": {
      "text/plain": [
       "accuracy                   0.225449\n",
       "balanced accuracy          0.551028\n",
       "f1                         0.246751\n",
       "precision                  0.140960\n",
       "false positive rate        0.886908\n",
       "false negative rate        0.011036\n",
       "selection rate             0.900000\n",
       "count                  89710.000000\n",
       "dtype: float64"
      ]
     },
     "execution_count": 59,
     "metadata": {},
     "output_type": "execute_result"
    }
   ],
   "source": [
    "metric_frame.overall"
   ]
  },
  {
   "cell_type": "markdown",
   "id": "d93333c9",
   "metadata": {
    "papermill": {
     "duration": 0.01287,
     "end_time": "2025-08-19T18:17:41.462009",
     "exception": false,
     "start_time": "2025-08-19T18:17:41.449139",
     "status": "completed"
    },
    "tags": []
   },
   "source": [
    "By Group"
   ]
  },
  {
   "cell_type": "code",
   "execution_count": 60,
   "id": "52256966",
   "metadata": {
    "execution": {
     "iopub.execute_input": "2025-08-19T18:17:41.490603Z",
     "iopub.status.busy": "2025-08-19T18:17:41.489900Z",
     "iopub.status.idle": "2025-08-19T18:17:41.513183Z",
     "shell.execute_reply": "2025-08-19T18:17:41.512056Z"
    },
    "papermill": {
     "duration": 0.040207,
     "end_time": "2025-08-19T18:17:41.515094",
     "exception": false,
     "start_time": "2025-08-19T18:17:41.474887",
     "status": "completed"
    },
    "tags": []
   },
   "outputs": [
    {
     "data": {
      "text/html": [
       "<div>\n",
       "<style scoped>\n",
       "    .dataframe tbody tr th:only-of-type {\n",
       "        vertical-align: middle;\n",
       "    }\n",
       "\n",
       "    .dataframe tbody tr th {\n",
       "        vertical-align: top;\n",
       "    }\n",
       "\n",
       "    .dataframe thead th {\n",
       "        text-align: right;\n",
       "    }\n",
       "</style>\n",
       "<table border=\"1\" class=\"dataframe\">\n",
       "  <thead>\n",
       "    <tr style=\"text-align: right;\">\n",
       "      <th></th>\n",
       "      <th>accuracy</th>\n",
       "      <th>balanced accuracy</th>\n",
       "      <th>f1</th>\n",
       "      <th>precision</th>\n",
       "      <th>false positive rate</th>\n",
       "      <th>false negative rate</th>\n",
       "      <th>selection rate</th>\n",
       "      <th>count</th>\n",
       "    </tr>\n",
       "    <tr>\n",
       "      <th>majmin</th>\n",
       "      <th></th>\n",
       "      <th></th>\n",
       "      <th></th>\n",
       "      <th></th>\n",
       "      <th></th>\n",
       "      <th></th>\n",
       "      <th></th>\n",
       "      <th></th>\n",
       "    </tr>\n",
       "  </thead>\n",
       "  <tbody>\n",
       "    <tr>\n",
       "      <th>majority</th>\n",
       "      <td>0.245656</td>\n",
       "      <td>0.560485</td>\n",
       "      <td>0.257210</td>\n",
       "      <td>0.147841</td>\n",
       "      <td>0.867433</td>\n",
       "      <td>0.011597</td>\n",
       "      <td>0.883418</td>\n",
       "      <td>69170.0</td>\n",
       "    </tr>\n",
       "    <tr>\n",
       "      <th>minority</th>\n",
       "      <td>0.157400</td>\n",
       "      <td>0.519944</td>\n",
       "      <td>0.213354</td>\n",
       "      <td>0.119544</td>\n",
       "      <td>0.951244</td>\n",
       "      <td>0.008868</td>\n",
       "      <td>0.955842</td>\n",
       "      <td>20540.0</td>\n",
       "    </tr>\n",
       "  </tbody>\n",
       "</table>\n",
       "</div>"
      ],
      "text/plain": [
       "          accuracy  balanced accuracy        f1  precision  \\\n",
       "majmin                                                       \n",
       "majority  0.245656           0.560485  0.257210   0.147841   \n",
       "minority  0.157400           0.519944  0.213354   0.119544   \n",
       "\n",
       "          false positive rate  false negative rate  selection rate    count  \n",
       "majmin                                                                       \n",
       "majority             0.867433             0.011597        0.883418  69170.0  \n",
       "minority             0.951244             0.008868        0.955842  20540.0  "
      ]
     },
     "execution_count": 60,
     "metadata": {},
     "output_type": "execute_result"
    }
   ],
   "source": [
    "metric_frame.by_group"
   ]
  },
  {
   "cell_type": "code",
   "execution_count": 61,
   "id": "6e6c20ae",
   "metadata": {
    "execution": {
     "iopub.execute_input": "2025-08-19T18:17:41.557403Z",
     "iopub.status.busy": "2025-08-19T18:17:41.556061Z",
     "iopub.status.idle": "2025-08-19T18:17:43.297244Z",
     "shell.execute_reply": "2025-08-19T18:17:43.296105Z"
    },
    "papermill": {
     "duration": 1.758649,
     "end_time": "2025-08-19T18:17:43.298663",
     "exception": false,
     "start_time": "2025-08-19T18:17:41.540014",
     "status": "completed"
    },
    "tags": []
   },
   "outputs": [
    {
     "data": {
      "text/plain": [
       "array([[<Axes: title={'center': 'accuracy'}, xlabel='majmin'>,\n",
       "        <Axes: title={'center': 'balanced accuracy'}, xlabel='majmin'>,\n",
       "        <Axes: title={'center': 'f1'}, xlabel='majmin'>],\n",
       "       [<Axes: title={'center': 'precision'}, xlabel='majmin'>,\n",
       "        <Axes: title={'center': 'false positive rate'}, xlabel='majmin'>,\n",
       "        <Axes: title={'center': 'false negative rate'}, xlabel='majmin'>],\n",
       "       [<Axes: title={'center': 'selection rate'}, xlabel='majmin'>,\n",
       "        <Axes: title={'center': 'count'}, xlabel='majmin'>,\n",
       "        <Axes: xlabel='majmin'>]], dtype=object)"
      ]
     },
     "execution_count": 61,
     "metadata": {},
     "output_type": "execute_result"
    },
    {
     "data": {
      "image/png": "[encoded data removed]",
      "text/plain": [
       "<Figure size 1200x800 with 9 Axes>"
      ]
     },
     "metadata": {},
     "output_type": "display_data"
    }
   ],
   "source": [
    "# In a graphic\n",
    "metric_frame.by_group.plot.bar(\n",
    "    subplots=True,\n",
    "    layout=[3, 3],\n",
    "    legend=False,\n",
    "    figsize=[12, 8],\n",
    "    title=\"Show all metrics\",\n",
    ")"
   ]
  },
  {
   "cell_type": "markdown",
   "id": "b2e433ae",
   "metadata": {
    "papermill": {
     "duration": 0.029737,
     "end_time": "2025-08-19T18:17:43.357144",
     "exception": false,
     "start_time": "2025-08-19T18:17:43.327407",
     "status": "completed"
    },
    "tags": []
   },
   "source": [
    "# Final Output"
   ]
  },
  {
   "cell_type": "code",
   "execution_count": 62,
   "id": "3871301e",
   "metadata": {
    "execution": {
     "iopub.execute_input": "2025-08-19T18:17:43.391330Z",
     "iopub.status.busy": "2025-08-19T18:17:43.390633Z",
     "iopub.status.idle": "2025-08-19T18:17:43.403710Z",
     "shell.execute_reply": "2025-08-19T18:17:43.402291Z"
    },
    "papermill": {
     "duration": 0.032689,
     "end_time": "2025-08-19T18:17:43.405732",
     "exception": false,
     "start_time": "2025-08-19T18:17:43.373043",
     "status": "completed"
    },
    "tags": []
   },
   "outputs": [
    {
     "data": {
      "text/plain": [
       "4"
      ]
     },
     "execution_count": 62,
     "metadata": {},
     "output_type": "execute_result"
    }
   ],
   "source": [
    "sub_universes = universe_analysis.generate_sub_universes()\n",
    "len(sub_universes)"
   ]
  },
  {
   "cell_type": "code",
   "execution_count": 63,
   "id": "d9cfdaca",
   "metadata": {
    "execution": {
     "iopub.execute_input": "2025-08-19T18:17:43.440428Z",
     "iopub.status.busy": "2025-08-19T18:17:43.439460Z",
     "iopub.status.idle": "2025-08-19T18:17:43.458943Z",
     "shell.execute_reply": "2025-08-19T18:17:43.457372Z"
    },
    "papermill": {
     "duration": 0.039038,
     "end_time": "2025-08-19T18:17:43.461487",
     "exception": false,
     "start_time": "2025-08-19T18:17:43.422449",
     "status": "completed"
    },
    "tags": []
   },
   "outputs": [],
   "source": [
    "def filter_sub_universe_data(sub_universe, org_test):\n",
    "    # Keep all rows — no filtering\n",
    "    keep_rows_mask = np.ones(org_test.shape[0], dtype=bool)\n",
    "\n",
    "    print(f\"[INFO] Keeping all rows: {keep_rows_mask.sum()} rows retained.\")\n",
    "    return keep_rows_mask"
   ]
  },
  {
   "cell_type": "code",
   "execution_count": 64,
   "id": "2bc31ac1",
   "metadata": {
    "execution": {
     "iopub.execute_input": "2025-08-19T18:17:43.503882Z",
     "iopub.status.busy": "2025-08-19T18:17:43.503140Z",
     "iopub.status.idle": "2025-08-19T18:17:50.249948Z",
     "shell.execute_reply": "2025-08-19T18:17:50.248619Z"
    },
    "papermill": {
     "duration": 6.76537,
     "end_time": "2025-08-19T18:17:50.251291",
     "exception": false,
     "start_time": "2025-08-19T18:17:43.485921",
     "status": "completed"
    },
    "tags": []
   },
   "outputs": [
    {
     "name": "stdout",
     "output_type": "stream",
     "text": [
      "Stopping execution_time clock.\n",
      "[INFO] Keeping all rows: 89710 rows retained.\n"
     ]
    },
    {
     "name": "stdout",
     "output_type": "stream",
     "text": [
      "[INFO] Keeping all rows: 89710 rows retained.\n"
     ]
    },
    {
     "name": "stdout",
     "output_type": "stream",
     "text": [
      "[INFO] Keeping all rows: 89710 rows retained.\n"
     ]
    },
    {
     "name": "stdout",
     "output_type": "stream",
     "text": [
      "[INFO] Keeping all rows: 89710 rows retained.\n"
     ]
    },
    {
     "data": {
      "text/html": [
       "<div>\n",
       "<style scoped>\n",
       "    .dataframe tbody tr th:only-of-type {\n",
       "        vertical-align: middle;\n",
       "    }\n",
       "\n",
       "    .dataframe tbody tr th {\n",
       "        vertical-align: top;\n",
       "    }\n",
       "\n",
       "    .dataframe thead th {\n",
       "        text-align: right;\n",
       "    }\n",
       "</style>\n",
       "<table border=\"1\" class=\"dataframe\">\n",
       "  <thead>\n",
       "    <tr style=\"text-align: right;\">\n",
       "      <th></th>\n",
       "      <th>run_no</th>\n",
       "      <th>universe_id</th>\n",
       "      <th>universe_settings</th>\n",
       "      <th>execution_time</th>\n",
       "      <th>test_size_n</th>\n",
       "      <th>test_size_frac</th>\n",
       "      <th>fair_main_equalized_odds_difference</th>\n",
       "      <th>fair_main_equalized_odds_ratio</th>\n",
       "      <th>fair_main_demographic_parity_difference</th>\n",
       "      <th>fair_main_demographic_parity_ratio</th>\n",
       "      <th>...</th>\n",
       "      <th>perf_grp_precision_0</th>\n",
       "      <th>perf_grp_precision_1</th>\n",
       "      <th>perf_grp_false positive rate_0</th>\n",
       "      <th>perf_grp_false positive rate_1</th>\n",
       "      <th>perf_grp_false negative rate_0</th>\n",
       "      <th>perf_grp_false negative rate_1</th>\n",
       "      <th>perf_grp_selection rate_0</th>\n",
       "      <th>perf_grp_selection rate_1</th>\n",
       "      <th>perf_grp_count_0</th>\n",
       "      <th>perf_grp_count_1</th>\n",
       "    </tr>\n",
       "  </thead>\n",
       "  <tbody>\n",
       "    <tr>\n",
       "      <th>0</th>\n",
       "      <td>3</td>\n",
       "      <td>6777bd6df839d2ff5f30929cbb825de2</td>\n",
       "      <td>{\"cutoff\": \"quantile_0.1\", \"eval_fairness_grou...</td>\n",
       "      <td>28.663611</td>\n",
       "      <td>89710</td>\n",
       "      <td>1.0</td>\n",
       "      <td>0.083811</td>\n",
       "      <td>0.911894</td>\n",
       "      <td>0.072425</td>\n",
       "      <td>0.924230</td>\n",
       "      <td>...</td>\n",
       "      <td>NaN</td>\n",
       "      <td>NaN</td>\n",
       "      <td>NaN</td>\n",
       "      <td>NaN</td>\n",
       "      <td>NaN</td>\n",
       "      <td>NaN</td>\n",
       "      <td>NaN</td>\n",
       "      <td>NaN</td>\n",
       "      <td>NaN</td>\n",
       "      <td>NaN</td>\n",
       "    </tr>\n",
       "    <tr>\n",
       "      <th>0</th>\n",
       "      <td>3</td>\n",
       "      <td>6777bd6df839d2ff5f30929cbb825de2</td>\n",
       "      <td>{\"cutoff\": \"quantile_0.1\", \"eval_fairness_grou...</td>\n",
       "      <td>28.663611</td>\n",
       "      <td>89710</td>\n",
       "      <td>1.0</td>\n",
       "      <td>0.083811</td>\n",
       "      <td>0.911894</td>\n",
       "      <td>0.072425</td>\n",
       "      <td>0.924230</td>\n",
       "      <td>...</td>\n",
       "      <td>0.119544</td>\n",
       "      <td>0.147841</td>\n",
       "      <td>0.951244</td>\n",
       "      <td>0.867433</td>\n",
       "      <td>0.008868</td>\n",
       "      <td>0.011597</td>\n",
       "      <td>0.955842</td>\n",
       "      <td>0.883418</td>\n",
       "      <td>20540.0</td>\n",
       "      <td>69170.0</td>\n",
       "    </tr>\n",
       "    <tr>\n",
       "      <th>0</th>\n",
       "      <td>3</td>\n",
       "      <td>6777bd6df839d2ff5f30929cbb825de2</td>\n",
       "      <td>{\"cutoff\": \"quantile_0.25\", \"eval_fairness_gro...</td>\n",
       "      <td>28.663611</td>\n",
       "      <td>89710</td>\n",
       "      <td>1.0</td>\n",
       "      <td>0.153428</td>\n",
       "      <td>0.816934</td>\n",
       "      <td>0.132480</td>\n",
       "      <td>0.844532</td>\n",
       "      <td>...</td>\n",
       "      <td>NaN</td>\n",
       "      <td>NaN</td>\n",
       "      <td>NaN</td>\n",
       "      <td>NaN</td>\n",
       "      <td>NaN</td>\n",
       "      <td>NaN</td>\n",
       "      <td>NaN</td>\n",
       "      <td>NaN</td>\n",
       "      <td>NaN</td>\n",
       "      <td>NaN</td>\n",
       "    </tr>\n",
       "    <tr>\n",
       "      <th>0</th>\n",
       "      <td>3</td>\n",
       "      <td>6777bd6df839d2ff5f30929cbb825de2</td>\n",
       "      <td>{\"cutoff\": \"quantile_0.25\", \"eval_fairness_gro...</td>\n",
       "      <td>28.663611</td>\n",
       "      <td>89710</td>\n",
       "      <td>1.0</td>\n",
       "      <td>0.153428</td>\n",
       "      <td>0.816934</td>\n",
       "      <td>0.132480</td>\n",
       "      <td>0.844532</td>\n",
       "      <td>...</td>\n",
       "      <td>0.129863</td>\n",
       "      <td>0.174331</td>\n",
       "      <td>0.838103</td>\n",
       "      <td>0.684674</td>\n",
       "      <td>0.040118</td>\n",
       "      <td>0.050547</td>\n",
       "      <td>0.852142</td>\n",
       "      <td>0.719662</td>\n",
       "      <td>20540.0</td>\n",
       "      <td>69170.0</td>\n",
       "    </tr>\n",
       "  </tbody>\n",
       "</table>\n",
       "<p>4 rows × 50 columns</p>\n",
       "</div>"
      ],
      "text/plain": [
       "  run_no                       universe_id  \\\n",
       "0      3  6777bd6df839d2ff5f30929cbb825de2   \n",
       "0      3  6777bd6df839d2ff5f30929cbb825de2   \n",
       "0      3  6777bd6df839d2ff5f30929cbb825de2   \n",
       "0      3  6777bd6df839d2ff5f30929cbb825de2   \n",
       "\n",
       "                                   universe_settings  execution_time  \\\n",
       "0  {\"cutoff\": \"quantile_0.1\", \"eval_fairness_grou...       28.663611   \n",
       "0  {\"cutoff\": \"quantile_0.1\", \"eval_fairness_grou...       28.663611   \n",
       "0  {\"cutoff\": \"quantile_0.25\", \"eval_fairness_gro...       28.663611   \n",
       "0  {\"cutoff\": \"quantile_0.25\", \"eval_fairness_gro...       28.663611   \n",
       "\n",
       "   test_size_n  test_size_frac  fair_main_equalized_odds_difference  \\\n",
       "0        89710             1.0                             0.083811   \n",
       "0        89710             1.0                             0.083811   \n",
       "0        89710             1.0                             0.153428   \n",
       "0        89710             1.0                             0.153428   \n",
       "\n",
       "   fair_main_equalized_odds_ratio  fair_main_demographic_parity_difference  \\\n",
       "0                        0.911894                                 0.072425   \n",
       "0                        0.911894                                 0.072425   \n",
       "0                        0.816934                                 0.132480   \n",
       "0                        0.816934                                 0.132480   \n",
       "\n",
       "   fair_main_demographic_parity_ratio  ...  perf_grp_precision_0  \\\n",
       "0                            0.924230  ...                   NaN   \n",
       "0                            0.924230  ...              0.119544   \n",
       "0                            0.844532  ...                   NaN   \n",
       "0                            0.844532  ...              0.129863   \n",
       "\n",
       "   perf_grp_precision_1  perf_grp_false positive rate_0  \\\n",
       "0                   NaN                             NaN   \n",
       "0              0.147841                        0.951244   \n",
       "0                   NaN                             NaN   \n",
       "0              0.174331                        0.838103   \n",
       "\n",
       "   perf_grp_false positive rate_1  perf_grp_false negative rate_0  \\\n",
       "0                             NaN                             NaN   \n",
       "0                        0.867433                        0.008868   \n",
       "0                             NaN                             NaN   \n",
       "0                        0.684674                        0.040118   \n",
       "\n",
       "   perf_grp_false negative rate_1  perf_grp_selection rate_0  \\\n",
       "0                             NaN                        NaN   \n",
       "0                        0.011597                   0.955842   \n",
       "0                             NaN                        NaN   \n",
       "0                        0.050547                   0.852142   \n",
       "\n",
       "   perf_grp_selection rate_1  perf_grp_count_0  perf_grp_count_1  \n",
       "0                        NaN               NaN               NaN  \n",
       "0                   0.883418           20540.0           69170.0  \n",
       "0                        NaN               NaN               NaN  \n",
       "0                   0.719662           20540.0           69170.0  \n",
       "\n",
       "[4 rows x 50 columns]"
      ]
     },
     "execution_count": 64,
     "metadata": {},
     "output_type": "execute_result"
    }
   ],
   "source": [
    "final_output = universe_analysis.generate_final_output(\n",
    "    y_pred_prob=probs_test,\n",
    "    y_test=y_true,\n",
    "    org_test=org_test,\n",
    "    filter_data=filter_sub_universe_data,\n",
    "    cp_metrics_df=cp_metrics_df,\n",
    "    save=True,\n",
    ")\n",
    "final_output"
   ]
  },
  {
   "cell_type": "code",
   "execution_count": null,
   "id": "8b80a1ff",
   "metadata": {
    "papermill": {
     "duration": 0.014485,
     "end_time": "2025-08-19T18:17:50.283365",
     "exception": false,
     "start_time": "2025-08-19T18:17:50.268880",
     "status": "completed"
    },
    "tags": []
   },
   "outputs": [],
   "source": []
  },
  {
   "cell_type": "code",
   "execution_count": null,
   "id": "275c9fad",
   "metadata": {
    "papermill": {
     "duration": 0.015648,
     "end_time": "2025-08-19T18:17:50.316316",
     "exception": false,
     "start_time": "2025-08-19T18:17:50.300668",
     "status": "completed"
    },
    "tags": []
   },
   "outputs": [],
   "source": []
  }
 ],
 "metadata": {
  "celltoolbar": "Tags",
  "kernelspec": {
   "display_name": "Python (CMA Fairness)",
   "language": "python",
   "name": "cma_fair_env"
  },
  "language_info": {
   "codemirror_mode": {
    "name": "ipython",
    "version": 3
   },
   "file_extension": ".py",
   "mimetype": "text/x-python",
   "name": "python",
   "nbconvert_exporter": "python",
   "pygments_lexer": "ipython3",
   "version": "3.10.12"
  },
  "papermill": {
   "default_parameters": {},
   "duration": 39.378213,
   "end_time": "2025-08-19T18:17:51.256680",
   "environment_variables": {},
   "exception": null,
   "input_path": "universe_analysis.ipynb",
   "output_path": "output/runs/3/notebooks/m_3-6777bd6df839d2ff5f30929cbb825de2.ipynb",
   "parameters": {
    "output_dir": "output",
    "run_no": "3",
    "seed": "2023",
    "universe": "{\"cutoff\": [\"quantile_0.1\", \"quantile_0.25\"], \"eval_fairness_grouping\": [\"majority-minority\", \"nationality-all\"], \"exclude_features\": \"nationality-sex\", \"exclude_subgroups\": \"drop-non-german\", \"model\": \"elasticnet\", \"scale\": \"scale\", \"training_size\": \"25k\", \"training_year\": \"2010_14\"}",
    "universe_id": "6777bd6df839d2ff5f30929cbb825de2"
   },
   "start_time": "2025-08-19T18:17:11.878467",
   "version": "2.6.0"
  }
 },
 "nbformat": 4,
 "nbformat_minor": 5
}