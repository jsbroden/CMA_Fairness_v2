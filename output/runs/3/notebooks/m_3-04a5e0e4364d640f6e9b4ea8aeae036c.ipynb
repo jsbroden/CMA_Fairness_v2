{
 "cells": [
  {
   "cell_type": "markdown",
   "id": "ef23dbb3",
   "metadata": {
    "papermill": {
     "duration": 0.014234,
     "end_time": "2025-08-19T19:09:16.056974",
     "exception": false,
     "start_time": "2025-08-19T19:09:16.042740",
     "status": "completed"
    },
    "tags": []
   },
   "source": [
    "# Setup"
   ]
  },
  {
   "cell_type": "code",
   "execution_count": 1,
   "id": "0bc8e7dc",
   "metadata": {
    "execution": {
     "iopub.execute_input": "2025-08-19T19:09:16.079261Z",
     "iopub.status.busy": "2025-08-19T19:09:16.077795Z",
     "iopub.status.idle": "2025-08-19T19:09:16.100971Z",
     "shell.execute_reply": "2025-08-19T19:09:16.100036Z"
    },
    "papermill": {
     "duration": 0.040178,
     "end_time": "2025-08-19T19:09:16.107501",
     "exception": false,
     "start_time": "2025-08-19T19:09:16.067323",
     "status": "completed"
    },
    "tags": []
   },
   "outputs": [
    {
     "name": "stdout",
     "output_type": "stream",
     "text": [
      "/dss/dsshome1/0C/ra93lal2/cma/CMA_Fairness_v2\n"
     ]
    },
    {
     "name": "stderr",
     "output_type": "stream",
     "text": [
      "/dss/dsshome1/0C/ra93lal2/.local/share/virtualenvs/CMA_Fairness_v2-3j10GkSs/lib/python3.10/site-packages/IPython/core/magics/osm.py:393: UserWarning: This is now an optional IPython functionality, using bookmarks requires you to install the `pickleshare` library.\n",
      "  bkms = self.shell.db.get('bookmarks', {})\n",
      "/dss/dsshome1/0C/ra93lal2/.local/share/virtualenvs/CMA_Fairness_v2-3j10GkSs/lib/python3.10/site-packages/IPython/core/magics/osm.py:417: UserWarning: This is now an optional IPython functionality, setting dhist requires you to install the `pickleshare` library.\n",
      "  self.shell.db['dhist'] = compress_dhist(dhist)[-100:]\n"
     ]
    }
   ],
   "source": [
    "%cd ~/cma/CMA_Fairness_v2"
   ]
  },
  {
   "cell_type": "markdown",
   "id": "9d235661",
   "metadata": {
    "papermill": {
     "duration": 0.009414,
     "end_time": "2025-08-19T19:09:16.129469",
     "exception": false,
     "start_time": "2025-08-19T19:09:16.120055",
     "status": "completed"
    },
    "tags": []
   },
   "source": [
    "The following cell holds the definition of our parameters, these values can be overriden by rendering the with e.g. the following command:\n",
    "\n",
    "papermill -p alpha 0.2 -p ratio 0.3 universe_analysis.ipynb output/test_run.ipynb"
   ]
  },
  {
   "cell_type": "code",
   "execution_count": 2,
   "id": "4a789d8e",
   "metadata": {
    "execution": {
     "iopub.execute_input": "2025-08-19T19:09:16.150562Z",
     "iopub.status.busy": "2025-08-19T19:09:16.150145Z",
     "iopub.status.idle": "2025-08-19T19:09:16.155120Z",
     "shell.execute_reply": "2025-08-19T19:09:16.153978Z"
    },
    "papermill": {
     "duration": 0.016738,
     "end_time": "2025-08-19T19:09:16.156450",
     "exception": false,
     "start_time": "2025-08-19T19:09:16.139712",
     "status": "completed"
    },
    "tags": []
   },
   "outputs": [
    {
     "name": "stdout",
     "output_type": "stream",
     "text": [
      "Current working directory: /dss/dsshome1/0C/ra93lal2/cma/CMA_Fairness_v2\n"
     ]
    }
   ],
   "source": [
    "import os\n",
    "print(\"Current working directory:\", os.getcwd())"
   ]
  },
  {
   "cell_type": "code",
   "execution_count": 3,
   "id": "4132aaed",
   "metadata": {
    "execution": {
     "iopub.execute_input": "2025-08-19T19:09:16.176925Z",
     "iopub.status.busy": "2025-08-19T19:09:16.176510Z",
     "iopub.status.idle": "2025-08-19T19:09:16.181431Z",
     "shell.execute_reply": "2025-08-19T19:09:16.180730Z"
    },
    "papermill": {
     "duration": 0.019106,
     "end_time": "2025-08-19T19:09:16.185114",
     "exception": false,
     "start_time": "2025-08-19T19:09:16.166008",
     "status": "completed"
    },
    "tags": [
     "parameters"
    ]
   },
   "outputs": [],
   "source": [
    "run_no = 0\n",
    "universe_id = \"test\"\n",
    "universe = {\n",
    "    \"training_size\": \"5k\", # \"25k\", \"5k\", \"1k\"\n",
    "    \"training_year\": \"2012_14\", # \"2014\", \"2012_14\", \"2010_14\"\n",
    "    \"scale\": \"scale\", # \"scale\", \"do-not-scale\",\n",
    "    \"model\": \"elasticnet\", # \"logreg\", \"penalized_logreg\", \"rf\", \"gbm\", \"elasticnet\"\n",
    "    \"cutoff\": [\"quantile_0.15\", \"quantile_0.30\"],\n",
    "    \"exclude_features\": \"age\", # \"none\", \"nationality\", \"sex\", \"nationality-sex\", \"age\"\n",
    "    \"exclude_subgroups\": \"drop-non-german\", # \"keep-all\", \"drop-non-german\"\n",
    "    \"eval_fairness_grouping\": [\"majority-minority\", \"nationality-all\"]\n",
    "}\n",
    "\n",
    "output_dir=\"./output\"\n",
    "seed=0"
   ]
  },
  {
   "cell_type": "code",
   "execution_count": 4,
   "id": "7406adfe",
   "metadata": {
    "execution": {
     "iopub.execute_input": "2025-08-19T19:09:16.215782Z",
     "iopub.status.busy": "2025-08-19T19:09:16.214899Z",
     "iopub.status.idle": "2025-08-19T19:09:16.222211Z",
     "shell.execute_reply": "2025-08-19T19:09:16.220845Z"
    },
    "papermill": {
     "duration": 0.020899,
     "end_time": "2025-08-19T19:09:16.223728",
     "exception": false,
     "start_time": "2025-08-19T19:09:16.202829",
     "status": "completed"
    },
    "tags": [
     "injected-parameters"
    ]
   },
   "outputs": [],
   "source": [
    "# Parameters\n",
    "universe_id = \"04a5e0e4364d640f6e9b4ea8aeae036c\"\n",
    "run_no = \"3\"\n",
    "universe = \"{\\\"cutoff\\\": [\\\"quantile_0.1\\\", \\\"quantile_0.25\\\"], \\\"eval_fairness_grouping\\\": [\\\"majority-minority\\\", \\\"nationality-all\\\"], \\\"exclude_features\\\": \\\"none\\\", \\\"exclude_subgroups\\\": \\\"drop-non-german\\\", \\\"model\\\": \\\"penalized_logreg\\\", \\\"scale\\\": \\\"do-not-scale\\\", \\\"training_size\\\": \\\"1k\\\", \\\"training_year\\\": \\\"2010_14\\\"}\"\n",
    "output_dir = \"output\"\n",
    "seed = \"2023\"\n"
   ]
  },
  {
   "cell_type": "code",
   "execution_count": 5,
   "id": "a5d7941f",
   "metadata": {
    "execution": {
     "iopub.execute_input": "2025-08-19T19:09:16.270993Z",
     "iopub.status.busy": "2025-08-19T19:09:16.269281Z",
     "iopub.status.idle": "2025-08-19T19:09:16.280439Z",
     "shell.execute_reply": "2025-08-19T19:09:16.279100Z"
    },
    "papermill": {
     "duration": 0.033615,
     "end_time": "2025-08-19T19:09:16.282613",
     "exception": false,
     "start_time": "2025-08-19T19:09:16.248998",
     "status": "completed"
    },
    "tags": []
   },
   "outputs": [],
   "source": [
    "import json\n",
    "if isinstance(universe, str):\n",
    "    universe = json.loads(universe)"
   ]
  },
  {
   "cell_type": "code",
   "execution_count": 6,
   "id": "7076ccb1",
   "metadata": {
    "execution": {
     "iopub.execute_input": "2025-08-19T19:09:16.316686Z",
     "iopub.status.busy": "2025-08-19T19:09:16.315202Z",
     "iopub.status.idle": "2025-08-19T19:09:16.378630Z",
     "shell.execute_reply": "2025-08-19T19:09:16.377892Z"
    },
    "papermill": {
     "duration": 0.079108,
     "end_time": "2025-08-19T19:09:16.380023",
     "exception": false,
     "start_time": "2025-08-19T19:09:16.300915",
     "status": "completed"
    },
    "tags": []
   },
   "outputs": [],
   "source": [
    "# Auto-reload the custom package\n",
    "%load_ext autoreload\n",
    "%autoreload 1\n",
    "%aimport fairness_multiverse"
   ]
  },
  {
   "cell_type": "code",
   "execution_count": 7,
   "id": "94c8eb93",
   "metadata": {
    "execution": {
     "iopub.execute_input": "2025-08-19T19:09:16.400018Z",
     "iopub.status.busy": "2025-08-19T19:09:16.399733Z",
     "iopub.status.idle": "2025-08-19T19:09:18.001463Z",
     "shell.execute_reply": "2025-08-19T19:09:18.000580Z"
    },
    "papermill": {
     "duration": 1.618919,
     "end_time": "2025-08-19T19:09:18.008406",
     "exception": false,
     "start_time": "2025-08-19T19:09:16.389487",
     "status": "completed"
    },
    "tags": []
   },
   "outputs": [],
   "source": [
    "from fairness_multiverse.universe import UniverseAnalysis\n",
    "\n",
    "universe_analysis = UniverseAnalysis(\n",
    "    run_no = run_no,\n",
    "    universe_id = universe_id,\n",
    "    universe = universe,\n",
    "    output_dir=output_dir,\n",
    ")"
   ]
  },
  {
   "cell_type": "code",
   "execution_count": 8,
   "id": "2a6381cf",
   "metadata": {
    "execution": {
     "iopub.execute_input": "2025-08-19T19:09:18.033232Z",
     "iopub.status.busy": "2025-08-19T19:09:18.032764Z",
     "iopub.status.idle": "2025-08-19T19:09:18.041345Z",
     "shell.execute_reply": "2025-08-19T19:09:18.040226Z"
    },
    "papermill": {
     "duration": 0.02396,
     "end_time": "2025-08-19T19:09:18.046138",
     "exception": false,
     "start_time": "2025-08-19T19:09:18.022178",
     "status": "completed"
    },
    "tags": []
   },
   "outputs": [
    {
     "name": "stdout",
     "output_type": "stream",
     "text": [
      "Using Seed: 2023\n"
     ]
    }
   ],
   "source": [
    "import numpy as np\n",
    "parsed_seed = int(seed)\n",
    "np.random.seed(parsed_seed)\n",
    "print(f\"Using Seed: {parsed_seed}\")"
   ]
  },
  {
   "cell_type": "markdown",
   "id": "b6e958b4",
   "metadata": {
    "papermill": {
     "duration": 0.010023,
     "end_time": "2025-08-19T19:09:18.073176",
     "exception": false,
     "start_time": "2025-08-19T19:09:18.063153",
     "status": "completed"
    },
    "tags": []
   },
   "source": [
    "# Loading Data"
   ]
  },
  {
   "cell_type": "code",
   "execution_count": 9,
   "id": "98701482",
   "metadata": {
    "execution": {
     "iopub.execute_input": "2025-08-19T19:09:18.094018Z",
     "iopub.status.busy": "2025-08-19T19:09:18.093708Z",
     "iopub.status.idle": "2025-08-19T19:09:28.071677Z",
     "shell.execute_reply": "2025-08-19T19:09:28.070586Z"
    },
    "papermill": {
     "duration": 9.990989,
     "end_time": "2025-08-19T19:09:28.073341",
     "exception": false,
     "start_time": "2025-08-19T19:09:18.082352",
     "status": "completed"
    },
    "tags": []
   },
   "outputs": [
    {
     "name": "stdout",
     "output_type": "stream",
     "text": [
      "Loading SIAB data from cache: data/siab_cached.csv.gz\n"
     ]
    },
    {
     "name": "stdout",
     "output_type": "stream",
     "text": [
      "(643690, 164)\n"
     ]
    }
   ],
   "source": [
    "from pathlib import Path\n",
    "import pandas as pd\n",
    "\n",
    "# File paths\n",
    "raw_file = Path(\"data/raw/siab.csv\")\n",
    "cache_file = Path(\"data/siab_cached.csv.gz\")\n",
    "\n",
    "# Ensure cache directory exists\n",
    "cache_file.parent.mkdir(parents=True, exist_ok=True)\n",
    "\n",
    "# Load with simple caching\n",
    "if cache_file.exists():\n",
    "    print(f\"Loading SIAB data from cache: {cache_file}\")\n",
    "    siab = pd.read_csv(cache_file, compression='gzip')\n",
    "else:\n",
    "    print(f\"Cache not found. Reading raw SIAB data: {raw_file}\")\n",
    "    siab = pd.read_csv(raw_file)\n",
    "    siab.to_csv(cache_file, index=False, compression='gzip')\n",
    "    print(f\"Cached SIAB data to: {cache_file}\")\n",
    "\n",
    "print(siab.shape)"
   ]
  },
  {
   "cell_type": "code",
   "execution_count": 10,
   "id": "058d2abb",
   "metadata": {
    "execution": {
     "iopub.execute_input": "2025-08-19T19:09:28.118003Z",
     "iopub.status.busy": "2025-08-19T19:09:28.116309Z",
     "iopub.status.idle": "2025-08-19T19:09:28.393801Z",
     "shell.execute_reply": "2025-08-19T19:09:28.392958Z"
    },
    "papermill": {
     "duration": 0.305272,
     "end_time": "2025-08-19T19:09:28.395305",
     "exception": false,
     "start_time": "2025-08-19T19:09:28.090033",
     "status": "completed"
    },
    "tags": []
   },
   "outputs": [
    {
     "data": {
      "text/html": [
       "<div>\n",
       "<style scoped>\n",
       "    .dataframe tbody tr th:only-of-type {\n",
       "        vertical-align: middle;\n",
       "    }\n",
       "\n",
       "    .dataframe tbody tr th {\n",
       "        vertical-align: top;\n",
       "    }\n",
       "\n",
       "    .dataframe thead th {\n",
       "        text-align: right;\n",
       "    }\n",
       "</style>\n",
       "<table border=\"1\" class=\"dataframe\">\n",
       "  <thead>\n",
       "    <tr style=\"text-align: right;\">\n",
       "      <th></th>\n",
       "      <th>persnr</th>\n",
       "      <th>year</th>\n",
       "      <th>nrEntry</th>\n",
       "      <th>ltue</th>\n",
       "      <th>employed_before</th>\n",
       "      <th>receipt_leh_before</th>\n",
       "      <th>receipt_lhg_before</th>\n",
       "      <th>se_before</th>\n",
       "      <th>ASU_notue_seeking_before</th>\n",
       "      <th>ASU_other_before</th>\n",
       "      <th>...</th>\n",
       "      <th>minijob_tot_dur_byage</th>\n",
       "      <th>ft_tot_dur_byage</th>\n",
       "      <th>befrist_tot_dur_byage</th>\n",
       "      <th>leih_tot_dur_byage</th>\n",
       "      <th>LHG_tot_dur_byage</th>\n",
       "      <th>LEH_tot_dur_byage</th>\n",
       "      <th>almp_tot_dur_byage</th>\n",
       "      <th>almp_aw_tot_dur_byage</th>\n",
       "      <th>se_tot_dur_byage</th>\n",
       "      <th>seeking1_tot_dur_byage</th>\n",
       "    </tr>\n",
       "  </thead>\n",
       "  <tbody>\n",
       "    <tr>\n",
       "      <th>0</th>\n",
       "      <td>7</td>\n",
       "      <td>2015</td>\n",
       "      <td>1</td>\n",
       "      <td>0</td>\n",
       "      <td>1</td>\n",
       "      <td>0</td>\n",
       "      <td>0</td>\n",
       "      <td>0</td>\n",
       "      <td>1</td>\n",
       "      <td>0</td>\n",
       "      <td>...</td>\n",
       "      <td>0.000000</td>\n",
       "      <td>0.000000</td>\n",
       "      <td>15.043478</td>\n",
       "      <td>0.000000</td>\n",
       "      <td>0.000000</td>\n",
       "      <td>0.000000</td>\n",
       "      <td>0.000000</td>\n",
       "      <td>0.000000</td>\n",
       "      <td>0.000000</td>\n",
       "      <td>0.000000</td>\n",
       "    </tr>\n",
       "    <tr>\n",
       "      <th>1</th>\n",
       "      <td>18</td>\n",
       "      <td>2010</td>\n",
       "      <td>1</td>\n",
       "      <td>1</td>\n",
       "      <td>0</td>\n",
       "      <td>0</td>\n",
       "      <td>0</td>\n",
       "      <td>0</td>\n",
       "      <td>0</td>\n",
       "      <td>0</td>\n",
       "      <td>...</td>\n",
       "      <td>0.000000</td>\n",
       "      <td>0.000000</td>\n",
       "      <td>0.000000</td>\n",
       "      <td>0.000000</td>\n",
       "      <td>0.000000</td>\n",
       "      <td>0.000000</td>\n",
       "      <td>0.000000</td>\n",
       "      <td>0.000000</td>\n",
       "      <td>0.000000</td>\n",
       "      <td>0.000000</td>\n",
       "    </tr>\n",
       "    <tr>\n",
       "      <th>2</th>\n",
       "      <td>18</td>\n",
       "      <td>2011</td>\n",
       "      <td>2</td>\n",
       "      <td>0</td>\n",
       "      <td>1</td>\n",
       "      <td>0</td>\n",
       "      <td>1</td>\n",
       "      <td>0</td>\n",
       "      <td>1</td>\n",
       "      <td>0</td>\n",
       "      <td>...</td>\n",
       "      <td>2.714286</td>\n",
       "      <td>2.714286</td>\n",
       "      <td>0.000000</td>\n",
       "      <td>0.000000</td>\n",
       "      <td>10.775510</td>\n",
       "      <td>0.000000</td>\n",
       "      <td>8.367347</td>\n",
       "      <td>0.000000</td>\n",
       "      <td>0.000000</td>\n",
       "      <td>9.836735</td>\n",
       "    </tr>\n",
       "    <tr>\n",
       "      <th>3</th>\n",
       "      <td>18</td>\n",
       "      <td>2012</td>\n",
       "      <td>3</td>\n",
       "      <td>0</td>\n",
       "      <td>1</td>\n",
       "      <td>0</td>\n",
       "      <td>1</td>\n",
       "      <td>0</td>\n",
       "      <td>1</td>\n",
       "      <td>0</td>\n",
       "      <td>...</td>\n",
       "      <td>4.200000</td>\n",
       "      <td>4.200000</td>\n",
       "      <td>0.000000</td>\n",
       "      <td>0.000000</td>\n",
       "      <td>12.100000</td>\n",
       "      <td>0.000000</td>\n",
       "      <td>9.400000</td>\n",
       "      <td>0.000000</td>\n",
       "      <td>0.000000</td>\n",
       "      <td>9.960000</td>\n",
       "    </tr>\n",
       "    <tr>\n",
       "      <th>4</th>\n",
       "      <td>18</td>\n",
       "      <td>2012</td>\n",
       "      <td>4</td>\n",
       "      <td>0</td>\n",
       "      <td>1</td>\n",
       "      <td>0</td>\n",
       "      <td>1</td>\n",
       "      <td>0</td>\n",
       "      <td>1</td>\n",
       "      <td>0</td>\n",
       "      <td>...</td>\n",
       "      <td>5.460000</td>\n",
       "      <td>5.460000</td>\n",
       "      <td>0.000000</td>\n",
       "      <td>0.000000</td>\n",
       "      <td>13.360000</td>\n",
       "      <td>0.000000</td>\n",
       "      <td>10.320000</td>\n",
       "      <td>0.000000</td>\n",
       "      <td>0.000000</td>\n",
       "      <td>10.280000</td>\n",
       "    </tr>\n",
       "    <tr>\n",
       "      <th>...</th>\n",
       "      <td>...</td>\n",
       "      <td>...</td>\n",
       "      <td>...</td>\n",
       "      <td>...</td>\n",
       "      <td>...</td>\n",
       "      <td>...</td>\n",
       "      <td>...</td>\n",
       "      <td>...</td>\n",
       "      <td>...</td>\n",
       "      <td>...</td>\n",
       "      <td>...</td>\n",
       "      <td>...</td>\n",
       "      <td>...</td>\n",
       "      <td>...</td>\n",
       "      <td>...</td>\n",
       "      <td>...</td>\n",
       "      <td>...</td>\n",
       "      <td>...</td>\n",
       "      <td>...</td>\n",
       "      <td>...</td>\n",
       "      <td>...</td>\n",
       "    </tr>\n",
       "    <tr>\n",
       "      <th>643685</th>\n",
       "      <td>1827860</td>\n",
       "      <td>2013</td>\n",
       "      <td>1</td>\n",
       "      <td>0</td>\n",
       "      <td>0</td>\n",
       "      <td>0</td>\n",
       "      <td>1</td>\n",
       "      <td>0</td>\n",
       "      <td>0</td>\n",
       "      <td>1</td>\n",
       "      <td>...</td>\n",
       "      <td>0.000000</td>\n",
       "      <td>0.000000</td>\n",
       "      <td>0.000000</td>\n",
       "      <td>0.000000</td>\n",
       "      <td>0.612903</td>\n",
       "      <td>0.000000</td>\n",
       "      <td>0.000000</td>\n",
       "      <td>0.000000</td>\n",
       "      <td>0.000000</td>\n",
       "      <td>0.000000</td>\n",
       "    </tr>\n",
       "    <tr>\n",
       "      <th>643686</th>\n",
       "      <td>1827860</td>\n",
       "      <td>2015</td>\n",
       "      <td>2</td>\n",
       "      <td>1</td>\n",
       "      <td>0</td>\n",
       "      <td>0</td>\n",
       "      <td>1</td>\n",
       "      <td>0</td>\n",
       "      <td>1</td>\n",
       "      <td>0</td>\n",
       "      <td>...</td>\n",
       "      <td>0.000000</td>\n",
       "      <td>0.000000</td>\n",
       "      <td>0.212121</td>\n",
       "      <td>0.212121</td>\n",
       "      <td>17.363636</td>\n",
       "      <td>0.000000</td>\n",
       "      <td>8.909091</td>\n",
       "      <td>0.000000</td>\n",
       "      <td>0.000000</td>\n",
       "      <td>7.121212</td>\n",
       "    </tr>\n",
       "    <tr>\n",
       "      <th>643687</th>\n",
       "      <td>1827860</td>\n",
       "      <td>2016</td>\n",
       "      <td>3</td>\n",
       "      <td>1</td>\n",
       "      <td>0</td>\n",
       "      <td>0</td>\n",
       "      <td>1</td>\n",
       "      <td>1</td>\n",
       "      <td>0</td>\n",
       "      <td>1</td>\n",
       "      <td>...</td>\n",
       "      <td>0.000000</td>\n",
       "      <td>0.000000</td>\n",
       "      <td>0.294118</td>\n",
       "      <td>0.205882</td>\n",
       "      <td>34.705882</td>\n",
       "      <td>0.000000</td>\n",
       "      <td>10.352941</td>\n",
       "      <td>1.705882</td>\n",
       "      <td>1.705882</td>\n",
       "      <td>23.911765</td>\n",
       "    </tr>\n",
       "    <tr>\n",
       "      <th>643688</th>\n",
       "      <td>1827869</td>\n",
       "      <td>2013</td>\n",
       "      <td>1</td>\n",
       "      <td>1</td>\n",
       "      <td>1</td>\n",
       "      <td>0</td>\n",
       "      <td>0</td>\n",
       "      <td>0</td>\n",
       "      <td>1</td>\n",
       "      <td>0</td>\n",
       "      <td>...</td>\n",
       "      <td>0.000000</td>\n",
       "      <td>0.000000</td>\n",
       "      <td>0.000000</td>\n",
       "      <td>0.000000</td>\n",
       "      <td>0.000000</td>\n",
       "      <td>0.525424</td>\n",
       "      <td>0.000000</td>\n",
       "      <td>0.000000</td>\n",
       "      <td>0.000000</td>\n",
       "      <td>0.000000</td>\n",
       "    </tr>\n",
       "    <tr>\n",
       "      <th>643689</th>\n",
       "      <td>1827869</td>\n",
       "      <td>2014</td>\n",
       "      <td>2</td>\n",
       "      <td>0</td>\n",
       "      <td>0</td>\n",
       "      <td>1</td>\n",
       "      <td>0</td>\n",
       "      <td>0</td>\n",
       "      <td>1</td>\n",
       "      <td>0</td>\n",
       "      <td>...</td>\n",
       "      <td>0.000000</td>\n",
       "      <td>0.666667</td>\n",
       "      <td>0.666667</td>\n",
       "      <td>0.000000</td>\n",
       "      <td>0.000000</td>\n",
       "      <td>8.950000</td>\n",
       "      <td>1.033333</td>\n",
       "      <td>0.083333</td>\n",
       "      <td>0.083333</td>\n",
       "      <td>8.133333</td>\n",
       "    </tr>\n",
       "  </tbody>\n",
       "</table>\n",
       "<p>643690 rows × 164 columns</p>\n",
       "</div>"
      ],
      "text/plain": [
       "         persnr  year  nrEntry  ltue  employed_before  receipt_leh_before  \\\n",
       "0             7  2015        1     0                1                   0   \n",
       "1            18  2010        1     1                0                   0   \n",
       "2            18  2011        2     0                1                   0   \n",
       "3            18  2012        3     0                1                   0   \n",
       "4            18  2012        4     0                1                   0   \n",
       "...         ...   ...      ...   ...              ...                 ...   \n",
       "643685  1827860  2013        1     0                0                   0   \n",
       "643686  1827860  2015        2     1                0                   0   \n",
       "643687  1827860  2016        3     1                0                   0   \n",
       "643688  1827869  2013        1     1                1                   0   \n",
       "643689  1827869  2014        2     0                0                   1   \n",
       "\n",
       "        receipt_lhg_before  se_before  ASU_notue_seeking_before  \\\n",
       "0                        0          0                         1   \n",
       "1                        0          0                         0   \n",
       "2                        1          0                         1   \n",
       "3                        1          0                         1   \n",
       "4                        1          0                         1   \n",
       "...                    ...        ...                       ...   \n",
       "643685                   1          0                         0   \n",
       "643686                   1          0                         1   \n",
       "643687                   1          1                         0   \n",
       "643688                   0          0                         1   \n",
       "643689                   0          0                         1   \n",
       "\n",
       "        ASU_other_before  ...  minijob_tot_dur_byage  ft_tot_dur_byage  \\\n",
       "0                      0  ...               0.000000          0.000000   \n",
       "1                      0  ...               0.000000          0.000000   \n",
       "2                      0  ...               2.714286          2.714286   \n",
       "3                      0  ...               4.200000          4.200000   \n",
       "4                      0  ...               5.460000          5.460000   \n",
       "...                  ...  ...                    ...               ...   \n",
       "643685                 1  ...               0.000000          0.000000   \n",
       "643686                 0  ...               0.000000          0.000000   \n",
       "643687                 1  ...               0.000000          0.000000   \n",
       "643688                 0  ...               0.000000          0.000000   \n",
       "643689                 0  ...               0.000000          0.666667   \n",
       "\n",
       "        befrist_tot_dur_byage  leih_tot_dur_byage  LHG_tot_dur_byage  \\\n",
       "0                   15.043478            0.000000           0.000000   \n",
       "1                    0.000000            0.000000           0.000000   \n",
       "2                    0.000000            0.000000          10.775510   \n",
       "3                    0.000000            0.000000          12.100000   \n",
       "4                    0.000000            0.000000          13.360000   \n",
       "...                       ...                 ...                ...   \n",
       "643685               0.000000            0.000000           0.612903   \n",
       "643686               0.212121            0.212121          17.363636   \n",
       "643687               0.294118            0.205882          34.705882   \n",
       "643688               0.000000            0.000000           0.000000   \n",
       "643689               0.666667            0.000000           0.000000   \n",
       "\n",
       "        LEH_tot_dur_byage  almp_tot_dur_byage  almp_aw_tot_dur_byage  \\\n",
       "0                0.000000            0.000000               0.000000   \n",
       "1                0.000000            0.000000               0.000000   \n",
       "2                0.000000            8.367347               0.000000   \n",
       "3                0.000000            9.400000               0.000000   \n",
       "4                0.000000           10.320000               0.000000   \n",
       "...                   ...                 ...                    ...   \n",
       "643685           0.000000            0.000000               0.000000   \n",
       "643686           0.000000            8.909091               0.000000   \n",
       "643687           0.000000           10.352941               1.705882   \n",
       "643688           0.525424            0.000000               0.000000   \n",
       "643689           8.950000            1.033333               0.083333   \n",
       "\n",
       "        se_tot_dur_byage  seeking1_tot_dur_byage  \n",
       "0               0.000000                0.000000  \n",
       "1               0.000000                0.000000  \n",
       "2               0.000000                9.836735  \n",
       "3               0.000000                9.960000  \n",
       "4               0.000000               10.280000  \n",
       "...                  ...                     ...  \n",
       "643685          0.000000                0.000000  \n",
       "643686          0.000000                7.121212  \n",
       "643687          1.705882               23.911765  \n",
       "643688          0.000000                0.000000  \n",
       "643689          0.083333                8.133333  \n",
       "\n",
       "[643690 rows x 164 columns]"
      ]
     },
     "execution_count": 10,
     "metadata": {},
     "output_type": "execute_result"
    }
   ],
   "source": [
    "siab"
   ]
  },
  {
   "cell_type": "markdown",
   "id": "1f87e805",
   "metadata": {
    "papermill": {
     "duration": 0.010997,
     "end_time": "2025-08-19T19:09:28.418253",
     "exception": false,
     "start_time": "2025-08-19T19:09:28.407256",
     "status": "completed"
    },
    "tags": []
   },
   "source": [
    "# Splitting Data and Setting Training Data Size"
   ]
  },
  {
   "cell_type": "code",
   "execution_count": 11,
   "id": "910ae358",
   "metadata": {
    "execution": {
     "iopub.execute_input": "2025-08-19T19:09:28.440316Z",
     "iopub.status.busy": "2025-08-19T19:09:28.439669Z",
     "iopub.status.idle": "2025-08-19T19:09:29.888847Z",
     "shell.execute_reply": "2025-08-19T19:09:29.887570Z"
    },
    "papermill": {
     "duration": 1.462565,
     "end_time": "2025-08-19T19:09:29.890402",
     "exception": false,
     "start_time": "2025-08-19T19:09:28.427837",
     "status": "completed"
    },
    "tags": []
   },
   "outputs": [],
   "source": [
    "from fairness_multiverse.universe import sample_by_year_size\n",
    "\n",
    "siab_train = sample_by_year_size(siab,\n",
    "                               training_year=universe[\"training_year\"],\n",
    "                               training_size=universe[\"training_size\"])"
   ]
  },
  {
   "cell_type": "code",
   "execution_count": 12,
   "id": "919c8ff5",
   "metadata": {
    "execution": {
     "iopub.execute_input": "2025-08-19T19:09:29.920069Z",
     "iopub.status.busy": "2025-08-19T19:09:29.919548Z",
     "iopub.status.idle": "2025-08-19T19:09:29.927483Z",
     "shell.execute_reply": "2025-08-19T19:09:29.926659Z"
    },
    "papermill": {
     "duration": 0.030959,
     "end_time": "2025-08-19T19:09:29.932026",
     "exception": false,
     "start_time": "2025-08-19T19:09:29.901067",
     "status": "completed"
    },
    "tags": []
   },
   "outputs": [
    {
     "data": {
      "text/plain": [
       "(1000, 164)"
      ]
     },
     "execution_count": 12,
     "metadata": {},
     "output_type": "execute_result"
    }
   ],
   "source": [
    "siab_train.shape"
   ]
  },
  {
   "cell_type": "code",
   "execution_count": 13,
   "id": "feb13bf4",
   "metadata": {
    "execution": {
     "iopub.execute_input": "2025-08-19T19:09:29.968880Z",
     "iopub.status.busy": "2025-08-19T19:09:29.968573Z",
     "iopub.status.idle": "2025-08-19T19:09:29.978029Z",
     "shell.execute_reply": "2025-08-19T19:09:29.976964Z"
    },
    "papermill": {
     "duration": 0.0245,
     "end_time": "2025-08-19T19:09:29.979415",
     "exception": false,
     "start_time": "2025-08-19T19:09:29.954915",
     "status": "completed"
    },
    "tags": []
   },
   "outputs": [
    {
     "data": {
      "text/plain": [
       "year\n",
       "2010    200\n",
       "2011    200\n",
       "2012    200\n",
       "2013    200\n",
       "2014    200\n",
       "dtype: int64"
      ]
     },
     "metadata": {},
     "output_type": "display_data"
    }
   ],
   "source": [
    "display(siab_train.groupby(\"year\").size())"
   ]
  },
  {
   "cell_type": "code",
   "execution_count": 14,
   "id": "0997782f",
   "metadata": {
    "execution": {
     "iopub.execute_input": "2025-08-19T19:09:30.004908Z",
     "iopub.status.busy": "2025-08-19T19:09:30.004093Z",
     "iopub.status.idle": "2025-08-19T19:09:30.564704Z",
     "shell.execute_reply": "2025-08-19T19:09:30.562414Z"
    },
    "papermill": {
     "duration": 0.576823,
     "end_time": "2025-08-19T19:09:30.567566",
     "exception": false,
     "start_time": "2025-08-19T19:09:29.990743",
     "status": "completed"
    },
    "tags": []
   },
   "outputs": [],
   "source": [
    "#siab_train = siab_s[siab_s.year < 2015]\n",
    "siab_calib = siab[siab.year == 2015]\n",
    "siab_test = siab[siab.year == 2016]"
   ]
  },
  {
   "cell_type": "code",
   "execution_count": 15,
   "id": "2c1e4012",
   "metadata": {
    "execution": {
     "iopub.execute_input": "2025-08-19T19:09:30.602947Z",
     "iopub.status.busy": "2025-08-19T19:09:30.602128Z",
     "iopub.status.idle": "2025-08-19T19:09:30.611116Z",
     "shell.execute_reply": "2025-08-19T19:09:30.609966Z"
    },
    "papermill": {
     "duration": 0.030126,
     "end_time": "2025-08-19T19:09:30.612635",
     "exception": false,
     "start_time": "2025-08-19T19:09:30.582509",
     "status": "completed"
    },
    "tags": []
   },
   "outputs": [],
   "source": [
    "#siab_calib.shape"
   ]
  },
  {
   "cell_type": "code",
   "execution_count": 16,
   "id": "f66b54ca",
   "metadata": {
    "execution": {
     "iopub.execute_input": "2025-08-19T19:09:30.640069Z",
     "iopub.status.busy": "2025-08-19T19:09:30.639080Z",
     "iopub.status.idle": "2025-08-19T19:09:30.645741Z",
     "shell.execute_reply": "2025-08-19T19:09:30.644553Z"
    },
    "papermill": {
     "duration": 0.023129,
     "end_time": "2025-08-19T19:09:30.647822",
     "exception": false,
     "start_time": "2025-08-19T19:09:30.624693",
     "status": "completed"
    },
    "tags": []
   },
   "outputs": [],
   "source": [
    "#siab_test.shape"
   ]
  },
  {
   "cell_type": "code",
   "execution_count": 17,
   "id": "27e4384d",
   "metadata": {
    "execution": {
     "iopub.execute_input": "2025-08-19T19:09:30.673750Z",
     "iopub.status.busy": "2025-08-19T19:09:30.673366Z",
     "iopub.status.idle": "2025-08-19T19:09:30.682181Z",
     "shell.execute_reply": "2025-08-19T19:09:30.678956Z"
    },
    "papermill": {
     "duration": 0.021374,
     "end_time": "2025-08-19T19:09:30.683740",
     "exception": false,
     "start_time": "2025-08-19T19:09:30.662366",
     "status": "completed"
    },
    "tags": []
   },
   "outputs": [],
   "source": [
    "X_train = siab_train.iloc[:,4:164]\n",
    "y_train = siab_train.iloc[:, [3]]"
   ]
  },
  {
   "cell_type": "code",
   "execution_count": 18,
   "id": "08ee8389",
   "metadata": {
    "execution": {
     "iopub.execute_input": "2025-08-19T19:09:30.716265Z",
     "iopub.status.busy": "2025-08-19T19:09:30.715813Z",
     "iopub.status.idle": "2025-08-19T19:09:30.774665Z",
     "shell.execute_reply": "2025-08-19T19:09:30.773603Z"
    },
    "papermill": {
     "duration": 0.073882,
     "end_time": "2025-08-19T19:09:30.776514",
     "exception": false,
     "start_time": "2025-08-19T19:09:30.702632",
     "status": "completed"
    },
    "tags": []
   },
   "outputs": [],
   "source": [
    "X_calib = siab_calib.iloc[:,4:164]\n",
    "y_calib = siab_calib.iloc[:, [3]]"
   ]
  },
  {
   "cell_type": "code",
   "execution_count": 19,
   "id": "b7ff42e0",
   "metadata": {
    "execution": {
     "iopub.execute_input": "2025-08-19T19:09:30.798030Z",
     "iopub.status.busy": "2025-08-19T19:09:30.797611Z",
     "iopub.status.idle": "2025-08-19T19:09:30.860725Z",
     "shell.execute_reply": "2025-08-19T19:09:30.859870Z"
    },
    "papermill": {
     "duration": 0.075159,
     "end_time": "2025-08-19T19:09:30.862039",
     "exception": false,
     "start_time": "2025-08-19T19:09:30.786880",
     "status": "completed"
    },
    "tags": []
   },
   "outputs": [],
   "source": [
    "X_test = siab_test.iloc[:,4:164]\n",
    "y_true = siab_test.iloc[:, [3]]"
   ]
  },
  {
   "cell_type": "code",
   "execution_count": 20,
   "id": "0275101e",
   "metadata": {
    "execution": {
     "iopub.execute_input": "2025-08-19T19:09:30.887434Z",
     "iopub.status.busy": "2025-08-19T19:09:30.886572Z",
     "iopub.status.idle": "2025-08-19T19:09:31.029285Z",
     "shell.execute_reply": "2025-08-19T19:09:31.028515Z"
    },
    "papermill": {
     "duration": 0.156003,
     "end_time": "2025-08-19T19:09:31.030708",
     "exception": false,
     "start_time": "2025-08-19T19:09:30.874705",
     "status": "completed"
    },
    "tags": []
   },
   "outputs": [],
   "source": [
    "# Auxiliary data needed downstream in the pipeline\n",
    "\n",
    "org_train = X_train.copy()\n",
    "org_test = X_test.copy()\n",
    "org_calib = X_calib.copy()"
   ]
  },
  {
   "cell_type": "markdown",
   "id": "b461e618",
   "metadata": {
    "papermill": {
     "duration": 0.010381,
     "end_time": "2025-08-19T19:09:31.051725",
     "exception": false,
     "start_time": "2025-08-19T19:09:31.041344",
     "status": "completed"
    },
    "tags": []
   },
   "source": [
    "# Preprocessing Data"
   ]
  },
  {
   "cell_type": "code",
   "execution_count": 21,
   "id": "78e74c4b",
   "metadata": {
    "execution": {
     "iopub.execute_input": "2025-08-19T19:09:31.074309Z",
     "iopub.status.busy": "2025-08-19T19:09:31.073380Z",
     "iopub.status.idle": "2025-08-19T19:09:31.082936Z",
     "shell.execute_reply": "2025-08-19T19:09:31.081565Z"
    },
    "papermill": {
     "duration": 0.023743,
     "end_time": "2025-08-19T19:09:31.085470",
     "exception": false,
     "start_time": "2025-08-19T19:09:31.061727",
     "status": "completed"
    },
    "tags": []
   },
   "outputs": [],
   "source": [
    "# EXCLUDE PROTECTED FEATURES\n",
    "# --------------------------\n",
    "\n",
    "excluded_features = universe[\"exclude_features\"].split(\"-\")\n",
    "excluded_features_dictionary = {\n",
    "    \"nationality\": [\"maxdeutsch1\", \"maxdeutsch.Missing.\"],\n",
    "    \"sex\": [\"frau1\"],\n",
    "    \"age\": [\"age\"],\n",
    "}"
   ]
  },
  {
   "cell_type": "code",
   "execution_count": 22,
   "id": "f8e63555",
   "metadata": {
    "execution": {
     "iopub.execute_input": "2025-08-19T19:09:31.110484Z",
     "iopub.status.busy": "2025-08-19T19:09:31.109566Z",
     "iopub.status.idle": "2025-08-19T19:09:31.117826Z",
     "shell.execute_reply": "2025-08-19T19:09:31.116618Z"
    },
    "papermill": {
     "duration": 0.021149,
     "end_time": "2025-08-19T19:09:31.119167",
     "exception": false,
     "start_time": "2025-08-19T19:09:31.098018",
     "status": "completed"
    },
    "tags": []
   },
   "outputs": [],
   "source": [
    "excluded_features_columns = [\n",
    "    excluded_features_dictionary[f] for f in excluded_features if len(f) > 0 and f != \"none\"\n",
    "]"
   ]
  },
  {
   "cell_type": "code",
   "execution_count": 23,
   "id": "da781f7c",
   "metadata": {
    "execution": {
     "iopub.execute_input": "2025-08-19T19:09:31.144774Z",
     "iopub.status.busy": "2025-08-19T19:09:31.143806Z",
     "iopub.status.idle": "2025-08-19T19:09:31.150931Z",
     "shell.execute_reply": "2025-08-19T19:09:31.149618Z"
    },
    "papermill": {
     "duration": 0.021458,
     "end_time": "2025-08-19T19:09:31.152450",
     "exception": false,
     "start_time": "2025-08-19T19:09:31.130992",
     "status": "completed"
    },
    "tags": []
   },
   "outputs": [],
   "source": [
    "from fairness_multiverse.universe import flatten_once\n",
    "\n",
    "excluded_features_columns = flatten_once(excluded_features_columns)"
   ]
  },
  {
   "cell_type": "code",
   "execution_count": 24,
   "id": "37fef0f0",
   "metadata": {
    "execution": {
     "iopub.execute_input": "2025-08-19T19:09:31.177624Z",
     "iopub.status.busy": "2025-08-19T19:09:31.177056Z",
     "iopub.status.idle": "2025-08-19T19:09:31.181823Z",
     "shell.execute_reply": "2025-08-19T19:09:31.181119Z"
    },
    "papermill": {
     "duration": 0.017561,
     "end_time": "2025-08-19T19:09:31.183011",
     "exception": false,
     "start_time": "2025-08-19T19:09:31.165450",
     "status": "completed"
    },
    "tags": []
   },
   "outputs": [],
   "source": [
    "if len(excluded_features_columns) > 0:\n",
    "    print(f\"Dropping features: {excluded_features_columns}\")\n",
    "    X_train.drop(excluded_features_columns, axis=1, inplace=True)"
   ]
  },
  {
   "cell_type": "code",
   "execution_count": 25,
   "id": "d029e3e9",
   "metadata": {
    "execution": {
     "iopub.execute_input": "2025-08-19T19:09:31.205723Z",
     "iopub.status.busy": "2025-08-19T19:09:31.205272Z",
     "iopub.status.idle": "2025-08-19T19:09:31.210430Z",
     "shell.execute_reply": "2025-08-19T19:09:31.209608Z"
    },
    "papermill": {
     "duration": 0.017844,
     "end_time": "2025-08-19T19:09:31.211695",
     "exception": false,
     "start_time": "2025-08-19T19:09:31.193851",
     "status": "completed"
    },
    "tags": []
   },
   "outputs": [],
   "source": [
    "if len(excluded_features_columns) > 0:\n",
    "    print(f\"Dropping features: {excluded_features_columns}\")\n",
    "    X_test.drop(excluded_features_columns, axis=1, inplace=True)"
   ]
  },
  {
   "cell_type": "code",
   "execution_count": 26,
   "id": "01d571f0",
   "metadata": {
    "execution": {
     "iopub.execute_input": "2025-08-19T19:09:31.237639Z",
     "iopub.status.busy": "2025-08-19T19:09:31.236581Z",
     "iopub.status.idle": "2025-08-19T19:09:31.243316Z",
     "shell.execute_reply": "2025-08-19T19:09:31.242171Z"
    },
    "papermill": {
     "duration": 0.020667,
     "end_time": "2025-08-19T19:09:31.244662",
     "exception": false,
     "start_time": "2025-08-19T19:09:31.223995",
     "status": "completed"
    },
    "tags": []
   },
   "outputs": [],
   "source": [
    "if len(excluded_features_columns) > 0:\n",
    "    print(f\"Dropping features: {excluded_features_columns}\")\n",
    "    X_calib.drop(excluded_features_columns, axis=1, inplace=True)"
   ]
  },
  {
   "cell_type": "code",
   "execution_count": 27,
   "id": "3037356e",
   "metadata": {
    "execution": {
     "iopub.execute_input": "2025-08-19T19:09:31.275011Z",
     "iopub.status.busy": "2025-08-19T19:09:31.273939Z",
     "iopub.status.idle": "2025-08-19T19:09:31.282398Z",
     "shell.execute_reply": "2025-08-19T19:09:31.281272Z"
    },
    "papermill": {
     "duration": 0.025383,
     "end_time": "2025-08-19T19:09:31.283708",
     "exception": false,
     "start_time": "2025-08-19T19:09:31.258325",
     "status": "completed"
    },
    "tags": []
   },
   "outputs": [],
   "source": [
    "# EXCLUDE CERTAIN SUBGROUPS\n",
    "# -------------------------\n",
    "\n",
    "mode = universe.get(\"exclude_subgroups\", \"keep-all\") # Defaults to \"keep-all\" if the key is missing."
   ]
  },
  {
   "cell_type": "code",
   "execution_count": 28,
   "id": "9d1e63fd",
   "metadata": {
    "execution": {
     "iopub.execute_input": "2025-08-19T19:09:31.309364Z",
     "iopub.status.busy": "2025-08-19T19:09:31.308979Z",
     "iopub.status.idle": "2025-08-19T19:09:31.314772Z",
     "shell.execute_reply": "2025-08-19T19:09:31.314102Z"
    },
    "papermill": {
     "duration": 0.018978,
     "end_time": "2025-08-19T19:09:31.316584",
     "exception": false,
     "start_time": "2025-08-19T19:09:31.297606",
     "status": "completed"
    },
    "tags": []
   },
   "outputs": [],
   "source": [
    "if mode == \"keep-all\":\n",
    "    keep_mask = pd.Series(True, index=org_train.index)\n",
    "\n",
    "elif mode == \"drop-non-german\":\n",
    "    keep_mask = (org_train[\"maxdeutsch1\"] == 1) & (org_train[\"maxdeutsch.Missing.\"] == 0)\n",
    "\n",
    "else:\n",
    "    raise ValueError(f\"Unsupported mode for exclude_subgroups: {mode}\")"
   ]
  },
  {
   "cell_type": "code",
   "execution_count": 29,
   "id": "d3b65474",
   "metadata": {
    "execution": {
     "iopub.execute_input": "2025-08-19T19:09:31.341811Z",
     "iopub.status.busy": "2025-08-19T19:09:31.341425Z",
     "iopub.status.idle": "2025-08-19T19:09:31.348254Z",
     "shell.execute_reply": "2025-08-19T19:09:31.347482Z"
    },
    "papermill": {
     "duration": 0.020145,
     "end_time": "2025-08-19T19:09:31.349537",
     "exception": false,
     "start_time": "2025-08-19T19:09:31.329392",
     "status": "completed"
    },
    "tags": []
   },
   "outputs": [
    {
     "name": "stdout",
     "output_type": "stream",
     "text": [
      "Dropping 131 rows (13.10%) where mode='drop-non-german'\n"
     ]
    }
   ],
   "source": [
    "n_drop = (~keep_mask).sum() # Calculates how many rows are set to be dropped\n",
    "if n_drop > 0:\n",
    "    pct = n_drop / len(keep_mask) * 100\n",
    "    print(f\"Dropping {n_drop} rows ({pct:.2f}%) where mode='{mode}'\")"
   ]
  },
  {
   "cell_type": "code",
   "execution_count": 30,
   "id": "f44389b3",
   "metadata": {
    "execution": {
     "iopub.execute_input": "2025-08-19T19:09:31.373669Z",
     "iopub.status.busy": "2025-08-19T19:09:31.373119Z",
     "iopub.status.idle": "2025-08-19T19:09:31.379828Z",
     "shell.execute_reply": "2025-08-19T19:09:31.378707Z"
    },
    "papermill": {
     "duration": 0.019537,
     "end_time": "2025-08-19T19:09:31.381004",
     "exception": false,
     "start_time": "2025-08-19T19:09:31.361467",
     "status": "completed"
    },
    "tags": []
   },
   "outputs": [],
   "source": [
    "X_train = X_train[keep_mask]"
   ]
  },
  {
   "cell_type": "code",
   "execution_count": 31,
   "id": "ceca8c2a",
   "metadata": {
    "execution": {
     "iopub.execute_input": "2025-08-19T19:09:31.405424Z",
     "iopub.status.busy": "2025-08-19T19:09:31.404840Z",
     "iopub.status.idle": "2025-08-19T19:09:31.410192Z",
     "shell.execute_reply": "2025-08-19T19:09:31.409304Z"
    },
    "papermill": {
     "duration": 0.018057,
     "end_time": "2025-08-19T19:09:31.411481",
     "exception": false,
     "start_time": "2025-08-19T19:09:31.393424",
     "status": "completed"
    },
    "tags": []
   },
   "outputs": [],
   "source": [
    "y_train = y_train[keep_mask]"
   ]
  },
  {
   "cell_type": "markdown",
   "id": "04d31e2f",
   "metadata": {
    "papermill": {
     "duration": 0.01086,
     "end_time": "2025-08-19T19:09:31.433738",
     "exception": false,
     "start_time": "2025-08-19T19:09:31.422878",
     "status": "completed"
    },
    "tags": []
   },
   "source": [
    "# Model Training"
   ]
  },
  {
   "cell_type": "code",
   "execution_count": 32,
   "id": "db991733",
   "metadata": {
    "execution": {
     "iopub.execute_input": "2025-08-19T19:09:31.456674Z",
     "iopub.status.busy": "2025-08-19T19:09:31.456242Z",
     "iopub.status.idle": "2025-08-19T19:09:31.563257Z",
     "shell.execute_reply": "2025-08-19T19:09:31.562452Z"
    },
    "papermill": {
     "duration": 0.12017,
     "end_time": "2025-08-19T19:09:31.564841",
     "exception": false,
     "start_time": "2025-08-19T19:09:31.444671",
     "status": "completed"
    },
    "tags": []
   },
   "outputs": [],
   "source": [
    "from sklearn.linear_model import LogisticRegression\n",
    "from sklearn.ensemble import GradientBoostingClassifier, RandomForestClassifier\n",
    "\n",
    "if (universe[\"model\"] == \"logreg\"):\n",
    "    model = LogisticRegression() #penalty=\"none\", solver=\"newton-cg\", max_iter=1)\n",
    "elif (universe[\"model\"] == \"penalized_logreg\"):\n",
    "    model = LogisticRegression(penalty=\"l2\", C=0.1) #, solver=\"newton-cg\", max_iter=1)\n",
    "elif (universe[\"model\"] == \"rf\"):\n",
    "    model = RandomForestClassifier() # n_estimators=100, n_jobs=-1\n",
    "elif (universe[\"model\"] == \"gbm\"):\n",
    "    model = GradientBoostingClassifier()\n",
    "elif (universe[\"model\"] == \"elasticnet\"):\n",
    "    model = LogisticRegression(penalty = 'elasticnet', solver = 'saga', l1_ratio = 0.5) # max_iter=5000\n",
    "else:\n",
    "    raise \"Unsupported universe.model\""
   ]
  },
  {
   "cell_type": "code",
   "execution_count": 33,
   "id": "a4b5cd25",
   "metadata": {
    "execution": {
     "iopub.execute_input": "2025-08-19T19:09:31.590374Z",
     "iopub.status.busy": "2025-08-19T19:09:31.589370Z",
     "iopub.status.idle": "2025-08-19T19:09:31.598446Z",
     "shell.execute_reply": "2025-08-19T19:09:31.597197Z"
    },
    "papermill": {
     "duration": 0.023948,
     "end_time": "2025-08-19T19:09:31.600115",
     "exception": false,
     "start_time": "2025-08-19T19:09:31.576167",
     "status": "completed"
    },
    "tags": []
   },
   "outputs": [],
   "source": [
    "from sklearn.pipeline import Pipeline\n",
    "from sklearn.preprocessing import StandardScaler\n",
    "\n",
    "model = Pipeline([\n",
    "    #(\"continuous_processor\", continuous_processor),\n",
    "    #(\"categorical_preprocessor\", categorical_preprocessor),\n",
    "    (\"scale\", StandardScaler() if universe[\"scale\"] == \"scale\" else None), \n",
    "    (\"model\", model),\n",
    "])"
   ]
  },
  {
   "cell_type": "code",
   "execution_count": 34,
   "id": "283a904d",
   "metadata": {
    "execution": {
     "iopub.execute_input": "2025-08-19T19:09:31.628268Z",
     "iopub.status.busy": "2025-08-19T19:09:31.627130Z",
     "iopub.status.idle": "2025-08-19T19:09:31.688979Z",
     "shell.execute_reply": "2025-08-19T19:09:31.688298Z"
    },
    "papermill": {
     "duration": 0.079535,
     "end_time": "2025-08-19T19:09:31.693880",
     "exception": false,
     "start_time": "2025-08-19T19:09:31.614345",
     "status": "completed"
    },
    "tags": []
   },
   "outputs": [
    {
     "name": "stderr",
     "output_type": "stream",
     "text": [
      "/dss/dsshome1/0C/ra93lal2/.local/share/virtualenvs/CMA_Fairness_v2-3j10GkSs/lib/python3.10/site-packages/sklearn/linear_model/_logistic.py:444: ConvergenceWarning: lbfgs failed to converge (status=1):\n",
      "STOP: TOTAL NO. of ITERATIONS REACHED LIMIT.\n",
      "\n",
      "Increase the number of iterations (max_iter) or scale the data as shown in:\n",
      "    https://scikit-learn.org/stable/modules/preprocessing.html\n",
      "Please also refer to the documentation for alternative solver options:\n",
      "    https://scikit-learn.org/stable/modules/linear_model.html#logistic-regression\n",
      "  n_iter_i = _check_optimize_result(\n"
     ]
    },
    {
     "data": {
      "text/html": [
       "<style>#sk-container-id-1 {color: black;background-color: white;}#sk-container-id-1 pre{padding: 0;}#sk-container-id-1 div.sk-toggleable {background-color: white;}#sk-container-id-1 label.sk-toggleable__label {cursor: pointer;display: block;width: 100%;margin-bottom: 0;padding: 0.3em;box-sizing: border-box;text-align: center;}#sk-container-id-1 label.sk-toggleable__label-arrow:before {content: \"▸\";float: left;margin-right: 0.25em;color: #696969;}#sk-container-id-1 label.sk-toggleable__label-arrow:hover:before {color: black;}#sk-container-id-1 div.sk-estimator:hover label.sk-toggleable__label-arrow:before {color: black;}#sk-container-id-1 div.sk-toggleable__content {max-height: 0;max-width: 0;overflow: hidden;text-align: left;background-color: #f0f8ff;}#sk-container-id-1 div.sk-toggleable__content pre {margin: 0.2em;color: black;border-radius: 0.25em;background-color: #f0f8ff;}#sk-container-id-1 input.sk-toggleable__control:checked~div.sk-toggleable__content {max-height: 200px;max-width: 100%;overflow: auto;}#sk-container-id-1 input.sk-toggleable__control:checked~label.sk-toggleable__label-arrow:before {content: \"▾\";}#sk-container-id-1 div.sk-estimator input.sk-toggleable__control:checked~label.sk-toggleable__label {background-color: #d4ebff;}#sk-container-id-1 div.sk-label input.sk-toggleable__control:checked~label.sk-toggleable__label {background-color: #d4ebff;}#sk-container-id-1 input.sk-hidden--visually {border: 0;clip: rect(1px 1px 1px 1px);clip: rect(1px, 1px, 1px, 1px);height: 1px;margin: -1px;overflow: hidden;padding: 0;position: absolute;width: 1px;}#sk-container-id-1 div.sk-estimator {font-family: monospace;background-color: #f0f8ff;border: 1px dotted black;border-radius: 0.25em;box-sizing: border-box;margin-bottom: 0.5em;}#sk-container-id-1 div.sk-estimator:hover {background-color: #d4ebff;}#sk-container-id-1 div.sk-parallel-item::after {content: \"\";width: 100%;border-bottom: 1px solid gray;flex-grow: 1;}#sk-container-id-1 div.sk-label:hover label.sk-toggleable__label {background-color: #d4ebff;}#sk-container-id-1 div.sk-serial::before {content: \"\";position: absolute;border-left: 1px solid gray;box-sizing: border-box;top: 0;bottom: 0;left: 50%;z-index: 0;}#sk-container-id-1 div.sk-serial {display: flex;flex-direction: column;align-items: center;background-color: white;padding-right: 0.2em;padding-left: 0.2em;position: relative;}#sk-container-id-1 div.sk-item {position: relative;z-index: 1;}#sk-container-id-1 div.sk-parallel {display: flex;align-items: stretch;justify-content: center;background-color: white;position: relative;}#sk-container-id-1 div.sk-item::before, #sk-container-id-1 div.sk-parallel-item::before {content: \"\";position: absolute;border-left: 1px solid gray;box-sizing: border-box;top: 0;bottom: 0;left: 50%;z-index: -1;}#sk-container-id-1 div.sk-parallel-item {display: flex;flex-direction: column;z-index: 1;position: relative;background-color: white;}#sk-container-id-1 div.sk-parallel-item:first-child::after {align-self: flex-end;width: 50%;}#sk-container-id-1 div.sk-parallel-item:last-child::after {align-self: flex-start;width: 50%;}#sk-container-id-1 div.sk-parallel-item:only-child::after {width: 0;}#sk-container-id-1 div.sk-dashed-wrapped {border: 1px dashed gray;margin: 0 0.4em 0.5em 0.4em;box-sizing: border-box;padding-bottom: 0.4em;background-color: white;}#sk-container-id-1 div.sk-label label {font-family: monospace;font-weight: bold;display: inline-block;line-height: 1.2em;}#sk-container-id-1 div.sk-label-container {text-align: center;}#sk-container-id-1 div.sk-container {/* jupyter's `normalize.less` sets `[hidden] { display: none; }` but bootstrap.min.css set `[hidden] { display: none !important; }` so we also need the `!important` here to be able to override the default hidden behavior on the sphinx rendered scikit-learn.org. See: https://github.com/scikit-learn/scikit-learn/issues/21755 */display: inline-block !important;position: relative;}#sk-container-id-1 div.sk-text-repr-fallback {display: none;}</style><div id=\"sk-container-id-1\" class=\"sk-top-container\"><div class=\"sk-text-repr-fallback\"><pre>Pipeline(steps=[(&#x27;scale&#x27;, None), (&#x27;model&#x27;, LogisticRegression(C=0.1))])</pre><b>In a Jupyter environment, please rerun this cell to show the HTML representation or trust the notebook. <br />On GitHub, the HTML representation is unable to render, please try loading this page with nbviewer.org.</b></div><div class=\"sk-container\" hidden><div class=\"sk-item sk-dashed-wrapped\"><div class=\"sk-label-container\"><div class=\"sk-label sk-toggleable\"><input class=\"sk-toggleable__control sk-hidden--visually\" id=\"sk-estimator-id-1\" type=\"checkbox\" ><label for=\"sk-estimator-id-1\" class=\"sk-toggleable__label sk-toggleable__label-arrow\">Pipeline</label><div class=\"sk-toggleable__content\"><pre>Pipeline(steps=[(&#x27;scale&#x27;, None), (&#x27;model&#x27;, LogisticRegression(C=0.1))])</pre></div></div></div><div class=\"sk-serial\"><div class=\"sk-item\"><div class=\"sk-estimator sk-toggleable\"><input class=\"sk-toggleable__control sk-hidden--visually\" id=\"sk-estimator-id-2\" type=\"checkbox\" ><label for=\"sk-estimator-id-2\" class=\"sk-toggleable__label sk-toggleable__label-arrow\">None</label><div class=\"sk-toggleable__content\"><pre>None</pre></div></div></div><div class=\"sk-item\"><div class=\"sk-estimator sk-toggleable\"><input class=\"sk-toggleable__control sk-hidden--visually\" id=\"sk-estimator-id-3\" type=\"checkbox\" ><label for=\"sk-estimator-id-3\" class=\"sk-toggleable__label sk-toggleable__label-arrow\">LogisticRegression</label><div class=\"sk-toggleable__content\"><pre>LogisticRegression(C=0.1)</pre></div></div></div></div></div></div></div>"
      ],
      "text/plain": [
       "Pipeline(steps=[('scale', None), ('model', LogisticRegression(C=0.1))])"
      ]
     },
     "execution_count": 34,
     "metadata": {},
     "output_type": "execute_result"
    }
   ],
   "source": [
    "model.fit(X_train, y_train.values.ravel())"
   ]
  },
  {
   "cell_type": "code",
   "execution_count": 35,
   "id": "6e15e313",
   "metadata": {
    "execution": {
     "iopub.execute_input": "2025-08-19T19:09:31.731132Z",
     "iopub.status.busy": "2025-08-19T19:09:31.730739Z",
     "iopub.status.idle": "2025-08-19T19:09:31.825181Z",
     "shell.execute_reply": "2025-08-19T19:09:31.824487Z"
    },
    "papermill": {
     "duration": 0.108684,
     "end_time": "2025-08-19T19:09:31.827103",
     "exception": false,
     "start_time": "2025-08-19T19:09:31.718419",
     "status": "completed"
    },
    "tags": []
   },
   "outputs": [
    {
     "data": {
      "text/plain": [
       "0.8528592130197302"
      ]
     },
     "execution_count": 35,
     "metadata": {},
     "output_type": "execute_result"
    }
   ],
   "source": [
    "from fairness_multiverse.universe import predict_w_threshold\n",
    "\n",
    "probs_test = model.predict_proba(X_test)\n",
    "\n",
    "'''\n",
    "Below code returns a boolean array (or binary 0/1 array depending on how it’s used) where each element \n",
    "is True if the probability of class 1 is greater than or equal to the threshold, and False otherwise.\n",
    "'''\n",
    "y_pred_default = predict_w_threshold(probs_test, 0.5)\n",
    "\n",
    "from sklearn.metrics import accuracy_score\n",
    "\n",
    "# Naive prediction\n",
    "accuracy_score(y_true = y_true, y_pred = y_pred_default)"
   ]
  },
  {
   "cell_type": "code",
   "execution_count": 36,
   "id": "6f14067c",
   "metadata": {
    "execution": {
     "iopub.execute_input": "2025-08-19T19:09:31.859737Z",
     "iopub.status.busy": "2025-08-19T19:09:31.858782Z",
     "iopub.status.idle": "2025-08-19T19:09:31.951778Z",
     "shell.execute_reply": "2025-08-19T19:09:31.951038Z"
    },
    "papermill": {
     "duration": 0.109545,
     "end_time": "2025-08-19T19:09:31.954889",
     "exception": false,
     "start_time": "2025-08-19T19:09:31.845344",
     "status": "completed"
    },
    "tags": []
   },
   "outputs": [
    {
     "data": {
      "text/plain": [
       "array([0, 0, 0, ..., 0, 0, 0])"
      ]
     },
     "execution_count": 36,
     "metadata": {},
     "output_type": "execute_result"
    }
   ],
   "source": [
    "model.predict(X_test)"
   ]
  },
  {
   "cell_type": "markdown",
   "id": "3759920c",
   "metadata": {
    "papermill": {
     "duration": 0.012367,
     "end_time": "2025-08-19T19:09:31.990673",
     "exception": false,
     "start_time": "2025-08-19T19:09:31.978306",
     "status": "completed"
    },
    "tags": []
   },
   "source": [
    "# Conformal Prediction"
   ]
  },
  {
   "cell_type": "code",
   "execution_count": 37,
   "id": "14b27f59",
   "metadata": {
    "execution": {
     "iopub.execute_input": "2025-08-19T19:09:32.014789Z",
     "iopub.status.busy": "2025-08-19T19:09:32.013671Z",
     "iopub.status.idle": "2025-08-19T19:09:32.020520Z",
     "shell.execute_reply": "2025-08-19T19:09:32.019242Z"
    },
    "papermill": {
     "duration": 0.020526,
     "end_time": "2025-08-19T19:09:32.022026",
     "exception": false,
     "start_time": "2025-08-19T19:09:32.001500",
     "status": "completed"
    },
    "tags": []
   },
   "outputs": [],
   "source": [
    "# Miscoverage level for conformal prediction (10% allowed error rate => 90% target coverage)\n",
    "alpha = 0.1"
   ]
  },
  {
   "cell_type": "code",
   "execution_count": 38,
   "id": "59102472",
   "metadata": {
    "execution": {
     "iopub.execute_input": "2025-08-19T19:09:32.053866Z",
     "iopub.status.busy": "2025-08-19T19:09:32.052939Z",
     "iopub.status.idle": "2025-08-19T19:09:32.157544Z",
     "shell.execute_reply": "2025-08-19T19:09:32.156464Z"
    },
    "papermill": {
     "duration": 0.119975,
     "end_time": "2025-08-19T19:09:32.159163",
     "exception": false,
     "start_time": "2025-08-19T19:09:32.039188",
     "status": "completed"
    },
    "tags": []
   },
   "outputs": [],
   "source": [
    "probs_calib = model.predict_proba(X_calib)"
   ]
  },
  {
   "cell_type": "code",
   "execution_count": 39,
   "id": "a792d4dd",
   "metadata": {
    "execution": {
     "iopub.execute_input": "2025-08-19T19:09:32.183539Z",
     "iopub.status.busy": "2025-08-19T19:09:32.183175Z",
     "iopub.status.idle": "2025-08-19T19:09:32.190584Z",
     "shell.execute_reply": "2025-08-19T19:09:32.189101Z"
    },
    "papermill": {
     "duration": 0.026163,
     "end_time": "2025-08-19T19:09:32.197360",
     "exception": false,
     "start_time": "2025-08-19T19:09:32.171197",
     "status": "completed"
    },
    "tags": []
   },
   "outputs": [],
   "source": [
    "y_calib = y_calib.values.ravel().astype(int)"
   ]
  },
  {
   "cell_type": "code",
   "execution_count": 40,
   "id": "650fd033",
   "metadata": {
    "execution": {
     "iopub.execute_input": "2025-08-19T19:09:32.225951Z",
     "iopub.status.busy": "2025-08-19T19:09:32.225507Z",
     "iopub.status.idle": "2025-08-19T19:09:32.233320Z",
     "shell.execute_reply": "2025-08-19T19:09:32.232337Z"
    },
    "papermill": {
     "duration": 0.02266,
     "end_time": "2025-08-19T19:09:32.234697",
     "exception": false,
     "start_time": "2025-08-19T19:09:32.212037",
     "status": "completed"
    },
    "tags": []
   },
   "outputs": [],
   "source": [
    "from fairness_multiverse.conformal import compute_nc_scores\n",
    "\n",
    "# Compute nonconformity scores on calibration set (1 - probability of true class)\n",
    "nc_scores = compute_nc_scores(probs_calib, y_calib)"
   ]
  },
  {
   "cell_type": "code",
   "execution_count": 41,
   "id": "28ada44c",
   "metadata": {
    "execution": {
     "iopub.execute_input": "2025-08-19T19:09:32.261113Z",
     "iopub.status.busy": "2025-08-19T19:09:32.260675Z",
     "iopub.status.idle": "2025-08-19T19:09:32.270577Z",
     "shell.execute_reply": "2025-08-19T19:09:32.269509Z"
    },
    "papermill": {
     "duration": 0.023467,
     "end_time": "2025-08-19T19:09:32.271886",
     "exception": false,
     "start_time": "2025-08-19T19:09:32.248419",
     "status": "completed"
    },
    "tags": []
   },
   "outputs": [],
   "source": [
    "from fairness_multiverse.conformal import find_threshold\n",
    "\n",
    "# Find conformal threshold q_hat for the given alpha (split conformal method)\n",
    "q_hat = find_threshold(nc_scores, alpha)"
   ]
  },
  {
   "cell_type": "code",
   "execution_count": 42,
   "id": "df56469e",
   "metadata": {
    "execution": {
     "iopub.execute_input": "2025-08-19T19:09:32.298052Z",
     "iopub.status.busy": "2025-08-19T19:09:32.297695Z",
     "iopub.status.idle": "2025-08-19T19:09:32.306663Z",
     "shell.execute_reply": "2025-08-19T19:09:32.304603Z"
    },
    "papermill": {
     "duration": 0.024513,
     "end_time": "2025-08-19T19:09:32.307981",
     "exception": false,
     "start_time": "2025-08-19T19:09:32.283468",
     "status": "completed"
    },
    "tags": []
   },
   "outputs": [
    {
     "data": {
      "text/plain": [
       "0.6976117278465392"
      ]
     },
     "execution_count": 42,
     "metadata": {},
     "output_type": "execute_result"
    }
   ],
   "source": [
    "q_hat"
   ]
  },
  {
   "cell_type": "code",
   "execution_count": 43,
   "id": "aa1f5faa",
   "metadata": {
    "execution": {
     "iopub.execute_input": "2025-08-19T19:09:32.335780Z",
     "iopub.status.busy": "2025-08-19T19:09:32.335518Z",
     "iopub.status.idle": "2025-08-19T19:09:32.917340Z",
     "shell.execute_reply": "2025-08-19T19:09:32.916501Z"
    },
    "papermill": {
     "duration": 0.595973,
     "end_time": "2025-08-19T19:09:32.918902",
     "exception": false,
     "start_time": "2025-08-19T19:09:32.322929",
     "status": "completed"
    },
    "tags": []
   },
   "outputs": [],
   "source": [
    "from fairness_multiverse.conformal import predict_conformal_sets\n",
    "\n",
    "# Generate prediction sets for each test example\n",
    "pred_sets = predict_conformal_sets(model, X_test, q_hat)"
   ]
  },
  {
   "cell_type": "code",
   "execution_count": 44,
   "id": "97f67a6b",
   "metadata": {
    "execution": {
     "iopub.execute_input": "2025-08-19T19:09:32.944415Z",
     "iopub.status.busy": "2025-08-19T19:09:32.944104Z",
     "iopub.status.idle": "2025-08-19T19:09:32.949130Z",
     "shell.execute_reply": "2025-08-19T19:09:32.948340Z"
    },
    "papermill": {
     "duration": 0.020073,
     "end_time": "2025-08-19T19:09:32.951533",
     "exception": false,
     "start_time": "2025-08-19T19:09:32.931460",
     "status": "completed"
    },
    "tags": []
   },
   "outputs": [],
   "source": [
    "y_true = y_true.squeeze()"
   ]
  },
  {
   "cell_type": "code",
   "execution_count": 45,
   "id": "e700e9a7",
   "metadata": {
    "execution": {
     "iopub.execute_input": "2025-08-19T19:09:32.990911Z",
     "iopub.status.busy": "2025-08-19T19:09:32.989325Z",
     "iopub.status.idle": "2025-08-19T19:09:33.535415Z",
     "shell.execute_reply": "2025-08-19T19:09:33.534063Z"
    },
    "papermill": {
     "duration": 0.562708,
     "end_time": "2025-08-19T19:09:33.537093",
     "exception": false,
     "start_time": "2025-08-19T19:09:32.974385",
     "status": "completed"
    },
    "tags": []
   },
   "outputs": [],
   "source": [
    "from fairness_multiverse.conformal import evaluate_sets\n",
    "\n",
    "# Evaluate coverage and average set size on test data\n",
    "metrics = evaluate_sets(pred_sets, y_true)"
   ]
  },
  {
   "cell_type": "markdown",
   "id": "efbacec0",
   "metadata": {
    "papermill": {
     "duration": 0.011144,
     "end_time": "2025-08-19T19:09:33.560207",
     "exception": false,
     "start_time": "2025-08-19T19:09:33.549063",
     "status": "completed"
    },
    "tags": []
   },
   "source": [
    "# CP Metrics"
   ]
  },
  {
   "cell_type": "code",
   "execution_count": 46,
   "id": "9de55fb1",
   "metadata": {
    "execution": {
     "iopub.execute_input": "2025-08-19T19:09:33.584009Z",
     "iopub.status.busy": "2025-08-19T19:09:33.583530Z",
     "iopub.status.idle": "2025-08-19T19:09:33.590414Z",
     "shell.execute_reply": "2025-08-19T19:09:33.589804Z"
    },
    "papermill": {
     "duration": 0.020232,
     "end_time": "2025-08-19T19:09:33.591483",
     "exception": false,
     "start_time": "2025-08-19T19:09:33.571251",
     "status": "completed"
    },
    "tags": []
   },
   "outputs": [
    {
     "data": {
      "text/plain": [
       "{'coverage': 0.9119830565154387, 'avg_size': 1.2413443317355926}"
      ]
     },
     "execution_count": 46,
     "metadata": {},
     "output_type": "execute_result"
    }
   ],
   "source": [
    "metrics"
   ]
  },
  {
   "cell_type": "code",
   "execution_count": 47,
   "id": "64c340a1",
   "metadata": {
    "execution": {
     "iopub.execute_input": "2025-08-19T19:09:33.615929Z",
     "iopub.status.busy": "2025-08-19T19:09:33.615585Z",
     "iopub.status.idle": "2025-08-19T19:09:33.627896Z",
     "shell.execute_reply": "2025-08-19T19:09:33.626455Z"
    },
    "papermill": {
     "duration": 0.028272,
     "end_time": "2025-08-19T19:09:33.631431",
     "exception": false,
     "start_time": "2025-08-19T19:09:33.603159",
     "status": "completed"
    },
    "tags": []
   },
   "outputs": [],
   "source": [
    "example_universe = universe.copy()\n",
    "universe_training_year = example_universe.get(\"training_year\")\n",
    "universe_training_size = example_universe.get(\"training_size\")\n",
    "universe_scale = example_universe.get(\"scale\")\n",
    "universe_model = example_universe.get(\"model\")\n",
    "universe_exclude_features = example_universe.get(\"exclude_features\")\n",
    "universe_exclude_subgroups = example_universe.get(\"exclude_subgroups\")"
   ]
  },
  {
   "cell_type": "code",
   "execution_count": 48,
   "id": "dbb53cb4",
   "metadata": {
    "execution": {
     "iopub.execute_input": "2025-08-19T19:09:33.672970Z",
     "iopub.status.busy": "2025-08-19T19:09:33.672617Z",
     "iopub.status.idle": "2025-08-19T19:09:33.681832Z",
     "shell.execute_reply": "2025-08-19T19:09:33.680870Z"
    },
    "papermill": {
     "duration": 0.025154,
     "end_time": "2025-08-19T19:09:33.683173",
     "exception": false,
     "start_time": "2025-08-19T19:09:33.658019",
     "status": "completed"
    },
    "tags": []
   },
   "outputs": [],
   "source": [
    "cp_metrics_dict = {\n",
    "    \"universe_id\": [universe_id],\n",
    "    \"universe_training_year\": [universe_training_year],\n",
    "    \"universe_training_size\": [universe_training_size],\n",
    "    \"universe_scale\": [universe_scale],\n",
    "    \"universe_model\": [universe_model],\n",
    "    \"universe_exclude_features\": [universe_exclude_features],\n",
    "    \"universe_exclude_subgroups\": [universe_exclude_subgroups],\n",
    "    \"q_hat\": [q_hat],\n",
    "    \"coverage\": [metrics[\"coverage\"]],\n",
    "    \"avg_size\": [metrics[\"avg_size\"]],\n",
    "}"
   ]
  },
  {
   "cell_type": "code",
   "execution_count": 49,
   "id": "0d70d4b2",
   "metadata": {
    "execution": {
     "iopub.execute_input": "2025-08-19T19:09:33.710731Z",
     "iopub.status.busy": "2025-08-19T19:09:33.710398Z",
     "iopub.status.idle": "2025-08-19T19:09:33.758527Z",
     "shell.execute_reply": "2025-08-19T19:09:33.756706Z"
    },
    "papermill": {
     "duration": 0.063956,
     "end_time": "2025-08-19T19:09:33.761996",
     "exception": false,
     "start_time": "2025-08-19T19:09:33.698040",
     "status": "completed"
    },
    "tags": []
   },
   "outputs": [],
   "source": [
    "cp_metrics_df = pd.DataFrame(cp_metrics_dict)"
   ]
  },
  {
   "cell_type": "code",
   "execution_count": 50,
   "id": "b494403c",
   "metadata": {
    "execution": {
     "iopub.execute_input": "2025-08-19T19:09:33.798364Z",
     "iopub.status.busy": "2025-08-19T19:09:33.797017Z",
     "iopub.status.idle": "2025-08-19T19:09:33.885549Z",
     "shell.execute_reply": "2025-08-19T19:09:33.884805Z"
    },
    "papermill": {
     "duration": 0.104795,
     "end_time": "2025-08-19T19:09:33.888261",
     "exception": false,
     "start_time": "2025-08-19T19:09:33.783466",
     "status": "completed"
    },
    "tags": []
   },
   "outputs": [
    {
     "data": {
      "text/html": [
       "<div>\n",
       "<style scoped>\n",
       "    .dataframe tbody tr th:only-of-type {\n",
       "        vertical-align: middle;\n",
       "    }\n",
       "\n",
       "    .dataframe tbody tr th {\n",
       "        vertical-align: top;\n",
       "    }\n",
       "\n",
       "    .dataframe thead th {\n",
       "        text-align: right;\n",
       "    }\n",
       "</style>\n",
       "<table border=\"1\" class=\"dataframe\">\n",
       "  <thead>\n",
       "    <tr style=\"text-align: right;\">\n",
       "      <th></th>\n",
       "      <th>universe_id</th>\n",
       "      <th>universe_training_year</th>\n",
       "      <th>universe_training_size</th>\n",
       "      <th>universe_scale</th>\n",
       "      <th>universe_model</th>\n",
       "      <th>universe_exclude_features</th>\n",
       "      <th>universe_exclude_subgroups</th>\n",
       "      <th>q_hat</th>\n",
       "      <th>coverage</th>\n",
       "      <th>avg_size</th>\n",
       "    </tr>\n",
       "  </thead>\n",
       "  <tbody>\n",
       "    <tr>\n",
       "      <th>0</th>\n",
       "      <td>04a5e0e4364d640f6e9b4ea8aeae036c</td>\n",
       "      <td>2010_14</td>\n",
       "      <td>1k</td>\n",
       "      <td>do-not-scale</td>\n",
       "      <td>penalized_logreg</td>\n",
       "      <td>none</td>\n",
       "      <td>drop-non-german</td>\n",
       "      <td>0.697612</td>\n",
       "      <td>0.911983</td>\n",
       "      <td>1.241344</td>\n",
       "    </tr>\n",
       "  </tbody>\n",
       "</table>\n",
       "</div>"
      ],
      "text/plain": [
       "                        universe_id universe_training_year  \\\n",
       "0  04a5e0e4364d640f6e9b4ea8aeae036c                2010_14   \n",
       "\n",
       "  universe_training_size universe_scale    universe_model  \\\n",
       "0                     1k   do-not-scale  penalized_logreg   \n",
       "\n",
       "  universe_exclude_features universe_exclude_subgroups     q_hat  coverage  \\\n",
       "0                      none            drop-non-german  0.697612  0.911983   \n",
       "\n",
       "   avg_size  \n",
       "0  1.241344  "
      ]
     },
     "execution_count": 50,
     "metadata": {},
     "output_type": "execute_result"
    }
   ],
   "source": [
    "cp_metrics_df"
   ]
  },
  {
   "cell_type": "markdown",
   "id": "ed608b0b",
   "metadata": {
    "papermill": {
     "duration": 0.012963,
     "end_time": "2025-08-19T19:09:33.926414",
     "exception": false,
     "start_time": "2025-08-19T19:09:33.913451",
     "status": "completed"
    },
    "tags": []
   },
   "source": [
    "Conditional coverage & looking at subgroups"
   ]
  },
  {
   "cell_type": "code",
   "execution_count": 51,
   "id": "8968c366",
   "metadata": {
    "execution": {
     "iopub.execute_input": "2025-08-19T19:09:33.964212Z",
     "iopub.status.busy": "2025-08-19T19:09:33.963178Z",
     "iopub.status.idle": "2025-08-19T19:09:34.323717Z",
     "shell.execute_reply": "2025-08-19T19:09:34.322668Z"
    },
    "papermill": {
     "duration": 0.385988,
     "end_time": "2025-08-19T19:09:34.325435",
     "exception": false,
     "start_time": "2025-08-19T19:09:33.939447",
     "status": "completed"
    },
    "tags": []
   },
   "outputs": [],
   "source": [
    "from fairness_multiverse.conformal import build_cp_groups\n",
    "\n",
    "cp_groups_df = build_cp_groups(pred_sets, y_true, X_test.index, org_test)"
   ]
  },
  {
   "cell_type": "code",
   "execution_count": 52,
   "id": "292ddabf",
   "metadata": {
    "execution": {
     "iopub.execute_input": "2025-08-19T19:09:34.352442Z",
     "iopub.status.busy": "2025-08-19T19:09:34.352044Z",
     "iopub.status.idle": "2025-08-19T19:09:35.226539Z",
     "shell.execute_reply": "2025-08-19T19:09:35.224979Z"
    },
    "papermill": {
     "duration": 0.890793,
     "end_time": "2025-08-19T19:09:35.228507",
     "exception": false,
     "start_time": "2025-08-19T19:09:34.337714",
     "status": "completed"
    },
    "tags": []
   },
   "outputs": [],
   "source": [
    "# Define covered = 1 if true_label is in the predicted set\n",
    "cp_groups_df['covered'] = cp_groups_df.apply(\n",
    "    lambda r: int(r['true_label'] in r['pred_set']),\n",
    "    axis=1\n",
    ")"
   ]
  },
  {
   "cell_type": "code",
   "execution_count": 53,
   "id": "3a261692",
   "metadata": {
    "execution": {
     "iopub.execute_input": "2025-08-19T19:09:35.256038Z",
     "iopub.status.busy": "2025-08-19T19:09:35.255564Z",
     "iopub.status.idle": "2025-08-19T19:09:35.269484Z",
     "shell.execute_reply": "2025-08-19T19:09:35.268495Z"
    },
    "papermill": {
     "duration": 0.028543,
     "end_time": "2025-08-19T19:09:35.271061",
     "exception": false,
     "start_time": "2025-08-19T19:09:35.242518",
     "status": "completed"
    },
    "tags": []
   },
   "outputs": [],
   "source": [
    "subgroups = ['frau1','nongerman','nongerman_male','nongerman_female']\n",
    "\n",
    "# Conditional coverage for subgroup==1\n",
    "cond_coverage = {\n",
    "    g: cp_groups_df.loc[cp_groups_df[g]==1, 'covered'].mean()\n",
    "    for g in subgroups\n",
    "}"
   ]
  },
  {
   "cell_type": "code",
   "execution_count": 54,
   "id": "894fd600",
   "metadata": {
    "execution": {
     "iopub.execute_input": "2025-08-19T19:09:35.301131Z",
     "iopub.status.busy": "2025-08-19T19:09:35.300073Z",
     "iopub.status.idle": "2025-08-19T19:09:35.312281Z",
     "shell.execute_reply": "2025-08-19T19:09:35.310670Z"
    },
    "papermill": {
     "duration": 0.042013,
     "end_time": "2025-08-19T19:09:35.328359",
     "exception": false,
     "start_time": "2025-08-19T19:09:35.286346",
     "status": "completed"
    },
    "tags": []
   },
   "outputs": [
    {
     "data": {
      "text/plain": [
       "{'frau1': 0.9121714516781237,\n",
       " 'nongerman': 0.934991298489867,\n",
       " 'nongerman_male': 0.9474916689183104,\n",
       " 'nongerman_female': 0.9143070044709389}"
      ]
     },
     "execution_count": 54,
     "metadata": {},
     "output_type": "execute_result"
    }
   ],
   "source": [
    "cond_coverage"
   ]
  },
  {
   "cell_type": "code",
   "execution_count": 55,
   "id": "942895c7",
   "metadata": {
    "execution": {
     "iopub.execute_input": "2025-08-19T19:09:35.373986Z",
     "iopub.status.busy": "2025-08-19T19:09:35.373576Z",
     "iopub.status.idle": "2025-08-19T19:09:35.380186Z",
     "shell.execute_reply": "2025-08-19T19:09:35.379351Z"
    },
    "papermill": {
     "duration": 0.027417,
     "end_time": "2025-08-19T19:09:35.382106",
     "exception": false,
     "start_time": "2025-08-19T19:09:35.354689",
     "status": "completed"
    },
    "tags": []
   },
   "outputs": [],
   "source": [
    "for subgroup, cov in cond_coverage.items():\n",
    "    cp_metrics_df[f\"cov_{subgroup}\"] = cov"
   ]
  },
  {
   "cell_type": "code",
   "execution_count": 56,
   "id": "3970120f",
   "metadata": {
    "execution": {
     "iopub.execute_input": "2025-08-19T19:09:35.408171Z",
     "iopub.status.busy": "2025-08-19T19:09:35.407779Z",
     "iopub.status.idle": "2025-08-19T19:09:35.424427Z",
     "shell.execute_reply": "2025-08-19T19:09:35.423570Z"
    },
    "papermill": {
     "duration": 0.032955,
     "end_time": "2025-08-19T19:09:35.427750",
     "exception": false,
     "start_time": "2025-08-19T19:09:35.394795",
     "status": "completed"
    },
    "tags": []
   },
   "outputs": [
    {
     "data": {
      "text/html": [
       "<div>\n",
       "<style scoped>\n",
       "    .dataframe tbody tr th:only-of-type {\n",
       "        vertical-align: middle;\n",
       "    }\n",
       "\n",
       "    .dataframe tbody tr th {\n",
       "        vertical-align: top;\n",
       "    }\n",
       "\n",
       "    .dataframe thead th {\n",
       "        text-align: right;\n",
       "    }\n",
       "</style>\n",
       "<table border=\"1\" class=\"dataframe\">\n",
       "  <thead>\n",
       "    <tr style=\"text-align: right;\">\n",
       "      <th></th>\n",
       "      <th>universe_id</th>\n",
       "      <th>universe_training_year</th>\n",
       "      <th>universe_training_size</th>\n",
       "      <th>universe_scale</th>\n",
       "      <th>universe_model</th>\n",
       "      <th>universe_exclude_features</th>\n",
       "      <th>universe_exclude_subgroups</th>\n",
       "      <th>q_hat</th>\n",
       "      <th>coverage</th>\n",
       "      <th>avg_size</th>\n",
       "      <th>cov_frau1</th>\n",
       "      <th>cov_nongerman</th>\n",
       "      <th>cov_nongerman_male</th>\n",
       "      <th>cov_nongerman_female</th>\n",
       "    </tr>\n",
       "  </thead>\n",
       "  <tbody>\n",
       "    <tr>\n",
       "      <th>0</th>\n",
       "      <td>04a5e0e4364d640f6e9b4ea8aeae036c</td>\n",
       "      <td>2010_14</td>\n",
       "      <td>1k</td>\n",
       "      <td>do-not-scale</td>\n",
       "      <td>penalized_logreg</td>\n",
       "      <td>none</td>\n",
       "      <td>drop-non-german</td>\n",
       "      <td>0.697612</td>\n",
       "      <td>0.911983</td>\n",
       "      <td>1.241344</td>\n",
       "      <td>0.912171</td>\n",
       "      <td>0.934991</td>\n",
       "      <td>0.947492</td>\n",
       "      <td>0.914307</td>\n",
       "    </tr>\n",
       "  </tbody>\n",
       "</table>\n",
       "</div>"
      ],
      "text/plain": [
       "                        universe_id universe_training_year  \\\n",
       "0  04a5e0e4364d640f6e9b4ea8aeae036c                2010_14   \n",
       "\n",
       "  universe_training_size universe_scale    universe_model  \\\n",
       "0                     1k   do-not-scale  penalized_logreg   \n",
       "\n",
       "  universe_exclude_features universe_exclude_subgroups     q_hat  coverage  \\\n",
       "0                      none            drop-non-german  0.697612  0.911983   \n",
       "\n",
       "   avg_size  cov_frau1  cov_nongerman  cov_nongerman_male  \\\n",
       "0  1.241344   0.912171       0.934991            0.947492   \n",
       "\n",
       "   cov_nongerman_female  \n",
       "0              0.914307  "
      ]
     },
     "execution_count": 56,
     "metadata": {},
     "output_type": "execute_result"
    }
   ],
   "source": [
    "cp_metrics_df"
   ]
  },
  {
   "cell_type": "markdown",
   "id": "3fc519cc",
   "metadata": {
    "papermill": {
     "duration": 0.012643,
     "end_time": "2025-08-19T19:09:35.466381",
     "exception": false,
     "start_time": "2025-08-19T19:09:35.453738",
     "status": "completed"
    },
    "tags": []
   },
   "source": [
    "# (Fairness) Metrics"
   ]
  },
  {
   "cell_type": "code",
   "execution_count": 57,
   "id": "a2e5e155",
   "metadata": {
    "execution": {
     "iopub.execute_input": "2025-08-19T19:09:35.496094Z",
     "iopub.status.busy": "2025-08-19T19:09:35.494454Z",
     "iopub.status.idle": "2025-08-19T19:09:35.526954Z",
     "shell.execute_reply": "2025-08-19T19:09:35.526039Z"
    },
    "papermill": {
     "duration": 0.050396,
     "end_time": "2025-08-19T19:09:35.529803",
     "exception": false,
     "start_time": "2025-08-19T19:09:35.479407",
     "status": "completed"
    },
    "tags": []
   },
   "outputs": [],
   "source": [
    "colname_to_bin = \"maxdeutsch1\"\n",
    "majority_value = org_train[colname_to_bin].mode()[0]\n",
    "\n",
    "org_test[\"majmin\"] = np.where(org_test[colname_to_bin] == majority_value, \"majority\", \"minority\")"
   ]
  },
  {
   "cell_type": "code",
   "execution_count": 58,
   "id": "17e3e4d5",
   "metadata": {
    "execution": {
     "iopub.execute_input": "2025-08-19T19:09:35.573825Z",
     "iopub.status.busy": "2025-08-19T19:09:35.572670Z",
     "iopub.status.idle": "2025-08-19T19:09:37.303600Z",
     "shell.execute_reply": "2025-08-19T19:09:37.302148Z"
    },
    "papermill": {
     "duration": 1.749986,
     "end_time": "2025-08-19T19:09:37.306795",
     "exception": false,
     "start_time": "2025-08-19T19:09:35.556809",
     "status": "completed"
    },
    "tags": []
   },
   "outputs": [],
   "source": [
    "example_universe = universe.copy()\n",
    "example_universe[\"cutoff\"] = example_universe[\"cutoff\"][0]\n",
    "example_universe[\"eval_fairness_grouping\"] = example_universe[\"eval_fairness_grouping\"][0]\n",
    "fairness_dict, metric_frame = universe_analysis.compute_metrics(\n",
    "    example_universe,\n",
    "    y_pred_prob=probs_test,\n",
    "    y_test=y_true,\n",
    "    org_test=org_test,\n",
    ")"
   ]
  },
  {
   "cell_type": "markdown",
   "id": "1fb7a0e9",
   "metadata": {
    "papermill": {
     "duration": 0.024364,
     "end_time": "2025-08-19T19:09:37.367255",
     "exception": false,
     "start_time": "2025-08-19T19:09:37.342891",
     "status": "completed"
    },
    "tags": []
   },
   "source": [
    "# Overall"
   ]
  },
  {
   "cell_type": "markdown",
   "id": "be1784b1",
   "metadata": {
    "papermill": {
     "duration": 0.013658,
     "end_time": "2025-08-19T19:09:37.394121",
     "exception": false,
     "start_time": "2025-08-19T19:09:37.380463",
     "status": "completed"
    },
    "tags": []
   },
   "source": [
    "Main fairness target: Equalized Odds. Seems to be a better fit than equal opportunity, since we're not only interested in Y = 1. Seems to be a better fit than demographic parity, since we also care about accuracy, not just equal distribution of preds.\n",
    "\n",
    "Pick column for computation of fairness metrics\n",
    "\n",
    "Performance\n",
    "Overall performance measures, most interesting in relation to the measures split by group below"
   ]
  },
  {
   "cell_type": "code",
   "execution_count": 59,
   "id": "b7672bee",
   "metadata": {
    "execution": {
     "iopub.execute_input": "2025-08-19T19:09:37.435750Z",
     "iopub.status.busy": "2025-08-19T19:09:37.435268Z",
     "iopub.status.idle": "2025-08-19T19:09:37.452516Z",
     "shell.execute_reply": "2025-08-19T19:09:37.451392Z"
    },
    "papermill": {
     "duration": 0.034098,
     "end_time": "2025-08-19T19:09:37.454563",
     "exception": false,
     "start_time": "2025-08-19T19:09:37.420465",
     "status": "completed"
    },
    "tags": []
   },
   "outputs": [
    {
     "data": {
      "text/plain": [
       "accuracy                   0.213009\n",
       "balanced accuracy          0.523216\n",
       "f1                         0.234653\n",
       "precision                  0.134049\n",
       "false positive rate        0.894044\n",
       "false negative rate        0.059524\n",
       "selection rate             0.900000\n",
       "count                  89710.000000\n",
       "dtype: float64"
      ]
     },
     "execution_count": 59,
     "metadata": {},
     "output_type": "execute_result"
    }
   ],
   "source": [
    "metric_frame.overall"
   ]
  },
  {
   "cell_type": "markdown",
   "id": "d93333c9",
   "metadata": {
    "papermill": {
     "duration": 0.013109,
     "end_time": "2025-08-19T19:09:37.488523",
     "exception": false,
     "start_time": "2025-08-19T19:09:37.475414",
     "status": "completed"
    },
    "tags": []
   },
   "source": [
    "By Group"
   ]
  },
  {
   "cell_type": "code",
   "execution_count": 60,
   "id": "52256966",
   "metadata": {
    "execution": {
     "iopub.execute_input": "2025-08-19T19:09:37.516909Z",
     "iopub.status.busy": "2025-08-19T19:09:37.515409Z",
     "iopub.status.idle": "2025-08-19T19:09:37.540229Z",
     "shell.execute_reply": "2025-08-19T19:09:37.539259Z"
    },
    "papermill": {
     "duration": 0.041023,
     "end_time": "2025-08-19T19:09:37.542083",
     "exception": false,
     "start_time": "2025-08-19T19:09:37.501060",
     "status": "completed"
    },
    "tags": []
   },
   "outputs": [
    {
     "data": {
      "text/html": [
       "<div>\n",
       "<style scoped>\n",
       "    .dataframe tbody tr th:only-of-type {\n",
       "        vertical-align: middle;\n",
       "    }\n",
       "\n",
       "    .dataframe tbody tr th {\n",
       "        vertical-align: top;\n",
       "    }\n",
       "\n",
       "    .dataframe thead th {\n",
       "        text-align: right;\n",
       "    }\n",
       "</style>\n",
       "<table border=\"1\" class=\"dataframe\">\n",
       "  <thead>\n",
       "    <tr style=\"text-align: right;\">\n",
       "      <th></th>\n",
       "      <th>accuracy</th>\n",
       "      <th>balanced accuracy</th>\n",
       "      <th>f1</th>\n",
       "      <th>precision</th>\n",
       "      <th>false positive rate</th>\n",
       "      <th>false negative rate</th>\n",
       "      <th>selection rate</th>\n",
       "      <th>count</th>\n",
       "    </tr>\n",
       "    <tr>\n",
       "      <th>majmin</th>\n",
       "      <th></th>\n",
       "      <th></th>\n",
       "      <th></th>\n",
       "      <th></th>\n",
       "      <th></th>\n",
       "      <th></th>\n",
       "      <th></th>\n",
       "      <th></th>\n",
       "    </tr>\n",
       "  </thead>\n",
       "  <tbody>\n",
       "    <tr>\n",
       "      <th>majority</th>\n",
       "      <td>0.233382</td>\n",
       "      <td>0.528556</td>\n",
       "      <td>0.242720</td>\n",
       "      <td>0.139579</td>\n",
       "      <td>0.872647</td>\n",
       "      <td>0.070241</td>\n",
       "      <td>0.880194</td>\n",
       "      <td>69170.0</td>\n",
       "    </tr>\n",
       "    <tr>\n",
       "      <th>minority</th>\n",
       "      <td>0.144401</td>\n",
       "      <td>0.508558</td>\n",
       "      <td>0.209233</td>\n",
       "      <td>0.117093</td>\n",
       "      <td>0.964726</td>\n",
       "      <td>0.018159</td>\n",
       "      <td>0.966699</td>\n",
       "      <td>20540.0</td>\n",
       "    </tr>\n",
       "  </tbody>\n",
       "</table>\n",
       "</div>"
      ],
      "text/plain": [
       "          accuracy  balanced accuracy        f1  precision  \\\n",
       "majmin                                                       \n",
       "majority  0.233382           0.528556  0.242720   0.139579   \n",
       "minority  0.144401           0.508558  0.209233   0.117093   \n",
       "\n",
       "          false positive rate  false negative rate  selection rate    count  \n",
       "majmin                                                                       \n",
       "majority             0.872647             0.070241        0.880194  69170.0  \n",
       "minority             0.964726             0.018159        0.966699  20540.0  "
      ]
     },
     "execution_count": 60,
     "metadata": {},
     "output_type": "execute_result"
    }
   ],
   "source": [
    "metric_frame.by_group"
   ]
  },
  {
   "cell_type": "code",
   "execution_count": 61,
   "id": "6e6c20ae",
   "metadata": {
    "execution": {
     "iopub.execute_input": "2025-08-19T19:09:37.579729Z",
     "iopub.status.busy": "2025-08-19T19:09:37.578540Z",
     "iopub.status.idle": "2025-08-19T19:09:39.449634Z",
     "shell.execute_reply": "2025-08-19T19:09:39.448323Z"
    },
    "papermill": {
     "duration": 1.88813,
     "end_time": "2025-08-19T19:09:39.451614",
     "exception": false,
     "start_time": "2025-08-19T19:09:37.563484",
     "status": "completed"
    },
    "tags": []
   },
   "outputs": [
    {
     "data": {
      "text/plain": [
       "array([[<Axes: title={'center': 'accuracy'}, xlabel='majmin'>,\n",
       "        <Axes: title={'center': 'balanced accuracy'}, xlabel='majmin'>,\n",
       "        <Axes: title={'center': 'f1'}, xlabel='majmin'>],\n",
       "       [<Axes: title={'center': 'precision'}, xlabel='majmin'>,\n",
       "        <Axes: title={'center': 'false positive rate'}, xlabel='majmin'>,\n",
       "        <Axes: title={'center': 'false negative rate'}, xlabel='majmin'>],\n",
       "       [<Axes: title={'center': 'selection rate'}, xlabel='majmin'>,\n",
       "        <Axes: title={'center': 'count'}, xlabel='majmin'>,\n",
       "        <Axes: xlabel='majmin'>]], dtype=object)"
      ]
     },
     "execution_count": 61,
     "metadata": {},
     "output_type": "execute_result"
    },
    {
     "data": {
      "image/png": "[encoded data removed]",
      "text/plain": [
       "<Figure size 1200x800 with 9 Axes>"
      ]
     },
     "metadata": {},
     "output_type": "display_data"
    }
   ],
   "source": [
    "# In a graphic\n",
    "metric_frame.by_group.plot.bar(\n",
    "    subplots=True,\n",
    "    layout=[3, 3],\n",
    "    legend=False,\n",
    "    figsize=[12, 8],\n",
    "    title=\"Show all metrics\",\n",
    ")"
   ]
  },
  {
   "cell_type": "markdown",
   "id": "b2e433ae",
   "metadata": {
    "papermill": {
     "duration": 0.026164,
     "end_time": "2025-08-19T19:09:39.502808",
     "exception": false,
     "start_time": "2025-08-19T19:09:39.476644",
     "status": "completed"
    },
    "tags": []
   },
   "source": [
    "# Final Output"
   ]
  },
  {
   "cell_type": "code",
   "execution_count": 62,
   "id": "3871301e",
   "metadata": {
    "execution": {
     "iopub.execute_input": "2025-08-19T19:09:39.536331Z",
     "iopub.status.busy": "2025-08-19T19:09:39.535614Z",
     "iopub.status.idle": "2025-08-19T19:09:39.544970Z",
     "shell.execute_reply": "2025-08-19T19:09:39.544383Z"
    },
    "papermill": {
     "duration": 0.032745,
     "end_time": "2025-08-19T19:09:39.549051",
     "exception": false,
     "start_time": "2025-08-19T19:09:39.516306",
     "status": "completed"
    },
    "tags": []
   },
   "outputs": [
    {
     "data": {
      "text/plain": [
       "4"
      ]
     },
     "execution_count": 62,
     "metadata": {},
     "output_type": "execute_result"
    }
   ],
   "source": [
    "sub_universes = universe_analysis.generate_sub_universes()\n",
    "len(sub_universes)"
   ]
  },
  {
   "cell_type": "code",
   "execution_count": 63,
   "id": "d9cfdaca",
   "metadata": {
    "execution": {
     "iopub.execute_input": "2025-08-19T19:09:39.591501Z",
     "iopub.status.busy": "2025-08-19T19:09:39.590494Z",
     "iopub.status.idle": "2025-08-19T19:09:39.602218Z",
     "shell.execute_reply": "2025-08-19T19:09:39.600109Z"
    },
    "papermill": {
     "duration": 0.029103,
     "end_time": "2025-08-19T19:09:39.603685",
     "exception": false,
     "start_time": "2025-08-19T19:09:39.574582",
     "status": "completed"
    },
    "tags": []
   },
   "outputs": [],
   "source": [
    "def filter_sub_universe_data(sub_universe, org_test):\n",
    "    # Keep all rows — no filtering\n",
    "    keep_rows_mask = np.ones(org_test.shape[0], dtype=bool)\n",
    "\n",
    "    print(f\"[INFO] Keeping all rows: {keep_rows_mask.sum()} rows retained.\")\n",
    "    return keep_rows_mask"
   ]
  },
  {
   "cell_type": "code",
   "execution_count": 64,
   "id": "2bc31ac1",
   "metadata": {
    "execution": {
     "iopub.execute_input": "2025-08-19T19:09:39.637008Z",
     "iopub.status.busy": "2025-08-19T19:09:39.635973Z",
     "iopub.status.idle": "2025-08-19T19:09:46.491788Z",
     "shell.execute_reply": "2025-08-19T19:09:46.490791Z"
    },
    "papermill": {
     "duration": 6.872458,
     "end_time": "2025-08-19T19:09:46.492967",
     "exception": false,
     "start_time": "2025-08-19T19:09:39.620509",
     "status": "completed"
    },
    "tags": []
   },
   "outputs": [
    {
     "name": "stdout",
     "output_type": "stream",
     "text": [
      "Stopping execution_time clock.\n",
      "[INFO] Keeping all rows: 89710 rows retained.\n"
     ]
    },
    {
     "name": "stdout",
     "output_type": "stream",
     "text": [
      "[INFO] Keeping all rows: 89710 rows retained.\n"
     ]
    },
    {
     "name": "stdout",
     "output_type": "stream",
     "text": [
      "[INFO] Keeping all rows: 89710 rows retained.\n"
     ]
    },
    {
     "name": "stdout",
     "output_type": "stream",
     "text": [
      "[INFO] Keeping all rows: 89710 rows retained.\n"
     ]
    },
    {
     "data": {
      "text/html": [
       "<div>\n",
       "<style scoped>\n",
       "    .dataframe tbody tr th:only-of-type {\n",
       "        vertical-align: middle;\n",
       "    }\n",
       "\n",
       "    .dataframe tbody tr th {\n",
       "        vertical-align: top;\n",
       "    }\n",
       "\n",
       "    .dataframe thead th {\n",
       "        text-align: right;\n",
       "    }\n",
       "</style>\n",
       "<table border=\"1\" class=\"dataframe\">\n",
       "  <thead>\n",
       "    <tr style=\"text-align: right;\">\n",
       "      <th></th>\n",
       "      <th>run_no</th>\n",
       "      <th>universe_id</th>\n",
       "      <th>universe_settings</th>\n",
       "      <th>execution_time</th>\n",
       "      <th>test_size_n</th>\n",
       "      <th>test_size_frac</th>\n",
       "      <th>fair_main_equalized_odds_difference</th>\n",
       "      <th>fair_main_equalized_odds_ratio</th>\n",
       "      <th>fair_main_demographic_parity_difference</th>\n",
       "      <th>fair_main_demographic_parity_ratio</th>\n",
       "      <th>...</th>\n",
       "      <th>perf_grp_precision_0</th>\n",
       "      <th>perf_grp_precision_1</th>\n",
       "      <th>perf_grp_false positive rate_0</th>\n",
       "      <th>perf_grp_false positive rate_1</th>\n",
       "      <th>perf_grp_false negative rate_0</th>\n",
       "      <th>perf_grp_false negative rate_1</th>\n",
       "      <th>perf_grp_selection rate_0</th>\n",
       "      <th>perf_grp_selection rate_1</th>\n",
       "      <th>perf_grp_count_0</th>\n",
       "      <th>perf_grp_count_1</th>\n",
       "    </tr>\n",
       "  </thead>\n",
       "  <tbody>\n",
       "    <tr>\n",
       "      <th>0</th>\n",
       "      <td>3</td>\n",
       "      <td>04a5e0e4364d640f6e9b4ea8aeae036c</td>\n",
       "      <td>{\"cutoff\": \"quantile_0.1\", \"eval_fairness_grou...</td>\n",
       "      <td>21.719146</td>\n",
       "      <td>89710</td>\n",
       "      <td>1.0</td>\n",
       "      <td>0.092079</td>\n",
       "      <td>0.904554</td>\n",
       "      <td>0.086505</td>\n",
       "      <td>0.910515</td>\n",
       "      <td>...</td>\n",
       "      <td>NaN</td>\n",
       "      <td>NaN</td>\n",
       "      <td>NaN</td>\n",
       "      <td>NaN</td>\n",
       "      <td>NaN</td>\n",
       "      <td>NaN</td>\n",
       "      <td>NaN</td>\n",
       "      <td>NaN</td>\n",
       "      <td>NaN</td>\n",
       "      <td>NaN</td>\n",
       "    </tr>\n",
       "    <tr>\n",
       "      <th>0</th>\n",
       "      <td>3</td>\n",
       "      <td>04a5e0e4364d640f6e9b4ea8aeae036c</td>\n",
       "      <td>{\"cutoff\": \"quantile_0.1\", \"eval_fairness_grou...</td>\n",
       "      <td>21.719146</td>\n",
       "      <td>89710</td>\n",
       "      <td>1.0</td>\n",
       "      <td>0.092079</td>\n",
       "      <td>0.904554</td>\n",
       "      <td>0.086505</td>\n",
       "      <td>0.910515</td>\n",
       "      <td>...</td>\n",
       "      <td>0.117093</td>\n",
       "      <td>0.139579</td>\n",
       "      <td>0.964726</td>\n",
       "      <td>0.872647</td>\n",
       "      <td>0.018159</td>\n",
       "      <td>0.070241</td>\n",
       "      <td>0.966699</td>\n",
       "      <td>0.880194</td>\n",
       "      <td>20540.0</td>\n",
       "      <td>69170.0</td>\n",
       "    </tr>\n",
       "    <tr>\n",
       "      <th>0</th>\n",
       "      <td>3</td>\n",
       "      <td>04a5e0e4364d640f6e9b4ea8aeae036c</td>\n",
       "      <td>{\"cutoff\": \"quantile_0.25\", \"eval_fairness_gro...</td>\n",
       "      <td>21.719146</td>\n",
       "      <td>89710</td>\n",
       "      <td>1.0</td>\n",
       "      <td>0.208257</td>\n",
       "      <td>0.766680</td>\n",
       "      <td>0.193476</td>\n",
       "      <td>0.784829</td>\n",
       "      <td>...</td>\n",
       "      <td>NaN</td>\n",
       "      <td>NaN</td>\n",
       "      <td>NaN</td>\n",
       "      <td>NaN</td>\n",
       "      <td>NaN</td>\n",
       "      <td>NaN</td>\n",
       "      <td>NaN</td>\n",
       "      <td>NaN</td>\n",
       "      <td>NaN</td>\n",
       "      <td>NaN</td>\n",
       "    </tr>\n",
       "    <tr>\n",
       "      <th>0</th>\n",
       "      <td>3</td>\n",
       "      <td>04a5e0e4364d640f6e9b4ea8aeae036c</td>\n",
       "      <td>{\"cutoff\": \"quantile_0.25\", \"eval_fairness_gro...</td>\n",
       "      <td>21.719146</td>\n",
       "      <td>89710</td>\n",
       "      <td>1.0</td>\n",
       "      <td>0.208257</td>\n",
       "      <td>0.766680</td>\n",
       "      <td>0.193476</td>\n",
       "      <td>0.784829</td>\n",
       "      <td>...</td>\n",
       "      <td>0.121772</td>\n",
       "      <td>0.158421</td>\n",
       "      <td>0.892582</td>\n",
       "      <td>0.684325</td>\n",
       "      <td>0.050253</td>\n",
       "      <td>0.153939</td>\n",
       "      <td>0.899172</td>\n",
       "      <td>0.705696</td>\n",
       "      <td>20540.0</td>\n",
       "      <td>69170.0</td>\n",
       "    </tr>\n",
       "  </tbody>\n",
       "</table>\n",
       "<p>4 rows × 50 columns</p>\n",
       "</div>"
      ],
      "text/plain": [
       "  run_no                       universe_id  \\\n",
       "0      3  04a5e0e4364d640f6e9b4ea8aeae036c   \n",
       "0      3  04a5e0e4364d640f6e9b4ea8aeae036c   \n",
       "0      3  04a5e0e4364d640f6e9b4ea8aeae036c   \n",
       "0      3  04a5e0e4364d640f6e9b4ea8aeae036c   \n",
       "\n",
       "                                   universe_settings  execution_time  \\\n",
       "0  {\"cutoff\": \"quantile_0.1\", \"eval_fairness_grou...       21.719146   \n",
       "0  {\"cutoff\": \"quantile_0.1\", \"eval_fairness_grou...       21.719146   \n",
       "0  {\"cutoff\": \"quantile_0.25\", \"eval_fairness_gro...       21.719146   \n",
       "0  {\"cutoff\": \"quantile_0.25\", \"eval_fairness_gro...       21.719146   \n",
       "\n",
       "   test_size_n  test_size_frac  fair_main_equalized_odds_difference  \\\n",
       "0        89710             1.0                             0.092079   \n",
       "0        89710             1.0                             0.092079   \n",
       "0        89710             1.0                             0.208257   \n",
       "0        89710             1.0                             0.208257   \n",
       "\n",
       "   fair_main_equalized_odds_ratio  fair_main_demographic_parity_difference  \\\n",
       "0                        0.904554                                 0.086505   \n",
       "0                        0.904554                                 0.086505   \n",
       "0                        0.766680                                 0.193476   \n",
       "0                        0.766680                                 0.193476   \n",
       "\n",
       "   fair_main_demographic_parity_ratio  ...  perf_grp_precision_0  \\\n",
       "0                            0.910515  ...                   NaN   \n",
       "0                            0.910515  ...              0.117093   \n",
       "0                            0.784829  ...                   NaN   \n",
       "0                            0.784829  ...              0.121772   \n",
       "\n",
       "   perf_grp_precision_1  perf_grp_false positive rate_0  \\\n",
       "0                   NaN                             NaN   \n",
       "0              0.139579                        0.964726   \n",
       "0                   NaN                             NaN   \n",
       "0              0.158421                        0.892582   \n",
       "\n",
       "   perf_grp_false positive rate_1  perf_grp_false negative rate_0  \\\n",
       "0                             NaN                             NaN   \n",
       "0                        0.872647                        0.018159   \n",
       "0                             NaN                             NaN   \n",
       "0                        0.684325                        0.050253   \n",
       "\n",
       "   perf_grp_false negative rate_1  perf_grp_selection rate_0  \\\n",
       "0                             NaN                        NaN   \n",
       "0                        0.070241                   0.966699   \n",
       "0                             NaN                        NaN   \n",
       "0                        0.153939                   0.899172   \n",
       "\n",
       "   perf_grp_selection rate_1  perf_grp_count_0  perf_grp_count_1  \n",
       "0                        NaN               NaN               NaN  \n",
       "0                   0.880194           20540.0           69170.0  \n",
       "0                        NaN               NaN               NaN  \n",
       "0                   0.705696           20540.0           69170.0  \n",
       "\n",
       "[4 rows x 50 columns]"
      ]
     },
     "execution_count": 64,
     "metadata": {},
     "output_type": "execute_result"
    }
   ],
   "source": [
    "final_output = universe_analysis.generate_final_output(\n",
    "    y_pred_prob=probs_test,\n",
    "    y_test=y_true,\n",
    "    org_test=org_test,\n",
    "    filter_data=filter_sub_universe_data,\n",
    "    cp_metrics_df=cp_metrics_df,\n",
    "    save=True,\n",
    ")\n",
    "final_output"
   ]
  },
  {
   "cell_type": "code",
   "execution_count": null,
   "id": "8b80a1ff",
   "metadata": {
    "papermill": {
     "duration": 0.045261,
     "end_time": "2025-08-19T19:09:46.556320",
     "exception": false,
     "start_time": "2025-08-19T19:09:46.511059",
     "status": "completed"
    },
    "tags": []
   },
   "outputs": [],
   "source": []
  },
  {
   "cell_type": "code",
   "execution_count": null,
   "id": "275c9fad",
   "metadata": {
    "papermill": {
     "duration": 0.015556,
     "end_time": "2025-08-19T19:09:46.586504",
     "exception": false,
     "start_time": "2025-08-19T19:09:46.570948",
     "status": "completed"
    },
    "tags": []
   },
   "outputs": [],
   "source": []
  }
 ],
 "metadata": {
  "celltoolbar": "Tags",
  "kernelspec": {
   "display_name": "Python (CMA Fairness)",
   "language": "python",
   "name": "cma_fair_env"
  },
  "language_info": {
   "codemirror_mode": {
    "name": "ipython",
    "version": 3
   },
   "file_extension": ".py",
   "mimetype": "text/x-python",
   "name": "python",
   "nbconvert_exporter": "python",
   "pygments_lexer": "ipython3",
   "version": "3.10.12"
  },
  "papermill": {
   "default_parameters": {},
   "duration": 32.357537,
   "end_time": "2025-08-19T19:09:47.423903",
   "environment_variables": {},
   "exception": null,
   "input_path": "universe_analysis.ipynb",
   "output_path": "output/runs/3/notebooks/m_3-04a5e0e4364d640f6e9b4ea8aeae036c.ipynb",
   "parameters": {
    "output_dir": "output",
    "run_no": "3",
    "seed": "2023",
    "universe": "{\"cutoff\": [\"quantile_0.1\", \"quantile_0.25\"], \"eval_fairness_grouping\": [\"majority-minority\", \"nationality-all\"], \"exclude_features\": \"none\", \"exclude_subgroups\": \"drop-non-german\", \"model\": \"penalized_logreg\", \"scale\": \"do-not-scale\", \"training_size\": \"1k\", \"training_year\": \"2010_14\"}",
    "universe_id": "04a5e0e4364d640f6e9b4ea8aeae036c"
   },
   "start_time": "2025-08-19T19:09:15.066366",
   "version": "2.6.0"
  }
 },
 "nbformat": 4,
 "nbformat_minor": 5
}