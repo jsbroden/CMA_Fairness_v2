{
 "cells": [
  {
   "cell_type": "markdown",
   "id": "ef23dbb3",
   "metadata": {
    "papermill": {
     "duration": 0.014288,
     "end_time": "2025-08-19T18:33:11.403954",
     "exception": false,
     "start_time": "2025-08-19T18:33:11.389666",
     "status": "completed"
    },
    "tags": []
   },
   "source": [
    "# Setup"
   ]
  },
  {
   "cell_type": "code",
   "execution_count": 1,
   "id": "0bc8e7dc",
   "metadata": {
    "execution": {
     "iopub.execute_input": "2025-08-19T18:33:11.425779Z",
     "iopub.status.busy": "2025-08-19T18:33:11.424635Z",
     "iopub.status.idle": "2025-08-19T18:33:11.445927Z",
     "shell.execute_reply": "2025-08-19T18:33:11.444783Z"
    },
    "papermill": {
     "duration": 0.034694,
     "end_time": "2025-08-19T18:33:11.448990",
     "exception": false,
     "start_time": "2025-08-19T18:33:11.414296",
     "status": "completed"
    },
    "tags": []
   },
   "outputs": [
    {
     "name": "stdout",
     "output_type": "stream",
     "text": [
      "/dss/dsshome1/0C/ra93lal2/cma/CMA_Fairness_v2\n"
     ]
    },
    {
     "name": "stderr",
     "output_type": "stream",
     "text": [
      "/dss/dsshome1/0C/ra93lal2/.local/share/virtualenvs/CMA_Fairness_v2-3j10GkSs/lib/python3.10/site-packages/IPython/core/magics/osm.py:393: UserWarning: This is now an optional IPython functionality, using bookmarks requires you to install the `pickleshare` library.\n",
      "  bkms = self.shell.db.get('bookmarks', {})\n",
      "/dss/dsshome1/0C/ra93lal2/.local/share/virtualenvs/CMA_Fairness_v2-3j10GkSs/lib/python3.10/site-packages/IPython/core/magics/osm.py:417: UserWarning: This is now an optional IPython functionality, setting dhist requires you to install the `pickleshare` library.\n",
      "  self.shell.db['dhist'] = compress_dhist(dhist)[-100:]\n"
     ]
    }
   ],
   "source": [
    "%cd ~/cma/CMA_Fairness_v2"
   ]
  },
  {
   "cell_type": "markdown",
   "id": "9d235661",
   "metadata": {
    "papermill": {
     "duration": 0.010008,
     "end_time": "2025-08-19T18:33:11.473712",
     "exception": false,
     "start_time": "2025-08-19T18:33:11.463704",
     "status": "completed"
    },
    "tags": []
   },
   "source": [
    "The following cell holds the definition of our parameters, these values can be overriden by rendering the with e.g. the following command:\n",
    "\n",
    "papermill -p alpha 0.2 -p ratio 0.3 universe_analysis.ipynb output/test_run.ipynb"
   ]
  },
  {
   "cell_type": "code",
   "execution_count": 2,
   "id": "4a789d8e",
   "metadata": {
    "execution": {
     "iopub.execute_input": "2025-08-19T18:33:11.493759Z",
     "iopub.status.busy": "2025-08-19T18:33:11.492521Z",
     "iopub.status.idle": "2025-08-19T18:33:11.500956Z",
     "shell.execute_reply": "2025-08-19T18:33:11.499599Z"
    },
    "papermill": {
     "duration": 0.020595,
     "end_time": "2025-08-19T18:33:11.502999",
     "exception": false,
     "start_time": "2025-08-19T18:33:11.482404",
     "status": "completed"
    },
    "tags": []
   },
   "outputs": [
    {
     "name": "stdout",
     "output_type": "stream",
     "text": [
      "Current working directory: /dss/dsshome1/0C/ra93lal2/cma/CMA_Fairness_v2\n"
     ]
    }
   ],
   "source": [
    "import os\n",
    "print(\"Current working directory:\", os.getcwd())"
   ]
  },
  {
   "cell_type": "code",
   "execution_count": 3,
   "id": "4132aaed",
   "metadata": {
    "execution": {
     "iopub.execute_input": "2025-08-19T18:33:11.529596Z",
     "iopub.status.busy": "2025-08-19T18:33:11.528517Z",
     "iopub.status.idle": "2025-08-19T18:33:11.538164Z",
     "shell.execute_reply": "2025-08-19T18:33:11.536944Z"
    },
    "papermill": {
     "duration": 0.021656,
     "end_time": "2025-08-19T18:33:11.539659",
     "exception": false,
     "start_time": "2025-08-19T18:33:11.518003",
     "status": "completed"
    },
    "tags": [
     "parameters"
    ]
   },
   "outputs": [],
   "source": [
    "run_no = 0\n",
    "universe_id = \"test\"\n",
    "universe = {\n",
    "    \"training_size\": \"5k\", # \"25k\", \"5k\", \"1k\"\n",
    "    \"training_year\": \"2012_14\", # \"2014\", \"2012_14\", \"2010_14\"\n",
    "    \"scale\": \"scale\", # \"scale\", \"do-not-scale\",\n",
    "    \"model\": \"elasticnet\", # \"logreg\", \"penalized_logreg\", \"rf\", \"gbm\", \"elasticnet\"\n",
    "    \"cutoff\": [\"quantile_0.15\", \"quantile_0.30\"],\n",
    "    \"exclude_features\": \"age\", # \"none\", \"nationality\", \"sex\", \"nationality-sex\", \"age\"\n",
    "    \"exclude_subgroups\": \"drop-non-german\", # \"keep-all\", \"drop-non-german\"\n",
    "    \"eval_fairness_grouping\": [\"majority-minority\", \"nationality-all\"]\n",
    "}\n",
    "\n",
    "output_dir=\"./output\"\n",
    "seed=0"
   ]
  },
  {
   "cell_type": "code",
   "execution_count": 4,
   "id": "a284913a",
   "metadata": {
    "execution": {
     "iopub.execute_input": "2025-08-19T18:33:11.565546Z",
     "iopub.status.busy": "2025-08-19T18:33:11.564683Z",
     "iopub.status.idle": "2025-08-19T18:33:11.570830Z",
     "shell.execute_reply": "2025-08-19T18:33:11.569739Z"
    },
    "papermill": {
     "duration": 0.017662,
     "end_time": "2025-08-19T18:33:11.572401",
     "exception": false,
     "start_time": "2025-08-19T18:33:11.554739",
     "status": "completed"
    },
    "tags": [
     "injected-parameters"
    ]
   },
   "outputs": [],
   "source": [
    "# Parameters\n",
    "universe_id = \"879e5dc5a85f4f20f592797c92185d54\"\n",
    "run_no = \"3\"\n",
    "universe = \"{\\\"cutoff\\\": [\\\"quantile_0.1\\\", \\\"quantile_0.25\\\"], \\\"eval_fairness_grouping\\\": [\\\"majority-minority\\\", \\\"nationality-all\\\"], \\\"exclude_features\\\": \\\"none\\\", \\\"exclude_subgroups\\\": \\\"drop-non-german\\\", \\\"model\\\": \\\"gbm\\\", \\\"scale\\\": \\\"scale\\\", \\\"training_size\\\": \\\"5k\\\", \\\"training_year\\\": \\\"2012_14\\\"}\"\n",
    "output_dir = \"output\"\n",
    "seed = \"2023\"\n"
   ]
  },
  {
   "cell_type": "code",
   "execution_count": 5,
   "id": "a5d7941f",
   "metadata": {
    "execution": {
     "iopub.execute_input": "2025-08-19T18:33:11.594372Z",
     "iopub.status.busy": "2025-08-19T18:33:11.594046Z",
     "iopub.status.idle": "2025-08-19T18:33:11.597601Z",
     "shell.execute_reply": "2025-08-19T18:33:11.596904Z"
    },
    "papermill": {
     "duration": 0.014482,
     "end_time": "2025-08-19T18:33:11.598845",
     "exception": false,
     "start_time": "2025-08-19T18:33:11.584363",
     "status": "completed"
    },
    "tags": []
   },
   "outputs": [],
   "source": [
    "import json\n",
    "if isinstance(universe, str):\n",
    "    universe = json.loads(universe)"
   ]
  },
  {
   "cell_type": "code",
   "execution_count": 6,
   "id": "7076ccb1",
   "metadata": {
    "execution": {
     "iopub.execute_input": "2025-08-19T18:33:11.619571Z",
     "iopub.status.busy": "2025-08-19T18:33:11.619244Z",
     "iopub.status.idle": "2025-08-19T18:33:11.671062Z",
     "shell.execute_reply": "2025-08-19T18:33:11.670143Z"
    },
    "papermill": {
     "duration": 0.063375,
     "end_time": "2025-08-19T18:33:11.672631",
     "exception": false,
     "start_time": "2025-08-19T18:33:11.609256",
     "status": "completed"
    },
    "tags": []
   },
   "outputs": [],
   "source": [
    "# Auto-reload the custom package\n",
    "%load_ext autoreload\n",
    "%autoreload 1\n",
    "%aimport fairness_multiverse"
   ]
  },
  {
   "cell_type": "code",
   "execution_count": 7,
   "id": "94c8eb93",
   "metadata": {
    "execution": {
     "iopub.execute_input": "2025-08-19T18:33:11.692249Z",
     "iopub.status.busy": "2025-08-19T18:33:11.691983Z",
     "iopub.status.idle": "2025-08-19T18:33:13.273666Z",
     "shell.execute_reply": "2025-08-19T18:33:13.272569Z"
    },
    "papermill": {
     "duration": 1.593297,
     "end_time": "2025-08-19T18:33:13.275304",
     "exception": false,
     "start_time": "2025-08-19T18:33:11.682007",
     "status": "completed"
    },
    "tags": []
   },
   "outputs": [],
   "source": [
    "from fairness_multiverse.universe import UniverseAnalysis\n",
    "\n",
    "universe_analysis = UniverseAnalysis(\n",
    "    run_no = run_no,\n",
    "    universe_id = universe_id,\n",
    "    universe = universe,\n",
    "    output_dir=output_dir,\n",
    ")"
   ]
  },
  {
   "cell_type": "code",
   "execution_count": 8,
   "id": "2a6381cf",
   "metadata": {
    "execution": {
     "iopub.execute_input": "2025-08-19T18:33:13.297467Z",
     "iopub.status.busy": "2025-08-19T18:33:13.297126Z",
     "iopub.status.idle": "2025-08-19T18:33:13.302419Z",
     "shell.execute_reply": "2025-08-19T18:33:13.301700Z"
    },
    "papermill": {
     "duration": 0.017939,
     "end_time": "2025-08-19T18:33:13.303990",
     "exception": false,
     "start_time": "2025-08-19T18:33:13.286051",
     "status": "completed"
    },
    "tags": []
   },
   "outputs": [
    {
     "name": "stdout",
     "output_type": "stream",
     "text": [
      "Using Seed: 2023\n"
     ]
    }
   ],
   "source": [
    "import numpy as np\n",
    "parsed_seed = int(seed)\n",
    "np.random.seed(parsed_seed)\n",
    "print(f\"Using Seed: {parsed_seed}\")"
   ]
  },
  {
   "cell_type": "markdown",
   "id": "b6e958b4",
   "metadata": {
    "papermill": {
     "duration": 0.009599,
     "end_time": "2025-08-19T18:33:13.323786",
     "exception": false,
     "start_time": "2025-08-19T18:33:13.314187",
     "status": "completed"
    },
    "tags": []
   },
   "source": [
    "# Loading Data"
   ]
  },
  {
   "cell_type": "code",
   "execution_count": 9,
   "id": "98701482",
   "metadata": {
    "execution": {
     "iopub.execute_input": "2025-08-19T18:33:13.343925Z",
     "iopub.status.busy": "2025-08-19T18:33:13.343408Z",
     "iopub.status.idle": "2025-08-19T18:33:23.197631Z",
     "shell.execute_reply": "2025-08-19T18:33:23.196289Z"
    },
    "papermill": {
     "duration": 9.866379,
     "end_time": "2025-08-19T18:33:23.199267",
     "exception": false,
     "start_time": "2025-08-19T18:33:13.332888",
     "status": "completed"
    },
    "tags": []
   },
   "outputs": [
    {
     "name": "stdout",
     "output_type": "stream",
     "text": [
      "Loading SIAB data from cache: data/siab_cached.csv.gz\n"
     ]
    },
    {
     "name": "stdout",
     "output_type": "stream",
     "text": [
      "(643690, 164)\n"
     ]
    }
   ],
   "source": [
    "from pathlib import Path\n",
    "import pandas as pd\n",
    "\n",
    "# File paths\n",
    "raw_file = Path(\"data/raw/siab.csv\")\n",
    "cache_file = Path(\"data/siab_cached.csv.gz\")\n",
    "\n",
    "# Ensure cache directory exists\n",
    "cache_file.parent.mkdir(parents=True, exist_ok=True)\n",
    "\n",
    "# Load with simple caching\n",
    "if cache_file.exists():\n",
    "    print(f\"Loading SIAB data from cache: {cache_file}\")\n",
    "    siab = pd.read_csv(cache_file, compression='gzip')\n",
    "else:\n",
    "    print(f\"Cache not found. Reading raw SIAB data: {raw_file}\")\n",
    "    siab = pd.read_csv(raw_file)\n",
    "    siab.to_csv(cache_file, index=False, compression='gzip')\n",
    "    print(f\"Cached SIAB data to: {cache_file}\")\n",
    "\n",
    "print(siab.shape)"
   ]
  },
  {
   "cell_type": "code",
   "execution_count": 10,
   "id": "058d2abb",
   "metadata": {
    "execution": {
     "iopub.execute_input": "2025-08-19T18:33:23.237161Z",
     "iopub.status.busy": "2025-08-19T18:33:23.225597Z",
     "iopub.status.idle": "2025-08-19T18:33:23.472149Z",
     "shell.execute_reply": "2025-08-19T18:33:23.471404Z"
    },
    "papermill": {
     "duration": 0.261609,
     "end_time": "2025-08-19T18:33:23.473660",
     "exception": false,
     "start_time": "2025-08-19T18:33:23.212051",
     "status": "completed"
    },
    "tags": []
   },
   "outputs": [
    {
     "data": {
      "text/html": [
       "<div>\n",
       "<style scoped>\n",
       "    .dataframe tbody tr th:only-of-type {\n",
       "        vertical-align: middle;\n",
       "    }\n",
       "\n",
       "    .dataframe tbody tr th {\n",
       "        vertical-align: top;\n",
       "    }\n",
       "\n",
       "    .dataframe thead th {\n",
       "        text-align: right;\n",
       "    }\n",
       "</style>\n",
       "<table border=\"1\" class=\"dataframe\">\n",
       "  <thead>\n",
       "    <tr style=\"text-align: right;\">\n",
       "      <th></th>\n",
       "      <th>persnr</th>\n",
       "      <th>year</th>\n",
       "      <th>nrEntry</th>\n",
       "      <th>ltue</th>\n",
       "      <th>employed_before</th>\n",
       "      <th>receipt_leh_before</th>\n",
       "      <th>receipt_lhg_before</th>\n",
       "      <th>se_before</th>\n",
       "      <th>ASU_notue_seeking_before</th>\n",
       "      <th>ASU_other_before</th>\n",
       "      <th>...</th>\n",
       "      <th>minijob_tot_dur_byage</th>\n",
       "      <th>ft_tot_dur_byage</th>\n",
       "      <th>befrist_tot_dur_byage</th>\n",
       "      <th>leih_tot_dur_byage</th>\n",
       "      <th>LHG_tot_dur_byage</th>\n",
       "      <th>LEH_tot_dur_byage</th>\n",
       "      <th>almp_tot_dur_byage</th>\n",
       "      <th>almp_aw_tot_dur_byage</th>\n",
       "      <th>se_tot_dur_byage</th>\n",
       "      <th>seeking1_tot_dur_byage</th>\n",
       "    </tr>\n",
       "  </thead>\n",
       "  <tbody>\n",
       "    <tr>\n",
       "      <th>0</th>\n",
       "      <td>7</td>\n",
       "      <td>2015</td>\n",
       "      <td>1</td>\n",
       "      <td>0</td>\n",
       "      <td>1</td>\n",
       "      <td>0</td>\n",
       "      <td>0</td>\n",
       "      <td>0</td>\n",
       "      <td>1</td>\n",
       "      <td>0</td>\n",
       "      <td>...</td>\n",
       "      <td>0.000000</td>\n",
       "      <td>0.000000</td>\n",
       "      <td>15.043478</td>\n",
       "      <td>0.000000</td>\n",
       "      <td>0.000000</td>\n",
       "      <td>0.000000</td>\n",
       "      <td>0.000000</td>\n",
       "      <td>0.000000</td>\n",
       "      <td>0.000000</td>\n",
       "      <td>0.000000</td>\n",
       "    </tr>\n",
       "    <tr>\n",
       "      <th>1</th>\n",
       "      <td>18</td>\n",
       "      <td>2010</td>\n",
       "      <td>1</td>\n",
       "      <td>1</td>\n",
       "      <td>0</td>\n",
       "      <td>0</td>\n",
       "      <td>0</td>\n",
       "      <td>0</td>\n",
       "      <td>0</td>\n",
       "      <td>0</td>\n",
       "      <td>...</td>\n",
       "      <td>0.000000</td>\n",
       "      <td>0.000000</td>\n",
       "      <td>0.000000</td>\n",
       "      <td>0.000000</td>\n",
       "      <td>0.000000</td>\n",
       "      <td>0.000000</td>\n",
       "      <td>0.000000</td>\n",
       "      <td>0.000000</td>\n",
       "      <td>0.000000</td>\n",
       "      <td>0.000000</td>\n",
       "    </tr>\n",
       "    <tr>\n",
       "      <th>2</th>\n",
       "      <td>18</td>\n",
       "      <td>2011</td>\n",
       "      <td>2</td>\n",
       "      <td>0</td>\n",
       "      <td>1</td>\n",
       "      <td>0</td>\n",
       "      <td>1</td>\n",
       "      <td>0</td>\n",
       "      <td>1</td>\n",
       "      <td>0</td>\n",
       "      <td>...</td>\n",
       "      <td>2.714286</td>\n",
       "      <td>2.714286</td>\n",
       "      <td>0.000000</td>\n",
       "      <td>0.000000</td>\n",
       "      <td>10.775510</td>\n",
       "      <td>0.000000</td>\n",
       "      <td>8.367347</td>\n",
       "      <td>0.000000</td>\n",
       "      <td>0.000000</td>\n",
       "      <td>9.836735</td>\n",
       "    </tr>\n",
       "    <tr>\n",
       "      <th>3</th>\n",
       "      <td>18</td>\n",
       "      <td>2012</td>\n",
       "      <td>3</td>\n",
       "      <td>0</td>\n",
       "      <td>1</td>\n",
       "      <td>0</td>\n",
       "      <td>1</td>\n",
       "      <td>0</td>\n",
       "      <td>1</td>\n",
       "      <td>0</td>\n",
       "      <td>...</td>\n",
       "      <td>4.200000</td>\n",
       "      <td>4.200000</td>\n",
       "      <td>0.000000</td>\n",
       "      <td>0.000000</td>\n",
       "      <td>12.100000</td>\n",
       "      <td>0.000000</td>\n",
       "      <td>9.400000</td>\n",
       "      <td>0.000000</td>\n",
       "      <td>0.000000</td>\n",
       "      <td>9.960000</td>\n",
       "    </tr>\n",
       "    <tr>\n",
       "      <th>4</th>\n",
       "      <td>18</td>\n",
       "      <td>2012</td>\n",
       "      <td>4</td>\n",
       "      <td>0</td>\n",
       "      <td>1</td>\n",
       "      <td>0</td>\n",
       "      <td>1</td>\n",
       "      <td>0</td>\n",
       "      <td>1</td>\n",
       "      <td>0</td>\n",
       "      <td>...</td>\n",
       "      <td>5.460000</td>\n",
       "      <td>5.460000</td>\n",
       "      <td>0.000000</td>\n",
       "      <td>0.000000</td>\n",
       "      <td>13.360000</td>\n",
       "      <td>0.000000</td>\n",
       "      <td>10.320000</td>\n",
       "      <td>0.000000</td>\n",
       "      <td>0.000000</td>\n",
       "      <td>10.280000</td>\n",
       "    </tr>\n",
       "    <tr>\n",
       "      <th>...</th>\n",
       "      <td>...</td>\n",
       "      <td>...</td>\n",
       "      <td>...</td>\n",
       "      <td>...</td>\n",
       "      <td>...</td>\n",
       "      <td>...</td>\n",
       "      <td>...</td>\n",
       "      <td>...</td>\n",
       "      <td>...</td>\n",
       "      <td>...</td>\n",
       "      <td>...</td>\n",
       "      <td>...</td>\n",
       "      <td>...</td>\n",
       "      <td>...</td>\n",
       "      <td>...</td>\n",
       "      <td>...</td>\n",
       "      <td>...</td>\n",
       "      <td>...</td>\n",
       "      <td>...</td>\n",
       "      <td>...</td>\n",
       "      <td>...</td>\n",
       "    </tr>\n",
       "    <tr>\n",
       "      <th>643685</th>\n",
       "      <td>1827860</td>\n",
       "      <td>2013</td>\n",
       "      <td>1</td>\n",
       "      <td>0</td>\n",
       "      <td>0</td>\n",
       "      <td>0</td>\n",
       "      <td>1</td>\n",
       "      <td>0</td>\n",
       "      <td>0</td>\n",
       "      <td>1</td>\n",
       "      <td>...</td>\n",
       "      <td>0.000000</td>\n",
       "      <td>0.000000</td>\n",
       "      <td>0.000000</td>\n",
       "      <td>0.000000</td>\n",
       "      <td>0.612903</td>\n",
       "      <td>0.000000</td>\n",
       "      <td>0.000000</td>\n",
       "      <td>0.000000</td>\n",
       "      <td>0.000000</td>\n",
       "      <td>0.000000</td>\n",
       "    </tr>\n",
       "    <tr>\n",
       "      <th>643686</th>\n",
       "      <td>1827860</td>\n",
       "      <td>2015</td>\n",
       "      <td>2</td>\n",
       "      <td>1</td>\n",
       "      <td>0</td>\n",
       "      <td>0</td>\n",
       "      <td>1</td>\n",
       "      <td>0</td>\n",
       "      <td>1</td>\n",
       "      <td>0</td>\n",
       "      <td>...</td>\n",
       "      <td>0.000000</td>\n",
       "      <td>0.000000</td>\n",
       "      <td>0.212121</td>\n",
       "      <td>0.212121</td>\n",
       "      <td>17.363636</td>\n",
       "      <td>0.000000</td>\n",
       "      <td>8.909091</td>\n",
       "      <td>0.000000</td>\n",
       "      <td>0.000000</td>\n",
       "      <td>7.121212</td>\n",
       "    </tr>\n",
       "    <tr>\n",
       "      <th>643687</th>\n",
       "      <td>1827860</td>\n",
       "      <td>2016</td>\n",
       "      <td>3</td>\n",
       "      <td>1</td>\n",
       "      <td>0</td>\n",
       "      <td>0</td>\n",
       "      <td>1</td>\n",
       "      <td>1</td>\n",
       "      <td>0</td>\n",
       "      <td>1</td>\n",
       "      <td>...</td>\n",
       "      <td>0.000000</td>\n",
       "      <td>0.000000</td>\n",
       "      <td>0.294118</td>\n",
       "      <td>0.205882</td>\n",
       "      <td>34.705882</td>\n",
       "      <td>0.000000</td>\n",
       "      <td>10.352941</td>\n",
       "      <td>1.705882</td>\n",
       "      <td>1.705882</td>\n",
       "      <td>23.911765</td>\n",
       "    </tr>\n",
       "    <tr>\n",
       "      <th>643688</th>\n",
       "      <td>1827869</td>\n",
       "      <td>2013</td>\n",
       "      <td>1</td>\n",
       "      <td>1</td>\n",
       "      <td>1</td>\n",
       "      <td>0</td>\n",
       "      <td>0</td>\n",
       "      <td>0</td>\n",
       "      <td>1</td>\n",
       "      <td>0</td>\n",
       "      <td>...</td>\n",
       "      <td>0.000000</td>\n",
       "      <td>0.000000</td>\n",
       "      <td>0.000000</td>\n",
       "      <td>0.000000</td>\n",
       "      <td>0.000000</td>\n",
       "      <td>0.525424</td>\n",
       "      <td>0.000000</td>\n",
       "      <td>0.000000</td>\n",
       "      <td>0.000000</td>\n",
       "      <td>0.000000</td>\n",
       "    </tr>\n",
       "    <tr>\n",
       "      <th>643689</th>\n",
       "      <td>1827869</td>\n",
       "      <td>2014</td>\n",
       "      <td>2</td>\n",
       "      <td>0</td>\n",
       "      <td>0</td>\n",
       "      <td>1</td>\n",
       "      <td>0</td>\n",
       "      <td>0</td>\n",
       "      <td>1</td>\n",
       "      <td>0</td>\n",
       "      <td>...</td>\n",
       "      <td>0.000000</td>\n",
       "      <td>0.666667</td>\n",
       "      <td>0.666667</td>\n",
       "      <td>0.000000</td>\n",
       "      <td>0.000000</td>\n",
       "      <td>8.950000</td>\n",
       "      <td>1.033333</td>\n",
       "      <td>0.083333</td>\n",
       "      <td>0.083333</td>\n",
       "      <td>8.133333</td>\n",
       "    </tr>\n",
       "  </tbody>\n",
       "</table>\n",
       "<p>643690 rows × 164 columns</p>\n",
       "</div>"
      ],
      "text/plain": [
       "         persnr  year  nrEntry  ltue  employed_before  receipt_leh_before  \\\n",
       "0             7  2015        1     0                1                   0   \n",
       "1            18  2010        1     1                0                   0   \n",
       "2            18  2011        2     0                1                   0   \n",
       "3            18  2012        3     0                1                   0   \n",
       "4            18  2012        4     0                1                   0   \n",
       "...         ...   ...      ...   ...              ...                 ...   \n",
       "643685  1827860  2013        1     0                0                   0   \n",
       "643686  1827860  2015        2     1                0                   0   \n",
       "643687  1827860  2016        3     1                0                   0   \n",
       "643688  1827869  2013        1     1                1                   0   \n",
       "643689  1827869  2014        2     0                0                   1   \n",
       "\n",
       "        receipt_lhg_before  se_before  ASU_notue_seeking_before  \\\n",
       "0                        0          0                         1   \n",
       "1                        0          0                         0   \n",
       "2                        1          0                         1   \n",
       "3                        1          0                         1   \n",
       "4                        1          0                         1   \n",
       "...                    ...        ...                       ...   \n",
       "643685                   1          0                         0   \n",
       "643686                   1          0                         1   \n",
       "643687                   1          1                         0   \n",
       "643688                   0          0                         1   \n",
       "643689                   0          0                         1   \n",
       "\n",
       "        ASU_other_before  ...  minijob_tot_dur_byage  ft_tot_dur_byage  \\\n",
       "0                      0  ...               0.000000          0.000000   \n",
       "1                      0  ...               0.000000          0.000000   \n",
       "2                      0  ...               2.714286          2.714286   \n",
       "3                      0  ...               4.200000          4.200000   \n",
       "4                      0  ...               5.460000          5.460000   \n",
       "...                  ...  ...                    ...               ...   \n",
       "643685                 1  ...               0.000000          0.000000   \n",
       "643686                 0  ...               0.000000          0.000000   \n",
       "643687                 1  ...               0.000000          0.000000   \n",
       "643688                 0  ...               0.000000          0.000000   \n",
       "643689                 0  ...               0.000000          0.666667   \n",
       "\n",
       "        befrist_tot_dur_byage  leih_tot_dur_byage  LHG_tot_dur_byage  \\\n",
       "0                   15.043478            0.000000           0.000000   \n",
       "1                    0.000000            0.000000           0.000000   \n",
       "2                    0.000000            0.000000          10.775510   \n",
       "3                    0.000000            0.000000          12.100000   \n",
       "4                    0.000000            0.000000          13.360000   \n",
       "...                       ...                 ...                ...   \n",
       "643685               0.000000            0.000000           0.612903   \n",
       "643686               0.212121            0.212121          17.363636   \n",
       "643687               0.294118            0.205882          34.705882   \n",
       "643688               0.000000            0.000000           0.000000   \n",
       "643689               0.666667            0.000000           0.000000   \n",
       "\n",
       "        LEH_tot_dur_byage  almp_tot_dur_byage  almp_aw_tot_dur_byage  \\\n",
       "0                0.000000            0.000000               0.000000   \n",
       "1                0.000000            0.000000               0.000000   \n",
       "2                0.000000            8.367347               0.000000   \n",
       "3                0.000000            9.400000               0.000000   \n",
       "4                0.000000           10.320000               0.000000   \n",
       "...                   ...                 ...                    ...   \n",
       "643685           0.000000            0.000000               0.000000   \n",
       "643686           0.000000            8.909091               0.000000   \n",
       "643687           0.000000           10.352941               1.705882   \n",
       "643688           0.525424            0.000000               0.000000   \n",
       "643689           8.950000            1.033333               0.083333   \n",
       "\n",
       "        se_tot_dur_byage  seeking1_tot_dur_byage  \n",
       "0               0.000000                0.000000  \n",
       "1               0.000000                0.000000  \n",
       "2               0.000000                9.836735  \n",
       "3               0.000000                9.960000  \n",
       "4               0.000000               10.280000  \n",
       "...                  ...                     ...  \n",
       "643685          0.000000                0.000000  \n",
       "643686          0.000000                7.121212  \n",
       "643687          1.705882               23.911765  \n",
       "643688          0.000000                0.000000  \n",
       "643689          0.083333                8.133333  \n",
       "\n",
       "[643690 rows x 164 columns]"
      ]
     },
     "execution_count": 10,
     "metadata": {},
     "output_type": "execute_result"
    }
   ],
   "source": [
    "siab"
   ]
  },
  {
   "cell_type": "markdown",
   "id": "1f87e805",
   "metadata": {
    "papermill": {
     "duration": 0.010267,
     "end_time": "2025-08-19T18:33:23.496314",
     "exception": false,
     "start_time": "2025-08-19T18:33:23.486047",
     "status": "completed"
    },
    "tags": []
   },
   "source": [
    "# Splitting Data and Setting Training Data Size"
   ]
  },
  {
   "cell_type": "code",
   "execution_count": 11,
   "id": "910ae358",
   "metadata": {
    "execution": {
     "iopub.execute_input": "2025-08-19T18:33:23.518488Z",
     "iopub.status.busy": "2025-08-19T18:33:23.518034Z",
     "iopub.status.idle": "2025-08-19T18:33:24.194868Z",
     "shell.execute_reply": "2025-08-19T18:33:24.193836Z"
    },
    "papermill": {
     "duration": 0.691238,
     "end_time": "2025-08-19T18:33:24.197852",
     "exception": false,
     "start_time": "2025-08-19T18:33:23.506614",
     "status": "completed"
    },
    "tags": []
   },
   "outputs": [],
   "source": [
    "from fairness_multiverse.universe import sample_by_year_size\n",
    "\n",
    "siab_train = sample_by_year_size(siab,\n",
    "                               training_year=universe[\"training_year\"],\n",
    "                               training_size=universe[\"training_size\"])"
   ]
  },
  {
   "cell_type": "code",
   "execution_count": 12,
   "id": "919c8ff5",
   "metadata": {
    "execution": {
     "iopub.execute_input": "2025-08-19T18:33:24.243880Z",
     "iopub.status.busy": "2025-08-19T18:33:24.243530Z",
     "iopub.status.idle": "2025-08-19T18:33:24.254267Z",
     "shell.execute_reply": "2025-08-19T18:33:24.253019Z"
    },
    "papermill": {
     "duration": 0.034466,
     "end_time": "2025-08-19T18:33:24.255969",
     "exception": false,
     "start_time": "2025-08-19T18:33:24.221503",
     "status": "completed"
    },
    "tags": []
   },
   "outputs": [
    {
     "data": {
      "text/plain": [
       "(5000, 164)"
      ]
     },
     "execution_count": 12,
     "metadata": {},
     "output_type": "execute_result"
    }
   ],
   "source": [
    "siab_train.shape"
   ]
  },
  {
   "cell_type": "code",
   "execution_count": 13,
   "id": "feb13bf4",
   "metadata": {
    "execution": {
     "iopub.execute_input": "2025-08-19T18:33:24.284287Z",
     "iopub.status.busy": "2025-08-19T18:33:24.281675Z",
     "iopub.status.idle": "2025-08-19T18:33:24.316916Z",
     "shell.execute_reply": "2025-08-19T18:33:24.315441Z"
    },
    "papermill": {
     "duration": 0.051256,
     "end_time": "2025-08-19T18:33:24.320092",
     "exception": false,
     "start_time": "2025-08-19T18:33:24.268836",
     "status": "completed"
    },
    "tags": []
   },
   "outputs": [
    {
     "data": {
      "text/plain": [
       "year\n",
       "2012    1667\n",
       "2013    1667\n",
       "2014    1666\n",
       "dtype: int64"
      ]
     },
     "metadata": {},
     "output_type": "display_data"
    }
   ],
   "source": [
    "display(siab_train.groupby(\"year\").size())"
   ]
  },
  {
   "cell_type": "code",
   "execution_count": 14,
   "id": "0997782f",
   "metadata": {
    "execution": {
     "iopub.execute_input": "2025-08-19T18:33:24.351535Z",
     "iopub.status.busy": "2025-08-19T18:33:24.351214Z",
     "iopub.status.idle": "2025-08-19T18:33:24.672633Z",
     "shell.execute_reply": "2025-08-19T18:33:24.671605Z"
    },
    "papermill": {
     "duration": 0.335697,
     "end_time": "2025-08-19T18:33:24.674433",
     "exception": false,
     "start_time": "2025-08-19T18:33:24.338736",
     "status": "completed"
    },
    "tags": []
   },
   "outputs": [],
   "source": [
    "#siab_train = siab_s[siab_s.year < 2015]\n",
    "siab_calib = siab[siab.year == 2015]\n",
    "siab_test = siab[siab.year == 2016]"
   ]
  },
  {
   "cell_type": "code",
   "execution_count": 15,
   "id": "2c1e4012",
   "metadata": {
    "execution": {
     "iopub.execute_input": "2025-08-19T18:33:24.711460Z",
     "iopub.status.busy": "2025-08-19T18:33:24.710744Z",
     "iopub.status.idle": "2025-08-19T18:33:24.719798Z",
     "shell.execute_reply": "2025-08-19T18:33:24.717772Z"
    },
    "papermill": {
     "duration": 0.029394,
     "end_time": "2025-08-19T18:33:24.722545",
     "exception": false,
     "start_time": "2025-08-19T18:33:24.693151",
     "status": "completed"
    },
    "tags": []
   },
   "outputs": [],
   "source": [
    "#siab_calib.shape"
   ]
  },
  {
   "cell_type": "code",
   "execution_count": 16,
   "id": "f66b54ca",
   "metadata": {
    "execution": {
     "iopub.execute_input": "2025-08-19T18:33:24.754850Z",
     "iopub.status.busy": "2025-08-19T18:33:24.753998Z",
     "iopub.status.idle": "2025-08-19T18:33:24.765389Z",
     "shell.execute_reply": "2025-08-19T18:33:24.764229Z"
    },
    "papermill": {
     "duration": 0.025229,
     "end_time": "2025-08-19T18:33:24.767032",
     "exception": false,
     "start_time": "2025-08-19T18:33:24.741803",
     "status": "completed"
    },
    "tags": []
   },
   "outputs": [],
   "source": [
    "#siab_test.shape"
   ]
  },
  {
   "cell_type": "code",
   "execution_count": 17,
   "id": "27e4384d",
   "metadata": {
    "execution": {
     "iopub.execute_input": "2025-08-19T18:33:24.793396Z",
     "iopub.status.busy": "2025-08-19T18:33:24.792073Z",
     "iopub.status.idle": "2025-08-19T18:33:24.818808Z",
     "shell.execute_reply": "2025-08-19T18:33:24.818019Z"
    },
    "papermill": {
     "duration": 0.04168,
     "end_time": "2025-08-19T18:33:24.820924",
     "exception": false,
     "start_time": "2025-08-19T18:33:24.779244",
     "status": "completed"
    },
    "tags": []
   },
   "outputs": [],
   "source": [
    "X_train = siab_train.iloc[:,4:164]\n",
    "y_train = siab_train.iloc[:, [3]]"
   ]
  },
  {
   "cell_type": "code",
   "execution_count": 18,
   "id": "08ee8389",
   "metadata": {
    "execution": {
     "iopub.execute_input": "2025-08-19T18:33:24.878815Z",
     "iopub.status.busy": "2025-08-19T18:33:24.878501Z",
     "iopub.status.idle": "2025-08-19T18:33:24.940205Z",
     "shell.execute_reply": "2025-08-19T18:33:24.939465Z"
    },
    "papermill": {
     "duration": 0.08975,
     "end_time": "2025-08-19T18:33:24.943085",
     "exception": false,
     "start_time": "2025-08-19T18:33:24.853335",
     "status": "completed"
    },
    "tags": []
   },
   "outputs": [],
   "source": [
    "X_calib = siab_calib.iloc[:,4:164]\n",
    "y_calib = siab_calib.iloc[:, [3]]"
   ]
  },
  {
   "cell_type": "code",
   "execution_count": 19,
   "id": "b7ff42e0",
   "metadata": {
    "execution": {
     "iopub.execute_input": "2025-08-19T18:33:24.982226Z",
     "iopub.status.busy": "2025-08-19T18:33:24.981357Z",
     "iopub.status.idle": "2025-08-19T18:33:25.058435Z",
     "shell.execute_reply": "2025-08-19T18:33:25.057703Z"
    },
    "papermill": {
     "duration": 0.092579,
     "end_time": "2025-08-19T18:33:25.060299",
     "exception": false,
     "start_time": "2025-08-19T18:33:24.967720",
     "status": "completed"
    },
    "tags": []
   },
   "outputs": [],
   "source": [
    "X_test = siab_test.iloc[:,4:164]\n",
    "y_true = siab_test.iloc[:, [3]]"
   ]
  },
  {
   "cell_type": "code",
   "execution_count": 20,
   "id": "0275101e",
   "metadata": {
    "execution": {
     "iopub.execute_input": "2025-08-19T18:33:25.109102Z",
     "iopub.status.busy": "2025-08-19T18:33:25.108219Z",
     "iopub.status.idle": "2025-08-19T18:33:25.232716Z",
     "shell.execute_reply": "2025-08-19T18:33:25.231941Z"
    },
    "papermill": {
     "duration": 0.147516,
     "end_time": "2025-08-19T18:33:25.234657",
     "exception": false,
     "start_time": "2025-08-19T18:33:25.087141",
     "status": "completed"
    },
    "tags": []
   },
   "outputs": [],
   "source": [
    "# Auxiliary data needed downstream in the pipeline\n",
    "\n",
    "org_train = X_train.copy()\n",
    "org_test = X_test.copy()\n",
    "org_calib = X_calib.copy()"
   ]
  },
  {
   "cell_type": "markdown",
   "id": "b461e618",
   "metadata": {
    "papermill": {
     "duration": 0.028073,
     "end_time": "2025-08-19T18:33:25.280957",
     "exception": false,
     "start_time": "2025-08-19T18:33:25.252884",
     "status": "completed"
    },
    "tags": []
   },
   "source": [
    "# Preprocessing Data"
   ]
  },
  {
   "cell_type": "code",
   "execution_count": 21,
   "id": "78e74c4b",
   "metadata": {
    "execution": {
     "iopub.execute_input": "2025-08-19T18:33:25.317180Z",
     "iopub.status.busy": "2025-08-19T18:33:25.316551Z",
     "iopub.status.idle": "2025-08-19T18:33:25.323790Z",
     "shell.execute_reply": "2025-08-19T18:33:25.322712Z"
    },
    "papermill": {
     "duration": 0.023013,
     "end_time": "2025-08-19T18:33:25.325079",
     "exception": false,
     "start_time": "2025-08-19T18:33:25.302066",
     "status": "completed"
    },
    "tags": []
   },
   "outputs": [],
   "source": [
    "# EXCLUDE PROTECTED FEATURES\n",
    "# --------------------------\n",
    "\n",
    "excluded_features = universe[\"exclude_features\"].split(\"-\")\n",
    "excluded_features_dictionary = {\n",
    "    \"nationality\": [\"maxdeutsch1\", \"maxdeutsch.Missing.\"],\n",
    "    \"sex\": [\"frau1\"],\n",
    "    \"age\": [\"age\"],\n",
    "}"
   ]
  },
  {
   "cell_type": "code",
   "execution_count": 22,
   "id": "f8e63555",
   "metadata": {
    "execution": {
     "iopub.execute_input": "2025-08-19T18:33:25.351862Z",
     "iopub.status.busy": "2025-08-19T18:33:25.350967Z",
     "iopub.status.idle": "2025-08-19T18:33:25.359476Z",
     "shell.execute_reply": "2025-08-19T18:33:25.357867Z"
    },
    "papermill": {
     "duration": 0.021904,
     "end_time": "2025-08-19T18:33:25.360988",
     "exception": false,
     "start_time": "2025-08-19T18:33:25.339084",
     "status": "completed"
    },
    "tags": []
   },
   "outputs": [],
   "source": [
    "excluded_features_columns = [\n",
    "    excluded_features_dictionary[f] for f in excluded_features if len(f) > 0 and f != \"none\"\n",
    "]"
   ]
  },
  {
   "cell_type": "code",
   "execution_count": 23,
   "id": "da781f7c",
   "metadata": {
    "execution": {
     "iopub.execute_input": "2025-08-19T18:33:25.386022Z",
     "iopub.status.busy": "2025-08-19T18:33:25.385032Z",
     "iopub.status.idle": "2025-08-19T18:33:25.389974Z",
     "shell.execute_reply": "2025-08-19T18:33:25.389239Z"
    },
    "papermill": {
     "duration": 0.018165,
     "end_time": "2025-08-19T18:33:25.391380",
     "exception": false,
     "start_time": "2025-08-19T18:33:25.373215",
     "status": "completed"
    },
    "tags": []
   },
   "outputs": [],
   "source": [
    "from fairness_multiverse.universe import flatten_once\n",
    "\n",
    "excluded_features_columns = flatten_once(excluded_features_columns)"
   ]
  },
  {
   "cell_type": "code",
   "execution_count": 24,
   "id": "37fef0f0",
   "metadata": {
    "execution": {
     "iopub.execute_input": "2025-08-19T18:33:25.413496Z",
     "iopub.status.busy": "2025-08-19T18:33:25.413039Z",
     "iopub.status.idle": "2025-08-19T18:33:25.417110Z",
     "shell.execute_reply": "2025-08-19T18:33:25.416399Z"
    },
    "papermill": {
     "duration": 0.016333,
     "end_time": "2025-08-19T18:33:25.418211",
     "exception": false,
     "start_time": "2025-08-19T18:33:25.401878",
     "status": "completed"
    },
    "tags": []
   },
   "outputs": [],
   "source": [
    "if len(excluded_features_columns) > 0:\n",
    "    print(f\"Dropping features: {excluded_features_columns}\")\n",
    "    X_train.drop(excluded_features_columns, axis=1, inplace=True)"
   ]
  },
  {
   "cell_type": "code",
   "execution_count": 25,
   "id": "d029e3e9",
   "metadata": {
    "execution": {
     "iopub.execute_input": "2025-08-19T18:33:25.440363Z",
     "iopub.status.busy": "2025-08-19T18:33:25.440043Z",
     "iopub.status.idle": "2025-08-19T18:33:25.449032Z",
     "shell.execute_reply": "2025-08-19T18:33:25.448356Z"
    },
    "papermill": {
     "duration": 0.021914,
     "end_time": "2025-08-19T18:33:25.450448",
     "exception": false,
     "start_time": "2025-08-19T18:33:25.428534",
     "status": "completed"
    },
    "tags": []
   },
   "outputs": [],
   "source": [
    "if len(excluded_features_columns) > 0:\n",
    "    print(f\"Dropping features: {excluded_features_columns}\")\n",
    "    X_test.drop(excluded_features_columns, axis=1, inplace=True)"
   ]
  },
  {
   "cell_type": "code",
   "execution_count": 26,
   "id": "01d571f0",
   "metadata": {
    "execution": {
     "iopub.execute_input": "2025-08-19T18:33:25.475184Z",
     "iopub.status.busy": "2025-08-19T18:33:25.474506Z",
     "iopub.status.idle": "2025-08-19T18:33:25.479702Z",
     "shell.execute_reply": "2025-08-19T18:33:25.478940Z"
    },
    "papermill": {
     "duration": 0.017698,
     "end_time": "2025-08-19T18:33:25.480881",
     "exception": false,
     "start_time": "2025-08-19T18:33:25.463183",
     "status": "completed"
    },
    "tags": []
   },
   "outputs": [],
   "source": [
    "if len(excluded_features_columns) > 0:\n",
    "    print(f\"Dropping features: {excluded_features_columns}\")\n",
    "    X_calib.drop(excluded_features_columns, axis=1, inplace=True)"
   ]
  },
  {
   "cell_type": "code",
   "execution_count": 27,
   "id": "3037356e",
   "metadata": {
    "execution": {
     "iopub.execute_input": "2025-08-19T18:33:25.504361Z",
     "iopub.status.busy": "2025-08-19T18:33:25.504021Z",
     "iopub.status.idle": "2025-08-19T18:33:25.507903Z",
     "shell.execute_reply": "2025-08-19T18:33:25.507224Z"
    },
    "papermill": {
     "duration": 0.016823,
     "end_time": "2025-08-19T18:33:25.509347",
     "exception": false,
     "start_time": "2025-08-19T18:33:25.492524",
     "status": "completed"
    },
    "tags": []
   },
   "outputs": [],
   "source": [
    "# EXCLUDE CERTAIN SUBGROUPS\n",
    "# -------------------------\n",
    "\n",
    "mode = universe.get(\"exclude_subgroups\", \"keep-all\") # Defaults to \"keep-all\" if the key is missing."
   ]
  },
  {
   "cell_type": "code",
   "execution_count": 28,
   "id": "9d1e63fd",
   "metadata": {
    "execution": {
     "iopub.execute_input": "2025-08-19T18:33:25.531909Z",
     "iopub.status.busy": "2025-08-19T18:33:25.531590Z",
     "iopub.status.idle": "2025-08-19T18:33:25.536939Z",
     "shell.execute_reply": "2025-08-19T18:33:25.536266Z"
    },
    "papermill": {
     "duration": 0.017836,
     "end_time": "2025-08-19T18:33:25.538061",
     "exception": false,
     "start_time": "2025-08-19T18:33:25.520225",
     "status": "completed"
    },
    "tags": []
   },
   "outputs": [],
   "source": [
    "if mode == \"keep-all\":\n",
    "    keep_mask = pd.Series(True, index=org_train.index)\n",
    "\n",
    "elif mode == \"drop-non-german\":\n",
    "    keep_mask = (org_train[\"maxdeutsch1\"] == 1) & (org_train[\"maxdeutsch.Missing.\"] == 0)\n",
    "\n",
    "else:\n",
    "    raise ValueError(f\"Unsupported mode for exclude_subgroups: {mode}\")"
   ]
  },
  {
   "cell_type": "code",
   "execution_count": 29,
   "id": "d3b65474",
   "metadata": {
    "execution": {
     "iopub.execute_input": "2025-08-19T18:33:25.561039Z",
     "iopub.status.busy": "2025-08-19T18:33:25.560716Z",
     "iopub.status.idle": "2025-08-19T18:33:25.566019Z",
     "shell.execute_reply": "2025-08-19T18:33:25.565244Z"
    },
    "papermill": {
     "duration": 0.018039,
     "end_time": "2025-08-19T18:33:25.567249",
     "exception": false,
     "start_time": "2025-08-19T18:33:25.549210",
     "status": "completed"
    },
    "tags": []
   },
   "outputs": [
    {
     "name": "stdout",
     "output_type": "stream",
     "text": [
      "Dropping 665 rows (13.30%) where mode='drop-non-german'\n"
     ]
    }
   ],
   "source": [
    "n_drop = (~keep_mask).sum() # Calculates how many rows are set to be dropped\n",
    "if n_drop > 0:\n",
    "    pct = n_drop / len(keep_mask) * 100\n",
    "    print(f\"Dropping {n_drop} rows ({pct:.2f}%) where mode='{mode}'\")"
   ]
  },
  {
   "cell_type": "code",
   "execution_count": 30,
   "id": "f44389b3",
   "metadata": {
    "execution": {
     "iopub.execute_input": "2025-08-19T18:33:25.590241Z",
     "iopub.status.busy": "2025-08-19T18:33:25.589593Z",
     "iopub.status.idle": "2025-08-19T18:33:25.600691Z",
     "shell.execute_reply": "2025-08-19T18:33:25.599884Z"
    },
    "papermill": {
     "duration": 0.023988,
     "end_time": "2025-08-19T18:33:25.602210",
     "exception": false,
     "start_time": "2025-08-19T18:33:25.578222",
     "status": "completed"
    },
    "tags": []
   },
   "outputs": [],
   "source": [
    "X_train = X_train[keep_mask]"
   ]
  },
  {
   "cell_type": "code",
   "execution_count": 31,
   "id": "ceca8c2a",
   "metadata": {
    "execution": {
     "iopub.execute_input": "2025-08-19T18:33:25.632718Z",
     "iopub.status.busy": "2025-08-19T18:33:25.631776Z",
     "iopub.status.idle": "2025-08-19T18:33:25.639492Z",
     "shell.execute_reply": "2025-08-19T18:33:25.638363Z"
    },
    "papermill": {
     "duration": 0.023336,
     "end_time": "2025-08-19T18:33:25.641114",
     "exception": false,
     "start_time": "2025-08-19T18:33:25.617778",
     "status": "completed"
    },
    "tags": []
   },
   "outputs": [],
   "source": [
    "y_train = y_train[keep_mask]"
   ]
  },
  {
   "cell_type": "markdown",
   "id": "04d31e2f",
   "metadata": {
    "papermill": {
     "duration": 0.010343,
     "end_time": "2025-08-19T18:33:25.663964",
     "exception": false,
     "start_time": "2025-08-19T18:33:25.653621",
     "status": "completed"
    },
    "tags": []
   },
   "source": [
    "# Model Training"
   ]
  },
  {
   "cell_type": "code",
   "execution_count": 32,
   "id": "db991733",
   "metadata": {
    "execution": {
     "iopub.execute_input": "2025-08-19T18:33:25.689384Z",
     "iopub.status.busy": "2025-08-19T18:33:25.688985Z",
     "iopub.status.idle": "2025-08-19T18:33:25.788769Z",
     "shell.execute_reply": "2025-08-19T18:33:25.787268Z"
    },
    "papermill": {
     "duration": 0.115848,
     "end_time": "2025-08-19T18:33:25.790180",
     "exception": false,
     "start_time": "2025-08-19T18:33:25.674332",
     "status": "completed"
    },
    "tags": []
   },
   "outputs": [],
   "source": [
    "from sklearn.linear_model import LogisticRegression\n",
    "from sklearn.ensemble import GradientBoostingClassifier, RandomForestClassifier\n",
    "\n",
    "if (universe[\"model\"] == \"logreg\"):\n",
    "    model = LogisticRegression() #penalty=\"none\", solver=\"newton-cg\", max_iter=1)\n",
    "elif (universe[\"model\"] == \"penalized_logreg\"):\n",
    "    model = LogisticRegression(penalty=\"l2\", C=0.1) #, solver=\"newton-cg\", max_iter=1)\n",
    "elif (universe[\"model\"] == \"rf\"):\n",
    "    model = RandomForestClassifier() # n_estimators=100, n_jobs=-1\n",
    "elif (universe[\"model\"] == \"gbm\"):\n",
    "    model = GradientBoostingClassifier()\n",
    "elif (universe[\"model\"] == \"elasticnet\"):\n",
    "    model = LogisticRegression(penalty = 'elasticnet', solver = 'saga', l1_ratio = 0.5) # max_iter=5000\n",
    "else:\n",
    "    raise \"Unsupported universe.model\""
   ]
  },
  {
   "cell_type": "code",
   "execution_count": 33,
   "id": "a4b5cd25",
   "metadata": {
    "execution": {
     "iopub.execute_input": "2025-08-19T18:33:25.814793Z",
     "iopub.status.busy": "2025-08-19T18:33:25.814434Z",
     "iopub.status.idle": "2025-08-19T18:33:25.819079Z",
     "shell.execute_reply": "2025-08-19T18:33:25.818510Z"
    },
    "papermill": {
     "duration": 0.017971,
     "end_time": "2025-08-19T18:33:25.820956",
     "exception": false,
     "start_time": "2025-08-19T18:33:25.802985",
     "status": "completed"
    },
    "tags": []
   },
   "outputs": [],
   "source": [
    "from sklearn.pipeline import Pipeline\n",
    "from sklearn.preprocessing import StandardScaler\n",
    "\n",
    "model = Pipeline([\n",
    "    #(\"continuous_processor\", continuous_processor),\n",
    "    #(\"categorical_preprocessor\", categorical_preprocessor),\n",
    "    (\"scale\", StandardScaler() if universe[\"scale\"] == \"scale\" else None), \n",
    "    (\"model\", model),\n",
    "])"
   ]
  },
  {
   "cell_type": "code",
   "execution_count": 34,
   "id": "283a904d",
   "metadata": {
    "execution": {
     "iopub.execute_input": "2025-08-19T18:33:25.864148Z",
     "iopub.status.busy": "2025-08-19T18:33:25.863247Z",
     "iopub.status.idle": "2025-08-19T18:33:29.711428Z",
     "shell.execute_reply": "2025-08-19T18:33:29.710558Z"
    },
    "papermill": {
     "duration": 3.867764,
     "end_time": "2025-08-19T18:33:29.712566",
     "exception": false,
     "start_time": "2025-08-19T18:33:25.844802",
     "status": "completed"
    },
    "tags": []
   },
   "outputs": [
    {
     "data": {
      "text/html": [
       "<style>#sk-container-id-1 {color: black;background-color: white;}#sk-container-id-1 pre{padding: 0;}#sk-container-id-1 div.sk-toggleable {background-color: white;}#sk-container-id-1 label.sk-toggleable__label {cursor: pointer;display: block;width: 100%;margin-bottom: 0;padding: 0.3em;box-sizing: border-box;text-align: center;}#sk-container-id-1 label.sk-toggleable__label-arrow:before {content: \"▸\";float: left;margin-right: 0.25em;color: #696969;}#sk-container-id-1 label.sk-toggleable__label-arrow:hover:before {color: black;}#sk-container-id-1 div.sk-estimator:hover label.sk-toggleable__label-arrow:before {color: black;}#sk-container-id-1 div.sk-toggleable__content {max-height: 0;max-width: 0;overflow: hidden;text-align: left;background-color: #f0f8ff;}#sk-container-id-1 div.sk-toggleable__content pre {margin: 0.2em;color: black;border-radius: 0.25em;background-color: #f0f8ff;}#sk-container-id-1 input.sk-toggleable__control:checked~div.sk-toggleable__content {max-height: 200px;max-width: 100%;overflow: auto;}#sk-container-id-1 input.sk-toggleable__control:checked~label.sk-toggleable__label-arrow:before {content: \"▾\";}#sk-container-id-1 div.sk-estimator input.sk-toggleable__control:checked~label.sk-toggleable__label {background-color: #d4ebff;}#sk-container-id-1 div.sk-label input.sk-toggleable__control:checked~label.sk-toggleable__label {background-color: #d4ebff;}#sk-container-id-1 input.sk-hidden--visually {border: 0;clip: rect(1px 1px 1px 1px);clip: rect(1px, 1px, 1px, 1px);height: 1px;margin: -1px;overflow: hidden;padding: 0;position: absolute;width: 1px;}#sk-container-id-1 div.sk-estimator {font-family: monospace;background-color: #f0f8ff;border: 1px dotted black;border-radius: 0.25em;box-sizing: border-box;margin-bottom: 0.5em;}#sk-container-id-1 div.sk-estimator:hover {background-color: #d4ebff;}#sk-container-id-1 div.sk-parallel-item::after {content: \"\";width: 100%;border-bottom: 1px solid gray;flex-grow: 1;}#sk-container-id-1 div.sk-label:hover label.sk-toggleable__label {background-color: #d4ebff;}#sk-container-id-1 div.sk-serial::before {content: \"\";position: absolute;border-left: 1px solid gray;box-sizing: border-box;top: 0;bottom: 0;left: 50%;z-index: 0;}#sk-container-id-1 div.sk-serial {display: flex;flex-direction: column;align-items: center;background-color: white;padding-right: 0.2em;padding-left: 0.2em;position: relative;}#sk-container-id-1 div.sk-item {position: relative;z-index: 1;}#sk-container-id-1 div.sk-parallel {display: flex;align-items: stretch;justify-content: center;background-color: white;position: relative;}#sk-container-id-1 div.sk-item::before, #sk-container-id-1 div.sk-parallel-item::before {content: \"\";position: absolute;border-left: 1px solid gray;box-sizing: border-box;top: 0;bottom: 0;left: 50%;z-index: -1;}#sk-container-id-1 div.sk-parallel-item {display: flex;flex-direction: column;z-index: 1;position: relative;background-color: white;}#sk-container-id-1 div.sk-parallel-item:first-child::after {align-self: flex-end;width: 50%;}#sk-container-id-1 div.sk-parallel-item:last-child::after {align-self: flex-start;width: 50%;}#sk-container-id-1 div.sk-parallel-item:only-child::after {width: 0;}#sk-container-id-1 div.sk-dashed-wrapped {border: 1px dashed gray;margin: 0 0.4em 0.5em 0.4em;box-sizing: border-box;padding-bottom: 0.4em;background-color: white;}#sk-container-id-1 div.sk-label label {font-family: monospace;font-weight: bold;display: inline-block;line-height: 1.2em;}#sk-container-id-1 div.sk-label-container {text-align: center;}#sk-container-id-1 div.sk-container {/* jupyter's `normalize.less` sets `[hidden] { display: none; }` but bootstrap.min.css set `[hidden] { display: none !important; }` so we also need the `!important` here to be able to override the default hidden behavior on the sphinx rendered scikit-learn.org. See: https://github.com/scikit-learn/scikit-learn/issues/21755 */display: inline-block !important;position: relative;}#sk-container-id-1 div.sk-text-repr-fallback {display: none;}</style><div id=\"sk-container-id-1\" class=\"sk-top-container\"><div class=\"sk-text-repr-fallback\"><pre>Pipeline(steps=[(&#x27;scale&#x27;, StandardScaler()),\n",
       "                (&#x27;model&#x27;, GradientBoostingClassifier())])</pre><b>In a Jupyter environment, please rerun this cell to show the HTML representation or trust the notebook. <br />On GitHub, the HTML representation is unable to render, please try loading this page with nbviewer.org.</b></div><div class=\"sk-container\" hidden><div class=\"sk-item sk-dashed-wrapped\"><div class=\"sk-label-container\"><div class=\"sk-label sk-toggleable\"><input class=\"sk-toggleable__control sk-hidden--visually\" id=\"sk-estimator-id-1\" type=\"checkbox\" ><label for=\"sk-estimator-id-1\" class=\"sk-toggleable__label sk-toggleable__label-arrow\">Pipeline</label><div class=\"sk-toggleable__content\"><pre>Pipeline(steps=[(&#x27;scale&#x27;, StandardScaler()),\n",
       "                (&#x27;model&#x27;, GradientBoostingClassifier())])</pre></div></div></div><div class=\"sk-serial\"><div class=\"sk-item\"><div class=\"sk-estimator sk-toggleable\"><input class=\"sk-toggleable__control sk-hidden--visually\" id=\"sk-estimator-id-2\" type=\"checkbox\" ><label for=\"sk-estimator-id-2\" class=\"sk-toggleable__label sk-toggleable__label-arrow\">StandardScaler</label><div class=\"sk-toggleable__content\"><pre>StandardScaler()</pre></div></div></div><div class=\"sk-item\"><div class=\"sk-estimator sk-toggleable\"><input class=\"sk-toggleable__control sk-hidden--visually\" id=\"sk-estimator-id-3\" type=\"checkbox\" ><label for=\"sk-estimator-id-3\" class=\"sk-toggleable__label sk-toggleable__label-arrow\">GradientBoostingClassifier</label><div class=\"sk-toggleable__content\"><pre>GradientBoostingClassifier()</pre></div></div></div></div></div></div></div>"
      ],
      "text/plain": [
       "Pipeline(steps=[('scale', StandardScaler()),\n",
       "                ('model', GradientBoostingClassifier())])"
      ]
     },
     "execution_count": 34,
     "metadata": {},
     "output_type": "execute_result"
    }
   ],
   "source": [
    "model.fit(X_train, y_train.values.ravel())"
   ]
  },
  {
   "cell_type": "code",
   "execution_count": 35,
   "id": "6e15e313",
   "metadata": {
    "execution": {
     "iopub.execute_input": "2025-08-19T18:33:29.749774Z",
     "iopub.status.busy": "2025-08-19T18:33:29.748192Z",
     "iopub.status.idle": "2025-08-19T18:33:30.445503Z",
     "shell.execute_reply": "2025-08-19T18:33:30.444806Z"
    },
    "papermill": {
     "duration": 0.712867,
     "end_time": "2025-08-19T18:33:30.446623",
     "exception": false,
     "start_time": "2025-08-19T18:33:29.733756",
     "status": "completed"
    },
    "tags": []
   },
   "outputs": [
    {
     "data": {
      "text/plain": [
       "0.8624456582320812"
      ]
     },
     "execution_count": 35,
     "metadata": {},
     "output_type": "execute_result"
    }
   ],
   "source": [
    "from fairness_multiverse.universe import predict_w_threshold\n",
    "\n",
    "probs_test = model.predict_proba(X_test)\n",
    "\n",
    "'''\n",
    "Below code returns a boolean array (or binary 0/1 array depending on how it’s used) where each element \n",
    "is True if the probability of class 1 is greater than or equal to the threshold, and False otherwise.\n",
    "'''\n",
    "y_pred_default = predict_w_threshold(probs_test, 0.5)\n",
    "\n",
    "from sklearn.metrics import accuracy_score\n",
    "\n",
    "# Naive prediction\n",
    "accuracy_score(y_true = y_true, y_pred = y_pred_default)"
   ]
  },
  {
   "cell_type": "code",
   "execution_count": 36,
   "id": "6f14067c",
   "metadata": {
    "execution": {
     "iopub.execute_input": "2025-08-19T18:33:30.472672Z",
     "iopub.status.busy": "2025-08-19T18:33:30.471395Z",
     "iopub.status.idle": "2025-08-19T18:33:31.075402Z",
     "shell.execute_reply": "2025-08-19T18:33:31.074601Z"
    },
    "papermill": {
     "duration": 0.619292,
     "end_time": "2025-08-19T18:33:31.077840",
     "exception": false,
     "start_time": "2025-08-19T18:33:30.458548",
     "status": "completed"
    },
    "tags": []
   },
   "outputs": [
    {
     "data": {
      "text/plain": [
       "array([0, 0, 0, ..., 0, 0, 0])"
      ]
     },
     "execution_count": 36,
     "metadata": {},
     "output_type": "execute_result"
    }
   ],
   "source": [
    "model.predict(X_test)"
   ]
  },
  {
   "cell_type": "markdown",
   "id": "3759920c",
   "metadata": {
    "papermill": {
     "duration": 0.013111,
     "end_time": "2025-08-19T18:33:31.116316",
     "exception": false,
     "start_time": "2025-08-19T18:33:31.103205",
     "status": "completed"
    },
    "tags": []
   },
   "source": [
    "# Conformal Prediction"
   ]
  },
  {
   "cell_type": "code",
   "execution_count": 37,
   "id": "14b27f59",
   "metadata": {
    "execution": {
     "iopub.execute_input": "2025-08-19T18:33:31.142680Z",
     "iopub.status.busy": "2025-08-19T18:33:31.141545Z",
     "iopub.status.idle": "2025-08-19T18:33:31.151731Z",
     "shell.execute_reply": "2025-08-19T18:33:31.150017Z"
    },
    "papermill": {
     "duration": 0.025584,
     "end_time": "2025-08-19T18:33:31.153422",
     "exception": false,
     "start_time": "2025-08-19T18:33:31.127838",
     "status": "completed"
    },
    "tags": []
   },
   "outputs": [],
   "source": [
    "# Miscoverage level for conformal prediction (10% allowed error rate => 90% target coverage)\n",
    "alpha = 0.1"
   ]
  },
  {
   "cell_type": "code",
   "execution_count": 38,
   "id": "59102472",
   "metadata": {
    "execution": {
     "iopub.execute_input": "2025-08-19T18:33:31.184013Z",
     "iopub.status.busy": "2025-08-19T18:33:31.182844Z",
     "iopub.status.idle": "2025-08-19T18:33:31.771132Z",
     "shell.execute_reply": "2025-08-19T18:33:31.770071Z"
    },
    "papermill": {
     "duration": 0.603284,
     "end_time": "2025-08-19T18:33:31.772536",
     "exception": false,
     "start_time": "2025-08-19T18:33:31.169252",
     "status": "completed"
    },
    "tags": []
   },
   "outputs": [],
   "source": [
    "probs_calib = model.predict_proba(X_calib)"
   ]
  },
  {
   "cell_type": "code",
   "execution_count": 39,
   "id": "a792d4dd",
   "metadata": {
    "execution": {
     "iopub.execute_input": "2025-08-19T18:33:31.799636Z",
     "iopub.status.busy": "2025-08-19T18:33:31.799186Z",
     "iopub.status.idle": "2025-08-19T18:33:31.804736Z",
     "shell.execute_reply": "2025-08-19T18:33:31.804032Z"
    },
    "papermill": {
     "duration": 0.021588,
     "end_time": "2025-08-19T18:33:31.806027",
     "exception": false,
     "start_time": "2025-08-19T18:33:31.784439",
     "status": "completed"
    },
    "tags": []
   },
   "outputs": [],
   "source": [
    "y_calib = y_calib.values.ravel().astype(int)"
   ]
  },
  {
   "cell_type": "code",
   "execution_count": 40,
   "id": "650fd033",
   "metadata": {
    "execution": {
     "iopub.execute_input": "2025-08-19T18:33:31.834957Z",
     "iopub.status.busy": "2025-08-19T18:33:31.834545Z",
     "iopub.status.idle": "2025-08-19T18:33:31.841192Z",
     "shell.execute_reply": "2025-08-19T18:33:31.840540Z"
    },
    "papermill": {
     "duration": 0.021933,
     "end_time": "2025-08-19T18:33:31.842242",
     "exception": false,
     "start_time": "2025-08-19T18:33:31.820309",
     "status": "completed"
    },
    "tags": []
   },
   "outputs": [],
   "source": [
    "from fairness_multiverse.conformal import compute_nc_scores\n",
    "\n",
    "# Compute nonconformity scores on calibration set (1 - probability of true class)\n",
    "nc_scores = compute_nc_scores(probs_calib, y_calib)"
   ]
  },
  {
   "cell_type": "code",
   "execution_count": 41,
   "id": "28ada44c",
   "metadata": {
    "execution": {
     "iopub.execute_input": "2025-08-19T18:33:31.869429Z",
     "iopub.status.busy": "2025-08-19T18:33:31.869015Z",
     "iopub.status.idle": "2025-08-19T18:33:31.874903Z",
     "shell.execute_reply": "2025-08-19T18:33:31.874210Z"
    },
    "papermill": {
     "duration": 0.03559,
     "end_time": "2025-08-19T18:33:31.889937",
     "exception": false,
     "start_time": "2025-08-19T18:33:31.854347",
     "status": "completed"
    },
    "tags": []
   },
   "outputs": [],
   "source": [
    "from fairness_multiverse.conformal import find_threshold\n",
    "\n",
    "# Find conformal threshold q_hat for the given alpha (split conformal method)\n",
    "q_hat = find_threshold(nc_scores, alpha)"
   ]
  },
  {
   "cell_type": "code",
   "execution_count": 42,
   "id": "df56469e",
   "metadata": {
    "execution": {
     "iopub.execute_input": "2025-08-19T18:33:31.918848Z",
     "iopub.status.busy": "2025-08-19T18:33:31.918449Z",
     "iopub.status.idle": "2025-08-19T18:33:31.924142Z",
     "shell.execute_reply": "2025-08-19T18:33:31.923561Z"
    },
    "papermill": {
     "duration": 0.021461,
     "end_time": "2025-08-19T18:33:31.926670",
     "exception": false,
     "start_time": "2025-08-19T18:33:31.905209",
     "status": "completed"
    },
    "tags": []
   },
   "outputs": [
    {
     "data": {
      "text/plain": [
       "0.7005045422834799"
      ]
     },
     "execution_count": 42,
     "metadata": {},
     "output_type": "execute_result"
    }
   ],
   "source": [
    "q_hat"
   ]
  },
  {
   "cell_type": "code",
   "execution_count": 43,
   "id": "aa1f5faa",
   "metadata": {
    "execution": {
     "iopub.execute_input": "2025-08-19T18:33:31.951391Z",
     "iopub.status.busy": "2025-08-19T18:33:31.950996Z",
     "iopub.status.idle": "2025-08-19T18:33:32.988615Z",
     "shell.execute_reply": "2025-08-19T18:33:32.987789Z"
    },
    "papermill": {
     "duration": 1.051661,
     "end_time": "2025-08-19T18:33:32.990482",
     "exception": false,
     "start_time": "2025-08-19T18:33:31.938821",
     "status": "completed"
    },
    "tags": []
   },
   "outputs": [],
   "source": [
    "from fairness_multiverse.conformal import predict_conformal_sets\n",
    "\n",
    "# Generate prediction sets for each test example\n",
    "pred_sets = predict_conformal_sets(model, X_test, q_hat)"
   ]
  },
  {
   "cell_type": "code",
   "execution_count": 44,
   "id": "97f67a6b",
   "metadata": {
    "execution": {
     "iopub.execute_input": "2025-08-19T18:33:33.017084Z",
     "iopub.status.busy": "2025-08-19T18:33:33.016343Z",
     "iopub.status.idle": "2025-08-19T18:33:33.023793Z",
     "shell.execute_reply": "2025-08-19T18:33:33.022450Z"
    },
    "papermill": {
     "duration": 0.022891,
     "end_time": "2025-08-19T18:33:33.025412",
     "exception": false,
     "start_time": "2025-08-19T18:33:33.002521",
     "status": "completed"
    },
    "tags": []
   },
   "outputs": [],
   "source": [
    "y_true = y_true.squeeze()"
   ]
  },
  {
   "cell_type": "code",
   "execution_count": 45,
   "id": "e700e9a7",
   "metadata": {
    "execution": {
     "iopub.execute_input": "2025-08-19T18:33:33.054351Z",
     "iopub.status.busy": "2025-08-19T18:33:33.053375Z",
     "iopub.status.idle": "2025-08-19T18:33:33.547277Z",
     "shell.execute_reply": "2025-08-19T18:33:33.546564Z"
    },
    "papermill": {
     "duration": 0.510378,
     "end_time": "2025-08-19T18:33:33.550239",
     "exception": false,
     "start_time": "2025-08-19T18:33:33.039861",
     "status": "completed"
    },
    "tags": []
   },
   "outputs": [],
   "source": [
    "from fairness_multiverse.conformal import evaluate_sets\n",
    "\n",
    "# Evaluate coverage and average set size on test data\n",
    "metrics = evaluate_sets(pred_sets, y_true)"
   ]
  },
  {
   "cell_type": "markdown",
   "id": "efbacec0",
   "metadata": {
    "papermill": {
     "duration": 0.019342,
     "end_time": "2025-08-19T18:33:33.603913",
     "exception": false,
     "start_time": "2025-08-19T18:33:33.584571",
     "status": "completed"
    },
    "tags": []
   },
   "source": [
    "# CP Metrics"
   ]
  },
  {
   "cell_type": "code",
   "execution_count": 46,
   "id": "9de55fb1",
   "metadata": {
    "execution": {
     "iopub.execute_input": "2025-08-19T18:33:33.628242Z",
     "iopub.status.busy": "2025-08-19T18:33:33.627843Z",
     "iopub.status.idle": "2025-08-19T18:33:33.633289Z",
     "shell.execute_reply": "2025-08-19T18:33:33.632733Z"
    },
    "papermill": {
     "duration": 0.021957,
     "end_time": "2025-08-19T18:33:33.637499",
     "exception": false,
     "start_time": "2025-08-19T18:33:33.615542",
     "status": "completed"
    },
    "tags": []
   },
   "outputs": [
    {
     "data": {
      "text/plain": [
       "{'coverage': 0.9106677070560696, 'avg_size': 1.1301527143016386}"
      ]
     },
     "execution_count": 46,
     "metadata": {},
     "output_type": "execute_result"
    }
   ],
   "source": [
    "metrics"
   ]
  },
  {
   "cell_type": "code",
   "execution_count": 47,
   "id": "64c340a1",
   "metadata": {
    "execution": {
     "iopub.execute_input": "2025-08-19T18:33:33.674006Z",
     "iopub.status.busy": "2025-08-19T18:33:33.673593Z",
     "iopub.status.idle": "2025-08-19T18:33:33.678734Z",
     "shell.execute_reply": "2025-08-19T18:33:33.678144Z"
    },
    "papermill": {
     "duration": 0.019112,
     "end_time": "2025-08-19T18:33:33.679903",
     "exception": false,
     "start_time": "2025-08-19T18:33:33.660791",
     "status": "completed"
    },
    "tags": []
   },
   "outputs": [],
   "source": [
    "example_universe = universe.copy()\n",
    "universe_training_year = example_universe.get(\"training_year\")\n",
    "universe_training_size = example_universe.get(\"training_size\")\n",
    "universe_scale = example_universe.get(\"scale\")\n",
    "universe_model = example_universe.get(\"model\")\n",
    "universe_exclude_features = example_universe.get(\"exclude_features\")\n",
    "universe_exclude_subgroups = example_universe.get(\"exclude_subgroups\")"
   ]
  },
  {
   "cell_type": "code",
   "execution_count": 48,
   "id": "dbb53cb4",
   "metadata": {
    "execution": {
     "iopub.execute_input": "2025-08-19T18:33:33.705686Z",
     "iopub.status.busy": "2025-08-19T18:33:33.705417Z",
     "iopub.status.idle": "2025-08-19T18:33:33.711315Z",
     "shell.execute_reply": "2025-08-19T18:33:33.710235Z"
    },
    "papermill": {
     "duration": 0.019655,
     "end_time": "2025-08-19T18:33:33.712752",
     "exception": false,
     "start_time": "2025-08-19T18:33:33.693097",
     "status": "completed"
    },
    "tags": []
   },
   "outputs": [],
   "source": [
    "cp_metrics_dict = {\n",
    "    \"universe_id\": [universe_id],\n",
    "    \"universe_training_year\": [universe_training_year],\n",
    "    \"universe_training_size\": [universe_training_size],\n",
    "    \"universe_scale\": [universe_scale],\n",
    "    \"universe_model\": [universe_model],\n",
    "    \"universe_exclude_features\": [universe_exclude_features],\n",
    "    \"universe_exclude_subgroups\": [universe_exclude_subgroups],\n",
    "    \"q_hat\": [q_hat],\n",
    "    \"coverage\": [metrics[\"coverage\"]],\n",
    "    \"avg_size\": [metrics[\"avg_size\"]],\n",
    "}"
   ]
  },
  {
   "cell_type": "code",
   "execution_count": 49,
   "id": "0d70d4b2",
   "metadata": {
    "execution": {
     "iopub.execute_input": "2025-08-19T18:33:33.737757Z",
     "iopub.status.busy": "2025-08-19T18:33:33.737474Z",
     "iopub.status.idle": "2025-08-19T18:33:33.743262Z",
     "shell.execute_reply": "2025-08-19T18:33:33.742127Z"
    },
    "papermill": {
     "duration": 0.019333,
     "end_time": "2025-08-19T18:33:33.744418",
     "exception": false,
     "start_time": "2025-08-19T18:33:33.725085",
     "status": "completed"
    },
    "tags": []
   },
   "outputs": [],
   "source": [
    "cp_metrics_df = pd.DataFrame(cp_metrics_dict)"
   ]
  },
  {
   "cell_type": "code",
   "execution_count": 50,
   "id": "b494403c",
   "metadata": {
    "execution": {
     "iopub.execute_input": "2025-08-19T18:33:33.773984Z",
     "iopub.status.busy": "2025-08-19T18:33:33.773278Z",
     "iopub.status.idle": "2025-08-19T18:33:33.793952Z",
     "shell.execute_reply": "2025-08-19T18:33:33.792878Z"
    },
    "papermill": {
     "duration": 0.039547,
     "end_time": "2025-08-19T18:33:33.799870",
     "exception": false,
     "start_time": "2025-08-19T18:33:33.760323",
     "status": "completed"
    },
    "tags": []
   },
   "outputs": [
    {
     "data": {
      "text/html": [
       "<div>\n",
       "<style scoped>\n",
       "    .dataframe tbody tr th:only-of-type {\n",
       "        vertical-align: middle;\n",
       "    }\n",
       "\n",
       "    .dataframe tbody tr th {\n",
       "        vertical-align: top;\n",
       "    }\n",
       "\n",
       "    .dataframe thead th {\n",
       "        text-align: right;\n",
       "    }\n",
       "</style>\n",
       "<table border=\"1\" class=\"dataframe\">\n",
       "  <thead>\n",
       "    <tr style=\"text-align: right;\">\n",
       "      <th></th>\n",
       "      <th>universe_id</th>\n",
       "      <th>universe_training_year</th>\n",
       "      <th>universe_training_size</th>\n",
       "      <th>universe_scale</th>\n",
       "      <th>universe_model</th>\n",
       "      <th>universe_exclude_features</th>\n",
       "      <th>universe_exclude_subgroups</th>\n",
       "      <th>q_hat</th>\n",
       "      <th>coverage</th>\n",
       "      <th>avg_size</th>\n",
       "    </tr>\n",
       "  </thead>\n",
       "  <tbody>\n",
       "    <tr>\n",
       "      <th>0</th>\n",
       "      <td>879e5dc5a85f4f20f592797c92185d54</td>\n",
       "      <td>2012_14</td>\n",
       "      <td>5k</td>\n",
       "      <td>scale</td>\n",
       "      <td>gbm</td>\n",
       "      <td>none</td>\n",
       "      <td>drop-non-german</td>\n",
       "      <td>0.700505</td>\n",
       "      <td>0.910668</td>\n",
       "      <td>1.130153</td>\n",
       "    </tr>\n",
       "  </tbody>\n",
       "</table>\n",
       "</div>"
      ],
      "text/plain": [
       "                        universe_id universe_training_year  \\\n",
       "0  879e5dc5a85f4f20f592797c92185d54                2012_14   \n",
       "\n",
       "  universe_training_size universe_scale universe_model  \\\n",
       "0                     5k          scale            gbm   \n",
       "\n",
       "  universe_exclude_features universe_exclude_subgroups     q_hat  coverage  \\\n",
       "0                      none            drop-non-german  0.700505  0.910668   \n",
       "\n",
       "   avg_size  \n",
       "0  1.130153  "
      ]
     },
     "execution_count": 50,
     "metadata": {},
     "output_type": "execute_result"
    }
   ],
   "source": [
    "cp_metrics_df"
   ]
  },
  {
   "cell_type": "markdown",
   "id": "ed608b0b",
   "metadata": {
    "papermill": {
     "duration": 0.013027,
     "end_time": "2025-08-19T18:33:33.832108",
     "exception": false,
     "start_time": "2025-08-19T18:33:33.819081",
     "status": "completed"
    },
    "tags": []
   },
   "source": [
    "Conditional coverage & looking at subgroups"
   ]
  },
  {
   "cell_type": "code",
   "execution_count": 51,
   "id": "8968c366",
   "metadata": {
    "execution": {
     "iopub.execute_input": "2025-08-19T18:33:33.878929Z",
     "iopub.status.busy": "2025-08-19T18:33:33.878502Z",
     "iopub.status.idle": "2025-08-19T18:33:34.106435Z",
     "shell.execute_reply": "2025-08-19T18:33:34.105523Z"
    },
    "papermill": {
     "duration": 0.245588,
     "end_time": "2025-08-19T18:33:34.108019",
     "exception": false,
     "start_time": "2025-08-19T18:33:33.862431",
     "status": "completed"
    },
    "tags": []
   },
   "outputs": [],
   "source": [
    "from fairness_multiverse.conformal import build_cp_groups\n",
    "\n",
    "cp_groups_df = build_cp_groups(pred_sets, y_true, X_test.index, org_test)"
   ]
  },
  {
   "cell_type": "code",
   "execution_count": 52,
   "id": "292ddabf",
   "metadata": {
    "execution": {
     "iopub.execute_input": "2025-08-19T18:33:34.133815Z",
     "iopub.status.busy": "2025-08-19T18:33:34.133506Z",
     "iopub.status.idle": "2025-08-19T18:33:34.978001Z",
     "shell.execute_reply": "2025-08-19T18:33:34.976785Z"
    },
    "papermill": {
     "duration": 0.859412,
     "end_time": "2025-08-19T18:33:34.979828",
     "exception": false,
     "start_time": "2025-08-19T18:33:34.120416",
     "status": "completed"
    },
    "tags": []
   },
   "outputs": [],
   "source": [
    "# Define covered = 1 if true_label is in the predicted set\n",
    "cp_groups_df['covered'] = cp_groups_df.apply(\n",
    "    lambda r: int(r['true_label'] in r['pred_set']),\n",
    "    axis=1\n",
    ")"
   ]
  },
  {
   "cell_type": "code",
   "execution_count": 53,
   "id": "3a261692",
   "metadata": {
    "execution": {
     "iopub.execute_input": "2025-08-19T18:33:35.018030Z",
     "iopub.status.busy": "2025-08-19T18:33:35.017362Z",
     "iopub.status.idle": "2025-08-19T18:33:35.038959Z",
     "shell.execute_reply": "2025-08-19T18:33:35.037856Z"
    },
    "papermill": {
     "duration": 0.048038,
     "end_time": "2025-08-19T18:33:35.041363",
     "exception": false,
     "start_time": "2025-08-19T18:33:34.993325",
     "status": "completed"
    },
    "tags": []
   },
   "outputs": [],
   "source": [
    "subgroups = ['frau1','nongerman','nongerman_male','nongerman_female']\n",
    "\n",
    "# Conditional coverage for subgroup==1\n",
    "cond_coverage = {\n",
    "    g: cp_groups_df.loc[cp_groups_df[g]==1, 'covered'].mean()\n",
    "    for g in subgroups\n",
    "}"
   ]
  },
  {
   "cell_type": "code",
   "execution_count": 54,
   "id": "894fd600",
   "metadata": {
    "execution": {
     "iopub.execute_input": "2025-08-19T18:33:35.107307Z",
     "iopub.status.busy": "2025-08-19T18:33:35.106920Z",
     "iopub.status.idle": "2025-08-19T18:33:35.113139Z",
     "shell.execute_reply": "2025-08-19T18:33:35.112573Z"
    },
    "papermill": {
     "duration": 0.034459,
     "end_time": "2025-08-19T18:33:35.114209",
     "exception": false,
     "start_time": "2025-08-19T18:33:35.079750",
     "status": "completed"
    },
    "tags": []
   },
   "outputs": [
    {
     "data": {
      "text/plain": [
       "{'frau1': 0.9050276317563014,\n",
       " 'nongerman': 0.9052938864873968,\n",
       " 'nongerman_male': 0.9228136539673962,\n",
       " 'nongerman_female': 0.8763040238450075}"
      ]
     },
     "execution_count": 54,
     "metadata": {},
     "output_type": "execute_result"
    }
   ],
   "source": [
    "cond_coverage"
   ]
  },
  {
   "cell_type": "code",
   "execution_count": 55,
   "id": "942895c7",
   "metadata": {
    "execution": {
     "iopub.execute_input": "2025-08-19T18:33:35.142126Z",
     "iopub.status.busy": "2025-08-19T18:33:35.140935Z",
     "iopub.status.idle": "2025-08-19T18:33:35.151593Z",
     "shell.execute_reply": "2025-08-19T18:33:35.150382Z"
    },
    "papermill": {
     "duration": 0.025587,
     "end_time": "2025-08-19T18:33:35.152897",
     "exception": false,
     "start_time": "2025-08-19T18:33:35.127310",
     "status": "completed"
    },
    "tags": []
   },
   "outputs": [],
   "source": [
    "for subgroup, cov in cond_coverage.items():\n",
    "    cp_metrics_df[f\"cov_{subgroup}\"] = cov"
   ]
  },
  {
   "cell_type": "code",
   "execution_count": 56,
   "id": "3970120f",
   "metadata": {
    "execution": {
     "iopub.execute_input": "2025-08-19T18:33:35.184107Z",
     "iopub.status.busy": "2025-08-19T18:33:35.182989Z",
     "iopub.status.idle": "2025-08-19T18:33:35.208868Z",
     "shell.execute_reply": "2025-08-19T18:33:35.207886Z"
    },
    "papermill": {
     "duration": 0.041545,
     "end_time": "2025-08-19T18:33:35.210630",
     "exception": false,
     "start_time": "2025-08-19T18:33:35.169085",
     "status": "completed"
    },
    "tags": []
   },
   "outputs": [
    {
     "data": {
      "text/html": [
       "<div>\n",
       "<style scoped>\n",
       "    .dataframe tbody tr th:only-of-type {\n",
       "        vertical-align: middle;\n",
       "    }\n",
       "\n",
       "    .dataframe tbody tr th {\n",
       "        vertical-align: top;\n",
       "    }\n",
       "\n",
       "    .dataframe thead th {\n",
       "        text-align: right;\n",
       "    }\n",
       "</style>\n",
       "<table border=\"1\" class=\"dataframe\">\n",
       "  <thead>\n",
       "    <tr style=\"text-align: right;\">\n",
       "      <th></th>\n",
       "      <th>universe_id</th>\n",
       "      <th>universe_training_year</th>\n",
       "      <th>universe_training_size</th>\n",
       "      <th>universe_scale</th>\n",
       "      <th>universe_model</th>\n",
       "      <th>universe_exclude_features</th>\n",
       "      <th>universe_exclude_subgroups</th>\n",
       "      <th>q_hat</th>\n",
       "      <th>coverage</th>\n",
       "      <th>avg_size</th>\n",
       "      <th>cov_frau1</th>\n",
       "      <th>cov_nongerman</th>\n",
       "      <th>cov_nongerman_male</th>\n",
       "      <th>cov_nongerman_female</th>\n",
       "    </tr>\n",
       "  </thead>\n",
       "  <tbody>\n",
       "    <tr>\n",
       "      <th>0</th>\n",
       "      <td>879e5dc5a85f4f20f592797c92185d54</td>\n",
       "      <td>2012_14</td>\n",
       "      <td>5k</td>\n",
       "      <td>scale</td>\n",
       "      <td>gbm</td>\n",
       "      <td>none</td>\n",
       "      <td>drop-non-german</td>\n",
       "      <td>0.700505</td>\n",
       "      <td>0.910668</td>\n",
       "      <td>1.130153</td>\n",
       "      <td>0.905028</td>\n",
       "      <td>0.905294</td>\n",
       "      <td>0.922814</td>\n",
       "      <td>0.876304</td>\n",
       "    </tr>\n",
       "  </tbody>\n",
       "</table>\n",
       "</div>"
      ],
      "text/plain": [
       "                        universe_id universe_training_year  \\\n",
       "0  879e5dc5a85f4f20f592797c92185d54                2012_14   \n",
       "\n",
       "  universe_training_size universe_scale universe_model  \\\n",
       "0                     5k          scale            gbm   \n",
       "\n",
       "  universe_exclude_features universe_exclude_subgroups     q_hat  coverage  \\\n",
       "0                      none            drop-non-german  0.700505  0.910668   \n",
       "\n",
       "   avg_size  cov_frau1  cov_nongerman  cov_nongerman_male  \\\n",
       "0  1.130153   0.905028       0.905294            0.922814   \n",
       "\n",
       "   cov_nongerman_female  \n",
       "0              0.876304  "
      ]
     },
     "execution_count": 56,
     "metadata": {},
     "output_type": "execute_result"
    }
   ],
   "source": [
    "cp_metrics_df"
   ]
  },
  {
   "cell_type": "markdown",
   "id": "3fc519cc",
   "metadata": {
    "papermill": {
     "duration": 0.012709,
     "end_time": "2025-08-19T18:33:35.243039",
     "exception": false,
     "start_time": "2025-08-19T18:33:35.230330",
     "status": "completed"
    },
    "tags": []
   },
   "source": [
    "# (Fairness) Metrics"
   ]
  },
  {
   "cell_type": "code",
   "execution_count": 57,
   "id": "a2e5e155",
   "metadata": {
    "execution": {
     "iopub.execute_input": "2025-08-19T18:33:35.273236Z",
     "iopub.status.busy": "2025-08-19T18:33:35.272065Z",
     "iopub.status.idle": "2025-08-19T18:33:35.300049Z",
     "shell.execute_reply": "2025-08-19T18:33:35.299173Z"
    },
    "papermill": {
     "duration": 0.043496,
     "end_time": "2025-08-19T18:33:35.301419",
     "exception": false,
     "start_time": "2025-08-19T18:33:35.257923",
     "status": "completed"
    },
    "tags": []
   },
   "outputs": [],
   "source": [
    "colname_to_bin = \"maxdeutsch1\"\n",
    "majority_value = org_train[colname_to_bin].mode()[0]\n",
    "\n",
    "org_test[\"majmin\"] = np.where(org_test[colname_to_bin] == majority_value, \"majority\", \"minority\")"
   ]
  },
  {
   "cell_type": "code",
   "execution_count": 58,
   "id": "17e3e4d5",
   "metadata": {
    "execution": {
     "iopub.execute_input": "2025-08-19T18:33:35.338540Z",
     "iopub.status.busy": "2025-08-19T18:33:35.337460Z",
     "iopub.status.idle": "2025-08-19T18:33:37.123695Z",
     "shell.execute_reply": "2025-08-19T18:33:37.122412Z"
    },
    "papermill": {
     "duration": 1.807718,
     "end_time": "2025-08-19T18:33:37.125457",
     "exception": false,
     "start_time": "2025-08-19T18:33:35.317739",
     "status": "completed"
    },
    "tags": []
   },
   "outputs": [],
   "source": [
    "example_universe = universe.copy()\n",
    "example_universe[\"cutoff\"] = example_universe[\"cutoff\"][0]\n",
    "example_universe[\"eval_fairness_grouping\"] = example_universe[\"eval_fairness_grouping\"][0]\n",
    "fairness_dict, metric_frame = universe_analysis.compute_metrics(\n",
    "    example_universe,\n",
    "    y_pred_prob=probs_test,\n",
    "    y_test=y_true,\n",
    "    org_test=org_test,\n",
    ")"
   ]
  },
  {
   "cell_type": "markdown",
   "id": "1fb7a0e9",
   "metadata": {
    "papermill": {
     "duration": 0.02286,
     "end_time": "2025-08-19T18:33:37.165042",
     "exception": false,
     "start_time": "2025-08-19T18:33:37.142182",
     "status": "completed"
    },
    "tags": []
   },
   "source": [
    "# Overall"
   ]
  },
  {
   "cell_type": "markdown",
   "id": "be1784b1",
   "metadata": {
    "papermill": {
     "duration": 0.012239,
     "end_time": "2025-08-19T18:33:37.190189",
     "exception": false,
     "start_time": "2025-08-19T18:33:37.177950",
     "status": "completed"
    },
    "tags": []
   },
   "source": [
    "Main fairness target: Equalized Odds. Seems to be a better fit than equal opportunity, since we're not only interested in Y = 1. Seems to be a better fit than demographic parity, since we also care about accuracy, not just equal distribution of preds.\n",
    "\n",
    "Pick column for computation of fairness metrics\n",
    "\n",
    "Performance\n",
    "Overall performance measures, most interesting in relation to the measures split by group below"
   ]
  },
  {
   "cell_type": "code",
   "execution_count": 59,
   "id": "b7672bee",
   "metadata": {
    "execution": {
     "iopub.execute_input": "2025-08-19T18:33:37.217089Z",
     "iopub.status.busy": "2025-08-19T18:33:37.216648Z",
     "iopub.status.idle": "2025-08-19T18:33:37.224581Z",
     "shell.execute_reply": "2025-08-19T18:33:37.223856Z"
    },
    "papermill": {
     "duration": 0.033383,
     "end_time": "2025-08-19T18:33:37.235828",
     "exception": false,
     "start_time": "2025-08-19T18:33:37.202445",
     "status": "completed"
    },
    "tags": []
   },
   "outputs": [
    {
     "data": {
      "text/plain": [
       "accuracy                   0.224869\n",
       "balanced accuracy          0.549732\n",
       "f1                         0.246187\n",
       "precision                  0.140638\n",
       "false positive rate        0.887241\n",
       "false negative rate        0.013295\n",
       "selection rate             0.900000\n",
       "count                  89710.000000\n",
       "dtype: float64"
      ]
     },
     "execution_count": 59,
     "metadata": {},
     "output_type": "execute_result"
    }
   ],
   "source": [
    "metric_frame.overall"
   ]
  },
  {
   "cell_type": "markdown",
   "id": "d93333c9",
   "metadata": {
    "papermill": {
     "duration": 0.012646,
     "end_time": "2025-08-19T18:33:37.271013",
     "exception": false,
     "start_time": "2025-08-19T18:33:37.258367",
     "status": "completed"
    },
    "tags": []
   },
   "source": [
    "By Group"
   ]
  },
  {
   "cell_type": "code",
   "execution_count": 60,
   "id": "52256966",
   "metadata": {
    "execution": {
     "iopub.execute_input": "2025-08-19T18:33:37.298629Z",
     "iopub.status.busy": "2025-08-19T18:33:37.297492Z",
     "iopub.status.idle": "2025-08-19T18:33:37.321029Z",
     "shell.execute_reply": "2025-08-19T18:33:37.319999Z"
    },
    "papermill": {
     "duration": 0.039351,
     "end_time": "2025-08-19T18:33:37.322746",
     "exception": false,
     "start_time": "2025-08-19T18:33:37.283395",
     "status": "completed"
    },
    "tags": []
   },
   "outputs": [
    {
     "data": {
      "text/html": [
       "<div>\n",
       "<style scoped>\n",
       "    .dataframe tbody tr th:only-of-type {\n",
       "        vertical-align: middle;\n",
       "    }\n",
       "\n",
       "    .dataframe tbody tr th {\n",
       "        vertical-align: top;\n",
       "    }\n",
       "\n",
       "    .dataframe thead th {\n",
       "        text-align: right;\n",
       "    }\n",
       "</style>\n",
       "<table border=\"1\" class=\"dataframe\">\n",
       "  <thead>\n",
       "    <tr style=\"text-align: right;\">\n",
       "      <th></th>\n",
       "      <th>accuracy</th>\n",
       "      <th>balanced accuracy</th>\n",
       "      <th>f1</th>\n",
       "      <th>precision</th>\n",
       "      <th>false positive rate</th>\n",
       "      <th>false negative rate</th>\n",
       "      <th>selection rate</th>\n",
       "      <th>count</th>\n",
       "    </tr>\n",
       "    <tr>\n",
       "      <th>majmin</th>\n",
       "      <th></th>\n",
       "      <th></th>\n",
       "      <th></th>\n",
       "      <th></th>\n",
       "      <th></th>\n",
       "      <th></th>\n",
       "      <th></th>\n",
       "      <th></th>\n",
       "    </tr>\n",
       "  </thead>\n",
       "  <tbody>\n",
       "    <tr>\n",
       "      <th>majority</th>\n",
       "      <td>0.247969</td>\n",
       "      <td>0.560055</td>\n",
       "      <td>0.256992</td>\n",
       "      <td>0.147790</td>\n",
       "      <td>0.864135</td>\n",
       "      <td>0.015755</td>\n",
       "      <td>0.880006</td>\n",
       "      <td>69170.0</td>\n",
       "    </tr>\n",
       "    <tr>\n",
       "      <th>minority</th>\n",
       "      <td>0.147079</td>\n",
       "      <td>0.516314</td>\n",
       "      <td>0.212169</td>\n",
       "      <td>0.118728</td>\n",
       "      <td>0.963570</td>\n",
       "      <td>0.003801</td>\n",
       "      <td>0.967332</td>\n",
       "      <td>20540.0</td>\n",
       "    </tr>\n",
       "  </tbody>\n",
       "</table>\n",
       "</div>"
      ],
      "text/plain": [
       "          accuracy  balanced accuracy        f1  precision  \\\n",
       "majmin                                                       \n",
       "majority  0.247969           0.560055  0.256992   0.147790   \n",
       "minority  0.147079           0.516314  0.212169   0.118728   \n",
       "\n",
       "          false positive rate  false negative rate  selection rate    count  \n",
       "majmin                                                                       \n",
       "majority             0.864135             0.015755        0.880006  69170.0  \n",
       "minority             0.963570             0.003801        0.967332  20540.0  "
      ]
     },
     "execution_count": 60,
     "metadata": {},
     "output_type": "execute_result"
    }
   ],
   "source": [
    "metric_frame.by_group"
   ]
  },
  {
   "cell_type": "code",
   "execution_count": 61,
   "id": "6e6c20ae",
   "metadata": {
    "execution": {
     "iopub.execute_input": "2025-08-19T18:33:37.384110Z",
     "iopub.status.busy": "2025-08-19T18:33:37.383050Z",
     "iopub.status.idle": "2025-08-19T18:33:39.235023Z",
     "shell.execute_reply": "2025-08-19T18:33:39.233934Z"
    },
    "papermill": {
     "duration": 1.893172,
     "end_time": "2025-08-19T18:33:39.236358",
     "exception": false,
     "start_time": "2025-08-19T18:33:37.343186",
     "status": "completed"
    },
    "tags": []
   },
   "outputs": [
    {
     "data": {
      "text/plain": [
       "array([[<Axes: title={'center': 'accuracy'}, xlabel='majmin'>,\n",
       "        <Axes: title={'center': 'balanced accuracy'}, xlabel='majmin'>,\n",
       "        <Axes: title={'center': 'f1'}, xlabel='majmin'>],\n",
       "       [<Axes: title={'center': 'precision'}, xlabel='majmin'>,\n",
       "        <Axes: title={'center': 'false positive rate'}, xlabel='majmin'>,\n",
       "        <Axes: title={'center': 'false negative rate'}, xlabel='majmin'>],\n",
       "       [<Axes: title={'center': 'selection rate'}, xlabel='majmin'>,\n",
       "        <Axes: title={'center': 'count'}, xlabel='majmin'>,\n",
       "        <Axes: xlabel='majmin'>]], dtype=object)"
      ]
     },
     "execution_count": 61,
     "metadata": {},
     "output_type": "execute_result"
    },
    {
     "data": {
      "image/png": "[encoded data removed]",
      "text/plain": [
       "<Figure size 1200x800 with 9 Axes>"
      ]
     },
     "metadata": {},
     "output_type": "display_data"
    }
   ],
   "source": [
    "# In a graphic\n",
    "metric_frame.by_group.plot.bar(\n",
    "    subplots=True,\n",
    "    layout=[3, 3],\n",
    "    legend=False,\n",
    "    figsize=[12, 8],\n",
    "    title=\"Show all metrics\",\n",
    ")"
   ]
  },
  {
   "cell_type": "markdown",
   "id": "b2e433ae",
   "metadata": {
    "papermill": {
     "duration": 0.013661,
     "end_time": "2025-08-19T18:33:39.267171",
     "exception": false,
     "start_time": "2025-08-19T18:33:39.253510",
     "status": "completed"
    },
    "tags": []
   },
   "source": [
    "# Final Output"
   ]
  },
  {
   "cell_type": "code",
   "execution_count": 62,
   "id": "3871301e",
   "metadata": {
    "execution": {
     "iopub.execute_input": "2025-08-19T18:33:39.298796Z",
     "iopub.status.busy": "2025-08-19T18:33:39.296743Z",
     "iopub.status.idle": "2025-08-19T18:33:39.315136Z",
     "shell.execute_reply": "2025-08-19T18:33:39.313824Z"
    },
    "papermill": {
     "duration": 0.035977,
     "end_time": "2025-08-19T18:33:39.316776",
     "exception": false,
     "start_time": "2025-08-19T18:33:39.280799",
     "status": "completed"
    },
    "tags": []
   },
   "outputs": [
    {
     "data": {
      "text/plain": [
       "4"
      ]
     },
     "execution_count": 62,
     "metadata": {},
     "output_type": "execute_result"
    }
   ],
   "source": [
    "sub_universes = universe_analysis.generate_sub_universes()\n",
    "len(sub_universes)"
   ]
  },
  {
   "cell_type": "code",
   "execution_count": 63,
   "id": "d9cfdaca",
   "metadata": {
    "execution": {
     "iopub.execute_input": "2025-08-19T18:33:39.358531Z",
     "iopub.status.busy": "2025-08-19T18:33:39.356505Z",
     "iopub.status.idle": "2025-08-19T18:33:39.368448Z",
     "shell.execute_reply": "2025-08-19T18:33:39.367291Z"
    },
    "papermill": {
     "duration": 0.029996,
     "end_time": "2025-08-19T18:33:39.369847",
     "exception": false,
     "start_time": "2025-08-19T18:33:39.339851",
     "status": "completed"
    },
    "tags": []
   },
   "outputs": [],
   "source": [
    "def filter_sub_universe_data(sub_universe, org_test):\n",
    "    # Keep all rows — no filtering\n",
    "    keep_rows_mask = np.ones(org_test.shape[0], dtype=bool)\n",
    "\n",
    "    print(f\"[INFO] Keeping all rows: {keep_rows_mask.sum()} rows retained.\")\n",
    "    return keep_rows_mask"
   ]
  },
  {
   "cell_type": "code",
   "execution_count": 64,
   "id": "2bc31ac1",
   "metadata": {
    "execution": {
     "iopub.execute_input": "2025-08-19T18:33:39.400882Z",
     "iopub.status.busy": "2025-08-19T18:33:39.399805Z",
     "iopub.status.idle": "2025-08-19T18:33:46.017421Z",
     "shell.execute_reply": "2025-08-19T18:33:46.016378Z"
    },
    "papermill": {
     "duration": 6.635636,
     "end_time": "2025-08-19T18:33:46.019933",
     "exception": false,
     "start_time": "2025-08-19T18:33:39.384297",
     "status": "completed"
    },
    "tags": []
   },
   "outputs": [
    {
     "name": "stdout",
     "output_type": "stream",
     "text": [
      "Stopping execution_time clock.\n",
      "[INFO] Keeping all rows: 89710 rows retained.\n"
     ]
    },
    {
     "name": "stdout",
     "output_type": "stream",
     "text": [
      "[INFO] Keeping all rows: 89710 rows retained.\n"
     ]
    },
    {
     "name": "stdout",
     "output_type": "stream",
     "text": [
      "[INFO] Keeping all rows: 89710 rows retained.\n"
     ]
    },
    {
     "name": "stdout",
     "output_type": "stream",
     "text": [
      "[INFO] Keeping all rows: 89710 rows retained.\n"
     ]
    },
    {
     "data": {
      "text/html": [
       "<div>\n",
       "<style scoped>\n",
       "    .dataframe tbody tr th:only-of-type {\n",
       "        vertical-align: middle;\n",
       "    }\n",
       "\n",
       "    .dataframe tbody tr th {\n",
       "        vertical-align: top;\n",
       "    }\n",
       "\n",
       "    .dataframe thead th {\n",
       "        text-align: right;\n",
       "    }\n",
       "</style>\n",
       "<table border=\"1\" class=\"dataframe\">\n",
       "  <thead>\n",
       "    <tr style=\"text-align: right;\">\n",
       "      <th></th>\n",
       "      <th>run_no</th>\n",
       "      <th>universe_id</th>\n",
       "      <th>universe_settings</th>\n",
       "      <th>execution_time</th>\n",
       "      <th>test_size_n</th>\n",
       "      <th>test_size_frac</th>\n",
       "      <th>fair_main_equalized_odds_difference</th>\n",
       "      <th>fair_main_equalized_odds_ratio</th>\n",
       "      <th>fair_main_demographic_parity_difference</th>\n",
       "      <th>fair_main_demographic_parity_ratio</th>\n",
       "      <th>...</th>\n",
       "      <th>perf_grp_precision_0</th>\n",
       "      <th>perf_grp_precision_1</th>\n",
       "      <th>perf_grp_false positive rate_0</th>\n",
       "      <th>perf_grp_false positive rate_1</th>\n",
       "      <th>perf_grp_false negative rate_0</th>\n",
       "      <th>perf_grp_false negative rate_1</th>\n",
       "      <th>perf_grp_selection rate_0</th>\n",
       "      <th>perf_grp_selection rate_1</th>\n",
       "      <th>perf_grp_count_0</th>\n",
       "      <th>perf_grp_count_1</th>\n",
       "    </tr>\n",
       "  </thead>\n",
       "  <tbody>\n",
       "    <tr>\n",
       "      <th>0</th>\n",
       "      <td>3</td>\n",
       "      <td>879e5dc5a85f4f20f592797c92185d54</td>\n",
       "      <td>{\"cutoff\": \"quantile_0.1\", \"eval_fairness_grou...</td>\n",
       "      <td>26.18673</td>\n",
       "      <td>89710</td>\n",
       "      <td>1.0</td>\n",
       "      <td>0.099436</td>\n",
       "      <td>0.896805</td>\n",
       "      <td>0.087326</td>\n",
       "      <td>0.909725</td>\n",
       "      <td>...</td>\n",
       "      <td>NaN</td>\n",
       "      <td>NaN</td>\n",
       "      <td>NaN</td>\n",
       "      <td>NaN</td>\n",
       "      <td>NaN</td>\n",
       "      <td>NaN</td>\n",
       "      <td>NaN</td>\n",
       "      <td>NaN</td>\n",
       "      <td>NaN</td>\n",
       "      <td>NaN</td>\n",
       "    </tr>\n",
       "    <tr>\n",
       "      <th>0</th>\n",
       "      <td>3</td>\n",
       "      <td>879e5dc5a85f4f20f592797c92185d54</td>\n",
       "      <td>{\"cutoff\": \"quantile_0.1\", \"eval_fairness_grou...</td>\n",
       "      <td>26.18673</td>\n",
       "      <td>89710</td>\n",
       "      <td>1.0</td>\n",
       "      <td>0.099436</td>\n",
       "      <td>0.896805</td>\n",
       "      <td>0.087326</td>\n",
       "      <td>0.909725</td>\n",
       "      <td>...</td>\n",
       "      <td>0.118728</td>\n",
       "      <td>0.147790</td>\n",
       "      <td>0.963570</td>\n",
       "      <td>0.864135</td>\n",
       "      <td>0.003801</td>\n",
       "      <td>0.015755</td>\n",
       "      <td>0.967332</td>\n",
       "      <td>0.880006</td>\n",
       "      <td>20540.0</td>\n",
       "      <td>69170.0</td>\n",
       "    </tr>\n",
       "    <tr>\n",
       "      <th>0</th>\n",
       "      <td>3</td>\n",
       "      <td>879e5dc5a85f4f20f592797c92185d54</td>\n",
       "      <td>{\"cutoff\": \"quantile_0.25\", \"eval_fairness_gro...</td>\n",
       "      <td>26.18673</td>\n",
       "      <td>89710</td>\n",
       "      <td>1.0</td>\n",
       "      <td>0.102053</td>\n",
       "      <td>0.872464</td>\n",
       "      <td>0.084891</td>\n",
       "      <td>0.895901</td>\n",
       "      <td>...</td>\n",
       "      <td>NaN</td>\n",
       "      <td>NaN</td>\n",
       "      <td>NaN</td>\n",
       "      <td>NaN</td>\n",
       "      <td>NaN</td>\n",
       "      <td>NaN</td>\n",
       "      <td>NaN</td>\n",
       "      <td>NaN</td>\n",
       "      <td>NaN</td>\n",
       "      <td>NaN</td>\n",
       "    </tr>\n",
       "    <tr>\n",
       "      <th>0</th>\n",
       "      <td>3</td>\n",
       "      <td>879e5dc5a85f4f20f592797c92185d54</td>\n",
       "      <td>{\"cutoff\": \"quantile_0.25\", \"eval_fairness_gro...</td>\n",
       "      <td>26.18673</td>\n",
       "      <td>89710</td>\n",
       "      <td>1.0</td>\n",
       "      <td>0.102053</td>\n",
       "      <td>0.872464</td>\n",
       "      <td>0.084891</td>\n",
       "      <td>0.895901</td>\n",
       "      <td>...</td>\n",
       "      <td>0.131881</td>\n",
       "      <td>0.170694</td>\n",
       "      <td>0.800187</td>\n",
       "      <td>0.698134</td>\n",
       "      <td>0.067145</td>\n",
       "      <td>0.056236</td>\n",
       "      <td>0.815482</td>\n",
       "      <td>0.730591</td>\n",
       "      <td>20540.0</td>\n",
       "      <td>69170.0</td>\n",
       "    </tr>\n",
       "  </tbody>\n",
       "</table>\n",
       "<p>4 rows × 50 columns</p>\n",
       "</div>"
      ],
      "text/plain": [
       "  run_no                       universe_id  \\\n",
       "0      3  879e5dc5a85f4f20f592797c92185d54   \n",
       "0      3  879e5dc5a85f4f20f592797c92185d54   \n",
       "0      3  879e5dc5a85f4f20f592797c92185d54   \n",
       "0      3  879e5dc5a85f4f20f592797c92185d54   \n",
       "\n",
       "                                   universe_settings  execution_time  \\\n",
       "0  {\"cutoff\": \"quantile_0.1\", \"eval_fairness_grou...        26.18673   \n",
       "0  {\"cutoff\": \"quantile_0.1\", \"eval_fairness_grou...        26.18673   \n",
       "0  {\"cutoff\": \"quantile_0.25\", \"eval_fairness_gro...        26.18673   \n",
       "0  {\"cutoff\": \"quantile_0.25\", \"eval_fairness_gro...        26.18673   \n",
       "\n",
       "   test_size_n  test_size_frac  fair_main_equalized_odds_difference  \\\n",
       "0        89710             1.0                             0.099436   \n",
       "0        89710             1.0                             0.099436   \n",
       "0        89710             1.0                             0.102053   \n",
       "0        89710             1.0                             0.102053   \n",
       "\n",
       "   fair_main_equalized_odds_ratio  fair_main_demographic_parity_difference  \\\n",
       "0                        0.896805                                 0.087326   \n",
       "0                        0.896805                                 0.087326   \n",
       "0                        0.872464                                 0.084891   \n",
       "0                        0.872464                                 0.084891   \n",
       "\n",
       "   fair_main_demographic_parity_ratio  ...  perf_grp_precision_0  \\\n",
       "0                            0.909725  ...                   NaN   \n",
       "0                            0.909725  ...              0.118728   \n",
       "0                            0.895901  ...                   NaN   \n",
       "0                            0.895901  ...              0.131881   \n",
       "\n",
       "   perf_grp_precision_1  perf_grp_false positive rate_0  \\\n",
       "0                   NaN                             NaN   \n",
       "0              0.147790                        0.963570   \n",
       "0                   NaN                             NaN   \n",
       "0              0.170694                        0.800187   \n",
       "\n",
       "   perf_grp_false positive rate_1  perf_grp_false negative rate_0  \\\n",
       "0                             NaN                             NaN   \n",
       "0                        0.864135                        0.003801   \n",
       "0                             NaN                             NaN   \n",
       "0                        0.698134                        0.067145   \n",
       "\n",
       "   perf_grp_false negative rate_1  perf_grp_selection rate_0  \\\n",
       "0                             NaN                        NaN   \n",
       "0                        0.015755                   0.967332   \n",
       "0                             NaN                        NaN   \n",
       "0                        0.056236                   0.815482   \n",
       "\n",
       "   perf_grp_selection rate_1  perf_grp_count_0  perf_grp_count_1  \n",
       "0                        NaN               NaN               NaN  \n",
       "0                   0.880006           20540.0           69170.0  \n",
       "0                        NaN               NaN               NaN  \n",
       "0                   0.730591           20540.0           69170.0  \n",
       "\n",
       "[4 rows x 50 columns]"
      ]
     },
     "execution_count": 64,
     "metadata": {},
     "output_type": "execute_result"
    }
   ],
   "source": [
    "final_output = universe_analysis.generate_final_output(\n",
    "    y_pred_prob=probs_test,\n",
    "    y_test=y_true,\n",
    "    org_test=org_test,\n",
    "    filter_data=filter_sub_universe_data,\n",
    "    cp_metrics_df=cp_metrics_df,\n",
    "    save=True,\n",
    ")\n",
    "final_output"
   ]
  },
  {
   "cell_type": "code",
   "execution_count": null,
   "id": "8b80a1ff",
   "metadata": {
    "papermill": {
     "duration": 0.015416,
     "end_time": "2025-08-19T18:33:46.066411",
     "exception": false,
     "start_time": "2025-08-19T18:33:46.050995",
     "status": "completed"
    },
    "tags": []
   },
   "outputs": [],
   "source": []
  },
  {
   "cell_type": "code",
   "execution_count": null,
   "id": "275c9fad",
   "metadata": {
    "papermill": {
     "duration": 0.014192,
     "end_time": "2025-08-19T18:33:46.095067",
     "exception": false,
     "start_time": "2025-08-19T18:33:46.080875",
     "status": "completed"
    },
    "tags": []
   },
   "outputs": [],
   "source": []
  }
 ],
 "metadata": {
  "celltoolbar": "Tags",
  "kernelspec": {
   "display_name": "Python (CMA Fairness)",
   "language": "python",
   "name": "cma_fair_env"
  },
  "language_info": {
   "codemirror_mode": {
    "name": "ipython",
    "version": 3
   },
   "file_extension": ".py",
   "mimetype": "text/x-python",
   "name": "python",
   "nbconvert_exporter": "python",
   "pygments_lexer": "ipython3",
   "version": "3.10.12"
  },
  "papermill": {
   "default_parameters": {},
   "duration": 36.499502,
   "end_time": "2025-08-19T18:33:46.938481",
   "environment_variables": {},
   "exception": null,
   "input_path": "universe_analysis.ipynb",
   "output_path": "output/runs/3/notebooks/m_3-879e5dc5a85f4f20f592797c92185d54.ipynb",
   "parameters": {
    "output_dir": "output",
    "run_no": "3",
    "seed": "2023",
    "universe": "{\"cutoff\": [\"quantile_0.1\", \"quantile_0.25\"], \"eval_fairness_grouping\": [\"majority-minority\", \"nationality-all\"], \"exclude_features\": \"none\", \"exclude_subgroups\": \"drop-non-german\", \"model\": \"gbm\", \"scale\": \"scale\", \"training_size\": \"5k\", \"training_year\": \"2012_14\"}",
    "universe_id": "879e5dc5a85f4f20f592797c92185d54"
   },
   "start_time": "2025-08-19T18:33:10.438979",
   "version": "2.6.0"
  }
 },
 "nbformat": 4,
 "nbformat_minor": 5
}