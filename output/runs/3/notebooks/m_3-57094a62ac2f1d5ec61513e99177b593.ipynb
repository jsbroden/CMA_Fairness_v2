{
 "cells": [
  {
   "cell_type": "markdown",
   "id": "ef23dbb3",
   "metadata": {
    "papermill": {
     "duration": 0.0239,
     "end_time": "2025-08-19T18:23:17.917772",
     "exception": false,
     "start_time": "2025-08-19T18:23:17.893872",
     "status": "completed"
    },
    "tags": []
   },
   "source": [
    "# Setup"
   ]
  },
  {
   "cell_type": "code",
   "execution_count": 1,
   "id": "0bc8e7dc",
   "metadata": {
    "execution": {
     "iopub.execute_input": "2025-08-19T18:23:17.941281Z",
     "iopub.status.busy": "2025-08-19T18:23:17.940789Z",
     "iopub.status.idle": "2025-08-19T18:23:17.951266Z",
     "shell.execute_reply": "2025-08-19T18:23:17.950403Z"
    },
    "papermill": {
     "duration": 0.032845,
     "end_time": "2025-08-19T18:23:17.963791",
     "exception": false,
     "start_time": "2025-08-19T18:23:17.930946",
     "status": "completed"
    },
    "tags": []
   },
   "outputs": [
    {
     "name": "stdout",
     "output_type": "stream",
     "text": [
      "/dss/dsshome1/0C/ra93lal2/cma/CMA_Fairness_v2\n"
     ]
    },
    {
     "name": "stderr",
     "output_type": "stream",
     "text": [
      "/dss/dsshome1/0C/ra93lal2/.local/share/virtualenvs/CMA_Fairness_v2-3j10GkSs/lib/python3.10/site-packages/IPython/core/magics/osm.py:393: UserWarning: This is now an optional IPython functionality, using bookmarks requires you to install the `pickleshare` library.\n",
      "  bkms = self.shell.db.get('bookmarks', {})\n",
      "/dss/dsshome1/0C/ra93lal2/.local/share/virtualenvs/CMA_Fairness_v2-3j10GkSs/lib/python3.10/site-packages/IPython/core/magics/osm.py:417: UserWarning: This is now an optional IPython functionality, setting dhist requires you to install the `pickleshare` library.\n",
      "  self.shell.db['dhist'] = compress_dhist(dhist)[-100:]\n"
     ]
    }
   ],
   "source": [
    "%cd ~/cma/CMA_Fairness_v2"
   ]
  },
  {
   "cell_type": "markdown",
   "id": "9d235661",
   "metadata": {
    "papermill": {
     "duration": 0.011959,
     "end_time": "2025-08-19T18:23:17.992925",
     "exception": false,
     "start_time": "2025-08-19T18:23:17.980966",
     "status": "completed"
    },
    "tags": []
   },
   "source": [
    "The following cell holds the definition of our parameters, these values can be overriden by rendering the with e.g. the following command:\n",
    "\n",
    "papermill -p alpha 0.2 -p ratio 0.3 universe_analysis.ipynb output/test_run.ipynb"
   ]
  },
  {
   "cell_type": "code",
   "execution_count": 2,
   "id": "4a789d8e",
   "metadata": {
    "execution": {
     "iopub.execute_input": "2025-08-19T18:23:18.014230Z",
     "iopub.status.busy": "2025-08-19T18:23:18.013760Z",
     "iopub.status.idle": "2025-08-19T18:23:18.018882Z",
     "shell.execute_reply": "2025-08-19T18:23:18.018071Z"
    },
    "papermill": {
     "duration": 0.018833,
     "end_time": "2025-08-19T18:23:18.021806",
     "exception": false,
     "start_time": "2025-08-19T18:23:18.002973",
     "status": "completed"
    },
    "tags": []
   },
   "outputs": [
    {
     "name": "stdout",
     "output_type": "stream",
     "text": [
      "Current working directory: /dss/dsshome1/0C/ra93lal2/cma/CMA_Fairness_v2\n"
     ]
    }
   ],
   "source": [
    "import os\n",
    "print(\"Current working directory:\", os.getcwd())"
   ]
  },
  {
   "cell_type": "code",
   "execution_count": 3,
   "id": "4132aaed",
   "metadata": {
    "execution": {
     "iopub.execute_input": "2025-08-19T18:23:18.041462Z",
     "iopub.status.busy": "2025-08-19T18:23:18.040925Z",
     "iopub.status.idle": "2025-08-19T18:23:18.045793Z",
     "shell.execute_reply": "2025-08-19T18:23:18.045004Z"
    },
    "papermill": {
     "duration": 0.017705,
     "end_time": "2025-08-19T18:23:18.048660",
     "exception": false,
     "start_time": "2025-08-19T18:23:18.030955",
     "status": "completed"
    },
    "tags": [
     "parameters"
    ]
   },
   "outputs": [],
   "source": [
    "run_no = 0\n",
    "universe_id = \"test\"\n",
    "universe = {\n",
    "    \"training_size\": \"5k\", # \"25k\", \"5k\", \"1k\"\n",
    "    \"training_year\": \"2012_14\", # \"2014\", \"2012_14\", \"2010_14\"\n",
    "    \"scale\": \"scale\", # \"scale\", \"do-not-scale\",\n",
    "    \"model\": \"elasticnet\", # \"logreg\", \"penalized_logreg\", \"rf\", \"gbm\", \"elasticnet\"\n",
    "    \"cutoff\": [\"quantile_0.15\", \"quantile_0.30\"],\n",
    "    \"exclude_features\": \"age\", # \"none\", \"nationality\", \"sex\", \"nationality-sex\", \"age\"\n",
    "    \"exclude_subgroups\": \"drop-non-german\", # \"keep-all\", \"drop-non-german\"\n",
    "    \"eval_fairness_grouping\": [\"majority-minority\", \"nationality-all\"]\n",
    "}\n",
    "\n",
    "output_dir=\"./output\"\n",
    "seed=0"
   ]
  },
  {
   "cell_type": "code",
   "execution_count": 4,
   "id": "58438007",
   "metadata": {
    "execution": {
     "iopub.execute_input": "2025-08-19T18:23:18.080331Z",
     "iopub.status.busy": "2025-08-19T18:23:18.079893Z",
     "iopub.status.idle": "2025-08-19T18:23:18.084405Z",
     "shell.execute_reply": "2025-08-19T18:23:18.083563Z"
    },
    "papermill": {
     "duration": 0.017885,
     "end_time": "2025-08-19T18:23:18.085720",
     "exception": false,
     "start_time": "2025-08-19T18:23:18.067835",
     "status": "completed"
    },
    "tags": [
     "injected-parameters"
    ]
   },
   "outputs": [],
   "source": [
    "# Parameters\n",
    "universe_id = \"57094a62ac2f1d5ec61513e99177b593\"\n",
    "run_no = \"3\"\n",
    "universe = \"{\\\"cutoff\\\": [\\\"quantile_0.1\\\", \\\"quantile_0.25\\\"], \\\"eval_fairness_grouping\\\": [\\\"majority-minority\\\", \\\"nationality-all\\\"], \\\"exclude_features\\\": \\\"none\\\", \\\"exclude_subgroups\\\": \\\"keep-all\\\", \\\"model\\\": \\\"penalized_logreg\\\", \\\"scale\\\": \\\"scale\\\", \\\"training_size\\\": \\\"5k\\\", \\\"training_year\\\": \\\"2014\\\"}\"\n",
    "output_dir = \"output\"\n",
    "seed = \"2023\"\n"
   ]
  },
  {
   "cell_type": "code",
   "execution_count": 5,
   "id": "a5d7941f",
   "metadata": {
    "execution": {
     "iopub.execute_input": "2025-08-19T18:23:18.106939Z",
     "iopub.status.busy": "2025-08-19T18:23:18.106149Z",
     "iopub.status.idle": "2025-08-19T18:23:18.111470Z",
     "shell.execute_reply": "2025-08-19T18:23:18.110521Z"
    },
    "papermill": {
     "duration": 0.01678,
     "end_time": "2025-08-19T18:23:18.112582",
     "exception": false,
     "start_time": "2025-08-19T18:23:18.095802",
     "status": "completed"
    },
    "tags": []
   },
   "outputs": [],
   "source": [
    "import json\n",
    "if isinstance(universe, str):\n",
    "    universe = json.loads(universe)"
   ]
  },
  {
   "cell_type": "code",
   "execution_count": 6,
   "id": "7076ccb1",
   "metadata": {
    "execution": {
     "iopub.execute_input": "2025-08-19T18:23:18.134458Z",
     "iopub.status.busy": "2025-08-19T18:23:18.134064Z",
     "iopub.status.idle": "2025-08-19T18:23:18.175222Z",
     "shell.execute_reply": "2025-08-19T18:23:18.174377Z"
    },
    "papermill": {
     "duration": 0.054193,
     "end_time": "2025-08-19T18:23:18.177227",
     "exception": false,
     "start_time": "2025-08-19T18:23:18.123034",
     "status": "completed"
    },
    "tags": []
   },
   "outputs": [],
   "source": [
    "# Auto-reload the custom package\n",
    "%load_ext autoreload\n",
    "%autoreload 1\n",
    "%aimport fairness_multiverse"
   ]
  },
  {
   "cell_type": "code",
   "execution_count": 7,
   "id": "94c8eb93",
   "metadata": {
    "execution": {
     "iopub.execute_input": "2025-08-19T18:23:18.203534Z",
     "iopub.status.busy": "2025-08-19T18:23:18.202272Z",
     "iopub.status.idle": "2025-08-19T18:23:19.819152Z",
     "shell.execute_reply": "2025-08-19T18:23:19.818106Z"
    },
    "papermill": {
     "duration": 1.630009,
     "end_time": "2025-08-19T18:23:19.820683",
     "exception": false,
     "start_time": "2025-08-19T18:23:18.190674",
     "status": "completed"
    },
    "tags": []
   },
   "outputs": [],
   "source": [
    "from fairness_multiverse.universe import UniverseAnalysis\n",
    "\n",
    "universe_analysis = UniverseAnalysis(\n",
    "    run_no = run_no,\n",
    "    universe_id = universe_id,\n",
    "    universe = universe,\n",
    "    output_dir=output_dir,\n",
    ")"
   ]
  },
  {
   "cell_type": "code",
   "execution_count": 8,
   "id": "2a6381cf",
   "metadata": {
    "execution": {
     "iopub.execute_input": "2025-08-19T18:23:19.864646Z",
     "iopub.status.busy": "2025-08-19T18:23:19.863387Z",
     "iopub.status.idle": "2025-08-19T18:23:19.876560Z",
     "shell.execute_reply": "2025-08-19T18:23:19.874057Z"
    },
    "papermill": {
     "duration": 0.041257,
     "end_time": "2025-08-19T18:23:19.878668",
     "exception": false,
     "start_time": "2025-08-19T18:23:19.837411",
     "status": "completed"
    },
    "tags": []
   },
   "outputs": [
    {
     "name": "stdout",
     "output_type": "stream",
     "text": [
      "Using Seed: 2023\n"
     ]
    }
   ],
   "source": [
    "import numpy as np\n",
    "parsed_seed = int(seed)\n",
    "np.random.seed(parsed_seed)\n",
    "print(f\"Using Seed: {parsed_seed}\")"
   ]
  },
  {
   "cell_type": "markdown",
   "id": "b6e958b4",
   "metadata": {
    "papermill": {
     "duration": 0.01192,
     "end_time": "2025-08-19T18:23:19.911975",
     "exception": false,
     "start_time": "2025-08-19T18:23:19.900055",
     "status": "completed"
    },
    "tags": []
   },
   "source": [
    "# Loading Data"
   ]
  },
  {
   "cell_type": "code",
   "execution_count": 9,
   "id": "98701482",
   "metadata": {
    "execution": {
     "iopub.execute_input": "2025-08-19T18:23:19.937482Z",
     "iopub.status.busy": "2025-08-19T18:23:19.936287Z",
     "iopub.status.idle": "2025-08-19T18:23:30.056828Z",
     "shell.execute_reply": "2025-08-19T18:23:30.055932Z"
    },
    "papermill": {
     "duration": 10.136956,
     "end_time": "2025-08-19T18:23:30.058360",
     "exception": false,
     "start_time": "2025-08-19T18:23:19.921404",
     "status": "completed"
    },
    "tags": []
   },
   "outputs": [
    {
     "name": "stdout",
     "output_type": "stream",
     "text": [
      "Loading SIAB data from cache: data/siab_cached.csv.gz\n"
     ]
    },
    {
     "name": "stdout",
     "output_type": "stream",
     "text": [
      "(643690, 164)\n"
     ]
    }
   ],
   "source": [
    "from pathlib import Path\n",
    "import pandas as pd\n",
    "\n",
    "# File paths\n",
    "raw_file = Path(\"data/raw/siab.csv\")\n",
    "cache_file = Path(\"data/siab_cached.csv.gz\")\n",
    "\n",
    "# Ensure cache directory exists\n",
    "cache_file.parent.mkdir(parents=True, exist_ok=True)\n",
    "\n",
    "# Load with simple caching\n",
    "if cache_file.exists():\n",
    "    print(f\"Loading SIAB data from cache: {cache_file}\")\n",
    "    siab = pd.read_csv(cache_file, compression='gzip')\n",
    "else:\n",
    "    print(f\"Cache not found. Reading raw SIAB data: {raw_file}\")\n",
    "    siab = pd.read_csv(raw_file)\n",
    "    siab.to_csv(cache_file, index=False, compression='gzip')\n",
    "    print(f\"Cached SIAB data to: {cache_file}\")\n",
    "\n",
    "print(siab.shape)"
   ]
  },
  {
   "cell_type": "code",
   "execution_count": 10,
   "id": "058d2abb",
   "metadata": {
    "execution": {
     "iopub.execute_input": "2025-08-19T18:23:30.090262Z",
     "iopub.status.busy": "2025-08-19T18:23:30.089216Z",
     "iopub.status.idle": "2025-08-19T18:23:30.215183Z",
     "shell.execute_reply": "2025-08-19T18:23:30.214472Z"
    },
    "papermill": {
     "duration": 0.139099,
     "end_time": "2025-08-19T18:23:30.216465",
     "exception": false,
     "start_time": "2025-08-19T18:23:30.077366",
     "status": "completed"
    },
    "tags": []
   },
   "outputs": [
    {
     "data": {
      "text/html": [
       "<div>\n",
       "<style scoped>\n",
       "    .dataframe tbody tr th:only-of-type {\n",
       "        vertical-align: middle;\n",
       "    }\n",
       "\n",
       "    .dataframe tbody tr th {\n",
       "        vertical-align: top;\n",
       "    }\n",
       "\n",
       "    .dataframe thead th {\n",
       "        text-align: right;\n",
       "    }\n",
       "</style>\n",
       "<table border=\"1\" class=\"dataframe\">\n",
       "  <thead>\n",
       "    <tr style=\"text-align: right;\">\n",
       "      <th></th>\n",
       "      <th>persnr</th>\n",
       "      <th>year</th>\n",
       "      <th>nrEntry</th>\n",
       "      <th>ltue</th>\n",
       "      <th>employed_before</th>\n",
       "      <th>receipt_leh_before</th>\n",
       "      <th>receipt_lhg_before</th>\n",
       "      <th>se_before</th>\n",
       "      <th>ASU_notue_seeking_before</th>\n",
       "      <th>ASU_other_before</th>\n",
       "      <th>...</th>\n",
       "      <th>minijob_tot_dur_byage</th>\n",
       "      <th>ft_tot_dur_byage</th>\n",
       "      <th>befrist_tot_dur_byage</th>\n",
       "      <th>leih_tot_dur_byage</th>\n",
       "      <th>LHG_tot_dur_byage</th>\n",
       "      <th>LEH_tot_dur_byage</th>\n",
       "      <th>almp_tot_dur_byage</th>\n",
       "      <th>almp_aw_tot_dur_byage</th>\n",
       "      <th>se_tot_dur_byage</th>\n",
       "      <th>seeking1_tot_dur_byage</th>\n",
       "    </tr>\n",
       "  </thead>\n",
       "  <tbody>\n",
       "    <tr>\n",
       "      <th>0</th>\n",
       "      <td>7</td>\n",
       "      <td>2015</td>\n",
       "      <td>1</td>\n",
       "      <td>0</td>\n",
       "      <td>1</td>\n",
       "      <td>0</td>\n",
       "      <td>0</td>\n",
       "      <td>0</td>\n",
       "      <td>1</td>\n",
       "      <td>0</td>\n",
       "      <td>...</td>\n",
       "      <td>0.000000</td>\n",
       "      <td>0.000000</td>\n",
       "      <td>15.043478</td>\n",
       "      <td>0.000000</td>\n",
       "      <td>0.000000</td>\n",
       "      <td>0.000000</td>\n",
       "      <td>0.000000</td>\n",
       "      <td>0.000000</td>\n",
       "      <td>0.000000</td>\n",
       "      <td>0.000000</td>\n",
       "    </tr>\n",
       "    <tr>\n",
       "      <th>1</th>\n",
       "      <td>18</td>\n",
       "      <td>2010</td>\n",
       "      <td>1</td>\n",
       "      <td>1</td>\n",
       "      <td>0</td>\n",
       "      <td>0</td>\n",
       "      <td>0</td>\n",
       "      <td>0</td>\n",
       "      <td>0</td>\n",
       "      <td>0</td>\n",
       "      <td>...</td>\n",
       "      <td>0.000000</td>\n",
       "      <td>0.000000</td>\n",
       "      <td>0.000000</td>\n",
       "      <td>0.000000</td>\n",
       "      <td>0.000000</td>\n",
       "      <td>0.000000</td>\n",
       "      <td>0.000000</td>\n",
       "      <td>0.000000</td>\n",
       "      <td>0.000000</td>\n",
       "      <td>0.000000</td>\n",
       "    </tr>\n",
       "    <tr>\n",
       "      <th>2</th>\n",
       "      <td>18</td>\n",
       "      <td>2011</td>\n",
       "      <td>2</td>\n",
       "      <td>0</td>\n",
       "      <td>1</td>\n",
       "      <td>0</td>\n",
       "      <td>1</td>\n",
       "      <td>0</td>\n",
       "      <td>1</td>\n",
       "      <td>0</td>\n",
       "      <td>...</td>\n",
       "      <td>2.714286</td>\n",
       "      <td>2.714286</td>\n",
       "      <td>0.000000</td>\n",
       "      <td>0.000000</td>\n",
       "      <td>10.775510</td>\n",
       "      <td>0.000000</td>\n",
       "      <td>8.367347</td>\n",
       "      <td>0.000000</td>\n",
       "      <td>0.000000</td>\n",
       "      <td>9.836735</td>\n",
       "    </tr>\n",
       "    <tr>\n",
       "      <th>3</th>\n",
       "      <td>18</td>\n",
       "      <td>2012</td>\n",
       "      <td>3</td>\n",
       "      <td>0</td>\n",
       "      <td>1</td>\n",
       "      <td>0</td>\n",
       "      <td>1</td>\n",
       "      <td>0</td>\n",
       "      <td>1</td>\n",
       "      <td>0</td>\n",
       "      <td>...</td>\n",
       "      <td>4.200000</td>\n",
       "      <td>4.200000</td>\n",
       "      <td>0.000000</td>\n",
       "      <td>0.000000</td>\n",
       "      <td>12.100000</td>\n",
       "      <td>0.000000</td>\n",
       "      <td>9.400000</td>\n",
       "      <td>0.000000</td>\n",
       "      <td>0.000000</td>\n",
       "      <td>9.960000</td>\n",
       "    </tr>\n",
       "    <tr>\n",
       "      <th>4</th>\n",
       "      <td>18</td>\n",
       "      <td>2012</td>\n",
       "      <td>4</td>\n",
       "      <td>0</td>\n",
       "      <td>1</td>\n",
       "      <td>0</td>\n",
       "      <td>1</td>\n",
       "      <td>0</td>\n",
       "      <td>1</td>\n",
       "      <td>0</td>\n",
       "      <td>...</td>\n",
       "      <td>5.460000</td>\n",
       "      <td>5.460000</td>\n",
       "      <td>0.000000</td>\n",
       "      <td>0.000000</td>\n",
       "      <td>13.360000</td>\n",
       "      <td>0.000000</td>\n",
       "      <td>10.320000</td>\n",
       "      <td>0.000000</td>\n",
       "      <td>0.000000</td>\n",
       "      <td>10.280000</td>\n",
       "    </tr>\n",
       "    <tr>\n",
       "      <th>...</th>\n",
       "      <td>...</td>\n",
       "      <td>...</td>\n",
       "      <td>...</td>\n",
       "      <td>...</td>\n",
       "      <td>...</td>\n",
       "      <td>...</td>\n",
       "      <td>...</td>\n",
       "      <td>...</td>\n",
       "      <td>...</td>\n",
       "      <td>...</td>\n",
       "      <td>...</td>\n",
       "      <td>...</td>\n",
       "      <td>...</td>\n",
       "      <td>...</td>\n",
       "      <td>...</td>\n",
       "      <td>...</td>\n",
       "      <td>...</td>\n",
       "      <td>...</td>\n",
       "      <td>...</td>\n",
       "      <td>...</td>\n",
       "      <td>...</td>\n",
       "    </tr>\n",
       "    <tr>\n",
       "      <th>643685</th>\n",
       "      <td>1827860</td>\n",
       "      <td>2013</td>\n",
       "      <td>1</td>\n",
       "      <td>0</td>\n",
       "      <td>0</td>\n",
       "      <td>0</td>\n",
       "      <td>1</td>\n",
       "      <td>0</td>\n",
       "      <td>0</td>\n",
       "      <td>1</td>\n",
       "      <td>...</td>\n",
       "      <td>0.000000</td>\n",
       "      <td>0.000000</td>\n",
       "      <td>0.000000</td>\n",
       "      <td>0.000000</td>\n",
       "      <td>0.612903</td>\n",
       "      <td>0.000000</td>\n",
       "      <td>0.000000</td>\n",
       "      <td>0.000000</td>\n",
       "      <td>0.000000</td>\n",
       "      <td>0.000000</td>\n",
       "    </tr>\n",
       "    <tr>\n",
       "      <th>643686</th>\n",
       "      <td>1827860</td>\n",
       "      <td>2015</td>\n",
       "      <td>2</td>\n",
       "      <td>1</td>\n",
       "      <td>0</td>\n",
       "      <td>0</td>\n",
       "      <td>1</td>\n",
       "      <td>0</td>\n",
       "      <td>1</td>\n",
       "      <td>0</td>\n",
       "      <td>...</td>\n",
       "      <td>0.000000</td>\n",
       "      <td>0.000000</td>\n",
       "      <td>0.212121</td>\n",
       "      <td>0.212121</td>\n",
       "      <td>17.363636</td>\n",
       "      <td>0.000000</td>\n",
       "      <td>8.909091</td>\n",
       "      <td>0.000000</td>\n",
       "      <td>0.000000</td>\n",
       "      <td>7.121212</td>\n",
       "    </tr>\n",
       "    <tr>\n",
       "      <th>643687</th>\n",
       "      <td>1827860</td>\n",
       "      <td>2016</td>\n",
       "      <td>3</td>\n",
       "      <td>1</td>\n",
       "      <td>0</td>\n",
       "      <td>0</td>\n",
       "      <td>1</td>\n",
       "      <td>1</td>\n",
       "      <td>0</td>\n",
       "      <td>1</td>\n",
       "      <td>...</td>\n",
       "      <td>0.000000</td>\n",
       "      <td>0.000000</td>\n",
       "      <td>0.294118</td>\n",
       "      <td>0.205882</td>\n",
       "      <td>34.705882</td>\n",
       "      <td>0.000000</td>\n",
       "      <td>10.352941</td>\n",
       "      <td>1.705882</td>\n",
       "      <td>1.705882</td>\n",
       "      <td>23.911765</td>\n",
       "    </tr>\n",
       "    <tr>\n",
       "      <th>643688</th>\n",
       "      <td>1827869</td>\n",
       "      <td>2013</td>\n",
       "      <td>1</td>\n",
       "      <td>1</td>\n",
       "      <td>1</td>\n",
       "      <td>0</td>\n",
       "      <td>0</td>\n",
       "      <td>0</td>\n",
       "      <td>1</td>\n",
       "      <td>0</td>\n",
       "      <td>...</td>\n",
       "      <td>0.000000</td>\n",
       "      <td>0.000000</td>\n",
       "      <td>0.000000</td>\n",
       "      <td>0.000000</td>\n",
       "      <td>0.000000</td>\n",
       "      <td>0.525424</td>\n",
       "      <td>0.000000</td>\n",
       "      <td>0.000000</td>\n",
       "      <td>0.000000</td>\n",
       "      <td>0.000000</td>\n",
       "    </tr>\n",
       "    <tr>\n",
       "      <th>643689</th>\n",
       "      <td>1827869</td>\n",
       "      <td>2014</td>\n",
       "      <td>2</td>\n",
       "      <td>0</td>\n",
       "      <td>0</td>\n",
       "      <td>1</td>\n",
       "      <td>0</td>\n",
       "      <td>0</td>\n",
       "      <td>1</td>\n",
       "      <td>0</td>\n",
       "      <td>...</td>\n",
       "      <td>0.000000</td>\n",
       "      <td>0.666667</td>\n",
       "      <td>0.666667</td>\n",
       "      <td>0.000000</td>\n",
       "      <td>0.000000</td>\n",
       "      <td>8.950000</td>\n",
       "      <td>1.033333</td>\n",
       "      <td>0.083333</td>\n",
       "      <td>0.083333</td>\n",
       "      <td>8.133333</td>\n",
       "    </tr>\n",
       "  </tbody>\n",
       "</table>\n",
       "<p>643690 rows × 164 columns</p>\n",
       "</div>"
      ],
      "text/plain": [
       "         persnr  year  nrEntry  ltue  employed_before  receipt_leh_before  \\\n",
       "0             7  2015        1     0                1                   0   \n",
       "1            18  2010        1     1                0                   0   \n",
       "2            18  2011        2     0                1                   0   \n",
       "3            18  2012        3     0                1                   0   \n",
       "4            18  2012        4     0                1                   0   \n",
       "...         ...   ...      ...   ...              ...                 ...   \n",
       "643685  1827860  2013        1     0                0                   0   \n",
       "643686  1827860  2015        2     1                0                   0   \n",
       "643687  1827860  2016        3     1                0                   0   \n",
       "643688  1827869  2013        1     1                1                   0   \n",
       "643689  1827869  2014        2     0                0                   1   \n",
       "\n",
       "        receipt_lhg_before  se_before  ASU_notue_seeking_before  \\\n",
       "0                        0          0                         1   \n",
       "1                        0          0                         0   \n",
       "2                        1          0                         1   \n",
       "3                        1          0                         1   \n",
       "4                        1          0                         1   \n",
       "...                    ...        ...                       ...   \n",
       "643685                   1          0                         0   \n",
       "643686                   1          0                         1   \n",
       "643687                   1          1                         0   \n",
       "643688                   0          0                         1   \n",
       "643689                   0          0                         1   \n",
       "\n",
       "        ASU_other_before  ...  minijob_tot_dur_byage  ft_tot_dur_byage  \\\n",
       "0                      0  ...               0.000000          0.000000   \n",
       "1                      0  ...               0.000000          0.000000   \n",
       "2                      0  ...               2.714286          2.714286   \n",
       "3                      0  ...               4.200000          4.200000   \n",
       "4                      0  ...               5.460000          5.460000   \n",
       "...                  ...  ...                    ...               ...   \n",
       "643685                 1  ...               0.000000          0.000000   \n",
       "643686                 0  ...               0.000000          0.000000   \n",
       "643687                 1  ...               0.000000          0.000000   \n",
       "643688                 0  ...               0.000000          0.000000   \n",
       "643689                 0  ...               0.000000          0.666667   \n",
       "\n",
       "        befrist_tot_dur_byage  leih_tot_dur_byage  LHG_tot_dur_byage  \\\n",
       "0                   15.043478            0.000000           0.000000   \n",
       "1                    0.000000            0.000000           0.000000   \n",
       "2                    0.000000            0.000000          10.775510   \n",
       "3                    0.000000            0.000000          12.100000   \n",
       "4                    0.000000            0.000000          13.360000   \n",
       "...                       ...                 ...                ...   \n",
       "643685               0.000000            0.000000           0.612903   \n",
       "643686               0.212121            0.212121          17.363636   \n",
       "643687               0.294118            0.205882          34.705882   \n",
       "643688               0.000000            0.000000           0.000000   \n",
       "643689               0.666667            0.000000           0.000000   \n",
       "\n",
       "        LEH_tot_dur_byage  almp_tot_dur_byage  almp_aw_tot_dur_byage  \\\n",
       "0                0.000000            0.000000               0.000000   \n",
       "1                0.000000            0.000000               0.000000   \n",
       "2                0.000000            8.367347               0.000000   \n",
       "3                0.000000            9.400000               0.000000   \n",
       "4                0.000000           10.320000               0.000000   \n",
       "...                   ...                 ...                    ...   \n",
       "643685           0.000000            0.000000               0.000000   \n",
       "643686           0.000000            8.909091               0.000000   \n",
       "643687           0.000000           10.352941               1.705882   \n",
       "643688           0.525424            0.000000               0.000000   \n",
       "643689           8.950000            1.033333               0.083333   \n",
       "\n",
       "        se_tot_dur_byage  seeking1_tot_dur_byage  \n",
       "0               0.000000                0.000000  \n",
       "1               0.000000                0.000000  \n",
       "2               0.000000                9.836735  \n",
       "3               0.000000                9.960000  \n",
       "4               0.000000               10.280000  \n",
       "...                  ...                     ...  \n",
       "643685          0.000000                0.000000  \n",
       "643686          0.000000                7.121212  \n",
       "643687          1.705882               23.911765  \n",
       "643688          0.000000                0.000000  \n",
       "643689          0.083333                8.133333  \n",
       "\n",
       "[643690 rows x 164 columns]"
      ]
     },
     "execution_count": 10,
     "metadata": {},
     "output_type": "execute_result"
    }
   ],
   "source": [
    "siab"
   ]
  },
  {
   "cell_type": "markdown",
   "id": "1f87e805",
   "metadata": {
    "papermill": {
     "duration": 0.009779,
     "end_time": "2025-08-19T18:23:30.236731",
     "exception": false,
     "start_time": "2025-08-19T18:23:30.226952",
     "status": "completed"
    },
    "tags": []
   },
   "source": [
    "# Splitting Data and Setting Training Data Size"
   ]
  },
  {
   "cell_type": "code",
   "execution_count": 11,
   "id": "910ae358",
   "metadata": {
    "execution": {
     "iopub.execute_input": "2025-08-19T18:23:30.259132Z",
     "iopub.status.busy": "2025-08-19T18:23:30.258198Z",
     "iopub.status.idle": "2025-08-19T18:23:30.493781Z",
     "shell.execute_reply": "2025-08-19T18:23:30.493121Z"
    },
    "papermill": {
     "duration": 0.248467,
     "end_time": "2025-08-19T18:23:30.495284",
     "exception": false,
     "start_time": "2025-08-19T18:23:30.246817",
     "status": "completed"
    },
    "tags": []
   },
   "outputs": [],
   "source": [
    "from fairness_multiverse.universe import sample_by_year_size\n",
    "\n",
    "siab_train = sample_by_year_size(siab,\n",
    "                               training_year=universe[\"training_year\"],\n",
    "                               training_size=universe[\"training_size\"])"
   ]
  },
  {
   "cell_type": "code",
   "execution_count": 12,
   "id": "919c8ff5",
   "metadata": {
    "execution": {
     "iopub.execute_input": "2025-08-19T18:23:30.539763Z",
     "iopub.status.busy": "2025-08-19T18:23:30.538657Z",
     "iopub.status.idle": "2025-08-19T18:23:30.550004Z",
     "shell.execute_reply": "2025-08-19T18:23:30.548213Z"
    },
    "papermill": {
     "duration": 0.038161,
     "end_time": "2025-08-19T18:23:30.551697",
     "exception": false,
     "start_time": "2025-08-19T18:23:30.513536",
     "status": "completed"
    },
    "tags": []
   },
   "outputs": [
    {
     "data": {
      "text/plain": [
       "(5000, 164)"
      ]
     },
     "execution_count": 12,
     "metadata": {},
     "output_type": "execute_result"
    }
   ],
   "source": [
    "siab_train.shape"
   ]
  },
  {
   "cell_type": "code",
   "execution_count": 13,
   "id": "feb13bf4",
   "metadata": {
    "execution": {
     "iopub.execute_input": "2025-08-19T18:23:30.583540Z",
     "iopub.status.busy": "2025-08-19T18:23:30.582474Z",
     "iopub.status.idle": "2025-08-19T18:23:30.598529Z",
     "shell.execute_reply": "2025-08-19T18:23:30.597317Z"
    },
    "papermill": {
     "duration": 0.032039,
     "end_time": "2025-08-19T18:23:30.601149",
     "exception": false,
     "start_time": "2025-08-19T18:23:30.569110",
     "status": "completed"
    },
    "tags": []
   },
   "outputs": [
    {
     "data": {
      "text/plain": [
       "year\n",
       "2014    5000\n",
       "dtype: int64"
      ]
     },
     "metadata": {},
     "output_type": "display_data"
    }
   ],
   "source": [
    "display(siab_train.groupby(\"year\").size())"
   ]
  },
  {
   "cell_type": "code",
   "execution_count": 14,
   "id": "0997782f",
   "metadata": {
    "execution": {
     "iopub.execute_input": "2025-08-19T18:23:30.627234Z",
     "iopub.status.busy": "2025-08-19T18:23:30.626960Z",
     "iopub.status.idle": "2025-08-19T18:23:30.873419Z",
     "shell.execute_reply": "2025-08-19T18:23:30.872761Z"
    },
    "papermill": {
     "duration": 0.258876,
     "end_time": "2025-08-19T18:23:30.874861",
     "exception": false,
     "start_time": "2025-08-19T18:23:30.615985",
     "status": "completed"
    },
    "tags": []
   },
   "outputs": [],
   "source": [
    "#siab_train = siab_s[siab_s.year < 2015]\n",
    "siab_calib = siab[siab.year == 2015]\n",
    "siab_test = siab[siab.year == 2016]"
   ]
  },
  {
   "cell_type": "code",
   "execution_count": 15,
   "id": "2c1e4012",
   "metadata": {
    "execution": {
     "iopub.execute_input": "2025-08-19T18:23:30.897043Z",
     "iopub.status.busy": "2025-08-19T18:23:30.896785Z",
     "iopub.status.idle": "2025-08-19T18:23:30.900167Z",
     "shell.execute_reply": "2025-08-19T18:23:30.899579Z"
    },
    "papermill": {
     "duration": 0.015906,
     "end_time": "2025-08-19T18:23:30.901816",
     "exception": false,
     "start_time": "2025-08-19T18:23:30.885910",
     "status": "completed"
    },
    "tags": []
   },
   "outputs": [],
   "source": [
    "#siab_calib.shape"
   ]
  },
  {
   "cell_type": "code",
   "execution_count": 16,
   "id": "f66b54ca",
   "metadata": {
    "execution": {
     "iopub.execute_input": "2025-08-19T18:23:30.923454Z",
     "iopub.status.busy": "2025-08-19T18:23:30.923005Z",
     "iopub.status.idle": "2025-08-19T18:23:30.926804Z",
     "shell.execute_reply": "2025-08-19T18:23:30.926222Z"
    },
    "papermill": {
     "duration": 0.017837,
     "end_time": "2025-08-19T18:23:30.929985",
     "exception": false,
     "start_time": "2025-08-19T18:23:30.912148",
     "status": "completed"
    },
    "tags": []
   },
   "outputs": [],
   "source": [
    "#siab_test.shape"
   ]
  },
  {
   "cell_type": "code",
   "execution_count": 17,
   "id": "27e4384d",
   "metadata": {
    "execution": {
     "iopub.execute_input": "2025-08-19T18:23:30.957642Z",
     "iopub.status.busy": "2025-08-19T18:23:30.956269Z",
     "iopub.status.idle": "2025-08-19T18:23:30.967151Z",
     "shell.execute_reply": "2025-08-19T18:23:30.965905Z"
    },
    "papermill": {
     "duration": 0.026508,
     "end_time": "2025-08-19T18:23:30.969219",
     "exception": false,
     "start_time": "2025-08-19T18:23:30.942711",
     "status": "completed"
    },
    "tags": []
   },
   "outputs": [],
   "source": [
    "X_train = siab_train.iloc[:,4:164]\n",
    "y_train = siab_train.iloc[:, [3]]"
   ]
  },
  {
   "cell_type": "code",
   "execution_count": 18,
   "id": "08ee8389",
   "metadata": {
    "execution": {
     "iopub.execute_input": "2025-08-19T18:23:30.996164Z",
     "iopub.status.busy": "2025-08-19T18:23:30.994628Z",
     "iopub.status.idle": "2025-08-19T18:23:31.063584Z",
     "shell.execute_reply": "2025-08-19T18:23:31.062882Z"
    },
    "papermill": {
     "duration": 0.082254,
     "end_time": "2025-08-19T18:23:31.064970",
     "exception": false,
     "start_time": "2025-08-19T18:23:30.982716",
     "status": "completed"
    },
    "tags": []
   },
   "outputs": [],
   "source": [
    "X_calib = siab_calib.iloc[:,4:164]\n",
    "y_calib = siab_calib.iloc[:, [3]]"
   ]
  },
  {
   "cell_type": "code",
   "execution_count": 19,
   "id": "b7ff42e0",
   "metadata": {
    "execution": {
     "iopub.execute_input": "2025-08-19T18:23:31.111950Z",
     "iopub.status.busy": "2025-08-19T18:23:31.111437Z",
     "iopub.status.idle": "2025-08-19T18:23:31.161002Z",
     "shell.execute_reply": "2025-08-19T18:23:31.160345Z"
    },
    "papermill": {
     "duration": 0.077843,
     "end_time": "2025-08-19T18:23:31.163282",
     "exception": false,
     "start_time": "2025-08-19T18:23:31.085439",
     "status": "completed"
    },
    "tags": []
   },
   "outputs": [],
   "source": [
    "X_test = siab_test.iloc[:,4:164]\n",
    "y_true = siab_test.iloc[:, [3]]"
   ]
  },
  {
   "cell_type": "code",
   "execution_count": 20,
   "id": "0275101e",
   "metadata": {
    "execution": {
     "iopub.execute_input": "2025-08-19T18:23:31.195489Z",
     "iopub.status.busy": "2025-08-19T18:23:31.194365Z",
     "iopub.status.idle": "2025-08-19T18:23:31.298085Z",
     "shell.execute_reply": "2025-08-19T18:23:31.297431Z"
    },
    "papermill": {
     "duration": 0.118494,
     "end_time": "2025-08-19T18:23:31.299829",
     "exception": false,
     "start_time": "2025-08-19T18:23:31.181335",
     "status": "completed"
    },
    "tags": []
   },
   "outputs": [],
   "source": [
    "# Auxiliary data needed downstream in the pipeline\n",
    "\n",
    "org_train = X_train.copy()\n",
    "org_test = X_test.copy()\n",
    "org_calib = X_calib.copy()"
   ]
  },
  {
   "cell_type": "markdown",
   "id": "b461e618",
   "metadata": {
    "papermill": {
     "duration": 0.024715,
     "end_time": "2025-08-19T18:23:31.337683",
     "exception": false,
     "start_time": "2025-08-19T18:23:31.312968",
     "status": "completed"
    },
    "tags": []
   },
   "source": [
    "# Preprocessing Data"
   ]
  },
  {
   "cell_type": "code",
   "execution_count": 21,
   "id": "78e74c4b",
   "metadata": {
    "execution": {
     "iopub.execute_input": "2025-08-19T18:23:31.375215Z",
     "iopub.status.busy": "2025-08-19T18:23:31.373996Z",
     "iopub.status.idle": "2025-08-19T18:23:31.383972Z",
     "shell.execute_reply": "2025-08-19T18:23:31.382482Z"
    },
    "papermill": {
     "duration": 0.028652,
     "end_time": "2025-08-19T18:23:31.387128",
     "exception": false,
     "start_time": "2025-08-19T18:23:31.358476",
     "status": "completed"
    },
    "tags": []
   },
   "outputs": [],
   "source": [
    "# EXCLUDE PROTECTED FEATURES\n",
    "# --------------------------\n",
    "\n",
    "excluded_features = universe[\"exclude_features\"].split(\"-\")\n",
    "excluded_features_dictionary = {\n",
    "    \"nationality\": [\"maxdeutsch1\", \"maxdeutsch.Missing.\"],\n",
    "    \"sex\": [\"frau1\"],\n",
    "    \"age\": [\"age\"],\n",
    "}"
   ]
  },
  {
   "cell_type": "code",
   "execution_count": 22,
   "id": "f8e63555",
   "metadata": {
    "execution": {
     "iopub.execute_input": "2025-08-19T18:23:31.418370Z",
     "iopub.status.busy": "2025-08-19T18:23:31.417890Z",
     "iopub.status.idle": "2025-08-19T18:23:31.422812Z",
     "shell.execute_reply": "2025-08-19T18:23:31.422168Z"
    },
    "papermill": {
     "duration": 0.018771,
     "end_time": "2025-08-19T18:23:31.424369",
     "exception": false,
     "start_time": "2025-08-19T18:23:31.405598",
     "status": "completed"
    },
    "tags": []
   },
   "outputs": [],
   "source": [
    "excluded_features_columns = [\n",
    "    excluded_features_dictionary[f] for f in excluded_features if len(f) > 0 and f != \"none\"\n",
    "]"
   ]
  },
  {
   "cell_type": "code",
   "execution_count": 23,
   "id": "da781f7c",
   "metadata": {
    "execution": {
     "iopub.execute_input": "2025-08-19T18:23:31.447132Z",
     "iopub.status.busy": "2025-08-19T18:23:31.446685Z",
     "iopub.status.idle": "2025-08-19T18:23:31.450890Z",
     "shell.execute_reply": "2025-08-19T18:23:31.450249Z"
    },
    "papermill": {
     "duration": 0.017137,
     "end_time": "2025-08-19T18:23:31.452349",
     "exception": false,
     "start_time": "2025-08-19T18:23:31.435212",
     "status": "completed"
    },
    "tags": []
   },
   "outputs": [],
   "source": [
    "from fairness_multiverse.universe import flatten_once\n",
    "\n",
    "excluded_features_columns = flatten_once(excluded_features_columns)"
   ]
  },
  {
   "cell_type": "code",
   "execution_count": 24,
   "id": "37fef0f0",
   "metadata": {
    "execution": {
     "iopub.execute_input": "2025-08-19T18:23:31.473994Z",
     "iopub.status.busy": "2025-08-19T18:23:31.473734Z",
     "iopub.status.idle": "2025-08-19T18:23:31.478975Z",
     "shell.execute_reply": "2025-08-19T18:23:31.477920Z"
    },
    "papermill": {
     "duration": 0.023354,
     "end_time": "2025-08-19T18:23:31.486135",
     "exception": false,
     "start_time": "2025-08-19T18:23:31.462781",
     "status": "completed"
    },
    "tags": []
   },
   "outputs": [],
   "source": [
    "if len(excluded_features_columns) > 0:\n",
    "    print(f\"Dropping features: {excluded_features_columns}\")\n",
    "    X_train.drop(excluded_features_columns, axis=1, inplace=True)"
   ]
  },
  {
   "cell_type": "code",
   "execution_count": 25,
   "id": "d029e3e9",
   "metadata": {
    "execution": {
     "iopub.execute_input": "2025-08-19T18:23:31.520706Z",
     "iopub.status.busy": "2025-08-19T18:23:31.519609Z",
     "iopub.status.idle": "2025-08-19T18:23:31.527508Z",
     "shell.execute_reply": "2025-08-19T18:23:31.526143Z"
    },
    "papermill": {
     "duration": 0.022805,
     "end_time": "2025-08-19T18:23:31.528897",
     "exception": false,
     "start_time": "2025-08-19T18:23:31.506092",
     "status": "completed"
    },
    "tags": []
   },
   "outputs": [],
   "source": [
    "if len(excluded_features_columns) > 0:\n",
    "    print(f\"Dropping features: {excluded_features_columns}\")\n",
    "    X_test.drop(excluded_features_columns, axis=1, inplace=True)"
   ]
  },
  {
   "cell_type": "code",
   "execution_count": 26,
   "id": "01d571f0",
   "metadata": {
    "execution": {
     "iopub.execute_input": "2025-08-19T18:23:31.556305Z",
     "iopub.status.busy": "2025-08-19T18:23:31.555259Z",
     "iopub.status.idle": "2025-08-19T18:23:31.561488Z",
     "shell.execute_reply": "2025-08-19T18:23:31.560519Z"
    },
    "papermill": {
     "duration": 0.020146,
     "end_time": "2025-08-19T18:23:31.562752",
     "exception": false,
     "start_time": "2025-08-19T18:23:31.542606",
     "status": "completed"
    },
    "tags": []
   },
   "outputs": [],
   "source": [
    "if len(excluded_features_columns) > 0:\n",
    "    print(f\"Dropping features: {excluded_features_columns}\")\n",
    "    X_calib.drop(excluded_features_columns, axis=1, inplace=True)"
   ]
  },
  {
   "cell_type": "code",
   "execution_count": 27,
   "id": "3037356e",
   "metadata": {
    "execution": {
     "iopub.execute_input": "2025-08-19T18:23:31.589863Z",
     "iopub.status.busy": "2025-08-19T18:23:31.589136Z",
     "iopub.status.idle": "2025-08-19T18:23:31.593789Z",
     "shell.execute_reply": "2025-08-19T18:23:31.592946Z"
    },
    "papermill": {
     "duration": 0.019356,
     "end_time": "2025-08-19T18:23:31.595337",
     "exception": false,
     "start_time": "2025-08-19T18:23:31.575981",
     "status": "completed"
    },
    "tags": []
   },
   "outputs": [],
   "source": [
    "# EXCLUDE CERTAIN SUBGROUPS\n",
    "# -------------------------\n",
    "\n",
    "mode = universe.get(\"exclude_subgroups\", \"keep-all\") # Defaults to \"keep-all\" if the key is missing."
   ]
  },
  {
   "cell_type": "code",
   "execution_count": 28,
   "id": "9d1e63fd",
   "metadata": {
    "execution": {
     "iopub.execute_input": "2025-08-19T18:23:31.652781Z",
     "iopub.status.busy": "2025-08-19T18:23:31.651052Z",
     "iopub.status.idle": "2025-08-19T18:23:31.661810Z",
     "shell.execute_reply": "2025-08-19T18:23:31.660502Z"
    },
    "papermill": {
     "duration": 0.041893,
     "end_time": "2025-08-19T18:23:31.663331",
     "exception": false,
     "start_time": "2025-08-19T18:23:31.621438",
     "status": "completed"
    },
    "tags": []
   },
   "outputs": [],
   "source": [
    "if mode == \"keep-all\":\n",
    "    keep_mask = pd.Series(True, index=org_train.index)\n",
    "\n",
    "elif mode == \"drop-non-german\":\n",
    "    keep_mask = (org_train[\"maxdeutsch1\"] == 1) & (org_train[\"maxdeutsch.Missing.\"] == 0)\n",
    "\n",
    "else:\n",
    "    raise ValueError(f\"Unsupported mode for exclude_subgroups: {mode}\")"
   ]
  },
  {
   "cell_type": "code",
   "execution_count": 29,
   "id": "d3b65474",
   "metadata": {
    "execution": {
     "iopub.execute_input": "2025-08-19T18:23:31.694550Z",
     "iopub.status.busy": "2025-08-19T18:23:31.693320Z",
     "iopub.status.idle": "2025-08-19T18:23:31.703215Z",
     "shell.execute_reply": "2025-08-19T18:23:31.701739Z"
    },
    "papermill": {
     "duration": 0.024682,
     "end_time": "2025-08-19T18:23:31.704721",
     "exception": false,
     "start_time": "2025-08-19T18:23:31.680039",
     "status": "completed"
    },
    "tags": []
   },
   "outputs": [],
   "source": [
    "n_drop = (~keep_mask).sum() # Calculates how many rows are set to be dropped\n",
    "if n_drop > 0:\n",
    "    pct = n_drop / len(keep_mask) * 100\n",
    "    print(f\"Dropping {n_drop} rows ({pct:.2f}%) where mode='{mode}'\")"
   ]
  },
  {
   "cell_type": "code",
   "execution_count": 30,
   "id": "f44389b3",
   "metadata": {
    "execution": {
     "iopub.execute_input": "2025-08-19T18:23:31.732088Z",
     "iopub.status.busy": "2025-08-19T18:23:31.730833Z",
     "iopub.status.idle": "2025-08-19T18:23:31.742071Z",
     "shell.execute_reply": "2025-08-19T18:23:31.740780Z"
    },
    "papermill": {
     "duration": 0.02481,
     "end_time": "2025-08-19T18:23:31.743539",
     "exception": false,
     "start_time": "2025-08-19T18:23:31.718729",
     "status": "completed"
    },
    "tags": []
   },
   "outputs": [],
   "source": [
    "X_train = X_train[keep_mask]"
   ]
  },
  {
   "cell_type": "code",
   "execution_count": 31,
   "id": "ceca8c2a",
   "metadata": {
    "execution": {
     "iopub.execute_input": "2025-08-19T18:23:31.772032Z",
     "iopub.status.busy": "2025-08-19T18:23:31.770715Z",
     "iopub.status.idle": "2025-08-19T18:23:31.779104Z",
     "shell.execute_reply": "2025-08-19T18:23:31.777796Z"
    },
    "papermill": {
     "duration": 0.022033,
     "end_time": "2025-08-19T18:23:31.780581",
     "exception": false,
     "start_time": "2025-08-19T18:23:31.758548",
     "status": "completed"
    },
    "tags": []
   },
   "outputs": [],
   "source": [
    "y_train = y_train[keep_mask]"
   ]
  },
  {
   "cell_type": "markdown",
   "id": "04d31e2f",
   "metadata": {
    "papermill": {
     "duration": 0.012252,
     "end_time": "2025-08-19T18:23:31.805785",
     "exception": false,
     "start_time": "2025-08-19T18:23:31.793533",
     "status": "completed"
    },
    "tags": []
   },
   "source": [
    "# Model Training"
   ]
  },
  {
   "cell_type": "code",
   "execution_count": 32,
   "id": "db991733",
   "metadata": {
    "execution": {
     "iopub.execute_input": "2025-08-19T18:23:31.853543Z",
     "iopub.status.busy": "2025-08-19T18:23:31.853016Z",
     "iopub.status.idle": "2025-08-19T18:23:31.947414Z",
     "shell.execute_reply": "2025-08-19T18:23:31.946712Z"
    },
    "papermill": {
     "duration": 0.133073,
     "end_time": "2025-08-19T18:23:31.949376",
     "exception": false,
     "start_time": "2025-08-19T18:23:31.816303",
     "status": "completed"
    },
    "tags": []
   },
   "outputs": [],
   "source": [
    "from sklearn.linear_model import LogisticRegression\n",
    "from sklearn.ensemble import GradientBoostingClassifier, RandomForestClassifier\n",
    "\n",
    "if (universe[\"model\"] == \"logreg\"):\n",
    "    model = LogisticRegression() #penalty=\"none\", solver=\"newton-cg\", max_iter=1)\n",
    "elif (universe[\"model\"] == \"penalized_logreg\"):\n",
    "    model = LogisticRegression(penalty=\"l2\", C=0.1) #, solver=\"newton-cg\", max_iter=1)\n",
    "elif (universe[\"model\"] == \"rf\"):\n",
    "    model = RandomForestClassifier() # n_estimators=100, n_jobs=-1\n",
    "elif (universe[\"model\"] == \"gbm\"):\n",
    "    model = GradientBoostingClassifier()\n",
    "elif (universe[\"model\"] == \"elasticnet\"):\n",
    "    model = LogisticRegression(penalty = 'elasticnet', solver = 'saga', l1_ratio = 0.5) # max_iter=5000\n",
    "else:\n",
    "    raise \"Unsupported universe.model\""
   ]
  },
  {
   "cell_type": "code",
   "execution_count": 33,
   "id": "a4b5cd25",
   "metadata": {
    "execution": {
     "iopub.execute_input": "2025-08-19T18:23:31.975035Z",
     "iopub.status.busy": "2025-08-19T18:23:31.974586Z",
     "iopub.status.idle": "2025-08-19T18:23:31.979549Z",
     "shell.execute_reply": "2025-08-19T18:23:31.978838Z"
    },
    "papermill": {
     "duration": 0.018253,
     "end_time": "2025-08-19T18:23:31.980942",
     "exception": false,
     "start_time": "2025-08-19T18:23:31.962689",
     "status": "completed"
    },
    "tags": []
   },
   "outputs": [],
   "source": [
    "from sklearn.pipeline import Pipeline\n",
    "from sklearn.preprocessing import StandardScaler\n",
    "\n",
    "model = Pipeline([\n",
    "    #(\"continuous_processor\", continuous_processor),\n",
    "    #(\"categorical_preprocessor\", categorical_preprocessor),\n",
    "    (\"scale\", StandardScaler() if universe[\"scale\"] == \"scale\" else None), \n",
    "    (\"model\", model),\n",
    "])"
   ]
  },
  {
   "cell_type": "code",
   "execution_count": 34,
   "id": "283a904d",
   "metadata": {
    "execution": {
     "iopub.execute_input": "2025-08-19T18:23:32.006411Z",
     "iopub.status.busy": "2025-08-19T18:23:32.005966Z",
     "iopub.status.idle": "2025-08-19T18:23:32.137980Z",
     "shell.execute_reply": "2025-08-19T18:23:32.137342Z"
    },
    "papermill": {
     "duration": 0.155681,
     "end_time": "2025-08-19T18:23:32.147807",
     "exception": false,
     "start_time": "2025-08-19T18:23:31.992126",
     "status": "completed"
    },
    "tags": []
   },
   "outputs": [
    {
     "data": {
      "text/html": [
       "<style>#sk-container-id-1 {color: black;background-color: white;}#sk-container-id-1 pre{padding: 0;}#sk-container-id-1 div.sk-toggleable {background-color: white;}#sk-container-id-1 label.sk-toggleable__label {cursor: pointer;display: block;width: 100%;margin-bottom: 0;padding: 0.3em;box-sizing: border-box;text-align: center;}#sk-container-id-1 label.sk-toggleable__label-arrow:before {content: \"▸\";float: left;margin-right: 0.25em;color: #696969;}#sk-container-id-1 label.sk-toggleable__label-arrow:hover:before {color: black;}#sk-container-id-1 div.sk-estimator:hover label.sk-toggleable__label-arrow:before {color: black;}#sk-container-id-1 div.sk-toggleable__content {max-height: 0;max-width: 0;overflow: hidden;text-align: left;background-color: #f0f8ff;}#sk-container-id-1 div.sk-toggleable__content pre {margin: 0.2em;color: black;border-radius: 0.25em;background-color: #f0f8ff;}#sk-container-id-1 input.sk-toggleable__control:checked~div.sk-toggleable__content {max-height: 200px;max-width: 100%;overflow: auto;}#sk-container-id-1 input.sk-toggleable__control:checked~label.sk-toggleable__label-arrow:before {content: \"▾\";}#sk-container-id-1 div.sk-estimator input.sk-toggleable__control:checked~label.sk-toggleable__label {background-color: #d4ebff;}#sk-container-id-1 div.sk-label input.sk-toggleable__control:checked~label.sk-toggleable__label {background-color: #d4ebff;}#sk-container-id-1 input.sk-hidden--visually {border: 0;clip: rect(1px 1px 1px 1px);clip: rect(1px, 1px, 1px, 1px);height: 1px;margin: -1px;overflow: hidden;padding: 0;position: absolute;width: 1px;}#sk-container-id-1 div.sk-estimator {font-family: monospace;background-color: #f0f8ff;border: 1px dotted black;border-radius: 0.25em;box-sizing: border-box;margin-bottom: 0.5em;}#sk-container-id-1 div.sk-estimator:hover {background-color: #d4ebff;}#sk-container-id-1 div.sk-parallel-item::after {content: \"\";width: 100%;border-bottom: 1px solid gray;flex-grow: 1;}#sk-container-id-1 div.sk-label:hover label.sk-toggleable__label {background-color: #d4ebff;}#sk-container-id-1 div.sk-serial::before {content: \"\";position: absolute;border-left: 1px solid gray;box-sizing: border-box;top: 0;bottom: 0;left: 50%;z-index: 0;}#sk-container-id-1 div.sk-serial {display: flex;flex-direction: column;align-items: center;background-color: white;padding-right: 0.2em;padding-left: 0.2em;position: relative;}#sk-container-id-1 div.sk-item {position: relative;z-index: 1;}#sk-container-id-1 div.sk-parallel {display: flex;align-items: stretch;justify-content: center;background-color: white;position: relative;}#sk-container-id-1 div.sk-item::before, #sk-container-id-1 div.sk-parallel-item::before {content: \"\";position: absolute;border-left: 1px solid gray;box-sizing: border-box;top: 0;bottom: 0;left: 50%;z-index: -1;}#sk-container-id-1 div.sk-parallel-item {display: flex;flex-direction: column;z-index: 1;position: relative;background-color: white;}#sk-container-id-1 div.sk-parallel-item:first-child::after {align-self: flex-end;width: 50%;}#sk-container-id-1 div.sk-parallel-item:last-child::after {align-self: flex-start;width: 50%;}#sk-container-id-1 div.sk-parallel-item:only-child::after {width: 0;}#sk-container-id-1 div.sk-dashed-wrapped {border: 1px dashed gray;margin: 0 0.4em 0.5em 0.4em;box-sizing: border-box;padding-bottom: 0.4em;background-color: white;}#sk-container-id-1 div.sk-label label {font-family: monospace;font-weight: bold;display: inline-block;line-height: 1.2em;}#sk-container-id-1 div.sk-label-container {text-align: center;}#sk-container-id-1 div.sk-container {/* jupyter's `normalize.less` sets `[hidden] { display: none; }` but bootstrap.min.css set `[hidden] { display: none !important; }` so we also need the `!important` here to be able to override the default hidden behavior on the sphinx rendered scikit-learn.org. See: https://github.com/scikit-learn/scikit-learn/issues/21755 */display: inline-block !important;position: relative;}#sk-container-id-1 div.sk-text-repr-fallback {display: none;}</style><div id=\"sk-container-id-1\" class=\"sk-top-container\"><div class=\"sk-text-repr-fallback\"><pre>Pipeline(steps=[(&#x27;scale&#x27;, StandardScaler()),\n",
       "                (&#x27;model&#x27;, LogisticRegression(C=0.1))])</pre><b>In a Jupyter environment, please rerun this cell to show the HTML representation or trust the notebook. <br />On GitHub, the HTML representation is unable to render, please try loading this page with nbviewer.org.</b></div><div class=\"sk-container\" hidden><div class=\"sk-item sk-dashed-wrapped\"><div class=\"sk-label-container\"><div class=\"sk-label sk-toggleable\"><input class=\"sk-toggleable__control sk-hidden--visually\" id=\"sk-estimator-id-1\" type=\"checkbox\" ><label for=\"sk-estimator-id-1\" class=\"sk-toggleable__label sk-toggleable__label-arrow\">Pipeline</label><div class=\"sk-toggleable__content\"><pre>Pipeline(steps=[(&#x27;scale&#x27;, StandardScaler()),\n",
       "                (&#x27;model&#x27;, LogisticRegression(C=0.1))])</pre></div></div></div><div class=\"sk-serial\"><div class=\"sk-item\"><div class=\"sk-estimator sk-toggleable\"><input class=\"sk-toggleable__control sk-hidden--visually\" id=\"sk-estimator-id-2\" type=\"checkbox\" ><label for=\"sk-estimator-id-2\" class=\"sk-toggleable__label sk-toggleable__label-arrow\">StandardScaler</label><div class=\"sk-toggleable__content\"><pre>StandardScaler()</pre></div></div></div><div class=\"sk-item\"><div class=\"sk-estimator sk-toggleable\"><input class=\"sk-toggleable__control sk-hidden--visually\" id=\"sk-estimator-id-3\" type=\"checkbox\" ><label for=\"sk-estimator-id-3\" class=\"sk-toggleable__label sk-toggleable__label-arrow\">LogisticRegression</label><div class=\"sk-toggleable__content\"><pre>LogisticRegression(C=0.1)</pre></div></div></div></div></div></div></div>"
      ],
      "text/plain": [
       "Pipeline(steps=[('scale', StandardScaler()),\n",
       "                ('model', LogisticRegression(C=0.1))])"
      ]
     },
     "execution_count": 34,
     "metadata": {},
     "output_type": "execute_result"
    }
   ],
   "source": [
    "model.fit(X_train, y_train.values.ravel())"
   ]
  },
  {
   "cell_type": "code",
   "execution_count": 35,
   "id": "6e15e313",
   "metadata": {
    "execution": {
     "iopub.execute_input": "2025-08-19T18:23:32.186251Z",
     "iopub.status.busy": "2025-08-19T18:23:32.184626Z",
     "iopub.status.idle": "2025-08-19T18:23:32.376189Z",
     "shell.execute_reply": "2025-08-19T18:23:32.375525Z"
    },
    "papermill": {
     "duration": 0.207251,
     "end_time": "2025-08-19T18:23:32.377448",
     "exception": false,
     "start_time": "2025-08-19T18:23:32.170197",
     "status": "completed"
    },
    "tags": []
   },
   "outputs": [
    {
     "data": {
      "text/plain": [
       "0.858923196968008"
      ]
     },
     "execution_count": 35,
     "metadata": {},
     "output_type": "execute_result"
    }
   ],
   "source": [
    "from fairness_multiverse.universe import predict_w_threshold\n",
    "\n",
    "probs_test = model.predict_proba(X_test)\n",
    "\n",
    "'''\n",
    "Below code returns a boolean array (or binary 0/1 array depending on how it’s used) where each element \n",
    "is True if the probability of class 1 is greater than or equal to the threshold, and False otherwise.\n",
    "'''\n",
    "y_pred_default = predict_w_threshold(probs_test, 0.5)\n",
    "\n",
    "from sklearn.metrics import accuracy_score\n",
    "\n",
    "# Naive prediction\n",
    "accuracy_score(y_true = y_true, y_pred = y_pred_default)"
   ]
  },
  {
   "cell_type": "code",
   "execution_count": 36,
   "id": "6f14067c",
   "metadata": {
    "execution": {
     "iopub.execute_input": "2025-08-19T18:23:32.433586Z",
     "iopub.status.busy": "2025-08-19T18:23:32.432888Z",
     "iopub.status.idle": "2025-08-19T18:23:32.620011Z",
     "shell.execute_reply": "2025-08-19T18:23:32.619270Z"
    },
    "papermill": {
     "duration": 0.215753,
     "end_time": "2025-08-19T18:23:32.621287",
     "exception": false,
     "start_time": "2025-08-19T18:23:32.405534",
     "status": "completed"
    },
    "tags": []
   },
   "outputs": [
    {
     "data": {
      "text/plain": [
       "array([0, 0, 0, ..., 0, 0, 0])"
      ]
     },
     "execution_count": 36,
     "metadata": {},
     "output_type": "execute_result"
    }
   ],
   "source": [
    "model.predict(X_test)"
   ]
  },
  {
   "cell_type": "markdown",
   "id": "3759920c",
   "metadata": {
    "papermill": {
     "duration": 0.024022,
     "end_time": "2025-08-19T18:23:32.657242",
     "exception": false,
     "start_time": "2025-08-19T18:23:32.633220",
     "status": "completed"
    },
    "tags": []
   },
   "source": [
    "# Conformal Prediction"
   ]
  },
  {
   "cell_type": "code",
   "execution_count": 37,
   "id": "14b27f59",
   "metadata": {
    "execution": {
     "iopub.execute_input": "2025-08-19T18:23:32.706966Z",
     "iopub.status.busy": "2025-08-19T18:23:32.706595Z",
     "iopub.status.idle": "2025-08-19T18:23:32.711951Z",
     "shell.execute_reply": "2025-08-19T18:23:32.710952Z"
    },
    "papermill": {
     "duration": 0.033512,
     "end_time": "2025-08-19T18:23:32.715619",
     "exception": false,
     "start_time": "2025-08-19T18:23:32.682107",
     "status": "completed"
    },
    "tags": []
   },
   "outputs": [],
   "source": [
    "# Miscoverage level for conformal prediction (10% allowed error rate => 90% target coverage)\n",
    "alpha = 0.1"
   ]
  },
  {
   "cell_type": "code",
   "execution_count": 38,
   "id": "59102472",
   "metadata": {
    "execution": {
     "iopub.execute_input": "2025-08-19T18:23:32.742386Z",
     "iopub.status.busy": "2025-08-19T18:23:32.742127Z",
     "iopub.status.idle": "2025-08-19T18:23:32.909979Z",
     "shell.execute_reply": "2025-08-19T18:23:32.909239Z"
    },
    "papermill": {
     "duration": 0.181738,
     "end_time": "2025-08-19T18:23:32.911864",
     "exception": false,
     "start_time": "2025-08-19T18:23:32.730126",
     "status": "completed"
    },
    "tags": []
   },
   "outputs": [],
   "source": [
    "probs_calib = model.predict_proba(X_calib)"
   ]
  },
  {
   "cell_type": "code",
   "execution_count": 39,
   "id": "a792d4dd",
   "metadata": {
    "execution": {
     "iopub.execute_input": "2025-08-19T18:23:32.943723Z",
     "iopub.status.busy": "2025-08-19T18:23:32.943119Z",
     "iopub.status.idle": "2025-08-19T18:23:32.949483Z",
     "shell.execute_reply": "2025-08-19T18:23:32.948441Z"
    },
    "papermill": {
     "duration": 0.023131,
     "end_time": "2025-08-19T18:23:32.950957",
     "exception": false,
     "start_time": "2025-08-19T18:23:32.927826",
     "status": "completed"
    },
    "tags": []
   },
   "outputs": [],
   "source": [
    "y_calib = y_calib.values.ravel().astype(int)"
   ]
  },
  {
   "cell_type": "code",
   "execution_count": 40,
   "id": "650fd033",
   "metadata": {
    "execution": {
     "iopub.execute_input": "2025-08-19T18:23:33.000755Z",
     "iopub.status.busy": "2025-08-19T18:23:33.000345Z",
     "iopub.status.idle": "2025-08-19T18:23:33.006494Z",
     "shell.execute_reply": "2025-08-19T18:23:33.005848Z"
    },
    "papermill": {
     "duration": 0.030018,
     "end_time": "2025-08-19T18:23:33.007912",
     "exception": false,
     "start_time": "2025-08-19T18:23:32.977894",
     "status": "completed"
    },
    "tags": []
   },
   "outputs": [],
   "source": [
    "from fairness_multiverse.conformal import compute_nc_scores\n",
    "\n",
    "# Compute nonconformity scores on calibration set (1 - probability of true class)\n",
    "nc_scores = compute_nc_scores(probs_calib, y_calib)"
   ]
  },
  {
   "cell_type": "code",
   "execution_count": 41,
   "id": "28ada44c",
   "metadata": {
    "execution": {
     "iopub.execute_input": "2025-08-19T18:23:33.031988Z",
     "iopub.status.busy": "2025-08-19T18:23:33.031684Z",
     "iopub.status.idle": "2025-08-19T18:23:33.037177Z",
     "shell.execute_reply": "2025-08-19T18:23:33.036385Z"
    },
    "papermill": {
     "duration": 0.019829,
     "end_time": "2025-08-19T18:23:33.039069",
     "exception": false,
     "start_time": "2025-08-19T18:23:33.019240",
     "status": "completed"
    },
    "tags": []
   },
   "outputs": [],
   "source": [
    "from fairness_multiverse.conformal import find_threshold\n",
    "\n",
    "# Find conformal threshold q_hat for the given alpha (split conformal method)\n",
    "q_hat = find_threshold(nc_scores, alpha)"
   ]
  },
  {
   "cell_type": "code",
   "execution_count": 42,
   "id": "df56469e",
   "metadata": {
    "execution": {
     "iopub.execute_input": "2025-08-19T18:23:33.065981Z",
     "iopub.status.busy": "2025-08-19T18:23:33.065680Z",
     "iopub.status.idle": "2025-08-19T18:23:33.071271Z",
     "shell.execute_reply": "2025-08-19T18:23:33.070497Z"
    },
    "papermill": {
     "duration": 0.02015,
     "end_time": "2025-08-19T18:23:33.073088",
     "exception": false,
     "start_time": "2025-08-19T18:23:33.052938",
     "status": "completed"
    },
    "tags": []
   },
   "outputs": [
    {
     "data": {
      "text/plain": [
       "0.6830260045395486"
      ]
     },
     "execution_count": 42,
     "metadata": {},
     "output_type": "execute_result"
    }
   ],
   "source": [
    "q_hat"
   ]
  },
  {
   "cell_type": "code",
   "execution_count": 43,
   "id": "aa1f5faa",
   "metadata": {
    "execution": {
     "iopub.execute_input": "2025-08-19T18:23:33.097317Z",
     "iopub.status.busy": "2025-08-19T18:23:33.097048Z",
     "iopub.status.idle": "2025-08-19T18:23:33.679993Z",
     "shell.execute_reply": "2025-08-19T18:23:33.679203Z"
    },
    "papermill": {
     "duration": 0.596929,
     "end_time": "2025-08-19T18:23:33.681649",
     "exception": false,
     "start_time": "2025-08-19T18:23:33.084720",
     "status": "completed"
    },
    "tags": []
   },
   "outputs": [],
   "source": [
    "from fairness_multiverse.conformal import predict_conformal_sets\n",
    "\n",
    "# Generate prediction sets for each test example\n",
    "pred_sets = predict_conformal_sets(model, X_test, q_hat)"
   ]
  },
  {
   "cell_type": "code",
   "execution_count": 44,
   "id": "97f67a6b",
   "metadata": {
    "execution": {
     "iopub.execute_input": "2025-08-19T18:23:33.707038Z",
     "iopub.status.busy": "2025-08-19T18:23:33.706644Z",
     "iopub.status.idle": "2025-08-19T18:23:33.710978Z",
     "shell.execute_reply": "2025-08-19T18:23:33.710290Z"
    },
    "papermill": {
     "duration": 0.019179,
     "end_time": "2025-08-19T18:23:33.713280",
     "exception": false,
     "start_time": "2025-08-19T18:23:33.694101",
     "status": "completed"
    },
    "tags": []
   },
   "outputs": [],
   "source": [
    "y_true = y_true.squeeze()"
   ]
  },
  {
   "cell_type": "code",
   "execution_count": 45,
   "id": "e700e9a7",
   "metadata": {
    "execution": {
     "iopub.execute_input": "2025-08-19T18:23:33.755771Z",
     "iopub.status.busy": "2025-08-19T18:23:33.754327Z",
     "iopub.status.idle": "2025-08-19T18:23:34.246112Z",
     "shell.execute_reply": "2025-08-19T18:23:34.245418Z"
    },
    "papermill": {
     "duration": 0.508873,
     "end_time": "2025-08-19T18:23:34.247683",
     "exception": false,
     "start_time": "2025-08-19T18:23:33.738810",
     "status": "completed"
    },
    "tags": []
   },
   "outputs": [],
   "source": [
    "from fairness_multiverse.conformal import evaluate_sets\n",
    "\n",
    "# Evaluate coverage and average set size on test data\n",
    "metrics = evaluate_sets(pred_sets, y_true)"
   ]
  },
  {
   "cell_type": "markdown",
   "id": "efbacec0",
   "metadata": {
    "papermill": {
     "duration": 0.013456,
     "end_time": "2025-08-19T18:23:34.273302",
     "exception": false,
     "start_time": "2025-08-19T18:23:34.259846",
     "status": "completed"
    },
    "tags": []
   },
   "source": [
    "# CP Metrics"
   ]
  },
  {
   "cell_type": "code",
   "execution_count": 46,
   "id": "9de55fb1",
   "metadata": {
    "execution": {
     "iopub.execute_input": "2025-08-19T18:23:34.302698Z",
     "iopub.status.busy": "2025-08-19T18:23:34.301308Z",
     "iopub.status.idle": "2025-08-19T18:23:34.311110Z",
     "shell.execute_reply": "2025-08-19T18:23:34.310003Z"
    },
    "papermill": {
     "duration": 0.024433,
     "end_time": "2025-08-19T18:23:34.312810",
     "exception": false,
     "start_time": "2025-08-19T18:23:34.288377",
     "status": "completed"
    },
    "tags": []
   },
   "outputs": [
    {
     "data": {
      "text/plain": [
       "{'coverage': 0.9104113253817857, 'avg_size': 1.1328280013376435}"
      ]
     },
     "execution_count": 46,
     "metadata": {},
     "output_type": "execute_result"
    }
   ],
   "source": [
    "metrics"
   ]
  },
  {
   "cell_type": "code",
   "execution_count": 47,
   "id": "64c340a1",
   "metadata": {
    "execution": {
     "iopub.execute_input": "2025-08-19T18:23:34.352642Z",
     "iopub.status.busy": "2025-08-19T18:23:34.351493Z",
     "iopub.status.idle": "2025-08-19T18:23:34.361275Z",
     "shell.execute_reply": "2025-08-19T18:23:34.360343Z"
    },
    "papermill": {
     "duration": 0.034244,
     "end_time": "2025-08-19T18:23:34.364260",
     "exception": false,
     "start_time": "2025-08-19T18:23:34.330016",
     "status": "completed"
    },
    "tags": []
   },
   "outputs": [],
   "source": [
    "example_universe = universe.copy()\n",
    "universe_training_year = example_universe.get(\"training_year\")\n",
    "universe_training_size = example_universe.get(\"training_size\")\n",
    "universe_scale = example_universe.get(\"scale\")\n",
    "universe_model = example_universe.get(\"model\")\n",
    "universe_exclude_features = example_universe.get(\"exclude_features\")\n",
    "universe_exclude_subgroups = example_universe.get(\"exclude_subgroups\")"
   ]
  },
  {
   "cell_type": "code",
   "execution_count": 48,
   "id": "dbb53cb4",
   "metadata": {
    "execution": {
     "iopub.execute_input": "2025-08-19T18:23:34.416778Z",
     "iopub.status.busy": "2025-08-19T18:23:34.415780Z",
     "iopub.status.idle": "2025-08-19T18:23:34.425204Z",
     "shell.execute_reply": "2025-08-19T18:23:34.424059Z"
    },
    "papermill": {
     "duration": 0.048747,
     "end_time": "2025-08-19T18:23:34.427120",
     "exception": false,
     "start_time": "2025-08-19T18:23:34.378373",
     "status": "completed"
    },
    "tags": []
   },
   "outputs": [],
   "source": [
    "cp_metrics_dict = {\n",
    "    \"universe_id\": [universe_id],\n",
    "    \"universe_training_year\": [universe_training_year],\n",
    "    \"universe_training_size\": [universe_training_size],\n",
    "    \"universe_scale\": [universe_scale],\n",
    "    \"universe_model\": [universe_model],\n",
    "    \"universe_exclude_features\": [universe_exclude_features],\n",
    "    \"universe_exclude_subgroups\": [universe_exclude_subgroups],\n",
    "    \"q_hat\": [q_hat],\n",
    "    \"coverage\": [metrics[\"coverage\"]],\n",
    "    \"avg_size\": [metrics[\"avg_size\"]],\n",
    "}"
   ]
  },
  {
   "cell_type": "code",
   "execution_count": 49,
   "id": "0d70d4b2",
   "metadata": {
    "execution": {
     "iopub.execute_input": "2025-08-19T18:23:34.474739Z",
     "iopub.status.busy": "2025-08-19T18:23:34.473566Z",
     "iopub.status.idle": "2025-08-19T18:23:34.482860Z",
     "shell.execute_reply": "2025-08-19T18:23:34.481670Z"
    },
    "papermill": {
     "duration": 0.024305,
     "end_time": "2025-08-19T18:23:34.484456",
     "exception": false,
     "start_time": "2025-08-19T18:23:34.460151",
     "status": "completed"
    },
    "tags": []
   },
   "outputs": [],
   "source": [
    "cp_metrics_df = pd.DataFrame(cp_metrics_dict)"
   ]
  },
  {
   "cell_type": "code",
   "execution_count": 50,
   "id": "b494403c",
   "metadata": {
    "execution": {
     "iopub.execute_input": "2025-08-19T18:23:34.516884Z",
     "iopub.status.busy": "2025-08-19T18:23:34.513248Z",
     "iopub.status.idle": "2025-08-19T18:23:34.530419Z",
     "shell.execute_reply": "2025-08-19T18:23:34.529723Z"
    },
    "papermill": {
     "duration": 0.033021,
     "end_time": "2025-08-19T18:23:34.531708",
     "exception": false,
     "start_time": "2025-08-19T18:23:34.498687",
     "status": "completed"
    },
    "tags": []
   },
   "outputs": [
    {
     "data": {
      "text/html": [
       "<div>\n",
       "<style scoped>\n",
       "    .dataframe tbody tr th:only-of-type {\n",
       "        vertical-align: middle;\n",
       "    }\n",
       "\n",
       "    .dataframe tbody tr th {\n",
       "        vertical-align: top;\n",
       "    }\n",
       "\n",
       "    .dataframe thead th {\n",
       "        text-align: right;\n",
       "    }\n",
       "</style>\n",
       "<table border=\"1\" class=\"dataframe\">\n",
       "  <thead>\n",
       "    <tr style=\"text-align: right;\">\n",
       "      <th></th>\n",
       "      <th>universe_id</th>\n",
       "      <th>universe_training_year</th>\n",
       "      <th>universe_training_size</th>\n",
       "      <th>universe_scale</th>\n",
       "      <th>universe_model</th>\n",
       "      <th>universe_exclude_features</th>\n",
       "      <th>universe_exclude_subgroups</th>\n",
       "      <th>q_hat</th>\n",
       "      <th>coverage</th>\n",
       "      <th>avg_size</th>\n",
       "    </tr>\n",
       "  </thead>\n",
       "  <tbody>\n",
       "    <tr>\n",
       "      <th>0</th>\n",
       "      <td>57094a62ac2f1d5ec61513e99177b593</td>\n",
       "      <td>2014</td>\n",
       "      <td>5k</td>\n",
       "      <td>scale</td>\n",
       "      <td>penalized_logreg</td>\n",
       "      <td>none</td>\n",
       "      <td>keep-all</td>\n",
       "      <td>0.683026</td>\n",
       "      <td>0.910411</td>\n",
       "      <td>1.132828</td>\n",
       "    </tr>\n",
       "  </tbody>\n",
       "</table>\n",
       "</div>"
      ],
      "text/plain": [
       "                        universe_id universe_training_year  \\\n",
       "0  57094a62ac2f1d5ec61513e99177b593                   2014   \n",
       "\n",
       "  universe_training_size universe_scale    universe_model  \\\n",
       "0                     5k          scale  penalized_logreg   \n",
       "\n",
       "  universe_exclude_features universe_exclude_subgroups     q_hat  coverage  \\\n",
       "0                      none                   keep-all  0.683026  0.910411   \n",
       "\n",
       "   avg_size  \n",
       "0  1.132828  "
      ]
     },
     "execution_count": 50,
     "metadata": {},
     "output_type": "execute_result"
    }
   ],
   "source": [
    "cp_metrics_df"
   ]
  },
  {
   "cell_type": "markdown",
   "id": "ed608b0b",
   "metadata": {
    "papermill": {
     "duration": 0.023313,
     "end_time": "2025-08-19T18:23:34.574763",
     "exception": false,
     "start_time": "2025-08-19T18:23:34.551450",
     "status": "completed"
    },
    "tags": []
   },
   "source": [
    "Conditional coverage & looking at subgroups"
   ]
  },
  {
   "cell_type": "code",
   "execution_count": 51,
   "id": "8968c366",
   "metadata": {
    "execution": {
     "iopub.execute_input": "2025-08-19T18:23:34.606627Z",
     "iopub.status.busy": "2025-08-19T18:23:34.605136Z",
     "iopub.status.idle": "2025-08-19T18:23:34.833056Z",
     "shell.execute_reply": "2025-08-19T18:23:34.832359Z"
    },
    "papermill": {
     "duration": 0.245806,
     "end_time": "2025-08-19T18:23:34.835969",
     "exception": false,
     "start_time": "2025-08-19T18:23:34.590163",
     "status": "completed"
    },
    "tags": []
   },
   "outputs": [],
   "source": [
    "from fairness_multiverse.conformal import build_cp_groups\n",
    "\n",
    "cp_groups_df = build_cp_groups(pred_sets, y_true, X_test.index, org_test)"
   ]
  },
  {
   "cell_type": "code",
   "execution_count": 52,
   "id": "292ddabf",
   "metadata": {
    "execution": {
     "iopub.execute_input": "2025-08-19T18:23:34.877695Z",
     "iopub.status.busy": "2025-08-19T18:23:34.876549Z",
     "iopub.status.idle": "2025-08-19T18:23:35.715511Z",
     "shell.execute_reply": "2025-08-19T18:23:35.714692Z"
    },
    "papermill": {
     "duration": 0.855992,
     "end_time": "2025-08-19T18:23:35.717230",
     "exception": false,
     "start_time": "2025-08-19T18:23:34.861238",
     "status": "completed"
    },
    "tags": []
   },
   "outputs": [],
   "source": [
    "# Define covered = 1 if true_label is in the predicted set\n",
    "cp_groups_df['covered'] = cp_groups_df.apply(\n",
    "    lambda r: int(r['true_label'] in r['pred_set']),\n",
    "    axis=1\n",
    ")"
   ]
  },
  {
   "cell_type": "code",
   "execution_count": 53,
   "id": "3a261692",
   "metadata": {
    "execution": {
     "iopub.execute_input": "2025-08-19T18:23:35.745116Z",
     "iopub.status.busy": "2025-08-19T18:23:35.744166Z",
     "iopub.status.idle": "2025-08-19T18:23:35.762266Z",
     "shell.execute_reply": "2025-08-19T18:23:35.761227Z"
    },
    "papermill": {
     "duration": 0.033559,
     "end_time": "2025-08-19T18:23:35.763792",
     "exception": false,
     "start_time": "2025-08-19T18:23:35.730233",
     "status": "completed"
    },
    "tags": []
   },
   "outputs": [],
   "source": [
    "subgroups = ['frau1','nongerman','nongerman_male','nongerman_female']\n",
    "\n",
    "# Conditional coverage for subgroup==1\n",
    "cond_coverage = {\n",
    "    g: cp_groups_df.loc[cp_groups_df[g]==1, 'covered'].mean()\n",
    "    for g in subgroups\n",
    "}"
   ]
  },
  {
   "cell_type": "code",
   "execution_count": 54,
   "id": "894fd600",
   "metadata": {
    "execution": {
     "iopub.execute_input": "2025-08-19T18:23:35.798129Z",
     "iopub.status.busy": "2025-08-19T18:23:35.797002Z",
     "iopub.status.idle": "2025-08-19T18:23:35.808747Z",
     "shell.execute_reply": "2025-08-19T18:23:35.807084Z"
    },
    "papermill": {
     "duration": 0.027778,
     "end_time": "2025-08-19T18:23:35.810352",
     "exception": false,
     "start_time": "2025-08-19T18:23:35.782574",
     "status": "completed"
    },
    "tags": []
   },
   "outputs": [
    {
     "data": {
      "text/plain": [
       "{'frau1': 0.9077773284809274,\n",
       " 'nongerman': 0.9104025150171223,\n",
       " 'nongerman_male': 0.9289381248311267,\n",
       " 'nongerman_female': 0.8797317436661699}"
      ]
     },
     "execution_count": 54,
     "metadata": {},
     "output_type": "execute_result"
    }
   ],
   "source": [
    "cond_coverage"
   ]
  },
  {
   "cell_type": "code",
   "execution_count": 55,
   "id": "942895c7",
   "metadata": {
    "execution": {
     "iopub.execute_input": "2025-08-19T18:23:35.841462Z",
     "iopub.status.busy": "2025-08-19T18:23:35.840390Z",
     "iopub.status.idle": "2025-08-19T18:23:35.851700Z",
     "shell.execute_reply": "2025-08-19T18:23:35.850511Z"
    },
    "papermill": {
     "duration": 0.026103,
     "end_time": "2025-08-19T18:23:35.853121",
     "exception": false,
     "start_time": "2025-08-19T18:23:35.827018",
     "status": "completed"
    },
    "tags": []
   },
   "outputs": [],
   "source": [
    "for subgroup, cov in cond_coverage.items():\n",
    "    cp_metrics_df[f\"cov_{subgroup}\"] = cov"
   ]
  },
  {
   "cell_type": "code",
   "execution_count": 56,
   "id": "3970120f",
   "metadata": {
    "execution": {
     "iopub.execute_input": "2025-08-19T18:23:35.885884Z",
     "iopub.status.busy": "2025-08-19T18:23:35.884459Z",
     "iopub.status.idle": "2025-08-19T18:23:35.910804Z",
     "shell.execute_reply": "2025-08-19T18:23:35.909740Z"
    },
    "papermill": {
     "duration": 0.042072,
     "end_time": "2025-08-19T18:23:35.912520",
     "exception": false,
     "start_time": "2025-08-19T18:23:35.870448",
     "status": "completed"
    },
    "tags": []
   },
   "outputs": [
    {
     "data": {
      "text/html": [
       "<div>\n",
       "<style scoped>\n",
       "    .dataframe tbody tr th:only-of-type {\n",
       "        vertical-align: middle;\n",
       "    }\n",
       "\n",
       "    .dataframe tbody tr th {\n",
       "        vertical-align: top;\n",
       "    }\n",
       "\n",
       "    .dataframe thead th {\n",
       "        text-align: right;\n",
       "    }\n",
       "</style>\n",
       "<table border=\"1\" class=\"dataframe\">\n",
       "  <thead>\n",
       "    <tr style=\"text-align: right;\">\n",
       "      <th></th>\n",
       "      <th>universe_id</th>\n",
       "      <th>universe_training_year</th>\n",
       "      <th>universe_training_size</th>\n",
       "      <th>universe_scale</th>\n",
       "      <th>universe_model</th>\n",
       "      <th>universe_exclude_features</th>\n",
       "      <th>universe_exclude_subgroups</th>\n",
       "      <th>q_hat</th>\n",
       "      <th>coverage</th>\n",
       "      <th>avg_size</th>\n",
       "      <th>cov_frau1</th>\n",
       "      <th>cov_nongerman</th>\n",
       "      <th>cov_nongerman_male</th>\n",
       "      <th>cov_nongerman_female</th>\n",
       "    </tr>\n",
       "  </thead>\n",
       "  <tbody>\n",
       "    <tr>\n",
       "      <th>0</th>\n",
       "      <td>57094a62ac2f1d5ec61513e99177b593</td>\n",
       "      <td>2014</td>\n",
       "      <td>5k</td>\n",
       "      <td>scale</td>\n",
       "      <td>penalized_logreg</td>\n",
       "      <td>none</td>\n",
       "      <td>keep-all</td>\n",
       "      <td>0.683026</td>\n",
       "      <td>0.910411</td>\n",
       "      <td>1.132828</td>\n",
       "      <td>0.907777</td>\n",
       "      <td>0.910403</td>\n",
       "      <td>0.928938</td>\n",
       "      <td>0.879732</td>\n",
       "    </tr>\n",
       "  </tbody>\n",
       "</table>\n",
       "</div>"
      ],
      "text/plain": [
       "                        universe_id universe_training_year  \\\n",
       "0  57094a62ac2f1d5ec61513e99177b593                   2014   \n",
       "\n",
       "  universe_training_size universe_scale    universe_model  \\\n",
       "0                     5k          scale  penalized_logreg   \n",
       "\n",
       "  universe_exclude_features universe_exclude_subgroups     q_hat  coverage  \\\n",
       "0                      none                   keep-all  0.683026  0.910411   \n",
       "\n",
       "   avg_size  cov_frau1  cov_nongerman  cov_nongerman_male  \\\n",
       "0  1.132828   0.907777       0.910403            0.928938   \n",
       "\n",
       "   cov_nongerman_female  \n",
       "0              0.879732  "
      ]
     },
     "execution_count": 56,
     "metadata": {},
     "output_type": "execute_result"
    }
   ],
   "source": [
    "cp_metrics_df"
   ]
  },
  {
   "cell_type": "markdown",
   "id": "3fc519cc",
   "metadata": {
    "papermill": {
     "duration": 0.01249,
     "end_time": "2025-08-19T18:23:35.944334",
     "exception": false,
     "start_time": "2025-08-19T18:23:35.931844",
     "status": "completed"
    },
    "tags": []
   },
   "source": [
    "# (Fairness) Metrics"
   ]
  },
  {
   "cell_type": "code",
   "execution_count": 57,
   "id": "a2e5e155",
   "metadata": {
    "execution": {
     "iopub.execute_input": "2025-08-19T18:23:35.971657Z",
     "iopub.status.busy": "2025-08-19T18:23:35.970223Z",
     "iopub.status.idle": "2025-08-19T18:23:35.997002Z",
     "shell.execute_reply": "2025-08-19T18:23:35.996116Z"
    },
    "papermill": {
     "duration": 0.042386,
     "end_time": "2025-08-19T18:23:35.998732",
     "exception": false,
     "start_time": "2025-08-19T18:23:35.956346",
     "status": "completed"
    },
    "tags": []
   },
   "outputs": [],
   "source": [
    "colname_to_bin = \"maxdeutsch1\"\n",
    "majority_value = org_train[colname_to_bin].mode()[0]\n",
    "\n",
    "org_test[\"majmin\"] = np.where(org_test[colname_to_bin] == majority_value, \"majority\", \"minority\")"
   ]
  },
  {
   "cell_type": "code",
   "execution_count": 58,
   "id": "17e3e4d5",
   "metadata": {
    "execution": {
     "iopub.execute_input": "2025-08-19T18:23:36.039567Z",
     "iopub.status.busy": "2025-08-19T18:23:36.038292Z",
     "iopub.status.idle": "2025-08-19T18:23:37.721400Z",
     "shell.execute_reply": "2025-08-19T18:23:37.720738Z"
    },
    "papermill": {
     "duration": 1.699863,
     "end_time": "2025-08-19T18:23:37.722929",
     "exception": false,
     "start_time": "2025-08-19T18:23:36.023066",
     "status": "completed"
    },
    "tags": []
   },
   "outputs": [],
   "source": [
    "example_universe = universe.copy()\n",
    "example_universe[\"cutoff\"] = example_universe[\"cutoff\"][0]\n",
    "example_universe[\"eval_fairness_grouping\"] = example_universe[\"eval_fairness_grouping\"][0]\n",
    "fairness_dict, metric_frame = universe_analysis.compute_metrics(\n",
    "    example_universe,\n",
    "    y_pred_prob=probs_test,\n",
    "    y_test=y_true,\n",
    "    org_test=org_test,\n",
    ")"
   ]
  },
  {
   "cell_type": "markdown",
   "id": "1fb7a0e9",
   "metadata": {
    "papermill": {
     "duration": 0.012594,
     "end_time": "2025-08-19T18:23:37.752700",
     "exception": false,
     "start_time": "2025-08-19T18:23:37.740106",
     "status": "completed"
    },
    "tags": []
   },
   "source": [
    "# Overall"
   ]
  },
  {
   "cell_type": "markdown",
   "id": "be1784b1",
   "metadata": {
    "papermill": {
     "duration": 0.011826,
     "end_time": "2025-08-19T18:23:37.776635",
     "exception": false,
     "start_time": "2025-08-19T18:23:37.764809",
     "status": "completed"
    },
    "tags": []
   },
   "source": [
    "Main fairness target: Equalized Odds. Seems to be a better fit than equal opportunity, since we're not only interested in Y = 1. Seems to be a better fit than demographic parity, since we also care about accuracy, not just equal distribution of preds.\n",
    "\n",
    "Pick column for computation of fairness metrics\n",
    "\n",
    "Performance\n",
    "Overall performance measures, most interesting in relation to the measures split by group below"
   ]
  },
  {
   "cell_type": "code",
   "execution_count": 59,
   "id": "b7672bee",
   "metadata": {
    "execution": {
     "iopub.execute_input": "2025-08-19T18:23:37.802288Z",
     "iopub.status.busy": "2025-08-19T18:23:37.801983Z",
     "iopub.status.idle": "2025-08-19T18:23:37.810804Z",
     "shell.execute_reply": "2025-08-19T18:23:37.809661Z"
    },
    "papermill": {
     "duration": 0.03406,
     "end_time": "2025-08-19T18:23:37.822412",
     "exception": false,
     "start_time": "2025-08-19T18:23:37.788352",
     "status": "completed"
    },
    "tags": []
   },
   "outputs": [
    {
     "data": {
      "text/plain": [
       "accuracy                   0.224512\n",
       "balanced accuracy          0.548935\n",
       "f1                         0.245840\n",
       "precision                  0.140440\n",
       "false positive rate        0.887445\n",
       "false negative rate        0.014685\n",
       "selection rate             0.900000\n",
       "count                  89710.000000\n",
       "dtype: float64"
      ]
     },
     "execution_count": 59,
     "metadata": {},
     "output_type": "execute_result"
    }
   ],
   "source": [
    "metric_frame.overall"
   ]
  },
  {
   "cell_type": "markdown",
   "id": "d93333c9",
   "metadata": {
    "papermill": {
     "duration": 0.012403,
     "end_time": "2025-08-19T18:23:37.852343",
     "exception": false,
     "start_time": "2025-08-19T18:23:37.839940",
     "status": "completed"
    },
    "tags": []
   },
   "source": [
    "By Group"
   ]
  },
  {
   "cell_type": "code",
   "execution_count": 60,
   "id": "52256966",
   "metadata": {
    "execution": {
     "iopub.execute_input": "2025-08-19T18:23:37.878672Z",
     "iopub.status.busy": "2025-08-19T18:23:37.877919Z",
     "iopub.status.idle": "2025-08-19T18:23:37.903111Z",
     "shell.execute_reply": "2025-08-19T18:23:37.901772Z"
    },
    "papermill": {
     "duration": 0.041758,
     "end_time": "2025-08-19T18:23:37.905944",
     "exception": false,
     "start_time": "2025-08-19T18:23:37.864186",
     "status": "completed"
    },
    "tags": []
   },
   "outputs": [
    {
     "data": {
      "text/html": [
       "<div>\n",
       "<style scoped>\n",
       "    .dataframe tbody tr th:only-of-type {\n",
       "        vertical-align: middle;\n",
       "    }\n",
       "\n",
       "    .dataframe tbody tr th {\n",
       "        vertical-align: top;\n",
       "    }\n",
       "\n",
       "    .dataframe thead th {\n",
       "        text-align: right;\n",
       "    }\n",
       "</style>\n",
       "<table border=\"1\" class=\"dataframe\">\n",
       "  <thead>\n",
       "    <tr style=\"text-align: right;\">\n",
       "      <th></th>\n",
       "      <th>accuracy</th>\n",
       "      <th>balanced accuracy</th>\n",
       "      <th>f1</th>\n",
       "      <th>precision</th>\n",
       "      <th>false positive rate</th>\n",
       "      <th>false negative rate</th>\n",
       "      <th>selection rate</th>\n",
       "      <th>count</th>\n",
       "    </tr>\n",
       "    <tr>\n",
       "      <th>majmin</th>\n",
       "      <th></th>\n",
       "      <th></th>\n",
       "      <th></th>\n",
       "      <th></th>\n",
       "      <th></th>\n",
       "      <th></th>\n",
       "      <th></th>\n",
       "      <th></th>\n",
       "    </tr>\n",
       "  </thead>\n",
       "  <tbody>\n",
       "    <tr>\n",
       "      <th>majority</th>\n",
       "      <td>0.243285</td>\n",
       "      <td>0.557635</td>\n",
       "      <td>0.255935</td>\n",
       "      <td>0.147077</td>\n",
       "      <td>0.869632</td>\n",
       "      <td>0.015098</td>\n",
       "      <td>0.884863</td>\n",
       "      <td>69170.0</td>\n",
       "    </tr>\n",
       "    <tr>\n",
       "      <th>minority</th>\n",
       "      <td>0.161295</td>\n",
       "      <td>0.520309</td>\n",
       "      <td>0.213415</td>\n",
       "      <td>0.119644</td>\n",
       "      <td>0.946291</td>\n",
       "      <td>0.013091</td>\n",
       "      <td>0.950974</td>\n",
       "      <td>20540.0</td>\n",
       "    </tr>\n",
       "  </tbody>\n",
       "</table>\n",
       "</div>"
      ],
      "text/plain": [
       "          accuracy  balanced accuracy        f1  precision  \\\n",
       "majmin                                                       \n",
       "majority  0.243285           0.557635  0.255935   0.147077   \n",
       "minority  0.161295           0.520309  0.213415   0.119644   \n",
       "\n",
       "          false positive rate  false negative rate  selection rate    count  \n",
       "majmin                                                                       \n",
       "majority             0.869632             0.015098        0.884863  69170.0  \n",
       "minority             0.946291             0.013091        0.950974  20540.0  "
      ]
     },
     "execution_count": 60,
     "metadata": {},
     "output_type": "execute_result"
    }
   ],
   "source": [
    "metric_frame.by_group"
   ]
  },
  {
   "cell_type": "code",
   "execution_count": 61,
   "id": "6e6c20ae",
   "metadata": {
    "execution": {
     "iopub.execute_input": "2025-08-19T18:23:37.941956Z",
     "iopub.status.busy": "2025-08-19T18:23:37.941058Z",
     "iopub.status.idle": "2025-08-19T18:23:39.629020Z",
     "shell.execute_reply": "2025-08-19T18:23:39.627148Z"
    },
    "papermill": {
     "duration": 1.705674,
     "end_time": "2025-08-19T18:23:39.630348",
     "exception": false,
     "start_time": "2025-08-19T18:23:37.924674",
     "status": "completed"
    },
    "tags": []
   },
   "outputs": [
    {
     "data": {
      "text/plain": [
       "array([[<Axes: title={'center': 'accuracy'}, xlabel='majmin'>,\n",
       "        <Axes: title={'center': 'balanced accuracy'}, xlabel='majmin'>,\n",
       "        <Axes: title={'center': 'f1'}, xlabel='majmin'>],\n",
       "       [<Axes: title={'center': 'precision'}, xlabel='majmin'>,\n",
       "        <Axes: title={'center': 'false positive rate'}, xlabel='majmin'>,\n",
       "        <Axes: title={'center': 'false negative rate'}, xlabel='majmin'>],\n",
       "       [<Axes: title={'center': 'selection rate'}, xlabel='majmin'>,\n",
       "        <Axes: title={'center': 'count'}, xlabel='majmin'>,\n",
       "        <Axes: xlabel='majmin'>]], dtype=object)"
      ]
     },
     "execution_count": 61,
     "metadata": {},
     "output_type": "execute_result"
    },
    {
     "data": {
      "image/png": "[encoded data removed]",
      "text/plain": [
       "<Figure size 1200x800 with 9 Axes>"
      ]
     },
     "metadata": {},
     "output_type": "display_data"
    }
   ],
   "source": [
    "# In a graphic\n",
    "metric_frame.by_group.plot.bar(\n",
    "    subplots=True,\n",
    "    layout=[3, 3],\n",
    "    legend=False,\n",
    "    figsize=[12, 8],\n",
    "    title=\"Show all metrics\",\n",
    ")"
   ]
  },
  {
   "cell_type": "markdown",
   "id": "b2e433ae",
   "metadata": {
    "papermill": {
     "duration": 0.013006,
     "end_time": "2025-08-19T18:23:39.657772",
     "exception": false,
     "start_time": "2025-08-19T18:23:39.644766",
     "status": "completed"
    },
    "tags": []
   },
   "source": [
    "# Final Output"
   ]
  },
  {
   "cell_type": "code",
   "execution_count": 62,
   "id": "3871301e",
   "metadata": {
    "execution": {
     "iopub.execute_input": "2025-08-19T18:23:39.687547Z",
     "iopub.status.busy": "2025-08-19T18:23:39.686120Z",
     "iopub.status.idle": "2025-08-19T18:23:39.699135Z",
     "shell.execute_reply": "2025-08-19T18:23:39.697589Z"
    },
    "papermill": {
     "duration": 0.032027,
     "end_time": "2025-08-19T18:23:39.702745",
     "exception": false,
     "start_time": "2025-08-19T18:23:39.670718",
     "status": "completed"
    },
    "tags": []
   },
   "outputs": [
    {
     "data": {
      "text/plain": [
       "4"
      ]
     },
     "execution_count": 62,
     "metadata": {},
     "output_type": "execute_result"
    }
   ],
   "source": [
    "sub_universes = universe_analysis.generate_sub_universes()\n",
    "len(sub_universes)"
   ]
  },
  {
   "cell_type": "code",
   "execution_count": 63,
   "id": "d9cfdaca",
   "metadata": {
    "execution": {
     "iopub.execute_input": "2025-08-19T18:23:39.746001Z",
     "iopub.status.busy": "2025-08-19T18:23:39.745577Z",
     "iopub.status.idle": "2025-08-19T18:23:39.750963Z",
     "shell.execute_reply": "2025-08-19T18:23:39.750226Z"
    },
    "papermill": {
     "duration": 0.021409,
     "end_time": "2025-08-19T18:23:39.752108",
     "exception": false,
     "start_time": "2025-08-19T18:23:39.730699",
     "status": "completed"
    },
    "tags": []
   },
   "outputs": [],
   "source": [
    "def filter_sub_universe_data(sub_universe, org_test):\n",
    "    # Keep all rows — no filtering\n",
    "    keep_rows_mask = np.ones(org_test.shape[0], dtype=bool)\n",
    "\n",
    "    print(f\"[INFO] Keeping all rows: {keep_rows_mask.sum()} rows retained.\")\n",
    "    return keep_rows_mask"
   ]
  },
  {
   "cell_type": "code",
   "execution_count": 64,
   "id": "2bc31ac1",
   "metadata": {
    "execution": {
     "iopub.execute_input": "2025-08-19T18:23:39.781949Z",
     "iopub.status.busy": "2025-08-19T18:23:39.781250Z",
     "iopub.status.idle": "2025-08-19T18:23:46.273857Z",
     "shell.execute_reply": "2025-08-19T18:23:46.272664Z"
    },
    "papermill": {
     "duration": 6.50809,
     "end_time": "2025-08-19T18:23:46.275222",
     "exception": false,
     "start_time": "2025-08-19T18:23:39.767132",
     "status": "completed"
    },
    "tags": []
   },
   "outputs": [
    {
     "name": "stdout",
     "output_type": "stream",
     "text": [
      "Stopping execution_time clock.\n",
      "[INFO] Keeping all rows: 89710 rows retained.\n"
     ]
    },
    {
     "name": "stdout",
     "output_type": "stream",
     "text": [
      "[INFO] Keeping all rows: 89710 rows retained.\n"
     ]
    },
    {
     "name": "stdout",
     "output_type": "stream",
     "text": [
      "[INFO] Keeping all rows: 89710 rows retained.\n"
     ]
    },
    {
     "name": "stdout",
     "output_type": "stream",
     "text": [
      "[INFO] Keeping all rows: 89710 rows retained.\n"
     ]
    },
    {
     "data": {
      "text/html": [
       "<div>\n",
       "<style scoped>\n",
       "    .dataframe tbody tr th:only-of-type {\n",
       "        vertical-align: middle;\n",
       "    }\n",
       "\n",
       "    .dataframe tbody tr th {\n",
       "        vertical-align: top;\n",
       "    }\n",
       "\n",
       "    .dataframe thead th {\n",
       "        text-align: right;\n",
       "    }\n",
       "</style>\n",
       "<table border=\"1\" class=\"dataframe\">\n",
       "  <thead>\n",
       "    <tr style=\"text-align: right;\">\n",
       "      <th></th>\n",
       "      <th>run_no</th>\n",
       "      <th>universe_id</th>\n",
       "      <th>universe_settings</th>\n",
       "      <th>execution_time</th>\n",
       "      <th>test_size_n</th>\n",
       "      <th>test_size_frac</th>\n",
       "      <th>fair_main_equalized_odds_difference</th>\n",
       "      <th>fair_main_equalized_odds_ratio</th>\n",
       "      <th>fair_main_demographic_parity_difference</th>\n",
       "      <th>fair_main_demographic_parity_ratio</th>\n",
       "      <th>...</th>\n",
       "      <th>perf_grp_precision_0</th>\n",
       "      <th>perf_grp_precision_1</th>\n",
       "      <th>perf_grp_false positive rate_0</th>\n",
       "      <th>perf_grp_false positive rate_1</th>\n",
       "      <th>perf_grp_false negative rate_0</th>\n",
       "      <th>perf_grp_false negative rate_1</th>\n",
       "      <th>perf_grp_selection rate_0</th>\n",
       "      <th>perf_grp_selection rate_1</th>\n",
       "      <th>perf_grp_count_0</th>\n",
       "      <th>perf_grp_count_1</th>\n",
       "    </tr>\n",
       "  </thead>\n",
       "  <tbody>\n",
       "    <tr>\n",
       "      <th>0</th>\n",
       "      <td>3</td>\n",
       "      <td>57094a62ac2f1d5ec61513e99177b593</td>\n",
       "      <td>{\"cutoff\": \"quantile_0.1\", \"eval_fairness_grou...</td>\n",
       "      <td>20.033826</td>\n",
       "      <td>89710</td>\n",
       "      <td>1.0</td>\n",
       "      <td>0.076659</td>\n",
       "      <td>0.918990</td>\n",
       "      <td>0.066110</td>\n",
       "      <td>0.930481</td>\n",
       "      <td>...</td>\n",
       "      <td>NaN</td>\n",
       "      <td>NaN</td>\n",
       "      <td>NaN</td>\n",
       "      <td>NaN</td>\n",
       "      <td>NaN</td>\n",
       "      <td>NaN</td>\n",
       "      <td>NaN</td>\n",
       "      <td>NaN</td>\n",
       "      <td>NaN</td>\n",
       "      <td>NaN</td>\n",
       "    </tr>\n",
       "    <tr>\n",
       "      <th>0</th>\n",
       "      <td>3</td>\n",
       "      <td>57094a62ac2f1d5ec61513e99177b593</td>\n",
       "      <td>{\"cutoff\": \"quantile_0.1\", \"eval_fairness_grou...</td>\n",
       "      <td>20.033826</td>\n",
       "      <td>89710</td>\n",
       "      <td>1.0</td>\n",
       "      <td>0.076659</td>\n",
       "      <td>0.918990</td>\n",
       "      <td>0.066110</td>\n",
       "      <td>0.930481</td>\n",
       "      <td>...</td>\n",
       "      <td>0.119644</td>\n",
       "      <td>0.147077</td>\n",
       "      <td>0.946291</td>\n",
       "      <td>0.869632</td>\n",
       "      <td>0.013091</td>\n",
       "      <td>0.015098</td>\n",
       "      <td>0.950974</td>\n",
       "      <td>0.884863</td>\n",
       "      <td>20540.0</td>\n",
       "      <td>69170.0</td>\n",
       "    </tr>\n",
       "    <tr>\n",
       "      <th>0</th>\n",
       "      <td>3</td>\n",
       "      <td>57094a62ac2f1d5ec61513e99177b593</td>\n",
       "      <td>{\"cutoff\": \"quantile_0.25\", \"eval_fairness_gro...</td>\n",
       "      <td>20.033826</td>\n",
       "      <td>89710</td>\n",
       "      <td>1.0</td>\n",
       "      <td>0.155284</td>\n",
       "      <td>0.815495</td>\n",
       "      <td>0.134943</td>\n",
       "      <td>0.841995</td>\n",
       "      <td>...</td>\n",
       "      <td>NaN</td>\n",
       "      <td>NaN</td>\n",
       "      <td>NaN</td>\n",
       "      <td>NaN</td>\n",
       "      <td>NaN</td>\n",
       "      <td>NaN</td>\n",
       "      <td>NaN</td>\n",
       "      <td>NaN</td>\n",
       "      <td>NaN</td>\n",
       "      <td>NaN</td>\n",
       "    </tr>\n",
       "    <tr>\n",
       "      <th>0</th>\n",
       "      <td>3</td>\n",
       "      <td>57094a62ac2f1d5ec61513e99177b593</td>\n",
       "      <td>{\"cutoff\": \"quantile_0.25\", \"eval_fairness_gro...</td>\n",
       "      <td>20.033826</td>\n",
       "      <td>89710</td>\n",
       "      <td>1.0</td>\n",
       "      <td>0.155284</td>\n",
       "      <td>0.815495</td>\n",
       "      <td>0.134943</td>\n",
       "      <td>0.841995</td>\n",
       "      <td>...</td>\n",
       "      <td>0.128150</td>\n",
       "      <td>0.171673</td>\n",
       "      <td>0.841624</td>\n",
       "      <td>0.686340</td>\n",
       "      <td>0.050676</td>\n",
       "      <td>0.065755</td>\n",
       "      <td>0.854041</td>\n",
       "      <td>0.719098</td>\n",
       "      <td>20540.0</td>\n",
       "      <td>69170.0</td>\n",
       "    </tr>\n",
       "  </tbody>\n",
       "</table>\n",
       "<p>4 rows × 50 columns</p>\n",
       "</div>"
      ],
      "text/plain": [
       "  run_no                       universe_id  \\\n",
       "0      3  57094a62ac2f1d5ec61513e99177b593   \n",
       "0      3  57094a62ac2f1d5ec61513e99177b593   \n",
       "0      3  57094a62ac2f1d5ec61513e99177b593   \n",
       "0      3  57094a62ac2f1d5ec61513e99177b593   \n",
       "\n",
       "                                   universe_settings  execution_time  \\\n",
       "0  {\"cutoff\": \"quantile_0.1\", \"eval_fairness_grou...       20.033826   \n",
       "0  {\"cutoff\": \"quantile_0.1\", \"eval_fairness_grou...       20.033826   \n",
       "0  {\"cutoff\": \"quantile_0.25\", \"eval_fairness_gro...       20.033826   \n",
       "0  {\"cutoff\": \"quantile_0.25\", \"eval_fairness_gro...       20.033826   \n",
       "\n",
       "   test_size_n  test_size_frac  fair_main_equalized_odds_difference  \\\n",
       "0        89710             1.0                             0.076659   \n",
       "0        89710             1.0                             0.076659   \n",
       "0        89710             1.0                             0.155284   \n",
       "0        89710             1.0                             0.155284   \n",
       "\n",
       "   fair_main_equalized_odds_ratio  fair_main_demographic_parity_difference  \\\n",
       "0                        0.918990                                 0.066110   \n",
       "0                        0.918990                                 0.066110   \n",
       "0                        0.815495                                 0.134943   \n",
       "0                        0.815495                                 0.134943   \n",
       "\n",
       "   fair_main_demographic_parity_ratio  ...  perf_grp_precision_0  \\\n",
       "0                            0.930481  ...                   NaN   \n",
       "0                            0.930481  ...              0.119644   \n",
       "0                            0.841995  ...                   NaN   \n",
       "0                            0.841995  ...              0.128150   \n",
       "\n",
       "   perf_grp_precision_1  perf_grp_false positive rate_0  \\\n",
       "0                   NaN                             NaN   \n",
       "0              0.147077                        0.946291   \n",
       "0                   NaN                             NaN   \n",
       "0              0.171673                        0.841624   \n",
       "\n",
       "   perf_grp_false positive rate_1  perf_grp_false negative rate_0  \\\n",
       "0                             NaN                             NaN   \n",
       "0                        0.869632                        0.013091   \n",
       "0                             NaN                             NaN   \n",
       "0                        0.686340                        0.050676   \n",
       "\n",
       "   perf_grp_false negative rate_1  perf_grp_selection rate_0  \\\n",
       "0                             NaN                        NaN   \n",
       "0                        0.015098                   0.950974   \n",
       "0                             NaN                        NaN   \n",
       "0                        0.065755                   0.854041   \n",
       "\n",
       "   perf_grp_selection rate_1  perf_grp_count_0  perf_grp_count_1  \n",
       "0                        NaN               NaN               NaN  \n",
       "0                   0.884863           20540.0           69170.0  \n",
       "0                        NaN               NaN               NaN  \n",
       "0                   0.719098           20540.0           69170.0  \n",
       "\n",
       "[4 rows x 50 columns]"
      ]
     },
     "execution_count": 64,
     "metadata": {},
     "output_type": "execute_result"
    }
   ],
   "source": [
    "final_output = universe_analysis.generate_final_output(\n",
    "    y_pred_prob=probs_test,\n",
    "    y_test=y_true,\n",
    "    org_test=org_test,\n",
    "    filter_data=filter_sub_universe_data,\n",
    "    cp_metrics_df=cp_metrics_df,\n",
    "    save=True,\n",
    ")\n",
    "final_output"
   ]
  },
  {
   "cell_type": "code",
   "execution_count": null,
   "id": "8b80a1ff",
   "metadata": {
    "papermill": {
     "duration": 0.014166,
     "end_time": "2025-08-19T18:23:46.306509",
     "exception": false,
     "start_time": "2025-08-19T18:23:46.292343",
     "status": "completed"
    },
    "tags": []
   },
   "outputs": [],
   "source": []
  },
  {
   "cell_type": "code",
   "execution_count": null,
   "id": "275c9fad",
   "metadata": {
    "papermill": {
     "duration": 0.01398,
     "end_time": "2025-08-19T18:23:46.334629",
     "exception": false,
     "start_time": "2025-08-19T18:23:46.320649",
     "status": "completed"
    },
    "tags": []
   },
   "outputs": [],
   "source": []
  }
 ],
 "metadata": {
  "celltoolbar": "Tags",
  "kernelspec": {
   "display_name": "Python (CMA Fairness)",
   "language": "python",
   "name": "cma_fair_env"
  },
  "language_info": {
   "codemirror_mode": {
    "name": "ipython",
    "version": 3
   },
   "file_extension": ".py",
   "mimetype": "text/x-python",
   "name": "python",
   "nbconvert_exporter": "python",
   "pygments_lexer": "ipython3",
   "version": "3.10.12"
  },
  "papermill": {
   "default_parameters": {},
   "duration": 30.26204,
   "end_time": "2025-08-19T18:23:47.169672",
   "environment_variables": {},
   "exception": null,
   "input_path": "universe_analysis.ipynb",
   "output_path": "output/runs/3/notebooks/m_3-57094a62ac2f1d5ec61513e99177b593.ipynb",
   "parameters": {
    "output_dir": "output",
    "run_no": "3",
    "seed": "2023",
    "universe": "{\"cutoff\": [\"quantile_0.1\", \"quantile_0.25\"], \"eval_fairness_grouping\": [\"majority-minority\", \"nationality-all\"], \"exclude_features\": \"none\", \"exclude_subgroups\": \"keep-all\", \"model\": \"penalized_logreg\", \"scale\": \"scale\", \"training_size\": \"5k\", \"training_year\": \"2014\"}",
    "universe_id": "57094a62ac2f1d5ec61513e99177b593"
   },
   "start_time": "2025-08-19T18:23:16.907632",
   "version": "2.6.0"
  }
 },
 "nbformat": 4,
 "nbformat_minor": 5
}