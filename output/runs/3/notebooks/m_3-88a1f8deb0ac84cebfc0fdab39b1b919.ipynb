{
 "cells": [
  {
   "cell_type": "markdown",
   "id": "ef23dbb3",
   "metadata": {
    "papermill": {
     "duration": 0.009367,
     "end_time": "2025-08-19T19:06:09.036334",
     "exception": false,
     "start_time": "2025-08-19T19:06:09.026967",
     "status": "completed"
    },
    "tags": []
   },
   "source": [
    "# Setup"
   ]
  },
  {
   "cell_type": "code",
   "execution_count": 1,
   "id": "0bc8e7dc",
   "metadata": {
    "execution": {
     "iopub.execute_input": "2025-08-19T19:06:09.057086Z",
     "iopub.status.busy": "2025-08-19T19:06:09.056586Z",
     "iopub.status.idle": "2025-08-19T19:06:09.065428Z",
     "shell.execute_reply": "2025-08-19T19:06:09.064772Z"
    },
    "papermill": {
     "duration": 0.023672,
     "end_time": "2025-08-19T19:06:09.070536",
     "exception": false,
     "start_time": "2025-08-19T19:06:09.046864",
     "status": "completed"
    },
    "tags": []
   },
   "outputs": [
    {
     "name": "stdout",
     "output_type": "stream",
     "text": [
      "/dss/dsshome1/0C/ra93lal2/cma/CMA_Fairness_v2\n"
     ]
    },
    {
     "name": "stderr",
     "output_type": "stream",
     "text": [
      "/dss/dsshome1/0C/ra93lal2/.local/share/virtualenvs/CMA_Fairness_v2-3j10GkSs/lib/python3.10/site-packages/IPython/core/magics/osm.py:393: UserWarning: This is now an optional IPython functionality, using bookmarks requires you to install the `pickleshare` library.\n",
      "  bkms = self.shell.db.get('bookmarks', {})\n",
      "/dss/dsshome1/0C/ra93lal2/.local/share/virtualenvs/CMA_Fairness_v2-3j10GkSs/lib/python3.10/site-packages/IPython/core/magics/osm.py:417: UserWarning: This is now an optional IPython functionality, setting dhist requires you to install the `pickleshare` library.\n",
      "  self.shell.db['dhist'] = compress_dhist(dhist)[-100:]\n"
     ]
    }
   ],
   "source": [
    "%cd ~/cma/CMA_Fairness_v2"
   ]
  },
  {
   "cell_type": "markdown",
   "id": "9d235661",
   "metadata": {
    "papermill": {
     "duration": 0.012269,
     "end_time": "2025-08-19T19:06:09.105827",
     "exception": false,
     "start_time": "2025-08-19T19:06:09.093558",
     "status": "completed"
    },
    "tags": []
   },
   "source": [
    "The following cell holds the definition of our parameters, these values can be overriden by rendering the with e.g. the following command:\n",
    "\n",
    "papermill -p alpha 0.2 -p ratio 0.3 universe_analysis.ipynb output/test_run.ipynb"
   ]
  },
  {
   "cell_type": "code",
   "execution_count": 2,
   "id": "4a789d8e",
   "metadata": {
    "execution": {
     "iopub.execute_input": "2025-08-19T19:06:09.125000Z",
     "iopub.status.busy": "2025-08-19T19:06:09.124511Z",
     "iopub.status.idle": "2025-08-19T19:06:09.129633Z",
     "shell.execute_reply": "2025-08-19T19:06:09.128805Z"
    },
    "papermill": {
     "duration": 0.016376,
     "end_time": "2025-08-19T19:06:09.131004",
     "exception": false,
     "start_time": "2025-08-19T19:06:09.114628",
     "status": "completed"
    },
    "tags": []
   },
   "outputs": [
    {
     "name": "stdout",
     "output_type": "stream",
     "text": [
      "Current working directory: /dss/dsshome1/0C/ra93lal2/cma/CMA_Fairness_v2\n"
     ]
    }
   ],
   "source": [
    "import os\n",
    "print(\"Current working directory:\", os.getcwd())"
   ]
  },
  {
   "cell_type": "code",
   "execution_count": 3,
   "id": "4132aaed",
   "metadata": {
    "execution": {
     "iopub.execute_input": "2025-08-19T19:06:09.151647Z",
     "iopub.status.busy": "2025-08-19T19:06:09.151361Z",
     "iopub.status.idle": "2025-08-19T19:06:09.155698Z",
     "shell.execute_reply": "2025-08-19T19:06:09.154935Z"
    },
    "papermill": {
     "duration": 0.016255,
     "end_time": "2025-08-19T19:06:09.156885",
     "exception": false,
     "start_time": "2025-08-19T19:06:09.140630",
     "status": "completed"
    },
    "tags": [
     "parameters"
    ]
   },
   "outputs": [],
   "source": [
    "run_no = 0\n",
    "universe_id = \"test\"\n",
    "universe = {\n",
    "    \"training_size\": \"5k\", # \"25k\", \"5k\", \"1k\"\n",
    "    \"training_year\": \"2012_14\", # \"2014\", \"2012_14\", \"2010_14\"\n",
    "    \"scale\": \"scale\", # \"scale\", \"do-not-scale\",\n",
    "    \"model\": \"elasticnet\", # \"logreg\", \"penalized_logreg\", \"rf\", \"gbm\", \"elasticnet\"\n",
    "    \"cutoff\": [\"quantile_0.15\", \"quantile_0.30\"],\n",
    "    \"exclude_features\": \"age\", # \"none\", \"nationality\", \"sex\", \"nationality-sex\", \"age\"\n",
    "    \"exclude_subgroups\": \"drop-non-german\", # \"keep-all\", \"drop-non-german\"\n",
    "    \"eval_fairness_grouping\": [\"majority-minority\", \"nationality-all\"]\n",
    "}\n",
    "\n",
    "output_dir=\"./output\"\n",
    "seed=0"
   ]
  },
  {
   "cell_type": "code",
   "execution_count": 4,
   "id": "54f90d33",
   "metadata": {
    "execution": {
     "iopub.execute_input": "2025-08-19T19:06:09.177954Z",
     "iopub.status.busy": "2025-08-19T19:06:09.177555Z",
     "iopub.status.idle": "2025-08-19T19:06:09.181777Z",
     "shell.execute_reply": "2025-08-19T19:06:09.180976Z"
    },
    "papermill": {
     "duration": 0.016416,
     "end_time": "2025-08-19T19:06:09.183245",
     "exception": false,
     "start_time": "2025-08-19T19:06:09.166829",
     "status": "completed"
    },
    "tags": [
     "injected-parameters"
    ]
   },
   "outputs": [],
   "source": [
    "# Parameters\n",
    "universe_id = \"88a1f8deb0ac84cebfc0fdab39b1b919\"\n",
    "run_no = \"3\"\n",
    "universe = \"{\\\"cutoff\\\": [\\\"quantile_0.1\\\", \\\"quantile_0.25\\\"], \\\"eval_fairness_grouping\\\": [\\\"majority-minority\\\", \\\"nationality-all\\\"], \\\"exclude_features\\\": \\\"nationality\\\", \\\"exclude_subgroups\\\": \\\"keep-all\\\", \\\"model\\\": \\\"rf\\\", \\\"scale\\\": \\\"scale\\\", \\\"training_size\\\": \\\"1k\\\", \\\"training_year\\\": \\\"2010_14\\\"}\"\n",
    "output_dir = \"output\"\n",
    "seed = \"2023\"\n"
   ]
  },
  {
   "cell_type": "code",
   "execution_count": 5,
   "id": "a5d7941f",
   "metadata": {
    "execution": {
     "iopub.execute_input": "2025-08-19T19:06:09.204519Z",
     "iopub.status.busy": "2025-08-19T19:06:09.204131Z",
     "iopub.status.idle": "2025-08-19T19:06:09.208057Z",
     "shell.execute_reply": "2025-08-19T19:06:09.207272Z"
    },
    "papermill": {
     "duration": 0.016817,
     "end_time": "2025-08-19T19:06:09.209887",
     "exception": false,
     "start_time": "2025-08-19T19:06:09.193070",
     "status": "completed"
    },
    "tags": []
   },
   "outputs": [],
   "source": [
    "import json\n",
    "if isinstance(universe, str):\n",
    "    universe = json.loads(universe)"
   ]
  },
  {
   "cell_type": "code",
   "execution_count": 6,
   "id": "7076ccb1",
   "metadata": {
    "execution": {
     "iopub.execute_input": "2025-08-19T19:06:09.231860Z",
     "iopub.status.busy": "2025-08-19T19:06:09.231502Z",
     "iopub.status.idle": "2025-08-19T19:06:09.266593Z",
     "shell.execute_reply": "2025-08-19T19:06:09.265600Z"
    },
    "papermill": {
     "duration": 0.048263,
     "end_time": "2025-08-19T19:06:09.268024",
     "exception": false,
     "start_time": "2025-08-19T19:06:09.219761",
     "status": "completed"
    },
    "tags": []
   },
   "outputs": [],
   "source": [
    "# Auto-reload the custom package\n",
    "%load_ext autoreload\n",
    "%autoreload 1\n",
    "%aimport fairness_multiverse"
   ]
  },
  {
   "cell_type": "code",
   "execution_count": 7,
   "id": "94c8eb93",
   "metadata": {
    "execution": {
     "iopub.execute_input": "2025-08-19T19:06:09.288805Z",
     "iopub.status.busy": "2025-08-19T19:06:09.288311Z",
     "iopub.status.idle": "2025-08-19T19:06:10.844240Z",
     "shell.execute_reply": "2025-08-19T19:06:10.842186Z"
    },
    "papermill": {
     "duration": 1.568767,
     "end_time": "2025-08-19T19:06:10.846243",
     "exception": false,
     "start_time": "2025-08-19T19:06:09.277476",
     "status": "completed"
    },
    "tags": []
   },
   "outputs": [],
   "source": [
    "from fairness_multiverse.universe import UniverseAnalysis\n",
    "\n",
    "universe_analysis = UniverseAnalysis(\n",
    "    run_no = run_no,\n",
    "    universe_id = universe_id,\n",
    "    universe = universe,\n",
    "    output_dir=output_dir,\n",
    ")"
   ]
  },
  {
   "cell_type": "code",
   "execution_count": 8,
   "id": "2a6381cf",
   "metadata": {
    "execution": {
     "iopub.execute_input": "2025-08-19T19:06:10.869520Z",
     "iopub.status.busy": "2025-08-19T19:06:10.868040Z",
     "iopub.status.idle": "2025-08-19T19:06:10.878434Z",
     "shell.execute_reply": "2025-08-19T19:06:10.877322Z"
    },
    "papermill": {
     "duration": 0.024386,
     "end_time": "2025-08-19T19:06:10.880430",
     "exception": false,
     "start_time": "2025-08-19T19:06:10.856044",
     "status": "completed"
    },
    "tags": []
   },
   "outputs": [
    {
     "name": "stdout",
     "output_type": "stream",
     "text": [
      "Using Seed: 2023\n"
     ]
    }
   ],
   "source": [
    "import numpy as np\n",
    "parsed_seed = int(seed)\n",
    "np.random.seed(parsed_seed)\n",
    "print(f\"Using Seed: {parsed_seed}\")"
   ]
  },
  {
   "cell_type": "markdown",
   "id": "b6e958b4",
   "metadata": {
    "papermill": {
     "duration": 0.009605,
     "end_time": "2025-08-19T19:06:10.904589",
     "exception": false,
     "start_time": "2025-08-19T19:06:10.894984",
     "status": "completed"
    },
    "tags": []
   },
   "source": [
    "# Loading Data"
   ]
  },
  {
   "cell_type": "code",
   "execution_count": 9,
   "id": "98701482",
   "metadata": {
    "execution": {
     "iopub.execute_input": "2025-08-19T19:06:10.925827Z",
     "iopub.status.busy": "2025-08-19T19:06:10.925286Z",
     "iopub.status.idle": "2025-08-19T19:06:21.899553Z",
     "shell.execute_reply": "2025-08-19T19:06:21.897068Z"
    },
    "papermill": {
     "duration": 10.987393,
     "end_time": "2025-08-19T19:06:21.901206",
     "exception": false,
     "start_time": "2025-08-19T19:06:10.913813",
     "status": "completed"
    },
    "tags": []
   },
   "outputs": [
    {
     "name": "stdout",
     "output_type": "stream",
     "text": [
      "Loading SIAB data from cache: data/siab_cached.csv.gz\n"
     ]
    },
    {
     "name": "stdout",
     "output_type": "stream",
     "text": [
      "(643690, 164)\n"
     ]
    }
   ],
   "source": [
    "from pathlib import Path\n",
    "import pandas as pd\n",
    "\n",
    "# File paths\n",
    "raw_file = Path(\"data/raw/siab.csv\")\n",
    "cache_file = Path(\"data/siab_cached.csv.gz\")\n",
    "\n",
    "# Ensure cache directory exists\n",
    "cache_file.parent.mkdir(parents=True, exist_ok=True)\n",
    "\n",
    "# Load with simple caching\n",
    "if cache_file.exists():\n",
    "    print(f\"Loading SIAB data from cache: {cache_file}\")\n",
    "    siab = pd.read_csv(cache_file, compression='gzip')\n",
    "else:\n",
    "    print(f\"Cache not found. Reading raw SIAB data: {raw_file}\")\n",
    "    siab = pd.read_csv(raw_file)\n",
    "    siab.to_csv(cache_file, index=False, compression='gzip')\n",
    "    print(f\"Cached SIAB data to: {cache_file}\")\n",
    "\n",
    "print(siab.shape)"
   ]
  },
  {
   "cell_type": "code",
   "execution_count": 10,
   "id": "058d2abb",
   "metadata": {
    "execution": {
     "iopub.execute_input": "2025-08-19T19:06:21.935939Z",
     "iopub.status.busy": "2025-08-19T19:06:21.934105Z",
     "iopub.status.idle": "2025-08-19T19:06:22.149738Z",
     "shell.execute_reply": "2025-08-19T19:06:22.148119Z"
    },
    "papermill": {
     "duration": 0.232528,
     "end_time": "2025-08-19T19:06:22.154415",
     "exception": false,
     "start_time": "2025-08-19T19:06:21.921887",
     "status": "completed"
    },
    "tags": []
   },
   "outputs": [
    {
     "data": {
      "text/html": [
       "<div>\n",
       "<style scoped>\n",
       "    .dataframe tbody tr th:only-of-type {\n",
       "        vertical-align: middle;\n",
       "    }\n",
       "\n",
       "    .dataframe tbody tr th {\n",
       "        vertical-align: top;\n",
       "    }\n",
       "\n",
       "    .dataframe thead th {\n",
       "        text-align: right;\n",
       "    }\n",
       "</style>\n",
       "<table border=\"1\" class=\"dataframe\">\n",
       "  <thead>\n",
       "    <tr style=\"text-align: right;\">\n",
       "      <th></th>\n",
       "      <th>persnr</th>\n",
       "      <th>year</th>\n",
       "      <th>nrEntry</th>\n",
       "      <th>ltue</th>\n",
       "      <th>employed_before</th>\n",
       "      <th>receipt_leh_before</th>\n",
       "      <th>receipt_lhg_before</th>\n",
       "      <th>se_before</th>\n",
       "      <th>ASU_notue_seeking_before</th>\n",
       "      <th>ASU_other_before</th>\n",
       "      <th>...</th>\n",
       "      <th>minijob_tot_dur_byage</th>\n",
       "      <th>ft_tot_dur_byage</th>\n",
       "      <th>befrist_tot_dur_byage</th>\n",
       "      <th>leih_tot_dur_byage</th>\n",
       "      <th>LHG_tot_dur_byage</th>\n",
       "      <th>LEH_tot_dur_byage</th>\n",
       "      <th>almp_tot_dur_byage</th>\n",
       "      <th>almp_aw_tot_dur_byage</th>\n",
       "      <th>se_tot_dur_byage</th>\n",
       "      <th>seeking1_tot_dur_byage</th>\n",
       "    </tr>\n",
       "  </thead>\n",
       "  <tbody>\n",
       "    <tr>\n",
       "      <th>0</th>\n",
       "      <td>7</td>\n",
       "      <td>2015</td>\n",
       "      <td>1</td>\n",
       "      <td>0</td>\n",
       "      <td>1</td>\n",
       "      <td>0</td>\n",
       "      <td>0</td>\n",
       "      <td>0</td>\n",
       "      <td>1</td>\n",
       "      <td>0</td>\n",
       "      <td>...</td>\n",
       "      <td>0.000000</td>\n",
       "      <td>0.000000</td>\n",
       "      <td>15.043478</td>\n",
       "      <td>0.000000</td>\n",
       "      <td>0.000000</td>\n",
       "      <td>0.000000</td>\n",
       "      <td>0.000000</td>\n",
       "      <td>0.000000</td>\n",
       "      <td>0.000000</td>\n",
       "      <td>0.000000</td>\n",
       "    </tr>\n",
       "    <tr>\n",
       "      <th>1</th>\n",
       "      <td>18</td>\n",
       "      <td>2010</td>\n",
       "      <td>1</td>\n",
       "      <td>1</td>\n",
       "      <td>0</td>\n",
       "      <td>0</td>\n",
       "      <td>0</td>\n",
       "      <td>0</td>\n",
       "      <td>0</td>\n",
       "      <td>0</td>\n",
       "      <td>...</td>\n",
       "      <td>0.000000</td>\n",
       "      <td>0.000000</td>\n",
       "      <td>0.000000</td>\n",
       "      <td>0.000000</td>\n",
       "      <td>0.000000</td>\n",
       "      <td>0.000000</td>\n",
       "      <td>0.000000</td>\n",
       "      <td>0.000000</td>\n",
       "      <td>0.000000</td>\n",
       "      <td>0.000000</td>\n",
       "    </tr>\n",
       "    <tr>\n",
       "      <th>2</th>\n",
       "      <td>18</td>\n",
       "      <td>2011</td>\n",
       "      <td>2</td>\n",
       "      <td>0</td>\n",
       "      <td>1</td>\n",
       "      <td>0</td>\n",
       "      <td>1</td>\n",
       "      <td>0</td>\n",
       "      <td>1</td>\n",
       "      <td>0</td>\n",
       "      <td>...</td>\n",
       "      <td>2.714286</td>\n",
       "      <td>2.714286</td>\n",
       "      <td>0.000000</td>\n",
       "      <td>0.000000</td>\n",
       "      <td>10.775510</td>\n",
       "      <td>0.000000</td>\n",
       "      <td>8.367347</td>\n",
       "      <td>0.000000</td>\n",
       "      <td>0.000000</td>\n",
       "      <td>9.836735</td>\n",
       "    </tr>\n",
       "    <tr>\n",
       "      <th>3</th>\n",
       "      <td>18</td>\n",
       "      <td>2012</td>\n",
       "      <td>3</td>\n",
       "      <td>0</td>\n",
       "      <td>1</td>\n",
       "      <td>0</td>\n",
       "      <td>1</td>\n",
       "      <td>0</td>\n",
       "      <td>1</td>\n",
       "      <td>0</td>\n",
       "      <td>...</td>\n",
       "      <td>4.200000</td>\n",
       "      <td>4.200000</td>\n",
       "      <td>0.000000</td>\n",
       "      <td>0.000000</td>\n",
       "      <td>12.100000</td>\n",
       "      <td>0.000000</td>\n",
       "      <td>9.400000</td>\n",
       "      <td>0.000000</td>\n",
       "      <td>0.000000</td>\n",
       "      <td>9.960000</td>\n",
       "    </tr>\n",
       "    <tr>\n",
       "      <th>4</th>\n",
       "      <td>18</td>\n",
       "      <td>2012</td>\n",
       "      <td>4</td>\n",
       "      <td>0</td>\n",
       "      <td>1</td>\n",
       "      <td>0</td>\n",
       "      <td>1</td>\n",
       "      <td>0</td>\n",
       "      <td>1</td>\n",
       "      <td>0</td>\n",
       "      <td>...</td>\n",
       "      <td>5.460000</td>\n",
       "      <td>5.460000</td>\n",
       "      <td>0.000000</td>\n",
       "      <td>0.000000</td>\n",
       "      <td>13.360000</td>\n",
       "      <td>0.000000</td>\n",
       "      <td>10.320000</td>\n",
       "      <td>0.000000</td>\n",
       "      <td>0.000000</td>\n",
       "      <td>10.280000</td>\n",
       "    </tr>\n",
       "    <tr>\n",
       "      <th>...</th>\n",
       "      <td>...</td>\n",
       "      <td>...</td>\n",
       "      <td>...</td>\n",
       "      <td>...</td>\n",
       "      <td>...</td>\n",
       "      <td>...</td>\n",
       "      <td>...</td>\n",
       "      <td>...</td>\n",
       "      <td>...</td>\n",
       "      <td>...</td>\n",
       "      <td>...</td>\n",
       "      <td>...</td>\n",
       "      <td>...</td>\n",
       "      <td>...</td>\n",
       "      <td>...</td>\n",
       "      <td>...</td>\n",
       "      <td>...</td>\n",
       "      <td>...</td>\n",
       "      <td>...</td>\n",
       "      <td>...</td>\n",
       "      <td>...</td>\n",
       "    </tr>\n",
       "    <tr>\n",
       "      <th>643685</th>\n",
       "      <td>1827860</td>\n",
       "      <td>2013</td>\n",
       "      <td>1</td>\n",
       "      <td>0</td>\n",
       "      <td>0</td>\n",
       "      <td>0</td>\n",
       "      <td>1</td>\n",
       "      <td>0</td>\n",
       "      <td>0</td>\n",
       "      <td>1</td>\n",
       "      <td>...</td>\n",
       "      <td>0.000000</td>\n",
       "      <td>0.000000</td>\n",
       "      <td>0.000000</td>\n",
       "      <td>0.000000</td>\n",
       "      <td>0.612903</td>\n",
       "      <td>0.000000</td>\n",
       "      <td>0.000000</td>\n",
       "      <td>0.000000</td>\n",
       "      <td>0.000000</td>\n",
       "      <td>0.000000</td>\n",
       "    </tr>\n",
       "    <tr>\n",
       "      <th>643686</th>\n",
       "      <td>1827860</td>\n",
       "      <td>2015</td>\n",
       "      <td>2</td>\n",
       "      <td>1</td>\n",
       "      <td>0</td>\n",
       "      <td>0</td>\n",
       "      <td>1</td>\n",
       "      <td>0</td>\n",
       "      <td>1</td>\n",
       "      <td>0</td>\n",
       "      <td>...</td>\n",
       "      <td>0.000000</td>\n",
       "      <td>0.000000</td>\n",
       "      <td>0.212121</td>\n",
       "      <td>0.212121</td>\n",
       "      <td>17.363636</td>\n",
       "      <td>0.000000</td>\n",
       "      <td>8.909091</td>\n",
       "      <td>0.000000</td>\n",
       "      <td>0.000000</td>\n",
       "      <td>7.121212</td>\n",
       "    </tr>\n",
       "    <tr>\n",
       "      <th>643687</th>\n",
       "      <td>1827860</td>\n",
       "      <td>2016</td>\n",
       "      <td>3</td>\n",
       "      <td>1</td>\n",
       "      <td>0</td>\n",
       "      <td>0</td>\n",
       "      <td>1</td>\n",
       "      <td>1</td>\n",
       "      <td>0</td>\n",
       "      <td>1</td>\n",
       "      <td>...</td>\n",
       "      <td>0.000000</td>\n",
       "      <td>0.000000</td>\n",
       "      <td>0.294118</td>\n",
       "      <td>0.205882</td>\n",
       "      <td>34.705882</td>\n",
       "      <td>0.000000</td>\n",
       "      <td>10.352941</td>\n",
       "      <td>1.705882</td>\n",
       "      <td>1.705882</td>\n",
       "      <td>23.911765</td>\n",
       "    </tr>\n",
       "    <tr>\n",
       "      <th>643688</th>\n",
       "      <td>1827869</td>\n",
       "      <td>2013</td>\n",
       "      <td>1</td>\n",
       "      <td>1</td>\n",
       "      <td>1</td>\n",
       "      <td>0</td>\n",
       "      <td>0</td>\n",
       "      <td>0</td>\n",
       "      <td>1</td>\n",
       "      <td>0</td>\n",
       "      <td>...</td>\n",
       "      <td>0.000000</td>\n",
       "      <td>0.000000</td>\n",
       "      <td>0.000000</td>\n",
       "      <td>0.000000</td>\n",
       "      <td>0.000000</td>\n",
       "      <td>0.525424</td>\n",
       "      <td>0.000000</td>\n",
       "      <td>0.000000</td>\n",
       "      <td>0.000000</td>\n",
       "      <td>0.000000</td>\n",
       "    </tr>\n",
       "    <tr>\n",
       "      <th>643689</th>\n",
       "      <td>1827869</td>\n",
       "      <td>2014</td>\n",
       "      <td>2</td>\n",
       "      <td>0</td>\n",
       "      <td>0</td>\n",
       "      <td>1</td>\n",
       "      <td>0</td>\n",
       "      <td>0</td>\n",
       "      <td>1</td>\n",
       "      <td>0</td>\n",
       "      <td>...</td>\n",
       "      <td>0.000000</td>\n",
       "      <td>0.666667</td>\n",
       "      <td>0.666667</td>\n",
       "      <td>0.000000</td>\n",
       "      <td>0.000000</td>\n",
       "      <td>8.950000</td>\n",
       "      <td>1.033333</td>\n",
       "      <td>0.083333</td>\n",
       "      <td>0.083333</td>\n",
       "      <td>8.133333</td>\n",
       "    </tr>\n",
       "  </tbody>\n",
       "</table>\n",
       "<p>643690 rows × 164 columns</p>\n",
       "</div>"
      ],
      "text/plain": [
       "         persnr  year  nrEntry  ltue  employed_before  receipt_leh_before  \\\n",
       "0             7  2015        1     0                1                   0   \n",
       "1            18  2010        1     1                0                   0   \n",
       "2            18  2011        2     0                1                   0   \n",
       "3            18  2012        3     0                1                   0   \n",
       "4            18  2012        4     0                1                   0   \n",
       "...         ...   ...      ...   ...              ...                 ...   \n",
       "643685  1827860  2013        1     0                0                   0   \n",
       "643686  1827860  2015        2     1                0                   0   \n",
       "643687  1827860  2016        3     1                0                   0   \n",
       "643688  1827869  2013        1     1                1                   0   \n",
       "643689  1827869  2014        2     0                0                   1   \n",
       "\n",
       "        receipt_lhg_before  se_before  ASU_notue_seeking_before  \\\n",
       "0                        0          0                         1   \n",
       "1                        0          0                         0   \n",
       "2                        1          0                         1   \n",
       "3                        1          0                         1   \n",
       "4                        1          0                         1   \n",
       "...                    ...        ...                       ...   \n",
       "643685                   1          0                         0   \n",
       "643686                   1          0                         1   \n",
       "643687                   1          1                         0   \n",
       "643688                   0          0                         1   \n",
       "643689                   0          0                         1   \n",
       "\n",
       "        ASU_other_before  ...  minijob_tot_dur_byage  ft_tot_dur_byage  \\\n",
       "0                      0  ...               0.000000          0.000000   \n",
       "1                      0  ...               0.000000          0.000000   \n",
       "2                      0  ...               2.714286          2.714286   \n",
       "3                      0  ...               4.200000          4.200000   \n",
       "4                      0  ...               5.460000          5.460000   \n",
       "...                  ...  ...                    ...               ...   \n",
       "643685                 1  ...               0.000000          0.000000   \n",
       "643686                 0  ...               0.000000          0.000000   \n",
       "643687                 1  ...               0.000000          0.000000   \n",
       "643688                 0  ...               0.000000          0.000000   \n",
       "643689                 0  ...               0.000000          0.666667   \n",
       "\n",
       "        befrist_tot_dur_byage  leih_tot_dur_byage  LHG_tot_dur_byage  \\\n",
       "0                   15.043478            0.000000           0.000000   \n",
       "1                    0.000000            0.000000           0.000000   \n",
       "2                    0.000000            0.000000          10.775510   \n",
       "3                    0.000000            0.000000          12.100000   \n",
       "4                    0.000000            0.000000          13.360000   \n",
       "...                       ...                 ...                ...   \n",
       "643685               0.000000            0.000000           0.612903   \n",
       "643686               0.212121            0.212121          17.363636   \n",
       "643687               0.294118            0.205882          34.705882   \n",
       "643688               0.000000            0.000000           0.000000   \n",
       "643689               0.666667            0.000000           0.000000   \n",
       "\n",
       "        LEH_tot_dur_byage  almp_tot_dur_byage  almp_aw_tot_dur_byage  \\\n",
       "0                0.000000            0.000000               0.000000   \n",
       "1                0.000000            0.000000               0.000000   \n",
       "2                0.000000            8.367347               0.000000   \n",
       "3                0.000000            9.400000               0.000000   \n",
       "4                0.000000           10.320000               0.000000   \n",
       "...                   ...                 ...                    ...   \n",
       "643685           0.000000            0.000000               0.000000   \n",
       "643686           0.000000            8.909091               0.000000   \n",
       "643687           0.000000           10.352941               1.705882   \n",
       "643688           0.525424            0.000000               0.000000   \n",
       "643689           8.950000            1.033333               0.083333   \n",
       "\n",
       "        se_tot_dur_byage  seeking1_tot_dur_byage  \n",
       "0               0.000000                0.000000  \n",
       "1               0.000000                0.000000  \n",
       "2               0.000000                9.836735  \n",
       "3               0.000000                9.960000  \n",
       "4               0.000000               10.280000  \n",
       "...                  ...                     ...  \n",
       "643685          0.000000                0.000000  \n",
       "643686          0.000000                7.121212  \n",
       "643687          1.705882               23.911765  \n",
       "643688          0.000000                0.000000  \n",
       "643689          0.083333                8.133333  \n",
       "\n",
       "[643690 rows x 164 columns]"
      ]
     },
     "execution_count": 10,
     "metadata": {},
     "output_type": "execute_result"
    }
   ],
   "source": [
    "siab"
   ]
  },
  {
   "cell_type": "markdown",
   "id": "1f87e805",
   "metadata": {
    "papermill": {
     "duration": 0.011381,
     "end_time": "2025-08-19T19:06:22.187883",
     "exception": false,
     "start_time": "2025-08-19T19:06:22.176502",
     "status": "completed"
    },
    "tags": []
   },
   "source": [
    "# Splitting Data and Setting Training Data Size"
   ]
  },
  {
   "cell_type": "code",
   "execution_count": 11,
   "id": "910ae358",
   "metadata": {
    "execution": {
     "iopub.execute_input": "2025-08-19T19:06:22.211453Z",
     "iopub.status.busy": "2025-08-19T19:06:22.210007Z",
     "iopub.status.idle": "2025-08-19T19:06:23.332384Z",
     "shell.execute_reply": "2025-08-19T19:06:23.331343Z"
    },
    "papermill": {
     "duration": 1.136177,
     "end_time": "2025-08-19T19:06:23.334085",
     "exception": false,
     "start_time": "2025-08-19T19:06:22.197908",
     "status": "completed"
    },
    "tags": []
   },
   "outputs": [],
   "source": [
    "from fairness_multiverse.universe import sample_by_year_size\n",
    "\n",
    "siab_train = sample_by_year_size(siab,\n",
    "                               training_year=universe[\"training_year\"],\n",
    "                               training_size=universe[\"training_size\"])"
   ]
  },
  {
   "cell_type": "code",
   "execution_count": 12,
   "id": "919c8ff5",
   "metadata": {
    "execution": {
     "iopub.execute_input": "2025-08-19T19:06:23.362127Z",
     "iopub.status.busy": "2025-08-19T19:06:23.361156Z",
     "iopub.status.idle": "2025-08-19T19:06:23.382596Z",
     "shell.execute_reply": "2025-08-19T19:06:23.381424Z"
    },
    "papermill": {
     "duration": 0.040431,
     "end_time": "2025-08-19T19:06:23.384944",
     "exception": false,
     "start_time": "2025-08-19T19:06:23.344513",
     "status": "completed"
    },
    "tags": []
   },
   "outputs": [
    {
     "data": {
      "text/plain": [
       "(1000, 164)"
      ]
     },
     "execution_count": 12,
     "metadata": {},
     "output_type": "execute_result"
    }
   ],
   "source": [
    "siab_train.shape"
   ]
  },
  {
   "cell_type": "code",
   "execution_count": 13,
   "id": "feb13bf4",
   "metadata": {
    "execution": {
     "iopub.execute_input": "2025-08-19T19:06:23.410151Z",
     "iopub.status.busy": "2025-08-19T19:06:23.409596Z",
     "iopub.status.idle": "2025-08-19T19:06:23.426527Z",
     "shell.execute_reply": "2025-08-19T19:06:23.425328Z"
    },
    "papermill": {
     "duration": 0.030727,
     "end_time": "2025-08-19T19:06:23.428399",
     "exception": false,
     "start_time": "2025-08-19T19:06:23.397672",
     "status": "completed"
    },
    "tags": []
   },
   "outputs": [
    {
     "data": {
      "text/plain": [
       "year\n",
       "2010    200\n",
       "2011    200\n",
       "2012    200\n",
       "2013    200\n",
       "2014    200\n",
       "dtype: int64"
      ]
     },
     "metadata": {},
     "output_type": "display_data"
    }
   ],
   "source": [
    "display(siab_train.groupby(\"year\").size())"
   ]
  },
  {
   "cell_type": "code",
   "execution_count": 14,
   "id": "0997782f",
   "metadata": {
    "execution": {
     "iopub.execute_input": "2025-08-19T19:06:23.459807Z",
     "iopub.status.busy": "2025-08-19T19:06:23.458470Z",
     "iopub.status.idle": "2025-08-19T19:06:23.760851Z",
     "shell.execute_reply": "2025-08-19T19:06:23.759660Z"
    },
    "papermill": {
     "duration": 0.318372,
     "end_time": "2025-08-19T19:06:23.763669",
     "exception": false,
     "start_time": "2025-08-19T19:06:23.445297",
     "status": "completed"
    },
    "tags": []
   },
   "outputs": [],
   "source": [
    "#siab_train = siab_s[siab_s.year < 2015]\n",
    "siab_calib = siab[siab.year == 2015]\n",
    "siab_test = siab[siab.year == 2016]"
   ]
  },
  {
   "cell_type": "code",
   "execution_count": 15,
   "id": "2c1e4012",
   "metadata": {
    "execution": {
     "iopub.execute_input": "2025-08-19T19:06:23.802285Z",
     "iopub.status.busy": "2025-08-19T19:06:23.800942Z",
     "iopub.status.idle": "2025-08-19T19:06:23.810261Z",
     "shell.execute_reply": "2025-08-19T19:06:23.808753Z"
    },
    "papermill": {
     "duration": 0.025281,
     "end_time": "2025-08-19T19:06:23.811643",
     "exception": false,
     "start_time": "2025-08-19T19:06:23.786362",
     "status": "completed"
    },
    "tags": []
   },
   "outputs": [],
   "source": [
    "#siab_calib.shape"
   ]
  },
  {
   "cell_type": "code",
   "execution_count": 16,
   "id": "f66b54ca",
   "metadata": {
    "execution": {
     "iopub.execute_input": "2025-08-19T19:06:23.837998Z",
     "iopub.status.busy": "2025-08-19T19:06:23.836873Z",
     "iopub.status.idle": "2025-08-19T19:06:23.845078Z",
     "shell.execute_reply": "2025-08-19T19:06:23.843412Z"
    },
    "papermill": {
     "duration": 0.021568,
     "end_time": "2025-08-19T19:06:23.846674",
     "exception": false,
     "start_time": "2025-08-19T19:06:23.825106",
     "status": "completed"
    },
    "tags": []
   },
   "outputs": [],
   "source": [
    "#siab_test.shape"
   ]
  },
  {
   "cell_type": "code",
   "execution_count": 17,
   "id": "27e4384d",
   "metadata": {
    "execution": {
     "iopub.execute_input": "2025-08-19T19:06:23.873684Z",
     "iopub.status.busy": "2025-08-19T19:06:23.872532Z",
     "iopub.status.idle": "2025-08-19T19:06:23.884724Z",
     "shell.execute_reply": "2025-08-19T19:06:23.883005Z"
    },
    "papermill": {
     "duration": 0.026322,
     "end_time": "2025-08-19T19:06:23.886412",
     "exception": false,
     "start_time": "2025-08-19T19:06:23.860090",
     "status": "completed"
    },
    "tags": []
   },
   "outputs": [],
   "source": [
    "X_train = siab_train.iloc[:,4:164]\n",
    "y_train = siab_train.iloc[:, [3]]"
   ]
  },
  {
   "cell_type": "code",
   "execution_count": 18,
   "id": "08ee8389",
   "metadata": {
    "execution": {
     "iopub.execute_input": "2025-08-19T19:06:23.914428Z",
     "iopub.status.busy": "2025-08-19T19:06:23.913277Z",
     "iopub.status.idle": "2025-08-19T19:06:23.974128Z",
     "shell.execute_reply": "2025-08-19T19:06:23.973344Z"
    },
    "papermill": {
     "duration": 0.076456,
     "end_time": "2025-08-19T19:06:23.977193",
     "exception": false,
     "start_time": "2025-08-19T19:06:23.900737",
     "status": "completed"
    },
    "tags": []
   },
   "outputs": [],
   "source": [
    "X_calib = siab_calib.iloc[:,4:164]\n",
    "y_calib = siab_calib.iloc[:, [3]]"
   ]
  },
  {
   "cell_type": "code",
   "execution_count": 19,
   "id": "b7ff42e0",
   "metadata": {
    "execution": {
     "iopub.execute_input": "2025-08-19T19:06:24.015389Z",
     "iopub.status.busy": "2025-08-19T19:06:24.014328Z",
     "iopub.status.idle": "2025-08-19T19:06:24.078802Z",
     "shell.execute_reply": "2025-08-19T19:06:24.076163Z"
    },
    "papermill": {
     "duration": 0.079971,
     "end_time": "2025-08-19T19:06:24.080518",
     "exception": false,
     "start_time": "2025-08-19T19:06:24.000547",
     "status": "completed"
    },
    "tags": []
   },
   "outputs": [],
   "source": [
    "X_test = siab_test.iloc[:,4:164]\n",
    "y_true = siab_test.iloc[:, [3]]"
   ]
  },
  {
   "cell_type": "code",
   "execution_count": 20,
   "id": "0275101e",
   "metadata": {
    "execution": {
     "iopub.execute_input": "2025-08-19T19:06:24.125322Z",
     "iopub.status.busy": "2025-08-19T19:06:24.124155Z",
     "iopub.status.idle": "2025-08-19T19:06:24.252927Z",
     "shell.execute_reply": "2025-08-19T19:06:24.252192Z"
    },
    "papermill": {
     "duration": 0.156831,
     "end_time": "2025-08-19T19:06:24.254333",
     "exception": false,
     "start_time": "2025-08-19T19:06:24.097502",
     "status": "completed"
    },
    "tags": []
   },
   "outputs": [],
   "source": [
    "# Auxiliary data needed downstream in the pipeline\n",
    "\n",
    "org_train = X_train.copy()\n",
    "org_test = X_test.copy()\n",
    "org_calib = X_calib.copy()"
   ]
  },
  {
   "cell_type": "markdown",
   "id": "b461e618",
   "metadata": {
    "papermill": {
     "duration": 0.010482,
     "end_time": "2025-08-19T19:06:24.275823",
     "exception": false,
     "start_time": "2025-08-19T19:06:24.265341",
     "status": "completed"
    },
    "tags": []
   },
   "source": [
    "# Preprocessing Data"
   ]
  },
  {
   "cell_type": "code",
   "execution_count": 21,
   "id": "78e74c4b",
   "metadata": {
    "execution": {
     "iopub.execute_input": "2025-08-19T19:06:24.299356Z",
     "iopub.status.busy": "2025-08-19T19:06:24.298209Z",
     "iopub.status.idle": "2025-08-19T19:06:24.308558Z",
     "shell.execute_reply": "2025-08-19T19:06:24.306826Z"
    },
    "papermill": {
     "duration": 0.023998,
     "end_time": "2025-08-19T19:06:24.310190",
     "exception": false,
     "start_time": "2025-08-19T19:06:24.286192",
     "status": "completed"
    },
    "tags": []
   },
   "outputs": [],
   "source": [
    "# EXCLUDE PROTECTED FEATURES\n",
    "# --------------------------\n",
    "\n",
    "excluded_features = universe[\"exclude_features\"].split(\"-\")\n",
    "excluded_features_dictionary = {\n",
    "    \"nationality\": [\"maxdeutsch1\", \"maxdeutsch.Missing.\"],\n",
    "    \"sex\": [\"frau1\"],\n",
    "    \"age\": [\"age\"],\n",
    "}"
   ]
  },
  {
   "cell_type": "code",
   "execution_count": 22,
   "id": "f8e63555",
   "metadata": {
    "execution": {
     "iopub.execute_input": "2025-08-19T19:06:24.337661Z",
     "iopub.status.busy": "2025-08-19T19:06:24.336530Z",
     "iopub.status.idle": "2025-08-19T19:06:24.346146Z",
     "shell.execute_reply": "2025-08-19T19:06:24.344545Z"
    },
    "papermill": {
     "duration": 0.023806,
     "end_time": "2025-08-19T19:06:24.347555",
     "exception": false,
     "start_time": "2025-08-19T19:06:24.323749",
     "status": "completed"
    },
    "tags": []
   },
   "outputs": [],
   "source": [
    "excluded_features_columns = [\n",
    "    excluded_features_dictionary[f] for f in excluded_features if len(f) > 0 and f != \"none\"\n",
    "]"
   ]
  },
  {
   "cell_type": "code",
   "execution_count": 23,
   "id": "da781f7c",
   "metadata": {
    "execution": {
     "iopub.execute_input": "2025-08-19T19:06:24.374626Z",
     "iopub.status.busy": "2025-08-19T19:06:24.373452Z",
     "iopub.status.idle": "2025-08-19T19:06:24.382343Z",
     "shell.execute_reply": "2025-08-19T19:06:24.380714Z"
    },
    "papermill": {
     "duration": 0.022604,
     "end_time": "2025-08-19T19:06:24.383837",
     "exception": false,
     "start_time": "2025-08-19T19:06:24.361233",
     "status": "completed"
    },
    "tags": []
   },
   "outputs": [],
   "source": [
    "from fairness_multiverse.universe import flatten_once\n",
    "\n",
    "excluded_features_columns = flatten_once(excluded_features_columns)"
   ]
  },
  {
   "cell_type": "code",
   "execution_count": 24,
   "id": "37fef0f0",
   "metadata": {
    "execution": {
     "iopub.execute_input": "2025-08-19T19:06:24.411663Z",
     "iopub.status.busy": "2025-08-19T19:06:24.410538Z",
     "iopub.status.idle": "2025-08-19T19:06:24.426021Z",
     "shell.execute_reply": "2025-08-19T19:06:24.424949Z"
    },
    "papermill": {
     "duration": 0.029476,
     "end_time": "2025-08-19T19:06:24.427479",
     "exception": false,
     "start_time": "2025-08-19T19:06:24.398003",
     "status": "completed"
    },
    "tags": []
   },
   "outputs": [
    {
     "name": "stdout",
     "output_type": "stream",
     "text": [
      "Dropping features: ['maxdeutsch1', 'maxdeutsch.Missing.']\n"
     ]
    }
   ],
   "source": [
    "if len(excluded_features_columns) > 0:\n",
    "    print(f\"Dropping features: {excluded_features_columns}\")\n",
    "    X_train.drop(excluded_features_columns, axis=1, inplace=True)"
   ]
  },
  {
   "cell_type": "code",
   "execution_count": 25,
   "id": "d029e3e9",
   "metadata": {
    "execution": {
     "iopub.execute_input": "2025-08-19T19:06:24.460369Z",
     "iopub.status.busy": "2025-08-19T19:06:24.458321Z",
     "iopub.status.idle": "2025-08-19T19:06:24.525238Z",
     "shell.execute_reply": "2025-08-19T19:06:24.524526Z"
    },
    "papermill": {
     "duration": 0.083353,
     "end_time": "2025-08-19T19:06:24.527633",
     "exception": false,
     "start_time": "2025-08-19T19:06:24.444280",
     "status": "completed"
    },
    "tags": []
   },
   "outputs": [
    {
     "name": "stdout",
     "output_type": "stream",
     "text": [
      "Dropping features: ['maxdeutsch1', 'maxdeutsch.Missing.']\n"
     ]
    }
   ],
   "source": [
    "if len(excluded_features_columns) > 0:\n",
    "    print(f\"Dropping features: {excluded_features_columns}\")\n",
    "    X_test.drop(excluded_features_columns, axis=1, inplace=True)"
   ]
  },
  {
   "cell_type": "code",
   "execution_count": 26,
   "id": "01d571f0",
   "metadata": {
    "execution": {
     "iopub.execute_input": "2025-08-19T19:06:24.568792Z",
     "iopub.status.busy": "2025-08-19T19:06:24.567594Z",
     "iopub.status.idle": "2025-08-19T19:06:24.622528Z",
     "shell.execute_reply": "2025-08-19T19:06:24.621906Z"
    },
    "papermill": {
     "duration": 0.071928,
     "end_time": "2025-08-19T19:06:24.624796",
     "exception": false,
     "start_time": "2025-08-19T19:06:24.552868",
     "status": "completed"
    },
    "tags": []
   },
   "outputs": [
    {
     "name": "stdout",
     "output_type": "stream",
     "text": [
      "Dropping features: ['maxdeutsch1', 'maxdeutsch.Missing.']\n"
     ]
    }
   ],
   "source": [
    "if len(excluded_features_columns) > 0:\n",
    "    print(f\"Dropping features: {excluded_features_columns}\")\n",
    "    X_calib.drop(excluded_features_columns, axis=1, inplace=True)"
   ]
  },
  {
   "cell_type": "code",
   "execution_count": 27,
   "id": "3037356e",
   "metadata": {
    "execution": {
     "iopub.execute_input": "2025-08-19T19:06:24.663632Z",
     "iopub.status.busy": "2025-08-19T19:06:24.662176Z",
     "iopub.status.idle": "2025-08-19T19:06:24.670792Z",
     "shell.execute_reply": "2025-08-19T19:06:24.669177Z"
    },
    "papermill": {
     "duration": 0.024038,
     "end_time": "2025-08-19T19:06:24.672315",
     "exception": false,
     "start_time": "2025-08-19T19:06:24.648277",
     "status": "completed"
    },
    "tags": []
   },
   "outputs": [],
   "source": [
    "# EXCLUDE CERTAIN SUBGROUPS\n",
    "# -------------------------\n",
    "\n",
    "mode = universe.get(\"exclude_subgroups\", \"keep-all\") # Defaults to \"keep-all\" if the key is missing."
   ]
  },
  {
   "cell_type": "code",
   "execution_count": 28,
   "id": "9d1e63fd",
   "metadata": {
    "execution": {
     "iopub.execute_input": "2025-08-19T19:06:24.699519Z",
     "iopub.status.busy": "2025-08-19T19:06:24.698408Z",
     "iopub.status.idle": "2025-08-19T19:06:24.709787Z",
     "shell.execute_reply": "2025-08-19T19:06:24.708341Z"
    },
    "papermill": {
     "duration": 0.025173,
     "end_time": "2025-08-19T19:06:24.711098",
     "exception": false,
     "start_time": "2025-08-19T19:06:24.685925",
     "status": "completed"
    },
    "tags": []
   },
   "outputs": [],
   "source": [
    "if mode == \"keep-all\":\n",
    "    keep_mask = pd.Series(True, index=org_train.index)\n",
    "\n",
    "elif mode == \"drop-non-german\":\n",
    "    keep_mask = (org_train[\"maxdeutsch1\"] == 1) & (org_train[\"maxdeutsch.Missing.\"] == 0)\n",
    "\n",
    "else:\n",
    "    raise ValueError(f\"Unsupported mode for exclude_subgroups: {mode}\")"
   ]
  },
  {
   "cell_type": "code",
   "execution_count": 29,
   "id": "d3b65474",
   "metadata": {
    "execution": {
     "iopub.execute_input": "2025-08-19T19:06:24.737697Z",
     "iopub.status.busy": "2025-08-19T19:06:24.736647Z",
     "iopub.status.idle": "2025-08-19T19:06:24.742386Z",
     "shell.execute_reply": "2025-08-19T19:06:24.741678Z"
    },
    "papermill": {
     "duration": 0.018755,
     "end_time": "2025-08-19T19:06:24.743422",
     "exception": false,
     "start_time": "2025-08-19T19:06:24.724667",
     "status": "completed"
    },
    "tags": []
   },
   "outputs": [],
   "source": [
    "n_drop = (~keep_mask).sum() # Calculates how many rows are set to be dropped\n",
    "if n_drop > 0:\n",
    "    pct = n_drop / len(keep_mask) * 100\n",
    "    print(f\"Dropping {n_drop} rows ({pct:.2f}%) where mode='{mode}'\")"
   ]
  },
  {
   "cell_type": "code",
   "execution_count": 30,
   "id": "f44389b3",
   "metadata": {
    "execution": {
     "iopub.execute_input": "2025-08-19T19:06:24.767858Z",
     "iopub.status.busy": "2025-08-19T19:06:24.767233Z",
     "iopub.status.idle": "2025-08-19T19:06:24.774609Z",
     "shell.execute_reply": "2025-08-19T19:06:24.773808Z"
    },
    "papermill": {
     "duration": 0.020421,
     "end_time": "2025-08-19T19:06:24.775684",
     "exception": false,
     "start_time": "2025-08-19T19:06:24.755263",
     "status": "completed"
    },
    "tags": []
   },
   "outputs": [],
   "source": [
    "X_train = X_train[keep_mask]"
   ]
  },
  {
   "cell_type": "code",
   "execution_count": 31,
   "id": "ceca8c2a",
   "metadata": {
    "execution": {
     "iopub.execute_input": "2025-08-19T19:06:24.799615Z",
     "iopub.status.busy": "2025-08-19T19:06:24.799304Z",
     "iopub.status.idle": "2025-08-19T19:06:24.805877Z",
     "shell.execute_reply": "2025-08-19T19:06:24.805252Z"
    },
    "papermill": {
     "duration": 0.019612,
     "end_time": "2025-08-19T19:06:24.806923",
     "exception": false,
     "start_time": "2025-08-19T19:06:24.787311",
     "status": "completed"
    },
    "tags": []
   },
   "outputs": [],
   "source": [
    "y_train = y_train[keep_mask]"
   ]
  },
  {
   "cell_type": "markdown",
   "id": "04d31e2f",
   "metadata": {
    "papermill": {
     "duration": 0.011602,
     "end_time": "2025-08-19T19:06:24.829871",
     "exception": false,
     "start_time": "2025-08-19T19:06:24.818269",
     "status": "completed"
    },
    "tags": []
   },
   "source": [
    "# Model Training"
   ]
  },
  {
   "cell_type": "code",
   "execution_count": 32,
   "id": "db991733",
   "metadata": {
    "execution": {
     "iopub.execute_input": "2025-08-19T19:06:24.854788Z",
     "iopub.status.busy": "2025-08-19T19:06:24.853678Z",
     "iopub.status.idle": "2025-08-19T19:06:24.959446Z",
     "shell.execute_reply": "2025-08-19T19:06:24.958769Z"
    },
    "papermill": {
     "duration": 0.120131,
     "end_time": "2025-08-19T19:06:24.960992",
     "exception": false,
     "start_time": "2025-08-19T19:06:24.840861",
     "status": "completed"
    },
    "tags": []
   },
   "outputs": [],
   "source": [
    "from sklearn.linear_model import LogisticRegression\n",
    "from sklearn.ensemble import GradientBoostingClassifier, RandomForestClassifier\n",
    "\n",
    "if (universe[\"model\"] == \"logreg\"):\n",
    "    model = LogisticRegression() #penalty=\"none\", solver=\"newton-cg\", max_iter=1)\n",
    "elif (universe[\"model\"] == \"penalized_logreg\"):\n",
    "    model = LogisticRegression(penalty=\"l2\", C=0.1) #, solver=\"newton-cg\", max_iter=1)\n",
    "elif (universe[\"model\"] == \"rf\"):\n",
    "    model = RandomForestClassifier() # n_estimators=100, n_jobs=-1\n",
    "elif (universe[\"model\"] == \"gbm\"):\n",
    "    model = GradientBoostingClassifier()\n",
    "elif (universe[\"model\"] == \"elasticnet\"):\n",
    "    model = LogisticRegression(penalty = 'elasticnet', solver = 'saga', l1_ratio = 0.5) # max_iter=5000\n",
    "else:\n",
    "    raise \"Unsupported universe.model\""
   ]
  },
  {
   "cell_type": "code",
   "execution_count": 33,
   "id": "a4b5cd25",
   "metadata": {
    "execution": {
     "iopub.execute_input": "2025-08-19T19:06:24.987605Z",
     "iopub.status.busy": "2025-08-19T19:06:24.987095Z",
     "iopub.status.idle": "2025-08-19T19:06:24.992746Z",
     "shell.execute_reply": "2025-08-19T19:06:24.992085Z"
    },
    "papermill": {
     "duration": 0.019025,
     "end_time": "2025-08-19T19:06:24.993731",
     "exception": false,
     "start_time": "2025-08-19T19:06:24.974706",
     "status": "completed"
    },
    "tags": []
   },
   "outputs": [],
   "source": [
    "from sklearn.pipeline import Pipeline\n",
    "from sklearn.preprocessing import StandardScaler\n",
    "\n",
    "model = Pipeline([\n",
    "    #(\"continuous_processor\", continuous_processor),\n",
    "    #(\"categorical_preprocessor\", categorical_preprocessor),\n",
    "    (\"scale\", StandardScaler() if universe[\"scale\"] == \"scale\" else None), \n",
    "    (\"model\", model),\n",
    "])"
   ]
  },
  {
   "cell_type": "code",
   "execution_count": 34,
   "id": "283a904d",
   "metadata": {
    "execution": {
     "iopub.execute_input": "2025-08-19T19:06:25.019215Z",
     "iopub.status.busy": "2025-08-19T19:06:25.018727Z",
     "iopub.status.idle": "2025-08-19T19:06:25.348992Z",
     "shell.execute_reply": "2025-08-19T19:06:25.347687Z"
    },
    "papermill": {
     "duration": 0.345483,
     "end_time": "2025-08-19T19:06:25.352033",
     "exception": false,
     "start_time": "2025-08-19T19:06:25.006550",
     "status": "completed"
    },
    "tags": []
   },
   "outputs": [
    {
     "data": {
      "text/html": [
       "<style>#sk-container-id-1 {color: black;background-color: white;}#sk-container-id-1 pre{padding: 0;}#sk-container-id-1 div.sk-toggleable {background-color: white;}#sk-container-id-1 label.sk-toggleable__label {cursor: pointer;display: block;width: 100%;margin-bottom: 0;padding: 0.3em;box-sizing: border-box;text-align: center;}#sk-container-id-1 label.sk-toggleable__label-arrow:before {content: \"▸\";float: left;margin-right: 0.25em;color: #696969;}#sk-container-id-1 label.sk-toggleable__label-arrow:hover:before {color: black;}#sk-container-id-1 div.sk-estimator:hover label.sk-toggleable__label-arrow:before {color: black;}#sk-container-id-1 div.sk-toggleable__content {max-height: 0;max-width: 0;overflow: hidden;text-align: left;background-color: #f0f8ff;}#sk-container-id-1 div.sk-toggleable__content pre {margin: 0.2em;color: black;border-radius: 0.25em;background-color: #f0f8ff;}#sk-container-id-1 input.sk-toggleable__control:checked~div.sk-toggleable__content {max-height: 200px;max-width: 100%;overflow: auto;}#sk-container-id-1 input.sk-toggleable__control:checked~label.sk-toggleable__label-arrow:before {content: \"▾\";}#sk-container-id-1 div.sk-estimator input.sk-toggleable__control:checked~label.sk-toggleable__label {background-color: #d4ebff;}#sk-container-id-1 div.sk-label input.sk-toggleable__control:checked~label.sk-toggleable__label {background-color: #d4ebff;}#sk-container-id-1 input.sk-hidden--visually {border: 0;clip: rect(1px 1px 1px 1px);clip: rect(1px, 1px, 1px, 1px);height: 1px;margin: -1px;overflow: hidden;padding: 0;position: absolute;width: 1px;}#sk-container-id-1 div.sk-estimator {font-family: monospace;background-color: #f0f8ff;border: 1px dotted black;border-radius: 0.25em;box-sizing: border-box;margin-bottom: 0.5em;}#sk-container-id-1 div.sk-estimator:hover {background-color: #d4ebff;}#sk-container-id-1 div.sk-parallel-item::after {content: \"\";width: 100%;border-bottom: 1px solid gray;flex-grow: 1;}#sk-container-id-1 div.sk-label:hover label.sk-toggleable__label {background-color: #d4ebff;}#sk-container-id-1 div.sk-serial::before {content: \"\";position: absolute;border-left: 1px solid gray;box-sizing: border-box;top: 0;bottom: 0;left: 50%;z-index: 0;}#sk-container-id-1 div.sk-serial {display: flex;flex-direction: column;align-items: center;background-color: white;padding-right: 0.2em;padding-left: 0.2em;position: relative;}#sk-container-id-1 div.sk-item {position: relative;z-index: 1;}#sk-container-id-1 div.sk-parallel {display: flex;align-items: stretch;justify-content: center;background-color: white;position: relative;}#sk-container-id-1 div.sk-item::before, #sk-container-id-1 div.sk-parallel-item::before {content: \"\";position: absolute;border-left: 1px solid gray;box-sizing: border-box;top: 0;bottom: 0;left: 50%;z-index: -1;}#sk-container-id-1 div.sk-parallel-item {display: flex;flex-direction: column;z-index: 1;position: relative;background-color: white;}#sk-container-id-1 div.sk-parallel-item:first-child::after {align-self: flex-end;width: 50%;}#sk-container-id-1 div.sk-parallel-item:last-child::after {align-self: flex-start;width: 50%;}#sk-container-id-1 div.sk-parallel-item:only-child::after {width: 0;}#sk-container-id-1 div.sk-dashed-wrapped {border: 1px dashed gray;margin: 0 0.4em 0.5em 0.4em;box-sizing: border-box;padding-bottom: 0.4em;background-color: white;}#sk-container-id-1 div.sk-label label {font-family: monospace;font-weight: bold;display: inline-block;line-height: 1.2em;}#sk-container-id-1 div.sk-label-container {text-align: center;}#sk-container-id-1 div.sk-container {/* jupyter's `normalize.less` sets `[hidden] { display: none; }` but bootstrap.min.css set `[hidden] { display: none !important; }` so we also need the `!important` here to be able to override the default hidden behavior on the sphinx rendered scikit-learn.org. See: https://github.com/scikit-learn/scikit-learn/issues/21755 */display: inline-block !important;position: relative;}#sk-container-id-1 div.sk-text-repr-fallback {display: none;}</style><div id=\"sk-container-id-1\" class=\"sk-top-container\"><div class=\"sk-text-repr-fallback\"><pre>Pipeline(steps=[(&#x27;scale&#x27;, StandardScaler()),\n",
       "                (&#x27;model&#x27;, RandomForestClassifier())])</pre><b>In a Jupyter environment, please rerun this cell to show the HTML representation or trust the notebook. <br />On GitHub, the HTML representation is unable to render, please try loading this page with nbviewer.org.</b></div><div class=\"sk-container\" hidden><div class=\"sk-item sk-dashed-wrapped\"><div class=\"sk-label-container\"><div class=\"sk-label sk-toggleable\"><input class=\"sk-toggleable__control sk-hidden--visually\" id=\"sk-estimator-id-1\" type=\"checkbox\" ><label for=\"sk-estimator-id-1\" class=\"sk-toggleable__label sk-toggleable__label-arrow\">Pipeline</label><div class=\"sk-toggleable__content\"><pre>Pipeline(steps=[(&#x27;scale&#x27;, StandardScaler()),\n",
       "                (&#x27;model&#x27;, RandomForestClassifier())])</pre></div></div></div><div class=\"sk-serial\"><div class=\"sk-item\"><div class=\"sk-estimator sk-toggleable\"><input class=\"sk-toggleable__control sk-hidden--visually\" id=\"sk-estimator-id-2\" type=\"checkbox\" ><label for=\"sk-estimator-id-2\" class=\"sk-toggleable__label sk-toggleable__label-arrow\">StandardScaler</label><div class=\"sk-toggleable__content\"><pre>StandardScaler()</pre></div></div></div><div class=\"sk-item\"><div class=\"sk-estimator sk-toggleable\"><input class=\"sk-toggleable__control sk-hidden--visually\" id=\"sk-estimator-id-3\" type=\"checkbox\" ><label for=\"sk-estimator-id-3\" class=\"sk-toggleable__label sk-toggleable__label-arrow\">RandomForestClassifier</label><div class=\"sk-toggleable__content\"><pre>RandomForestClassifier()</pre></div></div></div></div></div></div></div>"
      ],
      "text/plain": [
       "Pipeline(steps=[('scale', StandardScaler()),\n",
       "                ('model', RandomForestClassifier())])"
      ]
     },
     "execution_count": 34,
     "metadata": {},
     "output_type": "execute_result"
    }
   ],
   "source": [
    "model.fit(X_train, y_train.values.ravel())"
   ]
  },
  {
   "cell_type": "code",
   "execution_count": 35,
   "id": "6e15e313",
   "metadata": {
    "execution": {
     "iopub.execute_input": "2025-08-19T19:06:25.389791Z",
     "iopub.status.busy": "2025-08-19T19:06:25.388710Z",
     "iopub.status.idle": "2025-08-19T19:06:26.863595Z",
     "shell.execute_reply": "2025-08-19T19:06:26.862627Z"
    },
    "papermill": {
     "duration": 1.491413,
     "end_time": "2025-08-19T19:06:26.865946",
     "exception": false,
     "start_time": "2025-08-19T19:06:25.374533",
     "status": "completed"
    },
    "tags": []
   },
   "outputs": [
    {
     "data": {
      "text/plain": [
       "0.8621781295284806"
      ]
     },
     "execution_count": 35,
     "metadata": {},
     "output_type": "execute_result"
    }
   ],
   "source": [
    "from fairness_multiverse.universe import predict_w_threshold\n",
    "\n",
    "probs_test = model.predict_proba(X_test)\n",
    "\n",
    "'''\n",
    "Below code returns a boolean array (or binary 0/1 array depending on how it’s used) where each element \n",
    "is True if the probability of class 1 is greater than or equal to the threshold, and False otherwise.\n",
    "'''\n",
    "y_pred_default = predict_w_threshold(probs_test, 0.5)\n",
    "\n",
    "from sklearn.metrics import accuracy_score\n",
    "\n",
    "# Naive prediction\n",
    "accuracy_score(y_true = y_true, y_pred = y_pred_default)"
   ]
  },
  {
   "cell_type": "code",
   "execution_count": 36,
   "id": "6f14067c",
   "metadata": {
    "execution": {
     "iopub.execute_input": "2025-08-19T19:06:26.904641Z",
     "iopub.status.busy": "2025-08-19T19:06:26.904009Z",
     "iopub.status.idle": "2025-08-19T19:06:28.346156Z",
     "shell.execute_reply": "2025-08-19T19:06:28.345031Z"
    },
    "papermill": {
     "duration": 1.457347,
     "end_time": "2025-08-19T19:06:28.347436",
     "exception": false,
     "start_time": "2025-08-19T19:06:26.890089",
     "status": "completed"
    },
    "tags": []
   },
   "outputs": [
    {
     "data": {
      "text/plain": [
       "array([0, 0, 0, ..., 0, 0, 0])"
      ]
     },
     "execution_count": 36,
     "metadata": {},
     "output_type": "execute_result"
    }
   ],
   "source": [
    "model.predict(X_test)"
   ]
  },
  {
   "cell_type": "markdown",
   "id": "3759920c",
   "metadata": {
    "papermill": {
     "duration": 0.01137,
     "end_time": "2025-08-19T19:06:28.370817",
     "exception": false,
     "start_time": "2025-08-19T19:06:28.359447",
     "status": "completed"
    },
    "tags": []
   },
   "source": [
    "# Conformal Prediction"
   ]
  },
  {
   "cell_type": "code",
   "execution_count": 37,
   "id": "14b27f59",
   "metadata": {
    "execution": {
     "iopub.execute_input": "2025-08-19T19:06:28.395450Z",
     "iopub.status.busy": "2025-08-19T19:06:28.394875Z",
     "iopub.status.idle": "2025-08-19T19:06:28.399755Z",
     "shell.execute_reply": "2025-08-19T19:06:28.399159Z"
    },
    "papermill": {
     "duration": 0.018713,
     "end_time": "2025-08-19T19:06:28.400950",
     "exception": false,
     "start_time": "2025-08-19T19:06:28.382237",
     "status": "completed"
    },
    "tags": []
   },
   "outputs": [],
   "source": [
    "# Miscoverage level for conformal prediction (10% allowed error rate => 90% target coverage)\n",
    "alpha = 0.1"
   ]
  },
  {
   "cell_type": "code",
   "execution_count": 38,
   "id": "59102472",
   "metadata": {
    "execution": {
     "iopub.execute_input": "2025-08-19T19:06:28.426969Z",
     "iopub.status.busy": "2025-08-19T19:06:28.425720Z",
     "iopub.status.idle": "2025-08-19T19:06:29.822154Z",
     "shell.execute_reply": "2025-08-19T19:06:29.820838Z"
    },
    "papermill": {
     "duration": 1.411763,
     "end_time": "2025-08-19T19:06:29.825046",
     "exception": false,
     "start_time": "2025-08-19T19:06:28.413283",
     "status": "completed"
    },
    "tags": []
   },
   "outputs": [],
   "source": [
    "probs_calib = model.predict_proba(X_calib)"
   ]
  },
  {
   "cell_type": "code",
   "execution_count": 39,
   "id": "a792d4dd",
   "metadata": {
    "execution": {
     "iopub.execute_input": "2025-08-19T19:06:29.867669Z",
     "iopub.status.busy": "2025-08-19T19:06:29.866252Z",
     "iopub.status.idle": "2025-08-19T19:06:29.879695Z",
     "shell.execute_reply": "2025-08-19T19:06:29.877992Z"
    },
    "papermill": {
     "duration": 0.03113,
     "end_time": "2025-08-19T19:06:29.881437",
     "exception": false,
     "start_time": "2025-08-19T19:06:29.850307",
     "status": "completed"
    },
    "tags": []
   },
   "outputs": [],
   "source": [
    "y_calib = y_calib.values.ravel().astype(int)"
   ]
  },
  {
   "cell_type": "code",
   "execution_count": 40,
   "id": "650fd033",
   "metadata": {
    "execution": {
     "iopub.execute_input": "2025-08-19T19:06:29.914136Z",
     "iopub.status.busy": "2025-08-19T19:06:29.912944Z",
     "iopub.status.idle": "2025-08-19T19:06:29.926661Z",
     "shell.execute_reply": "2025-08-19T19:06:29.925273Z"
    },
    "papermill": {
     "duration": 0.029721,
     "end_time": "2025-08-19T19:06:29.928397",
     "exception": false,
     "start_time": "2025-08-19T19:06:29.898676",
     "status": "completed"
    },
    "tags": []
   },
   "outputs": [],
   "source": [
    "from fairness_multiverse.conformal import compute_nc_scores\n",
    "\n",
    "# Compute nonconformity scores on calibration set (1 - probability of true class)\n",
    "nc_scores = compute_nc_scores(probs_calib, y_calib)"
   ]
  },
  {
   "cell_type": "code",
   "execution_count": 41,
   "id": "28ada44c",
   "metadata": {
    "execution": {
     "iopub.execute_input": "2025-08-19T19:06:29.957458Z",
     "iopub.status.busy": "2025-08-19T19:06:29.956167Z",
     "iopub.status.idle": "2025-08-19T19:06:29.968903Z",
     "shell.execute_reply": "2025-08-19T19:06:29.967114Z"
    },
    "papermill": {
     "duration": 0.027946,
     "end_time": "2025-08-19T19:06:29.970596",
     "exception": false,
     "start_time": "2025-08-19T19:06:29.942650",
     "status": "completed"
    },
    "tags": []
   },
   "outputs": [],
   "source": [
    "from fairness_multiverse.conformal import find_threshold\n",
    "\n",
    "# Find conformal threshold q_hat for the given alpha (split conformal method)\n",
    "q_hat = find_threshold(nc_scores, alpha)"
   ]
  },
  {
   "cell_type": "code",
   "execution_count": 42,
   "id": "df56469e",
   "metadata": {
    "execution": {
     "iopub.execute_input": "2025-08-19T19:06:30.000791Z",
     "iopub.status.busy": "2025-08-19T19:06:29.999580Z",
     "iopub.status.idle": "2025-08-19T19:06:30.012282Z",
     "shell.execute_reply": "2025-08-19T19:06:30.011153Z"
    },
    "papermill": {
     "duration": 0.028268,
     "end_time": "2025-08-19T19:06:30.013835",
     "exception": false,
     "start_time": "2025-08-19T19:06:29.985567",
     "status": "completed"
    },
    "tags": []
   },
   "outputs": [
    {
     "data": {
      "text/plain": [
       "0.65"
      ]
     },
     "execution_count": 42,
     "metadata": {},
     "output_type": "execute_result"
    }
   ],
   "source": [
    "q_hat"
   ]
  },
  {
   "cell_type": "code",
   "execution_count": 43,
   "id": "aa1f5faa",
   "metadata": {
    "execution": {
     "iopub.execute_input": "2025-08-19T19:06:30.046078Z",
     "iopub.status.busy": "2025-08-19T19:06:30.044086Z",
     "iopub.status.idle": "2025-08-19T19:06:32.072176Z",
     "shell.execute_reply": "2025-08-19T19:06:32.071290Z"
    },
    "papermill": {
     "duration": 2.043493,
     "end_time": "2025-08-19T19:06:32.073873",
     "exception": false,
     "start_time": "2025-08-19T19:06:30.030380",
     "status": "completed"
    },
    "tags": []
   },
   "outputs": [],
   "source": [
    "from fairness_multiverse.conformal import predict_conformal_sets\n",
    "\n",
    "# Generate prediction sets for each test example\n",
    "pred_sets = predict_conformal_sets(model, X_test, q_hat)"
   ]
  },
  {
   "cell_type": "code",
   "execution_count": 44,
   "id": "97f67a6b",
   "metadata": {
    "execution": {
     "iopub.execute_input": "2025-08-19T19:06:32.106022Z",
     "iopub.status.busy": "2025-08-19T19:06:32.104356Z",
     "iopub.status.idle": "2025-08-19T19:06:32.113563Z",
     "shell.execute_reply": "2025-08-19T19:06:32.112384Z"
    },
    "papermill": {
     "duration": 0.024367,
     "end_time": "2025-08-19T19:06:32.115038",
     "exception": false,
     "start_time": "2025-08-19T19:06:32.090671",
     "status": "completed"
    },
    "tags": []
   },
   "outputs": [],
   "source": [
    "y_true = y_true.squeeze()"
   ]
  },
  {
   "cell_type": "code",
   "execution_count": 45,
   "id": "e700e9a7",
   "metadata": {
    "execution": {
     "iopub.execute_input": "2025-08-19T19:06:32.147534Z",
     "iopub.status.busy": "2025-08-19T19:06:32.146033Z",
     "iopub.status.idle": "2025-08-19T19:06:32.676366Z",
     "shell.execute_reply": "2025-08-19T19:06:32.675242Z"
    },
    "papermill": {
     "duration": 0.54786,
     "end_time": "2025-08-19T19:06:32.678086",
     "exception": false,
     "start_time": "2025-08-19T19:06:32.130226",
     "status": "completed"
    },
    "tags": []
   },
   "outputs": [],
   "source": [
    "from fairness_multiverse.conformal import evaluate_sets\n",
    "\n",
    "# Evaluate coverage and average set size on test data\n",
    "metrics = evaluate_sets(pred_sets, y_true)"
   ]
  },
  {
   "cell_type": "markdown",
   "id": "efbacec0",
   "metadata": {
    "papermill": {
     "duration": 0.012165,
     "end_time": "2025-08-19T19:06:32.710169",
     "exception": false,
     "start_time": "2025-08-19T19:06:32.698004",
     "status": "completed"
    },
    "tags": []
   },
   "source": [
    "# CP Metrics"
   ]
  },
  {
   "cell_type": "code",
   "execution_count": 46,
   "id": "9de55fb1",
   "metadata": {
    "execution": {
     "iopub.execute_input": "2025-08-19T19:06:32.756928Z",
     "iopub.status.busy": "2025-08-19T19:06:32.756566Z",
     "iopub.status.idle": "2025-08-19T19:06:32.763151Z",
     "shell.execute_reply": "2025-08-19T19:06:32.762554Z"
    },
    "papermill": {
     "duration": 0.05244,
     "end_time": "2025-08-19T19:06:32.774691",
     "exception": false,
     "start_time": "2025-08-19T19:06:32.722251",
     "status": "completed"
    },
    "tags": []
   },
   "outputs": [
    {
     "data": {
      "text/plain": [
       "{'coverage': 0.9129194069780403, 'avg_size': 1.1497268977817412}"
      ]
     },
     "execution_count": 46,
     "metadata": {},
     "output_type": "execute_result"
    }
   ],
   "source": [
    "metrics"
   ]
  },
  {
   "cell_type": "code",
   "execution_count": 47,
   "id": "64c340a1",
   "metadata": {
    "execution": {
     "iopub.execute_input": "2025-08-19T19:06:32.803701Z",
     "iopub.status.busy": "2025-08-19T19:06:32.802642Z",
     "iopub.status.idle": "2025-08-19T19:06:32.813200Z",
     "shell.execute_reply": "2025-08-19T19:06:32.811676Z"
    },
    "papermill": {
     "duration": 0.026333,
     "end_time": "2025-08-19T19:06:32.814819",
     "exception": false,
     "start_time": "2025-08-19T19:06:32.788486",
     "status": "completed"
    },
    "tags": []
   },
   "outputs": [],
   "source": [
    "example_universe = universe.copy()\n",
    "universe_training_year = example_universe.get(\"training_year\")\n",
    "universe_training_size = example_universe.get(\"training_size\")\n",
    "universe_scale = example_universe.get(\"scale\")\n",
    "universe_model = example_universe.get(\"model\")\n",
    "universe_exclude_features = example_universe.get(\"exclude_features\")\n",
    "universe_exclude_subgroups = example_universe.get(\"exclude_subgroups\")"
   ]
  },
  {
   "cell_type": "code",
   "execution_count": 48,
   "id": "dbb53cb4",
   "metadata": {
    "execution": {
     "iopub.execute_input": "2025-08-19T19:06:32.848934Z",
     "iopub.status.busy": "2025-08-19T19:06:32.847303Z",
     "iopub.status.idle": "2025-08-19T19:06:32.858559Z",
     "shell.execute_reply": "2025-08-19T19:06:32.856980Z"
    },
    "papermill": {
     "duration": 0.028181,
     "end_time": "2025-08-19T19:06:32.860256",
     "exception": false,
     "start_time": "2025-08-19T19:06:32.832075",
     "status": "completed"
    },
    "tags": []
   },
   "outputs": [],
   "source": [
    "cp_metrics_dict = {\n",
    "    \"universe_id\": [universe_id],\n",
    "    \"universe_training_year\": [universe_training_year],\n",
    "    \"universe_training_size\": [universe_training_size],\n",
    "    \"universe_scale\": [universe_scale],\n",
    "    \"universe_model\": [universe_model],\n",
    "    \"universe_exclude_features\": [universe_exclude_features],\n",
    "    \"universe_exclude_subgroups\": [universe_exclude_subgroups],\n",
    "    \"q_hat\": [q_hat],\n",
    "    \"coverage\": [metrics[\"coverage\"]],\n",
    "    \"avg_size\": [metrics[\"avg_size\"]],\n",
    "}"
   ]
  },
  {
   "cell_type": "code",
   "execution_count": 49,
   "id": "0d70d4b2",
   "metadata": {
    "execution": {
     "iopub.execute_input": "2025-08-19T19:06:32.890885Z",
     "iopub.status.busy": "2025-08-19T19:06:32.890440Z",
     "iopub.status.idle": "2025-08-19T19:06:32.896878Z",
     "shell.execute_reply": "2025-08-19T19:06:32.896114Z"
    },
    "papermill": {
     "duration": 0.021946,
     "end_time": "2025-08-19T19:06:32.898821",
     "exception": false,
     "start_time": "2025-08-19T19:06:32.876875",
     "status": "completed"
    },
    "tags": []
   },
   "outputs": [],
   "source": [
    "cp_metrics_df = pd.DataFrame(cp_metrics_dict)"
   ]
  },
  {
   "cell_type": "code",
   "execution_count": 50,
   "id": "b494403c",
   "metadata": {
    "execution": {
     "iopub.execute_input": "2025-08-19T19:06:32.925352Z",
     "iopub.status.busy": "2025-08-19T19:06:32.924973Z",
     "iopub.status.idle": "2025-08-19T19:06:32.937458Z",
     "shell.execute_reply": "2025-08-19T19:06:32.936795Z"
    },
    "papermill": {
     "duration": 0.026973,
     "end_time": "2025-08-19T19:06:32.938623",
     "exception": false,
     "start_time": "2025-08-19T19:06:32.911650",
     "status": "completed"
    },
    "tags": []
   },
   "outputs": [
    {
     "data": {
      "text/html": [
       "<div>\n",
       "<style scoped>\n",
       "    .dataframe tbody tr th:only-of-type {\n",
       "        vertical-align: middle;\n",
       "    }\n",
       "\n",
       "    .dataframe tbody tr th {\n",
       "        vertical-align: top;\n",
       "    }\n",
       "\n",
       "    .dataframe thead th {\n",
       "        text-align: right;\n",
       "    }\n",
       "</style>\n",
       "<table border=\"1\" class=\"dataframe\">\n",
       "  <thead>\n",
       "    <tr style=\"text-align: right;\">\n",
       "      <th></th>\n",
       "      <th>universe_id</th>\n",
       "      <th>universe_training_year</th>\n",
       "      <th>universe_training_size</th>\n",
       "      <th>universe_scale</th>\n",
       "      <th>universe_model</th>\n",
       "      <th>universe_exclude_features</th>\n",
       "      <th>universe_exclude_subgroups</th>\n",
       "      <th>q_hat</th>\n",
       "      <th>coverage</th>\n",
       "      <th>avg_size</th>\n",
       "    </tr>\n",
       "  </thead>\n",
       "  <tbody>\n",
       "    <tr>\n",
       "      <th>0</th>\n",
       "      <td>88a1f8deb0ac84cebfc0fdab39b1b919</td>\n",
       "      <td>2010_14</td>\n",
       "      <td>1k</td>\n",
       "      <td>scale</td>\n",
       "      <td>rf</td>\n",
       "      <td>nationality</td>\n",
       "      <td>keep-all</td>\n",
       "      <td>0.65</td>\n",
       "      <td>0.912919</td>\n",
       "      <td>1.149727</td>\n",
       "    </tr>\n",
       "  </tbody>\n",
       "</table>\n",
       "</div>"
      ],
      "text/plain": [
       "                        universe_id universe_training_year  \\\n",
       "0  88a1f8deb0ac84cebfc0fdab39b1b919                2010_14   \n",
       "\n",
       "  universe_training_size universe_scale universe_model  \\\n",
       "0                     1k          scale             rf   \n",
       "\n",
       "  universe_exclude_features universe_exclude_subgroups  q_hat  coverage  \\\n",
       "0               nationality                   keep-all   0.65  0.912919   \n",
       "\n",
       "   avg_size  \n",
       "0  1.149727  "
      ]
     },
     "execution_count": 50,
     "metadata": {},
     "output_type": "execute_result"
    }
   ],
   "source": [
    "cp_metrics_df"
   ]
  },
  {
   "cell_type": "markdown",
   "id": "ed608b0b",
   "metadata": {
    "papermill": {
     "duration": 0.012781,
     "end_time": "2025-08-19T19:06:32.976676",
     "exception": false,
     "start_time": "2025-08-19T19:06:32.963895",
     "status": "completed"
    },
    "tags": []
   },
   "source": [
    "Conditional coverage & looking at subgroups"
   ]
  },
  {
   "cell_type": "code",
   "execution_count": 51,
   "id": "8968c366",
   "metadata": {
    "execution": {
     "iopub.execute_input": "2025-08-19T19:06:33.004367Z",
     "iopub.status.busy": "2025-08-19T19:06:33.003885Z",
     "iopub.status.idle": "2025-08-19T19:06:33.276204Z",
     "shell.execute_reply": "2025-08-19T19:06:33.275408Z"
    },
    "papermill": {
     "duration": 0.288094,
     "end_time": "2025-08-19T19:06:33.277786",
     "exception": false,
     "start_time": "2025-08-19T19:06:32.989692",
     "status": "completed"
    },
    "tags": []
   },
   "outputs": [],
   "source": [
    "from fairness_multiverse.conformal import build_cp_groups\n",
    "\n",
    "cp_groups_df = build_cp_groups(pred_sets, y_true, X_test.index, org_test)"
   ]
  },
  {
   "cell_type": "code",
   "execution_count": 52,
   "id": "292ddabf",
   "metadata": {
    "execution": {
     "iopub.execute_input": "2025-08-19T19:06:33.308616Z",
     "iopub.status.busy": "2025-08-19T19:06:33.307418Z",
     "iopub.status.idle": "2025-08-19T19:06:34.198736Z",
     "shell.execute_reply": "2025-08-19T19:06:34.197509Z"
    },
    "papermill": {
     "duration": 0.906929,
     "end_time": "2025-08-19T19:06:34.200459",
     "exception": false,
     "start_time": "2025-08-19T19:06:33.293530",
     "status": "completed"
    },
    "tags": []
   },
   "outputs": [],
   "source": [
    "# Define covered = 1 if true_label is in the predicted set\n",
    "cp_groups_df['covered'] = cp_groups_df.apply(\n",
    "    lambda r: int(r['true_label'] in r['pred_set']),\n",
    "    axis=1\n",
    ")"
   ]
  },
  {
   "cell_type": "code",
   "execution_count": 53,
   "id": "3a261692",
   "metadata": {
    "execution": {
     "iopub.execute_input": "2025-08-19T19:06:34.250767Z",
     "iopub.status.busy": "2025-08-19T19:06:34.249410Z",
     "iopub.status.idle": "2025-08-19T19:06:34.275247Z",
     "shell.execute_reply": "2025-08-19T19:06:34.273906Z"
    },
    "papermill": {
     "duration": 0.058554,
     "end_time": "2025-08-19T19:06:34.277141",
     "exception": false,
     "start_time": "2025-08-19T19:06:34.218587",
     "status": "completed"
    },
    "tags": []
   },
   "outputs": [],
   "source": [
    "subgroups = ['frau1','nongerman','nongerman_male','nongerman_female']\n",
    "\n",
    "# Conditional coverage for subgroup==1\n",
    "cond_coverage = {\n",
    "    g: cp_groups_df.loc[cp_groups_df[g]==1, 'covered'].mean()\n",
    "    for g in subgroups\n",
    "}"
   ]
  },
  {
   "cell_type": "code",
   "execution_count": 54,
   "id": "894fd600",
   "metadata": {
    "execution": {
     "iopub.execute_input": "2025-08-19T19:06:34.315424Z",
     "iopub.status.busy": "2025-08-19T19:06:34.314241Z",
     "iopub.status.idle": "2025-08-19T19:06:34.324130Z",
     "shell.execute_reply": "2025-08-19T19:06:34.322721Z"
    },
    "papermill": {
     "duration": 0.035688,
     "end_time": "2025-08-19T19:06:34.327596",
     "exception": false,
     "start_time": "2025-08-19T19:06:34.291908",
     "status": "completed"
    },
    "tags": []
   },
   "outputs": [
    {
     "data": {
      "text/plain": [
       "{'frau1': 0.9122792829222267,\n",
       " 'nongerman': 0.9064166619884354,\n",
       " 'nongerman_male': 0.9231739169593803,\n",
       " 'nongerman_female': 0.8786885245901639}"
      ]
     },
     "execution_count": 54,
     "metadata": {},
     "output_type": "execute_result"
    }
   ],
   "source": [
    "cond_coverage"
   ]
  },
  {
   "cell_type": "code",
   "execution_count": 55,
   "id": "942895c7",
   "metadata": {
    "execution": {
     "iopub.execute_input": "2025-08-19T19:06:34.356432Z",
     "iopub.status.busy": "2025-08-19T19:06:34.356069Z",
     "iopub.status.idle": "2025-08-19T19:06:34.362566Z",
     "shell.execute_reply": "2025-08-19T19:06:34.361899Z"
    },
    "papermill": {
     "duration": 0.021122,
     "end_time": "2025-08-19T19:06:34.363948",
     "exception": false,
     "start_time": "2025-08-19T19:06:34.342826",
     "status": "completed"
    },
    "tags": []
   },
   "outputs": [],
   "source": [
    "for subgroup, cov in cond_coverage.items():\n",
    "    cp_metrics_df[f\"cov_{subgroup}\"] = cov"
   ]
  },
  {
   "cell_type": "code",
   "execution_count": 56,
   "id": "3970120f",
   "metadata": {
    "execution": {
     "iopub.execute_input": "2025-08-19T19:06:34.389736Z",
     "iopub.status.busy": "2025-08-19T19:06:34.389461Z",
     "iopub.status.idle": "2025-08-19T19:06:34.408606Z",
     "shell.execute_reply": "2025-08-19T19:06:34.407900Z"
    },
    "papermill": {
     "duration": 0.033718,
     "end_time": "2025-08-19T19:06:34.409931",
     "exception": false,
     "start_time": "2025-08-19T19:06:34.376213",
     "status": "completed"
    },
    "tags": []
   },
   "outputs": [
    {
     "data": {
      "text/html": [
       "<div>\n",
       "<style scoped>\n",
       "    .dataframe tbody tr th:only-of-type {\n",
       "        vertical-align: middle;\n",
       "    }\n",
       "\n",
       "    .dataframe tbody tr th {\n",
       "        vertical-align: top;\n",
       "    }\n",
       "\n",
       "    .dataframe thead th {\n",
       "        text-align: right;\n",
       "    }\n",
       "</style>\n",
       "<table border=\"1\" class=\"dataframe\">\n",
       "  <thead>\n",
       "    <tr style=\"text-align: right;\">\n",
       "      <th></th>\n",
       "      <th>universe_id</th>\n",
       "      <th>universe_training_year</th>\n",
       "      <th>universe_training_size</th>\n",
       "      <th>universe_scale</th>\n",
       "      <th>universe_model</th>\n",
       "      <th>universe_exclude_features</th>\n",
       "      <th>universe_exclude_subgroups</th>\n",
       "      <th>q_hat</th>\n",
       "      <th>coverage</th>\n",
       "      <th>avg_size</th>\n",
       "      <th>cov_frau1</th>\n",
       "      <th>cov_nongerman</th>\n",
       "      <th>cov_nongerman_male</th>\n",
       "      <th>cov_nongerman_female</th>\n",
       "    </tr>\n",
       "  </thead>\n",
       "  <tbody>\n",
       "    <tr>\n",
       "      <th>0</th>\n",
       "      <td>88a1f8deb0ac84cebfc0fdab39b1b919</td>\n",
       "      <td>2010_14</td>\n",
       "      <td>1k</td>\n",
       "      <td>scale</td>\n",
       "      <td>rf</td>\n",
       "      <td>nationality</td>\n",
       "      <td>keep-all</td>\n",
       "      <td>0.65</td>\n",
       "      <td>0.912919</td>\n",
       "      <td>1.149727</td>\n",
       "      <td>0.912279</td>\n",
       "      <td>0.906417</td>\n",
       "      <td>0.923174</td>\n",
       "      <td>0.878689</td>\n",
       "    </tr>\n",
       "  </tbody>\n",
       "</table>\n",
       "</div>"
      ],
      "text/plain": [
       "                        universe_id universe_training_year  \\\n",
       "0  88a1f8deb0ac84cebfc0fdab39b1b919                2010_14   \n",
       "\n",
       "  universe_training_size universe_scale universe_model  \\\n",
       "0                     1k          scale             rf   \n",
       "\n",
       "  universe_exclude_features universe_exclude_subgroups  q_hat  coverage  \\\n",
       "0               nationality                   keep-all   0.65  0.912919   \n",
       "\n",
       "   avg_size  cov_frau1  cov_nongerman  cov_nongerman_male  \\\n",
       "0  1.149727   0.912279       0.906417            0.923174   \n",
       "\n",
       "   cov_nongerman_female  \n",
       "0              0.878689  "
      ]
     },
     "execution_count": 56,
     "metadata": {},
     "output_type": "execute_result"
    }
   ],
   "source": [
    "cp_metrics_df"
   ]
  },
  {
   "cell_type": "markdown",
   "id": "3fc519cc",
   "metadata": {
    "papermill": {
     "duration": 0.012466,
     "end_time": "2025-08-19T19:06:34.435372",
     "exception": false,
     "start_time": "2025-08-19T19:06:34.422906",
     "status": "completed"
    },
    "tags": []
   },
   "source": [
    "# (Fairness) Metrics"
   ]
  },
  {
   "cell_type": "code",
   "execution_count": 57,
   "id": "a2e5e155",
   "metadata": {
    "execution": {
     "iopub.execute_input": "2025-08-19T19:06:34.461851Z",
     "iopub.status.busy": "2025-08-19T19:06:34.461430Z",
     "iopub.status.idle": "2025-08-19T19:06:34.477680Z",
     "shell.execute_reply": "2025-08-19T19:06:34.476936Z"
    },
    "papermill": {
     "duration": 0.031604,
     "end_time": "2025-08-19T19:06:34.479463",
     "exception": false,
     "start_time": "2025-08-19T19:06:34.447859",
     "status": "completed"
    },
    "tags": []
   },
   "outputs": [],
   "source": [
    "colname_to_bin = \"maxdeutsch1\"\n",
    "majority_value = org_train[colname_to_bin].mode()[0]\n",
    "\n",
    "org_test[\"majmin\"] = np.where(org_test[colname_to_bin] == majority_value, \"majority\", \"minority\")"
   ]
  },
  {
   "cell_type": "code",
   "execution_count": 58,
   "id": "17e3e4d5",
   "metadata": {
    "execution": {
     "iopub.execute_input": "2025-08-19T19:06:34.507429Z",
     "iopub.status.busy": "2025-08-19T19:06:34.507029Z",
     "iopub.status.idle": "2025-08-19T19:06:36.205975Z",
     "shell.execute_reply": "2025-08-19T19:06:36.204791Z"
    },
    "papermill": {
     "duration": 1.714918,
     "end_time": "2025-08-19T19:06:36.207647",
     "exception": false,
     "start_time": "2025-08-19T19:06:34.492729",
     "status": "completed"
    },
    "tags": []
   },
   "outputs": [],
   "source": [
    "example_universe = universe.copy()\n",
    "example_universe[\"cutoff\"] = example_universe[\"cutoff\"][0]\n",
    "example_universe[\"eval_fairness_grouping\"] = example_universe[\"eval_fairness_grouping\"][0]\n",
    "fairness_dict, metric_frame = universe_analysis.compute_metrics(\n",
    "    example_universe,\n",
    "    y_pred_prob=probs_test,\n",
    "    y_test=y_true,\n",
    "    org_test=org_test,\n",
    ")"
   ]
  },
  {
   "cell_type": "markdown",
   "id": "1fb7a0e9",
   "metadata": {
    "papermill": {
     "duration": 0.012332,
     "end_time": "2025-08-19T19:06:36.235497",
     "exception": false,
     "start_time": "2025-08-19T19:06:36.223165",
     "status": "completed"
    },
    "tags": []
   },
   "source": [
    "# Overall"
   ]
  },
  {
   "cell_type": "markdown",
   "id": "be1784b1",
   "metadata": {
    "papermill": {
     "duration": 0.012246,
     "end_time": "2025-08-19T19:06:36.260055",
     "exception": false,
     "start_time": "2025-08-19T19:06:36.247809",
     "status": "completed"
    },
    "tags": []
   },
   "source": [
    "Main fairness target: Equalized Odds. Seems to be a better fit than equal opportunity, since we're not only interested in Y = 1. Seems to be a better fit than demographic parity, since we also care about accuracy, not just equal distribution of preds.\n",
    "\n",
    "Pick column for computation of fairness metrics\n",
    "\n",
    "Performance\n",
    "Overall performance measures, most interesting in relation to the measures split by group below"
   ]
  },
  {
   "cell_type": "code",
   "execution_count": 59,
   "id": "b7672bee",
   "metadata": {
    "execution": {
     "iopub.execute_input": "2025-08-19T19:06:36.286491Z",
     "iopub.status.busy": "2025-08-19T19:06:36.286039Z",
     "iopub.status.idle": "2025-08-19T19:06:36.295735Z",
     "shell.execute_reply": "2025-08-19T19:06:36.294955Z"
    },
    "papermill": {
     "duration": 0.026298,
     "end_time": "2025-08-19T19:06:36.298594",
     "exception": false,
     "start_time": "2025-08-19T19:06:36.272296",
     "status": "completed"
    },
    "tags": []
   },
   "outputs": [
    {
     "data": {
      "text/plain": [
       "accuracy                   0.209475\n",
       "balanced accuracy          0.534492\n",
       "f1                         0.239746\n",
       "precision                  0.136743\n",
       "false positive rate        0.902688\n",
       "false negative rate        0.028328\n",
       "selection rate             0.911537\n",
       "count                  89710.000000\n",
       "dtype: float64"
      ]
     },
     "execution_count": 59,
     "metadata": {},
     "output_type": "execute_result"
    }
   ],
   "source": [
    "metric_frame.overall"
   ]
  },
  {
   "cell_type": "markdown",
   "id": "d93333c9",
   "metadata": {
    "papermill": {
     "duration": 0.013621,
     "end_time": "2025-08-19T19:06:36.337042",
     "exception": false,
     "start_time": "2025-08-19T19:06:36.323421",
     "status": "completed"
    },
    "tags": []
   },
   "source": [
    "By Group"
   ]
  },
  {
   "cell_type": "code",
   "execution_count": 60,
   "id": "52256966",
   "metadata": {
    "execution": {
     "iopub.execute_input": "2025-08-19T19:06:36.365520Z",
     "iopub.status.busy": "2025-08-19T19:06:36.364302Z",
     "iopub.status.idle": "2025-08-19T19:06:36.387472Z",
     "shell.execute_reply": "2025-08-19T19:06:36.386498Z"
    },
    "papermill": {
     "duration": 0.039629,
     "end_time": "2025-08-19T19:06:36.389344",
     "exception": false,
     "start_time": "2025-08-19T19:06:36.349715",
     "status": "completed"
    },
    "tags": []
   },
   "outputs": [
    {
     "data": {
      "text/html": [
       "<div>\n",
       "<style scoped>\n",
       "    .dataframe tbody tr th:only-of-type {\n",
       "        vertical-align: middle;\n",
       "    }\n",
       "\n",
       "    .dataframe tbody tr th {\n",
       "        vertical-align: top;\n",
       "    }\n",
       "\n",
       "    .dataframe thead th {\n",
       "        text-align: right;\n",
       "    }\n",
       "</style>\n",
       "<table border=\"1\" class=\"dataframe\">\n",
       "  <thead>\n",
       "    <tr style=\"text-align: right;\">\n",
       "      <th></th>\n",
       "      <th>accuracy</th>\n",
       "      <th>balanced accuracy</th>\n",
       "      <th>f1</th>\n",
       "      <th>precision</th>\n",
       "      <th>false positive rate</th>\n",
       "      <th>false negative rate</th>\n",
       "      <th>selection rate</th>\n",
       "      <th>count</th>\n",
       "    </tr>\n",
       "    <tr>\n",
       "      <th>majmin</th>\n",
       "      <th></th>\n",
       "      <th></th>\n",
       "      <th></th>\n",
       "      <th></th>\n",
       "      <th></th>\n",
       "      <th></th>\n",
       "      <th></th>\n",
       "      <th></th>\n",
       "    </tr>\n",
       "  </thead>\n",
       "  <tbody>\n",
       "    <tr>\n",
       "      <th>majority</th>\n",
       "      <td>0.199595</td>\n",
       "      <td>0.533531</td>\n",
       "      <td>0.245866</td>\n",
       "      <td>0.140414</td>\n",
       "      <td>0.920356</td>\n",
       "      <td>0.012582</td>\n",
       "      <td>0.929218</td>\n",
       "      <td>69170.0</td>\n",
       "    </tr>\n",
       "    <tr>\n",
       "      <th>minority</th>\n",
       "      <td>0.242746</td>\n",
       "      <td>0.533287</td>\n",
       "      <td>0.217133</td>\n",
       "      <td>0.123257</td>\n",
       "      <td>0.844321</td>\n",
       "      <td>0.089105</td>\n",
       "      <td>0.851996</td>\n",
       "      <td>20540.0</td>\n",
       "    </tr>\n",
       "  </tbody>\n",
       "</table>\n",
       "</div>"
      ],
      "text/plain": [
       "          accuracy  balanced accuracy        f1  precision  \\\n",
       "majmin                                                       \n",
       "majority  0.199595           0.533531  0.245866   0.140414   \n",
       "minority  0.242746           0.533287  0.217133   0.123257   \n",
       "\n",
       "          false positive rate  false negative rate  selection rate    count  \n",
       "majmin                                                                       \n",
       "majority             0.920356             0.012582        0.929218  69170.0  \n",
       "minority             0.844321             0.089105        0.851996  20540.0  "
      ]
     },
     "execution_count": 60,
     "metadata": {},
     "output_type": "execute_result"
    }
   ],
   "source": [
    "metric_frame.by_group"
   ]
  },
  {
   "cell_type": "code",
   "execution_count": 61,
   "id": "6e6c20ae",
   "metadata": {
    "execution": {
     "iopub.execute_input": "2025-08-19T19:06:36.425419Z",
     "iopub.status.busy": "2025-08-19T19:06:36.423988Z",
     "iopub.status.idle": "2025-08-19T19:06:38.255986Z",
     "shell.execute_reply": "2025-08-19T19:06:38.255037Z"
    },
    "papermill": {
     "duration": 1.84948,
     "end_time": "2025-08-19T19:06:38.258693",
     "exception": false,
     "start_time": "2025-08-19T19:06:36.409213",
     "status": "completed"
    },
    "tags": []
   },
   "outputs": [
    {
     "data": {
      "text/plain": [
       "array([[<Axes: title={'center': 'accuracy'}, xlabel='majmin'>,\n",
       "        <Axes: title={'center': 'balanced accuracy'}, xlabel='majmin'>,\n",
       "        <Axes: title={'center': 'f1'}, xlabel='majmin'>],\n",
       "       [<Axes: title={'center': 'precision'}, xlabel='majmin'>,\n",
       "        <Axes: title={'center': 'false positive rate'}, xlabel='majmin'>,\n",
       "        <Axes: title={'center': 'false negative rate'}, xlabel='majmin'>],\n",
       "       [<Axes: title={'center': 'selection rate'}, xlabel='majmin'>,\n",
       "        <Axes: title={'center': 'count'}, xlabel='majmin'>,\n",
       "        <Axes: xlabel='majmin'>]], dtype=object)"
      ]
     },
     "execution_count": 61,
     "metadata": {},
     "output_type": "execute_result"
    },
    {
     "data": {
      "image/png": "[encoded data removed]",
      "text/plain": [
       "<Figure size 1200x800 with 9 Axes>"
      ]
     },
     "metadata": {},
     "output_type": "display_data"
    }
   ],
   "source": [
    "# In a graphic\n",
    "metric_frame.by_group.plot.bar(\n",
    "    subplots=True,\n",
    "    layout=[3, 3],\n",
    "    legend=False,\n",
    "    figsize=[12, 8],\n",
    "    title=\"Show all metrics\",\n",
    ")"
   ]
  },
  {
   "cell_type": "markdown",
   "id": "b2e433ae",
   "metadata": {
    "papermill": {
     "duration": 0.014424,
     "end_time": "2025-08-19T19:06:38.294219",
     "exception": false,
     "start_time": "2025-08-19T19:06:38.279795",
     "status": "completed"
    },
    "tags": []
   },
   "source": [
    "# Final Output"
   ]
  },
  {
   "cell_type": "code",
   "execution_count": 62,
   "id": "3871301e",
   "metadata": {
    "execution": {
     "iopub.execute_input": "2025-08-19T19:06:38.335002Z",
     "iopub.status.busy": "2025-08-19T19:06:38.332457Z",
     "iopub.status.idle": "2025-08-19T19:06:38.352549Z",
     "shell.execute_reply": "2025-08-19T19:06:38.351575Z"
    },
    "papermill": {
     "duration": 0.046868,
     "end_time": "2025-08-19T19:06:38.362954",
     "exception": false,
     "start_time": "2025-08-19T19:06:38.316086",
     "status": "completed"
    },
    "tags": []
   },
   "outputs": [
    {
     "data": {
      "text/plain": [
       "4"
      ]
     },
     "execution_count": 62,
     "metadata": {},
     "output_type": "execute_result"
    }
   ],
   "source": [
    "sub_universes = universe_analysis.generate_sub_universes()\n",
    "len(sub_universes)"
   ]
  },
  {
   "cell_type": "code",
   "execution_count": 63,
   "id": "d9cfdaca",
   "metadata": {
    "execution": {
     "iopub.execute_input": "2025-08-19T19:06:38.404671Z",
     "iopub.status.busy": "2025-08-19T19:06:38.403502Z",
     "iopub.status.idle": "2025-08-19T19:06:38.414020Z",
     "shell.execute_reply": "2025-08-19T19:06:38.412663Z"
    },
    "papermill": {
     "duration": 0.032531,
     "end_time": "2025-08-19T19:06:38.415831",
     "exception": false,
     "start_time": "2025-08-19T19:06:38.383300",
     "status": "completed"
    },
    "tags": []
   },
   "outputs": [],
   "source": [
    "def filter_sub_universe_data(sub_universe, org_test):\n",
    "    # Keep all rows — no filtering\n",
    "    keep_rows_mask = np.ones(org_test.shape[0], dtype=bool)\n",
    "\n",
    "    print(f\"[INFO] Keeping all rows: {keep_rows_mask.sum()} rows retained.\")\n",
    "    return keep_rows_mask"
   ]
  },
  {
   "cell_type": "code",
   "execution_count": 64,
   "id": "2bc31ac1",
   "metadata": {
    "execution": {
     "iopub.execute_input": "2025-08-19T19:06:38.465128Z",
     "iopub.status.busy": "2025-08-19T19:06:38.463966Z",
     "iopub.status.idle": "2025-08-19T19:06:45.186438Z",
     "shell.execute_reply": "2025-08-19T19:06:45.185420Z"
    },
    "papermill": {
     "duration": 6.750355,
     "end_time": "2025-08-19T19:06:45.187734",
     "exception": false,
     "start_time": "2025-08-19T19:06:38.437379",
     "status": "completed"
    },
    "tags": []
   },
   "outputs": [
    {
     "name": "stdout",
     "output_type": "stream",
     "text": [
      "Stopping execution_time clock.\n",
      "[INFO] Keeping all rows: 89710 rows retained.\n"
     ]
    },
    {
     "name": "stdout",
     "output_type": "stream",
     "text": [
      "[INFO] Keeping all rows: 89710 rows retained.\n"
     ]
    },
    {
     "name": "stdout",
     "output_type": "stream",
     "text": [
      "[INFO] Keeping all rows: 89710 rows retained.\n"
     ]
    },
    {
     "name": "stdout",
     "output_type": "stream",
     "text": [
      "[INFO] Keeping all rows: 89710 rows retained.\n"
     ]
    },
    {
     "data": {
      "text/html": [
       "<div>\n",
       "<style scoped>\n",
       "    .dataframe tbody tr th:only-of-type {\n",
       "        vertical-align: middle;\n",
       "    }\n",
       "\n",
       "    .dataframe tbody tr th {\n",
       "        vertical-align: top;\n",
       "    }\n",
       "\n",
       "    .dataframe thead th {\n",
       "        text-align: right;\n",
       "    }\n",
       "</style>\n",
       "<table border=\"1\" class=\"dataframe\">\n",
       "  <thead>\n",
       "    <tr style=\"text-align: right;\">\n",
       "      <th></th>\n",
       "      <th>run_no</th>\n",
       "      <th>universe_id</th>\n",
       "      <th>universe_settings</th>\n",
       "      <th>execution_time</th>\n",
       "      <th>test_size_n</th>\n",
       "      <th>test_size_frac</th>\n",
       "      <th>fair_main_equalized_odds_difference</th>\n",
       "      <th>fair_main_equalized_odds_ratio</th>\n",
       "      <th>fair_main_demographic_parity_difference</th>\n",
       "      <th>fair_main_demographic_parity_ratio</th>\n",
       "      <th>...</th>\n",
       "      <th>perf_grp_precision_0</th>\n",
       "      <th>perf_grp_precision_1</th>\n",
       "      <th>perf_grp_false positive rate_0</th>\n",
       "      <th>perf_grp_false positive rate_1</th>\n",
       "      <th>perf_grp_false negative rate_0</th>\n",
       "      <th>perf_grp_false negative rate_1</th>\n",
       "      <th>perf_grp_selection rate_0</th>\n",
       "      <th>perf_grp_selection rate_1</th>\n",
       "      <th>perf_grp_count_0</th>\n",
       "      <th>perf_grp_count_1</th>\n",
       "    </tr>\n",
       "  </thead>\n",
       "  <tbody>\n",
       "    <tr>\n",
       "      <th>0</th>\n",
       "      <td>3</td>\n",
       "      <td>88a1f8deb0ac84cebfc0fdab39b1b919</td>\n",
       "      <td>{\"cutoff\": \"quantile_0.1\", \"eval_fairness_grou...</td>\n",
       "      <td>27.72668</td>\n",
       "      <td>89710</td>\n",
       "      <td>1.0</td>\n",
       "      <td>0.076523</td>\n",
       "      <td>0.917385</td>\n",
       "      <td>0.077222</td>\n",
       "      <td>0.916896</td>\n",
       "      <td>...</td>\n",
       "      <td>NaN</td>\n",
       "      <td>NaN</td>\n",
       "      <td>NaN</td>\n",
       "      <td>NaN</td>\n",
       "      <td>NaN</td>\n",
       "      <td>NaN</td>\n",
       "      <td>NaN</td>\n",
       "      <td>NaN</td>\n",
       "      <td>NaN</td>\n",
       "      <td>NaN</td>\n",
       "    </tr>\n",
       "    <tr>\n",
       "      <th>0</th>\n",
       "      <td>3</td>\n",
       "      <td>88a1f8deb0ac84cebfc0fdab39b1b919</td>\n",
       "      <td>{\"cutoff\": \"quantile_0.1\", \"eval_fairness_grou...</td>\n",
       "      <td>27.72668</td>\n",
       "      <td>89710</td>\n",
       "      <td>1.0</td>\n",
       "      <td>0.076523</td>\n",
       "      <td>0.917385</td>\n",
       "      <td>0.077222</td>\n",
       "      <td>0.916896</td>\n",
       "      <td>...</td>\n",
       "      <td>0.123257</td>\n",
       "      <td>0.140414</td>\n",
       "      <td>0.844321</td>\n",
       "      <td>0.920356</td>\n",
       "      <td>0.089105</td>\n",
       "      <td>0.012582</td>\n",
       "      <td>0.851996</td>\n",
       "      <td>0.929218</td>\n",
       "      <td>20540.0</td>\n",
       "      <td>69170.0</td>\n",
       "    </tr>\n",
       "    <tr>\n",
       "      <th>0</th>\n",
       "      <td>3</td>\n",
       "      <td>88a1f8deb0ac84cebfc0fdab39b1b919</td>\n",
       "      <td>{\"cutoff\": \"quantile_0.25\", \"eval_fairness_gro...</td>\n",
       "      <td>27.72668</td>\n",
       "      <td>89710</td>\n",
       "      <td>1.0</td>\n",
       "      <td>0.156407</td>\n",
       "      <td>0.835928</td>\n",
       "      <td>0.109641</td>\n",
       "      <td>0.863737</td>\n",
       "      <td>...</td>\n",
       "      <td>NaN</td>\n",
       "      <td>NaN</td>\n",
       "      <td>NaN</td>\n",
       "      <td>NaN</td>\n",
       "      <td>NaN</td>\n",
       "      <td>NaN</td>\n",
       "      <td>NaN</td>\n",
       "      <td>NaN</td>\n",
       "      <td>NaN</td>\n",
       "      <td>NaN</td>\n",
       "    </tr>\n",
       "    <tr>\n",
       "      <th>0</th>\n",
       "      <td>3</td>\n",
       "      <td>88a1f8deb0ac84cebfc0fdab39b1b919</td>\n",
       "      <td>{\"cutoff\": \"quantile_0.25\", \"eval_fairness_gro...</td>\n",
       "      <td>27.72668</td>\n",
       "      <td>89710</td>\n",
       "      <td>1.0</td>\n",
       "      <td>0.156407</td>\n",
       "      <td>0.835928</td>\n",
       "      <td>0.109641</td>\n",
       "      <td>0.863737</td>\n",
       "      <td>...</td>\n",
       "      <td>0.132189</td>\n",
       "      <td>0.156551</td>\n",
       "      <td>0.681708</td>\n",
       "      <td>0.781992</td>\n",
       "      <td>0.203125</td>\n",
       "      <td>0.046718</td>\n",
       "      <td>0.694985</td>\n",
       "      <td>0.804626</td>\n",
       "      <td>20540.0</td>\n",
       "      <td>69170.0</td>\n",
       "    </tr>\n",
       "  </tbody>\n",
       "</table>\n",
       "<p>4 rows × 50 columns</p>\n",
       "</div>"
      ],
      "text/plain": [
       "  run_no                       universe_id  \\\n",
       "0      3  88a1f8deb0ac84cebfc0fdab39b1b919   \n",
       "0      3  88a1f8deb0ac84cebfc0fdab39b1b919   \n",
       "0      3  88a1f8deb0ac84cebfc0fdab39b1b919   \n",
       "0      3  88a1f8deb0ac84cebfc0fdab39b1b919   \n",
       "\n",
       "                                   universe_settings  execution_time  \\\n",
       "0  {\"cutoff\": \"quantile_0.1\", \"eval_fairness_grou...        27.72668   \n",
       "0  {\"cutoff\": \"quantile_0.1\", \"eval_fairness_grou...        27.72668   \n",
       "0  {\"cutoff\": \"quantile_0.25\", \"eval_fairness_gro...        27.72668   \n",
       "0  {\"cutoff\": \"quantile_0.25\", \"eval_fairness_gro...        27.72668   \n",
       "\n",
       "   test_size_n  test_size_frac  fair_main_equalized_odds_difference  \\\n",
       "0        89710             1.0                             0.076523   \n",
       "0        89710             1.0                             0.076523   \n",
       "0        89710             1.0                             0.156407   \n",
       "0        89710             1.0                             0.156407   \n",
       "\n",
       "   fair_main_equalized_odds_ratio  fair_main_demographic_parity_difference  \\\n",
       "0                        0.917385                                 0.077222   \n",
       "0                        0.917385                                 0.077222   \n",
       "0                        0.835928                                 0.109641   \n",
       "0                        0.835928                                 0.109641   \n",
       "\n",
       "   fair_main_demographic_parity_ratio  ...  perf_grp_precision_0  \\\n",
       "0                            0.916896  ...                   NaN   \n",
       "0                            0.916896  ...              0.123257   \n",
       "0                            0.863737  ...                   NaN   \n",
       "0                            0.863737  ...              0.132189   \n",
       "\n",
       "   perf_grp_precision_1  perf_grp_false positive rate_0  \\\n",
       "0                   NaN                             NaN   \n",
       "0              0.140414                        0.844321   \n",
       "0                   NaN                             NaN   \n",
       "0              0.156551                        0.681708   \n",
       "\n",
       "   perf_grp_false positive rate_1  perf_grp_false negative rate_0  \\\n",
       "0                             NaN                             NaN   \n",
       "0                        0.920356                        0.089105   \n",
       "0                             NaN                             NaN   \n",
       "0                        0.781992                        0.203125   \n",
       "\n",
       "   perf_grp_false negative rate_1  perf_grp_selection rate_0  \\\n",
       "0                             NaN                        NaN   \n",
       "0                        0.012582                   0.851996   \n",
       "0                             NaN                        NaN   \n",
       "0                        0.046718                   0.694985   \n",
       "\n",
       "   perf_grp_selection rate_1  perf_grp_count_0  perf_grp_count_1  \n",
       "0                        NaN               NaN               NaN  \n",
       "0                   0.929218           20540.0           69170.0  \n",
       "0                        NaN               NaN               NaN  \n",
       "0                   0.804626           20540.0           69170.0  \n",
       "\n",
       "[4 rows x 50 columns]"
      ]
     },
     "execution_count": 64,
     "metadata": {},
     "output_type": "execute_result"
    }
   ],
   "source": [
    "final_output = universe_analysis.generate_final_output(\n",
    "    y_pred_prob=probs_test,\n",
    "    y_test=y_true,\n",
    "    org_test=org_test,\n",
    "    filter_data=filter_sub_universe_data,\n",
    "    cp_metrics_df=cp_metrics_df,\n",
    "    save=True,\n",
    ")\n",
    "final_output"
   ]
  },
  {
   "cell_type": "code",
   "execution_count": null,
   "id": "8b80a1ff",
   "metadata": {
    "papermill": {
     "duration": 0.029861,
     "end_time": "2025-08-19T19:06:45.244210",
     "exception": false,
     "start_time": "2025-08-19T19:06:45.214349",
     "status": "completed"
    },
    "tags": []
   },
   "outputs": [],
   "source": []
  },
  {
   "cell_type": "code",
   "execution_count": null,
   "id": "275c9fad",
   "metadata": {
    "papermill": {
     "duration": 0.015464,
     "end_time": "2025-08-19T19:06:45.274794",
     "exception": false,
     "start_time": "2025-08-19T19:06:45.259330",
     "status": "completed"
    },
    "tags": []
   },
   "outputs": [],
   "source": []
  }
 ],
 "metadata": {
  "celltoolbar": "Tags",
  "kernelspec": {
   "display_name": "Python (CMA Fairness)",
   "language": "python",
   "name": "cma_fair_env"
  },
  "language_info": {
   "codemirror_mode": {
    "name": "ipython",
    "version": 3
   },
   "file_extension": ".py",
   "mimetype": "text/x-python",
   "name": "python",
   "nbconvert_exporter": "python",
   "pygments_lexer": "ipython3",
   "version": "3.10.12"
  },
  "papermill": {
   "default_parameters": {},
   "duration": 38.212229,
   "end_time": "2025-08-19T19:06:46.115303",
   "environment_variables": {},
   "exception": null,
   "input_path": "universe_analysis.ipynb",
   "output_path": "output/runs/3/notebooks/m_3-88a1f8deb0ac84cebfc0fdab39b1b919.ipynb",
   "parameters": {
    "output_dir": "output",
    "run_no": "3",
    "seed": "2023",
    "universe": "{\"cutoff\": [\"quantile_0.1\", \"quantile_0.25\"], \"eval_fairness_grouping\": [\"majority-minority\", \"nationality-all\"], \"exclude_features\": \"nationality\", \"exclude_subgroups\": \"keep-all\", \"model\": \"rf\", \"scale\": \"scale\", \"training_size\": \"1k\", \"training_year\": \"2010_14\"}",
    "universe_id": "88a1f8deb0ac84cebfc0fdab39b1b919"
   },
   "start_time": "2025-08-19T19:06:07.903074",
   "version": "2.6.0"
  }
 },
 "nbformat": 4,
 "nbformat_minor": 5
}