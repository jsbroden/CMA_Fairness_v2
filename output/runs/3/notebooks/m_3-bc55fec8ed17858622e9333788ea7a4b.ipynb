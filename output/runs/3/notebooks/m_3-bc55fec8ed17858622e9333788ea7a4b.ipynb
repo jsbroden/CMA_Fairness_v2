{
 "cells": [
  {
   "cell_type": "markdown",
   "id": "ef23dbb3",
   "metadata": {
    "papermill": {
     "duration": 0.009116,
     "end_time": "2025-08-19T19:01:00.088635",
     "exception": false,
     "start_time": "2025-08-19T19:01:00.079519",
     "status": "completed"
    },
    "tags": []
   },
   "source": [
    "# Setup"
   ]
  },
  {
   "cell_type": "code",
   "execution_count": 1,
   "id": "0bc8e7dc",
   "metadata": {
    "execution": {
     "iopub.execute_input": "2025-08-19T19:01:00.107851Z",
     "iopub.status.busy": "2025-08-19T19:01:00.107064Z",
     "iopub.status.idle": "2025-08-19T19:01:00.119419Z",
     "shell.execute_reply": "2025-08-19T19:01:00.118378Z"
    },
    "papermill": {
     "duration": 0.024465,
     "end_time": "2025-08-19T19:01:00.121690",
     "exception": false,
     "start_time": "2025-08-19T19:01:00.097225",
     "status": "completed"
    },
    "tags": []
   },
   "outputs": [
    {
     "name": "stdout",
     "output_type": "stream",
     "text": [
      "/dss/dsshome1/0C/ra93lal2/cma/CMA_Fairness_v2\n"
     ]
    },
    {
     "name": "stderr",
     "output_type": "stream",
     "text": [
      "/dss/dsshome1/0C/ra93lal2/.local/share/virtualenvs/CMA_Fairness_v2-3j10GkSs/lib/python3.10/site-packages/IPython/core/magics/osm.py:393: UserWarning: This is now an optional IPython functionality, using bookmarks requires you to install the `pickleshare` library.\n",
      "  bkms = self.shell.db.get('bookmarks', {})\n",
      "/dss/dsshome1/0C/ra93lal2/.local/share/virtualenvs/CMA_Fairness_v2-3j10GkSs/lib/python3.10/site-packages/IPython/core/magics/osm.py:417: UserWarning: This is now an optional IPython functionality, setting dhist requires you to install the `pickleshare` library.\n",
      "  self.shell.db['dhist'] = compress_dhist(dhist)[-100:]\n"
     ]
    }
   ],
   "source": [
    "%cd ~/cma/CMA_Fairness_v2"
   ]
  },
  {
   "cell_type": "markdown",
   "id": "9d235661",
   "metadata": {
    "papermill": {
     "duration": 0.00907,
     "end_time": "2025-08-19T19:01:00.139633",
     "exception": false,
     "start_time": "2025-08-19T19:01:00.130563",
     "status": "completed"
    },
    "tags": []
   },
   "source": [
    "The following cell holds the definition of our parameters, these values can be overriden by rendering the with e.g. the following command:\n",
    "\n",
    "papermill -p alpha 0.2 -p ratio 0.3 universe_analysis.ipynb output/test_run.ipynb"
   ]
  },
  {
   "cell_type": "code",
   "execution_count": 2,
   "id": "4a789d8e",
   "metadata": {
    "execution": {
     "iopub.execute_input": "2025-08-19T19:01:00.160279Z",
     "iopub.status.busy": "2025-08-19T19:01:00.158947Z",
     "iopub.status.idle": "2025-08-19T19:01:00.169073Z",
     "shell.execute_reply": "2025-08-19T19:01:00.167008Z"
    },
    "papermill": {
     "duration": 0.02298,
     "end_time": "2025-08-19T19:01:00.171334",
     "exception": false,
     "start_time": "2025-08-19T19:01:00.148354",
     "status": "completed"
    },
    "tags": []
   },
   "outputs": [
    {
     "name": "stdout",
     "output_type": "stream",
     "text": [
      "Current working directory: /dss/dsshome1/0C/ra93lal2/cma/CMA_Fairness_v2\n"
     ]
    }
   ],
   "source": [
    "import os\n",
    "print(\"Current working directory:\", os.getcwd())"
   ]
  },
  {
   "cell_type": "code",
   "execution_count": 3,
   "id": "4132aaed",
   "metadata": {
    "execution": {
     "iopub.execute_input": "2025-08-19T19:01:00.194359Z",
     "iopub.status.busy": "2025-08-19T19:01:00.193072Z",
     "iopub.status.idle": "2025-08-19T19:01:00.219149Z",
     "shell.execute_reply": "2025-08-19T19:01:00.217998Z"
    },
    "papermill": {
     "duration": 0.038523,
     "end_time": "2025-08-19T19:01:00.221141",
     "exception": false,
     "start_time": "2025-08-19T19:01:00.182618",
     "status": "completed"
    },
    "tags": [
     "parameters"
    ]
   },
   "outputs": [],
   "source": [
    "run_no = 0\n",
    "universe_id = \"test\"\n",
    "universe = {\n",
    "    \"training_size\": \"5k\", # \"25k\", \"5k\", \"1k\"\n",
    "    \"training_year\": \"2012_14\", # \"2014\", \"2012_14\", \"2010_14\"\n",
    "    \"scale\": \"scale\", # \"scale\", \"do-not-scale\",\n",
    "    \"model\": \"elasticnet\", # \"logreg\", \"penalized_logreg\", \"rf\", \"gbm\", \"elasticnet\"\n",
    "    \"cutoff\": [\"quantile_0.15\", \"quantile_0.30\"],\n",
    "    \"exclude_features\": \"age\", # \"none\", \"nationality\", \"sex\", \"nationality-sex\", \"age\"\n",
    "    \"exclude_subgroups\": \"drop-non-german\", # \"keep-all\", \"drop-non-german\"\n",
    "    \"eval_fairness_grouping\": [\"majority-minority\", \"nationality-all\"]\n",
    "}\n",
    "\n",
    "output_dir=\"./output\"\n",
    "seed=0"
   ]
  },
  {
   "cell_type": "code",
   "execution_count": 4,
   "id": "5baae9dc",
   "metadata": {
    "execution": {
     "iopub.execute_input": "2025-08-19T19:01:00.249523Z",
     "iopub.status.busy": "2025-08-19T19:01:00.249031Z",
     "iopub.status.idle": "2025-08-19T19:01:00.311627Z",
     "shell.execute_reply": "2025-08-19T19:01:00.310059Z"
    },
    "papermill": {
     "duration": 0.07642,
     "end_time": "2025-08-19T19:01:00.314727",
     "exception": false,
     "start_time": "2025-08-19T19:01:00.238307",
     "status": "completed"
    },
    "tags": [
     "injected-parameters"
    ]
   },
   "outputs": [],
   "source": [
    "# Parameters\n",
    "universe_id = \"bc55fec8ed17858622e9333788ea7a4b\"\n",
    "run_no = \"3\"\n",
    "universe = \"{\\\"cutoff\\\": [\\\"quantile_0.1\\\", \\\"quantile_0.25\\\"], \\\"eval_fairness_grouping\\\": [\\\"majority-minority\\\", \\\"nationality-all\\\"], \\\"exclude_features\\\": \\\"nationality-sex\\\", \\\"exclude_subgroups\\\": \\\"drop-non-german\\\", \\\"model\\\": \\\"logreg\\\", \\\"scale\\\": \\\"do-not-scale\\\", \\\"training_size\\\": \\\"1k\\\", \\\"training_year\\\": \\\"2012_14\\\"}\"\n",
    "output_dir = \"output\"\n",
    "seed = \"2023\"\n"
   ]
  },
  {
   "cell_type": "code",
   "execution_count": 5,
   "id": "a5d7941f",
   "metadata": {
    "execution": {
     "iopub.execute_input": "2025-08-19T19:01:00.351992Z",
     "iopub.status.busy": "2025-08-19T19:01:00.350273Z",
     "iopub.status.idle": "2025-08-19T19:01:00.358390Z",
     "shell.execute_reply": "2025-08-19T19:01:00.357029Z"
    },
    "papermill": {
     "duration": 0.025017,
     "end_time": "2025-08-19T19:01:00.361586",
     "exception": false,
     "start_time": "2025-08-19T19:01:00.336569",
     "status": "completed"
    },
    "tags": []
   },
   "outputs": [],
   "source": [
    "import json\n",
    "if isinstance(universe, str):\n",
    "    universe = json.loads(universe)"
   ]
  },
  {
   "cell_type": "code",
   "execution_count": 6,
   "id": "7076ccb1",
   "metadata": {
    "execution": {
     "iopub.execute_input": "2025-08-19T19:01:00.394634Z",
     "iopub.status.busy": "2025-08-19T19:01:00.393996Z",
     "iopub.status.idle": "2025-08-19T19:01:00.442568Z",
     "shell.execute_reply": "2025-08-19T19:01:00.441846Z"
    },
    "papermill": {
     "duration": 0.063529,
     "end_time": "2025-08-19T19:01:00.444164",
     "exception": false,
     "start_time": "2025-08-19T19:01:00.380635",
     "status": "completed"
    },
    "tags": []
   },
   "outputs": [],
   "source": [
    "# Auto-reload the custom package\n",
    "%load_ext autoreload\n",
    "%autoreload 1\n",
    "%aimport fairness_multiverse"
   ]
  },
  {
   "cell_type": "code",
   "execution_count": 7,
   "id": "94c8eb93",
   "metadata": {
    "execution": {
     "iopub.execute_input": "2025-08-19T19:01:00.489640Z",
     "iopub.status.busy": "2025-08-19T19:01:00.489014Z",
     "iopub.status.idle": "2025-08-19T19:01:02.083380Z",
     "shell.execute_reply": "2025-08-19T19:01:02.082593Z"
    },
    "papermill": {
     "duration": 1.608139,
     "end_time": "2025-08-19T19:01:02.084976",
     "exception": false,
     "start_time": "2025-08-19T19:01:00.476837",
     "status": "completed"
    },
    "tags": []
   },
   "outputs": [],
   "source": [
    "from fairness_multiverse.universe import UniverseAnalysis\n",
    "\n",
    "universe_analysis = UniverseAnalysis(\n",
    "    run_no = run_no,\n",
    "    universe_id = universe_id,\n",
    "    universe = universe,\n",
    "    output_dir=output_dir,\n",
    ")"
   ]
  },
  {
   "cell_type": "code",
   "execution_count": 8,
   "id": "2a6381cf",
   "metadata": {
    "execution": {
     "iopub.execute_input": "2025-08-19T19:01:02.106364Z",
     "iopub.status.busy": "2025-08-19T19:01:02.105202Z",
     "iopub.status.idle": "2025-08-19T19:01:02.117695Z",
     "shell.execute_reply": "2025-08-19T19:01:02.115790Z"
    },
    "papermill": {
     "duration": 0.02524,
     "end_time": "2025-08-19T19:01:02.119781",
     "exception": false,
     "start_time": "2025-08-19T19:01:02.094541",
     "status": "completed"
    },
    "tags": []
   },
   "outputs": [
    {
     "name": "stdout",
     "output_type": "stream",
     "text": [
      "Using Seed: 2023\n"
     ]
    }
   ],
   "source": [
    "import numpy as np\n",
    "parsed_seed = int(seed)\n",
    "np.random.seed(parsed_seed)\n",
    "print(f\"Using Seed: {parsed_seed}\")"
   ]
  },
  {
   "cell_type": "markdown",
   "id": "b6e958b4",
   "metadata": {
    "papermill": {
     "duration": 0.009727,
     "end_time": "2025-08-19T19:01:02.141089",
     "exception": false,
     "start_time": "2025-08-19T19:01:02.131362",
     "status": "completed"
    },
    "tags": []
   },
   "source": [
    "# Loading Data"
   ]
  },
  {
   "cell_type": "code",
   "execution_count": 9,
   "id": "98701482",
   "metadata": {
    "execution": {
     "iopub.execute_input": "2025-08-19T19:01:02.161213Z",
     "iopub.status.busy": "2025-08-19T19:01:02.160894Z",
     "iopub.status.idle": "2025-08-19T19:01:13.321794Z",
     "shell.execute_reply": "2025-08-19T19:01:13.319650Z"
    },
    "papermill": {
     "duration": 11.173206,
     "end_time": "2025-08-19T19:01:13.323679",
     "exception": false,
     "start_time": "2025-08-19T19:01:02.150473",
     "status": "completed"
    },
    "tags": []
   },
   "outputs": [
    {
     "name": "stdout",
     "output_type": "stream",
     "text": [
      "Loading SIAB data from cache: data/siab_cached.csv.gz\n"
     ]
    },
    {
     "name": "stdout",
     "output_type": "stream",
     "text": [
      "(643690, 164)\n"
     ]
    }
   ],
   "source": [
    "from pathlib import Path\n",
    "import pandas as pd\n",
    "\n",
    "# File paths\n",
    "raw_file = Path(\"data/raw/siab.csv\")\n",
    "cache_file = Path(\"data/siab_cached.csv.gz\")\n",
    "\n",
    "# Ensure cache directory exists\n",
    "cache_file.parent.mkdir(parents=True, exist_ok=True)\n",
    "\n",
    "# Load with simple caching\n",
    "if cache_file.exists():\n",
    "    print(f\"Loading SIAB data from cache: {cache_file}\")\n",
    "    siab = pd.read_csv(cache_file, compression='gzip')\n",
    "else:\n",
    "    print(f\"Cache not found. Reading raw SIAB data: {raw_file}\")\n",
    "    siab = pd.read_csv(raw_file)\n",
    "    siab.to_csv(cache_file, index=False, compression='gzip')\n",
    "    print(f\"Cached SIAB data to: {cache_file}\")\n",
    "\n",
    "print(siab.shape)"
   ]
  },
  {
   "cell_type": "code",
   "execution_count": 10,
   "id": "058d2abb",
   "metadata": {
    "execution": {
     "iopub.execute_input": "2025-08-19T19:01:13.348445Z",
     "iopub.status.busy": "2025-08-19T19:01:13.347713Z",
     "iopub.status.idle": "2025-08-19T19:01:13.688512Z",
     "shell.execute_reply": "2025-08-19T19:01:13.687427Z"
    },
    "papermill": {
     "duration": 0.355554,
     "end_time": "2025-08-19T19:01:13.691162",
     "exception": false,
     "start_time": "2025-08-19T19:01:13.335608",
     "status": "completed"
    },
    "tags": []
   },
   "outputs": [
    {
     "data": {
      "text/html": [
       "<div>\n",
       "<style scoped>\n",
       "    .dataframe tbody tr th:only-of-type {\n",
       "        vertical-align: middle;\n",
       "    }\n",
       "\n",
       "    .dataframe tbody tr th {\n",
       "        vertical-align: top;\n",
       "    }\n",
       "\n",
       "    .dataframe thead th {\n",
       "        text-align: right;\n",
       "    }\n",
       "</style>\n",
       "<table border=\"1\" class=\"dataframe\">\n",
       "  <thead>\n",
       "    <tr style=\"text-align: right;\">\n",
       "      <th></th>\n",
       "      <th>persnr</th>\n",
       "      <th>year</th>\n",
       "      <th>nrEntry</th>\n",
       "      <th>ltue</th>\n",
       "      <th>employed_before</th>\n",
       "      <th>receipt_leh_before</th>\n",
       "      <th>receipt_lhg_before</th>\n",
       "      <th>se_before</th>\n",
       "      <th>ASU_notue_seeking_before</th>\n",
       "      <th>ASU_other_before</th>\n",
       "      <th>...</th>\n",
       "      <th>minijob_tot_dur_byage</th>\n",
       "      <th>ft_tot_dur_byage</th>\n",
       "      <th>befrist_tot_dur_byage</th>\n",
       "      <th>leih_tot_dur_byage</th>\n",
       "      <th>LHG_tot_dur_byage</th>\n",
       "      <th>LEH_tot_dur_byage</th>\n",
       "      <th>almp_tot_dur_byage</th>\n",
       "      <th>almp_aw_tot_dur_byage</th>\n",
       "      <th>se_tot_dur_byage</th>\n",
       "      <th>seeking1_tot_dur_byage</th>\n",
       "    </tr>\n",
       "  </thead>\n",
       "  <tbody>\n",
       "    <tr>\n",
       "      <th>0</th>\n",
       "      <td>7</td>\n",
       "      <td>2015</td>\n",
       "      <td>1</td>\n",
       "      <td>0</td>\n",
       "      <td>1</td>\n",
       "      <td>0</td>\n",
       "      <td>0</td>\n",
       "      <td>0</td>\n",
       "      <td>1</td>\n",
       "      <td>0</td>\n",
       "      <td>...</td>\n",
       "      <td>0.000000</td>\n",
       "      <td>0.000000</td>\n",
       "      <td>15.043478</td>\n",
       "      <td>0.000000</td>\n",
       "      <td>0.000000</td>\n",
       "      <td>0.000000</td>\n",
       "      <td>0.000000</td>\n",
       "      <td>0.000000</td>\n",
       "      <td>0.000000</td>\n",
       "      <td>0.000000</td>\n",
       "    </tr>\n",
       "    <tr>\n",
       "      <th>1</th>\n",
       "      <td>18</td>\n",
       "      <td>2010</td>\n",
       "      <td>1</td>\n",
       "      <td>1</td>\n",
       "      <td>0</td>\n",
       "      <td>0</td>\n",
       "      <td>0</td>\n",
       "      <td>0</td>\n",
       "      <td>0</td>\n",
       "      <td>0</td>\n",
       "      <td>...</td>\n",
       "      <td>0.000000</td>\n",
       "      <td>0.000000</td>\n",
       "      <td>0.000000</td>\n",
       "      <td>0.000000</td>\n",
       "      <td>0.000000</td>\n",
       "      <td>0.000000</td>\n",
       "      <td>0.000000</td>\n",
       "      <td>0.000000</td>\n",
       "      <td>0.000000</td>\n",
       "      <td>0.000000</td>\n",
       "    </tr>\n",
       "    <tr>\n",
       "      <th>2</th>\n",
       "      <td>18</td>\n",
       "      <td>2011</td>\n",
       "      <td>2</td>\n",
       "      <td>0</td>\n",
       "      <td>1</td>\n",
       "      <td>0</td>\n",
       "      <td>1</td>\n",
       "      <td>0</td>\n",
       "      <td>1</td>\n",
       "      <td>0</td>\n",
       "      <td>...</td>\n",
       "      <td>2.714286</td>\n",
       "      <td>2.714286</td>\n",
       "      <td>0.000000</td>\n",
       "      <td>0.000000</td>\n",
       "      <td>10.775510</td>\n",
       "      <td>0.000000</td>\n",
       "      <td>8.367347</td>\n",
       "      <td>0.000000</td>\n",
       "      <td>0.000000</td>\n",
       "      <td>9.836735</td>\n",
       "    </tr>\n",
       "    <tr>\n",
       "      <th>3</th>\n",
       "      <td>18</td>\n",
       "      <td>2012</td>\n",
       "      <td>3</td>\n",
       "      <td>0</td>\n",
       "      <td>1</td>\n",
       "      <td>0</td>\n",
       "      <td>1</td>\n",
       "      <td>0</td>\n",
       "      <td>1</td>\n",
       "      <td>0</td>\n",
       "      <td>...</td>\n",
       "      <td>4.200000</td>\n",
       "      <td>4.200000</td>\n",
       "      <td>0.000000</td>\n",
       "      <td>0.000000</td>\n",
       "      <td>12.100000</td>\n",
       "      <td>0.000000</td>\n",
       "      <td>9.400000</td>\n",
       "      <td>0.000000</td>\n",
       "      <td>0.000000</td>\n",
       "      <td>9.960000</td>\n",
       "    </tr>\n",
       "    <tr>\n",
       "      <th>4</th>\n",
       "      <td>18</td>\n",
       "      <td>2012</td>\n",
       "      <td>4</td>\n",
       "      <td>0</td>\n",
       "      <td>1</td>\n",
       "      <td>0</td>\n",
       "      <td>1</td>\n",
       "      <td>0</td>\n",
       "      <td>1</td>\n",
       "      <td>0</td>\n",
       "      <td>...</td>\n",
       "      <td>5.460000</td>\n",
       "      <td>5.460000</td>\n",
       "      <td>0.000000</td>\n",
       "      <td>0.000000</td>\n",
       "      <td>13.360000</td>\n",
       "      <td>0.000000</td>\n",
       "      <td>10.320000</td>\n",
       "      <td>0.000000</td>\n",
       "      <td>0.000000</td>\n",
       "      <td>10.280000</td>\n",
       "    </tr>\n",
       "    <tr>\n",
       "      <th>...</th>\n",
       "      <td>...</td>\n",
       "      <td>...</td>\n",
       "      <td>...</td>\n",
       "      <td>...</td>\n",
       "      <td>...</td>\n",
       "      <td>...</td>\n",
       "      <td>...</td>\n",
       "      <td>...</td>\n",
       "      <td>...</td>\n",
       "      <td>...</td>\n",
       "      <td>...</td>\n",
       "      <td>...</td>\n",
       "      <td>...</td>\n",
       "      <td>...</td>\n",
       "      <td>...</td>\n",
       "      <td>...</td>\n",
       "      <td>...</td>\n",
       "      <td>...</td>\n",
       "      <td>...</td>\n",
       "      <td>...</td>\n",
       "      <td>...</td>\n",
       "    </tr>\n",
       "    <tr>\n",
       "      <th>643685</th>\n",
       "      <td>1827860</td>\n",
       "      <td>2013</td>\n",
       "      <td>1</td>\n",
       "      <td>0</td>\n",
       "      <td>0</td>\n",
       "      <td>0</td>\n",
       "      <td>1</td>\n",
       "      <td>0</td>\n",
       "      <td>0</td>\n",
       "      <td>1</td>\n",
       "      <td>...</td>\n",
       "      <td>0.000000</td>\n",
       "      <td>0.000000</td>\n",
       "      <td>0.000000</td>\n",
       "      <td>0.000000</td>\n",
       "      <td>0.612903</td>\n",
       "      <td>0.000000</td>\n",
       "      <td>0.000000</td>\n",
       "      <td>0.000000</td>\n",
       "      <td>0.000000</td>\n",
       "      <td>0.000000</td>\n",
       "    </tr>\n",
       "    <tr>\n",
       "      <th>643686</th>\n",
       "      <td>1827860</td>\n",
       "      <td>2015</td>\n",
       "      <td>2</td>\n",
       "      <td>1</td>\n",
       "      <td>0</td>\n",
       "      <td>0</td>\n",
       "      <td>1</td>\n",
       "      <td>0</td>\n",
       "      <td>1</td>\n",
       "      <td>0</td>\n",
       "      <td>...</td>\n",
       "      <td>0.000000</td>\n",
       "      <td>0.000000</td>\n",
       "      <td>0.212121</td>\n",
       "      <td>0.212121</td>\n",
       "      <td>17.363636</td>\n",
       "      <td>0.000000</td>\n",
       "      <td>8.909091</td>\n",
       "      <td>0.000000</td>\n",
       "      <td>0.000000</td>\n",
       "      <td>7.121212</td>\n",
       "    </tr>\n",
       "    <tr>\n",
       "      <th>643687</th>\n",
       "      <td>1827860</td>\n",
       "      <td>2016</td>\n",
       "      <td>3</td>\n",
       "      <td>1</td>\n",
       "      <td>0</td>\n",
       "      <td>0</td>\n",
       "      <td>1</td>\n",
       "      <td>1</td>\n",
       "      <td>0</td>\n",
       "      <td>1</td>\n",
       "      <td>...</td>\n",
       "      <td>0.000000</td>\n",
       "      <td>0.000000</td>\n",
       "      <td>0.294118</td>\n",
       "      <td>0.205882</td>\n",
       "      <td>34.705882</td>\n",
       "      <td>0.000000</td>\n",
       "      <td>10.352941</td>\n",
       "      <td>1.705882</td>\n",
       "      <td>1.705882</td>\n",
       "      <td>23.911765</td>\n",
       "    </tr>\n",
       "    <tr>\n",
       "      <th>643688</th>\n",
       "      <td>1827869</td>\n",
       "      <td>2013</td>\n",
       "      <td>1</td>\n",
       "      <td>1</td>\n",
       "      <td>1</td>\n",
       "      <td>0</td>\n",
       "      <td>0</td>\n",
       "      <td>0</td>\n",
       "      <td>1</td>\n",
       "      <td>0</td>\n",
       "      <td>...</td>\n",
       "      <td>0.000000</td>\n",
       "      <td>0.000000</td>\n",
       "      <td>0.000000</td>\n",
       "      <td>0.000000</td>\n",
       "      <td>0.000000</td>\n",
       "      <td>0.525424</td>\n",
       "      <td>0.000000</td>\n",
       "      <td>0.000000</td>\n",
       "      <td>0.000000</td>\n",
       "      <td>0.000000</td>\n",
       "    </tr>\n",
       "    <tr>\n",
       "      <th>643689</th>\n",
       "      <td>1827869</td>\n",
       "      <td>2014</td>\n",
       "      <td>2</td>\n",
       "      <td>0</td>\n",
       "      <td>0</td>\n",
       "      <td>1</td>\n",
       "      <td>0</td>\n",
       "      <td>0</td>\n",
       "      <td>1</td>\n",
       "      <td>0</td>\n",
       "      <td>...</td>\n",
       "      <td>0.000000</td>\n",
       "      <td>0.666667</td>\n",
       "      <td>0.666667</td>\n",
       "      <td>0.000000</td>\n",
       "      <td>0.000000</td>\n",
       "      <td>8.950000</td>\n",
       "      <td>1.033333</td>\n",
       "      <td>0.083333</td>\n",
       "      <td>0.083333</td>\n",
       "      <td>8.133333</td>\n",
       "    </tr>\n",
       "  </tbody>\n",
       "</table>\n",
       "<p>643690 rows × 164 columns</p>\n",
       "</div>"
      ],
      "text/plain": [
       "         persnr  year  nrEntry  ltue  employed_before  receipt_leh_before  \\\n",
       "0             7  2015        1     0                1                   0   \n",
       "1            18  2010        1     1                0                   0   \n",
       "2            18  2011        2     0                1                   0   \n",
       "3            18  2012        3     0                1                   0   \n",
       "4            18  2012        4     0                1                   0   \n",
       "...         ...   ...      ...   ...              ...                 ...   \n",
       "643685  1827860  2013        1     0                0                   0   \n",
       "643686  1827860  2015        2     1                0                   0   \n",
       "643687  1827860  2016        3     1                0                   0   \n",
       "643688  1827869  2013        1     1                1                   0   \n",
       "643689  1827869  2014        2     0                0                   1   \n",
       "\n",
       "        receipt_lhg_before  se_before  ASU_notue_seeking_before  \\\n",
       "0                        0          0                         1   \n",
       "1                        0          0                         0   \n",
       "2                        1          0                         1   \n",
       "3                        1          0                         1   \n",
       "4                        1          0                         1   \n",
       "...                    ...        ...                       ...   \n",
       "643685                   1          0                         0   \n",
       "643686                   1          0                         1   \n",
       "643687                   1          1                         0   \n",
       "643688                   0          0                         1   \n",
       "643689                   0          0                         1   \n",
       "\n",
       "        ASU_other_before  ...  minijob_tot_dur_byage  ft_tot_dur_byage  \\\n",
       "0                      0  ...               0.000000          0.000000   \n",
       "1                      0  ...               0.000000          0.000000   \n",
       "2                      0  ...               2.714286          2.714286   \n",
       "3                      0  ...               4.200000          4.200000   \n",
       "4                      0  ...               5.460000          5.460000   \n",
       "...                  ...  ...                    ...               ...   \n",
       "643685                 1  ...               0.000000          0.000000   \n",
       "643686                 0  ...               0.000000          0.000000   \n",
       "643687                 1  ...               0.000000          0.000000   \n",
       "643688                 0  ...               0.000000          0.000000   \n",
       "643689                 0  ...               0.000000          0.666667   \n",
       "\n",
       "        befrist_tot_dur_byage  leih_tot_dur_byage  LHG_tot_dur_byage  \\\n",
       "0                   15.043478            0.000000           0.000000   \n",
       "1                    0.000000            0.000000           0.000000   \n",
       "2                    0.000000            0.000000          10.775510   \n",
       "3                    0.000000            0.000000          12.100000   \n",
       "4                    0.000000            0.000000          13.360000   \n",
       "...                       ...                 ...                ...   \n",
       "643685               0.000000            0.000000           0.612903   \n",
       "643686               0.212121            0.212121          17.363636   \n",
       "643687               0.294118            0.205882          34.705882   \n",
       "643688               0.000000            0.000000           0.000000   \n",
       "643689               0.666667            0.000000           0.000000   \n",
       "\n",
       "        LEH_tot_dur_byage  almp_tot_dur_byage  almp_aw_tot_dur_byage  \\\n",
       "0                0.000000            0.000000               0.000000   \n",
       "1                0.000000            0.000000               0.000000   \n",
       "2                0.000000            8.367347               0.000000   \n",
       "3                0.000000            9.400000               0.000000   \n",
       "4                0.000000           10.320000               0.000000   \n",
       "...                   ...                 ...                    ...   \n",
       "643685           0.000000            0.000000               0.000000   \n",
       "643686           0.000000            8.909091               0.000000   \n",
       "643687           0.000000           10.352941               1.705882   \n",
       "643688           0.525424            0.000000               0.000000   \n",
       "643689           8.950000            1.033333               0.083333   \n",
       "\n",
       "        se_tot_dur_byage  seeking1_tot_dur_byage  \n",
       "0               0.000000                0.000000  \n",
       "1               0.000000                0.000000  \n",
       "2               0.000000                9.836735  \n",
       "3               0.000000                9.960000  \n",
       "4               0.000000               10.280000  \n",
       "...                  ...                     ...  \n",
       "643685          0.000000                0.000000  \n",
       "643686          0.000000                7.121212  \n",
       "643687          1.705882               23.911765  \n",
       "643688          0.000000                0.000000  \n",
       "643689          0.083333                8.133333  \n",
       "\n",
       "[643690 rows x 164 columns]"
      ]
     },
     "execution_count": 10,
     "metadata": {},
     "output_type": "execute_result"
    }
   ],
   "source": [
    "siab"
   ]
  },
  {
   "cell_type": "markdown",
   "id": "1f87e805",
   "metadata": {
    "papermill": {
     "duration": 0.01163,
     "end_time": "2025-08-19T19:01:13.724586",
     "exception": false,
     "start_time": "2025-08-19T19:01:13.712956",
     "status": "completed"
    },
    "tags": []
   },
   "source": [
    "# Splitting Data and Setting Training Data Size"
   ]
  },
  {
   "cell_type": "code",
   "execution_count": 11,
   "id": "910ae358",
   "metadata": {
    "execution": {
     "iopub.execute_input": "2025-08-19T19:01:13.747230Z",
     "iopub.status.busy": "2025-08-19T19:01:13.745668Z",
     "iopub.status.idle": "2025-08-19T19:01:14.447573Z",
     "shell.execute_reply": "2025-08-19T19:01:14.446604Z"
    },
    "papermill": {
     "duration": 0.716503,
     "end_time": "2025-08-19T19:01:14.450506",
     "exception": false,
     "start_time": "2025-08-19T19:01:13.734003",
     "status": "completed"
    },
    "tags": []
   },
   "outputs": [],
   "source": [
    "from fairness_multiverse.universe import sample_by_year_size\n",
    "\n",
    "siab_train = sample_by_year_size(siab,\n",
    "                               training_year=universe[\"training_year\"],\n",
    "                               training_size=universe[\"training_size\"])"
   ]
  },
  {
   "cell_type": "code",
   "execution_count": 12,
   "id": "919c8ff5",
   "metadata": {
    "execution": {
     "iopub.execute_input": "2025-08-19T19:01:14.485552Z",
     "iopub.status.busy": "2025-08-19T19:01:14.484411Z",
     "iopub.status.idle": "2025-08-19T19:01:14.495007Z",
     "shell.execute_reply": "2025-08-19T19:01:14.493658Z"
    },
    "papermill": {
     "duration": 0.025157,
     "end_time": "2025-08-19T19:01:14.496420",
     "exception": false,
     "start_time": "2025-08-19T19:01:14.471263",
     "status": "completed"
    },
    "tags": []
   },
   "outputs": [
    {
     "data": {
      "text/plain": [
       "(1000, 164)"
      ]
     },
     "execution_count": 12,
     "metadata": {},
     "output_type": "execute_result"
    }
   ],
   "source": [
    "siab_train.shape"
   ]
  },
  {
   "cell_type": "code",
   "execution_count": 13,
   "id": "feb13bf4",
   "metadata": {
    "execution": {
     "iopub.execute_input": "2025-08-19T19:01:14.524234Z",
     "iopub.status.busy": "2025-08-19T19:01:14.519669Z",
     "iopub.status.idle": "2025-08-19T19:01:14.537431Z",
     "shell.execute_reply": "2025-08-19T19:01:14.536298Z"
    },
    "papermill": {
     "duration": 0.031494,
     "end_time": "2025-08-19T19:01:14.539501",
     "exception": false,
     "start_time": "2025-08-19T19:01:14.508007",
     "status": "completed"
    },
    "tags": []
   },
   "outputs": [
    {
     "data": {
      "text/plain": [
       "year\n",
       "2012    334\n",
       "2013    333\n",
       "2014    333\n",
       "dtype: int64"
      ]
     },
     "metadata": {},
     "output_type": "display_data"
    }
   ],
   "source": [
    "display(siab_train.groupby(\"year\").size())"
   ]
  },
  {
   "cell_type": "code",
   "execution_count": 14,
   "id": "0997782f",
   "metadata": {
    "execution": {
     "iopub.execute_input": "2025-08-19T19:01:14.592222Z",
     "iopub.status.busy": "2025-08-19T19:01:14.570869Z",
     "iopub.status.idle": "2025-08-19T19:01:14.950175Z",
     "shell.execute_reply": "2025-08-19T19:01:14.949228Z"
    },
    "papermill": {
     "duration": 0.397096,
     "end_time": "2025-08-19T19:01:14.951678",
     "exception": false,
     "start_time": "2025-08-19T19:01:14.554582",
     "status": "completed"
    },
    "tags": []
   },
   "outputs": [],
   "source": [
    "#siab_train = siab_s[siab_s.year < 2015]\n",
    "siab_calib = siab[siab.year == 2015]\n",
    "siab_test = siab[siab.year == 2016]"
   ]
  },
  {
   "cell_type": "code",
   "execution_count": 15,
   "id": "2c1e4012",
   "metadata": {
    "execution": {
     "iopub.execute_input": "2025-08-19T19:01:14.974185Z",
     "iopub.status.busy": "2025-08-19T19:01:14.973345Z",
     "iopub.status.idle": "2025-08-19T19:01:14.979046Z",
     "shell.execute_reply": "2025-08-19T19:01:14.978058Z"
    },
    "papermill": {
     "duration": 0.018048,
     "end_time": "2025-08-19T19:01:14.980363",
     "exception": false,
     "start_time": "2025-08-19T19:01:14.962315",
     "status": "completed"
    },
    "tags": []
   },
   "outputs": [],
   "source": [
    "#siab_calib.shape"
   ]
  },
  {
   "cell_type": "code",
   "execution_count": 16,
   "id": "f66b54ca",
   "metadata": {
    "execution": {
     "iopub.execute_input": "2025-08-19T19:01:15.005368Z",
     "iopub.status.busy": "2025-08-19T19:01:15.004066Z",
     "iopub.status.idle": "2025-08-19T19:01:15.048300Z",
     "shell.execute_reply": "2025-08-19T19:01:15.046686Z"
    },
    "papermill": {
     "duration": 0.05948,
     "end_time": "2025-08-19T19:01:15.052151",
     "exception": false,
     "start_time": "2025-08-19T19:01:14.992671",
     "status": "completed"
    },
    "tags": []
   },
   "outputs": [],
   "source": [
    "#siab_test.shape"
   ]
  },
  {
   "cell_type": "code",
   "execution_count": 17,
   "id": "27e4384d",
   "metadata": {
    "execution": {
     "iopub.execute_input": "2025-08-19T19:01:15.091555Z",
     "iopub.status.busy": "2025-08-19T19:01:15.090301Z",
     "iopub.status.idle": "2025-08-19T19:01:15.102973Z",
     "shell.execute_reply": "2025-08-19T19:01:15.102232Z"
    },
    "papermill": {
     "duration": 0.027712,
     "end_time": "2025-08-19T19:01:15.104371",
     "exception": false,
     "start_time": "2025-08-19T19:01:15.076659",
     "status": "completed"
    },
    "tags": []
   },
   "outputs": [],
   "source": [
    "X_train = siab_train.iloc[:,4:164]\n",
    "y_train = siab_train.iloc[:, [3]]"
   ]
  },
  {
   "cell_type": "code",
   "execution_count": 18,
   "id": "08ee8389",
   "metadata": {
    "execution": {
     "iopub.execute_input": "2025-08-19T19:01:15.129655Z",
     "iopub.status.busy": "2025-08-19T19:01:15.129198Z",
     "iopub.status.idle": "2025-08-19T19:01:15.203419Z",
     "shell.execute_reply": "2025-08-19T19:01:15.202273Z"
    },
    "papermill": {
     "duration": 0.086553,
     "end_time": "2025-08-19T19:01:15.204899",
     "exception": false,
     "start_time": "2025-08-19T19:01:15.118346",
     "status": "completed"
    },
    "tags": []
   },
   "outputs": [],
   "source": [
    "X_calib = siab_calib.iloc[:,4:164]\n",
    "y_calib = siab_calib.iloc[:, [3]]"
   ]
  },
  {
   "cell_type": "code",
   "execution_count": 19,
   "id": "b7ff42e0",
   "metadata": {
    "execution": {
     "iopub.execute_input": "2025-08-19T19:01:15.229526Z",
     "iopub.status.busy": "2025-08-19T19:01:15.228821Z",
     "iopub.status.idle": "2025-08-19T19:01:15.304523Z",
     "shell.execute_reply": "2025-08-19T19:01:15.299806Z"
    },
    "papermill": {
     "duration": 0.093491,
     "end_time": "2025-08-19T19:01:15.310225",
     "exception": false,
     "start_time": "2025-08-19T19:01:15.216734",
     "status": "completed"
    },
    "tags": []
   },
   "outputs": [],
   "source": [
    "X_test = siab_test.iloc[:,4:164]\n",
    "y_true = siab_test.iloc[:, [3]]"
   ]
  },
  {
   "cell_type": "code",
   "execution_count": 20,
   "id": "0275101e",
   "metadata": {
    "execution": {
     "iopub.execute_input": "2025-08-19T19:01:15.341093Z",
     "iopub.status.busy": "2025-08-19T19:01:15.340067Z",
     "iopub.status.idle": "2025-08-19T19:01:15.469521Z",
     "shell.execute_reply": "2025-08-19T19:01:15.468313Z"
    },
    "papermill": {
     "duration": 0.144353,
     "end_time": "2025-08-19T19:01:15.472560",
     "exception": false,
     "start_time": "2025-08-19T19:01:15.328207",
     "status": "completed"
    },
    "tags": []
   },
   "outputs": [],
   "source": [
    "# Auxiliary data needed downstream in the pipeline\n",
    "\n",
    "org_train = X_train.copy()\n",
    "org_test = X_test.copy()\n",
    "org_calib = X_calib.copy()"
   ]
  },
  {
   "cell_type": "markdown",
   "id": "b461e618",
   "metadata": {
    "papermill": {
     "duration": 0.011769,
     "end_time": "2025-08-19T19:01:15.506285",
     "exception": false,
     "start_time": "2025-08-19T19:01:15.494516",
     "status": "completed"
    },
    "tags": []
   },
   "source": [
    "# Preprocessing Data"
   ]
  },
  {
   "cell_type": "code",
   "execution_count": 21,
   "id": "78e74c4b",
   "metadata": {
    "execution": {
     "iopub.execute_input": "2025-08-19T19:01:15.536280Z",
     "iopub.status.busy": "2025-08-19T19:01:15.535002Z",
     "iopub.status.idle": "2025-08-19T19:01:15.542551Z",
     "shell.execute_reply": "2025-08-19T19:01:15.541365Z"
    },
    "papermill": {
     "duration": 0.020809,
     "end_time": "2025-08-19T19:01:15.544198",
     "exception": false,
     "start_time": "2025-08-19T19:01:15.523389",
     "status": "completed"
    },
    "tags": []
   },
   "outputs": [],
   "source": [
    "# EXCLUDE PROTECTED FEATURES\n",
    "# --------------------------\n",
    "\n",
    "excluded_features = universe[\"exclude_features\"].split(\"-\")\n",
    "excluded_features_dictionary = {\n",
    "    \"nationality\": [\"maxdeutsch1\", \"maxdeutsch.Missing.\"],\n",
    "    \"sex\": [\"frau1\"],\n",
    "    \"age\": [\"age\"],\n",
    "}"
   ]
  },
  {
   "cell_type": "code",
   "execution_count": 22,
   "id": "f8e63555",
   "metadata": {
    "execution": {
     "iopub.execute_input": "2025-08-19T19:01:15.568122Z",
     "iopub.status.busy": "2025-08-19T19:01:15.566756Z",
     "iopub.status.idle": "2025-08-19T19:01:15.582738Z",
     "shell.execute_reply": "2025-08-19T19:01:15.581865Z"
    },
    "papermill": {
     "duration": 0.029571,
     "end_time": "2025-08-19T19:01:15.584520",
     "exception": false,
     "start_time": "2025-08-19T19:01:15.554949",
     "status": "completed"
    },
    "tags": []
   },
   "outputs": [],
   "source": [
    "excluded_features_columns = [\n",
    "    excluded_features_dictionary[f] for f in excluded_features if len(f) > 0 and f != \"none\"\n",
    "]"
   ]
  },
  {
   "cell_type": "code",
   "execution_count": 23,
   "id": "da781f7c",
   "metadata": {
    "execution": {
     "iopub.execute_input": "2025-08-19T19:01:15.623228Z",
     "iopub.status.busy": "2025-08-19T19:01:15.620725Z",
     "iopub.status.idle": "2025-08-19T19:01:15.635912Z",
     "shell.execute_reply": "2025-08-19T19:01:15.634764Z"
    },
    "papermill": {
     "duration": 0.039247,
     "end_time": "2025-08-19T19:01:15.638391",
     "exception": false,
     "start_time": "2025-08-19T19:01:15.599144",
     "status": "completed"
    },
    "tags": []
   },
   "outputs": [],
   "source": [
    "from fairness_multiverse.universe import flatten_once\n",
    "\n",
    "excluded_features_columns = flatten_once(excluded_features_columns)"
   ]
  },
  {
   "cell_type": "code",
   "execution_count": 24,
   "id": "37fef0f0",
   "metadata": {
    "execution": {
     "iopub.execute_input": "2025-08-19T19:01:15.673731Z",
     "iopub.status.busy": "2025-08-19T19:01:15.673234Z",
     "iopub.status.idle": "2025-08-19T19:01:15.681582Z",
     "shell.execute_reply": "2025-08-19T19:01:15.680450Z"
    },
    "papermill": {
     "duration": 0.023524,
     "end_time": "2025-08-19T19:01:15.683231",
     "exception": false,
     "start_time": "2025-08-19T19:01:15.659707",
     "status": "completed"
    },
    "tags": []
   },
   "outputs": [
    {
     "name": "stdout",
     "output_type": "stream",
     "text": [
      "Dropping features: ['maxdeutsch1', 'maxdeutsch.Missing.', 'frau1']\n"
     ]
    }
   ],
   "source": [
    "if len(excluded_features_columns) > 0:\n",
    "    print(f\"Dropping features: {excluded_features_columns}\")\n",
    "    X_train.drop(excluded_features_columns, axis=1, inplace=True)"
   ]
  },
  {
   "cell_type": "code",
   "execution_count": 25,
   "id": "d029e3e9",
   "metadata": {
    "execution": {
     "iopub.execute_input": "2025-08-19T19:01:15.708823Z",
     "iopub.status.busy": "2025-08-19T19:01:15.707723Z",
     "iopub.status.idle": "2025-08-19T19:01:15.789496Z",
     "shell.execute_reply": "2025-08-19T19:01:15.788153Z"
    },
    "papermill": {
     "duration": 0.098473,
     "end_time": "2025-08-19T19:01:15.794484",
     "exception": false,
     "start_time": "2025-08-19T19:01:15.696011",
     "status": "completed"
    },
    "tags": []
   },
   "outputs": [
    {
     "name": "stdout",
     "output_type": "stream",
     "text": [
      "Dropping features: ['maxdeutsch1', 'maxdeutsch.Missing.', 'frau1']\n"
     ]
    }
   ],
   "source": [
    "if len(excluded_features_columns) > 0:\n",
    "    print(f\"Dropping features: {excluded_features_columns}\")\n",
    "    X_test.drop(excluded_features_columns, axis=1, inplace=True)"
   ]
  },
  {
   "cell_type": "code",
   "execution_count": 26,
   "id": "01d571f0",
   "metadata": {
    "execution": {
     "iopub.execute_input": "2025-08-19T19:01:15.842473Z",
     "iopub.status.busy": "2025-08-19T19:01:15.831342Z",
     "iopub.status.idle": "2025-08-19T19:01:15.911697Z",
     "shell.execute_reply": "2025-08-19T19:01:15.909159Z"
    },
    "papermill": {
     "duration": 0.098169,
     "end_time": "2025-08-19T19:01:15.914330",
     "exception": false,
     "start_time": "2025-08-19T19:01:15.816161",
     "status": "completed"
    },
    "tags": []
   },
   "outputs": [
    {
     "name": "stdout",
     "output_type": "stream",
     "text": [
      "Dropping features: ['maxdeutsch1', 'maxdeutsch.Missing.', 'frau1']\n"
     ]
    }
   ],
   "source": [
    "if len(excluded_features_columns) > 0:\n",
    "    print(f\"Dropping features: {excluded_features_columns}\")\n",
    "    X_calib.drop(excluded_features_columns, axis=1, inplace=True)"
   ]
  },
  {
   "cell_type": "code",
   "execution_count": 27,
   "id": "3037356e",
   "metadata": {
    "execution": {
     "iopub.execute_input": "2025-08-19T19:01:15.956557Z",
     "iopub.status.busy": "2025-08-19T19:01:15.955448Z",
     "iopub.status.idle": "2025-08-19T19:01:15.963003Z",
     "shell.execute_reply": "2025-08-19T19:01:15.961700Z"
    },
    "papermill": {
     "duration": 0.024056,
     "end_time": "2025-08-19T19:01:15.964858",
     "exception": false,
     "start_time": "2025-08-19T19:01:15.940802",
     "status": "completed"
    },
    "tags": []
   },
   "outputs": [],
   "source": [
    "# EXCLUDE CERTAIN SUBGROUPS\n",
    "# -------------------------\n",
    "\n",
    "mode = universe.get(\"exclude_subgroups\", \"keep-all\") # Defaults to \"keep-all\" if the key is missing."
   ]
  },
  {
   "cell_type": "code",
   "execution_count": 28,
   "id": "9d1e63fd",
   "metadata": {
    "execution": {
     "iopub.execute_input": "2025-08-19T19:01:15.991420Z",
     "iopub.status.busy": "2025-08-19T19:01:15.990363Z",
     "iopub.status.idle": "2025-08-19T19:01:16.001671Z",
     "shell.execute_reply": "2025-08-19T19:01:16.000312Z"
    },
    "papermill": {
     "duration": 0.024828,
     "end_time": "2025-08-19T19:01:16.003426",
     "exception": false,
     "start_time": "2025-08-19T19:01:15.978598",
     "status": "completed"
    },
    "tags": []
   },
   "outputs": [],
   "source": [
    "if mode == \"keep-all\":\n",
    "    keep_mask = pd.Series(True, index=org_train.index)\n",
    "\n",
    "elif mode == \"drop-non-german\":\n",
    "    keep_mask = (org_train[\"maxdeutsch1\"] == 1) & (org_train[\"maxdeutsch.Missing.\"] == 0)\n",
    "\n",
    "else:\n",
    "    raise ValueError(f\"Unsupported mode for exclude_subgroups: {mode}\")"
   ]
  },
  {
   "cell_type": "code",
   "execution_count": 29,
   "id": "d3b65474",
   "metadata": {
    "execution": {
     "iopub.execute_input": "2025-08-19T19:01:16.032379Z",
     "iopub.status.busy": "2025-08-19T19:01:16.031219Z",
     "iopub.status.idle": "2025-08-19T19:01:16.042131Z",
     "shell.execute_reply": "2025-08-19T19:01:16.040526Z"
    },
    "papermill": {
     "duration": 0.026894,
     "end_time": "2025-08-19T19:01:16.043766",
     "exception": false,
     "start_time": "2025-08-19T19:01:16.016872",
     "status": "completed"
    },
    "tags": []
   },
   "outputs": [
    {
     "name": "stdout",
     "output_type": "stream",
     "text": [
      "Dropping 147 rows (14.70%) where mode='drop-non-german'\n"
     ]
    }
   ],
   "source": [
    "n_drop = (~keep_mask).sum() # Calculates how many rows are set to be dropped\n",
    "if n_drop > 0:\n",
    "    pct = n_drop / len(keep_mask) * 100\n",
    "    print(f\"Dropping {n_drop} rows ({pct:.2f}%) where mode='{mode}'\")"
   ]
  },
  {
   "cell_type": "code",
   "execution_count": 30,
   "id": "f44389b3",
   "metadata": {
    "execution": {
     "iopub.execute_input": "2025-08-19T19:01:16.077051Z",
     "iopub.status.busy": "2025-08-19T19:01:16.071393Z",
     "iopub.status.idle": "2025-08-19T19:01:16.098007Z",
     "shell.execute_reply": "2025-08-19T19:01:16.096699Z"
    },
    "papermill": {
     "duration": 0.041238,
     "end_time": "2025-08-19T19:01:16.099968",
     "exception": false,
     "start_time": "2025-08-19T19:01:16.058730",
     "status": "completed"
    },
    "tags": []
   },
   "outputs": [],
   "source": [
    "X_train = X_train[keep_mask]"
   ]
  },
  {
   "cell_type": "code",
   "execution_count": 31,
   "id": "ceca8c2a",
   "metadata": {
    "execution": {
     "iopub.execute_input": "2025-08-19T19:01:16.129235Z",
     "iopub.status.busy": "2025-08-19T19:01:16.128063Z",
     "iopub.status.idle": "2025-08-19T19:01:16.157260Z",
     "shell.execute_reply": "2025-08-19T19:01:16.151778Z"
    },
    "papermill": {
     "duration": 0.047169,
     "end_time": "2025-08-19T19:01:16.161717",
     "exception": false,
     "start_time": "2025-08-19T19:01:16.114548",
     "status": "completed"
    },
    "tags": []
   },
   "outputs": [],
   "source": [
    "y_train = y_train[keep_mask]"
   ]
  },
  {
   "cell_type": "markdown",
   "id": "04d31e2f",
   "metadata": {
    "papermill": {
     "duration": 0.028334,
     "end_time": "2025-08-19T19:01:16.216575",
     "exception": false,
     "start_time": "2025-08-19T19:01:16.188241",
     "status": "completed"
    },
    "tags": []
   },
   "source": [
    "# Model Training"
   ]
  },
  {
   "cell_type": "code",
   "execution_count": 32,
   "id": "db991733",
   "metadata": {
    "execution": {
     "iopub.execute_input": "2025-08-19T19:01:16.242814Z",
     "iopub.status.busy": "2025-08-19T19:01:16.242351Z",
     "iopub.status.idle": "2025-08-19T19:01:16.396329Z",
     "shell.execute_reply": "2025-08-19T19:01:16.395452Z"
    },
    "papermill": {
     "duration": 0.169222,
     "end_time": "2025-08-19T19:01:16.397976",
     "exception": false,
     "start_time": "2025-08-19T19:01:16.228754",
     "status": "completed"
    },
    "tags": []
   },
   "outputs": [],
   "source": [
    "from sklearn.linear_model import LogisticRegression\n",
    "from sklearn.ensemble import GradientBoostingClassifier, RandomForestClassifier\n",
    "\n",
    "if (universe[\"model\"] == \"logreg\"):\n",
    "    model = LogisticRegression() #penalty=\"none\", solver=\"newton-cg\", max_iter=1)\n",
    "elif (universe[\"model\"] == \"penalized_logreg\"):\n",
    "    model = LogisticRegression(penalty=\"l2\", C=0.1) #, solver=\"newton-cg\", max_iter=1)\n",
    "elif (universe[\"model\"] == \"rf\"):\n",
    "    model = RandomForestClassifier() # n_estimators=100, n_jobs=-1\n",
    "elif (universe[\"model\"] == \"gbm\"):\n",
    "    model = GradientBoostingClassifier()\n",
    "elif (universe[\"model\"] == \"elasticnet\"):\n",
    "    model = LogisticRegression(penalty = 'elasticnet', solver = 'saga', l1_ratio = 0.5) # max_iter=5000\n",
    "else:\n",
    "    raise \"Unsupported universe.model\""
   ]
  },
  {
   "cell_type": "code",
   "execution_count": 33,
   "id": "a4b5cd25",
   "metadata": {
    "execution": {
     "iopub.execute_input": "2025-08-19T19:01:16.422251Z",
     "iopub.status.busy": "2025-08-19T19:01:16.421013Z",
     "iopub.status.idle": "2025-08-19T19:01:16.428588Z",
     "shell.execute_reply": "2025-08-19T19:01:16.427385Z"
    },
    "papermill": {
     "duration": 0.021082,
     "end_time": "2025-08-19T19:01:16.430026",
     "exception": false,
     "start_time": "2025-08-19T19:01:16.408944",
     "status": "completed"
    },
    "tags": []
   },
   "outputs": [],
   "source": [
    "from sklearn.pipeline import Pipeline\n",
    "from sklearn.preprocessing import StandardScaler\n",
    "\n",
    "model = Pipeline([\n",
    "    #(\"continuous_processor\", continuous_processor),\n",
    "    #(\"categorical_preprocessor\", categorical_preprocessor),\n",
    "    (\"scale\", StandardScaler() if universe[\"scale\"] == \"scale\" else None), \n",
    "    (\"model\", model),\n",
    "])"
   ]
  },
  {
   "cell_type": "code",
   "execution_count": 34,
   "id": "283a904d",
   "metadata": {
    "execution": {
     "iopub.execute_input": "2025-08-19T19:01:16.455332Z",
     "iopub.status.busy": "2025-08-19T19:01:16.454212Z",
     "iopub.status.idle": "2025-08-19T19:01:16.523229Z",
     "shell.execute_reply": "2025-08-19T19:01:16.521990Z"
    },
    "papermill": {
     "duration": 0.088401,
     "end_time": "2025-08-19T19:01:16.529805",
     "exception": false,
     "start_time": "2025-08-19T19:01:16.441404",
     "status": "completed"
    },
    "tags": []
   },
   "outputs": [
    {
     "name": "stderr",
     "output_type": "stream",
     "text": [
      "/dss/dsshome1/0C/ra93lal2/.local/share/virtualenvs/CMA_Fairness_v2-3j10GkSs/lib/python3.10/site-packages/sklearn/linear_model/_logistic.py:444: ConvergenceWarning: lbfgs failed to converge (status=1):\n",
      "STOP: TOTAL NO. of ITERATIONS REACHED LIMIT.\n",
      "\n",
      "Increase the number of iterations (max_iter) or scale the data as shown in:\n",
      "    https://scikit-learn.org/stable/modules/preprocessing.html\n",
      "Please also refer to the documentation for alternative solver options:\n",
      "    https://scikit-learn.org/stable/modules/linear_model.html#logistic-regression\n",
      "  n_iter_i = _check_optimize_result(\n"
     ]
    },
    {
     "data": {
      "text/html": [
       "<style>#sk-container-id-1 {color: black;background-color: white;}#sk-container-id-1 pre{padding: 0;}#sk-container-id-1 div.sk-toggleable {background-color: white;}#sk-container-id-1 label.sk-toggleable__label {cursor: pointer;display: block;width: 100%;margin-bottom: 0;padding: 0.3em;box-sizing: border-box;text-align: center;}#sk-container-id-1 label.sk-toggleable__label-arrow:before {content: \"▸\";float: left;margin-right: 0.25em;color: #696969;}#sk-container-id-1 label.sk-toggleable__label-arrow:hover:before {color: black;}#sk-container-id-1 div.sk-estimator:hover label.sk-toggleable__label-arrow:before {color: black;}#sk-container-id-1 div.sk-toggleable__content {max-height: 0;max-width: 0;overflow: hidden;text-align: left;background-color: #f0f8ff;}#sk-container-id-1 div.sk-toggleable__content pre {margin: 0.2em;color: black;border-radius: 0.25em;background-color: #f0f8ff;}#sk-container-id-1 input.sk-toggleable__control:checked~div.sk-toggleable__content {max-height: 200px;max-width: 100%;overflow: auto;}#sk-container-id-1 input.sk-toggleable__control:checked~label.sk-toggleable__label-arrow:before {content: \"▾\";}#sk-container-id-1 div.sk-estimator input.sk-toggleable__control:checked~label.sk-toggleable__label {background-color: #d4ebff;}#sk-container-id-1 div.sk-label input.sk-toggleable__control:checked~label.sk-toggleable__label {background-color: #d4ebff;}#sk-container-id-1 input.sk-hidden--visually {border: 0;clip: rect(1px 1px 1px 1px);clip: rect(1px, 1px, 1px, 1px);height: 1px;margin: -1px;overflow: hidden;padding: 0;position: absolute;width: 1px;}#sk-container-id-1 div.sk-estimator {font-family: monospace;background-color: #f0f8ff;border: 1px dotted black;border-radius: 0.25em;box-sizing: border-box;margin-bottom: 0.5em;}#sk-container-id-1 div.sk-estimator:hover {background-color: #d4ebff;}#sk-container-id-1 div.sk-parallel-item::after {content: \"\";width: 100%;border-bottom: 1px solid gray;flex-grow: 1;}#sk-container-id-1 div.sk-label:hover label.sk-toggleable__label {background-color: #d4ebff;}#sk-container-id-1 div.sk-serial::before {content: \"\";position: absolute;border-left: 1px solid gray;box-sizing: border-box;top: 0;bottom: 0;left: 50%;z-index: 0;}#sk-container-id-1 div.sk-serial {display: flex;flex-direction: column;align-items: center;background-color: white;padding-right: 0.2em;padding-left: 0.2em;position: relative;}#sk-container-id-1 div.sk-item {position: relative;z-index: 1;}#sk-container-id-1 div.sk-parallel {display: flex;align-items: stretch;justify-content: center;background-color: white;position: relative;}#sk-container-id-1 div.sk-item::before, #sk-container-id-1 div.sk-parallel-item::before {content: \"\";position: absolute;border-left: 1px solid gray;box-sizing: border-box;top: 0;bottom: 0;left: 50%;z-index: -1;}#sk-container-id-1 div.sk-parallel-item {display: flex;flex-direction: column;z-index: 1;position: relative;background-color: white;}#sk-container-id-1 div.sk-parallel-item:first-child::after {align-self: flex-end;width: 50%;}#sk-container-id-1 div.sk-parallel-item:last-child::after {align-self: flex-start;width: 50%;}#sk-container-id-1 div.sk-parallel-item:only-child::after {width: 0;}#sk-container-id-1 div.sk-dashed-wrapped {border: 1px dashed gray;margin: 0 0.4em 0.5em 0.4em;box-sizing: border-box;padding-bottom: 0.4em;background-color: white;}#sk-container-id-1 div.sk-label label {font-family: monospace;font-weight: bold;display: inline-block;line-height: 1.2em;}#sk-container-id-1 div.sk-label-container {text-align: center;}#sk-container-id-1 div.sk-container {/* jupyter's `normalize.less` sets `[hidden] { display: none; }` but bootstrap.min.css set `[hidden] { display: none !important; }` so we also need the `!important` here to be able to override the default hidden behavior on the sphinx rendered scikit-learn.org. See: https://github.com/scikit-learn/scikit-learn/issues/21755 */display: inline-block !important;position: relative;}#sk-container-id-1 div.sk-text-repr-fallback {display: none;}</style><div id=\"sk-container-id-1\" class=\"sk-top-container\"><div class=\"sk-text-repr-fallback\"><pre>Pipeline(steps=[(&#x27;scale&#x27;, None), (&#x27;model&#x27;, LogisticRegression())])</pre><b>In a Jupyter environment, please rerun this cell to show the HTML representation or trust the notebook. <br />On GitHub, the HTML representation is unable to render, please try loading this page with nbviewer.org.</b></div><div class=\"sk-container\" hidden><div class=\"sk-item sk-dashed-wrapped\"><div class=\"sk-label-container\"><div class=\"sk-label sk-toggleable\"><input class=\"sk-toggleable__control sk-hidden--visually\" id=\"sk-estimator-id-1\" type=\"checkbox\" ><label for=\"sk-estimator-id-1\" class=\"sk-toggleable__label sk-toggleable__label-arrow\">Pipeline</label><div class=\"sk-toggleable__content\"><pre>Pipeline(steps=[(&#x27;scale&#x27;, None), (&#x27;model&#x27;, LogisticRegression())])</pre></div></div></div><div class=\"sk-serial\"><div class=\"sk-item\"><div class=\"sk-estimator sk-toggleable\"><input class=\"sk-toggleable__control sk-hidden--visually\" id=\"sk-estimator-id-2\" type=\"checkbox\" ><label for=\"sk-estimator-id-2\" class=\"sk-toggleable__label sk-toggleable__label-arrow\">None</label><div class=\"sk-toggleable__content\"><pre>None</pre></div></div></div><div class=\"sk-item\"><div class=\"sk-estimator sk-toggleable\"><input class=\"sk-toggleable__control sk-hidden--visually\" id=\"sk-estimator-id-3\" type=\"checkbox\" ><label for=\"sk-estimator-id-3\" class=\"sk-toggleable__label sk-toggleable__label-arrow\">LogisticRegression</label><div class=\"sk-toggleable__content\"><pre>LogisticRegression()</pre></div></div></div></div></div></div></div>"
      ],
      "text/plain": [
       "Pipeline(steps=[('scale', None), ('model', LogisticRegression())])"
      ]
     },
     "execution_count": 34,
     "metadata": {},
     "output_type": "execute_result"
    }
   ],
   "source": [
    "model.fit(X_train, y_train.values.ravel())"
   ]
  },
  {
   "cell_type": "code",
   "execution_count": 35,
   "id": "6e15e313",
   "metadata": {
    "execution": {
     "iopub.execute_input": "2025-08-19T19:01:16.563315Z",
     "iopub.status.busy": "2025-08-19T19:01:16.562225Z",
     "iopub.status.idle": "2025-08-19T19:01:16.675207Z",
     "shell.execute_reply": "2025-08-19T19:01:16.674374Z"
    },
    "papermill": {
     "duration": 0.127072,
     "end_time": "2025-08-19T19:01:16.676469",
     "exception": false,
     "start_time": "2025-08-19T19:01:16.549397",
     "status": "completed"
    },
    "tags": []
   },
   "outputs": [
    {
     "data": {
      "text/plain": [
       "0.8591684316129752"
      ]
     },
     "execution_count": 35,
     "metadata": {},
     "output_type": "execute_result"
    }
   ],
   "source": [
    "from fairness_multiverse.universe import predict_w_threshold\n",
    "\n",
    "probs_test = model.predict_proba(X_test)\n",
    "\n",
    "'''\n",
    "Below code returns a boolean array (or binary 0/1 array depending on how it’s used) where each element \n",
    "is True if the probability of class 1 is greater than or equal to the threshold, and False otherwise.\n",
    "'''\n",
    "y_pred_default = predict_w_threshold(probs_test, 0.5)\n",
    "\n",
    "from sklearn.metrics import accuracy_score\n",
    "\n",
    "# Naive prediction\n",
    "accuracy_score(y_true = y_true, y_pred = y_pred_default)"
   ]
  },
  {
   "cell_type": "code",
   "execution_count": 36,
   "id": "6f14067c",
   "metadata": {
    "execution": {
     "iopub.execute_input": "2025-08-19T19:01:16.718785Z",
     "iopub.status.busy": "2025-08-19T19:01:16.717550Z",
     "iopub.status.idle": "2025-08-19T19:01:16.839892Z",
     "shell.execute_reply": "2025-08-19T19:01:16.838877Z"
    },
    "papermill": {
     "duration": 0.152018,
     "end_time": "2025-08-19T19:01:16.841241",
     "exception": false,
     "start_time": "2025-08-19T19:01:16.689223",
     "status": "completed"
    },
    "tags": []
   },
   "outputs": [
    {
     "data": {
      "text/plain": [
       "array([0, 0, 0, ..., 0, 0, 0])"
      ]
     },
     "execution_count": 36,
     "metadata": {},
     "output_type": "execute_result"
    }
   ],
   "source": [
    "model.predict(X_test)"
   ]
  },
  {
   "cell_type": "markdown",
   "id": "3759920c",
   "metadata": {
    "papermill": {
     "duration": 0.011016,
     "end_time": "2025-08-19T19:01:16.863839",
     "exception": false,
     "start_time": "2025-08-19T19:01:16.852823",
     "status": "completed"
    },
    "tags": []
   },
   "source": [
    "# Conformal Prediction"
   ]
  },
  {
   "cell_type": "code",
   "execution_count": 37,
   "id": "14b27f59",
   "metadata": {
    "execution": {
     "iopub.execute_input": "2025-08-19T19:01:16.888537Z",
     "iopub.status.busy": "2025-08-19T19:01:16.887253Z",
     "iopub.status.idle": "2025-08-19T19:01:16.894345Z",
     "shell.execute_reply": "2025-08-19T19:01:16.893286Z"
    },
    "papermill": {
     "duration": 0.021282,
     "end_time": "2025-08-19T19:01:16.895961",
     "exception": false,
     "start_time": "2025-08-19T19:01:16.874679",
     "status": "completed"
    },
    "tags": []
   },
   "outputs": [],
   "source": [
    "# Miscoverage level for conformal prediction (10% allowed error rate => 90% target coverage)\n",
    "alpha = 0.1"
   ]
  },
  {
   "cell_type": "code",
   "execution_count": 38,
   "id": "59102472",
   "metadata": {
    "execution": {
     "iopub.execute_input": "2025-08-19T19:01:16.920631Z",
     "iopub.status.busy": "2025-08-19T19:01:16.919571Z",
     "iopub.status.idle": "2025-08-19T19:01:17.019637Z",
     "shell.execute_reply": "2025-08-19T19:01:17.018409Z"
    },
    "papermill": {
     "duration": 0.115879,
     "end_time": "2025-08-19T19:01:17.022938",
     "exception": false,
     "start_time": "2025-08-19T19:01:16.907059",
     "status": "completed"
    },
    "tags": []
   },
   "outputs": [],
   "source": [
    "probs_calib = model.predict_proba(X_calib)"
   ]
  },
  {
   "cell_type": "code",
   "execution_count": 39,
   "id": "a792d4dd",
   "metadata": {
    "execution": {
     "iopub.execute_input": "2025-08-19T19:01:17.063476Z",
     "iopub.status.busy": "2025-08-19T19:01:17.062284Z",
     "iopub.status.idle": "2025-08-19T19:01:17.071160Z",
     "shell.execute_reply": "2025-08-19T19:01:17.069940Z"
    },
    "papermill": {
     "duration": 0.024958,
     "end_time": "2025-08-19T19:01:17.072804",
     "exception": false,
     "start_time": "2025-08-19T19:01:17.047846",
     "status": "completed"
    },
    "tags": []
   },
   "outputs": [],
   "source": [
    "y_calib = y_calib.values.ravel().astype(int)"
   ]
  },
  {
   "cell_type": "code",
   "execution_count": 40,
   "id": "650fd033",
   "metadata": {
    "execution": {
     "iopub.execute_input": "2025-08-19T19:01:17.100418Z",
     "iopub.status.busy": "2025-08-19T19:01:17.099322Z",
     "iopub.status.idle": "2025-08-19T19:01:17.111905Z",
     "shell.execute_reply": "2025-08-19T19:01:17.110651Z"
    },
    "papermill": {
     "duration": 0.026946,
     "end_time": "2025-08-19T19:01:17.113473",
     "exception": false,
     "start_time": "2025-08-19T19:01:17.086527",
     "status": "completed"
    },
    "tags": []
   },
   "outputs": [],
   "source": [
    "from fairness_multiverse.conformal import compute_nc_scores\n",
    "\n",
    "# Compute nonconformity scores on calibration set (1 - probability of true class)\n",
    "nc_scores = compute_nc_scores(probs_calib, y_calib)"
   ]
  },
  {
   "cell_type": "code",
   "execution_count": 41,
   "id": "28ada44c",
   "metadata": {
    "execution": {
     "iopub.execute_input": "2025-08-19T19:01:17.142568Z",
     "iopub.status.busy": "2025-08-19T19:01:17.141487Z",
     "iopub.status.idle": "2025-08-19T19:01:17.151912Z",
     "shell.execute_reply": "2025-08-19T19:01:17.150548Z"
    },
    "papermill": {
     "duration": 0.025282,
     "end_time": "2025-08-19T19:01:17.153605",
     "exception": false,
     "start_time": "2025-08-19T19:01:17.128323",
     "status": "completed"
    },
    "tags": []
   },
   "outputs": [],
   "source": [
    "from fairness_multiverse.conformal import find_threshold\n",
    "\n",
    "# Find conformal threshold q_hat for the given alpha (split conformal method)\n",
    "q_hat = find_threshold(nc_scores, alpha)"
   ]
  },
  {
   "cell_type": "code",
   "execution_count": 42,
   "id": "df56469e",
   "metadata": {
    "execution": {
     "iopub.execute_input": "2025-08-19T19:01:17.180828Z",
     "iopub.status.busy": "2025-08-19T19:01:17.179719Z",
     "iopub.status.idle": "2025-08-19T19:01:17.189934Z",
     "shell.execute_reply": "2025-08-19T19:01:17.188591Z"
    },
    "papermill": {
     "duration": 0.025287,
     "end_time": "2025-08-19T19:01:17.191641",
     "exception": false,
     "start_time": "2025-08-19T19:01:17.166354",
     "status": "completed"
    },
    "tags": []
   },
   "outputs": [
    {
     "data": {
      "text/plain": [
       "0.69269725103585"
      ]
     },
     "execution_count": 42,
     "metadata": {},
     "output_type": "execute_result"
    }
   ],
   "source": [
    "q_hat"
   ]
  },
  {
   "cell_type": "code",
   "execution_count": 43,
   "id": "aa1f5faa",
   "metadata": {
    "execution": {
     "iopub.execute_input": "2025-08-19T19:01:17.217989Z",
     "iopub.status.busy": "2025-08-19T19:01:17.216941Z",
     "iopub.status.idle": "2025-08-19T19:01:17.816813Z",
     "shell.execute_reply": "2025-08-19T19:01:17.814884Z"
    },
    "papermill": {
     "duration": 0.616687,
     "end_time": "2025-08-19T19:01:17.820852",
     "exception": false,
     "start_time": "2025-08-19T19:01:17.204165",
     "status": "completed"
    },
    "tags": []
   },
   "outputs": [],
   "source": [
    "from fairness_multiverse.conformal import predict_conformal_sets\n",
    "\n",
    "# Generate prediction sets for each test example\n",
    "pred_sets = predict_conformal_sets(model, X_test, q_hat)"
   ]
  },
  {
   "cell_type": "code",
   "execution_count": 44,
   "id": "97f67a6b",
   "metadata": {
    "execution": {
     "iopub.execute_input": "2025-08-19T19:01:17.862113Z",
     "iopub.status.busy": "2025-08-19T19:01:17.860524Z",
     "iopub.status.idle": "2025-08-19T19:01:17.872626Z",
     "shell.execute_reply": "2025-08-19T19:01:17.871419Z"
    },
    "papermill": {
     "duration": 0.029091,
     "end_time": "2025-08-19T19:01:17.874439",
     "exception": false,
     "start_time": "2025-08-19T19:01:17.845348",
     "status": "completed"
    },
    "tags": []
   },
   "outputs": [],
   "source": [
    "y_true = y_true.squeeze()"
   ]
  },
  {
   "cell_type": "code",
   "execution_count": 45,
   "id": "e700e9a7",
   "metadata": {
    "execution": {
     "iopub.execute_input": "2025-08-19T19:01:17.903096Z",
     "iopub.status.busy": "2025-08-19T19:01:17.901981Z",
     "iopub.status.idle": "2025-08-19T19:01:18.488547Z",
     "shell.execute_reply": "2025-08-19T19:01:18.486770Z"
    },
    "papermill": {
     "duration": 0.60299,
     "end_time": "2025-08-19T19:01:18.491852",
     "exception": false,
     "start_time": "2025-08-19T19:01:17.888862",
     "status": "completed"
    },
    "tags": []
   },
   "outputs": [],
   "source": [
    "from fairness_multiverse.conformal import evaluate_sets\n",
    "\n",
    "# Evaluate coverage and average set size on test data\n",
    "metrics = evaluate_sets(pred_sets, y_true)"
   ]
  },
  {
   "cell_type": "markdown",
   "id": "efbacec0",
   "metadata": {
    "papermill": {
     "duration": 0.012873,
     "end_time": "2025-08-19T19:01:18.529071",
     "exception": false,
     "start_time": "2025-08-19T19:01:18.516198",
     "status": "completed"
    },
    "tags": []
   },
   "source": [
    "# CP Metrics"
   ]
  },
  {
   "cell_type": "code",
   "execution_count": 46,
   "id": "9de55fb1",
   "metadata": {
    "execution": {
     "iopub.execute_input": "2025-08-19T19:01:18.556411Z",
     "iopub.status.busy": "2025-08-19T19:01:18.554479Z",
     "iopub.status.idle": "2025-08-19T19:01:18.572646Z",
     "shell.execute_reply": "2025-08-19T19:01:18.571203Z"
    },
    "papermill": {
     "duration": 0.034078,
     "end_time": "2025-08-19T19:01:18.574401",
     "exception": false,
     "start_time": "2025-08-19T19:01:18.540323",
     "status": "completed"
    },
    "tags": []
   },
   "outputs": [
    {
     "data": {
      "text/plain": [
       "{'coverage': 0.9118381451343217, 'avg_size': 1.2234087615650429}"
      ]
     },
     "execution_count": 46,
     "metadata": {},
     "output_type": "execute_result"
    }
   ],
   "source": [
    "metrics"
   ]
  },
  {
   "cell_type": "code",
   "execution_count": 47,
   "id": "64c340a1",
   "metadata": {
    "execution": {
     "iopub.execute_input": "2025-08-19T19:01:18.609283Z",
     "iopub.status.busy": "2025-08-19T19:01:18.608121Z",
     "iopub.status.idle": "2025-08-19T19:01:18.621024Z",
     "shell.execute_reply": "2025-08-19T19:01:18.619067Z"
    },
    "papermill": {
     "duration": 0.028767,
     "end_time": "2025-08-19T19:01:18.622519",
     "exception": false,
     "start_time": "2025-08-19T19:01:18.593752",
     "status": "completed"
    },
    "tags": []
   },
   "outputs": [],
   "source": [
    "example_universe = universe.copy()\n",
    "universe_training_year = example_universe.get(\"training_year\")\n",
    "universe_training_size = example_universe.get(\"training_size\")\n",
    "universe_scale = example_universe.get(\"scale\")\n",
    "universe_model = example_universe.get(\"model\")\n",
    "universe_exclude_features = example_universe.get(\"exclude_features\")\n",
    "universe_exclude_subgroups = example_universe.get(\"exclude_subgroups\")"
   ]
  },
  {
   "cell_type": "code",
   "execution_count": 48,
   "id": "dbb53cb4",
   "metadata": {
    "execution": {
     "iopub.execute_input": "2025-08-19T19:01:18.651460Z",
     "iopub.status.busy": "2025-08-19T19:01:18.650047Z",
     "iopub.status.idle": "2025-08-19T19:01:18.662488Z",
     "shell.execute_reply": "2025-08-19T19:01:18.661045Z"
    },
    "papermill": {
     "duration": 0.027186,
     "end_time": "2025-08-19T19:01:18.663971",
     "exception": false,
     "start_time": "2025-08-19T19:01:18.636785",
     "status": "completed"
    },
    "tags": []
   },
   "outputs": [],
   "source": [
    "cp_metrics_dict = {\n",
    "    \"universe_id\": [universe_id],\n",
    "    \"universe_training_year\": [universe_training_year],\n",
    "    \"universe_training_size\": [universe_training_size],\n",
    "    \"universe_scale\": [universe_scale],\n",
    "    \"universe_model\": [universe_model],\n",
    "    \"universe_exclude_features\": [universe_exclude_features],\n",
    "    \"universe_exclude_subgroups\": [universe_exclude_subgroups],\n",
    "    \"q_hat\": [q_hat],\n",
    "    \"coverage\": [metrics[\"coverage\"]],\n",
    "    \"avg_size\": [metrics[\"avg_size\"]],\n",
    "}"
   ]
  },
  {
   "cell_type": "code",
   "execution_count": 49,
   "id": "0d70d4b2",
   "metadata": {
    "execution": {
     "iopub.execute_input": "2025-08-19T19:01:18.694606Z",
     "iopub.status.busy": "2025-08-19T19:01:18.693008Z",
     "iopub.status.idle": "2025-08-19T19:01:18.708778Z",
     "shell.execute_reply": "2025-08-19T19:01:18.707070Z"
    },
    "papermill": {
     "duration": 0.031541,
     "end_time": "2025-08-19T19:01:18.710355",
     "exception": false,
     "start_time": "2025-08-19T19:01:18.678814",
     "status": "completed"
    },
    "tags": []
   },
   "outputs": [],
   "source": [
    "cp_metrics_df = pd.DataFrame(cp_metrics_dict)"
   ]
  },
  {
   "cell_type": "code",
   "execution_count": 50,
   "id": "b494403c",
   "metadata": {
    "execution": {
     "iopub.execute_input": "2025-08-19T19:01:18.744114Z",
     "iopub.status.busy": "2025-08-19T19:01:18.742808Z",
     "iopub.status.idle": "2025-08-19T19:01:18.781763Z",
     "shell.execute_reply": "2025-08-19T19:01:18.780662Z"
    },
    "papermill": {
     "duration": 0.055335,
     "end_time": "2025-08-19T19:01:18.783839",
     "exception": false,
     "start_time": "2025-08-19T19:01:18.728504",
     "status": "completed"
    },
    "tags": []
   },
   "outputs": [
    {
     "data": {
      "text/html": [
       "<div>\n",
       "<style scoped>\n",
       "    .dataframe tbody tr th:only-of-type {\n",
       "        vertical-align: middle;\n",
       "    }\n",
       "\n",
       "    .dataframe tbody tr th {\n",
       "        vertical-align: top;\n",
       "    }\n",
       "\n",
       "    .dataframe thead th {\n",
       "        text-align: right;\n",
       "    }\n",
       "</style>\n",
       "<table border=\"1\" class=\"dataframe\">\n",
       "  <thead>\n",
       "    <tr style=\"text-align: right;\">\n",
       "      <th></th>\n",
       "      <th>universe_id</th>\n",
       "      <th>universe_training_year</th>\n",
       "      <th>universe_training_size</th>\n",
       "      <th>universe_scale</th>\n",
       "      <th>universe_model</th>\n",
       "      <th>universe_exclude_features</th>\n",
       "      <th>universe_exclude_subgroups</th>\n",
       "      <th>q_hat</th>\n",
       "      <th>coverage</th>\n",
       "      <th>avg_size</th>\n",
       "    </tr>\n",
       "  </thead>\n",
       "  <tbody>\n",
       "    <tr>\n",
       "      <th>0</th>\n",
       "      <td>bc55fec8ed17858622e9333788ea7a4b</td>\n",
       "      <td>2012_14</td>\n",
       "      <td>1k</td>\n",
       "      <td>do-not-scale</td>\n",
       "      <td>logreg</td>\n",
       "      <td>nationality-sex</td>\n",
       "      <td>drop-non-german</td>\n",
       "      <td>0.692697</td>\n",
       "      <td>0.911838</td>\n",
       "      <td>1.223409</td>\n",
       "    </tr>\n",
       "  </tbody>\n",
       "</table>\n",
       "</div>"
      ],
      "text/plain": [
       "                        universe_id universe_training_year  \\\n",
       "0  bc55fec8ed17858622e9333788ea7a4b                2012_14   \n",
       "\n",
       "  universe_training_size universe_scale universe_model  \\\n",
       "0                     1k   do-not-scale         logreg   \n",
       "\n",
       "  universe_exclude_features universe_exclude_subgroups     q_hat  coverage  \\\n",
       "0           nationality-sex            drop-non-german  0.692697  0.911838   \n",
       "\n",
       "   avg_size  \n",
       "0  1.223409  "
      ]
     },
     "execution_count": 50,
     "metadata": {},
     "output_type": "execute_result"
    }
   ],
   "source": [
    "cp_metrics_df"
   ]
  },
  {
   "cell_type": "markdown",
   "id": "ed608b0b",
   "metadata": {
    "papermill": {
     "duration": 0.01311,
     "end_time": "2025-08-19T19:01:18.822333",
     "exception": false,
     "start_time": "2025-08-19T19:01:18.809223",
     "status": "completed"
    },
    "tags": []
   },
   "source": [
    "Conditional coverage & looking at subgroups"
   ]
  },
  {
   "cell_type": "code",
   "execution_count": 51,
   "id": "8968c366",
   "metadata": {
    "execution": {
     "iopub.execute_input": "2025-08-19T19:01:18.850900Z",
     "iopub.status.busy": "2025-08-19T19:01:18.848809Z",
     "iopub.status.idle": "2025-08-19T19:01:19.154101Z",
     "shell.execute_reply": "2025-08-19T19:01:19.153288Z"
    },
    "papermill": {
     "duration": 0.322386,
     "end_time": "2025-08-19T19:01:19.156857",
     "exception": false,
     "start_time": "2025-08-19T19:01:18.834471",
     "status": "completed"
    },
    "tags": []
   },
   "outputs": [],
   "source": [
    "from fairness_multiverse.conformal import build_cp_groups\n",
    "\n",
    "cp_groups_df = build_cp_groups(pred_sets, y_true, X_test.index, org_test)"
   ]
  },
  {
   "cell_type": "code",
   "execution_count": 52,
   "id": "292ddabf",
   "metadata": {
    "execution": {
     "iopub.execute_input": "2025-08-19T19:01:19.201296Z",
     "iopub.status.busy": "2025-08-19T19:01:19.200099Z",
     "iopub.status.idle": "2025-08-19T19:01:20.107412Z",
     "shell.execute_reply": "2025-08-19T19:01:20.106140Z"
    },
    "papermill": {
     "duration": 0.924204,
     "end_time": "2025-08-19T19:01:20.109045",
     "exception": false,
     "start_time": "2025-08-19T19:01:19.184841",
     "status": "completed"
    },
    "tags": []
   },
   "outputs": [],
   "source": [
    "# Define covered = 1 if true_label is in the predicted set\n",
    "cp_groups_df['covered'] = cp_groups_df.apply(\n",
    "    lambda r: int(r['true_label'] in r['pred_set']),\n",
    "    axis=1\n",
    ")"
   ]
  },
  {
   "cell_type": "code",
   "execution_count": 53,
   "id": "3a261692",
   "metadata": {
    "execution": {
     "iopub.execute_input": "2025-08-19T19:01:20.157017Z",
     "iopub.status.busy": "2025-08-19T19:01:20.155607Z",
     "iopub.status.idle": "2025-08-19T19:01:20.180905Z",
     "shell.execute_reply": "2025-08-19T19:01:20.179663Z"
    },
    "papermill": {
     "duration": 0.057355,
     "end_time": "2025-08-19T19:01:20.183546",
     "exception": false,
     "start_time": "2025-08-19T19:01:20.126191",
     "status": "completed"
    },
    "tags": []
   },
   "outputs": [],
   "source": [
    "subgroups = ['frau1','nongerman','nongerman_male','nongerman_female']\n",
    "\n",
    "# Conditional coverage for subgroup==1\n",
    "cond_coverage = {\n",
    "    g: cp_groups_df.loc[cp_groups_df[g]==1, 'covered'].mean()\n",
    "    for g in subgroups\n",
    "}"
   ]
  },
  {
   "cell_type": "code",
   "execution_count": 54,
   "id": "894fd600",
   "metadata": {
    "execution": {
     "iopub.execute_input": "2025-08-19T19:01:20.228390Z",
     "iopub.status.busy": "2025-08-19T19:01:20.226778Z",
     "iopub.status.idle": "2025-08-19T19:01:20.238760Z",
     "shell.execute_reply": "2025-08-19T19:01:20.237548Z"
    },
    "papermill": {
     "duration": 0.029243,
     "end_time": "2025-08-19T19:01:20.240421",
     "exception": false,
     "start_time": "2025-08-19T19:01:20.211178",
     "status": "completed"
    },
    "tags": []
   },
   "outputs": [
    {
     "data": {
      "text/plain": [
       "{'frau1': 0.9105000673945276,\n",
       " 'nongerman': 0.9395385392690732,\n",
       " 'nongerman_male': 0.9498333783662073,\n",
       " 'nongerman_female': 0.9225037257824144}"
      ]
     },
     "execution_count": 54,
     "metadata": {},
     "output_type": "execute_result"
    }
   ],
   "source": [
    "cond_coverage"
   ]
  },
  {
   "cell_type": "code",
   "execution_count": 55,
   "id": "942895c7",
   "metadata": {
    "execution": {
     "iopub.execute_input": "2025-08-19T19:01:20.270404Z",
     "iopub.status.busy": "2025-08-19T19:01:20.268970Z",
     "iopub.status.idle": "2025-08-19T19:01:20.280836Z",
     "shell.execute_reply": "2025-08-19T19:01:20.279564Z"
    },
    "papermill": {
     "duration": 0.027215,
     "end_time": "2025-08-19T19:01:20.282338",
     "exception": false,
     "start_time": "2025-08-19T19:01:20.255123",
     "status": "completed"
    },
    "tags": []
   },
   "outputs": [],
   "source": [
    "for subgroup, cov in cond_coverage.items():\n",
    "    cp_metrics_df[f\"cov_{subgroup}\"] = cov"
   ]
  },
  {
   "cell_type": "code",
   "execution_count": 56,
   "id": "3970120f",
   "metadata": {
    "execution": {
     "iopub.execute_input": "2025-08-19T19:01:20.318348Z",
     "iopub.status.busy": "2025-08-19T19:01:20.316978Z",
     "iopub.status.idle": "2025-08-19T19:01:20.343527Z",
     "shell.execute_reply": "2025-08-19T19:01:20.342705Z"
    },
    "papermill": {
     "duration": 0.043624,
     "end_time": "2025-08-19T19:01:20.345289",
     "exception": false,
     "start_time": "2025-08-19T19:01:20.301665",
     "status": "completed"
    },
    "tags": []
   },
   "outputs": [
    {
     "data": {
      "text/html": [
       "<div>\n",
       "<style scoped>\n",
       "    .dataframe tbody tr th:only-of-type {\n",
       "        vertical-align: middle;\n",
       "    }\n",
       "\n",
       "    .dataframe tbody tr th {\n",
       "        vertical-align: top;\n",
       "    }\n",
       "\n",
       "    .dataframe thead th {\n",
       "        text-align: right;\n",
       "    }\n",
       "</style>\n",
       "<table border=\"1\" class=\"dataframe\">\n",
       "  <thead>\n",
       "    <tr style=\"text-align: right;\">\n",
       "      <th></th>\n",
       "      <th>universe_id</th>\n",
       "      <th>universe_training_year</th>\n",
       "      <th>universe_training_size</th>\n",
       "      <th>universe_scale</th>\n",
       "      <th>universe_model</th>\n",
       "      <th>universe_exclude_features</th>\n",
       "      <th>universe_exclude_subgroups</th>\n",
       "      <th>q_hat</th>\n",
       "      <th>coverage</th>\n",
       "      <th>avg_size</th>\n",
       "      <th>cov_frau1</th>\n",
       "      <th>cov_nongerman</th>\n",
       "      <th>cov_nongerman_male</th>\n",
       "      <th>cov_nongerman_female</th>\n",
       "    </tr>\n",
       "  </thead>\n",
       "  <tbody>\n",
       "    <tr>\n",
       "      <th>0</th>\n",
       "      <td>bc55fec8ed17858622e9333788ea7a4b</td>\n",
       "      <td>2012_14</td>\n",
       "      <td>1k</td>\n",
       "      <td>do-not-scale</td>\n",
       "      <td>logreg</td>\n",
       "      <td>nationality-sex</td>\n",
       "      <td>drop-non-german</td>\n",
       "      <td>0.692697</td>\n",
       "      <td>0.911838</td>\n",
       "      <td>1.223409</td>\n",
       "      <td>0.9105</td>\n",
       "      <td>0.939539</td>\n",
       "      <td>0.949833</td>\n",
       "      <td>0.922504</td>\n",
       "    </tr>\n",
       "  </tbody>\n",
       "</table>\n",
       "</div>"
      ],
      "text/plain": [
       "                        universe_id universe_training_year  \\\n",
       "0  bc55fec8ed17858622e9333788ea7a4b                2012_14   \n",
       "\n",
       "  universe_training_size universe_scale universe_model  \\\n",
       "0                     1k   do-not-scale         logreg   \n",
       "\n",
       "  universe_exclude_features universe_exclude_subgroups     q_hat  coverage  \\\n",
       "0           nationality-sex            drop-non-german  0.692697  0.911838   \n",
       "\n",
       "   avg_size  cov_frau1  cov_nongerman  cov_nongerman_male  \\\n",
       "0  1.223409     0.9105       0.939539            0.949833   \n",
       "\n",
       "   cov_nongerman_female  \n",
       "0              0.922504  "
      ]
     },
     "execution_count": 56,
     "metadata": {},
     "output_type": "execute_result"
    }
   ],
   "source": [
    "cp_metrics_df"
   ]
  },
  {
   "cell_type": "markdown",
   "id": "3fc519cc",
   "metadata": {
    "papermill": {
     "duration": 0.012892,
     "end_time": "2025-08-19T19:01:20.378002",
     "exception": false,
     "start_time": "2025-08-19T19:01:20.365110",
     "status": "completed"
    },
    "tags": []
   },
   "source": [
    "# (Fairness) Metrics"
   ]
  },
  {
   "cell_type": "code",
   "execution_count": 57,
   "id": "a2e5e155",
   "metadata": {
    "execution": {
     "iopub.execute_input": "2025-08-19T19:01:20.405381Z",
     "iopub.status.busy": "2025-08-19T19:01:20.404179Z",
     "iopub.status.idle": "2025-08-19T19:01:20.434395Z",
     "shell.execute_reply": "2025-08-19T19:01:20.433544Z"
    },
    "papermill": {
     "duration": 0.046451,
     "end_time": "2025-08-19T19:01:20.436664",
     "exception": false,
     "start_time": "2025-08-19T19:01:20.390213",
     "status": "completed"
    },
    "tags": []
   },
   "outputs": [],
   "source": [
    "colname_to_bin = \"maxdeutsch1\"\n",
    "majority_value = org_train[colname_to_bin].mode()[0]\n",
    "\n",
    "org_test[\"majmin\"] = np.where(org_test[colname_to_bin] == majority_value, \"majority\", \"minority\")"
   ]
  },
  {
   "cell_type": "code",
   "execution_count": 58,
   "id": "17e3e4d5",
   "metadata": {
    "execution": {
     "iopub.execute_input": "2025-08-19T19:01:20.481500Z",
     "iopub.status.busy": "2025-08-19T19:01:20.480195Z",
     "iopub.status.idle": "2025-08-19T19:01:22.248272Z",
     "shell.execute_reply": "2025-08-19T19:01:22.246986Z"
    },
    "papermill": {
     "duration": 1.785555,
     "end_time": "2025-08-19T19:01:22.250016",
     "exception": false,
     "start_time": "2025-08-19T19:01:20.464461",
     "status": "completed"
    },
    "tags": []
   },
   "outputs": [],
   "source": [
    "example_universe = universe.copy()\n",
    "example_universe[\"cutoff\"] = example_universe[\"cutoff\"][0]\n",
    "example_universe[\"eval_fairness_grouping\"] = example_universe[\"eval_fairness_grouping\"][0]\n",
    "fairness_dict, metric_frame = universe_analysis.compute_metrics(\n",
    "    example_universe,\n",
    "    y_pred_prob=probs_test,\n",
    "    y_test=y_true,\n",
    "    org_test=org_test,\n",
    ")"
   ]
  },
  {
   "cell_type": "markdown",
   "id": "1fb7a0e9",
   "metadata": {
    "papermill": {
     "duration": 0.013113,
     "end_time": "2025-08-19T19:01:22.277758",
     "exception": false,
     "start_time": "2025-08-19T19:01:22.264645",
     "status": "completed"
    },
    "tags": []
   },
   "source": [
    "# Overall"
   ]
  },
  {
   "cell_type": "markdown",
   "id": "be1784b1",
   "metadata": {
    "papermill": {
     "duration": 0.011996,
     "end_time": "2025-08-19T19:01:22.301889",
     "exception": false,
     "start_time": "2025-08-19T19:01:22.289893",
     "status": "completed"
    },
    "tags": []
   },
   "source": [
    "Main fairness target: Equalized Odds. Seems to be a better fit than equal opportunity, since we're not only interested in Y = 1. Seems to be a better fit than demographic parity, since we also care about accuracy, not just equal distribution of preds.\n",
    "\n",
    "Pick column for computation of fairness metrics\n",
    "\n",
    "Performance\n",
    "Overall performance measures, most interesting in relation to the measures split by group below"
   ]
  },
  {
   "cell_type": "code",
   "execution_count": 59,
   "id": "b7672bee",
   "metadata": {
    "execution": {
     "iopub.execute_input": "2025-08-19T19:01:22.329893Z",
     "iopub.status.busy": "2025-08-19T19:01:22.328536Z",
     "iopub.status.idle": "2025-08-19T19:01:22.344180Z",
     "shell.execute_reply": "2025-08-19T19:01:22.342933Z"
    },
    "papermill": {
     "duration": 0.031701,
     "end_time": "2025-08-19T19:01:22.345633",
     "exception": false,
     "start_time": "2025-08-19T19:01:22.313932",
     "status": "completed"
    },
    "tags": []
   },
   "outputs": [
    {
     "data": {
      "text/plain": [
       "accuracy                   0.212585\n",
       "balanced accuracy          0.522269\n",
       "f1                         0.234241\n",
       "precision                  0.133814\n",
       "false positive rate        0.894287\n",
       "false negative rate        0.061175\n",
       "selection rate             0.900000\n",
       "count                  89710.000000\n",
       "dtype: float64"
      ]
     },
     "execution_count": 59,
     "metadata": {},
     "output_type": "execute_result"
    }
   ],
   "source": [
    "metric_frame.overall"
   ]
  },
  {
   "cell_type": "markdown",
   "id": "d93333c9",
   "metadata": {
    "papermill": {
     "duration": 0.012416,
     "end_time": "2025-08-19T19:01:22.372609",
     "exception": false,
     "start_time": "2025-08-19T19:01:22.360193",
     "status": "completed"
    },
    "tags": []
   },
   "source": [
    "By Group"
   ]
  },
  {
   "cell_type": "code",
   "execution_count": 60,
   "id": "52256966",
   "metadata": {
    "execution": {
     "iopub.execute_input": "2025-08-19T19:01:22.399113Z",
     "iopub.status.busy": "2025-08-19T19:01:22.398679Z",
     "iopub.status.idle": "2025-08-19T19:01:22.415239Z",
     "shell.execute_reply": "2025-08-19T19:01:22.414441Z"
    },
    "papermill": {
     "duration": 0.031562,
     "end_time": "2025-08-19T19:01:22.416675",
     "exception": false,
     "start_time": "2025-08-19T19:01:22.385113",
     "status": "completed"
    },
    "tags": []
   },
   "outputs": [
    {
     "data": {
      "text/html": [
       "<div>\n",
       "<style scoped>\n",
       "    .dataframe tbody tr th:only-of-type {\n",
       "        vertical-align: middle;\n",
       "    }\n",
       "\n",
       "    .dataframe tbody tr th {\n",
       "        vertical-align: top;\n",
       "    }\n",
       "\n",
       "    .dataframe thead th {\n",
       "        text-align: right;\n",
       "    }\n",
       "</style>\n",
       "<table border=\"1\" class=\"dataframe\">\n",
       "  <thead>\n",
       "    <tr style=\"text-align: right;\">\n",
       "      <th></th>\n",
       "      <th>accuracy</th>\n",
       "      <th>balanced accuracy</th>\n",
       "      <th>f1</th>\n",
       "      <th>precision</th>\n",
       "      <th>false positive rate</th>\n",
       "      <th>false negative rate</th>\n",
       "      <th>selection rate</th>\n",
       "      <th>count</th>\n",
       "    </tr>\n",
       "    <tr>\n",
       "      <th>majmin</th>\n",
       "      <th></th>\n",
       "      <th></th>\n",
       "      <th></th>\n",
       "      <th></th>\n",
       "      <th></th>\n",
       "      <th></th>\n",
       "      <th></th>\n",
       "      <th></th>\n",
       "    </tr>\n",
       "  </thead>\n",
       "  <tbody>\n",
       "    <tr>\n",
       "      <th>majority</th>\n",
       "      <td>0.231300</td>\n",
       "      <td>0.527032</td>\n",
       "      <td>0.242071</td>\n",
       "      <td>0.139167</td>\n",
       "      <td>0.874929</td>\n",
       "      <td>0.071007</td>\n",
       "      <td>0.882073</td>\n",
       "      <td>69170.0</td>\n",
       "    </tr>\n",
       "    <tr>\n",
       "      <th>minority</th>\n",
       "      <td>0.149562</td>\n",
       "      <td>0.509271</td>\n",
       "      <td>0.209378</td>\n",
       "      <td>0.117256</td>\n",
       "      <td>0.958232</td>\n",
       "      <td>0.023226</td>\n",
       "      <td>0.960370</td>\n",
       "      <td>20540.0</td>\n",
       "    </tr>\n",
       "  </tbody>\n",
       "</table>\n",
       "</div>"
      ],
      "text/plain": [
       "          accuracy  balanced accuracy        f1  precision  \\\n",
       "majmin                                                       \n",
       "majority  0.231300           0.527032  0.242071   0.139167   \n",
       "minority  0.149562           0.509271  0.209378   0.117256   \n",
       "\n",
       "          false positive rate  false negative rate  selection rate    count  \n",
       "majmin                                                                       \n",
       "majority             0.874929             0.071007        0.882073  69170.0  \n",
       "minority             0.958232             0.023226        0.960370  20540.0  "
      ]
     },
     "execution_count": 60,
     "metadata": {},
     "output_type": "execute_result"
    }
   ],
   "source": [
    "metric_frame.by_group"
   ]
  },
  {
   "cell_type": "code",
   "execution_count": 61,
   "id": "6e6c20ae",
   "metadata": {
    "execution": {
     "iopub.execute_input": "2025-08-19T19:01:22.447813Z",
     "iopub.status.busy": "2025-08-19T19:01:22.447409Z",
     "iopub.status.idle": "2025-08-19T19:01:24.341029Z",
     "shell.execute_reply": "2025-08-19T19:01:24.340061Z"
    },
    "papermill": {
     "duration": 1.912086,
     "end_time": "2025-08-19T19:01:24.345798",
     "exception": false,
     "start_time": "2025-08-19T19:01:22.433712",
     "status": "completed"
    },
    "tags": []
   },
   "outputs": [
    {
     "data": {
      "text/plain": [
       "array([[<Axes: title={'center': 'accuracy'}, xlabel='majmin'>,\n",
       "        <Axes: title={'center': 'balanced accuracy'}, xlabel='majmin'>,\n",
       "        <Axes: title={'center': 'f1'}, xlabel='majmin'>],\n",
       "       [<Axes: title={'center': 'precision'}, xlabel='majmin'>,\n",
       "        <Axes: title={'center': 'false positive rate'}, xlabel='majmin'>,\n",
       "        <Axes: title={'center': 'false negative rate'}, xlabel='majmin'>],\n",
       "       [<Axes: title={'center': 'selection rate'}, xlabel='majmin'>,\n",
       "        <Axes: title={'center': 'count'}, xlabel='majmin'>,\n",
       "        <Axes: xlabel='majmin'>]], dtype=object)"
      ]
     },
     "execution_count": 61,
     "metadata": {},
     "output_type": "execute_result"
    },
    {
     "data": {
      "image/png": "[encoded data removed]",
      "text/plain": [
       "<Figure size 1200x800 with 9 Axes>"
      ]
     },
     "metadata": {},
     "output_type": "display_data"
    }
   ],
   "source": [
    "# In a graphic\n",
    "metric_frame.by_group.plot.bar(\n",
    "    subplots=True,\n",
    "    layout=[3, 3],\n",
    "    legend=False,\n",
    "    figsize=[12, 8],\n",
    "    title=\"Show all metrics\",\n",
    ")"
   ]
  },
  {
   "cell_type": "markdown",
   "id": "b2e433ae",
   "metadata": {
    "papermill": {
     "duration": 0.013837,
     "end_time": "2025-08-19T19:01:24.388416",
     "exception": false,
     "start_time": "2025-08-19T19:01:24.374579",
     "status": "completed"
    },
    "tags": []
   },
   "source": [
    "# Final Output"
   ]
  },
  {
   "cell_type": "code",
   "execution_count": 62,
   "id": "3871301e",
   "metadata": {
    "execution": {
     "iopub.execute_input": "2025-08-19T19:01:24.420532Z",
     "iopub.status.busy": "2025-08-19T19:01:24.418126Z",
     "iopub.status.idle": "2025-08-19T19:01:24.437104Z",
     "shell.execute_reply": "2025-08-19T19:01:24.436182Z"
    },
    "papermill": {
     "duration": 0.036802,
     "end_time": "2025-08-19T19:01:24.438787",
     "exception": false,
     "start_time": "2025-08-19T19:01:24.401985",
     "status": "completed"
    },
    "tags": []
   },
   "outputs": [
    {
     "data": {
      "text/plain": [
       "4"
      ]
     },
     "execution_count": 62,
     "metadata": {},
     "output_type": "execute_result"
    }
   ],
   "source": [
    "sub_universes = universe_analysis.generate_sub_universes()\n",
    "len(sub_universes)"
   ]
  },
  {
   "cell_type": "code",
   "execution_count": 63,
   "id": "d9cfdaca",
   "metadata": {
    "execution": {
     "iopub.execute_input": "2025-08-19T19:01:24.476964Z",
     "iopub.status.busy": "2025-08-19T19:01:24.476127Z",
     "iopub.status.idle": "2025-08-19T19:01:24.485423Z",
     "shell.execute_reply": "2025-08-19T19:01:24.484079Z"
    },
    "papermill": {
     "duration": 0.027121,
     "end_time": "2025-08-19T19:01:24.487063",
     "exception": false,
     "start_time": "2025-08-19T19:01:24.459942",
     "status": "completed"
    },
    "tags": []
   },
   "outputs": [],
   "source": [
    "def filter_sub_universe_data(sub_universe, org_test):\n",
    "    # Keep all rows — no filtering\n",
    "    keep_rows_mask = np.ones(org_test.shape[0], dtype=bool)\n",
    "\n",
    "    print(f\"[INFO] Keeping all rows: {keep_rows_mask.sum()} rows retained.\")\n",
    "    return keep_rows_mask"
   ]
  },
  {
   "cell_type": "code",
   "execution_count": 64,
   "id": "2bc31ac1",
   "metadata": {
    "execution": {
     "iopub.execute_input": "2025-08-19T19:01:24.521329Z",
     "iopub.status.busy": "2025-08-19T19:01:24.520132Z",
     "iopub.status.idle": "2025-08-19T19:01:31.517679Z",
     "shell.execute_reply": "2025-08-19T19:01:31.516619Z"
    },
    "papermill": {
     "duration": 7.014225,
     "end_time": "2025-08-19T19:01:31.518945",
     "exception": false,
     "start_time": "2025-08-19T19:01:24.504720",
     "status": "completed"
    },
    "tags": []
   },
   "outputs": [
    {
     "name": "stdout",
     "output_type": "stream",
     "text": [
      "Stopping execution_time clock.\n",
      "[INFO] Keeping all rows: 89710 rows retained.\n"
     ]
    },
    {
     "name": "stdout",
     "output_type": "stream",
     "text": [
      "[INFO] Keeping all rows: 89710 rows retained.\n"
     ]
    },
    {
     "name": "stdout",
     "output_type": "stream",
     "text": [
      "[INFO] Keeping all rows: 89710 rows retained.\n"
     ]
    },
    {
     "name": "stdout",
     "output_type": "stream",
     "text": [
      "[INFO] Keeping all rows: 89710 rows retained.\n"
     ]
    },
    {
     "data": {
      "text/html": [
       "<div>\n",
       "<style scoped>\n",
       "    .dataframe tbody tr th:only-of-type {\n",
       "        vertical-align: middle;\n",
       "    }\n",
       "\n",
       "    .dataframe tbody tr th {\n",
       "        vertical-align: top;\n",
       "    }\n",
       "\n",
       "    .dataframe thead th {\n",
       "        text-align: right;\n",
       "    }\n",
       "</style>\n",
       "<table border=\"1\" class=\"dataframe\">\n",
       "  <thead>\n",
       "    <tr style=\"text-align: right;\">\n",
       "      <th></th>\n",
       "      <th>run_no</th>\n",
       "      <th>universe_id</th>\n",
       "      <th>universe_settings</th>\n",
       "      <th>execution_time</th>\n",
       "      <th>test_size_n</th>\n",
       "      <th>test_size_frac</th>\n",
       "      <th>fair_main_equalized_odds_difference</th>\n",
       "      <th>fair_main_equalized_odds_ratio</th>\n",
       "      <th>fair_main_demographic_parity_difference</th>\n",
       "      <th>fair_main_demographic_parity_ratio</th>\n",
       "      <th>...</th>\n",
       "      <th>perf_grp_precision_0</th>\n",
       "      <th>perf_grp_precision_1</th>\n",
       "      <th>perf_grp_false positive rate_0</th>\n",
       "      <th>perf_grp_false positive rate_1</th>\n",
       "      <th>perf_grp_false negative rate_0</th>\n",
       "      <th>perf_grp_false negative rate_1</th>\n",
       "      <th>perf_grp_selection rate_0</th>\n",
       "      <th>perf_grp_selection rate_1</th>\n",
       "      <th>perf_grp_count_0</th>\n",
       "      <th>perf_grp_count_1</th>\n",
       "    </tr>\n",
       "  </thead>\n",
       "  <tbody>\n",
       "    <tr>\n",
       "      <th>0</th>\n",
       "      <td>3</td>\n",
       "      <td>bc55fec8ed17858622e9333788ea7a4b</td>\n",
       "      <td>{\"cutoff\": \"quantile_0.1\", \"eval_fairness_grou...</td>\n",
       "      <td>22.4893</td>\n",
       "      <td>89710</td>\n",
       "      <td>1.0</td>\n",
       "      <td>0.083303</td>\n",
       "      <td>0.913066</td>\n",
       "      <td>0.078297</td>\n",
       "      <td>0.918472</td>\n",
       "      <td>...</td>\n",
       "      <td>NaN</td>\n",
       "      <td>NaN</td>\n",
       "      <td>NaN</td>\n",
       "      <td>NaN</td>\n",
       "      <td>NaN</td>\n",
       "      <td>NaN</td>\n",
       "      <td>NaN</td>\n",
       "      <td>NaN</td>\n",
       "      <td>NaN</td>\n",
       "      <td>NaN</td>\n",
       "    </tr>\n",
       "    <tr>\n",
       "      <th>0</th>\n",
       "      <td>3</td>\n",
       "      <td>bc55fec8ed17858622e9333788ea7a4b</td>\n",
       "      <td>{\"cutoff\": \"quantile_0.1\", \"eval_fairness_grou...</td>\n",
       "      <td>22.4893</td>\n",
       "      <td>89710</td>\n",
       "      <td>1.0</td>\n",
       "      <td>0.083303</td>\n",
       "      <td>0.913066</td>\n",
       "      <td>0.078297</td>\n",
       "      <td>0.918472</td>\n",
       "      <td>...</td>\n",
       "      <td>0.117256</td>\n",
       "      <td>0.139167</td>\n",
       "      <td>0.958232</td>\n",
       "      <td>0.874929</td>\n",
       "      <td>0.023226</td>\n",
       "      <td>0.071007</td>\n",
       "      <td>0.960370</td>\n",
       "      <td>0.882073</td>\n",
       "      <td>20540.0</td>\n",
       "      <td>69170.0</td>\n",
       "    </tr>\n",
       "    <tr>\n",
       "      <th>0</th>\n",
       "      <td>3</td>\n",
       "      <td>bc55fec8ed17858622e9333788ea7a4b</td>\n",
       "      <td>{\"cutoff\": \"quantile_0.25\", \"eval_fairness_gro...</td>\n",
       "      <td>22.4893</td>\n",
       "      <td>89710</td>\n",
       "      <td>1.0</td>\n",
       "      <td>0.210820</td>\n",
       "      <td>0.764852</td>\n",
       "      <td>0.196191</td>\n",
       "      <td>0.782316</td>\n",
       "      <td>...</td>\n",
       "      <td>NaN</td>\n",
       "      <td>NaN</td>\n",
       "      <td>NaN</td>\n",
       "      <td>NaN</td>\n",
       "      <td>NaN</td>\n",
       "      <td>NaN</td>\n",
       "      <td>NaN</td>\n",
       "      <td>NaN</td>\n",
       "      <td>NaN</td>\n",
       "      <td>NaN</td>\n",
       "    </tr>\n",
       "    <tr>\n",
       "      <th>0</th>\n",
       "      <td>3</td>\n",
       "      <td>bc55fec8ed17858622e9333788ea7a4b</td>\n",
       "      <td>{\"cutoff\": \"quantile_0.25\", \"eval_fairness_gro...</td>\n",
       "      <td>22.4893</td>\n",
       "      <td>89710</td>\n",
       "      <td>1.0</td>\n",
       "      <td>0.210820</td>\n",
       "      <td>0.764852</td>\n",
       "      <td>0.196191</td>\n",
       "      <td>0.782316</td>\n",
       "      <td>...</td>\n",
       "      <td>0.119922</td>\n",
       "      <td>0.155957</td>\n",
       "      <td>0.896544</td>\n",
       "      <td>0.685724</td>\n",
       "      <td>0.062500</td>\n",
       "      <td>0.167834</td>\n",
       "      <td>0.901266</td>\n",
       "      <td>0.705074</td>\n",
       "      <td>20540.0</td>\n",
       "      <td>69170.0</td>\n",
       "    </tr>\n",
       "  </tbody>\n",
       "</table>\n",
       "<p>4 rows × 50 columns</p>\n",
       "</div>"
      ],
      "text/plain": [
       "  run_no                       universe_id  \\\n",
       "0      3  bc55fec8ed17858622e9333788ea7a4b   \n",
       "0      3  bc55fec8ed17858622e9333788ea7a4b   \n",
       "0      3  bc55fec8ed17858622e9333788ea7a4b   \n",
       "0      3  bc55fec8ed17858622e9333788ea7a4b   \n",
       "\n",
       "                                   universe_settings  execution_time  \\\n",
       "0  {\"cutoff\": \"quantile_0.1\", \"eval_fairness_grou...         22.4893   \n",
       "0  {\"cutoff\": \"quantile_0.1\", \"eval_fairness_grou...         22.4893   \n",
       "0  {\"cutoff\": \"quantile_0.25\", \"eval_fairness_gro...         22.4893   \n",
       "0  {\"cutoff\": \"quantile_0.25\", \"eval_fairness_gro...         22.4893   \n",
       "\n",
       "   test_size_n  test_size_frac  fair_main_equalized_odds_difference  \\\n",
       "0        89710             1.0                             0.083303   \n",
       "0        89710             1.0                             0.083303   \n",
       "0        89710             1.0                             0.210820   \n",
       "0        89710             1.0                             0.210820   \n",
       "\n",
       "   fair_main_equalized_odds_ratio  fair_main_demographic_parity_difference  \\\n",
       "0                        0.913066                                 0.078297   \n",
       "0                        0.913066                                 0.078297   \n",
       "0                        0.764852                                 0.196191   \n",
       "0                        0.764852                                 0.196191   \n",
       "\n",
       "   fair_main_demographic_parity_ratio  ...  perf_grp_precision_0  \\\n",
       "0                            0.918472  ...                   NaN   \n",
       "0                            0.918472  ...              0.117256   \n",
       "0                            0.782316  ...                   NaN   \n",
       "0                            0.782316  ...              0.119922   \n",
       "\n",
       "   perf_grp_precision_1  perf_grp_false positive rate_0  \\\n",
       "0                   NaN                             NaN   \n",
       "0              0.139167                        0.958232   \n",
       "0                   NaN                             NaN   \n",
       "0              0.155957                        0.896544   \n",
       "\n",
       "   perf_grp_false positive rate_1  perf_grp_false negative rate_0  \\\n",
       "0                             NaN                             NaN   \n",
       "0                        0.874929                        0.023226   \n",
       "0                             NaN                             NaN   \n",
       "0                        0.685724                        0.062500   \n",
       "\n",
       "   perf_grp_false negative rate_1  perf_grp_selection rate_0  \\\n",
       "0                             NaN                        NaN   \n",
       "0                        0.071007                   0.960370   \n",
       "0                             NaN                        NaN   \n",
       "0                        0.167834                   0.901266   \n",
       "\n",
       "   perf_grp_selection rate_1  perf_grp_count_0  perf_grp_count_1  \n",
       "0                        NaN               NaN               NaN  \n",
       "0                   0.882073           20540.0           69170.0  \n",
       "0                        NaN               NaN               NaN  \n",
       "0                   0.705074           20540.0           69170.0  \n",
       "\n",
       "[4 rows x 50 columns]"
      ]
     },
     "execution_count": 64,
     "metadata": {},
     "output_type": "execute_result"
    }
   ],
   "source": [
    "final_output = universe_analysis.generate_final_output(\n",
    "    y_pred_prob=probs_test,\n",
    "    y_test=y_true,\n",
    "    org_test=org_test,\n",
    "    filter_data=filter_sub_universe_data,\n",
    "    cp_metrics_df=cp_metrics_df,\n",
    "    save=True,\n",
    ")\n",
    "final_output"
   ]
  },
  {
   "cell_type": "code",
   "execution_count": null,
   "id": "8b80a1ff",
   "metadata": {
    "papermill": {
     "duration": 0.014582,
     "end_time": "2025-08-19T19:01:31.550922",
     "exception": false,
     "start_time": "2025-08-19T19:01:31.536340",
     "status": "completed"
    },
    "tags": []
   },
   "outputs": [],
   "source": []
  },
  {
   "cell_type": "code",
   "execution_count": null,
   "id": "275c9fad",
   "metadata": {
    "papermill": {
     "duration": 0.014293,
     "end_time": "2025-08-19T19:01:31.579480",
     "exception": false,
     "start_time": "2025-08-19T19:01:31.565187",
     "status": "completed"
    },
    "tags": []
   },
   "outputs": [],
   "source": []
  }
 ],
 "metadata": {
  "celltoolbar": "Tags",
  "kernelspec": {
   "display_name": "Python (CMA Fairness)",
   "language": "python",
   "name": "cma_fair_env"
  },
  "language_info": {
   "codemirror_mode": {
    "name": "ipython",
    "version": 3
   },
   "file_extension": ".py",
   "mimetype": "text/x-python",
   "name": "python",
   "nbconvert_exporter": "python",
   "pygments_lexer": "ipython3",
   "version": "3.10.12"
  },
  "papermill": {
   "default_parameters": {},
   "duration": 33.395736,
   "end_time": "2025-08-19T19:01:32.517260",
   "environment_variables": {},
   "exception": null,
   "input_path": "universe_analysis.ipynb",
   "output_path": "output/runs/3/notebooks/m_3-bc55fec8ed17858622e9333788ea7a4b.ipynb",
   "parameters": {
    "output_dir": "output",
    "run_no": "3",
    "seed": "2023",
    "universe": "{\"cutoff\": [\"quantile_0.1\", \"quantile_0.25\"], \"eval_fairness_grouping\": [\"majority-minority\", \"nationality-all\"], \"exclude_features\": \"nationality-sex\", \"exclude_subgroups\": \"drop-non-german\", \"model\": \"logreg\", \"scale\": \"do-not-scale\", \"training_size\": \"1k\", \"training_year\": \"2012_14\"}",
    "universe_id": "bc55fec8ed17858622e9333788ea7a4b"
   },
   "start_time": "2025-08-19T19:00:59.121524",
   "version": "2.6.0"
  }
 },
 "nbformat": 4,
 "nbformat_minor": 5
}