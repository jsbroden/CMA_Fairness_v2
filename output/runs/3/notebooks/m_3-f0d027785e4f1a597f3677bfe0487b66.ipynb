{
 "cells": [
  {
   "cell_type": "markdown",
   "id": "ef23dbb3",
   "metadata": {
    "papermill": {
     "duration": 0.021689,
     "end_time": "2025-08-19T19:06:56.353713",
     "exception": false,
     "start_time": "2025-08-19T19:06:56.332024",
     "status": "completed"
    },
    "tags": []
   },
   "source": [
    "# Setup"
   ]
  },
  {
   "cell_type": "code",
   "execution_count": 1,
   "id": "0bc8e7dc",
   "metadata": {
    "execution": {
     "iopub.execute_input": "2025-08-19T19:06:56.376354Z",
     "iopub.status.busy": "2025-08-19T19:06:56.376049Z",
     "iopub.status.idle": "2025-08-19T19:06:56.385467Z",
     "shell.execute_reply": "2025-08-19T19:06:56.384802Z"
    },
    "papermill": {
     "duration": 0.023057,
     "end_time": "2025-08-19T19:06:56.388694",
     "exception": false,
     "start_time": "2025-08-19T19:06:56.365637",
     "status": "completed"
    },
    "tags": []
   },
   "outputs": [
    {
     "name": "stdout",
     "output_type": "stream",
     "text": [
      "/dss/dsshome1/0C/ra93lal2/cma/CMA_Fairness_v2\n"
     ]
    },
    {
     "name": "stderr",
     "output_type": "stream",
     "text": [
      "/dss/dsshome1/0C/ra93lal2/.local/share/virtualenvs/CMA_Fairness_v2-3j10GkSs/lib/python3.10/site-packages/IPython/core/magics/osm.py:393: UserWarning: This is now an optional IPython functionality, using bookmarks requires you to install the `pickleshare` library.\n",
      "  bkms = self.shell.db.get('bookmarks', {})\n",
      "/dss/dsshome1/0C/ra93lal2/.local/share/virtualenvs/CMA_Fairness_v2-3j10GkSs/lib/python3.10/site-packages/IPython/core/magics/osm.py:417: UserWarning: This is now an optional IPython functionality, setting dhist requires you to install the `pickleshare` library.\n",
      "  self.shell.db['dhist'] = compress_dhist(dhist)[-100:]\n"
     ]
    }
   ],
   "source": [
    "%cd ~/cma/CMA_Fairness_v2"
   ]
  },
  {
   "cell_type": "markdown",
   "id": "9d235661",
   "metadata": {
    "papermill": {
     "duration": 0.008773,
     "end_time": "2025-08-19T19:06:56.409159",
     "exception": false,
     "start_time": "2025-08-19T19:06:56.400386",
     "status": "completed"
    },
    "tags": []
   },
   "source": [
    "The following cell holds the definition of our parameters, these values can be overriden by rendering the with e.g. the following command:\n",
    "\n",
    "papermill -p alpha 0.2 -p ratio 0.3 universe_analysis.ipynb output/test_run.ipynb"
   ]
  },
  {
   "cell_type": "code",
   "execution_count": 2,
   "id": "4a789d8e",
   "metadata": {
    "execution": {
     "iopub.execute_input": "2025-08-19T19:06:56.430066Z",
     "iopub.status.busy": "2025-08-19T19:06:56.429294Z",
     "iopub.status.idle": "2025-08-19T19:06:56.436857Z",
     "shell.execute_reply": "2025-08-19T19:06:56.435407Z"
    },
    "papermill": {
     "duration": 0.020184,
     "end_time": "2025-08-19T19:06:56.438478",
     "exception": false,
     "start_time": "2025-08-19T19:06:56.418294",
     "status": "completed"
    },
    "tags": []
   },
   "outputs": [
    {
     "name": "stdout",
     "output_type": "stream",
     "text": [
      "Current working directory: /dss/dsshome1/0C/ra93lal2/cma/CMA_Fairness_v2\n"
     ]
    }
   ],
   "source": [
    "import os\n",
    "print(\"Current working directory:\", os.getcwd())"
   ]
  },
  {
   "cell_type": "code",
   "execution_count": 3,
   "id": "4132aaed",
   "metadata": {
    "execution": {
     "iopub.execute_input": "2025-08-19T19:06:56.459064Z",
     "iopub.status.busy": "2025-08-19T19:06:56.458293Z",
     "iopub.status.idle": "2025-08-19T19:06:56.584373Z",
     "shell.execute_reply": "2025-08-19T19:06:56.582525Z"
    },
    "papermill": {
     "duration": 0.140674,
     "end_time": "2025-08-19T19:06:56.588156",
     "exception": false,
     "start_time": "2025-08-19T19:06:56.447482",
     "status": "completed"
    },
    "tags": [
     "parameters"
    ]
   },
   "outputs": [],
   "source": [
    "run_no = 0\n",
    "universe_id = \"test\"\n",
    "universe = {\n",
    "    \"training_size\": \"5k\", # \"25k\", \"5k\", \"1k\"\n",
    "    \"training_year\": \"2012_14\", # \"2014\", \"2012_14\", \"2010_14\"\n",
    "    \"scale\": \"scale\", # \"scale\", \"do-not-scale\",\n",
    "    \"model\": \"elasticnet\", # \"logreg\", \"penalized_logreg\", \"rf\", \"gbm\", \"elasticnet\"\n",
    "    \"cutoff\": [\"quantile_0.15\", \"quantile_0.30\"],\n",
    "    \"exclude_features\": \"age\", # \"none\", \"nationality\", \"sex\", \"nationality-sex\", \"age\"\n",
    "    \"exclude_subgroups\": \"drop-non-german\", # \"keep-all\", \"drop-non-german\"\n",
    "    \"eval_fairness_grouping\": [\"majority-minority\", \"nationality-all\"]\n",
    "}\n",
    "\n",
    "output_dir=\"./output\"\n",
    "seed=0"
   ]
  },
  {
   "cell_type": "code",
   "execution_count": 4,
   "id": "313656d0",
   "metadata": {
    "execution": {
     "iopub.execute_input": "2025-08-19T19:06:56.622149Z",
     "iopub.status.busy": "2025-08-19T19:06:56.621463Z",
     "iopub.status.idle": "2025-08-19T19:06:56.632250Z",
     "shell.execute_reply": "2025-08-19T19:06:56.630989Z"
    },
    "papermill": {
     "duration": 0.025892,
     "end_time": "2025-08-19T19:06:56.633973",
     "exception": false,
     "start_time": "2025-08-19T19:06:56.608081",
     "status": "completed"
    },
    "tags": [
     "injected-parameters"
    ]
   },
   "outputs": [],
   "source": [
    "# Parameters\n",
    "universe_id = \"f0d027785e4f1a597f3677bfe0487b66\"\n",
    "run_no = \"3\"\n",
    "universe = \"{\\\"cutoff\\\": [\\\"quantile_0.1\\\", \\\"quantile_0.25\\\"], \\\"eval_fairness_grouping\\\": [\\\"majority-minority\\\", \\\"nationality-all\\\"], \\\"exclude_features\\\": \\\"nationality\\\", \\\"exclude_subgroups\\\": \\\"keep-all\\\", \\\"model\\\": \\\"gbm\\\", \\\"scale\\\": \\\"scale\\\", \\\"training_size\\\": \\\"1k\\\", \\\"training_year\\\": \\\"2010_14\\\"}\"\n",
    "output_dir = \"output\"\n",
    "seed = \"2023\"\n"
   ]
  },
  {
   "cell_type": "code",
   "execution_count": 5,
   "id": "a5d7941f",
   "metadata": {
    "execution": {
     "iopub.execute_input": "2025-08-19T19:06:56.662987Z",
     "iopub.status.busy": "2025-08-19T19:06:56.661618Z",
     "iopub.status.idle": "2025-08-19T19:06:56.669029Z",
     "shell.execute_reply": "2025-08-19T19:06:56.667901Z"
    },
    "papermill": {
     "duration": 0.024681,
     "end_time": "2025-08-19T19:06:56.670489",
     "exception": false,
     "start_time": "2025-08-19T19:06:56.645808",
     "status": "completed"
    },
    "tags": []
   },
   "outputs": [],
   "source": [
    "import json\n",
    "if isinstance(universe, str):\n",
    "    universe = json.loads(universe)"
   ]
  },
  {
   "cell_type": "code",
   "execution_count": 6,
   "id": "7076ccb1",
   "metadata": {
    "execution": {
     "iopub.execute_input": "2025-08-19T19:06:56.691972Z",
     "iopub.status.busy": "2025-08-19T19:06:56.691624Z",
     "iopub.status.idle": "2025-08-19T19:06:56.732288Z",
     "shell.execute_reply": "2025-08-19T19:06:56.731643Z"
    },
    "papermill": {
     "duration": 0.052271,
     "end_time": "2025-08-19T19:06:56.733965",
     "exception": false,
     "start_time": "2025-08-19T19:06:56.681694",
     "status": "completed"
    },
    "tags": []
   },
   "outputs": [],
   "source": [
    "# Auto-reload the custom package\n",
    "%load_ext autoreload\n",
    "%autoreload 1\n",
    "%aimport fairness_multiverse"
   ]
  },
  {
   "cell_type": "code",
   "execution_count": 7,
   "id": "94c8eb93",
   "metadata": {
    "execution": {
     "iopub.execute_input": "2025-08-19T19:06:56.754392Z",
     "iopub.status.busy": "2025-08-19T19:06:56.753793Z",
     "iopub.status.idle": "2025-08-19T19:06:58.388235Z",
     "shell.execute_reply": "2025-08-19T19:06:58.387482Z"
    },
    "papermill": {
     "duration": 1.646308,
     "end_time": "2025-08-19T19:06:58.389925",
     "exception": false,
     "start_time": "2025-08-19T19:06:56.743617",
     "status": "completed"
    },
    "tags": []
   },
   "outputs": [],
   "source": [
    "from fairness_multiverse.universe import UniverseAnalysis\n",
    "\n",
    "universe_analysis = UniverseAnalysis(\n",
    "    run_no = run_no,\n",
    "    universe_id = universe_id,\n",
    "    universe = universe,\n",
    "    output_dir=output_dir,\n",
    ")"
   ]
  },
  {
   "cell_type": "code",
   "execution_count": 8,
   "id": "2a6381cf",
   "metadata": {
    "execution": {
     "iopub.execute_input": "2025-08-19T19:06:58.427344Z",
     "iopub.status.busy": "2025-08-19T19:06:58.426376Z",
     "iopub.status.idle": "2025-08-19T19:06:58.437145Z",
     "shell.execute_reply": "2025-08-19T19:06:58.435836Z"
    },
    "papermill": {
     "duration": 0.037154,
     "end_time": "2025-08-19T19:06:58.439038",
     "exception": false,
     "start_time": "2025-08-19T19:06:58.401884",
     "status": "completed"
    },
    "tags": []
   },
   "outputs": [
    {
     "name": "stdout",
     "output_type": "stream",
     "text": [
      "Using Seed: 2023\n"
     ]
    }
   ],
   "source": [
    "import numpy as np\n",
    "parsed_seed = int(seed)\n",
    "np.random.seed(parsed_seed)\n",
    "print(f\"Using Seed: {parsed_seed}\")"
   ]
  },
  {
   "cell_type": "markdown",
   "id": "b6e958b4",
   "metadata": {
    "papermill": {
     "duration": 0.022947,
     "end_time": "2025-08-19T19:06:58.483774",
     "exception": false,
     "start_time": "2025-08-19T19:06:58.460827",
     "status": "completed"
    },
    "tags": []
   },
   "source": [
    "# Loading Data"
   ]
  },
  {
   "cell_type": "code",
   "execution_count": 9,
   "id": "98701482",
   "metadata": {
    "execution": {
     "iopub.execute_input": "2025-08-19T19:06:58.507072Z",
     "iopub.status.busy": "2025-08-19T19:06:58.506645Z",
     "iopub.status.idle": "2025-08-19T19:07:08.329890Z",
     "shell.execute_reply": "2025-08-19T19:07:08.328903Z"
    },
    "papermill": {
     "duration": 9.834934,
     "end_time": "2025-08-19T19:07:08.331183",
     "exception": false,
     "start_time": "2025-08-19T19:06:58.496249",
     "status": "completed"
    },
    "tags": []
   },
   "outputs": [
    {
     "name": "stdout",
     "output_type": "stream",
     "text": [
      "Loading SIAB data from cache: data/siab_cached.csv.gz\n"
     ]
    },
    {
     "name": "stdout",
     "output_type": "stream",
     "text": [
      "(643690, 164)\n"
     ]
    }
   ],
   "source": [
    "from pathlib import Path\n",
    "import pandas as pd\n",
    "\n",
    "# File paths\n",
    "raw_file = Path(\"data/raw/siab.csv\")\n",
    "cache_file = Path(\"data/siab_cached.csv.gz\")\n",
    "\n",
    "# Ensure cache directory exists\n",
    "cache_file.parent.mkdir(parents=True, exist_ok=True)\n",
    "\n",
    "# Load with simple caching\n",
    "if cache_file.exists():\n",
    "    print(f\"Loading SIAB data from cache: {cache_file}\")\n",
    "    siab = pd.read_csv(cache_file, compression='gzip')\n",
    "else:\n",
    "    print(f\"Cache not found. Reading raw SIAB data: {raw_file}\")\n",
    "    siab = pd.read_csv(raw_file)\n",
    "    siab.to_csv(cache_file, index=False, compression='gzip')\n",
    "    print(f\"Cached SIAB data to: {cache_file}\")\n",
    "\n",
    "print(siab.shape)"
   ]
  },
  {
   "cell_type": "code",
   "execution_count": 10,
   "id": "058d2abb",
   "metadata": {
    "execution": {
     "iopub.execute_input": "2025-08-19T19:07:08.357015Z",
     "iopub.status.busy": "2025-08-19T19:07:08.356001Z",
     "iopub.status.idle": "2025-08-19T19:07:08.530160Z",
     "shell.execute_reply": "2025-08-19T19:07:08.529292Z"
    },
    "papermill": {
     "duration": 0.190124,
     "end_time": "2025-08-19T19:07:08.533541",
     "exception": false,
     "start_time": "2025-08-19T19:07:08.343417",
     "status": "completed"
    },
    "tags": []
   },
   "outputs": [
    {
     "data": {
      "text/html": [
       "<div>\n",
       "<style scoped>\n",
       "    .dataframe tbody tr th:only-of-type {\n",
       "        vertical-align: middle;\n",
       "    }\n",
       "\n",
       "    .dataframe tbody tr th {\n",
       "        vertical-align: top;\n",
       "    }\n",
       "\n",
       "    .dataframe thead th {\n",
       "        text-align: right;\n",
       "    }\n",
       "</style>\n",
       "<table border=\"1\" class=\"dataframe\">\n",
       "  <thead>\n",
       "    <tr style=\"text-align: right;\">\n",
       "      <th></th>\n",
       "      <th>persnr</th>\n",
       "      <th>year</th>\n",
       "      <th>nrEntry</th>\n",
       "      <th>ltue</th>\n",
       "      <th>employed_before</th>\n",
       "      <th>receipt_leh_before</th>\n",
       "      <th>receipt_lhg_before</th>\n",
       "      <th>se_before</th>\n",
       "      <th>ASU_notue_seeking_before</th>\n",
       "      <th>ASU_other_before</th>\n",
       "      <th>...</th>\n",
       "      <th>minijob_tot_dur_byage</th>\n",
       "      <th>ft_tot_dur_byage</th>\n",
       "      <th>befrist_tot_dur_byage</th>\n",
       "      <th>leih_tot_dur_byage</th>\n",
       "      <th>LHG_tot_dur_byage</th>\n",
       "      <th>LEH_tot_dur_byage</th>\n",
       "      <th>almp_tot_dur_byage</th>\n",
       "      <th>almp_aw_tot_dur_byage</th>\n",
       "      <th>se_tot_dur_byage</th>\n",
       "      <th>seeking1_tot_dur_byage</th>\n",
       "    </tr>\n",
       "  </thead>\n",
       "  <tbody>\n",
       "    <tr>\n",
       "      <th>0</th>\n",
       "      <td>7</td>\n",
       "      <td>2015</td>\n",
       "      <td>1</td>\n",
       "      <td>0</td>\n",
       "      <td>1</td>\n",
       "      <td>0</td>\n",
       "      <td>0</td>\n",
       "      <td>0</td>\n",
       "      <td>1</td>\n",
       "      <td>0</td>\n",
       "      <td>...</td>\n",
       "      <td>0.000000</td>\n",
       "      <td>0.000000</td>\n",
       "      <td>15.043478</td>\n",
       "      <td>0.000000</td>\n",
       "      <td>0.000000</td>\n",
       "      <td>0.000000</td>\n",
       "      <td>0.000000</td>\n",
       "      <td>0.000000</td>\n",
       "      <td>0.000000</td>\n",
       "      <td>0.000000</td>\n",
       "    </tr>\n",
       "    <tr>\n",
       "      <th>1</th>\n",
       "      <td>18</td>\n",
       "      <td>2010</td>\n",
       "      <td>1</td>\n",
       "      <td>1</td>\n",
       "      <td>0</td>\n",
       "      <td>0</td>\n",
       "      <td>0</td>\n",
       "      <td>0</td>\n",
       "      <td>0</td>\n",
       "      <td>0</td>\n",
       "      <td>...</td>\n",
       "      <td>0.000000</td>\n",
       "      <td>0.000000</td>\n",
       "      <td>0.000000</td>\n",
       "      <td>0.000000</td>\n",
       "      <td>0.000000</td>\n",
       "      <td>0.000000</td>\n",
       "      <td>0.000000</td>\n",
       "      <td>0.000000</td>\n",
       "      <td>0.000000</td>\n",
       "      <td>0.000000</td>\n",
       "    </tr>\n",
       "    <tr>\n",
       "      <th>2</th>\n",
       "      <td>18</td>\n",
       "      <td>2011</td>\n",
       "      <td>2</td>\n",
       "      <td>0</td>\n",
       "      <td>1</td>\n",
       "      <td>0</td>\n",
       "      <td>1</td>\n",
       "      <td>0</td>\n",
       "      <td>1</td>\n",
       "      <td>0</td>\n",
       "      <td>...</td>\n",
       "      <td>2.714286</td>\n",
       "      <td>2.714286</td>\n",
       "      <td>0.000000</td>\n",
       "      <td>0.000000</td>\n",
       "      <td>10.775510</td>\n",
       "      <td>0.000000</td>\n",
       "      <td>8.367347</td>\n",
       "      <td>0.000000</td>\n",
       "      <td>0.000000</td>\n",
       "      <td>9.836735</td>\n",
       "    </tr>\n",
       "    <tr>\n",
       "      <th>3</th>\n",
       "      <td>18</td>\n",
       "      <td>2012</td>\n",
       "      <td>3</td>\n",
       "      <td>0</td>\n",
       "      <td>1</td>\n",
       "      <td>0</td>\n",
       "      <td>1</td>\n",
       "      <td>0</td>\n",
       "      <td>1</td>\n",
       "      <td>0</td>\n",
       "      <td>...</td>\n",
       "      <td>4.200000</td>\n",
       "      <td>4.200000</td>\n",
       "      <td>0.000000</td>\n",
       "      <td>0.000000</td>\n",
       "      <td>12.100000</td>\n",
       "      <td>0.000000</td>\n",
       "      <td>9.400000</td>\n",
       "      <td>0.000000</td>\n",
       "      <td>0.000000</td>\n",
       "      <td>9.960000</td>\n",
       "    </tr>\n",
       "    <tr>\n",
       "      <th>4</th>\n",
       "      <td>18</td>\n",
       "      <td>2012</td>\n",
       "      <td>4</td>\n",
       "      <td>0</td>\n",
       "      <td>1</td>\n",
       "      <td>0</td>\n",
       "      <td>1</td>\n",
       "      <td>0</td>\n",
       "      <td>1</td>\n",
       "      <td>0</td>\n",
       "      <td>...</td>\n",
       "      <td>5.460000</td>\n",
       "      <td>5.460000</td>\n",
       "      <td>0.000000</td>\n",
       "      <td>0.000000</td>\n",
       "      <td>13.360000</td>\n",
       "      <td>0.000000</td>\n",
       "      <td>10.320000</td>\n",
       "      <td>0.000000</td>\n",
       "      <td>0.000000</td>\n",
       "      <td>10.280000</td>\n",
       "    </tr>\n",
       "    <tr>\n",
       "      <th>...</th>\n",
       "      <td>...</td>\n",
       "      <td>...</td>\n",
       "      <td>...</td>\n",
       "      <td>...</td>\n",
       "      <td>...</td>\n",
       "      <td>...</td>\n",
       "      <td>...</td>\n",
       "      <td>...</td>\n",
       "      <td>...</td>\n",
       "      <td>...</td>\n",
       "      <td>...</td>\n",
       "      <td>...</td>\n",
       "      <td>...</td>\n",
       "      <td>...</td>\n",
       "      <td>...</td>\n",
       "      <td>...</td>\n",
       "      <td>...</td>\n",
       "      <td>...</td>\n",
       "      <td>...</td>\n",
       "      <td>...</td>\n",
       "      <td>...</td>\n",
       "    </tr>\n",
       "    <tr>\n",
       "      <th>643685</th>\n",
       "      <td>1827860</td>\n",
       "      <td>2013</td>\n",
       "      <td>1</td>\n",
       "      <td>0</td>\n",
       "      <td>0</td>\n",
       "      <td>0</td>\n",
       "      <td>1</td>\n",
       "      <td>0</td>\n",
       "      <td>0</td>\n",
       "      <td>1</td>\n",
       "      <td>...</td>\n",
       "      <td>0.000000</td>\n",
       "      <td>0.000000</td>\n",
       "      <td>0.000000</td>\n",
       "      <td>0.000000</td>\n",
       "      <td>0.612903</td>\n",
       "      <td>0.000000</td>\n",
       "      <td>0.000000</td>\n",
       "      <td>0.000000</td>\n",
       "      <td>0.000000</td>\n",
       "      <td>0.000000</td>\n",
       "    </tr>\n",
       "    <tr>\n",
       "      <th>643686</th>\n",
       "      <td>1827860</td>\n",
       "      <td>2015</td>\n",
       "      <td>2</td>\n",
       "      <td>1</td>\n",
       "      <td>0</td>\n",
       "      <td>0</td>\n",
       "      <td>1</td>\n",
       "      <td>0</td>\n",
       "      <td>1</td>\n",
       "      <td>0</td>\n",
       "      <td>...</td>\n",
       "      <td>0.000000</td>\n",
       "      <td>0.000000</td>\n",
       "      <td>0.212121</td>\n",
       "      <td>0.212121</td>\n",
       "      <td>17.363636</td>\n",
       "      <td>0.000000</td>\n",
       "      <td>8.909091</td>\n",
       "      <td>0.000000</td>\n",
       "      <td>0.000000</td>\n",
       "      <td>7.121212</td>\n",
       "    </tr>\n",
       "    <tr>\n",
       "      <th>643687</th>\n",
       "      <td>1827860</td>\n",
       "      <td>2016</td>\n",
       "      <td>3</td>\n",
       "      <td>1</td>\n",
       "      <td>0</td>\n",
       "      <td>0</td>\n",
       "      <td>1</td>\n",
       "      <td>1</td>\n",
       "      <td>0</td>\n",
       "      <td>1</td>\n",
       "      <td>...</td>\n",
       "      <td>0.000000</td>\n",
       "      <td>0.000000</td>\n",
       "      <td>0.294118</td>\n",
       "      <td>0.205882</td>\n",
       "      <td>34.705882</td>\n",
       "      <td>0.000000</td>\n",
       "      <td>10.352941</td>\n",
       "      <td>1.705882</td>\n",
       "      <td>1.705882</td>\n",
       "      <td>23.911765</td>\n",
       "    </tr>\n",
       "    <tr>\n",
       "      <th>643688</th>\n",
       "      <td>1827869</td>\n",
       "      <td>2013</td>\n",
       "      <td>1</td>\n",
       "      <td>1</td>\n",
       "      <td>1</td>\n",
       "      <td>0</td>\n",
       "      <td>0</td>\n",
       "      <td>0</td>\n",
       "      <td>1</td>\n",
       "      <td>0</td>\n",
       "      <td>...</td>\n",
       "      <td>0.000000</td>\n",
       "      <td>0.000000</td>\n",
       "      <td>0.000000</td>\n",
       "      <td>0.000000</td>\n",
       "      <td>0.000000</td>\n",
       "      <td>0.525424</td>\n",
       "      <td>0.000000</td>\n",
       "      <td>0.000000</td>\n",
       "      <td>0.000000</td>\n",
       "      <td>0.000000</td>\n",
       "    </tr>\n",
       "    <tr>\n",
       "      <th>643689</th>\n",
       "      <td>1827869</td>\n",
       "      <td>2014</td>\n",
       "      <td>2</td>\n",
       "      <td>0</td>\n",
       "      <td>0</td>\n",
       "      <td>1</td>\n",
       "      <td>0</td>\n",
       "      <td>0</td>\n",
       "      <td>1</td>\n",
       "      <td>0</td>\n",
       "      <td>...</td>\n",
       "      <td>0.000000</td>\n",
       "      <td>0.666667</td>\n",
       "      <td>0.666667</td>\n",
       "      <td>0.000000</td>\n",
       "      <td>0.000000</td>\n",
       "      <td>8.950000</td>\n",
       "      <td>1.033333</td>\n",
       "      <td>0.083333</td>\n",
       "      <td>0.083333</td>\n",
       "      <td>8.133333</td>\n",
       "    </tr>\n",
       "  </tbody>\n",
       "</table>\n",
       "<p>643690 rows × 164 columns</p>\n",
       "</div>"
      ],
      "text/plain": [
       "         persnr  year  nrEntry  ltue  employed_before  receipt_leh_before  \\\n",
       "0             7  2015        1     0                1                   0   \n",
       "1            18  2010        1     1                0                   0   \n",
       "2            18  2011        2     0                1                   0   \n",
       "3            18  2012        3     0                1                   0   \n",
       "4            18  2012        4     0                1                   0   \n",
       "...         ...   ...      ...   ...              ...                 ...   \n",
       "643685  1827860  2013        1     0                0                   0   \n",
       "643686  1827860  2015        2     1                0                   0   \n",
       "643687  1827860  2016        3     1                0                   0   \n",
       "643688  1827869  2013        1     1                1                   0   \n",
       "643689  1827869  2014        2     0                0                   1   \n",
       "\n",
       "        receipt_lhg_before  se_before  ASU_notue_seeking_before  \\\n",
       "0                        0          0                         1   \n",
       "1                        0          0                         0   \n",
       "2                        1          0                         1   \n",
       "3                        1          0                         1   \n",
       "4                        1          0                         1   \n",
       "...                    ...        ...                       ...   \n",
       "643685                   1          0                         0   \n",
       "643686                   1          0                         1   \n",
       "643687                   1          1                         0   \n",
       "643688                   0          0                         1   \n",
       "643689                   0          0                         1   \n",
       "\n",
       "        ASU_other_before  ...  minijob_tot_dur_byage  ft_tot_dur_byage  \\\n",
       "0                      0  ...               0.000000          0.000000   \n",
       "1                      0  ...               0.000000          0.000000   \n",
       "2                      0  ...               2.714286          2.714286   \n",
       "3                      0  ...               4.200000          4.200000   \n",
       "4                      0  ...               5.460000          5.460000   \n",
       "...                  ...  ...                    ...               ...   \n",
       "643685                 1  ...               0.000000          0.000000   \n",
       "643686                 0  ...               0.000000          0.000000   \n",
       "643687                 1  ...               0.000000          0.000000   \n",
       "643688                 0  ...               0.000000          0.000000   \n",
       "643689                 0  ...               0.000000          0.666667   \n",
       "\n",
       "        befrist_tot_dur_byage  leih_tot_dur_byage  LHG_tot_dur_byage  \\\n",
       "0                   15.043478            0.000000           0.000000   \n",
       "1                    0.000000            0.000000           0.000000   \n",
       "2                    0.000000            0.000000          10.775510   \n",
       "3                    0.000000            0.000000          12.100000   \n",
       "4                    0.000000            0.000000          13.360000   \n",
       "...                       ...                 ...                ...   \n",
       "643685               0.000000            0.000000           0.612903   \n",
       "643686               0.212121            0.212121          17.363636   \n",
       "643687               0.294118            0.205882          34.705882   \n",
       "643688               0.000000            0.000000           0.000000   \n",
       "643689               0.666667            0.000000           0.000000   \n",
       "\n",
       "        LEH_tot_dur_byage  almp_tot_dur_byage  almp_aw_tot_dur_byage  \\\n",
       "0                0.000000            0.000000               0.000000   \n",
       "1                0.000000            0.000000               0.000000   \n",
       "2                0.000000            8.367347               0.000000   \n",
       "3                0.000000            9.400000               0.000000   \n",
       "4                0.000000           10.320000               0.000000   \n",
       "...                   ...                 ...                    ...   \n",
       "643685           0.000000            0.000000               0.000000   \n",
       "643686           0.000000            8.909091               0.000000   \n",
       "643687           0.000000           10.352941               1.705882   \n",
       "643688           0.525424            0.000000               0.000000   \n",
       "643689           8.950000            1.033333               0.083333   \n",
       "\n",
       "        se_tot_dur_byage  seeking1_tot_dur_byage  \n",
       "0               0.000000                0.000000  \n",
       "1               0.000000                0.000000  \n",
       "2               0.000000                9.836735  \n",
       "3               0.000000                9.960000  \n",
       "4               0.000000               10.280000  \n",
       "...                  ...                     ...  \n",
       "643685          0.000000                0.000000  \n",
       "643686          0.000000                7.121212  \n",
       "643687          1.705882               23.911765  \n",
       "643688          0.000000                0.000000  \n",
       "643689          0.083333                8.133333  \n",
       "\n",
       "[643690 rows x 164 columns]"
      ]
     },
     "execution_count": 10,
     "metadata": {},
     "output_type": "execute_result"
    }
   ],
   "source": [
    "siab"
   ]
  },
  {
   "cell_type": "markdown",
   "id": "1f87e805",
   "metadata": {
    "papermill": {
     "duration": 0.012389,
     "end_time": "2025-08-19T19:07:08.568285",
     "exception": false,
     "start_time": "2025-08-19T19:07:08.555896",
     "status": "completed"
    },
    "tags": []
   },
   "source": [
    "# Splitting Data and Setting Training Data Size"
   ]
  },
  {
   "cell_type": "code",
   "execution_count": 11,
   "id": "910ae358",
   "metadata": {
    "execution": {
     "iopub.execute_input": "2025-08-19T19:07:08.591550Z",
     "iopub.status.busy": "2025-08-19T19:07:08.590422Z",
     "iopub.status.idle": "2025-08-19T19:07:09.670085Z",
     "shell.execute_reply": "2025-08-19T19:07:09.669042Z"
    },
    "papermill": {
     "duration": 1.093171,
     "end_time": "2025-08-19T19:07:09.671738",
     "exception": false,
     "start_time": "2025-08-19T19:07:08.578567",
     "status": "completed"
    },
    "tags": []
   },
   "outputs": [],
   "source": [
    "from fairness_multiverse.universe import sample_by_year_size\n",
    "\n",
    "siab_train = sample_by_year_size(siab,\n",
    "                               training_year=universe[\"training_year\"],\n",
    "                               training_size=universe[\"training_size\"])"
   ]
  },
  {
   "cell_type": "code",
   "execution_count": 12,
   "id": "919c8ff5",
   "metadata": {
    "execution": {
     "iopub.execute_input": "2025-08-19T19:07:09.696108Z",
     "iopub.status.busy": "2025-08-19T19:07:09.695199Z",
     "iopub.status.idle": "2025-08-19T19:07:09.706376Z",
     "shell.execute_reply": "2025-08-19T19:07:09.705462Z"
    },
    "papermill": {
     "duration": 0.02564,
     "end_time": "2025-08-19T19:07:09.707791",
     "exception": false,
     "start_time": "2025-08-19T19:07:09.682151",
     "status": "completed"
    },
    "tags": []
   },
   "outputs": [
    {
     "data": {
      "text/plain": [
       "(1000, 164)"
      ]
     },
     "execution_count": 12,
     "metadata": {},
     "output_type": "execute_result"
    }
   ],
   "source": [
    "siab_train.shape"
   ]
  },
  {
   "cell_type": "code",
   "execution_count": 13,
   "id": "feb13bf4",
   "metadata": {
    "execution": {
     "iopub.execute_input": "2025-08-19T19:07:09.731857Z",
     "iopub.status.busy": "2025-08-19T19:07:09.731248Z",
     "iopub.status.idle": "2025-08-19T19:07:09.755241Z",
     "shell.execute_reply": "2025-08-19T19:07:09.754477Z"
    },
    "papermill": {
     "duration": 0.037635,
     "end_time": "2025-08-19T19:07:09.757085",
     "exception": false,
     "start_time": "2025-08-19T19:07:09.719450",
     "status": "completed"
    },
    "tags": []
   },
   "outputs": [
    {
     "data": {
      "text/plain": [
       "year\n",
       "2010    200\n",
       "2011    200\n",
       "2012    200\n",
       "2013    200\n",
       "2014    200\n",
       "dtype: int64"
      ]
     },
     "metadata": {},
     "output_type": "display_data"
    }
   ],
   "source": [
    "display(siab_train.groupby(\"year\").size())"
   ]
  },
  {
   "cell_type": "code",
   "execution_count": 14,
   "id": "0997782f",
   "metadata": {
    "execution": {
     "iopub.execute_input": "2025-08-19T19:07:09.785432Z",
     "iopub.status.busy": "2025-08-19T19:07:09.785041Z",
     "iopub.status.idle": "2025-08-19T19:07:10.054168Z",
     "shell.execute_reply": "2025-08-19T19:07:10.053322Z"
    },
    "papermill": {
     "duration": 0.282324,
     "end_time": "2025-08-19T19:07:10.055678",
     "exception": false,
     "start_time": "2025-08-19T19:07:09.773354",
     "status": "completed"
    },
    "tags": []
   },
   "outputs": [],
   "source": [
    "#siab_train = siab_s[siab_s.year < 2015]\n",
    "siab_calib = siab[siab.year == 2015]\n",
    "siab_test = siab[siab.year == 2016]"
   ]
  },
  {
   "cell_type": "code",
   "execution_count": 15,
   "id": "2c1e4012",
   "metadata": {
    "execution": {
     "iopub.execute_input": "2025-08-19T19:07:10.086425Z",
     "iopub.status.busy": "2025-08-19T19:07:10.085401Z",
     "iopub.status.idle": "2025-08-19T19:07:10.091878Z",
     "shell.execute_reply": "2025-08-19T19:07:10.090687Z"
    },
    "papermill": {
     "duration": 0.020752,
     "end_time": "2025-08-19T19:07:10.094206",
     "exception": false,
     "start_time": "2025-08-19T19:07:10.073454",
     "status": "completed"
    },
    "tags": []
   },
   "outputs": [],
   "source": [
    "#siab_calib.shape"
   ]
  },
  {
   "cell_type": "code",
   "execution_count": 16,
   "id": "f66b54ca",
   "metadata": {
    "execution": {
     "iopub.execute_input": "2025-08-19T19:07:10.120187Z",
     "iopub.status.busy": "2025-08-19T19:07:10.119425Z",
     "iopub.status.idle": "2025-08-19T19:07:10.124658Z",
     "shell.execute_reply": "2025-08-19T19:07:10.123648Z"
    },
    "papermill": {
     "duration": 0.020376,
     "end_time": "2025-08-19T19:07:10.125933",
     "exception": false,
     "start_time": "2025-08-19T19:07:10.105557",
     "status": "completed"
    },
    "tags": []
   },
   "outputs": [],
   "source": [
    "#siab_test.shape"
   ]
  },
  {
   "cell_type": "code",
   "execution_count": 17,
   "id": "27e4384d",
   "metadata": {
    "execution": {
     "iopub.execute_input": "2025-08-19T19:07:10.150091Z",
     "iopub.status.busy": "2025-08-19T19:07:10.149700Z",
     "iopub.status.idle": "2025-08-19T19:07:10.156683Z",
     "shell.execute_reply": "2025-08-19T19:07:10.155925Z"
    },
    "papermill": {
     "duration": 0.020122,
     "end_time": "2025-08-19T19:07:10.158220",
     "exception": false,
     "start_time": "2025-08-19T19:07:10.138098",
     "status": "completed"
    },
    "tags": []
   },
   "outputs": [],
   "source": [
    "X_train = siab_train.iloc[:,4:164]\n",
    "y_train = siab_train.iloc[:, [3]]"
   ]
  },
  {
   "cell_type": "code",
   "execution_count": 18,
   "id": "08ee8389",
   "metadata": {
    "execution": {
     "iopub.execute_input": "2025-08-19T19:07:10.182653Z",
     "iopub.status.busy": "2025-08-19T19:07:10.182253Z",
     "iopub.status.idle": "2025-08-19T19:07:10.237504Z",
     "shell.execute_reply": "2025-08-19T19:07:10.236611Z"
    },
    "papermill": {
     "duration": 0.068684,
     "end_time": "2025-08-19T19:07:10.239039",
     "exception": false,
     "start_time": "2025-08-19T19:07:10.170355",
     "status": "completed"
    },
    "tags": []
   },
   "outputs": [],
   "source": [
    "X_calib = siab_calib.iloc[:,4:164]\n",
    "y_calib = siab_calib.iloc[:, [3]]"
   ]
  },
  {
   "cell_type": "code",
   "execution_count": 19,
   "id": "b7ff42e0",
   "metadata": {
    "execution": {
     "iopub.execute_input": "2025-08-19T19:07:10.275933Z",
     "iopub.status.busy": "2025-08-19T19:07:10.275210Z",
     "iopub.status.idle": "2025-08-19T19:07:10.337371Z",
     "shell.execute_reply": "2025-08-19T19:07:10.336603Z"
    },
    "papermill": {
     "duration": 0.085457,
     "end_time": "2025-08-19T19:07:10.339265",
     "exception": false,
     "start_time": "2025-08-19T19:07:10.253808",
     "status": "completed"
    },
    "tags": []
   },
   "outputs": [],
   "source": [
    "X_test = siab_test.iloc[:,4:164]\n",
    "y_true = siab_test.iloc[:, [3]]"
   ]
  },
  {
   "cell_type": "code",
   "execution_count": 20,
   "id": "0275101e",
   "metadata": {
    "execution": {
     "iopub.execute_input": "2025-08-19T19:07:10.365137Z",
     "iopub.status.busy": "2025-08-19T19:07:10.364025Z",
     "iopub.status.idle": "2025-08-19T19:07:10.487389Z",
     "shell.execute_reply": "2025-08-19T19:07:10.486630Z"
    },
    "papermill": {
     "duration": 0.137131,
     "end_time": "2025-08-19T19:07:10.489084",
     "exception": false,
     "start_time": "2025-08-19T19:07:10.351953",
     "status": "completed"
    },
    "tags": []
   },
   "outputs": [],
   "source": [
    "# Auxiliary data needed downstream in the pipeline\n",
    "\n",
    "org_train = X_train.copy()\n",
    "org_test = X_test.copy()\n",
    "org_calib = X_calib.copy()"
   ]
  },
  {
   "cell_type": "markdown",
   "id": "b461e618",
   "metadata": {
    "papermill": {
     "duration": 0.011018,
     "end_time": "2025-08-19T19:07:10.512115",
     "exception": false,
     "start_time": "2025-08-19T19:07:10.501097",
     "status": "completed"
    },
    "tags": []
   },
   "source": [
    "# Preprocessing Data"
   ]
  },
  {
   "cell_type": "code",
   "execution_count": 21,
   "id": "78e74c4b",
   "metadata": {
    "execution": {
     "iopub.execute_input": "2025-08-19T19:07:10.534209Z",
     "iopub.status.busy": "2025-08-19T19:07:10.533822Z",
     "iopub.status.idle": "2025-08-19T19:07:10.538569Z",
     "shell.execute_reply": "2025-08-19T19:07:10.537905Z"
    },
    "papermill": {
     "duration": 0.017433,
     "end_time": "2025-08-19T19:07:10.539867",
     "exception": false,
     "start_time": "2025-08-19T19:07:10.522434",
     "status": "completed"
    },
    "tags": []
   },
   "outputs": [],
   "source": [
    "# EXCLUDE PROTECTED FEATURES\n",
    "# --------------------------\n",
    "\n",
    "excluded_features = universe[\"exclude_features\"].split(\"-\")\n",
    "excluded_features_dictionary = {\n",
    "    \"nationality\": [\"maxdeutsch1\", \"maxdeutsch.Missing.\"],\n",
    "    \"sex\": [\"frau1\"],\n",
    "    \"age\": [\"age\"],\n",
    "}"
   ]
  },
  {
   "cell_type": "code",
   "execution_count": 22,
   "id": "f8e63555",
   "metadata": {
    "execution": {
     "iopub.execute_input": "2025-08-19T19:07:10.564603Z",
     "iopub.status.busy": "2025-08-19T19:07:10.564183Z",
     "iopub.status.idle": "2025-08-19T19:07:10.570227Z",
     "shell.execute_reply": "2025-08-19T19:07:10.568893Z"
    },
    "papermill": {
     "duration": 0.021434,
     "end_time": "2025-08-19T19:07:10.571610",
     "exception": false,
     "start_time": "2025-08-19T19:07:10.550176",
     "status": "completed"
    },
    "tags": []
   },
   "outputs": [],
   "source": [
    "excluded_features_columns = [\n",
    "    excluded_features_dictionary[f] for f in excluded_features if len(f) > 0 and f != \"none\"\n",
    "]"
   ]
  },
  {
   "cell_type": "code",
   "execution_count": 23,
   "id": "da781f7c",
   "metadata": {
    "execution": {
     "iopub.execute_input": "2025-08-19T19:07:10.593674Z",
     "iopub.status.busy": "2025-08-19T19:07:10.593251Z",
     "iopub.status.idle": "2025-08-19T19:07:10.716362Z",
     "shell.execute_reply": "2025-08-19T19:07:10.714759Z"
    },
    "papermill": {
     "duration": 0.137446,
     "end_time": "2025-08-19T19:07:10.719609",
     "exception": false,
     "start_time": "2025-08-19T19:07:10.582163",
     "status": "completed"
    },
    "tags": []
   },
   "outputs": [],
   "source": [
    "from fairness_multiverse.universe import flatten_once\n",
    "\n",
    "excluded_features_columns = flatten_once(excluded_features_columns)"
   ]
  },
  {
   "cell_type": "code",
   "execution_count": 24,
   "id": "37fef0f0",
   "metadata": {
    "execution": {
     "iopub.execute_input": "2025-08-19T19:07:10.760379Z",
     "iopub.status.busy": "2025-08-19T19:07:10.759299Z",
     "iopub.status.idle": "2025-08-19T19:07:10.815537Z",
     "shell.execute_reply": "2025-08-19T19:07:10.814063Z"
    },
    "papermill": {
     "duration": 0.081994,
     "end_time": "2025-08-19T19:07:10.820717",
     "exception": false,
     "start_time": "2025-08-19T19:07:10.738723",
     "status": "completed"
    },
    "tags": []
   },
   "outputs": [
    {
     "name": "stdout",
     "output_type": "stream",
     "text": [
      "Dropping features: ['maxdeutsch1', 'maxdeutsch.Missing.']\n"
     ]
    }
   ],
   "source": [
    "if len(excluded_features_columns) > 0:\n",
    "    print(f\"Dropping features: {excluded_features_columns}\")\n",
    "    X_train.drop(excluded_features_columns, axis=1, inplace=True)"
   ]
  },
  {
   "cell_type": "code",
   "execution_count": 25,
   "id": "d029e3e9",
   "metadata": {
    "execution": {
     "iopub.execute_input": "2025-08-19T19:07:10.865916Z",
     "iopub.status.busy": "2025-08-19T19:07:10.864809Z",
     "iopub.status.idle": "2025-08-19T19:07:10.961842Z",
     "shell.execute_reply": "2025-08-19T19:07:10.960892Z"
    },
    "papermill": {
     "duration": 0.113412,
     "end_time": "2025-08-19T19:07:10.964626",
     "exception": false,
     "start_time": "2025-08-19T19:07:10.851214",
     "status": "completed"
    },
    "tags": []
   },
   "outputs": [
    {
     "name": "stdout",
     "output_type": "stream",
     "text": [
      "Dropping features: ['maxdeutsch1', 'maxdeutsch.Missing.']\n"
     ]
    }
   ],
   "source": [
    "if len(excluded_features_columns) > 0:\n",
    "    print(f\"Dropping features: {excluded_features_columns}\")\n",
    "    X_test.drop(excluded_features_columns, axis=1, inplace=True)"
   ]
  },
  {
   "cell_type": "code",
   "execution_count": 26,
   "id": "01d571f0",
   "metadata": {
    "execution": {
     "iopub.execute_input": "2025-08-19T19:07:11.003021Z",
     "iopub.status.busy": "2025-08-19T19:07:11.001795Z",
     "iopub.status.idle": "2025-08-19T19:07:11.098326Z",
     "shell.execute_reply": "2025-08-19T19:07:11.097466Z"
    },
    "papermill": {
     "duration": 0.113933,
     "end_time": "2025-08-19T19:07:11.101681",
     "exception": false,
     "start_time": "2025-08-19T19:07:10.987748",
     "status": "completed"
    },
    "tags": []
   },
   "outputs": [
    {
     "name": "stdout",
     "output_type": "stream",
     "text": [
      "Dropping features: ['maxdeutsch1', 'maxdeutsch.Missing.']\n"
     ]
    }
   ],
   "source": [
    "if len(excluded_features_columns) > 0:\n",
    "    print(f\"Dropping features: {excluded_features_columns}\")\n",
    "    X_calib.drop(excluded_features_columns, axis=1, inplace=True)"
   ]
  },
  {
   "cell_type": "code",
   "execution_count": 27,
   "id": "3037356e",
   "metadata": {
    "execution": {
     "iopub.execute_input": "2025-08-19T19:07:11.137122Z",
     "iopub.status.busy": "2025-08-19T19:07:11.136064Z",
     "iopub.status.idle": "2025-08-19T19:07:11.457232Z",
     "shell.execute_reply": "2025-08-19T19:07:11.456432Z"
    },
    "papermill": {
     "duration": 0.335973,
     "end_time": "2025-08-19T19:07:11.459005",
     "exception": false,
     "start_time": "2025-08-19T19:07:11.123032",
     "status": "completed"
    },
    "tags": []
   },
   "outputs": [],
   "source": [
    "# EXCLUDE CERTAIN SUBGROUPS\n",
    "# -------------------------\n",
    "\n",
    "mode = universe.get(\"exclude_subgroups\", \"keep-all\") # Defaults to \"keep-all\" if the key is missing."
   ]
  },
  {
   "cell_type": "code",
   "execution_count": 28,
   "id": "9d1e63fd",
   "metadata": {
    "execution": {
     "iopub.execute_input": "2025-08-19T19:07:11.487802Z",
     "iopub.status.busy": "2025-08-19T19:07:11.487424Z",
     "iopub.status.idle": "2025-08-19T19:07:11.493335Z",
     "shell.execute_reply": "2025-08-19T19:07:11.492448Z"
    },
    "papermill": {
     "duration": 0.024015,
     "end_time": "2025-08-19T19:07:11.494480",
     "exception": false,
     "start_time": "2025-08-19T19:07:11.470465",
     "status": "completed"
    },
    "tags": []
   },
   "outputs": [],
   "source": [
    "if mode == \"keep-all\":\n",
    "    keep_mask = pd.Series(True, index=org_train.index)\n",
    "\n",
    "elif mode == \"drop-non-german\":\n",
    "    keep_mask = (org_train[\"maxdeutsch1\"] == 1) & (org_train[\"maxdeutsch.Missing.\"] == 0)\n",
    "\n",
    "else:\n",
    "    raise ValueError(f\"Unsupported mode for exclude_subgroups: {mode}\")"
   ]
  },
  {
   "cell_type": "code",
   "execution_count": 29,
   "id": "d3b65474",
   "metadata": {
    "execution": {
     "iopub.execute_input": "2025-08-19T19:07:11.556353Z",
     "iopub.status.busy": "2025-08-19T19:07:11.555711Z",
     "iopub.status.idle": "2025-08-19T19:07:11.563932Z",
     "shell.execute_reply": "2025-08-19T19:07:11.562729Z"
    },
    "papermill": {
     "duration": 0.042785,
     "end_time": "2025-08-19T19:07:11.565331",
     "exception": false,
     "start_time": "2025-08-19T19:07:11.522546",
     "status": "completed"
    },
    "tags": []
   },
   "outputs": [],
   "source": [
    "n_drop = (~keep_mask).sum() # Calculates how many rows are set to be dropped\n",
    "if n_drop > 0:\n",
    "    pct = n_drop / len(keep_mask) * 100\n",
    "    print(f\"Dropping {n_drop} rows ({pct:.2f}%) where mode='{mode}'\")"
   ]
  },
  {
   "cell_type": "code",
   "execution_count": 30,
   "id": "f44389b3",
   "metadata": {
    "execution": {
     "iopub.execute_input": "2025-08-19T19:07:11.591040Z",
     "iopub.status.busy": "2025-08-19T19:07:11.590096Z",
     "iopub.status.idle": "2025-08-19T19:07:11.603629Z",
     "shell.execute_reply": "2025-08-19T19:07:11.601884Z"
    },
    "papermill": {
     "duration": 0.027971,
     "end_time": "2025-08-19T19:07:11.605571",
     "exception": false,
     "start_time": "2025-08-19T19:07:11.577600",
     "status": "completed"
    },
    "tags": []
   },
   "outputs": [],
   "source": [
    "X_train = X_train[keep_mask]"
   ]
  },
  {
   "cell_type": "code",
   "execution_count": 31,
   "id": "ceca8c2a",
   "metadata": {
    "execution": {
     "iopub.execute_input": "2025-08-19T19:07:11.634140Z",
     "iopub.status.busy": "2025-08-19T19:07:11.633228Z",
     "iopub.status.idle": "2025-08-19T19:07:11.642535Z",
     "shell.execute_reply": "2025-08-19T19:07:11.640922Z"
    },
    "papermill": {
     "duration": 0.024331,
     "end_time": "2025-08-19T19:07:11.644569",
     "exception": false,
     "start_time": "2025-08-19T19:07:11.620238",
     "status": "completed"
    },
    "tags": []
   },
   "outputs": [],
   "source": [
    "y_train = y_train[keep_mask]"
   ]
  },
  {
   "cell_type": "markdown",
   "id": "04d31e2f",
   "metadata": {
    "papermill": {
     "duration": 0.022229,
     "end_time": "2025-08-19T19:07:11.680976",
     "exception": false,
     "start_time": "2025-08-19T19:07:11.658747",
     "status": "completed"
    },
    "tags": []
   },
   "source": [
    "# Model Training"
   ]
  },
  {
   "cell_type": "code",
   "execution_count": 32,
   "id": "db991733",
   "metadata": {
    "execution": {
     "iopub.execute_input": "2025-08-19T19:07:11.712425Z",
     "iopub.status.busy": "2025-08-19T19:07:11.712041Z",
     "iopub.status.idle": "2025-08-19T19:07:11.804056Z",
     "shell.execute_reply": "2025-08-19T19:07:11.803406Z"
    },
    "papermill": {
     "duration": 0.105051,
     "end_time": "2025-08-19T19:07:11.805515",
     "exception": false,
     "start_time": "2025-08-19T19:07:11.700464",
     "status": "completed"
    },
    "tags": []
   },
   "outputs": [],
   "source": [
    "from sklearn.linear_model import LogisticRegression\n",
    "from sklearn.ensemble import GradientBoostingClassifier, RandomForestClassifier\n",
    "\n",
    "if (universe[\"model\"] == \"logreg\"):\n",
    "    model = LogisticRegression() #penalty=\"none\", solver=\"newton-cg\", max_iter=1)\n",
    "elif (universe[\"model\"] == \"penalized_logreg\"):\n",
    "    model = LogisticRegression(penalty=\"l2\", C=0.1) #, solver=\"newton-cg\", max_iter=1)\n",
    "elif (universe[\"model\"] == \"rf\"):\n",
    "    model = RandomForestClassifier() # n_estimators=100, n_jobs=-1\n",
    "elif (universe[\"model\"] == \"gbm\"):\n",
    "    model = GradientBoostingClassifier()\n",
    "elif (universe[\"model\"] == \"elasticnet\"):\n",
    "    model = LogisticRegression(penalty = 'elasticnet', solver = 'saga', l1_ratio = 0.5) # max_iter=5000\n",
    "else:\n",
    "    raise \"Unsupported universe.model\""
   ]
  },
  {
   "cell_type": "code",
   "execution_count": 33,
   "id": "a4b5cd25",
   "metadata": {
    "execution": {
     "iopub.execute_input": "2025-08-19T19:07:11.829344Z",
     "iopub.status.busy": "2025-08-19T19:07:11.828833Z",
     "iopub.status.idle": "2025-08-19T19:07:11.834184Z",
     "shell.execute_reply": "2025-08-19T19:07:11.833633Z"
    },
    "papermill": {
     "duration": 0.018753,
     "end_time": "2025-08-19T19:07:11.835360",
     "exception": false,
     "start_time": "2025-08-19T19:07:11.816607",
     "status": "completed"
    },
    "tags": []
   },
   "outputs": [],
   "source": [
    "from sklearn.pipeline import Pipeline\n",
    "from sklearn.preprocessing import StandardScaler\n",
    "\n",
    "model = Pipeline([\n",
    "    #(\"continuous_processor\", continuous_processor),\n",
    "    #(\"categorical_preprocessor\", categorical_preprocessor),\n",
    "    (\"scale\", StandardScaler() if universe[\"scale\"] == \"scale\" else None), \n",
    "    (\"model\", model),\n",
    "])"
   ]
  },
  {
   "cell_type": "code",
   "execution_count": 34,
   "id": "283a904d",
   "metadata": {
    "execution": {
     "iopub.execute_input": "2025-08-19T19:07:11.857904Z",
     "iopub.status.busy": "2025-08-19T19:07:11.857565Z",
     "iopub.status.idle": "2025-08-19T19:07:12.801291Z",
     "shell.execute_reply": "2025-08-19T19:07:12.800353Z"
    },
    "papermill": {
     "duration": 0.956673,
     "end_time": "2025-08-19T19:07:12.802887",
     "exception": false,
     "start_time": "2025-08-19T19:07:11.846214",
     "status": "completed"
    },
    "tags": []
   },
   "outputs": [
    {
     "data": {
      "text/html": [
       "<style>#sk-container-id-1 {color: black;background-color: white;}#sk-container-id-1 pre{padding: 0;}#sk-container-id-1 div.sk-toggleable {background-color: white;}#sk-container-id-1 label.sk-toggleable__label {cursor: pointer;display: block;width: 100%;margin-bottom: 0;padding: 0.3em;box-sizing: border-box;text-align: center;}#sk-container-id-1 label.sk-toggleable__label-arrow:before {content: \"▸\";float: left;margin-right: 0.25em;color: #696969;}#sk-container-id-1 label.sk-toggleable__label-arrow:hover:before {color: black;}#sk-container-id-1 div.sk-estimator:hover label.sk-toggleable__label-arrow:before {color: black;}#sk-container-id-1 div.sk-toggleable__content {max-height: 0;max-width: 0;overflow: hidden;text-align: left;background-color: #f0f8ff;}#sk-container-id-1 div.sk-toggleable__content pre {margin: 0.2em;color: black;border-radius: 0.25em;background-color: #f0f8ff;}#sk-container-id-1 input.sk-toggleable__control:checked~div.sk-toggleable__content {max-height: 200px;max-width: 100%;overflow: auto;}#sk-container-id-1 input.sk-toggleable__control:checked~label.sk-toggleable__label-arrow:before {content: \"▾\";}#sk-container-id-1 div.sk-estimator input.sk-toggleable__control:checked~label.sk-toggleable__label {background-color: #d4ebff;}#sk-container-id-1 div.sk-label input.sk-toggleable__control:checked~label.sk-toggleable__label {background-color: #d4ebff;}#sk-container-id-1 input.sk-hidden--visually {border: 0;clip: rect(1px 1px 1px 1px);clip: rect(1px, 1px, 1px, 1px);height: 1px;margin: -1px;overflow: hidden;padding: 0;position: absolute;width: 1px;}#sk-container-id-1 div.sk-estimator {font-family: monospace;background-color: #f0f8ff;border: 1px dotted black;border-radius: 0.25em;box-sizing: border-box;margin-bottom: 0.5em;}#sk-container-id-1 div.sk-estimator:hover {background-color: #d4ebff;}#sk-container-id-1 div.sk-parallel-item::after {content: \"\";width: 100%;border-bottom: 1px solid gray;flex-grow: 1;}#sk-container-id-1 div.sk-label:hover label.sk-toggleable__label {background-color: #d4ebff;}#sk-container-id-1 div.sk-serial::before {content: \"\";position: absolute;border-left: 1px solid gray;box-sizing: border-box;top: 0;bottom: 0;left: 50%;z-index: 0;}#sk-container-id-1 div.sk-serial {display: flex;flex-direction: column;align-items: center;background-color: white;padding-right: 0.2em;padding-left: 0.2em;position: relative;}#sk-container-id-1 div.sk-item {position: relative;z-index: 1;}#sk-container-id-1 div.sk-parallel {display: flex;align-items: stretch;justify-content: center;background-color: white;position: relative;}#sk-container-id-1 div.sk-item::before, #sk-container-id-1 div.sk-parallel-item::before {content: \"\";position: absolute;border-left: 1px solid gray;box-sizing: border-box;top: 0;bottom: 0;left: 50%;z-index: -1;}#sk-container-id-1 div.sk-parallel-item {display: flex;flex-direction: column;z-index: 1;position: relative;background-color: white;}#sk-container-id-1 div.sk-parallel-item:first-child::after {align-self: flex-end;width: 50%;}#sk-container-id-1 div.sk-parallel-item:last-child::after {align-self: flex-start;width: 50%;}#sk-container-id-1 div.sk-parallel-item:only-child::after {width: 0;}#sk-container-id-1 div.sk-dashed-wrapped {border: 1px dashed gray;margin: 0 0.4em 0.5em 0.4em;box-sizing: border-box;padding-bottom: 0.4em;background-color: white;}#sk-container-id-1 div.sk-label label {font-family: monospace;font-weight: bold;display: inline-block;line-height: 1.2em;}#sk-container-id-1 div.sk-label-container {text-align: center;}#sk-container-id-1 div.sk-container {/* jupyter's `normalize.less` sets `[hidden] { display: none; }` but bootstrap.min.css set `[hidden] { display: none !important; }` so we also need the `!important` here to be able to override the default hidden behavior on the sphinx rendered scikit-learn.org. See: https://github.com/scikit-learn/scikit-learn/issues/21755 */display: inline-block !important;position: relative;}#sk-container-id-1 div.sk-text-repr-fallback {display: none;}</style><div id=\"sk-container-id-1\" class=\"sk-top-container\"><div class=\"sk-text-repr-fallback\"><pre>Pipeline(steps=[(&#x27;scale&#x27;, StandardScaler()),\n",
       "                (&#x27;model&#x27;, GradientBoostingClassifier())])</pre><b>In a Jupyter environment, please rerun this cell to show the HTML representation or trust the notebook. <br />On GitHub, the HTML representation is unable to render, please try loading this page with nbviewer.org.</b></div><div class=\"sk-container\" hidden><div class=\"sk-item sk-dashed-wrapped\"><div class=\"sk-label-container\"><div class=\"sk-label sk-toggleable\"><input class=\"sk-toggleable__control sk-hidden--visually\" id=\"sk-estimator-id-1\" type=\"checkbox\" ><label for=\"sk-estimator-id-1\" class=\"sk-toggleable__label sk-toggleable__label-arrow\">Pipeline</label><div class=\"sk-toggleable__content\"><pre>Pipeline(steps=[(&#x27;scale&#x27;, StandardScaler()),\n",
       "                (&#x27;model&#x27;, GradientBoostingClassifier())])</pre></div></div></div><div class=\"sk-serial\"><div class=\"sk-item\"><div class=\"sk-estimator sk-toggleable\"><input class=\"sk-toggleable__control sk-hidden--visually\" id=\"sk-estimator-id-2\" type=\"checkbox\" ><label for=\"sk-estimator-id-2\" class=\"sk-toggleable__label sk-toggleable__label-arrow\">StandardScaler</label><div class=\"sk-toggleable__content\"><pre>StandardScaler()</pre></div></div></div><div class=\"sk-item\"><div class=\"sk-estimator sk-toggleable\"><input class=\"sk-toggleable__control sk-hidden--visually\" id=\"sk-estimator-id-3\" type=\"checkbox\" ><label for=\"sk-estimator-id-3\" class=\"sk-toggleable__label sk-toggleable__label-arrow\">GradientBoostingClassifier</label><div class=\"sk-toggleable__content\"><pre>GradientBoostingClassifier()</pre></div></div></div></div></div></div></div>"
      ],
      "text/plain": [
       "Pipeline(steps=[('scale', StandardScaler()),\n",
       "                ('model', GradientBoostingClassifier())])"
      ]
     },
     "execution_count": 34,
     "metadata": {},
     "output_type": "execute_result"
    }
   ],
   "source": [
    "model.fit(X_train, y_train.values.ravel())"
   ]
  },
  {
   "cell_type": "code",
   "execution_count": 35,
   "id": "6e15e313",
   "metadata": {
    "execution": {
     "iopub.execute_input": "2025-08-19T19:07:12.829308Z",
     "iopub.status.busy": "2025-08-19T19:07:12.828159Z",
     "iopub.status.idle": "2025-08-19T19:07:13.501353Z",
     "shell.execute_reply": "2025-08-19T19:07:13.500333Z"
    },
    "papermill": {
     "duration": 0.688422,
     "end_time": "2025-08-19T19:07:13.502865",
     "exception": false,
     "start_time": "2025-08-19T19:07:12.814443",
     "status": "completed"
    },
    "tags": []
   },
   "outputs": [
    {
     "data": {
      "text/plain": [
       "0.8305540073570393"
      ]
     },
     "execution_count": 35,
     "metadata": {},
     "output_type": "execute_result"
    }
   ],
   "source": [
    "from fairness_multiverse.universe import predict_w_threshold\n",
    "\n",
    "probs_test = model.predict_proba(X_test)\n",
    "\n",
    "'''\n",
    "Below code returns a boolean array (or binary 0/1 array depending on how it’s used) where each element \n",
    "is True if the probability of class 1 is greater than or equal to the threshold, and False otherwise.\n",
    "'''\n",
    "y_pred_default = predict_w_threshold(probs_test, 0.5)\n",
    "\n",
    "from sklearn.metrics import accuracy_score\n",
    "\n",
    "# Naive prediction\n",
    "accuracy_score(y_true = y_true, y_pred = y_pred_default)"
   ]
  },
  {
   "cell_type": "code",
   "execution_count": 36,
   "id": "6f14067c",
   "metadata": {
    "execution": {
     "iopub.execute_input": "2025-08-19T19:07:13.528558Z",
     "iopub.status.busy": "2025-08-19T19:07:13.527783Z",
     "iopub.status.idle": "2025-08-19T19:07:14.144712Z",
     "shell.execute_reply": "2025-08-19T19:07:14.143638Z"
    },
    "papermill": {
     "duration": 0.631585,
     "end_time": "2025-08-19T19:07:14.146169",
     "exception": false,
     "start_time": "2025-08-19T19:07:13.514584",
     "status": "completed"
    },
    "tags": []
   },
   "outputs": [
    {
     "data": {
      "text/plain": [
       "array([0, 0, 0, ..., 1, 0, 0])"
      ]
     },
     "execution_count": 36,
     "metadata": {},
     "output_type": "execute_result"
    }
   ],
   "source": [
    "model.predict(X_test)"
   ]
  },
  {
   "cell_type": "markdown",
   "id": "3759920c",
   "metadata": {
    "papermill": {
     "duration": 0.011557,
     "end_time": "2025-08-19T19:07:14.169510",
     "exception": false,
     "start_time": "2025-08-19T19:07:14.157953",
     "status": "completed"
    },
    "tags": []
   },
   "source": [
    "# Conformal Prediction"
   ]
  },
  {
   "cell_type": "code",
   "execution_count": 37,
   "id": "14b27f59",
   "metadata": {
    "execution": {
     "iopub.execute_input": "2025-08-19T19:07:14.196203Z",
     "iopub.status.busy": "2025-08-19T19:07:14.195010Z",
     "iopub.status.idle": "2025-08-19T19:07:14.205114Z",
     "shell.execute_reply": "2025-08-19T19:07:14.203394Z"
    },
    "papermill": {
     "duration": 0.025868,
     "end_time": "2025-08-19T19:07:14.206940",
     "exception": false,
     "start_time": "2025-08-19T19:07:14.181072",
     "status": "completed"
    },
    "tags": []
   },
   "outputs": [],
   "source": [
    "# Miscoverage level for conformal prediction (10% allowed error rate => 90% target coverage)\n",
    "alpha = 0.1"
   ]
  },
  {
   "cell_type": "code",
   "execution_count": 38,
   "id": "59102472",
   "metadata": {
    "execution": {
     "iopub.execute_input": "2025-08-19T19:07:14.239862Z",
     "iopub.status.busy": "2025-08-19T19:07:14.238829Z",
     "iopub.status.idle": "2025-08-19T19:07:14.850574Z",
     "shell.execute_reply": "2025-08-19T19:07:14.848685Z"
    },
    "papermill": {
     "duration": 0.628439,
     "end_time": "2025-08-19T19:07:14.852805",
     "exception": false,
     "start_time": "2025-08-19T19:07:14.224366",
     "status": "completed"
    },
    "tags": []
   },
   "outputs": [],
   "source": [
    "probs_calib = model.predict_proba(X_calib)"
   ]
  },
  {
   "cell_type": "code",
   "execution_count": 39,
   "id": "a792d4dd",
   "metadata": {
    "execution": {
     "iopub.execute_input": "2025-08-19T19:07:14.894692Z",
     "iopub.status.busy": "2025-08-19T19:07:14.893606Z",
     "iopub.status.idle": "2025-08-19T19:07:14.900821Z",
     "shell.execute_reply": "2025-08-19T19:07:14.899997Z"
    },
    "papermill": {
     "duration": 0.033617,
     "end_time": "2025-08-19T19:07:14.902000",
     "exception": false,
     "start_time": "2025-08-19T19:07:14.868383",
     "status": "completed"
    },
    "tags": []
   },
   "outputs": [],
   "source": [
    "y_calib = y_calib.values.ravel().astype(int)"
   ]
  },
  {
   "cell_type": "code",
   "execution_count": 40,
   "id": "650fd033",
   "metadata": {
    "execution": {
     "iopub.execute_input": "2025-08-19T19:07:14.933094Z",
     "iopub.status.busy": "2025-08-19T19:07:14.932730Z",
     "iopub.status.idle": "2025-08-19T19:07:14.939186Z",
     "shell.execute_reply": "2025-08-19T19:07:14.938513Z"
    },
    "papermill": {
     "duration": 0.026624,
     "end_time": "2025-08-19T19:07:14.940379",
     "exception": false,
     "start_time": "2025-08-19T19:07:14.913755",
     "status": "completed"
    },
    "tags": []
   },
   "outputs": [],
   "source": [
    "from fairness_multiverse.conformal import compute_nc_scores\n",
    "\n",
    "# Compute nonconformity scores on calibration set (1 - probability of true class)\n",
    "nc_scores = compute_nc_scores(probs_calib, y_calib)"
   ]
  },
  {
   "cell_type": "code",
   "execution_count": 41,
   "id": "28ada44c",
   "metadata": {
    "execution": {
     "iopub.execute_input": "2025-08-19T19:07:14.993370Z",
     "iopub.status.busy": "2025-08-19T19:07:14.992872Z",
     "iopub.status.idle": "2025-08-19T19:07:14.999040Z",
     "shell.execute_reply": "2025-08-19T19:07:14.998302Z"
    },
    "papermill": {
     "duration": 0.047607,
     "end_time": "2025-08-19T19:07:15.000636",
     "exception": false,
     "start_time": "2025-08-19T19:07:14.953029",
     "status": "completed"
    },
    "tags": []
   },
   "outputs": [],
   "source": [
    "from fairness_multiverse.conformal import find_threshold\n",
    "\n",
    "# Find conformal threshold q_hat for the given alpha (split conformal method)\n",
    "q_hat = find_threshold(nc_scores, alpha)"
   ]
  },
  {
   "cell_type": "code",
   "execution_count": 42,
   "id": "df56469e",
   "metadata": {
    "execution": {
     "iopub.execute_input": "2025-08-19T19:07:15.027425Z",
     "iopub.status.busy": "2025-08-19T19:07:15.026343Z",
     "iopub.status.idle": "2025-08-19T19:07:15.053873Z",
     "shell.execute_reply": "2025-08-19T19:07:15.052114Z"
    },
    "papermill": {
     "duration": 0.043072,
     "end_time": "2025-08-19T19:07:15.056358",
     "exception": false,
     "start_time": "2025-08-19T19:07:15.013286",
     "status": "completed"
    },
    "tags": []
   },
   "outputs": [
    {
     "data": {
      "text/plain": [
       "0.7594995904325903"
      ]
     },
     "execution_count": 42,
     "metadata": {},
     "output_type": "execute_result"
    }
   ],
   "source": [
    "q_hat"
   ]
  },
  {
   "cell_type": "code",
   "execution_count": 43,
   "id": "aa1f5faa",
   "metadata": {
    "execution": {
     "iopub.execute_input": "2025-08-19T19:07:15.091436Z",
     "iopub.status.busy": "2025-08-19T19:07:15.090189Z",
     "iopub.status.idle": "2025-08-19T19:07:16.081881Z",
     "shell.execute_reply": "2025-08-19T19:07:16.081140Z"
    },
    "papermill": {
     "duration": 1.009295,
     "end_time": "2025-08-19T19:07:16.085025",
     "exception": false,
     "start_time": "2025-08-19T19:07:15.075730",
     "status": "completed"
    },
    "tags": []
   },
   "outputs": [],
   "source": [
    "from fairness_multiverse.conformal import predict_conformal_sets\n",
    "\n",
    "# Generate prediction sets for each test example\n",
    "pred_sets = predict_conformal_sets(model, X_test, q_hat)"
   ]
  },
  {
   "cell_type": "code",
   "execution_count": 44,
   "id": "97f67a6b",
   "metadata": {
    "execution": {
     "iopub.execute_input": "2025-08-19T19:07:16.126699Z",
     "iopub.status.busy": "2025-08-19T19:07:16.125149Z",
     "iopub.status.idle": "2025-08-19T19:07:16.135135Z",
     "shell.execute_reply": "2025-08-19T19:07:16.133523Z"
    },
    "papermill": {
     "duration": 0.026068,
     "end_time": "2025-08-19T19:07:16.137048",
     "exception": false,
     "start_time": "2025-08-19T19:07:16.110980",
     "status": "completed"
    },
    "tags": []
   },
   "outputs": [],
   "source": [
    "y_true = y_true.squeeze()"
   ]
  },
  {
   "cell_type": "code",
   "execution_count": 45,
   "id": "e700e9a7",
   "metadata": {
    "execution": {
     "iopub.execute_input": "2025-08-19T19:07:16.174493Z",
     "iopub.status.busy": "2025-08-19T19:07:16.173361Z",
     "iopub.status.idle": "2025-08-19T19:07:16.665394Z",
     "shell.execute_reply": "2025-08-19T19:07:16.664291Z"
    },
    "papermill": {
     "duration": 0.517331,
     "end_time": "2025-08-19T19:07:16.667785",
     "exception": false,
     "start_time": "2025-08-19T19:07:16.150454",
     "status": "completed"
    },
    "tags": []
   },
   "outputs": [],
   "source": [
    "from fairness_multiverse.conformal import evaluate_sets\n",
    "\n",
    "# Evaluate coverage and average set size on test data\n",
    "metrics = evaluate_sets(pred_sets, y_true)"
   ]
  },
  {
   "cell_type": "markdown",
   "id": "efbacec0",
   "metadata": {
    "papermill": {
     "duration": 0.01126,
     "end_time": "2025-08-19T19:07:16.698695",
     "exception": false,
     "start_time": "2025-08-19T19:07:16.687435",
     "status": "completed"
    },
    "tags": []
   },
   "source": [
    "# CP Metrics"
   ]
  },
  {
   "cell_type": "code",
   "execution_count": 46,
   "id": "9de55fb1",
   "metadata": {
    "execution": {
     "iopub.execute_input": "2025-08-19T19:07:16.727002Z",
     "iopub.status.busy": "2025-08-19T19:07:16.723500Z",
     "iopub.status.idle": "2025-08-19T19:07:16.740729Z",
     "shell.execute_reply": "2025-08-19T19:07:16.739585Z"
    },
    "papermill": {
     "duration": 0.032365,
     "end_time": "2025-08-19T19:07:16.742139",
     "exception": false,
     "start_time": "2025-08-19T19:07:16.709774",
     "status": "completed"
    },
    "tags": []
   },
   "outputs": [
    {
     "data": {
      "text/plain": [
       "{'coverage': 0.9096087392709843, 'avg_size': 1.1865678296733921}"
      ]
     },
     "execution_count": 46,
     "metadata": {},
     "output_type": "execute_result"
    }
   ],
   "source": [
    "metrics"
   ]
  },
  {
   "cell_type": "code",
   "execution_count": 47,
   "id": "64c340a1",
   "metadata": {
    "execution": {
     "iopub.execute_input": "2025-08-19T19:07:16.773014Z",
     "iopub.status.busy": "2025-08-19T19:07:16.772033Z",
     "iopub.status.idle": "2025-08-19T19:07:16.783746Z",
     "shell.execute_reply": "2025-08-19T19:07:16.781937Z"
    },
    "papermill": {
     "duration": 0.028869,
     "end_time": "2025-08-19T19:07:16.788040",
     "exception": false,
     "start_time": "2025-08-19T19:07:16.759171",
     "status": "completed"
    },
    "tags": []
   },
   "outputs": [],
   "source": [
    "example_universe = universe.copy()\n",
    "universe_training_year = example_universe.get(\"training_year\")\n",
    "universe_training_size = example_universe.get(\"training_size\")\n",
    "universe_scale = example_universe.get(\"scale\")\n",
    "universe_model = example_universe.get(\"model\")\n",
    "universe_exclude_features = example_universe.get(\"exclude_features\")\n",
    "universe_exclude_subgroups = example_universe.get(\"exclude_subgroups\")"
   ]
  },
  {
   "cell_type": "code",
   "execution_count": 48,
   "id": "dbb53cb4",
   "metadata": {
    "execution": {
     "iopub.execute_input": "2025-08-19T19:07:16.826256Z",
     "iopub.status.busy": "2025-08-19T19:07:16.825855Z",
     "iopub.status.idle": "2025-08-19T19:07:16.830858Z",
     "shell.execute_reply": "2025-08-19T19:07:16.830210Z"
    },
    "papermill": {
     "duration": 0.020595,
     "end_time": "2025-08-19T19:07:16.831886",
     "exception": false,
     "start_time": "2025-08-19T19:07:16.811291",
     "status": "completed"
    },
    "tags": []
   },
   "outputs": [],
   "source": [
    "cp_metrics_dict = {\n",
    "    \"universe_id\": [universe_id],\n",
    "    \"universe_training_year\": [universe_training_year],\n",
    "    \"universe_training_size\": [universe_training_size],\n",
    "    \"universe_scale\": [universe_scale],\n",
    "    \"universe_model\": [universe_model],\n",
    "    \"universe_exclude_features\": [universe_exclude_features],\n",
    "    \"universe_exclude_subgroups\": [universe_exclude_subgroups],\n",
    "    \"q_hat\": [q_hat],\n",
    "    \"coverage\": [metrics[\"coverage\"]],\n",
    "    \"avg_size\": [metrics[\"avg_size\"]],\n",
    "}"
   ]
  },
  {
   "cell_type": "code",
   "execution_count": 49,
   "id": "0d70d4b2",
   "metadata": {
    "execution": {
     "iopub.execute_input": "2025-08-19T19:07:16.859367Z",
     "iopub.status.busy": "2025-08-19T19:07:16.858948Z",
     "iopub.status.idle": "2025-08-19T19:07:16.866616Z",
     "shell.execute_reply": "2025-08-19T19:07:16.865881Z"
    },
    "papermill": {
     "duration": 0.022698,
     "end_time": "2025-08-19T19:07:16.867688",
     "exception": false,
     "start_time": "2025-08-19T19:07:16.844990",
     "status": "completed"
    },
    "tags": []
   },
   "outputs": [],
   "source": [
    "cp_metrics_df = pd.DataFrame(cp_metrics_dict)"
   ]
  },
  {
   "cell_type": "code",
   "execution_count": 50,
   "id": "b494403c",
   "metadata": {
    "execution": {
     "iopub.execute_input": "2025-08-19T19:07:16.901255Z",
     "iopub.status.busy": "2025-08-19T19:07:16.900738Z",
     "iopub.status.idle": "2025-08-19T19:07:16.915599Z",
     "shell.execute_reply": "2025-08-19T19:07:16.914686Z"
    },
    "papermill": {
     "duration": 0.032696,
     "end_time": "2025-08-19T19:07:16.918685",
     "exception": false,
     "start_time": "2025-08-19T19:07:16.885989",
     "status": "completed"
    },
    "tags": []
   },
   "outputs": [
    {
     "data": {
      "text/html": [
       "<div>\n",
       "<style scoped>\n",
       "    .dataframe tbody tr th:only-of-type {\n",
       "        vertical-align: middle;\n",
       "    }\n",
       "\n",
       "    .dataframe tbody tr th {\n",
       "        vertical-align: top;\n",
       "    }\n",
       "\n",
       "    .dataframe thead th {\n",
       "        text-align: right;\n",
       "    }\n",
       "</style>\n",
       "<table border=\"1\" class=\"dataframe\">\n",
       "  <thead>\n",
       "    <tr style=\"text-align: right;\">\n",
       "      <th></th>\n",
       "      <th>universe_id</th>\n",
       "      <th>universe_training_year</th>\n",
       "      <th>universe_training_size</th>\n",
       "      <th>universe_scale</th>\n",
       "      <th>universe_model</th>\n",
       "      <th>universe_exclude_features</th>\n",
       "      <th>universe_exclude_subgroups</th>\n",
       "      <th>q_hat</th>\n",
       "      <th>coverage</th>\n",
       "      <th>avg_size</th>\n",
       "    </tr>\n",
       "  </thead>\n",
       "  <tbody>\n",
       "    <tr>\n",
       "      <th>0</th>\n",
       "      <td>f0d027785e4f1a597f3677bfe0487b66</td>\n",
       "      <td>2010_14</td>\n",
       "      <td>1k</td>\n",
       "      <td>scale</td>\n",
       "      <td>gbm</td>\n",
       "      <td>nationality</td>\n",
       "      <td>keep-all</td>\n",
       "      <td>0.7595</td>\n",
       "      <td>0.909609</td>\n",
       "      <td>1.186568</td>\n",
       "    </tr>\n",
       "  </tbody>\n",
       "</table>\n",
       "</div>"
      ],
      "text/plain": [
       "                        universe_id universe_training_year  \\\n",
       "0  f0d027785e4f1a597f3677bfe0487b66                2010_14   \n",
       "\n",
       "  universe_training_size universe_scale universe_model  \\\n",
       "0                     1k          scale            gbm   \n",
       "\n",
       "  universe_exclude_features universe_exclude_subgroups   q_hat  coverage  \\\n",
       "0               nationality                   keep-all  0.7595  0.909609   \n",
       "\n",
       "   avg_size  \n",
       "0  1.186568  "
      ]
     },
     "execution_count": 50,
     "metadata": {},
     "output_type": "execute_result"
    }
   ],
   "source": [
    "cp_metrics_df"
   ]
  },
  {
   "cell_type": "markdown",
   "id": "ed608b0b",
   "metadata": {
    "papermill": {
     "duration": 0.011791,
     "end_time": "2025-08-19T19:07:16.945231",
     "exception": false,
     "start_time": "2025-08-19T19:07:16.933440",
     "status": "completed"
    },
    "tags": []
   },
   "source": [
    "Conditional coverage & looking at subgroups"
   ]
  },
  {
   "cell_type": "code",
   "execution_count": 51,
   "id": "8968c366",
   "metadata": {
    "execution": {
     "iopub.execute_input": "2025-08-19T19:07:16.980782Z",
     "iopub.status.busy": "2025-08-19T19:07:16.980288Z",
     "iopub.status.idle": "2025-08-19T19:07:17.250271Z",
     "shell.execute_reply": "2025-08-19T19:07:17.249584Z"
    },
    "papermill": {
     "duration": 0.295286,
     "end_time": "2025-08-19T19:07:17.253405",
     "exception": false,
     "start_time": "2025-08-19T19:07:16.958119",
     "status": "completed"
    },
    "tags": []
   },
   "outputs": [],
   "source": [
    "from fairness_multiverse.conformal import build_cp_groups\n",
    "\n",
    "cp_groups_df = build_cp_groups(pred_sets, y_true, X_test.index, org_test)"
   ]
  },
  {
   "cell_type": "code",
   "execution_count": 52,
   "id": "292ddabf",
   "metadata": {
    "execution": {
     "iopub.execute_input": "2025-08-19T19:07:17.295298Z",
     "iopub.status.busy": "2025-08-19T19:07:17.294163Z",
     "iopub.status.idle": "2025-08-19T19:07:18.169060Z",
     "shell.execute_reply": "2025-08-19T19:07:18.167854Z"
    },
    "papermill": {
     "duration": 0.891262,
     "end_time": "2025-08-19T19:07:18.170638",
     "exception": false,
     "start_time": "2025-08-19T19:07:17.279376",
     "status": "completed"
    },
    "tags": []
   },
   "outputs": [],
   "source": [
    "# Define covered = 1 if true_label is in the predicted set\n",
    "cp_groups_df['covered'] = cp_groups_df.apply(\n",
    "    lambda r: int(r['true_label'] in r['pred_set']),\n",
    "    axis=1\n",
    ")"
   ]
  },
  {
   "cell_type": "code",
   "execution_count": 53,
   "id": "3a261692",
   "metadata": {
    "execution": {
     "iopub.execute_input": "2025-08-19T19:07:18.197537Z",
     "iopub.status.busy": "2025-08-19T19:07:18.196405Z",
     "iopub.status.idle": "2025-08-19T19:07:18.216058Z",
     "shell.execute_reply": "2025-08-19T19:07:18.215185Z"
    },
    "papermill": {
     "duration": 0.034627,
     "end_time": "2025-08-19T19:07:18.217742",
     "exception": false,
     "start_time": "2025-08-19T19:07:18.183115",
     "status": "completed"
    },
    "tags": []
   },
   "outputs": [],
   "source": [
    "subgroups = ['frau1','nongerman','nongerman_male','nongerman_female']\n",
    "\n",
    "# Conditional coverage for subgroup==1\n",
    "cond_coverage = {\n",
    "    g: cp_groups_df.loc[cp_groups_df[g]==1, 'covered'].mean()\n",
    "    for g in subgroups\n",
    "}"
   ]
  },
  {
   "cell_type": "code",
   "execution_count": 54,
   "id": "894fd600",
   "metadata": {
    "execution": {
     "iopub.execute_input": "2025-08-19T19:07:18.251236Z",
     "iopub.status.busy": "2025-08-19T19:07:18.250124Z",
     "iopub.status.idle": "2025-08-19T19:07:18.262930Z",
     "shell.execute_reply": "2025-08-19T19:07:18.261666Z"
    },
    "papermill": {
     "duration": 0.033432,
     "end_time": "2025-08-19T19:07:18.264614",
     "exception": false,
     "start_time": "2025-08-19T19:07:18.231182",
     "status": "completed"
    },
    "tags": []
   },
   "outputs": [
    {
     "data": {
      "text/plain": [
       "{'frau1': 0.9079660331581075,\n",
       " 'nongerman': 0.9095604333913434,\n",
       " 'nongerman_male': 0.9265964153832298,\n",
       " 'nongerman_female': 0.881371087928465}"
      ]
     },
     "execution_count": 54,
     "metadata": {},
     "output_type": "execute_result"
    }
   ],
   "source": [
    "cond_coverage"
   ]
  },
  {
   "cell_type": "code",
   "execution_count": 55,
   "id": "942895c7",
   "metadata": {
    "execution": {
     "iopub.execute_input": "2025-08-19T19:07:18.300348Z",
     "iopub.status.busy": "2025-08-19T19:07:18.299508Z",
     "iopub.status.idle": "2025-08-19T19:07:18.307317Z",
     "shell.execute_reply": "2025-08-19T19:07:18.306432Z"
    },
    "papermill": {
     "duration": 0.02428,
     "end_time": "2025-08-19T19:07:18.308567",
     "exception": false,
     "start_time": "2025-08-19T19:07:18.284287",
     "status": "completed"
    },
    "tags": []
   },
   "outputs": [],
   "source": [
    "for subgroup, cov in cond_coverage.items():\n",
    "    cp_metrics_df[f\"cov_{subgroup}\"] = cov"
   ]
  },
  {
   "cell_type": "code",
   "execution_count": 56,
   "id": "3970120f",
   "metadata": {
    "execution": {
     "iopub.execute_input": "2025-08-19T19:07:18.335858Z",
     "iopub.status.busy": "2025-08-19T19:07:18.335505Z",
     "iopub.status.idle": "2025-08-19T19:07:18.349469Z",
     "shell.execute_reply": "2025-08-19T19:07:18.348804Z"
    },
    "papermill": {
     "duration": 0.028851,
     "end_time": "2025-08-19T19:07:18.350827",
     "exception": false,
     "start_time": "2025-08-19T19:07:18.321976",
     "status": "completed"
    },
    "tags": []
   },
   "outputs": [
    {
     "data": {
      "text/html": [
       "<div>\n",
       "<style scoped>\n",
       "    .dataframe tbody tr th:only-of-type {\n",
       "        vertical-align: middle;\n",
       "    }\n",
       "\n",
       "    .dataframe tbody tr th {\n",
       "        vertical-align: top;\n",
       "    }\n",
       "\n",
       "    .dataframe thead th {\n",
       "        text-align: right;\n",
       "    }\n",
       "</style>\n",
       "<table border=\"1\" class=\"dataframe\">\n",
       "  <thead>\n",
       "    <tr style=\"text-align: right;\">\n",
       "      <th></th>\n",
       "      <th>universe_id</th>\n",
       "      <th>universe_training_year</th>\n",
       "      <th>universe_training_size</th>\n",
       "      <th>universe_scale</th>\n",
       "      <th>universe_model</th>\n",
       "      <th>universe_exclude_features</th>\n",
       "      <th>universe_exclude_subgroups</th>\n",
       "      <th>q_hat</th>\n",
       "      <th>coverage</th>\n",
       "      <th>avg_size</th>\n",
       "      <th>cov_frau1</th>\n",
       "      <th>cov_nongerman</th>\n",
       "      <th>cov_nongerman_male</th>\n",
       "      <th>cov_nongerman_female</th>\n",
       "    </tr>\n",
       "  </thead>\n",
       "  <tbody>\n",
       "    <tr>\n",
       "      <th>0</th>\n",
       "      <td>f0d027785e4f1a597f3677bfe0487b66</td>\n",
       "      <td>2010_14</td>\n",
       "      <td>1k</td>\n",
       "      <td>scale</td>\n",
       "      <td>gbm</td>\n",
       "      <td>nationality</td>\n",
       "      <td>keep-all</td>\n",
       "      <td>0.7595</td>\n",
       "      <td>0.909609</td>\n",
       "      <td>1.186568</td>\n",
       "      <td>0.907966</td>\n",
       "      <td>0.90956</td>\n",
       "      <td>0.926596</td>\n",
       "      <td>0.881371</td>\n",
       "    </tr>\n",
       "  </tbody>\n",
       "</table>\n",
       "</div>"
      ],
      "text/plain": [
       "                        universe_id universe_training_year  \\\n",
       "0  f0d027785e4f1a597f3677bfe0487b66                2010_14   \n",
       "\n",
       "  universe_training_size universe_scale universe_model  \\\n",
       "0                     1k          scale            gbm   \n",
       "\n",
       "  universe_exclude_features universe_exclude_subgroups   q_hat  coverage  \\\n",
       "0               nationality                   keep-all  0.7595  0.909609   \n",
       "\n",
       "   avg_size  cov_frau1  cov_nongerman  cov_nongerman_male  \\\n",
       "0  1.186568   0.907966        0.90956            0.926596   \n",
       "\n",
       "   cov_nongerman_female  \n",
       "0              0.881371  "
      ]
     },
     "execution_count": 56,
     "metadata": {},
     "output_type": "execute_result"
    }
   ],
   "source": [
    "cp_metrics_df"
   ]
  },
  {
   "cell_type": "markdown",
   "id": "3fc519cc",
   "metadata": {
    "papermill": {
     "duration": 0.019058,
     "end_time": "2025-08-19T19:07:18.399085",
     "exception": false,
     "start_time": "2025-08-19T19:07:18.380027",
     "status": "completed"
    },
    "tags": []
   },
   "source": [
    "# (Fairness) Metrics"
   ]
  },
  {
   "cell_type": "code",
   "execution_count": 57,
   "id": "a2e5e155",
   "metadata": {
    "execution": {
     "iopub.execute_input": "2025-08-19T19:07:18.438802Z",
     "iopub.status.busy": "2025-08-19T19:07:18.438414Z",
     "iopub.status.idle": "2025-08-19T19:07:18.452996Z",
     "shell.execute_reply": "2025-08-19T19:07:18.452278Z"
    },
    "papermill": {
     "duration": 0.030242,
     "end_time": "2025-08-19T19:07:18.454480",
     "exception": false,
     "start_time": "2025-08-19T19:07:18.424238",
     "status": "completed"
    },
    "tags": []
   },
   "outputs": [],
   "source": [
    "colname_to_bin = \"maxdeutsch1\"\n",
    "majority_value = org_train[colname_to_bin].mode()[0]\n",
    "\n",
    "org_test[\"majmin\"] = np.where(org_test[colname_to_bin] == majority_value, \"majority\", \"minority\")"
   ]
  },
  {
   "cell_type": "code",
   "execution_count": 58,
   "id": "17e3e4d5",
   "metadata": {
    "execution": {
     "iopub.execute_input": "2025-08-19T19:07:18.487521Z",
     "iopub.status.busy": "2025-08-19T19:07:18.487240Z",
     "iopub.status.idle": "2025-08-19T19:07:20.187707Z",
     "shell.execute_reply": "2025-08-19T19:07:20.186566Z"
    },
    "papermill": {
     "duration": 1.716775,
     "end_time": "2025-08-19T19:07:20.189532",
     "exception": false,
     "start_time": "2025-08-19T19:07:18.472757",
     "status": "completed"
    },
    "tags": []
   },
   "outputs": [],
   "source": [
    "example_universe = universe.copy()\n",
    "example_universe[\"cutoff\"] = example_universe[\"cutoff\"][0]\n",
    "example_universe[\"eval_fairness_grouping\"] = example_universe[\"eval_fairness_grouping\"][0]\n",
    "fairness_dict, metric_frame = universe_analysis.compute_metrics(\n",
    "    example_universe,\n",
    "    y_pred_prob=probs_test,\n",
    "    y_test=y_true,\n",
    "    org_test=org_test,\n",
    ")"
   ]
  },
  {
   "cell_type": "markdown",
   "id": "1fb7a0e9",
   "metadata": {
    "papermill": {
     "duration": 0.020639,
     "end_time": "2025-08-19T19:07:20.233559",
     "exception": false,
     "start_time": "2025-08-19T19:07:20.212920",
     "status": "completed"
    },
    "tags": []
   },
   "source": [
    "# Overall"
   ]
  },
  {
   "cell_type": "markdown",
   "id": "be1784b1",
   "metadata": {
    "papermill": {
     "duration": 0.012134,
     "end_time": "2025-08-19T19:07:20.262641",
     "exception": false,
     "start_time": "2025-08-19T19:07:20.250507",
     "status": "completed"
    },
    "tags": []
   },
   "source": [
    "Main fairness target: Equalized Odds. Seems to be a better fit than equal opportunity, since we're not only interested in Y = 1. Seems to be a better fit than demographic parity, since we also care about accuracy, not just equal distribution of preds.\n",
    "\n",
    "Pick column for computation of fairness metrics\n",
    "\n",
    "Performance\n",
    "Overall performance measures, most interesting in relation to the measures split by group below"
   ]
  },
  {
   "cell_type": "code",
   "execution_count": 59,
   "id": "b7672bee",
   "metadata": {
    "execution": {
     "iopub.execute_input": "2025-08-19T19:07:20.305075Z",
     "iopub.status.busy": "2025-08-19T19:07:20.303089Z",
     "iopub.status.idle": "2025-08-19T19:07:20.322750Z",
     "shell.execute_reply": "2025-08-19T19:07:20.321744Z"
    },
    "papermill": {
     "duration": 0.052082,
     "end_time": "2025-08-19T19:07:20.331013",
     "exception": false,
     "start_time": "2025-08-19T19:07:20.278931",
     "status": "completed"
    },
    "tags": []
   },
   "outputs": [
    {
     "data": {
      "text/plain": [
       "accuracy                   0.222439\n",
       "balanced accuracy          0.544299\n",
       "f1                         0.243824\n",
       "precision                  0.139288\n",
       "false positive rate        0.888635\n",
       "false negative rate        0.022767\n",
       "selection rate             0.900000\n",
       "count                  89710.000000\n",
       "dtype: float64"
      ]
     },
     "execution_count": 59,
     "metadata": {},
     "output_type": "execute_result"
    }
   ],
   "source": [
    "metric_frame.overall"
   ]
  },
  {
   "cell_type": "markdown",
   "id": "d93333c9",
   "metadata": {
    "papermill": {
     "duration": 0.012315,
     "end_time": "2025-08-19T19:07:20.358924",
     "exception": false,
     "start_time": "2025-08-19T19:07:20.346609",
     "status": "completed"
    },
    "tags": []
   },
   "source": [
    "By Group"
   ]
  },
  {
   "cell_type": "code",
   "execution_count": 60,
   "id": "52256966",
   "metadata": {
    "execution": {
     "iopub.execute_input": "2025-08-19T19:07:20.386310Z",
     "iopub.status.busy": "2025-08-19T19:07:20.385892Z",
     "iopub.status.idle": "2025-08-19T19:07:20.406677Z",
     "shell.execute_reply": "2025-08-19T19:07:20.404877Z"
    },
    "papermill": {
     "duration": 0.037521,
     "end_time": "2025-08-19T19:07:20.408739",
     "exception": false,
     "start_time": "2025-08-19T19:07:20.371218",
     "status": "completed"
    },
    "tags": []
   },
   "outputs": [
    {
     "data": {
      "text/html": [
       "<div>\n",
       "<style scoped>\n",
       "    .dataframe tbody tr th:only-of-type {\n",
       "        vertical-align: middle;\n",
       "    }\n",
       "\n",
       "    .dataframe tbody tr th {\n",
       "        vertical-align: top;\n",
       "    }\n",
       "\n",
       "    .dataframe thead th {\n",
       "        text-align: right;\n",
       "    }\n",
       "</style>\n",
       "<table border=\"1\" class=\"dataframe\">\n",
       "  <thead>\n",
       "    <tr style=\"text-align: right;\">\n",
       "      <th></th>\n",
       "      <th>accuracy</th>\n",
       "      <th>balanced accuracy</th>\n",
       "      <th>f1</th>\n",
       "      <th>precision</th>\n",
       "      <th>false positive rate</th>\n",
       "      <th>false negative rate</th>\n",
       "      <th>selection rate</th>\n",
       "      <th>count</th>\n",
       "    </tr>\n",
       "    <tr>\n",
       "      <th>majmin</th>\n",
       "      <th></th>\n",
       "      <th></th>\n",
       "      <th></th>\n",
       "      <th></th>\n",
       "      <th></th>\n",
       "      <th></th>\n",
       "      <th></th>\n",
       "      <th></th>\n",
       "    </tr>\n",
       "  </thead>\n",
       "  <tbody>\n",
       "    <tr>\n",
       "      <th>majority</th>\n",
       "      <td>0.237097</td>\n",
       "      <td>0.550453</td>\n",
       "      <td>0.252740</td>\n",
       "      <td>0.145158</td>\n",
       "      <td>0.875462</td>\n",
       "      <td>0.023632</td>\n",
       "      <td>0.888796</td>\n",
       "      <td>69170.0</td>\n",
       "    </tr>\n",
       "    <tr>\n",
       "      <th>minority</th>\n",
       "      <td>0.173077</td>\n",
       "      <td>0.524213</td>\n",
       "      <td>0.214712</td>\n",
       "      <td>0.120554</td>\n",
       "      <td>0.932148</td>\n",
       "      <td>0.019426</td>\n",
       "      <td>0.937731</td>\n",
       "      <td>20540.0</td>\n",
       "    </tr>\n",
       "  </tbody>\n",
       "</table>\n",
       "</div>"
      ],
      "text/plain": [
       "          accuracy  balanced accuracy        f1  precision  \\\n",
       "majmin                                                       \n",
       "majority  0.237097           0.550453  0.252740   0.145158   \n",
       "minority  0.173077           0.524213  0.214712   0.120554   \n",
       "\n",
       "          false positive rate  false negative rate  selection rate    count  \n",
       "majmin                                                                       \n",
       "majority             0.875462             0.023632        0.888796  69170.0  \n",
       "minority             0.932148             0.019426        0.937731  20540.0  "
      ]
     },
     "execution_count": 60,
     "metadata": {},
     "output_type": "execute_result"
    }
   ],
   "source": [
    "metric_frame.by_group"
   ]
  },
  {
   "cell_type": "code",
   "execution_count": 61,
   "id": "6e6c20ae",
   "metadata": {
    "execution": {
     "iopub.execute_input": "2025-08-19T19:07:20.446523Z",
     "iopub.status.busy": "2025-08-19T19:07:20.445998Z",
     "iopub.status.idle": "2025-08-19T19:07:22.308750Z",
     "shell.execute_reply": "2025-08-19T19:07:22.307694Z"
    },
    "papermill": {
     "duration": 1.878213,
     "end_time": "2025-08-19T19:07:22.310214",
     "exception": false,
     "start_time": "2025-08-19T19:07:20.432001",
     "status": "completed"
    },
    "tags": []
   },
   "outputs": [
    {
     "data": {
      "text/plain": [
       "array([[<Axes: title={'center': 'accuracy'}, xlabel='majmin'>,\n",
       "        <Axes: title={'center': 'balanced accuracy'}, xlabel='majmin'>,\n",
       "        <Axes: title={'center': 'f1'}, xlabel='majmin'>],\n",
       "       [<Axes: title={'center': 'precision'}, xlabel='majmin'>,\n",
       "        <Axes: title={'center': 'false positive rate'}, xlabel='majmin'>,\n",
       "        <Axes: title={'center': 'false negative rate'}, xlabel='majmin'>],\n",
       "       [<Axes: title={'center': 'selection rate'}, xlabel='majmin'>,\n",
       "        <Axes: title={'center': 'count'}, xlabel='majmin'>,\n",
       "        <Axes: xlabel='majmin'>]], dtype=object)"
      ]
     },
     "execution_count": 61,
     "metadata": {},
     "output_type": "execute_result"
    },
    {
     "data": {
      "image/png": "[encoded data removed]",
      "text/plain": [
       "<Figure size 1200x800 with 9 Axes>"
      ]
     },
     "metadata": {},
     "output_type": "display_data"
    }
   ],
   "source": [
    "# In a graphic\n",
    "metric_frame.by_group.plot.bar(\n",
    "    subplots=True,\n",
    "    layout=[3, 3],\n",
    "    legend=False,\n",
    "    figsize=[12, 8],\n",
    "    title=\"Show all metrics\",\n",
    ")"
   ]
  },
  {
   "cell_type": "markdown",
   "id": "b2e433ae",
   "metadata": {
    "papermill": {
     "duration": 0.030452,
     "end_time": "2025-08-19T19:07:22.357493",
     "exception": false,
     "start_time": "2025-08-19T19:07:22.327041",
     "status": "completed"
    },
    "tags": []
   },
   "source": [
    "# Final Output"
   ]
  },
  {
   "cell_type": "code",
   "execution_count": 62,
   "id": "3871301e",
   "metadata": {
    "execution": {
     "iopub.execute_input": "2025-08-19T19:07:22.392707Z",
     "iopub.status.busy": "2025-08-19T19:07:22.390891Z",
     "iopub.status.idle": "2025-08-19T19:07:22.412222Z",
     "shell.execute_reply": "2025-08-19T19:07:22.410794Z"
    },
    "papermill": {
     "duration": 0.040809,
     "end_time": "2025-08-19T19:07:22.413989",
     "exception": false,
     "start_time": "2025-08-19T19:07:22.373180",
     "status": "completed"
    },
    "tags": []
   },
   "outputs": [
    {
     "data": {
      "text/plain": [
       "4"
      ]
     },
     "execution_count": 62,
     "metadata": {},
     "output_type": "execute_result"
    }
   ],
   "source": [
    "sub_universes = universe_analysis.generate_sub_universes()\n",
    "len(sub_universes)"
   ]
  },
  {
   "cell_type": "code",
   "execution_count": 63,
   "id": "d9cfdaca",
   "metadata": {
    "execution": {
     "iopub.execute_input": "2025-08-19T19:07:22.448640Z",
     "iopub.status.busy": "2025-08-19T19:07:22.447737Z",
     "iopub.status.idle": "2025-08-19T19:07:22.459468Z",
     "shell.execute_reply": "2025-08-19T19:07:22.458286Z"
    },
    "papermill": {
     "duration": 0.032104,
     "end_time": "2025-08-19T19:07:22.461050",
     "exception": false,
     "start_time": "2025-08-19T19:07:22.428946",
     "status": "completed"
    },
    "tags": []
   },
   "outputs": [],
   "source": [
    "def filter_sub_universe_data(sub_universe, org_test):\n",
    "    # Keep all rows — no filtering\n",
    "    keep_rows_mask = np.ones(org_test.shape[0], dtype=bool)\n",
    "\n",
    "    print(f\"[INFO] Keeping all rows: {keep_rows_mask.sum()} rows retained.\")\n",
    "    return keep_rows_mask"
   ]
  },
  {
   "cell_type": "code",
   "execution_count": 64,
   "id": "2bc31ac1",
   "metadata": {
    "execution": {
     "iopub.execute_input": "2025-08-19T19:07:22.507548Z",
     "iopub.status.busy": "2025-08-19T19:07:22.506829Z",
     "iopub.status.idle": "2025-08-19T19:07:29.194806Z",
     "shell.execute_reply": "2025-08-19T19:07:29.193821Z"
    },
    "papermill": {
     "duration": 6.713374,
     "end_time": "2025-08-19T19:07:29.196209",
     "exception": false,
     "start_time": "2025-08-19T19:07:22.482835",
     "status": "completed"
    },
    "tags": []
   },
   "outputs": [
    {
     "name": "stdout",
     "output_type": "stream",
     "text": [
      "Stopping execution_time clock.\n",
      "[INFO] Keeping all rows: 89710 rows retained.\n"
     ]
    },
    {
     "name": "stdout",
     "output_type": "stream",
     "text": [
      "[INFO] Keeping all rows: 89710 rows retained.\n"
     ]
    },
    {
     "name": "stdout",
     "output_type": "stream",
     "text": [
      "[INFO] Keeping all rows: 89710 rows retained.\n"
     ]
    },
    {
     "name": "stdout",
     "output_type": "stream",
     "text": [
      "[INFO] Keeping all rows: 89710 rows retained.\n"
     ]
    },
    {
     "data": {
      "text/html": [
       "<div>\n",
       "<style scoped>\n",
       "    .dataframe tbody tr th:only-of-type {\n",
       "        vertical-align: middle;\n",
       "    }\n",
       "\n",
       "    .dataframe tbody tr th {\n",
       "        vertical-align: top;\n",
       "    }\n",
       "\n",
       "    .dataframe thead th {\n",
       "        text-align: right;\n",
       "    }\n",
       "</style>\n",
       "<table border=\"1\" class=\"dataframe\">\n",
       "  <thead>\n",
       "    <tr style=\"text-align: right;\">\n",
       "      <th></th>\n",
       "      <th>run_no</th>\n",
       "      <th>universe_id</th>\n",
       "      <th>universe_settings</th>\n",
       "      <th>execution_time</th>\n",
       "      <th>test_size_n</th>\n",
       "      <th>test_size_frac</th>\n",
       "      <th>fair_main_equalized_odds_difference</th>\n",
       "      <th>fair_main_equalized_odds_ratio</th>\n",
       "      <th>fair_main_demographic_parity_difference</th>\n",
       "      <th>fair_main_demographic_parity_ratio</th>\n",
       "      <th>...</th>\n",
       "      <th>perf_grp_precision_0</th>\n",
       "      <th>perf_grp_precision_1</th>\n",
       "      <th>perf_grp_false positive rate_0</th>\n",
       "      <th>perf_grp_false positive rate_1</th>\n",
       "      <th>perf_grp_false negative rate_0</th>\n",
       "      <th>perf_grp_false negative rate_1</th>\n",
       "      <th>perf_grp_selection rate_0</th>\n",
       "      <th>perf_grp_selection rate_1</th>\n",
       "      <th>perf_grp_count_0</th>\n",
       "      <th>perf_grp_count_1</th>\n",
       "    </tr>\n",
       "  </thead>\n",
       "  <tbody>\n",
       "    <tr>\n",
       "      <th>0</th>\n",
       "      <td>3</td>\n",
       "      <td>f0d027785e4f1a597f3677bfe0487b66</td>\n",
       "      <td>{\"cutoff\": \"quantile_0.1\", \"eval_fairness_grou...</td>\n",
       "      <td>24.169794</td>\n",
       "      <td>89710</td>\n",
       "      <td>1.0</td>\n",
       "      <td>0.056686</td>\n",
       "      <td>0.939188</td>\n",
       "      <td>0.048936</td>\n",
       "      <td>0.947815</td>\n",
       "      <td>...</td>\n",
       "      <td>NaN</td>\n",
       "      <td>NaN</td>\n",
       "      <td>NaN</td>\n",
       "      <td>NaN</td>\n",
       "      <td>NaN</td>\n",
       "      <td>NaN</td>\n",
       "      <td>NaN</td>\n",
       "      <td>NaN</td>\n",
       "      <td>NaN</td>\n",
       "      <td>NaN</td>\n",
       "    </tr>\n",
       "    <tr>\n",
       "      <th>0</th>\n",
       "      <td>3</td>\n",
       "      <td>f0d027785e4f1a597f3677bfe0487b66</td>\n",
       "      <td>{\"cutoff\": \"quantile_0.1\", \"eval_fairness_grou...</td>\n",
       "      <td>24.169794</td>\n",
       "      <td>89710</td>\n",
       "      <td>1.0</td>\n",
       "      <td>0.056686</td>\n",
       "      <td>0.939188</td>\n",
       "      <td>0.048936</td>\n",
       "      <td>0.947815</td>\n",
       "      <td>...</td>\n",
       "      <td>0.120554</td>\n",
       "      <td>0.145158</td>\n",
       "      <td>0.932148</td>\n",
       "      <td>0.875462</td>\n",
       "      <td>0.019426</td>\n",
       "      <td>0.023632</td>\n",
       "      <td>0.937731</td>\n",
       "      <td>0.888796</td>\n",
       "      <td>20540.0</td>\n",
       "      <td>69170.0</td>\n",
       "    </tr>\n",
       "    <tr>\n",
       "      <th>0</th>\n",
       "      <td>3</td>\n",
       "      <td>f0d027785e4f1a597f3677bfe0487b66</td>\n",
       "      <td>{\"cutoff\": \"quantile_0.25\", \"eval_fairness_gro...</td>\n",
       "      <td>24.169794</td>\n",
       "      <td>89710</td>\n",
       "      <td>1.0</td>\n",
       "      <td>0.137904</td>\n",
       "      <td>0.833842</td>\n",
       "      <td>0.120168</td>\n",
       "      <td>0.857393</td>\n",
       "      <td>...</td>\n",
       "      <td>NaN</td>\n",
       "      <td>NaN</td>\n",
       "      <td>NaN</td>\n",
       "      <td>NaN</td>\n",
       "      <td>NaN</td>\n",
       "      <td>NaN</td>\n",
       "      <td>NaN</td>\n",
       "      <td>NaN</td>\n",
       "      <td>NaN</td>\n",
       "      <td>NaN</td>\n",
       "    </tr>\n",
       "    <tr>\n",
       "      <th>0</th>\n",
       "      <td>3</td>\n",
       "      <td>f0d027785e4f1a597f3677bfe0487b66</td>\n",
       "      <td>{\"cutoff\": \"quantile_0.25\", \"eval_fairness_gro...</td>\n",
       "      <td>24.169794</td>\n",
       "      <td>89710</td>\n",
       "      <td>1.0</td>\n",
       "      <td>0.137904</td>\n",
       "      <td>0.833842</td>\n",
       "      <td>0.120168</td>\n",
       "      <td>0.857393</td>\n",
       "      <td>...</td>\n",
       "      <td>0.128611</td>\n",
       "      <td>0.168688</td>\n",
       "      <td>0.829958</td>\n",
       "      <td>0.692054</td>\n",
       "      <td>0.059966</td>\n",
       "      <td>0.077681</td>\n",
       "      <td>0.842648</td>\n",
       "      <td>0.722481</td>\n",
       "      <td>20540.0</td>\n",
       "      <td>69170.0</td>\n",
       "    </tr>\n",
       "  </tbody>\n",
       "</table>\n",
       "<p>4 rows × 50 columns</p>\n",
       "</div>"
      ],
      "text/plain": [
       "  run_no                       universe_id  \\\n",
       "0      3  f0d027785e4f1a597f3677bfe0487b66   \n",
       "0      3  f0d027785e4f1a597f3677bfe0487b66   \n",
       "0      3  f0d027785e4f1a597f3677bfe0487b66   \n",
       "0      3  f0d027785e4f1a597f3677bfe0487b66   \n",
       "\n",
       "                                   universe_settings  execution_time  \\\n",
       "0  {\"cutoff\": \"quantile_0.1\", \"eval_fairness_grou...       24.169794   \n",
       "0  {\"cutoff\": \"quantile_0.1\", \"eval_fairness_grou...       24.169794   \n",
       "0  {\"cutoff\": \"quantile_0.25\", \"eval_fairness_gro...       24.169794   \n",
       "0  {\"cutoff\": \"quantile_0.25\", \"eval_fairness_gro...       24.169794   \n",
       "\n",
       "   test_size_n  test_size_frac  fair_main_equalized_odds_difference  \\\n",
       "0        89710             1.0                             0.056686   \n",
       "0        89710             1.0                             0.056686   \n",
       "0        89710             1.0                             0.137904   \n",
       "0        89710             1.0                             0.137904   \n",
       "\n",
       "   fair_main_equalized_odds_ratio  fair_main_demographic_parity_difference  \\\n",
       "0                        0.939188                                 0.048936   \n",
       "0                        0.939188                                 0.048936   \n",
       "0                        0.833842                                 0.120168   \n",
       "0                        0.833842                                 0.120168   \n",
       "\n",
       "   fair_main_demographic_parity_ratio  ...  perf_grp_precision_0  \\\n",
       "0                            0.947815  ...                   NaN   \n",
       "0                            0.947815  ...              0.120554   \n",
       "0                            0.857393  ...                   NaN   \n",
       "0                            0.857393  ...              0.128611   \n",
       "\n",
       "   perf_grp_precision_1  perf_grp_false positive rate_0  \\\n",
       "0                   NaN                             NaN   \n",
       "0              0.145158                        0.932148   \n",
       "0                   NaN                             NaN   \n",
       "0              0.168688                        0.829958   \n",
       "\n",
       "   perf_grp_false positive rate_1  perf_grp_false negative rate_0  \\\n",
       "0                             NaN                             NaN   \n",
       "0                        0.875462                        0.019426   \n",
       "0                             NaN                             NaN   \n",
       "0                        0.692054                        0.059966   \n",
       "\n",
       "   perf_grp_false negative rate_1  perf_grp_selection rate_0  \\\n",
       "0                             NaN                        NaN   \n",
       "0                        0.023632                   0.937731   \n",
       "0                             NaN                        NaN   \n",
       "0                        0.077681                   0.842648   \n",
       "\n",
       "   perf_grp_selection rate_1  perf_grp_count_0  perf_grp_count_1  \n",
       "0                        NaN               NaN               NaN  \n",
       "0                   0.888796           20540.0           69170.0  \n",
       "0                        NaN               NaN               NaN  \n",
       "0                   0.722481           20540.0           69170.0  \n",
       "\n",
       "[4 rows x 50 columns]"
      ]
     },
     "execution_count": 64,
     "metadata": {},
     "output_type": "execute_result"
    }
   ],
   "source": [
    "final_output = universe_analysis.generate_final_output(\n",
    "    y_pred_prob=probs_test,\n",
    "    y_test=y_true,\n",
    "    org_test=org_test,\n",
    "    filter_data=filter_sub_universe_data,\n",
    "    cp_metrics_df=cp_metrics_df,\n",
    "    save=True,\n",
    ")\n",
    "final_output"
   ]
  },
  {
   "cell_type": "code",
   "execution_count": null,
   "id": "8b80a1ff",
   "metadata": {
    "papermill": {
     "duration": 0.026854,
     "end_time": "2025-08-19T19:07:29.256581",
     "exception": false,
     "start_time": "2025-08-19T19:07:29.229727",
     "status": "completed"
    },
    "tags": []
   },
   "outputs": [],
   "source": []
  },
  {
   "cell_type": "code",
   "execution_count": null,
   "id": "275c9fad",
   "metadata": {
    "papermill": {
     "duration": 0.014463,
     "end_time": "2025-08-19T19:07:29.286068",
     "exception": false,
     "start_time": "2025-08-19T19:07:29.271605",
     "status": "completed"
    },
    "tags": []
   },
   "outputs": [],
   "source": []
  }
 ],
 "metadata": {
  "celltoolbar": "Tags",
  "kernelspec": {
   "display_name": "Python (CMA Fairness)",
   "language": "python",
   "name": "cma_fair_env"
  },
  "language_info": {
   "codemirror_mode": {
    "name": "ipython",
    "version": 3
   },
   "file_extension": ".py",
   "mimetype": "text/x-python",
   "name": "python",
   "nbconvert_exporter": "python",
   "pygments_lexer": "ipython3",
   "version": "3.10.12"
  },
  "papermill": {
   "default_parameters": {},
   "duration": 34.765099,
   "end_time": "2025-08-19T19:07:30.127889",
   "environment_variables": {},
   "exception": null,
   "input_path": "universe_analysis.ipynb",
   "output_path": "output/runs/3/notebooks/m_3-f0d027785e4f1a597f3677bfe0487b66.ipynb",
   "parameters": {
    "output_dir": "output",
    "run_no": "3",
    "seed": "2023",
    "universe": "{\"cutoff\": [\"quantile_0.1\", \"quantile_0.25\"], \"eval_fairness_grouping\": [\"majority-minority\", \"nationality-all\"], \"exclude_features\": \"nationality\", \"exclude_subgroups\": \"keep-all\", \"model\": \"gbm\", \"scale\": \"scale\", \"training_size\": \"1k\", \"training_year\": \"2010_14\"}",
    "universe_id": "f0d027785e4f1a597f3677bfe0487b66"
   },
   "start_time": "2025-08-19T19:06:55.362790",
   "version": "2.6.0"
  }
 },
 "nbformat": 4,
 "nbformat_minor": 5
}