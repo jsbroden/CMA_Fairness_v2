{
 "cells": [
  {
   "cell_type": "markdown",
   "id": "ef23dbb3",
   "metadata": {
    "papermill": {
     "duration": 0.018851,
     "end_time": "2025-08-19T18:50:24.755990",
     "exception": false,
     "start_time": "2025-08-19T18:50:24.737139",
     "status": "completed"
    },
    "tags": []
   },
   "source": [
    "# Setup"
   ]
  },
  {
   "cell_type": "code",
   "execution_count": 1,
   "id": "0bc8e7dc",
   "metadata": {
    "execution": {
     "iopub.execute_input": "2025-08-19T18:50:24.802216Z",
     "iopub.status.busy": "2025-08-19T18:50:24.801854Z",
     "iopub.status.idle": "2025-08-19T18:50:24.812561Z",
     "shell.execute_reply": "2025-08-19T18:50:24.811585Z"
    },
    "papermill": {
     "duration": 0.030028,
     "end_time": "2025-08-19T18:50:24.815868",
     "exception": false,
     "start_time": "2025-08-19T18:50:24.785840",
     "status": "completed"
    },
    "tags": []
   },
   "outputs": [
    {
     "name": "stdout",
     "output_type": "stream",
     "text": [
      "/dss/dsshome1/0C/ra93lal2/cma/CMA_Fairness_v2\n"
     ]
    },
    {
     "name": "stderr",
     "output_type": "stream",
     "text": [
      "/dss/dsshome1/0C/ra93lal2/.local/share/virtualenvs/CMA_Fairness_v2-3j10GkSs/lib/python3.10/site-packages/IPython/core/magics/osm.py:393: UserWarning: This is now an optional IPython functionality, using bookmarks requires you to install the `pickleshare` library.\n",
      "  bkms = self.shell.db.get('bookmarks', {})\n",
      "/dss/dsshome1/0C/ra93lal2/.local/share/virtualenvs/CMA_Fairness_v2-3j10GkSs/lib/python3.10/site-packages/IPython/core/magics/osm.py:417: UserWarning: This is now an optional IPython functionality, setting dhist requires you to install the `pickleshare` library.\n",
      "  self.shell.db['dhist'] = compress_dhist(dhist)[-100:]\n"
     ]
    }
   ],
   "source": [
    "%cd ~/cma/CMA_Fairness_v2"
   ]
  },
  {
   "cell_type": "markdown",
   "id": "9d235661",
   "metadata": {
    "papermill": {
     "duration": 0.009425,
     "end_time": "2025-08-19T18:50:24.835245",
     "exception": false,
     "start_time": "2025-08-19T18:50:24.825820",
     "status": "completed"
    },
    "tags": []
   },
   "source": [
    "The following cell holds the definition of our parameters, these values can be overriden by rendering the with e.g. the following command:\n",
    "\n",
    "papermill -p alpha 0.2 -p ratio 0.3 universe_analysis.ipynb output/test_run.ipynb"
   ]
  },
  {
   "cell_type": "code",
   "execution_count": 2,
   "id": "4a789d8e",
   "metadata": {
    "execution": {
     "iopub.execute_input": "2025-08-19T18:50:24.857054Z",
     "iopub.status.busy": "2025-08-19T18:50:24.855972Z",
     "iopub.status.idle": "2025-08-19T18:50:24.861044Z",
     "shell.execute_reply": "2025-08-19T18:50:24.860333Z"
    },
    "papermill": {
     "duration": 0.017727,
     "end_time": "2025-08-19T18:50:24.862378",
     "exception": false,
     "start_time": "2025-08-19T18:50:24.844651",
     "status": "completed"
    },
    "tags": []
   },
   "outputs": [
    {
     "name": "stdout",
     "output_type": "stream",
     "text": [
      "Current working directory: /dss/dsshome1/0C/ra93lal2/cma/CMA_Fairness_v2\n"
     ]
    }
   ],
   "source": [
    "import os\n",
    "print(\"Current working directory:\", os.getcwd())"
   ]
  },
  {
   "cell_type": "code",
   "execution_count": 3,
   "id": "4132aaed",
   "metadata": {
    "execution": {
     "iopub.execute_input": "2025-08-19T18:50:24.886387Z",
     "iopub.status.busy": "2025-08-19T18:50:24.885844Z",
     "iopub.status.idle": "2025-08-19T18:50:24.894548Z",
     "shell.execute_reply": "2025-08-19T18:50:24.893721Z"
    },
    "papermill": {
     "duration": 0.025271,
     "end_time": "2025-08-19T18:50:24.900563",
     "exception": false,
     "start_time": "2025-08-19T18:50:24.875292",
     "status": "completed"
    },
    "tags": [
     "parameters"
    ]
   },
   "outputs": [],
   "source": [
    "run_no = 0\n",
    "universe_id = \"test\"\n",
    "universe = {\n",
    "    \"training_size\": \"5k\", # \"25k\", \"5k\", \"1k\"\n",
    "    \"training_year\": \"2012_14\", # \"2014\", \"2012_14\", \"2010_14\"\n",
    "    \"scale\": \"scale\", # \"scale\", \"do-not-scale\",\n",
    "    \"model\": \"elasticnet\", # \"logreg\", \"penalized_logreg\", \"rf\", \"gbm\", \"elasticnet\"\n",
    "    \"cutoff\": [\"quantile_0.15\", \"quantile_0.30\"],\n",
    "    \"exclude_features\": \"age\", # \"none\", \"nationality\", \"sex\", \"nationality-sex\", \"age\"\n",
    "    \"exclude_subgroups\": \"drop-non-german\", # \"keep-all\", \"drop-non-german\"\n",
    "    \"eval_fairness_grouping\": [\"majority-minority\", \"nationality-all\"]\n",
    "}\n",
    "\n",
    "output_dir=\"./output\"\n",
    "seed=0"
   ]
  },
  {
   "cell_type": "code",
   "execution_count": 4,
   "id": "d9712d24",
   "metadata": {
    "execution": {
     "iopub.execute_input": "2025-08-19T18:50:24.932231Z",
     "iopub.status.busy": "2025-08-19T18:50:24.931880Z",
     "iopub.status.idle": "2025-08-19T18:50:24.937080Z",
     "shell.execute_reply": "2025-08-19T18:50:24.936170Z"
    },
    "papermill": {
     "duration": 0.019197,
     "end_time": "2025-08-19T18:50:24.938425",
     "exception": false,
     "start_time": "2025-08-19T18:50:24.919228",
     "status": "completed"
    },
    "tags": [
     "injected-parameters"
    ]
   },
   "outputs": [],
   "source": [
    "# Parameters\n",
    "universe_id = \"0b4807607cad1526d8e6418f2999cbc7\"\n",
    "run_no = \"3\"\n",
    "universe = \"{\\\"cutoff\\\": [\\\"quantile_0.1\\\", \\\"quantile_0.25\\\"], \\\"eval_fairness_grouping\\\": [\\\"majority-minority\\\", \\\"nationality-all\\\"], \\\"exclude_features\\\": \\\"sex\\\", \\\"exclude_subgroups\\\": \\\"drop-non-german\\\", \\\"model\\\": \\\"rf\\\", \\\"scale\\\": \\\"scale\\\", \\\"training_size\\\": \\\"1k\\\", \\\"training_year\\\": \\\"2014\\\"}\"\n",
    "output_dir = \"output\"\n",
    "seed = \"2023\"\n"
   ]
  },
  {
   "cell_type": "code",
   "execution_count": 5,
   "id": "a5d7941f",
   "metadata": {
    "execution": {
     "iopub.execute_input": "2025-08-19T18:50:24.962073Z",
     "iopub.status.busy": "2025-08-19T18:50:24.961582Z",
     "iopub.status.idle": "2025-08-19T18:50:24.983267Z",
     "shell.execute_reply": "2025-08-19T18:50:24.982444Z"
    },
    "papermill": {
     "duration": 0.035021,
     "end_time": "2025-08-19T18:50:24.984803",
     "exception": false,
     "start_time": "2025-08-19T18:50:24.949782",
     "status": "completed"
    },
    "tags": []
   },
   "outputs": [],
   "source": [
    "import json\n",
    "if isinstance(universe, str):\n",
    "    universe = json.loads(universe)"
   ]
  },
  {
   "cell_type": "code",
   "execution_count": 6,
   "id": "7076ccb1",
   "metadata": {
    "execution": {
     "iopub.execute_input": "2025-08-19T18:50:25.014142Z",
     "iopub.status.busy": "2025-08-19T18:50:25.013824Z",
     "iopub.status.idle": "2025-08-19T18:50:25.059307Z",
     "shell.execute_reply": "2025-08-19T18:50:25.058119Z"
    },
    "papermill": {
     "duration": 0.059807,
     "end_time": "2025-08-19T18:50:25.061144",
     "exception": false,
     "start_time": "2025-08-19T18:50:25.001337",
     "status": "completed"
    },
    "tags": []
   },
   "outputs": [],
   "source": [
    "# Auto-reload the custom package\n",
    "%load_ext autoreload\n",
    "%autoreload 1\n",
    "%aimport fairness_multiverse"
   ]
  },
  {
   "cell_type": "code",
   "execution_count": 7,
   "id": "94c8eb93",
   "metadata": {
    "execution": {
     "iopub.execute_input": "2025-08-19T18:50:25.081427Z",
     "iopub.status.busy": "2025-08-19T18:50:25.081114Z",
     "iopub.status.idle": "2025-08-19T18:50:26.837436Z",
     "shell.execute_reply": "2025-08-19T18:50:26.836574Z"
    },
    "papermill": {
     "duration": 1.769543,
     "end_time": "2025-08-19T18:50:26.840364",
     "exception": false,
     "start_time": "2025-08-19T18:50:25.070821",
     "status": "completed"
    },
    "tags": []
   },
   "outputs": [],
   "source": [
    "from fairness_multiverse.universe import UniverseAnalysis\n",
    "\n",
    "universe_analysis = UniverseAnalysis(\n",
    "    run_no = run_no,\n",
    "    universe_id = universe_id,\n",
    "    universe = universe,\n",
    "    output_dir=output_dir,\n",
    ")"
   ]
  },
  {
   "cell_type": "code",
   "execution_count": 8,
   "id": "2a6381cf",
   "metadata": {
    "execution": {
     "iopub.execute_input": "2025-08-19T18:50:26.879065Z",
     "iopub.status.busy": "2025-08-19T18:50:26.877885Z",
     "iopub.status.idle": "2025-08-19T18:50:26.889316Z",
     "shell.execute_reply": "2025-08-19T18:50:26.887660Z"
    },
    "papermill": {
     "duration": 0.027666,
     "end_time": "2025-08-19T18:50:26.890999",
     "exception": false,
     "start_time": "2025-08-19T18:50:26.863333",
     "status": "completed"
    },
    "tags": []
   },
   "outputs": [
    {
     "name": "stdout",
     "output_type": "stream",
     "text": [
      "Using Seed: 2023\n"
     ]
    }
   ],
   "source": [
    "import numpy as np\n",
    "parsed_seed = int(seed)\n",
    "np.random.seed(parsed_seed)\n",
    "print(f\"Using Seed: {parsed_seed}\")"
   ]
  },
  {
   "cell_type": "markdown",
   "id": "b6e958b4",
   "metadata": {
    "papermill": {
     "duration": 0.010833,
     "end_time": "2025-08-19T18:50:26.917013",
     "exception": false,
     "start_time": "2025-08-19T18:50:26.906180",
     "status": "completed"
    },
    "tags": []
   },
   "source": [
    "# Loading Data"
   ]
  },
  {
   "cell_type": "code",
   "execution_count": 9,
   "id": "98701482",
   "metadata": {
    "execution": {
     "iopub.execute_input": "2025-08-19T18:50:26.938974Z",
     "iopub.status.busy": "2025-08-19T18:50:26.937613Z",
     "iopub.status.idle": "2025-08-19T18:50:37.537374Z",
     "shell.execute_reply": "2025-08-19T18:50:37.536362Z"
    },
    "papermill": {
     "duration": 10.613121,
     "end_time": "2025-08-19T18:50:37.539271",
     "exception": false,
     "start_time": "2025-08-19T18:50:26.926150",
     "status": "completed"
    },
    "tags": []
   },
   "outputs": [
    {
     "name": "stdout",
     "output_type": "stream",
     "text": [
      "Loading SIAB data from cache: data/siab_cached.csv.gz\n"
     ]
    },
    {
     "name": "stdout",
     "output_type": "stream",
     "text": [
      "(643690, 164)\n"
     ]
    }
   ],
   "source": [
    "from pathlib import Path\n",
    "import pandas as pd\n",
    "\n",
    "# File paths\n",
    "raw_file = Path(\"data/raw/siab.csv\")\n",
    "cache_file = Path(\"data/siab_cached.csv.gz\")\n",
    "\n",
    "# Ensure cache directory exists\n",
    "cache_file.parent.mkdir(parents=True, exist_ok=True)\n",
    "\n",
    "# Load with simple caching\n",
    "if cache_file.exists():\n",
    "    print(f\"Loading SIAB data from cache: {cache_file}\")\n",
    "    siab = pd.read_csv(cache_file, compression='gzip')\n",
    "else:\n",
    "    print(f\"Cache not found. Reading raw SIAB data: {raw_file}\")\n",
    "    siab = pd.read_csv(raw_file)\n",
    "    siab.to_csv(cache_file, index=False, compression='gzip')\n",
    "    print(f\"Cached SIAB data to: {cache_file}\")\n",
    "\n",
    "print(siab.shape)"
   ]
  },
  {
   "cell_type": "code",
   "execution_count": 10,
   "id": "058d2abb",
   "metadata": {
    "execution": {
     "iopub.execute_input": "2025-08-19T18:50:37.578314Z",
     "iopub.status.busy": "2025-08-19T18:50:37.577033Z",
     "iopub.status.idle": "2025-08-19T18:50:37.875796Z",
     "shell.execute_reply": "2025-08-19T18:50:37.874388Z"
    },
    "papermill": {
     "duration": 0.313929,
     "end_time": "2025-08-19T18:50:37.877621",
     "exception": false,
     "start_time": "2025-08-19T18:50:37.563692",
     "status": "completed"
    },
    "tags": []
   },
   "outputs": [
    {
     "data": {
      "text/html": [
       "<div>\n",
       "<style scoped>\n",
       "    .dataframe tbody tr th:only-of-type {\n",
       "        vertical-align: middle;\n",
       "    }\n",
       "\n",
       "    .dataframe tbody tr th {\n",
       "        vertical-align: top;\n",
       "    }\n",
       "\n",
       "    .dataframe thead th {\n",
       "        text-align: right;\n",
       "    }\n",
       "</style>\n",
       "<table border=\"1\" class=\"dataframe\">\n",
       "  <thead>\n",
       "    <tr style=\"text-align: right;\">\n",
       "      <th></th>\n",
       "      <th>persnr</th>\n",
       "      <th>year</th>\n",
       "      <th>nrEntry</th>\n",
       "      <th>ltue</th>\n",
       "      <th>employed_before</th>\n",
       "      <th>receipt_leh_before</th>\n",
       "      <th>receipt_lhg_before</th>\n",
       "      <th>se_before</th>\n",
       "      <th>ASU_notue_seeking_before</th>\n",
       "      <th>ASU_other_before</th>\n",
       "      <th>...</th>\n",
       "      <th>minijob_tot_dur_byage</th>\n",
       "      <th>ft_tot_dur_byage</th>\n",
       "      <th>befrist_tot_dur_byage</th>\n",
       "      <th>leih_tot_dur_byage</th>\n",
       "      <th>LHG_tot_dur_byage</th>\n",
       "      <th>LEH_tot_dur_byage</th>\n",
       "      <th>almp_tot_dur_byage</th>\n",
       "      <th>almp_aw_tot_dur_byage</th>\n",
       "      <th>se_tot_dur_byage</th>\n",
       "      <th>seeking1_tot_dur_byage</th>\n",
       "    </tr>\n",
       "  </thead>\n",
       "  <tbody>\n",
       "    <tr>\n",
       "      <th>0</th>\n",
       "      <td>7</td>\n",
       "      <td>2015</td>\n",
       "      <td>1</td>\n",
       "      <td>0</td>\n",
       "      <td>1</td>\n",
       "      <td>0</td>\n",
       "      <td>0</td>\n",
       "      <td>0</td>\n",
       "      <td>1</td>\n",
       "      <td>0</td>\n",
       "      <td>...</td>\n",
       "      <td>0.000000</td>\n",
       "      <td>0.000000</td>\n",
       "      <td>15.043478</td>\n",
       "      <td>0.000000</td>\n",
       "      <td>0.000000</td>\n",
       "      <td>0.000000</td>\n",
       "      <td>0.000000</td>\n",
       "      <td>0.000000</td>\n",
       "      <td>0.000000</td>\n",
       "      <td>0.000000</td>\n",
       "    </tr>\n",
       "    <tr>\n",
       "      <th>1</th>\n",
       "      <td>18</td>\n",
       "      <td>2010</td>\n",
       "      <td>1</td>\n",
       "      <td>1</td>\n",
       "      <td>0</td>\n",
       "      <td>0</td>\n",
       "      <td>0</td>\n",
       "      <td>0</td>\n",
       "      <td>0</td>\n",
       "      <td>0</td>\n",
       "      <td>...</td>\n",
       "      <td>0.000000</td>\n",
       "      <td>0.000000</td>\n",
       "      <td>0.000000</td>\n",
       "      <td>0.000000</td>\n",
       "      <td>0.000000</td>\n",
       "      <td>0.000000</td>\n",
       "      <td>0.000000</td>\n",
       "      <td>0.000000</td>\n",
       "      <td>0.000000</td>\n",
       "      <td>0.000000</td>\n",
       "    </tr>\n",
       "    <tr>\n",
       "      <th>2</th>\n",
       "      <td>18</td>\n",
       "      <td>2011</td>\n",
       "      <td>2</td>\n",
       "      <td>0</td>\n",
       "      <td>1</td>\n",
       "      <td>0</td>\n",
       "      <td>1</td>\n",
       "      <td>0</td>\n",
       "      <td>1</td>\n",
       "      <td>0</td>\n",
       "      <td>...</td>\n",
       "      <td>2.714286</td>\n",
       "      <td>2.714286</td>\n",
       "      <td>0.000000</td>\n",
       "      <td>0.000000</td>\n",
       "      <td>10.775510</td>\n",
       "      <td>0.000000</td>\n",
       "      <td>8.367347</td>\n",
       "      <td>0.000000</td>\n",
       "      <td>0.000000</td>\n",
       "      <td>9.836735</td>\n",
       "    </tr>\n",
       "    <tr>\n",
       "      <th>3</th>\n",
       "      <td>18</td>\n",
       "      <td>2012</td>\n",
       "      <td>3</td>\n",
       "      <td>0</td>\n",
       "      <td>1</td>\n",
       "      <td>0</td>\n",
       "      <td>1</td>\n",
       "      <td>0</td>\n",
       "      <td>1</td>\n",
       "      <td>0</td>\n",
       "      <td>...</td>\n",
       "      <td>4.200000</td>\n",
       "      <td>4.200000</td>\n",
       "      <td>0.000000</td>\n",
       "      <td>0.000000</td>\n",
       "      <td>12.100000</td>\n",
       "      <td>0.000000</td>\n",
       "      <td>9.400000</td>\n",
       "      <td>0.000000</td>\n",
       "      <td>0.000000</td>\n",
       "      <td>9.960000</td>\n",
       "    </tr>\n",
       "    <tr>\n",
       "      <th>4</th>\n",
       "      <td>18</td>\n",
       "      <td>2012</td>\n",
       "      <td>4</td>\n",
       "      <td>0</td>\n",
       "      <td>1</td>\n",
       "      <td>0</td>\n",
       "      <td>1</td>\n",
       "      <td>0</td>\n",
       "      <td>1</td>\n",
       "      <td>0</td>\n",
       "      <td>...</td>\n",
       "      <td>5.460000</td>\n",
       "      <td>5.460000</td>\n",
       "      <td>0.000000</td>\n",
       "      <td>0.000000</td>\n",
       "      <td>13.360000</td>\n",
       "      <td>0.000000</td>\n",
       "      <td>10.320000</td>\n",
       "      <td>0.000000</td>\n",
       "      <td>0.000000</td>\n",
       "      <td>10.280000</td>\n",
       "    </tr>\n",
       "    <tr>\n",
       "      <th>...</th>\n",
       "      <td>...</td>\n",
       "      <td>...</td>\n",
       "      <td>...</td>\n",
       "      <td>...</td>\n",
       "      <td>...</td>\n",
       "      <td>...</td>\n",
       "      <td>...</td>\n",
       "      <td>...</td>\n",
       "      <td>...</td>\n",
       "      <td>...</td>\n",
       "      <td>...</td>\n",
       "      <td>...</td>\n",
       "      <td>...</td>\n",
       "      <td>...</td>\n",
       "      <td>...</td>\n",
       "      <td>...</td>\n",
       "      <td>...</td>\n",
       "      <td>...</td>\n",
       "      <td>...</td>\n",
       "      <td>...</td>\n",
       "      <td>...</td>\n",
       "    </tr>\n",
       "    <tr>\n",
       "      <th>643685</th>\n",
       "      <td>1827860</td>\n",
       "      <td>2013</td>\n",
       "      <td>1</td>\n",
       "      <td>0</td>\n",
       "      <td>0</td>\n",
       "      <td>0</td>\n",
       "      <td>1</td>\n",
       "      <td>0</td>\n",
       "      <td>0</td>\n",
       "      <td>1</td>\n",
       "      <td>...</td>\n",
       "      <td>0.000000</td>\n",
       "      <td>0.000000</td>\n",
       "      <td>0.000000</td>\n",
       "      <td>0.000000</td>\n",
       "      <td>0.612903</td>\n",
       "      <td>0.000000</td>\n",
       "      <td>0.000000</td>\n",
       "      <td>0.000000</td>\n",
       "      <td>0.000000</td>\n",
       "      <td>0.000000</td>\n",
       "    </tr>\n",
       "    <tr>\n",
       "      <th>643686</th>\n",
       "      <td>1827860</td>\n",
       "      <td>2015</td>\n",
       "      <td>2</td>\n",
       "      <td>1</td>\n",
       "      <td>0</td>\n",
       "      <td>0</td>\n",
       "      <td>1</td>\n",
       "      <td>0</td>\n",
       "      <td>1</td>\n",
       "      <td>0</td>\n",
       "      <td>...</td>\n",
       "      <td>0.000000</td>\n",
       "      <td>0.000000</td>\n",
       "      <td>0.212121</td>\n",
       "      <td>0.212121</td>\n",
       "      <td>17.363636</td>\n",
       "      <td>0.000000</td>\n",
       "      <td>8.909091</td>\n",
       "      <td>0.000000</td>\n",
       "      <td>0.000000</td>\n",
       "      <td>7.121212</td>\n",
       "    </tr>\n",
       "    <tr>\n",
       "      <th>643687</th>\n",
       "      <td>1827860</td>\n",
       "      <td>2016</td>\n",
       "      <td>3</td>\n",
       "      <td>1</td>\n",
       "      <td>0</td>\n",
       "      <td>0</td>\n",
       "      <td>1</td>\n",
       "      <td>1</td>\n",
       "      <td>0</td>\n",
       "      <td>1</td>\n",
       "      <td>...</td>\n",
       "      <td>0.000000</td>\n",
       "      <td>0.000000</td>\n",
       "      <td>0.294118</td>\n",
       "      <td>0.205882</td>\n",
       "      <td>34.705882</td>\n",
       "      <td>0.000000</td>\n",
       "      <td>10.352941</td>\n",
       "      <td>1.705882</td>\n",
       "      <td>1.705882</td>\n",
       "      <td>23.911765</td>\n",
       "    </tr>\n",
       "    <tr>\n",
       "      <th>643688</th>\n",
       "      <td>1827869</td>\n",
       "      <td>2013</td>\n",
       "      <td>1</td>\n",
       "      <td>1</td>\n",
       "      <td>1</td>\n",
       "      <td>0</td>\n",
       "      <td>0</td>\n",
       "      <td>0</td>\n",
       "      <td>1</td>\n",
       "      <td>0</td>\n",
       "      <td>...</td>\n",
       "      <td>0.000000</td>\n",
       "      <td>0.000000</td>\n",
       "      <td>0.000000</td>\n",
       "      <td>0.000000</td>\n",
       "      <td>0.000000</td>\n",
       "      <td>0.525424</td>\n",
       "      <td>0.000000</td>\n",
       "      <td>0.000000</td>\n",
       "      <td>0.000000</td>\n",
       "      <td>0.000000</td>\n",
       "    </tr>\n",
       "    <tr>\n",
       "      <th>643689</th>\n",
       "      <td>1827869</td>\n",
       "      <td>2014</td>\n",
       "      <td>2</td>\n",
       "      <td>0</td>\n",
       "      <td>0</td>\n",
       "      <td>1</td>\n",
       "      <td>0</td>\n",
       "      <td>0</td>\n",
       "      <td>1</td>\n",
       "      <td>0</td>\n",
       "      <td>...</td>\n",
       "      <td>0.000000</td>\n",
       "      <td>0.666667</td>\n",
       "      <td>0.666667</td>\n",
       "      <td>0.000000</td>\n",
       "      <td>0.000000</td>\n",
       "      <td>8.950000</td>\n",
       "      <td>1.033333</td>\n",
       "      <td>0.083333</td>\n",
       "      <td>0.083333</td>\n",
       "      <td>8.133333</td>\n",
       "    </tr>\n",
       "  </tbody>\n",
       "</table>\n",
       "<p>643690 rows × 164 columns</p>\n",
       "</div>"
      ],
      "text/plain": [
       "         persnr  year  nrEntry  ltue  employed_before  receipt_leh_before  \\\n",
       "0             7  2015        1     0                1                   0   \n",
       "1            18  2010        1     1                0                   0   \n",
       "2            18  2011        2     0                1                   0   \n",
       "3            18  2012        3     0                1                   0   \n",
       "4            18  2012        4     0                1                   0   \n",
       "...         ...   ...      ...   ...              ...                 ...   \n",
       "643685  1827860  2013        1     0                0                   0   \n",
       "643686  1827860  2015        2     1                0                   0   \n",
       "643687  1827860  2016        3     1                0                   0   \n",
       "643688  1827869  2013        1     1                1                   0   \n",
       "643689  1827869  2014        2     0                0                   1   \n",
       "\n",
       "        receipt_lhg_before  se_before  ASU_notue_seeking_before  \\\n",
       "0                        0          0                         1   \n",
       "1                        0          0                         0   \n",
       "2                        1          0                         1   \n",
       "3                        1          0                         1   \n",
       "4                        1          0                         1   \n",
       "...                    ...        ...                       ...   \n",
       "643685                   1          0                         0   \n",
       "643686                   1          0                         1   \n",
       "643687                   1          1                         0   \n",
       "643688                   0          0                         1   \n",
       "643689                   0          0                         1   \n",
       "\n",
       "        ASU_other_before  ...  minijob_tot_dur_byage  ft_tot_dur_byage  \\\n",
       "0                      0  ...               0.000000          0.000000   \n",
       "1                      0  ...               0.000000          0.000000   \n",
       "2                      0  ...               2.714286          2.714286   \n",
       "3                      0  ...               4.200000          4.200000   \n",
       "4                      0  ...               5.460000          5.460000   \n",
       "...                  ...  ...                    ...               ...   \n",
       "643685                 1  ...               0.000000          0.000000   \n",
       "643686                 0  ...               0.000000          0.000000   \n",
       "643687                 1  ...               0.000000          0.000000   \n",
       "643688                 0  ...               0.000000          0.000000   \n",
       "643689                 0  ...               0.000000          0.666667   \n",
       "\n",
       "        befrist_tot_dur_byage  leih_tot_dur_byage  LHG_tot_dur_byage  \\\n",
       "0                   15.043478            0.000000           0.000000   \n",
       "1                    0.000000            0.000000           0.000000   \n",
       "2                    0.000000            0.000000          10.775510   \n",
       "3                    0.000000            0.000000          12.100000   \n",
       "4                    0.000000            0.000000          13.360000   \n",
       "...                       ...                 ...                ...   \n",
       "643685               0.000000            0.000000           0.612903   \n",
       "643686               0.212121            0.212121          17.363636   \n",
       "643687               0.294118            0.205882          34.705882   \n",
       "643688               0.000000            0.000000           0.000000   \n",
       "643689               0.666667            0.000000           0.000000   \n",
       "\n",
       "        LEH_tot_dur_byage  almp_tot_dur_byage  almp_aw_tot_dur_byage  \\\n",
       "0                0.000000            0.000000               0.000000   \n",
       "1                0.000000            0.000000               0.000000   \n",
       "2                0.000000            8.367347               0.000000   \n",
       "3                0.000000            9.400000               0.000000   \n",
       "4                0.000000           10.320000               0.000000   \n",
       "...                   ...                 ...                    ...   \n",
       "643685           0.000000            0.000000               0.000000   \n",
       "643686           0.000000            8.909091               0.000000   \n",
       "643687           0.000000           10.352941               1.705882   \n",
       "643688           0.525424            0.000000               0.000000   \n",
       "643689           8.950000            1.033333               0.083333   \n",
       "\n",
       "        se_tot_dur_byage  seeking1_tot_dur_byage  \n",
       "0               0.000000                0.000000  \n",
       "1               0.000000                0.000000  \n",
       "2               0.000000                9.836735  \n",
       "3               0.000000                9.960000  \n",
       "4               0.000000               10.280000  \n",
       "...                  ...                     ...  \n",
       "643685          0.000000                0.000000  \n",
       "643686          0.000000                7.121212  \n",
       "643687          1.705882               23.911765  \n",
       "643688          0.000000                0.000000  \n",
       "643689          0.083333                8.133333  \n",
       "\n",
       "[643690 rows x 164 columns]"
      ]
     },
     "execution_count": 10,
     "metadata": {},
     "output_type": "execute_result"
    }
   ],
   "source": [
    "siab"
   ]
  },
  {
   "cell_type": "markdown",
   "id": "1f87e805",
   "metadata": {
    "papermill": {
     "duration": 0.012264,
     "end_time": "2025-08-19T18:50:37.907298",
     "exception": false,
     "start_time": "2025-08-19T18:50:37.895034",
     "status": "completed"
    },
    "tags": []
   },
   "source": [
    "# Splitting Data and Setting Training Data Size"
   ]
  },
  {
   "cell_type": "code",
   "execution_count": 11,
   "id": "910ae358",
   "metadata": {
    "execution": {
     "iopub.execute_input": "2025-08-19T18:50:37.930322Z",
     "iopub.status.busy": "2025-08-19T18:50:37.929940Z",
     "iopub.status.idle": "2025-08-19T18:50:38.171185Z",
     "shell.execute_reply": "2025-08-19T18:50:38.170280Z"
    },
    "papermill": {
     "duration": 0.255832,
     "end_time": "2025-08-19T18:50:38.173819",
     "exception": false,
     "start_time": "2025-08-19T18:50:37.917987",
     "status": "completed"
    },
    "tags": []
   },
   "outputs": [],
   "source": [
    "from fairness_multiverse.universe import sample_by_year_size\n",
    "\n",
    "siab_train = sample_by_year_size(siab,\n",
    "                               training_year=universe[\"training_year\"],\n",
    "                               training_size=universe[\"training_size\"])"
   ]
  },
  {
   "cell_type": "code",
   "execution_count": 12,
   "id": "919c8ff5",
   "metadata": {
    "execution": {
     "iopub.execute_input": "2025-08-19T18:50:38.201842Z",
     "iopub.status.busy": "2025-08-19T18:50:38.201369Z",
     "iopub.status.idle": "2025-08-19T18:50:38.208759Z",
     "shell.execute_reply": "2025-08-19T18:50:38.207268Z"
    },
    "papermill": {
     "duration": 0.020169,
     "end_time": "2025-08-19T18:50:38.210292",
     "exception": false,
     "start_time": "2025-08-19T18:50:38.190123",
     "status": "completed"
    },
    "tags": []
   },
   "outputs": [
    {
     "data": {
      "text/plain": [
       "(1000, 164)"
      ]
     },
     "execution_count": 12,
     "metadata": {},
     "output_type": "execute_result"
    }
   ],
   "source": [
    "siab_train.shape"
   ]
  },
  {
   "cell_type": "code",
   "execution_count": 13,
   "id": "feb13bf4",
   "metadata": {
    "execution": {
     "iopub.execute_input": "2025-08-19T18:50:38.237339Z",
     "iopub.status.busy": "2025-08-19T18:50:38.236273Z",
     "iopub.status.idle": "2025-08-19T18:50:38.255923Z",
     "shell.execute_reply": "2025-08-19T18:50:38.254996Z"
    },
    "papermill": {
     "duration": 0.035657,
     "end_time": "2025-08-19T18:50:38.257160",
     "exception": false,
     "start_time": "2025-08-19T18:50:38.221503",
     "status": "completed"
    },
    "tags": []
   },
   "outputs": [
    {
     "data": {
      "text/plain": [
       "year\n",
       "2014    1000\n",
       "dtype: int64"
      ]
     },
     "metadata": {},
     "output_type": "display_data"
    }
   ],
   "source": [
    "display(siab_train.groupby(\"year\").size())"
   ]
  },
  {
   "cell_type": "code",
   "execution_count": 14,
   "id": "0997782f",
   "metadata": {
    "execution": {
     "iopub.execute_input": "2025-08-19T18:50:38.278560Z",
     "iopub.status.busy": "2025-08-19T18:50:38.278020Z",
     "iopub.status.idle": "2025-08-19T18:50:38.597842Z",
     "shell.execute_reply": "2025-08-19T18:50:38.597168Z"
    },
    "papermill": {
     "duration": 0.333184,
     "end_time": "2025-08-19T18:50:38.600356",
     "exception": false,
     "start_time": "2025-08-19T18:50:38.267172",
     "status": "completed"
    },
    "tags": []
   },
   "outputs": [],
   "source": [
    "#siab_train = siab_s[siab_s.year < 2015]\n",
    "siab_calib = siab[siab.year == 2015]\n",
    "siab_test = siab[siab.year == 2016]"
   ]
  },
  {
   "cell_type": "code",
   "execution_count": 15,
   "id": "2c1e4012",
   "metadata": {
    "execution": {
     "iopub.execute_input": "2025-08-19T18:50:38.650205Z",
     "iopub.status.busy": "2025-08-19T18:50:38.649023Z",
     "iopub.status.idle": "2025-08-19T18:50:38.657522Z",
     "shell.execute_reply": "2025-08-19T18:50:38.655877Z"
    },
    "papermill": {
     "duration": 0.034127,
     "end_time": "2025-08-19T18:50:38.659331",
     "exception": false,
     "start_time": "2025-08-19T18:50:38.625204",
     "status": "completed"
    },
    "tags": []
   },
   "outputs": [],
   "source": [
    "#siab_calib.shape"
   ]
  },
  {
   "cell_type": "code",
   "execution_count": 16,
   "id": "f66b54ca",
   "metadata": {
    "execution": {
     "iopub.execute_input": "2025-08-19T18:50:38.690707Z",
     "iopub.status.busy": "2025-08-19T18:50:38.689260Z",
     "iopub.status.idle": "2025-08-19T18:50:38.697561Z",
     "shell.execute_reply": "2025-08-19T18:50:38.695833Z"
    },
    "papermill": {
     "duration": 0.024208,
     "end_time": "2025-08-19T18:50:38.699479",
     "exception": false,
     "start_time": "2025-08-19T18:50:38.675271",
     "status": "completed"
    },
    "tags": []
   },
   "outputs": [],
   "source": [
    "#siab_test.shape"
   ]
  },
  {
   "cell_type": "code",
   "execution_count": 17,
   "id": "27e4384d",
   "metadata": {
    "execution": {
     "iopub.execute_input": "2025-08-19T18:50:38.726262Z",
     "iopub.status.busy": "2025-08-19T18:50:38.725065Z",
     "iopub.status.idle": "2025-08-19T18:50:38.736120Z",
     "shell.execute_reply": "2025-08-19T18:50:38.734706Z"
    },
    "papermill": {
     "duration": 0.025496,
     "end_time": "2025-08-19T18:50:38.738242",
     "exception": false,
     "start_time": "2025-08-19T18:50:38.712746",
     "status": "completed"
    },
    "tags": []
   },
   "outputs": [],
   "source": [
    "X_train = siab_train.iloc[:,4:164]\n",
    "y_train = siab_train.iloc[:, [3]]"
   ]
  },
  {
   "cell_type": "code",
   "execution_count": 18,
   "id": "08ee8389",
   "metadata": {
    "execution": {
     "iopub.execute_input": "2025-08-19T18:50:38.768279Z",
     "iopub.status.busy": "2025-08-19T18:50:38.767155Z",
     "iopub.status.idle": "2025-08-19T18:50:38.837311Z",
     "shell.execute_reply": "2025-08-19T18:50:38.836551Z"
    },
    "papermill": {
     "duration": 0.085257,
     "end_time": "2025-08-19T18:50:38.839272",
     "exception": false,
     "start_time": "2025-08-19T18:50:38.754015",
     "status": "completed"
    },
    "tags": []
   },
   "outputs": [],
   "source": [
    "X_calib = siab_calib.iloc[:,4:164]\n",
    "y_calib = siab_calib.iloc[:, [3]]"
   ]
  },
  {
   "cell_type": "code",
   "execution_count": 19,
   "id": "b7ff42e0",
   "metadata": {
    "execution": {
     "iopub.execute_input": "2025-08-19T18:50:38.866795Z",
     "iopub.status.busy": "2025-08-19T18:50:38.865886Z",
     "iopub.status.idle": "2025-08-19T18:50:38.931171Z",
     "shell.execute_reply": "2025-08-19T18:50:38.930320Z"
    },
    "papermill": {
     "duration": 0.082733,
     "end_time": "2025-08-19T18:50:38.936550",
     "exception": false,
     "start_time": "2025-08-19T18:50:38.853817",
     "status": "completed"
    },
    "tags": []
   },
   "outputs": [],
   "source": [
    "X_test = siab_test.iloc[:,4:164]\n",
    "y_true = siab_test.iloc[:, [3]]"
   ]
  },
  {
   "cell_type": "code",
   "execution_count": 20,
   "id": "0275101e",
   "metadata": {
    "execution": {
     "iopub.execute_input": "2025-08-19T18:50:38.977993Z",
     "iopub.status.busy": "2025-08-19T18:50:38.976647Z",
     "iopub.status.idle": "2025-08-19T18:50:39.099597Z",
     "shell.execute_reply": "2025-08-19T18:50:39.098893Z"
    },
    "papermill": {
     "duration": 0.140527,
     "end_time": "2025-08-19T18:50:39.101791",
     "exception": false,
     "start_time": "2025-08-19T18:50:38.961264",
     "status": "completed"
    },
    "tags": []
   },
   "outputs": [],
   "source": [
    "# Auxiliary data needed downstream in the pipeline\n",
    "\n",
    "org_train = X_train.copy()\n",
    "org_test = X_test.copy()\n",
    "org_calib = X_calib.copy()"
   ]
  },
  {
   "cell_type": "markdown",
   "id": "b461e618",
   "metadata": {
    "papermill": {
     "duration": 0.011777,
     "end_time": "2025-08-19T18:50:39.134111",
     "exception": false,
     "start_time": "2025-08-19T18:50:39.122334",
     "status": "completed"
    },
    "tags": []
   },
   "source": [
    "# Preprocessing Data"
   ]
  },
  {
   "cell_type": "code",
   "execution_count": 21,
   "id": "78e74c4b",
   "metadata": {
    "execution": {
     "iopub.execute_input": "2025-08-19T18:50:39.157715Z",
     "iopub.status.busy": "2025-08-19T18:50:39.156253Z",
     "iopub.status.idle": "2025-08-19T18:50:39.167064Z",
     "shell.execute_reply": "2025-08-19T18:50:39.165528Z"
    },
    "papermill": {
     "duration": 0.023998,
     "end_time": "2025-08-19T18:50:39.168432",
     "exception": false,
     "start_time": "2025-08-19T18:50:39.144434",
     "status": "completed"
    },
    "tags": []
   },
   "outputs": [],
   "source": [
    "# EXCLUDE PROTECTED FEATURES\n",
    "# --------------------------\n",
    "\n",
    "excluded_features = universe[\"exclude_features\"].split(\"-\")\n",
    "excluded_features_dictionary = {\n",
    "    \"nationality\": [\"maxdeutsch1\", \"maxdeutsch.Missing.\"],\n",
    "    \"sex\": [\"frau1\"],\n",
    "    \"age\": [\"age\"],\n",
    "}"
   ]
  },
  {
   "cell_type": "code",
   "execution_count": 22,
   "id": "f8e63555",
   "metadata": {
    "execution": {
     "iopub.execute_input": "2025-08-19T18:50:39.194805Z",
     "iopub.status.busy": "2025-08-19T18:50:39.193635Z",
     "iopub.status.idle": "2025-08-19T18:50:39.203582Z",
     "shell.execute_reply": "2025-08-19T18:50:39.201977Z"
    },
    "papermill": {
     "duration": 0.023457,
     "end_time": "2025-08-19T18:50:39.205102",
     "exception": false,
     "start_time": "2025-08-19T18:50:39.181645",
     "status": "completed"
    },
    "tags": []
   },
   "outputs": [],
   "source": [
    "excluded_features_columns = [\n",
    "    excluded_features_dictionary[f] for f in excluded_features if len(f) > 0 and f != \"none\"\n",
    "]"
   ]
  },
  {
   "cell_type": "code",
   "execution_count": 23,
   "id": "da781f7c",
   "metadata": {
    "execution": {
     "iopub.execute_input": "2025-08-19T18:50:39.231807Z",
     "iopub.status.busy": "2025-08-19T18:50:39.230651Z",
     "iopub.status.idle": "2025-08-19T18:50:39.239317Z",
     "shell.execute_reply": "2025-08-19T18:50:39.237824Z"
    },
    "papermill": {
     "duration": 0.022641,
     "end_time": "2025-08-19T18:50:39.241006",
     "exception": false,
     "start_time": "2025-08-19T18:50:39.218365",
     "status": "completed"
    },
    "tags": []
   },
   "outputs": [],
   "source": [
    "from fairness_multiverse.universe import flatten_once\n",
    "\n",
    "excluded_features_columns = flatten_once(excluded_features_columns)"
   ]
  },
  {
   "cell_type": "code",
   "execution_count": 24,
   "id": "37fef0f0",
   "metadata": {
    "execution": {
     "iopub.execute_input": "2025-08-19T18:50:39.267403Z",
     "iopub.status.busy": "2025-08-19T18:50:39.266232Z",
     "iopub.status.idle": "2025-08-19T18:50:39.280724Z",
     "shell.execute_reply": "2025-08-19T18:50:39.279521Z"
    },
    "papermill": {
     "duration": 0.028377,
     "end_time": "2025-08-19T18:50:39.282215",
     "exception": false,
     "start_time": "2025-08-19T18:50:39.253838",
     "status": "completed"
    },
    "tags": []
   },
   "outputs": [
    {
     "name": "stdout",
     "output_type": "stream",
     "text": [
      "Dropping features: ['frau1']\n"
     ]
    }
   ],
   "source": [
    "if len(excluded_features_columns) > 0:\n",
    "    print(f\"Dropping features: {excluded_features_columns}\")\n",
    "    X_train.drop(excluded_features_columns, axis=1, inplace=True)"
   ]
  },
  {
   "cell_type": "code",
   "execution_count": 25,
   "id": "d029e3e9",
   "metadata": {
    "execution": {
     "iopub.execute_input": "2025-08-19T18:50:39.313078Z",
     "iopub.status.busy": "2025-08-19T18:50:39.311290Z",
     "iopub.status.idle": "2025-08-19T18:50:39.379018Z",
     "shell.execute_reply": "2025-08-19T18:50:39.377537Z"
    },
    "papermill": {
     "duration": 0.085104,
     "end_time": "2025-08-19T18:50:39.380558",
     "exception": false,
     "start_time": "2025-08-19T18:50:39.295454",
     "status": "completed"
    },
    "tags": []
   },
   "outputs": [
    {
     "name": "stdout",
     "output_type": "stream",
     "text": [
      "Dropping features: ['frau1']\n"
     ]
    }
   ],
   "source": [
    "if len(excluded_features_columns) > 0:\n",
    "    print(f\"Dropping features: {excluded_features_columns}\")\n",
    "    X_test.drop(excluded_features_columns, axis=1, inplace=True)"
   ]
  },
  {
   "cell_type": "code",
   "execution_count": 26,
   "id": "01d571f0",
   "metadata": {
    "execution": {
     "iopub.execute_input": "2025-08-19T18:50:39.418795Z",
     "iopub.status.busy": "2025-08-19T18:50:39.418306Z",
     "iopub.status.idle": "2025-08-19T18:50:39.475345Z",
     "shell.execute_reply": "2025-08-19T18:50:39.474038Z"
    },
    "papermill": {
     "duration": 0.08868,
     "end_time": "2025-08-19T18:50:39.482515",
     "exception": false,
     "start_time": "2025-08-19T18:50:39.393835",
     "status": "completed"
    },
    "tags": []
   },
   "outputs": [
    {
     "name": "stdout",
     "output_type": "stream",
     "text": [
      "Dropping features: ['frau1']\n"
     ]
    }
   ],
   "source": [
    "if len(excluded_features_columns) > 0:\n",
    "    print(f\"Dropping features: {excluded_features_columns}\")\n",
    "    X_calib.drop(excluded_features_columns, axis=1, inplace=True)"
   ]
  },
  {
   "cell_type": "code",
   "execution_count": 27,
   "id": "3037356e",
   "metadata": {
    "execution": {
     "iopub.execute_input": "2025-08-19T18:50:39.513452Z",
     "iopub.status.busy": "2025-08-19T18:50:39.512154Z",
     "iopub.status.idle": "2025-08-19T18:50:39.520775Z",
     "shell.execute_reply": "2025-08-19T18:50:39.519454Z"
    },
    "papermill": {
     "duration": 0.022954,
     "end_time": "2025-08-19T18:50:39.522613",
     "exception": false,
     "start_time": "2025-08-19T18:50:39.499659",
     "status": "completed"
    },
    "tags": []
   },
   "outputs": [],
   "source": [
    "# EXCLUDE CERTAIN SUBGROUPS\n",
    "# -------------------------\n",
    "\n",
    "mode = universe.get(\"exclude_subgroups\", \"keep-all\") # Defaults to \"keep-all\" if the key is missing."
   ]
  },
  {
   "cell_type": "code",
   "execution_count": 28,
   "id": "9d1e63fd",
   "metadata": {
    "execution": {
     "iopub.execute_input": "2025-08-19T18:50:39.574386Z",
     "iopub.status.busy": "2025-08-19T18:50:39.573154Z",
     "iopub.status.idle": "2025-08-19T18:50:39.584918Z",
     "shell.execute_reply": "2025-08-19T18:50:39.583625Z"
    },
    "papermill": {
     "duration": 0.028349,
     "end_time": "2025-08-19T18:50:39.588007",
     "exception": false,
     "start_time": "2025-08-19T18:50:39.559658",
     "status": "completed"
    },
    "tags": []
   },
   "outputs": [],
   "source": [
    "if mode == \"keep-all\":\n",
    "    keep_mask = pd.Series(True, index=org_train.index)\n",
    "\n",
    "elif mode == \"drop-non-german\":\n",
    "    keep_mask = (org_train[\"maxdeutsch1\"] == 1) & (org_train[\"maxdeutsch.Missing.\"] == 0)\n",
    "\n",
    "else:\n",
    "    raise ValueError(f\"Unsupported mode for exclude_subgroups: {mode}\")"
   ]
  },
  {
   "cell_type": "code",
   "execution_count": 29,
   "id": "d3b65474",
   "metadata": {
    "execution": {
     "iopub.execute_input": "2025-08-19T18:50:39.617286Z",
     "iopub.status.busy": "2025-08-19T18:50:39.615971Z",
     "iopub.status.idle": "2025-08-19T18:50:39.638161Z",
     "shell.execute_reply": "2025-08-19T18:50:39.636687Z"
    },
    "papermill": {
     "duration": 0.037292,
     "end_time": "2025-08-19T18:50:39.640287",
     "exception": false,
     "start_time": "2025-08-19T18:50:39.602995",
     "status": "completed"
    },
    "tags": []
   },
   "outputs": [
    {
     "name": "stdout",
     "output_type": "stream",
     "text": [
      "Dropping 147 rows (14.70%) where mode='drop-non-german'\n"
     ]
    }
   ],
   "source": [
    "n_drop = (~keep_mask).sum() # Calculates how many rows are set to be dropped\n",
    "if n_drop > 0:\n",
    "    pct = n_drop / len(keep_mask) * 100\n",
    "    print(f\"Dropping {n_drop} rows ({pct:.2f}%) where mode='{mode}'\")"
   ]
  },
  {
   "cell_type": "code",
   "execution_count": 30,
   "id": "f44389b3",
   "metadata": {
    "execution": {
     "iopub.execute_input": "2025-08-19T18:50:39.672032Z",
     "iopub.status.busy": "2025-08-19T18:50:39.670743Z",
     "iopub.status.idle": "2025-08-19T18:50:39.680095Z",
     "shell.execute_reply": "2025-08-19T18:50:39.678754Z"
    },
    "papermill": {
     "duration": 0.024381,
     "end_time": "2025-08-19T18:50:39.681883",
     "exception": false,
     "start_time": "2025-08-19T18:50:39.657502",
     "status": "completed"
    },
    "tags": []
   },
   "outputs": [],
   "source": [
    "X_train = X_train[keep_mask]"
   ]
  },
  {
   "cell_type": "code",
   "execution_count": 31,
   "id": "ceca8c2a",
   "metadata": {
    "execution": {
     "iopub.execute_input": "2025-08-19T18:50:39.710433Z",
     "iopub.status.busy": "2025-08-19T18:50:39.709151Z",
     "iopub.status.idle": "2025-08-19T18:50:39.717549Z",
     "shell.execute_reply": "2025-08-19T18:50:39.716277Z"
    },
    "papermill": {
     "duration": 0.023275,
     "end_time": "2025-08-19T18:50:39.719394",
     "exception": false,
     "start_time": "2025-08-19T18:50:39.696119",
     "status": "completed"
    },
    "tags": []
   },
   "outputs": [],
   "source": [
    "y_train = y_train[keep_mask]"
   ]
  },
  {
   "cell_type": "markdown",
   "id": "04d31e2f",
   "metadata": {
    "papermill": {
     "duration": 0.010932,
     "end_time": "2025-08-19T18:50:39.742119",
     "exception": false,
     "start_time": "2025-08-19T18:50:39.731187",
     "status": "completed"
    },
    "tags": []
   },
   "source": [
    "# Model Training"
   ]
  },
  {
   "cell_type": "code",
   "execution_count": 32,
   "id": "db991733",
   "metadata": {
    "execution": {
     "iopub.execute_input": "2025-08-19T18:50:39.766472Z",
     "iopub.status.busy": "2025-08-19T18:50:39.765359Z",
     "iopub.status.idle": "2025-08-19T18:50:39.910614Z",
     "shell.execute_reply": "2025-08-19T18:50:39.909066Z"
    },
    "papermill": {
     "duration": 0.159551,
     "end_time": "2025-08-19T18:50:39.912509",
     "exception": false,
     "start_time": "2025-08-19T18:50:39.752958",
     "status": "completed"
    },
    "tags": []
   },
   "outputs": [],
   "source": [
    "from sklearn.linear_model import LogisticRegression\n",
    "from sklearn.ensemble import GradientBoostingClassifier, RandomForestClassifier\n",
    "\n",
    "if (universe[\"model\"] == \"logreg\"):\n",
    "    model = LogisticRegression() #penalty=\"none\", solver=\"newton-cg\", max_iter=1)\n",
    "elif (universe[\"model\"] == \"penalized_logreg\"):\n",
    "    model = LogisticRegression(penalty=\"l2\", C=0.1) #, solver=\"newton-cg\", max_iter=1)\n",
    "elif (universe[\"model\"] == \"rf\"):\n",
    "    model = RandomForestClassifier() # n_estimators=100, n_jobs=-1\n",
    "elif (universe[\"model\"] == \"gbm\"):\n",
    "    model = GradientBoostingClassifier()\n",
    "elif (universe[\"model\"] == \"elasticnet\"):\n",
    "    model = LogisticRegression(penalty = 'elasticnet', solver = 'saga', l1_ratio = 0.5) # max_iter=5000\n",
    "else:\n",
    "    raise \"Unsupported universe.model\""
   ]
  },
  {
   "cell_type": "code",
   "execution_count": 33,
   "id": "a4b5cd25",
   "metadata": {
    "execution": {
     "iopub.execute_input": "2025-08-19T18:50:39.936960Z",
     "iopub.status.busy": "2025-08-19T18:50:39.936560Z",
     "iopub.status.idle": "2025-08-19T18:50:39.942440Z",
     "shell.execute_reply": "2025-08-19T18:50:39.941791Z"
    },
    "papermill": {
     "duration": 0.019622,
     "end_time": "2025-08-19T18:50:39.943585",
     "exception": false,
     "start_time": "2025-08-19T18:50:39.923963",
     "status": "completed"
    },
    "tags": []
   },
   "outputs": [],
   "source": [
    "from sklearn.pipeline import Pipeline\n",
    "from sklearn.preprocessing import StandardScaler\n",
    "\n",
    "model = Pipeline([\n",
    "    #(\"continuous_processor\", continuous_processor),\n",
    "    #(\"categorical_preprocessor\", categorical_preprocessor),\n",
    "    (\"scale\", StandardScaler() if universe[\"scale\"] == \"scale\" else None), \n",
    "    (\"model\", model),\n",
    "])"
   ]
  },
  {
   "cell_type": "code",
   "execution_count": 34,
   "id": "283a904d",
   "metadata": {
    "execution": {
     "iopub.execute_input": "2025-08-19T18:50:39.972452Z",
     "iopub.status.busy": "2025-08-19T18:50:39.971637Z",
     "iopub.status.idle": "2025-08-19T18:50:40.274928Z",
     "shell.execute_reply": "2025-08-19T18:50:40.274218Z"
    },
    "papermill": {
     "duration": 0.316476,
     "end_time": "2025-08-19T18:50:40.276250",
     "exception": false,
     "start_time": "2025-08-19T18:50:39.959774",
     "status": "completed"
    },
    "tags": []
   },
   "outputs": [
    {
     "data": {
      "text/html": [
       "<style>#sk-container-id-1 {color: black;background-color: white;}#sk-container-id-1 pre{padding: 0;}#sk-container-id-1 div.sk-toggleable {background-color: white;}#sk-container-id-1 label.sk-toggleable__label {cursor: pointer;display: block;width: 100%;margin-bottom: 0;padding: 0.3em;box-sizing: border-box;text-align: center;}#sk-container-id-1 label.sk-toggleable__label-arrow:before {content: \"▸\";float: left;margin-right: 0.25em;color: #696969;}#sk-container-id-1 label.sk-toggleable__label-arrow:hover:before {color: black;}#sk-container-id-1 div.sk-estimator:hover label.sk-toggleable__label-arrow:before {color: black;}#sk-container-id-1 div.sk-toggleable__content {max-height: 0;max-width: 0;overflow: hidden;text-align: left;background-color: #f0f8ff;}#sk-container-id-1 div.sk-toggleable__content pre {margin: 0.2em;color: black;border-radius: 0.25em;background-color: #f0f8ff;}#sk-container-id-1 input.sk-toggleable__control:checked~div.sk-toggleable__content {max-height: 200px;max-width: 100%;overflow: auto;}#sk-container-id-1 input.sk-toggleable__control:checked~label.sk-toggleable__label-arrow:before {content: \"▾\";}#sk-container-id-1 div.sk-estimator input.sk-toggleable__control:checked~label.sk-toggleable__label {background-color: #d4ebff;}#sk-container-id-1 div.sk-label input.sk-toggleable__control:checked~label.sk-toggleable__label {background-color: #d4ebff;}#sk-container-id-1 input.sk-hidden--visually {border: 0;clip: rect(1px 1px 1px 1px);clip: rect(1px, 1px, 1px, 1px);height: 1px;margin: -1px;overflow: hidden;padding: 0;position: absolute;width: 1px;}#sk-container-id-1 div.sk-estimator {font-family: monospace;background-color: #f0f8ff;border: 1px dotted black;border-radius: 0.25em;box-sizing: border-box;margin-bottom: 0.5em;}#sk-container-id-1 div.sk-estimator:hover {background-color: #d4ebff;}#sk-container-id-1 div.sk-parallel-item::after {content: \"\";width: 100%;border-bottom: 1px solid gray;flex-grow: 1;}#sk-container-id-1 div.sk-label:hover label.sk-toggleable__label {background-color: #d4ebff;}#sk-container-id-1 div.sk-serial::before {content: \"\";position: absolute;border-left: 1px solid gray;box-sizing: border-box;top: 0;bottom: 0;left: 50%;z-index: 0;}#sk-container-id-1 div.sk-serial {display: flex;flex-direction: column;align-items: center;background-color: white;padding-right: 0.2em;padding-left: 0.2em;position: relative;}#sk-container-id-1 div.sk-item {position: relative;z-index: 1;}#sk-container-id-1 div.sk-parallel {display: flex;align-items: stretch;justify-content: center;background-color: white;position: relative;}#sk-container-id-1 div.sk-item::before, #sk-container-id-1 div.sk-parallel-item::before {content: \"\";position: absolute;border-left: 1px solid gray;box-sizing: border-box;top: 0;bottom: 0;left: 50%;z-index: -1;}#sk-container-id-1 div.sk-parallel-item {display: flex;flex-direction: column;z-index: 1;position: relative;background-color: white;}#sk-container-id-1 div.sk-parallel-item:first-child::after {align-self: flex-end;width: 50%;}#sk-container-id-1 div.sk-parallel-item:last-child::after {align-self: flex-start;width: 50%;}#sk-container-id-1 div.sk-parallel-item:only-child::after {width: 0;}#sk-container-id-1 div.sk-dashed-wrapped {border: 1px dashed gray;margin: 0 0.4em 0.5em 0.4em;box-sizing: border-box;padding-bottom: 0.4em;background-color: white;}#sk-container-id-1 div.sk-label label {font-family: monospace;font-weight: bold;display: inline-block;line-height: 1.2em;}#sk-container-id-1 div.sk-label-container {text-align: center;}#sk-container-id-1 div.sk-container {/* jupyter's `normalize.less` sets `[hidden] { display: none; }` but bootstrap.min.css set `[hidden] { display: none !important; }` so we also need the `!important` here to be able to override the default hidden behavior on the sphinx rendered scikit-learn.org. See: https://github.com/scikit-learn/scikit-learn/issues/21755 */display: inline-block !important;position: relative;}#sk-container-id-1 div.sk-text-repr-fallback {display: none;}</style><div id=\"sk-container-id-1\" class=\"sk-top-container\"><div class=\"sk-text-repr-fallback\"><pre>Pipeline(steps=[(&#x27;scale&#x27;, StandardScaler()),\n",
       "                (&#x27;model&#x27;, RandomForestClassifier())])</pre><b>In a Jupyter environment, please rerun this cell to show the HTML representation or trust the notebook. <br />On GitHub, the HTML representation is unable to render, please try loading this page with nbviewer.org.</b></div><div class=\"sk-container\" hidden><div class=\"sk-item sk-dashed-wrapped\"><div class=\"sk-label-container\"><div class=\"sk-label sk-toggleable\"><input class=\"sk-toggleable__control sk-hidden--visually\" id=\"sk-estimator-id-1\" type=\"checkbox\" ><label for=\"sk-estimator-id-1\" class=\"sk-toggleable__label sk-toggleable__label-arrow\">Pipeline</label><div class=\"sk-toggleable__content\"><pre>Pipeline(steps=[(&#x27;scale&#x27;, StandardScaler()),\n",
       "                (&#x27;model&#x27;, RandomForestClassifier())])</pre></div></div></div><div class=\"sk-serial\"><div class=\"sk-item\"><div class=\"sk-estimator sk-toggleable\"><input class=\"sk-toggleable__control sk-hidden--visually\" id=\"sk-estimator-id-2\" type=\"checkbox\" ><label for=\"sk-estimator-id-2\" class=\"sk-toggleable__label sk-toggleable__label-arrow\">StandardScaler</label><div class=\"sk-toggleable__content\"><pre>StandardScaler()</pre></div></div></div><div class=\"sk-item\"><div class=\"sk-estimator sk-toggleable\"><input class=\"sk-toggleable__control sk-hidden--visually\" id=\"sk-estimator-id-3\" type=\"checkbox\" ><label for=\"sk-estimator-id-3\" class=\"sk-toggleable__label sk-toggleable__label-arrow\">RandomForestClassifier</label><div class=\"sk-toggleable__content\"><pre>RandomForestClassifier()</pre></div></div></div></div></div></div></div>"
      ],
      "text/plain": [
       "Pipeline(steps=[('scale', StandardScaler()),\n",
       "                ('model', RandomForestClassifier())])"
      ]
     },
     "execution_count": 34,
     "metadata": {},
     "output_type": "execute_result"
    }
   ],
   "source": [
    "model.fit(X_train, y_train.values.ravel())"
   ]
  },
  {
   "cell_type": "code",
   "execution_count": 35,
   "id": "6e15e313",
   "metadata": {
    "execution": {
     "iopub.execute_input": "2025-08-19T18:50:40.303649Z",
     "iopub.status.busy": "2025-08-19T18:50:40.302754Z",
     "iopub.status.idle": "2025-08-19T18:50:41.753409Z",
     "shell.execute_reply": "2025-08-19T18:50:41.752339Z"
    },
    "papermill": {
     "duration": 1.466599,
     "end_time": "2025-08-19T18:50:41.756385",
     "exception": false,
     "start_time": "2025-08-19T18:50:40.289786",
     "status": "completed"
    },
    "tags": []
   },
   "outputs": [
    {
     "data": {
      "text/plain": [
       "0.8582766692676401"
      ]
     },
     "execution_count": 35,
     "metadata": {},
     "output_type": "execute_result"
    }
   ],
   "source": [
    "from fairness_multiverse.universe import predict_w_threshold\n",
    "\n",
    "probs_test = model.predict_proba(X_test)\n",
    "\n",
    "'''\n",
    "Below code returns a boolean array (or binary 0/1 array depending on how it’s used) where each element \n",
    "is True if the probability of class 1 is greater than or equal to the threshold, and False otherwise.\n",
    "'''\n",
    "y_pred_default = predict_w_threshold(probs_test, 0.5)\n",
    "\n",
    "from sklearn.metrics import accuracy_score\n",
    "\n",
    "# Naive prediction\n",
    "accuracy_score(y_true = y_true, y_pred = y_pred_default)"
   ]
  },
  {
   "cell_type": "code",
   "execution_count": 36,
   "id": "6f14067c",
   "metadata": {
    "execution": {
     "iopub.execute_input": "2025-08-19T18:50:41.799113Z",
     "iopub.status.busy": "2025-08-19T18:50:41.797815Z",
     "iopub.status.idle": "2025-08-19T18:50:43.224649Z",
     "shell.execute_reply": "2025-08-19T18:50:43.220736Z"
    },
    "papermill": {
     "duration": 1.456492,
     "end_time": "2025-08-19T18:50:43.238256",
     "exception": false,
     "start_time": "2025-08-19T18:50:41.781764",
     "status": "completed"
    },
    "tags": []
   },
   "outputs": [
    {
     "data": {
      "text/plain": [
       "array([0, 0, 0, ..., 0, 0, 0])"
      ]
     },
     "execution_count": 36,
     "metadata": {},
     "output_type": "execute_result"
    }
   ],
   "source": [
    "model.predict(X_test)"
   ]
  },
  {
   "cell_type": "markdown",
   "id": "3759920c",
   "metadata": {
    "papermill": {
     "duration": 0.011314,
     "end_time": "2025-08-19T18:50:43.261551",
     "exception": false,
     "start_time": "2025-08-19T18:50:43.250237",
     "status": "completed"
    },
    "tags": []
   },
   "source": [
    "# Conformal Prediction"
   ]
  },
  {
   "cell_type": "code",
   "execution_count": 37,
   "id": "14b27f59",
   "metadata": {
    "execution": {
     "iopub.execute_input": "2025-08-19T18:50:43.288528Z",
     "iopub.status.busy": "2025-08-19T18:50:43.287146Z",
     "iopub.status.idle": "2025-08-19T18:50:43.295948Z",
     "shell.execute_reply": "2025-08-19T18:50:43.294701Z"
    },
    "papermill": {
     "duration": 0.024655,
     "end_time": "2025-08-19T18:50:43.297636",
     "exception": false,
     "start_time": "2025-08-19T18:50:43.272981",
     "status": "completed"
    },
    "tags": []
   },
   "outputs": [],
   "source": [
    "# Miscoverage level for conformal prediction (10% allowed error rate => 90% target coverage)\n",
    "alpha = 0.1"
   ]
  },
  {
   "cell_type": "code",
   "execution_count": 38,
   "id": "59102472",
   "metadata": {
    "execution": {
     "iopub.execute_input": "2025-08-19T18:50:43.327440Z",
     "iopub.status.busy": "2025-08-19T18:50:43.326294Z",
     "iopub.status.idle": "2025-08-19T18:50:44.697967Z",
     "shell.execute_reply": "2025-08-19T18:50:44.696695Z"
    },
    "papermill": {
     "duration": 1.386928,
     "end_time": "2025-08-19T18:50:44.699698",
     "exception": false,
     "start_time": "2025-08-19T18:50:43.312770",
     "status": "completed"
    },
    "tags": []
   },
   "outputs": [],
   "source": [
    "probs_calib = model.predict_proba(X_calib)"
   ]
  },
  {
   "cell_type": "code",
   "execution_count": 39,
   "id": "a792d4dd",
   "metadata": {
    "execution": {
     "iopub.execute_input": "2025-08-19T18:50:44.725898Z",
     "iopub.status.busy": "2025-08-19T18:50:44.725115Z",
     "iopub.status.idle": "2025-08-19T18:50:44.734482Z",
     "shell.execute_reply": "2025-08-19T18:50:44.733367Z"
    },
    "papermill": {
     "duration": 0.023967,
     "end_time": "2025-08-19T18:50:44.735901",
     "exception": false,
     "start_time": "2025-08-19T18:50:44.711934",
     "status": "completed"
    },
    "tags": []
   },
   "outputs": [],
   "source": [
    "y_calib = y_calib.values.ravel().astype(int)"
   ]
  },
  {
   "cell_type": "code",
   "execution_count": 40,
   "id": "650fd033",
   "metadata": {
    "execution": {
     "iopub.execute_input": "2025-08-19T18:50:44.764731Z",
     "iopub.status.busy": "2025-08-19T18:50:44.763753Z",
     "iopub.status.idle": "2025-08-19T18:50:44.779569Z",
     "shell.execute_reply": "2025-08-19T18:50:44.778499Z"
    },
    "papermill": {
     "duration": 0.030379,
     "end_time": "2025-08-19T18:50:44.781328",
     "exception": false,
     "start_time": "2025-08-19T18:50:44.750949",
     "status": "completed"
    },
    "tags": []
   },
   "outputs": [],
   "source": [
    "from fairness_multiverse.conformal import compute_nc_scores\n",
    "\n",
    "# Compute nonconformity scores on calibration set (1 - probability of true class)\n",
    "nc_scores = compute_nc_scores(probs_calib, y_calib)"
   ]
  },
  {
   "cell_type": "code",
   "execution_count": 41,
   "id": "28ada44c",
   "metadata": {
    "execution": {
     "iopub.execute_input": "2025-08-19T18:50:44.813210Z",
     "iopub.status.busy": "2025-08-19T18:50:44.812254Z",
     "iopub.status.idle": "2025-08-19T18:50:44.819854Z",
     "shell.execute_reply": "2025-08-19T18:50:44.819007Z"
    },
    "papermill": {
     "duration": 0.022198,
     "end_time": "2025-08-19T18:50:44.821374",
     "exception": false,
     "start_time": "2025-08-19T18:50:44.799176",
     "status": "completed"
    },
    "tags": []
   },
   "outputs": [],
   "source": [
    "from fairness_multiverse.conformal import find_threshold\n",
    "\n",
    "# Find conformal threshold q_hat for the given alpha (split conformal method)\n",
    "q_hat = find_threshold(nc_scores, alpha)"
   ]
  },
  {
   "cell_type": "code",
   "execution_count": 42,
   "id": "df56469e",
   "metadata": {
    "execution": {
     "iopub.execute_input": "2025-08-19T18:50:44.848715Z",
     "iopub.status.busy": "2025-08-19T18:50:44.848237Z",
     "iopub.status.idle": "2025-08-19T18:50:44.854242Z",
     "shell.execute_reply": "2025-08-19T18:50:44.853496Z"
    },
    "papermill": {
     "duration": 0.01994,
     "end_time": "2025-08-19T18:50:44.855414",
     "exception": false,
     "start_time": "2025-08-19T18:50:44.835474",
     "status": "completed"
    },
    "tags": []
   },
   "outputs": [
    {
     "data": {
      "text/plain": [
       "0.6599999999999999"
      ]
     },
     "execution_count": 42,
     "metadata": {},
     "output_type": "execute_result"
    }
   ],
   "source": [
    "q_hat"
   ]
  },
  {
   "cell_type": "code",
   "execution_count": 43,
   "id": "aa1f5faa",
   "metadata": {
    "execution": {
     "iopub.execute_input": "2025-08-19T18:50:44.880248Z",
     "iopub.status.busy": "2025-08-19T18:50:44.879844Z",
     "iopub.status.idle": "2025-08-19T18:50:46.784275Z",
     "shell.execute_reply": "2025-08-19T18:50:46.783077Z"
    },
    "papermill": {
     "duration": 1.918683,
     "end_time": "2025-08-19T18:50:46.786019",
     "exception": false,
     "start_time": "2025-08-19T18:50:44.867336",
     "status": "completed"
    },
    "tags": []
   },
   "outputs": [],
   "source": [
    "from fairness_multiverse.conformal import predict_conformal_sets\n",
    "\n",
    "# Generate prediction sets for each test example\n",
    "pred_sets = predict_conformal_sets(model, X_test, q_hat)"
   ]
  },
  {
   "cell_type": "code",
   "execution_count": 44,
   "id": "97f67a6b",
   "metadata": {
    "execution": {
     "iopub.execute_input": "2025-08-19T18:50:46.813855Z",
     "iopub.status.busy": "2025-08-19T18:50:46.813482Z",
     "iopub.status.idle": "2025-08-19T18:50:46.819524Z",
     "shell.execute_reply": "2025-08-19T18:50:46.818807Z"
    },
    "papermill": {
     "duration": 0.020147,
     "end_time": "2025-08-19T18:50:46.820741",
     "exception": false,
     "start_time": "2025-08-19T18:50:46.800594",
     "status": "completed"
    },
    "tags": []
   },
   "outputs": [],
   "source": [
    "y_true = y_true.squeeze()"
   ]
  },
  {
   "cell_type": "code",
   "execution_count": 45,
   "id": "e700e9a7",
   "metadata": {
    "execution": {
     "iopub.execute_input": "2025-08-19T18:50:46.848807Z",
     "iopub.status.busy": "2025-08-19T18:50:46.848185Z",
     "iopub.status.idle": "2025-08-19T18:50:47.353122Z",
     "shell.execute_reply": "2025-08-19T18:50:47.351698Z"
    },
    "papermill": {
     "duration": 0.519587,
     "end_time": "2025-08-19T18:50:47.354634",
     "exception": false,
     "start_time": "2025-08-19T18:50:46.835047",
     "status": "completed"
    },
    "tags": []
   },
   "outputs": [],
   "source": [
    "from fairness_multiverse.conformal import evaluate_sets\n",
    "\n",
    "# Evaluate coverage and average set size on test data\n",
    "metrics = evaluate_sets(pred_sets, y_true)"
   ]
  },
  {
   "cell_type": "markdown",
   "id": "efbacec0",
   "metadata": {
    "papermill": {
     "duration": 0.035971,
     "end_time": "2025-08-19T18:50:47.405412",
     "exception": false,
     "start_time": "2025-08-19T18:50:47.369441",
     "status": "completed"
    },
    "tags": []
   },
   "source": [
    "# CP Metrics"
   ]
  },
  {
   "cell_type": "code",
   "execution_count": 46,
   "id": "9de55fb1",
   "metadata": {
    "execution": {
     "iopub.execute_input": "2025-08-19T18:50:47.432378Z",
     "iopub.status.busy": "2025-08-19T18:50:47.431862Z",
     "iopub.status.idle": "2025-08-19T18:50:47.439050Z",
     "shell.execute_reply": "2025-08-19T18:50:47.438296Z"
    },
    "papermill": {
     "duration": 0.022803,
     "end_time": "2025-08-19T18:50:47.440996",
     "exception": false,
     "start_time": "2025-08-19T18:50:47.418193",
     "status": "completed"
    },
    "tags": []
   },
   "outputs": [
    {
     "data": {
      "text/plain": [
       "{'coverage': 0.9126630253037565, 'avg_size': 1.1437186489800468}"
      ]
     },
     "execution_count": 46,
     "metadata": {},
     "output_type": "execute_result"
    }
   ],
   "source": [
    "metrics"
   ]
  },
  {
   "cell_type": "code",
   "execution_count": 47,
   "id": "64c340a1",
   "metadata": {
    "execution": {
     "iopub.execute_input": "2025-08-19T18:50:47.487207Z",
     "iopub.status.busy": "2025-08-19T18:50:47.485857Z",
     "iopub.status.idle": "2025-08-19T18:50:47.495804Z",
     "shell.execute_reply": "2025-08-19T18:50:47.494869Z"
    },
    "papermill": {
     "duration": 0.024673,
     "end_time": "2025-08-19T18:50:47.497203",
     "exception": false,
     "start_time": "2025-08-19T18:50:47.472530",
     "status": "completed"
    },
    "tags": []
   },
   "outputs": [],
   "source": [
    "example_universe = universe.copy()\n",
    "universe_training_year = example_universe.get(\"training_year\")\n",
    "universe_training_size = example_universe.get(\"training_size\")\n",
    "universe_scale = example_universe.get(\"scale\")\n",
    "universe_model = example_universe.get(\"model\")\n",
    "universe_exclude_features = example_universe.get(\"exclude_features\")\n",
    "universe_exclude_subgroups = example_universe.get(\"exclude_subgroups\")"
   ]
  },
  {
   "cell_type": "code",
   "execution_count": 48,
   "id": "dbb53cb4",
   "metadata": {
    "execution": {
     "iopub.execute_input": "2025-08-19T18:50:47.531704Z",
     "iopub.status.busy": "2025-08-19T18:50:47.530988Z",
     "iopub.status.idle": "2025-08-19T18:50:47.536161Z",
     "shell.execute_reply": "2025-08-19T18:50:47.535477Z"
    },
    "papermill": {
     "duration": 0.020127,
     "end_time": "2025-08-19T18:50:47.537563",
     "exception": false,
     "start_time": "2025-08-19T18:50:47.517436",
     "status": "completed"
    },
    "tags": []
   },
   "outputs": [],
   "source": [
    "cp_metrics_dict = {\n",
    "    \"universe_id\": [universe_id],\n",
    "    \"universe_training_year\": [universe_training_year],\n",
    "    \"universe_training_size\": [universe_training_size],\n",
    "    \"universe_scale\": [universe_scale],\n",
    "    \"universe_model\": [universe_model],\n",
    "    \"universe_exclude_features\": [universe_exclude_features],\n",
    "    \"universe_exclude_subgroups\": [universe_exclude_subgroups],\n",
    "    \"q_hat\": [q_hat],\n",
    "    \"coverage\": [metrics[\"coverage\"]],\n",
    "    \"avg_size\": [metrics[\"avg_size\"]],\n",
    "}"
   ]
  },
  {
   "cell_type": "code",
   "execution_count": 49,
   "id": "0d70d4b2",
   "metadata": {
    "execution": {
     "iopub.execute_input": "2025-08-19T18:50:47.562800Z",
     "iopub.status.busy": "2025-08-19T18:50:47.562408Z",
     "iopub.status.idle": "2025-08-19T18:50:47.571476Z",
     "shell.execute_reply": "2025-08-19T18:50:47.570810Z"
    },
    "papermill": {
     "duration": 0.02334,
     "end_time": "2025-08-19T18:50:47.572967",
     "exception": false,
     "start_time": "2025-08-19T18:50:47.549627",
     "status": "completed"
    },
    "tags": []
   },
   "outputs": [],
   "source": [
    "cp_metrics_df = pd.DataFrame(cp_metrics_dict)"
   ]
  },
  {
   "cell_type": "code",
   "execution_count": 50,
   "id": "b494403c",
   "metadata": {
    "execution": {
     "iopub.execute_input": "2025-08-19T18:50:47.598993Z",
     "iopub.status.busy": "2025-08-19T18:50:47.598382Z",
     "iopub.status.idle": "2025-08-19T18:50:47.610947Z",
     "shell.execute_reply": "2025-08-19T18:50:47.610260Z"
    },
    "papermill": {
     "duration": 0.028024,
     "end_time": "2025-08-19T18:50:47.613260",
     "exception": false,
     "start_time": "2025-08-19T18:50:47.585236",
     "status": "completed"
    },
    "tags": []
   },
   "outputs": [
    {
     "data": {
      "text/html": [
       "<div>\n",
       "<style scoped>\n",
       "    .dataframe tbody tr th:only-of-type {\n",
       "        vertical-align: middle;\n",
       "    }\n",
       "\n",
       "    .dataframe tbody tr th {\n",
       "        vertical-align: top;\n",
       "    }\n",
       "\n",
       "    .dataframe thead th {\n",
       "        text-align: right;\n",
       "    }\n",
       "</style>\n",
       "<table border=\"1\" class=\"dataframe\">\n",
       "  <thead>\n",
       "    <tr style=\"text-align: right;\">\n",
       "      <th></th>\n",
       "      <th>universe_id</th>\n",
       "      <th>universe_training_year</th>\n",
       "      <th>universe_training_size</th>\n",
       "      <th>universe_scale</th>\n",
       "      <th>universe_model</th>\n",
       "      <th>universe_exclude_features</th>\n",
       "      <th>universe_exclude_subgroups</th>\n",
       "      <th>q_hat</th>\n",
       "      <th>coverage</th>\n",
       "      <th>avg_size</th>\n",
       "    </tr>\n",
       "  </thead>\n",
       "  <tbody>\n",
       "    <tr>\n",
       "      <th>0</th>\n",
       "      <td>0b4807607cad1526d8e6418f2999cbc7</td>\n",
       "      <td>2014</td>\n",
       "      <td>1k</td>\n",
       "      <td>scale</td>\n",
       "      <td>rf</td>\n",
       "      <td>sex</td>\n",
       "      <td>drop-non-german</td>\n",
       "      <td>0.66</td>\n",
       "      <td>0.912663</td>\n",
       "      <td>1.143719</td>\n",
       "    </tr>\n",
       "  </tbody>\n",
       "</table>\n",
       "</div>"
      ],
      "text/plain": [
       "                        universe_id universe_training_year  \\\n",
       "0  0b4807607cad1526d8e6418f2999cbc7                   2014   \n",
       "\n",
       "  universe_training_size universe_scale universe_model  \\\n",
       "0                     1k          scale             rf   \n",
       "\n",
       "  universe_exclude_features universe_exclude_subgroups  q_hat  coverage  \\\n",
       "0                       sex            drop-non-german   0.66  0.912663   \n",
       "\n",
       "   avg_size  \n",
       "0  1.143719  "
      ]
     },
     "execution_count": 50,
     "metadata": {},
     "output_type": "execute_result"
    }
   ],
   "source": [
    "cp_metrics_df"
   ]
  },
  {
   "cell_type": "markdown",
   "id": "ed608b0b",
   "metadata": {
    "papermill": {
     "duration": 0.012429,
     "end_time": "2025-08-19T18:50:47.648874",
     "exception": false,
     "start_time": "2025-08-19T18:50:47.636445",
     "status": "completed"
    },
    "tags": []
   },
   "source": [
    "Conditional coverage & looking at subgroups"
   ]
  },
  {
   "cell_type": "code",
   "execution_count": 51,
   "id": "8968c366",
   "metadata": {
    "execution": {
     "iopub.execute_input": "2025-08-19T18:50:47.680940Z",
     "iopub.status.busy": "2025-08-19T18:50:47.679716Z",
     "iopub.status.idle": "2025-08-19T18:50:48.001894Z",
     "shell.execute_reply": "2025-08-19T18:50:48.001117Z"
    },
    "papermill": {
     "duration": 0.343191,
     "end_time": "2025-08-19T18:50:48.005070",
     "exception": false,
     "start_time": "2025-08-19T18:50:47.661879",
     "status": "completed"
    },
    "tags": []
   },
   "outputs": [],
   "source": [
    "from fairness_multiverse.conformal import build_cp_groups\n",
    "\n",
    "cp_groups_df = build_cp_groups(pred_sets, y_true, X_test.index, org_test)"
   ]
  },
  {
   "cell_type": "code",
   "execution_count": 52,
   "id": "292ddabf",
   "metadata": {
    "execution": {
     "iopub.execute_input": "2025-08-19T18:50:48.051312Z",
     "iopub.status.busy": "2025-08-19T18:50:48.050256Z",
     "iopub.status.idle": "2025-08-19T18:50:48.926686Z",
     "shell.execute_reply": "2025-08-19T18:50:48.925594Z"
    },
    "papermill": {
     "duration": 0.892595,
     "end_time": "2025-08-19T18:50:48.928431",
     "exception": false,
     "start_time": "2025-08-19T18:50:48.035836",
     "status": "completed"
    },
    "tags": []
   },
   "outputs": [],
   "source": [
    "# Define covered = 1 if true_label is in the predicted set\n",
    "cp_groups_df['covered'] = cp_groups_df.apply(\n",
    "    lambda r: int(r['true_label'] in r['pred_set']),\n",
    "    axis=1\n",
    ")"
   ]
  },
  {
   "cell_type": "code",
   "execution_count": 53,
   "id": "3a261692",
   "metadata": {
    "execution": {
     "iopub.execute_input": "2025-08-19T18:50:48.978707Z",
     "iopub.status.busy": "2025-08-19T18:50:48.978143Z",
     "iopub.status.idle": "2025-08-19T18:50:48.991050Z",
     "shell.execute_reply": "2025-08-19T18:50:48.990398Z"
    },
    "papermill": {
     "duration": 0.040215,
     "end_time": "2025-08-19T18:50:48.992278",
     "exception": false,
     "start_time": "2025-08-19T18:50:48.952063",
     "status": "completed"
    },
    "tags": []
   },
   "outputs": [],
   "source": [
    "subgroups = ['frau1','nongerman','nongerman_male','nongerman_female']\n",
    "\n",
    "# Conditional coverage for subgroup==1\n",
    "cond_coverage = {\n",
    "    g: cp_groups_df.loc[cp_groups_df[g]==1, 'covered'].mean()\n",
    "    for g in subgroups\n",
    "}"
   ]
  },
  {
   "cell_type": "code",
   "execution_count": 54,
   "id": "894fd600",
   "metadata": {
    "execution": {
     "iopub.execute_input": "2025-08-19T18:50:49.018608Z",
     "iopub.status.busy": "2025-08-19T18:50:49.018231Z",
     "iopub.status.idle": "2025-08-19T18:50:49.023607Z",
     "shell.execute_reply": "2025-08-19T18:50:49.022997Z"
    },
    "papermill": {
     "duration": 0.021656,
     "end_time": "2025-08-19T18:50:49.026753",
     "exception": false,
     "start_time": "2025-08-19T18:50:49.005097",
     "status": "completed"
    },
    "tags": []
   },
   "outputs": [
    {
     "data": {
      "text/plain": [
       "{'frau1': 0.9085860628116997,\n",
       " 'nongerman': 0.9061359681131758,\n",
       " 'nongerman_male': 0.9256957579032694,\n",
       " 'nongerman_female': 0.8737704918032787}"
      ]
     },
     "execution_count": 54,
     "metadata": {},
     "output_type": "execute_result"
    }
   ],
   "source": [
    "cond_coverage"
   ]
  },
  {
   "cell_type": "code",
   "execution_count": 55,
   "id": "942895c7",
   "metadata": {
    "execution": {
     "iopub.execute_input": "2025-08-19T18:50:49.065105Z",
     "iopub.status.busy": "2025-08-19T18:50:49.064721Z",
     "iopub.status.idle": "2025-08-19T18:50:49.070425Z",
     "shell.execute_reply": "2025-08-19T18:50:49.069821Z"
    },
    "papermill": {
     "duration": 0.024358,
     "end_time": "2025-08-19T18:50:49.072146",
     "exception": false,
     "start_time": "2025-08-19T18:50:49.047788",
     "status": "completed"
    },
    "tags": []
   },
   "outputs": [],
   "source": [
    "for subgroup, cov in cond_coverage.items():\n",
    "    cp_metrics_df[f\"cov_{subgroup}\"] = cov"
   ]
  },
  {
   "cell_type": "code",
   "execution_count": 56,
   "id": "3970120f",
   "metadata": {
    "execution": {
     "iopub.execute_input": "2025-08-19T18:50:49.098775Z",
     "iopub.status.busy": "2025-08-19T18:50:49.098415Z",
     "iopub.status.idle": "2025-08-19T18:50:49.112020Z",
     "shell.execute_reply": "2025-08-19T18:50:49.111368Z"
    },
    "papermill": {
     "duration": 0.03015,
     "end_time": "2025-08-19T18:50:49.115328",
     "exception": false,
     "start_time": "2025-08-19T18:50:49.085178",
     "status": "completed"
    },
    "tags": []
   },
   "outputs": [
    {
     "data": {
      "text/html": [
       "<div>\n",
       "<style scoped>\n",
       "    .dataframe tbody tr th:only-of-type {\n",
       "        vertical-align: middle;\n",
       "    }\n",
       "\n",
       "    .dataframe tbody tr th {\n",
       "        vertical-align: top;\n",
       "    }\n",
       "\n",
       "    .dataframe thead th {\n",
       "        text-align: right;\n",
       "    }\n",
       "</style>\n",
       "<table border=\"1\" class=\"dataframe\">\n",
       "  <thead>\n",
       "    <tr style=\"text-align: right;\">\n",
       "      <th></th>\n",
       "      <th>universe_id</th>\n",
       "      <th>universe_training_year</th>\n",
       "      <th>universe_training_size</th>\n",
       "      <th>universe_scale</th>\n",
       "      <th>universe_model</th>\n",
       "      <th>universe_exclude_features</th>\n",
       "      <th>universe_exclude_subgroups</th>\n",
       "      <th>q_hat</th>\n",
       "      <th>coverage</th>\n",
       "      <th>avg_size</th>\n",
       "      <th>cov_frau1</th>\n",
       "      <th>cov_nongerman</th>\n",
       "      <th>cov_nongerman_male</th>\n",
       "      <th>cov_nongerman_female</th>\n",
       "    </tr>\n",
       "  </thead>\n",
       "  <tbody>\n",
       "    <tr>\n",
       "      <th>0</th>\n",
       "      <td>0b4807607cad1526d8e6418f2999cbc7</td>\n",
       "      <td>2014</td>\n",
       "      <td>1k</td>\n",
       "      <td>scale</td>\n",
       "      <td>rf</td>\n",
       "      <td>sex</td>\n",
       "      <td>drop-non-german</td>\n",
       "      <td>0.66</td>\n",
       "      <td>0.912663</td>\n",
       "      <td>1.143719</td>\n",
       "      <td>0.908586</td>\n",
       "      <td>0.906136</td>\n",
       "      <td>0.925696</td>\n",
       "      <td>0.87377</td>\n",
       "    </tr>\n",
       "  </tbody>\n",
       "</table>\n",
       "</div>"
      ],
      "text/plain": [
       "                        universe_id universe_training_year  \\\n",
       "0  0b4807607cad1526d8e6418f2999cbc7                   2014   \n",
       "\n",
       "  universe_training_size universe_scale universe_model  \\\n",
       "0                     1k          scale             rf   \n",
       "\n",
       "  universe_exclude_features universe_exclude_subgroups  q_hat  coverage  \\\n",
       "0                       sex            drop-non-german   0.66  0.912663   \n",
       "\n",
       "   avg_size  cov_frau1  cov_nongerman  cov_nongerman_male  \\\n",
       "0  1.143719   0.908586       0.906136            0.925696   \n",
       "\n",
       "   cov_nongerman_female  \n",
       "0               0.87377  "
      ]
     },
     "execution_count": 56,
     "metadata": {},
     "output_type": "execute_result"
    }
   ],
   "source": [
    "cp_metrics_df"
   ]
  },
  {
   "cell_type": "markdown",
   "id": "3fc519cc",
   "metadata": {
    "papermill": {
     "duration": 0.015152,
     "end_time": "2025-08-19T18:50:49.167560",
     "exception": false,
     "start_time": "2025-08-19T18:50:49.152408",
     "status": "completed"
    },
    "tags": []
   },
   "source": [
    "# (Fairness) Metrics"
   ]
  },
  {
   "cell_type": "code",
   "execution_count": 57,
   "id": "a2e5e155",
   "metadata": {
    "execution": {
     "iopub.execute_input": "2025-08-19T18:50:49.196131Z",
     "iopub.status.busy": "2025-08-19T18:50:49.195743Z",
     "iopub.status.idle": "2025-08-19T18:50:49.211596Z",
     "shell.execute_reply": "2025-08-19T18:50:49.210955Z"
    },
    "papermill": {
     "duration": 0.032734,
     "end_time": "2025-08-19T18:50:49.212951",
     "exception": false,
     "start_time": "2025-08-19T18:50:49.180217",
     "status": "completed"
    },
    "tags": []
   },
   "outputs": [],
   "source": [
    "colname_to_bin = \"maxdeutsch1\"\n",
    "majority_value = org_train[colname_to_bin].mode()[0]\n",
    "\n",
    "org_test[\"majmin\"] = np.where(org_test[colname_to_bin] == majority_value, \"majority\", \"minority\")"
   ]
  },
  {
   "cell_type": "code",
   "execution_count": 58,
   "id": "17e3e4d5",
   "metadata": {
    "execution": {
     "iopub.execute_input": "2025-08-19T18:50:49.240129Z",
     "iopub.status.busy": "2025-08-19T18:50:49.239765Z",
     "iopub.status.idle": "2025-08-19T18:50:50.964057Z",
     "shell.execute_reply": "2025-08-19T18:50:50.962746Z"
    },
    "papermill": {
     "duration": 1.739497,
     "end_time": "2025-08-19T18:50:50.965841",
     "exception": false,
     "start_time": "2025-08-19T18:50:49.226344",
     "status": "completed"
    },
    "tags": []
   },
   "outputs": [],
   "source": [
    "example_universe = universe.copy()\n",
    "example_universe[\"cutoff\"] = example_universe[\"cutoff\"][0]\n",
    "example_universe[\"eval_fairness_grouping\"] = example_universe[\"eval_fairness_grouping\"][0]\n",
    "fairness_dict, metric_frame = universe_analysis.compute_metrics(\n",
    "    example_universe,\n",
    "    y_pred_prob=probs_test,\n",
    "    y_test=y_true,\n",
    "    org_test=org_test,\n",
    ")"
   ]
  },
  {
   "cell_type": "markdown",
   "id": "1fb7a0e9",
   "metadata": {
    "papermill": {
     "duration": 0.012446,
     "end_time": "2025-08-19T18:50:50.993479",
     "exception": false,
     "start_time": "2025-08-19T18:50:50.981033",
     "status": "completed"
    },
    "tags": []
   },
   "source": [
    "# Overall"
   ]
  },
  {
   "cell_type": "markdown",
   "id": "be1784b1",
   "metadata": {
    "papermill": {
     "duration": 0.012244,
     "end_time": "2025-08-19T18:50:51.018151",
     "exception": false,
     "start_time": "2025-08-19T18:50:51.005907",
     "status": "completed"
    },
    "tags": []
   },
   "source": [
    "Main fairness target: Equalized Odds. Seems to be a better fit than equal opportunity, since we're not only interested in Y = 1. Seems to be a better fit than demographic parity, since we also care about accuracy, not just equal distribution of preds.\n",
    "\n",
    "Pick column for computation of fairness metrics\n",
    "\n",
    "Performance\n",
    "Overall performance measures, most interesting in relation to the measures split by group below"
   ]
  },
  {
   "cell_type": "code",
   "execution_count": 59,
   "id": "b7672bee",
   "metadata": {
    "execution": {
     "iopub.execute_input": "2025-08-19T18:50:51.046678Z",
     "iopub.status.busy": "2025-08-19T18:50:51.045864Z",
     "iopub.status.idle": "2025-08-19T18:50:51.064107Z",
     "shell.execute_reply": "2025-08-19T18:50:51.061110Z"
    },
    "papermill": {
     "duration": 0.035826,
     "end_time": "2025-08-19T18:50:51.066274",
     "exception": false,
     "start_time": "2025-08-19T18:50:51.030448",
     "status": "completed"
    },
    "tags": []
   },
   "outputs": [
    {
     "data": {
      "text/plain": [
       "accuracy                   0.196656\n",
       "balanced accuracy          0.533105\n",
       "f1                         0.239420\n",
       "precision                  0.136259\n",
       "false positive rate        0.919452\n",
       "false negative rate        0.014338\n",
       "selection rate             0.927946\n",
       "count                  89710.000000\n",
       "dtype: float64"
      ]
     },
     "execution_count": 59,
     "metadata": {},
     "output_type": "execute_result"
    }
   ],
   "source": [
    "metric_frame.overall"
   ]
  },
  {
   "cell_type": "markdown",
   "id": "d93333c9",
   "metadata": {
    "papermill": {
     "duration": 0.012897,
     "end_time": "2025-08-19T18:50:51.099538",
     "exception": false,
     "start_time": "2025-08-19T18:50:51.086641",
     "status": "completed"
    },
    "tags": []
   },
   "source": [
    "By Group"
   ]
  },
  {
   "cell_type": "code",
   "execution_count": 60,
   "id": "52256966",
   "metadata": {
    "execution": {
     "iopub.execute_input": "2025-08-19T18:50:51.127823Z",
     "iopub.status.busy": "2025-08-19T18:50:51.127117Z",
     "iopub.status.idle": "2025-08-19T18:50:51.161710Z",
     "shell.execute_reply": "2025-08-19T18:50:51.160513Z"
    },
    "papermill": {
     "duration": 0.052644,
     "end_time": "2025-08-19T18:50:51.164950",
     "exception": false,
     "start_time": "2025-08-19T18:50:51.112306",
     "status": "completed"
    },
    "tags": []
   },
   "outputs": [
    {
     "data": {
      "text/html": [
       "<div>\n",
       "<style scoped>\n",
       "    .dataframe tbody tr th:only-of-type {\n",
       "        vertical-align: middle;\n",
       "    }\n",
       "\n",
       "    .dataframe tbody tr th {\n",
       "        vertical-align: top;\n",
       "    }\n",
       "\n",
       "    .dataframe thead th {\n",
       "        text-align: right;\n",
       "    }\n",
       "</style>\n",
       "<table border=\"1\" class=\"dataframe\">\n",
       "  <thead>\n",
       "    <tr style=\"text-align: right;\">\n",
       "      <th></th>\n",
       "      <th>accuracy</th>\n",
       "      <th>balanced accuracy</th>\n",
       "      <th>f1</th>\n",
       "      <th>precision</th>\n",
       "      <th>false positive rate</th>\n",
       "      <th>false negative rate</th>\n",
       "      <th>selection rate</th>\n",
       "      <th>count</th>\n",
       "    </tr>\n",
       "    <tr>\n",
       "      <th>majmin</th>\n",
       "      <th></th>\n",
       "      <th></th>\n",
       "      <th></th>\n",
       "      <th></th>\n",
       "      <th></th>\n",
       "      <th></th>\n",
       "      <th></th>\n",
       "      <th></th>\n",
       "    </tr>\n",
       "  </thead>\n",
       "  <tbody>\n",
       "    <tr>\n",
       "      <th>majority</th>\n",
       "      <td>0.204785</td>\n",
       "      <td>0.536521</td>\n",
       "      <td>0.247074</td>\n",
       "      <td>0.141203</td>\n",
       "      <td>0.914376</td>\n",
       "      <td>0.012582</td>\n",
       "      <td>0.924028</td>\n",
       "      <td>69170.0</td>\n",
       "    </tr>\n",
       "    <tr>\n",
       "      <th>minority</th>\n",
       "      <td>0.169279</td>\n",
       "      <td>0.521332</td>\n",
       "      <td>0.213650</td>\n",
       "      <td>0.119911</td>\n",
       "      <td>0.936221</td>\n",
       "      <td>0.021115</td>\n",
       "      <td>0.941139</td>\n",
       "      <td>20540.0</td>\n",
       "    </tr>\n",
       "  </tbody>\n",
       "</table>\n",
       "</div>"
      ],
      "text/plain": [
       "          accuracy  balanced accuracy        f1  precision  \\\n",
       "majmin                                                       \n",
       "majority  0.204785           0.536521  0.247074   0.141203   \n",
       "minority  0.169279           0.521332  0.213650   0.119911   \n",
       "\n",
       "          false positive rate  false negative rate  selection rate    count  \n",
       "majmin                                                                       \n",
       "majority             0.914376             0.012582        0.924028  69170.0  \n",
       "minority             0.936221             0.021115        0.941139  20540.0  "
      ]
     },
     "execution_count": 60,
     "metadata": {},
     "output_type": "execute_result"
    }
   ],
   "source": [
    "metric_frame.by_group"
   ]
  },
  {
   "cell_type": "code",
   "execution_count": 61,
   "id": "6e6c20ae",
   "metadata": {
    "execution": {
     "iopub.execute_input": "2025-08-19T18:50:51.206103Z",
     "iopub.status.busy": "2025-08-19T18:50:51.204992Z",
     "iopub.status.idle": "2025-08-19T18:50:53.034712Z",
     "shell.execute_reply": "2025-08-19T18:50:53.033547Z"
    },
    "papermill": {
     "duration": 1.84697,
     "end_time": "2025-08-19T18:50:53.036049",
     "exception": false,
     "start_time": "2025-08-19T18:50:51.189079",
     "status": "completed"
    },
    "tags": []
   },
   "outputs": [
    {
     "data": {
      "text/plain": [
       "array([[<Axes: title={'center': 'accuracy'}, xlabel='majmin'>,\n",
       "        <Axes: title={'center': 'balanced accuracy'}, xlabel='majmin'>,\n",
       "        <Axes: title={'center': 'f1'}, xlabel='majmin'>],\n",
       "       [<Axes: title={'center': 'precision'}, xlabel='majmin'>,\n",
       "        <Axes: title={'center': 'false positive rate'}, xlabel='majmin'>,\n",
       "        <Axes: title={'center': 'false negative rate'}, xlabel='majmin'>],\n",
       "       [<Axes: title={'center': 'selection rate'}, xlabel='majmin'>,\n",
       "        <Axes: title={'center': 'count'}, xlabel='majmin'>,\n",
       "        <Axes: xlabel='majmin'>]], dtype=object)"
      ]
     },
     "execution_count": 61,
     "metadata": {},
     "output_type": "execute_result"
    },
    {
     "data": {
      "image/png": "[encoded data removed]",
      "text/plain": [
       "<Figure size 1200x800 with 9 Axes>"
      ]
     },
     "metadata": {},
     "output_type": "display_data"
    }
   ],
   "source": [
    "# In a graphic\n",
    "metric_frame.by_group.plot.bar(\n",
    "    subplots=True,\n",
    "    layout=[3, 3],\n",
    "    legend=False,\n",
    "    figsize=[12, 8],\n",
    "    title=\"Show all metrics\",\n",
    ")"
   ]
  },
  {
   "cell_type": "markdown",
   "id": "b2e433ae",
   "metadata": {
    "papermill": {
     "duration": 0.013783,
     "end_time": "2025-08-19T18:50:53.065311",
     "exception": false,
     "start_time": "2025-08-19T18:50:53.051528",
     "status": "completed"
    },
    "tags": []
   },
   "source": [
    "# Final Output"
   ]
  },
  {
   "cell_type": "code",
   "execution_count": 62,
   "id": "3871301e",
   "metadata": {
    "execution": {
     "iopub.execute_input": "2025-08-19T18:50:53.102494Z",
     "iopub.status.busy": "2025-08-19T18:50:53.095371Z",
     "iopub.status.idle": "2025-08-19T18:50:53.122236Z",
     "shell.execute_reply": "2025-08-19T18:50:53.121211Z"
    },
    "papermill": {
     "duration": 0.044278,
     "end_time": "2025-08-19T18:50:53.123480",
     "exception": false,
     "start_time": "2025-08-19T18:50:53.079202",
     "status": "completed"
    },
    "tags": []
   },
   "outputs": [
    {
     "data": {
      "text/plain": [
       "4"
      ]
     },
     "execution_count": 62,
     "metadata": {},
     "output_type": "execute_result"
    }
   ],
   "source": [
    "sub_universes = universe_analysis.generate_sub_universes()\n",
    "len(sub_universes)"
   ]
  },
  {
   "cell_type": "code",
   "execution_count": 63,
   "id": "d9cfdaca",
   "metadata": {
    "execution": {
     "iopub.execute_input": "2025-08-19T18:50:53.156106Z",
     "iopub.status.busy": "2025-08-19T18:50:53.154995Z",
     "iopub.status.idle": "2025-08-19T18:50:53.165094Z",
     "shell.execute_reply": "2025-08-19T18:50:53.163808Z"
    },
    "papermill": {
     "duration": 0.028355,
     "end_time": "2025-08-19T18:50:53.166659",
     "exception": false,
     "start_time": "2025-08-19T18:50:53.138304",
     "status": "completed"
    },
    "tags": []
   },
   "outputs": [],
   "source": [
    "def filter_sub_universe_data(sub_universe, org_test):\n",
    "    # Keep all rows — no filtering\n",
    "    keep_rows_mask = np.ones(org_test.shape[0], dtype=bool)\n",
    "\n",
    "    print(f\"[INFO] Keeping all rows: {keep_rows_mask.sum()} rows retained.\")\n",
    "    return keep_rows_mask"
   ]
  },
  {
   "cell_type": "code",
   "execution_count": 64,
   "id": "2bc31ac1",
   "metadata": {
    "execution": {
     "iopub.execute_input": "2025-08-19T18:50:53.202321Z",
     "iopub.status.busy": "2025-08-19T18:50:53.201207Z",
     "iopub.status.idle": "2025-08-19T18:51:00.057000Z",
     "shell.execute_reply": "2025-08-19T18:51:00.055967Z"
    },
    "papermill": {
     "duration": 6.874091,
     "end_time": "2025-08-19T18:51:00.058690",
     "exception": false,
     "start_time": "2025-08-19T18:50:53.184599",
     "status": "completed"
    },
    "tags": []
   },
   "outputs": [
    {
     "name": "stdout",
     "output_type": "stream",
     "text": [
      "Stopping execution_time clock.\n",
      "[INFO] Keeping all rows: 89710 rows retained.\n"
     ]
    },
    {
     "name": "stdout",
     "output_type": "stream",
     "text": [
      "[INFO] Keeping all rows: 89710 rows retained.\n"
     ]
    },
    {
     "name": "stdout",
     "output_type": "stream",
     "text": [
      "[INFO] Keeping all rows: 89710 rows retained.\n"
     ]
    },
    {
     "name": "stdout",
     "output_type": "stream",
     "text": [
      "[INFO] Keeping all rows: 89710 rows retained.\n"
     ]
    },
    {
     "data": {
      "text/html": [
       "<div>\n",
       "<style scoped>\n",
       "    .dataframe tbody tr th:only-of-type {\n",
       "        vertical-align: middle;\n",
       "    }\n",
       "\n",
       "    .dataframe tbody tr th {\n",
       "        vertical-align: top;\n",
       "    }\n",
       "\n",
       "    .dataframe thead th {\n",
       "        text-align: right;\n",
       "    }\n",
       "</style>\n",
       "<table border=\"1\" class=\"dataframe\">\n",
       "  <thead>\n",
       "    <tr style=\"text-align: right;\">\n",
       "      <th></th>\n",
       "      <th>run_no</th>\n",
       "      <th>universe_id</th>\n",
       "      <th>universe_settings</th>\n",
       "      <th>execution_time</th>\n",
       "      <th>test_size_n</th>\n",
       "      <th>test_size_frac</th>\n",
       "      <th>fair_main_equalized_odds_difference</th>\n",
       "      <th>fair_main_equalized_odds_ratio</th>\n",
       "      <th>fair_main_demographic_parity_difference</th>\n",
       "      <th>fair_main_demographic_parity_ratio</th>\n",
       "      <th>...</th>\n",
       "      <th>perf_grp_precision_0</th>\n",
       "      <th>perf_grp_precision_1</th>\n",
       "      <th>perf_grp_false positive rate_0</th>\n",
       "      <th>perf_grp_false positive rate_1</th>\n",
       "      <th>perf_grp_false negative rate_0</th>\n",
       "      <th>perf_grp_false negative rate_1</th>\n",
       "      <th>perf_grp_selection rate_0</th>\n",
       "      <th>perf_grp_selection rate_1</th>\n",
       "      <th>perf_grp_count_0</th>\n",
       "      <th>perf_grp_count_1</th>\n",
       "    </tr>\n",
       "  </thead>\n",
       "  <tbody>\n",
       "    <tr>\n",
       "      <th>0</th>\n",
       "      <td>3</td>\n",
       "      <td>0b4807607cad1526d8e6418f2999cbc7</td>\n",
       "      <td>{\"cutoff\": \"quantile_0.1\", \"eval_fairness_grou...</td>\n",
       "      <td>26.421541</td>\n",
       "      <td>89710</td>\n",
       "      <td>1.0</td>\n",
       "      <td>0.021844</td>\n",
       "      <td>0.976667</td>\n",
       "      <td>0.017111</td>\n",
       "      <td>0.981818</td>\n",
       "      <td>...</td>\n",
       "      <td>NaN</td>\n",
       "      <td>NaN</td>\n",
       "      <td>NaN</td>\n",
       "      <td>NaN</td>\n",
       "      <td>NaN</td>\n",
       "      <td>NaN</td>\n",
       "      <td>NaN</td>\n",
       "      <td>NaN</td>\n",
       "      <td>NaN</td>\n",
       "      <td>NaN</td>\n",
       "    </tr>\n",
       "    <tr>\n",
       "      <th>0</th>\n",
       "      <td>3</td>\n",
       "      <td>0b4807607cad1526d8e6418f2999cbc7</td>\n",
       "      <td>{\"cutoff\": \"quantile_0.1\", \"eval_fairness_grou...</td>\n",
       "      <td>26.421541</td>\n",
       "      <td>89710</td>\n",
       "      <td>1.0</td>\n",
       "      <td>0.021844</td>\n",
       "      <td>0.976667</td>\n",
       "      <td>0.017111</td>\n",
       "      <td>0.981818</td>\n",
       "      <td>...</td>\n",
       "      <td>0.119911</td>\n",
       "      <td>0.141203</td>\n",
       "      <td>0.936221</td>\n",
       "      <td>0.914376</td>\n",
       "      <td>0.021115</td>\n",
       "      <td>0.012582</td>\n",
       "      <td>0.941139</td>\n",
       "      <td>0.924028</td>\n",
       "      <td>20540.0</td>\n",
       "      <td>69170.0</td>\n",
       "    </tr>\n",
       "    <tr>\n",
       "      <th>0</th>\n",
       "      <td>3</td>\n",
       "      <td>0b4807607cad1526d8e6418f2999cbc7</td>\n",
       "      <td>{\"cutoff\": \"quantile_0.25\", \"eval_fairness_gro...</td>\n",
       "      <td>26.421541</td>\n",
       "      <td>89710</td>\n",
       "      <td>1.0</td>\n",
       "      <td>0.041660</td>\n",
       "      <td>0.955196</td>\n",
       "      <td>0.022803</td>\n",
       "      <td>0.971274</td>\n",
       "      <td>...</td>\n",
       "      <td>NaN</td>\n",
       "      <td>NaN</td>\n",
       "      <td>NaN</td>\n",
       "      <td>NaN</td>\n",
       "      <td>NaN</td>\n",
       "      <td>NaN</td>\n",
       "      <td>NaN</td>\n",
       "      <td>NaN</td>\n",
       "      <td>NaN</td>\n",
       "      <td>NaN</td>\n",
       "    </tr>\n",
       "    <tr>\n",
       "      <th>0</th>\n",
       "      <td>3</td>\n",
       "      <td>0b4807607cad1526d8e6418f2999cbc7</td>\n",
       "      <td>{\"cutoff\": \"quantile_0.25\", \"eval_fairness_gro...</td>\n",
       "      <td>26.421541</td>\n",
       "      <td>89710</td>\n",
       "      <td>1.0</td>\n",
       "      <td>0.041660</td>\n",
       "      <td>0.955196</td>\n",
       "      <td>0.022803</td>\n",
       "      <td>0.971274</td>\n",
       "      <td>...</td>\n",
       "      <td>0.130696</td>\n",
       "      <td>0.161370</td>\n",
       "      <td>0.779991</td>\n",
       "      <td>0.745044</td>\n",
       "      <td>0.100084</td>\n",
       "      <td>0.058425</td>\n",
       "      <td>0.793817</td>\n",
       "      <td>0.771013</td>\n",
       "      <td>20540.0</td>\n",
       "      <td>69170.0</td>\n",
       "    </tr>\n",
       "  </tbody>\n",
       "</table>\n",
       "<p>4 rows × 50 columns</p>\n",
       "</div>"
      ],
      "text/plain": [
       "  run_no                       universe_id  \\\n",
       "0      3  0b4807607cad1526d8e6418f2999cbc7   \n",
       "0      3  0b4807607cad1526d8e6418f2999cbc7   \n",
       "0      3  0b4807607cad1526d8e6418f2999cbc7   \n",
       "0      3  0b4807607cad1526d8e6418f2999cbc7   \n",
       "\n",
       "                                   universe_settings  execution_time  \\\n",
       "0  {\"cutoff\": \"quantile_0.1\", \"eval_fairness_grou...       26.421541   \n",
       "0  {\"cutoff\": \"quantile_0.1\", \"eval_fairness_grou...       26.421541   \n",
       "0  {\"cutoff\": \"quantile_0.25\", \"eval_fairness_gro...       26.421541   \n",
       "0  {\"cutoff\": \"quantile_0.25\", \"eval_fairness_gro...       26.421541   \n",
       "\n",
       "   test_size_n  test_size_frac  fair_main_equalized_odds_difference  \\\n",
       "0        89710             1.0                             0.021844   \n",
       "0        89710             1.0                             0.021844   \n",
       "0        89710             1.0                             0.041660   \n",
       "0        89710             1.0                             0.041660   \n",
       "\n",
       "   fair_main_equalized_odds_ratio  fair_main_demographic_parity_difference  \\\n",
       "0                        0.976667                                 0.017111   \n",
       "0                        0.976667                                 0.017111   \n",
       "0                        0.955196                                 0.022803   \n",
       "0                        0.955196                                 0.022803   \n",
       "\n",
       "   fair_main_demographic_parity_ratio  ...  perf_grp_precision_0  \\\n",
       "0                            0.981818  ...                   NaN   \n",
       "0                            0.981818  ...              0.119911   \n",
       "0                            0.971274  ...                   NaN   \n",
       "0                            0.971274  ...              0.130696   \n",
       "\n",
       "   perf_grp_precision_1  perf_grp_false positive rate_0  \\\n",
       "0                   NaN                             NaN   \n",
       "0              0.141203                        0.936221   \n",
       "0                   NaN                             NaN   \n",
       "0              0.161370                        0.779991   \n",
       "\n",
       "   perf_grp_false positive rate_1  perf_grp_false negative rate_0  \\\n",
       "0                             NaN                             NaN   \n",
       "0                        0.914376                        0.021115   \n",
       "0                             NaN                             NaN   \n",
       "0                        0.745044                        0.100084   \n",
       "\n",
       "   perf_grp_false negative rate_1  perf_grp_selection rate_0  \\\n",
       "0                             NaN                        NaN   \n",
       "0                        0.012582                   0.941139   \n",
       "0                             NaN                        NaN   \n",
       "0                        0.058425                   0.793817   \n",
       "\n",
       "   perf_grp_selection rate_1  perf_grp_count_0  perf_grp_count_1  \n",
       "0                        NaN               NaN               NaN  \n",
       "0                   0.924028           20540.0           69170.0  \n",
       "0                        NaN               NaN               NaN  \n",
       "0                   0.771013           20540.0           69170.0  \n",
       "\n",
       "[4 rows x 50 columns]"
      ]
     },
     "execution_count": 64,
     "metadata": {},
     "output_type": "execute_result"
    }
   ],
   "source": [
    "final_output = universe_analysis.generate_final_output(\n",
    "    y_pred_prob=probs_test,\n",
    "    y_test=y_true,\n",
    "    org_test=org_test,\n",
    "    filter_data=filter_sub_universe_data,\n",
    "    cp_metrics_df=cp_metrics_df,\n",
    "    save=True,\n",
    ")\n",
    "final_output"
   ]
  },
  {
   "cell_type": "code",
   "execution_count": null,
   "id": "8b80a1ff",
   "metadata": {
    "papermill": {
     "duration": 0.016633,
     "end_time": "2025-08-19T18:51:00.096167",
     "exception": false,
     "start_time": "2025-08-19T18:51:00.079534",
     "status": "completed"
    },
    "tags": []
   },
   "outputs": [],
   "source": []
  },
  {
   "cell_type": "code",
   "execution_count": null,
   "id": "275c9fad",
   "metadata": {
    "papermill": {
     "duration": 0.015309,
     "end_time": "2025-08-19T18:51:00.126620",
     "exception": false,
     "start_time": "2025-08-19T18:51:00.111311",
     "status": "completed"
    },
    "tags": []
   },
   "outputs": [],
   "source": []
  }
 ],
 "metadata": {
  "celltoolbar": "Tags",
  "kernelspec": {
   "display_name": "Python (CMA Fairness)",
   "language": "python",
   "name": "cma_fair_env"
  },
  "language_info": {
   "codemirror_mode": {
    "name": "ipython",
    "version": 3
   },
   "file_extension": ".py",
   "mimetype": "text/x-python",
   "name": "python",
   "nbconvert_exporter": "python",
   "pygments_lexer": "ipython3",
   "version": "3.10.12"
  },
  "papermill": {
   "default_parameters": {},
   "duration": 37.233937,
   "end_time": "2025-08-19T18:51:00.965179",
   "environment_variables": {},
   "exception": null,
   "input_path": "universe_analysis.ipynb",
   "output_path": "output/runs/3/notebooks/m_3-0b4807607cad1526d8e6418f2999cbc7.ipynb",
   "parameters": {
    "output_dir": "output",
    "run_no": "3",
    "seed": "2023",
    "universe": "{\"cutoff\": [\"quantile_0.1\", \"quantile_0.25\"], \"eval_fairness_grouping\": [\"majority-minority\", \"nationality-all\"], \"exclude_features\": \"sex\", \"exclude_subgroups\": \"drop-non-german\", \"model\": \"rf\", \"scale\": \"scale\", \"training_size\": \"1k\", \"training_year\": \"2014\"}",
    "universe_id": "0b4807607cad1526d8e6418f2999cbc7"
   },
   "start_time": "2025-08-19T18:50:23.731242",
   "version": "2.6.0"
  }
 },
 "nbformat": 4,
 "nbformat_minor": 5
}