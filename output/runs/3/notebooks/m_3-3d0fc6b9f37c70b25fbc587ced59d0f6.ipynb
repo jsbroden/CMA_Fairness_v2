{
 "cells": [
  {
   "cell_type": "markdown",
   "id": "ef23dbb3",
   "metadata": {
    "papermill": {
     "duration": 0.022864,
     "end_time": "2025-08-19T18:28:58.585173",
     "exception": false,
     "start_time": "2025-08-19T18:28:58.562309",
     "status": "completed"
    },
    "tags": []
   },
   "source": [
    "# Setup"
   ]
  },
  {
   "cell_type": "code",
   "execution_count": 1,
   "id": "0bc8e7dc",
   "metadata": {
    "execution": {
     "iopub.execute_input": "2025-08-19T18:28:58.609184Z",
     "iopub.status.busy": "2025-08-19T18:28:58.607956Z",
     "iopub.status.idle": "2025-08-19T18:28:58.628895Z",
     "shell.execute_reply": "2025-08-19T18:28:58.627826Z"
    },
    "papermill": {
     "duration": 0.033236,
     "end_time": "2025-08-19T18:28:58.630913",
     "exception": false,
     "start_time": "2025-08-19T18:28:58.597677",
     "status": "completed"
    },
    "tags": []
   },
   "outputs": [
    {
     "name": "stdout",
     "output_type": "stream",
     "text": [
      "/dss/dsshome1/0C/ra93lal2/cma/CMA_Fairness_v2\n"
     ]
    },
    {
     "name": "stderr",
     "output_type": "stream",
     "text": [
      "/dss/dsshome1/0C/ra93lal2/.local/share/virtualenvs/CMA_Fairness_v2-3j10GkSs/lib/python3.10/site-packages/IPython/core/magics/osm.py:393: UserWarning: This is now an optional IPython functionality, using bookmarks requires you to install the `pickleshare` library.\n",
      "  bkms = self.shell.db.get('bookmarks', {})\n",
      "/dss/dsshome1/0C/ra93lal2/.local/share/virtualenvs/CMA_Fairness_v2-3j10GkSs/lib/python3.10/site-packages/IPython/core/magics/osm.py:417: UserWarning: This is now an optional IPython functionality, setting dhist requires you to install the `pickleshare` library.\n",
      "  self.shell.db['dhist'] = compress_dhist(dhist)[-100:]\n"
     ]
    }
   ],
   "source": [
    "%cd ~/cma/CMA_Fairness_v2"
   ]
  },
  {
   "cell_type": "markdown",
   "id": "9d235661",
   "metadata": {
    "papermill": {
     "duration": 0.009344,
     "end_time": "2025-08-19T18:28:58.654536",
     "exception": false,
     "start_time": "2025-08-19T18:28:58.645192",
     "status": "completed"
    },
    "tags": []
   },
   "source": [
    "The following cell holds the definition of our parameters, these values can be overriden by rendering the with e.g. the following command:\n",
    "\n",
    "papermill -p alpha 0.2 -p ratio 0.3 universe_analysis.ipynb output/test_run.ipynb"
   ]
  },
  {
   "cell_type": "code",
   "execution_count": 2,
   "id": "4a789d8e",
   "metadata": {
    "execution": {
     "iopub.execute_input": "2025-08-19T18:28:58.675178Z",
     "iopub.status.busy": "2025-08-19T18:28:58.673660Z",
     "iopub.status.idle": "2025-08-19T18:28:58.682459Z",
     "shell.execute_reply": "2025-08-19T18:28:58.681008Z"
    },
    "papermill": {
     "duration": 0.020952,
     "end_time": "2025-08-19T18:28:58.684049",
     "exception": false,
     "start_time": "2025-08-19T18:28:58.663097",
     "status": "completed"
    },
    "tags": []
   },
   "outputs": [
    {
     "name": "stdout",
     "output_type": "stream",
     "text": [
      "Current working directory: /dss/dsshome1/0C/ra93lal2/cma/CMA_Fairness_v2\n"
     ]
    }
   ],
   "source": [
    "import os\n",
    "print(\"Current working directory:\", os.getcwd())"
   ]
  },
  {
   "cell_type": "code",
   "execution_count": 3,
   "id": "4132aaed",
   "metadata": {
    "execution": {
     "iopub.execute_input": "2025-08-19T18:28:58.705418Z",
     "iopub.status.busy": "2025-08-19T18:28:58.703916Z",
     "iopub.status.idle": "2025-08-19T18:28:58.713834Z",
     "shell.execute_reply": "2025-08-19T18:28:58.712285Z"
    },
    "papermill": {
     "duration": 0.021706,
     "end_time": "2025-08-19T18:28:58.715440",
     "exception": false,
     "start_time": "2025-08-19T18:28:58.693734",
     "status": "completed"
    },
    "tags": [
     "parameters"
    ]
   },
   "outputs": [],
   "source": [
    "run_no = 0\n",
    "universe_id = \"test\"\n",
    "universe = {\n",
    "    \"training_size\": \"5k\", # \"25k\", \"5k\", \"1k\"\n",
    "    \"training_year\": \"2012_14\", # \"2014\", \"2012_14\", \"2010_14\"\n",
    "    \"scale\": \"scale\", # \"scale\", \"do-not-scale\",\n",
    "    \"model\": \"elasticnet\", # \"logreg\", \"penalized_logreg\", \"rf\", \"gbm\", \"elasticnet\"\n",
    "    \"cutoff\": [\"quantile_0.15\", \"quantile_0.30\"],\n",
    "    \"exclude_features\": \"age\", # \"none\", \"nationality\", \"sex\", \"nationality-sex\", \"age\"\n",
    "    \"exclude_subgroups\": \"drop-non-german\", # \"keep-all\", \"drop-non-german\"\n",
    "    \"eval_fairness_grouping\": [\"majority-minority\", \"nationality-all\"]\n",
    "}\n",
    "\n",
    "output_dir=\"./output\"\n",
    "seed=0"
   ]
  },
  {
   "cell_type": "code",
   "execution_count": 4,
   "id": "b7752fd9",
   "metadata": {
    "execution": {
     "iopub.execute_input": "2025-08-19T18:28:58.739064Z",
     "iopub.status.busy": "2025-08-19T18:28:58.737782Z",
     "iopub.status.idle": "2025-08-19T18:28:58.746143Z",
     "shell.execute_reply": "2025-08-19T18:28:58.744655Z"
    },
    "papermill": {
     "duration": 0.020754,
     "end_time": "2025-08-19T18:28:58.747712",
     "exception": false,
     "start_time": "2025-08-19T18:28:58.726958",
     "status": "completed"
    },
    "tags": [
     "injected-parameters"
    ]
   },
   "outputs": [],
   "source": [
    "# Parameters\n",
    "universe_id = \"3d0fc6b9f37c70b25fbc587ced59d0f6\"\n",
    "run_no = \"3\"\n",
    "universe = \"{\\\"cutoff\\\": [\\\"quantile_0.1\\\", \\\"quantile_0.25\\\"], \\\"eval_fairness_grouping\\\": [\\\"majority-minority\\\", \\\"nationality-all\\\"], \\\"exclude_features\\\": \\\"nationality-sex\\\", \\\"exclude_subgroups\\\": \\\"drop-non-german\\\", \\\"model\\\": \\\"rf\\\", \\\"scale\\\": \\\"do-not-scale\\\", \\\"training_size\\\": \\\"5k\\\", \\\"training_year\\\": \\\"2014\\\"}\"\n",
    "output_dir = \"output\"\n",
    "seed = \"2023\"\n"
   ]
  },
  {
   "cell_type": "code",
   "execution_count": 5,
   "id": "a5d7941f",
   "metadata": {
    "execution": {
     "iopub.execute_input": "2025-08-19T18:28:58.771025Z",
     "iopub.status.busy": "2025-08-19T18:28:58.769707Z",
     "iopub.status.idle": "2025-08-19T18:28:58.777709Z",
     "shell.execute_reply": "2025-08-19T18:28:58.776132Z"
    },
    "papermill": {
     "duration": 0.01955,
     "end_time": "2025-08-19T18:28:58.779260",
     "exception": false,
     "start_time": "2025-08-19T18:28:58.759710",
     "status": "completed"
    },
    "tags": []
   },
   "outputs": [],
   "source": [
    "import json\n",
    "if isinstance(universe, str):\n",
    "    universe = json.loads(universe)"
   ]
  },
  {
   "cell_type": "code",
   "execution_count": 6,
   "id": "7076ccb1",
   "metadata": {
    "execution": {
     "iopub.execute_input": "2025-08-19T18:28:58.802849Z",
     "iopub.status.busy": "2025-08-19T18:28:58.801564Z",
     "iopub.status.idle": "2025-08-19T18:28:58.851416Z",
     "shell.execute_reply": "2025-08-19T18:28:58.850790Z"
    },
    "papermill": {
     "duration": 0.062761,
     "end_time": "2025-08-19T18:28:58.854148",
     "exception": false,
     "start_time": "2025-08-19T18:28:58.791387",
     "status": "completed"
    },
    "tags": []
   },
   "outputs": [],
   "source": [
    "# Auto-reload the custom package\n",
    "%load_ext autoreload\n",
    "%autoreload 1\n",
    "%aimport fairness_multiverse"
   ]
  },
  {
   "cell_type": "code",
   "execution_count": 7,
   "id": "94c8eb93",
   "metadata": {
    "execution": {
     "iopub.execute_input": "2025-08-19T18:28:58.891931Z",
     "iopub.status.busy": "2025-08-19T18:28:58.890612Z",
     "iopub.status.idle": "2025-08-19T18:29:00.422646Z",
     "shell.execute_reply": "2025-08-19T18:29:00.420820Z"
    },
    "papermill": {
     "duration": 1.548077,
     "end_time": "2025-08-19T18:29:00.424764",
     "exception": false,
     "start_time": "2025-08-19T18:28:58.876687",
     "status": "completed"
    },
    "tags": []
   },
   "outputs": [],
   "source": [
    "from fairness_multiverse.universe import UniverseAnalysis\n",
    "\n",
    "universe_analysis = UniverseAnalysis(\n",
    "    run_no = run_no,\n",
    "    universe_id = universe_id,\n",
    "    universe = universe,\n",
    "    output_dir=output_dir,\n",
    ")"
   ]
  },
  {
   "cell_type": "code",
   "execution_count": 8,
   "id": "2a6381cf",
   "metadata": {
    "execution": {
     "iopub.execute_input": "2025-08-19T18:29:00.447006Z",
     "iopub.status.busy": "2025-08-19T18:29:00.446541Z",
     "iopub.status.idle": "2025-08-19T18:29:00.455295Z",
     "shell.execute_reply": "2025-08-19T18:29:00.454462Z"
    },
    "papermill": {
     "duration": 0.022594,
     "end_time": "2025-08-19T18:29:00.456943",
     "exception": false,
     "start_time": "2025-08-19T18:29:00.434349",
     "status": "completed"
    },
    "tags": []
   },
   "outputs": [
    {
     "name": "stdout",
     "output_type": "stream",
     "text": [
      "Using Seed: 2023\n"
     ]
    }
   ],
   "source": [
    "import numpy as np\n",
    "parsed_seed = int(seed)\n",
    "np.random.seed(parsed_seed)\n",
    "print(f\"Using Seed: {parsed_seed}\")"
   ]
  },
  {
   "cell_type": "markdown",
   "id": "b6e958b4",
   "metadata": {
    "papermill": {
     "duration": 0.009693,
     "end_time": "2025-08-19T18:29:00.476335",
     "exception": false,
     "start_time": "2025-08-19T18:29:00.466642",
     "status": "completed"
    },
    "tags": []
   },
   "source": [
    "# Loading Data"
   ]
  },
  {
   "cell_type": "code",
   "execution_count": 9,
   "id": "98701482",
   "metadata": {
    "execution": {
     "iopub.execute_input": "2025-08-19T18:29:00.496353Z",
     "iopub.status.busy": "2025-08-19T18:29:00.495973Z",
     "iopub.status.idle": "2025-08-19T18:29:10.572771Z",
     "shell.execute_reply": "2025-08-19T18:29:10.571540Z"
    },
    "papermill": {
     "duration": 10.08863,
     "end_time": "2025-08-19T18:29:10.574084",
     "exception": false,
     "start_time": "2025-08-19T18:29:00.485454",
     "status": "completed"
    },
    "tags": []
   },
   "outputs": [
    {
     "name": "stdout",
     "output_type": "stream",
     "text": [
      "Loading SIAB data from cache: data/siab_cached.csv.gz\n"
     ]
    },
    {
     "name": "stdout",
     "output_type": "stream",
     "text": [
      "(643690, 164)\n"
     ]
    }
   ],
   "source": [
    "from pathlib import Path\n",
    "import pandas as pd\n",
    "\n",
    "# File paths\n",
    "raw_file = Path(\"data/raw/siab.csv\")\n",
    "cache_file = Path(\"data/siab_cached.csv.gz\")\n",
    "\n",
    "# Ensure cache directory exists\n",
    "cache_file.parent.mkdir(parents=True, exist_ok=True)\n",
    "\n",
    "# Load with simple caching\n",
    "if cache_file.exists():\n",
    "    print(f\"Loading SIAB data from cache: {cache_file}\")\n",
    "    siab = pd.read_csv(cache_file, compression='gzip')\n",
    "else:\n",
    "    print(f\"Cache not found. Reading raw SIAB data: {raw_file}\")\n",
    "    siab = pd.read_csv(raw_file)\n",
    "    siab.to_csv(cache_file, index=False, compression='gzip')\n",
    "    print(f\"Cached SIAB data to: {cache_file}\")\n",
    "\n",
    "print(siab.shape)"
   ]
  },
  {
   "cell_type": "code",
   "execution_count": 10,
   "id": "058d2abb",
   "metadata": {
    "execution": {
     "iopub.execute_input": "2025-08-19T18:29:10.601862Z",
     "iopub.status.busy": "2025-08-19T18:29:10.601460Z",
     "iopub.status.idle": "2025-08-19T18:29:10.731403Z",
     "shell.execute_reply": "2025-08-19T18:29:10.730531Z"
    },
    "papermill": {
     "duration": 0.146643,
     "end_time": "2025-08-19T18:29:10.732858",
     "exception": false,
     "start_time": "2025-08-19T18:29:10.586215",
     "status": "completed"
    },
    "tags": []
   },
   "outputs": [
    {
     "data": {
      "text/html": [
       "<div>\n",
       "<style scoped>\n",
       "    .dataframe tbody tr th:only-of-type {\n",
       "        vertical-align: middle;\n",
       "    }\n",
       "\n",
       "    .dataframe tbody tr th {\n",
       "        vertical-align: top;\n",
       "    }\n",
       "\n",
       "    .dataframe thead th {\n",
       "        text-align: right;\n",
       "    }\n",
       "</style>\n",
       "<table border=\"1\" class=\"dataframe\">\n",
       "  <thead>\n",
       "    <tr style=\"text-align: right;\">\n",
       "      <th></th>\n",
       "      <th>persnr</th>\n",
       "      <th>year</th>\n",
       "      <th>nrEntry</th>\n",
       "      <th>ltue</th>\n",
       "      <th>employed_before</th>\n",
       "      <th>receipt_leh_before</th>\n",
       "      <th>receipt_lhg_before</th>\n",
       "      <th>se_before</th>\n",
       "      <th>ASU_notue_seeking_before</th>\n",
       "      <th>ASU_other_before</th>\n",
       "      <th>...</th>\n",
       "      <th>minijob_tot_dur_byage</th>\n",
       "      <th>ft_tot_dur_byage</th>\n",
       "      <th>befrist_tot_dur_byage</th>\n",
       "      <th>leih_tot_dur_byage</th>\n",
       "      <th>LHG_tot_dur_byage</th>\n",
       "      <th>LEH_tot_dur_byage</th>\n",
       "      <th>almp_tot_dur_byage</th>\n",
       "      <th>almp_aw_tot_dur_byage</th>\n",
       "      <th>se_tot_dur_byage</th>\n",
       "      <th>seeking1_tot_dur_byage</th>\n",
       "    </tr>\n",
       "  </thead>\n",
       "  <tbody>\n",
       "    <tr>\n",
       "      <th>0</th>\n",
       "      <td>7</td>\n",
       "      <td>2015</td>\n",
       "      <td>1</td>\n",
       "      <td>0</td>\n",
       "      <td>1</td>\n",
       "      <td>0</td>\n",
       "      <td>0</td>\n",
       "      <td>0</td>\n",
       "      <td>1</td>\n",
       "      <td>0</td>\n",
       "      <td>...</td>\n",
       "      <td>0.000000</td>\n",
       "      <td>0.000000</td>\n",
       "      <td>15.043478</td>\n",
       "      <td>0.000000</td>\n",
       "      <td>0.000000</td>\n",
       "      <td>0.000000</td>\n",
       "      <td>0.000000</td>\n",
       "      <td>0.000000</td>\n",
       "      <td>0.000000</td>\n",
       "      <td>0.000000</td>\n",
       "    </tr>\n",
       "    <tr>\n",
       "      <th>1</th>\n",
       "      <td>18</td>\n",
       "      <td>2010</td>\n",
       "      <td>1</td>\n",
       "      <td>1</td>\n",
       "      <td>0</td>\n",
       "      <td>0</td>\n",
       "      <td>0</td>\n",
       "      <td>0</td>\n",
       "      <td>0</td>\n",
       "      <td>0</td>\n",
       "      <td>...</td>\n",
       "      <td>0.000000</td>\n",
       "      <td>0.000000</td>\n",
       "      <td>0.000000</td>\n",
       "      <td>0.000000</td>\n",
       "      <td>0.000000</td>\n",
       "      <td>0.000000</td>\n",
       "      <td>0.000000</td>\n",
       "      <td>0.000000</td>\n",
       "      <td>0.000000</td>\n",
       "      <td>0.000000</td>\n",
       "    </tr>\n",
       "    <tr>\n",
       "      <th>2</th>\n",
       "      <td>18</td>\n",
       "      <td>2011</td>\n",
       "      <td>2</td>\n",
       "      <td>0</td>\n",
       "      <td>1</td>\n",
       "      <td>0</td>\n",
       "      <td>1</td>\n",
       "      <td>0</td>\n",
       "      <td>1</td>\n",
       "      <td>0</td>\n",
       "      <td>...</td>\n",
       "      <td>2.714286</td>\n",
       "      <td>2.714286</td>\n",
       "      <td>0.000000</td>\n",
       "      <td>0.000000</td>\n",
       "      <td>10.775510</td>\n",
       "      <td>0.000000</td>\n",
       "      <td>8.367347</td>\n",
       "      <td>0.000000</td>\n",
       "      <td>0.000000</td>\n",
       "      <td>9.836735</td>\n",
       "    </tr>\n",
       "    <tr>\n",
       "      <th>3</th>\n",
       "      <td>18</td>\n",
       "      <td>2012</td>\n",
       "      <td>3</td>\n",
       "      <td>0</td>\n",
       "      <td>1</td>\n",
       "      <td>0</td>\n",
       "      <td>1</td>\n",
       "      <td>0</td>\n",
       "      <td>1</td>\n",
       "      <td>0</td>\n",
       "      <td>...</td>\n",
       "      <td>4.200000</td>\n",
       "      <td>4.200000</td>\n",
       "      <td>0.000000</td>\n",
       "      <td>0.000000</td>\n",
       "      <td>12.100000</td>\n",
       "      <td>0.000000</td>\n",
       "      <td>9.400000</td>\n",
       "      <td>0.000000</td>\n",
       "      <td>0.000000</td>\n",
       "      <td>9.960000</td>\n",
       "    </tr>\n",
       "    <tr>\n",
       "      <th>4</th>\n",
       "      <td>18</td>\n",
       "      <td>2012</td>\n",
       "      <td>4</td>\n",
       "      <td>0</td>\n",
       "      <td>1</td>\n",
       "      <td>0</td>\n",
       "      <td>1</td>\n",
       "      <td>0</td>\n",
       "      <td>1</td>\n",
       "      <td>0</td>\n",
       "      <td>...</td>\n",
       "      <td>5.460000</td>\n",
       "      <td>5.460000</td>\n",
       "      <td>0.000000</td>\n",
       "      <td>0.000000</td>\n",
       "      <td>13.360000</td>\n",
       "      <td>0.000000</td>\n",
       "      <td>10.320000</td>\n",
       "      <td>0.000000</td>\n",
       "      <td>0.000000</td>\n",
       "      <td>10.280000</td>\n",
       "    </tr>\n",
       "    <tr>\n",
       "      <th>...</th>\n",
       "      <td>...</td>\n",
       "      <td>...</td>\n",
       "      <td>...</td>\n",
       "      <td>...</td>\n",
       "      <td>...</td>\n",
       "      <td>...</td>\n",
       "      <td>...</td>\n",
       "      <td>...</td>\n",
       "      <td>...</td>\n",
       "      <td>...</td>\n",
       "      <td>...</td>\n",
       "      <td>...</td>\n",
       "      <td>...</td>\n",
       "      <td>...</td>\n",
       "      <td>...</td>\n",
       "      <td>...</td>\n",
       "      <td>...</td>\n",
       "      <td>...</td>\n",
       "      <td>...</td>\n",
       "      <td>...</td>\n",
       "      <td>...</td>\n",
       "    </tr>\n",
       "    <tr>\n",
       "      <th>643685</th>\n",
       "      <td>1827860</td>\n",
       "      <td>2013</td>\n",
       "      <td>1</td>\n",
       "      <td>0</td>\n",
       "      <td>0</td>\n",
       "      <td>0</td>\n",
       "      <td>1</td>\n",
       "      <td>0</td>\n",
       "      <td>0</td>\n",
       "      <td>1</td>\n",
       "      <td>...</td>\n",
       "      <td>0.000000</td>\n",
       "      <td>0.000000</td>\n",
       "      <td>0.000000</td>\n",
       "      <td>0.000000</td>\n",
       "      <td>0.612903</td>\n",
       "      <td>0.000000</td>\n",
       "      <td>0.000000</td>\n",
       "      <td>0.000000</td>\n",
       "      <td>0.000000</td>\n",
       "      <td>0.000000</td>\n",
       "    </tr>\n",
       "    <tr>\n",
       "      <th>643686</th>\n",
       "      <td>1827860</td>\n",
       "      <td>2015</td>\n",
       "      <td>2</td>\n",
       "      <td>1</td>\n",
       "      <td>0</td>\n",
       "      <td>0</td>\n",
       "      <td>1</td>\n",
       "      <td>0</td>\n",
       "      <td>1</td>\n",
       "      <td>0</td>\n",
       "      <td>...</td>\n",
       "      <td>0.000000</td>\n",
       "      <td>0.000000</td>\n",
       "      <td>0.212121</td>\n",
       "      <td>0.212121</td>\n",
       "      <td>17.363636</td>\n",
       "      <td>0.000000</td>\n",
       "      <td>8.909091</td>\n",
       "      <td>0.000000</td>\n",
       "      <td>0.000000</td>\n",
       "      <td>7.121212</td>\n",
       "    </tr>\n",
       "    <tr>\n",
       "      <th>643687</th>\n",
       "      <td>1827860</td>\n",
       "      <td>2016</td>\n",
       "      <td>3</td>\n",
       "      <td>1</td>\n",
       "      <td>0</td>\n",
       "      <td>0</td>\n",
       "      <td>1</td>\n",
       "      <td>1</td>\n",
       "      <td>0</td>\n",
       "      <td>1</td>\n",
       "      <td>...</td>\n",
       "      <td>0.000000</td>\n",
       "      <td>0.000000</td>\n",
       "      <td>0.294118</td>\n",
       "      <td>0.205882</td>\n",
       "      <td>34.705882</td>\n",
       "      <td>0.000000</td>\n",
       "      <td>10.352941</td>\n",
       "      <td>1.705882</td>\n",
       "      <td>1.705882</td>\n",
       "      <td>23.911765</td>\n",
       "    </tr>\n",
       "    <tr>\n",
       "      <th>643688</th>\n",
       "      <td>1827869</td>\n",
       "      <td>2013</td>\n",
       "      <td>1</td>\n",
       "      <td>1</td>\n",
       "      <td>1</td>\n",
       "      <td>0</td>\n",
       "      <td>0</td>\n",
       "      <td>0</td>\n",
       "      <td>1</td>\n",
       "      <td>0</td>\n",
       "      <td>...</td>\n",
       "      <td>0.000000</td>\n",
       "      <td>0.000000</td>\n",
       "      <td>0.000000</td>\n",
       "      <td>0.000000</td>\n",
       "      <td>0.000000</td>\n",
       "      <td>0.525424</td>\n",
       "      <td>0.000000</td>\n",
       "      <td>0.000000</td>\n",
       "      <td>0.000000</td>\n",
       "      <td>0.000000</td>\n",
       "    </tr>\n",
       "    <tr>\n",
       "      <th>643689</th>\n",
       "      <td>1827869</td>\n",
       "      <td>2014</td>\n",
       "      <td>2</td>\n",
       "      <td>0</td>\n",
       "      <td>0</td>\n",
       "      <td>1</td>\n",
       "      <td>0</td>\n",
       "      <td>0</td>\n",
       "      <td>1</td>\n",
       "      <td>0</td>\n",
       "      <td>...</td>\n",
       "      <td>0.000000</td>\n",
       "      <td>0.666667</td>\n",
       "      <td>0.666667</td>\n",
       "      <td>0.000000</td>\n",
       "      <td>0.000000</td>\n",
       "      <td>8.950000</td>\n",
       "      <td>1.033333</td>\n",
       "      <td>0.083333</td>\n",
       "      <td>0.083333</td>\n",
       "      <td>8.133333</td>\n",
       "    </tr>\n",
       "  </tbody>\n",
       "</table>\n",
       "<p>643690 rows × 164 columns</p>\n",
       "</div>"
      ],
      "text/plain": [
       "         persnr  year  nrEntry  ltue  employed_before  receipt_leh_before  \\\n",
       "0             7  2015        1     0                1                   0   \n",
       "1            18  2010        1     1                0                   0   \n",
       "2            18  2011        2     0                1                   0   \n",
       "3            18  2012        3     0                1                   0   \n",
       "4            18  2012        4     0                1                   0   \n",
       "...         ...   ...      ...   ...              ...                 ...   \n",
       "643685  1827860  2013        1     0                0                   0   \n",
       "643686  1827860  2015        2     1                0                   0   \n",
       "643687  1827860  2016        3     1                0                   0   \n",
       "643688  1827869  2013        1     1                1                   0   \n",
       "643689  1827869  2014        2     0                0                   1   \n",
       "\n",
       "        receipt_lhg_before  se_before  ASU_notue_seeking_before  \\\n",
       "0                        0          0                         1   \n",
       "1                        0          0                         0   \n",
       "2                        1          0                         1   \n",
       "3                        1          0                         1   \n",
       "4                        1          0                         1   \n",
       "...                    ...        ...                       ...   \n",
       "643685                   1          0                         0   \n",
       "643686                   1          0                         1   \n",
       "643687                   1          1                         0   \n",
       "643688                   0          0                         1   \n",
       "643689                   0          0                         1   \n",
       "\n",
       "        ASU_other_before  ...  minijob_tot_dur_byage  ft_tot_dur_byage  \\\n",
       "0                      0  ...               0.000000          0.000000   \n",
       "1                      0  ...               0.000000          0.000000   \n",
       "2                      0  ...               2.714286          2.714286   \n",
       "3                      0  ...               4.200000          4.200000   \n",
       "4                      0  ...               5.460000          5.460000   \n",
       "...                  ...  ...                    ...               ...   \n",
       "643685                 1  ...               0.000000          0.000000   \n",
       "643686                 0  ...               0.000000          0.000000   \n",
       "643687                 1  ...               0.000000          0.000000   \n",
       "643688                 0  ...               0.000000          0.000000   \n",
       "643689                 0  ...               0.000000          0.666667   \n",
       "\n",
       "        befrist_tot_dur_byage  leih_tot_dur_byage  LHG_tot_dur_byage  \\\n",
       "0                   15.043478            0.000000           0.000000   \n",
       "1                    0.000000            0.000000           0.000000   \n",
       "2                    0.000000            0.000000          10.775510   \n",
       "3                    0.000000            0.000000          12.100000   \n",
       "4                    0.000000            0.000000          13.360000   \n",
       "...                       ...                 ...                ...   \n",
       "643685               0.000000            0.000000           0.612903   \n",
       "643686               0.212121            0.212121          17.363636   \n",
       "643687               0.294118            0.205882          34.705882   \n",
       "643688               0.000000            0.000000           0.000000   \n",
       "643689               0.666667            0.000000           0.000000   \n",
       "\n",
       "        LEH_tot_dur_byage  almp_tot_dur_byage  almp_aw_tot_dur_byage  \\\n",
       "0                0.000000            0.000000               0.000000   \n",
       "1                0.000000            0.000000               0.000000   \n",
       "2                0.000000            8.367347               0.000000   \n",
       "3                0.000000            9.400000               0.000000   \n",
       "4                0.000000           10.320000               0.000000   \n",
       "...                   ...                 ...                    ...   \n",
       "643685           0.000000            0.000000               0.000000   \n",
       "643686           0.000000            8.909091               0.000000   \n",
       "643687           0.000000           10.352941               1.705882   \n",
       "643688           0.525424            0.000000               0.000000   \n",
       "643689           8.950000            1.033333               0.083333   \n",
       "\n",
       "        se_tot_dur_byage  seeking1_tot_dur_byage  \n",
       "0               0.000000                0.000000  \n",
       "1               0.000000                0.000000  \n",
       "2               0.000000                9.836735  \n",
       "3               0.000000                9.960000  \n",
       "4               0.000000               10.280000  \n",
       "...                  ...                     ...  \n",
       "643685          0.000000                0.000000  \n",
       "643686          0.000000                7.121212  \n",
       "643687          1.705882               23.911765  \n",
       "643688          0.000000                0.000000  \n",
       "643689          0.083333                8.133333  \n",
       "\n",
       "[643690 rows x 164 columns]"
      ]
     },
     "execution_count": 10,
     "metadata": {},
     "output_type": "execute_result"
    }
   ],
   "source": [
    "siab"
   ]
  },
  {
   "cell_type": "markdown",
   "id": "1f87e805",
   "metadata": {
    "papermill": {
     "duration": 0.009558,
     "end_time": "2025-08-19T18:29:10.755786",
     "exception": false,
     "start_time": "2025-08-19T18:29:10.746228",
     "status": "completed"
    },
    "tags": []
   },
   "source": [
    "# Splitting Data and Setting Training Data Size"
   ]
  },
  {
   "cell_type": "code",
   "execution_count": 11,
   "id": "910ae358",
   "metadata": {
    "execution": {
     "iopub.execute_input": "2025-08-19T18:29:10.776426Z",
     "iopub.status.busy": "2025-08-19T18:29:10.775976Z",
     "iopub.status.idle": "2025-08-19T18:29:11.017875Z",
     "shell.execute_reply": "2025-08-19T18:29:11.016543Z"
    },
    "papermill": {
     "duration": 0.256037,
     "end_time": "2025-08-19T18:29:11.021292",
     "exception": false,
     "start_time": "2025-08-19T18:29:10.765255",
     "status": "completed"
    },
    "tags": []
   },
   "outputs": [],
   "source": [
    "from fairness_multiverse.universe import sample_by_year_size\n",
    "\n",
    "siab_train = sample_by_year_size(siab,\n",
    "                               training_year=universe[\"training_year\"],\n",
    "                               training_size=universe[\"training_size\"])"
   ]
  },
  {
   "cell_type": "code",
   "execution_count": 12,
   "id": "919c8ff5",
   "metadata": {
    "execution": {
     "iopub.execute_input": "2025-08-19T18:29:11.062485Z",
     "iopub.status.busy": "2025-08-19T18:29:11.060780Z",
     "iopub.status.idle": "2025-08-19T18:29:11.073609Z",
     "shell.execute_reply": "2025-08-19T18:29:11.072276Z"
    },
    "papermill": {
     "duration": 0.029247,
     "end_time": "2025-08-19T18:29:11.075294",
     "exception": false,
     "start_time": "2025-08-19T18:29:11.046047",
     "status": "completed"
    },
    "tags": []
   },
   "outputs": [
    {
     "data": {
      "text/plain": [
       "(5000, 164)"
      ]
     },
     "execution_count": 12,
     "metadata": {},
     "output_type": "execute_result"
    }
   ],
   "source": [
    "siab_train.shape"
   ]
  },
  {
   "cell_type": "code",
   "execution_count": 13,
   "id": "feb13bf4",
   "metadata": {
    "execution": {
     "iopub.execute_input": "2025-08-19T18:29:11.104229Z",
     "iopub.status.busy": "2025-08-19T18:29:11.102875Z",
     "iopub.status.idle": "2025-08-19T18:29:11.119310Z",
     "shell.execute_reply": "2025-08-19T18:29:11.118205Z"
    },
    "papermill": {
     "duration": 0.030294,
     "end_time": "2025-08-19T18:29:11.120822",
     "exception": false,
     "start_time": "2025-08-19T18:29:11.090528",
     "status": "completed"
    },
    "tags": []
   },
   "outputs": [
    {
     "data": {
      "text/plain": [
       "year\n",
       "2014    5000\n",
       "dtype: int64"
      ]
     },
     "metadata": {},
     "output_type": "display_data"
    }
   ],
   "source": [
    "display(siab_train.groupby(\"year\").size())"
   ]
  },
  {
   "cell_type": "code",
   "execution_count": 14,
   "id": "0997782f",
   "metadata": {
    "execution": {
     "iopub.execute_input": "2025-08-19T18:29:11.212469Z",
     "iopub.status.busy": "2025-08-19T18:29:11.211105Z",
     "iopub.status.idle": "2025-08-19T18:29:11.469416Z",
     "shell.execute_reply": "2025-08-19T18:29:11.468518Z"
    },
    "papermill": {
     "duration": 0.338837,
     "end_time": "2025-08-19T18:29:11.472419",
     "exception": false,
     "start_time": "2025-08-19T18:29:11.133582",
     "status": "completed"
    },
    "tags": []
   },
   "outputs": [],
   "source": [
    "#siab_train = siab_s[siab_s.year < 2015]\n",
    "siab_calib = siab[siab.year == 2015]\n",
    "siab_test = siab[siab.year == 2016]"
   ]
  },
  {
   "cell_type": "code",
   "execution_count": 15,
   "id": "2c1e4012",
   "metadata": {
    "execution": {
     "iopub.execute_input": "2025-08-19T18:29:11.509802Z",
     "iopub.status.busy": "2025-08-19T18:29:11.508523Z",
     "iopub.status.idle": "2025-08-19T18:29:11.515270Z",
     "shell.execute_reply": "2025-08-19T18:29:11.514006Z"
    },
    "papermill": {
     "duration": 0.021748,
     "end_time": "2025-08-19T18:29:11.516794",
     "exception": false,
     "start_time": "2025-08-19T18:29:11.495046",
     "status": "completed"
    },
    "tags": []
   },
   "outputs": [],
   "source": [
    "#siab_calib.shape"
   ]
  },
  {
   "cell_type": "code",
   "execution_count": 16,
   "id": "f66b54ca",
   "metadata": {
    "execution": {
     "iopub.execute_input": "2025-08-19T18:29:11.540980Z",
     "iopub.status.busy": "2025-08-19T18:29:11.539673Z",
     "iopub.status.idle": "2025-08-19T18:29:11.546699Z",
     "shell.execute_reply": "2025-08-19T18:29:11.545406Z"
    },
    "papermill": {
     "duration": 0.02032,
     "end_time": "2025-08-19T18:29:11.548171",
     "exception": false,
     "start_time": "2025-08-19T18:29:11.527851",
     "status": "completed"
    },
    "tags": []
   },
   "outputs": [],
   "source": [
    "#siab_test.shape"
   ]
  },
  {
   "cell_type": "code",
   "execution_count": 17,
   "id": "27e4384d",
   "metadata": {
    "execution": {
     "iopub.execute_input": "2025-08-19T18:29:11.573660Z",
     "iopub.status.busy": "2025-08-19T18:29:11.572194Z",
     "iopub.status.idle": "2025-08-19T18:29:11.584270Z",
     "shell.execute_reply": "2025-08-19T18:29:11.583192Z"
    },
    "papermill": {
     "duration": 0.025684,
     "end_time": "2025-08-19T18:29:11.585857",
     "exception": false,
     "start_time": "2025-08-19T18:29:11.560173",
     "status": "completed"
    },
    "tags": []
   },
   "outputs": [],
   "source": [
    "X_train = siab_train.iloc[:,4:164]\n",
    "y_train = siab_train.iloc[:, [3]]"
   ]
  },
  {
   "cell_type": "code",
   "execution_count": 18,
   "id": "08ee8389",
   "metadata": {
    "execution": {
     "iopub.execute_input": "2025-08-19T18:29:11.613471Z",
     "iopub.status.busy": "2025-08-19T18:29:11.612159Z",
     "iopub.status.idle": "2025-08-19T18:29:11.676207Z",
     "shell.execute_reply": "2025-08-19T18:29:11.675176Z"
    },
    "papermill": {
     "duration": 0.079481,
     "end_time": "2025-08-19T18:29:11.679201",
     "exception": false,
     "start_time": "2025-08-19T18:29:11.599720",
     "status": "completed"
    },
    "tags": []
   },
   "outputs": [],
   "source": [
    "X_calib = siab_calib.iloc[:,4:164]\n",
    "y_calib = siab_calib.iloc[:, [3]]"
   ]
  },
  {
   "cell_type": "code",
   "execution_count": 19,
   "id": "b7ff42e0",
   "metadata": {
    "execution": {
     "iopub.execute_input": "2025-08-19T18:29:11.717629Z",
     "iopub.status.busy": "2025-08-19T18:29:11.716247Z",
     "iopub.status.idle": "2025-08-19T18:29:11.772258Z",
     "shell.execute_reply": "2025-08-19T18:29:11.771320Z"
    },
    "papermill": {
     "duration": 0.072618,
     "end_time": "2025-08-19T18:29:11.775214",
     "exception": false,
     "start_time": "2025-08-19T18:29:11.702596",
     "status": "completed"
    },
    "tags": []
   },
   "outputs": [],
   "source": [
    "X_test = siab_test.iloc[:,4:164]\n",
    "y_true = siab_test.iloc[:, [3]]"
   ]
  },
  {
   "cell_type": "code",
   "execution_count": 20,
   "id": "0275101e",
   "metadata": {
    "execution": {
     "iopub.execute_input": "2025-08-19T18:29:11.812615Z",
     "iopub.status.busy": "2025-08-19T18:29:11.811525Z",
     "iopub.status.idle": "2025-08-19T18:29:11.919799Z",
     "shell.execute_reply": "2025-08-19T18:29:11.918865Z"
    },
    "papermill": {
     "duration": 0.124719,
     "end_time": "2025-08-19T18:29:11.922767",
     "exception": false,
     "start_time": "2025-08-19T18:29:11.798048",
     "status": "completed"
    },
    "tags": []
   },
   "outputs": [],
   "source": [
    "# Auxiliary data needed downstream in the pipeline\n",
    "\n",
    "org_train = X_train.copy()\n",
    "org_test = X_test.copy()\n",
    "org_calib = X_calib.copy()"
   ]
  },
  {
   "cell_type": "markdown",
   "id": "b461e618",
   "metadata": {
    "papermill": {
     "duration": 0.012383,
     "end_time": "2025-08-19T18:29:11.959622",
     "exception": false,
     "start_time": "2025-08-19T18:29:11.947239",
     "status": "completed"
    },
    "tags": []
   },
   "source": [
    "# Preprocessing Data"
   ]
  },
  {
   "cell_type": "code",
   "execution_count": 21,
   "id": "78e74c4b",
   "metadata": {
    "execution": {
     "iopub.execute_input": "2025-08-19T18:29:11.982891Z",
     "iopub.status.busy": "2025-08-19T18:29:11.981310Z",
     "iopub.status.idle": "2025-08-19T18:29:11.991342Z",
     "shell.execute_reply": "2025-08-19T18:29:11.990006Z"
    },
    "papermill": {
     "duration": 0.023156,
     "end_time": "2025-08-19T18:29:11.992911",
     "exception": false,
     "start_time": "2025-08-19T18:29:11.969755",
     "status": "completed"
    },
    "tags": []
   },
   "outputs": [],
   "source": [
    "# EXCLUDE PROTECTED FEATURES\n",
    "# --------------------------\n",
    "\n",
    "excluded_features = universe[\"exclude_features\"].split(\"-\")\n",
    "excluded_features_dictionary = {\n",
    "    \"nationality\": [\"maxdeutsch1\", \"maxdeutsch.Missing.\"],\n",
    "    \"sex\": [\"frau1\"],\n",
    "    \"age\": [\"age\"],\n",
    "}"
   ]
  },
  {
   "cell_type": "code",
   "execution_count": 22,
   "id": "f8e63555",
   "metadata": {
    "execution": {
     "iopub.execute_input": "2025-08-19T18:29:12.023799Z",
     "iopub.status.busy": "2025-08-19T18:29:12.022489Z",
     "iopub.status.idle": "2025-08-19T18:29:12.030886Z",
     "shell.execute_reply": "2025-08-19T18:29:12.029623Z"
    },
    "papermill": {
     "duration": 0.023043,
     "end_time": "2025-08-19T18:29:12.032486",
     "exception": false,
     "start_time": "2025-08-19T18:29:12.009443",
     "status": "completed"
    },
    "tags": []
   },
   "outputs": [],
   "source": [
    "excluded_features_columns = [\n",
    "    excluded_features_dictionary[f] for f in excluded_features if len(f) > 0 and f != \"none\"\n",
    "]"
   ]
  },
  {
   "cell_type": "code",
   "execution_count": 23,
   "id": "da781f7c",
   "metadata": {
    "execution": {
     "iopub.execute_input": "2025-08-19T18:29:12.058024Z",
     "iopub.status.busy": "2025-08-19T18:29:12.057353Z",
     "iopub.status.idle": "2025-08-19T18:29:12.064661Z",
     "shell.execute_reply": "2025-08-19T18:29:12.063336Z"
    },
    "papermill": {
     "duration": 0.02137,
     "end_time": "2025-08-19T18:29:12.066190",
     "exception": false,
     "start_time": "2025-08-19T18:29:12.044820",
     "status": "completed"
    },
    "tags": []
   },
   "outputs": [],
   "source": [
    "from fairness_multiverse.universe import flatten_once\n",
    "\n",
    "excluded_features_columns = flatten_once(excluded_features_columns)"
   ]
  },
  {
   "cell_type": "code",
   "execution_count": 24,
   "id": "37fef0f0",
   "metadata": {
    "execution": {
     "iopub.execute_input": "2025-08-19T18:29:12.091794Z",
     "iopub.status.busy": "2025-08-19T18:29:12.090650Z",
     "iopub.status.idle": "2025-08-19T18:29:12.125091Z",
     "shell.execute_reply": "2025-08-19T18:29:12.124114Z"
    },
    "papermill": {
     "duration": 0.048886,
     "end_time": "2025-08-19T18:29:12.127978",
     "exception": false,
     "start_time": "2025-08-19T18:29:12.079092",
     "status": "completed"
    },
    "tags": []
   },
   "outputs": [
    {
     "name": "stdout",
     "output_type": "stream",
     "text": [
      "Dropping features: ['maxdeutsch1', 'maxdeutsch.Missing.', 'frau1']\n"
     ]
    }
   ],
   "source": [
    "if len(excluded_features_columns) > 0:\n",
    "    print(f\"Dropping features: {excluded_features_columns}\")\n",
    "    X_train.drop(excluded_features_columns, axis=1, inplace=True)"
   ]
  },
  {
   "cell_type": "code",
   "execution_count": 25,
   "id": "d029e3e9",
   "metadata": {
    "execution": {
     "iopub.execute_input": "2025-08-19T18:29:12.165296Z",
     "iopub.status.busy": "2025-08-19T18:29:12.164204Z",
     "iopub.status.idle": "2025-08-19T18:29:12.221920Z",
     "shell.execute_reply": "2025-08-19T18:29:12.220973Z"
    },
    "papermill": {
     "duration": 0.073843,
     "end_time": "2025-08-19T18:29:12.224671",
     "exception": false,
     "start_time": "2025-08-19T18:29:12.150828",
     "status": "completed"
    },
    "tags": []
   },
   "outputs": [
    {
     "name": "stdout",
     "output_type": "stream",
     "text": [
      "Dropping features: ['maxdeutsch1', 'maxdeutsch.Missing.', 'frau1']\n"
     ]
    }
   ],
   "source": [
    "if len(excluded_features_columns) > 0:\n",
    "    print(f\"Dropping features: {excluded_features_columns}\")\n",
    "    X_test.drop(excluded_features_columns, axis=1, inplace=True)"
   ]
  },
  {
   "cell_type": "code",
   "execution_count": 26,
   "id": "01d571f0",
   "metadata": {
    "execution": {
     "iopub.execute_input": "2025-08-19T18:29:12.264213Z",
     "iopub.status.busy": "2025-08-19T18:29:12.262853Z",
     "iopub.status.idle": "2025-08-19T18:29:12.319241Z",
     "shell.execute_reply": "2025-08-19T18:29:12.318365Z"
    },
    "papermill": {
     "duration": 0.073081,
     "end_time": "2025-08-19T18:29:12.321940",
     "exception": false,
     "start_time": "2025-08-19T18:29:12.248859",
     "status": "completed"
    },
    "tags": []
   },
   "outputs": [
    {
     "name": "stdout",
     "output_type": "stream",
     "text": [
      "Dropping features: ['maxdeutsch1', 'maxdeutsch.Missing.', 'frau1']\n"
     ]
    }
   ],
   "source": [
    "if len(excluded_features_columns) > 0:\n",
    "    print(f\"Dropping features: {excluded_features_columns}\")\n",
    "    X_calib.drop(excluded_features_columns, axis=1, inplace=True)"
   ]
  },
  {
   "cell_type": "code",
   "execution_count": 27,
   "id": "3037356e",
   "metadata": {
    "execution": {
     "iopub.execute_input": "2025-08-19T18:29:12.359824Z",
     "iopub.status.busy": "2025-08-19T18:29:12.358724Z",
     "iopub.status.idle": "2025-08-19T18:29:12.366427Z",
     "shell.execute_reply": "2025-08-19T18:29:12.365061Z"
    },
    "papermill": {
     "duration": 0.024609,
     "end_time": "2025-08-19T18:29:12.369447",
     "exception": false,
     "start_time": "2025-08-19T18:29:12.344838",
     "status": "completed"
    },
    "tags": []
   },
   "outputs": [],
   "source": [
    "# EXCLUDE CERTAIN SUBGROUPS\n",
    "# -------------------------\n",
    "\n",
    "mode = universe.get(\"exclude_subgroups\", \"keep-all\") # Defaults to \"keep-all\" if the key is missing."
   ]
  },
  {
   "cell_type": "code",
   "execution_count": 28,
   "id": "9d1e63fd",
   "metadata": {
    "execution": {
     "iopub.execute_input": "2025-08-19T18:29:12.409471Z",
     "iopub.status.busy": "2025-08-19T18:29:12.408125Z",
     "iopub.status.idle": "2025-08-19T18:29:12.419705Z",
     "shell.execute_reply": "2025-08-19T18:29:12.418321Z"
    },
    "papermill": {
     "duration": 0.027803,
     "end_time": "2025-08-19T18:29:12.421478",
     "exception": false,
     "start_time": "2025-08-19T18:29:12.393675",
     "status": "completed"
    },
    "tags": []
   },
   "outputs": [],
   "source": [
    "if mode == \"keep-all\":\n",
    "    keep_mask = pd.Series(True, index=org_train.index)\n",
    "\n",
    "elif mode == \"drop-non-german\":\n",
    "    keep_mask = (org_train[\"maxdeutsch1\"] == 1) & (org_train[\"maxdeutsch.Missing.\"] == 0)\n",
    "\n",
    "else:\n",
    "    raise ValueError(f\"Unsupported mode for exclude_subgroups: {mode}\")"
   ]
  },
  {
   "cell_type": "code",
   "execution_count": 29,
   "id": "d3b65474",
   "metadata": {
    "execution": {
     "iopub.execute_input": "2025-08-19T18:29:12.447997Z",
     "iopub.status.busy": "2025-08-19T18:29:12.446652Z",
     "iopub.status.idle": "2025-08-19T18:29:12.457603Z",
     "shell.execute_reply": "2025-08-19T18:29:12.456229Z"
    },
    "papermill": {
     "duration": 0.024601,
     "end_time": "2025-08-19T18:29:12.459060",
     "exception": false,
     "start_time": "2025-08-19T18:29:12.434459",
     "status": "completed"
    },
    "tags": []
   },
   "outputs": [
    {
     "name": "stdout",
     "output_type": "stream",
     "text": [
      "Dropping 741 rows (14.82%) where mode='drop-non-german'\n"
     ]
    }
   ],
   "source": [
    "n_drop = (~keep_mask).sum() # Calculates how many rows are set to be dropped\n",
    "if n_drop > 0:\n",
    "    pct = n_drop / len(keep_mask) * 100\n",
    "    print(f\"Dropping {n_drop} rows ({pct:.2f}%) where mode='{mode}'\")"
   ]
  },
  {
   "cell_type": "code",
   "execution_count": 30,
   "id": "f44389b3",
   "metadata": {
    "execution": {
     "iopub.execute_input": "2025-08-19T18:29:12.486767Z",
     "iopub.status.busy": "2025-08-19T18:29:12.485230Z",
     "iopub.status.idle": "2025-08-19T18:29:12.496515Z",
     "shell.execute_reply": "2025-08-19T18:29:12.495158Z"
    },
    "papermill": {
     "duration": 0.026424,
     "end_time": "2025-08-19T18:29:12.499534",
     "exception": false,
     "start_time": "2025-08-19T18:29:12.473110",
     "status": "completed"
    },
    "tags": []
   },
   "outputs": [],
   "source": [
    "X_train = X_train[keep_mask]"
   ]
  },
  {
   "cell_type": "code",
   "execution_count": 31,
   "id": "ceca8c2a",
   "metadata": {
    "execution": {
     "iopub.execute_input": "2025-08-19T18:29:12.540082Z",
     "iopub.status.busy": "2025-08-19T18:29:12.538798Z",
     "iopub.status.idle": "2025-08-19T18:29:12.547499Z",
     "shell.execute_reply": "2025-08-19T18:29:12.546122Z"
    },
    "papermill": {
     "duration": 0.024537,
     "end_time": "2025-08-19T18:29:12.549060",
     "exception": false,
     "start_time": "2025-08-19T18:29:12.524523",
     "status": "completed"
    },
    "tags": []
   },
   "outputs": [],
   "source": [
    "y_train = y_train[keep_mask]"
   ]
  },
  {
   "cell_type": "markdown",
   "id": "04d31e2f",
   "metadata": {
    "papermill": {
     "duration": 0.010709,
     "end_time": "2025-08-19T18:29:12.573094",
     "exception": false,
     "start_time": "2025-08-19T18:29:12.562385",
     "status": "completed"
    },
    "tags": []
   },
   "source": [
    "# Model Training"
   ]
  },
  {
   "cell_type": "code",
   "execution_count": 32,
   "id": "db991733",
   "metadata": {
    "execution": {
     "iopub.execute_input": "2025-08-19T18:29:12.597559Z",
     "iopub.status.busy": "2025-08-19T18:29:12.596077Z",
     "iopub.status.idle": "2025-08-19T18:29:12.708782Z",
     "shell.execute_reply": "2025-08-19T18:29:12.707864Z"
    },
    "papermill": {
     "duration": 0.127981,
     "end_time": "2025-08-19T18:29:12.711728",
     "exception": false,
     "start_time": "2025-08-19T18:29:12.583747",
     "status": "completed"
    },
    "tags": []
   },
   "outputs": [],
   "source": [
    "from sklearn.linear_model import LogisticRegression\n",
    "from sklearn.ensemble import GradientBoostingClassifier, RandomForestClassifier\n",
    "\n",
    "if (universe[\"model\"] == \"logreg\"):\n",
    "    model = LogisticRegression() #penalty=\"none\", solver=\"newton-cg\", max_iter=1)\n",
    "elif (universe[\"model\"] == \"penalized_logreg\"):\n",
    "    model = LogisticRegression(penalty=\"l2\", C=0.1) #, solver=\"newton-cg\", max_iter=1)\n",
    "elif (universe[\"model\"] == \"rf\"):\n",
    "    model = RandomForestClassifier() # n_estimators=100, n_jobs=-1\n",
    "elif (universe[\"model\"] == \"gbm\"):\n",
    "    model = GradientBoostingClassifier()\n",
    "elif (universe[\"model\"] == \"elasticnet\"):\n",
    "    model = LogisticRegression(penalty = 'elasticnet', solver = 'saga', l1_ratio = 0.5) # max_iter=5000\n",
    "else:\n",
    "    raise \"Unsupported universe.model\""
   ]
  },
  {
   "cell_type": "code",
   "execution_count": 33,
   "id": "a4b5cd25",
   "metadata": {
    "execution": {
     "iopub.execute_input": "2025-08-19T18:29:12.753101Z",
     "iopub.status.busy": "2025-08-19T18:29:12.751747Z",
     "iopub.status.idle": "2025-08-19T18:29:12.761025Z",
     "shell.execute_reply": "2025-08-19T18:29:12.759671Z"
    },
    "papermill": {
     "duration": 0.025246,
     "end_time": "2025-08-19T18:29:12.762633",
     "exception": false,
     "start_time": "2025-08-19T18:29:12.737387",
     "status": "completed"
    },
    "tags": []
   },
   "outputs": [],
   "source": [
    "from sklearn.pipeline import Pipeline\n",
    "from sklearn.preprocessing import StandardScaler\n",
    "\n",
    "model = Pipeline([\n",
    "    #(\"continuous_processor\", continuous_processor),\n",
    "    #(\"categorical_preprocessor\", categorical_preprocessor),\n",
    "    (\"scale\", StandardScaler() if universe[\"scale\"] == \"scale\" else None), \n",
    "    (\"model\", model),\n",
    "])"
   ]
  },
  {
   "cell_type": "code",
   "execution_count": 34,
   "id": "283a904d",
   "metadata": {
    "execution": {
     "iopub.execute_input": "2025-08-19T18:29:12.789902Z",
     "iopub.status.busy": "2025-08-19T18:29:12.788690Z",
     "iopub.status.idle": "2025-08-19T18:29:13.908465Z",
     "shell.execute_reply": "2025-08-19T18:29:13.907615Z"
    },
    "papermill": {
     "duration": 1.133499,
     "end_time": "2025-08-19T18:29:13.909775",
     "exception": false,
     "start_time": "2025-08-19T18:29:12.776276",
     "status": "completed"
    },
    "tags": []
   },
   "outputs": [
    {
     "data": {
      "text/html": [
       "<style>#sk-container-id-1 {color: black;background-color: white;}#sk-container-id-1 pre{padding: 0;}#sk-container-id-1 div.sk-toggleable {background-color: white;}#sk-container-id-1 label.sk-toggleable__label {cursor: pointer;display: block;width: 100%;margin-bottom: 0;padding: 0.3em;box-sizing: border-box;text-align: center;}#sk-container-id-1 label.sk-toggleable__label-arrow:before {content: \"▸\";float: left;margin-right: 0.25em;color: #696969;}#sk-container-id-1 label.sk-toggleable__label-arrow:hover:before {color: black;}#sk-container-id-1 div.sk-estimator:hover label.sk-toggleable__label-arrow:before {color: black;}#sk-container-id-1 div.sk-toggleable__content {max-height: 0;max-width: 0;overflow: hidden;text-align: left;background-color: #f0f8ff;}#sk-container-id-1 div.sk-toggleable__content pre {margin: 0.2em;color: black;border-radius: 0.25em;background-color: #f0f8ff;}#sk-container-id-1 input.sk-toggleable__control:checked~div.sk-toggleable__content {max-height: 200px;max-width: 100%;overflow: auto;}#sk-container-id-1 input.sk-toggleable__control:checked~label.sk-toggleable__label-arrow:before {content: \"▾\";}#sk-container-id-1 div.sk-estimator input.sk-toggleable__control:checked~label.sk-toggleable__label {background-color: #d4ebff;}#sk-container-id-1 div.sk-label input.sk-toggleable__control:checked~label.sk-toggleable__label {background-color: #d4ebff;}#sk-container-id-1 input.sk-hidden--visually {border: 0;clip: rect(1px 1px 1px 1px);clip: rect(1px, 1px, 1px, 1px);height: 1px;margin: -1px;overflow: hidden;padding: 0;position: absolute;width: 1px;}#sk-container-id-1 div.sk-estimator {font-family: monospace;background-color: #f0f8ff;border: 1px dotted black;border-radius: 0.25em;box-sizing: border-box;margin-bottom: 0.5em;}#sk-container-id-1 div.sk-estimator:hover {background-color: #d4ebff;}#sk-container-id-1 div.sk-parallel-item::after {content: \"\";width: 100%;border-bottom: 1px solid gray;flex-grow: 1;}#sk-container-id-1 div.sk-label:hover label.sk-toggleable__label {background-color: #d4ebff;}#sk-container-id-1 div.sk-serial::before {content: \"\";position: absolute;border-left: 1px solid gray;box-sizing: border-box;top: 0;bottom: 0;left: 50%;z-index: 0;}#sk-container-id-1 div.sk-serial {display: flex;flex-direction: column;align-items: center;background-color: white;padding-right: 0.2em;padding-left: 0.2em;position: relative;}#sk-container-id-1 div.sk-item {position: relative;z-index: 1;}#sk-container-id-1 div.sk-parallel {display: flex;align-items: stretch;justify-content: center;background-color: white;position: relative;}#sk-container-id-1 div.sk-item::before, #sk-container-id-1 div.sk-parallel-item::before {content: \"\";position: absolute;border-left: 1px solid gray;box-sizing: border-box;top: 0;bottom: 0;left: 50%;z-index: -1;}#sk-container-id-1 div.sk-parallel-item {display: flex;flex-direction: column;z-index: 1;position: relative;background-color: white;}#sk-container-id-1 div.sk-parallel-item:first-child::after {align-self: flex-end;width: 50%;}#sk-container-id-1 div.sk-parallel-item:last-child::after {align-self: flex-start;width: 50%;}#sk-container-id-1 div.sk-parallel-item:only-child::after {width: 0;}#sk-container-id-1 div.sk-dashed-wrapped {border: 1px dashed gray;margin: 0 0.4em 0.5em 0.4em;box-sizing: border-box;padding-bottom: 0.4em;background-color: white;}#sk-container-id-1 div.sk-label label {font-family: monospace;font-weight: bold;display: inline-block;line-height: 1.2em;}#sk-container-id-1 div.sk-label-container {text-align: center;}#sk-container-id-1 div.sk-container {/* jupyter's `normalize.less` sets `[hidden] { display: none; }` but bootstrap.min.css set `[hidden] { display: none !important; }` so we also need the `!important` here to be able to override the default hidden behavior on the sphinx rendered scikit-learn.org. See: https://github.com/scikit-learn/scikit-learn/issues/21755 */display: inline-block !important;position: relative;}#sk-container-id-1 div.sk-text-repr-fallback {display: none;}</style><div id=\"sk-container-id-1\" class=\"sk-top-container\"><div class=\"sk-text-repr-fallback\"><pre>Pipeline(steps=[(&#x27;scale&#x27;, None), (&#x27;model&#x27;, RandomForestClassifier())])</pre><b>In a Jupyter environment, please rerun this cell to show the HTML representation or trust the notebook. <br />On GitHub, the HTML representation is unable to render, please try loading this page with nbviewer.org.</b></div><div class=\"sk-container\" hidden><div class=\"sk-item sk-dashed-wrapped\"><div class=\"sk-label-container\"><div class=\"sk-label sk-toggleable\"><input class=\"sk-toggleable__control sk-hidden--visually\" id=\"sk-estimator-id-1\" type=\"checkbox\" ><label for=\"sk-estimator-id-1\" class=\"sk-toggleable__label sk-toggleable__label-arrow\">Pipeline</label><div class=\"sk-toggleable__content\"><pre>Pipeline(steps=[(&#x27;scale&#x27;, None), (&#x27;model&#x27;, RandomForestClassifier())])</pre></div></div></div><div class=\"sk-serial\"><div class=\"sk-item\"><div class=\"sk-estimator sk-toggleable\"><input class=\"sk-toggleable__control sk-hidden--visually\" id=\"sk-estimator-id-2\" type=\"checkbox\" ><label for=\"sk-estimator-id-2\" class=\"sk-toggleable__label sk-toggleable__label-arrow\">None</label><div class=\"sk-toggleable__content\"><pre>None</pre></div></div></div><div class=\"sk-item\"><div class=\"sk-estimator sk-toggleable\"><input class=\"sk-toggleable__control sk-hidden--visually\" id=\"sk-estimator-id-3\" type=\"checkbox\" ><label for=\"sk-estimator-id-3\" class=\"sk-toggleable__label sk-toggleable__label-arrow\">RandomForestClassifier</label><div class=\"sk-toggleable__content\"><pre>RandomForestClassifier()</pre></div></div></div></div></div></div></div>"
      ],
      "text/plain": [
       "Pipeline(steps=[('scale', None), ('model', RandomForestClassifier())])"
      ]
     },
     "execution_count": 34,
     "metadata": {},
     "output_type": "execute_result"
    }
   ],
   "source": [
    "model.fit(X_train, y_train.values.ravel())"
   ]
  },
  {
   "cell_type": "code",
   "execution_count": 35,
   "id": "6e15e313",
   "metadata": {
    "execution": {
     "iopub.execute_input": "2025-08-19T18:29:13.934589Z",
     "iopub.status.busy": "2025-08-19T18:29:13.933569Z",
     "iopub.status.idle": "2025-08-19T18:29:15.683116Z",
     "shell.execute_reply": "2025-08-19T18:29:15.682348Z"
    },
    "papermill": {
     "duration": 1.763304,
     "end_time": "2025-08-19T18:29:15.684404",
     "exception": false,
     "start_time": "2025-08-19T18:29:13.921100",
     "status": "completed"
    },
    "tags": []
   },
   "outputs": [
    {
     "data": {
      "text/plain": [
       "0.8642068888641177"
      ]
     },
     "execution_count": 35,
     "metadata": {},
     "output_type": "execute_result"
    }
   ],
   "source": [
    "from fairness_multiverse.universe import predict_w_threshold\n",
    "\n",
    "probs_test = model.predict_proba(X_test)\n",
    "\n",
    "'''\n",
    "Below code returns a boolean array (or binary 0/1 array depending on how it’s used) where each element \n",
    "is True if the probability of class 1 is greater than or equal to the threshold, and False otherwise.\n",
    "'''\n",
    "y_pred_default = predict_w_threshold(probs_test, 0.5)\n",
    "\n",
    "from sklearn.metrics import accuracy_score\n",
    "\n",
    "# Naive prediction\n",
    "accuracy_score(y_true = y_true, y_pred = y_pred_default)"
   ]
  },
  {
   "cell_type": "code",
   "execution_count": 36,
   "id": "6f14067c",
   "metadata": {
    "execution": {
     "iopub.execute_input": "2025-08-19T18:29:15.711249Z",
     "iopub.status.busy": "2025-08-19T18:29:15.710680Z",
     "iopub.status.idle": "2025-08-19T18:29:17.423383Z",
     "shell.execute_reply": "2025-08-19T18:29:17.422657Z"
    },
    "papermill": {
     "duration": 1.726896,
     "end_time": "2025-08-19T18:29:17.425179",
     "exception": false,
     "start_time": "2025-08-19T18:29:15.698283",
     "status": "completed"
    },
    "tags": []
   },
   "outputs": [
    {
     "data": {
      "text/plain": [
       "array([0, 0, 0, ..., 0, 0, 0])"
      ]
     },
     "execution_count": 36,
     "metadata": {},
     "output_type": "execute_result"
    }
   ],
   "source": [
    "model.predict(X_test)"
   ]
  },
  {
   "cell_type": "markdown",
   "id": "3759920c",
   "metadata": {
    "papermill": {
     "duration": 0.023027,
     "end_time": "2025-08-19T18:29:17.465692",
     "exception": false,
     "start_time": "2025-08-19T18:29:17.442665",
     "status": "completed"
    },
    "tags": []
   },
   "source": [
    "# Conformal Prediction"
   ]
  },
  {
   "cell_type": "code",
   "execution_count": 37,
   "id": "14b27f59",
   "metadata": {
    "execution": {
     "iopub.execute_input": "2025-08-19T18:29:17.491083Z",
     "iopub.status.busy": "2025-08-19T18:29:17.490586Z",
     "iopub.status.idle": "2025-08-19T18:29:17.495403Z",
     "shell.execute_reply": "2025-08-19T18:29:17.494717Z"
    },
    "papermill": {
     "duration": 0.018473,
     "end_time": "2025-08-19T18:29:17.496796",
     "exception": false,
     "start_time": "2025-08-19T18:29:17.478323",
     "status": "completed"
    },
    "tags": []
   },
   "outputs": [],
   "source": [
    "# Miscoverage level for conformal prediction (10% allowed error rate => 90% target coverage)\n",
    "alpha = 0.1"
   ]
  },
  {
   "cell_type": "code",
   "execution_count": 38,
   "id": "59102472",
   "metadata": {
    "execution": {
     "iopub.execute_input": "2025-08-19T18:29:17.524117Z",
     "iopub.status.busy": "2025-08-19T18:29:17.523370Z",
     "iopub.status.idle": "2025-08-19T18:29:19.261100Z",
     "shell.execute_reply": "2025-08-19T18:29:19.259644Z"
    },
    "papermill": {
     "duration": 1.751899,
     "end_time": "2025-08-19T18:29:19.262941",
     "exception": false,
     "start_time": "2025-08-19T18:29:17.511042",
     "status": "completed"
    },
    "tags": []
   },
   "outputs": [],
   "source": [
    "probs_calib = model.predict_proba(X_calib)"
   ]
  },
  {
   "cell_type": "code",
   "execution_count": 39,
   "id": "a792d4dd",
   "metadata": {
    "execution": {
     "iopub.execute_input": "2025-08-19T18:29:19.296124Z",
     "iopub.status.busy": "2025-08-19T18:29:19.295610Z",
     "iopub.status.idle": "2025-08-19T18:29:19.302509Z",
     "shell.execute_reply": "2025-08-19T18:29:19.301465Z"
    },
    "papermill": {
     "duration": 0.029735,
     "end_time": "2025-08-19T18:29:19.306778",
     "exception": false,
     "start_time": "2025-08-19T18:29:19.277043",
     "status": "completed"
    },
    "tags": []
   },
   "outputs": [],
   "source": [
    "y_calib = y_calib.values.ravel().astype(int)"
   ]
  },
  {
   "cell_type": "code",
   "execution_count": 40,
   "id": "650fd033",
   "metadata": {
    "execution": {
     "iopub.execute_input": "2025-08-19T18:29:19.347607Z",
     "iopub.status.busy": "2025-08-19T18:29:19.346866Z",
     "iopub.status.idle": "2025-08-19T18:29:19.355226Z",
     "shell.execute_reply": "2025-08-19T18:29:19.354504Z"
    },
    "papermill": {
     "duration": 0.022873,
     "end_time": "2025-08-19T18:29:19.356560",
     "exception": false,
     "start_time": "2025-08-19T18:29:19.333687",
     "status": "completed"
    },
    "tags": []
   },
   "outputs": [],
   "source": [
    "from fairness_multiverse.conformal import compute_nc_scores\n",
    "\n",
    "# Compute nonconformity scores on calibration set (1 - probability of true class)\n",
    "nc_scores = compute_nc_scores(probs_calib, y_calib)"
   ]
  },
  {
   "cell_type": "code",
   "execution_count": 41,
   "id": "28ada44c",
   "metadata": {
    "execution": {
     "iopub.execute_input": "2025-08-19T18:29:19.382300Z",
     "iopub.status.busy": "2025-08-19T18:29:19.381944Z",
     "iopub.status.idle": "2025-08-19T18:29:19.387659Z",
     "shell.execute_reply": "2025-08-19T18:29:19.386926Z"
    },
    "papermill": {
     "duration": 0.0189,
     "end_time": "2025-08-19T18:29:19.388843",
     "exception": false,
     "start_time": "2025-08-19T18:29:19.369943",
     "status": "completed"
    },
    "tags": []
   },
   "outputs": [],
   "source": [
    "from fairness_multiverse.conformal import find_threshold\n",
    "\n",
    "# Find conformal threshold q_hat for the given alpha (split conformal method)\n",
    "q_hat = find_threshold(nc_scores, alpha)"
   ]
  },
  {
   "cell_type": "code",
   "execution_count": 42,
   "id": "df56469e",
   "metadata": {
    "execution": {
     "iopub.execute_input": "2025-08-19T18:29:19.412366Z",
     "iopub.status.busy": "2025-08-19T18:29:19.411978Z",
     "iopub.status.idle": "2025-08-19T18:29:19.417845Z",
     "shell.execute_reply": "2025-08-19T18:29:19.417112Z"
    },
    "papermill": {
     "duration": 0.019112,
     "end_time": "2025-08-19T18:29:19.419099",
     "exception": false,
     "start_time": "2025-08-19T18:29:19.399987",
     "status": "completed"
    },
    "tags": []
   },
   "outputs": [
    {
     "data": {
      "text/plain": [
       "0.6599999999999999"
      ]
     },
     "execution_count": 42,
     "metadata": {},
     "output_type": "execute_result"
    }
   ],
   "source": [
    "q_hat"
   ]
  },
  {
   "cell_type": "code",
   "execution_count": 43,
   "id": "aa1f5faa",
   "metadata": {
    "execution": {
     "iopub.execute_input": "2025-08-19T18:29:19.442947Z",
     "iopub.status.busy": "2025-08-19T18:29:19.442691Z",
     "iopub.status.idle": "2025-08-19T18:29:21.658541Z",
     "shell.execute_reply": "2025-08-19T18:29:21.657412Z"
    },
    "papermill": {
     "duration": 2.229607,
     "end_time": "2025-08-19T18:29:21.660082",
     "exception": false,
     "start_time": "2025-08-19T18:29:19.430475",
     "status": "completed"
    },
    "tags": []
   },
   "outputs": [],
   "source": [
    "from fairness_multiverse.conformal import predict_conformal_sets\n",
    "\n",
    "# Generate prediction sets for each test example\n",
    "pred_sets = predict_conformal_sets(model, X_test, q_hat)"
   ]
  },
  {
   "cell_type": "code",
   "execution_count": 44,
   "id": "97f67a6b",
   "metadata": {
    "execution": {
     "iopub.execute_input": "2025-08-19T18:29:21.714087Z",
     "iopub.status.busy": "2025-08-19T18:29:21.707698Z",
     "iopub.status.idle": "2025-08-19T18:29:21.723738Z",
     "shell.execute_reply": "2025-08-19T18:29:21.722575Z"
    },
    "papermill": {
     "duration": 0.048082,
     "end_time": "2025-08-19T18:29:21.725708",
     "exception": false,
     "start_time": "2025-08-19T18:29:21.677626",
     "status": "completed"
    },
    "tags": []
   },
   "outputs": [],
   "source": [
    "y_true = y_true.squeeze()"
   ]
  },
  {
   "cell_type": "code",
   "execution_count": 45,
   "id": "e700e9a7",
   "metadata": {
    "execution": {
     "iopub.execute_input": "2025-08-19T18:29:21.808796Z",
     "iopub.status.busy": "2025-08-19T18:29:21.807498Z",
     "iopub.status.idle": "2025-08-19T18:29:22.295026Z",
     "shell.execute_reply": "2025-08-19T18:29:22.294210Z"
    },
    "papermill": {
     "duration": 0.548301,
     "end_time": "2025-08-19T18:29:22.297942",
     "exception": false,
     "start_time": "2025-08-19T18:29:21.749641",
     "status": "completed"
    },
    "tags": []
   },
   "outputs": [],
   "source": [
    "from fairness_multiverse.conformal import evaluate_sets\n",
    "\n",
    "# Evaluate coverage and average set size on test data\n",
    "metrics = evaluate_sets(pred_sets, y_true)"
   ]
  },
  {
   "cell_type": "markdown",
   "id": "efbacec0",
   "metadata": {
    "papermill": {
     "duration": 0.035734,
     "end_time": "2025-08-19T18:29:22.346179",
     "exception": false,
     "start_time": "2025-08-19T18:29:22.310445",
     "status": "completed"
    },
    "tags": []
   },
   "source": [
    "# CP Metrics"
   ]
  },
  {
   "cell_type": "code",
   "execution_count": 46,
   "id": "9de55fb1",
   "metadata": {
    "execution": {
     "iopub.execute_input": "2025-08-19T18:29:22.371562Z",
     "iopub.status.busy": "2025-08-19T18:29:22.370537Z",
     "iopub.status.idle": "2025-08-19T18:29:22.380279Z",
     "shell.execute_reply": "2025-08-19T18:29:22.379505Z"
    },
    "papermill": {
     "duration": 0.023768,
     "end_time": "2025-08-19T18:29:22.381540",
     "exception": false,
     "start_time": "2025-08-19T18:29:22.357772",
     "status": "completed"
    },
    "tags": []
   },
   "outputs": [
    {
     "data": {
      "text/plain": [
       "{'coverage': 0.9143239326719429, 'avg_size': 1.1449782632928325}"
      ]
     },
     "execution_count": 46,
     "metadata": {},
     "output_type": "execute_result"
    }
   ],
   "source": [
    "metrics"
   ]
  },
  {
   "cell_type": "code",
   "execution_count": 47,
   "id": "64c340a1",
   "metadata": {
    "execution": {
     "iopub.execute_input": "2025-08-19T18:29:22.405833Z",
     "iopub.status.busy": "2025-08-19T18:29:22.405512Z",
     "iopub.status.idle": "2025-08-19T18:29:22.410295Z",
     "shell.execute_reply": "2025-08-19T18:29:22.409715Z"
    },
    "papermill": {
     "duration": 0.018351,
     "end_time": "2025-08-19T18:29:22.411453",
     "exception": false,
     "start_time": "2025-08-19T18:29:22.393102",
     "status": "completed"
    },
    "tags": []
   },
   "outputs": [],
   "source": [
    "example_universe = universe.copy()\n",
    "universe_training_year = example_universe.get(\"training_year\")\n",
    "universe_training_size = example_universe.get(\"training_size\")\n",
    "universe_scale = example_universe.get(\"scale\")\n",
    "universe_model = example_universe.get(\"model\")\n",
    "universe_exclude_features = example_universe.get(\"exclude_features\")\n",
    "universe_exclude_subgroups = example_universe.get(\"exclude_subgroups\")"
   ]
  },
  {
   "cell_type": "code",
   "execution_count": 48,
   "id": "dbb53cb4",
   "metadata": {
    "execution": {
     "iopub.execute_input": "2025-08-19T18:29:22.435972Z",
     "iopub.status.busy": "2025-08-19T18:29:22.435531Z",
     "iopub.status.idle": "2025-08-19T18:29:22.440596Z",
     "shell.execute_reply": "2025-08-19T18:29:22.439867Z"
    },
    "papermill": {
     "duration": 0.018628,
     "end_time": "2025-08-19T18:29:22.441744",
     "exception": false,
     "start_time": "2025-08-19T18:29:22.423116",
     "status": "completed"
    },
    "tags": []
   },
   "outputs": [],
   "source": [
    "cp_metrics_dict = {\n",
    "    \"universe_id\": [universe_id],\n",
    "    \"universe_training_year\": [universe_training_year],\n",
    "    \"universe_training_size\": [universe_training_size],\n",
    "    \"universe_scale\": [universe_scale],\n",
    "    \"universe_model\": [universe_model],\n",
    "    \"universe_exclude_features\": [universe_exclude_features],\n",
    "    \"universe_exclude_subgroups\": [universe_exclude_subgroups],\n",
    "    \"q_hat\": [q_hat],\n",
    "    \"coverage\": [metrics[\"coverage\"]],\n",
    "    \"avg_size\": [metrics[\"avg_size\"]],\n",
    "}"
   ]
  },
  {
   "cell_type": "code",
   "execution_count": 49,
   "id": "0d70d4b2",
   "metadata": {
    "execution": {
     "iopub.execute_input": "2025-08-19T18:29:22.466683Z",
     "iopub.status.busy": "2025-08-19T18:29:22.466000Z",
     "iopub.status.idle": "2025-08-19T18:29:22.473519Z",
     "shell.execute_reply": "2025-08-19T18:29:22.472395Z"
    },
    "papermill": {
     "duration": 0.021558,
     "end_time": "2025-08-19T18:29:22.475008",
     "exception": false,
     "start_time": "2025-08-19T18:29:22.453450",
     "status": "completed"
    },
    "tags": []
   },
   "outputs": [],
   "source": [
    "cp_metrics_df = pd.DataFrame(cp_metrics_dict)"
   ]
  },
  {
   "cell_type": "code",
   "execution_count": 50,
   "id": "b494403c",
   "metadata": {
    "execution": {
     "iopub.execute_input": "2025-08-19T18:29:22.500820Z",
     "iopub.status.busy": "2025-08-19T18:29:22.499783Z",
     "iopub.status.idle": "2025-08-19T18:29:22.521834Z",
     "shell.execute_reply": "2025-08-19T18:29:22.520806Z"
    },
    "papermill": {
     "duration": 0.036957,
     "end_time": "2025-08-19T18:29:22.523716",
     "exception": false,
     "start_time": "2025-08-19T18:29:22.486759",
     "status": "completed"
    },
    "tags": []
   },
   "outputs": [
    {
     "data": {
      "text/html": [
       "<div>\n",
       "<style scoped>\n",
       "    .dataframe tbody tr th:only-of-type {\n",
       "        vertical-align: middle;\n",
       "    }\n",
       "\n",
       "    .dataframe tbody tr th {\n",
       "        vertical-align: top;\n",
       "    }\n",
       "\n",
       "    .dataframe thead th {\n",
       "        text-align: right;\n",
       "    }\n",
       "</style>\n",
       "<table border=\"1\" class=\"dataframe\">\n",
       "  <thead>\n",
       "    <tr style=\"text-align: right;\">\n",
       "      <th></th>\n",
       "      <th>universe_id</th>\n",
       "      <th>universe_training_year</th>\n",
       "      <th>universe_training_size</th>\n",
       "      <th>universe_scale</th>\n",
       "      <th>universe_model</th>\n",
       "      <th>universe_exclude_features</th>\n",
       "      <th>universe_exclude_subgroups</th>\n",
       "      <th>q_hat</th>\n",
       "      <th>coverage</th>\n",
       "      <th>avg_size</th>\n",
       "    </tr>\n",
       "  </thead>\n",
       "  <tbody>\n",
       "    <tr>\n",
       "      <th>0</th>\n",
       "      <td>3d0fc6b9f37c70b25fbc587ced59d0f6</td>\n",
       "      <td>2014</td>\n",
       "      <td>5k</td>\n",
       "      <td>do-not-scale</td>\n",
       "      <td>rf</td>\n",
       "      <td>nationality-sex</td>\n",
       "      <td>drop-non-german</td>\n",
       "      <td>0.66</td>\n",
       "      <td>0.914324</td>\n",
       "      <td>1.144978</td>\n",
       "    </tr>\n",
       "  </tbody>\n",
       "</table>\n",
       "</div>"
      ],
      "text/plain": [
       "                        universe_id universe_training_year  \\\n",
       "0  3d0fc6b9f37c70b25fbc587ced59d0f6                   2014   \n",
       "\n",
       "  universe_training_size universe_scale universe_model  \\\n",
       "0                     5k   do-not-scale             rf   \n",
       "\n",
       "  universe_exclude_features universe_exclude_subgroups  q_hat  coverage  \\\n",
       "0           nationality-sex            drop-non-german   0.66  0.914324   \n",
       "\n",
       "   avg_size  \n",
       "0  1.144978  "
      ]
     },
     "execution_count": 50,
     "metadata": {},
     "output_type": "execute_result"
    }
   ],
   "source": [
    "cp_metrics_df"
   ]
  },
  {
   "cell_type": "markdown",
   "id": "ed608b0b",
   "metadata": {
    "papermill": {
     "duration": 0.011538,
     "end_time": "2025-08-19T18:29:22.552256",
     "exception": false,
     "start_time": "2025-08-19T18:29:22.540718",
     "status": "completed"
    },
    "tags": []
   },
   "source": [
    "Conditional coverage & looking at subgroups"
   ]
  },
  {
   "cell_type": "code",
   "execution_count": 51,
   "id": "8968c366",
   "metadata": {
    "execution": {
     "iopub.execute_input": "2025-08-19T18:29:22.581426Z",
     "iopub.status.busy": "2025-08-19T18:29:22.580393Z",
     "iopub.status.idle": "2025-08-19T18:29:22.852458Z",
     "shell.execute_reply": "2025-08-19T18:29:22.851653Z"
    },
    "papermill": {
     "duration": 0.290147,
     "end_time": "2025-08-19T18:29:22.853989",
     "exception": false,
     "start_time": "2025-08-19T18:29:22.563842",
     "status": "completed"
    },
    "tags": []
   },
   "outputs": [],
   "source": [
    "from fairness_multiverse.conformal import build_cp_groups\n",
    "\n",
    "cp_groups_df = build_cp_groups(pred_sets, y_true, X_test.index, org_test)"
   ]
  },
  {
   "cell_type": "code",
   "execution_count": 52,
   "id": "292ddabf",
   "metadata": {
    "execution": {
     "iopub.execute_input": "2025-08-19T18:29:22.896444Z",
     "iopub.status.busy": "2025-08-19T18:29:22.895534Z",
     "iopub.status.idle": "2025-08-19T18:29:23.743818Z",
     "shell.execute_reply": "2025-08-19T18:29:23.742634Z"
    },
    "papermill": {
     "duration": 0.864407,
     "end_time": "2025-08-19T18:29:23.745518",
     "exception": false,
     "start_time": "2025-08-19T18:29:22.881111",
     "status": "completed"
    },
    "tags": []
   },
   "outputs": [],
   "source": [
    "# Define covered = 1 if true_label is in the predicted set\n",
    "cp_groups_df['covered'] = cp_groups_df.apply(\n",
    "    lambda r: int(r['true_label'] in r['pred_set']),\n",
    "    axis=1\n",
    ")"
   ]
  },
  {
   "cell_type": "code",
   "execution_count": 53,
   "id": "3a261692",
   "metadata": {
    "execution": {
     "iopub.execute_input": "2025-08-19T18:29:23.790921Z",
     "iopub.status.busy": "2025-08-19T18:29:23.789896Z",
     "iopub.status.idle": "2025-08-19T18:29:23.813753Z",
     "shell.execute_reply": "2025-08-19T18:29:23.812577Z"
    },
    "papermill": {
     "duration": 0.070694,
     "end_time": "2025-08-19T18:29:23.829534",
     "exception": false,
     "start_time": "2025-08-19T18:29:23.758840",
     "status": "completed"
    },
    "tags": []
   },
   "outputs": [],
   "source": [
    "subgroups = ['frau1','nongerman','nongerman_male','nongerman_female']\n",
    "\n",
    "# Conditional coverage for subgroup==1\n",
    "cond_coverage = {\n",
    "    g: cp_groups_df.loc[cp_groups_df[g]==1, 'covered'].mean()\n",
    "    for g in subgroups\n",
    "}"
   ]
  },
  {
   "cell_type": "code",
   "execution_count": 54,
   "id": "894fd600",
   "metadata": {
    "execution": {
     "iopub.execute_input": "2025-08-19T18:29:23.857360Z",
     "iopub.status.busy": "2025-08-19T18:29:23.856909Z",
     "iopub.status.idle": "2025-08-19T18:29:23.863083Z",
     "shell.execute_reply": "2025-08-19T18:29:23.862394Z"
    },
    "papermill": {
     "duration": 0.021436,
     "end_time": "2025-08-19T18:29:23.864277",
     "exception": false,
     "start_time": "2025-08-19T18:29:23.842841",
     "status": "completed"
    },
    "tags": []
   },
   "outputs": [
    {
     "data": {
      "text/plain": [
       "{'frau1': 0.9131419328750505,\n",
       " 'nongerman': 0.9119182619435244,\n",
       " 'nongerman_male': 0.9261460866432496,\n",
       " 'nongerman_female': 0.8883755588673622}"
      ]
     },
     "execution_count": 54,
     "metadata": {},
     "output_type": "execute_result"
    }
   ],
   "source": [
    "cond_coverage"
   ]
  },
  {
   "cell_type": "code",
   "execution_count": 55,
   "id": "942895c7",
   "metadata": {
    "execution": {
     "iopub.execute_input": "2025-08-19T18:29:23.893466Z",
     "iopub.status.busy": "2025-08-19T18:29:23.892688Z",
     "iopub.status.idle": "2025-08-19T18:29:23.898418Z",
     "shell.execute_reply": "2025-08-19T18:29:23.897815Z"
    },
    "papermill": {
     "duration": 0.020953,
     "end_time": "2025-08-19T18:29:23.899480",
     "exception": false,
     "start_time": "2025-08-19T18:29:23.878527",
     "status": "completed"
    },
    "tags": []
   },
   "outputs": [],
   "source": [
    "for subgroup, cov in cond_coverage.items():\n",
    "    cp_metrics_df[f\"cov_{subgroup}\"] = cov"
   ]
  },
  {
   "cell_type": "code",
   "execution_count": 56,
   "id": "3970120f",
   "metadata": {
    "execution": {
     "iopub.execute_input": "2025-08-19T18:29:23.928846Z",
     "iopub.status.busy": "2025-08-19T18:29:23.927919Z",
     "iopub.status.idle": "2025-08-19T18:29:23.951246Z",
     "shell.execute_reply": "2025-08-19T18:29:23.950359Z"
    },
    "papermill": {
     "duration": 0.039403,
     "end_time": "2025-08-19T18:29:23.952920",
     "exception": false,
     "start_time": "2025-08-19T18:29:23.913517",
     "status": "completed"
    },
    "tags": []
   },
   "outputs": [
    {
     "data": {
      "text/html": [
       "<div>\n",
       "<style scoped>\n",
       "    .dataframe tbody tr th:only-of-type {\n",
       "        vertical-align: middle;\n",
       "    }\n",
       "\n",
       "    .dataframe tbody tr th {\n",
       "        vertical-align: top;\n",
       "    }\n",
       "\n",
       "    .dataframe thead th {\n",
       "        text-align: right;\n",
       "    }\n",
       "</style>\n",
       "<table border=\"1\" class=\"dataframe\">\n",
       "  <thead>\n",
       "    <tr style=\"text-align: right;\">\n",
       "      <th></th>\n",
       "      <th>universe_id</th>\n",
       "      <th>universe_training_year</th>\n",
       "      <th>universe_training_size</th>\n",
       "      <th>universe_scale</th>\n",
       "      <th>universe_model</th>\n",
       "      <th>universe_exclude_features</th>\n",
       "      <th>universe_exclude_subgroups</th>\n",
       "      <th>q_hat</th>\n",
       "      <th>coverage</th>\n",
       "      <th>avg_size</th>\n",
       "      <th>cov_frau1</th>\n",
       "      <th>cov_nongerman</th>\n",
       "      <th>cov_nongerman_male</th>\n",
       "      <th>cov_nongerman_female</th>\n",
       "    </tr>\n",
       "  </thead>\n",
       "  <tbody>\n",
       "    <tr>\n",
       "      <th>0</th>\n",
       "      <td>3d0fc6b9f37c70b25fbc587ced59d0f6</td>\n",
       "      <td>2014</td>\n",
       "      <td>5k</td>\n",
       "      <td>do-not-scale</td>\n",
       "      <td>rf</td>\n",
       "      <td>nationality-sex</td>\n",
       "      <td>drop-non-german</td>\n",
       "      <td>0.66</td>\n",
       "      <td>0.914324</td>\n",
       "      <td>1.144978</td>\n",
       "      <td>0.913142</td>\n",
       "      <td>0.911918</td>\n",
       "      <td>0.926146</td>\n",
       "      <td>0.888376</td>\n",
       "    </tr>\n",
       "  </tbody>\n",
       "</table>\n",
       "</div>"
      ],
      "text/plain": [
       "                        universe_id universe_training_year  \\\n",
       "0  3d0fc6b9f37c70b25fbc587ced59d0f6                   2014   \n",
       "\n",
       "  universe_training_size universe_scale universe_model  \\\n",
       "0                     5k   do-not-scale             rf   \n",
       "\n",
       "  universe_exclude_features universe_exclude_subgroups  q_hat  coverage  \\\n",
       "0           nationality-sex            drop-non-german   0.66  0.914324   \n",
       "\n",
       "   avg_size  cov_frau1  cov_nongerman  cov_nongerman_male  \\\n",
       "0  1.144978   0.913142       0.911918            0.926146   \n",
       "\n",
       "   cov_nongerman_female  \n",
       "0              0.888376  "
      ]
     },
     "execution_count": 56,
     "metadata": {},
     "output_type": "execute_result"
    }
   ],
   "source": [
    "cp_metrics_df"
   ]
  },
  {
   "cell_type": "markdown",
   "id": "3fc519cc",
   "metadata": {
    "papermill": {
     "duration": 0.012926,
     "end_time": "2025-08-19T18:29:23.990310",
     "exception": false,
     "start_time": "2025-08-19T18:29:23.977384",
     "status": "completed"
    },
    "tags": []
   },
   "source": [
    "# (Fairness) Metrics"
   ]
  },
  {
   "cell_type": "code",
   "execution_count": 57,
   "id": "a2e5e155",
   "metadata": {
    "execution": {
     "iopub.execute_input": "2025-08-19T18:29:24.018963Z",
     "iopub.status.busy": "2025-08-19T18:29:24.017702Z",
     "iopub.status.idle": "2025-08-19T18:29:24.045065Z",
     "shell.execute_reply": "2025-08-19T18:29:24.044152Z"
    },
    "papermill": {
     "duration": 0.043699,
     "end_time": "2025-08-19T18:29:24.046954",
     "exception": false,
     "start_time": "2025-08-19T18:29:24.003255",
     "status": "completed"
    },
    "tags": []
   },
   "outputs": [],
   "source": [
    "colname_to_bin = \"maxdeutsch1\"\n",
    "majority_value = org_train[colname_to_bin].mode()[0]\n",
    "\n",
    "org_test[\"majmin\"] = np.where(org_test[colname_to_bin] == majority_value, \"majority\", \"minority\")"
   ]
  },
  {
   "cell_type": "code",
   "execution_count": 58,
   "id": "17e3e4d5",
   "metadata": {
    "execution": {
     "iopub.execute_input": "2025-08-19T18:29:24.108894Z",
     "iopub.status.busy": "2025-08-19T18:29:24.107990Z",
     "iopub.status.idle": "2025-08-19T18:29:25.864454Z",
     "shell.execute_reply": "2025-08-19T18:29:25.863277Z"
    },
    "papermill": {
     "duration": 1.79503,
     "end_time": "2025-08-19T18:29:25.866036",
     "exception": false,
     "start_time": "2025-08-19T18:29:24.071006",
     "status": "completed"
    },
    "tags": []
   },
   "outputs": [],
   "source": [
    "example_universe = universe.copy()\n",
    "example_universe[\"cutoff\"] = example_universe[\"cutoff\"][0]\n",
    "example_universe[\"eval_fairness_grouping\"] = example_universe[\"eval_fairness_grouping\"][0]\n",
    "fairness_dict, metric_frame = universe_analysis.compute_metrics(\n",
    "    example_universe,\n",
    "    y_pred_prob=probs_test,\n",
    "    y_test=y_true,\n",
    "    org_test=org_test,\n",
    ")"
   ]
  },
  {
   "cell_type": "markdown",
   "id": "1fb7a0e9",
   "metadata": {
    "papermill": {
     "duration": 0.013058,
     "end_time": "2025-08-19T18:29:25.896284",
     "exception": false,
     "start_time": "2025-08-19T18:29:25.883226",
     "status": "completed"
    },
    "tags": []
   },
   "source": [
    "# Overall"
   ]
  },
  {
   "cell_type": "markdown",
   "id": "be1784b1",
   "metadata": {
    "papermill": {
     "duration": 0.012864,
     "end_time": "2025-08-19T18:29:25.922106",
     "exception": false,
     "start_time": "2025-08-19T18:29:25.909242",
     "status": "completed"
    },
    "tags": []
   },
   "source": [
    "Main fairness target: Equalized Odds. Seems to be a better fit than equal opportunity, since we're not only interested in Y = 1. Seems to be a better fit than demographic parity, since we also care about accuracy, not just equal distribution of preds.\n",
    "\n",
    "Pick column for computation of fairness metrics\n",
    "\n",
    "Performance\n",
    "Overall performance measures, most interesting in relation to the measures split by group below"
   ]
  },
  {
   "cell_type": "code",
   "execution_count": 59,
   "id": "b7672bee",
   "metadata": {
    "execution": {
     "iopub.execute_input": "2025-08-19T18:29:25.951550Z",
     "iopub.status.busy": "2025-08-19T18:29:25.950093Z",
     "iopub.status.idle": "2025-08-19T18:29:25.966227Z",
     "shell.execute_reply": "2025-08-19T18:29:25.965039Z"
    },
    "papermill": {
     "duration": 0.032988,
     "end_time": "2025-08-19T18:29:25.967887",
     "exception": false,
     "start_time": "2025-08-19T18:29:25.934899",
     "status": "completed"
    },
    "tags": []
   },
   "outputs": [
    {
     "data": {
      "text/plain": [
       "accuracy                   0.200201\n",
       "balanced accuracy          0.534101\n",
       "f1                         0.239775\n",
       "precision                  0.136536\n",
       "false positive rate        0.915028\n",
       "false negative rate        0.016771\n",
       "selection rate             0.923777\n",
       "count                  89710.000000\n",
       "dtype: float64"
      ]
     },
     "execution_count": 59,
     "metadata": {},
     "output_type": "execute_result"
    }
   ],
   "source": [
    "metric_frame.overall"
   ]
  },
  {
   "cell_type": "markdown",
   "id": "d93333c9",
   "metadata": {
    "papermill": {
     "duration": 0.013401,
     "end_time": "2025-08-19T18:29:26.001210",
     "exception": false,
     "start_time": "2025-08-19T18:29:25.987809",
     "status": "completed"
    },
    "tags": []
   },
   "source": [
    "By Group"
   ]
  },
  {
   "cell_type": "code",
   "execution_count": 60,
   "id": "52256966",
   "metadata": {
    "execution": {
     "iopub.execute_input": "2025-08-19T18:29:26.030160Z",
     "iopub.status.busy": "2025-08-19T18:29:26.028899Z",
     "iopub.status.idle": "2025-08-19T18:29:26.052337Z",
     "shell.execute_reply": "2025-08-19T18:29:26.051504Z"
    },
    "papermill": {
     "duration": 0.039966,
     "end_time": "2025-08-19T18:29:26.054213",
     "exception": false,
     "start_time": "2025-08-19T18:29:26.014247",
     "status": "completed"
    },
    "tags": []
   },
   "outputs": [
    {
     "data": {
      "text/html": [
       "<div>\n",
       "<style scoped>\n",
       "    .dataframe tbody tr th:only-of-type {\n",
       "        vertical-align: middle;\n",
       "    }\n",
       "\n",
       "    .dataframe tbody tr th {\n",
       "        vertical-align: top;\n",
       "    }\n",
       "\n",
       "    .dataframe thead th {\n",
       "        text-align: right;\n",
       "    }\n",
       "</style>\n",
       "<table border=\"1\" class=\"dataframe\">\n",
       "  <thead>\n",
       "    <tr style=\"text-align: right;\">\n",
       "      <th></th>\n",
       "      <th>accuracy</th>\n",
       "      <th>balanced accuracy</th>\n",
       "      <th>f1</th>\n",
       "      <th>precision</th>\n",
       "      <th>false positive rate</th>\n",
       "      <th>false negative rate</th>\n",
       "      <th>selection rate</th>\n",
       "      <th>count</th>\n",
       "    </tr>\n",
       "    <tr>\n",
       "      <th>majmin</th>\n",
       "      <th></th>\n",
       "      <th></th>\n",
       "      <th></th>\n",
       "      <th></th>\n",
       "      <th></th>\n",
       "      <th></th>\n",
       "      <th></th>\n",
       "      <th></th>\n",
       "    </tr>\n",
       "  </thead>\n",
       "  <tbody>\n",
       "    <tr>\n",
       "      <th>majority</th>\n",
       "      <td>0.202978</td>\n",
       "      <td>0.535526</td>\n",
       "      <td>0.246673</td>\n",
       "      <td>0.140939</td>\n",
       "      <td>0.916475</td>\n",
       "      <td>0.012473</td>\n",
       "      <td>0.925864</td>\n",
       "      <td>69170.0</td>\n",
       "    </tr>\n",
       "    <tr>\n",
       "      <th>minority</th>\n",
       "      <td>0.190847</td>\n",
       "      <td>0.528196</td>\n",
       "      <td>0.215964</td>\n",
       "      <td>0.121561</td>\n",
       "      <td>0.910247</td>\n",
       "      <td>0.033361</td>\n",
       "      <td>0.916748</td>\n",
       "      <td>20540.0</td>\n",
       "    </tr>\n",
       "  </tbody>\n",
       "</table>\n",
       "</div>"
      ],
      "text/plain": [
       "          accuracy  balanced accuracy        f1  precision  \\\n",
       "majmin                                                       \n",
       "majority  0.202978           0.535526  0.246673   0.140939   \n",
       "minority  0.190847           0.528196  0.215964   0.121561   \n",
       "\n",
       "          false positive rate  false negative rate  selection rate    count  \n",
       "majmin                                                                       \n",
       "majority             0.916475             0.012473        0.925864  69170.0  \n",
       "minority             0.910247             0.033361        0.916748  20540.0  "
      ]
     },
     "execution_count": 60,
     "metadata": {},
     "output_type": "execute_result"
    }
   ],
   "source": [
    "metric_frame.by_group"
   ]
  },
  {
   "cell_type": "code",
   "execution_count": 61,
   "id": "6e6c20ae",
   "metadata": {
    "execution": {
     "iopub.execute_input": "2025-08-19T18:29:26.088581Z",
     "iopub.status.busy": "2025-08-19T18:29:26.087361Z",
     "iopub.status.idle": "2025-08-19T18:29:27.987664Z",
     "shell.execute_reply": "2025-08-19T18:29:27.986650Z"
    },
    "papermill": {
     "duration": 1.915439,
     "end_time": "2025-08-19T18:29:27.988982",
     "exception": false,
     "start_time": "2025-08-19T18:29:26.073543",
     "status": "completed"
    },
    "tags": []
   },
   "outputs": [
    {
     "data": {
      "text/plain": [
       "array([[<Axes: title={'center': 'accuracy'}, xlabel='majmin'>,\n",
       "        <Axes: title={'center': 'balanced accuracy'}, xlabel='majmin'>,\n",
       "        <Axes: title={'center': 'f1'}, xlabel='majmin'>],\n",
       "       [<Axes: title={'center': 'precision'}, xlabel='majmin'>,\n",
       "        <Axes: title={'center': 'false positive rate'}, xlabel='majmin'>,\n",
       "        <Axes: title={'center': 'false negative rate'}, xlabel='majmin'>],\n",
       "       [<Axes: title={'center': 'selection rate'}, xlabel='majmin'>,\n",
       "        <Axes: title={'center': 'count'}, xlabel='majmin'>,\n",
       "        <Axes: xlabel='majmin'>]], dtype=object)"
      ]
     },
     "execution_count": 61,
     "metadata": {},
     "output_type": "execute_result"
    },
    {
     "data": {
      "image/png": "[encoded data removed]",
      "text/plain": [
       "<Figure size 1200x800 with 9 Axes>"
      ]
     },
     "metadata": {},
     "output_type": "display_data"
    }
   ],
   "source": [
    "# In a graphic\n",
    "metric_frame.by_group.plot.bar(\n",
    "    subplots=True,\n",
    "    layout=[3, 3],\n",
    "    legend=False,\n",
    "    figsize=[12, 8],\n",
    "    title=\"Show all metrics\",\n",
    ")"
   ]
  },
  {
   "cell_type": "markdown",
   "id": "b2e433ae",
   "metadata": {
    "papermill": {
     "duration": 0.015734,
     "end_time": "2025-08-19T18:29:28.025357",
     "exception": false,
     "start_time": "2025-08-19T18:29:28.009623",
     "status": "completed"
    },
    "tags": []
   },
   "source": [
    "# Final Output"
   ]
  },
  {
   "cell_type": "code",
   "execution_count": 62,
   "id": "3871301e",
   "metadata": {
    "execution": {
     "iopub.execute_input": "2025-08-19T18:29:28.057500Z",
     "iopub.status.busy": "2025-08-19T18:29:28.055310Z",
     "iopub.status.idle": "2025-08-19T18:29:28.074771Z",
     "shell.execute_reply": "2025-08-19T18:29:28.073661Z"
    },
    "papermill": {
     "duration": 0.036756,
     "end_time": "2025-08-19T18:29:28.076232",
     "exception": false,
     "start_time": "2025-08-19T18:29:28.039476",
     "status": "completed"
    },
    "tags": []
   },
   "outputs": [
    {
     "data": {
      "text/plain": [
       "4"
      ]
     },
     "execution_count": 62,
     "metadata": {},
     "output_type": "execute_result"
    }
   ],
   "source": [
    "sub_universes = universe_analysis.generate_sub_universes()\n",
    "len(sub_universes)"
   ]
  },
  {
   "cell_type": "code",
   "execution_count": 63,
   "id": "d9cfdaca",
   "metadata": {
    "execution": {
     "iopub.execute_input": "2025-08-19T18:29:28.115450Z",
     "iopub.status.busy": "2025-08-19T18:29:28.114353Z",
     "iopub.status.idle": "2025-08-19T18:29:28.124096Z",
     "shell.execute_reply": "2025-08-19T18:29:28.122438Z"
    },
    "papermill": {
     "duration": 0.03181,
     "end_time": "2025-08-19T18:29:28.125774",
     "exception": false,
     "start_time": "2025-08-19T18:29:28.093964",
     "status": "completed"
    },
    "tags": []
   },
   "outputs": [],
   "source": [
    "def filter_sub_universe_data(sub_universe, org_test):\n",
    "    # Keep all rows — no filtering\n",
    "    keep_rows_mask = np.ones(org_test.shape[0], dtype=bool)\n",
    "\n",
    "    print(f\"[INFO] Keeping all rows: {keep_rows_mask.sum()} rows retained.\")\n",
    "    return keep_rows_mask"
   ]
  },
  {
   "cell_type": "code",
   "execution_count": 64,
   "id": "2bc31ac1",
   "metadata": {
    "execution": {
     "iopub.execute_input": "2025-08-19T18:29:28.155275Z",
     "iopub.status.busy": "2025-08-19T18:29:28.154780Z",
     "iopub.status.idle": "2025-08-19T18:29:34.824574Z",
     "shell.execute_reply": "2025-08-19T18:29:34.823190Z"
    },
    "papermill": {
     "duration": 6.687955,
     "end_time": "2025-08-19T18:29:34.828103",
     "exception": false,
     "start_time": "2025-08-19T18:29:28.140148",
     "status": "completed"
    },
    "tags": []
   },
   "outputs": [
    {
     "name": "stdout",
     "output_type": "stream",
     "text": [
      "Stopping execution_time clock.\n",
      "[INFO] Keeping all rows: 89710 rows retained.\n"
     ]
    },
    {
     "name": "stdout",
     "output_type": "stream",
     "text": [
      "[INFO] Keeping all rows: 89710 rows retained.\n"
     ]
    },
    {
     "name": "stdout",
     "output_type": "stream",
     "text": [
      "[INFO] Keeping all rows: 89710 rows retained.\n"
     ]
    },
    {
     "name": "stdout",
     "output_type": "stream",
     "text": [
      "[INFO] Keeping all rows: 89710 rows retained.\n"
     ]
    },
    {
     "data": {
      "text/html": [
       "<div>\n",
       "<style scoped>\n",
       "    .dataframe tbody tr th:only-of-type {\n",
       "        vertical-align: middle;\n",
       "    }\n",
       "\n",
       "    .dataframe tbody tr th {\n",
       "        vertical-align: top;\n",
       "    }\n",
       "\n",
       "    .dataframe thead th {\n",
       "        text-align: right;\n",
       "    }\n",
       "</style>\n",
       "<table border=\"1\" class=\"dataframe\">\n",
       "  <thead>\n",
       "    <tr style=\"text-align: right;\">\n",
       "      <th></th>\n",
       "      <th>run_no</th>\n",
       "      <th>universe_id</th>\n",
       "      <th>universe_settings</th>\n",
       "      <th>execution_time</th>\n",
       "      <th>test_size_n</th>\n",
       "      <th>test_size_frac</th>\n",
       "      <th>fair_main_equalized_odds_difference</th>\n",
       "      <th>fair_main_equalized_odds_ratio</th>\n",
       "      <th>fair_main_demographic_parity_difference</th>\n",
       "      <th>fair_main_demographic_parity_ratio</th>\n",
       "      <th>...</th>\n",
       "      <th>perf_grp_precision_0</th>\n",
       "      <th>perf_grp_precision_1</th>\n",
       "      <th>perf_grp_false positive rate_0</th>\n",
       "      <th>perf_grp_false positive rate_1</th>\n",
       "      <th>perf_grp_false negative rate_0</th>\n",
       "      <th>perf_grp_false negative rate_1</th>\n",
       "      <th>perf_grp_selection rate_0</th>\n",
       "      <th>perf_grp_selection rate_1</th>\n",
       "      <th>perf_grp_count_0</th>\n",
       "      <th>perf_grp_count_1</th>\n",
       "    </tr>\n",
       "  </thead>\n",
       "  <tbody>\n",
       "    <tr>\n",
       "      <th>0</th>\n",
       "      <td>3</td>\n",
       "      <td>3d0fc6b9f37c70b25fbc587ced59d0f6</td>\n",
       "      <td>{\"cutoff\": \"quantile_0.1\", \"eval_fairness_grou...</td>\n",
       "      <td>27.808984</td>\n",
       "      <td>89710</td>\n",
       "      <td>1.0</td>\n",
       "      <td>0.020889</td>\n",
       "      <td>0.978847</td>\n",
       "      <td>0.009116</td>\n",
       "      <td>0.990154</td>\n",
       "      <td>...</td>\n",
       "      <td>NaN</td>\n",
       "      <td>NaN</td>\n",
       "      <td>NaN</td>\n",
       "      <td>NaN</td>\n",
       "      <td>NaN</td>\n",
       "      <td>NaN</td>\n",
       "      <td>NaN</td>\n",
       "      <td>NaN</td>\n",
       "      <td>NaN</td>\n",
       "      <td>NaN</td>\n",
       "    </tr>\n",
       "    <tr>\n",
       "      <th>0</th>\n",
       "      <td>3</td>\n",
       "      <td>3d0fc6b9f37c70b25fbc587ced59d0f6</td>\n",
       "      <td>{\"cutoff\": \"quantile_0.1\", \"eval_fairness_grou...</td>\n",
       "      <td>27.808984</td>\n",
       "      <td>89710</td>\n",
       "      <td>1.0</td>\n",
       "      <td>0.020889</td>\n",
       "      <td>0.978847</td>\n",
       "      <td>0.009116</td>\n",
       "      <td>0.990154</td>\n",
       "      <td>...</td>\n",
       "      <td>0.121561</td>\n",
       "      <td>0.140939</td>\n",
       "      <td>0.910247</td>\n",
       "      <td>0.916475</td>\n",
       "      <td>0.033361</td>\n",
       "      <td>0.012473</td>\n",
       "      <td>0.916748</td>\n",
       "      <td>0.925864</td>\n",
       "      <td>20540.0</td>\n",
       "      <td>69170.0</td>\n",
       "    </tr>\n",
       "    <tr>\n",
       "      <th>0</th>\n",
       "      <td>3</td>\n",
       "      <td>3d0fc6b9f37c70b25fbc587ced59d0f6</td>\n",
       "      <td>{\"cutoff\": \"quantile_0.25\", \"eval_fairness_gro...</td>\n",
       "      <td>27.808984</td>\n",
       "      <td>89710</td>\n",
       "      <td>1.0</td>\n",
       "      <td>0.065948</td>\n",
       "      <td>0.930196</td>\n",
       "      <td>0.013465</td>\n",
       "      <td>0.982212</td>\n",
       "      <td>...</td>\n",
       "      <td>NaN</td>\n",
       "      <td>NaN</td>\n",
       "      <td>NaN</td>\n",
       "      <td>NaN</td>\n",
       "      <td>NaN</td>\n",
       "      <td>NaN</td>\n",
       "      <td>NaN</td>\n",
       "      <td>NaN</td>\n",
       "      <td>NaN</td>\n",
       "      <td>NaN</td>\n",
       "    </tr>\n",
       "    <tr>\n",
       "      <th>0</th>\n",
       "      <td>3</td>\n",
       "      <td>3d0fc6b9f37c70b25fbc587ced59d0f6</td>\n",
       "      <td>{\"cutoff\": \"quantile_0.25\", \"eval_fairness_gro...</td>\n",
       "      <td>27.808984</td>\n",
       "      <td>89710</td>\n",
       "      <td>1.0</td>\n",
       "      <td>0.065948</td>\n",
       "      <td>0.930196</td>\n",
       "      <td>0.013465</td>\n",
       "      <td>0.982212</td>\n",
       "      <td>...</td>\n",
       "      <td>0.136262</td>\n",
       "      <td>0.164913</td>\n",
       "      <td>0.725897</td>\n",
       "      <td>0.728402</td>\n",
       "      <td>0.121199</td>\n",
       "      <td>0.055252</td>\n",
       "      <td>0.743525</td>\n",
       "      <td>0.756990</td>\n",
       "      <td>20540.0</td>\n",
       "      <td>69170.0</td>\n",
       "    </tr>\n",
       "  </tbody>\n",
       "</table>\n",
       "<p>4 rows × 50 columns</p>\n",
       "</div>"
      ],
      "text/plain": [
       "  run_no                       universe_id  \\\n",
       "0      3  3d0fc6b9f37c70b25fbc587ced59d0f6   \n",
       "0      3  3d0fc6b9f37c70b25fbc587ced59d0f6   \n",
       "0      3  3d0fc6b9f37c70b25fbc587ced59d0f6   \n",
       "0      3  3d0fc6b9f37c70b25fbc587ced59d0f6   \n",
       "\n",
       "                                   universe_settings  execution_time  \\\n",
       "0  {\"cutoff\": \"quantile_0.1\", \"eval_fairness_grou...       27.808984   \n",
       "0  {\"cutoff\": \"quantile_0.1\", \"eval_fairness_grou...       27.808984   \n",
       "0  {\"cutoff\": \"quantile_0.25\", \"eval_fairness_gro...       27.808984   \n",
       "0  {\"cutoff\": \"quantile_0.25\", \"eval_fairness_gro...       27.808984   \n",
       "\n",
       "   test_size_n  test_size_frac  fair_main_equalized_odds_difference  \\\n",
       "0        89710             1.0                             0.020889   \n",
       "0        89710             1.0                             0.020889   \n",
       "0        89710             1.0                             0.065948   \n",
       "0        89710             1.0                             0.065948   \n",
       "\n",
       "   fair_main_equalized_odds_ratio  fair_main_demographic_parity_difference  \\\n",
       "0                        0.978847                                 0.009116   \n",
       "0                        0.978847                                 0.009116   \n",
       "0                        0.930196                                 0.013465   \n",
       "0                        0.930196                                 0.013465   \n",
       "\n",
       "   fair_main_demographic_parity_ratio  ...  perf_grp_precision_0  \\\n",
       "0                            0.990154  ...                   NaN   \n",
       "0                            0.990154  ...              0.121561   \n",
       "0                            0.982212  ...                   NaN   \n",
       "0                            0.982212  ...              0.136262   \n",
       "\n",
       "   perf_grp_precision_1  perf_grp_false positive rate_0  \\\n",
       "0                   NaN                             NaN   \n",
       "0              0.140939                        0.910247   \n",
       "0                   NaN                             NaN   \n",
       "0              0.164913                        0.725897   \n",
       "\n",
       "   perf_grp_false positive rate_1  perf_grp_false negative rate_0  \\\n",
       "0                             NaN                             NaN   \n",
       "0                        0.916475                        0.033361   \n",
       "0                             NaN                             NaN   \n",
       "0                        0.728402                        0.121199   \n",
       "\n",
       "   perf_grp_false negative rate_1  perf_grp_selection rate_0  \\\n",
       "0                             NaN                        NaN   \n",
       "0                        0.012473                   0.916748   \n",
       "0                             NaN                        NaN   \n",
       "0                        0.055252                   0.743525   \n",
       "\n",
       "   perf_grp_selection rate_1  perf_grp_count_0  perf_grp_count_1  \n",
       "0                        NaN               NaN               NaN  \n",
       "0                   0.925864           20540.0           69170.0  \n",
       "0                        NaN               NaN               NaN  \n",
       "0                   0.756990           20540.0           69170.0  \n",
       "\n",
       "[4 rows x 50 columns]"
      ]
     },
     "execution_count": 64,
     "metadata": {},
     "output_type": "execute_result"
    }
   ],
   "source": [
    "final_output = universe_analysis.generate_final_output(\n",
    "    y_pred_prob=probs_test,\n",
    "    y_test=y_true,\n",
    "    org_test=org_test,\n",
    "    filter_data=filter_sub_universe_data,\n",
    "    cp_metrics_df=cp_metrics_df,\n",
    "    save=True,\n",
    ")\n",
    "final_output"
   ]
  },
  {
   "cell_type": "code",
   "execution_count": null,
   "id": "8b80a1ff",
   "metadata": {
    "papermill": {
     "duration": 0.014666,
     "end_time": "2025-08-19T18:29:34.873283",
     "exception": false,
     "start_time": "2025-08-19T18:29:34.858617",
     "status": "completed"
    },
    "tags": []
   },
   "outputs": [],
   "source": []
  },
  {
   "cell_type": "code",
   "execution_count": null,
   "id": "275c9fad",
   "metadata": {
    "papermill": {
     "duration": 0.014237,
     "end_time": "2025-08-19T18:29:34.901952",
     "exception": false,
     "start_time": "2025-08-19T18:29:34.887715",
     "status": "completed"
    },
    "tags": []
   },
   "outputs": [],
   "source": []
  }
 ],
 "metadata": {
  "celltoolbar": "Tags",
  "kernelspec": {
   "display_name": "Python (CMA Fairness)",
   "language": "python",
   "name": "cma_fair_env"
  },
  "language_info": {
   "codemirror_mode": {
    "name": "ipython",
    "version": 3
   },
   "file_extension": ".py",
   "mimetype": "text/x-python",
   "name": "python",
   "nbconvert_exporter": "python",
   "pygments_lexer": "ipython3",
   "version": "3.10.12"
  },
  "papermill": {
   "default_parameters": {},
   "duration": 38.109969,
   "end_time": "2025-08-19T18:29:35.743132",
   "environment_variables": {},
   "exception": null,
   "input_path": "universe_analysis.ipynb",
   "output_path": "output/runs/3/notebooks/m_3-3d0fc6b9f37c70b25fbc587ced59d0f6.ipynb",
   "parameters": {
    "output_dir": "output",
    "run_no": "3",
    "seed": "2023",
    "universe": "{\"cutoff\": [\"quantile_0.1\", \"quantile_0.25\"], \"eval_fairness_grouping\": [\"majority-minority\", \"nationality-all\"], \"exclude_features\": \"nationality-sex\", \"exclude_subgroups\": \"drop-non-german\", \"model\": \"rf\", \"scale\": \"do-not-scale\", \"training_size\": \"5k\", \"training_year\": \"2014\"}",
    "universe_id": "3d0fc6b9f37c70b25fbc587ced59d0f6"
   },
   "start_time": "2025-08-19T18:28:57.633163",
   "version": "2.6.0"
  }
 },
 "nbformat": 4,
 "nbformat_minor": 5
}