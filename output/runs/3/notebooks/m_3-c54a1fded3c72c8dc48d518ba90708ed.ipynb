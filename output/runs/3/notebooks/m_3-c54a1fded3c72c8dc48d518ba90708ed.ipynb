{
 "cells": [
  {
   "cell_type": "markdown",
   "id": "ef23dbb3",
   "metadata": {
    "papermill": {
     "duration": 0.022822,
     "end_time": "2025-08-19T18:31:10.114170",
     "exception": false,
     "start_time": "2025-08-19T18:31:10.091348",
     "status": "completed"
    },
    "tags": []
   },
   "source": [
    "# Setup"
   ]
  },
  {
   "cell_type": "code",
   "execution_count": 1,
   "id": "0bc8e7dc",
   "metadata": {
    "execution": {
     "iopub.execute_input": "2025-08-19T18:31:10.149561Z",
     "iopub.status.busy": "2025-08-19T18:31:10.149124Z",
     "iopub.status.idle": "2025-08-19T18:31:10.162238Z",
     "shell.execute_reply": "2025-08-19T18:31:10.161104Z"
    },
    "papermill": {
     "duration": 0.030637,
     "end_time": "2025-08-19T18:31:10.168821",
     "exception": false,
     "start_time": "2025-08-19T18:31:10.138184",
     "status": "completed"
    },
    "tags": []
   },
   "outputs": [
    {
     "name": "stdout",
     "output_type": "stream",
     "text": [
      "/dss/dsshome1/0C/ra93lal2/cma/CMA_Fairness_v2\n"
     ]
    },
    {
     "name": "stderr",
     "output_type": "stream",
     "text": [
      "/dss/dsshome1/0C/ra93lal2/.local/share/virtualenvs/CMA_Fairness_v2-3j10GkSs/lib/python3.10/site-packages/IPython/core/magics/osm.py:393: UserWarning: This is now an optional IPython functionality, using bookmarks requires you to install the `pickleshare` library.\n",
      "  bkms = self.shell.db.get('bookmarks', {})\n",
      "/dss/dsshome1/0C/ra93lal2/.local/share/virtualenvs/CMA_Fairness_v2-3j10GkSs/lib/python3.10/site-packages/IPython/core/magics/osm.py:417: UserWarning: This is now an optional IPython functionality, setting dhist requires you to install the `pickleshare` library.\n",
      "  self.shell.db['dhist'] = compress_dhist(dhist)[-100:]\n"
     ]
    }
   ],
   "source": [
    "%cd ~/cma/CMA_Fairness_v2"
   ]
  },
  {
   "cell_type": "markdown",
   "id": "9d235661",
   "metadata": {
    "papermill": {
     "duration": 0.012502,
     "end_time": "2025-08-19T18:31:10.199892",
     "exception": false,
     "start_time": "2025-08-19T18:31:10.187390",
     "status": "completed"
    },
    "tags": []
   },
   "source": [
    "The following cell holds the definition of our parameters, these values can be overriden by rendering the with e.g. the following command:\n",
    "\n",
    "papermill -p alpha 0.2 -p ratio 0.3 universe_analysis.ipynb output/test_run.ipynb"
   ]
  },
  {
   "cell_type": "code",
   "execution_count": 2,
   "id": "4a789d8e",
   "metadata": {
    "execution": {
     "iopub.execute_input": "2025-08-19T18:31:10.220244Z",
     "iopub.status.busy": "2025-08-19T18:31:10.219829Z",
     "iopub.status.idle": "2025-08-19T18:31:10.226118Z",
     "shell.execute_reply": "2025-08-19T18:31:10.224963Z"
    },
    "papermill": {
     "duration": 0.022067,
     "end_time": "2025-08-19T18:31:10.231649",
     "exception": false,
     "start_time": "2025-08-19T18:31:10.209582",
     "status": "completed"
    },
    "tags": []
   },
   "outputs": [
    {
     "name": "stdout",
     "output_type": "stream",
     "text": [
      "Current working directory: /dss/dsshome1/0C/ra93lal2/cma/CMA_Fairness_v2\n"
     ]
    }
   ],
   "source": [
    "import os\n",
    "print(\"Current working directory:\", os.getcwd())"
   ]
  },
  {
   "cell_type": "code",
   "execution_count": 3,
   "id": "4132aaed",
   "metadata": {
    "execution": {
     "iopub.execute_input": "2025-08-19T18:31:10.258996Z",
     "iopub.status.busy": "2025-08-19T18:31:10.258050Z",
     "iopub.status.idle": "2025-08-19T18:31:10.266442Z",
     "shell.execute_reply": "2025-08-19T18:31:10.265161Z"
    },
    "papermill": {
     "duration": 0.021326,
     "end_time": "2025-08-19T18:31:10.268085",
     "exception": false,
     "start_time": "2025-08-19T18:31:10.246759",
     "status": "completed"
    },
    "tags": [
     "parameters"
    ]
   },
   "outputs": [],
   "source": [
    "run_no = 0\n",
    "universe_id = \"test\"\n",
    "universe = {\n",
    "    \"training_size\": \"5k\", # \"25k\", \"5k\", \"1k\"\n",
    "    \"training_year\": \"2012_14\", # \"2014\", \"2012_14\", \"2010_14\"\n",
    "    \"scale\": \"scale\", # \"scale\", \"do-not-scale\",\n",
    "    \"model\": \"elasticnet\", # \"logreg\", \"penalized_logreg\", \"rf\", \"gbm\", \"elasticnet\"\n",
    "    \"cutoff\": [\"quantile_0.15\", \"quantile_0.30\"],\n",
    "    \"exclude_features\": \"age\", # \"none\", \"nationality\", \"sex\", \"nationality-sex\", \"age\"\n",
    "    \"exclude_subgroups\": \"drop-non-german\", # \"keep-all\", \"drop-non-german\"\n",
    "    \"eval_fairness_grouping\": [\"majority-minority\", \"nationality-all\"]\n",
    "}\n",
    "\n",
    "output_dir=\"./output\"\n",
    "seed=0"
   ]
  },
  {
   "cell_type": "code",
   "execution_count": 4,
   "id": "45af0533",
   "metadata": {
    "execution": {
     "iopub.execute_input": "2025-08-19T18:31:10.293974Z",
     "iopub.status.busy": "2025-08-19T18:31:10.292518Z",
     "iopub.status.idle": "2025-08-19T18:31:10.301359Z",
     "shell.execute_reply": "2025-08-19T18:31:10.299732Z"
    },
    "papermill": {
     "duration": 0.023438,
     "end_time": "2025-08-19T18:31:10.302939",
     "exception": false,
     "start_time": "2025-08-19T18:31:10.279501",
     "status": "completed"
    },
    "tags": [
     "injected-parameters"
    ]
   },
   "outputs": [],
   "source": [
    "# Parameters\n",
    "universe_id = \"c54a1fded3c72c8dc48d518ba90708ed\"\n",
    "run_no = \"3\"\n",
    "universe = \"{\\\"cutoff\\\": [\\\"quantile_0.1\\\", \\\"quantile_0.25\\\"], \\\"eval_fairness_grouping\\\": [\\\"majority-minority\\\", \\\"nationality-all\\\"], \\\"exclude_features\\\": \\\"sex\\\", \\\"exclude_subgroups\\\": \\\"keep-all\\\", \\\"model\\\": \\\"logreg\\\", \\\"scale\\\": \\\"scale\\\", \\\"training_size\\\": \\\"5k\\\", \\\"training_year\\\": \\\"2012_14\\\"}\"\n",
    "output_dir = \"output\"\n",
    "seed = \"2023\"\n"
   ]
  },
  {
   "cell_type": "code",
   "execution_count": 5,
   "id": "a5d7941f",
   "metadata": {
    "execution": {
     "iopub.execute_input": "2025-08-19T18:31:10.326981Z",
     "iopub.status.busy": "2025-08-19T18:31:10.326596Z",
     "iopub.status.idle": "2025-08-19T18:31:10.330546Z",
     "shell.execute_reply": "2025-08-19T18:31:10.329899Z"
    },
    "papermill": {
     "duration": 0.018464,
     "end_time": "2025-08-19T18:31:10.331742",
     "exception": false,
     "start_time": "2025-08-19T18:31:10.313278",
     "status": "completed"
    },
    "tags": []
   },
   "outputs": [],
   "source": [
    "import json\n",
    "if isinstance(universe, str):\n",
    "    universe = json.loads(universe)"
   ]
  },
  {
   "cell_type": "code",
   "execution_count": 6,
   "id": "7076ccb1",
   "metadata": {
    "execution": {
     "iopub.execute_input": "2025-08-19T18:31:10.353739Z",
     "iopub.status.busy": "2025-08-19T18:31:10.353322Z",
     "iopub.status.idle": "2025-08-19T18:31:10.413599Z",
     "shell.execute_reply": "2025-08-19T18:31:10.412623Z"
    },
    "papermill": {
     "duration": 0.072699,
     "end_time": "2025-08-19T18:31:10.415420",
     "exception": false,
     "start_time": "2025-08-19T18:31:10.342721",
     "status": "completed"
    },
    "tags": []
   },
   "outputs": [],
   "source": [
    "# Auto-reload the custom package\n",
    "%load_ext autoreload\n",
    "%autoreload 1\n",
    "%aimport fairness_multiverse"
   ]
  },
  {
   "cell_type": "code",
   "execution_count": 7,
   "id": "94c8eb93",
   "metadata": {
    "execution": {
     "iopub.execute_input": "2025-08-19T18:31:10.436696Z",
     "iopub.status.busy": "2025-08-19T18:31:10.436124Z",
     "iopub.status.idle": "2025-08-19T18:31:12.028138Z",
     "shell.execute_reply": "2025-08-19T18:31:12.027389Z"
    },
    "papermill": {
     "duration": 1.60435,
     "end_time": "2025-08-19T18:31:12.029715",
     "exception": false,
     "start_time": "2025-08-19T18:31:10.425365",
     "status": "completed"
    },
    "tags": []
   },
   "outputs": [],
   "source": [
    "from fairness_multiverse.universe import UniverseAnalysis\n",
    "\n",
    "universe_analysis = UniverseAnalysis(\n",
    "    run_no = run_no,\n",
    "    universe_id = universe_id,\n",
    "    universe = universe,\n",
    "    output_dir=output_dir,\n",
    ")"
   ]
  },
  {
   "cell_type": "code",
   "execution_count": 8,
   "id": "2a6381cf",
   "metadata": {
    "execution": {
     "iopub.execute_input": "2025-08-19T18:31:12.059197Z",
     "iopub.status.busy": "2025-08-19T18:31:12.057432Z",
     "iopub.status.idle": "2025-08-19T18:31:12.066179Z",
     "shell.execute_reply": "2025-08-19T18:31:12.065178Z"
    },
    "papermill": {
     "duration": 0.023545,
     "end_time": "2025-08-19T18:31:12.068497",
     "exception": false,
     "start_time": "2025-08-19T18:31:12.044952",
     "status": "completed"
    },
    "tags": []
   },
   "outputs": [
    {
     "name": "stdout",
     "output_type": "stream",
     "text": [
      "Using Seed: 2023\n"
     ]
    }
   ],
   "source": [
    "import numpy as np\n",
    "parsed_seed = int(seed)\n",
    "np.random.seed(parsed_seed)\n",
    "print(f\"Using Seed: {parsed_seed}\")"
   ]
  },
  {
   "cell_type": "markdown",
   "id": "b6e958b4",
   "metadata": {
    "papermill": {
     "duration": 0.011938,
     "end_time": "2025-08-19T18:31:12.101374",
     "exception": false,
     "start_time": "2025-08-19T18:31:12.089436",
     "status": "completed"
    },
    "tags": []
   },
   "source": [
    "# Loading Data"
   ]
  },
  {
   "cell_type": "code",
   "execution_count": 9,
   "id": "98701482",
   "metadata": {
    "execution": {
     "iopub.execute_input": "2025-08-19T18:31:12.121076Z",
     "iopub.status.busy": "2025-08-19T18:31:12.120803Z",
     "iopub.status.idle": "2025-08-19T18:31:22.493851Z",
     "shell.execute_reply": "2025-08-19T18:31:22.492804Z"
    },
    "papermill": {
     "duration": 10.38407,
     "end_time": "2025-08-19T18:31:22.494937",
     "exception": false,
     "start_time": "2025-08-19T18:31:12.110867",
     "status": "completed"
    },
    "tags": []
   },
   "outputs": [
    {
     "name": "stdout",
     "output_type": "stream",
     "text": [
      "Loading SIAB data from cache: data/siab_cached.csv.gz\n"
     ]
    },
    {
     "name": "stdout",
     "output_type": "stream",
     "text": [
      "(643690, 164)\n"
     ]
    }
   ],
   "source": [
    "from pathlib import Path\n",
    "import pandas as pd\n",
    "\n",
    "# File paths\n",
    "raw_file = Path(\"data/raw/siab.csv\")\n",
    "cache_file = Path(\"data/siab_cached.csv.gz\")\n",
    "\n",
    "# Ensure cache directory exists\n",
    "cache_file.parent.mkdir(parents=True, exist_ok=True)\n",
    "\n",
    "# Load with simple caching\n",
    "if cache_file.exists():\n",
    "    print(f\"Loading SIAB data from cache: {cache_file}\")\n",
    "    siab = pd.read_csv(cache_file, compression='gzip')\n",
    "else:\n",
    "    print(f\"Cache not found. Reading raw SIAB data: {raw_file}\")\n",
    "    siab = pd.read_csv(raw_file)\n",
    "    siab.to_csv(cache_file, index=False, compression='gzip')\n",
    "    print(f\"Cached SIAB data to: {cache_file}\")\n",
    "\n",
    "print(siab.shape)"
   ]
  },
  {
   "cell_type": "code",
   "execution_count": 10,
   "id": "058d2abb",
   "metadata": {
    "execution": {
     "iopub.execute_input": "2025-08-19T18:31:22.537305Z",
     "iopub.status.busy": "2025-08-19T18:31:22.536963Z",
     "iopub.status.idle": "2025-08-19T18:31:22.663135Z",
     "shell.execute_reply": "2025-08-19T18:31:22.662403Z"
    },
    "papermill": {
     "duration": 0.153213,
     "end_time": "2025-08-19T18:31:22.665968",
     "exception": false,
     "start_time": "2025-08-19T18:31:22.512755",
     "status": "completed"
    },
    "tags": []
   },
   "outputs": [
    {
     "data": {
      "text/html": [
       "<div>\n",
       "<style scoped>\n",
       "    .dataframe tbody tr th:only-of-type {\n",
       "        vertical-align: middle;\n",
       "    }\n",
       "\n",
       "    .dataframe tbody tr th {\n",
       "        vertical-align: top;\n",
       "    }\n",
       "\n",
       "    .dataframe thead th {\n",
       "        text-align: right;\n",
       "    }\n",
       "</style>\n",
       "<table border=\"1\" class=\"dataframe\">\n",
       "  <thead>\n",
       "    <tr style=\"text-align: right;\">\n",
       "      <th></th>\n",
       "      <th>persnr</th>\n",
       "      <th>year</th>\n",
       "      <th>nrEntry</th>\n",
       "      <th>ltue</th>\n",
       "      <th>employed_before</th>\n",
       "      <th>receipt_leh_before</th>\n",
       "      <th>receipt_lhg_before</th>\n",
       "      <th>se_before</th>\n",
       "      <th>ASU_notue_seeking_before</th>\n",
       "      <th>ASU_other_before</th>\n",
       "      <th>...</th>\n",
       "      <th>minijob_tot_dur_byage</th>\n",
       "      <th>ft_tot_dur_byage</th>\n",
       "      <th>befrist_tot_dur_byage</th>\n",
       "      <th>leih_tot_dur_byage</th>\n",
       "      <th>LHG_tot_dur_byage</th>\n",
       "      <th>LEH_tot_dur_byage</th>\n",
       "      <th>almp_tot_dur_byage</th>\n",
       "      <th>almp_aw_tot_dur_byage</th>\n",
       "      <th>se_tot_dur_byage</th>\n",
       "      <th>seeking1_tot_dur_byage</th>\n",
       "    </tr>\n",
       "  </thead>\n",
       "  <tbody>\n",
       "    <tr>\n",
       "      <th>0</th>\n",
       "      <td>7</td>\n",
       "      <td>2015</td>\n",
       "      <td>1</td>\n",
       "      <td>0</td>\n",
       "      <td>1</td>\n",
       "      <td>0</td>\n",
       "      <td>0</td>\n",
       "      <td>0</td>\n",
       "      <td>1</td>\n",
       "      <td>0</td>\n",
       "      <td>...</td>\n",
       "      <td>0.000000</td>\n",
       "      <td>0.000000</td>\n",
       "      <td>15.043478</td>\n",
       "      <td>0.000000</td>\n",
       "      <td>0.000000</td>\n",
       "      <td>0.000000</td>\n",
       "      <td>0.000000</td>\n",
       "      <td>0.000000</td>\n",
       "      <td>0.000000</td>\n",
       "      <td>0.000000</td>\n",
       "    </tr>\n",
       "    <tr>\n",
       "      <th>1</th>\n",
       "      <td>18</td>\n",
       "      <td>2010</td>\n",
       "      <td>1</td>\n",
       "      <td>1</td>\n",
       "      <td>0</td>\n",
       "      <td>0</td>\n",
       "      <td>0</td>\n",
       "      <td>0</td>\n",
       "      <td>0</td>\n",
       "      <td>0</td>\n",
       "      <td>...</td>\n",
       "      <td>0.000000</td>\n",
       "      <td>0.000000</td>\n",
       "      <td>0.000000</td>\n",
       "      <td>0.000000</td>\n",
       "      <td>0.000000</td>\n",
       "      <td>0.000000</td>\n",
       "      <td>0.000000</td>\n",
       "      <td>0.000000</td>\n",
       "      <td>0.000000</td>\n",
       "      <td>0.000000</td>\n",
       "    </tr>\n",
       "    <tr>\n",
       "      <th>2</th>\n",
       "      <td>18</td>\n",
       "      <td>2011</td>\n",
       "      <td>2</td>\n",
       "      <td>0</td>\n",
       "      <td>1</td>\n",
       "      <td>0</td>\n",
       "      <td>1</td>\n",
       "      <td>0</td>\n",
       "      <td>1</td>\n",
       "      <td>0</td>\n",
       "      <td>...</td>\n",
       "      <td>2.714286</td>\n",
       "      <td>2.714286</td>\n",
       "      <td>0.000000</td>\n",
       "      <td>0.000000</td>\n",
       "      <td>10.775510</td>\n",
       "      <td>0.000000</td>\n",
       "      <td>8.367347</td>\n",
       "      <td>0.000000</td>\n",
       "      <td>0.000000</td>\n",
       "      <td>9.836735</td>\n",
       "    </tr>\n",
       "    <tr>\n",
       "      <th>3</th>\n",
       "      <td>18</td>\n",
       "      <td>2012</td>\n",
       "      <td>3</td>\n",
       "      <td>0</td>\n",
       "      <td>1</td>\n",
       "      <td>0</td>\n",
       "      <td>1</td>\n",
       "      <td>0</td>\n",
       "      <td>1</td>\n",
       "      <td>0</td>\n",
       "      <td>...</td>\n",
       "      <td>4.200000</td>\n",
       "      <td>4.200000</td>\n",
       "      <td>0.000000</td>\n",
       "      <td>0.000000</td>\n",
       "      <td>12.100000</td>\n",
       "      <td>0.000000</td>\n",
       "      <td>9.400000</td>\n",
       "      <td>0.000000</td>\n",
       "      <td>0.000000</td>\n",
       "      <td>9.960000</td>\n",
       "    </tr>\n",
       "    <tr>\n",
       "      <th>4</th>\n",
       "      <td>18</td>\n",
       "      <td>2012</td>\n",
       "      <td>4</td>\n",
       "      <td>0</td>\n",
       "      <td>1</td>\n",
       "      <td>0</td>\n",
       "      <td>1</td>\n",
       "      <td>0</td>\n",
       "      <td>1</td>\n",
       "      <td>0</td>\n",
       "      <td>...</td>\n",
       "      <td>5.460000</td>\n",
       "      <td>5.460000</td>\n",
       "      <td>0.000000</td>\n",
       "      <td>0.000000</td>\n",
       "      <td>13.360000</td>\n",
       "      <td>0.000000</td>\n",
       "      <td>10.320000</td>\n",
       "      <td>0.000000</td>\n",
       "      <td>0.000000</td>\n",
       "      <td>10.280000</td>\n",
       "    </tr>\n",
       "    <tr>\n",
       "      <th>...</th>\n",
       "      <td>...</td>\n",
       "      <td>...</td>\n",
       "      <td>...</td>\n",
       "      <td>...</td>\n",
       "      <td>...</td>\n",
       "      <td>...</td>\n",
       "      <td>...</td>\n",
       "      <td>...</td>\n",
       "      <td>...</td>\n",
       "      <td>...</td>\n",
       "      <td>...</td>\n",
       "      <td>...</td>\n",
       "      <td>...</td>\n",
       "      <td>...</td>\n",
       "      <td>...</td>\n",
       "      <td>...</td>\n",
       "      <td>...</td>\n",
       "      <td>...</td>\n",
       "      <td>...</td>\n",
       "      <td>...</td>\n",
       "      <td>...</td>\n",
       "    </tr>\n",
       "    <tr>\n",
       "      <th>643685</th>\n",
       "      <td>1827860</td>\n",
       "      <td>2013</td>\n",
       "      <td>1</td>\n",
       "      <td>0</td>\n",
       "      <td>0</td>\n",
       "      <td>0</td>\n",
       "      <td>1</td>\n",
       "      <td>0</td>\n",
       "      <td>0</td>\n",
       "      <td>1</td>\n",
       "      <td>...</td>\n",
       "      <td>0.000000</td>\n",
       "      <td>0.000000</td>\n",
       "      <td>0.000000</td>\n",
       "      <td>0.000000</td>\n",
       "      <td>0.612903</td>\n",
       "      <td>0.000000</td>\n",
       "      <td>0.000000</td>\n",
       "      <td>0.000000</td>\n",
       "      <td>0.000000</td>\n",
       "      <td>0.000000</td>\n",
       "    </tr>\n",
       "    <tr>\n",
       "      <th>643686</th>\n",
       "      <td>1827860</td>\n",
       "      <td>2015</td>\n",
       "      <td>2</td>\n",
       "      <td>1</td>\n",
       "      <td>0</td>\n",
       "      <td>0</td>\n",
       "      <td>1</td>\n",
       "      <td>0</td>\n",
       "      <td>1</td>\n",
       "      <td>0</td>\n",
       "      <td>...</td>\n",
       "      <td>0.000000</td>\n",
       "      <td>0.000000</td>\n",
       "      <td>0.212121</td>\n",
       "      <td>0.212121</td>\n",
       "      <td>17.363636</td>\n",
       "      <td>0.000000</td>\n",
       "      <td>8.909091</td>\n",
       "      <td>0.000000</td>\n",
       "      <td>0.000000</td>\n",
       "      <td>7.121212</td>\n",
       "    </tr>\n",
       "    <tr>\n",
       "      <th>643687</th>\n",
       "      <td>1827860</td>\n",
       "      <td>2016</td>\n",
       "      <td>3</td>\n",
       "      <td>1</td>\n",
       "      <td>0</td>\n",
       "      <td>0</td>\n",
       "      <td>1</td>\n",
       "      <td>1</td>\n",
       "      <td>0</td>\n",
       "      <td>1</td>\n",
       "      <td>...</td>\n",
       "      <td>0.000000</td>\n",
       "      <td>0.000000</td>\n",
       "      <td>0.294118</td>\n",
       "      <td>0.205882</td>\n",
       "      <td>34.705882</td>\n",
       "      <td>0.000000</td>\n",
       "      <td>10.352941</td>\n",
       "      <td>1.705882</td>\n",
       "      <td>1.705882</td>\n",
       "      <td>23.911765</td>\n",
       "    </tr>\n",
       "    <tr>\n",
       "      <th>643688</th>\n",
       "      <td>1827869</td>\n",
       "      <td>2013</td>\n",
       "      <td>1</td>\n",
       "      <td>1</td>\n",
       "      <td>1</td>\n",
       "      <td>0</td>\n",
       "      <td>0</td>\n",
       "      <td>0</td>\n",
       "      <td>1</td>\n",
       "      <td>0</td>\n",
       "      <td>...</td>\n",
       "      <td>0.000000</td>\n",
       "      <td>0.000000</td>\n",
       "      <td>0.000000</td>\n",
       "      <td>0.000000</td>\n",
       "      <td>0.000000</td>\n",
       "      <td>0.525424</td>\n",
       "      <td>0.000000</td>\n",
       "      <td>0.000000</td>\n",
       "      <td>0.000000</td>\n",
       "      <td>0.000000</td>\n",
       "    </tr>\n",
       "    <tr>\n",
       "      <th>643689</th>\n",
       "      <td>1827869</td>\n",
       "      <td>2014</td>\n",
       "      <td>2</td>\n",
       "      <td>0</td>\n",
       "      <td>0</td>\n",
       "      <td>1</td>\n",
       "      <td>0</td>\n",
       "      <td>0</td>\n",
       "      <td>1</td>\n",
       "      <td>0</td>\n",
       "      <td>...</td>\n",
       "      <td>0.000000</td>\n",
       "      <td>0.666667</td>\n",
       "      <td>0.666667</td>\n",
       "      <td>0.000000</td>\n",
       "      <td>0.000000</td>\n",
       "      <td>8.950000</td>\n",
       "      <td>1.033333</td>\n",
       "      <td>0.083333</td>\n",
       "      <td>0.083333</td>\n",
       "      <td>8.133333</td>\n",
       "    </tr>\n",
       "  </tbody>\n",
       "</table>\n",
       "<p>643690 rows × 164 columns</p>\n",
       "</div>"
      ],
      "text/plain": [
       "         persnr  year  nrEntry  ltue  employed_before  receipt_leh_before  \\\n",
       "0             7  2015        1     0                1                   0   \n",
       "1            18  2010        1     1                0                   0   \n",
       "2            18  2011        2     0                1                   0   \n",
       "3            18  2012        3     0                1                   0   \n",
       "4            18  2012        4     0                1                   0   \n",
       "...         ...   ...      ...   ...              ...                 ...   \n",
       "643685  1827860  2013        1     0                0                   0   \n",
       "643686  1827860  2015        2     1                0                   0   \n",
       "643687  1827860  2016        3     1                0                   0   \n",
       "643688  1827869  2013        1     1                1                   0   \n",
       "643689  1827869  2014        2     0                0                   1   \n",
       "\n",
       "        receipt_lhg_before  se_before  ASU_notue_seeking_before  \\\n",
       "0                        0          0                         1   \n",
       "1                        0          0                         0   \n",
       "2                        1          0                         1   \n",
       "3                        1          0                         1   \n",
       "4                        1          0                         1   \n",
       "...                    ...        ...                       ...   \n",
       "643685                   1          0                         0   \n",
       "643686                   1          0                         1   \n",
       "643687                   1          1                         0   \n",
       "643688                   0          0                         1   \n",
       "643689                   0          0                         1   \n",
       "\n",
       "        ASU_other_before  ...  minijob_tot_dur_byage  ft_tot_dur_byage  \\\n",
       "0                      0  ...               0.000000          0.000000   \n",
       "1                      0  ...               0.000000          0.000000   \n",
       "2                      0  ...               2.714286          2.714286   \n",
       "3                      0  ...               4.200000          4.200000   \n",
       "4                      0  ...               5.460000          5.460000   \n",
       "...                  ...  ...                    ...               ...   \n",
       "643685                 1  ...               0.000000          0.000000   \n",
       "643686                 0  ...               0.000000          0.000000   \n",
       "643687                 1  ...               0.000000          0.000000   \n",
       "643688                 0  ...               0.000000          0.000000   \n",
       "643689                 0  ...               0.000000          0.666667   \n",
       "\n",
       "        befrist_tot_dur_byage  leih_tot_dur_byage  LHG_tot_dur_byage  \\\n",
       "0                   15.043478            0.000000           0.000000   \n",
       "1                    0.000000            0.000000           0.000000   \n",
       "2                    0.000000            0.000000          10.775510   \n",
       "3                    0.000000            0.000000          12.100000   \n",
       "4                    0.000000            0.000000          13.360000   \n",
       "...                       ...                 ...                ...   \n",
       "643685               0.000000            0.000000           0.612903   \n",
       "643686               0.212121            0.212121          17.363636   \n",
       "643687               0.294118            0.205882          34.705882   \n",
       "643688               0.000000            0.000000           0.000000   \n",
       "643689               0.666667            0.000000           0.000000   \n",
       "\n",
       "        LEH_tot_dur_byage  almp_tot_dur_byage  almp_aw_tot_dur_byage  \\\n",
       "0                0.000000            0.000000               0.000000   \n",
       "1                0.000000            0.000000               0.000000   \n",
       "2                0.000000            8.367347               0.000000   \n",
       "3                0.000000            9.400000               0.000000   \n",
       "4                0.000000           10.320000               0.000000   \n",
       "...                   ...                 ...                    ...   \n",
       "643685           0.000000            0.000000               0.000000   \n",
       "643686           0.000000            8.909091               0.000000   \n",
       "643687           0.000000           10.352941               1.705882   \n",
       "643688           0.525424            0.000000               0.000000   \n",
       "643689           8.950000            1.033333               0.083333   \n",
       "\n",
       "        se_tot_dur_byage  seeking1_tot_dur_byage  \n",
       "0               0.000000                0.000000  \n",
       "1               0.000000                0.000000  \n",
       "2               0.000000                9.836735  \n",
       "3               0.000000                9.960000  \n",
       "4               0.000000               10.280000  \n",
       "...                  ...                     ...  \n",
       "643685          0.000000                0.000000  \n",
       "643686          0.000000                7.121212  \n",
       "643687          1.705882               23.911765  \n",
       "643688          0.000000                0.000000  \n",
       "643689          0.083333                8.133333  \n",
       "\n",
       "[643690 rows x 164 columns]"
      ]
     },
     "execution_count": 10,
     "metadata": {},
     "output_type": "execute_result"
    }
   ],
   "source": [
    "siab"
   ]
  },
  {
   "cell_type": "markdown",
   "id": "1f87e805",
   "metadata": {
    "papermill": {
     "duration": 0.011612,
     "end_time": "2025-08-19T18:31:22.699408",
     "exception": false,
     "start_time": "2025-08-19T18:31:22.687796",
     "status": "completed"
    },
    "tags": []
   },
   "source": [
    "# Splitting Data and Setting Training Data Size"
   ]
  },
  {
   "cell_type": "code",
   "execution_count": 11,
   "id": "910ae358",
   "metadata": {
    "execution": {
     "iopub.execute_input": "2025-08-19T18:31:22.721480Z",
     "iopub.status.busy": "2025-08-19T18:31:22.720354Z",
     "iopub.status.idle": "2025-08-19T18:31:23.362473Z",
     "shell.execute_reply": "2025-08-19T18:31:23.361331Z"
    },
    "papermill": {
     "duration": 0.6563,
     "end_time": "2025-08-19T18:31:23.365305",
     "exception": false,
     "start_time": "2025-08-19T18:31:22.709005",
     "status": "completed"
    },
    "tags": []
   },
   "outputs": [],
   "source": [
    "from fairness_multiverse.universe import sample_by_year_size\n",
    "\n",
    "siab_train = sample_by_year_size(siab,\n",
    "                               training_year=universe[\"training_year\"],\n",
    "                               training_size=universe[\"training_size\"])"
   ]
  },
  {
   "cell_type": "code",
   "execution_count": 12,
   "id": "919c8ff5",
   "metadata": {
    "execution": {
     "iopub.execute_input": "2025-08-19T18:31:23.402549Z",
     "iopub.status.busy": "2025-08-19T18:31:23.401570Z",
     "iopub.status.idle": "2025-08-19T18:31:23.414041Z",
     "shell.execute_reply": "2025-08-19T18:31:23.412877Z"
    },
    "papermill": {
     "duration": 0.027818,
     "end_time": "2025-08-19T18:31:23.415477",
     "exception": false,
     "start_time": "2025-08-19T18:31:23.387659",
     "status": "completed"
    },
    "tags": []
   },
   "outputs": [
    {
     "data": {
      "text/plain": [
       "(5000, 164)"
      ]
     },
     "execution_count": 12,
     "metadata": {},
     "output_type": "execute_result"
    }
   ],
   "source": [
    "siab_train.shape"
   ]
  },
  {
   "cell_type": "code",
   "execution_count": 13,
   "id": "feb13bf4",
   "metadata": {
    "execution": {
     "iopub.execute_input": "2025-08-19T18:31:23.441531Z",
     "iopub.status.busy": "2025-08-19T18:31:23.440439Z",
     "iopub.status.idle": "2025-08-19T18:31:23.455820Z",
     "shell.execute_reply": "2025-08-19T18:31:23.454718Z"
    },
    "papermill": {
     "duration": 0.029159,
     "end_time": "2025-08-19T18:31:23.457278",
     "exception": false,
     "start_time": "2025-08-19T18:31:23.428119",
     "status": "completed"
    },
    "tags": []
   },
   "outputs": [
    {
     "data": {
      "text/plain": [
       "year\n",
       "2012    1667\n",
       "2013    1667\n",
       "2014    1666\n",
       "dtype: int64"
      ]
     },
     "metadata": {},
     "output_type": "display_data"
    }
   ],
   "source": [
    "display(siab_train.groupby(\"year\").size())"
   ]
  },
  {
   "cell_type": "code",
   "execution_count": 14,
   "id": "0997782f",
   "metadata": {
    "execution": {
     "iopub.execute_input": "2025-08-19T18:31:23.499173Z",
     "iopub.status.busy": "2025-08-19T18:31:23.498217Z",
     "iopub.status.idle": "2025-08-19T18:31:23.761286Z",
     "shell.execute_reply": "2025-08-19T18:31:23.760603Z"
    },
    "papermill": {
     "duration": 0.291858,
     "end_time": "2025-08-19T18:31:23.762605",
     "exception": false,
     "start_time": "2025-08-19T18:31:23.470747",
     "status": "completed"
    },
    "tags": []
   },
   "outputs": [],
   "source": [
    "#siab_train = siab_s[siab_s.year < 2015]\n",
    "siab_calib = siab[siab.year == 2015]\n",
    "siab_test = siab[siab.year == 2016]"
   ]
  },
  {
   "cell_type": "code",
   "execution_count": 15,
   "id": "2c1e4012",
   "metadata": {
    "execution": {
     "iopub.execute_input": "2025-08-19T18:31:23.790349Z",
     "iopub.status.busy": "2025-08-19T18:31:23.789048Z",
     "iopub.status.idle": "2025-08-19T18:31:23.795827Z",
     "shell.execute_reply": "2025-08-19T18:31:23.794941Z"
    },
    "papermill": {
     "duration": 0.023831,
     "end_time": "2025-08-19T18:31:23.797281",
     "exception": false,
     "start_time": "2025-08-19T18:31:23.773450",
     "status": "completed"
    },
    "tags": []
   },
   "outputs": [],
   "source": [
    "#siab_calib.shape"
   ]
  },
  {
   "cell_type": "code",
   "execution_count": 16,
   "id": "f66b54ca",
   "metadata": {
    "execution": {
     "iopub.execute_input": "2025-08-19T18:31:23.822494Z",
     "iopub.status.busy": "2025-08-19T18:31:23.821626Z",
     "iopub.status.idle": "2025-08-19T18:31:23.826988Z",
     "shell.execute_reply": "2025-08-19T18:31:23.826040Z"
    },
    "papermill": {
     "duration": 0.018514,
     "end_time": "2025-08-19T18:31:23.828423",
     "exception": false,
     "start_time": "2025-08-19T18:31:23.809909",
     "status": "completed"
    },
    "tags": []
   },
   "outputs": [],
   "source": [
    "#siab_test.shape"
   ]
  },
  {
   "cell_type": "code",
   "execution_count": 17,
   "id": "27e4384d",
   "metadata": {
    "execution": {
     "iopub.execute_input": "2025-08-19T18:31:23.849440Z",
     "iopub.status.busy": "2025-08-19T18:31:23.849196Z",
     "iopub.status.idle": "2025-08-19T18:31:23.856692Z",
     "shell.execute_reply": "2025-08-19T18:31:23.855689Z"
    },
    "papermill": {
     "duration": 0.019775,
     "end_time": "2025-08-19T18:31:23.858223",
     "exception": false,
     "start_time": "2025-08-19T18:31:23.838448",
     "status": "completed"
    },
    "tags": []
   },
   "outputs": [],
   "source": [
    "X_train = siab_train.iloc[:,4:164]\n",
    "y_train = siab_train.iloc[:, [3]]"
   ]
  },
  {
   "cell_type": "code",
   "execution_count": 18,
   "id": "08ee8389",
   "metadata": {
    "execution": {
     "iopub.execute_input": "2025-08-19T18:31:23.881878Z",
     "iopub.status.busy": "2025-08-19T18:31:23.881594Z",
     "iopub.status.idle": "2025-08-19T18:31:23.943248Z",
     "shell.execute_reply": "2025-08-19T18:31:23.942129Z"
    },
    "papermill": {
     "duration": 0.074639,
     "end_time": "2025-08-19T18:31:23.945072",
     "exception": false,
     "start_time": "2025-08-19T18:31:23.870433",
     "status": "completed"
    },
    "tags": []
   },
   "outputs": [],
   "source": [
    "X_calib = siab_calib.iloc[:,4:164]\n",
    "y_calib = siab_calib.iloc[:, [3]]"
   ]
  },
  {
   "cell_type": "code",
   "execution_count": 19,
   "id": "b7ff42e0",
   "metadata": {
    "execution": {
     "iopub.execute_input": "2025-08-19T18:31:23.976204Z",
     "iopub.status.busy": "2025-08-19T18:31:23.974993Z",
     "iopub.status.idle": "2025-08-19T18:31:24.042244Z",
     "shell.execute_reply": "2025-08-19T18:31:24.041253Z"
    },
    "papermill": {
     "duration": 0.082018,
     "end_time": "2025-08-19T18:31:24.044219",
     "exception": false,
     "start_time": "2025-08-19T18:31:23.962201",
     "status": "completed"
    },
    "tags": []
   },
   "outputs": [],
   "source": [
    "X_test = siab_test.iloc[:,4:164]\n",
    "y_true = siab_test.iloc[:, [3]]"
   ]
  },
  {
   "cell_type": "code",
   "execution_count": 20,
   "id": "0275101e",
   "metadata": {
    "execution": {
     "iopub.execute_input": "2025-08-19T18:31:24.071243Z",
     "iopub.status.busy": "2025-08-19T18:31:24.070314Z",
     "iopub.status.idle": "2025-08-19T18:31:24.199308Z",
     "shell.execute_reply": "2025-08-19T18:31:24.198111Z"
    },
    "papermill": {
     "duration": 0.144452,
     "end_time": "2025-08-19T18:31:24.202843",
     "exception": false,
     "start_time": "2025-08-19T18:31:24.058391",
     "status": "completed"
    },
    "tags": []
   },
   "outputs": [],
   "source": [
    "# Auxiliary data needed downstream in the pipeline\n",
    "\n",
    "org_train = X_train.copy()\n",
    "org_test = X_test.copy()\n",
    "org_calib = X_calib.copy()"
   ]
  },
  {
   "cell_type": "markdown",
   "id": "b461e618",
   "metadata": {
    "papermill": {
     "duration": 0.012007,
     "end_time": "2025-08-19T18:31:24.237759",
     "exception": false,
     "start_time": "2025-08-19T18:31:24.225752",
     "status": "completed"
    },
    "tags": []
   },
   "source": [
    "# Preprocessing Data"
   ]
  },
  {
   "cell_type": "code",
   "execution_count": 21,
   "id": "78e74c4b",
   "metadata": {
    "execution": {
     "iopub.execute_input": "2025-08-19T18:31:24.260784Z",
     "iopub.status.busy": "2025-08-19T18:31:24.259700Z",
     "iopub.status.idle": "2025-08-19T18:31:24.268525Z",
     "shell.execute_reply": "2025-08-19T18:31:24.267202Z"
    },
    "papermill": {
     "duration": 0.022175,
     "end_time": "2025-08-19T18:31:24.270178",
     "exception": false,
     "start_time": "2025-08-19T18:31:24.248003",
     "status": "completed"
    },
    "tags": []
   },
   "outputs": [],
   "source": [
    "# EXCLUDE PROTECTED FEATURES\n",
    "# --------------------------\n",
    "\n",
    "excluded_features = universe[\"exclude_features\"].split(\"-\")\n",
    "excluded_features_dictionary = {\n",
    "    \"nationality\": [\"maxdeutsch1\", \"maxdeutsch.Missing.\"],\n",
    "    \"sex\": [\"frau1\"],\n",
    "    \"age\": [\"age\"],\n",
    "}"
   ]
  },
  {
   "cell_type": "code",
   "execution_count": 22,
   "id": "f8e63555",
   "metadata": {
    "execution": {
     "iopub.execute_input": "2025-08-19T18:31:24.294571Z",
     "iopub.status.busy": "2025-08-19T18:31:24.293527Z",
     "iopub.status.idle": "2025-08-19T18:31:24.301854Z",
     "shell.execute_reply": "2025-08-19T18:31:24.300508Z"
    },
    "papermill": {
     "duration": 0.022055,
     "end_time": "2025-08-19T18:31:24.303860",
     "exception": false,
     "start_time": "2025-08-19T18:31:24.281805",
     "status": "completed"
    },
    "tags": []
   },
   "outputs": [],
   "source": [
    "excluded_features_columns = [\n",
    "    excluded_features_dictionary[f] for f in excluded_features if len(f) > 0 and f != \"none\"\n",
    "]"
   ]
  },
  {
   "cell_type": "code",
   "execution_count": 23,
   "id": "da781f7c",
   "metadata": {
    "execution": {
     "iopub.execute_input": "2025-08-19T18:31:24.329783Z",
     "iopub.status.busy": "2025-08-19T18:31:24.328790Z",
     "iopub.status.idle": "2025-08-19T18:31:24.336887Z",
     "shell.execute_reply": "2025-08-19T18:31:24.335566Z"
    },
    "papermill": {
     "duration": 0.021583,
     "end_time": "2025-08-19T18:31:24.338451",
     "exception": false,
     "start_time": "2025-08-19T18:31:24.316868",
     "status": "completed"
    },
    "tags": []
   },
   "outputs": [],
   "source": [
    "from fairness_multiverse.universe import flatten_once\n",
    "\n",
    "excluded_features_columns = flatten_once(excluded_features_columns)"
   ]
  },
  {
   "cell_type": "code",
   "execution_count": 24,
   "id": "37fef0f0",
   "metadata": {
    "execution": {
     "iopub.execute_input": "2025-08-19T18:31:24.362560Z",
     "iopub.status.busy": "2025-08-19T18:31:24.361609Z",
     "iopub.status.idle": "2025-08-19T18:31:24.381967Z",
     "shell.execute_reply": "2025-08-19T18:31:24.380678Z"
    },
    "papermill": {
     "duration": 0.034574,
     "end_time": "2025-08-19T18:31:24.384293",
     "exception": false,
     "start_time": "2025-08-19T18:31:24.349719",
     "status": "completed"
    },
    "tags": []
   },
   "outputs": [
    {
     "name": "stdout",
     "output_type": "stream",
     "text": [
      "Dropping features: ['frau1']\n"
     ]
    }
   ],
   "source": [
    "if len(excluded_features_columns) > 0:\n",
    "    print(f\"Dropping features: {excluded_features_columns}\")\n",
    "    X_train.drop(excluded_features_columns, axis=1, inplace=True)"
   ]
  },
  {
   "cell_type": "code",
   "execution_count": 25,
   "id": "d029e3e9",
   "metadata": {
    "execution": {
     "iopub.execute_input": "2025-08-19T18:31:24.414067Z",
     "iopub.status.busy": "2025-08-19T18:31:24.413063Z",
     "iopub.status.idle": "2025-08-19T18:31:24.477295Z",
     "shell.execute_reply": "2025-08-19T18:31:24.475400Z"
    },
    "papermill": {
     "duration": 0.093971,
     "end_time": "2025-08-19T18:31:24.494668",
     "exception": false,
     "start_time": "2025-08-19T18:31:24.400697",
     "status": "completed"
    },
    "tags": []
   },
   "outputs": [
    {
     "name": "stdout",
     "output_type": "stream",
     "text": [
      "Dropping features: ['frau1']\n"
     ]
    }
   ],
   "source": [
    "if len(excluded_features_columns) > 0:\n",
    "    print(f\"Dropping features: {excluded_features_columns}\")\n",
    "    X_test.drop(excluded_features_columns, axis=1, inplace=True)"
   ]
  },
  {
   "cell_type": "code",
   "execution_count": 26,
   "id": "01d571f0",
   "metadata": {
    "execution": {
     "iopub.execute_input": "2025-08-19T18:31:24.527931Z",
     "iopub.status.busy": "2025-08-19T18:31:24.527223Z",
     "iopub.status.idle": "2025-08-19T18:31:24.598547Z",
     "shell.execute_reply": "2025-08-19T18:31:24.597569Z"
    },
    "papermill": {
     "duration": 0.086091,
     "end_time": "2025-08-19T18:31:24.600149",
     "exception": false,
     "start_time": "2025-08-19T18:31:24.514058",
     "status": "completed"
    },
    "tags": []
   },
   "outputs": [
    {
     "name": "stdout",
     "output_type": "stream",
     "text": [
      "Dropping features: ['frau1']\n"
     ]
    }
   ],
   "source": [
    "if len(excluded_features_columns) > 0:\n",
    "    print(f\"Dropping features: {excluded_features_columns}\")\n",
    "    X_calib.drop(excluded_features_columns, axis=1, inplace=True)"
   ]
  },
  {
   "cell_type": "code",
   "execution_count": 27,
   "id": "3037356e",
   "metadata": {
    "execution": {
     "iopub.execute_input": "2025-08-19T18:31:24.625342Z",
     "iopub.status.busy": "2025-08-19T18:31:24.624650Z",
     "iopub.status.idle": "2025-08-19T18:31:24.631327Z",
     "shell.execute_reply": "2025-08-19T18:31:24.629996Z"
    },
    "papermill": {
     "duration": 0.019921,
     "end_time": "2025-08-19T18:31:24.632921",
     "exception": false,
     "start_time": "2025-08-19T18:31:24.613000",
     "status": "completed"
    },
    "tags": []
   },
   "outputs": [],
   "source": [
    "# EXCLUDE CERTAIN SUBGROUPS\n",
    "# -------------------------\n",
    "\n",
    "mode = universe.get(\"exclude_subgroups\", \"keep-all\") # Defaults to \"keep-all\" if the key is missing."
   ]
  },
  {
   "cell_type": "code",
   "execution_count": 28,
   "id": "9d1e63fd",
   "metadata": {
    "execution": {
     "iopub.execute_input": "2025-08-19T18:31:24.659550Z",
     "iopub.status.busy": "2025-08-19T18:31:24.658332Z",
     "iopub.status.idle": "2025-08-19T18:31:24.668755Z",
     "shell.execute_reply": "2025-08-19T18:31:24.667532Z"
    },
    "papermill": {
     "duration": 0.024291,
     "end_time": "2025-08-19T18:31:24.670538",
     "exception": false,
     "start_time": "2025-08-19T18:31:24.646247",
     "status": "completed"
    },
    "tags": []
   },
   "outputs": [],
   "source": [
    "if mode == \"keep-all\":\n",
    "    keep_mask = pd.Series(True, index=org_train.index)\n",
    "\n",
    "elif mode == \"drop-non-german\":\n",
    "    keep_mask = (org_train[\"maxdeutsch1\"] == 1) & (org_train[\"maxdeutsch.Missing.\"] == 0)\n",
    "\n",
    "else:\n",
    "    raise ValueError(f\"Unsupported mode for exclude_subgroups: {mode}\")"
   ]
  },
  {
   "cell_type": "code",
   "execution_count": 29,
   "id": "d3b65474",
   "metadata": {
    "execution": {
     "iopub.execute_input": "2025-08-19T18:31:24.697097Z",
     "iopub.status.busy": "2025-08-19T18:31:24.695876Z",
     "iopub.status.idle": "2025-08-19T18:31:24.705742Z",
     "shell.execute_reply": "2025-08-19T18:31:24.704334Z"
    },
    "papermill": {
     "duration": 0.023804,
     "end_time": "2025-08-19T18:31:24.707564",
     "exception": false,
     "start_time": "2025-08-19T18:31:24.683760",
     "status": "completed"
    },
    "tags": []
   },
   "outputs": [],
   "source": [
    "n_drop = (~keep_mask).sum() # Calculates how many rows are set to be dropped\n",
    "if n_drop > 0:\n",
    "    pct = n_drop / len(keep_mask) * 100\n",
    "    print(f\"Dropping {n_drop} rows ({pct:.2f}%) where mode='{mode}'\")"
   ]
  },
  {
   "cell_type": "code",
   "execution_count": 30,
   "id": "f44389b3",
   "metadata": {
    "execution": {
     "iopub.execute_input": "2025-08-19T18:31:24.734797Z",
     "iopub.status.busy": "2025-08-19T18:31:24.733441Z",
     "iopub.status.idle": "2025-08-19T18:31:24.745072Z",
     "shell.execute_reply": "2025-08-19T18:31:24.743735Z"
    },
    "papermill": {
     "duration": 0.025801,
     "end_time": "2025-08-19T18:31:24.746687",
     "exception": false,
     "start_time": "2025-08-19T18:31:24.720886",
     "status": "completed"
    },
    "tags": []
   },
   "outputs": [],
   "source": [
    "X_train = X_train[keep_mask]"
   ]
  },
  {
   "cell_type": "code",
   "execution_count": 31,
   "id": "ceca8c2a",
   "metadata": {
    "execution": {
     "iopub.execute_input": "2025-08-19T18:31:24.773732Z",
     "iopub.status.busy": "2025-08-19T18:31:24.772430Z",
     "iopub.status.idle": "2025-08-19T18:31:24.781216Z",
     "shell.execute_reply": "2025-08-19T18:31:24.779925Z"
    },
    "papermill": {
     "duration": 0.022559,
     "end_time": "2025-08-19T18:31:24.782737",
     "exception": false,
     "start_time": "2025-08-19T18:31:24.760178",
     "status": "completed"
    },
    "tags": []
   },
   "outputs": [],
   "source": [
    "y_train = y_train[keep_mask]"
   ]
  },
  {
   "cell_type": "markdown",
   "id": "04d31e2f",
   "metadata": {
    "papermill": {
     "duration": 0.010761,
     "end_time": "2025-08-19T18:31:24.807593",
     "exception": false,
     "start_time": "2025-08-19T18:31:24.796832",
     "status": "completed"
    },
    "tags": []
   },
   "source": [
    "# Model Training"
   ]
  },
  {
   "cell_type": "code",
   "execution_count": 32,
   "id": "db991733",
   "metadata": {
    "execution": {
     "iopub.execute_input": "2025-08-19T18:31:24.831942Z",
     "iopub.status.busy": "2025-08-19T18:31:24.830478Z",
     "iopub.status.idle": "2025-08-19T18:31:24.946767Z",
     "shell.execute_reply": "2025-08-19T18:31:24.945831Z"
    },
    "papermill": {
     "duration": 0.131603,
     "end_time": "2025-08-19T18:31:24.949767",
     "exception": false,
     "start_time": "2025-08-19T18:31:24.818164",
     "status": "completed"
    },
    "tags": []
   },
   "outputs": [],
   "source": [
    "from sklearn.linear_model import LogisticRegression\n",
    "from sklearn.ensemble import GradientBoostingClassifier, RandomForestClassifier\n",
    "\n",
    "if (universe[\"model\"] == \"logreg\"):\n",
    "    model = LogisticRegression() #penalty=\"none\", solver=\"newton-cg\", max_iter=1)\n",
    "elif (universe[\"model\"] == \"penalized_logreg\"):\n",
    "    model = LogisticRegression(penalty=\"l2\", C=0.1) #, solver=\"newton-cg\", max_iter=1)\n",
    "elif (universe[\"model\"] == \"rf\"):\n",
    "    model = RandomForestClassifier() # n_estimators=100, n_jobs=-1\n",
    "elif (universe[\"model\"] == \"gbm\"):\n",
    "    model = GradientBoostingClassifier()\n",
    "elif (universe[\"model\"] == \"elasticnet\"):\n",
    "    model = LogisticRegression(penalty = 'elasticnet', solver = 'saga', l1_ratio = 0.5) # max_iter=5000\n",
    "else:\n",
    "    raise \"Unsupported universe.model\""
   ]
  },
  {
   "cell_type": "code",
   "execution_count": 33,
   "id": "a4b5cd25",
   "metadata": {
    "execution": {
     "iopub.execute_input": "2025-08-19T18:31:25.006542Z",
     "iopub.status.busy": "2025-08-19T18:31:25.005260Z",
     "iopub.status.idle": "2025-08-19T18:31:25.014773Z",
     "shell.execute_reply": "2025-08-19T18:31:25.013451Z"
    },
    "papermill": {
     "duration": 0.041904,
     "end_time": "2025-08-19T18:31:25.016246",
     "exception": false,
     "start_time": "2025-08-19T18:31:24.974342",
     "status": "completed"
    },
    "tags": []
   },
   "outputs": [],
   "source": [
    "from sklearn.pipeline import Pipeline\n",
    "from sklearn.preprocessing import StandardScaler\n",
    "\n",
    "model = Pipeline([\n",
    "    #(\"continuous_processor\", continuous_processor),\n",
    "    #(\"categorical_preprocessor\", categorical_preprocessor),\n",
    "    (\"scale\", StandardScaler() if universe[\"scale\"] == \"scale\" else None), \n",
    "    (\"model\", model),\n",
    "])"
   ]
  },
  {
   "cell_type": "code",
   "execution_count": 34,
   "id": "283a904d",
   "metadata": {
    "execution": {
     "iopub.execute_input": "2025-08-19T18:31:25.040682Z",
     "iopub.status.busy": "2025-08-19T18:31:25.039556Z",
     "iopub.status.idle": "2025-08-19T18:31:25.214341Z",
     "shell.execute_reply": "2025-08-19T18:31:25.213238Z"
    },
    "papermill": {
     "duration": 0.188113,
     "end_time": "2025-08-19T18:31:25.215701",
     "exception": false,
     "start_time": "2025-08-19T18:31:25.027588",
     "status": "completed"
    },
    "tags": []
   },
   "outputs": [
    {
     "name": "stderr",
     "output_type": "stream",
     "text": [
      "/dss/dsshome1/0C/ra93lal2/.local/share/virtualenvs/CMA_Fairness_v2-3j10GkSs/lib/python3.10/site-packages/sklearn/linear_model/_logistic.py:444: ConvergenceWarning: lbfgs failed to converge (status=1):\n",
      "STOP: TOTAL NO. of ITERATIONS REACHED LIMIT.\n",
      "\n",
      "Increase the number of iterations (max_iter) or scale the data as shown in:\n",
      "    https://scikit-learn.org/stable/modules/preprocessing.html\n",
      "Please also refer to the documentation for alternative solver options:\n",
      "    https://scikit-learn.org/stable/modules/linear_model.html#logistic-regression\n",
      "  n_iter_i = _check_optimize_result(\n"
     ]
    },
    {
     "data": {
      "text/html": [
       "<style>#sk-container-id-1 {color: black;background-color: white;}#sk-container-id-1 pre{padding: 0;}#sk-container-id-1 div.sk-toggleable {background-color: white;}#sk-container-id-1 label.sk-toggleable__label {cursor: pointer;display: block;width: 100%;margin-bottom: 0;padding: 0.3em;box-sizing: border-box;text-align: center;}#sk-container-id-1 label.sk-toggleable__label-arrow:before {content: \"▸\";float: left;margin-right: 0.25em;color: #696969;}#sk-container-id-1 label.sk-toggleable__label-arrow:hover:before {color: black;}#sk-container-id-1 div.sk-estimator:hover label.sk-toggleable__label-arrow:before {color: black;}#sk-container-id-1 div.sk-toggleable__content {max-height: 0;max-width: 0;overflow: hidden;text-align: left;background-color: #f0f8ff;}#sk-container-id-1 div.sk-toggleable__content pre {margin: 0.2em;color: black;border-radius: 0.25em;background-color: #f0f8ff;}#sk-container-id-1 input.sk-toggleable__control:checked~div.sk-toggleable__content {max-height: 200px;max-width: 100%;overflow: auto;}#sk-container-id-1 input.sk-toggleable__control:checked~label.sk-toggleable__label-arrow:before {content: \"▾\";}#sk-container-id-1 div.sk-estimator input.sk-toggleable__control:checked~label.sk-toggleable__label {background-color: #d4ebff;}#sk-container-id-1 div.sk-label input.sk-toggleable__control:checked~label.sk-toggleable__label {background-color: #d4ebff;}#sk-container-id-1 input.sk-hidden--visually {border: 0;clip: rect(1px 1px 1px 1px);clip: rect(1px, 1px, 1px, 1px);height: 1px;margin: -1px;overflow: hidden;padding: 0;position: absolute;width: 1px;}#sk-container-id-1 div.sk-estimator {font-family: monospace;background-color: #f0f8ff;border: 1px dotted black;border-radius: 0.25em;box-sizing: border-box;margin-bottom: 0.5em;}#sk-container-id-1 div.sk-estimator:hover {background-color: #d4ebff;}#sk-container-id-1 div.sk-parallel-item::after {content: \"\";width: 100%;border-bottom: 1px solid gray;flex-grow: 1;}#sk-container-id-1 div.sk-label:hover label.sk-toggleable__label {background-color: #d4ebff;}#sk-container-id-1 div.sk-serial::before {content: \"\";position: absolute;border-left: 1px solid gray;box-sizing: border-box;top: 0;bottom: 0;left: 50%;z-index: 0;}#sk-container-id-1 div.sk-serial {display: flex;flex-direction: column;align-items: center;background-color: white;padding-right: 0.2em;padding-left: 0.2em;position: relative;}#sk-container-id-1 div.sk-item {position: relative;z-index: 1;}#sk-container-id-1 div.sk-parallel {display: flex;align-items: stretch;justify-content: center;background-color: white;position: relative;}#sk-container-id-1 div.sk-item::before, #sk-container-id-1 div.sk-parallel-item::before {content: \"\";position: absolute;border-left: 1px solid gray;box-sizing: border-box;top: 0;bottom: 0;left: 50%;z-index: -1;}#sk-container-id-1 div.sk-parallel-item {display: flex;flex-direction: column;z-index: 1;position: relative;background-color: white;}#sk-container-id-1 div.sk-parallel-item:first-child::after {align-self: flex-end;width: 50%;}#sk-container-id-1 div.sk-parallel-item:last-child::after {align-self: flex-start;width: 50%;}#sk-container-id-1 div.sk-parallel-item:only-child::after {width: 0;}#sk-container-id-1 div.sk-dashed-wrapped {border: 1px dashed gray;margin: 0 0.4em 0.5em 0.4em;box-sizing: border-box;padding-bottom: 0.4em;background-color: white;}#sk-container-id-1 div.sk-label label {font-family: monospace;font-weight: bold;display: inline-block;line-height: 1.2em;}#sk-container-id-1 div.sk-label-container {text-align: center;}#sk-container-id-1 div.sk-container {/* jupyter's `normalize.less` sets `[hidden] { display: none; }` but bootstrap.min.css set `[hidden] { display: none !important; }` so we also need the `!important` here to be able to override the default hidden behavior on the sphinx rendered scikit-learn.org. See: https://github.com/scikit-learn/scikit-learn/issues/21755 */display: inline-block !important;position: relative;}#sk-container-id-1 div.sk-text-repr-fallback {display: none;}</style><div id=\"sk-container-id-1\" class=\"sk-top-container\"><div class=\"sk-text-repr-fallback\"><pre>Pipeline(steps=[(&#x27;scale&#x27;, StandardScaler()), (&#x27;model&#x27;, LogisticRegression())])</pre><b>In a Jupyter environment, please rerun this cell to show the HTML representation or trust the notebook. <br />On GitHub, the HTML representation is unable to render, please try loading this page with nbviewer.org.</b></div><div class=\"sk-container\" hidden><div class=\"sk-item sk-dashed-wrapped\"><div class=\"sk-label-container\"><div class=\"sk-label sk-toggleable\"><input class=\"sk-toggleable__control sk-hidden--visually\" id=\"sk-estimator-id-1\" type=\"checkbox\" ><label for=\"sk-estimator-id-1\" class=\"sk-toggleable__label sk-toggleable__label-arrow\">Pipeline</label><div class=\"sk-toggleable__content\"><pre>Pipeline(steps=[(&#x27;scale&#x27;, StandardScaler()), (&#x27;model&#x27;, LogisticRegression())])</pre></div></div></div><div class=\"sk-serial\"><div class=\"sk-item\"><div class=\"sk-estimator sk-toggleable\"><input class=\"sk-toggleable__control sk-hidden--visually\" id=\"sk-estimator-id-2\" type=\"checkbox\" ><label for=\"sk-estimator-id-2\" class=\"sk-toggleable__label sk-toggleable__label-arrow\">StandardScaler</label><div class=\"sk-toggleable__content\"><pre>StandardScaler()</pre></div></div></div><div class=\"sk-item\"><div class=\"sk-estimator sk-toggleable\"><input class=\"sk-toggleable__control sk-hidden--visually\" id=\"sk-estimator-id-3\" type=\"checkbox\" ><label for=\"sk-estimator-id-3\" class=\"sk-toggleable__label sk-toggleable__label-arrow\">LogisticRegression</label><div class=\"sk-toggleable__content\"><pre>LogisticRegression()</pre></div></div></div></div></div></div></div>"
      ],
      "text/plain": [
       "Pipeline(steps=[('scale', StandardScaler()), ('model', LogisticRegression())])"
      ]
     },
     "execution_count": 34,
     "metadata": {},
     "output_type": "execute_result"
    }
   ],
   "source": [
    "model.fit(X_train, y_train.values.ravel())"
   ]
  },
  {
   "cell_type": "code",
   "execution_count": 35,
   "id": "6e15e313",
   "metadata": {
    "execution": {
     "iopub.execute_input": "2025-08-19T18:31:25.242717Z",
     "iopub.status.busy": "2025-08-19T18:31:25.242021Z",
     "iopub.status.idle": "2025-08-19T18:31:25.450566Z",
     "shell.execute_reply": "2025-08-19T18:31:25.449258Z"
    },
    "papermill": {
     "duration": 0.22195,
     "end_time": "2025-08-19T18:31:25.451903",
     "exception": false,
     "start_time": "2025-08-19T18:31:25.229953",
     "status": "completed"
    },
    "tags": []
   },
   "outputs": [
    {
     "data": {
      "text/plain": [
       "0.8568609965444209"
      ]
     },
     "execution_count": 35,
     "metadata": {},
     "output_type": "execute_result"
    }
   ],
   "source": [
    "from fairness_multiverse.universe import predict_w_threshold\n",
    "\n",
    "probs_test = model.predict_proba(X_test)\n",
    "\n",
    "'''\n",
    "Below code returns a boolean array (or binary 0/1 array depending on how it’s used) where each element \n",
    "is True if the probability of class 1 is greater than or equal to the threshold, and False otherwise.\n",
    "'''\n",
    "y_pred_default = predict_w_threshold(probs_test, 0.5)\n",
    "\n",
    "from sklearn.metrics import accuracy_score\n",
    "\n",
    "# Naive prediction\n",
    "accuracy_score(y_true = y_true, y_pred = y_pred_default)"
   ]
  },
  {
   "cell_type": "code",
   "execution_count": 36,
   "id": "6f14067c",
   "metadata": {
    "execution": {
     "iopub.execute_input": "2025-08-19T18:31:25.478943Z",
     "iopub.status.busy": "2025-08-19T18:31:25.478525Z",
     "iopub.status.idle": "2025-08-19T18:31:25.659090Z",
     "shell.execute_reply": "2025-08-19T18:31:25.657909Z"
    },
    "papermill": {
     "duration": 0.194694,
     "end_time": "2025-08-19T18:31:25.661099",
     "exception": false,
     "start_time": "2025-08-19T18:31:25.466405",
     "status": "completed"
    },
    "tags": []
   },
   "outputs": [
    {
     "data": {
      "text/plain": [
       "array([0, 0, 0, ..., 0, 0, 0])"
      ]
     },
     "execution_count": 36,
     "metadata": {},
     "output_type": "execute_result"
    }
   ],
   "source": [
    "model.predict(X_test)"
   ]
  },
  {
   "cell_type": "markdown",
   "id": "3759920c",
   "metadata": {
    "papermill": {
     "duration": 0.011512,
     "end_time": "2025-08-19T18:31:25.694716",
     "exception": false,
     "start_time": "2025-08-19T18:31:25.683204",
     "status": "completed"
    },
    "tags": []
   },
   "source": [
    "# Conformal Prediction"
   ]
  },
  {
   "cell_type": "code",
   "execution_count": 37,
   "id": "14b27f59",
   "metadata": {
    "execution": {
     "iopub.execute_input": "2025-08-19T18:31:25.720251Z",
     "iopub.status.busy": "2025-08-19T18:31:25.718904Z",
     "iopub.status.idle": "2025-08-19T18:31:25.726515Z",
     "shell.execute_reply": "2025-08-19T18:31:25.725177Z"
    },
    "papermill": {
     "duration": 0.022589,
     "end_time": "2025-08-19T18:31:25.728379",
     "exception": false,
     "start_time": "2025-08-19T18:31:25.705790",
     "status": "completed"
    },
    "tags": []
   },
   "outputs": [],
   "source": [
    "# Miscoverage level for conformal prediction (10% allowed error rate => 90% target coverage)\n",
    "alpha = 0.1"
   ]
  },
  {
   "cell_type": "code",
   "execution_count": 38,
   "id": "59102472",
   "metadata": {
    "execution": {
     "iopub.execute_input": "2025-08-19T18:31:25.759424Z",
     "iopub.status.busy": "2025-08-19T18:31:25.757828Z",
     "iopub.status.idle": "2025-08-19T18:31:25.982198Z",
     "shell.execute_reply": "2025-08-19T18:31:25.980855Z"
    },
    "papermill": {
     "duration": 0.239584,
     "end_time": "2025-08-19T18:31:25.984000",
     "exception": false,
     "start_time": "2025-08-19T18:31:25.744416",
     "status": "completed"
    },
    "tags": []
   },
   "outputs": [],
   "source": [
    "probs_calib = model.predict_proba(X_calib)"
   ]
  },
  {
   "cell_type": "code",
   "execution_count": 39,
   "id": "a792d4dd",
   "metadata": {
    "execution": {
     "iopub.execute_input": "2025-08-19T18:31:26.010327Z",
     "iopub.status.busy": "2025-08-19T18:31:26.009827Z",
     "iopub.status.idle": "2025-08-19T18:31:26.019091Z",
     "shell.execute_reply": "2025-08-19T18:31:26.018001Z"
    },
    "papermill": {
     "duration": 0.024312,
     "end_time": "2025-08-19T18:31:26.021161",
     "exception": false,
     "start_time": "2025-08-19T18:31:25.996849",
     "status": "completed"
    },
    "tags": []
   },
   "outputs": [],
   "source": [
    "y_calib = y_calib.values.ravel().astype(int)"
   ]
  },
  {
   "cell_type": "code",
   "execution_count": 40,
   "id": "650fd033",
   "metadata": {
    "execution": {
     "iopub.execute_input": "2025-08-19T18:31:26.050780Z",
     "iopub.status.busy": "2025-08-19T18:31:26.049308Z",
     "iopub.status.idle": "2025-08-19T18:31:26.062043Z",
     "shell.execute_reply": "2025-08-19T18:31:26.060900Z"
    },
    "papermill": {
     "duration": 0.027377,
     "end_time": "2025-08-19T18:31:26.063832",
     "exception": false,
     "start_time": "2025-08-19T18:31:26.036455",
     "status": "completed"
    },
    "tags": []
   },
   "outputs": [],
   "source": [
    "from fairness_multiverse.conformal import compute_nc_scores\n",
    "\n",
    "# Compute nonconformity scores on calibration set (1 - probability of true class)\n",
    "nc_scores = compute_nc_scores(probs_calib, y_calib)"
   ]
  },
  {
   "cell_type": "code",
   "execution_count": 41,
   "id": "28ada44c",
   "metadata": {
    "execution": {
     "iopub.execute_input": "2025-08-19T18:31:26.096384Z",
     "iopub.status.busy": "2025-08-19T18:31:26.094921Z",
     "iopub.status.idle": "2025-08-19T18:31:26.106875Z",
     "shell.execute_reply": "2025-08-19T18:31:26.105562Z"
    },
    "papermill": {
     "duration": 0.027058,
     "end_time": "2025-08-19T18:31:26.108813",
     "exception": false,
     "start_time": "2025-08-19T18:31:26.081755",
     "status": "completed"
    },
    "tags": []
   },
   "outputs": [],
   "source": [
    "from fairness_multiverse.conformal import find_threshold\n",
    "\n",
    "# Find conformal threshold q_hat for the given alpha (split conformal method)\n",
    "q_hat = find_threshold(nc_scores, alpha)"
   ]
  },
  {
   "cell_type": "code",
   "execution_count": 42,
   "id": "df56469e",
   "metadata": {
    "execution": {
     "iopub.execute_input": "2025-08-19T18:31:26.139751Z",
     "iopub.status.busy": "2025-08-19T18:31:26.138263Z",
     "iopub.status.idle": "2025-08-19T18:31:26.149618Z",
     "shell.execute_reply": "2025-08-19T18:31:26.148267Z"
    },
    "papermill": {
     "duration": 0.027444,
     "end_time": "2025-08-19T18:31:26.151812",
     "exception": false,
     "start_time": "2025-08-19T18:31:26.124368",
     "status": "completed"
    },
    "tags": []
   },
   "outputs": [
    {
     "data": {
      "text/plain": [
       "0.6866402167306696"
      ]
     },
     "execution_count": 42,
     "metadata": {},
     "output_type": "execute_result"
    }
   ],
   "source": [
    "q_hat"
   ]
  },
  {
   "cell_type": "code",
   "execution_count": 43,
   "id": "aa1f5faa",
   "metadata": {
    "execution": {
     "iopub.execute_input": "2025-08-19T18:31:26.181920Z",
     "iopub.status.busy": "2025-08-19T18:31:26.180300Z",
     "iopub.status.idle": "2025-08-19T18:31:26.819516Z",
     "shell.execute_reply": "2025-08-19T18:31:26.818205Z"
    },
    "papermill": {
     "duration": 0.655723,
     "end_time": "2025-08-19T18:31:26.822691",
     "exception": false,
     "start_time": "2025-08-19T18:31:26.166968",
     "status": "completed"
    },
    "tags": []
   },
   "outputs": [],
   "source": [
    "from fairness_multiverse.conformal import predict_conformal_sets\n",
    "\n",
    "# Generate prediction sets for each test example\n",
    "pred_sets = predict_conformal_sets(model, X_test, q_hat)"
   ]
  },
  {
   "cell_type": "code",
   "execution_count": 44,
   "id": "97f67a6b",
   "metadata": {
    "execution": {
     "iopub.execute_input": "2025-08-19T18:31:26.868032Z",
     "iopub.status.busy": "2025-08-19T18:31:26.865890Z",
     "iopub.status.idle": "2025-08-19T18:31:26.877873Z",
     "shell.execute_reply": "2025-08-19T18:31:26.876424Z"
    },
    "papermill": {
     "duration": 0.029937,
     "end_time": "2025-08-19T18:31:26.879845",
     "exception": false,
     "start_time": "2025-08-19T18:31:26.849908",
     "status": "completed"
    },
    "tags": []
   },
   "outputs": [],
   "source": [
    "y_true = y_true.squeeze()"
   ]
  },
  {
   "cell_type": "code",
   "execution_count": 45,
   "id": "e700e9a7",
   "metadata": {
    "execution": {
     "iopub.execute_input": "2025-08-19T18:31:26.910323Z",
     "iopub.status.busy": "2025-08-19T18:31:26.908393Z",
     "iopub.status.idle": "2025-08-19T18:31:27.418831Z",
     "shell.execute_reply": "2025-08-19T18:31:27.417389Z"
    },
    "papermill": {
     "duration": 0.52676,
     "end_time": "2025-08-19T18:31:27.422064",
     "exception": false,
     "start_time": "2025-08-19T18:31:26.895304",
     "status": "completed"
    },
    "tags": []
   },
   "outputs": [],
   "source": [
    "from fairness_multiverse.conformal import evaluate_sets\n",
    "\n",
    "# Evaluate coverage and average set size on test data\n",
    "metrics = evaluate_sets(pred_sets, y_true)"
   ]
  },
  {
   "cell_type": "markdown",
   "id": "efbacec0",
   "metadata": {
    "papermill": {
     "duration": 0.027063,
     "end_time": "2025-08-19T18:31:27.492838",
     "exception": false,
     "start_time": "2025-08-19T18:31:27.465775",
     "status": "completed"
    },
    "tags": []
   },
   "source": [
    "# CP Metrics"
   ]
  },
  {
   "cell_type": "code",
   "execution_count": 46,
   "id": "9de55fb1",
   "metadata": {
    "execution": {
     "iopub.execute_input": "2025-08-19T18:31:27.536788Z",
     "iopub.status.busy": "2025-08-19T18:31:27.535271Z",
     "iopub.status.idle": "2025-08-19T18:31:27.549170Z",
     "shell.execute_reply": "2025-08-19T18:31:27.547970Z"
    },
    "papermill": {
     "duration": 0.043726,
     "end_time": "2025-08-19T18:31:27.550649",
     "exception": false,
     "start_time": "2025-08-19T18:31:27.506923",
     "status": "completed"
    },
    "tags": []
   },
   "outputs": [
    {
     "data": {
      "text/plain": [
       "{'coverage': 0.9111693233753205, 'avg_size': 1.1380448110578532}"
      ]
     },
     "execution_count": 46,
     "metadata": {},
     "output_type": "execute_result"
    }
   ],
   "source": [
    "metrics"
   ]
  },
  {
   "cell_type": "code",
   "execution_count": 47,
   "id": "64c340a1",
   "metadata": {
    "execution": {
     "iopub.execute_input": "2025-08-19T18:31:27.589245Z",
     "iopub.status.busy": "2025-08-19T18:31:27.587687Z",
     "iopub.status.idle": "2025-08-19T18:31:27.598977Z",
     "shell.execute_reply": "2025-08-19T18:31:27.597661Z"
    },
    "papermill": {
     "duration": 0.033834,
     "end_time": "2025-08-19T18:31:27.601732",
     "exception": false,
     "start_time": "2025-08-19T18:31:27.567898",
     "status": "completed"
    },
    "tags": []
   },
   "outputs": [],
   "source": [
    "example_universe = universe.copy()\n",
    "universe_training_year = example_universe.get(\"training_year\")\n",
    "universe_training_size = example_universe.get(\"training_size\")\n",
    "universe_scale = example_universe.get(\"scale\")\n",
    "universe_model = example_universe.get(\"model\")\n",
    "universe_exclude_features = example_universe.get(\"exclude_features\")\n",
    "universe_exclude_subgroups = example_universe.get(\"exclude_subgroups\")"
   ]
  },
  {
   "cell_type": "code",
   "execution_count": 48,
   "id": "dbb53cb4",
   "metadata": {
    "execution": {
     "iopub.execute_input": "2025-08-19T18:31:27.632173Z",
     "iopub.status.busy": "2025-08-19T18:31:27.630895Z",
     "iopub.status.idle": "2025-08-19T18:31:27.641514Z",
     "shell.execute_reply": "2025-08-19T18:31:27.640177Z"
    },
    "papermill": {
     "duration": 0.026019,
     "end_time": "2025-08-19T18:31:27.643395",
     "exception": false,
     "start_time": "2025-08-19T18:31:27.617376",
     "status": "completed"
    },
    "tags": []
   },
   "outputs": [],
   "source": [
    "cp_metrics_dict = {\n",
    "    \"universe_id\": [universe_id],\n",
    "    \"universe_training_year\": [universe_training_year],\n",
    "    \"universe_training_size\": [universe_training_size],\n",
    "    \"universe_scale\": [universe_scale],\n",
    "    \"universe_model\": [universe_model],\n",
    "    \"universe_exclude_features\": [universe_exclude_features],\n",
    "    \"universe_exclude_subgroups\": [universe_exclude_subgroups],\n",
    "    \"q_hat\": [q_hat],\n",
    "    \"coverage\": [metrics[\"coverage\"]],\n",
    "    \"avg_size\": [metrics[\"avg_size\"]],\n",
    "}"
   ]
  },
  {
   "cell_type": "code",
   "execution_count": 49,
   "id": "0d70d4b2",
   "metadata": {
    "execution": {
     "iopub.execute_input": "2025-08-19T18:31:27.674658Z",
     "iopub.status.busy": "2025-08-19T18:31:27.673445Z",
     "iopub.status.idle": "2025-08-19T18:31:27.685503Z",
     "shell.execute_reply": "2025-08-19T18:31:27.684068Z"
    },
    "papermill": {
     "duration": 0.027958,
     "end_time": "2025-08-19T18:31:27.687785",
     "exception": false,
     "start_time": "2025-08-19T18:31:27.659827",
     "status": "completed"
    },
    "tags": []
   },
   "outputs": [],
   "source": [
    "cp_metrics_df = pd.DataFrame(cp_metrics_dict)"
   ]
  },
  {
   "cell_type": "code",
   "execution_count": 50,
   "id": "b494403c",
   "metadata": {
    "execution": {
     "iopub.execute_input": "2025-08-19T18:31:27.718503Z",
     "iopub.status.busy": "2025-08-19T18:31:27.717367Z",
     "iopub.status.idle": "2025-08-19T18:31:27.741471Z",
     "shell.execute_reply": "2025-08-19T18:31:27.740432Z"
    },
    "papermill": {
     "duration": 0.040524,
     "end_time": "2025-08-19T18:31:27.744112",
     "exception": false,
     "start_time": "2025-08-19T18:31:27.703588",
     "status": "completed"
    },
    "tags": []
   },
   "outputs": [
    {
     "data": {
      "text/html": [
       "<div>\n",
       "<style scoped>\n",
       "    .dataframe tbody tr th:only-of-type {\n",
       "        vertical-align: middle;\n",
       "    }\n",
       "\n",
       "    .dataframe tbody tr th {\n",
       "        vertical-align: top;\n",
       "    }\n",
       "\n",
       "    .dataframe thead th {\n",
       "        text-align: right;\n",
       "    }\n",
       "</style>\n",
       "<table border=\"1\" class=\"dataframe\">\n",
       "  <thead>\n",
       "    <tr style=\"text-align: right;\">\n",
       "      <th></th>\n",
       "      <th>universe_id</th>\n",
       "      <th>universe_training_year</th>\n",
       "      <th>universe_training_size</th>\n",
       "      <th>universe_scale</th>\n",
       "      <th>universe_model</th>\n",
       "      <th>universe_exclude_features</th>\n",
       "      <th>universe_exclude_subgroups</th>\n",
       "      <th>q_hat</th>\n",
       "      <th>coverage</th>\n",
       "      <th>avg_size</th>\n",
       "    </tr>\n",
       "  </thead>\n",
       "  <tbody>\n",
       "    <tr>\n",
       "      <th>0</th>\n",
       "      <td>c54a1fded3c72c8dc48d518ba90708ed</td>\n",
       "      <td>2012_14</td>\n",
       "      <td>5k</td>\n",
       "      <td>scale</td>\n",
       "      <td>logreg</td>\n",
       "      <td>sex</td>\n",
       "      <td>keep-all</td>\n",
       "      <td>0.68664</td>\n",
       "      <td>0.911169</td>\n",
       "      <td>1.138045</td>\n",
       "    </tr>\n",
       "  </tbody>\n",
       "</table>\n",
       "</div>"
      ],
      "text/plain": [
       "                        universe_id universe_training_year  \\\n",
       "0  c54a1fded3c72c8dc48d518ba90708ed                2012_14   \n",
       "\n",
       "  universe_training_size universe_scale universe_model  \\\n",
       "0                     5k          scale         logreg   \n",
       "\n",
       "  universe_exclude_features universe_exclude_subgroups    q_hat  coverage  \\\n",
       "0                       sex                   keep-all  0.68664  0.911169   \n",
       "\n",
       "   avg_size  \n",
       "0  1.138045  "
      ]
     },
     "execution_count": 50,
     "metadata": {},
     "output_type": "execute_result"
    }
   ],
   "source": [
    "cp_metrics_df"
   ]
  },
  {
   "cell_type": "markdown",
   "id": "ed608b0b",
   "metadata": {
    "papermill": {
     "duration": 0.012219,
     "end_time": "2025-08-19T18:31:27.776808",
     "exception": false,
     "start_time": "2025-08-19T18:31:27.764589",
     "status": "completed"
    },
    "tags": []
   },
   "source": [
    "Conditional coverage & looking at subgroups"
   ]
  },
  {
   "cell_type": "code",
   "execution_count": 51,
   "id": "8968c366",
   "metadata": {
    "execution": {
     "iopub.execute_input": "2025-08-19T18:31:27.804168Z",
     "iopub.status.busy": "2025-08-19T18:31:27.802572Z",
     "iopub.status.idle": "2025-08-19T18:31:28.100676Z",
     "shell.execute_reply": "2025-08-19T18:31:28.099673Z"
    },
    "papermill": {
     "duration": 0.315354,
     "end_time": "2025-08-19T18:31:28.103993",
     "exception": false,
     "start_time": "2025-08-19T18:31:27.788639",
     "status": "completed"
    },
    "tags": []
   },
   "outputs": [],
   "source": [
    "from fairness_multiverse.conformal import build_cp_groups\n",
    "\n",
    "cp_groups_df = build_cp_groups(pred_sets, y_true, X_test.index, org_test)"
   ]
  },
  {
   "cell_type": "code",
   "execution_count": 52,
   "id": "292ddabf",
   "metadata": {
    "execution": {
     "iopub.execute_input": "2025-08-19T18:31:28.148725Z",
     "iopub.status.busy": "2025-08-19T18:31:28.147388Z",
     "iopub.status.idle": "2025-08-19T18:31:28.997661Z",
     "shell.execute_reply": "2025-08-19T18:31:28.996498Z"
    },
    "papermill": {
     "duration": 0.867596,
     "end_time": "2025-08-19T18:31:28.999254",
     "exception": false,
     "start_time": "2025-08-19T18:31:28.131658",
     "status": "completed"
    },
    "tags": []
   },
   "outputs": [],
   "source": [
    "# Define covered = 1 if true_label is in the predicted set\n",
    "cp_groups_df['covered'] = cp_groups_df.apply(\n",
    "    lambda r: int(r['true_label'] in r['pred_set']),\n",
    "    axis=1\n",
    ")"
   ]
  },
  {
   "cell_type": "code",
   "execution_count": 53,
   "id": "3a261692",
   "metadata": {
    "execution": {
     "iopub.execute_input": "2025-08-19T18:31:29.026396Z",
     "iopub.status.busy": "2025-08-19T18:31:29.025931Z",
     "iopub.status.idle": "2025-08-19T18:31:29.038531Z",
     "shell.execute_reply": "2025-08-19T18:31:29.037630Z"
    },
    "papermill": {
     "duration": 0.027959,
     "end_time": "2025-08-19T18:31:29.040161",
     "exception": false,
     "start_time": "2025-08-19T18:31:29.012202",
     "status": "completed"
    },
    "tags": []
   },
   "outputs": [],
   "source": [
    "subgroups = ['frau1','nongerman','nongerman_male','nongerman_female']\n",
    "\n",
    "# Conditional coverage for subgroup==1\n",
    "cond_coverage = {\n",
    "    g: cp_groups_df.loc[cp_groups_df[g]==1, 'covered'].mean()\n",
    "    for g in subgroups\n",
    "}"
   ]
  },
  {
   "cell_type": "code",
   "execution_count": 54,
   "id": "894fd600",
   "metadata": {
    "execution": {
     "iopub.execute_input": "2025-08-19T18:31:29.068326Z",
     "iopub.status.busy": "2025-08-19T18:31:29.067878Z",
     "iopub.status.idle": "2025-08-19T18:31:29.077858Z",
     "shell.execute_reply": "2025-08-19T18:31:29.076366Z"
    },
    "papermill": {
     "duration": 0.02569,
     "end_time": "2025-08-19T18:31:29.079753",
     "exception": false,
     "start_time": "2025-08-19T18:31:29.054063",
     "status": "completed"
    },
    "tags": []
   },
   "outputs": [
    {
     "data": {
      "text/plain": [
       "{'frau1': 0.9079929909691333,\n",
       " 'nongerman': 0.9127042047942514,\n",
       " 'nongerman_male': 0.9284877960911465,\n",
       " 'nongerman_female': 0.8865871833084947}"
      ]
     },
     "execution_count": 54,
     "metadata": {},
     "output_type": "execute_result"
    }
   ],
   "source": [
    "cond_coverage"
   ]
  },
  {
   "cell_type": "code",
   "execution_count": 55,
   "id": "942895c7",
   "metadata": {
    "execution": {
     "iopub.execute_input": "2025-08-19T18:31:29.111612Z",
     "iopub.status.busy": "2025-08-19T18:31:29.110229Z",
     "iopub.status.idle": "2025-08-19T18:31:29.121867Z",
     "shell.execute_reply": "2025-08-19T18:31:29.120721Z"
    },
    "papermill": {
     "duration": 0.028368,
     "end_time": "2025-08-19T18:31:29.123572",
     "exception": false,
     "start_time": "2025-08-19T18:31:29.095204",
     "status": "completed"
    },
    "tags": []
   },
   "outputs": [],
   "source": [
    "for subgroup, cov in cond_coverage.items():\n",
    "    cp_metrics_df[f\"cov_{subgroup}\"] = cov"
   ]
  },
  {
   "cell_type": "code",
   "execution_count": 56,
   "id": "3970120f",
   "metadata": {
    "execution": {
     "iopub.execute_input": "2025-08-19T18:31:29.161122Z",
     "iopub.status.busy": "2025-08-19T18:31:29.159482Z",
     "iopub.status.idle": "2025-08-19T18:31:29.196139Z",
     "shell.execute_reply": "2025-08-19T18:31:29.195183Z"
    },
    "papermill": {
     "duration": 0.056408,
     "end_time": "2025-08-19T18:31:29.199864",
     "exception": false,
     "start_time": "2025-08-19T18:31:29.143456",
     "status": "completed"
    },
    "tags": []
   },
   "outputs": [
    {
     "data": {
      "text/html": [
       "<div>\n",
       "<style scoped>\n",
       "    .dataframe tbody tr th:only-of-type {\n",
       "        vertical-align: middle;\n",
       "    }\n",
       "\n",
       "    .dataframe tbody tr th {\n",
       "        vertical-align: top;\n",
       "    }\n",
       "\n",
       "    .dataframe thead th {\n",
       "        text-align: right;\n",
       "    }\n",
       "</style>\n",
       "<table border=\"1\" class=\"dataframe\">\n",
       "  <thead>\n",
       "    <tr style=\"text-align: right;\">\n",
       "      <th></th>\n",
       "      <th>universe_id</th>\n",
       "      <th>universe_training_year</th>\n",
       "      <th>universe_training_size</th>\n",
       "      <th>universe_scale</th>\n",
       "      <th>universe_model</th>\n",
       "      <th>universe_exclude_features</th>\n",
       "      <th>universe_exclude_subgroups</th>\n",
       "      <th>q_hat</th>\n",
       "      <th>coverage</th>\n",
       "      <th>avg_size</th>\n",
       "      <th>cov_frau1</th>\n",
       "      <th>cov_nongerman</th>\n",
       "      <th>cov_nongerman_male</th>\n",
       "      <th>cov_nongerman_female</th>\n",
       "    </tr>\n",
       "  </thead>\n",
       "  <tbody>\n",
       "    <tr>\n",
       "      <th>0</th>\n",
       "      <td>c54a1fded3c72c8dc48d518ba90708ed</td>\n",
       "      <td>2012_14</td>\n",
       "      <td>5k</td>\n",
       "      <td>scale</td>\n",
       "      <td>logreg</td>\n",
       "      <td>sex</td>\n",
       "      <td>keep-all</td>\n",
       "      <td>0.68664</td>\n",
       "      <td>0.911169</td>\n",
       "      <td>1.138045</td>\n",
       "      <td>0.907993</td>\n",
       "      <td>0.912704</td>\n",
       "      <td>0.928488</td>\n",
       "      <td>0.886587</td>\n",
       "    </tr>\n",
       "  </tbody>\n",
       "</table>\n",
       "</div>"
      ],
      "text/plain": [
       "                        universe_id universe_training_year  \\\n",
       "0  c54a1fded3c72c8dc48d518ba90708ed                2012_14   \n",
       "\n",
       "  universe_training_size universe_scale universe_model  \\\n",
       "0                     5k          scale         logreg   \n",
       "\n",
       "  universe_exclude_features universe_exclude_subgroups    q_hat  coverage  \\\n",
       "0                       sex                   keep-all  0.68664  0.911169   \n",
       "\n",
       "   avg_size  cov_frau1  cov_nongerman  cov_nongerman_male  \\\n",
       "0  1.138045   0.907993       0.912704            0.928488   \n",
       "\n",
       "   cov_nongerman_female  \n",
       "0              0.886587  "
      ]
     },
     "execution_count": 56,
     "metadata": {},
     "output_type": "execute_result"
    }
   ],
   "source": [
    "cp_metrics_df"
   ]
  },
  {
   "cell_type": "markdown",
   "id": "3fc519cc",
   "metadata": {
    "papermill": {
     "duration": 0.018948,
     "end_time": "2025-08-19T18:31:29.243661",
     "exception": false,
     "start_time": "2025-08-19T18:31:29.224713",
     "status": "completed"
    },
    "tags": []
   },
   "source": [
    "# (Fairness) Metrics"
   ]
  },
  {
   "cell_type": "code",
   "execution_count": 57,
   "id": "a2e5e155",
   "metadata": {
    "execution": {
     "iopub.execute_input": "2025-08-19T18:31:29.272854Z",
     "iopub.status.busy": "2025-08-19T18:31:29.271057Z",
     "iopub.status.idle": "2025-08-19T18:31:29.300775Z",
     "shell.execute_reply": "2025-08-19T18:31:29.299893Z"
    },
    "papermill": {
     "duration": 0.047191,
     "end_time": "2025-08-19T18:31:29.303202",
     "exception": false,
     "start_time": "2025-08-19T18:31:29.256011",
     "status": "completed"
    },
    "tags": []
   },
   "outputs": [],
   "source": [
    "colname_to_bin = \"maxdeutsch1\"\n",
    "majority_value = org_train[colname_to_bin].mode()[0]\n",
    "\n",
    "org_test[\"majmin\"] = np.where(org_test[colname_to_bin] == majority_value, \"majority\", \"minority\")"
   ]
  },
  {
   "cell_type": "code",
   "execution_count": 58,
   "id": "17e3e4d5",
   "metadata": {
    "execution": {
     "iopub.execute_input": "2025-08-19T18:31:29.344344Z",
     "iopub.status.busy": "2025-08-19T18:31:29.342586Z",
     "iopub.status.idle": "2025-08-19T18:31:31.074125Z",
     "shell.execute_reply": "2025-08-19T18:31:31.072808Z"
    },
    "papermill": {
     "duration": 1.748864,
     "end_time": "2025-08-19T18:31:31.075738",
     "exception": false,
     "start_time": "2025-08-19T18:31:29.326874",
     "status": "completed"
    },
    "tags": []
   },
   "outputs": [],
   "source": [
    "example_universe = universe.copy()\n",
    "example_universe[\"cutoff\"] = example_universe[\"cutoff\"][0]\n",
    "example_universe[\"eval_fairness_grouping\"] = example_universe[\"eval_fairness_grouping\"][0]\n",
    "fairness_dict, metric_frame = universe_analysis.compute_metrics(\n",
    "    example_universe,\n",
    "    y_pred_prob=probs_test,\n",
    "    y_test=y_true,\n",
    "    org_test=org_test,\n",
    ")"
   ]
  },
  {
   "cell_type": "markdown",
   "id": "1fb7a0e9",
   "metadata": {
    "papermill": {
     "duration": 0.012612,
     "end_time": "2025-08-19T18:31:31.104881",
     "exception": false,
     "start_time": "2025-08-19T18:31:31.092269",
     "status": "completed"
    },
    "tags": []
   },
   "source": [
    "# Overall"
   ]
  },
  {
   "cell_type": "markdown",
   "id": "be1784b1",
   "metadata": {
    "papermill": {
     "duration": 0.012198,
     "end_time": "2025-08-19T18:31:31.129401",
     "exception": false,
     "start_time": "2025-08-19T18:31:31.117203",
     "status": "completed"
    },
    "tags": []
   },
   "source": [
    "Main fairness target: Equalized Odds. Seems to be a better fit than equal opportunity, since we're not only interested in Y = 1. Seems to be a better fit than demographic parity, since we also care about accuracy, not just equal distribution of preds.\n",
    "\n",
    "Pick column for computation of fairness metrics\n",
    "\n",
    "Performance\n",
    "Overall performance measures, most interesting in relation to the measures split by group below"
   ]
  },
  {
   "cell_type": "code",
   "execution_count": 59,
   "id": "b7672bee",
   "metadata": {
    "execution": {
     "iopub.execute_input": "2025-08-19T18:31:31.158307Z",
     "iopub.status.busy": "2025-08-19T18:31:31.156376Z",
     "iopub.status.idle": "2025-08-19T18:31:31.174404Z",
     "shell.execute_reply": "2025-08-19T18:31:31.173050Z"
    },
    "papermill": {
     "duration": 0.03461,
     "end_time": "2025-08-19T18:31:31.176183",
     "exception": false,
     "start_time": "2025-08-19T18:31:31.141573",
     "status": "completed"
    },
    "tags": []
   },
   "outputs": [
    {
     "data": {
      "text/plain": [
       "accuracy                   0.224089\n",
       "balanced accuracy          0.547988\n",
       "f1                         0.245428\n",
       "precision                  0.140205\n",
       "false positive rate        0.887688\n",
       "false negative rate        0.016336\n",
       "selection rate             0.900000\n",
       "count                  89710.000000\n",
       "dtype: float64"
      ]
     },
     "execution_count": 59,
     "metadata": {},
     "output_type": "execute_result"
    }
   ],
   "source": [
    "metric_frame.overall"
   ]
  },
  {
   "cell_type": "markdown",
   "id": "d93333c9",
   "metadata": {
    "papermill": {
     "duration": 0.01314,
     "end_time": "2025-08-19T18:31:31.208185",
     "exception": false,
     "start_time": "2025-08-19T18:31:31.195045",
     "status": "completed"
    },
    "tags": []
   },
   "source": [
    "By Group"
   ]
  },
  {
   "cell_type": "code",
   "execution_count": 60,
   "id": "52256966",
   "metadata": {
    "execution": {
     "iopub.execute_input": "2025-08-19T18:31:31.235901Z",
     "iopub.status.busy": "2025-08-19T18:31:31.234737Z",
     "iopub.status.idle": "2025-08-19T18:31:31.256998Z",
     "shell.execute_reply": "2025-08-19T18:31:31.256133Z"
    },
    "papermill": {
     "duration": 0.037969,
     "end_time": "2025-08-19T18:31:31.258619",
     "exception": false,
     "start_time": "2025-08-19T18:31:31.220650",
     "status": "completed"
    },
    "tags": []
   },
   "outputs": [
    {
     "data": {
      "text/html": [
       "<div>\n",
       "<style scoped>\n",
       "    .dataframe tbody tr th:only-of-type {\n",
       "        vertical-align: middle;\n",
       "    }\n",
       "\n",
       "    .dataframe tbody tr th {\n",
       "        vertical-align: top;\n",
       "    }\n",
       "\n",
       "    .dataframe thead th {\n",
       "        text-align: right;\n",
       "    }\n",
       "</style>\n",
       "<table border=\"1\" class=\"dataframe\">\n",
       "  <thead>\n",
       "    <tr style=\"text-align: right;\">\n",
       "      <th></th>\n",
       "      <th>accuracy</th>\n",
       "      <th>balanced accuracy</th>\n",
       "      <th>f1</th>\n",
       "      <th>precision</th>\n",
       "      <th>false positive rate</th>\n",
       "      <th>false negative rate</th>\n",
       "      <th>selection rate</th>\n",
       "      <th>count</th>\n",
       "    </tr>\n",
       "    <tr>\n",
       "      <th>majmin</th>\n",
       "      <th></th>\n",
       "      <th></th>\n",
       "      <th></th>\n",
       "      <th></th>\n",
       "      <th></th>\n",
       "      <th></th>\n",
       "      <th></th>\n",
       "      <th></th>\n",
       "    </tr>\n",
       "  </thead>\n",
       "  <tbody>\n",
       "    <tr>\n",
       "      <th>majority</th>\n",
       "      <td>0.246913</td>\n",
       "      <td>0.558288</td>\n",
       "      <td>0.256194</td>\n",
       "      <td>0.147324</td>\n",
       "      <td>0.864934</td>\n",
       "      <td>0.018490</td>\n",
       "      <td>0.880338</td>\n",
       "      <td>69170.0</td>\n",
       "    </tr>\n",
       "    <tr>\n",
       "      <th>minority</th>\n",
       "      <td>0.147225</td>\n",
       "      <td>0.514561</td>\n",
       "      <td>0.211488</td>\n",
       "      <td>0.118361</td>\n",
       "      <td>0.962855</td>\n",
       "      <td>0.008024</td>\n",
       "      <td>0.966212</td>\n",
       "      <td>20540.0</td>\n",
       "    </tr>\n",
       "  </tbody>\n",
       "</table>\n",
       "</div>"
      ],
      "text/plain": [
       "          accuracy  balanced accuracy        f1  precision  \\\n",
       "majmin                                                       \n",
       "majority  0.246913           0.558288  0.256194   0.147324   \n",
       "minority  0.147225           0.514561  0.211488   0.118361   \n",
       "\n",
       "          false positive rate  false negative rate  selection rate    count  \n",
       "majmin                                                                       \n",
       "majority             0.864934             0.018490        0.880338  69170.0  \n",
       "minority             0.962855             0.008024        0.966212  20540.0  "
      ]
     },
     "execution_count": 60,
     "metadata": {},
     "output_type": "execute_result"
    }
   ],
   "source": [
    "metric_frame.by_group"
   ]
  },
  {
   "cell_type": "code",
   "execution_count": 61,
   "id": "6e6c20ae",
   "metadata": {
    "execution": {
     "iopub.execute_input": "2025-08-19T18:31:31.316556Z",
     "iopub.status.busy": "2025-08-19T18:31:31.316060Z",
     "iopub.status.idle": "2025-08-19T18:31:33.155637Z",
     "shell.execute_reply": "2025-08-19T18:31:33.154352Z"
    },
    "papermill": {
     "duration": 1.875931,
     "end_time": "2025-08-19T18:31:33.157131",
     "exception": false,
     "start_time": "2025-08-19T18:31:31.281200",
     "status": "completed"
    },
    "tags": []
   },
   "outputs": [
    {
     "data": {
      "text/plain": [
       "array([[<Axes: title={'center': 'accuracy'}, xlabel='majmin'>,\n",
       "        <Axes: title={'center': 'balanced accuracy'}, xlabel='majmin'>,\n",
       "        <Axes: title={'center': 'f1'}, xlabel='majmin'>],\n",
       "       [<Axes: title={'center': 'precision'}, xlabel='majmin'>,\n",
       "        <Axes: title={'center': 'false positive rate'}, xlabel='majmin'>,\n",
       "        <Axes: title={'center': 'false negative rate'}, xlabel='majmin'>],\n",
       "       [<Axes: title={'center': 'selection rate'}, xlabel='majmin'>,\n",
       "        <Axes: title={'center': 'count'}, xlabel='majmin'>,\n",
       "        <Axes: xlabel='majmin'>]], dtype=object)"
      ]
     },
     "execution_count": 61,
     "metadata": {},
     "output_type": "execute_result"
    },
    {
     "data": {
      "image/png": "[encoded data removed]",
      "text/plain": [
       "<Figure size 1200x800 with 9 Axes>"
      ]
     },
     "metadata": {},
     "output_type": "display_data"
    }
   ],
   "source": [
    "# In a graphic\n",
    "metric_frame.by_group.plot.bar(\n",
    "    subplots=True,\n",
    "    layout=[3, 3],\n",
    "    legend=False,\n",
    "    figsize=[12, 8],\n",
    "    title=\"Show all metrics\",\n",
    ")"
   ]
  },
  {
   "cell_type": "markdown",
   "id": "b2e433ae",
   "metadata": {
    "papermill": {
     "duration": 0.021658,
     "end_time": "2025-08-19T18:31:33.198092",
     "exception": false,
     "start_time": "2025-08-19T18:31:33.176434",
     "status": "completed"
    },
    "tags": []
   },
   "source": [
    "# Final Output"
   ]
  },
  {
   "cell_type": "code",
   "execution_count": 62,
   "id": "3871301e",
   "metadata": {
    "execution": {
     "iopub.execute_input": "2025-08-19T18:31:33.228535Z",
     "iopub.status.busy": "2025-08-19T18:31:33.227740Z",
     "iopub.status.idle": "2025-08-19T18:31:33.238203Z",
     "shell.execute_reply": "2025-08-19T18:31:33.237194Z"
    },
    "papermill": {
     "duration": 0.033639,
     "end_time": "2025-08-19T18:31:33.246177",
     "exception": false,
     "start_time": "2025-08-19T18:31:33.212538",
     "status": "completed"
    },
    "tags": []
   },
   "outputs": [
    {
     "data": {
      "text/plain": [
       "4"
      ]
     },
     "execution_count": 62,
     "metadata": {},
     "output_type": "execute_result"
    }
   ],
   "source": [
    "sub_universes = universe_analysis.generate_sub_universes()\n",
    "len(sub_universes)"
   ]
  },
  {
   "cell_type": "code",
   "execution_count": 63,
   "id": "d9cfdaca",
   "metadata": {
    "execution": {
     "iopub.execute_input": "2025-08-19T18:31:33.285342Z",
     "iopub.status.busy": "2025-08-19T18:31:33.283101Z",
     "iopub.status.idle": "2025-08-19T18:31:33.296031Z",
     "shell.execute_reply": "2025-08-19T18:31:33.294767Z"
    },
    "papermill": {
     "duration": 0.03044,
     "end_time": "2025-08-19T18:31:33.297683",
     "exception": false,
     "start_time": "2025-08-19T18:31:33.267243",
     "status": "completed"
    },
    "tags": []
   },
   "outputs": [],
   "source": [
    "def filter_sub_universe_data(sub_universe, org_test):\n",
    "    # Keep all rows — no filtering\n",
    "    keep_rows_mask = np.ones(org_test.shape[0], dtype=bool)\n",
    "\n",
    "    print(f\"[INFO] Keeping all rows: {keep_rows_mask.sum()} rows retained.\")\n",
    "    return keep_rows_mask"
   ]
  },
  {
   "cell_type": "code",
   "execution_count": 64,
   "id": "2bc31ac1",
   "metadata": {
    "execution": {
     "iopub.execute_input": "2025-08-19T18:31:33.331215Z",
     "iopub.status.busy": "2025-08-19T18:31:33.330408Z",
     "iopub.status.idle": "2025-08-19T18:31:40.025739Z",
     "shell.execute_reply": "2025-08-19T18:31:40.024524Z"
    },
    "papermill": {
     "duration": 6.712799,
     "end_time": "2025-08-19T18:31:40.027338",
     "exception": false,
     "start_time": "2025-08-19T18:31:33.314539",
     "status": "completed"
    },
    "tags": []
   },
   "outputs": [
    {
     "name": "stdout",
     "output_type": "stream",
     "text": [
      "Stopping execution_time clock.\n",
      "[INFO] Keeping all rows: 89710 rows retained.\n"
     ]
    },
    {
     "name": "stdout",
     "output_type": "stream",
     "text": [
      "[INFO] Keeping all rows: 89710 rows retained.\n"
     ]
    },
    {
     "name": "stdout",
     "output_type": "stream",
     "text": [
      "[INFO] Keeping all rows: 89710 rows retained.\n"
     ]
    },
    {
     "name": "stdout",
     "output_type": "stream",
     "text": [
      "[INFO] Keeping all rows: 89710 rows retained.\n"
     ]
    },
    {
     "data": {
      "text/html": [
       "<div>\n",
       "<style scoped>\n",
       "    .dataframe tbody tr th:only-of-type {\n",
       "        vertical-align: middle;\n",
       "    }\n",
       "\n",
       "    .dataframe tbody tr th {\n",
       "        vertical-align: top;\n",
       "    }\n",
       "\n",
       "    .dataframe thead th {\n",
       "        text-align: right;\n",
       "    }\n",
       "</style>\n",
       "<table border=\"1\" class=\"dataframe\">\n",
       "  <thead>\n",
       "    <tr style=\"text-align: right;\">\n",
       "      <th></th>\n",
       "      <th>run_no</th>\n",
       "      <th>universe_id</th>\n",
       "      <th>universe_settings</th>\n",
       "      <th>execution_time</th>\n",
       "      <th>test_size_n</th>\n",
       "      <th>test_size_frac</th>\n",
       "      <th>fair_main_equalized_odds_difference</th>\n",
       "      <th>fair_main_equalized_odds_ratio</th>\n",
       "      <th>fair_main_demographic_parity_difference</th>\n",
       "      <th>fair_main_demographic_parity_ratio</th>\n",
       "      <th>...</th>\n",
       "      <th>perf_grp_precision_0</th>\n",
       "      <th>perf_grp_precision_1</th>\n",
       "      <th>perf_grp_false positive rate_0</th>\n",
       "      <th>perf_grp_false positive rate_1</th>\n",
       "      <th>perf_grp_false negative rate_0</th>\n",
       "      <th>perf_grp_false negative rate_1</th>\n",
       "      <th>perf_grp_selection rate_0</th>\n",
       "      <th>perf_grp_selection rate_1</th>\n",
       "      <th>perf_grp_count_0</th>\n",
       "      <th>perf_grp_count_1</th>\n",
       "    </tr>\n",
       "  </thead>\n",
       "  <tbody>\n",
       "    <tr>\n",
       "      <th>0</th>\n",
       "      <td>3</td>\n",
       "      <td>c54a1fded3c72c8dc48d518ba90708ed</td>\n",
       "      <td>{\"cutoff\": \"quantile_0.1\", \"eval_fairness_grou...</td>\n",
       "      <td>21.36288</td>\n",
       "      <td>89710</td>\n",
       "      <td>1.0</td>\n",
       "      <td>0.097921</td>\n",
       "      <td>0.898302</td>\n",
       "      <td>0.085874</td>\n",
       "      <td>0.911123</td>\n",
       "      <td>...</td>\n",
       "      <td>NaN</td>\n",
       "      <td>NaN</td>\n",
       "      <td>NaN</td>\n",
       "      <td>NaN</td>\n",
       "      <td>NaN</td>\n",
       "      <td>NaN</td>\n",
       "      <td>NaN</td>\n",
       "      <td>NaN</td>\n",
       "      <td>NaN</td>\n",
       "      <td>NaN</td>\n",
       "    </tr>\n",
       "    <tr>\n",
       "      <th>0</th>\n",
       "      <td>3</td>\n",
       "      <td>c54a1fded3c72c8dc48d518ba90708ed</td>\n",
       "      <td>{\"cutoff\": \"quantile_0.1\", \"eval_fairness_grou...</td>\n",
       "      <td>21.36288</td>\n",
       "      <td>89710</td>\n",
       "      <td>1.0</td>\n",
       "      <td>0.097921</td>\n",
       "      <td>0.898302</td>\n",
       "      <td>0.085874</td>\n",
       "      <td>0.911123</td>\n",
       "      <td>...</td>\n",
       "      <td>0.118361</td>\n",
       "      <td>0.147324</td>\n",
       "      <td>0.962855</td>\n",
       "      <td>0.864934</td>\n",
       "      <td>0.008024</td>\n",
       "      <td>0.018490</td>\n",
       "      <td>0.966212</td>\n",
       "      <td>0.880338</td>\n",
       "      <td>20540.0</td>\n",
       "      <td>69170.0</td>\n",
       "    </tr>\n",
       "    <tr>\n",
       "      <th>0</th>\n",
       "      <td>3</td>\n",
       "      <td>c54a1fded3c72c8dc48d518ba90708ed</td>\n",
       "      <td>{\"cutoff\": \"quantile_0.25\", \"eval_fairness_gro...</td>\n",
       "      <td>21.36288</td>\n",
       "      <td>89710</td>\n",
       "      <td>1.0</td>\n",
       "      <td>0.190146</td>\n",
       "      <td>0.781044</td>\n",
       "      <td>0.167714</td>\n",
       "      <td>0.809266</td>\n",
       "      <td>...</td>\n",
       "      <td>NaN</td>\n",
       "      <td>NaN</td>\n",
       "      <td>NaN</td>\n",
       "      <td>NaN</td>\n",
       "      <td>NaN</td>\n",
       "      <td>NaN</td>\n",
       "      <td>NaN</td>\n",
       "      <td>NaN</td>\n",
       "      <td>NaN</td>\n",
       "      <td>NaN</td>\n",
       "    </tr>\n",
       "    <tr>\n",
       "      <th>0</th>\n",
       "      <td>3</td>\n",
       "      <td>c54a1fded3c72c8dc48d518ba90708ed</td>\n",
       "      <td>{\"cutoff\": \"quantile_0.25\", \"eval_fairness_gro...</td>\n",
       "      <td>21.36288</td>\n",
       "      <td>89710</td>\n",
       "      <td>1.0</td>\n",
       "      <td>0.190146</td>\n",
       "      <td>0.781044</td>\n",
       "      <td>0.167714</td>\n",
       "      <td>0.809266</td>\n",
       "      <td>...</td>\n",
       "      <td>0.126239</td>\n",
       "      <td>0.172772</td>\n",
       "      <td>0.868424</td>\n",
       "      <td>0.678278</td>\n",
       "      <td>0.037162</td>\n",
       "      <td>0.069584</td>\n",
       "      <td>0.879309</td>\n",
       "      <td>0.711595</td>\n",
       "      <td>20540.0</td>\n",
       "      <td>69170.0</td>\n",
       "    </tr>\n",
       "  </tbody>\n",
       "</table>\n",
       "<p>4 rows × 50 columns</p>\n",
       "</div>"
      ],
      "text/plain": [
       "  run_no                       universe_id  \\\n",
       "0      3  c54a1fded3c72c8dc48d518ba90708ed   \n",
       "0      3  c54a1fded3c72c8dc48d518ba90708ed   \n",
       "0      3  c54a1fded3c72c8dc48d518ba90708ed   \n",
       "0      3  c54a1fded3c72c8dc48d518ba90708ed   \n",
       "\n",
       "                                   universe_settings  execution_time  \\\n",
       "0  {\"cutoff\": \"quantile_0.1\", \"eval_fairness_grou...        21.36288   \n",
       "0  {\"cutoff\": \"quantile_0.1\", \"eval_fairness_grou...        21.36288   \n",
       "0  {\"cutoff\": \"quantile_0.25\", \"eval_fairness_gro...        21.36288   \n",
       "0  {\"cutoff\": \"quantile_0.25\", \"eval_fairness_gro...        21.36288   \n",
       "\n",
       "   test_size_n  test_size_frac  fair_main_equalized_odds_difference  \\\n",
       "0        89710             1.0                             0.097921   \n",
       "0        89710             1.0                             0.097921   \n",
       "0        89710             1.0                             0.190146   \n",
       "0        89710             1.0                             0.190146   \n",
       "\n",
       "   fair_main_equalized_odds_ratio  fair_main_demographic_parity_difference  \\\n",
       "0                        0.898302                                 0.085874   \n",
       "0                        0.898302                                 0.085874   \n",
       "0                        0.781044                                 0.167714   \n",
       "0                        0.781044                                 0.167714   \n",
       "\n",
       "   fair_main_demographic_parity_ratio  ...  perf_grp_precision_0  \\\n",
       "0                            0.911123  ...                   NaN   \n",
       "0                            0.911123  ...              0.118361   \n",
       "0                            0.809266  ...                   NaN   \n",
       "0                            0.809266  ...              0.126239   \n",
       "\n",
       "   perf_grp_precision_1  perf_grp_false positive rate_0  \\\n",
       "0                   NaN                             NaN   \n",
       "0              0.147324                        0.962855   \n",
       "0                   NaN                             NaN   \n",
       "0              0.172772                        0.868424   \n",
       "\n",
       "   perf_grp_false positive rate_1  perf_grp_false negative rate_0  \\\n",
       "0                             NaN                             NaN   \n",
       "0                        0.864934                        0.008024   \n",
       "0                             NaN                             NaN   \n",
       "0                        0.678278                        0.037162   \n",
       "\n",
       "   perf_grp_false negative rate_1  perf_grp_selection rate_0  \\\n",
       "0                             NaN                        NaN   \n",
       "0                        0.018490                   0.966212   \n",
       "0                             NaN                        NaN   \n",
       "0                        0.069584                   0.879309   \n",
       "\n",
       "   perf_grp_selection rate_1  perf_grp_count_0  perf_grp_count_1  \n",
       "0                        NaN               NaN               NaN  \n",
       "0                   0.880338           20540.0           69170.0  \n",
       "0                        NaN               NaN               NaN  \n",
       "0                   0.711595           20540.0           69170.0  \n",
       "\n",
       "[4 rows x 50 columns]"
      ]
     },
     "execution_count": 64,
     "metadata": {},
     "output_type": "execute_result"
    }
   ],
   "source": [
    "final_output = universe_analysis.generate_final_output(\n",
    "    y_pred_prob=probs_test,\n",
    "    y_test=y_true,\n",
    "    org_test=org_test,\n",
    "    filter_data=filter_sub_universe_data,\n",
    "    cp_metrics_df=cp_metrics_df,\n",
    "    save=True,\n",
    ")\n",
    "final_output"
   ]
  },
  {
   "cell_type": "code",
   "execution_count": null,
   "id": "8b80a1ff",
   "metadata": {
    "papermill": {
     "duration": 0.014573,
     "end_time": "2025-08-19T18:31:40.062929",
     "exception": false,
     "start_time": "2025-08-19T18:31:40.048356",
     "status": "completed"
    },
    "tags": []
   },
   "outputs": [],
   "source": []
  },
  {
   "cell_type": "code",
   "execution_count": null,
   "id": "275c9fad",
   "metadata": {
    "papermill": {
     "duration": 0.015442,
     "end_time": "2025-08-19T18:31:40.094474",
     "exception": false,
     "start_time": "2025-08-19T18:31:40.079032",
     "status": "completed"
    },
    "tags": []
   },
   "outputs": [],
   "source": []
  }
 ],
 "metadata": {
  "celltoolbar": "Tags",
  "kernelspec": {
   "display_name": "Python (CMA Fairness)",
   "language": "python",
   "name": "cma_fair_env"
  },
  "language_info": {
   "codemirror_mode": {
    "name": "ipython",
    "version": 3
   },
   "file_extension": ".py",
   "mimetype": "text/x-python",
   "name": "python",
   "nbconvert_exporter": "python",
   "pygments_lexer": "ipython3",
   "version": "3.10.12"
  },
  "papermill": {
   "default_parameters": {},
   "duration": 31.935779,
   "end_time": "2025-08-19T18:31:40.933373",
   "environment_variables": {},
   "exception": null,
   "input_path": "universe_analysis.ipynb",
   "output_path": "output/runs/3/notebooks/m_3-c54a1fded3c72c8dc48d518ba90708ed.ipynb",
   "parameters": {
    "output_dir": "output",
    "run_no": "3",
    "seed": "2023",
    "universe": "{\"cutoff\": [\"quantile_0.1\", \"quantile_0.25\"], \"eval_fairness_grouping\": [\"majority-minority\", \"nationality-all\"], \"exclude_features\": \"sex\", \"exclude_subgroups\": \"keep-all\", \"model\": \"logreg\", \"scale\": \"scale\", \"training_size\": \"5k\", \"training_year\": \"2012_14\"}",
    "universe_id": "c54a1fded3c72c8dc48d518ba90708ed"
   },
   "start_time": "2025-08-19T18:31:08.997594",
   "version": "2.6.0"
  }
 },
 "nbformat": 4,
 "nbformat_minor": 5
}