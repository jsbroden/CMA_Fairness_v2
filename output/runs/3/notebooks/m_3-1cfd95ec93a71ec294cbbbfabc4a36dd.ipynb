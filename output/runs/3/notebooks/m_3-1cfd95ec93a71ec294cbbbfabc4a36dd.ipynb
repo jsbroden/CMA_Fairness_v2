{
 "cells": [
  {
   "cell_type": "markdown",
   "id": "ef23dbb3",
   "metadata": {
    "papermill": {
     "duration": 0.017936,
     "end_time": "2025-08-19T18:56:25.924169",
     "exception": false,
     "start_time": "2025-08-19T18:56:25.906233",
     "status": "completed"
    },
    "tags": []
   },
   "source": [
    "# Setup"
   ]
  },
  {
   "cell_type": "code",
   "execution_count": 1,
   "id": "0bc8e7dc",
   "metadata": {
    "execution": {
     "iopub.execute_input": "2025-08-19T18:56:25.945595Z",
     "iopub.status.busy": "2025-08-19T18:56:25.945285Z",
     "iopub.status.idle": "2025-08-19T18:56:25.956324Z",
     "shell.execute_reply": "2025-08-19T18:56:25.955556Z"
    },
    "papermill": {
     "duration": 0.023188,
     "end_time": "2025-08-19T18:56:25.957814",
     "exception": false,
     "start_time": "2025-08-19T18:56:25.934626",
     "status": "completed"
    },
    "tags": []
   },
   "outputs": [
    {
     "name": "stdout",
     "output_type": "stream",
     "text": [
      "/dss/dsshome1/0C/ra93lal2/cma/CMA_Fairness_v2\n"
     ]
    },
    {
     "name": "stderr",
     "output_type": "stream",
     "text": [
      "/dss/dsshome1/0C/ra93lal2/.local/share/virtualenvs/CMA_Fairness_v2-3j10GkSs/lib/python3.10/site-packages/IPython/core/magics/osm.py:393: UserWarning: This is now an optional IPython functionality, using bookmarks requires you to install the `pickleshare` library.\n",
      "  bkms = self.shell.db.get('bookmarks', {})\n",
      "/dss/dsshome1/0C/ra93lal2/.local/share/virtualenvs/CMA_Fairness_v2-3j10GkSs/lib/python3.10/site-packages/IPython/core/magics/osm.py:417: UserWarning: This is now an optional IPython functionality, setting dhist requires you to install the `pickleshare` library.\n",
      "  self.shell.db['dhist'] = compress_dhist(dhist)[-100:]\n"
     ]
    }
   ],
   "source": [
    "%cd ~/cma/CMA_Fairness_v2"
   ]
  },
  {
   "cell_type": "markdown",
   "id": "9d235661",
   "metadata": {
    "papermill": {
     "duration": 0.009822,
     "end_time": "2025-08-19T18:56:25.984007",
     "exception": false,
     "start_time": "2025-08-19T18:56:25.974185",
     "status": "completed"
    },
    "tags": []
   },
   "source": [
    "The following cell holds the definition of our parameters, these values can be overriden by rendering the with e.g. the following command:\n",
    "\n",
    "papermill -p alpha 0.2 -p ratio 0.3 universe_analysis.ipynb output/test_run.ipynb"
   ]
  },
  {
   "cell_type": "code",
   "execution_count": 2,
   "id": "4a789d8e",
   "metadata": {
    "execution": {
     "iopub.execute_input": "2025-08-19T18:56:26.003599Z",
     "iopub.status.busy": "2025-08-19T18:56:26.003117Z",
     "iopub.status.idle": "2025-08-19T18:56:26.010501Z",
     "shell.execute_reply": "2025-08-19T18:56:26.009433Z"
    },
    "papermill": {
     "duration": 0.01884,
     "end_time": "2025-08-19T18:56:26.011891",
     "exception": false,
     "start_time": "2025-08-19T18:56:25.993051",
     "status": "completed"
    },
    "tags": []
   },
   "outputs": [
    {
     "name": "stdout",
     "output_type": "stream",
     "text": [
      "Current working directory: /dss/dsshome1/0C/ra93lal2/cma/CMA_Fairness_v2\n"
     ]
    }
   ],
   "source": [
    "import os\n",
    "print(\"Current working directory:\", os.getcwd())"
   ]
  },
  {
   "cell_type": "code",
   "execution_count": 3,
   "id": "4132aaed",
   "metadata": {
    "execution": {
     "iopub.execute_input": "2025-08-19T18:56:26.034732Z",
     "iopub.status.busy": "2025-08-19T18:56:26.034023Z",
     "iopub.status.idle": "2025-08-19T18:56:26.041304Z",
     "shell.execute_reply": "2025-08-19T18:56:26.040266Z"
    },
    "papermill": {
     "duration": 0.018734,
     "end_time": "2025-08-19T18:56:26.042747",
     "exception": false,
     "start_time": "2025-08-19T18:56:26.024013",
     "status": "completed"
    },
    "tags": [
     "parameters"
    ]
   },
   "outputs": [],
   "source": [
    "run_no = 0\n",
    "universe_id = \"test\"\n",
    "universe = {\n",
    "    \"training_size\": \"5k\", # \"25k\", \"5k\", \"1k\"\n",
    "    \"training_year\": \"2012_14\", # \"2014\", \"2012_14\", \"2010_14\"\n",
    "    \"scale\": \"scale\", # \"scale\", \"do-not-scale\",\n",
    "    \"model\": \"elasticnet\", # \"logreg\", \"penalized_logreg\", \"rf\", \"gbm\", \"elasticnet\"\n",
    "    \"cutoff\": [\"quantile_0.15\", \"quantile_0.30\"],\n",
    "    \"exclude_features\": \"age\", # \"none\", \"nationality\", \"sex\", \"nationality-sex\", \"age\"\n",
    "    \"exclude_subgroups\": \"drop-non-german\", # \"keep-all\", \"drop-non-german\"\n",
    "    \"eval_fairness_grouping\": [\"majority-minority\", \"nationality-all\"]\n",
    "}\n",
    "\n",
    "output_dir=\"./output\"\n",
    "seed=0"
   ]
  },
  {
   "cell_type": "code",
   "execution_count": 4,
   "id": "9ddc4b3b",
   "metadata": {
    "execution": {
     "iopub.execute_input": "2025-08-19T18:56:26.062917Z",
     "iopub.status.busy": "2025-08-19T18:56:26.061779Z",
     "iopub.status.idle": "2025-08-19T18:56:26.068790Z",
     "shell.execute_reply": "2025-08-19T18:56:26.067703Z"
    },
    "papermill": {
     "duration": 0.01811,
     "end_time": "2025-08-19T18:56:26.069964",
     "exception": false,
     "start_time": "2025-08-19T18:56:26.051854",
     "status": "completed"
    },
    "tags": [
     "injected-parameters"
    ]
   },
   "outputs": [],
   "source": [
    "# Parameters\n",
    "universe_id = \"1cfd95ec93a71ec294cbbbfabc4a36dd\"\n",
    "run_no = \"3\"\n",
    "universe = \"{\\\"cutoff\\\": [\\\"quantile_0.1\\\", \\\"quantile_0.25\\\"], \\\"eval_fairness_grouping\\\": [\\\"majority-minority\\\", \\\"nationality-all\\\"], \\\"exclude_features\\\": \\\"none\\\", \\\"exclude_subgroups\\\": \\\"keep-all\\\", \\\"model\\\": \\\"logreg\\\", \\\"scale\\\": \\\"scale\\\", \\\"training_size\\\": \\\"1k\\\", \\\"training_year\\\": \\\"2012_14\\\"}\"\n",
    "output_dir = \"output\"\n",
    "seed = \"2023\"\n"
   ]
  },
  {
   "cell_type": "code",
   "execution_count": 5,
   "id": "a5d7941f",
   "metadata": {
    "execution": {
     "iopub.execute_input": "2025-08-19T18:56:26.091589Z",
     "iopub.status.busy": "2025-08-19T18:56:26.090509Z",
     "iopub.status.idle": "2025-08-19T18:56:26.099311Z",
     "shell.execute_reply": "2025-08-19T18:56:26.097779Z"
    },
    "papermill": {
     "duration": 0.021596,
     "end_time": "2025-08-19T18:56:26.100968",
     "exception": false,
     "start_time": "2025-08-19T18:56:26.079372",
     "status": "completed"
    },
    "tags": []
   },
   "outputs": [],
   "source": [
    "import json\n",
    "if isinstance(universe, str):\n",
    "    universe = json.loads(universe)"
   ]
  },
  {
   "cell_type": "code",
   "execution_count": 6,
   "id": "7076ccb1",
   "metadata": {
    "execution": {
     "iopub.execute_input": "2025-08-19T18:56:26.124013Z",
     "iopub.status.busy": "2025-08-19T18:56:26.122907Z",
     "iopub.status.idle": "2025-08-19T18:56:26.167213Z",
     "shell.execute_reply": "2025-08-19T18:56:26.166259Z"
    },
    "papermill": {
     "duration": 0.057588,
     "end_time": "2025-08-19T18:56:26.169155",
     "exception": false,
     "start_time": "2025-08-19T18:56:26.111567",
     "status": "completed"
    },
    "tags": []
   },
   "outputs": [],
   "source": [
    "# Auto-reload the custom package\n",
    "%load_ext autoreload\n",
    "%autoreload 1\n",
    "%aimport fairness_multiverse"
   ]
  },
  {
   "cell_type": "code",
   "execution_count": 7,
   "id": "94c8eb93",
   "metadata": {
    "execution": {
     "iopub.execute_input": "2025-08-19T18:56:26.189681Z",
     "iopub.status.busy": "2025-08-19T18:56:26.189352Z",
     "iopub.status.idle": "2025-08-19T18:56:27.761512Z",
     "shell.execute_reply": "2025-08-19T18:56:27.760507Z"
    },
    "papermill": {
     "duration": 1.584102,
     "end_time": "2025-08-19T18:56:27.763105",
     "exception": false,
     "start_time": "2025-08-19T18:56:26.179003",
     "status": "completed"
    },
    "tags": []
   },
   "outputs": [],
   "source": [
    "from fairness_multiverse.universe import UniverseAnalysis\n",
    "\n",
    "universe_analysis = UniverseAnalysis(\n",
    "    run_no = run_no,\n",
    "    universe_id = universe_id,\n",
    "    universe = universe,\n",
    "    output_dir=output_dir,\n",
    ")"
   ]
  },
  {
   "cell_type": "code",
   "execution_count": 8,
   "id": "2a6381cf",
   "metadata": {
    "execution": {
     "iopub.execute_input": "2025-08-19T18:56:27.785311Z",
     "iopub.status.busy": "2025-08-19T18:56:27.783905Z",
     "iopub.status.idle": "2025-08-19T18:56:27.793001Z",
     "shell.execute_reply": "2025-08-19T18:56:27.791896Z"
    },
    "papermill": {
     "duration": 0.021578,
     "end_time": "2025-08-19T18:56:27.794451",
     "exception": false,
     "start_time": "2025-08-19T18:56:27.772873",
     "status": "completed"
    },
    "tags": []
   },
   "outputs": [
    {
     "name": "stdout",
     "output_type": "stream",
     "text": [
      "Using Seed: 2023\n"
     ]
    }
   ],
   "source": [
    "import numpy as np\n",
    "parsed_seed = int(seed)\n",
    "np.random.seed(parsed_seed)\n",
    "print(f\"Using Seed: {parsed_seed}\")"
   ]
  },
  {
   "cell_type": "markdown",
   "id": "b6e958b4",
   "metadata": {
    "papermill": {
     "duration": 0.013947,
     "end_time": "2025-08-19T18:56:27.819566",
     "exception": false,
     "start_time": "2025-08-19T18:56:27.805619",
     "status": "completed"
    },
    "tags": []
   },
   "source": [
    "# Loading Data"
   ]
  },
  {
   "cell_type": "code",
   "execution_count": 9,
   "id": "98701482",
   "metadata": {
    "execution": {
     "iopub.execute_input": "2025-08-19T18:56:27.845508Z",
     "iopub.status.busy": "2025-08-19T18:56:27.844077Z",
     "iopub.status.idle": "2025-08-19T18:56:38.891260Z",
     "shell.execute_reply": "2025-08-19T18:56:38.889977Z"
    },
    "papermill": {
     "duration": 11.062014,
     "end_time": "2025-08-19T18:56:38.894614",
     "exception": false,
     "start_time": "2025-08-19T18:56:27.832600",
     "status": "completed"
    },
    "tags": []
   },
   "outputs": [
    {
     "name": "stdout",
     "output_type": "stream",
     "text": [
      "Loading SIAB data from cache: data/siab_cached.csv.gz\n"
     ]
    },
    {
     "name": "stdout",
     "output_type": "stream",
     "text": [
      "(643690, 164)\n"
     ]
    }
   ],
   "source": [
    "from pathlib import Path\n",
    "import pandas as pd\n",
    "\n",
    "# File paths\n",
    "raw_file = Path(\"data/raw/siab.csv\")\n",
    "cache_file = Path(\"data/siab_cached.csv.gz\")\n",
    "\n",
    "# Ensure cache directory exists\n",
    "cache_file.parent.mkdir(parents=True, exist_ok=True)\n",
    "\n",
    "# Load with simple caching\n",
    "if cache_file.exists():\n",
    "    print(f\"Loading SIAB data from cache: {cache_file}\")\n",
    "    siab = pd.read_csv(cache_file, compression='gzip')\n",
    "else:\n",
    "    print(f\"Cache not found. Reading raw SIAB data: {raw_file}\")\n",
    "    siab = pd.read_csv(raw_file)\n",
    "    siab.to_csv(cache_file, index=False, compression='gzip')\n",
    "    print(f\"Cached SIAB data to: {cache_file}\")\n",
    "\n",
    "print(siab.shape)"
   ]
  },
  {
   "cell_type": "code",
   "execution_count": 10,
   "id": "058d2abb",
   "metadata": {
    "execution": {
     "iopub.execute_input": "2025-08-19T18:56:38.930225Z",
     "iopub.status.busy": "2025-08-19T18:56:38.929116Z",
     "iopub.status.idle": "2025-08-19T18:56:39.207108Z",
     "shell.execute_reply": "2025-08-19T18:56:39.205727Z"
    },
    "papermill": {
     "duration": 0.302557,
     "end_time": "2025-08-19T18:56:39.210034",
     "exception": false,
     "start_time": "2025-08-19T18:56:38.907477",
     "status": "completed"
    },
    "tags": []
   },
   "outputs": [
    {
     "data": {
      "text/html": [
       "<div>\n",
       "<style scoped>\n",
       "    .dataframe tbody tr th:only-of-type {\n",
       "        vertical-align: middle;\n",
       "    }\n",
       "\n",
       "    .dataframe tbody tr th {\n",
       "        vertical-align: top;\n",
       "    }\n",
       "\n",
       "    .dataframe thead th {\n",
       "        text-align: right;\n",
       "    }\n",
       "</style>\n",
       "<table border=\"1\" class=\"dataframe\">\n",
       "  <thead>\n",
       "    <tr style=\"text-align: right;\">\n",
       "      <th></th>\n",
       "      <th>persnr</th>\n",
       "      <th>year</th>\n",
       "      <th>nrEntry</th>\n",
       "      <th>ltue</th>\n",
       "      <th>employed_before</th>\n",
       "      <th>receipt_leh_before</th>\n",
       "      <th>receipt_lhg_before</th>\n",
       "      <th>se_before</th>\n",
       "      <th>ASU_notue_seeking_before</th>\n",
       "      <th>ASU_other_before</th>\n",
       "      <th>...</th>\n",
       "      <th>minijob_tot_dur_byage</th>\n",
       "      <th>ft_tot_dur_byage</th>\n",
       "      <th>befrist_tot_dur_byage</th>\n",
       "      <th>leih_tot_dur_byage</th>\n",
       "      <th>LHG_tot_dur_byage</th>\n",
       "      <th>LEH_tot_dur_byage</th>\n",
       "      <th>almp_tot_dur_byage</th>\n",
       "      <th>almp_aw_tot_dur_byage</th>\n",
       "      <th>se_tot_dur_byage</th>\n",
       "      <th>seeking1_tot_dur_byage</th>\n",
       "    </tr>\n",
       "  </thead>\n",
       "  <tbody>\n",
       "    <tr>\n",
       "      <th>0</th>\n",
       "      <td>7</td>\n",
       "      <td>2015</td>\n",
       "      <td>1</td>\n",
       "      <td>0</td>\n",
       "      <td>1</td>\n",
       "      <td>0</td>\n",
       "      <td>0</td>\n",
       "      <td>0</td>\n",
       "      <td>1</td>\n",
       "      <td>0</td>\n",
       "      <td>...</td>\n",
       "      <td>0.000000</td>\n",
       "      <td>0.000000</td>\n",
       "      <td>15.043478</td>\n",
       "      <td>0.000000</td>\n",
       "      <td>0.000000</td>\n",
       "      <td>0.000000</td>\n",
       "      <td>0.000000</td>\n",
       "      <td>0.000000</td>\n",
       "      <td>0.000000</td>\n",
       "      <td>0.000000</td>\n",
       "    </tr>\n",
       "    <tr>\n",
       "      <th>1</th>\n",
       "      <td>18</td>\n",
       "      <td>2010</td>\n",
       "      <td>1</td>\n",
       "      <td>1</td>\n",
       "      <td>0</td>\n",
       "      <td>0</td>\n",
       "      <td>0</td>\n",
       "      <td>0</td>\n",
       "      <td>0</td>\n",
       "      <td>0</td>\n",
       "      <td>...</td>\n",
       "      <td>0.000000</td>\n",
       "      <td>0.000000</td>\n",
       "      <td>0.000000</td>\n",
       "      <td>0.000000</td>\n",
       "      <td>0.000000</td>\n",
       "      <td>0.000000</td>\n",
       "      <td>0.000000</td>\n",
       "      <td>0.000000</td>\n",
       "      <td>0.000000</td>\n",
       "      <td>0.000000</td>\n",
       "    </tr>\n",
       "    <tr>\n",
       "      <th>2</th>\n",
       "      <td>18</td>\n",
       "      <td>2011</td>\n",
       "      <td>2</td>\n",
       "      <td>0</td>\n",
       "      <td>1</td>\n",
       "      <td>0</td>\n",
       "      <td>1</td>\n",
       "      <td>0</td>\n",
       "      <td>1</td>\n",
       "      <td>0</td>\n",
       "      <td>...</td>\n",
       "      <td>2.714286</td>\n",
       "      <td>2.714286</td>\n",
       "      <td>0.000000</td>\n",
       "      <td>0.000000</td>\n",
       "      <td>10.775510</td>\n",
       "      <td>0.000000</td>\n",
       "      <td>8.367347</td>\n",
       "      <td>0.000000</td>\n",
       "      <td>0.000000</td>\n",
       "      <td>9.836735</td>\n",
       "    </tr>\n",
       "    <tr>\n",
       "      <th>3</th>\n",
       "      <td>18</td>\n",
       "      <td>2012</td>\n",
       "      <td>3</td>\n",
       "      <td>0</td>\n",
       "      <td>1</td>\n",
       "      <td>0</td>\n",
       "      <td>1</td>\n",
       "      <td>0</td>\n",
       "      <td>1</td>\n",
       "      <td>0</td>\n",
       "      <td>...</td>\n",
       "      <td>4.200000</td>\n",
       "      <td>4.200000</td>\n",
       "      <td>0.000000</td>\n",
       "      <td>0.000000</td>\n",
       "      <td>12.100000</td>\n",
       "      <td>0.000000</td>\n",
       "      <td>9.400000</td>\n",
       "      <td>0.000000</td>\n",
       "      <td>0.000000</td>\n",
       "      <td>9.960000</td>\n",
       "    </tr>\n",
       "    <tr>\n",
       "      <th>4</th>\n",
       "      <td>18</td>\n",
       "      <td>2012</td>\n",
       "      <td>4</td>\n",
       "      <td>0</td>\n",
       "      <td>1</td>\n",
       "      <td>0</td>\n",
       "      <td>1</td>\n",
       "      <td>0</td>\n",
       "      <td>1</td>\n",
       "      <td>0</td>\n",
       "      <td>...</td>\n",
       "      <td>5.460000</td>\n",
       "      <td>5.460000</td>\n",
       "      <td>0.000000</td>\n",
       "      <td>0.000000</td>\n",
       "      <td>13.360000</td>\n",
       "      <td>0.000000</td>\n",
       "      <td>10.320000</td>\n",
       "      <td>0.000000</td>\n",
       "      <td>0.000000</td>\n",
       "      <td>10.280000</td>\n",
       "    </tr>\n",
       "    <tr>\n",
       "      <th>...</th>\n",
       "      <td>...</td>\n",
       "      <td>...</td>\n",
       "      <td>...</td>\n",
       "      <td>...</td>\n",
       "      <td>...</td>\n",
       "      <td>...</td>\n",
       "      <td>...</td>\n",
       "      <td>...</td>\n",
       "      <td>...</td>\n",
       "      <td>...</td>\n",
       "      <td>...</td>\n",
       "      <td>...</td>\n",
       "      <td>...</td>\n",
       "      <td>...</td>\n",
       "      <td>...</td>\n",
       "      <td>...</td>\n",
       "      <td>...</td>\n",
       "      <td>...</td>\n",
       "      <td>...</td>\n",
       "      <td>...</td>\n",
       "      <td>...</td>\n",
       "    </tr>\n",
       "    <tr>\n",
       "      <th>643685</th>\n",
       "      <td>1827860</td>\n",
       "      <td>2013</td>\n",
       "      <td>1</td>\n",
       "      <td>0</td>\n",
       "      <td>0</td>\n",
       "      <td>0</td>\n",
       "      <td>1</td>\n",
       "      <td>0</td>\n",
       "      <td>0</td>\n",
       "      <td>1</td>\n",
       "      <td>...</td>\n",
       "      <td>0.000000</td>\n",
       "      <td>0.000000</td>\n",
       "      <td>0.000000</td>\n",
       "      <td>0.000000</td>\n",
       "      <td>0.612903</td>\n",
       "      <td>0.000000</td>\n",
       "      <td>0.000000</td>\n",
       "      <td>0.000000</td>\n",
       "      <td>0.000000</td>\n",
       "      <td>0.000000</td>\n",
       "    </tr>\n",
       "    <tr>\n",
       "      <th>643686</th>\n",
       "      <td>1827860</td>\n",
       "      <td>2015</td>\n",
       "      <td>2</td>\n",
       "      <td>1</td>\n",
       "      <td>0</td>\n",
       "      <td>0</td>\n",
       "      <td>1</td>\n",
       "      <td>0</td>\n",
       "      <td>1</td>\n",
       "      <td>0</td>\n",
       "      <td>...</td>\n",
       "      <td>0.000000</td>\n",
       "      <td>0.000000</td>\n",
       "      <td>0.212121</td>\n",
       "      <td>0.212121</td>\n",
       "      <td>17.363636</td>\n",
       "      <td>0.000000</td>\n",
       "      <td>8.909091</td>\n",
       "      <td>0.000000</td>\n",
       "      <td>0.000000</td>\n",
       "      <td>7.121212</td>\n",
       "    </tr>\n",
       "    <tr>\n",
       "      <th>643687</th>\n",
       "      <td>1827860</td>\n",
       "      <td>2016</td>\n",
       "      <td>3</td>\n",
       "      <td>1</td>\n",
       "      <td>0</td>\n",
       "      <td>0</td>\n",
       "      <td>1</td>\n",
       "      <td>1</td>\n",
       "      <td>0</td>\n",
       "      <td>1</td>\n",
       "      <td>...</td>\n",
       "      <td>0.000000</td>\n",
       "      <td>0.000000</td>\n",
       "      <td>0.294118</td>\n",
       "      <td>0.205882</td>\n",
       "      <td>34.705882</td>\n",
       "      <td>0.000000</td>\n",
       "      <td>10.352941</td>\n",
       "      <td>1.705882</td>\n",
       "      <td>1.705882</td>\n",
       "      <td>23.911765</td>\n",
       "    </tr>\n",
       "    <tr>\n",
       "      <th>643688</th>\n",
       "      <td>1827869</td>\n",
       "      <td>2013</td>\n",
       "      <td>1</td>\n",
       "      <td>1</td>\n",
       "      <td>1</td>\n",
       "      <td>0</td>\n",
       "      <td>0</td>\n",
       "      <td>0</td>\n",
       "      <td>1</td>\n",
       "      <td>0</td>\n",
       "      <td>...</td>\n",
       "      <td>0.000000</td>\n",
       "      <td>0.000000</td>\n",
       "      <td>0.000000</td>\n",
       "      <td>0.000000</td>\n",
       "      <td>0.000000</td>\n",
       "      <td>0.525424</td>\n",
       "      <td>0.000000</td>\n",
       "      <td>0.000000</td>\n",
       "      <td>0.000000</td>\n",
       "      <td>0.000000</td>\n",
       "    </tr>\n",
       "    <tr>\n",
       "      <th>643689</th>\n",
       "      <td>1827869</td>\n",
       "      <td>2014</td>\n",
       "      <td>2</td>\n",
       "      <td>0</td>\n",
       "      <td>0</td>\n",
       "      <td>1</td>\n",
       "      <td>0</td>\n",
       "      <td>0</td>\n",
       "      <td>1</td>\n",
       "      <td>0</td>\n",
       "      <td>...</td>\n",
       "      <td>0.000000</td>\n",
       "      <td>0.666667</td>\n",
       "      <td>0.666667</td>\n",
       "      <td>0.000000</td>\n",
       "      <td>0.000000</td>\n",
       "      <td>8.950000</td>\n",
       "      <td>1.033333</td>\n",
       "      <td>0.083333</td>\n",
       "      <td>0.083333</td>\n",
       "      <td>8.133333</td>\n",
       "    </tr>\n",
       "  </tbody>\n",
       "</table>\n",
       "<p>643690 rows × 164 columns</p>\n",
       "</div>"
      ],
      "text/plain": [
       "         persnr  year  nrEntry  ltue  employed_before  receipt_leh_before  \\\n",
       "0             7  2015        1     0                1                   0   \n",
       "1            18  2010        1     1                0                   0   \n",
       "2            18  2011        2     0                1                   0   \n",
       "3            18  2012        3     0                1                   0   \n",
       "4            18  2012        4     0                1                   0   \n",
       "...         ...   ...      ...   ...              ...                 ...   \n",
       "643685  1827860  2013        1     0                0                   0   \n",
       "643686  1827860  2015        2     1                0                   0   \n",
       "643687  1827860  2016        3     1                0                   0   \n",
       "643688  1827869  2013        1     1                1                   0   \n",
       "643689  1827869  2014        2     0                0                   1   \n",
       "\n",
       "        receipt_lhg_before  se_before  ASU_notue_seeking_before  \\\n",
       "0                        0          0                         1   \n",
       "1                        0          0                         0   \n",
       "2                        1          0                         1   \n",
       "3                        1          0                         1   \n",
       "4                        1          0                         1   \n",
       "...                    ...        ...                       ...   \n",
       "643685                   1          0                         0   \n",
       "643686                   1          0                         1   \n",
       "643687                   1          1                         0   \n",
       "643688                   0          0                         1   \n",
       "643689                   0          0                         1   \n",
       "\n",
       "        ASU_other_before  ...  minijob_tot_dur_byage  ft_tot_dur_byage  \\\n",
       "0                      0  ...               0.000000          0.000000   \n",
       "1                      0  ...               0.000000          0.000000   \n",
       "2                      0  ...               2.714286          2.714286   \n",
       "3                      0  ...               4.200000          4.200000   \n",
       "4                      0  ...               5.460000          5.460000   \n",
       "...                  ...  ...                    ...               ...   \n",
       "643685                 1  ...               0.000000          0.000000   \n",
       "643686                 0  ...               0.000000          0.000000   \n",
       "643687                 1  ...               0.000000          0.000000   \n",
       "643688                 0  ...               0.000000          0.000000   \n",
       "643689                 0  ...               0.000000          0.666667   \n",
       "\n",
       "        befrist_tot_dur_byage  leih_tot_dur_byage  LHG_tot_dur_byage  \\\n",
       "0                   15.043478            0.000000           0.000000   \n",
       "1                    0.000000            0.000000           0.000000   \n",
       "2                    0.000000            0.000000          10.775510   \n",
       "3                    0.000000            0.000000          12.100000   \n",
       "4                    0.000000            0.000000          13.360000   \n",
       "...                       ...                 ...                ...   \n",
       "643685               0.000000            0.000000           0.612903   \n",
       "643686               0.212121            0.212121          17.363636   \n",
       "643687               0.294118            0.205882          34.705882   \n",
       "643688               0.000000            0.000000           0.000000   \n",
       "643689               0.666667            0.000000           0.000000   \n",
       "\n",
       "        LEH_tot_dur_byage  almp_tot_dur_byage  almp_aw_tot_dur_byage  \\\n",
       "0                0.000000            0.000000               0.000000   \n",
       "1                0.000000            0.000000               0.000000   \n",
       "2                0.000000            8.367347               0.000000   \n",
       "3                0.000000            9.400000               0.000000   \n",
       "4                0.000000           10.320000               0.000000   \n",
       "...                   ...                 ...                    ...   \n",
       "643685           0.000000            0.000000               0.000000   \n",
       "643686           0.000000            8.909091               0.000000   \n",
       "643687           0.000000           10.352941               1.705882   \n",
       "643688           0.525424            0.000000               0.000000   \n",
       "643689           8.950000            1.033333               0.083333   \n",
       "\n",
       "        se_tot_dur_byage  seeking1_tot_dur_byage  \n",
       "0               0.000000                0.000000  \n",
       "1               0.000000                0.000000  \n",
       "2               0.000000                9.836735  \n",
       "3               0.000000                9.960000  \n",
       "4               0.000000               10.280000  \n",
       "...                  ...                     ...  \n",
       "643685          0.000000                0.000000  \n",
       "643686          0.000000                7.121212  \n",
       "643687          1.705882               23.911765  \n",
       "643688          0.000000                0.000000  \n",
       "643689          0.083333                8.133333  \n",
       "\n",
       "[643690 rows x 164 columns]"
      ]
     },
     "execution_count": 10,
     "metadata": {},
     "output_type": "execute_result"
    }
   ],
   "source": [
    "siab"
   ]
  },
  {
   "cell_type": "markdown",
   "id": "1f87e805",
   "metadata": {
    "papermill": {
     "duration": 0.011859,
     "end_time": "2025-08-19T18:56:39.244534",
     "exception": false,
     "start_time": "2025-08-19T18:56:39.232675",
     "status": "completed"
    },
    "tags": []
   },
   "source": [
    "# Splitting Data and Setting Training Data Size"
   ]
  },
  {
   "cell_type": "code",
   "execution_count": 11,
   "id": "910ae358",
   "metadata": {
    "execution": {
     "iopub.execute_input": "2025-08-19T18:56:39.267820Z",
     "iopub.status.busy": "2025-08-19T18:56:39.267198Z",
     "iopub.status.idle": "2025-08-19T18:56:39.993146Z",
     "shell.execute_reply": "2025-08-19T18:56:39.991945Z"
    },
    "papermill": {
     "duration": 0.740204,
     "end_time": "2025-08-19T18:56:39.994779",
     "exception": false,
     "start_time": "2025-08-19T18:56:39.254575",
     "status": "completed"
    },
    "tags": []
   },
   "outputs": [],
   "source": [
    "from fairness_multiverse.universe import sample_by_year_size\n",
    "\n",
    "siab_train = sample_by_year_size(siab,\n",
    "                               training_year=universe[\"training_year\"],\n",
    "                               training_size=universe[\"training_size\"])"
   ]
  },
  {
   "cell_type": "code",
   "execution_count": 12,
   "id": "919c8ff5",
   "metadata": {
    "execution": {
     "iopub.execute_input": "2025-08-19T18:56:40.017454Z",
     "iopub.status.busy": "2025-08-19T18:56:40.016668Z",
     "iopub.status.idle": "2025-08-19T18:56:40.028932Z",
     "shell.execute_reply": "2025-08-19T18:56:40.027269Z"
    },
    "papermill": {
     "duration": 0.02535,
     "end_time": "2025-08-19T18:56:40.030687",
     "exception": false,
     "start_time": "2025-08-19T18:56:40.005337",
     "status": "completed"
    },
    "tags": []
   },
   "outputs": [
    {
     "data": {
      "text/plain": [
       "(1000, 164)"
      ]
     },
     "execution_count": 12,
     "metadata": {},
     "output_type": "execute_result"
    }
   ],
   "source": [
    "siab_train.shape"
   ]
  },
  {
   "cell_type": "code",
   "execution_count": 13,
   "id": "feb13bf4",
   "metadata": {
    "execution": {
     "iopub.execute_input": "2025-08-19T18:56:40.054993Z",
     "iopub.status.busy": "2025-08-19T18:56:40.054713Z",
     "iopub.status.idle": "2025-08-19T18:56:40.071973Z",
     "shell.execute_reply": "2025-08-19T18:56:40.071084Z"
    },
    "papermill": {
     "duration": 0.029949,
     "end_time": "2025-08-19T18:56:40.073231",
     "exception": false,
     "start_time": "2025-08-19T18:56:40.043282",
     "status": "completed"
    },
    "tags": []
   },
   "outputs": [
    {
     "data": {
      "text/plain": [
       "year\n",
       "2012    334\n",
       "2013    333\n",
       "2014    333\n",
       "dtype: int64"
      ]
     },
     "metadata": {},
     "output_type": "display_data"
    }
   ],
   "source": [
    "display(siab_train.groupby(\"year\").size())"
   ]
  },
  {
   "cell_type": "code",
   "execution_count": 14,
   "id": "0997782f",
   "metadata": {
    "execution": {
     "iopub.execute_input": "2025-08-19T18:56:40.104825Z",
     "iopub.status.busy": "2025-08-19T18:56:40.104394Z",
     "iopub.status.idle": "2025-08-19T18:56:40.412229Z",
     "shell.execute_reply": "2025-08-19T18:56:40.411343Z"
    },
    "papermill": {
     "duration": 0.331283,
     "end_time": "2025-08-19T18:56:40.415306",
     "exception": false,
     "start_time": "2025-08-19T18:56:40.084023",
     "status": "completed"
    },
    "tags": []
   },
   "outputs": [],
   "source": [
    "#siab_train = siab_s[siab_s.year < 2015]\n",
    "siab_calib = siab[siab.year == 2015]\n",
    "siab_test = siab[siab.year == 2016]"
   ]
  },
  {
   "cell_type": "code",
   "execution_count": 15,
   "id": "2c1e4012",
   "metadata": {
    "execution": {
     "iopub.execute_input": "2025-08-19T18:56:40.455127Z",
     "iopub.status.busy": "2025-08-19T18:56:40.454384Z",
     "iopub.status.idle": "2025-08-19T18:56:40.464586Z",
     "shell.execute_reply": "2025-08-19T18:56:40.461415Z"
    },
    "papermill": {
     "duration": 0.033667,
     "end_time": "2025-08-19T18:56:40.473610",
     "exception": false,
     "start_time": "2025-08-19T18:56:40.439943",
     "status": "completed"
    },
    "tags": []
   },
   "outputs": [],
   "source": [
    "#siab_calib.shape"
   ]
  },
  {
   "cell_type": "code",
   "execution_count": 16,
   "id": "f66b54ca",
   "metadata": {
    "execution": {
     "iopub.execute_input": "2025-08-19T18:56:40.512619Z",
     "iopub.status.busy": "2025-08-19T18:56:40.512273Z",
     "iopub.status.idle": "2025-08-19T18:56:40.517468Z",
     "shell.execute_reply": "2025-08-19T18:56:40.516223Z"
    },
    "papermill": {
     "duration": 0.020961,
     "end_time": "2025-08-19T18:56:40.518938",
     "exception": false,
     "start_time": "2025-08-19T18:56:40.497977",
     "status": "completed"
    },
    "tags": []
   },
   "outputs": [],
   "source": [
    "#siab_test.shape"
   ]
  },
  {
   "cell_type": "code",
   "execution_count": 17,
   "id": "27e4384d",
   "metadata": {
    "execution": {
     "iopub.execute_input": "2025-08-19T18:56:40.541467Z",
     "iopub.status.busy": "2025-08-19T18:56:40.541169Z",
     "iopub.status.idle": "2025-08-19T18:56:40.548078Z",
     "shell.execute_reply": "2025-08-19T18:56:40.546699Z"
    },
    "papermill": {
     "duration": 0.019905,
     "end_time": "2025-08-19T18:56:40.549865",
     "exception": false,
     "start_time": "2025-08-19T18:56:40.529960",
     "status": "completed"
    },
    "tags": []
   },
   "outputs": [],
   "source": [
    "X_train = siab_train.iloc[:,4:164]\n",
    "y_train = siab_train.iloc[:, [3]]"
   ]
  },
  {
   "cell_type": "code",
   "execution_count": 18,
   "id": "08ee8389",
   "metadata": {
    "execution": {
     "iopub.execute_input": "2025-08-19T18:56:40.573767Z",
     "iopub.status.busy": "2025-08-19T18:56:40.573461Z",
     "iopub.status.idle": "2025-08-19T18:56:40.635811Z",
     "shell.execute_reply": "2025-08-19T18:56:40.634321Z"
    },
    "papermill": {
     "duration": 0.077286,
     "end_time": "2025-08-19T18:56:40.639598",
     "exception": false,
     "start_time": "2025-08-19T18:56:40.562312",
     "status": "completed"
    },
    "tags": []
   },
   "outputs": [],
   "source": [
    "X_calib = siab_calib.iloc[:,4:164]\n",
    "y_calib = siab_calib.iloc[:, [3]]"
   ]
  },
  {
   "cell_type": "code",
   "execution_count": 19,
   "id": "b7ff42e0",
   "metadata": {
    "execution": {
     "iopub.execute_input": "2025-08-19T18:56:40.669948Z",
     "iopub.status.busy": "2025-08-19T18:56:40.669528Z",
     "iopub.status.idle": "2025-08-19T18:56:40.728133Z",
     "shell.execute_reply": "2025-08-19T18:56:40.726749Z"
    },
    "papermill": {
     "duration": 0.072841,
     "end_time": "2025-08-19T18:56:40.729813",
     "exception": false,
     "start_time": "2025-08-19T18:56:40.656972",
     "status": "completed"
    },
    "tags": []
   },
   "outputs": [],
   "source": [
    "X_test = siab_test.iloc[:,4:164]\n",
    "y_true = siab_test.iloc[:, [3]]"
   ]
  },
  {
   "cell_type": "code",
   "execution_count": 20,
   "id": "0275101e",
   "metadata": {
    "execution": {
     "iopub.execute_input": "2025-08-19T18:56:40.753568Z",
     "iopub.status.busy": "2025-08-19T18:56:40.752442Z",
     "iopub.status.idle": "2025-08-19T18:56:40.896456Z",
     "shell.execute_reply": "2025-08-19T18:56:40.895382Z"
    },
    "papermill": {
     "duration": 0.157668,
     "end_time": "2025-08-19T18:56:40.898433",
     "exception": false,
     "start_time": "2025-08-19T18:56:40.740765",
     "status": "completed"
    },
    "tags": []
   },
   "outputs": [],
   "source": [
    "# Auxiliary data needed downstream in the pipeline\n",
    "\n",
    "org_train = X_train.copy()\n",
    "org_test = X_test.copy()\n",
    "org_calib = X_calib.copy()"
   ]
  },
  {
   "cell_type": "markdown",
   "id": "b461e618",
   "metadata": {
    "papermill": {
     "duration": 0.010533,
     "end_time": "2025-08-19T18:56:40.921702",
     "exception": false,
     "start_time": "2025-08-19T18:56:40.911169",
     "status": "completed"
    },
    "tags": []
   },
   "source": [
    "# Preprocessing Data"
   ]
  },
  {
   "cell_type": "code",
   "execution_count": 21,
   "id": "78e74c4b",
   "metadata": {
    "execution": {
     "iopub.execute_input": "2025-08-19T18:56:40.953968Z",
     "iopub.status.busy": "2025-08-19T18:56:40.952996Z",
     "iopub.status.idle": "2025-08-19T18:56:40.959608Z",
     "shell.execute_reply": "2025-08-19T18:56:40.958682Z"
    },
    "papermill": {
     "duration": 0.030138,
     "end_time": "2025-08-19T18:56:40.962122",
     "exception": false,
     "start_time": "2025-08-19T18:56:40.931984",
     "status": "completed"
    },
    "tags": []
   },
   "outputs": [],
   "source": [
    "# EXCLUDE PROTECTED FEATURES\n",
    "# --------------------------\n",
    "\n",
    "excluded_features = universe[\"exclude_features\"].split(\"-\")\n",
    "excluded_features_dictionary = {\n",
    "    \"nationality\": [\"maxdeutsch1\", \"maxdeutsch.Missing.\"],\n",
    "    \"sex\": [\"frau1\"],\n",
    "    \"age\": [\"age\"],\n",
    "}"
   ]
  },
  {
   "cell_type": "code",
   "execution_count": 22,
   "id": "f8e63555",
   "metadata": {
    "execution": {
     "iopub.execute_input": "2025-08-19T18:56:40.988350Z",
     "iopub.status.busy": "2025-08-19T18:56:40.987952Z",
     "iopub.status.idle": "2025-08-19T18:56:40.993396Z",
     "shell.execute_reply": "2025-08-19T18:56:40.992528Z"
    },
    "papermill": {
     "duration": 0.019026,
     "end_time": "2025-08-19T18:56:40.995224",
     "exception": false,
     "start_time": "2025-08-19T18:56:40.976198",
     "status": "completed"
    },
    "tags": []
   },
   "outputs": [],
   "source": [
    "excluded_features_columns = [\n",
    "    excluded_features_dictionary[f] for f in excluded_features if len(f) > 0 and f != \"none\"\n",
    "]"
   ]
  },
  {
   "cell_type": "code",
   "execution_count": 23,
   "id": "da781f7c",
   "metadata": {
    "execution": {
     "iopub.execute_input": "2025-08-19T18:56:41.018817Z",
     "iopub.status.busy": "2025-08-19T18:56:41.018423Z",
     "iopub.status.idle": "2025-08-19T18:56:41.023482Z",
     "shell.execute_reply": "2025-08-19T18:56:41.022285Z"
    },
    "papermill": {
     "duration": 0.018122,
     "end_time": "2025-08-19T18:56:41.025098",
     "exception": false,
     "start_time": "2025-08-19T18:56:41.006976",
     "status": "completed"
    },
    "tags": []
   },
   "outputs": [],
   "source": [
    "from fairness_multiverse.universe import flatten_once\n",
    "\n",
    "excluded_features_columns = flatten_once(excluded_features_columns)"
   ]
  },
  {
   "cell_type": "code",
   "execution_count": 24,
   "id": "37fef0f0",
   "metadata": {
    "execution": {
     "iopub.execute_input": "2025-08-19T18:56:41.048371Z",
     "iopub.status.busy": "2025-08-19T18:56:41.047977Z",
     "iopub.status.idle": "2025-08-19T18:56:41.053135Z",
     "shell.execute_reply": "2025-08-19T18:56:41.052164Z"
    },
    "papermill": {
     "duration": 0.018072,
     "end_time": "2025-08-19T18:56:41.054690",
     "exception": false,
     "start_time": "2025-08-19T18:56:41.036618",
     "status": "completed"
    },
    "tags": []
   },
   "outputs": [],
   "source": [
    "if len(excluded_features_columns) > 0:\n",
    "    print(f\"Dropping features: {excluded_features_columns}\")\n",
    "    X_train.drop(excluded_features_columns, axis=1, inplace=True)"
   ]
  },
  {
   "cell_type": "code",
   "execution_count": 25,
   "id": "d029e3e9",
   "metadata": {
    "execution": {
     "iopub.execute_input": "2025-08-19T18:56:41.078358Z",
     "iopub.status.busy": "2025-08-19T18:56:41.077963Z",
     "iopub.status.idle": "2025-08-19T18:56:41.083385Z",
     "shell.execute_reply": "2025-08-19T18:56:41.082238Z"
    },
    "papermill": {
     "duration": 0.018843,
     "end_time": "2025-08-19T18:56:41.085175",
     "exception": false,
     "start_time": "2025-08-19T18:56:41.066332",
     "status": "completed"
    },
    "tags": []
   },
   "outputs": [],
   "source": [
    "if len(excluded_features_columns) > 0:\n",
    "    print(f\"Dropping features: {excluded_features_columns}\")\n",
    "    X_test.drop(excluded_features_columns, axis=1, inplace=True)"
   ]
  },
  {
   "cell_type": "code",
   "execution_count": 26,
   "id": "01d571f0",
   "metadata": {
    "execution": {
     "iopub.execute_input": "2025-08-19T18:56:41.108617Z",
     "iopub.status.busy": "2025-08-19T18:56:41.108198Z",
     "iopub.status.idle": "2025-08-19T18:56:41.113415Z",
     "shell.execute_reply": "2025-08-19T18:56:41.112211Z"
    },
    "papermill": {
     "duration": 0.018274,
     "end_time": "2025-08-19T18:56:41.114881",
     "exception": false,
     "start_time": "2025-08-19T18:56:41.096607",
     "status": "completed"
    },
    "tags": []
   },
   "outputs": [],
   "source": [
    "if len(excluded_features_columns) > 0:\n",
    "    print(f\"Dropping features: {excluded_features_columns}\")\n",
    "    X_calib.drop(excluded_features_columns, axis=1, inplace=True)"
   ]
  },
  {
   "cell_type": "code",
   "execution_count": 27,
   "id": "3037356e",
   "metadata": {
    "execution": {
     "iopub.execute_input": "2025-08-19T18:56:41.139453Z",
     "iopub.status.busy": "2025-08-19T18:56:41.139048Z",
     "iopub.status.idle": "2025-08-19T18:56:41.144154Z",
     "shell.execute_reply": "2025-08-19T18:56:41.142969Z"
    },
    "papermill": {
     "duration": 0.01808,
     "end_time": "2025-08-19T18:56:41.145696",
     "exception": false,
     "start_time": "2025-08-19T18:56:41.127616",
     "status": "completed"
    },
    "tags": []
   },
   "outputs": [],
   "source": [
    "# EXCLUDE CERTAIN SUBGROUPS\n",
    "# -------------------------\n",
    "\n",
    "mode = universe.get(\"exclude_subgroups\", \"keep-all\") # Defaults to \"keep-all\" if the key is missing."
   ]
  },
  {
   "cell_type": "code",
   "execution_count": 28,
   "id": "9d1e63fd",
   "metadata": {
    "execution": {
     "iopub.execute_input": "2025-08-19T18:56:41.168921Z",
     "iopub.status.busy": "2025-08-19T18:56:41.168510Z",
     "iopub.status.idle": "2025-08-19T18:56:41.178348Z",
     "shell.execute_reply": "2025-08-19T18:56:41.177203Z"
    },
    "papermill": {
     "duration": 0.024274,
     "end_time": "2025-08-19T18:56:41.181152",
     "exception": false,
     "start_time": "2025-08-19T18:56:41.156878",
     "status": "completed"
    },
    "tags": []
   },
   "outputs": [],
   "source": [
    "if mode == \"keep-all\":\n",
    "    keep_mask = pd.Series(True, index=org_train.index)\n",
    "\n",
    "elif mode == \"drop-non-german\":\n",
    "    keep_mask = (org_train[\"maxdeutsch1\"] == 1) & (org_train[\"maxdeutsch.Missing.\"] == 0)\n",
    "\n",
    "else:\n",
    "    raise ValueError(f\"Unsupported mode for exclude_subgroups: {mode}\")"
   ]
  },
  {
   "cell_type": "code",
   "execution_count": 29,
   "id": "d3b65474",
   "metadata": {
    "execution": {
     "iopub.execute_input": "2025-08-19T18:56:41.226294Z",
     "iopub.status.busy": "2025-08-19T18:56:41.225293Z",
     "iopub.status.idle": "2025-08-19T18:56:41.236566Z",
     "shell.execute_reply": "2025-08-19T18:56:41.235260Z"
    },
    "papermill": {
     "duration": 0.034629,
     "end_time": "2025-08-19T18:56:41.238761",
     "exception": false,
     "start_time": "2025-08-19T18:56:41.204132",
     "status": "completed"
    },
    "tags": []
   },
   "outputs": [],
   "source": [
    "n_drop = (~keep_mask).sum() # Calculates how many rows are set to be dropped\n",
    "if n_drop > 0:\n",
    "    pct = n_drop / len(keep_mask) * 100\n",
    "    print(f\"Dropping {n_drop} rows ({pct:.2f}%) where mode='{mode}'\")"
   ]
  },
  {
   "cell_type": "code",
   "execution_count": 30,
   "id": "f44389b3",
   "metadata": {
    "execution": {
     "iopub.execute_input": "2025-08-19T18:56:41.266925Z",
     "iopub.status.busy": "2025-08-19T18:56:41.265920Z",
     "iopub.status.idle": "2025-08-19T18:56:41.281883Z",
     "shell.execute_reply": "2025-08-19T18:56:41.280631Z"
    },
    "papermill": {
     "duration": 0.030214,
     "end_time": "2025-08-19T18:56:41.283896",
     "exception": false,
     "start_time": "2025-08-19T18:56:41.253682",
     "status": "completed"
    },
    "tags": []
   },
   "outputs": [],
   "source": [
    "X_train = X_train[keep_mask]"
   ]
  },
  {
   "cell_type": "code",
   "execution_count": 31,
   "id": "ceca8c2a",
   "metadata": {
    "execution": {
     "iopub.execute_input": "2025-08-19T18:56:41.313425Z",
     "iopub.status.busy": "2025-08-19T18:56:41.312166Z",
     "iopub.status.idle": "2025-08-19T18:56:41.320731Z",
     "shell.execute_reply": "2025-08-19T18:56:41.319432Z"
    },
    "papermill": {
     "duration": 0.023086,
     "end_time": "2025-08-19T18:56:41.322398",
     "exception": false,
     "start_time": "2025-08-19T18:56:41.299312",
     "status": "completed"
    },
    "tags": []
   },
   "outputs": [],
   "source": [
    "y_train = y_train[keep_mask]"
   ]
  },
  {
   "cell_type": "markdown",
   "id": "04d31e2f",
   "metadata": {
    "papermill": {
     "duration": 0.010401,
     "end_time": "2025-08-19T18:56:41.343403",
     "exception": false,
     "start_time": "2025-08-19T18:56:41.333002",
     "status": "completed"
    },
    "tags": []
   },
   "source": [
    "# Model Training"
   ]
  },
  {
   "cell_type": "code",
   "execution_count": 32,
   "id": "db991733",
   "metadata": {
    "execution": {
     "iopub.execute_input": "2025-08-19T18:56:41.367153Z",
     "iopub.status.busy": "2025-08-19T18:56:41.366063Z",
     "iopub.status.idle": "2025-08-19T18:56:41.500017Z",
     "shell.execute_reply": "2025-08-19T18:56:41.498632Z"
    },
    "papermill": {
     "duration": 0.149537,
     "end_time": "2025-08-19T18:56:41.503362",
     "exception": false,
     "start_time": "2025-08-19T18:56:41.353825",
     "status": "completed"
    },
    "tags": []
   },
   "outputs": [],
   "source": [
    "from sklearn.linear_model import LogisticRegression\n",
    "from sklearn.ensemble import GradientBoostingClassifier, RandomForestClassifier\n",
    "\n",
    "if (universe[\"model\"] == \"logreg\"):\n",
    "    model = LogisticRegression() #penalty=\"none\", solver=\"newton-cg\", max_iter=1)\n",
    "elif (universe[\"model\"] == \"penalized_logreg\"):\n",
    "    model = LogisticRegression(penalty=\"l2\", C=0.1) #, solver=\"newton-cg\", max_iter=1)\n",
    "elif (universe[\"model\"] == \"rf\"):\n",
    "    model = RandomForestClassifier() # n_estimators=100, n_jobs=-1\n",
    "elif (universe[\"model\"] == \"gbm\"):\n",
    "    model = GradientBoostingClassifier()\n",
    "elif (universe[\"model\"] == \"elasticnet\"):\n",
    "    model = LogisticRegression(penalty = 'elasticnet', solver = 'saga', l1_ratio = 0.5) # max_iter=5000\n",
    "else:\n",
    "    raise \"Unsupported universe.model\""
   ]
  },
  {
   "cell_type": "code",
   "execution_count": 33,
   "id": "a4b5cd25",
   "metadata": {
    "execution": {
     "iopub.execute_input": "2025-08-19T18:56:41.541414Z",
     "iopub.status.busy": "2025-08-19T18:56:41.540187Z",
     "iopub.status.idle": "2025-08-19T18:56:41.549278Z",
     "shell.execute_reply": "2025-08-19T18:56:41.547936Z"
    },
    "papermill": {
     "duration": 0.024753,
     "end_time": "2025-08-19T18:56:41.551221",
     "exception": false,
     "start_time": "2025-08-19T18:56:41.526468",
     "status": "completed"
    },
    "tags": []
   },
   "outputs": [],
   "source": [
    "from sklearn.pipeline import Pipeline\n",
    "from sklearn.preprocessing import StandardScaler\n",
    "\n",
    "model = Pipeline([\n",
    "    #(\"continuous_processor\", continuous_processor),\n",
    "    #(\"categorical_preprocessor\", categorical_preprocessor),\n",
    "    (\"scale\", StandardScaler() if universe[\"scale\"] == \"scale\" else None), \n",
    "    (\"model\", model),\n",
    "])"
   ]
  },
  {
   "cell_type": "code",
   "execution_count": 34,
   "id": "283a904d",
   "metadata": {
    "execution": {
     "iopub.execute_input": "2025-08-19T18:56:41.577876Z",
     "iopub.status.busy": "2025-08-19T18:56:41.576806Z",
     "iopub.status.idle": "2025-08-19T18:56:41.649178Z",
     "shell.execute_reply": "2025-08-19T18:56:41.647897Z"
    },
    "papermill": {
     "duration": 0.095197,
     "end_time": "2025-08-19T18:56:41.659807",
     "exception": false,
     "start_time": "2025-08-19T18:56:41.564610",
     "status": "completed"
    },
    "tags": []
   },
   "outputs": [
    {
     "name": "stderr",
     "output_type": "stream",
     "text": [
      "/dss/dsshome1/0C/ra93lal2/.local/share/virtualenvs/CMA_Fairness_v2-3j10GkSs/lib/python3.10/site-packages/sklearn/linear_model/_logistic.py:444: ConvergenceWarning: lbfgs failed to converge (status=1):\n",
      "STOP: TOTAL NO. of ITERATIONS REACHED LIMIT.\n",
      "\n",
      "Increase the number of iterations (max_iter) or scale the data as shown in:\n",
      "    https://scikit-learn.org/stable/modules/preprocessing.html\n",
      "Please also refer to the documentation for alternative solver options:\n",
      "    https://scikit-learn.org/stable/modules/linear_model.html#logistic-regression\n",
      "  n_iter_i = _check_optimize_result(\n"
     ]
    },
    {
     "data": {
      "text/html": [
       "<style>#sk-container-id-1 {color: black;background-color: white;}#sk-container-id-1 pre{padding: 0;}#sk-container-id-1 div.sk-toggleable {background-color: white;}#sk-container-id-1 label.sk-toggleable__label {cursor: pointer;display: block;width: 100%;margin-bottom: 0;padding: 0.3em;box-sizing: border-box;text-align: center;}#sk-container-id-1 label.sk-toggleable__label-arrow:before {content: \"▸\";float: left;margin-right: 0.25em;color: #696969;}#sk-container-id-1 label.sk-toggleable__label-arrow:hover:before {color: black;}#sk-container-id-1 div.sk-estimator:hover label.sk-toggleable__label-arrow:before {color: black;}#sk-container-id-1 div.sk-toggleable__content {max-height: 0;max-width: 0;overflow: hidden;text-align: left;background-color: #f0f8ff;}#sk-container-id-1 div.sk-toggleable__content pre {margin: 0.2em;color: black;border-radius: 0.25em;background-color: #f0f8ff;}#sk-container-id-1 input.sk-toggleable__control:checked~div.sk-toggleable__content {max-height: 200px;max-width: 100%;overflow: auto;}#sk-container-id-1 input.sk-toggleable__control:checked~label.sk-toggleable__label-arrow:before {content: \"▾\";}#sk-container-id-1 div.sk-estimator input.sk-toggleable__control:checked~label.sk-toggleable__label {background-color: #d4ebff;}#sk-container-id-1 div.sk-label input.sk-toggleable__control:checked~label.sk-toggleable__label {background-color: #d4ebff;}#sk-container-id-1 input.sk-hidden--visually {border: 0;clip: rect(1px 1px 1px 1px);clip: rect(1px, 1px, 1px, 1px);height: 1px;margin: -1px;overflow: hidden;padding: 0;position: absolute;width: 1px;}#sk-container-id-1 div.sk-estimator {font-family: monospace;background-color: #f0f8ff;border: 1px dotted black;border-radius: 0.25em;box-sizing: border-box;margin-bottom: 0.5em;}#sk-container-id-1 div.sk-estimator:hover {background-color: #d4ebff;}#sk-container-id-1 div.sk-parallel-item::after {content: \"\";width: 100%;border-bottom: 1px solid gray;flex-grow: 1;}#sk-container-id-1 div.sk-label:hover label.sk-toggleable__label {background-color: #d4ebff;}#sk-container-id-1 div.sk-serial::before {content: \"\";position: absolute;border-left: 1px solid gray;box-sizing: border-box;top: 0;bottom: 0;left: 50%;z-index: 0;}#sk-container-id-1 div.sk-serial {display: flex;flex-direction: column;align-items: center;background-color: white;padding-right: 0.2em;padding-left: 0.2em;position: relative;}#sk-container-id-1 div.sk-item {position: relative;z-index: 1;}#sk-container-id-1 div.sk-parallel {display: flex;align-items: stretch;justify-content: center;background-color: white;position: relative;}#sk-container-id-1 div.sk-item::before, #sk-container-id-1 div.sk-parallel-item::before {content: \"\";position: absolute;border-left: 1px solid gray;box-sizing: border-box;top: 0;bottom: 0;left: 50%;z-index: -1;}#sk-container-id-1 div.sk-parallel-item {display: flex;flex-direction: column;z-index: 1;position: relative;background-color: white;}#sk-container-id-1 div.sk-parallel-item:first-child::after {align-self: flex-end;width: 50%;}#sk-container-id-1 div.sk-parallel-item:last-child::after {align-self: flex-start;width: 50%;}#sk-container-id-1 div.sk-parallel-item:only-child::after {width: 0;}#sk-container-id-1 div.sk-dashed-wrapped {border: 1px dashed gray;margin: 0 0.4em 0.5em 0.4em;box-sizing: border-box;padding-bottom: 0.4em;background-color: white;}#sk-container-id-1 div.sk-label label {font-family: monospace;font-weight: bold;display: inline-block;line-height: 1.2em;}#sk-container-id-1 div.sk-label-container {text-align: center;}#sk-container-id-1 div.sk-container {/* jupyter's `normalize.less` sets `[hidden] { display: none; }` but bootstrap.min.css set `[hidden] { display: none !important; }` so we also need the `!important` here to be able to override the default hidden behavior on the sphinx rendered scikit-learn.org. See: https://github.com/scikit-learn/scikit-learn/issues/21755 */display: inline-block !important;position: relative;}#sk-container-id-1 div.sk-text-repr-fallback {display: none;}</style><div id=\"sk-container-id-1\" class=\"sk-top-container\"><div class=\"sk-text-repr-fallback\"><pre>Pipeline(steps=[(&#x27;scale&#x27;, StandardScaler()), (&#x27;model&#x27;, LogisticRegression())])</pre><b>In a Jupyter environment, please rerun this cell to show the HTML representation or trust the notebook. <br />On GitHub, the HTML representation is unable to render, please try loading this page with nbviewer.org.</b></div><div class=\"sk-container\" hidden><div class=\"sk-item sk-dashed-wrapped\"><div class=\"sk-label-container\"><div class=\"sk-label sk-toggleable\"><input class=\"sk-toggleable__control sk-hidden--visually\" id=\"sk-estimator-id-1\" type=\"checkbox\" ><label for=\"sk-estimator-id-1\" class=\"sk-toggleable__label sk-toggleable__label-arrow\">Pipeline</label><div class=\"sk-toggleable__content\"><pre>Pipeline(steps=[(&#x27;scale&#x27;, StandardScaler()), (&#x27;model&#x27;, LogisticRegression())])</pre></div></div></div><div class=\"sk-serial\"><div class=\"sk-item\"><div class=\"sk-estimator sk-toggleable\"><input class=\"sk-toggleable__control sk-hidden--visually\" id=\"sk-estimator-id-2\" type=\"checkbox\" ><label for=\"sk-estimator-id-2\" class=\"sk-toggleable__label sk-toggleable__label-arrow\">StandardScaler</label><div class=\"sk-toggleable__content\"><pre>StandardScaler()</pre></div></div></div><div class=\"sk-item\"><div class=\"sk-estimator sk-toggleable\"><input class=\"sk-toggleable__control sk-hidden--visually\" id=\"sk-estimator-id-3\" type=\"checkbox\" ><label for=\"sk-estimator-id-3\" class=\"sk-toggleable__label sk-toggleable__label-arrow\">LogisticRegression</label><div class=\"sk-toggleable__content\"><pre>LogisticRegression()</pre></div></div></div></div></div></div></div>"
      ],
      "text/plain": [
       "Pipeline(steps=[('scale', StandardScaler()), ('model', LogisticRegression())])"
      ]
     },
     "execution_count": 34,
     "metadata": {},
     "output_type": "execute_result"
    }
   ],
   "source": [
    "model.fit(X_train, y_train.values.ravel())"
   ]
  },
  {
   "cell_type": "code",
   "execution_count": 35,
   "id": "6e15e313",
   "metadata": {
    "execution": {
     "iopub.execute_input": "2025-08-19T18:56:41.694648Z",
     "iopub.status.busy": "2025-08-19T18:56:41.693637Z",
     "iopub.status.idle": "2025-08-19T18:56:41.895718Z",
     "shell.execute_reply": "2025-08-19T18:56:41.894390Z"
    },
    "papermill": {
     "duration": 0.219868,
     "end_time": "2025-08-19T18:56:41.900073",
     "exception": false,
     "start_time": "2025-08-19T18:56:41.680205",
     "status": "completed"
    },
    "tags": []
   },
   "outputs": [
    {
     "data": {
      "text/plain": [
       "0.8179355701705495"
      ]
     },
     "execution_count": 35,
     "metadata": {},
     "output_type": "execute_result"
    }
   ],
   "source": [
    "from fairness_multiverse.universe import predict_w_threshold\n",
    "\n",
    "probs_test = model.predict_proba(X_test)\n",
    "\n",
    "'''\n",
    "Below code returns a boolean array (or binary 0/1 array depending on how it’s used) where each element \n",
    "is True if the probability of class 1 is greater than or equal to the threshold, and False otherwise.\n",
    "'''\n",
    "y_pred_default = predict_w_threshold(probs_test, 0.5)\n",
    "\n",
    "from sklearn.metrics import accuracy_score\n",
    "\n",
    "# Naive prediction\n",
    "accuracy_score(y_true = y_true, y_pred = y_pred_default)"
   ]
  },
  {
   "cell_type": "code",
   "execution_count": 36,
   "id": "6f14067c",
   "metadata": {
    "execution": {
     "iopub.execute_input": "2025-08-19T18:56:41.936531Z",
     "iopub.status.busy": "2025-08-19T18:56:41.935527Z",
     "iopub.status.idle": "2025-08-19T18:56:42.130612Z",
     "shell.execute_reply": "2025-08-19T18:56:42.129528Z"
    },
    "papermill": {
     "duration": 0.210324,
     "end_time": "2025-08-19T18:56:42.132218",
     "exception": false,
     "start_time": "2025-08-19T18:56:41.921894",
     "status": "completed"
    },
    "tags": []
   },
   "outputs": [
    {
     "data": {
      "text/plain": [
       "array([0, 0, 0, ..., 0, 0, 0])"
      ]
     },
     "execution_count": 36,
     "metadata": {},
     "output_type": "execute_result"
    }
   ],
   "source": [
    "model.predict(X_test)"
   ]
  },
  {
   "cell_type": "markdown",
   "id": "3759920c",
   "metadata": {
    "papermill": {
     "duration": 0.011073,
     "end_time": "2025-08-19T18:56:42.156554",
     "exception": false,
     "start_time": "2025-08-19T18:56:42.145481",
     "status": "completed"
    },
    "tags": []
   },
   "source": [
    "# Conformal Prediction"
   ]
  },
  {
   "cell_type": "code",
   "execution_count": 37,
   "id": "14b27f59",
   "metadata": {
    "execution": {
     "iopub.execute_input": "2025-08-19T18:56:42.183326Z",
     "iopub.status.busy": "2025-08-19T18:56:42.181959Z",
     "iopub.status.idle": "2025-08-19T18:56:42.189548Z",
     "shell.execute_reply": "2025-08-19T18:56:42.188078Z"
    },
    "papermill": {
     "duration": 0.021812,
     "end_time": "2025-08-19T18:56:42.191381",
     "exception": false,
     "start_time": "2025-08-19T18:56:42.169569",
     "status": "completed"
    },
    "tags": []
   },
   "outputs": [],
   "source": [
    "# Miscoverage level for conformal prediction (10% allowed error rate => 90% target coverage)\n",
    "alpha = 0.1"
   ]
  },
  {
   "cell_type": "code",
   "execution_count": 38,
   "id": "59102472",
   "metadata": {
    "execution": {
     "iopub.execute_input": "2025-08-19T18:56:42.218009Z",
     "iopub.status.busy": "2025-08-19T18:56:42.217082Z",
     "iopub.status.idle": "2025-08-19T18:56:42.394389Z",
     "shell.execute_reply": "2025-08-19T18:56:42.393427Z"
    },
    "papermill": {
     "duration": 0.192287,
     "end_time": "2025-08-19T18:56:42.397074",
     "exception": false,
     "start_time": "2025-08-19T18:56:42.204787",
     "status": "completed"
    },
    "tags": []
   },
   "outputs": [],
   "source": [
    "probs_calib = model.predict_proba(X_calib)"
   ]
  },
  {
   "cell_type": "code",
   "execution_count": 39,
   "id": "a792d4dd",
   "metadata": {
    "execution": {
     "iopub.execute_input": "2025-08-19T18:56:42.438753Z",
     "iopub.status.busy": "2025-08-19T18:56:42.437427Z",
     "iopub.status.idle": "2025-08-19T18:56:42.446510Z",
     "shell.execute_reply": "2025-08-19T18:56:42.445260Z"
    },
    "papermill": {
     "duration": 0.025711,
     "end_time": "2025-08-19T18:56:42.448049",
     "exception": false,
     "start_time": "2025-08-19T18:56:42.422338",
     "status": "completed"
    },
    "tags": []
   },
   "outputs": [],
   "source": [
    "y_calib = y_calib.values.ravel().astype(int)"
   ]
  },
  {
   "cell_type": "code",
   "execution_count": 40,
   "id": "650fd033",
   "metadata": {
    "execution": {
     "iopub.execute_input": "2025-08-19T18:56:42.476921Z",
     "iopub.status.busy": "2025-08-19T18:56:42.476105Z",
     "iopub.status.idle": "2025-08-19T18:56:42.488243Z",
     "shell.execute_reply": "2025-08-19T18:56:42.487045Z"
    },
    "papermill": {
     "duration": 0.027155,
     "end_time": "2025-08-19T18:56:42.489816",
     "exception": false,
     "start_time": "2025-08-19T18:56:42.462661",
     "status": "completed"
    },
    "tags": []
   },
   "outputs": [],
   "source": [
    "from fairness_multiverse.conformal import compute_nc_scores\n",
    "\n",
    "# Compute nonconformity scores on calibration set (1 - probability of true class)\n",
    "nc_scores = compute_nc_scores(probs_calib, y_calib)"
   ]
  },
  {
   "cell_type": "code",
   "execution_count": 41,
   "id": "28ada44c",
   "metadata": {
    "execution": {
     "iopub.execute_input": "2025-08-19T18:56:42.519668Z",
     "iopub.status.busy": "2025-08-19T18:56:42.518248Z",
     "iopub.status.idle": "2025-08-19T18:56:42.530093Z",
     "shell.execute_reply": "2025-08-19T18:56:42.528815Z"
    },
    "papermill": {
     "duration": 0.026502,
     "end_time": "2025-08-19T18:56:42.531590",
     "exception": false,
     "start_time": "2025-08-19T18:56:42.505088",
     "status": "completed"
    },
    "tags": []
   },
   "outputs": [],
   "source": [
    "from fairness_multiverse.conformal import find_threshold\n",
    "\n",
    "# Find conformal threshold q_hat for the given alpha (split conformal method)\n",
    "q_hat = find_threshold(nc_scores, alpha)"
   ]
  },
  {
   "cell_type": "code",
   "execution_count": 42,
   "id": "df56469e",
   "metadata": {
    "execution": {
     "iopub.execute_input": "2025-08-19T18:56:42.559473Z",
     "iopub.status.busy": "2025-08-19T18:56:42.558240Z",
     "iopub.status.idle": "2025-08-19T18:56:42.568039Z",
     "shell.execute_reply": "2025-08-19T18:56:42.566822Z"
    },
    "papermill": {
     "duration": 0.023946,
     "end_time": "2025-08-19T18:56:42.569405",
     "exception": false,
     "start_time": "2025-08-19T18:56:42.545459",
     "status": "completed"
    },
    "tags": []
   },
   "outputs": [
    {
     "data": {
      "text/plain": [
       "0.8124877071599059"
      ]
     },
     "execution_count": 42,
     "metadata": {},
     "output_type": "execute_result"
    }
   ],
   "source": [
    "q_hat"
   ]
  },
  {
   "cell_type": "code",
   "execution_count": 43,
   "id": "aa1f5faa",
   "metadata": {
    "execution": {
     "iopub.execute_input": "2025-08-19T18:56:42.597979Z",
     "iopub.status.busy": "2025-08-19T18:56:42.596728Z",
     "iopub.status.idle": "2025-08-19T18:56:43.261582Z",
     "shell.execute_reply": "2025-08-19T18:56:43.259947Z"
    },
    "papermill": {
     "duration": 0.679924,
     "end_time": "2025-08-19T18:56:43.263654",
     "exception": false,
     "start_time": "2025-08-19T18:56:42.583730",
     "status": "completed"
    },
    "tags": []
   },
   "outputs": [],
   "source": [
    "from fairness_multiverse.conformal import predict_conformal_sets\n",
    "\n",
    "# Generate prediction sets for each test example\n",
    "pred_sets = predict_conformal_sets(model, X_test, q_hat)"
   ]
  },
  {
   "cell_type": "code",
   "execution_count": 44,
   "id": "97f67a6b",
   "metadata": {
    "execution": {
     "iopub.execute_input": "2025-08-19T18:56:43.291390Z",
     "iopub.status.busy": "2025-08-19T18:56:43.289577Z",
     "iopub.status.idle": "2025-08-19T18:56:43.298441Z",
     "shell.execute_reply": "2025-08-19T18:56:43.297159Z"
    },
    "papermill": {
     "duration": 0.024996,
     "end_time": "2025-08-19T18:56:43.301125",
     "exception": false,
     "start_time": "2025-08-19T18:56:43.276129",
     "status": "completed"
    },
    "tags": []
   },
   "outputs": [],
   "source": [
    "y_true = y_true.squeeze()"
   ]
  },
  {
   "cell_type": "code",
   "execution_count": 45,
   "id": "e700e9a7",
   "metadata": {
    "execution": {
     "iopub.execute_input": "2025-08-19T18:56:43.341772Z",
     "iopub.status.busy": "2025-08-19T18:56:43.340284Z",
     "iopub.status.idle": "2025-08-19T18:56:43.890354Z",
     "shell.execute_reply": "2025-08-19T18:56:43.888565Z"
    },
    "papermill": {
     "duration": 0.566494,
     "end_time": "2025-08-19T18:56:43.892240",
     "exception": false,
     "start_time": "2025-08-19T18:56:43.325746",
     "status": "completed"
    },
    "tags": []
   },
   "outputs": [],
   "source": [
    "from fairness_multiverse.conformal import evaluate_sets\n",
    "\n",
    "# Evaluate coverage and average set size on test data\n",
    "metrics = evaluate_sets(pred_sets, y_true)"
   ]
  },
  {
   "cell_type": "markdown",
   "id": "efbacec0",
   "metadata": {
    "papermill": {
     "duration": 0.025804,
     "end_time": "2025-08-19T18:56:43.931409",
     "exception": false,
     "start_time": "2025-08-19T18:56:43.905605",
     "status": "completed"
    },
    "tags": []
   },
   "source": [
    "# CP Metrics"
   ]
  },
  {
   "cell_type": "code",
   "execution_count": 46,
   "id": "9de55fb1",
   "metadata": {
    "execution": {
     "iopub.execute_input": "2025-08-19T18:56:43.991025Z",
     "iopub.status.busy": "2025-08-19T18:56:43.990411Z",
     "iopub.status.idle": "2025-08-19T18:56:44.000109Z",
     "shell.execute_reply": "2025-08-19T18:56:43.998987Z"
    },
    "papermill": {
     "duration": 0.040727,
     "end_time": "2025-08-19T18:56:44.002387",
     "exception": false,
     "start_time": "2025-08-19T18:56:43.961660",
     "status": "completed"
    },
    "tags": []
   },
   "outputs": [
    {
     "data": {
      "text/plain": [
       "{'coverage': 0.9087504180135993, 'avg_size': 1.2588005796455244}"
      ]
     },
     "execution_count": 46,
     "metadata": {},
     "output_type": "execute_result"
    }
   ],
   "source": [
    "metrics"
   ]
  },
  {
   "cell_type": "code",
   "execution_count": 47,
   "id": "64c340a1",
   "metadata": {
    "execution": {
     "iopub.execute_input": "2025-08-19T18:56:44.036450Z",
     "iopub.status.busy": "2025-08-19T18:56:44.035281Z",
     "iopub.status.idle": "2025-08-19T18:56:44.044876Z",
     "shell.execute_reply": "2025-08-19T18:56:44.043422Z"
    },
    "papermill": {
     "duration": 0.025637,
     "end_time": "2025-08-19T18:56:44.046439",
     "exception": false,
     "start_time": "2025-08-19T18:56:44.020802",
     "status": "completed"
    },
    "tags": []
   },
   "outputs": [],
   "source": [
    "example_universe = universe.copy()\n",
    "universe_training_year = example_universe.get(\"training_year\")\n",
    "universe_training_size = example_universe.get(\"training_size\")\n",
    "universe_scale = example_universe.get(\"scale\")\n",
    "universe_model = example_universe.get(\"model\")\n",
    "universe_exclude_features = example_universe.get(\"exclude_features\")\n",
    "universe_exclude_subgroups = example_universe.get(\"exclude_subgroups\")"
   ]
  },
  {
   "cell_type": "code",
   "execution_count": 48,
   "id": "dbb53cb4",
   "metadata": {
    "execution": {
     "iopub.execute_input": "2025-08-19T18:56:44.075116Z",
     "iopub.status.busy": "2025-08-19T18:56:44.073939Z",
     "iopub.status.idle": "2025-08-19T18:56:44.084592Z",
     "shell.execute_reply": "2025-08-19T18:56:44.083081Z"
    },
    "papermill": {
     "duration": 0.048969,
     "end_time": "2025-08-19T18:56:44.109758",
     "exception": false,
     "start_time": "2025-08-19T18:56:44.060789",
     "status": "completed"
    },
    "tags": []
   },
   "outputs": [],
   "source": [
    "cp_metrics_dict = {\n",
    "    \"universe_id\": [universe_id],\n",
    "    \"universe_training_year\": [universe_training_year],\n",
    "    \"universe_training_size\": [universe_training_size],\n",
    "    \"universe_scale\": [universe_scale],\n",
    "    \"universe_model\": [universe_model],\n",
    "    \"universe_exclude_features\": [universe_exclude_features],\n",
    "    \"universe_exclude_subgroups\": [universe_exclude_subgroups],\n",
    "    \"q_hat\": [q_hat],\n",
    "    \"coverage\": [metrics[\"coverage\"]],\n",
    "    \"avg_size\": [metrics[\"avg_size\"]],\n",
    "}"
   ]
  },
  {
   "cell_type": "code",
   "execution_count": 49,
   "id": "0d70d4b2",
   "metadata": {
    "execution": {
     "iopub.execute_input": "2025-08-19T18:56:44.179077Z",
     "iopub.status.busy": "2025-08-19T18:56:44.178564Z",
     "iopub.status.idle": "2025-08-19T18:56:44.187088Z",
     "shell.execute_reply": "2025-08-19T18:56:44.186291Z"
    },
    "papermill": {
     "duration": 0.027659,
     "end_time": "2025-08-19T18:56:44.188334",
     "exception": false,
     "start_time": "2025-08-19T18:56:44.160675",
     "status": "completed"
    },
    "tags": []
   },
   "outputs": [],
   "source": [
    "cp_metrics_df = pd.DataFrame(cp_metrics_dict)"
   ]
  },
  {
   "cell_type": "code",
   "execution_count": 50,
   "id": "b494403c",
   "metadata": {
    "execution": {
     "iopub.execute_input": "2025-08-19T18:56:44.216700Z",
     "iopub.status.busy": "2025-08-19T18:56:44.216341Z",
     "iopub.status.idle": "2025-08-19T18:56:44.230695Z",
     "shell.execute_reply": "2025-08-19T18:56:44.229930Z"
    },
    "papermill": {
     "duration": 0.029274,
     "end_time": "2025-08-19T18:56:44.232329",
     "exception": false,
     "start_time": "2025-08-19T18:56:44.203055",
     "status": "completed"
    },
    "tags": []
   },
   "outputs": [
    {
     "data": {
      "text/html": [
       "<div>\n",
       "<style scoped>\n",
       "    .dataframe tbody tr th:only-of-type {\n",
       "        vertical-align: middle;\n",
       "    }\n",
       "\n",
       "    .dataframe tbody tr th {\n",
       "        vertical-align: top;\n",
       "    }\n",
       "\n",
       "    .dataframe thead th {\n",
       "        text-align: right;\n",
       "    }\n",
       "</style>\n",
       "<table border=\"1\" class=\"dataframe\">\n",
       "  <thead>\n",
       "    <tr style=\"text-align: right;\">\n",
       "      <th></th>\n",
       "      <th>universe_id</th>\n",
       "      <th>universe_training_year</th>\n",
       "      <th>universe_training_size</th>\n",
       "      <th>universe_scale</th>\n",
       "      <th>universe_model</th>\n",
       "      <th>universe_exclude_features</th>\n",
       "      <th>universe_exclude_subgroups</th>\n",
       "      <th>q_hat</th>\n",
       "      <th>coverage</th>\n",
       "      <th>avg_size</th>\n",
       "    </tr>\n",
       "  </thead>\n",
       "  <tbody>\n",
       "    <tr>\n",
       "      <th>0</th>\n",
       "      <td>1cfd95ec93a71ec294cbbbfabc4a36dd</td>\n",
       "      <td>2012_14</td>\n",
       "      <td>1k</td>\n",
       "      <td>scale</td>\n",
       "      <td>logreg</td>\n",
       "      <td>none</td>\n",
       "      <td>keep-all</td>\n",
       "      <td>0.812488</td>\n",
       "      <td>0.90875</td>\n",
       "      <td>1.258801</td>\n",
       "    </tr>\n",
       "  </tbody>\n",
       "</table>\n",
       "</div>"
      ],
      "text/plain": [
       "                        universe_id universe_training_year  \\\n",
       "0  1cfd95ec93a71ec294cbbbfabc4a36dd                2012_14   \n",
       "\n",
       "  universe_training_size universe_scale universe_model  \\\n",
       "0                     1k          scale         logreg   \n",
       "\n",
       "  universe_exclude_features universe_exclude_subgroups     q_hat  coverage  \\\n",
       "0                      none                   keep-all  0.812488   0.90875   \n",
       "\n",
       "   avg_size  \n",
       "0  1.258801  "
      ]
     },
     "execution_count": 50,
     "metadata": {},
     "output_type": "execute_result"
    }
   ],
   "source": [
    "cp_metrics_df"
   ]
  },
  {
   "cell_type": "markdown",
   "id": "ed608b0b",
   "metadata": {
    "papermill": {
     "duration": 0.012648,
     "end_time": "2025-08-19T18:56:44.260058",
     "exception": false,
     "start_time": "2025-08-19T18:56:44.247410",
     "status": "completed"
    },
    "tags": []
   },
   "source": [
    "Conditional coverage & looking at subgroups"
   ]
  },
  {
   "cell_type": "code",
   "execution_count": 51,
   "id": "8968c366",
   "metadata": {
    "execution": {
     "iopub.execute_input": "2025-08-19T18:56:44.287210Z",
     "iopub.status.busy": "2025-08-19T18:56:44.285808Z",
     "iopub.status.idle": "2025-08-19T18:56:44.626810Z",
     "shell.execute_reply": "2025-08-19T18:56:44.625773Z"
    },
    "papermill": {
     "duration": 0.357048,
     "end_time": "2025-08-19T18:56:44.629037",
     "exception": false,
     "start_time": "2025-08-19T18:56:44.271989",
     "status": "completed"
    },
    "tags": []
   },
   "outputs": [],
   "source": [
    "from fairness_multiverse.conformal import build_cp_groups\n",
    "\n",
    "cp_groups_df = build_cp_groups(pred_sets, y_true, X_test.index, org_test)"
   ]
  },
  {
   "cell_type": "code",
   "execution_count": 52,
   "id": "292ddabf",
   "metadata": {
    "execution": {
     "iopub.execute_input": "2025-08-19T18:56:44.656597Z",
     "iopub.status.busy": "2025-08-19T18:56:44.655912Z",
     "iopub.status.idle": "2025-08-19T18:56:45.603071Z",
     "shell.execute_reply": "2025-08-19T18:56:45.600416Z"
    },
    "papermill": {
     "duration": 0.963558,
     "end_time": "2025-08-19T18:56:45.606129",
     "exception": false,
     "start_time": "2025-08-19T18:56:44.642571",
     "status": "completed"
    },
    "tags": []
   },
   "outputs": [],
   "source": [
    "# Define covered = 1 if true_label is in the predicted set\n",
    "cp_groups_df['covered'] = cp_groups_df.apply(\n",
    "    lambda r: int(r['true_label'] in r['pred_set']),\n",
    "    axis=1\n",
    ")"
   ]
  },
  {
   "cell_type": "code",
   "execution_count": 53,
   "id": "3a261692",
   "metadata": {
    "execution": {
     "iopub.execute_input": "2025-08-19T18:56:45.674255Z",
     "iopub.status.busy": "2025-08-19T18:56:45.673786Z",
     "iopub.status.idle": "2025-08-19T18:56:45.688797Z",
     "shell.execute_reply": "2025-08-19T18:56:45.687881Z"
    },
    "papermill": {
     "duration": 0.046181,
     "end_time": "2025-08-19T18:56:45.691851",
     "exception": false,
     "start_time": "2025-08-19T18:56:45.645670",
     "status": "completed"
    },
    "tags": []
   },
   "outputs": [],
   "source": [
    "subgroups = ['frau1','nongerman','nongerman_male','nongerman_female']\n",
    "\n",
    "# Conditional coverage for subgroup==1\n",
    "cond_coverage = {\n",
    "    g: cp_groups_df.loc[cp_groups_df[g]==1, 'covered'].mean()\n",
    "    for g in subgroups\n",
    "}"
   ]
  },
  {
   "cell_type": "code",
   "execution_count": 54,
   "id": "894fd600",
   "metadata": {
    "execution": {
     "iopub.execute_input": "2025-08-19T18:56:45.719957Z",
     "iopub.status.busy": "2025-08-19T18:56:45.719451Z",
     "iopub.status.idle": "2025-08-19T18:56:45.729506Z",
     "shell.execute_reply": "2025-08-19T18:56:45.728355Z"
    },
    "papermill": {
     "duration": 0.02475,
     "end_time": "2025-08-19T18:56:45.730933",
     "exception": false,
     "start_time": "2025-08-19T18:56:45.706183",
     "status": "completed"
    },
    "tags": []
   },
   "outputs": [
    {
     "data": {
      "text/plain": [
       "{'frau1': 0.902116188165521,\n",
       " 'nongerman': 0.9148374782462246,\n",
       " 'nongerman_male': 0.9325407547509682,\n",
       " 'nongerman_female': 0.8855439642324888}"
      ]
     },
     "execution_count": 54,
     "metadata": {},
     "output_type": "execute_result"
    }
   ],
   "source": [
    "cond_coverage"
   ]
  },
  {
   "cell_type": "code",
   "execution_count": 55,
   "id": "942895c7",
   "metadata": {
    "execution": {
     "iopub.execute_input": "2025-08-19T18:56:45.762743Z",
     "iopub.status.busy": "2025-08-19T18:56:45.761741Z",
     "iopub.status.idle": "2025-08-19T18:56:45.771533Z",
     "shell.execute_reply": "2025-08-19T18:56:45.770615Z"
    },
    "papermill": {
     "duration": 0.034643,
     "end_time": "2025-08-19T18:56:45.781413",
     "exception": false,
     "start_time": "2025-08-19T18:56:45.746770",
     "status": "completed"
    },
    "tags": []
   },
   "outputs": [],
   "source": [
    "for subgroup, cov in cond_coverage.items():\n",
    "    cp_metrics_df[f\"cov_{subgroup}\"] = cov"
   ]
  },
  {
   "cell_type": "code",
   "execution_count": 56,
   "id": "3970120f",
   "metadata": {
    "execution": {
     "iopub.execute_input": "2025-08-19T18:56:45.816467Z",
     "iopub.status.busy": "2025-08-19T18:56:45.815462Z",
     "iopub.status.idle": "2025-08-19T18:56:45.841859Z",
     "shell.execute_reply": "2025-08-19T18:56:45.840911Z"
    },
    "papermill": {
     "duration": 0.043288,
     "end_time": "2025-08-19T18:56:45.843527",
     "exception": false,
     "start_time": "2025-08-19T18:56:45.800239",
     "status": "completed"
    },
    "tags": []
   },
   "outputs": [
    {
     "data": {
      "text/html": [
       "<div>\n",
       "<style scoped>\n",
       "    .dataframe tbody tr th:only-of-type {\n",
       "        vertical-align: middle;\n",
       "    }\n",
       "\n",
       "    .dataframe tbody tr th {\n",
       "        vertical-align: top;\n",
       "    }\n",
       "\n",
       "    .dataframe thead th {\n",
       "        text-align: right;\n",
       "    }\n",
       "</style>\n",
       "<table border=\"1\" class=\"dataframe\">\n",
       "  <thead>\n",
       "    <tr style=\"text-align: right;\">\n",
       "      <th></th>\n",
       "      <th>universe_id</th>\n",
       "      <th>universe_training_year</th>\n",
       "      <th>universe_training_size</th>\n",
       "      <th>universe_scale</th>\n",
       "      <th>universe_model</th>\n",
       "      <th>universe_exclude_features</th>\n",
       "      <th>universe_exclude_subgroups</th>\n",
       "      <th>q_hat</th>\n",
       "      <th>coverage</th>\n",
       "      <th>avg_size</th>\n",
       "      <th>cov_frau1</th>\n",
       "      <th>cov_nongerman</th>\n",
       "      <th>cov_nongerman_male</th>\n",
       "      <th>cov_nongerman_female</th>\n",
       "    </tr>\n",
       "  </thead>\n",
       "  <tbody>\n",
       "    <tr>\n",
       "      <th>0</th>\n",
       "      <td>1cfd95ec93a71ec294cbbbfabc4a36dd</td>\n",
       "      <td>2012_14</td>\n",
       "      <td>1k</td>\n",
       "      <td>scale</td>\n",
       "      <td>logreg</td>\n",
       "      <td>none</td>\n",
       "      <td>keep-all</td>\n",
       "      <td>0.812488</td>\n",
       "      <td>0.90875</td>\n",
       "      <td>1.258801</td>\n",
       "      <td>0.902116</td>\n",
       "      <td>0.914837</td>\n",
       "      <td>0.932541</td>\n",
       "      <td>0.885544</td>\n",
       "    </tr>\n",
       "  </tbody>\n",
       "</table>\n",
       "</div>"
      ],
      "text/plain": [
       "                        universe_id universe_training_year  \\\n",
       "0  1cfd95ec93a71ec294cbbbfabc4a36dd                2012_14   \n",
       "\n",
       "  universe_training_size universe_scale universe_model  \\\n",
       "0                     1k          scale         logreg   \n",
       "\n",
       "  universe_exclude_features universe_exclude_subgroups     q_hat  coverage  \\\n",
       "0                      none                   keep-all  0.812488   0.90875   \n",
       "\n",
       "   avg_size  cov_frau1  cov_nongerman  cov_nongerman_male  \\\n",
       "0  1.258801   0.902116       0.914837            0.932541   \n",
       "\n",
       "   cov_nongerman_female  \n",
       "0              0.885544  "
      ]
     },
     "execution_count": 56,
     "metadata": {},
     "output_type": "execute_result"
    }
   ],
   "source": [
    "cp_metrics_df"
   ]
  },
  {
   "cell_type": "markdown",
   "id": "3fc519cc",
   "metadata": {
    "papermill": {
     "duration": 0.017068,
     "end_time": "2025-08-19T18:56:45.873638",
     "exception": false,
     "start_time": "2025-08-19T18:56:45.856570",
     "status": "completed"
    },
    "tags": []
   },
   "source": [
    "# (Fairness) Metrics"
   ]
  },
  {
   "cell_type": "code",
   "execution_count": 57,
   "id": "a2e5e155",
   "metadata": {
    "execution": {
     "iopub.execute_input": "2025-08-19T18:56:45.917034Z",
     "iopub.status.busy": "2025-08-19T18:56:45.902275Z",
     "iopub.status.idle": "2025-08-19T18:56:45.938275Z",
     "shell.execute_reply": "2025-08-19T18:56:45.937469Z"
    },
    "papermill": {
     "duration": 0.053668,
     "end_time": "2025-08-19T18:56:45.940861",
     "exception": false,
     "start_time": "2025-08-19T18:56:45.887193",
     "status": "completed"
    },
    "tags": []
   },
   "outputs": [],
   "source": [
    "colname_to_bin = \"maxdeutsch1\"\n",
    "majority_value = org_train[colname_to_bin].mode()[0]\n",
    "\n",
    "org_test[\"majmin\"] = np.where(org_test[colname_to_bin] == majority_value, \"majority\", \"minority\")"
   ]
  },
  {
   "cell_type": "code",
   "execution_count": 58,
   "id": "17e3e4d5",
   "metadata": {
    "execution": {
     "iopub.execute_input": "2025-08-19T18:56:45.980597Z",
     "iopub.status.busy": "2025-08-19T18:56:45.980238Z",
     "iopub.status.idle": "2025-08-19T18:56:47.797728Z",
     "shell.execute_reply": "2025-08-19T18:56:47.796391Z"
    },
    "papermill": {
     "duration": 1.83373,
     "end_time": "2025-08-19T18:56:47.799517",
     "exception": false,
     "start_time": "2025-08-19T18:56:45.965787",
     "status": "completed"
    },
    "tags": []
   },
   "outputs": [],
   "source": [
    "example_universe = universe.copy()\n",
    "example_universe[\"cutoff\"] = example_universe[\"cutoff\"][0]\n",
    "example_universe[\"eval_fairness_grouping\"] = example_universe[\"eval_fairness_grouping\"][0]\n",
    "fairness_dict, metric_frame = universe_analysis.compute_metrics(\n",
    "    example_universe,\n",
    "    y_pred_prob=probs_test,\n",
    "    y_test=y_true,\n",
    "    org_test=org_test,\n",
    ")"
   ]
  },
  {
   "cell_type": "markdown",
   "id": "1fb7a0e9",
   "metadata": {
    "papermill": {
     "duration": 0.012134,
     "end_time": "2025-08-19T18:56:47.826124",
     "exception": false,
     "start_time": "2025-08-19T18:56:47.813990",
     "status": "completed"
    },
    "tags": []
   },
   "source": [
    "# Overall"
   ]
  },
  {
   "cell_type": "markdown",
   "id": "be1784b1",
   "metadata": {
    "papermill": {
     "duration": 0.012472,
     "end_time": "2025-08-19T18:56:47.851280",
     "exception": false,
     "start_time": "2025-08-19T18:56:47.838808",
     "status": "completed"
    },
    "tags": []
   },
   "source": [
    "Main fairness target: Equalized Odds. Seems to be a better fit than equal opportunity, since we're not only interested in Y = 1. Seems to be a better fit than demographic parity, since we also care about accuracy, not just equal distribution of preds.\n",
    "\n",
    "Pick column for computation of fairness metrics\n",
    "\n",
    "Performance\n",
    "Overall performance measures, most interesting in relation to the measures split by group below"
   ]
  },
  {
   "cell_type": "code",
   "execution_count": 59,
   "id": "b7672bee",
   "metadata": {
    "execution": {
     "iopub.execute_input": "2025-08-19T18:56:47.880616Z",
     "iopub.status.busy": "2025-08-19T18:56:47.879292Z",
     "iopub.status.idle": "2025-08-19T18:56:47.898233Z",
     "shell.execute_reply": "2025-08-19T18:56:47.896962Z"
    },
    "papermill": {
     "duration": 0.03548,
     "end_time": "2025-08-19T18:56:47.899463",
     "exception": false,
     "start_time": "2025-08-19T18:56:47.863983",
     "status": "completed"
    },
    "tags": []
   },
   "outputs": [
    {
     "data": {
      "text/plain": [
       "accuracy                   0.217155\n",
       "balanced accuracy          0.532487\n",
       "f1                         0.238685\n",
       "precision                  0.136353\n",
       "false positive rate        0.891665\n",
       "false negative rate        0.043361\n",
       "selection rate             0.900000\n",
       "count                  89710.000000\n",
       "dtype: float64"
      ]
     },
     "execution_count": 59,
     "metadata": {},
     "output_type": "execute_result"
    }
   ],
   "source": [
    "metric_frame.overall"
   ]
  },
  {
   "cell_type": "markdown",
   "id": "d93333c9",
   "metadata": {
    "papermill": {
     "duration": 0.012497,
     "end_time": "2025-08-19T18:56:47.924873",
     "exception": false,
     "start_time": "2025-08-19T18:56:47.912376",
     "status": "completed"
    },
    "tags": []
   },
   "source": [
    "By Group"
   ]
  },
  {
   "cell_type": "code",
   "execution_count": 60,
   "id": "52256966",
   "metadata": {
    "execution": {
     "iopub.execute_input": "2025-08-19T18:56:47.951589Z",
     "iopub.status.busy": "2025-08-19T18:56:47.951116Z",
     "iopub.status.idle": "2025-08-19T18:56:47.972109Z",
     "shell.execute_reply": "2025-08-19T18:56:47.971069Z"
    },
    "papermill": {
     "duration": 0.038001,
     "end_time": "2025-08-19T18:56:47.975374",
     "exception": false,
     "start_time": "2025-08-19T18:56:47.937373",
     "status": "completed"
    },
    "tags": []
   },
   "outputs": [
    {
     "data": {
      "text/html": [
       "<div>\n",
       "<style scoped>\n",
       "    .dataframe tbody tr th:only-of-type {\n",
       "        vertical-align: middle;\n",
       "    }\n",
       "\n",
       "    .dataframe tbody tr th {\n",
       "        vertical-align: top;\n",
       "    }\n",
       "\n",
       "    .dataframe thead th {\n",
       "        text-align: right;\n",
       "    }\n",
       "</style>\n",
       "<table border=\"1\" class=\"dataframe\">\n",
       "  <thead>\n",
       "    <tr style=\"text-align: right;\">\n",
       "      <th></th>\n",
       "      <th>accuracy</th>\n",
       "      <th>balanced accuracy</th>\n",
       "      <th>f1</th>\n",
       "      <th>precision</th>\n",
       "      <th>false positive rate</th>\n",
       "      <th>false negative rate</th>\n",
       "      <th>selection rate</th>\n",
       "      <th>count</th>\n",
       "    </tr>\n",
       "    <tr>\n",
       "      <th>majmin</th>\n",
       "      <th></th>\n",
       "      <th></th>\n",
       "      <th></th>\n",
       "      <th></th>\n",
       "      <th></th>\n",
       "      <th></th>\n",
       "      <th></th>\n",
       "      <th></th>\n",
       "    </tr>\n",
       "  </thead>\n",
       "  <tbody>\n",
       "    <tr>\n",
       "      <th>majority</th>\n",
       "      <td>0.234972</td>\n",
       "      <td>0.537774</td>\n",
       "      <td>0.246958</td>\n",
       "      <td>0.141941</td>\n",
       "      <td>0.873796</td>\n",
       "      <td>0.050656</td>\n",
       "      <td>0.883779</td>\n",
       "      <td>69170.0</td>\n",
       "    </tr>\n",
       "    <tr>\n",
       "      <th>minority</th>\n",
       "      <td>0.157157</td>\n",
       "      <td>0.517052</td>\n",
       "      <td>0.212232</td>\n",
       "      <td>0.118931</td>\n",
       "      <td>0.950693</td>\n",
       "      <td>0.015203</td>\n",
       "      <td>0.954625</td>\n",
       "      <td>20540.0</td>\n",
       "    </tr>\n",
       "  </tbody>\n",
       "</table>\n",
       "</div>"
      ],
      "text/plain": [
       "          accuracy  balanced accuracy        f1  precision  \\\n",
       "majmin                                                       \n",
       "majority  0.234972           0.537774  0.246958   0.141941   \n",
       "minority  0.157157           0.517052  0.212232   0.118931   \n",
       "\n",
       "          false positive rate  false negative rate  selection rate    count  \n",
       "majmin                                                                       \n",
       "majority             0.873796             0.050656        0.883779  69170.0  \n",
       "minority             0.950693             0.015203        0.954625  20540.0  "
      ]
     },
     "execution_count": 60,
     "metadata": {},
     "output_type": "execute_result"
    }
   ],
   "source": [
    "metric_frame.by_group"
   ]
  },
  {
   "cell_type": "code",
   "execution_count": 61,
   "id": "6e6c20ae",
   "metadata": {
    "execution": {
     "iopub.execute_input": "2025-08-19T18:56:48.015173Z",
     "iopub.status.busy": "2025-08-19T18:56:48.013764Z",
     "iopub.status.idle": "2025-08-19T18:56:49.990857Z",
     "shell.execute_reply": "2025-08-19T18:56:49.989650Z"
    },
    "papermill": {
     "duration": 1.99513,
     "end_time": "2025-08-19T18:56:49.992657",
     "exception": false,
     "start_time": "2025-08-19T18:56:47.997527",
     "status": "completed"
    },
    "tags": []
   },
   "outputs": [
    {
     "data": {
      "text/plain": [
       "array([[<Axes: title={'center': 'accuracy'}, xlabel='majmin'>,\n",
       "        <Axes: title={'center': 'balanced accuracy'}, xlabel='majmin'>,\n",
       "        <Axes: title={'center': 'f1'}, xlabel='majmin'>],\n",
       "       [<Axes: title={'center': 'precision'}, xlabel='majmin'>,\n",
       "        <Axes: title={'center': 'false positive rate'}, xlabel='majmin'>,\n",
       "        <Axes: title={'center': 'false negative rate'}, xlabel='majmin'>],\n",
       "       [<Axes: title={'center': 'selection rate'}, xlabel='majmin'>,\n",
       "        <Axes: title={'center': 'count'}, xlabel='majmin'>,\n",
       "        <Axes: xlabel='majmin'>]], dtype=object)"
      ]
     },
     "execution_count": 61,
     "metadata": {},
     "output_type": "execute_result"
    },
    {
     "data": {
      "image/png": "[encoded data removed]",
      "text/plain": [
       "<Figure size 1200x800 with 9 Axes>"
      ]
     },
     "metadata": {},
     "output_type": "display_data"
    }
   ],
   "source": [
    "# In a graphic\n",
    "metric_frame.by_group.plot.bar(\n",
    "    subplots=True,\n",
    "    layout=[3, 3],\n",
    "    legend=False,\n",
    "    figsize=[12, 8],\n",
    "    title=\"Show all metrics\",\n",
    ")"
   ]
  },
  {
   "cell_type": "markdown",
   "id": "b2e433ae",
   "metadata": {
    "papermill": {
     "duration": 0.014851,
     "end_time": "2025-08-19T18:56:50.028728",
     "exception": false,
     "start_time": "2025-08-19T18:56:50.013877",
     "status": "completed"
    },
    "tags": []
   },
   "source": [
    "# Final Output"
   ]
  },
  {
   "cell_type": "code",
   "execution_count": 62,
   "id": "3871301e",
   "metadata": {
    "execution": {
     "iopub.execute_input": "2025-08-19T18:56:50.070448Z",
     "iopub.status.busy": "2025-08-19T18:56:50.060950Z",
     "iopub.status.idle": "2025-08-19T18:56:50.088518Z",
     "shell.execute_reply": "2025-08-19T18:56:50.087404Z"
    },
    "papermill": {
     "duration": 0.046775,
     "end_time": "2025-08-19T18:56:50.090028",
     "exception": false,
     "start_time": "2025-08-19T18:56:50.043253",
     "status": "completed"
    },
    "tags": []
   },
   "outputs": [
    {
     "data": {
      "text/plain": [
       "4"
      ]
     },
     "execution_count": 62,
     "metadata": {},
     "output_type": "execute_result"
    }
   ],
   "source": [
    "sub_universes = universe_analysis.generate_sub_universes()\n",
    "len(sub_universes)"
   ]
  },
  {
   "cell_type": "code",
   "execution_count": 63,
   "id": "d9cfdaca",
   "metadata": {
    "execution": {
     "iopub.execute_input": "2025-08-19T18:56:50.125383Z",
     "iopub.status.busy": "2025-08-19T18:56:50.123701Z",
     "iopub.status.idle": "2025-08-19T18:56:50.132995Z",
     "shell.execute_reply": "2025-08-19T18:56:50.131746Z"
    },
    "papermill": {
     "duration": 0.029522,
     "end_time": "2025-08-19T18:56:50.134524",
     "exception": false,
     "start_time": "2025-08-19T18:56:50.105002",
     "status": "completed"
    },
    "tags": []
   },
   "outputs": [],
   "source": [
    "def filter_sub_universe_data(sub_universe, org_test):\n",
    "    # Keep all rows — no filtering\n",
    "    keep_rows_mask = np.ones(org_test.shape[0], dtype=bool)\n",
    "\n",
    "    print(f\"[INFO] Keeping all rows: {keep_rows_mask.sum()} rows retained.\")\n",
    "    return keep_rows_mask"
   ]
  },
  {
   "cell_type": "code",
   "execution_count": 64,
   "id": "2bc31ac1",
   "metadata": {
    "execution": {
     "iopub.execute_input": "2025-08-19T18:56:50.170690Z",
     "iopub.status.busy": "2025-08-19T18:56:50.169182Z",
     "iopub.status.idle": "2025-08-19T18:56:56.786143Z",
     "shell.execute_reply": "2025-08-19T18:56:56.784925Z"
    },
    "papermill": {
     "duration": 6.634023,
     "end_time": "2025-08-19T18:56:56.787520",
     "exception": false,
     "start_time": "2025-08-19T18:56:50.153497",
     "status": "completed"
    },
    "tags": []
   },
   "outputs": [
    {
     "name": "stdout",
     "output_type": "stream",
     "text": [
      "Stopping execution_time clock.\n",
      "[INFO] Keeping all rows: 89710 rows retained.\n"
     ]
    },
    {
     "name": "stdout",
     "output_type": "stream",
     "text": [
      "[INFO] Keeping all rows: 89710 rows retained.\n"
     ]
    },
    {
     "name": "stdout",
     "output_type": "stream",
     "text": [
      "[INFO] Keeping all rows: 89710 rows retained.\n"
     ]
    },
    {
     "name": "stdout",
     "output_type": "stream",
     "text": [
      "[INFO] Keeping all rows: 89710 rows retained.\n"
     ]
    },
    {
     "data": {
      "text/html": [
       "<div>\n",
       "<style scoped>\n",
       "    .dataframe tbody tr th:only-of-type {\n",
       "        vertical-align: middle;\n",
       "    }\n",
       "\n",
       "    .dataframe tbody tr th {\n",
       "        vertical-align: top;\n",
       "    }\n",
       "\n",
       "    .dataframe thead th {\n",
       "        text-align: right;\n",
       "    }\n",
       "</style>\n",
       "<table border=\"1\" class=\"dataframe\">\n",
       "  <thead>\n",
       "    <tr style=\"text-align: right;\">\n",
       "      <th></th>\n",
       "      <th>run_no</th>\n",
       "      <th>universe_id</th>\n",
       "      <th>universe_settings</th>\n",
       "      <th>execution_time</th>\n",
       "      <th>test_size_n</th>\n",
       "      <th>test_size_frac</th>\n",
       "      <th>fair_main_equalized_odds_difference</th>\n",
       "      <th>fair_main_equalized_odds_ratio</th>\n",
       "      <th>fair_main_demographic_parity_difference</th>\n",
       "      <th>fair_main_demographic_parity_ratio</th>\n",
       "      <th>...</th>\n",
       "      <th>perf_grp_precision_0</th>\n",
       "      <th>perf_grp_precision_1</th>\n",
       "      <th>perf_grp_false positive rate_0</th>\n",
       "      <th>perf_grp_false positive rate_1</th>\n",
       "      <th>perf_grp_false negative rate_0</th>\n",
       "      <th>perf_grp_false negative rate_1</th>\n",
       "      <th>perf_grp_selection rate_0</th>\n",
       "      <th>perf_grp_selection rate_1</th>\n",
       "      <th>perf_grp_count_0</th>\n",
       "      <th>perf_grp_count_1</th>\n",
       "    </tr>\n",
       "  </thead>\n",
       "  <tbody>\n",
       "    <tr>\n",
       "      <th>0</th>\n",
       "      <td>3</td>\n",
       "      <td>1cfd95ec93a71ec294cbbbfabc4a36dd</td>\n",
       "      <td>{\"cutoff\": \"quantile_0.1\", \"eval_fairness_grou...</td>\n",
       "      <td>22.474358</td>\n",
       "      <td>89710</td>\n",
       "      <td>1.0</td>\n",
       "      <td>0.076897</td>\n",
       "      <td>0.919115</td>\n",
       "      <td>0.070846</td>\n",
       "      <td>0.925787</td>\n",
       "      <td>...</td>\n",
       "      <td>NaN</td>\n",
       "      <td>NaN</td>\n",
       "      <td>NaN</td>\n",
       "      <td>NaN</td>\n",
       "      <td>NaN</td>\n",
       "      <td>NaN</td>\n",
       "      <td>NaN</td>\n",
       "      <td>NaN</td>\n",
       "      <td>NaN</td>\n",
       "      <td>NaN</td>\n",
       "    </tr>\n",
       "    <tr>\n",
       "      <th>0</th>\n",
       "      <td>3</td>\n",
       "      <td>1cfd95ec93a71ec294cbbbfabc4a36dd</td>\n",
       "      <td>{\"cutoff\": \"quantile_0.1\", \"eval_fairness_grou...</td>\n",
       "      <td>22.474358</td>\n",
       "      <td>89710</td>\n",
       "      <td>1.0</td>\n",
       "      <td>0.076897</td>\n",
       "      <td>0.919115</td>\n",
       "      <td>0.070846</td>\n",
       "      <td>0.925787</td>\n",
       "      <td>...</td>\n",
       "      <td>0.118931</td>\n",
       "      <td>0.141941</td>\n",
       "      <td>0.950693</td>\n",
       "      <td>0.873796</td>\n",
       "      <td>0.015203</td>\n",
       "      <td>0.050656</td>\n",
       "      <td>0.954625</td>\n",
       "      <td>0.883779</td>\n",
       "      <td>20540.0</td>\n",
       "      <td>69170.0</td>\n",
       "    </tr>\n",
       "    <tr>\n",
       "      <th>0</th>\n",
       "      <td>3</td>\n",
       "      <td>1cfd95ec93a71ec294cbbbfabc4a36dd</td>\n",
       "      <td>{\"cutoff\": \"quantile_0.25\", \"eval_fairness_gro...</td>\n",
       "      <td>22.474358</td>\n",
       "      <td>89710</td>\n",
       "      <td>1.0</td>\n",
       "      <td>0.167057</td>\n",
       "      <td>0.805600</td>\n",
       "      <td>0.153002</td>\n",
       "      <td>0.823724</td>\n",
       "      <td>...</td>\n",
       "      <td>NaN</td>\n",
       "      <td>NaN</td>\n",
       "      <td>NaN</td>\n",
       "      <td>NaN</td>\n",
       "      <td>NaN</td>\n",
       "      <td>NaN</td>\n",
       "      <td>NaN</td>\n",
       "      <td>NaN</td>\n",
       "      <td>NaN</td>\n",
       "      <td>NaN</td>\n",
       "    </tr>\n",
       "    <tr>\n",
       "      <th>0</th>\n",
       "      <td>3</td>\n",
       "      <td>1cfd95ec93a71ec294cbbbfabc4a36dd</td>\n",
       "      <td>{\"cutoff\": \"quantile_0.25\", \"eval_fairness_gro...</td>\n",
       "      <td>22.474358</td>\n",
       "      <td>89710</td>\n",
       "      <td>1.0</td>\n",
       "      <td>0.167057</td>\n",
       "      <td>0.805600</td>\n",
       "      <td>0.153002</td>\n",
       "      <td>0.823724</td>\n",
       "      <td>...</td>\n",
       "      <td>0.124074</td>\n",
       "      <td>0.159664</td>\n",
       "      <td>0.859344</td>\n",
       "      <td>0.692287</td>\n",
       "      <td>0.065878</td>\n",
       "      <td>0.136105</td>\n",
       "      <td>0.867965</td>\n",
       "      <td>0.714963</td>\n",
       "      <td>20540.0</td>\n",
       "      <td>69170.0</td>\n",
       "    </tr>\n",
       "  </tbody>\n",
       "</table>\n",
       "<p>4 rows × 50 columns</p>\n",
       "</div>"
      ],
      "text/plain": [
       "  run_no                       universe_id  \\\n",
       "0      3  1cfd95ec93a71ec294cbbbfabc4a36dd   \n",
       "0      3  1cfd95ec93a71ec294cbbbfabc4a36dd   \n",
       "0      3  1cfd95ec93a71ec294cbbbfabc4a36dd   \n",
       "0      3  1cfd95ec93a71ec294cbbbfabc4a36dd   \n",
       "\n",
       "                                   universe_settings  execution_time  \\\n",
       "0  {\"cutoff\": \"quantile_0.1\", \"eval_fairness_grou...       22.474358   \n",
       "0  {\"cutoff\": \"quantile_0.1\", \"eval_fairness_grou...       22.474358   \n",
       "0  {\"cutoff\": \"quantile_0.25\", \"eval_fairness_gro...       22.474358   \n",
       "0  {\"cutoff\": \"quantile_0.25\", \"eval_fairness_gro...       22.474358   \n",
       "\n",
       "   test_size_n  test_size_frac  fair_main_equalized_odds_difference  \\\n",
       "0        89710             1.0                             0.076897   \n",
       "0        89710             1.0                             0.076897   \n",
       "0        89710             1.0                             0.167057   \n",
       "0        89710             1.0                             0.167057   \n",
       "\n",
       "   fair_main_equalized_odds_ratio  fair_main_demographic_parity_difference  \\\n",
       "0                        0.919115                                 0.070846   \n",
       "0                        0.919115                                 0.070846   \n",
       "0                        0.805600                                 0.153002   \n",
       "0                        0.805600                                 0.153002   \n",
       "\n",
       "   fair_main_demographic_parity_ratio  ...  perf_grp_precision_0  \\\n",
       "0                            0.925787  ...                   NaN   \n",
       "0                            0.925787  ...              0.118931   \n",
       "0                            0.823724  ...                   NaN   \n",
       "0                            0.823724  ...              0.124074   \n",
       "\n",
       "   perf_grp_precision_1  perf_grp_false positive rate_0  \\\n",
       "0                   NaN                             NaN   \n",
       "0              0.141941                        0.950693   \n",
       "0                   NaN                             NaN   \n",
       "0              0.159664                        0.859344   \n",
       "\n",
       "   perf_grp_false positive rate_1  perf_grp_false negative rate_0  \\\n",
       "0                             NaN                             NaN   \n",
       "0                        0.873796                        0.015203   \n",
       "0                             NaN                             NaN   \n",
       "0                        0.692287                        0.065878   \n",
       "\n",
       "   perf_grp_false negative rate_1  perf_grp_selection rate_0  \\\n",
       "0                             NaN                        NaN   \n",
       "0                        0.050656                   0.954625   \n",
       "0                             NaN                        NaN   \n",
       "0                        0.136105                   0.867965   \n",
       "\n",
       "   perf_grp_selection rate_1  perf_grp_count_0  perf_grp_count_1  \n",
       "0                        NaN               NaN               NaN  \n",
       "0                   0.883779           20540.0           69170.0  \n",
       "0                        NaN               NaN               NaN  \n",
       "0                   0.714963           20540.0           69170.0  \n",
       "\n",
       "[4 rows x 50 columns]"
      ]
     },
     "execution_count": 64,
     "metadata": {},
     "output_type": "execute_result"
    }
   ],
   "source": [
    "final_output = universe_analysis.generate_final_output(\n",
    "    y_pred_prob=probs_test,\n",
    "    y_test=y_true,\n",
    "    org_test=org_test,\n",
    "    filter_data=filter_sub_universe_data,\n",
    "    cp_metrics_df=cp_metrics_df,\n",
    "    save=True,\n",
    ")\n",
    "final_output"
   ]
  },
  {
   "cell_type": "code",
   "execution_count": null,
   "id": "8b80a1ff",
   "metadata": {
    "papermill": {
     "duration": 0.014355,
     "end_time": "2025-08-19T18:56:56.819899",
     "exception": false,
     "start_time": "2025-08-19T18:56:56.805544",
     "status": "completed"
    },
    "tags": []
   },
   "outputs": [],
   "source": []
  },
  {
   "cell_type": "code",
   "execution_count": null,
   "id": "275c9fad",
   "metadata": {
    "papermill": {
     "duration": 0.014229,
     "end_time": "2025-08-19T18:56:56.848369",
     "exception": false,
     "start_time": "2025-08-19T18:56:56.834140",
     "status": "completed"
    },
    "tags": []
   },
   "outputs": [],
   "source": []
  }
 ],
 "metadata": {
  "celltoolbar": "Tags",
  "kernelspec": {
   "display_name": "Python (CMA Fairness)",
   "language": "python",
   "name": "cma_fair_env"
  },
  "language_info": {
   "codemirror_mode": {
    "name": "ipython",
    "version": 3
   },
   "file_extension": ".py",
   "mimetype": "text/x-python",
   "name": "python",
   "nbconvert_exporter": "python",
   "pygments_lexer": "ipython3",
   "version": "3.10.12"
  },
  "papermill": {
   "default_parameters": {},
   "duration": 32.843559,
   "end_time": "2025-08-19T18:56:57.790556",
   "environment_variables": {},
   "exception": null,
   "input_path": "universe_analysis.ipynb",
   "output_path": "output/runs/3/notebooks/m_3-1cfd95ec93a71ec294cbbbfabc4a36dd.ipynb",
   "parameters": {
    "output_dir": "output",
    "run_no": "3",
    "seed": "2023",
    "universe": "{\"cutoff\": [\"quantile_0.1\", \"quantile_0.25\"], \"eval_fairness_grouping\": [\"majority-minority\", \"nationality-all\"], \"exclude_features\": \"none\", \"exclude_subgroups\": \"keep-all\", \"model\": \"logreg\", \"scale\": \"scale\", \"training_size\": \"1k\", \"training_year\": \"2012_14\"}",
    "universe_id": "1cfd95ec93a71ec294cbbbfabc4a36dd"
   },
   "start_time": "2025-08-19T18:56:24.946997",
   "version": "2.6.0"
  }
 },
 "nbformat": 4,
 "nbformat_minor": 5
}