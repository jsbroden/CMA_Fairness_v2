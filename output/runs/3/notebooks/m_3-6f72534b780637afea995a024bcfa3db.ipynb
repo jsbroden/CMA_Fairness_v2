{
 "cells": [
  {
   "cell_type": "markdown",
   "id": "ef23dbb3",
   "metadata": {
    "papermill": {
     "duration": 0.013583,
     "end_time": "2025-08-19T19:11:30.521397",
     "exception": false,
     "start_time": "2025-08-19T19:11:30.507814",
     "status": "completed"
    },
    "tags": []
   },
   "source": [
    "# Setup"
   ]
  },
  {
   "cell_type": "code",
   "execution_count": 1,
   "id": "0bc8e7dc",
   "metadata": {
    "execution": {
     "iopub.execute_input": "2025-08-19T19:11:30.545341Z",
     "iopub.status.busy": "2025-08-19T19:11:30.544809Z",
     "iopub.status.idle": "2025-08-19T19:11:30.559189Z",
     "shell.execute_reply": "2025-08-19T19:11:30.558531Z"
    },
    "papermill": {
     "duration": 0.037111,
     "end_time": "2025-08-19T19:11:30.569378",
     "exception": false,
     "start_time": "2025-08-19T19:11:30.532267",
     "status": "completed"
    },
    "tags": []
   },
   "outputs": [
    {
     "name": "stdout",
     "output_type": "stream",
     "text": [
      "/dss/dsshome1/0C/ra93lal2/cma/CMA_Fairness_v2\n"
     ]
    },
    {
     "name": "stderr",
     "output_type": "stream",
     "text": [
      "/dss/dsshome1/0C/ra93lal2/.local/share/virtualenvs/CMA_Fairness_v2-3j10GkSs/lib/python3.10/site-packages/IPython/core/magics/osm.py:393: UserWarning: This is now an optional IPython functionality, using bookmarks requires you to install the `pickleshare` library.\n",
      "  bkms = self.shell.db.get('bookmarks', {})\n",
      "/dss/dsshome1/0C/ra93lal2/.local/share/virtualenvs/CMA_Fairness_v2-3j10GkSs/lib/python3.10/site-packages/IPython/core/magics/osm.py:417: UserWarning: This is now an optional IPython functionality, setting dhist requires you to install the `pickleshare` library.\n",
      "  self.shell.db['dhist'] = compress_dhist(dhist)[-100:]\n"
     ]
    }
   ],
   "source": [
    "%cd ~/cma/CMA_Fairness_v2"
   ]
  },
  {
   "cell_type": "markdown",
   "id": "9d235661",
   "metadata": {
    "papermill": {
     "duration": 0.00879,
     "end_time": "2025-08-19T19:11:30.591270",
     "exception": false,
     "start_time": "2025-08-19T19:11:30.582480",
     "status": "completed"
    },
    "tags": []
   },
   "source": [
    "The following cell holds the definition of our parameters, these values can be overriden by rendering the with e.g. the following command:\n",
    "\n",
    "papermill -p alpha 0.2 -p ratio 0.3 universe_analysis.ipynb output/test_run.ipynb"
   ]
  },
  {
   "cell_type": "code",
   "execution_count": 2,
   "id": "4a789d8e",
   "metadata": {
    "execution": {
     "iopub.execute_input": "2025-08-19T19:11:30.611217Z",
     "iopub.status.busy": "2025-08-19T19:11:30.610809Z",
     "iopub.status.idle": "2025-08-19T19:11:30.615092Z",
     "shell.execute_reply": "2025-08-19T19:11:30.614420Z"
    },
    "papermill": {
     "duration": 0.016062,
     "end_time": "2025-08-19T19:11:30.616129",
     "exception": false,
     "start_time": "2025-08-19T19:11:30.600067",
     "status": "completed"
    },
    "tags": []
   },
   "outputs": [
    {
     "name": "stdout",
     "output_type": "stream",
     "text": [
      "Current working directory: /dss/dsshome1/0C/ra93lal2/cma/CMA_Fairness_v2\n"
     ]
    }
   ],
   "source": [
    "import os\n",
    "print(\"Current working directory:\", os.getcwd())"
   ]
  },
  {
   "cell_type": "code",
   "execution_count": 3,
   "id": "4132aaed",
   "metadata": {
    "execution": {
     "iopub.execute_input": "2025-08-19T19:11:30.635440Z",
     "iopub.status.busy": "2025-08-19T19:11:30.635108Z",
     "iopub.status.idle": "2025-08-19T19:11:30.645863Z",
     "shell.execute_reply": "2025-08-19T19:11:30.645135Z"
    },
    "papermill": {
     "duration": 0.021955,
     "end_time": "2025-08-19T19:11:30.647216",
     "exception": false,
     "start_time": "2025-08-19T19:11:30.625261",
     "status": "completed"
    },
    "tags": [
     "parameters"
    ]
   },
   "outputs": [],
   "source": [
    "run_no = 0\n",
    "universe_id = \"test\"\n",
    "universe = {\n",
    "    \"training_size\": \"5k\", # \"25k\", \"5k\", \"1k\"\n",
    "    \"training_year\": \"2012_14\", # \"2014\", \"2012_14\", \"2010_14\"\n",
    "    \"scale\": \"scale\", # \"scale\", \"do-not-scale\",\n",
    "    \"model\": \"elasticnet\", # \"logreg\", \"penalized_logreg\", \"rf\", \"gbm\", \"elasticnet\"\n",
    "    \"cutoff\": [\"quantile_0.15\", \"quantile_0.30\"],\n",
    "    \"exclude_features\": \"age\", # \"none\", \"nationality\", \"sex\", \"nationality-sex\", \"age\"\n",
    "    \"exclude_subgroups\": \"drop-non-german\", # \"keep-all\", \"drop-non-german\"\n",
    "    \"eval_fairness_grouping\": [\"majority-minority\", \"nationality-all\"]\n",
    "}\n",
    "\n",
    "output_dir=\"./output\"\n",
    "seed=0"
   ]
  },
  {
   "cell_type": "code",
   "execution_count": 4,
   "id": "7fe25412",
   "metadata": {
    "execution": {
     "iopub.execute_input": "2025-08-19T19:11:30.670682Z",
     "iopub.status.busy": "2025-08-19T19:11:30.670349Z",
     "iopub.status.idle": "2025-08-19T19:11:30.674149Z",
     "shell.execute_reply": "2025-08-19T19:11:30.673489Z"
    },
    "papermill": {
     "duration": 0.015242,
     "end_time": "2025-08-19T19:11:30.675347",
     "exception": false,
     "start_time": "2025-08-19T19:11:30.660105",
     "status": "completed"
    },
    "tags": [
     "injected-parameters"
    ]
   },
   "outputs": [],
   "source": [
    "# Parameters\n",
    "universe_id = \"6f72534b780637afea995a024bcfa3db\"\n",
    "run_no = \"3\"\n",
    "universe = \"{\\\"cutoff\\\": [\\\"quantile_0.1\\\", \\\"quantile_0.25\\\"], \\\"eval_fairness_grouping\\\": [\\\"majority-minority\\\", \\\"nationality-all\\\"], \\\"exclude_features\\\": \\\"nationality-sex\\\", \\\"exclude_subgroups\\\": \\\"keep-all\\\", \\\"model\\\": \\\"gbm\\\", \\\"scale\\\": \\\"do-not-scale\\\", \\\"training_size\\\": \\\"1k\\\", \\\"training_year\\\": \\\"2010_14\\\"}\"\n",
    "output_dir = \"output\"\n",
    "seed = \"2023\"\n"
   ]
  },
  {
   "cell_type": "code",
   "execution_count": 5,
   "id": "a5d7941f",
   "metadata": {
    "execution": {
     "iopub.execute_input": "2025-08-19T19:11:30.699978Z",
     "iopub.status.busy": "2025-08-19T19:11:30.699652Z",
     "iopub.status.idle": "2025-08-19T19:11:30.703281Z",
     "shell.execute_reply": "2025-08-19T19:11:30.702647Z"
    },
    "papermill": {
     "duration": 0.022122,
     "end_time": "2025-08-19T19:11:30.706367",
     "exception": false,
     "start_time": "2025-08-19T19:11:30.684245",
     "status": "completed"
    },
    "tags": []
   },
   "outputs": [],
   "source": [
    "import json\n",
    "if isinstance(universe, str):\n",
    "    universe = json.loads(universe)"
   ]
  },
  {
   "cell_type": "code",
   "execution_count": 6,
   "id": "7076ccb1",
   "metadata": {
    "execution": {
     "iopub.execute_input": "2025-08-19T19:11:30.737870Z",
     "iopub.status.busy": "2025-08-19T19:11:30.737476Z",
     "iopub.status.idle": "2025-08-19T19:11:30.772637Z",
     "shell.execute_reply": "2025-08-19T19:11:30.771945Z"
    },
    "papermill": {
     "duration": 0.047898,
     "end_time": "2025-08-19T19:11:30.775135",
     "exception": false,
     "start_time": "2025-08-19T19:11:30.727237",
     "status": "completed"
    },
    "tags": []
   },
   "outputs": [],
   "source": [
    "# Auto-reload the custom package\n",
    "%load_ext autoreload\n",
    "%autoreload 1\n",
    "%aimport fairness_multiverse"
   ]
  },
  {
   "cell_type": "code",
   "execution_count": 7,
   "id": "94c8eb93",
   "metadata": {
    "execution": {
     "iopub.execute_input": "2025-08-19T19:11:30.822514Z",
     "iopub.status.busy": "2025-08-19T19:11:30.821552Z",
     "iopub.status.idle": "2025-08-19T19:11:32.447802Z",
     "shell.execute_reply": "2025-08-19T19:11:32.446968Z"
    },
    "papermill": {
     "duration": 1.644436,
     "end_time": "2025-08-19T19:11:32.449439",
     "exception": false,
     "start_time": "2025-08-19T19:11:30.805003",
     "status": "completed"
    },
    "tags": []
   },
   "outputs": [],
   "source": [
    "from fairness_multiverse.universe import UniverseAnalysis\n",
    "\n",
    "universe_analysis = UniverseAnalysis(\n",
    "    run_no = run_no,\n",
    "    universe_id = universe_id,\n",
    "    universe = universe,\n",
    "    output_dir=output_dir,\n",
    ")"
   ]
  },
  {
   "cell_type": "code",
   "execution_count": 8,
   "id": "2a6381cf",
   "metadata": {
    "execution": {
     "iopub.execute_input": "2025-08-19T19:11:32.478348Z",
     "iopub.status.busy": "2025-08-19T19:11:32.477995Z",
     "iopub.status.idle": "2025-08-19T19:11:32.484123Z",
     "shell.execute_reply": "2025-08-19T19:11:32.483490Z"
    },
    "papermill": {
     "duration": 0.024181,
     "end_time": "2025-08-19T19:11:32.489203",
     "exception": false,
     "start_time": "2025-08-19T19:11:32.465022",
     "status": "completed"
    },
    "tags": []
   },
   "outputs": [
    {
     "name": "stdout",
     "output_type": "stream",
     "text": [
      "Using Seed: 2023\n"
     ]
    }
   ],
   "source": [
    "import numpy as np\n",
    "parsed_seed = int(seed)\n",
    "np.random.seed(parsed_seed)\n",
    "print(f\"Using Seed: {parsed_seed}\")"
   ]
  },
  {
   "cell_type": "markdown",
   "id": "b6e958b4",
   "metadata": {
    "papermill": {
     "duration": 0.010461,
     "end_time": "2025-08-19T19:11:32.518146",
     "exception": false,
     "start_time": "2025-08-19T19:11:32.507685",
     "status": "completed"
    },
    "tags": []
   },
   "source": [
    "# Loading Data"
   ]
  },
  {
   "cell_type": "code",
   "execution_count": 9,
   "id": "98701482",
   "metadata": {
    "execution": {
     "iopub.execute_input": "2025-08-19T19:11:32.538646Z",
     "iopub.status.busy": "2025-08-19T19:11:32.537606Z",
     "iopub.status.idle": "2025-08-19T19:11:42.649206Z",
     "shell.execute_reply": "2025-08-19T19:11:42.648073Z"
    },
    "papermill": {
     "duration": 10.123395,
     "end_time": "2025-08-19T19:11:42.650455",
     "exception": false,
     "start_time": "2025-08-19T19:11:32.527060",
     "status": "completed"
    },
    "tags": []
   },
   "outputs": [
    {
     "name": "stdout",
     "output_type": "stream",
     "text": [
      "Loading SIAB data from cache: data/siab_cached.csv.gz\n"
     ]
    },
    {
     "name": "stdout",
     "output_type": "stream",
     "text": [
      "(643690, 164)\n"
     ]
    }
   ],
   "source": [
    "from pathlib import Path\n",
    "import pandas as pd\n",
    "\n",
    "# File paths\n",
    "raw_file = Path(\"data/raw/siab.csv\")\n",
    "cache_file = Path(\"data/siab_cached.csv.gz\")\n",
    "\n",
    "# Ensure cache directory exists\n",
    "cache_file.parent.mkdir(parents=True, exist_ok=True)\n",
    "\n",
    "# Load with simple caching\n",
    "if cache_file.exists():\n",
    "    print(f\"Loading SIAB data from cache: {cache_file}\")\n",
    "    siab = pd.read_csv(cache_file, compression='gzip')\n",
    "else:\n",
    "    print(f\"Cache not found. Reading raw SIAB data: {raw_file}\")\n",
    "    siab = pd.read_csv(raw_file)\n",
    "    siab.to_csv(cache_file, index=False, compression='gzip')\n",
    "    print(f\"Cached SIAB data to: {cache_file}\")\n",
    "\n",
    "print(siab.shape)"
   ]
  },
  {
   "cell_type": "code",
   "execution_count": 10,
   "id": "058d2abb",
   "metadata": {
    "execution": {
     "iopub.execute_input": "2025-08-19T19:11:42.674779Z",
     "iopub.status.busy": "2025-08-19T19:11:42.673883Z",
     "iopub.status.idle": "2025-08-19T19:11:42.893490Z",
     "shell.execute_reply": "2025-08-19T19:11:42.892787Z"
    },
    "papermill": {
     "duration": 0.232198,
     "end_time": "2025-08-19T19:11:42.894590",
     "exception": false,
     "start_time": "2025-08-19T19:11:42.662392",
     "status": "completed"
    },
    "tags": []
   },
   "outputs": [
    {
     "data": {
      "text/html": [
       "<div>\n",
       "<style scoped>\n",
       "    .dataframe tbody tr th:only-of-type {\n",
       "        vertical-align: middle;\n",
       "    }\n",
       "\n",
       "    .dataframe tbody tr th {\n",
       "        vertical-align: top;\n",
       "    }\n",
       "\n",
       "    .dataframe thead th {\n",
       "        text-align: right;\n",
       "    }\n",
       "</style>\n",
       "<table border=\"1\" class=\"dataframe\">\n",
       "  <thead>\n",
       "    <tr style=\"text-align: right;\">\n",
       "      <th></th>\n",
       "      <th>persnr</th>\n",
       "      <th>year</th>\n",
       "      <th>nrEntry</th>\n",
       "      <th>ltue</th>\n",
       "      <th>employed_before</th>\n",
       "      <th>receipt_leh_before</th>\n",
       "      <th>receipt_lhg_before</th>\n",
       "      <th>se_before</th>\n",
       "      <th>ASU_notue_seeking_before</th>\n",
       "      <th>ASU_other_before</th>\n",
       "      <th>...</th>\n",
       "      <th>minijob_tot_dur_byage</th>\n",
       "      <th>ft_tot_dur_byage</th>\n",
       "      <th>befrist_tot_dur_byage</th>\n",
       "      <th>leih_tot_dur_byage</th>\n",
       "      <th>LHG_tot_dur_byage</th>\n",
       "      <th>LEH_tot_dur_byage</th>\n",
       "      <th>almp_tot_dur_byage</th>\n",
       "      <th>almp_aw_tot_dur_byage</th>\n",
       "      <th>se_tot_dur_byage</th>\n",
       "      <th>seeking1_tot_dur_byage</th>\n",
       "    </tr>\n",
       "  </thead>\n",
       "  <tbody>\n",
       "    <tr>\n",
       "      <th>0</th>\n",
       "      <td>7</td>\n",
       "      <td>2015</td>\n",
       "      <td>1</td>\n",
       "      <td>0</td>\n",
       "      <td>1</td>\n",
       "      <td>0</td>\n",
       "      <td>0</td>\n",
       "      <td>0</td>\n",
       "      <td>1</td>\n",
       "      <td>0</td>\n",
       "      <td>...</td>\n",
       "      <td>0.000000</td>\n",
       "      <td>0.000000</td>\n",
       "      <td>15.043478</td>\n",
       "      <td>0.000000</td>\n",
       "      <td>0.000000</td>\n",
       "      <td>0.000000</td>\n",
       "      <td>0.000000</td>\n",
       "      <td>0.000000</td>\n",
       "      <td>0.000000</td>\n",
       "      <td>0.000000</td>\n",
       "    </tr>\n",
       "    <tr>\n",
       "      <th>1</th>\n",
       "      <td>18</td>\n",
       "      <td>2010</td>\n",
       "      <td>1</td>\n",
       "      <td>1</td>\n",
       "      <td>0</td>\n",
       "      <td>0</td>\n",
       "      <td>0</td>\n",
       "      <td>0</td>\n",
       "      <td>0</td>\n",
       "      <td>0</td>\n",
       "      <td>...</td>\n",
       "      <td>0.000000</td>\n",
       "      <td>0.000000</td>\n",
       "      <td>0.000000</td>\n",
       "      <td>0.000000</td>\n",
       "      <td>0.000000</td>\n",
       "      <td>0.000000</td>\n",
       "      <td>0.000000</td>\n",
       "      <td>0.000000</td>\n",
       "      <td>0.000000</td>\n",
       "      <td>0.000000</td>\n",
       "    </tr>\n",
       "    <tr>\n",
       "      <th>2</th>\n",
       "      <td>18</td>\n",
       "      <td>2011</td>\n",
       "      <td>2</td>\n",
       "      <td>0</td>\n",
       "      <td>1</td>\n",
       "      <td>0</td>\n",
       "      <td>1</td>\n",
       "      <td>0</td>\n",
       "      <td>1</td>\n",
       "      <td>0</td>\n",
       "      <td>...</td>\n",
       "      <td>2.714286</td>\n",
       "      <td>2.714286</td>\n",
       "      <td>0.000000</td>\n",
       "      <td>0.000000</td>\n",
       "      <td>10.775510</td>\n",
       "      <td>0.000000</td>\n",
       "      <td>8.367347</td>\n",
       "      <td>0.000000</td>\n",
       "      <td>0.000000</td>\n",
       "      <td>9.836735</td>\n",
       "    </tr>\n",
       "    <tr>\n",
       "      <th>3</th>\n",
       "      <td>18</td>\n",
       "      <td>2012</td>\n",
       "      <td>3</td>\n",
       "      <td>0</td>\n",
       "      <td>1</td>\n",
       "      <td>0</td>\n",
       "      <td>1</td>\n",
       "      <td>0</td>\n",
       "      <td>1</td>\n",
       "      <td>0</td>\n",
       "      <td>...</td>\n",
       "      <td>4.200000</td>\n",
       "      <td>4.200000</td>\n",
       "      <td>0.000000</td>\n",
       "      <td>0.000000</td>\n",
       "      <td>12.100000</td>\n",
       "      <td>0.000000</td>\n",
       "      <td>9.400000</td>\n",
       "      <td>0.000000</td>\n",
       "      <td>0.000000</td>\n",
       "      <td>9.960000</td>\n",
       "    </tr>\n",
       "    <tr>\n",
       "      <th>4</th>\n",
       "      <td>18</td>\n",
       "      <td>2012</td>\n",
       "      <td>4</td>\n",
       "      <td>0</td>\n",
       "      <td>1</td>\n",
       "      <td>0</td>\n",
       "      <td>1</td>\n",
       "      <td>0</td>\n",
       "      <td>1</td>\n",
       "      <td>0</td>\n",
       "      <td>...</td>\n",
       "      <td>5.460000</td>\n",
       "      <td>5.460000</td>\n",
       "      <td>0.000000</td>\n",
       "      <td>0.000000</td>\n",
       "      <td>13.360000</td>\n",
       "      <td>0.000000</td>\n",
       "      <td>10.320000</td>\n",
       "      <td>0.000000</td>\n",
       "      <td>0.000000</td>\n",
       "      <td>10.280000</td>\n",
       "    </tr>\n",
       "    <tr>\n",
       "      <th>...</th>\n",
       "      <td>...</td>\n",
       "      <td>...</td>\n",
       "      <td>...</td>\n",
       "      <td>...</td>\n",
       "      <td>...</td>\n",
       "      <td>...</td>\n",
       "      <td>...</td>\n",
       "      <td>...</td>\n",
       "      <td>...</td>\n",
       "      <td>...</td>\n",
       "      <td>...</td>\n",
       "      <td>...</td>\n",
       "      <td>...</td>\n",
       "      <td>...</td>\n",
       "      <td>...</td>\n",
       "      <td>...</td>\n",
       "      <td>...</td>\n",
       "      <td>...</td>\n",
       "      <td>...</td>\n",
       "      <td>...</td>\n",
       "      <td>...</td>\n",
       "    </tr>\n",
       "    <tr>\n",
       "      <th>643685</th>\n",
       "      <td>1827860</td>\n",
       "      <td>2013</td>\n",
       "      <td>1</td>\n",
       "      <td>0</td>\n",
       "      <td>0</td>\n",
       "      <td>0</td>\n",
       "      <td>1</td>\n",
       "      <td>0</td>\n",
       "      <td>0</td>\n",
       "      <td>1</td>\n",
       "      <td>...</td>\n",
       "      <td>0.000000</td>\n",
       "      <td>0.000000</td>\n",
       "      <td>0.000000</td>\n",
       "      <td>0.000000</td>\n",
       "      <td>0.612903</td>\n",
       "      <td>0.000000</td>\n",
       "      <td>0.000000</td>\n",
       "      <td>0.000000</td>\n",
       "      <td>0.000000</td>\n",
       "      <td>0.000000</td>\n",
       "    </tr>\n",
       "    <tr>\n",
       "      <th>643686</th>\n",
       "      <td>1827860</td>\n",
       "      <td>2015</td>\n",
       "      <td>2</td>\n",
       "      <td>1</td>\n",
       "      <td>0</td>\n",
       "      <td>0</td>\n",
       "      <td>1</td>\n",
       "      <td>0</td>\n",
       "      <td>1</td>\n",
       "      <td>0</td>\n",
       "      <td>...</td>\n",
       "      <td>0.000000</td>\n",
       "      <td>0.000000</td>\n",
       "      <td>0.212121</td>\n",
       "      <td>0.212121</td>\n",
       "      <td>17.363636</td>\n",
       "      <td>0.000000</td>\n",
       "      <td>8.909091</td>\n",
       "      <td>0.000000</td>\n",
       "      <td>0.000000</td>\n",
       "      <td>7.121212</td>\n",
       "    </tr>\n",
       "    <tr>\n",
       "      <th>643687</th>\n",
       "      <td>1827860</td>\n",
       "      <td>2016</td>\n",
       "      <td>3</td>\n",
       "      <td>1</td>\n",
       "      <td>0</td>\n",
       "      <td>0</td>\n",
       "      <td>1</td>\n",
       "      <td>1</td>\n",
       "      <td>0</td>\n",
       "      <td>1</td>\n",
       "      <td>...</td>\n",
       "      <td>0.000000</td>\n",
       "      <td>0.000000</td>\n",
       "      <td>0.294118</td>\n",
       "      <td>0.205882</td>\n",
       "      <td>34.705882</td>\n",
       "      <td>0.000000</td>\n",
       "      <td>10.352941</td>\n",
       "      <td>1.705882</td>\n",
       "      <td>1.705882</td>\n",
       "      <td>23.911765</td>\n",
       "    </tr>\n",
       "    <tr>\n",
       "      <th>643688</th>\n",
       "      <td>1827869</td>\n",
       "      <td>2013</td>\n",
       "      <td>1</td>\n",
       "      <td>1</td>\n",
       "      <td>1</td>\n",
       "      <td>0</td>\n",
       "      <td>0</td>\n",
       "      <td>0</td>\n",
       "      <td>1</td>\n",
       "      <td>0</td>\n",
       "      <td>...</td>\n",
       "      <td>0.000000</td>\n",
       "      <td>0.000000</td>\n",
       "      <td>0.000000</td>\n",
       "      <td>0.000000</td>\n",
       "      <td>0.000000</td>\n",
       "      <td>0.525424</td>\n",
       "      <td>0.000000</td>\n",
       "      <td>0.000000</td>\n",
       "      <td>0.000000</td>\n",
       "      <td>0.000000</td>\n",
       "    </tr>\n",
       "    <tr>\n",
       "      <th>643689</th>\n",
       "      <td>1827869</td>\n",
       "      <td>2014</td>\n",
       "      <td>2</td>\n",
       "      <td>0</td>\n",
       "      <td>0</td>\n",
       "      <td>1</td>\n",
       "      <td>0</td>\n",
       "      <td>0</td>\n",
       "      <td>1</td>\n",
       "      <td>0</td>\n",
       "      <td>...</td>\n",
       "      <td>0.000000</td>\n",
       "      <td>0.666667</td>\n",
       "      <td>0.666667</td>\n",
       "      <td>0.000000</td>\n",
       "      <td>0.000000</td>\n",
       "      <td>8.950000</td>\n",
       "      <td>1.033333</td>\n",
       "      <td>0.083333</td>\n",
       "      <td>0.083333</td>\n",
       "      <td>8.133333</td>\n",
       "    </tr>\n",
       "  </tbody>\n",
       "</table>\n",
       "<p>643690 rows × 164 columns</p>\n",
       "</div>"
      ],
      "text/plain": [
       "         persnr  year  nrEntry  ltue  employed_before  receipt_leh_before  \\\n",
       "0             7  2015        1     0                1                   0   \n",
       "1            18  2010        1     1                0                   0   \n",
       "2            18  2011        2     0                1                   0   \n",
       "3            18  2012        3     0                1                   0   \n",
       "4            18  2012        4     0                1                   0   \n",
       "...         ...   ...      ...   ...              ...                 ...   \n",
       "643685  1827860  2013        1     0                0                   0   \n",
       "643686  1827860  2015        2     1                0                   0   \n",
       "643687  1827860  2016        3     1                0                   0   \n",
       "643688  1827869  2013        1     1                1                   0   \n",
       "643689  1827869  2014        2     0                0                   1   \n",
       "\n",
       "        receipt_lhg_before  se_before  ASU_notue_seeking_before  \\\n",
       "0                        0          0                         1   \n",
       "1                        0          0                         0   \n",
       "2                        1          0                         1   \n",
       "3                        1          0                         1   \n",
       "4                        1          0                         1   \n",
       "...                    ...        ...                       ...   \n",
       "643685                   1          0                         0   \n",
       "643686                   1          0                         1   \n",
       "643687                   1          1                         0   \n",
       "643688                   0          0                         1   \n",
       "643689                   0          0                         1   \n",
       "\n",
       "        ASU_other_before  ...  minijob_tot_dur_byage  ft_tot_dur_byage  \\\n",
       "0                      0  ...               0.000000          0.000000   \n",
       "1                      0  ...               0.000000          0.000000   \n",
       "2                      0  ...               2.714286          2.714286   \n",
       "3                      0  ...               4.200000          4.200000   \n",
       "4                      0  ...               5.460000          5.460000   \n",
       "...                  ...  ...                    ...               ...   \n",
       "643685                 1  ...               0.000000          0.000000   \n",
       "643686                 0  ...               0.000000          0.000000   \n",
       "643687                 1  ...               0.000000          0.000000   \n",
       "643688                 0  ...               0.000000          0.000000   \n",
       "643689                 0  ...               0.000000          0.666667   \n",
       "\n",
       "        befrist_tot_dur_byage  leih_tot_dur_byage  LHG_tot_dur_byage  \\\n",
       "0                   15.043478            0.000000           0.000000   \n",
       "1                    0.000000            0.000000           0.000000   \n",
       "2                    0.000000            0.000000          10.775510   \n",
       "3                    0.000000            0.000000          12.100000   \n",
       "4                    0.000000            0.000000          13.360000   \n",
       "...                       ...                 ...                ...   \n",
       "643685               0.000000            0.000000           0.612903   \n",
       "643686               0.212121            0.212121          17.363636   \n",
       "643687               0.294118            0.205882          34.705882   \n",
       "643688               0.000000            0.000000           0.000000   \n",
       "643689               0.666667            0.000000           0.000000   \n",
       "\n",
       "        LEH_tot_dur_byage  almp_tot_dur_byage  almp_aw_tot_dur_byage  \\\n",
       "0                0.000000            0.000000               0.000000   \n",
       "1                0.000000            0.000000               0.000000   \n",
       "2                0.000000            8.367347               0.000000   \n",
       "3                0.000000            9.400000               0.000000   \n",
       "4                0.000000           10.320000               0.000000   \n",
       "...                   ...                 ...                    ...   \n",
       "643685           0.000000            0.000000               0.000000   \n",
       "643686           0.000000            8.909091               0.000000   \n",
       "643687           0.000000           10.352941               1.705882   \n",
       "643688           0.525424            0.000000               0.000000   \n",
       "643689           8.950000            1.033333               0.083333   \n",
       "\n",
       "        se_tot_dur_byage  seeking1_tot_dur_byage  \n",
       "0               0.000000                0.000000  \n",
       "1               0.000000                0.000000  \n",
       "2               0.000000                9.836735  \n",
       "3               0.000000                9.960000  \n",
       "4               0.000000               10.280000  \n",
       "...                  ...                     ...  \n",
       "643685          0.000000                0.000000  \n",
       "643686          0.000000                7.121212  \n",
       "643687          1.705882               23.911765  \n",
       "643688          0.000000                0.000000  \n",
       "643689          0.083333                8.133333  \n",
       "\n",
       "[643690 rows x 164 columns]"
      ]
     },
     "execution_count": 10,
     "metadata": {},
     "output_type": "execute_result"
    }
   ],
   "source": [
    "siab"
   ]
  },
  {
   "cell_type": "markdown",
   "id": "1f87e805",
   "metadata": {
    "papermill": {
     "duration": 0.009821,
     "end_time": "2025-08-19T19:11:42.914766",
     "exception": false,
     "start_time": "2025-08-19T19:11:42.904945",
     "status": "completed"
    },
    "tags": []
   },
   "source": [
    "# Splitting Data and Setting Training Data Size"
   ]
  },
  {
   "cell_type": "code",
   "execution_count": 11,
   "id": "910ae358",
   "metadata": {
    "execution": {
     "iopub.execute_input": "2025-08-19T19:11:42.936560Z",
     "iopub.status.busy": "2025-08-19T19:11:42.935524Z",
     "iopub.status.idle": "2025-08-19T19:11:44.081820Z",
     "shell.execute_reply": "2025-08-19T19:11:44.078464Z"
    },
    "papermill": {
     "duration": 1.160242,
     "end_time": "2025-08-19T19:11:44.084701",
     "exception": false,
     "start_time": "2025-08-19T19:11:42.924459",
     "status": "completed"
    },
    "tags": []
   },
   "outputs": [],
   "source": [
    "from fairness_multiverse.universe import sample_by_year_size\n",
    "\n",
    "siab_train = sample_by_year_size(siab,\n",
    "                               training_year=universe[\"training_year\"],\n",
    "                               training_size=universe[\"training_size\"])"
   ]
  },
  {
   "cell_type": "code",
   "execution_count": 12,
   "id": "919c8ff5",
   "metadata": {
    "execution": {
     "iopub.execute_input": "2025-08-19T19:11:44.107793Z",
     "iopub.status.busy": "2025-08-19T19:11:44.107448Z",
     "iopub.status.idle": "2025-08-19T19:11:44.115946Z",
     "shell.execute_reply": "2025-08-19T19:11:44.115079Z"
    },
    "papermill": {
     "duration": 0.022509,
     "end_time": "2025-08-19T19:11:44.118053",
     "exception": false,
     "start_time": "2025-08-19T19:11:44.095544",
     "status": "completed"
    },
    "tags": []
   },
   "outputs": [
    {
     "data": {
      "text/plain": [
       "(1000, 164)"
      ]
     },
     "execution_count": 12,
     "metadata": {},
     "output_type": "execute_result"
    }
   ],
   "source": [
    "siab_train.shape"
   ]
  },
  {
   "cell_type": "code",
   "execution_count": 13,
   "id": "feb13bf4",
   "metadata": {
    "execution": {
     "iopub.execute_input": "2025-08-19T19:11:44.142382Z",
     "iopub.status.busy": "2025-08-19T19:11:44.142052Z",
     "iopub.status.idle": "2025-08-19T19:11:44.151513Z",
     "shell.execute_reply": "2025-08-19T19:11:44.150615Z"
    },
    "papermill": {
     "duration": 0.023472,
     "end_time": "2025-08-19T19:11:44.153581",
     "exception": false,
     "start_time": "2025-08-19T19:11:44.130109",
     "status": "completed"
    },
    "tags": []
   },
   "outputs": [
    {
     "data": {
      "text/plain": [
       "year\n",
       "2010    200\n",
       "2011    200\n",
       "2012    200\n",
       "2013    200\n",
       "2014    200\n",
       "dtype: int64"
      ]
     },
     "metadata": {},
     "output_type": "display_data"
    }
   ],
   "source": [
    "display(siab_train.groupby(\"year\").size())"
   ]
  },
  {
   "cell_type": "code",
   "execution_count": 14,
   "id": "0997782f",
   "metadata": {
    "execution": {
     "iopub.execute_input": "2025-08-19T19:11:44.196413Z",
     "iopub.status.busy": "2025-08-19T19:11:44.195858Z",
     "iopub.status.idle": "2025-08-19T19:11:44.498697Z",
     "shell.execute_reply": "2025-08-19T19:11:44.497897Z"
    },
    "papermill": {
     "duration": 0.32658,
     "end_time": "2025-08-19T19:11:44.500340",
     "exception": false,
     "start_time": "2025-08-19T19:11:44.173760",
     "status": "completed"
    },
    "tags": []
   },
   "outputs": [],
   "source": [
    "#siab_train = siab_s[siab_s.year < 2015]\n",
    "siab_calib = siab[siab.year == 2015]\n",
    "siab_test = siab[siab.year == 2016]"
   ]
  },
  {
   "cell_type": "code",
   "execution_count": 15,
   "id": "2c1e4012",
   "metadata": {
    "execution": {
     "iopub.execute_input": "2025-08-19T19:11:44.523583Z",
     "iopub.status.busy": "2025-08-19T19:11:44.522476Z",
     "iopub.status.idle": "2025-08-19T19:11:44.528326Z",
     "shell.execute_reply": "2025-08-19T19:11:44.527232Z"
    },
    "papermill": {
     "duration": 0.018738,
     "end_time": "2025-08-19T19:11:44.529651",
     "exception": false,
     "start_time": "2025-08-19T19:11:44.510913",
     "status": "completed"
    },
    "tags": []
   },
   "outputs": [],
   "source": [
    "#siab_calib.shape"
   ]
  },
  {
   "cell_type": "code",
   "execution_count": 16,
   "id": "f66b54ca",
   "metadata": {
    "execution": {
     "iopub.execute_input": "2025-08-19T19:11:44.553023Z",
     "iopub.status.busy": "2025-08-19T19:11:44.552274Z",
     "iopub.status.idle": "2025-08-19T19:11:44.560458Z",
     "shell.execute_reply": "2025-08-19T19:11:44.558729Z"
    },
    "papermill": {
     "duration": 0.021988,
     "end_time": "2025-08-19T19:11:44.562193",
     "exception": false,
     "start_time": "2025-08-19T19:11:44.540205",
     "status": "completed"
    },
    "tags": []
   },
   "outputs": [],
   "source": [
    "#siab_test.shape"
   ]
  },
  {
   "cell_type": "code",
   "execution_count": 17,
   "id": "27e4384d",
   "metadata": {
    "execution": {
     "iopub.execute_input": "2025-08-19T19:11:44.591900Z",
     "iopub.status.busy": "2025-08-19T19:11:44.590816Z",
     "iopub.status.idle": "2025-08-19T19:11:44.602004Z",
     "shell.execute_reply": "2025-08-19T19:11:44.600549Z"
    },
    "papermill": {
     "duration": 0.028643,
     "end_time": "2025-08-19T19:11:44.603882",
     "exception": false,
     "start_time": "2025-08-19T19:11:44.575239",
     "status": "completed"
    },
    "tags": []
   },
   "outputs": [],
   "source": [
    "X_train = siab_train.iloc[:,4:164]\n",
    "y_train = siab_train.iloc[:, [3]]"
   ]
  },
  {
   "cell_type": "code",
   "execution_count": 18,
   "id": "08ee8389",
   "metadata": {
    "execution": {
     "iopub.execute_input": "2025-08-19T19:11:44.631670Z",
     "iopub.status.busy": "2025-08-19T19:11:44.630955Z",
     "iopub.status.idle": "2025-08-19T19:11:44.692919Z",
     "shell.execute_reply": "2025-08-19T19:11:44.691536Z"
    },
    "papermill": {
     "duration": 0.078687,
     "end_time": "2025-08-19T19:11:44.696163",
     "exception": false,
     "start_time": "2025-08-19T19:11:44.617476",
     "status": "completed"
    },
    "tags": []
   },
   "outputs": [],
   "source": [
    "X_calib = siab_calib.iloc[:,4:164]\n",
    "y_calib = siab_calib.iloc[:, [3]]"
   ]
  },
  {
   "cell_type": "code",
   "execution_count": 19,
   "id": "b7ff42e0",
   "metadata": {
    "execution": {
     "iopub.execute_input": "2025-08-19T19:11:44.736608Z",
     "iopub.status.busy": "2025-08-19T19:11:44.735686Z",
     "iopub.status.idle": "2025-08-19T19:11:44.798177Z",
     "shell.execute_reply": "2025-08-19T19:11:44.797368Z"
    },
    "papermill": {
     "duration": 0.079221,
     "end_time": "2025-08-19T19:11:44.799564",
     "exception": false,
     "start_time": "2025-08-19T19:11:44.720343",
     "status": "completed"
    },
    "tags": []
   },
   "outputs": [],
   "source": [
    "X_test = siab_test.iloc[:,4:164]\n",
    "y_true = siab_test.iloc[:, [3]]"
   ]
  },
  {
   "cell_type": "code",
   "execution_count": 20,
   "id": "0275101e",
   "metadata": {
    "execution": {
     "iopub.execute_input": "2025-08-19T19:11:44.822356Z",
     "iopub.status.busy": "2025-08-19T19:11:44.821917Z",
     "iopub.status.idle": "2025-08-19T19:11:44.947828Z",
     "shell.execute_reply": "2025-08-19T19:11:44.947171Z"
    },
    "papermill": {
     "duration": 0.138933,
     "end_time": "2025-08-19T19:11:44.949224",
     "exception": false,
     "start_time": "2025-08-19T19:11:44.810291",
     "status": "completed"
    },
    "tags": []
   },
   "outputs": [],
   "source": [
    "# Auxiliary data needed downstream in the pipeline\n",
    "\n",
    "org_train = X_train.copy()\n",
    "org_test = X_test.copy()\n",
    "org_calib = X_calib.copy()"
   ]
  },
  {
   "cell_type": "markdown",
   "id": "b461e618",
   "metadata": {
    "papermill": {
     "duration": 0.01031,
     "end_time": "2025-08-19T19:11:44.970981",
     "exception": false,
     "start_time": "2025-08-19T19:11:44.960671",
     "status": "completed"
    },
    "tags": []
   },
   "source": [
    "# Preprocessing Data"
   ]
  },
  {
   "cell_type": "code",
   "execution_count": 21,
   "id": "78e74c4b",
   "metadata": {
    "execution": {
     "iopub.execute_input": "2025-08-19T19:11:44.992726Z",
     "iopub.status.busy": "2025-08-19T19:11:44.992277Z",
     "iopub.status.idle": "2025-08-19T19:11:44.996871Z",
     "shell.execute_reply": "2025-08-19T19:11:44.996266Z"
    },
    "papermill": {
     "duration": 0.019839,
     "end_time": "2025-08-19T19:11:45.000955",
     "exception": false,
     "start_time": "2025-08-19T19:11:44.981116",
     "status": "completed"
    },
    "tags": []
   },
   "outputs": [],
   "source": [
    "# EXCLUDE PROTECTED FEATURES\n",
    "# --------------------------\n",
    "\n",
    "excluded_features = universe[\"exclude_features\"].split(\"-\")\n",
    "excluded_features_dictionary = {\n",
    "    \"nationality\": [\"maxdeutsch1\", \"maxdeutsch.Missing.\"],\n",
    "    \"sex\": [\"frau1\"],\n",
    "    \"age\": [\"age\"],\n",
    "}"
   ]
  },
  {
   "cell_type": "code",
   "execution_count": 22,
   "id": "f8e63555",
   "metadata": {
    "execution": {
     "iopub.execute_input": "2025-08-19T19:11:45.023473Z",
     "iopub.status.busy": "2025-08-19T19:11:45.023165Z",
     "iopub.status.idle": "2025-08-19T19:11:45.028229Z",
     "shell.execute_reply": "2025-08-19T19:11:45.027467Z"
    },
    "papermill": {
     "duration": 0.01951,
     "end_time": "2025-08-19T19:11:45.030740",
     "exception": false,
     "start_time": "2025-08-19T19:11:45.011230",
     "status": "completed"
    },
    "tags": []
   },
   "outputs": [],
   "source": [
    "excluded_features_columns = [\n",
    "    excluded_features_dictionary[f] for f in excluded_features if len(f) > 0 and f != \"none\"\n",
    "]"
   ]
  },
  {
   "cell_type": "code",
   "execution_count": 23,
   "id": "da781f7c",
   "metadata": {
    "execution": {
     "iopub.execute_input": "2025-08-19T19:11:45.056561Z",
     "iopub.status.busy": "2025-08-19T19:11:45.055628Z",
     "iopub.status.idle": "2025-08-19T19:11:45.098695Z",
     "shell.execute_reply": "2025-08-19T19:11:45.097756Z"
    },
    "papermill": {
     "duration": 0.05948,
     "end_time": "2025-08-19T19:11:45.102978",
     "exception": false,
     "start_time": "2025-08-19T19:11:45.043498",
     "status": "completed"
    },
    "tags": []
   },
   "outputs": [],
   "source": [
    "from fairness_multiverse.universe import flatten_once\n",
    "\n",
    "excluded_features_columns = flatten_once(excluded_features_columns)"
   ]
  },
  {
   "cell_type": "code",
   "execution_count": 24,
   "id": "37fef0f0",
   "metadata": {
    "execution": {
     "iopub.execute_input": "2025-08-19T19:11:45.138112Z",
     "iopub.status.busy": "2025-08-19T19:11:45.137735Z",
     "iopub.status.idle": "2025-08-19T19:11:45.145015Z",
     "shell.execute_reply": "2025-08-19T19:11:45.144217Z"
    },
    "papermill": {
     "duration": 0.022441,
     "end_time": "2025-08-19T19:11:45.147543",
     "exception": false,
     "start_time": "2025-08-19T19:11:45.125102",
     "status": "completed"
    },
    "tags": []
   },
   "outputs": [
    {
     "name": "stdout",
     "output_type": "stream",
     "text": [
      "Dropping features: ['maxdeutsch1', 'maxdeutsch.Missing.', 'frau1']\n"
     ]
    }
   ],
   "source": [
    "if len(excluded_features_columns) > 0:\n",
    "    print(f\"Dropping features: {excluded_features_columns}\")\n",
    "    X_train.drop(excluded_features_columns, axis=1, inplace=True)"
   ]
  },
  {
   "cell_type": "code",
   "execution_count": 25,
   "id": "d029e3e9",
   "metadata": {
    "execution": {
     "iopub.execute_input": "2025-08-19T19:11:45.172215Z",
     "iopub.status.busy": "2025-08-19T19:11:45.171774Z",
     "iopub.status.idle": "2025-08-19T19:11:45.230252Z",
     "shell.execute_reply": "2025-08-19T19:11:45.229090Z"
    },
    "papermill": {
     "duration": 0.075248,
     "end_time": "2025-08-19T19:11:45.235042",
     "exception": false,
     "start_time": "2025-08-19T19:11:45.159794",
     "status": "completed"
    },
    "tags": []
   },
   "outputs": [
    {
     "name": "stdout",
     "output_type": "stream",
     "text": [
      "Dropping features: ['maxdeutsch1', 'maxdeutsch.Missing.', 'frau1']\n"
     ]
    }
   ],
   "source": [
    "if len(excluded_features_columns) > 0:\n",
    "    print(f\"Dropping features: {excluded_features_columns}\")\n",
    "    X_test.drop(excluded_features_columns, axis=1, inplace=True)"
   ]
  },
  {
   "cell_type": "code",
   "execution_count": 26,
   "id": "01d571f0",
   "metadata": {
    "execution": {
     "iopub.execute_input": "2025-08-19T19:11:45.272015Z",
     "iopub.status.busy": "2025-08-19T19:11:45.271030Z",
     "iopub.status.idle": "2025-08-19T19:11:45.332777Z",
     "shell.execute_reply": "2025-08-19T19:11:45.331020Z"
    },
    "papermill": {
     "duration": 0.077484,
     "end_time": "2025-08-19T19:11:45.334808",
     "exception": false,
     "start_time": "2025-08-19T19:11:45.257324",
     "status": "completed"
    },
    "tags": []
   },
   "outputs": [
    {
     "name": "stdout",
     "output_type": "stream",
     "text": [
      "Dropping features: ['maxdeutsch1', 'maxdeutsch.Missing.', 'frau1']\n"
     ]
    }
   ],
   "source": [
    "if len(excluded_features_columns) > 0:\n",
    "    print(f\"Dropping features: {excluded_features_columns}\")\n",
    "    X_calib.drop(excluded_features_columns, axis=1, inplace=True)"
   ]
  },
  {
   "cell_type": "code",
   "execution_count": 27,
   "id": "3037356e",
   "metadata": {
    "execution": {
     "iopub.execute_input": "2025-08-19T19:11:45.365649Z",
     "iopub.status.busy": "2025-08-19T19:11:45.364882Z",
     "iopub.status.idle": "2025-08-19T19:11:45.371556Z",
     "shell.execute_reply": "2025-08-19T19:11:45.370297Z"
    },
    "papermill": {
     "duration": 0.020957,
     "end_time": "2025-08-19T19:11:45.373069",
     "exception": false,
     "start_time": "2025-08-19T19:11:45.352112",
     "status": "completed"
    },
    "tags": []
   },
   "outputs": [],
   "source": [
    "# EXCLUDE CERTAIN SUBGROUPS\n",
    "# -------------------------\n",
    "\n",
    "mode = universe.get(\"exclude_subgroups\", \"keep-all\") # Defaults to \"keep-all\" if the key is missing."
   ]
  },
  {
   "cell_type": "code",
   "execution_count": 28,
   "id": "9d1e63fd",
   "metadata": {
    "execution": {
     "iopub.execute_input": "2025-08-19T19:11:45.400252Z",
     "iopub.status.busy": "2025-08-19T19:11:45.398932Z",
     "iopub.status.idle": "2025-08-19T19:11:45.409599Z",
     "shell.execute_reply": "2025-08-19T19:11:45.408271Z"
    },
    "papermill": {
     "duration": 0.02666,
     "end_time": "2025-08-19T19:11:45.411430",
     "exception": false,
     "start_time": "2025-08-19T19:11:45.384770",
     "status": "completed"
    },
    "tags": []
   },
   "outputs": [],
   "source": [
    "if mode == \"keep-all\":\n",
    "    keep_mask = pd.Series(True, index=org_train.index)\n",
    "\n",
    "elif mode == \"drop-non-german\":\n",
    "    keep_mask = (org_train[\"maxdeutsch1\"] == 1) & (org_train[\"maxdeutsch.Missing.\"] == 0)\n",
    "\n",
    "else:\n",
    "    raise ValueError(f\"Unsupported mode for exclude_subgroups: {mode}\")"
   ]
  },
  {
   "cell_type": "code",
   "execution_count": 29,
   "id": "d3b65474",
   "metadata": {
    "execution": {
     "iopub.execute_input": "2025-08-19T19:11:45.438551Z",
     "iopub.status.busy": "2025-08-19T19:11:45.438076Z",
     "iopub.status.idle": "2025-08-19T19:11:45.443872Z",
     "shell.execute_reply": "2025-08-19T19:11:45.443056Z"
    },
    "papermill": {
     "duration": 0.019793,
     "end_time": "2025-08-19T19:11:45.445131",
     "exception": false,
     "start_time": "2025-08-19T19:11:45.425338",
     "status": "completed"
    },
    "tags": []
   },
   "outputs": [],
   "source": [
    "n_drop = (~keep_mask).sum() # Calculates how many rows are set to be dropped\n",
    "if n_drop > 0:\n",
    "    pct = n_drop / len(keep_mask) * 100\n",
    "    print(f\"Dropping {n_drop} rows ({pct:.2f}%) where mode='{mode}'\")"
   ]
  },
  {
   "cell_type": "code",
   "execution_count": 30,
   "id": "f44389b3",
   "metadata": {
    "execution": {
     "iopub.execute_input": "2025-08-19T19:11:45.476331Z",
     "iopub.status.busy": "2025-08-19T19:11:45.472136Z",
     "iopub.status.idle": "2025-08-19T19:11:45.483684Z",
     "shell.execute_reply": "2025-08-19T19:11:45.482995Z"
    },
    "papermill": {
     "duration": 0.028468,
     "end_time": "2025-08-19T19:11:45.485043",
     "exception": false,
     "start_time": "2025-08-19T19:11:45.456575",
     "status": "completed"
    },
    "tags": []
   },
   "outputs": [],
   "source": [
    "X_train = X_train[keep_mask]"
   ]
  },
  {
   "cell_type": "code",
   "execution_count": 31,
   "id": "ceca8c2a",
   "metadata": {
    "execution": {
     "iopub.execute_input": "2025-08-19T19:11:45.509335Z",
     "iopub.status.busy": "2025-08-19T19:11:45.508657Z",
     "iopub.status.idle": "2025-08-19T19:11:45.554698Z",
     "shell.execute_reply": "2025-08-19T19:11:45.552968Z"
    },
    "papermill": {
     "duration": 0.062067,
     "end_time": "2025-08-19T19:11:45.558396",
     "exception": false,
     "start_time": "2025-08-19T19:11:45.496329",
     "status": "completed"
    },
    "tags": []
   },
   "outputs": [],
   "source": [
    "y_train = y_train[keep_mask]"
   ]
  },
  {
   "cell_type": "markdown",
   "id": "04d31e2f",
   "metadata": {
    "papermill": {
     "duration": 0.012997,
     "end_time": "2025-08-19T19:11:45.596192",
     "exception": false,
     "start_time": "2025-08-19T19:11:45.583195",
     "status": "completed"
    },
    "tags": []
   },
   "source": [
    "# Model Training"
   ]
  },
  {
   "cell_type": "code",
   "execution_count": 32,
   "id": "db991733",
   "metadata": {
    "execution": {
     "iopub.execute_input": "2025-08-19T19:11:45.620576Z",
     "iopub.status.busy": "2025-08-19T19:11:45.620138Z",
     "iopub.status.idle": "2025-08-19T19:11:45.719082Z",
     "shell.execute_reply": "2025-08-19T19:11:45.717768Z"
    },
    "papermill": {
     "duration": 0.11482,
     "end_time": "2025-08-19T19:11:45.722407",
     "exception": false,
     "start_time": "2025-08-19T19:11:45.607587",
     "status": "completed"
    },
    "tags": []
   },
   "outputs": [],
   "source": [
    "from sklearn.linear_model import LogisticRegression\n",
    "from sklearn.ensemble import GradientBoostingClassifier, RandomForestClassifier\n",
    "\n",
    "if (universe[\"model\"] == \"logreg\"):\n",
    "    model = LogisticRegression() #penalty=\"none\", solver=\"newton-cg\", max_iter=1)\n",
    "elif (universe[\"model\"] == \"penalized_logreg\"):\n",
    "    model = LogisticRegression(penalty=\"l2\", C=0.1) #, solver=\"newton-cg\", max_iter=1)\n",
    "elif (universe[\"model\"] == \"rf\"):\n",
    "    model = RandomForestClassifier() # n_estimators=100, n_jobs=-1\n",
    "elif (universe[\"model\"] == \"gbm\"):\n",
    "    model = GradientBoostingClassifier()\n",
    "elif (universe[\"model\"] == \"elasticnet\"):\n",
    "    model = LogisticRegression(penalty = 'elasticnet', solver = 'saga', l1_ratio = 0.5) # max_iter=5000\n",
    "else:\n",
    "    raise \"Unsupported universe.model\""
   ]
  },
  {
   "cell_type": "code",
   "execution_count": 33,
   "id": "a4b5cd25",
   "metadata": {
    "execution": {
     "iopub.execute_input": "2025-08-19T19:11:45.761681Z",
     "iopub.status.busy": "2025-08-19T19:11:45.760680Z",
     "iopub.status.idle": "2025-08-19T19:11:45.771434Z",
     "shell.execute_reply": "2025-08-19T19:11:45.770134Z"
    },
    "papermill": {
     "duration": 0.027782,
     "end_time": "2025-08-19T19:11:45.773533",
     "exception": false,
     "start_time": "2025-08-19T19:11:45.745751",
     "status": "completed"
    },
    "tags": []
   },
   "outputs": [],
   "source": [
    "from sklearn.pipeline import Pipeline\n",
    "from sklearn.preprocessing import StandardScaler\n",
    "\n",
    "model = Pipeline([\n",
    "    #(\"continuous_processor\", continuous_processor),\n",
    "    #(\"categorical_preprocessor\", categorical_preprocessor),\n",
    "    (\"scale\", StandardScaler() if universe[\"scale\"] == \"scale\" else None), \n",
    "    (\"model\", model),\n",
    "])"
   ]
  },
  {
   "cell_type": "code",
   "execution_count": 34,
   "id": "283a904d",
   "metadata": {
    "execution": {
     "iopub.execute_input": "2025-08-19T19:11:45.802543Z",
     "iopub.status.busy": "2025-08-19T19:11:45.801343Z",
     "iopub.status.idle": "2025-08-19T19:11:46.721471Z",
     "shell.execute_reply": "2025-08-19T19:11:46.720214Z"
    },
    "papermill": {
     "duration": 0.935301,
     "end_time": "2025-08-19T19:11:46.723896",
     "exception": false,
     "start_time": "2025-08-19T19:11:45.788595",
     "status": "completed"
    },
    "tags": []
   },
   "outputs": [
    {
     "data": {
      "text/html": [
       "<style>#sk-container-id-1 {color: black;background-color: white;}#sk-container-id-1 pre{padding: 0;}#sk-container-id-1 div.sk-toggleable {background-color: white;}#sk-container-id-1 label.sk-toggleable__label {cursor: pointer;display: block;width: 100%;margin-bottom: 0;padding: 0.3em;box-sizing: border-box;text-align: center;}#sk-container-id-1 label.sk-toggleable__label-arrow:before {content: \"▸\";float: left;margin-right: 0.25em;color: #696969;}#sk-container-id-1 label.sk-toggleable__label-arrow:hover:before {color: black;}#sk-container-id-1 div.sk-estimator:hover label.sk-toggleable__label-arrow:before {color: black;}#sk-container-id-1 div.sk-toggleable__content {max-height: 0;max-width: 0;overflow: hidden;text-align: left;background-color: #f0f8ff;}#sk-container-id-1 div.sk-toggleable__content pre {margin: 0.2em;color: black;border-radius: 0.25em;background-color: #f0f8ff;}#sk-container-id-1 input.sk-toggleable__control:checked~div.sk-toggleable__content {max-height: 200px;max-width: 100%;overflow: auto;}#sk-container-id-1 input.sk-toggleable__control:checked~label.sk-toggleable__label-arrow:before {content: \"▾\";}#sk-container-id-1 div.sk-estimator input.sk-toggleable__control:checked~label.sk-toggleable__label {background-color: #d4ebff;}#sk-container-id-1 div.sk-label input.sk-toggleable__control:checked~label.sk-toggleable__label {background-color: #d4ebff;}#sk-container-id-1 input.sk-hidden--visually {border: 0;clip: rect(1px 1px 1px 1px);clip: rect(1px, 1px, 1px, 1px);height: 1px;margin: -1px;overflow: hidden;padding: 0;position: absolute;width: 1px;}#sk-container-id-1 div.sk-estimator {font-family: monospace;background-color: #f0f8ff;border: 1px dotted black;border-radius: 0.25em;box-sizing: border-box;margin-bottom: 0.5em;}#sk-container-id-1 div.sk-estimator:hover {background-color: #d4ebff;}#sk-container-id-1 div.sk-parallel-item::after {content: \"\";width: 100%;border-bottom: 1px solid gray;flex-grow: 1;}#sk-container-id-1 div.sk-label:hover label.sk-toggleable__label {background-color: #d4ebff;}#sk-container-id-1 div.sk-serial::before {content: \"\";position: absolute;border-left: 1px solid gray;box-sizing: border-box;top: 0;bottom: 0;left: 50%;z-index: 0;}#sk-container-id-1 div.sk-serial {display: flex;flex-direction: column;align-items: center;background-color: white;padding-right: 0.2em;padding-left: 0.2em;position: relative;}#sk-container-id-1 div.sk-item {position: relative;z-index: 1;}#sk-container-id-1 div.sk-parallel {display: flex;align-items: stretch;justify-content: center;background-color: white;position: relative;}#sk-container-id-1 div.sk-item::before, #sk-container-id-1 div.sk-parallel-item::before {content: \"\";position: absolute;border-left: 1px solid gray;box-sizing: border-box;top: 0;bottom: 0;left: 50%;z-index: -1;}#sk-container-id-1 div.sk-parallel-item {display: flex;flex-direction: column;z-index: 1;position: relative;background-color: white;}#sk-container-id-1 div.sk-parallel-item:first-child::after {align-self: flex-end;width: 50%;}#sk-container-id-1 div.sk-parallel-item:last-child::after {align-self: flex-start;width: 50%;}#sk-container-id-1 div.sk-parallel-item:only-child::after {width: 0;}#sk-container-id-1 div.sk-dashed-wrapped {border: 1px dashed gray;margin: 0 0.4em 0.5em 0.4em;box-sizing: border-box;padding-bottom: 0.4em;background-color: white;}#sk-container-id-1 div.sk-label label {font-family: monospace;font-weight: bold;display: inline-block;line-height: 1.2em;}#sk-container-id-1 div.sk-label-container {text-align: center;}#sk-container-id-1 div.sk-container {/* jupyter's `normalize.less` sets `[hidden] { display: none; }` but bootstrap.min.css set `[hidden] { display: none !important; }` so we also need the `!important` here to be able to override the default hidden behavior on the sphinx rendered scikit-learn.org. See: https://github.com/scikit-learn/scikit-learn/issues/21755 */display: inline-block !important;position: relative;}#sk-container-id-1 div.sk-text-repr-fallback {display: none;}</style><div id=\"sk-container-id-1\" class=\"sk-top-container\"><div class=\"sk-text-repr-fallback\"><pre>Pipeline(steps=[(&#x27;scale&#x27;, None), (&#x27;model&#x27;, GradientBoostingClassifier())])</pre><b>In a Jupyter environment, please rerun this cell to show the HTML representation or trust the notebook. <br />On GitHub, the HTML representation is unable to render, please try loading this page with nbviewer.org.</b></div><div class=\"sk-container\" hidden><div class=\"sk-item sk-dashed-wrapped\"><div class=\"sk-label-container\"><div class=\"sk-label sk-toggleable\"><input class=\"sk-toggleable__control sk-hidden--visually\" id=\"sk-estimator-id-1\" type=\"checkbox\" ><label for=\"sk-estimator-id-1\" class=\"sk-toggleable__label sk-toggleable__label-arrow\">Pipeline</label><div class=\"sk-toggleable__content\"><pre>Pipeline(steps=[(&#x27;scale&#x27;, None), (&#x27;model&#x27;, GradientBoostingClassifier())])</pre></div></div></div><div class=\"sk-serial\"><div class=\"sk-item\"><div class=\"sk-estimator sk-toggleable\"><input class=\"sk-toggleable__control sk-hidden--visually\" id=\"sk-estimator-id-2\" type=\"checkbox\" ><label for=\"sk-estimator-id-2\" class=\"sk-toggleable__label sk-toggleable__label-arrow\">None</label><div class=\"sk-toggleable__content\"><pre>None</pre></div></div></div><div class=\"sk-item\"><div class=\"sk-estimator sk-toggleable\"><input class=\"sk-toggleable__control sk-hidden--visually\" id=\"sk-estimator-id-3\" type=\"checkbox\" ><label for=\"sk-estimator-id-3\" class=\"sk-toggleable__label sk-toggleable__label-arrow\">GradientBoostingClassifier</label><div class=\"sk-toggleable__content\"><pre>GradientBoostingClassifier()</pre></div></div></div></div></div></div></div>"
      ],
      "text/plain": [
       "Pipeline(steps=[('scale', None), ('model', GradientBoostingClassifier())])"
      ]
     },
     "execution_count": 34,
     "metadata": {},
     "output_type": "execute_result"
    }
   ],
   "source": [
    "model.fit(X_train, y_train.values.ravel())"
   ]
  },
  {
   "cell_type": "code",
   "execution_count": 35,
   "id": "6e15e313",
   "metadata": {
    "execution": {
     "iopub.execute_input": "2025-08-19T19:11:46.777496Z",
     "iopub.status.busy": "2025-08-19T19:11:46.776748Z",
     "iopub.status.idle": "2025-08-19T19:11:47.364882Z",
     "shell.execute_reply": "2025-08-19T19:11:47.361948Z"
    },
    "papermill": {
     "duration": 0.616626,
     "end_time": "2025-08-19T19:11:47.366534",
     "exception": false,
     "start_time": "2025-08-19T19:11:46.749908",
     "status": "completed"
    },
    "tags": []
   },
   "outputs": [
    {
     "data": {
      "text/plain": [
       "0.8345446438524133"
      ]
     },
     "execution_count": 35,
     "metadata": {},
     "output_type": "execute_result"
    }
   ],
   "source": [
    "from fairness_multiverse.universe import predict_w_threshold\n",
    "\n",
    "probs_test = model.predict_proba(X_test)\n",
    "\n",
    "'''\n",
    "Below code returns a boolean array (or binary 0/1 array depending on how it’s used) where each element \n",
    "is True if the probability of class 1 is greater than or equal to the threshold, and False otherwise.\n",
    "'''\n",
    "y_pred_default = predict_w_threshold(probs_test, 0.5)\n",
    "\n",
    "from sklearn.metrics import accuracy_score\n",
    "\n",
    "# Naive prediction\n",
    "accuracy_score(y_true = y_true, y_pred = y_pred_default)"
   ]
  },
  {
   "cell_type": "code",
   "execution_count": 36,
   "id": "6f14067c",
   "metadata": {
    "execution": {
     "iopub.execute_input": "2025-08-19T19:11:47.393945Z",
     "iopub.status.busy": "2025-08-19T19:11:47.392749Z",
     "iopub.status.idle": "2025-08-19T19:11:47.966090Z",
     "shell.execute_reply": "2025-08-19T19:11:47.964955Z"
    },
    "papermill": {
     "duration": 0.589979,
     "end_time": "2025-08-19T19:11:47.968856",
     "exception": false,
     "start_time": "2025-08-19T19:11:47.378877",
     "status": "completed"
    },
    "tags": []
   },
   "outputs": [
    {
     "data": {
      "text/plain": [
       "array([0, 0, 0, ..., 1, 0, 0])"
      ]
     },
     "execution_count": 36,
     "metadata": {},
     "output_type": "execute_result"
    }
   ],
   "source": [
    "model.predict(X_test)"
   ]
  },
  {
   "cell_type": "markdown",
   "id": "3759920c",
   "metadata": {
    "papermill": {
     "duration": 0.025613,
     "end_time": "2025-08-19T19:11:48.037730",
     "exception": false,
     "start_time": "2025-08-19T19:11:48.012117",
     "status": "completed"
    },
    "tags": []
   },
   "source": [
    "# Conformal Prediction"
   ]
  },
  {
   "cell_type": "code",
   "execution_count": 37,
   "id": "14b27f59",
   "metadata": {
    "execution": {
     "iopub.execute_input": "2025-08-19T19:11:48.066550Z",
     "iopub.status.busy": "2025-08-19T19:11:48.065409Z",
     "iopub.status.idle": "2025-08-19T19:11:48.074019Z",
     "shell.execute_reply": "2025-08-19T19:11:48.072688Z"
    },
    "papermill": {
     "duration": 0.02399,
     "end_time": "2025-08-19T19:11:48.075465",
     "exception": false,
     "start_time": "2025-08-19T19:11:48.051475",
     "status": "completed"
    },
    "tags": []
   },
   "outputs": [],
   "source": [
    "# Miscoverage level for conformal prediction (10% allowed error rate => 90% target coverage)\n",
    "alpha = 0.1"
   ]
  },
  {
   "cell_type": "code",
   "execution_count": 38,
   "id": "59102472",
   "metadata": {
    "execution": {
     "iopub.execute_input": "2025-08-19T19:11:48.122758Z",
     "iopub.status.busy": "2025-08-19T19:11:48.122341Z",
     "iopub.status.idle": "2025-08-19T19:11:48.611843Z",
     "shell.execute_reply": "2025-08-19T19:11:48.610569Z"
    },
    "papermill": {
     "duration": 0.527277,
     "end_time": "2025-08-19T19:11:48.614790",
     "exception": false,
     "start_time": "2025-08-19T19:11:48.087513",
     "status": "completed"
    },
    "tags": []
   },
   "outputs": [],
   "source": [
    "probs_calib = model.predict_proba(X_calib)"
   ]
  },
  {
   "cell_type": "code",
   "execution_count": 39,
   "id": "a792d4dd",
   "metadata": {
    "execution": {
     "iopub.execute_input": "2025-08-19T19:11:48.659192Z",
     "iopub.status.busy": "2025-08-19T19:11:48.657611Z",
     "iopub.status.idle": "2025-08-19T19:11:48.668357Z",
     "shell.execute_reply": "2025-08-19T19:11:48.666979Z"
    },
    "papermill": {
     "duration": 0.029019,
     "end_time": "2025-08-19T19:11:48.670211",
     "exception": false,
     "start_time": "2025-08-19T19:11:48.641192",
     "status": "completed"
    },
    "tags": []
   },
   "outputs": [],
   "source": [
    "y_calib = y_calib.values.ravel().astype(int)"
   ]
  },
  {
   "cell_type": "code",
   "execution_count": 40,
   "id": "650fd033",
   "metadata": {
    "execution": {
     "iopub.execute_input": "2025-08-19T19:11:48.701446Z",
     "iopub.status.busy": "2025-08-19T19:11:48.700190Z",
     "iopub.status.idle": "2025-08-19T19:11:48.712805Z",
     "shell.execute_reply": "2025-08-19T19:11:48.711521Z"
    },
    "papermill": {
     "duration": 0.028003,
     "end_time": "2025-08-19T19:11:48.714579",
     "exception": false,
     "start_time": "2025-08-19T19:11:48.686576",
     "status": "completed"
    },
    "tags": []
   },
   "outputs": [],
   "source": [
    "from fairness_multiverse.conformal import compute_nc_scores\n",
    "\n",
    "# Compute nonconformity scores on calibration set (1 - probability of true class)\n",
    "nc_scores = compute_nc_scores(probs_calib, y_calib)"
   ]
  },
  {
   "cell_type": "code",
   "execution_count": 41,
   "id": "28ada44c",
   "metadata": {
    "execution": {
     "iopub.execute_input": "2025-08-19T19:11:48.758274Z",
     "iopub.status.busy": "2025-08-19T19:11:48.757390Z",
     "iopub.status.idle": "2025-08-19T19:11:48.765058Z",
     "shell.execute_reply": "2025-08-19T19:11:48.764198Z"
    },
    "papermill": {
     "duration": 0.033209,
     "end_time": "2025-08-19T19:11:48.766613",
     "exception": false,
     "start_time": "2025-08-19T19:11:48.733404",
     "status": "completed"
    },
    "tags": []
   },
   "outputs": [],
   "source": [
    "from fairness_multiverse.conformal import find_threshold\n",
    "\n",
    "# Find conformal threshold q_hat for the given alpha (split conformal method)\n",
    "q_hat = find_threshold(nc_scores, alpha)"
   ]
  },
  {
   "cell_type": "code",
   "execution_count": 42,
   "id": "df56469e",
   "metadata": {
    "execution": {
     "iopub.execute_input": "2025-08-19T19:11:48.817669Z",
     "iopub.status.busy": "2025-08-19T19:11:48.817063Z",
     "iopub.status.idle": "2025-08-19T19:11:48.823083Z",
     "shell.execute_reply": "2025-08-19T19:11:48.822351Z"
    },
    "papermill": {
     "duration": 0.039029,
     "end_time": "2025-08-19T19:11:48.824441",
     "exception": false,
     "start_time": "2025-08-19T19:11:48.785412",
     "status": "completed"
    },
    "tags": []
   },
   "outputs": [
    {
     "data": {
      "text/plain": [
       "0.7540425249653937"
      ]
     },
     "execution_count": 42,
     "metadata": {},
     "output_type": "execute_result"
    }
   ],
   "source": [
    "q_hat"
   ]
  },
  {
   "cell_type": "code",
   "execution_count": 43,
   "id": "aa1f5faa",
   "metadata": {
    "execution": {
     "iopub.execute_input": "2025-08-19T19:11:48.868095Z",
     "iopub.status.busy": "2025-08-19T19:11:48.867216Z",
     "iopub.status.idle": "2025-08-19T19:11:49.851487Z",
     "shell.execute_reply": "2025-08-19T19:11:49.850489Z"
    },
    "papermill": {
     "duration": 1.002019,
     "end_time": "2025-08-19T19:11:49.853340",
     "exception": false,
     "start_time": "2025-08-19T19:11:48.851321",
     "status": "completed"
    },
    "tags": []
   },
   "outputs": [],
   "source": [
    "from fairness_multiverse.conformal import predict_conformal_sets\n",
    "\n",
    "# Generate prediction sets for each test example\n",
    "pred_sets = predict_conformal_sets(model, X_test, q_hat)"
   ]
  },
  {
   "cell_type": "code",
   "execution_count": 44,
   "id": "97f67a6b",
   "metadata": {
    "execution": {
     "iopub.execute_input": "2025-08-19T19:11:49.880800Z",
     "iopub.status.busy": "2025-08-19T19:11:49.879728Z",
     "iopub.status.idle": "2025-08-19T19:11:49.887038Z",
     "shell.execute_reply": "2025-08-19T19:11:49.885999Z"
    },
    "papermill": {
     "duration": 0.023086,
     "end_time": "2025-08-19T19:11:49.888875",
     "exception": false,
     "start_time": "2025-08-19T19:11:49.865789",
     "status": "completed"
    },
    "tags": []
   },
   "outputs": [],
   "source": [
    "y_true = y_true.squeeze()"
   ]
  },
  {
   "cell_type": "code",
   "execution_count": 45,
   "id": "e700e9a7",
   "metadata": {
    "execution": {
     "iopub.execute_input": "2025-08-19T19:11:49.918341Z",
     "iopub.status.busy": "2025-08-19T19:11:49.917169Z",
     "iopub.status.idle": "2025-08-19T19:11:50.418761Z",
     "shell.execute_reply": "2025-08-19T19:11:50.417993Z"
    },
    "papermill": {
     "duration": 0.517241,
     "end_time": "2025-08-19T19:11:50.420534",
     "exception": false,
     "start_time": "2025-08-19T19:11:49.903293",
     "status": "completed"
    },
    "tags": []
   },
   "outputs": [],
   "source": [
    "from fairness_multiverse.conformal import evaluate_sets\n",
    "\n",
    "# Evaluate coverage and average set size on test data\n",
    "metrics = evaluate_sets(pred_sets, y_true)"
   ]
  },
  {
   "cell_type": "markdown",
   "id": "efbacec0",
   "metadata": {
    "papermill": {
     "duration": 0.012357,
     "end_time": "2025-08-19T19:11:50.448257",
     "exception": false,
     "start_time": "2025-08-19T19:11:50.435900",
     "status": "completed"
    },
    "tags": []
   },
   "source": [
    "# CP Metrics"
   ]
  },
  {
   "cell_type": "code",
   "execution_count": 46,
   "id": "9de55fb1",
   "metadata": {
    "execution": {
     "iopub.execute_input": "2025-08-19T19:11:50.475640Z",
     "iopub.status.busy": "2025-08-19T19:11:50.474420Z",
     "iopub.status.idle": "2025-08-19T19:11:50.484498Z",
     "shell.execute_reply": "2025-08-19T19:11:50.483212Z"
    },
    "papermill": {
     "duration": 0.026085,
     "end_time": "2025-08-19T19:11:50.486459",
     "exception": false,
     "start_time": "2025-08-19T19:11:50.460374",
     "status": "completed"
    },
    "tags": []
   },
   "outputs": [
    {
     "data": {
      "text/plain": [
       "{'coverage': 0.910333296176569, 'avg_size': 1.1833017500836027}"
      ]
     },
     "execution_count": 46,
     "metadata": {},
     "output_type": "execute_result"
    }
   ],
   "source": [
    "metrics"
   ]
  },
  {
   "cell_type": "code",
   "execution_count": 47,
   "id": "64c340a1",
   "metadata": {
    "execution": {
     "iopub.execute_input": "2025-08-19T19:11:50.517792Z",
     "iopub.status.busy": "2025-08-19T19:11:50.516686Z",
     "iopub.status.idle": "2025-08-19T19:11:50.526367Z",
     "shell.execute_reply": "2025-08-19T19:11:50.525262Z"
    },
    "papermill": {
     "duration": 0.02536,
     "end_time": "2025-08-19T19:11:50.527973",
     "exception": false,
     "start_time": "2025-08-19T19:11:50.502613",
     "status": "completed"
    },
    "tags": []
   },
   "outputs": [],
   "source": [
    "example_universe = universe.copy()\n",
    "universe_training_year = example_universe.get(\"training_year\")\n",
    "universe_training_size = example_universe.get(\"training_size\")\n",
    "universe_scale = example_universe.get(\"scale\")\n",
    "universe_model = example_universe.get(\"model\")\n",
    "universe_exclude_features = example_universe.get(\"exclude_features\")\n",
    "universe_exclude_subgroups = example_universe.get(\"exclude_subgroups\")"
   ]
  },
  {
   "cell_type": "code",
   "execution_count": 48,
   "id": "dbb53cb4",
   "metadata": {
    "execution": {
     "iopub.execute_input": "2025-08-19T19:11:50.571028Z",
     "iopub.status.busy": "2025-08-19T19:11:50.570570Z",
     "iopub.status.idle": "2025-08-19T19:11:50.576162Z",
     "shell.execute_reply": "2025-08-19T19:11:50.575486Z"
    },
    "papermill": {
     "duration": 0.026229,
     "end_time": "2025-08-19T19:11:50.579182",
     "exception": false,
     "start_time": "2025-08-19T19:11:50.552953",
     "status": "completed"
    },
    "tags": []
   },
   "outputs": [],
   "source": [
    "cp_metrics_dict = {\n",
    "    \"universe_id\": [universe_id],\n",
    "    \"universe_training_year\": [universe_training_year],\n",
    "    \"universe_training_size\": [universe_training_size],\n",
    "    \"universe_scale\": [universe_scale],\n",
    "    \"universe_model\": [universe_model],\n",
    "    \"universe_exclude_features\": [universe_exclude_features],\n",
    "    \"universe_exclude_subgroups\": [universe_exclude_subgroups],\n",
    "    \"q_hat\": [q_hat],\n",
    "    \"coverage\": [metrics[\"coverage\"]],\n",
    "    \"avg_size\": [metrics[\"avg_size\"]],\n",
    "}"
   ]
  },
  {
   "cell_type": "code",
   "execution_count": 49,
   "id": "0d70d4b2",
   "metadata": {
    "execution": {
     "iopub.execute_input": "2025-08-19T19:11:50.628759Z",
     "iopub.status.busy": "2025-08-19T19:11:50.627667Z",
     "iopub.status.idle": "2025-08-19T19:11:50.634039Z",
     "shell.execute_reply": "2025-08-19T19:11:50.633157Z"
    },
    "papermill": {
     "duration": 0.023236,
     "end_time": "2025-08-19T19:11:50.635306",
     "exception": false,
     "start_time": "2025-08-19T19:11:50.612070",
     "status": "completed"
    },
    "tags": []
   },
   "outputs": [],
   "source": [
    "cp_metrics_df = pd.DataFrame(cp_metrics_dict)"
   ]
  },
  {
   "cell_type": "code",
   "execution_count": 50,
   "id": "b494403c",
   "metadata": {
    "execution": {
     "iopub.execute_input": "2025-08-19T19:11:50.665897Z",
     "iopub.status.busy": "2025-08-19T19:11:50.664853Z",
     "iopub.status.idle": "2025-08-19T19:11:50.685442Z",
     "shell.execute_reply": "2025-08-19T19:11:50.684187Z"
    },
    "papermill": {
     "duration": 0.042775,
     "end_time": "2025-08-19T19:11:50.690423",
     "exception": false,
     "start_time": "2025-08-19T19:11:50.647648",
     "status": "completed"
    },
    "tags": []
   },
   "outputs": [
    {
     "data": {
      "text/html": [
       "<div>\n",
       "<style scoped>\n",
       "    .dataframe tbody tr th:only-of-type {\n",
       "        vertical-align: middle;\n",
       "    }\n",
       "\n",
       "    .dataframe tbody tr th {\n",
       "        vertical-align: top;\n",
       "    }\n",
       "\n",
       "    .dataframe thead th {\n",
       "        text-align: right;\n",
       "    }\n",
       "</style>\n",
       "<table border=\"1\" class=\"dataframe\">\n",
       "  <thead>\n",
       "    <tr style=\"text-align: right;\">\n",
       "      <th></th>\n",
       "      <th>universe_id</th>\n",
       "      <th>universe_training_year</th>\n",
       "      <th>universe_training_size</th>\n",
       "      <th>universe_scale</th>\n",
       "      <th>universe_model</th>\n",
       "      <th>universe_exclude_features</th>\n",
       "      <th>universe_exclude_subgroups</th>\n",
       "      <th>q_hat</th>\n",
       "      <th>coverage</th>\n",
       "      <th>avg_size</th>\n",
       "    </tr>\n",
       "  </thead>\n",
       "  <tbody>\n",
       "    <tr>\n",
       "      <th>0</th>\n",
       "      <td>6f72534b780637afea995a024bcfa3db</td>\n",
       "      <td>2010_14</td>\n",
       "      <td>1k</td>\n",
       "      <td>do-not-scale</td>\n",
       "      <td>gbm</td>\n",
       "      <td>nationality-sex</td>\n",
       "      <td>keep-all</td>\n",
       "      <td>0.754043</td>\n",
       "      <td>0.910333</td>\n",
       "      <td>1.183302</td>\n",
       "    </tr>\n",
       "  </tbody>\n",
       "</table>\n",
       "</div>"
      ],
      "text/plain": [
       "                        universe_id universe_training_year  \\\n",
       "0  6f72534b780637afea995a024bcfa3db                2010_14   \n",
       "\n",
       "  universe_training_size universe_scale universe_model  \\\n",
       "0                     1k   do-not-scale            gbm   \n",
       "\n",
       "  universe_exclude_features universe_exclude_subgroups     q_hat  coverage  \\\n",
       "0           nationality-sex                   keep-all  0.754043  0.910333   \n",
       "\n",
       "   avg_size  \n",
       "0  1.183302  "
      ]
     },
     "execution_count": 50,
     "metadata": {},
     "output_type": "execute_result"
    }
   ],
   "source": [
    "cp_metrics_df"
   ]
  },
  {
   "cell_type": "markdown",
   "id": "ed608b0b",
   "metadata": {
    "papermill": {
     "duration": 0.013056,
     "end_time": "2025-08-19T19:11:50.720313",
     "exception": false,
     "start_time": "2025-08-19T19:11:50.707257",
     "status": "completed"
    },
    "tags": []
   },
   "source": [
    "Conditional coverage & looking at subgroups"
   ]
  },
  {
   "cell_type": "code",
   "execution_count": 51,
   "id": "8968c366",
   "metadata": {
    "execution": {
     "iopub.execute_input": "2025-08-19T19:11:50.756417Z",
     "iopub.status.busy": "2025-08-19T19:11:50.755981Z",
     "iopub.status.idle": "2025-08-19T19:11:51.053499Z",
     "shell.execute_reply": "2025-08-19T19:11:51.052797Z"
    },
    "papermill": {
     "duration": 0.315129,
     "end_time": "2025-08-19T19:11:51.056252",
     "exception": false,
     "start_time": "2025-08-19T19:11:50.741123",
     "status": "completed"
    },
    "tags": []
   },
   "outputs": [],
   "source": [
    "from fairness_multiverse.conformal import build_cp_groups\n",
    "\n",
    "cp_groups_df = build_cp_groups(pred_sets, y_true, X_test.index, org_test)"
   ]
  },
  {
   "cell_type": "code",
   "execution_count": 52,
   "id": "292ddabf",
   "metadata": {
    "execution": {
     "iopub.execute_input": "2025-08-19T19:11:51.095178Z",
     "iopub.status.busy": "2025-08-19T19:11:51.094601Z",
     "iopub.status.idle": "2025-08-19T19:11:51.965470Z",
     "shell.execute_reply": "2025-08-19T19:11:51.964255Z"
    },
    "papermill": {
     "duration": 0.886901,
     "end_time": "2025-08-19T19:11:51.967406",
     "exception": false,
     "start_time": "2025-08-19T19:11:51.080505",
     "status": "completed"
    },
    "tags": []
   },
   "outputs": [],
   "source": [
    "# Define covered = 1 if true_label is in the predicted set\n",
    "cp_groups_df['covered'] = cp_groups_df.apply(\n",
    "    lambda r: int(r['true_label'] in r['pred_set']),\n",
    "    axis=1\n",
    ")"
   ]
  },
  {
   "cell_type": "code",
   "execution_count": 53,
   "id": "3a261692",
   "metadata": {
    "execution": {
     "iopub.execute_input": "2025-08-19T19:11:51.994006Z",
     "iopub.status.busy": "2025-08-19T19:11:51.993565Z",
     "iopub.status.idle": "2025-08-19T19:11:52.005888Z",
     "shell.execute_reply": "2025-08-19T19:11:52.004007Z"
    },
    "papermill": {
     "duration": 0.027159,
     "end_time": "2025-08-19T19:11:52.007378",
     "exception": false,
     "start_time": "2025-08-19T19:11:51.980219",
     "status": "completed"
    },
    "tags": []
   },
   "outputs": [],
   "source": [
    "subgroups = ['frau1','nongerman','nongerman_male','nongerman_female']\n",
    "\n",
    "# Conditional coverage for subgroup==1\n",
    "cond_coverage = {\n",
    "    g: cp_groups_df.loc[cp_groups_df[g]==1, 'covered'].mean()\n",
    "    for g in subgroups\n",
    "}"
   ]
  },
  {
   "cell_type": "code",
   "execution_count": 54,
   "id": "894fd600",
   "metadata": {
    "execution": {
     "iopub.execute_input": "2025-08-19T19:11:52.033165Z",
     "iopub.status.busy": "2025-08-19T19:11:52.032772Z",
     "iopub.status.idle": "2025-08-19T19:11:52.038488Z",
     "shell.execute_reply": "2025-08-19T19:11:52.037886Z"
    },
    "papermill": {
     "duration": 0.023209,
     "end_time": "2025-08-19T19:11:52.043058",
     "exception": false,
     "start_time": "2025-08-19T19:11:52.019849",
     "status": "completed"
    },
    "tags": []
   },
   "outputs": [
    {
     "data": {
      "text/plain": [
       "{'frau1': 0.9092330502763175,\n",
       " 'nongerman': 0.9089429068657722,\n",
       " 'nongerman_male': 0.9254255606592813,\n",
       " 'nongerman_female': 0.8816691505216095}"
      ]
     },
     "execution_count": 54,
     "metadata": {},
     "output_type": "execute_result"
    }
   ],
   "source": [
    "cond_coverage"
   ]
  },
  {
   "cell_type": "code",
   "execution_count": 55,
   "id": "942895c7",
   "metadata": {
    "execution": {
     "iopub.execute_input": "2025-08-19T19:11:52.082584Z",
     "iopub.status.busy": "2025-08-19T19:11:52.082204Z",
     "iopub.status.idle": "2025-08-19T19:11:52.088101Z",
     "shell.execute_reply": "2025-08-19T19:11:52.087390Z"
    },
    "papermill": {
     "duration": 0.021991,
     "end_time": "2025-08-19T19:11:52.089383",
     "exception": false,
     "start_time": "2025-08-19T19:11:52.067392",
     "status": "completed"
    },
    "tags": []
   },
   "outputs": [],
   "source": [
    "for subgroup, cov in cond_coverage.items():\n",
    "    cp_metrics_df[f\"cov_{subgroup}\"] = cov"
   ]
  },
  {
   "cell_type": "code",
   "execution_count": 56,
   "id": "3970120f",
   "metadata": {
    "execution": {
     "iopub.execute_input": "2025-08-19T19:11:52.114989Z",
     "iopub.status.busy": "2025-08-19T19:11:52.114714Z",
     "iopub.status.idle": "2025-08-19T19:11:52.131504Z",
     "shell.execute_reply": "2025-08-19T19:11:52.130591Z"
    },
    "papermill": {
     "duration": 0.031912,
     "end_time": "2025-08-19T19:11:52.133812",
     "exception": false,
     "start_time": "2025-08-19T19:11:52.101900",
     "status": "completed"
    },
    "tags": []
   },
   "outputs": [
    {
     "data": {
      "text/html": [
       "<div>\n",
       "<style scoped>\n",
       "    .dataframe tbody tr th:only-of-type {\n",
       "        vertical-align: middle;\n",
       "    }\n",
       "\n",
       "    .dataframe tbody tr th {\n",
       "        vertical-align: top;\n",
       "    }\n",
       "\n",
       "    .dataframe thead th {\n",
       "        text-align: right;\n",
       "    }\n",
       "</style>\n",
       "<table border=\"1\" class=\"dataframe\">\n",
       "  <thead>\n",
       "    <tr style=\"text-align: right;\">\n",
       "      <th></th>\n",
       "      <th>universe_id</th>\n",
       "      <th>universe_training_year</th>\n",
       "      <th>universe_training_size</th>\n",
       "      <th>universe_scale</th>\n",
       "      <th>universe_model</th>\n",
       "      <th>universe_exclude_features</th>\n",
       "      <th>universe_exclude_subgroups</th>\n",
       "      <th>q_hat</th>\n",
       "      <th>coverage</th>\n",
       "      <th>avg_size</th>\n",
       "      <th>cov_frau1</th>\n",
       "      <th>cov_nongerman</th>\n",
       "      <th>cov_nongerman_male</th>\n",
       "      <th>cov_nongerman_female</th>\n",
       "    </tr>\n",
       "  </thead>\n",
       "  <tbody>\n",
       "    <tr>\n",
       "      <th>0</th>\n",
       "      <td>6f72534b780637afea995a024bcfa3db</td>\n",
       "      <td>2010_14</td>\n",
       "      <td>1k</td>\n",
       "      <td>do-not-scale</td>\n",
       "      <td>gbm</td>\n",
       "      <td>nationality-sex</td>\n",
       "      <td>keep-all</td>\n",
       "      <td>0.754043</td>\n",
       "      <td>0.910333</td>\n",
       "      <td>1.183302</td>\n",
       "      <td>0.909233</td>\n",
       "      <td>0.908943</td>\n",
       "      <td>0.925426</td>\n",
       "      <td>0.881669</td>\n",
       "    </tr>\n",
       "  </tbody>\n",
       "</table>\n",
       "</div>"
      ],
      "text/plain": [
       "                        universe_id universe_training_year  \\\n",
       "0  6f72534b780637afea995a024bcfa3db                2010_14   \n",
       "\n",
       "  universe_training_size universe_scale universe_model  \\\n",
       "0                     1k   do-not-scale            gbm   \n",
       "\n",
       "  universe_exclude_features universe_exclude_subgroups     q_hat  coverage  \\\n",
       "0           nationality-sex                   keep-all  0.754043  0.910333   \n",
       "\n",
       "   avg_size  cov_frau1  cov_nongerman  cov_nongerman_male  \\\n",
       "0  1.183302   0.909233       0.908943            0.925426   \n",
       "\n",
       "   cov_nongerman_female  \n",
       "0              0.881669  "
      ]
     },
     "execution_count": 56,
     "metadata": {},
     "output_type": "execute_result"
    }
   ],
   "source": [
    "cp_metrics_df"
   ]
  },
  {
   "cell_type": "markdown",
   "id": "3fc519cc",
   "metadata": {
    "papermill": {
     "duration": 0.015389,
     "end_time": "2025-08-19T19:11:52.172975",
     "exception": false,
     "start_time": "2025-08-19T19:11:52.157586",
     "status": "completed"
    },
    "tags": []
   },
   "source": [
    "# (Fairness) Metrics"
   ]
  },
  {
   "cell_type": "code",
   "execution_count": 57,
   "id": "a2e5e155",
   "metadata": {
    "execution": {
     "iopub.execute_input": "2025-08-19T19:11:52.230947Z",
     "iopub.status.busy": "2025-08-19T19:11:52.230161Z",
     "iopub.status.idle": "2025-08-19T19:11:52.254524Z",
     "shell.execute_reply": "2025-08-19T19:11:52.253865Z"
    },
    "papermill": {
     "duration": 0.053927,
     "end_time": "2025-08-19T19:11:52.255782",
     "exception": false,
     "start_time": "2025-08-19T19:11:52.201855",
     "status": "completed"
    },
    "tags": []
   },
   "outputs": [],
   "source": [
    "colname_to_bin = \"maxdeutsch1\"\n",
    "majority_value = org_train[colname_to_bin].mode()[0]\n",
    "\n",
    "org_test[\"majmin\"] = np.where(org_test[colname_to_bin] == majority_value, \"majority\", \"minority\")"
   ]
  },
  {
   "cell_type": "code",
   "execution_count": 58,
   "id": "17e3e4d5",
   "metadata": {
    "execution": {
     "iopub.execute_input": "2025-08-19T19:11:52.282927Z",
     "iopub.status.busy": "2025-08-19T19:11:52.282546Z",
     "iopub.status.idle": "2025-08-19T19:11:54.046961Z",
     "shell.execute_reply": "2025-08-19T19:11:54.045732Z"
    },
    "papermill": {
     "duration": 1.780031,
     "end_time": "2025-08-19T19:11:54.048811",
     "exception": false,
     "start_time": "2025-08-19T19:11:52.268780",
     "status": "completed"
    },
    "tags": []
   },
   "outputs": [],
   "source": [
    "example_universe = universe.copy()\n",
    "example_universe[\"cutoff\"] = example_universe[\"cutoff\"][0]\n",
    "example_universe[\"eval_fairness_grouping\"] = example_universe[\"eval_fairness_grouping\"][0]\n",
    "fairness_dict, metric_frame = universe_analysis.compute_metrics(\n",
    "    example_universe,\n",
    "    y_pred_prob=probs_test,\n",
    "    y_test=y_true,\n",
    "    org_test=org_test,\n",
    ")"
   ]
  },
  {
   "cell_type": "markdown",
   "id": "1fb7a0e9",
   "metadata": {
    "papermill": {
     "duration": 0.014002,
     "end_time": "2025-08-19T19:11:54.077044",
     "exception": false,
     "start_time": "2025-08-19T19:11:54.063042",
     "status": "completed"
    },
    "tags": []
   },
   "source": [
    "# Overall"
   ]
  },
  {
   "cell_type": "markdown",
   "id": "be1784b1",
   "metadata": {
    "papermill": {
     "duration": 0.014448,
     "end_time": "2025-08-19T19:11:54.126657",
     "exception": false,
     "start_time": "2025-08-19T19:11:54.112209",
     "status": "completed"
    },
    "tags": []
   },
   "source": [
    "Main fairness target: Equalized Odds. Seems to be a better fit than equal opportunity, since we're not only interested in Y = 1. Seems to be a better fit than demographic parity, since we also care about accuracy, not just equal distribution of preds.\n",
    "\n",
    "Pick column for computation of fairness metrics\n",
    "\n",
    "Performance\n",
    "Overall performance measures, most interesting in relation to the measures split by group below"
   ]
  },
  {
   "cell_type": "code",
   "execution_count": 59,
   "id": "b7672bee",
   "metadata": {
    "execution": {
     "iopub.execute_input": "2025-08-19T19:11:54.159079Z",
     "iopub.status.busy": "2025-08-19T19:11:54.158481Z",
     "iopub.status.idle": "2025-08-19T19:11:54.167284Z",
     "shell.execute_reply": "2025-08-19T19:11:54.166572Z"
    },
    "papermill": {
     "duration": 0.025075,
     "end_time": "2025-08-19T19:11:54.168524",
     "exception": false,
     "start_time": "2025-08-19T19:11:54.143449",
     "status": "completed"
    },
    "tags": []
   },
   "outputs": [
    {
     "data": {
      "text/plain": [
       "accuracy                   0.222484\n",
       "balanced accuracy          0.544473\n",
       "f1                         0.243900\n",
       "precision                  0.139331\n",
       "false positive rate        0.888635\n",
       "false negative rate        0.022419\n",
       "selection rate             0.900045\n",
       "count                  89710.000000\n",
       "dtype: float64"
      ]
     },
     "execution_count": 59,
     "metadata": {},
     "output_type": "execute_result"
    }
   ],
   "source": [
    "metric_frame.overall"
   ]
  },
  {
   "cell_type": "markdown",
   "id": "d93333c9",
   "metadata": {
    "papermill": {
     "duration": 0.013161,
     "end_time": "2025-08-19T19:11:54.200179",
     "exception": false,
     "start_time": "2025-08-19T19:11:54.187018",
     "status": "completed"
    },
    "tags": []
   },
   "source": [
    "By Group"
   ]
  },
  {
   "cell_type": "code",
   "execution_count": 60,
   "id": "52256966",
   "metadata": {
    "execution": {
     "iopub.execute_input": "2025-08-19T19:11:54.229038Z",
     "iopub.status.busy": "2025-08-19T19:11:54.227867Z",
     "iopub.status.idle": "2025-08-19T19:11:54.255209Z",
     "shell.execute_reply": "2025-08-19T19:11:54.254345Z"
    },
    "papermill": {
     "duration": 0.043888,
     "end_time": "2025-08-19T19:11:54.257088",
     "exception": false,
     "start_time": "2025-08-19T19:11:54.213200",
     "status": "completed"
    },
    "tags": []
   },
   "outputs": [
    {
     "data": {
      "text/html": [
       "<div>\n",
       "<style scoped>\n",
       "    .dataframe tbody tr th:only-of-type {\n",
       "        vertical-align: middle;\n",
       "    }\n",
       "\n",
       "    .dataframe tbody tr th {\n",
       "        vertical-align: top;\n",
       "    }\n",
       "\n",
       "    .dataframe thead th {\n",
       "        text-align: right;\n",
       "    }\n",
       "</style>\n",
       "<table border=\"1\" class=\"dataframe\">\n",
       "  <thead>\n",
       "    <tr style=\"text-align: right;\">\n",
       "      <th></th>\n",
       "      <th>accuracy</th>\n",
       "      <th>balanced accuracy</th>\n",
       "      <th>f1</th>\n",
       "      <th>precision</th>\n",
       "      <th>false positive rate</th>\n",
       "      <th>false negative rate</th>\n",
       "      <th>selection rate</th>\n",
       "      <th>count</th>\n",
       "    </tr>\n",
       "    <tr>\n",
       "      <th>majmin</th>\n",
       "      <th></th>\n",
       "      <th></th>\n",
       "      <th></th>\n",
       "      <th></th>\n",
       "      <th></th>\n",
       "      <th></th>\n",
       "      <th></th>\n",
       "      <th></th>\n",
       "    </tr>\n",
       "  </thead>\n",
       "  <tbody>\n",
       "    <tr>\n",
       "      <th>majority</th>\n",
       "      <td>0.237126</td>\n",
       "      <td>0.550748</td>\n",
       "      <td>0.252874</td>\n",
       "      <td>0.145232</td>\n",
       "      <td>0.875529</td>\n",
       "      <td>0.022976</td>\n",
       "      <td>0.888940</td>\n",
       "      <td>69170.0</td>\n",
       "    </tr>\n",
       "    <tr>\n",
       "      <th>minority</th>\n",
       "      <td>0.173174</td>\n",
       "      <td>0.523901</td>\n",
       "      <td>0.214586</td>\n",
       "      <td>0.120488</td>\n",
       "      <td>0.931928</td>\n",
       "      <td>0.020270</td>\n",
       "      <td>0.937439</td>\n",
       "      <td>20540.0</td>\n",
       "    </tr>\n",
       "  </tbody>\n",
       "</table>\n",
       "</div>"
      ],
      "text/plain": [
       "          accuracy  balanced accuracy        f1  precision  \\\n",
       "majmin                                                       \n",
       "majority  0.237126           0.550748  0.252874   0.145232   \n",
       "minority  0.173174           0.523901  0.214586   0.120488   \n",
       "\n",
       "          false positive rate  false negative rate  selection rate    count  \n",
       "majmin                                                                       \n",
       "majority             0.875529             0.022976        0.888940  69170.0  \n",
       "minority             0.931928             0.020270        0.937439  20540.0  "
      ]
     },
     "execution_count": 60,
     "metadata": {},
     "output_type": "execute_result"
    }
   ],
   "source": [
    "metric_frame.by_group"
   ]
  },
  {
   "cell_type": "code",
   "execution_count": 61,
   "id": "6e6c20ae",
   "metadata": {
    "execution": {
     "iopub.execute_input": "2025-08-19T19:11:54.298363Z",
     "iopub.status.busy": "2025-08-19T19:11:54.297199Z",
     "iopub.status.idle": "2025-08-19T19:11:56.083137Z",
     "shell.execute_reply": "2025-08-19T19:11:56.082146Z"
    },
    "papermill": {
     "duration": 1.804598,
     "end_time": "2025-08-19T19:11:56.085912",
     "exception": false,
     "start_time": "2025-08-19T19:11:54.281314",
     "status": "completed"
    },
    "tags": []
   },
   "outputs": [
    {
     "data": {
      "text/plain": [
       "array([[<Axes: title={'center': 'accuracy'}, xlabel='majmin'>,\n",
       "        <Axes: title={'center': 'balanced accuracy'}, xlabel='majmin'>,\n",
       "        <Axes: title={'center': 'f1'}, xlabel='majmin'>],\n",
       "       [<Axes: title={'center': 'precision'}, xlabel='majmin'>,\n",
       "        <Axes: title={'center': 'false positive rate'}, xlabel='majmin'>,\n",
       "        <Axes: title={'center': 'false negative rate'}, xlabel='majmin'>],\n",
       "       [<Axes: title={'center': 'selection rate'}, xlabel='majmin'>,\n",
       "        <Axes: title={'center': 'count'}, xlabel='majmin'>,\n",
       "        <Axes: xlabel='majmin'>]], dtype=object)"
      ]
     },
     "execution_count": 61,
     "metadata": {},
     "output_type": "execute_result"
    },
    {
     "data": {
      "image/png": "[encoded data removed]",
      "text/plain": [
       "<Figure size 1200x800 with 9 Axes>"
      ]
     },
     "metadata": {},
     "output_type": "display_data"
    }
   ],
   "source": [
    "# In a graphic\n",
    "metric_frame.by_group.plot.bar(\n",
    "    subplots=True,\n",
    "    layout=[3, 3],\n",
    "    legend=False,\n",
    "    figsize=[12, 8],\n",
    "    title=\"Show all metrics\",\n",
    ")"
   ]
  },
  {
   "cell_type": "markdown",
   "id": "b2e433ae",
   "metadata": {
    "papermill": {
     "duration": 0.015402,
     "end_time": "2025-08-19T19:11:56.117633",
     "exception": false,
     "start_time": "2025-08-19T19:11:56.102231",
     "status": "completed"
    },
    "tags": []
   },
   "source": [
    "# Final Output"
   ]
  },
  {
   "cell_type": "code",
   "execution_count": 62,
   "id": "3871301e",
   "metadata": {
    "execution": {
     "iopub.execute_input": "2025-08-19T19:11:56.151085Z",
     "iopub.status.busy": "2025-08-19T19:11:56.149398Z",
     "iopub.status.idle": "2025-08-19T19:11:56.168724Z",
     "shell.execute_reply": "2025-08-19T19:11:56.167755Z"
    },
    "papermill": {
     "duration": 0.037975,
     "end_time": "2025-08-19T19:11:56.170475",
     "exception": false,
     "start_time": "2025-08-19T19:11:56.132500",
     "status": "completed"
    },
    "tags": []
   },
   "outputs": [
    {
     "data": {
      "text/plain": [
       "4"
      ]
     },
     "execution_count": 62,
     "metadata": {},
     "output_type": "execute_result"
    }
   ],
   "source": [
    "sub_universes = universe_analysis.generate_sub_universes()\n",
    "len(sub_universes)"
   ]
  },
  {
   "cell_type": "code",
   "execution_count": 63,
   "id": "d9cfdaca",
   "metadata": {
    "execution": {
     "iopub.execute_input": "2025-08-19T19:11:56.202980Z",
     "iopub.status.busy": "2025-08-19T19:11:56.202265Z",
     "iopub.status.idle": "2025-08-19T19:11:56.221412Z",
     "shell.execute_reply": "2025-08-19T19:11:56.220168Z"
    },
    "papermill": {
     "duration": 0.038216,
     "end_time": "2025-08-19T19:11:56.223633",
     "exception": false,
     "start_time": "2025-08-19T19:11:56.185417",
     "status": "completed"
    },
    "tags": []
   },
   "outputs": [],
   "source": [
    "def filter_sub_universe_data(sub_universe, org_test):\n",
    "    # Keep all rows — no filtering\n",
    "    keep_rows_mask = np.ones(org_test.shape[0], dtype=bool)\n",
    "\n",
    "    print(f\"[INFO] Keeping all rows: {keep_rows_mask.sum()} rows retained.\")\n",
    "    return keep_rows_mask"
   ]
  },
  {
   "cell_type": "code",
   "execution_count": 64,
   "id": "2bc31ac1",
   "metadata": {
    "execution": {
     "iopub.execute_input": "2025-08-19T19:11:56.265053Z",
     "iopub.status.busy": "2025-08-19T19:11:56.264322Z",
     "iopub.status.idle": "2025-08-19T19:12:02.897581Z",
     "shell.execute_reply": "2025-08-19T19:12:02.896615Z"
    },
    "papermill": {
     "duration": 6.653454,
     "end_time": "2025-08-19T19:12:02.898897",
     "exception": false,
     "start_time": "2025-08-19T19:11:56.245443",
     "status": "completed"
    },
    "tags": []
   },
   "outputs": [
    {
     "name": "stdout",
     "output_type": "stream",
     "text": [
      "Stopping execution_time clock.\n",
      "[INFO] Keeping all rows: 89710 rows retained.\n"
     ]
    },
    {
     "name": "stdout",
     "output_type": "stream",
     "text": [
      "[INFO] Keeping all rows: 89710 rows retained.\n"
     ]
    },
    {
     "name": "stdout",
     "output_type": "stream",
     "text": [
      "[INFO] Keeping all rows: 89710 rows retained.\n"
     ]
    },
    {
     "name": "stdout",
     "output_type": "stream",
     "text": [
      "[INFO] Keeping all rows: 89710 rows retained.\n"
     ]
    },
    {
     "data": {
      "text/html": [
       "<div>\n",
       "<style scoped>\n",
       "    .dataframe tbody tr th:only-of-type {\n",
       "        vertical-align: middle;\n",
       "    }\n",
       "\n",
       "    .dataframe tbody tr th {\n",
       "        vertical-align: top;\n",
       "    }\n",
       "\n",
       "    .dataframe thead th {\n",
       "        text-align: right;\n",
       "    }\n",
       "</style>\n",
       "<table border=\"1\" class=\"dataframe\">\n",
       "  <thead>\n",
       "    <tr style=\"text-align: right;\">\n",
       "      <th></th>\n",
       "      <th>run_no</th>\n",
       "      <th>universe_id</th>\n",
       "      <th>universe_settings</th>\n",
       "      <th>execution_time</th>\n",
       "      <th>test_size_n</th>\n",
       "      <th>test_size_frac</th>\n",
       "      <th>fair_main_equalized_odds_difference</th>\n",
       "      <th>fair_main_equalized_odds_ratio</th>\n",
       "      <th>fair_main_demographic_parity_difference</th>\n",
       "      <th>fair_main_demographic_parity_ratio</th>\n",
       "      <th>...</th>\n",
       "      <th>perf_grp_precision_0</th>\n",
       "      <th>perf_grp_precision_1</th>\n",
       "      <th>perf_grp_false positive rate_0</th>\n",
       "      <th>perf_grp_false positive rate_1</th>\n",
       "      <th>perf_grp_false negative rate_0</th>\n",
       "      <th>perf_grp_false negative rate_1</th>\n",
       "      <th>perf_grp_selection rate_0</th>\n",
       "      <th>perf_grp_selection rate_1</th>\n",
       "      <th>perf_grp_count_0</th>\n",
       "      <th>perf_grp_count_1</th>\n",
       "    </tr>\n",
       "  </thead>\n",
       "  <tbody>\n",
       "    <tr>\n",
       "      <th>0</th>\n",
       "      <td>3</td>\n",
       "      <td>6f72534b780637afea995a024bcfa3db</td>\n",
       "      <td>{\"cutoff\": \"quantile_0.1\", \"eval_fairness_grou...</td>\n",
       "      <td>23.874044</td>\n",
       "      <td>89710</td>\n",
       "      <td>1.0</td>\n",
       "      <td>0.056399</td>\n",
       "      <td>0.939481</td>\n",
       "      <td>0.048499</td>\n",
       "      <td>0.948265</td>\n",
       "      <td>...</td>\n",
       "      <td>NaN</td>\n",
       "      <td>NaN</td>\n",
       "      <td>NaN</td>\n",
       "      <td>NaN</td>\n",
       "      <td>NaN</td>\n",
       "      <td>NaN</td>\n",
       "      <td>NaN</td>\n",
       "      <td>NaN</td>\n",
       "      <td>NaN</td>\n",
       "      <td>NaN</td>\n",
       "    </tr>\n",
       "    <tr>\n",
       "      <th>0</th>\n",
       "      <td>3</td>\n",
       "      <td>6f72534b780637afea995a024bcfa3db</td>\n",
       "      <td>{\"cutoff\": \"quantile_0.1\", \"eval_fairness_grou...</td>\n",
       "      <td>23.874044</td>\n",
       "      <td>89710</td>\n",
       "      <td>1.0</td>\n",
       "      <td>0.056399</td>\n",
       "      <td>0.939481</td>\n",
       "      <td>0.048499</td>\n",
       "      <td>0.948265</td>\n",
       "      <td>...</td>\n",
       "      <td>0.120488</td>\n",
       "      <td>0.145232</td>\n",
       "      <td>0.931928</td>\n",
       "      <td>0.875529</td>\n",
       "      <td>0.020270</td>\n",
       "      <td>0.022976</td>\n",
       "      <td>0.937439</td>\n",
       "      <td>0.888940</td>\n",
       "      <td>20540.0</td>\n",
       "      <td>69170.0</td>\n",
       "    </tr>\n",
       "    <tr>\n",
       "      <th>0</th>\n",
       "      <td>3</td>\n",
       "      <td>6f72534b780637afea995a024bcfa3db</td>\n",
       "      <td>{\"cutoff\": \"quantile_0.25\", \"eval_fairness_gro...</td>\n",
       "      <td>23.874044</td>\n",
       "      <td>89710</td>\n",
       "      <td>1.0</td>\n",
       "      <td>0.136525</td>\n",
       "      <td>0.835296</td>\n",
       "      <td>0.118652</td>\n",
       "      <td>0.858996</td>\n",
       "      <td>...</td>\n",
       "      <td>NaN</td>\n",
       "      <td>NaN</td>\n",
       "      <td>NaN</td>\n",
       "      <td>NaN</td>\n",
       "      <td>NaN</td>\n",
       "      <td>NaN</td>\n",
       "      <td>NaN</td>\n",
       "      <td>NaN</td>\n",
       "      <td>NaN</td>\n",
       "      <td>NaN</td>\n",
       "    </tr>\n",
       "    <tr>\n",
       "      <th>0</th>\n",
       "      <td>3</td>\n",
       "      <td>6f72534b780637afea995a024bcfa3db</td>\n",
       "      <td>{\"cutoff\": \"quantile_0.25\", \"eval_fairness_gro...</td>\n",
       "      <td>23.874044</td>\n",
       "      <td>89710</td>\n",
       "      <td>1.0</td>\n",
       "      <td>0.136525</td>\n",
       "      <td>0.835296</td>\n",
       "      <td>0.118652</td>\n",
       "      <td>0.858996</td>\n",
       "      <td>...</td>\n",
       "      <td>0.128500</td>\n",
       "      <td>0.168687</td>\n",
       "      <td>0.828913</td>\n",
       "      <td>0.692387</td>\n",
       "      <td>0.062078</td>\n",
       "      <td>0.077243</td>\n",
       "      <td>0.841480</td>\n",
       "      <td>0.722828</td>\n",
       "      <td>20540.0</td>\n",
       "      <td>69170.0</td>\n",
       "    </tr>\n",
       "  </tbody>\n",
       "</table>\n",
       "<p>4 rows × 50 columns</p>\n",
       "</div>"
      ],
      "text/plain": [
       "  run_no                       universe_id  \\\n",
       "0      3  6f72534b780637afea995a024bcfa3db   \n",
       "0      3  6f72534b780637afea995a024bcfa3db   \n",
       "0      3  6f72534b780637afea995a024bcfa3db   \n",
       "0      3  6f72534b780637afea995a024bcfa3db   \n",
       "\n",
       "                                   universe_settings  execution_time  \\\n",
       "0  {\"cutoff\": \"quantile_0.1\", \"eval_fairness_grou...       23.874044   \n",
       "0  {\"cutoff\": \"quantile_0.1\", \"eval_fairness_grou...       23.874044   \n",
       "0  {\"cutoff\": \"quantile_0.25\", \"eval_fairness_gro...       23.874044   \n",
       "0  {\"cutoff\": \"quantile_0.25\", \"eval_fairness_gro...       23.874044   \n",
       "\n",
       "   test_size_n  test_size_frac  fair_main_equalized_odds_difference  \\\n",
       "0        89710             1.0                             0.056399   \n",
       "0        89710             1.0                             0.056399   \n",
       "0        89710             1.0                             0.136525   \n",
       "0        89710             1.0                             0.136525   \n",
       "\n",
       "   fair_main_equalized_odds_ratio  fair_main_demographic_parity_difference  \\\n",
       "0                        0.939481                                 0.048499   \n",
       "0                        0.939481                                 0.048499   \n",
       "0                        0.835296                                 0.118652   \n",
       "0                        0.835296                                 0.118652   \n",
       "\n",
       "   fair_main_demographic_parity_ratio  ...  perf_grp_precision_0  \\\n",
       "0                            0.948265  ...                   NaN   \n",
       "0                            0.948265  ...              0.120488   \n",
       "0                            0.858996  ...                   NaN   \n",
       "0                            0.858996  ...              0.128500   \n",
       "\n",
       "   perf_grp_precision_1  perf_grp_false positive rate_0  \\\n",
       "0                   NaN                             NaN   \n",
       "0              0.145232                        0.931928   \n",
       "0                   NaN                             NaN   \n",
       "0              0.168687                        0.828913   \n",
       "\n",
       "   perf_grp_false positive rate_1  perf_grp_false negative rate_0  \\\n",
       "0                             NaN                             NaN   \n",
       "0                        0.875529                        0.020270   \n",
       "0                             NaN                             NaN   \n",
       "0                        0.692387                        0.062078   \n",
       "\n",
       "   perf_grp_false negative rate_1  perf_grp_selection rate_0  \\\n",
       "0                             NaN                        NaN   \n",
       "0                        0.022976                   0.937439   \n",
       "0                             NaN                        NaN   \n",
       "0                        0.077243                   0.841480   \n",
       "\n",
       "   perf_grp_selection rate_1  perf_grp_count_0  perf_grp_count_1  \n",
       "0                        NaN               NaN               NaN  \n",
       "0                   0.888940           20540.0           69170.0  \n",
       "0                        NaN               NaN               NaN  \n",
       "0                   0.722828           20540.0           69170.0  \n",
       "\n",
       "[4 rows x 50 columns]"
      ]
     },
     "execution_count": 64,
     "metadata": {},
     "output_type": "execute_result"
    }
   ],
   "source": [
    "final_output = universe_analysis.generate_final_output(\n",
    "    y_pred_prob=probs_test,\n",
    "    y_test=y_true,\n",
    "    org_test=org_test,\n",
    "    filter_data=filter_sub_universe_data,\n",
    "    cp_metrics_df=cp_metrics_df,\n",
    "    save=True,\n",
    ")\n",
    "final_output"
   ]
  },
  {
   "cell_type": "code",
   "execution_count": null,
   "id": "8b80a1ff",
   "metadata": {
    "papermill": {
     "duration": 0.01456,
     "end_time": "2025-08-19T19:12:02.931541",
     "exception": false,
     "start_time": "2025-08-19T19:12:02.916981",
     "status": "completed"
    },
    "tags": []
   },
   "outputs": [],
   "source": []
  },
  {
   "cell_type": "code",
   "execution_count": null,
   "id": "275c9fad",
   "metadata": {
    "papermill": {
     "duration": 0.015673,
     "end_time": "2025-08-19T19:12:02.961483",
     "exception": false,
     "start_time": "2025-08-19T19:12:02.945810",
     "status": "completed"
    },
    "tags": []
   },
   "outputs": [],
   "source": []
  }
 ],
 "metadata": {
  "celltoolbar": "Tags",
  "kernelspec": {
   "display_name": "Python (CMA Fairness)",
   "language": "python",
   "name": "cma_fair_env"
  },
  "language_info": {
   "codemirror_mode": {
    "name": "ipython",
    "version": 3
   },
   "file_extension": ".py",
   "mimetype": "text/x-python",
   "name": "python",
   "nbconvert_exporter": "python",
   "pygments_lexer": "ipython3",
   "version": "3.10.12"
  },
  "papermill": {
   "default_parameters": {},
   "duration": 34.192305,
   "end_time": "2025-08-19T19:12:03.801454",
   "environment_variables": {},
   "exception": null,
   "input_path": "universe_analysis.ipynb",
   "output_path": "output/runs/3/notebooks/m_3-6f72534b780637afea995a024bcfa3db.ipynb",
   "parameters": {
    "output_dir": "output",
    "run_no": "3",
    "seed": "2023",
    "universe": "{\"cutoff\": [\"quantile_0.1\", \"quantile_0.25\"], \"eval_fairness_grouping\": [\"majority-minority\", \"nationality-all\"], \"exclude_features\": \"nationality-sex\", \"exclude_subgroups\": \"keep-all\", \"model\": \"gbm\", \"scale\": \"do-not-scale\", \"training_size\": \"1k\", \"training_year\": \"2010_14\"}",
    "universe_id": "6f72534b780637afea995a024bcfa3db"
   },
   "start_time": "2025-08-19T19:11:29.609149",
   "version": "2.6.0"
  }
 },
 "nbformat": 4,
 "nbformat_minor": 5
}