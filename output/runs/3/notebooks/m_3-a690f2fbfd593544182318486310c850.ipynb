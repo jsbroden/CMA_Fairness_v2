{
 "cells": [
  {
   "cell_type": "markdown",
   "id": "ef23dbb3",
   "metadata": {
    "papermill": {
     "duration": 0.008876,
     "end_time": "2025-08-19T19:05:53.530174",
     "exception": false,
     "start_time": "2025-08-19T19:05:53.521298",
     "status": "completed"
    },
    "tags": []
   },
   "source": [
    "# Setup"
   ]
  },
  {
   "cell_type": "code",
   "execution_count": 1,
   "id": "0bc8e7dc",
   "metadata": {
    "execution": {
     "iopub.execute_input": "2025-08-19T19:05:53.548685Z",
     "iopub.status.busy": "2025-08-19T19:05:53.548345Z",
     "iopub.status.idle": "2025-08-19T19:05:53.559153Z",
     "shell.execute_reply": "2025-08-19T19:05:53.557985Z"
    },
    "papermill": {
     "duration": 0.027221,
     "end_time": "2025-08-19T19:05:53.565985",
     "exception": false,
     "start_time": "2025-08-19T19:05:53.538764",
     "status": "completed"
    },
    "tags": []
   },
   "outputs": [
    {
     "name": "stdout",
     "output_type": "stream",
     "text": [
      "/dss/dsshome1/0C/ra93lal2/cma/CMA_Fairness_v2\n"
     ]
    },
    {
     "name": "stderr",
     "output_type": "stream",
     "text": [
      "/dss/dsshome1/0C/ra93lal2/.local/share/virtualenvs/CMA_Fairness_v2-3j10GkSs/lib/python3.10/site-packages/IPython/core/magics/osm.py:393: UserWarning: This is now an optional IPython functionality, using bookmarks requires you to install the `pickleshare` library.\n",
      "  bkms = self.shell.db.get('bookmarks', {})\n",
      "/dss/dsshome1/0C/ra93lal2/.local/share/virtualenvs/CMA_Fairness_v2-3j10GkSs/lib/python3.10/site-packages/IPython/core/magics/osm.py:417: UserWarning: This is now an optional IPython functionality, setting dhist requires you to install the `pickleshare` library.\n",
      "  self.shell.db['dhist'] = compress_dhist(dhist)[-100:]\n"
     ]
    }
   ],
   "source": [
    "%cd ~/cma/CMA_Fairness_v2"
   ]
  },
  {
   "cell_type": "markdown",
   "id": "9d235661",
   "metadata": {
    "papermill": {
     "duration": 0.010226,
     "end_time": "2025-08-19T19:05:53.594328",
     "exception": false,
     "start_time": "2025-08-19T19:05:53.584102",
     "status": "completed"
    },
    "tags": []
   },
   "source": [
    "The following cell holds the definition of our parameters, these values can be overriden by rendering the with e.g. the following command:\n",
    "\n",
    "papermill -p alpha 0.2 -p ratio 0.3 universe_analysis.ipynb output/test_run.ipynb"
   ]
  },
  {
   "cell_type": "code",
   "execution_count": 2,
   "id": "4a789d8e",
   "metadata": {
    "execution": {
     "iopub.execute_input": "2025-08-19T19:05:53.614395Z",
     "iopub.status.busy": "2025-08-19T19:05:53.613218Z",
     "iopub.status.idle": "2025-08-19T19:05:53.621204Z",
     "shell.execute_reply": "2025-08-19T19:05:53.619921Z"
    },
    "papermill": {
     "duration": 0.019738,
     "end_time": "2025-08-19T19:05:53.622685",
     "exception": false,
     "start_time": "2025-08-19T19:05:53.602947",
     "status": "completed"
    },
    "tags": []
   },
   "outputs": [
    {
     "name": "stdout",
     "output_type": "stream",
     "text": [
      "Current working directory: /dss/dsshome1/0C/ra93lal2/cma/CMA_Fairness_v2\n"
     ]
    }
   ],
   "source": [
    "import os\n",
    "print(\"Current working directory:\", os.getcwd())"
   ]
  },
  {
   "cell_type": "code",
   "execution_count": 3,
   "id": "4132aaed",
   "metadata": {
    "execution": {
     "iopub.execute_input": "2025-08-19T19:05:53.655557Z",
     "iopub.status.busy": "2025-08-19T19:05:53.654733Z",
     "iopub.status.idle": "2025-08-19T19:05:53.660726Z",
     "shell.execute_reply": "2025-08-19T19:05:53.659702Z"
    },
    "papermill": {
     "duration": 0.017184,
     "end_time": "2025-08-19T19:05:53.662047",
     "exception": false,
     "start_time": "2025-08-19T19:05:53.644863",
     "status": "completed"
    },
    "tags": [
     "parameters"
    ]
   },
   "outputs": [],
   "source": [
    "run_no = 0\n",
    "universe_id = \"test\"\n",
    "universe = {\n",
    "    \"training_size\": \"5k\", # \"25k\", \"5k\", \"1k\"\n",
    "    \"training_year\": \"2012_14\", # \"2014\", \"2012_14\", \"2010_14\"\n",
    "    \"scale\": \"scale\", # \"scale\", \"do-not-scale\",\n",
    "    \"model\": \"elasticnet\", # \"logreg\", \"penalized_logreg\", \"rf\", \"gbm\", \"elasticnet\"\n",
    "    \"cutoff\": [\"quantile_0.15\", \"quantile_0.30\"],\n",
    "    \"exclude_features\": \"age\", # \"none\", \"nationality\", \"sex\", \"nationality-sex\", \"age\"\n",
    "    \"exclude_subgroups\": \"drop-non-german\", # \"keep-all\", \"drop-non-german\"\n",
    "    \"eval_fairness_grouping\": [\"majority-minority\", \"nationality-all\"]\n",
    "}\n",
    "\n",
    "output_dir=\"./output\"\n",
    "seed=0"
   ]
  },
  {
   "cell_type": "code",
   "execution_count": 4,
   "id": "a259f817",
   "metadata": {
    "execution": {
     "iopub.execute_input": "2025-08-19T19:05:53.683532Z",
     "iopub.status.busy": "2025-08-19T19:05:53.682824Z",
     "iopub.status.idle": "2025-08-19T19:05:53.687590Z",
     "shell.execute_reply": "2025-08-19T19:05:53.686705Z"
    },
    "papermill": {
     "duration": 0.017569,
     "end_time": "2025-08-19T19:05:53.689077",
     "exception": false,
     "start_time": "2025-08-19T19:05:53.671508",
     "status": "completed"
    },
    "tags": [
     "injected-parameters"
    ]
   },
   "outputs": [],
   "source": [
    "# Parameters\n",
    "universe_id = \"a690f2fbfd593544182318486310c850\"\n",
    "run_no = \"3\"\n",
    "universe = \"{\\\"cutoff\\\": [\\\"quantile_0.1\\\", \\\"quantile_0.25\\\"], \\\"eval_fairness_grouping\\\": [\\\"majority-minority\\\", \\\"nationality-all\\\"], \\\"exclude_features\\\": \\\"age\\\", \\\"exclude_subgroups\\\": \\\"drop-non-german\\\", \\\"model\\\": \\\"penalized_logreg\\\", \\\"scale\\\": \\\"scale\\\", \\\"training_size\\\": \\\"1k\\\", \\\"training_year\\\": \\\"2010_14\\\"}\"\n",
    "output_dir = \"output\"\n",
    "seed = \"2023\"\n"
   ]
  },
  {
   "cell_type": "code",
   "execution_count": 5,
   "id": "a5d7941f",
   "metadata": {
    "execution": {
     "iopub.execute_input": "2025-08-19T19:05:53.708323Z",
     "iopub.status.busy": "2025-08-19T19:05:53.707971Z",
     "iopub.status.idle": "2025-08-19T19:05:53.712094Z",
     "shell.execute_reply": "2025-08-19T19:05:53.711287Z"
    },
    "papermill": {
     "duration": 0.015241,
     "end_time": "2025-08-19T19:05:53.713369",
     "exception": false,
     "start_time": "2025-08-19T19:05:53.698128",
     "status": "completed"
    },
    "tags": []
   },
   "outputs": [],
   "source": [
    "import json\n",
    "if isinstance(universe, str):\n",
    "    universe = json.loads(universe)"
   ]
  },
  {
   "cell_type": "code",
   "execution_count": 6,
   "id": "7076ccb1",
   "metadata": {
    "execution": {
     "iopub.execute_input": "2025-08-19T19:05:53.734444Z",
     "iopub.status.busy": "2025-08-19T19:05:53.733577Z",
     "iopub.status.idle": "2025-08-19T19:05:53.773657Z",
     "shell.execute_reply": "2025-08-19T19:05:53.772837Z"
    },
    "papermill": {
     "duration": 0.054215,
     "end_time": "2025-08-19T19:05:53.776974",
     "exception": false,
     "start_time": "2025-08-19T19:05:53.722759",
     "status": "completed"
    },
    "tags": []
   },
   "outputs": [],
   "source": [
    "# Auto-reload the custom package\n",
    "%load_ext autoreload\n",
    "%autoreload 1\n",
    "%aimport fairness_multiverse"
   ]
  },
  {
   "cell_type": "code",
   "execution_count": 7,
   "id": "94c8eb93",
   "metadata": {
    "execution": {
     "iopub.execute_input": "2025-08-19T19:05:53.813786Z",
     "iopub.status.busy": "2025-08-19T19:05:53.812528Z",
     "iopub.status.idle": "2025-08-19T19:05:55.425539Z",
     "shell.execute_reply": "2025-08-19T19:05:55.421545Z"
    },
    "papermill": {
     "duration": 1.627685,
     "end_time": "2025-08-19T19:05:55.427488",
     "exception": false,
     "start_time": "2025-08-19T19:05:53.799803",
     "status": "completed"
    },
    "tags": []
   },
   "outputs": [],
   "source": [
    "from fairness_multiverse.universe import UniverseAnalysis\n",
    "\n",
    "universe_analysis = UniverseAnalysis(\n",
    "    run_no = run_no,\n",
    "    universe_id = universe_id,\n",
    "    universe = universe,\n",
    "    output_dir=output_dir,\n",
    ")"
   ]
  },
  {
   "cell_type": "code",
   "execution_count": 8,
   "id": "2a6381cf",
   "metadata": {
    "execution": {
     "iopub.execute_input": "2025-08-19T19:05:55.470297Z",
     "iopub.status.busy": "2025-08-19T19:05:55.469244Z",
     "iopub.status.idle": "2025-08-19T19:05:55.478827Z",
     "shell.execute_reply": "2025-08-19T19:05:55.477423Z"
    },
    "papermill": {
     "duration": 0.036112,
     "end_time": "2025-08-19T19:05:55.480964",
     "exception": false,
     "start_time": "2025-08-19T19:05:55.444852",
     "status": "completed"
    },
    "tags": []
   },
   "outputs": [
    {
     "name": "stdout",
     "output_type": "stream",
     "text": [
      "Using Seed: 2023\n"
     ]
    }
   ],
   "source": [
    "import numpy as np\n",
    "parsed_seed = int(seed)\n",
    "np.random.seed(parsed_seed)\n",
    "print(f\"Using Seed: {parsed_seed}\")"
   ]
  },
  {
   "cell_type": "markdown",
   "id": "b6e958b4",
   "metadata": {
    "papermill": {
     "duration": 0.008931,
     "end_time": "2025-08-19T19:05:55.502206",
     "exception": false,
     "start_time": "2025-08-19T19:05:55.493275",
     "status": "completed"
    },
    "tags": []
   },
   "source": [
    "# Loading Data"
   ]
  },
  {
   "cell_type": "code",
   "execution_count": 9,
   "id": "98701482",
   "metadata": {
    "execution": {
     "iopub.execute_input": "2025-08-19T19:05:55.522668Z",
     "iopub.status.busy": "2025-08-19T19:05:55.521692Z",
     "iopub.status.idle": "2025-08-19T19:06:06.125285Z",
     "shell.execute_reply": "2025-08-19T19:06:06.124237Z"
    },
    "papermill": {
     "duration": 10.615566,
     "end_time": "2025-08-19T19:06:06.126658",
     "exception": false,
     "start_time": "2025-08-19T19:05:55.511092",
     "status": "completed"
    },
    "tags": []
   },
   "outputs": [
    {
     "name": "stdout",
     "output_type": "stream",
     "text": [
      "Loading SIAB data from cache: data/siab_cached.csv.gz\n"
     ]
    },
    {
     "name": "stdout",
     "output_type": "stream",
     "text": [
      "(643690, 164)\n"
     ]
    }
   ],
   "source": [
    "from pathlib import Path\n",
    "import pandas as pd\n",
    "\n",
    "# File paths\n",
    "raw_file = Path(\"data/raw/siab.csv\")\n",
    "cache_file = Path(\"data/siab_cached.csv.gz\")\n",
    "\n",
    "# Ensure cache directory exists\n",
    "cache_file.parent.mkdir(parents=True, exist_ok=True)\n",
    "\n",
    "# Load with simple caching\n",
    "if cache_file.exists():\n",
    "    print(f\"Loading SIAB data from cache: {cache_file}\")\n",
    "    siab = pd.read_csv(cache_file, compression='gzip')\n",
    "else:\n",
    "    print(f\"Cache not found. Reading raw SIAB data: {raw_file}\")\n",
    "    siab = pd.read_csv(raw_file)\n",
    "    siab.to_csv(cache_file, index=False, compression='gzip')\n",
    "    print(f\"Cached SIAB data to: {cache_file}\")\n",
    "\n",
    "print(siab.shape)"
   ]
  },
  {
   "cell_type": "code",
   "execution_count": 10,
   "id": "058d2abb",
   "metadata": {
    "execution": {
     "iopub.execute_input": "2025-08-19T19:06:06.150963Z",
     "iopub.status.busy": "2025-08-19T19:06:06.149997Z",
     "iopub.status.idle": "2025-08-19T19:06:06.333524Z",
     "shell.execute_reply": "2025-08-19T19:06:06.332830Z"
    },
    "papermill": {
     "duration": 0.195812,
     "end_time": "2025-08-19T19:06:06.334671",
     "exception": false,
     "start_time": "2025-08-19T19:06:06.138859",
     "status": "completed"
    },
    "tags": []
   },
   "outputs": [
    {
     "data": {
      "text/html": [
       "<div>\n",
       "<style scoped>\n",
       "    .dataframe tbody tr th:only-of-type {\n",
       "        vertical-align: middle;\n",
       "    }\n",
       "\n",
       "    .dataframe tbody tr th {\n",
       "        vertical-align: top;\n",
       "    }\n",
       "\n",
       "    .dataframe thead th {\n",
       "        text-align: right;\n",
       "    }\n",
       "</style>\n",
       "<table border=\"1\" class=\"dataframe\">\n",
       "  <thead>\n",
       "    <tr style=\"text-align: right;\">\n",
       "      <th></th>\n",
       "      <th>persnr</th>\n",
       "      <th>year</th>\n",
       "      <th>nrEntry</th>\n",
       "      <th>ltue</th>\n",
       "      <th>employed_before</th>\n",
       "      <th>receipt_leh_before</th>\n",
       "      <th>receipt_lhg_before</th>\n",
       "      <th>se_before</th>\n",
       "      <th>ASU_notue_seeking_before</th>\n",
       "      <th>ASU_other_before</th>\n",
       "      <th>...</th>\n",
       "      <th>minijob_tot_dur_byage</th>\n",
       "      <th>ft_tot_dur_byage</th>\n",
       "      <th>befrist_tot_dur_byage</th>\n",
       "      <th>leih_tot_dur_byage</th>\n",
       "      <th>LHG_tot_dur_byage</th>\n",
       "      <th>LEH_tot_dur_byage</th>\n",
       "      <th>almp_tot_dur_byage</th>\n",
       "      <th>almp_aw_tot_dur_byage</th>\n",
       "      <th>se_tot_dur_byage</th>\n",
       "      <th>seeking1_tot_dur_byage</th>\n",
       "    </tr>\n",
       "  </thead>\n",
       "  <tbody>\n",
       "    <tr>\n",
       "      <th>0</th>\n",
       "      <td>7</td>\n",
       "      <td>2015</td>\n",
       "      <td>1</td>\n",
       "      <td>0</td>\n",
       "      <td>1</td>\n",
       "      <td>0</td>\n",
       "      <td>0</td>\n",
       "      <td>0</td>\n",
       "      <td>1</td>\n",
       "      <td>0</td>\n",
       "      <td>...</td>\n",
       "      <td>0.000000</td>\n",
       "      <td>0.000000</td>\n",
       "      <td>15.043478</td>\n",
       "      <td>0.000000</td>\n",
       "      <td>0.000000</td>\n",
       "      <td>0.000000</td>\n",
       "      <td>0.000000</td>\n",
       "      <td>0.000000</td>\n",
       "      <td>0.000000</td>\n",
       "      <td>0.000000</td>\n",
       "    </tr>\n",
       "    <tr>\n",
       "      <th>1</th>\n",
       "      <td>18</td>\n",
       "      <td>2010</td>\n",
       "      <td>1</td>\n",
       "      <td>1</td>\n",
       "      <td>0</td>\n",
       "      <td>0</td>\n",
       "      <td>0</td>\n",
       "      <td>0</td>\n",
       "      <td>0</td>\n",
       "      <td>0</td>\n",
       "      <td>...</td>\n",
       "      <td>0.000000</td>\n",
       "      <td>0.000000</td>\n",
       "      <td>0.000000</td>\n",
       "      <td>0.000000</td>\n",
       "      <td>0.000000</td>\n",
       "      <td>0.000000</td>\n",
       "      <td>0.000000</td>\n",
       "      <td>0.000000</td>\n",
       "      <td>0.000000</td>\n",
       "      <td>0.000000</td>\n",
       "    </tr>\n",
       "    <tr>\n",
       "      <th>2</th>\n",
       "      <td>18</td>\n",
       "      <td>2011</td>\n",
       "      <td>2</td>\n",
       "      <td>0</td>\n",
       "      <td>1</td>\n",
       "      <td>0</td>\n",
       "      <td>1</td>\n",
       "      <td>0</td>\n",
       "      <td>1</td>\n",
       "      <td>0</td>\n",
       "      <td>...</td>\n",
       "      <td>2.714286</td>\n",
       "      <td>2.714286</td>\n",
       "      <td>0.000000</td>\n",
       "      <td>0.000000</td>\n",
       "      <td>10.775510</td>\n",
       "      <td>0.000000</td>\n",
       "      <td>8.367347</td>\n",
       "      <td>0.000000</td>\n",
       "      <td>0.000000</td>\n",
       "      <td>9.836735</td>\n",
       "    </tr>\n",
       "    <tr>\n",
       "      <th>3</th>\n",
       "      <td>18</td>\n",
       "      <td>2012</td>\n",
       "      <td>3</td>\n",
       "      <td>0</td>\n",
       "      <td>1</td>\n",
       "      <td>0</td>\n",
       "      <td>1</td>\n",
       "      <td>0</td>\n",
       "      <td>1</td>\n",
       "      <td>0</td>\n",
       "      <td>...</td>\n",
       "      <td>4.200000</td>\n",
       "      <td>4.200000</td>\n",
       "      <td>0.000000</td>\n",
       "      <td>0.000000</td>\n",
       "      <td>12.100000</td>\n",
       "      <td>0.000000</td>\n",
       "      <td>9.400000</td>\n",
       "      <td>0.000000</td>\n",
       "      <td>0.000000</td>\n",
       "      <td>9.960000</td>\n",
       "    </tr>\n",
       "    <tr>\n",
       "      <th>4</th>\n",
       "      <td>18</td>\n",
       "      <td>2012</td>\n",
       "      <td>4</td>\n",
       "      <td>0</td>\n",
       "      <td>1</td>\n",
       "      <td>0</td>\n",
       "      <td>1</td>\n",
       "      <td>0</td>\n",
       "      <td>1</td>\n",
       "      <td>0</td>\n",
       "      <td>...</td>\n",
       "      <td>5.460000</td>\n",
       "      <td>5.460000</td>\n",
       "      <td>0.000000</td>\n",
       "      <td>0.000000</td>\n",
       "      <td>13.360000</td>\n",
       "      <td>0.000000</td>\n",
       "      <td>10.320000</td>\n",
       "      <td>0.000000</td>\n",
       "      <td>0.000000</td>\n",
       "      <td>10.280000</td>\n",
       "    </tr>\n",
       "    <tr>\n",
       "      <th>...</th>\n",
       "      <td>...</td>\n",
       "      <td>...</td>\n",
       "      <td>...</td>\n",
       "      <td>...</td>\n",
       "      <td>...</td>\n",
       "      <td>...</td>\n",
       "      <td>...</td>\n",
       "      <td>...</td>\n",
       "      <td>...</td>\n",
       "      <td>...</td>\n",
       "      <td>...</td>\n",
       "      <td>...</td>\n",
       "      <td>...</td>\n",
       "      <td>...</td>\n",
       "      <td>...</td>\n",
       "      <td>...</td>\n",
       "      <td>...</td>\n",
       "      <td>...</td>\n",
       "      <td>...</td>\n",
       "      <td>...</td>\n",
       "      <td>...</td>\n",
       "    </tr>\n",
       "    <tr>\n",
       "      <th>643685</th>\n",
       "      <td>1827860</td>\n",
       "      <td>2013</td>\n",
       "      <td>1</td>\n",
       "      <td>0</td>\n",
       "      <td>0</td>\n",
       "      <td>0</td>\n",
       "      <td>1</td>\n",
       "      <td>0</td>\n",
       "      <td>0</td>\n",
       "      <td>1</td>\n",
       "      <td>...</td>\n",
       "      <td>0.000000</td>\n",
       "      <td>0.000000</td>\n",
       "      <td>0.000000</td>\n",
       "      <td>0.000000</td>\n",
       "      <td>0.612903</td>\n",
       "      <td>0.000000</td>\n",
       "      <td>0.000000</td>\n",
       "      <td>0.000000</td>\n",
       "      <td>0.000000</td>\n",
       "      <td>0.000000</td>\n",
       "    </tr>\n",
       "    <tr>\n",
       "      <th>643686</th>\n",
       "      <td>1827860</td>\n",
       "      <td>2015</td>\n",
       "      <td>2</td>\n",
       "      <td>1</td>\n",
       "      <td>0</td>\n",
       "      <td>0</td>\n",
       "      <td>1</td>\n",
       "      <td>0</td>\n",
       "      <td>1</td>\n",
       "      <td>0</td>\n",
       "      <td>...</td>\n",
       "      <td>0.000000</td>\n",
       "      <td>0.000000</td>\n",
       "      <td>0.212121</td>\n",
       "      <td>0.212121</td>\n",
       "      <td>17.363636</td>\n",
       "      <td>0.000000</td>\n",
       "      <td>8.909091</td>\n",
       "      <td>0.000000</td>\n",
       "      <td>0.000000</td>\n",
       "      <td>7.121212</td>\n",
       "    </tr>\n",
       "    <tr>\n",
       "      <th>643687</th>\n",
       "      <td>1827860</td>\n",
       "      <td>2016</td>\n",
       "      <td>3</td>\n",
       "      <td>1</td>\n",
       "      <td>0</td>\n",
       "      <td>0</td>\n",
       "      <td>1</td>\n",
       "      <td>1</td>\n",
       "      <td>0</td>\n",
       "      <td>1</td>\n",
       "      <td>...</td>\n",
       "      <td>0.000000</td>\n",
       "      <td>0.000000</td>\n",
       "      <td>0.294118</td>\n",
       "      <td>0.205882</td>\n",
       "      <td>34.705882</td>\n",
       "      <td>0.000000</td>\n",
       "      <td>10.352941</td>\n",
       "      <td>1.705882</td>\n",
       "      <td>1.705882</td>\n",
       "      <td>23.911765</td>\n",
       "    </tr>\n",
       "    <tr>\n",
       "      <th>643688</th>\n",
       "      <td>1827869</td>\n",
       "      <td>2013</td>\n",
       "      <td>1</td>\n",
       "      <td>1</td>\n",
       "      <td>1</td>\n",
       "      <td>0</td>\n",
       "      <td>0</td>\n",
       "      <td>0</td>\n",
       "      <td>1</td>\n",
       "      <td>0</td>\n",
       "      <td>...</td>\n",
       "      <td>0.000000</td>\n",
       "      <td>0.000000</td>\n",
       "      <td>0.000000</td>\n",
       "      <td>0.000000</td>\n",
       "      <td>0.000000</td>\n",
       "      <td>0.525424</td>\n",
       "      <td>0.000000</td>\n",
       "      <td>0.000000</td>\n",
       "      <td>0.000000</td>\n",
       "      <td>0.000000</td>\n",
       "    </tr>\n",
       "    <tr>\n",
       "      <th>643689</th>\n",
       "      <td>1827869</td>\n",
       "      <td>2014</td>\n",
       "      <td>2</td>\n",
       "      <td>0</td>\n",
       "      <td>0</td>\n",
       "      <td>1</td>\n",
       "      <td>0</td>\n",
       "      <td>0</td>\n",
       "      <td>1</td>\n",
       "      <td>0</td>\n",
       "      <td>...</td>\n",
       "      <td>0.000000</td>\n",
       "      <td>0.666667</td>\n",
       "      <td>0.666667</td>\n",
       "      <td>0.000000</td>\n",
       "      <td>0.000000</td>\n",
       "      <td>8.950000</td>\n",
       "      <td>1.033333</td>\n",
       "      <td>0.083333</td>\n",
       "      <td>0.083333</td>\n",
       "      <td>8.133333</td>\n",
       "    </tr>\n",
       "  </tbody>\n",
       "</table>\n",
       "<p>643690 rows × 164 columns</p>\n",
       "</div>"
      ],
      "text/plain": [
       "         persnr  year  nrEntry  ltue  employed_before  receipt_leh_before  \\\n",
       "0             7  2015        1     0                1                   0   \n",
       "1            18  2010        1     1                0                   0   \n",
       "2            18  2011        2     0                1                   0   \n",
       "3            18  2012        3     0                1                   0   \n",
       "4            18  2012        4     0                1                   0   \n",
       "...         ...   ...      ...   ...              ...                 ...   \n",
       "643685  1827860  2013        1     0                0                   0   \n",
       "643686  1827860  2015        2     1                0                   0   \n",
       "643687  1827860  2016        3     1                0                   0   \n",
       "643688  1827869  2013        1     1                1                   0   \n",
       "643689  1827869  2014        2     0                0                   1   \n",
       "\n",
       "        receipt_lhg_before  se_before  ASU_notue_seeking_before  \\\n",
       "0                        0          0                         1   \n",
       "1                        0          0                         0   \n",
       "2                        1          0                         1   \n",
       "3                        1          0                         1   \n",
       "4                        1          0                         1   \n",
       "...                    ...        ...                       ...   \n",
       "643685                   1          0                         0   \n",
       "643686                   1          0                         1   \n",
       "643687                   1          1                         0   \n",
       "643688                   0          0                         1   \n",
       "643689                   0          0                         1   \n",
       "\n",
       "        ASU_other_before  ...  minijob_tot_dur_byage  ft_tot_dur_byage  \\\n",
       "0                      0  ...               0.000000          0.000000   \n",
       "1                      0  ...               0.000000          0.000000   \n",
       "2                      0  ...               2.714286          2.714286   \n",
       "3                      0  ...               4.200000          4.200000   \n",
       "4                      0  ...               5.460000          5.460000   \n",
       "...                  ...  ...                    ...               ...   \n",
       "643685                 1  ...               0.000000          0.000000   \n",
       "643686                 0  ...               0.000000          0.000000   \n",
       "643687                 1  ...               0.000000          0.000000   \n",
       "643688                 0  ...               0.000000          0.000000   \n",
       "643689                 0  ...               0.000000          0.666667   \n",
       "\n",
       "        befrist_tot_dur_byage  leih_tot_dur_byage  LHG_tot_dur_byage  \\\n",
       "0                   15.043478            0.000000           0.000000   \n",
       "1                    0.000000            0.000000           0.000000   \n",
       "2                    0.000000            0.000000          10.775510   \n",
       "3                    0.000000            0.000000          12.100000   \n",
       "4                    0.000000            0.000000          13.360000   \n",
       "...                       ...                 ...                ...   \n",
       "643685               0.000000            0.000000           0.612903   \n",
       "643686               0.212121            0.212121          17.363636   \n",
       "643687               0.294118            0.205882          34.705882   \n",
       "643688               0.000000            0.000000           0.000000   \n",
       "643689               0.666667            0.000000           0.000000   \n",
       "\n",
       "        LEH_tot_dur_byage  almp_tot_dur_byage  almp_aw_tot_dur_byage  \\\n",
       "0                0.000000            0.000000               0.000000   \n",
       "1                0.000000            0.000000               0.000000   \n",
       "2                0.000000            8.367347               0.000000   \n",
       "3                0.000000            9.400000               0.000000   \n",
       "4                0.000000           10.320000               0.000000   \n",
       "...                   ...                 ...                    ...   \n",
       "643685           0.000000            0.000000               0.000000   \n",
       "643686           0.000000            8.909091               0.000000   \n",
       "643687           0.000000           10.352941               1.705882   \n",
       "643688           0.525424            0.000000               0.000000   \n",
       "643689           8.950000            1.033333               0.083333   \n",
       "\n",
       "        se_tot_dur_byage  seeking1_tot_dur_byage  \n",
       "0               0.000000                0.000000  \n",
       "1               0.000000                0.000000  \n",
       "2               0.000000                9.836735  \n",
       "3               0.000000                9.960000  \n",
       "4               0.000000               10.280000  \n",
       "...                  ...                     ...  \n",
       "643685          0.000000                0.000000  \n",
       "643686          0.000000                7.121212  \n",
       "643687          1.705882               23.911765  \n",
       "643688          0.000000                0.000000  \n",
       "643689          0.083333                8.133333  \n",
       "\n",
       "[643690 rows x 164 columns]"
      ]
     },
     "execution_count": 10,
     "metadata": {},
     "output_type": "execute_result"
    }
   ],
   "source": [
    "siab"
   ]
  },
  {
   "cell_type": "markdown",
   "id": "1f87e805",
   "metadata": {
    "papermill": {
     "duration": 0.010109,
     "end_time": "2025-08-19T19:06:06.354710",
     "exception": false,
     "start_time": "2025-08-19T19:06:06.344601",
     "status": "completed"
    },
    "tags": []
   },
   "source": [
    "# Splitting Data and Setting Training Data Size"
   ]
  },
  {
   "cell_type": "code",
   "execution_count": 11,
   "id": "910ae358",
   "metadata": {
    "execution": {
     "iopub.execute_input": "2025-08-19T19:06:06.374913Z",
     "iopub.status.busy": "2025-08-19T19:06:06.374591Z",
     "iopub.status.idle": "2025-08-19T19:06:07.406615Z",
     "shell.execute_reply": "2025-08-19T19:06:07.405841Z"
    },
    "papermill": {
     "duration": 1.043958,
     "end_time": "2025-08-19T19:06:07.408133",
     "exception": false,
     "start_time": "2025-08-19T19:06:06.364175",
     "status": "completed"
    },
    "tags": []
   },
   "outputs": [],
   "source": [
    "from fairness_multiverse.universe import sample_by_year_size\n",
    "\n",
    "siab_train = sample_by_year_size(siab,\n",
    "                               training_year=universe[\"training_year\"],\n",
    "                               training_size=universe[\"training_size\"])"
   ]
  },
  {
   "cell_type": "code",
   "execution_count": 12,
   "id": "919c8ff5",
   "metadata": {
    "execution": {
     "iopub.execute_input": "2025-08-19T19:06:07.433081Z",
     "iopub.status.busy": "2025-08-19T19:06:07.432309Z",
     "iopub.status.idle": "2025-08-19T19:06:07.441178Z",
     "shell.execute_reply": "2025-08-19T19:06:07.439804Z"
    },
    "papermill": {
     "duration": 0.025704,
     "end_time": "2025-08-19T19:06:07.443748",
     "exception": false,
     "start_time": "2025-08-19T19:06:07.418044",
     "status": "completed"
    },
    "tags": []
   },
   "outputs": [
    {
     "data": {
      "text/plain": [
       "(1000, 164)"
      ]
     },
     "execution_count": 12,
     "metadata": {},
     "output_type": "execute_result"
    }
   ],
   "source": [
    "siab_train.shape"
   ]
  },
  {
   "cell_type": "code",
   "execution_count": 13,
   "id": "feb13bf4",
   "metadata": {
    "execution": {
     "iopub.execute_input": "2025-08-19T19:06:07.481425Z",
     "iopub.status.busy": "2025-08-19T19:06:07.480340Z",
     "iopub.status.idle": "2025-08-19T19:06:07.496147Z",
     "shell.execute_reply": "2025-08-19T19:06:07.494524Z"
    },
    "papermill": {
     "duration": 0.031701,
     "end_time": "2025-08-19T19:06:07.497764",
     "exception": false,
     "start_time": "2025-08-19T19:06:07.466063",
     "status": "completed"
    },
    "tags": []
   },
   "outputs": [
    {
     "data": {
      "text/plain": [
       "year\n",
       "2010    200\n",
       "2011    200\n",
       "2012    200\n",
       "2013    200\n",
       "2014    200\n",
       "dtype: int64"
      ]
     },
     "metadata": {},
     "output_type": "display_data"
    }
   ],
   "source": [
    "display(siab_train.groupby(\"year\").size())"
   ]
  },
  {
   "cell_type": "code",
   "execution_count": 14,
   "id": "0997782f",
   "metadata": {
    "execution": {
     "iopub.execute_input": "2025-08-19T19:06:07.530906Z",
     "iopub.status.busy": "2025-08-19T19:06:07.529843Z",
     "iopub.status.idle": "2025-08-19T19:06:07.787186Z",
     "shell.execute_reply": "2025-08-19T19:06:07.785932Z"
    },
    "papermill": {
     "duration": 0.275858,
     "end_time": "2025-08-19T19:06:07.790076",
     "exception": false,
     "start_time": "2025-08-19T19:06:07.514218",
     "status": "completed"
    },
    "tags": []
   },
   "outputs": [],
   "source": [
    "#siab_train = siab_s[siab_s.year < 2015]\n",
    "siab_calib = siab[siab.year == 2015]\n",
    "siab_test = siab[siab.year == 2016]"
   ]
  },
  {
   "cell_type": "code",
   "execution_count": 15,
   "id": "2c1e4012",
   "metadata": {
    "execution": {
     "iopub.execute_input": "2025-08-19T19:06:07.829694Z",
     "iopub.status.busy": "2025-08-19T19:06:07.828126Z",
     "iopub.status.idle": "2025-08-19T19:06:07.838295Z",
     "shell.execute_reply": "2025-08-19T19:06:07.836629Z"
    },
    "papermill": {
     "duration": 0.025881,
     "end_time": "2025-08-19T19:06:07.839787",
     "exception": false,
     "start_time": "2025-08-19T19:06:07.813906",
     "status": "completed"
    },
    "tags": []
   },
   "outputs": [],
   "source": [
    "#siab_calib.shape"
   ]
  },
  {
   "cell_type": "code",
   "execution_count": 16,
   "id": "f66b54ca",
   "metadata": {
    "execution": {
     "iopub.execute_input": "2025-08-19T19:06:07.872013Z",
     "iopub.status.busy": "2025-08-19T19:06:07.871016Z",
     "iopub.status.idle": "2025-08-19T19:06:07.878831Z",
     "shell.execute_reply": "2025-08-19T19:06:07.877273Z"
    },
    "papermill": {
     "duration": 0.02915,
     "end_time": "2025-08-19T19:06:07.881545",
     "exception": false,
     "start_time": "2025-08-19T19:06:07.852395",
     "status": "completed"
    },
    "tags": []
   },
   "outputs": [],
   "source": [
    "#siab_test.shape"
   ]
  },
  {
   "cell_type": "code",
   "execution_count": 17,
   "id": "27e4384d",
   "metadata": {
    "execution": {
     "iopub.execute_input": "2025-08-19T19:06:07.920577Z",
     "iopub.status.busy": "2025-08-19T19:06:07.919505Z",
     "iopub.status.idle": "2025-08-19T19:06:07.932153Z",
     "shell.execute_reply": "2025-08-19T19:06:07.930927Z"
    },
    "papermill": {
     "duration": 0.027735,
     "end_time": "2025-08-19T19:06:07.933593",
     "exception": false,
     "start_time": "2025-08-19T19:06:07.905858",
     "status": "completed"
    },
    "tags": []
   },
   "outputs": [],
   "source": [
    "X_train = siab_train.iloc[:,4:164]\n",
    "y_train = siab_train.iloc[:, [3]]"
   ]
  },
  {
   "cell_type": "code",
   "execution_count": 18,
   "id": "08ee8389",
   "metadata": {
    "execution": {
     "iopub.execute_input": "2025-08-19T19:06:07.958990Z",
     "iopub.status.busy": "2025-08-19T19:06:07.957946Z",
     "iopub.status.idle": "2025-08-19T19:06:08.019206Z",
     "shell.execute_reply": "2025-08-19T19:06:08.018429Z"
    },
    "papermill": {
     "duration": 0.075686,
     "end_time": "2025-08-19T19:06:08.021985",
     "exception": false,
     "start_time": "2025-08-19T19:06:07.946299",
     "status": "completed"
    },
    "tags": []
   },
   "outputs": [],
   "source": [
    "X_calib = siab_calib.iloc[:,4:164]\n",
    "y_calib = siab_calib.iloc[:, [3]]"
   ]
  },
  {
   "cell_type": "code",
   "execution_count": 19,
   "id": "b7ff42e0",
   "metadata": {
    "execution": {
     "iopub.execute_input": "2025-08-19T19:06:08.060909Z",
     "iopub.status.busy": "2025-08-19T19:06:08.059822Z",
     "iopub.status.idle": "2025-08-19T19:06:08.112658Z",
     "shell.execute_reply": "2025-08-19T19:06:08.111942Z"
    },
    "papermill": {
     "duration": 0.068399,
     "end_time": "2025-08-19T19:06:08.114191",
     "exception": false,
     "start_time": "2025-08-19T19:06:08.045792",
     "status": "completed"
    },
    "tags": []
   },
   "outputs": [],
   "source": [
    "X_test = siab_test.iloc[:,4:164]\n",
    "y_true = siab_test.iloc[:, [3]]"
   ]
  },
  {
   "cell_type": "code",
   "execution_count": 20,
   "id": "0275101e",
   "metadata": {
    "execution": {
     "iopub.execute_input": "2025-08-19T19:06:08.137638Z",
     "iopub.status.busy": "2025-08-19T19:06:08.136572Z",
     "iopub.status.idle": "2025-08-19T19:06:08.246201Z",
     "shell.execute_reply": "2025-08-19T19:06:08.245530Z"
    },
    "papermill": {
     "duration": 0.123615,
     "end_time": "2025-08-19T19:06:08.248729",
     "exception": false,
     "start_time": "2025-08-19T19:06:08.125114",
     "status": "completed"
    },
    "tags": []
   },
   "outputs": [],
   "source": [
    "# Auxiliary data needed downstream in the pipeline\n",
    "\n",
    "org_train = X_train.copy()\n",
    "org_test = X_test.copy()\n",
    "org_calib = X_calib.copy()"
   ]
  },
  {
   "cell_type": "markdown",
   "id": "b461e618",
   "metadata": {
    "papermill": {
     "duration": 0.019616,
     "end_time": "2025-08-19T19:06:08.297049",
     "exception": false,
     "start_time": "2025-08-19T19:06:08.277433",
     "status": "completed"
    },
    "tags": []
   },
   "source": [
    "# Preprocessing Data"
   ]
  },
  {
   "cell_type": "code",
   "execution_count": 21,
   "id": "78e74c4b",
   "metadata": {
    "execution": {
     "iopub.execute_input": "2025-08-19T19:06:08.343812Z",
     "iopub.status.busy": "2025-08-19T19:06:08.342185Z",
     "iopub.status.idle": "2025-08-19T19:06:08.358417Z",
     "shell.execute_reply": "2025-08-19T19:06:08.356954Z"
    },
    "papermill": {
     "duration": 0.039414,
     "end_time": "2025-08-19T19:06:08.360186",
     "exception": false,
     "start_time": "2025-08-19T19:06:08.320772",
     "status": "completed"
    },
    "tags": []
   },
   "outputs": [],
   "source": [
    "# EXCLUDE PROTECTED FEATURES\n",
    "# --------------------------\n",
    "\n",
    "excluded_features = universe[\"exclude_features\"].split(\"-\")\n",
    "excluded_features_dictionary = {\n",
    "    \"nationality\": [\"maxdeutsch1\", \"maxdeutsch.Missing.\"],\n",
    "    \"sex\": [\"frau1\"],\n",
    "    \"age\": [\"age\"],\n",
    "}"
   ]
  },
  {
   "cell_type": "code",
   "execution_count": 22,
   "id": "f8e63555",
   "metadata": {
    "execution": {
     "iopub.execute_input": "2025-08-19T19:06:08.389313Z",
     "iopub.status.busy": "2025-08-19T19:06:08.388901Z",
     "iopub.status.idle": "2025-08-19T19:06:08.394272Z",
     "shell.execute_reply": "2025-08-19T19:06:08.393529Z"
    },
    "papermill": {
     "duration": 0.021446,
     "end_time": "2025-08-19T19:06:08.398126",
     "exception": false,
     "start_time": "2025-08-19T19:06:08.376680",
     "status": "completed"
    },
    "tags": []
   },
   "outputs": [],
   "source": [
    "excluded_features_columns = [\n",
    "    excluded_features_dictionary[f] for f in excluded_features if len(f) > 0 and f != \"none\"\n",
    "]"
   ]
  },
  {
   "cell_type": "code",
   "execution_count": 23,
   "id": "da781f7c",
   "metadata": {
    "execution": {
     "iopub.execute_input": "2025-08-19T19:06:08.430986Z",
     "iopub.status.busy": "2025-08-19T19:06:08.429837Z",
     "iopub.status.idle": "2025-08-19T19:06:08.436703Z",
     "shell.execute_reply": "2025-08-19T19:06:08.435646Z"
    },
    "papermill": {
     "duration": 0.019991,
     "end_time": "2025-08-19T19:06:08.438125",
     "exception": false,
     "start_time": "2025-08-19T19:06:08.418134",
     "status": "completed"
    },
    "tags": []
   },
   "outputs": [],
   "source": [
    "from fairness_multiverse.universe import flatten_once\n",
    "\n",
    "excluded_features_columns = flatten_once(excluded_features_columns)"
   ]
  },
  {
   "cell_type": "code",
   "execution_count": 24,
   "id": "37fef0f0",
   "metadata": {
    "execution": {
     "iopub.execute_input": "2025-08-19T19:06:08.479359Z",
     "iopub.status.busy": "2025-08-19T19:06:08.477977Z",
     "iopub.status.idle": "2025-08-19T19:06:08.494058Z",
     "shell.execute_reply": "2025-08-19T19:06:08.492792Z"
    },
    "papermill": {
     "duration": 0.043388,
     "end_time": "2025-08-19T19:06:08.496033",
     "exception": false,
     "start_time": "2025-08-19T19:06:08.452645",
     "status": "completed"
    },
    "tags": []
   },
   "outputs": [
    {
     "name": "stdout",
     "output_type": "stream",
     "text": [
      "Dropping features: ['age']\n"
     ]
    }
   ],
   "source": [
    "if len(excluded_features_columns) > 0:\n",
    "    print(f\"Dropping features: {excluded_features_columns}\")\n",
    "    X_train.drop(excluded_features_columns, axis=1, inplace=True)"
   ]
  },
  {
   "cell_type": "code",
   "execution_count": 25,
   "id": "d029e3e9",
   "metadata": {
    "execution": {
     "iopub.execute_input": "2025-08-19T19:06:08.541441Z",
     "iopub.status.busy": "2025-08-19T19:06:08.541047Z",
     "iopub.status.idle": "2025-08-19T19:06:08.605455Z",
     "shell.execute_reply": "2025-08-19T19:06:08.604764Z"
    },
    "papermill": {
     "duration": 0.081675,
     "end_time": "2025-08-19T19:06:08.606761",
     "exception": false,
     "start_time": "2025-08-19T19:06:08.525086",
     "status": "completed"
    },
    "tags": []
   },
   "outputs": [
    {
     "name": "stdout",
     "output_type": "stream",
     "text": [
      "Dropping features: ['age']\n"
     ]
    }
   ],
   "source": [
    "if len(excluded_features_columns) > 0:\n",
    "    print(f\"Dropping features: {excluded_features_columns}\")\n",
    "    X_test.drop(excluded_features_columns, axis=1, inplace=True)"
   ]
  },
  {
   "cell_type": "code",
   "execution_count": 26,
   "id": "01d571f0",
   "metadata": {
    "execution": {
     "iopub.execute_input": "2025-08-19T19:06:08.632859Z",
     "iopub.status.busy": "2025-08-19T19:06:08.631686Z",
     "iopub.status.idle": "2025-08-19T19:06:08.697431Z",
     "shell.execute_reply": "2025-08-19T19:06:08.693551Z"
    },
    "papermill": {
     "duration": 0.081805,
     "end_time": "2025-08-19T19:06:08.700827",
     "exception": false,
     "start_time": "2025-08-19T19:06:08.619022",
     "status": "completed"
    },
    "tags": []
   },
   "outputs": [
    {
     "name": "stdout",
     "output_type": "stream",
     "text": [
      "Dropping features: ['age']\n"
     ]
    }
   ],
   "source": [
    "if len(excluded_features_columns) > 0:\n",
    "    print(f\"Dropping features: {excluded_features_columns}\")\n",
    "    X_calib.drop(excluded_features_columns, axis=1, inplace=True)"
   ]
  },
  {
   "cell_type": "code",
   "execution_count": 27,
   "id": "3037356e",
   "metadata": {
    "execution": {
     "iopub.execute_input": "2025-08-19T19:06:08.736620Z",
     "iopub.status.busy": "2025-08-19T19:06:08.735094Z",
     "iopub.status.idle": "2025-08-19T19:06:08.744068Z",
     "shell.execute_reply": "2025-08-19T19:06:08.742588Z"
    },
    "papermill": {
     "duration": 0.02399,
     "end_time": "2025-08-19T19:06:08.745647",
     "exception": false,
     "start_time": "2025-08-19T19:06:08.721657",
     "status": "completed"
    },
    "tags": []
   },
   "outputs": [],
   "source": [
    "# EXCLUDE CERTAIN SUBGROUPS\n",
    "# -------------------------\n",
    "\n",
    "mode = universe.get(\"exclude_subgroups\", \"keep-all\") # Defaults to \"keep-all\" if the key is missing."
   ]
  },
  {
   "cell_type": "code",
   "execution_count": 28,
   "id": "9d1e63fd",
   "metadata": {
    "execution": {
     "iopub.execute_input": "2025-08-19T19:06:08.779417Z",
     "iopub.status.busy": "2025-08-19T19:06:08.771420Z",
     "iopub.status.idle": "2025-08-19T19:06:08.804669Z",
     "shell.execute_reply": "2025-08-19T19:06:08.803414Z"
    },
    "papermill": {
     "duration": 0.050239,
     "end_time": "2025-08-19T19:06:08.807174",
     "exception": false,
     "start_time": "2025-08-19T19:06:08.756935",
     "status": "completed"
    },
    "tags": []
   },
   "outputs": [],
   "source": [
    "if mode == \"keep-all\":\n",
    "    keep_mask = pd.Series(True, index=org_train.index)\n",
    "\n",
    "elif mode == \"drop-non-german\":\n",
    "    keep_mask = (org_train[\"maxdeutsch1\"] == 1) & (org_train[\"maxdeutsch.Missing.\"] == 0)\n",
    "\n",
    "else:\n",
    "    raise ValueError(f\"Unsupported mode for exclude_subgroups: {mode}\")"
   ]
  },
  {
   "cell_type": "code",
   "execution_count": 29,
   "id": "d3b65474",
   "metadata": {
    "execution": {
     "iopub.execute_input": "2025-08-19T19:06:08.846954Z",
     "iopub.status.busy": "2025-08-19T19:06:08.846399Z",
     "iopub.status.idle": "2025-08-19T19:06:08.853534Z",
     "shell.execute_reply": "2025-08-19T19:06:08.852642Z"
    },
    "papermill": {
     "duration": 0.021139,
     "end_time": "2025-08-19T19:06:08.854990",
     "exception": false,
     "start_time": "2025-08-19T19:06:08.833851",
     "status": "completed"
    },
    "tags": []
   },
   "outputs": [
    {
     "name": "stdout",
     "output_type": "stream",
     "text": [
      "Dropping 131 rows (13.10%) where mode='drop-non-german'\n"
     ]
    }
   ],
   "source": [
    "n_drop = (~keep_mask).sum() # Calculates how many rows are set to be dropped\n",
    "if n_drop > 0:\n",
    "    pct = n_drop / len(keep_mask) * 100\n",
    "    print(f\"Dropping {n_drop} rows ({pct:.2f}%) where mode='{mode}'\")"
   ]
  },
  {
   "cell_type": "code",
   "execution_count": 30,
   "id": "f44389b3",
   "metadata": {
    "execution": {
     "iopub.execute_input": "2025-08-19T19:06:08.878613Z",
     "iopub.status.busy": "2025-08-19T19:06:08.878018Z",
     "iopub.status.idle": "2025-08-19T19:06:08.885440Z",
     "shell.execute_reply": "2025-08-19T19:06:08.884489Z"
    },
    "papermill": {
     "duration": 0.020828,
     "end_time": "2025-08-19T19:06:08.886890",
     "exception": false,
     "start_time": "2025-08-19T19:06:08.866062",
     "status": "completed"
    },
    "tags": []
   },
   "outputs": [],
   "source": [
    "X_train = X_train[keep_mask]"
   ]
  },
  {
   "cell_type": "code",
   "execution_count": 31,
   "id": "ceca8c2a",
   "metadata": {
    "execution": {
     "iopub.execute_input": "2025-08-19T19:06:08.910416Z",
     "iopub.status.busy": "2025-08-19T19:06:08.909954Z",
     "iopub.status.idle": "2025-08-19T19:06:08.919015Z",
     "shell.execute_reply": "2025-08-19T19:06:08.918217Z"
    },
    "papermill": {
     "duration": 0.022873,
     "end_time": "2025-08-19T19:06:08.920504",
     "exception": false,
     "start_time": "2025-08-19T19:06:08.897631",
     "status": "completed"
    },
    "tags": []
   },
   "outputs": [],
   "source": [
    "y_train = y_train[keep_mask]"
   ]
  },
  {
   "cell_type": "markdown",
   "id": "04d31e2f",
   "metadata": {
    "papermill": {
     "duration": 0.010413,
     "end_time": "2025-08-19T19:06:08.944426",
     "exception": false,
     "start_time": "2025-08-19T19:06:08.934013",
     "status": "completed"
    },
    "tags": []
   },
   "source": [
    "# Model Training"
   ]
  },
  {
   "cell_type": "code",
   "execution_count": 32,
   "id": "db991733",
   "metadata": {
    "execution": {
     "iopub.execute_input": "2025-08-19T19:06:08.968158Z",
     "iopub.status.busy": "2025-08-19T19:06:08.967040Z",
     "iopub.status.idle": "2025-08-19T19:06:09.073713Z",
     "shell.execute_reply": "2025-08-19T19:06:09.072903Z"
    },
    "papermill": {
     "duration": 0.120718,
     "end_time": "2025-08-19T19:06:09.075493",
     "exception": false,
     "start_time": "2025-08-19T19:06:08.954775",
     "status": "completed"
    },
    "tags": []
   },
   "outputs": [],
   "source": [
    "from sklearn.linear_model import LogisticRegression\n",
    "from sklearn.ensemble import GradientBoostingClassifier, RandomForestClassifier\n",
    "\n",
    "if (universe[\"model\"] == \"logreg\"):\n",
    "    model = LogisticRegression() #penalty=\"none\", solver=\"newton-cg\", max_iter=1)\n",
    "elif (universe[\"model\"] == \"penalized_logreg\"):\n",
    "    model = LogisticRegression(penalty=\"l2\", C=0.1) #, solver=\"newton-cg\", max_iter=1)\n",
    "elif (universe[\"model\"] == \"rf\"):\n",
    "    model = RandomForestClassifier() # n_estimators=100, n_jobs=-1\n",
    "elif (universe[\"model\"] == \"gbm\"):\n",
    "    model = GradientBoostingClassifier()\n",
    "elif (universe[\"model\"] == \"elasticnet\"):\n",
    "    model = LogisticRegression(penalty = 'elasticnet', solver = 'saga', l1_ratio = 0.5) # max_iter=5000\n",
    "else:\n",
    "    raise \"Unsupported universe.model\""
   ]
  },
  {
   "cell_type": "code",
   "execution_count": 33,
   "id": "a4b5cd25",
   "metadata": {
    "execution": {
     "iopub.execute_input": "2025-08-19T19:06:09.101444Z",
     "iopub.status.busy": "2025-08-19T19:06:09.101000Z",
     "iopub.status.idle": "2025-08-19T19:06:09.113026Z",
     "shell.execute_reply": "2025-08-19T19:06:09.112350Z"
    },
    "papermill": {
     "duration": 0.025431,
     "end_time": "2025-08-19T19:06:09.114286",
     "exception": false,
     "start_time": "2025-08-19T19:06:09.088855",
     "status": "completed"
    },
    "tags": []
   },
   "outputs": [],
   "source": [
    "from sklearn.pipeline import Pipeline\n",
    "from sklearn.preprocessing import StandardScaler\n",
    "\n",
    "model = Pipeline([\n",
    "    #(\"continuous_processor\", continuous_processor),\n",
    "    #(\"categorical_preprocessor\", categorical_preprocessor),\n",
    "    (\"scale\", StandardScaler() if universe[\"scale\"] == \"scale\" else None), \n",
    "    (\"model\", model),\n",
    "])"
   ]
  },
  {
   "cell_type": "code",
   "execution_count": 34,
   "id": "283a904d",
   "metadata": {
    "execution": {
     "iopub.execute_input": "2025-08-19T19:06:09.142818Z",
     "iopub.status.busy": "2025-08-19T19:06:09.141084Z",
     "iopub.status.idle": "2025-08-19T19:06:09.195218Z",
     "shell.execute_reply": "2025-08-19T19:06:09.194610Z"
    },
    "papermill": {
     "duration": 0.070358,
     "end_time": "2025-08-19T19:06:09.198599",
     "exception": false,
     "start_time": "2025-08-19T19:06:09.128241",
     "status": "completed"
    },
    "tags": []
   },
   "outputs": [
    {
     "data": {
      "text/html": [
       "<style>#sk-container-id-1 {color: black;background-color: white;}#sk-container-id-1 pre{padding: 0;}#sk-container-id-1 div.sk-toggleable {background-color: white;}#sk-container-id-1 label.sk-toggleable__label {cursor: pointer;display: block;width: 100%;margin-bottom: 0;padding: 0.3em;box-sizing: border-box;text-align: center;}#sk-container-id-1 label.sk-toggleable__label-arrow:before {content: \"▸\";float: left;margin-right: 0.25em;color: #696969;}#sk-container-id-1 label.sk-toggleable__label-arrow:hover:before {color: black;}#sk-container-id-1 div.sk-estimator:hover label.sk-toggleable__label-arrow:before {color: black;}#sk-container-id-1 div.sk-toggleable__content {max-height: 0;max-width: 0;overflow: hidden;text-align: left;background-color: #f0f8ff;}#sk-container-id-1 div.sk-toggleable__content pre {margin: 0.2em;color: black;border-radius: 0.25em;background-color: #f0f8ff;}#sk-container-id-1 input.sk-toggleable__control:checked~div.sk-toggleable__content {max-height: 200px;max-width: 100%;overflow: auto;}#sk-container-id-1 input.sk-toggleable__control:checked~label.sk-toggleable__label-arrow:before {content: \"▾\";}#sk-container-id-1 div.sk-estimator input.sk-toggleable__control:checked~label.sk-toggleable__label {background-color: #d4ebff;}#sk-container-id-1 div.sk-label input.sk-toggleable__control:checked~label.sk-toggleable__label {background-color: #d4ebff;}#sk-container-id-1 input.sk-hidden--visually {border: 0;clip: rect(1px 1px 1px 1px);clip: rect(1px, 1px, 1px, 1px);height: 1px;margin: -1px;overflow: hidden;padding: 0;position: absolute;width: 1px;}#sk-container-id-1 div.sk-estimator {font-family: monospace;background-color: #f0f8ff;border: 1px dotted black;border-radius: 0.25em;box-sizing: border-box;margin-bottom: 0.5em;}#sk-container-id-1 div.sk-estimator:hover {background-color: #d4ebff;}#sk-container-id-1 div.sk-parallel-item::after {content: \"\";width: 100%;border-bottom: 1px solid gray;flex-grow: 1;}#sk-container-id-1 div.sk-label:hover label.sk-toggleable__label {background-color: #d4ebff;}#sk-container-id-1 div.sk-serial::before {content: \"\";position: absolute;border-left: 1px solid gray;box-sizing: border-box;top: 0;bottom: 0;left: 50%;z-index: 0;}#sk-container-id-1 div.sk-serial {display: flex;flex-direction: column;align-items: center;background-color: white;padding-right: 0.2em;padding-left: 0.2em;position: relative;}#sk-container-id-1 div.sk-item {position: relative;z-index: 1;}#sk-container-id-1 div.sk-parallel {display: flex;align-items: stretch;justify-content: center;background-color: white;position: relative;}#sk-container-id-1 div.sk-item::before, #sk-container-id-1 div.sk-parallel-item::before {content: \"\";position: absolute;border-left: 1px solid gray;box-sizing: border-box;top: 0;bottom: 0;left: 50%;z-index: -1;}#sk-container-id-1 div.sk-parallel-item {display: flex;flex-direction: column;z-index: 1;position: relative;background-color: white;}#sk-container-id-1 div.sk-parallel-item:first-child::after {align-self: flex-end;width: 50%;}#sk-container-id-1 div.sk-parallel-item:last-child::after {align-self: flex-start;width: 50%;}#sk-container-id-1 div.sk-parallel-item:only-child::after {width: 0;}#sk-container-id-1 div.sk-dashed-wrapped {border: 1px dashed gray;margin: 0 0.4em 0.5em 0.4em;box-sizing: border-box;padding-bottom: 0.4em;background-color: white;}#sk-container-id-1 div.sk-label label {font-family: monospace;font-weight: bold;display: inline-block;line-height: 1.2em;}#sk-container-id-1 div.sk-label-container {text-align: center;}#sk-container-id-1 div.sk-container {/* jupyter's `normalize.less` sets `[hidden] { display: none; }` but bootstrap.min.css set `[hidden] { display: none !important; }` so we also need the `!important` here to be able to override the default hidden behavior on the sphinx rendered scikit-learn.org. See: https://github.com/scikit-learn/scikit-learn/issues/21755 */display: inline-block !important;position: relative;}#sk-container-id-1 div.sk-text-repr-fallback {display: none;}</style><div id=\"sk-container-id-1\" class=\"sk-top-container\"><div class=\"sk-text-repr-fallback\"><pre>Pipeline(steps=[(&#x27;scale&#x27;, StandardScaler()),\n",
       "                (&#x27;model&#x27;, LogisticRegression(C=0.1))])</pre><b>In a Jupyter environment, please rerun this cell to show the HTML representation or trust the notebook. <br />On GitHub, the HTML representation is unable to render, please try loading this page with nbviewer.org.</b></div><div class=\"sk-container\" hidden><div class=\"sk-item sk-dashed-wrapped\"><div class=\"sk-label-container\"><div class=\"sk-label sk-toggleable\"><input class=\"sk-toggleable__control sk-hidden--visually\" id=\"sk-estimator-id-1\" type=\"checkbox\" ><label for=\"sk-estimator-id-1\" class=\"sk-toggleable__label sk-toggleable__label-arrow\">Pipeline</label><div class=\"sk-toggleable__content\"><pre>Pipeline(steps=[(&#x27;scale&#x27;, StandardScaler()),\n",
       "                (&#x27;model&#x27;, LogisticRegression(C=0.1))])</pre></div></div></div><div class=\"sk-serial\"><div class=\"sk-item\"><div class=\"sk-estimator sk-toggleable\"><input class=\"sk-toggleable__control sk-hidden--visually\" id=\"sk-estimator-id-2\" type=\"checkbox\" ><label for=\"sk-estimator-id-2\" class=\"sk-toggleable__label sk-toggleable__label-arrow\">StandardScaler</label><div class=\"sk-toggleable__content\"><pre>StandardScaler()</pre></div></div></div><div class=\"sk-item\"><div class=\"sk-estimator sk-toggleable\"><input class=\"sk-toggleable__control sk-hidden--visually\" id=\"sk-estimator-id-3\" type=\"checkbox\" ><label for=\"sk-estimator-id-3\" class=\"sk-toggleable__label sk-toggleable__label-arrow\">LogisticRegression</label><div class=\"sk-toggleable__content\"><pre>LogisticRegression(C=0.1)</pre></div></div></div></div></div></div></div>"
      ],
      "text/plain": [
       "Pipeline(steps=[('scale', StandardScaler()),\n",
       "                ('model', LogisticRegression(C=0.1))])"
      ]
     },
     "execution_count": 34,
     "metadata": {},
     "output_type": "execute_result"
    }
   ],
   "source": [
    "model.fit(X_train, y_train.values.ravel())"
   ]
  },
  {
   "cell_type": "code",
   "execution_count": 35,
   "id": "6e15e313",
   "metadata": {
    "execution": {
     "iopub.execute_input": "2025-08-19T19:06:09.239425Z",
     "iopub.status.busy": "2025-08-19T19:06:09.238673Z",
     "iopub.status.idle": "2025-08-19T19:06:09.454994Z",
     "shell.execute_reply": "2025-08-19T19:06:09.454334Z"
    },
    "papermill": {
     "duration": 0.235298,
     "end_time": "2025-08-19T19:06:09.458245",
     "exception": false,
     "start_time": "2025-08-19T19:06:09.222947",
     "status": "completed"
    },
    "tags": []
   },
   "outputs": [
    {
     "data": {
      "text/plain": [
       "0.841611860439193"
      ]
     },
     "execution_count": 35,
     "metadata": {},
     "output_type": "execute_result"
    }
   ],
   "source": [
    "from fairness_multiverse.universe import predict_w_threshold\n",
    "\n",
    "probs_test = model.predict_proba(X_test)\n",
    "\n",
    "'''\n",
    "Below code returns a boolean array (or binary 0/1 array depending on how it’s used) where each element \n",
    "is True if the probability of class 1 is greater than or equal to the threshold, and False otherwise.\n",
    "'''\n",
    "y_pred_default = predict_w_threshold(probs_test, 0.5)\n",
    "\n",
    "from sklearn.metrics import accuracy_score\n",
    "\n",
    "# Naive prediction\n",
    "accuracy_score(y_true = y_true, y_pred = y_pred_default)"
   ]
  },
  {
   "cell_type": "code",
   "execution_count": 36,
   "id": "6f14067c",
   "metadata": {
    "execution": {
     "iopub.execute_input": "2025-08-19T19:06:09.496874Z",
     "iopub.status.busy": "2025-08-19T19:06:09.496233Z",
     "iopub.status.idle": "2025-08-19T19:06:09.681188Z",
     "shell.execute_reply": "2025-08-19T19:06:09.680461Z"
    },
    "papermill": {
     "duration": 0.200436,
     "end_time": "2025-08-19T19:06:09.682451",
     "exception": false,
     "start_time": "2025-08-19T19:06:09.482015",
     "status": "completed"
    },
    "tags": []
   },
   "outputs": [
    {
     "data": {
      "text/plain": [
       "array([0, 0, 0, ..., 0, 0, 0])"
      ]
     },
     "execution_count": 36,
     "metadata": {},
     "output_type": "execute_result"
    }
   ],
   "source": [
    "model.predict(X_test)"
   ]
  },
  {
   "cell_type": "markdown",
   "id": "3759920c",
   "metadata": {
    "papermill": {
     "duration": 0.017211,
     "end_time": "2025-08-19T19:06:09.714457",
     "exception": false,
     "start_time": "2025-08-19T19:06:09.697246",
     "status": "completed"
    },
    "tags": []
   },
   "source": [
    "# Conformal Prediction"
   ]
  },
  {
   "cell_type": "code",
   "execution_count": 37,
   "id": "14b27f59",
   "metadata": {
    "execution": {
     "iopub.execute_input": "2025-08-19T19:06:09.739593Z",
     "iopub.status.busy": "2025-08-19T19:06:09.739284Z",
     "iopub.status.idle": "2025-08-19T19:06:09.743556Z",
     "shell.execute_reply": "2025-08-19T19:06:09.742885Z"
    },
    "papermill": {
     "duration": 0.019262,
     "end_time": "2025-08-19T19:06:09.746326",
     "exception": false,
     "start_time": "2025-08-19T19:06:09.727064",
     "status": "completed"
    },
    "tags": []
   },
   "outputs": [],
   "source": [
    "# Miscoverage level for conformal prediction (10% allowed error rate => 90% target coverage)\n",
    "alpha = 0.1"
   ]
  },
  {
   "cell_type": "code",
   "execution_count": 38,
   "id": "59102472",
   "metadata": {
    "execution": {
     "iopub.execute_input": "2025-08-19T19:06:09.770626Z",
     "iopub.status.busy": "2025-08-19T19:06:09.770204Z",
     "iopub.status.idle": "2025-08-19T19:06:09.955298Z",
     "shell.execute_reply": "2025-08-19T19:06:09.954449Z"
    },
    "papermill": {
     "duration": 0.199994,
     "end_time": "2025-08-19T19:06:09.958113",
     "exception": false,
     "start_time": "2025-08-19T19:06:09.758119",
     "status": "completed"
    },
    "tags": []
   },
   "outputs": [],
   "source": [
    "probs_calib = model.predict_proba(X_calib)"
   ]
  },
  {
   "cell_type": "code",
   "execution_count": 39,
   "id": "a792d4dd",
   "metadata": {
    "execution": {
     "iopub.execute_input": "2025-08-19T19:06:10.001178Z",
     "iopub.status.busy": "2025-08-19T19:06:10.000434Z",
     "iopub.status.idle": "2025-08-19T19:06:10.008508Z",
     "shell.execute_reply": "2025-08-19T19:06:10.007148Z"
    },
    "papermill": {
     "duration": 0.024809,
     "end_time": "2025-08-19T19:06:10.010030",
     "exception": false,
     "start_time": "2025-08-19T19:06:09.985221",
     "status": "completed"
    },
    "tags": []
   },
   "outputs": [],
   "source": [
    "y_calib = y_calib.values.ravel().astype(int)"
   ]
  },
  {
   "cell_type": "code",
   "execution_count": 40,
   "id": "650fd033",
   "metadata": {
    "execution": {
     "iopub.execute_input": "2025-08-19T19:06:10.037264Z",
     "iopub.status.busy": "2025-08-19T19:06:10.036561Z",
     "iopub.status.idle": "2025-08-19T19:06:10.046824Z",
     "shell.execute_reply": "2025-08-19T19:06:10.045824Z"
    },
    "papermill": {
     "duration": 0.025554,
     "end_time": "2025-08-19T19:06:10.048588",
     "exception": false,
     "start_time": "2025-08-19T19:06:10.023034",
     "status": "completed"
    },
    "tags": []
   },
   "outputs": [],
   "source": [
    "from fairness_multiverse.conformal import compute_nc_scores\n",
    "\n",
    "# Compute nonconformity scores on calibration set (1 - probability of true class)\n",
    "nc_scores = compute_nc_scores(probs_calib, y_calib)"
   ]
  },
  {
   "cell_type": "code",
   "execution_count": 41,
   "id": "28ada44c",
   "metadata": {
    "execution": {
     "iopub.execute_input": "2025-08-19T19:06:10.078629Z",
     "iopub.status.busy": "2025-08-19T19:06:10.077943Z",
     "iopub.status.idle": "2025-08-19T19:06:10.087440Z",
     "shell.execute_reply": "2025-08-19T19:06:10.086294Z"
    },
    "papermill": {
     "duration": 0.02497,
     "end_time": "2025-08-19T19:06:10.089221",
     "exception": false,
     "start_time": "2025-08-19T19:06:10.064251",
     "status": "completed"
    },
    "tags": []
   },
   "outputs": [],
   "source": [
    "from fairness_multiverse.conformal import find_threshold\n",
    "\n",
    "# Find conformal threshold q_hat for the given alpha (split conformal method)\n",
    "q_hat = find_threshold(nc_scores, alpha)"
   ]
  },
  {
   "cell_type": "code",
   "execution_count": 42,
   "id": "df56469e",
   "metadata": {
    "execution": {
     "iopub.execute_input": "2025-08-19T19:06:10.119244Z",
     "iopub.status.busy": "2025-08-19T19:06:10.118528Z",
     "iopub.status.idle": "2025-08-19T19:06:10.127476Z",
     "shell.execute_reply": "2025-08-19T19:06:10.126400Z"
    },
    "papermill": {
     "duration": 0.023971,
     "end_time": "2025-08-19T19:06:10.129030",
     "exception": false,
     "start_time": "2025-08-19T19:06:10.105059",
     "status": "completed"
    },
    "tags": []
   },
   "outputs": [
    {
     "data": {
      "text/plain": [
       "0.7391654440691883"
      ]
     },
     "execution_count": 42,
     "metadata": {},
     "output_type": "execute_result"
    }
   ],
   "source": [
    "q_hat"
   ]
  },
  {
   "cell_type": "code",
   "execution_count": 43,
   "id": "aa1f5faa",
   "metadata": {
    "execution": {
     "iopub.execute_input": "2025-08-19T19:06:10.158244Z",
     "iopub.status.busy": "2025-08-19T19:06:10.157545Z",
     "iopub.status.idle": "2025-08-19T19:06:10.813236Z",
     "shell.execute_reply": "2025-08-19T19:06:10.812040Z"
    },
    "papermill": {
     "duration": 0.672455,
     "end_time": "2025-08-19T19:06:10.816324",
     "exception": false,
     "start_time": "2025-08-19T19:06:10.143869",
     "status": "completed"
    },
    "tags": []
   },
   "outputs": [],
   "source": [
    "from fairness_multiverse.conformal import predict_conformal_sets\n",
    "\n",
    "# Generate prediction sets for each test example\n",
    "pred_sets = predict_conformal_sets(model, X_test, q_hat)"
   ]
  },
  {
   "cell_type": "code",
   "execution_count": 44,
   "id": "97f67a6b",
   "metadata": {
    "execution": {
     "iopub.execute_input": "2025-08-19T19:06:10.863094Z",
     "iopub.status.busy": "2025-08-19T19:06:10.859707Z",
     "iopub.status.idle": "2025-08-19T19:06:10.883651Z",
     "shell.execute_reply": "2025-08-19T19:06:10.878774Z"
    },
    "papermill": {
     "duration": 0.042764,
     "end_time": "2025-08-19T19:06:10.885615",
     "exception": false,
     "start_time": "2025-08-19T19:06:10.842851",
     "status": "completed"
    },
    "tags": []
   },
   "outputs": [],
   "source": [
    "y_true = y_true.squeeze()"
   ]
  },
  {
   "cell_type": "code",
   "execution_count": 45,
   "id": "e700e9a7",
   "metadata": {
    "execution": {
     "iopub.execute_input": "2025-08-19T19:06:10.917845Z",
     "iopub.status.busy": "2025-08-19T19:06:10.916735Z",
     "iopub.status.idle": "2025-08-19T19:06:11.473079Z",
     "shell.execute_reply": "2025-08-19T19:06:11.471775Z"
    },
    "papermill": {
     "duration": 0.571907,
     "end_time": "2025-08-19T19:06:11.474881",
     "exception": false,
     "start_time": "2025-08-19T19:06:10.902974",
     "status": "completed"
    },
    "tags": []
   },
   "outputs": [],
   "source": [
    "from fairness_multiverse.conformal import evaluate_sets\n",
    "\n",
    "# Evaluate coverage and average set size on test data\n",
    "metrics = evaluate_sets(pred_sets, y_true)"
   ]
  },
  {
   "cell_type": "markdown",
   "id": "efbacec0",
   "metadata": {
    "papermill": {
     "duration": 0.011779,
     "end_time": "2025-08-19T19:06:11.499036",
     "exception": false,
     "start_time": "2025-08-19T19:06:11.487257",
     "status": "completed"
    },
    "tags": []
   },
   "source": [
    "# CP Metrics"
   ]
  },
  {
   "cell_type": "code",
   "execution_count": 46,
   "id": "9de55fb1",
   "metadata": {
    "execution": {
     "iopub.execute_input": "2025-08-19T19:06:11.525916Z",
     "iopub.status.busy": "2025-08-19T19:06:11.524637Z",
     "iopub.status.idle": "2025-08-19T19:06:11.538871Z",
     "shell.execute_reply": "2025-08-19T19:06:11.537863Z"
    },
    "papermill": {
     "duration": 0.030052,
     "end_time": "2025-08-19T19:06:11.540594",
     "exception": false,
     "start_time": "2025-08-19T19:06:11.510542",
     "status": "completed"
    },
    "tags": []
   },
   "outputs": [
    {
     "data": {
      "text/plain": [
       "{'coverage': 0.9105227956749526, 'avg_size': 1.1838368074908037}"
      ]
     },
     "execution_count": 46,
     "metadata": {},
     "output_type": "execute_result"
    }
   ],
   "source": [
    "metrics"
   ]
  },
  {
   "cell_type": "code",
   "execution_count": 47,
   "id": "64c340a1",
   "metadata": {
    "execution": {
     "iopub.execute_input": "2025-08-19T19:06:11.573189Z",
     "iopub.status.busy": "2025-08-19T19:06:11.572430Z",
     "iopub.status.idle": "2025-08-19T19:06:11.583152Z",
     "shell.execute_reply": "2025-08-19T19:06:11.581731Z"
    },
    "papermill": {
     "duration": 0.026414,
     "end_time": "2025-08-19T19:06:11.584657",
     "exception": false,
     "start_time": "2025-08-19T19:06:11.558243",
     "status": "completed"
    },
    "tags": []
   },
   "outputs": [],
   "source": [
    "example_universe = universe.copy()\n",
    "universe_training_year = example_universe.get(\"training_year\")\n",
    "universe_training_size = example_universe.get(\"training_size\")\n",
    "universe_scale = example_universe.get(\"scale\")\n",
    "universe_model = example_universe.get(\"model\")\n",
    "universe_exclude_features = example_universe.get(\"exclude_features\")\n",
    "universe_exclude_subgroups = example_universe.get(\"exclude_subgroups\")"
   ]
  },
  {
   "cell_type": "code",
   "execution_count": 48,
   "id": "dbb53cb4",
   "metadata": {
    "execution": {
     "iopub.execute_input": "2025-08-19T19:06:11.616122Z",
     "iopub.status.busy": "2025-08-19T19:06:11.615400Z",
     "iopub.status.idle": "2025-08-19T19:06:11.626035Z",
     "shell.execute_reply": "2025-08-19T19:06:11.624565Z"
    },
    "papermill": {
     "duration": 0.026212,
     "end_time": "2025-08-19T19:06:11.627748",
     "exception": false,
     "start_time": "2025-08-19T19:06:11.601536",
     "status": "completed"
    },
    "tags": []
   },
   "outputs": [],
   "source": [
    "cp_metrics_dict = {\n",
    "    \"universe_id\": [universe_id],\n",
    "    \"universe_training_year\": [universe_training_year],\n",
    "    \"universe_training_size\": [universe_training_size],\n",
    "    \"universe_scale\": [universe_scale],\n",
    "    \"universe_model\": [universe_model],\n",
    "    \"universe_exclude_features\": [universe_exclude_features],\n",
    "    \"universe_exclude_subgroups\": [universe_exclude_subgroups],\n",
    "    \"q_hat\": [q_hat],\n",
    "    \"coverage\": [metrics[\"coverage\"]],\n",
    "    \"avg_size\": [metrics[\"avg_size\"]],\n",
    "}"
   ]
  },
  {
   "cell_type": "code",
   "execution_count": 49,
   "id": "0d70d4b2",
   "metadata": {
    "execution": {
     "iopub.execute_input": "2025-08-19T19:06:11.662117Z",
     "iopub.status.busy": "2025-08-19T19:06:11.661407Z",
     "iopub.status.idle": "2025-08-19T19:06:11.673609Z",
     "shell.execute_reply": "2025-08-19T19:06:11.672611Z"
    },
    "papermill": {
     "duration": 0.028637,
     "end_time": "2025-08-19T19:06:11.675401",
     "exception": false,
     "start_time": "2025-08-19T19:06:11.646764",
     "status": "completed"
    },
    "tags": []
   },
   "outputs": [],
   "source": [
    "cp_metrics_df = pd.DataFrame(cp_metrics_dict)"
   ]
  },
  {
   "cell_type": "code",
   "execution_count": 50,
   "id": "b494403c",
   "metadata": {
    "execution": {
     "iopub.execute_input": "2025-08-19T19:06:11.706634Z",
     "iopub.status.busy": "2025-08-19T19:06:11.703774Z",
     "iopub.status.idle": "2025-08-19T19:06:11.737684Z",
     "shell.execute_reply": "2025-08-19T19:06:11.736727Z"
    },
    "papermill": {
     "duration": 0.05038,
     "end_time": "2025-08-19T19:06:11.740117",
     "exception": false,
     "start_time": "2025-08-19T19:06:11.689737",
     "status": "completed"
    },
    "tags": []
   },
   "outputs": [
    {
     "data": {
      "text/html": [
       "<div>\n",
       "<style scoped>\n",
       "    .dataframe tbody tr th:only-of-type {\n",
       "        vertical-align: middle;\n",
       "    }\n",
       "\n",
       "    .dataframe tbody tr th {\n",
       "        vertical-align: top;\n",
       "    }\n",
       "\n",
       "    .dataframe thead th {\n",
       "        text-align: right;\n",
       "    }\n",
       "</style>\n",
       "<table border=\"1\" class=\"dataframe\">\n",
       "  <thead>\n",
       "    <tr style=\"text-align: right;\">\n",
       "      <th></th>\n",
       "      <th>universe_id</th>\n",
       "      <th>universe_training_year</th>\n",
       "      <th>universe_training_size</th>\n",
       "      <th>universe_scale</th>\n",
       "      <th>universe_model</th>\n",
       "      <th>universe_exclude_features</th>\n",
       "      <th>universe_exclude_subgroups</th>\n",
       "      <th>q_hat</th>\n",
       "      <th>coverage</th>\n",
       "      <th>avg_size</th>\n",
       "    </tr>\n",
       "  </thead>\n",
       "  <tbody>\n",
       "    <tr>\n",
       "      <th>0</th>\n",
       "      <td>a690f2fbfd593544182318486310c850</td>\n",
       "      <td>2010_14</td>\n",
       "      <td>1k</td>\n",
       "      <td>scale</td>\n",
       "      <td>penalized_logreg</td>\n",
       "      <td>age</td>\n",
       "      <td>drop-non-german</td>\n",
       "      <td>0.739165</td>\n",
       "      <td>0.910523</td>\n",
       "      <td>1.183837</td>\n",
       "    </tr>\n",
       "  </tbody>\n",
       "</table>\n",
       "</div>"
      ],
      "text/plain": [
       "                        universe_id universe_training_year  \\\n",
       "0  a690f2fbfd593544182318486310c850                2010_14   \n",
       "\n",
       "  universe_training_size universe_scale    universe_model  \\\n",
       "0                     1k          scale  penalized_logreg   \n",
       "\n",
       "  universe_exclude_features universe_exclude_subgroups     q_hat  coverage  \\\n",
       "0                       age            drop-non-german  0.739165  0.910523   \n",
       "\n",
       "   avg_size  \n",
       "0  1.183837  "
      ]
     },
     "execution_count": 50,
     "metadata": {},
     "output_type": "execute_result"
    }
   ],
   "source": [
    "cp_metrics_df"
   ]
  },
  {
   "cell_type": "markdown",
   "id": "ed608b0b",
   "metadata": {
    "papermill": {
     "duration": 0.01342,
     "end_time": "2025-08-19T19:06:11.779849",
     "exception": false,
     "start_time": "2025-08-19T19:06:11.766429",
     "status": "completed"
    },
    "tags": []
   },
   "source": [
    "Conditional coverage & looking at subgroups"
   ]
  },
  {
   "cell_type": "code",
   "execution_count": 51,
   "id": "8968c366",
   "metadata": {
    "execution": {
     "iopub.execute_input": "2025-08-19T19:06:11.807058Z",
     "iopub.status.busy": "2025-08-19T19:06:11.806256Z",
     "iopub.status.idle": "2025-08-19T19:06:12.095636Z",
     "shell.execute_reply": "2025-08-19T19:06:12.094818Z"
    },
    "papermill": {
     "duration": 0.306877,
     "end_time": "2025-08-19T19:06:12.098540",
     "exception": false,
     "start_time": "2025-08-19T19:06:11.791663",
     "status": "completed"
    },
    "tags": []
   },
   "outputs": [],
   "source": [
    "from fairness_multiverse.conformal import build_cp_groups\n",
    "\n",
    "cp_groups_df = build_cp_groups(pred_sets, y_true, X_test.index, org_test)"
   ]
  },
  {
   "cell_type": "code",
   "execution_count": 52,
   "id": "292ddabf",
   "metadata": {
    "execution": {
     "iopub.execute_input": "2025-08-19T19:06:12.140751Z",
     "iopub.status.busy": "2025-08-19T19:06:12.139993Z",
     "iopub.status.idle": "2025-08-19T19:06:13.029190Z",
     "shell.execute_reply": "2025-08-19T19:06:13.024172Z"
    },
    "papermill": {
     "duration": 0.908954,
     "end_time": "2025-08-19T19:06:13.033600",
     "exception": false,
     "start_time": "2025-08-19T19:06:12.124646",
     "status": "completed"
    },
    "tags": []
   },
   "outputs": [],
   "source": [
    "# Define covered = 1 if true_label is in the predicted set\n",
    "cp_groups_df['covered'] = cp_groups_df.apply(\n",
    "    lambda r: int(r['true_label'] in r['pred_set']),\n",
    "    axis=1\n",
    ")"
   ]
  },
  {
   "cell_type": "code",
   "execution_count": 53,
   "id": "3a261692",
   "metadata": {
    "execution": {
     "iopub.execute_input": "2025-08-19T19:06:13.084416Z",
     "iopub.status.busy": "2025-08-19T19:06:13.083420Z",
     "iopub.status.idle": "2025-08-19T19:06:13.107320Z",
     "shell.execute_reply": "2025-08-19T19:06:13.105921Z"
    },
    "papermill": {
     "duration": 0.052109,
     "end_time": "2025-08-19T19:06:13.109195",
     "exception": false,
     "start_time": "2025-08-19T19:06:13.057086",
     "status": "completed"
    },
    "tags": []
   },
   "outputs": [],
   "source": [
    "subgroups = ['frau1','nongerman','nongerman_male','nongerman_female']\n",
    "\n",
    "# Conditional coverage for subgroup==1\n",
    "cond_coverage = {\n",
    "    g: cp_groups_df.loc[cp_groups_df[g]==1, 'covered'].mean()\n",
    "    for g in subgroups\n",
    "}"
   ]
  },
  {
   "cell_type": "code",
   "execution_count": 54,
   "id": "894fd600",
   "metadata": {
    "execution": {
     "iopub.execute_input": "2025-08-19T19:06:13.138737Z",
     "iopub.status.busy": "2025-08-19T19:06:13.138230Z",
     "iopub.status.idle": "2025-08-19T19:06:13.146587Z",
     "shell.execute_reply": "2025-08-19T19:06:13.145744Z"
    },
    "papermill": {
     "duration": 0.02559,
     "end_time": "2025-08-19T19:06:13.149281",
     "exception": false,
     "start_time": "2025-08-19T19:06:13.123691",
     "status": "completed"
    },
    "tags": []
   },
   "outputs": [
    {
     "data": {
      "text/plain": [
       "{'frau1': 0.9112818439142741,\n",
       " 'nongerman': 0.9095042946162915,\n",
       " 'nongerman_male': 0.924614968927317,\n",
       " 'nongerman_female': 0.8845007451564829}"
      ]
     },
     "execution_count": 54,
     "metadata": {},
     "output_type": "execute_result"
    }
   ],
   "source": [
    "cond_coverage"
   ]
  },
  {
   "cell_type": "code",
   "execution_count": 55,
   "id": "942895c7",
   "metadata": {
    "execution": {
     "iopub.execute_input": "2025-08-19T19:06:13.175713Z",
     "iopub.status.busy": "2025-08-19T19:06:13.174935Z",
     "iopub.status.idle": "2025-08-19T19:06:13.184775Z",
     "shell.execute_reply": "2025-08-19T19:06:13.183573Z"
    },
    "papermill": {
     "duration": 0.024688,
     "end_time": "2025-08-19T19:06:13.186331",
     "exception": false,
     "start_time": "2025-08-19T19:06:13.161643",
     "status": "completed"
    },
    "tags": []
   },
   "outputs": [],
   "source": [
    "for subgroup, cov in cond_coverage.items():\n",
    "    cp_metrics_df[f\"cov_{subgroup}\"] = cov"
   ]
  },
  {
   "cell_type": "code",
   "execution_count": 56,
   "id": "3970120f",
   "metadata": {
    "execution": {
     "iopub.execute_input": "2025-08-19T19:06:13.212804Z",
     "iopub.status.busy": "2025-08-19T19:06:13.212276Z",
     "iopub.status.idle": "2025-08-19T19:06:13.242328Z",
     "shell.execute_reply": "2025-08-19T19:06:13.240935Z"
    },
    "papermill": {
     "duration": 0.044959,
     "end_time": "2025-08-19T19:06:13.243785",
     "exception": false,
     "start_time": "2025-08-19T19:06:13.198826",
     "status": "completed"
    },
    "tags": []
   },
   "outputs": [
    {
     "data": {
      "text/html": [
       "<div>\n",
       "<style scoped>\n",
       "    .dataframe tbody tr th:only-of-type {\n",
       "        vertical-align: middle;\n",
       "    }\n",
       "\n",
       "    .dataframe tbody tr th {\n",
       "        vertical-align: top;\n",
       "    }\n",
       "\n",
       "    .dataframe thead th {\n",
       "        text-align: right;\n",
       "    }\n",
       "</style>\n",
       "<table border=\"1\" class=\"dataframe\">\n",
       "  <thead>\n",
       "    <tr style=\"text-align: right;\">\n",
       "      <th></th>\n",
       "      <th>universe_id</th>\n",
       "      <th>universe_training_year</th>\n",
       "      <th>universe_training_size</th>\n",
       "      <th>universe_scale</th>\n",
       "      <th>universe_model</th>\n",
       "      <th>universe_exclude_features</th>\n",
       "      <th>universe_exclude_subgroups</th>\n",
       "      <th>q_hat</th>\n",
       "      <th>coverage</th>\n",
       "      <th>avg_size</th>\n",
       "      <th>cov_frau1</th>\n",
       "      <th>cov_nongerman</th>\n",
       "      <th>cov_nongerman_male</th>\n",
       "      <th>cov_nongerman_female</th>\n",
       "    </tr>\n",
       "  </thead>\n",
       "  <tbody>\n",
       "    <tr>\n",
       "      <th>0</th>\n",
       "      <td>a690f2fbfd593544182318486310c850</td>\n",
       "      <td>2010_14</td>\n",
       "      <td>1k</td>\n",
       "      <td>scale</td>\n",
       "      <td>penalized_logreg</td>\n",
       "      <td>age</td>\n",
       "      <td>drop-non-german</td>\n",
       "      <td>0.739165</td>\n",
       "      <td>0.910523</td>\n",
       "      <td>1.183837</td>\n",
       "      <td>0.911282</td>\n",
       "      <td>0.909504</td>\n",
       "      <td>0.924615</td>\n",
       "      <td>0.884501</td>\n",
       "    </tr>\n",
       "  </tbody>\n",
       "</table>\n",
       "</div>"
      ],
      "text/plain": [
       "                        universe_id universe_training_year  \\\n",
       "0  a690f2fbfd593544182318486310c850                2010_14   \n",
       "\n",
       "  universe_training_size universe_scale    universe_model  \\\n",
       "0                     1k          scale  penalized_logreg   \n",
       "\n",
       "  universe_exclude_features universe_exclude_subgroups     q_hat  coverage  \\\n",
       "0                       age            drop-non-german  0.739165  0.910523   \n",
       "\n",
       "   avg_size  cov_frau1  cov_nongerman  cov_nongerman_male  \\\n",
       "0  1.183837   0.911282       0.909504            0.924615   \n",
       "\n",
       "   cov_nongerman_female  \n",
       "0              0.884501  "
      ]
     },
     "execution_count": 56,
     "metadata": {},
     "output_type": "execute_result"
    }
   ],
   "source": [
    "cp_metrics_df"
   ]
  },
  {
   "cell_type": "markdown",
   "id": "3fc519cc",
   "metadata": {
    "papermill": {
     "duration": 0.026444,
     "end_time": "2025-08-19T19:06:13.285494",
     "exception": false,
     "start_time": "2025-08-19T19:06:13.259050",
     "status": "completed"
    },
    "tags": []
   },
   "source": [
    "# (Fairness) Metrics"
   ]
  },
  {
   "cell_type": "code",
   "execution_count": 57,
   "id": "a2e5e155",
   "metadata": {
    "execution": {
     "iopub.execute_input": "2025-08-19T19:06:13.315569Z",
     "iopub.status.busy": "2025-08-19T19:06:13.314664Z",
     "iopub.status.idle": "2025-08-19T19:06:13.347177Z",
     "shell.execute_reply": "2025-08-19T19:06:13.345904Z"
    },
    "papermill": {
     "duration": 0.050709,
     "end_time": "2025-08-19T19:06:13.350010",
     "exception": false,
     "start_time": "2025-08-19T19:06:13.299301",
     "status": "completed"
    },
    "tags": []
   },
   "outputs": [],
   "source": [
    "colname_to_bin = \"maxdeutsch1\"\n",
    "majority_value = org_train[colname_to_bin].mode()[0]\n",
    "\n",
    "org_test[\"majmin\"] = np.where(org_test[colname_to_bin] == majority_value, \"majority\", \"minority\")"
   ]
  },
  {
   "cell_type": "code",
   "execution_count": 58,
   "id": "17e3e4d5",
   "metadata": {
    "execution": {
     "iopub.execute_input": "2025-08-19T19:06:13.392519Z",
     "iopub.status.busy": "2025-08-19T19:06:13.391717Z",
     "iopub.status.idle": "2025-08-19T19:06:15.136001Z",
     "shell.execute_reply": "2025-08-19T19:06:15.133829Z"
    },
    "papermill": {
     "duration": 1.761913,
     "end_time": "2025-08-19T19:06:15.138181",
     "exception": false,
     "start_time": "2025-08-19T19:06:13.376268",
     "status": "completed"
    },
    "tags": []
   },
   "outputs": [],
   "source": [
    "example_universe = universe.copy()\n",
    "example_universe[\"cutoff\"] = example_universe[\"cutoff\"][0]\n",
    "example_universe[\"eval_fairness_grouping\"] = example_universe[\"eval_fairness_grouping\"][0]\n",
    "fairness_dict, metric_frame = universe_analysis.compute_metrics(\n",
    "    example_universe,\n",
    "    y_pred_prob=probs_test,\n",
    "    y_test=y_true,\n",
    "    org_test=org_test,\n",
    ")"
   ]
  },
  {
   "cell_type": "markdown",
   "id": "1fb7a0e9",
   "metadata": {
    "papermill": {
     "duration": 0.012275,
     "end_time": "2025-08-19T19:06:15.167765",
     "exception": false,
     "start_time": "2025-08-19T19:06:15.155490",
     "status": "completed"
    },
    "tags": []
   },
   "source": [
    "# Overall"
   ]
  },
  {
   "cell_type": "markdown",
   "id": "be1784b1",
   "metadata": {
    "papermill": {
     "duration": 0.012126,
     "end_time": "2025-08-19T19:06:15.191988",
     "exception": false,
     "start_time": "2025-08-19T19:06:15.179862",
     "status": "completed"
    },
    "tags": []
   },
   "source": [
    "Main fairness target: Equalized Odds. Seems to be a better fit than equal opportunity, since we're not only interested in Y = 1. Seems to be a better fit than demographic parity, since we also care about accuracy, not just equal distribution of preds.\n",
    "\n",
    "Pick column for computation of fairness metrics\n",
    "\n",
    "Performance\n",
    "Overall performance measures, most interesting in relation to the measures split by group below"
   ]
  },
  {
   "cell_type": "code",
   "execution_count": 59,
   "id": "b7672bee",
   "metadata": {
    "execution": {
     "iopub.execute_input": "2025-08-19T19:06:15.221001Z",
     "iopub.status.busy": "2025-08-19T19:06:15.220588Z",
     "iopub.status.idle": "2025-08-19T19:06:15.229513Z",
     "shell.execute_reply": "2025-08-19T19:06:15.228792Z"
    },
    "papermill": {
     "duration": 0.032438,
     "end_time": "2025-08-19T19:06:15.239132",
     "exception": false,
     "start_time": "2025-08-19T19:06:15.206694",
     "status": "completed"
    },
    "tags": []
   },
   "outputs": [
    {
     "data": {
      "text/plain": [
       "accuracy                   0.219608\n",
       "balanced accuracy          0.537969\n",
       "f1                         0.241070\n",
       "precision                  0.137715\n",
       "false positive rate        0.890259\n",
       "false negative rate        0.033803\n",
       "selection rate             0.900000\n",
       "count                  89710.000000\n",
       "dtype: float64"
      ]
     },
     "execution_count": 59,
     "metadata": {},
     "output_type": "execute_result"
    }
   ],
   "source": [
    "metric_frame.overall"
   ]
  },
  {
   "cell_type": "markdown",
   "id": "d93333c9",
   "metadata": {
    "papermill": {
     "duration": 0.031495,
     "end_time": "2025-08-19T19:06:15.295795",
     "exception": false,
     "start_time": "2025-08-19T19:06:15.264300",
     "status": "completed"
    },
    "tags": []
   },
   "source": [
    "By Group"
   ]
  },
  {
   "cell_type": "code",
   "execution_count": 60,
   "id": "52256966",
   "metadata": {
    "execution": {
     "iopub.execute_input": "2025-08-19T19:06:15.341765Z",
     "iopub.status.busy": "2025-08-19T19:06:15.341416Z",
     "iopub.status.idle": "2025-08-19T19:06:15.354316Z",
     "shell.execute_reply": "2025-08-19T19:06:15.353595Z"
    },
    "papermill": {
     "duration": 0.030685,
     "end_time": "2025-08-19T19:06:15.355841",
     "exception": false,
     "start_time": "2025-08-19T19:06:15.325156",
     "status": "completed"
    },
    "tags": []
   },
   "outputs": [
    {
     "data": {
      "text/html": [
       "<div>\n",
       "<style scoped>\n",
       "    .dataframe tbody tr th:only-of-type {\n",
       "        vertical-align: middle;\n",
       "    }\n",
       "\n",
       "    .dataframe tbody tr th {\n",
       "        vertical-align: top;\n",
       "    }\n",
       "\n",
       "    .dataframe thead th {\n",
       "        text-align: right;\n",
       "    }\n",
       "</style>\n",
       "<table border=\"1\" class=\"dataframe\">\n",
       "  <thead>\n",
       "    <tr style=\"text-align: right;\">\n",
       "      <th></th>\n",
       "      <th>accuracy</th>\n",
       "      <th>balanced accuracy</th>\n",
       "      <th>f1</th>\n",
       "      <th>precision</th>\n",
       "      <th>false positive rate</th>\n",
       "      <th>false negative rate</th>\n",
       "      <th>selection rate</th>\n",
       "      <th>count</th>\n",
       "    </tr>\n",
       "    <tr>\n",
       "      <th>majmin</th>\n",
       "      <th></th>\n",
       "      <th></th>\n",
       "      <th></th>\n",
       "      <th></th>\n",
       "      <th></th>\n",
       "      <th></th>\n",
       "      <th></th>\n",
       "      <th></th>\n",
       "    </tr>\n",
       "  </thead>\n",
       "  <tbody>\n",
       "    <tr>\n",
       "      <th>majority</th>\n",
       "      <td>0.232326</td>\n",
       "      <td>0.542278</td>\n",
       "      <td>0.249088</td>\n",
       "      <td>0.143031</td>\n",
       "      <td>0.879010</td>\n",
       "      <td>0.036433</td>\n",
       "      <td>0.890184</td>\n",
       "      <td>69170.0</td>\n",
       "    </tr>\n",
       "    <tr>\n",
       "      <th>minority</th>\n",
       "      <td>0.176777</td>\n",
       "      <td>0.524468</td>\n",
       "      <td>0.214740</td>\n",
       "      <td>0.120637</td>\n",
       "      <td>0.927416</td>\n",
       "      <td>0.023649</td>\n",
       "      <td>0.933057</td>\n",
       "      <td>20540.0</td>\n",
       "    </tr>\n",
       "  </tbody>\n",
       "</table>\n",
       "</div>"
      ],
      "text/plain": [
       "          accuracy  balanced accuracy        f1  precision  \\\n",
       "majmin                                                       \n",
       "majority  0.232326           0.542278  0.249088   0.143031   \n",
       "minority  0.176777           0.524468  0.214740   0.120637   \n",
       "\n",
       "          false positive rate  false negative rate  selection rate    count  \n",
       "majmin                                                                       \n",
       "majority             0.879010             0.036433        0.890184  69170.0  \n",
       "minority             0.927416             0.023649        0.933057  20540.0  "
      ]
     },
     "execution_count": 60,
     "metadata": {},
     "output_type": "execute_result"
    }
   ],
   "source": [
    "metric_frame.by_group"
   ]
  },
  {
   "cell_type": "code",
   "execution_count": 61,
   "id": "6e6c20ae",
   "metadata": {
    "execution": {
     "iopub.execute_input": "2025-08-19T19:06:15.387052Z",
     "iopub.status.busy": "2025-08-19T19:06:15.386713Z",
     "iopub.status.idle": "2025-08-19T19:06:17.215211Z",
     "shell.execute_reply": "2025-08-19T19:06:17.213887Z"
    },
    "papermill": {
     "duration": 1.84777,
     "end_time": "2025-08-19T19:06:17.219823",
     "exception": false,
     "start_time": "2025-08-19T19:06:15.372053",
     "status": "completed"
    },
    "tags": []
   },
   "outputs": [
    {
     "data": {
      "text/plain": [
       "array([[<Axes: title={'center': 'accuracy'}, xlabel='majmin'>,\n",
       "        <Axes: title={'center': 'balanced accuracy'}, xlabel='majmin'>,\n",
       "        <Axes: title={'center': 'f1'}, xlabel='majmin'>],\n",
       "       [<Axes: title={'center': 'precision'}, xlabel='majmin'>,\n",
       "        <Axes: title={'center': 'false positive rate'}, xlabel='majmin'>,\n",
       "        <Axes: title={'center': 'false negative rate'}, xlabel='majmin'>],\n",
       "       [<Axes: title={'center': 'selection rate'}, xlabel='majmin'>,\n",
       "        <Axes: title={'center': 'count'}, xlabel='majmin'>,\n",
       "        <Axes: xlabel='majmin'>]], dtype=object)"
      ]
     },
     "execution_count": 61,
     "metadata": {},
     "output_type": "execute_result"
    },
    {
     "data": {
      "image/png": "[encoded data removed]",
      "text/plain": [
       "<Figure size 1200x800 with 9 Axes>"
      ]
     },
     "metadata": {},
     "output_type": "display_data"
    }
   ],
   "source": [
    "# In a graphic\n",
    "metric_frame.by_group.plot.bar(\n",
    "    subplots=True,\n",
    "    layout=[3, 3],\n",
    "    legend=False,\n",
    "    figsize=[12, 8],\n",
    "    title=\"Show all metrics\",\n",
    ")"
   ]
  },
  {
   "cell_type": "markdown",
   "id": "b2e433ae",
   "metadata": {
    "papermill": {
     "duration": 0.013751,
     "end_time": "2025-08-19T19:06:17.256557",
     "exception": false,
     "start_time": "2025-08-19T19:06:17.242806",
     "status": "completed"
    },
    "tags": []
   },
   "source": [
    "# Final Output"
   ]
  },
  {
   "cell_type": "code",
   "execution_count": 62,
   "id": "3871301e",
   "metadata": {
    "execution": {
     "iopub.execute_input": "2025-08-19T19:06:17.299288Z",
     "iopub.status.busy": "2025-08-19T19:06:17.296185Z",
     "iopub.status.idle": "2025-08-19T19:06:17.315734Z",
     "shell.execute_reply": "2025-08-19T19:06:17.314502Z"
    },
    "papermill": {
     "duration": 0.037767,
     "end_time": "2025-08-19T19:06:17.317495",
     "exception": false,
     "start_time": "2025-08-19T19:06:17.279728",
     "status": "completed"
    },
    "tags": []
   },
   "outputs": [
    {
     "data": {
      "text/plain": [
       "4"
      ]
     },
     "execution_count": 62,
     "metadata": {},
     "output_type": "execute_result"
    }
   ],
   "source": [
    "sub_universes = universe_analysis.generate_sub_universes()\n",
    "len(sub_universes)"
   ]
  },
  {
   "cell_type": "code",
   "execution_count": 63,
   "id": "d9cfdaca",
   "metadata": {
    "execution": {
     "iopub.execute_input": "2025-08-19T19:06:17.355630Z",
     "iopub.status.busy": "2025-08-19T19:06:17.354587Z",
     "iopub.status.idle": "2025-08-19T19:06:17.365134Z",
     "shell.execute_reply": "2025-08-19T19:06:17.363537Z"
    },
    "papermill": {
     "duration": 0.027769,
     "end_time": "2025-08-19T19:06:17.366648",
     "exception": false,
     "start_time": "2025-08-19T19:06:17.338879",
     "status": "completed"
    },
    "tags": []
   },
   "outputs": [],
   "source": [
    "def filter_sub_universe_data(sub_universe, org_test):\n",
    "    # Keep all rows — no filtering\n",
    "    keep_rows_mask = np.ones(org_test.shape[0], dtype=bool)\n",
    "\n",
    "    print(f\"[INFO] Keeping all rows: {keep_rows_mask.sum()} rows retained.\")\n",
    "    return keep_rows_mask"
   ]
  },
  {
   "cell_type": "code",
   "execution_count": 64,
   "id": "2bc31ac1",
   "metadata": {
    "execution": {
     "iopub.execute_input": "2025-08-19T19:06:17.404243Z",
     "iopub.status.busy": "2025-08-19T19:06:17.403801Z",
     "iopub.status.idle": "2025-08-19T19:06:24.048720Z",
     "shell.execute_reply": "2025-08-19T19:06:24.047687Z"
    },
    "papermill": {
     "duration": 6.663711,
     "end_time": "2025-08-19T19:06:24.051126",
     "exception": false,
     "start_time": "2025-08-19T19:06:17.387415",
     "status": "completed"
    },
    "tags": []
   },
   "outputs": [
    {
     "name": "stdout",
     "output_type": "stream",
     "text": [
      "Stopping execution_time clock.\n",
      "[INFO] Keeping all rows: 89710 rows retained.\n"
     ]
    },
    {
     "name": "stdout",
     "output_type": "stream",
     "text": [
      "[INFO] Keeping all rows: 89710 rows retained.\n"
     ]
    },
    {
     "name": "stdout",
     "output_type": "stream",
     "text": [
      "[INFO] Keeping all rows: 89710 rows retained.\n"
     ]
    },
    {
     "name": "stdout",
     "output_type": "stream",
     "text": [
      "[INFO] Keeping all rows: 89710 rows retained.\n"
     ]
    },
    {
     "data": {
      "text/html": [
       "<div>\n",
       "<style scoped>\n",
       "    .dataframe tbody tr th:only-of-type {\n",
       "        vertical-align: middle;\n",
       "    }\n",
       "\n",
       "    .dataframe tbody tr th {\n",
       "        vertical-align: top;\n",
       "    }\n",
       "\n",
       "    .dataframe thead th {\n",
       "        text-align: right;\n",
       "    }\n",
       "</style>\n",
       "<table border=\"1\" class=\"dataframe\">\n",
       "  <thead>\n",
       "    <tr style=\"text-align: right;\">\n",
       "      <th></th>\n",
       "      <th>run_no</th>\n",
       "      <th>universe_id</th>\n",
       "      <th>universe_settings</th>\n",
       "      <th>execution_time</th>\n",
       "      <th>test_size_n</th>\n",
       "      <th>test_size_frac</th>\n",
       "      <th>fair_main_equalized_odds_difference</th>\n",
       "      <th>fair_main_equalized_odds_ratio</th>\n",
       "      <th>fair_main_demographic_parity_difference</th>\n",
       "      <th>fair_main_demographic_parity_ratio</th>\n",
       "      <th>...</th>\n",
       "      <th>perf_grp_precision_0</th>\n",
       "      <th>perf_grp_precision_1</th>\n",
       "      <th>perf_grp_false positive rate_0</th>\n",
       "      <th>perf_grp_false positive rate_1</th>\n",
       "      <th>perf_grp_false negative rate_0</th>\n",
       "      <th>perf_grp_false negative rate_1</th>\n",
       "      <th>perf_grp_selection rate_0</th>\n",
       "      <th>perf_grp_selection rate_1</th>\n",
       "      <th>perf_grp_count_0</th>\n",
       "      <th>perf_grp_count_1</th>\n",
       "    </tr>\n",
       "  </thead>\n",
       "  <tbody>\n",
       "    <tr>\n",
       "      <th>0</th>\n",
       "      <td>3</td>\n",
       "      <td>a690f2fbfd593544182318486310c850</td>\n",
       "      <td>{\"cutoff\": \"quantile_0.1\", \"eval_fairness_grou...</td>\n",
       "      <td>22.031684</td>\n",
       "      <td>89710</td>\n",
       "      <td>1.0</td>\n",
       "      <td>0.048405</td>\n",
       "      <td>0.947806</td>\n",
       "      <td>0.042874</td>\n",
       "      <td>0.954050</td>\n",
       "      <td>...</td>\n",
       "      <td>NaN</td>\n",
       "      <td>NaN</td>\n",
       "      <td>NaN</td>\n",
       "      <td>NaN</td>\n",
       "      <td>NaN</td>\n",
       "      <td>NaN</td>\n",
       "      <td>NaN</td>\n",
       "      <td>NaN</td>\n",
       "      <td>NaN</td>\n",
       "      <td>NaN</td>\n",
       "    </tr>\n",
       "    <tr>\n",
       "      <th>0</th>\n",
       "      <td>3</td>\n",
       "      <td>a690f2fbfd593544182318486310c850</td>\n",
       "      <td>{\"cutoff\": \"quantile_0.1\", \"eval_fairness_grou...</td>\n",
       "      <td>22.031684</td>\n",
       "      <td>89710</td>\n",
       "      <td>1.0</td>\n",
       "      <td>0.048405</td>\n",
       "      <td>0.947806</td>\n",
       "      <td>0.042874</td>\n",
       "      <td>0.954050</td>\n",
       "      <td>...</td>\n",
       "      <td>0.120637</td>\n",
       "      <td>0.143031</td>\n",
       "      <td>0.927416</td>\n",
       "      <td>0.879010</td>\n",
       "      <td>0.023649</td>\n",
       "      <td>0.036433</td>\n",
       "      <td>0.933057</td>\n",
       "      <td>0.890184</td>\n",
       "      <td>20540.0</td>\n",
       "      <td>69170.0</td>\n",
       "    </tr>\n",
       "    <tr>\n",
       "      <th>0</th>\n",
       "      <td>3</td>\n",
       "      <td>a690f2fbfd593544182318486310c850</td>\n",
       "      <td>{\"cutoff\": \"quantile_0.25\", \"eval_fairness_gro...</td>\n",
       "      <td>22.031684</td>\n",
       "      <td>89710</td>\n",
       "      <td>1.0</td>\n",
       "      <td>0.128051</td>\n",
       "      <td>0.845088</td>\n",
       "      <td>0.115116</td>\n",
       "      <td>0.862753</td>\n",
       "      <td>...</td>\n",
       "      <td>NaN</td>\n",
       "      <td>NaN</td>\n",
       "      <td>NaN</td>\n",
       "      <td>NaN</td>\n",
       "      <td>NaN</td>\n",
       "      <td>NaN</td>\n",
       "      <td>NaN</td>\n",
       "      <td>NaN</td>\n",
       "      <td>NaN</td>\n",
       "      <td>NaN</td>\n",
       "    </tr>\n",
       "    <tr>\n",
       "      <th>0</th>\n",
       "      <td>3</td>\n",
       "      <td>a690f2fbfd593544182318486310c850</td>\n",
       "      <td>{\"cutoff\": \"quantile_0.25\", \"eval_fairness_gro...</td>\n",
       "      <td>22.031684</td>\n",
       "      <td>89710</td>\n",
       "      <td>1.0</td>\n",
       "      <td>0.128051</td>\n",
       "      <td>0.845088</td>\n",
       "      <td>0.115116</td>\n",
       "      <td>0.862753</td>\n",
       "      <td>...</td>\n",
       "      <td>0.128105</td>\n",
       "      <td>0.162225</td>\n",
       "      <td>0.826601</td>\n",
       "      <td>0.698551</td>\n",
       "      <td>0.067990</td>\n",
       "      <td>0.111597</td>\n",
       "      <td>0.838754</td>\n",
       "      <td>0.723637</td>\n",
       "      <td>20540.0</td>\n",
       "      <td>69170.0</td>\n",
       "    </tr>\n",
       "  </tbody>\n",
       "</table>\n",
       "<p>4 rows × 50 columns</p>\n",
       "</div>"
      ],
      "text/plain": [
       "  run_no                       universe_id  \\\n",
       "0      3  a690f2fbfd593544182318486310c850   \n",
       "0      3  a690f2fbfd593544182318486310c850   \n",
       "0      3  a690f2fbfd593544182318486310c850   \n",
       "0      3  a690f2fbfd593544182318486310c850   \n",
       "\n",
       "                                   universe_settings  execution_time  \\\n",
       "0  {\"cutoff\": \"quantile_0.1\", \"eval_fairness_grou...       22.031684   \n",
       "0  {\"cutoff\": \"quantile_0.1\", \"eval_fairness_grou...       22.031684   \n",
       "0  {\"cutoff\": \"quantile_0.25\", \"eval_fairness_gro...       22.031684   \n",
       "0  {\"cutoff\": \"quantile_0.25\", \"eval_fairness_gro...       22.031684   \n",
       "\n",
       "   test_size_n  test_size_frac  fair_main_equalized_odds_difference  \\\n",
       "0        89710             1.0                             0.048405   \n",
       "0        89710             1.0                             0.048405   \n",
       "0        89710             1.0                             0.128051   \n",
       "0        89710             1.0                             0.128051   \n",
       "\n",
       "   fair_main_equalized_odds_ratio  fair_main_demographic_parity_difference  \\\n",
       "0                        0.947806                                 0.042874   \n",
       "0                        0.947806                                 0.042874   \n",
       "0                        0.845088                                 0.115116   \n",
       "0                        0.845088                                 0.115116   \n",
       "\n",
       "   fair_main_demographic_parity_ratio  ...  perf_grp_precision_0  \\\n",
       "0                            0.954050  ...                   NaN   \n",
       "0                            0.954050  ...              0.120637   \n",
       "0                            0.862753  ...                   NaN   \n",
       "0                            0.862753  ...              0.128105   \n",
       "\n",
       "   perf_grp_precision_1  perf_grp_false positive rate_0  \\\n",
       "0                   NaN                             NaN   \n",
       "0              0.143031                        0.927416   \n",
       "0                   NaN                             NaN   \n",
       "0              0.162225                        0.826601   \n",
       "\n",
       "   perf_grp_false positive rate_1  perf_grp_false negative rate_0  \\\n",
       "0                             NaN                             NaN   \n",
       "0                        0.879010                        0.023649   \n",
       "0                             NaN                             NaN   \n",
       "0                        0.698551                        0.067990   \n",
       "\n",
       "   perf_grp_false negative rate_1  perf_grp_selection rate_0  \\\n",
       "0                             NaN                        NaN   \n",
       "0                        0.036433                   0.933057   \n",
       "0                             NaN                        NaN   \n",
       "0                        0.111597                   0.838754   \n",
       "\n",
       "   perf_grp_selection rate_1  perf_grp_count_0  perf_grp_count_1  \n",
       "0                        NaN               NaN               NaN  \n",
       "0                   0.890184           20540.0           69170.0  \n",
       "0                        NaN               NaN               NaN  \n",
       "0                   0.723637           20540.0           69170.0  \n",
       "\n",
       "[4 rows x 50 columns]"
      ]
     },
     "execution_count": 64,
     "metadata": {},
     "output_type": "execute_result"
    }
   ],
   "source": [
    "final_output = universe_analysis.generate_final_output(\n",
    "    y_pred_prob=probs_test,\n",
    "    y_test=y_true,\n",
    "    org_test=org_test,\n",
    "    filter_data=filter_sub_universe_data,\n",
    "    cp_metrics_df=cp_metrics_df,\n",
    "    save=True,\n",
    ")\n",
    "final_output"
   ]
  },
  {
   "cell_type": "code",
   "execution_count": null,
   "id": "8b80a1ff",
   "metadata": {
    "papermill": {
     "duration": 0.016532,
     "end_time": "2025-08-19T19:06:24.097403",
     "exception": false,
     "start_time": "2025-08-19T19:06:24.080871",
     "status": "completed"
    },
    "tags": []
   },
   "outputs": [],
   "source": []
  },
  {
   "cell_type": "code",
   "execution_count": null,
   "id": "275c9fad",
   "metadata": {
    "papermill": {
     "duration": 0.014634,
     "end_time": "2025-08-19T19:06:24.126922",
     "exception": false,
     "start_time": "2025-08-19T19:06:24.112288",
     "status": "completed"
    },
    "tags": []
   },
   "outputs": [],
   "source": []
  }
 ],
 "metadata": {
  "celltoolbar": "Tags",
  "kernelspec": {
   "display_name": "Python (CMA Fairness)",
   "language": "python",
   "name": "cma_fair_env"
  },
  "language_info": {
   "codemirror_mode": {
    "name": "ipython",
    "version": 3
   },
   "file_extension": ".py",
   "mimetype": "text/x-python",
   "name": "python",
   "nbconvert_exporter": "python",
   "pygments_lexer": "ipython3",
   "version": "3.10.12"
  },
  "papermill": {
   "default_parameters": {},
   "duration": 32.479114,
   "end_time": "2025-08-19T19:06:25.066739",
   "environment_variables": {},
   "exception": null,
   "input_path": "universe_analysis.ipynb",
   "output_path": "output/runs/3/notebooks/m_3-a690f2fbfd593544182318486310c850.ipynb",
   "parameters": {
    "output_dir": "output",
    "run_no": "3",
    "seed": "2023",
    "universe": "{\"cutoff\": [\"quantile_0.1\", \"quantile_0.25\"], \"eval_fairness_grouping\": [\"majority-minority\", \"nationality-all\"], \"exclude_features\": \"age\", \"exclude_subgroups\": \"drop-non-german\", \"model\": \"penalized_logreg\", \"scale\": \"scale\", \"training_size\": \"1k\", \"training_year\": \"2010_14\"}",
    "universe_id": "a690f2fbfd593544182318486310c850"
   },
   "start_time": "2025-08-19T19:05:52.587625",
   "version": "2.6.0"
  }
 },
 "nbformat": 4,
 "nbformat_minor": 5
}