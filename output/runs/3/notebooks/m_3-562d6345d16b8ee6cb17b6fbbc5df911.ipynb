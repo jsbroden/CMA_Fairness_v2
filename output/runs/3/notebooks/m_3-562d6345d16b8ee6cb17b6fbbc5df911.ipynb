{
 "cells": [
  {
   "cell_type": "markdown",
   "id": "ef23dbb3",
   "metadata": {
    "papermill": {
     "duration": 0.018493,
     "end_time": "2025-08-19T19:04:17.477402",
     "exception": false,
     "start_time": "2025-08-19T19:04:17.458909",
     "status": "completed"
    },
    "tags": []
   },
   "source": [
    "# Setup"
   ]
  },
  {
   "cell_type": "code",
   "execution_count": 1,
   "id": "0bc8e7dc",
   "metadata": {
    "execution": {
     "iopub.execute_input": "2025-08-19T19:04:17.520775Z",
     "iopub.status.busy": "2025-08-19T19:04:17.519609Z",
     "iopub.status.idle": "2025-08-19T19:04:17.542951Z",
     "shell.execute_reply": "2025-08-19T19:04:17.540996Z"
    },
    "papermill": {
     "duration": 0.047348,
     "end_time": "2025-08-19T19:04:17.544525",
     "exception": false,
     "start_time": "2025-08-19T19:04:17.497177",
     "status": "completed"
    },
    "tags": []
   },
   "outputs": [
    {
     "name": "stdout",
     "output_type": "stream",
     "text": [
      "/dss/dsshome1/0C/ra93lal2/cma/CMA_Fairness_v2\n"
     ]
    },
    {
     "name": "stderr",
     "output_type": "stream",
     "text": [
      "/dss/dsshome1/0C/ra93lal2/.local/share/virtualenvs/CMA_Fairness_v2-3j10GkSs/lib/python3.10/site-packages/IPython/core/magics/osm.py:393: UserWarning: This is now an optional IPython functionality, using bookmarks requires you to install the `pickleshare` library.\n",
      "  bkms = self.shell.db.get('bookmarks', {})\n",
      "/dss/dsshome1/0C/ra93lal2/.local/share/virtualenvs/CMA_Fairness_v2-3j10GkSs/lib/python3.10/site-packages/IPython/core/magics/osm.py:417: UserWarning: This is now an optional IPython functionality, setting dhist requires you to install the `pickleshare` library.\n",
      "  self.shell.db['dhist'] = compress_dhist(dhist)[-100:]\n"
     ]
    }
   ],
   "source": [
    "%cd ~/cma/CMA_Fairness_v2"
   ]
  },
  {
   "cell_type": "markdown",
   "id": "9d235661",
   "metadata": {
    "papermill": {
     "duration": 0.009377,
     "end_time": "2025-08-19T19:04:17.563611",
     "exception": false,
     "start_time": "2025-08-19T19:04:17.554234",
     "status": "completed"
    },
    "tags": []
   },
   "source": [
    "The following cell holds the definition of our parameters, these values can be overriden by rendering the with e.g. the following command:\n",
    "\n",
    "papermill -p alpha 0.2 -p ratio 0.3 universe_analysis.ipynb output/test_run.ipynb"
   ]
  },
  {
   "cell_type": "code",
   "execution_count": 2,
   "id": "4a789d8e",
   "metadata": {
    "execution": {
     "iopub.execute_input": "2025-08-19T19:04:17.604824Z",
     "iopub.status.busy": "2025-08-19T19:04:17.589688Z",
     "iopub.status.idle": "2025-08-19T19:04:17.608870Z",
     "shell.execute_reply": "2025-08-19T19:04:17.608108Z"
    },
    "papermill": {
     "duration": 0.038119,
     "end_time": "2025-08-19T19:04:17.610507",
     "exception": false,
     "start_time": "2025-08-19T19:04:17.572388",
     "status": "completed"
    },
    "tags": []
   },
   "outputs": [
    {
     "name": "stdout",
     "output_type": "stream",
     "text": [
      "Current working directory: /dss/dsshome1/0C/ra93lal2/cma/CMA_Fairness_v2\n"
     ]
    }
   ],
   "source": [
    "import os\n",
    "print(\"Current working directory:\", os.getcwd())"
   ]
  },
  {
   "cell_type": "code",
   "execution_count": 3,
   "id": "4132aaed",
   "metadata": {
    "execution": {
     "iopub.execute_input": "2025-08-19T19:04:17.638412Z",
     "iopub.status.busy": "2025-08-19T19:04:17.637532Z",
     "iopub.status.idle": "2025-08-19T19:04:17.643150Z",
     "shell.execute_reply": "2025-08-19T19:04:17.642269Z"
    },
    "papermill": {
     "duration": 0.018511,
     "end_time": "2025-08-19T19:04:17.644526",
     "exception": false,
     "start_time": "2025-08-19T19:04:17.626015",
     "status": "completed"
    },
    "tags": [
     "parameters"
    ]
   },
   "outputs": [],
   "source": [
    "run_no = 0\n",
    "universe_id = \"test\"\n",
    "universe = {\n",
    "    \"training_size\": \"5k\", # \"25k\", \"5k\", \"1k\"\n",
    "    \"training_year\": \"2012_14\", # \"2014\", \"2012_14\", \"2010_14\"\n",
    "    \"scale\": \"scale\", # \"scale\", \"do-not-scale\",\n",
    "    \"model\": \"elasticnet\", # \"logreg\", \"penalized_logreg\", \"rf\", \"gbm\", \"elasticnet\"\n",
    "    \"cutoff\": [\"quantile_0.15\", \"quantile_0.30\"],\n",
    "    \"exclude_features\": \"age\", # \"none\", \"nationality\", \"sex\", \"nationality-sex\", \"age\"\n",
    "    \"exclude_subgroups\": \"drop-non-german\", # \"keep-all\", \"drop-non-german\"\n",
    "    \"eval_fairness_grouping\": [\"majority-minority\", \"nationality-all\"]\n",
    "}\n",
    "\n",
    "output_dir=\"./output\"\n",
    "seed=0"
   ]
  },
  {
   "cell_type": "code",
   "execution_count": 4,
   "id": "12d8f3e4",
   "metadata": {
    "execution": {
     "iopub.execute_input": "2025-08-19T19:04:17.667304Z",
     "iopub.status.busy": "2025-08-19T19:04:17.666523Z",
     "iopub.status.idle": "2025-08-19T19:04:17.676856Z",
     "shell.execute_reply": "2025-08-19T19:04:17.675831Z"
    },
    "papermill": {
     "duration": 0.023203,
     "end_time": "2025-08-19T19:04:17.678556",
     "exception": false,
     "start_time": "2025-08-19T19:04:17.655353",
     "status": "completed"
    },
    "tags": [
     "injected-parameters"
    ]
   },
   "outputs": [],
   "source": [
    "# Parameters\n",
    "universe_id = \"562d6345d16b8ee6cb17b6fbbc5df911\"\n",
    "run_no = \"3\"\n",
    "universe = \"{\\\"cutoff\\\": [\\\"quantile_0.1\\\", \\\"quantile_0.25\\\"], \\\"eval_fairness_grouping\\\": [\\\"majority-minority\\\", \\\"nationality-all\\\"], \\\"exclude_features\\\": \\\"age\\\", \\\"exclude_subgroups\\\": \\\"keep-all\\\", \\\"model\\\": \\\"elasticnet\\\", \\\"scale\\\": \\\"do-not-scale\\\", \\\"training_size\\\": \\\"1k\\\", \\\"training_year\\\": \\\"2012_14\\\"}\"\n",
    "output_dir = \"output\"\n",
    "seed = \"2023\"\n"
   ]
  },
  {
   "cell_type": "code",
   "execution_count": 5,
   "id": "a5d7941f",
   "metadata": {
    "execution": {
     "iopub.execute_input": "2025-08-19T19:04:17.701249Z",
     "iopub.status.busy": "2025-08-19T19:04:17.700688Z",
     "iopub.status.idle": "2025-08-19T19:04:17.704846Z",
     "shell.execute_reply": "2025-08-19T19:04:17.704036Z"
    },
    "papermill": {
     "duration": 0.015746,
     "end_time": "2025-08-19T19:04:17.706166",
     "exception": false,
     "start_time": "2025-08-19T19:04:17.690420",
     "status": "completed"
    },
    "tags": []
   },
   "outputs": [],
   "source": [
    "import json\n",
    "if isinstance(universe, str):\n",
    "    universe = json.loads(universe)"
   ]
  },
  {
   "cell_type": "code",
   "execution_count": 6,
   "id": "7076ccb1",
   "metadata": {
    "execution": {
     "iopub.execute_input": "2025-08-19T19:04:17.726974Z",
     "iopub.status.busy": "2025-08-19T19:04:17.726337Z",
     "iopub.status.idle": "2025-08-19T19:04:17.767011Z",
     "shell.execute_reply": "2025-08-19T19:04:17.765990Z"
    },
    "papermill": {
     "duration": 0.054935,
     "end_time": "2025-08-19T19:04:17.770287",
     "exception": false,
     "start_time": "2025-08-19T19:04:17.715352",
     "status": "completed"
    },
    "tags": []
   },
   "outputs": [],
   "source": [
    "# Auto-reload the custom package\n",
    "%load_ext autoreload\n",
    "%autoreload 1\n",
    "%aimport fairness_multiverse"
   ]
  },
  {
   "cell_type": "code",
   "execution_count": 7,
   "id": "94c8eb93",
   "metadata": {
    "execution": {
     "iopub.execute_input": "2025-08-19T19:04:17.811660Z",
     "iopub.status.busy": "2025-08-19T19:04:17.803768Z",
     "iopub.status.idle": "2025-08-19T19:04:19.423648Z",
     "shell.execute_reply": "2025-08-19T19:04:19.422685Z"
    },
    "papermill": {
     "duration": 1.634415,
     "end_time": "2025-08-19T19:04:19.425253",
     "exception": false,
     "start_time": "2025-08-19T19:04:17.790838",
     "status": "completed"
    },
    "tags": []
   },
   "outputs": [],
   "source": [
    "from fairness_multiverse.universe import UniverseAnalysis\n",
    "\n",
    "universe_analysis = UniverseAnalysis(\n",
    "    run_no = run_no,\n",
    "    universe_id = universe_id,\n",
    "    universe = universe,\n",
    "    output_dir=output_dir,\n",
    ")"
   ]
  },
  {
   "cell_type": "code",
   "execution_count": 8,
   "id": "2a6381cf",
   "metadata": {
    "execution": {
     "iopub.execute_input": "2025-08-19T19:04:19.451232Z",
     "iopub.status.busy": "2025-08-19T19:04:19.450570Z",
     "iopub.status.idle": "2025-08-19T19:04:19.457436Z",
     "shell.execute_reply": "2025-08-19T19:04:19.456720Z"
    },
    "papermill": {
     "duration": 0.021573,
     "end_time": "2025-08-19T19:04:19.458731",
     "exception": false,
     "start_time": "2025-08-19T19:04:19.437158",
     "status": "completed"
    },
    "tags": []
   },
   "outputs": [
    {
     "name": "stdout",
     "output_type": "stream",
     "text": [
      "Using Seed: 2023\n"
     ]
    }
   ],
   "source": [
    "import numpy as np\n",
    "parsed_seed = int(seed)\n",
    "np.random.seed(parsed_seed)\n",
    "print(f\"Using Seed: {parsed_seed}\")"
   ]
  },
  {
   "cell_type": "markdown",
   "id": "b6e958b4",
   "metadata": {
    "papermill": {
     "duration": 0.009224,
     "end_time": "2025-08-19T19:04:19.477547",
     "exception": false,
     "start_time": "2025-08-19T19:04:19.468323",
     "status": "completed"
    },
    "tags": []
   },
   "source": [
    "# Loading Data"
   ]
  },
  {
   "cell_type": "code",
   "execution_count": 9,
   "id": "98701482",
   "metadata": {
    "execution": {
     "iopub.execute_input": "2025-08-19T19:04:19.497746Z",
     "iopub.status.busy": "2025-08-19T19:04:19.497213Z",
     "iopub.status.idle": "2025-08-19T19:04:29.700149Z",
     "shell.execute_reply": "2025-08-19T19:04:29.698685Z"
    },
    "papermill": {
     "duration": 10.214785,
     "end_time": "2025-08-19T19:04:29.701659",
     "exception": false,
     "start_time": "2025-08-19T19:04:19.486874",
     "status": "completed"
    },
    "tags": []
   },
   "outputs": [
    {
     "name": "stdout",
     "output_type": "stream",
     "text": [
      "Loading SIAB data from cache: data/siab_cached.csv.gz\n"
     ]
    },
    {
     "name": "stdout",
     "output_type": "stream",
     "text": [
      "(643690, 164)\n"
     ]
    }
   ],
   "source": [
    "from pathlib import Path\n",
    "import pandas as pd\n",
    "\n",
    "# File paths\n",
    "raw_file = Path(\"data/raw/siab.csv\")\n",
    "cache_file = Path(\"data/siab_cached.csv.gz\")\n",
    "\n",
    "# Ensure cache directory exists\n",
    "cache_file.parent.mkdir(parents=True, exist_ok=True)\n",
    "\n",
    "# Load with simple caching\n",
    "if cache_file.exists():\n",
    "    print(f\"Loading SIAB data from cache: {cache_file}\")\n",
    "    siab = pd.read_csv(cache_file, compression='gzip')\n",
    "else:\n",
    "    print(f\"Cache not found. Reading raw SIAB data: {raw_file}\")\n",
    "    siab = pd.read_csv(raw_file)\n",
    "    siab.to_csv(cache_file, index=False, compression='gzip')\n",
    "    print(f\"Cached SIAB data to: {cache_file}\")\n",
    "\n",
    "print(siab.shape)"
   ]
  },
  {
   "cell_type": "code",
   "execution_count": 10,
   "id": "058d2abb",
   "metadata": {
    "execution": {
     "iopub.execute_input": "2025-08-19T19:04:29.743136Z",
     "iopub.status.busy": "2025-08-19T19:04:29.742561Z",
     "iopub.status.idle": "2025-08-19T19:04:29.885740Z",
     "shell.execute_reply": "2025-08-19T19:04:29.884985Z"
    },
    "papermill": {
     "duration": 0.166422,
     "end_time": "2025-08-19T19:04:29.887087",
     "exception": false,
     "start_time": "2025-08-19T19:04:29.720665",
     "status": "completed"
    },
    "tags": []
   },
   "outputs": [
    {
     "data": {
      "text/html": [
       "<div>\n",
       "<style scoped>\n",
       "    .dataframe tbody tr th:only-of-type {\n",
       "        vertical-align: middle;\n",
       "    }\n",
       "\n",
       "    .dataframe tbody tr th {\n",
       "        vertical-align: top;\n",
       "    }\n",
       "\n",
       "    .dataframe thead th {\n",
       "        text-align: right;\n",
       "    }\n",
       "</style>\n",
       "<table border=\"1\" class=\"dataframe\">\n",
       "  <thead>\n",
       "    <tr style=\"text-align: right;\">\n",
       "      <th></th>\n",
       "      <th>persnr</th>\n",
       "      <th>year</th>\n",
       "      <th>nrEntry</th>\n",
       "      <th>ltue</th>\n",
       "      <th>employed_before</th>\n",
       "      <th>receipt_leh_before</th>\n",
       "      <th>receipt_lhg_before</th>\n",
       "      <th>se_before</th>\n",
       "      <th>ASU_notue_seeking_before</th>\n",
       "      <th>ASU_other_before</th>\n",
       "      <th>...</th>\n",
       "      <th>minijob_tot_dur_byage</th>\n",
       "      <th>ft_tot_dur_byage</th>\n",
       "      <th>befrist_tot_dur_byage</th>\n",
       "      <th>leih_tot_dur_byage</th>\n",
       "      <th>LHG_tot_dur_byage</th>\n",
       "      <th>LEH_tot_dur_byage</th>\n",
       "      <th>almp_tot_dur_byage</th>\n",
       "      <th>almp_aw_tot_dur_byage</th>\n",
       "      <th>se_tot_dur_byage</th>\n",
       "      <th>seeking1_tot_dur_byage</th>\n",
       "    </tr>\n",
       "  </thead>\n",
       "  <tbody>\n",
       "    <tr>\n",
       "      <th>0</th>\n",
       "      <td>7</td>\n",
       "      <td>2015</td>\n",
       "      <td>1</td>\n",
       "      <td>0</td>\n",
       "      <td>1</td>\n",
       "      <td>0</td>\n",
       "      <td>0</td>\n",
       "      <td>0</td>\n",
       "      <td>1</td>\n",
       "      <td>0</td>\n",
       "      <td>...</td>\n",
       "      <td>0.000000</td>\n",
       "      <td>0.000000</td>\n",
       "      <td>15.043478</td>\n",
       "      <td>0.000000</td>\n",
       "      <td>0.000000</td>\n",
       "      <td>0.000000</td>\n",
       "      <td>0.000000</td>\n",
       "      <td>0.000000</td>\n",
       "      <td>0.000000</td>\n",
       "      <td>0.000000</td>\n",
       "    </tr>\n",
       "    <tr>\n",
       "      <th>1</th>\n",
       "      <td>18</td>\n",
       "      <td>2010</td>\n",
       "      <td>1</td>\n",
       "      <td>1</td>\n",
       "      <td>0</td>\n",
       "      <td>0</td>\n",
       "      <td>0</td>\n",
       "      <td>0</td>\n",
       "      <td>0</td>\n",
       "      <td>0</td>\n",
       "      <td>...</td>\n",
       "      <td>0.000000</td>\n",
       "      <td>0.000000</td>\n",
       "      <td>0.000000</td>\n",
       "      <td>0.000000</td>\n",
       "      <td>0.000000</td>\n",
       "      <td>0.000000</td>\n",
       "      <td>0.000000</td>\n",
       "      <td>0.000000</td>\n",
       "      <td>0.000000</td>\n",
       "      <td>0.000000</td>\n",
       "    </tr>\n",
       "    <tr>\n",
       "      <th>2</th>\n",
       "      <td>18</td>\n",
       "      <td>2011</td>\n",
       "      <td>2</td>\n",
       "      <td>0</td>\n",
       "      <td>1</td>\n",
       "      <td>0</td>\n",
       "      <td>1</td>\n",
       "      <td>0</td>\n",
       "      <td>1</td>\n",
       "      <td>0</td>\n",
       "      <td>...</td>\n",
       "      <td>2.714286</td>\n",
       "      <td>2.714286</td>\n",
       "      <td>0.000000</td>\n",
       "      <td>0.000000</td>\n",
       "      <td>10.775510</td>\n",
       "      <td>0.000000</td>\n",
       "      <td>8.367347</td>\n",
       "      <td>0.000000</td>\n",
       "      <td>0.000000</td>\n",
       "      <td>9.836735</td>\n",
       "    </tr>\n",
       "    <tr>\n",
       "      <th>3</th>\n",
       "      <td>18</td>\n",
       "      <td>2012</td>\n",
       "      <td>3</td>\n",
       "      <td>0</td>\n",
       "      <td>1</td>\n",
       "      <td>0</td>\n",
       "      <td>1</td>\n",
       "      <td>0</td>\n",
       "      <td>1</td>\n",
       "      <td>0</td>\n",
       "      <td>...</td>\n",
       "      <td>4.200000</td>\n",
       "      <td>4.200000</td>\n",
       "      <td>0.000000</td>\n",
       "      <td>0.000000</td>\n",
       "      <td>12.100000</td>\n",
       "      <td>0.000000</td>\n",
       "      <td>9.400000</td>\n",
       "      <td>0.000000</td>\n",
       "      <td>0.000000</td>\n",
       "      <td>9.960000</td>\n",
       "    </tr>\n",
       "    <tr>\n",
       "      <th>4</th>\n",
       "      <td>18</td>\n",
       "      <td>2012</td>\n",
       "      <td>4</td>\n",
       "      <td>0</td>\n",
       "      <td>1</td>\n",
       "      <td>0</td>\n",
       "      <td>1</td>\n",
       "      <td>0</td>\n",
       "      <td>1</td>\n",
       "      <td>0</td>\n",
       "      <td>...</td>\n",
       "      <td>5.460000</td>\n",
       "      <td>5.460000</td>\n",
       "      <td>0.000000</td>\n",
       "      <td>0.000000</td>\n",
       "      <td>13.360000</td>\n",
       "      <td>0.000000</td>\n",
       "      <td>10.320000</td>\n",
       "      <td>0.000000</td>\n",
       "      <td>0.000000</td>\n",
       "      <td>10.280000</td>\n",
       "    </tr>\n",
       "    <tr>\n",
       "      <th>...</th>\n",
       "      <td>...</td>\n",
       "      <td>...</td>\n",
       "      <td>...</td>\n",
       "      <td>...</td>\n",
       "      <td>...</td>\n",
       "      <td>...</td>\n",
       "      <td>...</td>\n",
       "      <td>...</td>\n",
       "      <td>...</td>\n",
       "      <td>...</td>\n",
       "      <td>...</td>\n",
       "      <td>...</td>\n",
       "      <td>...</td>\n",
       "      <td>...</td>\n",
       "      <td>...</td>\n",
       "      <td>...</td>\n",
       "      <td>...</td>\n",
       "      <td>...</td>\n",
       "      <td>...</td>\n",
       "      <td>...</td>\n",
       "      <td>...</td>\n",
       "    </tr>\n",
       "    <tr>\n",
       "      <th>643685</th>\n",
       "      <td>1827860</td>\n",
       "      <td>2013</td>\n",
       "      <td>1</td>\n",
       "      <td>0</td>\n",
       "      <td>0</td>\n",
       "      <td>0</td>\n",
       "      <td>1</td>\n",
       "      <td>0</td>\n",
       "      <td>0</td>\n",
       "      <td>1</td>\n",
       "      <td>...</td>\n",
       "      <td>0.000000</td>\n",
       "      <td>0.000000</td>\n",
       "      <td>0.000000</td>\n",
       "      <td>0.000000</td>\n",
       "      <td>0.612903</td>\n",
       "      <td>0.000000</td>\n",
       "      <td>0.000000</td>\n",
       "      <td>0.000000</td>\n",
       "      <td>0.000000</td>\n",
       "      <td>0.000000</td>\n",
       "    </tr>\n",
       "    <tr>\n",
       "      <th>643686</th>\n",
       "      <td>1827860</td>\n",
       "      <td>2015</td>\n",
       "      <td>2</td>\n",
       "      <td>1</td>\n",
       "      <td>0</td>\n",
       "      <td>0</td>\n",
       "      <td>1</td>\n",
       "      <td>0</td>\n",
       "      <td>1</td>\n",
       "      <td>0</td>\n",
       "      <td>...</td>\n",
       "      <td>0.000000</td>\n",
       "      <td>0.000000</td>\n",
       "      <td>0.212121</td>\n",
       "      <td>0.212121</td>\n",
       "      <td>17.363636</td>\n",
       "      <td>0.000000</td>\n",
       "      <td>8.909091</td>\n",
       "      <td>0.000000</td>\n",
       "      <td>0.000000</td>\n",
       "      <td>7.121212</td>\n",
       "    </tr>\n",
       "    <tr>\n",
       "      <th>643687</th>\n",
       "      <td>1827860</td>\n",
       "      <td>2016</td>\n",
       "      <td>3</td>\n",
       "      <td>1</td>\n",
       "      <td>0</td>\n",
       "      <td>0</td>\n",
       "      <td>1</td>\n",
       "      <td>1</td>\n",
       "      <td>0</td>\n",
       "      <td>1</td>\n",
       "      <td>...</td>\n",
       "      <td>0.000000</td>\n",
       "      <td>0.000000</td>\n",
       "      <td>0.294118</td>\n",
       "      <td>0.205882</td>\n",
       "      <td>34.705882</td>\n",
       "      <td>0.000000</td>\n",
       "      <td>10.352941</td>\n",
       "      <td>1.705882</td>\n",
       "      <td>1.705882</td>\n",
       "      <td>23.911765</td>\n",
       "    </tr>\n",
       "    <tr>\n",
       "      <th>643688</th>\n",
       "      <td>1827869</td>\n",
       "      <td>2013</td>\n",
       "      <td>1</td>\n",
       "      <td>1</td>\n",
       "      <td>1</td>\n",
       "      <td>0</td>\n",
       "      <td>0</td>\n",
       "      <td>0</td>\n",
       "      <td>1</td>\n",
       "      <td>0</td>\n",
       "      <td>...</td>\n",
       "      <td>0.000000</td>\n",
       "      <td>0.000000</td>\n",
       "      <td>0.000000</td>\n",
       "      <td>0.000000</td>\n",
       "      <td>0.000000</td>\n",
       "      <td>0.525424</td>\n",
       "      <td>0.000000</td>\n",
       "      <td>0.000000</td>\n",
       "      <td>0.000000</td>\n",
       "      <td>0.000000</td>\n",
       "    </tr>\n",
       "    <tr>\n",
       "      <th>643689</th>\n",
       "      <td>1827869</td>\n",
       "      <td>2014</td>\n",
       "      <td>2</td>\n",
       "      <td>0</td>\n",
       "      <td>0</td>\n",
       "      <td>1</td>\n",
       "      <td>0</td>\n",
       "      <td>0</td>\n",
       "      <td>1</td>\n",
       "      <td>0</td>\n",
       "      <td>...</td>\n",
       "      <td>0.000000</td>\n",
       "      <td>0.666667</td>\n",
       "      <td>0.666667</td>\n",
       "      <td>0.000000</td>\n",
       "      <td>0.000000</td>\n",
       "      <td>8.950000</td>\n",
       "      <td>1.033333</td>\n",
       "      <td>0.083333</td>\n",
       "      <td>0.083333</td>\n",
       "      <td>8.133333</td>\n",
       "    </tr>\n",
       "  </tbody>\n",
       "</table>\n",
       "<p>643690 rows × 164 columns</p>\n",
       "</div>"
      ],
      "text/plain": [
       "         persnr  year  nrEntry  ltue  employed_before  receipt_leh_before  \\\n",
       "0             7  2015        1     0                1                   0   \n",
       "1            18  2010        1     1                0                   0   \n",
       "2            18  2011        2     0                1                   0   \n",
       "3            18  2012        3     0                1                   0   \n",
       "4            18  2012        4     0                1                   0   \n",
       "...         ...   ...      ...   ...              ...                 ...   \n",
       "643685  1827860  2013        1     0                0                   0   \n",
       "643686  1827860  2015        2     1                0                   0   \n",
       "643687  1827860  2016        3     1                0                   0   \n",
       "643688  1827869  2013        1     1                1                   0   \n",
       "643689  1827869  2014        2     0                0                   1   \n",
       "\n",
       "        receipt_lhg_before  se_before  ASU_notue_seeking_before  \\\n",
       "0                        0          0                         1   \n",
       "1                        0          0                         0   \n",
       "2                        1          0                         1   \n",
       "3                        1          0                         1   \n",
       "4                        1          0                         1   \n",
       "...                    ...        ...                       ...   \n",
       "643685                   1          0                         0   \n",
       "643686                   1          0                         1   \n",
       "643687                   1          1                         0   \n",
       "643688                   0          0                         1   \n",
       "643689                   0          0                         1   \n",
       "\n",
       "        ASU_other_before  ...  minijob_tot_dur_byage  ft_tot_dur_byage  \\\n",
       "0                      0  ...               0.000000          0.000000   \n",
       "1                      0  ...               0.000000          0.000000   \n",
       "2                      0  ...               2.714286          2.714286   \n",
       "3                      0  ...               4.200000          4.200000   \n",
       "4                      0  ...               5.460000          5.460000   \n",
       "...                  ...  ...                    ...               ...   \n",
       "643685                 1  ...               0.000000          0.000000   \n",
       "643686                 0  ...               0.000000          0.000000   \n",
       "643687                 1  ...               0.000000          0.000000   \n",
       "643688                 0  ...               0.000000          0.000000   \n",
       "643689                 0  ...               0.000000          0.666667   \n",
       "\n",
       "        befrist_tot_dur_byage  leih_tot_dur_byage  LHG_tot_dur_byage  \\\n",
       "0                   15.043478            0.000000           0.000000   \n",
       "1                    0.000000            0.000000           0.000000   \n",
       "2                    0.000000            0.000000          10.775510   \n",
       "3                    0.000000            0.000000          12.100000   \n",
       "4                    0.000000            0.000000          13.360000   \n",
       "...                       ...                 ...                ...   \n",
       "643685               0.000000            0.000000           0.612903   \n",
       "643686               0.212121            0.212121          17.363636   \n",
       "643687               0.294118            0.205882          34.705882   \n",
       "643688               0.000000            0.000000           0.000000   \n",
       "643689               0.666667            0.000000           0.000000   \n",
       "\n",
       "        LEH_tot_dur_byage  almp_tot_dur_byage  almp_aw_tot_dur_byage  \\\n",
       "0                0.000000            0.000000               0.000000   \n",
       "1                0.000000            0.000000               0.000000   \n",
       "2                0.000000            8.367347               0.000000   \n",
       "3                0.000000            9.400000               0.000000   \n",
       "4                0.000000           10.320000               0.000000   \n",
       "...                   ...                 ...                    ...   \n",
       "643685           0.000000            0.000000               0.000000   \n",
       "643686           0.000000            8.909091               0.000000   \n",
       "643687           0.000000           10.352941               1.705882   \n",
       "643688           0.525424            0.000000               0.000000   \n",
       "643689           8.950000            1.033333               0.083333   \n",
       "\n",
       "        se_tot_dur_byage  seeking1_tot_dur_byage  \n",
       "0               0.000000                0.000000  \n",
       "1               0.000000                0.000000  \n",
       "2               0.000000                9.836735  \n",
       "3               0.000000                9.960000  \n",
       "4               0.000000               10.280000  \n",
       "...                  ...                     ...  \n",
       "643685          0.000000                0.000000  \n",
       "643686          0.000000                7.121212  \n",
       "643687          1.705882               23.911765  \n",
       "643688          0.000000                0.000000  \n",
       "643689          0.083333                8.133333  \n",
       "\n",
       "[643690 rows x 164 columns]"
      ]
     },
     "execution_count": 10,
     "metadata": {},
     "output_type": "execute_result"
    }
   ],
   "source": [
    "siab"
   ]
  },
  {
   "cell_type": "markdown",
   "id": "1f87e805",
   "metadata": {
    "papermill": {
     "duration": 0.009644,
     "end_time": "2025-08-19T19:04:29.907046",
     "exception": false,
     "start_time": "2025-08-19T19:04:29.897402",
     "status": "completed"
    },
    "tags": []
   },
   "source": [
    "# Splitting Data and Setting Training Data Size"
   ]
  },
  {
   "cell_type": "code",
   "execution_count": 11,
   "id": "910ae358",
   "metadata": {
    "execution": {
     "iopub.execute_input": "2025-08-19T19:04:29.927878Z",
     "iopub.status.busy": "2025-08-19T19:04:29.927413Z",
     "iopub.status.idle": "2025-08-19T19:04:30.566779Z",
     "shell.execute_reply": "2025-08-19T19:04:30.565983Z"
    },
    "papermill": {
     "duration": 0.651597,
     "end_time": "2025-08-19T19:04:30.568197",
     "exception": false,
     "start_time": "2025-08-19T19:04:29.916600",
     "status": "completed"
    },
    "tags": []
   },
   "outputs": [],
   "source": [
    "from fairness_multiverse.universe import sample_by_year_size\n",
    "\n",
    "siab_train = sample_by_year_size(siab,\n",
    "                               training_year=universe[\"training_year\"],\n",
    "                               training_size=universe[\"training_size\"])"
   ]
  },
  {
   "cell_type": "code",
   "execution_count": 12,
   "id": "919c8ff5",
   "metadata": {
    "execution": {
     "iopub.execute_input": "2025-08-19T19:04:30.598733Z",
     "iopub.status.busy": "2025-08-19T19:04:30.598373Z",
     "iopub.status.idle": "2025-08-19T19:04:30.605439Z",
     "shell.execute_reply": "2025-08-19T19:04:30.604720Z"
    },
    "papermill": {
     "duration": 0.02505,
     "end_time": "2025-08-19T19:04:30.606743",
     "exception": false,
     "start_time": "2025-08-19T19:04:30.581693",
     "status": "completed"
    },
    "tags": []
   },
   "outputs": [
    {
     "data": {
      "text/plain": [
       "(1000, 164)"
      ]
     },
     "execution_count": 12,
     "metadata": {},
     "output_type": "execute_result"
    }
   ],
   "source": [
    "siab_train.shape"
   ]
  },
  {
   "cell_type": "code",
   "execution_count": 13,
   "id": "feb13bf4",
   "metadata": {
    "execution": {
     "iopub.execute_input": "2025-08-19T19:04:30.628138Z",
     "iopub.status.busy": "2025-08-19T19:04:30.627838Z",
     "iopub.status.idle": "2025-08-19T19:04:30.655117Z",
     "shell.execute_reply": "2025-08-19T19:04:30.654159Z"
    },
    "papermill": {
     "duration": 0.04053,
     "end_time": "2025-08-19T19:04:30.657377",
     "exception": false,
     "start_time": "2025-08-19T19:04:30.616847",
     "status": "completed"
    },
    "tags": []
   },
   "outputs": [
    {
     "data": {
      "text/plain": [
       "year\n",
       "2012    334\n",
       "2013    333\n",
       "2014    333\n",
       "dtype: int64"
      ]
     },
     "metadata": {},
     "output_type": "display_data"
    }
   ],
   "source": [
    "display(siab_train.groupby(\"year\").size())"
   ]
  },
  {
   "cell_type": "code",
   "execution_count": 14,
   "id": "0997782f",
   "metadata": {
    "execution": {
     "iopub.execute_input": "2025-08-19T19:04:30.681793Z",
     "iopub.status.busy": "2025-08-19T19:04:30.681289Z",
     "iopub.status.idle": "2025-08-19T19:04:30.919883Z",
     "shell.execute_reply": "2025-08-19T19:04:30.919080Z"
    },
    "papermill": {
     "duration": 0.251037,
     "end_time": "2025-08-19T19:04:30.921330",
     "exception": false,
     "start_time": "2025-08-19T19:04:30.670293",
     "status": "completed"
    },
    "tags": []
   },
   "outputs": [],
   "source": [
    "#siab_train = siab_s[siab_s.year < 2015]\n",
    "siab_calib = siab[siab.year == 2015]\n",
    "siab_test = siab[siab.year == 2016]"
   ]
  },
  {
   "cell_type": "code",
   "execution_count": 15,
   "id": "2c1e4012",
   "metadata": {
    "execution": {
     "iopub.execute_input": "2025-08-19T19:04:30.945429Z",
     "iopub.status.busy": "2025-08-19T19:04:30.944863Z",
     "iopub.status.idle": "2025-08-19T19:04:30.950478Z",
     "shell.execute_reply": "2025-08-19T19:04:30.949426Z"
    },
    "papermill": {
     "duration": 0.019879,
     "end_time": "2025-08-19T19:04:30.951626",
     "exception": false,
     "start_time": "2025-08-19T19:04:30.931747",
     "status": "completed"
    },
    "tags": []
   },
   "outputs": [],
   "source": [
    "#siab_calib.shape"
   ]
  },
  {
   "cell_type": "code",
   "execution_count": 16,
   "id": "f66b54ca",
   "metadata": {
    "execution": {
     "iopub.execute_input": "2025-08-19T19:04:30.987248Z",
     "iopub.status.busy": "2025-08-19T19:04:30.986697Z",
     "iopub.status.idle": "2025-08-19T19:04:30.993319Z",
     "shell.execute_reply": "2025-08-19T19:04:30.991670Z"
    },
    "papermill": {
     "duration": 0.032826,
     "end_time": "2025-08-19T19:04:30.995193",
     "exception": false,
     "start_time": "2025-08-19T19:04:30.962367",
     "status": "completed"
    },
    "tags": []
   },
   "outputs": [],
   "source": [
    "#siab_test.shape"
   ]
  },
  {
   "cell_type": "code",
   "execution_count": 17,
   "id": "27e4384d",
   "metadata": {
    "execution": {
     "iopub.execute_input": "2025-08-19T19:04:31.023665Z",
     "iopub.status.busy": "2025-08-19T19:04:31.022995Z",
     "iopub.status.idle": "2025-08-19T19:04:31.033749Z",
     "shell.execute_reply": "2025-08-19T19:04:31.031732Z"
    },
    "papermill": {
     "duration": 0.025039,
     "end_time": "2025-08-19T19:04:31.035239",
     "exception": false,
     "start_time": "2025-08-19T19:04:31.010200",
     "status": "completed"
    },
    "tags": []
   },
   "outputs": [],
   "source": [
    "X_train = siab_train.iloc[:,4:164]\n",
    "y_train = siab_train.iloc[:, [3]]"
   ]
  },
  {
   "cell_type": "code",
   "execution_count": 18,
   "id": "08ee8389",
   "metadata": {
    "execution": {
     "iopub.execute_input": "2025-08-19T19:04:31.066226Z",
     "iopub.status.busy": "2025-08-19T19:04:31.065542Z",
     "iopub.status.idle": "2025-08-19T19:04:31.129570Z",
     "shell.execute_reply": "2025-08-19T19:04:31.127606Z"
    },
    "papermill": {
     "duration": 0.081718,
     "end_time": "2025-08-19T19:04:31.133830",
     "exception": false,
     "start_time": "2025-08-19T19:04:31.052112",
     "status": "completed"
    },
    "tags": []
   },
   "outputs": [],
   "source": [
    "X_calib = siab_calib.iloc[:,4:164]\n",
    "y_calib = siab_calib.iloc[:, [3]]"
   ]
  },
  {
   "cell_type": "code",
   "execution_count": 19,
   "id": "b7ff42e0",
   "metadata": {
    "execution": {
     "iopub.execute_input": "2025-08-19T19:04:31.178954Z",
     "iopub.status.busy": "2025-08-19T19:04:31.170251Z",
     "iopub.status.idle": "2025-08-19T19:04:31.266146Z",
     "shell.execute_reply": "2025-08-19T19:04:31.265176Z"
    },
    "papermill": {
     "duration": 0.112738,
     "end_time": "2025-08-19T19:04:31.268715",
     "exception": false,
     "start_time": "2025-08-19T19:04:31.155977",
     "status": "completed"
    },
    "tags": []
   },
   "outputs": [],
   "source": [
    "X_test = siab_test.iloc[:,4:164]\n",
    "y_true = siab_test.iloc[:, [3]]"
   ]
  },
  {
   "cell_type": "code",
   "execution_count": 20,
   "id": "0275101e",
   "metadata": {
    "execution": {
     "iopub.execute_input": "2025-08-19T19:04:31.307474Z",
     "iopub.status.busy": "2025-08-19T19:04:31.306794Z",
     "iopub.status.idle": "2025-08-19T19:04:31.421045Z",
     "shell.execute_reply": "2025-08-19T19:04:31.420102Z"
    },
    "papermill": {
     "duration": 0.131121,
     "end_time": "2025-08-19T19:04:31.423782",
     "exception": false,
     "start_time": "2025-08-19T19:04:31.292661",
     "status": "completed"
    },
    "tags": []
   },
   "outputs": [],
   "source": [
    "# Auxiliary data needed downstream in the pipeline\n",
    "\n",
    "org_train = X_train.copy()\n",
    "org_test = X_test.copy()\n",
    "org_calib = X_calib.copy()"
   ]
  },
  {
   "cell_type": "markdown",
   "id": "b461e618",
   "metadata": {
    "papermill": {
     "duration": 0.0121,
     "end_time": "2025-08-19T19:04:31.459167",
     "exception": false,
     "start_time": "2025-08-19T19:04:31.447067",
     "status": "completed"
    },
    "tags": []
   },
   "source": [
    "# Preprocessing Data"
   ]
  },
  {
   "cell_type": "code",
   "execution_count": 21,
   "id": "78e74c4b",
   "metadata": {
    "execution": {
     "iopub.execute_input": "2025-08-19T19:04:31.480922Z",
     "iopub.status.busy": "2025-08-19T19:04:31.480576Z",
     "iopub.status.idle": "2025-08-19T19:04:31.486218Z",
     "shell.execute_reply": "2025-08-19T19:04:31.485414Z"
    },
    "papermill": {
     "duration": 0.01869,
     "end_time": "2025-08-19T19:04:31.488002",
     "exception": false,
     "start_time": "2025-08-19T19:04:31.469312",
     "status": "completed"
    },
    "tags": []
   },
   "outputs": [],
   "source": [
    "# EXCLUDE PROTECTED FEATURES\n",
    "# --------------------------\n",
    "\n",
    "excluded_features = universe[\"exclude_features\"].split(\"-\")\n",
    "excluded_features_dictionary = {\n",
    "    \"nationality\": [\"maxdeutsch1\", \"maxdeutsch.Missing.\"],\n",
    "    \"sex\": [\"frau1\"],\n",
    "    \"age\": [\"age\"],\n",
    "}"
   ]
  },
  {
   "cell_type": "code",
   "execution_count": 22,
   "id": "f8e63555",
   "metadata": {
    "execution": {
     "iopub.execute_input": "2025-08-19T19:04:31.510867Z",
     "iopub.status.busy": "2025-08-19T19:04:31.509880Z",
     "iopub.status.idle": "2025-08-19T19:04:31.516465Z",
     "shell.execute_reply": "2025-08-19T19:04:31.515372Z"
    },
    "papermill": {
     "duration": 0.019126,
     "end_time": "2025-08-19T19:04:31.517675",
     "exception": false,
     "start_time": "2025-08-19T19:04:31.498549",
     "status": "completed"
    },
    "tags": []
   },
   "outputs": [],
   "source": [
    "excluded_features_columns = [\n",
    "    excluded_features_dictionary[f] for f in excluded_features if len(f) > 0 and f != \"none\"\n",
    "]"
   ]
  },
  {
   "cell_type": "code",
   "execution_count": 23,
   "id": "da781f7c",
   "metadata": {
    "execution": {
     "iopub.execute_input": "2025-08-19T19:04:31.541273Z",
     "iopub.status.busy": "2025-08-19T19:04:31.540024Z",
     "iopub.status.idle": "2025-08-19T19:04:31.546732Z",
     "shell.execute_reply": "2025-08-19T19:04:31.545602Z"
    },
    "papermill": {
     "duration": 0.020378,
     "end_time": "2025-08-19T19:04:31.548505",
     "exception": false,
     "start_time": "2025-08-19T19:04:31.528127",
     "status": "completed"
    },
    "tags": []
   },
   "outputs": [],
   "source": [
    "from fairness_multiverse.universe import flatten_once\n",
    "\n",
    "excluded_features_columns = flatten_once(excluded_features_columns)"
   ]
  },
  {
   "cell_type": "code",
   "execution_count": 24,
   "id": "37fef0f0",
   "metadata": {
    "execution": {
     "iopub.execute_input": "2025-08-19T19:04:31.580000Z",
     "iopub.status.busy": "2025-08-19T19:04:31.576981Z",
     "iopub.status.idle": "2025-08-19T19:04:31.596077Z",
     "shell.execute_reply": "2025-08-19T19:04:31.595092Z"
    },
    "papermill": {
     "duration": 0.033478,
     "end_time": "2025-08-19T19:04:31.597868",
     "exception": false,
     "start_time": "2025-08-19T19:04:31.564390",
     "status": "completed"
    },
    "tags": []
   },
   "outputs": [
    {
     "name": "stdout",
     "output_type": "stream",
     "text": [
      "Dropping features: ['age']\n"
     ]
    }
   ],
   "source": [
    "if len(excluded_features_columns) > 0:\n",
    "    print(f\"Dropping features: {excluded_features_columns}\")\n",
    "    X_train.drop(excluded_features_columns, axis=1, inplace=True)"
   ]
  },
  {
   "cell_type": "code",
   "execution_count": 25,
   "id": "d029e3e9",
   "metadata": {
    "execution": {
     "iopub.execute_input": "2025-08-19T19:04:31.628349Z",
     "iopub.status.busy": "2025-08-19T19:04:31.627626Z",
     "iopub.status.idle": "2025-08-19T19:04:31.692295Z",
     "shell.execute_reply": "2025-08-19T19:04:31.691593Z"
    },
    "papermill": {
     "duration": 0.080316,
     "end_time": "2025-08-19T19:04:31.695531",
     "exception": false,
     "start_time": "2025-08-19T19:04:31.615215",
     "status": "completed"
    },
    "tags": []
   },
   "outputs": [
    {
     "name": "stdout",
     "output_type": "stream",
     "text": [
      "Dropping features: ['age']\n"
     ]
    }
   ],
   "source": [
    "if len(excluded_features_columns) > 0:\n",
    "    print(f\"Dropping features: {excluded_features_columns}\")\n",
    "    X_test.drop(excluded_features_columns, axis=1, inplace=True)"
   ]
  },
  {
   "cell_type": "code",
   "execution_count": 26,
   "id": "01d571f0",
   "metadata": {
    "execution": {
     "iopub.execute_input": "2025-08-19T19:04:31.734262Z",
     "iopub.status.busy": "2025-08-19T19:04:31.733673Z",
     "iopub.status.idle": "2025-08-19T19:04:31.793458Z",
     "shell.execute_reply": "2025-08-19T19:04:31.792761Z"
    },
    "papermill": {
     "duration": 0.077633,
     "end_time": "2025-08-19T19:04:31.797405",
     "exception": false,
     "start_time": "2025-08-19T19:04:31.719772",
     "status": "completed"
    },
    "tags": []
   },
   "outputs": [
    {
     "name": "stdout",
     "output_type": "stream",
     "text": [
      "Dropping features: ['age']\n"
     ]
    }
   ],
   "source": [
    "if len(excluded_features_columns) > 0:\n",
    "    print(f\"Dropping features: {excluded_features_columns}\")\n",
    "    X_calib.drop(excluded_features_columns, axis=1, inplace=True)"
   ]
  },
  {
   "cell_type": "code",
   "execution_count": 27,
   "id": "3037356e",
   "metadata": {
    "execution": {
     "iopub.execute_input": "2025-08-19T19:04:31.836878Z",
     "iopub.status.busy": "2025-08-19T19:04:31.836220Z",
     "iopub.status.idle": "2025-08-19T19:04:31.843087Z",
     "shell.execute_reply": "2025-08-19T19:04:31.841780Z"
    },
    "papermill": {
     "duration": 0.021842,
     "end_time": "2025-08-19T19:04:31.844453",
     "exception": false,
     "start_time": "2025-08-19T19:04:31.822611",
     "status": "completed"
    },
    "tags": []
   },
   "outputs": [],
   "source": [
    "# EXCLUDE CERTAIN SUBGROUPS\n",
    "# -------------------------\n",
    "\n",
    "mode = universe.get(\"exclude_subgroups\", \"keep-all\") # Defaults to \"keep-all\" if the key is missing."
   ]
  },
  {
   "cell_type": "code",
   "execution_count": 28,
   "id": "9d1e63fd",
   "metadata": {
    "execution": {
     "iopub.execute_input": "2025-08-19T19:04:31.869586Z",
     "iopub.status.busy": "2025-08-19T19:04:31.868915Z",
     "iopub.status.idle": "2025-08-19T19:04:31.878743Z",
     "shell.execute_reply": "2025-08-19T19:04:31.877391Z"
    },
    "papermill": {
     "duration": 0.02402,
     "end_time": "2025-08-19T19:04:31.880259",
     "exception": false,
     "start_time": "2025-08-19T19:04:31.856239",
     "status": "completed"
    },
    "tags": []
   },
   "outputs": [],
   "source": [
    "if mode == \"keep-all\":\n",
    "    keep_mask = pd.Series(True, index=org_train.index)\n",
    "\n",
    "elif mode == \"drop-non-german\":\n",
    "    keep_mask = (org_train[\"maxdeutsch1\"] == 1) & (org_train[\"maxdeutsch.Missing.\"] == 0)\n",
    "\n",
    "else:\n",
    "    raise ValueError(f\"Unsupported mode for exclude_subgroups: {mode}\")"
   ]
  },
  {
   "cell_type": "code",
   "execution_count": 29,
   "id": "d3b65474",
   "metadata": {
    "execution": {
     "iopub.execute_input": "2025-08-19T19:04:31.907139Z",
     "iopub.status.busy": "2025-08-19T19:04:31.906440Z",
     "iopub.status.idle": "2025-08-19T19:04:31.915993Z",
     "shell.execute_reply": "2025-08-19T19:04:31.914725Z"
    },
    "papermill": {
     "duration": 0.023673,
     "end_time": "2025-08-19T19:04:31.917589",
     "exception": false,
     "start_time": "2025-08-19T19:04:31.893916",
     "status": "completed"
    },
    "tags": []
   },
   "outputs": [],
   "source": [
    "n_drop = (~keep_mask).sum() # Calculates how many rows are set to be dropped\n",
    "if n_drop > 0:\n",
    "    pct = n_drop / len(keep_mask) * 100\n",
    "    print(f\"Dropping {n_drop} rows ({pct:.2f}%) where mode='{mode}'\")"
   ]
  },
  {
   "cell_type": "code",
   "execution_count": 30,
   "id": "f44389b3",
   "metadata": {
    "execution": {
     "iopub.execute_input": "2025-08-19T19:04:31.944518Z",
     "iopub.status.busy": "2025-08-19T19:04:31.943821Z",
     "iopub.status.idle": "2025-08-19T19:04:31.952423Z",
     "shell.execute_reply": "2025-08-19T19:04:31.951217Z"
    },
    "papermill": {
     "duration": 0.022418,
     "end_time": "2025-08-19T19:04:31.953931",
     "exception": false,
     "start_time": "2025-08-19T19:04:31.931513",
     "status": "completed"
    },
    "tags": []
   },
   "outputs": [],
   "source": [
    "X_train = X_train[keep_mask]"
   ]
  },
  {
   "cell_type": "code",
   "execution_count": 31,
   "id": "ceca8c2a",
   "metadata": {
    "execution": {
     "iopub.execute_input": "2025-08-19T19:04:31.979871Z",
     "iopub.status.busy": "2025-08-19T19:04:31.979185Z",
     "iopub.status.idle": "2025-08-19T19:04:31.986764Z",
     "shell.execute_reply": "2025-08-19T19:04:31.985519Z"
    },
    "papermill": {
     "duration": 0.021816,
     "end_time": "2025-08-19T19:04:31.988159",
     "exception": false,
     "start_time": "2025-08-19T19:04:31.966343",
     "status": "completed"
    },
    "tags": []
   },
   "outputs": [],
   "source": [
    "y_train = y_train[keep_mask]"
   ]
  },
  {
   "cell_type": "markdown",
   "id": "04d31e2f",
   "metadata": {
    "papermill": {
     "duration": 0.010596,
     "end_time": "2025-08-19T19:04:32.012746",
     "exception": false,
     "start_time": "2025-08-19T19:04:32.002150",
     "status": "completed"
    },
    "tags": []
   },
   "source": [
    "# Model Training"
   ]
  },
  {
   "cell_type": "code",
   "execution_count": 32,
   "id": "db991733",
   "metadata": {
    "execution": {
     "iopub.execute_input": "2025-08-19T19:04:32.036618Z",
     "iopub.status.busy": "2025-08-19T19:04:32.035885Z",
     "iopub.status.idle": "2025-08-19T19:04:32.141151Z",
     "shell.execute_reply": "2025-08-19T19:04:32.140321Z"
    },
    "papermill": {
     "duration": 0.120789,
     "end_time": "2025-08-19T19:04:32.144068",
     "exception": false,
     "start_time": "2025-08-19T19:04:32.023279",
     "status": "completed"
    },
    "tags": []
   },
   "outputs": [],
   "source": [
    "from sklearn.linear_model import LogisticRegression\n",
    "from sklearn.ensemble import GradientBoostingClassifier, RandomForestClassifier\n",
    "\n",
    "if (universe[\"model\"] == \"logreg\"):\n",
    "    model = LogisticRegression() #penalty=\"none\", solver=\"newton-cg\", max_iter=1)\n",
    "elif (universe[\"model\"] == \"penalized_logreg\"):\n",
    "    model = LogisticRegression(penalty=\"l2\", C=0.1) #, solver=\"newton-cg\", max_iter=1)\n",
    "elif (universe[\"model\"] == \"rf\"):\n",
    "    model = RandomForestClassifier() # n_estimators=100, n_jobs=-1\n",
    "elif (universe[\"model\"] == \"gbm\"):\n",
    "    model = GradientBoostingClassifier()\n",
    "elif (universe[\"model\"] == \"elasticnet\"):\n",
    "    model = LogisticRegression(penalty = 'elasticnet', solver = 'saga', l1_ratio = 0.5) # max_iter=5000\n",
    "else:\n",
    "    raise \"Unsupported universe.model\""
   ]
  },
  {
   "cell_type": "code",
   "execution_count": 33,
   "id": "a4b5cd25",
   "metadata": {
    "execution": {
     "iopub.execute_input": "2025-08-19T19:04:32.187652Z",
     "iopub.status.busy": "2025-08-19T19:04:32.186940Z",
     "iopub.status.idle": "2025-08-19T19:04:32.195890Z",
     "shell.execute_reply": "2025-08-19T19:04:32.194512Z"
    },
    "papermill": {
     "duration": 0.0254,
     "end_time": "2025-08-19T19:04:32.197457",
     "exception": false,
     "start_time": "2025-08-19T19:04:32.172057",
     "status": "completed"
    },
    "tags": []
   },
   "outputs": [],
   "source": [
    "from sklearn.pipeline import Pipeline\n",
    "from sklearn.preprocessing import StandardScaler\n",
    "\n",
    "model = Pipeline([\n",
    "    #(\"continuous_processor\", continuous_processor),\n",
    "    #(\"categorical_preprocessor\", categorical_preprocessor),\n",
    "    (\"scale\", StandardScaler() if universe[\"scale\"] == \"scale\" else None), \n",
    "    (\"model\", model),\n",
    "])"
   ]
  },
  {
   "cell_type": "code",
   "execution_count": 34,
   "id": "283a904d",
   "metadata": {
    "execution": {
     "iopub.execute_input": "2025-08-19T19:04:32.238329Z",
     "iopub.status.busy": "2025-08-19T19:04:32.237625Z",
     "iopub.status.idle": "2025-08-19T19:04:32.506502Z",
     "shell.execute_reply": "2025-08-19T19:04:32.505814Z"
    },
    "papermill": {
     "duration": 0.304956,
     "end_time": "2025-08-19T19:04:32.515641",
     "exception": false,
     "start_time": "2025-08-19T19:04:32.210685",
     "status": "completed"
    },
    "tags": []
   },
   "outputs": [
    {
     "name": "stderr",
     "output_type": "stream",
     "text": [
      "/dss/dsshome1/0C/ra93lal2/.local/share/virtualenvs/CMA_Fairness_v2-3j10GkSs/lib/python3.10/site-packages/sklearn/linear_model/_sag.py:350: ConvergenceWarning: The max_iter was reached which means the coef_ did not converge\n",
      "  warnings.warn(\n"
     ]
    },
    {
     "data": {
      "text/html": [
       "<style>#sk-container-id-1 {color: black;background-color: white;}#sk-container-id-1 pre{padding: 0;}#sk-container-id-1 div.sk-toggleable {background-color: white;}#sk-container-id-1 label.sk-toggleable__label {cursor: pointer;display: block;width: 100%;margin-bottom: 0;padding: 0.3em;box-sizing: border-box;text-align: center;}#sk-container-id-1 label.sk-toggleable__label-arrow:before {content: \"▸\";float: left;margin-right: 0.25em;color: #696969;}#sk-container-id-1 label.sk-toggleable__label-arrow:hover:before {color: black;}#sk-container-id-1 div.sk-estimator:hover label.sk-toggleable__label-arrow:before {color: black;}#sk-container-id-1 div.sk-toggleable__content {max-height: 0;max-width: 0;overflow: hidden;text-align: left;background-color: #f0f8ff;}#sk-container-id-1 div.sk-toggleable__content pre {margin: 0.2em;color: black;border-radius: 0.25em;background-color: #f0f8ff;}#sk-container-id-1 input.sk-toggleable__control:checked~div.sk-toggleable__content {max-height: 200px;max-width: 100%;overflow: auto;}#sk-container-id-1 input.sk-toggleable__control:checked~label.sk-toggleable__label-arrow:before {content: \"▾\";}#sk-container-id-1 div.sk-estimator input.sk-toggleable__control:checked~label.sk-toggleable__label {background-color: #d4ebff;}#sk-container-id-1 div.sk-label input.sk-toggleable__control:checked~label.sk-toggleable__label {background-color: #d4ebff;}#sk-container-id-1 input.sk-hidden--visually {border: 0;clip: rect(1px 1px 1px 1px);clip: rect(1px, 1px, 1px, 1px);height: 1px;margin: -1px;overflow: hidden;padding: 0;position: absolute;width: 1px;}#sk-container-id-1 div.sk-estimator {font-family: monospace;background-color: #f0f8ff;border: 1px dotted black;border-radius: 0.25em;box-sizing: border-box;margin-bottom: 0.5em;}#sk-container-id-1 div.sk-estimator:hover {background-color: #d4ebff;}#sk-container-id-1 div.sk-parallel-item::after {content: \"\";width: 100%;border-bottom: 1px solid gray;flex-grow: 1;}#sk-container-id-1 div.sk-label:hover label.sk-toggleable__label {background-color: #d4ebff;}#sk-container-id-1 div.sk-serial::before {content: \"\";position: absolute;border-left: 1px solid gray;box-sizing: border-box;top: 0;bottom: 0;left: 50%;z-index: 0;}#sk-container-id-1 div.sk-serial {display: flex;flex-direction: column;align-items: center;background-color: white;padding-right: 0.2em;padding-left: 0.2em;position: relative;}#sk-container-id-1 div.sk-item {position: relative;z-index: 1;}#sk-container-id-1 div.sk-parallel {display: flex;align-items: stretch;justify-content: center;background-color: white;position: relative;}#sk-container-id-1 div.sk-item::before, #sk-container-id-1 div.sk-parallel-item::before {content: \"\";position: absolute;border-left: 1px solid gray;box-sizing: border-box;top: 0;bottom: 0;left: 50%;z-index: -1;}#sk-container-id-1 div.sk-parallel-item {display: flex;flex-direction: column;z-index: 1;position: relative;background-color: white;}#sk-container-id-1 div.sk-parallel-item:first-child::after {align-self: flex-end;width: 50%;}#sk-container-id-1 div.sk-parallel-item:last-child::after {align-self: flex-start;width: 50%;}#sk-container-id-1 div.sk-parallel-item:only-child::after {width: 0;}#sk-container-id-1 div.sk-dashed-wrapped {border: 1px dashed gray;margin: 0 0.4em 0.5em 0.4em;box-sizing: border-box;padding-bottom: 0.4em;background-color: white;}#sk-container-id-1 div.sk-label label {font-family: monospace;font-weight: bold;display: inline-block;line-height: 1.2em;}#sk-container-id-1 div.sk-label-container {text-align: center;}#sk-container-id-1 div.sk-container {/* jupyter's `normalize.less` sets `[hidden] { display: none; }` but bootstrap.min.css set `[hidden] { display: none !important; }` so we also need the `!important` here to be able to override the default hidden behavior on the sphinx rendered scikit-learn.org. See: https://github.com/scikit-learn/scikit-learn/issues/21755 */display: inline-block !important;position: relative;}#sk-container-id-1 div.sk-text-repr-fallback {display: none;}</style><div id=\"sk-container-id-1\" class=\"sk-top-container\"><div class=\"sk-text-repr-fallback\"><pre>Pipeline(steps=[(&#x27;scale&#x27;, None),\n",
       "                (&#x27;model&#x27;,\n",
       "                 LogisticRegression(l1_ratio=0.5, penalty=&#x27;elasticnet&#x27;,\n",
       "                                    solver=&#x27;saga&#x27;))])</pre><b>In a Jupyter environment, please rerun this cell to show the HTML representation or trust the notebook. <br />On GitHub, the HTML representation is unable to render, please try loading this page with nbviewer.org.</b></div><div class=\"sk-container\" hidden><div class=\"sk-item sk-dashed-wrapped\"><div class=\"sk-label-container\"><div class=\"sk-label sk-toggleable\"><input class=\"sk-toggleable__control sk-hidden--visually\" id=\"sk-estimator-id-1\" type=\"checkbox\" ><label for=\"sk-estimator-id-1\" class=\"sk-toggleable__label sk-toggleable__label-arrow\">Pipeline</label><div class=\"sk-toggleable__content\"><pre>Pipeline(steps=[(&#x27;scale&#x27;, None),\n",
       "                (&#x27;model&#x27;,\n",
       "                 LogisticRegression(l1_ratio=0.5, penalty=&#x27;elasticnet&#x27;,\n",
       "                                    solver=&#x27;saga&#x27;))])</pre></div></div></div><div class=\"sk-serial\"><div class=\"sk-item\"><div class=\"sk-estimator sk-toggleable\"><input class=\"sk-toggleable__control sk-hidden--visually\" id=\"sk-estimator-id-2\" type=\"checkbox\" ><label for=\"sk-estimator-id-2\" class=\"sk-toggleable__label sk-toggleable__label-arrow\">None</label><div class=\"sk-toggleable__content\"><pre>None</pre></div></div></div><div class=\"sk-item\"><div class=\"sk-estimator sk-toggleable\"><input class=\"sk-toggleable__control sk-hidden--visually\" id=\"sk-estimator-id-3\" type=\"checkbox\" ><label for=\"sk-estimator-id-3\" class=\"sk-toggleable__label sk-toggleable__label-arrow\">LogisticRegression</label><div class=\"sk-toggleable__content\"><pre>LogisticRegression(l1_ratio=0.5, penalty=&#x27;elasticnet&#x27;, solver=&#x27;saga&#x27;)</pre></div></div></div></div></div></div></div>"
      ],
      "text/plain": [
       "Pipeline(steps=[('scale', None),\n",
       "                ('model',\n",
       "                 LogisticRegression(l1_ratio=0.5, penalty='elasticnet',\n",
       "                                    solver='saga'))])"
      ]
     },
     "execution_count": 34,
     "metadata": {},
     "output_type": "execute_result"
    }
   ],
   "source": [
    "model.fit(X_train, y_train.values.ravel())"
   ]
  },
  {
   "cell_type": "code",
   "execution_count": 35,
   "id": "6e15e313",
   "metadata": {
    "execution": {
     "iopub.execute_input": "2025-08-19T19:04:32.548899Z",
     "iopub.status.busy": "2025-08-19T19:04:32.548166Z",
     "iopub.status.idle": "2025-08-19T19:04:32.650877Z",
     "shell.execute_reply": "2025-08-19T19:04:32.650164Z"
    },
    "papermill": {
     "duration": 0.118994,
     "end_time": "2025-08-19T19:04:32.654089",
     "exception": false,
     "start_time": "2025-08-19T19:04:32.535095",
     "status": "completed"
    },
    "tags": []
   },
   "outputs": [
    {
     "data": {
      "text/plain": [
       "0.8662913833463382"
      ]
     },
     "execution_count": 35,
     "metadata": {},
     "output_type": "execute_result"
    }
   ],
   "source": [
    "from fairness_multiverse.universe import predict_w_threshold\n",
    "\n",
    "probs_test = model.predict_proba(X_test)\n",
    "\n",
    "'''\n",
    "Below code returns a boolean array (or binary 0/1 array depending on how it’s used) where each element \n",
    "is True if the probability of class 1 is greater than or equal to the threshold, and False otherwise.\n",
    "'''\n",
    "y_pred_default = predict_w_threshold(probs_test, 0.5)\n",
    "\n",
    "from sklearn.metrics import accuracy_score\n",
    "\n",
    "# Naive prediction\n",
    "accuracy_score(y_true = y_true, y_pred = y_pred_default)"
   ]
  },
  {
   "cell_type": "code",
   "execution_count": 36,
   "id": "6f14067c",
   "metadata": {
    "execution": {
     "iopub.execute_input": "2025-08-19T19:04:32.701702Z",
     "iopub.status.busy": "2025-08-19T19:04:32.701002Z",
     "iopub.status.idle": "2025-08-19T19:04:32.796055Z",
     "shell.execute_reply": "2025-08-19T19:04:32.795302Z"
    },
    "papermill": {
     "duration": 0.117701,
     "end_time": "2025-08-19T19:04:32.797593",
     "exception": false,
     "start_time": "2025-08-19T19:04:32.679892",
     "status": "completed"
    },
    "tags": []
   },
   "outputs": [
    {
     "data": {
      "text/plain": [
       "array([0, 0, 0, ..., 0, 0, 0])"
      ]
     },
     "execution_count": 36,
     "metadata": {},
     "output_type": "execute_result"
    }
   ],
   "source": [
    "model.predict(X_test)"
   ]
  },
  {
   "cell_type": "markdown",
   "id": "3759920c",
   "metadata": {
    "papermill": {
     "duration": 0.011041,
     "end_time": "2025-08-19T19:04:32.822281",
     "exception": false,
     "start_time": "2025-08-19T19:04:32.811240",
     "status": "completed"
    },
    "tags": []
   },
   "source": [
    "# Conformal Prediction"
   ]
  },
  {
   "cell_type": "code",
   "execution_count": 37,
   "id": "14b27f59",
   "metadata": {
    "execution": {
     "iopub.execute_input": "2025-08-19T19:04:32.845550Z",
     "iopub.status.busy": "2025-08-19T19:04:32.845252Z",
     "iopub.status.idle": "2025-08-19T19:04:32.849342Z",
     "shell.execute_reply": "2025-08-19T19:04:32.848686Z"
    },
    "papermill": {
     "duration": 0.017488,
     "end_time": "2025-08-19T19:04:32.850786",
     "exception": false,
     "start_time": "2025-08-19T19:04:32.833298",
     "status": "completed"
    },
    "tags": []
   },
   "outputs": [],
   "source": [
    "# Miscoverage level for conformal prediction (10% allowed error rate => 90% target coverage)\n",
    "alpha = 0.1"
   ]
  },
  {
   "cell_type": "code",
   "execution_count": 38,
   "id": "59102472",
   "metadata": {
    "execution": {
     "iopub.execute_input": "2025-08-19T19:04:32.874733Z",
     "iopub.status.busy": "2025-08-19T19:04:32.874470Z",
     "iopub.status.idle": "2025-08-19T19:04:32.957108Z",
     "shell.execute_reply": "2025-08-19T19:04:32.956331Z"
    },
    "papermill": {
     "duration": 0.096598,
     "end_time": "2025-08-19T19:04:32.958660",
     "exception": false,
     "start_time": "2025-08-19T19:04:32.862062",
     "status": "completed"
    },
    "tags": []
   },
   "outputs": [],
   "source": [
    "probs_calib = model.predict_proba(X_calib)"
   ]
  },
  {
   "cell_type": "code",
   "execution_count": 39,
   "id": "a792d4dd",
   "metadata": {
    "execution": {
     "iopub.execute_input": "2025-08-19T19:04:32.984749Z",
     "iopub.status.busy": "2025-08-19T19:04:32.983623Z",
     "iopub.status.idle": "2025-08-19T19:04:33.128600Z",
     "shell.execute_reply": "2025-08-19T19:04:33.127777Z"
    },
    "papermill": {
     "duration": 0.161047,
     "end_time": "2025-08-19T19:04:33.131412",
     "exception": false,
     "start_time": "2025-08-19T19:04:32.970365",
     "status": "completed"
    },
    "tags": []
   },
   "outputs": [],
   "source": [
    "y_calib = y_calib.values.ravel().astype(int)"
   ]
  },
  {
   "cell_type": "code",
   "execution_count": 40,
   "id": "650fd033",
   "metadata": {
    "execution": {
     "iopub.execute_input": "2025-08-19T19:04:33.172934Z",
     "iopub.status.busy": "2025-08-19T19:04:33.171643Z",
     "iopub.status.idle": "2025-08-19T19:04:33.182395Z",
     "shell.execute_reply": "2025-08-19T19:04:33.181223Z"
    },
    "papermill": {
     "duration": 0.02683,
     "end_time": "2025-08-19T19:04:33.183924",
     "exception": false,
     "start_time": "2025-08-19T19:04:33.157094",
     "status": "completed"
    },
    "tags": []
   },
   "outputs": [],
   "source": [
    "from fairness_multiverse.conformal import compute_nc_scores\n",
    "\n",
    "# Compute nonconformity scores on calibration set (1 - probability of true class)\n",
    "nc_scores = compute_nc_scores(probs_calib, y_calib)"
   ]
  },
  {
   "cell_type": "code",
   "execution_count": 41,
   "id": "28ada44c",
   "metadata": {
    "execution": {
     "iopub.execute_input": "2025-08-19T19:04:33.212988Z",
     "iopub.status.busy": "2025-08-19T19:04:33.212580Z",
     "iopub.status.idle": "2025-08-19T19:04:33.219956Z",
     "shell.execute_reply": "2025-08-19T19:04:33.219100Z"
    },
    "papermill": {
     "duration": 0.021859,
     "end_time": "2025-08-19T19:04:33.221281",
     "exception": false,
     "start_time": "2025-08-19T19:04:33.199422",
     "status": "completed"
    },
    "tags": []
   },
   "outputs": [],
   "source": [
    "from fairness_multiverse.conformal import find_threshold\n",
    "\n",
    "# Find conformal threshold q_hat for the given alpha (split conformal method)\n",
    "q_hat = find_threshold(nc_scores, alpha)"
   ]
  },
  {
   "cell_type": "code",
   "execution_count": 42,
   "id": "df56469e",
   "metadata": {
    "execution": {
     "iopub.execute_input": "2025-08-19T19:04:33.248221Z",
     "iopub.status.busy": "2025-08-19T19:04:33.247746Z",
     "iopub.status.idle": "2025-08-19T19:04:33.253600Z",
     "shell.execute_reply": "2025-08-19T19:04:33.252843Z"
    },
    "papermill": {
     "duration": 0.01956,
     "end_time": "2025-08-19T19:04:33.254963",
     "exception": false,
     "start_time": "2025-08-19T19:04:33.235403",
     "status": "completed"
    },
    "tags": []
   },
   "outputs": [
    {
     "data": {
      "text/plain": [
       "0.6843907380604565"
      ]
     },
     "execution_count": 42,
     "metadata": {},
     "output_type": "execute_result"
    }
   ],
   "source": [
    "q_hat"
   ]
  },
  {
   "cell_type": "code",
   "execution_count": 43,
   "id": "aa1f5faa",
   "metadata": {
    "execution": {
     "iopub.execute_input": "2025-08-19T19:04:33.279497Z",
     "iopub.status.busy": "2025-08-19T19:04:33.279064Z",
     "iopub.status.idle": "2025-08-19T19:04:33.795230Z",
     "shell.execute_reply": "2025-08-19T19:04:33.794441Z"
    },
    "papermill": {
     "duration": 0.531373,
     "end_time": "2025-08-19T19:04:33.797943",
     "exception": false,
     "start_time": "2025-08-19T19:04:33.266570",
     "status": "completed"
    },
    "tags": []
   },
   "outputs": [],
   "source": [
    "from fairness_multiverse.conformal import predict_conformal_sets\n",
    "\n",
    "# Generate prediction sets for each test example\n",
    "pred_sets = predict_conformal_sets(model, X_test, q_hat)"
   ]
  },
  {
   "cell_type": "code",
   "execution_count": 44,
   "id": "97f67a6b",
   "metadata": {
    "execution": {
     "iopub.execute_input": "2025-08-19T19:04:33.839514Z",
     "iopub.status.busy": "2025-08-19T19:04:33.838303Z",
     "iopub.status.idle": "2025-08-19T19:04:33.846216Z",
     "shell.execute_reply": "2025-08-19T19:04:33.845008Z"
    },
    "papermill": {
     "duration": 0.023687,
     "end_time": "2025-08-19T19:04:33.847472",
     "exception": false,
     "start_time": "2025-08-19T19:04:33.823785",
     "status": "completed"
    },
    "tags": []
   },
   "outputs": [],
   "source": [
    "y_true = y_true.squeeze()"
   ]
  },
  {
   "cell_type": "code",
   "execution_count": 45,
   "id": "e700e9a7",
   "metadata": {
    "execution": {
     "iopub.execute_input": "2025-08-19T19:04:33.876415Z",
     "iopub.status.busy": "2025-08-19T19:04:33.875115Z",
     "iopub.status.idle": "2025-08-19T19:04:34.382993Z",
     "shell.execute_reply": "2025-08-19T19:04:34.381790Z"
    },
    "papermill": {
     "duration": 0.52758,
     "end_time": "2025-08-19T19:04:34.389587",
     "exception": false,
     "start_time": "2025-08-19T19:04:33.862007",
     "status": "completed"
    },
    "tags": []
   },
   "outputs": [],
   "source": [
    "from fairness_multiverse.conformal import evaluate_sets\n",
    "\n",
    "# Evaluate coverage and average set size on test data\n",
    "metrics = evaluate_sets(pred_sets, y_true)"
   ]
  },
  {
   "cell_type": "markdown",
   "id": "efbacec0",
   "metadata": {
    "papermill": {
     "duration": 0.011825,
     "end_time": "2025-08-19T19:04:34.415190",
     "exception": false,
     "start_time": "2025-08-19T19:04:34.403365",
     "status": "completed"
    },
    "tags": []
   },
   "source": [
    "# CP Metrics"
   ]
  },
  {
   "cell_type": "code",
   "execution_count": 46,
   "id": "9de55fb1",
   "metadata": {
    "execution": {
     "iopub.execute_input": "2025-08-19T19:04:34.442057Z",
     "iopub.status.busy": "2025-08-19T19:04:34.440724Z",
     "iopub.status.idle": "2025-08-19T19:04:34.453514Z",
     "shell.execute_reply": "2025-08-19T19:04:34.452251Z"
    },
    "papermill": {
     "duration": 0.028287,
     "end_time": "2025-08-19T19:04:34.454965",
     "exception": false,
     "start_time": "2025-08-19T19:04:34.426678",
     "status": "completed"
    },
    "tags": []
   },
   "outputs": [
    {
     "data": {
      "text/plain": [
       "{'coverage': 0.9128413777728236, 'avg_size': 1.3081819195184483}"
      ]
     },
     "execution_count": 46,
     "metadata": {},
     "output_type": "execute_result"
    }
   ],
   "source": [
    "metrics"
   ]
  },
  {
   "cell_type": "code",
   "execution_count": 47,
   "id": "64c340a1",
   "metadata": {
    "execution": {
     "iopub.execute_input": "2025-08-19T19:04:34.483606Z",
     "iopub.status.busy": "2025-08-19T19:04:34.482668Z",
     "iopub.status.idle": "2025-08-19T19:04:34.492305Z",
     "shell.execute_reply": "2025-08-19T19:04:34.491088Z"
    },
    "papermill": {
     "duration": 0.024436,
     "end_time": "2025-08-19T19:04:34.493819",
     "exception": false,
     "start_time": "2025-08-19T19:04:34.469383",
     "status": "completed"
    },
    "tags": []
   },
   "outputs": [],
   "source": [
    "example_universe = universe.copy()\n",
    "universe_training_year = example_universe.get(\"training_year\")\n",
    "universe_training_size = example_universe.get(\"training_size\")\n",
    "universe_scale = example_universe.get(\"scale\")\n",
    "universe_model = example_universe.get(\"model\")\n",
    "universe_exclude_features = example_universe.get(\"exclude_features\")\n",
    "universe_exclude_subgroups = example_universe.get(\"exclude_subgroups\")"
   ]
  },
  {
   "cell_type": "code",
   "execution_count": 48,
   "id": "dbb53cb4",
   "metadata": {
    "execution": {
     "iopub.execute_input": "2025-08-19T19:04:34.522821Z",
     "iopub.status.busy": "2025-08-19T19:04:34.521871Z",
     "iopub.status.idle": "2025-08-19T19:04:34.531610Z",
     "shell.execute_reply": "2025-08-19T19:04:34.530298Z"
    },
    "papermill": {
     "duration": 0.024747,
     "end_time": "2025-08-19T19:04:34.533129",
     "exception": false,
     "start_time": "2025-08-19T19:04:34.508382",
     "status": "completed"
    },
    "tags": []
   },
   "outputs": [],
   "source": [
    "cp_metrics_dict = {\n",
    "    \"universe_id\": [universe_id],\n",
    "    \"universe_training_year\": [universe_training_year],\n",
    "    \"universe_training_size\": [universe_training_size],\n",
    "    \"universe_scale\": [universe_scale],\n",
    "    \"universe_model\": [universe_model],\n",
    "    \"universe_exclude_features\": [universe_exclude_features],\n",
    "    \"universe_exclude_subgroups\": [universe_exclude_subgroups],\n",
    "    \"q_hat\": [q_hat],\n",
    "    \"coverage\": [metrics[\"coverage\"]],\n",
    "    \"avg_size\": [metrics[\"avg_size\"]],\n",
    "}"
   ]
  },
  {
   "cell_type": "code",
   "execution_count": 49,
   "id": "0d70d4b2",
   "metadata": {
    "execution": {
     "iopub.execute_input": "2025-08-19T19:04:34.561356Z",
     "iopub.status.busy": "2025-08-19T19:04:34.560257Z",
     "iopub.status.idle": "2025-08-19T19:04:34.571714Z",
     "shell.execute_reply": "2025-08-19T19:04:34.570490Z"
    },
    "papermill": {
     "duration": 0.026343,
     "end_time": "2025-08-19T19:04:34.573144",
     "exception": false,
     "start_time": "2025-08-19T19:04:34.546801",
     "status": "completed"
    },
    "tags": []
   },
   "outputs": [],
   "source": [
    "cp_metrics_df = pd.DataFrame(cp_metrics_dict)"
   ]
  },
  {
   "cell_type": "code",
   "execution_count": 50,
   "id": "b494403c",
   "metadata": {
    "execution": {
     "iopub.execute_input": "2025-08-19T19:04:34.605942Z",
     "iopub.status.busy": "2025-08-19T19:04:34.604880Z",
     "iopub.status.idle": "2025-08-19T19:04:34.629050Z",
     "shell.execute_reply": "2025-08-19T19:04:34.627956Z"
    },
    "papermill": {
     "duration": 0.039922,
     "end_time": "2025-08-19T19:04:34.631350",
     "exception": false,
     "start_time": "2025-08-19T19:04:34.591428",
     "status": "completed"
    },
    "tags": []
   },
   "outputs": [
    {
     "data": {
      "text/html": [
       "<div>\n",
       "<style scoped>\n",
       "    .dataframe tbody tr th:only-of-type {\n",
       "        vertical-align: middle;\n",
       "    }\n",
       "\n",
       "    .dataframe tbody tr th {\n",
       "        vertical-align: top;\n",
       "    }\n",
       "\n",
       "    .dataframe thead th {\n",
       "        text-align: right;\n",
       "    }\n",
       "</style>\n",
       "<table border=\"1\" class=\"dataframe\">\n",
       "  <thead>\n",
       "    <tr style=\"text-align: right;\">\n",
       "      <th></th>\n",
       "      <th>universe_id</th>\n",
       "      <th>universe_training_year</th>\n",
       "      <th>universe_training_size</th>\n",
       "      <th>universe_scale</th>\n",
       "      <th>universe_model</th>\n",
       "      <th>universe_exclude_features</th>\n",
       "      <th>universe_exclude_subgroups</th>\n",
       "      <th>q_hat</th>\n",
       "      <th>coverage</th>\n",
       "      <th>avg_size</th>\n",
       "    </tr>\n",
       "  </thead>\n",
       "  <tbody>\n",
       "    <tr>\n",
       "      <th>0</th>\n",
       "      <td>562d6345d16b8ee6cb17b6fbbc5df911</td>\n",
       "      <td>2012_14</td>\n",
       "      <td>1k</td>\n",
       "      <td>do-not-scale</td>\n",
       "      <td>elasticnet</td>\n",
       "      <td>age</td>\n",
       "      <td>keep-all</td>\n",
       "      <td>0.684391</td>\n",
       "      <td>0.912841</td>\n",
       "      <td>1.308182</td>\n",
       "    </tr>\n",
       "  </tbody>\n",
       "</table>\n",
       "</div>"
      ],
      "text/plain": [
       "                        universe_id universe_training_year  \\\n",
       "0  562d6345d16b8ee6cb17b6fbbc5df911                2012_14   \n",
       "\n",
       "  universe_training_size universe_scale universe_model  \\\n",
       "0                     1k   do-not-scale     elasticnet   \n",
       "\n",
       "  universe_exclude_features universe_exclude_subgroups     q_hat  coverage  \\\n",
       "0                       age                   keep-all  0.684391  0.912841   \n",
       "\n",
       "   avg_size  \n",
       "0  1.308182  "
      ]
     },
     "execution_count": 50,
     "metadata": {},
     "output_type": "execute_result"
    }
   ],
   "source": [
    "cp_metrics_df"
   ]
  },
  {
   "cell_type": "markdown",
   "id": "ed608b0b",
   "metadata": {
    "papermill": {
     "duration": 0.011934,
     "end_time": "2025-08-19T19:04:34.660368",
     "exception": false,
     "start_time": "2025-08-19T19:04:34.648434",
     "status": "completed"
    },
    "tags": []
   },
   "source": [
    "Conditional coverage & looking at subgroups"
   ]
  },
  {
   "cell_type": "code",
   "execution_count": 51,
   "id": "8968c366",
   "metadata": {
    "execution": {
     "iopub.execute_input": "2025-08-19T19:04:34.686645Z",
     "iopub.status.busy": "2025-08-19T19:04:34.685677Z",
     "iopub.status.idle": "2025-08-19T19:04:34.965412Z",
     "shell.execute_reply": "2025-08-19T19:04:34.964296Z"
    },
    "papermill": {
     "duration": 0.296312,
     "end_time": "2025-08-19T19:04:34.968576",
     "exception": false,
     "start_time": "2025-08-19T19:04:34.672264",
     "status": "completed"
    },
    "tags": []
   },
   "outputs": [],
   "source": [
    "from fairness_multiverse.conformal import build_cp_groups\n",
    "\n",
    "cp_groups_df = build_cp_groups(pred_sets, y_true, X_test.index, org_test)"
   ]
  },
  {
   "cell_type": "code",
   "execution_count": 52,
   "id": "292ddabf",
   "metadata": {
    "execution": {
     "iopub.execute_input": "2025-08-19T19:04:35.011708Z",
     "iopub.status.busy": "2025-08-19T19:04:35.010673Z",
     "iopub.status.idle": "2025-08-19T19:04:35.876023Z",
     "shell.execute_reply": "2025-08-19T19:04:35.874505Z"
    },
    "papermill": {
     "duration": 0.884526,
     "end_time": "2025-08-19T19:04:35.879504",
     "exception": false,
     "start_time": "2025-08-19T19:04:34.994978",
     "status": "completed"
    },
    "tags": []
   },
   "outputs": [],
   "source": [
    "# Define covered = 1 if true_label is in the predicted set\n",
    "cp_groups_df['covered'] = cp_groups_df.apply(\n",
    "    lambda r: int(r['true_label'] in r['pred_set']),\n",
    "    axis=1\n",
    ")"
   ]
  },
  {
   "cell_type": "code",
   "execution_count": 53,
   "id": "3a261692",
   "metadata": {
    "execution": {
     "iopub.execute_input": "2025-08-19T19:04:35.921611Z",
     "iopub.status.busy": "2025-08-19T19:04:35.920440Z",
     "iopub.status.idle": "2025-08-19T19:04:35.943609Z",
     "shell.execute_reply": "2025-08-19T19:04:35.942253Z"
    },
    "papermill": {
     "duration": 0.040751,
     "end_time": "2025-08-19T19:04:35.945601",
     "exception": false,
     "start_time": "2025-08-19T19:04:35.904850",
     "status": "completed"
    },
    "tags": []
   },
   "outputs": [],
   "source": [
    "subgroups = ['frau1','nongerman','nongerman_male','nongerman_female']\n",
    "\n",
    "# Conditional coverage for subgroup==1\n",
    "cond_coverage = {\n",
    "    g: cp_groups_df.loc[cp_groups_df[g]==1, 'covered'].mean()\n",
    "    for g in subgroups\n",
    "}"
   ]
  },
  {
   "cell_type": "code",
   "execution_count": 54,
   "id": "894fd600",
   "metadata": {
    "execution": {
     "iopub.execute_input": "2025-08-19T19:04:35.982681Z",
     "iopub.status.busy": "2025-08-19T19:04:35.981704Z",
     "iopub.status.idle": "2025-08-19T19:04:35.993826Z",
     "shell.execute_reply": "2025-08-19T19:04:35.992559Z"
    },
    "papermill": {
     "duration": 0.028196,
     "end_time": "2025-08-19T19:04:35.995464",
     "exception": false,
     "start_time": "2025-08-19T19:04:35.967268",
     "status": "completed"
    },
    "tags": []
   },
   "outputs": [
    {
     "data": {
      "text/plain": [
       "{'frau1': 0.9113088017252999,\n",
       " 'nongerman': 0.9695166451468029,\n",
       " 'nongerman_male': 0.9772133657570026,\n",
       " 'nongerman_female': 0.9567809239940388}"
      ]
     },
     "execution_count": 54,
     "metadata": {},
     "output_type": "execute_result"
    }
   ],
   "source": [
    "cond_coverage"
   ]
  },
  {
   "cell_type": "code",
   "execution_count": 55,
   "id": "942895c7",
   "metadata": {
    "execution": {
     "iopub.execute_input": "2025-08-19T19:04:36.026979Z",
     "iopub.status.busy": "2025-08-19T19:04:36.025955Z",
     "iopub.status.idle": "2025-08-19T19:04:36.038391Z",
     "shell.execute_reply": "2025-08-19T19:04:36.036795Z"
    },
    "papermill": {
     "duration": 0.027743,
     "end_time": "2025-08-19T19:04:36.039986",
     "exception": false,
     "start_time": "2025-08-19T19:04:36.012243",
     "status": "completed"
    },
    "tags": []
   },
   "outputs": [],
   "source": [
    "for subgroup, cov in cond_coverage.items():\n",
    "    cp_metrics_df[f\"cov_{subgroup}\"] = cov"
   ]
  },
  {
   "cell_type": "code",
   "execution_count": 56,
   "id": "3970120f",
   "metadata": {
    "execution": {
     "iopub.execute_input": "2025-08-19T19:04:36.071026Z",
     "iopub.status.busy": "2025-08-19T19:04:36.070045Z",
     "iopub.status.idle": "2025-08-19T19:04:36.096626Z",
     "shell.execute_reply": "2025-08-19T19:04:36.095803Z"
    },
    "papermill": {
     "duration": 0.042327,
     "end_time": "2025-08-19T19:04:36.098614",
     "exception": false,
     "start_time": "2025-08-19T19:04:36.056287",
     "status": "completed"
    },
    "tags": []
   },
   "outputs": [
    {
     "data": {
      "text/html": [
       "<div>\n",
       "<style scoped>\n",
       "    .dataframe tbody tr th:only-of-type {\n",
       "        vertical-align: middle;\n",
       "    }\n",
       "\n",
       "    .dataframe tbody tr th {\n",
       "        vertical-align: top;\n",
       "    }\n",
       "\n",
       "    .dataframe thead th {\n",
       "        text-align: right;\n",
       "    }\n",
       "</style>\n",
       "<table border=\"1\" class=\"dataframe\">\n",
       "  <thead>\n",
       "    <tr style=\"text-align: right;\">\n",
       "      <th></th>\n",
       "      <th>universe_id</th>\n",
       "      <th>universe_training_year</th>\n",
       "      <th>universe_training_size</th>\n",
       "      <th>universe_scale</th>\n",
       "      <th>universe_model</th>\n",
       "      <th>universe_exclude_features</th>\n",
       "      <th>universe_exclude_subgroups</th>\n",
       "      <th>q_hat</th>\n",
       "      <th>coverage</th>\n",
       "      <th>avg_size</th>\n",
       "      <th>cov_frau1</th>\n",
       "      <th>cov_nongerman</th>\n",
       "      <th>cov_nongerman_male</th>\n",
       "      <th>cov_nongerman_female</th>\n",
       "    </tr>\n",
       "  </thead>\n",
       "  <tbody>\n",
       "    <tr>\n",
       "      <th>0</th>\n",
       "      <td>562d6345d16b8ee6cb17b6fbbc5df911</td>\n",
       "      <td>2012_14</td>\n",
       "      <td>1k</td>\n",
       "      <td>do-not-scale</td>\n",
       "      <td>elasticnet</td>\n",
       "      <td>age</td>\n",
       "      <td>keep-all</td>\n",
       "      <td>0.684391</td>\n",
       "      <td>0.912841</td>\n",
       "      <td>1.308182</td>\n",
       "      <td>0.911309</td>\n",
       "      <td>0.969517</td>\n",
       "      <td>0.977213</td>\n",
       "      <td>0.956781</td>\n",
       "    </tr>\n",
       "  </tbody>\n",
       "</table>\n",
       "</div>"
      ],
      "text/plain": [
       "                        universe_id universe_training_year  \\\n",
       "0  562d6345d16b8ee6cb17b6fbbc5df911                2012_14   \n",
       "\n",
       "  universe_training_size universe_scale universe_model  \\\n",
       "0                     1k   do-not-scale     elasticnet   \n",
       "\n",
       "  universe_exclude_features universe_exclude_subgroups     q_hat  coverage  \\\n",
       "0                       age                   keep-all  0.684391  0.912841   \n",
       "\n",
       "   avg_size  cov_frau1  cov_nongerman  cov_nongerman_male  \\\n",
       "0  1.308182   0.911309       0.969517            0.977213   \n",
       "\n",
       "   cov_nongerman_female  \n",
       "0              0.956781  "
      ]
     },
     "execution_count": 56,
     "metadata": {},
     "output_type": "execute_result"
    }
   ],
   "source": [
    "cp_metrics_df"
   ]
  },
  {
   "cell_type": "markdown",
   "id": "3fc519cc",
   "metadata": {
    "papermill": {
     "duration": 0.0128,
     "end_time": "2025-08-19T19:04:36.134702",
     "exception": false,
     "start_time": "2025-08-19T19:04:36.121902",
     "status": "completed"
    },
    "tags": []
   },
   "source": [
    "# (Fairness) Metrics"
   ]
  },
  {
   "cell_type": "code",
   "execution_count": 57,
   "id": "a2e5e155",
   "metadata": {
    "execution": {
     "iopub.execute_input": "2025-08-19T19:04:36.195720Z",
     "iopub.status.busy": "2025-08-19T19:04:36.194719Z",
     "iopub.status.idle": "2025-08-19T19:04:36.217468Z",
     "shell.execute_reply": "2025-08-19T19:04:36.216793Z"
    },
    "papermill": {
     "duration": 0.051226,
     "end_time": "2025-08-19T19:04:36.219678",
     "exception": false,
     "start_time": "2025-08-19T19:04:36.168452",
     "status": "completed"
    },
    "tags": []
   },
   "outputs": [],
   "source": [
    "colname_to_bin = \"maxdeutsch1\"\n",
    "majority_value = org_train[colname_to_bin].mode()[0]\n",
    "\n",
    "org_test[\"majmin\"] = np.where(org_test[colname_to_bin] == majority_value, \"majority\", \"minority\")"
   ]
  },
  {
   "cell_type": "code",
   "execution_count": 58,
   "id": "17e3e4d5",
   "metadata": {
    "execution": {
     "iopub.execute_input": "2025-08-19T19:04:36.264431Z",
     "iopub.status.busy": "2025-08-19T19:04:36.263346Z",
     "iopub.status.idle": "2025-08-19T19:04:38.021869Z",
     "shell.execute_reply": "2025-08-19T19:04:38.020721Z"
    },
    "papermill": {
     "duration": 1.776835,
     "end_time": "2025-08-19T19:04:38.024243",
     "exception": false,
     "start_time": "2025-08-19T19:04:36.247408",
     "status": "completed"
    },
    "tags": []
   },
   "outputs": [],
   "source": [
    "example_universe = universe.copy()\n",
    "example_universe[\"cutoff\"] = example_universe[\"cutoff\"][0]\n",
    "example_universe[\"eval_fairness_grouping\"] = example_universe[\"eval_fairness_grouping\"][0]\n",
    "fairness_dict, metric_frame = universe_analysis.compute_metrics(\n",
    "    example_universe,\n",
    "    y_pred_prob=probs_test,\n",
    "    y_test=y_true,\n",
    "    org_test=org_test,\n",
    ")"
   ]
  },
  {
   "cell_type": "markdown",
   "id": "1fb7a0e9",
   "metadata": {
    "papermill": {
     "duration": 0.013437,
     "end_time": "2025-08-19T19:04:38.056955",
     "exception": false,
     "start_time": "2025-08-19T19:04:38.043518",
     "status": "completed"
    },
    "tags": []
   },
   "source": [
    "# Overall"
   ]
  },
  {
   "cell_type": "markdown",
   "id": "be1784b1",
   "metadata": {
    "papermill": {
     "duration": 0.015701,
     "end_time": "2025-08-19T19:04:38.086198",
     "exception": false,
     "start_time": "2025-08-19T19:04:38.070497",
     "status": "completed"
    },
    "tags": []
   },
   "source": [
    "Main fairness target: Equalized Odds. Seems to be a better fit than equal opportunity, since we're not only interested in Y = 1. Seems to be a better fit than demographic parity, since we also care about accuracy, not just equal distribution of preds.\n",
    "\n",
    "Pick column for computation of fairness metrics\n",
    "\n",
    "Performance\n",
    "Overall performance measures, most interesting in relation to the measures split by group below"
   ]
  },
  {
   "cell_type": "code",
   "execution_count": 59,
   "id": "b7672bee",
   "metadata": {
    "execution": {
     "iopub.execute_input": "2025-08-19T19:04:38.114181Z",
     "iopub.status.busy": "2025-08-19T19:04:38.113694Z",
     "iopub.status.idle": "2025-08-19T19:04:38.121702Z",
     "shell.execute_reply": "2025-08-19T19:04:38.121026Z"
    },
    "papermill": {
     "duration": 0.023529,
     "end_time": "2025-08-19T19:04:38.122787",
     "exception": false,
     "start_time": "2025-08-19T19:04:38.099258",
     "status": "completed"
    },
    "tags": []
   },
   "outputs": [
    {
     "data": {
      "text/plain": [
       "accuracy                   0.208305\n",
       "balanced accuracy          0.512700\n",
       "f1                         0.230078\n",
       "precision                  0.131436\n",
       "false positive rate        0.896742\n",
       "false negative rate        0.077859\n",
       "selection rate             0.900000\n",
       "count                  89710.000000\n",
       "dtype: float64"
      ]
     },
     "execution_count": 59,
     "metadata": {},
     "output_type": "execute_result"
    }
   ],
   "source": [
    "metric_frame.overall"
   ]
  },
  {
   "cell_type": "markdown",
   "id": "d93333c9",
   "metadata": {
    "papermill": {
     "duration": 0.012536,
     "end_time": "2025-08-19T19:04:38.149777",
     "exception": false,
     "start_time": "2025-08-19T19:04:38.137241",
     "status": "completed"
    },
    "tags": []
   },
   "source": [
    "By Group"
   ]
  },
  {
   "cell_type": "code",
   "execution_count": 60,
   "id": "52256966",
   "metadata": {
    "execution": {
     "iopub.execute_input": "2025-08-19T19:04:38.179606Z",
     "iopub.status.busy": "2025-08-19T19:04:38.178977Z",
     "iopub.status.idle": "2025-08-19T19:04:38.199400Z",
     "shell.execute_reply": "2025-08-19T19:04:38.198776Z"
    },
    "papermill": {
     "duration": 0.038475,
     "end_time": "2025-08-19T19:04:38.200730",
     "exception": false,
     "start_time": "2025-08-19T19:04:38.162255",
     "status": "completed"
    },
    "tags": []
   },
   "outputs": [
    {
     "data": {
      "text/html": [
       "<div>\n",
       "<style scoped>\n",
       "    .dataframe tbody tr th:only-of-type {\n",
       "        vertical-align: middle;\n",
       "    }\n",
       "\n",
       "    .dataframe tbody tr th {\n",
       "        vertical-align: top;\n",
       "    }\n",
       "\n",
       "    .dataframe thead th {\n",
       "        text-align: right;\n",
       "    }\n",
       "</style>\n",
       "<table border=\"1\" class=\"dataframe\">\n",
       "  <thead>\n",
       "    <tr style=\"text-align: right;\">\n",
       "      <th></th>\n",
       "      <th>accuracy</th>\n",
       "      <th>balanced accuracy</th>\n",
       "      <th>f1</th>\n",
       "      <th>precision</th>\n",
       "      <th>false positive rate</th>\n",
       "      <th>false negative rate</th>\n",
       "      <th>selection rate</th>\n",
       "      <th>count</th>\n",
       "    </tr>\n",
       "    <tr>\n",
       "      <th>majmin</th>\n",
       "      <th></th>\n",
       "      <th></th>\n",
       "      <th></th>\n",
       "      <th></th>\n",
       "      <th></th>\n",
       "      <th></th>\n",
       "      <th></th>\n",
       "      <th></th>\n",
       "    </tr>\n",
       "  </thead>\n",
       "  <tbody>\n",
       "    <tr>\n",
       "      <th>majority</th>\n",
       "      <td>0.228423</td>\n",
       "      <td>0.516749</td>\n",
       "      <td>0.237354</td>\n",
       "      <td>0.136506</td>\n",
       "      <td>0.875146</td>\n",
       "      <td>0.091357</td>\n",
       "      <td>0.879572</td>\n",
       "      <td>69170.0</td>\n",
       "    </tr>\n",
       "    <tr>\n",
       "      <th>minority</th>\n",
       "      <td>0.140555</td>\n",
       "      <td>0.503079</td>\n",
       "      <td>0.207212</td>\n",
       "      <td>0.115935</td>\n",
       "      <td>0.968083</td>\n",
       "      <td>0.025760</td>\n",
       "      <td>0.968793</td>\n",
       "      <td>20540.0</td>\n",
       "    </tr>\n",
       "  </tbody>\n",
       "</table>\n",
       "</div>"
      ],
      "text/plain": [
       "          accuracy  balanced accuracy        f1  precision  \\\n",
       "majmin                                                       \n",
       "majority  0.228423           0.516749  0.237354   0.136506   \n",
       "minority  0.140555           0.503079  0.207212   0.115935   \n",
       "\n",
       "          false positive rate  false negative rate  selection rate    count  \n",
       "majmin                                                                       \n",
       "majority             0.875146             0.091357        0.879572  69170.0  \n",
       "minority             0.968083             0.025760        0.968793  20540.0  "
      ]
     },
     "execution_count": 60,
     "metadata": {},
     "output_type": "execute_result"
    }
   ],
   "source": [
    "metric_frame.by_group"
   ]
  },
  {
   "cell_type": "code",
   "execution_count": 61,
   "id": "6e6c20ae",
   "metadata": {
    "execution": {
     "iopub.execute_input": "2025-08-19T19:04:38.254979Z",
     "iopub.status.busy": "2025-08-19T19:04:38.254644Z",
     "iopub.status.idle": "2025-08-19T19:04:40.187130Z",
     "shell.execute_reply": "2025-08-19T19:04:40.186202Z"
    },
    "papermill": {
     "duration": 1.963065,
     "end_time": "2025-08-19T19:04:40.188319",
     "exception": false,
     "start_time": "2025-08-19T19:04:38.225254",
     "status": "completed"
    },
    "tags": []
   },
   "outputs": [
    {
     "data": {
      "text/plain": [
       "array([[<Axes: title={'center': 'accuracy'}, xlabel='majmin'>,\n",
       "        <Axes: title={'center': 'balanced accuracy'}, xlabel='majmin'>,\n",
       "        <Axes: title={'center': 'f1'}, xlabel='majmin'>],\n",
       "       [<Axes: title={'center': 'precision'}, xlabel='majmin'>,\n",
       "        <Axes: title={'center': 'false positive rate'}, xlabel='majmin'>,\n",
       "        <Axes: title={'center': 'false negative rate'}, xlabel='majmin'>],\n",
       "       [<Axes: title={'center': 'selection rate'}, xlabel='majmin'>,\n",
       "        <Axes: title={'center': 'count'}, xlabel='majmin'>,\n",
       "        <Axes: xlabel='majmin'>]], dtype=object)"
      ]
     },
     "execution_count": 61,
     "metadata": {},
     "output_type": "execute_result"
    },
    {
     "data": {
      "image/png": "[encoded data removed]",
      "text/plain": [
       "<Figure size 1200x800 with 9 Axes>"
      ]
     },
     "metadata": {},
     "output_type": "display_data"
    }
   ],
   "source": [
    "# In a graphic\n",
    "metric_frame.by_group.plot.bar(\n",
    "    subplots=True,\n",
    "    layout=[3, 3],\n",
    "    legend=False,\n",
    "    figsize=[12, 8],\n",
    "    title=\"Show all metrics\",\n",
    ")"
   ]
  },
  {
   "cell_type": "markdown",
   "id": "b2e433ae",
   "metadata": {
    "papermill": {
     "duration": 0.033606,
     "end_time": "2025-08-19T19:04:40.246138",
     "exception": false,
     "start_time": "2025-08-19T19:04:40.212532",
     "status": "completed"
    },
    "tags": []
   },
   "source": [
    "# Final Output"
   ]
  },
  {
   "cell_type": "code",
   "execution_count": 62,
   "id": "3871301e",
   "metadata": {
    "execution": {
     "iopub.execute_input": "2025-08-19T19:04:40.284522Z",
     "iopub.status.busy": "2025-08-19T19:04:40.283644Z",
     "iopub.status.idle": "2025-08-19T19:04:40.292668Z",
     "shell.execute_reply": "2025-08-19T19:04:40.292037Z"
    },
    "papermill": {
     "duration": 0.026611,
     "end_time": "2025-08-19T19:04:40.295228",
     "exception": false,
     "start_time": "2025-08-19T19:04:40.268617",
     "status": "completed"
    },
    "tags": []
   },
   "outputs": [
    {
     "data": {
      "text/plain": [
       "4"
      ]
     },
     "execution_count": 62,
     "metadata": {},
     "output_type": "execute_result"
    }
   ],
   "source": [
    "sub_universes = universe_analysis.generate_sub_universes()\n",
    "len(sub_universes)"
   ]
  },
  {
   "cell_type": "code",
   "execution_count": 63,
   "id": "d9cfdaca",
   "metadata": {
    "execution": {
     "iopub.execute_input": "2025-08-19T19:04:40.349024Z",
     "iopub.status.busy": "2025-08-19T19:04:40.348620Z",
     "iopub.status.idle": "2025-08-19T19:04:40.353750Z",
     "shell.execute_reply": "2025-08-19T19:04:40.352958Z"
    },
    "papermill": {
     "duration": 0.030588,
     "end_time": "2025-08-19T19:04:40.362527",
     "exception": false,
     "start_time": "2025-08-19T19:04:40.331939",
     "status": "completed"
    },
    "tags": []
   },
   "outputs": [],
   "source": [
    "def filter_sub_universe_data(sub_universe, org_test):\n",
    "    # Keep all rows — no filtering\n",
    "    keep_rows_mask = np.ones(org_test.shape[0], dtype=bool)\n",
    "\n",
    "    print(f\"[INFO] Keeping all rows: {keep_rows_mask.sum()} rows retained.\")\n",
    "    return keep_rows_mask"
   ]
  },
  {
   "cell_type": "code",
   "execution_count": 64,
   "id": "2bc31ac1",
   "metadata": {
    "execution": {
     "iopub.execute_input": "2025-08-19T19:04:40.423051Z",
     "iopub.status.busy": "2025-08-19T19:04:40.422037Z",
     "iopub.status.idle": "2025-08-19T19:04:47.423602Z",
     "shell.execute_reply": "2025-08-19T19:04:47.422524Z"
    },
    "papermill": {
     "duration": 7.019441,
     "end_time": "2025-08-19T19:04:47.425053",
     "exception": false,
     "start_time": "2025-08-19T19:04:40.405612",
     "status": "completed"
    },
    "tags": []
   },
   "outputs": [
    {
     "name": "stdout",
     "output_type": "stream",
     "text": [
      "Stopping execution_time clock.\n",
      "[INFO] Keeping all rows: 89710 rows retained.\n"
     ]
    },
    {
     "name": "stdout",
     "output_type": "stream",
     "text": [
      "[INFO] Keeping all rows: 89710 rows retained.\n"
     ]
    },
    {
     "name": "stdout",
     "output_type": "stream",
     "text": [
      "[INFO] Keeping all rows: 89710 rows retained.\n"
     ]
    },
    {
     "name": "stdout",
     "output_type": "stream",
     "text": [
      "[INFO] Keeping all rows: 89710 rows retained.\n"
     ]
    },
    {
     "data": {
      "text/html": [
       "<div>\n",
       "<style scoped>\n",
       "    .dataframe tbody tr th:only-of-type {\n",
       "        vertical-align: middle;\n",
       "    }\n",
       "\n",
       "    .dataframe tbody tr th {\n",
       "        vertical-align: top;\n",
       "    }\n",
       "\n",
       "    .dataframe thead th {\n",
       "        text-align: right;\n",
       "    }\n",
       "</style>\n",
       "<table border=\"1\" class=\"dataframe\">\n",
       "  <thead>\n",
       "    <tr style=\"text-align: right;\">\n",
       "      <th></th>\n",
       "      <th>run_no</th>\n",
       "      <th>universe_id</th>\n",
       "      <th>universe_settings</th>\n",
       "      <th>execution_time</th>\n",
       "      <th>test_size_n</th>\n",
       "      <th>test_size_frac</th>\n",
       "      <th>fair_main_equalized_odds_difference</th>\n",
       "      <th>fair_main_equalized_odds_ratio</th>\n",
       "      <th>fair_main_demographic_parity_difference</th>\n",
       "      <th>fair_main_demographic_parity_ratio</th>\n",
       "      <th>...</th>\n",
       "      <th>perf_grp_precision_0</th>\n",
       "      <th>perf_grp_precision_1</th>\n",
       "      <th>perf_grp_false positive rate_0</th>\n",
       "      <th>perf_grp_false positive rate_1</th>\n",
       "      <th>perf_grp_false negative rate_0</th>\n",
       "      <th>perf_grp_false negative rate_1</th>\n",
       "      <th>perf_grp_selection rate_0</th>\n",
       "      <th>perf_grp_selection rate_1</th>\n",
       "      <th>perf_grp_count_0</th>\n",
       "      <th>perf_grp_count_1</th>\n",
       "    </tr>\n",
       "  </thead>\n",
       "  <tbody>\n",
       "    <tr>\n",
       "      <th>0</th>\n",
       "      <td>3</td>\n",
       "      <td>562d6345d16b8ee6cb17b6fbbc5df911</td>\n",
       "      <td>{\"cutoff\": \"quantile_0.1\", \"eval_fairness_grou...</td>\n",
       "      <td>21.050417</td>\n",
       "      <td>89710</td>\n",
       "      <td>1.0</td>\n",
       "      <td>0.092937</td>\n",
       "      <td>0.903999</td>\n",
       "      <td>0.089221</td>\n",
       "      <td>0.907905</td>\n",
       "      <td>...</td>\n",
       "      <td>NaN</td>\n",
       "      <td>NaN</td>\n",
       "      <td>NaN</td>\n",
       "      <td>NaN</td>\n",
       "      <td>NaN</td>\n",
       "      <td>NaN</td>\n",
       "      <td>NaN</td>\n",
       "      <td>NaN</td>\n",
       "      <td>NaN</td>\n",
       "      <td>NaN</td>\n",
       "    </tr>\n",
       "    <tr>\n",
       "      <th>0</th>\n",
       "      <td>3</td>\n",
       "      <td>562d6345d16b8ee6cb17b6fbbc5df911</td>\n",
       "      <td>{\"cutoff\": \"quantile_0.1\", \"eval_fairness_grou...</td>\n",
       "      <td>21.050417</td>\n",
       "      <td>89710</td>\n",
       "      <td>1.0</td>\n",
       "      <td>0.092937</td>\n",
       "      <td>0.903999</td>\n",
       "      <td>0.089221</td>\n",
       "      <td>0.907905</td>\n",
       "      <td>...</td>\n",
       "      <td>0.115935</td>\n",
       "      <td>0.136506</td>\n",
       "      <td>0.968083</td>\n",
       "      <td>0.875146</td>\n",
       "      <td>0.025760</td>\n",
       "      <td>0.091357</td>\n",
       "      <td>0.968793</td>\n",
       "      <td>0.879572</td>\n",
       "      <td>20540.0</td>\n",
       "      <td>69170.0</td>\n",
       "    </tr>\n",
       "    <tr>\n",
       "      <th>0</th>\n",
       "      <td>3</td>\n",
       "      <td>562d6345d16b8ee6cb17b6fbbc5df911</td>\n",
       "      <td>{\"cutoff\": \"quantile_0.25\", \"eval_fairness_gro...</td>\n",
       "      <td>21.050417</td>\n",
       "      <td>89710</td>\n",
       "      <td>1.0</td>\n",
       "      <td>0.227523</td>\n",
       "      <td>0.751828</td>\n",
       "      <td>0.217912</td>\n",
       "      <td>0.762626</td>\n",
       "      <td>...</td>\n",
       "      <td>NaN</td>\n",
       "      <td>NaN</td>\n",
       "      <td>NaN</td>\n",
       "      <td>NaN</td>\n",
       "      <td>NaN</td>\n",
       "      <td>NaN</td>\n",
       "      <td>NaN</td>\n",
       "      <td>NaN</td>\n",
       "      <td>NaN</td>\n",
       "      <td>NaN</td>\n",
       "    </tr>\n",
       "    <tr>\n",
       "      <th>0</th>\n",
       "      <td>3</td>\n",
       "      <td>562d6345d16b8ee6cb17b6fbbc5df911</td>\n",
       "      <td>{\"cutoff\": \"quantile_0.25\", \"eval_fairness_gro...</td>\n",
       "      <td>21.050417</td>\n",
       "      <td>89710</td>\n",
       "      <td>1.0</td>\n",
       "      <td>0.227523</td>\n",
       "      <td>0.751828</td>\n",
       "      <td>0.217912</td>\n",
       "      <td>0.762626</td>\n",
       "      <td>...</td>\n",
       "      <td>0.116462</td>\n",
       "      <td>0.145562</td>\n",
       "      <td>0.916795</td>\n",
       "      <td>0.689272</td>\n",
       "      <td>0.072635</td>\n",
       "      <td>0.228775</td>\n",
       "      <td>0.918014</td>\n",
       "      <td>0.700101</td>\n",
       "      <td>20540.0</td>\n",
       "      <td>69170.0</td>\n",
       "    </tr>\n",
       "  </tbody>\n",
       "</table>\n",
       "<p>4 rows × 50 columns</p>\n",
       "</div>"
      ],
      "text/plain": [
       "  run_no                       universe_id  \\\n",
       "0      3  562d6345d16b8ee6cb17b6fbbc5df911   \n",
       "0      3  562d6345d16b8ee6cb17b6fbbc5df911   \n",
       "0      3  562d6345d16b8ee6cb17b6fbbc5df911   \n",
       "0      3  562d6345d16b8ee6cb17b6fbbc5df911   \n",
       "\n",
       "                                   universe_settings  execution_time  \\\n",
       "0  {\"cutoff\": \"quantile_0.1\", \"eval_fairness_grou...       21.050417   \n",
       "0  {\"cutoff\": \"quantile_0.1\", \"eval_fairness_grou...       21.050417   \n",
       "0  {\"cutoff\": \"quantile_0.25\", \"eval_fairness_gro...       21.050417   \n",
       "0  {\"cutoff\": \"quantile_0.25\", \"eval_fairness_gro...       21.050417   \n",
       "\n",
       "   test_size_n  test_size_frac  fair_main_equalized_odds_difference  \\\n",
       "0        89710             1.0                             0.092937   \n",
       "0        89710             1.0                             0.092937   \n",
       "0        89710             1.0                             0.227523   \n",
       "0        89710             1.0                             0.227523   \n",
       "\n",
       "   fair_main_equalized_odds_ratio  fair_main_demographic_parity_difference  \\\n",
       "0                        0.903999                                 0.089221   \n",
       "0                        0.903999                                 0.089221   \n",
       "0                        0.751828                                 0.217912   \n",
       "0                        0.751828                                 0.217912   \n",
       "\n",
       "   fair_main_demographic_parity_ratio  ...  perf_grp_precision_0  \\\n",
       "0                            0.907905  ...                   NaN   \n",
       "0                            0.907905  ...              0.115935   \n",
       "0                            0.762626  ...                   NaN   \n",
       "0                            0.762626  ...              0.116462   \n",
       "\n",
       "   perf_grp_precision_1  perf_grp_false positive rate_0  \\\n",
       "0                   NaN                             NaN   \n",
       "0              0.136506                        0.968083   \n",
       "0                   NaN                             NaN   \n",
       "0              0.145562                        0.916795   \n",
       "\n",
       "   perf_grp_false positive rate_1  perf_grp_false negative rate_0  \\\n",
       "0                             NaN                             NaN   \n",
       "0                        0.875146                        0.025760   \n",
       "0                             NaN                             NaN   \n",
       "0                        0.689272                        0.072635   \n",
       "\n",
       "   perf_grp_false negative rate_1  perf_grp_selection rate_0  \\\n",
       "0                             NaN                        NaN   \n",
       "0                        0.091357                   0.968793   \n",
       "0                             NaN                        NaN   \n",
       "0                        0.228775                   0.918014   \n",
       "\n",
       "   perf_grp_selection rate_1  perf_grp_count_0  perf_grp_count_1  \n",
       "0                        NaN               NaN               NaN  \n",
       "0                   0.879572           20540.0           69170.0  \n",
       "0                        NaN               NaN               NaN  \n",
       "0                   0.700101           20540.0           69170.0  \n",
       "\n",
       "[4 rows x 50 columns]"
      ]
     },
     "execution_count": 64,
     "metadata": {},
     "output_type": "execute_result"
    }
   ],
   "source": [
    "final_output = universe_analysis.generate_final_output(\n",
    "    y_pred_prob=probs_test,\n",
    "    y_test=y_true,\n",
    "    org_test=org_test,\n",
    "    filter_data=filter_sub_universe_data,\n",
    "    cp_metrics_df=cp_metrics_df,\n",
    "    save=True,\n",
    ")\n",
    "final_output"
   ]
  },
  {
   "cell_type": "code",
   "execution_count": null,
   "id": "8b80a1ff",
   "metadata": {
    "papermill": {
     "duration": 0.014574,
     "end_time": "2025-08-19T19:04:47.459696",
     "exception": false,
     "start_time": "2025-08-19T19:04:47.445122",
     "status": "completed"
    },
    "tags": []
   },
   "outputs": [],
   "source": []
  },
  {
   "cell_type": "code",
   "execution_count": null,
   "id": "275c9fad",
   "metadata": {
    "papermill": {
     "duration": 0.017691,
     "end_time": "2025-08-19T19:04:47.492002",
     "exception": false,
     "start_time": "2025-08-19T19:04:47.474311",
     "status": "completed"
    },
    "tags": []
   },
   "outputs": [],
   "source": []
  }
 ],
 "metadata": {
  "celltoolbar": "Tags",
  "kernelspec": {
   "display_name": "Python (CMA Fairness)",
   "language": "python",
   "name": "cma_fair_env"
  },
  "language_info": {
   "codemirror_mode": {
    "name": "ipython",
    "version": 3
   },
   "file_extension": ".py",
   "mimetype": "text/x-python",
   "name": "python",
   "nbconvert_exporter": "python",
   "pygments_lexer": "ipython3",
   "version": "3.10.12"
  },
  "papermill": {
   "default_parameters": {},
   "duration": 31.909567,
   "end_time": "2025-08-19T19:04:48.432516",
   "environment_variables": {},
   "exception": null,
   "input_path": "universe_analysis.ipynb",
   "output_path": "output/runs/3/notebooks/m_3-562d6345d16b8ee6cb17b6fbbc5df911.ipynb",
   "parameters": {
    "output_dir": "output",
    "run_no": "3",
    "seed": "2023",
    "universe": "{\"cutoff\": [\"quantile_0.1\", \"quantile_0.25\"], \"eval_fairness_grouping\": [\"majority-minority\", \"nationality-all\"], \"exclude_features\": \"age\", \"exclude_subgroups\": \"keep-all\", \"model\": \"elasticnet\", \"scale\": \"do-not-scale\", \"training_size\": \"1k\", \"training_year\": \"2012_14\"}",
    "universe_id": "562d6345d16b8ee6cb17b6fbbc5df911"
   },
   "start_time": "2025-08-19T19:04:16.522949",
   "version": "2.6.0"
  }
 },
 "nbformat": 4,
 "nbformat_minor": 5
}