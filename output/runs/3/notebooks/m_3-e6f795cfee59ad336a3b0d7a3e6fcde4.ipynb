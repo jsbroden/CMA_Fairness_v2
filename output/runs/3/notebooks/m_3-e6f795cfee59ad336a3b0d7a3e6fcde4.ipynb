{
 "cells": [
  {
   "cell_type": "markdown",
   "id": "ef23dbb3",
   "metadata": {
    "papermill": {
     "duration": 0.009495,
     "end_time": "2025-08-19T18:51:22.316034",
     "exception": false,
     "start_time": "2025-08-19T18:51:22.306539",
     "status": "completed"
    },
    "tags": []
   },
   "source": [
    "# Setup"
   ]
  },
  {
   "cell_type": "code",
   "execution_count": 1,
   "id": "0bc8e7dc",
   "metadata": {
    "execution": {
     "iopub.execute_input": "2025-08-19T18:51:22.336791Z",
     "iopub.status.busy": "2025-08-19T18:51:22.335985Z",
     "iopub.status.idle": "2025-08-19T18:51:22.355154Z",
     "shell.execute_reply": "2025-08-19T18:51:22.354219Z"
    },
    "papermill": {
     "duration": 0.031553,
     "end_time": "2025-08-19T18:51:22.356653",
     "exception": false,
     "start_time": "2025-08-19T18:51:22.325100",
     "status": "completed"
    },
    "tags": []
   },
   "outputs": [
    {
     "name": "stdout",
     "output_type": "stream",
     "text": [
      "/dss/dsshome1/0C/ra93lal2/cma/CMA_Fairness_v2\n"
     ]
    },
    {
     "name": "stderr",
     "output_type": "stream",
     "text": [
      "/dss/dsshome1/0C/ra93lal2/.local/share/virtualenvs/CMA_Fairness_v2-3j10GkSs/lib/python3.10/site-packages/IPython/core/magics/osm.py:393: UserWarning: This is now an optional IPython functionality, using bookmarks requires you to install the `pickleshare` library.\n",
      "  bkms = self.shell.db.get('bookmarks', {})\n",
      "/dss/dsshome1/0C/ra93lal2/.local/share/virtualenvs/CMA_Fairness_v2-3j10GkSs/lib/python3.10/site-packages/IPython/core/magics/osm.py:417: UserWarning: This is now an optional IPython functionality, setting dhist requires you to install the `pickleshare` library.\n",
      "  self.shell.db['dhist'] = compress_dhist(dhist)[-100:]\n"
     ]
    }
   ],
   "source": [
    "%cd ~/cma/CMA_Fairness_v2"
   ]
  },
  {
   "cell_type": "markdown",
   "id": "9d235661",
   "metadata": {
    "papermill": {
     "duration": 0.008713,
     "end_time": "2025-08-19T18:51:22.377091",
     "exception": false,
     "start_time": "2025-08-19T18:51:22.368378",
     "status": "completed"
    },
    "tags": []
   },
   "source": [
    "The following cell holds the definition of our parameters, these values can be overriden by rendering the with e.g. the following command:\n",
    "\n",
    "papermill -p alpha 0.2 -p ratio 0.3 universe_analysis.ipynb output/test_run.ipynb"
   ]
  },
  {
   "cell_type": "code",
   "execution_count": 2,
   "id": "4a789d8e",
   "metadata": {
    "execution": {
     "iopub.execute_input": "2025-08-19T18:51:22.395651Z",
     "iopub.status.busy": "2025-08-19T18:51:22.395203Z",
     "iopub.status.idle": "2025-08-19T18:51:22.400269Z",
     "shell.execute_reply": "2025-08-19T18:51:22.399656Z"
    },
    "papermill": {
     "duration": 0.015948,
     "end_time": "2025-08-19T18:51:22.401574",
     "exception": false,
     "start_time": "2025-08-19T18:51:22.385626",
     "status": "completed"
    },
    "tags": []
   },
   "outputs": [
    {
     "name": "stdout",
     "output_type": "stream",
     "text": [
      "Current working directory: /dss/dsshome1/0C/ra93lal2/cma/CMA_Fairness_v2\n"
     ]
    }
   ],
   "source": [
    "import os\n",
    "print(\"Current working directory:\", os.getcwd())"
   ]
  },
  {
   "cell_type": "code",
   "execution_count": 3,
   "id": "4132aaed",
   "metadata": {
    "execution": {
     "iopub.execute_input": "2025-08-19T18:51:22.420412Z",
     "iopub.status.busy": "2025-08-19T18:51:22.419987Z",
     "iopub.status.idle": "2025-08-19T18:51:22.425093Z",
     "shell.execute_reply": "2025-08-19T18:51:22.424455Z"
    },
    "papermill": {
     "duration": 0.018842,
     "end_time": "2025-08-19T18:51:22.429217",
     "exception": false,
     "start_time": "2025-08-19T18:51:22.410375",
     "status": "completed"
    },
    "tags": [
     "parameters"
    ]
   },
   "outputs": [],
   "source": [
    "run_no = 0\n",
    "universe_id = \"test\"\n",
    "universe = {\n",
    "    \"training_size\": \"5k\", # \"25k\", \"5k\", \"1k\"\n",
    "    \"training_year\": \"2012_14\", # \"2014\", \"2012_14\", \"2010_14\"\n",
    "    \"scale\": \"scale\", # \"scale\", \"do-not-scale\",\n",
    "    \"model\": \"elasticnet\", # \"logreg\", \"penalized_logreg\", \"rf\", \"gbm\", \"elasticnet\"\n",
    "    \"cutoff\": [\"quantile_0.15\", \"quantile_0.30\"],\n",
    "    \"exclude_features\": \"age\", # \"none\", \"nationality\", \"sex\", \"nationality-sex\", \"age\"\n",
    "    \"exclude_subgroups\": \"drop-non-german\", # \"keep-all\", \"drop-non-german\"\n",
    "    \"eval_fairness_grouping\": [\"majority-minority\", \"nationality-all\"]\n",
    "}\n",
    "\n",
    "output_dir=\"./output\"\n",
    "seed=0"
   ]
  },
  {
   "cell_type": "code",
   "execution_count": 4,
   "id": "b03b904e",
   "metadata": {
    "execution": {
     "iopub.execute_input": "2025-08-19T18:51:22.464123Z",
     "iopub.status.busy": "2025-08-19T18:51:22.462801Z",
     "iopub.status.idle": "2025-08-19T18:51:22.469447Z",
     "shell.execute_reply": "2025-08-19T18:51:22.468412Z"
    },
    "papermill": {
     "duration": 0.020621,
     "end_time": "2025-08-19T18:51:22.470935",
     "exception": false,
     "start_time": "2025-08-19T18:51:22.450314",
     "status": "completed"
    },
    "tags": [
     "injected-parameters"
    ]
   },
   "outputs": [],
   "source": [
    "# Parameters\n",
    "universe_id = \"e6f795cfee59ad336a3b0d7a3e6fcde4\"\n",
    "run_no = \"3\"\n",
    "universe = \"{\\\"cutoff\\\": [\\\"quantile_0.1\\\", \\\"quantile_0.25\\\"], \\\"eval_fairness_grouping\\\": [\\\"majority-minority\\\", \\\"nationality-all\\\"], \\\"exclude_features\\\": \\\"sex\\\", \\\"exclude_subgroups\\\": \\\"drop-non-german\\\", \\\"model\\\": \\\"gbm\\\", \\\"scale\\\": \\\"scale\\\", \\\"training_size\\\": \\\"1k\\\", \\\"training_year\\\": \\\"2014\\\"}\"\n",
    "output_dir = \"output\"\n",
    "seed = \"2023\"\n"
   ]
  },
  {
   "cell_type": "code",
   "execution_count": 5,
   "id": "a5d7941f",
   "metadata": {
    "execution": {
     "iopub.execute_input": "2025-08-19T18:51:22.492948Z",
     "iopub.status.busy": "2025-08-19T18:51:22.491527Z",
     "iopub.status.idle": "2025-08-19T18:51:22.498526Z",
     "shell.execute_reply": "2025-08-19T18:51:22.497394Z"
    },
    "papermill": {
     "duration": 0.018942,
     "end_time": "2025-08-19T18:51:22.500085",
     "exception": false,
     "start_time": "2025-08-19T18:51:22.481143",
     "status": "completed"
    },
    "tags": []
   },
   "outputs": [],
   "source": [
    "import json\n",
    "if isinstance(universe, str):\n",
    "    universe = json.loads(universe)"
   ]
  },
  {
   "cell_type": "code",
   "execution_count": 6,
   "id": "7076ccb1",
   "metadata": {
    "execution": {
     "iopub.execute_input": "2025-08-19T18:51:22.523582Z",
     "iopub.status.busy": "2025-08-19T18:51:22.522226Z",
     "iopub.status.idle": "2025-08-19T18:51:22.575059Z",
     "shell.execute_reply": "2025-08-19T18:51:22.574037Z"
    },
    "papermill": {
     "duration": 0.06636,
     "end_time": "2025-08-19T18:51:22.578328",
     "exception": false,
     "start_time": "2025-08-19T18:51:22.511968",
     "status": "completed"
    },
    "tags": []
   },
   "outputs": [],
   "source": [
    "# Auto-reload the custom package\n",
    "%load_ext autoreload\n",
    "%autoreload 1\n",
    "%aimport fairness_multiverse"
   ]
  },
  {
   "cell_type": "code",
   "execution_count": 7,
   "id": "94c8eb93",
   "metadata": {
    "execution": {
     "iopub.execute_input": "2025-08-19T18:51:22.614997Z",
     "iopub.status.busy": "2025-08-19T18:51:22.613950Z",
     "iopub.status.idle": "2025-08-19T18:51:24.160235Z",
     "shell.execute_reply": "2025-08-19T18:51:24.159113Z"
    },
    "papermill": {
     "duration": 1.561188,
     "end_time": "2025-08-19T18:51:24.162049",
     "exception": false,
     "start_time": "2025-08-19T18:51:22.600861",
     "status": "completed"
    },
    "tags": []
   },
   "outputs": [],
   "source": [
    "from fairness_multiverse.universe import UniverseAnalysis\n",
    "\n",
    "universe_analysis = UniverseAnalysis(\n",
    "    run_no = run_no,\n",
    "    universe_id = universe_id,\n",
    "    universe = universe,\n",
    "    output_dir=output_dir,\n",
    ")"
   ]
  },
  {
   "cell_type": "code",
   "execution_count": 8,
   "id": "2a6381cf",
   "metadata": {
    "execution": {
     "iopub.execute_input": "2025-08-19T18:51:24.203855Z",
     "iopub.status.busy": "2025-08-19T18:51:24.202092Z",
     "iopub.status.idle": "2025-08-19T18:51:24.212706Z",
     "shell.execute_reply": "2025-08-19T18:51:24.211409Z"
    },
    "papermill": {
     "duration": 0.036511,
     "end_time": "2025-08-19T18:51:24.214307",
     "exception": false,
     "start_time": "2025-08-19T18:51:24.177796",
     "status": "completed"
    },
    "tags": []
   },
   "outputs": [
    {
     "name": "stdout",
     "output_type": "stream",
     "text": [
      "Using Seed: 2023\n"
     ]
    }
   ],
   "source": [
    "import numpy as np\n",
    "parsed_seed = int(seed)\n",
    "np.random.seed(parsed_seed)\n",
    "print(f\"Using Seed: {parsed_seed}\")"
   ]
  },
  {
   "cell_type": "markdown",
   "id": "b6e958b4",
   "metadata": {
    "papermill": {
     "duration": 0.011061,
     "end_time": "2025-08-19T18:51:24.240566",
     "exception": false,
     "start_time": "2025-08-19T18:51:24.229505",
     "status": "completed"
    },
    "tags": []
   },
   "source": [
    "# Loading Data"
   ]
  },
  {
   "cell_type": "code",
   "execution_count": 9,
   "id": "98701482",
   "metadata": {
    "execution": {
     "iopub.execute_input": "2025-08-19T18:51:24.262300Z",
     "iopub.status.busy": "2025-08-19T18:51:24.261022Z",
     "iopub.status.idle": "2025-08-19T18:51:34.619705Z",
     "shell.execute_reply": "2025-08-19T18:51:34.618656Z"
    },
    "papermill": {
     "duration": 10.371649,
     "end_time": "2025-08-19T18:51:34.621491",
     "exception": false,
     "start_time": "2025-08-19T18:51:24.249842",
     "status": "completed"
    },
    "tags": []
   },
   "outputs": [
    {
     "name": "stdout",
     "output_type": "stream",
     "text": [
      "Loading SIAB data from cache: data/siab_cached.csv.gz\n"
     ]
    },
    {
     "name": "stdout",
     "output_type": "stream",
     "text": [
      "(643690, 164)\n"
     ]
    }
   ],
   "source": [
    "from pathlib import Path\n",
    "import pandas as pd\n",
    "\n",
    "# File paths\n",
    "raw_file = Path(\"data/raw/siab.csv\")\n",
    "cache_file = Path(\"data/siab_cached.csv.gz\")\n",
    "\n",
    "# Ensure cache directory exists\n",
    "cache_file.parent.mkdir(parents=True, exist_ok=True)\n",
    "\n",
    "# Load with simple caching\n",
    "if cache_file.exists():\n",
    "    print(f\"Loading SIAB data from cache: {cache_file}\")\n",
    "    siab = pd.read_csv(cache_file, compression='gzip')\n",
    "else:\n",
    "    print(f\"Cache not found. Reading raw SIAB data: {raw_file}\")\n",
    "    siab = pd.read_csv(raw_file)\n",
    "    siab.to_csv(cache_file, index=False, compression='gzip')\n",
    "    print(f\"Cached SIAB data to: {cache_file}\")\n",
    "\n",
    "print(siab.shape)"
   ]
  },
  {
   "cell_type": "code",
   "execution_count": 10,
   "id": "058d2abb",
   "metadata": {
    "execution": {
     "iopub.execute_input": "2025-08-19T18:51:34.659783Z",
     "iopub.status.busy": "2025-08-19T18:51:34.658517Z",
     "iopub.status.idle": "2025-08-19T18:51:34.848660Z",
     "shell.execute_reply": "2025-08-19T18:51:34.847691Z"
    },
    "papermill": {
     "duration": 0.20999,
     "end_time": "2025-08-19T18:51:34.850078",
     "exception": false,
     "start_time": "2025-08-19T18:51:34.640088",
     "status": "completed"
    },
    "tags": []
   },
   "outputs": [
    {
     "data": {
      "text/html": [
       "<div>\n",
       "<style scoped>\n",
       "    .dataframe tbody tr th:only-of-type {\n",
       "        vertical-align: middle;\n",
       "    }\n",
       "\n",
       "    .dataframe tbody tr th {\n",
       "        vertical-align: top;\n",
       "    }\n",
       "\n",
       "    .dataframe thead th {\n",
       "        text-align: right;\n",
       "    }\n",
       "</style>\n",
       "<table border=\"1\" class=\"dataframe\">\n",
       "  <thead>\n",
       "    <tr style=\"text-align: right;\">\n",
       "      <th></th>\n",
       "      <th>persnr</th>\n",
       "      <th>year</th>\n",
       "      <th>nrEntry</th>\n",
       "      <th>ltue</th>\n",
       "      <th>employed_before</th>\n",
       "      <th>receipt_leh_before</th>\n",
       "      <th>receipt_lhg_before</th>\n",
       "      <th>se_before</th>\n",
       "      <th>ASU_notue_seeking_before</th>\n",
       "      <th>ASU_other_before</th>\n",
       "      <th>...</th>\n",
       "      <th>minijob_tot_dur_byage</th>\n",
       "      <th>ft_tot_dur_byage</th>\n",
       "      <th>befrist_tot_dur_byage</th>\n",
       "      <th>leih_tot_dur_byage</th>\n",
       "      <th>LHG_tot_dur_byage</th>\n",
       "      <th>LEH_tot_dur_byage</th>\n",
       "      <th>almp_tot_dur_byage</th>\n",
       "      <th>almp_aw_tot_dur_byage</th>\n",
       "      <th>se_tot_dur_byage</th>\n",
       "      <th>seeking1_tot_dur_byage</th>\n",
       "    </tr>\n",
       "  </thead>\n",
       "  <tbody>\n",
       "    <tr>\n",
       "      <th>0</th>\n",
       "      <td>7</td>\n",
       "      <td>2015</td>\n",
       "      <td>1</td>\n",
       "      <td>0</td>\n",
       "      <td>1</td>\n",
       "      <td>0</td>\n",
       "      <td>0</td>\n",
       "      <td>0</td>\n",
       "      <td>1</td>\n",
       "      <td>0</td>\n",
       "      <td>...</td>\n",
       "      <td>0.000000</td>\n",
       "      <td>0.000000</td>\n",
       "      <td>15.043478</td>\n",
       "      <td>0.000000</td>\n",
       "      <td>0.000000</td>\n",
       "      <td>0.000000</td>\n",
       "      <td>0.000000</td>\n",
       "      <td>0.000000</td>\n",
       "      <td>0.000000</td>\n",
       "      <td>0.000000</td>\n",
       "    </tr>\n",
       "    <tr>\n",
       "      <th>1</th>\n",
       "      <td>18</td>\n",
       "      <td>2010</td>\n",
       "      <td>1</td>\n",
       "      <td>1</td>\n",
       "      <td>0</td>\n",
       "      <td>0</td>\n",
       "      <td>0</td>\n",
       "      <td>0</td>\n",
       "      <td>0</td>\n",
       "      <td>0</td>\n",
       "      <td>...</td>\n",
       "      <td>0.000000</td>\n",
       "      <td>0.000000</td>\n",
       "      <td>0.000000</td>\n",
       "      <td>0.000000</td>\n",
       "      <td>0.000000</td>\n",
       "      <td>0.000000</td>\n",
       "      <td>0.000000</td>\n",
       "      <td>0.000000</td>\n",
       "      <td>0.000000</td>\n",
       "      <td>0.000000</td>\n",
       "    </tr>\n",
       "    <tr>\n",
       "      <th>2</th>\n",
       "      <td>18</td>\n",
       "      <td>2011</td>\n",
       "      <td>2</td>\n",
       "      <td>0</td>\n",
       "      <td>1</td>\n",
       "      <td>0</td>\n",
       "      <td>1</td>\n",
       "      <td>0</td>\n",
       "      <td>1</td>\n",
       "      <td>0</td>\n",
       "      <td>...</td>\n",
       "      <td>2.714286</td>\n",
       "      <td>2.714286</td>\n",
       "      <td>0.000000</td>\n",
       "      <td>0.000000</td>\n",
       "      <td>10.775510</td>\n",
       "      <td>0.000000</td>\n",
       "      <td>8.367347</td>\n",
       "      <td>0.000000</td>\n",
       "      <td>0.000000</td>\n",
       "      <td>9.836735</td>\n",
       "    </tr>\n",
       "    <tr>\n",
       "      <th>3</th>\n",
       "      <td>18</td>\n",
       "      <td>2012</td>\n",
       "      <td>3</td>\n",
       "      <td>0</td>\n",
       "      <td>1</td>\n",
       "      <td>0</td>\n",
       "      <td>1</td>\n",
       "      <td>0</td>\n",
       "      <td>1</td>\n",
       "      <td>0</td>\n",
       "      <td>...</td>\n",
       "      <td>4.200000</td>\n",
       "      <td>4.200000</td>\n",
       "      <td>0.000000</td>\n",
       "      <td>0.000000</td>\n",
       "      <td>12.100000</td>\n",
       "      <td>0.000000</td>\n",
       "      <td>9.400000</td>\n",
       "      <td>0.000000</td>\n",
       "      <td>0.000000</td>\n",
       "      <td>9.960000</td>\n",
       "    </tr>\n",
       "    <tr>\n",
       "      <th>4</th>\n",
       "      <td>18</td>\n",
       "      <td>2012</td>\n",
       "      <td>4</td>\n",
       "      <td>0</td>\n",
       "      <td>1</td>\n",
       "      <td>0</td>\n",
       "      <td>1</td>\n",
       "      <td>0</td>\n",
       "      <td>1</td>\n",
       "      <td>0</td>\n",
       "      <td>...</td>\n",
       "      <td>5.460000</td>\n",
       "      <td>5.460000</td>\n",
       "      <td>0.000000</td>\n",
       "      <td>0.000000</td>\n",
       "      <td>13.360000</td>\n",
       "      <td>0.000000</td>\n",
       "      <td>10.320000</td>\n",
       "      <td>0.000000</td>\n",
       "      <td>0.000000</td>\n",
       "      <td>10.280000</td>\n",
       "    </tr>\n",
       "    <tr>\n",
       "      <th>...</th>\n",
       "      <td>...</td>\n",
       "      <td>...</td>\n",
       "      <td>...</td>\n",
       "      <td>...</td>\n",
       "      <td>...</td>\n",
       "      <td>...</td>\n",
       "      <td>...</td>\n",
       "      <td>...</td>\n",
       "      <td>...</td>\n",
       "      <td>...</td>\n",
       "      <td>...</td>\n",
       "      <td>...</td>\n",
       "      <td>...</td>\n",
       "      <td>...</td>\n",
       "      <td>...</td>\n",
       "      <td>...</td>\n",
       "      <td>...</td>\n",
       "      <td>...</td>\n",
       "      <td>...</td>\n",
       "      <td>...</td>\n",
       "      <td>...</td>\n",
       "    </tr>\n",
       "    <tr>\n",
       "      <th>643685</th>\n",
       "      <td>1827860</td>\n",
       "      <td>2013</td>\n",
       "      <td>1</td>\n",
       "      <td>0</td>\n",
       "      <td>0</td>\n",
       "      <td>0</td>\n",
       "      <td>1</td>\n",
       "      <td>0</td>\n",
       "      <td>0</td>\n",
       "      <td>1</td>\n",
       "      <td>...</td>\n",
       "      <td>0.000000</td>\n",
       "      <td>0.000000</td>\n",
       "      <td>0.000000</td>\n",
       "      <td>0.000000</td>\n",
       "      <td>0.612903</td>\n",
       "      <td>0.000000</td>\n",
       "      <td>0.000000</td>\n",
       "      <td>0.000000</td>\n",
       "      <td>0.000000</td>\n",
       "      <td>0.000000</td>\n",
       "    </tr>\n",
       "    <tr>\n",
       "      <th>643686</th>\n",
       "      <td>1827860</td>\n",
       "      <td>2015</td>\n",
       "      <td>2</td>\n",
       "      <td>1</td>\n",
       "      <td>0</td>\n",
       "      <td>0</td>\n",
       "      <td>1</td>\n",
       "      <td>0</td>\n",
       "      <td>1</td>\n",
       "      <td>0</td>\n",
       "      <td>...</td>\n",
       "      <td>0.000000</td>\n",
       "      <td>0.000000</td>\n",
       "      <td>0.212121</td>\n",
       "      <td>0.212121</td>\n",
       "      <td>17.363636</td>\n",
       "      <td>0.000000</td>\n",
       "      <td>8.909091</td>\n",
       "      <td>0.000000</td>\n",
       "      <td>0.000000</td>\n",
       "      <td>7.121212</td>\n",
       "    </tr>\n",
       "    <tr>\n",
       "      <th>643687</th>\n",
       "      <td>1827860</td>\n",
       "      <td>2016</td>\n",
       "      <td>3</td>\n",
       "      <td>1</td>\n",
       "      <td>0</td>\n",
       "      <td>0</td>\n",
       "      <td>1</td>\n",
       "      <td>1</td>\n",
       "      <td>0</td>\n",
       "      <td>1</td>\n",
       "      <td>...</td>\n",
       "      <td>0.000000</td>\n",
       "      <td>0.000000</td>\n",
       "      <td>0.294118</td>\n",
       "      <td>0.205882</td>\n",
       "      <td>34.705882</td>\n",
       "      <td>0.000000</td>\n",
       "      <td>10.352941</td>\n",
       "      <td>1.705882</td>\n",
       "      <td>1.705882</td>\n",
       "      <td>23.911765</td>\n",
       "    </tr>\n",
       "    <tr>\n",
       "      <th>643688</th>\n",
       "      <td>1827869</td>\n",
       "      <td>2013</td>\n",
       "      <td>1</td>\n",
       "      <td>1</td>\n",
       "      <td>1</td>\n",
       "      <td>0</td>\n",
       "      <td>0</td>\n",
       "      <td>0</td>\n",
       "      <td>1</td>\n",
       "      <td>0</td>\n",
       "      <td>...</td>\n",
       "      <td>0.000000</td>\n",
       "      <td>0.000000</td>\n",
       "      <td>0.000000</td>\n",
       "      <td>0.000000</td>\n",
       "      <td>0.000000</td>\n",
       "      <td>0.525424</td>\n",
       "      <td>0.000000</td>\n",
       "      <td>0.000000</td>\n",
       "      <td>0.000000</td>\n",
       "      <td>0.000000</td>\n",
       "    </tr>\n",
       "    <tr>\n",
       "      <th>643689</th>\n",
       "      <td>1827869</td>\n",
       "      <td>2014</td>\n",
       "      <td>2</td>\n",
       "      <td>0</td>\n",
       "      <td>0</td>\n",
       "      <td>1</td>\n",
       "      <td>0</td>\n",
       "      <td>0</td>\n",
       "      <td>1</td>\n",
       "      <td>0</td>\n",
       "      <td>...</td>\n",
       "      <td>0.000000</td>\n",
       "      <td>0.666667</td>\n",
       "      <td>0.666667</td>\n",
       "      <td>0.000000</td>\n",
       "      <td>0.000000</td>\n",
       "      <td>8.950000</td>\n",
       "      <td>1.033333</td>\n",
       "      <td>0.083333</td>\n",
       "      <td>0.083333</td>\n",
       "      <td>8.133333</td>\n",
       "    </tr>\n",
       "  </tbody>\n",
       "</table>\n",
       "<p>643690 rows × 164 columns</p>\n",
       "</div>"
      ],
      "text/plain": [
       "         persnr  year  nrEntry  ltue  employed_before  receipt_leh_before  \\\n",
       "0             7  2015        1     0                1                   0   \n",
       "1            18  2010        1     1                0                   0   \n",
       "2            18  2011        2     0                1                   0   \n",
       "3            18  2012        3     0                1                   0   \n",
       "4            18  2012        4     0                1                   0   \n",
       "...         ...   ...      ...   ...              ...                 ...   \n",
       "643685  1827860  2013        1     0                0                   0   \n",
       "643686  1827860  2015        2     1                0                   0   \n",
       "643687  1827860  2016        3     1                0                   0   \n",
       "643688  1827869  2013        1     1                1                   0   \n",
       "643689  1827869  2014        2     0                0                   1   \n",
       "\n",
       "        receipt_lhg_before  se_before  ASU_notue_seeking_before  \\\n",
       "0                        0          0                         1   \n",
       "1                        0          0                         0   \n",
       "2                        1          0                         1   \n",
       "3                        1          0                         1   \n",
       "4                        1          0                         1   \n",
       "...                    ...        ...                       ...   \n",
       "643685                   1          0                         0   \n",
       "643686                   1          0                         1   \n",
       "643687                   1          1                         0   \n",
       "643688                   0          0                         1   \n",
       "643689                   0          0                         1   \n",
       "\n",
       "        ASU_other_before  ...  minijob_tot_dur_byage  ft_tot_dur_byage  \\\n",
       "0                      0  ...               0.000000          0.000000   \n",
       "1                      0  ...               0.000000          0.000000   \n",
       "2                      0  ...               2.714286          2.714286   \n",
       "3                      0  ...               4.200000          4.200000   \n",
       "4                      0  ...               5.460000          5.460000   \n",
       "...                  ...  ...                    ...               ...   \n",
       "643685                 1  ...               0.000000          0.000000   \n",
       "643686                 0  ...               0.000000          0.000000   \n",
       "643687                 1  ...               0.000000          0.000000   \n",
       "643688                 0  ...               0.000000          0.000000   \n",
       "643689                 0  ...               0.000000          0.666667   \n",
       "\n",
       "        befrist_tot_dur_byage  leih_tot_dur_byage  LHG_tot_dur_byage  \\\n",
       "0                   15.043478            0.000000           0.000000   \n",
       "1                    0.000000            0.000000           0.000000   \n",
       "2                    0.000000            0.000000          10.775510   \n",
       "3                    0.000000            0.000000          12.100000   \n",
       "4                    0.000000            0.000000          13.360000   \n",
       "...                       ...                 ...                ...   \n",
       "643685               0.000000            0.000000           0.612903   \n",
       "643686               0.212121            0.212121          17.363636   \n",
       "643687               0.294118            0.205882          34.705882   \n",
       "643688               0.000000            0.000000           0.000000   \n",
       "643689               0.666667            0.000000           0.000000   \n",
       "\n",
       "        LEH_tot_dur_byage  almp_tot_dur_byage  almp_aw_tot_dur_byage  \\\n",
       "0                0.000000            0.000000               0.000000   \n",
       "1                0.000000            0.000000               0.000000   \n",
       "2                0.000000            8.367347               0.000000   \n",
       "3                0.000000            9.400000               0.000000   \n",
       "4                0.000000           10.320000               0.000000   \n",
       "...                   ...                 ...                    ...   \n",
       "643685           0.000000            0.000000               0.000000   \n",
       "643686           0.000000            8.909091               0.000000   \n",
       "643687           0.000000           10.352941               1.705882   \n",
       "643688           0.525424            0.000000               0.000000   \n",
       "643689           8.950000            1.033333               0.083333   \n",
       "\n",
       "        se_tot_dur_byage  seeking1_tot_dur_byage  \n",
       "0               0.000000                0.000000  \n",
       "1               0.000000                0.000000  \n",
       "2               0.000000                9.836735  \n",
       "3               0.000000                9.960000  \n",
       "4               0.000000               10.280000  \n",
       "...                  ...                     ...  \n",
       "643685          0.000000                0.000000  \n",
       "643686          0.000000                7.121212  \n",
       "643687          1.705882               23.911765  \n",
       "643688          0.000000                0.000000  \n",
       "643689          0.083333                8.133333  \n",
       "\n",
       "[643690 rows x 164 columns]"
      ]
     },
     "execution_count": 10,
     "metadata": {},
     "output_type": "execute_result"
    }
   ],
   "source": [
    "siab"
   ]
  },
  {
   "cell_type": "markdown",
   "id": "1f87e805",
   "metadata": {
    "papermill": {
     "duration": 0.012245,
     "end_time": "2025-08-19T18:51:34.873879",
     "exception": false,
     "start_time": "2025-08-19T18:51:34.861634",
     "status": "completed"
    },
    "tags": []
   },
   "source": [
    "# Splitting Data and Setting Training Data Size"
   ]
  },
  {
   "cell_type": "code",
   "execution_count": 11,
   "id": "910ae358",
   "metadata": {
    "execution": {
     "iopub.execute_input": "2025-08-19T18:51:34.894639Z",
     "iopub.status.busy": "2025-08-19T18:51:34.894212Z",
     "iopub.status.idle": "2025-08-19T18:51:35.122069Z",
     "shell.execute_reply": "2025-08-19T18:51:35.121286Z"
    },
    "papermill": {
     "duration": 0.239957,
     "end_time": "2025-08-19T18:51:35.123500",
     "exception": false,
     "start_time": "2025-08-19T18:51:34.883543",
     "status": "completed"
    },
    "tags": []
   },
   "outputs": [],
   "source": [
    "from fairness_multiverse.universe import sample_by_year_size\n",
    "\n",
    "siab_train = sample_by_year_size(siab,\n",
    "                               training_year=universe[\"training_year\"],\n",
    "                               training_size=universe[\"training_size\"])"
   ]
  },
  {
   "cell_type": "code",
   "execution_count": 12,
   "id": "919c8ff5",
   "metadata": {
    "execution": {
     "iopub.execute_input": "2025-08-19T18:51:35.144717Z",
     "iopub.status.busy": "2025-08-19T18:51:35.144305Z",
     "iopub.status.idle": "2025-08-19T18:51:35.150072Z",
     "shell.execute_reply": "2025-08-19T18:51:35.149376Z"
    },
    "papermill": {
     "duration": 0.017887,
     "end_time": "2025-08-19T18:51:35.151503",
     "exception": false,
     "start_time": "2025-08-19T18:51:35.133616",
     "status": "completed"
    },
    "tags": []
   },
   "outputs": [
    {
     "data": {
      "text/plain": [
       "(1000, 164)"
      ]
     },
     "execution_count": 12,
     "metadata": {},
     "output_type": "execute_result"
    }
   ],
   "source": [
    "siab_train.shape"
   ]
  },
  {
   "cell_type": "code",
   "execution_count": 13,
   "id": "feb13bf4",
   "metadata": {
    "execution": {
     "iopub.execute_input": "2025-08-19T18:51:35.172966Z",
     "iopub.status.busy": "2025-08-19T18:51:35.172601Z",
     "iopub.status.idle": "2025-08-19T18:51:35.180201Z",
     "shell.execute_reply": "2025-08-19T18:51:35.179458Z"
    },
    "papermill": {
     "duration": 0.019609,
     "end_time": "2025-08-19T18:51:35.181560",
     "exception": false,
     "start_time": "2025-08-19T18:51:35.161951",
     "status": "completed"
    },
    "tags": []
   },
   "outputs": [
    {
     "data": {
      "text/plain": [
       "year\n",
       "2014    1000\n",
       "dtype: int64"
      ]
     },
     "metadata": {},
     "output_type": "display_data"
    }
   ],
   "source": [
    "display(siab_train.groupby(\"year\").size())"
   ]
  },
  {
   "cell_type": "code",
   "execution_count": 14,
   "id": "0997782f",
   "metadata": {
    "execution": {
     "iopub.execute_input": "2025-08-19T18:51:35.202899Z",
     "iopub.status.busy": "2025-08-19T18:51:35.202509Z",
     "iopub.status.idle": "2025-08-19T18:51:35.430379Z",
     "shell.execute_reply": "2025-08-19T18:51:35.429435Z"
    },
    "papermill": {
     "duration": 0.240624,
     "end_time": "2025-08-19T18:51:35.432223",
     "exception": false,
     "start_time": "2025-08-19T18:51:35.191599",
     "status": "completed"
    },
    "tags": []
   },
   "outputs": [],
   "source": [
    "#siab_train = siab_s[siab_s.year < 2015]\n",
    "siab_calib = siab[siab.year == 2015]\n",
    "siab_test = siab[siab.year == 2016]"
   ]
  },
  {
   "cell_type": "code",
   "execution_count": 15,
   "id": "2c1e4012",
   "metadata": {
    "execution": {
     "iopub.execute_input": "2025-08-19T18:51:35.458485Z",
     "iopub.status.busy": "2025-08-19T18:51:35.456080Z",
     "iopub.status.idle": "2025-08-19T18:51:35.465281Z",
     "shell.execute_reply": "2025-08-19T18:51:35.463867Z"
    },
    "papermill": {
     "duration": 0.022314,
     "end_time": "2025-08-19T18:51:35.466815",
     "exception": false,
     "start_time": "2025-08-19T18:51:35.444501",
     "status": "completed"
    },
    "tags": []
   },
   "outputs": [],
   "source": [
    "#siab_calib.shape"
   ]
  },
  {
   "cell_type": "code",
   "execution_count": 16,
   "id": "f66b54ca",
   "metadata": {
    "execution": {
     "iopub.execute_input": "2025-08-19T18:51:35.494299Z",
     "iopub.status.busy": "2025-08-19T18:51:35.492633Z",
     "iopub.status.idle": "2025-08-19T18:51:35.504141Z",
     "shell.execute_reply": "2025-08-19T18:51:35.502767Z"
    },
    "papermill": {
     "duration": 0.025622,
     "end_time": "2025-08-19T18:51:35.505793",
     "exception": false,
     "start_time": "2025-08-19T18:51:35.480171",
     "status": "completed"
    },
    "tags": []
   },
   "outputs": [],
   "source": [
    "#siab_test.shape"
   ]
  },
  {
   "cell_type": "code",
   "execution_count": 17,
   "id": "27e4384d",
   "metadata": {
    "execution": {
     "iopub.execute_input": "2025-08-19T18:51:35.529892Z",
     "iopub.status.busy": "2025-08-19T18:51:35.528779Z",
     "iopub.status.idle": "2025-08-19T18:51:35.539509Z",
     "shell.execute_reply": "2025-08-19T18:51:35.538383Z"
    },
    "papermill": {
     "duration": 0.023557,
     "end_time": "2025-08-19T18:51:35.540894",
     "exception": false,
     "start_time": "2025-08-19T18:51:35.517337",
     "status": "completed"
    },
    "tags": []
   },
   "outputs": [],
   "source": [
    "X_train = siab_train.iloc[:,4:164]\n",
    "y_train = siab_train.iloc[:, [3]]"
   ]
  },
  {
   "cell_type": "code",
   "execution_count": 18,
   "id": "08ee8389",
   "metadata": {
    "execution": {
     "iopub.execute_input": "2025-08-19T18:51:35.568029Z",
     "iopub.status.busy": "2025-08-19T18:51:35.566912Z",
     "iopub.status.idle": "2025-08-19T18:51:35.648067Z",
     "shell.execute_reply": "2025-08-19T18:51:35.647171Z"
    },
    "papermill": {
     "duration": 0.096244,
     "end_time": "2025-08-19T18:51:35.651214",
     "exception": false,
     "start_time": "2025-08-19T18:51:35.554970",
     "status": "completed"
    },
    "tags": []
   },
   "outputs": [],
   "source": [
    "X_calib = siab_calib.iloc[:,4:164]\n",
    "y_calib = siab_calib.iloc[:, [3]]"
   ]
  },
  {
   "cell_type": "code",
   "execution_count": 19,
   "id": "b7ff42e0",
   "metadata": {
    "execution": {
     "iopub.execute_input": "2025-08-19T18:51:35.690682Z",
     "iopub.status.busy": "2025-08-19T18:51:35.689530Z",
     "iopub.status.idle": "2025-08-19T18:51:35.755756Z",
     "shell.execute_reply": "2025-08-19T18:51:35.754930Z"
    },
    "papermill": {
     "duration": 0.08283,
     "end_time": "2025-08-19T18:51:35.758882",
     "exception": false,
     "start_time": "2025-08-19T18:51:35.676052",
     "status": "completed"
    },
    "tags": []
   },
   "outputs": [],
   "source": [
    "X_test = siab_test.iloc[:,4:164]\n",
    "y_true = siab_test.iloc[:, [3]]"
   ]
  },
  {
   "cell_type": "code",
   "execution_count": 20,
   "id": "0275101e",
   "metadata": {
    "execution": {
     "iopub.execute_input": "2025-08-19T18:51:35.797955Z",
     "iopub.status.busy": "2025-08-19T18:51:35.796766Z",
     "iopub.status.idle": "2025-08-19T18:51:35.919123Z",
     "shell.execute_reply": "2025-08-19T18:51:35.918309Z"
    },
    "papermill": {
     "duration": 0.139498,
     "end_time": "2025-08-19T18:51:35.922069",
     "exception": false,
     "start_time": "2025-08-19T18:51:35.782571",
     "status": "completed"
    },
    "tags": []
   },
   "outputs": [],
   "source": [
    "# Auxiliary data needed downstream in the pipeline\n",
    "\n",
    "org_train = X_train.copy()\n",
    "org_test = X_test.copy()\n",
    "org_calib = X_calib.copy()"
   ]
  },
  {
   "cell_type": "markdown",
   "id": "b461e618",
   "metadata": {
    "papermill": {
     "duration": 0.011747,
     "end_time": "2025-08-19T18:51:35.955219",
     "exception": false,
     "start_time": "2025-08-19T18:51:35.943472",
     "status": "completed"
    },
    "tags": []
   },
   "source": [
    "# Preprocessing Data"
   ]
  },
  {
   "cell_type": "code",
   "execution_count": 21,
   "id": "78e74c4b",
   "metadata": {
    "execution": {
     "iopub.execute_input": "2025-08-19T18:51:35.977694Z",
     "iopub.status.busy": "2025-08-19T18:51:35.976886Z",
     "iopub.status.idle": "2025-08-19T18:51:35.982590Z",
     "shell.execute_reply": "2025-08-19T18:51:35.981756Z"
    },
    "papermill": {
     "duration": 0.018421,
     "end_time": "2025-08-19T18:51:35.983868",
     "exception": false,
     "start_time": "2025-08-19T18:51:35.965447",
     "status": "completed"
    },
    "tags": []
   },
   "outputs": [],
   "source": [
    "# EXCLUDE PROTECTED FEATURES\n",
    "# --------------------------\n",
    "\n",
    "excluded_features = universe[\"exclude_features\"].split(\"-\")\n",
    "excluded_features_dictionary = {\n",
    "    \"nationality\": [\"maxdeutsch1\", \"maxdeutsch.Missing.\"],\n",
    "    \"sex\": [\"frau1\"],\n",
    "    \"age\": [\"age\"],\n",
    "}"
   ]
  },
  {
   "cell_type": "code",
   "execution_count": 22,
   "id": "f8e63555",
   "metadata": {
    "execution": {
     "iopub.execute_input": "2025-08-19T18:51:36.007127Z",
     "iopub.status.busy": "2025-08-19T18:51:36.006092Z",
     "iopub.status.idle": "2025-08-19T18:51:36.035727Z",
     "shell.execute_reply": "2025-08-19T18:51:36.034449Z"
    },
    "papermill": {
     "duration": 0.044672,
     "end_time": "2025-08-19T18:51:36.039090",
     "exception": false,
     "start_time": "2025-08-19T18:51:35.994418",
     "status": "completed"
    },
    "tags": []
   },
   "outputs": [],
   "source": [
    "excluded_features_columns = [\n",
    "    excluded_features_dictionary[f] for f in excluded_features if len(f) > 0 and f != \"none\"\n",
    "]"
   ]
  },
  {
   "cell_type": "code",
   "execution_count": 23,
   "id": "da781f7c",
   "metadata": {
    "execution": {
     "iopub.execute_input": "2025-08-19T18:51:36.086441Z",
     "iopub.status.busy": "2025-08-19T18:51:36.085232Z",
     "iopub.status.idle": "2025-08-19T18:51:36.094546Z",
     "shell.execute_reply": "2025-08-19T18:51:36.092299Z"
    },
    "papermill": {
     "duration": 0.02441,
     "end_time": "2025-08-19T18:51:36.096896",
     "exception": false,
     "start_time": "2025-08-19T18:51:36.072486",
     "status": "completed"
    },
    "tags": []
   },
   "outputs": [],
   "source": [
    "from fairness_multiverse.universe import flatten_once\n",
    "\n",
    "excluded_features_columns = flatten_once(excluded_features_columns)"
   ]
  },
  {
   "cell_type": "code",
   "execution_count": 24,
   "id": "37fef0f0",
   "metadata": {
    "execution": {
     "iopub.execute_input": "2025-08-19T18:51:36.122826Z",
     "iopub.status.busy": "2025-08-19T18:51:36.121915Z",
     "iopub.status.idle": "2025-08-19T18:51:36.134168Z",
     "shell.execute_reply": "2025-08-19T18:51:36.132859Z"
    },
    "papermill": {
     "duration": 0.026016,
     "end_time": "2025-08-19T18:51:36.135643",
     "exception": false,
     "start_time": "2025-08-19T18:51:36.109627",
     "status": "completed"
    },
    "tags": []
   },
   "outputs": [
    {
     "name": "stdout",
     "output_type": "stream",
     "text": [
      "Dropping features: ['frau1']\n"
     ]
    }
   ],
   "source": [
    "if len(excluded_features_columns) > 0:\n",
    "    print(f\"Dropping features: {excluded_features_columns}\")\n",
    "    X_train.drop(excluded_features_columns, axis=1, inplace=True)"
   ]
  },
  {
   "cell_type": "code",
   "execution_count": 25,
   "id": "d029e3e9",
   "metadata": {
    "execution": {
     "iopub.execute_input": "2025-08-19T18:51:36.166108Z",
     "iopub.status.busy": "2025-08-19T18:51:36.164971Z",
     "iopub.status.idle": "2025-08-19T18:51:36.229392Z",
     "shell.execute_reply": "2025-08-19T18:51:36.228630Z"
    },
    "papermill": {
     "duration": 0.080905,
     "end_time": "2025-08-19T18:51:36.232589",
     "exception": false,
     "start_time": "2025-08-19T18:51:36.151684",
     "status": "completed"
    },
    "tags": []
   },
   "outputs": [
    {
     "name": "stdout",
     "output_type": "stream",
     "text": [
      "Dropping features: ['frau1']\n"
     ]
    }
   ],
   "source": [
    "if len(excluded_features_columns) > 0:\n",
    "    print(f\"Dropping features: {excluded_features_columns}\")\n",
    "    X_test.drop(excluded_features_columns, axis=1, inplace=True)"
   ]
  },
  {
   "cell_type": "code",
   "execution_count": 26,
   "id": "01d571f0",
   "metadata": {
    "execution": {
     "iopub.execute_input": "2025-08-19T18:51:36.266185Z",
     "iopub.status.busy": "2025-08-19T18:51:36.265797Z",
     "iopub.status.idle": "2025-08-19T18:51:36.313227Z",
     "shell.execute_reply": "2025-08-19T18:51:36.312501Z"
    },
    "papermill": {
     "duration": 0.064953,
     "end_time": "2025-08-19T18:51:36.317535",
     "exception": false,
     "start_time": "2025-08-19T18:51:36.252582",
     "status": "completed"
    },
    "tags": []
   },
   "outputs": [
    {
     "name": "stdout",
     "output_type": "stream",
     "text": [
      "Dropping features: ['frau1']\n"
     ]
    }
   ],
   "source": [
    "if len(excluded_features_columns) > 0:\n",
    "    print(f\"Dropping features: {excluded_features_columns}\")\n",
    "    X_calib.drop(excluded_features_columns, axis=1, inplace=True)"
   ]
  },
  {
   "cell_type": "code",
   "execution_count": 27,
   "id": "3037356e",
   "metadata": {
    "execution": {
     "iopub.execute_input": "2025-08-19T18:51:36.344847Z",
     "iopub.status.busy": "2025-08-19T18:51:36.343945Z",
     "iopub.status.idle": "2025-08-19T18:51:36.350256Z",
     "shell.execute_reply": "2025-08-19T18:51:36.349121Z"
    },
    "papermill": {
     "duration": 0.020473,
     "end_time": "2025-08-19T18:51:36.351635",
     "exception": false,
     "start_time": "2025-08-19T18:51:36.331162",
     "status": "completed"
    },
    "tags": []
   },
   "outputs": [],
   "source": [
    "# EXCLUDE CERTAIN SUBGROUPS\n",
    "# -------------------------\n",
    "\n",
    "mode = universe.get(\"exclude_subgroups\", \"keep-all\") # Defaults to \"keep-all\" if the key is missing."
   ]
  },
  {
   "cell_type": "code",
   "execution_count": 28,
   "id": "9d1e63fd",
   "metadata": {
    "execution": {
     "iopub.execute_input": "2025-08-19T18:51:36.378969Z",
     "iopub.status.busy": "2025-08-19T18:51:36.377665Z",
     "iopub.status.idle": "2025-08-19T18:51:36.388762Z",
     "shell.execute_reply": "2025-08-19T18:51:36.387603Z"
    },
    "papermill": {
     "duration": 0.024835,
     "end_time": "2025-08-19T18:51:36.390214",
     "exception": false,
     "start_time": "2025-08-19T18:51:36.365379",
     "status": "completed"
    },
    "tags": []
   },
   "outputs": [],
   "source": [
    "if mode == \"keep-all\":\n",
    "    keep_mask = pd.Series(True, index=org_train.index)\n",
    "\n",
    "elif mode == \"drop-non-german\":\n",
    "    keep_mask = (org_train[\"maxdeutsch1\"] == 1) & (org_train[\"maxdeutsch.Missing.\"] == 0)\n",
    "\n",
    "else:\n",
    "    raise ValueError(f\"Unsupported mode for exclude_subgroups: {mode}\")"
   ]
  },
  {
   "cell_type": "code",
   "execution_count": 29,
   "id": "d3b65474",
   "metadata": {
    "execution": {
     "iopub.execute_input": "2025-08-19T18:51:36.430332Z",
     "iopub.status.busy": "2025-08-19T18:51:36.421207Z",
     "iopub.status.idle": "2025-08-19T18:51:36.435045Z",
     "shell.execute_reply": "2025-08-19T18:51:36.434482Z"
    },
    "papermill": {
     "duration": 0.030668,
     "end_time": "2025-08-19T18:51:36.436690",
     "exception": false,
     "start_time": "2025-08-19T18:51:36.406022",
     "status": "completed"
    },
    "tags": []
   },
   "outputs": [
    {
     "name": "stdout",
     "output_type": "stream",
     "text": [
      "Dropping 147 rows (14.70%) where mode='drop-non-german'\n"
     ]
    }
   ],
   "source": [
    "n_drop = (~keep_mask).sum() # Calculates how many rows are set to be dropped\n",
    "if n_drop > 0:\n",
    "    pct = n_drop / len(keep_mask) * 100\n",
    "    print(f\"Dropping {n_drop} rows ({pct:.2f}%) where mode='{mode}'\")"
   ]
  },
  {
   "cell_type": "code",
   "execution_count": 30,
   "id": "f44389b3",
   "metadata": {
    "execution": {
     "iopub.execute_input": "2025-08-19T18:51:36.465105Z",
     "iopub.status.busy": "2025-08-19T18:51:36.464300Z",
     "iopub.status.idle": "2025-08-19T18:51:36.473876Z",
     "shell.execute_reply": "2025-08-19T18:51:36.472398Z"
    },
    "papermill": {
     "duration": 0.023717,
     "end_time": "2025-08-19T18:51:36.475677",
     "exception": false,
     "start_time": "2025-08-19T18:51:36.451960",
     "status": "completed"
    },
    "tags": []
   },
   "outputs": [],
   "source": [
    "X_train = X_train[keep_mask]"
   ]
  },
  {
   "cell_type": "code",
   "execution_count": 31,
   "id": "ceca8c2a",
   "metadata": {
    "execution": {
     "iopub.execute_input": "2025-08-19T18:51:36.506186Z",
     "iopub.status.busy": "2025-08-19T18:51:36.502659Z",
     "iopub.status.idle": "2025-08-19T18:51:36.515642Z",
     "shell.execute_reply": "2025-08-19T18:51:36.513934Z"
    },
    "papermill": {
     "duration": 0.027445,
     "end_time": "2025-08-19T18:51:36.517247",
     "exception": false,
     "start_time": "2025-08-19T18:51:36.489802",
     "status": "completed"
    },
    "tags": []
   },
   "outputs": [],
   "source": [
    "y_train = y_train[keep_mask]"
   ]
  },
  {
   "cell_type": "markdown",
   "id": "04d31e2f",
   "metadata": {
    "papermill": {
     "duration": 0.029193,
     "end_time": "2025-08-19T18:51:36.565411",
     "exception": false,
     "start_time": "2025-08-19T18:51:36.536218",
     "status": "completed"
    },
    "tags": []
   },
   "source": [
    "# Model Training"
   ]
  },
  {
   "cell_type": "code",
   "execution_count": 32,
   "id": "db991733",
   "metadata": {
    "execution": {
     "iopub.execute_input": "2025-08-19T18:51:36.592930Z",
     "iopub.status.busy": "2025-08-19T18:51:36.592521Z",
     "iopub.status.idle": "2025-08-19T18:51:36.703347Z",
     "shell.execute_reply": "2025-08-19T18:51:36.702658Z"
    },
    "papermill": {
     "duration": 0.125272,
     "end_time": "2025-08-19T18:51:36.706103",
     "exception": false,
     "start_time": "2025-08-19T18:51:36.580831",
     "status": "completed"
    },
    "tags": []
   },
   "outputs": [],
   "source": [
    "from sklearn.linear_model import LogisticRegression\n",
    "from sklearn.ensemble import GradientBoostingClassifier, RandomForestClassifier\n",
    "\n",
    "if (universe[\"model\"] == \"logreg\"):\n",
    "    model = LogisticRegression() #penalty=\"none\", solver=\"newton-cg\", max_iter=1)\n",
    "elif (universe[\"model\"] == \"penalized_logreg\"):\n",
    "    model = LogisticRegression(penalty=\"l2\", C=0.1) #, solver=\"newton-cg\", max_iter=1)\n",
    "elif (universe[\"model\"] == \"rf\"):\n",
    "    model = RandomForestClassifier() # n_estimators=100, n_jobs=-1\n",
    "elif (universe[\"model\"] == \"gbm\"):\n",
    "    model = GradientBoostingClassifier()\n",
    "elif (universe[\"model\"] == \"elasticnet\"):\n",
    "    model = LogisticRegression(penalty = 'elasticnet', solver = 'saga', l1_ratio = 0.5) # max_iter=5000\n",
    "else:\n",
    "    raise \"Unsupported universe.model\""
   ]
  },
  {
   "cell_type": "code",
   "execution_count": 33,
   "id": "a4b5cd25",
   "metadata": {
    "execution": {
     "iopub.execute_input": "2025-08-19T18:51:36.747122Z",
     "iopub.status.busy": "2025-08-19T18:51:36.745616Z",
     "iopub.status.idle": "2025-08-19T18:51:36.755936Z",
     "shell.execute_reply": "2025-08-19T18:51:36.754277Z"
    },
    "papermill": {
     "duration": 0.026573,
     "end_time": "2025-08-19T18:51:36.757410",
     "exception": false,
     "start_time": "2025-08-19T18:51:36.730837",
     "status": "completed"
    },
    "tags": []
   },
   "outputs": [],
   "source": [
    "from sklearn.pipeline import Pipeline\n",
    "from sklearn.preprocessing import StandardScaler\n",
    "\n",
    "model = Pipeline([\n",
    "    #(\"continuous_processor\", continuous_processor),\n",
    "    #(\"categorical_preprocessor\", categorical_preprocessor),\n",
    "    (\"scale\", StandardScaler() if universe[\"scale\"] == \"scale\" else None), \n",
    "    (\"model\", model),\n",
    "])"
   ]
  },
  {
   "cell_type": "code",
   "execution_count": 34,
   "id": "283a904d",
   "metadata": {
    "execution": {
     "iopub.execute_input": "2025-08-19T18:51:36.785186Z",
     "iopub.status.busy": "2025-08-19T18:51:36.784143Z",
     "iopub.status.idle": "2025-08-19T18:51:37.615358Z",
     "shell.execute_reply": "2025-08-19T18:51:37.614631Z"
    },
    "papermill": {
     "duration": 0.844992,
     "end_time": "2025-08-19T18:51:37.616743",
     "exception": false,
     "start_time": "2025-08-19T18:51:36.771751",
     "status": "completed"
    },
    "tags": []
   },
   "outputs": [
    {
     "data": {
      "text/html": [
       "<style>#sk-container-id-1 {color: black;background-color: white;}#sk-container-id-1 pre{padding: 0;}#sk-container-id-1 div.sk-toggleable {background-color: white;}#sk-container-id-1 label.sk-toggleable__label {cursor: pointer;display: block;width: 100%;margin-bottom: 0;padding: 0.3em;box-sizing: border-box;text-align: center;}#sk-container-id-1 label.sk-toggleable__label-arrow:before {content: \"▸\";float: left;margin-right: 0.25em;color: #696969;}#sk-container-id-1 label.sk-toggleable__label-arrow:hover:before {color: black;}#sk-container-id-1 div.sk-estimator:hover label.sk-toggleable__label-arrow:before {color: black;}#sk-container-id-1 div.sk-toggleable__content {max-height: 0;max-width: 0;overflow: hidden;text-align: left;background-color: #f0f8ff;}#sk-container-id-1 div.sk-toggleable__content pre {margin: 0.2em;color: black;border-radius: 0.25em;background-color: #f0f8ff;}#sk-container-id-1 input.sk-toggleable__control:checked~div.sk-toggleable__content {max-height: 200px;max-width: 100%;overflow: auto;}#sk-container-id-1 input.sk-toggleable__control:checked~label.sk-toggleable__label-arrow:before {content: \"▾\";}#sk-container-id-1 div.sk-estimator input.sk-toggleable__control:checked~label.sk-toggleable__label {background-color: #d4ebff;}#sk-container-id-1 div.sk-label input.sk-toggleable__control:checked~label.sk-toggleable__label {background-color: #d4ebff;}#sk-container-id-1 input.sk-hidden--visually {border: 0;clip: rect(1px 1px 1px 1px);clip: rect(1px, 1px, 1px, 1px);height: 1px;margin: -1px;overflow: hidden;padding: 0;position: absolute;width: 1px;}#sk-container-id-1 div.sk-estimator {font-family: monospace;background-color: #f0f8ff;border: 1px dotted black;border-radius: 0.25em;box-sizing: border-box;margin-bottom: 0.5em;}#sk-container-id-1 div.sk-estimator:hover {background-color: #d4ebff;}#sk-container-id-1 div.sk-parallel-item::after {content: \"\";width: 100%;border-bottom: 1px solid gray;flex-grow: 1;}#sk-container-id-1 div.sk-label:hover label.sk-toggleable__label {background-color: #d4ebff;}#sk-container-id-1 div.sk-serial::before {content: \"\";position: absolute;border-left: 1px solid gray;box-sizing: border-box;top: 0;bottom: 0;left: 50%;z-index: 0;}#sk-container-id-1 div.sk-serial {display: flex;flex-direction: column;align-items: center;background-color: white;padding-right: 0.2em;padding-left: 0.2em;position: relative;}#sk-container-id-1 div.sk-item {position: relative;z-index: 1;}#sk-container-id-1 div.sk-parallel {display: flex;align-items: stretch;justify-content: center;background-color: white;position: relative;}#sk-container-id-1 div.sk-item::before, #sk-container-id-1 div.sk-parallel-item::before {content: \"\";position: absolute;border-left: 1px solid gray;box-sizing: border-box;top: 0;bottom: 0;left: 50%;z-index: -1;}#sk-container-id-1 div.sk-parallel-item {display: flex;flex-direction: column;z-index: 1;position: relative;background-color: white;}#sk-container-id-1 div.sk-parallel-item:first-child::after {align-self: flex-end;width: 50%;}#sk-container-id-1 div.sk-parallel-item:last-child::after {align-self: flex-start;width: 50%;}#sk-container-id-1 div.sk-parallel-item:only-child::after {width: 0;}#sk-container-id-1 div.sk-dashed-wrapped {border: 1px dashed gray;margin: 0 0.4em 0.5em 0.4em;box-sizing: border-box;padding-bottom: 0.4em;background-color: white;}#sk-container-id-1 div.sk-label label {font-family: monospace;font-weight: bold;display: inline-block;line-height: 1.2em;}#sk-container-id-1 div.sk-label-container {text-align: center;}#sk-container-id-1 div.sk-container {/* jupyter's `normalize.less` sets `[hidden] { display: none; }` but bootstrap.min.css set `[hidden] { display: none !important; }` so we also need the `!important` here to be able to override the default hidden behavior on the sphinx rendered scikit-learn.org. See: https://github.com/scikit-learn/scikit-learn/issues/21755 */display: inline-block !important;position: relative;}#sk-container-id-1 div.sk-text-repr-fallback {display: none;}</style><div id=\"sk-container-id-1\" class=\"sk-top-container\"><div class=\"sk-text-repr-fallback\"><pre>Pipeline(steps=[(&#x27;scale&#x27;, StandardScaler()),\n",
       "                (&#x27;model&#x27;, GradientBoostingClassifier())])</pre><b>In a Jupyter environment, please rerun this cell to show the HTML representation or trust the notebook. <br />On GitHub, the HTML representation is unable to render, please try loading this page with nbviewer.org.</b></div><div class=\"sk-container\" hidden><div class=\"sk-item sk-dashed-wrapped\"><div class=\"sk-label-container\"><div class=\"sk-label sk-toggleable\"><input class=\"sk-toggleable__control sk-hidden--visually\" id=\"sk-estimator-id-1\" type=\"checkbox\" ><label for=\"sk-estimator-id-1\" class=\"sk-toggleable__label sk-toggleable__label-arrow\">Pipeline</label><div class=\"sk-toggleable__content\"><pre>Pipeline(steps=[(&#x27;scale&#x27;, StandardScaler()),\n",
       "                (&#x27;model&#x27;, GradientBoostingClassifier())])</pre></div></div></div><div class=\"sk-serial\"><div class=\"sk-item\"><div class=\"sk-estimator sk-toggleable\"><input class=\"sk-toggleable__control sk-hidden--visually\" id=\"sk-estimator-id-2\" type=\"checkbox\" ><label for=\"sk-estimator-id-2\" class=\"sk-toggleable__label sk-toggleable__label-arrow\">StandardScaler</label><div class=\"sk-toggleable__content\"><pre>StandardScaler()</pre></div></div></div><div class=\"sk-item\"><div class=\"sk-estimator sk-toggleable\"><input class=\"sk-toggleable__control sk-hidden--visually\" id=\"sk-estimator-id-3\" type=\"checkbox\" ><label for=\"sk-estimator-id-3\" class=\"sk-toggleable__label sk-toggleable__label-arrow\">GradientBoostingClassifier</label><div class=\"sk-toggleable__content\"><pre>GradientBoostingClassifier()</pre></div></div></div></div></div></div></div>"
      ],
      "text/plain": [
       "Pipeline(steps=[('scale', StandardScaler()),\n",
       "                ('model', GradientBoostingClassifier())])"
      ]
     },
     "execution_count": 34,
     "metadata": {},
     "output_type": "execute_result"
    }
   ],
   "source": [
    "model.fit(X_train, y_train.values.ravel())"
   ]
  },
  {
   "cell_type": "code",
   "execution_count": 35,
   "id": "6e15e313",
   "metadata": {
    "execution": {
     "iopub.execute_input": "2025-08-19T18:51:37.651621Z",
     "iopub.status.busy": "2025-08-19T18:51:37.649499Z",
     "iopub.status.idle": "2025-08-19T18:51:38.316273Z",
     "shell.execute_reply": "2025-08-19T18:51:38.315295Z"
    },
    "papermill": {
     "duration": 0.682198,
     "end_time": "2025-08-19T18:51:38.317670",
     "exception": false,
     "start_time": "2025-08-19T18:51:37.635472",
     "status": "completed"
    },
    "tags": []
   },
   "outputs": [
    {
     "data": {
      "text/plain": [
       "0.8485007245569056"
      ]
     },
     "execution_count": 35,
     "metadata": {},
     "output_type": "execute_result"
    }
   ],
   "source": [
    "from fairness_multiverse.universe import predict_w_threshold\n",
    "\n",
    "probs_test = model.predict_proba(X_test)\n",
    "\n",
    "'''\n",
    "Below code returns a boolean array (or binary 0/1 array depending on how it’s used) where each element \n",
    "is True if the probability of class 1 is greater than or equal to the threshold, and False otherwise.\n",
    "'''\n",
    "y_pred_default = predict_w_threshold(probs_test, 0.5)\n",
    "\n",
    "from sklearn.metrics import accuracy_score\n",
    "\n",
    "# Naive prediction\n",
    "accuracy_score(y_true = y_true, y_pred = y_pred_default)"
   ]
  },
  {
   "cell_type": "code",
   "execution_count": 36,
   "id": "6f14067c",
   "metadata": {
    "execution": {
     "iopub.execute_input": "2025-08-19T18:51:38.347286Z",
     "iopub.status.busy": "2025-08-19T18:51:38.346000Z",
     "iopub.status.idle": "2025-08-19T18:51:39.007140Z",
     "shell.execute_reply": "2025-08-19T18:51:39.005937Z"
    },
    "papermill": {
     "duration": 0.678464,
     "end_time": "2025-08-19T18:51:39.008548",
     "exception": false,
     "start_time": "2025-08-19T18:51:38.330084",
     "status": "completed"
    },
    "tags": []
   },
   "outputs": [
    {
     "data": {
      "text/plain": [
       "array([0, 0, 0, ..., 0, 0, 0])"
      ]
     },
     "execution_count": 36,
     "metadata": {},
     "output_type": "execute_result"
    }
   ],
   "source": [
    "model.predict(X_test)"
   ]
  },
  {
   "cell_type": "markdown",
   "id": "3759920c",
   "metadata": {
    "papermill": {
     "duration": 0.013763,
     "end_time": "2025-08-19T18:51:39.049252",
     "exception": false,
     "start_time": "2025-08-19T18:51:39.035489",
     "status": "completed"
    },
    "tags": []
   },
   "source": [
    "# Conformal Prediction"
   ]
  },
  {
   "cell_type": "code",
   "execution_count": 37,
   "id": "14b27f59",
   "metadata": {
    "execution": {
     "iopub.execute_input": "2025-08-19T18:51:39.077145Z",
     "iopub.status.busy": "2025-08-19T18:51:39.075672Z",
     "iopub.status.idle": "2025-08-19T18:51:39.088021Z",
     "shell.execute_reply": "2025-08-19T18:51:39.086340Z"
    },
    "papermill": {
     "duration": 0.028572,
     "end_time": "2025-08-19T18:51:39.089722",
     "exception": false,
     "start_time": "2025-08-19T18:51:39.061150",
     "status": "completed"
    },
    "tags": []
   },
   "outputs": [],
   "source": [
    "# Miscoverage level for conformal prediction (10% allowed error rate => 90% target coverage)\n",
    "alpha = 0.1"
   ]
  },
  {
   "cell_type": "code",
   "execution_count": 38,
   "id": "59102472",
   "metadata": {
    "execution": {
     "iopub.execute_input": "2025-08-19T18:51:39.121871Z",
     "iopub.status.busy": "2025-08-19T18:51:39.120928Z",
     "iopub.status.idle": "2025-08-19T18:51:39.720181Z",
     "shell.execute_reply": "2025-08-19T18:51:39.718860Z"
    },
    "papermill": {
     "duration": 0.61557,
     "end_time": "2025-08-19T18:51:39.722296",
     "exception": false,
     "start_time": "2025-08-19T18:51:39.106726",
     "status": "completed"
    },
    "tags": []
   },
   "outputs": [],
   "source": [
    "probs_calib = model.predict_proba(X_calib)"
   ]
  },
  {
   "cell_type": "code",
   "execution_count": 39,
   "id": "a792d4dd",
   "metadata": {
    "execution": {
     "iopub.execute_input": "2025-08-19T18:51:39.762790Z",
     "iopub.status.busy": "2025-08-19T18:51:39.761630Z",
     "iopub.status.idle": "2025-08-19T18:51:39.771311Z",
     "shell.execute_reply": "2025-08-19T18:51:39.769716Z"
    },
    "papermill": {
     "duration": 0.026385,
     "end_time": "2025-08-19T18:51:39.773244",
     "exception": false,
     "start_time": "2025-08-19T18:51:39.746859",
     "status": "completed"
    },
    "tags": []
   },
   "outputs": [],
   "source": [
    "y_calib = y_calib.values.ravel().astype(int)"
   ]
  },
  {
   "cell_type": "code",
   "execution_count": 40,
   "id": "650fd033",
   "metadata": {
    "execution": {
     "iopub.execute_input": "2025-08-19T18:51:39.802682Z",
     "iopub.status.busy": "2025-08-19T18:51:39.801575Z",
     "iopub.status.idle": "2025-08-19T18:51:39.815066Z",
     "shell.execute_reply": "2025-08-19T18:51:39.813784Z"
    },
    "papermill": {
     "duration": 0.02964,
     "end_time": "2025-08-19T18:51:39.817189",
     "exception": false,
     "start_time": "2025-08-19T18:51:39.787549",
     "status": "completed"
    },
    "tags": []
   },
   "outputs": [],
   "source": [
    "from fairness_multiverse.conformal import compute_nc_scores\n",
    "\n",
    "# Compute nonconformity scores on calibration set (1 - probability of true class)\n",
    "nc_scores = compute_nc_scores(probs_calib, y_calib)"
   ]
  },
  {
   "cell_type": "code",
   "execution_count": 41,
   "id": "28ada44c",
   "metadata": {
    "execution": {
     "iopub.execute_input": "2025-08-19T18:51:39.849690Z",
     "iopub.status.busy": "2025-08-19T18:51:39.848662Z",
     "iopub.status.idle": "2025-08-19T18:51:39.863633Z",
     "shell.execute_reply": "2025-08-19T18:51:39.862716Z"
    },
    "papermill": {
     "duration": 0.030961,
     "end_time": "2025-08-19T18:51:39.865704",
     "exception": false,
     "start_time": "2025-08-19T18:51:39.834743",
     "status": "completed"
    },
    "tags": []
   },
   "outputs": [],
   "source": [
    "from fairness_multiverse.conformal import find_threshold\n",
    "\n",
    "# Find conformal threshold q_hat for the given alpha (split conformal method)\n",
    "q_hat = find_threshold(nc_scores, alpha)"
   ]
  },
  {
   "cell_type": "code",
   "execution_count": 42,
   "id": "df56469e",
   "metadata": {
    "execution": {
     "iopub.execute_input": "2025-08-19T18:51:39.895766Z",
     "iopub.status.busy": "2025-08-19T18:51:39.895211Z",
     "iopub.status.idle": "2025-08-19T18:51:39.903676Z",
     "shell.execute_reply": "2025-08-19T18:51:39.902561Z"
    },
    "papermill": {
     "duration": 0.023768,
     "end_time": "2025-08-19T18:51:39.905224",
     "exception": false,
     "start_time": "2025-08-19T18:51:39.881456",
     "status": "completed"
    },
    "tags": []
   },
   "outputs": [
    {
     "data": {
      "text/plain": [
       "0.7585012094516693"
      ]
     },
     "execution_count": 42,
     "metadata": {},
     "output_type": "execute_result"
    }
   ],
   "source": [
    "q_hat"
   ]
  },
  {
   "cell_type": "code",
   "execution_count": 43,
   "id": "aa1f5faa",
   "metadata": {
    "execution": {
     "iopub.execute_input": "2025-08-19T18:51:39.933070Z",
     "iopub.status.busy": "2025-08-19T18:51:39.932190Z",
     "iopub.status.idle": "2025-08-19T18:51:41.042680Z",
     "shell.execute_reply": "2025-08-19T18:51:41.040761Z"
    },
    "papermill": {
     "duration": 1.128443,
     "end_time": "2025-08-19T18:51:41.046994",
     "exception": false,
     "start_time": "2025-08-19T18:51:39.918551",
     "status": "completed"
    },
    "tags": []
   },
   "outputs": [],
   "source": [
    "from fairness_multiverse.conformal import predict_conformal_sets\n",
    "\n",
    "# Generate prediction sets for each test example\n",
    "pred_sets = predict_conformal_sets(model, X_test, q_hat)"
   ]
  },
  {
   "cell_type": "code",
   "execution_count": 44,
   "id": "97f67a6b",
   "metadata": {
    "execution": {
     "iopub.execute_input": "2025-08-19T18:51:41.087505Z",
     "iopub.status.busy": "2025-08-19T18:51:41.086218Z",
     "iopub.status.idle": "2025-08-19T18:51:41.097889Z",
     "shell.execute_reply": "2025-08-19T18:51:41.096382Z"
    },
    "papermill": {
     "duration": 0.029028,
     "end_time": "2025-08-19T18:51:41.100162",
     "exception": false,
     "start_time": "2025-08-19T18:51:41.071134",
     "status": "completed"
    },
    "tags": []
   },
   "outputs": [],
   "source": [
    "y_true = y_true.squeeze()"
   ]
  },
  {
   "cell_type": "code",
   "execution_count": 45,
   "id": "e700e9a7",
   "metadata": {
    "execution": {
     "iopub.execute_input": "2025-08-19T18:51:41.134709Z",
     "iopub.status.busy": "2025-08-19T18:51:41.133675Z",
     "iopub.status.idle": "2025-08-19T18:51:41.630275Z",
     "shell.execute_reply": "2025-08-19T18:51:41.628859Z"
    },
    "papermill": {
     "duration": 0.515184,
     "end_time": "2025-08-19T18:51:41.632268",
     "exception": false,
     "start_time": "2025-08-19T18:51:41.117084",
     "status": "completed"
    },
    "tags": []
   },
   "outputs": [],
   "source": [
    "from fairness_multiverse.conformal import evaluate_sets\n",
    "\n",
    "# Evaluate coverage and average set size on test data\n",
    "metrics = evaluate_sets(pred_sets, y_true)"
   ]
  },
  {
   "cell_type": "markdown",
   "id": "efbacec0",
   "metadata": {
    "papermill": {
     "duration": 0.014204,
     "end_time": "2025-08-19T18:51:41.674959",
     "exception": false,
     "start_time": "2025-08-19T18:51:41.660755",
     "status": "completed"
    },
    "tags": []
   },
   "source": [
    "# CP Metrics"
   ]
  },
  {
   "cell_type": "code",
   "execution_count": 46,
   "id": "9de55fb1",
   "metadata": {
    "execution": {
     "iopub.execute_input": "2025-08-19T18:51:41.724673Z",
     "iopub.status.busy": "2025-08-19T18:51:41.724006Z",
     "iopub.status.idle": "2025-08-19T18:51:41.733473Z",
     "shell.execute_reply": "2025-08-19T18:51:41.732534Z"
    },
    "papermill": {
     "duration": 0.048767,
     "end_time": "2025-08-19T18:51:41.735354",
     "exception": false,
     "start_time": "2025-08-19T18:51:41.686587",
     "status": "completed"
    },
    "tags": []
   },
   "outputs": [
    {
     "data": {
      "text/plain": [
       "{'coverage': 0.9090067996878832, 'avg_size': 1.1580760227399398}"
      ]
     },
     "execution_count": 46,
     "metadata": {},
     "output_type": "execute_result"
    }
   ],
   "source": [
    "metrics"
   ]
  },
  {
   "cell_type": "code",
   "execution_count": 47,
   "id": "64c340a1",
   "metadata": {
    "execution": {
     "iopub.execute_input": "2025-08-19T18:51:41.784318Z",
     "iopub.status.busy": "2025-08-19T18:51:41.783149Z",
     "iopub.status.idle": "2025-08-19T18:51:41.793040Z",
     "shell.execute_reply": "2025-08-19T18:51:41.791816Z"
    },
    "papermill": {
     "duration": 0.026839,
     "end_time": "2025-08-19T18:51:41.794673",
     "exception": false,
     "start_time": "2025-08-19T18:51:41.767834",
     "status": "completed"
    },
    "tags": []
   },
   "outputs": [],
   "source": [
    "example_universe = universe.copy()\n",
    "universe_training_year = example_universe.get(\"training_year\")\n",
    "universe_training_size = example_universe.get(\"training_size\")\n",
    "universe_scale = example_universe.get(\"scale\")\n",
    "universe_model = example_universe.get(\"model\")\n",
    "universe_exclude_features = example_universe.get(\"exclude_features\")\n",
    "universe_exclude_subgroups = example_universe.get(\"exclude_subgroups\")"
   ]
  },
  {
   "cell_type": "code",
   "execution_count": 48,
   "id": "dbb53cb4",
   "metadata": {
    "execution": {
     "iopub.execute_input": "2025-08-19T18:51:41.826129Z",
     "iopub.status.busy": "2025-08-19T18:51:41.824946Z",
     "iopub.status.idle": "2025-08-19T18:51:41.834801Z",
     "shell.execute_reply": "2025-08-19T18:51:41.833452Z"
    },
    "papermill": {
     "duration": 0.025078,
     "end_time": "2025-08-19T18:51:41.836525",
     "exception": false,
     "start_time": "2025-08-19T18:51:41.811447",
     "status": "completed"
    },
    "tags": []
   },
   "outputs": [],
   "source": [
    "cp_metrics_dict = {\n",
    "    \"universe_id\": [universe_id],\n",
    "    \"universe_training_year\": [universe_training_year],\n",
    "    \"universe_training_size\": [universe_training_size],\n",
    "    \"universe_scale\": [universe_scale],\n",
    "    \"universe_model\": [universe_model],\n",
    "    \"universe_exclude_features\": [universe_exclude_features],\n",
    "    \"universe_exclude_subgroups\": [universe_exclude_subgroups],\n",
    "    \"q_hat\": [q_hat],\n",
    "    \"coverage\": [metrics[\"coverage\"]],\n",
    "    \"avg_size\": [metrics[\"avg_size\"]],\n",
    "}"
   ]
  },
  {
   "cell_type": "code",
   "execution_count": 49,
   "id": "0d70d4b2",
   "metadata": {
    "execution": {
     "iopub.execute_input": "2025-08-19T18:51:41.899816Z",
     "iopub.status.busy": "2025-08-19T18:51:41.897668Z",
     "iopub.status.idle": "2025-08-19T18:51:41.907878Z",
     "shell.execute_reply": "2025-08-19T18:51:41.907172Z"
    },
    "papermill": {
     "duration": 0.034929,
     "end_time": "2025-08-19T18:51:41.909808",
     "exception": false,
     "start_time": "2025-08-19T18:51:41.874879",
     "status": "completed"
    },
    "tags": []
   },
   "outputs": [],
   "source": [
    "cp_metrics_df = pd.DataFrame(cp_metrics_dict)"
   ]
  },
  {
   "cell_type": "code",
   "execution_count": 50,
   "id": "b494403c",
   "metadata": {
    "execution": {
     "iopub.execute_input": "2025-08-19T18:51:41.956574Z",
     "iopub.status.busy": "2025-08-19T18:51:41.955513Z",
     "iopub.status.idle": "2025-08-19T18:51:41.976513Z",
     "shell.execute_reply": "2025-08-19T18:51:41.975835Z"
    },
    "papermill": {
     "duration": 0.037161,
     "end_time": "2025-08-19T18:51:41.978210",
     "exception": false,
     "start_time": "2025-08-19T18:51:41.941049",
     "status": "completed"
    },
    "tags": []
   },
   "outputs": [
    {
     "data": {
      "text/html": [
       "<div>\n",
       "<style scoped>\n",
       "    .dataframe tbody tr th:only-of-type {\n",
       "        vertical-align: middle;\n",
       "    }\n",
       "\n",
       "    .dataframe tbody tr th {\n",
       "        vertical-align: top;\n",
       "    }\n",
       "\n",
       "    .dataframe thead th {\n",
       "        text-align: right;\n",
       "    }\n",
       "</style>\n",
       "<table border=\"1\" class=\"dataframe\">\n",
       "  <thead>\n",
       "    <tr style=\"text-align: right;\">\n",
       "      <th></th>\n",
       "      <th>universe_id</th>\n",
       "      <th>universe_training_year</th>\n",
       "      <th>universe_training_size</th>\n",
       "      <th>universe_scale</th>\n",
       "      <th>universe_model</th>\n",
       "      <th>universe_exclude_features</th>\n",
       "      <th>universe_exclude_subgroups</th>\n",
       "      <th>q_hat</th>\n",
       "      <th>coverage</th>\n",
       "      <th>avg_size</th>\n",
       "    </tr>\n",
       "  </thead>\n",
       "  <tbody>\n",
       "    <tr>\n",
       "      <th>0</th>\n",
       "      <td>e6f795cfee59ad336a3b0d7a3e6fcde4</td>\n",
       "      <td>2014</td>\n",
       "      <td>1k</td>\n",
       "      <td>scale</td>\n",
       "      <td>gbm</td>\n",
       "      <td>sex</td>\n",
       "      <td>drop-non-german</td>\n",
       "      <td>0.758501</td>\n",
       "      <td>0.909007</td>\n",
       "      <td>1.158076</td>\n",
       "    </tr>\n",
       "  </tbody>\n",
       "</table>\n",
       "</div>"
      ],
      "text/plain": [
       "                        universe_id universe_training_year  \\\n",
       "0  e6f795cfee59ad336a3b0d7a3e6fcde4                   2014   \n",
       "\n",
       "  universe_training_size universe_scale universe_model  \\\n",
       "0                     1k          scale            gbm   \n",
       "\n",
       "  universe_exclude_features universe_exclude_subgroups     q_hat  coverage  \\\n",
       "0                       sex            drop-non-german  0.758501  0.909007   \n",
       "\n",
       "   avg_size  \n",
       "0  1.158076  "
      ]
     },
     "execution_count": 50,
     "metadata": {},
     "output_type": "execute_result"
    }
   ],
   "source": [
    "cp_metrics_df"
   ]
  },
  {
   "cell_type": "markdown",
   "id": "ed608b0b",
   "metadata": {
    "papermill": {
     "duration": 0.013144,
     "end_time": "2025-08-19T18:51:42.010800",
     "exception": false,
     "start_time": "2025-08-19T18:51:41.997656",
     "status": "completed"
    },
    "tags": []
   },
   "source": [
    "Conditional coverage & looking at subgroups"
   ]
  },
  {
   "cell_type": "code",
   "execution_count": 51,
   "id": "8968c366",
   "metadata": {
    "execution": {
     "iopub.execute_input": "2025-08-19T18:51:42.060524Z",
     "iopub.status.busy": "2025-08-19T18:51:42.060102Z",
     "iopub.status.idle": "2025-08-19T18:51:42.318092Z",
     "shell.execute_reply": "2025-08-19T18:51:42.317255Z"
    },
    "papermill": {
     "duration": 0.278973,
     "end_time": "2025-08-19T18:51:42.319972",
     "exception": false,
     "start_time": "2025-08-19T18:51:42.040999",
     "status": "completed"
    },
    "tags": []
   },
   "outputs": [],
   "source": [
    "from fairness_multiverse.conformal import build_cp_groups\n",
    "\n",
    "cp_groups_df = build_cp_groups(pred_sets, y_true, X_test.index, org_test)"
   ]
  },
  {
   "cell_type": "code",
   "execution_count": 52,
   "id": "292ddabf",
   "metadata": {
    "execution": {
     "iopub.execute_input": "2025-08-19T18:51:42.364082Z",
     "iopub.status.busy": "2025-08-19T18:51:42.363690Z",
     "iopub.status.idle": "2025-08-19T18:51:43.231479Z",
     "shell.execute_reply": "2025-08-19T18:51:43.230235Z"
    },
    "papermill": {
     "duration": 0.89429,
     "end_time": "2025-08-19T18:51:43.233533",
     "exception": false,
     "start_time": "2025-08-19T18:51:42.339243",
     "status": "completed"
    },
    "tags": []
   },
   "outputs": [],
   "source": [
    "# Define covered = 1 if true_label is in the predicted set\n",
    "cp_groups_df['covered'] = cp_groups_df.apply(\n",
    "    lambda r: int(r['true_label'] in r['pred_set']),\n",
    "    axis=1\n",
    ")"
   ]
  },
  {
   "cell_type": "code",
   "execution_count": 53,
   "id": "3a261692",
   "metadata": {
    "execution": {
     "iopub.execute_input": "2025-08-19T18:51:43.282693Z",
     "iopub.status.busy": "2025-08-19T18:51:43.281725Z",
     "iopub.status.idle": "2025-08-19T18:51:43.301818Z",
     "shell.execute_reply": "2025-08-19T18:51:43.300904Z"
    },
    "papermill": {
     "duration": 0.043351,
     "end_time": "2025-08-19T18:51:43.303885",
     "exception": false,
     "start_time": "2025-08-19T18:51:43.260534",
     "status": "completed"
    },
    "tags": []
   },
   "outputs": [],
   "source": [
    "subgroups = ['frau1','nongerman','nongerman_male','nongerman_female']\n",
    "\n",
    "# Conditional coverage for subgroup==1\n",
    "cond_coverage = {\n",
    "    g: cp_groups_df.loc[cp_groups_df[g]==1, 'covered'].mean()\n",
    "    for g in subgroups\n",
    "}"
   ]
  },
  {
   "cell_type": "code",
   "execution_count": 54,
   "id": "894fd600",
   "metadata": {
    "execution": {
     "iopub.execute_input": "2025-08-19T18:51:43.332611Z",
     "iopub.status.busy": "2025-08-19T18:51:43.331454Z",
     "iopub.status.idle": "2025-08-19T18:51:43.349475Z",
     "shell.execute_reply": "2025-08-19T18:51:43.342563Z"
    },
    "papermill": {
     "duration": 0.040224,
     "end_time": "2025-08-19T18:51:43.357583",
     "exception": false,
     "start_time": "2025-08-19T18:51:43.317359",
     "status": "completed"
    },
    "tags": []
   },
   "outputs": [
    {
     "data": {
      "text/plain": [
       "{'frau1': 0.9078042862919531,\n",
       " 'nongerman': 0.9076517150395779,\n",
       " 'nongerman_male': 0.9230838512113844,\n",
       " 'nongerman_female': 0.8821162444113264}"
      ]
     },
     "execution_count": 54,
     "metadata": {},
     "output_type": "execute_result"
    }
   ],
   "source": [
    "cond_coverage"
   ]
  },
  {
   "cell_type": "code",
   "execution_count": 55,
   "id": "942895c7",
   "metadata": {
    "execution": {
     "iopub.execute_input": "2025-08-19T18:51:43.394400Z",
     "iopub.status.busy": "2025-08-19T18:51:43.393966Z",
     "iopub.status.idle": "2025-08-19T18:51:43.402593Z",
     "shell.execute_reply": "2025-08-19T18:51:43.401606Z"
    },
    "papermill": {
     "duration": 0.031669,
     "end_time": "2025-08-19T18:51:43.405304",
     "exception": false,
     "start_time": "2025-08-19T18:51:43.373635",
     "status": "completed"
    },
    "tags": []
   },
   "outputs": [],
   "source": [
    "for subgroup, cov in cond_coverage.items():\n",
    "    cp_metrics_df[f\"cov_{subgroup}\"] = cov"
   ]
  },
  {
   "cell_type": "code",
   "execution_count": 56,
   "id": "3970120f",
   "metadata": {
    "execution": {
     "iopub.execute_input": "2025-08-19T18:51:43.438958Z",
     "iopub.status.busy": "2025-08-19T18:51:43.438507Z",
     "iopub.status.idle": "2025-08-19T18:51:43.457262Z",
     "shell.execute_reply": "2025-08-19T18:51:43.456337Z"
    },
    "papermill": {
     "duration": 0.034621,
     "end_time": "2025-08-19T18:51:43.459189",
     "exception": false,
     "start_time": "2025-08-19T18:51:43.424568",
     "status": "completed"
    },
    "tags": []
   },
   "outputs": [
    {
     "data": {
      "text/html": [
       "<div>\n",
       "<style scoped>\n",
       "    .dataframe tbody tr th:only-of-type {\n",
       "        vertical-align: middle;\n",
       "    }\n",
       "\n",
       "    .dataframe tbody tr th {\n",
       "        vertical-align: top;\n",
       "    }\n",
       "\n",
       "    .dataframe thead th {\n",
       "        text-align: right;\n",
       "    }\n",
       "</style>\n",
       "<table border=\"1\" class=\"dataframe\">\n",
       "  <thead>\n",
       "    <tr style=\"text-align: right;\">\n",
       "      <th></th>\n",
       "      <th>universe_id</th>\n",
       "      <th>universe_training_year</th>\n",
       "      <th>universe_training_size</th>\n",
       "      <th>universe_scale</th>\n",
       "      <th>universe_model</th>\n",
       "      <th>universe_exclude_features</th>\n",
       "      <th>universe_exclude_subgroups</th>\n",
       "      <th>q_hat</th>\n",
       "      <th>coverage</th>\n",
       "      <th>avg_size</th>\n",
       "      <th>cov_frau1</th>\n",
       "      <th>cov_nongerman</th>\n",
       "      <th>cov_nongerman_male</th>\n",
       "      <th>cov_nongerman_female</th>\n",
       "    </tr>\n",
       "  </thead>\n",
       "  <tbody>\n",
       "    <tr>\n",
       "      <th>0</th>\n",
       "      <td>e6f795cfee59ad336a3b0d7a3e6fcde4</td>\n",
       "      <td>2014</td>\n",
       "      <td>1k</td>\n",
       "      <td>scale</td>\n",
       "      <td>gbm</td>\n",
       "      <td>sex</td>\n",
       "      <td>drop-non-german</td>\n",
       "      <td>0.758501</td>\n",
       "      <td>0.909007</td>\n",
       "      <td>1.158076</td>\n",
       "      <td>0.907804</td>\n",
       "      <td>0.907652</td>\n",
       "      <td>0.923084</td>\n",
       "      <td>0.882116</td>\n",
       "    </tr>\n",
       "  </tbody>\n",
       "</table>\n",
       "</div>"
      ],
      "text/plain": [
       "                        universe_id universe_training_year  \\\n",
       "0  e6f795cfee59ad336a3b0d7a3e6fcde4                   2014   \n",
       "\n",
       "  universe_training_size universe_scale universe_model  \\\n",
       "0                     1k          scale            gbm   \n",
       "\n",
       "  universe_exclude_features universe_exclude_subgroups     q_hat  coverage  \\\n",
       "0                       sex            drop-non-german  0.758501  0.909007   \n",
       "\n",
       "   avg_size  cov_frau1  cov_nongerman  cov_nongerman_male  \\\n",
       "0  1.158076   0.907804       0.907652            0.923084   \n",
       "\n",
       "   cov_nongerman_female  \n",
       "0              0.882116  "
      ]
     },
     "execution_count": 56,
     "metadata": {},
     "output_type": "execute_result"
    }
   ],
   "source": [
    "cp_metrics_df"
   ]
  },
  {
   "cell_type": "markdown",
   "id": "3fc519cc",
   "metadata": {
    "papermill": {
     "duration": 0.012312,
     "end_time": "2025-08-19T18:51:43.487896",
     "exception": false,
     "start_time": "2025-08-19T18:51:43.475584",
     "status": "completed"
    },
    "tags": []
   },
   "source": [
    "# (Fairness) Metrics"
   ]
  },
  {
   "cell_type": "code",
   "execution_count": 57,
   "id": "a2e5e155",
   "metadata": {
    "execution": {
     "iopub.execute_input": "2025-08-19T18:51:43.516425Z",
     "iopub.status.busy": "2025-08-19T18:51:43.515394Z",
     "iopub.status.idle": "2025-08-19T18:51:43.547552Z",
     "shell.execute_reply": "2025-08-19T18:51:43.546448Z"
    },
    "papermill": {
     "duration": 0.049585,
     "end_time": "2025-08-19T18:51:43.550157",
     "exception": false,
     "start_time": "2025-08-19T18:51:43.500572",
     "status": "completed"
    },
    "tags": []
   },
   "outputs": [],
   "source": [
    "colname_to_bin = \"maxdeutsch1\"\n",
    "majority_value = org_train[colname_to_bin].mode()[0]\n",
    "\n",
    "org_test[\"majmin\"] = np.where(org_test[colname_to_bin] == majority_value, \"majority\", \"minority\")"
   ]
  },
  {
   "cell_type": "code",
   "execution_count": 58,
   "id": "17e3e4d5",
   "metadata": {
    "execution": {
     "iopub.execute_input": "2025-08-19T18:51:43.608598Z",
     "iopub.status.busy": "2025-08-19T18:51:43.607425Z",
     "iopub.status.idle": "2025-08-19T18:51:45.386282Z",
     "shell.execute_reply": "2025-08-19T18:51:45.385075Z"
    },
    "papermill": {
     "duration": 1.79512,
     "end_time": "2025-08-19T18:51:45.388069",
     "exception": false,
     "start_time": "2025-08-19T18:51:43.592949",
     "status": "completed"
    },
    "tags": []
   },
   "outputs": [],
   "source": [
    "example_universe = universe.copy()\n",
    "example_universe[\"cutoff\"] = example_universe[\"cutoff\"][0]\n",
    "example_universe[\"eval_fairness_grouping\"] = example_universe[\"eval_fairness_grouping\"][0]\n",
    "fairness_dict, metric_frame = universe_analysis.compute_metrics(\n",
    "    example_universe,\n",
    "    y_pred_prob=probs_test,\n",
    "    y_test=y_true,\n",
    "    org_test=org_test,\n",
    ")"
   ]
  },
  {
   "cell_type": "markdown",
   "id": "1fb7a0e9",
   "metadata": {
    "papermill": {
     "duration": 0.012401,
     "end_time": "2025-08-19T18:51:45.413364",
     "exception": false,
     "start_time": "2025-08-19T18:51:45.400963",
     "status": "completed"
    },
    "tags": []
   },
   "source": [
    "# Overall"
   ]
  },
  {
   "cell_type": "markdown",
   "id": "be1784b1",
   "metadata": {
    "papermill": {
     "duration": 0.012483,
     "end_time": "2025-08-19T18:51:45.438303",
     "exception": false,
     "start_time": "2025-08-19T18:51:45.425820",
     "status": "completed"
    },
    "tags": []
   },
   "source": [
    "Main fairness target: Equalized Odds. Seems to be a better fit than equal opportunity, since we're not only interested in Y = 1. Seems to be a better fit than demographic parity, since we also care about accuracy, not just equal distribution of preds.\n",
    "\n",
    "Pick column for computation of fairness metrics\n",
    "\n",
    "Performance\n",
    "Overall performance measures, most interesting in relation to the measures split by group below"
   ]
  },
  {
   "cell_type": "code",
   "execution_count": 59,
   "id": "b7672bee",
   "metadata": {
    "execution": {
     "iopub.execute_input": "2025-08-19T18:51:45.465632Z",
     "iopub.status.busy": "2025-08-19T18:51:45.465147Z",
     "iopub.status.idle": "2025-08-19T18:51:45.473723Z",
     "shell.execute_reply": "2025-08-19T18:51:45.472935Z"
    },
    "papermill": {
     "duration": 0.024391,
     "end_time": "2025-08-19T18:51:45.475347",
     "exception": false,
     "start_time": "2025-08-19T18:51:45.450956",
     "status": "completed"
    },
    "tags": []
   },
   "outputs": [
    {
     "data": {
      "text/plain": [
       "accuracy                   0.221101\n",
       "balanced accuracy          0.541309\n",
       "f1                         0.242523\n",
       "precision                  0.138545\n",
       "false positive rate        0.889402\n",
       "false negative rate        0.027981\n",
       "selection rate             0.900000\n",
       "count                  89710.000000\n",
       "dtype: float64"
      ]
     },
     "execution_count": 59,
     "metadata": {},
     "output_type": "execute_result"
    }
   ],
   "source": [
    "metric_frame.overall"
   ]
  },
  {
   "cell_type": "markdown",
   "id": "d93333c9",
   "metadata": {
    "papermill": {
     "duration": 0.012693,
     "end_time": "2025-08-19T18:51:45.501043",
     "exception": false,
     "start_time": "2025-08-19T18:51:45.488350",
     "status": "completed"
    },
    "tags": []
   },
   "source": [
    "By Group"
   ]
  },
  {
   "cell_type": "code",
   "execution_count": 60,
   "id": "52256966",
   "metadata": {
    "execution": {
     "iopub.execute_input": "2025-08-19T18:51:45.528018Z",
     "iopub.status.busy": "2025-08-19T18:51:45.527590Z",
     "iopub.status.idle": "2025-08-19T18:51:45.542785Z",
     "shell.execute_reply": "2025-08-19T18:51:45.542000Z"
    },
    "papermill": {
     "duration": 0.030769,
     "end_time": "2025-08-19T18:51:45.544527",
     "exception": false,
     "start_time": "2025-08-19T18:51:45.513758",
     "status": "completed"
    },
    "tags": []
   },
   "outputs": [
    {
     "data": {
      "text/html": [
       "<div>\n",
       "<style scoped>\n",
       "    .dataframe tbody tr th:only-of-type {\n",
       "        vertical-align: middle;\n",
       "    }\n",
       "\n",
       "    .dataframe tbody tr th {\n",
       "        vertical-align: top;\n",
       "    }\n",
       "\n",
       "    .dataframe thead th {\n",
       "        text-align: right;\n",
       "    }\n",
       "</style>\n",
       "<table border=\"1\" class=\"dataframe\">\n",
       "  <thead>\n",
       "    <tr style=\"text-align: right;\">\n",
       "      <th></th>\n",
       "      <th>accuracy</th>\n",
       "      <th>balanced accuracy</th>\n",
       "      <th>f1</th>\n",
       "      <th>precision</th>\n",
       "      <th>false positive rate</th>\n",
       "      <th>false negative rate</th>\n",
       "      <th>selection rate</th>\n",
       "      <th>count</th>\n",
       "    </tr>\n",
       "    <tr>\n",
       "      <th>majmin</th>\n",
       "      <th></th>\n",
       "      <th></th>\n",
       "      <th></th>\n",
       "      <th></th>\n",
       "      <th></th>\n",
       "      <th></th>\n",
       "      <th></th>\n",
       "      <th></th>\n",
       "    </tr>\n",
       "  </thead>\n",
       "  <tbody>\n",
       "    <tr>\n",
       "      <th>majority</th>\n",
       "      <td>0.240466</td>\n",
       "      <td>0.549101</td>\n",
       "      <td>0.252068</td>\n",
       "      <td>0.144887</td>\n",
       "      <td>0.870398</td>\n",
       "      <td>0.03140</td>\n",
       "      <td>0.883374</td>\n",
       "      <td>69170.0</td>\n",
       "    </tr>\n",
       "    <tr>\n",
       "      <th>minority</th>\n",
       "      <td>0.155891</td>\n",
       "      <td>0.516520</td>\n",
       "      <td>0.212052</td>\n",
       "      <td>0.118812</td>\n",
       "      <td>0.952179</td>\n",
       "      <td>0.01478</td>\n",
       "      <td>0.955988</td>\n",
       "      <td>20540.0</td>\n",
       "    </tr>\n",
       "  </tbody>\n",
       "</table>\n",
       "</div>"
      ],
      "text/plain": [
       "          accuracy  balanced accuracy        f1  precision  \\\n",
       "majmin                                                       \n",
       "majority  0.240466           0.549101  0.252068   0.144887   \n",
       "minority  0.155891           0.516520  0.212052   0.118812   \n",
       "\n",
       "          false positive rate  false negative rate  selection rate    count  \n",
       "majmin                                                                       \n",
       "majority             0.870398              0.03140        0.883374  69170.0  \n",
       "minority             0.952179              0.01478        0.955988  20540.0  "
      ]
     },
     "execution_count": 60,
     "metadata": {},
     "output_type": "execute_result"
    }
   ],
   "source": [
    "metric_frame.by_group"
   ]
  },
  {
   "cell_type": "code",
   "execution_count": 61,
   "id": "6e6c20ae",
   "metadata": {
    "execution": {
     "iopub.execute_input": "2025-08-19T18:51:45.576104Z",
     "iopub.status.busy": "2025-08-19T18:51:45.575695Z",
     "iopub.status.idle": "2025-08-19T18:51:47.386702Z",
     "shell.execute_reply": "2025-08-19T18:51:47.385246Z"
    },
    "papermill": {
     "duration": 1.828654,
     "end_time": "2025-08-19T18:51:47.390172",
     "exception": false,
     "start_time": "2025-08-19T18:51:45.561518",
     "status": "completed"
    },
    "tags": []
   },
   "outputs": [
    {
     "data": {
      "text/plain": [
       "array([[<Axes: title={'center': 'accuracy'}, xlabel='majmin'>,\n",
       "        <Axes: title={'center': 'balanced accuracy'}, xlabel='majmin'>,\n",
       "        <Axes: title={'center': 'f1'}, xlabel='majmin'>],\n",
       "       [<Axes: title={'center': 'precision'}, xlabel='majmin'>,\n",
       "        <Axes: title={'center': 'false positive rate'}, xlabel='majmin'>,\n",
       "        <Axes: title={'center': 'false negative rate'}, xlabel='majmin'>],\n",
       "       [<Axes: title={'center': 'selection rate'}, xlabel='majmin'>,\n",
       "        <Axes: title={'center': 'count'}, xlabel='majmin'>,\n",
       "        <Axes: xlabel='majmin'>]], dtype=object)"
      ]
     },
     "execution_count": 61,
     "metadata": {},
     "output_type": "execute_result"
    },
    {
     "data": {
      "image/png": "[encoded data removed]",
      "text/plain": [
       "<Figure size 1200x800 with 9 Axes>"
      ]
     },
     "metadata": {},
     "output_type": "display_data"
    }
   ],
   "source": [
    "# In a graphic\n",
    "metric_frame.by_group.plot.bar(\n",
    "    subplots=True,\n",
    "    layout=[3, 3],\n",
    "    legend=False,\n",
    "    figsize=[12, 8],\n",
    "    title=\"Show all metrics\",\n",
    ")"
   ]
  },
  {
   "cell_type": "markdown",
   "id": "b2e433ae",
   "metadata": {
    "papermill": {
     "duration": 0.013985,
     "end_time": "2025-08-19T18:51:47.429331",
     "exception": false,
     "start_time": "2025-08-19T18:51:47.415346",
     "status": "completed"
    },
    "tags": []
   },
   "source": [
    "# Final Output"
   ]
  },
  {
   "cell_type": "code",
   "execution_count": 62,
   "id": "3871301e",
   "metadata": {
    "execution": {
     "iopub.execute_input": "2025-08-19T18:51:47.464209Z",
     "iopub.status.busy": "2025-08-19T18:51:47.462200Z",
     "iopub.status.idle": "2025-08-19T18:51:47.480236Z",
     "shell.execute_reply": "2025-08-19T18:51:47.479038Z"
    },
    "papermill": {
     "duration": 0.038297,
     "end_time": "2025-08-19T18:51:47.481527",
     "exception": false,
     "start_time": "2025-08-19T18:51:47.443230",
     "status": "completed"
    },
    "tags": []
   },
   "outputs": [
    {
     "data": {
      "text/plain": [
       "4"
      ]
     },
     "execution_count": 62,
     "metadata": {},
     "output_type": "execute_result"
    }
   ],
   "source": [
    "sub_universes = universe_analysis.generate_sub_universes()\n",
    "len(sub_universes)"
   ]
  },
  {
   "cell_type": "code",
   "execution_count": 63,
   "id": "d9cfdaca",
   "metadata": {
    "execution": {
     "iopub.execute_input": "2025-08-19T18:51:47.512879Z",
     "iopub.status.busy": "2025-08-19T18:51:47.511663Z",
     "iopub.status.idle": "2025-08-19T18:51:47.530021Z",
     "shell.execute_reply": "2025-08-19T18:51:47.528838Z"
    },
    "papermill": {
     "duration": 0.035903,
     "end_time": "2025-08-19T18:51:47.531611",
     "exception": false,
     "start_time": "2025-08-19T18:51:47.495708",
     "status": "completed"
    },
    "tags": []
   },
   "outputs": [],
   "source": [
    "def filter_sub_universe_data(sub_universe, org_test):\n",
    "    # Keep all rows — no filtering\n",
    "    keep_rows_mask = np.ones(org_test.shape[0], dtype=bool)\n",
    "\n",
    "    print(f\"[INFO] Keeping all rows: {keep_rows_mask.sum()} rows retained.\")\n",
    "    return keep_rows_mask"
   ]
  },
  {
   "cell_type": "code",
   "execution_count": 64,
   "id": "2bc31ac1",
   "metadata": {
    "execution": {
     "iopub.execute_input": "2025-08-19T18:51:47.593491Z",
     "iopub.status.busy": "2025-08-19T18:51:47.592914Z",
     "iopub.status.idle": "2025-08-19T18:51:54.503896Z",
     "shell.execute_reply": "2025-08-19T18:51:54.502623Z"
    },
    "papermill": {
     "duration": 6.943501,
     "end_time": "2025-08-19T18:51:54.505234",
     "exception": false,
     "start_time": "2025-08-19T18:51:47.561733",
     "status": "completed"
    },
    "tags": []
   },
   "outputs": [
    {
     "name": "stdout",
     "output_type": "stream",
     "text": [
      "Stopping execution_time clock.\n",
      "[INFO] Keeping all rows: 89710 rows retained.\n"
     ]
    },
    {
     "name": "stdout",
     "output_type": "stream",
     "text": [
      "[INFO] Keeping all rows: 89710 rows retained.\n"
     ]
    },
    {
     "name": "stdout",
     "output_type": "stream",
     "text": [
      "[INFO] Keeping all rows: 89710 rows retained.\n"
     ]
    },
    {
     "name": "stdout",
     "output_type": "stream",
     "text": [
      "[INFO] Keeping all rows: 89710 rows retained.\n"
     ]
    },
    {
     "data": {
      "text/html": [
       "<div>\n",
       "<style scoped>\n",
       "    .dataframe tbody tr th:only-of-type {\n",
       "        vertical-align: middle;\n",
       "    }\n",
       "\n",
       "    .dataframe tbody tr th {\n",
       "        vertical-align: top;\n",
       "    }\n",
       "\n",
       "    .dataframe thead th {\n",
       "        text-align: right;\n",
       "    }\n",
       "</style>\n",
       "<table border=\"1\" class=\"dataframe\">\n",
       "  <thead>\n",
       "    <tr style=\"text-align: right;\">\n",
       "      <th></th>\n",
       "      <th>run_no</th>\n",
       "      <th>universe_id</th>\n",
       "      <th>universe_settings</th>\n",
       "      <th>execution_time</th>\n",
       "      <th>test_size_n</th>\n",
       "      <th>test_size_frac</th>\n",
       "      <th>fair_main_equalized_odds_difference</th>\n",
       "      <th>fair_main_equalized_odds_ratio</th>\n",
       "      <th>fair_main_demographic_parity_difference</th>\n",
       "      <th>fair_main_demographic_parity_ratio</th>\n",
       "      <th>...</th>\n",
       "      <th>perf_grp_precision_0</th>\n",
       "      <th>perf_grp_precision_1</th>\n",
       "      <th>perf_grp_false positive rate_0</th>\n",
       "      <th>perf_grp_false positive rate_1</th>\n",
       "      <th>perf_grp_false negative rate_0</th>\n",
       "      <th>perf_grp_false negative rate_1</th>\n",
       "      <th>perf_grp_selection rate_0</th>\n",
       "      <th>perf_grp_selection rate_1</th>\n",
       "      <th>perf_grp_count_0</th>\n",
       "      <th>perf_grp_count_1</th>\n",
       "    </tr>\n",
       "  </thead>\n",
       "  <tbody>\n",
       "    <tr>\n",
       "      <th>0</th>\n",
       "      <td>3</td>\n",
       "      <td>e6f795cfee59ad336a3b0d7a3e6fcde4</td>\n",
       "      <td>{\"cutoff\": \"quantile_0.1\", \"eval_fairness_grou...</td>\n",
       "      <td>23.484259</td>\n",
       "      <td>89710</td>\n",
       "      <td>1.0</td>\n",
       "      <td>0.081781</td>\n",
       "      <td>0.914112</td>\n",
       "      <td>0.072614</td>\n",
       "      <td>0.924043</td>\n",
       "      <td>...</td>\n",
       "      <td>NaN</td>\n",
       "      <td>NaN</td>\n",
       "      <td>NaN</td>\n",
       "      <td>NaN</td>\n",
       "      <td>NaN</td>\n",
       "      <td>NaN</td>\n",
       "      <td>NaN</td>\n",
       "      <td>NaN</td>\n",
       "      <td>NaN</td>\n",
       "      <td>NaN</td>\n",
       "    </tr>\n",
       "    <tr>\n",
       "      <th>0</th>\n",
       "      <td>3</td>\n",
       "      <td>e6f795cfee59ad336a3b0d7a3e6fcde4</td>\n",
       "      <td>{\"cutoff\": \"quantile_0.1\", \"eval_fairness_grou...</td>\n",
       "      <td>23.484259</td>\n",
       "      <td>89710</td>\n",
       "      <td>1.0</td>\n",
       "      <td>0.081781</td>\n",
       "      <td>0.914112</td>\n",
       "      <td>0.072614</td>\n",
       "      <td>0.924043</td>\n",
       "      <td>...</td>\n",
       "      <td>0.118812</td>\n",
       "      <td>0.144887</td>\n",
       "      <td>0.952179</td>\n",
       "      <td>0.870398</td>\n",
       "      <td>0.014780</td>\n",
       "      <td>0.031400</td>\n",
       "      <td>0.955988</td>\n",
       "      <td>0.883374</td>\n",
       "      <td>20540.0</td>\n",
       "      <td>69170.0</td>\n",
       "    </tr>\n",
       "    <tr>\n",
       "      <th>0</th>\n",
       "      <td>3</td>\n",
       "      <td>e6f795cfee59ad336a3b0d7a3e6fcde4</td>\n",
       "      <td>{\"cutoff\": \"quantile_0.25\", \"eval_fairness_gro...</td>\n",
       "      <td>23.484259</td>\n",
       "      <td>89710</td>\n",
       "      <td>1.0</td>\n",
       "      <td>0.178366</td>\n",
       "      <td>0.793654</td>\n",
       "      <td>0.159135</td>\n",
       "      <td>0.817914</td>\n",
       "      <td>...</td>\n",
       "      <td>NaN</td>\n",
       "      <td>NaN</td>\n",
       "      <td>NaN</td>\n",
       "      <td>NaN</td>\n",
       "      <td>NaN</td>\n",
       "      <td>NaN</td>\n",
       "      <td>NaN</td>\n",
       "      <td>NaN</td>\n",
       "      <td>NaN</td>\n",
       "      <td>NaN</td>\n",
       "    </tr>\n",
       "    <tr>\n",
       "      <th>0</th>\n",
       "      <td>3</td>\n",
       "      <td>e6f795cfee59ad336a3b0d7a3e6fcde4</td>\n",
       "      <td>{\"cutoff\": \"quantile_0.25\", \"eval_fairness_gro...</td>\n",
       "      <td>23.484259</td>\n",
       "      <td>89710</td>\n",
       "      <td>1.0</td>\n",
       "      <td>0.178366</td>\n",
       "      <td>0.793654</td>\n",
       "      <td>0.159135</td>\n",
       "      <td>0.817914</td>\n",
       "      <td>...</td>\n",
       "      <td>0.124951</td>\n",
       "      <td>0.167078</td>\n",
       "      <td>0.864407</td>\n",
       "      <td>0.686040</td>\n",
       "      <td>0.052787</td>\n",
       "      <td>0.096171</td>\n",
       "      <td>0.873953</td>\n",
       "      <td>0.714819</td>\n",
       "      <td>20540.0</td>\n",
       "      <td>69170.0</td>\n",
       "    </tr>\n",
       "  </tbody>\n",
       "</table>\n",
       "<p>4 rows × 50 columns</p>\n",
       "</div>"
      ],
      "text/plain": [
       "  run_no                       universe_id  \\\n",
       "0      3  e6f795cfee59ad336a3b0d7a3e6fcde4   \n",
       "0      3  e6f795cfee59ad336a3b0d7a3e6fcde4   \n",
       "0      3  e6f795cfee59ad336a3b0d7a3e6fcde4   \n",
       "0      3  e6f795cfee59ad336a3b0d7a3e6fcde4   \n",
       "\n",
       "                                   universe_settings  execution_time  \\\n",
       "0  {\"cutoff\": \"quantile_0.1\", \"eval_fairness_grou...       23.484259   \n",
       "0  {\"cutoff\": \"quantile_0.1\", \"eval_fairness_grou...       23.484259   \n",
       "0  {\"cutoff\": \"quantile_0.25\", \"eval_fairness_gro...       23.484259   \n",
       "0  {\"cutoff\": \"quantile_0.25\", \"eval_fairness_gro...       23.484259   \n",
       "\n",
       "   test_size_n  test_size_frac  fair_main_equalized_odds_difference  \\\n",
       "0        89710             1.0                             0.081781   \n",
       "0        89710             1.0                             0.081781   \n",
       "0        89710             1.0                             0.178366   \n",
       "0        89710             1.0                             0.178366   \n",
       "\n",
       "   fair_main_equalized_odds_ratio  fair_main_demographic_parity_difference  \\\n",
       "0                        0.914112                                 0.072614   \n",
       "0                        0.914112                                 0.072614   \n",
       "0                        0.793654                                 0.159135   \n",
       "0                        0.793654                                 0.159135   \n",
       "\n",
       "   fair_main_demographic_parity_ratio  ...  perf_grp_precision_0  \\\n",
       "0                            0.924043  ...                   NaN   \n",
       "0                            0.924043  ...              0.118812   \n",
       "0                            0.817914  ...                   NaN   \n",
       "0                            0.817914  ...              0.124951   \n",
       "\n",
       "   perf_grp_precision_1  perf_grp_false positive rate_0  \\\n",
       "0                   NaN                             NaN   \n",
       "0              0.144887                        0.952179   \n",
       "0                   NaN                             NaN   \n",
       "0              0.167078                        0.864407   \n",
       "\n",
       "   perf_grp_false positive rate_1  perf_grp_false negative rate_0  \\\n",
       "0                             NaN                             NaN   \n",
       "0                        0.870398                        0.014780   \n",
       "0                             NaN                             NaN   \n",
       "0                        0.686040                        0.052787   \n",
       "\n",
       "   perf_grp_false negative rate_1  perf_grp_selection rate_0  \\\n",
       "0                             NaN                        NaN   \n",
       "0                        0.031400                   0.955988   \n",
       "0                             NaN                        NaN   \n",
       "0                        0.096171                   0.873953   \n",
       "\n",
       "   perf_grp_selection rate_1  perf_grp_count_0  perf_grp_count_1  \n",
       "0                        NaN               NaN               NaN  \n",
       "0                   0.883374           20540.0           69170.0  \n",
       "0                        NaN               NaN               NaN  \n",
       "0                   0.714819           20540.0           69170.0  \n",
       "\n",
       "[4 rows x 50 columns]"
      ]
     },
     "execution_count": 64,
     "metadata": {},
     "output_type": "execute_result"
    }
   ],
   "source": [
    "final_output = universe_analysis.generate_final_output(\n",
    "    y_pred_prob=probs_test,\n",
    "    y_test=y_true,\n",
    "    org_test=org_test,\n",
    "    filter_data=filter_sub_universe_data,\n",
    "    cp_metrics_df=cp_metrics_df,\n",
    "    save=True,\n",
    ")\n",
    "final_output"
   ]
  },
  {
   "cell_type": "code",
   "execution_count": null,
   "id": "8b80a1ff",
   "metadata": {
    "papermill": {
     "duration": 0.029216,
     "end_time": "2025-08-19T18:51:54.561753",
     "exception": false,
     "start_time": "2025-08-19T18:51:54.532537",
     "status": "completed"
    },
    "tags": []
   },
   "outputs": [],
   "source": []
  },
  {
   "cell_type": "code",
   "execution_count": null,
   "id": "275c9fad",
   "metadata": {
    "papermill": {
     "duration": 0.014214,
     "end_time": "2025-08-19T18:51:54.590549",
     "exception": false,
     "start_time": "2025-08-19T18:51:54.576335",
     "status": "completed"
    },
    "tags": []
   },
   "outputs": [],
   "source": []
  }
 ],
 "metadata": {
  "celltoolbar": "Tags",
  "kernelspec": {
   "display_name": "Python (CMA Fairness)",
   "language": "python",
   "name": "cma_fair_env"
  },
  "language_info": {
   "codemirror_mode": {
    "name": "ipython",
    "version": 3
   },
   "file_extension": ".py",
   "mimetype": "text/x-python",
   "name": "python",
   "nbconvert_exporter": "python",
   "pygments_lexer": "ipython3",
   "version": "3.10.12"
  },
  "papermill": {
   "default_parameters": {},
   "duration": 34.13664,
   "end_time": "2025-08-19T18:51:55.430441",
   "environment_variables": {},
   "exception": null,
   "input_path": "universe_analysis.ipynb",
   "output_path": "output/runs/3/notebooks/m_3-e6f795cfee59ad336a3b0d7a3e6fcde4.ipynb",
   "parameters": {
    "output_dir": "output",
    "run_no": "3",
    "seed": "2023",
    "universe": "{\"cutoff\": [\"quantile_0.1\", \"quantile_0.25\"], \"eval_fairness_grouping\": [\"majority-minority\", \"nationality-all\"], \"exclude_features\": \"sex\", \"exclude_subgroups\": \"drop-non-german\", \"model\": \"gbm\", \"scale\": \"scale\", \"training_size\": \"1k\", \"training_year\": \"2014\"}",
    "universe_id": "e6f795cfee59ad336a3b0d7a3e6fcde4"
   },
   "start_time": "2025-08-19T18:51:21.293801",
   "version": "2.6.0"
  }
 },
 "nbformat": 4,
 "nbformat_minor": 5
}