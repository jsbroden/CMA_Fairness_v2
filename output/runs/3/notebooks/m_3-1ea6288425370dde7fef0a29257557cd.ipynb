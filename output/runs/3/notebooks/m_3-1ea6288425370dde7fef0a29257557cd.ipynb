{
 "cells": [
  {
   "cell_type": "markdown",
   "id": "ef23dbb3",
   "metadata": {
    "papermill": {
     "duration": 0.026506,
     "end_time": "2025-08-19T18:16:30.586154",
     "exception": false,
     "start_time": "2025-08-19T18:16:30.559648",
     "status": "completed"
    },
    "tags": []
   },
   "source": [
    "# Setup"
   ]
  },
  {
   "cell_type": "code",
   "execution_count": 1,
   "id": "0bc8e7dc",
   "metadata": {
    "execution": {
     "iopub.execute_input": "2025-08-19T18:16:30.608432Z",
     "iopub.status.busy": "2025-08-19T18:16:30.608110Z",
     "iopub.status.idle": "2025-08-19T18:16:30.620321Z",
     "shell.execute_reply": "2025-08-19T18:16:30.619516Z"
    },
    "papermill": {
     "duration": 0.030079,
     "end_time": "2025-08-19T18:16:30.627384",
     "exception": false,
     "start_time": "2025-08-19T18:16:30.597305",
     "status": "completed"
    },
    "tags": []
   },
   "outputs": [
    {
     "name": "stdout",
     "output_type": "stream",
     "text": [
      "/dss/dsshome1/0C/ra93lal2/cma/CMA_Fairness_v2\n"
     ]
    },
    {
     "name": "stderr",
     "output_type": "stream",
     "text": [
      "/dss/dsshome1/0C/ra93lal2/.local/share/virtualenvs/CMA_Fairness_v2-3j10GkSs/lib/python3.10/site-packages/IPython/core/magics/osm.py:393: UserWarning: This is now an optional IPython functionality, using bookmarks requires you to install the `pickleshare` library.\n",
      "  bkms = self.shell.db.get('bookmarks', {})\n",
      "/dss/dsshome1/0C/ra93lal2/.local/share/virtualenvs/CMA_Fairness_v2-3j10GkSs/lib/python3.10/site-packages/IPython/core/magics/osm.py:417: UserWarning: This is now an optional IPython functionality, setting dhist requires you to install the `pickleshare` library.\n",
      "  self.shell.db['dhist'] = compress_dhist(dhist)[-100:]\n"
     ]
    }
   ],
   "source": [
    "%cd ~/cma/CMA_Fairness_v2"
   ]
  },
  {
   "cell_type": "markdown",
   "id": "9d235661",
   "metadata": {
    "papermill": {
     "duration": 0.008979,
     "end_time": "2025-08-19T18:16:30.651384",
     "exception": false,
     "start_time": "2025-08-19T18:16:30.642405",
     "status": "completed"
    },
    "tags": []
   },
   "source": [
    "The following cell holds the definition of our parameters, these values can be overriden by rendering the with e.g. the following command:\n",
    "\n",
    "papermill -p alpha 0.2 -p ratio 0.3 universe_analysis.ipynb output/test_run.ipynb"
   ]
  },
  {
   "cell_type": "code",
   "execution_count": 2,
   "id": "4a789d8e",
   "metadata": {
    "execution": {
     "iopub.execute_input": "2025-08-19T18:16:30.671176Z",
     "iopub.status.busy": "2025-08-19T18:16:30.670173Z",
     "iopub.status.idle": "2025-08-19T18:16:30.676989Z",
     "shell.execute_reply": "2025-08-19T18:16:30.675724Z"
    },
    "papermill": {
     "duration": 0.018468,
     "end_time": "2025-08-19T18:16:30.678468",
     "exception": false,
     "start_time": "2025-08-19T18:16:30.660000",
     "status": "completed"
    },
    "tags": []
   },
   "outputs": [
    {
     "name": "stdout",
     "output_type": "stream",
     "text": [
      "Current working directory: /dss/dsshome1/0C/ra93lal2/cma/CMA_Fairness_v2\n"
     ]
    }
   ],
   "source": [
    "import os\n",
    "print(\"Current working directory:\", os.getcwd())"
   ]
  },
  {
   "cell_type": "code",
   "execution_count": 3,
   "id": "4132aaed",
   "metadata": {
    "execution": {
     "iopub.execute_input": "2025-08-19T18:16:30.699068Z",
     "iopub.status.busy": "2025-08-19T18:16:30.698266Z",
     "iopub.status.idle": "2025-08-19T18:16:30.710915Z",
     "shell.execute_reply": "2025-08-19T18:16:30.709622Z"
    },
    "papermill": {
     "duration": 0.024917,
     "end_time": "2025-08-19T18:16:30.712835",
     "exception": false,
     "start_time": "2025-08-19T18:16:30.687918",
     "status": "completed"
    },
    "tags": [
     "parameters"
    ]
   },
   "outputs": [],
   "source": [
    "run_no = 0\n",
    "universe_id = \"test\"\n",
    "universe = {\n",
    "    \"training_size\": \"5k\", # \"25k\", \"5k\", \"1k\"\n",
    "    \"training_year\": \"2012_14\", # \"2014\", \"2012_14\", \"2010_14\"\n",
    "    \"scale\": \"scale\", # \"scale\", \"do-not-scale\",\n",
    "    \"model\": \"elasticnet\", # \"logreg\", \"penalized_logreg\", \"rf\", \"gbm\", \"elasticnet\"\n",
    "    \"cutoff\": [\"quantile_0.15\", \"quantile_0.30\"],\n",
    "    \"exclude_features\": \"age\", # \"none\", \"nationality\", \"sex\", \"nationality-sex\", \"age\"\n",
    "    \"exclude_subgroups\": \"drop-non-german\", # \"keep-all\", \"drop-non-german\"\n",
    "    \"eval_fairness_grouping\": [\"majority-minority\", \"nationality-all\"]\n",
    "}\n",
    "\n",
    "output_dir=\"./output\"\n",
    "seed=0"
   ]
  },
  {
   "cell_type": "code",
   "execution_count": 4,
   "id": "a30ccb63",
   "metadata": {
    "execution": {
     "iopub.execute_input": "2025-08-19T18:16:30.739703Z",
     "iopub.status.busy": "2025-08-19T18:16:30.738907Z",
     "iopub.status.idle": "2025-08-19T18:16:30.745907Z",
     "shell.execute_reply": "2025-08-19T18:16:30.744667Z"
    },
    "papermill": {
     "duration": 0.019556,
     "end_time": "2025-08-19T18:16:30.747536",
     "exception": false,
     "start_time": "2025-08-19T18:16:30.727980",
     "status": "completed"
    },
    "tags": [
     "injected-parameters"
    ]
   },
   "outputs": [],
   "source": [
    "# Parameters\n",
    "universe_id = \"1ea6288425370dde7fef0a29257557cd\"\n",
    "run_no = \"3\"\n",
    "universe = \"{\\\"cutoff\\\": [\\\"quantile_0.1\\\", \\\"quantile_0.25\\\"], \\\"eval_fairness_grouping\\\": [\\\"majority-minority\\\", \\\"nationality-all\\\"], \\\"exclude_features\\\": \\\"none\\\", \\\"exclude_subgroups\\\": \\\"keep-all\\\", \\\"model\\\": \\\"elasticnet\\\", \\\"scale\\\": \\\"scale\\\", \\\"training_size\\\": \\\"25k\\\", \\\"training_year\\\": \\\"2010_14\\\"}\"\n",
    "output_dir = \"output\"\n",
    "seed = \"2023\"\n"
   ]
  },
  {
   "cell_type": "code",
   "execution_count": 5,
   "id": "a5d7941f",
   "metadata": {
    "execution": {
     "iopub.execute_input": "2025-08-19T18:16:30.769344Z",
     "iopub.status.busy": "2025-08-19T18:16:30.768433Z",
     "iopub.status.idle": "2025-08-19T18:16:30.774987Z",
     "shell.execute_reply": "2025-08-19T18:16:30.773733Z"
    },
    "papermill": {
     "duration": 0.01854,
     "end_time": "2025-08-19T18:16:30.776674",
     "exception": false,
     "start_time": "2025-08-19T18:16:30.758134",
     "status": "completed"
    },
    "tags": []
   },
   "outputs": [],
   "source": [
    "import json\n",
    "if isinstance(universe, str):\n",
    "    universe = json.loads(universe)"
   ]
  },
  {
   "cell_type": "code",
   "execution_count": 6,
   "id": "7076ccb1",
   "metadata": {
    "execution": {
     "iopub.execute_input": "2025-08-19T18:16:30.798977Z",
     "iopub.status.busy": "2025-08-19T18:16:30.798146Z",
     "iopub.status.idle": "2025-08-19T18:16:30.841317Z",
     "shell.execute_reply": "2025-08-19T18:16:30.840750Z"
    },
    "papermill": {
     "duration": 0.054677,
     "end_time": "2025-08-19T18:16:30.842500",
     "exception": false,
     "start_time": "2025-08-19T18:16:30.787823",
     "status": "completed"
    },
    "tags": []
   },
   "outputs": [],
   "source": [
    "# Auto-reload the custom package\n",
    "%load_ext autoreload\n",
    "%autoreload 1\n",
    "%aimport fairness_multiverse"
   ]
  },
  {
   "cell_type": "code",
   "execution_count": 7,
   "id": "94c8eb93",
   "metadata": {
    "execution": {
     "iopub.execute_input": "2025-08-19T18:16:30.868689Z",
     "iopub.status.busy": "2025-08-19T18:16:30.862731Z",
     "iopub.status.idle": "2025-08-19T18:16:32.413556Z",
     "shell.execute_reply": "2025-08-19T18:16:32.412563Z"
    },
    "papermill": {
     "duration": 1.563294,
     "end_time": "2025-08-19T18:16:32.415354",
     "exception": false,
     "start_time": "2025-08-19T18:16:30.852060",
     "status": "completed"
    },
    "tags": []
   },
   "outputs": [],
   "source": [
    "from fairness_multiverse.universe import UniverseAnalysis\n",
    "\n",
    "universe_analysis = UniverseAnalysis(\n",
    "    run_no = run_no,\n",
    "    universe_id = universe_id,\n",
    "    universe = universe,\n",
    "    output_dir=output_dir,\n",
    ")"
   ]
  },
  {
   "cell_type": "code",
   "execution_count": 8,
   "id": "2a6381cf",
   "metadata": {
    "execution": {
     "iopub.execute_input": "2025-08-19T18:16:32.439068Z",
     "iopub.status.busy": "2025-08-19T18:16:32.437934Z",
     "iopub.status.idle": "2025-08-19T18:16:32.449145Z",
     "shell.execute_reply": "2025-08-19T18:16:32.447676Z"
    },
    "papermill": {
     "duration": 0.025794,
     "end_time": "2025-08-19T18:16:32.451200",
     "exception": false,
     "start_time": "2025-08-19T18:16:32.425406",
     "status": "completed"
    },
    "tags": []
   },
   "outputs": [
    {
     "name": "stdout",
     "output_type": "stream",
     "text": [
      "Using Seed: 2023\n"
     ]
    }
   ],
   "source": [
    "import numpy as np\n",
    "parsed_seed = int(seed)\n",
    "np.random.seed(parsed_seed)\n",
    "print(f\"Using Seed: {parsed_seed}\")"
   ]
  },
  {
   "cell_type": "markdown",
   "id": "b6e958b4",
   "metadata": {
    "papermill": {
     "duration": 0.009934,
     "end_time": "2025-08-19T18:16:32.472740",
     "exception": false,
     "start_time": "2025-08-19T18:16:32.462806",
     "status": "completed"
    },
    "tags": []
   },
   "source": [
    "# Loading Data"
   ]
  },
  {
   "cell_type": "code",
   "execution_count": 9,
   "id": "98701482",
   "metadata": {
    "execution": {
     "iopub.execute_input": "2025-08-19T18:16:32.494166Z",
     "iopub.status.busy": "2025-08-19T18:16:32.493186Z",
     "iopub.status.idle": "2025-08-19T18:16:42.501079Z",
     "shell.execute_reply": "2025-08-19T18:16:42.499964Z"
    },
    "papermill": {
     "duration": 10.020339,
     "end_time": "2025-08-19T18:16:42.502435",
     "exception": false,
     "start_time": "2025-08-19T18:16:32.482096",
     "status": "completed"
    },
    "tags": []
   },
   "outputs": [
    {
     "name": "stdout",
     "output_type": "stream",
     "text": [
      "Loading SIAB data from cache: data/siab_cached.csv.gz\n"
     ]
    },
    {
     "name": "stdout",
     "output_type": "stream",
     "text": [
      "(643690, 164)\n"
     ]
    }
   ],
   "source": [
    "from pathlib import Path\n",
    "import pandas as pd\n",
    "\n",
    "# File paths\n",
    "raw_file = Path(\"data/raw/siab.csv\")\n",
    "cache_file = Path(\"data/siab_cached.csv.gz\")\n",
    "\n",
    "# Ensure cache directory exists\n",
    "cache_file.parent.mkdir(parents=True, exist_ok=True)\n",
    "\n",
    "# Load with simple caching\n",
    "if cache_file.exists():\n",
    "    print(f\"Loading SIAB data from cache: {cache_file}\")\n",
    "    siab = pd.read_csv(cache_file, compression='gzip')\n",
    "else:\n",
    "    print(f\"Cache not found. Reading raw SIAB data: {raw_file}\")\n",
    "    siab = pd.read_csv(raw_file)\n",
    "    siab.to_csv(cache_file, index=False, compression='gzip')\n",
    "    print(f\"Cached SIAB data to: {cache_file}\")\n",
    "\n",
    "print(siab.shape)"
   ]
  },
  {
   "cell_type": "code",
   "execution_count": 10,
   "id": "058d2abb",
   "metadata": {
    "execution": {
     "iopub.execute_input": "2025-08-19T18:16:42.528842Z",
     "iopub.status.busy": "2025-08-19T18:16:42.527908Z",
     "iopub.status.idle": "2025-08-19T18:16:42.657478Z",
     "shell.execute_reply": "2025-08-19T18:16:42.656775Z"
    },
    "papermill": {
     "duration": 0.14394,
     "end_time": "2025-08-19T18:16:42.660112",
     "exception": false,
     "start_time": "2025-08-19T18:16:42.516172",
     "status": "completed"
    },
    "tags": []
   },
   "outputs": [
    {
     "data": {
      "text/html": [
       "<div>\n",
       "<style scoped>\n",
       "    .dataframe tbody tr th:only-of-type {\n",
       "        vertical-align: middle;\n",
       "    }\n",
       "\n",
       "    .dataframe tbody tr th {\n",
       "        vertical-align: top;\n",
       "    }\n",
       "\n",
       "    .dataframe thead th {\n",
       "        text-align: right;\n",
       "    }\n",
       "</style>\n",
       "<table border=\"1\" class=\"dataframe\">\n",
       "  <thead>\n",
       "    <tr style=\"text-align: right;\">\n",
       "      <th></th>\n",
       "      <th>persnr</th>\n",
       "      <th>year</th>\n",
       "      <th>nrEntry</th>\n",
       "      <th>ltue</th>\n",
       "      <th>employed_before</th>\n",
       "      <th>receipt_leh_before</th>\n",
       "      <th>receipt_lhg_before</th>\n",
       "      <th>se_before</th>\n",
       "      <th>ASU_notue_seeking_before</th>\n",
       "      <th>ASU_other_before</th>\n",
       "      <th>...</th>\n",
       "      <th>minijob_tot_dur_byage</th>\n",
       "      <th>ft_tot_dur_byage</th>\n",
       "      <th>befrist_tot_dur_byage</th>\n",
       "      <th>leih_tot_dur_byage</th>\n",
       "      <th>LHG_tot_dur_byage</th>\n",
       "      <th>LEH_tot_dur_byage</th>\n",
       "      <th>almp_tot_dur_byage</th>\n",
       "      <th>almp_aw_tot_dur_byage</th>\n",
       "      <th>se_tot_dur_byage</th>\n",
       "      <th>seeking1_tot_dur_byage</th>\n",
       "    </tr>\n",
       "  </thead>\n",
       "  <tbody>\n",
       "    <tr>\n",
       "      <th>0</th>\n",
       "      <td>7</td>\n",
       "      <td>2015</td>\n",
       "      <td>1</td>\n",
       "      <td>0</td>\n",
       "      <td>1</td>\n",
       "      <td>0</td>\n",
       "      <td>0</td>\n",
       "      <td>0</td>\n",
       "      <td>1</td>\n",
       "      <td>0</td>\n",
       "      <td>...</td>\n",
       "      <td>0.000000</td>\n",
       "      <td>0.000000</td>\n",
       "      <td>15.043478</td>\n",
       "      <td>0.000000</td>\n",
       "      <td>0.000000</td>\n",
       "      <td>0.000000</td>\n",
       "      <td>0.000000</td>\n",
       "      <td>0.000000</td>\n",
       "      <td>0.000000</td>\n",
       "      <td>0.000000</td>\n",
       "    </tr>\n",
       "    <tr>\n",
       "      <th>1</th>\n",
       "      <td>18</td>\n",
       "      <td>2010</td>\n",
       "      <td>1</td>\n",
       "      <td>1</td>\n",
       "      <td>0</td>\n",
       "      <td>0</td>\n",
       "      <td>0</td>\n",
       "      <td>0</td>\n",
       "      <td>0</td>\n",
       "      <td>0</td>\n",
       "      <td>...</td>\n",
       "      <td>0.000000</td>\n",
       "      <td>0.000000</td>\n",
       "      <td>0.000000</td>\n",
       "      <td>0.000000</td>\n",
       "      <td>0.000000</td>\n",
       "      <td>0.000000</td>\n",
       "      <td>0.000000</td>\n",
       "      <td>0.000000</td>\n",
       "      <td>0.000000</td>\n",
       "      <td>0.000000</td>\n",
       "    </tr>\n",
       "    <tr>\n",
       "      <th>2</th>\n",
       "      <td>18</td>\n",
       "      <td>2011</td>\n",
       "      <td>2</td>\n",
       "      <td>0</td>\n",
       "      <td>1</td>\n",
       "      <td>0</td>\n",
       "      <td>1</td>\n",
       "      <td>0</td>\n",
       "      <td>1</td>\n",
       "      <td>0</td>\n",
       "      <td>...</td>\n",
       "      <td>2.714286</td>\n",
       "      <td>2.714286</td>\n",
       "      <td>0.000000</td>\n",
       "      <td>0.000000</td>\n",
       "      <td>10.775510</td>\n",
       "      <td>0.000000</td>\n",
       "      <td>8.367347</td>\n",
       "      <td>0.000000</td>\n",
       "      <td>0.000000</td>\n",
       "      <td>9.836735</td>\n",
       "    </tr>\n",
       "    <tr>\n",
       "      <th>3</th>\n",
       "      <td>18</td>\n",
       "      <td>2012</td>\n",
       "      <td>3</td>\n",
       "      <td>0</td>\n",
       "      <td>1</td>\n",
       "      <td>0</td>\n",
       "      <td>1</td>\n",
       "      <td>0</td>\n",
       "      <td>1</td>\n",
       "      <td>0</td>\n",
       "      <td>...</td>\n",
       "      <td>4.200000</td>\n",
       "      <td>4.200000</td>\n",
       "      <td>0.000000</td>\n",
       "      <td>0.000000</td>\n",
       "      <td>12.100000</td>\n",
       "      <td>0.000000</td>\n",
       "      <td>9.400000</td>\n",
       "      <td>0.000000</td>\n",
       "      <td>0.000000</td>\n",
       "      <td>9.960000</td>\n",
       "    </tr>\n",
       "    <tr>\n",
       "      <th>4</th>\n",
       "      <td>18</td>\n",
       "      <td>2012</td>\n",
       "      <td>4</td>\n",
       "      <td>0</td>\n",
       "      <td>1</td>\n",
       "      <td>0</td>\n",
       "      <td>1</td>\n",
       "      <td>0</td>\n",
       "      <td>1</td>\n",
       "      <td>0</td>\n",
       "      <td>...</td>\n",
       "      <td>5.460000</td>\n",
       "      <td>5.460000</td>\n",
       "      <td>0.000000</td>\n",
       "      <td>0.000000</td>\n",
       "      <td>13.360000</td>\n",
       "      <td>0.000000</td>\n",
       "      <td>10.320000</td>\n",
       "      <td>0.000000</td>\n",
       "      <td>0.000000</td>\n",
       "      <td>10.280000</td>\n",
       "    </tr>\n",
       "    <tr>\n",
       "      <th>...</th>\n",
       "      <td>...</td>\n",
       "      <td>...</td>\n",
       "      <td>...</td>\n",
       "      <td>...</td>\n",
       "      <td>...</td>\n",
       "      <td>...</td>\n",
       "      <td>...</td>\n",
       "      <td>...</td>\n",
       "      <td>...</td>\n",
       "      <td>...</td>\n",
       "      <td>...</td>\n",
       "      <td>...</td>\n",
       "      <td>...</td>\n",
       "      <td>...</td>\n",
       "      <td>...</td>\n",
       "      <td>...</td>\n",
       "      <td>...</td>\n",
       "      <td>...</td>\n",
       "      <td>...</td>\n",
       "      <td>...</td>\n",
       "      <td>...</td>\n",
       "    </tr>\n",
       "    <tr>\n",
       "      <th>643685</th>\n",
       "      <td>1827860</td>\n",
       "      <td>2013</td>\n",
       "      <td>1</td>\n",
       "      <td>0</td>\n",
       "      <td>0</td>\n",
       "      <td>0</td>\n",
       "      <td>1</td>\n",
       "      <td>0</td>\n",
       "      <td>0</td>\n",
       "      <td>1</td>\n",
       "      <td>...</td>\n",
       "      <td>0.000000</td>\n",
       "      <td>0.000000</td>\n",
       "      <td>0.000000</td>\n",
       "      <td>0.000000</td>\n",
       "      <td>0.612903</td>\n",
       "      <td>0.000000</td>\n",
       "      <td>0.000000</td>\n",
       "      <td>0.000000</td>\n",
       "      <td>0.000000</td>\n",
       "      <td>0.000000</td>\n",
       "    </tr>\n",
       "    <tr>\n",
       "      <th>643686</th>\n",
       "      <td>1827860</td>\n",
       "      <td>2015</td>\n",
       "      <td>2</td>\n",
       "      <td>1</td>\n",
       "      <td>0</td>\n",
       "      <td>0</td>\n",
       "      <td>1</td>\n",
       "      <td>0</td>\n",
       "      <td>1</td>\n",
       "      <td>0</td>\n",
       "      <td>...</td>\n",
       "      <td>0.000000</td>\n",
       "      <td>0.000000</td>\n",
       "      <td>0.212121</td>\n",
       "      <td>0.212121</td>\n",
       "      <td>17.363636</td>\n",
       "      <td>0.000000</td>\n",
       "      <td>8.909091</td>\n",
       "      <td>0.000000</td>\n",
       "      <td>0.000000</td>\n",
       "      <td>7.121212</td>\n",
       "    </tr>\n",
       "    <tr>\n",
       "      <th>643687</th>\n",
       "      <td>1827860</td>\n",
       "      <td>2016</td>\n",
       "      <td>3</td>\n",
       "      <td>1</td>\n",
       "      <td>0</td>\n",
       "      <td>0</td>\n",
       "      <td>1</td>\n",
       "      <td>1</td>\n",
       "      <td>0</td>\n",
       "      <td>1</td>\n",
       "      <td>...</td>\n",
       "      <td>0.000000</td>\n",
       "      <td>0.000000</td>\n",
       "      <td>0.294118</td>\n",
       "      <td>0.205882</td>\n",
       "      <td>34.705882</td>\n",
       "      <td>0.000000</td>\n",
       "      <td>10.352941</td>\n",
       "      <td>1.705882</td>\n",
       "      <td>1.705882</td>\n",
       "      <td>23.911765</td>\n",
       "    </tr>\n",
       "    <tr>\n",
       "      <th>643688</th>\n",
       "      <td>1827869</td>\n",
       "      <td>2013</td>\n",
       "      <td>1</td>\n",
       "      <td>1</td>\n",
       "      <td>1</td>\n",
       "      <td>0</td>\n",
       "      <td>0</td>\n",
       "      <td>0</td>\n",
       "      <td>1</td>\n",
       "      <td>0</td>\n",
       "      <td>...</td>\n",
       "      <td>0.000000</td>\n",
       "      <td>0.000000</td>\n",
       "      <td>0.000000</td>\n",
       "      <td>0.000000</td>\n",
       "      <td>0.000000</td>\n",
       "      <td>0.525424</td>\n",
       "      <td>0.000000</td>\n",
       "      <td>0.000000</td>\n",
       "      <td>0.000000</td>\n",
       "      <td>0.000000</td>\n",
       "    </tr>\n",
       "    <tr>\n",
       "      <th>643689</th>\n",
       "      <td>1827869</td>\n",
       "      <td>2014</td>\n",
       "      <td>2</td>\n",
       "      <td>0</td>\n",
       "      <td>0</td>\n",
       "      <td>1</td>\n",
       "      <td>0</td>\n",
       "      <td>0</td>\n",
       "      <td>1</td>\n",
       "      <td>0</td>\n",
       "      <td>...</td>\n",
       "      <td>0.000000</td>\n",
       "      <td>0.666667</td>\n",
       "      <td>0.666667</td>\n",
       "      <td>0.000000</td>\n",
       "      <td>0.000000</td>\n",
       "      <td>8.950000</td>\n",
       "      <td>1.033333</td>\n",
       "      <td>0.083333</td>\n",
       "      <td>0.083333</td>\n",
       "      <td>8.133333</td>\n",
       "    </tr>\n",
       "  </tbody>\n",
       "</table>\n",
       "<p>643690 rows × 164 columns</p>\n",
       "</div>"
      ],
      "text/plain": [
       "         persnr  year  nrEntry  ltue  employed_before  receipt_leh_before  \\\n",
       "0             7  2015        1     0                1                   0   \n",
       "1            18  2010        1     1                0                   0   \n",
       "2            18  2011        2     0                1                   0   \n",
       "3            18  2012        3     0                1                   0   \n",
       "4            18  2012        4     0                1                   0   \n",
       "...         ...   ...      ...   ...              ...                 ...   \n",
       "643685  1827860  2013        1     0                0                   0   \n",
       "643686  1827860  2015        2     1                0                   0   \n",
       "643687  1827860  2016        3     1                0                   0   \n",
       "643688  1827869  2013        1     1                1                   0   \n",
       "643689  1827869  2014        2     0                0                   1   \n",
       "\n",
       "        receipt_lhg_before  se_before  ASU_notue_seeking_before  \\\n",
       "0                        0          0                         1   \n",
       "1                        0          0                         0   \n",
       "2                        1          0                         1   \n",
       "3                        1          0                         1   \n",
       "4                        1          0                         1   \n",
       "...                    ...        ...                       ...   \n",
       "643685                   1          0                         0   \n",
       "643686                   1          0                         1   \n",
       "643687                   1          1                         0   \n",
       "643688                   0          0                         1   \n",
       "643689                   0          0                         1   \n",
       "\n",
       "        ASU_other_before  ...  minijob_tot_dur_byage  ft_tot_dur_byage  \\\n",
       "0                      0  ...               0.000000          0.000000   \n",
       "1                      0  ...               0.000000          0.000000   \n",
       "2                      0  ...               2.714286          2.714286   \n",
       "3                      0  ...               4.200000          4.200000   \n",
       "4                      0  ...               5.460000          5.460000   \n",
       "...                  ...  ...                    ...               ...   \n",
       "643685                 1  ...               0.000000          0.000000   \n",
       "643686                 0  ...               0.000000          0.000000   \n",
       "643687                 1  ...               0.000000          0.000000   \n",
       "643688                 0  ...               0.000000          0.000000   \n",
       "643689                 0  ...               0.000000          0.666667   \n",
       "\n",
       "        befrist_tot_dur_byage  leih_tot_dur_byage  LHG_tot_dur_byage  \\\n",
       "0                   15.043478            0.000000           0.000000   \n",
       "1                    0.000000            0.000000           0.000000   \n",
       "2                    0.000000            0.000000          10.775510   \n",
       "3                    0.000000            0.000000          12.100000   \n",
       "4                    0.000000            0.000000          13.360000   \n",
       "...                       ...                 ...                ...   \n",
       "643685               0.000000            0.000000           0.612903   \n",
       "643686               0.212121            0.212121          17.363636   \n",
       "643687               0.294118            0.205882          34.705882   \n",
       "643688               0.000000            0.000000           0.000000   \n",
       "643689               0.666667            0.000000           0.000000   \n",
       "\n",
       "        LEH_tot_dur_byage  almp_tot_dur_byage  almp_aw_tot_dur_byage  \\\n",
       "0                0.000000            0.000000               0.000000   \n",
       "1                0.000000            0.000000               0.000000   \n",
       "2                0.000000            8.367347               0.000000   \n",
       "3                0.000000            9.400000               0.000000   \n",
       "4                0.000000           10.320000               0.000000   \n",
       "...                   ...                 ...                    ...   \n",
       "643685           0.000000            0.000000               0.000000   \n",
       "643686           0.000000            8.909091               0.000000   \n",
       "643687           0.000000           10.352941               1.705882   \n",
       "643688           0.525424            0.000000               0.000000   \n",
       "643689           8.950000            1.033333               0.083333   \n",
       "\n",
       "        se_tot_dur_byage  seeking1_tot_dur_byage  \n",
       "0               0.000000                0.000000  \n",
       "1               0.000000                0.000000  \n",
       "2               0.000000                9.836735  \n",
       "3               0.000000                9.960000  \n",
       "4               0.000000               10.280000  \n",
       "...                  ...                     ...  \n",
       "643685          0.000000                0.000000  \n",
       "643686          0.000000                7.121212  \n",
       "643687          1.705882               23.911765  \n",
       "643688          0.000000                0.000000  \n",
       "643689          0.083333                8.133333  \n",
       "\n",
       "[643690 rows x 164 columns]"
      ]
     },
     "execution_count": 10,
     "metadata": {},
     "output_type": "execute_result"
    }
   ],
   "source": [
    "siab"
   ]
  },
  {
   "cell_type": "markdown",
   "id": "1f87e805",
   "metadata": {
    "papermill": {
     "duration": 0.01182,
     "end_time": "2025-08-19T18:16:42.694105",
     "exception": false,
     "start_time": "2025-08-19T18:16:42.682285",
     "status": "completed"
    },
    "tags": []
   },
   "source": [
    "# Splitting Data and Setting Training Data Size"
   ]
  },
  {
   "cell_type": "code",
   "execution_count": 11,
   "id": "910ae358",
   "metadata": {
    "execution": {
     "iopub.execute_input": "2025-08-19T18:16:42.715762Z",
     "iopub.status.busy": "2025-08-19T18:16:42.714720Z",
     "iopub.status.idle": "2025-08-19T18:16:43.951995Z",
     "shell.execute_reply": "2025-08-19T18:16:43.951309Z"
    },
    "papermill": {
     "duration": 1.251205,
     "end_time": "2025-08-19T18:16:43.954738",
     "exception": false,
     "start_time": "2025-08-19T18:16:42.703533",
     "status": "completed"
    },
    "tags": []
   },
   "outputs": [],
   "source": [
    "from fairness_multiverse.universe import sample_by_year_size\n",
    "\n",
    "siab_train = sample_by_year_size(siab,\n",
    "                               training_year=universe[\"training_year\"],\n",
    "                               training_size=universe[\"training_size\"])"
   ]
  },
  {
   "cell_type": "code",
   "execution_count": 12,
   "id": "919c8ff5",
   "metadata": {
    "execution": {
     "iopub.execute_input": "2025-08-19T18:16:43.992289Z",
     "iopub.status.busy": "2025-08-19T18:16:43.991394Z",
     "iopub.status.idle": "2025-08-19T18:16:44.002461Z",
     "shell.execute_reply": "2025-08-19T18:16:44.000840Z"
    },
    "papermill": {
     "duration": 0.026091,
     "end_time": "2025-08-19T18:16:44.004082",
     "exception": false,
     "start_time": "2025-08-19T18:16:43.977991",
     "status": "completed"
    },
    "tags": []
   },
   "outputs": [
    {
     "data": {
      "text/plain": [
       "(25000, 164)"
      ]
     },
     "execution_count": 12,
     "metadata": {},
     "output_type": "execute_result"
    }
   ],
   "source": [
    "siab_train.shape"
   ]
  },
  {
   "cell_type": "code",
   "execution_count": 13,
   "id": "feb13bf4",
   "metadata": {
    "execution": {
     "iopub.execute_input": "2025-08-19T18:16:44.028675Z",
     "iopub.status.busy": "2025-08-19T18:16:44.027701Z",
     "iopub.status.idle": "2025-08-19T18:16:44.042813Z",
     "shell.execute_reply": "2025-08-19T18:16:44.041477Z"
    },
    "papermill": {
     "duration": 0.027628,
     "end_time": "2025-08-19T18:16:44.044388",
     "exception": false,
     "start_time": "2025-08-19T18:16:44.016760",
     "status": "completed"
    },
    "tags": []
   },
   "outputs": [
    {
     "data": {
      "text/plain": [
       "year\n",
       "2010    5000\n",
       "2011    5000\n",
       "2012    5000\n",
       "2013    5000\n",
       "2014    5000\n",
       "dtype: int64"
      ]
     },
     "metadata": {},
     "output_type": "display_data"
    }
   ],
   "source": [
    "display(siab_train.groupby(\"year\").size())"
   ]
  },
  {
   "cell_type": "code",
   "execution_count": 14,
   "id": "0997782f",
   "metadata": {
    "execution": {
     "iopub.execute_input": "2025-08-19T18:16:44.075213Z",
     "iopub.status.busy": "2025-08-19T18:16:44.073890Z",
     "iopub.status.idle": "2025-08-19T18:16:44.368457Z",
     "shell.execute_reply": "2025-08-19T18:16:44.367766Z"
    },
    "papermill": {
     "duration": 0.309976,
     "end_time": "2025-08-19T18:16:44.371152",
     "exception": false,
     "start_time": "2025-08-19T18:16:44.061176",
     "status": "completed"
    },
    "tags": []
   },
   "outputs": [],
   "source": [
    "#siab_train = siab_s[siab_s.year < 2015]\n",
    "siab_calib = siab[siab.year == 2015]\n",
    "siab_test = siab[siab.year == 2016]"
   ]
  },
  {
   "cell_type": "code",
   "execution_count": 15,
   "id": "2c1e4012",
   "metadata": {
    "execution": {
     "iopub.execute_input": "2025-08-19T18:16:44.411492Z",
     "iopub.status.busy": "2025-08-19T18:16:44.410498Z",
     "iopub.status.idle": "2025-08-19T18:16:44.418391Z",
     "shell.execute_reply": "2025-08-19T18:16:44.416804Z"
    },
    "papermill": {
     "duration": 0.023261,
     "end_time": "2025-08-19T18:16:44.420063",
     "exception": false,
     "start_time": "2025-08-19T18:16:44.396802",
     "status": "completed"
    },
    "tags": []
   },
   "outputs": [],
   "source": [
    "#siab_calib.shape"
   ]
  },
  {
   "cell_type": "code",
   "execution_count": 16,
   "id": "f66b54ca",
   "metadata": {
    "execution": {
     "iopub.execute_input": "2025-08-19T18:16:44.514078Z",
     "iopub.status.busy": "2025-08-19T18:16:44.512800Z",
     "iopub.status.idle": "2025-08-19T18:16:44.521052Z",
     "shell.execute_reply": "2025-08-19T18:16:44.519403Z"
    },
    "papermill": {
     "duration": 0.089659,
     "end_time": "2025-08-19T18:16:44.522917",
     "exception": false,
     "start_time": "2025-08-19T18:16:44.433258",
     "status": "completed"
    },
    "tags": []
   },
   "outputs": [],
   "source": [
    "#siab_test.shape"
   ]
  },
  {
   "cell_type": "code",
   "execution_count": 17,
   "id": "27e4384d",
   "metadata": {
    "execution": {
     "iopub.execute_input": "2025-08-19T18:16:44.548684Z",
     "iopub.status.busy": "2025-08-19T18:16:44.547452Z",
     "iopub.status.idle": "2025-08-19T18:16:44.569290Z",
     "shell.execute_reply": "2025-08-19T18:16:44.568098Z"
    },
    "papermill": {
     "duration": 0.035019,
     "end_time": "2025-08-19T18:16:44.571105",
     "exception": false,
     "start_time": "2025-08-19T18:16:44.536086",
     "status": "completed"
    },
    "tags": []
   },
   "outputs": [],
   "source": [
    "X_train = siab_train.iloc[:,4:164]\n",
    "y_train = siab_train.iloc[:, [3]]"
   ]
  },
  {
   "cell_type": "code",
   "execution_count": 18,
   "id": "08ee8389",
   "metadata": {
    "execution": {
     "iopub.execute_input": "2025-08-19T18:16:44.602921Z",
     "iopub.status.busy": "2025-08-19T18:16:44.601649Z",
     "iopub.status.idle": "2025-08-19T18:16:44.664871Z",
     "shell.execute_reply": "2025-08-19T18:16:44.664063Z"
    },
    "papermill": {
     "duration": 0.083195,
     "end_time": "2025-08-19T18:16:44.671925",
     "exception": false,
     "start_time": "2025-08-19T18:16:44.588730",
     "status": "completed"
    },
    "tags": []
   },
   "outputs": [],
   "source": [
    "X_calib = siab_calib.iloc[:,4:164]\n",
    "y_calib = siab_calib.iloc[:, [3]]"
   ]
  },
  {
   "cell_type": "code",
   "execution_count": 19,
   "id": "b7ff42e0",
   "metadata": {
    "execution": {
     "iopub.execute_input": "2025-08-19T18:16:44.713181Z",
     "iopub.status.busy": "2025-08-19T18:16:44.711864Z",
     "iopub.status.idle": "2025-08-19T18:16:44.767811Z",
     "shell.execute_reply": "2025-08-19T18:16:44.767114Z"
    },
    "papermill": {
     "duration": 0.071412,
     "end_time": "2025-08-19T18:16:44.770838",
     "exception": false,
     "start_time": "2025-08-19T18:16:44.699426",
     "status": "completed"
    },
    "tags": []
   },
   "outputs": [],
   "source": [
    "X_test = siab_test.iloc[:,4:164]\n",
    "y_true = siab_test.iloc[:, [3]]"
   ]
  },
  {
   "cell_type": "code",
   "execution_count": 20,
   "id": "0275101e",
   "metadata": {
    "execution": {
     "iopub.execute_input": "2025-08-19T18:16:44.811830Z",
     "iopub.status.busy": "2025-08-19T18:16:44.810549Z",
     "iopub.status.idle": "2025-08-19T18:16:44.945239Z",
     "shell.execute_reply": "2025-08-19T18:16:44.944559Z"
    },
    "papermill": {
     "duration": 0.150202,
     "end_time": "2025-08-19T18:16:44.946802",
     "exception": false,
     "start_time": "2025-08-19T18:16:44.796600",
     "status": "completed"
    },
    "tags": []
   },
   "outputs": [],
   "source": [
    "# Auxiliary data needed downstream in the pipeline\n",
    "\n",
    "org_train = X_train.copy()\n",
    "org_test = X_test.copy()\n",
    "org_calib = X_calib.copy()"
   ]
  },
  {
   "cell_type": "markdown",
   "id": "b461e618",
   "metadata": {
    "papermill": {
     "duration": 0.017392,
     "end_time": "2025-08-19T18:16:44.986590",
     "exception": false,
     "start_time": "2025-08-19T18:16:44.969198",
     "status": "completed"
    },
    "tags": []
   },
   "source": [
    "# Preprocessing Data"
   ]
  },
  {
   "cell_type": "code",
   "execution_count": 21,
   "id": "78e74c4b",
   "metadata": {
    "execution": {
     "iopub.execute_input": "2025-08-19T18:16:45.009410Z",
     "iopub.status.busy": "2025-08-19T18:16:45.009008Z",
     "iopub.status.idle": "2025-08-19T18:16:45.013530Z",
     "shell.execute_reply": "2025-08-19T18:16:45.012917Z"
    },
    "papermill": {
     "duration": 0.017077,
     "end_time": "2025-08-19T18:16:45.015102",
     "exception": false,
     "start_time": "2025-08-19T18:16:44.998025",
     "status": "completed"
    },
    "tags": []
   },
   "outputs": [],
   "source": [
    "# EXCLUDE PROTECTED FEATURES\n",
    "# --------------------------\n",
    "\n",
    "excluded_features = universe[\"exclude_features\"].split(\"-\")\n",
    "excluded_features_dictionary = {\n",
    "    \"nationality\": [\"maxdeutsch1\", \"maxdeutsch.Missing.\"],\n",
    "    \"sex\": [\"frau1\"],\n",
    "    \"age\": [\"age\"],\n",
    "}"
   ]
  },
  {
   "cell_type": "code",
   "execution_count": 22,
   "id": "f8e63555",
   "metadata": {
    "execution": {
     "iopub.execute_input": "2025-08-19T18:16:45.036561Z",
     "iopub.status.busy": "2025-08-19T18:16:45.036180Z",
     "iopub.status.idle": "2025-08-19T18:16:45.040410Z",
     "shell.execute_reply": "2025-08-19T18:16:45.039815Z"
    },
    "papermill": {
     "duration": 0.016633,
     "end_time": "2025-08-19T18:16:45.041924",
     "exception": false,
     "start_time": "2025-08-19T18:16:45.025291",
     "status": "completed"
    },
    "tags": []
   },
   "outputs": [],
   "source": [
    "excluded_features_columns = [\n",
    "    excluded_features_dictionary[f] for f in excluded_features if len(f) > 0 and f != \"none\"\n",
    "]"
   ]
  },
  {
   "cell_type": "code",
   "execution_count": 23,
   "id": "da781f7c",
   "metadata": {
    "execution": {
     "iopub.execute_input": "2025-08-19T18:16:45.068710Z",
     "iopub.status.busy": "2025-08-19T18:16:45.067608Z",
     "iopub.status.idle": "2025-08-19T18:16:45.075361Z",
     "shell.execute_reply": "2025-08-19T18:16:45.073966Z"
    },
    "papermill": {
     "duration": 0.021153,
     "end_time": "2025-08-19T18:16:45.076925",
     "exception": false,
     "start_time": "2025-08-19T18:16:45.055772",
     "status": "completed"
    },
    "tags": []
   },
   "outputs": [],
   "source": [
    "from fairness_multiverse.universe import flatten_once\n",
    "\n",
    "excluded_features_columns = flatten_once(excluded_features_columns)"
   ]
  },
  {
   "cell_type": "code",
   "execution_count": 24,
   "id": "37fef0f0",
   "metadata": {
    "execution": {
     "iopub.execute_input": "2025-08-19T18:16:45.103603Z",
     "iopub.status.busy": "2025-08-19T18:16:45.102087Z",
     "iopub.status.idle": "2025-08-19T18:16:45.111599Z",
     "shell.execute_reply": "2025-08-19T18:16:45.109953Z"
    },
    "papermill": {
     "duration": 0.022957,
     "end_time": "2025-08-19T18:16:45.113471",
     "exception": false,
     "start_time": "2025-08-19T18:16:45.090514",
     "status": "completed"
    },
    "tags": []
   },
   "outputs": [],
   "source": [
    "if len(excluded_features_columns) > 0:\n",
    "    print(f\"Dropping features: {excluded_features_columns}\")\n",
    "    X_train.drop(excluded_features_columns, axis=1, inplace=True)"
   ]
  },
  {
   "cell_type": "code",
   "execution_count": 25,
   "id": "d029e3e9",
   "metadata": {
    "execution": {
     "iopub.execute_input": "2025-08-19T18:16:45.140008Z",
     "iopub.status.busy": "2025-08-19T18:16:45.138487Z",
     "iopub.status.idle": "2025-08-19T18:16:45.148011Z",
     "shell.execute_reply": "2025-08-19T18:16:45.146390Z"
    },
    "papermill": {
     "duration": 0.023403,
     "end_time": "2025-08-19T18:16:45.149902",
     "exception": false,
     "start_time": "2025-08-19T18:16:45.126499",
     "status": "completed"
    },
    "tags": []
   },
   "outputs": [],
   "source": [
    "if len(excluded_features_columns) > 0:\n",
    "    print(f\"Dropping features: {excluded_features_columns}\")\n",
    "    X_test.drop(excluded_features_columns, axis=1, inplace=True)"
   ]
  },
  {
   "cell_type": "code",
   "execution_count": 26,
   "id": "01d571f0",
   "metadata": {
    "execution": {
     "iopub.execute_input": "2025-08-19T18:16:45.176521Z",
     "iopub.status.busy": "2025-08-19T18:16:45.175234Z",
     "iopub.status.idle": "2025-08-19T18:16:45.184759Z",
     "shell.execute_reply": "2025-08-19T18:16:45.183134Z"
    },
    "papermill": {
     "duration": 0.023132,
     "end_time": "2025-08-19T18:16:45.186410",
     "exception": false,
     "start_time": "2025-08-19T18:16:45.163278",
     "status": "completed"
    },
    "tags": []
   },
   "outputs": [],
   "source": [
    "if len(excluded_features_columns) > 0:\n",
    "    print(f\"Dropping features: {excluded_features_columns}\")\n",
    "    X_calib.drop(excluded_features_columns, axis=1, inplace=True)"
   ]
  },
  {
   "cell_type": "code",
   "execution_count": 27,
   "id": "3037356e",
   "metadata": {
    "execution": {
     "iopub.execute_input": "2025-08-19T18:16:45.212630Z",
     "iopub.status.busy": "2025-08-19T18:16:45.211647Z",
     "iopub.status.idle": "2025-08-19T18:16:45.219975Z",
     "shell.execute_reply": "2025-08-19T18:16:45.218479Z"
    },
    "papermill": {
     "duration": 0.021898,
     "end_time": "2025-08-19T18:16:45.221678",
     "exception": false,
     "start_time": "2025-08-19T18:16:45.199780",
     "status": "completed"
    },
    "tags": []
   },
   "outputs": [],
   "source": [
    "# EXCLUDE CERTAIN SUBGROUPS\n",
    "# -------------------------\n",
    "\n",
    "mode = universe.get(\"exclude_subgroups\", \"keep-all\") # Defaults to \"keep-all\" if the key is missing."
   ]
  },
  {
   "cell_type": "code",
   "execution_count": 28,
   "id": "9d1e63fd",
   "metadata": {
    "execution": {
     "iopub.execute_input": "2025-08-19T18:16:45.249071Z",
     "iopub.status.busy": "2025-08-19T18:16:45.247641Z",
     "iopub.status.idle": "2025-08-19T18:16:45.258740Z",
     "shell.execute_reply": "2025-08-19T18:16:45.257189Z"
    },
    "papermill": {
     "duration": 0.025061,
     "end_time": "2025-08-19T18:16:45.260376",
     "exception": false,
     "start_time": "2025-08-19T18:16:45.235315",
     "status": "completed"
    },
    "tags": []
   },
   "outputs": [],
   "source": [
    "if mode == \"keep-all\":\n",
    "    keep_mask = pd.Series(True, index=org_train.index)\n",
    "\n",
    "elif mode == \"drop-non-german\":\n",
    "    keep_mask = (org_train[\"maxdeutsch1\"] == 1) & (org_train[\"maxdeutsch.Missing.\"] == 0)\n",
    "\n",
    "else:\n",
    "    raise ValueError(f\"Unsupported mode for exclude_subgroups: {mode}\")"
   ]
  },
  {
   "cell_type": "code",
   "execution_count": 29,
   "id": "d3b65474",
   "metadata": {
    "execution": {
     "iopub.execute_input": "2025-08-19T18:16:45.286013Z",
     "iopub.status.busy": "2025-08-19T18:16:45.285079Z",
     "iopub.status.idle": "2025-08-19T18:16:45.295484Z",
     "shell.execute_reply": "2025-08-19T18:16:45.293899Z"
    },
    "papermill": {
     "duration": 0.023525,
     "end_time": "2025-08-19T18:16:45.297061",
     "exception": false,
     "start_time": "2025-08-19T18:16:45.273536",
     "status": "completed"
    },
    "tags": []
   },
   "outputs": [],
   "source": [
    "n_drop = (~keep_mask).sum() # Calculates how many rows are set to be dropped\n",
    "if n_drop > 0:\n",
    "    pct = n_drop / len(keep_mask) * 100\n",
    "    print(f\"Dropping {n_drop} rows ({pct:.2f}%) where mode='{mode}'\")"
   ]
  },
  {
   "cell_type": "code",
   "execution_count": 30,
   "id": "f44389b3",
   "metadata": {
    "execution": {
     "iopub.execute_input": "2025-08-19T18:16:45.323044Z",
     "iopub.status.busy": "2025-08-19T18:16:45.322088Z",
     "iopub.status.idle": "2025-08-19T18:16:45.359553Z",
     "shell.execute_reply": "2025-08-19T18:16:45.358823Z"
    },
    "papermill": {
     "duration": 0.052001,
     "end_time": "2025-08-19T18:16:45.362477",
     "exception": false,
     "start_time": "2025-08-19T18:16:45.310476",
     "status": "completed"
    },
    "tags": []
   },
   "outputs": [],
   "source": [
    "X_train = X_train[keep_mask]"
   ]
  },
  {
   "cell_type": "code",
   "execution_count": 31,
   "id": "ceca8c2a",
   "metadata": {
    "execution": {
     "iopub.execute_input": "2025-08-19T18:16:45.400831Z",
     "iopub.status.busy": "2025-08-19T18:16:45.399746Z",
     "iopub.status.idle": "2025-08-19T18:16:45.410104Z",
     "shell.execute_reply": "2025-08-19T18:16:45.408538Z"
    },
    "papermill": {
     "duration": 0.025506,
     "end_time": "2025-08-19T18:16:45.411606",
     "exception": false,
     "start_time": "2025-08-19T18:16:45.386100",
     "status": "completed"
    },
    "tags": []
   },
   "outputs": [],
   "source": [
    "y_train = y_train[keep_mask]"
   ]
  },
  {
   "cell_type": "markdown",
   "id": "04d31e2f",
   "metadata": {
    "papermill": {
     "duration": 0.010324,
     "end_time": "2025-08-19T18:16:45.435365",
     "exception": false,
     "start_time": "2025-08-19T18:16:45.425041",
     "status": "completed"
    },
    "tags": []
   },
   "source": [
    "# Model Training"
   ]
  },
  {
   "cell_type": "code",
   "execution_count": 32,
   "id": "db991733",
   "metadata": {
    "execution": {
     "iopub.execute_input": "2025-08-19T18:16:45.458814Z",
     "iopub.status.busy": "2025-08-19T18:16:45.457562Z",
     "iopub.status.idle": "2025-08-19T18:16:45.558540Z",
     "shell.execute_reply": "2025-08-19T18:16:45.557879Z"
    },
    "papermill": {
     "duration": 0.115478,
     "end_time": "2025-08-19T18:16:45.561160",
     "exception": false,
     "start_time": "2025-08-19T18:16:45.445682",
     "status": "completed"
    },
    "tags": []
   },
   "outputs": [],
   "source": [
    "from sklearn.linear_model import LogisticRegression\n",
    "from sklearn.ensemble import GradientBoostingClassifier, RandomForestClassifier\n",
    "\n",
    "if (universe[\"model\"] == \"logreg\"):\n",
    "    model = LogisticRegression() #penalty=\"none\", solver=\"newton-cg\", max_iter=1)\n",
    "elif (universe[\"model\"] == \"penalized_logreg\"):\n",
    "    model = LogisticRegression(penalty=\"l2\", C=0.1) #, solver=\"newton-cg\", max_iter=1)\n",
    "elif (universe[\"model\"] == \"rf\"):\n",
    "    model = RandomForestClassifier() # n_estimators=100, n_jobs=-1\n",
    "elif (universe[\"model\"] == \"gbm\"):\n",
    "    model = GradientBoostingClassifier()\n",
    "elif (universe[\"model\"] == \"elasticnet\"):\n",
    "    model = LogisticRegression(penalty = 'elasticnet', solver = 'saga', l1_ratio = 0.5) # max_iter=5000\n",
    "else:\n",
    "    raise \"Unsupported universe.model\""
   ]
  },
  {
   "cell_type": "code",
   "execution_count": 33,
   "id": "a4b5cd25",
   "metadata": {
    "execution": {
     "iopub.execute_input": "2025-08-19T18:16:45.600959Z",
     "iopub.status.busy": "2025-08-19T18:16:45.600020Z",
     "iopub.status.idle": "2025-08-19T18:16:45.609789Z",
     "shell.execute_reply": "2025-08-19T18:16:45.608142Z"
    },
    "papermill": {
     "duration": 0.025344,
     "end_time": "2025-08-19T18:16:45.611429",
     "exception": false,
     "start_time": "2025-08-19T18:16:45.586085",
     "status": "completed"
    },
    "tags": []
   },
   "outputs": [],
   "source": [
    "from sklearn.pipeline import Pipeline\n",
    "from sklearn.preprocessing import StandardScaler\n",
    "\n",
    "model = Pipeline([\n",
    "    #(\"continuous_processor\", continuous_processor),\n",
    "    #(\"categorical_preprocessor\", categorical_preprocessor),\n",
    "    (\"scale\", StandardScaler() if universe[\"scale\"] == \"scale\" else None), \n",
    "    (\"model\", model),\n",
    "])"
   ]
  },
  {
   "cell_type": "code",
   "execution_count": 34,
   "id": "283a904d",
   "metadata": {
    "execution": {
     "iopub.execute_input": "2025-08-19T18:16:45.638875Z",
     "iopub.status.busy": "2025-08-19T18:16:45.637641Z",
     "iopub.status.idle": "2025-08-19T18:16:52.604139Z",
     "shell.execute_reply": "2025-08-19T18:16:52.603349Z"
    },
    "papermill": {
     "duration": 6.982968,
     "end_time": "2025-08-19T18:16:52.608512",
     "exception": false,
     "start_time": "2025-08-19T18:16:45.625544",
     "status": "completed"
    },
    "tags": []
   },
   "outputs": [
    {
     "name": "stderr",
     "output_type": "stream",
     "text": [
      "/dss/dsshome1/0C/ra93lal2/.local/share/virtualenvs/CMA_Fairness_v2-3j10GkSs/lib/python3.10/site-packages/sklearn/linear_model/_sag.py:350: ConvergenceWarning: The max_iter was reached which means the coef_ did not converge\n",
      "  warnings.warn(\n"
     ]
    },
    {
     "data": {
      "text/html": [
       "<style>#sk-container-id-1 {color: black;background-color: white;}#sk-container-id-1 pre{padding: 0;}#sk-container-id-1 div.sk-toggleable {background-color: white;}#sk-container-id-1 label.sk-toggleable__label {cursor: pointer;display: block;width: 100%;margin-bottom: 0;padding: 0.3em;box-sizing: border-box;text-align: center;}#sk-container-id-1 label.sk-toggleable__label-arrow:before {content: \"▸\";float: left;margin-right: 0.25em;color: #696969;}#sk-container-id-1 label.sk-toggleable__label-arrow:hover:before {color: black;}#sk-container-id-1 div.sk-estimator:hover label.sk-toggleable__label-arrow:before {color: black;}#sk-container-id-1 div.sk-toggleable__content {max-height: 0;max-width: 0;overflow: hidden;text-align: left;background-color: #f0f8ff;}#sk-container-id-1 div.sk-toggleable__content pre {margin: 0.2em;color: black;border-radius: 0.25em;background-color: #f0f8ff;}#sk-container-id-1 input.sk-toggleable__control:checked~div.sk-toggleable__content {max-height: 200px;max-width: 100%;overflow: auto;}#sk-container-id-1 input.sk-toggleable__control:checked~label.sk-toggleable__label-arrow:before {content: \"▾\";}#sk-container-id-1 div.sk-estimator input.sk-toggleable__control:checked~label.sk-toggleable__label {background-color: #d4ebff;}#sk-container-id-1 div.sk-label input.sk-toggleable__control:checked~label.sk-toggleable__label {background-color: #d4ebff;}#sk-container-id-1 input.sk-hidden--visually {border: 0;clip: rect(1px 1px 1px 1px);clip: rect(1px, 1px, 1px, 1px);height: 1px;margin: -1px;overflow: hidden;padding: 0;position: absolute;width: 1px;}#sk-container-id-1 div.sk-estimator {font-family: monospace;background-color: #f0f8ff;border: 1px dotted black;border-radius: 0.25em;box-sizing: border-box;margin-bottom: 0.5em;}#sk-container-id-1 div.sk-estimator:hover {background-color: #d4ebff;}#sk-container-id-1 div.sk-parallel-item::after {content: \"\";width: 100%;border-bottom: 1px solid gray;flex-grow: 1;}#sk-container-id-1 div.sk-label:hover label.sk-toggleable__label {background-color: #d4ebff;}#sk-container-id-1 div.sk-serial::before {content: \"\";position: absolute;border-left: 1px solid gray;box-sizing: border-box;top: 0;bottom: 0;left: 50%;z-index: 0;}#sk-container-id-1 div.sk-serial {display: flex;flex-direction: column;align-items: center;background-color: white;padding-right: 0.2em;padding-left: 0.2em;position: relative;}#sk-container-id-1 div.sk-item {position: relative;z-index: 1;}#sk-container-id-1 div.sk-parallel {display: flex;align-items: stretch;justify-content: center;background-color: white;position: relative;}#sk-container-id-1 div.sk-item::before, #sk-container-id-1 div.sk-parallel-item::before {content: \"\";position: absolute;border-left: 1px solid gray;box-sizing: border-box;top: 0;bottom: 0;left: 50%;z-index: -1;}#sk-container-id-1 div.sk-parallel-item {display: flex;flex-direction: column;z-index: 1;position: relative;background-color: white;}#sk-container-id-1 div.sk-parallel-item:first-child::after {align-self: flex-end;width: 50%;}#sk-container-id-1 div.sk-parallel-item:last-child::after {align-self: flex-start;width: 50%;}#sk-container-id-1 div.sk-parallel-item:only-child::after {width: 0;}#sk-container-id-1 div.sk-dashed-wrapped {border: 1px dashed gray;margin: 0 0.4em 0.5em 0.4em;box-sizing: border-box;padding-bottom: 0.4em;background-color: white;}#sk-container-id-1 div.sk-label label {font-family: monospace;font-weight: bold;display: inline-block;line-height: 1.2em;}#sk-container-id-1 div.sk-label-container {text-align: center;}#sk-container-id-1 div.sk-container {/* jupyter's `normalize.less` sets `[hidden] { display: none; }` but bootstrap.min.css set `[hidden] { display: none !important; }` so we also need the `!important` here to be able to override the default hidden behavior on the sphinx rendered scikit-learn.org. See: https://github.com/scikit-learn/scikit-learn/issues/21755 */display: inline-block !important;position: relative;}#sk-container-id-1 div.sk-text-repr-fallback {display: none;}</style><div id=\"sk-container-id-1\" class=\"sk-top-container\"><div class=\"sk-text-repr-fallback\"><pre>Pipeline(steps=[(&#x27;scale&#x27;, StandardScaler()),\n",
       "                (&#x27;model&#x27;,\n",
       "                 LogisticRegression(l1_ratio=0.5, penalty=&#x27;elasticnet&#x27;,\n",
       "                                    solver=&#x27;saga&#x27;))])</pre><b>In a Jupyter environment, please rerun this cell to show the HTML representation or trust the notebook. <br />On GitHub, the HTML representation is unable to render, please try loading this page with nbviewer.org.</b></div><div class=\"sk-container\" hidden><div class=\"sk-item sk-dashed-wrapped\"><div class=\"sk-label-container\"><div class=\"sk-label sk-toggleable\"><input class=\"sk-toggleable__control sk-hidden--visually\" id=\"sk-estimator-id-1\" type=\"checkbox\" ><label for=\"sk-estimator-id-1\" class=\"sk-toggleable__label sk-toggleable__label-arrow\">Pipeline</label><div class=\"sk-toggleable__content\"><pre>Pipeline(steps=[(&#x27;scale&#x27;, StandardScaler()),\n",
       "                (&#x27;model&#x27;,\n",
       "                 LogisticRegression(l1_ratio=0.5, penalty=&#x27;elasticnet&#x27;,\n",
       "                                    solver=&#x27;saga&#x27;))])</pre></div></div></div><div class=\"sk-serial\"><div class=\"sk-item\"><div class=\"sk-estimator sk-toggleable\"><input class=\"sk-toggleable__control sk-hidden--visually\" id=\"sk-estimator-id-2\" type=\"checkbox\" ><label for=\"sk-estimator-id-2\" class=\"sk-toggleable__label sk-toggleable__label-arrow\">StandardScaler</label><div class=\"sk-toggleable__content\"><pre>StandardScaler()</pre></div></div></div><div class=\"sk-item\"><div class=\"sk-estimator sk-toggleable\"><input class=\"sk-toggleable__control sk-hidden--visually\" id=\"sk-estimator-id-3\" type=\"checkbox\" ><label for=\"sk-estimator-id-3\" class=\"sk-toggleable__label sk-toggleable__label-arrow\">LogisticRegression</label><div class=\"sk-toggleable__content\"><pre>LogisticRegression(l1_ratio=0.5, penalty=&#x27;elasticnet&#x27;, solver=&#x27;saga&#x27;)</pre></div></div></div></div></div></div></div>"
      ],
      "text/plain": [
       "Pipeline(steps=[('scale', StandardScaler()),\n",
       "                ('model',\n",
       "                 LogisticRegression(l1_ratio=0.5, penalty='elasticnet',\n",
       "                                    solver='saga'))])"
      ]
     },
     "execution_count": 34,
     "metadata": {},
     "output_type": "execute_result"
    }
   ],
   "source": [
    "model.fit(X_train, y_train.values.ravel())"
   ]
  },
  {
   "cell_type": "code",
   "execution_count": 35,
   "id": "6e15e313",
   "metadata": {
    "execution": {
     "iopub.execute_input": "2025-08-19T18:16:52.647567Z",
     "iopub.status.busy": "2025-08-19T18:16:52.646199Z",
     "iopub.status.idle": "2025-08-19T18:16:52.852857Z",
     "shell.execute_reply": "2025-08-19T18:16:52.852217Z"
    },
    "papermill": {
     "duration": 0.223126,
     "end_time": "2025-08-19T18:16:52.855465",
     "exception": false,
     "start_time": "2025-08-19T18:16:52.632339",
     "status": "completed"
    },
    "tags": []
   },
   "outputs": [
    {
     "data": {
      "text/plain": [
       "0.8602719875153272"
      ]
     },
     "execution_count": 35,
     "metadata": {},
     "output_type": "execute_result"
    }
   ],
   "source": [
    "from fairness_multiverse.universe import predict_w_threshold\n",
    "\n",
    "probs_test = model.predict_proba(X_test)\n",
    "\n",
    "'''\n",
    "Below code returns a boolean array (or binary 0/1 array depending on how it’s used) where each element \n",
    "is True if the probability of class 1 is greater than or equal to the threshold, and False otherwise.\n",
    "'''\n",
    "y_pred_default = predict_w_threshold(probs_test, 0.5)\n",
    "\n",
    "from sklearn.metrics import accuracy_score\n",
    "\n",
    "# Naive prediction\n",
    "accuracy_score(y_true = y_true, y_pred = y_pred_default)"
   ]
  },
  {
   "cell_type": "code",
   "execution_count": 36,
   "id": "6f14067c",
   "metadata": {
    "execution": {
     "iopub.execute_input": "2025-08-19T18:16:52.895028Z",
     "iopub.status.busy": "2025-08-19T18:16:52.894136Z",
     "iopub.status.idle": "2025-08-19T18:16:53.079768Z",
     "shell.execute_reply": "2025-08-19T18:16:53.079037Z"
    },
    "papermill": {
     "duration": 0.203197,
     "end_time": "2025-08-19T18:16:53.083082",
     "exception": false,
     "start_time": "2025-08-19T18:16:52.879885",
     "status": "completed"
    },
    "tags": []
   },
   "outputs": [
    {
     "data": {
      "text/plain": [
       "array([0, 0, 0, ..., 0, 0, 0])"
      ]
     },
     "execution_count": 36,
     "metadata": {},
     "output_type": "execute_result"
    }
   ],
   "source": [
    "model.predict(X_test)"
   ]
  },
  {
   "cell_type": "markdown",
   "id": "3759920c",
   "metadata": {
    "papermill": {
     "duration": 0.011011,
     "end_time": "2025-08-19T18:16:53.111454",
     "exception": false,
     "start_time": "2025-08-19T18:16:53.100443",
     "status": "completed"
    },
    "tags": []
   },
   "source": [
    "# Conformal Prediction"
   ]
  },
  {
   "cell_type": "code",
   "execution_count": 37,
   "id": "14b27f59",
   "metadata": {
    "execution": {
     "iopub.execute_input": "2025-08-19T18:16:53.136556Z",
     "iopub.status.busy": "2025-08-19T18:16:53.135215Z",
     "iopub.status.idle": "2025-08-19T18:16:53.143518Z",
     "shell.execute_reply": "2025-08-19T18:16:53.141934Z"
    },
    "papermill": {
     "duration": 0.022347,
     "end_time": "2025-08-19T18:16:53.145164",
     "exception": false,
     "start_time": "2025-08-19T18:16:53.122817",
     "status": "completed"
    },
    "tags": []
   },
   "outputs": [],
   "source": [
    "# Miscoverage level for conformal prediction (10% allowed error rate => 90% target coverage)\n",
    "alpha = 0.1"
   ]
  },
  {
   "cell_type": "code",
   "execution_count": 38,
   "id": "59102472",
   "metadata": {
    "execution": {
     "iopub.execute_input": "2025-08-19T18:16:53.172028Z",
     "iopub.status.busy": "2025-08-19T18:16:53.170772Z",
     "iopub.status.idle": "2025-08-19T18:16:53.366492Z",
     "shell.execute_reply": "2025-08-19T18:16:53.365441Z"
    },
    "papermill": {
     "duration": 0.209865,
     "end_time": "2025-08-19T18:16:53.368064",
     "exception": false,
     "start_time": "2025-08-19T18:16:53.158199",
     "status": "completed"
    },
    "tags": []
   },
   "outputs": [],
   "source": [
    "probs_calib = model.predict_proba(X_calib)"
   ]
  },
  {
   "cell_type": "code",
   "execution_count": 39,
   "id": "a792d4dd",
   "metadata": {
    "execution": {
     "iopub.execute_input": "2025-08-19T18:16:53.397014Z",
     "iopub.status.busy": "2025-08-19T18:16:53.395874Z",
     "iopub.status.idle": "2025-08-19T18:16:53.403692Z",
     "shell.execute_reply": "2025-08-19T18:16:53.402553Z"
    },
    "papermill": {
     "duration": 0.021889,
     "end_time": "2025-08-19T18:16:53.405079",
     "exception": false,
     "start_time": "2025-08-19T18:16:53.383190",
     "status": "completed"
    },
    "tags": []
   },
   "outputs": [],
   "source": [
    "y_calib = y_calib.values.ravel().astype(int)"
   ]
  },
  {
   "cell_type": "code",
   "execution_count": 40,
   "id": "650fd033",
   "metadata": {
    "execution": {
     "iopub.execute_input": "2025-08-19T18:16:53.431852Z",
     "iopub.status.busy": "2025-08-19T18:16:53.430726Z",
     "iopub.status.idle": "2025-08-19T18:16:53.438447Z",
     "shell.execute_reply": "2025-08-19T18:16:53.437686Z"
    },
    "papermill": {
     "duration": 0.021739,
     "end_time": "2025-08-19T18:16:53.439748",
     "exception": false,
     "start_time": "2025-08-19T18:16:53.418009",
     "status": "completed"
    },
    "tags": []
   },
   "outputs": [],
   "source": [
    "from fairness_multiverse.conformal import compute_nc_scores\n",
    "\n",
    "# Compute nonconformity scores on calibration set (1 - probability of true class)\n",
    "nc_scores = compute_nc_scores(probs_calib, y_calib)"
   ]
  },
  {
   "cell_type": "code",
   "execution_count": 41,
   "id": "28ada44c",
   "metadata": {
    "execution": {
     "iopub.execute_input": "2025-08-19T18:16:53.466080Z",
     "iopub.status.busy": "2025-08-19T18:16:53.465169Z",
     "iopub.status.idle": "2025-08-19T18:16:53.473605Z",
     "shell.execute_reply": "2025-08-19T18:16:53.472539Z"
    },
    "papermill": {
     "duration": 0.022814,
     "end_time": "2025-08-19T18:16:53.475092",
     "exception": false,
     "start_time": "2025-08-19T18:16:53.452278",
     "status": "completed"
    },
    "tags": []
   },
   "outputs": [],
   "source": [
    "from fairness_multiverse.conformal import find_threshold\n",
    "\n",
    "# Find conformal threshold q_hat for the given alpha (split conformal method)\n",
    "q_hat = find_threshold(nc_scores, alpha)"
   ]
  },
  {
   "cell_type": "code",
   "execution_count": 42,
   "id": "df56469e",
   "metadata": {
    "execution": {
     "iopub.execute_input": "2025-08-19T18:16:53.501026Z",
     "iopub.status.busy": "2025-08-19T18:16:53.500118Z",
     "iopub.status.idle": "2025-08-19T18:16:53.510032Z",
     "shell.execute_reply": "2025-08-19T18:16:53.508803Z"
    },
    "papermill": {
     "duration": 0.023724,
     "end_time": "2025-08-19T18:16:53.511415",
     "exception": false,
     "start_time": "2025-08-19T18:16:53.487691",
     "status": "completed"
    },
    "tags": []
   },
   "outputs": [
    {
     "data": {
      "text/plain": [
       "0.6601257828794769"
      ]
     },
     "execution_count": 42,
     "metadata": {},
     "output_type": "execute_result"
    }
   ],
   "source": [
    "q_hat"
   ]
  },
  {
   "cell_type": "code",
   "execution_count": 43,
   "id": "aa1f5faa",
   "metadata": {
    "execution": {
     "iopub.execute_input": "2025-08-19T18:16:53.537258Z",
     "iopub.status.busy": "2025-08-19T18:16:53.536702Z",
     "iopub.status.idle": "2025-08-19T18:16:54.135981Z",
     "shell.execute_reply": "2025-08-19T18:16:54.134840Z"
    },
    "papermill": {
     "duration": 0.615161,
     "end_time": "2025-08-19T18:16:54.138999",
     "exception": false,
     "start_time": "2025-08-19T18:16:53.523838",
     "status": "completed"
    },
    "tags": []
   },
   "outputs": [],
   "source": [
    "from fairness_multiverse.conformal import predict_conformal_sets\n",
    "\n",
    "# Generate prediction sets for each test example\n",
    "pred_sets = predict_conformal_sets(model, X_test, q_hat)"
   ]
  },
  {
   "cell_type": "code",
   "execution_count": 44,
   "id": "97f67a6b",
   "metadata": {
    "execution": {
     "iopub.execute_input": "2025-08-19T18:16:54.180338Z",
     "iopub.status.busy": "2025-08-19T18:16:54.179307Z",
     "iopub.status.idle": "2025-08-19T18:16:54.186965Z",
     "shell.execute_reply": "2025-08-19T18:16:54.185781Z"
    },
    "papermill": {
     "duration": 0.023615,
     "end_time": "2025-08-19T18:16:54.188547",
     "exception": false,
     "start_time": "2025-08-19T18:16:54.164932",
     "status": "completed"
    },
    "tags": []
   },
   "outputs": [],
   "source": [
    "y_true = y_true.squeeze()"
   ]
  },
  {
   "cell_type": "code",
   "execution_count": 45,
   "id": "e700e9a7",
   "metadata": {
    "execution": {
     "iopub.execute_input": "2025-08-19T18:16:54.215376Z",
     "iopub.status.busy": "2025-08-19T18:16:54.214454Z",
     "iopub.status.idle": "2025-08-19T18:16:54.705113Z",
     "shell.execute_reply": "2025-08-19T18:16:54.704051Z"
    },
    "papermill": {
     "duration": 0.50633,
     "end_time": "2025-08-19T18:16:54.707957",
     "exception": false,
     "start_time": "2025-08-19T18:16:54.201627",
     "status": "completed"
    },
    "tags": []
   },
   "outputs": [],
   "source": [
    "from fairness_multiverse.conformal import evaluate_sets\n",
    "\n",
    "# Evaluate coverage and average set size on test data\n",
    "metrics = evaluate_sets(pred_sets, y_true)"
   ]
  },
  {
   "cell_type": "markdown",
   "id": "efbacec0",
   "metadata": {
    "papermill": {
     "duration": 0.012975,
     "end_time": "2025-08-19T18:16:54.747526",
     "exception": false,
     "start_time": "2025-08-19T18:16:54.734551",
     "status": "completed"
    },
    "tags": []
   },
   "source": [
    "# CP Metrics"
   ]
  },
  {
   "cell_type": "code",
   "execution_count": 46,
   "id": "9de55fb1",
   "metadata": {
    "execution": {
     "iopub.execute_input": "2025-08-19T18:16:54.772560Z",
     "iopub.status.busy": "2025-08-19T18:16:54.771612Z",
     "iopub.status.idle": "2025-08-19T18:16:54.781392Z",
     "shell.execute_reply": "2025-08-19T18:16:54.780080Z"
    },
    "papermill": {
     "duration": 0.024102,
     "end_time": "2025-08-19T18:16:54.782854",
     "exception": false,
     "start_time": "2025-08-19T18:16:54.758752",
     "status": "completed"
    },
    "tags": []
   },
   "outputs": [
    {
     "data": {
      "text/plain": [
       "{'coverage': 0.9105673837922194, 'avg_size': 1.1255935793111136}"
      ]
     },
     "execution_count": 46,
     "metadata": {},
     "output_type": "execute_result"
    }
   ],
   "source": [
    "metrics"
   ]
  },
  {
   "cell_type": "code",
   "execution_count": 47,
   "id": "64c340a1",
   "metadata": {
    "execution": {
     "iopub.execute_input": "2025-08-19T18:16:54.808603Z",
     "iopub.status.busy": "2025-08-19T18:16:54.807668Z",
     "iopub.status.idle": "2025-08-19T18:16:54.817145Z",
     "shell.execute_reply": "2025-08-19T18:16:54.815858Z"
    },
    "papermill": {
     "duration": 0.023881,
     "end_time": "2025-08-19T18:16:54.818770",
     "exception": false,
     "start_time": "2025-08-19T18:16:54.794889",
     "status": "completed"
    },
    "tags": []
   },
   "outputs": [],
   "source": [
    "example_universe = universe.copy()\n",
    "universe_training_year = example_universe.get(\"training_year\")\n",
    "universe_training_size = example_universe.get(\"training_size\")\n",
    "universe_scale = example_universe.get(\"scale\")\n",
    "universe_model = example_universe.get(\"model\")\n",
    "universe_exclude_features = example_universe.get(\"exclude_features\")\n",
    "universe_exclude_subgroups = example_universe.get(\"exclude_subgroups\")"
   ]
  },
  {
   "cell_type": "code",
   "execution_count": 48,
   "id": "dbb53cb4",
   "metadata": {
    "execution": {
     "iopub.execute_input": "2025-08-19T18:16:54.846737Z",
     "iopub.status.busy": "2025-08-19T18:16:54.845822Z",
     "iopub.status.idle": "2025-08-19T18:16:54.855404Z",
     "shell.execute_reply": "2025-08-19T18:16:54.854140Z"
    },
    "papermill": {
     "duration": 0.024846,
     "end_time": "2025-08-19T18:16:54.857839",
     "exception": false,
     "start_time": "2025-08-19T18:16:54.832993",
     "status": "completed"
    },
    "tags": []
   },
   "outputs": [],
   "source": [
    "cp_metrics_dict = {\n",
    "    \"universe_id\": [universe_id],\n",
    "    \"universe_training_year\": [universe_training_year],\n",
    "    \"universe_training_size\": [universe_training_size],\n",
    "    \"universe_scale\": [universe_scale],\n",
    "    \"universe_model\": [universe_model],\n",
    "    \"universe_exclude_features\": [universe_exclude_features],\n",
    "    \"universe_exclude_subgroups\": [universe_exclude_subgroups],\n",
    "    \"q_hat\": [q_hat],\n",
    "    \"coverage\": [metrics[\"coverage\"]],\n",
    "    \"avg_size\": [metrics[\"avg_size\"]],\n",
    "}"
   ]
  },
  {
   "cell_type": "code",
   "execution_count": 49,
   "id": "0d70d4b2",
   "metadata": {
    "execution": {
     "iopub.execute_input": "2025-08-19T18:16:54.892864Z",
     "iopub.status.busy": "2025-08-19T18:16:54.891991Z",
     "iopub.status.idle": "2025-08-19T18:16:54.901455Z",
     "shell.execute_reply": "2025-08-19T18:16:54.899985Z"
    },
    "papermill": {
     "duration": 0.032772,
     "end_time": "2025-08-19T18:16:54.903223",
     "exception": false,
     "start_time": "2025-08-19T18:16:54.870451",
     "status": "completed"
    },
    "tags": []
   },
   "outputs": [],
   "source": [
    "cp_metrics_df = pd.DataFrame(cp_metrics_dict)"
   ]
  },
  {
   "cell_type": "code",
   "execution_count": 50,
   "id": "b494403c",
   "metadata": {
    "execution": {
     "iopub.execute_input": "2025-08-19T18:16:54.932044Z",
     "iopub.status.busy": "2025-08-19T18:16:54.931094Z",
     "iopub.status.idle": "2025-08-19T18:16:54.954462Z",
     "shell.execute_reply": "2025-08-19T18:16:54.953291Z"
    },
    "papermill": {
     "duration": 0.038725,
     "end_time": "2025-08-19T18:16:54.956887",
     "exception": false,
     "start_time": "2025-08-19T18:16:54.918162",
     "status": "completed"
    },
    "tags": []
   },
   "outputs": [
    {
     "data": {
      "text/html": [
       "<div>\n",
       "<style scoped>\n",
       "    .dataframe tbody tr th:only-of-type {\n",
       "        vertical-align: middle;\n",
       "    }\n",
       "\n",
       "    .dataframe tbody tr th {\n",
       "        vertical-align: top;\n",
       "    }\n",
       "\n",
       "    .dataframe thead th {\n",
       "        text-align: right;\n",
       "    }\n",
       "</style>\n",
       "<table border=\"1\" class=\"dataframe\">\n",
       "  <thead>\n",
       "    <tr style=\"text-align: right;\">\n",
       "      <th></th>\n",
       "      <th>universe_id</th>\n",
       "      <th>universe_training_year</th>\n",
       "      <th>universe_training_size</th>\n",
       "      <th>universe_scale</th>\n",
       "      <th>universe_model</th>\n",
       "      <th>universe_exclude_features</th>\n",
       "      <th>universe_exclude_subgroups</th>\n",
       "      <th>q_hat</th>\n",
       "      <th>coverage</th>\n",
       "      <th>avg_size</th>\n",
       "    </tr>\n",
       "  </thead>\n",
       "  <tbody>\n",
       "    <tr>\n",
       "      <th>0</th>\n",
       "      <td>1ea6288425370dde7fef0a29257557cd</td>\n",
       "      <td>2010_14</td>\n",
       "      <td>25k</td>\n",
       "      <td>scale</td>\n",
       "      <td>elasticnet</td>\n",
       "      <td>none</td>\n",
       "      <td>keep-all</td>\n",
       "      <td>0.660126</td>\n",
       "      <td>0.910567</td>\n",
       "      <td>1.125594</td>\n",
       "    </tr>\n",
       "  </tbody>\n",
       "</table>\n",
       "</div>"
      ],
      "text/plain": [
       "                        universe_id universe_training_year  \\\n",
       "0  1ea6288425370dde7fef0a29257557cd                2010_14   \n",
       "\n",
       "  universe_training_size universe_scale universe_model  \\\n",
       "0                    25k          scale     elasticnet   \n",
       "\n",
       "  universe_exclude_features universe_exclude_subgroups     q_hat  coverage  \\\n",
       "0                      none                   keep-all  0.660126  0.910567   \n",
       "\n",
       "   avg_size  \n",
       "0  1.125594  "
      ]
     },
     "execution_count": 50,
     "metadata": {},
     "output_type": "execute_result"
    }
   ],
   "source": [
    "cp_metrics_df"
   ]
  },
  {
   "cell_type": "markdown",
   "id": "ed608b0b",
   "metadata": {
    "papermill": {
     "duration": 0.012384,
     "end_time": "2025-08-19T18:16:54.989733",
     "exception": false,
     "start_time": "2025-08-19T18:16:54.977349",
     "status": "completed"
    },
    "tags": []
   },
   "source": [
    "Conditional coverage & looking at subgroups"
   ]
  },
  {
   "cell_type": "code",
   "execution_count": 51,
   "id": "8968c366",
   "metadata": {
    "execution": {
     "iopub.execute_input": "2025-08-19T18:16:55.016649Z",
     "iopub.status.busy": "2025-08-19T18:16:55.015116Z",
     "iopub.status.idle": "2025-08-19T18:16:55.266747Z",
     "shell.execute_reply": "2025-08-19T18:16:55.266040Z"
    },
    "papermill": {
     "duration": 0.268058,
     "end_time": "2025-08-19T18:16:55.269605",
     "exception": false,
     "start_time": "2025-08-19T18:16:55.001547",
     "status": "completed"
    },
    "tags": []
   },
   "outputs": [],
   "source": [
    "from fairness_multiverse.conformal import build_cp_groups\n",
    "\n",
    "cp_groups_df = build_cp_groups(pred_sets, y_true, X_test.index, org_test)"
   ]
  },
  {
   "cell_type": "code",
   "execution_count": 52,
   "id": "292ddabf",
   "metadata": {
    "execution": {
     "iopub.execute_input": "2025-08-19T18:16:55.312740Z",
     "iopub.status.busy": "2025-08-19T18:16:55.311752Z",
     "iopub.status.idle": "2025-08-19T18:16:56.189757Z",
     "shell.execute_reply": "2025-08-19T18:16:56.188669Z"
    },
    "papermill": {
     "duration": 0.894455,
     "end_time": "2025-08-19T18:16:56.191132",
     "exception": false,
     "start_time": "2025-08-19T18:16:55.296677",
     "status": "completed"
    },
    "tags": []
   },
   "outputs": [],
   "source": [
    "# Define covered = 1 if true_label is in the predicted set\n",
    "cp_groups_df['covered'] = cp_groups_df.apply(\n",
    "    lambda r: int(r['true_label'] in r['pred_set']),\n",
    "    axis=1\n",
    ")"
   ]
  },
  {
   "cell_type": "code",
   "execution_count": 53,
   "id": "3a261692",
   "metadata": {
    "execution": {
     "iopub.execute_input": "2025-08-19T18:16:56.224011Z",
     "iopub.status.busy": "2025-08-19T18:16:56.223041Z",
     "iopub.status.idle": "2025-08-19T18:16:56.240870Z",
     "shell.execute_reply": "2025-08-19T18:16:56.239817Z"
    },
    "papermill": {
     "duration": 0.03522,
     "end_time": "2025-08-19T18:16:56.242069",
     "exception": false,
     "start_time": "2025-08-19T18:16:56.206849",
     "status": "completed"
    },
    "tags": []
   },
   "outputs": [],
   "source": [
    "subgroups = ['frau1','nongerman','nongerman_male','nongerman_female']\n",
    "\n",
    "# Conditional coverage for subgroup==1\n",
    "cond_coverage = {\n",
    "    g: cp_groups_df.loc[cp_groups_df[g]==1, 'covered'].mean()\n",
    "    for g in subgroups\n",
    "}"
   ]
  },
  {
   "cell_type": "code",
   "execution_count": 54,
   "id": "894fd600",
   "metadata": {
    "execution": {
     "iopub.execute_input": "2025-08-19T18:16:56.295639Z",
     "iopub.status.busy": "2025-08-19T18:16:56.294569Z",
     "iopub.status.idle": "2025-08-19T18:16:56.310650Z",
     "shell.execute_reply": "2025-08-19T18:16:56.309481Z"
    },
    "papermill": {
     "duration": 0.045186,
     "end_time": "2025-08-19T18:16:56.313001",
     "exception": false,
     "start_time": "2025-08-19T18:16:56.267815",
     "status": "completed"
    },
    "tags": []
   },
   "outputs": [
    {
     "data": {
      "text/plain": [
       "{'frau1': 0.9093408815204206,\n",
       " 'nongerman': 0.9131533149946668,\n",
       " 'nongerman_male': 0.9291182563271188,\n",
       " 'nongerman_female': 0.886736214605067}"
      ]
     },
     "execution_count": 54,
     "metadata": {},
     "output_type": "execute_result"
    }
   ],
   "source": [
    "cond_coverage"
   ]
  },
  {
   "cell_type": "code",
   "execution_count": 55,
   "id": "942895c7",
   "metadata": {
    "execution": {
     "iopub.execute_input": "2025-08-19T18:16:56.343080Z",
     "iopub.status.busy": "2025-08-19T18:16:56.341988Z",
     "iopub.status.idle": "2025-08-19T18:16:56.351051Z",
     "shell.execute_reply": "2025-08-19T18:16:56.350250Z"
    },
    "papermill": {
     "duration": 0.023973,
     "end_time": "2025-08-19T18:16:56.352633",
     "exception": false,
     "start_time": "2025-08-19T18:16:56.328660",
     "status": "completed"
    },
    "tags": []
   },
   "outputs": [],
   "source": [
    "for subgroup, cov in cond_coverage.items():\n",
    "    cp_metrics_df[f\"cov_{subgroup}\"] = cov"
   ]
  },
  {
   "cell_type": "code",
   "execution_count": 56,
   "id": "3970120f",
   "metadata": {
    "execution": {
     "iopub.execute_input": "2025-08-19T18:16:56.381130Z",
     "iopub.status.busy": "2025-08-19T18:16:56.380584Z",
     "iopub.status.idle": "2025-08-19T18:16:56.433613Z",
     "shell.execute_reply": "2025-08-19T18:16:56.431865Z"
    },
    "papermill": {
     "duration": 0.069197,
     "end_time": "2025-08-19T18:16:56.436552",
     "exception": false,
     "start_time": "2025-08-19T18:16:56.367355",
     "status": "completed"
    },
    "tags": []
   },
   "outputs": [
    {
     "data": {
      "text/html": [
       "<div>\n",
       "<style scoped>\n",
       "    .dataframe tbody tr th:only-of-type {\n",
       "        vertical-align: middle;\n",
       "    }\n",
       "\n",
       "    .dataframe tbody tr th {\n",
       "        vertical-align: top;\n",
       "    }\n",
       "\n",
       "    .dataframe thead th {\n",
       "        text-align: right;\n",
       "    }\n",
       "</style>\n",
       "<table border=\"1\" class=\"dataframe\">\n",
       "  <thead>\n",
       "    <tr style=\"text-align: right;\">\n",
       "      <th></th>\n",
       "      <th>universe_id</th>\n",
       "      <th>universe_training_year</th>\n",
       "      <th>universe_training_size</th>\n",
       "      <th>universe_scale</th>\n",
       "      <th>universe_model</th>\n",
       "      <th>universe_exclude_features</th>\n",
       "      <th>universe_exclude_subgroups</th>\n",
       "      <th>q_hat</th>\n",
       "      <th>coverage</th>\n",
       "      <th>avg_size</th>\n",
       "      <th>cov_frau1</th>\n",
       "      <th>cov_nongerman</th>\n",
       "      <th>cov_nongerman_male</th>\n",
       "      <th>cov_nongerman_female</th>\n",
       "    </tr>\n",
       "  </thead>\n",
       "  <tbody>\n",
       "    <tr>\n",
       "      <th>0</th>\n",
       "      <td>1ea6288425370dde7fef0a29257557cd</td>\n",
       "      <td>2010_14</td>\n",
       "      <td>25k</td>\n",
       "      <td>scale</td>\n",
       "      <td>elasticnet</td>\n",
       "      <td>none</td>\n",
       "      <td>keep-all</td>\n",
       "      <td>0.660126</td>\n",
       "      <td>0.910567</td>\n",
       "      <td>1.125594</td>\n",
       "      <td>0.909341</td>\n",
       "      <td>0.913153</td>\n",
       "      <td>0.929118</td>\n",
       "      <td>0.886736</td>\n",
       "    </tr>\n",
       "  </tbody>\n",
       "</table>\n",
       "</div>"
      ],
      "text/plain": [
       "                        universe_id universe_training_year  \\\n",
       "0  1ea6288425370dde7fef0a29257557cd                2010_14   \n",
       "\n",
       "  universe_training_size universe_scale universe_model  \\\n",
       "0                    25k          scale     elasticnet   \n",
       "\n",
       "  universe_exclude_features universe_exclude_subgroups     q_hat  coverage  \\\n",
       "0                      none                   keep-all  0.660126  0.910567   \n",
       "\n",
       "   avg_size  cov_frau1  cov_nongerman  cov_nongerman_male  \\\n",
       "0  1.125594   0.909341       0.913153            0.929118   \n",
       "\n",
       "   cov_nongerman_female  \n",
       "0              0.886736  "
      ]
     },
     "execution_count": 56,
     "metadata": {},
     "output_type": "execute_result"
    }
   ],
   "source": [
    "cp_metrics_df"
   ]
  },
  {
   "cell_type": "markdown",
   "id": "3fc519cc",
   "metadata": {
    "papermill": {
     "duration": 0.012689,
     "end_time": "2025-08-19T18:16:56.470721",
     "exception": false,
     "start_time": "2025-08-19T18:16:56.458032",
     "status": "completed"
    },
    "tags": []
   },
   "source": [
    "# (Fairness) Metrics"
   ]
  },
  {
   "cell_type": "code",
   "execution_count": 57,
   "id": "a2e5e155",
   "metadata": {
    "execution": {
     "iopub.execute_input": "2025-08-19T18:16:56.496304Z",
     "iopub.status.busy": "2025-08-19T18:16:56.495905Z",
     "iopub.status.idle": "2025-08-19T18:16:56.515202Z",
     "shell.execute_reply": "2025-08-19T18:16:56.514533Z"
    },
    "papermill": {
     "duration": 0.033779,
     "end_time": "2025-08-19T18:16:56.516435",
     "exception": false,
     "start_time": "2025-08-19T18:16:56.482656",
     "status": "completed"
    },
    "tags": []
   },
   "outputs": [],
   "source": [
    "colname_to_bin = \"maxdeutsch1\"\n",
    "majority_value = org_train[colname_to_bin].mode()[0]\n",
    "\n",
    "org_test[\"majmin\"] = np.where(org_test[colname_to_bin] == majority_value, \"majority\", \"minority\")"
   ]
  },
  {
   "cell_type": "code",
   "execution_count": 58,
   "id": "17e3e4d5",
   "metadata": {
    "execution": {
     "iopub.execute_input": "2025-08-19T18:16:56.542754Z",
     "iopub.status.busy": "2025-08-19T18:16:56.541888Z",
     "iopub.status.idle": "2025-08-19T18:16:58.248690Z",
     "shell.execute_reply": "2025-08-19T18:16:58.247374Z"
    },
    "papermill": {
     "duration": 1.721488,
     "end_time": "2025-08-19T18:16:58.250368",
     "exception": false,
     "start_time": "2025-08-19T18:16:56.528880",
     "status": "completed"
    },
    "tags": []
   },
   "outputs": [],
   "source": [
    "example_universe = universe.copy()\n",
    "example_universe[\"cutoff\"] = example_universe[\"cutoff\"][0]\n",
    "example_universe[\"eval_fairness_grouping\"] = example_universe[\"eval_fairness_grouping\"][0]\n",
    "fairness_dict, metric_frame = universe_analysis.compute_metrics(\n",
    "    example_universe,\n",
    "    y_pred_prob=probs_test,\n",
    "    y_test=y_true,\n",
    "    org_test=org_test,\n",
    ")"
   ]
  },
  {
   "cell_type": "markdown",
   "id": "1fb7a0e9",
   "metadata": {
    "papermill": {
     "duration": 0.012235,
     "end_time": "2025-08-19T18:16:58.275805",
     "exception": false,
     "start_time": "2025-08-19T18:16:58.263570",
     "status": "completed"
    },
    "tags": []
   },
   "source": [
    "# Overall"
   ]
  },
  {
   "cell_type": "markdown",
   "id": "be1784b1",
   "metadata": {
    "papermill": {
     "duration": 0.012444,
     "end_time": "2025-08-19T18:16:58.300713",
     "exception": false,
     "start_time": "2025-08-19T18:16:58.288269",
     "status": "completed"
    },
    "tags": []
   },
   "source": [
    "Main fairness target: Equalized Odds. Seems to be a better fit than equal opportunity, since we're not only interested in Y = 1. Seems to be a better fit than demographic parity, since we also care about accuracy, not just equal distribution of preds.\n",
    "\n",
    "Pick column for computation of fairness metrics\n",
    "\n",
    "Performance\n",
    "Overall performance measures, most interesting in relation to the measures split by group below"
   ]
  },
  {
   "cell_type": "code",
   "execution_count": 59,
   "id": "b7672bee",
   "metadata": {
    "execution": {
     "iopub.execute_input": "2025-08-19T18:16:58.326758Z",
     "iopub.status.busy": "2025-08-19T18:16:58.326311Z",
     "iopub.status.idle": "2025-08-19T18:16:58.334144Z",
     "shell.execute_reply": "2025-08-19T18:16:58.333465Z"
    },
    "papermill": {
     "duration": 0.022258,
     "end_time": "2025-08-19T18:16:58.335236",
     "exception": false,
     "start_time": "2025-08-19T18:16:58.312978",
     "status": "completed"
    },
    "tags": []
   },
   "outputs": [
    {
     "data": {
      "text/plain": [
       "accuracy                   0.225560\n",
       "balanced accuracy          0.551277\n",
       "f1                         0.246859\n",
       "precision                  0.141022\n",
       "false positive rate        0.886844\n",
       "false negative rate        0.010601\n",
       "selection rate             0.900000\n",
       "count                  89710.000000\n",
       "dtype: float64"
      ]
     },
     "execution_count": 59,
     "metadata": {},
     "output_type": "execute_result"
    }
   ],
   "source": [
    "metric_frame.overall"
   ]
  },
  {
   "cell_type": "markdown",
   "id": "d93333c9",
   "metadata": {
    "papermill": {
     "duration": 0.012399,
     "end_time": "2025-08-19T18:16:58.363089",
     "exception": false,
     "start_time": "2025-08-19T18:16:58.350690",
     "status": "completed"
    },
    "tags": []
   },
   "source": [
    "By Group"
   ]
  },
  {
   "cell_type": "code",
   "execution_count": 60,
   "id": "52256966",
   "metadata": {
    "execution": {
     "iopub.execute_input": "2025-08-19T18:16:58.390009Z",
     "iopub.status.busy": "2025-08-19T18:16:58.389227Z",
     "iopub.status.idle": "2025-08-19T18:16:58.401176Z",
     "shell.execute_reply": "2025-08-19T18:16:58.400505Z"
    },
    "papermill": {
     "duration": 0.027193,
     "end_time": "2025-08-19T18:16:58.402416",
     "exception": false,
     "start_time": "2025-08-19T18:16:58.375223",
     "status": "completed"
    },
    "tags": []
   },
   "outputs": [
    {
     "data": {
      "text/html": [
       "<div>\n",
       "<style scoped>\n",
       "    .dataframe tbody tr th:only-of-type {\n",
       "        vertical-align: middle;\n",
       "    }\n",
       "\n",
       "    .dataframe tbody tr th {\n",
       "        vertical-align: top;\n",
       "    }\n",
       "\n",
       "    .dataframe thead th {\n",
       "        text-align: right;\n",
       "    }\n",
       "</style>\n",
       "<table border=\"1\" class=\"dataframe\">\n",
       "  <thead>\n",
       "    <tr style=\"text-align: right;\">\n",
       "      <th></th>\n",
       "      <th>accuracy</th>\n",
       "      <th>balanced accuracy</th>\n",
       "      <th>f1</th>\n",
       "      <th>precision</th>\n",
       "      <th>false positive rate</th>\n",
       "      <th>false negative rate</th>\n",
       "      <th>selection rate</th>\n",
       "      <th>count</th>\n",
       "    </tr>\n",
       "    <tr>\n",
       "      <th>majmin</th>\n",
       "      <th></th>\n",
       "      <th></th>\n",
       "      <th></th>\n",
       "      <th></th>\n",
       "      <th></th>\n",
       "      <th></th>\n",
       "      <th></th>\n",
       "      <th></th>\n",
       "    </tr>\n",
       "  </thead>\n",
       "  <tbody>\n",
       "    <tr>\n",
       "      <th>majority</th>\n",
       "      <td>0.247709</td>\n",
       "      <td>0.561760</td>\n",
       "      <td>0.257774</td>\n",
       "      <td>0.148209</td>\n",
       "      <td>0.865101</td>\n",
       "      <td>0.011379</td>\n",
       "      <td>0.881423</td>\n",
       "      <td>69170.0</td>\n",
       "    </tr>\n",
       "    <tr>\n",
       "      <th>minority</th>\n",
       "      <td>0.150974</td>\n",
       "      <td>0.516863</td>\n",
       "      <td>0.212295</td>\n",
       "      <td>0.118861</td>\n",
       "      <td>0.958673</td>\n",
       "      <td>0.007601</td>\n",
       "      <td>0.962561</td>\n",
       "      <td>20540.0</td>\n",
       "    </tr>\n",
       "  </tbody>\n",
       "</table>\n",
       "</div>"
      ],
      "text/plain": [
       "          accuracy  balanced accuracy        f1  precision  \\\n",
       "majmin                                                       \n",
       "majority  0.247709           0.561760  0.257774   0.148209   \n",
       "minority  0.150974           0.516863  0.212295   0.118861   \n",
       "\n",
       "          false positive rate  false negative rate  selection rate    count  \n",
       "majmin                                                                       \n",
       "majority             0.865101             0.011379        0.881423  69170.0  \n",
       "minority             0.958673             0.007601        0.962561  20540.0  "
      ]
     },
     "execution_count": 60,
     "metadata": {},
     "output_type": "execute_result"
    }
   ],
   "source": [
    "metric_frame.by_group"
   ]
  },
  {
   "cell_type": "code",
   "execution_count": 61,
   "id": "6e6c20ae",
   "metadata": {
    "execution": {
     "iopub.execute_input": "2025-08-19T18:16:58.433716Z",
     "iopub.status.busy": "2025-08-19T18:16:58.433328Z",
     "iopub.status.idle": "2025-08-19T18:17:00.241331Z",
     "shell.execute_reply": "2025-08-19T18:17:00.238328Z"
    },
    "papermill": {
     "duration": 1.823625,
     "end_time": "2025-08-19T18:17:00.243139",
     "exception": false,
     "start_time": "2025-08-19T18:16:58.419514",
     "status": "completed"
    },
    "tags": []
   },
   "outputs": [
    {
     "data": {
      "text/plain": [
       "array([[<Axes: title={'center': 'accuracy'}, xlabel='majmin'>,\n",
       "        <Axes: title={'center': 'balanced accuracy'}, xlabel='majmin'>,\n",
       "        <Axes: title={'center': 'f1'}, xlabel='majmin'>],\n",
       "       [<Axes: title={'center': 'precision'}, xlabel='majmin'>,\n",
       "        <Axes: title={'center': 'false positive rate'}, xlabel='majmin'>,\n",
       "        <Axes: title={'center': 'false negative rate'}, xlabel='majmin'>],\n",
       "       [<Axes: title={'center': 'selection rate'}, xlabel='majmin'>,\n",
       "        <Axes: title={'center': 'count'}, xlabel='majmin'>,\n",
       "        <Axes: xlabel='majmin'>]], dtype=object)"
      ]
     },
     "execution_count": 61,
     "metadata": {},
     "output_type": "execute_result"
    },
    {
     "data": {
      "image/png": "[encoded data removed]",
      "text/plain": [
       "<Figure size 1200x800 with 9 Axes>"
      ]
     },
     "metadata": {},
     "output_type": "display_data"
    }
   ],
   "source": [
    "# In a graphic\n",
    "metric_frame.by_group.plot.bar(\n",
    "    subplots=True,\n",
    "    layout=[3, 3],\n",
    "    legend=False,\n",
    "    figsize=[12, 8],\n",
    "    title=\"Show all metrics\",\n",
    ")"
   ]
  },
  {
   "cell_type": "markdown",
   "id": "b2e433ae",
   "metadata": {
    "papermill": {
     "duration": 0.013806,
     "end_time": "2025-08-19T18:17:00.274737",
     "exception": false,
     "start_time": "2025-08-19T18:17:00.260931",
     "status": "completed"
    },
    "tags": []
   },
   "source": [
    "# Final Output"
   ]
  },
  {
   "cell_type": "code",
   "execution_count": 62,
   "id": "3871301e",
   "metadata": {
    "execution": {
     "iopub.execute_input": "2025-08-19T18:17:00.304345Z",
     "iopub.status.busy": "2025-08-19T18:17:00.303484Z",
     "iopub.status.idle": "2025-08-19T18:17:00.318903Z",
     "shell.execute_reply": "2025-08-19T18:17:00.317609Z"
    },
    "papermill": {
     "duration": 0.034309,
     "end_time": "2025-08-19T18:17:00.322912",
     "exception": false,
     "start_time": "2025-08-19T18:17:00.288603",
     "status": "completed"
    },
    "tags": []
   },
   "outputs": [
    {
     "data": {
      "text/plain": [
       "4"
      ]
     },
     "execution_count": 62,
     "metadata": {},
     "output_type": "execute_result"
    }
   ],
   "source": [
    "sub_universes = universe_analysis.generate_sub_universes()\n",
    "len(sub_universes)"
   ]
  },
  {
   "cell_type": "code",
   "execution_count": 63,
   "id": "d9cfdaca",
   "metadata": {
    "execution": {
     "iopub.execute_input": "2025-08-19T18:17:00.365934Z",
     "iopub.status.busy": "2025-08-19T18:17:00.365178Z",
     "iopub.status.idle": "2025-08-19T18:17:00.374381Z",
     "shell.execute_reply": "2025-08-19T18:17:00.373000Z"
    },
    "papermill": {
     "duration": 0.028383,
     "end_time": "2025-08-19T18:17:00.376019",
     "exception": false,
     "start_time": "2025-08-19T18:17:00.347636",
     "status": "completed"
    },
    "tags": []
   },
   "outputs": [],
   "source": [
    "def filter_sub_universe_data(sub_universe, org_test):\n",
    "    # Keep all rows — no filtering\n",
    "    keep_rows_mask = np.ones(org_test.shape[0], dtype=bool)\n",
    "\n",
    "    print(f\"[INFO] Keeping all rows: {keep_rows_mask.sum()} rows retained.\")\n",
    "    return keep_rows_mask"
   ]
  },
  {
   "cell_type": "code",
   "execution_count": 64,
   "id": "2bc31ac1",
   "metadata": {
    "execution": {
     "iopub.execute_input": "2025-08-19T18:17:00.411467Z",
     "iopub.status.busy": "2025-08-19T18:17:00.410120Z",
     "iopub.status.idle": "2025-08-19T18:17:07.273239Z",
     "shell.execute_reply": "2025-08-19T18:17:07.272286Z"
    },
    "papermill": {
     "duration": 6.880382,
     "end_time": "2025-08-19T18:17:07.274454",
     "exception": false,
     "start_time": "2025-08-19T18:17:00.394072",
     "status": "completed"
    },
    "tags": []
   },
   "outputs": [
    {
     "name": "stdout",
     "output_type": "stream",
     "text": [
      "Stopping execution_time clock.\n",
      "[INFO] Keeping all rows: 89710 rows retained.\n"
     ]
    },
    {
     "name": "stdout",
     "output_type": "stream",
     "text": [
      "[INFO] Keeping all rows: 89710 rows retained.\n"
     ]
    },
    {
     "name": "stdout",
     "output_type": "stream",
     "text": [
      "[INFO] Keeping all rows: 89710 rows retained.\n"
     ]
    },
    {
     "name": "stdout",
     "output_type": "stream",
     "text": [
      "[INFO] Keeping all rows: 89710 rows retained.\n"
     ]
    },
    {
     "data": {
      "text/html": [
       "<div>\n",
       "<style scoped>\n",
       "    .dataframe tbody tr th:only-of-type {\n",
       "        vertical-align: middle;\n",
       "    }\n",
       "\n",
       "    .dataframe tbody tr th {\n",
       "        vertical-align: top;\n",
       "    }\n",
       "\n",
       "    .dataframe thead th {\n",
       "        text-align: right;\n",
       "    }\n",
       "</style>\n",
       "<table border=\"1\" class=\"dataframe\">\n",
       "  <thead>\n",
       "    <tr style=\"text-align: right;\">\n",
       "      <th></th>\n",
       "      <th>run_no</th>\n",
       "      <th>universe_id</th>\n",
       "      <th>universe_settings</th>\n",
       "      <th>execution_time</th>\n",
       "      <th>test_size_n</th>\n",
       "      <th>test_size_frac</th>\n",
       "      <th>fair_main_equalized_odds_difference</th>\n",
       "      <th>fair_main_equalized_odds_ratio</th>\n",
       "      <th>fair_main_demographic_parity_difference</th>\n",
       "      <th>fair_main_demographic_parity_ratio</th>\n",
       "      <th>...</th>\n",
       "      <th>perf_grp_precision_0</th>\n",
       "      <th>perf_grp_precision_1</th>\n",
       "      <th>perf_grp_false positive rate_0</th>\n",
       "      <th>perf_grp_false positive rate_1</th>\n",
       "      <th>perf_grp_false negative rate_0</th>\n",
       "      <th>perf_grp_false negative rate_1</th>\n",
       "      <th>perf_grp_selection rate_0</th>\n",
       "      <th>perf_grp_selection rate_1</th>\n",
       "      <th>perf_grp_count_0</th>\n",
       "      <th>perf_grp_count_1</th>\n",
       "    </tr>\n",
       "  </thead>\n",
       "  <tbody>\n",
       "    <tr>\n",
       "      <th>0</th>\n",
       "      <td>3</td>\n",
       "      <td>1ea6288425370dde7fef0a29257557cd</td>\n",
       "      <td>{\"cutoff\": \"quantile_0.1\", \"eval_fairness_grou...</td>\n",
       "      <td>28.054319</td>\n",
       "      <td>89710</td>\n",
       "      <td>1.0</td>\n",
       "      <td>0.093572</td>\n",
       "      <td>0.902394</td>\n",
       "      <td>0.081138</td>\n",
       "      <td>0.915706</td>\n",
       "      <td>...</td>\n",
       "      <td>NaN</td>\n",
       "      <td>NaN</td>\n",
       "      <td>NaN</td>\n",
       "      <td>NaN</td>\n",
       "      <td>NaN</td>\n",
       "      <td>NaN</td>\n",
       "      <td>NaN</td>\n",
       "      <td>NaN</td>\n",
       "      <td>NaN</td>\n",
       "      <td>NaN</td>\n",
       "    </tr>\n",
       "    <tr>\n",
       "      <th>0</th>\n",
       "      <td>3</td>\n",
       "      <td>1ea6288425370dde7fef0a29257557cd</td>\n",
       "      <td>{\"cutoff\": \"quantile_0.1\", \"eval_fairness_grou...</td>\n",
       "      <td>28.054319</td>\n",
       "      <td>89710</td>\n",
       "      <td>1.0</td>\n",
       "      <td>0.093572</td>\n",
       "      <td>0.902394</td>\n",
       "      <td>0.081138</td>\n",
       "      <td>0.915706</td>\n",
       "      <td>...</td>\n",
       "      <td>0.118861</td>\n",
       "      <td>0.148209</td>\n",
       "      <td>0.958673</td>\n",
       "      <td>0.865101</td>\n",
       "      <td>0.007601</td>\n",
       "      <td>0.011379</td>\n",
       "      <td>0.962561</td>\n",
       "      <td>0.881423</td>\n",
       "      <td>20540.0</td>\n",
       "      <td>69170.0</td>\n",
       "    </tr>\n",
       "    <tr>\n",
       "      <th>0</th>\n",
       "      <td>3</td>\n",
       "      <td>1ea6288425370dde7fef0a29257557cd</td>\n",
       "      <td>{\"cutoff\": \"quantile_0.25\", \"eval_fairness_gro...</td>\n",
       "      <td>28.054319</td>\n",
       "      <td>89710</td>\n",
       "      <td>1.0</td>\n",
       "      <td>0.170192</td>\n",
       "      <td>0.800018</td>\n",
       "      <td>0.148077</td>\n",
       "      <td>0.828648</td>\n",
       "      <td>...</td>\n",
       "      <td>NaN</td>\n",
       "      <td>NaN</td>\n",
       "      <td>NaN</td>\n",
       "      <td>NaN</td>\n",
       "      <td>NaN</td>\n",
       "      <td>NaN</td>\n",
       "      <td>NaN</td>\n",
       "      <td>NaN</td>\n",
       "      <td>NaN</td>\n",
       "      <td>NaN</td>\n",
       "    </tr>\n",
       "    <tr>\n",
       "      <th>0</th>\n",
       "      <td>3</td>\n",
       "      <td>1ea6288425370dde7fef0a29257557cd</td>\n",
       "      <td>{\"cutoff\": \"quantile_0.25\", \"eval_fairness_gro...</td>\n",
       "      <td>28.054319</td>\n",
       "      <td>89710</td>\n",
       "      <td>1.0</td>\n",
       "      <td>0.170192</td>\n",
       "      <td>0.800018</td>\n",
       "      <td>0.148077</td>\n",
       "      <td>0.828648</td>\n",
       "      <td>...</td>\n",
       "      <td>0.128732</td>\n",
       "      <td>0.174857</td>\n",
       "      <td>0.851035</td>\n",
       "      <td>0.680843</td>\n",
       "      <td>0.035051</td>\n",
       "      <td>0.052407</td>\n",
       "      <td>0.864167</td>\n",
       "      <td>0.716091</td>\n",
       "      <td>20540.0</td>\n",
       "      <td>69170.0</td>\n",
       "    </tr>\n",
       "  </tbody>\n",
       "</table>\n",
       "<p>4 rows × 50 columns</p>\n",
       "</div>"
      ],
      "text/plain": [
       "  run_no                       universe_id  \\\n",
       "0      3  1ea6288425370dde7fef0a29257557cd   \n",
       "0      3  1ea6288425370dde7fef0a29257557cd   \n",
       "0      3  1ea6288425370dde7fef0a29257557cd   \n",
       "0      3  1ea6288425370dde7fef0a29257557cd   \n",
       "\n",
       "                                   universe_settings  execution_time  \\\n",
       "0  {\"cutoff\": \"quantile_0.1\", \"eval_fairness_grou...       28.054319   \n",
       "0  {\"cutoff\": \"quantile_0.1\", \"eval_fairness_grou...       28.054319   \n",
       "0  {\"cutoff\": \"quantile_0.25\", \"eval_fairness_gro...       28.054319   \n",
       "0  {\"cutoff\": \"quantile_0.25\", \"eval_fairness_gro...       28.054319   \n",
       "\n",
       "   test_size_n  test_size_frac  fair_main_equalized_odds_difference  \\\n",
       "0        89710             1.0                             0.093572   \n",
       "0        89710             1.0                             0.093572   \n",
       "0        89710             1.0                             0.170192   \n",
       "0        89710             1.0                             0.170192   \n",
       "\n",
       "   fair_main_equalized_odds_ratio  fair_main_demographic_parity_difference  \\\n",
       "0                        0.902394                                 0.081138   \n",
       "0                        0.902394                                 0.081138   \n",
       "0                        0.800018                                 0.148077   \n",
       "0                        0.800018                                 0.148077   \n",
       "\n",
       "   fair_main_demographic_parity_ratio  ...  perf_grp_precision_0  \\\n",
       "0                            0.915706  ...                   NaN   \n",
       "0                            0.915706  ...              0.118861   \n",
       "0                            0.828648  ...                   NaN   \n",
       "0                            0.828648  ...              0.128732   \n",
       "\n",
       "   perf_grp_precision_1  perf_grp_false positive rate_0  \\\n",
       "0                   NaN                             NaN   \n",
       "0              0.148209                        0.958673   \n",
       "0                   NaN                             NaN   \n",
       "0              0.174857                        0.851035   \n",
       "\n",
       "   perf_grp_false positive rate_1  perf_grp_false negative rate_0  \\\n",
       "0                             NaN                             NaN   \n",
       "0                        0.865101                        0.007601   \n",
       "0                             NaN                             NaN   \n",
       "0                        0.680843                        0.035051   \n",
       "\n",
       "   perf_grp_false negative rate_1  perf_grp_selection rate_0  \\\n",
       "0                             NaN                        NaN   \n",
       "0                        0.011379                   0.962561   \n",
       "0                             NaN                        NaN   \n",
       "0                        0.052407                   0.864167   \n",
       "\n",
       "   perf_grp_selection rate_1  perf_grp_count_0  perf_grp_count_1  \n",
       "0                        NaN               NaN               NaN  \n",
       "0                   0.881423           20540.0           69170.0  \n",
       "0                        NaN               NaN               NaN  \n",
       "0                   0.716091           20540.0           69170.0  \n",
       "\n",
       "[4 rows x 50 columns]"
      ]
     },
     "execution_count": 64,
     "metadata": {},
     "output_type": "execute_result"
    }
   ],
   "source": [
    "final_output = universe_analysis.generate_final_output(\n",
    "    y_pred_prob=probs_test,\n",
    "    y_test=y_true,\n",
    "    org_test=org_test,\n",
    "    filter_data=filter_sub_universe_data,\n",
    "    cp_metrics_df=cp_metrics_df,\n",
    "    save=True,\n",
    ")\n",
    "final_output"
   ]
  },
  {
   "cell_type": "code",
   "execution_count": null,
   "id": "8b80a1ff",
   "metadata": {
    "papermill": {
     "duration": 0.028646,
     "end_time": "2025-08-19T18:17:07.333351",
     "exception": false,
     "start_time": "2025-08-19T18:17:07.304705",
     "status": "completed"
    },
    "tags": []
   },
   "outputs": [],
   "source": []
  },
  {
   "cell_type": "code",
   "execution_count": null,
   "id": "275c9fad",
   "metadata": {
    "papermill": {
     "duration": 0.014113,
     "end_time": "2025-08-19T18:17:07.362663",
     "exception": false,
     "start_time": "2025-08-19T18:17:07.348550",
     "status": "completed"
    },
    "tags": []
   },
   "outputs": [],
   "source": []
  }
 ],
 "metadata": {
  "celltoolbar": "Tags",
  "kernelspec": {
   "display_name": "Python (CMA Fairness)",
   "language": "python",
   "name": "cma_fair_env"
  },
  "language_info": {
   "codemirror_mode": {
    "name": "ipython",
    "version": 3
   },
   "file_extension": ".py",
   "mimetype": "text/x-python",
   "name": "python",
   "nbconvert_exporter": "python",
   "pygments_lexer": "ipython3",
   "version": "3.10.12"
  },
  "papermill": {
   "default_parameters": {},
   "duration": 38.677289,
   "end_time": "2025-08-19T18:17:08.199642",
   "environment_variables": {},
   "exception": null,
   "input_path": "universe_analysis.ipynb",
   "output_path": "output/runs/3/notebooks/m_3-1ea6288425370dde7fef0a29257557cd.ipynb",
   "parameters": {
    "output_dir": "output",
    "run_no": "3",
    "seed": "2023",
    "universe": "{\"cutoff\": [\"quantile_0.1\", \"quantile_0.25\"], \"eval_fairness_grouping\": [\"majority-minority\", \"nationality-all\"], \"exclude_features\": \"none\", \"exclude_subgroups\": \"keep-all\", \"model\": \"elasticnet\", \"scale\": \"scale\", \"training_size\": \"25k\", \"training_year\": \"2010_14\"}",
    "universe_id": "1ea6288425370dde7fef0a29257557cd"
   },
   "start_time": "2025-08-19T18:16:29.522353",
   "version": "2.6.0"
  }
 },
 "nbformat": 4,
 "nbformat_minor": 5
}