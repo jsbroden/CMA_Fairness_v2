{
 "cells": [
  {
   "cell_type": "markdown",
   "id": "ef23dbb3",
   "metadata": {
    "papermill": {
     "duration": 0.013408,
     "end_time": "2025-08-19T19:01:55.217874",
     "exception": false,
     "start_time": "2025-08-19T19:01:55.204466",
     "status": "completed"
    },
    "tags": []
   },
   "source": [
    "# Setup"
   ]
  },
  {
   "cell_type": "code",
   "execution_count": 1,
   "id": "0bc8e7dc",
   "metadata": {
    "execution": {
     "iopub.execute_input": "2025-08-19T19:01:55.255973Z",
     "iopub.status.busy": "2025-08-19T19:01:55.254935Z",
     "iopub.status.idle": "2025-08-19T19:01:55.275310Z",
     "shell.execute_reply": "2025-08-19T19:01:55.274166Z"
    },
    "papermill": {
     "duration": 0.036977,
     "end_time": "2025-08-19T19:01:55.277167",
     "exception": false,
     "start_time": "2025-08-19T19:01:55.240190",
     "status": "completed"
    },
    "tags": []
   },
   "outputs": [
    {
     "name": "stdout",
     "output_type": "stream",
     "text": [
      "/dss/dsshome1/0C/ra93lal2/cma/CMA_Fairness_v2\n"
     ]
    },
    {
     "name": "stderr",
     "output_type": "stream",
     "text": [
      "/dss/dsshome1/0C/ra93lal2/.local/share/virtualenvs/CMA_Fairness_v2-3j10GkSs/lib/python3.10/site-packages/IPython/core/magics/osm.py:393: UserWarning: This is now an optional IPython functionality, using bookmarks requires you to install the `pickleshare` library.\n",
      "  bkms = self.shell.db.get('bookmarks', {})\n",
      "/dss/dsshome1/0C/ra93lal2/.local/share/virtualenvs/CMA_Fairness_v2-3j10GkSs/lib/python3.10/site-packages/IPython/core/magics/osm.py:417: UserWarning: This is now an optional IPython functionality, setting dhist requires you to install the `pickleshare` library.\n",
      "  self.shell.db['dhist'] = compress_dhist(dhist)[-100:]\n"
     ]
    }
   ],
   "source": [
    "%cd ~/cma/CMA_Fairness_v2"
   ]
  },
  {
   "cell_type": "markdown",
   "id": "9d235661",
   "metadata": {
    "papermill": {
     "duration": 0.009756,
     "end_time": "2025-08-19T19:01:55.302205",
     "exception": false,
     "start_time": "2025-08-19T19:01:55.292449",
     "status": "completed"
    },
    "tags": []
   },
   "source": [
    "The following cell holds the definition of our parameters, these values can be overriden by rendering the with e.g. the following command:\n",
    "\n",
    "papermill -p alpha 0.2 -p ratio 0.3 universe_analysis.ipynb output/test_run.ipynb"
   ]
  },
  {
   "cell_type": "code",
   "execution_count": 2,
   "id": "4a789d8e",
   "metadata": {
    "execution": {
     "iopub.execute_input": "2025-08-19T19:01:55.322622Z",
     "iopub.status.busy": "2025-08-19T19:01:55.321449Z",
     "iopub.status.idle": "2025-08-19T19:01:55.330778Z",
     "shell.execute_reply": "2025-08-19T19:01:55.329209Z"
    },
    "papermill": {
     "duration": 0.021197,
     "end_time": "2025-08-19T19:01:55.332255",
     "exception": false,
     "start_time": "2025-08-19T19:01:55.311058",
     "status": "completed"
    },
    "tags": []
   },
   "outputs": [
    {
     "name": "stdout",
     "output_type": "stream",
     "text": [
      "Current working directory: /dss/dsshome1/0C/ra93lal2/cma/CMA_Fairness_v2\n"
     ]
    }
   ],
   "source": [
    "import os\n",
    "print(\"Current working directory:\", os.getcwd())"
   ]
  },
  {
   "cell_type": "code",
   "execution_count": 3,
   "id": "4132aaed",
   "metadata": {
    "execution": {
     "iopub.execute_input": "2025-08-19T19:01:55.355387Z",
     "iopub.status.busy": "2025-08-19T19:01:55.354264Z",
     "iopub.status.idle": "2025-08-19T19:01:55.364221Z",
     "shell.execute_reply": "2025-08-19T19:01:55.362951Z"
    },
    "papermill": {
     "duration": 0.021899,
     "end_time": "2025-08-19T19:01:55.365664",
     "exception": false,
     "start_time": "2025-08-19T19:01:55.343765",
     "status": "completed"
    },
    "tags": [
     "parameters"
    ]
   },
   "outputs": [],
   "source": [
    "run_no = 0\n",
    "universe_id = \"test\"\n",
    "universe = {\n",
    "    \"training_size\": \"5k\", # \"25k\", \"5k\", \"1k\"\n",
    "    \"training_year\": \"2012_14\", # \"2014\", \"2012_14\", \"2010_14\"\n",
    "    \"scale\": \"scale\", # \"scale\", \"do-not-scale\",\n",
    "    \"model\": \"elasticnet\", # \"logreg\", \"penalized_logreg\", \"rf\", \"gbm\", \"elasticnet\"\n",
    "    \"cutoff\": [\"quantile_0.15\", \"quantile_0.30\"],\n",
    "    \"exclude_features\": \"age\", # \"none\", \"nationality\", \"sex\", \"nationality-sex\", \"age\"\n",
    "    \"exclude_subgroups\": \"drop-non-german\", # \"keep-all\", \"drop-non-german\"\n",
    "    \"eval_fairness_grouping\": [\"majority-minority\", \"nationality-all\"]\n",
    "}\n",
    "\n",
    "output_dir=\"./output\"\n",
    "seed=0"
   ]
  },
  {
   "cell_type": "code",
   "execution_count": 4,
   "id": "7305d69b",
   "metadata": {
    "execution": {
     "iopub.execute_input": "2025-08-19T19:01:55.392615Z",
     "iopub.status.busy": "2025-08-19T19:01:55.391462Z",
     "iopub.status.idle": "2025-08-19T19:01:55.400318Z",
     "shell.execute_reply": "2025-08-19T19:01:55.398699Z"
    },
    "papermill": {
     "duration": 0.025869,
     "end_time": "2025-08-19T19:01:55.402935",
     "exception": false,
     "start_time": "2025-08-19T19:01:55.377066",
     "status": "completed"
    },
    "tags": [
     "injected-parameters"
    ]
   },
   "outputs": [],
   "source": [
    "# Parameters\n",
    "universe_id = \"78924c731e47e7743fc17f95487eb533\"\n",
    "run_no = \"3\"\n",
    "universe = \"{\\\"cutoff\\\": [\\\"quantile_0.1\\\", \\\"quantile_0.25\\\"], \\\"eval_fairness_grouping\\\": [\\\"majority-minority\\\", \\\"nationality-all\\\"], \\\"exclude_features\\\": \\\"age\\\", \\\"exclude_subgroups\\\": \\\"drop-non-german\\\", \\\"model\\\": \\\"penalized_logreg\\\", \\\"scale\\\": \\\"do-not-scale\\\", \\\"training_size\\\": \\\"1k\\\", \\\"training_year\\\": \\\"2012_14\\\"}\"\n",
    "output_dir = \"output\"\n",
    "seed = \"2023\"\n"
   ]
  },
  {
   "cell_type": "code",
   "execution_count": 5,
   "id": "a5d7941f",
   "metadata": {
    "execution": {
     "iopub.execute_input": "2025-08-19T19:01:55.438366Z",
     "iopub.status.busy": "2025-08-19T19:01:55.437823Z",
     "iopub.status.idle": "2025-08-19T19:01:55.442712Z",
     "shell.execute_reply": "2025-08-19T19:01:55.441955Z"
    },
    "papermill": {
     "duration": 0.019278,
     "end_time": "2025-08-19T19:01:55.443822",
     "exception": false,
     "start_time": "2025-08-19T19:01:55.424544",
     "status": "completed"
    },
    "tags": []
   },
   "outputs": [],
   "source": [
    "import json\n",
    "if isinstance(universe, str):\n",
    "    universe = json.loads(universe)"
   ]
  },
  {
   "cell_type": "code",
   "execution_count": 6,
   "id": "7076ccb1",
   "metadata": {
    "execution": {
     "iopub.execute_input": "2025-08-19T19:01:55.465598Z",
     "iopub.status.busy": "2025-08-19T19:01:55.465151Z",
     "iopub.status.idle": "2025-08-19T19:01:55.514126Z",
     "shell.execute_reply": "2025-08-19T19:01:55.513080Z"
    },
    "papermill": {
     "duration": 0.060766,
     "end_time": "2025-08-19T19:01:55.515899",
     "exception": false,
     "start_time": "2025-08-19T19:01:55.455133",
     "status": "completed"
    },
    "tags": []
   },
   "outputs": [],
   "source": [
    "# Auto-reload the custom package\n",
    "%load_ext autoreload\n",
    "%autoreload 1\n",
    "%aimport fairness_multiverse"
   ]
  },
  {
   "cell_type": "code",
   "execution_count": 7,
   "id": "94c8eb93",
   "metadata": {
    "execution": {
     "iopub.execute_input": "2025-08-19T19:01:55.537006Z",
     "iopub.status.busy": "2025-08-19T19:01:55.536630Z",
     "iopub.status.idle": "2025-08-19T19:01:57.142186Z",
     "shell.execute_reply": "2025-08-19T19:01:57.141483Z"
    },
    "papermill": {
     "duration": 1.617057,
     "end_time": "2025-08-19T19:01:57.143647",
     "exception": false,
     "start_time": "2025-08-19T19:01:55.526590",
     "status": "completed"
    },
    "tags": []
   },
   "outputs": [],
   "source": [
    "from fairness_multiverse.universe import UniverseAnalysis\n",
    "\n",
    "universe_analysis = UniverseAnalysis(\n",
    "    run_no = run_no,\n",
    "    universe_id = universe_id,\n",
    "    universe = universe,\n",
    "    output_dir=output_dir,\n",
    ")"
   ]
  },
  {
   "cell_type": "code",
   "execution_count": 8,
   "id": "2a6381cf",
   "metadata": {
    "execution": {
     "iopub.execute_input": "2025-08-19T19:01:57.168797Z",
     "iopub.status.busy": "2025-08-19T19:01:57.165823Z",
     "iopub.status.idle": "2025-08-19T19:01:57.174104Z",
     "shell.execute_reply": "2025-08-19T19:01:57.173240Z"
    },
    "papermill": {
     "duration": 0.019888,
     "end_time": "2025-08-19T19:01:57.175261",
     "exception": false,
     "start_time": "2025-08-19T19:01:57.155373",
     "status": "completed"
    },
    "tags": []
   },
   "outputs": [
    {
     "name": "stdout",
     "output_type": "stream",
     "text": [
      "Using Seed: 2023\n"
     ]
    }
   ],
   "source": [
    "import numpy as np\n",
    "parsed_seed = int(seed)\n",
    "np.random.seed(parsed_seed)\n",
    "print(f\"Using Seed: {parsed_seed}\")"
   ]
  },
  {
   "cell_type": "markdown",
   "id": "b6e958b4",
   "metadata": {
    "papermill": {
     "duration": 0.009078,
     "end_time": "2025-08-19T19:01:57.194201",
     "exception": false,
     "start_time": "2025-08-19T19:01:57.185123",
     "status": "completed"
    },
    "tags": []
   },
   "source": [
    "# Loading Data"
   ]
  },
  {
   "cell_type": "code",
   "execution_count": 9,
   "id": "98701482",
   "metadata": {
    "execution": {
     "iopub.execute_input": "2025-08-19T19:01:57.215218Z",
     "iopub.status.busy": "2025-08-19T19:01:57.214488Z",
     "iopub.status.idle": "2025-08-19T19:02:07.475943Z",
     "shell.execute_reply": "2025-08-19T19:02:07.474915Z"
    },
    "papermill": {
     "duration": 10.273966,
     "end_time": "2025-08-19T19:02:07.477259",
     "exception": false,
     "start_time": "2025-08-19T19:01:57.203293",
     "status": "completed"
    },
    "tags": []
   },
   "outputs": [
    {
     "name": "stdout",
     "output_type": "stream",
     "text": [
      "Loading SIAB data from cache: data/siab_cached.csv.gz\n"
     ]
    },
    {
     "name": "stdout",
     "output_type": "stream",
     "text": [
      "(643690, 164)\n"
     ]
    }
   ],
   "source": [
    "from pathlib import Path\n",
    "import pandas as pd\n",
    "\n",
    "# File paths\n",
    "raw_file = Path(\"data/raw/siab.csv\")\n",
    "cache_file = Path(\"data/siab_cached.csv.gz\")\n",
    "\n",
    "# Ensure cache directory exists\n",
    "cache_file.parent.mkdir(parents=True, exist_ok=True)\n",
    "\n",
    "# Load with simple caching\n",
    "if cache_file.exists():\n",
    "    print(f\"Loading SIAB data from cache: {cache_file}\")\n",
    "    siab = pd.read_csv(cache_file, compression='gzip')\n",
    "else:\n",
    "    print(f\"Cache not found. Reading raw SIAB data: {raw_file}\")\n",
    "    siab = pd.read_csv(raw_file)\n",
    "    siab.to_csv(cache_file, index=False, compression='gzip')\n",
    "    print(f\"Cached SIAB data to: {cache_file}\")\n",
    "\n",
    "print(siab.shape)"
   ]
  },
  {
   "cell_type": "code",
   "execution_count": 10,
   "id": "058d2abb",
   "metadata": {
    "execution": {
     "iopub.execute_input": "2025-08-19T19:02:07.502790Z",
     "iopub.status.busy": "2025-08-19T19:02:07.501555Z",
     "iopub.status.idle": "2025-08-19T19:02:07.689796Z",
     "shell.execute_reply": "2025-08-19T19:02:07.688833Z"
    },
    "papermill": {
     "duration": 0.203268,
     "end_time": "2025-08-19T19:02:07.692973",
     "exception": false,
     "start_time": "2025-08-19T19:02:07.489705",
     "status": "completed"
    },
    "tags": []
   },
   "outputs": [
    {
     "data": {
      "text/html": [
       "<div>\n",
       "<style scoped>\n",
       "    .dataframe tbody tr th:only-of-type {\n",
       "        vertical-align: middle;\n",
       "    }\n",
       "\n",
       "    .dataframe tbody tr th {\n",
       "        vertical-align: top;\n",
       "    }\n",
       "\n",
       "    .dataframe thead th {\n",
       "        text-align: right;\n",
       "    }\n",
       "</style>\n",
       "<table border=\"1\" class=\"dataframe\">\n",
       "  <thead>\n",
       "    <tr style=\"text-align: right;\">\n",
       "      <th></th>\n",
       "      <th>persnr</th>\n",
       "      <th>year</th>\n",
       "      <th>nrEntry</th>\n",
       "      <th>ltue</th>\n",
       "      <th>employed_before</th>\n",
       "      <th>receipt_leh_before</th>\n",
       "      <th>receipt_lhg_before</th>\n",
       "      <th>se_before</th>\n",
       "      <th>ASU_notue_seeking_before</th>\n",
       "      <th>ASU_other_before</th>\n",
       "      <th>...</th>\n",
       "      <th>minijob_tot_dur_byage</th>\n",
       "      <th>ft_tot_dur_byage</th>\n",
       "      <th>befrist_tot_dur_byage</th>\n",
       "      <th>leih_tot_dur_byage</th>\n",
       "      <th>LHG_tot_dur_byage</th>\n",
       "      <th>LEH_tot_dur_byage</th>\n",
       "      <th>almp_tot_dur_byage</th>\n",
       "      <th>almp_aw_tot_dur_byage</th>\n",
       "      <th>se_tot_dur_byage</th>\n",
       "      <th>seeking1_tot_dur_byage</th>\n",
       "    </tr>\n",
       "  </thead>\n",
       "  <tbody>\n",
       "    <tr>\n",
       "      <th>0</th>\n",
       "      <td>7</td>\n",
       "      <td>2015</td>\n",
       "      <td>1</td>\n",
       "      <td>0</td>\n",
       "      <td>1</td>\n",
       "      <td>0</td>\n",
       "      <td>0</td>\n",
       "      <td>0</td>\n",
       "      <td>1</td>\n",
       "      <td>0</td>\n",
       "      <td>...</td>\n",
       "      <td>0.000000</td>\n",
       "      <td>0.000000</td>\n",
       "      <td>15.043478</td>\n",
       "      <td>0.000000</td>\n",
       "      <td>0.000000</td>\n",
       "      <td>0.000000</td>\n",
       "      <td>0.000000</td>\n",
       "      <td>0.000000</td>\n",
       "      <td>0.000000</td>\n",
       "      <td>0.000000</td>\n",
       "    </tr>\n",
       "    <tr>\n",
       "      <th>1</th>\n",
       "      <td>18</td>\n",
       "      <td>2010</td>\n",
       "      <td>1</td>\n",
       "      <td>1</td>\n",
       "      <td>0</td>\n",
       "      <td>0</td>\n",
       "      <td>0</td>\n",
       "      <td>0</td>\n",
       "      <td>0</td>\n",
       "      <td>0</td>\n",
       "      <td>...</td>\n",
       "      <td>0.000000</td>\n",
       "      <td>0.000000</td>\n",
       "      <td>0.000000</td>\n",
       "      <td>0.000000</td>\n",
       "      <td>0.000000</td>\n",
       "      <td>0.000000</td>\n",
       "      <td>0.000000</td>\n",
       "      <td>0.000000</td>\n",
       "      <td>0.000000</td>\n",
       "      <td>0.000000</td>\n",
       "    </tr>\n",
       "    <tr>\n",
       "      <th>2</th>\n",
       "      <td>18</td>\n",
       "      <td>2011</td>\n",
       "      <td>2</td>\n",
       "      <td>0</td>\n",
       "      <td>1</td>\n",
       "      <td>0</td>\n",
       "      <td>1</td>\n",
       "      <td>0</td>\n",
       "      <td>1</td>\n",
       "      <td>0</td>\n",
       "      <td>...</td>\n",
       "      <td>2.714286</td>\n",
       "      <td>2.714286</td>\n",
       "      <td>0.000000</td>\n",
       "      <td>0.000000</td>\n",
       "      <td>10.775510</td>\n",
       "      <td>0.000000</td>\n",
       "      <td>8.367347</td>\n",
       "      <td>0.000000</td>\n",
       "      <td>0.000000</td>\n",
       "      <td>9.836735</td>\n",
       "    </tr>\n",
       "    <tr>\n",
       "      <th>3</th>\n",
       "      <td>18</td>\n",
       "      <td>2012</td>\n",
       "      <td>3</td>\n",
       "      <td>0</td>\n",
       "      <td>1</td>\n",
       "      <td>0</td>\n",
       "      <td>1</td>\n",
       "      <td>0</td>\n",
       "      <td>1</td>\n",
       "      <td>0</td>\n",
       "      <td>...</td>\n",
       "      <td>4.200000</td>\n",
       "      <td>4.200000</td>\n",
       "      <td>0.000000</td>\n",
       "      <td>0.000000</td>\n",
       "      <td>12.100000</td>\n",
       "      <td>0.000000</td>\n",
       "      <td>9.400000</td>\n",
       "      <td>0.000000</td>\n",
       "      <td>0.000000</td>\n",
       "      <td>9.960000</td>\n",
       "    </tr>\n",
       "    <tr>\n",
       "      <th>4</th>\n",
       "      <td>18</td>\n",
       "      <td>2012</td>\n",
       "      <td>4</td>\n",
       "      <td>0</td>\n",
       "      <td>1</td>\n",
       "      <td>0</td>\n",
       "      <td>1</td>\n",
       "      <td>0</td>\n",
       "      <td>1</td>\n",
       "      <td>0</td>\n",
       "      <td>...</td>\n",
       "      <td>5.460000</td>\n",
       "      <td>5.460000</td>\n",
       "      <td>0.000000</td>\n",
       "      <td>0.000000</td>\n",
       "      <td>13.360000</td>\n",
       "      <td>0.000000</td>\n",
       "      <td>10.320000</td>\n",
       "      <td>0.000000</td>\n",
       "      <td>0.000000</td>\n",
       "      <td>10.280000</td>\n",
       "    </tr>\n",
       "    <tr>\n",
       "      <th>...</th>\n",
       "      <td>...</td>\n",
       "      <td>...</td>\n",
       "      <td>...</td>\n",
       "      <td>...</td>\n",
       "      <td>...</td>\n",
       "      <td>...</td>\n",
       "      <td>...</td>\n",
       "      <td>...</td>\n",
       "      <td>...</td>\n",
       "      <td>...</td>\n",
       "      <td>...</td>\n",
       "      <td>...</td>\n",
       "      <td>...</td>\n",
       "      <td>...</td>\n",
       "      <td>...</td>\n",
       "      <td>...</td>\n",
       "      <td>...</td>\n",
       "      <td>...</td>\n",
       "      <td>...</td>\n",
       "      <td>...</td>\n",
       "      <td>...</td>\n",
       "    </tr>\n",
       "    <tr>\n",
       "      <th>643685</th>\n",
       "      <td>1827860</td>\n",
       "      <td>2013</td>\n",
       "      <td>1</td>\n",
       "      <td>0</td>\n",
       "      <td>0</td>\n",
       "      <td>0</td>\n",
       "      <td>1</td>\n",
       "      <td>0</td>\n",
       "      <td>0</td>\n",
       "      <td>1</td>\n",
       "      <td>...</td>\n",
       "      <td>0.000000</td>\n",
       "      <td>0.000000</td>\n",
       "      <td>0.000000</td>\n",
       "      <td>0.000000</td>\n",
       "      <td>0.612903</td>\n",
       "      <td>0.000000</td>\n",
       "      <td>0.000000</td>\n",
       "      <td>0.000000</td>\n",
       "      <td>0.000000</td>\n",
       "      <td>0.000000</td>\n",
       "    </tr>\n",
       "    <tr>\n",
       "      <th>643686</th>\n",
       "      <td>1827860</td>\n",
       "      <td>2015</td>\n",
       "      <td>2</td>\n",
       "      <td>1</td>\n",
       "      <td>0</td>\n",
       "      <td>0</td>\n",
       "      <td>1</td>\n",
       "      <td>0</td>\n",
       "      <td>1</td>\n",
       "      <td>0</td>\n",
       "      <td>...</td>\n",
       "      <td>0.000000</td>\n",
       "      <td>0.000000</td>\n",
       "      <td>0.212121</td>\n",
       "      <td>0.212121</td>\n",
       "      <td>17.363636</td>\n",
       "      <td>0.000000</td>\n",
       "      <td>8.909091</td>\n",
       "      <td>0.000000</td>\n",
       "      <td>0.000000</td>\n",
       "      <td>7.121212</td>\n",
       "    </tr>\n",
       "    <tr>\n",
       "      <th>643687</th>\n",
       "      <td>1827860</td>\n",
       "      <td>2016</td>\n",
       "      <td>3</td>\n",
       "      <td>1</td>\n",
       "      <td>0</td>\n",
       "      <td>0</td>\n",
       "      <td>1</td>\n",
       "      <td>1</td>\n",
       "      <td>0</td>\n",
       "      <td>1</td>\n",
       "      <td>...</td>\n",
       "      <td>0.000000</td>\n",
       "      <td>0.000000</td>\n",
       "      <td>0.294118</td>\n",
       "      <td>0.205882</td>\n",
       "      <td>34.705882</td>\n",
       "      <td>0.000000</td>\n",
       "      <td>10.352941</td>\n",
       "      <td>1.705882</td>\n",
       "      <td>1.705882</td>\n",
       "      <td>23.911765</td>\n",
       "    </tr>\n",
       "    <tr>\n",
       "      <th>643688</th>\n",
       "      <td>1827869</td>\n",
       "      <td>2013</td>\n",
       "      <td>1</td>\n",
       "      <td>1</td>\n",
       "      <td>1</td>\n",
       "      <td>0</td>\n",
       "      <td>0</td>\n",
       "      <td>0</td>\n",
       "      <td>1</td>\n",
       "      <td>0</td>\n",
       "      <td>...</td>\n",
       "      <td>0.000000</td>\n",
       "      <td>0.000000</td>\n",
       "      <td>0.000000</td>\n",
       "      <td>0.000000</td>\n",
       "      <td>0.000000</td>\n",
       "      <td>0.525424</td>\n",
       "      <td>0.000000</td>\n",
       "      <td>0.000000</td>\n",
       "      <td>0.000000</td>\n",
       "      <td>0.000000</td>\n",
       "    </tr>\n",
       "    <tr>\n",
       "      <th>643689</th>\n",
       "      <td>1827869</td>\n",
       "      <td>2014</td>\n",
       "      <td>2</td>\n",
       "      <td>0</td>\n",
       "      <td>0</td>\n",
       "      <td>1</td>\n",
       "      <td>0</td>\n",
       "      <td>0</td>\n",
       "      <td>1</td>\n",
       "      <td>0</td>\n",
       "      <td>...</td>\n",
       "      <td>0.000000</td>\n",
       "      <td>0.666667</td>\n",
       "      <td>0.666667</td>\n",
       "      <td>0.000000</td>\n",
       "      <td>0.000000</td>\n",
       "      <td>8.950000</td>\n",
       "      <td>1.033333</td>\n",
       "      <td>0.083333</td>\n",
       "      <td>0.083333</td>\n",
       "      <td>8.133333</td>\n",
       "    </tr>\n",
       "  </tbody>\n",
       "</table>\n",
       "<p>643690 rows × 164 columns</p>\n",
       "</div>"
      ],
      "text/plain": [
       "         persnr  year  nrEntry  ltue  employed_before  receipt_leh_before  \\\n",
       "0             7  2015        1     0                1                   0   \n",
       "1            18  2010        1     1                0                   0   \n",
       "2            18  2011        2     0                1                   0   \n",
       "3            18  2012        3     0                1                   0   \n",
       "4            18  2012        4     0                1                   0   \n",
       "...         ...   ...      ...   ...              ...                 ...   \n",
       "643685  1827860  2013        1     0                0                   0   \n",
       "643686  1827860  2015        2     1                0                   0   \n",
       "643687  1827860  2016        3     1                0                   0   \n",
       "643688  1827869  2013        1     1                1                   0   \n",
       "643689  1827869  2014        2     0                0                   1   \n",
       "\n",
       "        receipt_lhg_before  se_before  ASU_notue_seeking_before  \\\n",
       "0                        0          0                         1   \n",
       "1                        0          0                         0   \n",
       "2                        1          0                         1   \n",
       "3                        1          0                         1   \n",
       "4                        1          0                         1   \n",
       "...                    ...        ...                       ...   \n",
       "643685                   1          0                         0   \n",
       "643686                   1          0                         1   \n",
       "643687                   1          1                         0   \n",
       "643688                   0          0                         1   \n",
       "643689                   0          0                         1   \n",
       "\n",
       "        ASU_other_before  ...  minijob_tot_dur_byage  ft_tot_dur_byage  \\\n",
       "0                      0  ...               0.000000          0.000000   \n",
       "1                      0  ...               0.000000          0.000000   \n",
       "2                      0  ...               2.714286          2.714286   \n",
       "3                      0  ...               4.200000          4.200000   \n",
       "4                      0  ...               5.460000          5.460000   \n",
       "...                  ...  ...                    ...               ...   \n",
       "643685                 1  ...               0.000000          0.000000   \n",
       "643686                 0  ...               0.000000          0.000000   \n",
       "643687                 1  ...               0.000000          0.000000   \n",
       "643688                 0  ...               0.000000          0.000000   \n",
       "643689                 0  ...               0.000000          0.666667   \n",
       "\n",
       "        befrist_tot_dur_byage  leih_tot_dur_byage  LHG_tot_dur_byage  \\\n",
       "0                   15.043478            0.000000           0.000000   \n",
       "1                    0.000000            0.000000           0.000000   \n",
       "2                    0.000000            0.000000          10.775510   \n",
       "3                    0.000000            0.000000          12.100000   \n",
       "4                    0.000000            0.000000          13.360000   \n",
       "...                       ...                 ...                ...   \n",
       "643685               0.000000            0.000000           0.612903   \n",
       "643686               0.212121            0.212121          17.363636   \n",
       "643687               0.294118            0.205882          34.705882   \n",
       "643688               0.000000            0.000000           0.000000   \n",
       "643689               0.666667            0.000000           0.000000   \n",
       "\n",
       "        LEH_tot_dur_byage  almp_tot_dur_byage  almp_aw_tot_dur_byage  \\\n",
       "0                0.000000            0.000000               0.000000   \n",
       "1                0.000000            0.000000               0.000000   \n",
       "2                0.000000            8.367347               0.000000   \n",
       "3                0.000000            9.400000               0.000000   \n",
       "4                0.000000           10.320000               0.000000   \n",
       "...                   ...                 ...                    ...   \n",
       "643685           0.000000            0.000000               0.000000   \n",
       "643686           0.000000            8.909091               0.000000   \n",
       "643687           0.000000           10.352941               1.705882   \n",
       "643688           0.525424            0.000000               0.000000   \n",
       "643689           8.950000            1.033333               0.083333   \n",
       "\n",
       "        se_tot_dur_byage  seeking1_tot_dur_byage  \n",
       "0               0.000000                0.000000  \n",
       "1               0.000000                0.000000  \n",
       "2               0.000000                9.836735  \n",
       "3               0.000000                9.960000  \n",
       "4               0.000000               10.280000  \n",
       "...                  ...                     ...  \n",
       "643685          0.000000                0.000000  \n",
       "643686          0.000000                7.121212  \n",
       "643687          1.705882               23.911765  \n",
       "643688          0.000000                0.000000  \n",
       "643689          0.083333                8.133333  \n",
       "\n",
       "[643690 rows x 164 columns]"
      ]
     },
     "execution_count": 10,
     "metadata": {},
     "output_type": "execute_result"
    }
   ],
   "source": [
    "siab"
   ]
  },
  {
   "cell_type": "markdown",
   "id": "1f87e805",
   "metadata": {
    "papermill": {
     "duration": 0.011704,
     "end_time": "2025-08-19T19:02:07.726757",
     "exception": false,
     "start_time": "2025-08-19T19:02:07.715053",
     "status": "completed"
    },
    "tags": []
   },
   "source": [
    "# Splitting Data and Setting Training Data Size"
   ]
  },
  {
   "cell_type": "code",
   "execution_count": 11,
   "id": "910ae358",
   "metadata": {
    "execution": {
     "iopub.execute_input": "2025-08-19T19:02:07.749286Z",
     "iopub.status.busy": "2025-08-19T19:02:07.747797Z",
     "iopub.status.idle": "2025-08-19T19:02:08.401331Z",
     "shell.execute_reply": "2025-08-19T19:02:08.400462Z"
    },
    "papermill": {
     "duration": 0.667766,
     "end_time": "2025-08-19T19:02:08.404153",
     "exception": false,
     "start_time": "2025-08-19T19:02:07.736387",
     "status": "completed"
    },
    "tags": []
   },
   "outputs": [],
   "source": [
    "from fairness_multiverse.universe import sample_by_year_size\n",
    "\n",
    "siab_train = sample_by_year_size(siab,\n",
    "                               training_year=universe[\"training_year\"],\n",
    "                               training_size=universe[\"training_size\"])"
   ]
  },
  {
   "cell_type": "code",
   "execution_count": 12,
   "id": "919c8ff5",
   "metadata": {
    "execution": {
     "iopub.execute_input": "2025-08-19T19:02:08.440204Z",
     "iopub.status.busy": "2025-08-19T19:02:08.439913Z",
     "iopub.status.idle": "2025-08-19T19:02:08.445565Z",
     "shell.execute_reply": "2025-08-19T19:02:08.444933Z"
    },
    "papermill": {
     "duration": 0.019652,
     "end_time": "2025-08-19T19:02:08.446651",
     "exception": false,
     "start_time": "2025-08-19T19:02:08.426999",
     "status": "completed"
    },
    "tags": []
   },
   "outputs": [
    {
     "data": {
      "text/plain": [
       "(1000, 164)"
      ]
     },
     "execution_count": 12,
     "metadata": {},
     "output_type": "execute_result"
    }
   ],
   "source": [
    "siab_train.shape"
   ]
  },
  {
   "cell_type": "code",
   "execution_count": 13,
   "id": "feb13bf4",
   "metadata": {
    "execution": {
     "iopub.execute_input": "2025-08-19T19:02:08.468839Z",
     "iopub.status.busy": "2025-08-19T19:02:08.467864Z",
     "iopub.status.idle": "2025-08-19T19:02:08.485914Z",
     "shell.execute_reply": "2025-08-19T19:02:08.484948Z"
    },
    "papermill": {
     "duration": 0.031408,
     "end_time": "2025-08-19T19:02:08.488531",
     "exception": false,
     "start_time": "2025-08-19T19:02:08.457123",
     "status": "completed"
    },
    "tags": []
   },
   "outputs": [
    {
     "data": {
      "text/plain": [
       "year\n",
       "2012    334\n",
       "2013    333\n",
       "2014    333\n",
       "dtype: int64"
      ]
     },
     "metadata": {},
     "output_type": "display_data"
    }
   ],
   "source": [
    "display(siab_train.groupby(\"year\").size())"
   ]
  },
  {
   "cell_type": "code",
   "execution_count": 14,
   "id": "0997782f",
   "metadata": {
    "execution": {
     "iopub.execute_input": "2025-08-19T19:02:08.537615Z",
     "iopub.status.busy": "2025-08-19T19:02:08.536870Z",
     "iopub.status.idle": "2025-08-19T19:02:08.873974Z",
     "shell.execute_reply": "2025-08-19T19:02:08.873173Z"
    },
    "papermill": {
     "duration": 0.362708,
     "end_time": "2025-08-19T19:02:08.875577",
     "exception": false,
     "start_time": "2025-08-19T19:02:08.512869",
     "status": "completed"
    },
    "tags": []
   },
   "outputs": [],
   "source": [
    "#siab_train = siab_s[siab_s.year < 2015]\n",
    "siab_calib = siab[siab.year == 2015]\n",
    "siab_test = siab[siab.year == 2016]"
   ]
  },
  {
   "cell_type": "code",
   "execution_count": 15,
   "id": "2c1e4012",
   "metadata": {
    "execution": {
     "iopub.execute_input": "2025-08-19T19:02:08.914998Z",
     "iopub.status.busy": "2025-08-19T19:02:08.914410Z",
     "iopub.status.idle": "2025-08-19T19:02:08.919942Z",
     "shell.execute_reply": "2025-08-19T19:02:08.918744Z"
    },
    "papermill": {
     "duration": 0.032007,
     "end_time": "2025-08-19T19:02:08.921504",
     "exception": false,
     "start_time": "2025-08-19T19:02:08.889497",
     "status": "completed"
    },
    "tags": []
   },
   "outputs": [],
   "source": [
    "#siab_calib.shape"
   ]
  },
  {
   "cell_type": "code",
   "execution_count": 16,
   "id": "f66b54ca",
   "metadata": {
    "execution": {
     "iopub.execute_input": "2025-08-19T19:02:08.947731Z",
     "iopub.status.busy": "2025-08-19T19:02:08.947042Z",
     "iopub.status.idle": "2025-08-19T19:02:08.953159Z",
     "shell.execute_reply": "2025-08-19T19:02:08.951971Z"
    },
    "papermill": {
     "duration": 0.019934,
     "end_time": "2025-08-19T19:02:08.954377",
     "exception": false,
     "start_time": "2025-08-19T19:02:08.934443",
     "status": "completed"
    },
    "tags": []
   },
   "outputs": [],
   "source": [
    "#siab_test.shape"
   ]
  },
  {
   "cell_type": "code",
   "execution_count": 17,
   "id": "27e4384d",
   "metadata": {
    "execution": {
     "iopub.execute_input": "2025-08-19T19:02:08.996813Z",
     "iopub.status.busy": "2025-08-19T19:02:08.996078Z",
     "iopub.status.idle": "2025-08-19T19:02:09.004386Z",
     "shell.execute_reply": "2025-08-19T19:02:09.003454Z"
    },
    "papermill": {
     "duration": 0.043282,
     "end_time": "2025-08-19T19:02:09.008390",
     "exception": false,
     "start_time": "2025-08-19T19:02:08.965108",
     "status": "completed"
    },
    "tags": []
   },
   "outputs": [],
   "source": [
    "X_train = siab_train.iloc[:,4:164]\n",
    "y_train = siab_train.iloc[:, [3]]"
   ]
  },
  {
   "cell_type": "code",
   "execution_count": 18,
   "id": "08ee8389",
   "metadata": {
    "execution": {
     "iopub.execute_input": "2025-08-19T19:02:09.048940Z",
     "iopub.status.busy": "2025-08-19T19:02:09.048075Z",
     "iopub.status.idle": "2025-08-19T19:02:09.163961Z",
     "shell.execute_reply": "2025-08-19T19:02:09.163059Z"
    },
    "papermill": {
     "duration": 0.131747,
     "end_time": "2025-08-19T19:02:09.165679",
     "exception": false,
     "start_time": "2025-08-19T19:02:09.033932",
     "status": "completed"
    },
    "tags": []
   },
   "outputs": [],
   "source": [
    "X_calib = siab_calib.iloc[:,4:164]\n",
    "y_calib = siab_calib.iloc[:, [3]]"
   ]
  },
  {
   "cell_type": "code",
   "execution_count": 19,
   "id": "b7ff42e0",
   "metadata": {
    "execution": {
     "iopub.execute_input": "2025-08-19T19:02:09.189913Z",
     "iopub.status.busy": "2025-08-19T19:02:09.189413Z",
     "iopub.status.idle": "2025-08-19T19:02:09.250593Z",
     "shell.execute_reply": "2025-08-19T19:02:09.249856Z"
    },
    "papermill": {
     "duration": 0.075465,
     "end_time": "2025-08-19T19:02:09.253693",
     "exception": false,
     "start_time": "2025-08-19T19:02:09.178228",
     "status": "completed"
    },
    "tags": []
   },
   "outputs": [],
   "source": [
    "X_test = siab_test.iloc[:,4:164]\n",
    "y_true = siab_test.iloc[:, [3]]"
   ]
  },
  {
   "cell_type": "code",
   "execution_count": 20,
   "id": "0275101e",
   "metadata": {
    "execution": {
     "iopub.execute_input": "2025-08-19T19:02:09.291017Z",
     "iopub.status.busy": "2025-08-19T19:02:09.290407Z",
     "iopub.status.idle": "2025-08-19T19:02:09.405849Z",
     "shell.execute_reply": "2025-08-19T19:02:09.405138Z"
    },
    "papermill": {
     "duration": 0.131942,
     "end_time": "2025-08-19T19:02:09.408798",
     "exception": false,
     "start_time": "2025-08-19T19:02:09.276856",
     "status": "completed"
    },
    "tags": []
   },
   "outputs": [],
   "source": [
    "# Auxiliary data needed downstream in the pipeline\n",
    "\n",
    "org_train = X_train.copy()\n",
    "org_test = X_test.copy()\n",
    "org_calib = X_calib.copy()"
   ]
  },
  {
   "cell_type": "markdown",
   "id": "b461e618",
   "metadata": {
    "papermill": {
     "duration": 0.01302,
     "end_time": "2025-08-19T19:02:09.446546",
     "exception": false,
     "start_time": "2025-08-19T19:02:09.433526",
     "status": "completed"
    },
    "tags": []
   },
   "source": [
    "# Preprocessing Data"
   ]
  },
  {
   "cell_type": "code",
   "execution_count": 21,
   "id": "78e74c4b",
   "metadata": {
    "execution": {
     "iopub.execute_input": "2025-08-19T19:02:09.469711Z",
     "iopub.status.busy": "2025-08-19T19:02:09.469014Z",
     "iopub.status.idle": "2025-08-19T19:02:09.477226Z",
     "shell.execute_reply": "2025-08-19T19:02:09.475989Z"
    },
    "papermill": {
     "duration": 0.021828,
     "end_time": "2025-08-19T19:02:09.478767",
     "exception": false,
     "start_time": "2025-08-19T19:02:09.456939",
     "status": "completed"
    },
    "tags": []
   },
   "outputs": [],
   "source": [
    "# EXCLUDE PROTECTED FEATURES\n",
    "# --------------------------\n",
    "\n",
    "excluded_features = universe[\"exclude_features\"].split(\"-\")\n",
    "excluded_features_dictionary = {\n",
    "    \"nationality\": [\"maxdeutsch1\", \"maxdeutsch.Missing.\"],\n",
    "    \"sex\": [\"frau1\"],\n",
    "    \"age\": [\"age\"],\n",
    "}"
   ]
  },
  {
   "cell_type": "code",
   "execution_count": 22,
   "id": "f8e63555",
   "metadata": {
    "execution": {
     "iopub.execute_input": "2025-08-19T19:02:09.505070Z",
     "iopub.status.busy": "2025-08-19T19:02:09.504342Z",
     "iopub.status.idle": "2025-08-19T19:02:09.511709Z",
     "shell.execute_reply": "2025-08-19T19:02:09.510532Z"
    },
    "papermill": {
     "duration": 0.021004,
     "end_time": "2025-08-19T19:02:09.513011",
     "exception": false,
     "start_time": "2025-08-19T19:02:09.492007",
     "status": "completed"
    },
    "tags": []
   },
   "outputs": [],
   "source": [
    "excluded_features_columns = [\n",
    "    excluded_features_dictionary[f] for f in excluded_features if len(f) > 0 and f != \"none\"\n",
    "]"
   ]
  },
  {
   "cell_type": "code",
   "execution_count": 23,
   "id": "da781f7c",
   "metadata": {
    "execution": {
     "iopub.execute_input": "2025-08-19T19:02:09.539851Z",
     "iopub.status.busy": "2025-08-19T19:02:09.539161Z",
     "iopub.status.idle": "2025-08-19T19:02:09.546105Z",
     "shell.execute_reply": "2025-08-19T19:02:09.544911Z"
    },
    "papermill": {
     "duration": 0.021021,
     "end_time": "2025-08-19T19:02:09.547734",
     "exception": false,
     "start_time": "2025-08-19T19:02:09.526713",
     "status": "completed"
    },
    "tags": []
   },
   "outputs": [],
   "source": [
    "from fairness_multiverse.universe import flatten_once\n",
    "\n",
    "excluded_features_columns = flatten_once(excluded_features_columns)"
   ]
  },
  {
   "cell_type": "code",
   "execution_count": 24,
   "id": "37fef0f0",
   "metadata": {
    "execution": {
     "iopub.execute_input": "2025-08-19T19:02:09.574161Z",
     "iopub.status.busy": "2025-08-19T19:02:09.573498Z",
     "iopub.status.idle": "2025-08-19T19:02:09.585782Z",
     "shell.execute_reply": "2025-08-19T19:02:09.584366Z"
    },
    "papermill": {
     "duration": 0.026478,
     "end_time": "2025-08-19T19:02:09.587567",
     "exception": false,
     "start_time": "2025-08-19T19:02:09.561089",
     "status": "completed"
    },
    "tags": []
   },
   "outputs": [
    {
     "name": "stdout",
     "output_type": "stream",
     "text": [
      "Dropping features: ['age']\n"
     ]
    }
   ],
   "source": [
    "if len(excluded_features_columns) > 0:\n",
    "    print(f\"Dropping features: {excluded_features_columns}\")\n",
    "    X_train.drop(excluded_features_columns, axis=1, inplace=True)"
   ]
  },
  {
   "cell_type": "code",
   "execution_count": 25,
   "id": "d029e3e9",
   "metadata": {
    "execution": {
     "iopub.execute_input": "2025-08-19T19:02:09.614303Z",
     "iopub.status.busy": "2025-08-19T19:02:09.613623Z",
     "iopub.status.idle": "2025-08-19T19:02:09.675329Z",
     "shell.execute_reply": "2025-08-19T19:02:09.674476Z"
    },
    "papermill": {
     "duration": 0.077116,
     "end_time": "2025-08-19T19:02:09.678310",
     "exception": false,
     "start_time": "2025-08-19T19:02:09.601194",
     "status": "completed"
    },
    "tags": []
   },
   "outputs": [
    {
     "name": "stdout",
     "output_type": "stream",
     "text": [
      "Dropping features: ['age']\n"
     ]
    }
   ],
   "source": [
    "if len(excluded_features_columns) > 0:\n",
    "    print(f\"Dropping features: {excluded_features_columns}\")\n",
    "    X_test.drop(excluded_features_columns, axis=1, inplace=True)"
   ]
  },
  {
   "cell_type": "code",
   "execution_count": 26,
   "id": "01d571f0",
   "metadata": {
    "execution": {
     "iopub.execute_input": "2025-08-19T19:02:09.716332Z",
     "iopub.status.busy": "2025-08-19T19:02:09.715740Z",
     "iopub.status.idle": "2025-08-19T19:02:09.770066Z",
     "shell.execute_reply": "2025-08-19T19:02:09.769409Z"
    },
    "papermill": {
     "duration": 0.071452,
     "end_time": "2025-08-19T19:02:09.773378",
     "exception": false,
     "start_time": "2025-08-19T19:02:09.701926",
     "status": "completed"
    },
    "tags": []
   },
   "outputs": [
    {
     "name": "stdout",
     "output_type": "stream",
     "text": [
      "Dropping features: ['age']\n"
     ]
    }
   ],
   "source": [
    "if len(excluded_features_columns) > 0:\n",
    "    print(f\"Dropping features: {excluded_features_columns}\")\n",
    "    X_calib.drop(excluded_features_columns, axis=1, inplace=True)"
   ]
  },
  {
   "cell_type": "code",
   "execution_count": 27,
   "id": "3037356e",
   "metadata": {
    "execution": {
     "iopub.execute_input": "2025-08-19T19:02:09.809619Z",
     "iopub.status.busy": "2025-08-19T19:02:09.808941Z",
     "iopub.status.idle": "2025-08-19T19:02:09.815890Z",
     "shell.execute_reply": "2025-08-19T19:02:09.814615Z"
    },
    "papermill": {
     "duration": 0.021499,
     "end_time": "2025-08-19T19:02:09.817158",
     "exception": false,
     "start_time": "2025-08-19T19:02:09.795659",
     "status": "completed"
    },
    "tags": []
   },
   "outputs": [],
   "source": [
    "# EXCLUDE CERTAIN SUBGROUPS\n",
    "# -------------------------\n",
    "\n",
    "mode = universe.get(\"exclude_subgroups\", \"keep-all\") # Defaults to \"keep-all\" if the key is missing."
   ]
  },
  {
   "cell_type": "code",
   "execution_count": 28,
   "id": "9d1e63fd",
   "metadata": {
    "execution": {
     "iopub.execute_input": "2025-08-19T19:02:09.844333Z",
     "iopub.status.busy": "2025-08-19T19:02:09.843657Z",
     "iopub.status.idle": "2025-08-19T19:02:09.853811Z",
     "shell.execute_reply": "2025-08-19T19:02:09.852612Z"
    },
    "papermill": {
     "duration": 0.024211,
     "end_time": "2025-08-19T19:02:09.855339",
     "exception": false,
     "start_time": "2025-08-19T19:02:09.831128",
     "status": "completed"
    },
    "tags": []
   },
   "outputs": [],
   "source": [
    "if mode == \"keep-all\":\n",
    "    keep_mask = pd.Series(True, index=org_train.index)\n",
    "\n",
    "elif mode == \"drop-non-german\":\n",
    "    keep_mask = (org_train[\"maxdeutsch1\"] == 1) & (org_train[\"maxdeutsch.Missing.\"] == 0)\n",
    "\n",
    "else:\n",
    "    raise ValueError(f\"Unsupported mode for exclude_subgroups: {mode}\")"
   ]
  },
  {
   "cell_type": "code",
   "execution_count": 29,
   "id": "d3b65474",
   "metadata": {
    "execution": {
     "iopub.execute_input": "2025-08-19T19:02:09.886492Z",
     "iopub.status.busy": "2025-08-19T19:02:09.885801Z",
     "iopub.status.idle": "2025-08-19T19:02:09.895523Z",
     "shell.execute_reply": "2025-08-19T19:02:09.894342Z"
    },
    "papermill": {
     "duration": 0.023839,
     "end_time": "2025-08-19T19:02:09.897016",
     "exception": false,
     "start_time": "2025-08-19T19:02:09.873177",
     "status": "completed"
    },
    "tags": []
   },
   "outputs": [
    {
     "name": "stdout",
     "output_type": "stream",
     "text": [
      "Dropping 147 rows (14.70%) where mode='drop-non-german'\n"
     ]
    }
   ],
   "source": [
    "n_drop = (~keep_mask).sum() # Calculates how many rows are set to be dropped\n",
    "if n_drop > 0:\n",
    "    pct = n_drop / len(keep_mask) * 100\n",
    "    print(f\"Dropping {n_drop} rows ({pct:.2f}%) where mode='{mode}'\")"
   ]
  },
  {
   "cell_type": "code",
   "execution_count": 30,
   "id": "f44389b3",
   "metadata": {
    "execution": {
     "iopub.execute_input": "2025-08-19T19:02:09.923513Z",
     "iopub.status.busy": "2025-08-19T19:02:09.922690Z",
     "iopub.status.idle": "2025-08-19T19:02:09.930875Z",
     "shell.execute_reply": "2025-08-19T19:02:09.929541Z"
    },
    "papermill": {
     "duration": 0.022505,
     "end_time": "2025-08-19T19:02:09.932674",
     "exception": false,
     "start_time": "2025-08-19T19:02:09.910169",
     "status": "completed"
    },
    "tags": []
   },
   "outputs": [],
   "source": [
    "X_train = X_train[keep_mask]"
   ]
  },
  {
   "cell_type": "code",
   "execution_count": 31,
   "id": "ceca8c2a",
   "metadata": {
    "execution": {
     "iopub.execute_input": "2025-08-19T19:02:09.960362Z",
     "iopub.status.busy": "2025-08-19T19:02:09.959685Z",
     "iopub.status.idle": "2025-08-19T19:02:09.969978Z",
     "shell.execute_reply": "2025-08-19T19:02:09.968550Z"
    },
    "papermill": {
     "duration": 0.025117,
     "end_time": "2025-08-19T19:02:09.971610",
     "exception": false,
     "start_time": "2025-08-19T19:02:09.946493",
     "status": "completed"
    },
    "tags": []
   },
   "outputs": [],
   "source": [
    "y_train = y_train[keep_mask]"
   ]
  },
  {
   "cell_type": "markdown",
   "id": "04d31e2f",
   "metadata": {
    "papermill": {
     "duration": 0.01136,
     "end_time": "2025-08-19T19:02:09.997272",
     "exception": false,
     "start_time": "2025-08-19T19:02:09.985912",
     "status": "completed"
    },
    "tags": []
   },
   "source": [
    "# Model Training"
   ]
  },
  {
   "cell_type": "code",
   "execution_count": 32,
   "id": "db991733",
   "metadata": {
    "execution": {
     "iopub.execute_input": "2025-08-19T19:02:10.022456Z",
     "iopub.status.busy": "2025-08-19T19:02:10.021784Z",
     "iopub.status.idle": "2025-08-19T19:02:10.124842Z",
     "shell.execute_reply": "2025-08-19T19:02:10.124032Z"
    },
    "papermill": {
     "duration": 0.118578,
     "end_time": "2025-08-19T19:02:10.127742",
     "exception": false,
     "start_time": "2025-08-19T19:02:10.009164",
     "status": "completed"
    },
    "tags": []
   },
   "outputs": [],
   "source": [
    "from sklearn.linear_model import LogisticRegression\n",
    "from sklearn.ensemble import GradientBoostingClassifier, RandomForestClassifier\n",
    "\n",
    "if (universe[\"model\"] == \"logreg\"):\n",
    "    model = LogisticRegression() #penalty=\"none\", solver=\"newton-cg\", max_iter=1)\n",
    "elif (universe[\"model\"] == \"penalized_logreg\"):\n",
    "    model = LogisticRegression(penalty=\"l2\", C=0.1) #, solver=\"newton-cg\", max_iter=1)\n",
    "elif (universe[\"model\"] == \"rf\"):\n",
    "    model = RandomForestClassifier() # n_estimators=100, n_jobs=-1\n",
    "elif (universe[\"model\"] == \"gbm\"):\n",
    "    model = GradientBoostingClassifier()\n",
    "elif (universe[\"model\"] == \"elasticnet\"):\n",
    "    model = LogisticRegression(penalty = 'elasticnet', solver = 'saga', l1_ratio = 0.5) # max_iter=5000\n",
    "else:\n",
    "    raise \"Unsupported universe.model\""
   ]
  },
  {
   "cell_type": "code",
   "execution_count": 33,
   "id": "a4b5cd25",
   "metadata": {
    "execution": {
     "iopub.execute_input": "2025-08-19T19:02:10.170073Z",
     "iopub.status.busy": "2025-08-19T19:02:10.169381Z",
     "iopub.status.idle": "2025-08-19T19:02:10.177992Z",
     "shell.execute_reply": "2025-08-19T19:02:10.176746Z"
    },
    "papermill": {
     "duration": 0.025098,
     "end_time": "2025-08-19T19:02:10.179441",
     "exception": false,
     "start_time": "2025-08-19T19:02:10.154343",
     "status": "completed"
    },
    "tags": []
   },
   "outputs": [],
   "source": [
    "from sklearn.pipeline import Pipeline\n",
    "from sklearn.preprocessing import StandardScaler\n",
    "\n",
    "model = Pipeline([\n",
    "    #(\"continuous_processor\", continuous_processor),\n",
    "    #(\"categorical_preprocessor\", categorical_preprocessor),\n",
    "    (\"scale\", StandardScaler() if universe[\"scale\"] == \"scale\" else None), \n",
    "    (\"model\", model),\n",
    "])"
   ]
  },
  {
   "cell_type": "code",
   "execution_count": 34,
   "id": "283a904d",
   "metadata": {
    "execution": {
     "iopub.execute_input": "2025-08-19T19:02:10.206585Z",
     "iopub.status.busy": "2025-08-19T19:02:10.205895Z",
     "iopub.status.idle": "2025-08-19T19:02:10.291353Z",
     "shell.execute_reply": "2025-08-19T19:02:10.290254Z"
    },
    "papermill": {
     "duration": 0.099696,
     "end_time": "2025-08-19T19:02:10.292893",
     "exception": false,
     "start_time": "2025-08-19T19:02:10.193197",
     "status": "completed"
    },
    "tags": []
   },
   "outputs": [
    {
     "name": "stderr",
     "output_type": "stream",
     "text": [
      "/dss/dsshome1/0C/ra93lal2/.local/share/virtualenvs/CMA_Fairness_v2-3j10GkSs/lib/python3.10/site-packages/sklearn/linear_model/_logistic.py:444: ConvergenceWarning: lbfgs failed to converge (status=1):\n",
      "STOP: TOTAL NO. of ITERATIONS REACHED LIMIT.\n",
      "\n",
      "Increase the number of iterations (max_iter) or scale the data as shown in:\n",
      "    https://scikit-learn.org/stable/modules/preprocessing.html\n",
      "Please also refer to the documentation for alternative solver options:\n",
      "    https://scikit-learn.org/stable/modules/linear_model.html#logistic-regression\n",
      "  n_iter_i = _check_optimize_result(\n"
     ]
    },
    {
     "data": {
      "text/html": [
       "<style>#sk-container-id-1 {color: black;background-color: white;}#sk-container-id-1 pre{padding: 0;}#sk-container-id-1 div.sk-toggleable {background-color: white;}#sk-container-id-1 label.sk-toggleable__label {cursor: pointer;display: block;width: 100%;margin-bottom: 0;padding: 0.3em;box-sizing: border-box;text-align: center;}#sk-container-id-1 label.sk-toggleable__label-arrow:before {content: \"▸\";float: left;margin-right: 0.25em;color: #696969;}#sk-container-id-1 label.sk-toggleable__label-arrow:hover:before {color: black;}#sk-container-id-1 div.sk-estimator:hover label.sk-toggleable__label-arrow:before {color: black;}#sk-container-id-1 div.sk-toggleable__content {max-height: 0;max-width: 0;overflow: hidden;text-align: left;background-color: #f0f8ff;}#sk-container-id-1 div.sk-toggleable__content pre {margin: 0.2em;color: black;border-radius: 0.25em;background-color: #f0f8ff;}#sk-container-id-1 input.sk-toggleable__control:checked~div.sk-toggleable__content {max-height: 200px;max-width: 100%;overflow: auto;}#sk-container-id-1 input.sk-toggleable__control:checked~label.sk-toggleable__label-arrow:before {content: \"▾\";}#sk-container-id-1 div.sk-estimator input.sk-toggleable__control:checked~label.sk-toggleable__label {background-color: #d4ebff;}#sk-container-id-1 div.sk-label input.sk-toggleable__control:checked~label.sk-toggleable__label {background-color: #d4ebff;}#sk-container-id-1 input.sk-hidden--visually {border: 0;clip: rect(1px 1px 1px 1px);clip: rect(1px, 1px, 1px, 1px);height: 1px;margin: -1px;overflow: hidden;padding: 0;position: absolute;width: 1px;}#sk-container-id-1 div.sk-estimator {font-family: monospace;background-color: #f0f8ff;border: 1px dotted black;border-radius: 0.25em;box-sizing: border-box;margin-bottom: 0.5em;}#sk-container-id-1 div.sk-estimator:hover {background-color: #d4ebff;}#sk-container-id-1 div.sk-parallel-item::after {content: \"\";width: 100%;border-bottom: 1px solid gray;flex-grow: 1;}#sk-container-id-1 div.sk-label:hover label.sk-toggleable__label {background-color: #d4ebff;}#sk-container-id-1 div.sk-serial::before {content: \"\";position: absolute;border-left: 1px solid gray;box-sizing: border-box;top: 0;bottom: 0;left: 50%;z-index: 0;}#sk-container-id-1 div.sk-serial {display: flex;flex-direction: column;align-items: center;background-color: white;padding-right: 0.2em;padding-left: 0.2em;position: relative;}#sk-container-id-1 div.sk-item {position: relative;z-index: 1;}#sk-container-id-1 div.sk-parallel {display: flex;align-items: stretch;justify-content: center;background-color: white;position: relative;}#sk-container-id-1 div.sk-item::before, #sk-container-id-1 div.sk-parallel-item::before {content: \"\";position: absolute;border-left: 1px solid gray;box-sizing: border-box;top: 0;bottom: 0;left: 50%;z-index: -1;}#sk-container-id-1 div.sk-parallel-item {display: flex;flex-direction: column;z-index: 1;position: relative;background-color: white;}#sk-container-id-1 div.sk-parallel-item:first-child::after {align-self: flex-end;width: 50%;}#sk-container-id-1 div.sk-parallel-item:last-child::after {align-self: flex-start;width: 50%;}#sk-container-id-1 div.sk-parallel-item:only-child::after {width: 0;}#sk-container-id-1 div.sk-dashed-wrapped {border: 1px dashed gray;margin: 0 0.4em 0.5em 0.4em;box-sizing: border-box;padding-bottom: 0.4em;background-color: white;}#sk-container-id-1 div.sk-label label {font-family: monospace;font-weight: bold;display: inline-block;line-height: 1.2em;}#sk-container-id-1 div.sk-label-container {text-align: center;}#sk-container-id-1 div.sk-container {/* jupyter's `normalize.less` sets `[hidden] { display: none; }` but bootstrap.min.css set `[hidden] { display: none !important; }` so we also need the `!important` here to be able to override the default hidden behavior on the sphinx rendered scikit-learn.org. See: https://github.com/scikit-learn/scikit-learn/issues/21755 */display: inline-block !important;position: relative;}#sk-container-id-1 div.sk-text-repr-fallback {display: none;}</style><div id=\"sk-container-id-1\" class=\"sk-top-container\"><div class=\"sk-text-repr-fallback\"><pre>Pipeline(steps=[(&#x27;scale&#x27;, None), (&#x27;model&#x27;, LogisticRegression(C=0.1))])</pre><b>In a Jupyter environment, please rerun this cell to show the HTML representation or trust the notebook. <br />On GitHub, the HTML representation is unable to render, please try loading this page with nbviewer.org.</b></div><div class=\"sk-container\" hidden><div class=\"sk-item sk-dashed-wrapped\"><div class=\"sk-label-container\"><div class=\"sk-label sk-toggleable\"><input class=\"sk-toggleable__control sk-hidden--visually\" id=\"sk-estimator-id-1\" type=\"checkbox\" ><label for=\"sk-estimator-id-1\" class=\"sk-toggleable__label sk-toggleable__label-arrow\">Pipeline</label><div class=\"sk-toggleable__content\"><pre>Pipeline(steps=[(&#x27;scale&#x27;, None), (&#x27;model&#x27;, LogisticRegression(C=0.1))])</pre></div></div></div><div class=\"sk-serial\"><div class=\"sk-item\"><div class=\"sk-estimator sk-toggleable\"><input class=\"sk-toggleable__control sk-hidden--visually\" id=\"sk-estimator-id-2\" type=\"checkbox\" ><label for=\"sk-estimator-id-2\" class=\"sk-toggleable__label sk-toggleable__label-arrow\">None</label><div class=\"sk-toggleable__content\"><pre>None</pre></div></div></div><div class=\"sk-item\"><div class=\"sk-estimator sk-toggleable\"><input class=\"sk-toggleable__control sk-hidden--visually\" id=\"sk-estimator-id-3\" type=\"checkbox\" ><label for=\"sk-estimator-id-3\" class=\"sk-toggleable__label sk-toggleable__label-arrow\">LogisticRegression</label><div class=\"sk-toggleable__content\"><pre>LogisticRegression(C=0.1)</pre></div></div></div></div></div></div></div>"
      ],
      "text/plain": [
       "Pipeline(steps=[('scale', None), ('model', LogisticRegression(C=0.1))])"
      ]
     },
     "execution_count": 34,
     "metadata": {},
     "output_type": "execute_result"
    }
   ],
   "source": [
    "model.fit(X_train, y_train.values.ravel())"
   ]
  },
  {
   "cell_type": "code",
   "execution_count": 35,
   "id": "6e15e313",
   "metadata": {
    "execution": {
     "iopub.execute_input": "2025-08-19T19:02:10.320672Z",
     "iopub.status.busy": "2025-08-19T19:02:10.319850Z",
     "iopub.status.idle": "2025-08-19T19:02:10.427518Z",
     "shell.execute_reply": "2025-08-19T19:02:10.426435Z"
    },
    "papermill": {
     "duration": 0.126094,
     "end_time": "2025-08-19T19:02:10.432350",
     "exception": false,
     "start_time": "2025-08-19T19:02:10.306256",
     "status": "completed"
    },
    "tags": []
   },
   "outputs": [
    {
     "data": {
      "text/plain": [
       "0.8603723107791773"
      ]
     },
     "execution_count": 35,
     "metadata": {},
     "output_type": "execute_result"
    }
   ],
   "source": [
    "from fairness_multiverse.universe import predict_w_threshold\n",
    "\n",
    "probs_test = model.predict_proba(X_test)\n",
    "\n",
    "'''\n",
    "Below code returns a boolean array (or binary 0/1 array depending on how it’s used) where each element \n",
    "is True if the probability of class 1 is greater than or equal to the threshold, and False otherwise.\n",
    "'''\n",
    "y_pred_default = predict_w_threshold(probs_test, 0.5)\n",
    "\n",
    "from sklearn.metrics import accuracy_score\n",
    "\n",
    "# Naive prediction\n",
    "accuracy_score(y_true = y_true, y_pred = y_pred_default)"
   ]
  },
  {
   "cell_type": "code",
   "execution_count": 36,
   "id": "6f14067c",
   "metadata": {
    "execution": {
     "iopub.execute_input": "2025-08-19T19:02:10.475092Z",
     "iopub.status.busy": "2025-08-19T19:02:10.474338Z",
     "iopub.status.idle": "2025-08-19T19:02:10.575368Z",
     "shell.execute_reply": "2025-08-19T19:02:10.574399Z"
    },
    "papermill": {
     "duration": 0.117906,
     "end_time": "2025-08-19T19:02:10.577035",
     "exception": false,
     "start_time": "2025-08-19T19:02:10.459129",
     "status": "completed"
    },
    "tags": []
   },
   "outputs": [
    {
     "data": {
      "text/plain": [
       "array([0, 0, 0, ..., 0, 0, 0])"
      ]
     },
     "execution_count": 36,
     "metadata": {},
     "output_type": "execute_result"
    }
   ],
   "source": [
    "model.predict(X_test)"
   ]
  },
  {
   "cell_type": "markdown",
   "id": "3759920c",
   "metadata": {
    "papermill": {
     "duration": 0.011236,
     "end_time": "2025-08-19T19:02:10.605154",
     "exception": false,
     "start_time": "2025-08-19T19:02:10.593918",
     "status": "completed"
    },
    "tags": []
   },
   "source": [
    "# Conformal Prediction"
   ]
  },
  {
   "cell_type": "code",
   "execution_count": 37,
   "id": "14b27f59",
   "metadata": {
    "execution": {
     "iopub.execute_input": "2025-08-19T19:02:10.629367Z",
     "iopub.status.busy": "2025-08-19T19:02:10.628892Z",
     "iopub.status.idle": "2025-08-19T19:02:10.633650Z",
     "shell.execute_reply": "2025-08-19T19:02:10.632943Z"
    },
    "papermill": {
     "duration": 0.019717,
     "end_time": "2025-08-19T19:02:10.635992",
     "exception": false,
     "start_time": "2025-08-19T19:02:10.616275",
     "status": "completed"
    },
    "tags": []
   },
   "outputs": [],
   "source": [
    "# Miscoverage level for conformal prediction (10% allowed error rate => 90% target coverage)\n",
    "alpha = 0.1"
   ]
  },
  {
   "cell_type": "code",
   "execution_count": 38,
   "id": "59102472",
   "metadata": {
    "execution": {
     "iopub.execute_input": "2025-08-19T19:02:10.676795Z",
     "iopub.status.busy": "2025-08-19T19:02:10.676357Z",
     "iopub.status.idle": "2025-08-19T19:02:10.760141Z",
     "shell.execute_reply": "2025-08-19T19:02:10.759413Z"
    },
    "papermill": {
     "duration": 0.098915,
     "end_time": "2025-08-19T19:02:10.762789",
     "exception": false,
     "start_time": "2025-08-19T19:02:10.663874",
     "status": "completed"
    },
    "tags": []
   },
   "outputs": [],
   "source": [
    "probs_calib = model.predict_proba(X_calib)"
   ]
  },
  {
   "cell_type": "code",
   "execution_count": 39,
   "id": "a792d4dd",
   "metadata": {
    "execution": {
     "iopub.execute_input": "2025-08-19T19:02:10.807259Z",
     "iopub.status.busy": "2025-08-19T19:02:10.805997Z",
     "iopub.status.idle": "2025-08-19T19:02:10.817585Z",
     "shell.execute_reply": "2025-08-19T19:02:10.816544Z"
    },
    "papermill": {
     "duration": 0.028884,
     "end_time": "2025-08-19T19:02:10.819096",
     "exception": false,
     "start_time": "2025-08-19T19:02:10.790212",
     "status": "completed"
    },
    "tags": []
   },
   "outputs": [],
   "source": [
    "y_calib = y_calib.values.ravel().astype(int)"
   ]
  },
  {
   "cell_type": "code",
   "execution_count": 40,
   "id": "650fd033",
   "metadata": {
    "execution": {
     "iopub.execute_input": "2025-08-19T19:02:10.846545Z",
     "iopub.status.busy": "2025-08-19T19:02:10.845672Z",
     "iopub.status.idle": "2025-08-19T19:02:10.860991Z",
     "shell.execute_reply": "2025-08-19T19:02:10.860141Z"
    },
    "papermill": {
     "duration": 0.029225,
     "end_time": "2025-08-19T19:02:10.862507",
     "exception": false,
     "start_time": "2025-08-19T19:02:10.833282",
     "status": "completed"
    },
    "tags": []
   },
   "outputs": [],
   "source": [
    "from fairness_multiverse.conformal import compute_nc_scores\n",
    "\n",
    "# Compute nonconformity scores on calibration set (1 - probability of true class)\n",
    "nc_scores = compute_nc_scores(probs_calib, y_calib)"
   ]
  },
  {
   "cell_type": "code",
   "execution_count": 41,
   "id": "28ada44c",
   "metadata": {
    "execution": {
     "iopub.execute_input": "2025-08-19T19:02:10.893679Z",
     "iopub.status.busy": "2025-08-19T19:02:10.892189Z",
     "iopub.status.idle": "2025-08-19T19:02:10.918055Z",
     "shell.execute_reply": "2025-08-19T19:02:10.902174Z"
    },
    "papermill": {
     "duration": 0.043773,
     "end_time": "2025-08-19T19:02:10.921083",
     "exception": false,
     "start_time": "2025-08-19T19:02:10.877310",
     "status": "completed"
    },
    "tags": []
   },
   "outputs": [],
   "source": [
    "from fairness_multiverse.conformal import find_threshold\n",
    "\n",
    "# Find conformal threshold q_hat for the given alpha (split conformal method)\n",
    "q_hat = find_threshold(nc_scores, alpha)"
   ]
  },
  {
   "cell_type": "code",
   "execution_count": 42,
   "id": "df56469e",
   "metadata": {
    "execution": {
     "iopub.execute_input": "2025-08-19T19:02:10.959823Z",
     "iopub.status.busy": "2025-08-19T19:02:10.959312Z",
     "iopub.status.idle": "2025-08-19T19:02:10.998065Z",
     "shell.execute_reply": "2025-08-19T19:02:10.997013Z"
    },
    "papermill": {
     "duration": 0.056517,
     "end_time": "2025-08-19T19:02:11.002079",
     "exception": false,
     "start_time": "2025-08-19T19:02:10.945562",
     "status": "completed"
    },
    "tags": []
   },
   "outputs": [
    {
     "data": {
      "text/plain": [
       "0.6715613701208248"
      ]
     },
     "execution_count": 42,
     "metadata": {},
     "output_type": "execute_result"
    }
   ],
   "source": [
    "q_hat"
   ]
  },
  {
   "cell_type": "code",
   "execution_count": 43,
   "id": "aa1f5faa",
   "metadata": {
    "execution": {
     "iopub.execute_input": "2025-08-19T19:02:11.041667Z",
     "iopub.status.busy": "2025-08-19T19:02:11.040289Z",
     "iopub.status.idle": "2025-08-19T19:02:11.606764Z",
     "shell.execute_reply": "2025-08-19T19:02:11.606057Z"
    },
    "papermill": {
     "duration": 0.582413,
     "end_time": "2025-08-19T19:02:11.608272",
     "exception": false,
     "start_time": "2025-08-19T19:02:11.025859",
     "status": "completed"
    },
    "tags": []
   },
   "outputs": [],
   "source": [
    "from fairness_multiverse.conformal import predict_conformal_sets\n",
    "\n",
    "# Generate prediction sets for each test example\n",
    "pred_sets = predict_conformal_sets(model, X_test, q_hat)"
   ]
  },
  {
   "cell_type": "code",
   "execution_count": 44,
   "id": "97f67a6b",
   "metadata": {
    "execution": {
     "iopub.execute_input": "2025-08-19T19:02:11.633966Z",
     "iopub.status.busy": "2025-08-19T19:02:11.633087Z",
     "iopub.status.idle": "2025-08-19T19:02:11.639693Z",
     "shell.execute_reply": "2025-08-19T19:02:11.638434Z"
    },
    "papermill": {
     "duration": 0.020605,
     "end_time": "2025-08-19T19:02:11.641115",
     "exception": false,
     "start_time": "2025-08-19T19:02:11.620510",
     "status": "completed"
    },
    "tags": []
   },
   "outputs": [],
   "source": [
    "y_true = y_true.squeeze()"
   ]
  },
  {
   "cell_type": "code",
   "execution_count": 45,
   "id": "e700e9a7",
   "metadata": {
    "execution": {
     "iopub.execute_input": "2025-08-19T19:02:11.667078Z",
     "iopub.status.busy": "2025-08-19T19:02:11.665889Z",
     "iopub.status.idle": "2025-08-19T19:02:12.169957Z",
     "shell.execute_reply": "2025-08-19T19:02:12.168730Z"
    },
    "papermill": {
     "duration": 0.520139,
     "end_time": "2025-08-19T19:02:12.173113",
     "exception": false,
     "start_time": "2025-08-19T19:02:11.652974",
     "status": "completed"
    },
    "tags": []
   },
   "outputs": [],
   "source": [
    "from fairness_multiverse.conformal import evaluate_sets\n",
    "\n",
    "# Evaluate coverage and average set size on test data\n",
    "metrics = evaluate_sets(pred_sets, y_true)"
   ]
  },
  {
   "cell_type": "markdown",
   "id": "efbacec0",
   "metadata": {
    "papermill": {
     "duration": 0.012647,
     "end_time": "2025-08-19T19:02:12.211612",
     "exception": false,
     "start_time": "2025-08-19T19:02:12.198965",
     "status": "completed"
    },
    "tags": []
   },
   "source": [
    "# CP Metrics"
   ]
  },
  {
   "cell_type": "code",
   "execution_count": 46,
   "id": "9de55fb1",
   "metadata": {
    "execution": {
     "iopub.execute_input": "2025-08-19T19:02:12.238021Z",
     "iopub.status.busy": "2025-08-19T19:02:12.236525Z",
     "iopub.status.idle": "2025-08-19T19:02:12.249435Z",
     "shell.execute_reply": "2025-08-19T19:02:12.248364Z"
    },
    "papermill": {
     "duration": 0.028165,
     "end_time": "2025-08-19T19:02:12.251053",
     "exception": false,
     "start_time": "2025-08-19T19:02:12.222888",
     "status": "completed"
    },
    "tags": []
   },
   "outputs": [
    {
     "data": {
      "text/plain": [
       "{'coverage': 0.9138669044699588, 'avg_size': 1.2635269200757997}"
      ]
     },
     "execution_count": 46,
     "metadata": {},
     "output_type": "execute_result"
    }
   ],
   "source": [
    "metrics"
   ]
  },
  {
   "cell_type": "code",
   "execution_count": 47,
   "id": "64c340a1",
   "metadata": {
    "execution": {
     "iopub.execute_input": "2025-08-19T19:02:12.282204Z",
     "iopub.status.busy": "2025-08-19T19:02:12.280940Z",
     "iopub.status.idle": "2025-08-19T19:02:12.290873Z",
     "shell.execute_reply": "2025-08-19T19:02:12.289642Z"
    },
    "papermill": {
     "duration": 0.024824,
     "end_time": "2025-08-19T19:02:12.292201",
     "exception": false,
     "start_time": "2025-08-19T19:02:12.267377",
     "status": "completed"
    },
    "tags": []
   },
   "outputs": [],
   "source": [
    "example_universe = universe.copy()\n",
    "universe_training_year = example_universe.get(\"training_year\")\n",
    "universe_training_size = example_universe.get(\"training_size\")\n",
    "universe_scale = example_universe.get(\"scale\")\n",
    "universe_model = example_universe.get(\"model\")\n",
    "universe_exclude_features = example_universe.get(\"exclude_features\")\n",
    "universe_exclude_subgroups = example_universe.get(\"exclude_subgroups\")"
   ]
  },
  {
   "cell_type": "code",
   "execution_count": 48,
   "id": "dbb53cb4",
   "metadata": {
    "execution": {
     "iopub.execute_input": "2025-08-19T19:02:12.319991Z",
     "iopub.status.busy": "2025-08-19T19:02:12.319062Z",
     "iopub.status.idle": "2025-08-19T19:02:12.328452Z",
     "shell.execute_reply": "2025-08-19T19:02:12.327277Z"
    },
    "papermill": {
     "duration": 0.023629,
     "end_time": "2025-08-19T19:02:12.329960",
     "exception": false,
     "start_time": "2025-08-19T19:02:12.306331",
     "status": "completed"
    },
    "tags": []
   },
   "outputs": [],
   "source": [
    "cp_metrics_dict = {\n",
    "    \"universe_id\": [universe_id],\n",
    "    \"universe_training_year\": [universe_training_year],\n",
    "    \"universe_training_size\": [universe_training_size],\n",
    "    \"universe_scale\": [universe_scale],\n",
    "    \"universe_model\": [universe_model],\n",
    "    \"universe_exclude_features\": [universe_exclude_features],\n",
    "    \"universe_exclude_subgroups\": [universe_exclude_subgroups],\n",
    "    \"q_hat\": [q_hat],\n",
    "    \"coverage\": [metrics[\"coverage\"]],\n",
    "    \"avg_size\": [metrics[\"avg_size\"]],\n",
    "}"
   ]
  },
  {
   "cell_type": "code",
   "execution_count": 49,
   "id": "0d70d4b2",
   "metadata": {
    "execution": {
     "iopub.execute_input": "2025-08-19T19:02:12.363823Z",
     "iopub.status.busy": "2025-08-19T19:02:12.357847Z",
     "iopub.status.idle": "2025-08-19T19:02:12.369418Z",
     "shell.execute_reply": "2025-08-19T19:02:12.368686Z"
    },
    "papermill": {
     "duration": 0.02595,
     "end_time": "2025-08-19T19:02:12.370805",
     "exception": false,
     "start_time": "2025-08-19T19:02:12.344855",
     "status": "completed"
    },
    "tags": []
   },
   "outputs": [],
   "source": [
    "cp_metrics_df = pd.DataFrame(cp_metrics_dict)"
   ]
  },
  {
   "cell_type": "code",
   "execution_count": 50,
   "id": "b494403c",
   "metadata": {
    "execution": {
     "iopub.execute_input": "2025-08-19T19:02:12.401077Z",
     "iopub.status.busy": "2025-08-19T19:02:12.400405Z",
     "iopub.status.idle": "2025-08-19T19:02:12.424845Z",
     "shell.execute_reply": "2025-08-19T19:02:12.423761Z"
    },
    "papermill": {
     "duration": 0.039855,
     "end_time": "2025-08-19T19:02:12.426882",
     "exception": false,
     "start_time": "2025-08-19T19:02:12.387027",
     "status": "completed"
    },
    "tags": []
   },
   "outputs": [
    {
     "data": {
      "text/html": [
       "<div>\n",
       "<style scoped>\n",
       "    .dataframe tbody tr th:only-of-type {\n",
       "        vertical-align: middle;\n",
       "    }\n",
       "\n",
       "    .dataframe tbody tr th {\n",
       "        vertical-align: top;\n",
       "    }\n",
       "\n",
       "    .dataframe thead th {\n",
       "        text-align: right;\n",
       "    }\n",
       "</style>\n",
       "<table border=\"1\" class=\"dataframe\">\n",
       "  <thead>\n",
       "    <tr style=\"text-align: right;\">\n",
       "      <th></th>\n",
       "      <th>universe_id</th>\n",
       "      <th>universe_training_year</th>\n",
       "      <th>universe_training_size</th>\n",
       "      <th>universe_scale</th>\n",
       "      <th>universe_model</th>\n",
       "      <th>universe_exclude_features</th>\n",
       "      <th>universe_exclude_subgroups</th>\n",
       "      <th>q_hat</th>\n",
       "      <th>coverage</th>\n",
       "      <th>avg_size</th>\n",
       "    </tr>\n",
       "  </thead>\n",
       "  <tbody>\n",
       "    <tr>\n",
       "      <th>0</th>\n",
       "      <td>78924c731e47e7743fc17f95487eb533</td>\n",
       "      <td>2012_14</td>\n",
       "      <td>1k</td>\n",
       "      <td>do-not-scale</td>\n",
       "      <td>penalized_logreg</td>\n",
       "      <td>age</td>\n",
       "      <td>drop-non-german</td>\n",
       "      <td>0.671561</td>\n",
       "      <td>0.913867</td>\n",
       "      <td>1.263527</td>\n",
       "    </tr>\n",
       "  </tbody>\n",
       "</table>\n",
       "</div>"
      ],
      "text/plain": [
       "                        universe_id universe_training_year  \\\n",
       "0  78924c731e47e7743fc17f95487eb533                2012_14   \n",
       "\n",
       "  universe_training_size universe_scale    universe_model  \\\n",
       "0                     1k   do-not-scale  penalized_logreg   \n",
       "\n",
       "  universe_exclude_features universe_exclude_subgroups     q_hat  coverage  \\\n",
       "0                       age            drop-non-german  0.671561  0.913867   \n",
       "\n",
       "   avg_size  \n",
       "0  1.263527  "
      ]
     },
     "execution_count": 50,
     "metadata": {},
     "output_type": "execute_result"
    }
   ],
   "source": [
    "cp_metrics_df"
   ]
  },
  {
   "cell_type": "markdown",
   "id": "ed608b0b",
   "metadata": {
    "papermill": {
     "duration": 0.011742,
     "end_time": "2025-08-19T19:02:12.458611",
     "exception": false,
     "start_time": "2025-08-19T19:02:12.446869",
     "status": "completed"
    },
    "tags": []
   },
   "source": [
    "Conditional coverage & looking at subgroups"
   ]
  },
  {
   "cell_type": "code",
   "execution_count": 51,
   "id": "8968c366",
   "metadata": {
    "execution": {
     "iopub.execute_input": "2025-08-19T19:02:12.484770Z",
     "iopub.status.busy": "2025-08-19T19:02:12.484008Z",
     "iopub.status.idle": "2025-08-19T19:02:12.776621Z",
     "shell.execute_reply": "2025-08-19T19:02:12.775539Z"
    },
    "papermill": {
     "duration": 0.307815,
     "end_time": "2025-08-19T19:02:12.778113",
     "exception": false,
     "start_time": "2025-08-19T19:02:12.470298",
     "status": "completed"
    },
    "tags": []
   },
   "outputs": [],
   "source": [
    "from fairness_multiverse.conformal import build_cp_groups\n",
    "\n",
    "cp_groups_df = build_cp_groups(pred_sets, y_true, X_test.index, org_test)"
   ]
  },
  {
   "cell_type": "code",
   "execution_count": 52,
   "id": "292ddabf",
   "metadata": {
    "execution": {
     "iopub.execute_input": "2025-08-19T19:02:12.804317Z",
     "iopub.status.busy": "2025-08-19T19:02:12.803839Z",
     "iopub.status.idle": "2025-08-19T19:02:13.683545Z",
     "shell.execute_reply": "2025-08-19T19:02:13.682321Z"
    },
    "papermill": {
     "duration": 0.896164,
     "end_time": "2025-08-19T19:02:13.686572",
     "exception": false,
     "start_time": "2025-08-19T19:02:12.790408",
     "status": "completed"
    },
    "tags": []
   },
   "outputs": [],
   "source": [
    "# Define covered = 1 if true_label is in the predicted set\n",
    "cp_groups_df['covered'] = cp_groups_df.apply(\n",
    "    lambda r: int(r['true_label'] in r['pred_set']),\n",
    "    axis=1\n",
    ")"
   ]
  },
  {
   "cell_type": "code",
   "execution_count": 53,
   "id": "3a261692",
   "metadata": {
    "execution": {
     "iopub.execute_input": "2025-08-19T19:02:13.730469Z",
     "iopub.status.busy": "2025-08-19T19:02:13.729642Z",
     "iopub.status.idle": "2025-08-19T19:02:13.752042Z",
     "shell.execute_reply": "2025-08-19T19:02:13.751193Z"
    },
    "papermill": {
     "duration": 0.040599,
     "end_time": "2025-08-19T19:02:13.753881",
     "exception": false,
     "start_time": "2025-08-19T19:02:13.713282",
     "status": "completed"
    },
    "tags": []
   },
   "outputs": [],
   "source": [
    "subgroups = ['frau1','nongerman','nongerman_male','nongerman_female']\n",
    "\n",
    "# Conditional coverage for subgroup==1\n",
    "cond_coverage = {\n",
    "    g: cp_groups_df.loc[cp_groups_df[g]==1, 'covered'].mean()\n",
    "    for g in subgroups\n",
    "}"
   ]
  },
  {
   "cell_type": "code",
   "execution_count": 54,
   "id": "894fd600",
   "metadata": {
    "execution": {
     "iopub.execute_input": "2025-08-19T19:02:13.791053Z",
     "iopub.status.busy": "2025-08-19T19:02:13.790327Z",
     "iopub.status.idle": "2025-08-19T19:02:13.802016Z",
     "shell.execute_reply": "2025-08-19T19:02:13.801005Z"
    },
    "papermill": {
     "duration": 0.028322,
     "end_time": "2025-08-19T19:02:13.803522",
     "exception": false,
     "start_time": "2025-08-19T19:02:13.775200",
     "status": "completed"
    },
    "tags": []
   },
   "outputs": [
    {
     "data": {
      "text/plain": [
       "{'frau1': 0.9138158781506942,\n",
       " 'nongerman': 0.9628361309156234,\n",
       " 'nongerman_male': 0.9689273169413672,\n",
       " 'nongerman_female': 0.9527570789865872}"
      ]
     },
     "execution_count": 54,
     "metadata": {},
     "output_type": "execute_result"
    }
   ],
   "source": [
    "cond_coverage"
   ]
  },
  {
   "cell_type": "code",
   "execution_count": 55,
   "id": "942895c7",
   "metadata": {
    "execution": {
     "iopub.execute_input": "2025-08-19T19:02:13.833993Z",
     "iopub.status.busy": "2025-08-19T19:02:13.833342Z",
     "iopub.status.idle": "2025-08-19T19:02:13.845375Z",
     "shell.execute_reply": "2025-08-19T19:02:13.844013Z"
    },
    "papermill": {
     "duration": 0.027501,
     "end_time": "2025-08-19T19:02:13.847036",
     "exception": false,
     "start_time": "2025-08-19T19:02:13.819535",
     "status": "completed"
    },
    "tags": []
   },
   "outputs": [],
   "source": [
    "for subgroup, cov in cond_coverage.items():\n",
    "    cp_metrics_df[f\"cov_{subgroup}\"] = cov"
   ]
  },
  {
   "cell_type": "code",
   "execution_count": 56,
   "id": "3970120f",
   "metadata": {
    "execution": {
     "iopub.execute_input": "2025-08-19T19:02:13.881115Z",
     "iopub.status.busy": "2025-08-19T19:02:13.880261Z",
     "iopub.status.idle": "2025-08-19T19:02:13.910099Z",
     "shell.execute_reply": "2025-08-19T19:02:13.909172Z"
    },
    "papermill": {
     "duration": 0.046969,
     "end_time": "2025-08-19T19:02:13.912403",
     "exception": false,
     "start_time": "2025-08-19T19:02:13.865434",
     "status": "completed"
    },
    "tags": []
   },
   "outputs": [
    {
     "data": {
      "text/html": [
       "<div>\n",
       "<style scoped>\n",
       "    .dataframe tbody tr th:only-of-type {\n",
       "        vertical-align: middle;\n",
       "    }\n",
       "\n",
       "    .dataframe tbody tr th {\n",
       "        vertical-align: top;\n",
       "    }\n",
       "\n",
       "    .dataframe thead th {\n",
       "        text-align: right;\n",
       "    }\n",
       "</style>\n",
       "<table border=\"1\" class=\"dataframe\">\n",
       "  <thead>\n",
       "    <tr style=\"text-align: right;\">\n",
       "      <th></th>\n",
       "      <th>universe_id</th>\n",
       "      <th>universe_training_year</th>\n",
       "      <th>universe_training_size</th>\n",
       "      <th>universe_scale</th>\n",
       "      <th>universe_model</th>\n",
       "      <th>universe_exclude_features</th>\n",
       "      <th>universe_exclude_subgroups</th>\n",
       "      <th>q_hat</th>\n",
       "      <th>coverage</th>\n",
       "      <th>avg_size</th>\n",
       "      <th>cov_frau1</th>\n",
       "      <th>cov_nongerman</th>\n",
       "      <th>cov_nongerman_male</th>\n",
       "      <th>cov_nongerman_female</th>\n",
       "    </tr>\n",
       "  </thead>\n",
       "  <tbody>\n",
       "    <tr>\n",
       "      <th>0</th>\n",
       "      <td>78924c731e47e7743fc17f95487eb533</td>\n",
       "      <td>2012_14</td>\n",
       "      <td>1k</td>\n",
       "      <td>do-not-scale</td>\n",
       "      <td>penalized_logreg</td>\n",
       "      <td>age</td>\n",
       "      <td>drop-non-german</td>\n",
       "      <td>0.671561</td>\n",
       "      <td>0.913867</td>\n",
       "      <td>1.263527</td>\n",
       "      <td>0.913816</td>\n",
       "      <td>0.962836</td>\n",
       "      <td>0.968927</td>\n",
       "      <td>0.952757</td>\n",
       "    </tr>\n",
       "  </tbody>\n",
       "</table>\n",
       "</div>"
      ],
      "text/plain": [
       "                        universe_id universe_training_year  \\\n",
       "0  78924c731e47e7743fc17f95487eb533                2012_14   \n",
       "\n",
       "  universe_training_size universe_scale    universe_model  \\\n",
       "0                     1k   do-not-scale  penalized_logreg   \n",
       "\n",
       "  universe_exclude_features universe_exclude_subgroups     q_hat  coverage  \\\n",
       "0                       age            drop-non-german  0.671561  0.913867   \n",
       "\n",
       "   avg_size  cov_frau1  cov_nongerman  cov_nongerman_male  \\\n",
       "0  1.263527   0.913816       0.962836            0.968927   \n",
       "\n",
       "   cov_nongerman_female  \n",
       "0              0.952757  "
      ]
     },
     "execution_count": 56,
     "metadata": {},
     "output_type": "execute_result"
    }
   ],
   "source": [
    "cp_metrics_df"
   ]
  },
  {
   "cell_type": "markdown",
   "id": "3fc519cc",
   "metadata": {
    "papermill": {
     "duration": 0.013864,
     "end_time": "2025-08-19T19:02:13.950484",
     "exception": false,
     "start_time": "2025-08-19T19:02:13.936620",
     "status": "completed"
    },
    "tags": []
   },
   "source": [
    "# (Fairness) Metrics"
   ]
  },
  {
   "cell_type": "code",
   "execution_count": 57,
   "id": "a2e5e155",
   "metadata": {
    "execution": {
     "iopub.execute_input": "2025-08-19T19:02:13.977999Z",
     "iopub.status.busy": "2025-08-19T19:02:13.977280Z",
     "iopub.status.idle": "2025-08-19T19:02:14.010302Z",
     "shell.execute_reply": "2025-08-19T19:02:14.009515Z"
    },
    "papermill": {
     "duration": 0.049899,
     "end_time": "2025-08-19T19:02:14.012710",
     "exception": false,
     "start_time": "2025-08-19T19:02:13.962811",
     "status": "completed"
    },
    "tags": []
   },
   "outputs": [],
   "source": [
    "colname_to_bin = \"maxdeutsch1\"\n",
    "majority_value = org_train[colname_to_bin].mode()[0]\n",
    "\n",
    "org_test[\"majmin\"] = np.where(org_test[colname_to_bin] == majority_value, \"majority\", \"minority\")"
   ]
  },
  {
   "cell_type": "code",
   "execution_count": 58,
   "id": "17e3e4d5",
   "metadata": {
    "execution": {
     "iopub.execute_input": "2025-08-19T19:02:14.054940Z",
     "iopub.status.busy": "2025-08-19T19:02:14.054216Z",
     "iopub.status.idle": "2025-08-19T19:02:15.819303Z",
     "shell.execute_reply": "2025-08-19T19:02:15.818164Z"
    },
    "papermill": {
     "duration": 1.784462,
     "end_time": "2025-08-19T19:02:15.823465",
     "exception": false,
     "start_time": "2025-08-19T19:02:14.039003",
     "status": "completed"
    },
    "tags": []
   },
   "outputs": [],
   "source": [
    "example_universe = universe.copy()\n",
    "example_universe[\"cutoff\"] = example_universe[\"cutoff\"][0]\n",
    "example_universe[\"eval_fairness_grouping\"] = example_universe[\"eval_fairness_grouping\"][0]\n",
    "fairness_dict, metric_frame = universe_analysis.compute_metrics(\n",
    "    example_universe,\n",
    "    y_pred_prob=probs_test,\n",
    "    y_test=y_true,\n",
    "    org_test=org_test,\n",
    ")"
   ]
  },
  {
   "cell_type": "markdown",
   "id": "1fb7a0e9",
   "metadata": {
    "papermill": {
     "duration": 0.012257,
     "end_time": "2025-08-19T19:02:15.865077",
     "exception": false,
     "start_time": "2025-08-19T19:02:15.852820",
     "status": "completed"
    },
    "tags": []
   },
   "source": [
    "# Overall"
   ]
  },
  {
   "cell_type": "markdown",
   "id": "be1784b1",
   "metadata": {
    "papermill": {
     "duration": 0.012247,
     "end_time": "2025-08-19T19:02:15.889843",
     "exception": false,
     "start_time": "2025-08-19T19:02:15.877596",
     "status": "completed"
    },
    "tags": []
   },
   "source": [
    "Main fairness target: Equalized Odds. Seems to be a better fit than equal opportunity, since we're not only interested in Y = 1. Seems to be a better fit than demographic parity, since we also care about accuracy, not just equal distribution of preds.\n",
    "\n",
    "Pick column for computation of fairness metrics\n",
    "\n",
    "Performance\n",
    "Overall performance measures, most interesting in relation to the measures split by group below"
   ]
  },
  {
   "cell_type": "code",
   "execution_count": 59,
   "id": "b7672bee",
   "metadata": {
    "execution": {
     "iopub.execute_input": "2025-08-19T19:02:15.918054Z",
     "iopub.status.busy": "2025-08-19T19:02:15.917151Z",
     "iopub.status.idle": "2025-08-19T19:02:15.933173Z",
     "shell.execute_reply": "2025-08-19T19:02:15.932165Z"
    },
    "papermill": {
     "duration": 0.03292,
     "end_time": "2025-08-19T19:02:15.934942",
     "exception": false,
     "start_time": "2025-08-19T19:02:15.902022",
     "status": "completed"
    },
    "tags": []
   },
   "outputs": [
    {
     "data": {
      "text/plain": [
       "accuracy                   0.212496\n",
       "balanced accuracy          0.522070\n",
       "f1                         0.234154\n",
       "precision                  0.133764\n",
       "false positive rate        0.894338\n",
       "false negative rate        0.061522\n",
       "selection rate             0.900000\n",
       "count                  89710.000000\n",
       "dtype: float64"
      ]
     },
     "execution_count": 59,
     "metadata": {},
     "output_type": "execute_result"
    }
   ],
   "source": [
    "metric_frame.overall"
   ]
  },
  {
   "cell_type": "markdown",
   "id": "d93333c9",
   "metadata": {
    "papermill": {
     "duration": 0.012646,
     "end_time": "2025-08-19T19:02:15.966825",
     "exception": false,
     "start_time": "2025-08-19T19:02:15.954179",
     "status": "completed"
    },
    "tags": []
   },
   "source": [
    "By Group"
   ]
  },
  {
   "cell_type": "code",
   "execution_count": 60,
   "id": "52256966",
   "metadata": {
    "execution": {
     "iopub.execute_input": "2025-08-19T19:02:15.994524Z",
     "iopub.status.busy": "2025-08-19T19:02:15.993816Z",
     "iopub.status.idle": "2025-08-19T19:02:16.017087Z",
     "shell.execute_reply": "2025-08-19T19:02:16.016270Z"
    },
    "papermill": {
     "duration": 0.039523,
     "end_time": "2025-08-19T19:02:16.018823",
     "exception": false,
     "start_time": "2025-08-19T19:02:15.979300",
     "status": "completed"
    },
    "tags": []
   },
   "outputs": [
    {
     "data": {
      "text/html": [
       "<div>\n",
       "<style scoped>\n",
       "    .dataframe tbody tr th:only-of-type {\n",
       "        vertical-align: middle;\n",
       "    }\n",
       "\n",
       "    .dataframe tbody tr th {\n",
       "        vertical-align: top;\n",
       "    }\n",
       "\n",
       "    .dataframe thead th {\n",
       "        text-align: right;\n",
       "    }\n",
       "</style>\n",
       "<table border=\"1\" class=\"dataframe\">\n",
       "  <thead>\n",
       "    <tr style=\"text-align: right;\">\n",
       "      <th></th>\n",
       "      <th>accuracy</th>\n",
       "      <th>balanced accuracy</th>\n",
       "      <th>f1</th>\n",
       "      <th>precision</th>\n",
       "      <th>false positive rate</th>\n",
       "      <th>false negative rate</th>\n",
       "      <th>selection rate</th>\n",
       "      <th>count</th>\n",
       "    </tr>\n",
       "    <tr>\n",
       "      <th>majmin</th>\n",
       "      <th></th>\n",
       "      <th></th>\n",
       "      <th></th>\n",
       "      <th></th>\n",
       "      <th></th>\n",
       "      <th></th>\n",
       "      <th></th>\n",
       "      <th></th>\n",
       "    </tr>\n",
       "  </thead>\n",
       "  <tbody>\n",
       "    <tr>\n",
       "      <th>majority</th>\n",
       "      <td>0.232254</td>\n",
       "      <td>0.527304</td>\n",
       "      <td>0.242169</td>\n",
       "      <td>0.139247</td>\n",
       "      <td>0.873730</td>\n",
       "      <td>0.071663</td>\n",
       "      <td>0.880945</td>\n",
       "      <td>69170.0</td>\n",
       "    </tr>\n",
       "    <tr>\n",
       "      <th>minority</th>\n",
       "      <td>0.145959</td>\n",
       "      <td>0.507602</td>\n",
       "      <td>0.208822</td>\n",
       "      <td>0.116896</td>\n",
       "      <td>0.962415</td>\n",
       "      <td>0.022382</td>\n",
       "      <td>0.964167</td>\n",
       "      <td>20540.0</td>\n",
       "    </tr>\n",
       "  </tbody>\n",
       "</table>\n",
       "</div>"
      ],
      "text/plain": [
       "          accuracy  balanced accuracy        f1  precision  \\\n",
       "majmin                                                       \n",
       "majority  0.232254           0.527304  0.242169   0.139247   \n",
       "minority  0.145959           0.507602  0.208822   0.116896   \n",
       "\n",
       "          false positive rate  false negative rate  selection rate    count  \n",
       "majmin                                                                       \n",
       "majority             0.873730             0.071663        0.880945  69170.0  \n",
       "minority             0.962415             0.022382        0.964167  20540.0  "
      ]
     },
     "execution_count": 60,
     "metadata": {},
     "output_type": "execute_result"
    }
   ],
   "source": [
    "metric_frame.by_group"
   ]
  },
  {
   "cell_type": "code",
   "execution_count": 61,
   "id": "6e6c20ae",
   "metadata": {
    "execution": {
     "iopub.execute_input": "2025-08-19T19:02:16.054810Z",
     "iopub.status.busy": "2025-08-19T19:02:16.054109Z",
     "iopub.status.idle": "2025-08-19T19:02:17.914821Z",
     "shell.execute_reply": "2025-08-19T19:02:17.913970Z"
    },
    "papermill": {
     "duration": 1.88043,
     "end_time": "2025-08-19T19:02:17.919208",
     "exception": false,
     "start_time": "2025-08-19T19:02:16.038778",
     "status": "completed"
    },
    "tags": []
   },
   "outputs": [
    {
     "data": {
      "text/plain": [
       "array([[<Axes: title={'center': 'accuracy'}, xlabel='majmin'>,\n",
       "        <Axes: title={'center': 'balanced accuracy'}, xlabel='majmin'>,\n",
       "        <Axes: title={'center': 'f1'}, xlabel='majmin'>],\n",
       "       [<Axes: title={'center': 'precision'}, xlabel='majmin'>,\n",
       "        <Axes: title={'center': 'false positive rate'}, xlabel='majmin'>,\n",
       "        <Axes: title={'center': 'false negative rate'}, xlabel='majmin'>],\n",
       "       [<Axes: title={'center': 'selection rate'}, xlabel='majmin'>,\n",
       "        <Axes: title={'center': 'count'}, xlabel='majmin'>,\n",
       "        <Axes: xlabel='majmin'>]], dtype=object)"
      ]
     },
     "execution_count": 61,
     "metadata": {},
     "output_type": "execute_result"
    },
    {
     "data": {
      "image/png": "[encoded data removed]",
      "text/plain": [
       "<Figure size 1200x800 with 9 Axes>"
      ]
     },
     "metadata": {},
     "output_type": "display_data"
    }
   ],
   "source": [
    "# In a graphic\n",
    "metric_frame.by_group.plot.bar(\n",
    "    subplots=True,\n",
    "    layout=[3, 3],\n",
    "    legend=False,\n",
    "    figsize=[12, 8],\n",
    "    title=\"Show all metrics\",\n",
    ")"
   ]
  },
  {
   "cell_type": "markdown",
   "id": "b2e433ae",
   "metadata": {
    "papermill": {
     "duration": 0.013696,
     "end_time": "2025-08-19T19:02:17.958863",
     "exception": false,
     "start_time": "2025-08-19T19:02:17.945167",
     "status": "completed"
    },
    "tags": []
   },
   "source": [
    "# Final Output"
   ]
  },
  {
   "cell_type": "code",
   "execution_count": 62,
   "id": "3871301e",
   "metadata": {
    "execution": {
     "iopub.execute_input": "2025-08-19T19:02:17.990490Z",
     "iopub.status.busy": "2025-08-19T19:02:17.988311Z",
     "iopub.status.idle": "2025-08-19T19:02:18.008357Z",
     "shell.execute_reply": "2025-08-19T19:02:18.007250Z"
    },
    "papermill": {
     "duration": 0.037733,
     "end_time": "2025-08-19T19:02:18.010049",
     "exception": false,
     "start_time": "2025-08-19T19:02:17.972316",
     "status": "completed"
    },
    "tags": []
   },
   "outputs": [
    {
     "data": {
      "text/plain": [
       "4"
      ]
     },
     "execution_count": 62,
     "metadata": {},
     "output_type": "execute_result"
    }
   ],
   "source": [
    "sub_universes = universe_analysis.generate_sub_universes()\n",
    "len(sub_universes)"
   ]
  },
  {
   "cell_type": "code",
   "execution_count": 63,
   "id": "d9cfdaca",
   "metadata": {
    "execution": {
     "iopub.execute_input": "2025-08-19T19:02:18.053240Z",
     "iopub.status.busy": "2025-08-19T19:02:18.052088Z",
     "iopub.status.idle": "2025-08-19T19:02:18.067445Z",
     "shell.execute_reply": "2025-08-19T19:02:18.065789Z"
    },
    "papermill": {
     "duration": 0.032799,
     "end_time": "2025-08-19T19:02:18.069023",
     "exception": false,
     "start_time": "2025-08-19T19:02:18.036224",
     "status": "completed"
    },
    "tags": []
   },
   "outputs": [],
   "source": [
    "def filter_sub_universe_data(sub_universe, org_test):\n",
    "    # Keep all rows — no filtering\n",
    "    keep_rows_mask = np.ones(org_test.shape[0], dtype=bool)\n",
    "\n",
    "    print(f\"[INFO] Keeping all rows: {keep_rows_mask.sum()} rows retained.\")\n",
    "    return keep_rows_mask"
   ]
  },
  {
   "cell_type": "code",
   "execution_count": 64,
   "id": "2bc31ac1",
   "metadata": {
    "execution": {
     "iopub.execute_input": "2025-08-19T19:02:18.107230Z",
     "iopub.status.busy": "2025-08-19T19:02:18.105736Z",
     "iopub.status.idle": "2025-08-19T19:02:25.061724Z",
     "shell.execute_reply": "2025-08-19T19:02:25.060710Z"
    },
    "papermill": {
     "duration": 6.974318,
     "end_time": "2025-08-19T19:02:25.063147",
     "exception": false,
     "start_time": "2025-08-19T19:02:18.088829",
     "status": "completed"
    },
    "tags": []
   },
   "outputs": [
    {
     "name": "stdout",
     "output_type": "stream",
     "text": [
      "Stopping execution_time clock.\n",
      "[INFO] Keeping all rows: 89710 rows retained.\n"
     ]
    },
    {
     "name": "stdout",
     "output_type": "stream",
     "text": [
      "[INFO] Keeping all rows: 89710 rows retained.\n"
     ]
    },
    {
     "name": "stdout",
     "output_type": "stream",
     "text": [
      "[INFO] Keeping all rows: 89710 rows retained.\n"
     ]
    },
    {
     "name": "stdout",
     "output_type": "stream",
     "text": [
      "[INFO] Keeping all rows: 89710 rows retained.\n"
     ]
    },
    {
     "data": {
      "text/html": [
       "<div>\n",
       "<style scoped>\n",
       "    .dataframe tbody tr th:only-of-type {\n",
       "        vertical-align: middle;\n",
       "    }\n",
       "\n",
       "    .dataframe tbody tr th {\n",
       "        vertical-align: top;\n",
       "    }\n",
       "\n",
       "    .dataframe thead th {\n",
       "        text-align: right;\n",
       "    }\n",
       "</style>\n",
       "<table border=\"1\" class=\"dataframe\">\n",
       "  <thead>\n",
       "    <tr style=\"text-align: right;\">\n",
       "      <th></th>\n",
       "      <th>run_no</th>\n",
       "      <th>universe_id</th>\n",
       "      <th>universe_settings</th>\n",
       "      <th>execution_time</th>\n",
       "      <th>test_size_n</th>\n",
       "      <th>test_size_frac</th>\n",
       "      <th>fair_main_equalized_odds_difference</th>\n",
       "      <th>fair_main_equalized_odds_ratio</th>\n",
       "      <th>fair_main_demographic_parity_difference</th>\n",
       "      <th>fair_main_demographic_parity_ratio</th>\n",
       "      <th>...</th>\n",
       "      <th>perf_grp_precision_0</th>\n",
       "      <th>perf_grp_precision_1</th>\n",
       "      <th>perf_grp_false positive rate_0</th>\n",
       "      <th>perf_grp_false positive rate_1</th>\n",
       "      <th>perf_grp_false negative rate_0</th>\n",
       "      <th>perf_grp_false negative rate_1</th>\n",
       "      <th>perf_grp_selection rate_0</th>\n",
       "      <th>perf_grp_selection rate_1</th>\n",
       "      <th>perf_grp_count_0</th>\n",
       "      <th>perf_grp_count_1</th>\n",
       "    </tr>\n",
       "  </thead>\n",
       "  <tbody>\n",
       "    <tr>\n",
       "      <th>0</th>\n",
       "      <td>3</td>\n",
       "      <td>78924c731e47e7743fc17f95487eb533</td>\n",
       "      <td>{\"cutoff\": \"quantile_0.1\", \"eval_fairness_grou...</td>\n",
       "      <td>21.01546</td>\n",
       "      <td>89710</td>\n",
       "      <td>1.0</td>\n",
       "      <td>0.088685</td>\n",
       "      <td>0.907852</td>\n",
       "      <td>0.083222</td>\n",
       "      <td>0.913685</td>\n",
       "      <td>...</td>\n",
       "      <td>NaN</td>\n",
       "      <td>NaN</td>\n",
       "      <td>NaN</td>\n",
       "      <td>NaN</td>\n",
       "      <td>NaN</td>\n",
       "      <td>NaN</td>\n",
       "      <td>NaN</td>\n",
       "      <td>NaN</td>\n",
       "      <td>NaN</td>\n",
       "      <td>NaN</td>\n",
       "    </tr>\n",
       "    <tr>\n",
       "      <th>0</th>\n",
       "      <td>3</td>\n",
       "      <td>78924c731e47e7743fc17f95487eb533</td>\n",
       "      <td>{\"cutoff\": \"quantile_0.1\", \"eval_fairness_grou...</td>\n",
       "      <td>21.01546</td>\n",
       "      <td>89710</td>\n",
       "      <td>1.0</td>\n",
       "      <td>0.088685</td>\n",
       "      <td>0.907852</td>\n",
       "      <td>0.083222</td>\n",
       "      <td>0.913685</td>\n",
       "      <td>...</td>\n",
       "      <td>0.116896</td>\n",
       "      <td>0.139247</td>\n",
       "      <td>0.962415</td>\n",
       "      <td>0.873730</td>\n",
       "      <td>0.022382</td>\n",
       "      <td>0.071663</td>\n",
       "      <td>0.964167</td>\n",
       "      <td>0.880945</td>\n",
       "      <td>20540.0</td>\n",
       "      <td>69170.0</td>\n",
       "    </tr>\n",
       "    <tr>\n",
       "      <th>0</th>\n",
       "      <td>3</td>\n",
       "      <td>78924c731e47e7743fc17f95487eb533</td>\n",
       "      <td>{\"cutoff\": \"quantile_0.25\", \"eval_fairness_gro...</td>\n",
       "      <td>21.01546</td>\n",
       "      <td>89710</td>\n",
       "      <td>1.0</td>\n",
       "      <td>0.217754</td>\n",
       "      <td>0.758982</td>\n",
       "      <td>0.204526</td>\n",
       "      <td>0.774675</td>\n",
       "      <td>...</td>\n",
       "      <td>NaN</td>\n",
       "      <td>NaN</td>\n",
       "      <td>NaN</td>\n",
       "      <td>NaN</td>\n",
       "      <td>NaN</td>\n",
       "      <td>NaN</td>\n",
       "      <td>NaN</td>\n",
       "      <td>NaN</td>\n",
       "      <td>NaN</td>\n",
       "      <td>NaN</td>\n",
       "    </tr>\n",
       "    <tr>\n",
       "      <th>0</th>\n",
       "      <td>3</td>\n",
       "      <td>78924c731e47e7743fc17f95487eb533</td>\n",
       "      <td>{\"cutoff\": \"quantile_0.25\", \"eval_fairness_gro...</td>\n",
       "      <td>21.01546</td>\n",
       "      <td>89710</td>\n",
       "      <td>1.0</td>\n",
       "      <td>0.217754</td>\n",
       "      <td>0.758982</td>\n",
       "      <td>0.204526</td>\n",
       "      <td>0.774675</td>\n",
       "      <td>...</td>\n",
       "      <td>0.119395</td>\n",
       "      <td>0.153666</td>\n",
       "      <td>0.903478</td>\n",
       "      <td>0.685724</td>\n",
       "      <td>0.059966</td>\n",
       "      <td>0.182276</td>\n",
       "      <td>0.907692</td>\n",
       "      <td>0.703166</td>\n",
       "      <td>20540.0</td>\n",
       "      <td>69170.0</td>\n",
       "    </tr>\n",
       "  </tbody>\n",
       "</table>\n",
       "<p>4 rows × 50 columns</p>\n",
       "</div>"
      ],
      "text/plain": [
       "  run_no                       universe_id  \\\n",
       "0      3  78924c731e47e7743fc17f95487eb533   \n",
       "0      3  78924c731e47e7743fc17f95487eb533   \n",
       "0      3  78924c731e47e7743fc17f95487eb533   \n",
       "0      3  78924c731e47e7743fc17f95487eb533   \n",
       "\n",
       "                                   universe_settings  execution_time  \\\n",
       "0  {\"cutoff\": \"quantile_0.1\", \"eval_fairness_grou...        21.01546   \n",
       "0  {\"cutoff\": \"quantile_0.1\", \"eval_fairness_grou...        21.01546   \n",
       "0  {\"cutoff\": \"quantile_0.25\", \"eval_fairness_gro...        21.01546   \n",
       "0  {\"cutoff\": \"quantile_0.25\", \"eval_fairness_gro...        21.01546   \n",
       "\n",
       "   test_size_n  test_size_frac  fair_main_equalized_odds_difference  \\\n",
       "0        89710             1.0                             0.088685   \n",
       "0        89710             1.0                             0.088685   \n",
       "0        89710             1.0                             0.217754   \n",
       "0        89710             1.0                             0.217754   \n",
       "\n",
       "   fair_main_equalized_odds_ratio  fair_main_demographic_parity_difference  \\\n",
       "0                        0.907852                                 0.083222   \n",
       "0                        0.907852                                 0.083222   \n",
       "0                        0.758982                                 0.204526   \n",
       "0                        0.758982                                 0.204526   \n",
       "\n",
       "   fair_main_demographic_parity_ratio  ...  perf_grp_precision_0  \\\n",
       "0                            0.913685  ...                   NaN   \n",
       "0                            0.913685  ...              0.116896   \n",
       "0                            0.774675  ...                   NaN   \n",
       "0                            0.774675  ...              0.119395   \n",
       "\n",
       "   perf_grp_precision_1  perf_grp_false positive rate_0  \\\n",
       "0                   NaN                             NaN   \n",
       "0              0.139247                        0.962415   \n",
       "0                   NaN                             NaN   \n",
       "0              0.153666                        0.903478   \n",
       "\n",
       "   perf_grp_false positive rate_1  perf_grp_false negative rate_0  \\\n",
       "0                             NaN                             NaN   \n",
       "0                        0.873730                        0.022382   \n",
       "0                             NaN                             NaN   \n",
       "0                        0.685724                        0.059966   \n",
       "\n",
       "   perf_grp_false negative rate_1  perf_grp_selection rate_0  \\\n",
       "0                             NaN                        NaN   \n",
       "0                        0.071663                   0.964167   \n",
       "0                             NaN                        NaN   \n",
       "0                        0.182276                   0.907692   \n",
       "\n",
       "   perf_grp_selection rate_1  perf_grp_count_0  perf_grp_count_1  \n",
       "0                        NaN               NaN               NaN  \n",
       "0                   0.880945           20540.0           69170.0  \n",
       "0                        NaN               NaN               NaN  \n",
       "0                   0.703166           20540.0           69170.0  \n",
       "\n",
       "[4 rows x 50 columns]"
      ]
     },
     "execution_count": 64,
     "metadata": {},
     "output_type": "execute_result"
    }
   ],
   "source": [
    "final_output = universe_analysis.generate_final_output(\n",
    "    y_pred_prob=probs_test,\n",
    "    y_test=y_true,\n",
    "    org_test=org_test,\n",
    "    filter_data=filter_sub_universe_data,\n",
    "    cp_metrics_df=cp_metrics_df,\n",
    "    save=True,\n",
    ")\n",
    "final_output"
   ]
  },
  {
   "cell_type": "code",
   "execution_count": null,
   "id": "8b80a1ff",
   "metadata": {
    "papermill": {
     "duration": 0.014959,
     "end_time": "2025-08-19T19:02:25.102001",
     "exception": false,
     "start_time": "2025-08-19T19:02:25.087042",
     "status": "completed"
    },
    "tags": []
   },
   "outputs": [],
   "source": []
  },
  {
   "cell_type": "code",
   "execution_count": null,
   "id": "275c9fad",
   "metadata": {
    "papermill": {
     "duration": 0.014133,
     "end_time": "2025-08-19T19:02:25.130438",
     "exception": false,
     "start_time": "2025-08-19T19:02:25.116305",
     "status": "completed"
    },
    "tags": []
   },
   "outputs": [],
   "source": []
  }
 ],
 "metadata": {
  "celltoolbar": "Tags",
  "kernelspec": {
   "display_name": "Python (CMA Fairness)",
   "language": "python",
   "name": "cma_fair_env"
  },
  "language_info": {
   "codemirror_mode": {
    "name": "ipython",
    "version": 3
   },
   "file_extension": ".py",
   "mimetype": "text/x-python",
   "name": "python",
   "nbconvert_exporter": "python",
   "pygments_lexer": "ipython3",
   "version": "3.10.12"
  },
  "papermill": {
   "default_parameters": {},
   "duration": 31.876113,
   "end_time": "2025-08-19T19:02:25.969742",
   "environment_variables": {},
   "exception": null,
   "input_path": "universe_analysis.ipynb",
   "output_path": "output/runs/3/notebooks/m_3-78924c731e47e7743fc17f95487eb533.ipynb",
   "parameters": {
    "output_dir": "output",
    "run_no": "3",
    "seed": "2023",
    "universe": "{\"cutoff\": [\"quantile_0.1\", \"quantile_0.25\"], \"eval_fairness_grouping\": [\"majority-minority\", \"nationality-all\"], \"exclude_features\": \"age\", \"exclude_subgroups\": \"drop-non-german\", \"model\": \"penalized_logreg\", \"scale\": \"do-not-scale\", \"training_size\": \"1k\", \"training_year\": \"2012_14\"}",
    "universe_id": "78924c731e47e7743fc17f95487eb533"
   },
   "start_time": "2025-08-19T19:01:54.093629",
   "version": "2.6.0"
  }
 },
 "nbformat": 4,
 "nbformat_minor": 5
}