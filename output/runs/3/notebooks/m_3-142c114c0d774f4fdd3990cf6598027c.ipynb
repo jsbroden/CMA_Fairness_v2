{
 "cells": [
  {
   "cell_type": "markdown",
   "id": "ef23dbb3",
   "metadata": {
    "papermill": {
     "duration": 0.014556,
     "end_time": "2025-08-19T19:10:15.404675",
     "exception": false,
     "start_time": "2025-08-19T19:10:15.390119",
     "status": "completed"
    },
    "tags": []
   },
   "source": [
    "# Setup"
   ]
  },
  {
   "cell_type": "code",
   "execution_count": 1,
   "id": "0bc8e7dc",
   "metadata": {
    "execution": {
     "iopub.execute_input": "2025-08-19T19:10:15.424555Z",
     "iopub.status.busy": "2025-08-19T19:10:15.424134Z",
     "iopub.status.idle": "2025-08-19T19:10:15.435469Z",
     "shell.execute_reply": "2025-08-19T19:10:15.434686Z"
    },
    "papermill": {
     "duration": 0.030281,
     "end_time": "2025-08-19T19:10:15.444320",
     "exception": false,
     "start_time": "2025-08-19T19:10:15.414039",
     "status": "completed"
    },
    "tags": []
   },
   "outputs": [
    {
     "name": "stdout",
     "output_type": "stream",
     "text": [
      "/dss/dsshome1/0C/ra93lal2/cma/CMA_Fairness_v2\n"
     ]
    },
    {
     "name": "stderr",
     "output_type": "stream",
     "text": [
      "/dss/dsshome1/0C/ra93lal2/.local/share/virtualenvs/CMA_Fairness_v2-3j10GkSs/lib/python3.10/site-packages/IPython/core/magics/osm.py:393: UserWarning: This is now an optional IPython functionality, using bookmarks requires you to install the `pickleshare` library.\n",
      "  bkms = self.shell.db.get('bookmarks', {})\n",
      "/dss/dsshome1/0C/ra93lal2/.local/share/virtualenvs/CMA_Fairness_v2-3j10GkSs/lib/python3.10/site-packages/IPython/core/magics/osm.py:417: UserWarning: This is now an optional IPython functionality, setting dhist requires you to install the `pickleshare` library.\n",
      "  self.shell.db['dhist'] = compress_dhist(dhist)[-100:]\n"
     ]
    }
   ],
   "source": [
    "%cd ~/cma/CMA_Fairness_v2"
   ]
  },
  {
   "cell_type": "markdown",
   "id": "9d235661",
   "metadata": {
    "papermill": {
     "duration": 0.009039,
     "end_time": "2025-08-19T19:10:15.467761",
     "exception": false,
     "start_time": "2025-08-19T19:10:15.458722",
     "status": "completed"
    },
    "tags": []
   },
   "source": [
    "The following cell holds the definition of our parameters, these values can be overriden by rendering the with e.g. the following command:\n",
    "\n",
    "papermill -p alpha 0.2 -p ratio 0.3 universe_analysis.ipynb output/test_run.ipynb"
   ]
  },
  {
   "cell_type": "code",
   "execution_count": 2,
   "id": "4a789d8e",
   "metadata": {
    "execution": {
     "iopub.execute_input": "2025-08-19T19:10:15.487624Z",
     "iopub.status.busy": "2025-08-19T19:10:15.487245Z",
     "iopub.status.idle": "2025-08-19T19:10:15.491264Z",
     "shell.execute_reply": "2025-08-19T19:10:15.490575Z"
    },
    "papermill": {
     "duration": 0.015766,
     "end_time": "2025-08-19T19:10:15.493307",
     "exception": false,
     "start_time": "2025-08-19T19:10:15.477541",
     "status": "completed"
    },
    "tags": []
   },
   "outputs": [
    {
     "name": "stdout",
     "output_type": "stream",
     "text": [
      "Current working directory: /dss/dsshome1/0C/ra93lal2/cma/CMA_Fairness_v2\n"
     ]
    }
   ],
   "source": [
    "import os\n",
    "print(\"Current working directory:\", os.getcwd())"
   ]
  },
  {
   "cell_type": "code",
   "execution_count": 3,
   "id": "4132aaed",
   "metadata": {
    "execution": {
     "iopub.execute_input": "2025-08-19T19:10:15.513022Z",
     "iopub.status.busy": "2025-08-19T19:10:15.512780Z",
     "iopub.status.idle": "2025-08-19T19:10:15.517262Z",
     "shell.execute_reply": "2025-08-19T19:10:15.516520Z"
    },
    "papermill": {
     "duration": 0.016107,
     "end_time": "2025-08-19T19:10:15.518546",
     "exception": false,
     "start_time": "2025-08-19T19:10:15.502439",
     "status": "completed"
    },
    "tags": [
     "parameters"
    ]
   },
   "outputs": [],
   "source": [
    "run_no = 0\n",
    "universe_id = \"test\"\n",
    "universe = {\n",
    "    \"training_size\": \"5k\", # \"25k\", \"5k\", \"1k\"\n",
    "    \"training_year\": \"2012_14\", # \"2014\", \"2012_14\", \"2010_14\"\n",
    "    \"scale\": \"scale\", # \"scale\", \"do-not-scale\",\n",
    "    \"model\": \"elasticnet\", # \"logreg\", \"penalized_logreg\", \"rf\", \"gbm\", \"elasticnet\"\n",
    "    \"cutoff\": [\"quantile_0.15\", \"quantile_0.30\"],\n",
    "    \"exclude_features\": \"age\", # \"none\", \"nationality\", \"sex\", \"nationality-sex\", \"age\"\n",
    "    \"exclude_subgroups\": \"drop-non-german\", # \"keep-all\", \"drop-non-german\"\n",
    "    \"eval_fairness_grouping\": [\"majority-minority\", \"nationality-all\"]\n",
    "}\n",
    "\n",
    "output_dir=\"./output\"\n",
    "seed=0"
   ]
  },
  {
   "cell_type": "code",
   "execution_count": 4,
   "id": "4309ca1a",
   "metadata": {
    "execution": {
     "iopub.execute_input": "2025-08-19T19:10:15.539807Z",
     "iopub.status.busy": "2025-08-19T19:10:15.539466Z",
     "iopub.status.idle": "2025-08-19T19:10:15.543200Z",
     "shell.execute_reply": "2025-08-19T19:10:15.542541Z"
    },
    "papermill": {
     "duration": 0.015204,
     "end_time": "2025-08-19T19:10:15.544367",
     "exception": false,
     "start_time": "2025-08-19T19:10:15.529163",
     "status": "completed"
    },
    "tags": [
     "injected-parameters"
    ]
   },
   "outputs": [],
   "source": [
    "# Parameters\n",
    "universe_id = \"142c114c0d774f4fdd3990cf6598027c\"\n",
    "run_no = \"3\"\n",
    "universe = \"{\\\"cutoff\\\": [\\\"quantile_0.1\\\", \\\"quantile_0.25\\\"], \\\"eval_fairness_grouping\\\": [\\\"majority-minority\\\", \\\"nationality-all\\\"], \\\"exclude_features\\\": \\\"nationality\\\", \\\"exclude_subgroups\\\": \\\"keep-all\\\", \\\"model\\\": \\\"rf\\\", \\\"scale\\\": \\\"do-not-scale\\\", \\\"training_size\\\": \\\"1k\\\", \\\"training_year\\\": \\\"2010_14\\\"}\"\n",
    "output_dir = \"output\"\n",
    "seed = \"2023\"\n"
   ]
  },
  {
   "cell_type": "code",
   "execution_count": 5,
   "id": "a5d7941f",
   "metadata": {
    "execution": {
     "iopub.execute_input": "2025-08-19T19:10:15.564524Z",
     "iopub.status.busy": "2025-08-19T19:10:15.564143Z",
     "iopub.status.idle": "2025-08-19T19:10:15.576333Z",
     "shell.execute_reply": "2025-08-19T19:10:15.575225Z"
    },
    "papermill": {
     "duration": 0.026685,
     "end_time": "2025-08-19T19:10:15.580686",
     "exception": false,
     "start_time": "2025-08-19T19:10:15.554001",
     "status": "completed"
    },
    "tags": []
   },
   "outputs": [],
   "source": [
    "import json\n",
    "if isinstance(universe, str):\n",
    "    universe = json.loads(universe)"
   ]
  },
  {
   "cell_type": "code",
   "execution_count": 6,
   "id": "7076ccb1",
   "metadata": {
    "execution": {
     "iopub.execute_input": "2025-08-19T19:10:15.614206Z",
     "iopub.status.busy": "2025-08-19T19:10:15.613817Z",
     "iopub.status.idle": "2025-08-19T19:10:15.646996Z",
     "shell.execute_reply": "2025-08-19T19:10:15.646235Z"
    },
    "papermill": {
     "duration": 0.047414,
     "end_time": "2025-08-19T19:10:15.649167",
     "exception": false,
     "start_time": "2025-08-19T19:10:15.601753",
     "status": "completed"
    },
    "tags": []
   },
   "outputs": [],
   "source": [
    "# Auto-reload the custom package\n",
    "%load_ext autoreload\n",
    "%autoreload 1\n",
    "%aimport fairness_multiverse"
   ]
  },
  {
   "cell_type": "code",
   "execution_count": 7,
   "id": "94c8eb93",
   "metadata": {
    "execution": {
     "iopub.execute_input": "2025-08-19T19:10:15.682895Z",
     "iopub.status.busy": "2025-08-19T19:10:15.682036Z",
     "iopub.status.idle": "2025-08-19T19:10:17.228560Z",
     "shell.execute_reply": "2025-08-19T19:10:17.226356Z"
    },
    "papermill": {
     "duration": 1.56396,
     "end_time": "2025-08-19T19:10:17.232149",
     "exception": false,
     "start_time": "2025-08-19T19:10:15.668189",
     "status": "completed"
    },
    "tags": []
   },
   "outputs": [],
   "source": [
    "from fairness_multiverse.universe import UniverseAnalysis\n",
    "\n",
    "universe_analysis = UniverseAnalysis(\n",
    "    run_no = run_no,\n",
    "    universe_id = universe_id,\n",
    "    universe = universe,\n",
    "    output_dir=output_dir,\n",
    ")"
   ]
  },
  {
   "cell_type": "code",
   "execution_count": 8,
   "id": "2a6381cf",
   "metadata": {
    "execution": {
     "iopub.execute_input": "2025-08-19T19:10:17.286282Z",
     "iopub.status.busy": "2025-08-19T19:10:17.284208Z",
     "iopub.status.idle": "2025-08-19T19:10:17.293319Z",
     "shell.execute_reply": "2025-08-19T19:10:17.292376Z"
    },
    "papermill": {
     "duration": 0.033479,
     "end_time": "2025-08-19T19:10:17.294728",
     "exception": false,
     "start_time": "2025-08-19T19:10:17.261249",
     "status": "completed"
    },
    "tags": []
   },
   "outputs": [
    {
     "name": "stdout",
     "output_type": "stream",
     "text": [
      "Using Seed: 2023\n"
     ]
    }
   ],
   "source": [
    "import numpy as np\n",
    "parsed_seed = int(seed)\n",
    "np.random.seed(parsed_seed)\n",
    "print(f\"Using Seed: {parsed_seed}\")"
   ]
  },
  {
   "cell_type": "markdown",
   "id": "b6e958b4",
   "metadata": {
    "papermill": {
     "duration": 0.009399,
     "end_time": "2025-08-19T19:10:17.317088",
     "exception": false,
     "start_time": "2025-08-19T19:10:17.307689",
     "status": "completed"
    },
    "tags": []
   },
   "source": [
    "# Loading Data"
   ]
  },
  {
   "cell_type": "code",
   "execution_count": 9,
   "id": "98701482",
   "metadata": {
    "execution": {
     "iopub.execute_input": "2025-08-19T19:10:17.337769Z",
     "iopub.status.busy": "2025-08-19T19:10:17.337183Z",
     "iopub.status.idle": "2025-08-19T19:10:27.715638Z",
     "shell.execute_reply": "2025-08-19T19:10:27.714469Z"
    },
    "papermill": {
     "duration": 10.391009,
     "end_time": "2025-08-19T19:10:27.717023",
     "exception": false,
     "start_time": "2025-08-19T19:10:17.326014",
     "status": "completed"
    },
    "tags": []
   },
   "outputs": [
    {
     "name": "stdout",
     "output_type": "stream",
     "text": [
      "Loading SIAB data from cache: data/siab_cached.csv.gz\n"
     ]
    },
    {
     "name": "stdout",
     "output_type": "stream",
     "text": [
      "(643690, 164)\n"
     ]
    }
   ],
   "source": [
    "from pathlib import Path\n",
    "import pandas as pd\n",
    "\n",
    "# File paths\n",
    "raw_file = Path(\"data/raw/siab.csv\")\n",
    "cache_file = Path(\"data/siab_cached.csv.gz\")\n",
    "\n",
    "# Ensure cache directory exists\n",
    "cache_file.parent.mkdir(parents=True, exist_ok=True)\n",
    "\n",
    "# Load with simple caching\n",
    "if cache_file.exists():\n",
    "    print(f\"Loading SIAB data from cache: {cache_file}\")\n",
    "    siab = pd.read_csv(cache_file, compression='gzip')\n",
    "else:\n",
    "    print(f\"Cache not found. Reading raw SIAB data: {raw_file}\")\n",
    "    siab = pd.read_csv(raw_file)\n",
    "    siab.to_csv(cache_file, index=False, compression='gzip')\n",
    "    print(f\"Cached SIAB data to: {cache_file}\")\n",
    "\n",
    "print(siab.shape)"
   ]
  },
  {
   "cell_type": "code",
   "execution_count": 10,
   "id": "058d2abb",
   "metadata": {
    "execution": {
     "iopub.execute_input": "2025-08-19T19:10:27.787144Z",
     "iopub.status.busy": "2025-08-19T19:10:27.786354Z",
     "iopub.status.idle": "2025-08-19T19:10:27.983514Z",
     "shell.execute_reply": "2025-08-19T19:10:27.982591Z"
    },
    "papermill": {
     "duration": 0.253469,
     "end_time": "2025-08-19T19:10:27.986522",
     "exception": false,
     "start_time": "2025-08-19T19:10:27.733053",
     "status": "completed"
    },
    "tags": []
   },
   "outputs": [
    {
     "data": {
      "text/html": [
       "<div>\n",
       "<style scoped>\n",
       "    .dataframe tbody tr th:only-of-type {\n",
       "        vertical-align: middle;\n",
       "    }\n",
       "\n",
       "    .dataframe tbody tr th {\n",
       "        vertical-align: top;\n",
       "    }\n",
       "\n",
       "    .dataframe thead th {\n",
       "        text-align: right;\n",
       "    }\n",
       "</style>\n",
       "<table border=\"1\" class=\"dataframe\">\n",
       "  <thead>\n",
       "    <tr style=\"text-align: right;\">\n",
       "      <th></th>\n",
       "      <th>persnr</th>\n",
       "      <th>year</th>\n",
       "      <th>nrEntry</th>\n",
       "      <th>ltue</th>\n",
       "      <th>employed_before</th>\n",
       "      <th>receipt_leh_before</th>\n",
       "      <th>receipt_lhg_before</th>\n",
       "      <th>se_before</th>\n",
       "      <th>ASU_notue_seeking_before</th>\n",
       "      <th>ASU_other_before</th>\n",
       "      <th>...</th>\n",
       "      <th>minijob_tot_dur_byage</th>\n",
       "      <th>ft_tot_dur_byage</th>\n",
       "      <th>befrist_tot_dur_byage</th>\n",
       "      <th>leih_tot_dur_byage</th>\n",
       "      <th>LHG_tot_dur_byage</th>\n",
       "      <th>LEH_tot_dur_byage</th>\n",
       "      <th>almp_tot_dur_byage</th>\n",
       "      <th>almp_aw_tot_dur_byage</th>\n",
       "      <th>se_tot_dur_byage</th>\n",
       "      <th>seeking1_tot_dur_byage</th>\n",
       "    </tr>\n",
       "  </thead>\n",
       "  <tbody>\n",
       "    <tr>\n",
       "      <th>0</th>\n",
       "      <td>7</td>\n",
       "      <td>2015</td>\n",
       "      <td>1</td>\n",
       "      <td>0</td>\n",
       "      <td>1</td>\n",
       "      <td>0</td>\n",
       "      <td>0</td>\n",
       "      <td>0</td>\n",
       "      <td>1</td>\n",
       "      <td>0</td>\n",
       "      <td>...</td>\n",
       "      <td>0.000000</td>\n",
       "      <td>0.000000</td>\n",
       "      <td>15.043478</td>\n",
       "      <td>0.000000</td>\n",
       "      <td>0.000000</td>\n",
       "      <td>0.000000</td>\n",
       "      <td>0.000000</td>\n",
       "      <td>0.000000</td>\n",
       "      <td>0.000000</td>\n",
       "      <td>0.000000</td>\n",
       "    </tr>\n",
       "    <tr>\n",
       "      <th>1</th>\n",
       "      <td>18</td>\n",
       "      <td>2010</td>\n",
       "      <td>1</td>\n",
       "      <td>1</td>\n",
       "      <td>0</td>\n",
       "      <td>0</td>\n",
       "      <td>0</td>\n",
       "      <td>0</td>\n",
       "      <td>0</td>\n",
       "      <td>0</td>\n",
       "      <td>...</td>\n",
       "      <td>0.000000</td>\n",
       "      <td>0.000000</td>\n",
       "      <td>0.000000</td>\n",
       "      <td>0.000000</td>\n",
       "      <td>0.000000</td>\n",
       "      <td>0.000000</td>\n",
       "      <td>0.000000</td>\n",
       "      <td>0.000000</td>\n",
       "      <td>0.000000</td>\n",
       "      <td>0.000000</td>\n",
       "    </tr>\n",
       "    <tr>\n",
       "      <th>2</th>\n",
       "      <td>18</td>\n",
       "      <td>2011</td>\n",
       "      <td>2</td>\n",
       "      <td>0</td>\n",
       "      <td>1</td>\n",
       "      <td>0</td>\n",
       "      <td>1</td>\n",
       "      <td>0</td>\n",
       "      <td>1</td>\n",
       "      <td>0</td>\n",
       "      <td>...</td>\n",
       "      <td>2.714286</td>\n",
       "      <td>2.714286</td>\n",
       "      <td>0.000000</td>\n",
       "      <td>0.000000</td>\n",
       "      <td>10.775510</td>\n",
       "      <td>0.000000</td>\n",
       "      <td>8.367347</td>\n",
       "      <td>0.000000</td>\n",
       "      <td>0.000000</td>\n",
       "      <td>9.836735</td>\n",
       "    </tr>\n",
       "    <tr>\n",
       "      <th>3</th>\n",
       "      <td>18</td>\n",
       "      <td>2012</td>\n",
       "      <td>3</td>\n",
       "      <td>0</td>\n",
       "      <td>1</td>\n",
       "      <td>0</td>\n",
       "      <td>1</td>\n",
       "      <td>0</td>\n",
       "      <td>1</td>\n",
       "      <td>0</td>\n",
       "      <td>...</td>\n",
       "      <td>4.200000</td>\n",
       "      <td>4.200000</td>\n",
       "      <td>0.000000</td>\n",
       "      <td>0.000000</td>\n",
       "      <td>12.100000</td>\n",
       "      <td>0.000000</td>\n",
       "      <td>9.400000</td>\n",
       "      <td>0.000000</td>\n",
       "      <td>0.000000</td>\n",
       "      <td>9.960000</td>\n",
       "    </tr>\n",
       "    <tr>\n",
       "      <th>4</th>\n",
       "      <td>18</td>\n",
       "      <td>2012</td>\n",
       "      <td>4</td>\n",
       "      <td>0</td>\n",
       "      <td>1</td>\n",
       "      <td>0</td>\n",
       "      <td>1</td>\n",
       "      <td>0</td>\n",
       "      <td>1</td>\n",
       "      <td>0</td>\n",
       "      <td>...</td>\n",
       "      <td>5.460000</td>\n",
       "      <td>5.460000</td>\n",
       "      <td>0.000000</td>\n",
       "      <td>0.000000</td>\n",
       "      <td>13.360000</td>\n",
       "      <td>0.000000</td>\n",
       "      <td>10.320000</td>\n",
       "      <td>0.000000</td>\n",
       "      <td>0.000000</td>\n",
       "      <td>10.280000</td>\n",
       "    </tr>\n",
       "    <tr>\n",
       "      <th>...</th>\n",
       "      <td>...</td>\n",
       "      <td>...</td>\n",
       "      <td>...</td>\n",
       "      <td>...</td>\n",
       "      <td>...</td>\n",
       "      <td>...</td>\n",
       "      <td>...</td>\n",
       "      <td>...</td>\n",
       "      <td>...</td>\n",
       "      <td>...</td>\n",
       "      <td>...</td>\n",
       "      <td>...</td>\n",
       "      <td>...</td>\n",
       "      <td>...</td>\n",
       "      <td>...</td>\n",
       "      <td>...</td>\n",
       "      <td>...</td>\n",
       "      <td>...</td>\n",
       "      <td>...</td>\n",
       "      <td>...</td>\n",
       "      <td>...</td>\n",
       "    </tr>\n",
       "    <tr>\n",
       "      <th>643685</th>\n",
       "      <td>1827860</td>\n",
       "      <td>2013</td>\n",
       "      <td>1</td>\n",
       "      <td>0</td>\n",
       "      <td>0</td>\n",
       "      <td>0</td>\n",
       "      <td>1</td>\n",
       "      <td>0</td>\n",
       "      <td>0</td>\n",
       "      <td>1</td>\n",
       "      <td>...</td>\n",
       "      <td>0.000000</td>\n",
       "      <td>0.000000</td>\n",
       "      <td>0.000000</td>\n",
       "      <td>0.000000</td>\n",
       "      <td>0.612903</td>\n",
       "      <td>0.000000</td>\n",
       "      <td>0.000000</td>\n",
       "      <td>0.000000</td>\n",
       "      <td>0.000000</td>\n",
       "      <td>0.000000</td>\n",
       "    </tr>\n",
       "    <tr>\n",
       "      <th>643686</th>\n",
       "      <td>1827860</td>\n",
       "      <td>2015</td>\n",
       "      <td>2</td>\n",
       "      <td>1</td>\n",
       "      <td>0</td>\n",
       "      <td>0</td>\n",
       "      <td>1</td>\n",
       "      <td>0</td>\n",
       "      <td>1</td>\n",
       "      <td>0</td>\n",
       "      <td>...</td>\n",
       "      <td>0.000000</td>\n",
       "      <td>0.000000</td>\n",
       "      <td>0.212121</td>\n",
       "      <td>0.212121</td>\n",
       "      <td>17.363636</td>\n",
       "      <td>0.000000</td>\n",
       "      <td>8.909091</td>\n",
       "      <td>0.000000</td>\n",
       "      <td>0.000000</td>\n",
       "      <td>7.121212</td>\n",
       "    </tr>\n",
       "    <tr>\n",
       "      <th>643687</th>\n",
       "      <td>1827860</td>\n",
       "      <td>2016</td>\n",
       "      <td>3</td>\n",
       "      <td>1</td>\n",
       "      <td>0</td>\n",
       "      <td>0</td>\n",
       "      <td>1</td>\n",
       "      <td>1</td>\n",
       "      <td>0</td>\n",
       "      <td>1</td>\n",
       "      <td>...</td>\n",
       "      <td>0.000000</td>\n",
       "      <td>0.000000</td>\n",
       "      <td>0.294118</td>\n",
       "      <td>0.205882</td>\n",
       "      <td>34.705882</td>\n",
       "      <td>0.000000</td>\n",
       "      <td>10.352941</td>\n",
       "      <td>1.705882</td>\n",
       "      <td>1.705882</td>\n",
       "      <td>23.911765</td>\n",
       "    </tr>\n",
       "    <tr>\n",
       "      <th>643688</th>\n",
       "      <td>1827869</td>\n",
       "      <td>2013</td>\n",
       "      <td>1</td>\n",
       "      <td>1</td>\n",
       "      <td>1</td>\n",
       "      <td>0</td>\n",
       "      <td>0</td>\n",
       "      <td>0</td>\n",
       "      <td>1</td>\n",
       "      <td>0</td>\n",
       "      <td>...</td>\n",
       "      <td>0.000000</td>\n",
       "      <td>0.000000</td>\n",
       "      <td>0.000000</td>\n",
       "      <td>0.000000</td>\n",
       "      <td>0.000000</td>\n",
       "      <td>0.525424</td>\n",
       "      <td>0.000000</td>\n",
       "      <td>0.000000</td>\n",
       "      <td>0.000000</td>\n",
       "      <td>0.000000</td>\n",
       "    </tr>\n",
       "    <tr>\n",
       "      <th>643689</th>\n",
       "      <td>1827869</td>\n",
       "      <td>2014</td>\n",
       "      <td>2</td>\n",
       "      <td>0</td>\n",
       "      <td>0</td>\n",
       "      <td>1</td>\n",
       "      <td>0</td>\n",
       "      <td>0</td>\n",
       "      <td>1</td>\n",
       "      <td>0</td>\n",
       "      <td>...</td>\n",
       "      <td>0.000000</td>\n",
       "      <td>0.666667</td>\n",
       "      <td>0.666667</td>\n",
       "      <td>0.000000</td>\n",
       "      <td>0.000000</td>\n",
       "      <td>8.950000</td>\n",
       "      <td>1.033333</td>\n",
       "      <td>0.083333</td>\n",
       "      <td>0.083333</td>\n",
       "      <td>8.133333</td>\n",
       "    </tr>\n",
       "  </tbody>\n",
       "</table>\n",
       "<p>643690 rows × 164 columns</p>\n",
       "</div>"
      ],
      "text/plain": [
       "         persnr  year  nrEntry  ltue  employed_before  receipt_leh_before  \\\n",
       "0             7  2015        1     0                1                   0   \n",
       "1            18  2010        1     1                0                   0   \n",
       "2            18  2011        2     0                1                   0   \n",
       "3            18  2012        3     0                1                   0   \n",
       "4            18  2012        4     0                1                   0   \n",
       "...         ...   ...      ...   ...              ...                 ...   \n",
       "643685  1827860  2013        1     0                0                   0   \n",
       "643686  1827860  2015        2     1                0                   0   \n",
       "643687  1827860  2016        3     1                0                   0   \n",
       "643688  1827869  2013        1     1                1                   0   \n",
       "643689  1827869  2014        2     0                0                   1   \n",
       "\n",
       "        receipt_lhg_before  se_before  ASU_notue_seeking_before  \\\n",
       "0                        0          0                         1   \n",
       "1                        0          0                         0   \n",
       "2                        1          0                         1   \n",
       "3                        1          0                         1   \n",
       "4                        1          0                         1   \n",
       "...                    ...        ...                       ...   \n",
       "643685                   1          0                         0   \n",
       "643686                   1          0                         1   \n",
       "643687                   1          1                         0   \n",
       "643688                   0          0                         1   \n",
       "643689                   0          0                         1   \n",
       "\n",
       "        ASU_other_before  ...  minijob_tot_dur_byage  ft_tot_dur_byage  \\\n",
       "0                      0  ...               0.000000          0.000000   \n",
       "1                      0  ...               0.000000          0.000000   \n",
       "2                      0  ...               2.714286          2.714286   \n",
       "3                      0  ...               4.200000          4.200000   \n",
       "4                      0  ...               5.460000          5.460000   \n",
       "...                  ...  ...                    ...               ...   \n",
       "643685                 1  ...               0.000000          0.000000   \n",
       "643686                 0  ...               0.000000          0.000000   \n",
       "643687                 1  ...               0.000000          0.000000   \n",
       "643688                 0  ...               0.000000          0.000000   \n",
       "643689                 0  ...               0.000000          0.666667   \n",
       "\n",
       "        befrist_tot_dur_byage  leih_tot_dur_byage  LHG_tot_dur_byage  \\\n",
       "0                   15.043478            0.000000           0.000000   \n",
       "1                    0.000000            0.000000           0.000000   \n",
       "2                    0.000000            0.000000          10.775510   \n",
       "3                    0.000000            0.000000          12.100000   \n",
       "4                    0.000000            0.000000          13.360000   \n",
       "...                       ...                 ...                ...   \n",
       "643685               0.000000            0.000000           0.612903   \n",
       "643686               0.212121            0.212121          17.363636   \n",
       "643687               0.294118            0.205882          34.705882   \n",
       "643688               0.000000            0.000000           0.000000   \n",
       "643689               0.666667            0.000000           0.000000   \n",
       "\n",
       "        LEH_tot_dur_byage  almp_tot_dur_byage  almp_aw_tot_dur_byage  \\\n",
       "0                0.000000            0.000000               0.000000   \n",
       "1                0.000000            0.000000               0.000000   \n",
       "2                0.000000            8.367347               0.000000   \n",
       "3                0.000000            9.400000               0.000000   \n",
       "4                0.000000           10.320000               0.000000   \n",
       "...                   ...                 ...                    ...   \n",
       "643685           0.000000            0.000000               0.000000   \n",
       "643686           0.000000            8.909091               0.000000   \n",
       "643687           0.000000           10.352941               1.705882   \n",
       "643688           0.525424            0.000000               0.000000   \n",
       "643689           8.950000            1.033333               0.083333   \n",
       "\n",
       "        se_tot_dur_byage  seeking1_tot_dur_byage  \n",
       "0               0.000000                0.000000  \n",
       "1               0.000000                0.000000  \n",
       "2               0.000000                9.836735  \n",
       "3               0.000000                9.960000  \n",
       "4               0.000000               10.280000  \n",
       "...                  ...                     ...  \n",
       "643685          0.000000                0.000000  \n",
       "643686          0.000000                7.121212  \n",
       "643687          1.705882               23.911765  \n",
       "643688          0.000000                0.000000  \n",
       "643689          0.083333                8.133333  \n",
       "\n",
       "[643690 rows x 164 columns]"
      ]
     },
     "execution_count": 10,
     "metadata": {},
     "output_type": "execute_result"
    }
   ],
   "source": [
    "siab"
   ]
  },
  {
   "cell_type": "markdown",
   "id": "1f87e805",
   "metadata": {
    "papermill": {
     "duration": 0.012117,
     "end_time": "2025-08-19T19:10:28.020325",
     "exception": false,
     "start_time": "2025-08-19T19:10:28.008208",
     "status": "completed"
    },
    "tags": []
   },
   "source": [
    "# Splitting Data and Setting Training Data Size"
   ]
  },
  {
   "cell_type": "code",
   "execution_count": 11,
   "id": "910ae358",
   "metadata": {
    "execution": {
     "iopub.execute_input": "2025-08-19T19:10:28.043447Z",
     "iopub.status.busy": "2025-08-19T19:10:28.042212Z",
     "iopub.status.idle": "2025-08-19T19:10:29.077619Z",
     "shell.execute_reply": "2025-08-19T19:10:29.076943Z"
    },
    "papermill": {
     "duration": 1.05532,
     "end_time": "2025-08-19T19:10:29.085658",
     "exception": false,
     "start_time": "2025-08-19T19:10:28.030338",
     "status": "completed"
    },
    "tags": []
   },
   "outputs": [],
   "source": [
    "from fairness_multiverse.universe import sample_by_year_size\n",
    "\n",
    "siab_train = sample_by_year_size(siab,\n",
    "                               training_year=universe[\"training_year\"],\n",
    "                               training_size=universe[\"training_size\"])"
   ]
  },
  {
   "cell_type": "code",
   "execution_count": 12,
   "id": "919c8ff5",
   "metadata": {
    "execution": {
     "iopub.execute_input": "2025-08-19T19:10:29.123404Z",
     "iopub.status.busy": "2025-08-19T19:10:29.122114Z",
     "iopub.status.idle": "2025-08-19T19:10:29.133520Z",
     "shell.execute_reply": "2025-08-19T19:10:29.132284Z"
    },
    "papermill": {
     "duration": 0.032715,
     "end_time": "2025-08-19T19:10:29.135141",
     "exception": false,
     "start_time": "2025-08-19T19:10:29.102426",
     "status": "completed"
    },
    "tags": []
   },
   "outputs": [
    {
     "data": {
      "text/plain": [
       "(1000, 164)"
      ]
     },
     "execution_count": 12,
     "metadata": {},
     "output_type": "execute_result"
    }
   ],
   "source": [
    "siab_train.shape"
   ]
  },
  {
   "cell_type": "code",
   "execution_count": 13,
   "id": "feb13bf4",
   "metadata": {
    "execution": {
     "iopub.execute_input": "2025-08-19T19:10:29.175494Z",
     "iopub.status.busy": "2025-08-19T19:10:29.174336Z",
     "iopub.status.idle": "2025-08-19T19:10:29.190068Z",
     "shell.execute_reply": "2025-08-19T19:10:29.188739Z"
    },
    "papermill": {
     "duration": 0.043877,
     "end_time": "2025-08-19T19:10:29.205564",
     "exception": false,
     "start_time": "2025-08-19T19:10:29.161687",
     "status": "completed"
    },
    "tags": []
   },
   "outputs": [
    {
     "data": {
      "text/plain": [
       "year\n",
       "2010    200\n",
       "2011    200\n",
       "2012    200\n",
       "2013    200\n",
       "2014    200\n",
       "dtype: int64"
      ]
     },
     "metadata": {},
     "output_type": "display_data"
    }
   ],
   "source": [
    "display(siab_train.groupby(\"year\").size())"
   ]
  },
  {
   "cell_type": "code",
   "execution_count": 14,
   "id": "0997782f",
   "metadata": {
    "execution": {
     "iopub.execute_input": "2025-08-19T19:10:29.231691Z",
     "iopub.status.busy": "2025-08-19T19:10:29.230967Z",
     "iopub.status.idle": "2025-08-19T19:10:29.490210Z",
     "shell.execute_reply": "2025-08-19T19:10:29.489310Z"
    },
    "papermill": {
     "duration": 0.272377,
     "end_time": "2025-08-19T19:10:29.491676",
     "exception": false,
     "start_time": "2025-08-19T19:10:29.219299",
     "status": "completed"
    },
    "tags": []
   },
   "outputs": [],
   "source": [
    "#siab_train = siab_s[siab_s.year < 2015]\n",
    "siab_calib = siab[siab.year == 2015]\n",
    "siab_test = siab[siab.year == 2016]"
   ]
  },
  {
   "cell_type": "code",
   "execution_count": 15,
   "id": "2c1e4012",
   "metadata": {
    "execution": {
     "iopub.execute_input": "2025-08-19T19:10:29.530559Z",
     "iopub.status.busy": "2025-08-19T19:10:29.529503Z",
     "iopub.status.idle": "2025-08-19T19:10:29.536107Z",
     "shell.execute_reply": "2025-08-19T19:10:29.534837Z"
    },
    "papermill": {
     "duration": 0.031952,
     "end_time": "2025-08-19T19:10:29.537721",
     "exception": false,
     "start_time": "2025-08-19T19:10:29.505769",
     "status": "completed"
    },
    "tags": []
   },
   "outputs": [],
   "source": [
    "#siab_calib.shape"
   ]
  },
  {
   "cell_type": "code",
   "execution_count": 16,
   "id": "f66b54ca",
   "metadata": {
    "execution": {
     "iopub.execute_input": "2025-08-19T19:10:29.563726Z",
     "iopub.status.busy": "2025-08-19T19:10:29.562621Z",
     "iopub.status.idle": "2025-08-19T19:10:29.585951Z",
     "shell.execute_reply": "2025-08-19T19:10:29.584415Z"
    },
    "papermill": {
     "duration": 0.039054,
     "end_time": "2025-08-19T19:10:29.589756",
     "exception": false,
     "start_time": "2025-08-19T19:10:29.550702",
     "status": "completed"
    },
    "tags": []
   },
   "outputs": [],
   "source": [
    "#siab_test.shape"
   ]
  },
  {
   "cell_type": "code",
   "execution_count": 17,
   "id": "27e4384d",
   "metadata": {
    "execution": {
     "iopub.execute_input": "2025-08-19T19:10:29.622769Z",
     "iopub.status.busy": "2025-08-19T19:10:29.621660Z",
     "iopub.status.idle": "2025-08-19T19:10:29.633332Z",
     "shell.execute_reply": "2025-08-19T19:10:29.631827Z"
    },
    "papermill": {
     "duration": 0.028609,
     "end_time": "2025-08-19T19:10:29.637114",
     "exception": false,
     "start_time": "2025-08-19T19:10:29.608505",
     "status": "completed"
    },
    "tags": []
   },
   "outputs": [],
   "source": [
    "X_train = siab_train.iloc[:,4:164]\n",
    "y_train = siab_train.iloc[:, [3]]"
   ]
  },
  {
   "cell_type": "code",
   "execution_count": 18,
   "id": "08ee8389",
   "metadata": {
    "execution": {
     "iopub.execute_input": "2025-08-19T19:10:29.667990Z",
     "iopub.status.busy": "2025-08-19T19:10:29.667554Z",
     "iopub.status.idle": "2025-08-19T19:10:29.716943Z",
     "shell.execute_reply": "2025-08-19T19:10:29.715511Z"
    },
    "papermill": {
     "duration": 0.065925,
     "end_time": "2025-08-19T19:10:29.721454",
     "exception": false,
     "start_time": "2025-08-19T19:10:29.655529",
     "status": "completed"
    },
    "tags": []
   },
   "outputs": [],
   "source": [
    "X_calib = siab_calib.iloc[:,4:164]\n",
    "y_calib = siab_calib.iloc[:, [3]]"
   ]
  },
  {
   "cell_type": "code",
   "execution_count": 19,
   "id": "b7ff42e0",
   "metadata": {
    "execution": {
     "iopub.execute_input": "2025-08-19T19:10:29.758145Z",
     "iopub.status.busy": "2025-08-19T19:10:29.757494Z",
     "iopub.status.idle": "2025-08-19T19:10:29.820504Z",
     "shell.execute_reply": "2025-08-19T19:10:29.819474Z"
    },
    "papermill": {
     "duration": 0.078562,
     "end_time": "2025-08-19T19:10:29.822196",
     "exception": false,
     "start_time": "2025-08-19T19:10:29.743634",
     "status": "completed"
    },
    "tags": []
   },
   "outputs": [],
   "source": [
    "X_test = siab_test.iloc[:,4:164]\n",
    "y_true = siab_test.iloc[:, [3]]"
   ]
  },
  {
   "cell_type": "code",
   "execution_count": 20,
   "id": "0275101e",
   "metadata": {
    "execution": {
     "iopub.execute_input": "2025-08-19T19:10:29.846053Z",
     "iopub.status.busy": "2025-08-19T19:10:29.845001Z",
     "iopub.status.idle": "2025-08-19T19:10:29.953401Z",
     "shell.execute_reply": "2025-08-19T19:10:29.952033Z"
    },
    "papermill": {
     "duration": 0.123464,
     "end_time": "2025-08-19T19:10:29.956611",
     "exception": false,
     "start_time": "2025-08-19T19:10:29.833147",
     "status": "completed"
    },
    "tags": []
   },
   "outputs": [],
   "source": [
    "# Auxiliary data needed downstream in the pipeline\n",
    "\n",
    "org_train = X_train.copy()\n",
    "org_test = X_test.copy()\n",
    "org_calib = X_calib.copy()"
   ]
  },
  {
   "cell_type": "markdown",
   "id": "b461e618",
   "metadata": {
    "papermill": {
     "duration": 0.011538,
     "end_time": "2025-08-19T19:10:29.989920",
     "exception": false,
     "start_time": "2025-08-19T19:10:29.978382",
     "status": "completed"
    },
    "tags": []
   },
   "source": [
    "# Preprocessing Data"
   ]
  },
  {
   "cell_type": "code",
   "execution_count": 21,
   "id": "78e74c4b",
   "metadata": {
    "execution": {
     "iopub.execute_input": "2025-08-19T19:10:30.013427Z",
     "iopub.status.busy": "2025-08-19T19:10:30.012216Z",
     "iopub.status.idle": "2025-08-19T19:10:30.021155Z",
     "shell.execute_reply": "2025-08-19T19:10:30.019829Z"
    },
    "papermill": {
     "duration": 0.023094,
     "end_time": "2025-08-19T19:10:30.023221",
     "exception": false,
     "start_time": "2025-08-19T19:10:30.000127",
     "status": "completed"
    },
    "tags": []
   },
   "outputs": [],
   "source": [
    "# EXCLUDE PROTECTED FEATURES\n",
    "# --------------------------\n",
    "\n",
    "excluded_features = universe[\"exclude_features\"].split(\"-\")\n",
    "excluded_features_dictionary = {\n",
    "    \"nationality\": [\"maxdeutsch1\", \"maxdeutsch.Missing.\"],\n",
    "    \"sex\": [\"frau1\"],\n",
    "    \"age\": [\"age\"],\n",
    "}"
   ]
  },
  {
   "cell_type": "code",
   "execution_count": 22,
   "id": "f8e63555",
   "metadata": {
    "execution": {
     "iopub.execute_input": "2025-08-19T19:10:30.048581Z",
     "iopub.status.busy": "2025-08-19T19:10:30.047489Z",
     "iopub.status.idle": "2025-08-19T19:10:30.056000Z",
     "shell.execute_reply": "2025-08-19T19:10:30.054580Z"
    },
    "papermill": {
     "duration": 0.021716,
     "end_time": "2025-08-19T19:10:30.057693",
     "exception": false,
     "start_time": "2025-08-19T19:10:30.035977",
     "status": "completed"
    },
    "tags": []
   },
   "outputs": [],
   "source": [
    "excluded_features_columns = [\n",
    "    excluded_features_dictionary[f] for f in excluded_features if len(f) > 0 and f != \"none\"\n",
    "]"
   ]
  },
  {
   "cell_type": "code",
   "execution_count": 23,
   "id": "da781f7c",
   "metadata": {
    "execution": {
     "iopub.execute_input": "2025-08-19T19:10:30.081168Z",
     "iopub.status.busy": "2025-08-19T19:10:30.080070Z",
     "iopub.status.idle": "2025-08-19T19:10:30.087724Z",
     "shell.execute_reply": "2025-08-19T19:10:30.086385Z"
    },
    "papermill": {
     "duration": 0.020863,
     "end_time": "2025-08-19T19:10:30.089269",
     "exception": false,
     "start_time": "2025-08-19T19:10:30.068406",
     "status": "completed"
    },
    "tags": []
   },
   "outputs": [],
   "source": [
    "from fairness_multiverse.universe import flatten_once\n",
    "\n",
    "excluded_features_columns = flatten_once(excluded_features_columns)"
   ]
  },
  {
   "cell_type": "code",
   "execution_count": 24,
   "id": "37fef0f0",
   "metadata": {
    "execution": {
     "iopub.execute_input": "2025-08-19T19:10:30.112502Z",
     "iopub.status.busy": "2025-08-19T19:10:30.111422Z",
     "iopub.status.idle": "2025-08-19T19:10:30.124410Z",
     "shell.execute_reply": "2025-08-19T19:10:30.123149Z"
    },
    "papermill": {
     "duration": 0.026393,
     "end_time": "2025-08-19T19:10:30.126074",
     "exception": false,
     "start_time": "2025-08-19T19:10:30.099681",
     "status": "completed"
    },
    "tags": []
   },
   "outputs": [
    {
     "name": "stdout",
     "output_type": "stream",
     "text": [
      "Dropping features: ['maxdeutsch1', 'maxdeutsch.Missing.']\n"
     ]
    }
   ],
   "source": [
    "if len(excluded_features_columns) > 0:\n",
    "    print(f\"Dropping features: {excluded_features_columns}\")\n",
    "    X_train.drop(excluded_features_columns, axis=1, inplace=True)"
   ]
  },
  {
   "cell_type": "code",
   "execution_count": 25,
   "id": "d029e3e9",
   "metadata": {
    "execution": {
     "iopub.execute_input": "2025-08-19T19:10:30.151467Z",
     "iopub.status.busy": "2025-08-19T19:10:30.150228Z",
     "iopub.status.idle": "2025-08-19T19:10:30.208170Z",
     "shell.execute_reply": "2025-08-19T19:10:30.206885Z"
    },
    "papermill": {
     "duration": 0.074049,
     "end_time": "2025-08-19T19:10:30.212549",
     "exception": false,
     "start_time": "2025-08-19T19:10:30.138500",
     "status": "completed"
    },
    "tags": []
   },
   "outputs": [
    {
     "name": "stdout",
     "output_type": "stream",
     "text": [
      "Dropping features: ['maxdeutsch1', 'maxdeutsch.Missing.']\n"
     ]
    }
   ],
   "source": [
    "if len(excluded_features_columns) > 0:\n",
    "    print(f\"Dropping features: {excluded_features_columns}\")\n",
    "    X_test.drop(excluded_features_columns, axis=1, inplace=True)"
   ]
  },
  {
   "cell_type": "code",
   "execution_count": 26,
   "id": "01d571f0",
   "metadata": {
    "execution": {
     "iopub.execute_input": "2025-08-19T19:10:30.248178Z",
     "iopub.status.busy": "2025-08-19T19:10:30.246924Z",
     "iopub.status.idle": "2025-08-19T19:10:30.304400Z",
     "shell.execute_reply": "2025-08-19T19:10:30.303123Z"
    },
    "papermill": {
     "duration": 0.074971,
     "end_time": "2025-08-19T19:10:30.308673",
     "exception": false,
     "start_time": "2025-08-19T19:10:30.233702",
     "status": "completed"
    },
    "tags": []
   },
   "outputs": [
    {
     "name": "stdout",
     "output_type": "stream",
     "text": [
      "Dropping features: ['maxdeutsch1', 'maxdeutsch.Missing.']\n"
     ]
    }
   ],
   "source": [
    "if len(excluded_features_columns) > 0:\n",
    "    print(f\"Dropping features: {excluded_features_columns}\")\n",
    "    X_calib.drop(excluded_features_columns, axis=1, inplace=True)"
   ]
  },
  {
   "cell_type": "code",
   "execution_count": 27,
   "id": "3037356e",
   "metadata": {
    "execution": {
     "iopub.execute_input": "2025-08-19T19:10:30.344306Z",
     "iopub.status.busy": "2025-08-19T19:10:30.343232Z",
     "iopub.status.idle": "2025-08-19T19:10:30.351295Z",
     "shell.execute_reply": "2025-08-19T19:10:30.349955Z"
    },
    "papermill": {
     "duration": 0.022963,
     "end_time": "2025-08-19T19:10:30.352877",
     "exception": false,
     "start_time": "2025-08-19T19:10:30.329914",
     "status": "completed"
    },
    "tags": []
   },
   "outputs": [],
   "source": [
    "# EXCLUDE CERTAIN SUBGROUPS\n",
    "# -------------------------\n",
    "\n",
    "mode = universe.get(\"exclude_subgroups\", \"keep-all\") # Defaults to \"keep-all\" if the key is missing."
   ]
  },
  {
   "cell_type": "code",
   "execution_count": 28,
   "id": "9d1e63fd",
   "metadata": {
    "execution": {
     "iopub.execute_input": "2025-08-19T19:10:30.377980Z",
     "iopub.status.busy": "2025-08-19T19:10:30.376893Z",
     "iopub.status.idle": "2025-08-19T19:10:30.387887Z",
     "shell.execute_reply": "2025-08-19T19:10:30.386405Z"
    },
    "papermill": {
     "duration": 0.025043,
     "end_time": "2025-08-19T19:10:30.389666",
     "exception": false,
     "start_time": "2025-08-19T19:10:30.364623",
     "status": "completed"
    },
    "tags": []
   },
   "outputs": [],
   "source": [
    "if mode == \"keep-all\":\n",
    "    keep_mask = pd.Series(True, index=org_train.index)\n",
    "\n",
    "elif mode == \"drop-non-german\":\n",
    "    keep_mask = (org_train[\"maxdeutsch1\"] == 1) & (org_train[\"maxdeutsch.Missing.\"] == 0)\n",
    "\n",
    "else:\n",
    "    raise ValueError(f\"Unsupported mode for exclude_subgroups: {mode}\")"
   ]
  },
  {
   "cell_type": "code",
   "execution_count": 29,
   "id": "d3b65474",
   "metadata": {
    "execution": {
     "iopub.execute_input": "2025-08-19T19:10:30.416731Z",
     "iopub.status.busy": "2025-08-19T19:10:30.415606Z",
     "iopub.status.idle": "2025-08-19T19:10:30.425877Z",
     "shell.execute_reply": "2025-08-19T19:10:30.424636Z"
    },
    "papermill": {
     "duration": 0.024712,
     "end_time": "2025-08-19T19:10:30.427727",
     "exception": false,
     "start_time": "2025-08-19T19:10:30.403015",
     "status": "completed"
    },
    "tags": []
   },
   "outputs": [],
   "source": [
    "n_drop = (~keep_mask).sum() # Calculates how many rows are set to be dropped\n",
    "if n_drop > 0:\n",
    "    pct = n_drop / len(keep_mask) * 100\n",
    "    print(f\"Dropping {n_drop} rows ({pct:.2f}%) where mode='{mode}'\")"
   ]
  },
  {
   "cell_type": "code",
   "execution_count": 30,
   "id": "f44389b3",
   "metadata": {
    "execution": {
     "iopub.execute_input": "2025-08-19T19:10:30.454548Z",
     "iopub.status.busy": "2025-08-19T19:10:30.453034Z",
     "iopub.status.idle": "2025-08-19T19:10:30.462817Z",
     "shell.execute_reply": "2025-08-19T19:10:30.461495Z"
    },
    "papermill": {
     "duration": 0.023594,
     "end_time": "2025-08-19T19:10:30.464390",
     "exception": false,
     "start_time": "2025-08-19T19:10:30.440796",
     "status": "completed"
    },
    "tags": []
   },
   "outputs": [],
   "source": [
    "X_train = X_train[keep_mask]"
   ]
  },
  {
   "cell_type": "code",
   "execution_count": 31,
   "id": "ceca8c2a",
   "metadata": {
    "execution": {
     "iopub.execute_input": "2025-08-19T19:10:30.491061Z",
     "iopub.status.busy": "2025-08-19T19:10:30.489961Z",
     "iopub.status.idle": "2025-08-19T19:10:30.498961Z",
     "shell.execute_reply": "2025-08-19T19:10:30.497602Z"
    },
    "papermill": {
     "duration": 0.023436,
     "end_time": "2025-08-19T19:10:30.500921",
     "exception": false,
     "start_time": "2025-08-19T19:10:30.477485",
     "status": "completed"
    },
    "tags": []
   },
   "outputs": [],
   "source": [
    "y_train = y_train[keep_mask]"
   ]
  },
  {
   "cell_type": "markdown",
   "id": "04d31e2f",
   "metadata": {
    "papermill": {
     "duration": 0.010607,
     "end_time": "2025-08-19T19:10:30.523447",
     "exception": false,
     "start_time": "2025-08-19T19:10:30.512840",
     "status": "completed"
    },
    "tags": []
   },
   "source": [
    "# Model Training"
   ]
  },
  {
   "cell_type": "code",
   "execution_count": 32,
   "id": "db991733",
   "metadata": {
    "execution": {
     "iopub.execute_input": "2025-08-19T19:10:30.547518Z",
     "iopub.status.busy": "2025-08-19T19:10:30.546383Z",
     "iopub.status.idle": "2025-08-19T19:10:30.648740Z",
     "shell.execute_reply": "2025-08-19T19:10:30.647503Z"
    },
    "papermill": {
     "duration": 0.118149,
     "end_time": "2025-08-19T19:10:30.652156",
     "exception": false,
     "start_time": "2025-08-19T19:10:30.534007",
     "status": "completed"
    },
    "tags": []
   },
   "outputs": [],
   "source": [
    "from sklearn.linear_model import LogisticRegression\n",
    "from sklearn.ensemble import GradientBoostingClassifier, RandomForestClassifier\n",
    "\n",
    "if (universe[\"model\"] == \"logreg\"):\n",
    "    model = LogisticRegression() #penalty=\"none\", solver=\"newton-cg\", max_iter=1)\n",
    "elif (universe[\"model\"] == \"penalized_logreg\"):\n",
    "    model = LogisticRegression(penalty=\"l2\", C=0.1) #, solver=\"newton-cg\", max_iter=1)\n",
    "elif (universe[\"model\"] == \"rf\"):\n",
    "    model = RandomForestClassifier() # n_estimators=100, n_jobs=-1\n",
    "elif (universe[\"model\"] == \"gbm\"):\n",
    "    model = GradientBoostingClassifier()\n",
    "elif (universe[\"model\"] == \"elasticnet\"):\n",
    "    model = LogisticRegression(penalty = 'elasticnet', solver = 'saga', l1_ratio = 0.5) # max_iter=5000\n",
    "else:\n",
    "    raise \"Unsupported universe.model\""
   ]
  },
  {
   "cell_type": "code",
   "execution_count": 33,
   "id": "a4b5cd25",
   "metadata": {
    "execution": {
     "iopub.execute_input": "2025-08-19T19:10:30.711448Z",
     "iopub.status.busy": "2025-08-19T19:10:30.710892Z",
     "iopub.status.idle": "2025-08-19T19:10:30.718230Z",
     "shell.execute_reply": "2025-08-19T19:10:30.716806Z"
    },
    "papermill": {
     "duration": 0.045961,
     "end_time": "2025-08-19T19:10:30.720936",
     "exception": false,
     "start_time": "2025-08-19T19:10:30.674975",
     "status": "completed"
    },
    "tags": []
   },
   "outputs": [],
   "source": [
    "from sklearn.pipeline import Pipeline\n",
    "from sklearn.preprocessing import StandardScaler\n",
    "\n",
    "model = Pipeline([\n",
    "    #(\"continuous_processor\", continuous_processor),\n",
    "    #(\"categorical_preprocessor\", categorical_preprocessor),\n",
    "    (\"scale\", StandardScaler() if universe[\"scale\"] == \"scale\" else None), \n",
    "    (\"model\", model),\n",
    "])"
   ]
  },
  {
   "cell_type": "code",
   "execution_count": 34,
   "id": "283a904d",
   "metadata": {
    "execution": {
     "iopub.execute_input": "2025-08-19T19:10:30.756232Z",
     "iopub.status.busy": "2025-08-19T19:10:30.755158Z",
     "iopub.status.idle": "2025-08-19T19:10:31.064257Z",
     "shell.execute_reply": "2025-08-19T19:10:31.063479Z"
    },
    "papermill": {
     "duration": 0.324149,
     "end_time": "2025-08-19T19:10:31.065804",
     "exception": false,
     "start_time": "2025-08-19T19:10:30.741655",
     "status": "completed"
    },
    "tags": []
   },
   "outputs": [
    {
     "data": {
      "text/html": [
       "<style>#sk-container-id-1 {color: black;background-color: white;}#sk-container-id-1 pre{padding: 0;}#sk-container-id-1 div.sk-toggleable {background-color: white;}#sk-container-id-1 label.sk-toggleable__label {cursor: pointer;display: block;width: 100%;margin-bottom: 0;padding: 0.3em;box-sizing: border-box;text-align: center;}#sk-container-id-1 label.sk-toggleable__label-arrow:before {content: \"▸\";float: left;margin-right: 0.25em;color: #696969;}#sk-container-id-1 label.sk-toggleable__label-arrow:hover:before {color: black;}#sk-container-id-1 div.sk-estimator:hover label.sk-toggleable__label-arrow:before {color: black;}#sk-container-id-1 div.sk-toggleable__content {max-height: 0;max-width: 0;overflow: hidden;text-align: left;background-color: #f0f8ff;}#sk-container-id-1 div.sk-toggleable__content pre {margin: 0.2em;color: black;border-radius: 0.25em;background-color: #f0f8ff;}#sk-container-id-1 input.sk-toggleable__control:checked~div.sk-toggleable__content {max-height: 200px;max-width: 100%;overflow: auto;}#sk-container-id-1 input.sk-toggleable__control:checked~label.sk-toggleable__label-arrow:before {content: \"▾\";}#sk-container-id-1 div.sk-estimator input.sk-toggleable__control:checked~label.sk-toggleable__label {background-color: #d4ebff;}#sk-container-id-1 div.sk-label input.sk-toggleable__control:checked~label.sk-toggleable__label {background-color: #d4ebff;}#sk-container-id-1 input.sk-hidden--visually {border: 0;clip: rect(1px 1px 1px 1px);clip: rect(1px, 1px, 1px, 1px);height: 1px;margin: -1px;overflow: hidden;padding: 0;position: absolute;width: 1px;}#sk-container-id-1 div.sk-estimator {font-family: monospace;background-color: #f0f8ff;border: 1px dotted black;border-radius: 0.25em;box-sizing: border-box;margin-bottom: 0.5em;}#sk-container-id-1 div.sk-estimator:hover {background-color: #d4ebff;}#sk-container-id-1 div.sk-parallel-item::after {content: \"\";width: 100%;border-bottom: 1px solid gray;flex-grow: 1;}#sk-container-id-1 div.sk-label:hover label.sk-toggleable__label {background-color: #d4ebff;}#sk-container-id-1 div.sk-serial::before {content: \"\";position: absolute;border-left: 1px solid gray;box-sizing: border-box;top: 0;bottom: 0;left: 50%;z-index: 0;}#sk-container-id-1 div.sk-serial {display: flex;flex-direction: column;align-items: center;background-color: white;padding-right: 0.2em;padding-left: 0.2em;position: relative;}#sk-container-id-1 div.sk-item {position: relative;z-index: 1;}#sk-container-id-1 div.sk-parallel {display: flex;align-items: stretch;justify-content: center;background-color: white;position: relative;}#sk-container-id-1 div.sk-item::before, #sk-container-id-1 div.sk-parallel-item::before {content: \"\";position: absolute;border-left: 1px solid gray;box-sizing: border-box;top: 0;bottom: 0;left: 50%;z-index: -1;}#sk-container-id-1 div.sk-parallel-item {display: flex;flex-direction: column;z-index: 1;position: relative;background-color: white;}#sk-container-id-1 div.sk-parallel-item:first-child::after {align-self: flex-end;width: 50%;}#sk-container-id-1 div.sk-parallel-item:last-child::after {align-self: flex-start;width: 50%;}#sk-container-id-1 div.sk-parallel-item:only-child::after {width: 0;}#sk-container-id-1 div.sk-dashed-wrapped {border: 1px dashed gray;margin: 0 0.4em 0.5em 0.4em;box-sizing: border-box;padding-bottom: 0.4em;background-color: white;}#sk-container-id-1 div.sk-label label {font-family: monospace;font-weight: bold;display: inline-block;line-height: 1.2em;}#sk-container-id-1 div.sk-label-container {text-align: center;}#sk-container-id-1 div.sk-container {/* jupyter's `normalize.less` sets `[hidden] { display: none; }` but bootstrap.min.css set `[hidden] { display: none !important; }` so we also need the `!important` here to be able to override the default hidden behavior on the sphinx rendered scikit-learn.org. See: https://github.com/scikit-learn/scikit-learn/issues/21755 */display: inline-block !important;position: relative;}#sk-container-id-1 div.sk-text-repr-fallback {display: none;}</style><div id=\"sk-container-id-1\" class=\"sk-top-container\"><div class=\"sk-text-repr-fallback\"><pre>Pipeline(steps=[(&#x27;scale&#x27;, None), (&#x27;model&#x27;, RandomForestClassifier())])</pre><b>In a Jupyter environment, please rerun this cell to show the HTML representation or trust the notebook. <br />On GitHub, the HTML representation is unable to render, please try loading this page with nbviewer.org.</b></div><div class=\"sk-container\" hidden><div class=\"sk-item sk-dashed-wrapped\"><div class=\"sk-label-container\"><div class=\"sk-label sk-toggleable\"><input class=\"sk-toggleable__control sk-hidden--visually\" id=\"sk-estimator-id-1\" type=\"checkbox\" ><label for=\"sk-estimator-id-1\" class=\"sk-toggleable__label sk-toggleable__label-arrow\">Pipeline</label><div class=\"sk-toggleable__content\"><pre>Pipeline(steps=[(&#x27;scale&#x27;, None), (&#x27;model&#x27;, RandomForestClassifier())])</pre></div></div></div><div class=\"sk-serial\"><div class=\"sk-item\"><div class=\"sk-estimator sk-toggleable\"><input class=\"sk-toggleable__control sk-hidden--visually\" id=\"sk-estimator-id-2\" type=\"checkbox\" ><label for=\"sk-estimator-id-2\" class=\"sk-toggleable__label sk-toggleable__label-arrow\">None</label><div class=\"sk-toggleable__content\"><pre>None</pre></div></div></div><div class=\"sk-item\"><div class=\"sk-estimator sk-toggleable\"><input class=\"sk-toggleable__control sk-hidden--visually\" id=\"sk-estimator-id-3\" type=\"checkbox\" ><label for=\"sk-estimator-id-3\" class=\"sk-toggleable__label sk-toggleable__label-arrow\">RandomForestClassifier</label><div class=\"sk-toggleable__content\"><pre>RandomForestClassifier()</pre></div></div></div></div></div></div></div>"
      ],
      "text/plain": [
       "Pipeline(steps=[('scale', None), ('model', RandomForestClassifier())])"
      ]
     },
     "execution_count": 34,
     "metadata": {},
     "output_type": "execute_result"
    }
   ],
   "source": [
    "model.fit(X_train, y_train.values.ravel())"
   ]
  },
  {
   "cell_type": "code",
   "execution_count": 35,
   "id": "6e15e313",
   "metadata": {
    "execution": {
     "iopub.execute_input": "2025-08-19T19:10:31.105358Z",
     "iopub.status.busy": "2025-08-19T19:10:31.103591Z",
     "iopub.status.idle": "2025-08-19T19:10:32.479805Z",
     "shell.execute_reply": "2025-08-19T19:10:32.478909Z"
    },
    "papermill": {
     "duration": 1.39522,
     "end_time": "2025-08-19T19:10:32.481496",
     "exception": false,
     "start_time": "2025-08-19T19:10:31.086276",
     "status": "completed"
    },
    "tags": []
   },
   "outputs": [
    {
     "data": {
      "text/plain": [
       "0.8621781295284806"
      ]
     },
     "execution_count": 35,
     "metadata": {},
     "output_type": "execute_result"
    }
   ],
   "source": [
    "from fairness_multiverse.universe import predict_w_threshold\n",
    "\n",
    "probs_test = model.predict_proba(X_test)\n",
    "\n",
    "'''\n",
    "Below code returns a boolean array (or binary 0/1 array depending on how it’s used) where each element \n",
    "is True if the probability of class 1 is greater than or equal to the threshold, and False otherwise.\n",
    "'''\n",
    "y_pred_default = predict_w_threshold(probs_test, 0.5)\n",
    "\n",
    "from sklearn.metrics import accuracy_score\n",
    "\n",
    "# Naive prediction\n",
    "accuracy_score(y_true = y_true, y_pred = y_pred_default)"
   ]
  },
  {
   "cell_type": "code",
   "execution_count": 36,
   "id": "6f14067c",
   "metadata": {
    "execution": {
     "iopub.execute_input": "2025-08-19T19:10:32.508518Z",
     "iopub.status.busy": "2025-08-19T19:10:32.508022Z",
     "iopub.status.idle": "2025-08-19T19:10:33.941987Z",
     "shell.execute_reply": "2025-08-19T19:10:33.940565Z"
    },
    "papermill": {
     "duration": 1.449534,
     "end_time": "2025-08-19T19:10:33.944114",
     "exception": false,
     "start_time": "2025-08-19T19:10:32.494580",
     "status": "completed"
    },
    "tags": []
   },
   "outputs": [
    {
     "data": {
      "text/plain": [
       "array([0, 0, 0, ..., 0, 0, 0])"
      ]
     },
     "execution_count": 36,
     "metadata": {},
     "output_type": "execute_result"
    }
   ],
   "source": [
    "model.predict(X_test)"
   ]
  },
  {
   "cell_type": "markdown",
   "id": "3759920c",
   "metadata": {
    "papermill": {
     "duration": 0.016474,
     "end_time": "2025-08-19T19:10:33.975695",
     "exception": false,
     "start_time": "2025-08-19T19:10:33.959221",
     "status": "completed"
    },
    "tags": []
   },
   "source": [
    "# Conformal Prediction"
   ]
  },
  {
   "cell_type": "code",
   "execution_count": 37,
   "id": "14b27f59",
   "metadata": {
    "execution": {
     "iopub.execute_input": "2025-08-19T19:10:34.004465Z",
     "iopub.status.busy": "2025-08-19T19:10:34.003465Z",
     "iopub.status.idle": "2025-08-19T19:10:34.017791Z",
     "shell.execute_reply": "2025-08-19T19:10:34.016794Z"
    },
    "papermill": {
     "duration": 0.031326,
     "end_time": "2025-08-19T19:10:34.019410",
     "exception": false,
     "start_time": "2025-08-19T19:10:33.988084",
     "status": "completed"
    },
    "tags": []
   },
   "outputs": [],
   "source": [
    "# Miscoverage level for conformal prediction (10% allowed error rate => 90% target coverage)\n",
    "alpha = 0.1"
   ]
  },
  {
   "cell_type": "code",
   "execution_count": 38,
   "id": "59102472",
   "metadata": {
    "execution": {
     "iopub.execute_input": "2025-08-19T19:10:34.059250Z",
     "iopub.status.busy": "2025-08-19T19:10:34.058739Z",
     "iopub.status.idle": "2025-08-19T19:10:35.636361Z",
     "shell.execute_reply": "2025-08-19T19:10:35.634816Z"
    },
    "papermill": {
     "duration": 1.601587,
     "end_time": "2025-08-19T19:10:35.638469",
     "exception": false,
     "start_time": "2025-08-19T19:10:34.036882",
     "status": "completed"
    },
    "tags": []
   },
   "outputs": [],
   "source": [
    "probs_calib = model.predict_proba(X_calib)"
   ]
  },
  {
   "cell_type": "code",
   "execution_count": 39,
   "id": "a792d4dd",
   "metadata": {
    "execution": {
     "iopub.execute_input": "2025-08-19T19:10:35.669799Z",
     "iopub.status.busy": "2025-08-19T19:10:35.669081Z",
     "iopub.status.idle": "2025-08-19T19:10:35.681696Z",
     "shell.execute_reply": "2025-08-19T19:10:35.680513Z"
    },
    "papermill": {
     "duration": 0.033671,
     "end_time": "2025-08-19T19:10:35.683976",
     "exception": false,
     "start_time": "2025-08-19T19:10:35.650305",
     "status": "completed"
    },
    "tags": []
   },
   "outputs": [],
   "source": [
    "y_calib = y_calib.values.ravel().astype(int)"
   ]
  },
  {
   "cell_type": "code",
   "execution_count": 40,
   "id": "650fd033",
   "metadata": {
    "execution": {
     "iopub.execute_input": "2025-08-19T19:10:35.727559Z",
     "iopub.status.busy": "2025-08-19T19:10:35.726360Z",
     "iopub.status.idle": "2025-08-19T19:10:36.032101Z",
     "shell.execute_reply": "2025-08-19T19:10:36.030045Z"
    },
    "papermill": {
     "duration": 0.327726,
     "end_time": "2025-08-19T19:10:36.035732",
     "exception": false,
     "start_time": "2025-08-19T19:10:35.708006",
     "status": "completed"
    },
    "tags": []
   },
   "outputs": [],
   "source": [
    "from fairness_multiverse.conformal import compute_nc_scores\n",
    "\n",
    "# Compute nonconformity scores on calibration set (1 - probability of true class)\n",
    "nc_scores = compute_nc_scores(probs_calib, y_calib)"
   ]
  },
  {
   "cell_type": "code",
   "execution_count": 41,
   "id": "28ada44c",
   "metadata": {
    "execution": {
     "iopub.execute_input": "2025-08-19T19:10:36.081465Z",
     "iopub.status.busy": "2025-08-19T19:10:36.080834Z",
     "iopub.status.idle": "2025-08-19T19:10:36.090830Z",
     "shell.execute_reply": "2025-08-19T19:10:36.089267Z"
    },
    "papermill": {
     "duration": 0.032515,
     "end_time": "2025-08-19T19:10:36.094011",
     "exception": false,
     "start_time": "2025-08-19T19:10:36.061496",
     "status": "completed"
    },
    "tags": []
   },
   "outputs": [],
   "source": [
    "from fairness_multiverse.conformal import find_threshold\n",
    "\n",
    "# Find conformal threshold q_hat for the given alpha (split conformal method)\n",
    "q_hat = find_threshold(nc_scores, alpha)"
   ]
  },
  {
   "cell_type": "code",
   "execution_count": 42,
   "id": "df56469e",
   "metadata": {
    "execution": {
     "iopub.execute_input": "2025-08-19T19:10:36.135155Z",
     "iopub.status.busy": "2025-08-19T19:10:36.134613Z",
     "iopub.status.idle": "2025-08-19T19:10:36.141803Z",
     "shell.execute_reply": "2025-08-19T19:10:36.140855Z"
    },
    "papermill": {
     "duration": 0.030064,
     "end_time": "2025-08-19T19:10:36.143421",
     "exception": false,
     "start_time": "2025-08-19T19:10:36.113357",
     "status": "completed"
    },
    "tags": []
   },
   "outputs": [
    {
     "data": {
      "text/plain": [
       "0.65"
      ]
     },
     "execution_count": 42,
     "metadata": {},
     "output_type": "execute_result"
    }
   ],
   "source": [
    "q_hat"
   ]
  },
  {
   "cell_type": "code",
   "execution_count": 43,
   "id": "aa1f5faa",
   "metadata": {
    "execution": {
     "iopub.execute_input": "2025-08-19T19:10:36.175360Z",
     "iopub.status.busy": "2025-08-19T19:10:36.174806Z",
     "iopub.status.idle": "2025-08-19T19:10:38.021750Z",
     "shell.execute_reply": "2025-08-19T19:10:38.020615Z"
    },
    "papermill": {
     "duration": 1.864274,
     "end_time": "2025-08-19T19:10:38.024784",
     "exception": false,
     "start_time": "2025-08-19T19:10:36.160510",
     "status": "completed"
    },
    "tags": []
   },
   "outputs": [],
   "source": [
    "from fairness_multiverse.conformal import predict_conformal_sets\n",
    "\n",
    "# Generate prediction sets for each test example\n",
    "pred_sets = predict_conformal_sets(model, X_test, q_hat)"
   ]
  },
  {
   "cell_type": "code",
   "execution_count": 44,
   "id": "97f67a6b",
   "metadata": {
    "execution": {
     "iopub.execute_input": "2025-08-19T19:10:38.065815Z",
     "iopub.status.busy": "2025-08-19T19:10:38.064099Z",
     "iopub.status.idle": "2025-08-19T19:10:38.074592Z",
     "shell.execute_reply": "2025-08-19T19:10:38.073288Z"
    },
    "papermill": {
     "duration": 0.026707,
     "end_time": "2025-08-19T19:10:38.076245",
     "exception": false,
     "start_time": "2025-08-19T19:10:38.049538",
     "status": "completed"
    },
    "tags": []
   },
   "outputs": [],
   "source": [
    "y_true = y_true.squeeze()"
   ]
  },
  {
   "cell_type": "code",
   "execution_count": 45,
   "id": "e700e9a7",
   "metadata": {
    "execution": {
     "iopub.execute_input": "2025-08-19T19:10:38.110889Z",
     "iopub.status.busy": "2025-08-19T19:10:38.109496Z",
     "iopub.status.idle": "2025-08-19T19:10:38.605538Z",
     "shell.execute_reply": "2025-08-19T19:10:38.604128Z"
    },
    "papermill": {
     "duration": 0.513783,
     "end_time": "2025-08-19T19:10:38.608735",
     "exception": false,
     "start_time": "2025-08-19T19:10:38.094952",
     "status": "completed"
    },
    "tags": []
   },
   "outputs": [],
   "source": [
    "from fairness_multiverse.conformal import evaluate_sets\n",
    "\n",
    "# Evaluate coverage and average set size on test data\n",
    "metrics = evaluate_sets(pred_sets, y_true)"
   ]
  },
  {
   "cell_type": "markdown",
   "id": "efbacec0",
   "metadata": {
    "papermill": {
     "duration": 0.013043,
     "end_time": "2025-08-19T19:10:38.647560",
     "exception": false,
     "start_time": "2025-08-19T19:10:38.634517",
     "status": "completed"
    },
    "tags": []
   },
   "source": [
    "# CP Metrics"
   ]
  },
  {
   "cell_type": "code",
   "execution_count": 46,
   "id": "9de55fb1",
   "metadata": {
    "execution": {
     "iopub.execute_input": "2025-08-19T19:10:38.674756Z",
     "iopub.status.busy": "2025-08-19T19:10:38.673201Z",
     "iopub.status.idle": "2025-08-19T19:10:38.687738Z",
     "shell.execute_reply": "2025-08-19T19:10:38.686584Z"
    },
    "papermill": {
     "duration": 0.030128,
     "end_time": "2025-08-19T19:10:38.689233",
     "exception": false,
     "start_time": "2025-08-19T19:10:38.659105",
     "status": "completed"
    },
    "tags": []
   },
   "outputs": [
    {
     "data": {
      "text/plain": [
       "{'coverage': 0.9128302307435069, 'avg_size': 1.1492810166090737}"
      ]
     },
     "execution_count": 46,
     "metadata": {},
     "output_type": "execute_result"
    }
   ],
   "source": [
    "metrics"
   ]
  },
  {
   "cell_type": "code",
   "execution_count": 47,
   "id": "64c340a1",
   "metadata": {
    "execution": {
     "iopub.execute_input": "2025-08-19T19:10:38.722476Z",
     "iopub.status.busy": "2025-08-19T19:10:38.721181Z",
     "iopub.status.idle": "2025-08-19T19:10:38.731482Z",
     "shell.execute_reply": "2025-08-19T19:10:38.730152Z"
    },
    "papermill": {
     "duration": 0.025793,
     "end_time": "2025-08-19T19:10:38.733330",
     "exception": false,
     "start_time": "2025-08-19T19:10:38.707537",
     "status": "completed"
    },
    "tags": []
   },
   "outputs": [],
   "source": [
    "example_universe = universe.copy()\n",
    "universe_training_year = example_universe.get(\"training_year\")\n",
    "universe_training_size = example_universe.get(\"training_size\")\n",
    "universe_scale = example_universe.get(\"scale\")\n",
    "universe_model = example_universe.get(\"model\")\n",
    "universe_exclude_features = example_universe.get(\"exclude_features\")\n",
    "universe_exclude_subgroups = example_universe.get(\"exclude_subgroups\")"
   ]
  },
  {
   "cell_type": "code",
   "execution_count": 48,
   "id": "dbb53cb4",
   "metadata": {
    "execution": {
     "iopub.execute_input": "2025-08-19T19:10:38.763944Z",
     "iopub.status.busy": "2025-08-19T19:10:38.762633Z",
     "iopub.status.idle": "2025-08-19T19:10:38.772694Z",
     "shell.execute_reply": "2025-08-19T19:10:38.771360Z"
    },
    "papermill": {
     "duration": 0.025102,
     "end_time": "2025-08-19T19:10:38.774341",
     "exception": false,
     "start_time": "2025-08-19T19:10:38.749239",
     "status": "completed"
    },
    "tags": []
   },
   "outputs": [],
   "source": [
    "cp_metrics_dict = {\n",
    "    \"universe_id\": [universe_id],\n",
    "    \"universe_training_year\": [universe_training_year],\n",
    "    \"universe_training_size\": [universe_training_size],\n",
    "    \"universe_scale\": [universe_scale],\n",
    "    \"universe_model\": [universe_model],\n",
    "    \"universe_exclude_features\": [universe_exclude_features],\n",
    "    \"universe_exclude_subgroups\": [universe_exclude_subgroups],\n",
    "    \"q_hat\": [q_hat],\n",
    "    \"coverage\": [metrics[\"coverage\"]],\n",
    "    \"avg_size\": [metrics[\"avg_size\"]],\n",
    "}"
   ]
  },
  {
   "cell_type": "code",
   "execution_count": 49,
   "id": "0d70d4b2",
   "metadata": {
    "execution": {
     "iopub.execute_input": "2025-08-19T19:10:38.805495Z",
     "iopub.status.busy": "2025-08-19T19:10:38.804162Z",
     "iopub.status.idle": "2025-08-19T19:10:38.819685Z",
     "shell.execute_reply": "2025-08-19T19:10:38.818449Z"
    },
    "papermill": {
     "duration": 0.030494,
     "end_time": "2025-08-19T19:10:38.821509",
     "exception": false,
     "start_time": "2025-08-19T19:10:38.791015",
     "status": "completed"
    },
    "tags": []
   },
   "outputs": [],
   "source": [
    "cp_metrics_df = pd.DataFrame(cp_metrics_dict)"
   ]
  },
  {
   "cell_type": "code",
   "execution_count": 50,
   "id": "b494403c",
   "metadata": {
    "execution": {
     "iopub.execute_input": "2025-08-19T19:10:38.855498Z",
     "iopub.status.busy": "2025-08-19T19:10:38.854087Z",
     "iopub.status.idle": "2025-08-19T19:10:38.878808Z",
     "shell.execute_reply": "2025-08-19T19:10:38.877824Z"
    },
    "papermill": {
     "duration": 0.039955,
     "end_time": "2025-08-19T19:10:38.880580",
     "exception": false,
     "start_time": "2025-08-19T19:10:38.840625",
     "status": "completed"
    },
    "tags": []
   },
   "outputs": [
    {
     "data": {
      "text/html": [
       "<div>\n",
       "<style scoped>\n",
       "    .dataframe tbody tr th:only-of-type {\n",
       "        vertical-align: middle;\n",
       "    }\n",
       "\n",
       "    .dataframe tbody tr th {\n",
       "        vertical-align: top;\n",
       "    }\n",
       "\n",
       "    .dataframe thead th {\n",
       "        text-align: right;\n",
       "    }\n",
       "</style>\n",
       "<table border=\"1\" class=\"dataframe\">\n",
       "  <thead>\n",
       "    <tr style=\"text-align: right;\">\n",
       "      <th></th>\n",
       "      <th>universe_id</th>\n",
       "      <th>universe_training_year</th>\n",
       "      <th>universe_training_size</th>\n",
       "      <th>universe_scale</th>\n",
       "      <th>universe_model</th>\n",
       "      <th>universe_exclude_features</th>\n",
       "      <th>universe_exclude_subgroups</th>\n",
       "      <th>q_hat</th>\n",
       "      <th>coverage</th>\n",
       "      <th>avg_size</th>\n",
       "    </tr>\n",
       "  </thead>\n",
       "  <tbody>\n",
       "    <tr>\n",
       "      <th>0</th>\n",
       "      <td>142c114c0d774f4fdd3990cf6598027c</td>\n",
       "      <td>2010_14</td>\n",
       "      <td>1k</td>\n",
       "      <td>do-not-scale</td>\n",
       "      <td>rf</td>\n",
       "      <td>nationality</td>\n",
       "      <td>keep-all</td>\n",
       "      <td>0.65</td>\n",
       "      <td>0.91283</td>\n",
       "      <td>1.149281</td>\n",
       "    </tr>\n",
       "  </tbody>\n",
       "</table>\n",
       "</div>"
      ],
      "text/plain": [
       "                        universe_id universe_training_year  \\\n",
       "0  142c114c0d774f4fdd3990cf6598027c                2010_14   \n",
       "\n",
       "  universe_training_size universe_scale universe_model  \\\n",
       "0                     1k   do-not-scale             rf   \n",
       "\n",
       "  universe_exclude_features universe_exclude_subgroups  q_hat  coverage  \\\n",
       "0               nationality                   keep-all   0.65   0.91283   \n",
       "\n",
       "   avg_size  \n",
       "0  1.149281  "
      ]
     },
     "execution_count": 50,
     "metadata": {},
     "output_type": "execute_result"
    }
   ],
   "source": [
    "cp_metrics_df"
   ]
  },
  {
   "cell_type": "markdown",
   "id": "ed608b0b",
   "metadata": {
    "papermill": {
     "duration": 0.013713,
     "end_time": "2025-08-19T19:10:38.917534",
     "exception": false,
     "start_time": "2025-08-19T19:10:38.903821",
     "status": "completed"
    },
    "tags": []
   },
   "source": [
    "Conditional coverage & looking at subgroups"
   ]
  },
  {
   "cell_type": "code",
   "execution_count": 51,
   "id": "8968c366",
   "metadata": {
    "execution": {
     "iopub.execute_input": "2025-08-19T19:10:38.944165Z",
     "iopub.status.busy": "2025-08-19T19:10:38.942926Z",
     "iopub.status.idle": "2025-08-19T19:10:39.272871Z",
     "shell.execute_reply": "2025-08-19T19:10:39.271512Z"
    },
    "papermill": {
     "duration": 0.346435,
     "end_time": "2025-08-19T19:10:39.275861",
     "exception": false,
     "start_time": "2025-08-19T19:10:38.929426",
     "status": "completed"
    },
    "tags": []
   },
   "outputs": [],
   "source": [
    "from fairness_multiverse.conformal import build_cp_groups\n",
    "\n",
    "cp_groups_df = build_cp_groups(pred_sets, y_true, X_test.index, org_test)"
   ]
  },
  {
   "cell_type": "code",
   "execution_count": 52,
   "id": "292ddabf",
   "metadata": {
    "execution": {
     "iopub.execute_input": "2025-08-19T19:10:39.319882Z",
     "iopub.status.busy": "2025-08-19T19:10:39.318549Z",
     "iopub.status.idle": "2025-08-19T19:10:40.195932Z",
     "shell.execute_reply": "2025-08-19T19:10:40.194511Z"
    },
    "papermill": {
     "duration": 0.894115,
     "end_time": "2025-08-19T19:10:40.197655",
     "exception": false,
     "start_time": "2025-08-19T19:10:39.303540",
     "status": "completed"
    },
    "tags": []
   },
   "outputs": [],
   "source": [
    "# Define covered = 1 if true_label is in the predicted set\n",
    "cp_groups_df['covered'] = cp_groups_df.apply(\n",
    "    lambda r: int(r['true_label'] in r['pred_set']),\n",
    "    axis=1\n",
    ")"
   ]
  },
  {
   "cell_type": "code",
   "execution_count": 53,
   "id": "3a261692",
   "metadata": {
    "execution": {
     "iopub.execute_input": "2025-08-19T19:10:40.224502Z",
     "iopub.status.busy": "2025-08-19T19:10:40.223615Z",
     "iopub.status.idle": "2025-08-19T19:10:40.244365Z",
     "shell.execute_reply": "2025-08-19T19:10:40.243329Z"
    },
    "papermill": {
     "duration": 0.035861,
     "end_time": "2025-08-19T19:10:40.245963",
     "exception": false,
     "start_time": "2025-08-19T19:10:40.210102",
     "status": "completed"
    },
    "tags": []
   },
   "outputs": [],
   "source": [
    "subgroups = ['frau1','nongerman','nongerman_male','nongerman_female']\n",
    "\n",
    "# Conditional coverage for subgroup==1\n",
    "cond_coverage = {\n",
    "    g: cp_groups_df.loc[cp_groups_df[g]==1, 'covered'].mean()\n",
    "    for g in subgroups\n",
    "}"
   ]
  },
  {
   "cell_type": "code",
   "execution_count": 54,
   "id": "894fd600",
   "metadata": {
    "execution": {
     "iopub.execute_input": "2025-08-19T19:10:40.279299Z",
     "iopub.status.busy": "2025-08-19T19:10:40.277945Z",
     "iopub.status.idle": "2025-08-19T19:10:40.289910Z",
     "shell.execute_reply": "2025-08-19T19:10:40.288281Z"
    },
    "papermill": {
     "duration": 0.027245,
     "end_time": "2025-08-19T19:10:40.291527",
     "exception": false,
     "start_time": "2025-08-19T19:10:40.264282",
     "status": "completed"
    },
    "tags": []
   },
   "outputs": [
    {
     "data": {
      "text/plain": [
       "{'frau1': 0.912036662622995,\n",
       " 'nongerman': 0.9062482456632797,\n",
       " 'nongerman_male': 0.9231739169593803,\n",
       " 'nongerman_female': 0.8782414307004471}"
      ]
     },
     "execution_count": 54,
     "metadata": {},
     "output_type": "execute_result"
    }
   ],
   "source": [
    "cond_coverage"
   ]
  },
  {
   "cell_type": "code",
   "execution_count": 55,
   "id": "942895c7",
   "metadata": {
    "execution": {
     "iopub.execute_input": "2025-08-19T19:10:40.324158Z",
     "iopub.status.busy": "2025-08-19T19:10:40.322802Z",
     "iopub.status.idle": "2025-08-19T19:10:40.334442Z",
     "shell.execute_reply": "2025-08-19T19:10:40.332984Z"
    },
    "papermill": {
     "duration": 0.028613,
     "end_time": "2025-08-19T19:10:40.337355",
     "exception": false,
     "start_time": "2025-08-19T19:10:40.308742",
     "status": "completed"
    },
    "tags": []
   },
   "outputs": [],
   "source": [
    "for subgroup, cov in cond_coverage.items():\n",
    "    cp_metrics_df[f\"cov_{subgroup}\"] = cov"
   ]
  },
  {
   "cell_type": "code",
   "execution_count": 56,
   "id": "3970120f",
   "metadata": {
    "execution": {
     "iopub.execute_input": "2025-08-19T19:10:40.379497Z",
     "iopub.status.busy": "2025-08-19T19:10:40.378168Z",
     "iopub.status.idle": "2025-08-19T19:10:40.412419Z",
     "shell.execute_reply": "2025-08-19T19:10:40.411327Z"
    },
    "papermill": {
     "duration": 0.051389,
     "end_time": "2025-08-19T19:10:40.414430",
     "exception": false,
     "start_time": "2025-08-19T19:10:40.363041",
     "status": "completed"
    },
    "tags": []
   },
   "outputs": [
    {
     "data": {
      "text/html": [
       "<div>\n",
       "<style scoped>\n",
       "    .dataframe tbody tr th:only-of-type {\n",
       "        vertical-align: middle;\n",
       "    }\n",
       "\n",
       "    .dataframe tbody tr th {\n",
       "        vertical-align: top;\n",
       "    }\n",
       "\n",
       "    .dataframe thead th {\n",
       "        text-align: right;\n",
       "    }\n",
       "</style>\n",
       "<table border=\"1\" class=\"dataframe\">\n",
       "  <thead>\n",
       "    <tr style=\"text-align: right;\">\n",
       "      <th></th>\n",
       "      <th>universe_id</th>\n",
       "      <th>universe_training_year</th>\n",
       "      <th>universe_training_size</th>\n",
       "      <th>universe_scale</th>\n",
       "      <th>universe_model</th>\n",
       "      <th>universe_exclude_features</th>\n",
       "      <th>universe_exclude_subgroups</th>\n",
       "      <th>q_hat</th>\n",
       "      <th>coverage</th>\n",
       "      <th>avg_size</th>\n",
       "      <th>cov_frau1</th>\n",
       "      <th>cov_nongerman</th>\n",
       "      <th>cov_nongerman_male</th>\n",
       "      <th>cov_nongerman_female</th>\n",
       "    </tr>\n",
       "  </thead>\n",
       "  <tbody>\n",
       "    <tr>\n",
       "      <th>0</th>\n",
       "      <td>142c114c0d774f4fdd3990cf6598027c</td>\n",
       "      <td>2010_14</td>\n",
       "      <td>1k</td>\n",
       "      <td>do-not-scale</td>\n",
       "      <td>rf</td>\n",
       "      <td>nationality</td>\n",
       "      <td>keep-all</td>\n",
       "      <td>0.65</td>\n",
       "      <td>0.91283</td>\n",
       "      <td>1.149281</td>\n",
       "      <td>0.912037</td>\n",
       "      <td>0.906248</td>\n",
       "      <td>0.923174</td>\n",
       "      <td>0.878241</td>\n",
       "    </tr>\n",
       "  </tbody>\n",
       "</table>\n",
       "</div>"
      ],
      "text/plain": [
       "                        universe_id universe_training_year  \\\n",
       "0  142c114c0d774f4fdd3990cf6598027c                2010_14   \n",
       "\n",
       "  universe_training_size universe_scale universe_model  \\\n",
       "0                     1k   do-not-scale             rf   \n",
       "\n",
       "  universe_exclude_features universe_exclude_subgroups  q_hat  coverage  \\\n",
       "0               nationality                   keep-all   0.65   0.91283   \n",
       "\n",
       "   avg_size  cov_frau1  cov_nongerman  cov_nongerman_male  \\\n",
       "0  1.149281   0.912037       0.906248            0.923174   \n",
       "\n",
       "   cov_nongerman_female  \n",
       "0              0.878241  "
      ]
     },
     "execution_count": 56,
     "metadata": {},
     "output_type": "execute_result"
    }
   ],
   "source": [
    "cp_metrics_df"
   ]
  },
  {
   "cell_type": "markdown",
   "id": "3fc519cc",
   "metadata": {
    "papermill": {
     "duration": 0.013811,
     "end_time": "2025-08-19T19:10:40.455671",
     "exception": false,
     "start_time": "2025-08-19T19:10:40.441860",
     "status": "completed"
    },
    "tags": []
   },
   "source": [
    "# (Fairness) Metrics"
   ]
  },
  {
   "cell_type": "code",
   "execution_count": 57,
   "id": "a2e5e155",
   "metadata": {
    "execution": {
     "iopub.execute_input": "2025-08-19T19:10:40.481992Z",
     "iopub.status.busy": "2025-08-19T19:10:40.481461Z",
     "iopub.status.idle": "2025-08-19T19:10:40.497321Z",
     "shell.execute_reply": "2025-08-19T19:10:40.496635Z"
    },
    "papermill": {
     "duration": 0.030692,
     "end_time": "2025-08-19T19:10:40.498632",
     "exception": false,
     "start_time": "2025-08-19T19:10:40.467940",
     "status": "completed"
    },
    "tags": []
   },
   "outputs": [],
   "source": [
    "colname_to_bin = \"maxdeutsch1\"\n",
    "majority_value = org_train[colname_to_bin].mode()[0]\n",
    "\n",
    "org_test[\"majmin\"] = np.where(org_test[colname_to_bin] == majority_value, \"majority\", \"minority\")"
   ]
  },
  {
   "cell_type": "code",
   "execution_count": 58,
   "id": "17e3e4d5",
   "metadata": {
    "execution": {
     "iopub.execute_input": "2025-08-19T19:10:40.551270Z",
     "iopub.status.busy": "2025-08-19T19:10:40.546473Z",
     "iopub.status.idle": "2025-08-19T19:10:42.276286Z",
     "shell.execute_reply": "2025-08-19T19:10:42.275094Z"
    },
    "papermill": {
     "duration": 1.764602,
     "end_time": "2025-08-19T19:10:42.277762",
     "exception": false,
     "start_time": "2025-08-19T19:10:40.513160",
     "status": "completed"
    },
    "tags": []
   },
   "outputs": [],
   "source": [
    "example_universe = universe.copy()\n",
    "example_universe[\"cutoff\"] = example_universe[\"cutoff\"][0]\n",
    "example_universe[\"eval_fairness_grouping\"] = example_universe[\"eval_fairness_grouping\"][0]\n",
    "fairness_dict, metric_frame = universe_analysis.compute_metrics(\n",
    "    example_universe,\n",
    "    y_pred_prob=probs_test,\n",
    "    y_test=y_true,\n",
    "    org_test=org_test,\n",
    ")"
   ]
  },
  {
   "cell_type": "markdown",
   "id": "1fb7a0e9",
   "metadata": {
    "papermill": {
     "duration": 0.029521,
     "end_time": "2025-08-19T19:10:42.322089",
     "exception": false,
     "start_time": "2025-08-19T19:10:42.292568",
     "status": "completed"
    },
    "tags": []
   },
   "source": [
    "# Overall"
   ]
  },
  {
   "cell_type": "markdown",
   "id": "be1784b1",
   "metadata": {
    "papermill": {
     "duration": 0.012161,
     "end_time": "2025-08-19T19:10:42.348341",
     "exception": false,
     "start_time": "2025-08-19T19:10:42.336180",
     "status": "completed"
    },
    "tags": []
   },
   "source": [
    "Main fairness target: Equalized Odds. Seems to be a better fit than equal opportunity, since we're not only interested in Y = 1. Seems to be a better fit than demographic parity, since we also care about accuracy, not just equal distribution of preds.\n",
    "\n",
    "Pick column for computation of fairness metrics\n",
    "\n",
    "Performance\n",
    "Overall performance measures, most interesting in relation to the measures split by group below"
   ]
  },
  {
   "cell_type": "code",
   "execution_count": 59,
   "id": "b7672bee",
   "metadata": {
    "execution": {
     "iopub.execute_input": "2025-08-19T19:10:42.377090Z",
     "iopub.status.busy": "2025-08-19T19:10:42.375468Z",
     "iopub.status.idle": "2025-08-19T19:10:42.396212Z",
     "shell.execute_reply": "2025-08-19T19:10:42.395405Z"
    },
    "papermill": {
     "duration": 0.036961,
     "end_time": "2025-08-19T19:10:42.397485",
     "exception": false,
     "start_time": "2025-08-19T19:10:42.360524",
     "status": "completed"
    },
    "tags": []
   },
   "outputs": [
    {
     "data": {
      "text/plain": [
       "accuracy                   0.209709\n",
       "balanced accuracy          0.534589\n",
       "f1                         0.239784\n",
       "precision                  0.136769\n",
       "false positive rate        0.902407\n",
       "false negative rate        0.028415\n",
       "selection rate             0.911281\n",
       "count                  89710.000000\n",
       "dtype: float64"
      ]
     },
     "execution_count": 59,
     "metadata": {},
     "output_type": "execute_result"
    }
   ],
   "source": [
    "metric_frame.overall"
   ]
  },
  {
   "cell_type": "markdown",
   "id": "d93333c9",
   "metadata": {
    "papermill": {
     "duration": 0.012976,
     "end_time": "2025-08-19T19:10:42.432725",
     "exception": false,
     "start_time": "2025-08-19T19:10:42.419749",
     "status": "completed"
    },
    "tags": []
   },
   "source": [
    "By Group"
   ]
  },
  {
   "cell_type": "code",
   "execution_count": 60,
   "id": "52256966",
   "metadata": {
    "execution": {
     "iopub.execute_input": "2025-08-19T19:10:42.460383Z",
     "iopub.status.busy": "2025-08-19T19:10:42.459103Z",
     "iopub.status.idle": "2025-08-19T19:10:42.486114Z",
     "shell.execute_reply": "2025-08-19T19:10:42.485240Z"
    },
    "papermill": {
     "duration": 0.042387,
     "end_time": "2025-08-19T19:10:42.487651",
     "exception": false,
     "start_time": "2025-08-19T19:10:42.445264",
     "status": "completed"
    },
    "tags": []
   },
   "outputs": [
    {
     "data": {
      "text/html": [
       "<div>\n",
       "<style scoped>\n",
       "    .dataframe tbody tr th:only-of-type {\n",
       "        vertical-align: middle;\n",
       "    }\n",
       "\n",
       "    .dataframe tbody tr th {\n",
       "        vertical-align: top;\n",
       "    }\n",
       "\n",
       "    .dataframe thead th {\n",
       "        text-align: right;\n",
       "    }\n",
       "</style>\n",
       "<table border=\"1\" class=\"dataframe\">\n",
       "  <thead>\n",
       "    <tr style=\"text-align: right;\">\n",
       "      <th></th>\n",
       "      <th>accuracy</th>\n",
       "      <th>balanced accuracy</th>\n",
       "      <th>f1</th>\n",
       "      <th>precision</th>\n",
       "      <th>false positive rate</th>\n",
       "      <th>false negative rate</th>\n",
       "      <th>selection rate</th>\n",
       "      <th>count</th>\n",
       "    </tr>\n",
       "    <tr>\n",
       "      <th>majmin</th>\n",
       "      <th></th>\n",
       "      <th></th>\n",
       "      <th></th>\n",
       "      <th></th>\n",
       "      <th></th>\n",
       "      <th></th>\n",
       "      <th></th>\n",
       "      <th></th>\n",
       "    </tr>\n",
       "  </thead>\n",
       "  <tbody>\n",
       "    <tr>\n",
       "      <th>majority</th>\n",
       "      <td>0.199682</td>\n",
       "      <td>0.533581</td>\n",
       "      <td>0.245886</td>\n",
       "      <td>0.140428</td>\n",
       "      <td>0.920257</td>\n",
       "      <td>0.012582</td>\n",
       "      <td>0.929131</td>\n",
       "      <td>69170.0</td>\n",
       "    </tr>\n",
       "    <tr>\n",
       "      <th>minority</th>\n",
       "      <td>0.243476</td>\n",
       "      <td>0.533516</td>\n",
       "      <td>0.217218</td>\n",
       "      <td>0.123320</td>\n",
       "      <td>0.843440</td>\n",
       "      <td>0.089527</td>\n",
       "      <td>0.851168</td>\n",
       "      <td>20540.0</td>\n",
       "    </tr>\n",
       "  </tbody>\n",
       "</table>\n",
       "</div>"
      ],
      "text/plain": [
       "          accuracy  balanced accuracy        f1  precision  \\\n",
       "majmin                                                       \n",
       "majority  0.199682           0.533581  0.245886   0.140428   \n",
       "minority  0.243476           0.533516  0.217218   0.123320   \n",
       "\n",
       "          false positive rate  false negative rate  selection rate    count  \n",
       "majmin                                                                       \n",
       "majority             0.920257             0.012582        0.929131  69170.0  \n",
       "minority             0.843440             0.089527        0.851168  20540.0  "
      ]
     },
     "execution_count": 60,
     "metadata": {},
     "output_type": "execute_result"
    }
   ],
   "source": [
    "metric_frame.by_group"
   ]
  },
  {
   "cell_type": "code",
   "execution_count": 61,
   "id": "6e6c20ae",
   "metadata": {
    "execution": {
     "iopub.execute_input": "2025-08-19T19:10:42.541176Z",
     "iopub.status.busy": "2025-08-19T19:10:42.540576Z",
     "iopub.status.idle": "2025-08-19T19:10:44.451287Z",
     "shell.execute_reply": "2025-08-19T19:10:44.450292Z"
    },
    "papermill": {
     "duration": 1.941562,
     "end_time": "2025-08-19T19:10:44.455521",
     "exception": false,
     "start_time": "2025-08-19T19:10:42.513959",
     "status": "completed"
    },
    "tags": []
   },
   "outputs": [
    {
     "data": {
      "text/plain": [
       "array([[<Axes: title={'center': 'accuracy'}, xlabel='majmin'>,\n",
       "        <Axes: title={'center': 'balanced accuracy'}, xlabel='majmin'>,\n",
       "        <Axes: title={'center': 'f1'}, xlabel='majmin'>],\n",
       "       [<Axes: title={'center': 'precision'}, xlabel='majmin'>,\n",
       "        <Axes: title={'center': 'false positive rate'}, xlabel='majmin'>,\n",
       "        <Axes: title={'center': 'false negative rate'}, xlabel='majmin'>],\n",
       "       [<Axes: title={'center': 'selection rate'}, xlabel='majmin'>,\n",
       "        <Axes: title={'center': 'count'}, xlabel='majmin'>,\n",
       "        <Axes: xlabel='majmin'>]], dtype=object)"
      ]
     },
     "execution_count": 61,
     "metadata": {},
     "output_type": "execute_result"
    },
    {
     "data": {
      "image/png": "[encoded data removed]",
      "text/plain": [
       "<Figure size 1200x800 with 9 Axes>"
      ]
     },
     "metadata": {},
     "output_type": "display_data"
    }
   ],
   "source": [
    "# In a graphic\n",
    "metric_frame.by_group.plot.bar(\n",
    "    subplots=True,\n",
    "    layout=[3, 3],\n",
    "    legend=False,\n",
    "    figsize=[12, 8],\n",
    "    title=\"Show all metrics\",\n",
    ")"
   ]
  },
  {
   "cell_type": "markdown",
   "id": "b2e433ae",
   "metadata": {
    "papermill": {
     "duration": 0.017357,
     "end_time": "2025-08-19T19:10:44.501725",
     "exception": false,
     "start_time": "2025-08-19T19:10:44.484368",
     "status": "completed"
    },
    "tags": []
   },
   "source": [
    "# Final Output"
   ]
  },
  {
   "cell_type": "code",
   "execution_count": 62,
   "id": "3871301e",
   "metadata": {
    "execution": {
     "iopub.execute_input": "2025-08-19T19:10:44.532825Z",
     "iopub.status.busy": "2025-08-19T19:10:44.531803Z",
     "iopub.status.idle": "2025-08-19T19:10:44.544150Z",
     "shell.execute_reply": "2025-08-19T19:10:44.542357Z"
    },
    "papermill": {
     "duration": 0.034634,
     "end_time": "2025-08-19T19:10:44.551116",
     "exception": false,
     "start_time": "2025-08-19T19:10:44.516482",
     "status": "completed"
    },
    "tags": []
   },
   "outputs": [
    {
     "data": {
      "text/plain": [
       "4"
      ]
     },
     "execution_count": 62,
     "metadata": {},
     "output_type": "execute_result"
    }
   ],
   "source": [
    "sub_universes = universe_analysis.generate_sub_universes()\n",
    "len(sub_universes)"
   ]
  },
  {
   "cell_type": "code",
   "execution_count": 63,
   "id": "d9cfdaca",
   "metadata": {
    "execution": {
     "iopub.execute_input": "2025-08-19T19:10:44.598638Z",
     "iopub.status.busy": "2025-08-19T19:10:44.584845Z",
     "iopub.status.idle": "2025-08-19T19:10:44.619892Z",
     "shell.execute_reply": "2025-08-19T19:10:44.619108Z"
    },
    "papermill": {
     "duration": 0.054164,
     "end_time": "2025-08-19T19:10:44.623002",
     "exception": false,
     "start_time": "2025-08-19T19:10:44.568838",
     "status": "completed"
    },
    "tags": []
   },
   "outputs": [],
   "source": [
    "def filter_sub_universe_data(sub_universe, org_test):\n",
    "    # Keep all rows — no filtering\n",
    "    keep_rows_mask = np.ones(org_test.shape[0], dtype=bool)\n",
    "\n",
    "    print(f\"[INFO] Keeping all rows: {keep_rows_mask.sum()} rows retained.\")\n",
    "    return keep_rows_mask"
   ]
  },
  {
   "cell_type": "code",
   "execution_count": 64,
   "id": "2bc31ac1",
   "metadata": {
    "execution": {
     "iopub.execute_input": "2025-08-19T19:10:44.671269Z",
     "iopub.status.busy": "2025-08-19T19:10:44.670763Z",
     "iopub.status.idle": "2025-08-19T19:10:51.511595Z",
     "shell.execute_reply": "2025-08-19T19:10:51.510560Z"
    },
    "papermill": {
     "duration": 6.85857,
     "end_time": "2025-08-19T19:10:51.513926",
     "exception": false,
     "start_time": "2025-08-19T19:10:44.655356",
     "status": "completed"
    },
    "tags": []
   },
   "outputs": [
    {
     "name": "stdout",
     "output_type": "stream",
     "text": [
      "Stopping execution_time clock.\n",
      "[INFO] Keeping all rows: 89710 rows retained.\n"
     ]
    },
    {
     "name": "stdout",
     "output_type": "stream",
     "text": [
      "[INFO] Keeping all rows: 89710 rows retained.\n"
     ]
    },
    {
     "name": "stdout",
     "output_type": "stream",
     "text": [
      "[INFO] Keeping all rows: 89710 rows retained.\n"
     ]
    },
    {
     "name": "stdout",
     "output_type": "stream",
     "text": [
      "[INFO] Keeping all rows: 89710 rows retained.\n"
     ]
    },
    {
     "data": {
      "text/html": [
       "<div>\n",
       "<style scoped>\n",
       "    .dataframe tbody tr th:only-of-type {\n",
       "        vertical-align: middle;\n",
       "    }\n",
       "\n",
       "    .dataframe tbody tr th {\n",
       "        vertical-align: top;\n",
       "    }\n",
       "\n",
       "    .dataframe thead th {\n",
       "        text-align: right;\n",
       "    }\n",
       "</style>\n",
       "<table border=\"1\" class=\"dataframe\">\n",
       "  <thead>\n",
       "    <tr style=\"text-align: right;\">\n",
       "      <th></th>\n",
       "      <th>run_no</th>\n",
       "      <th>universe_id</th>\n",
       "      <th>universe_settings</th>\n",
       "      <th>execution_time</th>\n",
       "      <th>test_size_n</th>\n",
       "      <th>test_size_frac</th>\n",
       "      <th>fair_main_equalized_odds_difference</th>\n",
       "      <th>fair_main_equalized_odds_ratio</th>\n",
       "      <th>fair_main_demographic_parity_difference</th>\n",
       "      <th>fair_main_demographic_parity_ratio</th>\n",
       "      <th>...</th>\n",
       "      <th>perf_grp_precision_0</th>\n",
       "      <th>perf_grp_precision_1</th>\n",
       "      <th>perf_grp_false positive rate_0</th>\n",
       "      <th>perf_grp_false positive rate_1</th>\n",
       "      <th>perf_grp_false negative rate_0</th>\n",
       "      <th>perf_grp_false negative rate_1</th>\n",
       "      <th>perf_grp_selection rate_0</th>\n",
       "      <th>perf_grp_selection rate_1</th>\n",
       "      <th>perf_grp_count_0</th>\n",
       "      <th>perf_grp_count_1</th>\n",
       "    </tr>\n",
       "  </thead>\n",
       "  <tbody>\n",
       "    <tr>\n",
       "      <th>0</th>\n",
       "      <td>3</td>\n",
       "      <td>142c114c0d774f4fdd3990cf6598027c</td>\n",
       "      <td>{\"cutoff\": \"quantile_0.1\", \"eval_fairness_grou...</td>\n",
       "      <td>27.512562</td>\n",
       "      <td>89710</td>\n",
       "      <td>1.0</td>\n",
       "      <td>0.076945</td>\n",
       "      <td>0.916528</td>\n",
       "      <td>0.077963</td>\n",
       "      <td>0.916091</td>\n",
       "      <td>...</td>\n",
       "      <td>NaN</td>\n",
       "      <td>NaN</td>\n",
       "      <td>NaN</td>\n",
       "      <td>NaN</td>\n",
       "      <td>NaN</td>\n",
       "      <td>NaN</td>\n",
       "      <td>NaN</td>\n",
       "      <td>NaN</td>\n",
       "      <td>NaN</td>\n",
       "      <td>NaN</td>\n",
       "    </tr>\n",
       "    <tr>\n",
       "      <th>0</th>\n",
       "      <td>3</td>\n",
       "      <td>142c114c0d774f4fdd3990cf6598027c</td>\n",
       "      <td>{\"cutoff\": \"quantile_0.1\", \"eval_fairness_grou...</td>\n",
       "      <td>27.512562</td>\n",
       "      <td>89710</td>\n",
       "      <td>1.0</td>\n",
       "      <td>0.076945</td>\n",
       "      <td>0.916528</td>\n",
       "      <td>0.077963</td>\n",
       "      <td>0.916091</td>\n",
       "      <td>...</td>\n",
       "      <td>0.123320</td>\n",
       "      <td>0.140428</td>\n",
       "      <td>0.843440</td>\n",
       "      <td>0.920257</td>\n",
       "      <td>0.089527</td>\n",
       "      <td>0.012582</td>\n",
       "      <td>0.851168</td>\n",
       "      <td>0.929131</td>\n",
       "      <td>20540.0</td>\n",
       "      <td>69170.0</td>\n",
       "    </tr>\n",
       "    <tr>\n",
       "      <th>0</th>\n",
       "      <td>3</td>\n",
       "      <td>142c114c0d774f4fdd3990cf6598027c</td>\n",
       "      <td>{\"cutoff\": \"quantile_0.25\", \"eval_fairness_gro...</td>\n",
       "      <td>27.512562</td>\n",
       "      <td>89710</td>\n",
       "      <td>1.0</td>\n",
       "      <td>0.157455</td>\n",
       "      <td>0.834790</td>\n",
       "      <td>0.110888</td>\n",
       "      <td>0.862167</td>\n",
       "      <td>...</td>\n",
       "      <td>NaN</td>\n",
       "      <td>NaN</td>\n",
       "      <td>NaN</td>\n",
       "      <td>NaN</td>\n",
       "      <td>NaN</td>\n",
       "      <td>NaN</td>\n",
       "      <td>NaN</td>\n",
       "      <td>NaN</td>\n",
       "      <td>NaN</td>\n",
       "      <td>NaN</td>\n",
       "    </tr>\n",
       "    <tr>\n",
       "      <th>0</th>\n",
       "      <td>3</td>\n",
       "      <td>142c114c0d774f4fdd3990cf6598027c</td>\n",
       "      <td>{\"cutoff\": \"quantile_0.25\", \"eval_fairness_gro...</td>\n",
       "      <td>27.512562</td>\n",
       "      <td>89710</td>\n",
       "      <td>1.0</td>\n",
       "      <td>0.157455</td>\n",
       "      <td>0.834790</td>\n",
       "      <td>0.110888</td>\n",
       "      <td>0.862167</td>\n",
       "      <td>...</td>\n",
       "      <td>0.132238</td>\n",
       "      <td>0.156538</td>\n",
       "      <td>0.680332</td>\n",
       "      <td>0.781892</td>\n",
       "      <td>0.204392</td>\n",
       "      <td>0.046937</td>\n",
       "      <td>0.693622</td>\n",
       "      <td>0.804511</td>\n",
       "      <td>20540.0</td>\n",
       "      <td>69170.0</td>\n",
       "    </tr>\n",
       "  </tbody>\n",
       "</table>\n",
       "<p>4 rows × 50 columns</p>\n",
       "</div>"
      ],
      "text/plain": [
       "  run_no                       universe_id  \\\n",
       "0      3  142c114c0d774f4fdd3990cf6598027c   \n",
       "0      3  142c114c0d774f4fdd3990cf6598027c   \n",
       "0      3  142c114c0d774f4fdd3990cf6598027c   \n",
       "0      3  142c114c0d774f4fdd3990cf6598027c   \n",
       "\n",
       "                                   universe_settings  execution_time  \\\n",
       "0  {\"cutoff\": \"quantile_0.1\", \"eval_fairness_grou...       27.512562   \n",
       "0  {\"cutoff\": \"quantile_0.1\", \"eval_fairness_grou...       27.512562   \n",
       "0  {\"cutoff\": \"quantile_0.25\", \"eval_fairness_gro...       27.512562   \n",
       "0  {\"cutoff\": \"quantile_0.25\", \"eval_fairness_gro...       27.512562   \n",
       "\n",
       "   test_size_n  test_size_frac  fair_main_equalized_odds_difference  \\\n",
       "0        89710             1.0                             0.076945   \n",
       "0        89710             1.0                             0.076945   \n",
       "0        89710             1.0                             0.157455   \n",
       "0        89710             1.0                             0.157455   \n",
       "\n",
       "   fair_main_equalized_odds_ratio  fair_main_demographic_parity_difference  \\\n",
       "0                        0.916528                                 0.077963   \n",
       "0                        0.916528                                 0.077963   \n",
       "0                        0.834790                                 0.110888   \n",
       "0                        0.834790                                 0.110888   \n",
       "\n",
       "   fair_main_demographic_parity_ratio  ...  perf_grp_precision_0  \\\n",
       "0                            0.916091  ...                   NaN   \n",
       "0                            0.916091  ...              0.123320   \n",
       "0                            0.862167  ...                   NaN   \n",
       "0                            0.862167  ...              0.132238   \n",
       "\n",
       "   perf_grp_precision_1  perf_grp_false positive rate_0  \\\n",
       "0                   NaN                             NaN   \n",
       "0              0.140428                        0.843440   \n",
       "0                   NaN                             NaN   \n",
       "0              0.156538                        0.680332   \n",
       "\n",
       "   perf_grp_false positive rate_1  perf_grp_false negative rate_0  \\\n",
       "0                             NaN                             NaN   \n",
       "0                        0.920257                        0.089527   \n",
       "0                             NaN                             NaN   \n",
       "0                        0.781892                        0.204392   \n",
       "\n",
       "   perf_grp_false negative rate_1  perf_grp_selection rate_0  \\\n",
       "0                             NaN                        NaN   \n",
       "0                        0.012582                   0.851168   \n",
       "0                             NaN                        NaN   \n",
       "0                        0.046937                   0.693622   \n",
       "\n",
       "   perf_grp_selection rate_1  perf_grp_count_0  perf_grp_count_1  \n",
       "0                        NaN               NaN               NaN  \n",
       "0                   0.929131           20540.0           69170.0  \n",
       "0                        NaN               NaN               NaN  \n",
       "0                   0.804511           20540.0           69170.0  \n",
       "\n",
       "[4 rows x 50 columns]"
      ]
     },
     "execution_count": 64,
     "metadata": {},
     "output_type": "execute_result"
    }
   ],
   "source": [
    "final_output = universe_analysis.generate_final_output(\n",
    "    y_pred_prob=probs_test,\n",
    "    y_test=y_true,\n",
    "    org_test=org_test,\n",
    "    filter_data=filter_sub_universe_data,\n",
    "    cp_metrics_df=cp_metrics_df,\n",
    "    save=True,\n",
    ")\n",
    "final_output"
   ]
  },
  {
   "cell_type": "code",
   "execution_count": null,
   "id": "8b80a1ff",
   "metadata": {
    "papermill": {
     "duration": 0.014602,
     "end_time": "2025-08-19T19:10:51.560710",
     "exception": false,
     "start_time": "2025-08-19T19:10:51.546108",
     "status": "completed"
    },
    "tags": []
   },
   "outputs": [],
   "source": []
  },
  {
   "cell_type": "code",
   "execution_count": null,
   "id": "275c9fad",
   "metadata": {
    "papermill": {
     "duration": 0.014381,
     "end_time": "2025-08-19T19:10:51.589561",
     "exception": false,
     "start_time": "2025-08-19T19:10:51.575180",
     "status": "completed"
    },
    "tags": []
   },
   "outputs": [],
   "source": []
  }
 ],
 "metadata": {
  "celltoolbar": "Tags",
  "kernelspec": {
   "display_name": "Python (CMA Fairness)",
   "language": "python",
   "name": "cma_fair_env"
  },
  "language_info": {
   "codemirror_mode": {
    "name": "ipython",
    "version": 3
   },
   "file_extension": ".py",
   "mimetype": "text/x-python",
   "name": "python",
   "nbconvert_exporter": "python",
   "pygments_lexer": "ipython3",
   "version": "3.10.12"
  },
  "papermill": {
   "default_parameters": {},
   "duration": 37.987105,
   "end_time": "2025-08-19T19:10:52.428138",
   "environment_variables": {},
   "exception": null,
   "input_path": "universe_analysis.ipynb",
   "output_path": "output/runs/3/notebooks/m_3-142c114c0d774f4fdd3990cf6598027c.ipynb",
   "parameters": {
    "output_dir": "output",
    "run_no": "3",
    "seed": "2023",
    "universe": "{\"cutoff\": [\"quantile_0.1\", \"quantile_0.25\"], \"eval_fairness_grouping\": [\"majority-minority\", \"nationality-all\"], \"exclude_features\": \"nationality\", \"exclude_subgroups\": \"keep-all\", \"model\": \"rf\", \"scale\": \"do-not-scale\", \"training_size\": \"1k\", \"training_year\": \"2010_14\"}",
    "universe_id": "142c114c0d774f4fdd3990cf6598027c"
   },
   "start_time": "2025-08-19T19:10:14.441033",
   "version": "2.6.0"
  }
 },
 "nbformat": 4,
 "nbformat_minor": 5
}