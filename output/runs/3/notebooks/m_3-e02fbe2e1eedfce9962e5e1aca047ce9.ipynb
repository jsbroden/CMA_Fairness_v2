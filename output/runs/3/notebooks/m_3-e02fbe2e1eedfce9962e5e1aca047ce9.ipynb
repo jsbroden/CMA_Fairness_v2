{
 "cells": [
  {
   "cell_type": "markdown",
   "id": "ef23dbb3",
   "metadata": {
    "papermill": {
     "duration": 0.023902,
     "end_time": "2025-08-19T18:46:56.978932",
     "exception": false,
     "start_time": "2025-08-19T18:46:56.955030",
     "status": "completed"
    },
    "tags": []
   },
   "source": [
    "# Setup"
   ]
  },
  {
   "cell_type": "code",
   "execution_count": 1,
   "id": "0bc8e7dc",
   "metadata": {
    "execution": {
     "iopub.execute_input": "2025-08-19T18:46:57.016022Z",
     "iopub.status.busy": "2025-08-19T18:46:57.015493Z",
     "iopub.status.idle": "2025-08-19T18:46:57.026394Z",
     "shell.execute_reply": "2025-08-19T18:46:57.025609Z"
    },
    "papermill": {
     "duration": 0.026007,
     "end_time": "2025-08-19T18:46:57.027864",
     "exception": false,
     "start_time": "2025-08-19T18:46:57.001857",
     "status": "completed"
    },
    "tags": []
   },
   "outputs": [
    {
     "name": "stdout",
     "output_type": "stream",
     "text": [
      "/dss/dsshome1/0C/ra93lal2/cma/CMA_Fairness_v2\n"
     ]
    },
    {
     "name": "stderr",
     "output_type": "stream",
     "text": [
      "/dss/dsshome1/0C/ra93lal2/.local/share/virtualenvs/CMA_Fairness_v2-3j10GkSs/lib/python3.10/site-packages/IPython/core/magics/osm.py:393: UserWarning: This is now an optional IPython functionality, using bookmarks requires you to install the `pickleshare` library.\n",
      "  bkms = self.shell.db.get('bookmarks', {})\n",
      "/dss/dsshome1/0C/ra93lal2/.local/share/virtualenvs/CMA_Fairness_v2-3j10GkSs/lib/python3.10/site-packages/IPython/core/magics/osm.py:417: UserWarning: This is now an optional IPython functionality, setting dhist requires you to install the `pickleshare` library.\n",
      "  self.shell.db['dhist'] = compress_dhist(dhist)[-100:]\n"
     ]
    }
   ],
   "source": [
    "%cd ~/cma/CMA_Fairness_v2"
   ]
  },
  {
   "cell_type": "markdown",
   "id": "9d235661",
   "metadata": {
    "papermill": {
     "duration": 0.010094,
     "end_time": "2025-08-19T18:46:57.048756",
     "exception": false,
     "start_time": "2025-08-19T18:46:57.038662",
     "status": "completed"
    },
    "tags": []
   },
   "source": [
    "The following cell holds the definition of our parameters, these values can be overriden by rendering the with e.g. the following command:\n",
    "\n",
    "papermill -p alpha 0.2 -p ratio 0.3 universe_analysis.ipynb output/test_run.ipynb"
   ]
  },
  {
   "cell_type": "code",
   "execution_count": 2,
   "id": "4a789d8e",
   "metadata": {
    "execution": {
     "iopub.execute_input": "2025-08-19T18:46:57.085122Z",
     "iopub.status.busy": "2025-08-19T18:46:57.084602Z",
     "iopub.status.idle": "2025-08-19T18:46:57.090413Z",
     "shell.execute_reply": "2025-08-19T18:46:57.089543Z"
    },
    "papermill": {
     "duration": 0.021997,
     "end_time": "2025-08-19T18:46:57.092949",
     "exception": false,
     "start_time": "2025-08-19T18:46:57.070952",
     "status": "completed"
    },
    "tags": []
   },
   "outputs": [
    {
     "name": "stdout",
     "output_type": "stream",
     "text": [
      "Current working directory: /dss/dsshome1/0C/ra93lal2/cma/CMA_Fairness_v2\n"
     ]
    }
   ],
   "source": [
    "import os\n",
    "print(\"Current working directory:\", os.getcwd())"
   ]
  },
  {
   "cell_type": "code",
   "execution_count": 3,
   "id": "4132aaed",
   "metadata": {
    "execution": {
     "iopub.execute_input": "2025-08-19T18:46:57.124082Z",
     "iopub.status.busy": "2025-08-19T18:46:57.123580Z",
     "iopub.status.idle": "2025-08-19T18:46:57.129726Z",
     "shell.execute_reply": "2025-08-19T18:46:57.128517Z"
    },
    "papermill": {
     "duration": 0.026277,
     "end_time": "2025-08-19T18:46:57.137561",
     "exception": false,
     "start_time": "2025-08-19T18:46:57.111284",
     "status": "completed"
    },
    "tags": [
     "parameters"
    ]
   },
   "outputs": [],
   "source": [
    "run_no = 0\n",
    "universe_id = \"test\"\n",
    "universe = {\n",
    "    \"training_size\": \"5k\", # \"25k\", \"5k\", \"1k\"\n",
    "    \"training_year\": \"2012_14\", # \"2014\", \"2012_14\", \"2010_14\"\n",
    "    \"scale\": \"scale\", # \"scale\", \"do-not-scale\",\n",
    "    \"model\": \"elasticnet\", # \"logreg\", \"penalized_logreg\", \"rf\", \"gbm\", \"elasticnet\"\n",
    "    \"cutoff\": [\"quantile_0.15\", \"quantile_0.30\"],\n",
    "    \"exclude_features\": \"age\", # \"none\", \"nationality\", \"sex\", \"nationality-sex\", \"age\"\n",
    "    \"exclude_subgroups\": \"drop-non-german\", # \"keep-all\", \"drop-non-german\"\n",
    "    \"eval_fairness_grouping\": [\"majority-minority\", \"nationality-all\"]\n",
    "}\n",
    "\n",
    "output_dir=\"./output\"\n",
    "seed=0"
   ]
  },
  {
   "cell_type": "code",
   "execution_count": 4,
   "id": "55f57e28",
   "metadata": {
    "execution": {
     "iopub.execute_input": "2025-08-19T18:46:57.157010Z",
     "iopub.status.busy": "2025-08-19T18:46:57.156548Z",
     "iopub.status.idle": "2025-08-19T18:46:57.160960Z",
     "shell.execute_reply": "2025-08-19T18:46:57.160129Z"
    },
    "papermill": {
     "duration": 0.01559,
     "end_time": "2025-08-19T18:46:57.162181",
     "exception": false,
     "start_time": "2025-08-19T18:46:57.146591",
     "status": "completed"
    },
    "tags": [
     "injected-parameters"
    ]
   },
   "outputs": [],
   "source": [
    "# Parameters\n",
    "universe_id = \"e02fbe2e1eedfce9962e5e1aca047ce9\"\n",
    "run_no = \"3\"\n",
    "universe = \"{\\\"cutoff\\\": [\\\"quantile_0.1\\\", \\\"quantile_0.25\\\"], \\\"eval_fairness_grouping\\\": [\\\"majority-minority\\\", \\\"nationality-all\\\"], \\\"exclude_features\\\": \\\"nationality\\\", \\\"exclude_subgroups\\\": \\\"keep-all\\\", \\\"model\\\": \\\"gbm\\\", \\\"scale\\\": \\\"do-not-scale\\\", \\\"training_size\\\": \\\"5k\\\", \\\"training_year\\\": \\\"2010_14\\\"}\"\n",
    "output_dir = \"output\"\n",
    "seed = \"2023\"\n"
   ]
  },
  {
   "cell_type": "code",
   "execution_count": 5,
   "id": "a5d7941f",
   "metadata": {
    "execution": {
     "iopub.execute_input": "2025-08-19T18:46:57.183961Z",
     "iopub.status.busy": "2025-08-19T18:46:57.183534Z",
     "iopub.status.idle": "2025-08-19T18:46:57.194742Z",
     "shell.execute_reply": "2025-08-19T18:46:57.193498Z"
    },
    "papermill": {
     "duration": 0.022988,
     "end_time": "2025-08-19T18:46:57.196308",
     "exception": false,
     "start_time": "2025-08-19T18:46:57.173320",
     "status": "completed"
    },
    "tags": []
   },
   "outputs": [],
   "source": [
    "import json\n",
    "if isinstance(universe, str):\n",
    "    universe = json.loads(universe)"
   ]
  },
  {
   "cell_type": "code",
   "execution_count": 6,
   "id": "7076ccb1",
   "metadata": {
    "execution": {
     "iopub.execute_input": "2025-08-19T18:46:57.219698Z",
     "iopub.status.busy": "2025-08-19T18:46:57.219231Z",
     "iopub.status.idle": "2025-08-19T18:46:57.255887Z",
     "shell.execute_reply": "2025-08-19T18:46:57.255049Z"
    },
    "papermill": {
     "duration": 0.049716,
     "end_time": "2025-08-19T18:46:57.258348",
     "exception": false,
     "start_time": "2025-08-19T18:46:57.208632",
     "status": "completed"
    },
    "tags": []
   },
   "outputs": [],
   "source": [
    "# Auto-reload the custom package\n",
    "%load_ext autoreload\n",
    "%autoreload 1\n",
    "%aimport fairness_multiverse"
   ]
  },
  {
   "cell_type": "code",
   "execution_count": 7,
   "id": "94c8eb93",
   "metadata": {
    "execution": {
     "iopub.execute_input": "2025-08-19T18:46:57.290287Z",
     "iopub.status.busy": "2025-08-19T18:46:57.289227Z",
     "iopub.status.idle": "2025-08-19T18:46:58.858236Z",
     "shell.execute_reply": "2025-08-19T18:46:58.857216Z"
    },
    "papermill": {
     "duration": 1.584962,
     "end_time": "2025-08-19T18:46:58.861148",
     "exception": false,
     "start_time": "2025-08-19T18:46:57.276186",
     "status": "completed"
    },
    "tags": []
   },
   "outputs": [],
   "source": [
    "from fairness_multiverse.universe import UniverseAnalysis\n",
    "\n",
    "universe_analysis = UniverseAnalysis(\n",
    "    run_no = run_no,\n",
    "    universe_id = universe_id,\n",
    "    universe = universe,\n",
    "    output_dir=output_dir,\n",
    ")"
   ]
  },
  {
   "cell_type": "code",
   "execution_count": 8,
   "id": "2a6381cf",
   "metadata": {
    "execution": {
     "iopub.execute_input": "2025-08-19T18:46:58.897086Z",
     "iopub.status.busy": "2025-08-19T18:46:58.896010Z",
     "iopub.status.idle": "2025-08-19T18:46:58.904286Z",
     "shell.execute_reply": "2025-08-19T18:46:58.903138Z"
    },
    "papermill": {
     "duration": 0.022755,
     "end_time": "2025-08-19T18:46:58.905826",
     "exception": false,
     "start_time": "2025-08-19T18:46:58.883071",
     "status": "completed"
    },
    "tags": []
   },
   "outputs": [
    {
     "name": "stdout",
     "output_type": "stream",
     "text": [
      "Using Seed: 2023\n"
     ]
    }
   ],
   "source": [
    "import numpy as np\n",
    "parsed_seed = int(seed)\n",
    "np.random.seed(parsed_seed)\n",
    "print(f\"Using Seed: {parsed_seed}\")"
   ]
  },
  {
   "cell_type": "markdown",
   "id": "b6e958b4",
   "metadata": {
    "papermill": {
     "duration": 0.009716,
     "end_time": "2025-08-19T18:46:58.926914",
     "exception": false,
     "start_time": "2025-08-19T18:46:58.917198",
     "status": "completed"
    },
    "tags": []
   },
   "source": [
    "# Loading Data"
   ]
  },
  {
   "cell_type": "code",
   "execution_count": 9,
   "id": "98701482",
   "metadata": {
    "execution": {
     "iopub.execute_input": "2025-08-19T18:46:58.947308Z",
     "iopub.status.busy": "2025-08-19T18:46:58.946029Z",
     "iopub.status.idle": "2025-08-19T18:47:08.823497Z",
     "shell.execute_reply": "2025-08-19T18:47:08.822176Z"
    },
    "papermill": {
     "duration": 9.892177,
     "end_time": "2025-08-19T18:47:08.827867",
     "exception": false,
     "start_time": "2025-08-19T18:46:58.935690",
     "status": "completed"
    },
    "tags": []
   },
   "outputs": [
    {
     "name": "stdout",
     "output_type": "stream",
     "text": [
      "Loading SIAB data from cache: data/siab_cached.csv.gz\n"
     ]
    },
    {
     "name": "stdout",
     "output_type": "stream",
     "text": [
      "(643690, 164)\n"
     ]
    }
   ],
   "source": [
    "from pathlib import Path\n",
    "import pandas as pd\n",
    "\n",
    "# File paths\n",
    "raw_file = Path(\"data/raw/siab.csv\")\n",
    "cache_file = Path(\"data/siab_cached.csv.gz\")\n",
    "\n",
    "# Ensure cache directory exists\n",
    "cache_file.parent.mkdir(parents=True, exist_ok=True)\n",
    "\n",
    "# Load with simple caching\n",
    "if cache_file.exists():\n",
    "    print(f\"Loading SIAB data from cache: {cache_file}\")\n",
    "    siab = pd.read_csv(cache_file, compression='gzip')\n",
    "else:\n",
    "    print(f\"Cache not found. Reading raw SIAB data: {raw_file}\")\n",
    "    siab = pd.read_csv(raw_file)\n",
    "    siab.to_csv(cache_file, index=False, compression='gzip')\n",
    "    print(f\"Cached SIAB data to: {cache_file}\")\n",
    "\n",
    "print(siab.shape)"
   ]
  },
  {
   "cell_type": "code",
   "execution_count": 10,
   "id": "058d2abb",
   "metadata": {
    "execution": {
     "iopub.execute_input": "2025-08-19T18:47:08.857826Z",
     "iopub.status.busy": "2025-08-19T18:47:08.857389Z",
     "iopub.status.idle": "2025-08-19T18:47:09.067401Z",
     "shell.execute_reply": "2025-08-19T18:47:09.065980Z"
    },
    "papermill": {
     "duration": 0.227859,
     "end_time": "2025-08-19T18:47:09.068951",
     "exception": false,
     "start_time": "2025-08-19T18:47:08.841092",
     "status": "completed"
    },
    "tags": []
   },
   "outputs": [
    {
     "data": {
      "text/html": [
       "<div>\n",
       "<style scoped>\n",
       "    .dataframe tbody tr th:only-of-type {\n",
       "        vertical-align: middle;\n",
       "    }\n",
       "\n",
       "    .dataframe tbody tr th {\n",
       "        vertical-align: top;\n",
       "    }\n",
       "\n",
       "    .dataframe thead th {\n",
       "        text-align: right;\n",
       "    }\n",
       "</style>\n",
       "<table border=\"1\" class=\"dataframe\">\n",
       "  <thead>\n",
       "    <tr style=\"text-align: right;\">\n",
       "      <th></th>\n",
       "      <th>persnr</th>\n",
       "      <th>year</th>\n",
       "      <th>nrEntry</th>\n",
       "      <th>ltue</th>\n",
       "      <th>employed_before</th>\n",
       "      <th>receipt_leh_before</th>\n",
       "      <th>receipt_lhg_before</th>\n",
       "      <th>se_before</th>\n",
       "      <th>ASU_notue_seeking_before</th>\n",
       "      <th>ASU_other_before</th>\n",
       "      <th>...</th>\n",
       "      <th>minijob_tot_dur_byage</th>\n",
       "      <th>ft_tot_dur_byage</th>\n",
       "      <th>befrist_tot_dur_byage</th>\n",
       "      <th>leih_tot_dur_byage</th>\n",
       "      <th>LHG_tot_dur_byage</th>\n",
       "      <th>LEH_tot_dur_byage</th>\n",
       "      <th>almp_tot_dur_byage</th>\n",
       "      <th>almp_aw_tot_dur_byage</th>\n",
       "      <th>se_tot_dur_byage</th>\n",
       "      <th>seeking1_tot_dur_byage</th>\n",
       "    </tr>\n",
       "  </thead>\n",
       "  <tbody>\n",
       "    <tr>\n",
       "      <th>0</th>\n",
       "      <td>7</td>\n",
       "      <td>2015</td>\n",
       "      <td>1</td>\n",
       "      <td>0</td>\n",
       "      <td>1</td>\n",
       "      <td>0</td>\n",
       "      <td>0</td>\n",
       "      <td>0</td>\n",
       "      <td>1</td>\n",
       "      <td>0</td>\n",
       "      <td>...</td>\n",
       "      <td>0.000000</td>\n",
       "      <td>0.000000</td>\n",
       "      <td>15.043478</td>\n",
       "      <td>0.000000</td>\n",
       "      <td>0.000000</td>\n",
       "      <td>0.000000</td>\n",
       "      <td>0.000000</td>\n",
       "      <td>0.000000</td>\n",
       "      <td>0.000000</td>\n",
       "      <td>0.000000</td>\n",
       "    </tr>\n",
       "    <tr>\n",
       "      <th>1</th>\n",
       "      <td>18</td>\n",
       "      <td>2010</td>\n",
       "      <td>1</td>\n",
       "      <td>1</td>\n",
       "      <td>0</td>\n",
       "      <td>0</td>\n",
       "      <td>0</td>\n",
       "      <td>0</td>\n",
       "      <td>0</td>\n",
       "      <td>0</td>\n",
       "      <td>...</td>\n",
       "      <td>0.000000</td>\n",
       "      <td>0.000000</td>\n",
       "      <td>0.000000</td>\n",
       "      <td>0.000000</td>\n",
       "      <td>0.000000</td>\n",
       "      <td>0.000000</td>\n",
       "      <td>0.000000</td>\n",
       "      <td>0.000000</td>\n",
       "      <td>0.000000</td>\n",
       "      <td>0.000000</td>\n",
       "    </tr>\n",
       "    <tr>\n",
       "      <th>2</th>\n",
       "      <td>18</td>\n",
       "      <td>2011</td>\n",
       "      <td>2</td>\n",
       "      <td>0</td>\n",
       "      <td>1</td>\n",
       "      <td>0</td>\n",
       "      <td>1</td>\n",
       "      <td>0</td>\n",
       "      <td>1</td>\n",
       "      <td>0</td>\n",
       "      <td>...</td>\n",
       "      <td>2.714286</td>\n",
       "      <td>2.714286</td>\n",
       "      <td>0.000000</td>\n",
       "      <td>0.000000</td>\n",
       "      <td>10.775510</td>\n",
       "      <td>0.000000</td>\n",
       "      <td>8.367347</td>\n",
       "      <td>0.000000</td>\n",
       "      <td>0.000000</td>\n",
       "      <td>9.836735</td>\n",
       "    </tr>\n",
       "    <tr>\n",
       "      <th>3</th>\n",
       "      <td>18</td>\n",
       "      <td>2012</td>\n",
       "      <td>3</td>\n",
       "      <td>0</td>\n",
       "      <td>1</td>\n",
       "      <td>0</td>\n",
       "      <td>1</td>\n",
       "      <td>0</td>\n",
       "      <td>1</td>\n",
       "      <td>0</td>\n",
       "      <td>...</td>\n",
       "      <td>4.200000</td>\n",
       "      <td>4.200000</td>\n",
       "      <td>0.000000</td>\n",
       "      <td>0.000000</td>\n",
       "      <td>12.100000</td>\n",
       "      <td>0.000000</td>\n",
       "      <td>9.400000</td>\n",
       "      <td>0.000000</td>\n",
       "      <td>0.000000</td>\n",
       "      <td>9.960000</td>\n",
       "    </tr>\n",
       "    <tr>\n",
       "      <th>4</th>\n",
       "      <td>18</td>\n",
       "      <td>2012</td>\n",
       "      <td>4</td>\n",
       "      <td>0</td>\n",
       "      <td>1</td>\n",
       "      <td>0</td>\n",
       "      <td>1</td>\n",
       "      <td>0</td>\n",
       "      <td>1</td>\n",
       "      <td>0</td>\n",
       "      <td>...</td>\n",
       "      <td>5.460000</td>\n",
       "      <td>5.460000</td>\n",
       "      <td>0.000000</td>\n",
       "      <td>0.000000</td>\n",
       "      <td>13.360000</td>\n",
       "      <td>0.000000</td>\n",
       "      <td>10.320000</td>\n",
       "      <td>0.000000</td>\n",
       "      <td>0.000000</td>\n",
       "      <td>10.280000</td>\n",
       "    </tr>\n",
       "    <tr>\n",
       "      <th>...</th>\n",
       "      <td>...</td>\n",
       "      <td>...</td>\n",
       "      <td>...</td>\n",
       "      <td>...</td>\n",
       "      <td>...</td>\n",
       "      <td>...</td>\n",
       "      <td>...</td>\n",
       "      <td>...</td>\n",
       "      <td>...</td>\n",
       "      <td>...</td>\n",
       "      <td>...</td>\n",
       "      <td>...</td>\n",
       "      <td>...</td>\n",
       "      <td>...</td>\n",
       "      <td>...</td>\n",
       "      <td>...</td>\n",
       "      <td>...</td>\n",
       "      <td>...</td>\n",
       "      <td>...</td>\n",
       "      <td>...</td>\n",
       "      <td>...</td>\n",
       "    </tr>\n",
       "    <tr>\n",
       "      <th>643685</th>\n",
       "      <td>1827860</td>\n",
       "      <td>2013</td>\n",
       "      <td>1</td>\n",
       "      <td>0</td>\n",
       "      <td>0</td>\n",
       "      <td>0</td>\n",
       "      <td>1</td>\n",
       "      <td>0</td>\n",
       "      <td>0</td>\n",
       "      <td>1</td>\n",
       "      <td>...</td>\n",
       "      <td>0.000000</td>\n",
       "      <td>0.000000</td>\n",
       "      <td>0.000000</td>\n",
       "      <td>0.000000</td>\n",
       "      <td>0.612903</td>\n",
       "      <td>0.000000</td>\n",
       "      <td>0.000000</td>\n",
       "      <td>0.000000</td>\n",
       "      <td>0.000000</td>\n",
       "      <td>0.000000</td>\n",
       "    </tr>\n",
       "    <tr>\n",
       "      <th>643686</th>\n",
       "      <td>1827860</td>\n",
       "      <td>2015</td>\n",
       "      <td>2</td>\n",
       "      <td>1</td>\n",
       "      <td>0</td>\n",
       "      <td>0</td>\n",
       "      <td>1</td>\n",
       "      <td>0</td>\n",
       "      <td>1</td>\n",
       "      <td>0</td>\n",
       "      <td>...</td>\n",
       "      <td>0.000000</td>\n",
       "      <td>0.000000</td>\n",
       "      <td>0.212121</td>\n",
       "      <td>0.212121</td>\n",
       "      <td>17.363636</td>\n",
       "      <td>0.000000</td>\n",
       "      <td>8.909091</td>\n",
       "      <td>0.000000</td>\n",
       "      <td>0.000000</td>\n",
       "      <td>7.121212</td>\n",
       "    </tr>\n",
       "    <tr>\n",
       "      <th>643687</th>\n",
       "      <td>1827860</td>\n",
       "      <td>2016</td>\n",
       "      <td>3</td>\n",
       "      <td>1</td>\n",
       "      <td>0</td>\n",
       "      <td>0</td>\n",
       "      <td>1</td>\n",
       "      <td>1</td>\n",
       "      <td>0</td>\n",
       "      <td>1</td>\n",
       "      <td>...</td>\n",
       "      <td>0.000000</td>\n",
       "      <td>0.000000</td>\n",
       "      <td>0.294118</td>\n",
       "      <td>0.205882</td>\n",
       "      <td>34.705882</td>\n",
       "      <td>0.000000</td>\n",
       "      <td>10.352941</td>\n",
       "      <td>1.705882</td>\n",
       "      <td>1.705882</td>\n",
       "      <td>23.911765</td>\n",
       "    </tr>\n",
       "    <tr>\n",
       "      <th>643688</th>\n",
       "      <td>1827869</td>\n",
       "      <td>2013</td>\n",
       "      <td>1</td>\n",
       "      <td>1</td>\n",
       "      <td>1</td>\n",
       "      <td>0</td>\n",
       "      <td>0</td>\n",
       "      <td>0</td>\n",
       "      <td>1</td>\n",
       "      <td>0</td>\n",
       "      <td>...</td>\n",
       "      <td>0.000000</td>\n",
       "      <td>0.000000</td>\n",
       "      <td>0.000000</td>\n",
       "      <td>0.000000</td>\n",
       "      <td>0.000000</td>\n",
       "      <td>0.525424</td>\n",
       "      <td>0.000000</td>\n",
       "      <td>0.000000</td>\n",
       "      <td>0.000000</td>\n",
       "      <td>0.000000</td>\n",
       "    </tr>\n",
       "    <tr>\n",
       "      <th>643689</th>\n",
       "      <td>1827869</td>\n",
       "      <td>2014</td>\n",
       "      <td>2</td>\n",
       "      <td>0</td>\n",
       "      <td>0</td>\n",
       "      <td>1</td>\n",
       "      <td>0</td>\n",
       "      <td>0</td>\n",
       "      <td>1</td>\n",
       "      <td>0</td>\n",
       "      <td>...</td>\n",
       "      <td>0.000000</td>\n",
       "      <td>0.666667</td>\n",
       "      <td>0.666667</td>\n",
       "      <td>0.000000</td>\n",
       "      <td>0.000000</td>\n",
       "      <td>8.950000</td>\n",
       "      <td>1.033333</td>\n",
       "      <td>0.083333</td>\n",
       "      <td>0.083333</td>\n",
       "      <td>8.133333</td>\n",
       "    </tr>\n",
       "  </tbody>\n",
       "</table>\n",
       "<p>643690 rows × 164 columns</p>\n",
       "</div>"
      ],
      "text/plain": [
       "         persnr  year  nrEntry  ltue  employed_before  receipt_leh_before  \\\n",
       "0             7  2015        1     0                1                   0   \n",
       "1            18  2010        1     1                0                   0   \n",
       "2            18  2011        2     0                1                   0   \n",
       "3            18  2012        3     0                1                   0   \n",
       "4            18  2012        4     0                1                   0   \n",
       "...         ...   ...      ...   ...              ...                 ...   \n",
       "643685  1827860  2013        1     0                0                   0   \n",
       "643686  1827860  2015        2     1                0                   0   \n",
       "643687  1827860  2016        3     1                0                   0   \n",
       "643688  1827869  2013        1     1                1                   0   \n",
       "643689  1827869  2014        2     0                0                   1   \n",
       "\n",
       "        receipt_lhg_before  se_before  ASU_notue_seeking_before  \\\n",
       "0                        0          0                         1   \n",
       "1                        0          0                         0   \n",
       "2                        1          0                         1   \n",
       "3                        1          0                         1   \n",
       "4                        1          0                         1   \n",
       "...                    ...        ...                       ...   \n",
       "643685                   1          0                         0   \n",
       "643686                   1          0                         1   \n",
       "643687                   1          1                         0   \n",
       "643688                   0          0                         1   \n",
       "643689                   0          0                         1   \n",
       "\n",
       "        ASU_other_before  ...  minijob_tot_dur_byage  ft_tot_dur_byage  \\\n",
       "0                      0  ...               0.000000          0.000000   \n",
       "1                      0  ...               0.000000          0.000000   \n",
       "2                      0  ...               2.714286          2.714286   \n",
       "3                      0  ...               4.200000          4.200000   \n",
       "4                      0  ...               5.460000          5.460000   \n",
       "...                  ...  ...                    ...               ...   \n",
       "643685                 1  ...               0.000000          0.000000   \n",
       "643686                 0  ...               0.000000          0.000000   \n",
       "643687                 1  ...               0.000000          0.000000   \n",
       "643688                 0  ...               0.000000          0.000000   \n",
       "643689                 0  ...               0.000000          0.666667   \n",
       "\n",
       "        befrist_tot_dur_byage  leih_tot_dur_byage  LHG_tot_dur_byage  \\\n",
       "0                   15.043478            0.000000           0.000000   \n",
       "1                    0.000000            0.000000           0.000000   \n",
       "2                    0.000000            0.000000          10.775510   \n",
       "3                    0.000000            0.000000          12.100000   \n",
       "4                    0.000000            0.000000          13.360000   \n",
       "...                       ...                 ...                ...   \n",
       "643685               0.000000            0.000000           0.612903   \n",
       "643686               0.212121            0.212121          17.363636   \n",
       "643687               0.294118            0.205882          34.705882   \n",
       "643688               0.000000            0.000000           0.000000   \n",
       "643689               0.666667            0.000000           0.000000   \n",
       "\n",
       "        LEH_tot_dur_byage  almp_tot_dur_byage  almp_aw_tot_dur_byage  \\\n",
       "0                0.000000            0.000000               0.000000   \n",
       "1                0.000000            0.000000               0.000000   \n",
       "2                0.000000            8.367347               0.000000   \n",
       "3                0.000000            9.400000               0.000000   \n",
       "4                0.000000           10.320000               0.000000   \n",
       "...                   ...                 ...                    ...   \n",
       "643685           0.000000            0.000000               0.000000   \n",
       "643686           0.000000            8.909091               0.000000   \n",
       "643687           0.000000           10.352941               1.705882   \n",
       "643688           0.525424            0.000000               0.000000   \n",
       "643689           8.950000            1.033333               0.083333   \n",
       "\n",
       "        se_tot_dur_byage  seeking1_tot_dur_byage  \n",
       "0               0.000000                0.000000  \n",
       "1               0.000000                0.000000  \n",
       "2               0.000000                9.836735  \n",
       "3               0.000000                9.960000  \n",
       "4               0.000000               10.280000  \n",
       "...                  ...                     ...  \n",
       "643685          0.000000                0.000000  \n",
       "643686          0.000000                7.121212  \n",
       "643687          1.705882               23.911765  \n",
       "643688          0.000000                0.000000  \n",
       "643689          0.083333                8.133333  \n",
       "\n",
       "[643690 rows x 164 columns]"
      ]
     },
     "execution_count": 10,
     "metadata": {},
     "output_type": "execute_result"
    }
   ],
   "source": [
    "siab"
   ]
  },
  {
   "cell_type": "markdown",
   "id": "1f87e805",
   "metadata": {
    "papermill": {
     "duration": 0.00976,
     "end_time": "2025-08-19T18:47:09.088855",
     "exception": false,
     "start_time": "2025-08-19T18:47:09.079095",
     "status": "completed"
    },
    "tags": []
   },
   "source": [
    "# Splitting Data and Setting Training Data Size"
   ]
  },
  {
   "cell_type": "code",
   "execution_count": 11,
   "id": "910ae358",
   "metadata": {
    "execution": {
     "iopub.execute_input": "2025-08-19T18:47:09.113079Z",
     "iopub.status.busy": "2025-08-19T18:47:09.111775Z",
     "iopub.status.idle": "2025-08-19T18:47:10.170465Z",
     "shell.execute_reply": "2025-08-19T18:47:10.169116Z"
    },
    "papermill": {
     "duration": 1.073314,
     "end_time": "2025-08-19T18:47:10.172566",
     "exception": false,
     "start_time": "2025-08-19T18:47:09.099252",
     "status": "completed"
    },
    "tags": []
   },
   "outputs": [],
   "source": [
    "from fairness_multiverse.universe import sample_by_year_size\n",
    "\n",
    "siab_train = sample_by_year_size(siab,\n",
    "                               training_year=universe[\"training_year\"],\n",
    "                               training_size=universe[\"training_size\"])"
   ]
  },
  {
   "cell_type": "code",
   "execution_count": 12,
   "id": "919c8ff5",
   "metadata": {
    "execution": {
     "iopub.execute_input": "2025-08-19T18:47:10.201148Z",
     "iopub.status.busy": "2025-08-19T18:47:10.195536Z",
     "iopub.status.idle": "2025-08-19T18:47:10.207363Z",
     "shell.execute_reply": "2025-08-19T18:47:10.206473Z"
    },
    "papermill": {
     "duration": 0.025622,
     "end_time": "2025-08-19T18:47:10.209772",
     "exception": false,
     "start_time": "2025-08-19T18:47:10.184150",
     "status": "completed"
    },
    "tags": []
   },
   "outputs": [
    {
     "data": {
      "text/plain": [
       "(5000, 164)"
      ]
     },
     "execution_count": 12,
     "metadata": {},
     "output_type": "execute_result"
    }
   ],
   "source": [
    "siab_train.shape"
   ]
  },
  {
   "cell_type": "code",
   "execution_count": 13,
   "id": "feb13bf4",
   "metadata": {
    "execution": {
     "iopub.execute_input": "2025-08-19T18:47:10.232296Z",
     "iopub.status.busy": "2025-08-19T18:47:10.231937Z",
     "iopub.status.idle": "2025-08-19T18:47:10.244058Z",
     "shell.execute_reply": "2025-08-19T18:47:10.243264Z"
    },
    "papermill": {
     "duration": 0.024098,
     "end_time": "2025-08-19T18:47:10.245444",
     "exception": false,
     "start_time": "2025-08-19T18:47:10.221346",
     "status": "completed"
    },
    "tags": []
   },
   "outputs": [
    {
     "data": {
      "text/plain": [
       "year\n",
       "2010    1000\n",
       "2011    1000\n",
       "2012    1000\n",
       "2013    1000\n",
       "2014    1000\n",
       "dtype: int64"
      ]
     },
     "metadata": {},
     "output_type": "display_data"
    }
   ],
   "source": [
    "display(siab_train.groupby(\"year\").size())"
   ]
  },
  {
   "cell_type": "code",
   "execution_count": 14,
   "id": "0997782f",
   "metadata": {
    "execution": {
     "iopub.execute_input": "2025-08-19T18:47:10.267307Z",
     "iopub.status.busy": "2025-08-19T18:47:10.266938Z",
     "iopub.status.idle": "2025-08-19T18:47:10.539385Z",
     "shell.execute_reply": "2025-08-19T18:47:10.538282Z"
    },
    "papermill": {
     "duration": 0.284993,
     "end_time": "2025-08-19T18:47:10.541135",
     "exception": false,
     "start_time": "2025-08-19T18:47:10.256142",
     "status": "completed"
    },
    "tags": []
   },
   "outputs": [],
   "source": [
    "#siab_train = siab_s[siab_s.year < 2015]\n",
    "siab_calib = siab[siab.year == 2015]\n",
    "siab_test = siab[siab.year == 2016]"
   ]
  },
  {
   "cell_type": "code",
   "execution_count": 15,
   "id": "2c1e4012",
   "metadata": {
    "execution": {
     "iopub.execute_input": "2025-08-19T18:47:10.563823Z",
     "iopub.status.busy": "2025-08-19T18:47:10.563414Z",
     "iopub.status.idle": "2025-08-19T18:47:10.567933Z",
     "shell.execute_reply": "2025-08-19T18:47:10.567111Z"
    },
    "papermill": {
     "duration": 0.017176,
     "end_time": "2025-08-19T18:47:10.569380",
     "exception": false,
     "start_time": "2025-08-19T18:47:10.552204",
     "status": "completed"
    },
    "tags": []
   },
   "outputs": [],
   "source": [
    "#siab_calib.shape"
   ]
  },
  {
   "cell_type": "code",
   "execution_count": 16,
   "id": "f66b54ca",
   "metadata": {
    "execution": {
     "iopub.execute_input": "2025-08-19T18:47:10.590775Z",
     "iopub.status.busy": "2025-08-19T18:47:10.590419Z",
     "iopub.status.idle": "2025-08-19T18:47:10.594620Z",
     "shell.execute_reply": "2025-08-19T18:47:10.593792Z"
    },
    "papermill": {
     "duration": 0.016473,
     "end_time": "2025-08-19T18:47:10.596055",
     "exception": false,
     "start_time": "2025-08-19T18:47:10.579582",
     "status": "completed"
    },
    "tags": []
   },
   "outputs": [],
   "source": [
    "#siab_test.shape"
   ]
  },
  {
   "cell_type": "code",
   "execution_count": 17,
   "id": "27e4384d",
   "metadata": {
    "execution": {
     "iopub.execute_input": "2025-08-19T18:47:10.617046Z",
     "iopub.status.busy": "2025-08-19T18:47:10.616722Z",
     "iopub.status.idle": "2025-08-19T18:47:10.628336Z",
     "shell.execute_reply": "2025-08-19T18:47:10.627462Z"
    },
    "papermill": {
     "duration": 0.02384,
     "end_time": "2025-08-19T18:47:10.629918",
     "exception": false,
     "start_time": "2025-08-19T18:47:10.606078",
     "status": "completed"
    },
    "tags": []
   },
   "outputs": [],
   "source": [
    "X_train = siab_train.iloc[:,4:164]\n",
    "y_train = siab_train.iloc[:, [3]]"
   ]
  },
  {
   "cell_type": "code",
   "execution_count": 18,
   "id": "08ee8389",
   "metadata": {
    "execution": {
     "iopub.execute_input": "2025-08-19T18:47:10.652554Z",
     "iopub.status.busy": "2025-08-19T18:47:10.652168Z",
     "iopub.status.idle": "2025-08-19T18:47:10.717892Z",
     "shell.execute_reply": "2025-08-19T18:47:10.717009Z"
    },
    "papermill": {
     "duration": 0.077771,
     "end_time": "2025-08-19T18:47:10.719175",
     "exception": false,
     "start_time": "2025-08-19T18:47:10.641404",
     "status": "completed"
    },
    "tags": []
   },
   "outputs": [],
   "source": [
    "X_calib = siab_calib.iloc[:,4:164]\n",
    "y_calib = siab_calib.iloc[:, [3]]"
   ]
  },
  {
   "cell_type": "code",
   "execution_count": 19,
   "id": "b7ff42e0",
   "metadata": {
    "execution": {
     "iopub.execute_input": "2025-08-19T18:47:10.741934Z",
     "iopub.status.busy": "2025-08-19T18:47:10.741007Z",
     "iopub.status.idle": "2025-08-19T18:47:10.796451Z",
     "shell.execute_reply": "2025-08-19T18:47:10.795536Z"
    },
    "papermill": {
     "duration": 0.069227,
     "end_time": "2025-08-19T18:47:10.798851",
     "exception": false,
     "start_time": "2025-08-19T18:47:10.729624",
     "status": "completed"
    },
    "tags": []
   },
   "outputs": [],
   "source": [
    "X_test = siab_test.iloc[:,4:164]\n",
    "y_true = siab_test.iloc[:, [3]]"
   ]
  },
  {
   "cell_type": "code",
   "execution_count": 20,
   "id": "0275101e",
   "metadata": {
    "execution": {
     "iopub.execute_input": "2025-08-19T18:47:10.838420Z",
     "iopub.status.busy": "2025-08-19T18:47:10.838029Z",
     "iopub.status.idle": "2025-08-19T18:47:10.954658Z",
     "shell.execute_reply": "2025-08-19T18:47:10.953753Z"
    },
    "papermill": {
     "duration": 0.13185,
     "end_time": "2025-08-19T18:47:10.956224",
     "exception": false,
     "start_time": "2025-08-19T18:47:10.824374",
     "status": "completed"
    },
    "tags": []
   },
   "outputs": [],
   "source": [
    "# Auxiliary data needed downstream in the pipeline\n",
    "\n",
    "org_train = X_train.copy()\n",
    "org_test = X_test.copy()\n",
    "org_calib = X_calib.copy()"
   ]
  },
  {
   "cell_type": "markdown",
   "id": "b461e618",
   "metadata": {
    "papermill": {
     "duration": 0.015313,
     "end_time": "2025-08-19T18:47:10.987844",
     "exception": false,
     "start_time": "2025-08-19T18:47:10.972531",
     "status": "completed"
    },
    "tags": []
   },
   "source": [
    "# Preprocessing Data"
   ]
  },
  {
   "cell_type": "code",
   "execution_count": 21,
   "id": "78e74c4b",
   "metadata": {
    "execution": {
     "iopub.execute_input": "2025-08-19T18:47:11.042804Z",
     "iopub.status.busy": "2025-08-19T18:47:11.042395Z",
     "iopub.status.idle": "2025-08-19T18:47:11.047385Z",
     "shell.execute_reply": "2025-08-19T18:47:11.046596Z"
    },
    "papermill": {
     "duration": 0.022216,
     "end_time": "2025-08-19T18:47:11.049160",
     "exception": false,
     "start_time": "2025-08-19T18:47:11.026944",
     "status": "completed"
    },
    "tags": []
   },
   "outputs": [],
   "source": [
    "# EXCLUDE PROTECTED FEATURES\n",
    "# --------------------------\n",
    "\n",
    "excluded_features = universe[\"exclude_features\"].split(\"-\")\n",
    "excluded_features_dictionary = {\n",
    "    \"nationality\": [\"maxdeutsch1\", \"maxdeutsch.Missing.\"],\n",
    "    \"sex\": [\"frau1\"],\n",
    "    \"age\": [\"age\"],\n",
    "}"
   ]
  },
  {
   "cell_type": "code",
   "execution_count": 22,
   "id": "f8e63555",
   "metadata": {
    "execution": {
     "iopub.execute_input": "2025-08-19T18:47:11.071099Z",
     "iopub.status.busy": "2025-08-19T18:47:11.070756Z",
     "iopub.status.idle": "2025-08-19T18:47:11.075342Z",
     "shell.execute_reply": "2025-08-19T18:47:11.074554Z"
    },
    "papermill": {
     "duration": 0.016734,
     "end_time": "2025-08-19T18:47:11.076692",
     "exception": false,
     "start_time": "2025-08-19T18:47:11.059958",
     "status": "completed"
    },
    "tags": []
   },
   "outputs": [],
   "source": [
    "excluded_features_columns = [\n",
    "    excluded_features_dictionary[f] for f in excluded_features if len(f) > 0 and f != \"none\"\n",
    "]"
   ]
  },
  {
   "cell_type": "code",
   "execution_count": 23,
   "id": "da781f7c",
   "metadata": {
    "execution": {
     "iopub.execute_input": "2025-08-19T18:47:11.099853Z",
     "iopub.status.busy": "2025-08-19T18:47:11.099526Z",
     "iopub.status.idle": "2025-08-19T18:47:11.104029Z",
     "shell.execute_reply": "2025-08-19T18:47:11.103256Z"
    },
    "papermill": {
     "duration": 0.018672,
     "end_time": "2025-08-19T18:47:11.105390",
     "exception": false,
     "start_time": "2025-08-19T18:47:11.086718",
     "status": "completed"
    },
    "tags": []
   },
   "outputs": [],
   "source": [
    "from fairness_multiverse.universe import flatten_once\n",
    "\n",
    "excluded_features_columns = flatten_once(excluded_features_columns)"
   ]
  },
  {
   "cell_type": "code",
   "execution_count": 24,
   "id": "37fef0f0",
   "metadata": {
    "execution": {
     "iopub.execute_input": "2025-08-19T18:47:11.126826Z",
     "iopub.status.busy": "2025-08-19T18:47:11.126484Z",
     "iopub.status.idle": "2025-08-19T18:47:11.138793Z",
     "shell.execute_reply": "2025-08-19T18:47:11.137937Z"
    },
    "papermill": {
     "duration": 0.026,
     "end_time": "2025-08-19T18:47:11.141589",
     "exception": false,
     "start_time": "2025-08-19T18:47:11.115589",
     "status": "completed"
    },
    "tags": []
   },
   "outputs": [
    {
     "name": "stdout",
     "output_type": "stream",
     "text": [
      "Dropping features: ['maxdeutsch1', 'maxdeutsch.Missing.']\n"
     ]
    }
   ],
   "source": [
    "if len(excluded_features_columns) > 0:\n",
    "    print(f\"Dropping features: {excluded_features_columns}\")\n",
    "    X_train.drop(excluded_features_columns, axis=1, inplace=True)"
   ]
  },
  {
   "cell_type": "code",
   "execution_count": 25,
   "id": "d029e3e9",
   "metadata": {
    "execution": {
     "iopub.execute_input": "2025-08-19T18:47:11.165109Z",
     "iopub.status.busy": "2025-08-19T18:47:11.164752Z",
     "iopub.status.idle": "2025-08-19T18:47:11.220267Z",
     "shell.execute_reply": "2025-08-19T18:47:11.219310Z"
    },
    "papermill": {
     "duration": 0.069974,
     "end_time": "2025-08-19T18:47:11.223612",
     "exception": false,
     "start_time": "2025-08-19T18:47:11.153638",
     "status": "completed"
    },
    "tags": []
   },
   "outputs": [
    {
     "name": "stdout",
     "output_type": "stream",
     "text": [
      "Dropping features: ['maxdeutsch1', 'maxdeutsch.Missing.']\n"
     ]
    }
   ],
   "source": [
    "if len(excluded_features_columns) > 0:\n",
    "    print(f\"Dropping features: {excluded_features_columns}\")\n",
    "    X_test.drop(excluded_features_columns, axis=1, inplace=True)"
   ]
  },
  {
   "cell_type": "code",
   "execution_count": 26,
   "id": "01d571f0",
   "metadata": {
    "execution": {
     "iopub.execute_input": "2025-08-19T18:47:11.260147Z",
     "iopub.status.busy": "2025-08-19T18:47:11.259258Z",
     "iopub.status.idle": "2025-08-19T18:47:11.310658Z",
     "shell.execute_reply": "2025-08-19T18:47:11.309826Z"
    },
    "papermill": {
     "duration": 0.072865,
     "end_time": "2025-08-19T18:47:11.318429",
     "exception": false,
     "start_time": "2025-08-19T18:47:11.245564",
     "status": "completed"
    },
    "tags": []
   },
   "outputs": [
    {
     "name": "stdout",
     "output_type": "stream",
     "text": [
      "Dropping features: ['maxdeutsch1', 'maxdeutsch.Missing.']\n"
     ]
    }
   ],
   "source": [
    "if len(excluded_features_columns) > 0:\n",
    "    print(f\"Dropping features: {excluded_features_columns}\")\n",
    "    X_calib.drop(excluded_features_columns, axis=1, inplace=True)"
   ]
  },
  {
   "cell_type": "code",
   "execution_count": 27,
   "id": "3037356e",
   "metadata": {
    "execution": {
     "iopub.execute_input": "2025-08-19T18:47:11.350834Z",
     "iopub.status.busy": "2025-08-19T18:47:11.350112Z",
     "iopub.status.idle": "2025-08-19T18:47:11.356915Z",
     "shell.execute_reply": "2025-08-19T18:47:11.355653Z"
    },
    "papermill": {
     "duration": 0.020411,
     "end_time": "2025-08-19T18:47:11.358491",
     "exception": false,
     "start_time": "2025-08-19T18:47:11.338080",
     "status": "completed"
    },
    "tags": []
   },
   "outputs": [],
   "source": [
    "# EXCLUDE CERTAIN SUBGROUPS\n",
    "# -------------------------\n",
    "\n",
    "mode = universe.get(\"exclude_subgroups\", \"keep-all\") # Defaults to \"keep-all\" if the key is missing."
   ]
  },
  {
   "cell_type": "code",
   "execution_count": 28,
   "id": "9d1e63fd",
   "metadata": {
    "execution": {
     "iopub.execute_input": "2025-08-19T18:47:11.400824Z",
     "iopub.status.busy": "2025-08-19T18:47:11.399334Z",
     "iopub.status.idle": "2025-08-19T18:47:11.413155Z",
     "shell.execute_reply": "2025-08-19T18:47:11.411205Z"
    },
    "papermill": {
     "duration": 0.042636,
     "end_time": "2025-08-19T18:47:11.415045",
     "exception": false,
     "start_time": "2025-08-19T18:47:11.372409",
     "status": "completed"
    },
    "tags": []
   },
   "outputs": [],
   "source": [
    "if mode == \"keep-all\":\n",
    "    keep_mask = pd.Series(True, index=org_train.index)\n",
    "\n",
    "elif mode == \"drop-non-german\":\n",
    "    keep_mask = (org_train[\"maxdeutsch1\"] == 1) & (org_train[\"maxdeutsch.Missing.\"] == 0)\n",
    "\n",
    "else:\n",
    "    raise ValueError(f\"Unsupported mode for exclude_subgroups: {mode}\")"
   ]
  },
  {
   "cell_type": "code",
   "execution_count": 29,
   "id": "d3b65474",
   "metadata": {
    "execution": {
     "iopub.execute_input": "2025-08-19T18:47:11.449216Z",
     "iopub.status.busy": "2025-08-19T18:47:11.447937Z",
     "iopub.status.idle": "2025-08-19T18:47:11.458100Z",
     "shell.execute_reply": "2025-08-19T18:47:11.456793Z"
    },
    "papermill": {
     "duration": 0.02547,
     "end_time": "2025-08-19T18:47:11.459845",
     "exception": false,
     "start_time": "2025-08-19T18:47:11.434375",
     "status": "completed"
    },
    "tags": []
   },
   "outputs": [],
   "source": [
    "n_drop = (~keep_mask).sum() # Calculates how many rows are set to be dropped\n",
    "if n_drop > 0:\n",
    "    pct = n_drop / len(keep_mask) * 100\n",
    "    print(f\"Dropping {n_drop} rows ({pct:.2f}%) where mode='{mode}'\")"
   ]
  },
  {
   "cell_type": "code",
   "execution_count": 30,
   "id": "f44389b3",
   "metadata": {
    "execution": {
     "iopub.execute_input": "2025-08-19T18:47:11.505333Z",
     "iopub.status.busy": "2025-08-19T18:47:11.504857Z",
     "iopub.status.idle": "2025-08-19T18:47:11.513433Z",
     "shell.execute_reply": "2025-08-19T18:47:11.512614Z"
    },
    "papermill": {
     "duration": 0.036218,
     "end_time": "2025-08-19T18:47:11.515551",
     "exception": false,
     "start_time": "2025-08-19T18:47:11.479333",
     "status": "completed"
    },
    "tags": []
   },
   "outputs": [],
   "source": [
    "X_train = X_train[keep_mask]"
   ]
  },
  {
   "cell_type": "code",
   "execution_count": 31,
   "id": "ceca8c2a",
   "metadata": {
    "execution": {
     "iopub.execute_input": "2025-08-19T18:47:11.540202Z",
     "iopub.status.busy": "2025-08-19T18:47:11.539468Z",
     "iopub.status.idle": "2025-08-19T18:47:11.548090Z",
     "shell.execute_reply": "2025-08-19T18:47:11.545762Z"
    },
    "papermill": {
     "duration": 0.021749,
     "end_time": "2025-08-19T18:47:11.549430",
     "exception": false,
     "start_time": "2025-08-19T18:47:11.527681",
     "status": "completed"
    },
    "tags": []
   },
   "outputs": [],
   "source": [
    "y_train = y_train[keep_mask]"
   ]
  },
  {
   "cell_type": "markdown",
   "id": "04d31e2f",
   "metadata": {
    "papermill": {
     "duration": 0.011696,
     "end_time": "2025-08-19T18:47:11.574807",
     "exception": false,
     "start_time": "2025-08-19T18:47:11.563111",
     "status": "completed"
    },
    "tags": []
   },
   "source": [
    "# Model Training"
   ]
  },
  {
   "cell_type": "code",
   "execution_count": 32,
   "id": "db991733",
   "metadata": {
    "execution": {
     "iopub.execute_input": "2025-08-19T18:47:11.598300Z",
     "iopub.status.busy": "2025-08-19T18:47:11.597272Z",
     "iopub.status.idle": "2025-08-19T18:47:11.695765Z",
     "shell.execute_reply": "2025-08-19T18:47:11.694813Z"
    },
    "papermill": {
     "duration": 0.112101,
     "end_time": "2025-08-19T18:47:11.697367",
     "exception": false,
     "start_time": "2025-08-19T18:47:11.585266",
     "status": "completed"
    },
    "tags": []
   },
   "outputs": [],
   "source": [
    "from sklearn.linear_model import LogisticRegression\n",
    "from sklearn.ensemble import GradientBoostingClassifier, RandomForestClassifier\n",
    "\n",
    "if (universe[\"model\"] == \"logreg\"):\n",
    "    model = LogisticRegression() #penalty=\"none\", solver=\"newton-cg\", max_iter=1)\n",
    "elif (universe[\"model\"] == \"penalized_logreg\"):\n",
    "    model = LogisticRegression(penalty=\"l2\", C=0.1) #, solver=\"newton-cg\", max_iter=1)\n",
    "elif (universe[\"model\"] == \"rf\"):\n",
    "    model = RandomForestClassifier() # n_estimators=100, n_jobs=-1\n",
    "elif (universe[\"model\"] == \"gbm\"):\n",
    "    model = GradientBoostingClassifier()\n",
    "elif (universe[\"model\"] == \"elasticnet\"):\n",
    "    model = LogisticRegression(penalty = 'elasticnet', solver = 'saga', l1_ratio = 0.5) # max_iter=5000\n",
    "else:\n",
    "    raise \"Unsupported universe.model\""
   ]
  },
  {
   "cell_type": "code",
   "execution_count": 33,
   "id": "a4b5cd25",
   "metadata": {
    "execution": {
     "iopub.execute_input": "2025-08-19T18:47:11.720626Z",
     "iopub.status.busy": "2025-08-19T18:47:11.720294Z",
     "iopub.status.idle": "2025-08-19T18:47:11.725850Z",
     "shell.execute_reply": "2025-08-19T18:47:11.724998Z"
    },
    "papermill": {
     "duration": 0.019583,
     "end_time": "2025-08-19T18:47:11.728209",
     "exception": false,
     "start_time": "2025-08-19T18:47:11.708626",
     "status": "completed"
    },
    "tags": []
   },
   "outputs": [],
   "source": [
    "from sklearn.pipeline import Pipeline\n",
    "from sklearn.preprocessing import StandardScaler\n",
    "\n",
    "model = Pipeline([\n",
    "    #(\"continuous_processor\", continuous_processor),\n",
    "    #(\"categorical_preprocessor\", categorical_preprocessor),\n",
    "    (\"scale\", StandardScaler() if universe[\"scale\"] == \"scale\" else None), \n",
    "    (\"model\", model),\n",
    "])"
   ]
  },
  {
   "cell_type": "code",
   "execution_count": 34,
   "id": "283a904d",
   "metadata": {
    "execution": {
     "iopub.execute_input": "2025-08-19T18:47:11.763379Z",
     "iopub.status.busy": "2025-08-19T18:47:11.762979Z",
     "iopub.status.idle": "2025-08-19T18:47:16.060913Z",
     "shell.execute_reply": "2025-08-19T18:47:16.059893Z"
    },
    "papermill": {
     "duration": 4.312941,
     "end_time": "2025-08-19T18:47:16.062294",
     "exception": false,
     "start_time": "2025-08-19T18:47:11.749353",
     "status": "completed"
    },
    "tags": []
   },
   "outputs": [
    {
     "data": {
      "text/html": [
       "<style>#sk-container-id-1 {color: black;background-color: white;}#sk-container-id-1 pre{padding: 0;}#sk-container-id-1 div.sk-toggleable {background-color: white;}#sk-container-id-1 label.sk-toggleable__label {cursor: pointer;display: block;width: 100%;margin-bottom: 0;padding: 0.3em;box-sizing: border-box;text-align: center;}#sk-container-id-1 label.sk-toggleable__label-arrow:before {content: \"▸\";float: left;margin-right: 0.25em;color: #696969;}#sk-container-id-1 label.sk-toggleable__label-arrow:hover:before {color: black;}#sk-container-id-1 div.sk-estimator:hover label.sk-toggleable__label-arrow:before {color: black;}#sk-container-id-1 div.sk-toggleable__content {max-height: 0;max-width: 0;overflow: hidden;text-align: left;background-color: #f0f8ff;}#sk-container-id-1 div.sk-toggleable__content pre {margin: 0.2em;color: black;border-radius: 0.25em;background-color: #f0f8ff;}#sk-container-id-1 input.sk-toggleable__control:checked~div.sk-toggleable__content {max-height: 200px;max-width: 100%;overflow: auto;}#sk-container-id-1 input.sk-toggleable__control:checked~label.sk-toggleable__label-arrow:before {content: \"▾\";}#sk-container-id-1 div.sk-estimator input.sk-toggleable__control:checked~label.sk-toggleable__label {background-color: #d4ebff;}#sk-container-id-1 div.sk-label input.sk-toggleable__control:checked~label.sk-toggleable__label {background-color: #d4ebff;}#sk-container-id-1 input.sk-hidden--visually {border: 0;clip: rect(1px 1px 1px 1px);clip: rect(1px, 1px, 1px, 1px);height: 1px;margin: -1px;overflow: hidden;padding: 0;position: absolute;width: 1px;}#sk-container-id-1 div.sk-estimator {font-family: monospace;background-color: #f0f8ff;border: 1px dotted black;border-radius: 0.25em;box-sizing: border-box;margin-bottom: 0.5em;}#sk-container-id-1 div.sk-estimator:hover {background-color: #d4ebff;}#sk-container-id-1 div.sk-parallel-item::after {content: \"\";width: 100%;border-bottom: 1px solid gray;flex-grow: 1;}#sk-container-id-1 div.sk-label:hover label.sk-toggleable__label {background-color: #d4ebff;}#sk-container-id-1 div.sk-serial::before {content: \"\";position: absolute;border-left: 1px solid gray;box-sizing: border-box;top: 0;bottom: 0;left: 50%;z-index: 0;}#sk-container-id-1 div.sk-serial {display: flex;flex-direction: column;align-items: center;background-color: white;padding-right: 0.2em;padding-left: 0.2em;position: relative;}#sk-container-id-1 div.sk-item {position: relative;z-index: 1;}#sk-container-id-1 div.sk-parallel {display: flex;align-items: stretch;justify-content: center;background-color: white;position: relative;}#sk-container-id-1 div.sk-item::before, #sk-container-id-1 div.sk-parallel-item::before {content: \"\";position: absolute;border-left: 1px solid gray;box-sizing: border-box;top: 0;bottom: 0;left: 50%;z-index: -1;}#sk-container-id-1 div.sk-parallel-item {display: flex;flex-direction: column;z-index: 1;position: relative;background-color: white;}#sk-container-id-1 div.sk-parallel-item:first-child::after {align-self: flex-end;width: 50%;}#sk-container-id-1 div.sk-parallel-item:last-child::after {align-self: flex-start;width: 50%;}#sk-container-id-1 div.sk-parallel-item:only-child::after {width: 0;}#sk-container-id-1 div.sk-dashed-wrapped {border: 1px dashed gray;margin: 0 0.4em 0.5em 0.4em;box-sizing: border-box;padding-bottom: 0.4em;background-color: white;}#sk-container-id-1 div.sk-label label {font-family: monospace;font-weight: bold;display: inline-block;line-height: 1.2em;}#sk-container-id-1 div.sk-label-container {text-align: center;}#sk-container-id-1 div.sk-container {/* jupyter's `normalize.less` sets `[hidden] { display: none; }` but bootstrap.min.css set `[hidden] { display: none !important; }` so we also need the `!important` here to be able to override the default hidden behavior on the sphinx rendered scikit-learn.org. See: https://github.com/scikit-learn/scikit-learn/issues/21755 */display: inline-block !important;position: relative;}#sk-container-id-1 div.sk-text-repr-fallback {display: none;}</style><div id=\"sk-container-id-1\" class=\"sk-top-container\"><div class=\"sk-text-repr-fallback\"><pre>Pipeline(steps=[(&#x27;scale&#x27;, None), (&#x27;model&#x27;, GradientBoostingClassifier())])</pre><b>In a Jupyter environment, please rerun this cell to show the HTML representation or trust the notebook. <br />On GitHub, the HTML representation is unable to render, please try loading this page with nbviewer.org.</b></div><div class=\"sk-container\" hidden><div class=\"sk-item sk-dashed-wrapped\"><div class=\"sk-label-container\"><div class=\"sk-label sk-toggleable\"><input class=\"sk-toggleable__control sk-hidden--visually\" id=\"sk-estimator-id-1\" type=\"checkbox\" ><label for=\"sk-estimator-id-1\" class=\"sk-toggleable__label sk-toggleable__label-arrow\">Pipeline</label><div class=\"sk-toggleable__content\"><pre>Pipeline(steps=[(&#x27;scale&#x27;, None), (&#x27;model&#x27;, GradientBoostingClassifier())])</pre></div></div></div><div class=\"sk-serial\"><div class=\"sk-item\"><div class=\"sk-estimator sk-toggleable\"><input class=\"sk-toggleable__control sk-hidden--visually\" id=\"sk-estimator-id-2\" type=\"checkbox\" ><label for=\"sk-estimator-id-2\" class=\"sk-toggleable__label sk-toggleable__label-arrow\">None</label><div class=\"sk-toggleable__content\"><pre>None</pre></div></div></div><div class=\"sk-item\"><div class=\"sk-estimator sk-toggleable\"><input class=\"sk-toggleable__control sk-hidden--visually\" id=\"sk-estimator-id-3\" type=\"checkbox\" ><label for=\"sk-estimator-id-3\" class=\"sk-toggleable__label sk-toggleable__label-arrow\">GradientBoostingClassifier</label><div class=\"sk-toggleable__content\"><pre>GradientBoostingClassifier()</pre></div></div></div></div></div></div></div>"
      ],
      "text/plain": [
       "Pipeline(steps=[('scale', None), ('model', GradientBoostingClassifier())])"
      ]
     },
     "execution_count": 34,
     "metadata": {},
     "output_type": "execute_result"
    }
   ],
   "source": [
    "model.fit(X_train, y_train.values.ravel())"
   ]
  },
  {
   "cell_type": "code",
   "execution_count": 35,
   "id": "6e15e313",
   "metadata": {
    "execution": {
     "iopub.execute_input": "2025-08-19T18:47:16.108456Z",
     "iopub.status.busy": "2025-08-19T18:47:16.107129Z",
     "iopub.status.idle": "2025-08-19T18:47:16.665481Z",
     "shell.execute_reply": "2025-08-19T18:47:16.664610Z"
    },
    "papermill": {
     "duration": 0.583186,
     "end_time": "2025-08-19T18:47:16.666847",
     "exception": false,
     "start_time": "2025-08-19T18:47:16.083661",
     "status": "completed"
    },
    "tags": []
   },
   "outputs": [
    {
     "data": {
      "text/plain": [
       "0.8603165756325939"
      ]
     },
     "execution_count": 35,
     "metadata": {},
     "output_type": "execute_result"
    }
   ],
   "source": [
    "from fairness_multiverse.universe import predict_w_threshold\n",
    "\n",
    "probs_test = model.predict_proba(X_test)\n",
    "\n",
    "'''\n",
    "Below code returns a boolean array (or binary 0/1 array depending on how it’s used) where each element \n",
    "is True if the probability of class 1 is greater than or equal to the threshold, and False otherwise.\n",
    "'''\n",
    "y_pred_default = predict_w_threshold(probs_test, 0.5)\n",
    "\n",
    "from sklearn.metrics import accuracy_score\n",
    "\n",
    "# Naive prediction\n",
    "accuracy_score(y_true = y_true, y_pred = y_pred_default)"
   ]
  },
  {
   "cell_type": "code",
   "execution_count": 36,
   "id": "6f14067c",
   "metadata": {
    "execution": {
     "iopub.execute_input": "2025-08-19T18:47:16.709793Z",
     "iopub.status.busy": "2025-08-19T18:47:16.708532Z",
     "iopub.status.idle": "2025-08-19T18:47:17.216790Z",
     "shell.execute_reply": "2025-08-19T18:47:17.215894Z"
    },
    "papermill": {
     "duration": 0.536707,
     "end_time": "2025-08-19T18:47:17.218236",
     "exception": false,
     "start_time": "2025-08-19T18:47:16.681529",
     "status": "completed"
    },
    "tags": []
   },
   "outputs": [
    {
     "data": {
      "text/plain": [
       "array([0, 0, 0, ..., 0, 0, 0])"
      ]
     },
     "execution_count": 36,
     "metadata": {},
     "output_type": "execute_result"
    }
   ],
   "source": [
    "model.predict(X_test)"
   ]
  },
  {
   "cell_type": "markdown",
   "id": "3759920c",
   "metadata": {
    "papermill": {
     "duration": 0.011967,
     "end_time": "2025-08-19T18:47:17.242848",
     "exception": false,
     "start_time": "2025-08-19T18:47:17.230881",
     "status": "completed"
    },
    "tags": []
   },
   "source": [
    "# Conformal Prediction"
   ]
  },
  {
   "cell_type": "code",
   "execution_count": 37,
   "id": "14b27f59",
   "metadata": {
    "execution": {
     "iopub.execute_input": "2025-08-19T18:47:17.271118Z",
     "iopub.status.busy": "2025-08-19T18:47:17.269726Z",
     "iopub.status.idle": "2025-08-19T18:47:17.279090Z",
     "shell.execute_reply": "2025-08-19T18:47:17.277150Z"
    },
    "papermill": {
     "duration": 0.024972,
     "end_time": "2025-08-19T18:47:17.281016",
     "exception": false,
     "start_time": "2025-08-19T18:47:17.256044",
     "status": "completed"
    },
    "tags": []
   },
   "outputs": [],
   "source": [
    "# Miscoverage level for conformal prediction (10% allowed error rate => 90% target coverage)\n",
    "alpha = 0.1"
   ]
  },
  {
   "cell_type": "code",
   "execution_count": 38,
   "id": "59102472",
   "metadata": {
    "execution": {
     "iopub.execute_input": "2025-08-19T18:47:17.311517Z",
     "iopub.status.busy": "2025-08-19T18:47:17.310368Z",
     "iopub.status.idle": "2025-08-19T18:47:17.808494Z",
     "shell.execute_reply": "2025-08-19T18:47:17.807389Z"
    },
    "papermill": {
     "duration": 0.515038,
     "end_time": "2025-08-19T18:47:17.811663",
     "exception": false,
     "start_time": "2025-08-19T18:47:17.296625",
     "status": "completed"
    },
    "tags": []
   },
   "outputs": [],
   "source": [
    "probs_calib = model.predict_proba(X_calib)"
   ]
  },
  {
   "cell_type": "code",
   "execution_count": 39,
   "id": "a792d4dd",
   "metadata": {
    "execution": {
     "iopub.execute_input": "2025-08-19T18:47:17.866819Z",
     "iopub.status.busy": "2025-08-19T18:47:17.865153Z",
     "iopub.status.idle": "2025-08-19T18:47:17.877509Z",
     "shell.execute_reply": "2025-08-19T18:47:17.876521Z"
    },
    "papermill": {
     "duration": 0.036062,
     "end_time": "2025-08-19T18:47:17.879254",
     "exception": false,
     "start_time": "2025-08-19T18:47:17.843192",
     "status": "completed"
    },
    "tags": []
   },
   "outputs": [],
   "source": [
    "y_calib = y_calib.values.ravel().astype(int)"
   ]
  },
  {
   "cell_type": "code",
   "execution_count": 40,
   "id": "650fd033",
   "metadata": {
    "execution": {
     "iopub.execute_input": "2025-08-19T18:47:17.910136Z",
     "iopub.status.busy": "2025-08-19T18:47:17.908643Z",
     "iopub.status.idle": "2025-08-19T18:47:17.922427Z",
     "shell.execute_reply": "2025-08-19T18:47:17.921188Z"
    },
    "papermill": {
     "duration": 0.028605,
     "end_time": "2025-08-19T18:47:17.924231",
     "exception": false,
     "start_time": "2025-08-19T18:47:17.895626",
     "status": "completed"
    },
    "tags": []
   },
   "outputs": [],
   "source": [
    "from fairness_multiverse.conformal import compute_nc_scores\n",
    "\n",
    "# Compute nonconformity scores on calibration set (1 - probability of true class)\n",
    "nc_scores = compute_nc_scores(probs_calib, y_calib)"
   ]
  },
  {
   "cell_type": "code",
   "execution_count": 41,
   "id": "28ada44c",
   "metadata": {
    "execution": {
     "iopub.execute_input": "2025-08-19T18:47:17.958208Z",
     "iopub.status.busy": "2025-08-19T18:47:17.956821Z",
     "iopub.status.idle": "2025-08-19T18:47:17.969364Z",
     "shell.execute_reply": "2025-08-19T18:47:17.968224Z"
    },
    "papermill": {
     "duration": 0.027908,
     "end_time": "2025-08-19T18:47:17.971036",
     "exception": false,
     "start_time": "2025-08-19T18:47:17.943128",
     "status": "completed"
    },
    "tags": []
   },
   "outputs": [],
   "source": [
    "from fairness_multiverse.conformal import find_threshold\n",
    "\n",
    "# Find conformal threshold q_hat for the given alpha (split conformal method)\n",
    "q_hat = find_threshold(nc_scores, alpha)"
   ]
  },
  {
   "cell_type": "code",
   "execution_count": 42,
   "id": "df56469e",
   "metadata": {
    "execution": {
     "iopub.execute_input": "2025-08-19T18:47:18.006124Z",
     "iopub.status.busy": "2025-08-19T18:47:18.004733Z",
     "iopub.status.idle": "2025-08-19T18:47:18.017414Z",
     "shell.execute_reply": "2025-08-19T18:47:18.015824Z"
    },
    "papermill": {
     "duration": 0.032647,
     "end_time": "2025-08-19T18:47:18.020388",
     "exception": false,
     "start_time": "2025-08-19T18:47:17.987741",
     "status": "completed"
    },
    "tags": []
   },
   "outputs": [
    {
     "data": {
      "text/plain": [
       "0.6822787344479512"
      ]
     },
     "execution_count": 42,
     "metadata": {},
     "output_type": "execute_result"
    }
   ],
   "source": [
    "q_hat"
   ]
  },
  {
   "cell_type": "code",
   "execution_count": 43,
   "id": "aa1f5faa",
   "metadata": {
    "execution": {
     "iopub.execute_input": "2025-08-19T18:47:18.066177Z",
     "iopub.status.busy": "2025-08-19T18:47:18.064707Z",
     "iopub.status.idle": "2025-08-19T18:47:19.215849Z",
     "shell.execute_reply": "2025-08-19T18:47:19.214724Z"
    },
    "papermill": {
     "duration": 1.173474,
     "end_time": "2025-08-19T18:47:19.217674",
     "exception": false,
     "start_time": "2025-08-19T18:47:18.044200",
     "status": "completed"
    },
    "tags": []
   },
   "outputs": [],
   "source": [
    "from fairness_multiverse.conformal import predict_conformal_sets\n",
    "\n",
    "# Generate prediction sets for each test example\n",
    "pred_sets = predict_conformal_sets(model, X_test, q_hat)"
   ]
  },
  {
   "cell_type": "code",
   "execution_count": 44,
   "id": "97f67a6b",
   "metadata": {
    "execution": {
     "iopub.execute_input": "2025-08-19T18:47:19.248639Z",
     "iopub.status.busy": "2025-08-19T18:47:19.247379Z",
     "iopub.status.idle": "2025-08-19T18:47:19.256591Z",
     "shell.execute_reply": "2025-08-19T18:47:19.255069Z"
    },
    "papermill": {
     "duration": 0.028546,
     "end_time": "2025-08-19T18:47:19.258327",
     "exception": false,
     "start_time": "2025-08-19T18:47:19.229781",
     "status": "completed"
    },
    "tags": []
   },
   "outputs": [],
   "source": [
    "y_true = y_true.squeeze()"
   ]
  },
  {
   "cell_type": "code",
   "execution_count": 45,
   "id": "e700e9a7",
   "metadata": {
    "execution": {
     "iopub.execute_input": "2025-08-19T18:47:19.291742Z",
     "iopub.status.busy": "2025-08-19T18:47:19.290253Z",
     "iopub.status.idle": "2025-08-19T18:47:19.812241Z",
     "shell.execute_reply": "2025-08-19T18:47:19.810204Z"
    },
    "papermill": {
     "duration": 0.537778,
     "end_time": "2025-08-19T18:47:19.813966",
     "exception": false,
     "start_time": "2025-08-19T18:47:19.276188",
     "status": "completed"
    },
    "tags": []
   },
   "outputs": [],
   "source": [
    "from fairness_multiverse.conformal import evaluate_sets\n",
    "\n",
    "# Evaluate coverage and average set size on test data\n",
    "metrics = evaluate_sets(pred_sets, y_true)"
   ]
  },
  {
   "cell_type": "markdown",
   "id": "efbacec0",
   "metadata": {
    "papermill": {
     "duration": 0.011364,
     "end_time": "2025-08-19T18:47:19.837374",
     "exception": false,
     "start_time": "2025-08-19T18:47:19.826010",
     "status": "completed"
    },
    "tags": []
   },
   "source": [
    "# CP Metrics"
   ]
  },
  {
   "cell_type": "code",
   "execution_count": 46,
   "id": "9de55fb1",
   "metadata": {
    "execution": {
     "iopub.execute_input": "2025-08-19T18:47:19.865225Z",
     "iopub.status.busy": "2025-08-19T18:47:19.863898Z",
     "iopub.status.idle": "2025-08-19T18:47:19.878920Z",
     "shell.execute_reply": "2025-08-19T18:47:19.877890Z"
    },
    "papermill": {
     "duration": 0.03088,
     "end_time": "2025-08-19T18:47:19.880430",
     "exception": false,
     "start_time": "2025-08-19T18:47:19.849550",
     "status": "completed"
    },
    "tags": []
   },
   "outputs": [
    {
     "data": {
      "text/plain": [
       "{'coverage': 0.9109463827889868, 'avg_size': 1.1322595028424924}"
      ]
     },
     "execution_count": 46,
     "metadata": {},
     "output_type": "execute_result"
    }
   ],
   "source": [
    "metrics"
   ]
  },
  {
   "cell_type": "code",
   "execution_count": 47,
   "id": "64c340a1",
   "metadata": {
    "execution": {
     "iopub.execute_input": "2025-08-19T18:47:19.924365Z",
     "iopub.status.busy": "2025-08-19T18:47:19.923963Z",
     "iopub.status.idle": "2025-08-19T18:47:19.929645Z",
     "shell.execute_reply": "2025-08-19T18:47:19.928626Z"
    },
    "papermill": {
     "duration": 0.024432,
     "end_time": "2025-08-19T18:47:19.931126",
     "exception": false,
     "start_time": "2025-08-19T18:47:19.906694",
     "status": "completed"
    },
    "tags": []
   },
   "outputs": [],
   "source": [
    "example_universe = universe.copy()\n",
    "universe_training_year = example_universe.get(\"training_year\")\n",
    "universe_training_size = example_universe.get(\"training_size\")\n",
    "universe_scale = example_universe.get(\"scale\")\n",
    "universe_model = example_universe.get(\"model\")\n",
    "universe_exclude_features = example_universe.get(\"exclude_features\")\n",
    "universe_exclude_subgroups = example_universe.get(\"exclude_subgroups\")"
   ]
  },
  {
   "cell_type": "code",
   "execution_count": 48,
   "id": "dbb53cb4",
   "metadata": {
    "execution": {
     "iopub.execute_input": "2025-08-19T18:47:19.956680Z",
     "iopub.status.busy": "2025-08-19T18:47:19.956257Z",
     "iopub.status.idle": "2025-08-19T18:47:19.962295Z",
     "shell.execute_reply": "2025-08-19T18:47:19.961268Z"
    },
    "papermill": {
     "duration": 0.020021,
     "end_time": "2025-08-19T18:47:19.963716",
     "exception": false,
     "start_time": "2025-08-19T18:47:19.943695",
     "status": "completed"
    },
    "tags": []
   },
   "outputs": [],
   "source": [
    "cp_metrics_dict = {\n",
    "    \"universe_id\": [universe_id],\n",
    "    \"universe_training_year\": [universe_training_year],\n",
    "    \"universe_training_size\": [universe_training_size],\n",
    "    \"universe_scale\": [universe_scale],\n",
    "    \"universe_model\": [universe_model],\n",
    "    \"universe_exclude_features\": [universe_exclude_features],\n",
    "    \"universe_exclude_subgroups\": [universe_exclude_subgroups],\n",
    "    \"q_hat\": [q_hat],\n",
    "    \"coverage\": [metrics[\"coverage\"]],\n",
    "    \"avg_size\": [metrics[\"avg_size\"]],\n",
    "}"
   ]
  },
  {
   "cell_type": "code",
   "execution_count": 49,
   "id": "0d70d4b2",
   "metadata": {
    "execution": {
     "iopub.execute_input": "2025-08-19T18:47:19.990444Z",
     "iopub.status.busy": "2025-08-19T18:47:19.989944Z",
     "iopub.status.idle": "2025-08-19T18:47:19.996716Z",
     "shell.execute_reply": "2025-08-19T18:47:19.995492Z"
    },
    "papermill": {
     "duration": 0.024672,
     "end_time": "2025-08-19T18:47:20.001312",
     "exception": false,
     "start_time": "2025-08-19T18:47:19.976640",
     "status": "completed"
    },
    "tags": []
   },
   "outputs": [],
   "source": [
    "cp_metrics_df = pd.DataFrame(cp_metrics_dict)"
   ]
  },
  {
   "cell_type": "code",
   "execution_count": 50,
   "id": "b494403c",
   "metadata": {
    "execution": {
     "iopub.execute_input": "2025-08-19T18:47:20.047594Z",
     "iopub.status.busy": "2025-08-19T18:47:20.045937Z",
     "iopub.status.idle": "2025-08-19T18:47:20.081051Z",
     "shell.execute_reply": "2025-08-19T18:47:20.079721Z"
    },
    "papermill": {
     "duration": 0.056686,
     "end_time": "2025-08-19T18:47:20.086350",
     "exception": false,
     "start_time": "2025-08-19T18:47:20.029664",
     "status": "completed"
    },
    "tags": []
   },
   "outputs": [
    {
     "data": {
      "text/html": [
       "<div>\n",
       "<style scoped>\n",
       "    .dataframe tbody tr th:only-of-type {\n",
       "        vertical-align: middle;\n",
       "    }\n",
       "\n",
       "    .dataframe tbody tr th {\n",
       "        vertical-align: top;\n",
       "    }\n",
       "\n",
       "    .dataframe thead th {\n",
       "        text-align: right;\n",
       "    }\n",
       "</style>\n",
       "<table border=\"1\" class=\"dataframe\">\n",
       "  <thead>\n",
       "    <tr style=\"text-align: right;\">\n",
       "      <th></th>\n",
       "      <th>universe_id</th>\n",
       "      <th>universe_training_year</th>\n",
       "      <th>universe_training_size</th>\n",
       "      <th>universe_scale</th>\n",
       "      <th>universe_model</th>\n",
       "      <th>universe_exclude_features</th>\n",
       "      <th>universe_exclude_subgroups</th>\n",
       "      <th>q_hat</th>\n",
       "      <th>coverage</th>\n",
       "      <th>avg_size</th>\n",
       "    </tr>\n",
       "  </thead>\n",
       "  <tbody>\n",
       "    <tr>\n",
       "      <th>0</th>\n",
       "      <td>e02fbe2e1eedfce9962e5e1aca047ce9</td>\n",
       "      <td>2010_14</td>\n",
       "      <td>5k</td>\n",
       "      <td>do-not-scale</td>\n",
       "      <td>gbm</td>\n",
       "      <td>nationality</td>\n",
       "      <td>keep-all</td>\n",
       "      <td>0.682279</td>\n",
       "      <td>0.910946</td>\n",
       "      <td>1.13226</td>\n",
       "    </tr>\n",
       "  </tbody>\n",
       "</table>\n",
       "</div>"
      ],
      "text/plain": [
       "                        universe_id universe_training_year  \\\n",
       "0  e02fbe2e1eedfce9962e5e1aca047ce9                2010_14   \n",
       "\n",
       "  universe_training_size universe_scale universe_model  \\\n",
       "0                     5k   do-not-scale            gbm   \n",
       "\n",
       "  universe_exclude_features universe_exclude_subgroups     q_hat  coverage  \\\n",
       "0               nationality                   keep-all  0.682279  0.910946   \n",
       "\n",
       "   avg_size  \n",
       "0   1.13226  "
      ]
     },
     "execution_count": 50,
     "metadata": {},
     "output_type": "execute_result"
    }
   ],
   "source": [
    "cp_metrics_df"
   ]
  },
  {
   "cell_type": "markdown",
   "id": "ed608b0b",
   "metadata": {
    "papermill": {
     "duration": 0.012957,
     "end_time": "2025-08-19T18:47:20.119183",
     "exception": false,
     "start_time": "2025-08-19T18:47:20.106226",
     "status": "completed"
    },
    "tags": []
   },
   "source": [
    "Conditional coverage & looking at subgroups"
   ]
  },
  {
   "cell_type": "code",
   "execution_count": 51,
   "id": "8968c366",
   "metadata": {
    "execution": {
     "iopub.execute_input": "2025-08-19T18:47:20.155555Z",
     "iopub.status.busy": "2025-08-19T18:47:20.151206Z",
     "iopub.status.idle": "2025-08-19T18:47:20.446473Z",
     "shell.execute_reply": "2025-08-19T18:47:20.445335Z"
    },
    "papermill": {
     "duration": 0.317799,
     "end_time": "2025-08-19T18:47:20.449496",
     "exception": false,
     "start_time": "2025-08-19T18:47:20.131697",
     "status": "completed"
    },
    "tags": []
   },
   "outputs": [],
   "source": [
    "from fairness_multiverse.conformal import build_cp_groups\n",
    "\n",
    "cp_groups_df = build_cp_groups(pred_sets, y_true, X_test.index, org_test)"
   ]
  },
  {
   "cell_type": "code",
   "execution_count": 52,
   "id": "292ddabf",
   "metadata": {
    "execution": {
     "iopub.execute_input": "2025-08-19T18:47:20.491752Z",
     "iopub.status.busy": "2025-08-19T18:47:20.491063Z",
     "iopub.status.idle": "2025-08-19T18:47:21.421776Z",
     "shell.execute_reply": "2025-08-19T18:47:21.420597Z"
    },
    "papermill": {
     "duration": 0.94821,
     "end_time": "2025-08-19T18:47:21.423208",
     "exception": false,
     "start_time": "2025-08-19T18:47:20.474998",
     "status": "completed"
    },
    "tags": []
   },
   "outputs": [],
   "source": [
    "# Define covered = 1 if true_label is in the predicted set\n",
    "cp_groups_df['covered'] = cp_groups_df.apply(\n",
    "    lambda r: int(r['true_label'] in r['pred_set']),\n",
    "    axis=1\n",
    ")"
   ]
  },
  {
   "cell_type": "code",
   "execution_count": 53,
   "id": "3a261692",
   "metadata": {
    "execution": {
     "iopub.execute_input": "2025-08-19T18:47:21.451071Z",
     "iopub.status.busy": "2025-08-19T18:47:21.450544Z",
     "iopub.status.idle": "2025-08-19T18:47:21.465359Z",
     "shell.execute_reply": "2025-08-19T18:47:21.464613Z"
    },
    "papermill": {
     "duration": 0.030201,
     "end_time": "2025-08-19T18:47:21.466736",
     "exception": false,
     "start_time": "2025-08-19T18:47:21.436535",
     "status": "completed"
    },
    "tags": []
   },
   "outputs": [],
   "source": [
    "subgroups = ['frau1','nongerman','nongerman_male','nongerman_female']\n",
    "\n",
    "# Conditional coverage for subgroup==1\n",
    "cond_coverage = {\n",
    "    g: cp_groups_df.loc[cp_groups_df[g]==1, 'covered'].mean()\n",
    "    for g in subgroups\n",
    "}"
   ]
  },
  {
   "cell_type": "code",
   "execution_count": 54,
   "id": "894fd600",
   "metadata": {
    "execution": {
     "iopub.execute_input": "2025-08-19T18:47:21.494765Z",
     "iopub.status.busy": "2025-08-19T18:47:21.494345Z",
     "iopub.status.idle": "2025-08-19T18:47:21.500589Z",
     "shell.execute_reply": "2025-08-19T18:47:21.499899Z"
    },
    "papermill": {
     "duration": 0.022069,
     "end_time": "2025-08-19T18:47:21.502271",
     "exception": false,
     "start_time": "2025-08-19T18:47:21.480202",
     "status": "completed"
    },
    "tags": []
   },
   "outputs": [
    {
     "data": {
      "text/plain": [
       "{'frau1': 0.9109313923709395,\n",
       " 'nongerman': 0.9108516252175377,\n",
       " 'nongerman_male': 0.9256957579032694,\n",
       " 'nongerman_female': 0.8862891207153503}"
      ]
     },
     "execution_count": 54,
     "metadata": {},
     "output_type": "execute_result"
    }
   ],
   "source": [
    "cond_coverage"
   ]
  },
  {
   "cell_type": "code",
   "execution_count": 55,
   "id": "942895c7",
   "metadata": {
    "execution": {
     "iopub.execute_input": "2025-08-19T18:47:21.540894Z",
     "iopub.status.busy": "2025-08-19T18:47:21.539786Z",
     "iopub.status.idle": "2025-08-19T18:47:21.555742Z",
     "shell.execute_reply": "2025-08-19T18:47:21.553962Z"
    },
    "papermill": {
     "duration": 0.032272,
     "end_time": "2025-08-19T18:47:21.557396",
     "exception": false,
     "start_time": "2025-08-19T18:47:21.525124",
     "status": "completed"
    },
    "tags": []
   },
   "outputs": [],
   "source": [
    "for subgroup, cov in cond_coverage.items():\n",
    "    cp_metrics_df[f\"cov_{subgroup}\"] = cov"
   ]
  },
  {
   "cell_type": "code",
   "execution_count": 56,
   "id": "3970120f",
   "metadata": {
    "execution": {
     "iopub.execute_input": "2025-08-19T18:47:21.588528Z",
     "iopub.status.busy": "2025-08-19T18:47:21.587682Z",
     "iopub.status.idle": "2025-08-19T18:47:21.613913Z",
     "shell.execute_reply": "2025-08-19T18:47:21.612854Z"
    },
    "papermill": {
     "duration": 0.041887,
     "end_time": "2025-08-19T18:47:21.615544",
     "exception": false,
     "start_time": "2025-08-19T18:47:21.573657",
     "status": "completed"
    },
    "tags": []
   },
   "outputs": [
    {
     "data": {
      "text/html": [
       "<div>\n",
       "<style scoped>\n",
       "    .dataframe tbody tr th:only-of-type {\n",
       "        vertical-align: middle;\n",
       "    }\n",
       "\n",
       "    .dataframe tbody tr th {\n",
       "        vertical-align: top;\n",
       "    }\n",
       "\n",
       "    .dataframe thead th {\n",
       "        text-align: right;\n",
       "    }\n",
       "</style>\n",
       "<table border=\"1\" class=\"dataframe\">\n",
       "  <thead>\n",
       "    <tr style=\"text-align: right;\">\n",
       "      <th></th>\n",
       "      <th>universe_id</th>\n",
       "      <th>universe_training_year</th>\n",
       "      <th>universe_training_size</th>\n",
       "      <th>universe_scale</th>\n",
       "      <th>universe_model</th>\n",
       "      <th>universe_exclude_features</th>\n",
       "      <th>universe_exclude_subgroups</th>\n",
       "      <th>q_hat</th>\n",
       "      <th>coverage</th>\n",
       "      <th>avg_size</th>\n",
       "      <th>cov_frau1</th>\n",
       "      <th>cov_nongerman</th>\n",
       "      <th>cov_nongerman_male</th>\n",
       "      <th>cov_nongerman_female</th>\n",
       "    </tr>\n",
       "  </thead>\n",
       "  <tbody>\n",
       "    <tr>\n",
       "      <th>0</th>\n",
       "      <td>e02fbe2e1eedfce9962e5e1aca047ce9</td>\n",
       "      <td>2010_14</td>\n",
       "      <td>5k</td>\n",
       "      <td>do-not-scale</td>\n",
       "      <td>gbm</td>\n",
       "      <td>nationality</td>\n",
       "      <td>keep-all</td>\n",
       "      <td>0.682279</td>\n",
       "      <td>0.910946</td>\n",
       "      <td>1.13226</td>\n",
       "      <td>0.910931</td>\n",
       "      <td>0.910852</td>\n",
       "      <td>0.925696</td>\n",
       "      <td>0.886289</td>\n",
       "    </tr>\n",
       "  </tbody>\n",
       "</table>\n",
       "</div>"
      ],
      "text/plain": [
       "                        universe_id universe_training_year  \\\n",
       "0  e02fbe2e1eedfce9962e5e1aca047ce9                2010_14   \n",
       "\n",
       "  universe_training_size universe_scale universe_model  \\\n",
       "0                     5k   do-not-scale            gbm   \n",
       "\n",
       "  universe_exclude_features universe_exclude_subgroups     q_hat  coverage  \\\n",
       "0               nationality                   keep-all  0.682279  0.910946   \n",
       "\n",
       "   avg_size  cov_frau1  cov_nongerman  cov_nongerman_male  \\\n",
       "0   1.13226   0.910931       0.910852            0.925696   \n",
       "\n",
       "   cov_nongerman_female  \n",
       "0              0.886289  "
      ]
     },
     "execution_count": 56,
     "metadata": {},
     "output_type": "execute_result"
    }
   ],
   "source": [
    "cp_metrics_df"
   ]
  },
  {
   "cell_type": "markdown",
   "id": "3fc519cc",
   "metadata": {
    "papermill": {
     "duration": 0.052313,
     "end_time": "2025-08-19T18:47:21.685424",
     "exception": false,
     "start_time": "2025-08-19T18:47:21.633111",
     "status": "completed"
    },
    "tags": []
   },
   "source": [
    "# (Fairness) Metrics"
   ]
  },
  {
   "cell_type": "code",
   "execution_count": 57,
   "id": "a2e5e155",
   "metadata": {
    "execution": {
     "iopub.execute_input": "2025-08-19T18:47:21.725645Z",
     "iopub.status.busy": "2025-08-19T18:47:21.725207Z",
     "iopub.status.idle": "2025-08-19T18:47:21.740352Z",
     "shell.execute_reply": "2025-08-19T18:47:21.739606Z"
    },
    "papermill": {
     "duration": 0.032323,
     "end_time": "2025-08-19T18:47:21.741857",
     "exception": false,
     "start_time": "2025-08-19T18:47:21.709534",
     "status": "completed"
    },
    "tags": []
   },
   "outputs": [],
   "source": [
    "colname_to_bin = \"maxdeutsch1\"\n",
    "majority_value = org_train[colname_to_bin].mode()[0]\n",
    "\n",
    "org_test[\"majmin\"] = np.where(org_test[colname_to_bin] == majority_value, \"majority\", \"minority\")"
   ]
  },
  {
   "cell_type": "code",
   "execution_count": 58,
   "id": "17e3e4d5",
   "metadata": {
    "execution": {
     "iopub.execute_input": "2025-08-19T18:47:21.774071Z",
     "iopub.status.busy": "2025-08-19T18:47:21.772665Z",
     "iopub.status.idle": "2025-08-19T18:47:23.586634Z",
     "shell.execute_reply": "2025-08-19T18:47:23.585533Z"
    },
    "papermill": {
     "duration": 1.82952,
     "end_time": "2025-08-19T18:47:23.588841",
     "exception": false,
     "start_time": "2025-08-19T18:47:21.759321",
     "status": "completed"
    },
    "tags": []
   },
   "outputs": [],
   "source": [
    "example_universe = universe.copy()\n",
    "example_universe[\"cutoff\"] = example_universe[\"cutoff\"][0]\n",
    "example_universe[\"eval_fairness_grouping\"] = example_universe[\"eval_fairness_grouping\"][0]\n",
    "fairness_dict, metric_frame = universe_analysis.compute_metrics(\n",
    "    example_universe,\n",
    "    y_pred_prob=probs_test,\n",
    "    y_test=y_true,\n",
    "    org_test=org_test,\n",
    ")"
   ]
  },
  {
   "cell_type": "markdown",
   "id": "1fb7a0e9",
   "metadata": {
    "papermill": {
     "duration": 0.012368,
     "end_time": "2025-08-19T18:47:23.616659",
     "exception": false,
     "start_time": "2025-08-19T18:47:23.604291",
     "status": "completed"
    },
    "tags": []
   },
   "source": [
    "# Overall"
   ]
  },
  {
   "cell_type": "markdown",
   "id": "be1784b1",
   "metadata": {
    "papermill": {
     "duration": 0.012084,
     "end_time": "2025-08-19T18:47:23.640855",
     "exception": false,
     "start_time": "2025-08-19T18:47:23.628771",
     "status": "completed"
    },
    "tags": []
   },
   "source": [
    "Main fairness target: Equalized Odds. Seems to be a better fit than equal opportunity, since we're not only interested in Y = 1. Seems to be a better fit than demographic parity, since we also care about accuracy, not just equal distribution of preds.\n",
    "\n",
    "Pick column for computation of fairness metrics\n",
    "\n",
    "Performance\n",
    "Overall performance measures, most interesting in relation to the measures split by group below"
   ]
  },
  {
   "cell_type": "code",
   "execution_count": 59,
   "id": "b7672bee",
   "metadata": {
    "execution": {
     "iopub.execute_input": "2025-08-19T18:47:23.666722Z",
     "iopub.status.busy": "2025-08-19T18:47:23.666392Z",
     "iopub.status.idle": "2025-08-19T18:47:23.676172Z",
     "shell.execute_reply": "2025-08-19T18:47:23.675463Z"
    },
    "papermill": {
     "duration": 0.025775,
     "end_time": "2025-08-19T18:47:23.678733",
     "exception": false,
     "start_time": "2025-08-19T18:47:23.652958",
     "status": "completed"
    },
    "tags": []
   },
   "outputs": [
    {
     "data": {
      "text/plain": [
       "accuracy                   0.224780\n",
       "balanced accuracy          0.549533\n",
       "f1                         0.246100\n",
       "precision                  0.140589\n",
       "false positive rate        0.887292\n",
       "false negative rate        0.013643\n",
       "selection rate             0.900000\n",
       "count                  89710.000000\n",
       "dtype: float64"
      ]
     },
     "execution_count": 59,
     "metadata": {},
     "output_type": "execute_result"
    }
   ],
   "source": [
    "metric_frame.overall"
   ]
  },
  {
   "cell_type": "markdown",
   "id": "d93333c9",
   "metadata": {
    "papermill": {
     "duration": 0.013282,
     "end_time": "2025-08-19T18:47:23.716786",
     "exception": false,
     "start_time": "2025-08-19T18:47:23.703504",
     "status": "completed"
    },
    "tags": []
   },
   "source": [
    "By Group"
   ]
  },
  {
   "cell_type": "code",
   "execution_count": 60,
   "id": "52256966",
   "metadata": {
    "execution": {
     "iopub.execute_input": "2025-08-19T18:47:23.745597Z",
     "iopub.status.busy": "2025-08-19T18:47:23.744902Z",
     "iopub.status.idle": "2025-08-19T18:47:23.768197Z",
     "shell.execute_reply": "2025-08-19T18:47:23.767449Z"
    },
    "papermill": {
     "duration": 0.040847,
     "end_time": "2025-08-19T18:47:23.769946",
     "exception": false,
     "start_time": "2025-08-19T18:47:23.729099",
     "status": "completed"
    },
    "tags": []
   },
   "outputs": [
    {
     "data": {
      "text/html": [
       "<div>\n",
       "<style scoped>\n",
       "    .dataframe tbody tr th:only-of-type {\n",
       "        vertical-align: middle;\n",
       "    }\n",
       "\n",
       "    .dataframe tbody tr th {\n",
       "        vertical-align: top;\n",
       "    }\n",
       "\n",
       "    .dataframe thead th {\n",
       "        text-align: right;\n",
       "    }\n",
       "</style>\n",
       "<table border=\"1\" class=\"dataframe\">\n",
       "  <thead>\n",
       "    <tr style=\"text-align: right;\">\n",
       "      <th></th>\n",
       "      <th>accuracy</th>\n",
       "      <th>balanced accuracy</th>\n",
       "      <th>f1</th>\n",
       "      <th>precision</th>\n",
       "      <th>false positive rate</th>\n",
       "      <th>false negative rate</th>\n",
       "      <th>selection rate</th>\n",
       "      <th>count</th>\n",
       "    </tr>\n",
       "    <tr>\n",
       "      <th>majmin</th>\n",
       "      <th></th>\n",
       "      <th></th>\n",
       "      <th></th>\n",
       "      <th></th>\n",
       "      <th></th>\n",
       "      <th></th>\n",
       "      <th></th>\n",
       "      <th></th>\n",
       "    </tr>\n",
       "  </thead>\n",
       "  <tbody>\n",
       "    <tr>\n",
       "      <th>majority</th>\n",
       "      <td>0.243834</td>\n",
       "      <td>0.557998</td>\n",
       "      <td>0.256094</td>\n",
       "      <td>0.147180</td>\n",
       "      <td>0.869015</td>\n",
       "      <td>0.014989</td>\n",
       "      <td>0.884343</td>\n",
       "      <td>69170.0</td>\n",
       "    </tr>\n",
       "    <tr>\n",
       "      <th>minority</th>\n",
       "      <td>0.160613</td>\n",
       "      <td>0.521944</td>\n",
       "      <td>0.214068</td>\n",
       "      <td>0.119986</td>\n",
       "      <td>0.947667</td>\n",
       "      <td>0.008446</td>\n",
       "      <td>0.952726</td>\n",
       "      <td>20540.0</td>\n",
       "    </tr>\n",
       "  </tbody>\n",
       "</table>\n",
       "</div>"
      ],
      "text/plain": [
       "          accuracy  balanced accuracy        f1  precision  \\\n",
       "majmin                                                       \n",
       "majority  0.243834           0.557998  0.256094   0.147180   \n",
       "minority  0.160613           0.521944  0.214068   0.119986   \n",
       "\n",
       "          false positive rate  false negative rate  selection rate    count  \n",
       "majmin                                                                       \n",
       "majority             0.869015             0.014989        0.884343  69170.0  \n",
       "minority             0.947667             0.008446        0.952726  20540.0  "
      ]
     },
     "execution_count": 60,
     "metadata": {},
     "output_type": "execute_result"
    }
   ],
   "source": [
    "metric_frame.by_group"
   ]
  },
  {
   "cell_type": "code",
   "execution_count": 61,
   "id": "6e6c20ae",
   "metadata": {
    "execution": {
     "iopub.execute_input": "2025-08-19T18:47:23.805904Z",
     "iopub.status.busy": "2025-08-19T18:47:23.805234Z",
     "iopub.status.idle": "2025-08-19T18:47:25.621973Z",
     "shell.execute_reply": "2025-08-19T18:47:25.621069Z"
    },
    "papermill": {
     "duration": 1.833096,
     "end_time": "2025-08-19T18:47:25.623251",
     "exception": false,
     "start_time": "2025-08-19T18:47:23.790155",
     "status": "completed"
    },
    "tags": []
   },
   "outputs": [
    {
     "data": {
      "text/plain": [
       "array([[<Axes: title={'center': 'accuracy'}, xlabel='majmin'>,\n",
       "        <Axes: title={'center': 'balanced accuracy'}, xlabel='majmin'>,\n",
       "        <Axes: title={'center': 'f1'}, xlabel='majmin'>],\n",
       "       [<Axes: title={'center': 'precision'}, xlabel='majmin'>,\n",
       "        <Axes: title={'center': 'false positive rate'}, xlabel='majmin'>,\n",
       "        <Axes: title={'center': 'false negative rate'}, xlabel='majmin'>],\n",
       "       [<Axes: title={'center': 'selection rate'}, xlabel='majmin'>,\n",
       "        <Axes: title={'center': 'count'}, xlabel='majmin'>,\n",
       "        <Axes: xlabel='majmin'>]], dtype=object)"
      ]
     },
     "execution_count": 61,
     "metadata": {},
     "output_type": "execute_result"
    },
    {
     "data": {
      "image/png": "[encoded data removed]",
      "text/plain": [
       "<Figure size 1200x800 with 9 Axes>"
      ]
     },
     "metadata": {},
     "output_type": "display_data"
    }
   ],
   "source": [
    "# In a graphic\n",
    "metric_frame.by_group.plot.bar(\n",
    "    subplots=True,\n",
    "    layout=[3, 3],\n",
    "    legend=False,\n",
    "    figsize=[12, 8],\n",
    "    title=\"Show all metrics\",\n",
    ")"
   ]
  },
  {
   "cell_type": "markdown",
   "id": "b2e433ae",
   "metadata": {
    "papermill": {
     "duration": 0.013684,
     "end_time": "2025-08-19T18:47:25.651806",
     "exception": false,
     "start_time": "2025-08-19T18:47:25.638122",
     "status": "completed"
    },
    "tags": []
   },
   "source": [
    "# Final Output"
   ]
  },
  {
   "cell_type": "code",
   "execution_count": 62,
   "id": "3871301e",
   "metadata": {
    "execution": {
     "iopub.execute_input": "2025-08-19T18:47:25.683471Z",
     "iopub.status.busy": "2025-08-19T18:47:25.681778Z",
     "iopub.status.idle": "2025-08-19T18:47:25.703222Z",
     "shell.execute_reply": "2025-08-19T18:47:25.702326Z"
    },
    "papermill": {
     "duration": 0.040093,
     "end_time": "2025-08-19T18:47:25.705552",
     "exception": false,
     "start_time": "2025-08-19T18:47:25.665459",
     "status": "completed"
    },
    "tags": []
   },
   "outputs": [
    {
     "data": {
      "text/plain": [
       "4"
      ]
     },
     "execution_count": 62,
     "metadata": {},
     "output_type": "execute_result"
    }
   ],
   "source": [
    "sub_universes = universe_analysis.generate_sub_universes()\n",
    "len(sub_universes)"
   ]
  },
  {
   "cell_type": "code",
   "execution_count": 63,
   "id": "d9cfdaca",
   "metadata": {
    "execution": {
     "iopub.execute_input": "2025-08-19T18:47:25.740401Z",
     "iopub.status.busy": "2025-08-19T18:47:25.738776Z",
     "iopub.status.idle": "2025-08-19T18:47:25.747532Z",
     "shell.execute_reply": "2025-08-19T18:47:25.746765Z"
    },
    "papermill": {
     "duration": 0.025842,
     "end_time": "2025-08-19T18:47:25.748853",
     "exception": false,
     "start_time": "2025-08-19T18:47:25.723011",
     "status": "completed"
    },
    "tags": []
   },
   "outputs": [],
   "source": [
    "def filter_sub_universe_data(sub_universe, org_test):\n",
    "    # Keep all rows — no filtering\n",
    "    keep_rows_mask = np.ones(org_test.shape[0], dtype=bool)\n",
    "\n",
    "    print(f\"[INFO] Keeping all rows: {keep_rows_mask.sum()} rows retained.\")\n",
    "    return keep_rows_mask"
   ]
  },
  {
   "cell_type": "code",
   "execution_count": 64,
   "id": "2bc31ac1",
   "metadata": {
    "execution": {
     "iopub.execute_input": "2025-08-19T18:47:25.782099Z",
     "iopub.status.busy": "2025-08-19T18:47:25.781217Z",
     "iopub.status.idle": "2025-08-19T18:47:32.699927Z",
     "shell.execute_reply": "2025-08-19T18:47:32.698572Z"
    },
    "papermill": {
     "duration": 6.936554,
     "end_time": "2025-08-19T18:47:32.702401",
     "exception": false,
     "start_time": "2025-08-19T18:47:25.765847",
     "status": "completed"
    },
    "tags": []
   },
   "outputs": [
    {
     "name": "stdout",
     "output_type": "stream",
     "text": [
      "Stopping execution_time clock.\n",
      "[INFO] Keeping all rows: 89710 rows retained.\n"
     ]
    },
    {
     "name": "stdout",
     "output_type": "stream",
     "text": [
      "[INFO] Keeping all rows: 89710 rows retained.\n"
     ]
    },
    {
     "name": "stdout",
     "output_type": "stream",
     "text": [
      "[INFO] Keeping all rows: 89710 rows retained.\n"
     ]
    },
    {
     "name": "stdout",
     "output_type": "stream",
     "text": [
      "[INFO] Keeping all rows: 89710 rows retained.\n"
     ]
    },
    {
     "data": {
      "text/html": [
       "<div>\n",
       "<style scoped>\n",
       "    .dataframe tbody tr th:only-of-type {\n",
       "        vertical-align: middle;\n",
       "    }\n",
       "\n",
       "    .dataframe tbody tr th {\n",
       "        vertical-align: top;\n",
       "    }\n",
       "\n",
       "    .dataframe thead th {\n",
       "        text-align: right;\n",
       "    }\n",
       "</style>\n",
       "<table border=\"1\" class=\"dataframe\">\n",
       "  <thead>\n",
       "    <tr style=\"text-align: right;\">\n",
       "      <th></th>\n",
       "      <th>run_no</th>\n",
       "      <th>universe_id</th>\n",
       "      <th>universe_settings</th>\n",
       "      <th>execution_time</th>\n",
       "      <th>test_size_n</th>\n",
       "      <th>test_size_frac</th>\n",
       "      <th>fair_main_equalized_odds_difference</th>\n",
       "      <th>fair_main_equalized_odds_ratio</th>\n",
       "      <th>fair_main_demographic_parity_difference</th>\n",
       "      <th>fair_main_demographic_parity_ratio</th>\n",
       "      <th>...</th>\n",
       "      <th>perf_grp_precision_0</th>\n",
       "      <th>perf_grp_precision_1</th>\n",
       "      <th>perf_grp_false positive rate_0</th>\n",
       "      <th>perf_grp_false positive rate_1</th>\n",
       "      <th>perf_grp_false negative rate_0</th>\n",
       "      <th>perf_grp_false negative rate_1</th>\n",
       "      <th>perf_grp_selection rate_0</th>\n",
       "      <th>perf_grp_selection rate_1</th>\n",
       "      <th>perf_grp_count_0</th>\n",
       "      <th>perf_grp_count_1</th>\n",
       "    </tr>\n",
       "  </thead>\n",
       "  <tbody>\n",
       "    <tr>\n",
       "      <th>0</th>\n",
       "      <td>3</td>\n",
       "      <td>e02fbe2e1eedfce9962e5e1aca047ce9</td>\n",
       "      <td>{\"cutoff\": \"quantile_0.1\", \"eval_fairness_grou...</td>\n",
       "      <td>26.974015</td>\n",
       "      <td>89710</td>\n",
       "      <td>1.0</td>\n",
       "      <td>0.078651</td>\n",
       "      <td>0.917005</td>\n",
       "      <td>0.068383</td>\n",
       "      <td>0.928223</td>\n",
       "      <td>...</td>\n",
       "      <td>NaN</td>\n",
       "      <td>NaN</td>\n",
       "      <td>NaN</td>\n",
       "      <td>NaN</td>\n",
       "      <td>NaN</td>\n",
       "      <td>NaN</td>\n",
       "      <td>NaN</td>\n",
       "      <td>NaN</td>\n",
       "      <td>NaN</td>\n",
       "      <td>NaN</td>\n",
       "    </tr>\n",
       "    <tr>\n",
       "      <th>0</th>\n",
       "      <td>3</td>\n",
       "      <td>e02fbe2e1eedfce9962e5e1aca047ce9</td>\n",
       "      <td>{\"cutoff\": \"quantile_0.1\", \"eval_fairness_grou...</td>\n",
       "      <td>26.974015</td>\n",
       "      <td>89710</td>\n",
       "      <td>1.0</td>\n",
       "      <td>0.078651</td>\n",
       "      <td>0.917005</td>\n",
       "      <td>0.068383</td>\n",
       "      <td>0.928223</td>\n",
       "      <td>...</td>\n",
       "      <td>0.119986</td>\n",
       "      <td>0.147180</td>\n",
       "      <td>0.947667</td>\n",
       "      <td>0.869015</td>\n",
       "      <td>0.008446</td>\n",
       "      <td>0.014989</td>\n",
       "      <td>0.952726</td>\n",
       "      <td>0.884343</td>\n",
       "      <td>20540.0</td>\n",
       "      <td>69170.0</td>\n",
       "    </tr>\n",
       "    <tr>\n",
       "      <th>0</th>\n",
       "      <td>3</td>\n",
       "      <td>e02fbe2e1eedfce9962e5e1aca047ce9</td>\n",
       "      <td>{\"cutoff\": \"quantile_0.25\", \"eval_fairness_gro...</td>\n",
       "      <td>26.974015</td>\n",
       "      <td>89710</td>\n",
       "      <td>1.0</td>\n",
       "      <td>0.063585</td>\n",
       "      <td>0.917485</td>\n",
       "      <td>0.050079</td>\n",
       "      <td>0.936497</td>\n",
       "      <td>...</td>\n",
       "      <td>NaN</td>\n",
       "      <td>NaN</td>\n",
       "      <td>NaN</td>\n",
       "      <td>NaN</td>\n",
       "      <td>NaN</td>\n",
       "      <td>NaN</td>\n",
       "      <td>NaN</td>\n",
       "      <td>NaN</td>\n",
       "      <td>NaN</td>\n",
       "      <td>NaN</td>\n",
       "    </tr>\n",
       "    <tr>\n",
       "      <th>0</th>\n",
       "      <td>3</td>\n",
       "      <td>e02fbe2e1eedfce9962e5e1aca047ce9</td>\n",
       "      <td>{\"cutoff\": \"quantile_0.25\", \"eval_fairness_gro...</td>\n",
       "      <td>26.974015</td>\n",
       "      <td>89710</td>\n",
       "      <td>1.0</td>\n",
       "      <td>0.063585</td>\n",
       "      <td>0.917485</td>\n",
       "      <td>0.050079</td>\n",
       "      <td>0.936497</td>\n",
       "      <td>...</td>\n",
       "      <td>0.135511</td>\n",
       "      <td>0.169192</td>\n",
       "      <td>0.770581</td>\n",
       "      <td>0.706997</td>\n",
       "      <td>0.073057</td>\n",
       "      <td>0.054376</td>\n",
       "      <td>0.788608</td>\n",
       "      <td>0.738528</td>\n",
       "      <td>20540.0</td>\n",
       "      <td>69170.0</td>\n",
       "    </tr>\n",
       "  </tbody>\n",
       "</table>\n",
       "<p>4 rows × 50 columns</p>\n",
       "</div>"
      ],
      "text/plain": [
       "  run_no                       universe_id  \\\n",
       "0      3  e02fbe2e1eedfce9962e5e1aca047ce9   \n",
       "0      3  e02fbe2e1eedfce9962e5e1aca047ce9   \n",
       "0      3  e02fbe2e1eedfce9962e5e1aca047ce9   \n",
       "0      3  e02fbe2e1eedfce9962e5e1aca047ce9   \n",
       "\n",
       "                                   universe_settings  execution_time  \\\n",
       "0  {\"cutoff\": \"quantile_0.1\", \"eval_fairness_grou...       26.974015   \n",
       "0  {\"cutoff\": \"quantile_0.1\", \"eval_fairness_grou...       26.974015   \n",
       "0  {\"cutoff\": \"quantile_0.25\", \"eval_fairness_gro...       26.974015   \n",
       "0  {\"cutoff\": \"quantile_0.25\", \"eval_fairness_gro...       26.974015   \n",
       "\n",
       "   test_size_n  test_size_frac  fair_main_equalized_odds_difference  \\\n",
       "0        89710             1.0                             0.078651   \n",
       "0        89710             1.0                             0.078651   \n",
       "0        89710             1.0                             0.063585   \n",
       "0        89710             1.0                             0.063585   \n",
       "\n",
       "   fair_main_equalized_odds_ratio  fair_main_demographic_parity_difference  \\\n",
       "0                        0.917005                                 0.068383   \n",
       "0                        0.917005                                 0.068383   \n",
       "0                        0.917485                                 0.050079   \n",
       "0                        0.917485                                 0.050079   \n",
       "\n",
       "   fair_main_demographic_parity_ratio  ...  perf_grp_precision_0  \\\n",
       "0                            0.928223  ...                   NaN   \n",
       "0                            0.928223  ...              0.119986   \n",
       "0                            0.936497  ...                   NaN   \n",
       "0                            0.936497  ...              0.135511   \n",
       "\n",
       "   perf_grp_precision_1  perf_grp_false positive rate_0  \\\n",
       "0                   NaN                             NaN   \n",
       "0              0.147180                        0.947667   \n",
       "0                   NaN                             NaN   \n",
       "0              0.169192                        0.770581   \n",
       "\n",
       "   perf_grp_false positive rate_1  perf_grp_false negative rate_0  \\\n",
       "0                             NaN                             NaN   \n",
       "0                        0.869015                        0.008446   \n",
       "0                             NaN                             NaN   \n",
       "0                        0.706997                        0.073057   \n",
       "\n",
       "   perf_grp_false negative rate_1  perf_grp_selection rate_0  \\\n",
       "0                             NaN                        NaN   \n",
       "0                        0.014989                   0.952726   \n",
       "0                             NaN                        NaN   \n",
       "0                        0.054376                   0.788608   \n",
       "\n",
       "   perf_grp_selection rate_1  perf_grp_count_0  perf_grp_count_1  \n",
       "0                        NaN               NaN               NaN  \n",
       "0                   0.884343           20540.0           69170.0  \n",
       "0                        NaN               NaN               NaN  \n",
       "0                   0.738528           20540.0           69170.0  \n",
       "\n",
       "[4 rows x 50 columns]"
      ]
     },
     "execution_count": 64,
     "metadata": {},
     "output_type": "execute_result"
    }
   ],
   "source": [
    "final_output = universe_analysis.generate_final_output(\n",
    "    y_pred_prob=probs_test,\n",
    "    y_test=y_true,\n",
    "    org_test=org_test,\n",
    "    filter_data=filter_sub_universe_data,\n",
    "    cp_metrics_df=cp_metrics_df,\n",
    "    save=True,\n",
    ")\n",
    "final_output"
   ]
  },
  {
   "cell_type": "code",
   "execution_count": null,
   "id": "8b80a1ff",
   "metadata": {
    "papermill": {
     "duration": 0.014168,
     "end_time": "2025-08-19T18:47:32.733816",
     "exception": false,
     "start_time": "2025-08-19T18:47:32.719648",
     "status": "completed"
    },
    "tags": []
   },
   "outputs": [],
   "source": []
  },
  {
   "cell_type": "code",
   "execution_count": null,
   "id": "275c9fad",
   "metadata": {
    "papermill": {
     "duration": 0.014185,
     "end_time": "2025-08-19T18:47:32.762459",
     "exception": false,
     "start_time": "2025-08-19T18:47:32.748274",
     "status": "completed"
    },
    "tags": []
   },
   "outputs": [],
   "source": []
  }
 ],
 "metadata": {
  "celltoolbar": "Tags",
  "kernelspec": {
   "display_name": "Python (CMA Fairness)",
   "language": "python",
   "name": "cma_fair_env"
  },
  "language_info": {
   "codemirror_mode": {
    "name": "ipython",
    "version": 3
   },
   "file_extension": ".py",
   "mimetype": "text/x-python",
   "name": "python",
   "nbconvert_exporter": "python",
   "pygments_lexer": "ipython3",
   "version": "3.10.12"
  },
  "papermill": {
   "default_parameters": {},
   "duration": 37.862204,
   "end_time": "2025-08-19T18:47:33.804615",
   "environment_variables": {},
   "exception": null,
   "input_path": "universe_analysis.ipynb",
   "output_path": "output/runs/3/notebooks/m_3-e02fbe2e1eedfce9962e5e1aca047ce9.ipynb",
   "parameters": {
    "output_dir": "output",
    "run_no": "3",
    "seed": "2023",
    "universe": "{\"cutoff\": [\"quantile_0.1\", \"quantile_0.25\"], \"eval_fairness_grouping\": [\"majority-minority\", \"nationality-all\"], \"exclude_features\": \"nationality\", \"exclude_subgroups\": \"keep-all\", \"model\": \"gbm\", \"scale\": \"do-not-scale\", \"training_size\": \"5k\", \"training_year\": \"2010_14\"}",
    "universe_id": "e02fbe2e1eedfce9962e5e1aca047ce9"
   },
   "start_time": "2025-08-19T18:46:55.942411",
   "version": "2.6.0"
  }
 },
 "nbformat": 4,
 "nbformat_minor": 5
}