{
 "cells": [
  {
   "cell_type": "markdown",
   "id": "ef23dbb3",
   "metadata": {
    "papermill": {
     "duration": 0.019232,
     "end_time": "2025-08-19T18:24:59.212734",
     "exception": false,
     "start_time": "2025-08-19T18:24:59.193502",
     "status": "completed"
    },
    "tags": []
   },
   "source": [
    "# Setup"
   ]
  },
  {
   "cell_type": "code",
   "execution_count": 1,
   "id": "0bc8e7dc",
   "metadata": {
    "execution": {
     "iopub.execute_input": "2025-08-19T18:24:59.234010Z",
     "iopub.status.busy": "2025-08-19T18:24:59.232064Z",
     "iopub.status.idle": "2025-08-19T18:24:59.251792Z",
     "shell.execute_reply": "2025-08-19T18:24:59.250872Z"
    },
    "papermill": {
     "duration": 0.031866,
     "end_time": "2025-08-19T18:24:59.253455",
     "exception": false,
     "start_time": "2025-08-19T18:24:59.221589",
     "status": "completed"
    },
    "tags": []
   },
   "outputs": [
    {
     "name": "stdout",
     "output_type": "stream",
     "text": [
      "/dss/dsshome1/0C/ra93lal2/cma/CMA_Fairness_v2\n"
     ]
    },
    {
     "name": "stderr",
     "output_type": "stream",
     "text": [
      "/dss/dsshome1/0C/ra93lal2/.local/share/virtualenvs/CMA_Fairness_v2-3j10GkSs/lib/python3.10/site-packages/IPython/core/magics/osm.py:393: UserWarning: This is now an optional IPython functionality, using bookmarks requires you to install the `pickleshare` library.\n",
      "  bkms = self.shell.db.get('bookmarks', {})\n",
      "/dss/dsshome1/0C/ra93lal2/.local/share/virtualenvs/CMA_Fairness_v2-3j10GkSs/lib/python3.10/site-packages/IPython/core/magics/osm.py:417: UserWarning: This is now an optional IPython functionality, setting dhist requires you to install the `pickleshare` library.\n",
      "  self.shell.db['dhist'] = compress_dhist(dhist)[-100:]\n"
     ]
    }
   ],
   "source": [
    "%cd ~/cma/CMA_Fairness_v2"
   ]
  },
  {
   "cell_type": "markdown",
   "id": "9d235661",
   "metadata": {
    "papermill": {
     "duration": 0.00914,
     "end_time": "2025-08-19T18:24:59.277436",
     "exception": false,
     "start_time": "2025-08-19T18:24:59.268296",
     "status": "completed"
    },
    "tags": []
   },
   "source": [
    "The following cell holds the definition of our parameters, these values can be overriden by rendering the with e.g. the following command:\n",
    "\n",
    "papermill -p alpha 0.2 -p ratio 0.3 universe_analysis.ipynb output/test_run.ipynb"
   ]
  },
  {
   "cell_type": "code",
   "execution_count": 2,
   "id": "4a789d8e",
   "metadata": {
    "execution": {
     "iopub.execute_input": "2025-08-19T18:24:59.297598Z",
     "iopub.status.busy": "2025-08-19T18:24:59.296458Z",
     "iopub.status.idle": "2025-08-19T18:24:59.309241Z",
     "shell.execute_reply": "2025-08-19T18:24:59.308091Z"
    },
    "papermill": {
     "duration": 0.02449,
     "end_time": "2025-08-19T18:24:59.310655",
     "exception": false,
     "start_time": "2025-08-19T18:24:59.286165",
     "status": "completed"
    },
    "tags": []
   },
   "outputs": [
    {
     "name": "stdout",
     "output_type": "stream",
     "text": [
      "Current working directory: /dss/dsshome1/0C/ra93lal2/cma/CMA_Fairness_v2\n"
     ]
    }
   ],
   "source": [
    "import os\n",
    "print(\"Current working directory:\", os.getcwd())"
   ]
  },
  {
   "cell_type": "code",
   "execution_count": 3,
   "id": "4132aaed",
   "metadata": {
    "execution": {
     "iopub.execute_input": "2025-08-19T18:24:59.332866Z",
     "iopub.status.busy": "2025-08-19T18:24:59.332380Z",
     "iopub.status.idle": "2025-08-19T18:24:59.338896Z",
     "shell.execute_reply": "2025-08-19T18:24:59.337732Z"
    },
    "papermill": {
     "duration": 0.018303,
     "end_time": "2025-08-19T18:24:59.340357",
     "exception": false,
     "start_time": "2025-08-19T18:24:59.322054",
     "status": "completed"
    },
    "tags": [
     "parameters"
    ]
   },
   "outputs": [],
   "source": [
    "run_no = 0\n",
    "universe_id = \"test\"\n",
    "universe = {\n",
    "    \"training_size\": \"5k\", # \"25k\", \"5k\", \"1k\"\n",
    "    \"training_year\": \"2012_14\", # \"2014\", \"2012_14\", \"2010_14\"\n",
    "    \"scale\": \"scale\", # \"scale\", \"do-not-scale\",\n",
    "    \"model\": \"elasticnet\", # \"logreg\", \"penalized_logreg\", \"rf\", \"gbm\", \"elasticnet\"\n",
    "    \"cutoff\": [\"quantile_0.15\", \"quantile_0.30\"],\n",
    "    \"exclude_features\": \"age\", # \"none\", \"nationality\", \"sex\", \"nationality-sex\", \"age\"\n",
    "    \"exclude_subgroups\": \"drop-non-german\", # \"keep-all\", \"drop-non-german\"\n",
    "    \"eval_fairness_grouping\": [\"majority-minority\", \"nationality-all\"]\n",
    "}\n",
    "\n",
    "output_dir=\"./output\"\n",
    "seed=0"
   ]
  },
  {
   "cell_type": "code",
   "execution_count": 4,
   "id": "559bcf62",
   "metadata": {
    "execution": {
     "iopub.execute_input": "2025-08-19T18:24:59.362832Z",
     "iopub.status.busy": "2025-08-19T18:24:59.361899Z",
     "iopub.status.idle": "2025-08-19T18:24:59.368175Z",
     "shell.execute_reply": "2025-08-19T18:24:59.366868Z"
    },
    "papermill": {
     "duration": 0.017471,
     "end_time": "2025-08-19T18:24:59.369441",
     "exception": false,
     "start_time": "2025-08-19T18:24:59.351970",
     "status": "completed"
    },
    "tags": [
     "injected-parameters"
    ]
   },
   "outputs": [],
   "source": [
    "# Parameters\n",
    "universe_id = \"bdeb970ee3d39ee00fa687752b9924d5\"\n",
    "run_no = \"3\"\n",
    "universe = \"{\\\"cutoff\\\": [\\\"quantile_0.1\\\", \\\"quantile_0.25\\\"], \\\"eval_fairness_grouping\\\": [\\\"majority-minority\\\", \\\"nationality-all\\\"], \\\"exclude_features\\\": \\\"none\\\", \\\"exclude_subgroups\\\": \\\"keep-all\\\", \\\"model\\\": \\\"gbm\\\", \\\"scale\\\": \\\"scale\\\", \\\"training_size\\\": \\\"5k\\\", \\\"training_year\\\": \\\"2014\\\"}\"\n",
    "output_dir = \"output\"\n",
    "seed = \"2023\"\n"
   ]
  },
  {
   "cell_type": "code",
   "execution_count": 5,
   "id": "a5d7941f",
   "metadata": {
    "execution": {
     "iopub.execute_input": "2025-08-19T18:24:59.392998Z",
     "iopub.status.busy": "2025-08-19T18:24:59.391455Z",
     "iopub.status.idle": "2025-08-19T18:24:59.399838Z",
     "shell.execute_reply": "2025-08-19T18:24:59.398310Z"
    },
    "papermill": {
     "duration": 0.021126,
     "end_time": "2025-08-19T18:24:59.401980",
     "exception": false,
     "start_time": "2025-08-19T18:24:59.380854",
     "status": "completed"
    },
    "tags": []
   },
   "outputs": [],
   "source": [
    "import json\n",
    "if isinstance(universe, str):\n",
    "    universe = json.loads(universe)"
   ]
  },
  {
   "cell_type": "code",
   "execution_count": 6,
   "id": "7076ccb1",
   "metadata": {
    "execution": {
     "iopub.execute_input": "2025-08-19T18:24:59.425271Z",
     "iopub.status.busy": "2025-08-19T18:24:59.424137Z",
     "iopub.status.idle": "2025-08-19T18:24:59.481662Z",
     "shell.execute_reply": "2025-08-19T18:24:59.480778Z"
    },
    "papermill": {
     "duration": 0.070867,
     "end_time": "2025-08-19T18:24:59.484338",
     "exception": false,
     "start_time": "2025-08-19T18:24:59.413471",
     "status": "completed"
    },
    "tags": []
   },
   "outputs": [],
   "source": [
    "# Auto-reload the custom package\n",
    "%load_ext autoreload\n",
    "%autoreload 1\n",
    "%aimport fairness_multiverse"
   ]
  },
  {
   "cell_type": "code",
   "execution_count": 7,
   "id": "94c8eb93",
   "metadata": {
    "execution": {
     "iopub.execute_input": "2025-08-19T18:24:59.521094Z",
     "iopub.status.busy": "2025-08-19T18:24:59.519778Z",
     "iopub.status.idle": "2025-08-19T18:25:01.093984Z",
     "shell.execute_reply": "2025-08-19T18:25:01.092766Z"
    },
    "papermill": {
     "duration": 1.589547,
     "end_time": "2025-08-19T18:25:01.095617",
     "exception": false,
     "start_time": "2025-08-19T18:24:59.506070",
     "status": "completed"
    },
    "tags": []
   },
   "outputs": [],
   "source": [
    "from fairness_multiverse.universe import UniverseAnalysis\n",
    "\n",
    "universe_analysis = UniverseAnalysis(\n",
    "    run_no = run_no,\n",
    "    universe_id = universe_id,\n",
    "    universe = universe,\n",
    "    output_dir=output_dir,\n",
    ")"
   ]
  },
  {
   "cell_type": "code",
   "execution_count": 8,
   "id": "2a6381cf",
   "metadata": {
    "execution": {
     "iopub.execute_input": "2025-08-19T18:25:01.119928Z",
     "iopub.status.busy": "2025-08-19T18:25:01.119327Z",
     "iopub.status.idle": "2025-08-19T18:25:01.125657Z",
     "shell.execute_reply": "2025-08-19T18:25:01.124947Z"
    },
    "papermill": {
     "duration": 0.018277,
     "end_time": "2025-08-19T18:25:01.126936",
     "exception": false,
     "start_time": "2025-08-19T18:25:01.108659",
     "status": "completed"
    },
    "tags": []
   },
   "outputs": [
    {
     "name": "stdout",
     "output_type": "stream",
     "text": [
      "Using Seed: 2023\n"
     ]
    }
   ],
   "source": [
    "import numpy as np\n",
    "parsed_seed = int(seed)\n",
    "np.random.seed(parsed_seed)\n",
    "print(f\"Using Seed: {parsed_seed}\")"
   ]
  },
  {
   "cell_type": "markdown",
   "id": "b6e958b4",
   "metadata": {
    "papermill": {
     "duration": 0.01061,
     "end_time": "2025-08-19T18:25:01.151464",
     "exception": false,
     "start_time": "2025-08-19T18:25:01.140854",
     "status": "completed"
    },
    "tags": []
   },
   "source": [
    "# Loading Data"
   ]
  },
  {
   "cell_type": "code",
   "execution_count": 9,
   "id": "98701482",
   "metadata": {
    "execution": {
     "iopub.execute_input": "2025-08-19T18:25:01.172055Z",
     "iopub.status.busy": "2025-08-19T18:25:01.171536Z",
     "iopub.status.idle": "2025-08-19T18:25:11.804283Z",
     "shell.execute_reply": "2025-08-19T18:25:11.799925Z"
    },
    "papermill": {
     "duration": 10.645342,
     "end_time": "2025-08-19T18:25:11.806135",
     "exception": false,
     "start_time": "2025-08-19T18:25:01.160793",
     "status": "completed"
    },
    "tags": []
   },
   "outputs": [
    {
     "name": "stdout",
     "output_type": "stream",
     "text": [
      "Loading SIAB data from cache: data/siab_cached.csv.gz\n"
     ]
    },
    {
     "name": "stdout",
     "output_type": "stream",
     "text": [
      "(643690, 164)\n"
     ]
    }
   ],
   "source": [
    "from pathlib import Path\n",
    "import pandas as pd\n",
    "\n",
    "# File paths\n",
    "raw_file = Path(\"data/raw/siab.csv\")\n",
    "cache_file = Path(\"data/siab_cached.csv.gz\")\n",
    "\n",
    "# Ensure cache directory exists\n",
    "cache_file.parent.mkdir(parents=True, exist_ok=True)\n",
    "\n",
    "# Load with simple caching\n",
    "if cache_file.exists():\n",
    "    print(f\"Loading SIAB data from cache: {cache_file}\")\n",
    "    siab = pd.read_csv(cache_file, compression='gzip')\n",
    "else:\n",
    "    print(f\"Cache not found. Reading raw SIAB data: {raw_file}\")\n",
    "    siab = pd.read_csv(raw_file)\n",
    "    siab.to_csv(cache_file, index=False, compression='gzip')\n",
    "    print(f\"Cached SIAB data to: {cache_file}\")\n",
    "\n",
    "print(siab.shape)"
   ]
  },
  {
   "cell_type": "code",
   "execution_count": 10,
   "id": "058d2abb",
   "metadata": {
    "execution": {
     "iopub.execute_input": "2025-08-19T18:25:11.839694Z",
     "iopub.status.busy": "2025-08-19T18:25:11.835644Z",
     "iopub.status.idle": "2025-08-19T18:25:12.123524Z",
     "shell.execute_reply": "2025-08-19T18:25:12.122565Z"
    },
    "papermill": {
     "duration": 0.301703,
     "end_time": "2025-08-19T18:25:12.125585",
     "exception": false,
     "start_time": "2025-08-19T18:25:11.823882",
     "status": "completed"
    },
    "tags": []
   },
   "outputs": [
    {
     "data": {
      "text/html": [
       "<div>\n",
       "<style scoped>\n",
       "    .dataframe tbody tr th:only-of-type {\n",
       "        vertical-align: middle;\n",
       "    }\n",
       "\n",
       "    .dataframe tbody tr th {\n",
       "        vertical-align: top;\n",
       "    }\n",
       "\n",
       "    .dataframe thead th {\n",
       "        text-align: right;\n",
       "    }\n",
       "</style>\n",
       "<table border=\"1\" class=\"dataframe\">\n",
       "  <thead>\n",
       "    <tr style=\"text-align: right;\">\n",
       "      <th></th>\n",
       "      <th>persnr</th>\n",
       "      <th>year</th>\n",
       "      <th>nrEntry</th>\n",
       "      <th>ltue</th>\n",
       "      <th>employed_before</th>\n",
       "      <th>receipt_leh_before</th>\n",
       "      <th>receipt_lhg_before</th>\n",
       "      <th>se_before</th>\n",
       "      <th>ASU_notue_seeking_before</th>\n",
       "      <th>ASU_other_before</th>\n",
       "      <th>...</th>\n",
       "      <th>minijob_tot_dur_byage</th>\n",
       "      <th>ft_tot_dur_byage</th>\n",
       "      <th>befrist_tot_dur_byage</th>\n",
       "      <th>leih_tot_dur_byage</th>\n",
       "      <th>LHG_tot_dur_byage</th>\n",
       "      <th>LEH_tot_dur_byage</th>\n",
       "      <th>almp_tot_dur_byage</th>\n",
       "      <th>almp_aw_tot_dur_byage</th>\n",
       "      <th>se_tot_dur_byage</th>\n",
       "      <th>seeking1_tot_dur_byage</th>\n",
       "    </tr>\n",
       "  </thead>\n",
       "  <tbody>\n",
       "    <tr>\n",
       "      <th>0</th>\n",
       "      <td>7</td>\n",
       "      <td>2015</td>\n",
       "      <td>1</td>\n",
       "      <td>0</td>\n",
       "      <td>1</td>\n",
       "      <td>0</td>\n",
       "      <td>0</td>\n",
       "      <td>0</td>\n",
       "      <td>1</td>\n",
       "      <td>0</td>\n",
       "      <td>...</td>\n",
       "      <td>0.000000</td>\n",
       "      <td>0.000000</td>\n",
       "      <td>15.043478</td>\n",
       "      <td>0.000000</td>\n",
       "      <td>0.000000</td>\n",
       "      <td>0.000000</td>\n",
       "      <td>0.000000</td>\n",
       "      <td>0.000000</td>\n",
       "      <td>0.000000</td>\n",
       "      <td>0.000000</td>\n",
       "    </tr>\n",
       "    <tr>\n",
       "      <th>1</th>\n",
       "      <td>18</td>\n",
       "      <td>2010</td>\n",
       "      <td>1</td>\n",
       "      <td>1</td>\n",
       "      <td>0</td>\n",
       "      <td>0</td>\n",
       "      <td>0</td>\n",
       "      <td>0</td>\n",
       "      <td>0</td>\n",
       "      <td>0</td>\n",
       "      <td>...</td>\n",
       "      <td>0.000000</td>\n",
       "      <td>0.000000</td>\n",
       "      <td>0.000000</td>\n",
       "      <td>0.000000</td>\n",
       "      <td>0.000000</td>\n",
       "      <td>0.000000</td>\n",
       "      <td>0.000000</td>\n",
       "      <td>0.000000</td>\n",
       "      <td>0.000000</td>\n",
       "      <td>0.000000</td>\n",
       "    </tr>\n",
       "    <tr>\n",
       "      <th>2</th>\n",
       "      <td>18</td>\n",
       "      <td>2011</td>\n",
       "      <td>2</td>\n",
       "      <td>0</td>\n",
       "      <td>1</td>\n",
       "      <td>0</td>\n",
       "      <td>1</td>\n",
       "      <td>0</td>\n",
       "      <td>1</td>\n",
       "      <td>0</td>\n",
       "      <td>...</td>\n",
       "      <td>2.714286</td>\n",
       "      <td>2.714286</td>\n",
       "      <td>0.000000</td>\n",
       "      <td>0.000000</td>\n",
       "      <td>10.775510</td>\n",
       "      <td>0.000000</td>\n",
       "      <td>8.367347</td>\n",
       "      <td>0.000000</td>\n",
       "      <td>0.000000</td>\n",
       "      <td>9.836735</td>\n",
       "    </tr>\n",
       "    <tr>\n",
       "      <th>3</th>\n",
       "      <td>18</td>\n",
       "      <td>2012</td>\n",
       "      <td>3</td>\n",
       "      <td>0</td>\n",
       "      <td>1</td>\n",
       "      <td>0</td>\n",
       "      <td>1</td>\n",
       "      <td>0</td>\n",
       "      <td>1</td>\n",
       "      <td>0</td>\n",
       "      <td>...</td>\n",
       "      <td>4.200000</td>\n",
       "      <td>4.200000</td>\n",
       "      <td>0.000000</td>\n",
       "      <td>0.000000</td>\n",
       "      <td>12.100000</td>\n",
       "      <td>0.000000</td>\n",
       "      <td>9.400000</td>\n",
       "      <td>0.000000</td>\n",
       "      <td>0.000000</td>\n",
       "      <td>9.960000</td>\n",
       "    </tr>\n",
       "    <tr>\n",
       "      <th>4</th>\n",
       "      <td>18</td>\n",
       "      <td>2012</td>\n",
       "      <td>4</td>\n",
       "      <td>0</td>\n",
       "      <td>1</td>\n",
       "      <td>0</td>\n",
       "      <td>1</td>\n",
       "      <td>0</td>\n",
       "      <td>1</td>\n",
       "      <td>0</td>\n",
       "      <td>...</td>\n",
       "      <td>5.460000</td>\n",
       "      <td>5.460000</td>\n",
       "      <td>0.000000</td>\n",
       "      <td>0.000000</td>\n",
       "      <td>13.360000</td>\n",
       "      <td>0.000000</td>\n",
       "      <td>10.320000</td>\n",
       "      <td>0.000000</td>\n",
       "      <td>0.000000</td>\n",
       "      <td>10.280000</td>\n",
       "    </tr>\n",
       "    <tr>\n",
       "      <th>...</th>\n",
       "      <td>...</td>\n",
       "      <td>...</td>\n",
       "      <td>...</td>\n",
       "      <td>...</td>\n",
       "      <td>...</td>\n",
       "      <td>...</td>\n",
       "      <td>...</td>\n",
       "      <td>...</td>\n",
       "      <td>...</td>\n",
       "      <td>...</td>\n",
       "      <td>...</td>\n",
       "      <td>...</td>\n",
       "      <td>...</td>\n",
       "      <td>...</td>\n",
       "      <td>...</td>\n",
       "      <td>...</td>\n",
       "      <td>...</td>\n",
       "      <td>...</td>\n",
       "      <td>...</td>\n",
       "      <td>...</td>\n",
       "      <td>...</td>\n",
       "    </tr>\n",
       "    <tr>\n",
       "      <th>643685</th>\n",
       "      <td>1827860</td>\n",
       "      <td>2013</td>\n",
       "      <td>1</td>\n",
       "      <td>0</td>\n",
       "      <td>0</td>\n",
       "      <td>0</td>\n",
       "      <td>1</td>\n",
       "      <td>0</td>\n",
       "      <td>0</td>\n",
       "      <td>1</td>\n",
       "      <td>...</td>\n",
       "      <td>0.000000</td>\n",
       "      <td>0.000000</td>\n",
       "      <td>0.000000</td>\n",
       "      <td>0.000000</td>\n",
       "      <td>0.612903</td>\n",
       "      <td>0.000000</td>\n",
       "      <td>0.000000</td>\n",
       "      <td>0.000000</td>\n",
       "      <td>0.000000</td>\n",
       "      <td>0.000000</td>\n",
       "    </tr>\n",
       "    <tr>\n",
       "      <th>643686</th>\n",
       "      <td>1827860</td>\n",
       "      <td>2015</td>\n",
       "      <td>2</td>\n",
       "      <td>1</td>\n",
       "      <td>0</td>\n",
       "      <td>0</td>\n",
       "      <td>1</td>\n",
       "      <td>0</td>\n",
       "      <td>1</td>\n",
       "      <td>0</td>\n",
       "      <td>...</td>\n",
       "      <td>0.000000</td>\n",
       "      <td>0.000000</td>\n",
       "      <td>0.212121</td>\n",
       "      <td>0.212121</td>\n",
       "      <td>17.363636</td>\n",
       "      <td>0.000000</td>\n",
       "      <td>8.909091</td>\n",
       "      <td>0.000000</td>\n",
       "      <td>0.000000</td>\n",
       "      <td>7.121212</td>\n",
       "    </tr>\n",
       "    <tr>\n",
       "      <th>643687</th>\n",
       "      <td>1827860</td>\n",
       "      <td>2016</td>\n",
       "      <td>3</td>\n",
       "      <td>1</td>\n",
       "      <td>0</td>\n",
       "      <td>0</td>\n",
       "      <td>1</td>\n",
       "      <td>1</td>\n",
       "      <td>0</td>\n",
       "      <td>1</td>\n",
       "      <td>...</td>\n",
       "      <td>0.000000</td>\n",
       "      <td>0.000000</td>\n",
       "      <td>0.294118</td>\n",
       "      <td>0.205882</td>\n",
       "      <td>34.705882</td>\n",
       "      <td>0.000000</td>\n",
       "      <td>10.352941</td>\n",
       "      <td>1.705882</td>\n",
       "      <td>1.705882</td>\n",
       "      <td>23.911765</td>\n",
       "    </tr>\n",
       "    <tr>\n",
       "      <th>643688</th>\n",
       "      <td>1827869</td>\n",
       "      <td>2013</td>\n",
       "      <td>1</td>\n",
       "      <td>1</td>\n",
       "      <td>1</td>\n",
       "      <td>0</td>\n",
       "      <td>0</td>\n",
       "      <td>0</td>\n",
       "      <td>1</td>\n",
       "      <td>0</td>\n",
       "      <td>...</td>\n",
       "      <td>0.000000</td>\n",
       "      <td>0.000000</td>\n",
       "      <td>0.000000</td>\n",
       "      <td>0.000000</td>\n",
       "      <td>0.000000</td>\n",
       "      <td>0.525424</td>\n",
       "      <td>0.000000</td>\n",
       "      <td>0.000000</td>\n",
       "      <td>0.000000</td>\n",
       "      <td>0.000000</td>\n",
       "    </tr>\n",
       "    <tr>\n",
       "      <th>643689</th>\n",
       "      <td>1827869</td>\n",
       "      <td>2014</td>\n",
       "      <td>2</td>\n",
       "      <td>0</td>\n",
       "      <td>0</td>\n",
       "      <td>1</td>\n",
       "      <td>0</td>\n",
       "      <td>0</td>\n",
       "      <td>1</td>\n",
       "      <td>0</td>\n",
       "      <td>...</td>\n",
       "      <td>0.000000</td>\n",
       "      <td>0.666667</td>\n",
       "      <td>0.666667</td>\n",
       "      <td>0.000000</td>\n",
       "      <td>0.000000</td>\n",
       "      <td>8.950000</td>\n",
       "      <td>1.033333</td>\n",
       "      <td>0.083333</td>\n",
       "      <td>0.083333</td>\n",
       "      <td>8.133333</td>\n",
       "    </tr>\n",
       "  </tbody>\n",
       "</table>\n",
       "<p>643690 rows × 164 columns</p>\n",
       "</div>"
      ],
      "text/plain": [
       "         persnr  year  nrEntry  ltue  employed_before  receipt_leh_before  \\\n",
       "0             7  2015        1     0                1                   0   \n",
       "1            18  2010        1     1                0                   0   \n",
       "2            18  2011        2     0                1                   0   \n",
       "3            18  2012        3     0                1                   0   \n",
       "4            18  2012        4     0                1                   0   \n",
       "...         ...   ...      ...   ...              ...                 ...   \n",
       "643685  1827860  2013        1     0                0                   0   \n",
       "643686  1827860  2015        2     1                0                   0   \n",
       "643687  1827860  2016        3     1                0                   0   \n",
       "643688  1827869  2013        1     1                1                   0   \n",
       "643689  1827869  2014        2     0                0                   1   \n",
       "\n",
       "        receipt_lhg_before  se_before  ASU_notue_seeking_before  \\\n",
       "0                        0          0                         1   \n",
       "1                        0          0                         0   \n",
       "2                        1          0                         1   \n",
       "3                        1          0                         1   \n",
       "4                        1          0                         1   \n",
       "...                    ...        ...                       ...   \n",
       "643685                   1          0                         0   \n",
       "643686                   1          0                         1   \n",
       "643687                   1          1                         0   \n",
       "643688                   0          0                         1   \n",
       "643689                   0          0                         1   \n",
       "\n",
       "        ASU_other_before  ...  minijob_tot_dur_byage  ft_tot_dur_byage  \\\n",
       "0                      0  ...               0.000000          0.000000   \n",
       "1                      0  ...               0.000000          0.000000   \n",
       "2                      0  ...               2.714286          2.714286   \n",
       "3                      0  ...               4.200000          4.200000   \n",
       "4                      0  ...               5.460000          5.460000   \n",
       "...                  ...  ...                    ...               ...   \n",
       "643685                 1  ...               0.000000          0.000000   \n",
       "643686                 0  ...               0.000000          0.000000   \n",
       "643687                 1  ...               0.000000          0.000000   \n",
       "643688                 0  ...               0.000000          0.000000   \n",
       "643689                 0  ...               0.000000          0.666667   \n",
       "\n",
       "        befrist_tot_dur_byage  leih_tot_dur_byage  LHG_tot_dur_byage  \\\n",
       "0                   15.043478            0.000000           0.000000   \n",
       "1                    0.000000            0.000000           0.000000   \n",
       "2                    0.000000            0.000000          10.775510   \n",
       "3                    0.000000            0.000000          12.100000   \n",
       "4                    0.000000            0.000000          13.360000   \n",
       "...                       ...                 ...                ...   \n",
       "643685               0.000000            0.000000           0.612903   \n",
       "643686               0.212121            0.212121          17.363636   \n",
       "643687               0.294118            0.205882          34.705882   \n",
       "643688               0.000000            0.000000           0.000000   \n",
       "643689               0.666667            0.000000           0.000000   \n",
       "\n",
       "        LEH_tot_dur_byage  almp_tot_dur_byage  almp_aw_tot_dur_byage  \\\n",
       "0                0.000000            0.000000               0.000000   \n",
       "1                0.000000            0.000000               0.000000   \n",
       "2                0.000000            8.367347               0.000000   \n",
       "3                0.000000            9.400000               0.000000   \n",
       "4                0.000000           10.320000               0.000000   \n",
       "...                   ...                 ...                    ...   \n",
       "643685           0.000000            0.000000               0.000000   \n",
       "643686           0.000000            8.909091               0.000000   \n",
       "643687           0.000000           10.352941               1.705882   \n",
       "643688           0.525424            0.000000               0.000000   \n",
       "643689           8.950000            1.033333               0.083333   \n",
       "\n",
       "        se_tot_dur_byage  seeking1_tot_dur_byage  \n",
       "0               0.000000                0.000000  \n",
       "1               0.000000                0.000000  \n",
       "2               0.000000                9.836735  \n",
       "3               0.000000                9.960000  \n",
       "4               0.000000               10.280000  \n",
       "...                  ...                     ...  \n",
       "643685          0.000000                0.000000  \n",
       "643686          0.000000                7.121212  \n",
       "643687          1.705882               23.911765  \n",
       "643688          0.000000                0.000000  \n",
       "643689          0.083333                8.133333  \n",
       "\n",
       "[643690 rows x 164 columns]"
      ]
     },
     "execution_count": 10,
     "metadata": {},
     "output_type": "execute_result"
    }
   ],
   "source": [
    "siab"
   ]
  },
  {
   "cell_type": "markdown",
   "id": "1f87e805",
   "metadata": {
    "papermill": {
     "duration": 0.009785,
     "end_time": "2025-08-19T18:25:12.147914",
     "exception": false,
     "start_time": "2025-08-19T18:25:12.138129",
     "status": "completed"
    },
    "tags": []
   },
   "source": [
    "# Splitting Data and Setting Training Data Size"
   ]
  },
  {
   "cell_type": "code",
   "execution_count": 11,
   "id": "910ae358",
   "metadata": {
    "execution": {
     "iopub.execute_input": "2025-08-19T18:25:12.168704Z",
     "iopub.status.busy": "2025-08-19T18:25:12.168363Z",
     "iopub.status.idle": "2025-08-19T18:25:12.436747Z",
     "shell.execute_reply": "2025-08-19T18:25:12.435786Z"
    },
    "papermill": {
     "duration": 0.281075,
     "end_time": "2025-08-19T18:25:12.438741",
     "exception": false,
     "start_time": "2025-08-19T18:25:12.157666",
     "status": "completed"
    },
    "tags": []
   },
   "outputs": [],
   "source": [
    "from fairness_multiverse.universe import sample_by_year_size\n",
    "\n",
    "siab_train = sample_by_year_size(siab,\n",
    "                               training_year=universe[\"training_year\"],\n",
    "                               training_size=universe[\"training_size\"])"
   ]
  },
  {
   "cell_type": "code",
   "execution_count": 12,
   "id": "919c8ff5",
   "metadata": {
    "execution": {
     "iopub.execute_input": "2025-08-19T18:25:12.461838Z",
     "iopub.status.busy": "2025-08-19T18:25:12.460927Z",
     "iopub.status.idle": "2025-08-19T18:25:12.469120Z",
     "shell.execute_reply": "2025-08-19T18:25:12.468036Z"
    },
    "papermill": {
     "duration": 0.021027,
     "end_time": "2025-08-19T18:25:12.470589",
     "exception": false,
     "start_time": "2025-08-19T18:25:12.449562",
     "status": "completed"
    },
    "tags": []
   },
   "outputs": [
    {
     "data": {
      "text/plain": [
       "(5000, 164)"
      ]
     },
     "execution_count": 12,
     "metadata": {},
     "output_type": "execute_result"
    }
   ],
   "source": [
    "siab_train.shape"
   ]
  },
  {
   "cell_type": "code",
   "execution_count": 13,
   "id": "feb13bf4",
   "metadata": {
    "execution": {
     "iopub.execute_input": "2025-08-19T18:25:12.496594Z",
     "iopub.status.busy": "2025-08-19T18:25:12.495326Z",
     "iopub.status.idle": "2025-08-19T18:25:12.510199Z",
     "shell.execute_reply": "2025-08-19T18:25:12.508903Z"
    },
    "papermill": {
     "duration": 0.029157,
     "end_time": "2025-08-19T18:25:12.511962",
     "exception": false,
     "start_time": "2025-08-19T18:25:12.482805",
     "status": "completed"
    },
    "tags": []
   },
   "outputs": [
    {
     "data": {
      "text/plain": [
       "year\n",
       "2014    5000\n",
       "dtype: int64"
      ]
     },
     "metadata": {},
     "output_type": "display_data"
    }
   ],
   "source": [
    "display(siab_train.groupby(\"year\").size())"
   ]
  },
  {
   "cell_type": "code",
   "execution_count": 14,
   "id": "0997782f",
   "metadata": {
    "execution": {
     "iopub.execute_input": "2025-08-19T18:25:12.542765Z",
     "iopub.status.busy": "2025-08-19T18:25:12.541334Z",
     "iopub.status.idle": "2025-08-19T18:25:12.810811Z",
     "shell.execute_reply": "2025-08-19T18:25:12.809019Z"
    },
    "papermill": {
     "duration": 0.285254,
     "end_time": "2025-08-19T18:25:12.813977",
     "exception": false,
     "start_time": "2025-08-19T18:25:12.528723",
     "status": "completed"
    },
    "tags": []
   },
   "outputs": [],
   "source": [
    "#siab_train = siab_s[siab_s.year < 2015]\n",
    "siab_calib = siab[siab.year == 2015]\n",
    "siab_test = siab[siab.year == 2016]"
   ]
  },
  {
   "cell_type": "code",
   "execution_count": 15,
   "id": "2c1e4012",
   "metadata": {
    "execution": {
     "iopub.execute_input": "2025-08-19T18:25:12.853969Z",
     "iopub.status.busy": "2025-08-19T18:25:12.852669Z",
     "iopub.status.idle": "2025-08-19T18:25:12.862079Z",
     "shell.execute_reply": "2025-08-19T18:25:12.860777Z"
    },
    "papermill": {
     "duration": 0.025804,
     "end_time": "2025-08-19T18:25:12.863600",
     "exception": false,
     "start_time": "2025-08-19T18:25:12.837796",
     "status": "completed"
    },
    "tags": []
   },
   "outputs": [],
   "source": [
    "#siab_calib.shape"
   ]
  },
  {
   "cell_type": "code",
   "execution_count": 16,
   "id": "f66b54ca",
   "metadata": {
    "execution": {
     "iopub.execute_input": "2025-08-19T18:25:12.889195Z",
     "iopub.status.busy": "2025-08-19T18:25:12.888134Z",
     "iopub.status.idle": "2025-08-19T18:25:12.895011Z",
     "shell.execute_reply": "2025-08-19T18:25:12.893647Z"
    },
    "papermill": {
     "duration": 0.019791,
     "end_time": "2025-08-19T18:25:12.896450",
     "exception": false,
     "start_time": "2025-08-19T18:25:12.876659",
     "status": "completed"
    },
    "tags": []
   },
   "outputs": [],
   "source": [
    "#siab_test.shape"
   ]
  },
  {
   "cell_type": "code",
   "execution_count": 17,
   "id": "27e4384d",
   "metadata": {
    "execution": {
     "iopub.execute_input": "2025-08-19T18:25:12.921829Z",
     "iopub.status.busy": "2025-08-19T18:25:12.920692Z",
     "iopub.status.idle": "2025-08-19T18:25:12.942171Z",
     "shell.execute_reply": "2025-08-19T18:25:12.940986Z"
    },
    "papermill": {
     "duration": 0.034564,
     "end_time": "2025-08-19T18:25:12.943848",
     "exception": false,
     "start_time": "2025-08-19T18:25:12.909284",
     "status": "completed"
    },
    "tags": []
   },
   "outputs": [],
   "source": [
    "X_train = siab_train.iloc[:,4:164]\n",
    "y_train = siab_train.iloc[:, [3]]"
   ]
  },
  {
   "cell_type": "code",
   "execution_count": 18,
   "id": "08ee8389",
   "metadata": {
    "execution": {
     "iopub.execute_input": "2025-08-19T18:25:12.976461Z",
     "iopub.status.busy": "2025-08-19T18:25:12.975107Z",
     "iopub.status.idle": "2025-08-19T18:25:13.036623Z",
     "shell.execute_reply": "2025-08-19T18:25:13.035672Z"
    },
    "papermill": {
     "duration": 0.076398,
     "end_time": "2025-08-19T18:25:13.038357",
     "exception": false,
     "start_time": "2025-08-19T18:25:12.961959",
     "status": "completed"
    },
    "tags": []
   },
   "outputs": [],
   "source": [
    "X_calib = siab_calib.iloc[:,4:164]\n",
    "y_calib = siab_calib.iloc[:, [3]]"
   ]
  },
  {
   "cell_type": "code",
   "execution_count": 19,
   "id": "b7ff42e0",
   "metadata": {
    "execution": {
     "iopub.execute_input": "2025-08-19T18:25:13.061589Z",
     "iopub.status.busy": "2025-08-19T18:25:13.060720Z",
     "iopub.status.idle": "2025-08-19T18:25:13.119020Z",
     "shell.execute_reply": "2025-08-19T18:25:13.118097Z"
    },
    "papermill": {
     "duration": 0.07338,
     "end_time": "2025-08-19T18:25:13.122704",
     "exception": false,
     "start_time": "2025-08-19T18:25:13.049324",
     "status": "completed"
    },
    "tags": []
   },
   "outputs": [],
   "source": [
    "X_test = siab_test.iloc[:,4:164]\n",
    "y_true = siab_test.iloc[:, [3]]"
   ]
  },
  {
   "cell_type": "code",
   "execution_count": 20,
   "id": "0275101e",
   "metadata": {
    "execution": {
     "iopub.execute_input": "2025-08-19T18:25:13.158811Z",
     "iopub.status.busy": "2025-08-19T18:25:13.157753Z",
     "iopub.status.idle": "2025-08-19T18:25:13.285926Z",
     "shell.execute_reply": "2025-08-19T18:25:13.284981Z"
    },
    "papermill": {
     "duration": 0.143766,
     "end_time": "2025-08-19T18:25:13.288797",
     "exception": false,
     "start_time": "2025-08-19T18:25:13.145031",
     "status": "completed"
    },
    "tags": []
   },
   "outputs": [],
   "source": [
    "# Auxiliary data needed downstream in the pipeline\n",
    "\n",
    "org_train = X_train.copy()\n",
    "org_test = X_test.copy()\n",
    "org_calib = X_calib.copy()"
   ]
  },
  {
   "cell_type": "markdown",
   "id": "b461e618",
   "metadata": {
    "papermill": {
     "duration": 0.012571,
     "end_time": "2025-08-19T18:25:13.325522",
     "exception": false,
     "start_time": "2025-08-19T18:25:13.312951",
     "status": "completed"
    },
    "tags": []
   },
   "source": [
    "# Preprocessing Data"
   ]
  },
  {
   "cell_type": "code",
   "execution_count": 21,
   "id": "78e74c4b",
   "metadata": {
    "execution": {
     "iopub.execute_input": "2025-08-19T18:25:13.349160Z",
     "iopub.status.busy": "2025-08-19T18:25:13.347673Z",
     "iopub.status.idle": "2025-08-19T18:25:13.358452Z",
     "shell.execute_reply": "2025-08-19T18:25:13.357040Z"
    },
    "papermill": {
     "duration": 0.024198,
     "end_time": "2025-08-19T18:25:13.359883",
     "exception": false,
     "start_time": "2025-08-19T18:25:13.335685",
     "status": "completed"
    },
    "tags": []
   },
   "outputs": [],
   "source": [
    "# EXCLUDE PROTECTED FEATURES\n",
    "# --------------------------\n",
    "\n",
    "excluded_features = universe[\"exclude_features\"].split(\"-\")\n",
    "excluded_features_dictionary = {\n",
    "    \"nationality\": [\"maxdeutsch1\", \"maxdeutsch.Missing.\"],\n",
    "    \"sex\": [\"frau1\"],\n",
    "    \"age\": [\"age\"],\n",
    "}"
   ]
  },
  {
   "cell_type": "code",
   "execution_count": 22,
   "id": "f8e63555",
   "metadata": {
    "execution": {
     "iopub.execute_input": "2025-08-19T18:25:13.387655Z",
     "iopub.status.busy": "2025-08-19T18:25:13.386492Z",
     "iopub.status.idle": "2025-08-19T18:25:13.395212Z",
     "shell.execute_reply": "2025-08-19T18:25:13.393858Z"
    },
    "papermill": {
     "duration": 0.022889,
     "end_time": "2025-08-19T18:25:13.396816",
     "exception": false,
     "start_time": "2025-08-19T18:25:13.373927",
     "status": "completed"
    },
    "tags": []
   },
   "outputs": [],
   "source": [
    "excluded_features_columns = [\n",
    "    excluded_features_dictionary[f] for f in excluded_features if len(f) > 0 and f != \"none\"\n",
    "]"
   ]
  },
  {
   "cell_type": "code",
   "execution_count": 23,
   "id": "da781f7c",
   "metadata": {
    "execution": {
     "iopub.execute_input": "2025-08-19T18:25:13.423132Z",
     "iopub.status.busy": "2025-08-19T18:25:13.421964Z",
     "iopub.status.idle": "2025-08-19T18:25:13.429664Z",
     "shell.execute_reply": "2025-08-19T18:25:13.428327Z"
    },
    "papermill": {
     "duration": 0.022141,
     "end_time": "2025-08-19T18:25:13.431161",
     "exception": false,
     "start_time": "2025-08-19T18:25:13.409020",
     "status": "completed"
    },
    "tags": []
   },
   "outputs": [],
   "source": [
    "from fairness_multiverse.universe import flatten_once\n",
    "\n",
    "excluded_features_columns = flatten_once(excluded_features_columns)"
   ]
  },
  {
   "cell_type": "code",
   "execution_count": 24,
   "id": "37fef0f0",
   "metadata": {
    "execution": {
     "iopub.execute_input": "2025-08-19T18:25:13.459700Z",
     "iopub.status.busy": "2025-08-19T18:25:13.458317Z",
     "iopub.status.idle": "2025-08-19T18:25:13.466190Z",
     "shell.execute_reply": "2025-08-19T18:25:13.465047Z"
    },
    "papermill": {
     "duration": 0.02205,
     "end_time": "2025-08-19T18:25:13.467660",
     "exception": false,
     "start_time": "2025-08-19T18:25:13.445610",
     "status": "completed"
    },
    "tags": []
   },
   "outputs": [],
   "source": [
    "if len(excluded_features_columns) > 0:\n",
    "    print(f\"Dropping features: {excluded_features_columns}\")\n",
    "    X_train.drop(excluded_features_columns, axis=1, inplace=True)"
   ]
  },
  {
   "cell_type": "code",
   "execution_count": 25,
   "id": "d029e3e9",
   "metadata": {
    "execution": {
     "iopub.execute_input": "2025-08-19T18:25:13.490879Z",
     "iopub.status.busy": "2025-08-19T18:25:13.490496Z",
     "iopub.status.idle": "2025-08-19T18:25:13.495137Z",
     "shell.execute_reply": "2025-08-19T18:25:13.494375Z"
    },
    "papermill": {
     "duration": 0.017507,
     "end_time": "2025-08-19T18:25:13.496313",
     "exception": false,
     "start_time": "2025-08-19T18:25:13.478806",
     "status": "completed"
    },
    "tags": []
   },
   "outputs": [],
   "source": [
    "if len(excluded_features_columns) > 0:\n",
    "    print(f\"Dropping features: {excluded_features_columns}\")\n",
    "    X_test.drop(excluded_features_columns, axis=1, inplace=True)"
   ]
  },
  {
   "cell_type": "code",
   "execution_count": 26,
   "id": "01d571f0",
   "metadata": {
    "execution": {
     "iopub.execute_input": "2025-08-19T18:25:13.550777Z",
     "iopub.status.busy": "2025-08-19T18:25:13.550345Z",
     "iopub.status.idle": "2025-08-19T18:25:13.555808Z",
     "shell.execute_reply": "2025-08-19T18:25:13.554734Z"
    },
    "papermill": {
     "duration": 0.032653,
     "end_time": "2025-08-19T18:25:13.557454",
     "exception": false,
     "start_time": "2025-08-19T18:25:13.524801",
     "status": "completed"
    },
    "tags": []
   },
   "outputs": [],
   "source": [
    "if len(excluded_features_columns) > 0:\n",
    "    print(f\"Dropping features: {excluded_features_columns}\")\n",
    "    X_calib.drop(excluded_features_columns, axis=1, inplace=True)"
   ]
  },
  {
   "cell_type": "code",
   "execution_count": 27,
   "id": "3037356e",
   "metadata": {
    "execution": {
     "iopub.execute_input": "2025-08-19T18:25:13.582427Z",
     "iopub.status.busy": "2025-08-19T18:25:13.582033Z",
     "iopub.status.idle": "2025-08-19T18:25:13.587086Z",
     "shell.execute_reply": "2025-08-19T18:25:13.586113Z"
    },
    "papermill": {
     "duration": 0.018709,
     "end_time": "2025-08-19T18:25:13.588350",
     "exception": false,
     "start_time": "2025-08-19T18:25:13.569641",
     "status": "completed"
    },
    "tags": []
   },
   "outputs": [],
   "source": [
    "# EXCLUDE CERTAIN SUBGROUPS\n",
    "# -------------------------\n",
    "\n",
    "mode = universe.get(\"exclude_subgroups\", \"keep-all\") # Defaults to \"keep-all\" if the key is missing."
   ]
  },
  {
   "cell_type": "code",
   "execution_count": 28,
   "id": "9d1e63fd",
   "metadata": {
    "execution": {
     "iopub.execute_input": "2025-08-19T18:25:13.610972Z",
     "iopub.status.busy": "2025-08-19T18:25:13.610586Z",
     "iopub.status.idle": "2025-08-19T18:25:13.616939Z",
     "shell.execute_reply": "2025-08-19T18:25:13.615850Z"
    },
    "papermill": {
     "duration": 0.019111,
     "end_time": "2025-08-19T18:25:13.618208",
     "exception": false,
     "start_time": "2025-08-19T18:25:13.599097",
     "status": "completed"
    },
    "tags": []
   },
   "outputs": [],
   "source": [
    "if mode == \"keep-all\":\n",
    "    keep_mask = pd.Series(True, index=org_train.index)\n",
    "\n",
    "elif mode == \"drop-non-german\":\n",
    "    keep_mask = (org_train[\"maxdeutsch1\"] == 1) & (org_train[\"maxdeutsch.Missing.\"] == 0)\n",
    "\n",
    "else:\n",
    "    raise ValueError(f\"Unsupported mode for exclude_subgroups: {mode}\")"
   ]
  },
  {
   "cell_type": "code",
   "execution_count": 29,
   "id": "d3b65474",
   "metadata": {
    "execution": {
     "iopub.execute_input": "2025-08-19T18:25:13.641963Z",
     "iopub.status.busy": "2025-08-19T18:25:13.641575Z",
     "iopub.status.idle": "2025-08-19T18:25:13.648112Z",
     "shell.execute_reply": "2025-08-19T18:25:13.646954Z"
    },
    "papermill": {
     "duration": 0.020215,
     "end_time": "2025-08-19T18:25:13.649411",
     "exception": false,
     "start_time": "2025-08-19T18:25:13.629196",
     "status": "completed"
    },
    "tags": []
   },
   "outputs": [],
   "source": [
    "n_drop = (~keep_mask).sum() # Calculates how many rows are set to be dropped\n",
    "if n_drop > 0:\n",
    "    pct = n_drop / len(keep_mask) * 100\n",
    "    print(f\"Dropping {n_drop} rows ({pct:.2f}%) where mode='{mode}'\")"
   ]
  },
  {
   "cell_type": "code",
   "execution_count": 30,
   "id": "f44389b3",
   "metadata": {
    "execution": {
     "iopub.execute_input": "2025-08-19T18:25:13.672666Z",
     "iopub.status.busy": "2025-08-19T18:25:13.671646Z",
     "iopub.status.idle": "2025-08-19T18:25:13.687328Z",
     "shell.execute_reply": "2025-08-19T18:25:13.686253Z"
    },
    "papermill": {
     "duration": 0.028668,
     "end_time": "2025-08-19T18:25:13.688826",
     "exception": false,
     "start_time": "2025-08-19T18:25:13.660158",
     "status": "completed"
    },
    "tags": []
   },
   "outputs": [],
   "source": [
    "X_train = X_train[keep_mask]"
   ]
  },
  {
   "cell_type": "code",
   "execution_count": 31,
   "id": "ceca8c2a",
   "metadata": {
    "execution": {
     "iopub.execute_input": "2025-08-19T18:25:13.713630Z",
     "iopub.status.busy": "2025-08-19T18:25:13.713208Z",
     "iopub.status.idle": "2025-08-19T18:25:13.722291Z",
     "shell.execute_reply": "2025-08-19T18:25:13.721122Z"
    },
    "papermill": {
     "duration": 0.021865,
     "end_time": "2025-08-19T18:25:13.723579",
     "exception": false,
     "start_time": "2025-08-19T18:25:13.701714",
     "status": "completed"
    },
    "tags": []
   },
   "outputs": [],
   "source": [
    "y_train = y_train[keep_mask]"
   ]
  },
  {
   "cell_type": "markdown",
   "id": "04d31e2f",
   "metadata": {
    "papermill": {
     "duration": 0.011071,
     "end_time": "2025-08-19T18:25:13.747708",
     "exception": false,
     "start_time": "2025-08-19T18:25:13.736637",
     "status": "completed"
    },
    "tags": []
   },
   "source": [
    "# Model Training"
   ]
  },
  {
   "cell_type": "code",
   "execution_count": 32,
   "id": "db991733",
   "metadata": {
    "execution": {
     "iopub.execute_input": "2025-08-19T18:25:13.769818Z",
     "iopub.status.busy": "2025-08-19T18:25:13.769432Z",
     "iopub.status.idle": "2025-08-19T18:25:13.866915Z",
     "shell.execute_reply": "2025-08-19T18:25:13.865973Z"
    },
    "papermill": {
     "duration": 0.110392,
     "end_time": "2025-08-19T18:25:13.868625",
     "exception": false,
     "start_time": "2025-08-19T18:25:13.758233",
     "status": "completed"
    },
    "tags": []
   },
   "outputs": [],
   "source": [
    "from sklearn.linear_model import LogisticRegression\n",
    "from sklearn.ensemble import GradientBoostingClassifier, RandomForestClassifier\n",
    "\n",
    "if (universe[\"model\"] == \"logreg\"):\n",
    "    model = LogisticRegression() #penalty=\"none\", solver=\"newton-cg\", max_iter=1)\n",
    "elif (universe[\"model\"] == \"penalized_logreg\"):\n",
    "    model = LogisticRegression(penalty=\"l2\", C=0.1) #, solver=\"newton-cg\", max_iter=1)\n",
    "elif (universe[\"model\"] == \"rf\"):\n",
    "    model = RandomForestClassifier() # n_estimators=100, n_jobs=-1\n",
    "elif (universe[\"model\"] == \"gbm\"):\n",
    "    model = GradientBoostingClassifier()\n",
    "elif (universe[\"model\"] == \"elasticnet\"):\n",
    "    model = LogisticRegression(penalty = 'elasticnet', solver = 'saga', l1_ratio = 0.5) # max_iter=5000\n",
    "else:\n",
    "    raise \"Unsupported universe.model\""
   ]
  },
  {
   "cell_type": "code",
   "execution_count": 33,
   "id": "a4b5cd25",
   "metadata": {
    "execution": {
     "iopub.execute_input": "2025-08-19T18:25:13.894089Z",
     "iopub.status.busy": "2025-08-19T18:25:13.892966Z",
     "iopub.status.idle": "2025-08-19T18:25:13.902623Z",
     "shell.execute_reply": "2025-08-19T18:25:13.900540Z"
    },
    "papermill": {
     "duration": 0.023228,
     "end_time": "2025-08-19T18:25:13.904199",
     "exception": false,
     "start_time": "2025-08-19T18:25:13.880971",
     "status": "completed"
    },
    "tags": []
   },
   "outputs": [],
   "source": [
    "from sklearn.pipeline import Pipeline\n",
    "from sklearn.preprocessing import StandardScaler\n",
    "\n",
    "model = Pipeline([\n",
    "    #(\"continuous_processor\", continuous_processor),\n",
    "    #(\"categorical_preprocessor\", categorical_preprocessor),\n",
    "    (\"scale\", StandardScaler() if universe[\"scale\"] == \"scale\" else None), \n",
    "    (\"model\", model),\n",
    "])"
   ]
  },
  {
   "cell_type": "code",
   "execution_count": 34,
   "id": "283a904d",
   "metadata": {
    "execution": {
     "iopub.execute_input": "2025-08-19T18:25:13.931368Z",
     "iopub.status.busy": "2025-08-19T18:25:13.930194Z",
     "iopub.status.idle": "2025-08-19T18:25:18.400898Z",
     "shell.execute_reply": "2025-08-19T18:25:18.399763Z"
    },
    "papermill": {
     "duration": 4.485384,
     "end_time": "2025-08-19T18:25:18.402564",
     "exception": false,
     "start_time": "2025-08-19T18:25:13.917180",
     "status": "completed"
    },
    "tags": []
   },
   "outputs": [
    {
     "data": {
      "text/html": [
       "<style>#sk-container-id-1 {color: black;background-color: white;}#sk-container-id-1 pre{padding: 0;}#sk-container-id-1 div.sk-toggleable {background-color: white;}#sk-container-id-1 label.sk-toggleable__label {cursor: pointer;display: block;width: 100%;margin-bottom: 0;padding: 0.3em;box-sizing: border-box;text-align: center;}#sk-container-id-1 label.sk-toggleable__label-arrow:before {content: \"▸\";float: left;margin-right: 0.25em;color: #696969;}#sk-container-id-1 label.sk-toggleable__label-arrow:hover:before {color: black;}#sk-container-id-1 div.sk-estimator:hover label.sk-toggleable__label-arrow:before {color: black;}#sk-container-id-1 div.sk-toggleable__content {max-height: 0;max-width: 0;overflow: hidden;text-align: left;background-color: #f0f8ff;}#sk-container-id-1 div.sk-toggleable__content pre {margin: 0.2em;color: black;border-radius: 0.25em;background-color: #f0f8ff;}#sk-container-id-1 input.sk-toggleable__control:checked~div.sk-toggleable__content {max-height: 200px;max-width: 100%;overflow: auto;}#sk-container-id-1 input.sk-toggleable__control:checked~label.sk-toggleable__label-arrow:before {content: \"▾\";}#sk-container-id-1 div.sk-estimator input.sk-toggleable__control:checked~label.sk-toggleable__label {background-color: #d4ebff;}#sk-container-id-1 div.sk-label input.sk-toggleable__control:checked~label.sk-toggleable__label {background-color: #d4ebff;}#sk-container-id-1 input.sk-hidden--visually {border: 0;clip: rect(1px 1px 1px 1px);clip: rect(1px, 1px, 1px, 1px);height: 1px;margin: -1px;overflow: hidden;padding: 0;position: absolute;width: 1px;}#sk-container-id-1 div.sk-estimator {font-family: monospace;background-color: #f0f8ff;border: 1px dotted black;border-radius: 0.25em;box-sizing: border-box;margin-bottom: 0.5em;}#sk-container-id-1 div.sk-estimator:hover {background-color: #d4ebff;}#sk-container-id-1 div.sk-parallel-item::after {content: \"\";width: 100%;border-bottom: 1px solid gray;flex-grow: 1;}#sk-container-id-1 div.sk-label:hover label.sk-toggleable__label {background-color: #d4ebff;}#sk-container-id-1 div.sk-serial::before {content: \"\";position: absolute;border-left: 1px solid gray;box-sizing: border-box;top: 0;bottom: 0;left: 50%;z-index: 0;}#sk-container-id-1 div.sk-serial {display: flex;flex-direction: column;align-items: center;background-color: white;padding-right: 0.2em;padding-left: 0.2em;position: relative;}#sk-container-id-1 div.sk-item {position: relative;z-index: 1;}#sk-container-id-1 div.sk-parallel {display: flex;align-items: stretch;justify-content: center;background-color: white;position: relative;}#sk-container-id-1 div.sk-item::before, #sk-container-id-1 div.sk-parallel-item::before {content: \"\";position: absolute;border-left: 1px solid gray;box-sizing: border-box;top: 0;bottom: 0;left: 50%;z-index: -1;}#sk-container-id-1 div.sk-parallel-item {display: flex;flex-direction: column;z-index: 1;position: relative;background-color: white;}#sk-container-id-1 div.sk-parallel-item:first-child::after {align-self: flex-end;width: 50%;}#sk-container-id-1 div.sk-parallel-item:last-child::after {align-self: flex-start;width: 50%;}#sk-container-id-1 div.sk-parallel-item:only-child::after {width: 0;}#sk-container-id-1 div.sk-dashed-wrapped {border: 1px dashed gray;margin: 0 0.4em 0.5em 0.4em;box-sizing: border-box;padding-bottom: 0.4em;background-color: white;}#sk-container-id-1 div.sk-label label {font-family: monospace;font-weight: bold;display: inline-block;line-height: 1.2em;}#sk-container-id-1 div.sk-label-container {text-align: center;}#sk-container-id-1 div.sk-container {/* jupyter's `normalize.less` sets `[hidden] { display: none; }` but bootstrap.min.css set `[hidden] { display: none !important; }` so we also need the `!important` here to be able to override the default hidden behavior on the sphinx rendered scikit-learn.org. See: https://github.com/scikit-learn/scikit-learn/issues/21755 */display: inline-block !important;position: relative;}#sk-container-id-1 div.sk-text-repr-fallback {display: none;}</style><div id=\"sk-container-id-1\" class=\"sk-top-container\"><div class=\"sk-text-repr-fallback\"><pre>Pipeline(steps=[(&#x27;scale&#x27;, StandardScaler()),\n",
       "                (&#x27;model&#x27;, GradientBoostingClassifier())])</pre><b>In a Jupyter environment, please rerun this cell to show the HTML representation or trust the notebook. <br />On GitHub, the HTML representation is unable to render, please try loading this page with nbviewer.org.</b></div><div class=\"sk-container\" hidden><div class=\"sk-item sk-dashed-wrapped\"><div class=\"sk-label-container\"><div class=\"sk-label sk-toggleable\"><input class=\"sk-toggleable__control sk-hidden--visually\" id=\"sk-estimator-id-1\" type=\"checkbox\" ><label for=\"sk-estimator-id-1\" class=\"sk-toggleable__label sk-toggleable__label-arrow\">Pipeline</label><div class=\"sk-toggleable__content\"><pre>Pipeline(steps=[(&#x27;scale&#x27;, StandardScaler()),\n",
       "                (&#x27;model&#x27;, GradientBoostingClassifier())])</pre></div></div></div><div class=\"sk-serial\"><div class=\"sk-item\"><div class=\"sk-estimator sk-toggleable\"><input class=\"sk-toggleable__control sk-hidden--visually\" id=\"sk-estimator-id-2\" type=\"checkbox\" ><label for=\"sk-estimator-id-2\" class=\"sk-toggleable__label sk-toggleable__label-arrow\">StandardScaler</label><div class=\"sk-toggleable__content\"><pre>StandardScaler()</pre></div></div></div><div class=\"sk-item\"><div class=\"sk-estimator sk-toggleable\"><input class=\"sk-toggleable__control sk-hidden--visually\" id=\"sk-estimator-id-3\" type=\"checkbox\" ><label for=\"sk-estimator-id-3\" class=\"sk-toggleable__label sk-toggleable__label-arrow\">GradientBoostingClassifier</label><div class=\"sk-toggleable__content\"><pre>GradientBoostingClassifier()</pre></div></div></div></div></div></div></div>"
      ],
      "text/plain": [
       "Pipeline(steps=[('scale', StandardScaler()),\n",
       "                ('model', GradientBoostingClassifier())])"
      ]
     },
     "execution_count": 34,
     "metadata": {},
     "output_type": "execute_result"
    }
   ],
   "source": [
    "model.fit(X_train, y_train.values.ravel())"
   ]
  },
  {
   "cell_type": "code",
   "execution_count": 35,
   "id": "6e15e313",
   "metadata": {
    "execution": {
     "iopub.execute_input": "2025-08-19T18:25:18.435106Z",
     "iopub.status.busy": "2025-08-19T18:25:18.434050Z",
     "iopub.status.idle": "2025-08-19T18:25:19.098727Z",
     "shell.execute_reply": "2025-08-19T18:25:19.097921Z"
    },
    "papermill": {
     "duration": 0.681185,
     "end_time": "2025-08-19T18:25:19.101690",
     "exception": false,
     "start_time": "2025-08-19T18:25:18.420505",
     "status": "completed"
    },
    "tags": []
   },
   "outputs": [
    {
     "data": {
      "text/plain": [
       "0.86726117489689"
      ]
     },
     "execution_count": 35,
     "metadata": {},
     "output_type": "execute_result"
    }
   ],
   "source": [
    "from fairness_multiverse.universe import predict_w_threshold\n",
    "\n",
    "probs_test = model.predict_proba(X_test)\n",
    "\n",
    "'''\n",
    "Below code returns a boolean array (or binary 0/1 array depending on how it’s used) where each element \n",
    "is True if the probability of class 1 is greater than or equal to the threshold, and False otherwise.\n",
    "'''\n",
    "y_pred_default = predict_w_threshold(probs_test, 0.5)\n",
    "\n",
    "from sklearn.metrics import accuracy_score\n",
    "\n",
    "# Naive prediction\n",
    "accuracy_score(y_true = y_true, y_pred = y_pred_default)"
   ]
  },
  {
   "cell_type": "code",
   "execution_count": 36,
   "id": "6f14067c",
   "metadata": {
    "execution": {
     "iopub.execute_input": "2025-08-19T18:25:19.131722Z",
     "iopub.status.busy": "2025-08-19T18:25:19.131277Z",
     "iopub.status.idle": "2025-08-19T18:25:19.734721Z",
     "shell.execute_reply": "2025-08-19T18:25:19.733889Z"
    },
    "papermill": {
     "duration": 0.617395,
     "end_time": "2025-08-19T18:25:19.736015",
     "exception": false,
     "start_time": "2025-08-19T18:25:19.118620",
     "status": "completed"
    },
    "tags": []
   },
   "outputs": [
    {
     "data": {
      "text/plain": [
       "array([0, 0, 0, ..., 0, 0, 0])"
      ]
     },
     "execution_count": 36,
     "metadata": {},
     "output_type": "execute_result"
    }
   ],
   "source": [
    "model.predict(X_test)"
   ]
  },
  {
   "cell_type": "markdown",
   "id": "3759920c",
   "metadata": {
    "papermill": {
     "duration": 0.013648,
     "end_time": "2025-08-19T18:25:19.761378",
     "exception": false,
     "start_time": "2025-08-19T18:25:19.747730",
     "status": "completed"
    },
    "tags": []
   },
   "source": [
    "# Conformal Prediction"
   ]
  },
  {
   "cell_type": "code",
   "execution_count": 37,
   "id": "14b27f59",
   "metadata": {
    "execution": {
     "iopub.execute_input": "2025-08-19T18:25:19.788544Z",
     "iopub.status.busy": "2025-08-19T18:25:19.787139Z",
     "iopub.status.idle": "2025-08-19T18:25:19.794541Z",
     "shell.execute_reply": "2025-08-19T18:25:19.793234Z"
    },
    "papermill": {
     "duration": 0.02167,
     "end_time": "2025-08-19T18:25:19.796047",
     "exception": false,
     "start_time": "2025-08-19T18:25:19.774377",
     "status": "completed"
    },
    "tags": []
   },
   "outputs": [],
   "source": [
    "# Miscoverage level for conformal prediction (10% allowed error rate => 90% target coverage)\n",
    "alpha = 0.1"
   ]
  },
  {
   "cell_type": "code",
   "execution_count": 38,
   "id": "59102472",
   "metadata": {
    "execution": {
     "iopub.execute_input": "2025-08-19T18:25:19.842669Z",
     "iopub.status.busy": "2025-08-19T18:25:19.842231Z",
     "iopub.status.idle": "2025-08-19T18:25:20.383481Z",
     "shell.execute_reply": "2025-08-19T18:25:20.382593Z"
    },
    "papermill": {
     "duration": 0.575221,
     "end_time": "2025-08-19T18:25:20.385058",
     "exception": false,
     "start_time": "2025-08-19T18:25:19.809837",
     "status": "completed"
    },
    "tags": []
   },
   "outputs": [],
   "source": [
    "probs_calib = model.predict_proba(X_calib)"
   ]
  },
  {
   "cell_type": "code",
   "execution_count": 39,
   "id": "a792d4dd",
   "metadata": {
    "execution": {
     "iopub.execute_input": "2025-08-19T18:25:20.408869Z",
     "iopub.status.busy": "2025-08-19T18:25:20.408462Z",
     "iopub.status.idle": "2025-08-19T18:25:20.413283Z",
     "shell.execute_reply": "2025-08-19T18:25:20.412503Z"
    },
    "papermill": {
     "duration": 0.019297,
     "end_time": "2025-08-19T18:25:20.415889",
     "exception": false,
     "start_time": "2025-08-19T18:25:20.396592",
     "status": "completed"
    },
    "tags": []
   },
   "outputs": [],
   "source": [
    "y_calib = y_calib.values.ravel().astype(int)"
   ]
  },
  {
   "cell_type": "code",
   "execution_count": 40,
   "id": "650fd033",
   "metadata": {
    "execution": {
     "iopub.execute_input": "2025-08-19T18:25:20.458416Z",
     "iopub.status.busy": "2025-08-19T18:25:20.457041Z",
     "iopub.status.idle": "2025-08-19T18:25:20.468834Z",
     "shell.execute_reply": "2025-08-19T18:25:20.467643Z"
    },
    "papermill": {
     "duration": 0.0287,
     "end_time": "2025-08-19T18:25:20.470468",
     "exception": false,
     "start_time": "2025-08-19T18:25:20.441768",
     "status": "completed"
    },
    "tags": []
   },
   "outputs": [],
   "source": [
    "from fairness_multiverse.conformal import compute_nc_scores\n",
    "\n",
    "# Compute nonconformity scores on calibration set (1 - probability of true class)\n",
    "nc_scores = compute_nc_scores(probs_calib, y_calib)"
   ]
  },
  {
   "cell_type": "code",
   "execution_count": 41,
   "id": "28ada44c",
   "metadata": {
    "execution": {
     "iopub.execute_input": "2025-08-19T18:25:20.533725Z",
     "iopub.status.busy": "2025-08-19T18:25:20.532183Z",
     "iopub.status.idle": "2025-08-19T18:25:20.542397Z",
     "shell.execute_reply": "2025-08-19T18:25:20.541113Z"
    },
    "papermill": {
     "duration": 0.038946,
     "end_time": "2025-08-19T18:25:20.544030",
     "exception": false,
     "start_time": "2025-08-19T18:25:20.505084",
     "status": "completed"
    },
    "tags": []
   },
   "outputs": [],
   "source": [
    "from fairness_multiverse.conformal import find_threshold\n",
    "\n",
    "# Find conformal threshold q_hat for the given alpha (split conformal method)\n",
    "q_hat = find_threshold(nc_scores, alpha)"
   ]
  },
  {
   "cell_type": "code",
   "execution_count": 42,
   "id": "df56469e",
   "metadata": {
    "execution": {
     "iopub.execute_input": "2025-08-19T18:25:20.581173Z",
     "iopub.status.busy": "2025-08-19T18:25:20.579866Z",
     "iopub.status.idle": "2025-08-19T18:25:20.589590Z",
     "shell.execute_reply": "2025-08-19T18:25:20.588298Z"
    },
    "papermill": {
     "duration": 0.028189,
     "end_time": "2025-08-19T18:25:20.595390",
     "exception": false,
     "start_time": "2025-08-19T18:25:20.567201",
     "status": "completed"
    },
    "tags": []
   },
   "outputs": [
    {
     "data": {
      "text/plain": [
       "0.730476387399489"
      ]
     },
     "execution_count": 42,
     "metadata": {},
     "output_type": "execute_result"
    }
   ],
   "source": [
    "q_hat"
   ]
  },
  {
   "cell_type": "code",
   "execution_count": 43,
   "id": "aa1f5faa",
   "metadata": {
    "execution": {
     "iopub.execute_input": "2025-08-19T18:25:20.624800Z",
     "iopub.status.busy": "2025-08-19T18:25:20.623508Z",
     "iopub.status.idle": "2025-08-19T18:25:21.651547Z",
     "shell.execute_reply": "2025-08-19T18:25:21.650675Z"
    },
    "papermill": {
     "duration": 1.04413,
     "end_time": "2025-08-19T18:25:21.653141",
     "exception": false,
     "start_time": "2025-08-19T18:25:20.609011",
     "status": "completed"
    },
    "tags": []
   },
   "outputs": [],
   "source": [
    "from fairness_multiverse.conformal import predict_conformal_sets\n",
    "\n",
    "# Generate prediction sets for each test example\n",
    "pred_sets = predict_conformal_sets(model, X_test, q_hat)"
   ]
  },
  {
   "cell_type": "code",
   "execution_count": 44,
   "id": "97f67a6b",
   "metadata": {
    "execution": {
     "iopub.execute_input": "2025-08-19T18:25:21.691857Z",
     "iopub.status.busy": "2025-08-19T18:25:21.690466Z",
     "iopub.status.idle": "2025-08-19T18:25:21.700308Z",
     "shell.execute_reply": "2025-08-19T18:25:21.699052Z"
    },
    "papermill": {
     "duration": 0.037347,
     "end_time": "2025-08-19T18:25:21.702486",
     "exception": false,
     "start_time": "2025-08-19T18:25:21.665139",
     "status": "completed"
    },
    "tags": []
   },
   "outputs": [],
   "source": [
    "y_true = y_true.squeeze()"
   ]
  },
  {
   "cell_type": "code",
   "execution_count": 45,
   "id": "e700e9a7",
   "metadata": {
    "execution": {
     "iopub.execute_input": "2025-08-19T18:25:21.733265Z",
     "iopub.status.busy": "2025-08-19T18:25:21.732148Z",
     "iopub.status.idle": "2025-08-19T18:25:22.235635Z",
     "shell.execute_reply": "2025-08-19T18:25:22.234850Z"
    },
    "papermill": {
     "duration": 0.518359,
     "end_time": "2025-08-19T18:25:22.237707",
     "exception": false,
     "start_time": "2025-08-19T18:25:21.719348",
     "status": "completed"
    },
    "tags": []
   },
   "outputs": [],
   "source": [
    "from fairness_multiverse.conformal import evaluate_sets\n",
    "\n",
    "# Evaluate coverage and average set size on test data\n",
    "metrics = evaluate_sets(pred_sets, y_true)"
   ]
  },
  {
   "cell_type": "markdown",
   "id": "efbacec0",
   "metadata": {
    "papermill": {
     "duration": 0.011513,
     "end_time": "2025-08-19T18:25:22.264360",
     "exception": false,
     "start_time": "2025-08-19T18:25:22.252847",
     "status": "completed"
    },
    "tags": []
   },
   "source": [
    "# CP Metrics"
   ]
  },
  {
   "cell_type": "code",
   "execution_count": 46,
   "id": "9de55fb1",
   "metadata": {
    "execution": {
     "iopub.execute_input": "2025-08-19T18:25:22.289991Z",
     "iopub.status.busy": "2025-08-19T18:25:22.288925Z",
     "iopub.status.idle": "2025-08-19T18:25:22.298551Z",
     "shell.execute_reply": "2025-08-19T18:25:22.297347Z"
    },
    "papermill": {
     "duration": 0.023988,
     "end_time": "2025-08-19T18:25:22.299979",
     "exception": false,
     "start_time": "2025-08-19T18:25:22.275991",
     "status": "completed"
    },
    "tags": []
   },
   "outputs": [
    {
     "data": {
      "text/plain": [
       "{'coverage': 0.909976591238435, 'avg_size': 1.1260283134544644}"
      ]
     },
     "execution_count": 46,
     "metadata": {},
     "output_type": "execute_result"
    }
   ],
   "source": [
    "metrics"
   ]
  },
  {
   "cell_type": "code",
   "execution_count": 47,
   "id": "64c340a1",
   "metadata": {
    "execution": {
     "iopub.execute_input": "2025-08-19T18:25:22.336873Z",
     "iopub.status.busy": "2025-08-19T18:25:22.336095Z",
     "iopub.status.idle": "2025-08-19T18:25:22.346503Z",
     "shell.execute_reply": "2025-08-19T18:25:22.345606Z"
    },
    "papermill": {
     "duration": 0.036424,
     "end_time": "2025-08-19T18:25:22.348023",
     "exception": false,
     "start_time": "2025-08-19T18:25:22.311599",
     "status": "completed"
    },
    "tags": []
   },
   "outputs": [],
   "source": [
    "example_universe = universe.copy()\n",
    "universe_training_year = example_universe.get(\"training_year\")\n",
    "universe_training_size = example_universe.get(\"training_size\")\n",
    "universe_scale = example_universe.get(\"scale\")\n",
    "universe_model = example_universe.get(\"model\")\n",
    "universe_exclude_features = example_universe.get(\"exclude_features\")\n",
    "universe_exclude_subgroups = example_universe.get(\"exclude_subgroups\")"
   ]
  },
  {
   "cell_type": "code",
   "execution_count": 48,
   "id": "dbb53cb4",
   "metadata": {
    "execution": {
     "iopub.execute_input": "2025-08-19T18:25:22.374221Z",
     "iopub.status.busy": "2025-08-19T18:25:22.373351Z",
     "iopub.status.idle": "2025-08-19T18:25:22.381181Z",
     "shell.execute_reply": "2025-08-19T18:25:22.380513Z"
    },
    "papermill": {
     "duration": 0.021843,
     "end_time": "2025-08-19T18:25:22.382485",
     "exception": false,
     "start_time": "2025-08-19T18:25:22.360642",
     "status": "completed"
    },
    "tags": []
   },
   "outputs": [],
   "source": [
    "cp_metrics_dict = {\n",
    "    \"universe_id\": [universe_id],\n",
    "    \"universe_training_year\": [universe_training_year],\n",
    "    \"universe_training_size\": [universe_training_size],\n",
    "    \"universe_scale\": [universe_scale],\n",
    "    \"universe_model\": [universe_model],\n",
    "    \"universe_exclude_features\": [universe_exclude_features],\n",
    "    \"universe_exclude_subgroups\": [universe_exclude_subgroups],\n",
    "    \"q_hat\": [q_hat],\n",
    "    \"coverage\": [metrics[\"coverage\"]],\n",
    "    \"avg_size\": [metrics[\"avg_size\"]],\n",
    "}"
   ]
  },
  {
   "cell_type": "code",
   "execution_count": 49,
   "id": "0d70d4b2",
   "metadata": {
    "execution": {
     "iopub.execute_input": "2025-08-19T18:25:22.408922Z",
     "iopub.status.busy": "2025-08-19T18:25:22.408542Z",
     "iopub.status.idle": "2025-08-19T18:25:22.413505Z",
     "shell.execute_reply": "2025-08-19T18:25:22.412927Z"
    },
    "papermill": {
     "duration": 0.019993,
     "end_time": "2025-08-19T18:25:22.415318",
     "exception": false,
     "start_time": "2025-08-19T18:25:22.395325",
     "status": "completed"
    },
    "tags": []
   },
   "outputs": [],
   "source": [
    "cp_metrics_df = pd.DataFrame(cp_metrics_dict)"
   ]
  },
  {
   "cell_type": "code",
   "execution_count": 50,
   "id": "b494403c",
   "metadata": {
    "execution": {
     "iopub.execute_input": "2025-08-19T18:25:22.441322Z",
     "iopub.status.busy": "2025-08-19T18:25:22.440942Z",
     "iopub.status.idle": "2025-08-19T18:25:22.453147Z",
     "shell.execute_reply": "2025-08-19T18:25:22.452451Z"
    },
    "papermill": {
     "duration": 0.028101,
     "end_time": "2025-08-19T18:25:22.455359",
     "exception": false,
     "start_time": "2025-08-19T18:25:22.427258",
     "status": "completed"
    },
    "tags": []
   },
   "outputs": [
    {
     "data": {
      "text/html": [
       "<div>\n",
       "<style scoped>\n",
       "    .dataframe tbody tr th:only-of-type {\n",
       "        vertical-align: middle;\n",
       "    }\n",
       "\n",
       "    .dataframe tbody tr th {\n",
       "        vertical-align: top;\n",
       "    }\n",
       "\n",
       "    .dataframe thead th {\n",
       "        text-align: right;\n",
       "    }\n",
       "</style>\n",
       "<table border=\"1\" class=\"dataframe\">\n",
       "  <thead>\n",
       "    <tr style=\"text-align: right;\">\n",
       "      <th></th>\n",
       "      <th>universe_id</th>\n",
       "      <th>universe_training_year</th>\n",
       "      <th>universe_training_size</th>\n",
       "      <th>universe_scale</th>\n",
       "      <th>universe_model</th>\n",
       "      <th>universe_exclude_features</th>\n",
       "      <th>universe_exclude_subgroups</th>\n",
       "      <th>q_hat</th>\n",
       "      <th>coverage</th>\n",
       "      <th>avg_size</th>\n",
       "    </tr>\n",
       "  </thead>\n",
       "  <tbody>\n",
       "    <tr>\n",
       "      <th>0</th>\n",
       "      <td>bdeb970ee3d39ee00fa687752b9924d5</td>\n",
       "      <td>2014</td>\n",
       "      <td>5k</td>\n",
       "      <td>scale</td>\n",
       "      <td>gbm</td>\n",
       "      <td>none</td>\n",
       "      <td>keep-all</td>\n",
       "      <td>0.730476</td>\n",
       "      <td>0.909977</td>\n",
       "      <td>1.126028</td>\n",
       "    </tr>\n",
       "  </tbody>\n",
       "</table>\n",
       "</div>"
      ],
      "text/plain": [
       "                        universe_id universe_training_year  \\\n",
       "0  bdeb970ee3d39ee00fa687752b9924d5                   2014   \n",
       "\n",
       "  universe_training_size universe_scale universe_model  \\\n",
       "0                     5k          scale            gbm   \n",
       "\n",
       "  universe_exclude_features universe_exclude_subgroups     q_hat  coverage  \\\n",
       "0                      none                   keep-all  0.730476  0.909977   \n",
       "\n",
       "   avg_size  \n",
       "0  1.126028  "
      ]
     },
     "execution_count": 50,
     "metadata": {},
     "output_type": "execute_result"
    }
   ],
   "source": [
    "cp_metrics_df"
   ]
  },
  {
   "cell_type": "markdown",
   "id": "ed608b0b",
   "metadata": {
    "papermill": {
     "duration": 0.013966,
     "end_time": "2025-08-19T18:25:22.499030",
     "exception": false,
     "start_time": "2025-08-19T18:25:22.485064",
     "status": "completed"
    },
    "tags": []
   },
   "source": [
    "Conditional coverage & looking at subgroups"
   ]
  },
  {
   "cell_type": "code",
   "execution_count": 51,
   "id": "8968c366",
   "metadata": {
    "execution": {
     "iopub.execute_input": "2025-08-19T18:25:22.525350Z",
     "iopub.status.busy": "2025-08-19T18:25:22.524951Z",
     "iopub.status.idle": "2025-08-19T18:25:22.781256Z",
     "shell.execute_reply": "2025-08-19T18:25:22.780464Z"
    },
    "papermill": {
     "duration": 0.271634,
     "end_time": "2025-08-19T18:25:22.783107",
     "exception": false,
     "start_time": "2025-08-19T18:25:22.511473",
     "status": "completed"
    },
    "tags": []
   },
   "outputs": [],
   "source": [
    "from fairness_multiverse.conformal import build_cp_groups\n",
    "\n",
    "cp_groups_df = build_cp_groups(pred_sets, y_true, X_test.index, org_test)"
   ]
  },
  {
   "cell_type": "code",
   "execution_count": 52,
   "id": "292ddabf",
   "metadata": {
    "execution": {
     "iopub.execute_input": "2025-08-19T18:25:22.809063Z",
     "iopub.status.busy": "2025-08-19T18:25:22.808576Z",
     "iopub.status.idle": "2025-08-19T18:25:23.672074Z",
     "shell.execute_reply": "2025-08-19T18:25:23.670522Z"
    },
    "papermill": {
     "duration": 0.880321,
     "end_time": "2025-08-19T18:25:23.675990",
     "exception": false,
     "start_time": "2025-08-19T18:25:22.795669",
     "status": "completed"
    },
    "tags": []
   },
   "outputs": [],
   "source": [
    "# Define covered = 1 if true_label is in the predicted set\n",
    "cp_groups_df['covered'] = cp_groups_df.apply(\n",
    "    lambda r: int(r['true_label'] in r['pred_set']),\n",
    "    axis=1\n",
    ")"
   ]
  },
  {
   "cell_type": "code",
   "execution_count": 53,
   "id": "3a261692",
   "metadata": {
    "execution": {
     "iopub.execute_input": "2025-08-19T18:25:23.718837Z",
     "iopub.status.busy": "2025-08-19T18:25:23.717720Z",
     "iopub.status.idle": "2025-08-19T18:25:23.741362Z",
     "shell.execute_reply": "2025-08-19T18:25:23.740155Z"
    },
    "papermill": {
     "duration": 0.044071,
     "end_time": "2025-08-19T18:25:23.745496",
     "exception": false,
     "start_time": "2025-08-19T18:25:23.701425",
     "status": "completed"
    },
    "tags": []
   },
   "outputs": [],
   "source": [
    "subgroups = ['frau1','nongerman','nongerman_male','nongerman_female']\n",
    "\n",
    "# Conditional coverage for subgroup==1\n",
    "cond_coverage = {\n",
    "    g: cp_groups_df.loc[cp_groups_df[g]==1, 'covered'].mean()\n",
    "    for g in subgroups\n",
    "}"
   ]
  },
  {
   "cell_type": "code",
   "execution_count": 54,
   "id": "894fd600",
   "metadata": {
    "execution": {
     "iopub.execute_input": "2025-08-19T18:25:23.781145Z",
     "iopub.status.busy": "2025-08-19T18:25:23.780179Z",
     "iopub.status.idle": "2025-08-19T18:25:23.791040Z",
     "shell.execute_reply": "2025-08-19T18:25:23.789863Z"
    },
    "papermill": {
     "duration": 0.025972,
     "end_time": "2025-08-19T18:25:23.792611",
     "exception": false,
     "start_time": "2025-08-19T18:25:23.766639",
     "status": "completed"
    },
    "tags": []
   },
   "outputs": [
    {
     "data": {
      "text/plain": [
       "{'frau1': 0.9065103113627173,\n",
       " 'nongerman': 0.9110200415426936,\n",
       " 'nongerman_male': 0.927136809871206,\n",
       " 'nongerman_female': 0.8843517138599106}"
      ]
     },
     "execution_count": 54,
     "metadata": {},
     "output_type": "execute_result"
    }
   ],
   "source": [
    "cond_coverage"
   ]
  },
  {
   "cell_type": "code",
   "execution_count": 55,
   "id": "942895c7",
   "metadata": {
    "execution": {
     "iopub.execute_input": "2025-08-19T18:25:23.821571Z",
     "iopub.status.busy": "2025-08-19T18:25:23.820639Z",
     "iopub.status.idle": "2025-08-19T18:25:23.831798Z",
     "shell.execute_reply": "2025-08-19T18:25:23.830655Z"
    },
    "papermill": {
     "duration": 0.025772,
     "end_time": "2025-08-19T18:25:23.833262",
     "exception": false,
     "start_time": "2025-08-19T18:25:23.807490",
     "status": "completed"
    },
    "tags": []
   },
   "outputs": [],
   "source": [
    "for subgroup, cov in cond_coverage.items():\n",
    "    cp_metrics_df[f\"cov_{subgroup}\"] = cov"
   ]
  },
  {
   "cell_type": "code",
   "execution_count": 56,
   "id": "3970120f",
   "metadata": {
    "execution": {
     "iopub.execute_input": "2025-08-19T18:25:23.863284Z",
     "iopub.status.busy": "2025-08-19T18:25:23.861805Z",
     "iopub.status.idle": "2025-08-19T18:25:23.907083Z",
     "shell.execute_reply": "2025-08-19T18:25:23.906023Z"
    },
    "papermill": {
     "duration": 0.060338,
     "end_time": "2025-08-19T18:25:23.908814",
     "exception": false,
     "start_time": "2025-08-19T18:25:23.848476",
     "status": "completed"
    },
    "tags": []
   },
   "outputs": [
    {
     "data": {
      "text/html": [
       "<div>\n",
       "<style scoped>\n",
       "    .dataframe tbody tr th:only-of-type {\n",
       "        vertical-align: middle;\n",
       "    }\n",
       "\n",
       "    .dataframe tbody tr th {\n",
       "        vertical-align: top;\n",
       "    }\n",
       "\n",
       "    .dataframe thead th {\n",
       "        text-align: right;\n",
       "    }\n",
       "</style>\n",
       "<table border=\"1\" class=\"dataframe\">\n",
       "  <thead>\n",
       "    <tr style=\"text-align: right;\">\n",
       "      <th></th>\n",
       "      <th>universe_id</th>\n",
       "      <th>universe_training_year</th>\n",
       "      <th>universe_training_size</th>\n",
       "      <th>universe_scale</th>\n",
       "      <th>universe_model</th>\n",
       "      <th>universe_exclude_features</th>\n",
       "      <th>universe_exclude_subgroups</th>\n",
       "      <th>q_hat</th>\n",
       "      <th>coverage</th>\n",
       "      <th>avg_size</th>\n",
       "      <th>cov_frau1</th>\n",
       "      <th>cov_nongerman</th>\n",
       "      <th>cov_nongerman_male</th>\n",
       "      <th>cov_nongerman_female</th>\n",
       "    </tr>\n",
       "  </thead>\n",
       "  <tbody>\n",
       "    <tr>\n",
       "      <th>0</th>\n",
       "      <td>bdeb970ee3d39ee00fa687752b9924d5</td>\n",
       "      <td>2014</td>\n",
       "      <td>5k</td>\n",
       "      <td>scale</td>\n",
       "      <td>gbm</td>\n",
       "      <td>none</td>\n",
       "      <td>keep-all</td>\n",
       "      <td>0.730476</td>\n",
       "      <td>0.909977</td>\n",
       "      <td>1.126028</td>\n",
       "      <td>0.90651</td>\n",
       "      <td>0.91102</td>\n",
       "      <td>0.927137</td>\n",
       "      <td>0.884352</td>\n",
       "    </tr>\n",
       "  </tbody>\n",
       "</table>\n",
       "</div>"
      ],
      "text/plain": [
       "                        universe_id universe_training_year  \\\n",
       "0  bdeb970ee3d39ee00fa687752b9924d5                   2014   \n",
       "\n",
       "  universe_training_size universe_scale universe_model  \\\n",
       "0                     5k          scale            gbm   \n",
       "\n",
       "  universe_exclude_features universe_exclude_subgroups     q_hat  coverage  \\\n",
       "0                      none                   keep-all  0.730476  0.909977   \n",
       "\n",
       "   avg_size  cov_frau1  cov_nongerman  cov_nongerman_male  \\\n",
       "0  1.126028    0.90651        0.91102            0.927137   \n",
       "\n",
       "   cov_nongerman_female  \n",
       "0              0.884352  "
      ]
     },
     "execution_count": 56,
     "metadata": {},
     "output_type": "execute_result"
    }
   ],
   "source": [
    "cp_metrics_df"
   ]
  },
  {
   "cell_type": "markdown",
   "id": "3fc519cc",
   "metadata": {
    "papermill": {
     "duration": 0.015002,
     "end_time": "2025-08-19T18:25:23.941183",
     "exception": false,
     "start_time": "2025-08-19T18:25:23.926181",
     "status": "completed"
    },
    "tags": []
   },
   "source": [
    "# (Fairness) Metrics"
   ]
  },
  {
   "cell_type": "code",
   "execution_count": 57,
   "id": "a2e5e155",
   "metadata": {
    "execution": {
     "iopub.execute_input": "2025-08-19T18:25:23.973011Z",
     "iopub.status.busy": "2025-08-19T18:25:23.971630Z",
     "iopub.status.idle": "2025-08-19T18:25:24.000759Z",
     "shell.execute_reply": "2025-08-19T18:25:23.999658Z"
    },
    "papermill": {
     "duration": 0.052035,
     "end_time": "2025-08-19T18:25:24.007425",
     "exception": false,
     "start_time": "2025-08-19T18:25:23.955390",
     "status": "completed"
    },
    "tags": []
   },
   "outputs": [],
   "source": [
    "colname_to_bin = \"maxdeutsch1\"\n",
    "majority_value = org_train[colname_to_bin].mode()[0]\n",
    "\n",
    "org_test[\"majmin\"] = np.where(org_test[colname_to_bin] == majority_value, \"majority\", \"minority\")"
   ]
  },
  {
   "cell_type": "code",
   "execution_count": 58,
   "id": "17e3e4d5",
   "metadata": {
    "execution": {
     "iopub.execute_input": "2025-08-19T18:25:24.048039Z",
     "iopub.status.busy": "2025-08-19T18:25:24.047376Z",
     "iopub.status.idle": "2025-08-19T18:25:25.791350Z",
     "shell.execute_reply": "2025-08-19T18:25:25.786104Z"
    },
    "papermill": {
     "duration": 1.763298,
     "end_time": "2025-08-19T18:25:25.795124",
     "exception": false,
     "start_time": "2025-08-19T18:25:24.031826",
     "status": "completed"
    },
    "tags": []
   },
   "outputs": [],
   "source": [
    "example_universe = universe.copy()\n",
    "example_universe[\"cutoff\"] = example_universe[\"cutoff\"][0]\n",
    "example_universe[\"eval_fairness_grouping\"] = example_universe[\"eval_fairness_grouping\"][0]\n",
    "fairness_dict, metric_frame = universe_analysis.compute_metrics(\n",
    "    example_universe,\n",
    "    y_pred_prob=probs_test,\n",
    "    y_test=y_true,\n",
    "    org_test=org_test,\n",
    ")"
   ]
  },
  {
   "cell_type": "markdown",
   "id": "1fb7a0e9",
   "metadata": {
    "papermill": {
     "duration": 0.014355,
     "end_time": "2025-08-19T18:25:25.834431",
     "exception": false,
     "start_time": "2025-08-19T18:25:25.820076",
     "status": "completed"
    },
    "tags": []
   },
   "source": [
    "# Overall"
   ]
  },
  {
   "cell_type": "markdown",
   "id": "be1784b1",
   "metadata": {
    "papermill": {
     "duration": 0.020551,
     "end_time": "2025-08-19T18:25:25.890403",
     "exception": false,
     "start_time": "2025-08-19T18:25:25.869852",
     "status": "completed"
    },
    "tags": []
   },
   "source": [
    "Main fairness target: Equalized Odds. Seems to be a better fit than equal opportunity, since we're not only interested in Y = 1. Seems to be a better fit than demographic parity, since we also care about accuracy, not just equal distribution of preds.\n",
    "\n",
    "Pick column for computation of fairness metrics\n",
    "\n",
    "Performance\n",
    "Overall performance measures, most interesting in relation to the measures split by group below"
   ]
  },
  {
   "cell_type": "code",
   "execution_count": 59,
   "id": "b7672bee",
   "metadata": {
    "execution": {
     "iopub.execute_input": "2025-08-19T18:25:25.917437Z",
     "iopub.status.busy": "2025-08-19T18:25:25.916993Z",
     "iopub.status.idle": "2025-08-19T18:25:25.925348Z",
     "shell.execute_reply": "2025-08-19T18:25:25.924408Z"
    },
    "papermill": {
     "duration": 0.02433,
     "end_time": "2025-08-19T18:25:25.927111",
     "exception": false,
     "start_time": "2025-08-19T18:25:25.902781",
     "status": "completed"
    },
    "tags": []
   },
   "outputs": [
    {
     "data": {
      "text/plain": [
       "accuracy                   0.224735\n",
       "balanced accuracy          0.549433\n",
       "f1                         0.246057\n",
       "precision                  0.140564\n",
       "false positive rate        0.887317\n",
       "false negative rate        0.013816\n",
       "selection rate             0.900000\n",
       "count                  89710.000000\n",
       "dtype: float64"
      ]
     },
     "execution_count": 59,
     "metadata": {},
     "output_type": "execute_result"
    }
   ],
   "source": [
    "metric_frame.overall"
   ]
  },
  {
   "cell_type": "markdown",
   "id": "d93333c9",
   "metadata": {
    "papermill": {
     "duration": 0.012178,
     "end_time": "2025-08-19T18:25:25.953689",
     "exception": false,
     "start_time": "2025-08-19T18:25:25.941511",
     "status": "completed"
    },
    "tags": []
   },
   "source": [
    "By Group"
   ]
  },
  {
   "cell_type": "code",
   "execution_count": 60,
   "id": "52256966",
   "metadata": {
    "execution": {
     "iopub.execute_input": "2025-08-19T18:25:25.979441Z",
     "iopub.status.busy": "2025-08-19T18:25:25.979035Z",
     "iopub.status.idle": "2025-08-19T18:25:25.993125Z",
     "shell.execute_reply": "2025-08-19T18:25:25.992345Z"
    },
    "papermill": {
     "duration": 0.028603,
     "end_time": "2025-08-19T18:25:25.994478",
     "exception": false,
     "start_time": "2025-08-19T18:25:25.965875",
     "status": "completed"
    },
    "tags": []
   },
   "outputs": [
    {
     "data": {
      "text/html": [
       "<div>\n",
       "<style scoped>\n",
       "    .dataframe tbody tr th:only-of-type {\n",
       "        vertical-align: middle;\n",
       "    }\n",
       "\n",
       "    .dataframe tbody tr th {\n",
       "        vertical-align: top;\n",
       "    }\n",
       "\n",
       "    .dataframe thead th {\n",
       "        text-align: right;\n",
       "    }\n",
       "</style>\n",
       "<table border=\"1\" class=\"dataframe\">\n",
       "  <thead>\n",
       "    <tr style=\"text-align: right;\">\n",
       "      <th></th>\n",
       "      <th>accuracy</th>\n",
       "      <th>balanced accuracy</th>\n",
       "      <th>f1</th>\n",
       "      <th>precision</th>\n",
       "      <th>false positive rate</th>\n",
       "      <th>false negative rate</th>\n",
       "      <th>selection rate</th>\n",
       "      <th>count</th>\n",
       "    </tr>\n",
       "    <tr>\n",
       "      <th>majmin</th>\n",
       "      <th></th>\n",
       "      <th></th>\n",
       "      <th></th>\n",
       "      <th></th>\n",
       "      <th></th>\n",
       "      <th></th>\n",
       "      <th></th>\n",
       "      <th></th>\n",
       "    </tr>\n",
       "  </thead>\n",
       "  <tbody>\n",
       "    <tr>\n",
       "      <th>majority</th>\n",
       "      <td>0.247145</td>\n",
       "      <td>0.559349</td>\n",
       "      <td>0.256677</td>\n",
       "      <td>0.147594</td>\n",
       "      <td>0.865001</td>\n",
       "      <td>0.016302</td>\n",
       "      <td>0.880685</td>\n",
       "      <td>69170.0</td>\n",
       "    </tr>\n",
       "    <tr>\n",
       "      <th>minority</th>\n",
       "      <td>0.149270</td>\n",
       "      <td>0.517369</td>\n",
       "      <td>0.212528</td>\n",
       "      <td>0.118959</td>\n",
       "      <td>0.961039</td>\n",
       "      <td>0.004223</td>\n",
       "      <td>0.965044</td>\n",
       "      <td>20540.0</td>\n",
       "    </tr>\n",
       "  </tbody>\n",
       "</table>\n",
       "</div>"
      ],
      "text/plain": [
       "          accuracy  balanced accuracy        f1  precision  \\\n",
       "majmin                                                       \n",
       "majority  0.247145           0.559349  0.256677   0.147594   \n",
       "minority  0.149270           0.517369  0.212528   0.118959   \n",
       "\n",
       "          false positive rate  false negative rate  selection rate    count  \n",
       "majmin                                                                       \n",
       "majority             0.865001             0.016302        0.880685  69170.0  \n",
       "minority             0.961039             0.004223        0.965044  20540.0  "
      ]
     },
     "execution_count": 60,
     "metadata": {},
     "output_type": "execute_result"
    }
   ],
   "source": [
    "metric_frame.by_group"
   ]
  },
  {
   "cell_type": "code",
   "execution_count": 61,
   "id": "6e6c20ae",
   "metadata": {
    "execution": {
     "iopub.execute_input": "2025-08-19T18:25:26.023922Z",
     "iopub.status.busy": "2025-08-19T18:25:26.022878Z",
     "iopub.status.idle": "2025-08-19T18:25:27.880001Z",
     "shell.execute_reply": "2025-08-19T18:25:27.878986Z"
    },
    "papermill": {
     "duration": 1.872517,
     "end_time": "2025-08-19T18:25:27.881451",
     "exception": false,
     "start_time": "2025-08-19T18:25:26.008934",
     "status": "completed"
    },
    "tags": []
   },
   "outputs": [
    {
     "data": {
      "text/plain": [
       "array([[<Axes: title={'center': 'accuracy'}, xlabel='majmin'>,\n",
       "        <Axes: title={'center': 'balanced accuracy'}, xlabel='majmin'>,\n",
       "        <Axes: title={'center': 'f1'}, xlabel='majmin'>],\n",
       "       [<Axes: title={'center': 'precision'}, xlabel='majmin'>,\n",
       "        <Axes: title={'center': 'false positive rate'}, xlabel='majmin'>,\n",
       "        <Axes: title={'center': 'false negative rate'}, xlabel='majmin'>],\n",
       "       [<Axes: title={'center': 'selection rate'}, xlabel='majmin'>,\n",
       "        <Axes: title={'center': 'count'}, xlabel='majmin'>,\n",
       "        <Axes: xlabel='majmin'>]], dtype=object)"
      ]
     },
     "execution_count": 61,
     "metadata": {},
     "output_type": "execute_result"
    },
    {
     "data": {
      "image/png": "[encoded data removed]",
      "text/plain": [
       "<Figure size 1200x800 with 9 Axes>"
      ]
     },
     "metadata": {},
     "output_type": "display_data"
    }
   ],
   "source": [
    "# In a graphic\n",
    "metric_frame.by_group.plot.bar(\n",
    "    subplots=True,\n",
    "    layout=[3, 3],\n",
    "    legend=False,\n",
    "    figsize=[12, 8],\n",
    "    title=\"Show all metrics\",\n",
    ")"
   ]
  },
  {
   "cell_type": "markdown",
   "id": "b2e433ae",
   "metadata": {
    "papermill": {
     "duration": 0.013389,
     "end_time": "2025-08-19T18:25:27.909872",
     "exception": false,
     "start_time": "2025-08-19T18:25:27.896483",
     "status": "completed"
    },
    "tags": []
   },
   "source": [
    "# Final Output"
   ]
  },
  {
   "cell_type": "code",
   "execution_count": 62,
   "id": "3871301e",
   "metadata": {
    "execution": {
     "iopub.execute_input": "2025-08-19T18:25:27.938539Z",
     "iopub.status.busy": "2025-08-19T18:25:27.937725Z",
     "iopub.status.idle": "2025-08-19T18:25:27.947186Z",
     "shell.execute_reply": "2025-08-19T18:25:27.946431Z"
    },
    "papermill": {
     "duration": 0.027779,
     "end_time": "2025-08-19T18:25:27.950914",
     "exception": false,
     "start_time": "2025-08-19T18:25:27.923135",
     "status": "completed"
    },
    "tags": []
   },
   "outputs": [
    {
     "data": {
      "text/plain": [
       "4"
      ]
     },
     "execution_count": 62,
     "metadata": {},
     "output_type": "execute_result"
    }
   ],
   "source": [
    "sub_universes = universe_analysis.generate_sub_universes()\n",
    "len(sub_universes)"
   ]
  },
  {
   "cell_type": "code",
   "execution_count": 63,
   "id": "d9cfdaca",
   "metadata": {
    "execution": {
     "iopub.execute_input": "2025-08-19T18:25:27.995766Z",
     "iopub.status.busy": "2025-08-19T18:25:27.994759Z",
     "iopub.status.idle": "2025-08-19T18:25:28.005701Z",
     "shell.execute_reply": "2025-08-19T18:25:28.004450Z"
    },
    "papermill": {
     "duration": 0.031205,
     "end_time": "2025-08-19T18:25:28.008221",
     "exception": false,
     "start_time": "2025-08-19T18:25:27.977016",
     "status": "completed"
    },
    "tags": []
   },
   "outputs": [],
   "source": [
    "def filter_sub_universe_data(sub_universe, org_test):\n",
    "    # Keep all rows — no filtering\n",
    "    keep_rows_mask = np.ones(org_test.shape[0], dtype=bool)\n",
    "\n",
    "    print(f\"[INFO] Keeping all rows: {keep_rows_mask.sum()} rows retained.\")\n",
    "    return keep_rows_mask"
   ]
  },
  {
   "cell_type": "code",
   "execution_count": 64,
   "id": "2bc31ac1",
   "metadata": {
    "execution": {
     "iopub.execute_input": "2025-08-19T18:25:28.046155Z",
     "iopub.status.busy": "2025-08-19T18:25:28.045110Z",
     "iopub.status.idle": "2025-08-19T18:25:35.318997Z",
     "shell.execute_reply": "2025-08-19T18:25:35.317641Z"
    },
    "papermill": {
     "duration": 7.29279,
     "end_time": "2025-08-19T18:25:35.321927",
     "exception": false,
     "start_time": "2025-08-19T18:25:28.029137",
     "status": "completed"
    },
    "tags": []
   },
   "outputs": [
    {
     "name": "stdout",
     "output_type": "stream",
     "text": [
      "Stopping execution_time clock.\n",
      "[INFO] Keeping all rows: 89710 rows retained.\n"
     ]
    },
    {
     "name": "stdout",
     "output_type": "stream",
     "text": [
      "[INFO] Keeping all rows: 89710 rows retained.\n"
     ]
    },
    {
     "name": "stdout",
     "output_type": "stream",
     "text": [
      "[INFO] Keeping all rows: 89710 rows retained.\n"
     ]
    },
    {
     "name": "stdout",
     "output_type": "stream",
     "text": [
      "[INFO] Keeping all rows: 89710 rows retained.\n"
     ]
    },
    {
     "data": {
      "text/html": [
       "<div>\n",
       "<style scoped>\n",
       "    .dataframe tbody tr th:only-of-type {\n",
       "        vertical-align: middle;\n",
       "    }\n",
       "\n",
       "    .dataframe tbody tr th {\n",
       "        vertical-align: top;\n",
       "    }\n",
       "\n",
       "    .dataframe thead th {\n",
       "        text-align: right;\n",
       "    }\n",
       "</style>\n",
       "<table border=\"1\" class=\"dataframe\">\n",
       "  <thead>\n",
       "    <tr style=\"text-align: right;\">\n",
       "      <th></th>\n",
       "      <th>run_no</th>\n",
       "      <th>universe_id</th>\n",
       "      <th>universe_settings</th>\n",
       "      <th>execution_time</th>\n",
       "      <th>test_size_n</th>\n",
       "      <th>test_size_frac</th>\n",
       "      <th>fair_main_equalized_odds_difference</th>\n",
       "      <th>fair_main_equalized_odds_ratio</th>\n",
       "      <th>fair_main_demographic_parity_difference</th>\n",
       "      <th>fair_main_demographic_parity_ratio</th>\n",
       "      <th>...</th>\n",
       "      <th>perf_grp_precision_0</th>\n",
       "      <th>perf_grp_precision_1</th>\n",
       "      <th>perf_grp_false positive rate_0</th>\n",
       "      <th>perf_grp_false positive rate_1</th>\n",
       "      <th>perf_grp_false negative rate_0</th>\n",
       "      <th>perf_grp_false negative rate_1</th>\n",
       "      <th>perf_grp_selection rate_0</th>\n",
       "      <th>perf_grp_selection rate_1</th>\n",
       "      <th>perf_grp_count_0</th>\n",
       "      <th>perf_grp_count_1</th>\n",
       "    </tr>\n",
       "  </thead>\n",
       "  <tbody>\n",
       "    <tr>\n",
       "      <th>0</th>\n",
       "      <td>3</td>\n",
       "      <td>bdeb970ee3d39ee00fa687752b9924d5</td>\n",
       "      <td>{\"cutoff\": \"quantile_0.1\", \"eval_fairness_grou...</td>\n",
       "      <td>27.02347</td>\n",
       "      <td>89710</td>\n",
       "      <td>1.0</td>\n",
       "      <td>0.096038</td>\n",
       "      <td>0.900068</td>\n",
       "      <td>0.084359</td>\n",
       "      <td>0.912586</td>\n",
       "      <td>...</td>\n",
       "      <td>NaN</td>\n",
       "      <td>NaN</td>\n",
       "      <td>NaN</td>\n",
       "      <td>NaN</td>\n",
       "      <td>NaN</td>\n",
       "      <td>NaN</td>\n",
       "      <td>NaN</td>\n",
       "      <td>NaN</td>\n",
       "      <td>NaN</td>\n",
       "      <td>NaN</td>\n",
       "    </tr>\n",
       "    <tr>\n",
       "      <th>0</th>\n",
       "      <td>3</td>\n",
       "      <td>bdeb970ee3d39ee00fa687752b9924d5</td>\n",
       "      <td>{\"cutoff\": \"quantile_0.1\", \"eval_fairness_grou...</td>\n",
       "      <td>27.02347</td>\n",
       "      <td>89710</td>\n",
       "      <td>1.0</td>\n",
       "      <td>0.096038</td>\n",
       "      <td>0.900068</td>\n",
       "      <td>0.084359</td>\n",
       "      <td>0.912586</td>\n",
       "      <td>...</td>\n",
       "      <td>0.118959</td>\n",
       "      <td>0.147594</td>\n",
       "      <td>0.961039</td>\n",
       "      <td>0.865001</td>\n",
       "      <td>0.004223</td>\n",
       "      <td>0.016302</td>\n",
       "      <td>0.965044</td>\n",
       "      <td>0.880685</td>\n",
       "      <td>20540.0</td>\n",
       "      <td>69170.0</td>\n",
       "    </tr>\n",
       "    <tr>\n",
       "      <th>0</th>\n",
       "      <td>3</td>\n",
       "      <td>bdeb970ee3d39ee00fa687752b9924d5</td>\n",
       "      <td>{\"cutoff\": \"quantile_0.25\", \"eval_fairness_gro...</td>\n",
       "      <td>27.02347</td>\n",
       "      <td>89710</td>\n",
       "      <td>1.0</td>\n",
       "      <td>0.071404</td>\n",
       "      <td>0.908060</td>\n",
       "      <td>0.057972</td>\n",
       "      <td>0.927051</td>\n",
       "      <td>...</td>\n",
       "      <td>NaN</td>\n",
       "      <td>NaN</td>\n",
       "      <td>NaN</td>\n",
       "      <td>NaN</td>\n",
       "      <td>NaN</td>\n",
       "      <td>NaN</td>\n",
       "      <td>NaN</td>\n",
       "      <td>NaN</td>\n",
       "      <td>NaN</td>\n",
       "      <td>NaN</td>\n",
       "    </tr>\n",
       "    <tr>\n",
       "      <th>0</th>\n",
       "      <td>3</td>\n",
       "      <td>bdeb970ee3d39ee00fa687752b9924d5</td>\n",
       "      <td>{\"cutoff\": \"quantile_0.25\", \"eval_fairness_gro...</td>\n",
       "      <td>27.02347</td>\n",
       "      <td>89710</td>\n",
       "      <td>1.0</td>\n",
       "      <td>0.071404</td>\n",
       "      <td>0.908060</td>\n",
       "      <td>0.057972</td>\n",
       "      <td>0.927051</td>\n",
       "      <td>...</td>\n",
       "      <td>0.135392</td>\n",
       "      <td>0.169234</td>\n",
       "      <td>0.776634</td>\n",
       "      <td>0.705231</td>\n",
       "      <td>0.066723</td>\n",
       "      <td>0.056455</td>\n",
       "      <td>0.794693</td>\n",
       "      <td>0.736721</td>\n",
       "      <td>20540.0</td>\n",
       "      <td>69170.0</td>\n",
       "    </tr>\n",
       "  </tbody>\n",
       "</table>\n",
       "<p>4 rows × 50 columns</p>\n",
       "</div>"
      ],
      "text/plain": [
       "  run_no                       universe_id  \\\n",
       "0      3  bdeb970ee3d39ee00fa687752b9924d5   \n",
       "0      3  bdeb970ee3d39ee00fa687752b9924d5   \n",
       "0      3  bdeb970ee3d39ee00fa687752b9924d5   \n",
       "0      3  bdeb970ee3d39ee00fa687752b9924d5   \n",
       "\n",
       "                                   universe_settings  execution_time  \\\n",
       "0  {\"cutoff\": \"quantile_0.1\", \"eval_fairness_grou...        27.02347   \n",
       "0  {\"cutoff\": \"quantile_0.1\", \"eval_fairness_grou...        27.02347   \n",
       "0  {\"cutoff\": \"quantile_0.25\", \"eval_fairness_gro...        27.02347   \n",
       "0  {\"cutoff\": \"quantile_0.25\", \"eval_fairness_gro...        27.02347   \n",
       "\n",
       "   test_size_n  test_size_frac  fair_main_equalized_odds_difference  \\\n",
       "0        89710             1.0                             0.096038   \n",
       "0        89710             1.0                             0.096038   \n",
       "0        89710             1.0                             0.071404   \n",
       "0        89710             1.0                             0.071404   \n",
       "\n",
       "   fair_main_equalized_odds_ratio  fair_main_demographic_parity_difference  \\\n",
       "0                        0.900068                                 0.084359   \n",
       "0                        0.900068                                 0.084359   \n",
       "0                        0.908060                                 0.057972   \n",
       "0                        0.908060                                 0.057972   \n",
       "\n",
       "   fair_main_demographic_parity_ratio  ...  perf_grp_precision_0  \\\n",
       "0                            0.912586  ...                   NaN   \n",
       "0                            0.912586  ...              0.118959   \n",
       "0                            0.927051  ...                   NaN   \n",
       "0                            0.927051  ...              0.135392   \n",
       "\n",
       "   perf_grp_precision_1  perf_grp_false positive rate_0  \\\n",
       "0                   NaN                             NaN   \n",
       "0              0.147594                        0.961039   \n",
       "0                   NaN                             NaN   \n",
       "0              0.169234                        0.776634   \n",
       "\n",
       "   perf_grp_false positive rate_1  perf_grp_false negative rate_0  \\\n",
       "0                             NaN                             NaN   \n",
       "0                        0.865001                        0.004223   \n",
       "0                             NaN                             NaN   \n",
       "0                        0.705231                        0.066723   \n",
       "\n",
       "   perf_grp_false negative rate_1  perf_grp_selection rate_0  \\\n",
       "0                             NaN                        NaN   \n",
       "0                        0.016302                   0.965044   \n",
       "0                             NaN                        NaN   \n",
       "0                        0.056455                   0.794693   \n",
       "\n",
       "   perf_grp_selection rate_1  perf_grp_count_0  perf_grp_count_1  \n",
       "0                        NaN               NaN               NaN  \n",
       "0                   0.880685           20540.0           69170.0  \n",
       "0                        NaN               NaN               NaN  \n",
       "0                   0.736721           20540.0           69170.0  \n",
       "\n",
       "[4 rows x 50 columns]"
      ]
     },
     "execution_count": 64,
     "metadata": {},
     "output_type": "execute_result"
    }
   ],
   "source": [
    "final_output = universe_analysis.generate_final_output(\n",
    "    y_pred_prob=probs_test,\n",
    "    y_test=y_true,\n",
    "    org_test=org_test,\n",
    "    filter_data=filter_sub_universe_data,\n",
    "    cp_metrics_df=cp_metrics_df,\n",
    "    save=True,\n",
    ")\n",
    "final_output"
   ]
  },
  {
   "cell_type": "code",
   "execution_count": null,
   "id": "8b80a1ff",
   "metadata": {
    "papermill": {
     "duration": 0.019716,
     "end_time": "2025-08-19T18:25:35.372832",
     "exception": false,
     "start_time": "2025-08-19T18:25:35.353116",
     "status": "completed"
    },
    "tags": []
   },
   "outputs": [],
   "source": []
  },
  {
   "cell_type": "code",
   "execution_count": null,
   "id": "275c9fad",
   "metadata": {
    "papermill": {
     "duration": 0.014378,
     "end_time": "2025-08-19T18:25:35.409264",
     "exception": false,
     "start_time": "2025-08-19T18:25:35.394886",
     "status": "completed"
    },
    "tags": []
   },
   "outputs": [],
   "source": []
  }
 ],
 "metadata": {
  "celltoolbar": "Tags",
  "kernelspec": {
   "display_name": "Python (CMA Fairness)",
   "language": "python",
   "name": "cma_fair_env"
  },
  "language_info": {
   "codemirror_mode": {
    "name": "ipython",
    "version": 3
   },
   "file_extension": ".py",
   "mimetype": "text/x-python",
   "name": "python",
   "nbconvert_exporter": "python",
   "pygments_lexer": "ipython3",
   "version": "3.10.12"
  },
  "papermill": {
   "default_parameters": {},
   "duration": 38.241887,
   "end_time": "2025-08-19T18:25:36.452956",
   "environment_variables": {},
   "exception": null,
   "input_path": "universe_analysis.ipynb",
   "output_path": "output/runs/3/notebooks/m_3-bdeb970ee3d39ee00fa687752b9924d5.ipynb",
   "parameters": {
    "output_dir": "output",
    "run_no": "3",
    "seed": "2023",
    "universe": "{\"cutoff\": [\"quantile_0.1\", \"quantile_0.25\"], \"eval_fairness_grouping\": [\"majority-minority\", \"nationality-all\"], \"exclude_features\": \"none\", \"exclude_subgroups\": \"keep-all\", \"model\": \"gbm\", \"scale\": \"scale\", \"training_size\": \"5k\", \"training_year\": \"2014\"}",
    "universe_id": "bdeb970ee3d39ee00fa687752b9924d5"
   },
   "start_time": "2025-08-19T18:24:58.211069",
   "version": "2.6.0"
  }
 },
 "nbformat": 4,
 "nbformat_minor": 5
}