{
 "cells": [
  {
   "cell_type": "markdown",
   "id": "ef23dbb3",
   "metadata": {
    "papermill": {
     "duration": 0.023186,
     "end_time": "2025-08-19T18:33:48.043634",
     "exception": false,
     "start_time": "2025-08-19T18:33:48.020448",
     "status": "completed"
    },
    "tags": []
   },
   "source": [
    "# Setup"
   ]
  },
  {
   "cell_type": "code",
   "execution_count": 1,
   "id": "0bc8e7dc",
   "metadata": {
    "execution": {
     "iopub.execute_input": "2025-08-19T18:33:48.070037Z",
     "iopub.status.busy": "2025-08-19T18:33:48.068953Z",
     "iopub.status.idle": "2025-08-19T18:33:48.089715Z",
     "shell.execute_reply": "2025-08-19T18:33:48.088559Z"
    },
    "papermill": {
     "duration": 0.034322,
     "end_time": "2025-08-19T18:33:48.092416",
     "exception": false,
     "start_time": "2025-08-19T18:33:48.058094",
     "status": "completed"
    },
    "tags": []
   },
   "outputs": [
    {
     "name": "stdout",
     "output_type": "stream",
     "text": [
      "/dss/dsshome1/0C/ra93lal2/cma/CMA_Fairness_v2\n"
     ]
    },
    {
     "name": "stderr",
     "output_type": "stream",
     "text": [
      "/dss/dsshome1/0C/ra93lal2/.local/share/virtualenvs/CMA_Fairness_v2-3j10GkSs/lib/python3.10/site-packages/IPython/core/magics/osm.py:393: UserWarning: This is now an optional IPython functionality, using bookmarks requires you to install the `pickleshare` library.\n",
      "  bkms = self.shell.db.get('bookmarks', {})\n",
      "/dss/dsshome1/0C/ra93lal2/.local/share/virtualenvs/CMA_Fairness_v2-3j10GkSs/lib/python3.10/site-packages/IPython/core/magics/osm.py:417: UserWarning: This is now an optional IPython functionality, setting dhist requires you to install the `pickleshare` library.\n",
      "  self.shell.db['dhist'] = compress_dhist(dhist)[-100:]\n"
     ]
    }
   ],
   "source": [
    "%cd ~/cma/CMA_Fairness_v2"
   ]
  },
  {
   "cell_type": "markdown",
   "id": "9d235661",
   "metadata": {
    "papermill": {
     "duration": 0.01019,
     "end_time": "2025-08-19T18:33:48.123259",
     "exception": false,
     "start_time": "2025-08-19T18:33:48.113069",
     "status": "completed"
    },
    "tags": []
   },
   "source": [
    "The following cell holds the definition of our parameters, these values can be overriden by rendering the with e.g. the following command:\n",
    "\n",
    "papermill -p alpha 0.2 -p ratio 0.3 universe_analysis.ipynb output/test_run.ipynb"
   ]
  },
  {
   "cell_type": "code",
   "execution_count": 2,
   "id": "4a789d8e",
   "metadata": {
    "execution": {
     "iopub.execute_input": "2025-08-19T18:33:48.145492Z",
     "iopub.status.busy": "2025-08-19T18:33:48.145153Z",
     "iopub.status.idle": "2025-08-19T18:33:48.150501Z",
     "shell.execute_reply": "2025-08-19T18:33:48.149542Z"
    },
    "papermill": {
     "duration": 0.018102,
     "end_time": "2025-08-19T18:33:48.153259",
     "exception": false,
     "start_time": "2025-08-19T18:33:48.135157",
     "status": "completed"
    },
    "tags": []
   },
   "outputs": [
    {
     "name": "stdout",
     "output_type": "stream",
     "text": [
      "Current working directory: /dss/dsshome1/0C/ra93lal2/cma/CMA_Fairness_v2\n"
     ]
    }
   ],
   "source": [
    "import os\n",
    "print(\"Current working directory:\", os.getcwd())"
   ]
  },
  {
   "cell_type": "code",
   "execution_count": 3,
   "id": "4132aaed",
   "metadata": {
    "execution": {
     "iopub.execute_input": "2025-08-19T18:33:48.177499Z",
     "iopub.status.busy": "2025-08-19T18:33:48.177056Z",
     "iopub.status.idle": "2025-08-19T18:33:48.185283Z",
     "shell.execute_reply": "2025-08-19T18:33:48.183413Z"
    },
    "papermill": {
     "duration": 0.023351,
     "end_time": "2025-08-19T18:33:48.186808",
     "exception": false,
     "start_time": "2025-08-19T18:33:48.163457",
     "status": "completed"
    },
    "tags": [
     "parameters"
    ]
   },
   "outputs": [],
   "source": [
    "run_no = 0\n",
    "universe_id = \"test\"\n",
    "universe = {\n",
    "    \"training_size\": \"5k\", # \"25k\", \"5k\", \"1k\"\n",
    "    \"training_year\": \"2012_14\", # \"2014\", \"2012_14\", \"2010_14\"\n",
    "    \"scale\": \"scale\", # \"scale\", \"do-not-scale\",\n",
    "    \"model\": \"elasticnet\", # \"logreg\", \"penalized_logreg\", \"rf\", \"gbm\", \"elasticnet\"\n",
    "    \"cutoff\": [\"quantile_0.15\", \"quantile_0.30\"],\n",
    "    \"exclude_features\": \"age\", # \"none\", \"nationality\", \"sex\", \"nationality-sex\", \"age\"\n",
    "    \"exclude_subgroups\": \"drop-non-german\", # \"keep-all\", \"drop-non-german\"\n",
    "    \"eval_fairness_grouping\": [\"majority-minority\", \"nationality-all\"]\n",
    "}\n",
    "\n",
    "output_dir=\"./output\"\n",
    "seed=0"
   ]
  },
  {
   "cell_type": "code",
   "execution_count": 4,
   "id": "2d90ecce",
   "metadata": {
    "execution": {
     "iopub.execute_input": "2025-08-19T18:33:48.209354Z",
     "iopub.status.busy": "2025-08-19T18:33:48.208984Z",
     "iopub.status.idle": "2025-08-19T18:33:48.213137Z",
     "shell.execute_reply": "2025-08-19T18:33:48.212332Z"
    },
    "papermill": {
     "duration": 0.015775,
     "end_time": "2025-08-19T18:33:48.214565",
     "exception": false,
     "start_time": "2025-08-19T18:33:48.198790",
     "status": "completed"
    },
    "tags": [
     "injected-parameters"
    ]
   },
   "outputs": [],
   "source": [
    "# Parameters\n",
    "universe_id = \"cec8bf8b5ee7d9a03eab2fa29d6f898a\"\n",
    "run_no = \"3\"\n",
    "universe = \"{\\\"cutoff\\\": [\\\"quantile_0.1\\\", \\\"quantile_0.25\\\"], \\\"eval_fairness_grouping\\\": [\\\"majority-minority\\\", \\\"nationality-all\\\"], \\\"exclude_features\\\": \\\"sex\\\", \\\"exclude_subgroups\\\": \\\"keep-all\\\", \\\"model\\\": \\\"gbm\\\", \\\"scale\\\": \\\"scale\\\", \\\"training_size\\\": \\\"5k\\\", \\\"training_year\\\": \\\"2012_14\\\"}\"\n",
    "output_dir = \"output\"\n",
    "seed = \"2023\"\n"
   ]
  },
  {
   "cell_type": "code",
   "execution_count": 5,
   "id": "a5d7941f",
   "metadata": {
    "execution": {
     "iopub.execute_input": "2025-08-19T18:33:48.237731Z",
     "iopub.status.busy": "2025-08-19T18:33:48.236974Z",
     "iopub.status.idle": "2025-08-19T18:33:48.242459Z",
     "shell.execute_reply": "2025-08-19T18:33:48.241255Z"
    },
    "papermill": {
     "duration": 0.018198,
     "end_time": "2025-08-19T18:33:48.243977",
     "exception": false,
     "start_time": "2025-08-19T18:33:48.225779",
     "status": "completed"
    },
    "tags": []
   },
   "outputs": [],
   "source": [
    "import json\n",
    "if isinstance(universe, str):\n",
    "    universe = json.loads(universe)"
   ]
  },
  {
   "cell_type": "code",
   "execution_count": 6,
   "id": "7076ccb1",
   "metadata": {
    "execution": {
     "iopub.execute_input": "2025-08-19T18:33:48.282663Z",
     "iopub.status.busy": "2025-08-19T18:33:48.282099Z",
     "iopub.status.idle": "2025-08-19T18:33:48.332097Z",
     "shell.execute_reply": "2025-08-19T18:33:48.331164Z"
    },
    "papermill": {
     "duration": 0.079487,
     "end_time": "2025-08-19T18:33:48.333785",
     "exception": false,
     "start_time": "2025-08-19T18:33:48.254298",
     "status": "completed"
    },
    "tags": []
   },
   "outputs": [],
   "source": [
    "# Auto-reload the custom package\n",
    "%load_ext autoreload\n",
    "%autoreload 1\n",
    "%aimport fairness_multiverse"
   ]
  },
  {
   "cell_type": "code",
   "execution_count": 7,
   "id": "94c8eb93",
   "metadata": {
    "execution": {
     "iopub.execute_input": "2025-08-19T18:33:48.357747Z",
     "iopub.status.busy": "2025-08-19T18:33:48.357255Z",
     "iopub.status.idle": "2025-08-19T18:33:50.035259Z",
     "shell.execute_reply": "2025-08-19T18:33:50.033831Z"
    },
    "papermill": {
     "duration": 1.691771,
     "end_time": "2025-08-19T18:33:50.037721",
     "exception": false,
     "start_time": "2025-08-19T18:33:48.345950",
     "status": "completed"
    },
    "tags": []
   },
   "outputs": [],
   "source": [
    "from fairness_multiverse.universe import UniverseAnalysis\n",
    "\n",
    "universe_analysis = UniverseAnalysis(\n",
    "    run_no = run_no,\n",
    "    universe_id = universe_id,\n",
    "    universe = universe,\n",
    "    output_dir=output_dir,\n",
    ")"
   ]
  },
  {
   "cell_type": "code",
   "execution_count": 8,
   "id": "2a6381cf",
   "metadata": {
    "execution": {
     "iopub.execute_input": "2025-08-19T18:33:50.074808Z",
     "iopub.status.busy": "2025-08-19T18:33:50.074027Z",
     "iopub.status.idle": "2025-08-19T18:33:50.087000Z",
     "shell.execute_reply": "2025-08-19T18:33:50.085851Z"
    },
    "papermill": {
     "duration": 0.031488,
     "end_time": "2025-08-19T18:33:50.088681",
     "exception": false,
     "start_time": "2025-08-19T18:33:50.057193",
     "status": "completed"
    },
    "tags": []
   },
   "outputs": [
    {
     "name": "stdout",
     "output_type": "stream",
     "text": [
      "Using Seed: 2023\n"
     ]
    }
   ],
   "source": [
    "import numpy as np\n",
    "parsed_seed = int(seed)\n",
    "np.random.seed(parsed_seed)\n",
    "print(f\"Using Seed: {parsed_seed}\")"
   ]
  },
  {
   "cell_type": "markdown",
   "id": "b6e958b4",
   "metadata": {
    "papermill": {
     "duration": 0.011779,
     "end_time": "2025-08-19T18:33:50.127002",
     "exception": false,
     "start_time": "2025-08-19T18:33:50.115223",
     "status": "completed"
    },
    "tags": []
   },
   "source": [
    "# Loading Data"
   ]
  },
  {
   "cell_type": "code",
   "execution_count": 9,
   "id": "98701482",
   "metadata": {
    "execution": {
     "iopub.execute_input": "2025-08-19T18:33:50.155406Z",
     "iopub.status.busy": "2025-08-19T18:33:50.154186Z",
     "iopub.status.idle": "2025-08-19T18:33:59.983786Z",
     "shell.execute_reply": "2025-08-19T18:33:59.983110Z"
    },
    "papermill": {
     "duration": 9.8485,
     "end_time": "2025-08-19T18:33:59.984923",
     "exception": false,
     "start_time": "2025-08-19T18:33:50.136423",
     "status": "completed"
    },
    "tags": []
   },
   "outputs": [
    {
     "name": "stdout",
     "output_type": "stream",
     "text": [
      "Loading SIAB data from cache: data/siab_cached.csv.gz\n"
     ]
    },
    {
     "name": "stdout",
     "output_type": "stream",
     "text": [
      "(643690, 164)\n"
     ]
    }
   ],
   "source": [
    "from pathlib import Path\n",
    "import pandas as pd\n",
    "\n",
    "# File paths\n",
    "raw_file = Path(\"data/raw/siab.csv\")\n",
    "cache_file = Path(\"data/siab_cached.csv.gz\")\n",
    "\n",
    "# Ensure cache directory exists\n",
    "cache_file.parent.mkdir(parents=True, exist_ok=True)\n",
    "\n",
    "# Load with simple caching\n",
    "if cache_file.exists():\n",
    "    print(f\"Loading SIAB data from cache: {cache_file}\")\n",
    "    siab = pd.read_csv(cache_file, compression='gzip')\n",
    "else:\n",
    "    print(f\"Cache not found. Reading raw SIAB data: {raw_file}\")\n",
    "    siab = pd.read_csv(raw_file)\n",
    "    siab.to_csv(cache_file, index=False, compression='gzip')\n",
    "    print(f\"Cached SIAB data to: {cache_file}\")\n",
    "\n",
    "print(siab.shape)"
   ]
  },
  {
   "cell_type": "code",
   "execution_count": 10,
   "id": "058d2abb",
   "metadata": {
    "execution": {
     "iopub.execute_input": "2025-08-19T18:34:00.010185Z",
     "iopub.status.busy": "2025-08-19T18:34:00.009304Z",
     "iopub.status.idle": "2025-08-19T18:34:00.135769Z",
     "shell.execute_reply": "2025-08-19T18:34:00.135026Z"
    },
    "papermill": {
     "duration": 0.138747,
     "end_time": "2025-08-19T18:34:00.137045",
     "exception": false,
     "start_time": "2025-08-19T18:33:59.998298",
     "status": "completed"
    },
    "tags": []
   },
   "outputs": [
    {
     "data": {
      "text/html": [
       "<div>\n",
       "<style scoped>\n",
       "    .dataframe tbody tr th:only-of-type {\n",
       "        vertical-align: middle;\n",
       "    }\n",
       "\n",
       "    .dataframe tbody tr th {\n",
       "        vertical-align: top;\n",
       "    }\n",
       "\n",
       "    .dataframe thead th {\n",
       "        text-align: right;\n",
       "    }\n",
       "</style>\n",
       "<table border=\"1\" class=\"dataframe\">\n",
       "  <thead>\n",
       "    <tr style=\"text-align: right;\">\n",
       "      <th></th>\n",
       "      <th>persnr</th>\n",
       "      <th>year</th>\n",
       "      <th>nrEntry</th>\n",
       "      <th>ltue</th>\n",
       "      <th>employed_before</th>\n",
       "      <th>receipt_leh_before</th>\n",
       "      <th>receipt_lhg_before</th>\n",
       "      <th>se_before</th>\n",
       "      <th>ASU_notue_seeking_before</th>\n",
       "      <th>ASU_other_before</th>\n",
       "      <th>...</th>\n",
       "      <th>minijob_tot_dur_byage</th>\n",
       "      <th>ft_tot_dur_byage</th>\n",
       "      <th>befrist_tot_dur_byage</th>\n",
       "      <th>leih_tot_dur_byage</th>\n",
       "      <th>LHG_tot_dur_byage</th>\n",
       "      <th>LEH_tot_dur_byage</th>\n",
       "      <th>almp_tot_dur_byage</th>\n",
       "      <th>almp_aw_tot_dur_byage</th>\n",
       "      <th>se_tot_dur_byage</th>\n",
       "      <th>seeking1_tot_dur_byage</th>\n",
       "    </tr>\n",
       "  </thead>\n",
       "  <tbody>\n",
       "    <tr>\n",
       "      <th>0</th>\n",
       "      <td>7</td>\n",
       "      <td>2015</td>\n",
       "      <td>1</td>\n",
       "      <td>0</td>\n",
       "      <td>1</td>\n",
       "      <td>0</td>\n",
       "      <td>0</td>\n",
       "      <td>0</td>\n",
       "      <td>1</td>\n",
       "      <td>0</td>\n",
       "      <td>...</td>\n",
       "      <td>0.000000</td>\n",
       "      <td>0.000000</td>\n",
       "      <td>15.043478</td>\n",
       "      <td>0.000000</td>\n",
       "      <td>0.000000</td>\n",
       "      <td>0.000000</td>\n",
       "      <td>0.000000</td>\n",
       "      <td>0.000000</td>\n",
       "      <td>0.000000</td>\n",
       "      <td>0.000000</td>\n",
       "    </tr>\n",
       "    <tr>\n",
       "      <th>1</th>\n",
       "      <td>18</td>\n",
       "      <td>2010</td>\n",
       "      <td>1</td>\n",
       "      <td>1</td>\n",
       "      <td>0</td>\n",
       "      <td>0</td>\n",
       "      <td>0</td>\n",
       "      <td>0</td>\n",
       "      <td>0</td>\n",
       "      <td>0</td>\n",
       "      <td>...</td>\n",
       "      <td>0.000000</td>\n",
       "      <td>0.000000</td>\n",
       "      <td>0.000000</td>\n",
       "      <td>0.000000</td>\n",
       "      <td>0.000000</td>\n",
       "      <td>0.000000</td>\n",
       "      <td>0.000000</td>\n",
       "      <td>0.000000</td>\n",
       "      <td>0.000000</td>\n",
       "      <td>0.000000</td>\n",
       "    </tr>\n",
       "    <tr>\n",
       "      <th>2</th>\n",
       "      <td>18</td>\n",
       "      <td>2011</td>\n",
       "      <td>2</td>\n",
       "      <td>0</td>\n",
       "      <td>1</td>\n",
       "      <td>0</td>\n",
       "      <td>1</td>\n",
       "      <td>0</td>\n",
       "      <td>1</td>\n",
       "      <td>0</td>\n",
       "      <td>...</td>\n",
       "      <td>2.714286</td>\n",
       "      <td>2.714286</td>\n",
       "      <td>0.000000</td>\n",
       "      <td>0.000000</td>\n",
       "      <td>10.775510</td>\n",
       "      <td>0.000000</td>\n",
       "      <td>8.367347</td>\n",
       "      <td>0.000000</td>\n",
       "      <td>0.000000</td>\n",
       "      <td>9.836735</td>\n",
       "    </tr>\n",
       "    <tr>\n",
       "      <th>3</th>\n",
       "      <td>18</td>\n",
       "      <td>2012</td>\n",
       "      <td>3</td>\n",
       "      <td>0</td>\n",
       "      <td>1</td>\n",
       "      <td>0</td>\n",
       "      <td>1</td>\n",
       "      <td>0</td>\n",
       "      <td>1</td>\n",
       "      <td>0</td>\n",
       "      <td>...</td>\n",
       "      <td>4.200000</td>\n",
       "      <td>4.200000</td>\n",
       "      <td>0.000000</td>\n",
       "      <td>0.000000</td>\n",
       "      <td>12.100000</td>\n",
       "      <td>0.000000</td>\n",
       "      <td>9.400000</td>\n",
       "      <td>0.000000</td>\n",
       "      <td>0.000000</td>\n",
       "      <td>9.960000</td>\n",
       "    </tr>\n",
       "    <tr>\n",
       "      <th>4</th>\n",
       "      <td>18</td>\n",
       "      <td>2012</td>\n",
       "      <td>4</td>\n",
       "      <td>0</td>\n",
       "      <td>1</td>\n",
       "      <td>0</td>\n",
       "      <td>1</td>\n",
       "      <td>0</td>\n",
       "      <td>1</td>\n",
       "      <td>0</td>\n",
       "      <td>...</td>\n",
       "      <td>5.460000</td>\n",
       "      <td>5.460000</td>\n",
       "      <td>0.000000</td>\n",
       "      <td>0.000000</td>\n",
       "      <td>13.360000</td>\n",
       "      <td>0.000000</td>\n",
       "      <td>10.320000</td>\n",
       "      <td>0.000000</td>\n",
       "      <td>0.000000</td>\n",
       "      <td>10.280000</td>\n",
       "    </tr>\n",
       "    <tr>\n",
       "      <th>...</th>\n",
       "      <td>...</td>\n",
       "      <td>...</td>\n",
       "      <td>...</td>\n",
       "      <td>...</td>\n",
       "      <td>...</td>\n",
       "      <td>...</td>\n",
       "      <td>...</td>\n",
       "      <td>...</td>\n",
       "      <td>...</td>\n",
       "      <td>...</td>\n",
       "      <td>...</td>\n",
       "      <td>...</td>\n",
       "      <td>...</td>\n",
       "      <td>...</td>\n",
       "      <td>...</td>\n",
       "      <td>...</td>\n",
       "      <td>...</td>\n",
       "      <td>...</td>\n",
       "      <td>...</td>\n",
       "      <td>...</td>\n",
       "      <td>...</td>\n",
       "    </tr>\n",
       "    <tr>\n",
       "      <th>643685</th>\n",
       "      <td>1827860</td>\n",
       "      <td>2013</td>\n",
       "      <td>1</td>\n",
       "      <td>0</td>\n",
       "      <td>0</td>\n",
       "      <td>0</td>\n",
       "      <td>1</td>\n",
       "      <td>0</td>\n",
       "      <td>0</td>\n",
       "      <td>1</td>\n",
       "      <td>...</td>\n",
       "      <td>0.000000</td>\n",
       "      <td>0.000000</td>\n",
       "      <td>0.000000</td>\n",
       "      <td>0.000000</td>\n",
       "      <td>0.612903</td>\n",
       "      <td>0.000000</td>\n",
       "      <td>0.000000</td>\n",
       "      <td>0.000000</td>\n",
       "      <td>0.000000</td>\n",
       "      <td>0.000000</td>\n",
       "    </tr>\n",
       "    <tr>\n",
       "      <th>643686</th>\n",
       "      <td>1827860</td>\n",
       "      <td>2015</td>\n",
       "      <td>2</td>\n",
       "      <td>1</td>\n",
       "      <td>0</td>\n",
       "      <td>0</td>\n",
       "      <td>1</td>\n",
       "      <td>0</td>\n",
       "      <td>1</td>\n",
       "      <td>0</td>\n",
       "      <td>...</td>\n",
       "      <td>0.000000</td>\n",
       "      <td>0.000000</td>\n",
       "      <td>0.212121</td>\n",
       "      <td>0.212121</td>\n",
       "      <td>17.363636</td>\n",
       "      <td>0.000000</td>\n",
       "      <td>8.909091</td>\n",
       "      <td>0.000000</td>\n",
       "      <td>0.000000</td>\n",
       "      <td>7.121212</td>\n",
       "    </tr>\n",
       "    <tr>\n",
       "      <th>643687</th>\n",
       "      <td>1827860</td>\n",
       "      <td>2016</td>\n",
       "      <td>3</td>\n",
       "      <td>1</td>\n",
       "      <td>0</td>\n",
       "      <td>0</td>\n",
       "      <td>1</td>\n",
       "      <td>1</td>\n",
       "      <td>0</td>\n",
       "      <td>1</td>\n",
       "      <td>...</td>\n",
       "      <td>0.000000</td>\n",
       "      <td>0.000000</td>\n",
       "      <td>0.294118</td>\n",
       "      <td>0.205882</td>\n",
       "      <td>34.705882</td>\n",
       "      <td>0.000000</td>\n",
       "      <td>10.352941</td>\n",
       "      <td>1.705882</td>\n",
       "      <td>1.705882</td>\n",
       "      <td>23.911765</td>\n",
       "    </tr>\n",
       "    <tr>\n",
       "      <th>643688</th>\n",
       "      <td>1827869</td>\n",
       "      <td>2013</td>\n",
       "      <td>1</td>\n",
       "      <td>1</td>\n",
       "      <td>1</td>\n",
       "      <td>0</td>\n",
       "      <td>0</td>\n",
       "      <td>0</td>\n",
       "      <td>1</td>\n",
       "      <td>0</td>\n",
       "      <td>...</td>\n",
       "      <td>0.000000</td>\n",
       "      <td>0.000000</td>\n",
       "      <td>0.000000</td>\n",
       "      <td>0.000000</td>\n",
       "      <td>0.000000</td>\n",
       "      <td>0.525424</td>\n",
       "      <td>0.000000</td>\n",
       "      <td>0.000000</td>\n",
       "      <td>0.000000</td>\n",
       "      <td>0.000000</td>\n",
       "    </tr>\n",
       "    <tr>\n",
       "      <th>643689</th>\n",
       "      <td>1827869</td>\n",
       "      <td>2014</td>\n",
       "      <td>2</td>\n",
       "      <td>0</td>\n",
       "      <td>0</td>\n",
       "      <td>1</td>\n",
       "      <td>0</td>\n",
       "      <td>0</td>\n",
       "      <td>1</td>\n",
       "      <td>0</td>\n",
       "      <td>...</td>\n",
       "      <td>0.000000</td>\n",
       "      <td>0.666667</td>\n",
       "      <td>0.666667</td>\n",
       "      <td>0.000000</td>\n",
       "      <td>0.000000</td>\n",
       "      <td>8.950000</td>\n",
       "      <td>1.033333</td>\n",
       "      <td>0.083333</td>\n",
       "      <td>0.083333</td>\n",
       "      <td>8.133333</td>\n",
       "    </tr>\n",
       "  </tbody>\n",
       "</table>\n",
       "<p>643690 rows × 164 columns</p>\n",
       "</div>"
      ],
      "text/plain": [
       "         persnr  year  nrEntry  ltue  employed_before  receipt_leh_before  \\\n",
       "0             7  2015        1     0                1                   0   \n",
       "1            18  2010        1     1                0                   0   \n",
       "2            18  2011        2     0                1                   0   \n",
       "3            18  2012        3     0                1                   0   \n",
       "4            18  2012        4     0                1                   0   \n",
       "...         ...   ...      ...   ...              ...                 ...   \n",
       "643685  1827860  2013        1     0                0                   0   \n",
       "643686  1827860  2015        2     1                0                   0   \n",
       "643687  1827860  2016        3     1                0                   0   \n",
       "643688  1827869  2013        1     1                1                   0   \n",
       "643689  1827869  2014        2     0                0                   1   \n",
       "\n",
       "        receipt_lhg_before  se_before  ASU_notue_seeking_before  \\\n",
       "0                        0          0                         1   \n",
       "1                        0          0                         0   \n",
       "2                        1          0                         1   \n",
       "3                        1          0                         1   \n",
       "4                        1          0                         1   \n",
       "...                    ...        ...                       ...   \n",
       "643685                   1          0                         0   \n",
       "643686                   1          0                         1   \n",
       "643687                   1          1                         0   \n",
       "643688                   0          0                         1   \n",
       "643689                   0          0                         1   \n",
       "\n",
       "        ASU_other_before  ...  minijob_tot_dur_byage  ft_tot_dur_byage  \\\n",
       "0                      0  ...               0.000000          0.000000   \n",
       "1                      0  ...               0.000000          0.000000   \n",
       "2                      0  ...               2.714286          2.714286   \n",
       "3                      0  ...               4.200000          4.200000   \n",
       "4                      0  ...               5.460000          5.460000   \n",
       "...                  ...  ...                    ...               ...   \n",
       "643685                 1  ...               0.000000          0.000000   \n",
       "643686                 0  ...               0.000000          0.000000   \n",
       "643687                 1  ...               0.000000          0.000000   \n",
       "643688                 0  ...               0.000000          0.000000   \n",
       "643689                 0  ...               0.000000          0.666667   \n",
       "\n",
       "        befrist_tot_dur_byage  leih_tot_dur_byage  LHG_tot_dur_byage  \\\n",
       "0                   15.043478            0.000000           0.000000   \n",
       "1                    0.000000            0.000000           0.000000   \n",
       "2                    0.000000            0.000000          10.775510   \n",
       "3                    0.000000            0.000000          12.100000   \n",
       "4                    0.000000            0.000000          13.360000   \n",
       "...                       ...                 ...                ...   \n",
       "643685               0.000000            0.000000           0.612903   \n",
       "643686               0.212121            0.212121          17.363636   \n",
       "643687               0.294118            0.205882          34.705882   \n",
       "643688               0.000000            0.000000           0.000000   \n",
       "643689               0.666667            0.000000           0.000000   \n",
       "\n",
       "        LEH_tot_dur_byage  almp_tot_dur_byage  almp_aw_tot_dur_byage  \\\n",
       "0                0.000000            0.000000               0.000000   \n",
       "1                0.000000            0.000000               0.000000   \n",
       "2                0.000000            8.367347               0.000000   \n",
       "3                0.000000            9.400000               0.000000   \n",
       "4                0.000000           10.320000               0.000000   \n",
       "...                   ...                 ...                    ...   \n",
       "643685           0.000000            0.000000               0.000000   \n",
       "643686           0.000000            8.909091               0.000000   \n",
       "643687           0.000000           10.352941               1.705882   \n",
       "643688           0.525424            0.000000               0.000000   \n",
       "643689           8.950000            1.033333               0.083333   \n",
       "\n",
       "        se_tot_dur_byage  seeking1_tot_dur_byage  \n",
       "0               0.000000                0.000000  \n",
       "1               0.000000                0.000000  \n",
       "2               0.000000                9.836735  \n",
       "3               0.000000                9.960000  \n",
       "4               0.000000               10.280000  \n",
       "...                  ...                     ...  \n",
       "643685          0.000000                0.000000  \n",
       "643686          0.000000                7.121212  \n",
       "643687          1.705882               23.911765  \n",
       "643688          0.000000                0.000000  \n",
       "643689          0.083333                8.133333  \n",
       "\n",
       "[643690 rows x 164 columns]"
      ]
     },
     "execution_count": 10,
     "metadata": {},
     "output_type": "execute_result"
    }
   ],
   "source": [
    "siab"
   ]
  },
  {
   "cell_type": "markdown",
   "id": "1f87e805",
   "metadata": {
    "papermill": {
     "duration": 0.016664,
     "end_time": "2025-08-19T18:34:00.177940",
     "exception": false,
     "start_time": "2025-08-19T18:34:00.161276",
     "status": "completed"
    },
    "tags": []
   },
   "source": [
    "# Splitting Data and Setting Training Data Size"
   ]
  },
  {
   "cell_type": "code",
   "execution_count": 11,
   "id": "910ae358",
   "metadata": {
    "execution": {
     "iopub.execute_input": "2025-08-19T18:34:00.218777Z",
     "iopub.status.busy": "2025-08-19T18:34:00.217405Z",
     "iopub.status.idle": "2025-08-19T18:34:00.869527Z",
     "shell.execute_reply": "2025-08-19T18:34:00.868825Z"
    },
    "papermill": {
     "duration": 0.668906,
     "end_time": "2025-08-19T18:34:00.871215",
     "exception": false,
     "start_time": "2025-08-19T18:34:00.202309",
     "status": "completed"
    },
    "tags": []
   },
   "outputs": [],
   "source": [
    "from fairness_multiverse.universe import sample_by_year_size\n",
    "\n",
    "siab_train = sample_by_year_size(siab,\n",
    "                               training_year=universe[\"training_year\"],\n",
    "                               training_size=universe[\"training_size\"])"
   ]
  },
  {
   "cell_type": "code",
   "execution_count": 12,
   "id": "919c8ff5",
   "metadata": {
    "execution": {
     "iopub.execute_input": "2025-08-19T18:34:00.914519Z",
     "iopub.status.busy": "2025-08-19T18:34:00.913139Z",
     "iopub.status.idle": "2025-08-19T18:34:00.925383Z",
     "shell.execute_reply": "2025-08-19T18:34:00.923660Z"
    },
    "papermill": {
     "duration": 0.040745,
     "end_time": "2025-08-19T18:34:00.927441",
     "exception": false,
     "start_time": "2025-08-19T18:34:00.886696",
     "status": "completed"
    },
    "tags": []
   },
   "outputs": [
    {
     "data": {
      "text/plain": [
       "(5000, 164)"
      ]
     },
     "execution_count": 12,
     "metadata": {},
     "output_type": "execute_result"
    }
   ],
   "source": [
    "siab_train.shape"
   ]
  },
  {
   "cell_type": "code",
   "execution_count": 13,
   "id": "feb13bf4",
   "metadata": {
    "execution": {
     "iopub.execute_input": "2025-08-19T18:34:00.960838Z",
     "iopub.status.busy": "2025-08-19T18:34:00.959428Z",
     "iopub.status.idle": "2025-08-19T18:34:00.974187Z",
     "shell.execute_reply": "2025-08-19T18:34:00.973015Z"
    },
    "papermill": {
     "duration": 0.028963,
     "end_time": "2025-08-19T18:34:00.975737",
     "exception": false,
     "start_time": "2025-08-19T18:34:00.946774",
     "status": "completed"
    },
    "tags": []
   },
   "outputs": [
    {
     "data": {
      "text/plain": [
       "year\n",
       "2012    1667\n",
       "2013    1667\n",
       "2014    1666\n",
       "dtype: int64"
      ]
     },
     "metadata": {},
     "output_type": "display_data"
    }
   ],
   "source": [
    "display(siab_train.groupby(\"year\").size())"
   ]
  },
  {
   "cell_type": "code",
   "execution_count": 14,
   "id": "0997782f",
   "metadata": {
    "execution": {
     "iopub.execute_input": "2025-08-19T18:34:01.008883Z",
     "iopub.status.busy": "2025-08-19T18:34:01.007533Z",
     "iopub.status.idle": "2025-08-19T18:34:01.335496Z",
     "shell.execute_reply": "2025-08-19T18:34:01.334695Z"
    },
    "papermill": {
     "duration": 0.345246,
     "end_time": "2025-08-19T18:34:01.337159",
     "exception": false,
     "start_time": "2025-08-19T18:34:00.991913",
     "status": "completed"
    },
    "tags": []
   },
   "outputs": [],
   "source": [
    "#siab_train = siab_s[siab_s.year < 2015]\n",
    "siab_calib = siab[siab.year == 2015]\n",
    "siab_test = siab[siab.year == 2016]"
   ]
  },
  {
   "cell_type": "code",
   "execution_count": 15,
   "id": "2c1e4012",
   "metadata": {
    "execution": {
     "iopub.execute_input": "2025-08-19T18:34:01.375212Z",
     "iopub.status.busy": "2025-08-19T18:34:01.374775Z",
     "iopub.status.idle": "2025-08-19T18:34:01.378941Z",
     "shell.execute_reply": "2025-08-19T18:34:01.378054Z"
    },
    "papermill": {
     "duration": 0.028784,
     "end_time": "2025-08-19T18:34:01.382155",
     "exception": false,
     "start_time": "2025-08-19T18:34:01.353371",
     "status": "completed"
    },
    "tags": []
   },
   "outputs": [],
   "source": [
    "#siab_calib.shape"
   ]
  },
  {
   "cell_type": "code",
   "execution_count": 16,
   "id": "f66b54ca",
   "metadata": {
    "execution": {
     "iopub.execute_input": "2025-08-19T18:34:01.411230Z",
     "iopub.status.busy": "2025-08-19T18:34:01.410113Z",
     "iopub.status.idle": "2025-08-19T18:34:01.450809Z",
     "shell.execute_reply": "2025-08-19T18:34:01.448605Z"
    },
    "papermill": {
     "duration": 0.057958,
     "end_time": "2025-08-19T18:34:01.454020",
     "exception": false,
     "start_time": "2025-08-19T18:34:01.396062",
     "status": "completed"
    },
    "tags": []
   },
   "outputs": [],
   "source": [
    "#siab_test.shape"
   ]
  },
  {
   "cell_type": "code",
   "execution_count": 17,
   "id": "27e4384d",
   "metadata": {
    "execution": {
     "iopub.execute_input": "2025-08-19T18:34:01.505156Z",
     "iopub.status.busy": "2025-08-19T18:34:01.504748Z",
     "iopub.status.idle": "2025-08-19T18:34:01.513978Z",
     "shell.execute_reply": "2025-08-19T18:34:01.512783Z"
    },
    "papermill": {
     "duration": 0.036929,
     "end_time": "2025-08-19T18:34:01.516971",
     "exception": false,
     "start_time": "2025-08-19T18:34:01.480042",
     "status": "completed"
    },
    "tags": []
   },
   "outputs": [],
   "source": [
    "X_train = siab_train.iloc[:,4:164]\n",
    "y_train = siab_train.iloc[:, [3]]"
   ]
  },
  {
   "cell_type": "code",
   "execution_count": 18,
   "id": "08ee8389",
   "metadata": {
    "execution": {
     "iopub.execute_input": "2025-08-19T18:34:01.556714Z",
     "iopub.status.busy": "2025-08-19T18:34:01.555613Z",
     "iopub.status.idle": "2025-08-19T18:34:01.617490Z",
     "shell.execute_reply": "2025-08-19T18:34:01.616670Z"
    },
    "papermill": {
     "duration": 0.078279,
     "end_time": "2025-08-19T18:34:01.619057",
     "exception": false,
     "start_time": "2025-08-19T18:34:01.540778",
     "status": "completed"
    },
    "tags": []
   },
   "outputs": [],
   "source": [
    "X_calib = siab_calib.iloc[:,4:164]\n",
    "y_calib = siab_calib.iloc[:, [3]]"
   ]
  },
  {
   "cell_type": "code",
   "execution_count": 19,
   "id": "b7ff42e0",
   "metadata": {
    "execution": {
     "iopub.execute_input": "2025-08-19T18:34:01.643413Z",
     "iopub.status.busy": "2025-08-19T18:34:01.643071Z",
     "iopub.status.idle": "2025-08-19T18:34:01.694407Z",
     "shell.execute_reply": "2025-08-19T18:34:01.693709Z"
    },
    "papermill": {
     "duration": 0.063968,
     "end_time": "2025-08-19T18:34:01.695558",
     "exception": false,
     "start_time": "2025-08-19T18:34:01.631590",
     "status": "completed"
    },
    "tags": []
   },
   "outputs": [],
   "source": [
    "X_test = siab_test.iloc[:,4:164]\n",
    "y_true = siab_test.iloc[:, [3]]"
   ]
  },
  {
   "cell_type": "code",
   "execution_count": 20,
   "id": "0275101e",
   "metadata": {
    "execution": {
     "iopub.execute_input": "2025-08-19T18:34:01.720224Z",
     "iopub.status.busy": "2025-08-19T18:34:01.719899Z",
     "iopub.status.idle": "2025-08-19T18:34:01.848394Z",
     "shell.execute_reply": "2025-08-19T18:34:01.847673Z"
    },
    "papermill": {
     "duration": 0.142884,
     "end_time": "2025-08-19T18:34:01.850201",
     "exception": false,
     "start_time": "2025-08-19T18:34:01.707317",
     "status": "completed"
    },
    "tags": []
   },
   "outputs": [],
   "source": [
    "# Auxiliary data needed downstream in the pipeline\n",
    "\n",
    "org_train = X_train.copy()\n",
    "org_test = X_test.copy()\n",
    "org_calib = X_calib.copy()"
   ]
  },
  {
   "cell_type": "markdown",
   "id": "b461e618",
   "metadata": {
    "papermill": {
     "duration": 0.011614,
     "end_time": "2025-08-19T18:34:01.873029",
     "exception": false,
     "start_time": "2025-08-19T18:34:01.861415",
     "status": "completed"
    },
    "tags": []
   },
   "source": [
    "# Preprocessing Data"
   ]
  },
  {
   "cell_type": "code",
   "execution_count": 21,
   "id": "78e74c4b",
   "metadata": {
    "execution": {
     "iopub.execute_input": "2025-08-19T18:34:01.896287Z",
     "iopub.status.busy": "2025-08-19T18:34:01.895982Z",
     "iopub.status.idle": "2025-08-19T18:34:01.902245Z",
     "shell.execute_reply": "2025-08-19T18:34:01.901256Z"
    },
    "papermill": {
     "duration": 0.020354,
     "end_time": "2025-08-19T18:34:01.904446",
     "exception": false,
     "start_time": "2025-08-19T18:34:01.884092",
     "status": "completed"
    },
    "tags": []
   },
   "outputs": [],
   "source": [
    "# EXCLUDE PROTECTED FEATURES\n",
    "# --------------------------\n",
    "\n",
    "excluded_features = universe[\"exclude_features\"].split(\"-\")\n",
    "excluded_features_dictionary = {\n",
    "    \"nationality\": [\"maxdeutsch1\", \"maxdeutsch.Missing.\"],\n",
    "    \"sex\": [\"frau1\"],\n",
    "    \"age\": [\"age\"],\n",
    "}"
   ]
  },
  {
   "cell_type": "code",
   "execution_count": 22,
   "id": "f8e63555",
   "metadata": {
    "execution": {
     "iopub.execute_input": "2025-08-19T18:34:01.927813Z",
     "iopub.status.busy": "2025-08-19T18:34:01.927547Z",
     "iopub.status.idle": "2025-08-19T18:34:01.931643Z",
     "shell.execute_reply": "2025-08-19T18:34:01.931031Z"
    },
    "papermill": {
     "duration": 0.01665,
     "end_time": "2025-08-19T18:34:01.933084",
     "exception": false,
     "start_time": "2025-08-19T18:34:01.916434",
     "status": "completed"
    },
    "tags": []
   },
   "outputs": [],
   "source": [
    "excluded_features_columns = [\n",
    "    excluded_features_dictionary[f] for f in excluded_features if len(f) > 0 and f != \"none\"\n",
    "]"
   ]
  },
  {
   "cell_type": "code",
   "execution_count": 23,
   "id": "da781f7c",
   "metadata": {
    "execution": {
     "iopub.execute_input": "2025-08-19T18:34:01.957955Z",
     "iopub.status.busy": "2025-08-19T18:34:01.957702Z",
     "iopub.status.idle": "2025-08-19T18:34:01.962812Z",
     "shell.execute_reply": "2025-08-19T18:34:01.961962Z"
    },
    "papermill": {
     "duration": 0.017999,
     "end_time": "2025-08-19T18:34:01.964053",
     "exception": false,
     "start_time": "2025-08-19T18:34:01.946054",
     "status": "completed"
    },
    "tags": []
   },
   "outputs": [],
   "source": [
    "from fairness_multiverse.universe import flatten_once\n",
    "\n",
    "excluded_features_columns = flatten_once(excluded_features_columns)"
   ]
  },
  {
   "cell_type": "code",
   "execution_count": 24,
   "id": "37fef0f0",
   "metadata": {
    "execution": {
     "iopub.execute_input": "2025-08-19T18:34:02.029969Z",
     "iopub.status.busy": "2025-08-19T18:34:02.028759Z",
     "iopub.status.idle": "2025-08-19T18:34:02.047840Z",
     "shell.execute_reply": "2025-08-19T18:34:02.046155Z"
    },
    "papermill": {
     "duration": 0.07067,
     "end_time": "2025-08-19T18:34:02.050037",
     "exception": false,
     "start_time": "2025-08-19T18:34:01.979367",
     "status": "completed"
    },
    "tags": []
   },
   "outputs": [
    {
     "name": "stdout",
     "output_type": "stream",
     "text": [
      "Dropping features: ['frau1']\n"
     ]
    }
   ],
   "source": [
    "if len(excluded_features_columns) > 0:\n",
    "    print(f\"Dropping features: {excluded_features_columns}\")\n",
    "    X_train.drop(excluded_features_columns, axis=1, inplace=True)"
   ]
  },
  {
   "cell_type": "code",
   "execution_count": 25,
   "id": "d029e3e9",
   "metadata": {
    "execution": {
     "iopub.execute_input": "2025-08-19T18:34:02.090219Z",
     "iopub.status.busy": "2025-08-19T18:34:02.088974Z",
     "iopub.status.idle": "2025-08-19T18:34:02.151383Z",
     "shell.execute_reply": "2025-08-19T18:34:02.150703Z"
    },
    "papermill": {
     "duration": 0.079384,
     "end_time": "2025-08-19T18:34:02.153987",
     "exception": false,
     "start_time": "2025-08-19T18:34:02.074603",
     "status": "completed"
    },
    "tags": []
   },
   "outputs": [
    {
     "name": "stdout",
     "output_type": "stream",
     "text": [
      "Dropping features: ['frau1']\n"
     ]
    }
   ],
   "source": [
    "if len(excluded_features_columns) > 0:\n",
    "    print(f\"Dropping features: {excluded_features_columns}\")\n",
    "    X_test.drop(excluded_features_columns, axis=1, inplace=True)"
   ]
  },
  {
   "cell_type": "code",
   "execution_count": 26,
   "id": "01d571f0",
   "metadata": {
    "execution": {
     "iopub.execute_input": "2025-08-19T18:34:02.223384Z",
     "iopub.status.busy": "2025-08-19T18:34:02.222842Z",
     "iopub.status.idle": "2025-08-19T18:34:02.275594Z",
     "shell.execute_reply": "2025-08-19T18:34:02.274913Z"
    },
    "papermill": {
     "duration": 0.085246,
     "end_time": "2025-08-19T18:34:02.278766",
     "exception": false,
     "start_time": "2025-08-19T18:34:02.193520",
     "status": "completed"
    },
    "tags": []
   },
   "outputs": [
    {
     "name": "stdout",
     "output_type": "stream",
     "text": [
      "Dropping features: ['frau1']\n"
     ]
    }
   ],
   "source": [
    "if len(excluded_features_columns) > 0:\n",
    "    print(f\"Dropping features: {excluded_features_columns}\")\n",
    "    X_calib.drop(excluded_features_columns, axis=1, inplace=True)"
   ]
  },
  {
   "cell_type": "code",
   "execution_count": 27,
   "id": "3037356e",
   "metadata": {
    "execution": {
     "iopub.execute_input": "2025-08-19T18:34:02.312530Z",
     "iopub.status.busy": "2025-08-19T18:34:02.312032Z",
     "iopub.status.idle": "2025-08-19T18:34:02.317824Z",
     "shell.execute_reply": "2025-08-19T18:34:02.316621Z"
    },
    "papermill": {
     "duration": 0.020522,
     "end_time": "2025-08-19T18:34:02.319346",
     "exception": false,
     "start_time": "2025-08-19T18:34:02.298824",
     "status": "completed"
    },
    "tags": []
   },
   "outputs": [],
   "source": [
    "# EXCLUDE CERTAIN SUBGROUPS\n",
    "# -------------------------\n",
    "\n",
    "mode = universe.get(\"exclude_subgroups\", \"keep-all\") # Defaults to \"keep-all\" if the key is missing."
   ]
  },
  {
   "cell_type": "code",
   "execution_count": 28,
   "id": "9d1e63fd",
   "metadata": {
    "execution": {
     "iopub.execute_input": "2025-08-19T18:34:02.355052Z",
     "iopub.status.busy": "2025-08-19T18:34:02.353910Z",
     "iopub.status.idle": "2025-08-19T18:34:02.365020Z",
     "shell.execute_reply": "2025-08-19T18:34:02.363385Z"
    },
    "papermill": {
     "duration": 0.035248,
     "end_time": "2025-08-19T18:34:02.366774",
     "exception": false,
     "start_time": "2025-08-19T18:34:02.331526",
     "status": "completed"
    },
    "tags": []
   },
   "outputs": [],
   "source": [
    "if mode == \"keep-all\":\n",
    "    keep_mask = pd.Series(True, index=org_train.index)\n",
    "\n",
    "elif mode == \"drop-non-german\":\n",
    "    keep_mask = (org_train[\"maxdeutsch1\"] == 1) & (org_train[\"maxdeutsch.Missing.\"] == 0)\n",
    "\n",
    "else:\n",
    "    raise ValueError(f\"Unsupported mode for exclude_subgroups: {mode}\")"
   ]
  },
  {
   "cell_type": "code",
   "execution_count": 29,
   "id": "d3b65474",
   "metadata": {
    "execution": {
     "iopub.execute_input": "2025-08-19T18:34:02.424905Z",
     "iopub.status.busy": "2025-08-19T18:34:02.424358Z",
     "iopub.status.idle": "2025-08-19T18:34:02.432148Z",
     "shell.execute_reply": "2025-08-19T18:34:02.431145Z"
    },
    "papermill": {
     "duration": 0.050508,
     "end_time": "2025-08-19T18:34:02.434770",
     "exception": false,
     "start_time": "2025-08-19T18:34:02.384262",
     "status": "completed"
    },
    "tags": []
   },
   "outputs": [],
   "source": [
    "n_drop = (~keep_mask).sum() # Calculates how many rows are set to be dropped\n",
    "if n_drop > 0:\n",
    "    pct = n_drop / len(keep_mask) * 100\n",
    "    print(f\"Dropping {n_drop} rows ({pct:.2f}%) where mode='{mode}'\")"
   ]
  },
  {
   "cell_type": "code",
   "execution_count": 30,
   "id": "f44389b3",
   "metadata": {
    "execution": {
     "iopub.execute_input": "2025-08-19T18:34:02.461531Z",
     "iopub.status.busy": "2025-08-19T18:34:02.461211Z",
     "iopub.status.idle": "2025-08-19T18:34:02.482584Z",
     "shell.execute_reply": "2025-08-19T18:34:02.481668Z"
    },
    "papermill": {
     "duration": 0.035834,
     "end_time": "2025-08-19T18:34:02.484544",
     "exception": false,
     "start_time": "2025-08-19T18:34:02.448710",
     "status": "completed"
    },
    "tags": []
   },
   "outputs": [],
   "source": [
    "X_train = X_train[keep_mask]"
   ]
  },
  {
   "cell_type": "code",
   "execution_count": 31,
   "id": "ceca8c2a",
   "metadata": {
    "execution": {
     "iopub.execute_input": "2025-08-19T18:34:02.510934Z",
     "iopub.status.busy": "2025-08-19T18:34:02.510551Z",
     "iopub.status.idle": "2025-08-19T18:34:02.528756Z",
     "shell.execute_reply": "2025-08-19T18:34:02.527816Z"
    },
    "papermill": {
     "duration": 0.031832,
     "end_time": "2025-08-19T18:34:02.530796",
     "exception": false,
     "start_time": "2025-08-19T18:34:02.498964",
     "status": "completed"
    },
    "tags": []
   },
   "outputs": [],
   "source": [
    "y_train = y_train[keep_mask]"
   ]
  },
  {
   "cell_type": "markdown",
   "id": "04d31e2f",
   "metadata": {
    "papermill": {
     "duration": 0.011174,
     "end_time": "2025-08-19T18:34:02.556880",
     "exception": false,
     "start_time": "2025-08-19T18:34:02.545706",
     "status": "completed"
    },
    "tags": []
   },
   "source": [
    "# Model Training"
   ]
  },
  {
   "cell_type": "code",
   "execution_count": 32,
   "id": "db991733",
   "metadata": {
    "execution": {
     "iopub.execute_input": "2025-08-19T18:34:02.579949Z",
     "iopub.status.busy": "2025-08-19T18:34:02.579638Z",
     "iopub.status.idle": "2025-08-19T18:34:02.668189Z",
     "shell.execute_reply": "2025-08-19T18:34:02.667422Z"
    },
    "papermill": {
     "duration": 0.10245,
     "end_time": "2025-08-19T18:34:02.670164",
     "exception": false,
     "start_time": "2025-08-19T18:34:02.567714",
     "status": "completed"
    },
    "tags": []
   },
   "outputs": [],
   "source": [
    "from sklearn.linear_model import LogisticRegression\n",
    "from sklearn.ensemble import GradientBoostingClassifier, RandomForestClassifier\n",
    "\n",
    "if (universe[\"model\"] == \"logreg\"):\n",
    "    model = LogisticRegression() #penalty=\"none\", solver=\"newton-cg\", max_iter=1)\n",
    "elif (universe[\"model\"] == \"penalized_logreg\"):\n",
    "    model = LogisticRegression(penalty=\"l2\", C=0.1) #, solver=\"newton-cg\", max_iter=1)\n",
    "elif (universe[\"model\"] == \"rf\"):\n",
    "    model = RandomForestClassifier() # n_estimators=100, n_jobs=-1\n",
    "elif (universe[\"model\"] == \"gbm\"):\n",
    "    model = GradientBoostingClassifier()\n",
    "elif (universe[\"model\"] == \"elasticnet\"):\n",
    "    model = LogisticRegression(penalty = 'elasticnet', solver = 'saga', l1_ratio = 0.5) # max_iter=5000\n",
    "else:\n",
    "    raise \"Unsupported universe.model\""
   ]
  },
  {
   "cell_type": "code",
   "execution_count": 33,
   "id": "a4b5cd25",
   "metadata": {
    "execution": {
     "iopub.execute_input": "2025-08-19T18:34:02.715009Z",
     "iopub.status.busy": "2025-08-19T18:34:02.713877Z",
     "iopub.status.idle": "2025-08-19T18:34:02.723031Z",
     "shell.execute_reply": "2025-08-19T18:34:02.721825Z"
    },
    "papermill": {
     "duration": 0.03982,
     "end_time": "2025-08-19T18:34:02.724639",
     "exception": false,
     "start_time": "2025-08-19T18:34:02.684819",
     "status": "completed"
    },
    "tags": []
   },
   "outputs": [],
   "source": [
    "from sklearn.pipeline import Pipeline\n",
    "from sklearn.preprocessing import StandardScaler\n",
    "\n",
    "model = Pipeline([\n",
    "    #(\"continuous_processor\", continuous_processor),\n",
    "    #(\"categorical_preprocessor\", categorical_preprocessor),\n",
    "    (\"scale\", StandardScaler() if universe[\"scale\"] == \"scale\" else None), \n",
    "    (\"model\", model),\n",
    "])"
   ]
  },
  {
   "cell_type": "code",
   "execution_count": 34,
   "id": "283a904d",
   "metadata": {
    "execution": {
     "iopub.execute_input": "2025-08-19T18:34:02.755754Z",
     "iopub.status.busy": "2025-08-19T18:34:02.754835Z",
     "iopub.status.idle": "2025-08-19T18:34:07.216149Z",
     "shell.execute_reply": "2025-08-19T18:34:07.213812Z"
    },
    "papermill": {
     "duration": 4.476458,
     "end_time": "2025-08-19T18:34:07.217732",
     "exception": false,
     "start_time": "2025-08-19T18:34:02.741274",
     "status": "completed"
    },
    "tags": []
   },
   "outputs": [
    {
     "data": {
      "text/html": [
       "<style>#sk-container-id-1 {color: black;background-color: white;}#sk-container-id-1 pre{padding: 0;}#sk-container-id-1 div.sk-toggleable {background-color: white;}#sk-container-id-1 label.sk-toggleable__label {cursor: pointer;display: block;width: 100%;margin-bottom: 0;padding: 0.3em;box-sizing: border-box;text-align: center;}#sk-container-id-1 label.sk-toggleable__label-arrow:before {content: \"▸\";float: left;margin-right: 0.25em;color: #696969;}#sk-container-id-1 label.sk-toggleable__label-arrow:hover:before {color: black;}#sk-container-id-1 div.sk-estimator:hover label.sk-toggleable__label-arrow:before {color: black;}#sk-container-id-1 div.sk-toggleable__content {max-height: 0;max-width: 0;overflow: hidden;text-align: left;background-color: #f0f8ff;}#sk-container-id-1 div.sk-toggleable__content pre {margin: 0.2em;color: black;border-radius: 0.25em;background-color: #f0f8ff;}#sk-container-id-1 input.sk-toggleable__control:checked~div.sk-toggleable__content {max-height: 200px;max-width: 100%;overflow: auto;}#sk-container-id-1 input.sk-toggleable__control:checked~label.sk-toggleable__label-arrow:before {content: \"▾\";}#sk-container-id-1 div.sk-estimator input.sk-toggleable__control:checked~label.sk-toggleable__label {background-color: #d4ebff;}#sk-container-id-1 div.sk-label input.sk-toggleable__control:checked~label.sk-toggleable__label {background-color: #d4ebff;}#sk-container-id-1 input.sk-hidden--visually {border: 0;clip: rect(1px 1px 1px 1px);clip: rect(1px, 1px, 1px, 1px);height: 1px;margin: -1px;overflow: hidden;padding: 0;position: absolute;width: 1px;}#sk-container-id-1 div.sk-estimator {font-family: monospace;background-color: #f0f8ff;border: 1px dotted black;border-radius: 0.25em;box-sizing: border-box;margin-bottom: 0.5em;}#sk-container-id-1 div.sk-estimator:hover {background-color: #d4ebff;}#sk-container-id-1 div.sk-parallel-item::after {content: \"\";width: 100%;border-bottom: 1px solid gray;flex-grow: 1;}#sk-container-id-1 div.sk-label:hover label.sk-toggleable__label {background-color: #d4ebff;}#sk-container-id-1 div.sk-serial::before {content: \"\";position: absolute;border-left: 1px solid gray;box-sizing: border-box;top: 0;bottom: 0;left: 50%;z-index: 0;}#sk-container-id-1 div.sk-serial {display: flex;flex-direction: column;align-items: center;background-color: white;padding-right: 0.2em;padding-left: 0.2em;position: relative;}#sk-container-id-1 div.sk-item {position: relative;z-index: 1;}#sk-container-id-1 div.sk-parallel {display: flex;align-items: stretch;justify-content: center;background-color: white;position: relative;}#sk-container-id-1 div.sk-item::before, #sk-container-id-1 div.sk-parallel-item::before {content: \"\";position: absolute;border-left: 1px solid gray;box-sizing: border-box;top: 0;bottom: 0;left: 50%;z-index: -1;}#sk-container-id-1 div.sk-parallel-item {display: flex;flex-direction: column;z-index: 1;position: relative;background-color: white;}#sk-container-id-1 div.sk-parallel-item:first-child::after {align-self: flex-end;width: 50%;}#sk-container-id-1 div.sk-parallel-item:last-child::after {align-self: flex-start;width: 50%;}#sk-container-id-1 div.sk-parallel-item:only-child::after {width: 0;}#sk-container-id-1 div.sk-dashed-wrapped {border: 1px dashed gray;margin: 0 0.4em 0.5em 0.4em;box-sizing: border-box;padding-bottom: 0.4em;background-color: white;}#sk-container-id-1 div.sk-label label {font-family: monospace;font-weight: bold;display: inline-block;line-height: 1.2em;}#sk-container-id-1 div.sk-label-container {text-align: center;}#sk-container-id-1 div.sk-container {/* jupyter's `normalize.less` sets `[hidden] { display: none; }` but bootstrap.min.css set `[hidden] { display: none !important; }` so we also need the `!important` here to be able to override the default hidden behavior on the sphinx rendered scikit-learn.org. See: https://github.com/scikit-learn/scikit-learn/issues/21755 */display: inline-block !important;position: relative;}#sk-container-id-1 div.sk-text-repr-fallback {display: none;}</style><div id=\"sk-container-id-1\" class=\"sk-top-container\"><div class=\"sk-text-repr-fallback\"><pre>Pipeline(steps=[(&#x27;scale&#x27;, StandardScaler()),\n",
       "                (&#x27;model&#x27;, GradientBoostingClassifier())])</pre><b>In a Jupyter environment, please rerun this cell to show the HTML representation or trust the notebook. <br />On GitHub, the HTML representation is unable to render, please try loading this page with nbviewer.org.</b></div><div class=\"sk-container\" hidden><div class=\"sk-item sk-dashed-wrapped\"><div class=\"sk-label-container\"><div class=\"sk-label sk-toggleable\"><input class=\"sk-toggleable__control sk-hidden--visually\" id=\"sk-estimator-id-1\" type=\"checkbox\" ><label for=\"sk-estimator-id-1\" class=\"sk-toggleable__label sk-toggleable__label-arrow\">Pipeline</label><div class=\"sk-toggleable__content\"><pre>Pipeline(steps=[(&#x27;scale&#x27;, StandardScaler()),\n",
       "                (&#x27;model&#x27;, GradientBoostingClassifier())])</pre></div></div></div><div class=\"sk-serial\"><div class=\"sk-item\"><div class=\"sk-estimator sk-toggleable\"><input class=\"sk-toggleable__control sk-hidden--visually\" id=\"sk-estimator-id-2\" type=\"checkbox\" ><label for=\"sk-estimator-id-2\" class=\"sk-toggleable__label sk-toggleable__label-arrow\">StandardScaler</label><div class=\"sk-toggleable__content\"><pre>StandardScaler()</pre></div></div></div><div class=\"sk-item\"><div class=\"sk-estimator sk-toggleable\"><input class=\"sk-toggleable__control sk-hidden--visually\" id=\"sk-estimator-id-3\" type=\"checkbox\" ><label for=\"sk-estimator-id-3\" class=\"sk-toggleable__label sk-toggleable__label-arrow\">GradientBoostingClassifier</label><div class=\"sk-toggleable__content\"><pre>GradientBoostingClassifier()</pre></div></div></div></div></div></div></div>"
      ],
      "text/plain": [
       "Pipeline(steps=[('scale', StandardScaler()),\n",
       "                ('model', GradientBoostingClassifier())])"
      ]
     },
     "execution_count": 34,
     "metadata": {},
     "output_type": "execute_result"
    }
   ],
   "source": [
    "model.fit(X_train, y_train.values.ravel())"
   ]
  },
  {
   "cell_type": "code",
   "execution_count": 35,
   "id": "6e15e313",
   "metadata": {
    "execution": {
     "iopub.execute_input": "2025-08-19T18:34:07.246365Z",
     "iopub.status.busy": "2025-08-19T18:34:07.245085Z",
     "iopub.status.idle": "2025-08-19T18:34:07.893345Z",
     "shell.execute_reply": "2025-08-19T18:34:07.892527Z"
    },
    "papermill": {
     "duration": 0.66255,
     "end_time": "2025-08-19T18:34:07.894501",
     "exception": false,
     "start_time": "2025-08-19T18:34:07.231951",
     "status": "completed"
    },
    "tags": []
   },
   "outputs": [
    {
     "data": {
      "text/plain": [
       "0.8632928324601493"
      ]
     },
     "execution_count": 35,
     "metadata": {},
     "output_type": "execute_result"
    }
   ],
   "source": [
    "from fairness_multiverse.universe import predict_w_threshold\n",
    "\n",
    "probs_test = model.predict_proba(X_test)\n",
    "\n",
    "'''\n",
    "Below code returns a boolean array (or binary 0/1 array depending on how it’s used) where each element \n",
    "is True if the probability of class 1 is greater than or equal to the threshold, and False otherwise.\n",
    "'''\n",
    "y_pred_default = predict_w_threshold(probs_test, 0.5)\n",
    "\n",
    "from sklearn.metrics import accuracy_score\n",
    "\n",
    "# Naive prediction\n",
    "accuracy_score(y_true = y_true, y_pred = y_pred_default)"
   ]
  },
  {
   "cell_type": "code",
   "execution_count": 36,
   "id": "6f14067c",
   "metadata": {
    "execution": {
     "iopub.execute_input": "2025-08-19T18:34:07.920335Z",
     "iopub.status.busy": "2025-08-19T18:34:07.919267Z",
     "iopub.status.idle": "2025-08-19T18:34:08.552411Z",
     "shell.execute_reply": "2025-08-19T18:34:08.551598Z"
    },
    "papermill": {
     "duration": 0.647151,
     "end_time": "2025-08-19T18:34:08.553663",
     "exception": false,
     "start_time": "2025-08-19T18:34:07.906512",
     "status": "completed"
    },
    "tags": []
   },
   "outputs": [
    {
     "data": {
      "text/plain": [
       "array([0, 0, 0, ..., 0, 0, 0])"
      ]
     },
     "execution_count": 36,
     "metadata": {},
     "output_type": "execute_result"
    }
   ],
   "source": [
    "model.predict(X_test)"
   ]
  },
  {
   "cell_type": "markdown",
   "id": "3759920c",
   "metadata": {
    "papermill": {
     "duration": 0.011559,
     "end_time": "2025-08-19T18:34:08.577641",
     "exception": false,
     "start_time": "2025-08-19T18:34:08.566082",
     "status": "completed"
    },
    "tags": []
   },
   "source": [
    "# Conformal Prediction"
   ]
  },
  {
   "cell_type": "code",
   "execution_count": 37,
   "id": "14b27f59",
   "metadata": {
    "execution": {
     "iopub.execute_input": "2025-08-19T18:34:08.603771Z",
     "iopub.status.busy": "2025-08-19T18:34:08.602447Z",
     "iopub.status.idle": "2025-08-19T18:34:08.612095Z",
     "shell.execute_reply": "2025-08-19T18:34:08.610030Z"
    },
    "papermill": {
     "duration": 0.02489,
     "end_time": "2025-08-19T18:34:08.613928",
     "exception": false,
     "start_time": "2025-08-19T18:34:08.589038",
     "status": "completed"
    },
    "tags": []
   },
   "outputs": [],
   "source": [
    "# Miscoverage level for conformal prediction (10% allowed error rate => 90% target coverage)\n",
    "alpha = 0.1"
   ]
  },
  {
   "cell_type": "code",
   "execution_count": 38,
   "id": "59102472",
   "metadata": {
    "execution": {
     "iopub.execute_input": "2025-08-19T18:34:08.645792Z",
     "iopub.status.busy": "2025-08-19T18:34:08.644445Z",
     "iopub.status.idle": "2025-08-19T18:34:09.286613Z",
     "shell.execute_reply": "2025-08-19T18:34:09.285889Z"
    },
    "papermill": {
     "duration": 0.659039,
     "end_time": "2025-08-19T18:34:09.289604",
     "exception": false,
     "start_time": "2025-08-19T18:34:08.630565",
     "status": "completed"
    },
    "tags": []
   },
   "outputs": [],
   "source": [
    "probs_calib = model.predict_proba(X_calib)"
   ]
  },
  {
   "cell_type": "code",
   "execution_count": 39,
   "id": "a792d4dd",
   "metadata": {
    "execution": {
     "iopub.execute_input": "2025-08-19T18:34:09.333446Z",
     "iopub.status.busy": "2025-08-19T18:34:09.331923Z",
     "iopub.status.idle": "2025-08-19T18:34:09.342735Z",
     "shell.execute_reply": "2025-08-19T18:34:09.341027Z"
    },
    "papermill": {
     "duration": 0.027552,
     "end_time": "2025-08-19T18:34:09.344300",
     "exception": false,
     "start_time": "2025-08-19T18:34:09.316748",
     "status": "completed"
    },
    "tags": []
   },
   "outputs": [],
   "source": [
    "y_calib = y_calib.values.ravel().astype(int)"
   ]
  },
  {
   "cell_type": "code",
   "execution_count": 40,
   "id": "650fd033",
   "metadata": {
    "execution": {
     "iopub.execute_input": "2025-08-19T18:34:09.374150Z",
     "iopub.status.busy": "2025-08-19T18:34:09.373106Z",
     "iopub.status.idle": "2025-08-19T18:34:09.387134Z",
     "shell.execute_reply": "2025-08-19T18:34:09.385754Z"
    },
    "papermill": {
     "duration": 0.029589,
     "end_time": "2025-08-19T18:34:09.388837",
     "exception": false,
     "start_time": "2025-08-19T18:34:09.359248",
     "status": "completed"
    },
    "tags": []
   },
   "outputs": [],
   "source": [
    "from fairness_multiverse.conformal import compute_nc_scores\n",
    "\n",
    "# Compute nonconformity scores on calibration set (1 - probability of true class)\n",
    "nc_scores = compute_nc_scores(probs_calib, y_calib)"
   ]
  },
  {
   "cell_type": "code",
   "execution_count": 41,
   "id": "28ada44c",
   "metadata": {
    "execution": {
     "iopub.execute_input": "2025-08-19T18:34:09.419568Z",
     "iopub.status.busy": "2025-08-19T18:34:09.418503Z",
     "iopub.status.idle": "2025-08-19T18:34:09.431493Z",
     "shell.execute_reply": "2025-08-19T18:34:09.429966Z"
    },
    "papermill": {
     "duration": 0.02911,
     "end_time": "2025-08-19T18:34:09.433270",
     "exception": false,
     "start_time": "2025-08-19T18:34:09.404160",
     "status": "completed"
    },
    "tags": []
   },
   "outputs": [],
   "source": [
    "from fairness_multiverse.conformal import find_threshold\n",
    "\n",
    "# Find conformal threshold q_hat for the given alpha (split conformal method)\n",
    "q_hat = find_threshold(nc_scores, alpha)"
   ]
  },
  {
   "cell_type": "code",
   "execution_count": 42,
   "id": "df56469e",
   "metadata": {
    "execution": {
     "iopub.execute_input": "2025-08-19T18:34:09.468162Z",
     "iopub.status.busy": "2025-08-19T18:34:09.467062Z",
     "iopub.status.idle": "2025-08-19T18:34:09.479537Z",
     "shell.execute_reply": "2025-08-19T18:34:09.478292Z"
    },
    "papermill": {
     "duration": 0.029238,
     "end_time": "2025-08-19T18:34:09.481173",
     "exception": false,
     "start_time": "2025-08-19T18:34:09.451935",
     "status": "completed"
    },
    "tags": []
   },
   "outputs": [
    {
     "data": {
      "text/plain": [
       "0.6913207909420612"
      ]
     },
     "execution_count": 42,
     "metadata": {},
     "output_type": "execute_result"
    }
   ],
   "source": [
    "q_hat"
   ]
  },
  {
   "cell_type": "code",
   "execution_count": 43,
   "id": "aa1f5faa",
   "metadata": {
    "execution": {
     "iopub.execute_input": "2025-08-19T18:34:09.513587Z",
     "iopub.status.busy": "2025-08-19T18:34:09.512078Z",
     "iopub.status.idle": "2025-08-19T18:34:10.615574Z",
     "shell.execute_reply": "2025-08-19T18:34:10.614374Z"
    },
    "papermill": {
     "duration": 1.119438,
     "end_time": "2025-08-19T18:34:10.617247",
     "exception": false,
     "start_time": "2025-08-19T18:34:09.497809",
     "status": "completed"
    },
    "tags": []
   },
   "outputs": [],
   "source": [
    "from fairness_multiverse.conformal import predict_conformal_sets\n",
    "\n",
    "# Generate prediction sets for each test example\n",
    "pred_sets = predict_conformal_sets(model, X_test, q_hat)"
   ]
  },
  {
   "cell_type": "code",
   "execution_count": 44,
   "id": "97f67a6b",
   "metadata": {
    "execution": {
     "iopub.execute_input": "2025-08-19T18:34:10.646279Z",
     "iopub.status.busy": "2025-08-19T18:34:10.645047Z",
     "iopub.status.idle": "2025-08-19T18:34:10.654975Z",
     "shell.execute_reply": "2025-08-19T18:34:10.653483Z"
    },
    "papermill": {
     "duration": 0.026022,
     "end_time": "2025-08-19T18:34:10.656580",
     "exception": false,
     "start_time": "2025-08-19T18:34:10.630558",
     "status": "completed"
    },
    "tags": []
   },
   "outputs": [],
   "source": [
    "y_true = y_true.squeeze()"
   ]
  },
  {
   "cell_type": "code",
   "execution_count": 45,
   "id": "e700e9a7",
   "metadata": {
    "execution": {
     "iopub.execute_input": "2025-08-19T18:34:10.694256Z",
     "iopub.status.busy": "2025-08-19T18:34:10.691728Z",
     "iopub.status.idle": "2025-08-19T18:34:11.207803Z",
     "shell.execute_reply": "2025-08-19T18:34:11.206467Z"
    },
    "papermill": {
     "duration": 0.536897,
     "end_time": "2025-08-19T18:34:11.211011",
     "exception": false,
     "start_time": "2025-08-19T18:34:10.674114",
     "status": "completed"
    },
    "tags": []
   },
   "outputs": [],
   "source": [
    "from fairness_multiverse.conformal import evaluate_sets\n",
    "\n",
    "# Evaluate coverage and average set size on test data\n",
    "metrics = evaluate_sets(pred_sets, y_true)"
   ]
  },
  {
   "cell_type": "markdown",
   "id": "efbacec0",
   "metadata": {
    "papermill": {
     "duration": 0.012675,
     "end_time": "2025-08-19T18:34:11.253620",
     "exception": false,
     "start_time": "2025-08-19T18:34:11.240945",
     "status": "completed"
    },
    "tags": []
   },
   "source": [
    "# CP Metrics"
   ]
  },
  {
   "cell_type": "code",
   "execution_count": 46,
   "id": "9de55fb1",
   "metadata": {
    "execution": {
     "iopub.execute_input": "2025-08-19T18:34:11.281795Z",
     "iopub.status.busy": "2025-08-19T18:34:11.280096Z",
     "iopub.status.idle": "2025-08-19T18:34:11.294941Z",
     "shell.execute_reply": "2025-08-19T18:34:11.293498Z"
    },
    "papermill": {
     "duration": 0.030848,
     "end_time": "2025-08-19T18:34:11.296530",
     "exception": false,
     "start_time": "2025-08-19T18:34:11.265682",
     "status": "completed"
    },
    "tags": []
   },
   "outputs": [
    {
     "data": {
      "text/plain": [
       "{'coverage': 0.9095084160071341, 'avg_size': 1.1232749972132428}"
      ]
     },
     "execution_count": 46,
     "metadata": {},
     "output_type": "execute_result"
    }
   ],
   "source": [
    "metrics"
   ]
  },
  {
   "cell_type": "code",
   "execution_count": 47,
   "id": "64c340a1",
   "metadata": {
    "execution": {
     "iopub.execute_input": "2025-08-19T18:34:11.328006Z",
     "iopub.status.busy": "2025-08-19T18:34:11.326975Z",
     "iopub.status.idle": "2025-08-19T18:34:11.338014Z",
     "shell.execute_reply": "2025-08-19T18:34:11.336631Z"
    },
    "papermill": {
     "duration": 0.026283,
     "end_time": "2025-08-19T18:34:11.339359",
     "exception": false,
     "start_time": "2025-08-19T18:34:11.313076",
     "status": "completed"
    },
    "tags": []
   },
   "outputs": [],
   "source": [
    "example_universe = universe.copy()\n",
    "universe_training_year = example_universe.get(\"training_year\")\n",
    "universe_training_size = example_universe.get(\"training_size\")\n",
    "universe_scale = example_universe.get(\"scale\")\n",
    "universe_model = example_universe.get(\"model\")\n",
    "universe_exclude_features = example_universe.get(\"exclude_features\")\n",
    "universe_exclude_subgroups = example_universe.get(\"exclude_subgroups\")"
   ]
  },
  {
   "cell_type": "code",
   "execution_count": 48,
   "id": "dbb53cb4",
   "metadata": {
    "execution": {
     "iopub.execute_input": "2025-08-19T18:34:11.416801Z",
     "iopub.status.busy": "2025-08-19T18:34:11.415722Z",
     "iopub.status.idle": "2025-08-19T18:34:11.428773Z",
     "shell.execute_reply": "2025-08-19T18:34:11.425416Z"
    },
    "papermill": {
     "duration": 0.039418,
     "end_time": "2025-08-19T18:34:11.430529",
     "exception": false,
     "start_time": "2025-08-19T18:34:11.391111",
     "status": "completed"
    },
    "tags": []
   },
   "outputs": [],
   "source": [
    "cp_metrics_dict = {\n",
    "    \"universe_id\": [universe_id],\n",
    "    \"universe_training_year\": [universe_training_year],\n",
    "    \"universe_training_size\": [universe_training_size],\n",
    "    \"universe_scale\": [universe_scale],\n",
    "    \"universe_model\": [universe_model],\n",
    "    \"universe_exclude_features\": [universe_exclude_features],\n",
    "    \"universe_exclude_subgroups\": [universe_exclude_subgroups],\n",
    "    \"q_hat\": [q_hat],\n",
    "    \"coverage\": [metrics[\"coverage\"]],\n",
    "    \"avg_size\": [metrics[\"avg_size\"]],\n",
    "}"
   ]
  },
  {
   "cell_type": "code",
   "execution_count": 49,
   "id": "0d70d4b2",
   "metadata": {
    "execution": {
     "iopub.execute_input": "2025-08-19T18:34:11.463425Z",
     "iopub.status.busy": "2025-08-19T18:34:11.462302Z",
     "iopub.status.idle": "2025-08-19T18:34:11.476618Z",
     "shell.execute_reply": "2025-08-19T18:34:11.474705Z"
    },
    "papermill": {
     "duration": 0.0302,
     "end_time": "2025-08-19T18:34:11.478374",
     "exception": false,
     "start_time": "2025-08-19T18:34:11.448174",
     "status": "completed"
    },
    "tags": []
   },
   "outputs": [],
   "source": [
    "cp_metrics_df = pd.DataFrame(cp_metrics_dict)"
   ]
  },
  {
   "cell_type": "code",
   "execution_count": 50,
   "id": "b494403c",
   "metadata": {
    "execution": {
     "iopub.execute_input": "2025-08-19T18:34:11.512457Z",
     "iopub.status.busy": "2025-08-19T18:34:11.511351Z",
     "iopub.status.idle": "2025-08-19T18:34:11.542893Z",
     "shell.execute_reply": "2025-08-19T18:34:11.541507Z"
    },
    "papermill": {
     "duration": 0.047943,
     "end_time": "2025-08-19T18:34:11.544783",
     "exception": false,
     "start_time": "2025-08-19T18:34:11.496840",
     "status": "completed"
    },
    "tags": []
   },
   "outputs": [
    {
     "data": {
      "text/html": [
       "<div>\n",
       "<style scoped>\n",
       "    .dataframe tbody tr th:only-of-type {\n",
       "        vertical-align: middle;\n",
       "    }\n",
       "\n",
       "    .dataframe tbody tr th {\n",
       "        vertical-align: top;\n",
       "    }\n",
       "\n",
       "    .dataframe thead th {\n",
       "        text-align: right;\n",
       "    }\n",
       "</style>\n",
       "<table border=\"1\" class=\"dataframe\">\n",
       "  <thead>\n",
       "    <tr style=\"text-align: right;\">\n",
       "      <th></th>\n",
       "      <th>universe_id</th>\n",
       "      <th>universe_training_year</th>\n",
       "      <th>universe_training_size</th>\n",
       "      <th>universe_scale</th>\n",
       "      <th>universe_model</th>\n",
       "      <th>universe_exclude_features</th>\n",
       "      <th>universe_exclude_subgroups</th>\n",
       "      <th>q_hat</th>\n",
       "      <th>coverage</th>\n",
       "      <th>avg_size</th>\n",
       "    </tr>\n",
       "  </thead>\n",
       "  <tbody>\n",
       "    <tr>\n",
       "      <th>0</th>\n",
       "      <td>cec8bf8b5ee7d9a03eab2fa29d6f898a</td>\n",
       "      <td>2012_14</td>\n",
       "      <td>5k</td>\n",
       "      <td>scale</td>\n",
       "      <td>gbm</td>\n",
       "      <td>sex</td>\n",
       "      <td>keep-all</td>\n",
       "      <td>0.691321</td>\n",
       "      <td>0.909508</td>\n",
       "      <td>1.123275</td>\n",
       "    </tr>\n",
       "  </tbody>\n",
       "</table>\n",
       "</div>"
      ],
      "text/plain": [
       "                        universe_id universe_training_year  \\\n",
       "0  cec8bf8b5ee7d9a03eab2fa29d6f898a                2012_14   \n",
       "\n",
       "  universe_training_size universe_scale universe_model  \\\n",
       "0                     5k          scale            gbm   \n",
       "\n",
       "  universe_exclude_features universe_exclude_subgroups     q_hat  coverage  \\\n",
       "0                       sex                   keep-all  0.691321  0.909508   \n",
       "\n",
       "   avg_size  \n",
       "0  1.123275  "
      ]
     },
     "execution_count": 50,
     "metadata": {},
     "output_type": "execute_result"
    }
   ],
   "source": [
    "cp_metrics_df"
   ]
  },
  {
   "cell_type": "markdown",
   "id": "ed608b0b",
   "metadata": {
    "papermill": {
     "duration": 0.012476,
     "end_time": "2025-08-19T18:34:11.571890",
     "exception": false,
     "start_time": "2025-08-19T18:34:11.559414",
     "status": "completed"
    },
    "tags": []
   },
   "source": [
    "Conditional coverage & looking at subgroups"
   ]
  },
  {
   "cell_type": "code",
   "execution_count": 51,
   "id": "8968c366",
   "metadata": {
    "execution": {
     "iopub.execute_input": "2025-08-19T18:34:11.602235Z",
     "iopub.status.busy": "2025-08-19T18:34:11.601182Z",
     "iopub.status.idle": "2025-08-19T18:34:11.890747Z",
     "shell.execute_reply": "2025-08-19T18:34:11.889908Z"
    },
    "papermill": {
     "duration": 0.30753,
     "end_time": "2025-08-19T18:34:11.893393",
     "exception": false,
     "start_time": "2025-08-19T18:34:11.585863",
     "status": "completed"
    },
    "tags": []
   },
   "outputs": [],
   "source": [
    "from fairness_multiverse.conformal import build_cp_groups\n",
    "\n",
    "cp_groups_df = build_cp_groups(pred_sets, y_true, X_test.index, org_test)"
   ]
  },
  {
   "cell_type": "code",
   "execution_count": 52,
   "id": "292ddabf",
   "metadata": {
    "execution": {
     "iopub.execute_input": "2025-08-19T18:34:11.920047Z",
     "iopub.status.busy": "2025-08-19T18:34:11.919647Z",
     "iopub.status.idle": "2025-08-19T18:34:12.801641Z",
     "shell.execute_reply": "2025-08-19T18:34:12.800409Z"
    },
    "papermill": {
     "duration": 0.896997,
     "end_time": "2025-08-19T18:34:12.803296",
     "exception": false,
     "start_time": "2025-08-19T18:34:11.906299",
     "status": "completed"
    },
    "tags": []
   },
   "outputs": [],
   "source": [
    "# Define covered = 1 if true_label is in the predicted set\n",
    "cp_groups_df['covered'] = cp_groups_df.apply(\n",
    "    lambda r: int(r['true_label'] in r['pred_set']),\n",
    "    axis=1\n",
    ")"
   ]
  },
  {
   "cell_type": "code",
   "execution_count": 53,
   "id": "3a261692",
   "metadata": {
    "execution": {
     "iopub.execute_input": "2025-08-19T18:34:12.834333Z",
     "iopub.status.busy": "2025-08-19T18:34:12.833482Z",
     "iopub.status.idle": "2025-08-19T18:34:12.854602Z",
     "shell.execute_reply": "2025-08-19T18:34:12.853861Z"
    },
    "papermill": {
     "duration": 0.038723,
     "end_time": "2025-08-19T18:34:12.856651",
     "exception": false,
     "start_time": "2025-08-19T18:34:12.817928",
     "status": "completed"
    },
    "tags": []
   },
   "outputs": [],
   "source": [
    "subgroups = ['frau1','nongerman','nongerman_male','nongerman_female']\n",
    "\n",
    "# Conditional coverage for subgroup==1\n",
    "cond_coverage = {\n",
    "    g: cp_groups_df.loc[cp_groups_df[g]==1, 'covered'].mean()\n",
    "    for g in subgroups\n",
    "}"
   ]
  },
  {
   "cell_type": "code",
   "execution_count": 54,
   "id": "894fd600",
   "metadata": {
    "execution": {
     "iopub.execute_input": "2025-08-19T18:34:12.897286Z",
     "iopub.status.busy": "2025-08-19T18:34:12.895623Z",
     "iopub.status.idle": "2025-08-19T18:34:12.908328Z",
     "shell.execute_reply": "2025-08-19T18:34:12.906938Z"
    },
    "papermill": {
     "duration": 0.029314,
     "end_time": "2025-08-19T18:34:12.910253",
     "exception": false,
     "start_time": "2025-08-19T18:34:12.880939",
     "status": "completed"
    },
    "tags": []
   },
   "outputs": [
    {
     "data": {
      "text/plain": [
       "{'frau1': 0.9051893786224559,\n",
       " 'nongerman': 0.9070903272890586,\n",
       " 'nongerman_male': 0.9243447716833288,\n",
       " 'nongerman_female': 0.8785394932935916}"
      ]
     },
     "execution_count": 54,
     "metadata": {},
     "output_type": "execute_result"
    }
   ],
   "source": [
    "cond_coverage"
   ]
  },
  {
   "cell_type": "code",
   "execution_count": 55,
   "id": "942895c7",
   "metadata": {
    "execution": {
     "iopub.execute_input": "2025-08-19T18:34:12.943100Z",
     "iopub.status.busy": "2025-08-19T18:34:12.941952Z",
     "iopub.status.idle": "2025-08-19T18:34:12.958071Z",
     "shell.execute_reply": "2025-08-19T18:34:12.956788Z"
    },
    "papermill": {
     "duration": 0.032143,
     "end_time": "2025-08-19T18:34:12.959692",
     "exception": false,
     "start_time": "2025-08-19T18:34:12.927549",
     "status": "completed"
    },
    "tags": []
   },
   "outputs": [],
   "source": [
    "for subgroup, cov in cond_coverage.items():\n",
    "    cp_metrics_df[f\"cov_{subgroup}\"] = cov"
   ]
  },
  {
   "cell_type": "code",
   "execution_count": 56,
   "id": "3970120f",
   "metadata": {
    "execution": {
     "iopub.execute_input": "2025-08-19T18:34:12.991689Z",
     "iopub.status.busy": "2025-08-19T18:34:12.988297Z",
     "iopub.status.idle": "2025-08-19T18:34:13.014929Z",
     "shell.execute_reply": "2025-08-19T18:34:13.013968Z"
    },
    "papermill": {
     "duration": 0.042434,
     "end_time": "2025-08-19T18:34:13.017238",
     "exception": false,
     "start_time": "2025-08-19T18:34:12.974804",
     "status": "completed"
    },
    "tags": []
   },
   "outputs": [
    {
     "data": {
      "text/html": [
       "<div>\n",
       "<style scoped>\n",
       "    .dataframe tbody tr th:only-of-type {\n",
       "        vertical-align: middle;\n",
       "    }\n",
       "\n",
       "    .dataframe tbody tr th {\n",
       "        vertical-align: top;\n",
       "    }\n",
       "\n",
       "    .dataframe thead th {\n",
       "        text-align: right;\n",
       "    }\n",
       "</style>\n",
       "<table border=\"1\" class=\"dataframe\">\n",
       "  <thead>\n",
       "    <tr style=\"text-align: right;\">\n",
       "      <th></th>\n",
       "      <th>universe_id</th>\n",
       "      <th>universe_training_year</th>\n",
       "      <th>universe_training_size</th>\n",
       "      <th>universe_scale</th>\n",
       "      <th>universe_model</th>\n",
       "      <th>universe_exclude_features</th>\n",
       "      <th>universe_exclude_subgroups</th>\n",
       "      <th>q_hat</th>\n",
       "      <th>coverage</th>\n",
       "      <th>avg_size</th>\n",
       "      <th>cov_frau1</th>\n",
       "      <th>cov_nongerman</th>\n",
       "      <th>cov_nongerman_male</th>\n",
       "      <th>cov_nongerman_female</th>\n",
       "    </tr>\n",
       "  </thead>\n",
       "  <tbody>\n",
       "    <tr>\n",
       "      <th>0</th>\n",
       "      <td>cec8bf8b5ee7d9a03eab2fa29d6f898a</td>\n",
       "      <td>2012_14</td>\n",
       "      <td>5k</td>\n",
       "      <td>scale</td>\n",
       "      <td>gbm</td>\n",
       "      <td>sex</td>\n",
       "      <td>keep-all</td>\n",
       "      <td>0.691321</td>\n",
       "      <td>0.909508</td>\n",
       "      <td>1.123275</td>\n",
       "      <td>0.905189</td>\n",
       "      <td>0.90709</td>\n",
       "      <td>0.924345</td>\n",
       "      <td>0.878539</td>\n",
       "    </tr>\n",
       "  </tbody>\n",
       "</table>\n",
       "</div>"
      ],
      "text/plain": [
       "                        universe_id universe_training_year  \\\n",
       "0  cec8bf8b5ee7d9a03eab2fa29d6f898a                2012_14   \n",
       "\n",
       "  universe_training_size universe_scale universe_model  \\\n",
       "0                     5k          scale            gbm   \n",
       "\n",
       "  universe_exclude_features universe_exclude_subgroups     q_hat  coverage  \\\n",
       "0                       sex                   keep-all  0.691321  0.909508   \n",
       "\n",
       "   avg_size  cov_frau1  cov_nongerman  cov_nongerman_male  \\\n",
       "0  1.123275   0.905189        0.90709            0.924345   \n",
       "\n",
       "   cov_nongerman_female  \n",
       "0              0.878539  "
      ]
     },
     "execution_count": 56,
     "metadata": {},
     "output_type": "execute_result"
    }
   ],
   "source": [
    "cp_metrics_df"
   ]
  },
  {
   "cell_type": "markdown",
   "id": "3fc519cc",
   "metadata": {
    "papermill": {
     "duration": 0.012251,
     "end_time": "2025-08-19T18:34:13.050382",
     "exception": false,
     "start_time": "2025-08-19T18:34:13.038131",
     "status": "completed"
    },
    "tags": []
   },
   "source": [
    "# (Fairness) Metrics"
   ]
  },
  {
   "cell_type": "code",
   "execution_count": 57,
   "id": "a2e5e155",
   "metadata": {
    "execution": {
     "iopub.execute_input": "2025-08-19T18:34:13.076993Z",
     "iopub.status.busy": "2025-08-19T18:34:13.076399Z",
     "iopub.status.idle": "2025-08-19T18:34:13.111226Z",
     "shell.execute_reply": "2025-08-19T18:34:13.110324Z"
    },
    "papermill": {
     "duration": 0.05146,
     "end_time": "2025-08-19T18:34:13.113948",
     "exception": false,
     "start_time": "2025-08-19T18:34:13.062488",
     "status": "completed"
    },
    "tags": []
   },
   "outputs": [],
   "source": [
    "colname_to_bin = \"maxdeutsch1\"\n",
    "majority_value = org_train[colname_to_bin].mode()[0]\n",
    "\n",
    "org_test[\"majmin\"] = np.where(org_test[colname_to_bin] == majority_value, \"majority\", \"minority\")"
   ]
  },
  {
   "cell_type": "code",
   "execution_count": 58,
   "id": "17e3e4d5",
   "metadata": {
    "execution": {
     "iopub.execute_input": "2025-08-19T18:34:13.157759Z",
     "iopub.status.busy": "2025-08-19T18:34:13.157258Z",
     "iopub.status.idle": "2025-08-19T18:34:14.949268Z",
     "shell.execute_reply": "2025-08-19T18:34:14.947764Z"
    },
    "papermill": {
     "duration": 1.814945,
     "end_time": "2025-08-19T18:34:14.952199",
     "exception": false,
     "start_time": "2025-08-19T18:34:13.137254",
     "status": "completed"
    },
    "tags": []
   },
   "outputs": [],
   "source": [
    "example_universe = universe.copy()\n",
    "example_universe[\"cutoff\"] = example_universe[\"cutoff\"][0]\n",
    "example_universe[\"eval_fairness_grouping\"] = example_universe[\"eval_fairness_grouping\"][0]\n",
    "fairness_dict, metric_frame = universe_analysis.compute_metrics(\n",
    "    example_universe,\n",
    "    y_pred_prob=probs_test,\n",
    "    y_test=y_true,\n",
    "    org_test=org_test,\n",
    ")"
   ]
  },
  {
   "cell_type": "markdown",
   "id": "1fb7a0e9",
   "metadata": {
    "papermill": {
     "duration": 0.012422,
     "end_time": "2025-08-19T18:34:14.990897",
     "exception": false,
     "start_time": "2025-08-19T18:34:14.978475",
     "status": "completed"
    },
    "tags": []
   },
   "source": [
    "# Overall"
   ]
  },
  {
   "cell_type": "markdown",
   "id": "be1784b1",
   "metadata": {
    "papermill": {
     "duration": 0.012015,
     "end_time": "2025-08-19T18:34:15.016871",
     "exception": false,
     "start_time": "2025-08-19T18:34:15.004856",
     "status": "completed"
    },
    "tags": []
   },
   "source": [
    "Main fairness target: Equalized Odds. Seems to be a better fit than equal opportunity, since we're not only interested in Y = 1. Seems to be a better fit than demographic parity, since we also care about accuracy, not just equal distribution of preds.\n",
    "\n",
    "Pick column for computation of fairness metrics\n",
    "\n",
    "Performance\n",
    "Overall performance measures, most interesting in relation to the measures split by group below"
   ]
  },
  {
   "cell_type": "code",
   "execution_count": 59,
   "id": "b7672bee",
   "metadata": {
    "execution": {
     "iopub.execute_input": "2025-08-19T18:34:15.046779Z",
     "iopub.status.busy": "2025-08-19T18:34:15.045130Z",
     "iopub.status.idle": "2025-08-19T18:34:15.061953Z",
     "shell.execute_reply": "2025-08-19T18:34:15.060833Z"
    },
    "papermill": {
     "duration": 0.034577,
     "end_time": "2025-08-19T18:34:15.063561",
     "exception": false,
     "start_time": "2025-08-19T18:34:15.028984",
     "status": "completed"
    },
    "tags": []
   },
   "outputs": [
    {
     "data": {
      "text/plain": [
       "accuracy                   0.224668\n",
       "balanced accuracy          0.549284\n",
       "f1                         0.245992\n",
       "precision                  0.140527\n",
       "false positive rate        0.887356\n",
       "false negative rate        0.014077\n",
       "selection rate             0.900000\n",
       "count                  89710.000000\n",
       "dtype: float64"
      ]
     },
     "execution_count": 59,
     "metadata": {},
     "output_type": "execute_result"
    }
   ],
   "source": [
    "metric_frame.overall"
   ]
  },
  {
   "cell_type": "markdown",
   "id": "d93333c9",
   "metadata": {
    "papermill": {
     "duration": 0.014947,
     "end_time": "2025-08-19T18:34:15.093112",
     "exception": false,
     "start_time": "2025-08-19T18:34:15.078165",
     "status": "completed"
    },
    "tags": []
   },
   "source": [
    "By Group"
   ]
  },
  {
   "cell_type": "code",
   "execution_count": 60,
   "id": "52256966",
   "metadata": {
    "execution": {
     "iopub.execute_input": "2025-08-19T18:34:15.120380Z",
     "iopub.status.busy": "2025-08-19T18:34:15.119138Z",
     "iopub.status.idle": "2025-08-19T18:34:15.141508Z",
     "shell.execute_reply": "2025-08-19T18:34:15.140661Z"
    },
    "papermill": {
     "duration": 0.038235,
     "end_time": "2025-08-19T18:34:15.143617",
     "exception": false,
     "start_time": "2025-08-19T18:34:15.105382",
     "status": "completed"
    },
    "tags": []
   },
   "outputs": [
    {
     "data": {
      "text/html": [
       "<div>\n",
       "<style scoped>\n",
       "    .dataframe tbody tr th:only-of-type {\n",
       "        vertical-align: middle;\n",
       "    }\n",
       "\n",
       "    .dataframe tbody tr th {\n",
       "        vertical-align: top;\n",
       "    }\n",
       "\n",
       "    .dataframe thead th {\n",
       "        text-align: right;\n",
       "    }\n",
       "</style>\n",
       "<table border=\"1\" class=\"dataframe\">\n",
       "  <thead>\n",
       "    <tr style=\"text-align: right;\">\n",
       "      <th></th>\n",
       "      <th>accuracy</th>\n",
       "      <th>balanced accuracy</th>\n",
       "      <th>f1</th>\n",
       "      <th>precision</th>\n",
       "      <th>false positive rate</th>\n",
       "      <th>false negative rate</th>\n",
       "      <th>selection rate</th>\n",
       "      <th>count</th>\n",
       "    </tr>\n",
       "    <tr>\n",
       "      <th>majmin</th>\n",
       "      <th></th>\n",
       "      <th></th>\n",
       "      <th></th>\n",
       "      <th></th>\n",
       "      <th></th>\n",
       "      <th></th>\n",
       "      <th></th>\n",
       "      <th></th>\n",
       "    </tr>\n",
       "  </thead>\n",
       "  <tbody>\n",
       "    <tr>\n",
       "      <th>majority</th>\n",
       "      <td>0.245323</td>\n",
       "      <td>0.558392</td>\n",
       "      <td>0.256258</td>\n",
       "      <td>0.147313</td>\n",
       "      <td>0.867133</td>\n",
       "      <td>0.016083</td>\n",
       "      <td>0.882565</td>\n",
       "      <td>69170.0</td>\n",
       "    </tr>\n",
       "    <tr>\n",
       "      <th>minority</th>\n",
       "      <td>0.155112</td>\n",
       "      <td>0.519753</td>\n",
       "      <td>0.213327</td>\n",
       "      <td>0.119490</td>\n",
       "      <td>0.954160</td>\n",
       "      <td>0.006334</td>\n",
       "      <td>0.958715</td>\n",
       "      <td>20540.0</td>\n",
       "    </tr>\n",
       "  </tbody>\n",
       "</table>\n",
       "</div>"
      ],
      "text/plain": [
       "          accuracy  balanced accuracy        f1  precision  \\\n",
       "majmin                                                       \n",
       "majority  0.245323           0.558392  0.256258   0.147313   \n",
       "minority  0.155112           0.519753  0.213327   0.119490   \n",
       "\n",
       "          false positive rate  false negative rate  selection rate    count  \n",
       "majmin                                                                       \n",
       "majority             0.867133             0.016083        0.882565  69170.0  \n",
       "minority             0.954160             0.006334        0.958715  20540.0  "
      ]
     },
     "execution_count": 60,
     "metadata": {},
     "output_type": "execute_result"
    }
   ],
   "source": [
    "metric_frame.by_group"
   ]
  },
  {
   "cell_type": "code",
   "execution_count": 61,
   "id": "6e6c20ae",
   "metadata": {
    "execution": {
     "iopub.execute_input": "2025-08-19T18:34:15.178199Z",
     "iopub.status.busy": "2025-08-19T18:34:15.177167Z",
     "iopub.status.idle": "2025-08-19T18:34:17.006178Z",
     "shell.execute_reply": "2025-08-19T18:34:17.004934Z"
    },
    "papermill": {
     "duration": 1.844466,
     "end_time": "2025-08-19T18:34:17.007647",
     "exception": false,
     "start_time": "2025-08-19T18:34:15.163181",
     "status": "completed"
    },
    "tags": []
   },
   "outputs": [
    {
     "data": {
      "text/plain": [
       "array([[<Axes: title={'center': 'accuracy'}, xlabel='majmin'>,\n",
       "        <Axes: title={'center': 'balanced accuracy'}, xlabel='majmin'>,\n",
       "        <Axes: title={'center': 'f1'}, xlabel='majmin'>],\n",
       "       [<Axes: title={'center': 'precision'}, xlabel='majmin'>,\n",
       "        <Axes: title={'center': 'false positive rate'}, xlabel='majmin'>,\n",
       "        <Axes: title={'center': 'false negative rate'}, xlabel='majmin'>],\n",
       "       [<Axes: title={'center': 'selection rate'}, xlabel='majmin'>,\n",
       "        <Axes: title={'center': 'count'}, xlabel='majmin'>,\n",
       "        <Axes: xlabel='majmin'>]], dtype=object)"
      ]
     },
     "execution_count": 61,
     "metadata": {},
     "output_type": "execute_result"
    },
    {
     "data": {
      "image/png": "[encoded data removed]",
      "text/plain": [
       "<Figure size 1200x800 with 9 Axes>"
      ]
     },
     "metadata": {},
     "output_type": "display_data"
    }
   ],
   "source": [
    "# In a graphic\n",
    "metric_frame.by_group.plot.bar(\n",
    "    subplots=True,\n",
    "    layout=[3, 3],\n",
    "    legend=False,\n",
    "    figsize=[12, 8],\n",
    "    title=\"Show all metrics\",\n",
    ")"
   ]
  },
  {
   "cell_type": "markdown",
   "id": "b2e433ae",
   "metadata": {
    "papermill": {
     "duration": 0.013846,
     "end_time": "2025-08-19T18:34:17.038757",
     "exception": false,
     "start_time": "2025-08-19T18:34:17.024911",
     "status": "completed"
    },
    "tags": []
   },
   "source": [
    "# Final Output"
   ]
  },
  {
   "cell_type": "code",
   "execution_count": 62,
   "id": "3871301e",
   "metadata": {
    "execution": {
     "iopub.execute_input": "2025-08-19T18:34:17.202209Z",
     "iopub.status.busy": "2025-08-19T18:34:17.200276Z",
     "iopub.status.idle": "2025-08-19T18:34:17.219542Z",
     "shell.execute_reply": "2025-08-19T18:34:17.218303Z"
    },
    "papermill": {
     "duration": 0.16975,
     "end_time": "2025-08-19T18:34:17.222105",
     "exception": false,
     "start_time": "2025-08-19T18:34:17.052355",
     "status": "completed"
    },
    "tags": []
   },
   "outputs": [
    {
     "data": {
      "text/plain": [
       "4"
      ]
     },
     "execution_count": 62,
     "metadata": {},
     "output_type": "execute_result"
    }
   ],
   "source": [
    "sub_universes = universe_analysis.generate_sub_universes()\n",
    "len(sub_universes)"
   ]
  },
  {
   "cell_type": "code",
   "execution_count": 63,
   "id": "d9cfdaca",
   "metadata": {
    "execution": {
     "iopub.execute_input": "2025-08-19T18:34:17.268604Z",
     "iopub.status.busy": "2025-08-19T18:34:17.267452Z",
     "iopub.status.idle": "2025-08-19T18:34:17.276913Z",
     "shell.execute_reply": "2025-08-19T18:34:17.275379Z"
    },
    "papermill": {
     "duration": 0.027793,
     "end_time": "2025-08-19T18:34:17.278645",
     "exception": false,
     "start_time": "2025-08-19T18:34:17.250852",
     "status": "completed"
    },
    "tags": []
   },
   "outputs": [],
   "source": [
    "def filter_sub_universe_data(sub_universe, org_test):\n",
    "    # Keep all rows — no filtering\n",
    "    keep_rows_mask = np.ones(org_test.shape[0], dtype=bool)\n",
    "\n",
    "    print(f\"[INFO] Keeping all rows: {keep_rows_mask.sum()} rows retained.\")\n",
    "    return keep_rows_mask"
   ]
  },
  {
   "cell_type": "code",
   "execution_count": 64,
   "id": "2bc31ac1",
   "metadata": {
    "execution": {
     "iopub.execute_input": "2025-08-19T18:34:17.329742Z",
     "iopub.status.busy": "2025-08-19T18:34:17.326395Z",
     "iopub.status.idle": "2025-08-19T18:34:23.964989Z",
     "shell.execute_reply": "2025-08-19T18:34:23.963982Z"
    },
    "papermill": {
     "duration": 6.655459,
     "end_time": "2025-08-19T18:34:23.966279",
     "exception": false,
     "start_time": "2025-08-19T18:34:17.310820",
     "status": "completed"
    },
    "tags": []
   },
   "outputs": [
    {
     "name": "stdout",
     "output_type": "stream",
     "text": [
      "Stopping execution_time clock.\n",
      "[INFO] Keeping all rows: 89710 rows retained.\n"
     ]
    },
    {
     "name": "stdout",
     "output_type": "stream",
     "text": [
      "[INFO] Keeping all rows: 89710 rows retained.\n"
     ]
    },
    {
     "name": "stdout",
     "output_type": "stream",
     "text": [
      "[INFO] Keeping all rows: 89710 rows retained.\n"
     ]
    },
    {
     "name": "stdout",
     "output_type": "stream",
     "text": [
      "[INFO] Keeping all rows: 89710 rows retained.\n"
     ]
    },
    {
     "data": {
      "text/html": [
       "<div>\n",
       "<style scoped>\n",
       "    .dataframe tbody tr th:only-of-type {\n",
       "        vertical-align: middle;\n",
       "    }\n",
       "\n",
       "    .dataframe tbody tr th {\n",
       "        vertical-align: top;\n",
       "    }\n",
       "\n",
       "    .dataframe thead th {\n",
       "        text-align: right;\n",
       "    }\n",
       "</style>\n",
       "<table border=\"1\" class=\"dataframe\">\n",
       "  <thead>\n",
       "    <tr style=\"text-align: right;\">\n",
       "      <th></th>\n",
       "      <th>run_no</th>\n",
       "      <th>universe_id</th>\n",
       "      <th>universe_settings</th>\n",
       "      <th>execution_time</th>\n",
       "      <th>test_size_n</th>\n",
       "      <th>test_size_frac</th>\n",
       "      <th>fair_main_equalized_odds_difference</th>\n",
       "      <th>fair_main_equalized_odds_ratio</th>\n",
       "      <th>fair_main_demographic_parity_difference</th>\n",
       "      <th>fair_main_demographic_parity_ratio</th>\n",
       "      <th>...</th>\n",
       "      <th>perf_grp_precision_0</th>\n",
       "      <th>perf_grp_precision_1</th>\n",
       "      <th>perf_grp_false positive rate_0</th>\n",
       "      <th>perf_grp_false positive rate_1</th>\n",
       "      <th>perf_grp_false negative rate_0</th>\n",
       "      <th>perf_grp_false negative rate_1</th>\n",
       "      <th>perf_grp_selection rate_0</th>\n",
       "      <th>perf_grp_selection rate_1</th>\n",
       "      <th>perf_grp_count_0</th>\n",
       "      <th>perf_grp_count_1</th>\n",
       "    </tr>\n",
       "  </thead>\n",
       "  <tbody>\n",
       "    <tr>\n",
       "      <th>0</th>\n",
       "      <td>3</td>\n",
       "      <td>cec8bf8b5ee7d9a03eab2fa29d6f898a</td>\n",
       "      <td>{\"cutoff\": \"quantile_0.1\", \"eval_fairness_grou...</td>\n",
       "      <td>27.374327</td>\n",
       "      <td>89710</td>\n",
       "      <td>1.0</td>\n",
       "      <td>0.087027</td>\n",
       "      <td>0.908792</td>\n",
       "      <td>0.076150</td>\n",
       "      <td>0.920571</td>\n",
       "      <td>...</td>\n",
       "      <td>NaN</td>\n",
       "      <td>NaN</td>\n",
       "      <td>NaN</td>\n",
       "      <td>NaN</td>\n",
       "      <td>NaN</td>\n",
       "      <td>NaN</td>\n",
       "      <td>NaN</td>\n",
       "      <td>NaN</td>\n",
       "      <td>NaN</td>\n",
       "      <td>NaN</td>\n",
       "    </tr>\n",
       "    <tr>\n",
       "      <th>0</th>\n",
       "      <td>3</td>\n",
       "      <td>cec8bf8b5ee7d9a03eab2fa29d6f898a</td>\n",
       "      <td>{\"cutoff\": \"quantile_0.1\", \"eval_fairness_grou...</td>\n",
       "      <td>27.374327</td>\n",
       "      <td>89710</td>\n",
       "      <td>1.0</td>\n",
       "      <td>0.087027</td>\n",
       "      <td>0.908792</td>\n",
       "      <td>0.076150</td>\n",
       "      <td>0.920571</td>\n",
       "      <td>...</td>\n",
       "      <td>0.119490</td>\n",
       "      <td>0.147313</td>\n",
       "      <td>0.954160</td>\n",
       "      <td>0.867133</td>\n",
       "      <td>0.006334</td>\n",
       "      <td>0.016083</td>\n",
       "      <td>0.958715</td>\n",
       "      <td>0.882565</td>\n",
       "      <td>20540.0</td>\n",
       "      <td>69170.0</td>\n",
       "    </tr>\n",
       "    <tr>\n",
       "      <th>0</th>\n",
       "      <td>3</td>\n",
       "      <td>cec8bf8b5ee7d9a03eab2fa29d6f898a</td>\n",
       "      <td>{\"cutoff\": \"quantile_0.25\", \"eval_fairness_gro...</td>\n",
       "      <td>27.374327</td>\n",
       "      <td>89710</td>\n",
       "      <td>1.0</td>\n",
       "      <td>0.104118</td>\n",
       "      <td>0.870088</td>\n",
       "      <td>0.086702</td>\n",
       "      <td>0.893857</td>\n",
       "      <td>...</td>\n",
       "      <td>NaN</td>\n",
       "      <td>NaN</td>\n",
       "      <td>NaN</td>\n",
       "      <td>NaN</td>\n",
       "      <td>NaN</td>\n",
       "      <td>NaN</td>\n",
       "      <td>NaN</td>\n",
       "      <td>NaN</td>\n",
       "      <td>NaN</td>\n",
       "      <td>NaN</td>\n",
       "    </tr>\n",
       "    <tr>\n",
       "      <th>0</th>\n",
       "      <td>3</td>\n",
       "      <td>cec8bf8b5ee7d9a03eab2fa29d6f898a</td>\n",
       "      <td>{\"cutoff\": \"quantile_0.25\", \"eval_fairness_gro...</td>\n",
       "      <td>27.374327</td>\n",
       "      <td>89710</td>\n",
       "      <td>1.0</td>\n",
       "      <td>0.104118</td>\n",
       "      <td>0.870088</td>\n",
       "      <td>0.086702</td>\n",
       "      <td>0.893857</td>\n",
       "      <td>...</td>\n",
       "      <td>0.131959</td>\n",
       "      <td>0.171135</td>\n",
       "      <td>0.801453</td>\n",
       "      <td>0.697335</td>\n",
       "      <td>0.065034</td>\n",
       "      <td>0.054376</td>\n",
       "      <td>0.816845</td>\n",
       "      <td>0.730143</td>\n",
       "      <td>20540.0</td>\n",
       "      <td>69170.0</td>\n",
       "    </tr>\n",
       "  </tbody>\n",
       "</table>\n",
       "<p>4 rows × 50 columns</p>\n",
       "</div>"
      ],
      "text/plain": [
       "  run_no                       universe_id  \\\n",
       "0      3  cec8bf8b5ee7d9a03eab2fa29d6f898a   \n",
       "0      3  cec8bf8b5ee7d9a03eab2fa29d6f898a   \n",
       "0      3  cec8bf8b5ee7d9a03eab2fa29d6f898a   \n",
       "0      3  cec8bf8b5ee7d9a03eab2fa29d6f898a   \n",
       "\n",
       "                                   universe_settings  execution_time  \\\n",
       "0  {\"cutoff\": \"quantile_0.1\", \"eval_fairness_grou...       27.374327   \n",
       "0  {\"cutoff\": \"quantile_0.1\", \"eval_fairness_grou...       27.374327   \n",
       "0  {\"cutoff\": \"quantile_0.25\", \"eval_fairness_gro...       27.374327   \n",
       "0  {\"cutoff\": \"quantile_0.25\", \"eval_fairness_gro...       27.374327   \n",
       "\n",
       "   test_size_n  test_size_frac  fair_main_equalized_odds_difference  \\\n",
       "0        89710             1.0                             0.087027   \n",
       "0        89710             1.0                             0.087027   \n",
       "0        89710             1.0                             0.104118   \n",
       "0        89710             1.0                             0.104118   \n",
       "\n",
       "   fair_main_equalized_odds_ratio  fair_main_demographic_parity_difference  \\\n",
       "0                        0.908792                                 0.076150   \n",
       "0                        0.908792                                 0.076150   \n",
       "0                        0.870088                                 0.086702   \n",
       "0                        0.870088                                 0.086702   \n",
       "\n",
       "   fair_main_demographic_parity_ratio  ...  perf_grp_precision_0  \\\n",
       "0                            0.920571  ...                   NaN   \n",
       "0                            0.920571  ...              0.119490   \n",
       "0                            0.893857  ...                   NaN   \n",
       "0                            0.893857  ...              0.131959   \n",
       "\n",
       "   perf_grp_precision_1  perf_grp_false positive rate_0  \\\n",
       "0                   NaN                             NaN   \n",
       "0              0.147313                        0.954160   \n",
       "0                   NaN                             NaN   \n",
       "0              0.171135                        0.801453   \n",
       "\n",
       "   perf_grp_false positive rate_1  perf_grp_false negative rate_0  \\\n",
       "0                             NaN                             NaN   \n",
       "0                        0.867133                        0.006334   \n",
       "0                             NaN                             NaN   \n",
       "0                        0.697335                        0.065034   \n",
       "\n",
       "   perf_grp_false negative rate_1  perf_grp_selection rate_0  \\\n",
       "0                             NaN                        NaN   \n",
       "0                        0.016083                   0.958715   \n",
       "0                             NaN                        NaN   \n",
       "0                        0.054376                   0.816845   \n",
       "\n",
       "   perf_grp_selection rate_1  perf_grp_count_0  perf_grp_count_1  \n",
       "0                        NaN               NaN               NaN  \n",
       "0                   0.882565           20540.0           69170.0  \n",
       "0                        NaN               NaN               NaN  \n",
       "0                   0.730143           20540.0           69170.0  \n",
       "\n",
       "[4 rows x 50 columns]"
      ]
     },
     "execution_count": 64,
     "metadata": {},
     "output_type": "execute_result"
    }
   ],
   "source": [
    "final_output = universe_analysis.generate_final_output(\n",
    "    y_pred_prob=probs_test,\n",
    "    y_test=y_true,\n",
    "    org_test=org_test,\n",
    "    filter_data=filter_sub_universe_data,\n",
    "    cp_metrics_df=cp_metrics_df,\n",
    "    save=True,\n",
    ")\n",
    "final_output"
   ]
  },
  {
   "cell_type": "code",
   "execution_count": null,
   "id": "8b80a1ff",
   "metadata": {
    "papermill": {
     "duration": 0.014723,
     "end_time": "2025-08-19T18:34:23.998450",
     "exception": false,
     "start_time": "2025-08-19T18:34:23.983727",
     "status": "completed"
    },
    "tags": []
   },
   "outputs": [],
   "source": []
  },
  {
   "cell_type": "code",
   "execution_count": null,
   "id": "275c9fad",
   "metadata": {
    "papermill": {
     "duration": 0.015836,
     "end_time": "2025-08-19T18:34:24.033810",
     "exception": false,
     "start_time": "2025-08-19T18:34:24.017974",
     "status": "completed"
    },
    "tags": []
   },
   "outputs": [],
   "source": []
  }
 ],
 "metadata": {
  "celltoolbar": "Tags",
  "kernelspec": {
   "display_name": "Python (CMA Fairness)",
   "language": "python",
   "name": "cma_fair_env"
  },
  "language_info": {
   "codemirror_mode": {
    "name": "ipython",
    "version": 3
   },
   "file_extension": ".py",
   "mimetype": "text/x-python",
   "name": "python",
   "nbconvert_exporter": "python",
   "pygments_lexer": "ipython3",
   "version": "3.10.12"
  },
  "papermill": {
   "default_parameters": {},
   "duration": 37.872044,
   "end_time": "2025-08-19T18:34:24.874441",
   "environment_variables": {},
   "exception": null,
   "input_path": "universe_analysis.ipynb",
   "output_path": "output/runs/3/notebooks/m_3-cec8bf8b5ee7d9a03eab2fa29d6f898a.ipynb",
   "parameters": {
    "output_dir": "output",
    "run_no": "3",
    "seed": "2023",
    "universe": "{\"cutoff\": [\"quantile_0.1\", \"quantile_0.25\"], \"eval_fairness_grouping\": [\"majority-minority\", \"nationality-all\"], \"exclude_features\": \"sex\", \"exclude_subgroups\": \"keep-all\", \"model\": \"gbm\", \"scale\": \"scale\", \"training_size\": \"5k\", \"training_year\": \"2012_14\"}",
    "universe_id": "cec8bf8b5ee7d9a03eab2fa29d6f898a"
   },
   "start_time": "2025-08-19T18:33:47.002397",
   "version": "2.6.0"
  }
 },
 "nbformat": 4,
 "nbformat_minor": 5
}