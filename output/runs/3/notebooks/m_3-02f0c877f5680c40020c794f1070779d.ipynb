{
 "cells": [
  {
   "cell_type": "markdown",
   "id": "ef23dbb3",
   "metadata": {
    "papermill": {
     "duration": 0.022029,
     "end_time": "2025-08-19T19:11:32.607072",
     "exception": false,
     "start_time": "2025-08-19T19:11:32.585043",
     "status": "completed"
    },
    "tags": []
   },
   "source": [
    "# Setup"
   ]
  },
  {
   "cell_type": "code",
   "execution_count": 1,
   "id": "0bc8e7dc",
   "metadata": {
    "execution": {
     "iopub.execute_input": "2025-08-19T19:11:32.629465Z",
     "iopub.status.busy": "2025-08-19T19:11:32.629170Z",
     "iopub.status.idle": "2025-08-19T19:11:32.641309Z",
     "shell.execute_reply": "2025-08-19T19:11:32.640183Z"
    },
    "papermill": {
     "duration": 0.029035,
     "end_time": "2025-08-19T19:11:32.648282",
     "exception": false,
     "start_time": "2025-08-19T19:11:32.619247",
     "status": "completed"
    },
    "tags": []
   },
   "outputs": [
    {
     "name": "stdout",
     "output_type": "stream",
     "text": [
      "/dss/dsshome1/0C/ra93lal2/cma/CMA_Fairness_v2\n"
     ]
    },
    {
     "name": "stderr",
     "output_type": "stream",
     "text": [
      "/dss/dsshome1/0C/ra93lal2/.local/share/virtualenvs/CMA_Fairness_v2-3j10GkSs/lib/python3.10/site-packages/IPython/core/magics/osm.py:393: UserWarning: This is now an optional IPython functionality, using bookmarks requires you to install the `pickleshare` library.\n",
      "  bkms = self.shell.db.get('bookmarks', {})\n",
      "/dss/dsshome1/0C/ra93lal2/.local/share/virtualenvs/CMA_Fairness_v2-3j10GkSs/lib/python3.10/site-packages/IPython/core/magics/osm.py:417: UserWarning: This is now an optional IPython functionality, setting dhist requires you to install the `pickleshare` library.\n",
      "  self.shell.db['dhist'] = compress_dhist(dhist)[-100:]\n"
     ]
    }
   ],
   "source": [
    "%cd ~/cma/CMA_Fairness_v2"
   ]
  },
  {
   "cell_type": "markdown",
   "id": "9d235661",
   "metadata": {
    "papermill": {
     "duration": 0.010505,
     "end_time": "2025-08-19T19:11:32.673201",
     "exception": false,
     "start_time": "2025-08-19T19:11:32.662696",
     "status": "completed"
    },
    "tags": []
   },
   "source": [
    "The following cell holds the definition of our parameters, these values can be overriden by rendering the with e.g. the following command:\n",
    "\n",
    "papermill -p alpha 0.2 -p ratio 0.3 universe_analysis.ipynb output/test_run.ipynb"
   ]
  },
  {
   "cell_type": "code",
   "execution_count": 2,
   "id": "4a789d8e",
   "metadata": {
    "execution": {
     "iopub.execute_input": "2025-08-19T19:11:32.693117Z",
     "iopub.status.busy": "2025-08-19T19:11:32.691933Z",
     "iopub.status.idle": "2025-08-19T19:11:32.701477Z",
     "shell.execute_reply": "2025-08-19T19:11:32.699896Z"
    },
    "papermill": {
     "duration": 0.021422,
     "end_time": "2025-08-19T19:11:32.703175",
     "exception": false,
     "start_time": "2025-08-19T19:11:32.681753",
     "status": "completed"
    },
    "tags": []
   },
   "outputs": [
    {
     "name": "stdout",
     "output_type": "stream",
     "text": [
      "Current working directory: /dss/dsshome1/0C/ra93lal2/cma/CMA_Fairness_v2\n"
     ]
    }
   ],
   "source": [
    "import os\n",
    "print(\"Current working directory:\", os.getcwd())"
   ]
  },
  {
   "cell_type": "code",
   "execution_count": 3,
   "id": "4132aaed",
   "metadata": {
    "execution": {
     "iopub.execute_input": "2025-08-19T19:11:32.728741Z",
     "iopub.status.busy": "2025-08-19T19:11:32.727618Z",
     "iopub.status.idle": "2025-08-19T19:11:32.737404Z",
     "shell.execute_reply": "2025-08-19T19:11:32.736182Z"
    },
    "papermill": {
     "duration": 0.021923,
     "end_time": "2025-08-19T19:11:32.738980",
     "exception": false,
     "start_time": "2025-08-19T19:11:32.717057",
     "status": "completed"
    },
    "tags": [
     "parameters"
    ]
   },
   "outputs": [],
   "source": [
    "run_no = 0\n",
    "universe_id = \"test\"\n",
    "universe = {\n",
    "    \"training_size\": \"5k\", # \"25k\", \"5k\", \"1k\"\n",
    "    \"training_year\": \"2012_14\", # \"2014\", \"2012_14\", \"2010_14\"\n",
    "    \"scale\": \"scale\", # \"scale\", \"do-not-scale\",\n",
    "    \"model\": \"elasticnet\", # \"logreg\", \"penalized_logreg\", \"rf\", \"gbm\", \"elasticnet\"\n",
    "    \"cutoff\": [\"quantile_0.15\", \"quantile_0.30\"],\n",
    "    \"exclude_features\": \"age\", # \"none\", \"nationality\", \"sex\", \"nationality-sex\", \"age\"\n",
    "    \"exclude_subgroups\": \"drop-non-german\", # \"keep-all\", \"drop-non-german\"\n",
    "    \"eval_fairness_grouping\": [\"majority-minority\", \"nationality-all\"]\n",
    "}\n",
    "\n",
    "output_dir=\"./output\"\n",
    "seed=0"
   ]
  },
  {
   "cell_type": "code",
   "execution_count": 4,
   "id": "b77b3389",
   "metadata": {
    "execution": {
     "iopub.execute_input": "2025-08-19T19:11:32.879126Z",
     "iopub.status.busy": "2025-08-19T19:11:32.878658Z",
     "iopub.status.idle": "2025-08-19T19:11:32.882794Z",
     "shell.execute_reply": "2025-08-19T19:11:32.882199Z"
    },
    "papermill": {
     "duration": 0.015079,
     "end_time": "2025-08-19T19:11:32.883882",
     "exception": false,
     "start_time": "2025-08-19T19:11:32.868803",
     "status": "completed"
    },
    "tags": [
     "injected-parameters"
    ]
   },
   "outputs": [],
   "source": [
    "# Parameters\n",
    "universe_id = \"02f0c877f5680c40020c794f1070779d\"\n",
    "run_no = \"3\"\n",
    "universe = \"{\\\"cutoff\\\": [\\\"quantile_0.1\\\", \\\"quantile_0.25\\\"], \\\"eval_fairness_grouping\\\": [\\\"majority-minority\\\", \\\"nationality-all\\\"], \\\"exclude_features\\\": \\\"age\\\", \\\"exclude_subgroups\\\": \\\"drop-non-german\\\", \\\"model\\\": \\\"gbm\\\", \\\"scale\\\": \\\"do-not-scale\\\", \\\"training_size\\\": \\\"1k\\\", \\\"training_year\\\": \\\"2010_14\\\"}\"\n",
    "output_dir = \"output\"\n",
    "seed = \"2023\"\n"
   ]
  },
  {
   "cell_type": "code",
   "execution_count": 5,
   "id": "a5d7941f",
   "metadata": {
    "execution": {
     "iopub.execute_input": "2025-08-19T19:11:32.903263Z",
     "iopub.status.busy": "2025-08-19T19:11:32.902837Z",
     "iopub.status.idle": "2025-08-19T19:11:32.906663Z",
     "shell.execute_reply": "2025-08-19T19:11:32.906073Z"
    },
    "papermill": {
     "duration": 0.014766,
     "end_time": "2025-08-19T19:11:32.907833",
     "exception": false,
     "start_time": "2025-08-19T19:11:32.893067",
     "status": "completed"
    },
    "tags": []
   },
   "outputs": [],
   "source": [
    "import json\n",
    "if isinstance(universe, str):\n",
    "    universe = json.loads(universe)"
   ]
  },
  {
   "cell_type": "code",
   "execution_count": 6,
   "id": "7076ccb1",
   "metadata": {
    "execution": {
     "iopub.execute_input": "2025-08-19T19:11:32.926773Z",
     "iopub.status.busy": "2025-08-19T19:11:32.926362Z",
     "iopub.status.idle": "2025-08-19T19:11:32.968973Z",
     "shell.execute_reply": "2025-08-19T19:11:32.968126Z"
    },
    "papermill": {
     "duration": 0.055188,
     "end_time": "2025-08-19T19:11:32.971998",
     "exception": false,
     "start_time": "2025-08-19T19:11:32.916810",
     "status": "completed"
    },
    "tags": []
   },
   "outputs": [],
   "source": [
    "# Auto-reload the custom package\n",
    "%load_ext autoreload\n",
    "%autoreload 1\n",
    "%aimport fairness_multiverse"
   ]
  },
  {
   "cell_type": "code",
   "execution_count": 7,
   "id": "94c8eb93",
   "metadata": {
    "execution": {
     "iopub.execute_input": "2025-08-19T19:11:33.006949Z",
     "iopub.status.busy": "2025-08-19T19:11:33.004830Z",
     "iopub.status.idle": "2025-08-19T19:11:34.612406Z",
     "shell.execute_reply": "2025-08-19T19:11:34.611202Z"
    },
    "papermill": {
     "duration": 1.622026,
     "end_time": "2025-08-19T19:11:34.614164",
     "exception": false,
     "start_time": "2025-08-19T19:11:32.992138",
     "status": "completed"
    },
    "tags": []
   },
   "outputs": [],
   "source": [
    "from fairness_multiverse.universe import UniverseAnalysis\n",
    "\n",
    "universe_analysis = UniverseAnalysis(\n",
    "    run_no = run_no,\n",
    "    universe_id = universe_id,\n",
    "    universe = universe,\n",
    "    output_dir=output_dir,\n",
    ")"
   ]
  },
  {
   "cell_type": "code",
   "execution_count": 8,
   "id": "2a6381cf",
   "metadata": {
    "execution": {
     "iopub.execute_input": "2025-08-19T19:11:34.635885Z",
     "iopub.status.busy": "2025-08-19T19:11:34.635326Z",
     "iopub.status.idle": "2025-08-19T19:11:34.641653Z",
     "shell.execute_reply": "2025-08-19T19:11:34.640647Z"
    },
    "papermill": {
     "duration": 0.018023,
     "end_time": "2025-08-19T19:11:34.643013",
     "exception": false,
     "start_time": "2025-08-19T19:11:34.624990",
     "status": "completed"
    },
    "tags": []
   },
   "outputs": [
    {
     "name": "stdout",
     "output_type": "stream",
     "text": [
      "Using Seed: 2023\n"
     ]
    }
   ],
   "source": [
    "import numpy as np\n",
    "parsed_seed = int(seed)\n",
    "np.random.seed(parsed_seed)\n",
    "print(f\"Using Seed: {parsed_seed}\")"
   ]
  },
  {
   "cell_type": "markdown",
   "id": "b6e958b4",
   "metadata": {
    "papermill": {
     "duration": 0.011941,
     "end_time": "2025-08-19T19:11:34.665122",
     "exception": false,
     "start_time": "2025-08-19T19:11:34.653181",
     "status": "completed"
    },
    "tags": []
   },
   "source": [
    "# Loading Data"
   ]
  },
  {
   "cell_type": "code",
   "execution_count": 9,
   "id": "98701482",
   "metadata": {
    "execution": {
     "iopub.execute_input": "2025-08-19T19:11:34.684733Z",
     "iopub.status.busy": "2025-08-19T19:11:34.684166Z",
     "iopub.status.idle": "2025-08-19T19:11:44.894035Z",
     "shell.execute_reply": "2025-08-19T19:11:44.892791Z"
    },
    "papermill": {
     "duration": 10.221755,
     "end_time": "2025-08-19T19:11:44.895794",
     "exception": false,
     "start_time": "2025-08-19T19:11:34.674039",
     "status": "completed"
    },
    "tags": []
   },
   "outputs": [
    {
     "name": "stdout",
     "output_type": "stream",
     "text": [
      "Loading SIAB data from cache: data/siab_cached.csv.gz\n"
     ]
    },
    {
     "name": "stdout",
     "output_type": "stream",
     "text": [
      "(643690, 164)\n"
     ]
    }
   ],
   "source": [
    "from pathlib import Path\n",
    "import pandas as pd\n",
    "\n",
    "# File paths\n",
    "raw_file = Path(\"data/raw/siab.csv\")\n",
    "cache_file = Path(\"data/siab_cached.csv.gz\")\n",
    "\n",
    "# Ensure cache directory exists\n",
    "cache_file.parent.mkdir(parents=True, exist_ok=True)\n",
    "\n",
    "# Load with simple caching\n",
    "if cache_file.exists():\n",
    "    print(f\"Loading SIAB data from cache: {cache_file}\")\n",
    "    siab = pd.read_csv(cache_file, compression='gzip')\n",
    "else:\n",
    "    print(f\"Cache not found. Reading raw SIAB data: {raw_file}\")\n",
    "    siab = pd.read_csv(raw_file)\n",
    "    siab.to_csv(cache_file, index=False, compression='gzip')\n",
    "    print(f\"Cached SIAB data to: {cache_file}\")\n",
    "\n",
    "print(siab.shape)"
   ]
  },
  {
   "cell_type": "code",
   "execution_count": 10,
   "id": "058d2abb",
   "metadata": {
    "execution": {
     "iopub.execute_input": "2025-08-19T19:11:44.928788Z",
     "iopub.status.busy": "2025-08-19T19:11:44.928311Z",
     "iopub.status.idle": "2025-08-19T19:11:45.110143Z",
     "shell.execute_reply": "2025-08-19T19:11:45.109403Z"
    },
    "papermill": {
     "duration": 0.196354,
     "end_time": "2025-08-19T19:11:45.112005",
     "exception": false,
     "start_time": "2025-08-19T19:11:44.915651",
     "status": "completed"
    },
    "tags": []
   },
   "outputs": [
    {
     "data": {
      "text/html": [
       "<div>\n",
       "<style scoped>\n",
       "    .dataframe tbody tr th:only-of-type {\n",
       "        vertical-align: middle;\n",
       "    }\n",
       "\n",
       "    .dataframe tbody tr th {\n",
       "        vertical-align: top;\n",
       "    }\n",
       "\n",
       "    .dataframe thead th {\n",
       "        text-align: right;\n",
       "    }\n",
       "</style>\n",
       "<table border=\"1\" class=\"dataframe\">\n",
       "  <thead>\n",
       "    <tr style=\"text-align: right;\">\n",
       "      <th></th>\n",
       "      <th>persnr</th>\n",
       "      <th>year</th>\n",
       "      <th>nrEntry</th>\n",
       "      <th>ltue</th>\n",
       "      <th>employed_before</th>\n",
       "      <th>receipt_leh_before</th>\n",
       "      <th>receipt_lhg_before</th>\n",
       "      <th>se_before</th>\n",
       "      <th>ASU_notue_seeking_before</th>\n",
       "      <th>ASU_other_before</th>\n",
       "      <th>...</th>\n",
       "      <th>minijob_tot_dur_byage</th>\n",
       "      <th>ft_tot_dur_byage</th>\n",
       "      <th>befrist_tot_dur_byage</th>\n",
       "      <th>leih_tot_dur_byage</th>\n",
       "      <th>LHG_tot_dur_byage</th>\n",
       "      <th>LEH_tot_dur_byage</th>\n",
       "      <th>almp_tot_dur_byage</th>\n",
       "      <th>almp_aw_tot_dur_byage</th>\n",
       "      <th>se_tot_dur_byage</th>\n",
       "      <th>seeking1_tot_dur_byage</th>\n",
       "    </tr>\n",
       "  </thead>\n",
       "  <tbody>\n",
       "    <tr>\n",
       "      <th>0</th>\n",
       "      <td>7</td>\n",
       "      <td>2015</td>\n",
       "      <td>1</td>\n",
       "      <td>0</td>\n",
       "      <td>1</td>\n",
       "      <td>0</td>\n",
       "      <td>0</td>\n",
       "      <td>0</td>\n",
       "      <td>1</td>\n",
       "      <td>0</td>\n",
       "      <td>...</td>\n",
       "      <td>0.000000</td>\n",
       "      <td>0.000000</td>\n",
       "      <td>15.043478</td>\n",
       "      <td>0.000000</td>\n",
       "      <td>0.000000</td>\n",
       "      <td>0.000000</td>\n",
       "      <td>0.000000</td>\n",
       "      <td>0.000000</td>\n",
       "      <td>0.000000</td>\n",
       "      <td>0.000000</td>\n",
       "    </tr>\n",
       "    <tr>\n",
       "      <th>1</th>\n",
       "      <td>18</td>\n",
       "      <td>2010</td>\n",
       "      <td>1</td>\n",
       "      <td>1</td>\n",
       "      <td>0</td>\n",
       "      <td>0</td>\n",
       "      <td>0</td>\n",
       "      <td>0</td>\n",
       "      <td>0</td>\n",
       "      <td>0</td>\n",
       "      <td>...</td>\n",
       "      <td>0.000000</td>\n",
       "      <td>0.000000</td>\n",
       "      <td>0.000000</td>\n",
       "      <td>0.000000</td>\n",
       "      <td>0.000000</td>\n",
       "      <td>0.000000</td>\n",
       "      <td>0.000000</td>\n",
       "      <td>0.000000</td>\n",
       "      <td>0.000000</td>\n",
       "      <td>0.000000</td>\n",
       "    </tr>\n",
       "    <tr>\n",
       "      <th>2</th>\n",
       "      <td>18</td>\n",
       "      <td>2011</td>\n",
       "      <td>2</td>\n",
       "      <td>0</td>\n",
       "      <td>1</td>\n",
       "      <td>0</td>\n",
       "      <td>1</td>\n",
       "      <td>0</td>\n",
       "      <td>1</td>\n",
       "      <td>0</td>\n",
       "      <td>...</td>\n",
       "      <td>2.714286</td>\n",
       "      <td>2.714286</td>\n",
       "      <td>0.000000</td>\n",
       "      <td>0.000000</td>\n",
       "      <td>10.775510</td>\n",
       "      <td>0.000000</td>\n",
       "      <td>8.367347</td>\n",
       "      <td>0.000000</td>\n",
       "      <td>0.000000</td>\n",
       "      <td>9.836735</td>\n",
       "    </tr>\n",
       "    <tr>\n",
       "      <th>3</th>\n",
       "      <td>18</td>\n",
       "      <td>2012</td>\n",
       "      <td>3</td>\n",
       "      <td>0</td>\n",
       "      <td>1</td>\n",
       "      <td>0</td>\n",
       "      <td>1</td>\n",
       "      <td>0</td>\n",
       "      <td>1</td>\n",
       "      <td>0</td>\n",
       "      <td>...</td>\n",
       "      <td>4.200000</td>\n",
       "      <td>4.200000</td>\n",
       "      <td>0.000000</td>\n",
       "      <td>0.000000</td>\n",
       "      <td>12.100000</td>\n",
       "      <td>0.000000</td>\n",
       "      <td>9.400000</td>\n",
       "      <td>0.000000</td>\n",
       "      <td>0.000000</td>\n",
       "      <td>9.960000</td>\n",
       "    </tr>\n",
       "    <tr>\n",
       "      <th>4</th>\n",
       "      <td>18</td>\n",
       "      <td>2012</td>\n",
       "      <td>4</td>\n",
       "      <td>0</td>\n",
       "      <td>1</td>\n",
       "      <td>0</td>\n",
       "      <td>1</td>\n",
       "      <td>0</td>\n",
       "      <td>1</td>\n",
       "      <td>0</td>\n",
       "      <td>...</td>\n",
       "      <td>5.460000</td>\n",
       "      <td>5.460000</td>\n",
       "      <td>0.000000</td>\n",
       "      <td>0.000000</td>\n",
       "      <td>13.360000</td>\n",
       "      <td>0.000000</td>\n",
       "      <td>10.320000</td>\n",
       "      <td>0.000000</td>\n",
       "      <td>0.000000</td>\n",
       "      <td>10.280000</td>\n",
       "    </tr>\n",
       "    <tr>\n",
       "      <th>...</th>\n",
       "      <td>...</td>\n",
       "      <td>...</td>\n",
       "      <td>...</td>\n",
       "      <td>...</td>\n",
       "      <td>...</td>\n",
       "      <td>...</td>\n",
       "      <td>...</td>\n",
       "      <td>...</td>\n",
       "      <td>...</td>\n",
       "      <td>...</td>\n",
       "      <td>...</td>\n",
       "      <td>...</td>\n",
       "      <td>...</td>\n",
       "      <td>...</td>\n",
       "      <td>...</td>\n",
       "      <td>...</td>\n",
       "      <td>...</td>\n",
       "      <td>...</td>\n",
       "      <td>...</td>\n",
       "      <td>...</td>\n",
       "      <td>...</td>\n",
       "    </tr>\n",
       "    <tr>\n",
       "      <th>643685</th>\n",
       "      <td>1827860</td>\n",
       "      <td>2013</td>\n",
       "      <td>1</td>\n",
       "      <td>0</td>\n",
       "      <td>0</td>\n",
       "      <td>0</td>\n",
       "      <td>1</td>\n",
       "      <td>0</td>\n",
       "      <td>0</td>\n",
       "      <td>1</td>\n",
       "      <td>...</td>\n",
       "      <td>0.000000</td>\n",
       "      <td>0.000000</td>\n",
       "      <td>0.000000</td>\n",
       "      <td>0.000000</td>\n",
       "      <td>0.612903</td>\n",
       "      <td>0.000000</td>\n",
       "      <td>0.000000</td>\n",
       "      <td>0.000000</td>\n",
       "      <td>0.000000</td>\n",
       "      <td>0.000000</td>\n",
       "    </tr>\n",
       "    <tr>\n",
       "      <th>643686</th>\n",
       "      <td>1827860</td>\n",
       "      <td>2015</td>\n",
       "      <td>2</td>\n",
       "      <td>1</td>\n",
       "      <td>0</td>\n",
       "      <td>0</td>\n",
       "      <td>1</td>\n",
       "      <td>0</td>\n",
       "      <td>1</td>\n",
       "      <td>0</td>\n",
       "      <td>...</td>\n",
       "      <td>0.000000</td>\n",
       "      <td>0.000000</td>\n",
       "      <td>0.212121</td>\n",
       "      <td>0.212121</td>\n",
       "      <td>17.363636</td>\n",
       "      <td>0.000000</td>\n",
       "      <td>8.909091</td>\n",
       "      <td>0.000000</td>\n",
       "      <td>0.000000</td>\n",
       "      <td>7.121212</td>\n",
       "    </tr>\n",
       "    <tr>\n",
       "      <th>643687</th>\n",
       "      <td>1827860</td>\n",
       "      <td>2016</td>\n",
       "      <td>3</td>\n",
       "      <td>1</td>\n",
       "      <td>0</td>\n",
       "      <td>0</td>\n",
       "      <td>1</td>\n",
       "      <td>1</td>\n",
       "      <td>0</td>\n",
       "      <td>1</td>\n",
       "      <td>...</td>\n",
       "      <td>0.000000</td>\n",
       "      <td>0.000000</td>\n",
       "      <td>0.294118</td>\n",
       "      <td>0.205882</td>\n",
       "      <td>34.705882</td>\n",
       "      <td>0.000000</td>\n",
       "      <td>10.352941</td>\n",
       "      <td>1.705882</td>\n",
       "      <td>1.705882</td>\n",
       "      <td>23.911765</td>\n",
       "    </tr>\n",
       "    <tr>\n",
       "      <th>643688</th>\n",
       "      <td>1827869</td>\n",
       "      <td>2013</td>\n",
       "      <td>1</td>\n",
       "      <td>1</td>\n",
       "      <td>1</td>\n",
       "      <td>0</td>\n",
       "      <td>0</td>\n",
       "      <td>0</td>\n",
       "      <td>1</td>\n",
       "      <td>0</td>\n",
       "      <td>...</td>\n",
       "      <td>0.000000</td>\n",
       "      <td>0.000000</td>\n",
       "      <td>0.000000</td>\n",
       "      <td>0.000000</td>\n",
       "      <td>0.000000</td>\n",
       "      <td>0.525424</td>\n",
       "      <td>0.000000</td>\n",
       "      <td>0.000000</td>\n",
       "      <td>0.000000</td>\n",
       "      <td>0.000000</td>\n",
       "    </tr>\n",
       "    <tr>\n",
       "      <th>643689</th>\n",
       "      <td>1827869</td>\n",
       "      <td>2014</td>\n",
       "      <td>2</td>\n",
       "      <td>0</td>\n",
       "      <td>0</td>\n",
       "      <td>1</td>\n",
       "      <td>0</td>\n",
       "      <td>0</td>\n",
       "      <td>1</td>\n",
       "      <td>0</td>\n",
       "      <td>...</td>\n",
       "      <td>0.000000</td>\n",
       "      <td>0.666667</td>\n",
       "      <td>0.666667</td>\n",
       "      <td>0.000000</td>\n",
       "      <td>0.000000</td>\n",
       "      <td>8.950000</td>\n",
       "      <td>1.033333</td>\n",
       "      <td>0.083333</td>\n",
       "      <td>0.083333</td>\n",
       "      <td>8.133333</td>\n",
       "    </tr>\n",
       "  </tbody>\n",
       "</table>\n",
       "<p>643690 rows × 164 columns</p>\n",
       "</div>"
      ],
      "text/plain": [
       "         persnr  year  nrEntry  ltue  employed_before  receipt_leh_before  \\\n",
       "0             7  2015        1     0                1                   0   \n",
       "1            18  2010        1     1                0                   0   \n",
       "2            18  2011        2     0                1                   0   \n",
       "3            18  2012        3     0                1                   0   \n",
       "4            18  2012        4     0                1                   0   \n",
       "...         ...   ...      ...   ...              ...                 ...   \n",
       "643685  1827860  2013        1     0                0                   0   \n",
       "643686  1827860  2015        2     1                0                   0   \n",
       "643687  1827860  2016        3     1                0                   0   \n",
       "643688  1827869  2013        1     1                1                   0   \n",
       "643689  1827869  2014        2     0                0                   1   \n",
       "\n",
       "        receipt_lhg_before  se_before  ASU_notue_seeking_before  \\\n",
       "0                        0          0                         1   \n",
       "1                        0          0                         0   \n",
       "2                        1          0                         1   \n",
       "3                        1          0                         1   \n",
       "4                        1          0                         1   \n",
       "...                    ...        ...                       ...   \n",
       "643685                   1          0                         0   \n",
       "643686                   1          0                         1   \n",
       "643687                   1          1                         0   \n",
       "643688                   0          0                         1   \n",
       "643689                   0          0                         1   \n",
       "\n",
       "        ASU_other_before  ...  minijob_tot_dur_byage  ft_tot_dur_byage  \\\n",
       "0                      0  ...               0.000000          0.000000   \n",
       "1                      0  ...               0.000000          0.000000   \n",
       "2                      0  ...               2.714286          2.714286   \n",
       "3                      0  ...               4.200000          4.200000   \n",
       "4                      0  ...               5.460000          5.460000   \n",
       "...                  ...  ...                    ...               ...   \n",
       "643685                 1  ...               0.000000          0.000000   \n",
       "643686                 0  ...               0.000000          0.000000   \n",
       "643687                 1  ...               0.000000          0.000000   \n",
       "643688                 0  ...               0.000000          0.000000   \n",
       "643689                 0  ...               0.000000          0.666667   \n",
       "\n",
       "        befrist_tot_dur_byage  leih_tot_dur_byage  LHG_tot_dur_byage  \\\n",
       "0                   15.043478            0.000000           0.000000   \n",
       "1                    0.000000            0.000000           0.000000   \n",
       "2                    0.000000            0.000000          10.775510   \n",
       "3                    0.000000            0.000000          12.100000   \n",
       "4                    0.000000            0.000000          13.360000   \n",
       "...                       ...                 ...                ...   \n",
       "643685               0.000000            0.000000           0.612903   \n",
       "643686               0.212121            0.212121          17.363636   \n",
       "643687               0.294118            0.205882          34.705882   \n",
       "643688               0.000000            0.000000           0.000000   \n",
       "643689               0.666667            0.000000           0.000000   \n",
       "\n",
       "        LEH_tot_dur_byage  almp_tot_dur_byage  almp_aw_tot_dur_byage  \\\n",
       "0                0.000000            0.000000               0.000000   \n",
       "1                0.000000            0.000000               0.000000   \n",
       "2                0.000000            8.367347               0.000000   \n",
       "3                0.000000            9.400000               0.000000   \n",
       "4                0.000000           10.320000               0.000000   \n",
       "...                   ...                 ...                    ...   \n",
       "643685           0.000000            0.000000               0.000000   \n",
       "643686           0.000000            8.909091               0.000000   \n",
       "643687           0.000000           10.352941               1.705882   \n",
       "643688           0.525424            0.000000               0.000000   \n",
       "643689           8.950000            1.033333               0.083333   \n",
       "\n",
       "        se_tot_dur_byage  seeking1_tot_dur_byage  \n",
       "0               0.000000                0.000000  \n",
       "1               0.000000                0.000000  \n",
       "2               0.000000                9.836735  \n",
       "3               0.000000                9.960000  \n",
       "4               0.000000               10.280000  \n",
       "...                  ...                     ...  \n",
       "643685          0.000000                0.000000  \n",
       "643686          0.000000                7.121212  \n",
       "643687          1.705882               23.911765  \n",
       "643688          0.000000                0.000000  \n",
       "643689          0.083333                8.133333  \n",
       "\n",
       "[643690 rows x 164 columns]"
      ]
     },
     "execution_count": 10,
     "metadata": {},
     "output_type": "execute_result"
    }
   ],
   "source": [
    "siab"
   ]
  },
  {
   "cell_type": "markdown",
   "id": "1f87e805",
   "metadata": {
    "papermill": {
     "duration": 0.010434,
     "end_time": "2025-08-19T19:11:45.139105",
     "exception": false,
     "start_time": "2025-08-19T19:11:45.128671",
     "status": "completed"
    },
    "tags": []
   },
   "source": [
    "# Splitting Data and Setting Training Data Size"
   ]
  },
  {
   "cell_type": "code",
   "execution_count": 11,
   "id": "910ae358",
   "metadata": {
    "execution": {
     "iopub.execute_input": "2025-08-19T19:11:45.162145Z",
     "iopub.status.busy": "2025-08-19T19:11:45.161722Z",
     "iopub.status.idle": "2025-08-19T19:11:46.253001Z",
     "shell.execute_reply": "2025-08-19T19:11:46.252158Z"
    },
    "papermill": {
     "duration": 1.104036,
     "end_time": "2025-08-19T19:11:46.254339",
     "exception": false,
     "start_time": "2025-08-19T19:11:45.150303",
     "status": "completed"
    },
    "tags": []
   },
   "outputs": [],
   "source": [
    "from fairness_multiverse.universe import sample_by_year_size\n",
    "\n",
    "siab_train = sample_by_year_size(siab,\n",
    "                               training_year=universe[\"training_year\"],\n",
    "                               training_size=universe[\"training_size\"])"
   ]
  },
  {
   "cell_type": "code",
   "execution_count": 12,
   "id": "919c8ff5",
   "metadata": {
    "execution": {
     "iopub.execute_input": "2025-08-19T19:11:46.285477Z",
     "iopub.status.busy": "2025-08-19T19:11:46.285084Z",
     "iopub.status.idle": "2025-08-19T19:11:46.292265Z",
     "shell.execute_reply": "2025-08-19T19:11:46.291704Z"
    },
    "papermill": {
     "duration": 0.030084,
     "end_time": "2025-08-19T19:11:46.299286",
     "exception": false,
     "start_time": "2025-08-19T19:11:46.269202",
     "status": "completed"
    },
    "tags": []
   },
   "outputs": [
    {
     "data": {
      "text/plain": [
       "(1000, 164)"
      ]
     },
     "execution_count": 12,
     "metadata": {},
     "output_type": "execute_result"
    }
   ],
   "source": [
    "siab_train.shape"
   ]
  },
  {
   "cell_type": "code",
   "execution_count": 13,
   "id": "feb13bf4",
   "metadata": {
    "execution": {
     "iopub.execute_input": "2025-08-19T19:11:46.335568Z",
     "iopub.status.busy": "2025-08-19T19:11:46.335226Z",
     "iopub.status.idle": "2025-08-19T19:11:46.343363Z",
     "shell.execute_reply": "2025-08-19T19:11:46.342773Z"
    },
    "papermill": {
     "duration": 0.029126,
     "end_time": "2025-08-19T19:11:46.344681",
     "exception": false,
     "start_time": "2025-08-19T19:11:46.315555",
     "status": "completed"
    },
    "tags": []
   },
   "outputs": [
    {
     "data": {
      "text/plain": [
       "year\n",
       "2010    200\n",
       "2011    200\n",
       "2012    200\n",
       "2013    200\n",
       "2014    200\n",
       "dtype: int64"
      ]
     },
     "metadata": {},
     "output_type": "display_data"
    }
   ],
   "source": [
    "display(siab_train.groupby(\"year\").size())"
   ]
  },
  {
   "cell_type": "code",
   "execution_count": 14,
   "id": "0997782f",
   "metadata": {
    "execution": {
     "iopub.execute_input": "2025-08-19T19:11:46.366365Z",
     "iopub.status.busy": "2025-08-19T19:11:46.366043Z",
     "iopub.status.idle": "2025-08-19T19:11:46.628251Z",
     "shell.execute_reply": "2025-08-19T19:11:46.627487Z"
    },
    "papermill": {
     "duration": 0.274613,
     "end_time": "2025-08-19T19:11:46.629578",
     "exception": false,
     "start_time": "2025-08-19T19:11:46.354965",
     "status": "completed"
    },
    "tags": []
   },
   "outputs": [],
   "source": [
    "#siab_train = siab_s[siab_s.year < 2015]\n",
    "siab_calib = siab[siab.year == 2015]\n",
    "siab_test = siab[siab.year == 2016]"
   ]
  },
  {
   "cell_type": "code",
   "execution_count": 15,
   "id": "2c1e4012",
   "metadata": {
    "execution": {
     "iopub.execute_input": "2025-08-19T19:11:46.652417Z",
     "iopub.status.busy": "2025-08-19T19:11:46.651815Z",
     "iopub.status.idle": "2025-08-19T19:11:46.656836Z",
     "shell.execute_reply": "2025-08-19T19:11:46.655889Z"
    },
    "papermill": {
     "duration": 0.017565,
     "end_time": "2025-08-19T19:11:46.658299",
     "exception": false,
     "start_time": "2025-08-19T19:11:46.640734",
     "status": "completed"
    },
    "tags": []
   },
   "outputs": [],
   "source": [
    "#siab_calib.shape"
   ]
  },
  {
   "cell_type": "code",
   "execution_count": 16,
   "id": "f66b54ca",
   "metadata": {
    "execution": {
     "iopub.execute_input": "2025-08-19T19:11:46.680624Z",
     "iopub.status.busy": "2025-08-19T19:11:46.679683Z",
     "iopub.status.idle": "2025-08-19T19:11:46.750577Z",
     "shell.execute_reply": "2025-08-19T19:11:46.749622Z"
    },
    "papermill": {
     "duration": 0.083717,
     "end_time": "2025-08-19T19:11:46.752282",
     "exception": false,
     "start_time": "2025-08-19T19:11:46.668565",
     "status": "completed"
    },
    "tags": []
   },
   "outputs": [],
   "source": [
    "#siab_test.shape"
   ]
  },
  {
   "cell_type": "code",
   "execution_count": 17,
   "id": "27e4384d",
   "metadata": {
    "execution": {
     "iopub.execute_input": "2025-08-19T19:11:46.780558Z",
     "iopub.status.busy": "2025-08-19T19:11:46.780176Z",
     "iopub.status.idle": "2025-08-19T19:11:46.786959Z",
     "shell.execute_reply": "2025-08-19T19:11:46.786318Z"
    },
    "papermill": {
     "duration": 0.020851,
     "end_time": "2025-08-19T19:11:46.788227",
     "exception": false,
     "start_time": "2025-08-19T19:11:46.767376",
     "status": "completed"
    },
    "tags": []
   },
   "outputs": [],
   "source": [
    "X_train = siab_train.iloc[:,4:164]\n",
    "y_train = siab_train.iloc[:, [3]]"
   ]
  },
  {
   "cell_type": "code",
   "execution_count": 18,
   "id": "08ee8389",
   "metadata": {
    "execution": {
     "iopub.execute_input": "2025-08-19T19:11:46.813124Z",
     "iopub.status.busy": "2025-08-19T19:11:46.812269Z",
     "iopub.status.idle": "2025-08-19T19:11:46.874444Z",
     "shell.execute_reply": "2025-08-19T19:11:46.873684Z"
    },
    "papermill": {
     "duration": 0.077827,
     "end_time": "2025-08-19T19:11:46.877214",
     "exception": false,
     "start_time": "2025-08-19T19:11:46.799387",
     "status": "completed"
    },
    "tags": []
   },
   "outputs": [],
   "source": [
    "X_calib = siab_calib.iloc[:,4:164]\n",
    "y_calib = siab_calib.iloc[:, [3]]"
   ]
  },
  {
   "cell_type": "code",
   "execution_count": 19,
   "id": "b7ff42e0",
   "metadata": {
    "execution": {
     "iopub.execute_input": "2025-08-19T19:11:46.914795Z",
     "iopub.status.busy": "2025-08-19T19:11:46.913637Z",
     "iopub.status.idle": "2025-08-19T19:11:46.974359Z",
     "shell.execute_reply": "2025-08-19T19:11:46.973552Z"
    },
    "papermill": {
     "duration": 0.075941,
     "end_time": "2025-08-19T19:11:46.976094",
     "exception": false,
     "start_time": "2025-08-19T19:11:46.900153",
     "status": "completed"
    },
    "tags": []
   },
   "outputs": [],
   "source": [
    "X_test = siab_test.iloc[:,4:164]\n",
    "y_true = siab_test.iloc[:, [3]]"
   ]
  },
  {
   "cell_type": "code",
   "execution_count": 20,
   "id": "0275101e",
   "metadata": {
    "execution": {
     "iopub.execute_input": "2025-08-19T19:11:47.000571Z",
     "iopub.status.busy": "2025-08-19T19:11:46.999650Z",
     "iopub.status.idle": "2025-08-19T19:11:47.124968Z",
     "shell.execute_reply": "2025-08-19T19:11:47.124191Z"
    },
    "papermill": {
     "duration": 0.140326,
     "end_time": "2025-08-19T19:11:47.127767",
     "exception": false,
     "start_time": "2025-08-19T19:11:46.987441",
     "status": "completed"
    },
    "tags": []
   },
   "outputs": [],
   "source": [
    "# Auxiliary data needed downstream in the pipeline\n",
    "\n",
    "org_train = X_train.copy()\n",
    "org_test = X_test.copy()\n",
    "org_calib = X_calib.copy()"
   ]
  },
  {
   "cell_type": "markdown",
   "id": "b461e618",
   "metadata": {
    "papermill": {
     "duration": 0.012555,
     "end_time": "2025-08-19T19:11:47.164791",
     "exception": false,
     "start_time": "2025-08-19T19:11:47.152236",
     "status": "completed"
    },
    "tags": []
   },
   "source": [
    "# Preprocessing Data"
   ]
  },
  {
   "cell_type": "code",
   "execution_count": 21,
   "id": "78e74c4b",
   "metadata": {
    "execution": {
     "iopub.execute_input": "2025-08-19T19:11:47.191518Z",
     "iopub.status.busy": "2025-08-19T19:11:47.190336Z",
     "iopub.status.idle": "2025-08-19T19:11:47.199192Z",
     "shell.execute_reply": "2025-08-19T19:11:47.197949Z"
    },
    "papermill": {
     "duration": 0.023753,
     "end_time": "2025-08-19T19:11:47.201547",
     "exception": false,
     "start_time": "2025-08-19T19:11:47.177794",
     "status": "completed"
    },
    "tags": []
   },
   "outputs": [],
   "source": [
    "# EXCLUDE PROTECTED FEATURES\n",
    "# --------------------------\n",
    "\n",
    "excluded_features = universe[\"exclude_features\"].split(\"-\")\n",
    "excluded_features_dictionary = {\n",
    "    \"nationality\": [\"maxdeutsch1\", \"maxdeutsch.Missing.\"],\n",
    "    \"sex\": [\"frau1\"],\n",
    "    \"age\": [\"age\"],\n",
    "}"
   ]
  },
  {
   "cell_type": "code",
   "execution_count": 22,
   "id": "f8e63555",
   "metadata": {
    "execution": {
     "iopub.execute_input": "2025-08-19T19:11:47.241621Z",
     "iopub.status.busy": "2025-08-19T19:11:47.240425Z",
     "iopub.status.idle": "2025-08-19T19:11:47.248638Z",
     "shell.execute_reply": "2025-08-19T19:11:47.247421Z"
    },
    "papermill": {
     "duration": 0.031812,
     "end_time": "2025-08-19T19:11:47.250276",
     "exception": false,
     "start_time": "2025-08-19T19:11:47.218464",
     "status": "completed"
    },
    "tags": []
   },
   "outputs": [],
   "source": [
    "excluded_features_columns = [\n",
    "    excluded_features_dictionary[f] for f in excluded_features if len(f) > 0 and f != \"none\"\n",
    "]"
   ]
  },
  {
   "cell_type": "code",
   "execution_count": 23,
   "id": "da781f7c",
   "metadata": {
    "execution": {
     "iopub.execute_input": "2025-08-19T19:11:47.274642Z",
     "iopub.status.busy": "2025-08-19T19:11:47.273516Z",
     "iopub.status.idle": "2025-08-19T19:11:47.281347Z",
     "shell.execute_reply": "2025-08-19T19:11:47.280013Z"
    },
    "papermill": {
     "duration": 0.026099,
     "end_time": "2025-08-19T19:11:47.287572",
     "exception": false,
     "start_time": "2025-08-19T19:11:47.261473",
     "status": "completed"
    },
    "tags": []
   },
   "outputs": [],
   "source": [
    "from fairness_multiverse.universe import flatten_once\n",
    "\n",
    "excluded_features_columns = flatten_once(excluded_features_columns)"
   ]
  },
  {
   "cell_type": "code",
   "execution_count": 24,
   "id": "37fef0f0",
   "metadata": {
    "execution": {
     "iopub.execute_input": "2025-08-19T19:11:47.323764Z",
     "iopub.status.busy": "2025-08-19T19:11:47.323359Z",
     "iopub.status.idle": "2025-08-19T19:11:47.331440Z",
     "shell.execute_reply": "2025-08-19T19:11:47.330722Z"
    },
    "papermill": {
     "duration": 0.024605,
     "end_time": "2025-08-19T19:11:47.334585",
     "exception": false,
     "start_time": "2025-08-19T19:11:47.309980",
     "status": "completed"
    },
    "tags": []
   },
   "outputs": [
    {
     "name": "stdout",
     "output_type": "stream",
     "text": [
      "Dropping features: ['age']\n"
     ]
    }
   ],
   "source": [
    "if len(excluded_features_columns) > 0:\n",
    "    print(f\"Dropping features: {excluded_features_columns}\")\n",
    "    X_train.drop(excluded_features_columns, axis=1, inplace=True)"
   ]
  },
  {
   "cell_type": "code",
   "execution_count": 25,
   "id": "d029e3e9",
   "metadata": {
    "execution": {
     "iopub.execute_input": "2025-08-19T19:11:47.359531Z",
     "iopub.status.busy": "2025-08-19T19:11:47.359138Z",
     "iopub.status.idle": "2025-08-19T19:11:47.416096Z",
     "shell.execute_reply": "2025-08-19T19:11:47.415191Z"
    },
    "papermill": {
     "duration": 0.070291,
     "end_time": "2025-08-19T19:11:47.417650",
     "exception": false,
     "start_time": "2025-08-19T19:11:47.347359",
     "status": "completed"
    },
    "tags": []
   },
   "outputs": [
    {
     "name": "stdout",
     "output_type": "stream",
     "text": [
      "Dropping features: ['age']\n"
     ]
    }
   ],
   "source": [
    "if len(excluded_features_columns) > 0:\n",
    "    print(f\"Dropping features: {excluded_features_columns}\")\n",
    "    X_test.drop(excluded_features_columns, axis=1, inplace=True)"
   ]
  },
  {
   "cell_type": "code",
   "execution_count": 26,
   "id": "01d571f0",
   "metadata": {
    "execution": {
     "iopub.execute_input": "2025-08-19T19:11:47.459337Z",
     "iopub.status.busy": "2025-08-19T19:11:47.458235Z",
     "iopub.status.idle": "2025-08-19T19:11:47.513504Z",
     "shell.execute_reply": "2025-08-19T19:11:47.512816Z"
    },
    "papermill": {
     "duration": 0.08427,
     "end_time": "2025-08-19T19:11:47.516184",
     "exception": false,
     "start_time": "2025-08-19T19:11:47.431914",
     "status": "completed"
    },
    "tags": []
   },
   "outputs": [
    {
     "name": "stdout",
     "output_type": "stream",
     "text": [
      "Dropping features: ['age']\n"
     ]
    }
   ],
   "source": [
    "if len(excluded_features_columns) > 0:\n",
    "    print(f\"Dropping features: {excluded_features_columns}\")\n",
    "    X_calib.drop(excluded_features_columns, axis=1, inplace=True)"
   ]
  },
  {
   "cell_type": "code",
   "execution_count": 27,
   "id": "3037356e",
   "metadata": {
    "execution": {
     "iopub.execute_input": "2025-08-19T19:11:47.569339Z",
     "iopub.status.busy": "2025-08-19T19:11:47.568837Z",
     "iopub.status.idle": "2025-08-19T19:11:47.573776Z",
     "shell.execute_reply": "2025-08-19T19:11:47.572912Z"
    },
    "papermill": {
     "duration": 0.024172,
     "end_time": "2025-08-19T19:11:47.575153",
     "exception": false,
     "start_time": "2025-08-19T19:11:47.550981",
     "status": "completed"
    },
    "tags": []
   },
   "outputs": [],
   "source": [
    "# EXCLUDE CERTAIN SUBGROUPS\n",
    "# -------------------------\n",
    "\n",
    "mode = universe.get(\"exclude_subgroups\", \"keep-all\") # Defaults to \"keep-all\" if the key is missing."
   ]
  },
  {
   "cell_type": "code",
   "execution_count": 28,
   "id": "9d1e63fd",
   "metadata": {
    "execution": {
     "iopub.execute_input": "2025-08-19T19:11:47.601410Z",
     "iopub.status.busy": "2025-08-19T19:11:47.600090Z",
     "iopub.status.idle": "2025-08-19T19:11:47.611473Z",
     "shell.execute_reply": "2025-08-19T19:11:47.610174Z"
    },
    "papermill": {
     "duration": 0.025835,
     "end_time": "2025-08-19T19:11:47.613009",
     "exception": false,
     "start_time": "2025-08-19T19:11:47.587174",
     "status": "completed"
    },
    "tags": []
   },
   "outputs": [],
   "source": [
    "if mode == \"keep-all\":\n",
    "    keep_mask = pd.Series(True, index=org_train.index)\n",
    "\n",
    "elif mode == \"drop-non-german\":\n",
    "    keep_mask = (org_train[\"maxdeutsch1\"] == 1) & (org_train[\"maxdeutsch.Missing.\"] == 0)\n",
    "\n",
    "else:\n",
    "    raise ValueError(f\"Unsupported mode for exclude_subgroups: {mode}\")"
   ]
  },
  {
   "cell_type": "code",
   "execution_count": 29,
   "id": "d3b65474",
   "metadata": {
    "execution": {
     "iopub.execute_input": "2025-08-19T19:11:47.641581Z",
     "iopub.status.busy": "2025-08-19T19:11:47.640310Z",
     "iopub.status.idle": "2025-08-19T19:11:47.650677Z",
     "shell.execute_reply": "2025-08-19T19:11:47.649472Z"
    },
    "papermill": {
     "duration": 0.02435,
     "end_time": "2025-08-19T19:11:47.652137",
     "exception": false,
     "start_time": "2025-08-19T19:11:47.627787",
     "status": "completed"
    },
    "tags": []
   },
   "outputs": [
    {
     "name": "stdout",
     "output_type": "stream",
     "text": [
      "Dropping 131 rows (13.10%) where mode='drop-non-german'\n"
     ]
    }
   ],
   "source": [
    "n_drop = (~keep_mask).sum() # Calculates how many rows are set to be dropped\n",
    "if n_drop > 0:\n",
    "    pct = n_drop / len(keep_mask) * 100\n",
    "    print(f\"Dropping {n_drop} rows ({pct:.2f}%) where mode='{mode}'\")"
   ]
  },
  {
   "cell_type": "code",
   "execution_count": 30,
   "id": "f44389b3",
   "metadata": {
    "execution": {
     "iopub.execute_input": "2025-08-19T19:11:47.681249Z",
     "iopub.status.busy": "2025-08-19T19:11:47.680070Z",
     "iopub.status.idle": "2025-08-19T19:11:47.689541Z",
     "shell.execute_reply": "2025-08-19T19:11:47.688299Z"
    },
    "papermill": {
     "duration": 0.024038,
     "end_time": "2025-08-19T19:11:47.691019",
     "exception": false,
     "start_time": "2025-08-19T19:11:47.666981",
     "status": "completed"
    },
    "tags": []
   },
   "outputs": [],
   "source": [
    "X_train = X_train[keep_mask]"
   ]
  },
  {
   "cell_type": "code",
   "execution_count": 31,
   "id": "ceca8c2a",
   "metadata": {
    "execution": {
     "iopub.execute_input": "2025-08-19T19:11:47.735639Z",
     "iopub.status.busy": "2025-08-19T19:11:47.735212Z",
     "iopub.status.idle": "2025-08-19T19:11:47.740371Z",
     "shell.execute_reply": "2025-08-19T19:11:47.739663Z"
    },
    "papermill": {
     "duration": 0.03114,
     "end_time": "2025-08-19T19:11:47.741858",
     "exception": false,
     "start_time": "2025-08-19T19:11:47.710718",
     "status": "completed"
    },
    "tags": []
   },
   "outputs": [],
   "source": [
    "y_train = y_train[keep_mask]"
   ]
  },
  {
   "cell_type": "markdown",
   "id": "04d31e2f",
   "metadata": {
    "papermill": {
     "duration": 0.011483,
     "end_time": "2025-08-19T19:11:47.765414",
     "exception": false,
     "start_time": "2025-08-19T19:11:47.753931",
     "status": "completed"
    },
    "tags": []
   },
   "source": [
    "# Model Training"
   ]
  },
  {
   "cell_type": "code",
   "execution_count": 32,
   "id": "db991733",
   "metadata": {
    "execution": {
     "iopub.execute_input": "2025-08-19T19:11:47.789382Z",
     "iopub.status.busy": "2025-08-19T19:11:47.788972Z",
     "iopub.status.idle": "2025-08-19T19:11:47.888548Z",
     "shell.execute_reply": "2025-08-19T19:11:47.887765Z"
    },
    "papermill": {
     "duration": 0.114893,
     "end_time": "2025-08-19T19:11:47.891433",
     "exception": false,
     "start_time": "2025-08-19T19:11:47.776540",
     "status": "completed"
    },
    "tags": []
   },
   "outputs": [],
   "source": [
    "from sklearn.linear_model import LogisticRegression\n",
    "from sklearn.ensemble import GradientBoostingClassifier, RandomForestClassifier\n",
    "\n",
    "if (universe[\"model\"] == \"logreg\"):\n",
    "    model = LogisticRegression() #penalty=\"none\", solver=\"newton-cg\", max_iter=1)\n",
    "elif (universe[\"model\"] == \"penalized_logreg\"):\n",
    "    model = LogisticRegression(penalty=\"l2\", C=0.1) #, solver=\"newton-cg\", max_iter=1)\n",
    "elif (universe[\"model\"] == \"rf\"):\n",
    "    model = RandomForestClassifier() # n_estimators=100, n_jobs=-1\n",
    "elif (universe[\"model\"] == \"gbm\"):\n",
    "    model = GradientBoostingClassifier()\n",
    "elif (universe[\"model\"] == \"elasticnet\"):\n",
    "    model = LogisticRegression(penalty = 'elasticnet', solver = 'saga', l1_ratio = 0.5) # max_iter=5000\n",
    "else:\n",
    "    raise \"Unsupported universe.model\""
   ]
  },
  {
   "cell_type": "code",
   "execution_count": 33,
   "id": "a4b5cd25",
   "metadata": {
    "execution": {
     "iopub.execute_input": "2025-08-19T19:11:47.933902Z",
     "iopub.status.busy": "2025-08-19T19:11:47.932720Z",
     "iopub.status.idle": "2025-08-19T19:11:47.941743Z",
     "shell.execute_reply": "2025-08-19T19:11:47.940563Z"
    },
    "papermill": {
     "duration": 0.025725,
     "end_time": "2025-08-19T19:11:47.943280",
     "exception": false,
     "start_time": "2025-08-19T19:11:47.917555",
     "status": "completed"
    },
    "tags": []
   },
   "outputs": [],
   "source": [
    "from sklearn.pipeline import Pipeline\n",
    "from sklearn.preprocessing import StandardScaler\n",
    "\n",
    "model = Pipeline([\n",
    "    #(\"continuous_processor\", continuous_processor),\n",
    "    #(\"categorical_preprocessor\", categorical_preprocessor),\n",
    "    (\"scale\", StandardScaler() if universe[\"scale\"] == \"scale\" else None), \n",
    "    (\"model\", model),\n",
    "])"
   ]
  },
  {
   "cell_type": "code",
   "execution_count": 34,
   "id": "283a904d",
   "metadata": {
    "execution": {
     "iopub.execute_input": "2025-08-19T19:11:47.988854Z",
     "iopub.status.busy": "2025-08-19T19:11:47.981579Z",
     "iopub.status.idle": "2025-08-19T19:11:48.804960Z",
     "shell.execute_reply": "2025-08-19T19:11:48.803919Z"
    },
    "papermill": {
     "duration": 0.847816,
     "end_time": "2025-08-19T19:11:48.806420",
     "exception": false,
     "start_time": "2025-08-19T19:11:47.958604",
     "status": "completed"
    },
    "tags": []
   },
   "outputs": [
    {
     "data": {
      "text/html": [
       "<style>#sk-container-id-1 {color: black;background-color: white;}#sk-container-id-1 pre{padding: 0;}#sk-container-id-1 div.sk-toggleable {background-color: white;}#sk-container-id-1 label.sk-toggleable__label {cursor: pointer;display: block;width: 100%;margin-bottom: 0;padding: 0.3em;box-sizing: border-box;text-align: center;}#sk-container-id-1 label.sk-toggleable__label-arrow:before {content: \"▸\";float: left;margin-right: 0.25em;color: #696969;}#sk-container-id-1 label.sk-toggleable__label-arrow:hover:before {color: black;}#sk-container-id-1 div.sk-estimator:hover label.sk-toggleable__label-arrow:before {color: black;}#sk-container-id-1 div.sk-toggleable__content {max-height: 0;max-width: 0;overflow: hidden;text-align: left;background-color: #f0f8ff;}#sk-container-id-1 div.sk-toggleable__content pre {margin: 0.2em;color: black;border-radius: 0.25em;background-color: #f0f8ff;}#sk-container-id-1 input.sk-toggleable__control:checked~div.sk-toggleable__content {max-height: 200px;max-width: 100%;overflow: auto;}#sk-container-id-1 input.sk-toggleable__control:checked~label.sk-toggleable__label-arrow:before {content: \"▾\";}#sk-container-id-1 div.sk-estimator input.sk-toggleable__control:checked~label.sk-toggleable__label {background-color: #d4ebff;}#sk-container-id-1 div.sk-label input.sk-toggleable__control:checked~label.sk-toggleable__label {background-color: #d4ebff;}#sk-container-id-1 input.sk-hidden--visually {border: 0;clip: rect(1px 1px 1px 1px);clip: rect(1px, 1px, 1px, 1px);height: 1px;margin: -1px;overflow: hidden;padding: 0;position: absolute;width: 1px;}#sk-container-id-1 div.sk-estimator {font-family: monospace;background-color: #f0f8ff;border: 1px dotted black;border-radius: 0.25em;box-sizing: border-box;margin-bottom: 0.5em;}#sk-container-id-1 div.sk-estimator:hover {background-color: #d4ebff;}#sk-container-id-1 div.sk-parallel-item::after {content: \"\";width: 100%;border-bottom: 1px solid gray;flex-grow: 1;}#sk-container-id-1 div.sk-label:hover label.sk-toggleable__label {background-color: #d4ebff;}#sk-container-id-1 div.sk-serial::before {content: \"\";position: absolute;border-left: 1px solid gray;box-sizing: border-box;top: 0;bottom: 0;left: 50%;z-index: 0;}#sk-container-id-1 div.sk-serial {display: flex;flex-direction: column;align-items: center;background-color: white;padding-right: 0.2em;padding-left: 0.2em;position: relative;}#sk-container-id-1 div.sk-item {position: relative;z-index: 1;}#sk-container-id-1 div.sk-parallel {display: flex;align-items: stretch;justify-content: center;background-color: white;position: relative;}#sk-container-id-1 div.sk-item::before, #sk-container-id-1 div.sk-parallel-item::before {content: \"\";position: absolute;border-left: 1px solid gray;box-sizing: border-box;top: 0;bottom: 0;left: 50%;z-index: -1;}#sk-container-id-1 div.sk-parallel-item {display: flex;flex-direction: column;z-index: 1;position: relative;background-color: white;}#sk-container-id-1 div.sk-parallel-item:first-child::after {align-self: flex-end;width: 50%;}#sk-container-id-1 div.sk-parallel-item:last-child::after {align-self: flex-start;width: 50%;}#sk-container-id-1 div.sk-parallel-item:only-child::after {width: 0;}#sk-container-id-1 div.sk-dashed-wrapped {border: 1px dashed gray;margin: 0 0.4em 0.5em 0.4em;box-sizing: border-box;padding-bottom: 0.4em;background-color: white;}#sk-container-id-1 div.sk-label label {font-family: monospace;font-weight: bold;display: inline-block;line-height: 1.2em;}#sk-container-id-1 div.sk-label-container {text-align: center;}#sk-container-id-1 div.sk-container {/* jupyter's `normalize.less` sets `[hidden] { display: none; }` but bootstrap.min.css set `[hidden] { display: none !important; }` so we also need the `!important` here to be able to override the default hidden behavior on the sphinx rendered scikit-learn.org. See: https://github.com/scikit-learn/scikit-learn/issues/21755 */display: inline-block !important;position: relative;}#sk-container-id-1 div.sk-text-repr-fallback {display: none;}</style><div id=\"sk-container-id-1\" class=\"sk-top-container\"><div class=\"sk-text-repr-fallback\"><pre>Pipeline(steps=[(&#x27;scale&#x27;, None), (&#x27;model&#x27;, GradientBoostingClassifier())])</pre><b>In a Jupyter environment, please rerun this cell to show the HTML representation or trust the notebook. <br />On GitHub, the HTML representation is unable to render, please try loading this page with nbviewer.org.</b></div><div class=\"sk-container\" hidden><div class=\"sk-item sk-dashed-wrapped\"><div class=\"sk-label-container\"><div class=\"sk-label sk-toggleable\"><input class=\"sk-toggleable__control sk-hidden--visually\" id=\"sk-estimator-id-1\" type=\"checkbox\" ><label for=\"sk-estimator-id-1\" class=\"sk-toggleable__label sk-toggleable__label-arrow\">Pipeline</label><div class=\"sk-toggleable__content\"><pre>Pipeline(steps=[(&#x27;scale&#x27;, None), (&#x27;model&#x27;, GradientBoostingClassifier())])</pre></div></div></div><div class=\"sk-serial\"><div class=\"sk-item\"><div class=\"sk-estimator sk-toggleable\"><input class=\"sk-toggleable__control sk-hidden--visually\" id=\"sk-estimator-id-2\" type=\"checkbox\" ><label for=\"sk-estimator-id-2\" class=\"sk-toggleable__label sk-toggleable__label-arrow\">None</label><div class=\"sk-toggleable__content\"><pre>None</pre></div></div></div><div class=\"sk-item\"><div class=\"sk-estimator sk-toggleable\"><input class=\"sk-toggleable__control sk-hidden--visually\" id=\"sk-estimator-id-3\" type=\"checkbox\" ><label for=\"sk-estimator-id-3\" class=\"sk-toggleable__label sk-toggleable__label-arrow\">GradientBoostingClassifier</label><div class=\"sk-toggleable__content\"><pre>GradientBoostingClassifier()</pre></div></div></div></div></div></div></div>"
      ],
      "text/plain": [
       "Pipeline(steps=[('scale', None), ('model', GradientBoostingClassifier())])"
      ]
     },
     "execution_count": 34,
     "metadata": {},
     "output_type": "execute_result"
    }
   ],
   "source": [
    "model.fit(X_train, y_train.values.ravel())"
   ]
  },
  {
   "cell_type": "code",
   "execution_count": 35,
   "id": "6e15e313",
   "metadata": {
    "execution": {
     "iopub.execute_input": "2025-08-19T19:11:48.854329Z",
     "iopub.status.busy": "2025-08-19T19:11:48.853626Z",
     "iopub.status.idle": "2025-08-19T19:11:49.456174Z",
     "shell.execute_reply": "2025-08-19T19:11:49.455182Z"
    },
    "papermill": {
     "duration": 0.628809,
     "end_time": "2025-08-19T19:11:49.457434",
     "exception": false,
     "start_time": "2025-08-19T19:11:48.828625",
     "status": "completed"
    },
    "tags": []
   },
   "outputs": [
    {
     "data": {
      "text/plain": [
       "0.8243897001449114"
      ]
     },
     "execution_count": 35,
     "metadata": {},
     "output_type": "execute_result"
    }
   ],
   "source": [
    "from fairness_multiverse.universe import predict_w_threshold\n",
    "\n",
    "probs_test = model.predict_proba(X_test)\n",
    "\n",
    "'''\n",
    "Below code returns a boolean array (or binary 0/1 array depending on how it’s used) where each element \n",
    "is True if the probability of class 1 is greater than or equal to the threshold, and False otherwise.\n",
    "'''\n",
    "y_pred_default = predict_w_threshold(probs_test, 0.5)\n",
    "\n",
    "from sklearn.metrics import accuracy_score\n",
    "\n",
    "# Naive prediction\n",
    "accuracy_score(y_true = y_true, y_pred = y_pred_default)"
   ]
  },
  {
   "cell_type": "code",
   "execution_count": 36,
   "id": "6f14067c",
   "metadata": {
    "execution": {
     "iopub.execute_input": "2025-08-19T19:11:49.493665Z",
     "iopub.status.busy": "2025-08-19T19:11:49.492869Z",
     "iopub.status.idle": "2025-08-19T19:11:49.975151Z",
     "shell.execute_reply": "2025-08-19T19:11:49.974353Z"
    },
    "papermill": {
     "duration": 0.505609,
     "end_time": "2025-08-19T19:11:49.976371",
     "exception": false,
     "start_time": "2025-08-19T19:11:49.470762",
     "status": "completed"
    },
    "tags": []
   },
   "outputs": [
    {
     "data": {
      "text/plain": [
       "array([0, 0, 0, ..., 0, 0, 0])"
      ]
     },
     "execution_count": 36,
     "metadata": {},
     "output_type": "execute_result"
    }
   ],
   "source": [
    "model.predict(X_test)"
   ]
  },
  {
   "cell_type": "markdown",
   "id": "3759920c",
   "metadata": {
    "papermill": {
     "duration": 0.013768,
     "end_time": "2025-08-19T19:11:50.003018",
     "exception": false,
     "start_time": "2025-08-19T19:11:49.989250",
     "status": "completed"
    },
    "tags": []
   },
   "source": [
    "# Conformal Prediction"
   ]
  },
  {
   "cell_type": "code",
   "execution_count": 37,
   "id": "14b27f59",
   "metadata": {
    "execution": {
     "iopub.execute_input": "2025-08-19T19:11:50.026735Z",
     "iopub.status.busy": "2025-08-19T19:11:50.026444Z",
     "iopub.status.idle": "2025-08-19T19:11:50.030542Z",
     "shell.execute_reply": "2025-08-19T19:11:50.029916Z"
    },
    "papermill": {
     "duration": 0.017373,
     "end_time": "2025-08-19T19:11:50.031792",
     "exception": false,
     "start_time": "2025-08-19T19:11:50.014419",
     "status": "completed"
    },
    "tags": []
   },
   "outputs": [],
   "source": [
    "# Miscoverage level for conformal prediction (10% allowed error rate => 90% target coverage)\n",
    "alpha = 0.1"
   ]
  },
  {
   "cell_type": "code",
   "execution_count": 38,
   "id": "59102472",
   "metadata": {
    "execution": {
     "iopub.execute_input": "2025-08-19T19:11:50.055557Z",
     "iopub.status.busy": "2025-08-19T19:11:50.055298Z",
     "iopub.status.idle": "2025-08-19T19:11:50.501063Z",
     "shell.execute_reply": "2025-08-19T19:11:50.499959Z"
    },
    "papermill": {
     "duration": 0.460023,
     "end_time": "2025-08-19T19:11:50.502860",
     "exception": false,
     "start_time": "2025-08-19T19:11:50.042837",
     "status": "completed"
    },
    "tags": []
   },
   "outputs": [],
   "source": [
    "probs_calib = model.predict_proba(X_calib)"
   ]
  },
  {
   "cell_type": "code",
   "execution_count": 39,
   "id": "a792d4dd",
   "metadata": {
    "execution": {
     "iopub.execute_input": "2025-08-19T19:11:50.538129Z",
     "iopub.status.busy": "2025-08-19T19:11:50.537779Z",
     "iopub.status.idle": "2025-08-19T19:11:50.543721Z",
     "shell.execute_reply": "2025-08-19T19:11:50.542548Z"
    },
    "papermill": {
     "duration": 0.032523,
     "end_time": "2025-08-19T19:11:50.548045",
     "exception": false,
     "start_time": "2025-08-19T19:11:50.515522",
     "status": "completed"
    },
    "tags": []
   },
   "outputs": [],
   "source": [
    "y_calib = y_calib.values.ravel().astype(int)"
   ]
  },
  {
   "cell_type": "code",
   "execution_count": 40,
   "id": "650fd033",
   "metadata": {
    "execution": {
     "iopub.execute_input": "2025-08-19T19:11:50.589173Z",
     "iopub.status.busy": "2025-08-19T19:11:50.588415Z",
     "iopub.status.idle": "2025-08-19T19:11:50.597091Z",
     "shell.execute_reply": "2025-08-19T19:11:50.596298Z"
    },
    "papermill": {
     "duration": 0.024089,
     "end_time": "2025-08-19T19:11:50.598474",
     "exception": false,
     "start_time": "2025-08-19T19:11:50.574385",
     "status": "completed"
    },
    "tags": []
   },
   "outputs": [],
   "source": [
    "from fairness_multiverse.conformal import compute_nc_scores\n",
    "\n",
    "# Compute nonconformity scores on calibration set (1 - probability of true class)\n",
    "nc_scores = compute_nc_scores(probs_calib, y_calib)"
   ]
  },
  {
   "cell_type": "code",
   "execution_count": 41,
   "id": "28ada44c",
   "metadata": {
    "execution": {
     "iopub.execute_input": "2025-08-19T19:11:50.624319Z",
     "iopub.status.busy": "2025-08-19T19:11:50.623555Z",
     "iopub.status.idle": "2025-08-19T19:11:50.634516Z",
     "shell.execute_reply": "2025-08-19T19:11:50.633089Z"
    },
    "papermill": {
     "duration": 0.024798,
     "end_time": "2025-08-19T19:11:50.635869",
     "exception": false,
     "start_time": "2025-08-19T19:11:50.611071",
     "status": "completed"
    },
    "tags": []
   },
   "outputs": [],
   "source": [
    "from fairness_multiverse.conformal import find_threshold\n",
    "\n",
    "# Find conformal threshold q_hat for the given alpha (split conformal method)\n",
    "q_hat = find_threshold(nc_scores, alpha)"
   ]
  },
  {
   "cell_type": "code",
   "execution_count": 42,
   "id": "df56469e",
   "metadata": {
    "execution": {
     "iopub.execute_input": "2025-08-19T19:11:50.660868Z",
     "iopub.status.busy": "2025-08-19T19:11:50.659991Z",
     "iopub.status.idle": "2025-08-19T19:11:50.672078Z",
     "shell.execute_reply": "2025-08-19T19:11:50.670519Z"
    },
    "papermill": {
     "duration": 0.029039,
     "end_time": "2025-08-19T19:11:50.676351",
     "exception": false,
     "start_time": "2025-08-19T19:11:50.647312",
     "status": "completed"
    },
    "tags": []
   },
   "outputs": [
    {
     "data": {
      "text/plain": [
       "0.776859860859669"
      ]
     },
     "execution_count": 42,
     "metadata": {},
     "output_type": "execute_result"
    }
   ],
   "source": [
    "q_hat"
   ]
  },
  {
   "cell_type": "code",
   "execution_count": 43,
   "id": "aa1f5faa",
   "metadata": {
    "execution": {
     "iopub.execute_input": "2025-08-19T19:11:50.703801Z",
     "iopub.status.busy": "2025-08-19T19:11:50.702808Z",
     "iopub.status.idle": "2025-08-19T19:11:51.658673Z",
     "shell.execute_reply": "2025-08-19T19:11:51.657887Z"
    },
    "papermill": {
     "duration": 0.970169,
     "end_time": "2025-08-19T19:11:51.660040",
     "exception": false,
     "start_time": "2025-08-19T19:11:50.689871",
     "status": "completed"
    },
    "tags": []
   },
   "outputs": [],
   "source": [
    "from fairness_multiverse.conformal import predict_conformal_sets\n",
    "\n",
    "# Generate prediction sets for each test example\n",
    "pred_sets = predict_conformal_sets(model, X_test, q_hat)"
   ]
  },
  {
   "cell_type": "code",
   "execution_count": 44,
   "id": "97f67a6b",
   "metadata": {
    "execution": {
     "iopub.execute_input": "2025-08-19T19:11:51.685556Z",
     "iopub.status.busy": "2025-08-19T19:11:51.684701Z",
     "iopub.status.idle": "2025-08-19T19:11:51.701548Z",
     "shell.execute_reply": "2025-08-19T19:11:51.700546Z"
    },
    "papermill": {
     "duration": 0.030996,
     "end_time": "2025-08-19T19:11:51.703173",
     "exception": false,
     "start_time": "2025-08-19T19:11:51.672177",
     "status": "completed"
    },
    "tags": []
   },
   "outputs": [],
   "source": [
    "y_true = y_true.squeeze()"
   ]
  },
  {
   "cell_type": "code",
   "execution_count": 45,
   "id": "e700e9a7",
   "metadata": {
    "execution": {
     "iopub.execute_input": "2025-08-19T19:11:51.733838Z",
     "iopub.status.busy": "2025-08-19T19:11:51.733566Z",
     "iopub.status.idle": "2025-08-19T19:11:52.222267Z",
     "shell.execute_reply": "2025-08-19T19:11:52.221016Z"
    },
    "papermill": {
     "duration": 0.503432,
     "end_time": "2025-08-19T19:11:52.224060",
     "exception": false,
     "start_time": "2025-08-19T19:11:51.720628",
     "status": "completed"
    },
    "tags": []
   },
   "outputs": [],
   "source": [
    "from fairness_multiverse.conformal import evaluate_sets\n",
    "\n",
    "# Evaluate coverage and average set size on test data\n",
    "metrics = evaluate_sets(pred_sets, y_true)"
   ]
  },
  {
   "cell_type": "markdown",
   "id": "efbacec0",
   "metadata": {
    "papermill": {
     "duration": 0.01285,
     "end_time": "2025-08-19T19:11:52.258777",
     "exception": false,
     "start_time": "2025-08-19T19:11:52.245927",
     "status": "completed"
    },
    "tags": []
   },
   "source": [
    "# CP Metrics"
   ]
  },
  {
   "cell_type": "code",
   "execution_count": 46,
   "id": "9de55fb1",
   "metadata": {
    "execution": {
     "iopub.execute_input": "2025-08-19T19:11:52.290781Z",
     "iopub.status.busy": "2025-08-19T19:11:52.288261Z",
     "iopub.status.idle": "2025-08-19T19:11:52.302996Z",
     "shell.execute_reply": "2025-08-19T19:11:52.301697Z"
    },
    "papermill": {
     "duration": 0.037506,
     "end_time": "2025-08-19T19:11:52.308011",
     "exception": false,
     "start_time": "2025-08-19T19:11:52.270505",
     "status": "completed"
    },
    "tags": []
   },
   "outputs": [
    {
     "data": {
      "text/plain": [
       "{'coverage': 0.906197748300078, 'avg_size': 1.1929550774718538}"
      ]
     },
     "execution_count": 46,
     "metadata": {},
     "output_type": "execute_result"
    }
   ],
   "source": [
    "metrics"
   ]
  },
  {
   "cell_type": "code",
   "execution_count": 47,
   "id": "64c340a1",
   "metadata": {
    "execution": {
     "iopub.execute_input": "2025-08-19T19:11:52.347575Z",
     "iopub.status.busy": "2025-08-19T19:11:52.346435Z",
     "iopub.status.idle": "2025-08-19T19:11:52.356629Z",
     "shell.execute_reply": "2025-08-19T19:11:52.355386Z"
    },
    "papermill": {
     "duration": 0.028402,
     "end_time": "2025-08-19T19:11:52.358489",
     "exception": false,
     "start_time": "2025-08-19T19:11:52.330087",
     "status": "completed"
    },
    "tags": []
   },
   "outputs": [],
   "source": [
    "example_universe = universe.copy()\n",
    "universe_training_year = example_universe.get(\"training_year\")\n",
    "universe_training_size = example_universe.get(\"training_size\")\n",
    "universe_scale = example_universe.get(\"scale\")\n",
    "universe_model = example_universe.get(\"model\")\n",
    "universe_exclude_features = example_universe.get(\"exclude_features\")\n",
    "universe_exclude_subgroups = example_universe.get(\"exclude_subgroups\")"
   ]
  },
  {
   "cell_type": "code",
   "execution_count": 48,
   "id": "dbb53cb4",
   "metadata": {
    "execution": {
     "iopub.execute_input": "2025-08-19T19:11:52.391176Z",
     "iopub.status.busy": "2025-08-19T19:11:52.390056Z",
     "iopub.status.idle": "2025-08-19T19:11:52.400748Z",
     "shell.execute_reply": "2025-08-19T19:11:52.399463Z"
    },
    "papermill": {
     "duration": 0.027321,
     "end_time": "2025-08-19T19:11:52.402214",
     "exception": false,
     "start_time": "2025-08-19T19:11:52.374893",
     "status": "completed"
    },
    "tags": []
   },
   "outputs": [],
   "source": [
    "cp_metrics_dict = {\n",
    "    \"universe_id\": [universe_id],\n",
    "    \"universe_training_year\": [universe_training_year],\n",
    "    \"universe_training_size\": [universe_training_size],\n",
    "    \"universe_scale\": [universe_scale],\n",
    "    \"universe_model\": [universe_model],\n",
    "    \"universe_exclude_features\": [universe_exclude_features],\n",
    "    \"universe_exclude_subgroups\": [universe_exclude_subgroups],\n",
    "    \"q_hat\": [q_hat],\n",
    "    \"coverage\": [metrics[\"coverage\"]],\n",
    "    \"avg_size\": [metrics[\"avg_size\"]],\n",
    "}"
   ]
  },
  {
   "cell_type": "code",
   "execution_count": 49,
   "id": "0d70d4b2",
   "metadata": {
    "execution": {
     "iopub.execute_input": "2025-08-19T19:11:52.436834Z",
     "iopub.status.busy": "2025-08-19T19:11:52.433297Z",
     "iopub.status.idle": "2025-08-19T19:11:52.442555Z",
     "shell.execute_reply": "2025-08-19T19:11:52.441640Z"
    },
    "papermill": {
     "duration": 0.026379,
     "end_time": "2025-08-19T19:11:52.443825",
     "exception": false,
     "start_time": "2025-08-19T19:11:52.417446",
     "status": "completed"
    },
    "tags": []
   },
   "outputs": [],
   "source": [
    "cp_metrics_df = pd.DataFrame(cp_metrics_dict)"
   ]
  },
  {
   "cell_type": "code",
   "execution_count": 50,
   "id": "b494403c",
   "metadata": {
    "execution": {
     "iopub.execute_input": "2025-08-19T19:11:52.488071Z",
     "iopub.status.busy": "2025-08-19T19:11:52.487570Z",
     "iopub.status.idle": "2025-08-19T19:11:52.503688Z",
     "shell.execute_reply": "2025-08-19T19:11:52.502898Z"
    },
    "papermill": {
     "duration": 0.032649,
     "end_time": "2025-08-19T19:11:52.506234",
     "exception": false,
     "start_time": "2025-08-19T19:11:52.473585",
     "status": "completed"
    },
    "tags": []
   },
   "outputs": [
    {
     "data": {
      "text/html": [
       "<div>\n",
       "<style scoped>\n",
       "    .dataframe tbody tr th:only-of-type {\n",
       "        vertical-align: middle;\n",
       "    }\n",
       "\n",
       "    .dataframe tbody tr th {\n",
       "        vertical-align: top;\n",
       "    }\n",
       "\n",
       "    .dataframe thead th {\n",
       "        text-align: right;\n",
       "    }\n",
       "</style>\n",
       "<table border=\"1\" class=\"dataframe\">\n",
       "  <thead>\n",
       "    <tr style=\"text-align: right;\">\n",
       "      <th></th>\n",
       "      <th>universe_id</th>\n",
       "      <th>universe_training_year</th>\n",
       "      <th>universe_training_size</th>\n",
       "      <th>universe_scale</th>\n",
       "      <th>universe_model</th>\n",
       "      <th>universe_exclude_features</th>\n",
       "      <th>universe_exclude_subgroups</th>\n",
       "      <th>q_hat</th>\n",
       "      <th>coverage</th>\n",
       "      <th>avg_size</th>\n",
       "    </tr>\n",
       "  </thead>\n",
       "  <tbody>\n",
       "    <tr>\n",
       "      <th>0</th>\n",
       "      <td>02f0c877f5680c40020c794f1070779d</td>\n",
       "      <td>2010_14</td>\n",
       "      <td>1k</td>\n",
       "      <td>do-not-scale</td>\n",
       "      <td>gbm</td>\n",
       "      <td>age</td>\n",
       "      <td>drop-non-german</td>\n",
       "      <td>0.77686</td>\n",
       "      <td>0.906198</td>\n",
       "      <td>1.192955</td>\n",
       "    </tr>\n",
       "  </tbody>\n",
       "</table>\n",
       "</div>"
      ],
      "text/plain": [
       "                        universe_id universe_training_year  \\\n",
       "0  02f0c877f5680c40020c794f1070779d                2010_14   \n",
       "\n",
       "  universe_training_size universe_scale universe_model  \\\n",
       "0                     1k   do-not-scale            gbm   \n",
       "\n",
       "  universe_exclude_features universe_exclude_subgroups    q_hat  coverage  \\\n",
       "0                       age            drop-non-german  0.77686  0.906198   \n",
       "\n",
       "   avg_size  \n",
       "0  1.192955  "
      ]
     },
     "execution_count": 50,
     "metadata": {},
     "output_type": "execute_result"
    }
   ],
   "source": [
    "cp_metrics_df"
   ]
  },
  {
   "cell_type": "markdown",
   "id": "ed608b0b",
   "metadata": {
    "papermill": {
     "duration": 0.014041,
     "end_time": "2025-08-19T19:11:52.535697",
     "exception": false,
     "start_time": "2025-08-19T19:11:52.521656",
     "status": "completed"
    },
    "tags": []
   },
   "source": [
    "Conditional coverage & looking at subgroups"
   ]
  },
  {
   "cell_type": "code",
   "execution_count": 51,
   "id": "8968c366",
   "metadata": {
    "execution": {
     "iopub.execute_input": "2025-08-19T19:11:52.565665Z",
     "iopub.status.busy": "2025-08-19T19:11:52.564971Z",
     "iopub.status.idle": "2025-08-19T19:11:52.835424Z",
     "shell.execute_reply": "2025-08-19T19:11:52.834666Z"
    },
    "papermill": {
     "duration": 0.288593,
     "end_time": "2025-08-19T19:11:52.838203",
     "exception": false,
     "start_time": "2025-08-19T19:11:52.549610",
     "status": "completed"
    },
    "tags": []
   },
   "outputs": [],
   "source": [
    "from fairness_multiverse.conformal import build_cp_groups\n",
    "\n",
    "cp_groups_df = build_cp_groups(pred_sets, y_true, X_test.index, org_test)"
   ]
  },
  {
   "cell_type": "code",
   "execution_count": 52,
   "id": "292ddabf",
   "metadata": {
    "execution": {
     "iopub.execute_input": "2025-08-19T19:11:52.882066Z",
     "iopub.status.busy": "2025-08-19T19:11:52.881367Z",
     "iopub.status.idle": "2025-08-19T19:11:53.758604Z",
     "shell.execute_reply": "2025-08-19T19:11:53.757496Z"
    },
    "papermill": {
     "duration": 0.895244,
     "end_time": "2025-08-19T19:11:53.760685",
     "exception": false,
     "start_time": "2025-08-19T19:11:52.865441",
     "status": "completed"
    },
    "tags": []
   },
   "outputs": [],
   "source": [
    "# Define covered = 1 if true_label is in the predicted set\n",
    "cp_groups_df['covered'] = cp_groups_df.apply(\n",
    "    lambda r: int(r['true_label'] in r['pred_set']),\n",
    "    axis=1\n",
    ")"
   ]
  },
  {
   "cell_type": "code",
   "execution_count": 53,
   "id": "3a261692",
   "metadata": {
    "execution": {
     "iopub.execute_input": "2025-08-19T19:11:53.802800Z",
     "iopub.status.busy": "2025-08-19T19:11:53.801347Z",
     "iopub.status.idle": "2025-08-19T19:11:53.828922Z",
     "shell.execute_reply": "2025-08-19T19:11:53.828007Z"
    },
    "papermill": {
     "duration": 0.045875,
     "end_time": "2025-08-19T19:11:53.830941",
     "exception": false,
     "start_time": "2025-08-19T19:11:53.785066",
     "status": "completed"
    },
    "tags": []
   },
   "outputs": [],
   "source": [
    "subgroups = ['frau1','nongerman','nongerman_male','nongerman_female']\n",
    "\n",
    "# Conditional coverage for subgroup==1\n",
    "cond_coverage = {\n",
    "    g: cp_groups_df.loc[cp_groups_df[g]==1, 'covered'].mean()\n",
    "    for g in subgroups\n",
    "}"
   ]
  },
  {
   "cell_type": "code",
   "execution_count": 54,
   "id": "894fd600",
   "metadata": {
    "execution": {
     "iopub.execute_input": "2025-08-19T19:11:53.871376Z",
     "iopub.status.busy": "2025-08-19T19:11:53.870992Z",
     "iopub.status.idle": "2025-08-19T19:11:53.876835Z",
     "shell.execute_reply": "2025-08-19T19:11:53.876060Z"
    },
    "papermill": {
     "duration": 0.0219,
     "end_time": "2025-08-19T19:11:53.877870",
     "exception": false,
     "start_time": "2025-08-19T19:11:53.855970",
     "status": "completed"
    },
    "tags": []
   },
   "outputs": [
    {
     "data": {
      "text/plain": [
       "{'frau1': 0.904434559913735,\n",
       " 'nongerman': 0.9064166619884354,\n",
       " 'nongerman_male': 0.9232639827073764,\n",
       " 'nongerman_female': 0.8785394932935916}"
      ]
     },
     "execution_count": 54,
     "metadata": {},
     "output_type": "execute_result"
    }
   ],
   "source": [
    "cond_coverage"
   ]
  },
  {
   "cell_type": "code",
   "execution_count": 55,
   "id": "942895c7",
   "metadata": {
    "execution": {
     "iopub.execute_input": "2025-08-19T19:11:53.908746Z",
     "iopub.status.busy": "2025-08-19T19:11:53.908035Z",
     "iopub.status.idle": "2025-08-19T19:11:53.918124Z",
     "shell.execute_reply": "2025-08-19T19:11:53.916767Z"
    },
    "papermill": {
     "duration": 0.029303,
     "end_time": "2025-08-19T19:11:53.921097",
     "exception": false,
     "start_time": "2025-08-19T19:11:53.891794",
     "status": "completed"
    },
    "tags": []
   },
   "outputs": [],
   "source": [
    "for subgroup, cov in cond_coverage.items():\n",
    "    cp_metrics_df[f\"cov_{subgroup}\"] = cov"
   ]
  },
  {
   "cell_type": "code",
   "execution_count": 56,
   "id": "3970120f",
   "metadata": {
    "execution": {
     "iopub.execute_input": "2025-08-19T19:11:53.955385Z",
     "iopub.status.busy": "2025-08-19T19:11:53.954238Z",
     "iopub.status.idle": "2025-08-19T19:11:53.981998Z",
     "shell.execute_reply": "2025-08-19T19:11:53.981245Z"
    },
    "papermill": {
     "duration": 0.044348,
     "end_time": "2025-08-19T19:11:53.983934",
     "exception": false,
     "start_time": "2025-08-19T19:11:53.939586",
     "status": "completed"
    },
    "tags": []
   },
   "outputs": [
    {
     "data": {
      "text/html": [
       "<div>\n",
       "<style scoped>\n",
       "    .dataframe tbody tr th:only-of-type {\n",
       "        vertical-align: middle;\n",
       "    }\n",
       "\n",
       "    .dataframe tbody tr th {\n",
       "        vertical-align: top;\n",
       "    }\n",
       "\n",
       "    .dataframe thead th {\n",
       "        text-align: right;\n",
       "    }\n",
       "</style>\n",
       "<table border=\"1\" class=\"dataframe\">\n",
       "  <thead>\n",
       "    <tr style=\"text-align: right;\">\n",
       "      <th></th>\n",
       "      <th>universe_id</th>\n",
       "      <th>universe_training_year</th>\n",
       "      <th>universe_training_size</th>\n",
       "      <th>universe_scale</th>\n",
       "      <th>universe_model</th>\n",
       "      <th>universe_exclude_features</th>\n",
       "      <th>universe_exclude_subgroups</th>\n",
       "      <th>q_hat</th>\n",
       "      <th>coverage</th>\n",
       "      <th>avg_size</th>\n",
       "      <th>cov_frau1</th>\n",
       "      <th>cov_nongerman</th>\n",
       "      <th>cov_nongerman_male</th>\n",
       "      <th>cov_nongerman_female</th>\n",
       "    </tr>\n",
       "  </thead>\n",
       "  <tbody>\n",
       "    <tr>\n",
       "      <th>0</th>\n",
       "      <td>02f0c877f5680c40020c794f1070779d</td>\n",
       "      <td>2010_14</td>\n",
       "      <td>1k</td>\n",
       "      <td>do-not-scale</td>\n",
       "      <td>gbm</td>\n",
       "      <td>age</td>\n",
       "      <td>drop-non-german</td>\n",
       "      <td>0.77686</td>\n",
       "      <td>0.906198</td>\n",
       "      <td>1.192955</td>\n",
       "      <td>0.904435</td>\n",
       "      <td>0.906417</td>\n",
       "      <td>0.923264</td>\n",
       "      <td>0.878539</td>\n",
       "    </tr>\n",
       "  </tbody>\n",
       "</table>\n",
       "</div>"
      ],
      "text/plain": [
       "                        universe_id universe_training_year  \\\n",
       "0  02f0c877f5680c40020c794f1070779d                2010_14   \n",
       "\n",
       "  universe_training_size universe_scale universe_model  \\\n",
       "0                     1k   do-not-scale            gbm   \n",
       "\n",
       "  universe_exclude_features universe_exclude_subgroups    q_hat  coverage  \\\n",
       "0                       age            drop-non-german  0.77686  0.906198   \n",
       "\n",
       "   avg_size  cov_frau1  cov_nongerman  cov_nongerman_male  \\\n",
       "0  1.192955   0.904435       0.906417            0.923264   \n",
       "\n",
       "   cov_nongerman_female  \n",
       "0              0.878539  "
      ]
     },
     "execution_count": 56,
     "metadata": {},
     "output_type": "execute_result"
    }
   ],
   "source": [
    "cp_metrics_df"
   ]
  },
  {
   "cell_type": "markdown",
   "id": "3fc519cc",
   "metadata": {
    "papermill": {
     "duration": 0.01366,
     "end_time": "2025-08-19T19:11:54.021776",
     "exception": false,
     "start_time": "2025-08-19T19:11:54.008116",
     "status": "completed"
    },
    "tags": []
   },
   "source": [
    "# (Fairness) Metrics"
   ]
  },
  {
   "cell_type": "code",
   "execution_count": 57,
   "id": "a2e5e155",
   "metadata": {
    "execution": {
     "iopub.execute_input": "2025-08-19T19:11:54.064240Z",
     "iopub.status.busy": "2025-08-19T19:11:54.063319Z",
     "iopub.status.idle": "2025-08-19T19:11:54.083634Z",
     "shell.execute_reply": "2025-08-19T19:11:54.082544Z"
    },
    "papermill": {
     "duration": 0.050301,
     "end_time": "2025-08-19T19:11:54.085287",
     "exception": false,
     "start_time": "2025-08-19T19:11:54.034986",
     "status": "completed"
    },
    "tags": []
   },
   "outputs": [],
   "source": [
    "colname_to_bin = \"maxdeutsch1\"\n",
    "majority_value = org_train[colname_to_bin].mode()[0]\n",
    "\n",
    "org_test[\"majmin\"] = np.where(org_test[colname_to_bin] == majority_value, \"majority\", \"minority\")"
   ]
  },
  {
   "cell_type": "code",
   "execution_count": 58,
   "id": "17e3e4d5",
   "metadata": {
    "execution": {
     "iopub.execute_input": "2025-08-19T19:11:54.121555Z",
     "iopub.status.busy": "2025-08-19T19:11:54.120894Z",
     "iopub.status.idle": "2025-08-19T19:11:55.846486Z",
     "shell.execute_reply": "2025-08-19T19:11:55.844444Z"
    },
    "papermill": {
     "duration": 1.744359,
     "end_time": "2025-08-19T19:11:55.849966",
     "exception": false,
     "start_time": "2025-08-19T19:11:54.105607",
     "status": "completed"
    },
    "tags": []
   },
   "outputs": [],
   "source": [
    "example_universe = universe.copy()\n",
    "example_universe[\"cutoff\"] = example_universe[\"cutoff\"][0]\n",
    "example_universe[\"eval_fairness_grouping\"] = example_universe[\"eval_fairness_grouping\"][0]\n",
    "fairness_dict, metric_frame = universe_analysis.compute_metrics(\n",
    "    example_universe,\n",
    "    y_pred_prob=probs_test,\n",
    "    y_test=y_true,\n",
    "    org_test=org_test,\n",
    ")"
   ]
  },
  {
   "cell_type": "markdown",
   "id": "1fb7a0e9",
   "metadata": {
    "papermill": {
     "duration": 0.028291,
     "end_time": "2025-08-19T19:11:55.913541",
     "exception": false,
     "start_time": "2025-08-19T19:11:55.885250",
     "status": "completed"
    },
    "tags": []
   },
   "source": [
    "# Overall"
   ]
  },
  {
   "cell_type": "markdown",
   "id": "be1784b1",
   "metadata": {
    "papermill": {
     "duration": 0.012083,
     "end_time": "2025-08-19T19:11:55.939686",
     "exception": false,
     "start_time": "2025-08-19T19:11:55.927603",
     "status": "completed"
    },
    "tags": []
   },
   "source": [
    "Main fairness target: Equalized Odds. Seems to be a better fit than equal opportunity, since we're not only interested in Y = 1. Seems to be a better fit than demographic parity, since we also care about accuracy, not just equal distribution of preds.\n",
    "\n",
    "Pick column for computation of fairness metrics\n",
    "\n",
    "Performance\n",
    "Overall performance measures, most interesting in relation to the measures split by group below"
   ]
  },
  {
   "cell_type": "code",
   "execution_count": 59,
   "id": "b7672bee",
   "metadata": {
    "execution": {
     "iopub.execute_input": "2025-08-19T19:11:55.968868Z",
     "iopub.status.busy": "2025-08-19T19:11:55.967950Z",
     "iopub.status.idle": "2025-08-19T19:11:55.984469Z",
     "shell.execute_reply": "2025-08-19T19:11:55.983583Z"
    },
    "papermill": {
     "duration": 0.034417,
     "end_time": "2025-08-19T19:11:55.986182",
     "exception": false,
     "start_time": "2025-08-19T19:11:55.951765",
     "status": "completed"
    },
    "tags": []
   },
   "outputs": [
    {
     "data": {
      "text/plain": [
       "accuracy                   0.221592\n",
       "balanced accuracy          0.542405\n",
       "f1                         0.243000\n",
       "precision                  0.138818\n",
       "false positive rate        0.889120\n",
       "false negative rate        0.026069\n",
       "selection rate             0.900000\n",
       "count                  89710.000000\n",
       "dtype: float64"
      ]
     },
     "execution_count": 59,
     "metadata": {},
     "output_type": "execute_result"
    }
   ],
   "source": [
    "metric_frame.overall"
   ]
  },
  {
   "cell_type": "markdown",
   "id": "d93333c9",
   "metadata": {
    "papermill": {
     "duration": 0.012971,
     "end_time": "2025-08-19T19:11:56.015636",
     "exception": false,
     "start_time": "2025-08-19T19:11:56.002665",
     "status": "completed"
    },
    "tags": []
   },
   "source": [
    "By Group"
   ]
  },
  {
   "cell_type": "code",
   "execution_count": 60,
   "id": "52256966",
   "metadata": {
    "execution": {
     "iopub.execute_input": "2025-08-19T19:11:56.048608Z",
     "iopub.status.busy": "2025-08-19T19:11:56.042101Z",
     "iopub.status.idle": "2025-08-19T19:11:56.069117Z",
     "shell.execute_reply": "2025-08-19T19:11:56.068092Z"
    },
    "papermill": {
     "duration": 0.043335,
     "end_time": "2025-08-19T19:11:56.071304",
     "exception": false,
     "start_time": "2025-08-19T19:11:56.027969",
     "status": "completed"
    },
    "tags": []
   },
   "outputs": [
    {
     "data": {
      "text/html": [
       "<div>\n",
       "<style scoped>\n",
       "    .dataframe tbody tr th:only-of-type {\n",
       "        vertical-align: middle;\n",
       "    }\n",
       "\n",
       "    .dataframe tbody tr th {\n",
       "        vertical-align: top;\n",
       "    }\n",
       "\n",
       "    .dataframe thead th {\n",
       "        text-align: right;\n",
       "    }\n",
       "</style>\n",
       "<table border=\"1\" class=\"dataframe\">\n",
       "  <thead>\n",
       "    <tr style=\"text-align: right;\">\n",
       "      <th></th>\n",
       "      <th>accuracy</th>\n",
       "      <th>balanced accuracy</th>\n",
       "      <th>f1</th>\n",
       "      <th>precision</th>\n",
       "      <th>false positive rate</th>\n",
       "      <th>false negative rate</th>\n",
       "      <th>selection rate</th>\n",
       "      <th>count</th>\n",
       "    </tr>\n",
       "    <tr>\n",
       "      <th>majmin</th>\n",
       "      <th></th>\n",
       "      <th></th>\n",
       "      <th></th>\n",
       "      <th></th>\n",
       "      <th></th>\n",
       "      <th></th>\n",
       "      <th></th>\n",
       "      <th></th>\n",
       "    </tr>\n",
       "  </thead>\n",
       "  <tbody>\n",
       "    <tr>\n",
       "      <th>majority</th>\n",
       "      <td>0.230606</td>\n",
       "      <td>0.545368</td>\n",
       "      <td>0.250532</td>\n",
       "      <td>0.143772</td>\n",
       "      <td>0.882459</td>\n",
       "      <td>0.026805</td>\n",
       "      <td>0.894448</td>\n",
       "      <td>69170.0</td>\n",
       "    </tr>\n",
       "    <tr>\n",
       "      <th>minority</th>\n",
       "      <td>0.191237</td>\n",
       "      <td>0.532823</td>\n",
       "      <td>0.217817</td>\n",
       "      <td>0.122576</td>\n",
       "      <td>0.911127</td>\n",
       "      <td>0.023226</td>\n",
       "      <td>0.918695</td>\n",
       "      <td>20540.0</td>\n",
       "    </tr>\n",
       "  </tbody>\n",
       "</table>\n",
       "</div>"
      ],
      "text/plain": [
       "          accuracy  balanced accuracy        f1  precision  \\\n",
       "majmin                                                       \n",
       "majority  0.230606           0.545368  0.250532   0.143772   \n",
       "minority  0.191237           0.532823  0.217817   0.122576   \n",
       "\n",
       "          false positive rate  false negative rate  selection rate    count  \n",
       "majmin                                                                       \n",
       "majority             0.882459             0.026805        0.894448  69170.0  \n",
       "minority             0.911127             0.023226        0.918695  20540.0  "
      ]
     },
     "execution_count": 60,
     "metadata": {},
     "output_type": "execute_result"
    }
   ],
   "source": [
    "metric_frame.by_group"
   ]
  },
  {
   "cell_type": "code",
   "execution_count": 61,
   "id": "6e6c20ae",
   "metadata": {
    "execution": {
     "iopub.execute_input": "2025-08-19T19:11:56.110242Z",
     "iopub.status.busy": "2025-08-19T19:11:56.109982Z",
     "iopub.status.idle": "2025-08-19T19:11:58.042584Z",
     "shell.execute_reply": "2025-08-19T19:11:58.040569Z"
    },
    "papermill": {
     "duration": 1.948447,
     "end_time": "2025-08-19T19:11:58.044372",
     "exception": false,
     "start_time": "2025-08-19T19:11:56.095925",
     "status": "completed"
    },
    "tags": []
   },
   "outputs": [
    {
     "data": {
      "text/plain": [
       "array([[<Axes: title={'center': 'accuracy'}, xlabel='majmin'>,\n",
       "        <Axes: title={'center': 'balanced accuracy'}, xlabel='majmin'>,\n",
       "        <Axes: title={'center': 'f1'}, xlabel='majmin'>],\n",
       "       [<Axes: title={'center': 'precision'}, xlabel='majmin'>,\n",
       "        <Axes: title={'center': 'false positive rate'}, xlabel='majmin'>,\n",
       "        <Axes: title={'center': 'false negative rate'}, xlabel='majmin'>],\n",
       "       [<Axes: title={'center': 'selection rate'}, xlabel='majmin'>,\n",
       "        <Axes: title={'center': 'count'}, xlabel='majmin'>,\n",
       "        <Axes: xlabel='majmin'>]], dtype=object)"
      ]
     },
     "execution_count": 61,
     "metadata": {},
     "output_type": "execute_result"
    },
    {
     "data": {
      "image/png": "[encoded data removed]",
      "text/plain": [
       "<Figure size 1200x800 with 9 Axes>"
      ]
     },
     "metadata": {},
     "output_type": "display_data"
    }
   ],
   "source": [
    "# In a graphic\n",
    "metric_frame.by_group.plot.bar(\n",
    "    subplots=True,\n",
    "    layout=[3, 3],\n",
    "    legend=False,\n",
    "    figsize=[12, 8],\n",
    "    title=\"Show all metrics\",\n",
    ")"
   ]
  },
  {
   "cell_type": "markdown",
   "id": "b2e433ae",
   "metadata": {
    "papermill": {
     "duration": 0.014309,
     "end_time": "2025-08-19T19:11:58.073842",
     "exception": false,
     "start_time": "2025-08-19T19:11:58.059533",
     "status": "completed"
    },
    "tags": []
   },
   "source": [
    "# Final Output"
   ]
  },
  {
   "cell_type": "code",
   "execution_count": 62,
   "id": "3871301e",
   "metadata": {
    "execution": {
     "iopub.execute_input": "2025-08-19T19:11:58.108940Z",
     "iopub.status.busy": "2025-08-19T19:11:58.106827Z",
     "iopub.status.idle": "2025-08-19T19:11:58.137838Z",
     "shell.execute_reply": "2025-08-19T19:11:58.136727Z"
    },
    "papermill": {
     "duration": 0.051136,
     "end_time": "2025-08-19T19:11:58.140242",
     "exception": false,
     "start_time": "2025-08-19T19:11:58.089106",
     "status": "completed"
    },
    "tags": []
   },
   "outputs": [
    {
     "data": {
      "text/plain": [
       "4"
      ]
     },
     "execution_count": 62,
     "metadata": {},
     "output_type": "execute_result"
    }
   ],
   "source": [
    "sub_universes = universe_analysis.generate_sub_universes()\n",
    "len(sub_universes)"
   ]
  },
  {
   "cell_type": "code",
   "execution_count": 63,
   "id": "d9cfdaca",
   "metadata": {
    "execution": {
     "iopub.execute_input": "2025-08-19T19:11:58.186066Z",
     "iopub.status.busy": "2025-08-19T19:11:58.185664Z",
     "iopub.status.idle": "2025-08-19T19:11:58.190961Z",
     "shell.execute_reply": "2025-08-19T19:11:58.190353Z"
    },
    "papermill": {
     "duration": 0.023079,
     "end_time": "2025-08-19T19:11:58.192489",
     "exception": false,
     "start_time": "2025-08-19T19:11:58.169410",
     "status": "completed"
    },
    "tags": []
   },
   "outputs": [],
   "source": [
    "def filter_sub_universe_data(sub_universe, org_test):\n",
    "    # Keep all rows — no filtering\n",
    "    keep_rows_mask = np.ones(org_test.shape[0], dtype=bool)\n",
    "\n",
    "    print(f\"[INFO] Keeping all rows: {keep_rows_mask.sum()} rows retained.\")\n",
    "    return keep_rows_mask"
   ]
  },
  {
   "cell_type": "code",
   "execution_count": 64,
   "id": "2bc31ac1",
   "metadata": {
    "execution": {
     "iopub.execute_input": "2025-08-19T19:11:58.223304Z",
     "iopub.status.busy": "2025-08-19T19:11:58.222937Z",
     "iopub.status.idle": "2025-08-19T19:12:04.932242Z",
     "shell.execute_reply": "2025-08-19T19:12:04.931317Z"
    },
    "papermill": {
     "duration": 6.726324,
     "end_time": "2025-08-19T19:12:04.933624",
     "exception": false,
     "start_time": "2025-08-19T19:11:58.207300",
     "status": "completed"
    },
    "tags": []
   },
   "outputs": [
    {
     "name": "stdout",
     "output_type": "stream",
     "text": [
      "Stopping execution_time clock.\n",
      "[INFO] Keeping all rows: 89710 rows retained.\n"
     ]
    },
    {
     "name": "stdout",
     "output_type": "stream",
     "text": [
      "[INFO] Keeping all rows: 89710 rows retained.\n"
     ]
    },
    {
     "name": "stdout",
     "output_type": "stream",
     "text": [
      "[INFO] Keeping all rows: 89710 rows retained.\n"
     ]
    },
    {
     "name": "stdout",
     "output_type": "stream",
     "text": [
      "[INFO] Keeping all rows: 89710 rows retained.\n"
     ]
    },
    {
     "data": {
      "text/html": [
       "<div>\n",
       "<style scoped>\n",
       "    .dataframe tbody tr th:only-of-type {\n",
       "        vertical-align: middle;\n",
       "    }\n",
       "\n",
       "    .dataframe tbody tr th {\n",
       "        vertical-align: top;\n",
       "    }\n",
       "\n",
       "    .dataframe thead th {\n",
       "        text-align: right;\n",
       "    }\n",
       "</style>\n",
       "<table border=\"1\" class=\"dataframe\">\n",
       "  <thead>\n",
       "    <tr style=\"text-align: right;\">\n",
       "      <th></th>\n",
       "      <th>run_no</th>\n",
       "      <th>universe_id</th>\n",
       "      <th>universe_settings</th>\n",
       "      <th>execution_time</th>\n",
       "      <th>test_size_n</th>\n",
       "      <th>test_size_frac</th>\n",
       "      <th>fair_main_equalized_odds_difference</th>\n",
       "      <th>fair_main_equalized_odds_ratio</th>\n",
       "      <th>fair_main_demographic_parity_difference</th>\n",
       "      <th>fair_main_demographic_parity_ratio</th>\n",
       "      <th>...</th>\n",
       "      <th>perf_grp_precision_0</th>\n",
       "      <th>perf_grp_precision_1</th>\n",
       "      <th>perf_grp_false positive rate_0</th>\n",
       "      <th>perf_grp_false positive rate_1</th>\n",
       "      <th>perf_grp_false negative rate_0</th>\n",
       "      <th>perf_grp_false negative rate_1</th>\n",
       "      <th>perf_grp_selection rate_0</th>\n",
       "      <th>perf_grp_selection rate_1</th>\n",
       "      <th>perf_grp_count_0</th>\n",
       "      <th>perf_grp_count_1</th>\n",
       "    </tr>\n",
       "  </thead>\n",
       "  <tbody>\n",
       "    <tr>\n",
       "      <th>0</th>\n",
       "      <td>3</td>\n",
       "      <td>02f0c877f5680c40020c794f1070779d</td>\n",
       "      <td>{\"cutoff\": \"quantile_0.1\", \"eval_fairness_grou...</td>\n",
       "      <td>23.6617</td>\n",
       "      <td>89710</td>\n",
       "      <td>1.0</td>\n",
       "      <td>0.028668</td>\n",
       "      <td>0.968535</td>\n",
       "      <td>0.024247</td>\n",
       "      <td>0.973607</td>\n",
       "      <td>...</td>\n",
       "      <td>NaN</td>\n",
       "      <td>NaN</td>\n",
       "      <td>NaN</td>\n",
       "      <td>NaN</td>\n",
       "      <td>NaN</td>\n",
       "      <td>NaN</td>\n",
       "      <td>NaN</td>\n",
       "      <td>NaN</td>\n",
       "      <td>NaN</td>\n",
       "      <td>NaN</td>\n",
       "    </tr>\n",
       "    <tr>\n",
       "      <th>0</th>\n",
       "      <td>3</td>\n",
       "      <td>02f0c877f5680c40020c794f1070779d</td>\n",
       "      <td>{\"cutoff\": \"quantile_0.1\", \"eval_fairness_grou...</td>\n",
       "      <td>23.6617</td>\n",
       "      <td>89710</td>\n",
       "      <td>1.0</td>\n",
       "      <td>0.028668</td>\n",
       "      <td>0.968535</td>\n",
       "      <td>0.024247</td>\n",
       "      <td>0.973607</td>\n",
       "      <td>...</td>\n",
       "      <td>0.122576</td>\n",
       "      <td>0.143772</td>\n",
       "      <td>0.911127</td>\n",
       "      <td>0.882459</td>\n",
       "      <td>0.023226</td>\n",
       "      <td>0.026805</td>\n",
       "      <td>0.918695</td>\n",
       "      <td>0.894448</td>\n",
       "      <td>20540.0</td>\n",
       "      <td>69170.0</td>\n",
       "    </tr>\n",
       "    <tr>\n",
       "      <th>0</th>\n",
       "      <td>3</td>\n",
       "      <td>02f0c877f5680c40020c794f1070779d</td>\n",
       "      <td>{\"cutoff\": \"quantile_0.25\", \"eval_fairness_gro...</td>\n",
       "      <td>23.6617</td>\n",
       "      <td>89710</td>\n",
       "      <td>1.0</td>\n",
       "      <td>0.104642</td>\n",
       "      <td>0.870299</td>\n",
       "      <td>0.090743</td>\n",
       "      <td>0.889332</td>\n",
       "      <td>...</td>\n",
       "      <td>NaN</td>\n",
       "      <td>NaN</td>\n",
       "      <td>NaN</td>\n",
       "      <td>NaN</td>\n",
       "      <td>NaN</td>\n",
       "      <td>NaN</td>\n",
       "      <td>NaN</td>\n",
       "      <td>NaN</td>\n",
       "      <td>NaN</td>\n",
       "      <td>NaN</td>\n",
       "    </tr>\n",
       "    <tr>\n",
       "      <th>0</th>\n",
       "      <td>3</td>\n",
       "      <td>02f0c877f5680c40020c794f1070779d</td>\n",
       "      <td>{\"cutoff\": \"quantile_0.25\", \"eval_fairness_gro...</td>\n",
       "      <td>23.6617</td>\n",
       "      <td>89710</td>\n",
       "      <td>1.0</td>\n",
       "      <td>0.104642</td>\n",
       "      <td>0.870299</td>\n",
       "      <td>0.090743</td>\n",
       "      <td>0.889332</td>\n",
       "      <td>...</td>\n",
       "      <td>0.129498</td>\n",
       "      <td>0.164354</td>\n",
       "      <td>0.806791</td>\n",
       "      <td>0.702149</td>\n",
       "      <td>0.078970</td>\n",
       "      <td>0.092998</td>\n",
       "      <td>0.819961</td>\n",
       "      <td>0.729218</td>\n",
       "      <td>20540.0</td>\n",
       "      <td>69170.0</td>\n",
       "    </tr>\n",
       "  </tbody>\n",
       "</table>\n",
       "<p>4 rows × 50 columns</p>\n",
       "</div>"
      ],
      "text/plain": [
       "  run_no                       universe_id  \\\n",
       "0      3  02f0c877f5680c40020c794f1070779d   \n",
       "0      3  02f0c877f5680c40020c794f1070779d   \n",
       "0      3  02f0c877f5680c40020c794f1070779d   \n",
       "0      3  02f0c877f5680c40020c794f1070779d   \n",
       "\n",
       "                                   universe_settings  execution_time  \\\n",
       "0  {\"cutoff\": \"quantile_0.1\", \"eval_fairness_grou...         23.6617   \n",
       "0  {\"cutoff\": \"quantile_0.1\", \"eval_fairness_grou...         23.6617   \n",
       "0  {\"cutoff\": \"quantile_0.25\", \"eval_fairness_gro...         23.6617   \n",
       "0  {\"cutoff\": \"quantile_0.25\", \"eval_fairness_gro...         23.6617   \n",
       "\n",
       "   test_size_n  test_size_frac  fair_main_equalized_odds_difference  \\\n",
       "0        89710             1.0                             0.028668   \n",
       "0        89710             1.0                             0.028668   \n",
       "0        89710             1.0                             0.104642   \n",
       "0        89710             1.0                             0.104642   \n",
       "\n",
       "   fair_main_equalized_odds_ratio  fair_main_demographic_parity_difference  \\\n",
       "0                        0.968535                                 0.024247   \n",
       "0                        0.968535                                 0.024247   \n",
       "0                        0.870299                                 0.090743   \n",
       "0                        0.870299                                 0.090743   \n",
       "\n",
       "   fair_main_demographic_parity_ratio  ...  perf_grp_precision_0  \\\n",
       "0                            0.973607  ...                   NaN   \n",
       "0                            0.973607  ...              0.122576   \n",
       "0                            0.889332  ...                   NaN   \n",
       "0                            0.889332  ...              0.129498   \n",
       "\n",
       "   perf_grp_precision_1  perf_grp_false positive rate_0  \\\n",
       "0                   NaN                             NaN   \n",
       "0              0.143772                        0.911127   \n",
       "0                   NaN                             NaN   \n",
       "0              0.164354                        0.806791   \n",
       "\n",
       "   perf_grp_false positive rate_1  perf_grp_false negative rate_0  \\\n",
       "0                             NaN                             NaN   \n",
       "0                        0.882459                        0.023226   \n",
       "0                             NaN                             NaN   \n",
       "0                        0.702149                        0.078970   \n",
       "\n",
       "   perf_grp_false negative rate_1  perf_grp_selection rate_0  \\\n",
       "0                             NaN                        NaN   \n",
       "0                        0.026805                   0.918695   \n",
       "0                             NaN                        NaN   \n",
       "0                        0.092998                   0.819961   \n",
       "\n",
       "   perf_grp_selection rate_1  perf_grp_count_0  perf_grp_count_1  \n",
       "0                        NaN               NaN               NaN  \n",
       "0                   0.894448           20540.0           69170.0  \n",
       "0                        NaN               NaN               NaN  \n",
       "0                   0.729218           20540.0           69170.0  \n",
       "\n",
       "[4 rows x 50 columns]"
      ]
     },
     "execution_count": 64,
     "metadata": {},
     "output_type": "execute_result"
    }
   ],
   "source": [
    "final_output = universe_analysis.generate_final_output(\n",
    "    y_pred_prob=probs_test,\n",
    "    y_test=y_true,\n",
    "    org_test=org_test,\n",
    "    filter_data=filter_sub_universe_data,\n",
    "    cp_metrics_df=cp_metrics_df,\n",
    "    save=True,\n",
    ")\n",
    "final_output"
   ]
  },
  {
   "cell_type": "code",
   "execution_count": null,
   "id": "8b80a1ff",
   "metadata": {
    "papermill": {
     "duration": 0.021975,
     "end_time": "2025-08-19T19:12:04.977546",
     "exception": false,
     "start_time": "2025-08-19T19:12:04.955571",
     "status": "completed"
    },
    "tags": []
   },
   "outputs": [],
   "source": []
  },
  {
   "cell_type": "code",
   "execution_count": null,
   "id": "275c9fad",
   "metadata": {
    "papermill": {
     "duration": 0.014451,
     "end_time": "2025-08-19T19:12:05.007176",
     "exception": false,
     "start_time": "2025-08-19T19:12:04.992725",
     "status": "completed"
    },
    "tags": []
   },
   "outputs": [],
   "source": []
  }
 ],
 "metadata": {
  "celltoolbar": "Tags",
  "kernelspec": {
   "display_name": "Python (CMA Fairness)",
   "language": "python",
   "name": "cma_fair_env"
  },
  "language_info": {
   "codemirror_mode": {
    "name": "ipython",
    "version": 3
   },
   "file_extension": ".py",
   "mimetype": "text/x-python",
   "name": "python",
   "nbconvert_exporter": "python",
   "pygments_lexer": "ipython3",
   "version": "3.10.12"
  },
  "papermill": {
   "default_parameters": {},
   "duration": 34.192019,
   "end_time": "2025-08-19T19:12:05.855808",
   "environment_variables": {},
   "exception": null,
   "input_path": "universe_analysis.ipynb",
   "output_path": "output/runs/3/notebooks/m_3-02f0c877f5680c40020c794f1070779d.ipynb",
   "parameters": {
    "output_dir": "output",
    "run_no": "3",
    "seed": "2023",
    "universe": "{\"cutoff\": [\"quantile_0.1\", \"quantile_0.25\"], \"eval_fairness_grouping\": [\"majority-minority\", \"nationality-all\"], \"exclude_features\": \"age\", \"exclude_subgroups\": \"drop-non-german\", \"model\": \"gbm\", \"scale\": \"do-not-scale\", \"training_size\": \"1k\", \"training_year\": \"2010_14\"}",
    "universe_id": "02f0c877f5680c40020c794f1070779d"
   },
   "start_time": "2025-08-19T19:11:31.663789",
   "version": "2.6.0"
  }
 },
 "nbformat": 4,
 "nbformat_minor": 5
}