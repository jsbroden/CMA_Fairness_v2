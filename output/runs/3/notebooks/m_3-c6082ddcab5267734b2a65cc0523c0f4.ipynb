{
 "cells": [
  {
   "cell_type": "markdown",
   "id": "ef23dbb3",
   "metadata": {
    "papermill": {
     "duration": 0.0337,
     "end_time": "2025-08-19T18:56:58.861445",
     "exception": false,
     "start_time": "2025-08-19T18:56:58.827745",
     "status": "completed"
    },
    "tags": []
   },
   "source": [
    "# Setup"
   ]
  },
  {
   "cell_type": "code",
   "execution_count": 1,
   "id": "0bc8e7dc",
   "metadata": {
    "execution": {
     "iopub.execute_input": "2025-08-19T18:56:58.882299Z",
     "iopub.status.busy": "2025-08-19T18:56:58.881797Z",
     "iopub.status.idle": "2025-08-19T18:56:58.891875Z",
     "shell.execute_reply": "2025-08-19T18:56:58.890993Z"
    },
    "papermill": {
     "duration": 0.025205,
     "end_time": "2025-08-19T18:56:58.895753",
     "exception": false,
     "start_time": "2025-08-19T18:56:58.870548",
     "status": "completed"
    },
    "tags": []
   },
   "outputs": [
    {
     "name": "stdout",
     "output_type": "stream",
     "text": [
      "/dss/dsshome1/0C/ra93lal2/cma/CMA_Fairness_v2\n"
     ]
    },
    {
     "name": "stderr",
     "output_type": "stream",
     "text": [
      "/dss/dsshome1/0C/ra93lal2/.local/share/virtualenvs/CMA_Fairness_v2-3j10GkSs/lib/python3.10/site-packages/IPython/core/magics/osm.py:393: UserWarning: This is now an optional IPython functionality, using bookmarks requires you to install the `pickleshare` library.\n",
      "  bkms = self.shell.db.get('bookmarks', {})\n",
      "/dss/dsshome1/0C/ra93lal2/.local/share/virtualenvs/CMA_Fairness_v2-3j10GkSs/lib/python3.10/site-packages/IPython/core/magics/osm.py:417: UserWarning: This is now an optional IPython functionality, setting dhist requires you to install the `pickleshare` library.\n",
      "  self.shell.db['dhist'] = compress_dhist(dhist)[-100:]\n"
     ]
    }
   ],
   "source": [
    "%cd ~/cma/CMA_Fairness_v2"
   ]
  },
  {
   "cell_type": "markdown",
   "id": "9d235661",
   "metadata": {
    "papermill": {
     "duration": 0.010296,
     "end_time": "2025-08-19T18:56:58.915546",
     "exception": false,
     "start_time": "2025-08-19T18:56:58.905250",
     "status": "completed"
    },
    "tags": []
   },
   "source": [
    "The following cell holds the definition of our parameters, these values can be overriden by rendering the with e.g. the following command:\n",
    "\n",
    "papermill -p alpha 0.2 -p ratio 0.3 universe_analysis.ipynb output/test_run.ipynb"
   ]
  },
  {
   "cell_type": "code",
   "execution_count": 2,
   "id": "4a789d8e",
   "metadata": {
    "execution": {
     "iopub.execute_input": "2025-08-19T18:56:58.935126Z",
     "iopub.status.busy": "2025-08-19T18:56:58.934614Z",
     "iopub.status.idle": "2025-08-19T18:56:58.939474Z",
     "shell.execute_reply": "2025-08-19T18:56:58.938622Z"
    },
    "papermill": {
     "duration": 0.017058,
     "end_time": "2025-08-19T18:56:58.941373",
     "exception": false,
     "start_time": "2025-08-19T18:56:58.924315",
     "status": "completed"
    },
    "tags": []
   },
   "outputs": [
    {
     "name": "stdout",
     "output_type": "stream",
     "text": [
      "Current working directory: /dss/dsshome1/0C/ra93lal2/cma/CMA_Fairness_v2\n"
     ]
    }
   ],
   "source": [
    "import os\n",
    "print(\"Current working directory:\", os.getcwd())"
   ]
  },
  {
   "cell_type": "code",
   "execution_count": 3,
   "id": "4132aaed",
   "metadata": {
    "execution": {
     "iopub.execute_input": "2025-08-19T18:56:58.961285Z",
     "iopub.status.busy": "2025-08-19T18:56:58.960679Z",
     "iopub.status.idle": "2025-08-19T18:56:58.987619Z",
     "shell.execute_reply": "2025-08-19T18:56:58.986339Z"
    },
    "papermill": {
     "duration": 0.040265,
     "end_time": "2025-08-19T18:56:58.990818",
     "exception": false,
     "start_time": "2025-08-19T18:56:58.950553",
     "status": "completed"
    },
    "tags": [
     "parameters"
    ]
   },
   "outputs": [],
   "source": [
    "run_no = 0\n",
    "universe_id = \"test\"\n",
    "universe = {\n",
    "    \"training_size\": \"5k\", # \"25k\", \"5k\", \"1k\"\n",
    "    \"training_year\": \"2012_14\", # \"2014\", \"2012_14\", \"2010_14\"\n",
    "    \"scale\": \"scale\", # \"scale\", \"do-not-scale\",\n",
    "    \"model\": \"elasticnet\", # \"logreg\", \"penalized_logreg\", \"rf\", \"gbm\", \"elasticnet\"\n",
    "    \"cutoff\": [\"quantile_0.15\", \"quantile_0.30\"],\n",
    "    \"exclude_features\": \"age\", # \"none\", \"nationality\", \"sex\", \"nationality-sex\", \"age\"\n",
    "    \"exclude_subgroups\": \"drop-non-german\", # \"keep-all\", \"drop-non-german\"\n",
    "    \"eval_fairness_grouping\": [\"majority-minority\", \"nationality-all\"]\n",
    "}\n",
    "\n",
    "output_dir=\"./output\"\n",
    "seed=0"
   ]
  },
  {
   "cell_type": "code",
   "execution_count": 4,
   "id": "f847719f",
   "metadata": {
    "execution": {
     "iopub.execute_input": "2025-08-19T18:56:59.020249Z",
     "iopub.status.busy": "2025-08-19T18:56:59.019915Z",
     "iopub.status.idle": "2025-08-19T18:56:59.024450Z",
     "shell.execute_reply": "2025-08-19T18:56:59.023632Z"
    },
    "papermill": {
     "duration": 0.01786,
     "end_time": "2025-08-19T18:56:59.026458",
     "exception": false,
     "start_time": "2025-08-19T18:56:59.008598",
     "status": "completed"
    },
    "tags": [
     "injected-parameters"
    ]
   },
   "outputs": [],
   "source": [
    "# Parameters\n",
    "universe_id = \"c6082ddcab5267734b2a65cc0523c0f4\"\n",
    "run_no = \"3\"\n",
    "universe = \"{\\\"cutoff\\\": [\\\"quantile_0.1\\\", \\\"quantile_0.25\\\"], \\\"eval_fairness_grouping\\\": [\\\"majority-minority\\\", \\\"nationality-all\\\"], \\\"exclude_features\\\": \\\"nationality-sex\\\", \\\"exclude_subgroups\\\": \\\"drop-non-german\\\", \\\"model\\\": \\\"logreg\\\", \\\"scale\\\": \\\"scale\\\", \\\"training_size\\\": \\\"1k\\\", \\\"training_year\\\": \\\"2012_14\\\"}\"\n",
    "output_dir = \"output\"\n",
    "seed = \"2023\"\n"
   ]
  },
  {
   "cell_type": "code",
   "execution_count": 5,
   "id": "a5d7941f",
   "metadata": {
    "execution": {
     "iopub.execute_input": "2025-08-19T18:56:59.047221Z",
     "iopub.status.busy": "2025-08-19T18:56:59.046792Z",
     "iopub.status.idle": "2025-08-19T18:56:59.052712Z",
     "shell.execute_reply": "2025-08-19T18:56:59.051681Z"
    },
    "papermill": {
     "duration": 0.018021,
     "end_time": "2025-08-19T18:56:59.054086",
     "exception": false,
     "start_time": "2025-08-19T18:56:59.036065",
     "status": "completed"
    },
    "tags": []
   },
   "outputs": [],
   "source": [
    "import json\n",
    "if isinstance(universe, str):\n",
    "    universe = json.loads(universe)"
   ]
  },
  {
   "cell_type": "code",
   "execution_count": 6,
   "id": "7076ccb1",
   "metadata": {
    "execution": {
     "iopub.execute_input": "2025-08-19T18:56:59.078732Z",
     "iopub.status.busy": "2025-08-19T18:56:59.077321Z",
     "iopub.status.idle": "2025-08-19T18:56:59.129043Z",
     "shell.execute_reply": "2025-08-19T18:56:59.128121Z"
    },
    "papermill": {
     "duration": 0.064761,
     "end_time": "2025-08-19T18:56:59.130728",
     "exception": false,
     "start_time": "2025-08-19T18:56:59.065967",
     "status": "completed"
    },
    "tags": []
   },
   "outputs": [],
   "source": [
    "# Auto-reload the custom package\n",
    "%load_ext autoreload\n",
    "%autoreload 1\n",
    "%aimport fairness_multiverse"
   ]
  },
  {
   "cell_type": "code",
   "execution_count": 7,
   "id": "94c8eb93",
   "metadata": {
    "execution": {
     "iopub.execute_input": "2025-08-19T18:56:59.152906Z",
     "iopub.status.busy": "2025-08-19T18:56:59.151987Z",
     "iopub.status.idle": "2025-08-19T18:57:00.793246Z",
     "shell.execute_reply": "2025-08-19T18:57:00.792168Z"
    },
    "papermill": {
     "duration": 1.654843,
     "end_time": "2025-08-19T18:57:00.795452",
     "exception": false,
     "start_time": "2025-08-19T18:56:59.140609",
     "status": "completed"
    },
    "tags": []
   },
   "outputs": [],
   "source": [
    "from fairness_multiverse.universe import UniverseAnalysis\n",
    "\n",
    "universe_analysis = UniverseAnalysis(\n",
    "    run_no = run_no,\n",
    "    universe_id = universe_id,\n",
    "    universe = universe,\n",
    "    output_dir=output_dir,\n",
    ")"
   ]
  },
  {
   "cell_type": "code",
   "execution_count": 8,
   "id": "2a6381cf",
   "metadata": {
    "execution": {
     "iopub.execute_input": "2025-08-19T18:57:00.821605Z",
     "iopub.status.busy": "2025-08-19T18:57:00.820948Z",
     "iopub.status.idle": "2025-08-19T18:57:00.829741Z",
     "shell.execute_reply": "2025-08-19T18:57:00.828524Z"
    },
    "papermill": {
     "duration": 0.021199,
     "end_time": "2025-08-19T18:57:00.831143",
     "exception": false,
     "start_time": "2025-08-19T18:57:00.809944",
     "status": "completed"
    },
    "tags": []
   },
   "outputs": [
    {
     "name": "stdout",
     "output_type": "stream",
     "text": [
      "Using Seed: 2023\n"
     ]
    }
   ],
   "source": [
    "import numpy as np\n",
    "parsed_seed = int(seed)\n",
    "np.random.seed(parsed_seed)\n",
    "print(f\"Using Seed: {parsed_seed}\")"
   ]
  },
  {
   "cell_type": "markdown",
   "id": "b6e958b4",
   "metadata": {
    "papermill": {
     "duration": 0.009939,
     "end_time": "2025-08-19T18:57:00.851039",
     "exception": false,
     "start_time": "2025-08-19T18:57:00.841100",
     "status": "completed"
    },
    "tags": []
   },
   "source": [
    "# Loading Data"
   ]
  },
  {
   "cell_type": "code",
   "execution_count": 9,
   "id": "98701482",
   "metadata": {
    "execution": {
     "iopub.execute_input": "2025-08-19T18:57:00.870744Z",
     "iopub.status.busy": "2025-08-19T18:57:00.870325Z",
     "iopub.status.idle": "2025-08-19T18:57:11.095761Z",
     "shell.execute_reply": "2025-08-19T18:57:11.094755Z"
    },
    "papermill": {
     "duration": 10.237372,
     "end_time": "2025-08-19T18:57:11.097622",
     "exception": false,
     "start_time": "2025-08-19T18:57:00.860250",
     "status": "completed"
    },
    "tags": []
   },
   "outputs": [
    {
     "name": "stdout",
     "output_type": "stream",
     "text": [
      "Loading SIAB data from cache: data/siab_cached.csv.gz\n"
     ]
    },
    {
     "name": "stdout",
     "output_type": "stream",
     "text": [
      "(643690, 164)\n"
     ]
    }
   ],
   "source": [
    "from pathlib import Path\n",
    "import pandas as pd\n",
    "\n",
    "# File paths\n",
    "raw_file = Path(\"data/raw/siab.csv\")\n",
    "cache_file = Path(\"data/siab_cached.csv.gz\")\n",
    "\n",
    "# Ensure cache directory exists\n",
    "cache_file.parent.mkdir(parents=True, exist_ok=True)\n",
    "\n",
    "# Load with simple caching\n",
    "if cache_file.exists():\n",
    "    print(f\"Loading SIAB data from cache: {cache_file}\")\n",
    "    siab = pd.read_csv(cache_file, compression='gzip')\n",
    "else:\n",
    "    print(f\"Cache not found. Reading raw SIAB data: {raw_file}\")\n",
    "    siab = pd.read_csv(raw_file)\n",
    "    siab.to_csv(cache_file, index=False, compression='gzip')\n",
    "    print(f\"Cached SIAB data to: {cache_file}\")\n",
    "\n",
    "print(siab.shape)"
   ]
  },
  {
   "cell_type": "code",
   "execution_count": 10,
   "id": "058d2abb",
   "metadata": {
    "execution": {
     "iopub.execute_input": "2025-08-19T18:57:11.136239Z",
     "iopub.status.busy": "2025-08-19T18:57:11.135730Z",
     "iopub.status.idle": "2025-08-19T18:57:11.300556Z",
     "shell.execute_reply": "2025-08-19T18:57:11.299759Z"
    },
    "papermill": {
     "duration": 0.185176,
     "end_time": "2025-08-19T18:57:11.302014",
     "exception": false,
     "start_time": "2025-08-19T18:57:11.116838",
     "status": "completed"
    },
    "tags": []
   },
   "outputs": [
    {
     "data": {
      "text/html": [
       "<div>\n",
       "<style scoped>\n",
       "    .dataframe tbody tr th:only-of-type {\n",
       "        vertical-align: middle;\n",
       "    }\n",
       "\n",
       "    .dataframe tbody tr th {\n",
       "        vertical-align: top;\n",
       "    }\n",
       "\n",
       "    .dataframe thead th {\n",
       "        text-align: right;\n",
       "    }\n",
       "</style>\n",
       "<table border=\"1\" class=\"dataframe\">\n",
       "  <thead>\n",
       "    <tr style=\"text-align: right;\">\n",
       "      <th></th>\n",
       "      <th>persnr</th>\n",
       "      <th>year</th>\n",
       "      <th>nrEntry</th>\n",
       "      <th>ltue</th>\n",
       "      <th>employed_before</th>\n",
       "      <th>receipt_leh_before</th>\n",
       "      <th>receipt_lhg_before</th>\n",
       "      <th>se_before</th>\n",
       "      <th>ASU_notue_seeking_before</th>\n",
       "      <th>ASU_other_before</th>\n",
       "      <th>...</th>\n",
       "      <th>minijob_tot_dur_byage</th>\n",
       "      <th>ft_tot_dur_byage</th>\n",
       "      <th>befrist_tot_dur_byage</th>\n",
       "      <th>leih_tot_dur_byage</th>\n",
       "      <th>LHG_tot_dur_byage</th>\n",
       "      <th>LEH_tot_dur_byage</th>\n",
       "      <th>almp_tot_dur_byage</th>\n",
       "      <th>almp_aw_tot_dur_byage</th>\n",
       "      <th>se_tot_dur_byage</th>\n",
       "      <th>seeking1_tot_dur_byage</th>\n",
       "    </tr>\n",
       "  </thead>\n",
       "  <tbody>\n",
       "    <tr>\n",
       "      <th>0</th>\n",
       "      <td>7</td>\n",
       "      <td>2015</td>\n",
       "      <td>1</td>\n",
       "      <td>0</td>\n",
       "      <td>1</td>\n",
       "      <td>0</td>\n",
       "      <td>0</td>\n",
       "      <td>0</td>\n",
       "      <td>1</td>\n",
       "      <td>0</td>\n",
       "      <td>...</td>\n",
       "      <td>0.000000</td>\n",
       "      <td>0.000000</td>\n",
       "      <td>15.043478</td>\n",
       "      <td>0.000000</td>\n",
       "      <td>0.000000</td>\n",
       "      <td>0.000000</td>\n",
       "      <td>0.000000</td>\n",
       "      <td>0.000000</td>\n",
       "      <td>0.000000</td>\n",
       "      <td>0.000000</td>\n",
       "    </tr>\n",
       "    <tr>\n",
       "      <th>1</th>\n",
       "      <td>18</td>\n",
       "      <td>2010</td>\n",
       "      <td>1</td>\n",
       "      <td>1</td>\n",
       "      <td>0</td>\n",
       "      <td>0</td>\n",
       "      <td>0</td>\n",
       "      <td>0</td>\n",
       "      <td>0</td>\n",
       "      <td>0</td>\n",
       "      <td>...</td>\n",
       "      <td>0.000000</td>\n",
       "      <td>0.000000</td>\n",
       "      <td>0.000000</td>\n",
       "      <td>0.000000</td>\n",
       "      <td>0.000000</td>\n",
       "      <td>0.000000</td>\n",
       "      <td>0.000000</td>\n",
       "      <td>0.000000</td>\n",
       "      <td>0.000000</td>\n",
       "      <td>0.000000</td>\n",
       "    </tr>\n",
       "    <tr>\n",
       "      <th>2</th>\n",
       "      <td>18</td>\n",
       "      <td>2011</td>\n",
       "      <td>2</td>\n",
       "      <td>0</td>\n",
       "      <td>1</td>\n",
       "      <td>0</td>\n",
       "      <td>1</td>\n",
       "      <td>0</td>\n",
       "      <td>1</td>\n",
       "      <td>0</td>\n",
       "      <td>...</td>\n",
       "      <td>2.714286</td>\n",
       "      <td>2.714286</td>\n",
       "      <td>0.000000</td>\n",
       "      <td>0.000000</td>\n",
       "      <td>10.775510</td>\n",
       "      <td>0.000000</td>\n",
       "      <td>8.367347</td>\n",
       "      <td>0.000000</td>\n",
       "      <td>0.000000</td>\n",
       "      <td>9.836735</td>\n",
       "    </tr>\n",
       "    <tr>\n",
       "      <th>3</th>\n",
       "      <td>18</td>\n",
       "      <td>2012</td>\n",
       "      <td>3</td>\n",
       "      <td>0</td>\n",
       "      <td>1</td>\n",
       "      <td>0</td>\n",
       "      <td>1</td>\n",
       "      <td>0</td>\n",
       "      <td>1</td>\n",
       "      <td>0</td>\n",
       "      <td>...</td>\n",
       "      <td>4.200000</td>\n",
       "      <td>4.200000</td>\n",
       "      <td>0.000000</td>\n",
       "      <td>0.000000</td>\n",
       "      <td>12.100000</td>\n",
       "      <td>0.000000</td>\n",
       "      <td>9.400000</td>\n",
       "      <td>0.000000</td>\n",
       "      <td>0.000000</td>\n",
       "      <td>9.960000</td>\n",
       "    </tr>\n",
       "    <tr>\n",
       "      <th>4</th>\n",
       "      <td>18</td>\n",
       "      <td>2012</td>\n",
       "      <td>4</td>\n",
       "      <td>0</td>\n",
       "      <td>1</td>\n",
       "      <td>0</td>\n",
       "      <td>1</td>\n",
       "      <td>0</td>\n",
       "      <td>1</td>\n",
       "      <td>0</td>\n",
       "      <td>...</td>\n",
       "      <td>5.460000</td>\n",
       "      <td>5.460000</td>\n",
       "      <td>0.000000</td>\n",
       "      <td>0.000000</td>\n",
       "      <td>13.360000</td>\n",
       "      <td>0.000000</td>\n",
       "      <td>10.320000</td>\n",
       "      <td>0.000000</td>\n",
       "      <td>0.000000</td>\n",
       "      <td>10.280000</td>\n",
       "    </tr>\n",
       "    <tr>\n",
       "      <th>...</th>\n",
       "      <td>...</td>\n",
       "      <td>...</td>\n",
       "      <td>...</td>\n",
       "      <td>...</td>\n",
       "      <td>...</td>\n",
       "      <td>...</td>\n",
       "      <td>...</td>\n",
       "      <td>...</td>\n",
       "      <td>...</td>\n",
       "      <td>...</td>\n",
       "      <td>...</td>\n",
       "      <td>...</td>\n",
       "      <td>...</td>\n",
       "      <td>...</td>\n",
       "      <td>...</td>\n",
       "      <td>...</td>\n",
       "      <td>...</td>\n",
       "      <td>...</td>\n",
       "      <td>...</td>\n",
       "      <td>...</td>\n",
       "      <td>...</td>\n",
       "    </tr>\n",
       "    <tr>\n",
       "      <th>643685</th>\n",
       "      <td>1827860</td>\n",
       "      <td>2013</td>\n",
       "      <td>1</td>\n",
       "      <td>0</td>\n",
       "      <td>0</td>\n",
       "      <td>0</td>\n",
       "      <td>1</td>\n",
       "      <td>0</td>\n",
       "      <td>0</td>\n",
       "      <td>1</td>\n",
       "      <td>...</td>\n",
       "      <td>0.000000</td>\n",
       "      <td>0.000000</td>\n",
       "      <td>0.000000</td>\n",
       "      <td>0.000000</td>\n",
       "      <td>0.612903</td>\n",
       "      <td>0.000000</td>\n",
       "      <td>0.000000</td>\n",
       "      <td>0.000000</td>\n",
       "      <td>0.000000</td>\n",
       "      <td>0.000000</td>\n",
       "    </tr>\n",
       "    <tr>\n",
       "      <th>643686</th>\n",
       "      <td>1827860</td>\n",
       "      <td>2015</td>\n",
       "      <td>2</td>\n",
       "      <td>1</td>\n",
       "      <td>0</td>\n",
       "      <td>0</td>\n",
       "      <td>1</td>\n",
       "      <td>0</td>\n",
       "      <td>1</td>\n",
       "      <td>0</td>\n",
       "      <td>...</td>\n",
       "      <td>0.000000</td>\n",
       "      <td>0.000000</td>\n",
       "      <td>0.212121</td>\n",
       "      <td>0.212121</td>\n",
       "      <td>17.363636</td>\n",
       "      <td>0.000000</td>\n",
       "      <td>8.909091</td>\n",
       "      <td>0.000000</td>\n",
       "      <td>0.000000</td>\n",
       "      <td>7.121212</td>\n",
       "    </tr>\n",
       "    <tr>\n",
       "      <th>643687</th>\n",
       "      <td>1827860</td>\n",
       "      <td>2016</td>\n",
       "      <td>3</td>\n",
       "      <td>1</td>\n",
       "      <td>0</td>\n",
       "      <td>0</td>\n",
       "      <td>1</td>\n",
       "      <td>1</td>\n",
       "      <td>0</td>\n",
       "      <td>1</td>\n",
       "      <td>...</td>\n",
       "      <td>0.000000</td>\n",
       "      <td>0.000000</td>\n",
       "      <td>0.294118</td>\n",
       "      <td>0.205882</td>\n",
       "      <td>34.705882</td>\n",
       "      <td>0.000000</td>\n",
       "      <td>10.352941</td>\n",
       "      <td>1.705882</td>\n",
       "      <td>1.705882</td>\n",
       "      <td>23.911765</td>\n",
       "    </tr>\n",
       "    <tr>\n",
       "      <th>643688</th>\n",
       "      <td>1827869</td>\n",
       "      <td>2013</td>\n",
       "      <td>1</td>\n",
       "      <td>1</td>\n",
       "      <td>1</td>\n",
       "      <td>0</td>\n",
       "      <td>0</td>\n",
       "      <td>0</td>\n",
       "      <td>1</td>\n",
       "      <td>0</td>\n",
       "      <td>...</td>\n",
       "      <td>0.000000</td>\n",
       "      <td>0.000000</td>\n",
       "      <td>0.000000</td>\n",
       "      <td>0.000000</td>\n",
       "      <td>0.000000</td>\n",
       "      <td>0.525424</td>\n",
       "      <td>0.000000</td>\n",
       "      <td>0.000000</td>\n",
       "      <td>0.000000</td>\n",
       "      <td>0.000000</td>\n",
       "    </tr>\n",
       "    <tr>\n",
       "      <th>643689</th>\n",
       "      <td>1827869</td>\n",
       "      <td>2014</td>\n",
       "      <td>2</td>\n",
       "      <td>0</td>\n",
       "      <td>0</td>\n",
       "      <td>1</td>\n",
       "      <td>0</td>\n",
       "      <td>0</td>\n",
       "      <td>1</td>\n",
       "      <td>0</td>\n",
       "      <td>...</td>\n",
       "      <td>0.000000</td>\n",
       "      <td>0.666667</td>\n",
       "      <td>0.666667</td>\n",
       "      <td>0.000000</td>\n",
       "      <td>0.000000</td>\n",
       "      <td>8.950000</td>\n",
       "      <td>1.033333</td>\n",
       "      <td>0.083333</td>\n",
       "      <td>0.083333</td>\n",
       "      <td>8.133333</td>\n",
       "    </tr>\n",
       "  </tbody>\n",
       "</table>\n",
       "<p>643690 rows × 164 columns</p>\n",
       "</div>"
      ],
      "text/plain": [
       "         persnr  year  nrEntry  ltue  employed_before  receipt_leh_before  \\\n",
       "0             7  2015        1     0                1                   0   \n",
       "1            18  2010        1     1                0                   0   \n",
       "2            18  2011        2     0                1                   0   \n",
       "3            18  2012        3     0                1                   0   \n",
       "4            18  2012        4     0                1                   0   \n",
       "...         ...   ...      ...   ...              ...                 ...   \n",
       "643685  1827860  2013        1     0                0                   0   \n",
       "643686  1827860  2015        2     1                0                   0   \n",
       "643687  1827860  2016        3     1                0                   0   \n",
       "643688  1827869  2013        1     1                1                   0   \n",
       "643689  1827869  2014        2     0                0                   1   \n",
       "\n",
       "        receipt_lhg_before  se_before  ASU_notue_seeking_before  \\\n",
       "0                        0          0                         1   \n",
       "1                        0          0                         0   \n",
       "2                        1          0                         1   \n",
       "3                        1          0                         1   \n",
       "4                        1          0                         1   \n",
       "...                    ...        ...                       ...   \n",
       "643685                   1          0                         0   \n",
       "643686                   1          0                         1   \n",
       "643687                   1          1                         0   \n",
       "643688                   0          0                         1   \n",
       "643689                   0          0                         1   \n",
       "\n",
       "        ASU_other_before  ...  minijob_tot_dur_byage  ft_tot_dur_byage  \\\n",
       "0                      0  ...               0.000000          0.000000   \n",
       "1                      0  ...               0.000000          0.000000   \n",
       "2                      0  ...               2.714286          2.714286   \n",
       "3                      0  ...               4.200000          4.200000   \n",
       "4                      0  ...               5.460000          5.460000   \n",
       "...                  ...  ...                    ...               ...   \n",
       "643685                 1  ...               0.000000          0.000000   \n",
       "643686                 0  ...               0.000000          0.000000   \n",
       "643687                 1  ...               0.000000          0.000000   \n",
       "643688                 0  ...               0.000000          0.000000   \n",
       "643689                 0  ...               0.000000          0.666667   \n",
       "\n",
       "        befrist_tot_dur_byage  leih_tot_dur_byage  LHG_tot_dur_byage  \\\n",
       "0                   15.043478            0.000000           0.000000   \n",
       "1                    0.000000            0.000000           0.000000   \n",
       "2                    0.000000            0.000000          10.775510   \n",
       "3                    0.000000            0.000000          12.100000   \n",
       "4                    0.000000            0.000000          13.360000   \n",
       "...                       ...                 ...                ...   \n",
       "643685               0.000000            0.000000           0.612903   \n",
       "643686               0.212121            0.212121          17.363636   \n",
       "643687               0.294118            0.205882          34.705882   \n",
       "643688               0.000000            0.000000           0.000000   \n",
       "643689               0.666667            0.000000           0.000000   \n",
       "\n",
       "        LEH_tot_dur_byage  almp_tot_dur_byage  almp_aw_tot_dur_byage  \\\n",
       "0                0.000000            0.000000               0.000000   \n",
       "1                0.000000            0.000000               0.000000   \n",
       "2                0.000000            8.367347               0.000000   \n",
       "3                0.000000            9.400000               0.000000   \n",
       "4                0.000000           10.320000               0.000000   \n",
       "...                   ...                 ...                    ...   \n",
       "643685           0.000000            0.000000               0.000000   \n",
       "643686           0.000000            8.909091               0.000000   \n",
       "643687           0.000000           10.352941               1.705882   \n",
       "643688           0.525424            0.000000               0.000000   \n",
       "643689           8.950000            1.033333               0.083333   \n",
       "\n",
       "        se_tot_dur_byage  seeking1_tot_dur_byage  \n",
       "0               0.000000                0.000000  \n",
       "1               0.000000                0.000000  \n",
       "2               0.000000                9.836735  \n",
       "3               0.000000                9.960000  \n",
       "4               0.000000               10.280000  \n",
       "...                  ...                     ...  \n",
       "643685          0.000000                0.000000  \n",
       "643686          0.000000                7.121212  \n",
       "643687          1.705882               23.911765  \n",
       "643688          0.000000                0.000000  \n",
       "643689          0.083333                8.133333  \n",
       "\n",
       "[643690 rows x 164 columns]"
      ]
     },
     "execution_count": 10,
     "metadata": {},
     "output_type": "execute_result"
    }
   ],
   "source": [
    "siab"
   ]
  },
  {
   "cell_type": "markdown",
   "id": "1f87e805",
   "metadata": {
    "papermill": {
     "duration": 0.009662,
     "end_time": "2025-08-19T18:57:11.324615",
     "exception": false,
     "start_time": "2025-08-19T18:57:11.314953",
     "status": "completed"
    },
    "tags": []
   },
   "source": [
    "# Splitting Data and Setting Training Data Size"
   ]
  },
  {
   "cell_type": "code",
   "execution_count": 11,
   "id": "910ae358",
   "metadata": {
    "execution": {
     "iopub.execute_input": "2025-08-19T18:57:11.345079Z",
     "iopub.status.busy": "2025-08-19T18:57:11.344652Z",
     "iopub.status.idle": "2025-08-19T18:57:11.967777Z",
     "shell.execute_reply": "2025-08-19T18:57:11.966977Z"
    },
    "papermill": {
     "duration": 0.635393,
     "end_time": "2025-08-19T18:57:11.969478",
     "exception": false,
     "start_time": "2025-08-19T18:57:11.334085",
     "status": "completed"
    },
    "tags": []
   },
   "outputs": [],
   "source": [
    "from fairness_multiverse.universe import sample_by_year_size\n",
    "\n",
    "siab_train = sample_by_year_size(siab,\n",
    "                               training_year=universe[\"training_year\"],\n",
    "                               training_size=universe[\"training_size\"])"
   ]
  },
  {
   "cell_type": "code",
   "execution_count": 12,
   "id": "919c8ff5",
   "metadata": {
    "execution": {
     "iopub.execute_input": "2025-08-19T18:57:12.000865Z",
     "iopub.status.busy": "2025-08-19T18:57:12.000354Z",
     "iopub.status.idle": "2025-08-19T18:57:12.006194Z",
     "shell.execute_reply": "2025-08-19T18:57:12.005525Z"
    },
    "papermill": {
     "duration": 0.022329,
     "end_time": "2025-08-19T18:57:12.007517",
     "exception": false,
     "start_time": "2025-08-19T18:57:11.985188",
     "status": "completed"
    },
    "tags": []
   },
   "outputs": [
    {
     "data": {
      "text/plain": [
       "(1000, 164)"
      ]
     },
     "execution_count": 12,
     "metadata": {},
     "output_type": "execute_result"
    }
   ],
   "source": [
    "siab_train.shape"
   ]
  },
  {
   "cell_type": "code",
   "execution_count": 13,
   "id": "feb13bf4",
   "metadata": {
    "execution": {
     "iopub.execute_input": "2025-08-19T18:57:12.028565Z",
     "iopub.status.busy": "2025-08-19T18:57:12.028156Z",
     "iopub.status.idle": "2025-08-19T18:57:12.035550Z",
     "shell.execute_reply": "2025-08-19T18:57:12.034897Z"
    },
    "papermill": {
     "duration": 0.019433,
     "end_time": "2025-08-19T18:57:12.036876",
     "exception": false,
     "start_time": "2025-08-19T18:57:12.017443",
     "status": "completed"
    },
    "tags": []
   },
   "outputs": [
    {
     "data": {
      "text/plain": [
       "year\n",
       "2012    334\n",
       "2013    333\n",
       "2014    333\n",
       "dtype: int64"
      ]
     },
     "metadata": {},
     "output_type": "display_data"
    }
   ],
   "source": [
    "display(siab_train.groupby(\"year\").size())"
   ]
  },
  {
   "cell_type": "code",
   "execution_count": 14,
   "id": "0997782f",
   "metadata": {
    "execution": {
     "iopub.execute_input": "2025-08-19T18:57:12.058092Z",
     "iopub.status.busy": "2025-08-19T18:57:12.057750Z",
     "iopub.status.idle": "2025-08-19T18:57:12.337284Z",
     "shell.execute_reply": "2025-08-19T18:57:12.336432Z"
    },
    "papermill": {
     "duration": 0.291739,
     "end_time": "2025-08-19T18:57:12.338723",
     "exception": false,
     "start_time": "2025-08-19T18:57:12.046984",
     "status": "completed"
    },
    "tags": []
   },
   "outputs": [],
   "source": [
    "#siab_train = siab_s[siab_s.year < 2015]\n",
    "siab_calib = siab[siab.year == 2015]\n",
    "siab_test = siab[siab.year == 2016]"
   ]
  },
  {
   "cell_type": "code",
   "execution_count": 15,
   "id": "2c1e4012",
   "metadata": {
    "execution": {
     "iopub.execute_input": "2025-08-19T18:57:12.361851Z",
     "iopub.status.busy": "2025-08-19T18:57:12.360582Z",
     "iopub.status.idle": "2025-08-19T18:57:12.367771Z",
     "shell.execute_reply": "2025-08-19T18:57:12.366263Z"
    },
    "papermill": {
     "duration": 0.020141,
     "end_time": "2025-08-19T18:57:12.369227",
     "exception": false,
     "start_time": "2025-08-19T18:57:12.349086",
     "status": "completed"
    },
    "tags": []
   },
   "outputs": [],
   "source": [
    "#siab_calib.shape"
   ]
  },
  {
   "cell_type": "code",
   "execution_count": 16,
   "id": "f66b54ca",
   "metadata": {
    "execution": {
     "iopub.execute_input": "2025-08-19T18:57:12.394406Z",
     "iopub.status.busy": "2025-08-19T18:57:12.392972Z",
     "iopub.status.idle": "2025-08-19T18:57:12.400364Z",
     "shell.execute_reply": "2025-08-19T18:57:12.398959Z"
    },
    "papermill": {
     "duration": 0.020956,
     "end_time": "2025-08-19T18:57:12.401808",
     "exception": false,
     "start_time": "2025-08-19T18:57:12.380852",
     "status": "completed"
    },
    "tags": []
   },
   "outputs": [],
   "source": [
    "#siab_test.shape"
   ]
  },
  {
   "cell_type": "code",
   "execution_count": 17,
   "id": "27e4384d",
   "metadata": {
    "execution": {
     "iopub.execute_input": "2025-08-19T18:57:12.430339Z",
     "iopub.status.busy": "2025-08-19T18:57:12.428904Z",
     "iopub.status.idle": "2025-08-19T18:57:12.437176Z",
     "shell.execute_reply": "2025-08-19T18:57:12.436385Z"
    },
    "papermill": {
     "duration": 0.025777,
     "end_time": "2025-08-19T18:57:12.438599",
     "exception": false,
     "start_time": "2025-08-19T18:57:12.412822",
     "status": "completed"
    },
    "tags": []
   },
   "outputs": [],
   "source": [
    "X_train = siab_train.iloc[:,4:164]\n",
    "y_train = siab_train.iloc[:, [3]]"
   ]
  },
  {
   "cell_type": "code",
   "execution_count": 18,
   "id": "08ee8389",
   "metadata": {
    "execution": {
     "iopub.execute_input": "2025-08-19T18:57:12.463775Z",
     "iopub.status.busy": "2025-08-19T18:57:12.462462Z",
     "iopub.status.idle": "2025-08-19T18:57:12.516619Z",
     "shell.execute_reply": "2025-08-19T18:57:12.515785Z"
    },
    "papermill": {
     "duration": 0.067227,
     "end_time": "2025-08-19T18:57:12.518203",
     "exception": false,
     "start_time": "2025-08-19T18:57:12.450976",
     "status": "completed"
    },
    "tags": []
   },
   "outputs": [],
   "source": [
    "X_calib = siab_calib.iloc[:,4:164]\n",
    "y_calib = siab_calib.iloc[:, [3]]"
   ]
  },
  {
   "cell_type": "code",
   "execution_count": 19,
   "id": "b7ff42e0",
   "metadata": {
    "execution": {
     "iopub.execute_input": "2025-08-19T18:57:12.541954Z",
     "iopub.status.busy": "2025-08-19T18:57:12.540882Z",
     "iopub.status.idle": "2025-08-19T18:57:12.613822Z",
     "shell.execute_reply": "2025-08-19T18:57:12.612960Z"
    },
    "papermill": {
     "duration": 0.085314,
     "end_time": "2025-08-19T18:57:12.615305",
     "exception": false,
     "start_time": "2025-08-19T18:57:12.529991",
     "status": "completed"
    },
    "tags": []
   },
   "outputs": [],
   "source": [
    "X_test = siab_test.iloc[:,4:164]\n",
    "y_true = siab_test.iloc[:, [3]]"
   ]
  },
  {
   "cell_type": "code",
   "execution_count": 20,
   "id": "0275101e",
   "metadata": {
    "execution": {
     "iopub.execute_input": "2025-08-19T18:57:12.640995Z",
     "iopub.status.busy": "2025-08-19T18:57:12.639888Z",
     "iopub.status.idle": "2025-08-19T18:57:12.772996Z",
     "shell.execute_reply": "2025-08-19T18:57:12.772072Z"
    },
    "papermill": {
     "duration": 0.146324,
     "end_time": "2025-08-19T18:57:12.774728",
     "exception": false,
     "start_time": "2025-08-19T18:57:12.628404",
     "status": "completed"
    },
    "tags": []
   },
   "outputs": [],
   "source": [
    "# Auxiliary data needed downstream in the pipeline\n",
    "\n",
    "org_train = X_train.copy()\n",
    "org_test = X_test.copy()\n",
    "org_calib = X_calib.copy()"
   ]
  },
  {
   "cell_type": "markdown",
   "id": "b461e618",
   "metadata": {
    "papermill": {
     "duration": 0.011599,
     "end_time": "2025-08-19T18:57:12.798543",
     "exception": false,
     "start_time": "2025-08-19T18:57:12.786944",
     "status": "completed"
    },
    "tags": []
   },
   "source": [
    "# Preprocessing Data"
   ]
  },
  {
   "cell_type": "code",
   "execution_count": 21,
   "id": "78e74c4b",
   "metadata": {
    "execution": {
     "iopub.execute_input": "2025-08-19T18:57:12.820991Z",
     "iopub.status.busy": "2025-08-19T18:57:12.819857Z",
     "iopub.status.idle": "2025-08-19T18:57:12.829552Z",
     "shell.execute_reply": "2025-08-19T18:57:12.827919Z"
    },
    "papermill": {
     "duration": 0.022798,
     "end_time": "2025-08-19T18:57:12.831173",
     "exception": false,
     "start_time": "2025-08-19T18:57:12.808375",
     "status": "completed"
    },
    "tags": []
   },
   "outputs": [],
   "source": [
    "# EXCLUDE PROTECTED FEATURES\n",
    "# --------------------------\n",
    "\n",
    "excluded_features = universe[\"exclude_features\"].split(\"-\")\n",
    "excluded_features_dictionary = {\n",
    "    \"nationality\": [\"maxdeutsch1\", \"maxdeutsch.Missing.\"],\n",
    "    \"sex\": [\"frau1\"],\n",
    "    \"age\": [\"age\"],\n",
    "}"
   ]
  },
  {
   "cell_type": "code",
   "execution_count": 22,
   "id": "f8e63555",
   "metadata": {
    "execution": {
     "iopub.execute_input": "2025-08-19T18:57:12.855326Z",
     "iopub.status.busy": "2025-08-19T18:57:12.854629Z",
     "iopub.status.idle": "2025-08-19T18:57:12.869147Z",
     "shell.execute_reply": "2025-08-19T18:57:12.868247Z"
    },
    "papermill": {
     "duration": 0.028399,
     "end_time": "2025-08-19T18:57:12.870608",
     "exception": false,
     "start_time": "2025-08-19T18:57:12.842209",
     "status": "completed"
    },
    "tags": []
   },
   "outputs": [],
   "source": [
    "excluded_features_columns = [\n",
    "    excluded_features_dictionary[f] for f in excluded_features if len(f) > 0 and f != \"none\"\n",
    "]"
   ]
  },
  {
   "cell_type": "code",
   "execution_count": 23,
   "id": "da781f7c",
   "metadata": {
    "execution": {
     "iopub.execute_input": "2025-08-19T18:57:12.900222Z",
     "iopub.status.busy": "2025-08-19T18:57:12.899847Z",
     "iopub.status.idle": "2025-08-19T18:57:12.904051Z",
     "shell.execute_reply": "2025-08-19T18:57:12.903403Z"
    },
    "papermill": {
     "duration": 0.017897,
     "end_time": "2025-08-19T18:57:12.905133",
     "exception": false,
     "start_time": "2025-08-19T18:57:12.887236",
     "status": "completed"
    },
    "tags": []
   },
   "outputs": [],
   "source": [
    "from fairness_multiverse.universe import flatten_once\n",
    "\n",
    "excluded_features_columns = flatten_once(excluded_features_columns)"
   ]
  },
  {
   "cell_type": "code",
   "execution_count": 24,
   "id": "37fef0f0",
   "metadata": {
    "execution": {
     "iopub.execute_input": "2025-08-19T18:57:12.926729Z",
     "iopub.status.busy": "2025-08-19T18:57:12.926379Z",
     "iopub.status.idle": "2025-08-19T18:57:12.933174Z",
     "shell.execute_reply": "2025-08-19T18:57:12.932453Z"
    },
    "papermill": {
     "duration": 0.019024,
     "end_time": "2025-08-19T18:57:12.934373",
     "exception": false,
     "start_time": "2025-08-19T18:57:12.915349",
     "status": "completed"
    },
    "tags": []
   },
   "outputs": [
    {
     "name": "stdout",
     "output_type": "stream",
     "text": [
      "Dropping features: ['maxdeutsch1', 'maxdeutsch.Missing.', 'frau1']\n"
     ]
    }
   ],
   "source": [
    "if len(excluded_features_columns) > 0:\n",
    "    print(f\"Dropping features: {excluded_features_columns}\")\n",
    "    X_train.drop(excluded_features_columns, axis=1, inplace=True)"
   ]
  },
  {
   "cell_type": "code",
   "execution_count": 25,
   "id": "d029e3e9",
   "metadata": {
    "execution": {
     "iopub.execute_input": "2025-08-19T18:57:12.957106Z",
     "iopub.status.busy": "2025-08-19T18:57:12.956776Z",
     "iopub.status.idle": "2025-08-19T18:57:13.024979Z",
     "shell.execute_reply": "2025-08-19T18:57:13.020941Z"
    },
    "papermill": {
     "duration": 0.081783,
     "end_time": "2025-08-19T18:57:13.027659",
     "exception": false,
     "start_time": "2025-08-19T18:57:12.945876",
     "status": "completed"
    },
    "tags": []
   },
   "outputs": [
    {
     "name": "stdout",
     "output_type": "stream",
     "text": [
      "Dropping features: ['maxdeutsch1', 'maxdeutsch.Missing.', 'frau1']\n"
     ]
    }
   ],
   "source": [
    "if len(excluded_features_columns) > 0:\n",
    "    print(f\"Dropping features: {excluded_features_columns}\")\n",
    "    X_test.drop(excluded_features_columns, axis=1, inplace=True)"
   ]
  },
  {
   "cell_type": "code",
   "execution_count": 26,
   "id": "01d571f0",
   "metadata": {
    "execution": {
     "iopub.execute_input": "2025-08-19T18:57:13.067171Z",
     "iopub.status.busy": "2025-08-19T18:57:13.066648Z",
     "iopub.status.idle": "2025-08-19T18:57:13.115301Z",
     "shell.execute_reply": "2025-08-19T18:57:13.114559Z"
    },
    "papermill": {
     "duration": 0.064342,
     "end_time": "2025-08-19T18:57:13.116501",
     "exception": false,
     "start_time": "2025-08-19T18:57:13.052159",
     "status": "completed"
    },
    "tags": []
   },
   "outputs": [
    {
     "name": "stdout",
     "output_type": "stream",
     "text": [
      "Dropping features: ['maxdeutsch1', 'maxdeutsch.Missing.', 'frau1']\n"
     ]
    }
   ],
   "source": [
    "if len(excluded_features_columns) > 0:\n",
    "    print(f\"Dropping features: {excluded_features_columns}\")\n",
    "    X_calib.drop(excluded_features_columns, axis=1, inplace=True)"
   ]
  },
  {
   "cell_type": "code",
   "execution_count": 27,
   "id": "3037356e",
   "metadata": {
    "execution": {
     "iopub.execute_input": "2025-08-19T18:57:13.139322Z",
     "iopub.status.busy": "2025-08-19T18:57:13.138834Z",
     "iopub.status.idle": "2025-08-19T18:57:13.152586Z",
     "shell.execute_reply": "2025-08-19T18:57:13.151308Z"
    },
    "papermill": {
     "duration": 0.026838,
     "end_time": "2025-08-19T18:57:13.154058",
     "exception": false,
     "start_time": "2025-08-19T18:57:13.127220",
     "status": "completed"
    },
    "tags": []
   },
   "outputs": [],
   "source": [
    "# EXCLUDE CERTAIN SUBGROUPS\n",
    "# -------------------------\n",
    "\n",
    "mode = universe.get(\"exclude_subgroups\", \"keep-all\") # Defaults to \"keep-all\" if the key is missing."
   ]
  },
  {
   "cell_type": "code",
   "execution_count": 28,
   "id": "9d1e63fd",
   "metadata": {
    "execution": {
     "iopub.execute_input": "2025-08-19T18:57:13.177261Z",
     "iopub.status.busy": "2025-08-19T18:57:13.176855Z",
     "iopub.status.idle": "2025-08-19T18:57:13.183790Z",
     "shell.execute_reply": "2025-08-19T18:57:13.183138Z"
    },
    "papermill": {
     "duration": 0.019408,
     "end_time": "2025-08-19T18:57:13.184835",
     "exception": false,
     "start_time": "2025-08-19T18:57:13.165427",
     "status": "completed"
    },
    "tags": []
   },
   "outputs": [],
   "source": [
    "if mode == \"keep-all\":\n",
    "    keep_mask = pd.Series(True, index=org_train.index)\n",
    "\n",
    "elif mode == \"drop-non-german\":\n",
    "    keep_mask = (org_train[\"maxdeutsch1\"] == 1) & (org_train[\"maxdeutsch.Missing.\"] == 0)\n",
    "\n",
    "else:\n",
    "    raise ValueError(f\"Unsupported mode for exclude_subgroups: {mode}\")"
   ]
  },
  {
   "cell_type": "code",
   "execution_count": 29,
   "id": "d3b65474",
   "metadata": {
    "execution": {
     "iopub.execute_input": "2025-08-19T18:57:13.209664Z",
     "iopub.status.busy": "2025-08-19T18:57:13.209311Z",
     "iopub.status.idle": "2025-08-19T18:57:13.215142Z",
     "shell.execute_reply": "2025-08-19T18:57:13.214537Z"
    },
    "papermill": {
     "duration": 0.01839,
     "end_time": "2025-08-19T18:57:13.216387",
     "exception": false,
     "start_time": "2025-08-19T18:57:13.197997",
     "status": "completed"
    },
    "tags": []
   },
   "outputs": [
    {
     "name": "stdout",
     "output_type": "stream",
     "text": [
      "Dropping 147 rows (14.70%) where mode='drop-non-german'\n"
     ]
    }
   ],
   "source": [
    "n_drop = (~keep_mask).sum() # Calculates how many rows are set to be dropped\n",
    "if n_drop > 0:\n",
    "    pct = n_drop / len(keep_mask) * 100\n",
    "    print(f\"Dropping {n_drop} rows ({pct:.2f}%) where mode='{mode}'\")"
   ]
  },
  {
   "cell_type": "code",
   "execution_count": 30,
   "id": "f44389b3",
   "metadata": {
    "execution": {
     "iopub.execute_input": "2025-08-19T18:57:13.239516Z",
     "iopub.status.busy": "2025-08-19T18:57:13.239176Z",
     "iopub.status.idle": "2025-08-19T18:57:13.244379Z",
     "shell.execute_reply": "2025-08-19T18:57:13.243755Z"
    },
    "papermill": {
     "duration": 0.017497,
     "end_time": "2025-08-19T18:57:13.245516",
     "exception": false,
     "start_time": "2025-08-19T18:57:13.228019",
     "status": "completed"
    },
    "tags": []
   },
   "outputs": [],
   "source": [
    "X_train = X_train[keep_mask]"
   ]
  },
  {
   "cell_type": "code",
   "execution_count": 31,
   "id": "ceca8c2a",
   "metadata": {
    "execution": {
     "iopub.execute_input": "2025-08-19T18:57:13.268985Z",
     "iopub.status.busy": "2025-08-19T18:57:13.268640Z",
     "iopub.status.idle": "2025-08-19T18:57:13.273052Z",
     "shell.execute_reply": "2025-08-19T18:57:13.272488Z"
    },
    "papermill": {
     "duration": 0.016699,
     "end_time": "2025-08-19T18:57:13.274218",
     "exception": false,
     "start_time": "2025-08-19T18:57:13.257519",
     "status": "completed"
    },
    "tags": []
   },
   "outputs": [],
   "source": [
    "y_train = y_train[keep_mask]"
   ]
  },
  {
   "cell_type": "markdown",
   "id": "04d31e2f",
   "metadata": {
    "papermill": {
     "duration": 0.010404,
     "end_time": "2025-08-19T18:57:13.295423",
     "exception": false,
     "start_time": "2025-08-19T18:57:13.285019",
     "status": "completed"
    },
    "tags": []
   },
   "source": [
    "# Model Training"
   ]
  },
  {
   "cell_type": "code",
   "execution_count": 32,
   "id": "db991733",
   "metadata": {
    "execution": {
     "iopub.execute_input": "2025-08-19T18:57:13.332993Z",
     "iopub.status.busy": "2025-08-19T18:57:13.332582Z",
     "iopub.status.idle": "2025-08-19T18:57:13.489891Z",
     "shell.execute_reply": "2025-08-19T18:57:13.489025Z"
    },
    "papermill": {
     "duration": 0.185509,
     "end_time": "2025-08-19T18:57:13.491419",
     "exception": false,
     "start_time": "2025-08-19T18:57:13.305910",
     "status": "completed"
    },
    "tags": []
   },
   "outputs": [],
   "source": [
    "from sklearn.linear_model import LogisticRegression\n",
    "from sklearn.ensemble import GradientBoostingClassifier, RandomForestClassifier\n",
    "\n",
    "if (universe[\"model\"] == \"logreg\"):\n",
    "    model = LogisticRegression() #penalty=\"none\", solver=\"newton-cg\", max_iter=1)\n",
    "elif (universe[\"model\"] == \"penalized_logreg\"):\n",
    "    model = LogisticRegression(penalty=\"l2\", C=0.1) #, solver=\"newton-cg\", max_iter=1)\n",
    "elif (universe[\"model\"] == \"rf\"):\n",
    "    model = RandomForestClassifier() # n_estimators=100, n_jobs=-1\n",
    "elif (universe[\"model\"] == \"gbm\"):\n",
    "    model = GradientBoostingClassifier()\n",
    "elif (universe[\"model\"] == \"elasticnet\"):\n",
    "    model = LogisticRegression(penalty = 'elasticnet', solver = 'saga', l1_ratio = 0.5) # max_iter=5000\n",
    "else:\n",
    "    raise \"Unsupported universe.model\""
   ]
  },
  {
   "cell_type": "code",
   "execution_count": 33,
   "id": "a4b5cd25",
   "metadata": {
    "execution": {
     "iopub.execute_input": "2025-08-19T18:57:13.530112Z",
     "iopub.status.busy": "2025-08-19T18:57:13.529287Z",
     "iopub.status.idle": "2025-08-19T18:57:13.536154Z",
     "shell.execute_reply": "2025-08-19T18:57:13.535285Z"
    },
    "papermill": {
     "duration": 0.03402,
     "end_time": "2025-08-19T18:57:13.537429",
     "exception": false,
     "start_time": "2025-08-19T18:57:13.503409",
     "status": "completed"
    },
    "tags": []
   },
   "outputs": [],
   "source": [
    "from sklearn.pipeline import Pipeline\n",
    "from sklearn.preprocessing import StandardScaler\n",
    "\n",
    "model = Pipeline([\n",
    "    #(\"continuous_processor\", continuous_processor),\n",
    "    #(\"categorical_preprocessor\", categorical_preprocessor),\n",
    "    (\"scale\", StandardScaler() if universe[\"scale\"] == \"scale\" else None), \n",
    "    (\"model\", model),\n",
    "])"
   ]
  },
  {
   "cell_type": "code",
   "execution_count": 34,
   "id": "283a904d",
   "metadata": {
    "execution": {
     "iopub.execute_input": "2025-08-19T18:57:13.560245Z",
     "iopub.status.busy": "2025-08-19T18:57:13.559878Z",
     "iopub.status.idle": "2025-08-19T18:57:13.625716Z",
     "shell.execute_reply": "2025-08-19T18:57:13.624544Z"
    },
    "papermill": {
     "duration": 0.080331,
     "end_time": "2025-08-19T18:57:13.628711",
     "exception": false,
     "start_time": "2025-08-19T18:57:13.548380",
     "status": "completed"
    },
    "tags": []
   },
   "outputs": [
    {
     "name": "stderr",
     "output_type": "stream",
     "text": [
      "/dss/dsshome1/0C/ra93lal2/.local/share/virtualenvs/CMA_Fairness_v2-3j10GkSs/lib/python3.10/site-packages/sklearn/linear_model/_logistic.py:444: ConvergenceWarning: lbfgs failed to converge (status=1):\n",
      "STOP: TOTAL NO. of ITERATIONS REACHED LIMIT.\n",
      "\n",
      "Increase the number of iterations (max_iter) or scale the data as shown in:\n",
      "    https://scikit-learn.org/stable/modules/preprocessing.html\n",
      "Please also refer to the documentation for alternative solver options:\n",
      "    https://scikit-learn.org/stable/modules/linear_model.html#logistic-regression\n",
      "  n_iter_i = _check_optimize_result(\n"
     ]
    },
    {
     "data": {
      "text/html": [
       "<style>#sk-container-id-1 {color: black;background-color: white;}#sk-container-id-1 pre{padding: 0;}#sk-container-id-1 div.sk-toggleable {background-color: white;}#sk-container-id-1 label.sk-toggleable__label {cursor: pointer;display: block;width: 100%;margin-bottom: 0;padding: 0.3em;box-sizing: border-box;text-align: center;}#sk-container-id-1 label.sk-toggleable__label-arrow:before {content: \"▸\";float: left;margin-right: 0.25em;color: #696969;}#sk-container-id-1 label.sk-toggleable__label-arrow:hover:before {color: black;}#sk-container-id-1 div.sk-estimator:hover label.sk-toggleable__label-arrow:before {color: black;}#sk-container-id-1 div.sk-toggleable__content {max-height: 0;max-width: 0;overflow: hidden;text-align: left;background-color: #f0f8ff;}#sk-container-id-1 div.sk-toggleable__content pre {margin: 0.2em;color: black;border-radius: 0.25em;background-color: #f0f8ff;}#sk-container-id-1 input.sk-toggleable__control:checked~div.sk-toggleable__content {max-height: 200px;max-width: 100%;overflow: auto;}#sk-container-id-1 input.sk-toggleable__control:checked~label.sk-toggleable__label-arrow:before {content: \"▾\";}#sk-container-id-1 div.sk-estimator input.sk-toggleable__control:checked~label.sk-toggleable__label {background-color: #d4ebff;}#sk-container-id-1 div.sk-label input.sk-toggleable__control:checked~label.sk-toggleable__label {background-color: #d4ebff;}#sk-container-id-1 input.sk-hidden--visually {border: 0;clip: rect(1px 1px 1px 1px);clip: rect(1px, 1px, 1px, 1px);height: 1px;margin: -1px;overflow: hidden;padding: 0;position: absolute;width: 1px;}#sk-container-id-1 div.sk-estimator {font-family: monospace;background-color: #f0f8ff;border: 1px dotted black;border-radius: 0.25em;box-sizing: border-box;margin-bottom: 0.5em;}#sk-container-id-1 div.sk-estimator:hover {background-color: #d4ebff;}#sk-container-id-1 div.sk-parallel-item::after {content: \"\";width: 100%;border-bottom: 1px solid gray;flex-grow: 1;}#sk-container-id-1 div.sk-label:hover label.sk-toggleable__label {background-color: #d4ebff;}#sk-container-id-1 div.sk-serial::before {content: \"\";position: absolute;border-left: 1px solid gray;box-sizing: border-box;top: 0;bottom: 0;left: 50%;z-index: 0;}#sk-container-id-1 div.sk-serial {display: flex;flex-direction: column;align-items: center;background-color: white;padding-right: 0.2em;padding-left: 0.2em;position: relative;}#sk-container-id-1 div.sk-item {position: relative;z-index: 1;}#sk-container-id-1 div.sk-parallel {display: flex;align-items: stretch;justify-content: center;background-color: white;position: relative;}#sk-container-id-1 div.sk-item::before, #sk-container-id-1 div.sk-parallel-item::before {content: \"\";position: absolute;border-left: 1px solid gray;box-sizing: border-box;top: 0;bottom: 0;left: 50%;z-index: -1;}#sk-container-id-1 div.sk-parallel-item {display: flex;flex-direction: column;z-index: 1;position: relative;background-color: white;}#sk-container-id-1 div.sk-parallel-item:first-child::after {align-self: flex-end;width: 50%;}#sk-container-id-1 div.sk-parallel-item:last-child::after {align-self: flex-start;width: 50%;}#sk-container-id-1 div.sk-parallel-item:only-child::after {width: 0;}#sk-container-id-1 div.sk-dashed-wrapped {border: 1px dashed gray;margin: 0 0.4em 0.5em 0.4em;box-sizing: border-box;padding-bottom: 0.4em;background-color: white;}#sk-container-id-1 div.sk-label label {font-family: monospace;font-weight: bold;display: inline-block;line-height: 1.2em;}#sk-container-id-1 div.sk-label-container {text-align: center;}#sk-container-id-1 div.sk-container {/* jupyter's `normalize.less` sets `[hidden] { display: none; }` but bootstrap.min.css set `[hidden] { display: none !important; }` so we also need the `!important` here to be able to override the default hidden behavior on the sphinx rendered scikit-learn.org. See: https://github.com/scikit-learn/scikit-learn/issues/21755 */display: inline-block !important;position: relative;}#sk-container-id-1 div.sk-text-repr-fallback {display: none;}</style><div id=\"sk-container-id-1\" class=\"sk-top-container\"><div class=\"sk-text-repr-fallback\"><pre>Pipeline(steps=[(&#x27;scale&#x27;, StandardScaler()), (&#x27;model&#x27;, LogisticRegression())])</pre><b>In a Jupyter environment, please rerun this cell to show the HTML representation or trust the notebook. <br />On GitHub, the HTML representation is unable to render, please try loading this page with nbviewer.org.</b></div><div class=\"sk-container\" hidden><div class=\"sk-item sk-dashed-wrapped\"><div class=\"sk-label-container\"><div class=\"sk-label sk-toggleable\"><input class=\"sk-toggleable__control sk-hidden--visually\" id=\"sk-estimator-id-1\" type=\"checkbox\" ><label for=\"sk-estimator-id-1\" class=\"sk-toggleable__label sk-toggleable__label-arrow\">Pipeline</label><div class=\"sk-toggleable__content\"><pre>Pipeline(steps=[(&#x27;scale&#x27;, StandardScaler()), (&#x27;model&#x27;, LogisticRegression())])</pre></div></div></div><div class=\"sk-serial\"><div class=\"sk-item\"><div class=\"sk-estimator sk-toggleable\"><input class=\"sk-toggleable__control sk-hidden--visually\" id=\"sk-estimator-id-2\" type=\"checkbox\" ><label for=\"sk-estimator-id-2\" class=\"sk-toggleable__label sk-toggleable__label-arrow\">StandardScaler</label><div class=\"sk-toggleable__content\"><pre>StandardScaler()</pre></div></div></div><div class=\"sk-item\"><div class=\"sk-estimator sk-toggleable\"><input class=\"sk-toggleable__control sk-hidden--visually\" id=\"sk-estimator-id-3\" type=\"checkbox\" ><label for=\"sk-estimator-id-3\" class=\"sk-toggleable__label sk-toggleable__label-arrow\">LogisticRegression</label><div class=\"sk-toggleable__content\"><pre>LogisticRegression()</pre></div></div></div></div></div></div></div>"
      ],
      "text/plain": [
       "Pipeline(steps=[('scale', StandardScaler()), ('model', LogisticRegression())])"
      ]
     },
     "execution_count": 34,
     "metadata": {},
     "output_type": "execute_result"
    }
   ],
   "source": [
    "model.fit(X_train, y_train.values.ravel())"
   ]
  },
  {
   "cell_type": "code",
   "execution_count": 35,
   "id": "6e15e313",
   "metadata": {
    "execution": {
     "iopub.execute_input": "2025-08-19T18:57:13.659933Z",
     "iopub.status.busy": "2025-08-19T18:57:13.659011Z",
     "iopub.status.idle": "2025-08-19T18:57:13.859321Z",
     "shell.execute_reply": "2025-08-19T18:57:13.856831Z"
    },
    "papermill": {
     "duration": 0.215919,
     "end_time": "2025-08-19T18:57:13.861744",
     "exception": false,
     "start_time": "2025-08-19T18:57:13.645825",
     "status": "completed"
    },
    "tags": []
   },
   "outputs": [
    {
     "data": {
      "text/plain": [
       "0.8191505963660685"
      ]
     },
     "execution_count": 35,
     "metadata": {},
     "output_type": "execute_result"
    }
   ],
   "source": [
    "from fairness_multiverse.universe import predict_w_threshold\n",
    "\n",
    "probs_test = model.predict_proba(X_test)\n",
    "\n",
    "'''\n",
    "Below code returns a boolean array (or binary 0/1 array depending on how it’s used) where each element \n",
    "is True if the probability of class 1 is greater than or equal to the threshold, and False otherwise.\n",
    "'''\n",
    "y_pred_default = predict_w_threshold(probs_test, 0.5)\n",
    "\n",
    "from sklearn.metrics import accuracy_score\n",
    "\n",
    "# Naive prediction\n",
    "accuracy_score(y_true = y_true, y_pred = y_pred_default)"
   ]
  },
  {
   "cell_type": "code",
   "execution_count": 36,
   "id": "6f14067c",
   "metadata": {
    "execution": {
     "iopub.execute_input": "2025-08-19T18:57:13.898872Z",
     "iopub.status.busy": "2025-08-19T18:57:13.898035Z",
     "iopub.status.idle": "2025-08-19T18:57:14.079431Z",
     "shell.execute_reply": "2025-08-19T18:57:14.078814Z"
    },
    "papermill": {
     "duration": 0.210471,
     "end_time": "2025-08-19T18:57:14.094916",
     "exception": false,
     "start_time": "2025-08-19T18:57:13.884445",
     "status": "completed"
    },
    "tags": []
   },
   "outputs": [
    {
     "data": {
      "text/plain": [
       "array([0, 0, 1, ..., 0, 0, 0])"
      ]
     },
     "execution_count": 36,
     "metadata": {},
     "output_type": "execute_result"
    }
   ],
   "source": [
    "model.predict(X_test)"
   ]
  },
  {
   "cell_type": "markdown",
   "id": "3759920c",
   "metadata": {
    "papermill": {
     "duration": 0.02279,
     "end_time": "2025-08-19T18:57:14.135624",
     "exception": false,
     "start_time": "2025-08-19T18:57:14.112834",
     "status": "completed"
    },
    "tags": []
   },
   "source": [
    "# Conformal Prediction"
   ]
  },
  {
   "cell_type": "code",
   "execution_count": 37,
   "id": "14b27f59",
   "metadata": {
    "execution": {
     "iopub.execute_input": "2025-08-19T18:57:14.160405Z",
     "iopub.status.busy": "2025-08-19T18:57:14.159385Z",
     "iopub.status.idle": "2025-08-19T18:57:14.167843Z",
     "shell.execute_reply": "2025-08-19T18:57:14.166253Z"
    },
    "papermill": {
     "duration": 0.022869,
     "end_time": "2025-08-19T18:57:14.169523",
     "exception": false,
     "start_time": "2025-08-19T18:57:14.146654",
     "status": "completed"
    },
    "tags": []
   },
   "outputs": [],
   "source": [
    "# Miscoverage level for conformal prediction (10% allowed error rate => 90% target coverage)\n",
    "alpha = 0.1"
   ]
  },
  {
   "cell_type": "code",
   "execution_count": 38,
   "id": "59102472",
   "metadata": {
    "execution": {
     "iopub.execute_input": "2025-08-19T18:57:14.197486Z",
     "iopub.status.busy": "2025-08-19T18:57:14.196063Z",
     "iopub.status.idle": "2025-08-19T18:57:14.377741Z",
     "shell.execute_reply": "2025-08-19T18:57:14.376980Z"
    },
    "papermill": {
     "duration": 0.196227,
     "end_time": "2025-08-19T18:57:14.379348",
     "exception": false,
     "start_time": "2025-08-19T18:57:14.183121",
     "status": "completed"
    },
    "tags": []
   },
   "outputs": [],
   "source": [
    "probs_calib = model.predict_proba(X_calib)"
   ]
  },
  {
   "cell_type": "code",
   "execution_count": 39,
   "id": "a792d4dd",
   "metadata": {
    "execution": {
     "iopub.execute_input": "2025-08-19T18:57:14.404009Z",
     "iopub.status.busy": "2025-08-19T18:57:14.403255Z",
     "iopub.status.idle": "2025-08-19T18:57:14.410736Z",
     "shell.execute_reply": "2025-08-19T18:57:14.409410Z"
    },
    "papermill": {
     "duration": 0.02105,
     "end_time": "2025-08-19T18:57:14.412096",
     "exception": false,
     "start_time": "2025-08-19T18:57:14.391046",
     "status": "completed"
    },
    "tags": []
   },
   "outputs": [],
   "source": [
    "y_calib = y_calib.values.ravel().astype(int)"
   ]
  },
  {
   "cell_type": "code",
   "execution_count": 40,
   "id": "650fd033",
   "metadata": {
    "execution": {
     "iopub.execute_input": "2025-08-19T18:57:14.437700Z",
     "iopub.status.busy": "2025-08-19T18:57:14.436617Z",
     "iopub.status.idle": "2025-08-19T18:57:14.448590Z",
     "shell.execute_reply": "2025-08-19T18:57:14.447388Z"
    },
    "papermill": {
     "duration": 0.026228,
     "end_time": "2025-08-19T18:57:14.450077",
     "exception": false,
     "start_time": "2025-08-19T18:57:14.423849",
     "status": "completed"
    },
    "tags": []
   },
   "outputs": [],
   "source": [
    "from fairness_multiverse.conformal import compute_nc_scores\n",
    "\n",
    "# Compute nonconformity scores on calibration set (1 - probability of true class)\n",
    "nc_scores = compute_nc_scores(probs_calib, y_calib)"
   ]
  },
  {
   "cell_type": "code",
   "execution_count": 41,
   "id": "28ada44c",
   "metadata": {
    "execution": {
     "iopub.execute_input": "2025-08-19T18:57:14.479021Z",
     "iopub.status.busy": "2025-08-19T18:57:14.477865Z",
     "iopub.status.idle": "2025-08-19T18:57:14.501756Z",
     "shell.execute_reply": "2025-08-19T18:57:14.500090Z"
    },
    "papermill": {
     "duration": 0.039246,
     "end_time": "2025-08-19T18:57:14.503617",
     "exception": false,
     "start_time": "2025-08-19T18:57:14.464371",
     "status": "completed"
    },
    "tags": []
   },
   "outputs": [],
   "source": [
    "from fairness_multiverse.conformal import find_threshold\n",
    "\n",
    "# Find conformal threshold q_hat for the given alpha (split conformal method)\n",
    "q_hat = find_threshold(nc_scores, alpha)"
   ]
  },
  {
   "cell_type": "code",
   "execution_count": 42,
   "id": "df56469e",
   "metadata": {
    "execution": {
     "iopub.execute_input": "2025-08-19T18:57:14.540002Z",
     "iopub.status.busy": "2025-08-19T18:57:14.538767Z",
     "iopub.status.idle": "2025-08-19T18:57:14.554427Z",
     "shell.execute_reply": "2025-08-19T18:57:14.552408Z"
    },
    "papermill": {
     "duration": 0.031848,
     "end_time": "2025-08-19T18:57:14.556105",
     "exception": false,
     "start_time": "2025-08-19T18:57:14.524257",
     "status": "completed"
    },
    "tags": []
   },
   "outputs": [
    {
     "data": {
      "text/plain": [
       "0.8172183602490609"
      ]
     },
     "execution_count": 42,
     "metadata": {},
     "output_type": "execute_result"
    }
   ],
   "source": [
    "q_hat"
   ]
  },
  {
   "cell_type": "code",
   "execution_count": 43,
   "id": "aa1f5faa",
   "metadata": {
    "execution": {
     "iopub.execute_input": "2025-08-19T18:57:14.587507Z",
     "iopub.status.busy": "2025-08-19T18:57:14.587000Z",
     "iopub.status.idle": "2025-08-19T18:57:15.227084Z",
     "shell.execute_reply": "2025-08-19T18:57:15.226099Z"
    },
    "papermill": {
     "duration": 0.65518,
     "end_time": "2025-08-19T18:57:15.228774",
     "exception": false,
     "start_time": "2025-08-19T18:57:14.573594",
     "status": "completed"
    },
    "tags": []
   },
   "outputs": [],
   "source": [
    "from fairness_multiverse.conformal import predict_conformal_sets\n",
    "\n",
    "# Generate prediction sets for each test example\n",
    "pred_sets = predict_conformal_sets(model, X_test, q_hat)"
   ]
  },
  {
   "cell_type": "code",
   "execution_count": 44,
   "id": "97f67a6b",
   "metadata": {
    "execution": {
     "iopub.execute_input": "2025-08-19T18:57:15.255992Z",
     "iopub.status.busy": "2025-08-19T18:57:15.255024Z",
     "iopub.status.idle": "2025-08-19T18:57:15.263635Z",
     "shell.execute_reply": "2025-08-19T18:57:15.262540Z"
    },
    "papermill": {
     "duration": 0.022791,
     "end_time": "2025-08-19T18:57:15.265241",
     "exception": false,
     "start_time": "2025-08-19T18:57:15.242450",
     "status": "completed"
    },
    "tags": []
   },
   "outputs": [],
   "source": [
    "y_true = y_true.squeeze()"
   ]
  },
  {
   "cell_type": "code",
   "execution_count": 45,
   "id": "e700e9a7",
   "metadata": {
    "execution": {
     "iopub.execute_input": "2025-08-19T18:57:15.317354Z",
     "iopub.status.busy": "2025-08-19T18:57:15.316829Z",
     "iopub.status.idle": "2025-08-19T18:57:15.827481Z",
     "shell.execute_reply": "2025-08-19T18:57:15.826208Z"
    },
    "papermill": {
     "duration": 0.533818,
     "end_time": "2025-08-19T18:57:15.829170",
     "exception": false,
     "start_time": "2025-08-19T18:57:15.295352",
     "status": "completed"
    },
    "tags": []
   },
   "outputs": [],
   "source": [
    "from fairness_multiverse.conformal import evaluate_sets\n",
    "\n",
    "# Evaluate coverage and average set size on test data\n",
    "metrics = evaluate_sets(pred_sets, y_true)"
   ]
  },
  {
   "cell_type": "markdown",
   "id": "efbacec0",
   "metadata": {
    "papermill": {
     "duration": 0.011608,
     "end_time": "2025-08-19T18:57:15.923743",
     "exception": false,
     "start_time": "2025-08-19T18:57:15.912135",
     "status": "completed"
    },
    "tags": []
   },
   "source": [
    "# CP Metrics"
   ]
  },
  {
   "cell_type": "code",
   "execution_count": 46,
   "id": "9de55fb1",
   "metadata": {
    "execution": {
     "iopub.execute_input": "2025-08-19T18:57:15.950698Z",
     "iopub.status.busy": "2025-08-19T18:57:15.949578Z",
     "iopub.status.idle": "2025-08-19T18:57:15.965865Z",
     "shell.execute_reply": "2025-08-19T18:57:15.964563Z"
    },
    "papermill": {
     "duration": 0.03282,
     "end_time": "2025-08-19T18:57:15.968086",
     "exception": false,
     "start_time": "2025-08-19T18:57:15.935266",
     "status": "completed"
    },
    "tags": []
   },
   "outputs": [
    {
     "data": {
      "text/plain": [
       "{'coverage': 0.9100769145022851, 'avg_size': 1.2659569724668376}"
      ]
     },
     "execution_count": 46,
     "metadata": {},
     "output_type": "execute_result"
    }
   ],
   "source": [
    "metrics"
   ]
  },
  {
   "cell_type": "code",
   "execution_count": 47,
   "id": "64c340a1",
   "metadata": {
    "execution": {
     "iopub.execute_input": "2025-08-19T18:57:15.997991Z",
     "iopub.status.busy": "2025-08-19T18:57:15.996965Z",
     "iopub.status.idle": "2025-08-19T18:57:16.009831Z",
     "shell.execute_reply": "2025-08-19T18:57:16.008151Z"
    },
    "papermill": {
     "duration": 0.028303,
     "end_time": "2025-08-19T18:57:16.011812",
     "exception": false,
     "start_time": "2025-08-19T18:57:15.983509",
     "status": "completed"
    },
    "tags": []
   },
   "outputs": [],
   "source": [
    "example_universe = universe.copy()\n",
    "universe_training_year = example_universe.get(\"training_year\")\n",
    "universe_training_size = example_universe.get(\"training_size\")\n",
    "universe_scale = example_universe.get(\"scale\")\n",
    "universe_model = example_universe.get(\"model\")\n",
    "universe_exclude_features = example_universe.get(\"exclude_features\")\n",
    "universe_exclude_subgroups = example_universe.get(\"exclude_subgroups\")"
   ]
  },
  {
   "cell_type": "code",
   "execution_count": 48,
   "id": "dbb53cb4",
   "metadata": {
    "execution": {
     "iopub.execute_input": "2025-08-19T18:57:16.046988Z",
     "iopub.status.busy": "2025-08-19T18:57:16.046046Z",
     "iopub.status.idle": "2025-08-19T18:57:16.057958Z",
     "shell.execute_reply": "2025-08-19T18:57:16.056703Z"
    },
    "papermill": {
     "duration": 0.031829,
     "end_time": "2025-08-19T18:57:16.059713",
     "exception": false,
     "start_time": "2025-08-19T18:57:16.027884",
     "status": "completed"
    },
    "tags": []
   },
   "outputs": [],
   "source": [
    "cp_metrics_dict = {\n",
    "    \"universe_id\": [universe_id],\n",
    "    \"universe_training_year\": [universe_training_year],\n",
    "    \"universe_training_size\": [universe_training_size],\n",
    "    \"universe_scale\": [universe_scale],\n",
    "    \"universe_model\": [universe_model],\n",
    "    \"universe_exclude_features\": [universe_exclude_features],\n",
    "    \"universe_exclude_subgroups\": [universe_exclude_subgroups],\n",
    "    \"q_hat\": [q_hat],\n",
    "    \"coverage\": [metrics[\"coverage\"]],\n",
    "    \"avg_size\": [metrics[\"avg_size\"]],\n",
    "}"
   ]
  },
  {
   "cell_type": "code",
   "execution_count": 49,
   "id": "0d70d4b2",
   "metadata": {
    "execution": {
     "iopub.execute_input": "2025-08-19T18:57:16.089595Z",
     "iopub.status.busy": "2025-08-19T18:57:16.088622Z",
     "iopub.status.idle": "2025-08-19T18:57:16.102216Z",
     "shell.execute_reply": "2025-08-19T18:57:16.100810Z"
    },
    "papermill": {
     "duration": 0.028456,
     "end_time": "2025-08-19T18:57:16.103908",
     "exception": false,
     "start_time": "2025-08-19T18:57:16.075452",
     "status": "completed"
    },
    "tags": []
   },
   "outputs": [],
   "source": [
    "cp_metrics_df = pd.DataFrame(cp_metrics_dict)"
   ]
  },
  {
   "cell_type": "code",
   "execution_count": 50,
   "id": "b494403c",
   "metadata": {
    "execution": {
     "iopub.execute_input": "2025-08-19T18:57:16.136102Z",
     "iopub.status.busy": "2025-08-19T18:57:16.135252Z",
     "iopub.status.idle": "2025-08-19T18:57:16.161465Z",
     "shell.execute_reply": "2025-08-19T18:57:16.160439Z"
    },
    "papermill": {
     "duration": 0.043209,
     "end_time": "2025-08-19T18:57:16.164922",
     "exception": false,
     "start_time": "2025-08-19T18:57:16.121713",
     "status": "completed"
    },
    "tags": []
   },
   "outputs": [
    {
     "data": {
      "text/html": [
       "<div>\n",
       "<style scoped>\n",
       "    .dataframe tbody tr th:only-of-type {\n",
       "        vertical-align: middle;\n",
       "    }\n",
       "\n",
       "    .dataframe tbody tr th {\n",
       "        vertical-align: top;\n",
       "    }\n",
       "\n",
       "    .dataframe thead th {\n",
       "        text-align: right;\n",
       "    }\n",
       "</style>\n",
       "<table border=\"1\" class=\"dataframe\">\n",
       "  <thead>\n",
       "    <tr style=\"text-align: right;\">\n",
       "      <th></th>\n",
       "      <th>universe_id</th>\n",
       "      <th>universe_training_year</th>\n",
       "      <th>universe_training_size</th>\n",
       "      <th>universe_scale</th>\n",
       "      <th>universe_model</th>\n",
       "      <th>universe_exclude_features</th>\n",
       "      <th>universe_exclude_subgroups</th>\n",
       "      <th>q_hat</th>\n",
       "      <th>coverage</th>\n",
       "      <th>avg_size</th>\n",
       "    </tr>\n",
       "  </thead>\n",
       "  <tbody>\n",
       "    <tr>\n",
       "      <th>0</th>\n",
       "      <td>c6082ddcab5267734b2a65cc0523c0f4</td>\n",
       "      <td>2012_14</td>\n",
       "      <td>1k</td>\n",
       "      <td>scale</td>\n",
       "      <td>logreg</td>\n",
       "      <td>nationality-sex</td>\n",
       "      <td>drop-non-german</td>\n",
       "      <td>0.817218</td>\n",
       "      <td>0.910077</td>\n",
       "      <td>1.265957</td>\n",
       "    </tr>\n",
       "  </tbody>\n",
       "</table>\n",
       "</div>"
      ],
      "text/plain": [
       "                        universe_id universe_training_year  \\\n",
       "0  c6082ddcab5267734b2a65cc0523c0f4                2012_14   \n",
       "\n",
       "  universe_training_size universe_scale universe_model  \\\n",
       "0                     1k          scale         logreg   \n",
       "\n",
       "  universe_exclude_features universe_exclude_subgroups     q_hat  coverage  \\\n",
       "0           nationality-sex            drop-non-german  0.817218  0.910077   \n",
       "\n",
       "   avg_size  \n",
       "0  1.265957  "
      ]
     },
     "execution_count": 50,
     "metadata": {},
     "output_type": "execute_result"
    }
   ],
   "source": [
    "cp_metrics_df"
   ]
  },
  {
   "cell_type": "markdown",
   "id": "ed608b0b",
   "metadata": {
    "papermill": {
     "duration": 0.012318,
     "end_time": "2025-08-19T18:57:16.194945",
     "exception": false,
     "start_time": "2025-08-19T18:57:16.182627",
     "status": "completed"
    },
    "tags": []
   },
   "source": [
    "Conditional coverage & looking at subgroups"
   ]
  },
  {
   "cell_type": "code",
   "execution_count": 51,
   "id": "8968c366",
   "metadata": {
    "execution": {
     "iopub.execute_input": "2025-08-19T18:57:16.221037Z",
     "iopub.status.busy": "2025-08-19T18:57:16.220098Z",
     "iopub.status.idle": "2025-08-19T18:57:16.510597Z",
     "shell.execute_reply": "2025-08-19T18:57:16.509595Z"
    },
    "papermill": {
     "duration": 0.306279,
     "end_time": "2025-08-19T18:57:16.512959",
     "exception": false,
     "start_time": "2025-08-19T18:57:16.206680",
     "status": "completed"
    },
    "tags": []
   },
   "outputs": [],
   "source": [
    "from fairness_multiverse.conformal import build_cp_groups\n",
    "\n",
    "cp_groups_df = build_cp_groups(pred_sets, y_true, X_test.index, org_test)"
   ]
  },
  {
   "cell_type": "code",
   "execution_count": 52,
   "id": "292ddabf",
   "metadata": {
    "execution": {
     "iopub.execute_input": "2025-08-19T18:57:16.546483Z",
     "iopub.status.busy": "2025-08-19T18:57:16.546094Z",
     "iopub.status.idle": "2025-08-19T18:57:17.415933Z",
     "shell.execute_reply": "2025-08-19T18:57:17.414694Z"
    },
    "papermill": {
     "duration": 0.884674,
     "end_time": "2025-08-19T18:57:17.417537",
     "exception": false,
     "start_time": "2025-08-19T18:57:16.532863",
     "status": "completed"
    },
    "tags": []
   },
   "outputs": [],
   "source": [
    "# Define covered = 1 if true_label is in the predicted set\n",
    "cp_groups_df['covered'] = cp_groups_df.apply(\n",
    "    lambda r: int(r['true_label'] in r['pred_set']),\n",
    "    axis=1\n",
    ")"
   ]
  },
  {
   "cell_type": "code",
   "execution_count": 53,
   "id": "3a261692",
   "metadata": {
    "execution": {
     "iopub.execute_input": "2025-08-19T18:57:17.466175Z",
     "iopub.status.busy": "2025-08-19T18:57:17.464955Z",
     "iopub.status.idle": "2025-08-19T18:57:17.493467Z",
     "shell.execute_reply": "2025-08-19T18:57:17.492373Z"
    },
    "papermill": {
     "duration": 0.062593,
     "end_time": "2025-08-19T18:57:17.496075",
     "exception": false,
     "start_time": "2025-08-19T18:57:17.433482",
     "status": "completed"
    },
    "tags": []
   },
   "outputs": [],
   "source": [
    "subgroups = ['frau1','nongerman','nongerman_male','nongerman_female']\n",
    "\n",
    "# Conditional coverage for subgroup==1\n",
    "cond_coverage = {\n",
    "    g: cp_groups_df.loc[cp_groups_df[g]==1, 'covered'].mean()\n",
    "    for g in subgroups\n",
    "}"
   ]
  },
  {
   "cell_type": "code",
   "execution_count": 54,
   "id": "894fd600",
   "metadata": {
    "execution": {
     "iopub.execute_input": "2025-08-19T18:57:17.540179Z",
     "iopub.status.busy": "2025-08-19T18:57:17.539231Z",
     "iopub.status.idle": "2025-08-19T18:57:17.552155Z",
     "shell.execute_reply": "2025-08-19T18:57:17.550804Z"
    },
    "papermill": {
     "duration": 0.030497,
     "end_time": "2025-08-19T18:57:17.553613",
     "exception": false,
     "start_time": "2025-08-19T18:57:17.523116",
     "status": "completed"
    },
    "tags": []
   },
   "outputs": [
    {
     "data": {
      "text/plain": [
       "{'frau1': 0.9051624208114301,\n",
       " 'nongerman': 0.9219109639027676,\n",
       " 'nongerman_male': 0.9337116094749167,\n",
       " 'nongerman_female': 0.9023845007451565}"
      ]
     },
     "execution_count": 54,
     "metadata": {},
     "output_type": "execute_result"
    }
   ],
   "source": [
    "cond_coverage"
   ]
  },
  {
   "cell_type": "code",
   "execution_count": 55,
   "id": "942895c7",
   "metadata": {
    "execution": {
     "iopub.execute_input": "2025-08-19T18:57:17.586286Z",
     "iopub.status.busy": "2025-08-19T18:57:17.585123Z",
     "iopub.status.idle": "2025-08-19T18:57:17.612269Z",
     "shell.execute_reply": "2025-08-19T18:57:17.610860Z"
    },
    "papermill": {
     "duration": 0.043554,
     "end_time": "2025-08-19T18:57:17.614260",
     "exception": false,
     "start_time": "2025-08-19T18:57:17.570706",
     "status": "completed"
    },
    "tags": []
   },
   "outputs": [],
   "source": [
    "for subgroup, cov in cond_coverage.items():\n",
    "    cp_metrics_df[f\"cov_{subgroup}\"] = cov"
   ]
  },
  {
   "cell_type": "code",
   "execution_count": 56,
   "id": "3970120f",
   "metadata": {
    "execution": {
     "iopub.execute_input": "2025-08-19T18:57:17.654281Z",
     "iopub.status.busy": "2025-08-19T18:57:17.652960Z",
     "iopub.status.idle": "2025-08-19T18:57:17.683262Z",
     "shell.execute_reply": "2025-08-19T18:57:17.682431Z"
    },
    "papermill": {
     "duration": 0.048404,
     "end_time": "2025-08-19T18:57:17.685275",
     "exception": false,
     "start_time": "2025-08-19T18:57:17.636871",
     "status": "completed"
    },
    "tags": []
   },
   "outputs": [
    {
     "data": {
      "text/html": [
       "<div>\n",
       "<style scoped>\n",
       "    .dataframe tbody tr th:only-of-type {\n",
       "        vertical-align: middle;\n",
       "    }\n",
       "\n",
       "    .dataframe tbody tr th {\n",
       "        vertical-align: top;\n",
       "    }\n",
       "\n",
       "    .dataframe thead th {\n",
       "        text-align: right;\n",
       "    }\n",
       "</style>\n",
       "<table border=\"1\" class=\"dataframe\">\n",
       "  <thead>\n",
       "    <tr style=\"text-align: right;\">\n",
       "      <th></th>\n",
       "      <th>universe_id</th>\n",
       "      <th>universe_training_year</th>\n",
       "      <th>universe_training_size</th>\n",
       "      <th>universe_scale</th>\n",
       "      <th>universe_model</th>\n",
       "      <th>universe_exclude_features</th>\n",
       "      <th>universe_exclude_subgroups</th>\n",
       "      <th>q_hat</th>\n",
       "      <th>coverage</th>\n",
       "      <th>avg_size</th>\n",
       "      <th>cov_frau1</th>\n",
       "      <th>cov_nongerman</th>\n",
       "      <th>cov_nongerman_male</th>\n",
       "      <th>cov_nongerman_female</th>\n",
       "    </tr>\n",
       "  </thead>\n",
       "  <tbody>\n",
       "    <tr>\n",
       "      <th>0</th>\n",
       "      <td>c6082ddcab5267734b2a65cc0523c0f4</td>\n",
       "      <td>2012_14</td>\n",
       "      <td>1k</td>\n",
       "      <td>scale</td>\n",
       "      <td>logreg</td>\n",
       "      <td>nationality-sex</td>\n",
       "      <td>drop-non-german</td>\n",
       "      <td>0.817218</td>\n",
       "      <td>0.910077</td>\n",
       "      <td>1.265957</td>\n",
       "      <td>0.905162</td>\n",
       "      <td>0.921911</td>\n",
       "      <td>0.933712</td>\n",
       "      <td>0.902385</td>\n",
       "    </tr>\n",
       "  </tbody>\n",
       "</table>\n",
       "</div>"
      ],
      "text/plain": [
       "                        universe_id universe_training_year  \\\n",
       "0  c6082ddcab5267734b2a65cc0523c0f4                2012_14   \n",
       "\n",
       "  universe_training_size universe_scale universe_model  \\\n",
       "0                     1k          scale         logreg   \n",
       "\n",
       "  universe_exclude_features universe_exclude_subgroups     q_hat  coverage  \\\n",
       "0           nationality-sex            drop-non-german  0.817218  0.910077   \n",
       "\n",
       "   avg_size  cov_frau1  cov_nongerman  cov_nongerman_male  \\\n",
       "0  1.265957   0.905162       0.921911            0.933712   \n",
       "\n",
       "   cov_nongerman_female  \n",
       "0              0.902385  "
      ]
     },
     "execution_count": 56,
     "metadata": {},
     "output_type": "execute_result"
    }
   ],
   "source": [
    "cp_metrics_df"
   ]
  },
  {
   "cell_type": "markdown",
   "id": "3fc519cc",
   "metadata": {
    "papermill": {
     "duration": 0.013255,
     "end_time": "2025-08-19T18:57:17.721962",
     "exception": false,
     "start_time": "2025-08-19T18:57:17.708707",
     "status": "completed"
    },
    "tags": []
   },
   "source": [
    "# (Fairness) Metrics"
   ]
  },
  {
   "cell_type": "code",
   "execution_count": 57,
   "id": "a2e5e155",
   "metadata": {
    "execution": {
     "iopub.execute_input": "2025-08-19T18:57:17.752893Z",
     "iopub.status.busy": "2025-08-19T18:57:17.749082Z",
     "iopub.status.idle": "2025-08-19T18:57:17.784329Z",
     "shell.execute_reply": "2025-08-19T18:57:17.783482Z"
    },
    "papermill": {
     "duration": 0.053031,
     "end_time": "2025-08-19T18:57:17.787602",
     "exception": false,
     "start_time": "2025-08-19T18:57:17.734571",
     "status": "completed"
    },
    "tags": []
   },
   "outputs": [],
   "source": [
    "colname_to_bin = \"maxdeutsch1\"\n",
    "majority_value = org_train[colname_to_bin].mode()[0]\n",
    "\n",
    "org_test[\"majmin\"] = np.where(org_test[colname_to_bin] == majority_value, \"majority\", \"minority\")"
   ]
  },
  {
   "cell_type": "code",
   "execution_count": 58,
   "id": "17e3e4d5",
   "metadata": {
    "execution": {
     "iopub.execute_input": "2025-08-19T18:57:17.827885Z",
     "iopub.status.busy": "2025-08-19T18:57:17.827323Z",
     "iopub.status.idle": "2025-08-19T18:57:19.564171Z",
     "shell.execute_reply": "2025-08-19T18:57:19.562888Z"
    },
    "papermill": {
     "duration": 1.751905,
     "end_time": "2025-08-19T18:57:19.565778",
     "exception": false,
     "start_time": "2025-08-19T18:57:17.813873",
     "status": "completed"
    },
    "tags": []
   },
   "outputs": [],
   "source": [
    "example_universe = universe.copy()\n",
    "example_universe[\"cutoff\"] = example_universe[\"cutoff\"][0]\n",
    "example_universe[\"eval_fairness_grouping\"] = example_universe[\"eval_fairness_grouping\"][0]\n",
    "fairness_dict, metric_frame = universe_analysis.compute_metrics(\n",
    "    example_universe,\n",
    "    y_pred_prob=probs_test,\n",
    "    y_test=y_true,\n",
    "    org_test=org_test,\n",
    ")"
   ]
  },
  {
   "cell_type": "markdown",
   "id": "1fb7a0e9",
   "metadata": {
    "papermill": {
     "duration": 0.0124,
     "end_time": "2025-08-19T18:57:19.593732",
     "exception": false,
     "start_time": "2025-08-19T18:57:19.581332",
     "status": "completed"
    },
    "tags": []
   },
   "source": [
    "# Overall"
   ]
  },
  {
   "cell_type": "markdown",
   "id": "be1784b1",
   "metadata": {
    "papermill": {
     "duration": 0.012172,
     "end_time": "2025-08-19T18:57:19.618126",
     "exception": false,
     "start_time": "2025-08-19T18:57:19.605954",
     "status": "completed"
    },
    "tags": []
   },
   "source": [
    "Main fairness target: Equalized Odds. Seems to be a better fit than equal opportunity, since we're not only interested in Y = 1. Seems to be a better fit than demographic parity, since we also care about accuracy, not just equal distribution of preds.\n",
    "\n",
    "Pick column for computation of fairness metrics\n",
    "\n",
    "Performance\n",
    "Overall performance measures, most interesting in relation to the measures split by group below"
   ]
  },
  {
   "cell_type": "code",
   "execution_count": 59,
   "id": "b7672bee",
   "metadata": {
    "execution": {
     "iopub.execute_input": "2025-08-19T18:57:19.644255Z",
     "iopub.status.busy": "2025-08-19T18:57:19.643811Z",
     "iopub.status.idle": "2025-08-19T18:57:19.653991Z",
     "shell.execute_reply": "2025-08-19T18:57:19.651687Z"
    },
    "papermill": {
     "duration": 0.025145,
     "end_time": "2025-08-19T18:57:19.655470",
     "exception": false,
     "start_time": "2025-08-19T18:57:19.630325",
     "status": "completed"
    },
    "tags": []
   },
   "outputs": [
    {
     "data": {
      "text/plain": [
       "accuracy                   0.216219\n",
       "balanced accuracy          0.530393\n",
       "f1                         0.237775\n",
       "precision                  0.135833\n",
       "false positive rate        0.892202\n",
       "false negative rate        0.047011\n",
       "selection rate             0.900000\n",
       "count                  89710.000000\n",
       "dtype: float64"
      ]
     },
     "execution_count": 59,
     "metadata": {},
     "output_type": "execute_result"
    }
   ],
   "source": [
    "metric_frame.overall"
   ]
  },
  {
   "cell_type": "markdown",
   "id": "d93333c9",
   "metadata": {
    "papermill": {
     "duration": 0.0125,
     "end_time": "2025-08-19T18:57:19.682814",
     "exception": false,
     "start_time": "2025-08-19T18:57:19.670314",
     "status": "completed"
    },
    "tags": []
   },
   "source": [
    "By Group"
   ]
  },
  {
   "cell_type": "code",
   "execution_count": 60,
   "id": "52256966",
   "metadata": {
    "execution": {
     "iopub.execute_input": "2025-08-19T18:57:19.710529Z",
     "iopub.status.busy": "2025-08-19T18:57:19.709404Z",
     "iopub.status.idle": "2025-08-19T18:57:19.734685Z",
     "shell.execute_reply": "2025-08-19T18:57:19.733637Z"
    },
    "papermill": {
     "duration": 0.041745,
     "end_time": "2025-08-19T18:57:19.736953",
     "exception": false,
     "start_time": "2025-08-19T18:57:19.695208",
     "status": "completed"
    },
    "tags": []
   },
   "outputs": [
    {
     "data": {
      "text/html": [
       "<div>\n",
       "<style scoped>\n",
       "    .dataframe tbody tr th:only-of-type {\n",
       "        vertical-align: middle;\n",
       "    }\n",
       "\n",
       "    .dataframe tbody tr th {\n",
       "        vertical-align: top;\n",
       "    }\n",
       "\n",
       "    .dataframe thead th {\n",
       "        text-align: right;\n",
       "    }\n",
       "</style>\n",
       "<table border=\"1\" class=\"dataframe\">\n",
       "  <thead>\n",
       "    <tr style=\"text-align: right;\">\n",
       "      <th></th>\n",
       "      <th>accuracy</th>\n",
       "      <th>balanced accuracy</th>\n",
       "      <th>f1</th>\n",
       "      <th>precision</th>\n",
       "      <th>false positive rate</th>\n",
       "      <th>false negative rate</th>\n",
       "      <th>selection rate</th>\n",
       "      <th>count</th>\n",
       "    </tr>\n",
       "    <tr>\n",
       "      <th>majmin</th>\n",
       "      <th></th>\n",
       "      <th></th>\n",
       "      <th></th>\n",
       "      <th></th>\n",
       "      <th></th>\n",
       "      <th></th>\n",
       "      <th></th>\n",
       "      <th></th>\n",
       "    </tr>\n",
       "  </thead>\n",
       "  <tbody>\n",
       "    <tr>\n",
       "      <th>majority</th>\n",
       "      <td>0.230186</td>\n",
       "      <td>0.534460</td>\n",
       "      <td>0.245544</td>\n",
       "      <td>0.141036</td>\n",
       "      <td>0.87911</td>\n",
       "      <td>0.051969</td>\n",
       "      <td>0.888217</td>\n",
       "      <td>69170.0</td>\n",
       "    </tr>\n",
       "    <tr>\n",
       "      <th>minority</th>\n",
       "      <td>0.169182</td>\n",
       "      <td>0.518339</td>\n",
       "      <td>0.212469</td>\n",
       "      <td>0.119268</td>\n",
       "      <td>0.93545</td>\n",
       "      <td>0.027872</td>\n",
       "      <td>0.939679</td>\n",
       "      <td>20540.0</td>\n",
       "    </tr>\n",
       "  </tbody>\n",
       "</table>\n",
       "</div>"
      ],
      "text/plain": [
       "          accuracy  balanced accuracy        f1  precision  \\\n",
       "majmin                                                       \n",
       "majority  0.230186           0.534460  0.245544   0.141036   \n",
       "minority  0.169182           0.518339  0.212469   0.119268   \n",
       "\n",
       "          false positive rate  false negative rate  selection rate    count  \n",
       "majmin                                                                       \n",
       "majority              0.87911             0.051969        0.888217  69170.0  \n",
       "minority              0.93545             0.027872        0.939679  20540.0  "
      ]
     },
     "execution_count": 60,
     "metadata": {},
     "output_type": "execute_result"
    }
   ],
   "source": [
    "metric_frame.by_group"
   ]
  },
  {
   "cell_type": "code",
   "execution_count": 61,
   "id": "6e6c20ae",
   "metadata": {
    "execution": {
     "iopub.execute_input": "2025-08-19T18:57:19.770911Z",
     "iopub.status.busy": "2025-08-19T18:57:19.769924Z",
     "iopub.status.idle": "2025-08-19T18:57:21.552673Z",
     "shell.execute_reply": "2025-08-19T18:57:21.551654Z"
    },
    "papermill": {
     "duration": 1.798283,
     "end_time": "2025-08-19T18:57:21.553907",
     "exception": false,
     "start_time": "2025-08-19T18:57:19.755624",
     "status": "completed"
    },
    "tags": []
   },
   "outputs": [
    {
     "data": {
      "text/plain": [
       "array([[<Axes: title={'center': 'accuracy'}, xlabel='majmin'>,\n",
       "        <Axes: title={'center': 'balanced accuracy'}, xlabel='majmin'>,\n",
       "        <Axes: title={'center': 'f1'}, xlabel='majmin'>],\n",
       "       [<Axes: title={'center': 'precision'}, xlabel='majmin'>,\n",
       "        <Axes: title={'center': 'false positive rate'}, xlabel='majmin'>,\n",
       "        <Axes: title={'center': 'false negative rate'}, xlabel='majmin'>],\n",
       "       [<Axes: title={'center': 'selection rate'}, xlabel='majmin'>,\n",
       "        <Axes: title={'center': 'count'}, xlabel='majmin'>,\n",
       "        <Axes: xlabel='majmin'>]], dtype=object)"
      ]
     },
     "execution_count": 61,
     "metadata": {},
     "output_type": "execute_result"
    },
    {
     "data": {
      "image/png": "[encoded data removed]",
      "text/plain": [
       "<Figure size 1200x800 with 9 Axes>"
      ]
     },
     "metadata": {},
     "output_type": "display_data"
    }
   ],
   "source": [
    "# In a graphic\n",
    "metric_frame.by_group.plot.bar(\n",
    "    subplots=True,\n",
    "    layout=[3, 3],\n",
    "    legend=False,\n",
    "    figsize=[12, 8],\n",
    "    title=\"Show all metrics\",\n",
    ")"
   ]
  },
  {
   "cell_type": "markdown",
   "id": "b2e433ae",
   "metadata": {
    "papermill": {
     "duration": 0.014178,
     "end_time": "2025-08-19T18:57:21.583321",
     "exception": false,
     "start_time": "2025-08-19T18:57:21.569143",
     "status": "completed"
    },
    "tags": []
   },
   "source": [
    "# Final Output"
   ]
  },
  {
   "cell_type": "code",
   "execution_count": 62,
   "id": "3871301e",
   "metadata": {
    "execution": {
     "iopub.execute_input": "2025-08-19T18:57:21.615988Z",
     "iopub.status.busy": "2025-08-19T18:57:21.613770Z",
     "iopub.status.idle": "2025-08-19T18:57:21.633655Z",
     "shell.execute_reply": "2025-08-19T18:57:21.632529Z"
    },
    "papermill": {
     "duration": 0.03845,
     "end_time": "2025-08-19T18:57:21.635648",
     "exception": false,
     "start_time": "2025-08-19T18:57:21.597198",
     "status": "completed"
    },
    "tags": []
   },
   "outputs": [
    {
     "data": {
      "text/plain": [
       "4"
      ]
     },
     "execution_count": 62,
     "metadata": {},
     "output_type": "execute_result"
    }
   ],
   "source": [
    "sub_universes = universe_analysis.generate_sub_universes()\n",
    "len(sub_universes)"
   ]
  },
  {
   "cell_type": "code",
   "execution_count": 63,
   "id": "d9cfdaca",
   "metadata": {
    "execution": {
     "iopub.execute_input": "2025-08-19T18:57:21.673605Z",
     "iopub.status.busy": "2025-08-19T18:57:21.672400Z",
     "iopub.status.idle": "2025-08-19T18:57:21.683350Z",
     "shell.execute_reply": "2025-08-19T18:57:21.681888Z"
    },
    "papermill": {
     "duration": 0.029095,
     "end_time": "2025-08-19T18:57:21.685108",
     "exception": false,
     "start_time": "2025-08-19T18:57:21.656013",
     "status": "completed"
    },
    "tags": []
   },
   "outputs": [],
   "source": [
    "def filter_sub_universe_data(sub_universe, org_test):\n",
    "    # Keep all rows — no filtering\n",
    "    keep_rows_mask = np.ones(org_test.shape[0], dtype=bool)\n",
    "\n",
    "    print(f\"[INFO] Keeping all rows: {keep_rows_mask.sum()} rows retained.\")\n",
    "    return keep_rows_mask"
   ]
  },
  {
   "cell_type": "code",
   "execution_count": 64,
   "id": "2bc31ac1",
   "metadata": {
    "execution": {
     "iopub.execute_input": "2025-08-19T18:57:21.721736Z",
     "iopub.status.busy": "2025-08-19T18:57:21.720700Z",
     "iopub.status.idle": "2025-08-19T18:57:28.337179Z",
     "shell.execute_reply": "2025-08-19T18:57:28.336252Z"
    },
    "papermill": {
     "duration": 6.63403,
     "end_time": "2025-08-19T18:57:28.338441",
     "exception": false,
     "start_time": "2025-08-19T18:57:21.704411",
     "status": "completed"
    },
    "tags": []
   },
   "outputs": [
    {
     "name": "stdout",
     "output_type": "stream",
     "text": [
      "Stopping execution_time clock.\n",
      "[INFO] Keeping all rows: 89710 rows retained.\n"
     ]
    },
    {
     "name": "stdout",
     "output_type": "stream",
     "text": [
      "[INFO] Keeping all rows: 89710 rows retained.\n"
     ]
    },
    {
     "name": "stdout",
     "output_type": "stream",
     "text": [
      "[INFO] Keeping all rows: 89710 rows retained.\n"
     ]
    },
    {
     "name": "stdout",
     "output_type": "stream",
     "text": [
      "[INFO] Keeping all rows: 89710 rows retained.\n"
     ]
    },
    {
     "data": {
      "text/html": [
       "<div>\n",
       "<style scoped>\n",
       "    .dataframe tbody tr th:only-of-type {\n",
       "        vertical-align: middle;\n",
       "    }\n",
       "\n",
       "    .dataframe tbody tr th {\n",
       "        vertical-align: top;\n",
       "    }\n",
       "\n",
       "    .dataframe thead th {\n",
       "        text-align: right;\n",
       "    }\n",
       "</style>\n",
       "<table border=\"1\" class=\"dataframe\">\n",
       "  <thead>\n",
       "    <tr style=\"text-align: right;\">\n",
       "      <th></th>\n",
       "      <th>run_no</th>\n",
       "      <th>universe_id</th>\n",
       "      <th>universe_settings</th>\n",
       "      <th>execution_time</th>\n",
       "      <th>test_size_n</th>\n",
       "      <th>test_size_frac</th>\n",
       "      <th>fair_main_equalized_odds_difference</th>\n",
       "      <th>fair_main_equalized_odds_ratio</th>\n",
       "      <th>fair_main_demographic_parity_difference</th>\n",
       "      <th>fair_main_demographic_parity_ratio</th>\n",
       "      <th>...</th>\n",
       "      <th>perf_grp_precision_0</th>\n",
       "      <th>perf_grp_precision_1</th>\n",
       "      <th>perf_grp_false positive rate_0</th>\n",
       "      <th>perf_grp_false positive rate_1</th>\n",
       "      <th>perf_grp_false negative rate_0</th>\n",
       "      <th>perf_grp_false negative rate_1</th>\n",
       "      <th>perf_grp_selection rate_0</th>\n",
       "      <th>perf_grp_selection rate_1</th>\n",
       "      <th>perf_grp_count_0</th>\n",
       "      <th>perf_grp_count_1</th>\n",
       "    </tr>\n",
       "  </thead>\n",
       "  <tbody>\n",
       "    <tr>\n",
       "      <th>0</th>\n",
       "      <td>3</td>\n",
       "      <td>c6082ddcab5267734b2a65cc0523c0f4</td>\n",
       "      <td>{\"cutoff\": \"quantile_0.1\", \"eval_fairness_grou...</td>\n",
       "      <td>20.980217</td>\n",
       "      <td>89710</td>\n",
       "      <td>1.0</td>\n",
       "      <td>0.056340</td>\n",
       "      <td>0.939773</td>\n",
       "      <td>0.051461</td>\n",
       "      <td>0.945235</td>\n",
       "      <td>...</td>\n",
       "      <td>NaN</td>\n",
       "      <td>NaN</td>\n",
       "      <td>NaN</td>\n",
       "      <td>NaN</td>\n",
       "      <td>NaN</td>\n",
       "      <td>NaN</td>\n",
       "      <td>NaN</td>\n",
       "      <td>NaN</td>\n",
       "      <td>NaN</td>\n",
       "      <td>NaN</td>\n",
       "    </tr>\n",
       "    <tr>\n",
       "      <th>0</th>\n",
       "      <td>3</td>\n",
       "      <td>c6082ddcab5267734b2a65cc0523c0f4</td>\n",
       "      <td>{\"cutoff\": \"quantile_0.1\", \"eval_fairness_grou...</td>\n",
       "      <td>20.980217</td>\n",
       "      <td>89710</td>\n",
       "      <td>1.0</td>\n",
       "      <td>0.056340</td>\n",
       "      <td>0.939773</td>\n",
       "      <td>0.051461</td>\n",
       "      <td>0.945235</td>\n",
       "      <td>...</td>\n",
       "      <td>0.119268</td>\n",
       "      <td>0.141036</td>\n",
       "      <td>0.935450</td>\n",
       "      <td>0.879110</td>\n",
       "      <td>0.027872</td>\n",
       "      <td>0.051969</td>\n",
       "      <td>0.939679</td>\n",
       "      <td>0.888217</td>\n",
       "      <td>20540.0</td>\n",
       "      <td>69170.0</td>\n",
       "    </tr>\n",
       "    <tr>\n",
       "      <th>0</th>\n",
       "      <td>3</td>\n",
       "      <td>c6082ddcab5267734b2a65cc0523c0f4</td>\n",
       "      <td>{\"cutoff\": \"quantile_0.25\", \"eval_fairness_gro...</td>\n",
       "      <td>20.980217</td>\n",
       "      <td>89710</td>\n",
       "      <td>1.0</td>\n",
       "      <td>0.136629</td>\n",
       "      <td>0.836785</td>\n",
       "      <td>0.125598</td>\n",
       "      <td>0.851686</td>\n",
       "      <td>...</td>\n",
       "      <td>NaN</td>\n",
       "      <td>NaN</td>\n",
       "      <td>NaN</td>\n",
       "      <td>NaN</td>\n",
       "      <td>NaN</td>\n",
       "      <td>NaN</td>\n",
       "      <td>NaN</td>\n",
       "      <td>NaN</td>\n",
       "      <td>NaN</td>\n",
       "      <td>NaN</td>\n",
       "    </tr>\n",
       "    <tr>\n",
       "      <th>0</th>\n",
       "      <td>3</td>\n",
       "      <td>c6082ddcab5267734b2a65cc0523c0f4</td>\n",
       "      <td>{\"cutoff\": \"quantile_0.25\", \"eval_fairness_gro...</td>\n",
       "      <td>20.980217</td>\n",
       "      <td>89710</td>\n",
       "      <td>1.0</td>\n",
       "      <td>0.136629</td>\n",
       "      <td>0.836785</td>\n",
       "      <td>0.125598</td>\n",
       "      <td>0.851686</td>\n",
       "      <td>...</td>\n",
       "      <td>0.125446</td>\n",
       "      <td>0.157112</td>\n",
       "      <td>0.837112</td>\n",
       "      <td>0.700483</td>\n",
       "      <td>0.078547</td>\n",
       "      <td>0.142451</td>\n",
       "      <td>0.846835</td>\n",
       "      <td>0.721238</td>\n",
       "      <td>20540.0</td>\n",
       "      <td>69170.0</td>\n",
       "    </tr>\n",
       "  </tbody>\n",
       "</table>\n",
       "<p>4 rows × 50 columns</p>\n",
       "</div>"
      ],
      "text/plain": [
       "  run_no                       universe_id  \\\n",
       "0      3  c6082ddcab5267734b2a65cc0523c0f4   \n",
       "0      3  c6082ddcab5267734b2a65cc0523c0f4   \n",
       "0      3  c6082ddcab5267734b2a65cc0523c0f4   \n",
       "0      3  c6082ddcab5267734b2a65cc0523c0f4   \n",
       "\n",
       "                                   universe_settings  execution_time  \\\n",
       "0  {\"cutoff\": \"quantile_0.1\", \"eval_fairness_grou...       20.980217   \n",
       "0  {\"cutoff\": \"quantile_0.1\", \"eval_fairness_grou...       20.980217   \n",
       "0  {\"cutoff\": \"quantile_0.25\", \"eval_fairness_gro...       20.980217   \n",
       "0  {\"cutoff\": \"quantile_0.25\", \"eval_fairness_gro...       20.980217   \n",
       "\n",
       "   test_size_n  test_size_frac  fair_main_equalized_odds_difference  \\\n",
       "0        89710             1.0                             0.056340   \n",
       "0        89710             1.0                             0.056340   \n",
       "0        89710             1.0                             0.136629   \n",
       "0        89710             1.0                             0.136629   \n",
       "\n",
       "   fair_main_equalized_odds_ratio  fair_main_demographic_parity_difference  \\\n",
       "0                        0.939773                                 0.051461   \n",
       "0                        0.939773                                 0.051461   \n",
       "0                        0.836785                                 0.125598   \n",
       "0                        0.836785                                 0.125598   \n",
       "\n",
       "   fair_main_demographic_parity_ratio  ...  perf_grp_precision_0  \\\n",
       "0                            0.945235  ...                   NaN   \n",
       "0                            0.945235  ...              0.119268   \n",
       "0                            0.851686  ...                   NaN   \n",
       "0                            0.851686  ...              0.125446   \n",
       "\n",
       "   perf_grp_precision_1  perf_grp_false positive rate_0  \\\n",
       "0                   NaN                             NaN   \n",
       "0              0.141036                        0.935450   \n",
       "0                   NaN                             NaN   \n",
       "0              0.157112                        0.837112   \n",
       "\n",
       "   perf_grp_false positive rate_1  perf_grp_false negative rate_0  \\\n",
       "0                             NaN                             NaN   \n",
       "0                        0.879110                        0.027872   \n",
       "0                             NaN                             NaN   \n",
       "0                        0.700483                        0.078547   \n",
       "\n",
       "   perf_grp_false negative rate_1  perf_grp_selection rate_0  \\\n",
       "0                             NaN                        NaN   \n",
       "0                        0.051969                   0.939679   \n",
       "0                             NaN                        NaN   \n",
       "0                        0.142451                   0.846835   \n",
       "\n",
       "   perf_grp_selection rate_1  perf_grp_count_0  perf_grp_count_1  \n",
       "0                        NaN               NaN               NaN  \n",
       "0                   0.888217           20540.0           69170.0  \n",
       "0                        NaN               NaN               NaN  \n",
       "0                   0.721238           20540.0           69170.0  \n",
       "\n",
       "[4 rows x 50 columns]"
      ]
     },
     "execution_count": 64,
     "metadata": {},
     "output_type": "execute_result"
    }
   ],
   "source": [
    "final_output = universe_analysis.generate_final_output(\n",
    "    y_pred_prob=probs_test,\n",
    "    y_test=y_true,\n",
    "    org_test=org_test,\n",
    "    filter_data=filter_sub_universe_data,\n",
    "    cp_metrics_df=cp_metrics_df,\n",
    "    save=True,\n",
    ")\n",
    "final_output"
   ]
  },
  {
   "cell_type": "code",
   "execution_count": null,
   "id": "8b80a1ff",
   "metadata": {
    "papermill": {
     "duration": 0.021159,
     "end_time": "2025-08-19T18:57:28.385682",
     "exception": false,
     "start_time": "2025-08-19T18:57:28.364523",
     "status": "completed"
    },
    "tags": []
   },
   "outputs": [],
   "source": []
  },
  {
   "cell_type": "code",
   "execution_count": null,
   "id": "275c9fad",
   "metadata": {
    "papermill": {
     "duration": 0.018474,
     "end_time": "2025-08-19T18:57:28.423941",
     "exception": false,
     "start_time": "2025-08-19T18:57:28.405467",
     "status": "completed"
    },
    "tags": []
   },
   "outputs": [],
   "source": []
  }
 ],
 "metadata": {
  "celltoolbar": "Tags",
  "kernelspec": {
   "display_name": "Python (CMA Fairness)",
   "language": "python",
   "name": "cma_fair_env"
  },
  "language_info": {
   "codemirror_mode": {
    "name": "ipython",
    "version": 3
   },
   "file_extension": ".py",
   "mimetype": "text/x-python",
   "name": "python",
   "nbconvert_exporter": "python",
   "pygments_lexer": "ipython3",
   "version": "3.10.12"
  },
  "papermill": {
   "default_parameters": {},
   "duration": 31.433611,
   "end_time": "2025-08-19T18:57:29.282339",
   "environment_variables": {},
   "exception": null,
   "input_path": "universe_analysis.ipynb",
   "output_path": "output/runs/3/notebooks/m_3-c6082ddcab5267734b2a65cc0523c0f4.ipynb",
   "parameters": {
    "output_dir": "output",
    "run_no": "3",
    "seed": "2023",
    "universe": "{\"cutoff\": [\"quantile_0.1\", \"quantile_0.25\"], \"eval_fairness_grouping\": [\"majority-minority\", \"nationality-all\"], \"exclude_features\": \"nationality-sex\", \"exclude_subgroups\": \"drop-non-german\", \"model\": \"logreg\", \"scale\": \"scale\", \"training_size\": \"1k\", \"training_year\": \"2012_14\"}",
    "universe_id": "c6082ddcab5267734b2a65cc0523c0f4"
   },
   "start_time": "2025-08-19T18:56:57.848728",
   "version": "2.6.0"
  }
 },
 "nbformat": 4,
 "nbformat_minor": 5
}