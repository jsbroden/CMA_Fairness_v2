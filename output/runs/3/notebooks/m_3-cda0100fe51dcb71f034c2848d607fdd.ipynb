{
 "cells": [
  {
   "cell_type": "markdown",
   "id": "ef23dbb3",
   "metadata": {
    "papermill": {
     "duration": 0.009271,
     "end_time": "2025-08-19T18:55:16.671991",
     "exception": false,
     "start_time": "2025-08-19T18:55:16.662720",
     "status": "completed"
    },
    "tags": []
   },
   "source": [
    "# Setup"
   ]
  },
  {
   "cell_type": "code",
   "execution_count": 1,
   "id": "0bc8e7dc",
   "metadata": {
    "execution": {
     "iopub.execute_input": "2025-08-19T18:55:16.691156Z",
     "iopub.status.busy": "2025-08-19T18:55:16.690739Z",
     "iopub.status.idle": "2025-08-19T18:55:16.701788Z",
     "shell.execute_reply": "2025-08-19T18:55:16.700899Z"
    },
    "papermill": {
     "duration": 0.023517,
     "end_time": "2025-08-19T18:55:16.704356",
     "exception": false,
     "start_time": "2025-08-19T18:55:16.680839",
     "status": "completed"
    },
    "tags": []
   },
   "outputs": [
    {
     "name": "stdout",
     "output_type": "stream",
     "text": [
      "/dss/dsshome1/0C/ra93lal2/cma/CMA_Fairness_v2\n"
     ]
    },
    {
     "name": "stderr",
     "output_type": "stream",
     "text": [
      "/dss/dsshome1/0C/ra93lal2/.local/share/virtualenvs/CMA_Fairness_v2-3j10GkSs/lib/python3.10/site-packages/IPython/core/magics/osm.py:393: UserWarning: This is now an optional IPython functionality, using bookmarks requires you to install the `pickleshare` library.\n",
      "  bkms = self.shell.db.get('bookmarks', {})\n",
      "/dss/dsshome1/0C/ra93lal2/.local/share/virtualenvs/CMA_Fairness_v2-3j10GkSs/lib/python3.10/site-packages/IPython/core/magics/osm.py:417: UserWarning: This is now an optional IPython functionality, setting dhist requires you to install the `pickleshare` library.\n",
      "  self.shell.db['dhist'] = compress_dhist(dhist)[-100:]\n"
     ]
    }
   ],
   "source": [
    "%cd ~/cma/CMA_Fairness_v2"
   ]
  },
  {
   "cell_type": "markdown",
   "id": "9d235661",
   "metadata": {
    "papermill": {
     "duration": 0.009575,
     "end_time": "2025-08-19T18:55:16.723272",
     "exception": false,
     "start_time": "2025-08-19T18:55:16.713697",
     "status": "completed"
    },
    "tags": []
   },
   "source": [
    "The following cell holds the definition of our parameters, these values can be overriden by rendering the with e.g. the following command:\n",
    "\n",
    "papermill -p alpha 0.2 -p ratio 0.3 universe_analysis.ipynb output/test_run.ipynb"
   ]
  },
  {
   "cell_type": "code",
   "execution_count": 2,
   "id": "4a789d8e",
   "metadata": {
    "execution": {
     "iopub.execute_input": "2025-08-19T18:55:16.757759Z",
     "iopub.status.busy": "2025-08-19T18:55:16.756796Z",
     "iopub.status.idle": "2025-08-19T18:55:16.764410Z",
     "shell.execute_reply": "2025-08-19T18:55:16.763055Z"
    },
    "papermill": {
     "duration": 0.020404,
     "end_time": "2025-08-19T18:55:16.765821",
     "exception": false,
     "start_time": "2025-08-19T18:55:16.745417",
     "status": "completed"
    },
    "tags": []
   },
   "outputs": [
    {
     "name": "stdout",
     "output_type": "stream",
     "text": [
      "Current working directory: /dss/dsshome1/0C/ra93lal2/cma/CMA_Fairness_v2\n"
     ]
    }
   ],
   "source": [
    "import os\n",
    "print(\"Current working directory:\", os.getcwd())"
   ]
  },
  {
   "cell_type": "code",
   "execution_count": 3,
   "id": "4132aaed",
   "metadata": {
    "execution": {
     "iopub.execute_input": "2025-08-19T18:55:16.786687Z",
     "iopub.status.busy": "2025-08-19T18:55:16.785879Z",
     "iopub.status.idle": "2025-08-19T18:55:16.791501Z",
     "shell.execute_reply": "2025-08-19T18:55:16.790657Z"
    },
    "papermill": {
     "duration": 0.017403,
     "end_time": "2025-08-19T18:55:16.792700",
     "exception": false,
     "start_time": "2025-08-19T18:55:16.775297",
     "status": "completed"
    },
    "tags": [
     "parameters"
    ]
   },
   "outputs": [],
   "source": [
    "run_no = 0\n",
    "universe_id = \"test\"\n",
    "universe = {\n",
    "    \"training_size\": \"5k\", # \"25k\", \"5k\", \"1k\"\n",
    "    \"training_year\": \"2012_14\", # \"2014\", \"2012_14\", \"2010_14\"\n",
    "    \"scale\": \"scale\", # \"scale\", \"do-not-scale\",\n",
    "    \"model\": \"elasticnet\", # \"logreg\", \"penalized_logreg\", \"rf\", \"gbm\", \"elasticnet\"\n",
    "    \"cutoff\": [\"quantile_0.15\", \"quantile_0.30\"],\n",
    "    \"exclude_features\": \"age\", # \"none\", \"nationality\", \"sex\", \"nationality-sex\", \"age\"\n",
    "    \"exclude_subgroups\": \"drop-non-german\", # \"keep-all\", \"drop-non-german\"\n",
    "    \"eval_fairness_grouping\": [\"majority-minority\", \"nationality-all\"]\n",
    "}\n",
    "\n",
    "output_dir=\"./output\"\n",
    "seed=0"
   ]
  },
  {
   "cell_type": "code",
   "execution_count": 4,
   "id": "364a06cd",
   "metadata": {
    "execution": {
     "iopub.execute_input": "2025-08-19T18:55:16.830628Z",
     "iopub.status.busy": "2025-08-19T18:55:16.829488Z",
     "iopub.status.idle": "2025-08-19T18:55:16.838231Z",
     "shell.execute_reply": "2025-08-19T18:55:16.836588Z"
    },
    "papermill": {
     "duration": 0.022645,
     "end_time": "2025-08-19T18:55:16.839696",
     "exception": false,
     "start_time": "2025-08-19T18:55:16.817051",
     "status": "completed"
    },
    "tags": [
     "injected-parameters"
    ]
   },
   "outputs": [],
   "source": [
    "# Parameters\n",
    "universe_id = \"cda0100fe51dcb71f034c2848d607fdd\"\n",
    "run_no = \"3\"\n",
    "universe = \"{\\\"cutoff\\\": [\\\"quantile_0.1\\\", \\\"quantile_0.25\\\"], \\\"eval_fairness_grouping\\\": [\\\"majority-minority\\\", \\\"nationality-all\\\"], \\\"exclude_features\\\": \\\"sex\\\", \\\"exclude_subgroups\\\": \\\"keep-all\\\", \\\"model\\\": \\\"gbm\\\", \\\"scale\\\": \\\"do-not-scale\\\", \\\"training_size\\\": \\\"1k\\\", \\\"training_year\\\": \\\"2014\\\"}\"\n",
    "output_dir = \"output\"\n",
    "seed = \"2023\"\n"
   ]
  },
  {
   "cell_type": "code",
   "execution_count": 5,
   "id": "a5d7941f",
   "metadata": {
    "execution": {
     "iopub.execute_input": "2025-08-19T18:55:16.892966Z",
     "iopub.status.busy": "2025-08-19T18:55:16.880521Z",
     "iopub.status.idle": "2025-08-19T18:55:16.898284Z",
     "shell.execute_reply": "2025-08-19T18:55:16.897147Z"
    },
    "papermill": {
     "duration": 0.033793,
     "end_time": "2025-08-19T18:55:16.900057",
     "exception": false,
     "start_time": "2025-08-19T18:55:16.866264",
     "status": "completed"
    },
    "tags": []
   },
   "outputs": [],
   "source": [
    "import json\n",
    "if isinstance(universe, str):\n",
    "    universe = json.loads(universe)"
   ]
  },
  {
   "cell_type": "code",
   "execution_count": 6,
   "id": "7076ccb1",
   "metadata": {
    "execution": {
     "iopub.execute_input": "2025-08-19T18:55:16.924866Z",
     "iopub.status.busy": "2025-08-19T18:55:16.924529Z",
     "iopub.status.idle": "2025-08-19T18:55:16.970704Z",
     "shell.execute_reply": "2025-08-19T18:55:16.969943Z"
    },
    "papermill": {
     "duration": 0.058349,
     "end_time": "2025-08-19T18:55:16.972356",
     "exception": false,
     "start_time": "2025-08-19T18:55:16.914007",
     "status": "completed"
    },
    "tags": []
   },
   "outputs": [],
   "source": [
    "# Auto-reload the custom package\n",
    "%load_ext autoreload\n",
    "%autoreload 1\n",
    "%aimport fairness_multiverse"
   ]
  },
  {
   "cell_type": "code",
   "execution_count": 7,
   "id": "94c8eb93",
   "metadata": {
    "execution": {
     "iopub.execute_input": "2025-08-19T18:55:16.994273Z",
     "iopub.status.busy": "2025-08-19T18:55:16.993552Z",
     "iopub.status.idle": "2025-08-19T18:55:18.759481Z",
     "shell.execute_reply": "2025-08-19T18:55:18.758342Z"
    },
    "papermill": {
     "duration": 1.778993,
     "end_time": "2025-08-19T18:55:18.761148",
     "exception": false,
     "start_time": "2025-08-19T18:55:16.982155",
     "status": "completed"
    },
    "tags": []
   },
   "outputs": [],
   "source": [
    "from fairness_multiverse.universe import UniverseAnalysis\n",
    "\n",
    "universe_analysis = UniverseAnalysis(\n",
    "    run_no = run_no,\n",
    "    universe_id = universe_id,\n",
    "    universe = universe,\n",
    "    output_dir=output_dir,\n",
    ")"
   ]
  },
  {
   "cell_type": "code",
   "execution_count": 8,
   "id": "2a6381cf",
   "metadata": {
    "execution": {
     "iopub.execute_input": "2025-08-19T18:55:18.784643Z",
     "iopub.status.busy": "2025-08-19T18:55:18.784178Z",
     "iopub.status.idle": "2025-08-19T18:55:18.789794Z",
     "shell.execute_reply": "2025-08-19T18:55:18.788962Z"
    },
    "papermill": {
     "duration": 0.018632,
     "end_time": "2025-08-19T18:55:18.791528",
     "exception": false,
     "start_time": "2025-08-19T18:55:18.772896",
     "status": "completed"
    },
    "tags": []
   },
   "outputs": [
    {
     "name": "stdout",
     "output_type": "stream",
     "text": [
      "Using Seed: 2023\n"
     ]
    }
   ],
   "source": [
    "import numpy as np\n",
    "parsed_seed = int(seed)\n",
    "np.random.seed(parsed_seed)\n",
    "print(f\"Using Seed: {parsed_seed}\")"
   ]
  },
  {
   "cell_type": "markdown",
   "id": "b6e958b4",
   "metadata": {
    "papermill": {
     "duration": 0.010428,
     "end_time": "2025-08-19T18:55:18.811304",
     "exception": false,
     "start_time": "2025-08-19T18:55:18.800876",
     "status": "completed"
    },
    "tags": []
   },
   "source": [
    "# Loading Data"
   ]
  },
  {
   "cell_type": "code",
   "execution_count": 9,
   "id": "98701482",
   "metadata": {
    "execution": {
     "iopub.execute_input": "2025-08-19T18:55:18.833064Z",
     "iopub.status.busy": "2025-08-19T18:55:18.832606Z",
     "iopub.status.idle": "2025-08-19T18:55:28.928037Z",
     "shell.execute_reply": "2025-08-19T18:55:28.926160Z"
    },
    "papermill": {
     "duration": 10.109722,
     "end_time": "2025-08-19T18:55:28.931130",
     "exception": false,
     "start_time": "2025-08-19T18:55:18.821408",
     "status": "completed"
    },
    "tags": []
   },
   "outputs": [
    {
     "name": "stdout",
     "output_type": "stream",
     "text": [
      "Loading SIAB data from cache: data/siab_cached.csv.gz\n"
     ]
    },
    {
     "name": "stdout",
     "output_type": "stream",
     "text": [
      "(643690, 164)\n"
     ]
    }
   ],
   "source": [
    "from pathlib import Path\n",
    "import pandas as pd\n",
    "\n",
    "# File paths\n",
    "raw_file = Path(\"data/raw/siab.csv\")\n",
    "cache_file = Path(\"data/siab_cached.csv.gz\")\n",
    "\n",
    "# Ensure cache directory exists\n",
    "cache_file.parent.mkdir(parents=True, exist_ok=True)\n",
    "\n",
    "# Load with simple caching\n",
    "if cache_file.exists():\n",
    "    print(f\"Loading SIAB data from cache: {cache_file}\")\n",
    "    siab = pd.read_csv(cache_file, compression='gzip')\n",
    "else:\n",
    "    print(f\"Cache not found. Reading raw SIAB data: {raw_file}\")\n",
    "    siab = pd.read_csv(raw_file)\n",
    "    siab.to_csv(cache_file, index=False, compression='gzip')\n",
    "    print(f\"Cached SIAB data to: {cache_file}\")\n",
    "\n",
    "print(siab.shape)"
   ]
  },
  {
   "cell_type": "code",
   "execution_count": 10,
   "id": "058d2abb",
   "metadata": {
    "execution": {
     "iopub.execute_input": "2025-08-19T18:55:28.973190Z",
     "iopub.status.busy": "2025-08-19T18:55:28.971645Z",
     "iopub.status.idle": "2025-08-19T18:55:29.189319Z",
     "shell.execute_reply": "2025-08-19T18:55:29.188360Z"
    },
    "papermill": {
     "duration": 0.233238,
     "end_time": "2025-08-19T18:55:29.190967",
     "exception": false,
     "start_time": "2025-08-19T18:55:28.957729",
     "status": "completed"
    },
    "tags": []
   },
   "outputs": [
    {
     "data": {
      "text/html": [
       "<div>\n",
       "<style scoped>\n",
       "    .dataframe tbody tr th:only-of-type {\n",
       "        vertical-align: middle;\n",
       "    }\n",
       "\n",
       "    .dataframe tbody tr th {\n",
       "        vertical-align: top;\n",
       "    }\n",
       "\n",
       "    .dataframe thead th {\n",
       "        text-align: right;\n",
       "    }\n",
       "</style>\n",
       "<table border=\"1\" class=\"dataframe\">\n",
       "  <thead>\n",
       "    <tr style=\"text-align: right;\">\n",
       "      <th></th>\n",
       "      <th>persnr</th>\n",
       "      <th>year</th>\n",
       "      <th>nrEntry</th>\n",
       "      <th>ltue</th>\n",
       "      <th>employed_before</th>\n",
       "      <th>receipt_leh_before</th>\n",
       "      <th>receipt_lhg_before</th>\n",
       "      <th>se_before</th>\n",
       "      <th>ASU_notue_seeking_before</th>\n",
       "      <th>ASU_other_before</th>\n",
       "      <th>...</th>\n",
       "      <th>minijob_tot_dur_byage</th>\n",
       "      <th>ft_tot_dur_byage</th>\n",
       "      <th>befrist_tot_dur_byage</th>\n",
       "      <th>leih_tot_dur_byage</th>\n",
       "      <th>LHG_tot_dur_byage</th>\n",
       "      <th>LEH_tot_dur_byage</th>\n",
       "      <th>almp_tot_dur_byage</th>\n",
       "      <th>almp_aw_tot_dur_byage</th>\n",
       "      <th>se_tot_dur_byage</th>\n",
       "      <th>seeking1_tot_dur_byage</th>\n",
       "    </tr>\n",
       "  </thead>\n",
       "  <tbody>\n",
       "    <tr>\n",
       "      <th>0</th>\n",
       "      <td>7</td>\n",
       "      <td>2015</td>\n",
       "      <td>1</td>\n",
       "      <td>0</td>\n",
       "      <td>1</td>\n",
       "      <td>0</td>\n",
       "      <td>0</td>\n",
       "      <td>0</td>\n",
       "      <td>1</td>\n",
       "      <td>0</td>\n",
       "      <td>...</td>\n",
       "      <td>0.000000</td>\n",
       "      <td>0.000000</td>\n",
       "      <td>15.043478</td>\n",
       "      <td>0.000000</td>\n",
       "      <td>0.000000</td>\n",
       "      <td>0.000000</td>\n",
       "      <td>0.000000</td>\n",
       "      <td>0.000000</td>\n",
       "      <td>0.000000</td>\n",
       "      <td>0.000000</td>\n",
       "    </tr>\n",
       "    <tr>\n",
       "      <th>1</th>\n",
       "      <td>18</td>\n",
       "      <td>2010</td>\n",
       "      <td>1</td>\n",
       "      <td>1</td>\n",
       "      <td>0</td>\n",
       "      <td>0</td>\n",
       "      <td>0</td>\n",
       "      <td>0</td>\n",
       "      <td>0</td>\n",
       "      <td>0</td>\n",
       "      <td>...</td>\n",
       "      <td>0.000000</td>\n",
       "      <td>0.000000</td>\n",
       "      <td>0.000000</td>\n",
       "      <td>0.000000</td>\n",
       "      <td>0.000000</td>\n",
       "      <td>0.000000</td>\n",
       "      <td>0.000000</td>\n",
       "      <td>0.000000</td>\n",
       "      <td>0.000000</td>\n",
       "      <td>0.000000</td>\n",
       "    </tr>\n",
       "    <tr>\n",
       "      <th>2</th>\n",
       "      <td>18</td>\n",
       "      <td>2011</td>\n",
       "      <td>2</td>\n",
       "      <td>0</td>\n",
       "      <td>1</td>\n",
       "      <td>0</td>\n",
       "      <td>1</td>\n",
       "      <td>0</td>\n",
       "      <td>1</td>\n",
       "      <td>0</td>\n",
       "      <td>...</td>\n",
       "      <td>2.714286</td>\n",
       "      <td>2.714286</td>\n",
       "      <td>0.000000</td>\n",
       "      <td>0.000000</td>\n",
       "      <td>10.775510</td>\n",
       "      <td>0.000000</td>\n",
       "      <td>8.367347</td>\n",
       "      <td>0.000000</td>\n",
       "      <td>0.000000</td>\n",
       "      <td>9.836735</td>\n",
       "    </tr>\n",
       "    <tr>\n",
       "      <th>3</th>\n",
       "      <td>18</td>\n",
       "      <td>2012</td>\n",
       "      <td>3</td>\n",
       "      <td>0</td>\n",
       "      <td>1</td>\n",
       "      <td>0</td>\n",
       "      <td>1</td>\n",
       "      <td>0</td>\n",
       "      <td>1</td>\n",
       "      <td>0</td>\n",
       "      <td>...</td>\n",
       "      <td>4.200000</td>\n",
       "      <td>4.200000</td>\n",
       "      <td>0.000000</td>\n",
       "      <td>0.000000</td>\n",
       "      <td>12.100000</td>\n",
       "      <td>0.000000</td>\n",
       "      <td>9.400000</td>\n",
       "      <td>0.000000</td>\n",
       "      <td>0.000000</td>\n",
       "      <td>9.960000</td>\n",
       "    </tr>\n",
       "    <tr>\n",
       "      <th>4</th>\n",
       "      <td>18</td>\n",
       "      <td>2012</td>\n",
       "      <td>4</td>\n",
       "      <td>0</td>\n",
       "      <td>1</td>\n",
       "      <td>0</td>\n",
       "      <td>1</td>\n",
       "      <td>0</td>\n",
       "      <td>1</td>\n",
       "      <td>0</td>\n",
       "      <td>...</td>\n",
       "      <td>5.460000</td>\n",
       "      <td>5.460000</td>\n",
       "      <td>0.000000</td>\n",
       "      <td>0.000000</td>\n",
       "      <td>13.360000</td>\n",
       "      <td>0.000000</td>\n",
       "      <td>10.320000</td>\n",
       "      <td>0.000000</td>\n",
       "      <td>0.000000</td>\n",
       "      <td>10.280000</td>\n",
       "    </tr>\n",
       "    <tr>\n",
       "      <th>...</th>\n",
       "      <td>...</td>\n",
       "      <td>...</td>\n",
       "      <td>...</td>\n",
       "      <td>...</td>\n",
       "      <td>...</td>\n",
       "      <td>...</td>\n",
       "      <td>...</td>\n",
       "      <td>...</td>\n",
       "      <td>...</td>\n",
       "      <td>...</td>\n",
       "      <td>...</td>\n",
       "      <td>...</td>\n",
       "      <td>...</td>\n",
       "      <td>...</td>\n",
       "      <td>...</td>\n",
       "      <td>...</td>\n",
       "      <td>...</td>\n",
       "      <td>...</td>\n",
       "      <td>...</td>\n",
       "      <td>...</td>\n",
       "      <td>...</td>\n",
       "    </tr>\n",
       "    <tr>\n",
       "      <th>643685</th>\n",
       "      <td>1827860</td>\n",
       "      <td>2013</td>\n",
       "      <td>1</td>\n",
       "      <td>0</td>\n",
       "      <td>0</td>\n",
       "      <td>0</td>\n",
       "      <td>1</td>\n",
       "      <td>0</td>\n",
       "      <td>0</td>\n",
       "      <td>1</td>\n",
       "      <td>...</td>\n",
       "      <td>0.000000</td>\n",
       "      <td>0.000000</td>\n",
       "      <td>0.000000</td>\n",
       "      <td>0.000000</td>\n",
       "      <td>0.612903</td>\n",
       "      <td>0.000000</td>\n",
       "      <td>0.000000</td>\n",
       "      <td>0.000000</td>\n",
       "      <td>0.000000</td>\n",
       "      <td>0.000000</td>\n",
       "    </tr>\n",
       "    <tr>\n",
       "      <th>643686</th>\n",
       "      <td>1827860</td>\n",
       "      <td>2015</td>\n",
       "      <td>2</td>\n",
       "      <td>1</td>\n",
       "      <td>0</td>\n",
       "      <td>0</td>\n",
       "      <td>1</td>\n",
       "      <td>0</td>\n",
       "      <td>1</td>\n",
       "      <td>0</td>\n",
       "      <td>...</td>\n",
       "      <td>0.000000</td>\n",
       "      <td>0.000000</td>\n",
       "      <td>0.212121</td>\n",
       "      <td>0.212121</td>\n",
       "      <td>17.363636</td>\n",
       "      <td>0.000000</td>\n",
       "      <td>8.909091</td>\n",
       "      <td>0.000000</td>\n",
       "      <td>0.000000</td>\n",
       "      <td>7.121212</td>\n",
       "    </tr>\n",
       "    <tr>\n",
       "      <th>643687</th>\n",
       "      <td>1827860</td>\n",
       "      <td>2016</td>\n",
       "      <td>3</td>\n",
       "      <td>1</td>\n",
       "      <td>0</td>\n",
       "      <td>0</td>\n",
       "      <td>1</td>\n",
       "      <td>1</td>\n",
       "      <td>0</td>\n",
       "      <td>1</td>\n",
       "      <td>...</td>\n",
       "      <td>0.000000</td>\n",
       "      <td>0.000000</td>\n",
       "      <td>0.294118</td>\n",
       "      <td>0.205882</td>\n",
       "      <td>34.705882</td>\n",
       "      <td>0.000000</td>\n",
       "      <td>10.352941</td>\n",
       "      <td>1.705882</td>\n",
       "      <td>1.705882</td>\n",
       "      <td>23.911765</td>\n",
       "    </tr>\n",
       "    <tr>\n",
       "      <th>643688</th>\n",
       "      <td>1827869</td>\n",
       "      <td>2013</td>\n",
       "      <td>1</td>\n",
       "      <td>1</td>\n",
       "      <td>1</td>\n",
       "      <td>0</td>\n",
       "      <td>0</td>\n",
       "      <td>0</td>\n",
       "      <td>1</td>\n",
       "      <td>0</td>\n",
       "      <td>...</td>\n",
       "      <td>0.000000</td>\n",
       "      <td>0.000000</td>\n",
       "      <td>0.000000</td>\n",
       "      <td>0.000000</td>\n",
       "      <td>0.000000</td>\n",
       "      <td>0.525424</td>\n",
       "      <td>0.000000</td>\n",
       "      <td>0.000000</td>\n",
       "      <td>0.000000</td>\n",
       "      <td>0.000000</td>\n",
       "    </tr>\n",
       "    <tr>\n",
       "      <th>643689</th>\n",
       "      <td>1827869</td>\n",
       "      <td>2014</td>\n",
       "      <td>2</td>\n",
       "      <td>0</td>\n",
       "      <td>0</td>\n",
       "      <td>1</td>\n",
       "      <td>0</td>\n",
       "      <td>0</td>\n",
       "      <td>1</td>\n",
       "      <td>0</td>\n",
       "      <td>...</td>\n",
       "      <td>0.000000</td>\n",
       "      <td>0.666667</td>\n",
       "      <td>0.666667</td>\n",
       "      <td>0.000000</td>\n",
       "      <td>0.000000</td>\n",
       "      <td>8.950000</td>\n",
       "      <td>1.033333</td>\n",
       "      <td>0.083333</td>\n",
       "      <td>0.083333</td>\n",
       "      <td>8.133333</td>\n",
       "    </tr>\n",
       "  </tbody>\n",
       "</table>\n",
       "<p>643690 rows × 164 columns</p>\n",
       "</div>"
      ],
      "text/plain": [
       "         persnr  year  nrEntry  ltue  employed_before  receipt_leh_before  \\\n",
       "0             7  2015        1     0                1                   0   \n",
       "1            18  2010        1     1                0                   0   \n",
       "2            18  2011        2     0                1                   0   \n",
       "3            18  2012        3     0                1                   0   \n",
       "4            18  2012        4     0                1                   0   \n",
       "...         ...   ...      ...   ...              ...                 ...   \n",
       "643685  1827860  2013        1     0                0                   0   \n",
       "643686  1827860  2015        2     1                0                   0   \n",
       "643687  1827860  2016        3     1                0                   0   \n",
       "643688  1827869  2013        1     1                1                   0   \n",
       "643689  1827869  2014        2     0                0                   1   \n",
       "\n",
       "        receipt_lhg_before  se_before  ASU_notue_seeking_before  \\\n",
       "0                        0          0                         1   \n",
       "1                        0          0                         0   \n",
       "2                        1          0                         1   \n",
       "3                        1          0                         1   \n",
       "4                        1          0                         1   \n",
       "...                    ...        ...                       ...   \n",
       "643685                   1          0                         0   \n",
       "643686                   1          0                         1   \n",
       "643687                   1          1                         0   \n",
       "643688                   0          0                         1   \n",
       "643689                   0          0                         1   \n",
       "\n",
       "        ASU_other_before  ...  minijob_tot_dur_byage  ft_tot_dur_byage  \\\n",
       "0                      0  ...               0.000000          0.000000   \n",
       "1                      0  ...               0.000000          0.000000   \n",
       "2                      0  ...               2.714286          2.714286   \n",
       "3                      0  ...               4.200000          4.200000   \n",
       "4                      0  ...               5.460000          5.460000   \n",
       "...                  ...  ...                    ...               ...   \n",
       "643685                 1  ...               0.000000          0.000000   \n",
       "643686                 0  ...               0.000000          0.000000   \n",
       "643687                 1  ...               0.000000          0.000000   \n",
       "643688                 0  ...               0.000000          0.000000   \n",
       "643689                 0  ...               0.000000          0.666667   \n",
       "\n",
       "        befrist_tot_dur_byage  leih_tot_dur_byage  LHG_tot_dur_byage  \\\n",
       "0                   15.043478            0.000000           0.000000   \n",
       "1                    0.000000            0.000000           0.000000   \n",
       "2                    0.000000            0.000000          10.775510   \n",
       "3                    0.000000            0.000000          12.100000   \n",
       "4                    0.000000            0.000000          13.360000   \n",
       "...                       ...                 ...                ...   \n",
       "643685               0.000000            0.000000           0.612903   \n",
       "643686               0.212121            0.212121          17.363636   \n",
       "643687               0.294118            0.205882          34.705882   \n",
       "643688               0.000000            0.000000           0.000000   \n",
       "643689               0.666667            0.000000           0.000000   \n",
       "\n",
       "        LEH_tot_dur_byage  almp_tot_dur_byage  almp_aw_tot_dur_byage  \\\n",
       "0                0.000000            0.000000               0.000000   \n",
       "1                0.000000            0.000000               0.000000   \n",
       "2                0.000000            8.367347               0.000000   \n",
       "3                0.000000            9.400000               0.000000   \n",
       "4                0.000000           10.320000               0.000000   \n",
       "...                   ...                 ...                    ...   \n",
       "643685           0.000000            0.000000               0.000000   \n",
       "643686           0.000000            8.909091               0.000000   \n",
       "643687           0.000000           10.352941               1.705882   \n",
       "643688           0.525424            0.000000               0.000000   \n",
       "643689           8.950000            1.033333               0.083333   \n",
       "\n",
       "        se_tot_dur_byage  seeking1_tot_dur_byage  \n",
       "0               0.000000                0.000000  \n",
       "1               0.000000                0.000000  \n",
       "2               0.000000                9.836735  \n",
       "3               0.000000                9.960000  \n",
       "4               0.000000               10.280000  \n",
       "...                  ...                     ...  \n",
       "643685          0.000000                0.000000  \n",
       "643686          0.000000                7.121212  \n",
       "643687          1.705882               23.911765  \n",
       "643688          0.000000                0.000000  \n",
       "643689          0.083333                8.133333  \n",
       "\n",
       "[643690 rows x 164 columns]"
      ]
     },
     "execution_count": 10,
     "metadata": {},
     "output_type": "execute_result"
    }
   ],
   "source": [
    "siab"
   ]
  },
  {
   "cell_type": "markdown",
   "id": "1f87e805",
   "metadata": {
    "papermill": {
     "duration": 0.018273,
     "end_time": "2025-08-19T18:55:29.221175",
     "exception": false,
     "start_time": "2025-08-19T18:55:29.202902",
     "status": "completed"
    },
    "tags": []
   },
   "source": [
    "# Splitting Data and Setting Training Data Size"
   ]
  },
  {
   "cell_type": "code",
   "execution_count": 11,
   "id": "910ae358",
   "metadata": {
    "execution": {
     "iopub.execute_input": "2025-08-19T18:55:29.261075Z",
     "iopub.status.busy": "2025-08-19T18:55:29.260095Z",
     "iopub.status.idle": "2025-08-19T18:55:29.494685Z",
     "shell.execute_reply": "2025-08-19T18:55:29.493737Z"
    },
    "papermill": {
     "duration": 0.258063,
     "end_time": "2025-08-19T18:55:29.496521",
     "exception": false,
     "start_time": "2025-08-19T18:55:29.238458",
     "status": "completed"
    },
    "tags": []
   },
   "outputs": [],
   "source": [
    "from fairness_multiverse.universe import sample_by_year_size\n",
    "\n",
    "siab_train = sample_by_year_size(siab,\n",
    "                               training_year=universe[\"training_year\"],\n",
    "                               training_size=universe[\"training_size\"])"
   ]
  },
  {
   "cell_type": "code",
   "execution_count": 12,
   "id": "919c8ff5",
   "metadata": {
    "execution": {
     "iopub.execute_input": "2025-08-19T18:55:29.518797Z",
     "iopub.status.busy": "2025-08-19T18:55:29.518033Z",
     "iopub.status.idle": "2025-08-19T18:55:29.527681Z",
     "shell.execute_reply": "2025-08-19T18:55:29.526482Z"
    },
    "papermill": {
     "duration": 0.022454,
     "end_time": "2025-08-19T18:55:29.529381",
     "exception": false,
     "start_time": "2025-08-19T18:55:29.506927",
     "status": "completed"
    },
    "tags": []
   },
   "outputs": [
    {
     "data": {
      "text/plain": [
       "(1000, 164)"
      ]
     },
     "execution_count": 12,
     "metadata": {},
     "output_type": "execute_result"
    }
   ],
   "source": [
    "siab_train.shape"
   ]
  },
  {
   "cell_type": "code",
   "execution_count": 13,
   "id": "feb13bf4",
   "metadata": {
    "execution": {
     "iopub.execute_input": "2025-08-19T18:55:29.557547Z",
     "iopub.status.busy": "2025-08-19T18:55:29.556231Z",
     "iopub.status.idle": "2025-08-19T18:55:29.570897Z",
     "shell.execute_reply": "2025-08-19T18:55:29.569527Z"
    },
    "papermill": {
     "duration": 0.028272,
     "end_time": "2025-08-19T18:55:29.572721",
     "exception": false,
     "start_time": "2025-08-19T18:55:29.544449",
     "status": "completed"
    },
    "tags": []
   },
   "outputs": [
    {
     "data": {
      "text/plain": [
       "year\n",
       "2014    1000\n",
       "dtype: int64"
      ]
     },
     "metadata": {},
     "output_type": "display_data"
    }
   ],
   "source": [
    "display(siab_train.groupby(\"year\").size())"
   ]
  },
  {
   "cell_type": "code",
   "execution_count": 14,
   "id": "0997782f",
   "metadata": {
    "execution": {
     "iopub.execute_input": "2025-08-19T18:55:29.599505Z",
     "iopub.status.busy": "2025-08-19T18:55:29.598436Z",
     "iopub.status.idle": "2025-08-19T18:55:29.862467Z",
     "shell.execute_reply": "2025-08-19T18:55:29.861208Z"
    },
    "papermill": {
     "duration": 0.280026,
     "end_time": "2025-08-19T18:55:29.866221",
     "exception": false,
     "start_time": "2025-08-19T18:55:29.586195",
     "status": "completed"
    },
    "tags": []
   },
   "outputs": [],
   "source": [
    "#siab_train = siab_s[siab_s.year < 2015]\n",
    "siab_calib = siab[siab.year == 2015]\n",
    "siab_test = siab[siab.year == 2016]"
   ]
  },
  {
   "cell_type": "code",
   "execution_count": 15,
   "id": "2c1e4012",
   "metadata": {
    "execution": {
     "iopub.execute_input": "2025-08-19T18:55:29.904801Z",
     "iopub.status.busy": "2025-08-19T18:55:29.903408Z",
     "iopub.status.idle": "2025-08-19T18:55:29.910545Z",
     "shell.execute_reply": "2025-08-19T18:55:29.909177Z"
    },
    "papermill": {
     "duration": 0.023731,
     "end_time": "2025-08-19T18:55:29.912266",
     "exception": false,
     "start_time": "2025-08-19T18:55:29.888535",
     "status": "completed"
    },
    "tags": []
   },
   "outputs": [],
   "source": [
    "#siab_calib.shape"
   ]
  },
  {
   "cell_type": "code",
   "execution_count": 16,
   "id": "f66b54ca",
   "metadata": {
    "execution": {
     "iopub.execute_input": "2025-08-19T18:55:29.948941Z",
     "iopub.status.busy": "2025-08-19T18:55:29.935425Z",
     "iopub.status.idle": "2025-08-19T18:55:29.954489Z",
     "shell.execute_reply": "2025-08-19T18:55:29.953244Z"
    },
    "papermill": {
     "duration": 0.033629,
     "end_time": "2025-08-19T18:55:29.956953",
     "exception": false,
     "start_time": "2025-08-19T18:55:29.923324",
     "status": "completed"
    },
    "tags": []
   },
   "outputs": [],
   "source": [
    "#siab_test.shape"
   ]
  },
  {
   "cell_type": "code",
   "execution_count": 17,
   "id": "27e4384d",
   "metadata": {
    "execution": {
     "iopub.execute_input": "2025-08-19T18:55:29.984751Z",
     "iopub.status.busy": "2025-08-19T18:55:29.984310Z",
     "iopub.status.idle": "2025-08-19T18:55:29.990468Z",
     "shell.execute_reply": "2025-08-19T18:55:29.989550Z"
    },
    "papermill": {
     "duration": 0.019458,
     "end_time": "2025-08-19T18:55:29.992083",
     "exception": false,
     "start_time": "2025-08-19T18:55:29.972625",
     "status": "completed"
    },
    "tags": []
   },
   "outputs": [],
   "source": [
    "X_train = siab_train.iloc[:,4:164]\n",
    "y_train = siab_train.iloc[:, [3]]"
   ]
  },
  {
   "cell_type": "code",
   "execution_count": 18,
   "id": "08ee8389",
   "metadata": {
    "execution": {
     "iopub.execute_input": "2025-08-19T18:55:30.014825Z",
     "iopub.status.busy": "2025-08-19T18:55:30.014425Z",
     "iopub.status.idle": "2025-08-19T18:55:30.069766Z",
     "shell.execute_reply": "2025-08-19T18:55:30.068744Z"
    },
    "papermill": {
     "duration": 0.068085,
     "end_time": "2025-08-19T18:55:30.071179",
     "exception": false,
     "start_time": "2025-08-19T18:55:30.003094",
     "status": "completed"
    },
    "tags": []
   },
   "outputs": [],
   "source": [
    "X_calib = siab_calib.iloc[:,4:164]\n",
    "y_calib = siab_calib.iloc[:, [3]]"
   ]
  },
  {
   "cell_type": "code",
   "execution_count": 19,
   "id": "b7ff42e0",
   "metadata": {
    "execution": {
     "iopub.execute_input": "2025-08-19T18:55:30.108919Z",
     "iopub.status.busy": "2025-08-19T18:55:30.093505Z",
     "iopub.status.idle": "2025-08-19T18:55:30.164889Z",
     "shell.execute_reply": "2025-08-19T18:55:30.163916Z"
    },
    "papermill": {
     "duration": 0.084051,
     "end_time": "2025-08-19T18:55:30.166110",
     "exception": false,
     "start_time": "2025-08-19T18:55:30.082059",
     "status": "completed"
    },
    "tags": []
   },
   "outputs": [],
   "source": [
    "X_test = siab_test.iloc[:,4:164]\n",
    "y_true = siab_test.iloc[:, [3]]"
   ]
  },
  {
   "cell_type": "code",
   "execution_count": 20,
   "id": "0275101e",
   "metadata": {
    "execution": {
     "iopub.execute_input": "2025-08-19T18:55:30.206332Z",
     "iopub.status.busy": "2025-08-19T18:55:30.192264Z",
     "iopub.status.idle": "2025-08-19T18:55:30.319929Z",
     "shell.execute_reply": "2025-08-19T18:55:30.319105Z"
    },
    "papermill": {
     "duration": 0.144664,
     "end_time": "2025-08-19T18:55:30.321706",
     "exception": false,
     "start_time": "2025-08-19T18:55:30.177042",
     "status": "completed"
    },
    "tags": []
   },
   "outputs": [],
   "source": [
    "# Auxiliary data needed downstream in the pipeline\n",
    "\n",
    "org_train = X_train.copy()\n",
    "org_test = X_test.copy()\n",
    "org_calib = X_calib.copy()"
   ]
  },
  {
   "cell_type": "markdown",
   "id": "b461e618",
   "metadata": {
    "papermill": {
     "duration": 0.010415,
     "end_time": "2025-08-19T18:55:30.343052",
     "exception": false,
     "start_time": "2025-08-19T18:55:30.332637",
     "status": "completed"
    },
    "tags": []
   },
   "source": [
    "# Preprocessing Data"
   ]
  },
  {
   "cell_type": "code",
   "execution_count": 21,
   "id": "78e74c4b",
   "metadata": {
    "execution": {
     "iopub.execute_input": "2025-08-19T18:55:30.366633Z",
     "iopub.status.busy": "2025-08-19T18:55:30.365910Z",
     "iopub.status.idle": "2025-08-19T18:55:30.375816Z",
     "shell.execute_reply": "2025-08-19T18:55:30.374502Z"
    },
    "papermill": {
     "duration": 0.024055,
     "end_time": "2025-08-19T18:55:30.377405",
     "exception": false,
     "start_time": "2025-08-19T18:55:30.353350",
     "status": "completed"
    },
    "tags": []
   },
   "outputs": [],
   "source": [
    "# EXCLUDE PROTECTED FEATURES\n",
    "# --------------------------\n",
    "\n",
    "excluded_features = universe[\"exclude_features\"].split(\"-\")\n",
    "excluded_features_dictionary = {\n",
    "    \"nationality\": [\"maxdeutsch1\", \"maxdeutsch.Missing.\"],\n",
    "    \"sex\": [\"frau1\"],\n",
    "    \"age\": [\"age\"],\n",
    "}"
   ]
  },
  {
   "cell_type": "code",
   "execution_count": 22,
   "id": "f8e63555",
   "metadata": {
    "execution": {
     "iopub.execute_input": "2025-08-19T18:55:30.404540Z",
     "iopub.status.busy": "2025-08-19T18:55:30.403800Z",
     "iopub.status.idle": "2025-08-19T18:55:30.411786Z",
     "shell.execute_reply": "2025-08-19T18:55:30.410389Z"
    },
    "papermill": {
     "duration": 0.023159,
     "end_time": "2025-08-19T18:55:30.413779",
     "exception": false,
     "start_time": "2025-08-19T18:55:30.390620",
     "status": "completed"
    },
    "tags": []
   },
   "outputs": [],
   "source": [
    "excluded_features_columns = [\n",
    "    excluded_features_dictionary[f] for f in excluded_features if len(f) > 0 and f != \"none\"\n",
    "]"
   ]
  },
  {
   "cell_type": "code",
   "execution_count": 23,
   "id": "da781f7c",
   "metadata": {
    "execution": {
     "iopub.execute_input": "2025-08-19T18:55:30.439653Z",
     "iopub.status.busy": "2025-08-19T18:55:30.438975Z",
     "iopub.status.idle": "2025-08-19T18:55:30.449082Z",
     "shell.execute_reply": "2025-08-19T18:55:30.447763Z"
    },
    "papermill": {
     "duration": 0.026583,
     "end_time": "2025-08-19T18:55:30.452865",
     "exception": false,
     "start_time": "2025-08-19T18:55:30.426282",
     "status": "completed"
    },
    "tags": []
   },
   "outputs": [],
   "source": [
    "from fairness_multiverse.universe import flatten_once\n",
    "\n",
    "excluded_features_columns = flatten_once(excluded_features_columns)"
   ]
  },
  {
   "cell_type": "code",
   "execution_count": 24,
   "id": "37fef0f0",
   "metadata": {
    "execution": {
     "iopub.execute_input": "2025-08-19T18:55:30.484501Z",
     "iopub.status.busy": "2025-08-19T18:55:30.484171Z",
     "iopub.status.idle": "2025-08-19T18:55:30.493158Z",
     "shell.execute_reply": "2025-08-19T18:55:30.491865Z"
    },
    "papermill": {
     "duration": 0.027705,
     "end_time": "2025-08-19T18:55:30.499797",
     "exception": false,
     "start_time": "2025-08-19T18:55:30.472092",
     "status": "completed"
    },
    "tags": []
   },
   "outputs": [
    {
     "name": "stdout",
     "output_type": "stream",
     "text": [
      "Dropping features: ['frau1']\n"
     ]
    }
   ],
   "source": [
    "if len(excluded_features_columns) > 0:\n",
    "    print(f\"Dropping features: {excluded_features_columns}\")\n",
    "    X_train.drop(excluded_features_columns, axis=1, inplace=True)"
   ]
  },
  {
   "cell_type": "code",
   "execution_count": 25,
   "id": "d029e3e9",
   "metadata": {
    "execution": {
     "iopub.execute_input": "2025-08-19T18:55:30.527139Z",
     "iopub.status.busy": "2025-08-19T18:55:30.526812Z",
     "iopub.status.idle": "2025-08-19T18:55:30.578916Z",
     "shell.execute_reply": "2025-08-19T18:55:30.577959Z"
    },
    "papermill": {
     "duration": 0.065045,
     "end_time": "2025-08-19T18:55:30.580435",
     "exception": false,
     "start_time": "2025-08-19T18:55:30.515390",
     "status": "completed"
    },
    "tags": []
   },
   "outputs": [
    {
     "name": "stdout",
     "output_type": "stream",
     "text": [
      "Dropping features: ['frau1']\n"
     ]
    }
   ],
   "source": [
    "if len(excluded_features_columns) > 0:\n",
    "    print(f\"Dropping features: {excluded_features_columns}\")\n",
    "    X_test.drop(excluded_features_columns, axis=1, inplace=True)"
   ]
  },
  {
   "cell_type": "code",
   "execution_count": 26,
   "id": "01d571f0",
   "metadata": {
    "execution": {
     "iopub.execute_input": "2025-08-19T18:55:30.609942Z",
     "iopub.status.busy": "2025-08-19T18:55:30.609624Z",
     "iopub.status.idle": "2025-08-19T18:55:30.658641Z",
     "shell.execute_reply": "2025-08-19T18:55:30.657635Z"
    },
    "papermill": {
     "duration": 0.06674,
     "end_time": "2025-08-19T18:55:30.661710",
     "exception": false,
     "start_time": "2025-08-19T18:55:30.594970",
     "status": "completed"
    },
    "tags": []
   },
   "outputs": [
    {
     "name": "stdout",
     "output_type": "stream",
     "text": [
      "Dropping features: ['frau1']\n"
     ]
    }
   ],
   "source": [
    "if len(excluded_features_columns) > 0:\n",
    "    print(f\"Dropping features: {excluded_features_columns}\")\n",
    "    X_calib.drop(excluded_features_columns, axis=1, inplace=True)"
   ]
  },
  {
   "cell_type": "code",
   "execution_count": 27,
   "id": "3037356e",
   "metadata": {
    "execution": {
     "iopub.execute_input": "2025-08-19T18:55:30.724590Z",
     "iopub.status.busy": "2025-08-19T18:55:30.722925Z",
     "iopub.status.idle": "2025-08-19T18:55:30.737958Z",
     "shell.execute_reply": "2025-08-19T18:55:30.732022Z"
    },
    "papermill": {
     "duration": 0.052538,
     "end_time": "2025-08-19T18:55:30.740850",
     "exception": false,
     "start_time": "2025-08-19T18:55:30.688312",
     "status": "completed"
    },
    "tags": []
   },
   "outputs": [],
   "source": [
    "# EXCLUDE CERTAIN SUBGROUPS\n",
    "# -------------------------\n",
    "\n",
    "mode = universe.get(\"exclude_subgroups\", \"keep-all\") # Defaults to \"keep-all\" if the key is missing."
   ]
  },
  {
   "cell_type": "code",
   "execution_count": 28,
   "id": "9d1e63fd",
   "metadata": {
    "execution": {
     "iopub.execute_input": "2025-08-19T18:55:30.781828Z",
     "iopub.status.busy": "2025-08-19T18:55:30.781424Z",
     "iopub.status.idle": "2025-08-19T18:55:30.788699Z",
     "shell.execute_reply": "2025-08-19T18:55:30.787657Z"
    },
    "papermill": {
     "duration": 0.022188,
     "end_time": "2025-08-19T18:55:30.790089",
     "exception": false,
     "start_time": "2025-08-19T18:55:30.767901",
     "status": "completed"
    },
    "tags": []
   },
   "outputs": [],
   "source": [
    "if mode == \"keep-all\":\n",
    "    keep_mask = pd.Series(True, index=org_train.index)\n",
    "\n",
    "elif mode == \"drop-non-german\":\n",
    "    keep_mask = (org_train[\"maxdeutsch1\"] == 1) & (org_train[\"maxdeutsch.Missing.\"] == 0)\n",
    "\n",
    "else:\n",
    "    raise ValueError(f\"Unsupported mode for exclude_subgroups: {mode}\")"
   ]
  },
  {
   "cell_type": "code",
   "execution_count": 29,
   "id": "d3b65474",
   "metadata": {
    "execution": {
     "iopub.execute_input": "2025-08-19T18:55:30.815487Z",
     "iopub.status.busy": "2025-08-19T18:55:30.814754Z",
     "iopub.status.idle": "2025-08-19T18:55:30.832664Z",
     "shell.execute_reply": "2025-08-19T18:55:30.822779Z"
    },
    "papermill": {
     "duration": 0.033184,
     "end_time": "2025-08-19T18:55:30.835080",
     "exception": false,
     "start_time": "2025-08-19T18:55:30.801896",
     "status": "completed"
    },
    "tags": []
   },
   "outputs": [],
   "source": [
    "n_drop = (~keep_mask).sum() # Calculates how many rows are set to be dropped\n",
    "if n_drop > 0:\n",
    "    pct = n_drop / len(keep_mask) * 100\n",
    "    print(f\"Dropping {n_drop} rows ({pct:.2f}%) where mode='{mode}'\")"
   ]
  },
  {
   "cell_type": "code",
   "execution_count": 30,
   "id": "f44389b3",
   "metadata": {
    "execution": {
     "iopub.execute_input": "2025-08-19T18:55:30.871259Z",
     "iopub.status.busy": "2025-08-19T18:55:30.870932Z",
     "iopub.status.idle": "2025-08-19T18:55:30.876773Z",
     "shell.execute_reply": "2025-08-19T18:55:30.875858Z"
    },
    "papermill": {
     "duration": 0.024724,
     "end_time": "2025-08-19T18:55:30.880418",
     "exception": false,
     "start_time": "2025-08-19T18:55:30.855694",
     "status": "completed"
    },
    "tags": []
   },
   "outputs": [],
   "source": [
    "X_train = X_train[keep_mask]"
   ]
  },
  {
   "cell_type": "code",
   "execution_count": 31,
   "id": "ceca8c2a",
   "metadata": {
    "execution": {
     "iopub.execute_input": "2025-08-19T18:55:30.921923Z",
     "iopub.status.busy": "2025-08-19T18:55:30.921212Z",
     "iopub.status.idle": "2025-08-19T18:55:30.929389Z",
     "shell.execute_reply": "2025-08-19T18:55:30.928019Z"
    },
    "papermill": {
     "duration": 0.024381,
     "end_time": "2025-08-19T18:55:30.930827",
     "exception": false,
     "start_time": "2025-08-19T18:55:30.906446",
     "status": "completed"
    },
    "tags": []
   },
   "outputs": [],
   "source": [
    "y_train = y_train[keep_mask]"
   ]
  },
  {
   "cell_type": "markdown",
   "id": "04d31e2f",
   "metadata": {
    "papermill": {
     "duration": 0.030576,
     "end_time": "2025-08-19T18:55:30.974679",
     "exception": false,
     "start_time": "2025-08-19T18:55:30.944103",
     "status": "completed"
    },
    "tags": []
   },
   "source": [
    "# Model Training"
   ]
  },
  {
   "cell_type": "code",
   "execution_count": 32,
   "id": "db991733",
   "metadata": {
    "execution": {
     "iopub.execute_input": "2025-08-19T18:55:31.004374Z",
     "iopub.status.busy": "2025-08-19T18:55:31.004052Z",
     "iopub.status.idle": "2025-08-19T18:55:31.097379Z",
     "shell.execute_reply": "2025-08-19T18:55:31.096429Z"
    },
    "papermill": {
     "duration": 0.107412,
     "end_time": "2025-08-19T18:55:31.099207",
     "exception": false,
     "start_time": "2025-08-19T18:55:30.991795",
     "status": "completed"
    },
    "tags": []
   },
   "outputs": [],
   "source": [
    "from sklearn.linear_model import LogisticRegression\n",
    "from sklearn.ensemble import GradientBoostingClassifier, RandomForestClassifier\n",
    "\n",
    "if (universe[\"model\"] == \"logreg\"):\n",
    "    model = LogisticRegression() #penalty=\"none\", solver=\"newton-cg\", max_iter=1)\n",
    "elif (universe[\"model\"] == \"penalized_logreg\"):\n",
    "    model = LogisticRegression(penalty=\"l2\", C=0.1) #, solver=\"newton-cg\", max_iter=1)\n",
    "elif (universe[\"model\"] == \"rf\"):\n",
    "    model = RandomForestClassifier() # n_estimators=100, n_jobs=-1\n",
    "elif (universe[\"model\"] == \"gbm\"):\n",
    "    model = GradientBoostingClassifier()\n",
    "elif (universe[\"model\"] == \"elasticnet\"):\n",
    "    model = LogisticRegression(penalty = 'elasticnet', solver = 'saga', l1_ratio = 0.5) # max_iter=5000\n",
    "else:\n",
    "    raise \"Unsupported universe.model\""
   ]
  },
  {
   "cell_type": "code",
   "execution_count": 33,
   "id": "a4b5cd25",
   "metadata": {
    "execution": {
     "iopub.execute_input": "2025-08-19T18:55:31.124912Z",
     "iopub.status.busy": "2025-08-19T18:55:31.123740Z",
     "iopub.status.idle": "2025-08-19T18:55:31.145270Z",
     "shell.execute_reply": "2025-08-19T18:55:31.143248Z"
    },
    "papermill": {
     "duration": 0.038956,
     "end_time": "2025-08-19T18:55:31.149754",
     "exception": false,
     "start_time": "2025-08-19T18:55:31.110798",
     "status": "completed"
    },
    "tags": []
   },
   "outputs": [],
   "source": [
    "from sklearn.pipeline import Pipeline\n",
    "from sklearn.preprocessing import StandardScaler\n",
    "\n",
    "model = Pipeline([\n",
    "    #(\"continuous_processor\", continuous_processor),\n",
    "    #(\"categorical_preprocessor\", categorical_preprocessor),\n",
    "    (\"scale\", StandardScaler() if universe[\"scale\"] == \"scale\" else None), \n",
    "    (\"model\", model),\n",
    "])"
   ]
  },
  {
   "cell_type": "code",
   "execution_count": 34,
   "id": "283a904d",
   "metadata": {
    "execution": {
     "iopub.execute_input": "2025-08-19T18:55:31.187437Z",
     "iopub.status.busy": "2025-08-19T18:55:31.186713Z",
     "iopub.status.idle": "2025-08-19T18:55:32.092130Z",
     "shell.execute_reply": "2025-08-19T18:55:32.090937Z"
    },
    "papermill": {
     "duration": 0.920244,
     "end_time": "2025-08-19T18:55:32.093806",
     "exception": false,
     "start_time": "2025-08-19T18:55:31.173562",
     "status": "completed"
    },
    "tags": []
   },
   "outputs": [
    {
     "data": {
      "text/html": [
       "<style>#sk-container-id-1 {color: black;background-color: white;}#sk-container-id-1 pre{padding: 0;}#sk-container-id-1 div.sk-toggleable {background-color: white;}#sk-container-id-1 label.sk-toggleable__label {cursor: pointer;display: block;width: 100%;margin-bottom: 0;padding: 0.3em;box-sizing: border-box;text-align: center;}#sk-container-id-1 label.sk-toggleable__label-arrow:before {content: \"▸\";float: left;margin-right: 0.25em;color: #696969;}#sk-container-id-1 label.sk-toggleable__label-arrow:hover:before {color: black;}#sk-container-id-1 div.sk-estimator:hover label.sk-toggleable__label-arrow:before {color: black;}#sk-container-id-1 div.sk-toggleable__content {max-height: 0;max-width: 0;overflow: hidden;text-align: left;background-color: #f0f8ff;}#sk-container-id-1 div.sk-toggleable__content pre {margin: 0.2em;color: black;border-radius: 0.25em;background-color: #f0f8ff;}#sk-container-id-1 input.sk-toggleable__control:checked~div.sk-toggleable__content {max-height: 200px;max-width: 100%;overflow: auto;}#sk-container-id-1 input.sk-toggleable__control:checked~label.sk-toggleable__label-arrow:before {content: \"▾\";}#sk-container-id-1 div.sk-estimator input.sk-toggleable__control:checked~label.sk-toggleable__label {background-color: #d4ebff;}#sk-container-id-1 div.sk-label input.sk-toggleable__control:checked~label.sk-toggleable__label {background-color: #d4ebff;}#sk-container-id-1 input.sk-hidden--visually {border: 0;clip: rect(1px 1px 1px 1px);clip: rect(1px, 1px, 1px, 1px);height: 1px;margin: -1px;overflow: hidden;padding: 0;position: absolute;width: 1px;}#sk-container-id-1 div.sk-estimator {font-family: monospace;background-color: #f0f8ff;border: 1px dotted black;border-radius: 0.25em;box-sizing: border-box;margin-bottom: 0.5em;}#sk-container-id-1 div.sk-estimator:hover {background-color: #d4ebff;}#sk-container-id-1 div.sk-parallel-item::after {content: \"\";width: 100%;border-bottom: 1px solid gray;flex-grow: 1;}#sk-container-id-1 div.sk-label:hover label.sk-toggleable__label {background-color: #d4ebff;}#sk-container-id-1 div.sk-serial::before {content: \"\";position: absolute;border-left: 1px solid gray;box-sizing: border-box;top: 0;bottom: 0;left: 50%;z-index: 0;}#sk-container-id-1 div.sk-serial {display: flex;flex-direction: column;align-items: center;background-color: white;padding-right: 0.2em;padding-left: 0.2em;position: relative;}#sk-container-id-1 div.sk-item {position: relative;z-index: 1;}#sk-container-id-1 div.sk-parallel {display: flex;align-items: stretch;justify-content: center;background-color: white;position: relative;}#sk-container-id-1 div.sk-item::before, #sk-container-id-1 div.sk-parallel-item::before {content: \"\";position: absolute;border-left: 1px solid gray;box-sizing: border-box;top: 0;bottom: 0;left: 50%;z-index: -1;}#sk-container-id-1 div.sk-parallel-item {display: flex;flex-direction: column;z-index: 1;position: relative;background-color: white;}#sk-container-id-1 div.sk-parallel-item:first-child::after {align-self: flex-end;width: 50%;}#sk-container-id-1 div.sk-parallel-item:last-child::after {align-self: flex-start;width: 50%;}#sk-container-id-1 div.sk-parallel-item:only-child::after {width: 0;}#sk-container-id-1 div.sk-dashed-wrapped {border: 1px dashed gray;margin: 0 0.4em 0.5em 0.4em;box-sizing: border-box;padding-bottom: 0.4em;background-color: white;}#sk-container-id-1 div.sk-label label {font-family: monospace;font-weight: bold;display: inline-block;line-height: 1.2em;}#sk-container-id-1 div.sk-label-container {text-align: center;}#sk-container-id-1 div.sk-container {/* jupyter's `normalize.less` sets `[hidden] { display: none; }` but bootstrap.min.css set `[hidden] { display: none !important; }` so we also need the `!important` here to be able to override the default hidden behavior on the sphinx rendered scikit-learn.org. See: https://github.com/scikit-learn/scikit-learn/issues/21755 */display: inline-block !important;position: relative;}#sk-container-id-1 div.sk-text-repr-fallback {display: none;}</style><div id=\"sk-container-id-1\" class=\"sk-top-container\"><div class=\"sk-text-repr-fallback\"><pre>Pipeline(steps=[(&#x27;scale&#x27;, None), (&#x27;model&#x27;, GradientBoostingClassifier())])</pre><b>In a Jupyter environment, please rerun this cell to show the HTML representation or trust the notebook. <br />On GitHub, the HTML representation is unable to render, please try loading this page with nbviewer.org.</b></div><div class=\"sk-container\" hidden><div class=\"sk-item sk-dashed-wrapped\"><div class=\"sk-label-container\"><div class=\"sk-label sk-toggleable\"><input class=\"sk-toggleable__control sk-hidden--visually\" id=\"sk-estimator-id-1\" type=\"checkbox\" ><label for=\"sk-estimator-id-1\" class=\"sk-toggleable__label sk-toggleable__label-arrow\">Pipeline</label><div class=\"sk-toggleable__content\"><pre>Pipeline(steps=[(&#x27;scale&#x27;, None), (&#x27;model&#x27;, GradientBoostingClassifier())])</pre></div></div></div><div class=\"sk-serial\"><div class=\"sk-item\"><div class=\"sk-estimator sk-toggleable\"><input class=\"sk-toggleable__control sk-hidden--visually\" id=\"sk-estimator-id-2\" type=\"checkbox\" ><label for=\"sk-estimator-id-2\" class=\"sk-toggleable__label sk-toggleable__label-arrow\">None</label><div class=\"sk-toggleable__content\"><pre>None</pre></div></div></div><div class=\"sk-item\"><div class=\"sk-estimator sk-toggleable\"><input class=\"sk-toggleable__control sk-hidden--visually\" id=\"sk-estimator-id-3\" type=\"checkbox\" ><label for=\"sk-estimator-id-3\" class=\"sk-toggleable__label sk-toggleable__label-arrow\">GradientBoostingClassifier</label><div class=\"sk-toggleable__content\"><pre>GradientBoostingClassifier()</pre></div></div></div></div></div></div></div>"
      ],
      "text/plain": [
       "Pipeline(steps=[('scale', None), ('model', GradientBoostingClassifier())])"
      ]
     },
     "execution_count": 34,
     "metadata": {},
     "output_type": "execute_result"
    }
   ],
   "source": [
    "model.fit(X_train, y_train.values.ravel())"
   ]
  },
  {
   "cell_type": "code",
   "execution_count": 35,
   "id": "6e15e313",
   "metadata": {
    "execution": {
     "iopub.execute_input": "2025-08-19T18:55:32.121469Z",
     "iopub.status.busy": "2025-08-19T18:55:32.120043Z",
     "iopub.status.idle": "2025-08-19T18:55:32.666653Z",
     "shell.execute_reply": "2025-08-19T18:55:32.665493Z"
    },
    "papermill": {
     "duration": 0.562255,
     "end_time": "2025-08-19T18:55:32.668140",
     "exception": false,
     "start_time": "2025-08-19T18:55:32.105885",
     "status": "completed"
    },
    "tags": []
   },
   "outputs": [
    {
     "data": {
      "text/plain": [
       "0.8502731022182588"
      ]
     },
     "execution_count": 35,
     "metadata": {},
     "output_type": "execute_result"
    }
   ],
   "source": [
    "from fairness_multiverse.universe import predict_w_threshold\n",
    "\n",
    "probs_test = model.predict_proba(X_test)\n",
    "\n",
    "'''\n",
    "Below code returns a boolean array (or binary 0/1 array depending on how it’s used) where each element \n",
    "is True if the probability of class 1 is greater than or equal to the threshold, and False otherwise.\n",
    "'''\n",
    "y_pred_default = predict_w_threshold(probs_test, 0.5)\n",
    "\n",
    "from sklearn.metrics import accuracy_score\n",
    "\n",
    "# Naive prediction\n",
    "accuracy_score(y_true = y_true, y_pred = y_pred_default)"
   ]
  },
  {
   "cell_type": "code",
   "execution_count": 36,
   "id": "6f14067c",
   "metadata": {
    "execution": {
     "iopub.execute_input": "2025-08-19T18:55:32.699397Z",
     "iopub.status.busy": "2025-08-19T18:55:32.698248Z",
     "iopub.status.idle": "2025-08-19T18:55:33.256239Z",
     "shell.execute_reply": "2025-08-19T18:55:33.255057Z"
    },
    "papermill": {
     "duration": 0.574076,
     "end_time": "2025-08-19T18:55:33.258135",
     "exception": false,
     "start_time": "2025-08-19T18:55:32.684059",
     "status": "completed"
    },
    "tags": []
   },
   "outputs": [
    {
     "data": {
      "text/plain": [
       "array([0, 0, 0, ..., 0, 0, 0])"
      ]
     },
     "execution_count": 36,
     "metadata": {},
     "output_type": "execute_result"
    }
   ],
   "source": [
    "model.predict(X_test)"
   ]
  },
  {
   "cell_type": "markdown",
   "id": "3759920c",
   "metadata": {
    "papermill": {
     "duration": 0.014499,
     "end_time": "2025-08-19T18:55:33.296292",
     "exception": false,
     "start_time": "2025-08-19T18:55:33.281793",
     "status": "completed"
    },
    "tags": []
   },
   "source": [
    "# Conformal Prediction"
   ]
  },
  {
   "cell_type": "code",
   "execution_count": 37,
   "id": "14b27f59",
   "metadata": {
    "execution": {
     "iopub.execute_input": "2025-08-19T18:55:33.323959Z",
     "iopub.status.busy": "2025-08-19T18:55:33.322613Z",
     "iopub.status.idle": "2025-08-19T18:55:33.331632Z",
     "shell.execute_reply": "2025-08-19T18:55:33.330310Z"
    },
    "papermill": {
     "duration": 0.024696,
     "end_time": "2025-08-19T18:55:33.333415",
     "exception": false,
     "start_time": "2025-08-19T18:55:33.308719",
     "status": "completed"
    },
    "tags": []
   },
   "outputs": [],
   "source": [
    "# Miscoverage level for conformal prediction (10% allowed error rate => 90% target coverage)\n",
    "alpha = 0.1"
   ]
  },
  {
   "cell_type": "code",
   "execution_count": 38,
   "id": "59102472",
   "metadata": {
    "execution": {
     "iopub.execute_input": "2025-08-19T18:55:33.364916Z",
     "iopub.status.busy": "2025-08-19T18:55:33.363393Z",
     "iopub.status.idle": "2025-08-19T18:55:33.900955Z",
     "shell.execute_reply": "2025-08-19T18:55:33.899869Z"
    },
    "papermill": {
     "duration": 0.554183,
     "end_time": "2025-08-19T18:55:33.904048",
     "exception": false,
     "start_time": "2025-08-19T18:55:33.349865",
     "status": "completed"
    },
    "tags": []
   },
   "outputs": [],
   "source": [
    "probs_calib = model.predict_proba(X_calib)"
   ]
  },
  {
   "cell_type": "code",
   "execution_count": 39,
   "id": "a792d4dd",
   "metadata": {
    "execution": {
     "iopub.execute_input": "2025-08-19T18:55:33.955440Z",
     "iopub.status.busy": "2025-08-19T18:55:33.954270Z",
     "iopub.status.idle": "2025-08-19T18:55:33.963967Z",
     "shell.execute_reply": "2025-08-19T18:55:33.962593Z"
    },
    "papermill": {
     "duration": 0.030837,
     "end_time": "2025-08-19T18:55:33.965666",
     "exception": false,
     "start_time": "2025-08-19T18:55:33.934829",
     "status": "completed"
    },
    "tags": []
   },
   "outputs": [],
   "source": [
    "y_calib = y_calib.values.ravel().astype(int)"
   ]
  },
  {
   "cell_type": "code",
   "execution_count": 40,
   "id": "650fd033",
   "metadata": {
    "execution": {
     "iopub.execute_input": "2025-08-19T18:55:34.000055Z",
     "iopub.status.busy": "2025-08-19T18:55:33.998757Z",
     "iopub.status.idle": "2025-08-19T18:55:34.023634Z",
     "shell.execute_reply": "2025-08-19T18:55:34.022176Z"
    },
    "papermill": {
     "duration": 0.040482,
     "end_time": "2025-08-19T18:55:34.026198",
     "exception": false,
     "start_time": "2025-08-19T18:55:33.985716",
     "status": "completed"
    },
    "tags": []
   },
   "outputs": [],
   "source": [
    "from fairness_multiverse.conformal import compute_nc_scores\n",
    "\n",
    "# Compute nonconformity scores on calibration set (1 - probability of true class)\n",
    "nc_scores = compute_nc_scores(probs_calib, y_calib)"
   ]
  },
  {
   "cell_type": "code",
   "execution_count": 41,
   "id": "28ada44c",
   "metadata": {
    "execution": {
     "iopub.execute_input": "2025-08-19T18:55:34.055106Z",
     "iopub.status.busy": "2025-08-19T18:55:34.054031Z",
     "iopub.status.idle": "2025-08-19T18:55:34.064318Z",
     "shell.execute_reply": "2025-08-19T18:55:34.063087Z"
    },
    "papermill": {
     "duration": 0.025494,
     "end_time": "2025-08-19T18:55:34.066002",
     "exception": false,
     "start_time": "2025-08-19T18:55:34.040508",
     "status": "completed"
    },
    "tags": []
   },
   "outputs": [],
   "source": [
    "from fairness_multiverse.conformal import find_threshold\n",
    "\n",
    "# Find conformal threshold q_hat for the given alpha (split conformal method)\n",
    "q_hat = find_threshold(nc_scores, alpha)"
   ]
  },
  {
   "cell_type": "code",
   "execution_count": 42,
   "id": "df56469e",
   "metadata": {
    "execution": {
     "iopub.execute_input": "2025-08-19T18:55:34.095418Z",
     "iopub.status.busy": "2025-08-19T18:55:34.094288Z",
     "iopub.status.idle": "2025-08-19T18:55:34.117689Z",
     "shell.execute_reply": "2025-08-19T18:55:34.116086Z"
    },
    "papermill": {
     "duration": 0.03949,
     "end_time": "2025-08-19T18:55:34.119980",
     "exception": false,
     "start_time": "2025-08-19T18:55:34.080490",
     "status": "completed"
    },
    "tags": []
   },
   "outputs": [
    {
     "data": {
      "text/plain": [
       "0.7410405251184584"
      ]
     },
     "execution_count": 42,
     "metadata": {},
     "output_type": "execute_result"
    }
   ],
   "source": [
    "q_hat"
   ]
  },
  {
   "cell_type": "code",
   "execution_count": 43,
   "id": "aa1f5faa",
   "metadata": {
    "execution": {
     "iopub.execute_input": "2025-08-19T18:55:34.155531Z",
     "iopub.status.busy": "2025-08-19T18:55:34.153977Z",
     "iopub.status.idle": "2025-08-19T18:55:35.176192Z",
     "shell.execute_reply": "2025-08-19T18:55:35.175062Z"
    },
    "papermill": {
     "duration": 1.0401,
     "end_time": "2025-08-19T18:55:35.178017",
     "exception": false,
     "start_time": "2025-08-19T18:55:34.137917",
     "status": "completed"
    },
    "tags": []
   },
   "outputs": [],
   "source": [
    "from fairness_multiverse.conformal import predict_conformal_sets\n",
    "\n",
    "# Generate prediction sets for each test example\n",
    "pred_sets = predict_conformal_sets(model, X_test, q_hat)"
   ]
  },
  {
   "cell_type": "code",
   "execution_count": 44,
   "id": "97f67a6b",
   "metadata": {
    "execution": {
     "iopub.execute_input": "2025-08-19T18:55:35.205159Z",
     "iopub.status.busy": "2025-08-19T18:55:35.203799Z",
     "iopub.status.idle": "2025-08-19T18:55:35.211464Z",
     "shell.execute_reply": "2025-08-19T18:55:35.210378Z"
    },
    "papermill": {
     "duration": 0.022297,
     "end_time": "2025-08-19T18:55:35.212958",
     "exception": false,
     "start_time": "2025-08-19T18:55:35.190661",
     "status": "completed"
    },
    "tags": []
   },
   "outputs": [],
   "source": [
    "y_true = y_true.squeeze()"
   ]
  },
  {
   "cell_type": "code",
   "execution_count": 45,
   "id": "e700e9a7",
   "metadata": {
    "execution": {
     "iopub.execute_input": "2025-08-19T18:55:35.239324Z",
     "iopub.status.busy": "2025-08-19T18:55:35.238239Z",
     "iopub.status.idle": "2025-08-19T18:55:35.756969Z",
     "shell.execute_reply": "2025-08-19T18:55:35.755454Z"
    },
    "papermill": {
     "duration": 0.533627,
     "end_time": "2025-08-19T18:55:35.758879",
     "exception": false,
     "start_time": "2025-08-19T18:55:35.225252",
     "status": "completed"
    },
    "tags": []
   },
   "outputs": [],
   "source": [
    "from fairness_multiverse.conformal import evaluate_sets\n",
    "\n",
    "# Evaluate coverage and average set size on test data\n",
    "metrics = evaluate_sets(pred_sets, y_true)"
   ]
  },
  {
   "cell_type": "markdown",
   "id": "efbacec0",
   "metadata": {
    "papermill": {
     "duration": 0.012204,
     "end_time": "2025-08-19T18:55:35.783895",
     "exception": false,
     "start_time": "2025-08-19T18:55:35.771691",
     "status": "completed"
    },
    "tags": []
   },
   "source": [
    "# CP Metrics"
   ]
  },
  {
   "cell_type": "code",
   "execution_count": 46,
   "id": "9de55fb1",
   "metadata": {
    "execution": {
     "iopub.execute_input": "2025-08-19T18:55:35.812821Z",
     "iopub.status.busy": "2025-08-19T18:55:35.810993Z",
     "iopub.status.idle": "2025-08-19T18:55:35.825511Z",
     "shell.execute_reply": "2025-08-19T18:55:35.824001Z"
    },
    "papermill": {
     "duration": 0.031496,
     "end_time": "2025-08-19T18:55:35.827690",
     "exception": false,
     "start_time": "2025-08-19T18:55:35.796194",
     "status": "completed"
    },
    "tags": []
   },
   "outputs": [
    {
     "data": {
      "text/plain": [
       "{'coverage': 0.9099097090625349, 'avg_size': 1.1558466168766024}"
      ]
     },
     "execution_count": 46,
     "metadata": {},
     "output_type": "execute_result"
    }
   ],
   "source": [
    "metrics"
   ]
  },
  {
   "cell_type": "code",
   "execution_count": 47,
   "id": "64c340a1",
   "metadata": {
    "execution": {
     "iopub.execute_input": "2025-08-19T18:55:35.860040Z",
     "iopub.status.busy": "2025-08-19T18:55:35.858412Z",
     "iopub.status.idle": "2025-08-19T18:55:35.869857Z",
     "shell.execute_reply": "2025-08-19T18:55:35.867937Z"
    },
    "papermill": {
     "duration": 0.029214,
     "end_time": "2025-08-19T18:55:35.873017",
     "exception": false,
     "start_time": "2025-08-19T18:55:35.843803",
     "status": "completed"
    },
    "tags": []
   },
   "outputs": [],
   "source": [
    "example_universe = universe.copy()\n",
    "universe_training_year = example_universe.get(\"training_year\")\n",
    "universe_training_size = example_universe.get(\"training_size\")\n",
    "universe_scale = example_universe.get(\"scale\")\n",
    "universe_model = example_universe.get(\"model\")\n",
    "universe_exclude_features = example_universe.get(\"exclude_features\")\n",
    "universe_exclude_subgroups = example_universe.get(\"exclude_subgroups\")"
   ]
  },
  {
   "cell_type": "code",
   "execution_count": 48,
   "id": "dbb53cb4",
   "metadata": {
    "execution": {
     "iopub.execute_input": "2025-08-19T18:55:35.918264Z",
     "iopub.status.busy": "2025-08-19T18:55:35.917208Z",
     "iopub.status.idle": "2025-08-19T18:55:35.927909Z",
     "shell.execute_reply": "2025-08-19T18:55:35.926375Z"
    },
    "papermill": {
     "duration": 0.0286,
     "end_time": "2025-08-19T18:55:35.929685",
     "exception": false,
     "start_time": "2025-08-19T18:55:35.901085",
     "status": "completed"
    },
    "tags": []
   },
   "outputs": [],
   "source": [
    "cp_metrics_dict = {\n",
    "    \"universe_id\": [universe_id],\n",
    "    \"universe_training_year\": [universe_training_year],\n",
    "    \"universe_training_size\": [universe_training_size],\n",
    "    \"universe_scale\": [universe_scale],\n",
    "    \"universe_model\": [universe_model],\n",
    "    \"universe_exclude_features\": [universe_exclude_features],\n",
    "    \"universe_exclude_subgroups\": [universe_exclude_subgroups],\n",
    "    \"q_hat\": [q_hat],\n",
    "    \"coverage\": [metrics[\"coverage\"]],\n",
    "    \"avg_size\": [metrics[\"avg_size\"]],\n",
    "}"
   ]
  },
  {
   "cell_type": "code",
   "execution_count": 49,
   "id": "0d70d4b2",
   "metadata": {
    "execution": {
     "iopub.execute_input": "2025-08-19T18:55:35.959927Z",
     "iopub.status.busy": "2025-08-19T18:55:35.958876Z",
     "iopub.status.idle": "2025-08-19T18:55:35.970932Z",
     "shell.execute_reply": "2025-08-19T18:55:35.969633Z"
    },
    "papermill": {
     "duration": 0.028132,
     "end_time": "2025-08-19T18:55:35.972705",
     "exception": false,
     "start_time": "2025-08-19T18:55:35.944573",
     "status": "completed"
    },
    "tags": []
   },
   "outputs": [],
   "source": [
    "cp_metrics_df = pd.DataFrame(cp_metrics_dict)"
   ]
  },
  {
   "cell_type": "code",
   "execution_count": 50,
   "id": "b494403c",
   "metadata": {
    "execution": {
     "iopub.execute_input": "2025-08-19T18:55:36.002598Z",
     "iopub.status.busy": "2025-08-19T18:55:36.001551Z",
     "iopub.status.idle": "2025-08-19T18:55:36.026170Z",
     "shell.execute_reply": "2025-08-19T18:55:36.024866Z"
    },
    "papermill": {
     "duration": 0.042049,
     "end_time": "2025-08-19T18:55:36.029123",
     "exception": false,
     "start_time": "2025-08-19T18:55:35.987074",
     "status": "completed"
    },
    "tags": []
   },
   "outputs": [
    {
     "data": {
      "text/html": [
       "<div>\n",
       "<style scoped>\n",
       "    .dataframe tbody tr th:only-of-type {\n",
       "        vertical-align: middle;\n",
       "    }\n",
       "\n",
       "    .dataframe tbody tr th {\n",
       "        vertical-align: top;\n",
       "    }\n",
       "\n",
       "    .dataframe thead th {\n",
       "        text-align: right;\n",
       "    }\n",
       "</style>\n",
       "<table border=\"1\" class=\"dataframe\">\n",
       "  <thead>\n",
       "    <tr style=\"text-align: right;\">\n",
       "      <th></th>\n",
       "      <th>universe_id</th>\n",
       "      <th>universe_training_year</th>\n",
       "      <th>universe_training_size</th>\n",
       "      <th>universe_scale</th>\n",
       "      <th>universe_model</th>\n",
       "      <th>universe_exclude_features</th>\n",
       "      <th>universe_exclude_subgroups</th>\n",
       "      <th>q_hat</th>\n",
       "      <th>coverage</th>\n",
       "      <th>avg_size</th>\n",
       "    </tr>\n",
       "  </thead>\n",
       "  <tbody>\n",
       "    <tr>\n",
       "      <th>0</th>\n",
       "      <td>cda0100fe51dcb71f034c2848d607fdd</td>\n",
       "      <td>2014</td>\n",
       "      <td>1k</td>\n",
       "      <td>do-not-scale</td>\n",
       "      <td>gbm</td>\n",
       "      <td>sex</td>\n",
       "      <td>keep-all</td>\n",
       "      <td>0.741041</td>\n",
       "      <td>0.90991</td>\n",
       "      <td>1.155847</td>\n",
       "    </tr>\n",
       "  </tbody>\n",
       "</table>\n",
       "</div>"
      ],
      "text/plain": [
       "                        universe_id universe_training_year  \\\n",
       "0  cda0100fe51dcb71f034c2848d607fdd                   2014   \n",
       "\n",
       "  universe_training_size universe_scale universe_model  \\\n",
       "0                     1k   do-not-scale            gbm   \n",
       "\n",
       "  universe_exclude_features universe_exclude_subgroups     q_hat  coverage  \\\n",
       "0                       sex                   keep-all  0.741041   0.90991   \n",
       "\n",
       "   avg_size  \n",
       "0  1.155847  "
      ]
     },
     "execution_count": 50,
     "metadata": {},
     "output_type": "execute_result"
    }
   ],
   "source": [
    "cp_metrics_df"
   ]
  },
  {
   "cell_type": "markdown",
   "id": "ed608b0b",
   "metadata": {
    "papermill": {
     "duration": 0.012828,
     "end_time": "2025-08-19T18:55:36.064074",
     "exception": false,
     "start_time": "2025-08-19T18:55:36.051246",
     "status": "completed"
    },
    "tags": []
   },
   "source": [
    "Conditional coverage & looking at subgroups"
   ]
  },
  {
   "cell_type": "code",
   "execution_count": 51,
   "id": "8968c366",
   "metadata": {
    "execution": {
     "iopub.execute_input": "2025-08-19T18:55:36.093064Z",
     "iopub.status.busy": "2025-08-19T18:55:36.091085Z",
     "iopub.status.idle": "2025-08-19T18:55:36.380336Z",
     "shell.execute_reply": "2025-08-19T18:55:36.379086Z"
    },
    "papermill": {
     "duration": 0.306219,
     "end_time": "2025-08-19T18:55:36.382804",
     "exception": false,
     "start_time": "2025-08-19T18:55:36.076585",
     "status": "completed"
    },
    "tags": []
   },
   "outputs": [],
   "source": [
    "from fairness_multiverse.conformal import build_cp_groups\n",
    "\n",
    "cp_groups_df = build_cp_groups(pred_sets, y_true, X_test.index, org_test)"
   ]
  },
  {
   "cell_type": "code",
   "execution_count": 52,
   "id": "292ddabf",
   "metadata": {
    "execution": {
     "iopub.execute_input": "2025-08-19T18:55:36.416043Z",
     "iopub.status.busy": "2025-08-19T18:55:36.415742Z",
     "iopub.status.idle": "2025-08-19T18:55:37.288175Z",
     "shell.execute_reply": "2025-08-19T18:55:37.287048Z"
    },
    "papermill": {
     "duration": 0.888691,
     "end_time": "2025-08-19T18:55:37.289993",
     "exception": false,
     "start_time": "2025-08-19T18:55:36.401302",
     "status": "completed"
    },
    "tags": []
   },
   "outputs": [],
   "source": [
    "# Define covered = 1 if true_label is in the predicted set\n",
    "cp_groups_df['covered'] = cp_groups_df.apply(\n",
    "    lambda r: int(r['true_label'] in r['pred_set']),\n",
    "    axis=1\n",
    ")"
   ]
  },
  {
   "cell_type": "code",
   "execution_count": 53,
   "id": "3a261692",
   "metadata": {
    "execution": {
     "iopub.execute_input": "2025-08-19T18:55:37.319160Z",
     "iopub.status.busy": "2025-08-19T18:55:37.318205Z",
     "iopub.status.idle": "2025-08-19T18:55:37.337435Z",
     "shell.execute_reply": "2025-08-19T18:55:37.336408Z"
    },
    "papermill": {
     "duration": 0.036398,
     "end_time": "2025-08-19T18:55:37.339825",
     "exception": false,
     "start_time": "2025-08-19T18:55:37.303427",
     "status": "completed"
    },
    "tags": []
   },
   "outputs": [],
   "source": [
    "subgroups = ['frau1','nongerman','nongerman_male','nongerman_female']\n",
    "\n",
    "# Conditional coverage for subgroup==1\n",
    "cond_coverage = {\n",
    "    g: cp_groups_df.loc[cp_groups_df[g]==1, 'covered'].mean()\n",
    "    for g in subgroups\n",
    "}"
   ]
  },
  {
   "cell_type": "code",
   "execution_count": 54,
   "id": "894fd600",
   "metadata": {
    "execution": {
     "iopub.execute_input": "2025-08-19T18:55:37.376070Z",
     "iopub.status.busy": "2025-08-19T18:55:37.374760Z",
     "iopub.status.idle": "2025-08-19T18:55:37.387258Z",
     "shell.execute_reply": "2025-08-19T18:55:37.386010Z"
    },
    "papermill": {
     "duration": 0.029724,
     "end_time": "2025-08-19T18:55:37.389268",
     "exception": false,
     "start_time": "2025-08-19T18:55:37.359544",
     "status": "completed"
    },
    "tags": []
   },
   "outputs": [
    {
     "data": {
      "text/plain": [
       "{'frau1': 0.9066990160398976,\n",
       " 'nongerman': 0.9066412170886431,\n",
       " 'nongerman_male': 0.9245249031793209,\n",
       " 'nongerman_female': 0.8770491803278688}"
      ]
     },
     "execution_count": 54,
     "metadata": {},
     "output_type": "execute_result"
    }
   ],
   "source": [
    "cond_coverage"
   ]
  },
  {
   "cell_type": "code",
   "execution_count": 55,
   "id": "942895c7",
   "metadata": {
    "execution": {
     "iopub.execute_input": "2025-08-19T18:55:37.423710Z",
     "iopub.status.busy": "2025-08-19T18:55:37.422638Z",
     "iopub.status.idle": "2025-08-19T18:55:37.438800Z",
     "shell.execute_reply": "2025-08-19T18:55:37.437266Z"
    },
    "papermill": {
     "duration": 0.033706,
     "end_time": "2025-08-19T18:55:37.441041",
     "exception": false,
     "start_time": "2025-08-19T18:55:37.407335",
     "status": "completed"
    },
    "tags": []
   },
   "outputs": [],
   "source": [
    "for subgroup, cov in cond_coverage.items():\n",
    "    cp_metrics_df[f\"cov_{subgroup}\"] = cov"
   ]
  },
  {
   "cell_type": "code",
   "execution_count": 56,
   "id": "3970120f",
   "metadata": {
    "execution": {
     "iopub.execute_input": "2025-08-19T18:55:37.490637Z",
     "iopub.status.busy": "2025-08-19T18:55:37.489343Z",
     "iopub.status.idle": "2025-08-19T18:55:37.517848Z",
     "shell.execute_reply": "2025-08-19T18:55:37.517059Z"
    },
    "papermill": {
     "duration": 0.045914,
     "end_time": "2025-08-19T18:55:37.520107",
     "exception": false,
     "start_time": "2025-08-19T18:55:37.474193",
     "status": "completed"
    },
    "tags": []
   },
   "outputs": [
    {
     "data": {
      "text/html": [
       "<div>\n",
       "<style scoped>\n",
       "    .dataframe tbody tr th:only-of-type {\n",
       "        vertical-align: middle;\n",
       "    }\n",
       "\n",
       "    .dataframe tbody tr th {\n",
       "        vertical-align: top;\n",
       "    }\n",
       "\n",
       "    .dataframe thead th {\n",
       "        text-align: right;\n",
       "    }\n",
       "</style>\n",
       "<table border=\"1\" class=\"dataframe\">\n",
       "  <thead>\n",
       "    <tr style=\"text-align: right;\">\n",
       "      <th></th>\n",
       "      <th>universe_id</th>\n",
       "      <th>universe_training_year</th>\n",
       "      <th>universe_training_size</th>\n",
       "      <th>universe_scale</th>\n",
       "      <th>universe_model</th>\n",
       "      <th>universe_exclude_features</th>\n",
       "      <th>universe_exclude_subgroups</th>\n",
       "      <th>q_hat</th>\n",
       "      <th>coverage</th>\n",
       "      <th>avg_size</th>\n",
       "      <th>cov_frau1</th>\n",
       "      <th>cov_nongerman</th>\n",
       "      <th>cov_nongerman_male</th>\n",
       "      <th>cov_nongerman_female</th>\n",
       "    </tr>\n",
       "  </thead>\n",
       "  <tbody>\n",
       "    <tr>\n",
       "      <th>0</th>\n",
       "      <td>cda0100fe51dcb71f034c2848d607fdd</td>\n",
       "      <td>2014</td>\n",
       "      <td>1k</td>\n",
       "      <td>do-not-scale</td>\n",
       "      <td>gbm</td>\n",
       "      <td>sex</td>\n",
       "      <td>keep-all</td>\n",
       "      <td>0.741041</td>\n",
       "      <td>0.90991</td>\n",
       "      <td>1.155847</td>\n",
       "      <td>0.906699</td>\n",
       "      <td>0.906641</td>\n",
       "      <td>0.924525</td>\n",
       "      <td>0.877049</td>\n",
       "    </tr>\n",
       "  </tbody>\n",
       "</table>\n",
       "</div>"
      ],
      "text/plain": [
       "                        universe_id universe_training_year  \\\n",
       "0  cda0100fe51dcb71f034c2848d607fdd                   2014   \n",
       "\n",
       "  universe_training_size universe_scale universe_model  \\\n",
       "0                     1k   do-not-scale            gbm   \n",
       "\n",
       "  universe_exclude_features universe_exclude_subgroups     q_hat  coverage  \\\n",
       "0                       sex                   keep-all  0.741041   0.90991   \n",
       "\n",
       "   avg_size  cov_frau1  cov_nongerman  cov_nongerman_male  \\\n",
       "0  1.155847   0.906699       0.906641            0.924525   \n",
       "\n",
       "   cov_nongerman_female  \n",
       "0              0.877049  "
      ]
     },
     "execution_count": 56,
     "metadata": {},
     "output_type": "execute_result"
    }
   ],
   "source": [
    "cp_metrics_df"
   ]
  },
  {
   "cell_type": "markdown",
   "id": "3fc519cc",
   "metadata": {
    "papermill": {
     "duration": 0.027507,
     "end_time": "2025-08-19T18:55:37.572740",
     "exception": false,
     "start_time": "2025-08-19T18:55:37.545233",
     "status": "completed"
    },
    "tags": []
   },
   "source": [
    "# (Fairness) Metrics"
   ]
  },
  {
   "cell_type": "code",
   "execution_count": 57,
   "id": "a2e5e155",
   "metadata": {
    "execution": {
     "iopub.execute_input": "2025-08-19T18:55:37.609552Z",
     "iopub.status.busy": "2025-08-19T18:55:37.608560Z",
     "iopub.status.idle": "2025-08-19T18:55:37.631364Z",
     "shell.execute_reply": "2025-08-19T18:55:37.630665Z"
    },
    "papermill": {
     "duration": 0.045526,
     "end_time": "2025-08-19T18:55:37.633237",
     "exception": false,
     "start_time": "2025-08-19T18:55:37.587711",
     "status": "completed"
    },
    "tags": []
   },
   "outputs": [],
   "source": [
    "colname_to_bin = \"maxdeutsch1\"\n",
    "majority_value = org_train[colname_to_bin].mode()[0]\n",
    "\n",
    "org_test[\"majmin\"] = np.where(org_test[colname_to_bin] == majority_value, \"majority\", \"minority\")"
   ]
  },
  {
   "cell_type": "code",
   "execution_count": 58,
   "id": "17e3e4d5",
   "metadata": {
    "execution": {
     "iopub.execute_input": "2025-08-19T18:55:37.670927Z",
     "iopub.status.busy": "2025-08-19T18:55:37.669478Z",
     "iopub.status.idle": "2025-08-19T18:55:39.495770Z",
     "shell.execute_reply": "2025-08-19T18:55:39.494260Z"
    },
    "papermill": {
     "duration": 1.843872,
     "end_time": "2025-08-19T18:55:39.497646",
     "exception": false,
     "start_time": "2025-08-19T18:55:37.653774",
     "status": "completed"
    },
    "tags": []
   },
   "outputs": [],
   "source": [
    "example_universe = universe.copy()\n",
    "example_universe[\"cutoff\"] = example_universe[\"cutoff\"][0]\n",
    "example_universe[\"eval_fairness_grouping\"] = example_universe[\"eval_fairness_grouping\"][0]\n",
    "fairness_dict, metric_frame = universe_analysis.compute_metrics(\n",
    "    example_universe,\n",
    "    y_pred_prob=probs_test,\n",
    "    y_test=y_true,\n",
    "    org_test=org_test,\n",
    ")"
   ]
  },
  {
   "cell_type": "markdown",
   "id": "1fb7a0e9",
   "metadata": {
    "papermill": {
     "duration": 0.012768,
     "end_time": "2025-08-19T18:55:39.526672",
     "exception": false,
     "start_time": "2025-08-19T18:55:39.513904",
     "status": "completed"
    },
    "tags": []
   },
   "source": [
    "# Overall"
   ]
  },
  {
   "cell_type": "markdown",
   "id": "be1784b1",
   "metadata": {
    "papermill": {
     "duration": 0.012808,
     "end_time": "2025-08-19T18:55:39.552401",
     "exception": false,
     "start_time": "2025-08-19T18:55:39.539593",
     "status": "completed"
    },
    "tags": []
   },
   "source": [
    "Main fairness target: Equalized Odds. Seems to be a better fit than equal opportunity, since we're not only interested in Y = 1. Seems to be a better fit than demographic parity, since we also care about accuracy, not just equal distribution of preds.\n",
    "\n",
    "Pick column for computation of fairness metrics\n",
    "\n",
    "Performance\n",
    "Overall performance measures, most interesting in relation to the measures split by group below"
   ]
  },
  {
   "cell_type": "code",
   "execution_count": 59,
   "id": "b7672bee",
   "metadata": {
    "execution": {
     "iopub.execute_input": "2025-08-19T18:55:39.582214Z",
     "iopub.status.busy": "2025-08-19T18:55:39.581407Z",
     "iopub.status.idle": "2025-08-19T18:55:39.599254Z",
     "shell.execute_reply": "2025-08-19T18:55:39.597961Z"
    },
    "papermill": {
     "duration": 0.038824,
     "end_time": "2025-08-19T18:55:39.604045",
     "exception": false,
     "start_time": "2025-08-19T18:55:39.565221",
     "status": "completed"
    },
    "tags": []
   },
   "outputs": [
    {
     "data": {
      "text/plain": [
       "accuracy                   0.221792\n",
       "balanced accuracy          0.542854\n",
       "f1                         0.243195\n",
       "precision                  0.138929\n",
       "false positive rate        0.889005\n",
       "false negative rate        0.025287\n",
       "selection rate             0.900000\n",
       "count                  89710.000000\n",
       "dtype: float64"
      ]
     },
     "execution_count": 59,
     "metadata": {},
     "output_type": "execute_result"
    }
   ],
   "source": [
    "metric_frame.overall"
   ]
  },
  {
   "cell_type": "markdown",
   "id": "d93333c9",
   "metadata": {
    "papermill": {
     "duration": 0.01324,
     "end_time": "2025-08-19T18:55:39.635559",
     "exception": false,
     "start_time": "2025-08-19T18:55:39.622319",
     "status": "completed"
    },
    "tags": []
   },
   "source": [
    "By Group"
   ]
  },
  {
   "cell_type": "code",
   "execution_count": 60,
   "id": "52256966",
   "metadata": {
    "execution": {
     "iopub.execute_input": "2025-08-19T18:55:39.663112Z",
     "iopub.status.busy": "2025-08-19T18:55:39.662717Z",
     "iopub.status.idle": "2025-08-19T18:55:39.679309Z",
     "shell.execute_reply": "2025-08-19T18:55:39.678360Z"
    },
    "papermill": {
     "duration": 0.032611,
     "end_time": "2025-08-19T18:55:39.681185",
     "exception": false,
     "start_time": "2025-08-19T18:55:39.648574",
     "status": "completed"
    },
    "tags": []
   },
   "outputs": [
    {
     "data": {
      "text/html": [
       "<div>\n",
       "<style scoped>\n",
       "    .dataframe tbody tr th:only-of-type {\n",
       "        vertical-align: middle;\n",
       "    }\n",
       "\n",
       "    .dataframe tbody tr th {\n",
       "        vertical-align: top;\n",
       "    }\n",
       "\n",
       "    .dataframe thead th {\n",
       "        text-align: right;\n",
       "    }\n",
       "</style>\n",
       "<table border=\"1\" class=\"dataframe\">\n",
       "  <thead>\n",
       "    <tr style=\"text-align: right;\">\n",
       "      <th></th>\n",
       "      <th>accuracy</th>\n",
       "      <th>balanced accuracy</th>\n",
       "      <th>f1</th>\n",
       "      <th>precision</th>\n",
       "      <th>false positive rate</th>\n",
       "      <th>false negative rate</th>\n",
       "      <th>selection rate</th>\n",
       "      <th>count</th>\n",
       "    </tr>\n",
       "    <tr>\n",
       "      <th>majmin</th>\n",
       "      <th></th>\n",
       "      <th></th>\n",
       "      <th></th>\n",
       "      <th></th>\n",
       "      <th></th>\n",
       "      <th></th>\n",
       "      <th></th>\n",
       "      <th></th>\n",
       "    </tr>\n",
       "  </thead>\n",
       "  <tbody>\n",
       "    <tr>\n",
       "      <th>majority</th>\n",
       "      <td>0.243444</td>\n",
       "      <td>0.551466</td>\n",
       "      <td>0.253108</td>\n",
       "      <td>0.145540</td>\n",
       "      <td>0.867200</td>\n",
       "      <td>0.029869</td>\n",
       "      <td>0.880801</td>\n",
       "      <td>69170.0</td>\n",
       "    </tr>\n",
       "    <tr>\n",
       "      <th>minority</th>\n",
       "      <td>0.148880</td>\n",
       "      <td>0.515680</td>\n",
       "      <td>0.211884</td>\n",
       "      <td>0.118603</td>\n",
       "      <td>0.961039</td>\n",
       "      <td>0.007601</td>\n",
       "      <td>0.964654</td>\n",
       "      <td>20540.0</td>\n",
       "    </tr>\n",
       "  </tbody>\n",
       "</table>\n",
       "</div>"
      ],
      "text/plain": [
       "          accuracy  balanced accuracy        f1  precision  \\\n",
       "majmin                                                       \n",
       "majority  0.243444           0.551466  0.253108   0.145540   \n",
       "minority  0.148880           0.515680  0.211884   0.118603   \n",
       "\n",
       "          false positive rate  false negative rate  selection rate    count  \n",
       "majmin                                                                       \n",
       "majority             0.867200             0.029869        0.880801  69170.0  \n",
       "minority             0.961039             0.007601        0.964654  20540.0  "
      ]
     },
     "execution_count": 60,
     "metadata": {},
     "output_type": "execute_result"
    }
   ],
   "source": [
    "metric_frame.by_group"
   ]
  },
  {
   "cell_type": "code",
   "execution_count": 61,
   "id": "6e6c20ae",
   "metadata": {
    "execution": {
     "iopub.execute_input": "2025-08-19T18:55:39.714436Z",
     "iopub.status.busy": "2025-08-19T18:55:39.714094Z",
     "iopub.status.idle": "2025-08-19T18:55:41.636270Z",
     "shell.execute_reply": "2025-08-19T18:55:41.635177Z"
    },
    "papermill": {
     "duration": 1.939356,
     "end_time": "2025-08-19T18:55:41.638031",
     "exception": false,
     "start_time": "2025-08-19T18:55:39.698675",
     "status": "completed"
    },
    "tags": []
   },
   "outputs": [
    {
     "data": {
      "text/plain": [
       "array([[<Axes: title={'center': 'accuracy'}, xlabel='majmin'>,\n",
       "        <Axes: title={'center': 'balanced accuracy'}, xlabel='majmin'>,\n",
       "        <Axes: title={'center': 'f1'}, xlabel='majmin'>],\n",
       "       [<Axes: title={'center': 'precision'}, xlabel='majmin'>,\n",
       "        <Axes: title={'center': 'false positive rate'}, xlabel='majmin'>,\n",
       "        <Axes: title={'center': 'false negative rate'}, xlabel='majmin'>],\n",
       "       [<Axes: title={'center': 'selection rate'}, xlabel='majmin'>,\n",
       "        <Axes: title={'center': 'count'}, xlabel='majmin'>,\n",
       "        <Axes: xlabel='majmin'>]], dtype=object)"
      ]
     },
     "execution_count": 61,
     "metadata": {},
     "output_type": "execute_result"
    },
    {
     "data": {
      "image/png": "[encoded data removed]",
      "text/plain": [
       "<Figure size 1200x800 with 9 Axes>"
      ]
     },
     "metadata": {},
     "output_type": "display_data"
    }
   ],
   "source": [
    "# In a graphic\n",
    "metric_frame.by_group.plot.bar(\n",
    "    subplots=True,\n",
    "    layout=[3, 3],\n",
    "    legend=False,\n",
    "    figsize=[12, 8],\n",
    "    title=\"Show all metrics\",\n",
    ")"
   ]
  },
  {
   "cell_type": "markdown",
   "id": "b2e433ae",
   "metadata": {
    "papermill": {
     "duration": 0.016448,
     "end_time": "2025-08-19T18:55:41.687400",
     "exception": false,
     "start_time": "2025-08-19T18:55:41.670952",
     "status": "completed"
    },
    "tags": []
   },
   "source": [
    "# Final Output"
   ]
  },
  {
   "cell_type": "code",
   "execution_count": 62,
   "id": "3871301e",
   "metadata": {
    "execution": {
     "iopub.execute_input": "2025-08-19T18:55:41.718006Z",
     "iopub.status.busy": "2025-08-19T18:55:41.717056Z",
     "iopub.status.idle": "2025-08-19T18:55:41.727141Z",
     "shell.execute_reply": "2025-08-19T18:55:41.726375Z"
    },
    "papermill": {
     "duration": 0.027025,
     "end_time": "2025-08-19T18:55:41.728593",
     "exception": false,
     "start_time": "2025-08-19T18:55:41.701568",
     "status": "completed"
    },
    "tags": []
   },
   "outputs": [
    {
     "data": {
      "text/plain": [
       "4"
      ]
     },
     "execution_count": 62,
     "metadata": {},
     "output_type": "execute_result"
    }
   ],
   "source": [
    "sub_universes = universe_analysis.generate_sub_universes()\n",
    "len(sub_universes)"
   ]
  },
  {
   "cell_type": "code",
   "execution_count": 63,
   "id": "d9cfdaca",
   "metadata": {
    "execution": {
     "iopub.execute_input": "2025-08-19T18:55:41.760840Z",
     "iopub.status.busy": "2025-08-19T18:55:41.760101Z",
     "iopub.status.idle": "2025-08-19T18:55:41.768909Z",
     "shell.execute_reply": "2025-08-19T18:55:41.767610Z"
    },
    "papermill": {
     "duration": 0.026111,
     "end_time": "2025-08-19T18:55:41.770707",
     "exception": false,
     "start_time": "2025-08-19T18:55:41.744596",
     "status": "completed"
    },
    "tags": []
   },
   "outputs": [],
   "source": [
    "def filter_sub_universe_data(sub_universe, org_test):\n",
    "    # Keep all rows — no filtering\n",
    "    keep_rows_mask = np.ones(org_test.shape[0], dtype=bool)\n",
    "\n",
    "    print(f\"[INFO] Keeping all rows: {keep_rows_mask.sum()} rows retained.\")\n",
    "    return keep_rows_mask"
   ]
  },
  {
   "cell_type": "code",
   "execution_count": 64,
   "id": "2bc31ac1",
   "metadata": {
    "execution": {
     "iopub.execute_input": "2025-08-19T18:55:41.825575Z",
     "iopub.status.busy": "2025-08-19T18:55:41.825067Z",
     "iopub.status.idle": "2025-08-19T18:55:48.593174Z",
     "shell.execute_reply": "2025-08-19T18:55:48.590098Z"
    },
    "papermill": {
     "duration": 6.786942,
     "end_time": "2025-08-19T18:55:48.595212",
     "exception": false,
     "start_time": "2025-08-19T18:55:41.808270",
     "status": "completed"
    },
    "tags": []
   },
   "outputs": [
    {
     "name": "stdout",
     "output_type": "stream",
     "text": [
      "Stopping execution_time clock.\n",
      "[INFO] Keeping all rows: 89710 rows retained.\n"
     ]
    },
    {
     "name": "stdout",
     "output_type": "stream",
     "text": [
      "[INFO] Keeping all rows: 89710 rows retained.\n"
     ]
    },
    {
     "name": "stdout",
     "output_type": "stream",
     "text": [
      "[INFO] Keeping all rows: 89710 rows retained.\n"
     ]
    },
    {
     "name": "stdout",
     "output_type": "stream",
     "text": [
      "[INFO] Keeping all rows: 89710 rows retained.\n"
     ]
    },
    {
     "data": {
      "text/html": [
       "<div>\n",
       "<style scoped>\n",
       "    .dataframe tbody tr th:only-of-type {\n",
       "        vertical-align: middle;\n",
       "    }\n",
       "\n",
       "    .dataframe tbody tr th {\n",
       "        vertical-align: top;\n",
       "    }\n",
       "\n",
       "    .dataframe thead th {\n",
       "        text-align: right;\n",
       "    }\n",
       "</style>\n",
       "<table border=\"1\" class=\"dataframe\">\n",
       "  <thead>\n",
       "    <tr style=\"text-align: right;\">\n",
       "      <th></th>\n",
       "      <th>run_no</th>\n",
       "      <th>universe_id</th>\n",
       "      <th>universe_settings</th>\n",
       "      <th>execution_time</th>\n",
       "      <th>test_size_n</th>\n",
       "      <th>test_size_frac</th>\n",
       "      <th>fair_main_equalized_odds_difference</th>\n",
       "      <th>fair_main_equalized_odds_ratio</th>\n",
       "      <th>fair_main_demographic_parity_difference</th>\n",
       "      <th>fair_main_demographic_parity_ratio</th>\n",
       "      <th>...</th>\n",
       "      <th>perf_grp_precision_0</th>\n",
       "      <th>perf_grp_precision_1</th>\n",
       "      <th>perf_grp_false positive rate_0</th>\n",
       "      <th>perf_grp_false positive rate_1</th>\n",
       "      <th>perf_grp_false negative rate_0</th>\n",
       "      <th>perf_grp_false negative rate_1</th>\n",
       "      <th>perf_grp_selection rate_0</th>\n",
       "      <th>perf_grp_selection rate_1</th>\n",
       "      <th>perf_grp_count_0</th>\n",
       "      <th>perf_grp_count_1</th>\n",
       "    </tr>\n",
       "  </thead>\n",
       "  <tbody>\n",
       "    <tr>\n",
       "      <th>0</th>\n",
       "      <td>3</td>\n",
       "      <td>cda0100fe51dcb71f034c2848d607fdd</td>\n",
       "      <td>{\"cutoff\": \"quantile_0.1\", \"eval_fairness_grou...</td>\n",
       "      <td>23.124791</td>\n",
       "      <td>89710</td>\n",
       "      <td>1.0</td>\n",
       "      <td>0.093839</td>\n",
       "      <td>0.902356</td>\n",
       "      <td>0.083853</td>\n",
       "      <td>0.913074</td>\n",
       "      <td>...</td>\n",
       "      <td>NaN</td>\n",
       "      <td>NaN</td>\n",
       "      <td>NaN</td>\n",
       "      <td>NaN</td>\n",
       "      <td>NaN</td>\n",
       "      <td>NaN</td>\n",
       "      <td>NaN</td>\n",
       "      <td>NaN</td>\n",
       "      <td>NaN</td>\n",
       "      <td>NaN</td>\n",
       "    </tr>\n",
       "    <tr>\n",
       "      <th>0</th>\n",
       "      <td>3</td>\n",
       "      <td>cda0100fe51dcb71f034c2848d607fdd</td>\n",
       "      <td>{\"cutoff\": \"quantile_0.1\", \"eval_fairness_grou...</td>\n",
       "      <td>23.124791</td>\n",
       "      <td>89710</td>\n",
       "      <td>1.0</td>\n",
       "      <td>0.093839</td>\n",
       "      <td>0.902356</td>\n",
       "      <td>0.083853</td>\n",
       "      <td>0.913074</td>\n",
       "      <td>...</td>\n",
       "      <td>0.118603</td>\n",
       "      <td>0.145540</td>\n",
       "      <td>0.961039</td>\n",
       "      <td>0.867200</td>\n",
       "      <td>0.007601</td>\n",
       "      <td>0.029869</td>\n",
       "      <td>0.964654</td>\n",
       "      <td>0.880801</td>\n",
       "      <td>20540.0</td>\n",
       "      <td>69170.0</td>\n",
       "    </tr>\n",
       "    <tr>\n",
       "      <th>0</th>\n",
       "      <td>3</td>\n",
       "      <td>cda0100fe51dcb71f034c2848d607fdd</td>\n",
       "      <td>{\"cutoff\": \"quantile_0.25\", \"eval_fairness_gro...</td>\n",
       "      <td>23.124791</td>\n",
       "      <td>89710</td>\n",
       "      <td>1.0</td>\n",
       "      <td>0.114500</td>\n",
       "      <td>0.859213</td>\n",
       "      <td>0.099204</td>\n",
       "      <td>0.879968</td>\n",
       "      <td>...</td>\n",
       "      <td>NaN</td>\n",
       "      <td>NaN</td>\n",
       "      <td>NaN</td>\n",
       "      <td>NaN</td>\n",
       "      <td>NaN</td>\n",
       "      <td>NaN</td>\n",
       "      <td>NaN</td>\n",
       "      <td>NaN</td>\n",
       "      <td>NaN</td>\n",
       "      <td>NaN</td>\n",
       "    </tr>\n",
       "    <tr>\n",
       "      <th>0</th>\n",
       "      <td>3</td>\n",
       "      <td>cda0100fe51dcb71f034c2848d607fdd</td>\n",
       "      <td>{\"cutoff\": \"quantile_0.25\", \"eval_fairness_gro...</td>\n",
       "      <td>23.124791</td>\n",
       "      <td>89710</td>\n",
       "      <td>1.0</td>\n",
       "      <td>0.114500</td>\n",
       "      <td>0.859213</td>\n",
       "      <td>0.099204</td>\n",
       "      <td>0.879968</td>\n",
       "      <td>...</td>\n",
       "      <td>0.129418</td>\n",
       "      <td>0.166143</td>\n",
       "      <td>0.813284</td>\n",
       "      <td>0.698784</td>\n",
       "      <td>0.072213</td>\n",
       "      <td>0.085558</td>\n",
       "      <td>0.826485</td>\n",
       "      <td>0.727281</td>\n",
       "      <td>20540.0</td>\n",
       "      <td>69170.0</td>\n",
       "    </tr>\n",
       "  </tbody>\n",
       "</table>\n",
       "<p>4 rows × 50 columns</p>\n",
       "</div>"
      ],
      "text/plain": [
       "  run_no                       universe_id  \\\n",
       "0      3  cda0100fe51dcb71f034c2848d607fdd   \n",
       "0      3  cda0100fe51dcb71f034c2848d607fdd   \n",
       "0      3  cda0100fe51dcb71f034c2848d607fdd   \n",
       "0      3  cda0100fe51dcb71f034c2848d607fdd   \n",
       "\n",
       "                                   universe_settings  execution_time  \\\n",
       "0  {\"cutoff\": \"quantile_0.1\", \"eval_fairness_grou...       23.124791   \n",
       "0  {\"cutoff\": \"quantile_0.1\", \"eval_fairness_grou...       23.124791   \n",
       "0  {\"cutoff\": \"quantile_0.25\", \"eval_fairness_gro...       23.124791   \n",
       "0  {\"cutoff\": \"quantile_0.25\", \"eval_fairness_gro...       23.124791   \n",
       "\n",
       "   test_size_n  test_size_frac  fair_main_equalized_odds_difference  \\\n",
       "0        89710             1.0                             0.093839   \n",
       "0        89710             1.0                             0.093839   \n",
       "0        89710             1.0                             0.114500   \n",
       "0        89710             1.0                             0.114500   \n",
       "\n",
       "   fair_main_equalized_odds_ratio  fair_main_demographic_parity_difference  \\\n",
       "0                        0.902356                                 0.083853   \n",
       "0                        0.902356                                 0.083853   \n",
       "0                        0.859213                                 0.099204   \n",
       "0                        0.859213                                 0.099204   \n",
       "\n",
       "   fair_main_demographic_parity_ratio  ...  perf_grp_precision_0  \\\n",
       "0                            0.913074  ...                   NaN   \n",
       "0                            0.913074  ...              0.118603   \n",
       "0                            0.879968  ...                   NaN   \n",
       "0                            0.879968  ...              0.129418   \n",
       "\n",
       "   perf_grp_precision_1  perf_grp_false positive rate_0  \\\n",
       "0                   NaN                             NaN   \n",
       "0              0.145540                        0.961039   \n",
       "0                   NaN                             NaN   \n",
       "0              0.166143                        0.813284   \n",
       "\n",
       "   perf_grp_false positive rate_1  perf_grp_false negative rate_0  \\\n",
       "0                             NaN                             NaN   \n",
       "0                        0.867200                        0.007601   \n",
       "0                             NaN                             NaN   \n",
       "0                        0.698784                        0.072213   \n",
       "\n",
       "   perf_grp_false negative rate_1  perf_grp_selection rate_0  \\\n",
       "0                             NaN                        NaN   \n",
       "0                        0.029869                   0.964654   \n",
       "0                             NaN                        NaN   \n",
       "0                        0.085558                   0.826485   \n",
       "\n",
       "   perf_grp_selection rate_1  perf_grp_count_0  perf_grp_count_1  \n",
       "0                        NaN               NaN               NaN  \n",
       "0                   0.880801           20540.0           69170.0  \n",
       "0                        NaN               NaN               NaN  \n",
       "0                   0.727281           20540.0           69170.0  \n",
       "\n",
       "[4 rows x 50 columns]"
      ]
     },
     "execution_count": 64,
     "metadata": {},
     "output_type": "execute_result"
    }
   ],
   "source": [
    "final_output = universe_analysis.generate_final_output(\n",
    "    y_pred_prob=probs_test,\n",
    "    y_test=y_true,\n",
    "    org_test=org_test,\n",
    "    filter_data=filter_sub_universe_data,\n",
    "    cp_metrics_df=cp_metrics_df,\n",
    "    save=True,\n",
    ")\n",
    "final_output"
   ]
  },
  {
   "cell_type": "code",
   "execution_count": null,
   "id": "8b80a1ff",
   "metadata": {
    "papermill": {
     "duration": 0.015247,
     "end_time": "2025-08-19T18:55:48.630081",
     "exception": false,
     "start_time": "2025-08-19T18:55:48.614834",
     "status": "completed"
    },
    "tags": []
   },
   "outputs": [],
   "source": []
  },
  {
   "cell_type": "code",
   "execution_count": null,
   "id": "275c9fad",
   "metadata": {
    "papermill": {
     "duration": 0.01488,
     "end_time": "2025-08-19T18:55:48.659769",
     "exception": false,
     "start_time": "2025-08-19T18:55:48.644889",
     "status": "completed"
    },
    "tags": []
   },
   "outputs": [],
   "source": []
  }
 ],
 "metadata": {
  "celltoolbar": "Tags",
  "kernelspec": {
   "display_name": "Python (CMA Fairness)",
   "language": "python",
   "name": "cma_fair_env"
  },
  "language_info": {
   "codemirror_mode": {
    "name": "ipython",
    "version": 3
   },
   "file_extension": ".py",
   "mimetype": "text/x-python",
   "name": "python",
   "nbconvert_exporter": "python",
   "pygments_lexer": "ipython3",
   "version": "3.10.12"
  },
  "papermill": {
   "default_parameters": {},
   "duration": 33.92887,
   "end_time": "2025-08-19T18:55:49.609111",
   "environment_variables": {},
   "exception": null,
   "input_path": "universe_analysis.ipynb",
   "output_path": "output/runs/3/notebooks/m_3-cda0100fe51dcb71f034c2848d607fdd.ipynb",
   "parameters": {
    "output_dir": "output",
    "run_no": "3",
    "seed": "2023",
    "universe": "{\"cutoff\": [\"quantile_0.1\", \"quantile_0.25\"], \"eval_fairness_grouping\": [\"majority-minority\", \"nationality-all\"], \"exclude_features\": \"sex\", \"exclude_subgroups\": \"keep-all\", \"model\": \"gbm\", \"scale\": \"do-not-scale\", \"training_size\": \"1k\", \"training_year\": \"2014\"}",
    "universe_id": "cda0100fe51dcb71f034c2848d607fdd"
   },
   "start_time": "2025-08-19T18:55:15.680241",
   "version": "2.6.0"
  }
 },
 "nbformat": 4,
 "nbformat_minor": 5
}