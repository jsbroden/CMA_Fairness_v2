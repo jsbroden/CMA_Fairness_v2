{
 "cells": [
  {
   "cell_type": "markdown",
   "id": "ef23dbb3",
   "metadata": {
    "papermill": {
     "duration": 0.022349,
     "end_time": "2025-08-19T18:09:35.440912",
     "exception": false,
     "start_time": "2025-08-19T18:09:35.418563",
     "status": "completed"
    },
    "tags": []
   },
   "source": [
    "# Setup"
   ]
  },
  {
   "cell_type": "code",
   "execution_count": 1,
   "id": "0bc8e7dc",
   "metadata": {
    "execution": {
     "iopub.execute_input": "2025-08-19T18:09:35.463136Z",
     "iopub.status.busy": "2025-08-19T18:09:35.462825Z",
     "iopub.status.idle": "2025-08-19T18:09:35.474854Z",
     "shell.execute_reply": "2025-08-19T18:09:35.473962Z"
    },
    "papermill": {
     "duration": 0.026515,
     "end_time": "2025-08-19T18:09:35.479836",
     "exception": false,
     "start_time": "2025-08-19T18:09:35.453321",
     "status": "completed"
    },
    "tags": []
   },
   "outputs": [
    {
     "name": "stdout",
     "output_type": "stream",
     "text": [
      "/dss/dsshome1/0C/ra93lal2/cma/CMA_Fairness_v2\n"
     ]
    },
    {
     "name": "stderr",
     "output_type": "stream",
     "text": [
      "/dss/dsshome1/0C/ra93lal2/.local/share/virtualenvs/CMA_Fairness_v2-3j10GkSs/lib/python3.10/site-packages/IPython/core/magics/osm.py:393: UserWarning: This is now an optional IPython functionality, using bookmarks requires you to install the `pickleshare` library.\n",
      "  bkms = self.shell.db.get('bookmarks', {})\n",
      "/dss/dsshome1/0C/ra93lal2/.local/share/virtualenvs/CMA_Fairness_v2-3j10GkSs/lib/python3.10/site-packages/IPython/core/magics/osm.py:417: UserWarning: This is now an optional IPython functionality, setting dhist requires you to install the `pickleshare` library.\n",
      "  self.shell.db['dhist'] = compress_dhist(dhist)[-100:]\n"
     ]
    }
   ],
   "source": [
    "%cd ~/cma/CMA_Fairness_v2"
   ]
  },
  {
   "cell_type": "markdown",
   "id": "9d235661",
   "metadata": {
    "papermill": {
     "duration": 0.010426,
     "end_time": "2025-08-19T18:09:35.507684",
     "exception": false,
     "start_time": "2025-08-19T18:09:35.497258",
     "status": "completed"
    },
    "tags": []
   },
   "source": [
    "The following cell holds the definition of our parameters, these values can be overriden by rendering the with e.g. the following command:\n",
    "\n",
    "papermill -p alpha 0.2 -p ratio 0.3 universe_analysis.ipynb output/test_run.ipynb"
   ]
  },
  {
   "cell_type": "code",
   "execution_count": 2,
   "id": "4a789d8e",
   "metadata": {
    "execution": {
     "iopub.execute_input": "2025-08-19T18:09:35.529401Z",
     "iopub.status.busy": "2025-08-19T18:09:35.527988Z",
     "iopub.status.idle": "2025-08-19T18:09:35.545836Z",
     "shell.execute_reply": "2025-08-19T18:09:35.544716Z"
    },
    "papermill": {
     "duration": 0.031178,
     "end_time": "2025-08-19T18:09:35.547622",
     "exception": false,
     "start_time": "2025-08-19T18:09:35.516444",
     "status": "completed"
    },
    "tags": []
   },
   "outputs": [
    {
     "name": "stdout",
     "output_type": "stream",
     "text": [
      "Current working directory: /dss/dsshome1/0C/ra93lal2/cma/CMA_Fairness_v2\n"
     ]
    }
   ],
   "source": [
    "import os\n",
    "print(\"Current working directory:\", os.getcwd())"
   ]
  },
  {
   "cell_type": "code",
   "execution_count": 3,
   "id": "4132aaed",
   "metadata": {
    "execution": {
     "iopub.execute_input": "2025-08-19T18:09:35.574440Z",
     "iopub.status.busy": "2025-08-19T18:09:35.573120Z",
     "iopub.status.idle": "2025-08-19T18:09:35.582380Z",
     "shell.execute_reply": "2025-08-19T18:09:35.581091Z"
    },
    "papermill": {
     "duration": 0.021606,
     "end_time": "2025-08-19T18:09:35.583817",
     "exception": false,
     "start_time": "2025-08-19T18:09:35.562211",
     "status": "completed"
    },
    "tags": [
     "parameters"
    ]
   },
   "outputs": [],
   "source": [
    "run_no = 0\n",
    "universe_id = \"test\"\n",
    "universe = {\n",
    "    \"training_size\": \"5k\", # \"25k\", \"5k\", \"1k\"\n",
    "    \"training_year\": \"2012_14\", # \"2014\", \"2012_14\", \"2010_14\"\n",
    "    \"scale\": \"scale\", # \"scale\", \"do-not-scale\",\n",
    "    \"model\": \"elasticnet\", # \"logreg\", \"penalized_logreg\", \"rf\", \"gbm\", \"elasticnet\"\n",
    "    \"cutoff\": [\"quantile_0.15\", \"quantile_0.30\"],\n",
    "    \"exclude_features\": \"age\", # \"none\", \"nationality\", \"sex\", \"nationality-sex\", \"age\"\n",
    "    \"exclude_subgroups\": \"drop-non-german\", # \"keep-all\", \"drop-non-german\"\n",
    "    \"eval_fairness_grouping\": [\"majority-minority\", \"nationality-all\"]\n",
    "}\n",
    "\n",
    "output_dir=\"./output\"\n",
    "seed=0"
   ]
  },
  {
   "cell_type": "code",
   "execution_count": 4,
   "id": "bac31833",
   "metadata": {
    "execution": {
     "iopub.execute_input": "2025-08-19T18:09:35.607837Z",
     "iopub.status.busy": "2025-08-19T18:09:35.606435Z",
     "iopub.status.idle": "2025-08-19T18:09:35.614091Z",
     "shell.execute_reply": "2025-08-19T18:09:35.612854Z"
    },
    "papermill": {
     "duration": 0.019496,
     "end_time": "2025-08-19T18:09:35.615625",
     "exception": false,
     "start_time": "2025-08-19T18:09:35.596129",
     "status": "completed"
    },
    "tags": [
     "injected-parameters"
    ]
   },
   "outputs": [],
   "source": [
    "# Parameters\n",
    "universe_id = \"f9f4fa0eb4b291ceef0e42a7c59e10dd\"\n",
    "run_no = \"3\"\n",
    "universe = \"{\\\"cutoff\\\": [\\\"quantile_0.1\\\", \\\"quantile_0.25\\\"], \\\"eval_fairness_grouping\\\": [\\\"majority-minority\\\", \\\"nationality-all\\\"], \\\"exclude_features\\\": \\\"sex\\\", \\\"exclude_subgroups\\\": \\\"drop-non-german\\\", \\\"model\\\": \\\"rf\\\", \\\"scale\\\": \\\"do-not-scale\\\", \\\"training_size\\\": \\\"25k\\\", \\\"training_year\\\": \\\"2012_14\\\"}\"\n",
    "output_dir = \"output\"\n",
    "seed = \"2023\"\n"
   ]
  },
  {
   "cell_type": "code",
   "execution_count": 5,
   "id": "a5d7941f",
   "metadata": {
    "execution": {
     "iopub.execute_input": "2025-08-19T18:09:35.638952Z",
     "iopub.status.busy": "2025-08-19T18:09:35.637835Z",
     "iopub.status.idle": "2025-08-19T18:09:35.645152Z",
     "shell.execute_reply": "2025-08-19T18:09:35.643861Z"
    },
    "papermill": {
     "duration": 0.01918,
     "end_time": "2025-08-19T18:09:35.646623",
     "exception": false,
     "start_time": "2025-08-19T18:09:35.627443",
     "status": "completed"
    },
    "tags": []
   },
   "outputs": [],
   "source": [
    "import json\n",
    "if isinstance(universe, str):\n",
    "    universe = json.loads(universe)"
   ]
  },
  {
   "cell_type": "code",
   "execution_count": 6,
   "id": "7076ccb1",
   "metadata": {
    "execution": {
     "iopub.execute_input": "2025-08-19T18:09:35.668375Z",
     "iopub.status.busy": "2025-08-19T18:09:35.667522Z",
     "iopub.status.idle": "2025-08-19T18:09:35.719399Z",
     "shell.execute_reply": "2025-08-19T18:09:35.718475Z"
    },
    "papermill": {
     "duration": 0.064422,
     "end_time": "2025-08-19T18:09:35.721515",
     "exception": false,
     "start_time": "2025-08-19T18:09:35.657093",
     "status": "completed"
    },
    "tags": []
   },
   "outputs": [],
   "source": [
    "# Auto-reload the custom package\n",
    "%load_ext autoreload\n",
    "%autoreload 1\n",
    "%aimport fairness_multiverse"
   ]
  },
  {
   "cell_type": "code",
   "execution_count": 7,
   "id": "94c8eb93",
   "metadata": {
    "execution": {
     "iopub.execute_input": "2025-08-19T18:09:35.746217Z",
     "iopub.status.busy": "2025-08-19T18:09:35.745285Z",
     "iopub.status.idle": "2025-08-19T18:09:37.238482Z",
     "shell.execute_reply": "2025-08-19T18:09:37.237277Z"
    },
    "papermill": {
     "duration": 1.505357,
     "end_time": "2025-08-19T18:09:37.240209",
     "exception": false,
     "start_time": "2025-08-19T18:09:35.734852",
     "status": "completed"
    },
    "tags": []
   },
   "outputs": [],
   "source": [
    "from fairness_multiverse.universe import UniverseAnalysis\n",
    "\n",
    "universe_analysis = UniverseAnalysis(\n",
    "    run_no = run_no,\n",
    "    universe_id = universe_id,\n",
    "    universe = universe,\n",
    "    output_dir=output_dir,\n",
    ")"
   ]
  },
  {
   "cell_type": "code",
   "execution_count": 8,
   "id": "2a6381cf",
   "metadata": {
    "execution": {
     "iopub.execute_input": "2025-08-19T18:09:37.273045Z",
     "iopub.status.busy": "2025-08-19T18:09:37.272016Z",
     "iopub.status.idle": "2025-08-19T18:09:37.280865Z",
     "shell.execute_reply": "2025-08-19T18:09:37.279939Z"
    },
    "papermill": {
     "duration": 0.021546,
     "end_time": "2025-08-19T18:09:37.282512",
     "exception": false,
     "start_time": "2025-08-19T18:09:37.260966",
     "status": "completed"
    },
    "tags": []
   },
   "outputs": [
    {
     "name": "stdout",
     "output_type": "stream",
     "text": [
      "Using Seed: 2023\n"
     ]
    }
   ],
   "source": [
    "import numpy as np\n",
    "parsed_seed = int(seed)\n",
    "np.random.seed(parsed_seed)\n",
    "print(f\"Using Seed: {parsed_seed}\")"
   ]
  },
  {
   "cell_type": "markdown",
   "id": "b6e958b4",
   "metadata": {
    "papermill": {
     "duration": 0.008906,
     "end_time": "2025-08-19T18:09:37.301190",
     "exception": false,
     "start_time": "2025-08-19T18:09:37.292284",
     "status": "completed"
    },
    "tags": []
   },
   "source": [
    "# Loading Data"
   ]
  },
  {
   "cell_type": "code",
   "execution_count": 9,
   "id": "98701482",
   "metadata": {
    "execution": {
     "iopub.execute_input": "2025-08-19T18:09:37.320309Z",
     "iopub.status.busy": "2025-08-19T18:09:37.320001Z",
     "iopub.status.idle": "2025-08-19T18:09:47.291279Z",
     "shell.execute_reply": "2025-08-19T18:09:47.290622Z"
    },
    "papermill": {
     "duration": 9.982678,
     "end_time": "2025-08-19T18:09:47.292716",
     "exception": false,
     "start_time": "2025-08-19T18:09:37.310038",
     "status": "completed"
    },
    "tags": []
   },
   "outputs": [
    {
     "name": "stdout",
     "output_type": "stream",
     "text": [
      "Loading SIAB data from cache: data/siab_cached.csv.gz\n"
     ]
    },
    {
     "name": "stdout",
     "output_type": "stream",
     "text": [
      "(643690, 164)\n"
     ]
    }
   ],
   "source": [
    "from pathlib import Path\n",
    "import pandas as pd\n",
    "\n",
    "# File paths\n",
    "raw_file = Path(\"data/raw/siab.csv\")\n",
    "cache_file = Path(\"data/siab_cached.csv.gz\")\n",
    "\n",
    "# Ensure cache directory exists\n",
    "cache_file.parent.mkdir(parents=True, exist_ok=True)\n",
    "\n",
    "# Load with simple caching\n",
    "if cache_file.exists():\n",
    "    print(f\"Loading SIAB data from cache: {cache_file}\")\n",
    "    siab = pd.read_csv(cache_file, compression='gzip')\n",
    "else:\n",
    "    print(f\"Cache not found. Reading raw SIAB data: {raw_file}\")\n",
    "    siab = pd.read_csv(raw_file)\n",
    "    siab.to_csv(cache_file, index=False, compression='gzip')\n",
    "    print(f\"Cached SIAB data to: {cache_file}\")\n",
    "\n",
    "print(siab.shape)"
   ]
  },
  {
   "cell_type": "code",
   "execution_count": 10,
   "id": "058d2abb",
   "metadata": {
    "execution": {
     "iopub.execute_input": "2025-08-19T18:09:47.317357Z",
     "iopub.status.busy": "2025-08-19T18:09:47.316618Z",
     "iopub.status.idle": "2025-08-19T18:09:47.446412Z",
     "shell.execute_reply": "2025-08-19T18:09:47.445707Z"
    },
    "papermill": {
     "duration": 0.144151,
     "end_time": "2025-08-19T18:09:47.450212",
     "exception": false,
     "start_time": "2025-08-19T18:09:47.306061",
     "status": "completed"
    },
    "tags": []
   },
   "outputs": [
    {
     "data": {
      "text/html": [
       "<div>\n",
       "<style scoped>\n",
       "    .dataframe tbody tr th:only-of-type {\n",
       "        vertical-align: middle;\n",
       "    }\n",
       "\n",
       "    .dataframe tbody tr th {\n",
       "        vertical-align: top;\n",
       "    }\n",
       "\n",
       "    .dataframe thead th {\n",
       "        text-align: right;\n",
       "    }\n",
       "</style>\n",
       "<table border=\"1\" class=\"dataframe\">\n",
       "  <thead>\n",
       "    <tr style=\"text-align: right;\">\n",
       "      <th></th>\n",
       "      <th>persnr</th>\n",
       "      <th>year</th>\n",
       "      <th>nrEntry</th>\n",
       "      <th>ltue</th>\n",
       "      <th>employed_before</th>\n",
       "      <th>receipt_leh_before</th>\n",
       "      <th>receipt_lhg_before</th>\n",
       "      <th>se_before</th>\n",
       "      <th>ASU_notue_seeking_before</th>\n",
       "      <th>ASU_other_before</th>\n",
       "      <th>...</th>\n",
       "      <th>minijob_tot_dur_byage</th>\n",
       "      <th>ft_tot_dur_byage</th>\n",
       "      <th>befrist_tot_dur_byage</th>\n",
       "      <th>leih_tot_dur_byage</th>\n",
       "      <th>LHG_tot_dur_byage</th>\n",
       "      <th>LEH_tot_dur_byage</th>\n",
       "      <th>almp_tot_dur_byage</th>\n",
       "      <th>almp_aw_tot_dur_byage</th>\n",
       "      <th>se_tot_dur_byage</th>\n",
       "      <th>seeking1_tot_dur_byage</th>\n",
       "    </tr>\n",
       "  </thead>\n",
       "  <tbody>\n",
       "    <tr>\n",
       "      <th>0</th>\n",
       "      <td>7</td>\n",
       "      <td>2015</td>\n",
       "      <td>1</td>\n",
       "      <td>0</td>\n",
       "      <td>1</td>\n",
       "      <td>0</td>\n",
       "      <td>0</td>\n",
       "      <td>0</td>\n",
       "      <td>1</td>\n",
       "      <td>0</td>\n",
       "      <td>...</td>\n",
       "      <td>0.000000</td>\n",
       "      <td>0.000000</td>\n",
       "      <td>15.043478</td>\n",
       "      <td>0.000000</td>\n",
       "      <td>0.000000</td>\n",
       "      <td>0.000000</td>\n",
       "      <td>0.000000</td>\n",
       "      <td>0.000000</td>\n",
       "      <td>0.000000</td>\n",
       "      <td>0.000000</td>\n",
       "    </tr>\n",
       "    <tr>\n",
       "      <th>1</th>\n",
       "      <td>18</td>\n",
       "      <td>2010</td>\n",
       "      <td>1</td>\n",
       "      <td>1</td>\n",
       "      <td>0</td>\n",
       "      <td>0</td>\n",
       "      <td>0</td>\n",
       "      <td>0</td>\n",
       "      <td>0</td>\n",
       "      <td>0</td>\n",
       "      <td>...</td>\n",
       "      <td>0.000000</td>\n",
       "      <td>0.000000</td>\n",
       "      <td>0.000000</td>\n",
       "      <td>0.000000</td>\n",
       "      <td>0.000000</td>\n",
       "      <td>0.000000</td>\n",
       "      <td>0.000000</td>\n",
       "      <td>0.000000</td>\n",
       "      <td>0.000000</td>\n",
       "      <td>0.000000</td>\n",
       "    </tr>\n",
       "    <tr>\n",
       "      <th>2</th>\n",
       "      <td>18</td>\n",
       "      <td>2011</td>\n",
       "      <td>2</td>\n",
       "      <td>0</td>\n",
       "      <td>1</td>\n",
       "      <td>0</td>\n",
       "      <td>1</td>\n",
       "      <td>0</td>\n",
       "      <td>1</td>\n",
       "      <td>0</td>\n",
       "      <td>...</td>\n",
       "      <td>2.714286</td>\n",
       "      <td>2.714286</td>\n",
       "      <td>0.000000</td>\n",
       "      <td>0.000000</td>\n",
       "      <td>10.775510</td>\n",
       "      <td>0.000000</td>\n",
       "      <td>8.367347</td>\n",
       "      <td>0.000000</td>\n",
       "      <td>0.000000</td>\n",
       "      <td>9.836735</td>\n",
       "    </tr>\n",
       "    <tr>\n",
       "      <th>3</th>\n",
       "      <td>18</td>\n",
       "      <td>2012</td>\n",
       "      <td>3</td>\n",
       "      <td>0</td>\n",
       "      <td>1</td>\n",
       "      <td>0</td>\n",
       "      <td>1</td>\n",
       "      <td>0</td>\n",
       "      <td>1</td>\n",
       "      <td>0</td>\n",
       "      <td>...</td>\n",
       "      <td>4.200000</td>\n",
       "      <td>4.200000</td>\n",
       "      <td>0.000000</td>\n",
       "      <td>0.000000</td>\n",
       "      <td>12.100000</td>\n",
       "      <td>0.000000</td>\n",
       "      <td>9.400000</td>\n",
       "      <td>0.000000</td>\n",
       "      <td>0.000000</td>\n",
       "      <td>9.960000</td>\n",
       "    </tr>\n",
       "    <tr>\n",
       "      <th>4</th>\n",
       "      <td>18</td>\n",
       "      <td>2012</td>\n",
       "      <td>4</td>\n",
       "      <td>0</td>\n",
       "      <td>1</td>\n",
       "      <td>0</td>\n",
       "      <td>1</td>\n",
       "      <td>0</td>\n",
       "      <td>1</td>\n",
       "      <td>0</td>\n",
       "      <td>...</td>\n",
       "      <td>5.460000</td>\n",
       "      <td>5.460000</td>\n",
       "      <td>0.000000</td>\n",
       "      <td>0.000000</td>\n",
       "      <td>13.360000</td>\n",
       "      <td>0.000000</td>\n",
       "      <td>10.320000</td>\n",
       "      <td>0.000000</td>\n",
       "      <td>0.000000</td>\n",
       "      <td>10.280000</td>\n",
       "    </tr>\n",
       "    <tr>\n",
       "      <th>...</th>\n",
       "      <td>...</td>\n",
       "      <td>...</td>\n",
       "      <td>...</td>\n",
       "      <td>...</td>\n",
       "      <td>...</td>\n",
       "      <td>...</td>\n",
       "      <td>...</td>\n",
       "      <td>...</td>\n",
       "      <td>...</td>\n",
       "      <td>...</td>\n",
       "      <td>...</td>\n",
       "      <td>...</td>\n",
       "      <td>...</td>\n",
       "      <td>...</td>\n",
       "      <td>...</td>\n",
       "      <td>...</td>\n",
       "      <td>...</td>\n",
       "      <td>...</td>\n",
       "      <td>...</td>\n",
       "      <td>...</td>\n",
       "      <td>...</td>\n",
       "    </tr>\n",
       "    <tr>\n",
       "      <th>643685</th>\n",
       "      <td>1827860</td>\n",
       "      <td>2013</td>\n",
       "      <td>1</td>\n",
       "      <td>0</td>\n",
       "      <td>0</td>\n",
       "      <td>0</td>\n",
       "      <td>1</td>\n",
       "      <td>0</td>\n",
       "      <td>0</td>\n",
       "      <td>1</td>\n",
       "      <td>...</td>\n",
       "      <td>0.000000</td>\n",
       "      <td>0.000000</td>\n",
       "      <td>0.000000</td>\n",
       "      <td>0.000000</td>\n",
       "      <td>0.612903</td>\n",
       "      <td>0.000000</td>\n",
       "      <td>0.000000</td>\n",
       "      <td>0.000000</td>\n",
       "      <td>0.000000</td>\n",
       "      <td>0.000000</td>\n",
       "    </tr>\n",
       "    <tr>\n",
       "      <th>643686</th>\n",
       "      <td>1827860</td>\n",
       "      <td>2015</td>\n",
       "      <td>2</td>\n",
       "      <td>1</td>\n",
       "      <td>0</td>\n",
       "      <td>0</td>\n",
       "      <td>1</td>\n",
       "      <td>0</td>\n",
       "      <td>1</td>\n",
       "      <td>0</td>\n",
       "      <td>...</td>\n",
       "      <td>0.000000</td>\n",
       "      <td>0.000000</td>\n",
       "      <td>0.212121</td>\n",
       "      <td>0.212121</td>\n",
       "      <td>17.363636</td>\n",
       "      <td>0.000000</td>\n",
       "      <td>8.909091</td>\n",
       "      <td>0.000000</td>\n",
       "      <td>0.000000</td>\n",
       "      <td>7.121212</td>\n",
       "    </tr>\n",
       "    <tr>\n",
       "      <th>643687</th>\n",
       "      <td>1827860</td>\n",
       "      <td>2016</td>\n",
       "      <td>3</td>\n",
       "      <td>1</td>\n",
       "      <td>0</td>\n",
       "      <td>0</td>\n",
       "      <td>1</td>\n",
       "      <td>1</td>\n",
       "      <td>0</td>\n",
       "      <td>1</td>\n",
       "      <td>...</td>\n",
       "      <td>0.000000</td>\n",
       "      <td>0.000000</td>\n",
       "      <td>0.294118</td>\n",
       "      <td>0.205882</td>\n",
       "      <td>34.705882</td>\n",
       "      <td>0.000000</td>\n",
       "      <td>10.352941</td>\n",
       "      <td>1.705882</td>\n",
       "      <td>1.705882</td>\n",
       "      <td>23.911765</td>\n",
       "    </tr>\n",
       "    <tr>\n",
       "      <th>643688</th>\n",
       "      <td>1827869</td>\n",
       "      <td>2013</td>\n",
       "      <td>1</td>\n",
       "      <td>1</td>\n",
       "      <td>1</td>\n",
       "      <td>0</td>\n",
       "      <td>0</td>\n",
       "      <td>0</td>\n",
       "      <td>1</td>\n",
       "      <td>0</td>\n",
       "      <td>...</td>\n",
       "      <td>0.000000</td>\n",
       "      <td>0.000000</td>\n",
       "      <td>0.000000</td>\n",
       "      <td>0.000000</td>\n",
       "      <td>0.000000</td>\n",
       "      <td>0.525424</td>\n",
       "      <td>0.000000</td>\n",
       "      <td>0.000000</td>\n",
       "      <td>0.000000</td>\n",
       "      <td>0.000000</td>\n",
       "    </tr>\n",
       "    <tr>\n",
       "      <th>643689</th>\n",
       "      <td>1827869</td>\n",
       "      <td>2014</td>\n",
       "      <td>2</td>\n",
       "      <td>0</td>\n",
       "      <td>0</td>\n",
       "      <td>1</td>\n",
       "      <td>0</td>\n",
       "      <td>0</td>\n",
       "      <td>1</td>\n",
       "      <td>0</td>\n",
       "      <td>...</td>\n",
       "      <td>0.000000</td>\n",
       "      <td>0.666667</td>\n",
       "      <td>0.666667</td>\n",
       "      <td>0.000000</td>\n",
       "      <td>0.000000</td>\n",
       "      <td>8.950000</td>\n",
       "      <td>1.033333</td>\n",
       "      <td>0.083333</td>\n",
       "      <td>0.083333</td>\n",
       "      <td>8.133333</td>\n",
       "    </tr>\n",
       "  </tbody>\n",
       "</table>\n",
       "<p>643690 rows × 164 columns</p>\n",
       "</div>"
      ],
      "text/plain": [
       "         persnr  year  nrEntry  ltue  employed_before  receipt_leh_before  \\\n",
       "0             7  2015        1     0                1                   0   \n",
       "1            18  2010        1     1                0                   0   \n",
       "2            18  2011        2     0                1                   0   \n",
       "3            18  2012        3     0                1                   0   \n",
       "4            18  2012        4     0                1                   0   \n",
       "...         ...   ...      ...   ...              ...                 ...   \n",
       "643685  1827860  2013        1     0                0                   0   \n",
       "643686  1827860  2015        2     1                0                   0   \n",
       "643687  1827860  2016        3     1                0                   0   \n",
       "643688  1827869  2013        1     1                1                   0   \n",
       "643689  1827869  2014        2     0                0                   1   \n",
       "\n",
       "        receipt_lhg_before  se_before  ASU_notue_seeking_before  \\\n",
       "0                        0          0                         1   \n",
       "1                        0          0                         0   \n",
       "2                        1          0                         1   \n",
       "3                        1          0                         1   \n",
       "4                        1          0                         1   \n",
       "...                    ...        ...                       ...   \n",
       "643685                   1          0                         0   \n",
       "643686                   1          0                         1   \n",
       "643687                   1          1                         0   \n",
       "643688                   0          0                         1   \n",
       "643689                   0          0                         1   \n",
       "\n",
       "        ASU_other_before  ...  minijob_tot_dur_byage  ft_tot_dur_byage  \\\n",
       "0                      0  ...               0.000000          0.000000   \n",
       "1                      0  ...               0.000000          0.000000   \n",
       "2                      0  ...               2.714286          2.714286   \n",
       "3                      0  ...               4.200000          4.200000   \n",
       "4                      0  ...               5.460000          5.460000   \n",
       "...                  ...  ...                    ...               ...   \n",
       "643685                 1  ...               0.000000          0.000000   \n",
       "643686                 0  ...               0.000000          0.000000   \n",
       "643687                 1  ...               0.000000          0.000000   \n",
       "643688                 0  ...               0.000000          0.000000   \n",
       "643689                 0  ...               0.000000          0.666667   \n",
       "\n",
       "        befrist_tot_dur_byage  leih_tot_dur_byage  LHG_tot_dur_byage  \\\n",
       "0                   15.043478            0.000000           0.000000   \n",
       "1                    0.000000            0.000000           0.000000   \n",
       "2                    0.000000            0.000000          10.775510   \n",
       "3                    0.000000            0.000000          12.100000   \n",
       "4                    0.000000            0.000000          13.360000   \n",
       "...                       ...                 ...                ...   \n",
       "643685               0.000000            0.000000           0.612903   \n",
       "643686               0.212121            0.212121          17.363636   \n",
       "643687               0.294118            0.205882          34.705882   \n",
       "643688               0.000000            0.000000           0.000000   \n",
       "643689               0.666667            0.000000           0.000000   \n",
       "\n",
       "        LEH_tot_dur_byage  almp_tot_dur_byage  almp_aw_tot_dur_byage  \\\n",
       "0                0.000000            0.000000               0.000000   \n",
       "1                0.000000            0.000000               0.000000   \n",
       "2                0.000000            8.367347               0.000000   \n",
       "3                0.000000            9.400000               0.000000   \n",
       "4                0.000000           10.320000               0.000000   \n",
       "...                   ...                 ...                    ...   \n",
       "643685           0.000000            0.000000               0.000000   \n",
       "643686           0.000000            8.909091               0.000000   \n",
       "643687           0.000000           10.352941               1.705882   \n",
       "643688           0.525424            0.000000               0.000000   \n",
       "643689           8.950000            1.033333               0.083333   \n",
       "\n",
       "        se_tot_dur_byage  seeking1_tot_dur_byage  \n",
       "0               0.000000                0.000000  \n",
       "1               0.000000                0.000000  \n",
       "2               0.000000                9.836735  \n",
       "3               0.000000                9.960000  \n",
       "4               0.000000               10.280000  \n",
       "...                  ...                     ...  \n",
       "643685          0.000000                0.000000  \n",
       "643686          0.000000                7.121212  \n",
       "643687          1.705882               23.911765  \n",
       "643688          0.000000                0.000000  \n",
       "643689          0.083333                8.133333  \n",
       "\n",
       "[643690 rows x 164 columns]"
      ]
     },
     "execution_count": 10,
     "metadata": {},
     "output_type": "execute_result"
    }
   ],
   "source": [
    "siab"
   ]
  },
  {
   "cell_type": "markdown",
   "id": "1f87e805",
   "metadata": {
    "papermill": {
     "duration": 0.011909,
     "end_time": "2025-08-19T18:09:47.483716",
     "exception": false,
     "start_time": "2025-08-19T18:09:47.471807",
     "status": "completed"
    },
    "tags": []
   },
   "source": [
    "# Splitting Data and Setting Training Data Size"
   ]
  },
  {
   "cell_type": "code",
   "execution_count": 11,
   "id": "910ae358",
   "metadata": {
    "execution": {
     "iopub.execute_input": "2025-08-19T18:09:47.505704Z",
     "iopub.status.busy": "2025-08-19T18:09:47.504388Z",
     "iopub.status.idle": "2025-08-19T18:09:48.238900Z",
     "shell.execute_reply": "2025-08-19T18:09:48.238215Z"
    },
    "papermill": {
     "duration": 0.747174,
     "end_time": "2025-08-19T18:09:48.240382",
     "exception": false,
     "start_time": "2025-08-19T18:09:47.493208",
     "status": "completed"
    },
    "tags": []
   },
   "outputs": [],
   "source": [
    "from fairness_multiverse.universe import sample_by_year_size\n",
    "\n",
    "siab_train = sample_by_year_size(siab,\n",
    "                               training_year=universe[\"training_year\"],\n",
    "                               training_size=universe[\"training_size\"])"
   ]
  },
  {
   "cell_type": "code",
   "execution_count": 12,
   "id": "919c8ff5",
   "metadata": {
    "execution": {
     "iopub.execute_input": "2025-08-19T18:09:48.287693Z",
     "iopub.status.busy": "2025-08-19T18:09:48.286631Z",
     "iopub.status.idle": "2025-08-19T18:09:48.298136Z",
     "shell.execute_reply": "2025-08-19T18:09:48.296546Z"
    },
    "papermill": {
     "duration": 0.035199,
     "end_time": "2025-08-19T18:09:48.300153",
     "exception": false,
     "start_time": "2025-08-19T18:09:48.264954",
     "status": "completed"
    },
    "tags": []
   },
   "outputs": [
    {
     "data": {
      "text/plain": [
       "(25000, 164)"
      ]
     },
     "execution_count": 12,
     "metadata": {},
     "output_type": "execute_result"
    }
   ],
   "source": [
    "siab_train.shape"
   ]
  },
  {
   "cell_type": "code",
   "execution_count": 13,
   "id": "feb13bf4",
   "metadata": {
    "execution": {
     "iopub.execute_input": "2025-08-19T18:09:48.348317Z",
     "iopub.status.busy": "2025-08-19T18:09:48.346870Z",
     "iopub.status.idle": "2025-08-19T18:09:48.359624Z",
     "shell.execute_reply": "2025-08-19T18:09:48.358005Z"
    },
    "papermill": {
     "duration": 0.05246,
     "end_time": "2025-08-19T18:09:48.365765",
     "exception": false,
     "start_time": "2025-08-19T18:09:48.313305",
     "status": "completed"
    },
    "tags": []
   },
   "outputs": [
    {
     "data": {
      "text/plain": [
       "year\n",
       "2012    8334\n",
       "2013    8333\n",
       "2014    8333\n",
       "dtype: int64"
      ]
     },
     "metadata": {},
     "output_type": "display_data"
    }
   ],
   "source": [
    "display(siab_train.groupby(\"year\").size())"
   ]
  },
  {
   "cell_type": "code",
   "execution_count": 14,
   "id": "0997782f",
   "metadata": {
    "execution": {
     "iopub.execute_input": "2025-08-19T18:09:48.401693Z",
     "iopub.status.busy": "2025-08-19T18:09:48.401346Z",
     "iopub.status.idle": "2025-08-19T18:09:48.667950Z",
     "shell.execute_reply": "2025-08-19T18:09:48.666786Z"
    },
    "papermill": {
     "duration": 0.281719,
     "end_time": "2025-08-19T18:09:48.669653",
     "exception": false,
     "start_time": "2025-08-19T18:09:48.387934",
     "status": "completed"
    },
    "tags": []
   },
   "outputs": [],
   "source": [
    "#siab_train = siab_s[siab_s.year < 2015]\n",
    "siab_calib = siab[siab.year == 2015]\n",
    "siab_test = siab[siab.year == 2016]"
   ]
  },
  {
   "cell_type": "code",
   "execution_count": 15,
   "id": "2c1e4012",
   "metadata": {
    "execution": {
     "iopub.execute_input": "2025-08-19T18:09:48.711395Z",
     "iopub.status.busy": "2025-08-19T18:09:48.708650Z",
     "iopub.status.idle": "2025-08-19T18:09:48.722132Z",
     "shell.execute_reply": "2025-08-19T18:09:48.720898Z"
    },
    "papermill": {
     "duration": 0.032311,
     "end_time": "2025-08-19T18:09:48.725434",
     "exception": false,
     "start_time": "2025-08-19T18:09:48.693123",
     "status": "completed"
    },
    "tags": []
   },
   "outputs": [],
   "source": [
    "#siab_calib.shape"
   ]
  },
  {
   "cell_type": "code",
   "execution_count": 16,
   "id": "f66b54ca",
   "metadata": {
    "execution": {
     "iopub.execute_input": "2025-08-19T18:09:48.772186Z",
     "iopub.status.busy": "2025-08-19T18:09:48.765228Z",
     "iopub.status.idle": "2025-08-19T18:09:48.777590Z",
     "shell.execute_reply": "2025-08-19T18:09:48.776336Z"
    },
    "papermill": {
     "duration": 0.029899,
     "end_time": "2025-08-19T18:09:48.779116",
     "exception": false,
     "start_time": "2025-08-19T18:09:48.749217",
     "status": "completed"
    },
    "tags": []
   },
   "outputs": [],
   "source": [
    "#siab_test.shape"
   ]
  },
  {
   "cell_type": "code",
   "execution_count": 17,
   "id": "27e4384d",
   "metadata": {
    "execution": {
     "iopub.execute_input": "2025-08-19T18:09:48.804305Z",
     "iopub.status.busy": "2025-08-19T18:09:48.803810Z",
     "iopub.status.idle": "2025-08-19T18:09:48.867099Z",
     "shell.execute_reply": "2025-08-19T18:09:48.866034Z"
    },
    "papermill": {
     "duration": 0.076189,
     "end_time": "2025-08-19T18:09:48.868922",
     "exception": false,
     "start_time": "2025-08-19T18:09:48.792733",
     "status": "completed"
    },
    "tags": []
   },
   "outputs": [],
   "source": [
    "X_train = siab_train.iloc[:,4:164]\n",
    "y_train = siab_train.iloc[:, [3]]"
   ]
  },
  {
   "cell_type": "code",
   "execution_count": 18,
   "id": "08ee8389",
   "metadata": {
    "execution": {
     "iopub.execute_input": "2025-08-19T18:09:48.894956Z",
     "iopub.status.busy": "2025-08-19T18:09:48.894285Z",
     "iopub.status.idle": "2025-08-19T18:09:48.953094Z",
     "shell.execute_reply": "2025-08-19T18:09:48.952102Z"
    },
    "papermill": {
     "duration": 0.07393,
     "end_time": "2025-08-19T18:09:48.955185",
     "exception": false,
     "start_time": "2025-08-19T18:09:48.881255",
     "status": "completed"
    },
    "tags": []
   },
   "outputs": [],
   "source": [
    "X_calib = siab_calib.iloc[:,4:164]\n",
    "y_calib = siab_calib.iloc[:, [3]]"
   ]
  },
  {
   "cell_type": "code",
   "execution_count": 19,
   "id": "b7ff42e0",
   "metadata": {
    "execution": {
     "iopub.execute_input": "2025-08-19T18:09:48.994657Z",
     "iopub.status.busy": "2025-08-19T18:09:48.994174Z",
     "iopub.status.idle": "2025-08-19T18:09:49.049512Z",
     "shell.execute_reply": "2025-08-19T18:09:49.048569Z"
    },
    "papermill": {
     "duration": 0.084987,
     "end_time": "2025-08-19T18:09:49.053085",
     "exception": false,
     "start_time": "2025-08-19T18:09:48.968098",
     "status": "completed"
    },
    "tags": []
   },
   "outputs": [],
   "source": [
    "X_test = siab_test.iloc[:,4:164]\n",
    "y_true = siab_test.iloc[:, [3]]"
   ]
  },
  {
   "cell_type": "code",
   "execution_count": 20,
   "id": "0275101e",
   "metadata": {
    "execution": {
     "iopub.execute_input": "2025-08-19T18:09:49.091982Z",
     "iopub.status.busy": "2025-08-19T18:09:49.091094Z",
     "iopub.status.idle": "2025-08-19T18:09:49.228311Z",
     "shell.execute_reply": "2025-08-19T18:09:49.227376Z"
    },
    "papermill": {
     "duration": 0.154603,
     "end_time": "2025-08-19T18:09:49.231108",
     "exception": false,
     "start_time": "2025-08-19T18:09:49.076505",
     "status": "completed"
    },
    "tags": []
   },
   "outputs": [],
   "source": [
    "# Auxiliary data needed downstream in the pipeline\n",
    "\n",
    "org_train = X_train.copy()\n",
    "org_test = X_test.copy()\n",
    "org_calib = X_calib.copy()"
   ]
  },
  {
   "cell_type": "markdown",
   "id": "b461e618",
   "metadata": {
    "papermill": {
     "duration": 0.012536,
     "end_time": "2025-08-19T18:09:49.267750",
     "exception": false,
     "start_time": "2025-08-19T18:09:49.255214",
     "status": "completed"
    },
    "tags": []
   },
   "source": [
    "# Preprocessing Data"
   ]
  },
  {
   "cell_type": "code",
   "execution_count": 21,
   "id": "78e74c4b",
   "metadata": {
    "execution": {
     "iopub.execute_input": "2025-08-19T18:09:49.292012Z",
     "iopub.status.busy": "2025-08-19T18:09:49.291263Z",
     "iopub.status.idle": "2025-08-19T18:09:49.302993Z",
     "shell.execute_reply": "2025-08-19T18:09:49.301598Z"
    },
    "papermill": {
     "duration": 0.026741,
     "end_time": "2025-08-19T18:09:49.305001",
     "exception": false,
     "start_time": "2025-08-19T18:09:49.278260",
     "status": "completed"
    },
    "tags": []
   },
   "outputs": [],
   "source": [
    "# EXCLUDE PROTECTED FEATURES\n",
    "# --------------------------\n",
    "\n",
    "excluded_features = universe[\"exclude_features\"].split(\"-\")\n",
    "excluded_features_dictionary = {\n",
    "    \"nationality\": [\"maxdeutsch1\", \"maxdeutsch.Missing.\"],\n",
    "    \"sex\": [\"frau1\"],\n",
    "    \"age\": [\"age\"],\n",
    "}"
   ]
  },
  {
   "cell_type": "code",
   "execution_count": 22,
   "id": "f8e63555",
   "metadata": {
    "execution": {
     "iopub.execute_input": "2025-08-19T18:09:49.331673Z",
     "iopub.status.busy": "2025-08-19T18:09:49.330946Z",
     "iopub.status.idle": "2025-08-19T18:09:49.340306Z",
     "shell.execute_reply": "2025-08-19T18:09:49.338740Z"
    },
    "papermill": {
     "duration": 0.023843,
     "end_time": "2025-08-19T18:09:49.341872",
     "exception": false,
     "start_time": "2025-08-19T18:09:49.318029",
     "status": "completed"
    },
    "tags": []
   },
   "outputs": [],
   "source": [
    "excluded_features_columns = [\n",
    "    excluded_features_dictionary[f] for f in excluded_features if len(f) > 0 and f != \"none\"\n",
    "]"
   ]
  },
  {
   "cell_type": "code",
   "execution_count": 23,
   "id": "da781f7c",
   "metadata": {
    "execution": {
     "iopub.execute_input": "2025-08-19T18:09:49.370388Z",
     "iopub.status.busy": "2025-08-19T18:09:49.369894Z",
     "iopub.status.idle": "2025-08-19T18:09:49.377055Z",
     "shell.execute_reply": "2025-08-19T18:09:49.375753Z"
    },
    "papermill": {
     "duration": 0.020912,
     "end_time": "2025-08-19T18:09:49.378740",
     "exception": false,
     "start_time": "2025-08-19T18:09:49.357828",
     "status": "completed"
    },
    "tags": []
   },
   "outputs": [],
   "source": [
    "from fairness_multiverse.universe import flatten_once\n",
    "\n",
    "excluded_features_columns = flatten_once(excluded_features_columns)"
   ]
  },
  {
   "cell_type": "code",
   "execution_count": 24,
   "id": "37fef0f0",
   "metadata": {
    "execution": {
     "iopub.execute_input": "2025-08-19T18:09:49.405887Z",
     "iopub.status.busy": "2025-08-19T18:09:49.405413Z",
     "iopub.status.idle": "2025-08-19T18:09:49.455234Z",
     "shell.execute_reply": "2025-08-19T18:09:49.454358Z"
    },
    "papermill": {
     "duration": 0.067934,
     "end_time": "2025-08-19T18:09:49.457512",
     "exception": false,
     "start_time": "2025-08-19T18:09:49.389578",
     "status": "completed"
    },
    "tags": []
   },
   "outputs": [
    {
     "name": "stdout",
     "output_type": "stream",
     "text": [
      "Dropping features: ['frau1']\n"
     ]
    }
   ],
   "source": [
    "if len(excluded_features_columns) > 0:\n",
    "    print(f\"Dropping features: {excluded_features_columns}\")\n",
    "    X_train.drop(excluded_features_columns, axis=1, inplace=True)"
   ]
  },
  {
   "cell_type": "code",
   "execution_count": 25,
   "id": "d029e3e9",
   "metadata": {
    "execution": {
     "iopub.execute_input": "2025-08-19T18:09:49.481632Z",
     "iopub.status.busy": "2025-08-19T18:09:49.481103Z",
     "iopub.status.idle": "2025-08-19T18:09:49.542325Z",
     "shell.execute_reply": "2025-08-19T18:09:49.541544Z"
    },
    "papermill": {
     "duration": 0.074456,
     "end_time": "2025-08-19T18:09:49.543476",
     "exception": false,
     "start_time": "2025-08-19T18:09:49.469020",
     "status": "completed"
    },
    "tags": []
   },
   "outputs": [
    {
     "name": "stdout",
     "output_type": "stream",
     "text": [
      "Dropping features: ['frau1']\n"
     ]
    }
   ],
   "source": [
    "if len(excluded_features_columns) > 0:\n",
    "    print(f\"Dropping features: {excluded_features_columns}\")\n",
    "    X_test.drop(excluded_features_columns, axis=1, inplace=True)"
   ]
  },
  {
   "cell_type": "code",
   "execution_count": 26,
   "id": "01d571f0",
   "metadata": {
    "execution": {
     "iopub.execute_input": "2025-08-19T18:09:49.571262Z",
     "iopub.status.busy": "2025-08-19T18:09:49.570487Z",
     "iopub.status.idle": "2025-08-19T18:09:49.622341Z",
     "shell.execute_reply": "2025-08-19T18:09:49.621474Z"
    },
    "papermill": {
     "duration": 0.068034,
     "end_time": "2025-08-19T18:09:49.623739",
     "exception": false,
     "start_time": "2025-08-19T18:09:49.555705",
     "status": "completed"
    },
    "tags": []
   },
   "outputs": [
    {
     "name": "stdout",
     "output_type": "stream",
     "text": [
      "Dropping features: ['frau1']\n"
     ]
    }
   ],
   "source": [
    "if len(excluded_features_columns) > 0:\n",
    "    print(f\"Dropping features: {excluded_features_columns}\")\n",
    "    X_calib.drop(excluded_features_columns, axis=1, inplace=True)"
   ]
  },
  {
   "cell_type": "code",
   "execution_count": 27,
   "id": "3037356e",
   "metadata": {
    "execution": {
     "iopub.execute_input": "2025-08-19T18:09:49.653832Z",
     "iopub.status.busy": "2025-08-19T18:09:49.653464Z",
     "iopub.status.idle": "2025-08-19T18:09:49.972393Z",
     "shell.execute_reply": "2025-08-19T18:09:49.971391Z"
    },
    "papermill": {
     "duration": 0.339563,
     "end_time": "2025-08-19T18:09:49.974227",
     "exception": false,
     "start_time": "2025-08-19T18:09:49.634664",
     "status": "completed"
    },
    "tags": []
   },
   "outputs": [],
   "source": [
    "# EXCLUDE CERTAIN SUBGROUPS\n",
    "# -------------------------\n",
    "\n",
    "mode = universe.get(\"exclude_subgroups\", \"keep-all\") # Defaults to \"keep-all\" if the key is missing."
   ]
  },
  {
   "cell_type": "code",
   "execution_count": 28,
   "id": "9d1e63fd",
   "metadata": {
    "execution": {
     "iopub.execute_input": "2025-08-19T18:09:50.014807Z",
     "iopub.status.busy": "2025-08-19T18:09:50.014486Z",
     "iopub.status.idle": "2025-08-19T18:09:50.021938Z",
     "shell.execute_reply": "2025-08-19T18:09:50.020866Z"
    },
    "papermill": {
     "duration": 0.023704,
     "end_time": "2025-08-19T18:09:50.023591",
     "exception": false,
     "start_time": "2025-08-19T18:09:49.999887",
     "status": "completed"
    },
    "tags": []
   },
   "outputs": [],
   "source": [
    "if mode == \"keep-all\":\n",
    "    keep_mask = pd.Series(True, index=org_train.index)\n",
    "\n",
    "elif mode == \"drop-non-german\":\n",
    "    keep_mask = (org_train[\"maxdeutsch1\"] == 1) & (org_train[\"maxdeutsch.Missing.\"] == 0)\n",
    "\n",
    "else:\n",
    "    raise ValueError(f\"Unsupported mode for exclude_subgroups: {mode}\")"
   ]
  },
  {
   "cell_type": "code",
   "execution_count": 29,
   "id": "d3b65474",
   "metadata": {
    "execution": {
     "iopub.execute_input": "2025-08-19T18:09:50.048670Z",
     "iopub.status.busy": "2025-08-19T18:09:50.048167Z",
     "iopub.status.idle": "2025-08-19T18:09:50.056810Z",
     "shell.execute_reply": "2025-08-19T18:09:50.055747Z"
    },
    "papermill": {
     "duration": 0.022839,
     "end_time": "2025-08-19T18:09:50.058252",
     "exception": false,
     "start_time": "2025-08-19T18:09:50.035413",
     "status": "completed"
    },
    "tags": []
   },
   "outputs": [
    {
     "name": "stdout",
     "output_type": "stream",
     "text": [
      "Dropping 3481 rows (13.92%) where mode='drop-non-german'\n"
     ]
    }
   ],
   "source": [
    "n_drop = (~keep_mask).sum() # Calculates how many rows are set to be dropped\n",
    "if n_drop > 0:\n",
    "    pct = n_drop / len(keep_mask) * 100\n",
    "    print(f\"Dropping {n_drop} rows ({pct:.2f}%) where mode='{mode}'\")"
   ]
  },
  {
   "cell_type": "code",
   "execution_count": 30,
   "id": "f44389b3",
   "metadata": {
    "execution": {
     "iopub.execute_input": "2025-08-19T18:09:50.102763Z",
     "iopub.status.busy": "2025-08-19T18:09:50.102451Z",
     "iopub.status.idle": "2025-08-19T18:09:50.137711Z",
     "shell.execute_reply": "2025-08-19T18:09:50.136716Z"
    },
    "papermill": {
     "duration": 0.053558,
     "end_time": "2025-08-19T18:09:50.141244",
     "exception": false,
     "start_time": "2025-08-19T18:09:50.087686",
     "status": "completed"
    },
    "tags": []
   },
   "outputs": [],
   "source": [
    "X_train = X_train[keep_mask]"
   ]
  },
  {
   "cell_type": "code",
   "execution_count": 31,
   "id": "ceca8c2a",
   "metadata": {
    "execution": {
     "iopub.execute_input": "2025-08-19T18:09:50.199792Z",
     "iopub.status.busy": "2025-08-19T18:09:50.199408Z",
     "iopub.status.idle": "2025-08-19T18:09:50.208661Z",
     "shell.execute_reply": "2025-08-19T18:09:50.207447Z"
    },
    "papermill": {
     "duration": 0.038105,
     "end_time": "2025-08-19T18:09:50.210409",
     "exception": false,
     "start_time": "2025-08-19T18:09:50.172304",
     "status": "completed"
    },
    "tags": []
   },
   "outputs": [],
   "source": [
    "y_train = y_train[keep_mask]"
   ]
  },
  {
   "cell_type": "markdown",
   "id": "04d31e2f",
   "metadata": {
    "papermill": {
     "duration": 0.010646,
     "end_time": "2025-08-19T18:09:50.232461",
     "exception": false,
     "start_time": "2025-08-19T18:09:50.221815",
     "status": "completed"
    },
    "tags": []
   },
   "source": [
    "# Model Training"
   ]
  },
  {
   "cell_type": "code",
   "execution_count": 32,
   "id": "db991733",
   "metadata": {
    "execution": {
     "iopub.execute_input": "2025-08-19T18:09:50.255045Z",
     "iopub.status.busy": "2025-08-19T18:09:50.254457Z",
     "iopub.status.idle": "2025-08-19T18:09:50.350117Z",
     "shell.execute_reply": "2025-08-19T18:09:50.349136Z"
    },
    "papermill": {
     "duration": 0.109023,
     "end_time": "2025-08-19T18:09:50.351995",
     "exception": false,
     "start_time": "2025-08-19T18:09:50.242972",
     "status": "completed"
    },
    "tags": []
   },
   "outputs": [],
   "source": [
    "from sklearn.linear_model import LogisticRegression\n",
    "from sklearn.ensemble import GradientBoostingClassifier, RandomForestClassifier\n",
    "\n",
    "if (universe[\"model\"] == \"logreg\"):\n",
    "    model = LogisticRegression() #penalty=\"none\", solver=\"newton-cg\", max_iter=1)\n",
    "elif (universe[\"model\"] == \"penalized_logreg\"):\n",
    "    model = LogisticRegression(penalty=\"l2\", C=0.1) #, solver=\"newton-cg\", max_iter=1)\n",
    "elif (universe[\"model\"] == \"rf\"):\n",
    "    model = RandomForestClassifier() # n_estimators=100, n_jobs=-1\n",
    "elif (universe[\"model\"] == \"gbm\"):\n",
    "    model = GradientBoostingClassifier()\n",
    "elif (universe[\"model\"] == \"elasticnet\"):\n",
    "    model = LogisticRegression(penalty = 'elasticnet', solver = 'saga', l1_ratio = 0.5) # max_iter=5000\n",
    "else:\n",
    "    raise \"Unsupported universe.model\""
   ]
  },
  {
   "cell_type": "code",
   "execution_count": 33,
   "id": "a4b5cd25",
   "metadata": {
    "execution": {
     "iopub.execute_input": "2025-08-19T18:09:50.376420Z",
     "iopub.status.busy": "2025-08-19T18:09:50.375724Z",
     "iopub.status.idle": "2025-08-19T18:09:50.383855Z",
     "shell.execute_reply": "2025-08-19T18:09:50.382713Z"
    },
    "papermill": {
     "duration": 0.022189,
     "end_time": "2025-08-19T18:09:50.385214",
     "exception": false,
     "start_time": "2025-08-19T18:09:50.363025",
     "status": "completed"
    },
    "tags": []
   },
   "outputs": [],
   "source": [
    "from sklearn.pipeline import Pipeline\n",
    "from sklearn.preprocessing import StandardScaler\n",
    "\n",
    "model = Pipeline([\n",
    "    #(\"continuous_processor\", continuous_processor),\n",
    "    #(\"categorical_preprocessor\", categorical_preprocessor),\n",
    "    (\"scale\", StandardScaler() if universe[\"scale\"] == \"scale\" else None), \n",
    "    (\"model\", model),\n",
    "])"
   ]
  },
  {
   "cell_type": "code",
   "execution_count": 34,
   "id": "283a904d",
   "metadata": {
    "execution": {
     "iopub.execute_input": "2025-08-19T18:09:50.418785Z",
     "iopub.status.busy": "2025-08-19T18:09:50.418070Z",
     "iopub.status.idle": "2025-08-19T18:09:57.354833Z",
     "shell.execute_reply": "2025-08-19T18:09:57.353828Z"
    },
    "papermill": {
     "duration": 6.955663,
     "end_time": "2025-08-19T18:09:57.358702",
     "exception": false,
     "start_time": "2025-08-19T18:09:50.403039",
     "status": "completed"
    },
    "tags": []
   },
   "outputs": [
    {
     "data": {
      "text/html": [
       "<style>#sk-container-id-1 {color: black;background-color: white;}#sk-container-id-1 pre{padding: 0;}#sk-container-id-1 div.sk-toggleable {background-color: white;}#sk-container-id-1 label.sk-toggleable__label {cursor: pointer;display: block;width: 100%;margin-bottom: 0;padding: 0.3em;box-sizing: border-box;text-align: center;}#sk-container-id-1 label.sk-toggleable__label-arrow:before {content: \"▸\";float: left;margin-right: 0.25em;color: #696969;}#sk-container-id-1 label.sk-toggleable__label-arrow:hover:before {color: black;}#sk-container-id-1 div.sk-estimator:hover label.sk-toggleable__label-arrow:before {color: black;}#sk-container-id-1 div.sk-toggleable__content {max-height: 0;max-width: 0;overflow: hidden;text-align: left;background-color: #f0f8ff;}#sk-container-id-1 div.sk-toggleable__content pre {margin: 0.2em;color: black;border-radius: 0.25em;background-color: #f0f8ff;}#sk-container-id-1 input.sk-toggleable__control:checked~div.sk-toggleable__content {max-height: 200px;max-width: 100%;overflow: auto;}#sk-container-id-1 input.sk-toggleable__control:checked~label.sk-toggleable__label-arrow:before {content: \"▾\";}#sk-container-id-1 div.sk-estimator input.sk-toggleable__control:checked~label.sk-toggleable__label {background-color: #d4ebff;}#sk-container-id-1 div.sk-label input.sk-toggleable__control:checked~label.sk-toggleable__label {background-color: #d4ebff;}#sk-container-id-1 input.sk-hidden--visually {border: 0;clip: rect(1px 1px 1px 1px);clip: rect(1px, 1px, 1px, 1px);height: 1px;margin: -1px;overflow: hidden;padding: 0;position: absolute;width: 1px;}#sk-container-id-1 div.sk-estimator {font-family: monospace;background-color: #f0f8ff;border: 1px dotted black;border-radius: 0.25em;box-sizing: border-box;margin-bottom: 0.5em;}#sk-container-id-1 div.sk-estimator:hover {background-color: #d4ebff;}#sk-container-id-1 div.sk-parallel-item::after {content: \"\";width: 100%;border-bottom: 1px solid gray;flex-grow: 1;}#sk-container-id-1 div.sk-label:hover label.sk-toggleable__label {background-color: #d4ebff;}#sk-container-id-1 div.sk-serial::before {content: \"\";position: absolute;border-left: 1px solid gray;box-sizing: border-box;top: 0;bottom: 0;left: 50%;z-index: 0;}#sk-container-id-1 div.sk-serial {display: flex;flex-direction: column;align-items: center;background-color: white;padding-right: 0.2em;padding-left: 0.2em;position: relative;}#sk-container-id-1 div.sk-item {position: relative;z-index: 1;}#sk-container-id-1 div.sk-parallel {display: flex;align-items: stretch;justify-content: center;background-color: white;position: relative;}#sk-container-id-1 div.sk-item::before, #sk-container-id-1 div.sk-parallel-item::before {content: \"\";position: absolute;border-left: 1px solid gray;box-sizing: border-box;top: 0;bottom: 0;left: 50%;z-index: -1;}#sk-container-id-1 div.sk-parallel-item {display: flex;flex-direction: column;z-index: 1;position: relative;background-color: white;}#sk-container-id-1 div.sk-parallel-item:first-child::after {align-self: flex-end;width: 50%;}#sk-container-id-1 div.sk-parallel-item:last-child::after {align-self: flex-start;width: 50%;}#sk-container-id-1 div.sk-parallel-item:only-child::after {width: 0;}#sk-container-id-1 div.sk-dashed-wrapped {border: 1px dashed gray;margin: 0 0.4em 0.5em 0.4em;box-sizing: border-box;padding-bottom: 0.4em;background-color: white;}#sk-container-id-1 div.sk-label label {font-family: monospace;font-weight: bold;display: inline-block;line-height: 1.2em;}#sk-container-id-1 div.sk-label-container {text-align: center;}#sk-container-id-1 div.sk-container {/* jupyter's `normalize.less` sets `[hidden] { display: none; }` but bootstrap.min.css set `[hidden] { display: none !important; }` so we also need the `!important` here to be able to override the default hidden behavior on the sphinx rendered scikit-learn.org. See: https://github.com/scikit-learn/scikit-learn/issues/21755 */display: inline-block !important;position: relative;}#sk-container-id-1 div.sk-text-repr-fallback {display: none;}</style><div id=\"sk-container-id-1\" class=\"sk-top-container\"><div class=\"sk-text-repr-fallback\"><pre>Pipeline(steps=[(&#x27;scale&#x27;, None), (&#x27;model&#x27;, RandomForestClassifier())])</pre><b>In a Jupyter environment, please rerun this cell to show the HTML representation or trust the notebook. <br />On GitHub, the HTML representation is unable to render, please try loading this page with nbviewer.org.</b></div><div class=\"sk-container\" hidden><div class=\"sk-item sk-dashed-wrapped\"><div class=\"sk-label-container\"><div class=\"sk-label sk-toggleable\"><input class=\"sk-toggleable__control sk-hidden--visually\" id=\"sk-estimator-id-1\" type=\"checkbox\" ><label for=\"sk-estimator-id-1\" class=\"sk-toggleable__label sk-toggleable__label-arrow\">Pipeline</label><div class=\"sk-toggleable__content\"><pre>Pipeline(steps=[(&#x27;scale&#x27;, None), (&#x27;model&#x27;, RandomForestClassifier())])</pre></div></div></div><div class=\"sk-serial\"><div class=\"sk-item\"><div class=\"sk-estimator sk-toggleable\"><input class=\"sk-toggleable__control sk-hidden--visually\" id=\"sk-estimator-id-2\" type=\"checkbox\" ><label for=\"sk-estimator-id-2\" class=\"sk-toggleable__label sk-toggleable__label-arrow\">None</label><div class=\"sk-toggleable__content\"><pre>None</pre></div></div></div><div class=\"sk-item\"><div class=\"sk-estimator sk-toggleable\"><input class=\"sk-toggleable__control sk-hidden--visually\" id=\"sk-estimator-id-3\" type=\"checkbox\" ><label for=\"sk-estimator-id-3\" class=\"sk-toggleable__label sk-toggleable__label-arrow\">RandomForestClassifier</label><div class=\"sk-toggleable__content\"><pre>RandomForestClassifier()</pre></div></div></div></div></div></div></div>"
      ],
      "text/plain": [
       "Pipeline(steps=[('scale', None), ('model', RandomForestClassifier())])"
      ]
     },
     "execution_count": 34,
     "metadata": {},
     "output_type": "execute_result"
    }
   ],
   "source": [
    "model.fit(X_train, y_train.values.ravel())"
   ]
  },
  {
   "cell_type": "code",
   "execution_count": 35,
   "id": "6e15e313",
   "metadata": {
    "execution": {
     "iopub.execute_input": "2025-08-19T18:09:57.406843Z",
     "iopub.status.busy": "2025-08-19T18:09:57.406503Z",
     "iopub.status.idle": "2025-08-19T18:09:59.784368Z",
     "shell.execute_reply": "2025-08-19T18:09:59.783406Z"
    },
    "papermill": {
     "duration": 2.40404,
     "end_time": "2025-08-19T18:09:59.786449",
     "exception": false,
     "start_time": "2025-08-19T18:09:57.382409",
     "status": "completed"
    },
    "tags": []
   },
   "outputs": [
    {
     "data": {
      "text/plain": [
       "0.8660795897893211"
      ]
     },
     "execution_count": 35,
     "metadata": {},
     "output_type": "execute_result"
    }
   ],
   "source": [
    "from fairness_multiverse.universe import predict_w_threshold\n",
    "\n",
    "probs_test = model.predict_proba(X_test)\n",
    "\n",
    "'''\n",
    "Below code returns a boolean array (or binary 0/1 array depending on how it’s used) where each element \n",
    "is True if the probability of class 1 is greater than or equal to the threshold, and False otherwise.\n",
    "'''\n",
    "y_pred_default = predict_w_threshold(probs_test, 0.5)\n",
    "\n",
    "from sklearn.metrics import accuracy_score\n",
    "\n",
    "# Naive prediction\n",
    "accuracy_score(y_true = y_true, y_pred = y_pred_default)"
   ]
  },
  {
   "cell_type": "code",
   "execution_count": 36,
   "id": "6f14067c",
   "metadata": {
    "execution": {
     "iopub.execute_input": "2025-08-19T18:09:59.831209Z",
     "iopub.status.busy": "2025-08-19T18:09:59.830278Z",
     "iopub.status.idle": "2025-08-19T18:10:02.138138Z",
     "shell.execute_reply": "2025-08-19T18:10:02.137260Z"
    },
    "papermill": {
     "duration": 2.332819,
     "end_time": "2025-08-19T18:10:02.139611",
     "exception": false,
     "start_time": "2025-08-19T18:09:59.806792",
     "status": "completed"
    },
    "tags": []
   },
   "outputs": [
    {
     "data": {
      "text/plain": [
       "array([0, 0, 0, ..., 0, 0, 0])"
      ]
     },
     "execution_count": 36,
     "metadata": {},
     "output_type": "execute_result"
    }
   ],
   "source": [
    "model.predict(X_test)"
   ]
  },
  {
   "cell_type": "markdown",
   "id": "3759920c",
   "metadata": {
    "papermill": {
     "duration": 0.025455,
     "end_time": "2025-08-19T18:10:02.177564",
     "exception": false,
     "start_time": "2025-08-19T18:10:02.152109",
     "status": "completed"
    },
    "tags": []
   },
   "source": [
    "# Conformal Prediction"
   ]
  },
  {
   "cell_type": "code",
   "execution_count": 37,
   "id": "14b27f59",
   "metadata": {
    "execution": {
     "iopub.execute_input": "2025-08-19T18:10:02.205372Z",
     "iopub.status.busy": "2025-08-19T18:10:02.204587Z",
     "iopub.status.idle": "2025-08-19T18:10:02.213077Z",
     "shell.execute_reply": "2025-08-19T18:10:02.211656Z"
    },
    "papermill": {
     "duration": 0.024103,
     "end_time": "2025-08-19T18:10:02.214764",
     "exception": false,
     "start_time": "2025-08-19T18:10:02.190661",
     "status": "completed"
    },
    "tags": []
   },
   "outputs": [],
   "source": [
    "# Miscoverage level for conformal prediction (10% allowed error rate => 90% target coverage)\n",
    "alpha = 0.1"
   ]
  },
  {
   "cell_type": "code",
   "execution_count": 38,
   "id": "59102472",
   "metadata": {
    "execution": {
     "iopub.execute_input": "2025-08-19T18:10:02.242267Z",
     "iopub.status.busy": "2025-08-19T18:10:02.241553Z",
     "iopub.status.idle": "2025-08-19T18:10:04.513191Z",
     "shell.execute_reply": "2025-08-19T18:10:04.512043Z"
    },
    "papermill": {
     "duration": 2.287944,
     "end_time": "2025-08-19T18:10:04.516327",
     "exception": false,
     "start_time": "2025-08-19T18:10:02.228383",
     "status": "completed"
    },
    "tags": []
   },
   "outputs": [],
   "source": [
    "probs_calib = model.predict_proba(X_calib)"
   ]
  },
  {
   "cell_type": "code",
   "execution_count": 39,
   "id": "a792d4dd",
   "metadata": {
    "execution": {
     "iopub.execute_input": "2025-08-19T18:10:04.553110Z",
     "iopub.status.busy": "2025-08-19T18:10:04.552329Z",
     "iopub.status.idle": "2025-08-19T18:10:04.561600Z",
     "shell.execute_reply": "2025-08-19T18:10:04.560606Z"
    },
    "papermill": {
     "duration": 0.02443,
     "end_time": "2025-08-19T18:10:04.563044",
     "exception": false,
     "start_time": "2025-08-19T18:10:04.538614",
     "status": "completed"
    },
    "tags": []
   },
   "outputs": [],
   "source": [
    "y_calib = y_calib.values.ravel().astype(int)"
   ]
  },
  {
   "cell_type": "code",
   "execution_count": 40,
   "id": "650fd033",
   "metadata": {
    "execution": {
     "iopub.execute_input": "2025-08-19T18:10:04.600197Z",
     "iopub.status.busy": "2025-08-19T18:10:04.599496Z",
     "iopub.status.idle": "2025-08-19T18:10:04.611630Z",
     "shell.execute_reply": "2025-08-19T18:10:04.610582Z"
    },
    "papermill": {
     "duration": 0.03116,
     "end_time": "2025-08-19T18:10:04.613270",
     "exception": false,
     "start_time": "2025-08-19T18:10:04.582110",
     "status": "completed"
    },
    "tags": []
   },
   "outputs": [],
   "source": [
    "from fairness_multiverse.conformal import compute_nc_scores\n",
    "\n",
    "# Compute nonconformity scores on calibration set (1 - probability of true class)\n",
    "nc_scores = compute_nc_scores(probs_calib, y_calib)"
   ]
  },
  {
   "cell_type": "code",
   "execution_count": 41,
   "id": "28ada44c",
   "metadata": {
    "execution": {
     "iopub.execute_input": "2025-08-19T18:10:04.666061Z",
     "iopub.status.busy": "2025-08-19T18:10:04.665698Z",
     "iopub.status.idle": "2025-08-19T18:10:04.672095Z",
     "shell.execute_reply": "2025-08-19T18:10:04.671332Z"
    },
    "papermill": {
     "duration": 0.027092,
     "end_time": "2025-08-19T18:10:04.673483",
     "exception": false,
     "start_time": "2025-08-19T18:10:04.646391",
     "status": "completed"
    },
    "tags": []
   },
   "outputs": [],
   "source": [
    "from fairness_multiverse.conformal import find_threshold\n",
    "\n",
    "# Find conformal threshold q_hat for the given alpha (split conformal method)\n",
    "q_hat = find_threshold(nc_scores, alpha)"
   ]
  },
  {
   "cell_type": "code",
   "execution_count": 42,
   "id": "df56469e",
   "metadata": {
    "execution": {
     "iopub.execute_input": "2025-08-19T18:10:04.712818Z",
     "iopub.status.busy": "2025-08-19T18:10:04.712501Z",
     "iopub.status.idle": "2025-08-19T18:10:04.719891Z",
     "shell.execute_reply": "2025-08-19T18:10:04.719137Z"
    },
    "papermill": {
     "duration": 0.025869,
     "end_time": "2025-08-19T18:10:04.721720",
     "exception": false,
     "start_time": "2025-08-19T18:10:04.695851",
     "status": "completed"
    },
    "tags": []
   },
   "outputs": [
    {
     "data": {
      "text/plain": [
       "0.6599999999999999"
      ]
     },
     "execution_count": 42,
     "metadata": {},
     "output_type": "execute_result"
    }
   ],
   "source": [
    "q_hat"
   ]
  },
  {
   "cell_type": "code",
   "execution_count": 43,
   "id": "aa1f5faa",
   "metadata": {
    "execution": {
     "iopub.execute_input": "2025-08-19T18:10:04.746280Z",
     "iopub.status.busy": "2025-08-19T18:10:04.746000Z",
     "iopub.status.idle": "2025-08-19T18:10:07.430725Z",
     "shell.execute_reply": "2025-08-19T18:10:07.429961Z"
    },
    "papermill": {
     "duration": 2.698772,
     "end_time": "2025-08-19T18:10:07.432271",
     "exception": false,
     "start_time": "2025-08-19T18:10:04.733499",
     "status": "completed"
    },
    "tags": []
   },
   "outputs": [],
   "source": [
    "from fairness_multiverse.conformal import predict_conformal_sets\n",
    "\n",
    "# Generate prediction sets for each test example\n",
    "pred_sets = predict_conformal_sets(model, X_test, q_hat)"
   ]
  },
  {
   "cell_type": "code",
   "execution_count": 44,
   "id": "97f67a6b",
   "metadata": {
    "execution": {
     "iopub.execute_input": "2025-08-19T18:10:07.457091Z",
     "iopub.status.busy": "2025-08-19T18:10:07.456623Z",
     "iopub.status.idle": "2025-08-19T18:10:07.461511Z",
     "shell.execute_reply": "2025-08-19T18:10:07.460787Z"
    },
    "papermill": {
     "duration": 0.018662,
     "end_time": "2025-08-19T18:10:07.462851",
     "exception": false,
     "start_time": "2025-08-19T18:10:07.444189",
     "status": "completed"
    },
    "tags": []
   },
   "outputs": [],
   "source": [
    "y_true = y_true.squeeze()"
   ]
  },
  {
   "cell_type": "code",
   "execution_count": 45,
   "id": "e700e9a7",
   "metadata": {
    "execution": {
     "iopub.execute_input": "2025-08-19T18:10:07.487547Z",
     "iopub.status.busy": "2025-08-19T18:10:07.487082Z",
     "iopub.status.idle": "2025-08-19T18:10:07.960222Z",
     "shell.execute_reply": "2025-08-19T18:10:07.959469Z"
    },
    "papermill": {
     "duration": 0.487343,
     "end_time": "2025-08-19T18:10:07.961847",
     "exception": false,
     "start_time": "2025-08-19T18:10:07.474504",
     "status": "completed"
    },
    "tags": []
   },
   "outputs": [],
   "source": [
    "from fairness_multiverse.conformal import evaluate_sets\n",
    "\n",
    "# Evaluate coverage and average set size on test data\n",
    "metrics = evaluate_sets(pred_sets, y_true)"
   ]
  },
  {
   "cell_type": "markdown",
   "id": "efbacec0",
   "metadata": {
    "papermill": {
     "duration": 0.011978,
     "end_time": "2025-08-19T18:10:07.985833",
     "exception": false,
     "start_time": "2025-08-19T18:10:07.973855",
     "status": "completed"
    },
    "tags": []
   },
   "source": [
    "# CP Metrics"
   ]
  },
  {
   "cell_type": "code",
   "execution_count": 46,
   "id": "9de55fb1",
   "metadata": {
    "execution": {
     "iopub.execute_input": "2025-08-19T18:10:08.011263Z",
     "iopub.status.busy": "2025-08-19T18:10:08.010945Z",
     "iopub.status.idle": "2025-08-19T18:10:08.017137Z",
     "shell.execute_reply": "2025-08-19T18:10:08.016423Z"
    },
    "papermill": {
     "duration": 0.045739,
     "end_time": "2025-08-19T18:10:08.043601",
     "exception": false,
     "start_time": "2025-08-19T18:10:07.997862",
     "status": "completed"
    },
    "tags": []
   },
   "outputs": [
    {
     "data": {
      "text/plain": [
       "{'coverage': 0.9165421915059636, 'avg_size': 1.1476424032995207}"
      ]
     },
     "execution_count": 46,
     "metadata": {},
     "output_type": "execute_result"
    }
   ],
   "source": [
    "metrics"
   ]
  },
  {
   "cell_type": "code",
   "execution_count": 47,
   "id": "64c340a1",
   "metadata": {
    "execution": {
     "iopub.execute_input": "2025-08-19T18:10:08.082903Z",
     "iopub.status.busy": "2025-08-19T18:10:08.082003Z",
     "iopub.status.idle": "2025-08-19T18:10:08.087448Z",
     "shell.execute_reply": "2025-08-19T18:10:08.086748Z"
    },
    "papermill": {
     "duration": 0.022641,
     "end_time": "2025-08-19T18:10:08.089731",
     "exception": false,
     "start_time": "2025-08-19T18:10:08.067090",
     "status": "completed"
    },
    "tags": []
   },
   "outputs": [],
   "source": [
    "example_universe = universe.copy()\n",
    "universe_training_year = example_universe.get(\"training_year\")\n",
    "universe_training_size = example_universe.get(\"training_size\")\n",
    "universe_scale = example_universe.get(\"scale\")\n",
    "universe_model = example_universe.get(\"model\")\n",
    "universe_exclude_features = example_universe.get(\"exclude_features\")\n",
    "universe_exclude_subgroups = example_universe.get(\"exclude_subgroups\")"
   ]
  },
  {
   "cell_type": "code",
   "execution_count": 48,
   "id": "dbb53cb4",
   "metadata": {
    "execution": {
     "iopub.execute_input": "2025-08-19T18:10:08.115483Z",
     "iopub.status.busy": "2025-08-19T18:10:08.114552Z",
     "iopub.status.idle": "2025-08-19T18:10:08.120006Z",
     "shell.execute_reply": "2025-08-19T18:10:08.119314Z"
    },
    "papermill": {
     "duration": 0.019796,
     "end_time": "2025-08-19T18:10:08.121329",
     "exception": false,
     "start_time": "2025-08-19T18:10:08.101533",
     "status": "completed"
    },
    "tags": []
   },
   "outputs": [],
   "source": [
    "cp_metrics_dict = {\n",
    "    \"universe_id\": [universe_id],\n",
    "    \"universe_training_year\": [universe_training_year],\n",
    "    \"universe_training_size\": [universe_training_size],\n",
    "    \"universe_scale\": [universe_scale],\n",
    "    \"universe_model\": [universe_model],\n",
    "    \"universe_exclude_features\": [universe_exclude_features],\n",
    "    \"universe_exclude_subgroups\": [universe_exclude_subgroups],\n",
    "    \"q_hat\": [q_hat],\n",
    "    \"coverage\": [metrics[\"coverage\"]],\n",
    "    \"avg_size\": [metrics[\"avg_size\"]],\n",
    "}"
   ]
  },
  {
   "cell_type": "code",
   "execution_count": 49,
   "id": "0d70d4b2",
   "metadata": {
    "execution": {
     "iopub.execute_input": "2025-08-19T18:10:08.145755Z",
     "iopub.status.busy": "2025-08-19T18:10:08.145451Z",
     "iopub.status.idle": "2025-08-19T18:10:08.150652Z",
     "shell.execute_reply": "2025-08-19T18:10:08.149928Z"
    },
    "papermill": {
     "duration": 0.01959,
     "end_time": "2025-08-19T18:10:08.152518",
     "exception": false,
     "start_time": "2025-08-19T18:10:08.132928",
     "status": "completed"
    },
    "tags": []
   },
   "outputs": [],
   "source": [
    "cp_metrics_df = pd.DataFrame(cp_metrics_dict)"
   ]
  },
  {
   "cell_type": "code",
   "execution_count": 50,
   "id": "b494403c",
   "metadata": {
    "execution": {
     "iopub.execute_input": "2025-08-19T18:10:08.191428Z",
     "iopub.status.busy": "2025-08-19T18:10:08.190038Z",
     "iopub.status.idle": "2025-08-19T18:10:08.211478Z",
     "shell.execute_reply": "2025-08-19T18:10:08.210625Z"
    },
    "papermill": {
     "duration": 0.036799,
     "end_time": "2025-08-19T18:10:08.213003",
     "exception": false,
     "start_time": "2025-08-19T18:10:08.176204",
     "status": "completed"
    },
    "tags": []
   },
   "outputs": [
    {
     "data": {
      "text/html": [
       "<div>\n",
       "<style scoped>\n",
       "    .dataframe tbody tr th:only-of-type {\n",
       "        vertical-align: middle;\n",
       "    }\n",
       "\n",
       "    .dataframe tbody tr th {\n",
       "        vertical-align: top;\n",
       "    }\n",
       "\n",
       "    .dataframe thead th {\n",
       "        text-align: right;\n",
       "    }\n",
       "</style>\n",
       "<table border=\"1\" class=\"dataframe\">\n",
       "  <thead>\n",
       "    <tr style=\"text-align: right;\">\n",
       "      <th></th>\n",
       "      <th>universe_id</th>\n",
       "      <th>universe_training_year</th>\n",
       "      <th>universe_training_size</th>\n",
       "      <th>universe_scale</th>\n",
       "      <th>universe_model</th>\n",
       "      <th>universe_exclude_features</th>\n",
       "      <th>universe_exclude_subgroups</th>\n",
       "      <th>q_hat</th>\n",
       "      <th>coverage</th>\n",
       "      <th>avg_size</th>\n",
       "    </tr>\n",
       "  </thead>\n",
       "  <tbody>\n",
       "    <tr>\n",
       "      <th>0</th>\n",
       "      <td>f9f4fa0eb4b291ceef0e42a7c59e10dd</td>\n",
       "      <td>2012_14</td>\n",
       "      <td>25k</td>\n",
       "      <td>do-not-scale</td>\n",
       "      <td>rf</td>\n",
       "      <td>sex</td>\n",
       "      <td>drop-non-german</td>\n",
       "      <td>0.66</td>\n",
       "      <td>0.916542</td>\n",
       "      <td>1.147642</td>\n",
       "    </tr>\n",
       "  </tbody>\n",
       "</table>\n",
       "</div>"
      ],
      "text/plain": [
       "                        universe_id universe_training_year  \\\n",
       "0  f9f4fa0eb4b291ceef0e42a7c59e10dd                2012_14   \n",
       "\n",
       "  universe_training_size universe_scale universe_model  \\\n",
       "0                    25k   do-not-scale             rf   \n",
       "\n",
       "  universe_exclude_features universe_exclude_subgroups  q_hat  coverage  \\\n",
       "0                       sex            drop-non-german   0.66  0.916542   \n",
       "\n",
       "   avg_size  \n",
       "0  1.147642  "
      ]
     },
     "execution_count": 50,
     "metadata": {},
     "output_type": "execute_result"
    }
   ],
   "source": [
    "cp_metrics_df"
   ]
  },
  {
   "cell_type": "markdown",
   "id": "ed608b0b",
   "metadata": {
    "papermill": {
     "duration": 0.012335,
     "end_time": "2025-08-19T18:10:08.244395",
     "exception": false,
     "start_time": "2025-08-19T18:10:08.232060",
     "status": "completed"
    },
    "tags": []
   },
   "source": [
    "Conditional coverage & looking at subgroups"
   ]
  },
  {
   "cell_type": "code",
   "execution_count": 51,
   "id": "8968c366",
   "metadata": {
    "execution": {
     "iopub.execute_input": "2025-08-19T18:10:08.287490Z",
     "iopub.status.busy": "2025-08-19T18:10:08.286997Z",
     "iopub.status.idle": "2025-08-19T18:10:08.508560Z",
     "shell.execute_reply": "2025-08-19T18:10:08.507802Z"
    },
    "papermill": {
     "duration": 0.238194,
     "end_time": "2025-08-19T18:10:08.510128",
     "exception": false,
     "start_time": "2025-08-19T18:10:08.271934",
     "status": "completed"
    },
    "tags": []
   },
   "outputs": [],
   "source": [
    "from fairness_multiverse.conformal import build_cp_groups\n",
    "\n",
    "cp_groups_df = build_cp_groups(pred_sets, y_true, X_test.index, org_test)"
   ]
  },
  {
   "cell_type": "code",
   "execution_count": 52,
   "id": "292ddabf",
   "metadata": {
    "execution": {
     "iopub.execute_input": "2025-08-19T18:10:08.538551Z",
     "iopub.status.busy": "2025-08-19T18:10:08.537603Z",
     "iopub.status.idle": "2025-08-19T18:10:09.360919Z",
     "shell.execute_reply": "2025-08-19T18:10:09.360148Z"
    },
    "papermill": {
     "duration": 0.839698,
     "end_time": "2025-08-19T18:10:09.362438",
     "exception": false,
     "start_time": "2025-08-19T18:10:08.522740",
     "status": "completed"
    },
    "tags": []
   },
   "outputs": [],
   "source": [
    "# Define covered = 1 if true_label is in the predicted set\n",
    "cp_groups_df['covered'] = cp_groups_df.apply(\n",
    "    lambda r: int(r['true_label'] in r['pred_set']),\n",
    "    axis=1\n",
    ")"
   ]
  },
  {
   "cell_type": "code",
   "execution_count": 53,
   "id": "3a261692",
   "metadata": {
    "execution": {
     "iopub.execute_input": "2025-08-19T18:10:09.471696Z",
     "iopub.status.busy": "2025-08-19T18:10:09.471380Z",
     "iopub.status.idle": "2025-08-19T18:10:09.481234Z",
     "shell.execute_reply": "2025-08-19T18:10:09.480502Z"
    },
    "papermill": {
     "duration": 0.105821,
     "end_time": "2025-08-19T18:10:09.483522",
     "exception": false,
     "start_time": "2025-08-19T18:10:09.377701",
     "status": "completed"
    },
    "tags": []
   },
   "outputs": [],
   "source": [
    "subgroups = ['frau1','nongerman','nongerman_male','nongerman_female']\n",
    "\n",
    "# Conditional coverage for subgroup==1\n",
    "cond_coverage = {\n",
    "    g: cp_groups_df.loc[cp_groups_df[g]==1, 'covered'].mean()\n",
    "    for g in subgroups\n",
    "}"
   ]
  },
  {
   "cell_type": "code",
   "execution_count": 54,
   "id": "894fd600",
   "metadata": {
    "execution": {
     "iopub.execute_input": "2025-08-19T18:10:09.535487Z",
     "iopub.status.busy": "2025-08-19T18:10:09.534220Z",
     "iopub.status.idle": "2025-08-19T18:10:09.544409Z",
     "shell.execute_reply": "2025-08-19T18:10:09.543236Z"
    },
    "papermill": {
     "duration": 0.036223,
     "end_time": "2025-08-19T18:10:09.545883",
     "exception": false,
     "start_time": "2025-08-19T18:10:09.509660",
     "status": "completed"
    },
    "tags": []
   },
   "outputs": [
    {
     "data": {
      "text/plain": [
       "{'frau1': 0.9167273217414746,\n",
       " 'nongerman': 0.9090551844158761,\n",
       " 'nongerman_male': 0.9242547059353328,\n",
       " 'nongerman_female': 0.8839046199701938}"
      ]
     },
     "execution_count": 54,
     "metadata": {},
     "output_type": "execute_result"
    }
   ],
   "source": [
    "cond_coverage"
   ]
  },
  {
   "cell_type": "code",
   "execution_count": 55,
   "id": "942895c7",
   "metadata": {
    "execution": {
     "iopub.execute_input": "2025-08-19T18:10:09.592410Z",
     "iopub.status.busy": "2025-08-19T18:10:09.590671Z",
     "iopub.status.idle": "2025-08-19T18:10:09.602212Z",
     "shell.execute_reply": "2025-08-19T18:10:09.600958Z"
    },
    "papermill": {
     "duration": 0.031565,
     "end_time": "2025-08-19T18:10:09.604221",
     "exception": false,
     "start_time": "2025-08-19T18:10:09.572656",
     "status": "completed"
    },
    "tags": []
   },
   "outputs": [],
   "source": [
    "for subgroup, cov in cond_coverage.items():\n",
    "    cp_metrics_df[f\"cov_{subgroup}\"] = cov"
   ]
  },
  {
   "cell_type": "code",
   "execution_count": 56,
   "id": "3970120f",
   "metadata": {
    "execution": {
     "iopub.execute_input": "2025-08-19T18:10:09.637068Z",
     "iopub.status.busy": "2025-08-19T18:10:09.635567Z",
     "iopub.status.idle": "2025-08-19T18:10:09.659136Z",
     "shell.execute_reply": "2025-08-19T18:10:09.658319Z"
    },
    "papermill": {
     "duration": 0.039384,
     "end_time": "2025-08-19T18:10:09.660934",
     "exception": false,
     "start_time": "2025-08-19T18:10:09.621550",
     "status": "completed"
    },
    "tags": []
   },
   "outputs": [
    {
     "data": {
      "text/html": [
       "<div>\n",
       "<style scoped>\n",
       "    .dataframe tbody tr th:only-of-type {\n",
       "        vertical-align: middle;\n",
       "    }\n",
       "\n",
       "    .dataframe tbody tr th {\n",
       "        vertical-align: top;\n",
       "    }\n",
       "\n",
       "    .dataframe thead th {\n",
       "        text-align: right;\n",
       "    }\n",
       "</style>\n",
       "<table border=\"1\" class=\"dataframe\">\n",
       "  <thead>\n",
       "    <tr style=\"text-align: right;\">\n",
       "      <th></th>\n",
       "      <th>universe_id</th>\n",
       "      <th>universe_training_year</th>\n",
       "      <th>universe_training_size</th>\n",
       "      <th>universe_scale</th>\n",
       "      <th>universe_model</th>\n",
       "      <th>universe_exclude_features</th>\n",
       "      <th>universe_exclude_subgroups</th>\n",
       "      <th>q_hat</th>\n",
       "      <th>coverage</th>\n",
       "      <th>avg_size</th>\n",
       "      <th>cov_frau1</th>\n",
       "      <th>cov_nongerman</th>\n",
       "      <th>cov_nongerman_male</th>\n",
       "      <th>cov_nongerman_female</th>\n",
       "    </tr>\n",
       "  </thead>\n",
       "  <tbody>\n",
       "    <tr>\n",
       "      <th>0</th>\n",
       "      <td>f9f4fa0eb4b291ceef0e42a7c59e10dd</td>\n",
       "      <td>2012_14</td>\n",
       "      <td>25k</td>\n",
       "      <td>do-not-scale</td>\n",
       "      <td>rf</td>\n",
       "      <td>sex</td>\n",
       "      <td>drop-non-german</td>\n",
       "      <td>0.66</td>\n",
       "      <td>0.916542</td>\n",
       "      <td>1.147642</td>\n",
       "      <td>0.916727</td>\n",
       "      <td>0.909055</td>\n",
       "      <td>0.924255</td>\n",
       "      <td>0.883905</td>\n",
       "    </tr>\n",
       "  </tbody>\n",
       "</table>\n",
       "</div>"
      ],
      "text/plain": [
       "                        universe_id universe_training_year  \\\n",
       "0  f9f4fa0eb4b291ceef0e42a7c59e10dd                2012_14   \n",
       "\n",
       "  universe_training_size universe_scale universe_model  \\\n",
       "0                    25k   do-not-scale             rf   \n",
       "\n",
       "  universe_exclude_features universe_exclude_subgroups  q_hat  coverage  \\\n",
       "0                       sex            drop-non-german   0.66  0.916542   \n",
       "\n",
       "   avg_size  cov_frau1  cov_nongerman  cov_nongerman_male  \\\n",
       "0  1.147642   0.916727       0.909055            0.924255   \n",
       "\n",
       "   cov_nongerman_female  \n",
       "0              0.883905  "
      ]
     },
     "execution_count": 56,
     "metadata": {},
     "output_type": "execute_result"
    }
   ],
   "source": [
    "cp_metrics_df"
   ]
  },
  {
   "cell_type": "markdown",
   "id": "3fc519cc",
   "metadata": {
    "papermill": {
     "duration": 0.012314,
     "end_time": "2025-08-19T18:10:09.692814",
     "exception": false,
     "start_time": "2025-08-19T18:10:09.680500",
     "status": "completed"
    },
    "tags": []
   },
   "source": [
    "# (Fairness) Metrics"
   ]
  },
  {
   "cell_type": "code",
   "execution_count": 57,
   "id": "a2e5e155",
   "metadata": {
    "execution": {
     "iopub.execute_input": "2025-08-19T18:10:09.721034Z",
     "iopub.status.busy": "2025-08-19T18:10:09.719414Z",
     "iopub.status.idle": "2025-08-19T18:10:09.747038Z",
     "shell.execute_reply": "2025-08-19T18:10:09.746246Z"
    },
    "papermill": {
     "duration": 0.047179,
     "end_time": "2025-08-19T18:10:09.752322",
     "exception": false,
     "start_time": "2025-08-19T18:10:09.705143",
     "status": "completed"
    },
    "tags": []
   },
   "outputs": [],
   "source": [
    "colname_to_bin = \"maxdeutsch1\"\n",
    "majority_value = org_train[colname_to_bin].mode()[0]\n",
    "\n",
    "org_test[\"majmin\"] = np.where(org_test[colname_to_bin] == majority_value, \"majority\", \"minority\")"
   ]
  },
  {
   "cell_type": "code",
   "execution_count": 58,
   "id": "17e3e4d5",
   "metadata": {
    "execution": {
     "iopub.execute_input": "2025-08-19T18:10:09.813144Z",
     "iopub.status.busy": "2025-08-19T18:10:09.812750Z",
     "iopub.status.idle": "2025-08-19T18:10:11.483918Z",
     "shell.execute_reply": "2025-08-19T18:10:11.482978Z"
    },
    "papermill": {
     "duration": 1.70385,
     "end_time": "2025-08-19T18:10:11.485471",
     "exception": false,
     "start_time": "2025-08-19T18:10:09.781621",
     "status": "completed"
    },
    "tags": []
   },
   "outputs": [],
   "source": [
    "example_universe = universe.copy()\n",
    "example_universe[\"cutoff\"] = example_universe[\"cutoff\"][0]\n",
    "example_universe[\"eval_fairness_grouping\"] = example_universe[\"eval_fairness_grouping\"][0]\n",
    "fairness_dict, metric_frame = universe_analysis.compute_metrics(\n",
    "    example_universe,\n",
    "    y_pred_prob=probs_test,\n",
    "    y_test=y_true,\n",
    "    org_test=org_test,\n",
    ")"
   ]
  },
  {
   "cell_type": "markdown",
   "id": "1fb7a0e9",
   "metadata": {
    "papermill": {
     "duration": 0.01296,
     "end_time": "2025-08-19T18:10:11.511704",
     "exception": false,
     "start_time": "2025-08-19T18:10:11.498744",
     "status": "completed"
    },
    "tags": []
   },
   "source": [
    "# Overall"
   ]
  },
  {
   "cell_type": "markdown",
   "id": "be1784b1",
   "metadata": {
    "papermill": {
     "duration": 0.012187,
     "end_time": "2025-08-19T18:10:11.536078",
     "exception": false,
     "start_time": "2025-08-19T18:10:11.523891",
     "status": "completed"
    },
    "tags": []
   },
   "source": [
    "Main fairness target: Equalized Odds. Seems to be a better fit than equal opportunity, since we're not only interested in Y = 1. Seems to be a better fit than demographic parity, since we also care about accuracy, not just equal distribution of preds.\n",
    "\n",
    "Pick column for computation of fairness metrics\n",
    "\n",
    "Performance\n",
    "Overall performance measures, most interesting in relation to the measures split by group below"
   ]
  },
  {
   "cell_type": "code",
   "execution_count": 59,
   "id": "b7672bee",
   "metadata": {
    "execution": {
     "iopub.execute_input": "2025-08-19T18:10:11.563332Z",
     "iopub.status.busy": "2025-08-19T18:10:11.562823Z",
     "iopub.status.idle": "2025-08-19T18:10:11.570101Z",
     "shell.execute_reply": "2025-08-19T18:10:11.569370Z"
    },
    "papermill": {
     "duration": 0.021912,
     "end_time": "2025-08-19T18:10:11.571482",
     "exception": false,
     "start_time": "2025-08-19T18:10:11.549570",
     "status": "completed"
    },
    "tags": []
   },
   "outputs": [
    {
     "data": {
      "text/plain": [
       "accuracy                   0.197057\n",
       "balanced accuracy          0.530556\n",
       "f1                         0.238305\n",
       "precision                  0.135661\n",
       "false positive rate        0.918033\n",
       "false negative rate        0.020855\n",
       "selection rate             0.925872\n",
       "count                  89710.000000\n",
       "dtype: float64"
      ]
     },
     "execution_count": 59,
     "metadata": {},
     "output_type": "execute_result"
    }
   ],
   "source": [
    "metric_frame.overall"
   ]
  },
  {
   "cell_type": "markdown",
   "id": "d93333c9",
   "metadata": {
    "papermill": {
     "duration": 0.012534,
     "end_time": "2025-08-19T18:10:11.597525",
     "exception": false,
     "start_time": "2025-08-19T18:10:11.584991",
     "status": "completed"
    },
    "tags": []
   },
   "source": [
    "By Group"
   ]
  },
  {
   "cell_type": "code",
   "execution_count": 60,
   "id": "52256966",
   "metadata": {
    "execution": {
     "iopub.execute_input": "2025-08-19T18:10:11.624126Z",
     "iopub.status.busy": "2025-08-19T18:10:11.623618Z",
     "iopub.status.idle": "2025-08-19T18:10:11.636218Z",
     "shell.execute_reply": "2025-08-19T18:10:11.635382Z"
    },
    "papermill": {
     "duration": 0.027464,
     "end_time": "2025-08-19T18:10:11.637489",
     "exception": false,
     "start_time": "2025-08-19T18:10:11.610025",
     "status": "completed"
    },
    "tags": []
   },
   "outputs": [
    {
     "data": {
      "text/html": [
       "<div>\n",
       "<style scoped>\n",
       "    .dataframe tbody tr th:only-of-type {\n",
       "        vertical-align: middle;\n",
       "    }\n",
       "\n",
       "    .dataframe tbody tr th {\n",
       "        vertical-align: top;\n",
       "    }\n",
       "\n",
       "    .dataframe thead th {\n",
       "        text-align: right;\n",
       "    }\n",
       "</style>\n",
       "<table border=\"1\" class=\"dataframe\">\n",
       "  <thead>\n",
       "    <tr style=\"text-align: right;\">\n",
       "      <th></th>\n",
       "      <th>accuracy</th>\n",
       "      <th>balanced accuracy</th>\n",
       "      <th>f1</th>\n",
       "      <th>precision</th>\n",
       "      <th>false positive rate</th>\n",
       "      <th>false negative rate</th>\n",
       "      <th>selection rate</th>\n",
       "      <th>count</th>\n",
       "    </tr>\n",
       "    <tr>\n",
       "      <th>majmin</th>\n",
       "      <th></th>\n",
       "      <th></th>\n",
       "      <th></th>\n",
       "      <th></th>\n",
       "      <th></th>\n",
       "      <th></th>\n",
       "      <th></th>\n",
       "      <th></th>\n",
       "    </tr>\n",
       "  </thead>\n",
       "  <tbody>\n",
       "    <tr>\n",
       "      <th>majority</th>\n",
       "      <td>0.192743</td>\n",
       "      <td>0.530835</td>\n",
       "      <td>0.244841</td>\n",
       "      <td>0.139687</td>\n",
       "      <td>0.928702</td>\n",
       "      <td>0.009628</td>\n",
       "      <td>0.936851</td>\n",
       "      <td>69170.0</td>\n",
       "    </tr>\n",
       "    <tr>\n",
       "      <th>minority</th>\n",
       "      <td>0.211587</td>\n",
       "      <td>0.526512</td>\n",
       "      <td>0.214874</td>\n",
       "      <td>0.121371</td>\n",
       "      <td>0.882787</td>\n",
       "      <td>0.064189</td>\n",
       "      <td>0.888900</td>\n",
       "      <td>20540.0</td>\n",
       "    </tr>\n",
       "  </tbody>\n",
       "</table>\n",
       "</div>"
      ],
      "text/plain": [
       "          accuracy  balanced accuracy        f1  precision  \\\n",
       "majmin                                                       \n",
       "majority  0.192743           0.530835  0.244841   0.139687   \n",
       "minority  0.211587           0.526512  0.214874   0.121371   \n",
       "\n",
       "          false positive rate  false negative rate  selection rate    count  \n",
       "majmin                                                                       \n",
       "majority             0.928702             0.009628        0.936851  69170.0  \n",
       "minority             0.882787             0.064189        0.888900  20540.0  "
      ]
     },
     "execution_count": 60,
     "metadata": {},
     "output_type": "execute_result"
    }
   ],
   "source": [
    "metric_frame.by_group"
   ]
  },
  {
   "cell_type": "code",
   "execution_count": 61,
   "id": "6e6c20ae",
   "metadata": {
    "execution": {
     "iopub.execute_input": "2025-08-19T18:10:11.680980Z",
     "iopub.status.busy": "2025-08-19T18:10:11.677623Z",
     "iopub.status.idle": "2025-08-19T18:10:13.663129Z",
     "shell.execute_reply": "2025-08-19T18:10:13.661676Z"
    },
    "papermill": {
     "duration": 2.014034,
     "end_time": "2025-08-19T18:10:13.664742",
     "exception": false,
     "start_time": "2025-08-19T18:10:11.650708",
     "status": "completed"
    },
    "tags": []
   },
   "outputs": [
    {
     "data": {
      "text/plain": [
       "array([[<Axes: title={'center': 'accuracy'}, xlabel='majmin'>,\n",
       "        <Axes: title={'center': 'balanced accuracy'}, xlabel='majmin'>,\n",
       "        <Axes: title={'center': 'f1'}, xlabel='majmin'>],\n",
       "       [<Axes: title={'center': 'precision'}, xlabel='majmin'>,\n",
       "        <Axes: title={'center': 'false positive rate'}, xlabel='majmin'>,\n",
       "        <Axes: title={'center': 'false negative rate'}, xlabel='majmin'>],\n",
       "       [<Axes: title={'center': 'selection rate'}, xlabel='majmin'>,\n",
       "        <Axes: title={'center': 'count'}, xlabel='majmin'>,\n",
       "        <Axes: xlabel='majmin'>]], dtype=object)"
      ]
     },
     "execution_count": 61,
     "metadata": {},
     "output_type": "execute_result"
    },
    {
     "data": {
      "image/png": "[encoded data removed]",
      "text/plain": [
       "<Figure size 1200x800 with 9 Axes>"
      ]
     },
     "metadata": {},
     "output_type": "display_data"
    }
   ],
   "source": [
    "# In a graphic\n",
    "metric_frame.by_group.plot.bar(\n",
    "    subplots=True,\n",
    "    layout=[3, 3],\n",
    "    legend=False,\n",
    "    figsize=[12, 8],\n",
    "    title=\"Show all metrics\",\n",
    ")"
   ]
  },
  {
   "cell_type": "markdown",
   "id": "b2e433ae",
   "metadata": {
    "papermill": {
     "duration": 0.014789,
     "end_time": "2025-08-19T18:10:13.707729",
     "exception": false,
     "start_time": "2025-08-19T18:10:13.692940",
     "status": "completed"
    },
    "tags": []
   },
   "source": [
    "# Final Output"
   ]
  },
  {
   "cell_type": "code",
   "execution_count": 62,
   "id": "3871301e",
   "metadata": {
    "execution": {
     "iopub.execute_input": "2025-08-19T18:10:13.741482Z",
     "iopub.status.busy": "2025-08-19T18:10:13.738606Z",
     "iopub.status.idle": "2025-08-19T18:10:13.757422Z",
     "shell.execute_reply": "2025-08-19T18:10:13.756327Z"
    },
    "papermill": {
     "duration": 0.03689,
     "end_time": "2025-08-19T18:10:13.759067",
     "exception": false,
     "start_time": "2025-08-19T18:10:13.722177",
     "status": "completed"
    },
    "tags": []
   },
   "outputs": [
    {
     "data": {
      "text/plain": [
       "4"
      ]
     },
     "execution_count": 62,
     "metadata": {},
     "output_type": "execute_result"
    }
   ],
   "source": [
    "sub_universes = universe_analysis.generate_sub_universes()\n",
    "len(sub_universes)"
   ]
  },
  {
   "cell_type": "code",
   "execution_count": 63,
   "id": "d9cfdaca",
   "metadata": {
    "execution": {
     "iopub.execute_input": "2025-08-19T18:10:13.814060Z",
     "iopub.status.busy": "2025-08-19T18:10:13.813353Z",
     "iopub.status.idle": "2025-08-19T18:10:13.824880Z",
     "shell.execute_reply": "2025-08-19T18:10:13.823491Z"
    },
    "papermill": {
     "duration": 0.054836,
     "end_time": "2025-08-19T18:10:13.835105",
     "exception": false,
     "start_time": "2025-08-19T18:10:13.780269",
     "status": "completed"
    },
    "tags": []
   },
   "outputs": [],
   "source": [
    "def filter_sub_universe_data(sub_universe, org_test):\n",
    "    # Keep all rows — no filtering\n",
    "    keep_rows_mask = np.ones(org_test.shape[0], dtype=bool)\n",
    "\n",
    "    print(f\"[INFO] Keeping all rows: {keep_rows_mask.sum()} rows retained.\")\n",
    "    return keep_rows_mask"
   ]
  },
  {
   "cell_type": "code",
   "execution_count": 64,
   "id": "2bc31ac1",
   "metadata": {
    "execution": {
     "iopub.execute_input": "2025-08-19T18:10:13.865913Z",
     "iopub.status.busy": "2025-08-19T18:10:13.865390Z",
     "iopub.status.idle": "2025-08-19T18:10:20.584855Z",
     "shell.execute_reply": "2025-08-19T18:10:20.583806Z"
    },
    "papermill": {
     "duration": 6.736228,
     "end_time": "2025-08-19T18:10:20.586411",
     "exception": false,
     "start_time": "2025-08-19T18:10:13.850183",
     "status": "completed"
    },
    "tags": []
   },
   "outputs": [
    {
     "name": "stdout",
     "output_type": "stream",
     "text": [
      "Stopping execution_time clock.\n",
      "[INFO] Keeping all rows: 89710 rows retained.\n"
     ]
    },
    {
     "name": "stdout",
     "output_type": "stream",
     "text": [
      "[INFO] Keeping all rows: 89710 rows retained.\n"
     ]
    },
    {
     "name": "stdout",
     "output_type": "stream",
     "text": [
      "[INFO] Keeping all rows: 89710 rows retained.\n"
     ]
    },
    {
     "name": "stdout",
     "output_type": "stream",
     "text": [
      "[INFO] Keeping all rows: 89710 rows retained.\n"
     ]
    },
    {
     "data": {
      "text/html": [
       "<div>\n",
       "<style scoped>\n",
       "    .dataframe tbody tr th:only-of-type {\n",
       "        vertical-align: middle;\n",
       "    }\n",
       "\n",
       "    .dataframe tbody tr th {\n",
       "        vertical-align: top;\n",
       "    }\n",
       "\n",
       "    .dataframe thead th {\n",
       "        text-align: right;\n",
       "    }\n",
       "</style>\n",
       "<table border=\"1\" class=\"dataframe\">\n",
       "  <thead>\n",
       "    <tr style=\"text-align: right;\">\n",
       "      <th></th>\n",
       "      <th>run_no</th>\n",
       "      <th>universe_id</th>\n",
       "      <th>universe_settings</th>\n",
       "      <th>execution_time</th>\n",
       "      <th>test_size_n</th>\n",
       "      <th>test_size_frac</th>\n",
       "      <th>fair_main_equalized_odds_difference</th>\n",
       "      <th>fair_main_equalized_odds_ratio</th>\n",
       "      <th>fair_main_demographic_parity_difference</th>\n",
       "      <th>fair_main_demographic_parity_ratio</th>\n",
       "      <th>...</th>\n",
       "      <th>perf_grp_precision_0</th>\n",
       "      <th>perf_grp_precision_1</th>\n",
       "      <th>perf_grp_false positive rate_0</th>\n",
       "      <th>perf_grp_false positive rate_1</th>\n",
       "      <th>perf_grp_false negative rate_0</th>\n",
       "      <th>perf_grp_false negative rate_1</th>\n",
       "      <th>perf_grp_selection rate_0</th>\n",
       "      <th>perf_grp_selection rate_1</th>\n",
       "      <th>perf_grp_count_0</th>\n",
       "      <th>perf_grp_count_1</th>\n",
       "    </tr>\n",
       "  </thead>\n",
       "  <tbody>\n",
       "    <tr>\n",
       "      <th>0</th>\n",
       "      <td>3</td>\n",
       "      <td>f9f4fa0eb4b291ceef0e42a7c59e10dd</td>\n",
       "      <td>{\"cutoff\": \"quantile_0.1\", \"eval_fairness_grou...</td>\n",
       "      <td>36.686294</td>\n",
       "      <td>89710</td>\n",
       "      <td>1.0</td>\n",
       "      <td>0.054561</td>\n",
       "      <td>0.944908</td>\n",
       "      <td>0.047952</td>\n",
       "      <td>0.948816</td>\n",
       "      <td>...</td>\n",
       "      <td>NaN</td>\n",
       "      <td>NaN</td>\n",
       "      <td>NaN</td>\n",
       "      <td>NaN</td>\n",
       "      <td>NaN</td>\n",
       "      <td>NaN</td>\n",
       "      <td>NaN</td>\n",
       "      <td>NaN</td>\n",
       "      <td>NaN</td>\n",
       "      <td>NaN</td>\n",
       "    </tr>\n",
       "    <tr>\n",
       "      <th>0</th>\n",
       "      <td>3</td>\n",
       "      <td>f9f4fa0eb4b291ceef0e42a7c59e10dd</td>\n",
       "      <td>{\"cutoff\": \"quantile_0.1\", \"eval_fairness_grou...</td>\n",
       "      <td>36.686294</td>\n",
       "      <td>89710</td>\n",
       "      <td>1.0</td>\n",
       "      <td>0.054561</td>\n",
       "      <td>0.944908</td>\n",
       "      <td>0.047952</td>\n",
       "      <td>0.948816</td>\n",
       "      <td>...</td>\n",
       "      <td>0.121371</td>\n",
       "      <td>0.139687</td>\n",
       "      <td>0.882787</td>\n",
       "      <td>0.928702</td>\n",
       "      <td>0.064189</td>\n",
       "      <td>0.009628</td>\n",
       "      <td>0.88890</td>\n",
       "      <td>0.936851</td>\n",
       "      <td>20540.0</td>\n",
       "      <td>69170.0</td>\n",
       "    </tr>\n",
       "    <tr>\n",
       "      <th>0</th>\n",
       "      <td>3</td>\n",
       "      <td>f9f4fa0eb4b291ceef0e42a7c59e10dd</td>\n",
       "      <td>{\"cutoff\": \"quantile_0.25\", \"eval_fairness_gro...</td>\n",
       "      <td>36.686294</td>\n",
       "      <td>89710</td>\n",
       "      <td>1.0</td>\n",
       "      <td>0.094514</td>\n",
       "      <td>0.901398</td>\n",
       "      <td>0.053509</td>\n",
       "      <td>0.932123</td>\n",
       "      <td>...</td>\n",
       "      <td>NaN</td>\n",
       "      <td>NaN</td>\n",
       "      <td>NaN</td>\n",
       "      <td>NaN</td>\n",
       "      <td>NaN</td>\n",
       "      <td>NaN</td>\n",
       "      <td>NaN</td>\n",
       "      <td>NaN</td>\n",
       "      <td>NaN</td>\n",
       "      <td>NaN</td>\n",
       "    </tr>\n",
       "    <tr>\n",
       "      <th>0</th>\n",
       "      <td>3</td>\n",
       "      <td>f9f4fa0eb4b291ceef0e42a7c59e10dd</td>\n",
       "      <td>{\"cutoff\": \"quantile_0.25\", \"eval_fairness_gro...</td>\n",
       "      <td>36.686294</td>\n",
       "      <td>89710</td>\n",
       "      <td>1.0</td>\n",
       "      <td>0.094514</td>\n",
       "      <td>0.901398</td>\n",
       "      <td>0.053509</td>\n",
       "      <td>0.932123</td>\n",
       "      <td>...</td>\n",
       "      <td>0.135560</td>\n",
       "      <td>0.160670</td>\n",
       "      <td>0.717973</td>\n",
       "      <td>0.762402</td>\n",
       "      <td>0.135980</td>\n",
       "      <td>0.041466</td>\n",
       "      <td>0.73481</td>\n",
       "      <td>0.788319</td>\n",
       "      <td>20540.0</td>\n",
       "      <td>69170.0</td>\n",
       "    </tr>\n",
       "  </tbody>\n",
       "</table>\n",
       "<p>4 rows × 50 columns</p>\n",
       "</div>"
      ],
      "text/plain": [
       "  run_no                       universe_id  \\\n",
       "0      3  f9f4fa0eb4b291ceef0e42a7c59e10dd   \n",
       "0      3  f9f4fa0eb4b291ceef0e42a7c59e10dd   \n",
       "0      3  f9f4fa0eb4b291ceef0e42a7c59e10dd   \n",
       "0      3  f9f4fa0eb4b291ceef0e42a7c59e10dd   \n",
       "\n",
       "                                   universe_settings  execution_time  \\\n",
       "0  {\"cutoff\": \"quantile_0.1\", \"eval_fairness_grou...       36.686294   \n",
       "0  {\"cutoff\": \"quantile_0.1\", \"eval_fairness_grou...       36.686294   \n",
       "0  {\"cutoff\": \"quantile_0.25\", \"eval_fairness_gro...       36.686294   \n",
       "0  {\"cutoff\": \"quantile_0.25\", \"eval_fairness_gro...       36.686294   \n",
       "\n",
       "   test_size_n  test_size_frac  fair_main_equalized_odds_difference  \\\n",
       "0        89710             1.0                             0.054561   \n",
       "0        89710             1.0                             0.054561   \n",
       "0        89710             1.0                             0.094514   \n",
       "0        89710             1.0                             0.094514   \n",
       "\n",
       "   fair_main_equalized_odds_ratio  fair_main_demographic_parity_difference  \\\n",
       "0                        0.944908                                 0.047952   \n",
       "0                        0.944908                                 0.047952   \n",
       "0                        0.901398                                 0.053509   \n",
       "0                        0.901398                                 0.053509   \n",
       "\n",
       "   fair_main_demographic_parity_ratio  ...  perf_grp_precision_0  \\\n",
       "0                            0.948816  ...                   NaN   \n",
       "0                            0.948816  ...              0.121371   \n",
       "0                            0.932123  ...                   NaN   \n",
       "0                            0.932123  ...              0.135560   \n",
       "\n",
       "   perf_grp_precision_1  perf_grp_false positive rate_0  \\\n",
       "0                   NaN                             NaN   \n",
       "0              0.139687                        0.882787   \n",
       "0                   NaN                             NaN   \n",
       "0              0.160670                        0.717973   \n",
       "\n",
       "   perf_grp_false positive rate_1  perf_grp_false negative rate_0  \\\n",
       "0                             NaN                             NaN   \n",
       "0                        0.928702                        0.064189   \n",
       "0                             NaN                             NaN   \n",
       "0                        0.762402                        0.135980   \n",
       "\n",
       "   perf_grp_false negative rate_1  perf_grp_selection rate_0  \\\n",
       "0                             NaN                        NaN   \n",
       "0                        0.009628                    0.88890   \n",
       "0                             NaN                        NaN   \n",
       "0                        0.041466                    0.73481   \n",
       "\n",
       "   perf_grp_selection rate_1  perf_grp_count_0  perf_grp_count_1  \n",
       "0                        NaN               NaN               NaN  \n",
       "0                   0.936851           20540.0           69170.0  \n",
       "0                        NaN               NaN               NaN  \n",
       "0                   0.788319           20540.0           69170.0  \n",
       "\n",
       "[4 rows x 50 columns]"
      ]
     },
     "execution_count": 64,
     "metadata": {},
     "output_type": "execute_result"
    }
   ],
   "source": [
    "final_output = universe_analysis.generate_final_output(\n",
    "    y_pred_prob=probs_test,\n",
    "    y_test=y_true,\n",
    "    org_test=org_test,\n",
    "    filter_data=filter_sub_universe_data,\n",
    "    cp_metrics_df=cp_metrics_df,\n",
    "    save=True,\n",
    ")\n",
    "final_output"
   ]
  },
  {
   "cell_type": "code",
   "execution_count": null,
   "id": "8b80a1ff",
   "metadata": {
    "papermill": {
     "duration": 0.016664,
     "end_time": "2025-08-19T18:10:20.627507",
     "exception": false,
     "start_time": "2025-08-19T18:10:20.610843",
     "status": "completed"
    },
    "tags": []
   },
   "outputs": [],
   "source": []
  },
  {
   "cell_type": "code",
   "execution_count": null,
   "id": "275c9fad",
   "metadata": {
    "papermill": {
     "duration": 0.014574,
     "end_time": "2025-08-19T18:10:20.656947",
     "exception": false,
     "start_time": "2025-08-19T18:10:20.642373",
     "status": "completed"
    },
    "tags": []
   },
   "outputs": [],
   "source": []
  }
 ],
 "metadata": {
  "celltoolbar": "Tags",
  "kernelspec": {
   "display_name": "Python (CMA Fairness)",
   "language": "python",
   "name": "cma_fair_env"
  },
  "language_info": {
   "codemirror_mode": {
    "name": "ipython",
    "version": 3
   },
   "file_extension": ".py",
   "mimetype": "text/x-python",
   "name": "python",
   "nbconvert_exporter": "python",
   "pygments_lexer": "ipython3",
   "version": "3.10.12"
  },
  "papermill": {
   "default_parameters": {},
   "duration": 47.165804,
   "end_time": "2025-08-19T18:10:21.605164",
   "environment_variables": {},
   "exception": null,
   "input_path": "universe_analysis.ipynb",
   "output_path": "output/runs/3/notebooks/m_3-f9f4fa0eb4b291ceef0e42a7c59e10dd.ipynb",
   "parameters": {
    "output_dir": "output",
    "run_no": "3",
    "seed": "2023",
    "universe": "{\"cutoff\": [\"quantile_0.1\", \"quantile_0.25\"], \"eval_fairness_grouping\": [\"majority-minority\", \"nationality-all\"], \"exclude_features\": \"sex\", \"exclude_subgroups\": \"drop-non-german\", \"model\": \"rf\", \"scale\": \"do-not-scale\", \"training_size\": \"25k\", \"training_year\": \"2012_14\"}",
    "universe_id": "f9f4fa0eb4b291ceef0e42a7c59e10dd"
   },
   "start_time": "2025-08-19T18:09:34.439360",
   "version": "2.6.0"
  }
 },
 "nbformat": 4,
 "nbformat_minor": 5
}