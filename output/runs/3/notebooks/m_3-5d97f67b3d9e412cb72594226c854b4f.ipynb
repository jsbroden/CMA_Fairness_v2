{
 "cells": [
  {
   "cell_type": "markdown",
   "id": "ef23dbb3",
   "metadata": {
    "papermill": {
     "duration": 0.022699,
     "end_time": "2025-08-19T18:00:21.317873",
     "exception": false,
     "start_time": "2025-08-19T18:00:21.295174",
     "status": "completed"
    },
    "tags": []
   },
   "source": [
    "# Setup"
   ]
  },
  {
   "cell_type": "code",
   "execution_count": 1,
   "id": "0bc8e7dc",
   "metadata": {
    "execution": {
     "iopub.execute_input": "2025-08-19T18:00:21.359150Z",
     "iopub.status.busy": "2025-08-19T18:00:21.358638Z",
     "iopub.status.idle": "2025-08-19T18:00:21.369494Z",
     "shell.execute_reply": "2025-08-19T18:00:21.368735Z"
    },
    "papermill": {
     "duration": 0.038369,
     "end_time": "2025-08-19T18:00:21.375143",
     "exception": false,
     "start_time": "2025-08-19T18:00:21.336774",
     "status": "completed"
    },
    "tags": []
   },
   "outputs": [
    {
     "name": "stdout",
     "output_type": "stream",
     "text": [
      "/dss/dsshome1/0C/ra93lal2/cma/CMA_Fairness_v2\n"
     ]
    },
    {
     "name": "stderr",
     "output_type": "stream",
     "text": [
      "/dss/dsshome1/0C/ra93lal2/.local/share/virtualenvs/CMA_Fairness_v2-3j10GkSs/lib/python3.10/site-packages/IPython/core/magics/osm.py:393: UserWarning: This is now an optional IPython functionality, using bookmarks requires you to install the `pickleshare` library.\n",
      "  bkms = self.shell.db.get('bookmarks', {})\n",
      "/dss/dsshome1/0C/ra93lal2/.local/share/virtualenvs/CMA_Fairness_v2-3j10GkSs/lib/python3.10/site-packages/IPython/core/magics/osm.py:417: UserWarning: This is now an optional IPython functionality, setting dhist requires you to install the `pickleshare` library.\n",
      "  self.shell.db['dhist'] = compress_dhist(dhist)[-100:]\n"
     ]
    }
   ],
   "source": [
    "%cd ~/cma/CMA_Fairness_v2"
   ]
  },
  {
   "cell_type": "markdown",
   "id": "9d235661",
   "metadata": {
    "papermill": {
     "duration": 0.010212,
     "end_time": "2025-08-19T18:00:21.402277",
     "exception": false,
     "start_time": "2025-08-19T18:00:21.392065",
     "status": "completed"
    },
    "tags": []
   },
   "source": [
    "The following cell holds the definition of our parameters, these values can be overriden by rendering the with e.g. the following command:\n",
    "\n",
    "papermill -p alpha 0.2 -p ratio 0.3 universe_analysis.ipynb output/test_run.ipynb"
   ]
  },
  {
   "cell_type": "code",
   "execution_count": 2,
   "id": "4a789d8e",
   "metadata": {
    "execution": {
     "iopub.execute_input": "2025-08-19T18:00:21.422842Z",
     "iopub.status.busy": "2025-08-19T18:00:21.421796Z",
     "iopub.status.idle": "2025-08-19T18:00:21.430538Z",
     "shell.execute_reply": "2025-08-19T18:00:21.429409Z"
    },
    "papermill": {
     "duration": 0.020782,
     "end_time": "2025-08-19T18:00:21.431963",
     "exception": false,
     "start_time": "2025-08-19T18:00:21.411181",
     "status": "completed"
    },
    "tags": []
   },
   "outputs": [
    {
     "name": "stdout",
     "output_type": "stream",
     "text": [
      "Current working directory: /dss/dsshome1/0C/ra93lal2/cma/CMA_Fairness_v2\n"
     ]
    }
   ],
   "source": [
    "import os\n",
    "print(\"Current working directory:\", os.getcwd())"
   ]
  },
  {
   "cell_type": "code",
   "execution_count": 3,
   "id": "4132aaed",
   "metadata": {
    "execution": {
     "iopub.execute_input": "2025-08-19T18:00:21.456825Z",
     "iopub.status.busy": "2025-08-19T18:00:21.455775Z",
     "iopub.status.idle": "2025-08-19T18:00:21.466207Z",
     "shell.execute_reply": "2025-08-19T18:00:21.464540Z"
    },
    "papermill": {
     "duration": 0.02304,
     "end_time": "2025-08-19T18:00:21.467582",
     "exception": false,
     "start_time": "2025-08-19T18:00:21.444542",
     "status": "completed"
    },
    "tags": [
     "parameters"
    ]
   },
   "outputs": [],
   "source": [
    "run_no = 0\n",
    "universe_id = \"test\"\n",
    "universe = {\n",
    "    \"training_size\": \"5k\", # \"25k\", \"5k\", \"1k\"\n",
    "    \"training_year\": \"2012_14\", # \"2014\", \"2012_14\", \"2010_14\"\n",
    "    \"scale\": \"scale\", # \"scale\", \"do-not-scale\",\n",
    "    \"model\": \"elasticnet\", # \"logreg\", \"penalized_logreg\", \"rf\", \"gbm\", \"elasticnet\"\n",
    "    \"cutoff\": [\"quantile_0.15\", \"quantile_0.30\"],\n",
    "    \"exclude_features\": \"age\", # \"none\", \"nationality\", \"sex\", \"nationality-sex\", \"age\"\n",
    "    \"exclude_subgroups\": \"drop-non-german\", # \"keep-all\", \"drop-non-german\"\n",
    "    \"eval_fairness_grouping\": [\"majority-minority\", \"nationality-all\"]\n",
    "}\n",
    "\n",
    "output_dir=\"./output\"\n",
    "seed=0"
   ]
  },
  {
   "cell_type": "code",
   "execution_count": 4,
   "id": "3eccb7be",
   "metadata": {
    "execution": {
     "iopub.execute_input": "2025-08-19T18:00:21.490761Z",
     "iopub.status.busy": "2025-08-19T18:00:21.489576Z",
     "iopub.status.idle": "2025-08-19T18:00:21.498365Z",
     "shell.execute_reply": "2025-08-19T18:00:21.496712Z"
    },
    "papermill": {
     "duration": 0.020782,
     "end_time": "2025-08-19T18:00:21.499889",
     "exception": false,
     "start_time": "2025-08-19T18:00:21.479107",
     "status": "completed"
    },
    "tags": [
     "injected-parameters"
    ]
   },
   "outputs": [],
   "source": [
    "# Parameters\n",
    "universe_id = \"5d97f67b3d9e412cb72594226c854b4f\"\n",
    "run_no = \"3\"\n",
    "universe = \"{\\\"cutoff\\\": [\\\"quantile_0.1\\\", \\\"quantile_0.25\\\"], \\\"eval_fairness_grouping\\\": [\\\"majority-minority\\\", \\\"nationality-all\\\"], \\\"exclude_features\\\": \\\"age\\\", \\\"exclude_subgroups\\\": \\\"keep-all\\\", \\\"model\\\": \\\"rf\\\", \\\"scale\\\": \\\"do-not-scale\\\", \\\"training_size\\\": \\\"25k\\\", \\\"training_year\\\": \\\"2014\\\"}\"\n",
    "output_dir = \"output\"\n",
    "seed = \"2023\"\n"
   ]
  },
  {
   "cell_type": "code",
   "execution_count": 5,
   "id": "a5d7941f",
   "metadata": {
    "execution": {
     "iopub.execute_input": "2025-08-19T18:00:21.523347Z",
     "iopub.status.busy": "2025-08-19T18:00:21.522268Z",
     "iopub.status.idle": "2025-08-19T18:00:21.530575Z",
     "shell.execute_reply": "2025-08-19T18:00:21.528942Z"
    },
    "papermill": {
     "duration": 0.020877,
     "end_time": "2025-08-19T18:00:21.532087",
     "exception": false,
     "start_time": "2025-08-19T18:00:21.511210",
     "status": "completed"
    },
    "tags": []
   },
   "outputs": [],
   "source": [
    "import json\n",
    "if isinstance(universe, str):\n",
    "    universe = json.loads(universe)"
   ]
  },
  {
   "cell_type": "code",
   "execution_count": 6,
   "id": "7076ccb1",
   "metadata": {
    "execution": {
     "iopub.execute_input": "2025-08-19T18:00:21.556285Z",
     "iopub.status.busy": "2025-08-19T18:00:21.555099Z",
     "iopub.status.idle": "2025-08-19T18:00:21.608376Z",
     "shell.execute_reply": "2025-08-19T18:00:21.607629Z"
    },
    "papermill": {
     "duration": 0.06726,
     "end_time": "2025-08-19T18:00:21.610959",
     "exception": false,
     "start_time": "2025-08-19T18:00:21.543699",
     "status": "completed"
    },
    "tags": []
   },
   "outputs": [],
   "source": [
    "# Auto-reload the custom package\n",
    "%load_ext autoreload\n",
    "%autoreload 1\n",
    "%aimport fairness_multiverse"
   ]
  },
  {
   "cell_type": "code",
   "execution_count": 7,
   "id": "94c8eb93",
   "metadata": {
    "execution": {
     "iopub.execute_input": "2025-08-19T18:00:21.646404Z",
     "iopub.status.busy": "2025-08-19T18:00:21.645421Z",
     "iopub.status.idle": "2025-08-19T18:00:23.207326Z",
     "shell.execute_reply": "2025-08-19T18:00:23.205843Z"
    },
    "papermill": {
     "duration": 1.577549,
     "end_time": "2025-08-19T18:00:23.209840",
     "exception": false,
     "start_time": "2025-08-19T18:00:21.632291",
     "status": "completed"
    },
    "tags": []
   },
   "outputs": [],
   "source": [
    "from fairness_multiverse.universe import UniverseAnalysis\n",
    "\n",
    "universe_analysis = UniverseAnalysis(\n",
    "    run_no = run_no,\n",
    "    universe_id = universe_id,\n",
    "    universe = universe,\n",
    "    output_dir=output_dir,\n",
    ")"
   ]
  },
  {
   "cell_type": "code",
   "execution_count": 8,
   "id": "2a6381cf",
   "metadata": {
    "execution": {
     "iopub.execute_input": "2025-08-19T18:00:23.230799Z",
     "iopub.status.busy": "2025-08-19T18:00:23.230257Z",
     "iopub.status.idle": "2025-08-19T18:00:23.239820Z",
     "shell.execute_reply": "2025-08-19T18:00:23.238818Z"
    },
    "papermill": {
     "duration": 0.021425,
     "end_time": "2025-08-19T18:00:23.241204",
     "exception": false,
     "start_time": "2025-08-19T18:00:23.219779",
     "status": "completed"
    },
    "tags": []
   },
   "outputs": [
    {
     "name": "stdout",
     "output_type": "stream",
     "text": [
      "Using Seed: 2023\n"
     ]
    }
   ],
   "source": [
    "import numpy as np\n",
    "parsed_seed = int(seed)\n",
    "np.random.seed(parsed_seed)\n",
    "print(f\"Using Seed: {parsed_seed}\")"
   ]
  },
  {
   "cell_type": "markdown",
   "id": "b6e958b4",
   "metadata": {
    "papermill": {
     "duration": 0.009106,
     "end_time": "2025-08-19T18:00:23.259631",
     "exception": false,
     "start_time": "2025-08-19T18:00:23.250525",
     "status": "completed"
    },
    "tags": []
   },
   "source": [
    "# Loading Data"
   ]
  },
  {
   "cell_type": "code",
   "execution_count": 9,
   "id": "98701482",
   "metadata": {
    "execution": {
     "iopub.execute_input": "2025-08-19T18:00:23.279174Z",
     "iopub.status.busy": "2025-08-19T18:00:23.278710Z",
     "iopub.status.idle": "2025-08-19T18:00:33.120253Z",
     "shell.execute_reply": "2025-08-19T18:00:33.118729Z"
    },
    "papermill": {
     "duration": 9.853254,
     "end_time": "2025-08-19T18:00:33.121995",
     "exception": false,
     "start_time": "2025-08-19T18:00:23.268741",
     "status": "completed"
    },
    "tags": []
   },
   "outputs": [
    {
     "name": "stdout",
     "output_type": "stream",
     "text": [
      "Loading SIAB data from cache: data/siab_cached.csv.gz\n"
     ]
    },
    {
     "name": "stdout",
     "output_type": "stream",
     "text": [
      "(643690, 164)\n"
     ]
    }
   ],
   "source": [
    "from pathlib import Path\n",
    "import pandas as pd\n",
    "\n",
    "# File paths\n",
    "raw_file = Path(\"data/raw/siab.csv\")\n",
    "cache_file = Path(\"data/siab_cached.csv.gz\")\n",
    "\n",
    "# Ensure cache directory exists\n",
    "cache_file.parent.mkdir(parents=True, exist_ok=True)\n",
    "\n",
    "# Load with simple caching\n",
    "if cache_file.exists():\n",
    "    print(f\"Loading SIAB data from cache: {cache_file}\")\n",
    "    siab = pd.read_csv(cache_file, compression='gzip')\n",
    "else:\n",
    "    print(f\"Cache not found. Reading raw SIAB data: {raw_file}\")\n",
    "    siab = pd.read_csv(raw_file)\n",
    "    siab.to_csv(cache_file, index=False, compression='gzip')\n",
    "    print(f\"Cached SIAB data to: {cache_file}\")\n",
    "\n",
    "print(siab.shape)"
   ]
  },
  {
   "cell_type": "code",
   "execution_count": 10,
   "id": "058d2abb",
   "metadata": {
    "execution": {
     "iopub.execute_input": "2025-08-19T18:00:33.147527Z",
     "iopub.status.busy": "2025-08-19T18:00:33.147127Z",
     "iopub.status.idle": "2025-08-19T18:00:33.377929Z",
     "shell.execute_reply": "2025-08-19T18:00:33.377190Z"
    },
    "papermill": {
     "duration": 0.247447,
     "end_time": "2025-08-19T18:00:33.383448",
     "exception": false,
     "start_time": "2025-08-19T18:00:33.136001",
     "status": "completed"
    },
    "tags": []
   },
   "outputs": [
    {
     "data": {
      "text/html": [
       "<div>\n",
       "<style scoped>\n",
       "    .dataframe tbody tr th:only-of-type {\n",
       "        vertical-align: middle;\n",
       "    }\n",
       "\n",
       "    .dataframe tbody tr th {\n",
       "        vertical-align: top;\n",
       "    }\n",
       "\n",
       "    .dataframe thead th {\n",
       "        text-align: right;\n",
       "    }\n",
       "</style>\n",
       "<table border=\"1\" class=\"dataframe\">\n",
       "  <thead>\n",
       "    <tr style=\"text-align: right;\">\n",
       "      <th></th>\n",
       "      <th>persnr</th>\n",
       "      <th>year</th>\n",
       "      <th>nrEntry</th>\n",
       "      <th>ltue</th>\n",
       "      <th>employed_before</th>\n",
       "      <th>receipt_leh_before</th>\n",
       "      <th>receipt_lhg_before</th>\n",
       "      <th>se_before</th>\n",
       "      <th>ASU_notue_seeking_before</th>\n",
       "      <th>ASU_other_before</th>\n",
       "      <th>...</th>\n",
       "      <th>minijob_tot_dur_byage</th>\n",
       "      <th>ft_tot_dur_byage</th>\n",
       "      <th>befrist_tot_dur_byage</th>\n",
       "      <th>leih_tot_dur_byage</th>\n",
       "      <th>LHG_tot_dur_byage</th>\n",
       "      <th>LEH_tot_dur_byage</th>\n",
       "      <th>almp_tot_dur_byage</th>\n",
       "      <th>almp_aw_tot_dur_byage</th>\n",
       "      <th>se_tot_dur_byage</th>\n",
       "      <th>seeking1_tot_dur_byage</th>\n",
       "    </tr>\n",
       "  </thead>\n",
       "  <tbody>\n",
       "    <tr>\n",
       "      <th>0</th>\n",
       "      <td>7</td>\n",
       "      <td>2015</td>\n",
       "      <td>1</td>\n",
       "      <td>0</td>\n",
       "      <td>1</td>\n",
       "      <td>0</td>\n",
       "      <td>0</td>\n",
       "      <td>0</td>\n",
       "      <td>1</td>\n",
       "      <td>0</td>\n",
       "      <td>...</td>\n",
       "      <td>0.000000</td>\n",
       "      <td>0.000000</td>\n",
       "      <td>15.043478</td>\n",
       "      <td>0.000000</td>\n",
       "      <td>0.000000</td>\n",
       "      <td>0.000000</td>\n",
       "      <td>0.000000</td>\n",
       "      <td>0.000000</td>\n",
       "      <td>0.000000</td>\n",
       "      <td>0.000000</td>\n",
       "    </tr>\n",
       "    <tr>\n",
       "      <th>1</th>\n",
       "      <td>18</td>\n",
       "      <td>2010</td>\n",
       "      <td>1</td>\n",
       "      <td>1</td>\n",
       "      <td>0</td>\n",
       "      <td>0</td>\n",
       "      <td>0</td>\n",
       "      <td>0</td>\n",
       "      <td>0</td>\n",
       "      <td>0</td>\n",
       "      <td>...</td>\n",
       "      <td>0.000000</td>\n",
       "      <td>0.000000</td>\n",
       "      <td>0.000000</td>\n",
       "      <td>0.000000</td>\n",
       "      <td>0.000000</td>\n",
       "      <td>0.000000</td>\n",
       "      <td>0.000000</td>\n",
       "      <td>0.000000</td>\n",
       "      <td>0.000000</td>\n",
       "      <td>0.000000</td>\n",
       "    </tr>\n",
       "    <tr>\n",
       "      <th>2</th>\n",
       "      <td>18</td>\n",
       "      <td>2011</td>\n",
       "      <td>2</td>\n",
       "      <td>0</td>\n",
       "      <td>1</td>\n",
       "      <td>0</td>\n",
       "      <td>1</td>\n",
       "      <td>0</td>\n",
       "      <td>1</td>\n",
       "      <td>0</td>\n",
       "      <td>...</td>\n",
       "      <td>2.714286</td>\n",
       "      <td>2.714286</td>\n",
       "      <td>0.000000</td>\n",
       "      <td>0.000000</td>\n",
       "      <td>10.775510</td>\n",
       "      <td>0.000000</td>\n",
       "      <td>8.367347</td>\n",
       "      <td>0.000000</td>\n",
       "      <td>0.000000</td>\n",
       "      <td>9.836735</td>\n",
       "    </tr>\n",
       "    <tr>\n",
       "      <th>3</th>\n",
       "      <td>18</td>\n",
       "      <td>2012</td>\n",
       "      <td>3</td>\n",
       "      <td>0</td>\n",
       "      <td>1</td>\n",
       "      <td>0</td>\n",
       "      <td>1</td>\n",
       "      <td>0</td>\n",
       "      <td>1</td>\n",
       "      <td>0</td>\n",
       "      <td>...</td>\n",
       "      <td>4.200000</td>\n",
       "      <td>4.200000</td>\n",
       "      <td>0.000000</td>\n",
       "      <td>0.000000</td>\n",
       "      <td>12.100000</td>\n",
       "      <td>0.000000</td>\n",
       "      <td>9.400000</td>\n",
       "      <td>0.000000</td>\n",
       "      <td>0.000000</td>\n",
       "      <td>9.960000</td>\n",
       "    </tr>\n",
       "    <tr>\n",
       "      <th>4</th>\n",
       "      <td>18</td>\n",
       "      <td>2012</td>\n",
       "      <td>4</td>\n",
       "      <td>0</td>\n",
       "      <td>1</td>\n",
       "      <td>0</td>\n",
       "      <td>1</td>\n",
       "      <td>0</td>\n",
       "      <td>1</td>\n",
       "      <td>0</td>\n",
       "      <td>...</td>\n",
       "      <td>5.460000</td>\n",
       "      <td>5.460000</td>\n",
       "      <td>0.000000</td>\n",
       "      <td>0.000000</td>\n",
       "      <td>13.360000</td>\n",
       "      <td>0.000000</td>\n",
       "      <td>10.320000</td>\n",
       "      <td>0.000000</td>\n",
       "      <td>0.000000</td>\n",
       "      <td>10.280000</td>\n",
       "    </tr>\n",
       "    <tr>\n",
       "      <th>...</th>\n",
       "      <td>...</td>\n",
       "      <td>...</td>\n",
       "      <td>...</td>\n",
       "      <td>...</td>\n",
       "      <td>...</td>\n",
       "      <td>...</td>\n",
       "      <td>...</td>\n",
       "      <td>...</td>\n",
       "      <td>...</td>\n",
       "      <td>...</td>\n",
       "      <td>...</td>\n",
       "      <td>...</td>\n",
       "      <td>...</td>\n",
       "      <td>...</td>\n",
       "      <td>...</td>\n",
       "      <td>...</td>\n",
       "      <td>...</td>\n",
       "      <td>...</td>\n",
       "      <td>...</td>\n",
       "      <td>...</td>\n",
       "      <td>...</td>\n",
       "    </tr>\n",
       "    <tr>\n",
       "      <th>643685</th>\n",
       "      <td>1827860</td>\n",
       "      <td>2013</td>\n",
       "      <td>1</td>\n",
       "      <td>0</td>\n",
       "      <td>0</td>\n",
       "      <td>0</td>\n",
       "      <td>1</td>\n",
       "      <td>0</td>\n",
       "      <td>0</td>\n",
       "      <td>1</td>\n",
       "      <td>...</td>\n",
       "      <td>0.000000</td>\n",
       "      <td>0.000000</td>\n",
       "      <td>0.000000</td>\n",
       "      <td>0.000000</td>\n",
       "      <td>0.612903</td>\n",
       "      <td>0.000000</td>\n",
       "      <td>0.000000</td>\n",
       "      <td>0.000000</td>\n",
       "      <td>0.000000</td>\n",
       "      <td>0.000000</td>\n",
       "    </tr>\n",
       "    <tr>\n",
       "      <th>643686</th>\n",
       "      <td>1827860</td>\n",
       "      <td>2015</td>\n",
       "      <td>2</td>\n",
       "      <td>1</td>\n",
       "      <td>0</td>\n",
       "      <td>0</td>\n",
       "      <td>1</td>\n",
       "      <td>0</td>\n",
       "      <td>1</td>\n",
       "      <td>0</td>\n",
       "      <td>...</td>\n",
       "      <td>0.000000</td>\n",
       "      <td>0.000000</td>\n",
       "      <td>0.212121</td>\n",
       "      <td>0.212121</td>\n",
       "      <td>17.363636</td>\n",
       "      <td>0.000000</td>\n",
       "      <td>8.909091</td>\n",
       "      <td>0.000000</td>\n",
       "      <td>0.000000</td>\n",
       "      <td>7.121212</td>\n",
       "    </tr>\n",
       "    <tr>\n",
       "      <th>643687</th>\n",
       "      <td>1827860</td>\n",
       "      <td>2016</td>\n",
       "      <td>3</td>\n",
       "      <td>1</td>\n",
       "      <td>0</td>\n",
       "      <td>0</td>\n",
       "      <td>1</td>\n",
       "      <td>1</td>\n",
       "      <td>0</td>\n",
       "      <td>1</td>\n",
       "      <td>...</td>\n",
       "      <td>0.000000</td>\n",
       "      <td>0.000000</td>\n",
       "      <td>0.294118</td>\n",
       "      <td>0.205882</td>\n",
       "      <td>34.705882</td>\n",
       "      <td>0.000000</td>\n",
       "      <td>10.352941</td>\n",
       "      <td>1.705882</td>\n",
       "      <td>1.705882</td>\n",
       "      <td>23.911765</td>\n",
       "    </tr>\n",
       "    <tr>\n",
       "      <th>643688</th>\n",
       "      <td>1827869</td>\n",
       "      <td>2013</td>\n",
       "      <td>1</td>\n",
       "      <td>1</td>\n",
       "      <td>1</td>\n",
       "      <td>0</td>\n",
       "      <td>0</td>\n",
       "      <td>0</td>\n",
       "      <td>1</td>\n",
       "      <td>0</td>\n",
       "      <td>...</td>\n",
       "      <td>0.000000</td>\n",
       "      <td>0.000000</td>\n",
       "      <td>0.000000</td>\n",
       "      <td>0.000000</td>\n",
       "      <td>0.000000</td>\n",
       "      <td>0.525424</td>\n",
       "      <td>0.000000</td>\n",
       "      <td>0.000000</td>\n",
       "      <td>0.000000</td>\n",
       "      <td>0.000000</td>\n",
       "    </tr>\n",
       "    <tr>\n",
       "      <th>643689</th>\n",
       "      <td>1827869</td>\n",
       "      <td>2014</td>\n",
       "      <td>2</td>\n",
       "      <td>0</td>\n",
       "      <td>0</td>\n",
       "      <td>1</td>\n",
       "      <td>0</td>\n",
       "      <td>0</td>\n",
       "      <td>1</td>\n",
       "      <td>0</td>\n",
       "      <td>...</td>\n",
       "      <td>0.000000</td>\n",
       "      <td>0.666667</td>\n",
       "      <td>0.666667</td>\n",
       "      <td>0.000000</td>\n",
       "      <td>0.000000</td>\n",
       "      <td>8.950000</td>\n",
       "      <td>1.033333</td>\n",
       "      <td>0.083333</td>\n",
       "      <td>0.083333</td>\n",
       "      <td>8.133333</td>\n",
       "    </tr>\n",
       "  </tbody>\n",
       "</table>\n",
       "<p>643690 rows × 164 columns</p>\n",
       "</div>"
      ],
      "text/plain": [
       "         persnr  year  nrEntry  ltue  employed_before  receipt_leh_before  \\\n",
       "0             7  2015        1     0                1                   0   \n",
       "1            18  2010        1     1                0                   0   \n",
       "2            18  2011        2     0                1                   0   \n",
       "3            18  2012        3     0                1                   0   \n",
       "4            18  2012        4     0                1                   0   \n",
       "...         ...   ...      ...   ...              ...                 ...   \n",
       "643685  1827860  2013        1     0                0                   0   \n",
       "643686  1827860  2015        2     1                0                   0   \n",
       "643687  1827860  2016        3     1                0                   0   \n",
       "643688  1827869  2013        1     1                1                   0   \n",
       "643689  1827869  2014        2     0                0                   1   \n",
       "\n",
       "        receipt_lhg_before  se_before  ASU_notue_seeking_before  \\\n",
       "0                        0          0                         1   \n",
       "1                        0          0                         0   \n",
       "2                        1          0                         1   \n",
       "3                        1          0                         1   \n",
       "4                        1          0                         1   \n",
       "...                    ...        ...                       ...   \n",
       "643685                   1          0                         0   \n",
       "643686                   1          0                         1   \n",
       "643687                   1          1                         0   \n",
       "643688                   0          0                         1   \n",
       "643689                   0          0                         1   \n",
       "\n",
       "        ASU_other_before  ...  minijob_tot_dur_byage  ft_tot_dur_byage  \\\n",
       "0                      0  ...               0.000000          0.000000   \n",
       "1                      0  ...               0.000000          0.000000   \n",
       "2                      0  ...               2.714286          2.714286   \n",
       "3                      0  ...               4.200000          4.200000   \n",
       "4                      0  ...               5.460000          5.460000   \n",
       "...                  ...  ...                    ...               ...   \n",
       "643685                 1  ...               0.000000          0.000000   \n",
       "643686                 0  ...               0.000000          0.000000   \n",
       "643687                 1  ...               0.000000          0.000000   \n",
       "643688                 0  ...               0.000000          0.000000   \n",
       "643689                 0  ...               0.000000          0.666667   \n",
       "\n",
       "        befrist_tot_dur_byage  leih_tot_dur_byage  LHG_tot_dur_byage  \\\n",
       "0                   15.043478            0.000000           0.000000   \n",
       "1                    0.000000            0.000000           0.000000   \n",
       "2                    0.000000            0.000000          10.775510   \n",
       "3                    0.000000            0.000000          12.100000   \n",
       "4                    0.000000            0.000000          13.360000   \n",
       "...                       ...                 ...                ...   \n",
       "643685               0.000000            0.000000           0.612903   \n",
       "643686               0.212121            0.212121          17.363636   \n",
       "643687               0.294118            0.205882          34.705882   \n",
       "643688               0.000000            0.000000           0.000000   \n",
       "643689               0.666667            0.000000           0.000000   \n",
       "\n",
       "        LEH_tot_dur_byage  almp_tot_dur_byage  almp_aw_tot_dur_byage  \\\n",
       "0                0.000000            0.000000               0.000000   \n",
       "1                0.000000            0.000000               0.000000   \n",
       "2                0.000000            8.367347               0.000000   \n",
       "3                0.000000            9.400000               0.000000   \n",
       "4                0.000000           10.320000               0.000000   \n",
       "...                   ...                 ...                    ...   \n",
       "643685           0.000000            0.000000               0.000000   \n",
       "643686           0.000000            8.909091               0.000000   \n",
       "643687           0.000000           10.352941               1.705882   \n",
       "643688           0.525424            0.000000               0.000000   \n",
       "643689           8.950000            1.033333               0.083333   \n",
       "\n",
       "        se_tot_dur_byage  seeking1_tot_dur_byage  \n",
       "0               0.000000                0.000000  \n",
       "1               0.000000                0.000000  \n",
       "2               0.000000                9.836735  \n",
       "3               0.000000                9.960000  \n",
       "4               0.000000               10.280000  \n",
       "...                  ...                     ...  \n",
       "643685          0.000000                0.000000  \n",
       "643686          0.000000                7.121212  \n",
       "643687          1.705882               23.911765  \n",
       "643688          0.000000                0.000000  \n",
       "643689          0.083333                8.133333  \n",
       "\n",
       "[643690 rows x 164 columns]"
      ]
     },
     "execution_count": 10,
     "metadata": {},
     "output_type": "execute_result"
    }
   ],
   "source": [
    "siab"
   ]
  },
  {
   "cell_type": "markdown",
   "id": "1f87e805",
   "metadata": {
    "papermill": {
     "duration": 0.017333,
     "end_time": "2025-08-19T18:00:33.421745",
     "exception": false,
     "start_time": "2025-08-19T18:00:33.404412",
     "status": "completed"
    },
    "tags": []
   },
   "source": [
    "# Splitting Data and Setting Training Data Size"
   ]
  },
  {
   "cell_type": "code",
   "execution_count": 11,
   "id": "910ae358",
   "metadata": {
    "execution": {
     "iopub.execute_input": "2025-08-19T18:00:33.444453Z",
     "iopub.status.busy": "2025-08-19T18:00:33.444148Z",
     "iopub.status.idle": "2025-08-19T18:00:33.822251Z",
     "shell.execute_reply": "2025-08-19T18:00:33.821269Z"
    },
    "papermill": {
     "duration": 0.391491,
     "end_time": "2025-08-19T18:00:33.824461",
     "exception": false,
     "start_time": "2025-08-19T18:00:33.432970",
     "status": "completed"
    },
    "tags": []
   },
   "outputs": [],
   "source": [
    "from fairness_multiverse.universe import sample_by_year_size\n",
    "\n",
    "siab_train = sample_by_year_size(siab,\n",
    "                               training_year=universe[\"training_year\"],\n",
    "                               training_size=universe[\"training_size\"])"
   ]
  },
  {
   "cell_type": "code",
   "execution_count": 12,
   "id": "919c8ff5",
   "metadata": {
    "execution": {
     "iopub.execute_input": "2025-08-19T18:00:33.861651Z",
     "iopub.status.busy": "2025-08-19T18:00:33.860534Z",
     "iopub.status.idle": "2025-08-19T18:00:33.874585Z",
     "shell.execute_reply": "2025-08-19T18:00:33.873326Z"
    },
    "papermill": {
     "duration": 0.032049,
     "end_time": "2025-08-19T18:00:33.877272",
     "exception": false,
     "start_time": "2025-08-19T18:00:33.845223",
     "status": "completed"
    },
    "tags": []
   },
   "outputs": [
    {
     "data": {
      "text/plain": [
       "(25000, 164)"
      ]
     },
     "execution_count": 12,
     "metadata": {},
     "output_type": "execute_result"
    }
   ],
   "source": [
    "siab_train.shape"
   ]
  },
  {
   "cell_type": "code",
   "execution_count": 13,
   "id": "feb13bf4",
   "metadata": {
    "execution": {
     "iopub.execute_input": "2025-08-19T18:00:33.905017Z",
     "iopub.status.busy": "2025-08-19T18:00:33.904043Z",
     "iopub.status.idle": "2025-08-19T18:00:33.925411Z",
     "shell.execute_reply": "2025-08-19T18:00:33.924618Z"
    },
    "papermill": {
     "duration": 0.034864,
     "end_time": "2025-08-19T18:00:33.926860",
     "exception": false,
     "start_time": "2025-08-19T18:00:33.891996",
     "status": "completed"
    },
    "tags": []
   },
   "outputs": [
    {
     "data": {
      "text/plain": [
       "year\n",
       "2014    25000\n",
       "dtype: int64"
      ]
     },
     "metadata": {},
     "output_type": "display_data"
    }
   ],
   "source": [
    "display(siab_train.groupby(\"year\").size())"
   ]
  },
  {
   "cell_type": "code",
   "execution_count": 14,
   "id": "0997782f",
   "metadata": {
    "execution": {
     "iopub.execute_input": "2025-08-19T18:00:33.974224Z",
     "iopub.status.busy": "2025-08-19T18:00:33.973096Z",
     "iopub.status.idle": "2025-08-19T18:00:34.264040Z",
     "shell.execute_reply": "2025-08-19T18:00:34.262864Z"
    },
    "papermill": {
     "duration": 0.327592,
     "end_time": "2025-08-19T18:00:34.265723",
     "exception": false,
     "start_time": "2025-08-19T18:00:33.938131",
     "status": "completed"
    },
    "tags": []
   },
   "outputs": [],
   "source": [
    "#siab_train = siab_s[siab_s.year < 2015]\n",
    "siab_calib = siab[siab.year == 2015]\n",
    "siab_test = siab[siab.year == 2016]"
   ]
  },
  {
   "cell_type": "code",
   "execution_count": 15,
   "id": "2c1e4012",
   "metadata": {
    "execution": {
     "iopub.execute_input": "2025-08-19T18:00:34.289614Z",
     "iopub.status.busy": "2025-08-19T18:00:34.288189Z",
     "iopub.status.idle": "2025-08-19T18:00:34.294989Z",
     "shell.execute_reply": "2025-08-19T18:00:34.293736Z"
    },
    "papermill": {
     "duration": 0.02017,
     "end_time": "2025-08-19T18:00:34.296498",
     "exception": false,
     "start_time": "2025-08-19T18:00:34.276328",
     "status": "completed"
    },
    "tags": []
   },
   "outputs": [],
   "source": [
    "#siab_calib.shape"
   ]
  },
  {
   "cell_type": "code",
   "execution_count": 16,
   "id": "f66b54ca",
   "metadata": {
    "execution": {
     "iopub.execute_input": "2025-08-19T18:00:34.326320Z",
     "iopub.status.busy": "2025-08-19T18:00:34.320899Z",
     "iopub.status.idle": "2025-08-19T18:00:34.333210Z",
     "shell.execute_reply": "2025-08-19T18:00:34.331585Z"
    },
    "papermill": {
     "duration": 0.026394,
     "end_time": "2025-08-19T18:00:34.334654",
     "exception": false,
     "start_time": "2025-08-19T18:00:34.308260",
     "status": "completed"
    },
    "tags": []
   },
   "outputs": [],
   "source": [
    "#siab_test.shape"
   ]
  },
  {
   "cell_type": "code",
   "execution_count": 17,
   "id": "27e4384d",
   "metadata": {
    "execution": {
     "iopub.execute_input": "2025-08-19T18:00:34.362374Z",
     "iopub.status.busy": "2025-08-19T18:00:34.361254Z",
     "iopub.status.idle": "2025-08-19T18:00:34.419240Z",
     "shell.execute_reply": "2025-08-19T18:00:34.418487Z"
    },
    "papermill": {
     "duration": 0.073526,
     "end_time": "2025-08-19T18:00:34.421966",
     "exception": false,
     "start_time": "2025-08-19T18:00:34.348440",
     "status": "completed"
    },
    "tags": []
   },
   "outputs": [],
   "source": [
    "X_train = siab_train.iloc[:,4:164]\n",
    "y_train = siab_train.iloc[:, [3]]"
   ]
  },
  {
   "cell_type": "code",
   "execution_count": 18,
   "id": "08ee8389",
   "metadata": {
    "execution": {
     "iopub.execute_input": "2025-08-19T18:00:34.453783Z",
     "iopub.status.busy": "2025-08-19T18:00:34.452728Z",
     "iopub.status.idle": "2025-08-19T18:00:34.520997Z",
     "shell.execute_reply": "2025-08-19T18:00:34.520214Z"
    },
    "papermill": {
     "duration": 0.086258,
     "end_time": "2025-08-19T18:00:34.522568",
     "exception": false,
     "start_time": "2025-08-19T18:00:34.436310",
     "status": "completed"
    },
    "tags": []
   },
   "outputs": [],
   "source": [
    "X_calib = siab_calib.iloc[:,4:164]\n",
    "y_calib = siab_calib.iloc[:, [3]]"
   ]
  },
  {
   "cell_type": "code",
   "execution_count": 19,
   "id": "b7ff42e0",
   "metadata": {
    "execution": {
     "iopub.execute_input": "2025-08-19T18:00:34.546695Z",
     "iopub.status.busy": "2025-08-19T18:00:34.545585Z",
     "iopub.status.idle": "2025-08-19T18:00:34.608404Z",
     "shell.execute_reply": "2025-08-19T18:00:34.607649Z"
    },
    "papermill": {
     "duration": 0.076286,
     "end_time": "2025-08-19T18:00:34.609998",
     "exception": false,
     "start_time": "2025-08-19T18:00:34.533712",
     "status": "completed"
    },
    "tags": []
   },
   "outputs": [],
   "source": [
    "X_test = siab_test.iloc[:,4:164]\n",
    "y_true = siab_test.iloc[:, [3]]"
   ]
  },
  {
   "cell_type": "code",
   "execution_count": 20,
   "id": "0275101e",
   "metadata": {
    "execution": {
     "iopub.execute_input": "2025-08-19T18:00:34.633881Z",
     "iopub.status.busy": "2025-08-19T18:00:34.632703Z",
     "iopub.status.idle": "2025-08-19T18:00:34.772419Z",
     "shell.execute_reply": "2025-08-19T18:00:34.771748Z"
    },
    "papermill": {
     "duration": 0.153671,
     "end_time": "2025-08-19T18:00:34.774597",
     "exception": false,
     "start_time": "2025-08-19T18:00:34.620926",
     "status": "completed"
    },
    "tags": []
   },
   "outputs": [],
   "source": [
    "# Auxiliary data needed downstream in the pipeline\n",
    "\n",
    "org_train = X_train.copy()\n",
    "org_test = X_test.copy()\n",
    "org_calib = X_calib.copy()"
   ]
  },
  {
   "cell_type": "markdown",
   "id": "b461e618",
   "metadata": {
    "papermill": {
     "duration": 0.010833,
     "end_time": "2025-08-19T18:00:34.806892",
     "exception": false,
     "start_time": "2025-08-19T18:00:34.796059",
     "status": "completed"
    },
    "tags": []
   },
   "source": [
    "# Preprocessing Data"
   ]
  },
  {
   "cell_type": "code",
   "execution_count": 21,
   "id": "78e74c4b",
   "metadata": {
    "execution": {
     "iopub.execute_input": "2025-08-19T18:00:34.830837Z",
     "iopub.status.busy": "2025-08-19T18:00:34.829391Z",
     "iopub.status.idle": "2025-08-19T18:00:34.839463Z",
     "shell.execute_reply": "2025-08-19T18:00:34.837942Z"
    },
    "papermill": {
     "duration": 0.025817,
     "end_time": "2025-08-19T18:00:34.843110",
     "exception": false,
     "start_time": "2025-08-19T18:00:34.817293",
     "status": "completed"
    },
    "tags": []
   },
   "outputs": [],
   "source": [
    "# EXCLUDE PROTECTED FEATURES\n",
    "# --------------------------\n",
    "\n",
    "excluded_features = universe[\"exclude_features\"].split(\"-\")\n",
    "excluded_features_dictionary = {\n",
    "    \"nationality\": [\"maxdeutsch1\", \"maxdeutsch.Missing.\"],\n",
    "    \"sex\": [\"frau1\"],\n",
    "    \"age\": [\"age\"],\n",
    "}"
   ]
  },
  {
   "cell_type": "code",
   "execution_count": 22,
   "id": "f8e63555",
   "metadata": {
    "execution": {
     "iopub.execute_input": "2025-08-19T18:00:34.869435Z",
     "iopub.status.busy": "2025-08-19T18:00:34.868226Z",
     "iopub.status.idle": "2025-08-19T18:00:34.878486Z",
     "shell.execute_reply": "2025-08-19T18:00:34.876893Z"
    },
    "papermill": {
     "duration": 0.025012,
     "end_time": "2025-08-19T18:00:34.880038",
     "exception": false,
     "start_time": "2025-08-19T18:00:34.855026",
     "status": "completed"
    },
    "tags": []
   },
   "outputs": [],
   "source": [
    "excluded_features_columns = [\n",
    "    excluded_features_dictionary[f] for f in excluded_features if len(f) > 0 and f != \"none\"\n",
    "]"
   ]
  },
  {
   "cell_type": "code",
   "execution_count": 23,
   "id": "da781f7c",
   "metadata": {
    "execution": {
     "iopub.execute_input": "2025-08-19T18:00:34.917510Z",
     "iopub.status.busy": "2025-08-19T18:00:34.916297Z",
     "iopub.status.idle": "2025-08-19T18:00:34.925147Z",
     "shell.execute_reply": "2025-08-19T18:00:34.923488Z"
    },
    "papermill": {
     "duration": 0.023077,
     "end_time": "2025-08-19T18:00:34.926695",
     "exception": false,
     "start_time": "2025-08-19T18:00:34.903618",
     "status": "completed"
    },
    "tags": []
   },
   "outputs": [],
   "source": [
    "from fairness_multiverse.universe import flatten_once\n",
    "\n",
    "excluded_features_columns = flatten_once(excluded_features_columns)"
   ]
  },
  {
   "cell_type": "code",
   "execution_count": 24,
   "id": "37fef0f0",
   "metadata": {
    "execution": {
     "iopub.execute_input": "2025-08-19T18:00:34.952565Z",
     "iopub.status.busy": "2025-08-19T18:00:34.951387Z",
     "iopub.status.idle": "2025-08-19T18:00:34.992683Z",
     "shell.execute_reply": "2025-08-19T18:00:34.991962Z"
    },
    "papermill": {
     "duration": 0.05976,
     "end_time": "2025-08-19T18:00:34.998733",
     "exception": false,
     "start_time": "2025-08-19T18:00:34.938973",
     "status": "completed"
    },
    "tags": []
   },
   "outputs": [
    {
     "name": "stdout",
     "output_type": "stream",
     "text": [
      "Dropping features: ['age']\n"
     ]
    }
   ],
   "source": [
    "if len(excluded_features_columns) > 0:\n",
    "    print(f\"Dropping features: {excluded_features_columns}\")\n",
    "    X_train.drop(excluded_features_columns, axis=1, inplace=True)"
   ]
  },
  {
   "cell_type": "code",
   "execution_count": 25,
   "id": "d029e3e9",
   "metadata": {
    "execution": {
     "iopub.execute_input": "2025-08-19T18:00:35.037370Z",
     "iopub.status.busy": "2025-08-19T18:00:35.036179Z",
     "iopub.status.idle": "2025-08-19T18:00:35.100307Z",
     "shell.execute_reply": "2025-08-19T18:00:35.099645Z"
    },
    "papermill": {
     "duration": 0.084048,
     "end_time": "2025-08-19T18:00:35.103652",
     "exception": false,
     "start_time": "2025-08-19T18:00:35.019604",
     "status": "completed"
    },
    "tags": []
   },
   "outputs": [
    {
     "name": "stdout",
     "output_type": "stream",
     "text": [
      "Dropping features: ['age']\n"
     ]
    }
   ],
   "source": [
    "if len(excluded_features_columns) > 0:\n",
    "    print(f\"Dropping features: {excluded_features_columns}\")\n",
    "    X_test.drop(excluded_features_columns, axis=1, inplace=True)"
   ]
  },
  {
   "cell_type": "code",
   "execution_count": 26,
   "id": "01d571f0",
   "metadata": {
    "execution": {
     "iopub.execute_input": "2025-08-19T18:00:35.144368Z",
     "iopub.status.busy": "2025-08-19T18:00:35.143177Z",
     "iopub.status.idle": "2025-08-19T18:00:35.198487Z",
     "shell.execute_reply": "2025-08-19T18:00:35.197849Z"
    },
    "papermill": {
     "duration": 0.071637,
     "end_time": "2025-08-19T18:00:35.201112",
     "exception": false,
     "start_time": "2025-08-19T18:00:35.129475",
     "status": "completed"
    },
    "tags": []
   },
   "outputs": [
    {
     "name": "stdout",
     "output_type": "stream",
     "text": [
      "Dropping features: ['age']\n"
     ]
    }
   ],
   "source": [
    "if len(excluded_features_columns) > 0:\n",
    "    print(f\"Dropping features: {excluded_features_columns}\")\n",
    "    X_calib.drop(excluded_features_columns, axis=1, inplace=True)"
   ]
  },
  {
   "cell_type": "code",
   "execution_count": 27,
   "id": "3037356e",
   "metadata": {
    "execution": {
     "iopub.execute_input": "2025-08-19T18:00:35.242394Z",
     "iopub.status.busy": "2025-08-19T18:00:35.241341Z",
     "iopub.status.idle": "2025-08-19T18:00:35.249998Z",
     "shell.execute_reply": "2025-08-19T18:00:35.248355Z"
    },
    "papermill": {
     "duration": 0.024695,
     "end_time": "2025-08-19T18:00:35.251569",
     "exception": false,
     "start_time": "2025-08-19T18:00:35.226874",
     "status": "completed"
    },
    "tags": []
   },
   "outputs": [],
   "source": [
    "# EXCLUDE CERTAIN SUBGROUPS\n",
    "# -------------------------\n",
    "\n",
    "mode = universe.get(\"exclude_subgroups\", \"keep-all\") # Defaults to \"keep-all\" if the key is missing."
   ]
  },
  {
   "cell_type": "code",
   "execution_count": 28,
   "id": "9d1e63fd",
   "metadata": {
    "execution": {
     "iopub.execute_input": "2025-08-19T18:00:35.279119Z",
     "iopub.status.busy": "2025-08-19T18:00:35.277976Z",
     "iopub.status.idle": "2025-08-19T18:00:35.289720Z",
     "shell.execute_reply": "2025-08-19T18:00:35.288082Z"
    },
    "papermill": {
     "duration": 0.026249,
     "end_time": "2025-08-19T18:00:35.291534",
     "exception": false,
     "start_time": "2025-08-19T18:00:35.265285",
     "status": "completed"
    },
    "tags": []
   },
   "outputs": [],
   "source": [
    "if mode == \"keep-all\":\n",
    "    keep_mask = pd.Series(True, index=org_train.index)\n",
    "\n",
    "elif mode == \"drop-non-german\":\n",
    "    keep_mask = (org_train[\"maxdeutsch1\"] == 1) & (org_train[\"maxdeutsch.Missing.\"] == 0)\n",
    "\n",
    "else:\n",
    "    raise ValueError(f\"Unsupported mode for exclude_subgroups: {mode}\")"
   ]
  },
  {
   "cell_type": "code",
   "execution_count": 29,
   "id": "d3b65474",
   "metadata": {
    "execution": {
     "iopub.execute_input": "2025-08-19T18:00:35.324803Z",
     "iopub.status.busy": "2025-08-19T18:00:35.323639Z",
     "iopub.status.idle": "2025-08-19T18:00:35.334573Z",
     "shell.execute_reply": "2025-08-19T18:00:35.333247Z"
    },
    "papermill": {
     "duration": 0.027132,
     "end_time": "2025-08-19T18:00:35.336018",
     "exception": false,
     "start_time": "2025-08-19T18:00:35.308886",
     "status": "completed"
    },
    "tags": []
   },
   "outputs": [],
   "source": [
    "n_drop = (~keep_mask).sum() # Calculates how many rows are set to be dropped\n",
    "if n_drop > 0:\n",
    "    pct = n_drop / len(keep_mask) * 100\n",
    "    print(f\"Dropping {n_drop} rows ({pct:.2f}%) where mode='{mode}'\")"
   ]
  },
  {
   "cell_type": "code",
   "execution_count": 30,
   "id": "f44389b3",
   "metadata": {
    "execution": {
     "iopub.execute_input": "2025-08-19T18:00:35.363825Z",
     "iopub.status.busy": "2025-08-19T18:00:35.362669Z",
     "iopub.status.idle": "2025-08-19T18:00:35.383336Z",
     "shell.execute_reply": "2025-08-19T18:00:35.382079Z"
    },
    "papermill": {
     "duration": 0.034933,
     "end_time": "2025-08-19T18:00:35.385043",
     "exception": false,
     "start_time": "2025-08-19T18:00:35.350110",
     "status": "completed"
    },
    "tags": []
   },
   "outputs": [],
   "source": [
    "X_train = X_train[keep_mask]"
   ]
  },
  {
   "cell_type": "code",
   "execution_count": 31,
   "id": "ceca8c2a",
   "metadata": {
    "execution": {
     "iopub.execute_input": "2025-08-19T18:00:35.422751Z",
     "iopub.status.busy": "2025-08-19T18:00:35.422412Z",
     "iopub.status.idle": "2025-08-19T18:00:35.428506Z",
     "shell.execute_reply": "2025-08-19T18:00:35.427441Z"
    },
    "papermill": {
     "duration": 0.022063,
     "end_time": "2025-08-19T18:00:35.429998",
     "exception": false,
     "start_time": "2025-08-19T18:00:35.407935",
     "status": "completed"
    },
    "tags": []
   },
   "outputs": [],
   "source": [
    "y_train = y_train[keep_mask]"
   ]
  },
  {
   "cell_type": "markdown",
   "id": "04d31e2f",
   "metadata": {
    "papermill": {
     "duration": 0.01072,
     "end_time": "2025-08-19T18:00:35.452385",
     "exception": false,
     "start_time": "2025-08-19T18:00:35.441665",
     "status": "completed"
    },
    "tags": []
   },
   "source": [
    "# Model Training"
   ]
  },
  {
   "cell_type": "code",
   "execution_count": 32,
   "id": "db991733",
   "metadata": {
    "execution": {
     "iopub.execute_input": "2025-08-19T18:00:35.474603Z",
     "iopub.status.busy": "2025-08-19T18:00:35.474297Z",
     "iopub.status.idle": "2025-08-19T18:00:35.583927Z",
     "shell.execute_reply": "2025-08-19T18:00:35.583168Z"
    },
    "papermill": {
     "duration": 0.122831,
     "end_time": "2025-08-19T18:00:35.585624",
     "exception": false,
     "start_time": "2025-08-19T18:00:35.462793",
     "status": "completed"
    },
    "tags": []
   },
   "outputs": [],
   "source": [
    "from sklearn.linear_model import LogisticRegression\n",
    "from sklearn.ensemble import GradientBoostingClassifier, RandomForestClassifier\n",
    "\n",
    "if (universe[\"model\"] == \"logreg\"):\n",
    "    model = LogisticRegression() #penalty=\"none\", solver=\"newton-cg\", max_iter=1)\n",
    "elif (universe[\"model\"] == \"penalized_logreg\"):\n",
    "    model = LogisticRegression(penalty=\"l2\", C=0.1) #, solver=\"newton-cg\", max_iter=1)\n",
    "elif (universe[\"model\"] == \"rf\"):\n",
    "    model = RandomForestClassifier() # n_estimators=100, n_jobs=-1\n",
    "elif (universe[\"model\"] == \"gbm\"):\n",
    "    model = GradientBoostingClassifier()\n",
    "elif (universe[\"model\"] == \"elasticnet\"):\n",
    "    model = LogisticRegression(penalty = 'elasticnet', solver = 'saga', l1_ratio = 0.5) # max_iter=5000\n",
    "else:\n",
    "    raise \"Unsupported universe.model\""
   ]
  },
  {
   "cell_type": "code",
   "execution_count": 33,
   "id": "a4b5cd25",
   "metadata": {
    "execution": {
     "iopub.execute_input": "2025-08-19T18:00:35.618460Z",
     "iopub.status.busy": "2025-08-19T18:00:35.618128Z",
     "iopub.status.idle": "2025-08-19T18:00:35.623928Z",
     "shell.execute_reply": "2025-08-19T18:00:35.623190Z"
    },
    "papermill": {
     "duration": 0.025605,
     "end_time": "2025-08-19T18:00:35.626633",
     "exception": false,
     "start_time": "2025-08-19T18:00:35.601028",
     "status": "completed"
    },
    "tags": []
   },
   "outputs": [],
   "source": [
    "from sklearn.pipeline import Pipeline\n",
    "from sklearn.preprocessing import StandardScaler\n",
    "\n",
    "model = Pipeline([\n",
    "    #(\"continuous_processor\", continuous_processor),\n",
    "    #(\"categorical_preprocessor\", categorical_preprocessor),\n",
    "    (\"scale\", StandardScaler() if universe[\"scale\"] == \"scale\" else None), \n",
    "    (\"model\", model),\n",
    "])"
   ]
  },
  {
   "cell_type": "code",
   "execution_count": 34,
   "id": "283a904d",
   "metadata": {
    "execution": {
     "iopub.execute_input": "2025-08-19T18:00:35.664572Z",
     "iopub.status.busy": "2025-08-19T18:00:35.663355Z",
     "iopub.status.idle": "2025-08-19T18:00:44.127631Z",
     "shell.execute_reply": "2025-08-19T18:00:44.126678Z"
    },
    "papermill": {
     "duration": 8.478471,
     "end_time": "2025-08-19T18:00:44.129085",
     "exception": false,
     "start_time": "2025-08-19T18:00:35.650614",
     "status": "completed"
    },
    "tags": []
   },
   "outputs": [
    {
     "data": {
      "text/html": [
       "<style>#sk-container-id-1 {color: black;background-color: white;}#sk-container-id-1 pre{padding: 0;}#sk-container-id-1 div.sk-toggleable {background-color: white;}#sk-container-id-1 label.sk-toggleable__label {cursor: pointer;display: block;width: 100%;margin-bottom: 0;padding: 0.3em;box-sizing: border-box;text-align: center;}#sk-container-id-1 label.sk-toggleable__label-arrow:before {content: \"▸\";float: left;margin-right: 0.25em;color: #696969;}#sk-container-id-1 label.sk-toggleable__label-arrow:hover:before {color: black;}#sk-container-id-1 div.sk-estimator:hover label.sk-toggleable__label-arrow:before {color: black;}#sk-container-id-1 div.sk-toggleable__content {max-height: 0;max-width: 0;overflow: hidden;text-align: left;background-color: #f0f8ff;}#sk-container-id-1 div.sk-toggleable__content pre {margin: 0.2em;color: black;border-radius: 0.25em;background-color: #f0f8ff;}#sk-container-id-1 input.sk-toggleable__control:checked~div.sk-toggleable__content {max-height: 200px;max-width: 100%;overflow: auto;}#sk-container-id-1 input.sk-toggleable__control:checked~label.sk-toggleable__label-arrow:before {content: \"▾\";}#sk-container-id-1 div.sk-estimator input.sk-toggleable__control:checked~label.sk-toggleable__label {background-color: #d4ebff;}#sk-container-id-1 div.sk-label input.sk-toggleable__control:checked~label.sk-toggleable__label {background-color: #d4ebff;}#sk-container-id-1 input.sk-hidden--visually {border: 0;clip: rect(1px 1px 1px 1px);clip: rect(1px, 1px, 1px, 1px);height: 1px;margin: -1px;overflow: hidden;padding: 0;position: absolute;width: 1px;}#sk-container-id-1 div.sk-estimator {font-family: monospace;background-color: #f0f8ff;border: 1px dotted black;border-radius: 0.25em;box-sizing: border-box;margin-bottom: 0.5em;}#sk-container-id-1 div.sk-estimator:hover {background-color: #d4ebff;}#sk-container-id-1 div.sk-parallel-item::after {content: \"\";width: 100%;border-bottom: 1px solid gray;flex-grow: 1;}#sk-container-id-1 div.sk-label:hover label.sk-toggleable__label {background-color: #d4ebff;}#sk-container-id-1 div.sk-serial::before {content: \"\";position: absolute;border-left: 1px solid gray;box-sizing: border-box;top: 0;bottom: 0;left: 50%;z-index: 0;}#sk-container-id-1 div.sk-serial {display: flex;flex-direction: column;align-items: center;background-color: white;padding-right: 0.2em;padding-left: 0.2em;position: relative;}#sk-container-id-1 div.sk-item {position: relative;z-index: 1;}#sk-container-id-1 div.sk-parallel {display: flex;align-items: stretch;justify-content: center;background-color: white;position: relative;}#sk-container-id-1 div.sk-item::before, #sk-container-id-1 div.sk-parallel-item::before {content: \"\";position: absolute;border-left: 1px solid gray;box-sizing: border-box;top: 0;bottom: 0;left: 50%;z-index: -1;}#sk-container-id-1 div.sk-parallel-item {display: flex;flex-direction: column;z-index: 1;position: relative;background-color: white;}#sk-container-id-1 div.sk-parallel-item:first-child::after {align-self: flex-end;width: 50%;}#sk-container-id-1 div.sk-parallel-item:last-child::after {align-self: flex-start;width: 50%;}#sk-container-id-1 div.sk-parallel-item:only-child::after {width: 0;}#sk-container-id-1 div.sk-dashed-wrapped {border: 1px dashed gray;margin: 0 0.4em 0.5em 0.4em;box-sizing: border-box;padding-bottom: 0.4em;background-color: white;}#sk-container-id-1 div.sk-label label {font-family: monospace;font-weight: bold;display: inline-block;line-height: 1.2em;}#sk-container-id-1 div.sk-label-container {text-align: center;}#sk-container-id-1 div.sk-container {/* jupyter's `normalize.less` sets `[hidden] { display: none; }` but bootstrap.min.css set `[hidden] { display: none !important; }` so we also need the `!important` here to be able to override the default hidden behavior on the sphinx rendered scikit-learn.org. See: https://github.com/scikit-learn/scikit-learn/issues/21755 */display: inline-block !important;position: relative;}#sk-container-id-1 div.sk-text-repr-fallback {display: none;}</style><div id=\"sk-container-id-1\" class=\"sk-top-container\"><div class=\"sk-text-repr-fallback\"><pre>Pipeline(steps=[(&#x27;scale&#x27;, None), (&#x27;model&#x27;, RandomForestClassifier())])</pre><b>In a Jupyter environment, please rerun this cell to show the HTML representation or trust the notebook. <br />On GitHub, the HTML representation is unable to render, please try loading this page with nbviewer.org.</b></div><div class=\"sk-container\" hidden><div class=\"sk-item sk-dashed-wrapped\"><div class=\"sk-label-container\"><div class=\"sk-label sk-toggleable\"><input class=\"sk-toggleable__control sk-hidden--visually\" id=\"sk-estimator-id-1\" type=\"checkbox\" ><label for=\"sk-estimator-id-1\" class=\"sk-toggleable__label sk-toggleable__label-arrow\">Pipeline</label><div class=\"sk-toggleable__content\"><pre>Pipeline(steps=[(&#x27;scale&#x27;, None), (&#x27;model&#x27;, RandomForestClassifier())])</pre></div></div></div><div class=\"sk-serial\"><div class=\"sk-item\"><div class=\"sk-estimator sk-toggleable\"><input class=\"sk-toggleable__control sk-hidden--visually\" id=\"sk-estimator-id-2\" type=\"checkbox\" ><label for=\"sk-estimator-id-2\" class=\"sk-toggleable__label sk-toggleable__label-arrow\">None</label><div class=\"sk-toggleable__content\"><pre>None</pre></div></div></div><div class=\"sk-item\"><div class=\"sk-estimator sk-toggleable\"><input class=\"sk-toggleable__control sk-hidden--visually\" id=\"sk-estimator-id-3\" type=\"checkbox\" ><label for=\"sk-estimator-id-3\" class=\"sk-toggleable__label sk-toggleable__label-arrow\">RandomForestClassifier</label><div class=\"sk-toggleable__content\"><pre>RandomForestClassifier()</pre></div></div></div></div></div></div></div>"
      ],
      "text/plain": [
       "Pipeline(steps=[('scale', None), ('model', RandomForestClassifier())])"
      ]
     },
     "execution_count": 34,
     "metadata": {},
     "output_type": "execute_result"
    }
   ],
   "source": [
    "model.fit(X_train, y_train.values.ravel())"
   ]
  },
  {
   "cell_type": "code",
   "execution_count": 35,
   "id": "6e15e313",
   "metadata": {
    "execution": {
     "iopub.execute_input": "2025-08-19T18:00:44.156765Z",
     "iopub.status.busy": "2025-08-19T18:00:44.155890Z",
     "iopub.status.idle": "2025-08-19T18:00:46.979133Z",
     "shell.execute_reply": "2025-08-19T18:00:46.978142Z"
    },
    "papermill": {
     "duration": 2.837631,
     "end_time": "2025-08-19T18:00:46.980436",
     "exception": false,
     "start_time": "2025-08-19T18:00:44.142805",
     "status": "completed"
    },
    "tags": []
   },
   "outputs": [
    {
     "data": {
      "text/plain": [
       "0.8677182030988742"
      ]
     },
     "execution_count": 35,
     "metadata": {},
     "output_type": "execute_result"
    }
   ],
   "source": [
    "from fairness_multiverse.universe import predict_w_threshold\n",
    "\n",
    "probs_test = model.predict_proba(X_test)\n",
    "\n",
    "'''\n",
    "Below code returns a boolean array (or binary 0/1 array depending on how it’s used) where each element \n",
    "is True if the probability of class 1 is greater than or equal to the threshold, and False otherwise.\n",
    "'''\n",
    "y_pred_default = predict_w_threshold(probs_test, 0.5)\n",
    "\n",
    "from sklearn.metrics import accuracy_score\n",
    "\n",
    "# Naive prediction\n",
    "accuracy_score(y_true = y_true, y_pred = y_pred_default)"
   ]
  },
  {
   "cell_type": "code",
   "execution_count": 36,
   "id": "6f14067c",
   "metadata": {
    "execution": {
     "iopub.execute_input": "2025-08-19T18:00:47.004785Z",
     "iopub.status.busy": "2025-08-19T18:00:47.004216Z",
     "iopub.status.idle": "2025-08-19T18:00:49.678337Z",
     "shell.execute_reply": "2025-08-19T18:00:49.677264Z"
    },
    "papermill": {
     "duration": 2.687893,
     "end_time": "2025-08-19T18:00:49.679777",
     "exception": false,
     "start_time": "2025-08-19T18:00:46.991884",
     "status": "completed"
    },
    "tags": []
   },
   "outputs": [
    {
     "data": {
      "text/plain": [
       "array([0, 0, 0, ..., 0, 0, 0])"
      ]
     },
     "execution_count": 36,
     "metadata": {},
     "output_type": "execute_result"
    }
   ],
   "source": [
    "model.predict(X_test)"
   ]
  },
  {
   "cell_type": "markdown",
   "id": "3759920c",
   "metadata": {
    "papermill": {
     "duration": 0.011032,
     "end_time": "2025-08-19T18:00:49.704545",
     "exception": false,
     "start_time": "2025-08-19T18:00:49.693513",
     "status": "completed"
    },
    "tags": []
   },
   "source": [
    "# Conformal Prediction"
   ]
  },
  {
   "cell_type": "code",
   "execution_count": 37,
   "id": "14b27f59",
   "metadata": {
    "execution": {
     "iopub.execute_input": "2025-08-19T18:00:49.728152Z",
     "iopub.status.busy": "2025-08-19T18:00:49.727799Z",
     "iopub.status.idle": "2025-08-19T18:00:49.732940Z",
     "shell.execute_reply": "2025-08-19T18:00:49.732199Z"
    },
    "papermill": {
     "duration": 0.018741,
     "end_time": "2025-08-19T18:00:49.734246",
     "exception": false,
     "start_time": "2025-08-19T18:00:49.715505",
     "status": "completed"
    },
    "tags": []
   },
   "outputs": [],
   "source": [
    "# Miscoverage level for conformal prediction (10% allowed error rate => 90% target coverage)\n",
    "alpha = 0.1"
   ]
  },
  {
   "cell_type": "code",
   "execution_count": 38,
   "id": "59102472",
   "metadata": {
    "execution": {
     "iopub.execute_input": "2025-08-19T18:00:49.758359Z",
     "iopub.status.busy": "2025-08-19T18:00:49.757816Z",
     "iopub.status.idle": "2025-08-19T18:00:52.145226Z",
     "shell.execute_reply": "2025-08-19T18:00:52.143868Z"
    },
    "papermill": {
     "duration": 2.401057,
     "end_time": "2025-08-19T18:00:52.146881",
     "exception": false,
     "start_time": "2025-08-19T18:00:49.745824",
     "status": "completed"
    },
    "tags": []
   },
   "outputs": [],
   "source": [
    "probs_calib = model.predict_proba(X_calib)"
   ]
  },
  {
   "cell_type": "code",
   "execution_count": 39,
   "id": "a792d4dd",
   "metadata": {
    "execution": {
     "iopub.execute_input": "2025-08-19T18:00:52.179166Z",
     "iopub.status.busy": "2025-08-19T18:00:52.178600Z",
     "iopub.status.idle": "2025-08-19T18:00:52.184759Z",
     "shell.execute_reply": "2025-08-19T18:00:52.183987Z"
    },
    "papermill": {
     "duration": 0.026919,
     "end_time": "2025-08-19T18:00:52.188059",
     "exception": false,
     "start_time": "2025-08-19T18:00:52.161140",
     "status": "completed"
    },
    "tags": []
   },
   "outputs": [],
   "source": [
    "y_calib = y_calib.values.ravel().astype(int)"
   ]
  },
  {
   "cell_type": "code",
   "execution_count": 40,
   "id": "650fd033",
   "metadata": {
    "execution": {
     "iopub.execute_input": "2025-08-19T18:00:52.229743Z",
     "iopub.status.busy": "2025-08-19T18:00:52.228530Z",
     "iopub.status.idle": "2025-08-19T18:00:52.242540Z",
     "shell.execute_reply": "2025-08-19T18:00:52.241471Z"
    },
    "papermill": {
     "duration": 0.029933,
     "end_time": "2025-08-19T18:00:52.244401",
     "exception": false,
     "start_time": "2025-08-19T18:00:52.214468",
     "status": "completed"
    },
    "tags": []
   },
   "outputs": [],
   "source": [
    "from fairness_multiverse.conformal import compute_nc_scores\n",
    "\n",
    "# Compute nonconformity scores on calibration set (1 - probability of true class)\n",
    "nc_scores = compute_nc_scores(probs_calib, y_calib)"
   ]
  },
  {
   "cell_type": "code",
   "execution_count": 41,
   "id": "28ada44c",
   "metadata": {
    "execution": {
     "iopub.execute_input": "2025-08-19T18:00:52.272220Z",
     "iopub.status.busy": "2025-08-19T18:00:52.271576Z",
     "iopub.status.idle": "2025-08-19T18:00:52.278378Z",
     "shell.execute_reply": "2025-08-19T18:00:52.277710Z"
    },
    "papermill": {
     "duration": 0.021234,
     "end_time": "2025-08-19T18:00:52.279693",
     "exception": false,
     "start_time": "2025-08-19T18:00:52.258459",
     "status": "completed"
    },
    "tags": []
   },
   "outputs": [],
   "source": [
    "from fairness_multiverse.conformal import find_threshold\n",
    "\n",
    "# Find conformal threshold q_hat for the given alpha (split conformal method)\n",
    "q_hat = find_threshold(nc_scores, alpha)"
   ]
  },
  {
   "cell_type": "code",
   "execution_count": 42,
   "id": "df56469e",
   "metadata": {
    "execution": {
     "iopub.execute_input": "2025-08-19T18:00:52.306534Z",
     "iopub.status.busy": "2025-08-19T18:00:52.305480Z",
     "iopub.status.idle": "2025-08-19T18:00:52.315299Z",
     "shell.execute_reply": "2025-08-19T18:00:52.313962Z"
    },
    "papermill": {
     "duration": 0.023942,
     "end_time": "2025-08-19T18:00:52.317111",
     "exception": false,
     "start_time": "2025-08-19T18:00:52.293169",
     "status": "completed"
    },
    "tags": []
   },
   "outputs": [
    {
     "data": {
      "text/plain": [
       "0.6699999999999999"
      ]
     },
     "execution_count": 42,
     "metadata": {},
     "output_type": "execute_result"
    }
   ],
   "source": [
    "q_hat"
   ]
  },
  {
   "cell_type": "code",
   "execution_count": 43,
   "id": "aa1f5faa",
   "metadata": {
    "execution": {
     "iopub.execute_input": "2025-08-19T18:00:52.344334Z",
     "iopub.status.busy": "2025-08-19T18:00:52.343104Z",
     "iopub.status.idle": "2025-08-19T18:00:55.336185Z",
     "shell.execute_reply": "2025-08-19T18:00:55.335337Z"
    },
    "papermill": {
     "duration": 3.007862,
     "end_time": "2025-08-19T18:00:55.337885",
     "exception": false,
     "start_time": "2025-08-19T18:00:52.330023",
     "status": "completed"
    },
    "tags": []
   },
   "outputs": [],
   "source": [
    "from fairness_multiverse.conformal import predict_conformal_sets\n",
    "\n",
    "# Generate prediction sets for each test example\n",
    "pred_sets = predict_conformal_sets(model, X_test, q_hat)"
   ]
  },
  {
   "cell_type": "code",
   "execution_count": 44,
   "id": "97f67a6b",
   "metadata": {
    "execution": {
     "iopub.execute_input": "2025-08-19T18:00:55.388938Z",
     "iopub.status.busy": "2025-08-19T18:00:55.387183Z",
     "iopub.status.idle": "2025-08-19T18:00:55.397820Z",
     "shell.execute_reply": "2025-08-19T18:00:55.396222Z"
    },
    "papermill": {
     "duration": 0.038767,
     "end_time": "2025-08-19T18:00:55.399688",
     "exception": false,
     "start_time": "2025-08-19T18:00:55.360921",
     "status": "completed"
    },
    "tags": []
   },
   "outputs": [],
   "source": [
    "y_true = y_true.squeeze()"
   ]
  },
  {
   "cell_type": "code",
   "execution_count": 45,
   "id": "e700e9a7",
   "metadata": {
    "execution": {
     "iopub.execute_input": "2025-08-19T18:00:55.433257Z",
     "iopub.status.busy": "2025-08-19T18:00:55.432137Z",
     "iopub.status.idle": "2025-08-19T18:00:55.935500Z",
     "shell.execute_reply": "2025-08-19T18:00:55.934361Z"
    },
    "papermill": {
     "duration": 0.520655,
     "end_time": "2025-08-19T18:00:55.938407",
     "exception": false,
     "start_time": "2025-08-19T18:00:55.417752",
     "status": "completed"
    },
    "tags": []
   },
   "outputs": [],
   "source": [
    "from fairness_multiverse.conformal import evaluate_sets\n",
    "\n",
    "# Evaluate coverage and average set size on test data\n",
    "metrics = evaluate_sets(pred_sets, y_true)"
   ]
  },
  {
   "cell_type": "markdown",
   "id": "efbacec0",
   "metadata": {
    "papermill": {
     "duration": 0.013118,
     "end_time": "2025-08-19T18:00:55.977806",
     "exception": false,
     "start_time": "2025-08-19T18:00:55.964688",
     "status": "completed"
    },
    "tags": []
   },
   "source": [
    "# CP Metrics"
   ]
  },
  {
   "cell_type": "code",
   "execution_count": 46,
   "id": "9de55fb1",
   "metadata": {
    "execution": {
     "iopub.execute_input": "2025-08-19T18:00:56.004652Z",
     "iopub.status.busy": "2025-08-19T18:00:56.003347Z",
     "iopub.status.idle": "2025-08-19T18:00:56.017489Z",
     "shell.execute_reply": "2025-08-19T18:00:56.015769Z"
    },
    "papermill": {
     "duration": 0.029876,
     "end_time": "2025-08-19T18:00:56.019060",
     "exception": false,
     "start_time": "2025-08-19T18:00:55.989184",
     "status": "completed"
    },
    "tags": []
   },
   "outputs": [
    {
     "data": {
      "text/plain": [
       "{'coverage': 0.9150039014602609, 'avg_size': 1.1443428826217812}"
      ]
     },
     "execution_count": 46,
     "metadata": {},
     "output_type": "execute_result"
    }
   ],
   "source": [
    "metrics"
   ]
  },
  {
   "cell_type": "code",
   "execution_count": 47,
   "id": "64c340a1",
   "metadata": {
    "execution": {
     "iopub.execute_input": "2025-08-19T18:00:56.052267Z",
     "iopub.status.busy": "2025-08-19T18:00:56.051156Z",
     "iopub.status.idle": "2025-08-19T18:00:56.061482Z",
     "shell.execute_reply": "2025-08-19T18:00:56.060112Z"
    },
    "papermill": {
     "duration": 0.026005,
     "end_time": "2025-08-19T18:00:56.062943",
     "exception": false,
     "start_time": "2025-08-19T18:00:56.036938",
     "status": "completed"
    },
    "tags": []
   },
   "outputs": [],
   "source": [
    "example_universe = universe.copy()\n",
    "universe_training_year = example_universe.get(\"training_year\")\n",
    "universe_training_size = example_universe.get(\"training_size\")\n",
    "universe_scale = example_universe.get(\"scale\")\n",
    "universe_model = example_universe.get(\"model\")\n",
    "universe_exclude_features = example_universe.get(\"exclude_features\")\n",
    "universe_exclude_subgroups = example_universe.get(\"exclude_subgroups\")"
   ]
  },
  {
   "cell_type": "code",
   "execution_count": 48,
   "id": "dbb53cb4",
   "metadata": {
    "execution": {
     "iopub.execute_input": "2025-08-19T18:00:56.091697Z",
     "iopub.status.busy": "2025-08-19T18:00:56.090618Z",
     "iopub.status.idle": "2025-08-19T18:00:56.100966Z",
     "shell.execute_reply": "2025-08-19T18:00:56.099696Z"
    },
    "papermill": {
     "duration": 0.02504,
     "end_time": "2025-08-19T18:00:56.102189",
     "exception": false,
     "start_time": "2025-08-19T18:00:56.077149",
     "status": "completed"
    },
    "tags": []
   },
   "outputs": [],
   "source": [
    "cp_metrics_dict = {\n",
    "    \"universe_id\": [universe_id],\n",
    "    \"universe_training_year\": [universe_training_year],\n",
    "    \"universe_training_size\": [universe_training_size],\n",
    "    \"universe_scale\": [universe_scale],\n",
    "    \"universe_model\": [universe_model],\n",
    "    \"universe_exclude_features\": [universe_exclude_features],\n",
    "    \"universe_exclude_subgroups\": [universe_exclude_subgroups],\n",
    "    \"q_hat\": [q_hat],\n",
    "    \"coverage\": [metrics[\"coverage\"]],\n",
    "    \"avg_size\": [metrics[\"avg_size\"]],\n",
    "}"
   ]
  },
  {
   "cell_type": "code",
   "execution_count": 49,
   "id": "0d70d4b2",
   "metadata": {
    "execution": {
     "iopub.execute_input": "2025-08-19T18:00:56.131101Z",
     "iopub.status.busy": "2025-08-19T18:00:56.130075Z",
     "iopub.status.idle": "2025-08-19T18:00:56.141342Z",
     "shell.execute_reply": "2025-08-19T18:00:56.140193Z"
    },
    "papermill": {
     "duration": 0.025646,
     "end_time": "2025-08-19T18:00:56.142607",
     "exception": false,
     "start_time": "2025-08-19T18:00:56.116961",
     "status": "completed"
    },
    "tags": []
   },
   "outputs": [],
   "source": [
    "cp_metrics_df = pd.DataFrame(cp_metrics_dict)"
   ]
  },
  {
   "cell_type": "code",
   "execution_count": 50,
   "id": "b494403c",
   "metadata": {
    "execution": {
     "iopub.execute_input": "2025-08-19T18:00:56.171607Z",
     "iopub.status.busy": "2025-08-19T18:00:56.170524Z",
     "iopub.status.idle": "2025-08-19T18:00:56.192834Z",
     "shell.execute_reply": "2025-08-19T18:00:56.192025Z"
    },
    "papermill": {
     "duration": 0.037023,
     "end_time": "2025-08-19T18:00:56.194348",
     "exception": false,
     "start_time": "2025-08-19T18:00:56.157325",
     "status": "completed"
    },
    "tags": []
   },
   "outputs": [
    {
     "data": {
      "text/html": [
       "<div>\n",
       "<style scoped>\n",
       "    .dataframe tbody tr th:only-of-type {\n",
       "        vertical-align: middle;\n",
       "    }\n",
       "\n",
       "    .dataframe tbody tr th {\n",
       "        vertical-align: top;\n",
       "    }\n",
       "\n",
       "    .dataframe thead th {\n",
       "        text-align: right;\n",
       "    }\n",
       "</style>\n",
       "<table border=\"1\" class=\"dataframe\">\n",
       "  <thead>\n",
       "    <tr style=\"text-align: right;\">\n",
       "      <th></th>\n",
       "      <th>universe_id</th>\n",
       "      <th>universe_training_year</th>\n",
       "      <th>universe_training_size</th>\n",
       "      <th>universe_scale</th>\n",
       "      <th>universe_model</th>\n",
       "      <th>universe_exclude_features</th>\n",
       "      <th>universe_exclude_subgroups</th>\n",
       "      <th>q_hat</th>\n",
       "      <th>coverage</th>\n",
       "      <th>avg_size</th>\n",
       "    </tr>\n",
       "  </thead>\n",
       "  <tbody>\n",
       "    <tr>\n",
       "      <th>0</th>\n",
       "      <td>5d97f67b3d9e412cb72594226c854b4f</td>\n",
       "      <td>2014</td>\n",
       "      <td>25k</td>\n",
       "      <td>do-not-scale</td>\n",
       "      <td>rf</td>\n",
       "      <td>age</td>\n",
       "      <td>keep-all</td>\n",
       "      <td>0.67</td>\n",
       "      <td>0.915004</td>\n",
       "      <td>1.144343</td>\n",
       "    </tr>\n",
       "  </tbody>\n",
       "</table>\n",
       "</div>"
      ],
      "text/plain": [
       "                        universe_id universe_training_year  \\\n",
       "0  5d97f67b3d9e412cb72594226c854b4f                   2014   \n",
       "\n",
       "  universe_training_size universe_scale universe_model  \\\n",
       "0                    25k   do-not-scale             rf   \n",
       "\n",
       "  universe_exclude_features universe_exclude_subgroups  q_hat  coverage  \\\n",
       "0                       age                   keep-all   0.67  0.915004   \n",
       "\n",
       "   avg_size  \n",
       "0  1.144343  "
      ]
     },
     "execution_count": 50,
     "metadata": {},
     "output_type": "execute_result"
    }
   ],
   "source": [
    "cp_metrics_df"
   ]
  },
  {
   "cell_type": "markdown",
   "id": "ed608b0b",
   "metadata": {
    "papermill": {
     "duration": 0.011656,
     "end_time": "2025-08-19T18:00:56.224620",
     "exception": false,
     "start_time": "2025-08-19T18:00:56.212964",
     "status": "completed"
    },
    "tags": []
   },
   "source": [
    "Conditional coverage & looking at subgroups"
   ]
  },
  {
   "cell_type": "code",
   "execution_count": 51,
   "id": "8968c366",
   "metadata": {
    "execution": {
     "iopub.execute_input": "2025-08-19T18:00:56.250806Z",
     "iopub.status.busy": "2025-08-19T18:00:56.249720Z",
     "iopub.status.idle": "2025-08-19T18:00:56.520014Z",
     "shell.execute_reply": "2025-08-19T18:00:56.519298Z"
    },
    "papermill": {
     "duration": 0.286712,
     "end_time": "2025-08-19T18:00:56.522881",
     "exception": false,
     "start_time": "2025-08-19T18:00:56.236169",
     "status": "completed"
    },
    "tags": []
   },
   "outputs": [],
   "source": [
    "from fairness_multiverse.conformal import build_cp_groups\n",
    "\n",
    "cp_groups_df = build_cp_groups(pred_sets, y_true, X_test.index, org_test)"
   ]
  },
  {
   "cell_type": "code",
   "execution_count": 52,
   "id": "292ddabf",
   "metadata": {
    "execution": {
     "iopub.execute_input": "2025-08-19T18:00:56.566780Z",
     "iopub.status.busy": "2025-08-19T18:00:56.565709Z",
     "iopub.status.idle": "2025-08-19T18:00:57.416491Z",
     "shell.execute_reply": "2025-08-19T18:00:57.415787Z"
    },
    "papermill": {
     "duration": 0.869112,
     "end_time": "2025-08-19T18:00:57.419295",
     "exception": false,
     "start_time": "2025-08-19T18:00:56.550183",
     "status": "completed"
    },
    "tags": []
   },
   "outputs": [],
   "source": [
    "# Define covered = 1 if true_label is in the predicted set\n",
    "cp_groups_df['covered'] = cp_groups_df.apply(\n",
    "    lambda r: int(r['true_label'] in r['pred_set']),\n",
    "    axis=1\n",
    ")"
   ]
  },
  {
   "cell_type": "code",
   "execution_count": 53,
   "id": "3a261692",
   "metadata": {
    "execution": {
     "iopub.execute_input": "2025-08-19T18:00:57.464090Z",
     "iopub.status.busy": "2025-08-19T18:00:57.462936Z",
     "iopub.status.idle": "2025-08-19T18:00:57.483713Z",
     "shell.execute_reply": "2025-08-19T18:00:57.482484Z"
    },
    "papermill": {
     "duration": 0.038112,
     "end_time": "2025-08-19T18:00:57.485176",
     "exception": false,
     "start_time": "2025-08-19T18:00:57.447064",
     "status": "completed"
    },
    "tags": []
   },
   "outputs": [],
   "source": [
    "subgroups = ['frau1','nongerman','nongerman_male','nongerman_female']\n",
    "\n",
    "# Conditional coverage for subgroup==1\n",
    "cond_coverage = {\n",
    "    g: cp_groups_df.loc[cp_groups_df[g]==1, 'covered'].mean()\n",
    "    for g in subgroups\n",
    "}"
   ]
  },
  {
   "cell_type": "code",
   "execution_count": 54,
   "id": "894fd600",
   "metadata": {
    "execution": {
     "iopub.execute_input": "2025-08-19T18:00:57.519080Z",
     "iopub.status.busy": "2025-08-19T18:00:57.518023Z",
     "iopub.status.idle": "2025-08-19T18:00:57.529734Z",
     "shell.execute_reply": "2025-08-19T18:00:57.528011Z"
    },
    "papermill": {
     "duration": 0.027512,
     "end_time": "2025-08-19T18:00:57.531340",
     "exception": false,
     "start_time": "2025-08-19T18:00:57.503828",
     "status": "completed"
    },
    "tags": []
   },
   "outputs": [
    {
     "data": {
      "text/plain": [
       "{'frau1': 0.9146515702924922,\n",
       " 'nongerman': 0.9129287598944591,\n",
       " 'nongerman_male': 0.9264162838872377,\n",
       " 'nongerman_female': 0.8906110283159463}"
      ]
     },
     "execution_count": 54,
     "metadata": {},
     "output_type": "execute_result"
    }
   ],
   "source": [
    "cond_coverage"
   ]
  },
  {
   "cell_type": "code",
   "execution_count": 55,
   "id": "942895c7",
   "metadata": {
    "execution": {
     "iopub.execute_input": "2025-08-19T18:00:57.563539Z",
     "iopub.status.busy": "2025-08-19T18:00:57.562462Z",
     "iopub.status.idle": "2025-08-19T18:00:57.581315Z",
     "shell.execute_reply": "2025-08-19T18:00:57.579331Z"
    },
    "papermill": {
     "duration": 0.03434,
     "end_time": "2025-08-19T18:00:57.582899",
     "exception": false,
     "start_time": "2025-08-19T18:00:57.548559",
     "status": "completed"
    },
    "tags": []
   },
   "outputs": [],
   "source": [
    "for subgroup, cov in cond_coverage.items():\n",
    "    cp_metrics_df[f\"cov_{subgroup}\"] = cov"
   ]
  },
  {
   "cell_type": "code",
   "execution_count": 56,
   "id": "3970120f",
   "metadata": {
    "execution": {
     "iopub.execute_input": "2025-08-19T18:00:57.615022Z",
     "iopub.status.busy": "2025-08-19T18:00:57.614735Z",
     "iopub.status.idle": "2025-08-19T18:00:57.629093Z",
     "shell.execute_reply": "2025-08-19T18:00:57.628366Z"
    },
    "papermill": {
     "duration": 0.029587,
     "end_time": "2025-08-19T18:00:57.630828",
     "exception": false,
     "start_time": "2025-08-19T18:00:57.601241",
     "status": "completed"
    },
    "tags": []
   },
   "outputs": [
    {
     "data": {
      "text/html": [
       "<div>\n",
       "<style scoped>\n",
       "    .dataframe tbody tr th:only-of-type {\n",
       "        vertical-align: middle;\n",
       "    }\n",
       "\n",
       "    .dataframe tbody tr th {\n",
       "        vertical-align: top;\n",
       "    }\n",
       "\n",
       "    .dataframe thead th {\n",
       "        text-align: right;\n",
       "    }\n",
       "</style>\n",
       "<table border=\"1\" class=\"dataframe\">\n",
       "  <thead>\n",
       "    <tr style=\"text-align: right;\">\n",
       "      <th></th>\n",
       "      <th>universe_id</th>\n",
       "      <th>universe_training_year</th>\n",
       "      <th>universe_training_size</th>\n",
       "      <th>universe_scale</th>\n",
       "      <th>universe_model</th>\n",
       "      <th>universe_exclude_features</th>\n",
       "      <th>universe_exclude_subgroups</th>\n",
       "      <th>q_hat</th>\n",
       "      <th>coverage</th>\n",
       "      <th>avg_size</th>\n",
       "      <th>cov_frau1</th>\n",
       "      <th>cov_nongerman</th>\n",
       "      <th>cov_nongerman_male</th>\n",
       "      <th>cov_nongerman_female</th>\n",
       "    </tr>\n",
       "  </thead>\n",
       "  <tbody>\n",
       "    <tr>\n",
       "      <th>0</th>\n",
       "      <td>5d97f67b3d9e412cb72594226c854b4f</td>\n",
       "      <td>2014</td>\n",
       "      <td>25k</td>\n",
       "      <td>do-not-scale</td>\n",
       "      <td>rf</td>\n",
       "      <td>age</td>\n",
       "      <td>keep-all</td>\n",
       "      <td>0.67</td>\n",
       "      <td>0.915004</td>\n",
       "      <td>1.144343</td>\n",
       "      <td>0.914652</td>\n",
       "      <td>0.912929</td>\n",
       "      <td>0.926416</td>\n",
       "      <td>0.890611</td>\n",
       "    </tr>\n",
       "  </tbody>\n",
       "</table>\n",
       "</div>"
      ],
      "text/plain": [
       "                        universe_id universe_training_year  \\\n",
       "0  5d97f67b3d9e412cb72594226c854b4f                   2014   \n",
       "\n",
       "  universe_training_size universe_scale universe_model  \\\n",
       "0                    25k   do-not-scale             rf   \n",
       "\n",
       "  universe_exclude_features universe_exclude_subgroups  q_hat  coverage  \\\n",
       "0                       age                   keep-all   0.67  0.915004   \n",
       "\n",
       "   avg_size  cov_frau1  cov_nongerman  cov_nongerman_male  \\\n",
       "0  1.144343   0.914652       0.912929            0.926416   \n",
       "\n",
       "   cov_nongerman_female  \n",
       "0              0.890611  "
      ]
     },
     "execution_count": 56,
     "metadata": {},
     "output_type": "execute_result"
    }
   ],
   "source": [
    "cp_metrics_df"
   ]
  },
  {
   "cell_type": "markdown",
   "id": "3fc519cc",
   "metadata": {
    "papermill": {
     "duration": 0.012462,
     "end_time": "2025-08-19T18:00:57.658128",
     "exception": false,
     "start_time": "2025-08-19T18:00:57.645666",
     "status": "completed"
    },
    "tags": []
   },
   "source": [
    "# (Fairness) Metrics"
   ]
  },
  {
   "cell_type": "code",
   "execution_count": 57,
   "id": "a2e5e155",
   "metadata": {
    "execution": {
     "iopub.execute_input": "2025-08-19T18:00:57.686037Z",
     "iopub.status.busy": "2025-08-19T18:00:57.684903Z",
     "iopub.status.idle": "2025-08-19T18:00:57.712438Z",
     "shell.execute_reply": "2025-08-19T18:00:57.711576Z"
    },
    "papermill": {
     "duration": 0.043621,
     "end_time": "2025-08-19T18:00:57.714045",
     "exception": false,
     "start_time": "2025-08-19T18:00:57.670424",
     "status": "completed"
    },
    "tags": []
   },
   "outputs": [],
   "source": [
    "colname_to_bin = \"maxdeutsch1\"\n",
    "majority_value = org_train[colname_to_bin].mode()[0]\n",
    "\n",
    "org_test[\"majmin\"] = np.where(org_test[colname_to_bin] == majority_value, \"majority\", \"minority\")"
   ]
  },
  {
   "cell_type": "code",
   "execution_count": 58,
   "id": "17e3e4d5",
   "metadata": {
    "execution": {
     "iopub.execute_input": "2025-08-19T18:00:57.764231Z",
     "iopub.status.busy": "2025-08-19T18:00:57.763093Z",
     "iopub.status.idle": "2025-08-19T18:00:59.514495Z",
     "shell.execute_reply": "2025-08-19T18:00:59.513225Z"
    },
    "papermill": {
     "duration": 1.779593,
     "end_time": "2025-08-19T18:00:59.516415",
     "exception": false,
     "start_time": "2025-08-19T18:00:57.736822",
     "status": "completed"
    },
    "tags": []
   },
   "outputs": [],
   "source": [
    "example_universe = universe.copy()\n",
    "example_universe[\"cutoff\"] = example_universe[\"cutoff\"][0]\n",
    "example_universe[\"eval_fairness_grouping\"] = example_universe[\"eval_fairness_grouping\"][0]\n",
    "fairness_dict, metric_frame = universe_analysis.compute_metrics(\n",
    "    example_universe,\n",
    "    y_pred_prob=probs_test,\n",
    "    y_test=y_true,\n",
    "    org_test=org_test,\n",
    ")"
   ]
  },
  {
   "cell_type": "markdown",
   "id": "1fb7a0e9",
   "metadata": {
    "papermill": {
     "duration": 0.028206,
     "end_time": "2025-08-19T18:00:59.573747",
     "exception": false,
     "start_time": "2025-08-19T18:00:59.545541",
     "status": "completed"
    },
    "tags": []
   },
   "source": [
    "# Overall"
   ]
  },
  {
   "cell_type": "markdown",
   "id": "be1784b1",
   "metadata": {
    "papermill": {
     "duration": 0.012093,
     "end_time": "2025-08-19T18:00:59.600164",
     "exception": false,
     "start_time": "2025-08-19T18:00:59.588071",
     "status": "completed"
    },
    "tags": []
   },
   "source": [
    "Main fairness target: Equalized Odds. Seems to be a better fit than equal opportunity, since we're not only interested in Y = 1. Seems to be a better fit than demographic parity, since we also care about accuracy, not just equal distribution of preds.\n",
    "\n",
    "Pick column for computation of fairness metrics\n",
    "\n",
    "Performance\n",
    "Overall performance measures, most interesting in relation to the measures split by group below"
   ]
  },
  {
   "cell_type": "code",
   "execution_count": 59,
   "id": "b7672bee",
   "metadata": {
    "execution": {
     "iopub.execute_input": "2025-08-19T18:00:59.628277Z",
     "iopub.status.busy": "2025-08-19T18:00:59.626702Z",
     "iopub.status.idle": "2025-08-19T18:00:59.642415Z",
     "shell.execute_reply": "2025-08-19T18:00:59.641274Z"
    },
    "papermill": {
     "duration": 0.031627,
     "end_time": "2025-08-19T18:00:59.643844",
     "exception": false,
     "start_time": "2025-08-19T18:00:59.612217",
     "status": "completed"
    },
    "tags": []
   },
   "outputs": [
    {
     "data": {
      "text/plain": [
       "accuracy                   0.196333\n",
       "balanced accuracy          0.532327\n",
       "f1                         0.239090\n",
       "precision                  0.136072\n",
       "false positive rate        0.919618\n",
       "false negative rate        0.015728\n",
       "selection rate             0.927912\n",
       "count                  89710.000000\n",
       "dtype: float64"
      ]
     },
     "execution_count": 59,
     "metadata": {},
     "output_type": "execute_result"
    }
   ],
   "source": [
    "metric_frame.overall"
   ]
  },
  {
   "cell_type": "markdown",
   "id": "d93333c9",
   "metadata": {
    "papermill": {
     "duration": 0.012295,
     "end_time": "2025-08-19T18:00:59.670919",
     "exception": false,
     "start_time": "2025-08-19T18:00:59.658624",
     "status": "completed"
    },
    "tags": []
   },
   "source": [
    "By Group"
   ]
  },
  {
   "cell_type": "code",
   "execution_count": 60,
   "id": "52256966",
   "metadata": {
    "execution": {
     "iopub.execute_input": "2025-08-19T18:00:59.698013Z",
     "iopub.status.busy": "2025-08-19T18:00:59.697050Z",
     "iopub.status.idle": "2025-08-19T18:00:59.719731Z",
     "shell.execute_reply": "2025-08-19T18:00:59.718912Z"
    },
    "papermill": {
     "duration": 0.037945,
     "end_time": "2025-08-19T18:00:59.721095",
     "exception": false,
     "start_time": "2025-08-19T18:00:59.683150",
     "status": "completed"
    },
    "tags": []
   },
   "outputs": [
    {
     "data": {
      "text/html": [
       "<div>\n",
       "<style scoped>\n",
       "    .dataframe tbody tr th:only-of-type {\n",
       "        vertical-align: middle;\n",
       "    }\n",
       "\n",
       "    .dataframe tbody tr th {\n",
       "        vertical-align: top;\n",
       "    }\n",
       "\n",
       "    .dataframe thead th {\n",
       "        text-align: right;\n",
       "    }\n",
       "</style>\n",
       "<table border=\"1\" class=\"dataframe\">\n",
       "  <thead>\n",
       "    <tr style=\"text-align: right;\">\n",
       "      <th></th>\n",
       "      <th>accuracy</th>\n",
       "      <th>balanced accuracy</th>\n",
       "      <th>f1</th>\n",
       "      <th>precision</th>\n",
       "      <th>false positive rate</th>\n",
       "      <th>false negative rate</th>\n",
       "      <th>selection rate</th>\n",
       "      <th>count</th>\n",
       "    </tr>\n",
       "    <tr>\n",
       "      <th>majmin</th>\n",
       "      <th></th>\n",
       "      <th></th>\n",
       "      <th></th>\n",
       "      <th></th>\n",
       "      <th></th>\n",
       "      <th></th>\n",
       "      <th></th>\n",
       "      <th></th>\n",
       "    </tr>\n",
       "  </thead>\n",
       "  <tbody>\n",
       "    <tr>\n",
       "      <th>majority</th>\n",
       "      <td>0.193292</td>\n",
       "      <td>0.531151</td>\n",
       "      <td>0.244966</td>\n",
       "      <td>0.139769</td>\n",
       "      <td>0.928069</td>\n",
       "      <td>0.009628</td>\n",
       "      <td>0.936302</td>\n",
       "      <td>69170.0</td>\n",
       "    </tr>\n",
       "    <tr>\n",
       "      <th>minority</th>\n",
       "      <td>0.206573</td>\n",
       "      <td>0.534512</td>\n",
       "      <td>0.218257</td>\n",
       "      <td>0.123113</td>\n",
       "      <td>0.891702</td>\n",
       "      <td>0.039274</td>\n",
       "      <td>0.899659</td>\n",
       "      <td>20540.0</td>\n",
       "    </tr>\n",
       "  </tbody>\n",
       "</table>\n",
       "</div>"
      ],
      "text/plain": [
       "          accuracy  balanced accuracy        f1  precision  \\\n",
       "majmin                                                       \n",
       "majority  0.193292           0.531151  0.244966   0.139769   \n",
       "minority  0.206573           0.534512  0.218257   0.123113   \n",
       "\n",
       "          false positive rate  false negative rate  selection rate    count  \n",
       "majmin                                                                       \n",
       "majority             0.928069             0.009628        0.936302  69170.0  \n",
       "minority             0.891702             0.039274        0.899659  20540.0  "
      ]
     },
     "execution_count": 60,
     "metadata": {},
     "output_type": "execute_result"
    }
   ],
   "source": [
    "metric_frame.by_group"
   ]
  },
  {
   "cell_type": "code",
   "execution_count": 61,
   "id": "6e6c20ae",
   "metadata": {
    "execution": {
     "iopub.execute_input": "2025-08-19T18:00:59.755723Z",
     "iopub.status.busy": "2025-08-19T18:00:59.754714Z",
     "iopub.status.idle": "2025-08-19T18:01:01.615022Z",
     "shell.execute_reply": "2025-08-19T18:01:01.614173Z"
    },
    "papermill": {
     "duration": 1.875747,
     "end_time": "2025-08-19T18:01:01.616211",
     "exception": false,
     "start_time": "2025-08-19T18:00:59.740464",
     "status": "completed"
    },
    "tags": []
   },
   "outputs": [
    {
     "data": {
      "text/plain": [
       "array([[<Axes: title={'center': 'accuracy'}, xlabel='majmin'>,\n",
       "        <Axes: title={'center': 'balanced accuracy'}, xlabel='majmin'>,\n",
       "        <Axes: title={'center': 'f1'}, xlabel='majmin'>],\n",
       "       [<Axes: title={'center': 'precision'}, xlabel='majmin'>,\n",
       "        <Axes: title={'center': 'false positive rate'}, xlabel='majmin'>,\n",
       "        <Axes: title={'center': 'false negative rate'}, xlabel='majmin'>],\n",
       "       [<Axes: title={'center': 'selection rate'}, xlabel='majmin'>,\n",
       "        <Axes: title={'center': 'count'}, xlabel='majmin'>,\n",
       "        <Axes: xlabel='majmin'>]], dtype=object)"
      ]
     },
     "execution_count": 61,
     "metadata": {},
     "output_type": "execute_result"
    },
    {
     "data": {
      "image/png": "[encoded data removed]",
      "text/plain": [
       "<Figure size 1200x800 with 9 Axes>"
      ]
     },
     "metadata": {},
     "output_type": "display_data"
    }
   ],
   "source": [
    "# In a graphic\n",
    "metric_frame.by_group.plot.bar(\n",
    "    subplots=True,\n",
    "    layout=[3, 3],\n",
    "    legend=False,\n",
    "    figsize=[12, 8],\n",
    "    title=\"Show all metrics\",\n",
    ")"
   ]
  },
  {
   "cell_type": "markdown",
   "id": "b2e433ae",
   "metadata": {
    "papermill": {
     "duration": 0.026219,
     "end_time": "2025-08-19T18:01:01.663712",
     "exception": false,
     "start_time": "2025-08-19T18:01:01.637493",
     "status": "completed"
    },
    "tags": []
   },
   "source": [
    "# Final Output"
   ]
  },
  {
   "cell_type": "code",
   "execution_count": 62,
   "id": "3871301e",
   "metadata": {
    "execution": {
     "iopub.execute_input": "2025-08-19T18:01:01.696040Z",
     "iopub.status.busy": "2025-08-19T18:01:01.693880Z",
     "iopub.status.idle": "2025-08-19T18:01:01.713224Z",
     "shell.execute_reply": "2025-08-19T18:01:01.712112Z"
    },
    "papermill": {
     "duration": 0.037252,
     "end_time": "2025-08-19T18:01:01.715026",
     "exception": false,
     "start_time": "2025-08-19T18:01:01.677774",
     "status": "completed"
    },
    "tags": []
   },
   "outputs": [
    {
     "data": {
      "text/plain": [
       "4"
      ]
     },
     "execution_count": 62,
     "metadata": {},
     "output_type": "execute_result"
    }
   ],
   "source": [
    "sub_universes = universe_analysis.generate_sub_universes()\n",
    "len(sub_universes)"
   ]
  },
  {
   "cell_type": "code",
   "execution_count": 63,
   "id": "d9cfdaca",
   "metadata": {
    "execution": {
     "iopub.execute_input": "2025-08-19T18:01:01.753674Z",
     "iopub.status.busy": "2025-08-19T18:01:01.752265Z",
     "iopub.status.idle": "2025-08-19T18:01:01.762293Z",
     "shell.execute_reply": "2025-08-19T18:01:01.760686Z"
    },
    "papermill": {
     "duration": 0.027702,
     "end_time": "2025-08-19T18:01:01.764029",
     "exception": false,
     "start_time": "2025-08-19T18:01:01.736327",
     "status": "completed"
    },
    "tags": []
   },
   "outputs": [],
   "source": [
    "def filter_sub_universe_data(sub_universe, org_test):\n",
    "    # Keep all rows — no filtering\n",
    "    keep_rows_mask = np.ones(org_test.shape[0], dtype=bool)\n",
    "\n",
    "    print(f\"[INFO] Keeping all rows: {keep_rows_mask.sum()} rows retained.\")\n",
    "    return keep_rows_mask"
   ]
  },
  {
   "cell_type": "code",
   "execution_count": 64,
   "id": "2bc31ac1",
   "metadata": {
    "execution": {
     "iopub.execute_input": "2025-08-19T18:01:01.797487Z",
     "iopub.status.busy": "2025-08-19T18:01:01.796590Z",
     "iopub.status.idle": "2025-08-19T18:01:08.578031Z",
     "shell.execute_reply": "2025-08-19T18:01:08.577023Z"
    },
    "papermill": {
     "duration": 6.798172,
     "end_time": "2025-08-19T18:01:08.579245",
     "exception": false,
     "start_time": "2025-08-19T18:01:01.781073",
     "status": "completed"
    },
    "tags": []
   },
   "outputs": [
    {
     "name": "stdout",
     "output_type": "stream",
     "text": [
      "Stopping execution_time clock.\n",
      "[INFO] Keeping all rows: 89710 rows retained.\n"
     ]
    },
    {
     "name": "stdout",
     "output_type": "stream",
     "text": [
      "[INFO] Keeping all rows: 89710 rows retained.\n"
     ]
    },
    {
     "name": "stdout",
     "output_type": "stream",
     "text": [
      "[INFO] Keeping all rows: 89710 rows retained.\n"
     ]
    },
    {
     "name": "stdout",
     "output_type": "stream",
     "text": [
      "[INFO] Keeping all rows: 89710 rows retained.\n"
     ]
    },
    {
     "data": {
      "text/html": [
       "<div>\n",
       "<style scoped>\n",
       "    .dataframe tbody tr th:only-of-type {\n",
       "        vertical-align: middle;\n",
       "    }\n",
       "\n",
       "    .dataframe tbody tr th {\n",
       "        vertical-align: top;\n",
       "    }\n",
       "\n",
       "    .dataframe thead th {\n",
       "        text-align: right;\n",
       "    }\n",
       "</style>\n",
       "<table border=\"1\" class=\"dataframe\">\n",
       "  <thead>\n",
       "    <tr style=\"text-align: right;\">\n",
       "      <th></th>\n",
       "      <th>run_no</th>\n",
       "      <th>universe_id</th>\n",
       "      <th>universe_settings</th>\n",
       "      <th>execution_time</th>\n",
       "      <th>test_size_n</th>\n",
       "      <th>test_size_frac</th>\n",
       "      <th>fair_main_equalized_odds_difference</th>\n",
       "      <th>fair_main_equalized_odds_ratio</th>\n",
       "      <th>fair_main_demographic_parity_difference</th>\n",
       "      <th>fair_main_demographic_parity_ratio</th>\n",
       "      <th>...</th>\n",
       "      <th>perf_grp_precision_0</th>\n",
       "      <th>perf_grp_precision_1</th>\n",
       "      <th>perf_grp_false positive rate_0</th>\n",
       "      <th>perf_grp_false positive rate_1</th>\n",
       "      <th>perf_grp_false negative rate_0</th>\n",
       "      <th>perf_grp_false negative rate_1</th>\n",
       "      <th>perf_grp_selection rate_0</th>\n",
       "      <th>perf_grp_selection rate_1</th>\n",
       "      <th>perf_grp_count_0</th>\n",
       "      <th>perf_grp_count_1</th>\n",
       "    </tr>\n",
       "  </thead>\n",
       "  <tbody>\n",
       "    <tr>\n",
       "      <th>0</th>\n",
       "      <td>3</td>\n",
       "      <td>5d97f67b3d9e412cb72594226c854b4f</td>\n",
       "      <td>{\"cutoff\": \"quantile_0.1\", \"eval_fairness_grou...</td>\n",
       "      <td>38.652451</td>\n",
       "      <td>89710</td>\n",
       "      <td>1.0</td>\n",
       "      <td>0.036368</td>\n",
       "      <td>0.960814</td>\n",
       "      <td>0.036643</td>\n",
       "      <td>0.960864</td>\n",
       "      <td>...</td>\n",
       "      <td>NaN</td>\n",
       "      <td>NaN</td>\n",
       "      <td>NaN</td>\n",
       "      <td>NaN</td>\n",
       "      <td>NaN</td>\n",
       "      <td>NaN</td>\n",
       "      <td>NaN</td>\n",
       "      <td>NaN</td>\n",
       "      <td>NaN</td>\n",
       "      <td>NaN</td>\n",
       "    </tr>\n",
       "    <tr>\n",
       "      <th>0</th>\n",
       "      <td>3</td>\n",
       "      <td>5d97f67b3d9e412cb72594226c854b4f</td>\n",
       "      <td>{\"cutoff\": \"quantile_0.1\", \"eval_fairness_grou...</td>\n",
       "      <td>38.652451</td>\n",
       "      <td>89710</td>\n",
       "      <td>1.0</td>\n",
       "      <td>0.036368</td>\n",
       "      <td>0.960814</td>\n",
       "      <td>0.036643</td>\n",
       "      <td>0.960864</td>\n",
       "      <td>...</td>\n",
       "      <td>0.123113</td>\n",
       "      <td>0.139769</td>\n",
       "      <td>0.891702</td>\n",
       "      <td>0.928069</td>\n",
       "      <td>0.039274</td>\n",
       "      <td>0.009628</td>\n",
       "      <td>0.899659</td>\n",
       "      <td>0.936302</td>\n",
       "      <td>20540.0</td>\n",
       "      <td>69170.0</td>\n",
       "    </tr>\n",
       "    <tr>\n",
       "      <th>0</th>\n",
       "      <td>3</td>\n",
       "      <td>5d97f67b3d9e412cb72594226c854b4f</td>\n",
       "      <td>{\"cutoff\": \"quantile_0.25\", \"eval_fairness_gro...</td>\n",
       "      <td>38.652451</td>\n",
       "      <td>89710</td>\n",
       "      <td>1.0</td>\n",
       "      <td>0.056415</td>\n",
       "      <td>0.940983</td>\n",
       "      <td>0.027578</td>\n",
       "      <td>0.964510</td>\n",
       "      <td>...</td>\n",
       "      <td>NaN</td>\n",
       "      <td>NaN</td>\n",
       "      <td>NaN</td>\n",
       "      <td>NaN</td>\n",
       "      <td>NaN</td>\n",
       "      <td>NaN</td>\n",
       "      <td>NaN</td>\n",
       "      <td>NaN</td>\n",
       "      <td>NaN</td>\n",
       "      <td>NaN</td>\n",
       "    </tr>\n",
       "    <tr>\n",
       "      <th>0</th>\n",
       "      <td>3</td>\n",
       "      <td>5d97f67b3d9e412cb72594226c854b4f</td>\n",
       "      <td>{\"cutoff\": \"quantile_0.25\", \"eval_fairness_gro...</td>\n",
       "      <td>38.652451</td>\n",
       "      <td>89710</td>\n",
       "      <td>1.0</td>\n",
       "      <td>0.056415</td>\n",
       "      <td>0.940983</td>\n",
       "      <td>0.027578</td>\n",
       "      <td>0.964510</td>\n",
       "      <td>...</td>\n",
       "      <td>0.138366</td>\n",
       "      <td>0.162555</td>\n",
       "      <td>0.729914</td>\n",
       "      <td>0.749808</td>\n",
       "      <td>0.100507</td>\n",
       "      <td>0.044092</td>\n",
       "      <td>0.749464</td>\n",
       "      <td>0.777042</td>\n",
       "      <td>20540.0</td>\n",
       "      <td>69170.0</td>\n",
       "    </tr>\n",
       "  </tbody>\n",
       "</table>\n",
       "<p>4 rows × 50 columns</p>\n",
       "</div>"
      ],
      "text/plain": [
       "  run_no                       universe_id  \\\n",
       "0      3  5d97f67b3d9e412cb72594226c854b4f   \n",
       "0      3  5d97f67b3d9e412cb72594226c854b4f   \n",
       "0      3  5d97f67b3d9e412cb72594226c854b4f   \n",
       "0      3  5d97f67b3d9e412cb72594226c854b4f   \n",
       "\n",
       "                                   universe_settings  execution_time  \\\n",
       "0  {\"cutoff\": \"quantile_0.1\", \"eval_fairness_grou...       38.652451   \n",
       "0  {\"cutoff\": \"quantile_0.1\", \"eval_fairness_grou...       38.652451   \n",
       "0  {\"cutoff\": \"quantile_0.25\", \"eval_fairness_gro...       38.652451   \n",
       "0  {\"cutoff\": \"quantile_0.25\", \"eval_fairness_gro...       38.652451   \n",
       "\n",
       "   test_size_n  test_size_frac  fair_main_equalized_odds_difference  \\\n",
       "0        89710             1.0                             0.036368   \n",
       "0        89710             1.0                             0.036368   \n",
       "0        89710             1.0                             0.056415   \n",
       "0        89710             1.0                             0.056415   \n",
       "\n",
       "   fair_main_equalized_odds_ratio  fair_main_demographic_parity_difference  \\\n",
       "0                        0.960814                                 0.036643   \n",
       "0                        0.960814                                 0.036643   \n",
       "0                        0.940983                                 0.027578   \n",
       "0                        0.940983                                 0.027578   \n",
       "\n",
       "   fair_main_demographic_parity_ratio  ...  perf_grp_precision_0  \\\n",
       "0                            0.960864  ...                   NaN   \n",
       "0                            0.960864  ...              0.123113   \n",
       "0                            0.964510  ...                   NaN   \n",
       "0                            0.964510  ...              0.138366   \n",
       "\n",
       "   perf_grp_precision_1  perf_grp_false positive rate_0  \\\n",
       "0                   NaN                             NaN   \n",
       "0              0.139769                        0.891702   \n",
       "0                   NaN                             NaN   \n",
       "0              0.162555                        0.729914   \n",
       "\n",
       "   perf_grp_false positive rate_1  perf_grp_false negative rate_0  \\\n",
       "0                             NaN                             NaN   \n",
       "0                        0.928069                        0.039274   \n",
       "0                             NaN                             NaN   \n",
       "0                        0.749808                        0.100507   \n",
       "\n",
       "   perf_grp_false negative rate_1  perf_grp_selection rate_0  \\\n",
       "0                             NaN                        NaN   \n",
       "0                        0.009628                   0.899659   \n",
       "0                             NaN                        NaN   \n",
       "0                        0.044092                   0.749464   \n",
       "\n",
       "   perf_grp_selection rate_1  perf_grp_count_0  perf_grp_count_1  \n",
       "0                        NaN               NaN               NaN  \n",
       "0                   0.936302           20540.0           69170.0  \n",
       "0                        NaN               NaN               NaN  \n",
       "0                   0.777042           20540.0           69170.0  \n",
       "\n",
       "[4 rows x 50 columns]"
      ]
     },
     "execution_count": 64,
     "metadata": {},
     "output_type": "execute_result"
    }
   ],
   "source": [
    "final_output = universe_analysis.generate_final_output(\n",
    "    y_pred_prob=probs_test,\n",
    "    y_test=y_true,\n",
    "    org_test=org_test,\n",
    "    filter_data=filter_sub_universe_data,\n",
    "    cp_metrics_df=cp_metrics_df,\n",
    "    save=True,\n",
    ")\n",
    "final_output"
   ]
  },
  {
   "cell_type": "code",
   "execution_count": null,
   "id": "8b80a1ff",
   "metadata": {
    "papermill": {
     "duration": 0.014218,
     "end_time": "2025-08-19T18:01:08.611690",
     "exception": false,
     "start_time": "2025-08-19T18:01:08.597472",
     "status": "completed"
    },
    "tags": []
   },
   "outputs": [],
   "source": []
  },
  {
   "cell_type": "code",
   "execution_count": null,
   "id": "275c9fad",
   "metadata": {
    "papermill": {
     "duration": 0.014008,
     "end_time": "2025-08-19T18:01:08.640012",
     "exception": false,
     "start_time": "2025-08-19T18:01:08.626004",
     "status": "completed"
    },
    "tags": []
   },
   "outputs": [],
   "source": []
  }
 ],
 "metadata": {
  "celltoolbar": "Tags",
  "kernelspec": {
   "display_name": "Python (CMA Fairness)",
   "language": "python",
   "name": "cma_fair_env"
  },
  "language_info": {
   "codemirror_mode": {
    "name": "ipython",
    "version": 3
   },
   "file_extension": ".py",
   "mimetype": "text/x-python",
   "name": "python",
   "nbconvert_exporter": "python",
   "pygments_lexer": "ipython3",
   "version": "3.10.12"
  },
  "papermill": {
   "default_parameters": {},
   "duration": 49.212046,
   "end_time": "2025-08-19T18:01:09.488026",
   "environment_variables": {},
   "exception": null,
   "input_path": "universe_analysis.ipynb",
   "output_path": "output/runs/3/notebooks/m_3-5d97f67b3d9e412cb72594226c854b4f.ipynb",
   "parameters": {
    "output_dir": "output",
    "run_no": "3",
    "seed": "2023",
    "universe": "{\"cutoff\": [\"quantile_0.1\", \"quantile_0.25\"], \"eval_fairness_grouping\": [\"majority-minority\", \"nationality-all\"], \"exclude_features\": \"age\", \"exclude_subgroups\": \"keep-all\", \"model\": \"rf\", \"scale\": \"do-not-scale\", \"training_size\": \"25k\", \"training_year\": \"2014\"}",
    "universe_id": "5d97f67b3d9e412cb72594226c854b4f"
   },
   "start_time": "2025-08-19T18:00:20.275980",
   "version": "2.6.0"
  }
 },
 "nbformat": 4,
 "nbformat_minor": 5
}