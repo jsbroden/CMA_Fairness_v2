{
 "cells": [
  {
   "cell_type": "code",
   "execution_count": 1,
   "id": "f159f837-637b-42ba-96b5-ec9a68c44524",
   "metadata": {
    "execution": {
     "iopub.execute_input": "2025-07-22T09:15:29.333766Z",
     "iopub.status.busy": "2025-07-22T09:15:29.333019Z",
     "iopub.status.idle": "2025-07-22T09:15:29.347874Z",
     "shell.execute_reply": "2025-07-22T09:15:29.346814Z"
    },
    "papermill": {
     "duration": 0.034103,
     "end_time": "2025-07-22T09:15:29.349822",
     "exception": false,
     "start_time": "2025-07-22T09:15:29.315719",
     "status": "completed"
    },
    "tags": []
   },
   "outputs": [
    {
     "name": "stdout",
     "output_type": "stream",
     "text": [
      "/dss/dsshome1/0C/ra93lal2/cma/CMA_Fairness_v2\n"
     ]
    },
    {
     "name": "stderr",
     "output_type": "stream",
     "text": [
      "/dss/dsshome1/0C/ra93lal2/.local/share/virtualenvs/CMA_Fairness_v2-3j10GkSs/lib/python3.10/site-packages/IPython/core/magics/osm.py:393: UserWarning: This is now an optional IPython functionality, using bookmarks requires you to install the `pickleshare` library.\n",
      "  bkms = self.shell.db.get('bookmarks', {})\n",
      "/dss/dsshome1/0C/ra93lal2/.local/share/virtualenvs/CMA_Fairness_v2-3j10GkSs/lib/python3.10/site-packages/IPython/core/magics/osm.py:417: UserWarning: This is now an optional IPython functionality, setting dhist requires you to install the `pickleshare` library.\n",
      "  self.shell.db['dhist'] = compress_dhist(dhist)[-100:]\n"
     ]
    }
   ],
   "source": [
    "%cd ~/cma/CMA_Fairness_v2"
   ]
  },
  {
   "cell_type": "markdown",
   "id": "de2603b9",
   "metadata": {
    "papermill": {
     "duration": 0.016836,
     "end_time": "2025-07-22T09:15:29.384208",
     "exception": false,
     "start_time": "2025-07-22T09:15:29.367372",
     "status": "completed"
    },
    "tags": []
   },
   "source": [
    "The following cell holds the definition of our parameters, these values can be overriden by rendering the with e.g. the following command:\n",
    "\n",
    "papermill -p alpha 0.2 -p ratio 0.3 universe_analysis.ipynb output/test_run.ipynb"
   ]
  },
  {
   "cell_type": "code",
   "execution_count": 2,
   "id": "a80968a0-40bb-4fa9-85ef-2d5eefb01975",
   "metadata": {
    "execution": {
     "iopub.execute_input": "2025-07-22T09:15:29.418983Z",
     "iopub.status.busy": "2025-07-22T09:15:29.418350Z",
     "iopub.status.idle": "2025-07-22T09:15:29.424019Z",
     "shell.execute_reply": "2025-07-22T09:15:29.422992Z"
    },
    "papermill": {
     "duration": 0.025622,
     "end_time": "2025-07-22T09:15:29.426351",
     "exception": false,
     "start_time": "2025-07-22T09:15:29.400729",
     "status": "completed"
    },
    "tags": []
   },
   "outputs": [
    {
     "name": "stdout",
     "output_type": "stream",
     "text": [
      "Current working directory: /dss/dsshome1/0C/ra93lal2/cma/CMA_Fairness_v2\n"
     ]
    }
   ],
   "source": [
    "import os\n",
    "print(\"Current working directory:\", os.getcwd())"
   ]
  },
  {
   "cell_type": "code",
   "execution_count": 3,
   "id": "2dce4c03",
   "metadata": {
    "execution": {
     "iopub.execute_input": "2025-07-22T09:15:29.463299Z",
     "iopub.status.busy": "2025-07-22T09:15:29.462698Z",
     "iopub.status.idle": "2025-07-22T09:15:29.468831Z",
     "shell.execute_reply": "2025-07-22T09:15:29.467779Z"
    },
    "papermill": {
     "duration": 0.026401,
     "end_time": "2025-07-22T09:15:29.470598",
     "exception": false,
     "start_time": "2025-07-22T09:15:29.444197",
     "status": "completed"
    },
    "tags": [
     "parameters"
    ]
   },
   "outputs": [],
   "source": [
    "run_no = 0\n",
    "universe_id = \"test\"\n",
    "universe = {\n",
    "    #\"scale\": \"scale\", # \"scale\", \"do-not-scale\",\n",
    "    #\"encode_categorical\": \"one-hot\", # \"ordinal\", \"one-hot\"\n",
    "    \"model\": \"elasticnet\", # \"logreg\", \"penalized_logreg\", \"rf\", \"gbm\", \"elasticnet\"\n",
    "    \"cutoff\": [\"quantile_0.15\", \"quantile_0.30\"],\n",
    "    \"exclude_features\": \"nationality-sex\", # \"none\", \"nationality\", \"sex\", \"nationality-sex\"\n",
    "    \"exclude_subgroups\": \"keep-all\", # \"keep-all\", \"drop-non-german\"\n",
    "    \"eval_fairness_grouping\": [\"majority-minority\", \"nationality-all\"]\n",
    "}\n",
    "\n",
    "output_dir=\"./output\"\n",
    "seed=0"
   ]
  },
  {
   "cell_type": "code",
   "execution_count": 4,
   "id": "c25067d4",
   "metadata": {
    "execution": {
     "iopub.execute_input": "2025-07-22T09:15:29.507203Z",
     "iopub.status.busy": "2025-07-22T09:15:29.506287Z",
     "iopub.status.idle": "2025-07-22T09:15:29.511518Z",
     "shell.execute_reply": "2025-07-22T09:15:29.510575Z"
    },
    "papermill": {
     "duration": 0.024977,
     "end_time": "2025-07-22T09:15:29.513322",
     "exception": false,
     "start_time": "2025-07-22T09:15:29.488345",
     "status": "completed"
    },
    "tags": [
     "injected-parameters"
    ]
   },
   "outputs": [],
   "source": [
    "# Parameters\n",
    "universe_id = \"5aba2455e97ad4a95af70f85f554e8a5\"\n",
    "run_no = \"3\"\n",
    "universe = \"{\\\"cutoff\\\": [\\\"quantile_0.1\\\", \\\"quantile_0.25\\\"], \\\"eval_fairness_grouping\\\": [\\\"majority-minority\\\", \\\"nationality-all\\\"], \\\"exclude_features\\\": \\\"sex\\\", \\\"exclude_subgroups\\\": \\\"keep-all\\\", \\\"model\\\": \\\"elasticnet\\\", \\\"scale\\\": \\\"scale\\\"}\"\n",
    "output_dir = \"output\"\n",
    "seed = \"2023\"\n"
   ]
  },
  {
   "cell_type": "code",
   "execution_count": 5,
   "id": "1650acaf",
   "metadata": {
    "execution": {
     "iopub.execute_input": "2025-07-22T09:15:29.549471Z",
     "iopub.status.busy": "2025-07-22T09:15:29.549009Z",
     "iopub.status.idle": "2025-07-22T09:15:29.553075Z",
     "shell.execute_reply": "2025-07-22T09:15:29.552268Z"
    },
    "papermill": {
     "duration": 0.02335,
     "end_time": "2025-07-22T09:15:29.554579",
     "exception": false,
     "start_time": "2025-07-22T09:15:29.531229",
     "status": "completed"
    },
    "tags": []
   },
   "outputs": [],
   "source": [
    "import json\n",
    "# Parse universe into dict if it is passed as a string\n",
    "if isinstance(universe, str):\n",
    "    universe = json.loads(universe)"
   ]
  },
  {
   "cell_type": "code",
   "execution_count": 6,
   "id": "16620c48",
   "metadata": {
    "execution": {
     "iopub.execute_input": "2025-07-22T09:15:29.574106Z",
     "iopub.status.busy": "2025-07-22T09:15:29.573635Z",
     "iopub.status.idle": "2025-07-22T09:15:29.602121Z",
     "shell.execute_reply": "2025-07-22T09:15:29.601420Z"
    },
    "papermill": {
     "duration": 0.039302,
     "end_time": "2025-07-22T09:15:29.603508",
     "exception": false,
     "start_time": "2025-07-22T09:15:29.564206",
     "status": "completed"
    },
    "tags": []
   },
   "outputs": [],
   "source": [
    "# Auto-reload the custom package\n",
    "%load_ext autoreload\n",
    "%autoreload 1\n",
    "%aimport fairness_multiverse"
   ]
  },
  {
   "cell_type": "code",
   "execution_count": 7,
   "id": "01c5c9f3",
   "metadata": {
    "execution": {
     "iopub.execute_input": "2025-07-22T09:15:29.621717Z",
     "iopub.status.busy": "2025-07-22T09:15:29.621203Z",
     "iopub.status.idle": "2025-07-22T09:15:31.345626Z",
     "shell.execute_reply": "2025-07-22T09:15:31.344506Z"
    },
    "papermill": {
     "duration": 1.735316,
     "end_time": "2025-07-22T09:15:31.347503",
     "exception": false,
     "start_time": "2025-07-22T09:15:29.612187",
     "status": "completed"
    },
    "tags": []
   },
   "outputs": [],
   "source": [
    "from fairness_multiverse.universe import UniverseAnalysis\n",
    "\n",
    "universe_analysis = UniverseAnalysis(\n",
    "    run_no = run_no,\n",
    "    universe_id = universe_id,\n",
    "    universe = universe,\n",
    "    output_dir=output_dir,\n",
    ")"
   ]
  },
  {
   "cell_type": "code",
   "execution_count": 8,
   "id": "106241f5",
   "metadata": {
    "execution": {
     "iopub.execute_input": "2025-07-22T09:15:31.379875Z",
     "iopub.status.busy": "2025-07-22T09:15:31.379406Z",
     "iopub.status.idle": "2025-07-22T09:15:31.386356Z",
     "shell.execute_reply": "2025-07-22T09:15:31.385458Z"
    },
    "papermill": {
     "duration": 0.025649,
     "end_time": "2025-07-22T09:15:31.388908",
     "exception": false,
     "start_time": "2025-07-22T09:15:31.363259",
     "status": "completed"
    },
    "tags": []
   },
   "outputs": [
    {
     "name": "stdout",
     "output_type": "stream",
     "text": [
      "Using Seed: 2023\n"
     ]
    }
   ],
   "source": [
    "import numpy as np\n",
    "parsed_seed = int(seed)\n",
    "np.random.seed(parsed_seed)\n",
    "print(f\"Using Seed: {parsed_seed}\")"
   ]
  },
  {
   "cell_type": "markdown",
   "id": "e0ebdc57",
   "metadata": {
    "papermill": {
     "duration": 0.015101,
     "end_time": "2025-07-22T09:15:31.420306",
     "exception": false,
     "start_time": "2025-07-22T09:15:31.405205",
     "status": "completed"
    },
    "tags": []
   },
   "source": [
    "# Loading Data"
   ]
  },
  {
   "cell_type": "markdown",
   "id": "681925a3",
   "metadata": {
    "papermill": {
     "duration": 0.015086,
     "end_time": "2025-07-22T09:15:31.450875",
     "exception": false,
     "start_time": "2025-07-22T09:15:31.435789",
     "status": "completed"
    },
    "tags": []
   },
   "source": [
    "Load siab_train, siab_test, siab_calib and/or \n",
    "load siab_train_features, siab_train_labels"
   ]
  },
  {
   "cell_type": "code",
   "execution_count": 9,
   "id": "f0496b8a",
   "metadata": {
    "execution": {
     "iopub.execute_input": "2025-07-22T09:15:31.483404Z",
     "iopub.status.busy": "2025-07-22T09:15:31.482569Z",
     "iopub.status.idle": "2025-07-22T09:15:31.488411Z",
     "shell.execute_reply": "2025-07-22T09:15:31.487437Z"
    },
    "papermill": {
     "duration": 0.023879,
     "end_time": "2025-07-22T09:15:31.490061",
     "exception": false,
     "start_time": "2025-07-22T09:15:31.466182",
     "status": "completed"
    },
    "tags": []
   },
   "outputs": [],
   "source": [
    "# Do I need to load siab? Delete this cell?\n",
    "\n",
    "#from pathlib import Path\n",
    "#import pandas as pd\n",
    "#\n",
    "## File paths\n",
    "#raw_file = Path(\"data/raw/siab.csv\")\n",
    "#cache_file = Path(\"data/siab_cached.csv.gz\")\n",
    "#\n",
    "## Ensure cache directory exists\n",
    "#cache_file.parent.mkdir(parents=True, exist_ok=True)\n",
    "#\n",
    "## Load with simple caching\n",
    "#if cache_file.exists():\n",
    "#    print(f\"Loading SIAB data from cache: {cache_file}\")\n",
    "#    siab = pd.read_csv(cache_file, compression='gzip')\n",
    "#else:\n",
    "#    print(f\"Cache not found. Reading raw SIAB data: {raw_file}\")\n",
    "#    siab = pd.read_csv(raw_file)\n",
    "#    siab.to_csv(cache_file, index=False, compression='gzip')\n",
    "#    print(f\"Cached SIAB data to: {cache_file}\")\n",
    "#\n",
    "## Now use `siab` DataFrame as needed\n",
    "#print(siab.shape)\n"
   ]
  },
  {
   "cell_type": "code",
   "execution_count": 10,
   "id": "a0edb063",
   "metadata": {
    "execution": {
     "iopub.execute_input": "2025-07-22T09:15:31.524907Z",
     "iopub.status.busy": "2025-07-22T09:15:31.524223Z",
     "iopub.status.idle": "2025-07-22T09:15:31.986615Z",
     "shell.execute_reply": "2025-07-22T09:15:31.985887Z"
    },
    "papermill": {
     "duration": 0.48164,
     "end_time": "2025-07-22T09:15:31.988309",
     "exception": false,
     "start_time": "2025-07-22T09:15:31.506669",
     "status": "completed"
    },
    "tags": []
   },
   "outputs": [],
   "source": [
    "import pandas as pd\n",
    "\n",
    "X_train = pd.read_csv(\"./data/X_train.csv\")\n",
    "y_train = pd.read_csv(\"./data/y_train.csv\")"
   ]
  },
  {
   "cell_type": "code",
   "execution_count": 11,
   "id": "63d08085",
   "metadata": {
    "execution": {
     "iopub.execute_input": "2025-07-22T09:15:32.027465Z",
     "iopub.status.busy": "2025-07-22T09:15:32.025919Z",
     "iopub.status.idle": "2025-07-22T09:15:33.340363Z",
     "shell.execute_reply": "2025-07-22T09:15:33.339304Z"
    },
    "papermill": {
     "duration": 1.333642,
     "end_time": "2025-07-22T09:15:33.341819",
     "exception": false,
     "start_time": "2025-07-22T09:15:32.008177",
     "status": "completed"
    },
    "tags": []
   },
   "outputs": [],
   "source": [
    "X_test = pd.read_csv(\"./data/X_test.csv\")\n",
    "y_true = pd.read_csv(\"./data/y_test.csv\")"
   ]
  },
  {
   "cell_type": "code",
   "execution_count": 12,
   "id": "98a8d0fa-1d3d-4ed8-bb2c-281470e24add",
   "metadata": {
    "execution": {
     "iopub.execute_input": "2025-07-22T09:15:33.375535Z",
     "iopub.status.busy": "2025-07-22T09:15:33.374913Z",
     "iopub.status.idle": "2025-07-22T09:15:34.561851Z",
     "shell.execute_reply": "2025-07-22T09:15:34.560983Z"
    },
    "papermill": {
     "duration": 1.206385,
     "end_time": "2025-07-22T09:15:34.563625",
     "exception": false,
     "start_time": "2025-07-22T09:15:33.357240",
     "status": "completed"
    },
    "tags": []
   },
   "outputs": [],
   "source": [
    "# Calibration data for conformal\n",
    "X_calib = pd.read_csv(\"./data/X_calib.csv\")\n",
    "y_calib = pd.read_csv(\"./data/y_calib.csv\")"
   ]
  },
  {
   "cell_type": "code",
   "execution_count": 13,
   "id": "e6c733c5",
   "metadata": {
    "execution": {
     "iopub.execute_input": "2025-07-22T09:15:34.595547Z",
     "iopub.status.busy": "2025-07-22T09:15:34.594935Z",
     "iopub.status.idle": "2025-07-22T09:15:34.665724Z",
     "shell.execute_reply": "2025-07-22T09:15:34.664834Z"
    },
    "papermill": {
     "duration": 0.088367,
     "end_time": "2025-07-22T09:15:34.667508",
     "exception": false,
     "start_time": "2025-07-22T09:15:34.579141",
     "status": "completed"
    },
    "tags": []
   },
   "outputs": [],
   "source": [
    "# Auxiliary data needed downstream in the pipeline\n",
    "\n",
    "org_train = X_train.copy()\n",
    "org_test = X_test.copy()\n",
    "org_calib = X_calib.copy()"
   ]
  },
  {
   "cell_type": "markdown",
   "id": "0a4a1b33",
   "metadata": {
    "papermill": {
     "duration": 0.014942,
     "end_time": "2025-07-22T09:15:34.698283",
     "exception": false,
     "start_time": "2025-07-22T09:15:34.683341",
     "status": "completed"
    },
    "tags": []
   },
   "source": [
    "# Preprocessing Data"
   ]
  },
  {
   "cell_type": "code",
   "execution_count": 14,
   "id": "ca879031",
   "metadata": {
    "execution": {
     "iopub.execute_input": "2025-07-22T09:15:34.730157Z",
     "iopub.status.busy": "2025-07-22T09:15:34.729507Z",
     "iopub.status.idle": "2025-07-22T09:15:34.735185Z",
     "shell.execute_reply": "2025-07-22T09:15:34.734353Z"
    },
    "papermill": {
     "duration": 0.023548,
     "end_time": "2025-07-22T09:15:34.736733",
     "exception": false,
     "start_time": "2025-07-22T09:15:34.713185",
     "status": "completed"
    },
    "tags": []
   },
   "outputs": [],
   "source": [
    "# EXCLUDE PROTECTED FEATURES\n",
    "# ----------------------\n",
    "# \"exclude_features\": \"none\", # \"nationality\", \"sex\", \"nationality-sex\"\n",
    "\n",
    "excluded_features = universe[\"exclude_features\"].split(\"-\") # split, e.g.: \"nationality-sex\" -> [\"nationality\", \"sex\"]\n",
    "excluded_features_dictionary = {\n",
    "    \"nationality\": [\"maxdeutsch1\", \"maxdeutsch.Missing.\"],\n",
    "    \"sex\": [\"frau1\"],\n",
    "}\n"
   ]
  },
  {
   "cell_type": "code",
   "execution_count": 15,
   "id": "b745ac60",
   "metadata": {
    "execution": {
     "iopub.execute_input": "2025-07-22T09:15:34.769529Z",
     "iopub.status.busy": "2025-07-22T09:15:34.768882Z",
     "iopub.status.idle": "2025-07-22T09:15:34.774285Z",
     "shell.execute_reply": "2025-07-22T09:15:34.773397Z"
    },
    "papermill": {
     "duration": 0.02321,
     "end_time": "2025-07-22T09:15:34.775936",
     "exception": false,
     "start_time": "2025-07-22T09:15:34.752726",
     "status": "completed"
    },
    "tags": []
   },
   "outputs": [],
   "source": [
    "# Code nice names to column names\n",
    "\n",
    "excluded_features_columns = [\n",
    "    excluded_features_dictionary[f] for f in excluded_features if len(f) > 0 and f != \"none\"\n",
    "]"
   ]
  },
  {
   "cell_type": "code",
   "execution_count": 16,
   "id": "f84f73a2",
   "metadata": {
    "execution": {
     "iopub.execute_input": "2025-07-22T09:15:34.808856Z",
     "iopub.status.busy": "2025-07-22T09:15:34.808167Z",
     "iopub.status.idle": "2025-07-22T09:15:34.814470Z",
     "shell.execute_reply": "2025-07-22T09:15:34.813522Z"
    },
    "papermill": {
     "duration": 0.024042,
     "end_time": "2025-07-22T09:15:34.816179",
     "exception": false,
     "start_time": "2025-07-22T09:15:34.792137",
     "status": "completed"
    },
    "tags": []
   },
   "outputs": [],
   "source": [
    "from utils import flatten_once\n",
    "\n",
    "excluded_features_columns = flatten_once(excluded_features_columns)"
   ]
  },
  {
   "cell_type": "code",
   "execution_count": 17,
   "id": "884dea22",
   "metadata": {
    "execution": {
     "iopub.execute_input": "2025-07-22T09:15:34.848820Z",
     "iopub.status.busy": "2025-07-22T09:15:34.848174Z",
     "iopub.status.idle": "2025-07-22T09:15:34.869217Z",
     "shell.execute_reply": "2025-07-22T09:15:34.868086Z"
    },
    "papermill": {
     "duration": 0.038763,
     "end_time": "2025-07-22T09:15:34.870940",
     "exception": false,
     "start_time": "2025-07-22T09:15:34.832177",
     "status": "completed"
    },
    "tags": []
   },
   "outputs": [
    {
     "name": "stdout",
     "output_type": "stream",
     "text": [
      "Dropping features: ['frau1']\n"
     ]
    }
   ],
   "source": [
    "if len(excluded_features_columns) > 0:\n",
    "    print(f\"Dropping features: {excluded_features_columns}\")\n",
    "    X_train.drop(excluded_features_columns, axis=1, inplace=True)"
   ]
  },
  {
   "cell_type": "code",
   "execution_count": 18,
   "id": "95ab8b16",
   "metadata": {
    "execution": {
     "iopub.execute_input": "2025-07-22T09:15:34.904494Z",
     "iopub.status.busy": "2025-07-22T09:15:34.903881Z",
     "iopub.status.idle": "2025-07-22T09:15:34.957544Z",
     "shell.execute_reply": "2025-07-22T09:15:34.956353Z"
    },
    "papermill": {
     "duration": 0.072684,
     "end_time": "2025-07-22T09:15:34.960220",
     "exception": false,
     "start_time": "2025-07-22T09:15:34.887536",
     "status": "completed"
    },
    "tags": []
   },
   "outputs": [
    {
     "name": "stdout",
     "output_type": "stream",
     "text": [
      "Dropping features: ['frau1']\n"
     ]
    }
   ],
   "source": [
    "if len(excluded_features_columns) > 0:\n",
    "    print(f\"Dropping features: {excluded_features_columns}\")\n",
    "    X_test.drop(excluded_features_columns, axis=1, inplace=True)"
   ]
  },
  {
   "cell_type": "code",
   "execution_count": 19,
   "id": "1853aaf5-fb9f-46cb-a2b5-8ea4ae2237e4",
   "metadata": {
    "execution": {
     "iopub.execute_input": "2025-07-22T09:15:34.994112Z",
     "iopub.status.busy": "2025-07-22T09:15:34.993727Z",
     "iopub.status.idle": "2025-07-22T09:15:35.042638Z",
     "shell.execute_reply": "2025-07-22T09:15:35.041602Z"
    },
    "papermill": {
     "duration": 0.068714,
     "end_time": "2025-07-22T09:15:35.045410",
     "exception": false,
     "start_time": "2025-07-22T09:15:34.976696",
     "status": "completed"
    },
    "tags": []
   },
   "outputs": [
    {
     "name": "stdout",
     "output_type": "stream",
     "text": [
      "Dropping features: ['frau1']\n"
     ]
    }
   ],
   "source": [
    "if len(excluded_features_columns) > 0:\n",
    "    print(f\"Dropping features: {excluded_features_columns}\")\n",
    "    X_calib.drop(excluded_features_columns, axis=1, inplace=True)"
   ]
  },
  {
   "cell_type": "code",
   "execution_count": 20,
   "id": "76c4dc6d",
   "metadata": {
    "execution": {
     "iopub.execute_input": "2025-07-22T09:15:35.078969Z",
     "iopub.status.busy": "2025-07-22T09:15:35.078346Z",
     "iopub.status.idle": "2025-07-22T09:15:35.083370Z",
     "shell.execute_reply": "2025-07-22T09:15:35.082548Z"
    },
    "papermill": {
     "duration": 0.023295,
     "end_time": "2025-07-22T09:15:35.085187",
     "exception": false,
     "start_time": "2025-07-22T09:15:35.061892",
     "status": "completed"
    },
    "tags": []
   },
   "outputs": [],
   "source": [
    "# EXCLUDE CERTAIN SUBGROUPS\n",
    "# ----------------------\n",
    "\n",
    "mode = universe.get(\"exclude_subgroups\", \"keep-all\") \n",
    "# Fetches the exclude_subgroups setting from the universe dict.\n",
    "# Defaults to \"keep-all\" if the key is missing."
   ]
  },
  {
   "cell_type": "code",
   "execution_count": 21,
   "id": "21994072",
   "metadata": {
    "execution": {
     "iopub.execute_input": "2025-07-22T09:15:35.118743Z",
     "iopub.status.busy": "2025-07-22T09:15:35.118136Z",
     "iopub.status.idle": "2025-07-22T09:15:35.124980Z",
     "shell.execute_reply": "2025-07-22T09:15:35.123987Z"
    },
    "papermill": {
     "duration": 0.025008,
     "end_time": "2025-07-22T09:15:35.126584",
     "exception": false,
     "start_time": "2025-07-22T09:15:35.101576",
     "status": "completed"
    },
    "tags": []
   },
   "outputs": [],
   "source": [
    "if mode == \"keep-all\":\n",
    "    keep_mask = pd.Series(True, index=org_train.index)\n",
    "\n",
    "# org_train contains the original feature columns from features_org (in Simson)\n",
    "# features_org contains unprocessed features, for me X_train at beginning ???\n",
    "# For keep-all, creates a boolean Series (keep_mask) of all True, so no rows are removed.\n",
    "\n",
    "elif mode == \"drop-non-german\":\n",
    "    keep_mask = org_train[\"maxdeutsch1\"] == 1 # ??? what about missing values?\n",
    "\n",
    "else:\n",
    "    raise ValueError(f\"Unsupported mode for exclude_subgroups: {mode}\")\n"
   ]
  },
  {
   "cell_type": "code",
   "execution_count": 22,
   "id": "71651440",
   "metadata": {
    "execution": {
     "iopub.execute_input": "2025-07-22T09:15:35.160675Z",
     "iopub.status.busy": "2025-07-22T09:15:35.160035Z",
     "iopub.status.idle": "2025-07-22T09:15:35.166179Z",
     "shell.execute_reply": "2025-07-22T09:15:35.165304Z"
    },
    "papermill": {
     "duration": 0.024352,
     "end_time": "2025-07-22T09:15:35.167788",
     "exception": false,
     "start_time": "2025-07-22T09:15:35.143436",
     "status": "completed"
    },
    "tags": []
   },
   "outputs": [],
   "source": [
    "n_drop = (~keep_mask).sum() # Calculates how many rows are set to be dropped\n",
    "if n_drop > 0:\n",
    "    pct = n_drop / len(keep_mask) * 100\n",
    "    print(f\"Dropping {n_drop} rows ({pct:.2f}%) where mode='{mode}'\")"
   ]
  },
  {
   "cell_type": "code",
   "execution_count": 23,
   "id": "5fb8eee5",
   "metadata": {
    "execution": {
     "iopub.execute_input": "2025-07-22T09:15:35.201707Z",
     "iopub.status.busy": "2025-07-22T09:15:35.201088Z",
     "iopub.status.idle": "2025-07-22T09:15:35.223477Z",
     "shell.execute_reply": "2025-07-22T09:15:35.222456Z"
    },
    "papermill": {
     "duration": 0.041158,
     "end_time": "2025-07-22T09:15:35.225527",
     "exception": false,
     "start_time": "2025-07-22T09:15:35.184369",
     "status": "completed"
    },
    "tags": []
   },
   "outputs": [],
   "source": [
    "X_train = X_train[keep_mask]"
   ]
  },
  {
   "cell_type": "code",
   "execution_count": 24,
   "id": "b202bb3a",
   "metadata": {
    "execution": {
     "iopub.execute_input": "2025-07-22T09:15:35.261559Z",
     "iopub.status.busy": "2025-07-22T09:15:35.260904Z",
     "iopub.status.idle": "2025-07-22T09:15:35.267344Z",
     "shell.execute_reply": "2025-07-22T09:15:35.266444Z"
    },
    "papermill": {
     "duration": 0.026195,
     "end_time": "2025-07-22T09:15:35.269291",
     "exception": false,
     "start_time": "2025-07-22T09:15:35.243096",
     "status": "completed"
    },
    "tags": []
   },
   "outputs": [],
   "source": [
    "y_train = y_train[keep_mask]"
   ]
  },
  {
   "cell_type": "markdown",
   "id": "493e2ac3",
   "metadata": {
    "papermill": {
     "duration": 0.016768,
     "end_time": "2025-07-22T09:15:35.303593",
     "exception": false,
     "start_time": "2025-07-22T09:15:35.286825",
     "status": "completed"
    },
    "tags": []
   },
   "source": [
    "# Model Training"
   ]
  },
  {
   "cell_type": "code",
   "execution_count": 25,
   "id": "679e1268",
   "metadata": {
    "execution": {
     "iopub.execute_input": "2025-07-22T09:15:35.338716Z",
     "iopub.status.busy": "2025-07-22T09:15:35.338095Z",
     "iopub.status.idle": "2025-07-22T09:15:35.437513Z",
     "shell.execute_reply": "2025-07-22T09:15:35.436624Z"
    },
    "papermill": {
     "duration": 0.118656,
     "end_time": "2025-07-22T09:15:35.439274",
     "exception": false,
     "start_time": "2025-07-22T09:15:35.320618",
     "status": "completed"
    },
    "tags": []
   },
   "outputs": [],
   "source": [
    "from sklearn.linear_model import LogisticRegression\n",
    "from sklearn.ensemble import GradientBoostingClassifier, RandomForestClassifier\n",
    "\n",
    "if (universe[\"model\"] == \"logreg\"):\n",
    "    model = LogisticRegression() #penalty=\"none\") #, solver=\"newton-cg\", max_iter=1) # include random_state=19 ?\n",
    "elif (universe[\"model\"] == \"penalized_logreg\"):\n",
    "    model = LogisticRegression(penalty=\"l2\", C=1.0) #, solver=\"newton-cg\", max_iter=1)\n",
    "elif (universe[\"model\"] == \"rf\"):\n",
    "    model = RandomForestClassifier(n_estimators=100, n_jobs=-1)\n",
    "elif (universe[\"model\"] == \"gbm\"):\n",
    "    model = GradientBoostingClassifier()\n",
    "elif (universe[\"model\"] == \"elasticnet\"):\n",
    "    model = LogisticRegression(penalty = 'elasticnet', solver = 'saga', l1_ratio = 0.5, max_iter=5000) # which solver to use?\n",
    "else:\n",
    "    raise \"Unsupported universe.model\""
   ]
  },
  {
   "cell_type": "code",
   "execution_count": 26,
   "id": "0cc8f744",
   "metadata": {
    "execution": {
     "iopub.execute_input": "2025-07-22T09:15:35.474512Z",
     "iopub.status.busy": "2025-07-22T09:15:35.473884Z",
     "iopub.status.idle": "2025-07-22T09:15:35.480017Z",
     "shell.execute_reply": "2025-07-22T09:15:35.479116Z"
    },
    "papermill": {
     "duration": 0.025503,
     "end_time": "2025-07-22T09:15:35.481782",
     "exception": false,
     "start_time": "2025-07-22T09:15:35.456279",
     "status": "completed"
    },
    "tags": []
   },
   "outputs": [],
   "source": [
    "import numpy as np\n",
    "from sklearn.pipeline import Pipeline\n",
    "from sklearn.preprocessing import StandardScaler\n",
    "\n",
    "model = Pipeline([\n",
    "    #(\"continuous_processor\", continuous_processor),\n",
    "    #(\"categorical_preprocessor\", categorical_preprocessor),\n",
    "    (\"scale\", StandardScaler() if universe[\"scale\"] == \"scale\" else None),\n",
    "    (\"model\", model),\n",
    "])"
   ]
  },
  {
   "cell_type": "code",
   "execution_count": 27,
   "id": "9442c04d",
   "metadata": {
    "execution": {
     "iopub.execute_input": "2025-07-22T09:15:35.517739Z",
     "iopub.status.busy": "2025-07-22T09:15:35.516918Z",
     "iopub.status.idle": "2025-07-22T09:16:01.470272Z",
     "shell.execute_reply": "2025-07-22T09:16:01.469113Z"
    },
    "papermill": {
     "duration": 25.97271,
     "end_time": "2025-07-22T09:16:01.472276",
     "exception": false,
     "start_time": "2025-07-22T09:15:35.499566",
     "status": "completed"
    },
    "tags": []
   },
   "outputs": [
    {
     "data": {
      "text/html": [
       "<style>#sk-container-id-1 {color: black;background-color: white;}#sk-container-id-1 pre{padding: 0;}#sk-container-id-1 div.sk-toggleable {background-color: white;}#sk-container-id-1 label.sk-toggleable__label {cursor: pointer;display: block;width: 100%;margin-bottom: 0;padding: 0.3em;box-sizing: border-box;text-align: center;}#sk-container-id-1 label.sk-toggleable__label-arrow:before {content: \"▸\";float: left;margin-right: 0.25em;color: #696969;}#sk-container-id-1 label.sk-toggleable__label-arrow:hover:before {color: black;}#sk-container-id-1 div.sk-estimator:hover label.sk-toggleable__label-arrow:before {color: black;}#sk-container-id-1 div.sk-toggleable__content {max-height: 0;max-width: 0;overflow: hidden;text-align: left;background-color: #f0f8ff;}#sk-container-id-1 div.sk-toggleable__content pre {margin: 0.2em;color: black;border-radius: 0.25em;background-color: #f0f8ff;}#sk-container-id-1 input.sk-toggleable__control:checked~div.sk-toggleable__content {max-height: 200px;max-width: 100%;overflow: auto;}#sk-container-id-1 input.sk-toggleable__control:checked~label.sk-toggleable__label-arrow:before {content: \"▾\";}#sk-container-id-1 div.sk-estimator input.sk-toggleable__control:checked~label.sk-toggleable__label {background-color: #d4ebff;}#sk-container-id-1 div.sk-label input.sk-toggleable__control:checked~label.sk-toggleable__label {background-color: #d4ebff;}#sk-container-id-1 input.sk-hidden--visually {border: 0;clip: rect(1px 1px 1px 1px);clip: rect(1px, 1px, 1px, 1px);height: 1px;margin: -1px;overflow: hidden;padding: 0;position: absolute;width: 1px;}#sk-container-id-1 div.sk-estimator {font-family: monospace;background-color: #f0f8ff;border: 1px dotted black;border-radius: 0.25em;box-sizing: border-box;margin-bottom: 0.5em;}#sk-container-id-1 div.sk-estimator:hover {background-color: #d4ebff;}#sk-container-id-1 div.sk-parallel-item::after {content: \"\";width: 100%;border-bottom: 1px solid gray;flex-grow: 1;}#sk-container-id-1 div.sk-label:hover label.sk-toggleable__label {background-color: #d4ebff;}#sk-container-id-1 div.sk-serial::before {content: \"\";position: absolute;border-left: 1px solid gray;box-sizing: border-box;top: 0;bottom: 0;left: 50%;z-index: 0;}#sk-container-id-1 div.sk-serial {display: flex;flex-direction: column;align-items: center;background-color: white;padding-right: 0.2em;padding-left: 0.2em;position: relative;}#sk-container-id-1 div.sk-item {position: relative;z-index: 1;}#sk-container-id-1 div.sk-parallel {display: flex;align-items: stretch;justify-content: center;background-color: white;position: relative;}#sk-container-id-1 div.sk-item::before, #sk-container-id-1 div.sk-parallel-item::before {content: \"\";position: absolute;border-left: 1px solid gray;box-sizing: border-box;top: 0;bottom: 0;left: 50%;z-index: -1;}#sk-container-id-1 div.sk-parallel-item {display: flex;flex-direction: column;z-index: 1;position: relative;background-color: white;}#sk-container-id-1 div.sk-parallel-item:first-child::after {align-self: flex-end;width: 50%;}#sk-container-id-1 div.sk-parallel-item:last-child::after {align-self: flex-start;width: 50%;}#sk-container-id-1 div.sk-parallel-item:only-child::after {width: 0;}#sk-container-id-1 div.sk-dashed-wrapped {border: 1px dashed gray;margin: 0 0.4em 0.5em 0.4em;box-sizing: border-box;padding-bottom: 0.4em;background-color: white;}#sk-container-id-1 div.sk-label label {font-family: monospace;font-weight: bold;display: inline-block;line-height: 1.2em;}#sk-container-id-1 div.sk-label-container {text-align: center;}#sk-container-id-1 div.sk-container {/* jupyter's `normalize.less` sets `[hidden] { display: none; }` but bootstrap.min.css set `[hidden] { display: none !important; }` so we also need the `!important` here to be able to override the default hidden behavior on the sphinx rendered scikit-learn.org. See: https://github.com/scikit-learn/scikit-learn/issues/21755 */display: inline-block !important;position: relative;}#sk-container-id-1 div.sk-text-repr-fallback {display: none;}</style><div id=\"sk-container-id-1\" class=\"sk-top-container\"><div class=\"sk-text-repr-fallback\"><pre>Pipeline(steps=[(&#x27;scale&#x27;, StandardScaler()),\n",
       "                (&#x27;model&#x27;,\n",
       "                 LogisticRegression(l1_ratio=0.5, max_iter=5000,\n",
       "                                    penalty=&#x27;elasticnet&#x27;, solver=&#x27;saga&#x27;))])</pre><b>In a Jupyter environment, please rerun this cell to show the HTML representation or trust the notebook. <br />On GitHub, the HTML representation is unable to render, please try loading this page with nbviewer.org.</b></div><div class=\"sk-container\" hidden><div class=\"sk-item sk-dashed-wrapped\"><div class=\"sk-label-container\"><div class=\"sk-label sk-toggleable\"><input class=\"sk-toggleable__control sk-hidden--visually\" id=\"sk-estimator-id-1\" type=\"checkbox\" ><label for=\"sk-estimator-id-1\" class=\"sk-toggleable__label sk-toggleable__label-arrow\">Pipeline</label><div class=\"sk-toggleable__content\"><pre>Pipeline(steps=[(&#x27;scale&#x27;, StandardScaler()),\n",
       "                (&#x27;model&#x27;,\n",
       "                 LogisticRegression(l1_ratio=0.5, max_iter=5000,\n",
       "                                    penalty=&#x27;elasticnet&#x27;, solver=&#x27;saga&#x27;))])</pre></div></div></div><div class=\"sk-serial\"><div class=\"sk-item\"><div class=\"sk-estimator sk-toggleable\"><input class=\"sk-toggleable__control sk-hidden--visually\" id=\"sk-estimator-id-2\" type=\"checkbox\" ><label for=\"sk-estimator-id-2\" class=\"sk-toggleable__label sk-toggleable__label-arrow\">StandardScaler</label><div class=\"sk-toggleable__content\"><pre>StandardScaler()</pre></div></div></div><div class=\"sk-item\"><div class=\"sk-estimator sk-toggleable\"><input class=\"sk-toggleable__control sk-hidden--visually\" id=\"sk-estimator-id-3\" type=\"checkbox\" ><label for=\"sk-estimator-id-3\" class=\"sk-toggleable__label sk-toggleable__label-arrow\">LogisticRegression</label><div class=\"sk-toggleable__content\"><pre>LogisticRegression(l1_ratio=0.5, max_iter=5000, penalty=&#x27;elasticnet&#x27;,\n",
       "                   solver=&#x27;saga&#x27;)</pre></div></div></div></div></div></div></div>"
      ],
      "text/plain": [
       "Pipeline(steps=[('scale', StandardScaler()),\n",
       "                ('model',\n",
       "                 LogisticRegression(l1_ratio=0.5, max_iter=5000,\n",
       "                                    penalty='elasticnet', solver='saga'))])"
      ]
     },
     "execution_count": 27,
     "metadata": {},
     "output_type": "execute_result"
    }
   ],
   "source": [
    "model.fit(X_train, y_train.values.ravel())"
   ]
  },
  {
   "cell_type": "code",
   "execution_count": 28,
   "id": "af59f8c0",
   "metadata": {
    "execution": {
     "iopub.execute_input": "2025-07-22T09:16:01.524263Z",
     "iopub.status.busy": "2025-07-22T09:16:01.523243Z",
     "iopub.status.idle": "2025-07-22T09:16:01.529967Z",
     "shell.execute_reply": "2025-07-22T09:16:01.528840Z"
    },
    "papermill": {
     "duration": 0.030024,
     "end_time": "2025-07-22T09:16:01.532244",
     "exception": false,
     "start_time": "2025-07-22T09:16:01.502220",
     "status": "completed"
    },
    "tags": []
   },
   "outputs": [],
   "source": [
    "from fairness_multiverse.universe import predict_w_threshold"
   ]
  },
  {
   "cell_type": "code",
   "execution_count": 29,
   "id": "a7cf2e16",
   "metadata": {
    "execution": {
     "iopub.execute_input": "2025-07-22T09:16:01.587216Z",
     "iopub.status.busy": "2025-07-22T09:16:01.586646Z",
     "iopub.status.idle": "2025-07-22T09:16:01.836218Z",
     "shell.execute_reply": "2025-07-22T09:16:01.835225Z"
    },
    "papermill": {
     "duration": 0.279332,
     "end_time": "2025-07-22T09:16:01.838022",
     "exception": false,
     "start_time": "2025-07-22T09:16:01.558690",
     "status": "completed"
    },
    "tags": []
   },
   "outputs": [
    {
     "data": {
      "text/plain": [
       "0.8605952513655111"
      ]
     },
     "execution_count": 29,
     "metadata": {},
     "output_type": "execute_result"
    }
   ],
   "source": [
    "probs_test = model.predict_proba(X_test)\n",
    "\n",
    "'''\n",
    "Below code returns a boolean array (or binary 0/1 array depending on how it’s used) where each element \n",
    "is True if the probability of class 1 is greater than or equal to the threshold, and False otherwise.\n",
    "'''\n",
    "y_pred_default = predict_w_threshold(probs_test, 0.5)\n",
    "\n",
    "from sklearn.metrics import accuracy_score\n",
    "\n",
    "# Naive prediction\n",
    "accuracy_score(y_true = y_true, y_pred = y_pred_default)"
   ]
  },
  {
   "cell_type": "code",
   "execution_count": 30,
   "id": "081964c3",
   "metadata": {
    "execution": {
     "iopub.execute_input": "2025-07-22T09:16:01.882476Z",
     "iopub.status.busy": "2025-07-22T09:16:01.881786Z",
     "iopub.status.idle": "2025-07-22T09:16:02.068418Z",
     "shell.execute_reply": "2025-07-22T09:16:02.067442Z"
    },
    "papermill": {
     "duration": 0.211041,
     "end_time": "2025-07-22T09:16:02.070509",
     "exception": false,
     "start_time": "2025-07-22T09:16:01.859468",
     "status": "completed"
    },
    "tags": []
   },
   "outputs": [
    {
     "data": {
      "text/plain": [
       "array([0, 0, 0, ..., 0, 0, 0])"
      ]
     },
     "execution_count": 30,
     "metadata": {},
     "output_type": "execute_result"
    }
   ],
   "source": [
    "model.predict(X_test)"
   ]
  },
  {
   "cell_type": "markdown",
   "id": "56c9705b",
   "metadata": {
    "papermill": {
     "duration": 0.020425,
     "end_time": "2025-07-22T09:16:02.112058",
     "exception": false,
     "start_time": "2025-07-22T09:16:02.091633",
     "status": "completed"
    },
    "tags": []
   },
   "source": [
    "# Conformal Prediction"
   ]
  },
  {
   "cell_type": "code",
   "execution_count": 31,
   "id": "160ec6ff",
   "metadata": {
    "execution": {
     "iopub.execute_input": "2025-07-22T09:16:02.156663Z",
     "iopub.status.busy": "2025-07-22T09:16:02.155785Z",
     "iopub.status.idle": "2025-07-22T09:16:02.162156Z",
     "shell.execute_reply": "2025-07-22T09:16:02.160938Z"
    },
    "papermill": {
     "duration": 0.030883,
     "end_time": "2025-07-22T09:16:02.164129",
     "exception": false,
     "start_time": "2025-07-22T09:16:02.133246",
     "status": "completed"
    },
    "tags": []
   },
   "outputs": [],
   "source": [
    "# Miscoverage level for conformal prediction (10% allowed error rate => 90% target coverage)\n",
    "alpha = 0.1"
   ]
  },
  {
   "cell_type": "code",
   "execution_count": 32,
   "id": "eadf4555-3dd3-440e-8e35-f82a4ad9f855",
   "metadata": {
    "execution": {
     "iopub.execute_input": "2025-07-22T09:16:02.209105Z",
     "iopub.status.busy": "2025-07-22T09:16:02.208546Z",
     "iopub.status.idle": "2025-07-22T09:16:02.394462Z",
     "shell.execute_reply": "2025-07-22T09:16:02.393418Z"
    },
    "papermill": {
     "duration": 0.210076,
     "end_time": "2025-07-22T09:16:02.396600",
     "exception": false,
     "start_time": "2025-07-22T09:16:02.186524",
     "status": "completed"
    },
    "tags": []
   },
   "outputs": [],
   "source": [
    "probs_calib = model.predict_proba(X_calib)"
   ]
  },
  {
   "cell_type": "code",
   "execution_count": 33,
   "id": "2ed93547-6d5d-4983-9b36-1ecb300da49a",
   "metadata": {
    "execution": {
     "iopub.execute_input": "2025-07-22T09:16:02.442995Z",
     "iopub.status.busy": "2025-07-22T09:16:02.442367Z",
     "iopub.status.idle": "2025-07-22T09:16:02.448764Z",
     "shell.execute_reply": "2025-07-22T09:16:02.447542Z"
    },
    "papermill": {
     "duration": 0.031471,
     "end_time": "2025-07-22T09:16:02.450802",
     "exception": false,
     "start_time": "2025-07-22T09:16:02.419331",
     "status": "completed"
    },
    "tags": []
   },
   "outputs": [],
   "source": [
    "y_calib = y_calib.values.ravel().astype(int)"
   ]
  },
  {
   "cell_type": "code",
   "execution_count": 34,
   "id": "65d1320d-f588-4b38-9072-62af1ae97f7d",
   "metadata": {
    "execution": {
     "iopub.execute_input": "2025-07-22T09:16:02.494162Z",
     "iopub.status.busy": "2025-07-22T09:16:02.493577Z",
     "iopub.status.idle": "2025-07-22T09:16:02.502155Z",
     "shell.execute_reply": "2025-07-22T09:16:02.501353Z"
    },
    "papermill": {
     "duration": 0.031467,
     "end_time": "2025-07-22T09:16:02.503650",
     "exception": false,
     "start_time": "2025-07-22T09:16:02.472183",
     "status": "completed"
    },
    "tags": []
   },
   "outputs": [],
   "source": [
    "from fairness_multiverse.conformal import compute_nc_scores\n",
    "\n",
    "# Compute nonconformity scores on calibration set (1 - probability of true class)\n",
    "nc_scores = compute_nc_scores(probs_calib, y_calib)"
   ]
  },
  {
   "cell_type": "code",
   "execution_count": 35,
   "id": "df3b8ca3-53b7-43d5-9667-7c85da7aeda2",
   "metadata": {
    "execution": {
     "iopub.execute_input": "2025-07-22T09:16:02.544118Z",
     "iopub.status.busy": "2025-07-22T09:16:02.543335Z",
     "iopub.status.idle": "2025-07-22T09:16:02.549924Z",
     "shell.execute_reply": "2025-07-22T09:16:02.548792Z"
    },
    "papermill": {
     "duration": 0.028592,
     "end_time": "2025-07-22T09:16:02.551666",
     "exception": false,
     "start_time": "2025-07-22T09:16:02.523074",
     "status": "completed"
    },
    "tags": []
   },
   "outputs": [],
   "source": [
    "from fairness_multiverse.conformal import find_threshold\n",
    "\n",
    "# Find conformal threshold q_hat for the given alpha (split conformal method)\n",
    "q_hat = find_threshold(nc_scores, alpha)"
   ]
  },
  {
   "cell_type": "code",
   "execution_count": 36,
   "id": "4d29e6c1-0ef6-4aa4-b8fe-4fe79b0d033a",
   "metadata": {
    "execution": {
     "iopub.execute_input": "2025-07-22T09:16:02.592823Z",
     "iopub.status.busy": "2025-07-22T09:16:02.592363Z",
     "iopub.status.idle": "2025-07-22T09:16:02.600078Z",
     "shell.execute_reply": "2025-07-22T09:16:02.598877Z"
    },
    "papermill": {
     "duration": 0.031628,
     "end_time": "2025-07-22T09:16:02.602156",
     "exception": false,
     "start_time": "2025-07-22T09:16:02.570528",
     "status": "completed"
    },
    "tags": []
   },
   "outputs": [
    {
     "data": {
      "text/plain": [
       "0.6597088602352104"
      ]
     },
     "execution_count": 36,
     "metadata": {},
     "output_type": "execute_result"
    }
   ],
   "source": [
    "q_hat"
   ]
  },
  {
   "cell_type": "code",
   "execution_count": 37,
   "id": "92460794-cdac-4be2-ba28-f28c0515a6fb",
   "metadata": {
    "execution": {
     "iopub.execute_input": "2025-07-22T09:16:02.642845Z",
     "iopub.status.busy": "2025-07-22T09:16:02.642276Z",
     "iopub.status.idle": "2025-07-22T09:16:03.541145Z",
     "shell.execute_reply": "2025-07-22T09:16:03.539778Z"
    },
    "papermill": {
     "duration": 0.921072,
     "end_time": "2025-07-22T09:16:03.542999",
     "exception": false,
     "start_time": "2025-07-22T09:16:02.621927",
     "status": "completed"
    },
    "tags": []
   },
   "outputs": [],
   "source": [
    "from fairness_multiverse.conformal import predict_conformal_sets\n",
    "\n",
    "# Generate prediction sets for each test example\n",
    "pred_sets = predict_conformal_sets(model, X_test, q_hat)"
   ]
  },
  {
   "cell_type": "code",
   "execution_count": 38,
   "id": "d90c9a65-e6db-4f5d-80cd-e68fb7e46829",
   "metadata": {
    "execution": {
     "iopub.execute_input": "2025-07-22T09:16:03.585672Z",
     "iopub.status.busy": "2025-07-22T09:16:03.585285Z",
     "iopub.status.idle": "2025-07-22T09:16:03.591094Z",
     "shell.execute_reply": "2025-07-22T09:16:03.590075Z"
    },
    "papermill": {
     "duration": 0.030256,
     "end_time": "2025-07-22T09:16:03.593176",
     "exception": false,
     "start_time": "2025-07-22T09:16:03.562920",
     "status": "completed"
    },
    "tags": []
   },
   "outputs": [],
   "source": [
    "y_true = y_true.squeeze()"
   ]
  },
  {
   "cell_type": "code",
   "execution_count": 39,
   "id": "3a58a54a-1e68-46b9-927a-df01f18aebc8",
   "metadata": {
    "execution": {
     "iopub.execute_input": "2025-07-22T09:16:03.636887Z",
     "iopub.status.busy": "2025-07-22T09:16:03.636380Z",
     "iopub.status.idle": "2025-07-22T09:16:04.511497Z",
     "shell.execute_reply": "2025-07-22T09:16:04.510483Z"
    },
    "papermill": {
     "duration": 0.897298,
     "end_time": "2025-07-22T09:16:04.513665",
     "exception": false,
     "start_time": "2025-07-22T09:16:03.616367",
     "status": "completed"
    },
    "tags": []
   },
   "outputs": [],
   "source": [
    "from fairness_multiverse.conformal import evaluate_sets\n",
    "\n",
    "# Evaluate coverage and average set size on test data\n",
    "metrics = evaluate_sets(pred_sets, y_true)"
   ]
  },
  {
   "cell_type": "code",
   "execution_count": 40,
   "id": "5ce0a5cb-201f-45a0-ade5-94c7f0bd6095",
   "metadata": {
    "execution": {
     "iopub.execute_input": "2025-07-22T09:16:04.562435Z",
     "iopub.status.busy": "2025-07-22T09:16:04.561940Z",
     "iopub.status.idle": "2025-07-22T09:16:04.569778Z",
     "shell.execute_reply": "2025-07-22T09:16:04.568663Z"
    },
    "papermill": {
     "duration": 0.035006,
     "end_time": "2025-07-22T09:16:04.572096",
     "exception": false,
     "start_time": "2025-07-22T09:16:04.537090",
     "status": "completed"
    },
    "tags": []
   },
   "outputs": [
    {
     "data": {
      "text/plain": [
       "{'coverage': 0.9102218258834021, 'avg_size': 1.1246906699364618}"
      ]
     },
     "execution_count": 40,
     "metadata": {},
     "output_type": "execute_result"
    }
   ],
   "source": [
    "metrics"
   ]
  },
  {
   "cell_type": "code",
   "execution_count": 41,
   "id": "9b9a838d-31c9-430b-ae14-12baee460d17",
   "metadata": {
    "execution": {
     "iopub.execute_input": "2025-07-22T09:16:04.622684Z",
     "iopub.status.busy": "2025-07-22T09:16:04.621609Z",
     "iopub.status.idle": "2025-07-22T09:16:04.628752Z",
     "shell.execute_reply": "2025-07-22T09:16:04.627568Z"
    },
    "papermill": {
     "duration": 0.034361,
     "end_time": "2025-07-22T09:16:04.630759",
     "exception": false,
     "start_time": "2025-07-22T09:16:04.596398",
     "status": "completed"
    },
    "tags": []
   },
   "outputs": [],
   "source": [
    "example_universe = universe.copy()\n",
    "universe_model = example_universe.get(\"model\")\n",
    "universe_exclude_features = example_universe.get(\"exclude_features\")\n",
    "universe_exclude_subgroups = example_universe.get(\"exclude_subgroups\")"
   ]
  },
  {
   "cell_type": "code",
   "execution_count": 42,
   "id": "f4b6a8ac-9dc0-4245-8a91-5b3b5999c4f9",
   "metadata": {
    "execution": {
     "iopub.execute_input": "2025-07-22T09:16:04.682380Z",
     "iopub.status.busy": "2025-07-22T09:16:04.681705Z",
     "iopub.status.idle": "2025-07-22T09:16:04.689469Z",
     "shell.execute_reply": "2025-07-22T09:16:04.687893Z"
    },
    "papermill": {
     "duration": 0.035638,
     "end_time": "2025-07-22T09:16:04.691519",
     "exception": false,
     "start_time": "2025-07-22T09:16:04.655881",
     "status": "completed"
    },
    "tags": []
   },
   "outputs": [],
   "source": [
    "cp_metrics_dict = {\n",
    "    \"universe_id\": [universe_id],\n",
    "    \"universe_model\": [universe_model],\n",
    "    \"universe_exclude_features\": [universe_exclude_features],\n",
    "    \"universe_exclude_subgroups\": [universe_exclude_subgroups],\n",
    "    \"q_hat\": [q_hat],\n",
    "    \"coverage\": [metrics[\"coverage\"]],\n",
    "    \"avg_size\": [metrics[\"avg_size\"]],\n",
    "}"
   ]
  },
  {
   "cell_type": "code",
   "execution_count": 43,
   "id": "908acbb1-0371-4915-85ca-3fa520d2efe2",
   "metadata": {
    "execution": {
     "iopub.execute_input": "2025-07-22T09:16:04.741699Z",
     "iopub.status.busy": "2025-07-22T09:16:04.741082Z",
     "iopub.status.idle": "2025-07-22T09:16:04.749509Z",
     "shell.execute_reply": "2025-07-22T09:16:04.748274Z"
    },
    "papermill": {
     "duration": 0.034859,
     "end_time": "2025-07-22T09:16:04.751423",
     "exception": false,
     "start_time": "2025-07-22T09:16:04.716564",
     "status": "completed"
    },
    "tags": []
   },
   "outputs": [
    {
     "data": {
      "text/plain": [
       "{'universe_id': ['5aba2455e97ad4a95af70f85f554e8a5'],\n",
       " 'universe_model': ['elasticnet'],\n",
       " 'universe_exclude_features': ['sex'],\n",
       " 'universe_exclude_subgroups': ['keep-all'],\n",
       " 'q_hat': [0.6597088602352104],\n",
       " 'coverage': [0.9102218258834021],\n",
       " 'avg_size': [1.1246906699364618]}"
      ]
     },
     "execution_count": 43,
     "metadata": {},
     "output_type": "execute_result"
    }
   ],
   "source": [
    "cp_metrics_dict"
   ]
  },
  {
   "cell_type": "code",
   "execution_count": 44,
   "id": "33007efc-14e9-4ec6-97ac-56a455c82265",
   "metadata": {
    "execution": {
     "iopub.execute_input": "2025-07-22T09:16:04.801542Z",
     "iopub.status.busy": "2025-07-22T09:16:04.800949Z",
     "iopub.status.idle": "2025-07-22T09:16:04.807951Z",
     "shell.execute_reply": "2025-07-22T09:16:04.806925Z"
    },
    "papermill": {
     "duration": 0.033442,
     "end_time": "2025-07-22T09:16:04.809903",
     "exception": false,
     "start_time": "2025-07-22T09:16:04.776461",
     "status": "completed"
    },
    "tags": []
   },
   "outputs": [],
   "source": [
    "cp_metrics_df = pd.DataFrame(cp_metrics_dict)"
   ]
  },
  {
   "cell_type": "code",
   "execution_count": 45,
   "id": "db12611b-57b2-4910-b9d0-355adfd6e7bf",
   "metadata": {
    "execution": {
     "iopub.execute_input": "2025-07-22T09:16:04.854520Z",
     "iopub.status.busy": "2025-07-22T09:16:04.854046Z",
     "iopub.status.idle": "2025-07-22T09:16:04.871742Z",
     "shell.execute_reply": "2025-07-22T09:16:04.870681Z"
    },
    "papermill": {
     "duration": 0.041413,
     "end_time": "2025-07-22T09:16:04.873743",
     "exception": false,
     "start_time": "2025-07-22T09:16:04.832330",
     "status": "completed"
    },
    "tags": []
   },
   "outputs": [
    {
     "data": {
      "text/html": [
       "<div>\n",
       "<style scoped>\n",
       "    .dataframe tbody tr th:only-of-type {\n",
       "        vertical-align: middle;\n",
       "    }\n",
       "\n",
       "    .dataframe tbody tr th {\n",
       "        vertical-align: top;\n",
       "    }\n",
       "\n",
       "    .dataframe thead th {\n",
       "        text-align: right;\n",
       "    }\n",
       "</style>\n",
       "<table border=\"1\" class=\"dataframe\">\n",
       "  <thead>\n",
       "    <tr style=\"text-align: right;\">\n",
       "      <th></th>\n",
       "      <th>universe_id</th>\n",
       "      <th>universe_model</th>\n",
       "      <th>universe_exclude_features</th>\n",
       "      <th>universe_exclude_subgroups</th>\n",
       "      <th>q_hat</th>\n",
       "      <th>coverage</th>\n",
       "      <th>avg_size</th>\n",
       "    </tr>\n",
       "  </thead>\n",
       "  <tbody>\n",
       "    <tr>\n",
       "      <th>0</th>\n",
       "      <td>5aba2455e97ad4a95af70f85f554e8a5</td>\n",
       "      <td>elasticnet</td>\n",
       "      <td>sex</td>\n",
       "      <td>keep-all</td>\n",
       "      <td>0.659709</td>\n",
       "      <td>0.910222</td>\n",
       "      <td>1.124691</td>\n",
       "    </tr>\n",
       "  </tbody>\n",
       "</table>\n",
       "</div>"
      ],
      "text/plain": [
       "                        universe_id universe_model universe_exclude_features  \\\n",
       "0  5aba2455e97ad4a95af70f85f554e8a5     elasticnet                       sex   \n",
       "\n",
       "  universe_exclude_subgroups     q_hat  coverage  avg_size  \n",
       "0                   keep-all  0.659709  0.910222  1.124691  "
      ]
     },
     "execution_count": 45,
     "metadata": {},
     "output_type": "execute_result"
    }
   ],
   "source": [
    "cp_metrics_df"
   ]
  },
  {
   "cell_type": "code",
   "execution_count": 46,
   "id": "b7fbde55-a0a1-47e4-9af6-fe4a17fa8c61",
   "metadata": {
    "execution": {
     "iopub.execute_input": "2025-07-22T09:16:04.908732Z",
     "iopub.status.busy": "2025-07-22T09:16:04.908242Z",
     "iopub.status.idle": "2025-07-22T09:16:04.913165Z",
     "shell.execute_reply": "2025-07-22T09:16:04.912117Z"
    },
    "papermill": {
     "duration": 0.021285,
     "end_time": "2025-07-22T09:16:04.915096",
     "exception": false,
     "start_time": "2025-07-22T09:16:04.893811",
     "status": "completed"
    },
    "tags": []
   },
   "outputs": [],
   "source": [
    "# Conditional Coverage & looking at subgroups"
   ]
  },
  {
   "cell_type": "code",
   "execution_count": 47,
   "id": "027ae886-68dd-4141-96c7-805a5450e1ef",
   "metadata": {
    "execution": {
     "iopub.execute_input": "2025-07-22T09:16:04.949612Z",
     "iopub.status.busy": "2025-07-22T09:16:04.949238Z",
     "iopub.status.idle": "2025-07-22T09:16:05.120730Z",
     "shell.execute_reply": "2025-07-22T09:16:05.119950Z"
    },
    "papermill": {
     "duration": 0.186584,
     "end_time": "2025-07-22T09:16:05.122482",
     "exception": false,
     "start_time": "2025-07-22T09:16:04.935898",
     "status": "completed"
    },
    "tags": []
   },
   "outputs": [],
   "source": [
    "from fairness_multiverse.conformal import build_cp_groups\n",
    "\n",
    "cp_groups_df = build_cp_groups(pred_sets, y_true, X_test.index, org_test)\n",
    "#needs universe_id and setting"
   ]
  },
  {
   "cell_type": "code",
   "execution_count": 48,
   "id": "c3b92545-903e-4839-89af-0f057907d7d6",
   "metadata": {
    "execution": {
     "iopub.execute_input": "2025-07-22T09:16:05.162048Z",
     "iopub.status.busy": "2025-07-22T09:16:05.161314Z",
     "iopub.status.idle": "2025-07-22T09:16:06.947048Z",
     "shell.execute_reply": "2025-07-22T09:16:06.946023Z"
    },
    "papermill": {
     "duration": 1.80779,
     "end_time": "2025-07-22T09:16:06.948968",
     "exception": false,
     "start_time": "2025-07-22T09:16:05.141178",
     "status": "completed"
    },
    "tags": []
   },
   "outputs": [],
   "source": [
    "# Define covered = 1 if true_label is in the predicted set\n",
    "cp_groups_df['covered'] = cp_groups_df.apply(\n",
    "    lambda r: int(r['true_label'] in r['pred_set']),\n",
    "    axis=1\n",
    ")"
   ]
  },
  {
   "cell_type": "code",
   "execution_count": 49,
   "id": "338ff529-1a6b-4b87-a931-8e4788d52aad",
   "metadata": {
    "execution": {
     "iopub.execute_input": "2025-07-22T09:16:06.995686Z",
     "iopub.status.busy": "2025-07-22T09:16:06.994764Z",
     "iopub.status.idle": "2025-07-22T09:16:07.000514Z",
     "shell.execute_reply": "2025-07-22T09:16:06.999390Z"
    },
    "papermill": {
     "duration": 0.031404,
     "end_time": "2025-07-22T09:16:07.002507",
     "exception": false,
     "start_time": "2025-07-22T09:16:06.971103",
     "status": "completed"
    },
    "tags": []
   },
   "outputs": [],
   "source": [
    "#cp_groups_df"
   ]
  },
  {
   "cell_type": "code",
   "execution_count": 50,
   "id": "90032e27-66df-4540-9169-4e89cfbaa758",
   "metadata": {
    "execution": {
     "iopub.execute_input": "2025-07-22T09:16:07.047031Z",
     "iopub.status.busy": "2025-07-22T09:16:07.046243Z",
     "iopub.status.idle": "2025-07-22T09:16:07.061455Z",
     "shell.execute_reply": "2025-07-22T09:16:07.060240Z"
    },
    "papermill": {
     "duration": 0.038898,
     "end_time": "2025-07-22T09:16:07.063566",
     "exception": false,
     "start_time": "2025-07-22T09:16:07.024668",
     "status": "completed"
    },
    "tags": []
   },
   "outputs": [],
   "source": [
    "subgroups = ['frau1','nongerman','nongerman_male','nongerman_female']\n",
    "\n",
    "# Conditional coverage for subgroup==1\n",
    "cond_coverage = {\n",
    "    g: cp_groups_df.loc[cp_groups_df[g]==1, 'covered'].mean()\n",
    "    for g in subgroups\n",
    "}"
   ]
  },
  {
   "cell_type": "code",
   "execution_count": 51,
   "id": "1e348fb1-b9c3-45bc-ba23-f016827a7e0d",
   "metadata": {
    "execution": {
     "iopub.execute_input": "2025-07-22T09:16:07.112053Z",
     "iopub.status.busy": "2025-07-22T09:16:07.111559Z",
     "iopub.status.idle": "2025-07-22T09:16:07.119764Z",
     "shell.execute_reply": "2025-07-22T09:16:07.118719Z"
    },
    "papermill": {
     "duration": 0.034449,
     "end_time": "2025-07-22T09:16:07.121654",
     "exception": false,
     "start_time": "2025-07-22T09:16:07.087205",
     "status": "completed"
    },
    "tags": []
   },
   "outputs": [
    {
     "data": {
      "text/plain": [
       "{'frau1': 0.910338320528373,\n",
       " 'nongerman': 0.9124235109189918,\n",
       " 'nongerman_male': 0.9275871386111861,\n",
       " 'nongerman_female': 0.8873323397913562}"
      ]
     },
     "execution_count": 51,
     "metadata": {},
     "output_type": "execute_result"
    }
   ],
   "source": [
    "cond_coverage"
   ]
  },
  {
   "cell_type": "code",
   "execution_count": 52,
   "id": "f5093324-c3dd-4d63-bc4c-8d945e5c8bbb",
   "metadata": {
    "execution": {
     "iopub.execute_input": "2025-07-22T09:16:07.163618Z",
     "iopub.status.busy": "2025-07-22T09:16:07.162609Z",
     "iopub.status.idle": "2025-07-22T09:16:07.169775Z",
     "shell.execute_reply": "2025-07-22T09:16:07.168938Z"
    },
    "papermill": {
     "duration": 0.028907,
     "end_time": "2025-07-22T09:16:07.171299",
     "exception": false,
     "start_time": "2025-07-22T09:16:07.142392",
     "status": "completed"
    },
    "tags": []
   },
   "outputs": [],
   "source": [
    "for subgroup, cov in cond_coverage.items():\n",
    "    cp_metrics_df[f\"cov_{subgroup}\"] = cov"
   ]
  },
  {
   "cell_type": "code",
   "execution_count": 53,
   "id": "6e872e10-dbe5-49e8-b554-5030c98ff75d",
   "metadata": {
    "execution": {
     "iopub.execute_input": "2025-07-22T09:16:07.215973Z",
     "iopub.status.busy": "2025-07-22T09:16:07.215313Z",
     "iopub.status.idle": "2025-07-22T09:16:07.234306Z",
     "shell.execute_reply": "2025-07-22T09:16:07.233421Z"
    },
    "papermill": {
     "duration": 0.041976,
     "end_time": "2025-07-22T09:16:07.236030",
     "exception": false,
     "start_time": "2025-07-22T09:16:07.194054",
     "status": "completed"
    },
    "tags": []
   },
   "outputs": [
    {
     "data": {
      "text/html": [
       "<div>\n",
       "<style scoped>\n",
       "    .dataframe tbody tr th:only-of-type {\n",
       "        vertical-align: middle;\n",
       "    }\n",
       "\n",
       "    .dataframe tbody tr th {\n",
       "        vertical-align: top;\n",
       "    }\n",
       "\n",
       "    .dataframe thead th {\n",
       "        text-align: right;\n",
       "    }\n",
       "</style>\n",
       "<table border=\"1\" class=\"dataframe\">\n",
       "  <thead>\n",
       "    <tr style=\"text-align: right;\">\n",
       "      <th></th>\n",
       "      <th>universe_id</th>\n",
       "      <th>universe_model</th>\n",
       "      <th>universe_exclude_features</th>\n",
       "      <th>universe_exclude_subgroups</th>\n",
       "      <th>q_hat</th>\n",
       "      <th>coverage</th>\n",
       "      <th>avg_size</th>\n",
       "      <th>cov_frau1</th>\n",
       "      <th>cov_nongerman</th>\n",
       "      <th>cov_nongerman_male</th>\n",
       "      <th>cov_nongerman_female</th>\n",
       "    </tr>\n",
       "  </thead>\n",
       "  <tbody>\n",
       "    <tr>\n",
       "      <th>0</th>\n",
       "      <td>5aba2455e97ad4a95af70f85f554e8a5</td>\n",
       "      <td>elasticnet</td>\n",
       "      <td>sex</td>\n",
       "      <td>keep-all</td>\n",
       "      <td>0.659709</td>\n",
       "      <td>0.910222</td>\n",
       "      <td>1.124691</td>\n",
       "      <td>0.910338</td>\n",
       "      <td>0.912424</td>\n",
       "      <td>0.927587</td>\n",
       "      <td>0.887332</td>\n",
       "    </tr>\n",
       "  </tbody>\n",
       "</table>\n",
       "</div>"
      ],
      "text/plain": [
       "                        universe_id universe_model universe_exclude_features  \\\n",
       "0  5aba2455e97ad4a95af70f85f554e8a5     elasticnet                       sex   \n",
       "\n",
       "  universe_exclude_subgroups     q_hat  coverage  avg_size  cov_frau1  \\\n",
       "0                   keep-all  0.659709  0.910222  1.124691   0.910338   \n",
       "\n",
       "   cov_nongerman  cov_nongerman_male  cov_nongerman_female  \n",
       "0       0.912424            0.927587              0.887332  "
      ]
     },
     "execution_count": 53,
     "metadata": {},
     "output_type": "execute_result"
    }
   ],
   "source": [
    "cp_metrics_df"
   ]
  },
  {
   "cell_type": "markdown",
   "id": "33774451",
   "metadata": {
    "papermill": {
     "duration": 0.022834,
     "end_time": "2025-07-22T09:16:07.280177",
     "exception": false,
     "start_time": "2025-07-22T09:16:07.257343",
     "status": "completed"
    },
    "tags": []
   },
   "source": [
    "# (Fairness) Metrics"
   ]
  },
  {
   "cell_type": "code",
   "execution_count": 54,
   "id": "debc5d62",
   "metadata": {
    "execution": {
     "iopub.execute_input": "2025-07-22T09:16:07.324454Z",
     "iopub.status.busy": "2025-07-22T09:16:07.323980Z",
     "iopub.status.idle": "2025-07-22T09:16:07.348964Z",
     "shell.execute_reply": "2025-07-22T09:16:07.347877Z"
    },
    "papermill": {
     "duration": 0.04818,
     "end_time": "2025-07-22T09:16:07.350735",
     "exception": false,
     "start_time": "2025-07-22T09:16:07.302555",
     "status": "completed"
    },
    "tags": []
   },
   "outputs": [],
   "source": [
    "# do I need to include maxdeutsch1.missing?\n",
    "\n",
    "import numpy as np\n",
    "\n",
    "colname_to_bin = \"maxdeutsch1\"\n",
    "majority_value = org_train[colname_to_bin].mode()[0]\n",
    "\n",
    "org_test[\"majmin\"] = np.where(org_test[colname_to_bin] == majority_value, \"majority\", \"minority\")"
   ]
  },
  {
   "cell_type": "code",
   "execution_count": 55,
   "id": "06a50de5",
   "metadata": {
    "execution": {
     "iopub.execute_input": "2025-07-22T09:16:07.395974Z",
     "iopub.status.busy": "2025-07-22T09:16:07.395207Z",
     "iopub.status.idle": "2025-07-22T09:16:09.958032Z",
     "shell.execute_reply": "2025-07-22T09:16:09.956915Z"
    },
    "papermill": {
     "duration": 2.588403,
     "end_time": "2025-07-22T09:16:09.959587",
     "exception": false,
     "start_time": "2025-07-22T09:16:07.371184",
     "status": "completed"
    },
    "tags": []
   },
   "outputs": [],
   "source": [
    "example_universe = universe.copy()\n",
    "example_universe[\"cutoff\"] = example_universe[\"cutoff\"][0]\n",
    "example_universe[\"eval_fairness_grouping\"] = example_universe[\"eval_fairness_grouping\"][0]\n",
    "fairness_dict, metric_frame = universe_analysis.compute_metrics(\n",
    "    example_universe,\n",
    "    y_pred_prob=probs_test,\n",
    "    y_test=y_true,\n",
    "    org_test=org_test,\n",
    ")"
   ]
  },
  {
   "cell_type": "markdown",
   "id": "f95d4e02",
   "metadata": {
    "papermill": {
     "duration": 0.014322,
     "end_time": "2025-07-22T09:16:09.987172",
     "exception": false,
     "start_time": "2025-07-22T09:16:09.972850",
     "status": "completed"
    },
    "tags": []
   },
   "source": [
    "# Overall"
   ]
  },
  {
   "cell_type": "markdown",
   "id": "bdee4871",
   "metadata": {
    "papermill": {
     "duration": 0.012532,
     "end_time": "2025-07-22T09:16:10.011365",
     "exception": false,
     "start_time": "2025-07-22T09:16:09.998833",
     "status": "completed"
    },
    "tags": []
   },
   "source": [
    "Fairness\n",
    "Main fairness target: Equalized Odds. Seems to be a better fit than equal opportunity, since we're not only interested in Y = 1. Seems to be a better fit than demographic parity, since we also care about accuracy, not just equal distribution of preds.\n",
    "\n",
    "Pick column for computation of fairness metrics\n",
    "\n",
    "Performance\n",
    "Overall performance measures, most interesting in relation to the measures split by group below"
   ]
  },
  {
   "cell_type": "code",
   "execution_count": 56,
   "id": "c4e067c6",
   "metadata": {
    "execution": {
     "iopub.execute_input": "2025-07-22T09:16:10.045202Z",
     "iopub.status.busy": "2025-07-22T09:16:10.044387Z",
     "iopub.status.idle": "2025-07-22T09:16:10.053836Z",
     "shell.execute_reply": "2025-07-22T09:16:10.052678Z"
    },
    "papermill": {
     "duration": 0.032497,
     "end_time": "2025-07-22T09:16:10.055706",
     "exception": false,
     "start_time": "2025-07-22T09:16:10.023209",
     "status": "completed"
    },
    "tags": []
   },
   "outputs": [
    {
     "data": {
      "text/plain": [
       "accuracy                   0.225582\n",
       "balanced accuracy          0.551327\n",
       "f1                         0.246881\n",
       "precision                  0.141035\n",
       "false positive rate        0.886832\n",
       "false negative rate        0.010514\n",
       "selection rate             0.900000\n",
       "count                  89710.000000\n",
       "dtype: float64"
      ]
     },
     "execution_count": 56,
     "metadata": {},
     "output_type": "execute_result"
    }
   ],
   "source": [
    "metric_frame.overall"
   ]
  },
  {
   "cell_type": "markdown",
   "id": "e968fe9d",
   "metadata": {
    "papermill": {
     "duration": 0.023803,
     "end_time": "2025-07-22T09:16:10.103381",
     "exception": false,
     "start_time": "2025-07-22T09:16:10.079578",
     "status": "completed"
    },
    "tags": []
   },
   "source": [
    "By Group"
   ]
  },
  {
   "cell_type": "code",
   "execution_count": 57,
   "id": "ec325bce",
   "metadata": {
    "execution": {
     "iopub.execute_input": "2025-07-22T09:16:10.153948Z",
     "iopub.status.busy": "2025-07-22T09:16:10.153439Z",
     "iopub.status.idle": "2025-07-22T09:16:10.171750Z",
     "shell.execute_reply": "2025-07-22T09:16:10.170684Z"
    },
    "papermill": {
     "duration": 0.05252,
     "end_time": "2025-07-22T09:16:10.180129",
     "exception": false,
     "start_time": "2025-07-22T09:16:10.127609",
     "status": "completed"
    },
    "tags": []
   },
   "outputs": [
    {
     "data": {
      "text/html": [
       "<div>\n",
       "<style scoped>\n",
       "    .dataframe tbody tr th:only-of-type {\n",
       "        vertical-align: middle;\n",
       "    }\n",
       "\n",
       "    .dataframe tbody tr th {\n",
       "        vertical-align: top;\n",
       "    }\n",
       "\n",
       "    .dataframe thead th {\n",
       "        text-align: right;\n",
       "    }\n",
       "</style>\n",
       "<table border=\"1\" class=\"dataframe\">\n",
       "  <thead>\n",
       "    <tr style=\"text-align: right;\">\n",
       "      <th></th>\n",
       "      <th>accuracy</th>\n",
       "      <th>balanced accuracy</th>\n",
       "      <th>f1</th>\n",
       "      <th>precision</th>\n",
       "      <th>false positive rate</th>\n",
       "      <th>false negative rate</th>\n",
       "      <th>selection rate</th>\n",
       "      <th>count</th>\n",
       "    </tr>\n",
       "    <tr>\n",
       "      <th>majmin</th>\n",
       "      <th></th>\n",
       "      <th></th>\n",
       "      <th></th>\n",
       "      <th></th>\n",
       "      <th></th>\n",
       "      <th></th>\n",
       "      <th></th>\n",
       "      <th></th>\n",
       "    </tr>\n",
       "  </thead>\n",
       "  <tbody>\n",
       "    <tr>\n",
       "      <th>majority</th>\n",
       "      <td>0.247781</td>\n",
       "      <td>0.561848</td>\n",
       "      <td>0.257813</td>\n",
       "      <td>0.148233</td>\n",
       "      <td>0.865034</td>\n",
       "      <td>0.011269</td>\n",
       "      <td>0.881379</td>\n",
       "      <td>69170.0</td>\n",
       "    </tr>\n",
       "    <tr>\n",
       "      <th>minority</th>\n",
       "      <td>0.150828</td>\n",
       "      <td>0.516780</td>\n",
       "      <td>0.212266</td>\n",
       "      <td>0.118843</td>\n",
       "      <td>0.958838</td>\n",
       "      <td>0.007601</td>\n",
       "      <td>0.962707</td>\n",
       "      <td>20540.0</td>\n",
       "    </tr>\n",
       "  </tbody>\n",
       "</table>\n",
       "</div>"
      ],
      "text/plain": [
       "          accuracy  balanced accuracy        f1  precision  \\\n",
       "majmin                                                       \n",
       "majority  0.247781           0.561848  0.257813   0.148233   \n",
       "minority  0.150828           0.516780  0.212266   0.118843   \n",
       "\n",
       "          false positive rate  false negative rate  selection rate    count  \n",
       "majmin                                                                       \n",
       "majority             0.865034             0.011269        0.881379  69170.0  \n",
       "minority             0.958838             0.007601        0.962707  20540.0  "
      ]
     },
     "execution_count": 57,
     "metadata": {},
     "output_type": "execute_result"
    }
   ],
   "source": [
    "metric_frame.by_group"
   ]
  },
  {
   "cell_type": "code",
   "execution_count": 58,
   "id": "a9ddbe63",
   "metadata": {
    "execution": {
     "iopub.execute_input": "2025-07-22T09:16:10.234538Z",
     "iopub.status.busy": "2025-07-22T09:16:10.233490Z",
     "iopub.status.idle": "2025-07-22T09:16:12.798379Z",
     "shell.execute_reply": "2025-07-22T09:16:12.797544Z"
    },
    "papermill": {
     "duration": 2.592213,
     "end_time": "2025-07-22T09:16:12.799946",
     "exception": false,
     "start_time": "2025-07-22T09:16:10.207733",
     "status": "completed"
    },
    "tags": []
   },
   "outputs": [
    {
     "data": {
      "text/plain": [
       "array([[<Axes: title={'center': 'accuracy'}, xlabel='majmin'>,\n",
       "        <Axes: title={'center': 'balanced accuracy'}, xlabel='majmin'>,\n",
       "        <Axes: title={'center': 'f1'}, xlabel='majmin'>],\n",
       "       [<Axes: title={'center': 'precision'}, xlabel='majmin'>,\n",
       "        <Axes: title={'center': 'false positive rate'}, xlabel='majmin'>,\n",
       "        <Axes: title={'center': 'false negative rate'}, xlabel='majmin'>],\n",
       "       [<Axes: title={'center': 'selection rate'}, xlabel='majmin'>,\n",
       "        <Axes: title={'center': 'count'}, xlabel='majmin'>,\n",
       "        <Axes: xlabel='majmin'>]], dtype=object)"
      ]
     },
     "execution_count": 58,
     "metadata": {},
     "output_type": "execute_result"
    },
    {
     "data": {
      "image/png": "[encoded data removed]",
      "text/plain": [
       "<Figure size 1200x800 with 9 Axes>"
      ]
     },
     "metadata": {},
     "output_type": "display_data"
    }
   ],
   "source": [
    "# In a graphic\n",
    "metric_frame.by_group.plot.bar(\n",
    "    subplots=True,\n",
    "    layout=[3, 3],\n",
    "    legend=False,\n",
    "    figsize=[12, 8],\n",
    "    title=\"Show all metrics\",\n",
    ")"
   ]
  },
  {
   "cell_type": "markdown",
   "id": "f57a0bac",
   "metadata": {
    "papermill": {
     "duration": 0.026502,
     "end_time": "2025-07-22T09:16:12.853296",
     "exception": false,
     "start_time": "2025-07-22T09:16:12.826794",
     "status": "completed"
    },
    "tags": []
   },
   "source": [
    "# Final Output"
   ]
  },
  {
   "cell_type": "code",
   "execution_count": 59,
   "id": "96d280a3",
   "metadata": {
    "execution": {
     "iopub.execute_input": "2025-07-22T09:16:12.902284Z",
     "iopub.status.busy": "2025-07-22T09:16:12.901639Z",
     "iopub.status.idle": "2025-07-22T09:16:12.910805Z",
     "shell.execute_reply": "2025-07-22T09:16:12.909676Z"
    },
    "papermill": {
     "duration": 0.033975,
     "end_time": "2025-07-22T09:16:12.912483",
     "exception": false,
     "start_time": "2025-07-22T09:16:12.878508",
     "status": "completed"
    },
    "tags": []
   },
   "outputs": [
    {
     "data": {
      "text/plain": [
       "4"
      ]
     },
     "execution_count": 59,
     "metadata": {},
     "output_type": "execute_result"
    }
   ],
   "source": [
    "sub_universes = universe_analysis.generate_sub_universes()\n",
    "len(sub_universes)"
   ]
  },
  {
   "cell_type": "code",
   "execution_count": 60,
   "id": "92adf7ba",
   "metadata": {
    "execution": {
     "iopub.execute_input": "2025-07-22T09:16:12.959960Z",
     "iopub.status.busy": "2025-07-22T09:16:12.959501Z",
     "iopub.status.idle": "2025-07-22T09:16:12.965702Z",
     "shell.execute_reply": "2025-07-22T09:16:12.964526Z"
    },
    "papermill": {
     "duration": 0.032565,
     "end_time": "2025-07-22T09:16:12.967710",
     "exception": false,
     "start_time": "2025-07-22T09:16:12.935145",
     "status": "completed"
    },
    "tags": []
   },
   "outputs": [],
   "source": [
    "def filter_sub_universe_data(sub_universe, org_test):\n",
    "    # Keep all rows — no filtering\n",
    "    keep_rows_mask = np.ones(org_test.shape[0], dtype=bool)\n",
    "\n",
    "    print(f\"[INFO] Keeping all rows: {keep_rows_mask.sum()} rows retained.\")\n",
    "    return keep_rows_mask"
   ]
  },
  {
   "cell_type": "code",
   "execution_count": 61,
   "id": "4a759155",
   "metadata": {
    "execution": {
     "iopub.execute_input": "2025-07-22T09:16:13.015934Z",
     "iopub.status.busy": "2025-07-22T09:16:13.015147Z",
     "iopub.status.idle": "2025-07-22T09:16:24.337376Z",
     "shell.execute_reply": "2025-07-22T09:16:24.336396Z"
    },
    "papermill": {
     "duration": 11.347452,
     "end_time": "2025-07-22T09:16:24.338950",
     "exception": false,
     "start_time": "2025-07-22T09:16:12.991498",
     "status": "completed"
    },
    "tags": []
   },
   "outputs": [
    {
     "name": "stdout",
     "output_type": "stream",
     "text": [
      "Stopping execution_time clock.\n",
      "[INFO] Keeping all rows: 89710 rows retained.\n"
     ]
    },
    {
     "name": "stdout",
     "output_type": "stream",
     "text": [
      "[INFO] Keeping all rows: 89710 rows retained.\n"
     ]
    },
    {
     "name": "stdout",
     "output_type": "stream",
     "text": [
      "[INFO] Keeping all rows: 89710 rows retained.\n"
     ]
    },
    {
     "name": "stdout",
     "output_type": "stream",
     "text": [
      "[INFO] Keeping all rows: 89710 rows retained.\n"
     ]
    },
    {
     "data": {
      "text/html": [
       "<div>\n",
       "<style scoped>\n",
       "    .dataframe tbody tr th:only-of-type {\n",
       "        vertical-align: middle;\n",
       "    }\n",
       "\n",
       "    .dataframe tbody tr th {\n",
       "        vertical-align: top;\n",
       "    }\n",
       "\n",
       "    .dataframe thead th {\n",
       "        text-align: right;\n",
       "    }\n",
       "</style>\n",
       "<table border=\"1\" class=\"dataframe\">\n",
       "  <thead>\n",
       "    <tr style=\"text-align: right;\">\n",
       "      <th></th>\n",
       "      <th>run_no</th>\n",
       "      <th>universe_id</th>\n",
       "      <th>universe_settings</th>\n",
       "      <th>execution_time</th>\n",
       "      <th>test_size_n</th>\n",
       "      <th>test_size_frac</th>\n",
       "      <th>fair_main_equalized_odds_difference</th>\n",
       "      <th>fair_main_equalized_odds_ratio</th>\n",
       "      <th>fair_main_demographic_parity_difference</th>\n",
       "      <th>fair_main_demographic_parity_ratio</th>\n",
       "      <th>...</th>\n",
       "      <th>perf_grp_precision_0</th>\n",
       "      <th>perf_grp_precision_1</th>\n",
       "      <th>perf_grp_false positive rate_0</th>\n",
       "      <th>perf_grp_false positive rate_1</th>\n",
       "      <th>perf_grp_false negative rate_0</th>\n",
       "      <th>perf_grp_false negative rate_1</th>\n",
       "      <th>perf_grp_selection rate_0</th>\n",
       "      <th>perf_grp_selection rate_1</th>\n",
       "      <th>perf_grp_count_0</th>\n",
       "      <th>perf_grp_count_1</th>\n",
       "    </tr>\n",
       "  </thead>\n",
       "  <tbody>\n",
       "    <tr>\n",
       "      <th>0</th>\n",
       "      <td>3</td>\n",
       "      <td>5aba2455e97ad4a95af70f85f554e8a5</td>\n",
       "      <td>{\"cutoff\": \"quantile_0.1\", \"eval_fairness_grou...</td>\n",
       "      <td>41.733546</td>\n",
       "      <td>89710</td>\n",
       "      <td>1.0</td>\n",
       "      <td>0.093804</td>\n",
       "      <td>0.902169</td>\n",
       "      <td>0.081328</td>\n",
       "      <td>0.915522</td>\n",
       "      <td>...</td>\n",
       "      <td>NaN</td>\n",
       "      <td>NaN</td>\n",
       "      <td>NaN</td>\n",
       "      <td>NaN</td>\n",
       "      <td>NaN</td>\n",
       "      <td>NaN</td>\n",
       "      <td>NaN</td>\n",
       "      <td>NaN</td>\n",
       "      <td>NaN</td>\n",
       "      <td>NaN</td>\n",
       "    </tr>\n",
       "    <tr>\n",
       "      <th>0</th>\n",
       "      <td>3</td>\n",
       "      <td>5aba2455e97ad4a95af70f85f554e8a5</td>\n",
       "      <td>{\"cutoff\": \"quantile_0.1\", \"eval_fairness_grou...</td>\n",
       "      <td>41.733546</td>\n",
       "      <td>89710</td>\n",
       "      <td>1.0</td>\n",
       "      <td>0.093804</td>\n",
       "      <td>0.902169</td>\n",
       "      <td>0.081328</td>\n",
       "      <td>0.915522</td>\n",
       "      <td>...</td>\n",
       "      <td>0.118843</td>\n",
       "      <td>0.148233</td>\n",
       "      <td>0.958838</td>\n",
       "      <td>0.865034</td>\n",
       "      <td>0.007601</td>\n",
       "      <td>0.011269</td>\n",
       "      <td>0.962707</td>\n",
       "      <td>0.881379</td>\n",
       "      <td>20540.0</td>\n",
       "      <td>69170.0</td>\n",
       "    </tr>\n",
       "    <tr>\n",
       "      <th>0</th>\n",
       "      <td>3</td>\n",
       "      <td>5aba2455e97ad4a95af70f85f554e8a5</td>\n",
       "      <td>{\"cutoff\": \"quantile_0.25\", \"eval_fairness_gro...</td>\n",
       "      <td>41.733546</td>\n",
       "      <td>89710</td>\n",
       "      <td>1.0</td>\n",
       "      <td>0.165952</td>\n",
       "      <td>0.804228</td>\n",
       "      <td>0.143909</td>\n",
       "      <td>0.832849</td>\n",
       "      <td>...</td>\n",
       "      <td>NaN</td>\n",
       "      <td>NaN</td>\n",
       "      <td>NaN</td>\n",
       "      <td>NaN</td>\n",
       "      <td>NaN</td>\n",
       "      <td>NaN</td>\n",
       "      <td>NaN</td>\n",
       "      <td>NaN</td>\n",
       "      <td>NaN</td>\n",
       "      <td>NaN</td>\n",
       "    </tr>\n",
       "    <tr>\n",
       "      <th>0</th>\n",
       "      <td>3</td>\n",
       "      <td>5aba2455e97ad4a95af70f85f554e8a5</td>\n",
       "      <td>{\"cutoff\": \"quantile_0.25\", \"eval_fairness_gro...</td>\n",
       "      <td>41.733546</td>\n",
       "      <td>89710</td>\n",
       "      <td>1.0</td>\n",
       "      <td>0.165952</td>\n",
       "      <td>0.804228</td>\n",
       "      <td>0.143909</td>\n",
       "      <td>0.832849</td>\n",
       "      <td>...</td>\n",
       "      <td>0.128930</td>\n",
       "      <td>0.174886</td>\n",
       "      <td>0.847678</td>\n",
       "      <td>0.681726</td>\n",
       "      <td>0.037162</td>\n",
       "      <td>0.050985</td>\n",
       "      <td>0.860954</td>\n",
       "      <td>0.717045</td>\n",
       "      <td>20540.0</td>\n",
       "      <td>69170.0</td>\n",
       "    </tr>\n",
       "  </tbody>\n",
       "</table>\n",
       "<p>4 rows × 50 columns</p>\n",
       "</div>"
      ],
      "text/plain": [
       "  run_no                       universe_id  \\\n",
       "0      3  5aba2455e97ad4a95af70f85f554e8a5   \n",
       "0      3  5aba2455e97ad4a95af70f85f554e8a5   \n",
       "0      3  5aba2455e97ad4a95af70f85f554e8a5   \n",
       "0      3  5aba2455e97ad4a95af70f85f554e8a5   \n",
       "\n",
       "                                   universe_settings  execution_time  \\\n",
       "0  {\"cutoff\": \"quantile_0.1\", \"eval_fairness_grou...       41.733546   \n",
       "0  {\"cutoff\": \"quantile_0.1\", \"eval_fairness_grou...       41.733546   \n",
       "0  {\"cutoff\": \"quantile_0.25\", \"eval_fairness_gro...       41.733546   \n",
       "0  {\"cutoff\": \"quantile_0.25\", \"eval_fairness_gro...       41.733546   \n",
       "\n",
       "   test_size_n  test_size_frac  fair_main_equalized_odds_difference  \\\n",
       "0        89710             1.0                             0.093804   \n",
       "0        89710             1.0                             0.093804   \n",
       "0        89710             1.0                             0.165952   \n",
       "0        89710             1.0                             0.165952   \n",
       "\n",
       "   fair_main_equalized_odds_ratio  fair_main_demographic_parity_difference  \\\n",
       "0                        0.902169                                 0.081328   \n",
       "0                        0.902169                                 0.081328   \n",
       "0                        0.804228                                 0.143909   \n",
       "0                        0.804228                                 0.143909   \n",
       "\n",
       "   fair_main_demographic_parity_ratio  ...  perf_grp_precision_0  \\\n",
       "0                            0.915522  ...                   NaN   \n",
       "0                            0.915522  ...              0.118843   \n",
       "0                            0.832849  ...                   NaN   \n",
       "0                            0.832849  ...              0.128930   \n",
       "\n",
       "   perf_grp_precision_1  perf_grp_false positive rate_0  \\\n",
       "0                   NaN                             NaN   \n",
       "0              0.148233                        0.958838   \n",
       "0                   NaN                             NaN   \n",
       "0              0.174886                        0.847678   \n",
       "\n",
       "   perf_grp_false positive rate_1  perf_grp_false negative rate_0  \\\n",
       "0                             NaN                             NaN   \n",
       "0                        0.865034                        0.007601   \n",
       "0                             NaN                             NaN   \n",
       "0                        0.681726                        0.037162   \n",
       "\n",
       "   perf_grp_false negative rate_1  perf_grp_selection rate_0  \\\n",
       "0                             NaN                        NaN   \n",
       "0                        0.011269                   0.962707   \n",
       "0                             NaN                        NaN   \n",
       "0                        0.050985                   0.860954   \n",
       "\n",
       "   perf_grp_selection rate_1  perf_grp_count_0  perf_grp_count_1  \n",
       "0                        NaN               NaN               NaN  \n",
       "0                   0.881379           20540.0           69170.0  \n",
       "0                        NaN               NaN               NaN  \n",
       "0                   0.717045           20540.0           69170.0  \n",
       "\n",
       "[4 rows x 50 columns]"
      ]
     },
     "execution_count": 61,
     "metadata": {},
     "output_type": "execute_result"
    }
   ],
   "source": [
    "final_output = universe_analysis.generate_final_output(\n",
    "    y_pred_prob=probs_test,\n",
    "    y_test=y_true,\n",
    "    org_test=org_test,\n",
    "    filter_data=filter_sub_universe_data,\n",
    "    cp_metrics_df=cp_metrics_df,\n",
    "    save=True,\n",
    ")\n",
    "final_output"
   ]
  },
  {
   "cell_type": "code",
   "execution_count": null,
   "id": "721ff514-cb11-46f8-b6fc-50392f74b5cb",
   "metadata": {
    "papermill": {
     "duration": 0.022153,
     "end_time": "2025-07-22T09:16:24.388051",
     "exception": false,
     "start_time": "2025-07-22T09:16:24.365898",
     "status": "completed"
    },
    "tags": []
   },
   "outputs": [],
   "source": []
  }
 ],
 "metadata": {
  "celltoolbar": "Tags",
  "kernelspec": {
   "display_name": "Python (CMA Fairness)",
   "language": "python",
   "name": "cma_fair_env"
  },
  "language_info": {
   "codemirror_mode": {
    "name": "ipython",
    "version": 3
   },
   "file_extension": ".py",
   "mimetype": "text/x-python",
   "name": "python",
   "nbconvert_exporter": "python",
   "pygments_lexer": "ipython3",
   "version": "3.10.12"
  },
  "papermill": {
   "default_parameters": {},
   "duration": 56.84589,
   "end_time": "2025-07-22T09:16:25.028458",
   "environment_variables": {},
   "exception": null,
   "input_path": "universe_analysis.ipynb",
   "output_path": "output/runs/3/notebooks/m_3-5aba2455e97ad4a95af70f85f554e8a5.ipynb",
   "parameters": {
    "output_dir": "output",
    "run_no": "3",
    "seed": "2023",
    "universe": "{\"cutoff\": [\"quantile_0.1\", \"quantile_0.25\"], \"eval_fairness_grouping\": [\"majority-minority\", \"nationality-all\"], \"exclude_features\": \"sex\", \"exclude_subgroups\": \"keep-all\", \"model\": \"elasticnet\", \"scale\": \"scale\"}",
    "universe_id": "5aba2455e97ad4a95af70f85f554e8a5"
   },
   "start_time": "2025-07-22T09:15:28.182568",
   "version": "2.6.0"
  }
 },
 "nbformat": 4,
 "nbformat_minor": 5
}