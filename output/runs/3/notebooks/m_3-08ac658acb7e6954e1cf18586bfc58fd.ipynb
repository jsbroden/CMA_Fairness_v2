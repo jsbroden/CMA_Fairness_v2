{
 "cells": [
  {
   "cell_type": "markdown",
   "id": "ef23dbb3",
   "metadata": {
    "papermill": {
     "duration": 0.011713,
     "end_time": "2025-08-19T18:30:19.039900",
     "exception": false,
     "start_time": "2025-08-19T18:30:19.028187",
     "status": "completed"
    },
    "tags": []
   },
   "source": [
    "# Setup"
   ]
  },
  {
   "cell_type": "code",
   "execution_count": 1,
   "id": "0bc8e7dc",
   "metadata": {
    "execution": {
     "iopub.execute_input": "2025-08-19T18:30:19.060285Z",
     "iopub.status.busy": "2025-08-19T18:30:19.059581Z",
     "iopub.status.idle": "2025-08-19T18:30:19.079938Z",
     "shell.execute_reply": "2025-08-19T18:30:19.078863Z"
    },
    "papermill": {
     "duration": 0.035454,
     "end_time": "2025-08-19T18:30:19.084520",
     "exception": false,
     "start_time": "2025-08-19T18:30:19.049066",
     "status": "completed"
    },
    "tags": []
   },
   "outputs": [
    {
     "name": "stdout",
     "output_type": "stream",
     "text": [
      "/dss/dsshome1/0C/ra93lal2/cma/CMA_Fairness_v2\n"
     ]
    },
    {
     "name": "stderr",
     "output_type": "stream",
     "text": [
      "/dss/dsshome1/0C/ra93lal2/.local/share/virtualenvs/CMA_Fairness_v2-3j10GkSs/lib/python3.10/site-packages/IPython/core/magics/osm.py:393: UserWarning: This is now an optional IPython functionality, using bookmarks requires you to install the `pickleshare` library.\n",
      "  bkms = self.shell.db.get('bookmarks', {})\n",
      "/dss/dsshome1/0C/ra93lal2/.local/share/virtualenvs/CMA_Fairness_v2-3j10GkSs/lib/python3.10/site-packages/IPython/core/magics/osm.py:417: UserWarning: This is now an optional IPython functionality, setting dhist requires you to install the `pickleshare` library.\n",
      "  self.shell.db['dhist'] = compress_dhist(dhist)[-100:]\n"
     ]
    }
   ],
   "source": [
    "%cd ~/cma/CMA_Fairness_v2"
   ]
  },
  {
   "cell_type": "markdown",
   "id": "9d235661",
   "metadata": {
    "papermill": {
     "duration": 0.010935,
     "end_time": "2025-08-19T18:30:19.108567",
     "exception": false,
     "start_time": "2025-08-19T18:30:19.097632",
     "status": "completed"
    },
    "tags": []
   },
   "source": [
    "The following cell holds the definition of our parameters, these values can be overriden by rendering the with e.g. the following command:\n",
    "\n",
    "papermill -p alpha 0.2 -p ratio 0.3 universe_analysis.ipynb output/test_run.ipynb"
   ]
  },
  {
   "cell_type": "code",
   "execution_count": 2,
   "id": "4a789d8e",
   "metadata": {
    "execution": {
     "iopub.execute_input": "2025-08-19T18:30:19.128238Z",
     "iopub.status.busy": "2025-08-19T18:30:19.127224Z",
     "iopub.status.idle": "2025-08-19T18:30:19.133971Z",
     "shell.execute_reply": "2025-08-19T18:30:19.132720Z"
    },
    "papermill": {
     "duration": 0.017819,
     "end_time": "2025-08-19T18:30:19.135340",
     "exception": false,
     "start_time": "2025-08-19T18:30:19.117521",
     "status": "completed"
    },
    "tags": []
   },
   "outputs": [
    {
     "name": "stdout",
     "output_type": "stream",
     "text": [
      "Current working directory: /dss/dsshome1/0C/ra93lal2/cma/CMA_Fairness_v2\n"
     ]
    }
   ],
   "source": [
    "import os\n",
    "print(\"Current working directory:\", os.getcwd())"
   ]
  },
  {
   "cell_type": "code",
   "execution_count": 3,
   "id": "4132aaed",
   "metadata": {
    "execution": {
     "iopub.execute_input": "2025-08-19T18:30:19.157231Z",
     "iopub.status.busy": "2025-08-19T18:30:19.156205Z",
     "iopub.status.idle": "2025-08-19T18:30:19.226228Z",
     "shell.execute_reply": "2025-08-19T18:30:19.225389Z"
    },
    "papermill": {
     "duration": 0.083707,
     "end_time": "2025-08-19T18:30:19.229234",
     "exception": false,
     "start_time": "2025-08-19T18:30:19.145527",
     "status": "completed"
    },
    "tags": [
     "parameters"
    ]
   },
   "outputs": [],
   "source": [
    "run_no = 0\n",
    "universe_id = \"test\"\n",
    "universe = {\n",
    "    \"training_size\": \"5k\", # \"25k\", \"5k\", \"1k\"\n",
    "    \"training_year\": \"2012_14\", # \"2014\", \"2012_14\", \"2010_14\"\n",
    "    \"scale\": \"scale\", # \"scale\", \"do-not-scale\",\n",
    "    \"model\": \"elasticnet\", # \"logreg\", \"penalized_logreg\", \"rf\", \"gbm\", \"elasticnet\"\n",
    "    \"cutoff\": [\"quantile_0.15\", \"quantile_0.30\"],\n",
    "    \"exclude_features\": \"age\", # \"none\", \"nationality\", \"sex\", \"nationality-sex\", \"age\"\n",
    "    \"exclude_subgroups\": \"drop-non-german\", # \"keep-all\", \"drop-non-german\"\n",
    "    \"eval_fairness_grouping\": [\"majority-minority\", \"nationality-all\"]\n",
    "}\n",
    "\n",
    "output_dir=\"./output\"\n",
    "seed=0"
   ]
  },
  {
   "cell_type": "code",
   "execution_count": 4,
   "id": "53274c78",
   "metadata": {
    "execution": {
     "iopub.execute_input": "2025-08-19T18:30:19.257923Z",
     "iopub.status.busy": "2025-08-19T18:30:19.257554Z",
     "iopub.status.idle": "2025-08-19T18:30:19.296771Z",
     "shell.execute_reply": "2025-08-19T18:30:19.295819Z"
    },
    "papermill": {
     "duration": 0.052899,
     "end_time": "2025-08-19T18:30:19.299754",
     "exception": false,
     "start_time": "2025-08-19T18:30:19.246855",
     "status": "completed"
    },
    "tags": [
     "injected-parameters"
    ]
   },
   "outputs": [],
   "source": [
    "# Parameters\n",
    "universe_id = \"08ac658acb7e6954e1cf18586bfc58fd\"\n",
    "run_no = \"3\"\n",
    "universe = \"{\\\"cutoff\\\": [\\\"quantile_0.1\\\", \\\"quantile_0.25\\\"], \\\"eval_fairness_grouping\\\": [\\\"majority-minority\\\", \\\"nationality-all\\\"], \\\"exclude_features\\\": \\\"nationality\\\", \\\"exclude_subgroups\\\": \\\"drop-non-german\\\", \\\"model\\\": \\\"elasticnet\\\", \\\"scale\\\": \\\"do-not-scale\\\", \\\"training_size\\\": \\\"5k\\\", \\\"training_year\\\": \\\"2014\\\"}\"\n",
    "output_dir = \"output\"\n",
    "seed = \"2023\"\n"
   ]
  },
  {
   "cell_type": "code",
   "execution_count": 5,
   "id": "a5d7941f",
   "metadata": {
    "execution": {
     "iopub.execute_input": "2025-08-19T18:30:19.336168Z",
     "iopub.status.busy": "2025-08-19T18:30:19.335194Z",
     "iopub.status.idle": "2025-08-19T18:30:19.342775Z",
     "shell.execute_reply": "2025-08-19T18:30:19.341387Z"
    },
    "papermill": {
     "duration": 0.023472,
     "end_time": "2025-08-19T18:30:19.344966",
     "exception": false,
     "start_time": "2025-08-19T18:30:19.321494",
     "status": "completed"
    },
    "tags": []
   },
   "outputs": [],
   "source": [
    "import json\n",
    "if isinstance(universe, str):\n",
    "    universe = json.loads(universe)"
   ]
  },
  {
   "cell_type": "code",
   "execution_count": 6,
   "id": "7076ccb1",
   "metadata": {
    "execution": {
     "iopub.execute_input": "2025-08-19T18:30:19.367321Z",
     "iopub.status.busy": "2025-08-19T18:30:19.366252Z",
     "iopub.status.idle": "2025-08-19T18:30:19.450666Z",
     "shell.execute_reply": "2025-08-19T18:30:19.449756Z"
    },
    "papermill": {
     "duration": 0.098033,
     "end_time": "2025-08-19T18:30:19.452223",
     "exception": false,
     "start_time": "2025-08-19T18:30:19.354190",
     "status": "completed"
    },
    "tags": []
   },
   "outputs": [],
   "source": [
    "# Auto-reload the custom package\n",
    "%load_ext autoreload\n",
    "%autoreload 1\n",
    "%aimport fairness_multiverse"
   ]
  },
  {
   "cell_type": "code",
   "execution_count": 7,
   "id": "94c8eb93",
   "metadata": {
    "execution": {
     "iopub.execute_input": "2025-08-19T18:30:19.472763Z",
     "iopub.status.busy": "2025-08-19T18:30:19.471832Z",
     "iopub.status.idle": "2025-08-19T18:30:21.238372Z",
     "shell.execute_reply": "2025-08-19T18:30:21.237500Z"
    },
    "papermill": {
     "duration": 1.778407,
     "end_time": "2025-08-19T18:30:21.240046",
     "exception": false,
     "start_time": "2025-08-19T18:30:19.461639",
     "status": "completed"
    },
    "tags": []
   },
   "outputs": [],
   "source": [
    "from fairness_multiverse.universe import UniverseAnalysis\n",
    "\n",
    "universe_analysis = UniverseAnalysis(\n",
    "    run_no = run_no,\n",
    "    universe_id = universe_id,\n",
    "    universe = universe,\n",
    "    output_dir=output_dir,\n",
    ")"
   ]
  },
  {
   "cell_type": "code",
   "execution_count": 8,
   "id": "2a6381cf",
   "metadata": {
    "execution": {
     "iopub.execute_input": "2025-08-19T18:30:21.264639Z",
     "iopub.status.busy": "2025-08-19T18:30:21.263875Z",
     "iopub.status.idle": "2025-08-19T18:30:21.274825Z",
     "shell.execute_reply": "2025-08-19T18:30:21.273701Z"
    },
    "papermill": {
     "duration": 0.023503,
     "end_time": "2025-08-19T18:30:21.276823",
     "exception": false,
     "start_time": "2025-08-19T18:30:21.253320",
     "status": "completed"
    },
    "tags": []
   },
   "outputs": [
    {
     "name": "stdout",
     "output_type": "stream",
     "text": [
      "Using Seed: 2023\n"
     ]
    }
   ],
   "source": [
    "import numpy as np\n",
    "parsed_seed = int(seed)\n",
    "np.random.seed(parsed_seed)\n",
    "print(f\"Using Seed: {parsed_seed}\")"
   ]
  },
  {
   "cell_type": "markdown",
   "id": "b6e958b4",
   "metadata": {
    "papermill": {
     "duration": 0.009774,
     "end_time": "2025-08-19T18:30:21.299302",
     "exception": false,
     "start_time": "2025-08-19T18:30:21.289528",
     "status": "completed"
    },
    "tags": []
   },
   "source": [
    "# Loading Data"
   ]
  },
  {
   "cell_type": "code",
   "execution_count": 9,
   "id": "98701482",
   "metadata": {
    "execution": {
     "iopub.execute_input": "2025-08-19T18:30:21.320293Z",
     "iopub.status.busy": "2025-08-19T18:30:21.318926Z",
     "iopub.status.idle": "2025-08-19T18:30:31.812818Z",
     "shell.execute_reply": "2025-08-19T18:30:31.811019Z"
    },
    "papermill": {
     "duration": 10.505845,
     "end_time": "2025-08-19T18:30:31.814164",
     "exception": false,
     "start_time": "2025-08-19T18:30:21.308319",
     "status": "completed"
    },
    "tags": []
   },
   "outputs": [
    {
     "name": "stdout",
     "output_type": "stream",
     "text": [
      "Loading SIAB data from cache: data/siab_cached.csv.gz\n"
     ]
    },
    {
     "name": "stdout",
     "output_type": "stream",
     "text": [
      "(643690, 164)\n"
     ]
    }
   ],
   "source": [
    "from pathlib import Path\n",
    "import pandas as pd\n",
    "\n",
    "# File paths\n",
    "raw_file = Path(\"data/raw/siab.csv\")\n",
    "cache_file = Path(\"data/siab_cached.csv.gz\")\n",
    "\n",
    "# Ensure cache directory exists\n",
    "cache_file.parent.mkdir(parents=True, exist_ok=True)\n",
    "\n",
    "# Load with simple caching\n",
    "if cache_file.exists():\n",
    "    print(f\"Loading SIAB data from cache: {cache_file}\")\n",
    "    siab = pd.read_csv(cache_file, compression='gzip')\n",
    "else:\n",
    "    print(f\"Cache not found. Reading raw SIAB data: {raw_file}\")\n",
    "    siab = pd.read_csv(raw_file)\n",
    "    siab.to_csv(cache_file, index=False, compression='gzip')\n",
    "    print(f\"Cached SIAB data to: {cache_file}\")\n",
    "\n",
    "print(siab.shape)"
   ]
  },
  {
   "cell_type": "code",
   "execution_count": 10,
   "id": "058d2abb",
   "metadata": {
    "execution": {
     "iopub.execute_input": "2025-08-19T18:30:31.839148Z",
     "iopub.status.busy": "2025-08-19T18:30:31.837583Z",
     "iopub.status.idle": "2025-08-19T18:30:32.019740Z",
     "shell.execute_reply": "2025-08-19T18:30:32.018842Z"
    },
    "papermill": {
     "duration": 0.195934,
     "end_time": "2025-08-19T18:30:32.022445",
     "exception": false,
     "start_time": "2025-08-19T18:30:31.826511",
     "status": "completed"
    },
    "tags": []
   },
   "outputs": [
    {
     "data": {
      "text/html": [
       "<div>\n",
       "<style scoped>\n",
       "    .dataframe tbody tr th:only-of-type {\n",
       "        vertical-align: middle;\n",
       "    }\n",
       "\n",
       "    .dataframe tbody tr th {\n",
       "        vertical-align: top;\n",
       "    }\n",
       "\n",
       "    .dataframe thead th {\n",
       "        text-align: right;\n",
       "    }\n",
       "</style>\n",
       "<table border=\"1\" class=\"dataframe\">\n",
       "  <thead>\n",
       "    <tr style=\"text-align: right;\">\n",
       "      <th></th>\n",
       "      <th>persnr</th>\n",
       "      <th>year</th>\n",
       "      <th>nrEntry</th>\n",
       "      <th>ltue</th>\n",
       "      <th>employed_before</th>\n",
       "      <th>receipt_leh_before</th>\n",
       "      <th>receipt_lhg_before</th>\n",
       "      <th>se_before</th>\n",
       "      <th>ASU_notue_seeking_before</th>\n",
       "      <th>ASU_other_before</th>\n",
       "      <th>...</th>\n",
       "      <th>minijob_tot_dur_byage</th>\n",
       "      <th>ft_tot_dur_byage</th>\n",
       "      <th>befrist_tot_dur_byage</th>\n",
       "      <th>leih_tot_dur_byage</th>\n",
       "      <th>LHG_tot_dur_byage</th>\n",
       "      <th>LEH_tot_dur_byage</th>\n",
       "      <th>almp_tot_dur_byage</th>\n",
       "      <th>almp_aw_tot_dur_byage</th>\n",
       "      <th>se_tot_dur_byage</th>\n",
       "      <th>seeking1_tot_dur_byage</th>\n",
       "    </tr>\n",
       "  </thead>\n",
       "  <tbody>\n",
       "    <tr>\n",
       "      <th>0</th>\n",
       "      <td>7</td>\n",
       "      <td>2015</td>\n",
       "      <td>1</td>\n",
       "      <td>0</td>\n",
       "      <td>1</td>\n",
       "      <td>0</td>\n",
       "      <td>0</td>\n",
       "      <td>0</td>\n",
       "      <td>1</td>\n",
       "      <td>0</td>\n",
       "      <td>...</td>\n",
       "      <td>0.000000</td>\n",
       "      <td>0.000000</td>\n",
       "      <td>15.043478</td>\n",
       "      <td>0.000000</td>\n",
       "      <td>0.000000</td>\n",
       "      <td>0.000000</td>\n",
       "      <td>0.000000</td>\n",
       "      <td>0.000000</td>\n",
       "      <td>0.000000</td>\n",
       "      <td>0.000000</td>\n",
       "    </tr>\n",
       "    <tr>\n",
       "      <th>1</th>\n",
       "      <td>18</td>\n",
       "      <td>2010</td>\n",
       "      <td>1</td>\n",
       "      <td>1</td>\n",
       "      <td>0</td>\n",
       "      <td>0</td>\n",
       "      <td>0</td>\n",
       "      <td>0</td>\n",
       "      <td>0</td>\n",
       "      <td>0</td>\n",
       "      <td>...</td>\n",
       "      <td>0.000000</td>\n",
       "      <td>0.000000</td>\n",
       "      <td>0.000000</td>\n",
       "      <td>0.000000</td>\n",
       "      <td>0.000000</td>\n",
       "      <td>0.000000</td>\n",
       "      <td>0.000000</td>\n",
       "      <td>0.000000</td>\n",
       "      <td>0.000000</td>\n",
       "      <td>0.000000</td>\n",
       "    </tr>\n",
       "    <tr>\n",
       "      <th>2</th>\n",
       "      <td>18</td>\n",
       "      <td>2011</td>\n",
       "      <td>2</td>\n",
       "      <td>0</td>\n",
       "      <td>1</td>\n",
       "      <td>0</td>\n",
       "      <td>1</td>\n",
       "      <td>0</td>\n",
       "      <td>1</td>\n",
       "      <td>0</td>\n",
       "      <td>...</td>\n",
       "      <td>2.714286</td>\n",
       "      <td>2.714286</td>\n",
       "      <td>0.000000</td>\n",
       "      <td>0.000000</td>\n",
       "      <td>10.775510</td>\n",
       "      <td>0.000000</td>\n",
       "      <td>8.367347</td>\n",
       "      <td>0.000000</td>\n",
       "      <td>0.000000</td>\n",
       "      <td>9.836735</td>\n",
       "    </tr>\n",
       "    <tr>\n",
       "      <th>3</th>\n",
       "      <td>18</td>\n",
       "      <td>2012</td>\n",
       "      <td>3</td>\n",
       "      <td>0</td>\n",
       "      <td>1</td>\n",
       "      <td>0</td>\n",
       "      <td>1</td>\n",
       "      <td>0</td>\n",
       "      <td>1</td>\n",
       "      <td>0</td>\n",
       "      <td>...</td>\n",
       "      <td>4.200000</td>\n",
       "      <td>4.200000</td>\n",
       "      <td>0.000000</td>\n",
       "      <td>0.000000</td>\n",
       "      <td>12.100000</td>\n",
       "      <td>0.000000</td>\n",
       "      <td>9.400000</td>\n",
       "      <td>0.000000</td>\n",
       "      <td>0.000000</td>\n",
       "      <td>9.960000</td>\n",
       "    </tr>\n",
       "    <tr>\n",
       "      <th>4</th>\n",
       "      <td>18</td>\n",
       "      <td>2012</td>\n",
       "      <td>4</td>\n",
       "      <td>0</td>\n",
       "      <td>1</td>\n",
       "      <td>0</td>\n",
       "      <td>1</td>\n",
       "      <td>0</td>\n",
       "      <td>1</td>\n",
       "      <td>0</td>\n",
       "      <td>...</td>\n",
       "      <td>5.460000</td>\n",
       "      <td>5.460000</td>\n",
       "      <td>0.000000</td>\n",
       "      <td>0.000000</td>\n",
       "      <td>13.360000</td>\n",
       "      <td>0.000000</td>\n",
       "      <td>10.320000</td>\n",
       "      <td>0.000000</td>\n",
       "      <td>0.000000</td>\n",
       "      <td>10.280000</td>\n",
       "    </tr>\n",
       "    <tr>\n",
       "      <th>...</th>\n",
       "      <td>...</td>\n",
       "      <td>...</td>\n",
       "      <td>...</td>\n",
       "      <td>...</td>\n",
       "      <td>...</td>\n",
       "      <td>...</td>\n",
       "      <td>...</td>\n",
       "      <td>...</td>\n",
       "      <td>...</td>\n",
       "      <td>...</td>\n",
       "      <td>...</td>\n",
       "      <td>...</td>\n",
       "      <td>...</td>\n",
       "      <td>...</td>\n",
       "      <td>...</td>\n",
       "      <td>...</td>\n",
       "      <td>...</td>\n",
       "      <td>...</td>\n",
       "      <td>...</td>\n",
       "      <td>...</td>\n",
       "      <td>...</td>\n",
       "    </tr>\n",
       "    <tr>\n",
       "      <th>643685</th>\n",
       "      <td>1827860</td>\n",
       "      <td>2013</td>\n",
       "      <td>1</td>\n",
       "      <td>0</td>\n",
       "      <td>0</td>\n",
       "      <td>0</td>\n",
       "      <td>1</td>\n",
       "      <td>0</td>\n",
       "      <td>0</td>\n",
       "      <td>1</td>\n",
       "      <td>...</td>\n",
       "      <td>0.000000</td>\n",
       "      <td>0.000000</td>\n",
       "      <td>0.000000</td>\n",
       "      <td>0.000000</td>\n",
       "      <td>0.612903</td>\n",
       "      <td>0.000000</td>\n",
       "      <td>0.000000</td>\n",
       "      <td>0.000000</td>\n",
       "      <td>0.000000</td>\n",
       "      <td>0.000000</td>\n",
       "    </tr>\n",
       "    <tr>\n",
       "      <th>643686</th>\n",
       "      <td>1827860</td>\n",
       "      <td>2015</td>\n",
       "      <td>2</td>\n",
       "      <td>1</td>\n",
       "      <td>0</td>\n",
       "      <td>0</td>\n",
       "      <td>1</td>\n",
       "      <td>0</td>\n",
       "      <td>1</td>\n",
       "      <td>0</td>\n",
       "      <td>...</td>\n",
       "      <td>0.000000</td>\n",
       "      <td>0.000000</td>\n",
       "      <td>0.212121</td>\n",
       "      <td>0.212121</td>\n",
       "      <td>17.363636</td>\n",
       "      <td>0.000000</td>\n",
       "      <td>8.909091</td>\n",
       "      <td>0.000000</td>\n",
       "      <td>0.000000</td>\n",
       "      <td>7.121212</td>\n",
       "    </tr>\n",
       "    <tr>\n",
       "      <th>643687</th>\n",
       "      <td>1827860</td>\n",
       "      <td>2016</td>\n",
       "      <td>3</td>\n",
       "      <td>1</td>\n",
       "      <td>0</td>\n",
       "      <td>0</td>\n",
       "      <td>1</td>\n",
       "      <td>1</td>\n",
       "      <td>0</td>\n",
       "      <td>1</td>\n",
       "      <td>...</td>\n",
       "      <td>0.000000</td>\n",
       "      <td>0.000000</td>\n",
       "      <td>0.294118</td>\n",
       "      <td>0.205882</td>\n",
       "      <td>34.705882</td>\n",
       "      <td>0.000000</td>\n",
       "      <td>10.352941</td>\n",
       "      <td>1.705882</td>\n",
       "      <td>1.705882</td>\n",
       "      <td>23.911765</td>\n",
       "    </tr>\n",
       "    <tr>\n",
       "      <th>643688</th>\n",
       "      <td>1827869</td>\n",
       "      <td>2013</td>\n",
       "      <td>1</td>\n",
       "      <td>1</td>\n",
       "      <td>1</td>\n",
       "      <td>0</td>\n",
       "      <td>0</td>\n",
       "      <td>0</td>\n",
       "      <td>1</td>\n",
       "      <td>0</td>\n",
       "      <td>...</td>\n",
       "      <td>0.000000</td>\n",
       "      <td>0.000000</td>\n",
       "      <td>0.000000</td>\n",
       "      <td>0.000000</td>\n",
       "      <td>0.000000</td>\n",
       "      <td>0.525424</td>\n",
       "      <td>0.000000</td>\n",
       "      <td>0.000000</td>\n",
       "      <td>0.000000</td>\n",
       "      <td>0.000000</td>\n",
       "    </tr>\n",
       "    <tr>\n",
       "      <th>643689</th>\n",
       "      <td>1827869</td>\n",
       "      <td>2014</td>\n",
       "      <td>2</td>\n",
       "      <td>0</td>\n",
       "      <td>0</td>\n",
       "      <td>1</td>\n",
       "      <td>0</td>\n",
       "      <td>0</td>\n",
       "      <td>1</td>\n",
       "      <td>0</td>\n",
       "      <td>...</td>\n",
       "      <td>0.000000</td>\n",
       "      <td>0.666667</td>\n",
       "      <td>0.666667</td>\n",
       "      <td>0.000000</td>\n",
       "      <td>0.000000</td>\n",
       "      <td>8.950000</td>\n",
       "      <td>1.033333</td>\n",
       "      <td>0.083333</td>\n",
       "      <td>0.083333</td>\n",
       "      <td>8.133333</td>\n",
       "    </tr>\n",
       "  </tbody>\n",
       "</table>\n",
       "<p>643690 rows × 164 columns</p>\n",
       "</div>"
      ],
      "text/plain": [
       "         persnr  year  nrEntry  ltue  employed_before  receipt_leh_before  \\\n",
       "0             7  2015        1     0                1                   0   \n",
       "1            18  2010        1     1                0                   0   \n",
       "2            18  2011        2     0                1                   0   \n",
       "3            18  2012        3     0                1                   0   \n",
       "4            18  2012        4     0                1                   0   \n",
       "...         ...   ...      ...   ...              ...                 ...   \n",
       "643685  1827860  2013        1     0                0                   0   \n",
       "643686  1827860  2015        2     1                0                   0   \n",
       "643687  1827860  2016        3     1                0                   0   \n",
       "643688  1827869  2013        1     1                1                   0   \n",
       "643689  1827869  2014        2     0                0                   1   \n",
       "\n",
       "        receipt_lhg_before  se_before  ASU_notue_seeking_before  \\\n",
       "0                        0          0                         1   \n",
       "1                        0          0                         0   \n",
       "2                        1          0                         1   \n",
       "3                        1          0                         1   \n",
       "4                        1          0                         1   \n",
       "...                    ...        ...                       ...   \n",
       "643685                   1          0                         0   \n",
       "643686                   1          0                         1   \n",
       "643687                   1          1                         0   \n",
       "643688                   0          0                         1   \n",
       "643689                   0          0                         1   \n",
       "\n",
       "        ASU_other_before  ...  minijob_tot_dur_byage  ft_tot_dur_byage  \\\n",
       "0                      0  ...               0.000000          0.000000   \n",
       "1                      0  ...               0.000000          0.000000   \n",
       "2                      0  ...               2.714286          2.714286   \n",
       "3                      0  ...               4.200000          4.200000   \n",
       "4                      0  ...               5.460000          5.460000   \n",
       "...                  ...  ...                    ...               ...   \n",
       "643685                 1  ...               0.000000          0.000000   \n",
       "643686                 0  ...               0.000000          0.000000   \n",
       "643687                 1  ...               0.000000          0.000000   \n",
       "643688                 0  ...               0.000000          0.000000   \n",
       "643689                 0  ...               0.000000          0.666667   \n",
       "\n",
       "        befrist_tot_dur_byage  leih_tot_dur_byage  LHG_tot_dur_byage  \\\n",
       "0                   15.043478            0.000000           0.000000   \n",
       "1                    0.000000            0.000000           0.000000   \n",
       "2                    0.000000            0.000000          10.775510   \n",
       "3                    0.000000            0.000000          12.100000   \n",
       "4                    0.000000            0.000000          13.360000   \n",
       "...                       ...                 ...                ...   \n",
       "643685               0.000000            0.000000           0.612903   \n",
       "643686               0.212121            0.212121          17.363636   \n",
       "643687               0.294118            0.205882          34.705882   \n",
       "643688               0.000000            0.000000           0.000000   \n",
       "643689               0.666667            0.000000           0.000000   \n",
       "\n",
       "        LEH_tot_dur_byage  almp_tot_dur_byage  almp_aw_tot_dur_byage  \\\n",
       "0                0.000000            0.000000               0.000000   \n",
       "1                0.000000            0.000000               0.000000   \n",
       "2                0.000000            8.367347               0.000000   \n",
       "3                0.000000            9.400000               0.000000   \n",
       "4                0.000000           10.320000               0.000000   \n",
       "...                   ...                 ...                    ...   \n",
       "643685           0.000000            0.000000               0.000000   \n",
       "643686           0.000000            8.909091               0.000000   \n",
       "643687           0.000000           10.352941               1.705882   \n",
       "643688           0.525424            0.000000               0.000000   \n",
       "643689           8.950000            1.033333               0.083333   \n",
       "\n",
       "        se_tot_dur_byage  seeking1_tot_dur_byage  \n",
       "0               0.000000                0.000000  \n",
       "1               0.000000                0.000000  \n",
       "2               0.000000                9.836735  \n",
       "3               0.000000                9.960000  \n",
       "4               0.000000               10.280000  \n",
       "...                  ...                     ...  \n",
       "643685          0.000000                0.000000  \n",
       "643686          0.000000                7.121212  \n",
       "643687          1.705882               23.911765  \n",
       "643688          0.000000                0.000000  \n",
       "643689          0.083333                8.133333  \n",
       "\n",
       "[643690 rows x 164 columns]"
      ]
     },
     "execution_count": 10,
     "metadata": {},
     "output_type": "execute_result"
    }
   ],
   "source": [
    "siab"
   ]
  },
  {
   "cell_type": "markdown",
   "id": "1f87e805",
   "metadata": {
    "papermill": {
     "duration": 0.015254,
     "end_time": "2025-08-19T18:30:32.059627",
     "exception": false,
     "start_time": "2025-08-19T18:30:32.044373",
     "status": "completed"
    },
    "tags": []
   },
   "source": [
    "# Splitting Data and Setting Training Data Size"
   ]
  },
  {
   "cell_type": "code",
   "execution_count": 11,
   "id": "910ae358",
   "metadata": {
    "execution": {
     "iopub.execute_input": "2025-08-19T18:30:32.116916Z",
     "iopub.status.busy": "2025-08-19T18:30:32.101985Z",
     "iopub.status.idle": "2025-08-19T18:30:32.403391Z",
     "shell.execute_reply": "2025-08-19T18:30:32.402605Z"
    },
    "papermill": {
     "duration": 0.335482,
     "end_time": "2025-08-19T18:30:32.405617",
     "exception": false,
     "start_time": "2025-08-19T18:30:32.070135",
     "status": "completed"
    },
    "tags": []
   },
   "outputs": [],
   "source": [
    "from fairness_multiverse.universe import sample_by_year_size\n",
    "\n",
    "siab_train = sample_by_year_size(siab,\n",
    "                               training_year=universe[\"training_year\"],\n",
    "                               training_size=universe[\"training_size\"])"
   ]
  },
  {
   "cell_type": "code",
   "execution_count": 12,
   "id": "919c8ff5",
   "metadata": {
    "execution": {
     "iopub.execute_input": "2025-08-19T18:30:32.451973Z",
     "iopub.status.busy": "2025-08-19T18:30:32.450637Z",
     "iopub.status.idle": "2025-08-19T18:30:32.460448Z",
     "shell.execute_reply": "2025-08-19T18:30:32.459217Z"
    },
    "papermill": {
     "duration": 0.02316,
     "end_time": "2025-08-19T18:30:32.462454",
     "exception": false,
     "start_time": "2025-08-19T18:30:32.439294",
     "status": "completed"
    },
    "tags": []
   },
   "outputs": [
    {
     "data": {
      "text/plain": [
       "(5000, 164)"
      ]
     },
     "execution_count": 12,
     "metadata": {},
     "output_type": "execute_result"
    }
   ],
   "source": [
    "siab_train.shape"
   ]
  },
  {
   "cell_type": "code",
   "execution_count": 13,
   "id": "feb13bf4",
   "metadata": {
    "execution": {
     "iopub.execute_input": "2025-08-19T18:30:32.560497Z",
     "iopub.status.busy": "2025-08-19T18:30:32.559609Z",
     "iopub.status.idle": "2025-08-19T18:30:32.568534Z",
     "shell.execute_reply": "2025-08-19T18:30:32.567702Z"
    },
    "papermill": {
     "duration": 0.048541,
     "end_time": "2025-08-19T18:30:32.569933",
     "exception": false,
     "start_time": "2025-08-19T18:30:32.521392",
     "status": "completed"
    },
    "tags": []
   },
   "outputs": [
    {
     "data": {
      "text/plain": [
       "year\n",
       "2014    5000\n",
       "dtype: int64"
      ]
     },
     "metadata": {},
     "output_type": "display_data"
    }
   ],
   "source": [
    "display(siab_train.groupby(\"year\").size())"
   ]
  },
  {
   "cell_type": "code",
   "execution_count": 14,
   "id": "0997782f",
   "metadata": {
    "execution": {
     "iopub.execute_input": "2025-08-19T18:30:32.598953Z",
     "iopub.status.busy": "2025-08-19T18:30:32.598396Z",
     "iopub.status.idle": "2025-08-19T18:30:32.918286Z",
     "shell.execute_reply": "2025-08-19T18:30:32.917524Z"
    },
    "papermill": {
     "duration": 0.333874,
     "end_time": "2025-08-19T18:30:32.919805",
     "exception": false,
     "start_time": "2025-08-19T18:30:32.585931",
     "status": "completed"
    },
    "tags": []
   },
   "outputs": [],
   "source": [
    "#siab_train = siab_s[siab_s.year < 2015]\n",
    "siab_calib = siab[siab.year == 2015]\n",
    "siab_test = siab[siab.year == 2016]"
   ]
  },
  {
   "cell_type": "code",
   "execution_count": 15,
   "id": "2c1e4012",
   "metadata": {
    "execution": {
     "iopub.execute_input": "2025-08-19T18:30:32.962400Z",
     "iopub.status.busy": "2025-08-19T18:30:32.961541Z",
     "iopub.status.idle": "2025-08-19T18:30:32.966231Z",
     "shell.execute_reply": "2025-08-19T18:30:32.965521Z"
    },
    "papermill": {
     "duration": 0.018363,
     "end_time": "2025-08-19T18:30:32.968173",
     "exception": false,
     "start_time": "2025-08-19T18:30:32.949810",
     "status": "completed"
    },
    "tags": []
   },
   "outputs": [],
   "source": [
    "#siab_calib.shape"
   ]
  },
  {
   "cell_type": "code",
   "execution_count": 16,
   "id": "f66b54ca",
   "metadata": {
    "execution": {
     "iopub.execute_input": "2025-08-19T18:30:33.013227Z",
     "iopub.status.busy": "2025-08-19T18:30:33.011978Z",
     "iopub.status.idle": "2025-08-19T18:30:33.018858Z",
     "shell.execute_reply": "2025-08-19T18:30:33.017669Z"
    },
    "papermill": {
     "duration": 0.030437,
     "end_time": "2025-08-19T18:30:33.021165",
     "exception": false,
     "start_time": "2025-08-19T18:30:32.990728",
     "status": "completed"
    },
    "tags": []
   },
   "outputs": [],
   "source": [
    "#siab_test.shape"
   ]
  },
  {
   "cell_type": "code",
   "execution_count": 17,
   "id": "27e4384d",
   "metadata": {
    "execution": {
     "iopub.execute_input": "2025-08-19T18:30:33.062401Z",
     "iopub.status.busy": "2025-08-19T18:30:33.060960Z",
     "iopub.status.idle": "2025-08-19T18:30:33.101942Z",
     "shell.execute_reply": "2025-08-19T18:30:33.101122Z"
    },
    "papermill": {
     "duration": 0.058947,
     "end_time": "2025-08-19T18:30:33.104701",
     "exception": false,
     "start_time": "2025-08-19T18:30:33.045754",
     "status": "completed"
    },
    "tags": []
   },
   "outputs": [],
   "source": [
    "X_train = siab_train.iloc[:,4:164]\n",
    "y_train = siab_train.iloc[:, [3]]"
   ]
  },
  {
   "cell_type": "code",
   "execution_count": 18,
   "id": "08ee8389",
   "metadata": {
    "execution": {
     "iopub.execute_input": "2025-08-19T18:30:33.142686Z",
     "iopub.status.busy": "2025-08-19T18:30:33.141521Z",
     "iopub.status.idle": "2025-08-19T18:30:33.197594Z",
     "shell.execute_reply": "2025-08-19T18:30:33.196817Z"
    },
    "papermill": {
     "duration": 0.072676,
     "end_time": "2025-08-19T18:30:33.200301",
     "exception": false,
     "start_time": "2025-08-19T18:30:33.127625",
     "status": "completed"
    },
    "tags": []
   },
   "outputs": [],
   "source": [
    "X_calib = siab_calib.iloc[:,4:164]\n",
    "y_calib = siab_calib.iloc[:, [3]]"
   ]
  },
  {
   "cell_type": "code",
   "execution_count": 19,
   "id": "b7ff42e0",
   "metadata": {
    "execution": {
     "iopub.execute_input": "2025-08-19T18:30:33.242827Z",
     "iopub.status.busy": "2025-08-19T18:30:33.241437Z",
     "iopub.status.idle": "2025-08-19T18:30:33.300288Z",
     "shell.execute_reply": "2025-08-19T18:30:33.299502Z"
    },
    "papermill": {
     "duration": 0.076536,
     "end_time": "2025-08-19T18:30:33.303998",
     "exception": false,
     "start_time": "2025-08-19T18:30:33.227462",
     "status": "completed"
    },
    "tags": []
   },
   "outputs": [],
   "source": [
    "X_test = siab_test.iloc[:,4:164]\n",
    "y_true = siab_test.iloc[:, [3]]"
   ]
  },
  {
   "cell_type": "code",
   "execution_count": 20,
   "id": "0275101e",
   "metadata": {
    "execution": {
     "iopub.execute_input": "2025-08-19T18:30:33.351063Z",
     "iopub.status.busy": "2025-08-19T18:30:33.347340Z",
     "iopub.status.idle": "2025-08-19T18:30:33.462406Z",
     "shell.execute_reply": "2025-08-19T18:30:33.461718Z"
    },
    "papermill": {
     "duration": 0.148842,
     "end_time": "2025-08-19T18:30:33.463910",
     "exception": false,
     "start_time": "2025-08-19T18:30:33.315068",
     "status": "completed"
    },
    "tags": []
   },
   "outputs": [],
   "source": [
    "# Auxiliary data needed downstream in the pipeline\n",
    "\n",
    "org_train = X_train.copy()\n",
    "org_test = X_test.copy()\n",
    "org_calib = X_calib.copy()"
   ]
  },
  {
   "cell_type": "markdown",
   "id": "b461e618",
   "metadata": {
    "papermill": {
     "duration": 0.010072,
     "end_time": "2025-08-19T18:30:33.487464",
     "exception": false,
     "start_time": "2025-08-19T18:30:33.477392",
     "status": "completed"
    },
    "tags": []
   },
   "source": [
    "# Preprocessing Data"
   ]
  },
  {
   "cell_type": "code",
   "execution_count": 21,
   "id": "78e74c4b",
   "metadata": {
    "execution": {
     "iopub.execute_input": "2025-08-19T18:30:33.509362Z",
     "iopub.status.busy": "2025-08-19T18:30:33.508442Z",
     "iopub.status.idle": "2025-08-19T18:30:33.513720Z",
     "shell.execute_reply": "2025-08-19T18:30:33.513148Z"
    },
    "papermill": {
     "duration": 0.018736,
     "end_time": "2025-08-19T18:30:33.516147",
     "exception": false,
     "start_time": "2025-08-19T18:30:33.497411",
     "status": "completed"
    },
    "tags": []
   },
   "outputs": [],
   "source": [
    "# EXCLUDE PROTECTED FEATURES\n",
    "# --------------------------\n",
    "\n",
    "excluded_features = universe[\"exclude_features\"].split(\"-\")\n",
    "excluded_features_dictionary = {\n",
    "    \"nationality\": [\"maxdeutsch1\", \"maxdeutsch.Missing.\"],\n",
    "    \"sex\": [\"frau1\"],\n",
    "    \"age\": [\"age\"],\n",
    "}"
   ]
  },
  {
   "cell_type": "code",
   "execution_count": 22,
   "id": "f8e63555",
   "metadata": {
    "execution": {
     "iopub.execute_input": "2025-08-19T18:30:33.538125Z",
     "iopub.status.busy": "2025-08-19T18:30:33.537631Z",
     "iopub.status.idle": "2025-08-19T18:30:33.542757Z",
     "shell.execute_reply": "2025-08-19T18:30:33.542083Z"
    },
    "papermill": {
     "duration": 0.017378,
     "end_time": "2025-08-19T18:30:33.543755",
     "exception": false,
     "start_time": "2025-08-19T18:30:33.526377",
     "status": "completed"
    },
    "tags": []
   },
   "outputs": [],
   "source": [
    "excluded_features_columns = [\n",
    "    excluded_features_dictionary[f] for f in excluded_features if len(f) > 0 and f != \"none\"\n",
    "]"
   ]
  },
  {
   "cell_type": "code",
   "execution_count": 23,
   "id": "da781f7c",
   "metadata": {
    "execution": {
     "iopub.execute_input": "2025-08-19T18:30:33.567842Z",
     "iopub.status.busy": "2025-08-19T18:30:33.566803Z",
     "iopub.status.idle": "2025-08-19T18:30:33.572590Z",
     "shell.execute_reply": "2025-08-19T18:30:33.571566Z"
    },
    "papermill": {
     "duration": 0.020554,
     "end_time": "2025-08-19T18:30:33.575377",
     "exception": false,
     "start_time": "2025-08-19T18:30:33.554823",
     "status": "completed"
    },
    "tags": []
   },
   "outputs": [],
   "source": [
    "from fairness_multiverse.universe import flatten_once\n",
    "\n",
    "excluded_features_columns = flatten_once(excluded_features_columns)"
   ]
  },
  {
   "cell_type": "code",
   "execution_count": 24,
   "id": "37fef0f0",
   "metadata": {
    "execution": {
     "iopub.execute_input": "2025-08-19T18:30:33.602915Z",
     "iopub.status.busy": "2025-08-19T18:30:33.602441Z",
     "iopub.status.idle": "2025-08-19T18:30:33.612730Z",
     "shell.execute_reply": "2025-08-19T18:30:33.611581Z"
    },
    "papermill": {
     "duration": 0.025592,
     "end_time": "2025-08-19T18:30:33.616233",
     "exception": false,
     "start_time": "2025-08-19T18:30:33.590641",
     "status": "completed"
    },
    "tags": []
   },
   "outputs": [
    {
     "name": "stdout",
     "output_type": "stream",
     "text": [
      "Dropping features: ['maxdeutsch1', 'maxdeutsch.Missing.']\n"
     ]
    }
   ],
   "source": [
    "if len(excluded_features_columns) > 0:\n",
    "    print(f\"Dropping features: {excluded_features_columns}\")\n",
    "    X_train.drop(excluded_features_columns, axis=1, inplace=True)"
   ]
  },
  {
   "cell_type": "code",
   "execution_count": 25,
   "id": "d029e3e9",
   "metadata": {
    "execution": {
     "iopub.execute_input": "2025-08-19T18:30:33.644654Z",
     "iopub.status.busy": "2025-08-19T18:30:33.642941Z",
     "iopub.status.idle": "2025-08-19T18:30:33.707297Z",
     "shell.execute_reply": "2025-08-19T18:30:33.705890Z"
    },
    "papermill": {
     "duration": 0.081458,
     "end_time": "2025-08-19T18:30:33.712259",
     "exception": false,
     "start_time": "2025-08-19T18:30:33.630801",
     "status": "completed"
    },
    "tags": []
   },
   "outputs": [
    {
     "name": "stdout",
     "output_type": "stream",
     "text": [
      "Dropping features: ['maxdeutsch1', 'maxdeutsch.Missing.']\n"
     ]
    }
   ],
   "source": [
    "if len(excluded_features_columns) > 0:\n",
    "    print(f\"Dropping features: {excluded_features_columns}\")\n",
    "    X_test.drop(excluded_features_columns, axis=1, inplace=True)"
   ]
  },
  {
   "cell_type": "code",
   "execution_count": 26,
   "id": "01d571f0",
   "metadata": {
    "execution": {
     "iopub.execute_input": "2025-08-19T18:30:33.756980Z",
     "iopub.status.busy": "2025-08-19T18:30:33.755312Z",
     "iopub.status.idle": "2025-08-19T18:30:33.814907Z",
     "shell.execute_reply": "2025-08-19T18:30:33.814078Z"
    },
    "papermill": {
     "duration": 0.081049,
     "end_time": "2025-08-19T18:30:33.822005",
     "exception": false,
     "start_time": "2025-08-19T18:30:33.740956",
     "status": "completed"
    },
    "tags": []
   },
   "outputs": [
    {
     "name": "stdout",
     "output_type": "stream",
     "text": [
      "Dropping features: ['maxdeutsch1', 'maxdeutsch.Missing.']\n"
     ]
    }
   ],
   "source": [
    "if len(excluded_features_columns) > 0:\n",
    "    print(f\"Dropping features: {excluded_features_columns}\")\n",
    "    X_calib.drop(excluded_features_columns, axis=1, inplace=True)"
   ]
  },
  {
   "cell_type": "code",
   "execution_count": 27,
   "id": "3037356e",
   "metadata": {
    "execution": {
     "iopub.execute_input": "2025-08-19T18:30:33.877260Z",
     "iopub.status.busy": "2025-08-19T18:30:33.876898Z",
     "iopub.status.idle": "2025-08-19T18:30:33.881471Z",
     "shell.execute_reply": "2025-08-19T18:30:33.880888Z"
    },
    "papermill": {
     "duration": 0.039329,
     "end_time": "2025-08-19T18:30:33.882944",
     "exception": false,
     "start_time": "2025-08-19T18:30:33.843615",
     "status": "completed"
    },
    "tags": []
   },
   "outputs": [],
   "source": [
    "# EXCLUDE CERTAIN SUBGROUPS\n",
    "# -------------------------\n",
    "\n",
    "mode = universe.get(\"exclude_subgroups\", \"keep-all\") # Defaults to \"keep-all\" if the key is missing."
   ]
  },
  {
   "cell_type": "code",
   "execution_count": 28,
   "id": "9d1e63fd",
   "metadata": {
    "execution": {
     "iopub.execute_input": "2025-08-19T18:30:33.912415Z",
     "iopub.status.busy": "2025-08-19T18:30:33.911565Z",
     "iopub.status.idle": "2025-08-19T18:30:33.918440Z",
     "shell.execute_reply": "2025-08-19T18:30:33.917575Z"
    },
    "papermill": {
     "duration": 0.020225,
     "end_time": "2025-08-19T18:30:33.919806",
     "exception": false,
     "start_time": "2025-08-19T18:30:33.899581",
     "status": "completed"
    },
    "tags": []
   },
   "outputs": [],
   "source": [
    "if mode == \"keep-all\":\n",
    "    keep_mask = pd.Series(True, index=org_train.index)\n",
    "\n",
    "elif mode == \"drop-non-german\":\n",
    "    keep_mask = (org_train[\"maxdeutsch1\"] == 1) & (org_train[\"maxdeutsch.Missing.\"] == 0)\n",
    "\n",
    "else:\n",
    "    raise ValueError(f\"Unsupported mode for exclude_subgroups: {mode}\")"
   ]
  },
  {
   "cell_type": "code",
   "execution_count": 29,
   "id": "d3b65474",
   "metadata": {
    "execution": {
     "iopub.execute_input": "2025-08-19T18:30:33.944127Z",
     "iopub.status.busy": "2025-08-19T18:30:33.942930Z",
     "iopub.status.idle": "2025-08-19T18:30:33.950999Z",
     "shell.execute_reply": "2025-08-19T18:30:33.949939Z"
    },
    "papermill": {
     "duration": 0.020857,
     "end_time": "2025-08-19T18:30:33.952450",
     "exception": false,
     "start_time": "2025-08-19T18:30:33.931593",
     "status": "completed"
    },
    "tags": []
   },
   "outputs": [
    {
     "name": "stdout",
     "output_type": "stream",
     "text": [
      "Dropping 741 rows (14.82%) where mode='drop-non-german'\n"
     ]
    }
   ],
   "source": [
    "n_drop = (~keep_mask).sum() # Calculates how many rows are set to be dropped\n",
    "if n_drop > 0:\n",
    "    pct = n_drop / len(keep_mask) * 100\n",
    "    print(f\"Dropping {n_drop} rows ({pct:.2f}%) where mode='{mode}'\")"
   ]
  },
  {
   "cell_type": "code",
   "execution_count": 30,
   "id": "f44389b3",
   "metadata": {
    "execution": {
     "iopub.execute_input": "2025-08-19T18:30:33.977486Z",
     "iopub.status.busy": "2025-08-19T18:30:33.976525Z",
     "iopub.status.idle": "2025-08-19T18:30:33.987234Z",
     "shell.execute_reply": "2025-08-19T18:30:33.986154Z"
    },
    "papermill": {
     "duration": 0.023867,
     "end_time": "2025-08-19T18:30:33.988664",
     "exception": false,
     "start_time": "2025-08-19T18:30:33.964797",
     "status": "completed"
    },
    "tags": []
   },
   "outputs": [],
   "source": [
    "X_train = X_train[keep_mask]"
   ]
  },
  {
   "cell_type": "code",
   "execution_count": 31,
   "id": "ceca8c2a",
   "metadata": {
    "execution": {
     "iopub.execute_input": "2025-08-19T18:30:34.013010Z",
     "iopub.status.busy": "2025-08-19T18:30:34.012577Z",
     "iopub.status.idle": "2025-08-19T18:30:34.018812Z",
     "shell.execute_reply": "2025-08-19T18:30:34.017873Z"
    },
    "papermill": {
     "duration": 0.019641,
     "end_time": "2025-08-19T18:30:34.020276",
     "exception": false,
     "start_time": "2025-08-19T18:30:34.000635",
     "status": "completed"
    },
    "tags": []
   },
   "outputs": [],
   "source": [
    "y_train = y_train[keep_mask]"
   ]
  },
  {
   "cell_type": "markdown",
   "id": "04d31e2f",
   "metadata": {
    "papermill": {
     "duration": 0.027166,
     "end_time": "2025-08-19T18:30:34.071654",
     "exception": false,
     "start_time": "2025-08-19T18:30:34.044488",
     "status": "completed"
    },
    "tags": []
   },
   "source": [
    "# Model Training"
   ]
  },
  {
   "cell_type": "code",
   "execution_count": 32,
   "id": "db991733",
   "metadata": {
    "execution": {
     "iopub.execute_input": "2025-08-19T18:30:34.103622Z",
     "iopub.status.busy": "2025-08-19T18:30:34.103198Z",
     "iopub.status.idle": "2025-08-19T18:30:34.212184Z",
     "shell.execute_reply": "2025-08-19T18:30:34.211319Z"
    },
    "papermill": {
     "duration": 0.124287,
     "end_time": "2025-08-19T18:30:34.215233",
     "exception": false,
     "start_time": "2025-08-19T18:30:34.090946",
     "status": "completed"
    },
    "tags": []
   },
   "outputs": [],
   "source": [
    "from sklearn.linear_model import LogisticRegression\n",
    "from sklearn.ensemble import GradientBoostingClassifier, RandomForestClassifier\n",
    "\n",
    "if (universe[\"model\"] == \"logreg\"):\n",
    "    model = LogisticRegression() #penalty=\"none\", solver=\"newton-cg\", max_iter=1)\n",
    "elif (universe[\"model\"] == \"penalized_logreg\"):\n",
    "    model = LogisticRegression(penalty=\"l2\", C=0.1) #, solver=\"newton-cg\", max_iter=1)\n",
    "elif (universe[\"model\"] == \"rf\"):\n",
    "    model = RandomForestClassifier() # n_estimators=100, n_jobs=-1\n",
    "elif (universe[\"model\"] == \"gbm\"):\n",
    "    model = GradientBoostingClassifier()\n",
    "elif (universe[\"model\"] == \"elasticnet\"):\n",
    "    model = LogisticRegression(penalty = 'elasticnet', solver = 'saga', l1_ratio = 0.5) # max_iter=5000\n",
    "else:\n",
    "    raise \"Unsupported universe.model\""
   ]
  },
  {
   "cell_type": "code",
   "execution_count": 33,
   "id": "a4b5cd25",
   "metadata": {
    "execution": {
     "iopub.execute_input": "2025-08-19T18:30:34.277984Z",
     "iopub.status.busy": "2025-08-19T18:30:34.277620Z",
     "iopub.status.idle": "2025-08-19T18:30:34.283600Z",
     "shell.execute_reply": "2025-08-19T18:30:34.282713Z"
    },
    "papermill": {
     "duration": 0.034521,
     "end_time": "2025-08-19T18:30:34.286905",
     "exception": false,
     "start_time": "2025-08-19T18:30:34.252384",
     "status": "completed"
    },
    "tags": []
   },
   "outputs": [],
   "source": [
    "from sklearn.pipeline import Pipeline\n",
    "from sklearn.preprocessing import StandardScaler\n",
    "\n",
    "model = Pipeline([\n",
    "    #(\"continuous_processor\", continuous_processor),\n",
    "    #(\"categorical_preprocessor\", categorical_preprocessor),\n",
    "    (\"scale\", StandardScaler() if universe[\"scale\"] == \"scale\" else None), \n",
    "    (\"model\", model),\n",
    "])"
   ]
  },
  {
   "cell_type": "code",
   "execution_count": 34,
   "id": "283a904d",
   "metadata": {
    "execution": {
     "iopub.execute_input": "2025-08-19T18:30:34.311193Z",
     "iopub.status.busy": "2025-08-19T18:30:34.310886Z",
     "iopub.status.idle": "2025-08-19T18:30:35.472985Z",
     "shell.execute_reply": "2025-08-19T18:30:35.470355Z"
    },
    "papermill": {
     "duration": 1.176101,
     "end_time": "2025-08-19T18:30:35.474789",
     "exception": false,
     "start_time": "2025-08-19T18:30:34.298688",
     "status": "completed"
    },
    "tags": []
   },
   "outputs": [
    {
     "name": "stderr",
     "output_type": "stream",
     "text": [
      "/dss/dsshome1/0C/ra93lal2/.local/share/virtualenvs/CMA_Fairness_v2-3j10GkSs/lib/python3.10/site-packages/sklearn/linear_model/_sag.py:350: ConvergenceWarning: The max_iter was reached which means the coef_ did not converge\n",
      "  warnings.warn(\n"
     ]
    },
    {
     "data": {
      "text/html": [
       "<style>#sk-container-id-1 {color: black;background-color: white;}#sk-container-id-1 pre{padding: 0;}#sk-container-id-1 div.sk-toggleable {background-color: white;}#sk-container-id-1 label.sk-toggleable__label {cursor: pointer;display: block;width: 100%;margin-bottom: 0;padding: 0.3em;box-sizing: border-box;text-align: center;}#sk-container-id-1 label.sk-toggleable__label-arrow:before {content: \"▸\";float: left;margin-right: 0.25em;color: #696969;}#sk-container-id-1 label.sk-toggleable__label-arrow:hover:before {color: black;}#sk-container-id-1 div.sk-estimator:hover label.sk-toggleable__label-arrow:before {color: black;}#sk-container-id-1 div.sk-toggleable__content {max-height: 0;max-width: 0;overflow: hidden;text-align: left;background-color: #f0f8ff;}#sk-container-id-1 div.sk-toggleable__content pre {margin: 0.2em;color: black;border-radius: 0.25em;background-color: #f0f8ff;}#sk-container-id-1 input.sk-toggleable__control:checked~div.sk-toggleable__content {max-height: 200px;max-width: 100%;overflow: auto;}#sk-container-id-1 input.sk-toggleable__control:checked~label.sk-toggleable__label-arrow:before {content: \"▾\";}#sk-container-id-1 div.sk-estimator input.sk-toggleable__control:checked~label.sk-toggleable__label {background-color: #d4ebff;}#sk-container-id-1 div.sk-label input.sk-toggleable__control:checked~label.sk-toggleable__label {background-color: #d4ebff;}#sk-container-id-1 input.sk-hidden--visually {border: 0;clip: rect(1px 1px 1px 1px);clip: rect(1px, 1px, 1px, 1px);height: 1px;margin: -1px;overflow: hidden;padding: 0;position: absolute;width: 1px;}#sk-container-id-1 div.sk-estimator {font-family: monospace;background-color: #f0f8ff;border: 1px dotted black;border-radius: 0.25em;box-sizing: border-box;margin-bottom: 0.5em;}#sk-container-id-1 div.sk-estimator:hover {background-color: #d4ebff;}#sk-container-id-1 div.sk-parallel-item::after {content: \"\";width: 100%;border-bottom: 1px solid gray;flex-grow: 1;}#sk-container-id-1 div.sk-label:hover label.sk-toggleable__label {background-color: #d4ebff;}#sk-container-id-1 div.sk-serial::before {content: \"\";position: absolute;border-left: 1px solid gray;box-sizing: border-box;top: 0;bottom: 0;left: 50%;z-index: 0;}#sk-container-id-1 div.sk-serial {display: flex;flex-direction: column;align-items: center;background-color: white;padding-right: 0.2em;padding-left: 0.2em;position: relative;}#sk-container-id-1 div.sk-item {position: relative;z-index: 1;}#sk-container-id-1 div.sk-parallel {display: flex;align-items: stretch;justify-content: center;background-color: white;position: relative;}#sk-container-id-1 div.sk-item::before, #sk-container-id-1 div.sk-parallel-item::before {content: \"\";position: absolute;border-left: 1px solid gray;box-sizing: border-box;top: 0;bottom: 0;left: 50%;z-index: -1;}#sk-container-id-1 div.sk-parallel-item {display: flex;flex-direction: column;z-index: 1;position: relative;background-color: white;}#sk-container-id-1 div.sk-parallel-item:first-child::after {align-self: flex-end;width: 50%;}#sk-container-id-1 div.sk-parallel-item:last-child::after {align-self: flex-start;width: 50%;}#sk-container-id-1 div.sk-parallel-item:only-child::after {width: 0;}#sk-container-id-1 div.sk-dashed-wrapped {border: 1px dashed gray;margin: 0 0.4em 0.5em 0.4em;box-sizing: border-box;padding-bottom: 0.4em;background-color: white;}#sk-container-id-1 div.sk-label label {font-family: monospace;font-weight: bold;display: inline-block;line-height: 1.2em;}#sk-container-id-1 div.sk-label-container {text-align: center;}#sk-container-id-1 div.sk-container {/* jupyter's `normalize.less` sets `[hidden] { display: none; }` but bootstrap.min.css set `[hidden] { display: none !important; }` so we also need the `!important` here to be able to override the default hidden behavior on the sphinx rendered scikit-learn.org. See: https://github.com/scikit-learn/scikit-learn/issues/21755 */display: inline-block !important;position: relative;}#sk-container-id-1 div.sk-text-repr-fallback {display: none;}</style><div id=\"sk-container-id-1\" class=\"sk-top-container\"><div class=\"sk-text-repr-fallback\"><pre>Pipeline(steps=[(&#x27;scale&#x27;, None),\n",
       "                (&#x27;model&#x27;,\n",
       "                 LogisticRegression(l1_ratio=0.5, penalty=&#x27;elasticnet&#x27;,\n",
       "                                    solver=&#x27;saga&#x27;))])</pre><b>In a Jupyter environment, please rerun this cell to show the HTML representation or trust the notebook. <br />On GitHub, the HTML representation is unable to render, please try loading this page with nbviewer.org.</b></div><div class=\"sk-container\" hidden><div class=\"sk-item sk-dashed-wrapped\"><div class=\"sk-label-container\"><div class=\"sk-label sk-toggleable\"><input class=\"sk-toggleable__control sk-hidden--visually\" id=\"sk-estimator-id-1\" type=\"checkbox\" ><label for=\"sk-estimator-id-1\" class=\"sk-toggleable__label sk-toggleable__label-arrow\">Pipeline</label><div class=\"sk-toggleable__content\"><pre>Pipeline(steps=[(&#x27;scale&#x27;, None),\n",
       "                (&#x27;model&#x27;,\n",
       "                 LogisticRegression(l1_ratio=0.5, penalty=&#x27;elasticnet&#x27;,\n",
       "                                    solver=&#x27;saga&#x27;))])</pre></div></div></div><div class=\"sk-serial\"><div class=\"sk-item\"><div class=\"sk-estimator sk-toggleable\"><input class=\"sk-toggleable__control sk-hidden--visually\" id=\"sk-estimator-id-2\" type=\"checkbox\" ><label for=\"sk-estimator-id-2\" class=\"sk-toggleable__label sk-toggleable__label-arrow\">None</label><div class=\"sk-toggleable__content\"><pre>None</pre></div></div></div><div class=\"sk-item\"><div class=\"sk-estimator sk-toggleable\"><input class=\"sk-toggleable__control sk-hidden--visually\" id=\"sk-estimator-id-3\" type=\"checkbox\" ><label for=\"sk-estimator-id-3\" class=\"sk-toggleable__label sk-toggleable__label-arrow\">LogisticRegression</label><div class=\"sk-toggleable__content\"><pre>LogisticRegression(l1_ratio=0.5, penalty=&#x27;elasticnet&#x27;, solver=&#x27;saga&#x27;)</pre></div></div></div></div></div></div></div>"
      ],
      "text/plain": [
       "Pipeline(steps=[('scale', None),\n",
       "                ('model',\n",
       "                 LogisticRegression(l1_ratio=0.5, penalty='elasticnet',\n",
       "                                    solver='saga'))])"
      ]
     },
     "execution_count": 34,
     "metadata": {},
     "output_type": "execute_result"
    }
   ],
   "source": [
    "model.fit(X_train, y_train.values.ravel())"
   ]
  },
  {
   "cell_type": "code",
   "execution_count": 35,
   "id": "6e15e313",
   "metadata": {
    "execution": {
     "iopub.execute_input": "2025-08-19T18:30:35.513730Z",
     "iopub.status.busy": "2025-08-19T18:30:35.500365Z",
     "iopub.status.idle": "2025-08-19T18:30:35.641860Z",
     "shell.execute_reply": "2025-08-19T18:30:35.637114Z"
    },
    "papermill": {
     "duration": 0.156334,
     "end_time": "2025-08-19T18:30:35.643819",
     "exception": false,
     "start_time": "2025-08-19T18:30:35.487485",
     "status": "completed"
    },
    "tags": []
   },
   "outputs": [
    {
     "data": {
      "text/plain": [
       "0.8626463047597815"
      ]
     },
     "execution_count": 35,
     "metadata": {},
     "output_type": "execute_result"
    }
   ],
   "source": [
    "from fairness_multiverse.universe import predict_w_threshold\n",
    "\n",
    "probs_test = model.predict_proba(X_test)\n",
    "\n",
    "'''\n",
    "Below code returns a boolean array (or binary 0/1 array depending on how it’s used) where each element \n",
    "is True if the probability of class 1 is greater than or equal to the threshold, and False otherwise.\n",
    "'''\n",
    "y_pred_default = predict_w_threshold(probs_test, 0.5)\n",
    "\n",
    "from sklearn.metrics import accuracy_score\n",
    "\n",
    "# Naive prediction\n",
    "accuracy_score(y_true = y_true, y_pred = y_pred_default)"
   ]
  },
  {
   "cell_type": "code",
   "execution_count": 36,
   "id": "6f14067c",
   "metadata": {
    "execution": {
     "iopub.execute_input": "2025-08-19T18:30:35.669589Z",
     "iopub.status.busy": "2025-08-19T18:30:35.669226Z",
     "iopub.status.idle": "2025-08-19T18:30:35.761206Z",
     "shell.execute_reply": "2025-08-19T18:30:35.760181Z"
    },
    "papermill": {
     "duration": 0.106203,
     "end_time": "2025-08-19T18:30:35.762696",
     "exception": false,
     "start_time": "2025-08-19T18:30:35.656493",
     "status": "completed"
    },
    "tags": []
   },
   "outputs": [
    {
     "data": {
      "text/plain": [
       "array([0, 0, 0, ..., 0, 0, 0])"
      ]
     },
     "execution_count": 36,
     "metadata": {},
     "output_type": "execute_result"
    }
   ],
   "source": [
    "model.predict(X_test)"
   ]
  },
  {
   "cell_type": "markdown",
   "id": "3759920c",
   "metadata": {
    "papermill": {
     "duration": 0.011432,
     "end_time": "2025-08-19T18:30:35.788317",
     "exception": false,
     "start_time": "2025-08-19T18:30:35.776885",
     "status": "completed"
    },
    "tags": []
   },
   "source": [
    "# Conformal Prediction"
   ]
  },
  {
   "cell_type": "code",
   "execution_count": 37,
   "id": "14b27f59",
   "metadata": {
    "execution": {
     "iopub.execute_input": "2025-08-19T18:30:35.815550Z",
     "iopub.status.busy": "2025-08-19T18:30:35.815214Z",
     "iopub.status.idle": "2025-08-19T18:30:35.820361Z",
     "shell.execute_reply": "2025-08-19T18:30:35.819540Z"
    },
    "papermill": {
     "duration": 0.022205,
     "end_time": "2025-08-19T18:30:35.821894",
     "exception": false,
     "start_time": "2025-08-19T18:30:35.799689",
     "status": "completed"
    },
    "tags": []
   },
   "outputs": [],
   "source": [
    "# Miscoverage level for conformal prediction (10% allowed error rate => 90% target coverage)\n",
    "alpha = 0.1"
   ]
  },
  {
   "cell_type": "code",
   "execution_count": 38,
   "id": "59102472",
   "metadata": {
    "execution": {
     "iopub.execute_input": "2025-08-19T18:30:35.848554Z",
     "iopub.status.busy": "2025-08-19T18:30:35.848206Z",
     "iopub.status.idle": "2025-08-19T18:30:35.939983Z",
     "shell.execute_reply": "2025-08-19T18:30:35.939030Z"
    },
    "papermill": {
     "duration": 0.106799,
     "end_time": "2025-08-19T18:30:35.941519",
     "exception": false,
     "start_time": "2025-08-19T18:30:35.834720",
     "status": "completed"
    },
    "tags": []
   },
   "outputs": [],
   "source": [
    "probs_calib = model.predict_proba(X_calib)"
   ]
  },
  {
   "cell_type": "code",
   "execution_count": 39,
   "id": "a792d4dd",
   "metadata": {
    "execution": {
     "iopub.execute_input": "2025-08-19T18:30:35.966541Z",
     "iopub.status.busy": "2025-08-19T18:30:35.966065Z",
     "iopub.status.idle": "2025-08-19T18:30:35.973195Z",
     "shell.execute_reply": "2025-08-19T18:30:35.971838Z"
    },
    "papermill": {
     "duration": 0.021585,
     "end_time": "2025-08-19T18:30:35.974831",
     "exception": false,
     "start_time": "2025-08-19T18:30:35.953246",
     "status": "completed"
    },
    "tags": []
   },
   "outputs": [],
   "source": [
    "y_calib = y_calib.values.ravel().astype(int)"
   ]
  },
  {
   "cell_type": "code",
   "execution_count": 40,
   "id": "650fd033",
   "metadata": {
    "execution": {
     "iopub.execute_input": "2025-08-19T18:30:36.003252Z",
     "iopub.status.busy": "2025-08-19T18:30:36.002511Z",
     "iopub.status.idle": "2025-08-19T18:30:36.015824Z",
     "shell.execute_reply": "2025-08-19T18:30:36.014516Z"
    },
    "papermill": {
     "duration": 0.028721,
     "end_time": "2025-08-19T18:30:36.017537",
     "exception": false,
     "start_time": "2025-08-19T18:30:35.988816",
     "status": "completed"
    },
    "tags": []
   },
   "outputs": [],
   "source": [
    "from fairness_multiverse.conformal import compute_nc_scores\n",
    "\n",
    "# Compute nonconformity scores on calibration set (1 - probability of true class)\n",
    "nc_scores = compute_nc_scores(probs_calib, y_calib)"
   ]
  },
  {
   "cell_type": "code",
   "execution_count": 41,
   "id": "28ada44c",
   "metadata": {
    "execution": {
     "iopub.execute_input": "2025-08-19T18:30:36.047528Z",
     "iopub.status.busy": "2025-08-19T18:30:36.046786Z",
     "iopub.status.idle": "2025-08-19T18:30:36.059327Z",
     "shell.execute_reply": "2025-08-19T18:30:36.057464Z"
    },
    "papermill": {
     "duration": 0.02869,
     "end_time": "2025-08-19T18:30:36.061500",
     "exception": false,
     "start_time": "2025-08-19T18:30:36.032810",
     "status": "completed"
    },
    "tags": []
   },
   "outputs": [],
   "source": [
    "from fairness_multiverse.conformal import find_threshold\n",
    "\n",
    "# Find conformal threshold q_hat for the given alpha (split conformal method)\n",
    "q_hat = find_threshold(nc_scores, alpha)"
   ]
  },
  {
   "cell_type": "code",
   "execution_count": 42,
   "id": "df56469e",
   "metadata": {
    "execution": {
     "iopub.execute_input": "2025-08-19T18:30:36.095825Z",
     "iopub.status.busy": "2025-08-19T18:30:36.094909Z",
     "iopub.status.idle": "2025-08-19T18:30:36.108014Z",
     "shell.execute_reply": "2025-08-19T18:30:36.106833Z"
    },
    "papermill": {
     "duration": 0.029666,
     "end_time": "2025-08-19T18:30:36.109877",
     "exception": false,
     "start_time": "2025-08-19T18:30:36.080211",
     "status": "completed"
    },
    "tags": []
   },
   "outputs": [
    {
     "data": {
      "text/plain": [
       "0.638477787224037"
      ]
     },
     "execution_count": 42,
     "metadata": {},
     "output_type": "execute_result"
    }
   ],
   "source": [
    "q_hat"
   ]
  },
  {
   "cell_type": "code",
   "execution_count": 43,
   "id": "aa1f5faa",
   "metadata": {
    "execution": {
     "iopub.execute_input": "2025-08-19T18:30:36.139365Z",
     "iopub.status.busy": "2025-08-19T18:30:36.138572Z",
     "iopub.status.idle": "2025-08-19T18:30:36.699653Z",
     "shell.execute_reply": "2025-08-19T18:30:36.698239Z"
    },
    "papermill": {
     "duration": 0.57659,
     "end_time": "2025-08-19T18:30:36.701449",
     "exception": false,
     "start_time": "2025-08-19T18:30:36.124859",
     "status": "completed"
    },
    "tags": []
   },
   "outputs": [],
   "source": [
    "from fairness_multiverse.conformal import predict_conformal_sets\n",
    "\n",
    "# Generate prediction sets for each test example\n",
    "pred_sets = predict_conformal_sets(model, X_test, q_hat)"
   ]
  },
  {
   "cell_type": "code",
   "execution_count": 44,
   "id": "97f67a6b",
   "metadata": {
    "execution": {
     "iopub.execute_input": "2025-08-19T18:30:36.734705Z",
     "iopub.status.busy": "2025-08-19T18:30:36.734065Z",
     "iopub.status.idle": "2025-08-19T18:30:36.742996Z",
     "shell.execute_reply": "2025-08-19T18:30:36.741285Z"
    },
    "papermill": {
     "duration": 0.031914,
     "end_time": "2025-08-19T18:30:36.745143",
     "exception": false,
     "start_time": "2025-08-19T18:30:36.713229",
     "status": "completed"
    },
    "tags": []
   },
   "outputs": [],
   "source": [
    "y_true = y_true.squeeze()"
   ]
  },
  {
   "cell_type": "code",
   "execution_count": 45,
   "id": "e700e9a7",
   "metadata": {
    "execution": {
     "iopub.execute_input": "2025-08-19T18:30:36.778555Z",
     "iopub.status.busy": "2025-08-19T18:30:36.778177Z",
     "iopub.status.idle": "2025-08-19T18:30:37.285496Z",
     "shell.execute_reply": "2025-08-19T18:30:37.284156Z"
    },
    "papermill": {
     "duration": 0.524081,
     "end_time": "2025-08-19T18:30:37.288351",
     "exception": false,
     "start_time": "2025-08-19T18:30:36.764270",
     "status": "completed"
    },
    "tags": []
   },
   "outputs": [],
   "source": [
    "from fairness_multiverse.conformal import evaluate_sets\n",
    "\n",
    "# Evaluate coverage and average set size on test data\n",
    "metrics = evaluate_sets(pred_sets, y_true)"
   ]
  },
  {
   "cell_type": "markdown",
   "id": "efbacec0",
   "metadata": {
    "papermill": {
     "duration": 0.011536,
     "end_time": "2025-08-19T18:30:37.328610",
     "exception": false,
     "start_time": "2025-08-19T18:30:37.317074",
     "status": "completed"
    },
    "tags": []
   },
   "source": [
    "# CP Metrics"
   ]
  },
  {
   "cell_type": "code",
   "execution_count": 46,
   "id": "9de55fb1",
   "metadata": {
    "execution": {
     "iopub.execute_input": "2025-08-19T18:30:37.356101Z",
     "iopub.status.busy": "2025-08-19T18:30:37.354797Z",
     "iopub.status.idle": "2025-08-19T18:30:37.370977Z",
     "shell.execute_reply": "2025-08-19T18:30:37.369796Z"
    },
    "papermill": {
     "duration": 0.031371,
     "end_time": "2025-08-19T18:30:37.372394",
     "exception": false,
     "start_time": "2025-08-19T18:30:37.341023",
     "status": "completed"
    },
    "tags": []
   },
   "outputs": [
    {
     "data": {
      "text/plain": [
       "{'coverage': 0.9118827332515884, 'avg_size': 1.2659681194961543}"
      ]
     },
     "execution_count": 46,
     "metadata": {},
     "output_type": "execute_result"
    }
   ],
   "source": [
    "metrics"
   ]
  },
  {
   "cell_type": "code",
   "execution_count": 47,
   "id": "64c340a1",
   "metadata": {
    "execution": {
     "iopub.execute_input": "2025-08-19T18:30:37.401099Z",
     "iopub.status.busy": "2025-08-19T18:30:37.400818Z",
     "iopub.status.idle": "2025-08-19T18:30:37.405756Z",
     "shell.execute_reply": "2025-08-19T18:30:37.405161Z"
    },
    "papermill": {
     "duration": 0.01867,
     "end_time": "2025-08-19T18:30:37.406713",
     "exception": false,
     "start_time": "2025-08-19T18:30:37.388043",
     "status": "completed"
    },
    "tags": []
   },
   "outputs": [],
   "source": [
    "example_universe = universe.copy()\n",
    "universe_training_year = example_universe.get(\"training_year\")\n",
    "universe_training_size = example_universe.get(\"training_size\")\n",
    "universe_scale = example_universe.get(\"scale\")\n",
    "universe_model = example_universe.get(\"model\")\n",
    "universe_exclude_features = example_universe.get(\"exclude_features\")\n",
    "universe_exclude_subgroups = example_universe.get(\"exclude_subgroups\")"
   ]
  },
  {
   "cell_type": "code",
   "execution_count": 48,
   "id": "dbb53cb4",
   "metadata": {
    "execution": {
     "iopub.execute_input": "2025-08-19T18:30:37.432007Z",
     "iopub.status.busy": "2025-08-19T18:30:37.431657Z",
     "iopub.status.idle": "2025-08-19T18:30:37.436422Z",
     "shell.execute_reply": "2025-08-19T18:30:37.435837Z"
    },
    "papermill": {
     "duration": 0.018075,
     "end_time": "2025-08-19T18:30:37.437568",
     "exception": false,
     "start_time": "2025-08-19T18:30:37.419493",
     "status": "completed"
    },
    "tags": []
   },
   "outputs": [],
   "source": [
    "cp_metrics_dict = {\n",
    "    \"universe_id\": [universe_id],\n",
    "    \"universe_training_year\": [universe_training_year],\n",
    "    \"universe_training_size\": [universe_training_size],\n",
    "    \"universe_scale\": [universe_scale],\n",
    "    \"universe_model\": [universe_model],\n",
    "    \"universe_exclude_features\": [universe_exclude_features],\n",
    "    \"universe_exclude_subgroups\": [universe_exclude_subgroups],\n",
    "    \"q_hat\": [q_hat],\n",
    "    \"coverage\": [metrics[\"coverage\"]],\n",
    "    \"avg_size\": [metrics[\"avg_size\"]],\n",
    "}"
   ]
  },
  {
   "cell_type": "code",
   "execution_count": 49,
   "id": "0d70d4b2",
   "metadata": {
    "execution": {
     "iopub.execute_input": "2025-08-19T18:30:37.464000Z",
     "iopub.status.busy": "2025-08-19T18:30:37.463650Z",
     "iopub.status.idle": "2025-08-19T18:30:37.469061Z",
     "shell.execute_reply": "2025-08-19T18:30:37.468451Z"
    },
    "papermill": {
     "duration": 0.031082,
     "end_time": "2025-08-19T18:30:37.481440",
     "exception": false,
     "start_time": "2025-08-19T18:30:37.450358",
     "status": "completed"
    },
    "tags": []
   },
   "outputs": [],
   "source": [
    "cp_metrics_df = pd.DataFrame(cp_metrics_dict)"
   ]
  },
  {
   "cell_type": "code",
   "execution_count": 50,
   "id": "b494403c",
   "metadata": {
    "execution": {
     "iopub.execute_input": "2025-08-19T18:30:37.507029Z",
     "iopub.status.busy": "2025-08-19T18:30:37.506583Z",
     "iopub.status.idle": "2025-08-19T18:30:37.519633Z",
     "shell.execute_reply": "2025-08-19T18:30:37.518955Z"
    },
    "papermill": {
     "duration": 0.027027,
     "end_time": "2025-08-19T18:30:37.520899",
     "exception": false,
     "start_time": "2025-08-19T18:30:37.493872",
     "status": "completed"
    },
    "tags": []
   },
   "outputs": [
    {
     "data": {
      "text/html": [
       "<div>\n",
       "<style scoped>\n",
       "    .dataframe tbody tr th:only-of-type {\n",
       "        vertical-align: middle;\n",
       "    }\n",
       "\n",
       "    .dataframe tbody tr th {\n",
       "        vertical-align: top;\n",
       "    }\n",
       "\n",
       "    .dataframe thead th {\n",
       "        text-align: right;\n",
       "    }\n",
       "</style>\n",
       "<table border=\"1\" class=\"dataframe\">\n",
       "  <thead>\n",
       "    <tr style=\"text-align: right;\">\n",
       "      <th></th>\n",
       "      <th>universe_id</th>\n",
       "      <th>universe_training_year</th>\n",
       "      <th>universe_training_size</th>\n",
       "      <th>universe_scale</th>\n",
       "      <th>universe_model</th>\n",
       "      <th>universe_exclude_features</th>\n",
       "      <th>universe_exclude_subgroups</th>\n",
       "      <th>q_hat</th>\n",
       "      <th>coverage</th>\n",
       "      <th>avg_size</th>\n",
       "    </tr>\n",
       "  </thead>\n",
       "  <tbody>\n",
       "    <tr>\n",
       "      <th>0</th>\n",
       "      <td>08ac658acb7e6954e1cf18586bfc58fd</td>\n",
       "      <td>2014</td>\n",
       "      <td>5k</td>\n",
       "      <td>do-not-scale</td>\n",
       "      <td>elasticnet</td>\n",
       "      <td>nationality</td>\n",
       "      <td>drop-non-german</td>\n",
       "      <td>0.638478</td>\n",
       "      <td>0.911883</td>\n",
       "      <td>1.265968</td>\n",
       "    </tr>\n",
       "  </tbody>\n",
       "</table>\n",
       "</div>"
      ],
      "text/plain": [
       "                        universe_id universe_training_year  \\\n",
       "0  08ac658acb7e6954e1cf18586bfc58fd                   2014   \n",
       "\n",
       "  universe_training_size universe_scale universe_model  \\\n",
       "0                     5k   do-not-scale     elasticnet   \n",
       "\n",
       "  universe_exclude_features universe_exclude_subgroups     q_hat  coverage  \\\n",
       "0               nationality            drop-non-german  0.638478  0.911883   \n",
       "\n",
       "   avg_size  \n",
       "0  1.265968  "
      ]
     },
     "execution_count": 50,
     "metadata": {},
     "output_type": "execute_result"
    }
   ],
   "source": [
    "cp_metrics_df"
   ]
  },
  {
   "cell_type": "markdown",
   "id": "ed608b0b",
   "metadata": {
    "papermill": {
     "duration": 0.011828,
     "end_time": "2025-08-19T18:30:37.547099",
     "exception": false,
     "start_time": "2025-08-19T18:30:37.535271",
     "status": "completed"
    },
    "tags": []
   },
   "source": [
    "Conditional coverage & looking at subgroups"
   ]
  },
  {
   "cell_type": "code",
   "execution_count": 51,
   "id": "8968c366",
   "metadata": {
    "execution": {
     "iopub.execute_input": "2025-08-19T18:30:37.572073Z",
     "iopub.status.busy": "2025-08-19T18:30:37.571616Z",
     "iopub.status.idle": "2025-08-19T18:30:37.933769Z",
     "shell.execute_reply": "2025-08-19T18:30:37.933015Z"
    },
    "papermill": {
     "duration": 0.376383,
     "end_time": "2025-08-19T18:30:37.935205",
     "exception": false,
     "start_time": "2025-08-19T18:30:37.558822",
     "status": "completed"
    },
    "tags": []
   },
   "outputs": [],
   "source": [
    "from fairness_multiverse.conformal import build_cp_groups\n",
    "\n",
    "cp_groups_df = build_cp_groups(pred_sets, y_true, X_test.index, org_test)"
   ]
  },
  {
   "cell_type": "code",
   "execution_count": 52,
   "id": "292ddabf",
   "metadata": {
    "execution": {
     "iopub.execute_input": "2025-08-19T18:30:37.961723Z",
     "iopub.status.busy": "2025-08-19T18:30:37.960618Z",
     "iopub.status.idle": "2025-08-19T18:30:38.834424Z",
     "shell.execute_reply": "2025-08-19T18:30:38.833283Z"
    },
    "papermill": {
     "duration": 0.888313,
     "end_time": "2025-08-19T18:30:38.835899",
     "exception": false,
     "start_time": "2025-08-19T18:30:37.947586",
     "status": "completed"
    },
    "tags": []
   },
   "outputs": [],
   "source": [
    "# Define covered = 1 if true_label is in the predicted set\n",
    "cp_groups_df['covered'] = cp_groups_df.apply(\n",
    "    lambda r: int(r['true_label'] in r['pred_set']),\n",
    "    axis=1\n",
    ")"
   ]
  },
  {
   "cell_type": "code",
   "execution_count": 53,
   "id": "3a261692",
   "metadata": {
    "execution": {
     "iopub.execute_input": "2025-08-19T18:30:38.879496Z",
     "iopub.status.busy": "2025-08-19T18:30:38.878231Z",
     "iopub.status.idle": "2025-08-19T18:30:38.902112Z",
     "shell.execute_reply": "2025-08-19T18:30:38.901230Z"
    },
    "papermill": {
     "duration": 0.04295,
     "end_time": "2025-08-19T18:30:38.903594",
     "exception": false,
     "start_time": "2025-08-19T18:30:38.860644",
     "status": "completed"
    },
    "tags": []
   },
   "outputs": [],
   "source": [
    "subgroups = ['frau1','nongerman','nongerman_male','nongerman_female']\n",
    "\n",
    "# Conditional coverage for subgroup==1\n",
    "cond_coverage = {\n",
    "    g: cp_groups_df.loc[cp_groups_df[g]==1, 'covered'].mean()\n",
    "    for g in subgroups\n",
    "}"
   ]
  },
  {
   "cell_type": "code",
   "execution_count": 54,
   "id": "894fd600",
   "metadata": {
    "execution": {
     "iopub.execute_input": "2025-08-19T18:30:38.930872Z",
     "iopub.status.busy": "2025-08-19T18:30:38.929515Z",
     "iopub.status.idle": "2025-08-19T18:30:38.942088Z",
     "shell.execute_reply": "2025-08-19T18:30:38.940505Z"
    },
    "papermill": {
     "duration": 0.027065,
     "end_time": "2025-08-19T18:30:38.943412",
     "exception": false,
     "start_time": "2025-08-19T18:30:38.916347",
     "status": "completed"
    },
    "tags": []
   },
   "outputs": [
    {
     "data": {
      "text/plain": [
       "{'frau1': 0.9084782315675967,\n",
       " 'nongerman': 0.9614888003143771,\n",
       " 'nongerman_male': 0.97090876339728,\n",
       " 'nongerman_female': 0.9459016393442623}"
      ]
     },
     "execution_count": 54,
     "metadata": {},
     "output_type": "execute_result"
    }
   ],
   "source": [
    "cond_coverage"
   ]
  },
  {
   "cell_type": "code",
   "execution_count": 55,
   "id": "942895c7",
   "metadata": {
    "execution": {
     "iopub.execute_input": "2025-08-19T18:30:38.974272Z",
     "iopub.status.busy": "2025-08-19T18:30:38.972970Z",
     "iopub.status.idle": "2025-08-19T18:30:38.986373Z",
     "shell.execute_reply": "2025-08-19T18:30:38.983693Z"
    },
    "papermill": {
     "duration": 0.028756,
     "end_time": "2025-08-19T18:30:38.987855",
     "exception": false,
     "start_time": "2025-08-19T18:30:38.959099",
     "status": "completed"
    },
    "tags": []
   },
   "outputs": [],
   "source": [
    "for subgroup, cov in cond_coverage.items():\n",
    "    cp_metrics_df[f\"cov_{subgroup}\"] = cov"
   ]
  },
  {
   "cell_type": "code",
   "execution_count": 56,
   "id": "3970120f",
   "metadata": {
    "execution": {
     "iopub.execute_input": "2025-08-19T18:30:39.018378Z",
     "iopub.status.busy": "2025-08-19T18:30:39.016990Z",
     "iopub.status.idle": "2025-08-19T18:30:39.045772Z",
     "shell.execute_reply": "2025-08-19T18:30:39.044988Z"
    },
    "papermill": {
     "duration": 0.044509,
     "end_time": "2025-08-19T18:30:39.047735",
     "exception": false,
     "start_time": "2025-08-19T18:30:39.003226",
     "status": "completed"
    },
    "tags": []
   },
   "outputs": [
    {
     "data": {
      "text/html": [
       "<div>\n",
       "<style scoped>\n",
       "    .dataframe tbody tr th:only-of-type {\n",
       "        vertical-align: middle;\n",
       "    }\n",
       "\n",
       "    .dataframe tbody tr th {\n",
       "        vertical-align: top;\n",
       "    }\n",
       "\n",
       "    .dataframe thead th {\n",
       "        text-align: right;\n",
       "    }\n",
       "</style>\n",
       "<table border=\"1\" class=\"dataframe\">\n",
       "  <thead>\n",
       "    <tr style=\"text-align: right;\">\n",
       "      <th></th>\n",
       "      <th>universe_id</th>\n",
       "      <th>universe_training_year</th>\n",
       "      <th>universe_training_size</th>\n",
       "      <th>universe_scale</th>\n",
       "      <th>universe_model</th>\n",
       "      <th>universe_exclude_features</th>\n",
       "      <th>universe_exclude_subgroups</th>\n",
       "      <th>q_hat</th>\n",
       "      <th>coverage</th>\n",
       "      <th>avg_size</th>\n",
       "      <th>cov_frau1</th>\n",
       "      <th>cov_nongerman</th>\n",
       "      <th>cov_nongerman_male</th>\n",
       "      <th>cov_nongerman_female</th>\n",
       "    </tr>\n",
       "  </thead>\n",
       "  <tbody>\n",
       "    <tr>\n",
       "      <th>0</th>\n",
       "      <td>08ac658acb7e6954e1cf18586bfc58fd</td>\n",
       "      <td>2014</td>\n",
       "      <td>5k</td>\n",
       "      <td>do-not-scale</td>\n",
       "      <td>elasticnet</td>\n",
       "      <td>nationality</td>\n",
       "      <td>drop-non-german</td>\n",
       "      <td>0.638478</td>\n",
       "      <td>0.911883</td>\n",
       "      <td>1.265968</td>\n",
       "      <td>0.908478</td>\n",
       "      <td>0.961489</td>\n",
       "      <td>0.970909</td>\n",
       "      <td>0.945902</td>\n",
       "    </tr>\n",
       "  </tbody>\n",
       "</table>\n",
       "</div>"
      ],
      "text/plain": [
       "                        universe_id universe_training_year  \\\n",
       "0  08ac658acb7e6954e1cf18586bfc58fd                   2014   \n",
       "\n",
       "  universe_training_size universe_scale universe_model  \\\n",
       "0                     5k   do-not-scale     elasticnet   \n",
       "\n",
       "  universe_exclude_features universe_exclude_subgroups     q_hat  coverage  \\\n",
       "0               nationality            drop-non-german  0.638478  0.911883   \n",
       "\n",
       "   avg_size  cov_frau1  cov_nongerman  cov_nongerman_male  \\\n",
       "0  1.265968   0.908478       0.961489            0.970909   \n",
       "\n",
       "   cov_nongerman_female  \n",
       "0              0.945902  "
      ]
     },
     "execution_count": 56,
     "metadata": {},
     "output_type": "execute_result"
    }
   ],
   "source": [
    "cp_metrics_df"
   ]
  },
  {
   "cell_type": "markdown",
   "id": "3fc519cc",
   "metadata": {
    "papermill": {
     "duration": 0.013875,
     "end_time": "2025-08-19T18:30:39.084874",
     "exception": false,
     "start_time": "2025-08-19T18:30:39.070999",
     "status": "completed"
    },
    "tags": []
   },
   "source": [
    "# (Fairness) Metrics"
   ]
  },
  {
   "cell_type": "code",
   "execution_count": 57,
   "id": "a2e5e155",
   "metadata": {
    "execution": {
     "iopub.execute_input": "2025-08-19T18:30:39.114741Z",
     "iopub.status.busy": "2025-08-19T18:30:39.114324Z",
     "iopub.status.idle": "2025-08-19T18:30:39.131369Z",
     "shell.execute_reply": "2025-08-19T18:30:39.130737Z"
    },
    "papermill": {
     "duration": 0.033912,
     "end_time": "2025-08-19T18:30:39.132696",
     "exception": false,
     "start_time": "2025-08-19T18:30:39.098784",
     "status": "completed"
    },
    "tags": []
   },
   "outputs": [],
   "source": [
    "colname_to_bin = \"maxdeutsch1\"\n",
    "majority_value = org_train[colname_to_bin].mode()[0]\n",
    "\n",
    "org_test[\"majmin\"] = np.where(org_test[colname_to_bin] == majority_value, \"majority\", \"minority\")"
   ]
  },
  {
   "cell_type": "code",
   "execution_count": 58,
   "id": "17e3e4d5",
   "metadata": {
    "execution": {
     "iopub.execute_input": "2025-08-19T18:30:39.167729Z",
     "iopub.status.busy": "2025-08-19T18:30:39.166649Z",
     "iopub.status.idle": "2025-08-19T18:30:40.861919Z",
     "shell.execute_reply": "2025-08-19T18:30:40.860644Z"
    },
    "papermill": {
     "duration": 1.711627,
     "end_time": "2025-08-19T18:30:40.863472",
     "exception": false,
     "start_time": "2025-08-19T18:30:39.151845",
     "status": "completed"
    },
    "tags": []
   },
   "outputs": [],
   "source": [
    "example_universe = universe.copy()\n",
    "example_universe[\"cutoff\"] = example_universe[\"cutoff\"][0]\n",
    "example_universe[\"eval_fairness_grouping\"] = example_universe[\"eval_fairness_grouping\"][0]\n",
    "fairness_dict, metric_frame = universe_analysis.compute_metrics(\n",
    "    example_universe,\n",
    "    y_pred_prob=probs_test,\n",
    "    y_test=y_true,\n",
    "    org_test=org_test,\n",
    ")"
   ]
  },
  {
   "cell_type": "markdown",
   "id": "1fb7a0e9",
   "metadata": {
    "papermill": {
     "duration": 0.012325,
     "end_time": "2025-08-19T18:30:40.888726",
     "exception": false,
     "start_time": "2025-08-19T18:30:40.876401",
     "status": "completed"
    },
    "tags": []
   },
   "source": [
    "# Overall"
   ]
  },
  {
   "cell_type": "markdown",
   "id": "be1784b1",
   "metadata": {
    "papermill": {
     "duration": 0.012154,
     "end_time": "2025-08-19T18:30:40.913401",
     "exception": false,
     "start_time": "2025-08-19T18:30:40.901247",
     "status": "completed"
    },
    "tags": []
   },
   "source": [
    "Main fairness target: Equalized Odds. Seems to be a better fit than equal opportunity, since we're not only interested in Y = 1. Seems to be a better fit than demographic parity, since we also care about accuracy, not just equal distribution of preds.\n",
    "\n",
    "Pick column for computation of fairness metrics\n",
    "\n",
    "Performance\n",
    "Overall performance measures, most interesting in relation to the measures split by group below"
   ]
  },
  {
   "cell_type": "code",
   "execution_count": 59,
   "id": "b7672bee",
   "metadata": {
    "execution": {
     "iopub.execute_input": "2025-08-19T18:30:40.939827Z",
     "iopub.status.busy": "2025-08-19T18:30:40.939313Z",
     "iopub.status.idle": "2025-08-19T18:30:40.947628Z",
     "shell.execute_reply": "2025-08-19T18:30:40.946852Z"
    },
    "papermill": {
     "duration": 0.023501,
     "end_time": "2025-08-19T18:30:40.949062",
     "exception": false,
     "start_time": "2025-08-19T18:30:40.925561",
     "status": "completed"
    },
    "tags": []
   },
   "outputs": [
    {
     "data": {
      "text/plain": [
       "accuracy                   0.213432\n",
       "balanced accuracy          0.524163\n",
       "f1                         0.235065\n",
       "precision                  0.134285\n",
       "false positive rate        0.893801\n",
       "false negative rate        0.057873\n",
       "selection rate             0.900000\n",
       "count                  89710.000000\n",
       "dtype: float64"
      ]
     },
     "execution_count": 59,
     "metadata": {},
     "output_type": "execute_result"
    }
   ],
   "source": [
    "metric_frame.overall"
   ]
  },
  {
   "cell_type": "markdown",
   "id": "d93333c9",
   "metadata": {
    "papermill": {
     "duration": 0.01244,
     "end_time": "2025-08-19T18:30:40.975187",
     "exception": false,
     "start_time": "2025-08-19T18:30:40.962747",
     "status": "completed"
    },
    "tags": []
   },
   "source": [
    "By Group"
   ]
  },
  {
   "cell_type": "code",
   "execution_count": 60,
   "id": "52256966",
   "metadata": {
    "execution": {
     "iopub.execute_input": "2025-08-19T18:30:41.002482Z",
     "iopub.status.busy": "2025-08-19T18:30:41.001502Z",
     "iopub.status.idle": "2025-08-19T18:30:41.035456Z",
     "shell.execute_reply": "2025-08-19T18:30:41.034769Z"
    },
    "papermill": {
     "duration": 0.049736,
     "end_time": "2025-08-19T18:30:41.037239",
     "exception": false,
     "start_time": "2025-08-19T18:30:40.987503",
     "status": "completed"
    },
    "tags": []
   },
   "outputs": [
    {
     "data": {
      "text/html": [
       "<div>\n",
       "<style scoped>\n",
       "    .dataframe tbody tr th:only-of-type {\n",
       "        vertical-align: middle;\n",
       "    }\n",
       "\n",
       "    .dataframe tbody tr th {\n",
       "        vertical-align: top;\n",
       "    }\n",
       "\n",
       "    .dataframe thead th {\n",
       "        text-align: right;\n",
       "    }\n",
       "</style>\n",
       "<table border=\"1\" class=\"dataframe\">\n",
       "  <thead>\n",
       "    <tr style=\"text-align: right;\">\n",
       "      <th></th>\n",
       "      <th>accuracy</th>\n",
       "      <th>balanced accuracy</th>\n",
       "      <th>f1</th>\n",
       "      <th>precision</th>\n",
       "      <th>false positive rate</th>\n",
       "      <th>false negative rate</th>\n",
       "      <th>selection rate</th>\n",
       "      <th>count</th>\n",
       "    </tr>\n",
       "    <tr>\n",
       "      <th>majmin</th>\n",
       "      <th></th>\n",
       "      <th></th>\n",
       "      <th></th>\n",
       "      <th></th>\n",
       "      <th></th>\n",
       "      <th></th>\n",
       "      <th></th>\n",
       "      <th></th>\n",
       "    </tr>\n",
       "  </thead>\n",
       "  <tbody>\n",
       "    <tr>\n",
       "      <th>majority</th>\n",
       "      <td>0.233916</td>\n",
       "      <td>0.530627</td>\n",
       "      <td>0.243670</td>\n",
       "      <td>0.140114</td>\n",
       "      <td>0.872664</td>\n",
       "      <td>0.066083</td>\n",
       "      <td>0.880758</td>\n",
       "      <td>69170.0</td>\n",
       "    </tr>\n",
       "    <tr>\n",
       "      <th>minority</th>\n",
       "      <td>0.144450</td>\n",
       "      <td>0.505096</td>\n",
       "      <td>0.207888</td>\n",
       "      <td>0.116365</td>\n",
       "      <td>0.963625</td>\n",
       "      <td>0.026182</td>\n",
       "      <td>0.964800</td>\n",
       "      <td>20540.0</td>\n",
       "    </tr>\n",
       "  </tbody>\n",
       "</table>\n",
       "</div>"
      ],
      "text/plain": [
       "          accuracy  balanced accuracy        f1  precision  \\\n",
       "majmin                                                       \n",
       "majority  0.233916           0.530627  0.243670   0.140114   \n",
       "minority  0.144450           0.505096  0.207888   0.116365   \n",
       "\n",
       "          false positive rate  false negative rate  selection rate    count  \n",
       "majmin                                                                       \n",
       "majority             0.872664             0.066083        0.880758  69170.0  \n",
       "minority             0.963625             0.026182        0.964800  20540.0  "
      ]
     },
     "execution_count": 60,
     "metadata": {},
     "output_type": "execute_result"
    }
   ],
   "source": [
    "metric_frame.by_group"
   ]
  },
  {
   "cell_type": "code",
   "execution_count": 61,
   "id": "6e6c20ae",
   "metadata": {
    "execution": {
     "iopub.execute_input": "2025-08-19T18:30:41.077793Z",
     "iopub.status.busy": "2025-08-19T18:30:41.076677Z",
     "iopub.status.idle": "2025-08-19T18:30:42.939370Z",
     "shell.execute_reply": "2025-08-19T18:30:42.938434Z"
    },
    "papermill": {
     "duration": 1.879476,
     "end_time": "2025-08-19T18:30:42.940814",
     "exception": false,
     "start_time": "2025-08-19T18:30:41.061338",
     "status": "completed"
    },
    "tags": []
   },
   "outputs": [
    {
     "data": {
      "text/plain": [
       "array([[<Axes: title={'center': 'accuracy'}, xlabel='majmin'>,\n",
       "        <Axes: title={'center': 'balanced accuracy'}, xlabel='majmin'>,\n",
       "        <Axes: title={'center': 'f1'}, xlabel='majmin'>],\n",
       "       [<Axes: title={'center': 'precision'}, xlabel='majmin'>,\n",
       "        <Axes: title={'center': 'false positive rate'}, xlabel='majmin'>,\n",
       "        <Axes: title={'center': 'false negative rate'}, xlabel='majmin'>],\n",
       "       [<Axes: title={'center': 'selection rate'}, xlabel='majmin'>,\n",
       "        <Axes: title={'center': 'count'}, xlabel='majmin'>,\n",
       "        <Axes: xlabel='majmin'>]], dtype=object)"
      ]
     },
     "execution_count": 61,
     "metadata": {},
     "output_type": "execute_result"
    },
    {
     "data": {
      "image/png": "[encoded data removed]",
      "text/plain": [
       "<Figure size 1200x800 with 9 Axes>"
      ]
     },
     "metadata": {},
     "output_type": "display_data"
    }
   ],
   "source": [
    "# In a graphic\n",
    "metric_frame.by_group.plot.bar(\n",
    "    subplots=True,\n",
    "    layout=[3, 3],\n",
    "    legend=False,\n",
    "    figsize=[12, 8],\n",
    "    title=\"Show all metrics\",\n",
    ")"
   ]
  },
  {
   "cell_type": "markdown",
   "id": "b2e433ae",
   "metadata": {
    "papermill": {
     "duration": 0.017111,
     "end_time": "2025-08-19T18:30:42.974268",
     "exception": false,
     "start_time": "2025-08-19T18:30:42.957157",
     "status": "completed"
    },
    "tags": []
   },
   "source": [
    "# Final Output"
   ]
  },
  {
   "cell_type": "code",
   "execution_count": 62,
   "id": "3871301e",
   "metadata": {
    "execution": {
     "iopub.execute_input": "2025-08-19T18:30:43.005046Z",
     "iopub.status.busy": "2025-08-19T18:30:43.004287Z",
     "iopub.status.idle": "2025-08-19T18:30:43.013801Z",
     "shell.execute_reply": "2025-08-19T18:30:43.013130Z"
    },
    "papermill": {
     "duration": 0.026599,
     "end_time": "2025-08-19T18:30:43.015229",
     "exception": false,
     "start_time": "2025-08-19T18:30:42.988630",
     "status": "completed"
    },
    "tags": []
   },
   "outputs": [
    {
     "data": {
      "text/plain": [
       "4"
      ]
     },
     "execution_count": 62,
     "metadata": {},
     "output_type": "execute_result"
    }
   ],
   "source": [
    "sub_universes = universe_analysis.generate_sub_universes()\n",
    "len(sub_universes)"
   ]
  },
  {
   "cell_type": "code",
   "execution_count": 63,
   "id": "d9cfdaca",
   "metadata": {
    "execution": {
     "iopub.execute_input": "2025-08-19T18:30:43.056292Z",
     "iopub.status.busy": "2025-08-19T18:30:43.056001Z",
     "iopub.status.idle": "2025-08-19T18:30:43.084497Z",
     "shell.execute_reply": "2025-08-19T18:30:43.083773Z"
    },
    "papermill": {
     "duration": 0.048571,
     "end_time": "2025-08-19T18:30:43.086822",
     "exception": false,
     "start_time": "2025-08-19T18:30:43.038251",
     "status": "completed"
    },
    "tags": []
   },
   "outputs": [],
   "source": [
    "def filter_sub_universe_data(sub_universe, org_test):\n",
    "    # Keep all rows — no filtering\n",
    "    keep_rows_mask = np.ones(org_test.shape[0], dtype=bool)\n",
    "\n",
    "    print(f\"[INFO] Keeping all rows: {keep_rows_mask.sum()} rows retained.\")\n",
    "    return keep_rows_mask"
   ]
  },
  {
   "cell_type": "code",
   "execution_count": 64,
   "id": "2bc31ac1",
   "metadata": {
    "execution": {
     "iopub.execute_input": "2025-08-19T18:30:43.130796Z",
     "iopub.status.busy": "2025-08-19T18:30:43.130079Z",
     "iopub.status.idle": "2025-08-19T18:30:49.744552Z",
     "shell.execute_reply": "2025-08-19T18:30:49.743471Z"
    },
    "papermill": {
     "duration": 6.635315,
     "end_time": "2025-08-19T18:30:49.748751",
     "exception": false,
     "start_time": "2025-08-19T18:30:43.113436",
     "status": "completed"
    },
    "tags": []
   },
   "outputs": [
    {
     "name": "stdout",
     "output_type": "stream",
     "text": [
      "Stopping execution_time clock.\n",
      "[INFO] Keeping all rows: 89710 rows retained.\n"
     ]
    },
    {
     "name": "stdout",
     "output_type": "stream",
     "text": [
      "[INFO] Keeping all rows: 89710 rows retained.\n"
     ]
    },
    {
     "name": "stdout",
     "output_type": "stream",
     "text": [
      "[INFO] Keeping all rows: 89710 rows retained.\n"
     ]
    },
    {
     "name": "stdout",
     "output_type": "stream",
     "text": [
      "[INFO] Keeping all rows: 89710 rows retained.\n"
     ]
    },
    {
     "data": {
      "text/html": [
       "<div>\n",
       "<style scoped>\n",
       "    .dataframe tbody tr th:only-of-type {\n",
       "        vertical-align: middle;\n",
       "    }\n",
       "\n",
       "    .dataframe tbody tr th {\n",
       "        vertical-align: top;\n",
       "    }\n",
       "\n",
       "    .dataframe thead th {\n",
       "        text-align: right;\n",
       "    }\n",
       "</style>\n",
       "<table border=\"1\" class=\"dataframe\">\n",
       "  <thead>\n",
       "    <tr style=\"text-align: right;\">\n",
       "      <th></th>\n",
       "      <th>run_no</th>\n",
       "      <th>universe_id</th>\n",
       "      <th>universe_settings</th>\n",
       "      <th>execution_time</th>\n",
       "      <th>test_size_n</th>\n",
       "      <th>test_size_frac</th>\n",
       "      <th>fair_main_equalized_odds_difference</th>\n",
       "      <th>fair_main_equalized_odds_ratio</th>\n",
       "      <th>fair_main_demographic_parity_difference</th>\n",
       "      <th>fair_main_demographic_parity_ratio</th>\n",
       "      <th>...</th>\n",
       "      <th>perf_grp_precision_0</th>\n",
       "      <th>perf_grp_precision_1</th>\n",
       "      <th>perf_grp_false positive rate_0</th>\n",
       "      <th>perf_grp_false positive rate_1</th>\n",
       "      <th>perf_grp_false negative rate_0</th>\n",
       "      <th>perf_grp_false negative rate_1</th>\n",
       "      <th>perf_grp_selection rate_0</th>\n",
       "      <th>perf_grp_selection rate_1</th>\n",
       "      <th>perf_grp_count_0</th>\n",
       "      <th>perf_grp_count_1</th>\n",
       "    </tr>\n",
       "  </thead>\n",
       "  <tbody>\n",
       "    <tr>\n",
       "      <th>0</th>\n",
       "      <td>3</td>\n",
       "      <td>08ac658acb7e6954e1cf18586bfc58fd</td>\n",
       "      <td>{\"cutoff\": \"quantile_0.1\", \"eval_fairness_grou...</td>\n",
       "      <td>21.950315</td>\n",
       "      <td>89710</td>\n",
       "      <td>1.0</td>\n",
       "      <td>0.090962</td>\n",
       "      <td>0.905605</td>\n",
       "      <td>0.084043</td>\n",
       "      <td>0.912891</td>\n",
       "      <td>...</td>\n",
       "      <td>NaN</td>\n",
       "      <td>NaN</td>\n",
       "      <td>NaN</td>\n",
       "      <td>NaN</td>\n",
       "      <td>NaN</td>\n",
       "      <td>NaN</td>\n",
       "      <td>NaN</td>\n",
       "      <td>NaN</td>\n",
       "      <td>NaN</td>\n",
       "      <td>NaN</td>\n",
       "    </tr>\n",
       "    <tr>\n",
       "      <th>0</th>\n",
       "      <td>3</td>\n",
       "      <td>08ac658acb7e6954e1cf18586bfc58fd</td>\n",
       "      <td>{\"cutoff\": \"quantile_0.1\", \"eval_fairness_grou...</td>\n",
       "      <td>21.950315</td>\n",
       "      <td>89710</td>\n",
       "      <td>1.0</td>\n",
       "      <td>0.090962</td>\n",
       "      <td>0.905605</td>\n",
       "      <td>0.084043</td>\n",
       "      <td>0.912891</td>\n",
       "      <td>...</td>\n",
       "      <td>0.116365</td>\n",
       "      <td>0.140114</td>\n",
       "      <td>0.963625</td>\n",
       "      <td>0.872664</td>\n",
       "      <td>0.026182</td>\n",
       "      <td>0.066083</td>\n",
       "      <td>0.964800</td>\n",
       "      <td>0.880758</td>\n",
       "      <td>20540.0</td>\n",
       "      <td>69170.0</td>\n",
       "    </tr>\n",
       "    <tr>\n",
       "      <th>0</th>\n",
       "      <td>3</td>\n",
       "      <td>08ac658acb7e6954e1cf18586bfc58fd</td>\n",
       "      <td>{\"cutoff\": \"quantile_0.25\", \"eval_fairness_gro...</td>\n",
       "      <td>21.950315</td>\n",
       "      <td>89710</td>\n",
       "      <td>1.0</td>\n",
       "      <td>0.220269</td>\n",
       "      <td>0.756880</td>\n",
       "      <td>0.205789</td>\n",
       "      <td>0.773526</td>\n",
       "      <td>...</td>\n",
       "      <td>NaN</td>\n",
       "      <td>NaN</td>\n",
       "      <td>NaN</td>\n",
       "      <td>NaN</td>\n",
       "      <td>NaN</td>\n",
       "      <td>NaN</td>\n",
       "      <td>NaN</td>\n",
       "      <td>NaN</td>\n",
       "      <td>NaN</td>\n",
       "      <td>NaN</td>\n",
       "    </tr>\n",
       "    <tr>\n",
       "      <th>0</th>\n",
       "      <td>3</td>\n",
       "      <td>08ac658acb7e6954e1cf18586bfc58fd</td>\n",
       "      <td>{\"cutoff\": \"quantile_0.25\", \"eval_fairness_gro...</td>\n",
       "      <td>21.950315</td>\n",
       "      <td>89710</td>\n",
       "      <td>1.0</td>\n",
       "      <td>0.220269</td>\n",
       "      <td>0.756880</td>\n",
       "      <td>0.205789</td>\n",
       "      <td>0.773526</td>\n",
       "      <td>...</td>\n",
       "      <td>0.117874</td>\n",
       "      <td>0.153297</td>\n",
       "      <td>0.906009</td>\n",
       "      <td>0.685740</td>\n",
       "      <td>0.070946</td>\n",
       "      <td>0.184573</td>\n",
       "      <td>0.908666</td>\n",
       "      <td>0.702877</td>\n",
       "      <td>20540.0</td>\n",
       "      <td>69170.0</td>\n",
       "    </tr>\n",
       "  </tbody>\n",
       "</table>\n",
       "<p>4 rows × 50 columns</p>\n",
       "</div>"
      ],
      "text/plain": [
       "  run_no                       universe_id  \\\n",
       "0      3  08ac658acb7e6954e1cf18586bfc58fd   \n",
       "0      3  08ac658acb7e6954e1cf18586bfc58fd   \n",
       "0      3  08ac658acb7e6954e1cf18586bfc58fd   \n",
       "0      3  08ac658acb7e6954e1cf18586bfc58fd   \n",
       "\n",
       "                                   universe_settings  execution_time  \\\n",
       "0  {\"cutoff\": \"quantile_0.1\", \"eval_fairness_grou...       21.950315   \n",
       "0  {\"cutoff\": \"quantile_0.1\", \"eval_fairness_grou...       21.950315   \n",
       "0  {\"cutoff\": \"quantile_0.25\", \"eval_fairness_gro...       21.950315   \n",
       "0  {\"cutoff\": \"quantile_0.25\", \"eval_fairness_gro...       21.950315   \n",
       "\n",
       "   test_size_n  test_size_frac  fair_main_equalized_odds_difference  \\\n",
       "0        89710             1.0                             0.090962   \n",
       "0        89710             1.0                             0.090962   \n",
       "0        89710             1.0                             0.220269   \n",
       "0        89710             1.0                             0.220269   \n",
       "\n",
       "   fair_main_equalized_odds_ratio  fair_main_demographic_parity_difference  \\\n",
       "0                        0.905605                                 0.084043   \n",
       "0                        0.905605                                 0.084043   \n",
       "0                        0.756880                                 0.205789   \n",
       "0                        0.756880                                 0.205789   \n",
       "\n",
       "   fair_main_demographic_parity_ratio  ...  perf_grp_precision_0  \\\n",
       "0                            0.912891  ...                   NaN   \n",
       "0                            0.912891  ...              0.116365   \n",
       "0                            0.773526  ...                   NaN   \n",
       "0                            0.773526  ...              0.117874   \n",
       "\n",
       "   perf_grp_precision_1  perf_grp_false positive rate_0  \\\n",
       "0                   NaN                             NaN   \n",
       "0              0.140114                        0.963625   \n",
       "0                   NaN                             NaN   \n",
       "0              0.153297                        0.906009   \n",
       "\n",
       "   perf_grp_false positive rate_1  perf_grp_false negative rate_0  \\\n",
       "0                             NaN                             NaN   \n",
       "0                        0.872664                        0.026182   \n",
       "0                             NaN                             NaN   \n",
       "0                        0.685740                        0.070946   \n",
       "\n",
       "   perf_grp_false negative rate_1  perf_grp_selection rate_0  \\\n",
       "0                             NaN                        NaN   \n",
       "0                        0.066083                   0.964800   \n",
       "0                             NaN                        NaN   \n",
       "0                        0.184573                   0.908666   \n",
       "\n",
       "   perf_grp_selection rate_1  perf_grp_count_0  perf_grp_count_1  \n",
       "0                        NaN               NaN               NaN  \n",
       "0                   0.880758           20540.0           69170.0  \n",
       "0                        NaN               NaN               NaN  \n",
       "0                   0.702877           20540.0           69170.0  \n",
       "\n",
       "[4 rows x 50 columns]"
      ]
     },
     "execution_count": 64,
     "metadata": {},
     "output_type": "execute_result"
    }
   ],
   "source": [
    "final_output = universe_analysis.generate_final_output(\n",
    "    y_pred_prob=probs_test,\n",
    "    y_test=y_true,\n",
    "    org_test=org_test,\n",
    "    filter_data=filter_sub_universe_data,\n",
    "    cp_metrics_df=cp_metrics_df,\n",
    "    save=True,\n",
    ")\n",
    "final_output"
   ]
  },
  {
   "cell_type": "code",
   "execution_count": null,
   "id": "8b80a1ff",
   "metadata": {
    "papermill": {
     "duration": 0.014306,
     "end_time": "2025-08-19T18:30:49.795997",
     "exception": false,
     "start_time": "2025-08-19T18:30:49.781691",
     "status": "completed"
    },
    "tags": []
   },
   "outputs": [],
   "source": []
  },
  {
   "cell_type": "code",
   "execution_count": null,
   "id": "275c9fad",
   "metadata": {
    "papermill": {
     "duration": 0.013999,
     "end_time": "2025-08-19T18:30:49.824085",
     "exception": false,
     "start_time": "2025-08-19T18:30:49.810086",
     "status": "completed"
    },
    "tags": []
   },
   "outputs": [],
   "source": []
  }
 ],
 "metadata": {
  "celltoolbar": "Tags",
  "kernelspec": {
   "display_name": "Python (CMA Fairness)",
   "language": "python",
   "name": "cma_fair_env"
  },
  "language_info": {
   "codemirror_mode": {
    "name": "ipython",
    "version": 3
   },
   "file_extension": ".py",
   "mimetype": "text/x-python",
   "name": "python",
   "nbconvert_exporter": "python",
   "pygments_lexer": "ipython3",
   "version": "3.10.12"
  },
  "papermill": {
   "default_parameters": {},
   "duration": 32.749576,
   "end_time": "2025-08-19T18:30:50.761121",
   "environment_variables": {},
   "exception": null,
   "input_path": "universe_analysis.ipynb",
   "output_path": "output/runs/3/notebooks/m_3-08ac658acb7e6954e1cf18586bfc58fd.ipynb",
   "parameters": {
    "output_dir": "output",
    "run_no": "3",
    "seed": "2023",
    "universe": "{\"cutoff\": [\"quantile_0.1\", \"quantile_0.25\"], \"eval_fairness_grouping\": [\"majority-minority\", \"nationality-all\"], \"exclude_features\": \"nationality\", \"exclude_subgroups\": \"drop-non-german\", \"model\": \"elasticnet\", \"scale\": \"do-not-scale\", \"training_size\": \"5k\", \"training_year\": \"2014\"}",
    "universe_id": "08ac658acb7e6954e1cf18586bfc58fd"
   },
   "start_time": "2025-08-19T18:30:18.011545",
   "version": "2.6.0"
  }
 },
 "nbformat": 4,
 "nbformat_minor": 5
}