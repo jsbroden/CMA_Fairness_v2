{
 "cells": [
  {
   "cell_type": "markdown",
   "id": "ef23dbb3",
   "metadata": {
    "papermill": {
     "duration": 0.010767,
     "end_time": "2025-08-19T18:41:05.651089",
     "exception": false,
     "start_time": "2025-08-19T18:41:05.640322",
     "status": "completed"
    },
    "tags": []
   },
   "source": [
    "# Setup"
   ]
  },
  {
   "cell_type": "code",
   "execution_count": 1,
   "id": "0bc8e7dc",
   "metadata": {
    "execution": {
     "iopub.execute_input": "2025-08-19T18:41:05.669737Z",
     "iopub.status.busy": "2025-08-19T18:41:05.669349Z",
     "iopub.status.idle": "2025-08-19T18:41:05.680803Z",
     "shell.execute_reply": "2025-08-19T18:41:05.680064Z"
    },
    "papermill": {
     "duration": 0.022322,
     "end_time": "2025-08-19T18:41:05.682065",
     "exception": false,
     "start_time": "2025-08-19T18:41:05.659743",
     "status": "completed"
    },
    "tags": []
   },
   "outputs": [
    {
     "name": "stdout",
     "output_type": "stream",
     "text": [
      "/dss/dsshome1/0C/ra93lal2/cma/CMA_Fairness_v2\n"
     ]
    },
    {
     "name": "stderr",
     "output_type": "stream",
     "text": [
      "/dss/dsshome1/0C/ra93lal2/.local/share/virtualenvs/CMA_Fairness_v2-3j10GkSs/lib/python3.10/site-packages/IPython/core/magics/osm.py:393: UserWarning: This is now an optional IPython functionality, using bookmarks requires you to install the `pickleshare` library.\n",
      "  bkms = self.shell.db.get('bookmarks', {})\n",
      "/dss/dsshome1/0C/ra93lal2/.local/share/virtualenvs/CMA_Fairness_v2-3j10GkSs/lib/python3.10/site-packages/IPython/core/magics/osm.py:417: UserWarning: This is now an optional IPython functionality, setting dhist requires you to install the `pickleshare` library.\n",
      "  self.shell.db['dhist'] = compress_dhist(dhist)[-100:]\n"
     ]
    }
   ],
   "source": [
    "%cd ~/cma/CMA_Fairness_v2"
   ]
  },
  {
   "cell_type": "markdown",
   "id": "9d235661",
   "metadata": {
    "papermill": {
     "duration": 0.009474,
     "end_time": "2025-08-19T18:41:05.702936",
     "exception": false,
     "start_time": "2025-08-19T18:41:05.693462",
     "status": "completed"
    },
    "tags": []
   },
   "source": [
    "The following cell holds the definition of our parameters, these values can be overriden by rendering the with e.g. the following command:\n",
    "\n",
    "papermill -p alpha 0.2 -p ratio 0.3 universe_analysis.ipynb output/test_run.ipynb"
   ]
  },
  {
   "cell_type": "code",
   "execution_count": 2,
   "id": "4a789d8e",
   "metadata": {
    "execution": {
     "iopub.execute_input": "2025-08-19T18:41:05.758425Z",
     "iopub.status.busy": "2025-08-19T18:41:05.758034Z",
     "iopub.status.idle": "2025-08-19T18:41:05.762744Z",
     "shell.execute_reply": "2025-08-19T18:41:05.762063Z"
    },
    "papermill": {
     "duration": 0.026753,
     "end_time": "2025-08-19T18:41:05.763730",
     "exception": false,
     "start_time": "2025-08-19T18:41:05.736977",
     "status": "completed"
    },
    "tags": []
   },
   "outputs": [
    {
     "name": "stdout",
     "output_type": "stream",
     "text": [
      "Current working directory: /dss/dsshome1/0C/ra93lal2/cma/CMA_Fairness_v2\n"
     ]
    }
   ],
   "source": [
    "import os\n",
    "print(\"Current working directory:\", os.getcwd())"
   ]
  },
  {
   "cell_type": "code",
   "execution_count": 3,
   "id": "4132aaed",
   "metadata": {
    "execution": {
     "iopub.execute_input": "2025-08-19T18:41:05.806397Z",
     "iopub.status.busy": "2025-08-19T18:41:05.806031Z",
     "iopub.status.idle": "2025-08-19T18:41:05.810370Z",
     "shell.execute_reply": "2025-08-19T18:41:05.809720Z"
    },
    "papermill": {
     "duration": 0.026504,
     "end_time": "2025-08-19T18:41:05.811419",
     "exception": false,
     "start_time": "2025-08-19T18:41:05.784915",
     "status": "completed"
    },
    "tags": [
     "parameters"
    ]
   },
   "outputs": [],
   "source": [
    "run_no = 0\n",
    "universe_id = \"test\"\n",
    "universe = {\n",
    "    \"training_size\": \"5k\", # \"25k\", \"5k\", \"1k\"\n",
    "    \"training_year\": \"2012_14\", # \"2014\", \"2012_14\", \"2010_14\"\n",
    "    \"scale\": \"scale\", # \"scale\", \"do-not-scale\",\n",
    "    \"model\": \"elasticnet\", # \"logreg\", \"penalized_logreg\", \"rf\", \"gbm\", \"elasticnet\"\n",
    "    \"cutoff\": [\"quantile_0.15\", \"quantile_0.30\"],\n",
    "    \"exclude_features\": \"age\", # \"none\", \"nationality\", \"sex\", \"nationality-sex\", \"age\"\n",
    "    \"exclude_subgroups\": \"drop-non-german\", # \"keep-all\", \"drop-non-german\"\n",
    "    \"eval_fairness_grouping\": [\"majority-minority\", \"nationality-all\"]\n",
    "}\n",
    "\n",
    "output_dir=\"./output\"\n",
    "seed=0"
   ]
  },
  {
   "cell_type": "code",
   "execution_count": 4,
   "id": "7baabb85",
   "metadata": {
    "execution": {
     "iopub.execute_input": "2025-08-19T18:41:05.844387Z",
     "iopub.status.busy": "2025-08-19T18:41:05.844044Z",
     "iopub.status.idle": "2025-08-19T18:41:05.847771Z",
     "shell.execute_reply": "2025-08-19T18:41:05.847163Z"
    },
    "papermill": {
     "duration": 0.015873,
     "end_time": "2025-08-19T18:41:05.848789",
     "exception": false,
     "start_time": "2025-08-19T18:41:05.832916",
     "status": "completed"
    },
    "tags": [
     "injected-parameters"
    ]
   },
   "outputs": [],
   "source": [
    "# Parameters\n",
    "universe_id = \"5dfac1059e2b59ce356febb53bd79ed9\"\n",
    "run_no = \"3\"\n",
    "universe = \"{\\\"cutoff\\\": [\\\"quantile_0.1\\\", \\\"quantile_0.25\\\"], \\\"eval_fairness_grouping\\\": [\\\"majority-minority\\\", \\\"nationality-all\\\"], \\\"exclude_features\\\": \\\"nationality\\\", \\\"exclude_subgroups\\\": \\\"keep-all\\\", \\\"model\\\": \\\"penalized_logreg\\\", \\\"scale\\\": \\\"scale\\\", \\\"training_size\\\": \\\"5k\\\", \\\"training_year\\\": \\\"2010_14\\\"}\"\n",
    "output_dir = \"output\"\n",
    "seed = \"2023\"\n"
   ]
  },
  {
   "cell_type": "code",
   "execution_count": 5,
   "id": "a5d7941f",
   "metadata": {
    "execution": {
     "iopub.execute_input": "2025-08-19T18:41:05.867712Z",
     "iopub.status.busy": "2025-08-19T18:41:05.867363Z",
     "iopub.status.idle": "2025-08-19T18:41:05.871010Z",
     "shell.execute_reply": "2025-08-19T18:41:05.870275Z"
    },
    "papermill": {
     "duration": 0.014612,
     "end_time": "2025-08-19T18:41:05.872287",
     "exception": false,
     "start_time": "2025-08-19T18:41:05.857675",
     "status": "completed"
    },
    "tags": []
   },
   "outputs": [],
   "source": [
    "import json\n",
    "if isinstance(universe, str):\n",
    "    universe = json.loads(universe)"
   ]
  },
  {
   "cell_type": "code",
   "execution_count": 6,
   "id": "7076ccb1",
   "metadata": {
    "execution": {
     "iopub.execute_input": "2025-08-19T18:41:05.891807Z",
     "iopub.status.busy": "2025-08-19T18:41:05.891480Z",
     "iopub.status.idle": "2025-08-19T18:41:06.013191Z",
     "shell.execute_reply": "2025-08-19T18:41:06.012397Z"
    },
    "papermill": {
     "duration": 0.132872,
     "end_time": "2025-08-19T18:41:06.014678",
     "exception": false,
     "start_time": "2025-08-19T18:41:05.881806",
     "status": "completed"
    },
    "tags": []
   },
   "outputs": [],
   "source": [
    "# Auto-reload the custom package\n",
    "%load_ext autoreload\n",
    "%autoreload 1\n",
    "%aimport fairness_multiverse"
   ]
  },
  {
   "cell_type": "code",
   "execution_count": 7,
   "id": "94c8eb93",
   "metadata": {
    "execution": {
     "iopub.execute_input": "2025-08-19T18:41:06.043547Z",
     "iopub.status.busy": "2025-08-19T18:41:06.043176Z",
     "iopub.status.idle": "2025-08-19T18:41:08.476892Z",
     "shell.execute_reply": "2025-08-19T18:41:08.469380Z"
    },
    "papermill": {
     "duration": 2.445608,
     "end_time": "2025-08-19T18:41:08.478634",
     "exception": false,
     "start_time": "2025-08-19T18:41:06.033026",
     "status": "completed"
    },
    "tags": []
   },
   "outputs": [],
   "source": [
    "from fairness_multiverse.universe import UniverseAnalysis\n",
    "\n",
    "universe_analysis = UniverseAnalysis(\n",
    "    run_no = run_no,\n",
    "    universe_id = universe_id,\n",
    "    universe = universe,\n",
    "    output_dir=output_dir,\n",
    ")"
   ]
  },
  {
   "cell_type": "code",
   "execution_count": 8,
   "id": "2a6381cf",
   "metadata": {
    "execution": {
     "iopub.execute_input": "2025-08-19T18:41:08.520912Z",
     "iopub.status.busy": "2025-08-19T18:41:08.520431Z",
     "iopub.status.idle": "2025-08-19T18:41:08.528342Z",
     "shell.execute_reply": "2025-08-19T18:41:08.527511Z"
    },
    "papermill": {
     "duration": 0.030732,
     "end_time": "2025-08-19T18:41:08.529955",
     "exception": false,
     "start_time": "2025-08-19T18:41:08.499223",
     "status": "completed"
    },
    "tags": []
   },
   "outputs": [
    {
     "name": "stdout",
     "output_type": "stream",
     "text": [
      "Using Seed: 2023\n"
     ]
    }
   ],
   "source": [
    "import numpy as np\n",
    "parsed_seed = int(seed)\n",
    "np.random.seed(parsed_seed)\n",
    "print(f\"Using Seed: {parsed_seed}\")"
   ]
  },
  {
   "cell_type": "markdown",
   "id": "b6e958b4",
   "metadata": {
    "papermill": {
     "duration": 0.009709,
     "end_time": "2025-08-19T18:41:08.553006",
     "exception": false,
     "start_time": "2025-08-19T18:41:08.543297",
     "status": "completed"
    },
    "tags": []
   },
   "source": [
    "# Loading Data"
   ]
  },
  {
   "cell_type": "code",
   "execution_count": 9,
   "id": "98701482",
   "metadata": {
    "execution": {
     "iopub.execute_input": "2025-08-19T18:41:08.574093Z",
     "iopub.status.busy": "2025-08-19T18:41:08.573697Z",
     "iopub.status.idle": "2025-08-19T18:41:22.182714Z",
     "shell.execute_reply": "2025-08-19T18:41:22.181644Z"
    },
    "papermill": {
     "duration": 13.622116,
     "end_time": "2025-08-19T18:41:22.184058",
     "exception": false,
     "start_time": "2025-08-19T18:41:08.561942",
     "status": "completed"
    },
    "tags": []
   },
   "outputs": [
    {
     "name": "stdout",
     "output_type": "stream",
     "text": [
      "Loading SIAB data from cache: data/siab_cached.csv.gz\n"
     ]
    },
    {
     "name": "stdout",
     "output_type": "stream",
     "text": [
      "(643690, 164)\n"
     ]
    }
   ],
   "source": [
    "from pathlib import Path\n",
    "import pandas as pd\n",
    "\n",
    "# File paths\n",
    "raw_file = Path(\"data/raw/siab.csv\")\n",
    "cache_file = Path(\"data/siab_cached.csv.gz\")\n",
    "\n",
    "# Ensure cache directory exists\n",
    "cache_file.parent.mkdir(parents=True, exist_ok=True)\n",
    "\n",
    "# Load with simple caching\n",
    "if cache_file.exists():\n",
    "    print(f\"Loading SIAB data from cache: {cache_file}\")\n",
    "    siab = pd.read_csv(cache_file, compression='gzip')\n",
    "else:\n",
    "    print(f\"Cache not found. Reading raw SIAB data: {raw_file}\")\n",
    "    siab = pd.read_csv(raw_file)\n",
    "    siab.to_csv(cache_file, index=False, compression='gzip')\n",
    "    print(f\"Cached SIAB data to: {cache_file}\")\n",
    "\n",
    "print(siab.shape)"
   ]
  },
  {
   "cell_type": "code",
   "execution_count": 10,
   "id": "058d2abb",
   "metadata": {
    "execution": {
     "iopub.execute_input": "2025-08-19T18:41:22.226907Z",
     "iopub.status.busy": "2025-08-19T18:41:22.226551Z",
     "iopub.status.idle": "2025-08-19T18:41:22.535469Z",
     "shell.execute_reply": "2025-08-19T18:41:22.534807Z"
    },
    "papermill": {
     "duration": 0.338757,
     "end_time": "2025-08-19T18:41:22.536682",
     "exception": false,
     "start_time": "2025-08-19T18:41:22.197925",
     "status": "completed"
    },
    "tags": []
   },
   "outputs": [
    {
     "data": {
      "text/html": [
       "<div>\n",
       "<style scoped>\n",
       "    .dataframe tbody tr th:only-of-type {\n",
       "        vertical-align: middle;\n",
       "    }\n",
       "\n",
       "    .dataframe tbody tr th {\n",
       "        vertical-align: top;\n",
       "    }\n",
       "\n",
       "    .dataframe thead th {\n",
       "        text-align: right;\n",
       "    }\n",
       "</style>\n",
       "<table border=\"1\" class=\"dataframe\">\n",
       "  <thead>\n",
       "    <tr style=\"text-align: right;\">\n",
       "      <th></th>\n",
       "      <th>persnr</th>\n",
       "      <th>year</th>\n",
       "      <th>nrEntry</th>\n",
       "      <th>ltue</th>\n",
       "      <th>employed_before</th>\n",
       "      <th>receipt_leh_before</th>\n",
       "      <th>receipt_lhg_before</th>\n",
       "      <th>se_before</th>\n",
       "      <th>ASU_notue_seeking_before</th>\n",
       "      <th>ASU_other_before</th>\n",
       "      <th>...</th>\n",
       "      <th>minijob_tot_dur_byage</th>\n",
       "      <th>ft_tot_dur_byage</th>\n",
       "      <th>befrist_tot_dur_byage</th>\n",
       "      <th>leih_tot_dur_byage</th>\n",
       "      <th>LHG_tot_dur_byage</th>\n",
       "      <th>LEH_tot_dur_byage</th>\n",
       "      <th>almp_tot_dur_byage</th>\n",
       "      <th>almp_aw_tot_dur_byage</th>\n",
       "      <th>se_tot_dur_byage</th>\n",
       "      <th>seeking1_tot_dur_byage</th>\n",
       "    </tr>\n",
       "  </thead>\n",
       "  <tbody>\n",
       "    <tr>\n",
       "      <th>0</th>\n",
       "      <td>7</td>\n",
       "      <td>2015</td>\n",
       "      <td>1</td>\n",
       "      <td>0</td>\n",
       "      <td>1</td>\n",
       "      <td>0</td>\n",
       "      <td>0</td>\n",
       "      <td>0</td>\n",
       "      <td>1</td>\n",
       "      <td>0</td>\n",
       "      <td>...</td>\n",
       "      <td>0.000000</td>\n",
       "      <td>0.000000</td>\n",
       "      <td>15.043478</td>\n",
       "      <td>0.000000</td>\n",
       "      <td>0.000000</td>\n",
       "      <td>0.000000</td>\n",
       "      <td>0.000000</td>\n",
       "      <td>0.000000</td>\n",
       "      <td>0.000000</td>\n",
       "      <td>0.000000</td>\n",
       "    </tr>\n",
       "    <tr>\n",
       "      <th>1</th>\n",
       "      <td>18</td>\n",
       "      <td>2010</td>\n",
       "      <td>1</td>\n",
       "      <td>1</td>\n",
       "      <td>0</td>\n",
       "      <td>0</td>\n",
       "      <td>0</td>\n",
       "      <td>0</td>\n",
       "      <td>0</td>\n",
       "      <td>0</td>\n",
       "      <td>...</td>\n",
       "      <td>0.000000</td>\n",
       "      <td>0.000000</td>\n",
       "      <td>0.000000</td>\n",
       "      <td>0.000000</td>\n",
       "      <td>0.000000</td>\n",
       "      <td>0.000000</td>\n",
       "      <td>0.000000</td>\n",
       "      <td>0.000000</td>\n",
       "      <td>0.000000</td>\n",
       "      <td>0.000000</td>\n",
       "    </tr>\n",
       "    <tr>\n",
       "      <th>2</th>\n",
       "      <td>18</td>\n",
       "      <td>2011</td>\n",
       "      <td>2</td>\n",
       "      <td>0</td>\n",
       "      <td>1</td>\n",
       "      <td>0</td>\n",
       "      <td>1</td>\n",
       "      <td>0</td>\n",
       "      <td>1</td>\n",
       "      <td>0</td>\n",
       "      <td>...</td>\n",
       "      <td>2.714286</td>\n",
       "      <td>2.714286</td>\n",
       "      <td>0.000000</td>\n",
       "      <td>0.000000</td>\n",
       "      <td>10.775510</td>\n",
       "      <td>0.000000</td>\n",
       "      <td>8.367347</td>\n",
       "      <td>0.000000</td>\n",
       "      <td>0.000000</td>\n",
       "      <td>9.836735</td>\n",
       "    </tr>\n",
       "    <tr>\n",
       "      <th>3</th>\n",
       "      <td>18</td>\n",
       "      <td>2012</td>\n",
       "      <td>3</td>\n",
       "      <td>0</td>\n",
       "      <td>1</td>\n",
       "      <td>0</td>\n",
       "      <td>1</td>\n",
       "      <td>0</td>\n",
       "      <td>1</td>\n",
       "      <td>0</td>\n",
       "      <td>...</td>\n",
       "      <td>4.200000</td>\n",
       "      <td>4.200000</td>\n",
       "      <td>0.000000</td>\n",
       "      <td>0.000000</td>\n",
       "      <td>12.100000</td>\n",
       "      <td>0.000000</td>\n",
       "      <td>9.400000</td>\n",
       "      <td>0.000000</td>\n",
       "      <td>0.000000</td>\n",
       "      <td>9.960000</td>\n",
       "    </tr>\n",
       "    <tr>\n",
       "      <th>4</th>\n",
       "      <td>18</td>\n",
       "      <td>2012</td>\n",
       "      <td>4</td>\n",
       "      <td>0</td>\n",
       "      <td>1</td>\n",
       "      <td>0</td>\n",
       "      <td>1</td>\n",
       "      <td>0</td>\n",
       "      <td>1</td>\n",
       "      <td>0</td>\n",
       "      <td>...</td>\n",
       "      <td>5.460000</td>\n",
       "      <td>5.460000</td>\n",
       "      <td>0.000000</td>\n",
       "      <td>0.000000</td>\n",
       "      <td>13.360000</td>\n",
       "      <td>0.000000</td>\n",
       "      <td>10.320000</td>\n",
       "      <td>0.000000</td>\n",
       "      <td>0.000000</td>\n",
       "      <td>10.280000</td>\n",
       "    </tr>\n",
       "    <tr>\n",
       "      <th>...</th>\n",
       "      <td>...</td>\n",
       "      <td>...</td>\n",
       "      <td>...</td>\n",
       "      <td>...</td>\n",
       "      <td>...</td>\n",
       "      <td>...</td>\n",
       "      <td>...</td>\n",
       "      <td>...</td>\n",
       "      <td>...</td>\n",
       "      <td>...</td>\n",
       "      <td>...</td>\n",
       "      <td>...</td>\n",
       "      <td>...</td>\n",
       "      <td>...</td>\n",
       "      <td>...</td>\n",
       "      <td>...</td>\n",
       "      <td>...</td>\n",
       "      <td>...</td>\n",
       "      <td>...</td>\n",
       "      <td>...</td>\n",
       "      <td>...</td>\n",
       "    </tr>\n",
       "    <tr>\n",
       "      <th>643685</th>\n",
       "      <td>1827860</td>\n",
       "      <td>2013</td>\n",
       "      <td>1</td>\n",
       "      <td>0</td>\n",
       "      <td>0</td>\n",
       "      <td>0</td>\n",
       "      <td>1</td>\n",
       "      <td>0</td>\n",
       "      <td>0</td>\n",
       "      <td>1</td>\n",
       "      <td>...</td>\n",
       "      <td>0.000000</td>\n",
       "      <td>0.000000</td>\n",
       "      <td>0.000000</td>\n",
       "      <td>0.000000</td>\n",
       "      <td>0.612903</td>\n",
       "      <td>0.000000</td>\n",
       "      <td>0.000000</td>\n",
       "      <td>0.000000</td>\n",
       "      <td>0.000000</td>\n",
       "      <td>0.000000</td>\n",
       "    </tr>\n",
       "    <tr>\n",
       "      <th>643686</th>\n",
       "      <td>1827860</td>\n",
       "      <td>2015</td>\n",
       "      <td>2</td>\n",
       "      <td>1</td>\n",
       "      <td>0</td>\n",
       "      <td>0</td>\n",
       "      <td>1</td>\n",
       "      <td>0</td>\n",
       "      <td>1</td>\n",
       "      <td>0</td>\n",
       "      <td>...</td>\n",
       "      <td>0.000000</td>\n",
       "      <td>0.000000</td>\n",
       "      <td>0.212121</td>\n",
       "      <td>0.212121</td>\n",
       "      <td>17.363636</td>\n",
       "      <td>0.000000</td>\n",
       "      <td>8.909091</td>\n",
       "      <td>0.000000</td>\n",
       "      <td>0.000000</td>\n",
       "      <td>7.121212</td>\n",
       "    </tr>\n",
       "    <tr>\n",
       "      <th>643687</th>\n",
       "      <td>1827860</td>\n",
       "      <td>2016</td>\n",
       "      <td>3</td>\n",
       "      <td>1</td>\n",
       "      <td>0</td>\n",
       "      <td>0</td>\n",
       "      <td>1</td>\n",
       "      <td>1</td>\n",
       "      <td>0</td>\n",
       "      <td>1</td>\n",
       "      <td>...</td>\n",
       "      <td>0.000000</td>\n",
       "      <td>0.000000</td>\n",
       "      <td>0.294118</td>\n",
       "      <td>0.205882</td>\n",
       "      <td>34.705882</td>\n",
       "      <td>0.000000</td>\n",
       "      <td>10.352941</td>\n",
       "      <td>1.705882</td>\n",
       "      <td>1.705882</td>\n",
       "      <td>23.911765</td>\n",
       "    </tr>\n",
       "    <tr>\n",
       "      <th>643688</th>\n",
       "      <td>1827869</td>\n",
       "      <td>2013</td>\n",
       "      <td>1</td>\n",
       "      <td>1</td>\n",
       "      <td>1</td>\n",
       "      <td>0</td>\n",
       "      <td>0</td>\n",
       "      <td>0</td>\n",
       "      <td>1</td>\n",
       "      <td>0</td>\n",
       "      <td>...</td>\n",
       "      <td>0.000000</td>\n",
       "      <td>0.000000</td>\n",
       "      <td>0.000000</td>\n",
       "      <td>0.000000</td>\n",
       "      <td>0.000000</td>\n",
       "      <td>0.525424</td>\n",
       "      <td>0.000000</td>\n",
       "      <td>0.000000</td>\n",
       "      <td>0.000000</td>\n",
       "      <td>0.000000</td>\n",
       "    </tr>\n",
       "    <tr>\n",
       "      <th>643689</th>\n",
       "      <td>1827869</td>\n",
       "      <td>2014</td>\n",
       "      <td>2</td>\n",
       "      <td>0</td>\n",
       "      <td>0</td>\n",
       "      <td>1</td>\n",
       "      <td>0</td>\n",
       "      <td>0</td>\n",
       "      <td>1</td>\n",
       "      <td>0</td>\n",
       "      <td>...</td>\n",
       "      <td>0.000000</td>\n",
       "      <td>0.666667</td>\n",
       "      <td>0.666667</td>\n",
       "      <td>0.000000</td>\n",
       "      <td>0.000000</td>\n",
       "      <td>8.950000</td>\n",
       "      <td>1.033333</td>\n",
       "      <td>0.083333</td>\n",
       "      <td>0.083333</td>\n",
       "      <td>8.133333</td>\n",
       "    </tr>\n",
       "  </tbody>\n",
       "</table>\n",
       "<p>643690 rows × 164 columns</p>\n",
       "</div>"
      ],
      "text/plain": [
       "         persnr  year  nrEntry  ltue  employed_before  receipt_leh_before  \\\n",
       "0             7  2015        1     0                1                   0   \n",
       "1            18  2010        1     1                0                   0   \n",
       "2            18  2011        2     0                1                   0   \n",
       "3            18  2012        3     0                1                   0   \n",
       "4            18  2012        4     0                1                   0   \n",
       "...         ...   ...      ...   ...              ...                 ...   \n",
       "643685  1827860  2013        1     0                0                   0   \n",
       "643686  1827860  2015        2     1                0                   0   \n",
       "643687  1827860  2016        3     1                0                   0   \n",
       "643688  1827869  2013        1     1                1                   0   \n",
       "643689  1827869  2014        2     0                0                   1   \n",
       "\n",
       "        receipt_lhg_before  se_before  ASU_notue_seeking_before  \\\n",
       "0                        0          0                         1   \n",
       "1                        0          0                         0   \n",
       "2                        1          0                         1   \n",
       "3                        1          0                         1   \n",
       "4                        1          0                         1   \n",
       "...                    ...        ...                       ...   \n",
       "643685                   1          0                         0   \n",
       "643686                   1          0                         1   \n",
       "643687                   1          1                         0   \n",
       "643688                   0          0                         1   \n",
       "643689                   0          0                         1   \n",
       "\n",
       "        ASU_other_before  ...  minijob_tot_dur_byage  ft_tot_dur_byage  \\\n",
       "0                      0  ...               0.000000          0.000000   \n",
       "1                      0  ...               0.000000          0.000000   \n",
       "2                      0  ...               2.714286          2.714286   \n",
       "3                      0  ...               4.200000          4.200000   \n",
       "4                      0  ...               5.460000          5.460000   \n",
       "...                  ...  ...                    ...               ...   \n",
       "643685                 1  ...               0.000000          0.000000   \n",
       "643686                 0  ...               0.000000          0.000000   \n",
       "643687                 1  ...               0.000000          0.000000   \n",
       "643688                 0  ...               0.000000          0.000000   \n",
       "643689                 0  ...               0.000000          0.666667   \n",
       "\n",
       "        befrist_tot_dur_byage  leih_tot_dur_byage  LHG_tot_dur_byage  \\\n",
       "0                   15.043478            0.000000           0.000000   \n",
       "1                    0.000000            0.000000           0.000000   \n",
       "2                    0.000000            0.000000          10.775510   \n",
       "3                    0.000000            0.000000          12.100000   \n",
       "4                    0.000000            0.000000          13.360000   \n",
       "...                       ...                 ...                ...   \n",
       "643685               0.000000            0.000000           0.612903   \n",
       "643686               0.212121            0.212121          17.363636   \n",
       "643687               0.294118            0.205882          34.705882   \n",
       "643688               0.000000            0.000000           0.000000   \n",
       "643689               0.666667            0.000000           0.000000   \n",
       "\n",
       "        LEH_tot_dur_byage  almp_tot_dur_byage  almp_aw_tot_dur_byage  \\\n",
       "0                0.000000            0.000000               0.000000   \n",
       "1                0.000000            0.000000               0.000000   \n",
       "2                0.000000            8.367347               0.000000   \n",
       "3                0.000000            9.400000               0.000000   \n",
       "4                0.000000           10.320000               0.000000   \n",
       "...                   ...                 ...                    ...   \n",
       "643685           0.000000            0.000000               0.000000   \n",
       "643686           0.000000            8.909091               0.000000   \n",
       "643687           0.000000           10.352941               1.705882   \n",
       "643688           0.525424            0.000000               0.000000   \n",
       "643689           8.950000            1.033333               0.083333   \n",
       "\n",
       "        se_tot_dur_byage  seeking1_tot_dur_byage  \n",
       "0               0.000000                0.000000  \n",
       "1               0.000000                0.000000  \n",
       "2               0.000000                9.836735  \n",
       "3               0.000000                9.960000  \n",
       "4               0.000000               10.280000  \n",
       "...                  ...                     ...  \n",
       "643685          0.000000                0.000000  \n",
       "643686          0.000000                7.121212  \n",
       "643687          1.705882               23.911765  \n",
       "643688          0.000000                0.000000  \n",
       "643689          0.083333                8.133333  \n",
       "\n",
       "[643690 rows x 164 columns]"
      ]
     },
     "execution_count": 10,
     "metadata": {},
     "output_type": "execute_result"
    }
   ],
   "source": [
    "siab"
   ]
  },
  {
   "cell_type": "markdown",
   "id": "1f87e805",
   "metadata": {
    "papermill": {
     "duration": 0.024345,
     "end_time": "2025-08-19T18:41:22.581024",
     "exception": false,
     "start_time": "2025-08-19T18:41:22.556679",
     "status": "completed"
    },
    "tags": []
   },
   "source": [
    "# Splitting Data and Setting Training Data Size"
   ]
  },
  {
   "cell_type": "code",
   "execution_count": 11,
   "id": "910ae358",
   "metadata": {
    "execution": {
     "iopub.execute_input": "2025-08-19T18:41:22.611935Z",
     "iopub.status.busy": "2025-08-19T18:41:22.611636Z",
     "iopub.status.idle": "2025-08-19T18:41:23.719973Z",
     "shell.execute_reply": "2025-08-19T18:41:23.719209Z"
    },
    "papermill": {
     "duration": 1.121983,
     "end_time": "2025-08-19T18:41:23.722828",
     "exception": false,
     "start_time": "2025-08-19T18:41:22.600845",
     "status": "completed"
    },
    "tags": []
   },
   "outputs": [],
   "source": [
    "from fairness_multiverse.universe import sample_by_year_size\n",
    "\n",
    "siab_train = sample_by_year_size(siab,\n",
    "                               training_year=universe[\"training_year\"],\n",
    "                               training_size=universe[\"training_size\"])"
   ]
  },
  {
   "cell_type": "code",
   "execution_count": 12,
   "id": "919c8ff5",
   "metadata": {
    "execution": {
     "iopub.execute_input": "2025-08-19T18:41:23.761870Z",
     "iopub.status.busy": "2025-08-19T18:41:23.761181Z",
     "iopub.status.idle": "2025-08-19T18:41:23.771793Z",
     "shell.execute_reply": "2025-08-19T18:41:23.770489Z"
    },
    "papermill": {
     "duration": 0.027319,
     "end_time": "2025-08-19T18:41:23.774169",
     "exception": false,
     "start_time": "2025-08-19T18:41:23.746850",
     "status": "completed"
    },
    "tags": []
   },
   "outputs": [
    {
     "data": {
      "text/plain": [
       "(5000, 164)"
      ]
     },
     "execution_count": 12,
     "metadata": {},
     "output_type": "execute_result"
    }
   ],
   "source": [
    "siab_train.shape"
   ]
  },
  {
   "cell_type": "code",
   "execution_count": 13,
   "id": "feb13bf4",
   "metadata": {
    "execution": {
     "iopub.execute_input": "2025-08-19T18:41:23.844824Z",
     "iopub.status.busy": "2025-08-19T18:41:23.844523Z",
     "iopub.status.idle": "2025-08-19T18:41:23.852395Z",
     "shell.execute_reply": "2025-08-19T18:41:23.851611Z"
    },
    "papermill": {
     "duration": 0.047269,
     "end_time": "2025-08-19T18:41:23.860441",
     "exception": false,
     "start_time": "2025-08-19T18:41:23.813172",
     "status": "completed"
    },
    "tags": []
   },
   "outputs": [
    {
     "data": {
      "text/plain": [
       "year\n",
       "2010    1000\n",
       "2011    1000\n",
       "2012    1000\n",
       "2013    1000\n",
       "2014    1000\n",
       "dtype: int64"
      ]
     },
     "metadata": {},
     "output_type": "display_data"
    }
   ],
   "source": [
    "display(siab_train.groupby(\"year\").size())"
   ]
  },
  {
   "cell_type": "code",
   "execution_count": 14,
   "id": "0997782f",
   "metadata": {
    "execution": {
     "iopub.execute_input": "2025-08-19T18:41:23.918229Z",
     "iopub.status.busy": "2025-08-19T18:41:23.917889Z",
     "iopub.status.idle": "2025-08-19T18:41:24.185964Z",
     "shell.execute_reply": "2025-08-19T18:41:24.185143Z"
    },
    "papermill": {
     "duration": 0.302002,
     "end_time": "2025-08-19T18:41:24.189567",
     "exception": false,
     "start_time": "2025-08-19T18:41:23.887565",
     "status": "completed"
    },
    "tags": []
   },
   "outputs": [],
   "source": [
    "#siab_train = siab_s[siab_s.year < 2015]\n",
    "siab_calib = siab[siab.year == 2015]\n",
    "siab_test = siab[siab.year == 2016]"
   ]
  },
  {
   "cell_type": "code",
   "execution_count": 15,
   "id": "2c1e4012",
   "metadata": {
    "execution": {
     "iopub.execute_input": "2025-08-19T18:41:24.230545Z",
     "iopub.status.busy": "2025-08-19T18:41:24.230206Z",
     "iopub.status.idle": "2025-08-19T18:41:24.234434Z",
     "shell.execute_reply": "2025-08-19T18:41:24.233658Z"
    },
    "papermill": {
     "duration": 0.022791,
     "end_time": "2025-08-19T18:41:24.235755",
     "exception": false,
     "start_time": "2025-08-19T18:41:24.212964",
     "status": "completed"
    },
    "tags": []
   },
   "outputs": [],
   "source": [
    "#siab_calib.shape"
   ]
  },
  {
   "cell_type": "code",
   "execution_count": 16,
   "id": "f66b54ca",
   "metadata": {
    "execution": {
     "iopub.execute_input": "2025-08-19T18:41:24.269550Z",
     "iopub.status.busy": "2025-08-19T18:41:24.269246Z",
     "iopub.status.idle": "2025-08-19T18:41:24.273445Z",
     "shell.execute_reply": "2025-08-19T18:41:24.272749Z"
    },
    "papermill": {
     "duration": 0.027131,
     "end_time": "2025-08-19T18:41:24.274812",
     "exception": false,
     "start_time": "2025-08-19T18:41:24.247681",
     "status": "completed"
    },
    "tags": []
   },
   "outputs": [],
   "source": [
    "#siab_test.shape"
   ]
  },
  {
   "cell_type": "code",
   "execution_count": 17,
   "id": "27e4384d",
   "metadata": {
    "execution": {
     "iopub.execute_input": "2025-08-19T18:41:24.315266Z",
     "iopub.status.busy": "2025-08-19T18:41:24.314945Z",
     "iopub.status.idle": "2025-08-19T18:41:24.325483Z",
     "shell.execute_reply": "2025-08-19T18:41:24.324712Z"
    },
    "papermill": {
     "duration": 0.033042,
     "end_time": "2025-08-19T18:41:24.326725",
     "exception": false,
     "start_time": "2025-08-19T18:41:24.293683",
     "status": "completed"
    },
    "tags": []
   },
   "outputs": [],
   "source": [
    "X_train = siab_train.iloc[:,4:164]\n",
    "y_train = siab_train.iloc[:, [3]]"
   ]
  },
  {
   "cell_type": "code",
   "execution_count": 18,
   "id": "08ee8389",
   "metadata": {
    "execution": {
     "iopub.execute_input": "2025-08-19T18:41:24.374760Z",
     "iopub.status.busy": "2025-08-19T18:41:24.374438Z",
     "iopub.status.idle": "2025-08-19T18:41:24.562265Z",
     "shell.execute_reply": "2025-08-19T18:41:24.561083Z"
    },
    "papermill": {
     "duration": 0.21481,
     "end_time": "2025-08-19T18:41:24.563845",
     "exception": false,
     "start_time": "2025-08-19T18:41:24.349035",
     "status": "completed"
    },
    "tags": []
   },
   "outputs": [],
   "source": [
    "X_calib = siab_calib.iloc[:,4:164]\n",
    "y_calib = siab_calib.iloc[:, [3]]"
   ]
  },
  {
   "cell_type": "code",
   "execution_count": 19,
   "id": "b7ff42e0",
   "metadata": {
    "execution": {
     "iopub.execute_input": "2025-08-19T18:41:24.601432Z",
     "iopub.status.busy": "2025-08-19T18:41:24.600970Z",
     "iopub.status.idle": "2025-08-19T18:41:24.707805Z",
     "shell.execute_reply": "2025-08-19T18:41:24.707022Z"
    },
    "papermill": {
     "duration": 0.120492,
     "end_time": "2025-08-19T18:41:24.709574",
     "exception": false,
     "start_time": "2025-08-19T18:41:24.589082",
     "status": "completed"
    },
    "tags": []
   },
   "outputs": [],
   "source": [
    "X_test = siab_test.iloc[:,4:164]\n",
    "y_true = siab_test.iloc[:, [3]]"
   ]
  },
  {
   "cell_type": "code",
   "execution_count": 20,
   "id": "0275101e",
   "metadata": {
    "execution": {
     "iopub.execute_input": "2025-08-19T18:41:24.758903Z",
     "iopub.status.busy": "2025-08-19T18:41:24.758496Z",
     "iopub.status.idle": "2025-08-19T18:41:24.875281Z",
     "shell.execute_reply": "2025-08-19T18:41:24.872254Z"
    },
    "papermill": {
     "duration": 0.143739,
     "end_time": "2025-08-19T18:41:24.876861",
     "exception": false,
     "start_time": "2025-08-19T18:41:24.733122",
     "status": "completed"
    },
    "tags": []
   },
   "outputs": [],
   "source": [
    "# Auxiliary data needed downstream in the pipeline\n",
    "\n",
    "org_train = X_train.copy()\n",
    "org_test = X_test.copy()\n",
    "org_calib = X_calib.copy()"
   ]
  },
  {
   "cell_type": "markdown",
   "id": "b461e618",
   "metadata": {
    "papermill": {
     "duration": 0.010276,
     "end_time": "2025-08-19T18:41:24.897803",
     "exception": false,
     "start_time": "2025-08-19T18:41:24.887527",
     "status": "completed"
    },
    "tags": []
   },
   "source": [
    "# Preprocessing Data"
   ]
  },
  {
   "cell_type": "code",
   "execution_count": 21,
   "id": "78e74c4b",
   "metadata": {
    "execution": {
     "iopub.execute_input": "2025-08-19T18:41:24.919626Z",
     "iopub.status.busy": "2025-08-19T18:41:24.919203Z",
     "iopub.status.idle": "2025-08-19T18:41:24.923734Z",
     "shell.execute_reply": "2025-08-19T18:41:24.923090Z"
    },
    "papermill": {
     "duration": 0.017068,
     "end_time": "2025-08-19T18:41:24.925026",
     "exception": false,
     "start_time": "2025-08-19T18:41:24.907958",
     "status": "completed"
    },
    "tags": []
   },
   "outputs": [],
   "source": [
    "# EXCLUDE PROTECTED FEATURES\n",
    "# --------------------------\n",
    "\n",
    "excluded_features = universe[\"exclude_features\"].split(\"-\")\n",
    "excluded_features_dictionary = {\n",
    "    \"nationality\": [\"maxdeutsch1\", \"maxdeutsch.Missing.\"],\n",
    "    \"sex\": [\"frau1\"],\n",
    "    \"age\": [\"age\"],\n",
    "}"
   ]
  },
  {
   "cell_type": "code",
   "execution_count": 22,
   "id": "f8e63555",
   "metadata": {
    "execution": {
     "iopub.execute_input": "2025-08-19T18:41:24.947427Z",
     "iopub.status.busy": "2025-08-19T18:41:24.947027Z",
     "iopub.status.idle": "2025-08-19T18:41:24.951384Z",
     "shell.execute_reply": "2025-08-19T18:41:24.950758Z"
    },
    "papermill": {
     "duration": 0.016855,
     "end_time": "2025-08-19T18:41:24.952786",
     "exception": false,
     "start_time": "2025-08-19T18:41:24.935931",
     "status": "completed"
    },
    "tags": []
   },
   "outputs": [],
   "source": [
    "excluded_features_columns = [\n",
    "    excluded_features_dictionary[f] for f in excluded_features if len(f) > 0 and f != \"none\"\n",
    "]"
   ]
  },
  {
   "cell_type": "code",
   "execution_count": 23,
   "id": "da781f7c",
   "metadata": {
    "execution": {
     "iopub.execute_input": "2025-08-19T18:41:24.990780Z",
     "iopub.status.busy": "2025-08-19T18:41:24.990312Z",
     "iopub.status.idle": "2025-08-19T18:41:24.995373Z",
     "shell.execute_reply": "2025-08-19T18:41:24.994520Z"
    },
    "papermill": {
     "duration": 0.020028,
     "end_time": "2025-08-19T18:41:24.997040",
     "exception": false,
     "start_time": "2025-08-19T18:41:24.977012",
     "status": "completed"
    },
    "tags": []
   },
   "outputs": [],
   "source": [
    "from fairness_multiverse.universe import flatten_once\n",
    "\n",
    "excluded_features_columns = flatten_once(excluded_features_columns)"
   ]
  },
  {
   "cell_type": "code",
   "execution_count": 24,
   "id": "37fef0f0",
   "metadata": {
    "execution": {
     "iopub.execute_input": "2025-08-19T18:41:25.029307Z",
     "iopub.status.busy": "2025-08-19T18:41:25.028908Z",
     "iopub.status.idle": "2025-08-19T18:41:25.041434Z",
     "shell.execute_reply": "2025-08-19T18:41:25.040686Z"
    },
    "papermill": {
     "duration": 0.025706,
     "end_time": "2025-08-19T18:41:25.042934",
     "exception": false,
     "start_time": "2025-08-19T18:41:25.017228",
     "status": "completed"
    },
    "tags": []
   },
   "outputs": [
    {
     "name": "stdout",
     "output_type": "stream",
     "text": [
      "Dropping features: ['maxdeutsch1', 'maxdeutsch.Missing.']\n"
     ]
    }
   ],
   "source": [
    "if len(excluded_features_columns) > 0:\n",
    "    print(f\"Dropping features: {excluded_features_columns}\")\n",
    "    X_train.drop(excluded_features_columns, axis=1, inplace=True)"
   ]
  },
  {
   "cell_type": "code",
   "execution_count": 25,
   "id": "d029e3e9",
   "metadata": {
    "execution": {
     "iopub.execute_input": "2025-08-19T18:41:25.091608Z",
     "iopub.status.busy": "2025-08-19T18:41:25.091301Z",
     "iopub.status.idle": "2025-08-19T18:41:25.148110Z",
     "shell.execute_reply": "2025-08-19T18:41:25.147329Z"
    },
    "papermill": {
     "duration": 0.094277,
     "end_time": "2025-08-19T18:41:25.149263",
     "exception": false,
     "start_time": "2025-08-19T18:41:25.054986",
     "status": "completed"
    },
    "tags": []
   },
   "outputs": [
    {
     "name": "stdout",
     "output_type": "stream",
     "text": [
      "Dropping features: ['maxdeutsch1', 'maxdeutsch.Missing.']\n"
     ]
    }
   ],
   "source": [
    "if len(excluded_features_columns) > 0:\n",
    "    print(f\"Dropping features: {excluded_features_columns}\")\n",
    "    X_test.drop(excluded_features_columns, axis=1, inplace=True)"
   ]
  },
  {
   "cell_type": "code",
   "execution_count": 26,
   "id": "01d571f0",
   "metadata": {
    "execution": {
     "iopub.execute_input": "2025-08-19T18:41:25.172685Z",
     "iopub.status.busy": "2025-08-19T18:41:25.172278Z",
     "iopub.status.idle": "2025-08-19T18:41:25.220571Z",
     "shell.execute_reply": "2025-08-19T18:41:25.219952Z"
    },
    "papermill": {
     "duration": 0.061218,
     "end_time": "2025-08-19T18:41:25.221728",
     "exception": false,
     "start_time": "2025-08-19T18:41:25.160510",
     "status": "completed"
    },
    "tags": []
   },
   "outputs": [
    {
     "name": "stdout",
     "output_type": "stream",
     "text": [
      "Dropping features: ['maxdeutsch1', 'maxdeutsch.Missing.']\n"
     ]
    }
   ],
   "source": [
    "if len(excluded_features_columns) > 0:\n",
    "    print(f\"Dropping features: {excluded_features_columns}\")\n",
    "    X_calib.drop(excluded_features_columns, axis=1, inplace=True)"
   ]
  },
  {
   "cell_type": "code",
   "execution_count": 27,
   "id": "3037356e",
   "metadata": {
    "execution": {
     "iopub.execute_input": "2025-08-19T18:41:25.248803Z",
     "iopub.status.busy": "2025-08-19T18:41:25.248054Z",
     "iopub.status.idle": "2025-08-19T18:41:25.254770Z",
     "shell.execute_reply": "2025-08-19T18:41:25.253152Z"
    },
    "papermill": {
     "duration": 0.019948,
     "end_time": "2025-08-19T18:41:25.256105",
     "exception": false,
     "start_time": "2025-08-19T18:41:25.236157",
     "status": "completed"
    },
    "tags": []
   },
   "outputs": [],
   "source": [
    "# EXCLUDE CERTAIN SUBGROUPS\n",
    "# -------------------------\n",
    "\n",
    "mode = universe.get(\"exclude_subgroups\", \"keep-all\") # Defaults to \"keep-all\" if the key is missing."
   ]
  },
  {
   "cell_type": "code",
   "execution_count": 28,
   "id": "9d1e63fd",
   "metadata": {
    "execution": {
     "iopub.execute_input": "2025-08-19T18:41:25.281433Z",
     "iopub.status.busy": "2025-08-19T18:41:25.280243Z",
     "iopub.status.idle": "2025-08-19T18:41:25.292217Z",
     "shell.execute_reply": "2025-08-19T18:41:25.290539Z"
    },
    "papermill": {
     "duration": 0.025937,
     "end_time": "2025-08-19T18:41:25.293564",
     "exception": false,
     "start_time": "2025-08-19T18:41:25.267627",
     "status": "completed"
    },
    "tags": []
   },
   "outputs": [],
   "source": [
    "if mode == \"keep-all\":\n",
    "    keep_mask = pd.Series(True, index=org_train.index)\n",
    "\n",
    "elif mode == \"drop-non-german\":\n",
    "    keep_mask = (org_train[\"maxdeutsch1\"] == 1) & (org_train[\"maxdeutsch.Missing.\"] == 0)\n",
    "\n",
    "else:\n",
    "    raise ValueError(f\"Unsupported mode for exclude_subgroups: {mode}\")"
   ]
  },
  {
   "cell_type": "code",
   "execution_count": 29,
   "id": "d3b65474",
   "metadata": {
    "execution": {
     "iopub.execute_input": "2025-08-19T18:41:25.323789Z",
     "iopub.status.busy": "2025-08-19T18:41:25.317275Z",
     "iopub.status.idle": "2025-08-19T18:41:25.347228Z",
     "shell.execute_reply": "2025-08-19T18:41:25.346259Z"
    },
    "papermill": {
     "duration": 0.043888,
     "end_time": "2025-08-19T18:41:25.348657",
     "exception": false,
     "start_time": "2025-08-19T18:41:25.304769",
     "status": "completed"
    },
    "tags": []
   },
   "outputs": [],
   "source": [
    "n_drop = (~keep_mask).sum() # Calculates how many rows are set to be dropped\n",
    "if n_drop > 0:\n",
    "    pct = n_drop / len(keep_mask) * 100\n",
    "    print(f\"Dropping {n_drop} rows ({pct:.2f}%) where mode='{mode}'\")"
   ]
  },
  {
   "cell_type": "code",
   "execution_count": 30,
   "id": "f44389b3",
   "metadata": {
    "execution": {
     "iopub.execute_input": "2025-08-19T18:41:25.372265Z",
     "iopub.status.busy": "2025-08-19T18:41:25.371592Z",
     "iopub.status.idle": "2025-08-19T18:41:25.397321Z",
     "shell.execute_reply": "2025-08-19T18:41:25.396538Z"
    },
    "papermill": {
     "duration": 0.038856,
     "end_time": "2025-08-19T18:41:25.398571",
     "exception": false,
     "start_time": "2025-08-19T18:41:25.359715",
     "status": "completed"
    },
    "tags": []
   },
   "outputs": [],
   "source": [
    "X_train = X_train[keep_mask]"
   ]
  },
  {
   "cell_type": "code",
   "execution_count": 31,
   "id": "ceca8c2a",
   "metadata": {
    "execution": {
     "iopub.execute_input": "2025-08-19T18:41:25.452694Z",
     "iopub.status.busy": "2025-08-19T18:41:25.452279Z",
     "iopub.status.idle": "2025-08-19T18:41:25.456835Z",
     "shell.execute_reply": "2025-08-19T18:41:25.456243Z"
    },
    "papermill": {
     "duration": 0.048588,
     "end_time": "2025-08-19T18:41:25.465697",
     "exception": false,
     "start_time": "2025-08-19T18:41:25.417109",
     "status": "completed"
    },
    "tags": []
   },
   "outputs": [],
   "source": [
    "y_train = y_train[keep_mask]"
   ]
  },
  {
   "cell_type": "markdown",
   "id": "04d31e2f",
   "metadata": {
    "papermill": {
     "duration": 0.017002,
     "end_time": "2025-08-19T18:41:25.506069",
     "exception": false,
     "start_time": "2025-08-19T18:41:25.489067",
     "status": "completed"
    },
    "tags": []
   },
   "source": [
    "# Model Training"
   ]
  },
  {
   "cell_type": "code",
   "execution_count": 32,
   "id": "db991733",
   "metadata": {
    "execution": {
     "iopub.execute_input": "2025-08-19T18:41:25.530788Z",
     "iopub.status.busy": "2025-08-19T18:41:25.530394Z",
     "iopub.status.idle": "2025-08-19T18:41:25.636785Z",
     "shell.execute_reply": "2025-08-19T18:41:25.635947Z"
    },
    "papermill": {
     "duration": 0.119878,
     "end_time": "2025-08-19T18:41:25.638365",
     "exception": false,
     "start_time": "2025-08-19T18:41:25.518487",
     "status": "completed"
    },
    "tags": []
   },
   "outputs": [],
   "source": [
    "from sklearn.linear_model import LogisticRegression\n",
    "from sklearn.ensemble import GradientBoostingClassifier, RandomForestClassifier\n",
    "\n",
    "if (universe[\"model\"] == \"logreg\"):\n",
    "    model = LogisticRegression() #penalty=\"none\", solver=\"newton-cg\", max_iter=1)\n",
    "elif (universe[\"model\"] == \"penalized_logreg\"):\n",
    "    model = LogisticRegression(penalty=\"l2\", C=0.1) #, solver=\"newton-cg\", max_iter=1)\n",
    "elif (universe[\"model\"] == \"rf\"):\n",
    "    model = RandomForestClassifier() # n_estimators=100, n_jobs=-1\n",
    "elif (universe[\"model\"] == \"gbm\"):\n",
    "    model = GradientBoostingClassifier()\n",
    "elif (universe[\"model\"] == \"elasticnet\"):\n",
    "    model = LogisticRegression(penalty = 'elasticnet', solver = 'saga', l1_ratio = 0.5) # max_iter=5000\n",
    "else:\n",
    "    raise \"Unsupported universe.model\""
   ]
  },
  {
   "cell_type": "code",
   "execution_count": 33,
   "id": "a4b5cd25",
   "metadata": {
    "execution": {
     "iopub.execute_input": "2025-08-19T18:41:25.662017Z",
     "iopub.status.busy": "2025-08-19T18:41:25.661509Z",
     "iopub.status.idle": "2025-08-19T18:41:25.667266Z",
     "shell.execute_reply": "2025-08-19T18:41:25.666543Z"
    },
    "papermill": {
     "duration": 0.019247,
     "end_time": "2025-08-19T18:41:25.668693",
     "exception": false,
     "start_time": "2025-08-19T18:41:25.649446",
     "status": "completed"
    },
    "tags": []
   },
   "outputs": [],
   "source": [
    "from sklearn.pipeline import Pipeline\n",
    "from sklearn.preprocessing import StandardScaler\n",
    "\n",
    "model = Pipeline([\n",
    "    #(\"continuous_processor\", continuous_processor),\n",
    "    #(\"categorical_preprocessor\", categorical_preprocessor),\n",
    "    (\"scale\", StandardScaler() if universe[\"scale\"] == \"scale\" else None), \n",
    "    (\"model\", model),\n",
    "])"
   ]
  },
  {
   "cell_type": "code",
   "execution_count": 34,
   "id": "283a904d",
   "metadata": {
    "execution": {
     "iopub.execute_input": "2025-08-19T18:41:25.700535Z",
     "iopub.status.busy": "2025-08-19T18:41:25.700026Z",
     "iopub.status.idle": "2025-08-19T18:41:25.844747Z",
     "shell.execute_reply": "2025-08-19T18:41:25.844022Z"
    },
    "papermill": {
     "duration": 0.165216,
     "end_time": "2025-08-19T18:41:25.846213",
     "exception": false,
     "start_time": "2025-08-19T18:41:25.680997",
     "status": "completed"
    },
    "tags": []
   },
   "outputs": [
    {
     "data": {
      "text/html": [
       "<style>#sk-container-id-1 {color: black;background-color: white;}#sk-container-id-1 pre{padding: 0;}#sk-container-id-1 div.sk-toggleable {background-color: white;}#sk-container-id-1 label.sk-toggleable__label {cursor: pointer;display: block;width: 100%;margin-bottom: 0;padding: 0.3em;box-sizing: border-box;text-align: center;}#sk-container-id-1 label.sk-toggleable__label-arrow:before {content: \"▸\";float: left;margin-right: 0.25em;color: #696969;}#sk-container-id-1 label.sk-toggleable__label-arrow:hover:before {color: black;}#sk-container-id-1 div.sk-estimator:hover label.sk-toggleable__label-arrow:before {color: black;}#sk-container-id-1 div.sk-toggleable__content {max-height: 0;max-width: 0;overflow: hidden;text-align: left;background-color: #f0f8ff;}#sk-container-id-1 div.sk-toggleable__content pre {margin: 0.2em;color: black;border-radius: 0.25em;background-color: #f0f8ff;}#sk-container-id-1 input.sk-toggleable__control:checked~div.sk-toggleable__content {max-height: 200px;max-width: 100%;overflow: auto;}#sk-container-id-1 input.sk-toggleable__control:checked~label.sk-toggleable__label-arrow:before {content: \"▾\";}#sk-container-id-1 div.sk-estimator input.sk-toggleable__control:checked~label.sk-toggleable__label {background-color: #d4ebff;}#sk-container-id-1 div.sk-label input.sk-toggleable__control:checked~label.sk-toggleable__label {background-color: #d4ebff;}#sk-container-id-1 input.sk-hidden--visually {border: 0;clip: rect(1px 1px 1px 1px);clip: rect(1px, 1px, 1px, 1px);height: 1px;margin: -1px;overflow: hidden;padding: 0;position: absolute;width: 1px;}#sk-container-id-1 div.sk-estimator {font-family: monospace;background-color: #f0f8ff;border: 1px dotted black;border-radius: 0.25em;box-sizing: border-box;margin-bottom: 0.5em;}#sk-container-id-1 div.sk-estimator:hover {background-color: #d4ebff;}#sk-container-id-1 div.sk-parallel-item::after {content: \"\";width: 100%;border-bottom: 1px solid gray;flex-grow: 1;}#sk-container-id-1 div.sk-label:hover label.sk-toggleable__label {background-color: #d4ebff;}#sk-container-id-1 div.sk-serial::before {content: \"\";position: absolute;border-left: 1px solid gray;box-sizing: border-box;top: 0;bottom: 0;left: 50%;z-index: 0;}#sk-container-id-1 div.sk-serial {display: flex;flex-direction: column;align-items: center;background-color: white;padding-right: 0.2em;padding-left: 0.2em;position: relative;}#sk-container-id-1 div.sk-item {position: relative;z-index: 1;}#sk-container-id-1 div.sk-parallel {display: flex;align-items: stretch;justify-content: center;background-color: white;position: relative;}#sk-container-id-1 div.sk-item::before, #sk-container-id-1 div.sk-parallel-item::before {content: \"\";position: absolute;border-left: 1px solid gray;box-sizing: border-box;top: 0;bottom: 0;left: 50%;z-index: -1;}#sk-container-id-1 div.sk-parallel-item {display: flex;flex-direction: column;z-index: 1;position: relative;background-color: white;}#sk-container-id-1 div.sk-parallel-item:first-child::after {align-self: flex-end;width: 50%;}#sk-container-id-1 div.sk-parallel-item:last-child::after {align-self: flex-start;width: 50%;}#sk-container-id-1 div.sk-parallel-item:only-child::after {width: 0;}#sk-container-id-1 div.sk-dashed-wrapped {border: 1px dashed gray;margin: 0 0.4em 0.5em 0.4em;box-sizing: border-box;padding-bottom: 0.4em;background-color: white;}#sk-container-id-1 div.sk-label label {font-family: monospace;font-weight: bold;display: inline-block;line-height: 1.2em;}#sk-container-id-1 div.sk-label-container {text-align: center;}#sk-container-id-1 div.sk-container {/* jupyter's `normalize.less` sets `[hidden] { display: none; }` but bootstrap.min.css set `[hidden] { display: none !important; }` so we also need the `!important` here to be able to override the default hidden behavior on the sphinx rendered scikit-learn.org. See: https://github.com/scikit-learn/scikit-learn/issues/21755 */display: inline-block !important;position: relative;}#sk-container-id-1 div.sk-text-repr-fallback {display: none;}</style><div id=\"sk-container-id-1\" class=\"sk-top-container\"><div class=\"sk-text-repr-fallback\"><pre>Pipeline(steps=[(&#x27;scale&#x27;, StandardScaler()),\n",
       "                (&#x27;model&#x27;, LogisticRegression(C=0.1))])</pre><b>In a Jupyter environment, please rerun this cell to show the HTML representation or trust the notebook. <br />On GitHub, the HTML representation is unable to render, please try loading this page with nbviewer.org.</b></div><div class=\"sk-container\" hidden><div class=\"sk-item sk-dashed-wrapped\"><div class=\"sk-label-container\"><div class=\"sk-label sk-toggleable\"><input class=\"sk-toggleable__control sk-hidden--visually\" id=\"sk-estimator-id-1\" type=\"checkbox\" ><label for=\"sk-estimator-id-1\" class=\"sk-toggleable__label sk-toggleable__label-arrow\">Pipeline</label><div class=\"sk-toggleable__content\"><pre>Pipeline(steps=[(&#x27;scale&#x27;, StandardScaler()),\n",
       "                (&#x27;model&#x27;, LogisticRegression(C=0.1))])</pre></div></div></div><div class=\"sk-serial\"><div class=\"sk-item\"><div class=\"sk-estimator sk-toggleable\"><input class=\"sk-toggleable__control sk-hidden--visually\" id=\"sk-estimator-id-2\" type=\"checkbox\" ><label for=\"sk-estimator-id-2\" class=\"sk-toggleable__label sk-toggleable__label-arrow\">StandardScaler</label><div class=\"sk-toggleable__content\"><pre>StandardScaler()</pre></div></div></div><div class=\"sk-item\"><div class=\"sk-estimator sk-toggleable\"><input class=\"sk-toggleable__control sk-hidden--visually\" id=\"sk-estimator-id-3\" type=\"checkbox\" ><label for=\"sk-estimator-id-3\" class=\"sk-toggleable__label sk-toggleable__label-arrow\">LogisticRegression</label><div class=\"sk-toggleable__content\"><pre>LogisticRegression(C=0.1)</pre></div></div></div></div></div></div></div>"
      ],
      "text/plain": [
       "Pipeline(steps=[('scale', StandardScaler()),\n",
       "                ('model', LogisticRegression(C=0.1))])"
      ]
     },
     "execution_count": 34,
     "metadata": {},
     "output_type": "execute_result"
    }
   ],
   "source": [
    "model.fit(X_train, y_train.values.ravel())"
   ]
  },
  {
   "cell_type": "code",
   "execution_count": 35,
   "id": "6e15e313",
   "metadata": {
    "execution": {
     "iopub.execute_input": "2025-08-19T18:41:25.870598Z",
     "iopub.status.busy": "2025-08-19T18:41:25.870202Z",
     "iopub.status.idle": "2025-08-19T18:41:26.061619Z",
     "shell.execute_reply": "2025-08-19T18:41:26.061011Z"
    },
    "papermill": {
     "duration": 0.204908,
     "end_time": "2025-08-19T18:41:26.063020",
     "exception": false,
     "start_time": "2025-08-19T18:41:25.858112",
     "status": "completed"
    },
    "tags": []
   },
   "outputs": [
    {
     "data": {
      "text/plain": [
       "0.8533719763682979"
      ]
     },
     "execution_count": 35,
     "metadata": {},
     "output_type": "execute_result"
    }
   ],
   "source": [
    "from fairness_multiverse.universe import predict_w_threshold\n",
    "\n",
    "probs_test = model.predict_proba(X_test)\n",
    "\n",
    "'''\n",
    "Below code returns a boolean array (or binary 0/1 array depending on how it’s used) where each element \n",
    "is True if the probability of class 1 is greater than or equal to the threshold, and False otherwise.\n",
    "'''\n",
    "y_pred_default = predict_w_threshold(probs_test, 0.5)\n",
    "\n",
    "from sklearn.metrics import accuracy_score\n",
    "\n",
    "# Naive prediction\n",
    "accuracy_score(y_true = y_true, y_pred = y_pred_default)"
   ]
  },
  {
   "cell_type": "code",
   "execution_count": 36,
   "id": "6f14067c",
   "metadata": {
    "execution": {
     "iopub.execute_input": "2025-08-19T18:41:26.107387Z",
     "iopub.status.busy": "2025-08-19T18:41:26.106901Z",
     "iopub.status.idle": "2025-08-19T18:41:26.288553Z",
     "shell.execute_reply": "2025-08-19T18:41:26.287327Z"
    },
    "papermill": {
     "duration": 0.21505,
     "end_time": "2025-08-19T18:41:26.290046",
     "exception": false,
     "start_time": "2025-08-19T18:41:26.074996",
     "status": "completed"
    },
    "tags": []
   },
   "outputs": [
    {
     "data": {
      "text/plain": [
       "array([0, 0, 0, ..., 0, 0, 0])"
      ]
     },
     "execution_count": 36,
     "metadata": {},
     "output_type": "execute_result"
    }
   ],
   "source": [
    "model.predict(X_test)"
   ]
  },
  {
   "cell_type": "markdown",
   "id": "3759920c",
   "metadata": {
    "papermill": {
     "duration": 0.013114,
     "end_time": "2025-08-19T18:41:26.330738",
     "exception": false,
     "start_time": "2025-08-19T18:41:26.317624",
     "status": "completed"
    },
    "tags": []
   },
   "source": [
    "# Conformal Prediction"
   ]
  },
  {
   "cell_type": "code",
   "execution_count": 37,
   "id": "14b27f59",
   "metadata": {
    "execution": {
     "iopub.execute_input": "2025-08-19T18:41:26.358630Z",
     "iopub.status.busy": "2025-08-19T18:41:26.357924Z",
     "iopub.status.idle": "2025-08-19T18:41:26.365116Z",
     "shell.execute_reply": "2025-08-19T18:41:26.363719Z"
    },
    "papermill": {
     "duration": 0.023081,
     "end_time": "2025-08-19T18:41:26.366664",
     "exception": false,
     "start_time": "2025-08-19T18:41:26.343583",
     "status": "completed"
    },
    "tags": []
   },
   "outputs": [],
   "source": [
    "# Miscoverage level for conformal prediction (10% allowed error rate => 90% target coverage)\n",
    "alpha = 0.1"
   ]
  },
  {
   "cell_type": "code",
   "execution_count": 38,
   "id": "59102472",
   "metadata": {
    "execution": {
     "iopub.execute_input": "2025-08-19T18:41:26.392800Z",
     "iopub.status.busy": "2025-08-19T18:41:26.391798Z",
     "iopub.status.idle": "2025-08-19T18:41:26.578184Z",
     "shell.execute_reply": "2025-08-19T18:41:26.577138Z"
    },
    "papermill": {
     "duration": 0.203295,
     "end_time": "2025-08-19T18:41:26.581732",
     "exception": false,
     "start_time": "2025-08-19T18:41:26.378437",
     "status": "completed"
    },
    "tags": []
   },
   "outputs": [],
   "source": [
    "probs_calib = model.predict_proba(X_calib)"
   ]
  },
  {
   "cell_type": "code",
   "execution_count": 39,
   "id": "a792d4dd",
   "metadata": {
    "execution": {
     "iopub.execute_input": "2025-08-19T18:41:26.623618Z",
     "iopub.status.busy": "2025-08-19T18:41:26.622338Z",
     "iopub.status.idle": "2025-08-19T18:41:26.635641Z",
     "shell.execute_reply": "2025-08-19T18:41:26.634983Z"
    },
    "papermill": {
     "duration": 0.031054,
     "end_time": "2025-08-19T18:41:26.636959",
     "exception": false,
     "start_time": "2025-08-19T18:41:26.605905",
     "status": "completed"
    },
    "tags": []
   },
   "outputs": [],
   "source": [
    "y_calib = y_calib.values.ravel().astype(int)"
   ]
  },
  {
   "cell_type": "code",
   "execution_count": 40,
   "id": "650fd033",
   "metadata": {
    "execution": {
     "iopub.execute_input": "2025-08-19T18:41:26.661339Z",
     "iopub.status.busy": "2025-08-19T18:41:26.661041Z",
     "iopub.status.idle": "2025-08-19T18:41:26.669722Z",
     "shell.execute_reply": "2025-08-19T18:41:26.669023Z"
    },
    "papermill": {
     "duration": 0.022278,
     "end_time": "2025-08-19T18:41:26.671179",
     "exception": false,
     "start_time": "2025-08-19T18:41:26.648901",
     "status": "completed"
    },
    "tags": []
   },
   "outputs": [],
   "source": [
    "from fairness_multiverse.conformal import compute_nc_scores\n",
    "\n",
    "# Compute nonconformity scores on calibration set (1 - probability of true class)\n",
    "nc_scores = compute_nc_scores(probs_calib, y_calib)"
   ]
  },
  {
   "cell_type": "code",
   "execution_count": 41,
   "id": "28ada44c",
   "metadata": {
    "execution": {
     "iopub.execute_input": "2025-08-19T18:41:26.702483Z",
     "iopub.status.busy": "2025-08-19T18:41:26.702183Z",
     "iopub.status.idle": "2025-08-19T18:41:26.707347Z",
     "shell.execute_reply": "2025-08-19T18:41:26.706546Z"
    },
    "papermill": {
     "duration": 0.021333,
     "end_time": "2025-08-19T18:41:26.708657",
     "exception": false,
     "start_time": "2025-08-19T18:41:26.687324",
     "status": "completed"
    },
    "tags": []
   },
   "outputs": [],
   "source": [
    "from fairness_multiverse.conformal import find_threshold\n",
    "\n",
    "# Find conformal threshold q_hat for the given alpha (split conformal method)\n",
    "q_hat = find_threshold(nc_scores, alpha)"
   ]
  },
  {
   "cell_type": "code",
   "execution_count": 42,
   "id": "df56469e",
   "metadata": {
    "execution": {
     "iopub.execute_input": "2025-08-19T18:41:26.739346Z",
     "iopub.status.busy": "2025-08-19T18:41:26.737852Z",
     "iopub.status.idle": "2025-08-19T18:41:26.756912Z",
     "shell.execute_reply": "2025-08-19T18:41:26.755917Z"
    },
    "papermill": {
     "duration": 0.038115,
     "end_time": "2025-08-19T18:41:26.758982",
     "exception": false,
     "start_time": "2025-08-19T18:41:26.720867",
     "status": "completed"
    },
    "tags": []
   },
   "outputs": [
    {
     "data": {
      "text/plain": [
       "0.6777632813963987"
      ]
     },
     "execution_count": 42,
     "metadata": {},
     "output_type": "execute_result"
    }
   ],
   "source": [
    "q_hat"
   ]
  },
  {
   "cell_type": "code",
   "execution_count": 43,
   "id": "aa1f5faa",
   "metadata": {
    "execution": {
     "iopub.execute_input": "2025-08-19T18:41:26.791728Z",
     "iopub.status.busy": "2025-08-19T18:41:26.791327Z",
     "iopub.status.idle": "2025-08-19T18:41:27.413736Z",
     "shell.execute_reply": "2025-08-19T18:41:27.412843Z"
    },
    "papermill": {
     "duration": 0.637252,
     "end_time": "2025-08-19T18:41:27.415293",
     "exception": false,
     "start_time": "2025-08-19T18:41:26.778041",
     "status": "completed"
    },
    "tags": []
   },
   "outputs": [],
   "source": [
    "from fairness_multiverse.conformal import predict_conformal_sets\n",
    "\n",
    "# Generate prediction sets for each test example\n",
    "pred_sets = predict_conformal_sets(model, X_test, q_hat)"
   ]
  },
  {
   "cell_type": "code",
   "execution_count": 44,
   "id": "97f67a6b",
   "metadata": {
    "execution": {
     "iopub.execute_input": "2025-08-19T18:41:27.441928Z",
     "iopub.status.busy": "2025-08-19T18:41:27.441200Z",
     "iopub.status.idle": "2025-08-19T18:41:27.447814Z",
     "shell.execute_reply": "2025-08-19T18:41:27.446406Z"
    },
    "papermill": {
     "duration": 0.021854,
     "end_time": "2025-08-19T18:41:27.449436",
     "exception": false,
     "start_time": "2025-08-19T18:41:27.427582",
     "status": "completed"
    },
    "tags": []
   },
   "outputs": [],
   "source": [
    "y_true = y_true.squeeze()"
   ]
  },
  {
   "cell_type": "code",
   "execution_count": 45,
   "id": "e700e9a7",
   "metadata": {
    "execution": {
     "iopub.execute_input": "2025-08-19T18:41:27.477430Z",
     "iopub.status.busy": "2025-08-19T18:41:27.475322Z",
     "iopub.status.idle": "2025-08-19T18:41:28.011072Z",
     "shell.execute_reply": "2025-08-19T18:41:28.010329Z"
    },
    "papermill": {
     "duration": 0.550875,
     "end_time": "2025-08-19T18:41:28.012644",
     "exception": false,
     "start_time": "2025-08-19T18:41:27.461769",
     "status": "completed"
    },
    "tags": []
   },
   "outputs": [],
   "source": [
    "from fairness_multiverse.conformal import evaluate_sets\n",
    "\n",
    "# Evaluate coverage and average set size on test data\n",
    "metrics = evaluate_sets(pred_sets, y_true)"
   ]
  },
  {
   "cell_type": "markdown",
   "id": "efbacec0",
   "metadata": {
    "papermill": {
     "duration": 0.012169,
     "end_time": "2025-08-19T18:41:28.037693",
     "exception": false,
     "start_time": "2025-08-19T18:41:28.025524",
     "status": "completed"
    },
    "tags": []
   },
   "source": [
    "# CP Metrics"
   ]
  },
  {
   "cell_type": "code",
   "execution_count": 46,
   "id": "9de55fb1",
   "metadata": {
    "execution": {
     "iopub.execute_input": "2025-08-19T18:41:28.062639Z",
     "iopub.status.busy": "2025-08-19T18:41:28.062224Z",
     "iopub.status.idle": "2025-08-19T18:41:28.067900Z",
     "shell.execute_reply": "2025-08-19T18:41:28.067143Z"
    },
    "papermill": {
     "duration": 0.019956,
     "end_time": "2025-08-19T18:41:28.069479",
     "exception": false,
     "start_time": "2025-08-19T18:41:28.049523",
     "status": "completed"
    },
    "tags": []
   },
   "outputs": [
    {
     "data": {
      "text/plain": [
       "{'coverage': 0.9117712629584216, 'avg_size': 1.1464831122505852}"
      ]
     },
     "execution_count": 46,
     "metadata": {},
     "output_type": "execute_result"
    }
   ],
   "source": [
    "metrics"
   ]
  },
  {
   "cell_type": "code",
   "execution_count": 47,
   "id": "64c340a1",
   "metadata": {
    "execution": {
     "iopub.execute_input": "2025-08-19T18:41:28.095546Z",
     "iopub.status.busy": "2025-08-19T18:41:28.095136Z",
     "iopub.status.idle": "2025-08-19T18:41:28.100250Z",
     "shell.execute_reply": "2025-08-19T18:41:28.099514Z"
    },
    "papermill": {
     "duration": 0.019521,
     "end_time": "2025-08-19T18:41:28.101722",
     "exception": false,
     "start_time": "2025-08-19T18:41:28.082201",
     "status": "completed"
    },
    "tags": []
   },
   "outputs": [],
   "source": [
    "example_universe = universe.copy()\n",
    "universe_training_year = example_universe.get(\"training_year\")\n",
    "universe_training_size = example_universe.get(\"training_size\")\n",
    "universe_scale = example_universe.get(\"scale\")\n",
    "universe_model = example_universe.get(\"model\")\n",
    "universe_exclude_features = example_universe.get(\"exclude_features\")\n",
    "universe_exclude_subgroups = example_universe.get(\"exclude_subgroups\")"
   ]
  },
  {
   "cell_type": "code",
   "execution_count": 48,
   "id": "dbb53cb4",
   "metadata": {
    "execution": {
     "iopub.execute_input": "2025-08-19T18:41:28.129058Z",
     "iopub.status.busy": "2025-08-19T18:41:28.128644Z",
     "iopub.status.idle": "2025-08-19T18:41:28.133767Z",
     "shell.execute_reply": "2025-08-19T18:41:28.133035Z"
    },
    "papermill": {
     "duration": 0.020505,
     "end_time": "2025-08-19T18:41:28.135501",
     "exception": false,
     "start_time": "2025-08-19T18:41:28.114996",
     "status": "completed"
    },
    "tags": []
   },
   "outputs": [],
   "source": [
    "cp_metrics_dict = {\n",
    "    \"universe_id\": [universe_id],\n",
    "    \"universe_training_year\": [universe_training_year],\n",
    "    \"universe_training_size\": [universe_training_size],\n",
    "    \"universe_scale\": [universe_scale],\n",
    "    \"universe_model\": [universe_model],\n",
    "    \"universe_exclude_features\": [universe_exclude_features],\n",
    "    \"universe_exclude_subgroups\": [universe_exclude_subgroups],\n",
    "    \"q_hat\": [q_hat],\n",
    "    \"coverage\": [metrics[\"coverage\"]],\n",
    "    \"avg_size\": [metrics[\"avg_size\"]],\n",
    "}"
   ]
  },
  {
   "cell_type": "code",
   "execution_count": 49,
   "id": "0d70d4b2",
   "metadata": {
    "execution": {
     "iopub.execute_input": "2025-08-19T18:41:28.166268Z",
     "iopub.status.busy": "2025-08-19T18:41:28.165812Z",
     "iopub.status.idle": "2025-08-19T18:41:28.171347Z",
     "shell.execute_reply": "2025-08-19T18:41:28.170603Z"
    },
    "papermill": {
     "duration": 0.021291,
     "end_time": "2025-08-19T18:41:28.172935",
     "exception": false,
     "start_time": "2025-08-19T18:41:28.151644",
     "status": "completed"
    },
    "tags": []
   },
   "outputs": [],
   "source": [
    "cp_metrics_df = pd.DataFrame(cp_metrics_dict)"
   ]
  },
  {
   "cell_type": "code",
   "execution_count": 50,
   "id": "b494403c",
   "metadata": {
    "execution": {
     "iopub.execute_input": "2025-08-19T18:41:28.200707Z",
     "iopub.status.busy": "2025-08-19T18:41:28.197647Z",
     "iopub.status.idle": "2025-08-19T18:41:28.259471Z",
     "shell.execute_reply": "2025-08-19T18:41:28.258288Z"
    },
    "papermill": {
     "duration": 0.07698,
     "end_time": "2025-08-19T18:41:28.261834",
     "exception": false,
     "start_time": "2025-08-19T18:41:28.184854",
     "status": "completed"
    },
    "tags": []
   },
   "outputs": [
    {
     "data": {
      "text/html": [
       "<div>\n",
       "<style scoped>\n",
       "    .dataframe tbody tr th:only-of-type {\n",
       "        vertical-align: middle;\n",
       "    }\n",
       "\n",
       "    .dataframe tbody tr th {\n",
       "        vertical-align: top;\n",
       "    }\n",
       "\n",
       "    .dataframe thead th {\n",
       "        text-align: right;\n",
       "    }\n",
       "</style>\n",
       "<table border=\"1\" class=\"dataframe\">\n",
       "  <thead>\n",
       "    <tr style=\"text-align: right;\">\n",
       "      <th></th>\n",
       "      <th>universe_id</th>\n",
       "      <th>universe_training_year</th>\n",
       "      <th>universe_training_size</th>\n",
       "      <th>universe_scale</th>\n",
       "      <th>universe_model</th>\n",
       "      <th>universe_exclude_features</th>\n",
       "      <th>universe_exclude_subgroups</th>\n",
       "      <th>q_hat</th>\n",
       "      <th>coverage</th>\n",
       "      <th>avg_size</th>\n",
       "    </tr>\n",
       "  </thead>\n",
       "  <tbody>\n",
       "    <tr>\n",
       "      <th>0</th>\n",
       "      <td>5dfac1059e2b59ce356febb53bd79ed9</td>\n",
       "      <td>2010_14</td>\n",
       "      <td>5k</td>\n",
       "      <td>scale</td>\n",
       "      <td>penalized_logreg</td>\n",
       "      <td>nationality</td>\n",
       "      <td>keep-all</td>\n",
       "      <td>0.677763</td>\n",
       "      <td>0.911771</td>\n",
       "      <td>1.146483</td>\n",
       "    </tr>\n",
       "  </tbody>\n",
       "</table>\n",
       "</div>"
      ],
      "text/plain": [
       "                        universe_id universe_training_year  \\\n",
       "0  5dfac1059e2b59ce356febb53bd79ed9                2010_14   \n",
       "\n",
       "  universe_training_size universe_scale    universe_model  \\\n",
       "0                     5k          scale  penalized_logreg   \n",
       "\n",
       "  universe_exclude_features universe_exclude_subgroups     q_hat  coverage  \\\n",
       "0               nationality                   keep-all  0.677763  0.911771   \n",
       "\n",
       "   avg_size  \n",
       "0  1.146483  "
      ]
     },
     "execution_count": 50,
     "metadata": {},
     "output_type": "execute_result"
    }
   ],
   "source": [
    "cp_metrics_df"
   ]
  },
  {
   "cell_type": "markdown",
   "id": "ed608b0b",
   "metadata": {
    "papermill": {
     "duration": 0.013913,
     "end_time": "2025-08-19T18:41:28.294938",
     "exception": false,
     "start_time": "2025-08-19T18:41:28.281025",
     "status": "completed"
    },
    "tags": []
   },
   "source": [
    "Conditional coverage & looking at subgroups"
   ]
  },
  {
   "cell_type": "code",
   "execution_count": 51,
   "id": "8968c366",
   "metadata": {
    "execution": {
     "iopub.execute_input": "2025-08-19T18:41:28.320845Z",
     "iopub.status.busy": "2025-08-19T18:41:28.320403Z",
     "iopub.status.idle": "2025-08-19T18:41:28.559683Z",
     "shell.execute_reply": "2025-08-19T18:41:28.558896Z"
    },
    "papermill": {
     "duration": 0.253999,
     "end_time": "2025-08-19T18:41:28.561186",
     "exception": false,
     "start_time": "2025-08-19T18:41:28.307187",
     "status": "completed"
    },
    "tags": []
   },
   "outputs": [],
   "source": [
    "from fairness_multiverse.conformal import build_cp_groups\n",
    "\n",
    "cp_groups_df = build_cp_groups(pred_sets, y_true, X_test.index, org_test)"
   ]
  },
  {
   "cell_type": "code",
   "execution_count": 52,
   "id": "292ddabf",
   "metadata": {
    "execution": {
     "iopub.execute_input": "2025-08-19T18:41:28.591742Z",
     "iopub.status.busy": "2025-08-19T18:41:28.590705Z",
     "iopub.status.idle": "2025-08-19T18:41:29.591975Z",
     "shell.execute_reply": "2025-08-19T18:41:29.590838Z"
    },
    "papermill": {
     "duration": 1.018254,
     "end_time": "2025-08-19T18:41:29.594927",
     "exception": false,
     "start_time": "2025-08-19T18:41:28.576673",
     "status": "completed"
    },
    "tags": []
   },
   "outputs": [],
   "source": [
    "# Define covered = 1 if true_label is in the predicted set\n",
    "cp_groups_df['covered'] = cp_groups_df.apply(\n",
    "    lambda r: int(r['true_label'] in r['pred_set']),\n",
    "    axis=1\n",
    ")"
   ]
  },
  {
   "cell_type": "code",
   "execution_count": 53,
   "id": "3a261692",
   "metadata": {
    "execution": {
     "iopub.execute_input": "2025-08-19T18:41:29.646199Z",
     "iopub.status.busy": "2025-08-19T18:41:29.644695Z",
     "iopub.status.idle": "2025-08-19T18:41:29.670509Z",
     "shell.execute_reply": "2025-08-19T18:41:29.669590Z"
    },
    "papermill": {
     "duration": 0.050754,
     "end_time": "2025-08-19T18:41:29.672235",
     "exception": false,
     "start_time": "2025-08-19T18:41:29.621481",
     "status": "completed"
    },
    "tags": []
   },
   "outputs": [],
   "source": [
    "subgroups = ['frau1','nongerman','nongerman_male','nongerman_female']\n",
    "\n",
    "# Conditional coverage for subgroup==1\n",
    "cond_coverage = {\n",
    "    g: cp_groups_df.loc[cp_groups_df[g]==1, 'covered'].mean()\n",
    "    for g in subgroups\n",
    "}"
   ]
  },
  {
   "cell_type": "code",
   "execution_count": 54,
   "id": "894fd600",
   "metadata": {
    "execution": {
     "iopub.execute_input": "2025-08-19T18:41:29.702481Z",
     "iopub.status.busy": "2025-08-19T18:41:29.702045Z",
     "iopub.status.idle": "2025-08-19T18:41:29.708119Z",
     "shell.execute_reply": "2025-08-19T18:41:29.707392Z"
    },
    "papermill": {
     "duration": 0.02223,
     "end_time": "2025-08-19T18:41:29.709967",
     "exception": false,
     "start_time": "2025-08-19T18:41:29.687737",
     "status": "completed"
    },
    "tags": []
   },
   "outputs": [
    {
     "data": {
      "text/plain": [
       "{'frau1': 0.9095565440086265,\n",
       " 'nongerman': 0.9123673721439398,\n",
       " 'nongerman_male': 0.9282175988471584,\n",
       " 'nongerman_female': 0.886140089418778}"
      ]
     },
     "execution_count": 54,
     "metadata": {},
     "output_type": "execute_result"
    }
   ],
   "source": [
    "cond_coverage"
   ]
  },
  {
   "cell_type": "code",
   "execution_count": 55,
   "id": "942895c7",
   "metadata": {
    "execution": {
     "iopub.execute_input": "2025-08-19T18:41:29.737186Z",
     "iopub.status.busy": "2025-08-19T18:41:29.736766Z",
     "iopub.status.idle": "2025-08-19T18:41:29.742855Z",
     "shell.execute_reply": "2025-08-19T18:41:29.741999Z"
    },
    "papermill": {
     "duration": 0.022422,
     "end_time": "2025-08-19T18:41:29.745362",
     "exception": false,
     "start_time": "2025-08-19T18:41:29.722940",
     "status": "completed"
    },
    "tags": []
   },
   "outputs": [],
   "source": [
    "for subgroup, cov in cond_coverage.items():\n",
    "    cp_metrics_df[f\"cov_{subgroup}\"] = cov"
   ]
  },
  {
   "cell_type": "code",
   "execution_count": 56,
   "id": "3970120f",
   "metadata": {
    "execution": {
     "iopub.execute_input": "2025-08-19T18:41:29.773671Z",
     "iopub.status.busy": "2025-08-19T18:41:29.773253Z",
     "iopub.status.idle": "2025-08-19T18:41:29.790605Z",
     "shell.execute_reply": "2025-08-19T18:41:29.789784Z"
    },
    "papermill": {
     "duration": 0.033014,
     "end_time": "2025-08-19T18:41:29.792348",
     "exception": false,
     "start_time": "2025-08-19T18:41:29.759334",
     "status": "completed"
    },
    "tags": []
   },
   "outputs": [
    {
     "data": {
      "text/html": [
       "<div>\n",
       "<style scoped>\n",
       "    .dataframe tbody tr th:only-of-type {\n",
       "        vertical-align: middle;\n",
       "    }\n",
       "\n",
       "    .dataframe tbody tr th {\n",
       "        vertical-align: top;\n",
       "    }\n",
       "\n",
       "    .dataframe thead th {\n",
       "        text-align: right;\n",
       "    }\n",
       "</style>\n",
       "<table border=\"1\" class=\"dataframe\">\n",
       "  <thead>\n",
       "    <tr style=\"text-align: right;\">\n",
       "      <th></th>\n",
       "      <th>universe_id</th>\n",
       "      <th>universe_training_year</th>\n",
       "      <th>universe_training_size</th>\n",
       "      <th>universe_scale</th>\n",
       "      <th>universe_model</th>\n",
       "      <th>universe_exclude_features</th>\n",
       "      <th>universe_exclude_subgroups</th>\n",
       "      <th>q_hat</th>\n",
       "      <th>coverage</th>\n",
       "      <th>avg_size</th>\n",
       "      <th>cov_frau1</th>\n",
       "      <th>cov_nongerman</th>\n",
       "      <th>cov_nongerman_male</th>\n",
       "      <th>cov_nongerman_female</th>\n",
       "    </tr>\n",
       "  </thead>\n",
       "  <tbody>\n",
       "    <tr>\n",
       "      <th>0</th>\n",
       "      <td>5dfac1059e2b59ce356febb53bd79ed9</td>\n",
       "      <td>2010_14</td>\n",
       "      <td>5k</td>\n",
       "      <td>scale</td>\n",
       "      <td>penalized_logreg</td>\n",
       "      <td>nationality</td>\n",
       "      <td>keep-all</td>\n",
       "      <td>0.677763</td>\n",
       "      <td>0.911771</td>\n",
       "      <td>1.146483</td>\n",
       "      <td>0.909557</td>\n",
       "      <td>0.912367</td>\n",
       "      <td>0.928218</td>\n",
       "      <td>0.88614</td>\n",
       "    </tr>\n",
       "  </tbody>\n",
       "</table>\n",
       "</div>"
      ],
      "text/plain": [
       "                        universe_id universe_training_year  \\\n",
       "0  5dfac1059e2b59ce356febb53bd79ed9                2010_14   \n",
       "\n",
       "  universe_training_size universe_scale    universe_model  \\\n",
       "0                     5k          scale  penalized_logreg   \n",
       "\n",
       "  universe_exclude_features universe_exclude_subgroups     q_hat  coverage  \\\n",
       "0               nationality                   keep-all  0.677763  0.911771   \n",
       "\n",
       "   avg_size  cov_frau1  cov_nongerman  cov_nongerman_male  \\\n",
       "0  1.146483   0.909557       0.912367            0.928218   \n",
       "\n",
       "   cov_nongerman_female  \n",
       "0               0.88614  "
      ]
     },
     "execution_count": 56,
     "metadata": {},
     "output_type": "execute_result"
    }
   ],
   "source": [
    "cp_metrics_df"
   ]
  },
  {
   "cell_type": "markdown",
   "id": "3fc519cc",
   "metadata": {
    "papermill": {
     "duration": 0.012411,
     "end_time": "2025-08-19T18:41:29.819524",
     "exception": false,
     "start_time": "2025-08-19T18:41:29.807113",
     "status": "completed"
    },
    "tags": []
   },
   "source": [
    "# (Fairness) Metrics"
   ]
  },
  {
   "cell_type": "code",
   "execution_count": 57,
   "id": "a2e5e155",
   "metadata": {
    "execution": {
     "iopub.execute_input": "2025-08-19T18:41:29.845210Z",
     "iopub.status.busy": "2025-08-19T18:41:29.844904Z",
     "iopub.status.idle": "2025-08-19T18:41:29.860392Z",
     "shell.execute_reply": "2025-08-19T18:41:29.859645Z"
    },
    "papermill": {
     "duration": 0.029912,
     "end_time": "2025-08-19T18:41:29.861692",
     "exception": false,
     "start_time": "2025-08-19T18:41:29.831780",
     "status": "completed"
    },
    "tags": []
   },
   "outputs": [],
   "source": [
    "colname_to_bin = \"maxdeutsch1\"\n",
    "majority_value = org_train[colname_to_bin].mode()[0]\n",
    "\n",
    "org_test[\"majmin\"] = np.where(org_test[colname_to_bin] == majority_value, \"majority\", \"minority\")"
   ]
  },
  {
   "cell_type": "code",
   "execution_count": 58,
   "id": "17e3e4d5",
   "metadata": {
    "execution": {
     "iopub.execute_input": "2025-08-19T18:41:29.891879Z",
     "iopub.status.busy": "2025-08-19T18:41:29.891477Z",
     "iopub.status.idle": "2025-08-19T18:41:31.744322Z",
     "shell.execute_reply": "2025-08-19T18:41:31.742849Z"
    },
    "papermill": {
     "duration": 1.871361,
     "end_time": "2025-08-19T18:41:31.746051",
     "exception": false,
     "start_time": "2025-08-19T18:41:29.874690",
     "status": "completed"
    },
    "tags": []
   },
   "outputs": [],
   "source": [
    "example_universe = universe.copy()\n",
    "example_universe[\"cutoff\"] = example_universe[\"cutoff\"][0]\n",
    "example_universe[\"eval_fairness_grouping\"] = example_universe[\"eval_fairness_grouping\"][0]\n",
    "fairness_dict, metric_frame = universe_analysis.compute_metrics(\n",
    "    example_universe,\n",
    "    y_pred_prob=probs_test,\n",
    "    y_test=y_true,\n",
    "    org_test=org_test,\n",
    ")"
   ]
  },
  {
   "cell_type": "markdown",
   "id": "1fb7a0e9",
   "metadata": {
    "papermill": {
     "duration": 0.012828,
     "end_time": "2025-08-19T18:41:31.785928",
     "exception": false,
     "start_time": "2025-08-19T18:41:31.773100",
     "status": "completed"
    },
    "tags": []
   },
   "source": [
    "# Overall"
   ]
  },
  {
   "cell_type": "markdown",
   "id": "be1784b1",
   "metadata": {
    "papermill": {
     "duration": 0.012993,
     "end_time": "2025-08-19T18:41:31.811352",
     "exception": false,
     "start_time": "2025-08-19T18:41:31.798359",
     "status": "completed"
    },
    "tags": []
   },
   "source": [
    "Main fairness target: Equalized Odds. Seems to be a better fit than equal opportunity, since we're not only interested in Y = 1. Seems to be a better fit than demographic parity, since we also care about accuracy, not just equal distribution of preds.\n",
    "\n",
    "Pick column for computation of fairness metrics\n",
    "\n",
    "Performance\n",
    "Overall performance measures, most interesting in relation to the measures split by group below"
   ]
  },
  {
   "cell_type": "code",
   "execution_count": 59,
   "id": "b7672bee",
   "metadata": {
    "execution": {
     "iopub.execute_input": "2025-08-19T18:41:31.837368Z",
     "iopub.status.busy": "2025-08-19T18:41:31.836906Z",
     "iopub.status.idle": "2025-08-19T18:41:31.845312Z",
     "shell.execute_reply": "2025-08-19T18:41:31.844623Z"
    },
    "papermill": {
     "duration": 0.02288,
     "end_time": "2025-08-19T18:41:31.846509",
     "exception": false,
     "start_time": "2025-08-19T18:41:31.823629",
     "status": "completed"
    },
    "tags": []
   },
   "outputs": [
    {
     "data": {
      "text/plain": [
       "accuracy                   0.223710\n",
       "balanced accuracy          0.547140\n",
       "f1                         0.245059\n",
       "precision                  0.139994\n",
       "false positive rate        0.887906\n",
       "false negative rate        0.017814\n",
       "selection rate             0.900000\n",
       "count                  89710.000000\n",
       "dtype: float64"
      ]
     },
     "execution_count": 59,
     "metadata": {},
     "output_type": "execute_result"
    }
   ],
   "source": [
    "metric_frame.overall"
   ]
  },
  {
   "cell_type": "markdown",
   "id": "d93333c9",
   "metadata": {
    "papermill": {
     "duration": 0.012156,
     "end_time": "2025-08-19T18:41:31.873429",
     "exception": false,
     "start_time": "2025-08-19T18:41:31.861273",
     "status": "completed"
    },
    "tags": []
   },
   "source": [
    "By Group"
   ]
  },
  {
   "cell_type": "code",
   "execution_count": 60,
   "id": "52256966",
   "metadata": {
    "execution": {
     "iopub.execute_input": "2025-08-19T18:41:31.899140Z",
     "iopub.status.busy": "2025-08-19T18:41:31.898829Z",
     "iopub.status.idle": "2025-08-19T18:41:31.913930Z",
     "shell.execute_reply": "2025-08-19T18:41:31.912456Z"
    },
    "papermill": {
     "duration": 0.040295,
     "end_time": "2025-08-19T18:41:31.926098",
     "exception": false,
     "start_time": "2025-08-19T18:41:31.885803",
     "status": "completed"
    },
    "tags": []
   },
   "outputs": [
    {
     "data": {
      "text/html": [
       "<div>\n",
       "<style scoped>\n",
       "    .dataframe tbody tr th:only-of-type {\n",
       "        vertical-align: middle;\n",
       "    }\n",
       "\n",
       "    .dataframe tbody tr th {\n",
       "        vertical-align: top;\n",
       "    }\n",
       "\n",
       "    .dataframe thead th {\n",
       "        text-align: right;\n",
       "    }\n",
       "</style>\n",
       "<table border=\"1\" class=\"dataframe\">\n",
       "  <thead>\n",
       "    <tr style=\"text-align: right;\">\n",
       "      <th></th>\n",
       "      <th>accuracy</th>\n",
       "      <th>balanced accuracy</th>\n",
       "      <th>f1</th>\n",
       "      <th>precision</th>\n",
       "      <th>false positive rate</th>\n",
       "      <th>false negative rate</th>\n",
       "      <th>selection rate</th>\n",
       "      <th>count</th>\n",
       "    </tr>\n",
       "    <tr>\n",
       "      <th>majmin</th>\n",
       "      <th></th>\n",
       "      <th></th>\n",
       "      <th></th>\n",
       "      <th></th>\n",
       "      <th></th>\n",
       "      <th></th>\n",
       "      <th></th>\n",
       "      <th></th>\n",
       "    </tr>\n",
       "  </thead>\n",
       "  <tbody>\n",
       "    <tr>\n",
       "      <th>majority</th>\n",
       "      <td>0.245670</td>\n",
       "      <td>0.557340</td>\n",
       "      <td>0.255773</td>\n",
       "      <td>0.147058</td>\n",
       "      <td>0.866284</td>\n",
       "      <td>0.019037</td>\n",
       "      <td>0.881437</td>\n",
       "      <td>69170.0</td>\n",
       "    </tr>\n",
       "    <tr>\n",
       "      <th>minority</th>\n",
       "      <td>0.149757</td>\n",
       "      <td>0.513788</td>\n",
       "      <td>0.211130</td>\n",
       "      <td>0.118209</td>\n",
       "      <td>0.959333</td>\n",
       "      <td>0.013091</td>\n",
       "      <td>0.962512</td>\n",
       "      <td>20540.0</td>\n",
       "    </tr>\n",
       "  </tbody>\n",
       "</table>\n",
       "</div>"
      ],
      "text/plain": [
       "          accuracy  balanced accuracy        f1  precision  \\\n",
       "majmin                                                       \n",
       "majority  0.245670           0.557340  0.255773   0.147058   \n",
       "minority  0.149757           0.513788  0.211130   0.118209   \n",
       "\n",
       "          false positive rate  false negative rate  selection rate    count  \n",
       "majmin                                                                       \n",
       "majority             0.866284             0.019037        0.881437  69170.0  \n",
       "minority             0.959333             0.013091        0.962512  20540.0  "
      ]
     },
     "execution_count": 60,
     "metadata": {},
     "output_type": "execute_result"
    }
   ],
   "source": [
    "metric_frame.by_group"
   ]
  },
  {
   "cell_type": "code",
   "execution_count": 61,
   "id": "6e6c20ae",
   "metadata": {
    "execution": {
     "iopub.execute_input": "2025-08-19T18:41:31.952439Z",
     "iopub.status.busy": "2025-08-19T18:41:31.952031Z",
     "iopub.status.idle": "2025-08-19T18:41:33.963979Z",
     "shell.execute_reply": "2025-08-19T18:41:33.963012Z"
    },
    "papermill": {
     "duration": 2.026445,
     "end_time": "2025-08-19T18:41:33.965243",
     "exception": false,
     "start_time": "2025-08-19T18:41:31.938798",
     "status": "completed"
    },
    "tags": []
   },
   "outputs": [
    {
     "data": {
      "text/plain": [
       "array([[<Axes: title={'center': 'accuracy'}, xlabel='majmin'>,\n",
       "        <Axes: title={'center': 'balanced accuracy'}, xlabel='majmin'>,\n",
       "        <Axes: title={'center': 'f1'}, xlabel='majmin'>],\n",
       "       [<Axes: title={'center': 'precision'}, xlabel='majmin'>,\n",
       "        <Axes: title={'center': 'false positive rate'}, xlabel='majmin'>,\n",
       "        <Axes: title={'center': 'false negative rate'}, xlabel='majmin'>],\n",
       "       [<Axes: title={'center': 'selection rate'}, xlabel='majmin'>,\n",
       "        <Axes: title={'center': 'count'}, xlabel='majmin'>,\n",
       "        <Axes: xlabel='majmin'>]], dtype=object)"
      ]
     },
     "execution_count": 61,
     "metadata": {},
     "output_type": "execute_result"
    },
    {
     "data": {
      "image/png": "[encoded data removed]",
      "text/plain": [
       "<Figure size 1200x800 with 9 Axes>"
      ]
     },
     "metadata": {},
     "output_type": "display_data"
    }
   ],
   "source": [
    "# In a graphic\n",
    "metric_frame.by_group.plot.bar(\n",
    "    subplots=True,\n",
    "    layout=[3, 3],\n",
    "    legend=False,\n",
    "    figsize=[12, 8],\n",
    "    title=\"Show all metrics\",\n",
    ")"
   ]
  },
  {
   "cell_type": "markdown",
   "id": "b2e433ae",
   "metadata": {
    "papermill": {
     "duration": 0.014001,
     "end_time": "2025-08-19T18:41:33.996401",
     "exception": false,
     "start_time": "2025-08-19T18:41:33.982400",
     "status": "completed"
    },
    "tags": []
   },
   "source": [
    "# Final Output"
   ]
  },
  {
   "cell_type": "code",
   "execution_count": 62,
   "id": "3871301e",
   "metadata": {
    "execution": {
     "iopub.execute_input": "2025-08-19T18:41:34.026106Z",
     "iopub.status.busy": "2025-08-19T18:41:34.025220Z",
     "iopub.status.idle": "2025-08-19T18:41:34.034889Z",
     "shell.execute_reply": "2025-08-19T18:41:34.034175Z"
    },
    "papermill": {
     "duration": 0.026126,
     "end_time": "2025-08-19T18:41:34.036302",
     "exception": false,
     "start_time": "2025-08-19T18:41:34.010176",
     "status": "completed"
    },
    "tags": []
   },
   "outputs": [
    {
     "data": {
      "text/plain": [
       "4"
      ]
     },
     "execution_count": 62,
     "metadata": {},
     "output_type": "execute_result"
    }
   ],
   "source": [
    "sub_universes = universe_analysis.generate_sub_universes()\n",
    "len(sub_universes)"
   ]
  },
  {
   "cell_type": "code",
   "execution_count": 63,
   "id": "d9cfdaca",
   "metadata": {
    "execution": {
     "iopub.execute_input": "2025-08-19T18:41:34.065043Z",
     "iopub.status.busy": "2025-08-19T18:41:34.064750Z",
     "iopub.status.idle": "2025-08-19T18:41:34.076853Z",
     "shell.execute_reply": "2025-08-19T18:41:34.075800Z"
    },
    "papermill": {
     "duration": 0.028312,
     "end_time": "2025-08-19T18:41:34.078503",
     "exception": false,
     "start_time": "2025-08-19T18:41:34.050191",
     "status": "completed"
    },
    "tags": []
   },
   "outputs": [],
   "source": [
    "def filter_sub_universe_data(sub_universe, org_test):\n",
    "    # Keep all rows — no filtering\n",
    "    keep_rows_mask = np.ones(org_test.shape[0], dtype=bool)\n",
    "\n",
    "    print(f\"[INFO] Keeping all rows: {keep_rows_mask.sum()} rows retained.\")\n",
    "    return keep_rows_mask"
   ]
  },
  {
   "cell_type": "code",
   "execution_count": 64,
   "id": "2bc31ac1",
   "metadata": {
    "execution": {
     "iopub.execute_input": "2025-08-19T18:41:34.109170Z",
     "iopub.status.busy": "2025-08-19T18:41:34.108771Z",
     "iopub.status.idle": "2025-08-19T18:41:40.728194Z",
     "shell.execute_reply": "2025-08-19T18:41:40.727130Z"
    },
    "papermill": {
     "duration": 6.635919,
     "end_time": "2025-08-19T18:41:40.729788",
     "exception": false,
     "start_time": "2025-08-19T18:41:34.093869",
     "status": "completed"
    },
    "tags": []
   },
   "outputs": [
    {
     "name": "stdout",
     "output_type": "stream",
     "text": [
      "Stopping execution_time clock.\n",
      "[INFO] Keeping all rows: 89710 rows retained.\n"
     ]
    },
    {
     "name": "stdout",
     "output_type": "stream",
     "text": [
      "[INFO] Keeping all rows: 89710 rows retained.\n"
     ]
    },
    {
     "name": "stdout",
     "output_type": "stream",
     "text": [
      "[INFO] Keeping all rows: 89710 rows retained.\n"
     ]
    },
    {
     "name": "stdout",
     "output_type": "stream",
     "text": [
      "[INFO] Keeping all rows: 89710 rows retained.\n"
     ]
    },
    {
     "data": {
      "text/html": [
       "<div>\n",
       "<style scoped>\n",
       "    .dataframe tbody tr th:only-of-type {\n",
       "        vertical-align: middle;\n",
       "    }\n",
       "\n",
       "    .dataframe tbody tr th {\n",
       "        vertical-align: top;\n",
       "    }\n",
       "\n",
       "    .dataframe thead th {\n",
       "        text-align: right;\n",
       "    }\n",
       "</style>\n",
       "<table border=\"1\" class=\"dataframe\">\n",
       "  <thead>\n",
       "    <tr style=\"text-align: right;\">\n",
       "      <th></th>\n",
       "      <th>run_no</th>\n",
       "      <th>universe_id</th>\n",
       "      <th>universe_settings</th>\n",
       "      <th>execution_time</th>\n",
       "      <th>test_size_n</th>\n",
       "      <th>test_size_frac</th>\n",
       "      <th>fair_main_equalized_odds_difference</th>\n",
       "      <th>fair_main_equalized_odds_ratio</th>\n",
       "      <th>fair_main_demographic_parity_difference</th>\n",
       "      <th>fair_main_demographic_parity_ratio</th>\n",
       "      <th>...</th>\n",
       "      <th>perf_grp_precision_0</th>\n",
       "      <th>perf_grp_precision_1</th>\n",
       "      <th>perf_grp_false positive rate_0</th>\n",
       "      <th>perf_grp_false positive rate_1</th>\n",
       "      <th>perf_grp_false negative rate_0</th>\n",
       "      <th>perf_grp_false negative rate_1</th>\n",
       "      <th>perf_grp_selection rate_0</th>\n",
       "      <th>perf_grp_selection rate_1</th>\n",
       "      <th>perf_grp_count_0</th>\n",
       "      <th>perf_grp_count_1</th>\n",
       "    </tr>\n",
       "  </thead>\n",
       "  <tbody>\n",
       "    <tr>\n",
       "      <th>0</th>\n",
       "      <td>3</td>\n",
       "      <td>5dfac1059e2b59ce356febb53bd79ed9</td>\n",
       "      <td>{\"cutoff\": \"quantile_0.1\", \"eval_fairness_grou...</td>\n",
       "      <td>25.741613</td>\n",
       "      <td>89710</td>\n",
       "      <td>1.0</td>\n",
       "      <td>0.093050</td>\n",
       "      <td>0.903006</td>\n",
       "      <td>0.081075</td>\n",
       "      <td>0.915767</td>\n",
       "      <td>...</td>\n",
       "      <td>NaN</td>\n",
       "      <td>NaN</td>\n",
       "      <td>NaN</td>\n",
       "      <td>NaN</td>\n",
       "      <td>NaN</td>\n",
       "      <td>NaN</td>\n",
       "      <td>NaN</td>\n",
       "      <td>NaN</td>\n",
       "      <td>NaN</td>\n",
       "      <td>NaN</td>\n",
       "    </tr>\n",
       "    <tr>\n",
       "      <th>0</th>\n",
       "      <td>3</td>\n",
       "      <td>5dfac1059e2b59ce356febb53bd79ed9</td>\n",
       "      <td>{\"cutoff\": \"quantile_0.1\", \"eval_fairness_grou...</td>\n",
       "      <td>25.741613</td>\n",
       "      <td>89710</td>\n",
       "      <td>1.0</td>\n",
       "      <td>0.093050</td>\n",
       "      <td>0.903006</td>\n",
       "      <td>0.081075</td>\n",
       "      <td>0.915767</td>\n",
       "      <td>...</td>\n",
       "      <td>0.118209</td>\n",
       "      <td>0.147058</td>\n",
       "      <td>0.959333</td>\n",
       "      <td>0.866284</td>\n",
       "      <td>0.013091</td>\n",
       "      <td>0.019037</td>\n",
       "      <td>0.962512</td>\n",
       "      <td>0.881437</td>\n",
       "      <td>20540.0</td>\n",
       "      <td>69170.0</td>\n",
       "    </tr>\n",
       "    <tr>\n",
       "      <th>0</th>\n",
       "      <td>3</td>\n",
       "      <td>5dfac1059e2b59ce356febb53bd79ed9</td>\n",
       "      <td>{\"cutoff\": \"quantile_0.25\", \"eval_fairness_gro...</td>\n",
       "      <td>25.741613</td>\n",
       "      <td>89710</td>\n",
       "      <td>1.0</td>\n",
       "      <td>0.166216</td>\n",
       "      <td>0.804537</td>\n",
       "      <td>0.144856</td>\n",
       "      <td>0.831892</td>\n",
       "      <td>...</td>\n",
       "      <td>NaN</td>\n",
       "      <td>NaN</td>\n",
       "      <td>NaN</td>\n",
       "      <td>NaN</td>\n",
       "      <td>NaN</td>\n",
       "      <td>NaN</td>\n",
       "      <td>NaN</td>\n",
       "      <td>NaN</td>\n",
       "      <td>NaN</td>\n",
       "      <td>NaN</td>\n",
       "    </tr>\n",
       "    <tr>\n",
       "      <th>0</th>\n",
       "      <td>3</td>\n",
       "      <td>5dfac1059e2b59ce356febb53bd79ed9</td>\n",
       "      <td>{\"cutoff\": \"quantile_0.25\", \"eval_fairness_gro...</td>\n",
       "      <td>25.741613</td>\n",
       "      <td>89710</td>\n",
       "      <td>1.0</td>\n",
       "      <td>0.166216</td>\n",
       "      <td>0.804537</td>\n",
       "      <td>0.144856</td>\n",
       "      <td>0.831892</td>\n",
       "      <td>...</td>\n",
       "      <td>0.126900</td>\n",
       "      <td>0.171692</td>\n",
       "      <td>0.850374</td>\n",
       "      <td>0.684158</td>\n",
       "      <td>0.051520</td>\n",
       "      <td>0.068600</td>\n",
       "      <td>0.861685</td>\n",
       "      <td>0.716828</td>\n",
       "      <td>20540.0</td>\n",
       "      <td>69170.0</td>\n",
       "    </tr>\n",
       "  </tbody>\n",
       "</table>\n",
       "<p>4 rows × 50 columns</p>\n",
       "</div>"
      ],
      "text/plain": [
       "  run_no                       universe_id  \\\n",
       "0      3  5dfac1059e2b59ce356febb53bd79ed9   \n",
       "0      3  5dfac1059e2b59ce356febb53bd79ed9   \n",
       "0      3  5dfac1059e2b59ce356febb53bd79ed9   \n",
       "0      3  5dfac1059e2b59ce356febb53bd79ed9   \n",
       "\n",
       "                                   universe_settings  execution_time  \\\n",
       "0  {\"cutoff\": \"quantile_0.1\", \"eval_fairness_grou...       25.741613   \n",
       "0  {\"cutoff\": \"quantile_0.1\", \"eval_fairness_grou...       25.741613   \n",
       "0  {\"cutoff\": \"quantile_0.25\", \"eval_fairness_gro...       25.741613   \n",
       "0  {\"cutoff\": \"quantile_0.25\", \"eval_fairness_gro...       25.741613   \n",
       "\n",
       "   test_size_n  test_size_frac  fair_main_equalized_odds_difference  \\\n",
       "0        89710             1.0                             0.093050   \n",
       "0        89710             1.0                             0.093050   \n",
       "0        89710             1.0                             0.166216   \n",
       "0        89710             1.0                             0.166216   \n",
       "\n",
       "   fair_main_equalized_odds_ratio  fair_main_demographic_parity_difference  \\\n",
       "0                        0.903006                                 0.081075   \n",
       "0                        0.903006                                 0.081075   \n",
       "0                        0.804537                                 0.144856   \n",
       "0                        0.804537                                 0.144856   \n",
       "\n",
       "   fair_main_demographic_parity_ratio  ...  perf_grp_precision_0  \\\n",
       "0                            0.915767  ...                   NaN   \n",
       "0                            0.915767  ...              0.118209   \n",
       "0                            0.831892  ...                   NaN   \n",
       "0                            0.831892  ...              0.126900   \n",
       "\n",
       "   perf_grp_precision_1  perf_grp_false positive rate_0  \\\n",
       "0                   NaN                             NaN   \n",
       "0              0.147058                        0.959333   \n",
       "0                   NaN                             NaN   \n",
       "0              0.171692                        0.850374   \n",
       "\n",
       "   perf_grp_false positive rate_1  perf_grp_false negative rate_0  \\\n",
       "0                             NaN                             NaN   \n",
       "0                        0.866284                        0.013091   \n",
       "0                             NaN                             NaN   \n",
       "0                        0.684158                        0.051520   \n",
       "\n",
       "   perf_grp_false negative rate_1  perf_grp_selection rate_0  \\\n",
       "0                             NaN                        NaN   \n",
       "0                        0.019037                   0.962512   \n",
       "0                             NaN                        NaN   \n",
       "0                        0.068600                   0.861685   \n",
       "\n",
       "   perf_grp_selection rate_1  perf_grp_count_0  perf_grp_count_1  \n",
       "0                        NaN               NaN               NaN  \n",
       "0                   0.881437           20540.0           69170.0  \n",
       "0                        NaN               NaN               NaN  \n",
       "0                   0.716828           20540.0           69170.0  \n",
       "\n",
       "[4 rows x 50 columns]"
      ]
     },
     "execution_count": 64,
     "metadata": {},
     "output_type": "execute_result"
    }
   ],
   "source": [
    "final_output = universe_analysis.generate_final_output(\n",
    "    y_pred_prob=probs_test,\n",
    "    y_test=y_true,\n",
    "    org_test=org_test,\n",
    "    filter_data=filter_sub_universe_data,\n",
    "    cp_metrics_df=cp_metrics_df,\n",
    "    save=True,\n",
    ")\n",
    "final_output"
   ]
  },
  {
   "cell_type": "code",
   "execution_count": null,
   "id": "8b80a1ff",
   "metadata": {
    "papermill": {
     "duration": 0.015081,
     "end_time": "2025-08-19T18:41:40.764869",
     "exception": false,
     "start_time": "2025-08-19T18:41:40.749788",
     "status": "completed"
    },
    "tags": []
   },
   "outputs": [],
   "source": []
  },
  {
   "cell_type": "code",
   "execution_count": null,
   "id": "275c9fad",
   "metadata": {
    "papermill": {
     "duration": 0.015002,
     "end_time": "2025-08-19T18:41:40.794765",
     "exception": false,
     "start_time": "2025-08-19T18:41:40.779763",
     "status": "completed"
    },
    "tags": []
   },
   "outputs": [],
   "source": []
  }
 ],
 "metadata": {
  "celltoolbar": "Tags",
  "kernelspec": {
   "display_name": "Python (CMA Fairness)",
   "language": "python",
   "name": "cma_fair_env"
  },
  "language_info": {
   "codemirror_mode": {
    "name": "ipython",
    "version": 3
   },
   "file_extension": ".py",
   "mimetype": "text/x-python",
   "name": "python",
   "nbconvert_exporter": "python",
   "pygments_lexer": "ipython3",
   "version": "3.10.12"
  },
  "papermill": {
   "default_parameters": {},
   "duration": 37.633424,
   "end_time": "2025-08-19T18:41:41.630760",
   "environment_variables": {},
   "exception": null,
   "input_path": "universe_analysis.ipynb",
   "output_path": "output/runs/3/notebooks/m_3-5dfac1059e2b59ce356febb53bd79ed9.ipynb",
   "parameters": {
    "output_dir": "output",
    "run_no": "3",
    "seed": "2023",
    "universe": "{\"cutoff\": [\"quantile_0.1\", \"quantile_0.25\"], \"eval_fairness_grouping\": [\"majority-minority\", \"nationality-all\"], \"exclude_features\": \"nationality\", \"exclude_subgroups\": \"keep-all\", \"model\": \"penalized_logreg\", \"scale\": \"scale\", \"training_size\": \"5k\", \"training_year\": \"2010_14\"}",
    "universe_id": "5dfac1059e2b59ce356febb53bd79ed9"
   },
   "start_time": "2025-08-19T18:41:03.997336",
   "version": "2.6.0"
  }
 },
 "nbformat": 4,
 "nbformat_minor": 5
}