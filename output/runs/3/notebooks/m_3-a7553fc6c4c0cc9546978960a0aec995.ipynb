{
 "cells": [
  {
   "cell_type": "markdown",
   "id": "ef23dbb3",
   "metadata": {
    "papermill": {
     "duration": 0.022799,
     "end_time": "2025-08-19T18:54:10.029083",
     "exception": false,
     "start_time": "2025-08-19T18:54:10.006284",
     "status": "completed"
    },
    "tags": []
   },
   "source": [
    "# Setup"
   ]
  },
  {
   "cell_type": "code",
   "execution_count": 1,
   "id": "0bc8e7dc",
   "metadata": {
    "execution": {
     "iopub.execute_input": "2025-08-19T18:54:10.051757Z",
     "iopub.status.busy": "2025-08-19T18:54:10.051349Z",
     "iopub.status.idle": "2025-08-19T18:54:10.060735Z",
     "shell.execute_reply": "2025-08-19T18:54:10.060090Z"
    },
    "papermill": {
     "duration": 0.021641,
     "end_time": "2025-08-19T18:54:10.063440",
     "exception": false,
     "start_time": "2025-08-19T18:54:10.041799",
     "status": "completed"
    },
    "tags": []
   },
   "outputs": [
    {
     "name": "stdout",
     "output_type": "stream",
     "text": [
      "/dss/dsshome1/0C/ra93lal2/cma/CMA_Fairness_v2\n"
     ]
    },
    {
     "name": "stderr",
     "output_type": "stream",
     "text": [
      "/dss/dsshome1/0C/ra93lal2/.local/share/virtualenvs/CMA_Fairness_v2-3j10GkSs/lib/python3.10/site-packages/IPython/core/magics/osm.py:393: UserWarning: This is now an optional IPython functionality, using bookmarks requires you to install the `pickleshare` library.\n",
      "  bkms = self.shell.db.get('bookmarks', {})\n",
      "/dss/dsshome1/0C/ra93lal2/.local/share/virtualenvs/CMA_Fairness_v2-3j10GkSs/lib/python3.10/site-packages/IPython/core/magics/osm.py:417: UserWarning: This is now an optional IPython functionality, setting dhist requires you to install the `pickleshare` library.\n",
      "  self.shell.db['dhist'] = compress_dhist(dhist)[-100:]\n"
     ]
    }
   ],
   "source": [
    "%cd ~/cma/CMA_Fairness_v2"
   ]
  },
  {
   "cell_type": "markdown",
   "id": "9d235661",
   "metadata": {
    "papermill": {
     "duration": 0.009114,
     "end_time": "2025-08-19T18:54:10.082940",
     "exception": false,
     "start_time": "2025-08-19T18:54:10.073826",
     "status": "completed"
    },
    "tags": []
   },
   "source": [
    "The following cell holds the definition of our parameters, these values can be overriden by rendering the with e.g. the following command:\n",
    "\n",
    "papermill -p alpha 0.2 -p ratio 0.3 universe_analysis.ipynb output/test_run.ipynb"
   ]
  },
  {
   "cell_type": "code",
   "execution_count": 2,
   "id": "4a789d8e",
   "metadata": {
    "execution": {
     "iopub.execute_input": "2025-08-19T18:54:10.101872Z",
     "iopub.status.busy": "2025-08-19T18:54:10.101582Z",
     "iopub.status.idle": "2025-08-19T18:54:10.106729Z",
     "shell.execute_reply": "2025-08-19T18:54:10.106154Z"
    },
    "papermill": {
     "duration": 0.016223,
     "end_time": "2025-08-19T18:54:10.108021",
     "exception": false,
     "start_time": "2025-08-19T18:54:10.091798",
     "status": "completed"
    },
    "tags": []
   },
   "outputs": [
    {
     "name": "stdout",
     "output_type": "stream",
     "text": [
      "Current working directory: /dss/dsshome1/0C/ra93lal2/cma/CMA_Fairness_v2\n"
     ]
    }
   ],
   "source": [
    "import os\n",
    "print(\"Current working directory:\", os.getcwd())"
   ]
  },
  {
   "cell_type": "code",
   "execution_count": 3,
   "id": "4132aaed",
   "metadata": {
    "execution": {
     "iopub.execute_input": "2025-08-19T18:54:10.126909Z",
     "iopub.status.busy": "2025-08-19T18:54:10.126635Z",
     "iopub.status.idle": "2025-08-19T18:54:10.130696Z",
     "shell.execute_reply": "2025-08-19T18:54:10.130141Z"
    },
    "papermill": {
     "duration": 0.015983,
     "end_time": "2025-08-19T18:54:10.133037",
     "exception": false,
     "start_time": "2025-08-19T18:54:10.117054",
     "status": "completed"
    },
    "tags": [
     "parameters"
    ]
   },
   "outputs": [],
   "source": [
    "run_no = 0\n",
    "universe_id = \"test\"\n",
    "universe = {\n",
    "    \"training_size\": \"5k\", # \"25k\", \"5k\", \"1k\"\n",
    "    \"training_year\": \"2012_14\", # \"2014\", \"2012_14\", \"2010_14\"\n",
    "    \"scale\": \"scale\", # \"scale\", \"do-not-scale\",\n",
    "    \"model\": \"elasticnet\", # \"logreg\", \"penalized_logreg\", \"rf\", \"gbm\", \"elasticnet\"\n",
    "    \"cutoff\": [\"quantile_0.15\", \"quantile_0.30\"],\n",
    "    \"exclude_features\": \"age\", # \"none\", \"nationality\", \"sex\", \"nationality-sex\", \"age\"\n",
    "    \"exclude_subgroups\": \"drop-non-german\", # \"keep-all\", \"drop-non-german\"\n",
    "    \"eval_fairness_grouping\": [\"majority-minority\", \"nationality-all\"]\n",
    "}\n",
    "\n",
    "output_dir=\"./output\"\n",
    "seed=0"
   ]
  },
  {
   "cell_type": "code",
   "execution_count": 4,
   "id": "764f9918",
   "metadata": {
    "execution": {
     "iopub.execute_input": "2025-08-19T18:54:10.167110Z",
     "iopub.status.busy": "2025-08-19T18:54:10.166538Z",
     "iopub.status.idle": "2025-08-19T18:54:10.173628Z",
     "shell.execute_reply": "2025-08-19T18:54:10.172274Z"
    },
    "papermill": {
     "duration": 0.021057,
     "end_time": "2025-08-19T18:54:10.175275",
     "exception": false,
     "start_time": "2025-08-19T18:54:10.154218",
     "status": "completed"
    },
    "tags": [
     "injected-parameters"
    ]
   },
   "outputs": [],
   "source": [
    "# Parameters\n",
    "universe_id = \"a7553fc6c4c0cc9546978960a0aec995\"\n",
    "run_no = \"3\"\n",
    "universe = \"{\\\"cutoff\\\": [\\\"quantile_0.1\\\", \\\"quantile_0.25\\\"], \\\"eval_fairness_grouping\\\": [\\\"majority-minority\\\", \\\"nationality-all\\\"], \\\"exclude_features\\\": \\\"nationality\\\", \\\"exclude_subgroups\\\": \\\"keep-all\\\", \\\"model\\\": \\\"rf\\\", \\\"scale\\\": \\\"do-not-scale\\\", \\\"training_size\\\": \\\"1k\\\", \\\"training_year\\\": \\\"2014\\\"}\"\n",
    "output_dir = \"output\"\n",
    "seed = \"2023\"\n"
   ]
  },
  {
   "cell_type": "code",
   "execution_count": 5,
   "id": "a5d7941f",
   "metadata": {
    "execution": {
     "iopub.execute_input": "2025-08-19T18:54:10.198686Z",
     "iopub.status.busy": "2025-08-19T18:54:10.197649Z",
     "iopub.status.idle": "2025-08-19T18:54:10.205305Z",
     "shell.execute_reply": "2025-08-19T18:54:10.203703Z"
    },
    "papermill": {
     "duration": 0.020251,
     "end_time": "2025-08-19T18:54:10.206754",
     "exception": false,
     "start_time": "2025-08-19T18:54:10.186503",
     "status": "completed"
    },
    "tags": []
   },
   "outputs": [],
   "source": [
    "import json\n",
    "if isinstance(universe, str):\n",
    "    universe = json.loads(universe)"
   ]
  },
  {
   "cell_type": "code",
   "execution_count": 6,
   "id": "7076ccb1",
   "metadata": {
    "execution": {
     "iopub.execute_input": "2025-08-19T18:54:10.230478Z",
     "iopub.status.busy": "2025-08-19T18:54:10.229447Z",
     "iopub.status.idle": "2025-08-19T18:54:10.279934Z",
     "shell.execute_reply": "2025-08-19T18:54:10.279320Z"
    },
    "papermill": {
     "duration": 0.064484,
     "end_time": "2025-08-19T18:54:10.282315",
     "exception": false,
     "start_time": "2025-08-19T18:54:10.217831",
     "status": "completed"
    },
    "tags": []
   },
   "outputs": [],
   "source": [
    "# Auto-reload the custom package\n",
    "%load_ext autoreload\n",
    "%autoreload 1\n",
    "%aimport fairness_multiverse"
   ]
  },
  {
   "cell_type": "code",
   "execution_count": 7,
   "id": "94c8eb93",
   "metadata": {
    "execution": {
     "iopub.execute_input": "2025-08-19T18:54:10.319823Z",
     "iopub.status.busy": "2025-08-19T18:54:10.318911Z",
     "iopub.status.idle": "2025-08-19T18:54:11.807867Z",
     "shell.execute_reply": "2025-08-19T18:54:11.806842Z"
    },
    "papermill": {
     "duration": 1.503768,
     "end_time": "2025-08-19T18:54:11.809723",
     "exception": false,
     "start_time": "2025-08-19T18:54:10.305955",
     "status": "completed"
    },
    "tags": []
   },
   "outputs": [],
   "source": [
    "from fairness_multiverse.universe import UniverseAnalysis\n",
    "\n",
    "universe_analysis = UniverseAnalysis(\n",
    "    run_no = run_no,\n",
    "    universe_id = universe_id,\n",
    "    universe = universe,\n",
    "    output_dir=output_dir,\n",
    ")"
   ]
  },
  {
   "cell_type": "code",
   "execution_count": 8,
   "id": "2a6381cf",
   "metadata": {
    "execution": {
     "iopub.execute_input": "2025-08-19T18:54:11.830059Z",
     "iopub.status.busy": "2025-08-19T18:54:11.829655Z",
     "iopub.status.idle": "2025-08-19T18:54:11.835678Z",
     "shell.execute_reply": "2025-08-19T18:54:11.834961Z"
    },
    "papermill": {
     "duration": 0.017584,
     "end_time": "2025-08-19T18:54:11.836998",
     "exception": false,
     "start_time": "2025-08-19T18:54:11.819414",
     "status": "completed"
    },
    "tags": []
   },
   "outputs": [
    {
     "name": "stdout",
     "output_type": "stream",
     "text": [
      "Using Seed: 2023\n"
     ]
    }
   ],
   "source": [
    "import numpy as np\n",
    "parsed_seed = int(seed)\n",
    "np.random.seed(parsed_seed)\n",
    "print(f\"Using Seed: {parsed_seed}\")"
   ]
  },
  {
   "cell_type": "markdown",
   "id": "b6e958b4",
   "metadata": {
    "papermill": {
     "duration": 0.009023,
     "end_time": "2025-08-19T18:54:11.855236",
     "exception": false,
     "start_time": "2025-08-19T18:54:11.846213",
     "status": "completed"
    },
    "tags": []
   },
   "source": [
    "# Loading Data"
   ]
  },
  {
   "cell_type": "code",
   "execution_count": 9,
   "id": "98701482",
   "metadata": {
    "execution": {
     "iopub.execute_input": "2025-08-19T18:54:11.874584Z",
     "iopub.status.busy": "2025-08-19T18:54:11.874163Z",
     "iopub.status.idle": "2025-08-19T18:54:21.897526Z",
     "shell.execute_reply": "2025-08-19T18:54:21.896499Z"
    },
    "papermill": {
     "duration": 10.034736,
     "end_time": "2025-08-19T18:54:21.898952",
     "exception": false,
     "start_time": "2025-08-19T18:54:11.864216",
     "status": "completed"
    },
    "tags": []
   },
   "outputs": [
    {
     "name": "stdout",
     "output_type": "stream",
     "text": [
      "Loading SIAB data from cache: data/siab_cached.csv.gz\n"
     ]
    },
    {
     "name": "stdout",
     "output_type": "stream",
     "text": [
      "(643690, 164)\n"
     ]
    }
   ],
   "source": [
    "from pathlib import Path\n",
    "import pandas as pd\n",
    "\n",
    "# File paths\n",
    "raw_file = Path(\"data/raw/siab.csv\")\n",
    "cache_file = Path(\"data/siab_cached.csv.gz\")\n",
    "\n",
    "# Ensure cache directory exists\n",
    "cache_file.parent.mkdir(parents=True, exist_ok=True)\n",
    "\n",
    "# Load with simple caching\n",
    "if cache_file.exists():\n",
    "    print(f\"Loading SIAB data from cache: {cache_file}\")\n",
    "    siab = pd.read_csv(cache_file, compression='gzip')\n",
    "else:\n",
    "    print(f\"Cache not found. Reading raw SIAB data: {raw_file}\")\n",
    "    siab = pd.read_csv(raw_file)\n",
    "    siab.to_csv(cache_file, index=False, compression='gzip')\n",
    "    print(f\"Cached SIAB data to: {cache_file}\")\n",
    "\n",
    "print(siab.shape)"
   ]
  },
  {
   "cell_type": "code",
   "execution_count": 10,
   "id": "058d2abb",
   "metadata": {
    "execution": {
     "iopub.execute_input": "2025-08-19T18:54:21.925054Z",
     "iopub.status.busy": "2025-08-19T18:54:21.923826Z",
     "iopub.status.idle": "2025-08-19T18:54:22.147027Z",
     "shell.execute_reply": "2025-08-19T18:54:22.146306Z"
    },
    "papermill": {
     "duration": 0.237556,
     "end_time": "2025-08-19T18:54:22.149284",
     "exception": false,
     "start_time": "2025-08-19T18:54:21.911728",
     "status": "completed"
    },
    "tags": []
   },
   "outputs": [
    {
     "data": {
      "text/html": [
       "<div>\n",
       "<style scoped>\n",
       "    .dataframe tbody tr th:only-of-type {\n",
       "        vertical-align: middle;\n",
       "    }\n",
       "\n",
       "    .dataframe tbody tr th {\n",
       "        vertical-align: top;\n",
       "    }\n",
       "\n",
       "    .dataframe thead th {\n",
       "        text-align: right;\n",
       "    }\n",
       "</style>\n",
       "<table border=\"1\" class=\"dataframe\">\n",
       "  <thead>\n",
       "    <tr style=\"text-align: right;\">\n",
       "      <th></th>\n",
       "      <th>persnr</th>\n",
       "      <th>year</th>\n",
       "      <th>nrEntry</th>\n",
       "      <th>ltue</th>\n",
       "      <th>employed_before</th>\n",
       "      <th>receipt_leh_before</th>\n",
       "      <th>receipt_lhg_before</th>\n",
       "      <th>se_before</th>\n",
       "      <th>ASU_notue_seeking_before</th>\n",
       "      <th>ASU_other_before</th>\n",
       "      <th>...</th>\n",
       "      <th>minijob_tot_dur_byage</th>\n",
       "      <th>ft_tot_dur_byage</th>\n",
       "      <th>befrist_tot_dur_byage</th>\n",
       "      <th>leih_tot_dur_byage</th>\n",
       "      <th>LHG_tot_dur_byage</th>\n",
       "      <th>LEH_tot_dur_byage</th>\n",
       "      <th>almp_tot_dur_byage</th>\n",
       "      <th>almp_aw_tot_dur_byage</th>\n",
       "      <th>se_tot_dur_byage</th>\n",
       "      <th>seeking1_tot_dur_byage</th>\n",
       "    </tr>\n",
       "  </thead>\n",
       "  <tbody>\n",
       "    <tr>\n",
       "      <th>0</th>\n",
       "      <td>7</td>\n",
       "      <td>2015</td>\n",
       "      <td>1</td>\n",
       "      <td>0</td>\n",
       "      <td>1</td>\n",
       "      <td>0</td>\n",
       "      <td>0</td>\n",
       "      <td>0</td>\n",
       "      <td>1</td>\n",
       "      <td>0</td>\n",
       "      <td>...</td>\n",
       "      <td>0.000000</td>\n",
       "      <td>0.000000</td>\n",
       "      <td>15.043478</td>\n",
       "      <td>0.000000</td>\n",
       "      <td>0.000000</td>\n",
       "      <td>0.000000</td>\n",
       "      <td>0.000000</td>\n",
       "      <td>0.000000</td>\n",
       "      <td>0.000000</td>\n",
       "      <td>0.000000</td>\n",
       "    </tr>\n",
       "    <tr>\n",
       "      <th>1</th>\n",
       "      <td>18</td>\n",
       "      <td>2010</td>\n",
       "      <td>1</td>\n",
       "      <td>1</td>\n",
       "      <td>0</td>\n",
       "      <td>0</td>\n",
       "      <td>0</td>\n",
       "      <td>0</td>\n",
       "      <td>0</td>\n",
       "      <td>0</td>\n",
       "      <td>...</td>\n",
       "      <td>0.000000</td>\n",
       "      <td>0.000000</td>\n",
       "      <td>0.000000</td>\n",
       "      <td>0.000000</td>\n",
       "      <td>0.000000</td>\n",
       "      <td>0.000000</td>\n",
       "      <td>0.000000</td>\n",
       "      <td>0.000000</td>\n",
       "      <td>0.000000</td>\n",
       "      <td>0.000000</td>\n",
       "    </tr>\n",
       "    <tr>\n",
       "      <th>2</th>\n",
       "      <td>18</td>\n",
       "      <td>2011</td>\n",
       "      <td>2</td>\n",
       "      <td>0</td>\n",
       "      <td>1</td>\n",
       "      <td>0</td>\n",
       "      <td>1</td>\n",
       "      <td>0</td>\n",
       "      <td>1</td>\n",
       "      <td>0</td>\n",
       "      <td>...</td>\n",
       "      <td>2.714286</td>\n",
       "      <td>2.714286</td>\n",
       "      <td>0.000000</td>\n",
       "      <td>0.000000</td>\n",
       "      <td>10.775510</td>\n",
       "      <td>0.000000</td>\n",
       "      <td>8.367347</td>\n",
       "      <td>0.000000</td>\n",
       "      <td>0.000000</td>\n",
       "      <td>9.836735</td>\n",
       "    </tr>\n",
       "    <tr>\n",
       "      <th>3</th>\n",
       "      <td>18</td>\n",
       "      <td>2012</td>\n",
       "      <td>3</td>\n",
       "      <td>0</td>\n",
       "      <td>1</td>\n",
       "      <td>0</td>\n",
       "      <td>1</td>\n",
       "      <td>0</td>\n",
       "      <td>1</td>\n",
       "      <td>0</td>\n",
       "      <td>...</td>\n",
       "      <td>4.200000</td>\n",
       "      <td>4.200000</td>\n",
       "      <td>0.000000</td>\n",
       "      <td>0.000000</td>\n",
       "      <td>12.100000</td>\n",
       "      <td>0.000000</td>\n",
       "      <td>9.400000</td>\n",
       "      <td>0.000000</td>\n",
       "      <td>0.000000</td>\n",
       "      <td>9.960000</td>\n",
       "    </tr>\n",
       "    <tr>\n",
       "      <th>4</th>\n",
       "      <td>18</td>\n",
       "      <td>2012</td>\n",
       "      <td>4</td>\n",
       "      <td>0</td>\n",
       "      <td>1</td>\n",
       "      <td>0</td>\n",
       "      <td>1</td>\n",
       "      <td>0</td>\n",
       "      <td>1</td>\n",
       "      <td>0</td>\n",
       "      <td>...</td>\n",
       "      <td>5.460000</td>\n",
       "      <td>5.460000</td>\n",
       "      <td>0.000000</td>\n",
       "      <td>0.000000</td>\n",
       "      <td>13.360000</td>\n",
       "      <td>0.000000</td>\n",
       "      <td>10.320000</td>\n",
       "      <td>0.000000</td>\n",
       "      <td>0.000000</td>\n",
       "      <td>10.280000</td>\n",
       "    </tr>\n",
       "    <tr>\n",
       "      <th>...</th>\n",
       "      <td>...</td>\n",
       "      <td>...</td>\n",
       "      <td>...</td>\n",
       "      <td>...</td>\n",
       "      <td>...</td>\n",
       "      <td>...</td>\n",
       "      <td>...</td>\n",
       "      <td>...</td>\n",
       "      <td>...</td>\n",
       "      <td>...</td>\n",
       "      <td>...</td>\n",
       "      <td>...</td>\n",
       "      <td>...</td>\n",
       "      <td>...</td>\n",
       "      <td>...</td>\n",
       "      <td>...</td>\n",
       "      <td>...</td>\n",
       "      <td>...</td>\n",
       "      <td>...</td>\n",
       "      <td>...</td>\n",
       "      <td>...</td>\n",
       "    </tr>\n",
       "    <tr>\n",
       "      <th>643685</th>\n",
       "      <td>1827860</td>\n",
       "      <td>2013</td>\n",
       "      <td>1</td>\n",
       "      <td>0</td>\n",
       "      <td>0</td>\n",
       "      <td>0</td>\n",
       "      <td>1</td>\n",
       "      <td>0</td>\n",
       "      <td>0</td>\n",
       "      <td>1</td>\n",
       "      <td>...</td>\n",
       "      <td>0.000000</td>\n",
       "      <td>0.000000</td>\n",
       "      <td>0.000000</td>\n",
       "      <td>0.000000</td>\n",
       "      <td>0.612903</td>\n",
       "      <td>0.000000</td>\n",
       "      <td>0.000000</td>\n",
       "      <td>0.000000</td>\n",
       "      <td>0.000000</td>\n",
       "      <td>0.000000</td>\n",
       "    </tr>\n",
       "    <tr>\n",
       "      <th>643686</th>\n",
       "      <td>1827860</td>\n",
       "      <td>2015</td>\n",
       "      <td>2</td>\n",
       "      <td>1</td>\n",
       "      <td>0</td>\n",
       "      <td>0</td>\n",
       "      <td>1</td>\n",
       "      <td>0</td>\n",
       "      <td>1</td>\n",
       "      <td>0</td>\n",
       "      <td>...</td>\n",
       "      <td>0.000000</td>\n",
       "      <td>0.000000</td>\n",
       "      <td>0.212121</td>\n",
       "      <td>0.212121</td>\n",
       "      <td>17.363636</td>\n",
       "      <td>0.000000</td>\n",
       "      <td>8.909091</td>\n",
       "      <td>0.000000</td>\n",
       "      <td>0.000000</td>\n",
       "      <td>7.121212</td>\n",
       "    </tr>\n",
       "    <tr>\n",
       "      <th>643687</th>\n",
       "      <td>1827860</td>\n",
       "      <td>2016</td>\n",
       "      <td>3</td>\n",
       "      <td>1</td>\n",
       "      <td>0</td>\n",
       "      <td>0</td>\n",
       "      <td>1</td>\n",
       "      <td>1</td>\n",
       "      <td>0</td>\n",
       "      <td>1</td>\n",
       "      <td>...</td>\n",
       "      <td>0.000000</td>\n",
       "      <td>0.000000</td>\n",
       "      <td>0.294118</td>\n",
       "      <td>0.205882</td>\n",
       "      <td>34.705882</td>\n",
       "      <td>0.000000</td>\n",
       "      <td>10.352941</td>\n",
       "      <td>1.705882</td>\n",
       "      <td>1.705882</td>\n",
       "      <td>23.911765</td>\n",
       "    </tr>\n",
       "    <tr>\n",
       "      <th>643688</th>\n",
       "      <td>1827869</td>\n",
       "      <td>2013</td>\n",
       "      <td>1</td>\n",
       "      <td>1</td>\n",
       "      <td>1</td>\n",
       "      <td>0</td>\n",
       "      <td>0</td>\n",
       "      <td>0</td>\n",
       "      <td>1</td>\n",
       "      <td>0</td>\n",
       "      <td>...</td>\n",
       "      <td>0.000000</td>\n",
       "      <td>0.000000</td>\n",
       "      <td>0.000000</td>\n",
       "      <td>0.000000</td>\n",
       "      <td>0.000000</td>\n",
       "      <td>0.525424</td>\n",
       "      <td>0.000000</td>\n",
       "      <td>0.000000</td>\n",
       "      <td>0.000000</td>\n",
       "      <td>0.000000</td>\n",
       "    </tr>\n",
       "    <tr>\n",
       "      <th>643689</th>\n",
       "      <td>1827869</td>\n",
       "      <td>2014</td>\n",
       "      <td>2</td>\n",
       "      <td>0</td>\n",
       "      <td>0</td>\n",
       "      <td>1</td>\n",
       "      <td>0</td>\n",
       "      <td>0</td>\n",
       "      <td>1</td>\n",
       "      <td>0</td>\n",
       "      <td>...</td>\n",
       "      <td>0.000000</td>\n",
       "      <td>0.666667</td>\n",
       "      <td>0.666667</td>\n",
       "      <td>0.000000</td>\n",
       "      <td>0.000000</td>\n",
       "      <td>8.950000</td>\n",
       "      <td>1.033333</td>\n",
       "      <td>0.083333</td>\n",
       "      <td>0.083333</td>\n",
       "      <td>8.133333</td>\n",
       "    </tr>\n",
       "  </tbody>\n",
       "</table>\n",
       "<p>643690 rows × 164 columns</p>\n",
       "</div>"
      ],
      "text/plain": [
       "         persnr  year  nrEntry  ltue  employed_before  receipt_leh_before  \\\n",
       "0             7  2015        1     0                1                   0   \n",
       "1            18  2010        1     1                0                   0   \n",
       "2            18  2011        2     0                1                   0   \n",
       "3            18  2012        3     0                1                   0   \n",
       "4            18  2012        4     0                1                   0   \n",
       "...         ...   ...      ...   ...              ...                 ...   \n",
       "643685  1827860  2013        1     0                0                   0   \n",
       "643686  1827860  2015        2     1                0                   0   \n",
       "643687  1827860  2016        3     1                0                   0   \n",
       "643688  1827869  2013        1     1                1                   0   \n",
       "643689  1827869  2014        2     0                0                   1   \n",
       "\n",
       "        receipt_lhg_before  se_before  ASU_notue_seeking_before  \\\n",
       "0                        0          0                         1   \n",
       "1                        0          0                         0   \n",
       "2                        1          0                         1   \n",
       "3                        1          0                         1   \n",
       "4                        1          0                         1   \n",
       "...                    ...        ...                       ...   \n",
       "643685                   1          0                         0   \n",
       "643686                   1          0                         1   \n",
       "643687                   1          1                         0   \n",
       "643688                   0          0                         1   \n",
       "643689                   0          0                         1   \n",
       "\n",
       "        ASU_other_before  ...  minijob_tot_dur_byage  ft_tot_dur_byage  \\\n",
       "0                      0  ...               0.000000          0.000000   \n",
       "1                      0  ...               0.000000          0.000000   \n",
       "2                      0  ...               2.714286          2.714286   \n",
       "3                      0  ...               4.200000          4.200000   \n",
       "4                      0  ...               5.460000          5.460000   \n",
       "...                  ...  ...                    ...               ...   \n",
       "643685                 1  ...               0.000000          0.000000   \n",
       "643686                 0  ...               0.000000          0.000000   \n",
       "643687                 1  ...               0.000000          0.000000   \n",
       "643688                 0  ...               0.000000          0.000000   \n",
       "643689                 0  ...               0.000000          0.666667   \n",
       "\n",
       "        befrist_tot_dur_byage  leih_tot_dur_byage  LHG_tot_dur_byage  \\\n",
       "0                   15.043478            0.000000           0.000000   \n",
       "1                    0.000000            0.000000           0.000000   \n",
       "2                    0.000000            0.000000          10.775510   \n",
       "3                    0.000000            0.000000          12.100000   \n",
       "4                    0.000000            0.000000          13.360000   \n",
       "...                       ...                 ...                ...   \n",
       "643685               0.000000            0.000000           0.612903   \n",
       "643686               0.212121            0.212121          17.363636   \n",
       "643687               0.294118            0.205882          34.705882   \n",
       "643688               0.000000            0.000000           0.000000   \n",
       "643689               0.666667            0.000000           0.000000   \n",
       "\n",
       "        LEH_tot_dur_byage  almp_tot_dur_byage  almp_aw_tot_dur_byage  \\\n",
       "0                0.000000            0.000000               0.000000   \n",
       "1                0.000000            0.000000               0.000000   \n",
       "2                0.000000            8.367347               0.000000   \n",
       "3                0.000000            9.400000               0.000000   \n",
       "4                0.000000           10.320000               0.000000   \n",
       "...                   ...                 ...                    ...   \n",
       "643685           0.000000            0.000000               0.000000   \n",
       "643686           0.000000            8.909091               0.000000   \n",
       "643687           0.000000           10.352941               1.705882   \n",
       "643688           0.525424            0.000000               0.000000   \n",
       "643689           8.950000            1.033333               0.083333   \n",
       "\n",
       "        se_tot_dur_byage  seeking1_tot_dur_byage  \n",
       "0               0.000000                0.000000  \n",
       "1               0.000000                0.000000  \n",
       "2               0.000000                9.836735  \n",
       "3               0.000000                9.960000  \n",
       "4               0.000000               10.280000  \n",
       "...                  ...                     ...  \n",
       "643685          0.000000                0.000000  \n",
       "643686          0.000000                7.121212  \n",
       "643687          1.705882               23.911765  \n",
       "643688          0.000000                0.000000  \n",
       "643689          0.083333                8.133333  \n",
       "\n",
       "[643690 rows x 164 columns]"
      ]
     },
     "execution_count": 10,
     "metadata": {},
     "output_type": "execute_result"
    }
   ],
   "source": [
    "siab"
   ]
  },
  {
   "cell_type": "markdown",
   "id": "1f87e805",
   "metadata": {
    "papermill": {
     "duration": 0.010293,
     "end_time": "2025-08-19T18:54:22.177384",
     "exception": false,
     "start_time": "2025-08-19T18:54:22.167091",
     "status": "completed"
    },
    "tags": []
   },
   "source": [
    "# Splitting Data and Setting Training Data Size"
   ]
  },
  {
   "cell_type": "code",
   "execution_count": 11,
   "id": "910ae358",
   "metadata": {
    "execution": {
     "iopub.execute_input": "2025-08-19T18:54:22.199578Z",
     "iopub.status.busy": "2025-08-19T18:54:22.198523Z",
     "iopub.status.idle": "2025-08-19T18:54:22.410813Z",
     "shell.execute_reply": "2025-08-19T18:54:22.410152Z"
    },
    "papermill": {
     "duration": 0.225413,
     "end_time": "2025-08-19T18:54:22.412372",
     "exception": false,
     "start_time": "2025-08-19T18:54:22.186959",
     "status": "completed"
    },
    "tags": []
   },
   "outputs": [],
   "source": [
    "from fairness_multiverse.universe import sample_by_year_size\n",
    "\n",
    "siab_train = sample_by_year_size(siab,\n",
    "                               training_year=universe[\"training_year\"],\n",
    "                               training_size=universe[\"training_size\"])"
   ]
  },
  {
   "cell_type": "code",
   "execution_count": 12,
   "id": "919c8ff5",
   "metadata": {
    "execution": {
     "iopub.execute_input": "2025-08-19T18:54:22.439757Z",
     "iopub.status.busy": "2025-08-19T18:54:22.439335Z",
     "iopub.status.idle": "2025-08-19T18:54:22.444996Z",
     "shell.execute_reply": "2025-08-19T18:54:22.444369Z"
    },
    "papermill": {
     "duration": 0.039128,
     "end_time": "2025-08-19T18:54:22.464242",
     "exception": false,
     "start_time": "2025-08-19T18:54:22.425114",
     "status": "completed"
    },
    "tags": []
   },
   "outputs": [
    {
     "data": {
      "text/plain": [
       "(1000, 164)"
      ]
     },
     "execution_count": 12,
     "metadata": {},
     "output_type": "execute_result"
    }
   ],
   "source": [
    "siab_train.shape"
   ]
  },
  {
   "cell_type": "code",
   "execution_count": 13,
   "id": "feb13bf4",
   "metadata": {
    "execution": {
     "iopub.execute_input": "2025-08-19T18:54:22.495829Z",
     "iopub.status.busy": "2025-08-19T18:54:22.495508Z",
     "iopub.status.idle": "2025-08-19T18:54:22.505725Z",
     "shell.execute_reply": "2025-08-19T18:54:22.504460Z"
    },
    "papermill": {
     "duration": 0.027885,
     "end_time": "2025-08-19T18:54:22.511046",
     "exception": false,
     "start_time": "2025-08-19T18:54:22.483161",
     "status": "completed"
    },
    "tags": []
   },
   "outputs": [
    {
     "data": {
      "text/plain": [
       "year\n",
       "2014    1000\n",
       "dtype: int64"
      ]
     },
     "metadata": {},
     "output_type": "display_data"
    }
   ],
   "source": [
    "display(siab_train.groupby(\"year\").size())"
   ]
  },
  {
   "cell_type": "code",
   "execution_count": 14,
   "id": "0997782f",
   "metadata": {
    "execution": {
     "iopub.execute_input": "2025-08-19T18:54:22.542355Z",
     "iopub.status.busy": "2025-08-19T18:54:22.541398Z",
     "iopub.status.idle": "2025-08-19T18:54:22.788864Z",
     "shell.execute_reply": "2025-08-19T18:54:22.788172Z"
    },
    "papermill": {
     "duration": 0.262995,
     "end_time": "2025-08-19T18:54:22.791951",
     "exception": false,
     "start_time": "2025-08-19T18:54:22.528956",
     "status": "completed"
    },
    "tags": []
   },
   "outputs": [],
   "source": [
    "#siab_train = siab_s[siab_s.year < 2015]\n",
    "siab_calib = siab[siab.year == 2015]\n",
    "siab_test = siab[siab.year == 2016]"
   ]
  },
  {
   "cell_type": "code",
   "execution_count": 15,
   "id": "2c1e4012",
   "metadata": {
    "execution": {
     "iopub.execute_input": "2025-08-19T18:54:22.829563Z",
     "iopub.status.busy": "2025-08-19T18:54:22.829123Z",
     "iopub.status.idle": "2025-08-19T18:54:22.833502Z",
     "shell.execute_reply": "2025-08-19T18:54:22.832728Z"
    },
    "papermill": {
     "duration": 0.01763,
     "end_time": "2025-08-19T18:54:22.834597",
     "exception": false,
     "start_time": "2025-08-19T18:54:22.816967",
     "status": "completed"
    },
    "tags": []
   },
   "outputs": [],
   "source": [
    "#siab_calib.shape"
   ]
  },
  {
   "cell_type": "code",
   "execution_count": 16,
   "id": "f66b54ca",
   "metadata": {
    "execution": {
     "iopub.execute_input": "2025-08-19T18:54:22.856516Z",
     "iopub.status.busy": "2025-08-19T18:54:22.856144Z",
     "iopub.status.idle": "2025-08-19T18:54:22.860256Z",
     "shell.execute_reply": "2025-08-19T18:54:22.859493Z"
    },
    "papermill": {
     "duration": 0.016374,
     "end_time": "2025-08-19T18:54:22.861407",
     "exception": false,
     "start_time": "2025-08-19T18:54:22.845033",
     "status": "completed"
    },
    "tags": []
   },
   "outputs": [],
   "source": [
    "#siab_test.shape"
   ]
  },
  {
   "cell_type": "code",
   "execution_count": 17,
   "id": "27e4384d",
   "metadata": {
    "execution": {
     "iopub.execute_input": "2025-08-19T18:54:22.882736Z",
     "iopub.status.busy": "2025-08-19T18:54:22.882401Z",
     "iopub.status.idle": "2025-08-19T18:54:22.887909Z",
     "shell.execute_reply": "2025-08-19T18:54:22.887222Z"
    },
    "papermill": {
     "duration": 0.017233,
     "end_time": "2025-08-19T18:54:22.888969",
     "exception": false,
     "start_time": "2025-08-19T18:54:22.871736",
     "status": "completed"
    },
    "tags": []
   },
   "outputs": [],
   "source": [
    "X_train = siab_train.iloc[:,4:164]\n",
    "y_train = siab_train.iloc[:, [3]]"
   ]
  },
  {
   "cell_type": "code",
   "execution_count": 18,
   "id": "08ee8389",
   "metadata": {
    "execution": {
     "iopub.execute_input": "2025-08-19T18:54:22.912547Z",
     "iopub.status.busy": "2025-08-19T18:54:22.911866Z",
     "iopub.status.idle": "2025-08-19T18:54:22.961844Z",
     "shell.execute_reply": "2025-08-19T18:54:22.961167Z"
    },
    "papermill": {
     "duration": 0.064194,
     "end_time": "2025-08-19T18:54:22.964861",
     "exception": false,
     "start_time": "2025-08-19T18:54:22.900667",
     "status": "completed"
    },
    "tags": []
   },
   "outputs": [],
   "source": [
    "X_calib = siab_calib.iloc[:,4:164]\n",
    "y_calib = siab_calib.iloc[:, [3]]"
   ]
  },
  {
   "cell_type": "code",
   "execution_count": 19,
   "id": "b7ff42e0",
   "metadata": {
    "execution": {
     "iopub.execute_input": "2025-08-19T18:54:23.002534Z",
     "iopub.status.busy": "2025-08-19T18:54:23.001585Z",
     "iopub.status.idle": "2025-08-19T18:54:23.059490Z",
     "shell.execute_reply": "2025-08-19T18:54:23.058814Z"
    },
    "papermill": {
     "duration": 0.074084,
     "end_time": "2025-08-19T18:54:23.062467",
     "exception": false,
     "start_time": "2025-08-19T18:54:22.988383",
     "status": "completed"
    },
    "tags": []
   },
   "outputs": [],
   "source": [
    "X_test = siab_test.iloc[:,4:164]\n",
    "y_true = siab_test.iloc[:, [3]]"
   ]
  },
  {
   "cell_type": "code",
   "execution_count": 20,
   "id": "0275101e",
   "metadata": {
    "execution": {
     "iopub.execute_input": "2025-08-19T18:54:23.101381Z",
     "iopub.status.busy": "2025-08-19T18:54:23.100207Z",
     "iopub.status.idle": "2025-08-19T18:54:23.222813Z",
     "shell.execute_reply": "2025-08-19T18:54:23.222096Z"
    },
    "papermill": {
     "duration": 0.138079,
     "end_time": "2025-08-19T18:54:23.224582",
     "exception": false,
     "start_time": "2025-08-19T18:54:23.086503",
     "status": "completed"
    },
    "tags": []
   },
   "outputs": [],
   "source": [
    "# Auxiliary data needed downstream in the pipeline\n",
    "\n",
    "org_train = X_train.copy()\n",
    "org_test = X_test.copy()\n",
    "org_calib = X_calib.copy()"
   ]
  },
  {
   "cell_type": "markdown",
   "id": "b461e618",
   "metadata": {
    "papermill": {
     "duration": 0.010345,
     "end_time": "2025-08-19T18:54:23.259242",
     "exception": false,
     "start_time": "2025-08-19T18:54:23.248897",
     "status": "completed"
    },
    "tags": []
   },
   "source": [
    "# Preprocessing Data"
   ]
  },
  {
   "cell_type": "code",
   "execution_count": 21,
   "id": "78e74c4b",
   "metadata": {
    "execution": {
     "iopub.execute_input": "2025-08-19T18:54:23.287577Z",
     "iopub.status.busy": "2025-08-19T18:54:23.286742Z",
     "iopub.status.idle": "2025-08-19T18:54:23.293927Z",
     "shell.execute_reply": "2025-08-19T18:54:23.292871Z"
    },
    "papermill": {
     "duration": 0.026373,
     "end_time": "2025-08-19T18:54:23.295648",
     "exception": false,
     "start_time": "2025-08-19T18:54:23.269275",
     "status": "completed"
    },
    "tags": []
   },
   "outputs": [],
   "source": [
    "# EXCLUDE PROTECTED FEATURES\n",
    "# --------------------------\n",
    "\n",
    "excluded_features = universe[\"exclude_features\"].split(\"-\")\n",
    "excluded_features_dictionary = {\n",
    "    \"nationality\": [\"maxdeutsch1\", \"maxdeutsch.Missing.\"],\n",
    "    \"sex\": [\"frau1\"],\n",
    "    \"age\": [\"age\"],\n",
    "}"
   ]
  },
  {
   "cell_type": "code",
   "execution_count": 22,
   "id": "f8e63555",
   "metadata": {
    "execution": {
     "iopub.execute_input": "2025-08-19T18:54:23.322151Z",
     "iopub.status.busy": "2025-08-19T18:54:23.320709Z",
     "iopub.status.idle": "2025-08-19T18:54:23.332185Z",
     "shell.execute_reply": "2025-08-19T18:54:23.330987Z"
    },
    "papermill": {
     "duration": 0.025817,
     "end_time": "2025-08-19T18:54:23.333838",
     "exception": false,
     "start_time": "2025-08-19T18:54:23.308021",
     "status": "completed"
    },
    "tags": []
   },
   "outputs": [],
   "source": [
    "excluded_features_columns = [\n",
    "    excluded_features_dictionary[f] for f in excluded_features if len(f) > 0 and f != \"none\"\n",
    "]"
   ]
  },
  {
   "cell_type": "code",
   "execution_count": 23,
   "id": "da781f7c",
   "metadata": {
    "execution": {
     "iopub.execute_input": "2025-08-19T18:54:23.365370Z",
     "iopub.status.busy": "2025-08-19T18:54:23.364143Z",
     "iopub.status.idle": "2025-08-19T18:54:23.371699Z",
     "shell.execute_reply": "2025-08-19T18:54:23.370423Z"
    },
    "papermill": {
     "duration": 0.021513,
     "end_time": "2025-08-19T18:54:23.373320",
     "exception": false,
     "start_time": "2025-08-19T18:54:23.351807",
     "status": "completed"
    },
    "tags": []
   },
   "outputs": [],
   "source": [
    "from fairness_multiverse.universe import flatten_once\n",
    "\n",
    "excluded_features_columns = flatten_once(excluded_features_columns)"
   ]
  },
  {
   "cell_type": "code",
   "execution_count": 24,
   "id": "37fef0f0",
   "metadata": {
    "execution": {
     "iopub.execute_input": "2025-08-19T18:54:23.398651Z",
     "iopub.status.busy": "2025-08-19T18:54:23.397723Z",
     "iopub.status.idle": "2025-08-19T18:54:23.408885Z",
     "shell.execute_reply": "2025-08-19T18:54:23.407690Z"
    },
    "papermill": {
     "duration": 0.02494,
     "end_time": "2025-08-19T18:54:23.410420",
     "exception": false,
     "start_time": "2025-08-19T18:54:23.385480",
     "status": "completed"
    },
    "tags": []
   },
   "outputs": [
    {
     "name": "stdout",
     "output_type": "stream",
     "text": [
      "Dropping features: ['maxdeutsch1', 'maxdeutsch.Missing.']\n"
     ]
    }
   ],
   "source": [
    "if len(excluded_features_columns) > 0:\n",
    "    print(f\"Dropping features: {excluded_features_columns}\")\n",
    "    X_train.drop(excluded_features_columns, axis=1, inplace=True)"
   ]
  },
  {
   "cell_type": "code",
   "execution_count": 25,
   "id": "d029e3e9",
   "metadata": {
    "execution": {
     "iopub.execute_input": "2025-08-19T18:54:23.439706Z",
     "iopub.status.busy": "2025-08-19T18:54:23.436217Z",
     "iopub.status.idle": "2025-08-19T18:54:23.502393Z",
     "shell.execute_reply": "2025-08-19T18:54:23.501200Z"
    },
    "papermill": {
     "duration": 0.083655,
     "end_time": "2025-08-19T18:54:23.507152",
     "exception": false,
     "start_time": "2025-08-19T18:54:23.423497",
     "status": "completed"
    },
    "tags": []
   },
   "outputs": [
    {
     "name": "stdout",
     "output_type": "stream",
     "text": [
      "Dropping features: ['maxdeutsch1', 'maxdeutsch.Missing.']\n"
     ]
    }
   ],
   "source": [
    "if len(excluded_features_columns) > 0:\n",
    "    print(f\"Dropping features: {excluded_features_columns}\")\n",
    "    X_test.drop(excluded_features_columns, axis=1, inplace=True)"
   ]
  },
  {
   "cell_type": "code",
   "execution_count": 26,
   "id": "01d571f0",
   "metadata": {
    "execution": {
     "iopub.execute_input": "2025-08-19T18:54:23.586562Z",
     "iopub.status.busy": "2025-08-19T18:54:23.586162Z",
     "iopub.status.idle": "2025-08-19T18:54:23.635166Z",
     "shell.execute_reply": "2025-08-19T18:54:23.634463Z"
    },
    "papermill": {
     "duration": 0.086333,
     "end_time": "2025-08-19T18:54:23.637985",
     "exception": false,
     "start_time": "2025-08-19T18:54:23.551652",
     "status": "completed"
    },
    "tags": []
   },
   "outputs": [
    {
     "name": "stdout",
     "output_type": "stream",
     "text": [
      "Dropping features: ['maxdeutsch1', 'maxdeutsch.Missing.']\n"
     ]
    }
   ],
   "source": [
    "if len(excluded_features_columns) > 0:\n",
    "    print(f\"Dropping features: {excluded_features_columns}\")\n",
    "    X_calib.drop(excluded_features_columns, axis=1, inplace=True)"
   ]
  },
  {
   "cell_type": "code",
   "execution_count": 27,
   "id": "3037356e",
   "metadata": {
    "execution": {
     "iopub.execute_input": "2025-08-19T18:54:23.673263Z",
     "iopub.status.busy": "2025-08-19T18:54:23.672870Z",
     "iopub.status.idle": "2025-08-19T18:54:23.676945Z",
     "shell.execute_reply": "2025-08-19T18:54:23.676233Z"
    },
    "papermill": {
     "duration": 0.017973,
     "end_time": "2025-08-19T18:54:23.678270",
     "exception": false,
     "start_time": "2025-08-19T18:54:23.660297",
     "status": "completed"
    },
    "tags": []
   },
   "outputs": [],
   "source": [
    "# EXCLUDE CERTAIN SUBGROUPS\n",
    "# -------------------------\n",
    "\n",
    "mode = universe.get(\"exclude_subgroups\", \"keep-all\") # Defaults to \"keep-all\" if the key is missing."
   ]
  },
  {
   "cell_type": "code",
   "execution_count": 28,
   "id": "9d1e63fd",
   "metadata": {
    "execution": {
     "iopub.execute_input": "2025-08-19T18:54:23.701623Z",
     "iopub.status.busy": "2025-08-19T18:54:23.701253Z",
     "iopub.status.idle": "2025-08-19T18:54:23.706195Z",
     "shell.execute_reply": "2025-08-19T18:54:23.705488Z"
    },
    "papermill": {
     "duration": 0.017845,
     "end_time": "2025-08-19T18:54:23.707518",
     "exception": false,
     "start_time": "2025-08-19T18:54:23.689673",
     "status": "completed"
    },
    "tags": []
   },
   "outputs": [],
   "source": [
    "if mode == \"keep-all\":\n",
    "    keep_mask = pd.Series(True, index=org_train.index)\n",
    "\n",
    "elif mode == \"drop-non-german\":\n",
    "    keep_mask = (org_train[\"maxdeutsch1\"] == 1) & (org_train[\"maxdeutsch.Missing.\"] == 0)\n",
    "\n",
    "else:\n",
    "    raise ValueError(f\"Unsupported mode for exclude_subgroups: {mode}\")"
   ]
  },
  {
   "cell_type": "code",
   "execution_count": 29,
   "id": "d3b65474",
   "metadata": {
    "execution": {
     "iopub.execute_input": "2025-08-19T18:54:23.730386Z",
     "iopub.status.busy": "2025-08-19T18:54:23.729996Z",
     "iopub.status.idle": "2025-08-19T18:54:23.735501Z",
     "shell.execute_reply": "2025-08-19T18:54:23.734579Z"
    },
    "papermill": {
     "duration": 0.018663,
     "end_time": "2025-08-19T18:54:23.736887",
     "exception": false,
     "start_time": "2025-08-19T18:54:23.718224",
     "status": "completed"
    },
    "tags": []
   },
   "outputs": [],
   "source": [
    "n_drop = (~keep_mask).sum() # Calculates how many rows are set to be dropped\n",
    "if n_drop > 0:\n",
    "    pct = n_drop / len(keep_mask) * 100\n",
    "    print(f\"Dropping {n_drop} rows ({pct:.2f}%) where mode='{mode}'\")"
   ]
  },
  {
   "cell_type": "code",
   "execution_count": 30,
   "id": "f44389b3",
   "metadata": {
    "execution": {
     "iopub.execute_input": "2025-08-19T18:54:23.761060Z",
     "iopub.status.busy": "2025-08-19T18:54:23.760734Z",
     "iopub.status.idle": "2025-08-19T18:54:23.769761Z",
     "shell.execute_reply": "2025-08-19T18:54:23.768850Z"
    },
    "papermill": {
     "duration": 0.024536,
     "end_time": "2025-08-19T18:54:23.772649",
     "exception": false,
     "start_time": "2025-08-19T18:54:23.748113",
     "status": "completed"
    },
    "tags": []
   },
   "outputs": [],
   "source": [
    "X_train = X_train[keep_mask]"
   ]
  },
  {
   "cell_type": "code",
   "execution_count": 31,
   "id": "ceca8c2a",
   "metadata": {
    "execution": {
     "iopub.execute_input": "2025-08-19T18:54:23.817432Z",
     "iopub.status.busy": "2025-08-19T18:54:23.816712Z",
     "iopub.status.idle": "2025-08-19T18:54:23.828749Z",
     "shell.execute_reply": "2025-08-19T18:54:23.826886Z"
    },
    "papermill": {
     "duration": 0.028906,
     "end_time": "2025-08-19T18:54:23.831171",
     "exception": false,
     "start_time": "2025-08-19T18:54:23.802265",
     "status": "completed"
    },
    "tags": []
   },
   "outputs": [],
   "source": [
    "y_train = y_train[keep_mask]"
   ]
  },
  {
   "cell_type": "markdown",
   "id": "04d31e2f",
   "metadata": {
    "papermill": {
     "duration": 0.011018,
     "end_time": "2025-08-19T18:54:23.855259",
     "exception": false,
     "start_time": "2025-08-19T18:54:23.844241",
     "status": "completed"
    },
    "tags": []
   },
   "source": [
    "# Model Training"
   ]
  },
  {
   "cell_type": "code",
   "execution_count": 32,
   "id": "db991733",
   "metadata": {
    "execution": {
     "iopub.execute_input": "2025-08-19T18:54:23.884665Z",
     "iopub.status.busy": "2025-08-19T18:54:23.884334Z",
     "iopub.status.idle": "2025-08-19T18:54:23.996364Z",
     "shell.execute_reply": "2025-08-19T18:54:23.995437Z"
    },
    "papermill": {
     "duration": 0.132008,
     "end_time": "2025-08-19T18:54:23.998295",
     "exception": false,
     "start_time": "2025-08-19T18:54:23.866287",
     "status": "completed"
    },
    "tags": []
   },
   "outputs": [],
   "source": [
    "from sklearn.linear_model import LogisticRegression\n",
    "from sklearn.ensemble import GradientBoostingClassifier, RandomForestClassifier\n",
    "\n",
    "if (universe[\"model\"] == \"logreg\"):\n",
    "    model = LogisticRegression() #penalty=\"none\", solver=\"newton-cg\", max_iter=1)\n",
    "elif (universe[\"model\"] == \"penalized_logreg\"):\n",
    "    model = LogisticRegression(penalty=\"l2\", C=0.1) #, solver=\"newton-cg\", max_iter=1)\n",
    "elif (universe[\"model\"] == \"rf\"):\n",
    "    model = RandomForestClassifier() # n_estimators=100, n_jobs=-1\n",
    "elif (universe[\"model\"] == \"gbm\"):\n",
    "    model = GradientBoostingClassifier()\n",
    "elif (universe[\"model\"] == \"elasticnet\"):\n",
    "    model = LogisticRegression(penalty = 'elasticnet', solver = 'saga', l1_ratio = 0.5) # max_iter=5000\n",
    "else:\n",
    "    raise \"Unsupported universe.model\""
   ]
  },
  {
   "cell_type": "code",
   "execution_count": 33,
   "id": "a4b5cd25",
   "metadata": {
    "execution": {
     "iopub.execute_input": "2025-08-19T18:54:24.025008Z",
     "iopub.status.busy": "2025-08-19T18:54:24.023781Z",
     "iopub.status.idle": "2025-08-19T18:54:24.030910Z",
     "shell.execute_reply": "2025-08-19T18:54:24.029940Z"
    },
    "papermill": {
     "duration": 0.020886,
     "end_time": "2025-08-19T18:54:24.032322",
     "exception": false,
     "start_time": "2025-08-19T18:54:24.011436",
     "status": "completed"
    },
    "tags": []
   },
   "outputs": [],
   "source": [
    "from sklearn.pipeline import Pipeline\n",
    "from sklearn.preprocessing import StandardScaler\n",
    "\n",
    "model = Pipeline([\n",
    "    #(\"continuous_processor\", continuous_processor),\n",
    "    #(\"categorical_preprocessor\", categorical_preprocessor),\n",
    "    (\"scale\", StandardScaler() if universe[\"scale\"] == \"scale\" else None), \n",
    "    (\"model\", model),\n",
    "])"
   ]
  },
  {
   "cell_type": "code",
   "execution_count": 34,
   "id": "283a904d",
   "metadata": {
    "execution": {
     "iopub.execute_input": "2025-08-19T18:54:24.060664Z",
     "iopub.status.busy": "2025-08-19T18:54:24.058759Z",
     "iopub.status.idle": "2025-08-19T18:54:24.388156Z",
     "shell.execute_reply": "2025-08-19T18:54:24.387306Z"
    },
    "papermill": {
     "duration": 0.343066,
     "end_time": "2025-08-19T18:54:24.389513",
     "exception": false,
     "start_time": "2025-08-19T18:54:24.046447",
     "status": "completed"
    },
    "tags": []
   },
   "outputs": [
    {
     "data": {
      "text/html": [
       "<style>#sk-container-id-1 {color: black;background-color: white;}#sk-container-id-1 pre{padding: 0;}#sk-container-id-1 div.sk-toggleable {background-color: white;}#sk-container-id-1 label.sk-toggleable__label {cursor: pointer;display: block;width: 100%;margin-bottom: 0;padding: 0.3em;box-sizing: border-box;text-align: center;}#sk-container-id-1 label.sk-toggleable__label-arrow:before {content: \"▸\";float: left;margin-right: 0.25em;color: #696969;}#sk-container-id-1 label.sk-toggleable__label-arrow:hover:before {color: black;}#sk-container-id-1 div.sk-estimator:hover label.sk-toggleable__label-arrow:before {color: black;}#sk-container-id-1 div.sk-toggleable__content {max-height: 0;max-width: 0;overflow: hidden;text-align: left;background-color: #f0f8ff;}#sk-container-id-1 div.sk-toggleable__content pre {margin: 0.2em;color: black;border-radius: 0.25em;background-color: #f0f8ff;}#sk-container-id-1 input.sk-toggleable__control:checked~div.sk-toggleable__content {max-height: 200px;max-width: 100%;overflow: auto;}#sk-container-id-1 input.sk-toggleable__control:checked~label.sk-toggleable__label-arrow:before {content: \"▾\";}#sk-container-id-1 div.sk-estimator input.sk-toggleable__control:checked~label.sk-toggleable__label {background-color: #d4ebff;}#sk-container-id-1 div.sk-label input.sk-toggleable__control:checked~label.sk-toggleable__label {background-color: #d4ebff;}#sk-container-id-1 input.sk-hidden--visually {border: 0;clip: rect(1px 1px 1px 1px);clip: rect(1px, 1px, 1px, 1px);height: 1px;margin: -1px;overflow: hidden;padding: 0;position: absolute;width: 1px;}#sk-container-id-1 div.sk-estimator {font-family: monospace;background-color: #f0f8ff;border: 1px dotted black;border-radius: 0.25em;box-sizing: border-box;margin-bottom: 0.5em;}#sk-container-id-1 div.sk-estimator:hover {background-color: #d4ebff;}#sk-container-id-1 div.sk-parallel-item::after {content: \"\";width: 100%;border-bottom: 1px solid gray;flex-grow: 1;}#sk-container-id-1 div.sk-label:hover label.sk-toggleable__label {background-color: #d4ebff;}#sk-container-id-1 div.sk-serial::before {content: \"\";position: absolute;border-left: 1px solid gray;box-sizing: border-box;top: 0;bottom: 0;left: 50%;z-index: 0;}#sk-container-id-1 div.sk-serial {display: flex;flex-direction: column;align-items: center;background-color: white;padding-right: 0.2em;padding-left: 0.2em;position: relative;}#sk-container-id-1 div.sk-item {position: relative;z-index: 1;}#sk-container-id-1 div.sk-parallel {display: flex;align-items: stretch;justify-content: center;background-color: white;position: relative;}#sk-container-id-1 div.sk-item::before, #sk-container-id-1 div.sk-parallel-item::before {content: \"\";position: absolute;border-left: 1px solid gray;box-sizing: border-box;top: 0;bottom: 0;left: 50%;z-index: -1;}#sk-container-id-1 div.sk-parallel-item {display: flex;flex-direction: column;z-index: 1;position: relative;background-color: white;}#sk-container-id-1 div.sk-parallel-item:first-child::after {align-self: flex-end;width: 50%;}#sk-container-id-1 div.sk-parallel-item:last-child::after {align-self: flex-start;width: 50%;}#sk-container-id-1 div.sk-parallel-item:only-child::after {width: 0;}#sk-container-id-1 div.sk-dashed-wrapped {border: 1px dashed gray;margin: 0 0.4em 0.5em 0.4em;box-sizing: border-box;padding-bottom: 0.4em;background-color: white;}#sk-container-id-1 div.sk-label label {font-family: monospace;font-weight: bold;display: inline-block;line-height: 1.2em;}#sk-container-id-1 div.sk-label-container {text-align: center;}#sk-container-id-1 div.sk-container {/* jupyter's `normalize.less` sets `[hidden] { display: none; }` but bootstrap.min.css set `[hidden] { display: none !important; }` so we also need the `!important` here to be able to override the default hidden behavior on the sphinx rendered scikit-learn.org. See: https://github.com/scikit-learn/scikit-learn/issues/21755 */display: inline-block !important;position: relative;}#sk-container-id-1 div.sk-text-repr-fallback {display: none;}</style><div id=\"sk-container-id-1\" class=\"sk-top-container\"><div class=\"sk-text-repr-fallback\"><pre>Pipeline(steps=[(&#x27;scale&#x27;, None), (&#x27;model&#x27;, RandomForestClassifier())])</pre><b>In a Jupyter environment, please rerun this cell to show the HTML representation or trust the notebook. <br />On GitHub, the HTML representation is unable to render, please try loading this page with nbviewer.org.</b></div><div class=\"sk-container\" hidden><div class=\"sk-item sk-dashed-wrapped\"><div class=\"sk-label-container\"><div class=\"sk-label sk-toggleable\"><input class=\"sk-toggleable__control sk-hidden--visually\" id=\"sk-estimator-id-1\" type=\"checkbox\" ><label for=\"sk-estimator-id-1\" class=\"sk-toggleable__label sk-toggleable__label-arrow\">Pipeline</label><div class=\"sk-toggleable__content\"><pre>Pipeline(steps=[(&#x27;scale&#x27;, None), (&#x27;model&#x27;, RandomForestClassifier())])</pre></div></div></div><div class=\"sk-serial\"><div class=\"sk-item\"><div class=\"sk-estimator sk-toggleable\"><input class=\"sk-toggleable__control sk-hidden--visually\" id=\"sk-estimator-id-2\" type=\"checkbox\" ><label for=\"sk-estimator-id-2\" class=\"sk-toggleable__label sk-toggleable__label-arrow\">None</label><div class=\"sk-toggleable__content\"><pre>None</pre></div></div></div><div class=\"sk-item\"><div class=\"sk-estimator sk-toggleable\"><input class=\"sk-toggleable__control sk-hidden--visually\" id=\"sk-estimator-id-3\" type=\"checkbox\" ><label for=\"sk-estimator-id-3\" class=\"sk-toggleable__label sk-toggleable__label-arrow\">RandomForestClassifier</label><div class=\"sk-toggleable__content\"><pre>RandomForestClassifier()</pre></div></div></div></div></div></div></div>"
      ],
      "text/plain": [
       "Pipeline(steps=[('scale', None), ('model', RandomForestClassifier())])"
      ]
     },
     "execution_count": 34,
     "metadata": {},
     "output_type": "execute_result"
    }
   ],
   "source": [
    "model.fit(X_train, y_train.values.ravel())"
   ]
  },
  {
   "cell_type": "code",
   "execution_count": 35,
   "id": "6e15e313",
   "metadata": {
    "execution": {
     "iopub.execute_input": "2025-08-19T18:54:24.441925Z",
     "iopub.status.busy": "2025-08-19T18:54:24.440672Z",
     "iopub.status.idle": "2025-08-19T18:54:25.690262Z",
     "shell.execute_reply": "2025-08-19T18:54:25.689437Z"
    },
    "papermill": {
     "duration": 1.277917,
     "end_time": "2025-08-19T18:54:25.691805",
     "exception": false,
     "start_time": "2025-08-19T18:54:24.413888",
     "status": "completed"
    },
    "tags": []
   },
   "outputs": [
    {
     "data": {
      "text/plain": [
       "0.8618325716196633"
      ]
     },
     "execution_count": 35,
     "metadata": {},
     "output_type": "execute_result"
    }
   ],
   "source": [
    "from fairness_multiverse.universe import predict_w_threshold\n",
    "\n",
    "probs_test = model.predict_proba(X_test)\n",
    "\n",
    "'''\n",
    "Below code returns a boolean array (or binary 0/1 array depending on how it’s used) where each element \n",
    "is True if the probability of class 1 is greater than or equal to the threshold, and False otherwise.\n",
    "'''\n",
    "y_pred_default = predict_w_threshold(probs_test, 0.5)\n",
    "\n",
    "from sklearn.metrics import accuracy_score\n",
    "\n",
    "# Naive prediction\n",
    "accuracy_score(y_true = y_true, y_pred = y_pred_default)"
   ]
  },
  {
   "cell_type": "code",
   "execution_count": 36,
   "id": "6f14067c",
   "metadata": {
    "execution": {
     "iopub.execute_input": "2025-08-19T18:54:25.724311Z",
     "iopub.status.busy": "2025-08-19T18:54:25.723089Z",
     "iopub.status.idle": "2025-08-19T18:54:26.979966Z",
     "shell.execute_reply": "2025-08-19T18:54:26.979009Z"
    },
    "papermill": {
     "duration": 1.273367,
     "end_time": "2025-08-19T18:54:26.982977",
     "exception": false,
     "start_time": "2025-08-19T18:54:25.709610",
     "status": "completed"
    },
    "tags": []
   },
   "outputs": [
    {
     "data": {
      "text/plain": [
       "array([0, 0, 0, ..., 0, 0, 0])"
      ]
     },
     "execution_count": 36,
     "metadata": {},
     "output_type": "execute_result"
    }
   ],
   "source": [
    "model.predict(X_test)"
   ]
  },
  {
   "cell_type": "markdown",
   "id": "3759920c",
   "metadata": {
    "papermill": {
     "duration": 0.012466,
     "end_time": "2025-08-19T18:54:27.020102",
     "exception": false,
     "start_time": "2025-08-19T18:54:27.007636",
     "status": "completed"
    },
    "tags": []
   },
   "source": [
    "# Conformal Prediction"
   ]
  },
  {
   "cell_type": "code",
   "execution_count": 37,
   "id": "14b27f59",
   "metadata": {
    "execution": {
     "iopub.execute_input": "2025-08-19T18:54:27.045260Z",
     "iopub.status.busy": "2025-08-19T18:54:27.043846Z",
     "iopub.status.idle": "2025-08-19T18:54:27.051328Z",
     "shell.execute_reply": "2025-08-19T18:54:27.050001Z"
    },
    "papermill": {
     "duration": 0.021727,
     "end_time": "2025-08-19T18:54:27.052944",
     "exception": false,
     "start_time": "2025-08-19T18:54:27.031217",
     "status": "completed"
    },
    "tags": []
   },
   "outputs": [],
   "source": [
    "# Miscoverage level for conformal prediction (10% allowed error rate => 90% target coverage)\n",
    "alpha = 0.1"
   ]
  },
  {
   "cell_type": "code",
   "execution_count": 38,
   "id": "59102472",
   "metadata": {
    "execution": {
     "iopub.execute_input": "2025-08-19T18:54:27.079215Z",
     "iopub.status.busy": "2025-08-19T18:54:27.077889Z",
     "iopub.status.idle": "2025-08-19T18:54:28.270994Z",
     "shell.execute_reply": "2025-08-19T18:54:28.270108Z"
    },
    "papermill": {
     "duration": 1.207607,
     "end_time": "2025-08-19T18:54:28.272805",
     "exception": false,
     "start_time": "2025-08-19T18:54:27.065198",
     "status": "completed"
    },
    "tags": []
   },
   "outputs": [],
   "source": [
    "probs_calib = model.predict_proba(X_calib)"
   ]
  },
  {
   "cell_type": "code",
   "execution_count": 39,
   "id": "a792d4dd",
   "metadata": {
    "execution": {
     "iopub.execute_input": "2025-08-19T18:54:28.299331Z",
     "iopub.status.busy": "2025-08-19T18:54:28.298269Z",
     "iopub.status.idle": "2025-08-19T18:54:28.305234Z",
     "shell.execute_reply": "2025-08-19T18:54:28.303990Z"
    },
    "papermill": {
     "duration": 0.021845,
     "end_time": "2025-08-19T18:54:28.306724",
     "exception": false,
     "start_time": "2025-08-19T18:54:28.284879",
     "status": "completed"
    },
    "tags": []
   },
   "outputs": [],
   "source": [
    "y_calib = y_calib.values.ravel().astype(int)"
   ]
  },
  {
   "cell_type": "code",
   "execution_count": 40,
   "id": "650fd033",
   "metadata": {
    "execution": {
     "iopub.execute_input": "2025-08-19T18:54:28.333321Z",
     "iopub.status.busy": "2025-08-19T18:54:28.331962Z",
     "iopub.status.idle": "2025-08-19T18:54:28.343652Z",
     "shell.execute_reply": "2025-08-19T18:54:28.342421Z"
    },
    "papermill": {
     "duration": 0.026536,
     "end_time": "2025-08-19T18:54:28.345425",
     "exception": false,
     "start_time": "2025-08-19T18:54:28.318889",
     "status": "completed"
    },
    "tags": []
   },
   "outputs": [],
   "source": [
    "from fairness_multiverse.conformal import compute_nc_scores\n",
    "\n",
    "# Compute nonconformity scores on calibration set (1 - probability of true class)\n",
    "nc_scores = compute_nc_scores(probs_calib, y_calib)"
   ]
  },
  {
   "cell_type": "code",
   "execution_count": 41,
   "id": "28ada44c",
   "metadata": {
    "execution": {
     "iopub.execute_input": "2025-08-19T18:54:28.375076Z",
     "iopub.status.busy": "2025-08-19T18:54:28.373661Z",
     "iopub.status.idle": "2025-08-19T18:54:28.384512Z",
     "shell.execute_reply": "2025-08-19T18:54:28.382925Z"
    },
    "papermill": {
     "duration": 0.026134,
     "end_time": "2025-08-19T18:54:28.386311",
     "exception": false,
     "start_time": "2025-08-19T18:54:28.360177",
     "status": "completed"
    },
    "tags": []
   },
   "outputs": [],
   "source": [
    "from fairness_multiverse.conformal import find_threshold\n",
    "\n",
    "# Find conformal threshold q_hat for the given alpha (split conformal method)\n",
    "q_hat = find_threshold(nc_scores, alpha)"
   ]
  },
  {
   "cell_type": "code",
   "execution_count": 42,
   "id": "df56469e",
   "metadata": {
    "execution": {
     "iopub.execute_input": "2025-08-19T18:54:28.415524Z",
     "iopub.status.busy": "2025-08-19T18:54:28.414204Z",
     "iopub.status.idle": "2025-08-19T18:54:28.436263Z",
     "shell.execute_reply": "2025-08-19T18:54:28.435144Z"
    },
    "papermill": {
     "duration": 0.037274,
     "end_time": "2025-08-19T18:54:28.438232",
     "exception": false,
     "start_time": "2025-08-19T18:54:28.400958",
     "status": "completed"
    },
    "tags": []
   },
   "outputs": [
    {
     "data": {
      "text/plain": [
       "0.6699999999999999"
      ]
     },
     "execution_count": 42,
     "metadata": {},
     "output_type": "execute_result"
    }
   ],
   "source": [
    "q_hat"
   ]
  },
  {
   "cell_type": "code",
   "execution_count": 43,
   "id": "aa1f5faa",
   "metadata": {
    "execution": {
     "iopub.execute_input": "2025-08-19T18:54:28.480882Z",
     "iopub.status.busy": "2025-08-19T18:54:28.479727Z",
     "iopub.status.idle": "2025-08-19T18:54:30.157281Z",
     "shell.execute_reply": "2025-08-19T18:54:30.156576Z"
    },
    "papermill": {
     "duration": 1.701543,
     "end_time": "2025-08-19T18:54:30.159069",
     "exception": false,
     "start_time": "2025-08-19T18:54:28.457526",
     "status": "completed"
    },
    "tags": []
   },
   "outputs": [],
   "source": [
    "from fairness_multiverse.conformal import predict_conformal_sets\n",
    "\n",
    "# Generate prediction sets for each test example\n",
    "pred_sets = predict_conformal_sets(model, X_test, q_hat)"
   ]
  },
  {
   "cell_type": "code",
   "execution_count": 44,
   "id": "97f67a6b",
   "metadata": {
    "execution": {
     "iopub.execute_input": "2025-08-19T18:54:30.187522Z",
     "iopub.status.busy": "2025-08-19T18:54:30.186740Z",
     "iopub.status.idle": "2025-08-19T18:54:30.193249Z",
     "shell.execute_reply": "2025-08-19T18:54:30.192046Z"
    },
    "papermill": {
     "duration": 0.020473,
     "end_time": "2025-08-19T18:54:30.194661",
     "exception": false,
     "start_time": "2025-08-19T18:54:30.174188",
     "status": "completed"
    },
    "tags": []
   },
   "outputs": [],
   "source": [
    "y_true = y_true.squeeze()"
   ]
  },
  {
   "cell_type": "code",
   "execution_count": 45,
   "id": "e700e9a7",
   "metadata": {
    "execution": {
     "iopub.execute_input": "2025-08-19T18:54:30.221410Z",
     "iopub.status.busy": "2025-08-19T18:54:30.219831Z",
     "iopub.status.idle": "2025-08-19T18:54:30.714927Z",
     "shell.execute_reply": "2025-08-19T18:54:30.714254Z"
    },
    "papermill": {
     "duration": 0.509421,
     "end_time": "2025-08-19T18:54:30.716296",
     "exception": false,
     "start_time": "2025-08-19T18:54:30.206875",
     "status": "completed"
    },
    "tags": []
   },
   "outputs": [],
   "source": [
    "from fairness_multiverse.conformal import evaluate_sets\n",
    "\n",
    "# Evaluate coverage and average set size on test data\n",
    "metrics = evaluate_sets(pred_sets, y_true)"
   ]
  },
  {
   "cell_type": "markdown",
   "id": "efbacec0",
   "metadata": {
    "papermill": {
     "duration": 0.02172,
     "end_time": "2025-08-19T18:54:30.751104",
     "exception": false,
     "start_time": "2025-08-19T18:54:30.729384",
     "status": "completed"
    },
    "tags": []
   },
   "source": [
    "# CP Metrics"
   ]
  },
  {
   "cell_type": "code",
   "execution_count": 46,
   "id": "9de55fb1",
   "metadata": {
    "execution": {
     "iopub.execute_input": "2025-08-19T18:54:30.780537Z",
     "iopub.status.busy": "2025-08-19T18:54:30.779465Z",
     "iopub.status.idle": "2025-08-19T18:54:30.790703Z",
     "shell.execute_reply": "2025-08-19T18:54:30.789539Z"
    },
    "papermill": {
     "duration": 0.029066,
     "end_time": "2025-08-19T18:54:30.792964",
     "exception": false,
     "start_time": "2025-08-19T18:54:30.763898",
     "status": "completed"
    },
    "tags": []
   },
   "outputs": [
    {
     "data": {
      "text/plain": [
       "{'coverage': 0.9132315237989076, 'avg_size': 1.1466168766023854}"
      ]
     },
     "execution_count": 46,
     "metadata": {},
     "output_type": "execute_result"
    }
   ],
   "source": [
    "metrics"
   ]
  },
  {
   "cell_type": "code",
   "execution_count": 47,
   "id": "64c340a1",
   "metadata": {
    "execution": {
     "iopub.execute_input": "2025-08-19T18:54:30.821027Z",
     "iopub.status.busy": "2025-08-19T18:54:30.820146Z",
     "iopub.status.idle": "2025-08-19T18:54:30.830618Z",
     "shell.execute_reply": "2025-08-19T18:54:30.829407Z"
    },
    "papermill": {
     "duration": 0.024971,
     "end_time": "2025-08-19T18:54:30.832167",
     "exception": false,
     "start_time": "2025-08-19T18:54:30.807196",
     "status": "completed"
    },
    "tags": []
   },
   "outputs": [],
   "source": [
    "example_universe = universe.copy()\n",
    "universe_training_year = example_universe.get(\"training_year\")\n",
    "universe_training_size = example_universe.get(\"training_size\")\n",
    "universe_scale = example_universe.get(\"scale\")\n",
    "universe_model = example_universe.get(\"model\")\n",
    "universe_exclude_features = example_universe.get(\"exclude_features\")\n",
    "universe_exclude_subgroups = example_universe.get(\"exclude_subgroups\")"
   ]
  },
  {
   "cell_type": "code",
   "execution_count": 48,
   "id": "dbb53cb4",
   "metadata": {
    "execution": {
     "iopub.execute_input": "2025-08-19T18:54:30.863657Z",
     "iopub.status.busy": "2025-08-19T18:54:30.862188Z",
     "iopub.status.idle": "2025-08-19T18:54:30.873077Z",
     "shell.execute_reply": "2025-08-19T18:54:30.871575Z"
    },
    "papermill": {
     "duration": 0.026799,
     "end_time": "2025-08-19T18:54:30.874720",
     "exception": false,
     "start_time": "2025-08-19T18:54:30.847921",
     "status": "completed"
    },
    "tags": []
   },
   "outputs": [],
   "source": [
    "cp_metrics_dict = {\n",
    "    \"universe_id\": [universe_id],\n",
    "    \"universe_training_year\": [universe_training_year],\n",
    "    \"universe_training_size\": [universe_training_size],\n",
    "    \"universe_scale\": [universe_scale],\n",
    "    \"universe_model\": [universe_model],\n",
    "    \"universe_exclude_features\": [universe_exclude_features],\n",
    "    \"universe_exclude_subgroups\": [universe_exclude_subgroups],\n",
    "    \"q_hat\": [q_hat],\n",
    "    \"coverage\": [metrics[\"coverage\"]],\n",
    "    \"avg_size\": [metrics[\"avg_size\"]],\n",
    "}"
   ]
  },
  {
   "cell_type": "code",
   "execution_count": 49,
   "id": "0d70d4b2",
   "metadata": {
    "execution": {
     "iopub.execute_input": "2025-08-19T18:54:30.915986Z",
     "iopub.status.busy": "2025-08-19T18:54:30.915066Z",
     "iopub.status.idle": "2025-08-19T18:54:30.930197Z",
     "shell.execute_reply": "2025-08-19T18:54:30.928657Z"
    },
    "papermill": {
     "duration": 0.029782,
     "end_time": "2025-08-19T18:54:30.931897",
     "exception": false,
     "start_time": "2025-08-19T18:54:30.902115",
     "status": "completed"
    },
    "tags": []
   },
   "outputs": [],
   "source": [
    "cp_metrics_df = pd.DataFrame(cp_metrics_dict)"
   ]
  },
  {
   "cell_type": "code",
   "execution_count": 50,
   "id": "b494403c",
   "metadata": {
    "execution": {
     "iopub.execute_input": "2025-08-19T18:54:30.961946Z",
     "iopub.status.busy": "2025-08-19T18:54:30.961047Z",
     "iopub.status.idle": "2025-08-19T18:54:30.983277Z",
     "shell.execute_reply": "2025-08-19T18:54:30.982490Z"
    },
    "papermill": {
     "duration": 0.036859,
     "end_time": "2025-08-19T18:54:30.984379",
     "exception": false,
     "start_time": "2025-08-19T18:54:30.947520",
     "status": "completed"
    },
    "tags": []
   },
   "outputs": [
    {
     "data": {
      "text/html": [
       "<div>\n",
       "<style scoped>\n",
       "    .dataframe tbody tr th:only-of-type {\n",
       "        vertical-align: middle;\n",
       "    }\n",
       "\n",
       "    .dataframe tbody tr th {\n",
       "        vertical-align: top;\n",
       "    }\n",
       "\n",
       "    .dataframe thead th {\n",
       "        text-align: right;\n",
       "    }\n",
       "</style>\n",
       "<table border=\"1\" class=\"dataframe\">\n",
       "  <thead>\n",
       "    <tr style=\"text-align: right;\">\n",
       "      <th></th>\n",
       "      <th>universe_id</th>\n",
       "      <th>universe_training_year</th>\n",
       "      <th>universe_training_size</th>\n",
       "      <th>universe_scale</th>\n",
       "      <th>universe_model</th>\n",
       "      <th>universe_exclude_features</th>\n",
       "      <th>universe_exclude_subgroups</th>\n",
       "      <th>q_hat</th>\n",
       "      <th>coverage</th>\n",
       "      <th>avg_size</th>\n",
       "    </tr>\n",
       "  </thead>\n",
       "  <tbody>\n",
       "    <tr>\n",
       "      <th>0</th>\n",
       "      <td>a7553fc6c4c0cc9546978960a0aec995</td>\n",
       "      <td>2014</td>\n",
       "      <td>1k</td>\n",
       "      <td>do-not-scale</td>\n",
       "      <td>rf</td>\n",
       "      <td>nationality</td>\n",
       "      <td>keep-all</td>\n",
       "      <td>0.67</td>\n",
       "      <td>0.913232</td>\n",
       "      <td>1.146617</td>\n",
       "    </tr>\n",
       "  </tbody>\n",
       "</table>\n",
       "</div>"
      ],
      "text/plain": [
       "                        universe_id universe_training_year  \\\n",
       "0  a7553fc6c4c0cc9546978960a0aec995                   2014   \n",
       "\n",
       "  universe_training_size universe_scale universe_model  \\\n",
       "0                     1k   do-not-scale             rf   \n",
       "\n",
       "  universe_exclude_features universe_exclude_subgroups  q_hat  coverage  \\\n",
       "0               nationality                   keep-all   0.67  0.913232   \n",
       "\n",
       "   avg_size  \n",
       "0  1.146617  "
      ]
     },
     "execution_count": 50,
     "metadata": {},
     "output_type": "execute_result"
    }
   ],
   "source": [
    "cp_metrics_df"
   ]
  },
  {
   "cell_type": "markdown",
   "id": "ed608b0b",
   "metadata": {
    "papermill": {
     "duration": 0.013145,
     "end_time": "2025-08-19T18:54:31.010221",
     "exception": false,
     "start_time": "2025-08-19T18:54:30.997076",
     "status": "completed"
    },
    "tags": []
   },
   "source": [
    "Conditional coverage & looking at subgroups"
   ]
  },
  {
   "cell_type": "code",
   "execution_count": 51,
   "id": "8968c366",
   "metadata": {
    "execution": {
     "iopub.execute_input": "2025-08-19T18:54:31.040058Z",
     "iopub.status.busy": "2025-08-19T18:54:31.039591Z",
     "iopub.status.idle": "2025-08-19T18:54:31.258528Z",
     "shell.execute_reply": "2025-08-19T18:54:31.257653Z"
    },
    "papermill": {
     "duration": 0.233706,
     "end_time": "2025-08-19T18:54:31.260545",
     "exception": false,
     "start_time": "2025-08-19T18:54:31.026839",
     "status": "completed"
    },
    "tags": []
   },
   "outputs": [],
   "source": [
    "from fairness_multiverse.conformal import build_cp_groups\n",
    "\n",
    "cp_groups_df = build_cp_groups(pred_sets, y_true, X_test.index, org_test)"
   ]
  },
  {
   "cell_type": "code",
   "execution_count": 52,
   "id": "292ddabf",
   "metadata": {
    "execution": {
     "iopub.execute_input": "2025-08-19T18:54:31.313230Z",
     "iopub.status.busy": "2025-08-19T18:54:31.312251Z",
     "iopub.status.idle": "2025-08-19T18:54:32.216597Z",
     "shell.execute_reply": "2025-08-19T18:54:32.214984Z"
    },
    "papermill": {
     "duration": 0.925398,
     "end_time": "2025-08-19T18:54:32.220164",
     "exception": false,
     "start_time": "2025-08-19T18:54:31.294766",
     "status": "completed"
    },
    "tags": []
   },
   "outputs": [],
   "source": [
    "# Define covered = 1 if true_label is in the predicted set\n",
    "cp_groups_df['covered'] = cp_groups_df.apply(\n",
    "    lambda r: int(r['true_label'] in r['pred_set']),\n",
    "    axis=1\n",
    ")"
   ]
  },
  {
   "cell_type": "code",
   "execution_count": 53,
   "id": "3a261692",
   "metadata": {
    "execution": {
     "iopub.execute_input": "2025-08-19T18:54:32.262733Z",
     "iopub.status.busy": "2025-08-19T18:54:32.262026Z",
     "iopub.status.idle": "2025-08-19T18:54:32.285452Z",
     "shell.execute_reply": "2025-08-19T18:54:32.280050Z"
    },
    "papermill": {
     "duration": 0.044935,
     "end_time": "2025-08-19T18:54:32.291730",
     "exception": false,
     "start_time": "2025-08-19T18:54:32.246795",
     "status": "completed"
    },
    "tags": []
   },
   "outputs": [],
   "source": [
    "subgroups = ['frau1','nongerman','nongerman_male','nongerman_female']\n",
    "\n",
    "# Conditional coverage for subgroup==1\n",
    "cond_coverage = {\n",
    "    g: cp_groups_df.loc[cp_groups_df[g]==1, 'covered'].mean()\n",
    "    for g in subgroups\n",
    "}"
   ]
  },
  {
   "cell_type": "code",
   "execution_count": 54,
   "id": "894fd600",
   "metadata": {
    "execution": {
     "iopub.execute_input": "2025-08-19T18:54:32.322716Z",
     "iopub.status.busy": "2025-08-19T18:54:32.321058Z",
     "iopub.status.idle": "2025-08-19T18:54:32.333465Z",
     "shell.execute_reply": "2025-08-19T18:54:32.331780Z"
    },
    "papermill": {
     "duration": 0.027841,
     "end_time": "2025-08-19T18:54:32.334990",
     "exception": false,
     "start_time": "2025-08-19T18:54:32.307149",
     "status": "completed"
    },
    "tags": []
   },
   "outputs": [
    {
     "data": {
      "text/plain": [
       "{'frau1': 0.9073460035045154,\n",
       " 'nongerman': 0.9093920170661877,\n",
       " 'nongerman_male': 0.927316941367198,\n",
       " 'nongerman_female': 0.8797317436661699}"
      ]
     },
     "execution_count": 54,
     "metadata": {},
     "output_type": "execute_result"
    }
   ],
   "source": [
    "cond_coverage"
   ]
  },
  {
   "cell_type": "code",
   "execution_count": 55,
   "id": "942895c7",
   "metadata": {
    "execution": {
     "iopub.execute_input": "2025-08-19T18:54:32.365318Z",
     "iopub.status.busy": "2025-08-19T18:54:32.363804Z",
     "iopub.status.idle": "2025-08-19T18:54:32.376419Z",
     "shell.execute_reply": "2025-08-19T18:54:32.374523Z"
    },
    "papermill": {
     "duration": 0.027996,
     "end_time": "2025-08-19T18:54:32.378010",
     "exception": false,
     "start_time": "2025-08-19T18:54:32.350014",
     "status": "completed"
    },
    "tags": []
   },
   "outputs": [],
   "source": [
    "for subgroup, cov in cond_coverage.items():\n",
    "    cp_metrics_df[f\"cov_{subgroup}\"] = cov"
   ]
  },
  {
   "cell_type": "code",
   "execution_count": 56,
   "id": "3970120f",
   "metadata": {
    "execution": {
     "iopub.execute_input": "2025-08-19T18:54:32.408526Z",
     "iopub.status.busy": "2025-08-19T18:54:32.407579Z",
     "iopub.status.idle": "2025-08-19T18:54:32.431362Z",
     "shell.execute_reply": "2025-08-19T18:54:32.430461Z"
    },
    "papermill": {
     "duration": 0.040219,
     "end_time": "2025-08-19T18:54:32.433037",
     "exception": false,
     "start_time": "2025-08-19T18:54:32.392818",
     "status": "completed"
    },
    "tags": []
   },
   "outputs": [
    {
     "data": {
      "text/html": [
       "<div>\n",
       "<style scoped>\n",
       "    .dataframe tbody tr th:only-of-type {\n",
       "        vertical-align: middle;\n",
       "    }\n",
       "\n",
       "    .dataframe tbody tr th {\n",
       "        vertical-align: top;\n",
       "    }\n",
       "\n",
       "    .dataframe thead th {\n",
       "        text-align: right;\n",
       "    }\n",
       "</style>\n",
       "<table border=\"1\" class=\"dataframe\">\n",
       "  <thead>\n",
       "    <tr style=\"text-align: right;\">\n",
       "      <th></th>\n",
       "      <th>universe_id</th>\n",
       "      <th>universe_training_year</th>\n",
       "      <th>universe_training_size</th>\n",
       "      <th>universe_scale</th>\n",
       "      <th>universe_model</th>\n",
       "      <th>universe_exclude_features</th>\n",
       "      <th>universe_exclude_subgroups</th>\n",
       "      <th>q_hat</th>\n",
       "      <th>coverage</th>\n",
       "      <th>avg_size</th>\n",
       "      <th>cov_frau1</th>\n",
       "      <th>cov_nongerman</th>\n",
       "      <th>cov_nongerman_male</th>\n",
       "      <th>cov_nongerman_female</th>\n",
       "    </tr>\n",
       "  </thead>\n",
       "  <tbody>\n",
       "    <tr>\n",
       "      <th>0</th>\n",
       "      <td>a7553fc6c4c0cc9546978960a0aec995</td>\n",
       "      <td>2014</td>\n",
       "      <td>1k</td>\n",
       "      <td>do-not-scale</td>\n",
       "      <td>rf</td>\n",
       "      <td>nationality</td>\n",
       "      <td>keep-all</td>\n",
       "      <td>0.67</td>\n",
       "      <td>0.913232</td>\n",
       "      <td>1.146617</td>\n",
       "      <td>0.907346</td>\n",
       "      <td>0.909392</td>\n",
       "      <td>0.927317</td>\n",
       "      <td>0.879732</td>\n",
       "    </tr>\n",
       "  </tbody>\n",
       "</table>\n",
       "</div>"
      ],
      "text/plain": [
       "                        universe_id universe_training_year  \\\n",
       "0  a7553fc6c4c0cc9546978960a0aec995                   2014   \n",
       "\n",
       "  universe_training_size universe_scale universe_model  \\\n",
       "0                     1k   do-not-scale             rf   \n",
       "\n",
       "  universe_exclude_features universe_exclude_subgroups  q_hat  coverage  \\\n",
       "0               nationality                   keep-all   0.67  0.913232   \n",
       "\n",
       "   avg_size  cov_frau1  cov_nongerman  cov_nongerman_male  \\\n",
       "0  1.146617   0.907346       0.909392            0.927317   \n",
       "\n",
       "   cov_nongerman_female  \n",
       "0              0.879732  "
      ]
     },
     "execution_count": 56,
     "metadata": {},
     "output_type": "execute_result"
    }
   ],
   "source": [
    "cp_metrics_df"
   ]
  },
  {
   "cell_type": "markdown",
   "id": "3fc519cc",
   "metadata": {
    "papermill": {
     "duration": 0.012774,
     "end_time": "2025-08-19T18:54:32.467458",
     "exception": false,
     "start_time": "2025-08-19T18:54:32.454684",
     "status": "completed"
    },
    "tags": []
   },
   "source": [
    "# (Fairness) Metrics"
   ]
  },
  {
   "cell_type": "code",
   "execution_count": 57,
   "id": "a2e5e155",
   "metadata": {
    "execution": {
     "iopub.execute_input": "2025-08-19T18:54:32.494039Z",
     "iopub.status.busy": "2025-08-19T18:54:32.493045Z",
     "iopub.status.idle": "2025-08-19T18:54:32.523418Z",
     "shell.execute_reply": "2025-08-19T18:54:32.522608Z"
    },
    "papermill": {
     "duration": 0.045749,
     "end_time": "2025-08-19T18:54:32.525204",
     "exception": false,
     "start_time": "2025-08-19T18:54:32.479455",
     "status": "completed"
    },
    "tags": []
   },
   "outputs": [],
   "source": [
    "colname_to_bin = \"maxdeutsch1\"\n",
    "majority_value = org_train[colname_to_bin].mode()[0]\n",
    "\n",
    "org_test[\"majmin\"] = np.where(org_test[colname_to_bin] == majority_value, \"majority\", \"minority\")"
   ]
  },
  {
   "cell_type": "code",
   "execution_count": 58,
   "id": "17e3e4d5",
   "metadata": {
    "execution": {
     "iopub.execute_input": "2025-08-19T18:54:32.567067Z",
     "iopub.status.busy": "2025-08-19T18:54:32.565867Z",
     "iopub.status.idle": "2025-08-19T18:54:34.279498Z",
     "shell.execute_reply": "2025-08-19T18:54:34.278856Z"
    },
    "papermill": {
     "duration": 1.730551,
     "end_time": "2025-08-19T18:54:34.280932",
     "exception": false,
     "start_time": "2025-08-19T18:54:32.550381",
     "status": "completed"
    },
    "tags": []
   },
   "outputs": [],
   "source": [
    "example_universe = universe.copy()\n",
    "example_universe[\"cutoff\"] = example_universe[\"cutoff\"][0]\n",
    "example_universe[\"eval_fairness_grouping\"] = example_universe[\"eval_fairness_grouping\"][0]\n",
    "fairness_dict, metric_frame = universe_analysis.compute_metrics(\n",
    "    example_universe,\n",
    "    y_pred_prob=probs_test,\n",
    "    y_test=y_true,\n",
    "    org_test=org_test,\n",
    ")"
   ]
  },
  {
   "cell_type": "markdown",
   "id": "1fb7a0e9",
   "metadata": {
    "papermill": {
     "duration": 0.014608,
     "end_time": "2025-08-19T18:54:34.309073",
     "exception": false,
     "start_time": "2025-08-19T18:54:34.294465",
     "status": "completed"
    },
    "tags": []
   },
   "source": [
    "# Overall"
   ]
  },
  {
   "cell_type": "markdown",
   "id": "be1784b1",
   "metadata": {
    "papermill": {
     "duration": 0.012639,
     "end_time": "2025-08-19T18:54:34.334212",
     "exception": false,
     "start_time": "2025-08-19T18:54:34.321573",
     "status": "completed"
    },
    "tags": []
   },
   "source": [
    "Main fairness target: Equalized Odds. Seems to be a better fit than equal opportunity, since we're not only interested in Y = 1. Seems to be a better fit than demographic parity, since we also care about accuracy, not just equal distribution of preds.\n",
    "\n",
    "Pick column for computation of fairness metrics\n",
    "\n",
    "Performance\n",
    "Overall performance measures, most interesting in relation to the measures split by group below"
   ]
  },
  {
   "cell_type": "code",
   "execution_count": 59,
   "id": "b7672bee",
   "metadata": {
    "execution": {
     "iopub.execute_input": "2025-08-19T18:54:34.360611Z",
     "iopub.status.busy": "2025-08-19T18:54:34.360192Z",
     "iopub.status.idle": "2025-08-19T18:54:34.369889Z",
     "shell.execute_reply": "2025-08-19T18:54:34.368256Z"
    },
    "papermill": {
     "duration": 0.024782,
     "end_time": "2025-08-19T18:54:34.371446",
     "exception": false,
     "start_time": "2025-08-19T18:54:34.346664",
     "status": "completed"
    },
    "tags": []
   },
   "outputs": [
    {
     "data": {
      "text/plain": [
       "accuracy                   0.200323\n",
       "balanced accuracy          0.530169\n",
       "f1                         0.238059\n",
       "precision                  0.135604\n",
       "false positive rate        0.913506\n",
       "false negative rate        0.026156\n",
       "selection rate             0.921246\n",
       "count                  89710.000000\n",
       "dtype: float64"
      ]
     },
     "execution_count": 59,
     "metadata": {},
     "output_type": "execute_result"
    }
   ],
   "source": [
    "metric_frame.overall"
   ]
  },
  {
   "cell_type": "markdown",
   "id": "d93333c9",
   "metadata": {
    "papermill": {
     "duration": 0.020932,
     "end_time": "2025-08-19T18:54:34.407318",
     "exception": false,
     "start_time": "2025-08-19T18:54:34.386386",
     "status": "completed"
    },
    "tags": []
   },
   "source": [
    "By Group"
   ]
  },
  {
   "cell_type": "code",
   "execution_count": 60,
   "id": "52256966",
   "metadata": {
    "execution": {
     "iopub.execute_input": "2025-08-19T18:54:34.433252Z",
     "iopub.status.busy": "2025-08-19T18:54:34.432560Z",
     "iopub.status.idle": "2025-08-19T18:54:34.449575Z",
     "shell.execute_reply": "2025-08-19T18:54:34.448717Z"
    },
    "papermill": {
     "duration": 0.031417,
     "end_time": "2025-08-19T18:54:34.450923",
     "exception": false,
     "start_time": "2025-08-19T18:54:34.419506",
     "status": "completed"
    },
    "tags": []
   },
   "outputs": [
    {
     "data": {
      "text/html": [
       "<div>\n",
       "<style scoped>\n",
       "    .dataframe tbody tr th:only-of-type {\n",
       "        vertical-align: middle;\n",
       "    }\n",
       "\n",
       "    .dataframe tbody tr th {\n",
       "        vertical-align: top;\n",
       "    }\n",
       "\n",
       "    .dataframe thead th {\n",
       "        text-align: right;\n",
       "    }\n",
       "</style>\n",
       "<table border=\"1\" class=\"dataframe\">\n",
       "  <thead>\n",
       "    <tr style=\"text-align: right;\">\n",
       "      <th></th>\n",
       "      <th>accuracy</th>\n",
       "      <th>balanced accuracy</th>\n",
       "      <th>f1</th>\n",
       "      <th>precision</th>\n",
       "      <th>false positive rate</th>\n",
       "      <th>false negative rate</th>\n",
       "      <th>selection rate</th>\n",
       "      <th>count</th>\n",
       "    </tr>\n",
       "    <tr>\n",
       "      <th>majmin</th>\n",
       "      <th></th>\n",
       "      <th></th>\n",
       "      <th></th>\n",
       "      <th></th>\n",
       "      <th></th>\n",
       "      <th></th>\n",
       "      <th></th>\n",
       "      <th></th>\n",
       "    </tr>\n",
       "  </thead>\n",
       "  <tbody>\n",
       "    <tr>\n",
       "      <th>majority</th>\n",
       "      <td>0.195041</td>\n",
       "      <td>0.531881</td>\n",
       "      <td>0.245245</td>\n",
       "      <td>0.139964</td>\n",
       "      <td>0.925954</td>\n",
       "      <td>0.010284</td>\n",
       "      <td>0.934379</td>\n",
       "      <td>69170.0</td>\n",
       "    </tr>\n",
       "    <tr>\n",
       "      <th>minority</th>\n",
       "      <td>0.218111</td>\n",
       "      <td>0.520099</td>\n",
       "      <td>0.212050</td>\n",
       "      <td>0.119962</td>\n",
       "      <td>0.872386</td>\n",
       "      <td>0.087416</td>\n",
       "      <td>0.877020</td>\n",
       "      <td>20540.0</td>\n",
       "    </tr>\n",
       "  </tbody>\n",
       "</table>\n",
       "</div>"
      ],
      "text/plain": [
       "          accuracy  balanced accuracy        f1  precision  \\\n",
       "majmin                                                       \n",
       "majority  0.195041           0.531881  0.245245   0.139964   \n",
       "minority  0.218111           0.520099  0.212050   0.119962   \n",
       "\n",
       "          false positive rate  false negative rate  selection rate    count  \n",
       "majmin                                                                       \n",
       "majority             0.925954             0.010284        0.934379  69170.0  \n",
       "minority             0.872386             0.087416        0.877020  20540.0  "
      ]
     },
     "execution_count": 60,
     "metadata": {},
     "output_type": "execute_result"
    }
   ],
   "source": [
    "metric_frame.by_group"
   ]
  },
  {
   "cell_type": "code",
   "execution_count": 61,
   "id": "6e6c20ae",
   "metadata": {
    "execution": {
     "iopub.execute_input": "2025-08-19T18:54:34.481436Z",
     "iopub.status.busy": "2025-08-19T18:54:34.481063Z",
     "iopub.status.idle": "2025-08-19T18:54:36.194645Z",
     "shell.execute_reply": "2025-08-19T18:54:36.193747Z"
    },
    "papermill": {
     "duration": 1.738259,
     "end_time": "2025-08-19T18:54:36.205861",
     "exception": false,
     "start_time": "2025-08-19T18:54:34.467602",
     "status": "completed"
    },
    "tags": []
   },
   "outputs": [
    {
     "data": {
      "text/plain": [
       "array([[<Axes: title={'center': 'accuracy'}, xlabel='majmin'>,\n",
       "        <Axes: title={'center': 'balanced accuracy'}, xlabel='majmin'>,\n",
       "        <Axes: title={'center': 'f1'}, xlabel='majmin'>],\n",
       "       [<Axes: title={'center': 'precision'}, xlabel='majmin'>,\n",
       "        <Axes: title={'center': 'false positive rate'}, xlabel='majmin'>,\n",
       "        <Axes: title={'center': 'false negative rate'}, xlabel='majmin'>],\n",
       "       [<Axes: title={'center': 'selection rate'}, xlabel='majmin'>,\n",
       "        <Axes: title={'center': 'count'}, xlabel='majmin'>,\n",
       "        <Axes: xlabel='majmin'>]], dtype=object)"
      ]
     },
     "execution_count": 61,
     "metadata": {},
     "output_type": "execute_result"
    },
    {
     "data": {
      "image/png": "[encoded data removed]",
      "text/plain": [
       "<Figure size 1200x800 with 9 Axes>"
      ]
     },
     "metadata": {},
     "output_type": "display_data"
    }
   ],
   "source": [
    "# In a graphic\n",
    "metric_frame.by_group.plot.bar(\n",
    "    subplots=True,\n",
    "    layout=[3, 3],\n",
    "    legend=False,\n",
    "    figsize=[12, 8],\n",
    "    title=\"Show all metrics\",\n",
    ")"
   ]
  },
  {
   "cell_type": "markdown",
   "id": "b2e433ae",
   "metadata": {
    "papermill": {
     "duration": 0.01365,
     "end_time": "2025-08-19T18:54:36.241455",
     "exception": false,
     "start_time": "2025-08-19T18:54:36.227805",
     "status": "completed"
    },
    "tags": []
   },
   "source": [
    "# Final Output"
   ]
  },
  {
   "cell_type": "code",
   "execution_count": 62,
   "id": "3871301e",
   "metadata": {
    "execution": {
     "iopub.execute_input": "2025-08-19T18:54:36.270869Z",
     "iopub.status.busy": "2025-08-19T18:54:36.270291Z",
     "iopub.status.idle": "2025-08-19T18:54:36.276993Z",
     "shell.execute_reply": "2025-08-19T18:54:36.276193Z"
    },
    "papermill": {
     "duration": 0.022654,
     "end_time": "2025-08-19T18:54:36.278219",
     "exception": false,
     "start_time": "2025-08-19T18:54:36.255565",
     "status": "completed"
    },
    "tags": []
   },
   "outputs": [
    {
     "data": {
      "text/plain": [
       "4"
      ]
     },
     "execution_count": 62,
     "metadata": {},
     "output_type": "execute_result"
    }
   ],
   "source": [
    "sub_universes = universe_analysis.generate_sub_universes()\n",
    "len(sub_universes)"
   ]
  },
  {
   "cell_type": "code",
   "execution_count": 63,
   "id": "d9cfdaca",
   "metadata": {
    "execution": {
     "iopub.execute_input": "2025-08-19T18:54:36.308001Z",
     "iopub.status.busy": "2025-08-19T18:54:36.307611Z",
     "iopub.status.idle": "2025-08-19T18:54:36.321608Z",
     "shell.execute_reply": "2025-08-19T18:54:36.320751Z"
    },
    "papermill": {
     "duration": 0.030471,
     "end_time": "2025-08-19T18:54:36.323334",
     "exception": false,
     "start_time": "2025-08-19T18:54:36.292863",
     "status": "completed"
    },
    "tags": []
   },
   "outputs": [],
   "source": [
    "def filter_sub_universe_data(sub_universe, org_test):\n",
    "    # Keep all rows — no filtering\n",
    "    keep_rows_mask = np.ones(org_test.shape[0], dtype=bool)\n",
    "\n",
    "    print(f\"[INFO] Keeping all rows: {keep_rows_mask.sum()} rows retained.\")\n",
    "    return keep_rows_mask"
   ]
  },
  {
   "cell_type": "code",
   "execution_count": 64,
   "id": "2bc31ac1",
   "metadata": {
    "execution": {
     "iopub.execute_input": "2025-08-19T18:54:36.381504Z",
     "iopub.status.busy": "2025-08-19T18:54:36.381046Z",
     "iopub.status.idle": "2025-08-19T18:54:43.086274Z",
     "shell.execute_reply": "2025-08-19T18:54:43.085280Z"
    },
    "papermill": {
     "duration": 6.740623,
     "end_time": "2025-08-19T18:54:43.089606",
     "exception": false,
     "start_time": "2025-08-19T18:54:36.348983",
     "status": "completed"
    },
    "tags": []
   },
   "outputs": [
    {
     "name": "stdout",
     "output_type": "stream",
     "text": [
      "Stopping execution_time clock.\n",
      "[INFO] Keeping all rows: 89710 rows retained.\n"
     ]
    },
    {
     "name": "stdout",
     "output_type": "stream",
     "text": [
      "[INFO] Keeping all rows: 89710 rows retained.\n"
     ]
    },
    {
     "name": "stdout",
     "output_type": "stream",
     "text": [
      "[INFO] Keeping all rows: 89710 rows retained.\n"
     ]
    },
    {
     "name": "stdout",
     "output_type": "stream",
     "text": [
      "[INFO] Keeping all rows: 89710 rows retained.\n"
     ]
    },
    {
     "data": {
      "text/html": [
       "<div>\n",
       "<style scoped>\n",
       "    .dataframe tbody tr th:only-of-type {\n",
       "        vertical-align: middle;\n",
       "    }\n",
       "\n",
       "    .dataframe tbody tr th {\n",
       "        vertical-align: top;\n",
       "    }\n",
       "\n",
       "    .dataframe thead th {\n",
       "        text-align: right;\n",
       "    }\n",
       "</style>\n",
       "<table border=\"1\" class=\"dataframe\">\n",
       "  <thead>\n",
       "    <tr style=\"text-align: right;\">\n",
       "      <th></th>\n",
       "      <th>run_no</th>\n",
       "      <th>universe_id</th>\n",
       "      <th>universe_settings</th>\n",
       "      <th>execution_time</th>\n",
       "      <th>test_size_n</th>\n",
       "      <th>test_size_frac</th>\n",
       "      <th>fair_main_equalized_odds_difference</th>\n",
       "      <th>fair_main_equalized_odds_ratio</th>\n",
       "      <th>fair_main_demographic_parity_difference</th>\n",
       "      <th>fair_main_demographic_parity_ratio</th>\n",
       "      <th>...</th>\n",
       "      <th>perf_grp_precision_0</th>\n",
       "      <th>perf_grp_precision_1</th>\n",
       "      <th>perf_grp_false positive rate_0</th>\n",
       "      <th>perf_grp_false positive rate_1</th>\n",
       "      <th>perf_grp_false negative rate_0</th>\n",
       "      <th>perf_grp_false negative rate_1</th>\n",
       "      <th>perf_grp_selection rate_0</th>\n",
       "      <th>perf_grp_selection rate_1</th>\n",
       "      <th>perf_grp_count_0</th>\n",
       "      <th>perf_grp_count_1</th>\n",
       "    </tr>\n",
       "  </thead>\n",
       "  <tbody>\n",
       "    <tr>\n",
       "      <th>0</th>\n",
       "      <td>3</td>\n",
       "      <td>a7553fc6c4c0cc9546978960a0aec995</td>\n",
       "      <td>{\"cutoff\": \"quantile_0.1\", \"eval_fairness_grou...</td>\n",
       "      <td>24.627998</td>\n",
       "      <td>89710</td>\n",
       "      <td>1.0</td>\n",
       "      <td>0.077131</td>\n",
       "      <td>0.922067</td>\n",
       "      <td>0.057359</td>\n",
       "      <td>0.938613</td>\n",
       "      <td>...</td>\n",
       "      <td>NaN</td>\n",
       "      <td>NaN</td>\n",
       "      <td>NaN</td>\n",
       "      <td>NaN</td>\n",
       "      <td>NaN</td>\n",
       "      <td>NaN</td>\n",
       "      <td>NaN</td>\n",
       "      <td>NaN</td>\n",
       "      <td>NaN</td>\n",
       "      <td>NaN</td>\n",
       "    </tr>\n",
       "    <tr>\n",
       "      <th>0</th>\n",
       "      <td>3</td>\n",
       "      <td>a7553fc6c4c0cc9546978960a0aec995</td>\n",
       "      <td>{\"cutoff\": \"quantile_0.1\", \"eval_fairness_grou...</td>\n",
       "      <td>24.627998</td>\n",
       "      <td>89710</td>\n",
       "      <td>1.0</td>\n",
       "      <td>0.077131</td>\n",
       "      <td>0.922067</td>\n",
       "      <td>0.057359</td>\n",
       "      <td>0.938613</td>\n",
       "      <td>...</td>\n",
       "      <td>0.119962</td>\n",
       "      <td>0.139964</td>\n",
       "      <td>0.872386</td>\n",
       "      <td>0.925954</td>\n",
       "      <td>0.087416</td>\n",
       "      <td>0.010284</td>\n",
       "      <td>0.877020</td>\n",
       "      <td>0.934379</td>\n",
       "      <td>20540.0</td>\n",
       "      <td>69170.0</td>\n",
       "    </tr>\n",
       "    <tr>\n",
       "      <th>0</th>\n",
       "      <td>3</td>\n",
       "      <td>a7553fc6c4c0cc9546978960a0aec995</td>\n",
       "      <td>{\"cutoff\": \"quantile_0.25\", \"eval_fairness_gro...</td>\n",
       "      <td>24.627998</td>\n",
       "      <td>89710</td>\n",
       "      <td>1.0</td>\n",
       "      <td>0.124848</td>\n",
       "      <td>0.868232</td>\n",
       "      <td>0.063176</td>\n",
       "      <td>0.919729</td>\n",
       "      <td>...</td>\n",
       "      <td>NaN</td>\n",
       "      <td>NaN</td>\n",
       "      <td>NaN</td>\n",
       "      <td>NaN</td>\n",
       "      <td>NaN</td>\n",
       "      <td>NaN</td>\n",
       "      <td>NaN</td>\n",
       "      <td>NaN</td>\n",
       "      <td>NaN</td>\n",
       "      <td>NaN</td>\n",
       "    </tr>\n",
       "    <tr>\n",
       "      <th>0</th>\n",
       "      <td>3</td>\n",
       "      <td>a7553fc6c4c0cc9546978960a0aec995</td>\n",
       "      <td>{\"cutoff\": \"quantile_0.25\", \"eval_fairness_gro...</td>\n",
       "      <td>24.627998</td>\n",
       "      <td>89710</td>\n",
       "      <td>1.0</td>\n",
       "      <td>0.124848</td>\n",
       "      <td>0.868232</td>\n",
       "      <td>0.063176</td>\n",
       "      <td>0.919729</td>\n",
       "      <td>...</td>\n",
       "      <td>0.131020</td>\n",
       "      <td>0.159077</td>\n",
       "      <td>0.710984</td>\n",
       "      <td>0.762602</td>\n",
       "      <td>0.177365</td>\n",
       "      <td>0.052516</td>\n",
       "      <td>0.723856</td>\n",
       "      <td>0.787032</td>\n",
       "      <td>20540.0</td>\n",
       "      <td>69170.0</td>\n",
       "    </tr>\n",
       "  </tbody>\n",
       "</table>\n",
       "<p>4 rows × 50 columns</p>\n",
       "</div>"
      ],
      "text/plain": [
       "  run_no                       universe_id  \\\n",
       "0      3  a7553fc6c4c0cc9546978960a0aec995   \n",
       "0      3  a7553fc6c4c0cc9546978960a0aec995   \n",
       "0      3  a7553fc6c4c0cc9546978960a0aec995   \n",
       "0      3  a7553fc6c4c0cc9546978960a0aec995   \n",
       "\n",
       "                                   universe_settings  execution_time  \\\n",
       "0  {\"cutoff\": \"quantile_0.1\", \"eval_fairness_grou...       24.627998   \n",
       "0  {\"cutoff\": \"quantile_0.1\", \"eval_fairness_grou...       24.627998   \n",
       "0  {\"cutoff\": \"quantile_0.25\", \"eval_fairness_gro...       24.627998   \n",
       "0  {\"cutoff\": \"quantile_0.25\", \"eval_fairness_gro...       24.627998   \n",
       "\n",
       "   test_size_n  test_size_frac  fair_main_equalized_odds_difference  \\\n",
       "0        89710             1.0                             0.077131   \n",
       "0        89710             1.0                             0.077131   \n",
       "0        89710             1.0                             0.124848   \n",
       "0        89710             1.0                             0.124848   \n",
       "\n",
       "   fair_main_equalized_odds_ratio  fair_main_demographic_parity_difference  \\\n",
       "0                        0.922067                                 0.057359   \n",
       "0                        0.922067                                 0.057359   \n",
       "0                        0.868232                                 0.063176   \n",
       "0                        0.868232                                 0.063176   \n",
       "\n",
       "   fair_main_demographic_parity_ratio  ...  perf_grp_precision_0  \\\n",
       "0                            0.938613  ...                   NaN   \n",
       "0                            0.938613  ...              0.119962   \n",
       "0                            0.919729  ...                   NaN   \n",
       "0                            0.919729  ...              0.131020   \n",
       "\n",
       "   perf_grp_precision_1  perf_grp_false positive rate_0  \\\n",
       "0                   NaN                             NaN   \n",
       "0              0.139964                        0.872386   \n",
       "0                   NaN                             NaN   \n",
       "0              0.159077                        0.710984   \n",
       "\n",
       "   perf_grp_false positive rate_1  perf_grp_false negative rate_0  \\\n",
       "0                             NaN                             NaN   \n",
       "0                        0.925954                        0.087416   \n",
       "0                             NaN                             NaN   \n",
       "0                        0.762602                        0.177365   \n",
       "\n",
       "   perf_grp_false negative rate_1  perf_grp_selection rate_0  \\\n",
       "0                             NaN                        NaN   \n",
       "0                        0.010284                   0.877020   \n",
       "0                             NaN                        NaN   \n",
       "0                        0.052516                   0.723856   \n",
       "\n",
       "   perf_grp_selection rate_1  perf_grp_count_0  perf_grp_count_1  \n",
       "0                        NaN               NaN               NaN  \n",
       "0                   0.934379           20540.0           69170.0  \n",
       "0                        NaN               NaN               NaN  \n",
       "0                   0.787032           20540.0           69170.0  \n",
       "\n",
       "[4 rows x 50 columns]"
      ]
     },
     "execution_count": 64,
     "metadata": {},
     "output_type": "execute_result"
    }
   ],
   "source": [
    "final_output = universe_analysis.generate_final_output(\n",
    "    y_pred_prob=probs_test,\n",
    "    y_test=y_true,\n",
    "    org_test=org_test,\n",
    "    filter_data=filter_sub_universe_data,\n",
    "    cp_metrics_df=cp_metrics_df,\n",
    "    save=True,\n",
    ")\n",
    "final_output"
   ]
  },
  {
   "cell_type": "code",
   "execution_count": null,
   "id": "8b80a1ff",
   "metadata": {
    "papermill": {
     "duration": 0.015621,
     "end_time": "2025-08-19T18:54:43.140334",
     "exception": false,
     "start_time": "2025-08-19T18:54:43.124713",
     "status": "completed"
    },
    "tags": []
   },
   "outputs": [],
   "source": []
  },
  {
   "cell_type": "code",
   "execution_count": null,
   "id": "275c9fad",
   "metadata": {
    "papermill": {
     "duration": 0.014018,
     "end_time": "2025-08-19T18:54:43.168658",
     "exception": false,
     "start_time": "2025-08-19T18:54:43.154640",
     "status": "completed"
    },
    "tags": []
   },
   "outputs": [],
   "source": []
  }
 ],
 "metadata": {
  "celltoolbar": "Tags",
  "kernelspec": {
   "display_name": "Python (CMA Fairness)",
   "language": "python",
   "name": "cma_fair_env"
  },
  "language_info": {
   "codemirror_mode": {
    "name": "ipython",
    "version": 3
   },
   "file_extension": ".py",
   "mimetype": "text/x-python",
   "name": "python",
   "nbconvert_exporter": "python",
   "pygments_lexer": "ipython3",
   "version": "3.10.12"
  },
  "papermill": {
   "default_parameters": {},
   "duration": 34.907964,
   "end_time": "2025-08-19T18:54:44.020992",
   "environment_variables": {},
   "exception": null,
   "input_path": "universe_analysis.ipynb",
   "output_path": "output/runs/3/notebooks/m_3-a7553fc6c4c0cc9546978960a0aec995.ipynb",
   "parameters": {
    "output_dir": "output",
    "run_no": "3",
    "seed": "2023",
    "universe": "{\"cutoff\": [\"quantile_0.1\", \"quantile_0.25\"], \"eval_fairness_grouping\": [\"majority-minority\", \"nationality-all\"], \"exclude_features\": \"nationality\", \"exclude_subgroups\": \"keep-all\", \"model\": \"rf\", \"scale\": \"do-not-scale\", \"training_size\": \"1k\", \"training_year\": \"2014\"}",
    "universe_id": "a7553fc6c4c0cc9546978960a0aec995"
   },
   "start_time": "2025-08-19T18:54:09.113028",
   "version": "2.6.0"
  }
 },
 "nbformat": 4,
 "nbformat_minor": 5
}