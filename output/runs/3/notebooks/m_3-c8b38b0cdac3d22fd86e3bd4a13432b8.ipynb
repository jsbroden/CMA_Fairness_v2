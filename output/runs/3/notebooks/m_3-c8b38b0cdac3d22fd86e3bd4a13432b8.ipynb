{
 "cells": [
  {
   "cell_type": "markdown",
   "id": "ef23dbb3",
   "metadata": {
    "papermill": {
     "duration": 0.022399,
     "end_time": "2025-08-19T18:36:03.408916",
     "exception": false,
     "start_time": "2025-08-19T18:36:03.386517",
     "status": "completed"
    },
    "tags": []
   },
   "source": [
    "# Setup"
   ]
  },
  {
   "cell_type": "code",
   "execution_count": 1,
   "id": "0bc8e7dc",
   "metadata": {
    "execution": {
     "iopub.execute_input": "2025-08-19T18:36:03.431106Z",
     "iopub.status.busy": "2025-08-19T18:36:03.430586Z",
     "iopub.status.idle": "2025-08-19T18:36:03.441205Z",
     "shell.execute_reply": "2025-08-19T18:36:03.440358Z"
    },
    "papermill": {
     "duration": 0.023894,
     "end_time": "2025-08-19T18:36:03.444631",
     "exception": false,
     "start_time": "2025-08-19T18:36:03.420737",
     "status": "completed"
    },
    "tags": []
   },
   "outputs": [
    {
     "name": "stdout",
     "output_type": "stream",
     "text": [
      "/dss/dsshome1/0C/ra93lal2/cma/CMA_Fairness_v2\n"
     ]
    },
    {
     "name": "stderr",
     "output_type": "stream",
     "text": [
      "/dss/dsshome1/0C/ra93lal2/.local/share/virtualenvs/CMA_Fairness_v2-3j10GkSs/lib/python3.10/site-packages/IPython/core/magics/osm.py:393: UserWarning: This is now an optional IPython functionality, using bookmarks requires you to install the `pickleshare` library.\n",
      "  bkms = self.shell.db.get('bookmarks', {})\n",
      "/dss/dsshome1/0C/ra93lal2/.local/share/virtualenvs/CMA_Fairness_v2-3j10GkSs/lib/python3.10/site-packages/IPython/core/magics/osm.py:417: UserWarning: This is now an optional IPython functionality, setting dhist requires you to install the `pickleshare` library.\n",
      "  self.shell.db['dhist'] = compress_dhist(dhist)[-100:]\n"
     ]
    }
   ],
   "source": [
    "%cd ~/cma/CMA_Fairness_v2"
   ]
  },
  {
   "cell_type": "markdown",
   "id": "9d235661",
   "metadata": {
    "papermill": {
     "duration": 0.011069,
     "end_time": "2025-08-19T18:36:03.474847",
     "exception": false,
     "start_time": "2025-08-19T18:36:03.463778",
     "status": "completed"
    },
    "tags": []
   },
   "source": [
    "The following cell holds the definition of our parameters, these values can be overriden by rendering the with e.g. the following command:\n",
    "\n",
    "papermill -p alpha 0.2 -p ratio 0.3 universe_analysis.ipynb output/test_run.ipynb"
   ]
  },
  {
   "cell_type": "code",
   "execution_count": 2,
   "id": "4a789d8e",
   "metadata": {
    "execution": {
     "iopub.execute_input": "2025-08-19T18:36:03.497516Z",
     "iopub.status.busy": "2025-08-19T18:36:03.496066Z",
     "iopub.status.idle": "2025-08-19T18:36:03.503753Z",
     "shell.execute_reply": "2025-08-19T18:36:03.502467Z"
    },
    "papermill": {
     "duration": 0.021231,
     "end_time": "2025-08-19T18:36:03.505297",
     "exception": false,
     "start_time": "2025-08-19T18:36:03.484066",
     "status": "completed"
    },
    "tags": []
   },
   "outputs": [
    {
     "name": "stdout",
     "output_type": "stream",
     "text": [
      "Current working directory: /dss/dsshome1/0C/ra93lal2/cma/CMA_Fairness_v2\n"
     ]
    }
   ],
   "source": [
    "import os\n",
    "print(\"Current working directory:\", os.getcwd())"
   ]
  },
  {
   "cell_type": "code",
   "execution_count": 3,
   "id": "4132aaed",
   "metadata": {
    "execution": {
     "iopub.execute_input": "2025-08-19T18:36:03.527703Z",
     "iopub.status.busy": "2025-08-19T18:36:03.526587Z",
     "iopub.status.idle": "2025-08-19T18:36:03.536290Z",
     "shell.execute_reply": "2025-08-19T18:36:03.534941Z"
    },
    "papermill": {
     "duration": 0.022172,
     "end_time": "2025-08-19T18:36:03.537940",
     "exception": false,
     "start_time": "2025-08-19T18:36:03.515768",
     "status": "completed"
    },
    "tags": [
     "parameters"
    ]
   },
   "outputs": [],
   "source": [
    "run_no = 0\n",
    "universe_id = \"test\"\n",
    "universe = {\n",
    "    \"training_size\": \"5k\", # \"25k\", \"5k\", \"1k\"\n",
    "    \"training_year\": \"2012_14\", # \"2014\", \"2012_14\", \"2010_14\"\n",
    "    \"scale\": \"scale\", # \"scale\", \"do-not-scale\",\n",
    "    \"model\": \"elasticnet\", # \"logreg\", \"penalized_logreg\", \"rf\", \"gbm\", \"elasticnet\"\n",
    "    \"cutoff\": [\"quantile_0.15\", \"quantile_0.30\"],\n",
    "    \"exclude_features\": \"age\", # \"none\", \"nationality\", \"sex\", \"nationality-sex\", \"age\"\n",
    "    \"exclude_subgroups\": \"drop-non-german\", # \"keep-all\", \"drop-non-german\"\n",
    "    \"eval_fairness_grouping\": [\"majority-minority\", \"nationality-all\"]\n",
    "}\n",
    "\n",
    "output_dir=\"./output\"\n",
    "seed=0"
   ]
  },
  {
   "cell_type": "code",
   "execution_count": 4,
   "id": "3d687fea",
   "metadata": {
    "execution": {
     "iopub.execute_input": "2025-08-19T18:36:03.562103Z",
     "iopub.status.busy": "2025-08-19T18:36:03.560967Z",
     "iopub.status.idle": "2025-08-19T18:36:03.568721Z",
     "shell.execute_reply": "2025-08-19T18:36:03.567391Z"
    },
    "papermill": {
     "duration": 0.020569,
     "end_time": "2025-08-19T18:36:03.570163",
     "exception": false,
     "start_time": "2025-08-19T18:36:03.549594",
     "status": "completed"
    },
    "tags": [
     "injected-parameters"
    ]
   },
   "outputs": [],
   "source": [
    "# Parameters\n",
    "universe_id = \"c8b38b0cdac3d22fd86e3bd4a13432b8\"\n",
    "run_no = \"3\"\n",
    "universe = \"{\\\"cutoff\\\": [\\\"quantile_0.1\\\", \\\"quantile_0.25\\\"], \\\"eval_fairness_grouping\\\": [\\\"majority-minority\\\", \\\"nationality-all\\\"], \\\"exclude_features\\\": \\\"nationality\\\", \\\"exclude_subgroups\\\": \\\"keep-all\\\", \\\"model\\\": \\\"penalized_logreg\\\", \\\"scale\\\": \\\"do-not-scale\\\", \\\"training_size\\\": \\\"5k\\\", \\\"training_year\\\": \\\"2012_14\\\"}\"\n",
    "output_dir = \"output\"\n",
    "seed = \"2023\"\n"
   ]
  },
  {
   "cell_type": "code",
   "execution_count": 5,
   "id": "a5d7941f",
   "metadata": {
    "execution": {
     "iopub.execute_input": "2025-08-19T18:36:03.610601Z",
     "iopub.status.busy": "2025-08-19T18:36:03.609426Z",
     "iopub.status.idle": "2025-08-19T18:36:03.617197Z",
     "shell.execute_reply": "2025-08-19T18:36:03.615776Z"
    },
    "papermill": {
     "duration": 0.038433,
     "end_time": "2025-08-19T18:36:03.620145",
     "exception": false,
     "start_time": "2025-08-19T18:36:03.581712",
     "status": "completed"
    },
    "tags": []
   },
   "outputs": [],
   "source": [
    "import json\n",
    "if isinstance(universe, str):\n",
    "    universe = json.loads(universe)"
   ]
  },
  {
   "cell_type": "code",
   "execution_count": 6,
   "id": "7076ccb1",
   "metadata": {
    "execution": {
     "iopub.execute_input": "2025-08-19T18:36:03.649806Z",
     "iopub.status.busy": "2025-08-19T18:36:03.649070Z",
     "iopub.status.idle": "2025-08-19T18:36:03.712160Z",
     "shell.execute_reply": "2025-08-19T18:36:03.710724Z"
    },
    "papermill": {
     "duration": 0.077647,
     "end_time": "2025-08-19T18:36:03.714632",
     "exception": false,
     "start_time": "2025-08-19T18:36:03.636985",
     "status": "completed"
    },
    "tags": []
   },
   "outputs": [],
   "source": [
    "# Auto-reload the custom package\n",
    "%load_ext autoreload\n",
    "%autoreload 1\n",
    "%aimport fairness_multiverse"
   ]
  },
  {
   "cell_type": "code",
   "execution_count": 7,
   "id": "94c8eb93",
   "metadata": {
    "execution": {
     "iopub.execute_input": "2025-08-19T18:36:03.743538Z",
     "iopub.status.busy": "2025-08-19T18:36:03.742506Z",
     "iopub.status.idle": "2025-08-19T18:36:05.584086Z",
     "shell.execute_reply": "2025-08-19T18:36:05.583035Z"
    },
    "papermill": {
     "duration": 1.854823,
     "end_time": "2025-08-19T18:36:05.585902",
     "exception": false,
     "start_time": "2025-08-19T18:36:03.731079",
     "status": "completed"
    },
    "tags": []
   },
   "outputs": [],
   "source": [
    "from fairness_multiverse.universe import UniverseAnalysis\n",
    "\n",
    "universe_analysis = UniverseAnalysis(\n",
    "    run_no = run_no,\n",
    "    universe_id = universe_id,\n",
    "    universe = universe,\n",
    "    output_dir=output_dir,\n",
    ")"
   ]
  },
  {
   "cell_type": "code",
   "execution_count": 8,
   "id": "2a6381cf",
   "metadata": {
    "execution": {
     "iopub.execute_input": "2025-08-19T18:36:05.607984Z",
     "iopub.status.busy": "2025-08-19T18:36:05.607064Z",
     "iopub.status.idle": "2025-08-19T18:36:05.615066Z",
     "shell.execute_reply": "2025-08-19T18:36:05.614041Z"
    },
    "papermill": {
     "duration": 0.02085,
     "end_time": "2025-08-19T18:36:05.616358",
     "exception": false,
     "start_time": "2025-08-19T18:36:05.595508",
     "status": "completed"
    },
    "tags": []
   },
   "outputs": [
    {
     "name": "stdout",
     "output_type": "stream",
     "text": [
      "Using Seed: 2023\n"
     ]
    }
   ],
   "source": [
    "import numpy as np\n",
    "parsed_seed = int(seed)\n",
    "np.random.seed(parsed_seed)\n",
    "print(f\"Using Seed: {parsed_seed}\")"
   ]
  },
  {
   "cell_type": "markdown",
   "id": "b6e958b4",
   "metadata": {
    "papermill": {
     "duration": 0.010321,
     "end_time": "2025-08-19T18:36:05.638327",
     "exception": false,
     "start_time": "2025-08-19T18:36:05.628006",
     "status": "completed"
    },
    "tags": []
   },
   "source": [
    "# Loading Data"
   ]
  },
  {
   "cell_type": "code",
   "execution_count": 9,
   "id": "98701482",
   "metadata": {
    "execution": {
     "iopub.execute_input": "2025-08-19T18:36:05.660939Z",
     "iopub.status.busy": "2025-08-19T18:36:05.659699Z",
     "iopub.status.idle": "2025-08-19T18:36:16.370485Z",
     "shell.execute_reply": "2025-08-19T18:36:16.368364Z"
    },
    "papermill": {
     "duration": 10.724029,
     "end_time": "2025-08-19T18:36:16.372108",
     "exception": false,
     "start_time": "2025-08-19T18:36:05.648079",
     "status": "completed"
    },
    "tags": []
   },
   "outputs": [
    {
     "name": "stdout",
     "output_type": "stream",
     "text": [
      "Loading SIAB data from cache: data/siab_cached.csv.gz\n"
     ]
    },
    {
     "name": "stdout",
     "output_type": "stream",
     "text": [
      "(643690, 164)\n"
     ]
    }
   ],
   "source": [
    "from pathlib import Path\n",
    "import pandas as pd\n",
    "\n",
    "# File paths\n",
    "raw_file = Path(\"data/raw/siab.csv\")\n",
    "cache_file = Path(\"data/siab_cached.csv.gz\")\n",
    "\n",
    "# Ensure cache directory exists\n",
    "cache_file.parent.mkdir(parents=True, exist_ok=True)\n",
    "\n",
    "# Load with simple caching\n",
    "if cache_file.exists():\n",
    "    print(f\"Loading SIAB data from cache: {cache_file}\")\n",
    "    siab = pd.read_csv(cache_file, compression='gzip')\n",
    "else:\n",
    "    print(f\"Cache not found. Reading raw SIAB data: {raw_file}\")\n",
    "    siab = pd.read_csv(raw_file)\n",
    "    siab.to_csv(cache_file, index=False, compression='gzip')\n",
    "    print(f\"Cached SIAB data to: {cache_file}\")\n",
    "\n",
    "print(siab.shape)"
   ]
  },
  {
   "cell_type": "code",
   "execution_count": 10,
   "id": "058d2abb",
   "metadata": {
    "execution": {
     "iopub.execute_input": "2025-08-19T18:36:16.398047Z",
     "iopub.status.busy": "2025-08-19T18:36:16.397447Z",
     "iopub.status.idle": "2025-08-19T18:36:16.629700Z",
     "shell.execute_reply": "2025-08-19T18:36:16.628794Z"
    },
    "papermill": {
     "duration": 0.245603,
     "end_time": "2025-08-19T18:36:16.631430",
     "exception": false,
     "start_time": "2025-08-19T18:36:16.385827",
     "status": "completed"
    },
    "tags": []
   },
   "outputs": [
    {
     "data": {
      "text/html": [
       "<div>\n",
       "<style scoped>\n",
       "    .dataframe tbody tr th:only-of-type {\n",
       "        vertical-align: middle;\n",
       "    }\n",
       "\n",
       "    .dataframe tbody tr th {\n",
       "        vertical-align: top;\n",
       "    }\n",
       "\n",
       "    .dataframe thead th {\n",
       "        text-align: right;\n",
       "    }\n",
       "</style>\n",
       "<table border=\"1\" class=\"dataframe\">\n",
       "  <thead>\n",
       "    <tr style=\"text-align: right;\">\n",
       "      <th></th>\n",
       "      <th>persnr</th>\n",
       "      <th>year</th>\n",
       "      <th>nrEntry</th>\n",
       "      <th>ltue</th>\n",
       "      <th>employed_before</th>\n",
       "      <th>receipt_leh_before</th>\n",
       "      <th>receipt_lhg_before</th>\n",
       "      <th>se_before</th>\n",
       "      <th>ASU_notue_seeking_before</th>\n",
       "      <th>ASU_other_before</th>\n",
       "      <th>...</th>\n",
       "      <th>minijob_tot_dur_byage</th>\n",
       "      <th>ft_tot_dur_byage</th>\n",
       "      <th>befrist_tot_dur_byage</th>\n",
       "      <th>leih_tot_dur_byage</th>\n",
       "      <th>LHG_tot_dur_byage</th>\n",
       "      <th>LEH_tot_dur_byage</th>\n",
       "      <th>almp_tot_dur_byage</th>\n",
       "      <th>almp_aw_tot_dur_byage</th>\n",
       "      <th>se_tot_dur_byage</th>\n",
       "      <th>seeking1_tot_dur_byage</th>\n",
       "    </tr>\n",
       "  </thead>\n",
       "  <tbody>\n",
       "    <tr>\n",
       "      <th>0</th>\n",
       "      <td>7</td>\n",
       "      <td>2015</td>\n",
       "      <td>1</td>\n",
       "      <td>0</td>\n",
       "      <td>1</td>\n",
       "      <td>0</td>\n",
       "      <td>0</td>\n",
       "      <td>0</td>\n",
       "      <td>1</td>\n",
       "      <td>0</td>\n",
       "      <td>...</td>\n",
       "      <td>0.000000</td>\n",
       "      <td>0.000000</td>\n",
       "      <td>15.043478</td>\n",
       "      <td>0.000000</td>\n",
       "      <td>0.000000</td>\n",
       "      <td>0.000000</td>\n",
       "      <td>0.000000</td>\n",
       "      <td>0.000000</td>\n",
       "      <td>0.000000</td>\n",
       "      <td>0.000000</td>\n",
       "    </tr>\n",
       "    <tr>\n",
       "      <th>1</th>\n",
       "      <td>18</td>\n",
       "      <td>2010</td>\n",
       "      <td>1</td>\n",
       "      <td>1</td>\n",
       "      <td>0</td>\n",
       "      <td>0</td>\n",
       "      <td>0</td>\n",
       "      <td>0</td>\n",
       "      <td>0</td>\n",
       "      <td>0</td>\n",
       "      <td>...</td>\n",
       "      <td>0.000000</td>\n",
       "      <td>0.000000</td>\n",
       "      <td>0.000000</td>\n",
       "      <td>0.000000</td>\n",
       "      <td>0.000000</td>\n",
       "      <td>0.000000</td>\n",
       "      <td>0.000000</td>\n",
       "      <td>0.000000</td>\n",
       "      <td>0.000000</td>\n",
       "      <td>0.000000</td>\n",
       "    </tr>\n",
       "    <tr>\n",
       "      <th>2</th>\n",
       "      <td>18</td>\n",
       "      <td>2011</td>\n",
       "      <td>2</td>\n",
       "      <td>0</td>\n",
       "      <td>1</td>\n",
       "      <td>0</td>\n",
       "      <td>1</td>\n",
       "      <td>0</td>\n",
       "      <td>1</td>\n",
       "      <td>0</td>\n",
       "      <td>...</td>\n",
       "      <td>2.714286</td>\n",
       "      <td>2.714286</td>\n",
       "      <td>0.000000</td>\n",
       "      <td>0.000000</td>\n",
       "      <td>10.775510</td>\n",
       "      <td>0.000000</td>\n",
       "      <td>8.367347</td>\n",
       "      <td>0.000000</td>\n",
       "      <td>0.000000</td>\n",
       "      <td>9.836735</td>\n",
       "    </tr>\n",
       "    <tr>\n",
       "      <th>3</th>\n",
       "      <td>18</td>\n",
       "      <td>2012</td>\n",
       "      <td>3</td>\n",
       "      <td>0</td>\n",
       "      <td>1</td>\n",
       "      <td>0</td>\n",
       "      <td>1</td>\n",
       "      <td>0</td>\n",
       "      <td>1</td>\n",
       "      <td>0</td>\n",
       "      <td>...</td>\n",
       "      <td>4.200000</td>\n",
       "      <td>4.200000</td>\n",
       "      <td>0.000000</td>\n",
       "      <td>0.000000</td>\n",
       "      <td>12.100000</td>\n",
       "      <td>0.000000</td>\n",
       "      <td>9.400000</td>\n",
       "      <td>0.000000</td>\n",
       "      <td>0.000000</td>\n",
       "      <td>9.960000</td>\n",
       "    </tr>\n",
       "    <tr>\n",
       "      <th>4</th>\n",
       "      <td>18</td>\n",
       "      <td>2012</td>\n",
       "      <td>4</td>\n",
       "      <td>0</td>\n",
       "      <td>1</td>\n",
       "      <td>0</td>\n",
       "      <td>1</td>\n",
       "      <td>0</td>\n",
       "      <td>1</td>\n",
       "      <td>0</td>\n",
       "      <td>...</td>\n",
       "      <td>5.460000</td>\n",
       "      <td>5.460000</td>\n",
       "      <td>0.000000</td>\n",
       "      <td>0.000000</td>\n",
       "      <td>13.360000</td>\n",
       "      <td>0.000000</td>\n",
       "      <td>10.320000</td>\n",
       "      <td>0.000000</td>\n",
       "      <td>0.000000</td>\n",
       "      <td>10.280000</td>\n",
       "    </tr>\n",
       "    <tr>\n",
       "      <th>...</th>\n",
       "      <td>...</td>\n",
       "      <td>...</td>\n",
       "      <td>...</td>\n",
       "      <td>...</td>\n",
       "      <td>...</td>\n",
       "      <td>...</td>\n",
       "      <td>...</td>\n",
       "      <td>...</td>\n",
       "      <td>...</td>\n",
       "      <td>...</td>\n",
       "      <td>...</td>\n",
       "      <td>...</td>\n",
       "      <td>...</td>\n",
       "      <td>...</td>\n",
       "      <td>...</td>\n",
       "      <td>...</td>\n",
       "      <td>...</td>\n",
       "      <td>...</td>\n",
       "      <td>...</td>\n",
       "      <td>...</td>\n",
       "      <td>...</td>\n",
       "    </tr>\n",
       "    <tr>\n",
       "      <th>643685</th>\n",
       "      <td>1827860</td>\n",
       "      <td>2013</td>\n",
       "      <td>1</td>\n",
       "      <td>0</td>\n",
       "      <td>0</td>\n",
       "      <td>0</td>\n",
       "      <td>1</td>\n",
       "      <td>0</td>\n",
       "      <td>0</td>\n",
       "      <td>1</td>\n",
       "      <td>...</td>\n",
       "      <td>0.000000</td>\n",
       "      <td>0.000000</td>\n",
       "      <td>0.000000</td>\n",
       "      <td>0.000000</td>\n",
       "      <td>0.612903</td>\n",
       "      <td>0.000000</td>\n",
       "      <td>0.000000</td>\n",
       "      <td>0.000000</td>\n",
       "      <td>0.000000</td>\n",
       "      <td>0.000000</td>\n",
       "    </tr>\n",
       "    <tr>\n",
       "      <th>643686</th>\n",
       "      <td>1827860</td>\n",
       "      <td>2015</td>\n",
       "      <td>2</td>\n",
       "      <td>1</td>\n",
       "      <td>0</td>\n",
       "      <td>0</td>\n",
       "      <td>1</td>\n",
       "      <td>0</td>\n",
       "      <td>1</td>\n",
       "      <td>0</td>\n",
       "      <td>...</td>\n",
       "      <td>0.000000</td>\n",
       "      <td>0.000000</td>\n",
       "      <td>0.212121</td>\n",
       "      <td>0.212121</td>\n",
       "      <td>17.363636</td>\n",
       "      <td>0.000000</td>\n",
       "      <td>8.909091</td>\n",
       "      <td>0.000000</td>\n",
       "      <td>0.000000</td>\n",
       "      <td>7.121212</td>\n",
       "    </tr>\n",
       "    <tr>\n",
       "      <th>643687</th>\n",
       "      <td>1827860</td>\n",
       "      <td>2016</td>\n",
       "      <td>3</td>\n",
       "      <td>1</td>\n",
       "      <td>0</td>\n",
       "      <td>0</td>\n",
       "      <td>1</td>\n",
       "      <td>1</td>\n",
       "      <td>0</td>\n",
       "      <td>1</td>\n",
       "      <td>...</td>\n",
       "      <td>0.000000</td>\n",
       "      <td>0.000000</td>\n",
       "      <td>0.294118</td>\n",
       "      <td>0.205882</td>\n",
       "      <td>34.705882</td>\n",
       "      <td>0.000000</td>\n",
       "      <td>10.352941</td>\n",
       "      <td>1.705882</td>\n",
       "      <td>1.705882</td>\n",
       "      <td>23.911765</td>\n",
       "    </tr>\n",
       "    <tr>\n",
       "      <th>643688</th>\n",
       "      <td>1827869</td>\n",
       "      <td>2013</td>\n",
       "      <td>1</td>\n",
       "      <td>1</td>\n",
       "      <td>1</td>\n",
       "      <td>0</td>\n",
       "      <td>0</td>\n",
       "      <td>0</td>\n",
       "      <td>1</td>\n",
       "      <td>0</td>\n",
       "      <td>...</td>\n",
       "      <td>0.000000</td>\n",
       "      <td>0.000000</td>\n",
       "      <td>0.000000</td>\n",
       "      <td>0.000000</td>\n",
       "      <td>0.000000</td>\n",
       "      <td>0.525424</td>\n",
       "      <td>0.000000</td>\n",
       "      <td>0.000000</td>\n",
       "      <td>0.000000</td>\n",
       "      <td>0.000000</td>\n",
       "    </tr>\n",
       "    <tr>\n",
       "      <th>643689</th>\n",
       "      <td>1827869</td>\n",
       "      <td>2014</td>\n",
       "      <td>2</td>\n",
       "      <td>0</td>\n",
       "      <td>0</td>\n",
       "      <td>1</td>\n",
       "      <td>0</td>\n",
       "      <td>0</td>\n",
       "      <td>1</td>\n",
       "      <td>0</td>\n",
       "      <td>...</td>\n",
       "      <td>0.000000</td>\n",
       "      <td>0.666667</td>\n",
       "      <td>0.666667</td>\n",
       "      <td>0.000000</td>\n",
       "      <td>0.000000</td>\n",
       "      <td>8.950000</td>\n",
       "      <td>1.033333</td>\n",
       "      <td>0.083333</td>\n",
       "      <td>0.083333</td>\n",
       "      <td>8.133333</td>\n",
       "    </tr>\n",
       "  </tbody>\n",
       "</table>\n",
       "<p>643690 rows × 164 columns</p>\n",
       "</div>"
      ],
      "text/plain": [
       "         persnr  year  nrEntry  ltue  employed_before  receipt_leh_before  \\\n",
       "0             7  2015        1     0                1                   0   \n",
       "1            18  2010        1     1                0                   0   \n",
       "2            18  2011        2     0                1                   0   \n",
       "3            18  2012        3     0                1                   0   \n",
       "4            18  2012        4     0                1                   0   \n",
       "...         ...   ...      ...   ...              ...                 ...   \n",
       "643685  1827860  2013        1     0                0                   0   \n",
       "643686  1827860  2015        2     1                0                   0   \n",
       "643687  1827860  2016        3     1                0                   0   \n",
       "643688  1827869  2013        1     1                1                   0   \n",
       "643689  1827869  2014        2     0                0                   1   \n",
       "\n",
       "        receipt_lhg_before  se_before  ASU_notue_seeking_before  \\\n",
       "0                        0          0                         1   \n",
       "1                        0          0                         0   \n",
       "2                        1          0                         1   \n",
       "3                        1          0                         1   \n",
       "4                        1          0                         1   \n",
       "...                    ...        ...                       ...   \n",
       "643685                   1          0                         0   \n",
       "643686                   1          0                         1   \n",
       "643687                   1          1                         0   \n",
       "643688                   0          0                         1   \n",
       "643689                   0          0                         1   \n",
       "\n",
       "        ASU_other_before  ...  minijob_tot_dur_byage  ft_tot_dur_byage  \\\n",
       "0                      0  ...               0.000000          0.000000   \n",
       "1                      0  ...               0.000000          0.000000   \n",
       "2                      0  ...               2.714286          2.714286   \n",
       "3                      0  ...               4.200000          4.200000   \n",
       "4                      0  ...               5.460000          5.460000   \n",
       "...                  ...  ...                    ...               ...   \n",
       "643685                 1  ...               0.000000          0.000000   \n",
       "643686                 0  ...               0.000000          0.000000   \n",
       "643687                 1  ...               0.000000          0.000000   \n",
       "643688                 0  ...               0.000000          0.000000   \n",
       "643689                 0  ...               0.000000          0.666667   \n",
       "\n",
       "        befrist_tot_dur_byage  leih_tot_dur_byage  LHG_tot_dur_byage  \\\n",
       "0                   15.043478            0.000000           0.000000   \n",
       "1                    0.000000            0.000000           0.000000   \n",
       "2                    0.000000            0.000000          10.775510   \n",
       "3                    0.000000            0.000000          12.100000   \n",
       "4                    0.000000            0.000000          13.360000   \n",
       "...                       ...                 ...                ...   \n",
       "643685               0.000000            0.000000           0.612903   \n",
       "643686               0.212121            0.212121          17.363636   \n",
       "643687               0.294118            0.205882          34.705882   \n",
       "643688               0.000000            0.000000           0.000000   \n",
       "643689               0.666667            0.000000           0.000000   \n",
       "\n",
       "        LEH_tot_dur_byage  almp_tot_dur_byage  almp_aw_tot_dur_byage  \\\n",
       "0                0.000000            0.000000               0.000000   \n",
       "1                0.000000            0.000000               0.000000   \n",
       "2                0.000000            8.367347               0.000000   \n",
       "3                0.000000            9.400000               0.000000   \n",
       "4                0.000000           10.320000               0.000000   \n",
       "...                   ...                 ...                    ...   \n",
       "643685           0.000000            0.000000               0.000000   \n",
       "643686           0.000000            8.909091               0.000000   \n",
       "643687           0.000000           10.352941               1.705882   \n",
       "643688           0.525424            0.000000               0.000000   \n",
       "643689           8.950000            1.033333               0.083333   \n",
       "\n",
       "        se_tot_dur_byage  seeking1_tot_dur_byage  \n",
       "0               0.000000                0.000000  \n",
       "1               0.000000                0.000000  \n",
       "2               0.000000                9.836735  \n",
       "3               0.000000                9.960000  \n",
       "4               0.000000               10.280000  \n",
       "...                  ...                     ...  \n",
       "643685          0.000000                0.000000  \n",
       "643686          0.000000                7.121212  \n",
       "643687          1.705882               23.911765  \n",
       "643688          0.000000                0.000000  \n",
       "643689          0.083333                8.133333  \n",
       "\n",
       "[643690 rows x 164 columns]"
      ]
     },
     "execution_count": 10,
     "metadata": {},
     "output_type": "execute_result"
    }
   ],
   "source": [
    "siab"
   ]
  },
  {
   "cell_type": "markdown",
   "id": "1f87e805",
   "metadata": {
    "papermill": {
     "duration": 0.010013,
     "end_time": "2025-08-19T18:36:16.651980",
     "exception": false,
     "start_time": "2025-08-19T18:36:16.641967",
     "status": "completed"
    },
    "tags": []
   },
   "source": [
    "# Splitting Data and Setting Training Data Size"
   ]
  },
  {
   "cell_type": "code",
   "execution_count": 11,
   "id": "910ae358",
   "metadata": {
    "execution": {
     "iopub.execute_input": "2025-08-19T18:36:16.673845Z",
     "iopub.status.busy": "2025-08-19T18:36:16.672667Z",
     "iopub.status.idle": "2025-08-19T18:36:17.363807Z",
     "shell.execute_reply": "2025-08-19T18:36:17.362845Z"
    },
    "papermill": {
     "duration": 0.704434,
     "end_time": "2025-08-19T18:36:17.366090",
     "exception": false,
     "start_time": "2025-08-19T18:36:16.661656",
     "status": "completed"
    },
    "tags": []
   },
   "outputs": [],
   "source": [
    "from fairness_multiverse.universe import sample_by_year_size\n",
    "\n",
    "siab_train = sample_by_year_size(siab,\n",
    "                               training_year=universe[\"training_year\"],\n",
    "                               training_size=universe[\"training_size\"])"
   ]
  },
  {
   "cell_type": "code",
   "execution_count": 12,
   "id": "919c8ff5",
   "metadata": {
    "execution": {
     "iopub.execute_input": "2025-08-19T18:36:17.388212Z",
     "iopub.status.busy": "2025-08-19T18:36:17.387236Z",
     "iopub.status.idle": "2025-08-19T18:36:17.395518Z",
     "shell.execute_reply": "2025-08-19T18:36:17.394475Z"
    },
    "papermill": {
     "duration": 0.020489,
     "end_time": "2025-08-19T18:36:17.396984",
     "exception": false,
     "start_time": "2025-08-19T18:36:17.376495",
     "status": "completed"
    },
    "tags": []
   },
   "outputs": [
    {
     "data": {
      "text/plain": [
       "(5000, 164)"
      ]
     },
     "execution_count": 12,
     "metadata": {},
     "output_type": "execute_result"
    }
   ],
   "source": [
    "siab_train.shape"
   ]
  },
  {
   "cell_type": "code",
   "execution_count": 13,
   "id": "feb13bf4",
   "metadata": {
    "execution": {
     "iopub.execute_input": "2025-08-19T18:36:17.421118Z",
     "iopub.status.busy": "2025-08-19T18:36:17.420161Z",
     "iopub.status.idle": "2025-08-19T18:36:17.447608Z",
     "shell.execute_reply": "2025-08-19T18:36:17.446386Z"
    },
    "papermill": {
     "duration": 0.040879,
     "end_time": "2025-08-19T18:36:17.449598",
     "exception": false,
     "start_time": "2025-08-19T18:36:17.408719",
     "status": "completed"
    },
    "tags": []
   },
   "outputs": [
    {
     "data": {
      "text/plain": [
       "year\n",
       "2012    1667\n",
       "2013    1667\n",
       "2014    1666\n",
       "dtype: int64"
      ]
     },
     "metadata": {},
     "output_type": "display_data"
    }
   ],
   "source": [
    "display(siab_train.groupby(\"year\").size())"
   ]
  },
  {
   "cell_type": "code",
   "execution_count": 14,
   "id": "0997782f",
   "metadata": {
    "execution": {
     "iopub.execute_input": "2025-08-19T18:36:17.480905Z",
     "iopub.status.busy": "2025-08-19T18:36:17.479539Z",
     "iopub.status.idle": "2025-08-19T18:36:17.819975Z",
     "shell.execute_reply": "2025-08-19T18:36:17.818878Z"
    },
    "papermill": {
     "duration": 0.355415,
     "end_time": "2025-08-19T18:36:17.821662",
     "exception": false,
     "start_time": "2025-08-19T18:36:17.466247",
     "status": "completed"
    },
    "tags": []
   },
   "outputs": [],
   "source": [
    "#siab_train = siab_s[siab_s.year < 2015]\n",
    "siab_calib = siab[siab.year == 2015]\n",
    "siab_test = siab[siab.year == 2016]"
   ]
  },
  {
   "cell_type": "code",
   "execution_count": 15,
   "id": "2c1e4012",
   "metadata": {
    "execution": {
     "iopub.execute_input": "2025-08-19T18:36:17.856566Z",
     "iopub.status.busy": "2025-08-19T18:36:17.855182Z",
     "iopub.status.idle": "2025-08-19T18:36:17.861210Z",
     "shell.execute_reply": "2025-08-19T18:36:17.860382Z"
    },
    "papermill": {
     "duration": 0.033571,
     "end_time": "2025-08-19T18:36:17.867068",
     "exception": false,
     "start_time": "2025-08-19T18:36:17.833497",
     "status": "completed"
    },
    "tags": []
   },
   "outputs": [],
   "source": [
    "#siab_calib.shape"
   ]
  },
  {
   "cell_type": "code",
   "execution_count": 16,
   "id": "f66b54ca",
   "metadata": {
    "execution": {
     "iopub.execute_input": "2025-08-19T18:36:17.919607Z",
     "iopub.status.busy": "2025-08-19T18:36:17.919114Z",
     "iopub.status.idle": "2025-08-19T18:36:17.924930Z",
     "shell.execute_reply": "2025-08-19T18:36:17.923865Z"
    },
    "papermill": {
     "duration": 0.044187,
     "end_time": "2025-08-19T18:36:17.932722",
     "exception": false,
     "start_time": "2025-08-19T18:36:17.888535",
     "status": "completed"
    },
    "tags": []
   },
   "outputs": [],
   "source": [
    "#siab_test.shape"
   ]
  },
  {
   "cell_type": "code",
   "execution_count": 17,
   "id": "27e4384d",
   "metadata": {
    "execution": {
     "iopub.execute_input": "2025-08-19T18:36:17.957606Z",
     "iopub.status.busy": "2025-08-19T18:36:17.956955Z",
     "iopub.status.idle": "2025-08-19T18:36:17.968752Z",
     "shell.execute_reply": "2025-08-19T18:36:17.967786Z"
    },
    "papermill": {
     "duration": 0.025719,
     "end_time": "2025-08-19T18:36:17.970433",
     "exception": false,
     "start_time": "2025-08-19T18:36:17.944714",
     "status": "completed"
    },
    "tags": []
   },
   "outputs": [],
   "source": [
    "X_train = siab_train.iloc[:,4:164]\n",
    "y_train = siab_train.iloc[:, [3]]"
   ]
  },
  {
   "cell_type": "code",
   "execution_count": 18,
   "id": "08ee8389",
   "metadata": {
    "execution": {
     "iopub.execute_input": "2025-08-19T18:36:17.994322Z",
     "iopub.status.busy": "2025-08-19T18:36:17.993855Z",
     "iopub.status.idle": "2025-08-19T18:36:18.068385Z",
     "shell.execute_reply": "2025-08-19T18:36:18.067256Z"
    },
    "papermill": {
     "duration": 0.08738,
     "end_time": "2025-08-19T18:36:18.069844",
     "exception": false,
     "start_time": "2025-08-19T18:36:17.982464",
     "status": "completed"
    },
    "tags": []
   },
   "outputs": [],
   "source": [
    "X_calib = siab_calib.iloc[:,4:164]\n",
    "y_calib = siab_calib.iloc[:, [3]]"
   ]
  },
  {
   "cell_type": "code",
   "execution_count": 19,
   "id": "b7ff42e0",
   "metadata": {
    "execution": {
     "iopub.execute_input": "2025-08-19T18:36:18.097294Z",
     "iopub.status.busy": "2025-08-19T18:36:18.096489Z",
     "iopub.status.idle": "2025-08-19T18:36:18.261539Z",
     "shell.execute_reply": "2025-08-19T18:36:18.259980Z"
    },
    "papermill": {
     "duration": 0.184542,
     "end_time": "2025-08-19T18:36:18.265370",
     "exception": false,
     "start_time": "2025-08-19T18:36:18.080828",
     "status": "completed"
    },
    "tags": []
   },
   "outputs": [],
   "source": [
    "X_test = siab_test.iloc[:,4:164]\n",
    "y_true = siab_test.iloc[:, [3]]"
   ]
  },
  {
   "cell_type": "code",
   "execution_count": 20,
   "id": "0275101e",
   "metadata": {
    "execution": {
     "iopub.execute_input": "2025-08-19T18:36:18.287924Z",
     "iopub.status.busy": "2025-08-19T18:36:18.287628Z",
     "iopub.status.idle": "2025-08-19T18:36:18.423297Z",
     "shell.execute_reply": "2025-08-19T18:36:18.421747Z"
    },
    "papermill": {
     "duration": 0.148486,
     "end_time": "2025-08-19T18:36:18.425086",
     "exception": false,
     "start_time": "2025-08-19T18:36:18.276600",
     "status": "completed"
    },
    "tags": []
   },
   "outputs": [],
   "source": [
    "# Auxiliary data needed downstream in the pipeline\n",
    "\n",
    "org_train = X_train.copy()\n",
    "org_test = X_test.copy()\n",
    "org_calib = X_calib.copy()"
   ]
  },
  {
   "cell_type": "markdown",
   "id": "b461e618",
   "metadata": {
    "papermill": {
     "duration": 0.01352,
     "end_time": "2025-08-19T18:36:18.450164",
     "exception": false,
     "start_time": "2025-08-19T18:36:18.436644",
     "status": "completed"
    },
    "tags": []
   },
   "source": [
    "# Preprocessing Data"
   ]
  },
  {
   "cell_type": "code",
   "execution_count": 21,
   "id": "78e74c4b",
   "metadata": {
    "execution": {
     "iopub.execute_input": "2025-08-19T18:36:18.473043Z",
     "iopub.status.busy": "2025-08-19T18:36:18.472581Z",
     "iopub.status.idle": "2025-08-19T18:36:18.478406Z",
     "shell.execute_reply": "2025-08-19T18:36:18.477547Z"
    },
    "papermill": {
     "duration": 0.018626,
     "end_time": "2025-08-19T18:36:18.479801",
     "exception": false,
     "start_time": "2025-08-19T18:36:18.461175",
     "status": "completed"
    },
    "tags": []
   },
   "outputs": [],
   "source": [
    "# EXCLUDE PROTECTED FEATURES\n",
    "# --------------------------\n",
    "\n",
    "excluded_features = universe[\"exclude_features\"].split(\"-\")\n",
    "excluded_features_dictionary = {\n",
    "    \"nationality\": [\"maxdeutsch1\", \"maxdeutsch.Missing.\"],\n",
    "    \"sex\": [\"frau1\"],\n",
    "    \"age\": [\"age\"],\n",
    "}"
   ]
  },
  {
   "cell_type": "code",
   "execution_count": 22,
   "id": "f8e63555",
   "metadata": {
    "execution": {
     "iopub.execute_input": "2025-08-19T18:36:18.503214Z",
     "iopub.status.busy": "2025-08-19T18:36:18.502749Z",
     "iopub.status.idle": "2025-08-19T18:36:18.513298Z",
     "shell.execute_reply": "2025-08-19T18:36:18.512300Z"
    },
    "papermill": {
     "duration": 0.023622,
     "end_time": "2025-08-19T18:36:18.514910",
     "exception": false,
     "start_time": "2025-08-19T18:36:18.491288",
     "status": "completed"
    },
    "tags": []
   },
   "outputs": [],
   "source": [
    "excluded_features_columns = [\n",
    "    excluded_features_dictionary[f] for f in excluded_features if len(f) > 0 and f != \"none\"\n",
    "]"
   ]
  },
  {
   "cell_type": "code",
   "execution_count": 23,
   "id": "da781f7c",
   "metadata": {
    "execution": {
     "iopub.execute_input": "2025-08-19T18:36:18.538692Z",
     "iopub.status.busy": "2025-08-19T18:36:18.538192Z",
     "iopub.status.idle": "2025-08-19T18:36:18.545014Z",
     "shell.execute_reply": "2025-08-19T18:36:18.544091Z"
    },
    "papermill": {
     "duration": 0.020083,
     "end_time": "2025-08-19T18:36:18.546415",
     "exception": false,
     "start_time": "2025-08-19T18:36:18.526332",
     "status": "completed"
    },
    "tags": []
   },
   "outputs": [],
   "source": [
    "from fairness_multiverse.universe import flatten_once\n",
    "\n",
    "excluded_features_columns = flatten_once(excluded_features_columns)"
   ]
  },
  {
   "cell_type": "code",
   "execution_count": 24,
   "id": "37fef0f0",
   "metadata": {
    "execution": {
     "iopub.execute_input": "2025-08-19T18:36:18.570241Z",
     "iopub.status.busy": "2025-08-19T18:36:18.569758Z",
     "iopub.status.idle": "2025-08-19T18:36:18.922897Z",
     "shell.execute_reply": "2025-08-19T18:36:18.921290Z"
    },
    "papermill": {
     "duration": 0.367347,
     "end_time": "2025-08-19T18:36:18.924953",
     "exception": false,
     "start_time": "2025-08-19T18:36:18.557606",
     "status": "completed"
    },
    "tags": []
   },
   "outputs": [
    {
     "name": "stdout",
     "output_type": "stream",
     "text": [
      "Dropping features: ['maxdeutsch1', 'maxdeutsch.Missing.']\n"
     ]
    }
   ],
   "source": [
    "if len(excluded_features_columns) > 0:\n",
    "    print(f\"Dropping features: {excluded_features_columns}\")\n",
    "    X_train.drop(excluded_features_columns, axis=1, inplace=True)"
   ]
  },
  {
   "cell_type": "code",
   "execution_count": 25,
   "id": "d029e3e9",
   "metadata": {
    "execution": {
     "iopub.execute_input": "2025-08-19T18:36:18.951374Z",
     "iopub.status.busy": "2025-08-19T18:36:18.949340Z",
     "iopub.status.idle": "2025-08-19T18:36:19.020758Z",
     "shell.execute_reply": "2025-08-19T18:36:19.019435Z"
    },
    "papermill": {
     "duration": 0.088286,
     "end_time": "2025-08-19T18:36:19.024569",
     "exception": false,
     "start_time": "2025-08-19T18:36:18.936283",
     "status": "completed"
    },
    "tags": []
   },
   "outputs": [
    {
     "name": "stdout",
     "output_type": "stream",
     "text": [
      "Dropping features: ['maxdeutsch1', 'maxdeutsch.Missing.']\n"
     ]
    }
   ],
   "source": [
    "if len(excluded_features_columns) > 0:\n",
    "    print(f\"Dropping features: {excluded_features_columns}\")\n",
    "    X_test.drop(excluded_features_columns, axis=1, inplace=True)"
   ]
  },
  {
   "cell_type": "code",
   "execution_count": 26,
   "id": "01d571f0",
   "metadata": {
    "execution": {
     "iopub.execute_input": "2025-08-19T18:36:19.054555Z",
     "iopub.status.busy": "2025-08-19T18:36:19.054007Z",
     "iopub.status.idle": "2025-08-19T18:36:19.153881Z",
     "shell.execute_reply": "2025-08-19T18:36:19.153009Z"
    },
    "papermill": {
     "duration": 0.114128,
     "end_time": "2025-08-19T18:36:19.155643",
     "exception": false,
     "start_time": "2025-08-19T18:36:19.041515",
     "status": "completed"
    },
    "tags": []
   },
   "outputs": [
    {
     "name": "stdout",
     "output_type": "stream",
     "text": [
      "Dropping features: ['maxdeutsch1', 'maxdeutsch.Missing.']\n"
     ]
    }
   ],
   "source": [
    "if len(excluded_features_columns) > 0:\n",
    "    print(f\"Dropping features: {excluded_features_columns}\")\n",
    "    X_calib.drop(excluded_features_columns, axis=1, inplace=True)"
   ]
  },
  {
   "cell_type": "code",
   "execution_count": 27,
   "id": "3037356e",
   "metadata": {
    "execution": {
     "iopub.execute_input": "2025-08-19T18:36:19.197776Z",
     "iopub.status.busy": "2025-08-19T18:36:19.196104Z",
     "iopub.status.idle": "2025-08-19T18:36:19.206156Z",
     "shell.execute_reply": "2025-08-19T18:36:19.204027Z"
    },
    "papermill": {
     "duration": 0.027066,
     "end_time": "2025-08-19T18:36:19.207928",
     "exception": false,
     "start_time": "2025-08-19T18:36:19.180862",
     "status": "completed"
    },
    "tags": []
   },
   "outputs": [],
   "source": [
    "# EXCLUDE CERTAIN SUBGROUPS\n",
    "# -------------------------\n",
    "\n",
    "mode = universe.get(\"exclude_subgroups\", \"keep-all\") # Defaults to \"keep-all\" if the key is missing."
   ]
  },
  {
   "cell_type": "code",
   "execution_count": 28,
   "id": "9d1e63fd",
   "metadata": {
    "execution": {
     "iopub.execute_input": "2025-08-19T18:36:19.236122Z",
     "iopub.status.busy": "2025-08-19T18:36:19.234599Z",
     "iopub.status.idle": "2025-08-19T18:36:19.246591Z",
     "shell.execute_reply": "2025-08-19T18:36:19.245359Z"
    },
    "papermill": {
     "duration": 0.02665,
     "end_time": "2025-08-19T18:36:19.248356",
     "exception": false,
     "start_time": "2025-08-19T18:36:19.221706",
     "status": "completed"
    },
    "tags": []
   },
   "outputs": [],
   "source": [
    "if mode == \"keep-all\":\n",
    "    keep_mask = pd.Series(True, index=org_train.index)\n",
    "\n",
    "elif mode == \"drop-non-german\":\n",
    "    keep_mask = (org_train[\"maxdeutsch1\"] == 1) & (org_train[\"maxdeutsch.Missing.\"] == 0)\n",
    "\n",
    "else:\n",
    "    raise ValueError(f\"Unsupported mode for exclude_subgroups: {mode}\")"
   ]
  },
  {
   "cell_type": "code",
   "execution_count": 29,
   "id": "d3b65474",
   "metadata": {
    "execution": {
     "iopub.execute_input": "2025-08-19T18:36:19.275992Z",
     "iopub.status.busy": "2025-08-19T18:36:19.274861Z",
     "iopub.status.idle": "2025-08-19T18:36:19.304796Z",
     "shell.execute_reply": "2025-08-19T18:36:19.284553Z"
    },
    "papermill": {
     "duration": 0.045696,
     "end_time": "2025-08-19T18:36:19.307527",
     "exception": false,
     "start_time": "2025-08-19T18:36:19.261831",
     "status": "completed"
    },
    "tags": []
   },
   "outputs": [],
   "source": [
    "n_drop = (~keep_mask).sum() # Calculates how many rows are set to be dropped\n",
    "if n_drop > 0:\n",
    "    pct = n_drop / len(keep_mask) * 100\n",
    "    print(f\"Dropping {n_drop} rows ({pct:.2f}%) where mode='{mode}'\")"
   ]
  },
  {
   "cell_type": "code",
   "execution_count": 30,
   "id": "f44389b3",
   "metadata": {
    "execution": {
     "iopub.execute_input": "2025-08-19T18:36:19.345069Z",
     "iopub.status.busy": "2025-08-19T18:36:19.344564Z",
     "iopub.status.idle": "2025-08-19T18:36:19.416278Z",
     "shell.execute_reply": "2025-08-19T18:36:19.415292Z"
    },
    "papermill": {
     "duration": 0.088287,
     "end_time": "2025-08-19T18:36:19.418050",
     "exception": false,
     "start_time": "2025-08-19T18:36:19.329763",
     "status": "completed"
    },
    "tags": []
   },
   "outputs": [],
   "source": [
    "X_train = X_train[keep_mask]"
   ]
  },
  {
   "cell_type": "code",
   "execution_count": 31,
   "id": "ceca8c2a",
   "metadata": {
    "execution": {
     "iopub.execute_input": "2025-08-19T18:36:19.444174Z",
     "iopub.status.busy": "2025-08-19T18:36:19.443015Z",
     "iopub.status.idle": "2025-08-19T18:36:20.056990Z",
     "shell.execute_reply": "2025-08-19T18:36:20.055949Z"
    },
    "papermill": {
     "duration": 0.6301,
     "end_time": "2025-08-19T18:36:20.060526",
     "exception": false,
     "start_time": "2025-08-19T18:36:19.430426",
     "status": "completed"
    },
    "tags": []
   },
   "outputs": [],
   "source": [
    "y_train = y_train[keep_mask]"
   ]
  },
  {
   "cell_type": "markdown",
   "id": "04d31e2f",
   "metadata": {
    "papermill": {
     "duration": 0.010694,
     "end_time": "2025-08-19T18:36:20.094385",
     "exception": false,
     "start_time": "2025-08-19T18:36:20.083691",
     "status": "completed"
    },
    "tags": []
   },
   "source": [
    "# Model Training"
   ]
  },
  {
   "cell_type": "code",
   "execution_count": 32,
   "id": "db991733",
   "metadata": {
    "execution": {
     "iopub.execute_input": "2025-08-19T18:36:20.119129Z",
     "iopub.status.busy": "2025-08-19T18:36:20.117752Z",
     "iopub.status.idle": "2025-08-19T18:36:20.273101Z",
     "shell.execute_reply": "2025-08-19T18:36:20.272331Z"
    },
    "papermill": {
     "duration": 0.17043,
     "end_time": "2025-08-19T18:36:20.275511",
     "exception": false,
     "start_time": "2025-08-19T18:36:20.105081",
     "status": "completed"
    },
    "tags": []
   },
   "outputs": [],
   "source": [
    "from sklearn.linear_model import LogisticRegression\n",
    "from sklearn.ensemble import GradientBoostingClassifier, RandomForestClassifier\n",
    "\n",
    "if (universe[\"model\"] == \"logreg\"):\n",
    "    model = LogisticRegression() #penalty=\"none\", solver=\"newton-cg\", max_iter=1)\n",
    "elif (universe[\"model\"] == \"penalized_logreg\"):\n",
    "    model = LogisticRegression(penalty=\"l2\", C=0.1) #, solver=\"newton-cg\", max_iter=1)\n",
    "elif (universe[\"model\"] == \"rf\"):\n",
    "    model = RandomForestClassifier() # n_estimators=100, n_jobs=-1\n",
    "elif (universe[\"model\"] == \"gbm\"):\n",
    "    model = GradientBoostingClassifier()\n",
    "elif (universe[\"model\"] == \"elasticnet\"):\n",
    "    model = LogisticRegression(penalty = 'elasticnet', solver = 'saga', l1_ratio = 0.5) # max_iter=5000\n",
    "else:\n",
    "    raise \"Unsupported universe.model\""
   ]
  },
  {
   "cell_type": "code",
   "execution_count": 33,
   "id": "a4b5cd25",
   "metadata": {
    "execution": {
     "iopub.execute_input": "2025-08-19T18:36:20.312887Z",
     "iopub.status.busy": "2025-08-19T18:36:20.310820Z",
     "iopub.status.idle": "2025-08-19T18:36:20.327568Z",
     "shell.execute_reply": "2025-08-19T18:36:20.326309Z"
    },
    "papermill": {
     "duration": 0.039179,
     "end_time": "2025-08-19T18:36:20.329022",
     "exception": false,
     "start_time": "2025-08-19T18:36:20.289843",
     "status": "completed"
    },
    "tags": []
   },
   "outputs": [],
   "source": [
    "from sklearn.pipeline import Pipeline\n",
    "from sklearn.preprocessing import StandardScaler\n",
    "\n",
    "model = Pipeline([\n",
    "    #(\"continuous_processor\", continuous_processor),\n",
    "    #(\"categorical_preprocessor\", categorical_preprocessor),\n",
    "    (\"scale\", StandardScaler() if universe[\"scale\"] == \"scale\" else None), \n",
    "    (\"model\", model),\n",
    "])"
   ]
  },
  {
   "cell_type": "code",
   "execution_count": 34,
   "id": "283a904d",
   "metadata": {
    "execution": {
     "iopub.execute_input": "2025-08-19T18:36:20.362184Z",
     "iopub.status.busy": "2025-08-19T18:36:20.361066Z",
     "iopub.status.idle": "2025-08-19T18:36:20.580514Z",
     "shell.execute_reply": "2025-08-19T18:36:20.579784Z"
    },
    "papermill": {
     "duration": 0.240313,
     "end_time": "2025-08-19T18:36:20.582415",
     "exception": false,
     "start_time": "2025-08-19T18:36:20.342102",
     "status": "completed"
    },
    "tags": []
   },
   "outputs": [
    {
     "name": "stderr",
     "output_type": "stream",
     "text": [
      "/dss/dsshome1/0C/ra93lal2/.local/share/virtualenvs/CMA_Fairness_v2-3j10GkSs/lib/python3.10/site-packages/sklearn/linear_model/_logistic.py:444: ConvergenceWarning: lbfgs failed to converge (status=1):\n",
      "STOP: TOTAL NO. of ITERATIONS REACHED LIMIT.\n",
      "\n",
      "Increase the number of iterations (max_iter) or scale the data as shown in:\n",
      "    https://scikit-learn.org/stable/modules/preprocessing.html\n",
      "Please also refer to the documentation for alternative solver options:\n",
      "    https://scikit-learn.org/stable/modules/linear_model.html#logistic-regression\n",
      "  n_iter_i = _check_optimize_result(\n"
     ]
    },
    {
     "data": {
      "text/html": [
       "<style>#sk-container-id-1 {color: black;background-color: white;}#sk-container-id-1 pre{padding: 0;}#sk-container-id-1 div.sk-toggleable {background-color: white;}#sk-container-id-1 label.sk-toggleable__label {cursor: pointer;display: block;width: 100%;margin-bottom: 0;padding: 0.3em;box-sizing: border-box;text-align: center;}#sk-container-id-1 label.sk-toggleable__label-arrow:before {content: \"▸\";float: left;margin-right: 0.25em;color: #696969;}#sk-container-id-1 label.sk-toggleable__label-arrow:hover:before {color: black;}#sk-container-id-1 div.sk-estimator:hover label.sk-toggleable__label-arrow:before {color: black;}#sk-container-id-1 div.sk-toggleable__content {max-height: 0;max-width: 0;overflow: hidden;text-align: left;background-color: #f0f8ff;}#sk-container-id-1 div.sk-toggleable__content pre {margin: 0.2em;color: black;border-radius: 0.25em;background-color: #f0f8ff;}#sk-container-id-1 input.sk-toggleable__control:checked~div.sk-toggleable__content {max-height: 200px;max-width: 100%;overflow: auto;}#sk-container-id-1 input.sk-toggleable__control:checked~label.sk-toggleable__label-arrow:before {content: \"▾\";}#sk-container-id-1 div.sk-estimator input.sk-toggleable__control:checked~label.sk-toggleable__label {background-color: #d4ebff;}#sk-container-id-1 div.sk-label input.sk-toggleable__control:checked~label.sk-toggleable__label {background-color: #d4ebff;}#sk-container-id-1 input.sk-hidden--visually {border: 0;clip: rect(1px 1px 1px 1px);clip: rect(1px, 1px, 1px, 1px);height: 1px;margin: -1px;overflow: hidden;padding: 0;position: absolute;width: 1px;}#sk-container-id-1 div.sk-estimator {font-family: monospace;background-color: #f0f8ff;border: 1px dotted black;border-radius: 0.25em;box-sizing: border-box;margin-bottom: 0.5em;}#sk-container-id-1 div.sk-estimator:hover {background-color: #d4ebff;}#sk-container-id-1 div.sk-parallel-item::after {content: \"\";width: 100%;border-bottom: 1px solid gray;flex-grow: 1;}#sk-container-id-1 div.sk-label:hover label.sk-toggleable__label {background-color: #d4ebff;}#sk-container-id-1 div.sk-serial::before {content: \"\";position: absolute;border-left: 1px solid gray;box-sizing: border-box;top: 0;bottom: 0;left: 50%;z-index: 0;}#sk-container-id-1 div.sk-serial {display: flex;flex-direction: column;align-items: center;background-color: white;padding-right: 0.2em;padding-left: 0.2em;position: relative;}#sk-container-id-1 div.sk-item {position: relative;z-index: 1;}#sk-container-id-1 div.sk-parallel {display: flex;align-items: stretch;justify-content: center;background-color: white;position: relative;}#sk-container-id-1 div.sk-item::before, #sk-container-id-1 div.sk-parallel-item::before {content: \"\";position: absolute;border-left: 1px solid gray;box-sizing: border-box;top: 0;bottom: 0;left: 50%;z-index: -1;}#sk-container-id-1 div.sk-parallel-item {display: flex;flex-direction: column;z-index: 1;position: relative;background-color: white;}#sk-container-id-1 div.sk-parallel-item:first-child::after {align-self: flex-end;width: 50%;}#sk-container-id-1 div.sk-parallel-item:last-child::after {align-self: flex-start;width: 50%;}#sk-container-id-1 div.sk-parallel-item:only-child::after {width: 0;}#sk-container-id-1 div.sk-dashed-wrapped {border: 1px dashed gray;margin: 0 0.4em 0.5em 0.4em;box-sizing: border-box;padding-bottom: 0.4em;background-color: white;}#sk-container-id-1 div.sk-label label {font-family: monospace;font-weight: bold;display: inline-block;line-height: 1.2em;}#sk-container-id-1 div.sk-label-container {text-align: center;}#sk-container-id-1 div.sk-container {/* jupyter's `normalize.less` sets `[hidden] { display: none; }` but bootstrap.min.css set `[hidden] { display: none !important; }` so we also need the `!important` here to be able to override the default hidden behavior on the sphinx rendered scikit-learn.org. See: https://github.com/scikit-learn/scikit-learn/issues/21755 */display: inline-block !important;position: relative;}#sk-container-id-1 div.sk-text-repr-fallback {display: none;}</style><div id=\"sk-container-id-1\" class=\"sk-top-container\"><div class=\"sk-text-repr-fallback\"><pre>Pipeline(steps=[(&#x27;scale&#x27;, None), (&#x27;model&#x27;, LogisticRegression(C=0.1))])</pre><b>In a Jupyter environment, please rerun this cell to show the HTML representation or trust the notebook. <br />On GitHub, the HTML representation is unable to render, please try loading this page with nbviewer.org.</b></div><div class=\"sk-container\" hidden><div class=\"sk-item sk-dashed-wrapped\"><div class=\"sk-label-container\"><div class=\"sk-label sk-toggleable\"><input class=\"sk-toggleable__control sk-hidden--visually\" id=\"sk-estimator-id-1\" type=\"checkbox\" ><label for=\"sk-estimator-id-1\" class=\"sk-toggleable__label sk-toggleable__label-arrow\">Pipeline</label><div class=\"sk-toggleable__content\"><pre>Pipeline(steps=[(&#x27;scale&#x27;, None), (&#x27;model&#x27;, LogisticRegression(C=0.1))])</pre></div></div></div><div class=\"sk-serial\"><div class=\"sk-item\"><div class=\"sk-estimator sk-toggleable\"><input class=\"sk-toggleable__control sk-hidden--visually\" id=\"sk-estimator-id-2\" type=\"checkbox\" ><label for=\"sk-estimator-id-2\" class=\"sk-toggleable__label sk-toggleable__label-arrow\">None</label><div class=\"sk-toggleable__content\"><pre>None</pre></div></div></div><div class=\"sk-item\"><div class=\"sk-estimator sk-toggleable\"><input class=\"sk-toggleable__control sk-hidden--visually\" id=\"sk-estimator-id-3\" type=\"checkbox\" ><label for=\"sk-estimator-id-3\" class=\"sk-toggleable__label sk-toggleable__label-arrow\">LogisticRegression</label><div class=\"sk-toggleable__content\"><pre>LogisticRegression(C=0.1)</pre></div></div></div></div></div></div></div>"
      ],
      "text/plain": [
       "Pipeline(steps=[('scale', None), ('model', LogisticRegression(C=0.1))])"
      ]
     },
     "execution_count": 34,
     "metadata": {},
     "output_type": "execute_result"
    }
   ],
   "source": [
    "model.fit(X_train, y_train.values.ravel())"
   ]
  },
  {
   "cell_type": "code",
   "execution_count": 35,
   "id": "6e15e313",
   "metadata": {
    "execution": {
     "iopub.execute_input": "2025-08-19T18:36:20.622229Z",
     "iopub.status.busy": "2025-08-19T18:36:20.621767Z",
     "iopub.status.idle": "2025-08-19T18:36:20.720010Z",
     "shell.execute_reply": "2025-08-19T18:36:20.719295Z"
    },
    "papermill": {
     "duration": 0.121957,
     "end_time": "2025-08-19T18:36:20.729033",
     "exception": false,
     "start_time": "2025-08-19T18:36:20.607076",
     "status": "completed"
    },
    "tags": []
   },
   "outputs": [
    {
     "data": {
      "text/plain": [
       "0.8616653661799131"
      ]
     },
     "execution_count": 35,
     "metadata": {},
     "output_type": "execute_result"
    }
   ],
   "source": [
    "from fairness_multiverse.universe import predict_w_threshold\n",
    "\n",
    "probs_test = model.predict_proba(X_test)\n",
    "\n",
    "'''\n",
    "Below code returns a boolean array (or binary 0/1 array depending on how it’s used) where each element \n",
    "is True if the probability of class 1 is greater than or equal to the threshold, and False otherwise.\n",
    "'''\n",
    "y_pred_default = predict_w_threshold(probs_test, 0.5)\n",
    "\n",
    "from sklearn.metrics import accuracy_score\n",
    "\n",
    "# Naive prediction\n",
    "accuracy_score(y_true = y_true, y_pred = y_pred_default)"
   ]
  },
  {
   "cell_type": "code",
   "execution_count": 36,
   "id": "6f14067c",
   "metadata": {
    "execution": {
     "iopub.execute_input": "2025-08-19T18:36:20.772239Z",
     "iopub.status.busy": "2025-08-19T18:36:20.770955Z",
     "iopub.status.idle": "2025-08-19T18:36:21.074402Z",
     "shell.execute_reply": "2025-08-19T18:36:21.073169Z"
    },
    "papermill": {
     "duration": 0.320016,
     "end_time": "2025-08-19T18:36:21.075819",
     "exception": false,
     "start_time": "2025-08-19T18:36:20.755803",
     "status": "completed"
    },
    "tags": []
   },
   "outputs": [
    {
     "data": {
      "text/plain": [
       "array([0, 0, 0, ..., 0, 0, 0])"
      ]
     },
     "execution_count": 36,
     "metadata": {},
     "output_type": "execute_result"
    }
   ],
   "source": [
    "model.predict(X_test)"
   ]
  },
  {
   "cell_type": "markdown",
   "id": "3759920c",
   "metadata": {
    "papermill": {
     "duration": 0.011138,
     "end_time": "2025-08-19T18:36:21.098975",
     "exception": false,
     "start_time": "2025-08-19T18:36:21.087837",
     "status": "completed"
    },
    "tags": []
   },
   "source": [
    "# Conformal Prediction"
   ]
  },
  {
   "cell_type": "code",
   "execution_count": 37,
   "id": "14b27f59",
   "metadata": {
    "execution": {
     "iopub.execute_input": "2025-08-19T18:36:21.127698Z",
     "iopub.status.busy": "2025-08-19T18:36:21.125310Z",
     "iopub.status.idle": "2025-08-19T18:36:21.136541Z",
     "shell.execute_reply": "2025-08-19T18:36:21.135376Z"
    },
    "papermill": {
     "duration": 0.028048,
     "end_time": "2025-08-19T18:36:21.138215",
     "exception": false,
     "start_time": "2025-08-19T18:36:21.110167",
     "status": "completed"
    },
    "tags": []
   },
   "outputs": [],
   "source": [
    "# Miscoverage level for conformal prediction (10% allowed error rate => 90% target coverage)\n",
    "alpha = 0.1"
   ]
  },
  {
   "cell_type": "code",
   "execution_count": 38,
   "id": "59102472",
   "metadata": {
    "execution": {
     "iopub.execute_input": "2025-08-19T18:36:21.169438Z",
     "iopub.status.busy": "2025-08-19T18:36:21.168061Z",
     "iopub.status.idle": "2025-08-19T18:36:21.269181Z",
     "shell.execute_reply": "2025-08-19T18:36:21.268173Z"
    },
    "papermill": {
     "duration": 0.11785,
     "end_time": "2025-08-19T18:36:21.272236",
     "exception": false,
     "start_time": "2025-08-19T18:36:21.154386",
     "status": "completed"
    },
    "tags": []
   },
   "outputs": [],
   "source": [
    "probs_calib = model.predict_proba(X_calib)"
   ]
  },
  {
   "cell_type": "code",
   "execution_count": 39,
   "id": "a792d4dd",
   "metadata": {
    "execution": {
     "iopub.execute_input": "2025-08-19T18:36:21.300855Z",
     "iopub.status.busy": "2025-08-19T18:36:21.299548Z",
     "iopub.status.idle": "2025-08-19T18:36:21.306990Z",
     "shell.execute_reply": "2025-08-19T18:36:21.306013Z"
    },
    "papermill": {
     "duration": 0.023428,
     "end_time": "2025-08-19T18:36:21.308739",
     "exception": false,
     "start_time": "2025-08-19T18:36:21.285311",
     "status": "completed"
    },
    "tags": []
   },
   "outputs": [],
   "source": [
    "y_calib = y_calib.values.ravel().astype(int)"
   ]
  },
  {
   "cell_type": "code",
   "execution_count": 40,
   "id": "650fd033",
   "metadata": {
    "execution": {
     "iopub.execute_input": "2025-08-19T18:36:21.357392Z",
     "iopub.status.busy": "2025-08-19T18:36:21.356865Z",
     "iopub.status.idle": "2025-08-19T18:36:21.365043Z",
     "shell.execute_reply": "2025-08-19T18:36:21.364122Z"
    },
    "papermill": {
     "duration": 0.04126,
     "end_time": "2025-08-19T18:36:21.367811",
     "exception": false,
     "start_time": "2025-08-19T18:36:21.326551",
     "status": "completed"
    },
    "tags": []
   },
   "outputs": [],
   "source": [
    "from fairness_multiverse.conformal import compute_nc_scores\n",
    "\n",
    "# Compute nonconformity scores on calibration set (1 - probability of true class)\n",
    "nc_scores = compute_nc_scores(probs_calib, y_calib)"
   ]
  },
  {
   "cell_type": "code",
   "execution_count": 41,
   "id": "28ada44c",
   "metadata": {
    "execution": {
     "iopub.execute_input": "2025-08-19T18:36:21.410562Z",
     "iopub.status.busy": "2025-08-19T18:36:21.409254Z",
     "iopub.status.idle": "2025-08-19T18:36:21.419630Z",
     "shell.execute_reply": "2025-08-19T18:36:21.418547Z"
    },
    "papermill": {
     "duration": 0.026286,
     "end_time": "2025-08-19T18:36:21.421154",
     "exception": false,
     "start_time": "2025-08-19T18:36:21.394868",
     "status": "completed"
    },
    "tags": []
   },
   "outputs": [],
   "source": [
    "from fairness_multiverse.conformal import find_threshold\n",
    "\n",
    "# Find conformal threshold q_hat for the given alpha (split conformal method)\n",
    "q_hat = find_threshold(nc_scores, alpha)"
   ]
  },
  {
   "cell_type": "code",
   "execution_count": 42,
   "id": "df56469e",
   "metadata": {
    "execution": {
     "iopub.execute_input": "2025-08-19T18:36:21.453858Z",
     "iopub.status.busy": "2025-08-19T18:36:21.452367Z",
     "iopub.status.idle": "2025-08-19T18:36:21.462513Z",
     "shell.execute_reply": "2025-08-19T18:36:21.461278Z"
    },
    "papermill": {
     "duration": 0.0299,
     "end_time": "2025-08-19T18:36:21.464142",
     "exception": false,
     "start_time": "2025-08-19T18:36:21.434242",
     "status": "completed"
    },
    "tags": []
   },
   "outputs": [
    {
     "data": {
      "text/plain": [
       "0.6821448343078087"
      ]
     },
     "execution_count": 42,
     "metadata": {},
     "output_type": "execute_result"
    }
   ],
   "source": [
    "q_hat"
   ]
  },
  {
   "cell_type": "code",
   "execution_count": 43,
   "id": "aa1f5faa",
   "metadata": {
    "execution": {
     "iopub.execute_input": "2025-08-19T18:36:21.521399Z",
     "iopub.status.busy": "2025-08-19T18:36:21.520636Z",
     "iopub.status.idle": "2025-08-19T18:36:22.119904Z",
     "shell.execute_reply": "2025-08-19T18:36:22.118607Z"
    },
    "papermill": {
     "duration": 0.642283,
     "end_time": "2025-08-19T18:36:22.122814",
     "exception": false,
     "start_time": "2025-08-19T18:36:21.480531",
     "status": "completed"
    },
    "tags": []
   },
   "outputs": [],
   "source": [
    "from fairness_multiverse.conformal import predict_conformal_sets\n",
    "\n",
    "# Generate prediction sets for each test example\n",
    "pred_sets = predict_conformal_sets(model, X_test, q_hat)"
   ]
  },
  {
   "cell_type": "code",
   "execution_count": 44,
   "id": "97f67a6b",
   "metadata": {
    "execution": {
     "iopub.execute_input": "2025-08-19T18:36:22.167405Z",
     "iopub.status.busy": "2025-08-19T18:36:22.165461Z",
     "iopub.status.idle": "2025-08-19T18:36:22.175940Z",
     "shell.execute_reply": "2025-08-19T18:36:22.174627Z"
    },
    "papermill": {
     "duration": 0.027904,
     "end_time": "2025-08-19T18:36:22.177610",
     "exception": false,
     "start_time": "2025-08-19T18:36:22.149706",
     "status": "completed"
    },
    "tags": []
   },
   "outputs": [],
   "source": [
    "y_true = y_true.squeeze()"
   ]
  },
  {
   "cell_type": "code",
   "execution_count": 45,
   "id": "e700e9a7",
   "metadata": {
    "execution": {
     "iopub.execute_input": "2025-08-19T18:36:22.206276Z",
     "iopub.status.busy": "2025-08-19T18:36:22.204853Z",
     "iopub.status.idle": "2025-08-19T18:36:22.725511Z",
     "shell.execute_reply": "2025-08-19T18:36:22.724259Z"
    },
    "papermill": {
     "duration": 0.534969,
     "end_time": "2025-08-19T18:36:22.726992",
     "exception": false,
     "start_time": "2025-08-19T18:36:22.192023",
     "status": "completed"
    },
    "tags": []
   },
   "outputs": [],
   "source": [
    "from fairness_multiverse.conformal import evaluate_sets\n",
    "\n",
    "# Evaluate coverage and average set size on test data\n",
    "metrics = evaluate_sets(pred_sets, y_true)"
   ]
  },
  {
   "cell_type": "markdown",
   "id": "efbacec0",
   "metadata": {
    "papermill": {
     "duration": 0.011983,
     "end_time": "2025-08-19T18:36:22.751834",
     "exception": false,
     "start_time": "2025-08-19T18:36:22.739851",
     "status": "completed"
    },
    "tags": []
   },
   "source": [
    "# CP Metrics"
   ]
  },
  {
   "cell_type": "code",
   "execution_count": 46,
   "id": "9de55fb1",
   "metadata": {
    "execution": {
     "iopub.execute_input": "2025-08-19T18:36:22.777583Z",
     "iopub.status.busy": "2025-08-19T18:36:22.777069Z",
     "iopub.status.idle": "2025-08-19T18:36:22.783925Z",
     "shell.execute_reply": "2025-08-19T18:36:22.783205Z"
    },
    "papermill": {
     "duration": 0.021849,
     "end_time": "2025-08-19T18:36:22.785183",
     "exception": false,
     "start_time": "2025-08-19T18:36:22.763334",
     "status": "completed"
    },
    "tags": []
   },
   "outputs": [
    {
     "data": {
      "text/plain": [
       "{'coverage': 0.9117155278118382, 'avg_size': 1.206019395831011}"
      ]
     },
     "execution_count": 46,
     "metadata": {},
     "output_type": "execute_result"
    }
   ],
   "source": [
    "metrics"
   ]
  },
  {
   "cell_type": "code",
   "execution_count": 47,
   "id": "64c340a1",
   "metadata": {
    "execution": {
     "iopub.execute_input": "2025-08-19T18:36:22.810761Z",
     "iopub.status.busy": "2025-08-19T18:36:22.810459Z",
     "iopub.status.idle": "2025-08-19T18:36:22.834156Z",
     "shell.execute_reply": "2025-08-19T18:36:22.833514Z"
    },
    "papermill": {
     "duration": 0.038675,
     "end_time": "2025-08-19T18:36:22.835992",
     "exception": false,
     "start_time": "2025-08-19T18:36:22.797317",
     "status": "completed"
    },
    "tags": []
   },
   "outputs": [],
   "source": [
    "example_universe = universe.copy()\n",
    "universe_training_year = example_universe.get(\"training_year\")\n",
    "universe_training_size = example_universe.get(\"training_size\")\n",
    "universe_scale = example_universe.get(\"scale\")\n",
    "universe_model = example_universe.get(\"model\")\n",
    "universe_exclude_features = example_universe.get(\"exclude_features\")\n",
    "universe_exclude_subgroups = example_universe.get(\"exclude_subgroups\")"
   ]
  },
  {
   "cell_type": "code",
   "execution_count": 48,
   "id": "dbb53cb4",
   "metadata": {
    "execution": {
     "iopub.execute_input": "2025-08-19T18:36:22.872619Z",
     "iopub.status.busy": "2025-08-19T18:36:22.871856Z",
     "iopub.status.idle": "2025-08-19T18:36:22.877885Z",
     "shell.execute_reply": "2025-08-19T18:36:22.876827Z"
    },
    "papermill": {
     "duration": 0.020698,
     "end_time": "2025-08-19T18:36:22.879229",
     "exception": false,
     "start_time": "2025-08-19T18:36:22.858531",
     "status": "completed"
    },
    "tags": []
   },
   "outputs": [],
   "source": [
    "cp_metrics_dict = {\n",
    "    \"universe_id\": [universe_id],\n",
    "    \"universe_training_year\": [universe_training_year],\n",
    "    \"universe_training_size\": [universe_training_size],\n",
    "    \"universe_scale\": [universe_scale],\n",
    "    \"universe_model\": [universe_model],\n",
    "    \"universe_exclude_features\": [universe_exclude_features],\n",
    "    \"universe_exclude_subgroups\": [universe_exclude_subgroups],\n",
    "    \"q_hat\": [q_hat],\n",
    "    \"coverage\": [metrics[\"coverage\"]],\n",
    "    \"avg_size\": [metrics[\"avg_size\"]],\n",
    "}"
   ]
  },
  {
   "cell_type": "code",
   "execution_count": 49,
   "id": "0d70d4b2",
   "metadata": {
    "execution": {
     "iopub.execute_input": "2025-08-19T18:36:22.903949Z",
     "iopub.status.busy": "2025-08-19T18:36:22.903450Z",
     "iopub.status.idle": "2025-08-19T18:36:22.931883Z",
     "shell.execute_reply": "2025-08-19T18:36:22.930499Z"
    },
    "papermill": {
     "duration": 0.043048,
     "end_time": "2025-08-19T18:36:22.934026",
     "exception": false,
     "start_time": "2025-08-19T18:36:22.890978",
     "status": "completed"
    },
    "tags": []
   },
   "outputs": [],
   "source": [
    "cp_metrics_df = pd.DataFrame(cp_metrics_dict)"
   ]
  },
  {
   "cell_type": "code",
   "execution_count": 50,
   "id": "b494403c",
   "metadata": {
    "execution": {
     "iopub.execute_input": "2025-08-19T18:36:22.984565Z",
     "iopub.status.busy": "2025-08-19T18:36:22.983179Z",
     "iopub.status.idle": "2025-08-19T18:36:23.006815Z",
     "shell.execute_reply": "2025-08-19T18:36:23.005957Z"
    },
    "papermill": {
     "duration": 0.040165,
     "end_time": "2025-08-19T18:36:23.009098",
     "exception": false,
     "start_time": "2025-08-19T18:36:22.968933",
     "status": "completed"
    },
    "tags": []
   },
   "outputs": [
    {
     "data": {
      "text/html": [
       "<div>\n",
       "<style scoped>\n",
       "    .dataframe tbody tr th:only-of-type {\n",
       "        vertical-align: middle;\n",
       "    }\n",
       "\n",
       "    .dataframe tbody tr th {\n",
       "        vertical-align: top;\n",
       "    }\n",
       "\n",
       "    .dataframe thead th {\n",
       "        text-align: right;\n",
       "    }\n",
       "</style>\n",
       "<table border=\"1\" class=\"dataframe\">\n",
       "  <thead>\n",
       "    <tr style=\"text-align: right;\">\n",
       "      <th></th>\n",
       "      <th>universe_id</th>\n",
       "      <th>universe_training_year</th>\n",
       "      <th>universe_training_size</th>\n",
       "      <th>universe_scale</th>\n",
       "      <th>universe_model</th>\n",
       "      <th>universe_exclude_features</th>\n",
       "      <th>universe_exclude_subgroups</th>\n",
       "      <th>q_hat</th>\n",
       "      <th>coverage</th>\n",
       "      <th>avg_size</th>\n",
       "    </tr>\n",
       "  </thead>\n",
       "  <tbody>\n",
       "    <tr>\n",
       "      <th>0</th>\n",
       "      <td>c8b38b0cdac3d22fd86e3bd4a13432b8</td>\n",
       "      <td>2012_14</td>\n",
       "      <td>5k</td>\n",
       "      <td>do-not-scale</td>\n",
       "      <td>penalized_logreg</td>\n",
       "      <td>nationality</td>\n",
       "      <td>keep-all</td>\n",
       "      <td>0.682145</td>\n",
       "      <td>0.911716</td>\n",
       "      <td>1.206019</td>\n",
       "    </tr>\n",
       "  </tbody>\n",
       "</table>\n",
       "</div>"
      ],
      "text/plain": [
       "                        universe_id universe_training_year  \\\n",
       "0  c8b38b0cdac3d22fd86e3bd4a13432b8                2012_14   \n",
       "\n",
       "  universe_training_size universe_scale    universe_model  \\\n",
       "0                     5k   do-not-scale  penalized_logreg   \n",
       "\n",
       "  universe_exclude_features universe_exclude_subgroups     q_hat  coverage  \\\n",
       "0               nationality                   keep-all  0.682145  0.911716   \n",
       "\n",
       "   avg_size  \n",
       "0  1.206019  "
      ]
     },
     "execution_count": 50,
     "metadata": {},
     "output_type": "execute_result"
    }
   ],
   "source": [
    "cp_metrics_df"
   ]
  },
  {
   "cell_type": "markdown",
   "id": "ed608b0b",
   "metadata": {
    "papermill": {
     "duration": 0.013059,
     "end_time": "2025-08-19T18:36:23.040957",
     "exception": false,
     "start_time": "2025-08-19T18:36:23.027898",
     "status": "completed"
    },
    "tags": []
   },
   "source": [
    "Conditional coverage & looking at subgroups"
   ]
  },
  {
   "cell_type": "code",
   "execution_count": 51,
   "id": "8968c366",
   "metadata": {
    "execution": {
     "iopub.execute_input": "2025-08-19T18:36:23.066987Z",
     "iopub.status.busy": "2025-08-19T18:36:23.066065Z",
     "iopub.status.idle": "2025-08-19T18:36:23.390891Z",
     "shell.execute_reply": "2025-08-19T18:36:23.390068Z"
    },
    "papermill": {
     "duration": 0.339442,
     "end_time": "2025-08-19T18:36:23.392331",
     "exception": false,
     "start_time": "2025-08-19T18:36:23.052889",
     "status": "completed"
    },
    "tags": []
   },
   "outputs": [],
   "source": [
    "from fairness_multiverse.conformal import build_cp_groups\n",
    "\n",
    "cp_groups_df = build_cp_groups(pred_sets, y_true, X_test.index, org_test)"
   ]
  },
  {
   "cell_type": "code",
   "execution_count": 52,
   "id": "292ddabf",
   "metadata": {
    "execution": {
     "iopub.execute_input": "2025-08-19T18:36:23.419680Z",
     "iopub.status.busy": "2025-08-19T18:36:23.419395Z",
     "iopub.status.idle": "2025-08-19T18:36:24.280054Z",
     "shell.execute_reply": "2025-08-19T18:36:24.279019Z"
    },
    "papermill": {
     "duration": 0.875581,
     "end_time": "2025-08-19T18:36:24.281645",
     "exception": false,
     "start_time": "2025-08-19T18:36:23.406064",
     "status": "completed"
    },
    "tags": []
   },
   "outputs": [],
   "source": [
    "# Define covered = 1 if true_label is in the predicted set\n",
    "cp_groups_df['covered'] = cp_groups_df.apply(\n",
    "    lambda r: int(r['true_label'] in r['pred_set']),\n",
    "    axis=1\n",
    ")"
   ]
  },
  {
   "cell_type": "code",
   "execution_count": 53,
   "id": "3a261692",
   "metadata": {
    "execution": {
     "iopub.execute_input": "2025-08-19T18:36:24.321566Z",
     "iopub.status.busy": "2025-08-19T18:36:24.321288Z",
     "iopub.status.idle": "2025-08-19T18:36:24.334714Z",
     "shell.execute_reply": "2025-08-19T18:36:24.333598Z"
    },
    "papermill": {
     "duration": 0.037795,
     "end_time": "2025-08-19T18:36:24.338422",
     "exception": false,
     "start_time": "2025-08-19T18:36:24.300627",
     "status": "completed"
    },
    "tags": []
   },
   "outputs": [],
   "source": [
    "subgroups = ['frau1','nongerman','nongerman_male','nongerman_female']\n",
    "\n",
    "# Conditional coverage for subgroup==1\n",
    "cond_coverage = {\n",
    "    g: cp_groups_df.loc[cp_groups_df[g]==1, 'covered'].mean()\n",
    "    for g in subgroups\n",
    "}"
   ]
  },
  {
   "cell_type": "code",
   "execution_count": 54,
   "id": "894fd600",
   "metadata": {
    "execution": {
     "iopub.execute_input": "2025-08-19T18:36:24.375859Z",
     "iopub.status.busy": "2025-08-19T18:36:24.374987Z",
     "iopub.status.idle": "2025-08-19T18:36:24.384701Z",
     "shell.execute_reply": "2025-08-19T18:36:24.383458Z"
    },
    "papermill": {
     "duration": 0.027495,
     "end_time": "2025-08-19T18:36:24.386724",
     "exception": false,
     "start_time": "2025-08-19T18:36:24.359229",
     "status": "completed"
    },
    "tags": []
   },
   "outputs": [
    {
     "data": {
      "text/plain": [
       "{'frau1': 0.9083704003234937,\n",
       " 'nongerman': 0.9311177230112839,\n",
       " 'nongerman_male': 0.9443393677384491,\n",
       " 'nongerman_female': 0.9092399403874813}"
      ]
     },
     "execution_count": 54,
     "metadata": {},
     "output_type": "execute_result"
    }
   ],
   "source": [
    "cond_coverage"
   ]
  },
  {
   "cell_type": "code",
   "execution_count": 55,
   "id": "942895c7",
   "metadata": {
    "execution": {
     "iopub.execute_input": "2025-08-19T18:36:24.435827Z",
     "iopub.status.busy": "2025-08-19T18:36:24.435411Z",
     "iopub.status.idle": "2025-08-19T18:36:24.442033Z",
     "shell.execute_reply": "2025-08-19T18:36:24.441207Z"
    },
    "papermill": {
     "duration": 0.038269,
     "end_time": "2025-08-19T18:36:24.443438",
     "exception": false,
     "start_time": "2025-08-19T18:36:24.405169",
     "status": "completed"
    },
    "tags": []
   },
   "outputs": [],
   "source": [
    "for subgroup, cov in cond_coverage.items():\n",
    "    cp_metrics_df[f\"cov_{subgroup}\"] = cov"
   ]
  },
  {
   "cell_type": "code",
   "execution_count": 56,
   "id": "3970120f",
   "metadata": {
    "execution": {
     "iopub.execute_input": "2025-08-19T18:36:24.469071Z",
     "iopub.status.busy": "2025-08-19T18:36:24.468748Z",
     "iopub.status.idle": "2025-08-19T18:36:24.487794Z",
     "shell.execute_reply": "2025-08-19T18:36:24.486586Z"
    },
    "papermill": {
     "duration": 0.033159,
     "end_time": "2025-08-19T18:36:24.489258",
     "exception": false,
     "start_time": "2025-08-19T18:36:24.456099",
     "status": "completed"
    },
    "tags": []
   },
   "outputs": [
    {
     "data": {
      "text/html": [
       "<div>\n",
       "<style scoped>\n",
       "    .dataframe tbody tr th:only-of-type {\n",
       "        vertical-align: middle;\n",
       "    }\n",
       "\n",
       "    .dataframe tbody tr th {\n",
       "        vertical-align: top;\n",
       "    }\n",
       "\n",
       "    .dataframe thead th {\n",
       "        text-align: right;\n",
       "    }\n",
       "</style>\n",
       "<table border=\"1\" class=\"dataframe\">\n",
       "  <thead>\n",
       "    <tr style=\"text-align: right;\">\n",
       "      <th></th>\n",
       "      <th>universe_id</th>\n",
       "      <th>universe_training_year</th>\n",
       "      <th>universe_training_size</th>\n",
       "      <th>universe_scale</th>\n",
       "      <th>universe_model</th>\n",
       "      <th>universe_exclude_features</th>\n",
       "      <th>universe_exclude_subgroups</th>\n",
       "      <th>q_hat</th>\n",
       "      <th>coverage</th>\n",
       "      <th>avg_size</th>\n",
       "      <th>cov_frau1</th>\n",
       "      <th>cov_nongerman</th>\n",
       "      <th>cov_nongerman_male</th>\n",
       "      <th>cov_nongerman_female</th>\n",
       "    </tr>\n",
       "  </thead>\n",
       "  <tbody>\n",
       "    <tr>\n",
       "      <th>0</th>\n",
       "      <td>c8b38b0cdac3d22fd86e3bd4a13432b8</td>\n",
       "      <td>2012_14</td>\n",
       "      <td>5k</td>\n",
       "      <td>do-not-scale</td>\n",
       "      <td>penalized_logreg</td>\n",
       "      <td>nationality</td>\n",
       "      <td>keep-all</td>\n",
       "      <td>0.682145</td>\n",
       "      <td>0.911716</td>\n",
       "      <td>1.206019</td>\n",
       "      <td>0.90837</td>\n",
       "      <td>0.931118</td>\n",
       "      <td>0.944339</td>\n",
       "      <td>0.90924</td>\n",
       "    </tr>\n",
       "  </tbody>\n",
       "</table>\n",
       "</div>"
      ],
      "text/plain": [
       "                        universe_id universe_training_year  \\\n",
       "0  c8b38b0cdac3d22fd86e3bd4a13432b8                2012_14   \n",
       "\n",
       "  universe_training_size universe_scale    universe_model  \\\n",
       "0                     5k   do-not-scale  penalized_logreg   \n",
       "\n",
       "  universe_exclude_features universe_exclude_subgroups     q_hat  coverage  \\\n",
       "0               nationality                   keep-all  0.682145  0.911716   \n",
       "\n",
       "   avg_size  cov_frau1  cov_nongerman  cov_nongerman_male  \\\n",
       "0  1.206019    0.90837       0.931118            0.944339   \n",
       "\n",
       "   cov_nongerman_female  \n",
       "0               0.90924  "
      ]
     },
     "execution_count": 56,
     "metadata": {},
     "output_type": "execute_result"
    }
   ],
   "source": [
    "cp_metrics_df"
   ]
  },
  {
   "cell_type": "markdown",
   "id": "3fc519cc",
   "metadata": {
    "papermill": {
     "duration": 0.012162,
     "end_time": "2025-08-19T18:36:24.517122",
     "exception": false,
     "start_time": "2025-08-19T18:36:24.504960",
     "status": "completed"
    },
    "tags": []
   },
   "source": [
    "# (Fairness) Metrics"
   ]
  },
  {
   "cell_type": "code",
   "execution_count": 57,
   "id": "a2e5e155",
   "metadata": {
    "execution": {
     "iopub.execute_input": "2025-08-19T18:36:24.544986Z",
     "iopub.status.busy": "2025-08-19T18:36:24.544575Z",
     "iopub.status.idle": "2025-08-19T18:36:24.559529Z",
     "shell.execute_reply": "2025-08-19T18:36:24.558817Z"
    },
    "papermill": {
     "duration": 0.030081,
     "end_time": "2025-08-19T18:36:24.561494",
     "exception": false,
     "start_time": "2025-08-19T18:36:24.531413",
     "status": "completed"
    },
    "tags": []
   },
   "outputs": [],
   "source": [
    "colname_to_bin = \"maxdeutsch1\"\n",
    "majority_value = org_train[colname_to_bin].mode()[0]\n",
    "\n",
    "org_test[\"majmin\"] = np.where(org_test[colname_to_bin] == majority_value, \"majority\", \"minority\")"
   ]
  },
  {
   "cell_type": "code",
   "execution_count": 58,
   "id": "17e3e4d5",
   "metadata": {
    "execution": {
     "iopub.execute_input": "2025-08-19T18:36:24.604402Z",
     "iopub.status.busy": "2025-08-19T18:36:24.603349Z",
     "iopub.status.idle": "2025-08-19T18:36:26.358615Z",
     "shell.execute_reply": "2025-08-19T18:36:26.357358Z"
    },
    "papermill": {
     "duration": 1.772315,
     "end_time": "2025-08-19T18:36:26.360230",
     "exception": false,
     "start_time": "2025-08-19T18:36:24.587915",
     "status": "completed"
    },
    "tags": []
   },
   "outputs": [],
   "source": [
    "example_universe = universe.copy()\n",
    "example_universe[\"cutoff\"] = example_universe[\"cutoff\"][0]\n",
    "example_universe[\"eval_fairness_grouping\"] = example_universe[\"eval_fairness_grouping\"][0]\n",
    "fairness_dict, metric_frame = universe_analysis.compute_metrics(\n",
    "    example_universe,\n",
    "    y_pred_prob=probs_test,\n",
    "    y_test=y_true,\n",
    "    org_test=org_test,\n",
    ")"
   ]
  },
  {
   "cell_type": "markdown",
   "id": "1fb7a0e9",
   "metadata": {
    "papermill": {
     "duration": 0.01233,
     "end_time": "2025-08-19T18:36:26.385391",
     "exception": false,
     "start_time": "2025-08-19T18:36:26.373061",
     "status": "completed"
    },
    "tags": []
   },
   "source": [
    "# Overall"
   ]
  },
  {
   "cell_type": "markdown",
   "id": "be1784b1",
   "metadata": {
    "papermill": {
     "duration": 0.015656,
     "end_time": "2025-08-19T18:36:26.413488",
     "exception": false,
     "start_time": "2025-08-19T18:36:26.397832",
     "status": "completed"
    },
    "tags": []
   },
   "source": [
    "Main fairness target: Equalized Odds. Seems to be a better fit than equal opportunity, since we're not only interested in Y = 1. Seems to be a better fit than demographic parity, since we also care about accuracy, not just equal distribution of preds.\n",
    "\n",
    "Pick column for computation of fairness metrics\n",
    "\n",
    "Performance\n",
    "Overall performance measures, most interesting in relation to the measures split by group below"
   ]
  },
  {
   "cell_type": "code",
   "execution_count": 59,
   "id": "b7672bee",
   "metadata": {
    "execution": {
     "iopub.execute_input": "2025-08-19T18:36:26.441583Z",
     "iopub.status.busy": "2025-08-19T18:36:26.440412Z",
     "iopub.status.idle": "2025-08-19T18:36:26.458859Z",
     "shell.execute_reply": "2025-08-19T18:36:26.457640Z"
    },
    "papermill": {
     "duration": 0.034525,
     "end_time": "2025-08-19T18:36:26.460491",
     "exception": false,
     "start_time": "2025-08-19T18:36:26.425966",
     "status": "completed"
    },
    "tags": []
   },
   "outputs": [
    {
     "data": {
      "text/plain": [
       "accuracy                   0.218493\n",
       "balanced accuracy          0.535477\n",
       "f1                         0.239986\n",
       "precision                  0.137096\n",
       "false positive rate        0.890898\n",
       "false negative rate        0.038147\n",
       "selection rate             0.900000\n",
       "count                  89710.000000\n",
       "dtype: float64"
      ]
     },
     "execution_count": 59,
     "metadata": {},
     "output_type": "execute_result"
    }
   ],
   "source": [
    "metric_frame.overall"
   ]
  },
  {
   "cell_type": "markdown",
   "id": "d93333c9",
   "metadata": {
    "papermill": {
     "duration": 0.012502,
     "end_time": "2025-08-19T18:36:26.499252",
     "exception": false,
     "start_time": "2025-08-19T18:36:26.486750",
     "status": "completed"
    },
    "tags": []
   },
   "source": [
    "By Group"
   ]
  },
  {
   "cell_type": "code",
   "execution_count": 60,
   "id": "52256966",
   "metadata": {
    "execution": {
     "iopub.execute_input": "2025-08-19T18:36:26.528562Z",
     "iopub.status.busy": "2025-08-19T18:36:26.527362Z",
     "iopub.status.idle": "2025-08-19T18:36:26.547661Z",
     "shell.execute_reply": "2025-08-19T18:36:26.545519Z"
    },
    "papermill": {
     "duration": 0.037258,
     "end_time": "2025-08-19T18:36:26.549543",
     "exception": false,
     "start_time": "2025-08-19T18:36:26.512285",
     "status": "completed"
    },
    "tags": []
   },
   "outputs": [
    {
     "data": {
      "text/html": [
       "<div>\n",
       "<style scoped>\n",
       "    .dataframe tbody tr th:only-of-type {\n",
       "        vertical-align: middle;\n",
       "    }\n",
       "\n",
       "    .dataframe tbody tr th {\n",
       "        vertical-align: top;\n",
       "    }\n",
       "\n",
       "    .dataframe thead th {\n",
       "        text-align: right;\n",
       "    }\n",
       "</style>\n",
       "<table border=\"1\" class=\"dataframe\">\n",
       "  <thead>\n",
       "    <tr style=\"text-align: right;\">\n",
       "      <th></th>\n",
       "      <th>accuracy</th>\n",
       "      <th>balanced accuracy</th>\n",
       "      <th>f1</th>\n",
       "      <th>precision</th>\n",
       "      <th>false positive rate</th>\n",
       "      <th>false negative rate</th>\n",
       "      <th>selection rate</th>\n",
       "      <th>count</th>\n",
       "    </tr>\n",
       "    <tr>\n",
       "      <th>majmin</th>\n",
       "      <th></th>\n",
       "      <th></th>\n",
       "      <th></th>\n",
       "      <th></th>\n",
       "      <th></th>\n",
       "      <th></th>\n",
       "      <th></th>\n",
       "      <th></th>\n",
       "    </tr>\n",
       "  </thead>\n",
       "  <tbody>\n",
       "    <tr>\n",
       "      <th>majority</th>\n",
       "      <td>0.240509</td>\n",
       "      <td>0.543607</td>\n",
       "      <td>0.249536</td>\n",
       "      <td>0.143505</td>\n",
       "      <td>0.868366</td>\n",
       "      <td>0.044420</td>\n",
       "      <td>0.879890</td>\n",
       "      <td>69170.0</td>\n",
       "    </tr>\n",
       "    <tr>\n",
       "      <th>minority</th>\n",
       "      <td>0.144352</td>\n",
       "      <td>0.510366</td>\n",
       "      <td>0.209935</td>\n",
       "      <td>0.117472</td>\n",
       "      <td>0.965331</td>\n",
       "      <td>0.013936</td>\n",
       "      <td>0.967722</td>\n",
       "      <td>20540.0</td>\n",
       "    </tr>\n",
       "  </tbody>\n",
       "</table>\n",
       "</div>"
      ],
      "text/plain": [
       "          accuracy  balanced accuracy        f1  precision  \\\n",
       "majmin                                                       \n",
       "majority  0.240509           0.543607  0.249536   0.143505   \n",
       "minority  0.144352           0.510366  0.209935   0.117472   \n",
       "\n",
       "          false positive rate  false negative rate  selection rate    count  \n",
       "majmin                                                                       \n",
       "majority             0.868366             0.044420        0.879890  69170.0  \n",
       "minority             0.965331             0.013936        0.967722  20540.0  "
      ]
     },
     "execution_count": 60,
     "metadata": {},
     "output_type": "execute_result"
    }
   ],
   "source": [
    "metric_frame.by_group"
   ]
  },
  {
   "cell_type": "code",
   "execution_count": 61,
   "id": "6e6c20ae",
   "metadata": {
    "execution": {
     "iopub.execute_input": "2025-08-19T18:36:26.583354Z",
     "iopub.status.busy": "2025-08-19T18:36:26.582997Z",
     "iopub.status.idle": "2025-08-19T18:36:28.406308Z",
     "shell.execute_reply": "2025-08-19T18:36:28.405391Z"
    },
    "papermill": {
     "duration": 1.838703,
     "end_time": "2025-08-19T18:36:28.407707",
     "exception": false,
     "start_time": "2025-08-19T18:36:26.569004",
     "status": "completed"
    },
    "tags": []
   },
   "outputs": [
    {
     "data": {
      "text/plain": [
       "array([[<Axes: title={'center': 'accuracy'}, xlabel='majmin'>,\n",
       "        <Axes: title={'center': 'balanced accuracy'}, xlabel='majmin'>,\n",
       "        <Axes: title={'center': 'f1'}, xlabel='majmin'>],\n",
       "       [<Axes: title={'center': 'precision'}, xlabel='majmin'>,\n",
       "        <Axes: title={'center': 'false positive rate'}, xlabel='majmin'>,\n",
       "        <Axes: title={'center': 'false negative rate'}, xlabel='majmin'>],\n",
       "       [<Axes: title={'center': 'selection rate'}, xlabel='majmin'>,\n",
       "        <Axes: title={'center': 'count'}, xlabel='majmin'>,\n",
       "        <Axes: xlabel='majmin'>]], dtype=object)"
      ]
     },
     "execution_count": 61,
     "metadata": {},
     "output_type": "execute_result"
    },
    {
     "data": {
      "image/png": "[encoded data removed]",
      "text/plain": [
       "<Figure size 1200x800 with 9 Axes>"
      ]
     },
     "metadata": {},
     "output_type": "display_data"
    }
   ],
   "source": [
    "# In a graphic\n",
    "metric_frame.by_group.plot.bar(\n",
    "    subplots=True,\n",
    "    layout=[3, 3],\n",
    "    legend=False,\n",
    "    figsize=[12, 8],\n",
    "    title=\"Show all metrics\",\n",
    ")"
   ]
  },
  {
   "cell_type": "markdown",
   "id": "b2e433ae",
   "metadata": {
    "papermill": {
     "duration": 0.013596,
     "end_time": "2025-08-19T18:36:28.435854",
     "exception": false,
     "start_time": "2025-08-19T18:36:28.422258",
     "status": "completed"
    },
    "tags": []
   },
   "source": [
    "# Final Output"
   ]
  },
  {
   "cell_type": "code",
   "execution_count": 62,
   "id": "3871301e",
   "metadata": {
    "execution": {
     "iopub.execute_input": "2025-08-19T18:36:28.469875Z",
     "iopub.status.busy": "2025-08-19T18:36:28.467818Z",
     "iopub.status.idle": "2025-08-19T18:36:28.489682Z",
     "shell.execute_reply": "2025-08-19T18:36:28.488382Z"
    },
    "papermill": {
     "duration": 0.042782,
     "end_time": "2025-08-19T18:36:28.492213",
     "exception": false,
     "start_time": "2025-08-19T18:36:28.449431",
     "status": "completed"
    },
    "tags": []
   },
   "outputs": [
    {
     "data": {
      "text/plain": [
       "4"
      ]
     },
     "execution_count": 62,
     "metadata": {},
     "output_type": "execute_result"
    }
   ],
   "source": [
    "sub_universes = universe_analysis.generate_sub_universes()\n",
    "len(sub_universes)"
   ]
  },
  {
   "cell_type": "code",
   "execution_count": 63,
   "id": "d9cfdaca",
   "metadata": {
    "execution": {
     "iopub.execute_input": "2025-08-19T18:36:28.541156Z",
     "iopub.status.busy": "2025-08-19T18:36:28.540124Z",
     "iopub.status.idle": "2025-08-19T18:36:28.551597Z",
     "shell.execute_reply": "2025-08-19T18:36:28.551003Z"
    },
    "papermill": {
     "duration": 0.037543,
     "end_time": "2025-08-19T18:36:28.552715",
     "exception": false,
     "start_time": "2025-08-19T18:36:28.515172",
     "status": "completed"
    },
    "tags": []
   },
   "outputs": [],
   "source": [
    "def filter_sub_universe_data(sub_universe, org_test):\n",
    "    # Keep all rows — no filtering\n",
    "    keep_rows_mask = np.ones(org_test.shape[0], dtype=bool)\n",
    "\n",
    "    print(f\"[INFO] Keeping all rows: {keep_rows_mask.sum()} rows retained.\")\n",
    "    return keep_rows_mask"
   ]
  },
  {
   "cell_type": "code",
   "execution_count": 64,
   "id": "2bc31ac1",
   "metadata": {
    "execution": {
     "iopub.execute_input": "2025-08-19T18:36:28.594254Z",
     "iopub.status.busy": "2025-08-19T18:36:28.592676Z",
     "iopub.status.idle": "2025-08-19T18:36:35.331004Z",
     "shell.execute_reply": "2025-08-19T18:36:35.330055Z"
    },
    "papermill": {
     "duration": 6.755391,
     "end_time": "2025-08-19T18:36:35.332289",
     "exception": false,
     "start_time": "2025-08-19T18:36:28.576898",
     "status": "completed"
    },
    "tags": []
   },
   "outputs": [
    {
     "name": "stdout",
     "output_type": "stream",
     "text": [
      "Stopping execution_time clock.\n",
      "[INFO] Keeping all rows: 89710 rows retained.\n"
     ]
    },
    {
     "name": "stdout",
     "output_type": "stream",
     "text": [
      "[INFO] Keeping all rows: 89710 rows retained.\n"
     ]
    },
    {
     "name": "stdout",
     "output_type": "stream",
     "text": [
      "[INFO] Keeping all rows: 89710 rows retained.\n"
     ]
    },
    {
     "name": "stdout",
     "output_type": "stream",
     "text": [
      "[INFO] Keeping all rows: 89710 rows retained.\n"
     ]
    },
    {
     "data": {
      "text/html": [
       "<div>\n",
       "<style scoped>\n",
       "    .dataframe tbody tr th:only-of-type {\n",
       "        vertical-align: middle;\n",
       "    }\n",
       "\n",
       "    .dataframe tbody tr th {\n",
       "        vertical-align: top;\n",
       "    }\n",
       "\n",
       "    .dataframe thead th {\n",
       "        text-align: right;\n",
       "    }\n",
       "</style>\n",
       "<table border=\"1\" class=\"dataframe\">\n",
       "  <thead>\n",
       "    <tr style=\"text-align: right;\">\n",
       "      <th></th>\n",
       "      <th>run_no</th>\n",
       "      <th>universe_id</th>\n",
       "      <th>universe_settings</th>\n",
       "      <th>execution_time</th>\n",
       "      <th>test_size_n</th>\n",
       "      <th>test_size_frac</th>\n",
       "      <th>fair_main_equalized_odds_difference</th>\n",
       "      <th>fair_main_equalized_odds_ratio</th>\n",
       "      <th>fair_main_demographic_parity_difference</th>\n",
       "      <th>fair_main_demographic_parity_ratio</th>\n",
       "      <th>...</th>\n",
       "      <th>perf_grp_precision_0</th>\n",
       "      <th>perf_grp_precision_1</th>\n",
       "      <th>perf_grp_false positive rate_0</th>\n",
       "      <th>perf_grp_false positive rate_1</th>\n",
       "      <th>perf_grp_false negative rate_0</th>\n",
       "      <th>perf_grp_false negative rate_1</th>\n",
       "      <th>perf_grp_selection rate_0</th>\n",
       "      <th>perf_grp_selection rate_1</th>\n",
       "      <th>perf_grp_count_0</th>\n",
       "      <th>perf_grp_count_1</th>\n",
       "    </tr>\n",
       "  </thead>\n",
       "  <tbody>\n",
       "    <tr>\n",
       "      <th>0</th>\n",
       "      <td>3</td>\n",
       "      <td>c8b38b0cdac3d22fd86e3bd4a13432b8</td>\n",
       "      <td>{\"cutoff\": \"quantile_0.1\", \"eval_fairness_grou...</td>\n",
       "      <td>23.079763</td>\n",
       "      <td>89710</td>\n",
       "      <td>1.0</td>\n",
       "      <td>0.096965</td>\n",
       "      <td>0.899552</td>\n",
       "      <td>0.087831</td>\n",
       "      <td>0.909239</td>\n",
       "      <td>...</td>\n",
       "      <td>NaN</td>\n",
       "      <td>NaN</td>\n",
       "      <td>NaN</td>\n",
       "      <td>NaN</td>\n",
       "      <td>NaN</td>\n",
       "      <td>NaN</td>\n",
       "      <td>NaN</td>\n",
       "      <td>NaN</td>\n",
       "      <td>NaN</td>\n",
       "      <td>NaN</td>\n",
       "    </tr>\n",
       "    <tr>\n",
       "      <th>0</th>\n",
       "      <td>3</td>\n",
       "      <td>c8b38b0cdac3d22fd86e3bd4a13432b8</td>\n",
       "      <td>{\"cutoff\": \"quantile_0.1\", \"eval_fairness_grou...</td>\n",
       "      <td>23.079763</td>\n",
       "      <td>89710</td>\n",
       "      <td>1.0</td>\n",
       "      <td>0.096965</td>\n",
       "      <td>0.899552</td>\n",
       "      <td>0.087831</td>\n",
       "      <td>0.909239</td>\n",
       "      <td>...</td>\n",
       "      <td>0.117472</td>\n",
       "      <td>0.143505</td>\n",
       "      <td>0.965331</td>\n",
       "      <td>0.868366</td>\n",
       "      <td>0.013936</td>\n",
       "      <td>0.04442</td>\n",
       "      <td>0.967722</td>\n",
       "      <td>0.879890</td>\n",
       "      <td>20540.0</td>\n",
       "      <td>69170.0</td>\n",
       "    </tr>\n",
       "    <tr>\n",
       "      <th>0</th>\n",
       "      <td>3</td>\n",
       "      <td>c8b38b0cdac3d22fd86e3bd4a13432b8</td>\n",
       "      <td>{\"cutoff\": \"quantile_0.25\", \"eval_fairness_gro...</td>\n",
       "      <td>23.079763</td>\n",
       "      <td>89710</td>\n",
       "      <td>1.0</td>\n",
       "      <td>0.218127</td>\n",
       "      <td>0.757224</td>\n",
       "      <td>0.199854</td>\n",
       "      <td>0.778945</td>\n",
       "      <td>...</td>\n",
       "      <td>NaN</td>\n",
       "      <td>NaN</td>\n",
       "      <td>NaN</td>\n",
       "      <td>NaN</td>\n",
       "      <td>NaN</td>\n",
       "      <td>NaN</td>\n",
       "      <td>NaN</td>\n",
       "      <td>NaN</td>\n",
       "      <td>NaN</td>\n",
       "      <td>NaN</td>\n",
       "    </tr>\n",
       "    <tr>\n",
       "      <th>0</th>\n",
       "      <td>3</td>\n",
       "      <td>c8b38b0cdac3d22fd86e3bd4a13432b8</td>\n",
       "      <td>{\"cutoff\": \"quantile_0.25\", \"eval_fairness_gro...</td>\n",
       "      <td>23.079763</td>\n",
       "      <td>89710</td>\n",
       "      <td>1.0</td>\n",
       "      <td>0.218127</td>\n",
       "      <td>0.757224</td>\n",
       "      <td>0.199854</td>\n",
       "      <td>0.778945</td>\n",
       "      <td>...</td>\n",
       "      <td>0.120786</td>\n",
       "      <td>0.161582</td>\n",
       "      <td>0.898470</td>\n",
       "      <td>0.680343</td>\n",
       "      <td>0.052787</td>\n",
       "      <td>0.13884</td>\n",
       "      <td>0.904090</td>\n",
       "      <td>0.704236</td>\n",
       "      <td>20540.0</td>\n",
       "      <td>69170.0</td>\n",
       "    </tr>\n",
       "  </tbody>\n",
       "</table>\n",
       "<p>4 rows × 50 columns</p>\n",
       "</div>"
      ],
      "text/plain": [
       "  run_no                       universe_id  \\\n",
       "0      3  c8b38b0cdac3d22fd86e3bd4a13432b8   \n",
       "0      3  c8b38b0cdac3d22fd86e3bd4a13432b8   \n",
       "0      3  c8b38b0cdac3d22fd86e3bd4a13432b8   \n",
       "0      3  c8b38b0cdac3d22fd86e3bd4a13432b8   \n",
       "\n",
       "                                   universe_settings  execution_time  \\\n",
       "0  {\"cutoff\": \"quantile_0.1\", \"eval_fairness_grou...       23.079763   \n",
       "0  {\"cutoff\": \"quantile_0.1\", \"eval_fairness_grou...       23.079763   \n",
       "0  {\"cutoff\": \"quantile_0.25\", \"eval_fairness_gro...       23.079763   \n",
       "0  {\"cutoff\": \"quantile_0.25\", \"eval_fairness_gro...       23.079763   \n",
       "\n",
       "   test_size_n  test_size_frac  fair_main_equalized_odds_difference  \\\n",
       "0        89710             1.0                             0.096965   \n",
       "0        89710             1.0                             0.096965   \n",
       "0        89710             1.0                             0.218127   \n",
       "0        89710             1.0                             0.218127   \n",
       "\n",
       "   fair_main_equalized_odds_ratio  fair_main_demographic_parity_difference  \\\n",
       "0                        0.899552                                 0.087831   \n",
       "0                        0.899552                                 0.087831   \n",
       "0                        0.757224                                 0.199854   \n",
       "0                        0.757224                                 0.199854   \n",
       "\n",
       "   fair_main_demographic_parity_ratio  ...  perf_grp_precision_0  \\\n",
       "0                            0.909239  ...                   NaN   \n",
       "0                            0.909239  ...              0.117472   \n",
       "0                            0.778945  ...                   NaN   \n",
       "0                            0.778945  ...              0.120786   \n",
       "\n",
       "   perf_grp_precision_1  perf_grp_false positive rate_0  \\\n",
       "0                   NaN                             NaN   \n",
       "0              0.143505                        0.965331   \n",
       "0                   NaN                             NaN   \n",
       "0              0.161582                        0.898470   \n",
       "\n",
       "   perf_grp_false positive rate_1  perf_grp_false negative rate_0  \\\n",
       "0                             NaN                             NaN   \n",
       "0                        0.868366                        0.013936   \n",
       "0                             NaN                             NaN   \n",
       "0                        0.680343                        0.052787   \n",
       "\n",
       "   perf_grp_false negative rate_1  perf_grp_selection rate_0  \\\n",
       "0                             NaN                        NaN   \n",
       "0                         0.04442                   0.967722   \n",
       "0                             NaN                        NaN   \n",
       "0                         0.13884                   0.904090   \n",
       "\n",
       "   perf_grp_selection rate_1  perf_grp_count_0  perf_grp_count_1  \n",
       "0                        NaN               NaN               NaN  \n",
       "0                   0.879890           20540.0           69170.0  \n",
       "0                        NaN               NaN               NaN  \n",
       "0                   0.704236           20540.0           69170.0  \n",
       "\n",
       "[4 rows x 50 columns]"
      ]
     },
     "execution_count": 64,
     "metadata": {},
     "output_type": "execute_result"
    }
   ],
   "source": [
    "final_output = universe_analysis.generate_final_output(\n",
    "    y_pred_prob=probs_test,\n",
    "    y_test=y_true,\n",
    "    org_test=org_test,\n",
    "    filter_data=filter_sub_universe_data,\n",
    "    cp_metrics_df=cp_metrics_df,\n",
    "    save=True,\n",
    ")\n",
    "final_output"
   ]
  },
  {
   "cell_type": "code",
   "execution_count": null,
   "id": "8b80a1ff",
   "metadata": {
    "papermill": {
     "duration": 0.014383,
     "end_time": "2025-08-19T18:36:35.368506",
     "exception": false,
     "start_time": "2025-08-19T18:36:35.354123",
     "status": "completed"
    },
    "tags": []
   },
   "outputs": [],
   "source": []
  },
  {
   "cell_type": "code",
   "execution_count": null,
   "id": "275c9fad",
   "metadata": {
    "papermill": {
     "duration": 0.014139,
     "end_time": "2025-08-19T18:36:35.396893",
     "exception": false,
     "start_time": "2025-08-19T18:36:35.382754",
     "status": "completed"
    },
    "tags": []
   },
   "outputs": [],
   "source": []
  }
 ],
 "metadata": {
  "celltoolbar": "Tags",
  "kernelspec": {
   "display_name": "Python (CMA Fairness)",
   "language": "python",
   "name": "cma_fair_env"
  },
  "language_info": {
   "codemirror_mode": {
    "name": "ipython",
    "version": 3
   },
   "file_extension": ".py",
   "mimetype": "text/x-python",
   "name": "python",
   "nbconvert_exporter": "python",
   "pygments_lexer": "ipython3",
   "version": "3.10.12"
  },
  "papermill": {
   "default_parameters": {},
   "duration": 33.801763,
   "end_time": "2025-08-19T18:36:36.232121",
   "environment_variables": {},
   "exception": null,
   "input_path": "universe_analysis.ipynb",
   "output_path": "output/runs/3/notebooks/m_3-c8b38b0cdac3d22fd86e3bd4a13432b8.ipynb",
   "parameters": {
    "output_dir": "output",
    "run_no": "3",
    "seed": "2023",
    "universe": "{\"cutoff\": [\"quantile_0.1\", \"quantile_0.25\"], \"eval_fairness_grouping\": [\"majority-minority\", \"nationality-all\"], \"exclude_features\": \"nationality\", \"exclude_subgroups\": \"keep-all\", \"model\": \"penalized_logreg\", \"scale\": \"do-not-scale\", \"training_size\": \"5k\", \"training_year\": \"2012_14\"}",
    "universe_id": "c8b38b0cdac3d22fd86e3bd4a13432b8"
   },
   "start_time": "2025-08-19T18:36:02.430358",
   "version": "2.6.0"
  }
 },
 "nbformat": 4,
 "nbformat_minor": 5
}