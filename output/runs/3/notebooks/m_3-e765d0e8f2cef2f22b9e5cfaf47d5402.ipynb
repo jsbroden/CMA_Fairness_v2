{
 "cells": [
  {
   "cell_type": "markdown",
   "id": "ef23dbb3",
   "metadata": {
    "papermill": {
     "duration": 0.010619,
     "end_time": "2025-08-19T19:09:33.197535",
     "exception": false,
     "start_time": "2025-08-19T19:09:33.186916",
     "status": "completed"
    },
    "tags": []
   },
   "source": [
    "# Setup"
   ]
  },
  {
   "cell_type": "code",
   "execution_count": 1,
   "id": "0bc8e7dc",
   "metadata": {
    "execution": {
     "iopub.execute_input": "2025-08-19T19:09:33.218152Z",
     "iopub.status.busy": "2025-08-19T19:09:33.216959Z",
     "iopub.status.idle": "2025-08-19T19:09:33.235865Z",
     "shell.execute_reply": "2025-08-19T19:09:33.234685Z"
    },
    "papermill": {
     "duration": 0.031211,
     "end_time": "2025-08-19T19:09:33.237708",
     "exception": false,
     "start_time": "2025-08-19T19:09:33.206497",
     "status": "completed"
    },
    "tags": []
   },
   "outputs": [
    {
     "name": "stdout",
     "output_type": "stream",
     "text": [
      "/dss/dsshome1/0C/ra93lal2/cma/CMA_Fairness_v2\n"
     ]
    },
    {
     "name": "stderr",
     "output_type": "stream",
     "text": [
      "/dss/dsshome1/0C/ra93lal2/.local/share/virtualenvs/CMA_Fairness_v2-3j10GkSs/lib/python3.10/site-packages/IPython/core/magics/osm.py:393: UserWarning: This is now an optional IPython functionality, using bookmarks requires you to install the `pickleshare` library.\n",
      "  bkms = self.shell.db.get('bookmarks', {})\n",
      "/dss/dsshome1/0C/ra93lal2/.local/share/virtualenvs/CMA_Fairness_v2-3j10GkSs/lib/python3.10/site-packages/IPython/core/magics/osm.py:417: UserWarning: This is now an optional IPython functionality, setting dhist requires you to install the `pickleshare` library.\n",
      "  self.shell.db['dhist'] = compress_dhist(dhist)[-100:]\n"
     ]
    }
   ],
   "source": [
    "%cd ~/cma/CMA_Fairness_v2"
   ]
  },
  {
   "cell_type": "markdown",
   "id": "9d235661",
   "metadata": {
    "papermill": {
     "duration": 0.010058,
     "end_time": "2025-08-19T19:09:33.262396",
     "exception": false,
     "start_time": "2025-08-19T19:09:33.252338",
     "status": "completed"
    },
    "tags": []
   },
   "source": [
    "The following cell holds the definition of our parameters, these values can be overriden by rendering the with e.g. the following command:\n",
    "\n",
    "papermill -p alpha 0.2 -p ratio 0.3 universe_analysis.ipynb output/test_run.ipynb"
   ]
  },
  {
   "cell_type": "code",
   "execution_count": 2,
   "id": "4a789d8e",
   "metadata": {
    "execution": {
     "iopub.execute_input": "2025-08-19T19:09:33.283443Z",
     "iopub.status.busy": "2025-08-19T19:09:33.282250Z",
     "iopub.status.idle": "2025-08-19T19:09:33.289809Z",
     "shell.execute_reply": "2025-08-19T19:09:33.288390Z"
    },
    "papermill": {
     "duration": 0.019614,
     "end_time": "2025-08-19T19:09:33.291274",
     "exception": false,
     "start_time": "2025-08-19T19:09:33.271660",
     "status": "completed"
    },
    "tags": []
   },
   "outputs": [
    {
     "name": "stdout",
     "output_type": "stream",
     "text": [
      "Current working directory: /dss/dsshome1/0C/ra93lal2/cma/CMA_Fairness_v2\n"
     ]
    }
   ],
   "source": [
    "import os\n",
    "print(\"Current working directory:\", os.getcwd())"
   ]
  },
  {
   "cell_type": "code",
   "execution_count": 3,
   "id": "4132aaed",
   "metadata": {
    "execution": {
     "iopub.execute_input": "2025-08-19T19:09:33.384225Z",
     "iopub.status.busy": "2025-08-19T19:09:33.382783Z",
     "iopub.status.idle": "2025-08-19T19:09:33.410840Z",
     "shell.execute_reply": "2025-08-19T19:09:33.409837Z"
    },
    "papermill": {
     "duration": 0.040843,
     "end_time": "2025-08-19T19:09:33.413071",
     "exception": false,
     "start_time": "2025-08-19T19:09:33.372228",
     "status": "completed"
    },
    "tags": [
     "parameters"
    ]
   },
   "outputs": [],
   "source": [
    "run_no = 0\n",
    "universe_id = \"test\"\n",
    "universe = {\n",
    "    \"training_size\": \"5k\", # \"25k\", \"5k\", \"1k\"\n",
    "    \"training_year\": \"2012_14\", # \"2014\", \"2012_14\", \"2010_14\"\n",
    "    \"scale\": \"scale\", # \"scale\", \"do-not-scale\",\n",
    "    \"model\": \"elasticnet\", # \"logreg\", \"penalized_logreg\", \"rf\", \"gbm\", \"elasticnet\"\n",
    "    \"cutoff\": [\"quantile_0.15\", \"quantile_0.30\"],\n",
    "    \"exclude_features\": \"age\", # \"none\", \"nationality\", \"sex\", \"nationality-sex\", \"age\"\n",
    "    \"exclude_subgroups\": \"drop-non-german\", # \"keep-all\", \"drop-non-german\"\n",
    "    \"eval_fairness_grouping\": [\"majority-minority\", \"nationality-all\"]\n",
    "}\n",
    "\n",
    "output_dir=\"./output\"\n",
    "seed=0"
   ]
  },
  {
   "cell_type": "code",
   "execution_count": 4,
   "id": "2a3328da",
   "metadata": {
    "execution": {
     "iopub.execute_input": "2025-08-19T19:09:33.449815Z",
     "iopub.status.busy": "2025-08-19T19:09:33.448602Z",
     "iopub.status.idle": "2025-08-19T19:09:33.456218Z",
     "shell.execute_reply": "2025-08-19T19:09:33.454943Z"
    },
    "papermill": {
     "duration": 0.024235,
     "end_time": "2025-08-19T19:09:33.457675",
     "exception": false,
     "start_time": "2025-08-19T19:09:33.433440",
     "status": "completed"
    },
    "tags": [
     "injected-parameters"
    ]
   },
   "outputs": [],
   "source": [
    "# Parameters\n",
    "universe_id = \"e765d0e8f2cef2f22b9e5cfaf47d5402\"\n",
    "run_no = \"3\"\n",
    "universe = \"{\\\"cutoff\\\": [\\\"quantile_0.1\\\", \\\"quantile_0.25\\\"], \\\"eval_fairness_grouping\\\": [\\\"majority-minority\\\", \\\"nationality-all\\\"], \\\"exclude_features\\\": \\\"nationality\\\", \\\"exclude_subgroups\\\": \\\"drop-non-german\\\", \\\"model\\\": \\\"penalized_logreg\\\", \\\"scale\\\": \\\"do-not-scale\\\", \\\"training_size\\\": \\\"1k\\\", \\\"training_year\\\": \\\"2010_14\\\"}\"\n",
    "output_dir = \"output\"\n",
    "seed = \"2023\"\n"
   ]
  },
  {
   "cell_type": "code",
   "execution_count": 5,
   "id": "a5d7941f",
   "metadata": {
    "execution": {
     "iopub.execute_input": "2025-08-19T19:09:33.481862Z",
     "iopub.status.busy": "2025-08-19T19:09:33.480753Z",
     "iopub.status.idle": "2025-08-19T19:09:33.487587Z",
     "shell.execute_reply": "2025-08-19T19:09:33.486291Z"
    },
    "papermill": {
     "duration": 0.018905,
     "end_time": "2025-08-19T19:09:33.489274",
     "exception": false,
     "start_time": "2025-08-19T19:09:33.470369",
     "status": "completed"
    },
    "tags": []
   },
   "outputs": [],
   "source": [
    "import json\n",
    "if isinstance(universe, str):\n",
    "    universe = json.loads(universe)"
   ]
  },
  {
   "cell_type": "code",
   "execution_count": 6,
   "id": "7076ccb1",
   "metadata": {
    "execution": {
     "iopub.execute_input": "2025-08-19T19:09:33.511842Z",
     "iopub.status.busy": "2025-08-19T19:09:33.510865Z",
     "iopub.status.idle": "2025-08-19T19:09:33.559847Z",
     "shell.execute_reply": "2025-08-19T19:09:33.559052Z"
    },
    "papermill": {
     "duration": 0.060773,
     "end_time": "2025-08-19T19:09:33.561305",
     "exception": false,
     "start_time": "2025-08-19T19:09:33.500532",
     "status": "completed"
    },
    "tags": []
   },
   "outputs": [],
   "source": [
    "# Auto-reload the custom package\n",
    "%load_ext autoreload\n",
    "%autoreload 1\n",
    "%aimport fairness_multiverse"
   ]
  },
  {
   "cell_type": "code",
   "execution_count": 7,
   "id": "94c8eb93",
   "metadata": {
    "execution": {
     "iopub.execute_input": "2025-08-19T19:09:33.582525Z",
     "iopub.status.busy": "2025-08-19T19:09:33.582015Z",
     "iopub.status.idle": "2025-08-19T19:09:35.189240Z",
     "shell.execute_reply": "2025-08-19T19:09:35.188299Z"
    },
    "papermill": {
     "duration": 1.618857,
     "end_time": "2025-08-19T19:09:35.190827",
     "exception": false,
     "start_time": "2025-08-19T19:09:33.571970",
     "status": "completed"
    },
    "tags": []
   },
   "outputs": [],
   "source": [
    "from fairness_multiverse.universe import UniverseAnalysis\n",
    "\n",
    "universe_analysis = UniverseAnalysis(\n",
    "    run_no = run_no,\n",
    "    universe_id = universe_id,\n",
    "    universe = universe,\n",
    "    output_dir=output_dir,\n",
    ")"
   ]
  },
  {
   "cell_type": "code",
   "execution_count": 8,
   "id": "2a6381cf",
   "metadata": {
    "execution": {
     "iopub.execute_input": "2025-08-19T19:09:35.221863Z",
     "iopub.status.busy": "2025-08-19T19:09:35.221450Z",
     "iopub.status.idle": "2025-08-19T19:09:35.236404Z",
     "shell.execute_reply": "2025-08-19T19:09:35.235690Z"
    },
    "papermill": {
     "duration": 0.032422,
     "end_time": "2025-08-19T19:09:35.237714",
     "exception": false,
     "start_time": "2025-08-19T19:09:35.205292",
     "status": "completed"
    },
    "tags": []
   },
   "outputs": [
    {
     "name": "stdout",
     "output_type": "stream",
     "text": [
      "Using Seed: 2023\n"
     ]
    }
   ],
   "source": [
    "import numpy as np\n",
    "parsed_seed = int(seed)\n",
    "np.random.seed(parsed_seed)\n",
    "print(f\"Using Seed: {parsed_seed}\")"
   ]
  },
  {
   "cell_type": "markdown",
   "id": "b6e958b4",
   "metadata": {
    "papermill": {
     "duration": 0.027928,
     "end_time": "2025-08-19T19:09:35.278334",
     "exception": false,
     "start_time": "2025-08-19T19:09:35.250406",
     "status": "completed"
    },
    "tags": []
   },
   "source": [
    "# Loading Data"
   ]
  },
  {
   "cell_type": "code",
   "execution_count": 9,
   "id": "98701482",
   "metadata": {
    "execution": {
     "iopub.execute_input": "2025-08-19T19:09:35.307683Z",
     "iopub.status.busy": "2025-08-19T19:09:35.307151Z",
     "iopub.status.idle": "2025-08-19T19:09:46.026291Z",
     "shell.execute_reply": "2025-08-19T19:09:46.024194Z"
    },
    "papermill": {
     "duration": 10.733611,
     "end_time": "2025-08-19T19:09:46.028911",
     "exception": false,
     "start_time": "2025-08-19T19:09:35.295300",
     "status": "completed"
    },
    "tags": []
   },
   "outputs": [
    {
     "name": "stdout",
     "output_type": "stream",
     "text": [
      "Loading SIAB data from cache: data/siab_cached.csv.gz\n"
     ]
    },
    {
     "name": "stdout",
     "output_type": "stream",
     "text": [
      "(643690, 164)\n"
     ]
    }
   ],
   "source": [
    "from pathlib import Path\n",
    "import pandas as pd\n",
    "\n",
    "# File paths\n",
    "raw_file = Path(\"data/raw/siab.csv\")\n",
    "cache_file = Path(\"data/siab_cached.csv.gz\")\n",
    "\n",
    "# Ensure cache directory exists\n",
    "cache_file.parent.mkdir(parents=True, exist_ok=True)\n",
    "\n",
    "# Load with simple caching\n",
    "if cache_file.exists():\n",
    "    print(f\"Loading SIAB data from cache: {cache_file}\")\n",
    "    siab = pd.read_csv(cache_file, compression='gzip')\n",
    "else:\n",
    "    print(f\"Cache not found. Reading raw SIAB data: {raw_file}\")\n",
    "    siab = pd.read_csv(raw_file)\n",
    "    siab.to_csv(cache_file, index=False, compression='gzip')\n",
    "    print(f\"Cached SIAB data to: {cache_file}\")\n",
    "\n",
    "print(siab.shape)"
   ]
  },
  {
   "cell_type": "code",
   "execution_count": 10,
   "id": "058d2abb",
   "metadata": {
    "execution": {
     "iopub.execute_input": "2025-08-19T19:09:46.057719Z",
     "iopub.status.busy": "2025-08-19T19:09:46.057167Z",
     "iopub.status.idle": "2025-08-19T19:09:46.278416Z",
     "shell.execute_reply": "2025-08-19T19:09:46.276622Z"
    },
    "papermill": {
     "duration": 0.234058,
     "end_time": "2025-08-19T19:09:46.280264",
     "exception": false,
     "start_time": "2025-08-19T19:09:46.046206",
     "status": "completed"
    },
    "tags": []
   },
   "outputs": [
    {
     "data": {
      "text/html": [
       "<div>\n",
       "<style scoped>\n",
       "    .dataframe tbody tr th:only-of-type {\n",
       "        vertical-align: middle;\n",
       "    }\n",
       "\n",
       "    .dataframe tbody tr th {\n",
       "        vertical-align: top;\n",
       "    }\n",
       "\n",
       "    .dataframe thead th {\n",
       "        text-align: right;\n",
       "    }\n",
       "</style>\n",
       "<table border=\"1\" class=\"dataframe\">\n",
       "  <thead>\n",
       "    <tr style=\"text-align: right;\">\n",
       "      <th></th>\n",
       "      <th>persnr</th>\n",
       "      <th>year</th>\n",
       "      <th>nrEntry</th>\n",
       "      <th>ltue</th>\n",
       "      <th>employed_before</th>\n",
       "      <th>receipt_leh_before</th>\n",
       "      <th>receipt_lhg_before</th>\n",
       "      <th>se_before</th>\n",
       "      <th>ASU_notue_seeking_before</th>\n",
       "      <th>ASU_other_before</th>\n",
       "      <th>...</th>\n",
       "      <th>minijob_tot_dur_byage</th>\n",
       "      <th>ft_tot_dur_byage</th>\n",
       "      <th>befrist_tot_dur_byage</th>\n",
       "      <th>leih_tot_dur_byage</th>\n",
       "      <th>LHG_tot_dur_byage</th>\n",
       "      <th>LEH_tot_dur_byage</th>\n",
       "      <th>almp_tot_dur_byage</th>\n",
       "      <th>almp_aw_tot_dur_byage</th>\n",
       "      <th>se_tot_dur_byage</th>\n",
       "      <th>seeking1_tot_dur_byage</th>\n",
       "    </tr>\n",
       "  </thead>\n",
       "  <tbody>\n",
       "    <tr>\n",
       "      <th>0</th>\n",
       "      <td>7</td>\n",
       "      <td>2015</td>\n",
       "      <td>1</td>\n",
       "      <td>0</td>\n",
       "      <td>1</td>\n",
       "      <td>0</td>\n",
       "      <td>0</td>\n",
       "      <td>0</td>\n",
       "      <td>1</td>\n",
       "      <td>0</td>\n",
       "      <td>...</td>\n",
       "      <td>0.000000</td>\n",
       "      <td>0.000000</td>\n",
       "      <td>15.043478</td>\n",
       "      <td>0.000000</td>\n",
       "      <td>0.000000</td>\n",
       "      <td>0.000000</td>\n",
       "      <td>0.000000</td>\n",
       "      <td>0.000000</td>\n",
       "      <td>0.000000</td>\n",
       "      <td>0.000000</td>\n",
       "    </tr>\n",
       "    <tr>\n",
       "      <th>1</th>\n",
       "      <td>18</td>\n",
       "      <td>2010</td>\n",
       "      <td>1</td>\n",
       "      <td>1</td>\n",
       "      <td>0</td>\n",
       "      <td>0</td>\n",
       "      <td>0</td>\n",
       "      <td>0</td>\n",
       "      <td>0</td>\n",
       "      <td>0</td>\n",
       "      <td>...</td>\n",
       "      <td>0.000000</td>\n",
       "      <td>0.000000</td>\n",
       "      <td>0.000000</td>\n",
       "      <td>0.000000</td>\n",
       "      <td>0.000000</td>\n",
       "      <td>0.000000</td>\n",
       "      <td>0.000000</td>\n",
       "      <td>0.000000</td>\n",
       "      <td>0.000000</td>\n",
       "      <td>0.000000</td>\n",
       "    </tr>\n",
       "    <tr>\n",
       "      <th>2</th>\n",
       "      <td>18</td>\n",
       "      <td>2011</td>\n",
       "      <td>2</td>\n",
       "      <td>0</td>\n",
       "      <td>1</td>\n",
       "      <td>0</td>\n",
       "      <td>1</td>\n",
       "      <td>0</td>\n",
       "      <td>1</td>\n",
       "      <td>0</td>\n",
       "      <td>...</td>\n",
       "      <td>2.714286</td>\n",
       "      <td>2.714286</td>\n",
       "      <td>0.000000</td>\n",
       "      <td>0.000000</td>\n",
       "      <td>10.775510</td>\n",
       "      <td>0.000000</td>\n",
       "      <td>8.367347</td>\n",
       "      <td>0.000000</td>\n",
       "      <td>0.000000</td>\n",
       "      <td>9.836735</td>\n",
       "    </tr>\n",
       "    <tr>\n",
       "      <th>3</th>\n",
       "      <td>18</td>\n",
       "      <td>2012</td>\n",
       "      <td>3</td>\n",
       "      <td>0</td>\n",
       "      <td>1</td>\n",
       "      <td>0</td>\n",
       "      <td>1</td>\n",
       "      <td>0</td>\n",
       "      <td>1</td>\n",
       "      <td>0</td>\n",
       "      <td>...</td>\n",
       "      <td>4.200000</td>\n",
       "      <td>4.200000</td>\n",
       "      <td>0.000000</td>\n",
       "      <td>0.000000</td>\n",
       "      <td>12.100000</td>\n",
       "      <td>0.000000</td>\n",
       "      <td>9.400000</td>\n",
       "      <td>0.000000</td>\n",
       "      <td>0.000000</td>\n",
       "      <td>9.960000</td>\n",
       "    </tr>\n",
       "    <tr>\n",
       "      <th>4</th>\n",
       "      <td>18</td>\n",
       "      <td>2012</td>\n",
       "      <td>4</td>\n",
       "      <td>0</td>\n",
       "      <td>1</td>\n",
       "      <td>0</td>\n",
       "      <td>1</td>\n",
       "      <td>0</td>\n",
       "      <td>1</td>\n",
       "      <td>0</td>\n",
       "      <td>...</td>\n",
       "      <td>5.460000</td>\n",
       "      <td>5.460000</td>\n",
       "      <td>0.000000</td>\n",
       "      <td>0.000000</td>\n",
       "      <td>13.360000</td>\n",
       "      <td>0.000000</td>\n",
       "      <td>10.320000</td>\n",
       "      <td>0.000000</td>\n",
       "      <td>0.000000</td>\n",
       "      <td>10.280000</td>\n",
       "    </tr>\n",
       "    <tr>\n",
       "      <th>...</th>\n",
       "      <td>...</td>\n",
       "      <td>...</td>\n",
       "      <td>...</td>\n",
       "      <td>...</td>\n",
       "      <td>...</td>\n",
       "      <td>...</td>\n",
       "      <td>...</td>\n",
       "      <td>...</td>\n",
       "      <td>...</td>\n",
       "      <td>...</td>\n",
       "      <td>...</td>\n",
       "      <td>...</td>\n",
       "      <td>...</td>\n",
       "      <td>...</td>\n",
       "      <td>...</td>\n",
       "      <td>...</td>\n",
       "      <td>...</td>\n",
       "      <td>...</td>\n",
       "      <td>...</td>\n",
       "      <td>...</td>\n",
       "      <td>...</td>\n",
       "    </tr>\n",
       "    <tr>\n",
       "      <th>643685</th>\n",
       "      <td>1827860</td>\n",
       "      <td>2013</td>\n",
       "      <td>1</td>\n",
       "      <td>0</td>\n",
       "      <td>0</td>\n",
       "      <td>0</td>\n",
       "      <td>1</td>\n",
       "      <td>0</td>\n",
       "      <td>0</td>\n",
       "      <td>1</td>\n",
       "      <td>...</td>\n",
       "      <td>0.000000</td>\n",
       "      <td>0.000000</td>\n",
       "      <td>0.000000</td>\n",
       "      <td>0.000000</td>\n",
       "      <td>0.612903</td>\n",
       "      <td>0.000000</td>\n",
       "      <td>0.000000</td>\n",
       "      <td>0.000000</td>\n",
       "      <td>0.000000</td>\n",
       "      <td>0.000000</td>\n",
       "    </tr>\n",
       "    <tr>\n",
       "      <th>643686</th>\n",
       "      <td>1827860</td>\n",
       "      <td>2015</td>\n",
       "      <td>2</td>\n",
       "      <td>1</td>\n",
       "      <td>0</td>\n",
       "      <td>0</td>\n",
       "      <td>1</td>\n",
       "      <td>0</td>\n",
       "      <td>1</td>\n",
       "      <td>0</td>\n",
       "      <td>...</td>\n",
       "      <td>0.000000</td>\n",
       "      <td>0.000000</td>\n",
       "      <td>0.212121</td>\n",
       "      <td>0.212121</td>\n",
       "      <td>17.363636</td>\n",
       "      <td>0.000000</td>\n",
       "      <td>8.909091</td>\n",
       "      <td>0.000000</td>\n",
       "      <td>0.000000</td>\n",
       "      <td>7.121212</td>\n",
       "    </tr>\n",
       "    <tr>\n",
       "      <th>643687</th>\n",
       "      <td>1827860</td>\n",
       "      <td>2016</td>\n",
       "      <td>3</td>\n",
       "      <td>1</td>\n",
       "      <td>0</td>\n",
       "      <td>0</td>\n",
       "      <td>1</td>\n",
       "      <td>1</td>\n",
       "      <td>0</td>\n",
       "      <td>1</td>\n",
       "      <td>...</td>\n",
       "      <td>0.000000</td>\n",
       "      <td>0.000000</td>\n",
       "      <td>0.294118</td>\n",
       "      <td>0.205882</td>\n",
       "      <td>34.705882</td>\n",
       "      <td>0.000000</td>\n",
       "      <td>10.352941</td>\n",
       "      <td>1.705882</td>\n",
       "      <td>1.705882</td>\n",
       "      <td>23.911765</td>\n",
       "    </tr>\n",
       "    <tr>\n",
       "      <th>643688</th>\n",
       "      <td>1827869</td>\n",
       "      <td>2013</td>\n",
       "      <td>1</td>\n",
       "      <td>1</td>\n",
       "      <td>1</td>\n",
       "      <td>0</td>\n",
       "      <td>0</td>\n",
       "      <td>0</td>\n",
       "      <td>1</td>\n",
       "      <td>0</td>\n",
       "      <td>...</td>\n",
       "      <td>0.000000</td>\n",
       "      <td>0.000000</td>\n",
       "      <td>0.000000</td>\n",
       "      <td>0.000000</td>\n",
       "      <td>0.000000</td>\n",
       "      <td>0.525424</td>\n",
       "      <td>0.000000</td>\n",
       "      <td>0.000000</td>\n",
       "      <td>0.000000</td>\n",
       "      <td>0.000000</td>\n",
       "    </tr>\n",
       "    <tr>\n",
       "      <th>643689</th>\n",
       "      <td>1827869</td>\n",
       "      <td>2014</td>\n",
       "      <td>2</td>\n",
       "      <td>0</td>\n",
       "      <td>0</td>\n",
       "      <td>1</td>\n",
       "      <td>0</td>\n",
       "      <td>0</td>\n",
       "      <td>1</td>\n",
       "      <td>0</td>\n",
       "      <td>...</td>\n",
       "      <td>0.000000</td>\n",
       "      <td>0.666667</td>\n",
       "      <td>0.666667</td>\n",
       "      <td>0.000000</td>\n",
       "      <td>0.000000</td>\n",
       "      <td>8.950000</td>\n",
       "      <td>1.033333</td>\n",
       "      <td>0.083333</td>\n",
       "      <td>0.083333</td>\n",
       "      <td>8.133333</td>\n",
       "    </tr>\n",
       "  </tbody>\n",
       "</table>\n",
       "<p>643690 rows × 164 columns</p>\n",
       "</div>"
      ],
      "text/plain": [
       "         persnr  year  nrEntry  ltue  employed_before  receipt_leh_before  \\\n",
       "0             7  2015        1     0                1                   0   \n",
       "1            18  2010        1     1                0                   0   \n",
       "2            18  2011        2     0                1                   0   \n",
       "3            18  2012        3     0                1                   0   \n",
       "4            18  2012        4     0                1                   0   \n",
       "...         ...   ...      ...   ...              ...                 ...   \n",
       "643685  1827860  2013        1     0                0                   0   \n",
       "643686  1827860  2015        2     1                0                   0   \n",
       "643687  1827860  2016        3     1                0                   0   \n",
       "643688  1827869  2013        1     1                1                   0   \n",
       "643689  1827869  2014        2     0                0                   1   \n",
       "\n",
       "        receipt_lhg_before  se_before  ASU_notue_seeking_before  \\\n",
       "0                        0          0                         1   \n",
       "1                        0          0                         0   \n",
       "2                        1          0                         1   \n",
       "3                        1          0                         1   \n",
       "4                        1          0                         1   \n",
       "...                    ...        ...                       ...   \n",
       "643685                   1          0                         0   \n",
       "643686                   1          0                         1   \n",
       "643687                   1          1                         0   \n",
       "643688                   0          0                         1   \n",
       "643689                   0          0                         1   \n",
       "\n",
       "        ASU_other_before  ...  minijob_tot_dur_byage  ft_tot_dur_byage  \\\n",
       "0                      0  ...               0.000000          0.000000   \n",
       "1                      0  ...               0.000000          0.000000   \n",
       "2                      0  ...               2.714286          2.714286   \n",
       "3                      0  ...               4.200000          4.200000   \n",
       "4                      0  ...               5.460000          5.460000   \n",
       "...                  ...  ...                    ...               ...   \n",
       "643685                 1  ...               0.000000          0.000000   \n",
       "643686                 0  ...               0.000000          0.000000   \n",
       "643687                 1  ...               0.000000          0.000000   \n",
       "643688                 0  ...               0.000000          0.000000   \n",
       "643689                 0  ...               0.000000          0.666667   \n",
       "\n",
       "        befrist_tot_dur_byage  leih_tot_dur_byage  LHG_tot_dur_byage  \\\n",
       "0                   15.043478            0.000000           0.000000   \n",
       "1                    0.000000            0.000000           0.000000   \n",
       "2                    0.000000            0.000000          10.775510   \n",
       "3                    0.000000            0.000000          12.100000   \n",
       "4                    0.000000            0.000000          13.360000   \n",
       "...                       ...                 ...                ...   \n",
       "643685               0.000000            0.000000           0.612903   \n",
       "643686               0.212121            0.212121          17.363636   \n",
       "643687               0.294118            0.205882          34.705882   \n",
       "643688               0.000000            0.000000           0.000000   \n",
       "643689               0.666667            0.000000           0.000000   \n",
       "\n",
       "        LEH_tot_dur_byage  almp_tot_dur_byage  almp_aw_tot_dur_byage  \\\n",
       "0                0.000000            0.000000               0.000000   \n",
       "1                0.000000            0.000000               0.000000   \n",
       "2                0.000000            8.367347               0.000000   \n",
       "3                0.000000            9.400000               0.000000   \n",
       "4                0.000000           10.320000               0.000000   \n",
       "...                   ...                 ...                    ...   \n",
       "643685           0.000000            0.000000               0.000000   \n",
       "643686           0.000000            8.909091               0.000000   \n",
       "643687           0.000000           10.352941               1.705882   \n",
       "643688           0.525424            0.000000               0.000000   \n",
       "643689           8.950000            1.033333               0.083333   \n",
       "\n",
       "        se_tot_dur_byage  seeking1_tot_dur_byage  \n",
       "0               0.000000                0.000000  \n",
       "1               0.000000                0.000000  \n",
       "2               0.000000                9.836735  \n",
       "3               0.000000                9.960000  \n",
       "4               0.000000               10.280000  \n",
       "...                  ...                     ...  \n",
       "643685          0.000000                0.000000  \n",
       "643686          0.000000                7.121212  \n",
       "643687          1.705882               23.911765  \n",
       "643688          0.000000                0.000000  \n",
       "643689          0.083333                8.133333  \n",
       "\n",
       "[643690 rows x 164 columns]"
      ]
     },
     "execution_count": 10,
     "metadata": {},
     "output_type": "execute_result"
    }
   ],
   "source": [
    "siab"
   ]
  },
  {
   "cell_type": "markdown",
   "id": "1f87e805",
   "metadata": {
    "papermill": {
     "duration": 0.00973,
     "end_time": "2025-08-19T19:09:46.300775",
     "exception": false,
     "start_time": "2025-08-19T19:09:46.291045",
     "status": "completed"
    },
    "tags": []
   },
   "source": [
    "# Splitting Data and Setting Training Data Size"
   ]
  },
  {
   "cell_type": "code",
   "execution_count": 11,
   "id": "910ae358",
   "metadata": {
    "execution": {
     "iopub.execute_input": "2025-08-19T19:09:46.322215Z",
     "iopub.status.busy": "2025-08-19T19:09:46.321441Z",
     "iopub.status.idle": "2025-08-19T19:09:47.398550Z",
     "shell.execute_reply": "2025-08-19T19:09:47.396691Z"
    },
    "papermill": {
     "duration": 1.090181,
     "end_time": "2025-08-19T19:09:47.400540",
     "exception": false,
     "start_time": "2025-08-19T19:09:46.310359",
     "status": "completed"
    },
    "tags": []
   },
   "outputs": [],
   "source": [
    "from fairness_multiverse.universe import sample_by_year_size\n",
    "\n",
    "siab_train = sample_by_year_size(siab,\n",
    "                               training_year=universe[\"training_year\"],\n",
    "                               training_size=universe[\"training_size\"])"
   ]
  },
  {
   "cell_type": "code",
   "execution_count": 12,
   "id": "919c8ff5",
   "metadata": {
    "execution": {
     "iopub.execute_input": "2025-08-19T19:09:47.428998Z",
     "iopub.status.busy": "2025-08-19T19:09:47.427685Z",
     "iopub.status.idle": "2025-08-19T19:09:47.442949Z",
     "shell.execute_reply": "2025-08-19T19:09:47.441326Z"
    },
    "papermill": {
     "duration": 0.029924,
     "end_time": "2025-08-19T19:09:47.444790",
     "exception": false,
     "start_time": "2025-08-19T19:09:47.414866",
     "status": "completed"
    },
    "tags": []
   },
   "outputs": [
    {
     "data": {
      "text/plain": [
       "(1000, 164)"
      ]
     },
     "execution_count": 12,
     "metadata": {},
     "output_type": "execute_result"
    }
   ],
   "source": [
    "siab_train.shape"
   ]
  },
  {
   "cell_type": "code",
   "execution_count": 13,
   "id": "feb13bf4",
   "metadata": {
    "execution": {
     "iopub.execute_input": "2025-08-19T19:09:47.473649Z",
     "iopub.status.busy": "2025-08-19T19:09:47.472372Z",
     "iopub.status.idle": "2025-08-19T19:09:47.490643Z",
     "shell.execute_reply": "2025-08-19T19:09:47.489614Z"
    },
    "papermill": {
     "duration": 0.031723,
     "end_time": "2025-08-19T19:09:47.491958",
     "exception": false,
     "start_time": "2025-08-19T19:09:47.460235",
     "status": "completed"
    },
    "tags": []
   },
   "outputs": [
    {
     "data": {
      "text/plain": [
       "year\n",
       "2010    200\n",
       "2011    200\n",
       "2012    200\n",
       "2013    200\n",
       "2014    200\n",
       "dtype: int64"
      ]
     },
     "metadata": {},
     "output_type": "display_data"
    }
   ],
   "source": [
    "display(siab_train.groupby(\"year\").size())"
   ]
  },
  {
   "cell_type": "code",
   "execution_count": 14,
   "id": "0997782f",
   "metadata": {
    "execution": {
     "iopub.execute_input": "2025-08-19T19:09:47.537176Z",
     "iopub.status.busy": "2025-08-19T19:09:47.520447Z",
     "iopub.status.idle": "2025-08-19T19:09:48.209954Z",
     "shell.execute_reply": "2025-08-19T19:09:48.208674Z"
    },
    "papermill": {
     "duration": 0.704038,
     "end_time": "2025-08-19T19:09:48.211596",
     "exception": false,
     "start_time": "2025-08-19T19:09:47.507558",
     "status": "completed"
    },
    "tags": []
   },
   "outputs": [],
   "source": [
    "#siab_train = siab_s[siab_s.year < 2015]\n",
    "siab_calib = siab[siab.year == 2015]\n",
    "siab_test = siab[siab.year == 2016]"
   ]
  },
  {
   "cell_type": "code",
   "execution_count": 15,
   "id": "2c1e4012",
   "metadata": {
    "execution": {
     "iopub.execute_input": "2025-08-19T19:09:48.241085Z",
     "iopub.status.busy": "2025-08-19T19:09:48.240602Z",
     "iopub.status.idle": "2025-08-19T19:09:48.245720Z",
     "shell.execute_reply": "2025-08-19T19:09:48.244977Z"
    },
    "papermill": {
     "duration": 0.021984,
     "end_time": "2025-08-19T19:09:48.247249",
     "exception": false,
     "start_time": "2025-08-19T19:09:48.225265",
     "status": "completed"
    },
    "tags": []
   },
   "outputs": [],
   "source": [
    "#siab_calib.shape"
   ]
  },
  {
   "cell_type": "code",
   "execution_count": 16,
   "id": "f66b54ca",
   "metadata": {
    "execution": {
     "iopub.execute_input": "2025-08-19T19:09:48.268953Z",
     "iopub.status.busy": "2025-08-19T19:09:48.268610Z",
     "iopub.status.idle": "2025-08-19T19:09:48.274988Z",
     "shell.execute_reply": "2025-08-19T19:09:48.273570Z"
    },
    "papermill": {
     "duration": 0.018717,
     "end_time": "2025-08-19T19:09:48.276394",
     "exception": false,
     "start_time": "2025-08-19T19:09:48.257677",
     "status": "completed"
    },
    "tags": []
   },
   "outputs": [],
   "source": [
    "#siab_test.shape"
   ]
  },
  {
   "cell_type": "code",
   "execution_count": 17,
   "id": "27e4384d",
   "metadata": {
    "execution": {
     "iopub.execute_input": "2025-08-19T19:09:48.297961Z",
     "iopub.status.busy": "2025-08-19T19:09:48.297645Z",
     "iopub.status.idle": "2025-08-19T19:09:48.306753Z",
     "shell.execute_reply": "2025-08-19T19:09:48.305739Z"
    },
    "papermill": {
     "duration": 0.022731,
     "end_time": "2025-08-19T19:09:48.309224",
     "exception": false,
     "start_time": "2025-08-19T19:09:48.286493",
     "status": "completed"
    },
    "tags": []
   },
   "outputs": [],
   "source": [
    "X_train = siab_train.iloc[:,4:164]\n",
    "y_train = siab_train.iloc[:, [3]]"
   ]
  },
  {
   "cell_type": "code",
   "execution_count": 18,
   "id": "08ee8389",
   "metadata": {
    "execution": {
     "iopub.execute_input": "2025-08-19T19:09:48.349324Z",
     "iopub.status.busy": "2025-08-19T19:09:48.348039Z",
     "iopub.status.idle": "2025-08-19T19:09:48.453963Z",
     "shell.execute_reply": "2025-08-19T19:09:48.452393Z"
    },
    "papermill": {
     "duration": 0.122901,
     "end_time": "2025-08-19T19:09:48.456759",
     "exception": false,
     "start_time": "2025-08-19T19:09:48.333858",
     "status": "completed"
    },
    "tags": []
   },
   "outputs": [],
   "source": [
    "X_calib = siab_calib.iloc[:,4:164]\n",
    "y_calib = siab_calib.iloc[:, [3]]"
   ]
  },
  {
   "cell_type": "code",
   "execution_count": 19,
   "id": "b7ff42e0",
   "metadata": {
    "execution": {
     "iopub.execute_input": "2025-08-19T19:09:48.499243Z",
     "iopub.status.busy": "2025-08-19T19:09:48.497543Z",
     "iopub.status.idle": "2025-08-19T19:09:48.565442Z",
     "shell.execute_reply": "2025-08-19T19:09:48.564247Z"
    },
    "papermill": {
     "duration": 0.088384,
     "end_time": "2025-08-19T19:09:48.568308",
     "exception": false,
     "start_time": "2025-08-19T19:09:48.479924",
     "status": "completed"
    },
    "tags": []
   },
   "outputs": [],
   "source": [
    "X_test = siab_test.iloc[:,4:164]\n",
    "y_true = siab_test.iloc[:, [3]]"
   ]
  },
  {
   "cell_type": "code",
   "execution_count": 20,
   "id": "0275101e",
   "metadata": {
    "execution": {
     "iopub.execute_input": "2025-08-19T19:09:48.605201Z",
     "iopub.status.busy": "2025-08-19T19:09:48.602038Z",
     "iopub.status.idle": "2025-08-19T19:09:48.739288Z",
     "shell.execute_reply": "2025-08-19T19:09:48.738087Z"
    },
    "papermill": {
     "duration": 0.150844,
     "end_time": "2025-08-19T19:09:48.740904",
     "exception": false,
     "start_time": "2025-08-19T19:09:48.590060",
     "status": "completed"
    },
    "tags": []
   },
   "outputs": [],
   "source": [
    "# Auxiliary data needed downstream in the pipeline\n",
    "\n",
    "org_train = X_train.copy()\n",
    "org_test = X_test.copy()\n",
    "org_calib = X_calib.copy()"
   ]
  },
  {
   "cell_type": "markdown",
   "id": "b461e618",
   "metadata": {
    "papermill": {
     "duration": 0.025793,
     "end_time": "2025-08-19T19:09:48.785651",
     "exception": false,
     "start_time": "2025-08-19T19:09:48.759858",
     "status": "completed"
    },
    "tags": []
   },
   "source": [
    "# Preprocessing Data"
   ]
  },
  {
   "cell_type": "code",
   "execution_count": 21,
   "id": "78e74c4b",
   "metadata": {
    "execution": {
     "iopub.execute_input": "2025-08-19T19:09:48.811282Z",
     "iopub.status.busy": "2025-08-19T19:09:48.810653Z",
     "iopub.status.idle": "2025-08-19T19:09:48.817819Z",
     "shell.execute_reply": "2025-08-19T19:09:48.816933Z"
    },
    "papermill": {
     "duration": 0.022555,
     "end_time": "2025-08-19T19:09:48.821166",
     "exception": false,
     "start_time": "2025-08-19T19:09:48.798611",
     "status": "completed"
    },
    "tags": []
   },
   "outputs": [],
   "source": [
    "# EXCLUDE PROTECTED FEATURES\n",
    "# --------------------------\n",
    "\n",
    "excluded_features = universe[\"exclude_features\"].split(\"-\")\n",
    "excluded_features_dictionary = {\n",
    "    \"nationality\": [\"maxdeutsch1\", \"maxdeutsch.Missing.\"],\n",
    "    \"sex\": [\"frau1\"],\n",
    "    \"age\": [\"age\"],\n",
    "}"
   ]
  },
  {
   "cell_type": "code",
   "execution_count": 22,
   "id": "f8e63555",
   "metadata": {
    "execution": {
     "iopub.execute_input": "2025-08-19T19:09:48.849107Z",
     "iopub.status.busy": "2025-08-19T19:09:48.848501Z",
     "iopub.status.idle": "2025-08-19T19:09:48.853230Z",
     "shell.execute_reply": "2025-08-19T19:09:48.852492Z"
    },
    "papermill": {
     "duration": 0.017544,
     "end_time": "2025-08-19T19:09:48.854359",
     "exception": false,
     "start_time": "2025-08-19T19:09:48.836815",
     "status": "completed"
    },
    "tags": []
   },
   "outputs": [],
   "source": [
    "excluded_features_columns = [\n",
    "    excluded_features_dictionary[f] for f in excluded_features if len(f) > 0 and f != \"none\"\n",
    "]"
   ]
  },
  {
   "cell_type": "code",
   "execution_count": 23,
   "id": "da781f7c",
   "metadata": {
    "execution": {
     "iopub.execute_input": "2025-08-19T19:09:48.876972Z",
     "iopub.status.busy": "2025-08-19T19:09:48.876560Z",
     "iopub.status.idle": "2025-08-19T19:09:48.881400Z",
     "shell.execute_reply": "2025-08-19T19:09:48.880688Z"
    },
    "papermill": {
     "duration": 0.018511,
     "end_time": "2025-08-19T19:09:48.883518",
     "exception": false,
     "start_time": "2025-08-19T19:09:48.865007",
     "status": "completed"
    },
    "tags": []
   },
   "outputs": [],
   "source": [
    "from fairness_multiverse.universe import flatten_once\n",
    "\n",
    "excluded_features_columns = flatten_once(excluded_features_columns)"
   ]
  },
  {
   "cell_type": "code",
   "execution_count": 24,
   "id": "37fef0f0",
   "metadata": {
    "execution": {
     "iopub.execute_input": "2025-08-19T19:09:48.907856Z",
     "iopub.status.busy": "2025-08-19T19:09:48.907399Z",
     "iopub.status.idle": "2025-08-19T19:09:48.918012Z",
     "shell.execute_reply": "2025-08-19T19:09:48.917077Z"
    },
    "papermill": {
     "duration": 0.028239,
     "end_time": "2025-08-19T19:09:48.924049",
     "exception": false,
     "start_time": "2025-08-19T19:09:48.895810",
     "status": "completed"
    },
    "tags": []
   },
   "outputs": [
    {
     "name": "stdout",
     "output_type": "stream",
     "text": [
      "Dropping features: ['maxdeutsch1', 'maxdeutsch.Missing.']\n"
     ]
    }
   ],
   "source": [
    "if len(excluded_features_columns) > 0:\n",
    "    print(f\"Dropping features: {excluded_features_columns}\")\n",
    "    X_train.drop(excluded_features_columns, axis=1, inplace=True)"
   ]
  },
  {
   "cell_type": "code",
   "execution_count": 25,
   "id": "d029e3e9",
   "metadata": {
    "execution": {
     "iopub.execute_input": "2025-08-19T19:09:48.968024Z",
     "iopub.status.busy": "2025-08-19T19:09:48.967300Z",
     "iopub.status.idle": "2025-08-19T19:09:49.045171Z",
     "shell.execute_reply": "2025-08-19T19:09:49.044374Z"
    },
    "papermill": {
     "duration": 0.103999,
     "end_time": "2025-08-19T19:09:49.048860",
     "exception": false,
     "start_time": "2025-08-19T19:09:48.944861",
     "status": "completed"
    },
    "tags": []
   },
   "outputs": [
    {
     "name": "stdout",
     "output_type": "stream",
     "text": [
      "Dropping features: ['maxdeutsch1', 'maxdeutsch.Missing.']\n"
     ]
    }
   ],
   "source": [
    "if len(excluded_features_columns) > 0:\n",
    "    print(f\"Dropping features: {excluded_features_columns}\")\n",
    "    X_test.drop(excluded_features_columns, axis=1, inplace=True)"
   ]
  },
  {
   "cell_type": "code",
   "execution_count": 26,
   "id": "01d571f0",
   "metadata": {
    "execution": {
     "iopub.execute_input": "2025-08-19T19:09:49.088240Z",
     "iopub.status.busy": "2025-08-19T19:09:49.087175Z",
     "iopub.status.idle": "2025-08-19T19:09:49.150401Z",
     "shell.execute_reply": "2025-08-19T19:09:49.149619Z"
    },
    "papermill": {
     "duration": 0.080211,
     "end_time": "2025-08-19T19:09:49.153285",
     "exception": false,
     "start_time": "2025-08-19T19:09:49.073074",
     "status": "completed"
    },
    "tags": []
   },
   "outputs": [
    {
     "name": "stdout",
     "output_type": "stream",
     "text": [
      "Dropping features: ['maxdeutsch1', 'maxdeutsch.Missing.']\n"
     ]
    }
   ],
   "source": [
    "if len(excluded_features_columns) > 0:\n",
    "    print(f\"Dropping features: {excluded_features_columns}\")\n",
    "    X_calib.drop(excluded_features_columns, axis=1, inplace=True)"
   ]
  },
  {
   "cell_type": "code",
   "execution_count": 27,
   "id": "3037356e",
   "metadata": {
    "execution": {
     "iopub.execute_input": "2025-08-19T19:09:49.197881Z",
     "iopub.status.busy": "2025-08-19T19:09:49.196633Z",
     "iopub.status.idle": "2025-08-19T19:09:49.205849Z",
     "shell.execute_reply": "2025-08-19T19:09:49.204116Z"
    },
    "papermill": {
     "duration": 0.02801,
     "end_time": "2025-08-19T19:09:49.207624",
     "exception": false,
     "start_time": "2025-08-19T19:09:49.179614",
     "status": "completed"
    },
    "tags": []
   },
   "outputs": [],
   "source": [
    "# EXCLUDE CERTAIN SUBGROUPS\n",
    "# -------------------------\n",
    "\n",
    "mode = universe.get(\"exclude_subgroups\", \"keep-all\") # Defaults to \"keep-all\" if the key is missing."
   ]
  },
  {
   "cell_type": "code",
   "execution_count": 28,
   "id": "9d1e63fd",
   "metadata": {
    "execution": {
     "iopub.execute_input": "2025-08-19T19:09:49.235505Z",
     "iopub.status.busy": "2025-08-19T19:09:49.234345Z",
     "iopub.status.idle": "2025-08-19T19:09:49.249360Z",
     "shell.execute_reply": "2025-08-19T19:09:49.247031Z"
    },
    "papermill": {
     "duration": 0.029267,
     "end_time": "2025-08-19T19:09:49.250876",
     "exception": false,
     "start_time": "2025-08-19T19:09:49.221609",
     "status": "completed"
    },
    "tags": []
   },
   "outputs": [],
   "source": [
    "if mode == \"keep-all\":\n",
    "    keep_mask = pd.Series(True, index=org_train.index)\n",
    "\n",
    "elif mode == \"drop-non-german\":\n",
    "    keep_mask = (org_train[\"maxdeutsch1\"] == 1) & (org_train[\"maxdeutsch.Missing.\"] == 0)\n",
    "\n",
    "else:\n",
    "    raise ValueError(f\"Unsupported mode for exclude_subgroups: {mode}\")"
   ]
  },
  {
   "cell_type": "code",
   "execution_count": 29,
   "id": "d3b65474",
   "metadata": {
    "execution": {
     "iopub.execute_input": "2025-08-19T19:09:49.283135Z",
     "iopub.status.busy": "2025-08-19T19:09:49.281899Z",
     "iopub.status.idle": "2025-08-19T19:09:49.295797Z",
     "shell.execute_reply": "2025-08-19T19:09:49.294421Z"
    },
    "papermill": {
     "duration": 0.029572,
     "end_time": "2025-08-19T19:09:49.297480",
     "exception": false,
     "start_time": "2025-08-19T19:09:49.267908",
     "status": "completed"
    },
    "tags": []
   },
   "outputs": [
    {
     "name": "stdout",
     "output_type": "stream",
     "text": [
      "Dropping 131 rows (13.10%) where mode='drop-non-german'\n"
     ]
    }
   ],
   "source": [
    "n_drop = (~keep_mask).sum() # Calculates how many rows are set to be dropped\n",
    "if n_drop > 0:\n",
    "    pct = n_drop / len(keep_mask) * 100\n",
    "    print(f\"Dropping {n_drop} rows ({pct:.2f}%) where mode='{mode}'\")"
   ]
  },
  {
   "cell_type": "code",
   "execution_count": 30,
   "id": "f44389b3",
   "metadata": {
    "execution": {
     "iopub.execute_input": "2025-08-19T19:09:49.327103Z",
     "iopub.status.busy": "2025-08-19T19:09:49.325875Z",
     "iopub.status.idle": "2025-08-19T19:09:49.339773Z",
     "shell.execute_reply": "2025-08-19T19:09:49.338146Z"
    },
    "papermill": {
     "duration": 0.02928,
     "end_time": "2025-08-19T19:09:49.341557",
     "exception": false,
     "start_time": "2025-08-19T19:09:49.312277",
     "status": "completed"
    },
    "tags": []
   },
   "outputs": [],
   "source": [
    "X_train = X_train[keep_mask]"
   ]
  },
  {
   "cell_type": "code",
   "execution_count": 31,
   "id": "ceca8c2a",
   "metadata": {
    "execution": {
     "iopub.execute_input": "2025-08-19T19:09:49.373944Z",
     "iopub.status.busy": "2025-08-19T19:09:49.372511Z",
     "iopub.status.idle": "2025-08-19T19:09:49.383846Z",
     "shell.execute_reply": "2025-08-19T19:09:49.381860Z"
    },
    "papermill": {
     "duration": 0.026678,
     "end_time": "2025-08-19T19:09:49.385351",
     "exception": false,
     "start_time": "2025-08-19T19:09:49.358673",
     "status": "completed"
    },
    "tags": []
   },
   "outputs": [],
   "source": [
    "y_train = y_train[keep_mask]"
   ]
  },
  {
   "cell_type": "markdown",
   "id": "04d31e2f",
   "metadata": {
    "papermill": {
     "duration": 0.022128,
     "end_time": "2025-08-19T19:09:49.434791",
     "exception": false,
     "start_time": "2025-08-19T19:09:49.412663",
     "status": "completed"
    },
    "tags": []
   },
   "source": [
    "# Model Training"
   ]
  },
  {
   "cell_type": "code",
   "execution_count": 32,
   "id": "db991733",
   "metadata": {
    "execution": {
     "iopub.execute_input": "2025-08-19T19:09:49.459259Z",
     "iopub.status.busy": "2025-08-19T19:09:49.458779Z",
     "iopub.status.idle": "2025-08-19T19:09:49.570373Z",
     "shell.execute_reply": "2025-08-19T19:09:49.569535Z"
    },
    "papermill": {
     "duration": 0.125778,
     "end_time": "2025-08-19T19:09:49.571948",
     "exception": false,
     "start_time": "2025-08-19T19:09:49.446170",
     "status": "completed"
    },
    "tags": []
   },
   "outputs": [],
   "source": [
    "from sklearn.linear_model import LogisticRegression\n",
    "from sklearn.ensemble import GradientBoostingClassifier, RandomForestClassifier\n",
    "\n",
    "if (universe[\"model\"] == \"logreg\"):\n",
    "    model = LogisticRegression() #penalty=\"none\", solver=\"newton-cg\", max_iter=1)\n",
    "elif (universe[\"model\"] == \"penalized_logreg\"):\n",
    "    model = LogisticRegression(penalty=\"l2\", C=0.1) #, solver=\"newton-cg\", max_iter=1)\n",
    "elif (universe[\"model\"] == \"rf\"):\n",
    "    model = RandomForestClassifier() # n_estimators=100, n_jobs=-1\n",
    "elif (universe[\"model\"] == \"gbm\"):\n",
    "    model = GradientBoostingClassifier()\n",
    "elif (universe[\"model\"] == \"elasticnet\"):\n",
    "    model = LogisticRegression(penalty = 'elasticnet', solver = 'saga', l1_ratio = 0.5) # max_iter=5000\n",
    "else:\n",
    "    raise \"Unsupported universe.model\""
   ]
  },
  {
   "cell_type": "code",
   "execution_count": 33,
   "id": "a4b5cd25",
   "metadata": {
    "execution": {
     "iopub.execute_input": "2025-08-19T19:09:49.595766Z",
     "iopub.status.busy": "2025-08-19T19:09:49.595227Z",
     "iopub.status.idle": "2025-08-19T19:09:49.600918Z",
     "shell.execute_reply": "2025-08-19T19:09:49.600171Z"
    },
    "papermill": {
     "duration": 0.018848,
     "end_time": "2025-08-19T19:09:49.602120",
     "exception": false,
     "start_time": "2025-08-19T19:09:49.583272",
     "status": "completed"
    },
    "tags": []
   },
   "outputs": [],
   "source": [
    "from sklearn.pipeline import Pipeline\n",
    "from sklearn.preprocessing import StandardScaler\n",
    "\n",
    "model = Pipeline([\n",
    "    #(\"continuous_processor\", continuous_processor),\n",
    "    #(\"categorical_preprocessor\", categorical_preprocessor),\n",
    "    (\"scale\", StandardScaler() if universe[\"scale\"] == \"scale\" else None), \n",
    "    (\"model\", model),\n",
    "])"
   ]
  },
  {
   "cell_type": "code",
   "execution_count": 34,
   "id": "283a904d",
   "metadata": {
    "execution": {
     "iopub.execute_input": "2025-08-19T19:09:49.625883Z",
     "iopub.status.busy": "2025-08-19T19:09:49.624617Z",
     "iopub.status.idle": "2025-08-19T19:09:49.692900Z",
     "shell.execute_reply": "2025-08-19T19:09:49.691826Z"
    },
    "papermill": {
     "duration": 0.086697,
     "end_time": "2025-08-19T19:09:49.699665",
     "exception": false,
     "start_time": "2025-08-19T19:09:49.612968",
     "status": "completed"
    },
    "tags": []
   },
   "outputs": [
    {
     "name": "stderr",
     "output_type": "stream",
     "text": [
      "/dss/dsshome1/0C/ra93lal2/.local/share/virtualenvs/CMA_Fairness_v2-3j10GkSs/lib/python3.10/site-packages/sklearn/linear_model/_logistic.py:444: ConvergenceWarning: lbfgs failed to converge (status=1):\n",
      "STOP: TOTAL NO. of ITERATIONS REACHED LIMIT.\n",
      "\n",
      "Increase the number of iterations (max_iter) or scale the data as shown in:\n",
      "    https://scikit-learn.org/stable/modules/preprocessing.html\n",
      "Please also refer to the documentation for alternative solver options:\n",
      "    https://scikit-learn.org/stable/modules/linear_model.html#logistic-regression\n",
      "  n_iter_i = _check_optimize_result(\n"
     ]
    },
    {
     "data": {
      "text/html": [
       "<style>#sk-container-id-1 {color: black;background-color: white;}#sk-container-id-1 pre{padding: 0;}#sk-container-id-1 div.sk-toggleable {background-color: white;}#sk-container-id-1 label.sk-toggleable__label {cursor: pointer;display: block;width: 100%;margin-bottom: 0;padding: 0.3em;box-sizing: border-box;text-align: center;}#sk-container-id-1 label.sk-toggleable__label-arrow:before {content: \"▸\";float: left;margin-right: 0.25em;color: #696969;}#sk-container-id-1 label.sk-toggleable__label-arrow:hover:before {color: black;}#sk-container-id-1 div.sk-estimator:hover label.sk-toggleable__label-arrow:before {color: black;}#sk-container-id-1 div.sk-toggleable__content {max-height: 0;max-width: 0;overflow: hidden;text-align: left;background-color: #f0f8ff;}#sk-container-id-1 div.sk-toggleable__content pre {margin: 0.2em;color: black;border-radius: 0.25em;background-color: #f0f8ff;}#sk-container-id-1 input.sk-toggleable__control:checked~div.sk-toggleable__content {max-height: 200px;max-width: 100%;overflow: auto;}#sk-container-id-1 input.sk-toggleable__control:checked~label.sk-toggleable__label-arrow:before {content: \"▾\";}#sk-container-id-1 div.sk-estimator input.sk-toggleable__control:checked~label.sk-toggleable__label {background-color: #d4ebff;}#sk-container-id-1 div.sk-label input.sk-toggleable__control:checked~label.sk-toggleable__label {background-color: #d4ebff;}#sk-container-id-1 input.sk-hidden--visually {border: 0;clip: rect(1px 1px 1px 1px);clip: rect(1px, 1px, 1px, 1px);height: 1px;margin: -1px;overflow: hidden;padding: 0;position: absolute;width: 1px;}#sk-container-id-1 div.sk-estimator {font-family: monospace;background-color: #f0f8ff;border: 1px dotted black;border-radius: 0.25em;box-sizing: border-box;margin-bottom: 0.5em;}#sk-container-id-1 div.sk-estimator:hover {background-color: #d4ebff;}#sk-container-id-1 div.sk-parallel-item::after {content: \"\";width: 100%;border-bottom: 1px solid gray;flex-grow: 1;}#sk-container-id-1 div.sk-label:hover label.sk-toggleable__label {background-color: #d4ebff;}#sk-container-id-1 div.sk-serial::before {content: \"\";position: absolute;border-left: 1px solid gray;box-sizing: border-box;top: 0;bottom: 0;left: 50%;z-index: 0;}#sk-container-id-1 div.sk-serial {display: flex;flex-direction: column;align-items: center;background-color: white;padding-right: 0.2em;padding-left: 0.2em;position: relative;}#sk-container-id-1 div.sk-item {position: relative;z-index: 1;}#sk-container-id-1 div.sk-parallel {display: flex;align-items: stretch;justify-content: center;background-color: white;position: relative;}#sk-container-id-1 div.sk-item::before, #sk-container-id-1 div.sk-parallel-item::before {content: \"\";position: absolute;border-left: 1px solid gray;box-sizing: border-box;top: 0;bottom: 0;left: 50%;z-index: -1;}#sk-container-id-1 div.sk-parallel-item {display: flex;flex-direction: column;z-index: 1;position: relative;background-color: white;}#sk-container-id-1 div.sk-parallel-item:first-child::after {align-self: flex-end;width: 50%;}#sk-container-id-1 div.sk-parallel-item:last-child::after {align-self: flex-start;width: 50%;}#sk-container-id-1 div.sk-parallel-item:only-child::after {width: 0;}#sk-container-id-1 div.sk-dashed-wrapped {border: 1px dashed gray;margin: 0 0.4em 0.5em 0.4em;box-sizing: border-box;padding-bottom: 0.4em;background-color: white;}#sk-container-id-1 div.sk-label label {font-family: monospace;font-weight: bold;display: inline-block;line-height: 1.2em;}#sk-container-id-1 div.sk-label-container {text-align: center;}#sk-container-id-1 div.sk-container {/* jupyter's `normalize.less` sets `[hidden] { display: none; }` but bootstrap.min.css set `[hidden] { display: none !important; }` so we also need the `!important` here to be able to override the default hidden behavior on the sphinx rendered scikit-learn.org. See: https://github.com/scikit-learn/scikit-learn/issues/21755 */display: inline-block !important;position: relative;}#sk-container-id-1 div.sk-text-repr-fallback {display: none;}</style><div id=\"sk-container-id-1\" class=\"sk-top-container\"><div class=\"sk-text-repr-fallback\"><pre>Pipeline(steps=[(&#x27;scale&#x27;, None), (&#x27;model&#x27;, LogisticRegression(C=0.1))])</pre><b>In a Jupyter environment, please rerun this cell to show the HTML representation or trust the notebook. <br />On GitHub, the HTML representation is unable to render, please try loading this page with nbviewer.org.</b></div><div class=\"sk-container\" hidden><div class=\"sk-item sk-dashed-wrapped\"><div class=\"sk-label-container\"><div class=\"sk-label sk-toggleable\"><input class=\"sk-toggleable__control sk-hidden--visually\" id=\"sk-estimator-id-1\" type=\"checkbox\" ><label for=\"sk-estimator-id-1\" class=\"sk-toggleable__label sk-toggleable__label-arrow\">Pipeline</label><div class=\"sk-toggleable__content\"><pre>Pipeline(steps=[(&#x27;scale&#x27;, None), (&#x27;model&#x27;, LogisticRegression(C=0.1))])</pre></div></div></div><div class=\"sk-serial\"><div class=\"sk-item\"><div class=\"sk-estimator sk-toggleable\"><input class=\"sk-toggleable__control sk-hidden--visually\" id=\"sk-estimator-id-2\" type=\"checkbox\" ><label for=\"sk-estimator-id-2\" class=\"sk-toggleable__label sk-toggleable__label-arrow\">None</label><div class=\"sk-toggleable__content\"><pre>None</pre></div></div></div><div class=\"sk-item\"><div class=\"sk-estimator sk-toggleable\"><input class=\"sk-toggleable__control sk-hidden--visually\" id=\"sk-estimator-id-3\" type=\"checkbox\" ><label for=\"sk-estimator-id-3\" class=\"sk-toggleable__label sk-toggleable__label-arrow\">LogisticRegression</label><div class=\"sk-toggleable__content\"><pre>LogisticRegression(C=0.1)</pre></div></div></div></div></div></div></div>"
      ],
      "text/plain": [
       "Pipeline(steps=[('scale', None), ('model', LogisticRegression(C=0.1))])"
      ]
     },
     "execution_count": 34,
     "metadata": {},
     "output_type": "execute_result"
    }
   ],
   "source": [
    "model.fit(X_train, y_train.values.ravel())"
   ]
  },
  {
   "cell_type": "code",
   "execution_count": 35,
   "id": "6e15e313",
   "metadata": {
    "execution": {
     "iopub.execute_input": "2025-08-19T19:09:49.732897Z",
     "iopub.status.busy": "2025-08-19T19:09:49.732042Z",
     "iopub.status.idle": "2025-08-19T19:09:49.842475Z",
     "shell.execute_reply": "2025-08-19T19:09:49.841527Z"
    },
    "papermill": {
     "duration": 0.127346,
     "end_time": "2025-08-19T19:09:49.846526",
     "exception": false,
     "start_time": "2025-08-19T19:09:49.719180",
     "status": "completed"
    },
    "tags": []
   },
   "outputs": [
    {
     "data": {
      "text/plain": [
       "0.8532716531044476"
      ]
     },
     "execution_count": 35,
     "metadata": {},
     "output_type": "execute_result"
    }
   ],
   "source": [
    "from fairness_multiverse.universe import predict_w_threshold\n",
    "\n",
    "probs_test = model.predict_proba(X_test)\n",
    "\n",
    "'''\n",
    "Below code returns a boolean array (or binary 0/1 array depending on how it’s used) where each element \n",
    "is True if the probability of class 1 is greater than or equal to the threshold, and False otherwise.\n",
    "'''\n",
    "y_pred_default = predict_w_threshold(probs_test, 0.5)\n",
    "\n",
    "from sklearn.metrics import accuracy_score\n",
    "\n",
    "# Naive prediction\n",
    "accuracy_score(y_true = y_true, y_pred = y_pred_default)"
   ]
  },
  {
   "cell_type": "code",
   "execution_count": 36,
   "id": "6f14067c",
   "metadata": {
    "execution": {
     "iopub.execute_input": "2025-08-19T19:09:49.875909Z",
     "iopub.status.busy": "2025-08-19T19:09:49.875446Z",
     "iopub.status.idle": "2025-08-19T19:09:49.968011Z",
     "shell.execute_reply": "2025-08-19T19:09:49.966803Z"
    },
    "papermill": {
     "duration": 0.114206,
     "end_time": "2025-08-19T19:09:49.972919",
     "exception": false,
     "start_time": "2025-08-19T19:09:49.858713",
     "status": "completed"
    },
    "tags": []
   },
   "outputs": [
    {
     "data": {
      "text/plain": [
       "array([0, 0, 0, ..., 0, 0, 0])"
      ]
     },
     "execution_count": 36,
     "metadata": {},
     "output_type": "execute_result"
    }
   ],
   "source": [
    "model.predict(X_test)"
   ]
  },
  {
   "cell_type": "markdown",
   "id": "3759920c",
   "metadata": {
    "papermill": {
     "duration": 0.012154,
     "end_time": "2025-08-19T19:09:50.009091",
     "exception": false,
     "start_time": "2025-08-19T19:09:49.996937",
     "status": "completed"
    },
    "tags": []
   },
   "source": [
    "# Conformal Prediction"
   ]
  },
  {
   "cell_type": "code",
   "execution_count": 37,
   "id": "14b27f59",
   "metadata": {
    "execution": {
     "iopub.execute_input": "2025-08-19T19:09:50.033808Z",
     "iopub.status.busy": "2025-08-19T19:09:50.033048Z",
     "iopub.status.idle": "2025-08-19T19:09:50.041033Z",
     "shell.execute_reply": "2025-08-19T19:09:50.039679Z"
    },
    "papermill": {
     "duration": 0.022506,
     "end_time": "2025-08-19T19:09:50.042649",
     "exception": false,
     "start_time": "2025-08-19T19:09:50.020143",
     "status": "completed"
    },
    "tags": []
   },
   "outputs": [],
   "source": [
    "# Miscoverage level for conformal prediction (10% allowed error rate => 90% target coverage)\n",
    "alpha = 0.1"
   ]
  },
  {
   "cell_type": "code",
   "execution_count": 38,
   "id": "59102472",
   "metadata": {
    "execution": {
     "iopub.execute_input": "2025-08-19T19:09:50.070517Z",
     "iopub.status.busy": "2025-08-19T19:09:50.069631Z",
     "iopub.status.idle": "2025-08-19T19:09:50.164264Z",
     "shell.execute_reply": "2025-08-19T19:09:50.163364Z"
    },
    "papermill": {
     "duration": 0.109346,
     "end_time": "2025-08-19T19:09:50.165835",
     "exception": false,
     "start_time": "2025-08-19T19:09:50.056489",
     "status": "completed"
    },
    "tags": []
   },
   "outputs": [],
   "source": [
    "probs_calib = model.predict_proba(X_calib)"
   ]
  },
  {
   "cell_type": "code",
   "execution_count": 39,
   "id": "a792d4dd",
   "metadata": {
    "execution": {
     "iopub.execute_input": "2025-08-19T19:09:50.193081Z",
     "iopub.status.busy": "2025-08-19T19:09:50.192374Z",
     "iopub.status.idle": "2025-08-19T19:09:50.198636Z",
     "shell.execute_reply": "2025-08-19T19:09:50.197851Z"
    },
    "papermill": {
     "duration": 0.019901,
     "end_time": "2025-08-19T19:09:50.199860",
     "exception": false,
     "start_time": "2025-08-19T19:09:50.179959",
     "status": "completed"
    },
    "tags": []
   },
   "outputs": [],
   "source": [
    "y_calib = y_calib.values.ravel().astype(int)"
   ]
  },
  {
   "cell_type": "code",
   "execution_count": 40,
   "id": "650fd033",
   "metadata": {
    "execution": {
     "iopub.execute_input": "2025-08-19T19:09:50.224249Z",
     "iopub.status.busy": "2025-08-19T19:09:50.223829Z",
     "iopub.status.idle": "2025-08-19T19:09:50.230380Z",
     "shell.execute_reply": "2025-08-19T19:09:50.229711Z"
    },
    "papermill": {
     "duration": 0.020025,
     "end_time": "2025-08-19T19:09:50.231705",
     "exception": false,
     "start_time": "2025-08-19T19:09:50.211680",
     "status": "completed"
    },
    "tags": []
   },
   "outputs": [],
   "source": [
    "from fairness_multiverse.conformal import compute_nc_scores\n",
    "\n",
    "# Compute nonconformity scores on calibration set (1 - probability of true class)\n",
    "nc_scores = compute_nc_scores(probs_calib, y_calib)"
   ]
  },
  {
   "cell_type": "code",
   "execution_count": 41,
   "id": "28ada44c",
   "metadata": {
    "execution": {
     "iopub.execute_input": "2025-08-19T19:09:50.256421Z",
     "iopub.status.busy": "2025-08-19T19:09:50.255756Z",
     "iopub.status.idle": "2025-08-19T19:09:50.265432Z",
     "shell.execute_reply": "2025-08-19T19:09:50.264442Z"
    },
    "papermill": {
     "duration": 0.023575,
     "end_time": "2025-08-19T19:09:50.267185",
     "exception": false,
     "start_time": "2025-08-19T19:09:50.243610",
     "status": "completed"
    },
    "tags": []
   },
   "outputs": [],
   "source": [
    "from fairness_multiverse.conformal import find_threshold\n",
    "\n",
    "# Find conformal threshold q_hat for the given alpha (split conformal method)\n",
    "q_hat = find_threshold(nc_scores, alpha)"
   ]
  },
  {
   "cell_type": "code",
   "execution_count": 42,
   "id": "df56469e",
   "metadata": {
    "execution": {
     "iopub.execute_input": "2025-08-19T19:09:50.293024Z",
     "iopub.status.busy": "2025-08-19T19:09:50.292572Z",
     "iopub.status.idle": "2025-08-19T19:09:50.298460Z",
     "shell.execute_reply": "2025-08-19T19:09:50.297710Z"
    },
    "papermill": {
     "duration": 0.019451,
     "end_time": "2025-08-19T19:09:50.299749",
     "exception": false,
     "start_time": "2025-08-19T19:09:50.280298",
     "status": "completed"
    },
    "tags": []
   },
   "outputs": [
    {
     "data": {
      "text/plain": [
       "0.697029433781863"
      ]
     },
     "execution_count": 42,
     "metadata": {},
     "output_type": "execute_result"
    }
   ],
   "source": [
    "q_hat"
   ]
  },
  {
   "cell_type": "code",
   "execution_count": 43,
   "id": "aa1f5faa",
   "metadata": {
    "execution": {
     "iopub.execute_input": "2025-08-19T19:09:50.325223Z",
     "iopub.status.busy": "2025-08-19T19:09:50.324809Z",
     "iopub.status.idle": "2025-08-19T19:09:50.944984Z",
     "shell.execute_reply": "2025-08-19T19:09:50.937560Z"
    },
    "papermill": {
     "duration": 0.635127,
     "end_time": "2025-08-19T19:09:50.947401",
     "exception": false,
     "start_time": "2025-08-19T19:09:50.312274",
     "status": "completed"
    },
    "tags": []
   },
   "outputs": [],
   "source": [
    "from fairness_multiverse.conformal import predict_conformal_sets\n",
    "\n",
    "# Generate prediction sets for each test example\n",
    "pred_sets = predict_conformal_sets(model, X_test, q_hat)"
   ]
  },
  {
   "cell_type": "code",
   "execution_count": 44,
   "id": "97f67a6b",
   "metadata": {
    "execution": {
     "iopub.execute_input": "2025-08-19T19:09:50.978110Z",
     "iopub.status.busy": "2025-08-19T19:09:50.977439Z",
     "iopub.status.idle": "2025-08-19T19:09:50.986152Z",
     "shell.execute_reply": "2025-08-19T19:09:50.985552Z"
    },
    "papermill": {
     "duration": 0.024683,
     "end_time": "2025-08-19T19:09:50.988448",
     "exception": false,
     "start_time": "2025-08-19T19:09:50.963765",
     "status": "completed"
    },
    "tags": []
   },
   "outputs": [],
   "source": [
    "y_true = y_true.squeeze()"
   ]
  },
  {
   "cell_type": "code",
   "execution_count": 45,
   "id": "e700e9a7",
   "metadata": {
    "execution": {
     "iopub.execute_input": "2025-08-19T19:09:51.032415Z",
     "iopub.status.busy": "2025-08-19T19:09:51.031150Z",
     "iopub.status.idle": "2025-08-19T19:09:51.560070Z",
     "shell.execute_reply": "2025-08-19T19:09:51.558793Z"
    },
    "papermill": {
     "duration": 0.545711,
     "end_time": "2025-08-19T19:09:51.561521",
     "exception": false,
     "start_time": "2025-08-19T19:09:51.015810",
     "status": "completed"
    },
    "tags": []
   },
   "outputs": [],
   "source": [
    "from fairness_multiverse.conformal import evaluate_sets\n",
    "\n",
    "# Evaluate coverage and average set size on test data\n",
    "metrics = evaluate_sets(pred_sets, y_true)"
   ]
  },
  {
   "cell_type": "markdown",
   "id": "efbacec0",
   "metadata": {
    "papermill": {
     "duration": 0.011504,
     "end_time": "2025-08-19T19:09:51.584955",
     "exception": false,
     "start_time": "2025-08-19T19:09:51.573451",
     "status": "completed"
    },
    "tags": []
   },
   "source": [
    "# CP Metrics"
   ]
  },
  {
   "cell_type": "code",
   "execution_count": 46,
   "id": "9de55fb1",
   "metadata": {
    "execution": {
     "iopub.execute_input": "2025-08-19T19:09:51.612678Z",
     "iopub.status.busy": "2025-08-19T19:09:51.610281Z",
     "iopub.status.idle": "2025-08-19T19:09:51.621346Z",
     "shell.execute_reply": "2025-08-19T19:09:51.620480Z"
    },
    "papermill": {
     "duration": 0.026454,
     "end_time": "2025-08-19T19:09:51.622799",
     "exception": false,
     "start_time": "2025-08-19T19:09:51.596345",
     "status": "completed"
    },
    "tags": []
   },
   "outputs": [
    {
     "data": {
      "text/plain": [
       "{'coverage': 0.9118827332515884, 'avg_size': 1.2429829450451455}"
      ]
     },
     "execution_count": 46,
     "metadata": {},
     "output_type": "execute_result"
    }
   ],
   "source": [
    "metrics"
   ]
  },
  {
   "cell_type": "code",
   "execution_count": 47,
   "id": "64c340a1",
   "metadata": {
    "execution": {
     "iopub.execute_input": "2025-08-19T19:09:51.651442Z",
     "iopub.status.busy": "2025-08-19T19:09:51.650792Z",
     "iopub.status.idle": "2025-08-19T19:09:51.660652Z",
     "shell.execute_reply": "2025-08-19T19:09:51.659368Z"
    },
    "papermill": {
     "duration": 0.025,
     "end_time": "2025-08-19T19:09:51.662140",
     "exception": false,
     "start_time": "2025-08-19T19:09:51.637140",
     "status": "completed"
    },
    "tags": []
   },
   "outputs": [],
   "source": [
    "example_universe = universe.copy()\n",
    "universe_training_year = example_universe.get(\"training_year\")\n",
    "universe_training_size = example_universe.get(\"training_size\")\n",
    "universe_scale = example_universe.get(\"scale\")\n",
    "universe_model = example_universe.get(\"model\")\n",
    "universe_exclude_features = example_universe.get(\"exclude_features\")\n",
    "universe_exclude_subgroups = example_universe.get(\"exclude_subgroups\")"
   ]
  },
  {
   "cell_type": "code",
   "execution_count": 48,
   "id": "dbb53cb4",
   "metadata": {
    "execution": {
     "iopub.execute_input": "2025-08-19T19:09:51.692001Z",
     "iopub.status.busy": "2025-08-19T19:09:51.691294Z",
     "iopub.status.idle": "2025-08-19T19:09:51.701781Z",
     "shell.execute_reply": "2025-08-19T19:09:51.700563Z"
    },
    "papermill": {
     "duration": 0.026437,
     "end_time": "2025-08-19T19:09:51.703356",
     "exception": false,
     "start_time": "2025-08-19T19:09:51.676919",
     "status": "completed"
    },
    "tags": []
   },
   "outputs": [],
   "source": [
    "cp_metrics_dict = {\n",
    "    \"universe_id\": [universe_id],\n",
    "    \"universe_training_year\": [universe_training_year],\n",
    "    \"universe_training_size\": [universe_training_size],\n",
    "    \"universe_scale\": [universe_scale],\n",
    "    \"universe_model\": [universe_model],\n",
    "    \"universe_exclude_features\": [universe_exclude_features],\n",
    "    \"universe_exclude_subgroups\": [universe_exclude_subgroups],\n",
    "    \"q_hat\": [q_hat],\n",
    "    \"coverage\": [metrics[\"coverage\"]],\n",
    "    \"avg_size\": [metrics[\"avg_size\"]],\n",
    "}"
   ]
  },
  {
   "cell_type": "code",
   "execution_count": 49,
   "id": "0d70d4b2",
   "metadata": {
    "execution": {
     "iopub.execute_input": "2025-08-19T19:09:51.732236Z",
     "iopub.status.busy": "2025-08-19T19:09:51.731847Z",
     "iopub.status.idle": "2025-08-19T19:09:51.739988Z",
     "shell.execute_reply": "2025-08-19T19:09:51.739104Z"
    },
    "papermill": {
     "duration": 0.022357,
     "end_time": "2025-08-19T19:09:51.741229",
     "exception": false,
     "start_time": "2025-08-19T19:09:51.718872",
     "status": "completed"
    },
    "tags": []
   },
   "outputs": [],
   "source": [
    "cp_metrics_df = pd.DataFrame(cp_metrics_dict)"
   ]
  },
  {
   "cell_type": "code",
   "execution_count": 50,
   "id": "b494403c",
   "metadata": {
    "execution": {
     "iopub.execute_input": "2025-08-19T19:09:51.768919Z",
     "iopub.status.busy": "2025-08-19T19:09:51.768516Z",
     "iopub.status.idle": "2025-08-19T19:09:51.783117Z",
     "shell.execute_reply": "2025-08-19T19:09:51.782385Z"
    },
    "papermill": {
     "duration": 0.03982,
     "end_time": "2025-08-19T19:09:51.795593",
     "exception": false,
     "start_time": "2025-08-19T19:09:51.755773",
     "status": "completed"
    },
    "tags": []
   },
   "outputs": [
    {
     "data": {
      "text/html": [
       "<div>\n",
       "<style scoped>\n",
       "    .dataframe tbody tr th:only-of-type {\n",
       "        vertical-align: middle;\n",
       "    }\n",
       "\n",
       "    .dataframe tbody tr th {\n",
       "        vertical-align: top;\n",
       "    }\n",
       "\n",
       "    .dataframe thead th {\n",
       "        text-align: right;\n",
       "    }\n",
       "</style>\n",
       "<table border=\"1\" class=\"dataframe\">\n",
       "  <thead>\n",
       "    <tr style=\"text-align: right;\">\n",
       "      <th></th>\n",
       "      <th>universe_id</th>\n",
       "      <th>universe_training_year</th>\n",
       "      <th>universe_training_size</th>\n",
       "      <th>universe_scale</th>\n",
       "      <th>universe_model</th>\n",
       "      <th>universe_exclude_features</th>\n",
       "      <th>universe_exclude_subgroups</th>\n",
       "      <th>q_hat</th>\n",
       "      <th>coverage</th>\n",
       "      <th>avg_size</th>\n",
       "    </tr>\n",
       "  </thead>\n",
       "  <tbody>\n",
       "    <tr>\n",
       "      <th>0</th>\n",
       "      <td>e765d0e8f2cef2f22b9e5cfaf47d5402</td>\n",
       "      <td>2010_14</td>\n",
       "      <td>1k</td>\n",
       "      <td>do-not-scale</td>\n",
       "      <td>penalized_logreg</td>\n",
       "      <td>nationality</td>\n",
       "      <td>drop-non-german</td>\n",
       "      <td>0.697029</td>\n",
       "      <td>0.911883</td>\n",
       "      <td>1.242983</td>\n",
       "    </tr>\n",
       "  </tbody>\n",
       "</table>\n",
       "</div>"
      ],
      "text/plain": [
       "                        universe_id universe_training_year  \\\n",
       "0  e765d0e8f2cef2f22b9e5cfaf47d5402                2010_14   \n",
       "\n",
       "  universe_training_size universe_scale    universe_model  \\\n",
       "0                     1k   do-not-scale  penalized_logreg   \n",
       "\n",
       "  universe_exclude_features universe_exclude_subgroups     q_hat  coverage  \\\n",
       "0               nationality            drop-non-german  0.697029  0.911883   \n",
       "\n",
       "   avg_size  \n",
       "0  1.242983  "
      ]
     },
     "execution_count": 50,
     "metadata": {},
     "output_type": "execute_result"
    }
   ],
   "source": [
    "cp_metrics_df"
   ]
  },
  {
   "cell_type": "markdown",
   "id": "ed608b0b",
   "metadata": {
    "papermill": {
     "duration": 0.012925,
     "end_time": "2025-08-19T19:09:51.826231",
     "exception": false,
     "start_time": "2025-08-19T19:09:51.813306",
     "status": "completed"
    },
    "tags": []
   },
   "source": [
    "Conditional coverage & looking at subgroups"
   ]
  },
  {
   "cell_type": "code",
   "execution_count": 51,
   "id": "8968c366",
   "metadata": {
    "execution": {
     "iopub.execute_input": "2025-08-19T19:09:51.851965Z",
     "iopub.status.busy": "2025-08-19T19:09:51.851506Z",
     "iopub.status.idle": "2025-08-19T19:09:52.180675Z",
     "shell.execute_reply": "2025-08-19T19:09:52.179685Z"
    },
    "papermill": {
     "duration": 0.345183,
     "end_time": "2025-08-19T19:09:52.183590",
     "exception": false,
     "start_time": "2025-08-19T19:09:51.838407",
     "status": "completed"
    },
    "tags": []
   },
   "outputs": [],
   "source": [
    "from fairness_multiverse.conformal import build_cp_groups\n",
    "\n",
    "cp_groups_df = build_cp_groups(pred_sets, y_true, X_test.index, org_test)"
   ]
  },
  {
   "cell_type": "code",
   "execution_count": 52,
   "id": "292ddabf",
   "metadata": {
    "execution": {
     "iopub.execute_input": "2025-08-19T19:09:52.240392Z",
     "iopub.status.busy": "2025-08-19T19:09:52.239211Z",
     "iopub.status.idle": "2025-08-19T19:09:53.120585Z",
     "shell.execute_reply": "2025-08-19T19:09:53.119349Z"
    },
    "papermill": {
     "duration": 0.901777,
     "end_time": "2025-08-19T19:09:53.122790",
     "exception": false,
     "start_time": "2025-08-19T19:09:52.221013",
     "status": "completed"
    },
    "tags": []
   },
   "outputs": [],
   "source": [
    "# Define covered = 1 if true_label is in the predicted set\n",
    "cp_groups_df['covered'] = cp_groups_df.apply(\n",
    "    lambda r: int(r['true_label'] in r['pred_set']),\n",
    "    axis=1\n",
    ")"
   ]
  },
  {
   "cell_type": "code",
   "execution_count": 53,
   "id": "3a261692",
   "metadata": {
    "execution": {
     "iopub.execute_input": "2025-08-19T19:09:53.149843Z",
     "iopub.status.busy": "2025-08-19T19:09:53.149475Z",
     "iopub.status.idle": "2025-08-19T19:09:53.163122Z",
     "shell.execute_reply": "2025-08-19T19:09:53.162371Z"
    },
    "papermill": {
     "duration": 0.030181,
     "end_time": "2025-08-19T19:09:53.165901",
     "exception": false,
     "start_time": "2025-08-19T19:09:53.135720",
     "status": "completed"
    },
    "tags": []
   },
   "outputs": [],
   "source": [
    "subgroups = ['frau1','nongerman','nongerman_male','nongerman_female']\n",
    "\n",
    "# Conditional coverage for subgroup==1\n",
    "cond_coverage = {\n",
    "    g: cp_groups_df.loc[cp_groups_df[g]==1, 'covered'].mean()\n",
    "    for g in subgroups\n",
    "}"
   ]
  },
  {
   "cell_type": "code",
   "execution_count": 54,
   "id": "894fd600",
   "metadata": {
    "execution": {
     "iopub.execute_input": "2025-08-19T19:09:53.192036Z",
     "iopub.status.busy": "2025-08-19T19:09:53.191628Z",
     "iopub.status.idle": "2025-08-19T19:09:53.197545Z",
     "shell.execute_reply": "2025-08-19T19:09:53.196821Z"
    },
    "papermill": {
     "duration": 0.02536,
     "end_time": "2025-08-19T19:09:53.203761",
     "exception": false,
     "start_time": "2025-08-19T19:09:53.178401",
     "status": "completed"
    },
    "tags": []
   },
   "outputs": [
    {
     "data": {
      "text/plain": [
       "{'frau1': 0.9116862110796603,\n",
       " 'nongerman': 0.9363386290911132,\n",
       " 'nongerman_male': 0.949202918130235,\n",
       " 'nongerman_female': 0.9150521609538003}"
      ]
     },
     "execution_count": 54,
     "metadata": {},
     "output_type": "execute_result"
    }
   ],
   "source": [
    "cond_coverage"
   ]
  },
  {
   "cell_type": "code",
   "execution_count": 55,
   "id": "942895c7",
   "metadata": {
    "execution": {
     "iopub.execute_input": "2025-08-19T19:09:53.232185Z",
     "iopub.status.busy": "2025-08-19T19:09:53.231872Z",
     "iopub.status.idle": "2025-08-19T19:09:53.238700Z",
     "shell.execute_reply": "2025-08-19T19:09:53.237969Z"
    },
    "papermill": {
     "duration": 0.021675,
     "end_time": "2025-08-19T19:09:53.240109",
     "exception": false,
     "start_time": "2025-08-19T19:09:53.218434",
     "status": "completed"
    },
    "tags": []
   },
   "outputs": [],
   "source": [
    "for subgroup, cov in cond_coverage.items():\n",
    "    cp_metrics_df[f\"cov_{subgroup}\"] = cov"
   ]
  },
  {
   "cell_type": "code",
   "execution_count": 56,
   "id": "3970120f",
   "metadata": {
    "execution": {
     "iopub.execute_input": "2025-08-19T19:09:53.266251Z",
     "iopub.status.busy": "2025-08-19T19:09:53.265930Z",
     "iopub.status.idle": "2025-08-19T19:09:53.282663Z",
     "shell.execute_reply": "2025-08-19T19:09:53.281861Z"
    },
    "papermill": {
     "duration": 0.033196,
     "end_time": "2025-08-19T19:09:53.285880",
     "exception": false,
     "start_time": "2025-08-19T19:09:53.252684",
     "status": "completed"
    },
    "tags": []
   },
   "outputs": [
    {
     "data": {
      "text/html": [
       "<div>\n",
       "<style scoped>\n",
       "    .dataframe tbody tr th:only-of-type {\n",
       "        vertical-align: middle;\n",
       "    }\n",
       "\n",
       "    .dataframe tbody tr th {\n",
       "        vertical-align: top;\n",
       "    }\n",
       "\n",
       "    .dataframe thead th {\n",
       "        text-align: right;\n",
       "    }\n",
       "</style>\n",
       "<table border=\"1\" class=\"dataframe\">\n",
       "  <thead>\n",
       "    <tr style=\"text-align: right;\">\n",
       "      <th></th>\n",
       "      <th>universe_id</th>\n",
       "      <th>universe_training_year</th>\n",
       "      <th>universe_training_size</th>\n",
       "      <th>universe_scale</th>\n",
       "      <th>universe_model</th>\n",
       "      <th>universe_exclude_features</th>\n",
       "      <th>universe_exclude_subgroups</th>\n",
       "      <th>q_hat</th>\n",
       "      <th>coverage</th>\n",
       "      <th>avg_size</th>\n",
       "      <th>cov_frau1</th>\n",
       "      <th>cov_nongerman</th>\n",
       "      <th>cov_nongerman_male</th>\n",
       "      <th>cov_nongerman_female</th>\n",
       "    </tr>\n",
       "  </thead>\n",
       "  <tbody>\n",
       "    <tr>\n",
       "      <th>0</th>\n",
       "      <td>e765d0e8f2cef2f22b9e5cfaf47d5402</td>\n",
       "      <td>2010_14</td>\n",
       "      <td>1k</td>\n",
       "      <td>do-not-scale</td>\n",
       "      <td>penalized_logreg</td>\n",
       "      <td>nationality</td>\n",
       "      <td>drop-non-german</td>\n",
       "      <td>0.697029</td>\n",
       "      <td>0.911883</td>\n",
       "      <td>1.242983</td>\n",
       "      <td>0.911686</td>\n",
       "      <td>0.936339</td>\n",
       "      <td>0.949203</td>\n",
       "      <td>0.915052</td>\n",
       "    </tr>\n",
       "  </tbody>\n",
       "</table>\n",
       "</div>"
      ],
      "text/plain": [
       "                        universe_id universe_training_year  \\\n",
       "0  e765d0e8f2cef2f22b9e5cfaf47d5402                2010_14   \n",
       "\n",
       "  universe_training_size universe_scale    universe_model  \\\n",
       "0                     1k   do-not-scale  penalized_logreg   \n",
       "\n",
       "  universe_exclude_features universe_exclude_subgroups     q_hat  coverage  \\\n",
       "0               nationality            drop-non-german  0.697029  0.911883   \n",
       "\n",
       "   avg_size  cov_frau1  cov_nongerman  cov_nongerman_male  \\\n",
       "0  1.242983   0.911686       0.936339            0.949203   \n",
       "\n",
       "   cov_nongerman_female  \n",
       "0              0.915052  "
      ]
     },
     "execution_count": 56,
     "metadata": {},
     "output_type": "execute_result"
    }
   ],
   "source": [
    "cp_metrics_df"
   ]
  },
  {
   "cell_type": "markdown",
   "id": "3fc519cc",
   "metadata": {
    "papermill": {
     "duration": 0.035138,
     "end_time": "2025-08-19T19:09:53.374917",
     "exception": false,
     "start_time": "2025-08-19T19:09:53.339779",
     "status": "completed"
    },
    "tags": []
   },
   "source": [
    "# (Fairness) Metrics"
   ]
  },
  {
   "cell_type": "code",
   "execution_count": 57,
   "id": "a2e5e155",
   "metadata": {
    "execution": {
     "iopub.execute_input": "2025-08-19T19:09:53.403820Z",
     "iopub.status.busy": "2025-08-19T19:09:53.403486Z",
     "iopub.status.idle": "2025-08-19T19:09:53.419307Z",
     "shell.execute_reply": "2025-08-19T19:09:53.418539Z"
    },
    "papermill": {
     "duration": 0.032067,
     "end_time": "2025-08-19T19:09:53.421199",
     "exception": false,
     "start_time": "2025-08-19T19:09:53.389132",
     "status": "completed"
    },
    "tags": []
   },
   "outputs": [],
   "source": [
    "colname_to_bin = \"maxdeutsch1\"\n",
    "majority_value = org_train[colname_to_bin].mode()[0]\n",
    "\n",
    "org_test[\"majmin\"] = np.where(org_test[colname_to_bin] == majority_value, \"majority\", \"minority\")"
   ]
  },
  {
   "cell_type": "code",
   "execution_count": 58,
   "id": "17e3e4d5",
   "metadata": {
    "execution": {
     "iopub.execute_input": "2025-08-19T19:09:53.449086Z",
     "iopub.status.busy": "2025-08-19T19:09:53.448586Z",
     "iopub.status.idle": "2025-08-19T19:09:55.159699Z",
     "shell.execute_reply": "2025-08-19T19:09:55.158497Z"
    },
    "papermill": {
     "duration": 1.726873,
     "end_time": "2025-08-19T19:09:55.161475",
     "exception": false,
     "start_time": "2025-08-19T19:09:53.434602",
     "status": "completed"
    },
    "tags": []
   },
   "outputs": [],
   "source": [
    "example_universe = universe.copy()\n",
    "example_universe[\"cutoff\"] = example_universe[\"cutoff\"][0]\n",
    "example_universe[\"eval_fairness_grouping\"] = example_universe[\"eval_fairness_grouping\"][0]\n",
    "fairness_dict, metric_frame = universe_analysis.compute_metrics(\n",
    "    example_universe,\n",
    "    y_pred_prob=probs_test,\n",
    "    y_test=y_true,\n",
    "    org_test=org_test,\n",
    ")"
   ]
  },
  {
   "cell_type": "markdown",
   "id": "1fb7a0e9",
   "metadata": {
    "papermill": {
     "duration": 0.012505,
     "end_time": "2025-08-19T19:09:55.187751",
     "exception": false,
     "start_time": "2025-08-19T19:09:55.175246",
     "status": "completed"
    },
    "tags": []
   },
   "source": [
    "# Overall"
   ]
  },
  {
   "cell_type": "markdown",
   "id": "be1784b1",
   "metadata": {
    "papermill": {
     "duration": 0.012473,
     "end_time": "2025-08-19T19:09:55.212728",
     "exception": false,
     "start_time": "2025-08-19T19:09:55.200255",
     "status": "completed"
    },
    "tags": []
   },
   "source": [
    "Main fairness target: Equalized Odds. Seems to be a better fit than equal opportunity, since we're not only interested in Y = 1. Seems to be a better fit than demographic parity, since we also care about accuracy, not just equal distribution of preds.\n",
    "\n",
    "Pick column for computation of fairness metrics\n",
    "\n",
    "Performance\n",
    "Overall performance measures, most interesting in relation to the measures split by group below"
   ]
  },
  {
   "cell_type": "code",
   "execution_count": 59,
   "id": "b7672bee",
   "metadata": {
    "execution": {
     "iopub.execute_input": "2025-08-19T19:09:55.239552Z",
     "iopub.status.busy": "2025-08-19T19:09:55.239072Z",
     "iopub.status.idle": "2025-08-19T19:09:55.247173Z",
     "shell.execute_reply": "2025-08-19T19:09:55.246363Z"
    },
    "papermill": {
     "duration": 0.029251,
     "end_time": "2025-08-19T19:09:55.254480",
     "exception": false,
     "start_time": "2025-08-19T19:09:55.225229",
     "status": "completed"
    },
    "tags": []
   },
   "outputs": [
    {
     "data": {
      "text/plain": [
       "accuracy                   0.213075\n",
       "balanced accuracy          0.523366\n",
       "f1                         0.234718\n",
       "precision                  0.134086\n",
       "false positive rate        0.894005\n",
       "false negative rate        0.059263\n",
       "selection rate             0.900000\n",
       "count                  89710.000000\n",
       "dtype: float64"
      ]
     },
     "execution_count": 59,
     "metadata": {},
     "output_type": "execute_result"
    }
   ],
   "source": [
    "metric_frame.overall"
   ]
  },
  {
   "cell_type": "markdown",
   "id": "d93333c9",
   "metadata": {
    "papermill": {
     "duration": 0.012695,
     "end_time": "2025-08-19T19:09:55.280496",
     "exception": false,
     "start_time": "2025-08-19T19:09:55.267801",
     "status": "completed"
    },
    "tags": []
   },
   "source": [
    "By Group"
   ]
  },
  {
   "cell_type": "code",
   "execution_count": 60,
   "id": "52256966",
   "metadata": {
    "execution": {
     "iopub.execute_input": "2025-08-19T19:09:55.307801Z",
     "iopub.status.busy": "2025-08-19T19:09:55.307478Z",
     "iopub.status.idle": "2025-08-19T19:09:55.332292Z",
     "shell.execute_reply": "2025-08-19T19:09:55.331206Z"
    },
    "papermill": {
     "duration": 0.04076,
     "end_time": "2025-08-19T19:09:55.334043",
     "exception": false,
     "start_time": "2025-08-19T19:09:55.293283",
     "status": "completed"
    },
    "tags": []
   },
   "outputs": [
    {
     "data": {
      "text/html": [
       "<div>\n",
       "<style scoped>\n",
       "    .dataframe tbody tr th:only-of-type {\n",
       "        vertical-align: middle;\n",
       "    }\n",
       "\n",
       "    .dataframe tbody tr th {\n",
       "        vertical-align: top;\n",
       "    }\n",
       "\n",
       "    .dataframe thead th {\n",
       "        text-align: right;\n",
       "    }\n",
       "</style>\n",
       "<table border=\"1\" class=\"dataframe\">\n",
       "  <thead>\n",
       "    <tr style=\"text-align: right;\">\n",
       "      <th></th>\n",
       "      <th>accuracy</th>\n",
       "      <th>balanced accuracy</th>\n",
       "      <th>f1</th>\n",
       "      <th>precision</th>\n",
       "      <th>false positive rate</th>\n",
       "      <th>false negative rate</th>\n",
       "      <th>selection rate</th>\n",
       "      <th>count</th>\n",
       "    </tr>\n",
       "    <tr>\n",
       "      <th>majmin</th>\n",
       "      <th></th>\n",
       "      <th></th>\n",
       "      <th></th>\n",
       "      <th></th>\n",
       "      <th></th>\n",
       "      <th></th>\n",
       "      <th></th>\n",
       "      <th></th>\n",
       "    </tr>\n",
       "  </thead>\n",
       "  <tbody>\n",
       "    <tr>\n",
       "      <th>majority</th>\n",
       "      <td>0.233410</td>\n",
       "      <td>0.528666</td>\n",
       "      <td>0.242770</td>\n",
       "      <td>0.139607</td>\n",
       "      <td>0.872647</td>\n",
       "      <td>0.070022</td>\n",
       "      <td>0.880223</td>\n",
       "      <td>69170.0</td>\n",
       "    </tr>\n",
       "    <tr>\n",
       "      <th>minority</th>\n",
       "      <td>0.144596</td>\n",
       "      <td>0.508851</td>\n",
       "      <td>0.209342</td>\n",
       "      <td>0.117155</td>\n",
       "      <td>0.964561</td>\n",
       "      <td>0.017736</td>\n",
       "      <td>0.966602</td>\n",
       "      <td>20540.0</td>\n",
       "    </tr>\n",
       "  </tbody>\n",
       "</table>\n",
       "</div>"
      ],
      "text/plain": [
       "          accuracy  balanced accuracy        f1  precision  \\\n",
       "majmin                                                       \n",
       "majority  0.233410           0.528666  0.242770   0.139607   \n",
       "minority  0.144596           0.508851  0.209342   0.117155   \n",
       "\n",
       "          false positive rate  false negative rate  selection rate    count  \n",
       "majmin                                                                       \n",
       "majority             0.872647             0.070022        0.880223  69170.0  \n",
       "minority             0.964561             0.017736        0.966602  20540.0  "
      ]
     },
     "execution_count": 60,
     "metadata": {},
     "output_type": "execute_result"
    }
   ],
   "source": [
    "metric_frame.by_group"
   ]
  },
  {
   "cell_type": "code",
   "execution_count": 61,
   "id": "6e6c20ae",
   "metadata": {
    "execution": {
     "iopub.execute_input": "2025-08-19T19:09:55.366781Z",
     "iopub.status.busy": "2025-08-19T19:09:55.366067Z",
     "iopub.status.idle": "2025-08-19T19:09:57.234251Z",
     "shell.execute_reply": "2025-08-19T19:09:57.233228Z"
    },
    "papermill": {
     "duration": 1.885259,
     "end_time": "2025-08-19T19:09:57.235956",
     "exception": false,
     "start_time": "2025-08-19T19:09:55.350697",
     "status": "completed"
    },
    "tags": []
   },
   "outputs": [
    {
     "data": {
      "text/plain": [
       "array([[<Axes: title={'center': 'accuracy'}, xlabel='majmin'>,\n",
       "        <Axes: title={'center': 'balanced accuracy'}, xlabel='majmin'>,\n",
       "        <Axes: title={'center': 'f1'}, xlabel='majmin'>],\n",
       "       [<Axes: title={'center': 'precision'}, xlabel='majmin'>,\n",
       "        <Axes: title={'center': 'false positive rate'}, xlabel='majmin'>,\n",
       "        <Axes: title={'center': 'false negative rate'}, xlabel='majmin'>],\n",
       "       [<Axes: title={'center': 'selection rate'}, xlabel='majmin'>,\n",
       "        <Axes: title={'center': 'count'}, xlabel='majmin'>,\n",
       "        <Axes: xlabel='majmin'>]], dtype=object)"
      ]
     },
     "execution_count": 61,
     "metadata": {},
     "output_type": "execute_result"
    },
    {
     "data": {
      "image/png": "[encoded data removed]",
      "text/plain": [
       "<Figure size 1200x800 with 9 Axes>"
      ]
     },
     "metadata": {},
     "output_type": "display_data"
    }
   ],
   "source": [
    "# In a graphic\n",
    "metric_frame.by_group.plot.bar(\n",
    "    subplots=True,\n",
    "    layout=[3, 3],\n",
    "    legend=False,\n",
    "    figsize=[12, 8],\n",
    "    title=\"Show all metrics\",\n",
    ")"
   ]
  },
  {
   "cell_type": "markdown",
   "id": "b2e433ae",
   "metadata": {
    "papermill": {
     "duration": 0.013916,
     "end_time": "2025-08-19T19:09:57.267827",
     "exception": false,
     "start_time": "2025-08-19T19:09:57.253911",
     "status": "completed"
    },
    "tags": []
   },
   "source": [
    "# Final Output"
   ]
  },
  {
   "cell_type": "code",
   "execution_count": 62,
   "id": "3871301e",
   "metadata": {
    "execution": {
     "iopub.execute_input": "2025-08-19T19:09:57.299705Z",
     "iopub.status.busy": "2025-08-19T19:09:57.297987Z",
     "iopub.status.idle": "2025-08-19T19:09:57.316387Z",
     "shell.execute_reply": "2025-08-19T19:09:57.315483Z"
    },
    "papermill": {
     "duration": 0.036437,
     "end_time": "2025-08-19T19:09:57.318182",
     "exception": false,
     "start_time": "2025-08-19T19:09:57.281745",
     "status": "completed"
    },
    "tags": []
   },
   "outputs": [
    {
     "data": {
      "text/plain": [
       "4"
      ]
     },
     "execution_count": 62,
     "metadata": {},
     "output_type": "execute_result"
    }
   ],
   "source": [
    "sub_universes = universe_analysis.generate_sub_universes()\n",
    "len(sub_universes)"
   ]
  },
  {
   "cell_type": "code",
   "execution_count": 63,
   "id": "d9cfdaca",
   "metadata": {
    "execution": {
     "iopub.execute_input": "2025-08-19T19:09:57.370215Z",
     "iopub.status.busy": "2025-08-19T19:09:57.369503Z",
     "iopub.status.idle": "2025-08-19T19:09:57.378127Z",
     "shell.execute_reply": "2025-08-19T19:09:57.376864Z"
    },
    "papermill": {
     "duration": 0.039659,
     "end_time": "2025-08-19T19:09:57.379731",
     "exception": false,
     "start_time": "2025-08-19T19:09:57.340072",
     "status": "completed"
    },
    "tags": []
   },
   "outputs": [],
   "source": [
    "def filter_sub_universe_data(sub_universe, org_test):\n",
    "    # Keep all rows — no filtering\n",
    "    keep_rows_mask = np.ones(org_test.shape[0], dtype=bool)\n",
    "\n",
    "    print(f\"[INFO] Keeping all rows: {keep_rows_mask.sum()} rows retained.\")\n",
    "    return keep_rows_mask"
   ]
  },
  {
   "cell_type": "code",
   "execution_count": 64,
   "id": "2bc31ac1",
   "metadata": {
    "execution": {
     "iopub.execute_input": "2025-08-19T19:09:57.419747Z",
     "iopub.status.busy": "2025-08-19T19:09:57.419034Z",
     "iopub.status.idle": "2025-08-19T19:10:04.495148Z",
     "shell.execute_reply": "2025-08-19T19:10:04.494065Z"
    },
    "papermill": {
     "duration": 7.093885,
     "end_time": "2025-08-19T19:10:04.496540",
     "exception": false,
     "start_time": "2025-08-19T19:09:57.402655",
     "status": "completed"
    },
    "tags": []
   },
   "outputs": [
    {
     "name": "stdout",
     "output_type": "stream",
     "text": [
      "Stopping execution_time clock.\n",
      "[INFO] Keeping all rows: 89710 rows retained.\n"
     ]
    },
    {
     "name": "stdout",
     "output_type": "stream",
     "text": [
      "[INFO] Keeping all rows: 89710 rows retained.\n"
     ]
    },
    {
     "name": "stdout",
     "output_type": "stream",
     "text": [
      "[INFO] Keeping all rows: 89710 rows retained.\n"
     ]
    },
    {
     "name": "stdout",
     "output_type": "stream",
     "text": [
      "[INFO] Keeping all rows: 89710 rows retained.\n"
     ]
    },
    {
     "data": {
      "text/html": [
       "<div>\n",
       "<style scoped>\n",
       "    .dataframe tbody tr th:only-of-type {\n",
       "        vertical-align: middle;\n",
       "    }\n",
       "\n",
       "    .dataframe tbody tr th {\n",
       "        vertical-align: top;\n",
       "    }\n",
       "\n",
       "    .dataframe thead th {\n",
       "        text-align: right;\n",
       "    }\n",
       "</style>\n",
       "<table border=\"1\" class=\"dataframe\">\n",
       "  <thead>\n",
       "    <tr style=\"text-align: right;\">\n",
       "      <th></th>\n",
       "      <th>run_no</th>\n",
       "      <th>universe_id</th>\n",
       "      <th>universe_settings</th>\n",
       "      <th>execution_time</th>\n",
       "      <th>test_size_n</th>\n",
       "      <th>test_size_frac</th>\n",
       "      <th>fair_main_equalized_odds_difference</th>\n",
       "      <th>fair_main_equalized_odds_ratio</th>\n",
       "      <th>fair_main_demographic_parity_difference</th>\n",
       "      <th>fair_main_demographic_parity_ratio</th>\n",
       "      <th>...</th>\n",
       "      <th>perf_grp_precision_0</th>\n",
       "      <th>perf_grp_precision_1</th>\n",
       "      <th>perf_grp_false positive rate_0</th>\n",
       "      <th>perf_grp_false positive rate_1</th>\n",
       "      <th>perf_grp_false negative rate_0</th>\n",
       "      <th>perf_grp_false negative rate_1</th>\n",
       "      <th>perf_grp_selection rate_0</th>\n",
       "      <th>perf_grp_selection rate_1</th>\n",
       "      <th>perf_grp_count_0</th>\n",
       "      <th>perf_grp_count_1</th>\n",
       "    </tr>\n",
       "  </thead>\n",
       "  <tbody>\n",
       "    <tr>\n",
       "      <th>0</th>\n",
       "      <td>3</td>\n",
       "      <td>e765d0e8f2cef2f22b9e5cfaf47d5402</td>\n",
       "      <td>{\"cutoff\": \"quantile_0.1\", \"eval_fairness_grou...</td>\n",
       "      <td>22.283295</td>\n",
       "      <td>89710</td>\n",
       "      <td>1.0</td>\n",
       "      <td>0.091914</td>\n",
       "      <td>0.904709</td>\n",
       "      <td>0.086379</td>\n",
       "      <td>0.910636</td>\n",
       "      <td>...</td>\n",
       "      <td>NaN</td>\n",
       "      <td>NaN</td>\n",
       "      <td>NaN</td>\n",
       "      <td>NaN</td>\n",
       "      <td>NaN</td>\n",
       "      <td>NaN</td>\n",
       "      <td>NaN</td>\n",
       "      <td>NaN</td>\n",
       "      <td>NaN</td>\n",
       "      <td>NaN</td>\n",
       "    </tr>\n",
       "    <tr>\n",
       "      <th>0</th>\n",
       "      <td>3</td>\n",
       "      <td>e765d0e8f2cef2f22b9e5cfaf47d5402</td>\n",
       "      <td>{\"cutoff\": \"quantile_0.1\", \"eval_fairness_grou...</td>\n",
       "      <td>22.283295</td>\n",
       "      <td>89710</td>\n",
       "      <td>1.0</td>\n",
       "      <td>0.091914</td>\n",
       "      <td>0.904709</td>\n",
       "      <td>0.086379</td>\n",
       "      <td>0.910636</td>\n",
       "      <td>...</td>\n",
       "      <td>0.117155</td>\n",
       "      <td>0.139607</td>\n",
       "      <td>0.964561</td>\n",
       "      <td>0.872647</td>\n",
       "      <td>0.017736</td>\n",
       "      <td>0.070022</td>\n",
       "      <td>0.966602</td>\n",
       "      <td>0.880223</td>\n",
       "      <td>20540.0</td>\n",
       "      <td>69170.0</td>\n",
       "    </tr>\n",
       "    <tr>\n",
       "      <th>0</th>\n",
       "      <td>3</td>\n",
       "      <td>e765d0e8f2cef2f22b9e5cfaf47d5402</td>\n",
       "      <td>{\"cutoff\": \"quantile_0.25\", \"eval_fairness_gro...</td>\n",
       "      <td>22.283295</td>\n",
       "      <td>89710</td>\n",
       "      <td>1.0</td>\n",
       "      <td>0.209178</td>\n",
       "      <td>0.765851</td>\n",
       "      <td>0.194045</td>\n",
       "      <td>0.784302</td>\n",
       "      <td>...</td>\n",
       "      <td>NaN</td>\n",
       "      <td>NaN</td>\n",
       "      <td>NaN</td>\n",
       "      <td>NaN</td>\n",
       "      <td>NaN</td>\n",
       "      <td>NaN</td>\n",
       "      <td>NaN</td>\n",
       "      <td>NaN</td>\n",
       "      <td>NaN</td>\n",
       "      <td>NaN</td>\n",
       "    </tr>\n",
       "    <tr>\n",
       "      <th>0</th>\n",
       "      <td>3</td>\n",
       "      <td>e765d0e8f2cef2f22b9e5cfaf47d5402</td>\n",
       "      <td>{\"cutoff\": \"quantile_0.25\", \"eval_fairness_gro...</td>\n",
       "      <td>22.283295</td>\n",
       "      <td>89710</td>\n",
       "      <td>1.0</td>\n",
       "      <td>0.209178</td>\n",
       "      <td>0.765851</td>\n",
       "      <td>0.194045</td>\n",
       "      <td>0.784302</td>\n",
       "      <td>...</td>\n",
       "      <td>0.121442</td>\n",
       "      <td>0.158450</td>\n",
       "      <td>0.893352</td>\n",
       "      <td>0.684175</td>\n",
       "      <td>0.052365</td>\n",
       "      <td>0.153939</td>\n",
       "      <td>0.899611</td>\n",
       "      <td>0.705566</td>\n",
       "      <td>20540.0</td>\n",
       "      <td>69170.0</td>\n",
       "    </tr>\n",
       "  </tbody>\n",
       "</table>\n",
       "<p>4 rows × 50 columns</p>\n",
       "</div>"
      ],
      "text/plain": [
       "  run_no                       universe_id  \\\n",
       "0      3  e765d0e8f2cef2f22b9e5cfaf47d5402   \n",
       "0      3  e765d0e8f2cef2f22b9e5cfaf47d5402   \n",
       "0      3  e765d0e8f2cef2f22b9e5cfaf47d5402   \n",
       "0      3  e765d0e8f2cef2f22b9e5cfaf47d5402   \n",
       "\n",
       "                                   universe_settings  execution_time  \\\n",
       "0  {\"cutoff\": \"quantile_0.1\", \"eval_fairness_grou...       22.283295   \n",
       "0  {\"cutoff\": \"quantile_0.1\", \"eval_fairness_grou...       22.283295   \n",
       "0  {\"cutoff\": \"quantile_0.25\", \"eval_fairness_gro...       22.283295   \n",
       "0  {\"cutoff\": \"quantile_0.25\", \"eval_fairness_gro...       22.283295   \n",
       "\n",
       "   test_size_n  test_size_frac  fair_main_equalized_odds_difference  \\\n",
       "0        89710             1.0                             0.091914   \n",
       "0        89710             1.0                             0.091914   \n",
       "0        89710             1.0                             0.209178   \n",
       "0        89710             1.0                             0.209178   \n",
       "\n",
       "   fair_main_equalized_odds_ratio  fair_main_demographic_parity_difference  \\\n",
       "0                        0.904709                                 0.086379   \n",
       "0                        0.904709                                 0.086379   \n",
       "0                        0.765851                                 0.194045   \n",
       "0                        0.765851                                 0.194045   \n",
       "\n",
       "   fair_main_demographic_parity_ratio  ...  perf_grp_precision_0  \\\n",
       "0                            0.910636  ...                   NaN   \n",
       "0                            0.910636  ...              0.117155   \n",
       "0                            0.784302  ...                   NaN   \n",
       "0                            0.784302  ...              0.121442   \n",
       "\n",
       "   perf_grp_precision_1  perf_grp_false positive rate_0  \\\n",
       "0                   NaN                             NaN   \n",
       "0              0.139607                        0.964561   \n",
       "0                   NaN                             NaN   \n",
       "0              0.158450                        0.893352   \n",
       "\n",
       "   perf_grp_false positive rate_1  perf_grp_false negative rate_0  \\\n",
       "0                             NaN                             NaN   \n",
       "0                        0.872647                        0.017736   \n",
       "0                             NaN                             NaN   \n",
       "0                        0.684175                        0.052365   \n",
       "\n",
       "   perf_grp_false negative rate_1  perf_grp_selection rate_0  \\\n",
       "0                             NaN                        NaN   \n",
       "0                        0.070022                   0.966602   \n",
       "0                             NaN                        NaN   \n",
       "0                        0.153939                   0.899611   \n",
       "\n",
       "   perf_grp_selection rate_1  perf_grp_count_0  perf_grp_count_1  \n",
       "0                        NaN               NaN               NaN  \n",
       "0                   0.880223           20540.0           69170.0  \n",
       "0                        NaN               NaN               NaN  \n",
       "0                   0.705566           20540.0           69170.0  \n",
       "\n",
       "[4 rows x 50 columns]"
      ]
     },
     "execution_count": 64,
     "metadata": {},
     "output_type": "execute_result"
    }
   ],
   "source": [
    "final_output = universe_analysis.generate_final_output(\n",
    "    y_pred_prob=probs_test,\n",
    "    y_test=y_true,\n",
    "    org_test=org_test,\n",
    "    filter_data=filter_sub_universe_data,\n",
    "    cp_metrics_df=cp_metrics_df,\n",
    "    save=True,\n",
    ")\n",
    "final_output"
   ]
  },
  {
   "cell_type": "code",
   "execution_count": null,
   "id": "8b80a1ff",
   "metadata": {
    "papermill": {
     "duration": 0.01809,
     "end_time": "2025-08-19T19:10:04.534831",
     "exception": false,
     "start_time": "2025-08-19T19:10:04.516741",
     "status": "completed"
    },
    "tags": []
   },
   "outputs": [],
   "source": []
  },
  {
   "cell_type": "code",
   "execution_count": null,
   "id": "275c9fad",
   "metadata": {
    "papermill": {
     "duration": 0.014723,
     "end_time": "2025-08-19T19:10:04.564927",
     "exception": false,
     "start_time": "2025-08-19T19:10:04.550204",
     "status": "completed"
    },
    "tags": []
   },
   "outputs": [],
   "source": []
  }
 ],
 "metadata": {
  "celltoolbar": "Tags",
  "kernelspec": {
   "display_name": "Python (CMA Fairness)",
   "language": "python",
   "name": "cma_fair_env"
  },
  "language_info": {
   "codemirror_mode": {
    "name": "ipython",
    "version": 3
   },
   "file_extension": ".py",
   "mimetype": "text/x-python",
   "name": "python",
   "nbconvert_exporter": "python",
   "pygments_lexer": "ipython3",
   "version": "3.10.12"
  },
  "papermill": {
   "default_parameters": {},
   "duration": 33.174896,
   "end_time": "2025-08-19T19:10:05.404115",
   "environment_variables": {},
   "exception": null,
   "input_path": "universe_analysis.ipynb",
   "output_path": "output/runs/3/notebooks/m_3-e765d0e8f2cef2f22b9e5cfaf47d5402.ipynb",
   "parameters": {
    "output_dir": "output",
    "run_no": "3",
    "seed": "2023",
    "universe": "{\"cutoff\": [\"quantile_0.1\", \"quantile_0.25\"], \"eval_fairness_grouping\": [\"majority-minority\", \"nationality-all\"], \"exclude_features\": \"nationality\", \"exclude_subgroups\": \"drop-non-german\", \"model\": \"penalized_logreg\", \"scale\": \"do-not-scale\", \"training_size\": \"1k\", \"training_year\": \"2010_14\"}",
    "universe_id": "e765d0e8f2cef2f22b9e5cfaf47d5402"
   },
   "start_time": "2025-08-19T19:09:32.229219",
   "version": "2.6.0"
  }
 },
 "nbformat": 4,
 "nbformat_minor": 5
}