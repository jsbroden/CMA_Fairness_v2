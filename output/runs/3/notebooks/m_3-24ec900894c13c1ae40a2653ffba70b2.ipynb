{
 "cells": [
  {
   "cell_type": "code",
   "execution_count": 1,
   "id": "f159f837-637b-42ba-96b5-ec9a68c44524",
   "metadata": {
    "execution": {
     "iopub.execute_input": "2025-07-22T09:18:11.225930Z",
     "iopub.status.busy": "2025-07-22T09:18:11.225249Z",
     "iopub.status.idle": "2025-07-22T09:18:11.239345Z",
     "shell.execute_reply": "2025-07-22T09:18:11.238304Z"
    },
    "papermill": {
     "duration": 0.034947,
     "end_time": "2025-07-22T09:18:11.241363",
     "exception": false,
     "start_time": "2025-07-22T09:18:11.206416",
     "status": "completed"
    },
    "tags": []
   },
   "outputs": [
    {
     "name": "stdout",
     "output_type": "stream",
     "text": [
      "/dss/dsshome1/0C/ra93lal2/cma/CMA_Fairness_v2\n"
     ]
    },
    {
     "name": "stderr",
     "output_type": "stream",
     "text": [
      "/dss/dsshome1/0C/ra93lal2/.local/share/virtualenvs/CMA_Fairness_v2-3j10GkSs/lib/python3.10/site-packages/IPython/core/magics/osm.py:393: UserWarning: This is now an optional IPython functionality, using bookmarks requires you to install the `pickleshare` library.\n",
      "  bkms = self.shell.db.get('bookmarks', {})\n",
      "/dss/dsshome1/0C/ra93lal2/.local/share/virtualenvs/CMA_Fairness_v2-3j10GkSs/lib/python3.10/site-packages/IPython/core/magics/osm.py:417: UserWarning: This is now an optional IPython functionality, setting dhist requires you to install the `pickleshare` library.\n",
      "  self.shell.db['dhist'] = compress_dhist(dhist)[-100:]\n"
     ]
    }
   ],
   "source": [
    "%cd ~/cma/CMA_Fairness_v2"
   ]
  },
  {
   "cell_type": "markdown",
   "id": "de2603b9",
   "metadata": {
    "papermill": {
     "duration": 0.015486,
     "end_time": "2025-07-22T09:18:11.273158",
     "exception": false,
     "start_time": "2025-07-22T09:18:11.257672",
     "status": "completed"
    },
    "tags": []
   },
   "source": [
    "The following cell holds the definition of our parameters, these values can be overriden by rendering the with e.g. the following command:\n",
    "\n",
    "papermill -p alpha 0.2 -p ratio 0.3 universe_analysis.ipynb output/test_run.ipynb"
   ]
  },
  {
   "cell_type": "code",
   "execution_count": 2,
   "id": "a80968a0-40bb-4fa9-85ef-2d5eefb01975",
   "metadata": {
    "execution": {
     "iopub.execute_input": "2025-07-22T09:18:11.305672Z",
     "iopub.status.busy": "2025-07-22T09:18:11.305144Z",
     "iopub.status.idle": "2025-07-22T09:18:11.311604Z",
     "shell.execute_reply": "2025-07-22T09:18:11.310349Z"
    },
    "papermill": {
     "duration": 0.024885,
     "end_time": "2025-07-22T09:18:11.313517",
     "exception": false,
     "start_time": "2025-07-22T09:18:11.288632",
     "status": "completed"
    },
    "tags": []
   },
   "outputs": [
    {
     "name": "stdout",
     "output_type": "stream",
     "text": [
      "Current working directory: /dss/dsshome1/0C/ra93lal2/cma/CMA_Fairness_v2\n"
     ]
    }
   ],
   "source": [
    "import os\n",
    "print(\"Current working directory:\", os.getcwd())"
   ]
  },
  {
   "cell_type": "code",
   "execution_count": 3,
   "id": "2dce4c03",
   "metadata": {
    "execution": {
     "iopub.execute_input": "2025-07-22T09:18:11.347997Z",
     "iopub.status.busy": "2025-07-22T09:18:11.347397Z",
     "iopub.status.idle": "2025-07-22T09:18:11.353477Z",
     "shell.execute_reply": "2025-07-22T09:18:11.352491Z"
    },
    "papermill": {
     "duration": 0.02406,
     "end_time": "2025-07-22T09:18:11.355130",
     "exception": false,
     "start_time": "2025-07-22T09:18:11.331070",
     "status": "completed"
    },
    "tags": [
     "parameters"
    ]
   },
   "outputs": [],
   "source": [
    "run_no = 0\n",
    "universe_id = \"test\"\n",
    "universe = {\n",
    "    #\"scale\": \"scale\", # \"scale\", \"do-not-scale\",\n",
    "    #\"encode_categorical\": \"one-hot\", # \"ordinal\", \"one-hot\"\n",
    "    \"model\": \"elasticnet\", # \"logreg\", \"penalized_logreg\", \"rf\", \"gbm\", \"elasticnet\"\n",
    "    \"cutoff\": [\"quantile_0.15\", \"quantile_0.30\"],\n",
    "    \"exclude_features\": \"nationality-sex\", # \"none\", \"nationality\", \"sex\", \"nationality-sex\"\n",
    "    \"exclude_subgroups\": \"keep-all\", # \"keep-all\", \"drop-non-german\"\n",
    "    \"eval_fairness_grouping\": [\"majority-minority\", \"nationality-all\"]\n",
    "}\n",
    "\n",
    "output_dir=\"./output\"\n",
    "seed=0"
   ]
  },
  {
   "cell_type": "code",
   "execution_count": 4,
   "id": "20a213c0",
   "metadata": {
    "execution": {
     "iopub.execute_input": "2025-07-22T09:18:11.388939Z",
     "iopub.status.busy": "2025-07-22T09:18:11.388195Z",
     "iopub.status.idle": "2025-07-22T09:18:11.393671Z",
     "shell.execute_reply": "2025-07-22T09:18:11.392555Z"
    },
    "papermill": {
     "duration": 0.023778,
     "end_time": "2025-07-22T09:18:11.395440",
     "exception": false,
     "start_time": "2025-07-22T09:18:11.371662",
     "status": "completed"
    },
    "tags": [
     "injected-parameters"
    ]
   },
   "outputs": [],
   "source": [
    "# Parameters\n",
    "universe_id = \"24ec900894c13c1ae40a2653ffba70b2\"\n",
    "run_no = \"3\"\n",
    "universe = \"{\\\"cutoff\\\": [\\\"quantile_0.1\\\", \\\"quantile_0.25\\\"], \\\"eval_fairness_grouping\\\": [\\\"majority-minority\\\", \\\"nationality-all\\\"], \\\"exclude_features\\\": \\\"none\\\", \\\"exclude_subgroups\\\": \\\"keep-all\\\", \\\"model\\\": \\\"gbm\\\", \\\"scale\\\": \\\"do-not-scale\\\"}\"\n",
    "output_dir = \"output\"\n",
    "seed = \"2023\"\n"
   ]
  },
  {
   "cell_type": "code",
   "execution_count": 5,
   "id": "1650acaf",
   "metadata": {
    "execution": {
     "iopub.execute_input": "2025-07-22T09:18:11.430573Z",
     "iopub.status.busy": "2025-07-22T09:18:11.429567Z",
     "iopub.status.idle": "2025-07-22T09:18:11.436480Z",
     "shell.execute_reply": "2025-07-22T09:18:11.435236Z"
    },
    "papermill": {
     "duration": 0.026689,
     "end_time": "2025-07-22T09:18:11.438767",
     "exception": false,
     "start_time": "2025-07-22T09:18:11.412078",
     "status": "completed"
    },
    "tags": []
   },
   "outputs": [],
   "source": [
    "import json\n",
    "# Parse universe into dict if it is passed as a string\n",
    "if isinstance(universe, str):\n",
    "    universe = json.loads(universe)"
   ]
  },
  {
   "cell_type": "code",
   "execution_count": 6,
   "id": "16620c48",
   "metadata": {
    "execution": {
     "iopub.execute_input": "2025-07-22T09:18:11.474899Z",
     "iopub.status.busy": "2025-07-22T09:18:11.473908Z",
     "iopub.status.idle": "2025-07-22T09:18:11.521067Z",
     "shell.execute_reply": "2025-07-22T09:18:11.520023Z"
    },
    "papermill": {
     "duration": 0.066409,
     "end_time": "2025-07-22T09:18:11.523035",
     "exception": false,
     "start_time": "2025-07-22T09:18:11.456626",
     "status": "completed"
    },
    "tags": []
   },
   "outputs": [],
   "source": [
    "# Auto-reload the custom package\n",
    "%load_ext autoreload\n",
    "%autoreload 1\n",
    "%aimport fairness_multiverse"
   ]
  },
  {
   "cell_type": "code",
   "execution_count": 7,
   "id": "01c5c9f3",
   "metadata": {
    "execution": {
     "iopub.execute_input": "2025-07-22T09:18:11.556966Z",
     "iopub.status.busy": "2025-07-22T09:18:11.556296Z",
     "iopub.status.idle": "2025-07-22T09:18:14.199503Z",
     "shell.execute_reply": "2025-07-22T09:18:14.198506Z"
    },
    "papermill": {
     "duration": 2.661662,
     "end_time": "2025-07-22T09:18:14.201600",
     "exception": false,
     "start_time": "2025-07-22T09:18:11.539938",
     "status": "completed"
    },
    "tags": []
   },
   "outputs": [],
   "source": [
    "from fairness_multiverse.universe import UniverseAnalysis\n",
    "\n",
    "universe_analysis = UniverseAnalysis(\n",
    "    run_no = run_no,\n",
    "    universe_id = universe_id,\n",
    "    universe = universe,\n",
    "    output_dir=output_dir,\n",
    ")"
   ]
  },
  {
   "cell_type": "code",
   "execution_count": 8,
   "id": "106241f5",
   "metadata": {
    "execution": {
     "iopub.execute_input": "2025-07-22T09:18:14.235210Z",
     "iopub.status.busy": "2025-07-22T09:18:14.234282Z",
     "iopub.status.idle": "2025-07-22T09:18:14.242915Z",
     "shell.execute_reply": "2025-07-22T09:18:14.241427Z"
    },
    "papermill": {
     "duration": 0.028108,
     "end_time": "2025-07-22T09:18:14.245358",
     "exception": false,
     "start_time": "2025-07-22T09:18:14.217250",
     "status": "completed"
    },
    "tags": []
   },
   "outputs": [
    {
     "name": "stdout",
     "output_type": "stream",
     "text": [
      "Using Seed: 2023\n"
     ]
    }
   ],
   "source": [
    "import numpy as np\n",
    "parsed_seed = int(seed)\n",
    "np.random.seed(parsed_seed)\n",
    "print(f\"Using Seed: {parsed_seed}\")"
   ]
  },
  {
   "cell_type": "markdown",
   "id": "e0ebdc57",
   "metadata": {
    "papermill": {
     "duration": 0.02947,
     "end_time": "2025-07-22T09:18:14.293138",
     "exception": false,
     "start_time": "2025-07-22T09:18:14.263668",
     "status": "completed"
    },
    "tags": []
   },
   "source": [
    "# Loading Data"
   ]
  },
  {
   "cell_type": "markdown",
   "id": "681925a3",
   "metadata": {
    "papermill": {
     "duration": 0.041353,
     "end_time": "2025-07-22T09:18:14.367601",
     "exception": false,
     "start_time": "2025-07-22T09:18:14.326248",
     "status": "completed"
    },
    "tags": []
   },
   "source": [
    "Load siab_train, siab_test, siab_calib and/or \n",
    "load siab_train_features, siab_train_labels"
   ]
  },
  {
   "cell_type": "code",
   "execution_count": 9,
   "id": "f0496b8a",
   "metadata": {
    "execution": {
     "iopub.execute_input": "2025-07-22T09:18:14.438742Z",
     "iopub.status.busy": "2025-07-22T09:18:14.438301Z",
     "iopub.status.idle": "2025-07-22T09:18:14.444601Z",
     "shell.execute_reply": "2025-07-22T09:18:14.443735Z"
    },
    "papermill": {
     "duration": 0.054005,
     "end_time": "2025-07-22T09:18:14.451307",
     "exception": false,
     "start_time": "2025-07-22T09:18:14.397302",
     "status": "completed"
    },
    "tags": []
   },
   "outputs": [],
   "source": [
    "# Do I need to load siab? Delete this cell?\n",
    "\n",
    "#from pathlib import Path\n",
    "#import pandas as pd\n",
    "#\n",
    "## File paths\n",
    "#raw_file = Path(\"data/raw/siab.csv\")\n",
    "#cache_file = Path(\"data/siab_cached.csv.gz\")\n",
    "#\n",
    "## Ensure cache directory exists\n",
    "#cache_file.parent.mkdir(parents=True, exist_ok=True)\n",
    "#\n",
    "## Load with simple caching\n",
    "#if cache_file.exists():\n",
    "#    print(f\"Loading SIAB data from cache: {cache_file}\")\n",
    "#    siab = pd.read_csv(cache_file, compression='gzip')\n",
    "#else:\n",
    "#    print(f\"Cache not found. Reading raw SIAB data: {raw_file}\")\n",
    "#    siab = pd.read_csv(raw_file)\n",
    "#    siab.to_csv(cache_file, index=False, compression='gzip')\n",
    "#    print(f\"Cached SIAB data to: {cache_file}\")\n",
    "#\n",
    "## Now use `siab` DataFrame as needed\n",
    "#print(siab.shape)\n"
   ]
  },
  {
   "cell_type": "code",
   "execution_count": 10,
   "id": "a0edb063",
   "metadata": {
    "execution": {
     "iopub.execute_input": "2025-07-22T09:18:14.490500Z",
     "iopub.status.busy": "2025-07-22T09:18:14.489770Z",
     "iopub.status.idle": "2025-07-22T09:18:15.023343Z",
     "shell.execute_reply": "2025-07-22T09:18:15.022315Z"
    },
    "papermill": {
     "duration": 0.55448,
     "end_time": "2025-07-22T09:18:15.025180",
     "exception": false,
     "start_time": "2025-07-22T09:18:14.470700",
     "status": "completed"
    },
    "tags": []
   },
   "outputs": [],
   "source": [
    "import pandas as pd\n",
    "\n",
    "X_train = pd.read_csv(\"./data/X_train.csv\")\n",
    "y_train = pd.read_csv(\"./data/y_train.csv\")"
   ]
  },
  {
   "cell_type": "code",
   "execution_count": 11,
   "id": "63d08085",
   "metadata": {
    "execution": {
     "iopub.execute_input": "2025-07-22T09:18:15.101397Z",
     "iopub.status.busy": "2025-07-22T09:18:15.100945Z",
     "iopub.status.idle": "2025-07-22T09:18:16.790399Z",
     "shell.execute_reply": "2025-07-22T09:18:16.778987Z"
    },
    "papermill": {
     "duration": 1.743156,
     "end_time": "2025-07-22T09:18:16.792420",
     "exception": false,
     "start_time": "2025-07-22T09:18:15.049264",
     "status": "completed"
    },
    "tags": []
   },
   "outputs": [],
   "source": [
    "X_test = pd.read_csv(\"./data/X_test.csv\")\n",
    "y_true = pd.read_csv(\"./data/y_test.csv\")"
   ]
  },
  {
   "cell_type": "code",
   "execution_count": 12,
   "id": "98a8d0fa-1d3d-4ed8-bb2c-281470e24add",
   "metadata": {
    "execution": {
     "iopub.execute_input": "2025-07-22T09:18:16.866227Z",
     "iopub.status.busy": "2025-07-22T09:18:16.865698Z",
     "iopub.status.idle": "2025-07-22T09:18:18.300337Z",
     "shell.execute_reply": "2025-07-22T09:18:18.299289Z"
    },
    "papermill": {
     "duration": 1.453136,
     "end_time": "2025-07-22T09:18:18.302316",
     "exception": false,
     "start_time": "2025-07-22T09:18:16.849180",
     "status": "completed"
    },
    "tags": []
   },
   "outputs": [],
   "source": [
    "# Calibration data for conformal\n",
    "X_calib = pd.read_csv(\"./data/X_calib.csv\")\n",
    "y_calib = pd.read_csv(\"./data/y_calib.csv\")"
   ]
  },
  {
   "cell_type": "code",
   "execution_count": 13,
   "id": "e6c733c5",
   "metadata": {
    "execution": {
     "iopub.execute_input": "2025-07-22T09:18:18.338388Z",
     "iopub.status.busy": "2025-07-22T09:18:18.337979Z",
     "iopub.status.idle": "2025-07-22T09:18:18.478215Z",
     "shell.execute_reply": "2025-07-22T09:18:18.477217Z"
    },
    "papermill": {
     "duration": 0.160452,
     "end_time": "2025-07-22T09:18:18.480327",
     "exception": false,
     "start_time": "2025-07-22T09:18:18.319875",
     "status": "completed"
    },
    "tags": []
   },
   "outputs": [],
   "source": [
    "# Auxiliary data needed downstream in the pipeline\n",
    "\n",
    "org_train = X_train.copy()\n",
    "org_test = X_test.copy()\n",
    "org_calib = X_calib.copy()"
   ]
  },
  {
   "cell_type": "markdown",
   "id": "0a4a1b33",
   "metadata": {
    "papermill": {
     "duration": 0.016614,
     "end_time": "2025-07-22T09:18:18.514812",
     "exception": false,
     "start_time": "2025-07-22T09:18:18.498198",
     "status": "completed"
    },
    "tags": []
   },
   "source": [
    "# Preprocessing Data"
   ]
  },
  {
   "cell_type": "code",
   "execution_count": 14,
   "id": "ca879031",
   "metadata": {
    "execution": {
     "iopub.execute_input": "2025-07-22T09:18:18.549621Z",
     "iopub.status.busy": "2025-07-22T09:18:18.549195Z",
     "iopub.status.idle": "2025-07-22T09:18:18.555866Z",
     "shell.execute_reply": "2025-07-22T09:18:18.554888Z"
    },
    "papermill": {
     "duration": 0.027872,
     "end_time": "2025-07-22T09:18:18.559164",
     "exception": false,
     "start_time": "2025-07-22T09:18:18.531292",
     "status": "completed"
    },
    "tags": []
   },
   "outputs": [],
   "source": [
    "# EXCLUDE PROTECTED FEATURES\n",
    "# ----------------------\n",
    "# \"exclude_features\": \"none\", # \"nationality\", \"sex\", \"nationality-sex\"\n",
    "\n",
    "excluded_features = universe[\"exclude_features\"].split(\"-\") # split, e.g.: \"nationality-sex\" -> [\"nationality\", \"sex\"]\n",
    "excluded_features_dictionary = {\n",
    "    \"nationality\": [\"maxdeutsch1\", \"maxdeutsch.Missing.\"],\n",
    "    \"sex\": [\"frau1\"],\n",
    "}\n"
   ]
  },
  {
   "cell_type": "code",
   "execution_count": 15,
   "id": "b745ac60",
   "metadata": {
    "execution": {
     "iopub.execute_input": "2025-07-22T09:18:18.596442Z",
     "iopub.status.busy": "2025-07-22T09:18:18.595990Z",
     "iopub.status.idle": "2025-07-22T09:18:18.602426Z",
     "shell.execute_reply": "2025-07-22T09:18:18.601386Z"
    },
    "papermill": {
     "duration": 0.028627,
     "end_time": "2025-07-22T09:18:18.606135",
     "exception": false,
     "start_time": "2025-07-22T09:18:18.577508",
     "status": "completed"
    },
    "tags": []
   },
   "outputs": [],
   "source": [
    "# Code nice names to column names\n",
    "\n",
    "excluded_features_columns = [\n",
    "    excluded_features_dictionary[f] for f in excluded_features if len(f) > 0 and f != \"none\"\n",
    "]"
   ]
  },
  {
   "cell_type": "code",
   "execution_count": 16,
   "id": "f84f73a2",
   "metadata": {
    "execution": {
     "iopub.execute_input": "2025-07-22T09:18:18.651570Z",
     "iopub.status.busy": "2025-07-22T09:18:18.651160Z",
     "iopub.status.idle": "2025-07-22T09:18:18.679614Z",
     "shell.execute_reply": "2025-07-22T09:18:18.678379Z"
    },
    "papermill": {
     "duration": 0.062937,
     "end_time": "2025-07-22T09:18:18.688365",
     "exception": false,
     "start_time": "2025-07-22T09:18:18.625428",
     "status": "completed"
    },
    "tags": []
   },
   "outputs": [],
   "source": [
    "from utils import flatten_once\n",
    "\n",
    "excluded_features_columns = flatten_once(excluded_features_columns)"
   ]
  },
  {
   "cell_type": "code",
   "execution_count": 17,
   "id": "884dea22",
   "metadata": {
    "execution": {
     "iopub.execute_input": "2025-07-22T09:18:18.835144Z",
     "iopub.status.busy": "2025-07-22T09:18:18.834724Z",
     "iopub.status.idle": "2025-07-22T09:18:18.841821Z",
     "shell.execute_reply": "2025-07-22T09:18:18.840664Z"
    },
    "papermill": {
     "duration": 0.079507,
     "end_time": "2025-07-22T09:18:18.844198",
     "exception": false,
     "start_time": "2025-07-22T09:18:18.764691",
     "status": "completed"
    },
    "tags": []
   },
   "outputs": [],
   "source": [
    "if len(excluded_features_columns) > 0:\n",
    "    print(f\"Dropping features: {excluded_features_columns}\")\n",
    "    X_train.drop(excluded_features_columns, axis=1, inplace=True)"
   ]
  },
  {
   "cell_type": "code",
   "execution_count": 18,
   "id": "95ab8b16",
   "metadata": {
    "execution": {
     "iopub.execute_input": "2025-07-22T09:18:18.898498Z",
     "iopub.status.busy": "2025-07-22T09:18:18.898096Z",
     "iopub.status.idle": "2025-07-22T09:18:18.904214Z",
     "shell.execute_reply": "2025-07-22T09:18:18.903125Z"
    },
    "papermill": {
     "duration": 0.044958,
     "end_time": "2025-07-22T09:18:18.907868",
     "exception": false,
     "start_time": "2025-07-22T09:18:18.862910",
     "status": "completed"
    },
    "tags": []
   },
   "outputs": [],
   "source": [
    "if len(excluded_features_columns) > 0:\n",
    "    print(f\"Dropping features: {excluded_features_columns}\")\n",
    "    X_test.drop(excluded_features_columns, axis=1, inplace=True)"
   ]
  },
  {
   "cell_type": "code",
   "execution_count": 19,
   "id": "1853aaf5-fb9f-46cb-a2b5-8ea4ae2237e4",
   "metadata": {
    "execution": {
     "iopub.execute_input": "2025-07-22T09:18:18.976342Z",
     "iopub.status.busy": "2025-07-22T09:18:18.975922Z",
     "iopub.status.idle": "2025-07-22T09:18:18.982144Z",
     "shell.execute_reply": "2025-07-22T09:18:18.981058Z"
    },
    "papermill": {
     "duration": 0.02876,
     "end_time": "2025-07-22T09:18:18.985803",
     "exception": false,
     "start_time": "2025-07-22T09:18:18.957043",
     "status": "completed"
    },
    "tags": []
   },
   "outputs": [],
   "source": [
    "if len(excluded_features_columns) > 0:\n",
    "    print(f\"Dropping features: {excluded_features_columns}\")\n",
    "    X_calib.drop(excluded_features_columns, axis=1, inplace=True)"
   ]
  },
  {
   "cell_type": "code",
   "execution_count": 20,
   "id": "76c4dc6d",
   "metadata": {
    "execution": {
     "iopub.execute_input": "2025-07-22T09:18:19.021553Z",
     "iopub.status.busy": "2025-07-22T09:18:19.021193Z",
     "iopub.status.idle": "2025-07-22T09:18:19.026091Z",
     "shell.execute_reply": "2025-07-22T09:18:19.025051Z"
    },
    "papermill": {
     "duration": 0.023774,
     "end_time": "2025-07-22T09:18:19.028662",
     "exception": false,
     "start_time": "2025-07-22T09:18:19.004888",
     "status": "completed"
    },
    "tags": []
   },
   "outputs": [],
   "source": [
    "# EXCLUDE CERTAIN SUBGROUPS\n",
    "# ----------------------\n",
    "\n",
    "mode = universe.get(\"exclude_subgroups\", \"keep-all\") \n",
    "# Fetches the exclude_subgroups setting from the universe dict.\n",
    "# Defaults to \"keep-all\" if the key is missing."
   ]
  },
  {
   "cell_type": "code",
   "execution_count": 21,
   "id": "21994072",
   "metadata": {
    "execution": {
     "iopub.execute_input": "2025-07-22T09:18:19.072342Z",
     "iopub.status.busy": "2025-07-22T09:18:19.071928Z",
     "iopub.status.idle": "2025-07-22T09:18:19.079191Z",
     "shell.execute_reply": "2025-07-22T09:18:19.078094Z"
    },
    "papermill": {
     "duration": 0.029661,
     "end_time": "2025-07-22T09:18:19.082553",
     "exception": false,
     "start_time": "2025-07-22T09:18:19.052892",
     "status": "completed"
    },
    "tags": []
   },
   "outputs": [],
   "source": [
    "if mode == \"keep-all\":\n",
    "    keep_mask = pd.Series(True, index=org_train.index)\n",
    "\n",
    "# org_train contains the original feature columns from features_org (in Simson)\n",
    "# features_org contains unprocessed features, for me X_train at beginning ???\n",
    "# For keep-all, creates a boolean Series (keep_mask) of all True, so no rows are removed.\n",
    "\n",
    "elif mode == \"drop-non-german\":\n",
    "    keep_mask = org_train[\"maxdeutsch1\"] == 1 # ??? what about missing values?\n",
    "\n",
    "else:\n",
    "    raise ValueError(f\"Unsupported mode for exclude_subgroups: {mode}\")\n"
   ]
  },
  {
   "cell_type": "code",
   "execution_count": 22,
   "id": "71651440",
   "metadata": {
    "execution": {
     "iopub.execute_input": "2025-07-22T09:18:19.120839Z",
     "iopub.status.busy": "2025-07-22T09:18:19.120382Z",
     "iopub.status.idle": "2025-07-22T09:18:19.127345Z",
     "shell.execute_reply": "2025-07-22T09:18:19.126177Z"
    },
    "papermill": {
     "duration": 0.029374,
     "end_time": "2025-07-22T09:18:19.131078",
     "exception": false,
     "start_time": "2025-07-22T09:18:19.101704",
     "status": "completed"
    },
    "tags": []
   },
   "outputs": [],
   "source": [
    "n_drop = (~keep_mask).sum() # Calculates how many rows are set to be dropped\n",
    "if n_drop > 0:\n",
    "    pct = n_drop / len(keep_mask) * 100\n",
    "    print(f\"Dropping {n_drop} rows ({pct:.2f}%) where mode='{mode}'\")"
   ]
  },
  {
   "cell_type": "code",
   "execution_count": 23,
   "id": "5fb8eee5",
   "metadata": {
    "execution": {
     "iopub.execute_input": "2025-07-22T09:18:19.186071Z",
     "iopub.status.busy": "2025-07-22T09:18:19.185669Z",
     "iopub.status.idle": "2025-07-22T09:18:19.213259Z",
     "shell.execute_reply": "2025-07-22T09:18:19.211987Z"
    },
    "papermill": {
     "duration": 0.065359,
     "end_time": "2025-07-22T09:18:19.215504",
     "exception": false,
     "start_time": "2025-07-22T09:18:19.150145",
     "status": "completed"
    },
    "tags": []
   },
   "outputs": [],
   "source": [
    "X_train = X_train[keep_mask]"
   ]
  },
  {
   "cell_type": "code",
   "execution_count": 24,
   "id": "b202bb3a",
   "metadata": {
    "execution": {
     "iopub.execute_input": "2025-07-22T09:18:19.265302Z",
     "iopub.status.busy": "2025-07-22T09:18:19.264866Z",
     "iopub.status.idle": "2025-07-22T09:18:19.272038Z",
     "shell.execute_reply": "2025-07-22T09:18:19.270856Z"
    },
    "papermill": {
     "duration": 0.040805,
     "end_time": "2025-07-22T09:18:19.275729",
     "exception": false,
     "start_time": "2025-07-22T09:18:19.234924",
     "status": "completed"
    },
    "tags": []
   },
   "outputs": [],
   "source": [
    "y_train = y_train[keep_mask]"
   ]
  },
  {
   "cell_type": "markdown",
   "id": "493e2ac3",
   "metadata": {
    "papermill": {
     "duration": 0.066022,
     "end_time": "2025-07-22T09:18:19.360970",
     "exception": false,
     "start_time": "2025-07-22T09:18:19.294948",
     "status": "completed"
    },
    "tags": []
   },
   "source": [
    "# Model Training"
   ]
  },
  {
   "cell_type": "code",
   "execution_count": 25,
   "id": "679e1268",
   "metadata": {
    "execution": {
     "iopub.execute_input": "2025-07-22T09:18:19.470878Z",
     "iopub.status.busy": "2025-07-22T09:18:19.470475Z",
     "iopub.status.idle": "2025-07-22T09:18:19.650850Z",
     "shell.execute_reply": "2025-07-22T09:18:19.649797Z"
    },
    "papermill": {
     "duration": 0.248653,
     "end_time": "2025-07-22T09:18:19.652970",
     "exception": false,
     "start_time": "2025-07-22T09:18:19.404317",
     "status": "completed"
    },
    "tags": []
   },
   "outputs": [],
   "source": [
    "from sklearn.linear_model import LogisticRegression\n",
    "from sklearn.ensemble import GradientBoostingClassifier, RandomForestClassifier\n",
    "\n",
    "if (universe[\"model\"] == \"logreg\"):\n",
    "    model = LogisticRegression() #penalty=\"none\") #, solver=\"newton-cg\", max_iter=1) # include random_state=19 ?\n",
    "elif (universe[\"model\"] == \"penalized_logreg\"):\n",
    "    model = LogisticRegression(penalty=\"l2\", C=1.0) #, solver=\"newton-cg\", max_iter=1)\n",
    "elif (universe[\"model\"] == \"rf\"):\n",
    "    model = RandomForestClassifier(n_estimators=100, n_jobs=-1)\n",
    "elif (universe[\"model\"] == \"gbm\"):\n",
    "    model = GradientBoostingClassifier()\n",
    "elif (universe[\"model\"] == \"elasticnet\"):\n",
    "    model = LogisticRegression(penalty = 'elasticnet', solver = 'saga', l1_ratio = 0.5, max_iter=5000) # which solver to use?\n",
    "else:\n",
    "    raise \"Unsupported universe.model\""
   ]
  },
  {
   "cell_type": "code",
   "execution_count": 26,
   "id": "0cc8f744",
   "metadata": {
    "execution": {
     "iopub.execute_input": "2025-07-22T09:18:19.719185Z",
     "iopub.status.busy": "2025-07-22T09:18:19.718689Z",
     "iopub.status.idle": "2025-07-22T09:18:19.728137Z",
     "shell.execute_reply": "2025-07-22T09:18:19.726926Z"
    },
    "papermill": {
     "duration": 0.041719,
     "end_time": "2025-07-22T09:18:19.730574",
     "exception": false,
     "start_time": "2025-07-22T09:18:19.688855",
     "status": "completed"
    },
    "tags": []
   },
   "outputs": [],
   "source": [
    "import numpy as np\n",
    "from sklearn.pipeline import Pipeline\n",
    "from sklearn.preprocessing import StandardScaler\n",
    "\n",
    "model = Pipeline([\n",
    "    #(\"continuous_processor\", continuous_processor),\n",
    "    #(\"categorical_preprocessor\", categorical_preprocessor),\n",
    "    (\"scale\", StandardScaler() if universe[\"scale\"] == \"scale\" else None),\n",
    "    (\"model\", model),\n",
    "])"
   ]
  },
  {
   "cell_type": "code",
   "execution_count": 27,
   "id": "9442c04d",
   "metadata": {
    "execution": {
     "iopub.execute_input": "2025-07-22T09:18:19.800162Z",
     "iopub.status.busy": "2025-07-22T09:18:19.799733Z",
     "iopub.status.idle": "2025-07-22T09:18:46.859758Z",
     "shell.execute_reply": "2025-07-22T09:18:46.858878Z"
    },
    "papermill": {
     "duration": 27.091169,
     "end_time": "2025-07-22T09:18:46.861193",
     "exception": false,
     "start_time": "2025-07-22T09:18:19.770024",
     "status": "completed"
    },
    "tags": []
   },
   "outputs": [
    {
     "data": {
      "text/html": [
       "<style>#sk-container-id-1 {color: black;background-color: white;}#sk-container-id-1 pre{padding: 0;}#sk-container-id-1 div.sk-toggleable {background-color: white;}#sk-container-id-1 label.sk-toggleable__label {cursor: pointer;display: block;width: 100%;margin-bottom: 0;padding: 0.3em;box-sizing: border-box;text-align: center;}#sk-container-id-1 label.sk-toggleable__label-arrow:before {content: \"▸\";float: left;margin-right: 0.25em;color: #696969;}#sk-container-id-1 label.sk-toggleable__label-arrow:hover:before {color: black;}#sk-container-id-1 div.sk-estimator:hover label.sk-toggleable__label-arrow:before {color: black;}#sk-container-id-1 div.sk-toggleable__content {max-height: 0;max-width: 0;overflow: hidden;text-align: left;background-color: #f0f8ff;}#sk-container-id-1 div.sk-toggleable__content pre {margin: 0.2em;color: black;border-radius: 0.25em;background-color: #f0f8ff;}#sk-container-id-1 input.sk-toggleable__control:checked~div.sk-toggleable__content {max-height: 200px;max-width: 100%;overflow: auto;}#sk-container-id-1 input.sk-toggleable__control:checked~label.sk-toggleable__label-arrow:before {content: \"▾\";}#sk-container-id-1 div.sk-estimator input.sk-toggleable__control:checked~label.sk-toggleable__label {background-color: #d4ebff;}#sk-container-id-1 div.sk-label input.sk-toggleable__control:checked~label.sk-toggleable__label {background-color: #d4ebff;}#sk-container-id-1 input.sk-hidden--visually {border: 0;clip: rect(1px 1px 1px 1px);clip: rect(1px, 1px, 1px, 1px);height: 1px;margin: -1px;overflow: hidden;padding: 0;position: absolute;width: 1px;}#sk-container-id-1 div.sk-estimator {font-family: monospace;background-color: #f0f8ff;border: 1px dotted black;border-radius: 0.25em;box-sizing: border-box;margin-bottom: 0.5em;}#sk-container-id-1 div.sk-estimator:hover {background-color: #d4ebff;}#sk-container-id-1 div.sk-parallel-item::after {content: \"\";width: 100%;border-bottom: 1px solid gray;flex-grow: 1;}#sk-container-id-1 div.sk-label:hover label.sk-toggleable__label {background-color: #d4ebff;}#sk-container-id-1 div.sk-serial::before {content: \"\";position: absolute;border-left: 1px solid gray;box-sizing: border-box;top: 0;bottom: 0;left: 50%;z-index: 0;}#sk-container-id-1 div.sk-serial {display: flex;flex-direction: column;align-items: center;background-color: white;padding-right: 0.2em;padding-left: 0.2em;position: relative;}#sk-container-id-1 div.sk-item {position: relative;z-index: 1;}#sk-container-id-1 div.sk-parallel {display: flex;align-items: stretch;justify-content: center;background-color: white;position: relative;}#sk-container-id-1 div.sk-item::before, #sk-container-id-1 div.sk-parallel-item::before {content: \"\";position: absolute;border-left: 1px solid gray;box-sizing: border-box;top: 0;bottom: 0;left: 50%;z-index: -1;}#sk-container-id-1 div.sk-parallel-item {display: flex;flex-direction: column;z-index: 1;position: relative;background-color: white;}#sk-container-id-1 div.sk-parallel-item:first-child::after {align-self: flex-end;width: 50%;}#sk-container-id-1 div.sk-parallel-item:last-child::after {align-self: flex-start;width: 50%;}#sk-container-id-1 div.sk-parallel-item:only-child::after {width: 0;}#sk-container-id-1 div.sk-dashed-wrapped {border: 1px dashed gray;margin: 0 0.4em 0.5em 0.4em;box-sizing: border-box;padding-bottom: 0.4em;background-color: white;}#sk-container-id-1 div.sk-label label {font-family: monospace;font-weight: bold;display: inline-block;line-height: 1.2em;}#sk-container-id-1 div.sk-label-container {text-align: center;}#sk-container-id-1 div.sk-container {/* jupyter's `normalize.less` sets `[hidden] { display: none; }` but bootstrap.min.css set `[hidden] { display: none !important; }` so we also need the `!important` here to be able to override the default hidden behavior on the sphinx rendered scikit-learn.org. See: https://github.com/scikit-learn/scikit-learn/issues/21755 */display: inline-block !important;position: relative;}#sk-container-id-1 div.sk-text-repr-fallback {display: none;}</style><div id=\"sk-container-id-1\" class=\"sk-top-container\"><div class=\"sk-text-repr-fallback\"><pre>Pipeline(steps=[(&#x27;scale&#x27;, None), (&#x27;model&#x27;, GradientBoostingClassifier())])</pre><b>In a Jupyter environment, please rerun this cell to show the HTML representation or trust the notebook. <br />On GitHub, the HTML representation is unable to render, please try loading this page with nbviewer.org.</b></div><div class=\"sk-container\" hidden><div class=\"sk-item sk-dashed-wrapped\"><div class=\"sk-label-container\"><div class=\"sk-label sk-toggleable\"><input class=\"sk-toggleable__control sk-hidden--visually\" id=\"sk-estimator-id-1\" type=\"checkbox\" ><label for=\"sk-estimator-id-1\" class=\"sk-toggleable__label sk-toggleable__label-arrow\">Pipeline</label><div class=\"sk-toggleable__content\"><pre>Pipeline(steps=[(&#x27;scale&#x27;, None), (&#x27;model&#x27;, GradientBoostingClassifier())])</pre></div></div></div><div class=\"sk-serial\"><div class=\"sk-item\"><div class=\"sk-estimator sk-toggleable\"><input class=\"sk-toggleable__control sk-hidden--visually\" id=\"sk-estimator-id-2\" type=\"checkbox\" ><label for=\"sk-estimator-id-2\" class=\"sk-toggleable__label sk-toggleable__label-arrow\">None</label><div class=\"sk-toggleable__content\"><pre>None</pre></div></div></div><div class=\"sk-item\"><div class=\"sk-estimator sk-toggleable\"><input class=\"sk-toggleable__control sk-hidden--visually\" id=\"sk-estimator-id-3\" type=\"checkbox\" ><label for=\"sk-estimator-id-3\" class=\"sk-toggleable__label sk-toggleable__label-arrow\">GradientBoostingClassifier</label><div class=\"sk-toggleable__content\"><pre>GradientBoostingClassifier()</pre></div></div></div></div></div></div></div>"
      ],
      "text/plain": [
       "Pipeline(steps=[('scale', None), ('model', GradientBoostingClassifier())])"
      ]
     },
     "execution_count": 27,
     "metadata": {},
     "output_type": "execute_result"
    }
   ],
   "source": [
    "model.fit(X_train, y_train.values.ravel())"
   ]
  },
  {
   "cell_type": "code",
   "execution_count": 28,
   "id": "af59f8c0",
   "metadata": {
    "execution": {
     "iopub.execute_input": "2025-07-22T09:18:46.884054Z",
     "iopub.status.busy": "2025-07-22T09:18:46.883522Z",
     "iopub.status.idle": "2025-07-22T09:18:46.888935Z",
     "shell.execute_reply": "2025-07-22T09:18:46.888104Z"
    },
    "papermill": {
     "duration": 0.017379,
     "end_time": "2025-07-22T09:18:46.890369",
     "exception": false,
     "start_time": "2025-07-22T09:18:46.872990",
     "status": "completed"
    },
    "tags": []
   },
   "outputs": [],
   "source": [
    "from fairness_multiverse.universe import predict_w_threshold"
   ]
  },
  {
   "cell_type": "code",
   "execution_count": 29,
   "id": "a7cf2e16",
   "metadata": {
    "execution": {
     "iopub.execute_input": "2025-07-22T09:18:46.912089Z",
     "iopub.status.busy": "2025-07-22T09:18:46.911594Z",
     "iopub.status.idle": "2025-07-22T09:18:47.351804Z",
     "shell.execute_reply": "2025-07-22T09:18:47.350991Z"
    },
    "papermill": {
     "duration": 0.45156,
     "end_time": "2025-07-22T09:18:47.353087",
     "exception": false,
     "start_time": "2025-07-22T09:18:46.901527",
     "status": "completed"
    },
    "tags": []
   },
   "outputs": [
    {
     "data": {
      "text/plain": [
       "0.8695351688774942"
      ]
     },
     "execution_count": 29,
     "metadata": {},
     "output_type": "execute_result"
    }
   ],
   "source": [
    "probs_test = model.predict_proba(X_test)\n",
    "\n",
    "'''\n",
    "Below code returns a boolean array (or binary 0/1 array depending on how it’s used) where each element \n",
    "is True if the probability of class 1 is greater than or equal to the threshold, and False otherwise.\n",
    "'''\n",
    "y_pred_default = predict_w_threshold(probs_test, 0.5)\n",
    "\n",
    "from sklearn.metrics import accuracy_score\n",
    "\n",
    "# Naive prediction\n",
    "accuracy_score(y_true = y_true, y_pred = y_pred_default)"
   ]
  },
  {
   "cell_type": "code",
   "execution_count": 30,
   "id": "081964c3",
   "metadata": {
    "execution": {
     "iopub.execute_input": "2025-07-22T09:18:47.374364Z",
     "iopub.status.busy": "2025-07-22T09:18:47.374014Z",
     "iopub.status.idle": "2025-07-22T09:18:48.113697Z",
     "shell.execute_reply": "2025-07-22T09:18:48.112481Z"
    },
    "papermill": {
     "duration": 0.752287,
     "end_time": "2025-07-22T09:18:48.115516",
     "exception": false,
     "start_time": "2025-07-22T09:18:47.363229",
     "status": "completed"
    },
    "tags": []
   },
   "outputs": [
    {
     "data": {
      "text/plain": [
       "array([0, 0, 0, ..., 0, 0, 0])"
      ]
     },
     "execution_count": 30,
     "metadata": {},
     "output_type": "execute_result"
    }
   ],
   "source": [
    "model.predict(X_test)"
   ]
  },
  {
   "cell_type": "markdown",
   "id": "56c9705b",
   "metadata": {
    "papermill": {
     "duration": 0.020208,
     "end_time": "2025-07-22T09:18:48.156191",
     "exception": false,
     "start_time": "2025-07-22T09:18:48.135983",
     "status": "completed"
    },
    "tags": []
   },
   "source": [
    "# Conformal Prediction"
   ]
  },
  {
   "cell_type": "code",
   "execution_count": 31,
   "id": "160ec6ff",
   "metadata": {
    "execution": {
     "iopub.execute_input": "2025-07-22T09:18:48.197997Z",
     "iopub.status.busy": "2025-07-22T09:18:48.197256Z",
     "iopub.status.idle": "2025-07-22T09:18:48.203280Z",
     "shell.execute_reply": "2025-07-22T09:18:48.202163Z"
    },
    "papermill": {
     "duration": 0.029272,
     "end_time": "2025-07-22T09:18:48.205287",
     "exception": false,
     "start_time": "2025-07-22T09:18:48.176015",
     "status": "completed"
    },
    "tags": []
   },
   "outputs": [],
   "source": [
    "# Miscoverage level for conformal prediction (10% allowed error rate => 90% target coverage)\n",
    "alpha = 0.1"
   ]
  },
  {
   "cell_type": "code",
   "execution_count": 32,
   "id": "eadf4555-3dd3-440e-8e35-f82a4ad9f855",
   "metadata": {
    "execution": {
     "iopub.execute_input": "2025-07-22T09:18:48.248368Z",
     "iopub.status.busy": "2025-07-22T09:18:48.247910Z",
     "iopub.status.idle": "2025-07-22T09:18:49.014784Z",
     "shell.execute_reply": "2025-07-22T09:18:49.013780Z"
    },
    "papermill": {
     "duration": 0.790443,
     "end_time": "2025-07-22T09:18:49.016819",
     "exception": false,
     "start_time": "2025-07-22T09:18:48.226376",
     "status": "completed"
    },
    "tags": []
   },
   "outputs": [],
   "source": [
    "probs_calib = model.predict_proba(X_calib)"
   ]
  },
  {
   "cell_type": "code",
   "execution_count": 33,
   "id": "2ed93547-6d5d-4983-9b36-1ecb300da49a",
   "metadata": {
    "execution": {
     "iopub.execute_input": "2025-07-22T09:18:49.056263Z",
     "iopub.status.busy": "2025-07-22T09:18:49.055786Z",
     "iopub.status.idle": "2025-07-22T09:18:49.061988Z",
     "shell.execute_reply": "2025-07-22T09:18:49.060895Z"
    },
    "papermill": {
     "duration": 0.028082,
     "end_time": "2025-07-22T09:18:49.063871",
     "exception": false,
     "start_time": "2025-07-22T09:18:49.035789",
     "status": "completed"
    },
    "tags": []
   },
   "outputs": [],
   "source": [
    "y_calib = y_calib.values.ravel().astype(int)"
   ]
  },
  {
   "cell_type": "code",
   "execution_count": 34,
   "id": "65d1320d-f588-4b38-9072-62af1ae97f7d",
   "metadata": {
    "execution": {
     "iopub.execute_input": "2025-07-22T09:18:49.108893Z",
     "iopub.status.busy": "2025-07-22T09:18:49.108358Z",
     "iopub.status.idle": "2025-07-22T09:18:49.118131Z",
     "shell.execute_reply": "2025-07-22T09:18:49.117009Z"
    },
    "papermill": {
     "duration": 0.039856,
     "end_time": "2025-07-22T09:18:49.127095",
     "exception": false,
     "start_time": "2025-07-22T09:18:49.087239",
     "status": "completed"
    },
    "tags": []
   },
   "outputs": [],
   "source": [
    "from fairness_multiverse.conformal import compute_nc_scores\n",
    "\n",
    "# Compute nonconformity scores on calibration set (1 - probability of true class)\n",
    "nc_scores = compute_nc_scores(probs_calib, y_calib)"
   ]
  },
  {
   "cell_type": "code",
   "execution_count": 35,
   "id": "df3b8ca3-53b7-43d5-9667-7c85da7aeda2",
   "metadata": {
    "execution": {
     "iopub.execute_input": "2025-07-22T09:18:49.169536Z",
     "iopub.status.busy": "2025-07-22T09:18:49.168810Z",
     "iopub.status.idle": "2025-07-22T09:18:49.175711Z",
     "shell.execute_reply": "2025-07-22T09:18:49.174634Z"
    },
    "papermill": {
     "duration": 0.030695,
     "end_time": "2025-07-22T09:18:49.177533",
     "exception": false,
     "start_time": "2025-07-22T09:18:49.146838",
     "status": "completed"
    },
    "tags": []
   },
   "outputs": [],
   "source": [
    "from fairness_multiverse.conformal import find_threshold\n",
    "\n",
    "# Find conformal threshold q_hat for the given alpha (split conformal method)\n",
    "q_hat = find_threshold(nc_scores, alpha)"
   ]
  },
  {
   "cell_type": "code",
   "execution_count": 36,
   "id": "4d29e6c1-0ef6-4aa4-b8fe-4fe79b0d033a",
   "metadata": {
    "execution": {
     "iopub.execute_input": "2025-07-22T09:18:49.221766Z",
     "iopub.status.busy": "2025-07-22T09:18:49.221240Z",
     "iopub.status.idle": "2025-07-22T09:18:49.229357Z",
     "shell.execute_reply": "2025-07-22T09:18:49.228189Z"
    },
    "papermill": {
     "duration": 0.03338,
     "end_time": "2025-07-22T09:18:49.231407",
     "exception": false,
     "start_time": "2025-07-22T09:18:49.198027",
     "status": "completed"
    },
    "tags": []
   },
   "outputs": [
    {
     "data": {
      "text/plain": [
       "0.6685875842072209"
      ]
     },
     "execution_count": 36,
     "metadata": {},
     "output_type": "execute_result"
    }
   ],
   "source": [
    "q_hat"
   ]
  },
  {
   "cell_type": "code",
   "execution_count": 37,
   "id": "92460794-cdac-4be2-ba28-f28c0515a6fb",
   "metadata": {
    "execution": {
     "iopub.execute_input": "2025-07-22T09:18:49.274976Z",
     "iopub.status.busy": "2025-07-22T09:18:49.274314Z",
     "iopub.status.idle": "2025-07-22T09:18:50.649039Z",
     "shell.execute_reply": "2025-07-22T09:18:50.647969Z"
    },
    "papermill": {
     "duration": 1.397368,
     "end_time": "2025-07-22T09:18:50.651069",
     "exception": false,
     "start_time": "2025-07-22T09:18:49.253701",
     "status": "completed"
    },
    "tags": []
   },
   "outputs": [],
   "source": [
    "from fairness_multiverse.conformal import predict_conformal_sets\n",
    "\n",
    "# Generate prediction sets for each test example\n",
    "pred_sets = predict_conformal_sets(model, X_test, q_hat)"
   ]
  },
  {
   "cell_type": "code",
   "execution_count": 38,
   "id": "d90c9a65-e6db-4f5d-80cd-e68fb7e46829",
   "metadata": {
    "execution": {
     "iopub.execute_input": "2025-07-22T09:18:50.693226Z",
     "iopub.status.busy": "2025-07-22T09:18:50.692465Z",
     "iopub.status.idle": "2025-07-22T09:18:50.698930Z",
     "shell.execute_reply": "2025-07-22T09:18:50.697792Z"
    },
    "papermill": {
     "duration": 0.029739,
     "end_time": "2025-07-22T09:18:50.700909",
     "exception": false,
     "start_time": "2025-07-22T09:18:50.671170",
     "status": "completed"
    },
    "tags": []
   },
   "outputs": [],
   "source": [
    "y_true = y_true.squeeze()"
   ]
  },
  {
   "cell_type": "code",
   "execution_count": 39,
   "id": "3a58a54a-1e68-46b9-927a-df01f18aebc8",
   "metadata": {
    "execution": {
     "iopub.execute_input": "2025-07-22T09:18:50.745149Z",
     "iopub.status.busy": "2025-07-22T09:18:50.744363Z",
     "iopub.status.idle": "2025-07-22T09:18:51.725705Z",
     "shell.execute_reply": "2025-07-22T09:18:51.724610Z"
    },
    "papermill": {
     "duration": 1.005091,
     "end_time": "2025-07-22T09:18:51.727645",
     "exception": false,
     "start_time": "2025-07-22T09:18:50.722554",
     "status": "completed"
    },
    "tags": []
   },
   "outputs": [],
   "source": [
    "from fairness_multiverse.conformal import evaluate_sets\n",
    "\n",
    "# Evaluate coverage and average set size on test data\n",
    "metrics = evaluate_sets(pred_sets, y_true)"
   ]
  },
  {
   "cell_type": "code",
   "execution_count": 40,
   "id": "5ce0a5cb-201f-45a0-ade5-94c7f0bd6095",
   "metadata": {
    "execution": {
     "iopub.execute_input": "2025-07-22T09:18:51.769041Z",
     "iopub.status.busy": "2025-07-22T09:18:51.768001Z",
     "iopub.status.idle": "2025-07-22T09:18:51.775721Z",
     "shell.execute_reply": "2025-07-22T09:18:51.774654Z"
    },
    "papermill": {
     "duration": 0.029671,
     "end_time": "2025-07-22T09:18:51.777439",
     "exception": false,
     "start_time": "2025-07-22T09:18:51.747768",
     "status": "completed"
    },
    "tags": []
   },
   "outputs": [
    {
     "data": {
      "text/plain": [
       "{'coverage': 0.9125292609519563, 'avg_size': 1.117668041466949}"
      ]
     },
     "execution_count": 40,
     "metadata": {},
     "output_type": "execute_result"
    }
   ],
   "source": [
    "metrics"
   ]
  },
  {
   "cell_type": "code",
   "execution_count": 41,
   "id": "9b9a838d-31c9-430b-ae14-12baee460d17",
   "metadata": {
    "execution": {
     "iopub.execute_input": "2025-07-22T09:18:51.819333Z",
     "iopub.status.busy": "2025-07-22T09:18:51.818429Z",
     "iopub.status.idle": "2025-07-22T09:18:51.824622Z",
     "shell.execute_reply": "2025-07-22T09:18:51.823598Z"
    },
    "papermill": {
     "duration": 0.028336,
     "end_time": "2025-07-22T09:18:51.826584",
     "exception": false,
     "start_time": "2025-07-22T09:18:51.798248",
     "status": "completed"
    },
    "tags": []
   },
   "outputs": [],
   "source": [
    "example_universe = universe.copy()\n",
    "universe_model = example_universe.get(\"model\")\n",
    "universe_exclude_features = example_universe.get(\"exclude_features\")\n",
    "universe_exclude_subgroups = example_universe.get(\"exclude_subgroups\")"
   ]
  },
  {
   "cell_type": "code",
   "execution_count": 42,
   "id": "f4b6a8ac-9dc0-4245-8a91-5b3b5999c4f9",
   "metadata": {
    "execution": {
     "iopub.execute_input": "2025-07-22T09:18:51.867578Z",
     "iopub.status.busy": "2025-07-22T09:18:51.867041Z",
     "iopub.status.idle": "2025-07-22T09:18:51.873231Z",
     "shell.execute_reply": "2025-07-22T09:18:51.872238Z"
    },
    "papermill": {
     "duration": 0.028033,
     "end_time": "2025-07-22T09:18:51.875046",
     "exception": false,
     "start_time": "2025-07-22T09:18:51.847013",
     "status": "completed"
    },
    "tags": []
   },
   "outputs": [],
   "source": [
    "cp_metrics_dict = {\n",
    "    \"universe_id\": [universe_id],\n",
    "    \"universe_model\": [universe_model],\n",
    "    \"universe_exclude_features\": [universe_exclude_features],\n",
    "    \"universe_exclude_subgroups\": [universe_exclude_subgroups],\n",
    "    \"q_hat\": [q_hat],\n",
    "    \"coverage\": [metrics[\"coverage\"]],\n",
    "    \"avg_size\": [metrics[\"avg_size\"]],\n",
    "}"
   ]
  },
  {
   "cell_type": "code",
   "execution_count": 43,
   "id": "908acbb1-0371-4915-85ca-3fa520d2efe2",
   "metadata": {
    "execution": {
     "iopub.execute_input": "2025-07-22T09:18:51.915817Z",
     "iopub.status.busy": "2025-07-22T09:18:51.915134Z",
     "iopub.status.idle": "2025-07-22T09:18:51.923307Z",
     "shell.execute_reply": "2025-07-22T09:18:51.922211Z"
    },
    "papermill": {
     "duration": 0.029964,
     "end_time": "2025-07-22T09:18:51.925218",
     "exception": false,
     "start_time": "2025-07-22T09:18:51.895254",
     "status": "completed"
    },
    "tags": []
   },
   "outputs": [
    {
     "data": {
      "text/plain": [
       "{'universe_id': ['24ec900894c13c1ae40a2653ffba70b2'],\n",
       " 'universe_model': ['gbm'],\n",
       " 'universe_exclude_features': ['none'],\n",
       " 'universe_exclude_subgroups': ['keep-all'],\n",
       " 'q_hat': [0.6685875842072209],\n",
       " 'coverage': [0.9125292609519563],\n",
       " 'avg_size': [1.117668041466949]}"
      ]
     },
     "execution_count": 43,
     "metadata": {},
     "output_type": "execute_result"
    }
   ],
   "source": [
    "cp_metrics_dict"
   ]
  },
  {
   "cell_type": "code",
   "execution_count": 44,
   "id": "33007efc-14e9-4ec6-97ac-56a455c82265",
   "metadata": {
    "execution": {
     "iopub.execute_input": "2025-07-22T09:18:51.967835Z",
     "iopub.status.busy": "2025-07-22T09:18:51.967133Z",
     "iopub.status.idle": "2025-07-22T09:18:51.973664Z",
     "shell.execute_reply": "2025-07-22T09:18:51.972653Z"
    },
    "papermill": {
     "duration": 0.029057,
     "end_time": "2025-07-22T09:18:51.975569",
     "exception": false,
     "start_time": "2025-07-22T09:18:51.946512",
     "status": "completed"
    },
    "tags": []
   },
   "outputs": [],
   "source": [
    "cp_metrics_df = pd.DataFrame(cp_metrics_dict)"
   ]
  },
  {
   "cell_type": "code",
   "execution_count": 45,
   "id": "db12611b-57b2-4910-b9d0-355adfd6e7bf",
   "metadata": {
    "execution": {
     "iopub.execute_input": "2025-07-22T09:18:52.016947Z",
     "iopub.status.busy": "2025-07-22T09:18:52.016358Z",
     "iopub.status.idle": "2025-07-22T09:18:52.034124Z",
     "shell.execute_reply": "2025-07-22T09:18:52.033024Z"
    },
    "papermill": {
     "duration": 0.039655,
     "end_time": "2025-07-22T09:18:52.035836",
     "exception": false,
     "start_time": "2025-07-22T09:18:51.996181",
     "status": "completed"
    },
    "tags": []
   },
   "outputs": [
    {
     "data": {
      "text/html": [
       "<div>\n",
       "<style scoped>\n",
       "    .dataframe tbody tr th:only-of-type {\n",
       "        vertical-align: middle;\n",
       "    }\n",
       "\n",
       "    .dataframe tbody tr th {\n",
       "        vertical-align: top;\n",
       "    }\n",
       "\n",
       "    .dataframe thead th {\n",
       "        text-align: right;\n",
       "    }\n",
       "</style>\n",
       "<table border=\"1\" class=\"dataframe\">\n",
       "  <thead>\n",
       "    <tr style=\"text-align: right;\">\n",
       "      <th></th>\n",
       "      <th>universe_id</th>\n",
       "      <th>universe_model</th>\n",
       "      <th>universe_exclude_features</th>\n",
       "      <th>universe_exclude_subgroups</th>\n",
       "      <th>q_hat</th>\n",
       "      <th>coverage</th>\n",
       "      <th>avg_size</th>\n",
       "    </tr>\n",
       "  </thead>\n",
       "  <tbody>\n",
       "    <tr>\n",
       "      <th>0</th>\n",
       "      <td>24ec900894c13c1ae40a2653ffba70b2</td>\n",
       "      <td>gbm</td>\n",
       "      <td>none</td>\n",
       "      <td>keep-all</td>\n",
       "      <td>0.668588</td>\n",
       "      <td>0.912529</td>\n",
       "      <td>1.117668</td>\n",
       "    </tr>\n",
       "  </tbody>\n",
       "</table>\n",
       "</div>"
      ],
      "text/plain": [
       "                        universe_id universe_model universe_exclude_features  \\\n",
       "0  24ec900894c13c1ae40a2653ffba70b2            gbm                      none   \n",
       "\n",
       "  universe_exclude_subgroups     q_hat  coverage  avg_size  \n",
       "0                   keep-all  0.668588  0.912529  1.117668  "
      ]
     },
     "execution_count": 45,
     "metadata": {},
     "output_type": "execute_result"
    }
   ],
   "source": [
    "cp_metrics_df"
   ]
  },
  {
   "cell_type": "code",
   "execution_count": 46,
   "id": "b7fbde55-a0a1-47e4-9af6-fe4a17fa8c61",
   "metadata": {
    "execution": {
     "iopub.execute_input": "2025-07-22T09:18:52.078248Z",
     "iopub.status.busy": "2025-07-22T09:18:52.077569Z",
     "iopub.status.idle": "2025-07-22T09:18:52.082681Z",
     "shell.execute_reply": "2025-07-22T09:18:52.081750Z"
    },
    "papermill": {
     "duration": 0.02822,
     "end_time": "2025-07-22T09:18:52.084619",
     "exception": false,
     "start_time": "2025-07-22T09:18:52.056399",
     "status": "completed"
    },
    "tags": []
   },
   "outputs": [],
   "source": [
    "# Conditional Coverage & looking at subgroups"
   ]
  },
  {
   "cell_type": "code",
   "execution_count": 47,
   "id": "027ae886-68dd-4141-96c7-805a5450e1ef",
   "metadata": {
    "execution": {
     "iopub.execute_input": "2025-07-22T09:18:52.126992Z",
     "iopub.status.busy": "2025-07-22T09:18:52.126323Z",
     "iopub.status.idle": "2025-07-22T09:18:52.385489Z",
     "shell.execute_reply": "2025-07-22T09:18:52.384460Z"
    },
    "papermill": {
     "duration": 0.28184,
     "end_time": "2025-07-22T09:18:52.387390",
     "exception": false,
     "start_time": "2025-07-22T09:18:52.105550",
     "status": "completed"
    },
    "tags": []
   },
   "outputs": [],
   "source": [
    "from fairness_multiverse.conformal import build_cp_groups\n",
    "\n",
    "cp_groups_df = build_cp_groups(pred_sets, y_true, X_test.index, org_test)\n",
    "#needs universe_id and setting"
   ]
  },
  {
   "cell_type": "code",
   "execution_count": 48,
   "id": "c3b92545-903e-4839-89af-0f057907d7d6",
   "metadata": {
    "execution": {
     "iopub.execute_input": "2025-07-22T09:18:52.430092Z",
     "iopub.status.busy": "2025-07-22T09:18:52.429453Z",
     "iopub.status.idle": "2025-07-22T09:18:54.202031Z",
     "shell.execute_reply": "2025-07-22T09:18:54.201004Z"
    },
    "papermill": {
     "duration": 1.795516,
     "end_time": "2025-07-22T09:18:54.204120",
     "exception": false,
     "start_time": "2025-07-22T09:18:52.408604",
     "status": "completed"
    },
    "tags": []
   },
   "outputs": [],
   "source": [
    "# Define covered = 1 if true_label is in the predicted set\n",
    "cp_groups_df['covered'] = cp_groups_df.apply(\n",
    "    lambda r: int(r['true_label'] in r['pred_set']),\n",
    "    axis=1\n",
    ")"
   ]
  },
  {
   "cell_type": "code",
   "execution_count": 49,
   "id": "338ff529-1a6b-4b87-a931-8e4788d52aad",
   "metadata": {
    "execution": {
     "iopub.execute_input": "2025-07-22T09:18:54.255011Z",
     "iopub.status.busy": "2025-07-22T09:18:54.254174Z",
     "iopub.status.idle": "2025-07-22T09:18:54.260074Z",
     "shell.execute_reply": "2025-07-22T09:18:54.259003Z"
    },
    "papermill": {
     "duration": 0.03241,
     "end_time": "2025-07-22T09:18:54.262020",
     "exception": false,
     "start_time": "2025-07-22T09:18:54.229610",
     "status": "completed"
    },
    "tags": []
   },
   "outputs": [],
   "source": [
    "#cp_groups_df"
   ]
  },
  {
   "cell_type": "code",
   "execution_count": 50,
   "id": "90032e27-66df-4540-9169-4e89cfbaa758",
   "metadata": {
    "execution": {
     "iopub.execute_input": "2025-07-22T09:18:54.312569Z",
     "iopub.status.busy": "2025-07-22T09:18:54.311860Z",
     "iopub.status.idle": "2025-07-22T09:18:54.325150Z",
     "shell.execute_reply": "2025-07-22T09:18:54.323864Z"
    },
    "papermill": {
     "duration": 0.040569,
     "end_time": "2025-07-22T09:18:54.327567",
     "exception": false,
     "start_time": "2025-07-22T09:18:54.286998",
     "status": "completed"
    },
    "tags": []
   },
   "outputs": [],
   "source": [
    "subgroups = ['frau1','nongerman','nongerman_male','nongerman_female']\n",
    "\n",
    "# Conditional coverage for subgroup==1\n",
    "cond_coverage = {\n",
    "    g: cp_groups_df.loc[cp_groups_df[g]==1, 'covered'].mean()\n",
    "    for g in subgroups\n",
    "}"
   ]
  },
  {
   "cell_type": "code",
   "execution_count": 51,
   "id": "1e348fb1-b9c3-45bc-ba23-f016827a7e0d",
   "metadata": {
    "execution": {
     "iopub.execute_input": "2025-07-22T09:18:54.377376Z",
     "iopub.status.busy": "2025-07-22T09:18:54.376601Z",
     "iopub.status.idle": "2025-07-22T09:18:54.385482Z",
     "shell.execute_reply": "2025-07-22T09:18:54.384180Z"
    },
    "papermill": {
     "duration": 0.036251,
     "end_time": "2025-07-22T09:18:54.387453",
     "exception": false,
     "start_time": "2025-07-22T09:18:54.351202",
     "status": "completed"
    },
    "tags": []
   },
   "outputs": [
    {
     "data": {
      "text/plain": [
       "{'frau1': 0.9110661814260682,\n",
       " 'nongerman': 0.9101779599169146,\n",
       " 'nongerman_male': 0.9262361523912456,\n",
       " 'nongerman_female': 0.8836065573770492}"
      ]
     },
     "execution_count": 51,
     "metadata": {},
     "output_type": "execute_result"
    }
   ],
   "source": [
    "cond_coverage"
   ]
  },
  {
   "cell_type": "code",
   "execution_count": 52,
   "id": "f5093324-c3dd-4d63-bc4c-8d945e5c8bbb",
   "metadata": {
    "execution": {
     "iopub.execute_input": "2025-07-22T09:18:54.438639Z",
     "iopub.status.busy": "2025-07-22T09:18:54.437936Z",
     "iopub.status.idle": "2025-07-22T09:18:54.446865Z",
     "shell.execute_reply": "2025-07-22T09:18:54.445629Z"
    },
    "papermill": {
     "duration": 0.036619,
     "end_time": "2025-07-22T09:18:54.449227",
     "exception": false,
     "start_time": "2025-07-22T09:18:54.412608",
     "status": "completed"
    },
    "tags": []
   },
   "outputs": [],
   "source": [
    "for subgroup, cov in cond_coverage.items():\n",
    "    cp_metrics_df[f\"cov_{subgroup}\"] = cov"
   ]
  },
  {
   "cell_type": "code",
   "execution_count": 53,
   "id": "6e872e10-dbe5-49e8-b554-5030c98ff75d",
   "metadata": {
    "execution": {
     "iopub.execute_input": "2025-07-22T09:18:54.495704Z",
     "iopub.status.busy": "2025-07-22T09:18:54.495048Z",
     "iopub.status.idle": "2025-07-22T09:18:54.514372Z",
     "shell.execute_reply": "2025-07-22T09:18:54.513094Z"
    },
    "papermill": {
     "duration": 0.044261,
     "end_time": "2025-07-22T09:18:54.516306",
     "exception": false,
     "start_time": "2025-07-22T09:18:54.472045",
     "status": "completed"
    },
    "tags": []
   },
   "outputs": [
    {
     "data": {
      "text/html": [
       "<div>\n",
       "<style scoped>\n",
       "    .dataframe tbody tr th:only-of-type {\n",
       "        vertical-align: middle;\n",
       "    }\n",
       "\n",
       "    .dataframe tbody tr th {\n",
       "        vertical-align: top;\n",
       "    }\n",
       "\n",
       "    .dataframe thead th {\n",
       "        text-align: right;\n",
       "    }\n",
       "</style>\n",
       "<table border=\"1\" class=\"dataframe\">\n",
       "  <thead>\n",
       "    <tr style=\"text-align: right;\">\n",
       "      <th></th>\n",
       "      <th>universe_id</th>\n",
       "      <th>universe_model</th>\n",
       "      <th>universe_exclude_features</th>\n",
       "      <th>universe_exclude_subgroups</th>\n",
       "      <th>q_hat</th>\n",
       "      <th>coverage</th>\n",
       "      <th>avg_size</th>\n",
       "      <th>cov_frau1</th>\n",
       "      <th>cov_nongerman</th>\n",
       "      <th>cov_nongerman_male</th>\n",
       "      <th>cov_nongerman_female</th>\n",
       "    </tr>\n",
       "  </thead>\n",
       "  <tbody>\n",
       "    <tr>\n",
       "      <th>0</th>\n",
       "      <td>24ec900894c13c1ae40a2653ffba70b2</td>\n",
       "      <td>gbm</td>\n",
       "      <td>none</td>\n",
       "      <td>keep-all</td>\n",
       "      <td>0.668588</td>\n",
       "      <td>0.912529</td>\n",
       "      <td>1.117668</td>\n",
       "      <td>0.911066</td>\n",
       "      <td>0.910178</td>\n",
       "      <td>0.926236</td>\n",
       "      <td>0.883607</td>\n",
       "    </tr>\n",
       "  </tbody>\n",
       "</table>\n",
       "</div>"
      ],
      "text/plain": [
       "                        universe_id universe_model universe_exclude_features  \\\n",
       "0  24ec900894c13c1ae40a2653ffba70b2            gbm                      none   \n",
       "\n",
       "  universe_exclude_subgroups     q_hat  coverage  avg_size  cov_frau1  \\\n",
       "0                   keep-all  0.668588  0.912529  1.117668   0.911066   \n",
       "\n",
       "   cov_nongerman  cov_nongerman_male  cov_nongerman_female  \n",
       "0       0.910178            0.926236              0.883607  "
      ]
     },
     "execution_count": 53,
     "metadata": {},
     "output_type": "execute_result"
    }
   ],
   "source": [
    "cp_metrics_df"
   ]
  },
  {
   "cell_type": "markdown",
   "id": "33774451",
   "metadata": {
    "papermill": {
     "duration": 0.022093,
     "end_time": "2025-07-22T09:18:54.560992",
     "exception": false,
     "start_time": "2025-07-22T09:18:54.538899",
     "status": "completed"
    },
    "tags": []
   },
   "source": [
    "# (Fairness) Metrics"
   ]
  },
  {
   "cell_type": "code",
   "execution_count": 54,
   "id": "debc5d62",
   "metadata": {
    "execution": {
     "iopub.execute_input": "2025-07-22T09:18:54.609606Z",
     "iopub.status.busy": "2025-07-22T09:18:54.609084Z",
     "iopub.status.idle": "2025-07-22T09:18:54.634875Z",
     "shell.execute_reply": "2025-07-22T09:18:54.633748Z"
    },
    "papermill": {
     "duration": 0.061793,
     "end_time": "2025-07-22T09:18:54.646159",
     "exception": false,
     "start_time": "2025-07-22T09:18:54.584366",
     "status": "completed"
    },
    "tags": []
   },
   "outputs": [],
   "source": [
    "# do I need to include maxdeutsch1.missing?\n",
    "\n",
    "import numpy as np\n",
    "\n",
    "colname_to_bin = \"maxdeutsch1\"\n",
    "majority_value = org_train[colname_to_bin].mode()[0]\n",
    "\n",
    "org_test[\"majmin\"] = np.where(org_test[colname_to_bin] == majority_value, \"majority\", \"minority\")"
   ]
  },
  {
   "cell_type": "code",
   "execution_count": 55,
   "id": "06a50de5",
   "metadata": {
    "execution": {
     "iopub.execute_input": "2025-07-22T09:18:54.693308Z",
     "iopub.status.busy": "2025-07-22T09:18:54.692520Z",
     "iopub.status.idle": "2025-07-22T09:18:57.737826Z",
     "shell.execute_reply": "2025-07-22T09:18:57.736712Z"
    },
    "papermill": {
     "duration": 3.070942,
     "end_time": "2025-07-22T09:18:57.739806",
     "exception": false,
     "start_time": "2025-07-22T09:18:54.668864",
     "status": "completed"
    },
    "tags": []
   },
   "outputs": [],
   "source": [
    "example_universe = universe.copy()\n",
    "example_universe[\"cutoff\"] = example_universe[\"cutoff\"][0]\n",
    "example_universe[\"eval_fairness_grouping\"] = example_universe[\"eval_fairness_grouping\"][0]\n",
    "fairness_dict, metric_frame = universe_analysis.compute_metrics(\n",
    "    example_universe,\n",
    "    y_pred_prob=probs_test,\n",
    "    y_test=y_true,\n",
    "    org_test=org_test,\n",
    ")"
   ]
  },
  {
   "cell_type": "markdown",
   "id": "f95d4e02",
   "metadata": {
    "papermill": {
     "duration": 0.022042,
     "end_time": "2025-07-22T09:18:57.783831",
     "exception": false,
     "start_time": "2025-07-22T09:18:57.761789",
     "status": "completed"
    },
    "tags": []
   },
   "source": [
    "# Overall"
   ]
  },
  {
   "cell_type": "markdown",
   "id": "bdee4871",
   "metadata": {
    "papermill": {
     "duration": 0.020993,
     "end_time": "2025-07-22T09:18:57.825708",
     "exception": false,
     "start_time": "2025-07-22T09:18:57.804715",
     "status": "completed"
    },
    "tags": []
   },
   "source": [
    "Fairness\n",
    "Main fairness target: Equalized Odds. Seems to be a better fit than equal opportunity, since we're not only interested in Y = 1. Seems to be a better fit than demographic parity, since we also care about accuracy, not just equal distribution of preds.\n",
    "\n",
    "Pick column for computation of fairness metrics\n",
    "\n",
    "Performance\n",
    "Overall performance measures, most interesting in relation to the measures split by group below"
   ]
  },
  {
   "cell_type": "code",
   "execution_count": 56,
   "id": "c4e067c6",
   "metadata": {
    "execution": {
     "iopub.execute_input": "2025-07-22T09:18:57.866084Z",
     "iopub.status.busy": "2025-07-22T09:18:57.865572Z",
     "iopub.status.idle": "2025-07-22T09:18:57.874774Z",
     "shell.execute_reply": "2025-07-22T09:18:57.873539Z"
    },
    "papermill": {
     "duration": 0.029005,
     "end_time": "2025-07-22T09:18:57.876546",
     "exception": false,
     "start_time": "2025-07-22T09:18:57.847541",
     "status": "completed"
    },
    "tags": []
   },
   "outputs": [
    {
     "data": {
      "text/plain": [
       "accuracy                   0.225293\n",
       "balanced accuracy          0.550679\n",
       "f1                         0.246599\n",
       "precision                  0.140874\n",
       "false positive rate        0.886998\n",
       "false negative rate        0.011644\n",
       "selection rate             0.900000\n",
       "count                  89710.000000\n",
       "dtype: float64"
      ]
     },
     "execution_count": 56,
     "metadata": {},
     "output_type": "execute_result"
    }
   ],
   "source": [
    "metric_frame.overall"
   ]
  },
  {
   "cell_type": "markdown",
   "id": "e968fe9d",
   "metadata": {
    "papermill": {
     "duration": 0.022134,
     "end_time": "2025-07-22T09:18:57.921813",
     "exception": false,
     "start_time": "2025-07-22T09:18:57.899679",
     "status": "completed"
    },
    "tags": []
   },
   "source": [
    "By Group"
   ]
  },
  {
   "cell_type": "code",
   "execution_count": 57,
   "id": "ec325bce",
   "metadata": {
    "execution": {
     "iopub.execute_input": "2025-07-22T09:18:57.968245Z",
     "iopub.status.busy": "2025-07-22T09:18:57.967768Z",
     "iopub.status.idle": "2025-07-22T09:18:58.002213Z",
     "shell.execute_reply": "2025-07-22T09:18:58.001493Z"
    },
    "papermill": {
     "duration": 0.059789,
     "end_time": "2025-07-22T09:18:58.003527",
     "exception": false,
     "start_time": "2025-07-22T09:18:57.943738",
     "status": "completed"
    },
    "tags": []
   },
   "outputs": [
    {
     "data": {
      "text/html": [
       "<div>\n",
       "<style scoped>\n",
       "    .dataframe tbody tr th:only-of-type {\n",
       "        vertical-align: middle;\n",
       "    }\n",
       "\n",
       "    .dataframe tbody tr th {\n",
       "        vertical-align: top;\n",
       "    }\n",
       "\n",
       "    .dataframe thead th {\n",
       "        text-align: right;\n",
       "    }\n",
       "</style>\n",
       "<table border=\"1\" class=\"dataframe\">\n",
       "  <thead>\n",
       "    <tr style=\"text-align: right;\">\n",
       "      <th></th>\n",
       "      <th>accuracy</th>\n",
       "      <th>balanced accuracy</th>\n",
       "      <th>f1</th>\n",
       "      <th>precision</th>\n",
       "      <th>false positive rate</th>\n",
       "      <th>false negative rate</th>\n",
       "      <th>selection rate</th>\n",
       "      <th>count</th>\n",
       "    </tr>\n",
       "    <tr>\n",
       "      <th>majmin</th>\n",
       "      <th></th>\n",
       "      <th></th>\n",
       "      <th></th>\n",
       "      <th></th>\n",
       "      <th></th>\n",
       "      <th></th>\n",
       "      <th></th>\n",
       "      <th></th>\n",
       "    </tr>\n",
       "  </thead>\n",
       "  <tbody>\n",
       "    <tr>\n",
       "      <th>majority</th>\n",
       "      <td>0.243863</td>\n",
       "      <td>0.559127</td>\n",
       "      <td>0.256609</td>\n",
       "      <td>0.147461</td>\n",
       "      <td>0.869382</td>\n",
       "      <td>0.012363</td>\n",
       "      <td>0.885008</td>\n",
       "      <td>69170.0</td>\n",
       "    </tr>\n",
       "    <tr>\n",
       "      <th>minority</th>\n",
       "      <td>0.162756</td>\n",
       "      <td>0.522971</td>\n",
       "      <td>0.214426</td>\n",
       "      <td>0.120217</td>\n",
       "      <td>0.945190</td>\n",
       "      <td>0.008868</td>\n",
       "      <td>0.950487</td>\n",
       "      <td>20540.0</td>\n",
       "    </tr>\n",
       "  </tbody>\n",
       "</table>\n",
       "</div>"
      ],
      "text/plain": [
       "          accuracy  balanced accuracy        f1  precision  \\\n",
       "majmin                                                       \n",
       "majority  0.243863           0.559127  0.256609   0.147461   \n",
       "minority  0.162756           0.522971  0.214426   0.120217   \n",
       "\n",
       "          false positive rate  false negative rate  selection rate    count  \n",
       "majmin                                                                       \n",
       "majority             0.869382             0.012363        0.885008  69170.0  \n",
       "minority             0.945190             0.008868        0.950487  20540.0  "
      ]
     },
     "execution_count": 57,
     "metadata": {},
     "output_type": "execute_result"
    }
   ],
   "source": [
    "metric_frame.by_group"
   ]
  },
  {
   "cell_type": "code",
   "execution_count": 58,
   "id": "a9ddbe63",
   "metadata": {
    "execution": {
     "iopub.execute_input": "2025-07-22T09:18:58.030152Z",
     "iopub.status.busy": "2025-07-22T09:18:58.029800Z",
     "iopub.status.idle": "2025-07-22T09:19:00.529213Z",
     "shell.execute_reply": "2025-07-22T09:19:00.528076Z"
    },
    "papermill": {
     "duration": 2.513772,
     "end_time": "2025-07-22T09:19:00.531172",
     "exception": false,
     "start_time": "2025-07-22T09:18:58.017400",
     "status": "completed"
    },
    "tags": []
   },
   "outputs": [
    {
     "data": {
      "text/plain": [
       "array([[<Axes: title={'center': 'accuracy'}, xlabel='majmin'>,\n",
       "        <Axes: title={'center': 'balanced accuracy'}, xlabel='majmin'>,\n",
       "        <Axes: title={'center': 'f1'}, xlabel='majmin'>],\n",
       "       [<Axes: title={'center': 'precision'}, xlabel='majmin'>,\n",
       "        <Axes: title={'center': 'false positive rate'}, xlabel='majmin'>,\n",
       "        <Axes: title={'center': 'false negative rate'}, xlabel='majmin'>],\n",
       "       [<Axes: title={'center': 'selection rate'}, xlabel='majmin'>,\n",
       "        <Axes: title={'center': 'count'}, xlabel='majmin'>,\n",
       "        <Axes: xlabel='majmin'>]], dtype=object)"
      ]
     },
     "execution_count": 58,
     "metadata": {},
     "output_type": "execute_result"
    },
    {
     "data": {
      "image/png": "[encoded data removed]",
      "text/plain": [
       "<Figure size 1200x800 with 9 Axes>"
      ]
     },
     "metadata": {},
     "output_type": "display_data"
    }
   ],
   "source": [
    "# In a graphic\n",
    "metric_frame.by_group.plot.bar(\n",
    "    subplots=True,\n",
    "    layout=[3, 3],\n",
    "    legend=False,\n",
    "    figsize=[12, 8],\n",
    "    title=\"Show all metrics\",\n",
    ")"
   ]
  },
  {
   "cell_type": "markdown",
   "id": "f57a0bac",
   "metadata": {
    "papermill": {
     "duration": 0.023845,
     "end_time": "2025-07-22T09:19:00.582097",
     "exception": false,
     "start_time": "2025-07-22T09:19:00.558252",
     "status": "completed"
    },
    "tags": []
   },
   "source": [
    "# Final Output"
   ]
  },
  {
   "cell_type": "code",
   "execution_count": 59,
   "id": "96d280a3",
   "metadata": {
    "execution": {
     "iopub.execute_input": "2025-07-22T09:19:00.630311Z",
     "iopub.status.busy": "2025-07-22T09:19:00.629670Z",
     "iopub.status.idle": "2025-07-22T09:19:00.638142Z",
     "shell.execute_reply": "2025-07-22T09:19:00.637152Z"
    },
    "papermill": {
     "duration": 0.034139,
     "end_time": "2025-07-22T09:19:00.639862",
     "exception": false,
     "start_time": "2025-07-22T09:19:00.605723",
     "status": "completed"
    },
    "tags": []
   },
   "outputs": [
    {
     "data": {
      "text/plain": [
       "4"
      ]
     },
     "execution_count": 59,
     "metadata": {},
     "output_type": "execute_result"
    }
   ],
   "source": [
    "sub_universes = universe_analysis.generate_sub_universes()\n",
    "len(sub_universes)"
   ]
  },
  {
   "cell_type": "code",
   "execution_count": 60,
   "id": "92adf7ba",
   "metadata": {
    "execution": {
     "iopub.execute_input": "2025-07-22T09:19:00.696100Z",
     "iopub.status.busy": "2025-07-22T09:19:00.695528Z",
     "iopub.status.idle": "2025-07-22T09:19:00.702283Z",
     "shell.execute_reply": "2025-07-22T09:19:00.701307Z"
    },
    "papermill": {
     "duration": 0.037625,
     "end_time": "2025-07-22T09:19:00.704544",
     "exception": false,
     "start_time": "2025-07-22T09:19:00.666919",
     "status": "completed"
    },
    "tags": []
   },
   "outputs": [],
   "source": [
    "def filter_sub_universe_data(sub_universe, org_test):\n",
    "    # Keep all rows — no filtering\n",
    "    keep_rows_mask = np.ones(org_test.shape[0], dtype=bool)\n",
    "\n",
    "    print(f\"[INFO] Keeping all rows: {keep_rows_mask.sum()} rows retained.\")\n",
    "    return keep_rows_mask"
   ]
  },
  {
   "cell_type": "code",
   "execution_count": 61,
   "id": "4a759155",
   "metadata": {
    "execution": {
     "iopub.execute_input": "2025-07-22T09:19:00.760515Z",
     "iopub.status.busy": "2025-07-22T09:19:00.760065Z",
     "iopub.status.idle": "2025-07-22T09:19:09.567477Z",
     "shell.execute_reply": "2025-07-22T09:19:09.566481Z"
    },
    "papermill": {
     "duration": 8.836915,
     "end_time": "2025-07-22T09:19:09.569184",
     "exception": false,
     "start_time": "2025-07-22T09:19:00.732269",
     "status": "completed"
    },
    "tags": []
   },
   "outputs": [
    {
     "name": "stdout",
     "output_type": "stream",
     "text": [
      "Stopping execution_time clock.\n",
      "[INFO] Keeping all rows: 89710 rows retained.\n"
     ]
    },
    {
     "name": "stdout",
     "output_type": "stream",
     "text": [
      "[INFO] Keeping all rows: 89710 rows retained.\n"
     ]
    },
    {
     "name": "stdout",
     "output_type": "stream",
     "text": [
      "[INFO] Keeping all rows: 89710 rows retained.\n"
     ]
    },
    {
     "name": "stdout",
     "output_type": "stream",
     "text": [
      "[INFO] Keeping all rows: 89710 rows retained.\n"
     ]
    },
    {
     "data": {
      "text/html": [
       "<div>\n",
       "<style scoped>\n",
       "    .dataframe tbody tr th:only-of-type {\n",
       "        vertical-align: middle;\n",
       "    }\n",
       "\n",
       "    .dataframe tbody tr th {\n",
       "        vertical-align: top;\n",
       "    }\n",
       "\n",
       "    .dataframe thead th {\n",
       "        text-align: right;\n",
       "    }\n",
       "</style>\n",
       "<table border=\"1\" class=\"dataframe\">\n",
       "  <thead>\n",
       "    <tr style=\"text-align: right;\">\n",
       "      <th></th>\n",
       "      <th>run_no</th>\n",
       "      <th>universe_id</th>\n",
       "      <th>universe_settings</th>\n",
       "      <th>execution_time</th>\n",
       "      <th>test_size_n</th>\n",
       "      <th>test_size_frac</th>\n",
       "      <th>fair_main_equalized_odds_difference</th>\n",
       "      <th>fair_main_equalized_odds_ratio</th>\n",
       "      <th>fair_main_demographic_parity_difference</th>\n",
       "      <th>fair_main_demographic_parity_ratio</th>\n",
       "      <th>...</th>\n",
       "      <th>perf_grp_precision_0</th>\n",
       "      <th>perf_grp_precision_1</th>\n",
       "      <th>perf_grp_false positive rate_0</th>\n",
       "      <th>perf_grp_false positive rate_1</th>\n",
       "      <th>perf_grp_false negative rate_0</th>\n",
       "      <th>perf_grp_false negative rate_1</th>\n",
       "      <th>perf_grp_selection rate_0</th>\n",
       "      <th>perf_grp_selection rate_1</th>\n",
       "      <th>perf_grp_count_0</th>\n",
       "      <th>perf_grp_count_1</th>\n",
       "    </tr>\n",
       "  </thead>\n",
       "  <tbody>\n",
       "    <tr>\n",
       "      <th>0</th>\n",
       "      <td>3</td>\n",
       "      <td>24ec900894c13c1ae40a2653ffba70b2</td>\n",
       "      <td>{\"cutoff\": \"quantile_0.1\", \"eval_fairness_grou...</td>\n",
       "      <td>46.636359</td>\n",
       "      <td>89710</td>\n",
       "      <td>1.0</td>\n",
       "      <td>0.075808</td>\n",
       "      <td>0.919796</td>\n",
       "      <td>0.065479</td>\n",
       "      <td>0.931110</td>\n",
       "      <td>...</td>\n",
       "      <td>NaN</td>\n",
       "      <td>NaN</td>\n",
       "      <td>NaN</td>\n",
       "      <td>NaN</td>\n",
       "      <td>NaN</td>\n",
       "      <td>NaN</td>\n",
       "      <td>NaN</td>\n",
       "      <td>NaN</td>\n",
       "      <td>NaN</td>\n",
       "      <td>NaN</td>\n",
       "    </tr>\n",
       "    <tr>\n",
       "      <th>0</th>\n",
       "      <td>3</td>\n",
       "      <td>24ec900894c13c1ae40a2653ffba70b2</td>\n",
       "      <td>{\"cutoff\": \"quantile_0.1\", \"eval_fairness_grou...</td>\n",
       "      <td>46.636359</td>\n",
       "      <td>89710</td>\n",
       "      <td>1.0</td>\n",
       "      <td>0.075808</td>\n",
       "      <td>0.919796</td>\n",
       "      <td>0.065479</td>\n",
       "      <td>0.931110</td>\n",
       "      <td>...</td>\n",
       "      <td>0.120217</td>\n",
       "      <td>0.147461</td>\n",
       "      <td>0.945190</td>\n",
       "      <td>0.869382</td>\n",
       "      <td>0.008868</td>\n",
       "      <td>0.012363</td>\n",
       "      <td>0.950487</td>\n",
       "      <td>0.885008</td>\n",
       "      <td>20540.0</td>\n",
       "      <td>69170.0</td>\n",
       "    </tr>\n",
       "    <tr>\n",
       "      <th>0</th>\n",
       "      <td>3</td>\n",
       "      <td>24ec900894c13c1ae40a2653ffba70b2</td>\n",
       "      <td>{\"cutoff\": \"quantile_0.25\", \"eval_fairness_gro...</td>\n",
       "      <td>46.636359</td>\n",
       "      <td>89710</td>\n",
       "      <td>1.0</td>\n",
       "      <td>0.081442</td>\n",
       "      <td>0.895975</td>\n",
       "      <td>0.065928</td>\n",
       "      <td>0.917675</td>\n",
       "      <td>...</td>\n",
       "      <td>NaN</td>\n",
       "      <td>NaN</td>\n",
       "      <td>NaN</td>\n",
       "      <td>NaN</td>\n",
       "      <td>NaN</td>\n",
       "      <td>NaN</td>\n",
       "      <td>NaN</td>\n",
       "      <td>NaN</td>\n",
       "      <td>NaN</td>\n",
       "      <td>NaN</td>\n",
       "    </tr>\n",
       "    <tr>\n",
       "      <th>0</th>\n",
       "      <td>3</td>\n",
       "      <td>24ec900894c13c1ae40a2653ffba70b2</td>\n",
       "      <td>{\"cutoff\": \"quantile_0.25\", \"eval_fairness_gro...</td>\n",
       "      <td>46.636359</td>\n",
       "      <td>89710</td>\n",
       "      <td>1.0</td>\n",
       "      <td>0.081442</td>\n",
       "      <td>0.895975</td>\n",
       "      <td>0.065928</td>\n",
       "      <td>0.917675</td>\n",
       "      <td>...</td>\n",
       "      <td>0.135084</td>\n",
       "      <td>0.171621</td>\n",
       "      <td>0.782908</td>\n",
       "      <td>0.701466</td>\n",
       "      <td>0.061655</td>\n",
       "      <td>0.045514</td>\n",
       "      <td>0.800828</td>\n",
       "      <td>0.734900</td>\n",
       "      <td>20540.0</td>\n",
       "      <td>69170.0</td>\n",
       "    </tr>\n",
       "  </tbody>\n",
       "</table>\n",
       "<p>4 rows × 50 columns</p>\n",
       "</div>"
      ],
      "text/plain": [
       "  run_no                       universe_id  \\\n",
       "0      3  24ec900894c13c1ae40a2653ffba70b2   \n",
       "0      3  24ec900894c13c1ae40a2653ffba70b2   \n",
       "0      3  24ec900894c13c1ae40a2653ffba70b2   \n",
       "0      3  24ec900894c13c1ae40a2653ffba70b2   \n",
       "\n",
       "                                   universe_settings  execution_time  \\\n",
       "0  {\"cutoff\": \"quantile_0.1\", \"eval_fairness_grou...       46.636359   \n",
       "0  {\"cutoff\": \"quantile_0.1\", \"eval_fairness_grou...       46.636359   \n",
       "0  {\"cutoff\": \"quantile_0.25\", \"eval_fairness_gro...       46.636359   \n",
       "0  {\"cutoff\": \"quantile_0.25\", \"eval_fairness_gro...       46.636359   \n",
       "\n",
       "   test_size_n  test_size_frac  fair_main_equalized_odds_difference  \\\n",
       "0        89710             1.0                             0.075808   \n",
       "0        89710             1.0                             0.075808   \n",
       "0        89710             1.0                             0.081442   \n",
       "0        89710             1.0                             0.081442   \n",
       "\n",
       "   fair_main_equalized_odds_ratio  fair_main_demographic_parity_difference  \\\n",
       "0                        0.919796                                 0.065479   \n",
       "0                        0.919796                                 0.065479   \n",
       "0                        0.895975                                 0.065928   \n",
       "0                        0.895975                                 0.065928   \n",
       "\n",
       "   fair_main_demographic_parity_ratio  ...  perf_grp_precision_0  \\\n",
       "0                            0.931110  ...                   NaN   \n",
       "0                            0.931110  ...              0.120217   \n",
       "0                            0.917675  ...                   NaN   \n",
       "0                            0.917675  ...              0.135084   \n",
       "\n",
       "   perf_grp_precision_1  perf_grp_false positive rate_0  \\\n",
       "0                   NaN                             NaN   \n",
       "0              0.147461                        0.945190   \n",
       "0                   NaN                             NaN   \n",
       "0              0.171621                        0.782908   \n",
       "\n",
       "   perf_grp_false positive rate_1  perf_grp_false negative rate_0  \\\n",
       "0                             NaN                             NaN   \n",
       "0                        0.869382                        0.008868   \n",
       "0                             NaN                             NaN   \n",
       "0                        0.701466                        0.061655   \n",
       "\n",
       "   perf_grp_false negative rate_1  perf_grp_selection rate_0  \\\n",
       "0                             NaN                        NaN   \n",
       "0                        0.012363                   0.950487   \n",
       "0                             NaN                        NaN   \n",
       "0                        0.045514                   0.800828   \n",
       "\n",
       "   perf_grp_selection rate_1  perf_grp_count_0  perf_grp_count_1  \n",
       "0                        NaN               NaN               NaN  \n",
       "0                   0.885008           20540.0           69170.0  \n",
       "0                        NaN               NaN               NaN  \n",
       "0                   0.734900           20540.0           69170.0  \n",
       "\n",
       "[4 rows x 50 columns]"
      ]
     },
     "execution_count": 61,
     "metadata": {},
     "output_type": "execute_result"
    }
   ],
   "source": [
    "final_output = universe_analysis.generate_final_output(\n",
    "    y_pred_prob=probs_test,\n",
    "    y_test=y_true,\n",
    "    org_test=org_test,\n",
    "    filter_data=filter_sub_universe_data,\n",
    "    cp_metrics_df=cp_metrics_df,\n",
    "    save=True,\n",
    ")\n",
    "final_output"
   ]
  },
  {
   "cell_type": "code",
   "execution_count": null,
   "id": "721ff514-cb11-46f8-b6fc-50392f74b5cb",
   "metadata": {
    "papermill": {
     "duration": 0.023682,
     "end_time": "2025-07-22T09:19:09.619947",
     "exception": false,
     "start_time": "2025-07-22T09:19:09.596265",
     "status": "completed"
    },
    "tags": []
   },
   "outputs": [],
   "source": []
  }
 ],
 "metadata": {
  "celltoolbar": "Tags",
  "kernelspec": {
   "display_name": "Python (CMA Fairness)",
   "language": "python",
   "name": "cma_fair_env"
  },
  "language_info": {
   "codemirror_mode": {
    "name": "ipython",
    "version": 3
   },
   "file_extension": ".py",
   "mimetype": "text/x-python",
   "name": "python",
   "nbconvert_exporter": "python",
   "pygments_lexer": "ipython3",
   "version": "3.10.12"
  },
  "papermill": {
   "default_parameters": {},
   "duration": 60.172486,
   "end_time": "2025-07-22T09:19:10.362294",
   "environment_variables": {},
   "exception": null,
   "input_path": "universe_analysis.ipynb",
   "output_path": "output/runs/3/notebooks/m_3-24ec900894c13c1ae40a2653ffba70b2.ipynb",
   "parameters": {
    "output_dir": "output",
    "run_no": "3",
    "seed": "2023",
    "universe": "{\"cutoff\": [\"quantile_0.1\", \"quantile_0.25\"], \"eval_fairness_grouping\": [\"majority-minority\", \"nationality-all\"], \"exclude_features\": \"none\", \"exclude_subgroups\": \"keep-all\", \"model\": \"gbm\", \"scale\": \"do-not-scale\"}",
    "universe_id": "24ec900894c13c1ae40a2653ffba70b2"
   },
   "start_time": "2025-07-22T09:18:10.189808",
   "version": "2.6.0"
  }
 },
 "nbformat": 4,
 "nbformat_minor": 5
}