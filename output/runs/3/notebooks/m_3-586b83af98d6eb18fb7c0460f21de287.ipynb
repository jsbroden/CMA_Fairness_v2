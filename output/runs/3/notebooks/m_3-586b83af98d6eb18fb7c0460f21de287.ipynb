{
 "cells": [
  {
   "cell_type": "markdown",
   "id": "ef23dbb3",
   "metadata": {
    "papermill": {
     "duration": 0.009662,
     "end_time": "2025-08-19T18:02:39.730550",
     "exception": false,
     "start_time": "2025-08-19T18:02:39.720888",
     "status": "completed"
    },
    "tags": []
   },
   "source": [
    "# Setup"
   ]
  },
  {
   "cell_type": "code",
   "execution_count": 1,
   "id": "0bc8e7dc",
   "metadata": {
    "execution": {
     "iopub.execute_input": "2025-08-19T18:02:39.750115Z",
     "iopub.status.busy": "2025-08-19T18:02:39.749679Z",
     "iopub.status.idle": "2025-08-19T18:02:39.765151Z",
     "shell.execute_reply": "2025-08-19T18:02:39.763755Z"
    },
    "papermill": {
     "duration": 0.039586,
     "end_time": "2025-08-19T18:02:39.779056",
     "exception": false,
     "start_time": "2025-08-19T18:02:39.739470",
     "status": "completed"
    },
    "tags": []
   },
   "outputs": [
    {
     "name": "stdout",
     "output_type": "stream",
     "text": [
      "/dss/dsshome1/0C/ra93lal2/cma/CMA_Fairness_v2\n"
     ]
    },
    {
     "name": "stderr",
     "output_type": "stream",
     "text": [
      "/dss/dsshome1/0C/ra93lal2/.local/share/virtualenvs/CMA_Fairness_v2-3j10GkSs/lib/python3.10/site-packages/IPython/core/magics/osm.py:393: UserWarning: This is now an optional IPython functionality, using bookmarks requires you to install the `pickleshare` library.\n",
      "  bkms = self.shell.db.get('bookmarks', {})\n",
      "/dss/dsshome1/0C/ra93lal2/.local/share/virtualenvs/CMA_Fairness_v2-3j10GkSs/lib/python3.10/site-packages/IPython/core/magics/osm.py:417: UserWarning: This is now an optional IPython functionality, setting dhist requires you to install the `pickleshare` library.\n",
      "  self.shell.db['dhist'] = compress_dhist(dhist)[-100:]\n"
     ]
    }
   ],
   "source": [
    "%cd ~/cma/CMA_Fairness_v2"
   ]
  },
  {
   "cell_type": "markdown",
   "id": "9d235661",
   "metadata": {
    "papermill": {
     "duration": 0.010229,
     "end_time": "2025-08-19T18:02:39.801701",
     "exception": false,
     "start_time": "2025-08-19T18:02:39.791472",
     "status": "completed"
    },
    "tags": []
   },
   "source": [
    "The following cell holds the definition of our parameters, these values can be overriden by rendering the with e.g. the following command:\n",
    "\n",
    "papermill -p alpha 0.2 -p ratio 0.3 universe_analysis.ipynb output/test_run.ipynb"
   ]
  },
  {
   "cell_type": "code",
   "execution_count": 2,
   "id": "4a789d8e",
   "metadata": {
    "execution": {
     "iopub.execute_input": "2025-08-19T18:02:39.823209Z",
     "iopub.status.busy": "2025-08-19T18:02:39.822742Z",
     "iopub.status.idle": "2025-08-19T18:02:39.828002Z",
     "shell.execute_reply": "2025-08-19T18:02:39.827149Z"
    },
    "papermill": {
     "duration": 0.020406,
     "end_time": "2025-08-19T18:02:39.831770",
     "exception": false,
     "start_time": "2025-08-19T18:02:39.811364",
     "status": "completed"
    },
    "tags": []
   },
   "outputs": [
    {
     "name": "stdout",
     "output_type": "stream",
     "text": [
      "Current working directory: /dss/dsshome1/0C/ra93lal2/cma/CMA_Fairness_v2\n"
     ]
    }
   ],
   "source": [
    "import os\n",
    "print(\"Current working directory:\", os.getcwd())"
   ]
  },
  {
   "cell_type": "code",
   "execution_count": 3,
   "id": "4132aaed",
   "metadata": {
    "execution": {
     "iopub.execute_input": "2025-08-19T18:02:39.870858Z",
     "iopub.status.busy": "2025-08-19T18:02:39.870438Z",
     "iopub.status.idle": "2025-08-19T18:02:39.875286Z",
     "shell.execute_reply": "2025-08-19T18:02:39.874532Z"
    },
    "papermill": {
     "duration": 0.019903,
     "end_time": "2025-08-19T18:02:39.876754",
     "exception": false,
     "start_time": "2025-08-19T18:02:39.856851",
     "status": "completed"
    },
    "tags": [
     "parameters"
    ]
   },
   "outputs": [],
   "source": [
    "run_no = 0\n",
    "universe_id = \"test\"\n",
    "universe = {\n",
    "    \"training_size\": \"5k\", # \"25k\", \"5k\", \"1k\"\n",
    "    \"training_year\": \"2012_14\", # \"2014\", \"2012_14\", \"2010_14\"\n",
    "    \"scale\": \"scale\", # \"scale\", \"do-not-scale\",\n",
    "    \"model\": \"elasticnet\", # \"logreg\", \"penalized_logreg\", \"rf\", \"gbm\", \"elasticnet\"\n",
    "    \"cutoff\": [\"quantile_0.15\", \"quantile_0.30\"],\n",
    "    \"exclude_features\": \"age\", # \"none\", \"nationality\", \"sex\", \"nationality-sex\", \"age\"\n",
    "    \"exclude_subgroups\": \"drop-non-german\", # \"keep-all\", \"drop-non-german\"\n",
    "    \"eval_fairness_grouping\": [\"majority-minority\", \"nationality-all\"]\n",
    "}\n",
    "\n",
    "output_dir=\"./output\"\n",
    "seed=0"
   ]
  },
  {
   "cell_type": "code",
   "execution_count": 4,
   "id": "ab169a06",
   "metadata": {
    "execution": {
     "iopub.execute_input": "2025-08-19T18:02:39.897358Z",
     "iopub.status.busy": "2025-08-19T18:02:39.897091Z",
     "iopub.status.idle": "2025-08-19T18:02:39.902537Z",
     "shell.execute_reply": "2025-08-19T18:02:39.901606Z"
    },
    "papermill": {
     "duration": 0.018183,
     "end_time": "2025-08-19T18:02:39.904219",
     "exception": false,
     "start_time": "2025-08-19T18:02:39.886036",
     "status": "completed"
    },
    "tags": [
     "injected-parameters"
    ]
   },
   "outputs": [],
   "source": [
    "# Parameters\n",
    "universe_id = \"586b83af98d6eb18fb7c0460f21de287\"\n",
    "run_no = \"3\"\n",
    "universe = \"{\\\"cutoff\\\": [\\\"quantile_0.1\\\", \\\"quantile_0.25\\\"], \\\"eval_fairness_grouping\\\": [\\\"majority-minority\\\", \\\"nationality-all\\\"], \\\"exclude_features\\\": \\\"age\\\", \\\"exclude_subgroups\\\": \\\"keep-all\\\", \\\"model\\\": \\\"elasticnet\\\", \\\"scale\\\": \\\"do-not-scale\\\", \\\"training_size\\\": \\\"25k\\\", \\\"training_year\\\": \\\"2014\\\"}\"\n",
    "output_dir = \"output\"\n",
    "seed = \"2023\"\n"
   ]
  },
  {
   "cell_type": "code",
   "execution_count": 5,
   "id": "a5d7941f",
   "metadata": {
    "execution": {
     "iopub.execute_input": "2025-08-19T18:02:39.923496Z",
     "iopub.status.busy": "2025-08-19T18:02:39.923067Z",
     "iopub.status.idle": "2025-08-19T18:02:39.927302Z",
     "shell.execute_reply": "2025-08-19T18:02:39.926484Z"
    },
    "papermill": {
     "duration": 0.015254,
     "end_time": "2025-08-19T18:02:39.928506",
     "exception": false,
     "start_time": "2025-08-19T18:02:39.913252",
     "status": "completed"
    },
    "tags": []
   },
   "outputs": [],
   "source": [
    "import json\n",
    "if isinstance(universe, str):\n",
    "    universe = json.loads(universe)"
   ]
  },
  {
   "cell_type": "code",
   "execution_count": 6,
   "id": "7076ccb1",
   "metadata": {
    "execution": {
     "iopub.execute_input": "2025-08-19T18:02:39.953127Z",
     "iopub.status.busy": "2025-08-19T18:02:39.952436Z",
     "iopub.status.idle": "2025-08-19T18:02:39.987753Z",
     "shell.execute_reply": "2025-08-19T18:02:39.987180Z"
    },
    "papermill": {
     "duration": 0.046258,
     "end_time": "2025-08-19T18:02:39.988972",
     "exception": false,
     "start_time": "2025-08-19T18:02:39.942714",
     "status": "completed"
    },
    "tags": []
   },
   "outputs": [],
   "source": [
    "# Auto-reload the custom package\n",
    "%load_ext autoreload\n",
    "%autoreload 1\n",
    "%aimport fairness_multiverse"
   ]
  },
  {
   "cell_type": "code",
   "execution_count": 7,
   "id": "94c8eb93",
   "metadata": {
    "execution": {
     "iopub.execute_input": "2025-08-19T18:02:40.008437Z",
     "iopub.status.busy": "2025-08-19T18:02:40.007993Z",
     "iopub.status.idle": "2025-08-19T18:02:41.699894Z",
     "shell.execute_reply": "2025-08-19T18:02:41.698697Z"
    },
    "papermill": {
     "duration": 1.70362,
     "end_time": "2025-08-19T18:02:41.701693",
     "exception": false,
     "start_time": "2025-08-19T18:02:39.998073",
     "status": "completed"
    },
    "tags": []
   },
   "outputs": [],
   "source": [
    "from fairness_multiverse.universe import UniverseAnalysis\n",
    "\n",
    "universe_analysis = UniverseAnalysis(\n",
    "    run_no = run_no,\n",
    "    universe_id = universe_id,\n",
    "    universe = universe,\n",
    "    output_dir=output_dir,\n",
    ")"
   ]
  },
  {
   "cell_type": "code",
   "execution_count": 8,
   "id": "2a6381cf",
   "metadata": {
    "execution": {
     "iopub.execute_input": "2025-08-19T18:02:41.723570Z",
     "iopub.status.busy": "2025-08-19T18:02:41.722704Z",
     "iopub.status.idle": "2025-08-19T18:02:41.732416Z",
     "shell.execute_reply": "2025-08-19T18:02:41.731547Z"
    },
    "papermill": {
     "duration": 0.022486,
     "end_time": "2025-08-19T18:02:41.733927",
     "exception": false,
     "start_time": "2025-08-19T18:02:41.711441",
     "status": "completed"
    },
    "tags": []
   },
   "outputs": [
    {
     "name": "stdout",
     "output_type": "stream",
     "text": [
      "Using Seed: 2023\n"
     ]
    }
   ],
   "source": [
    "import numpy as np\n",
    "parsed_seed = int(seed)\n",
    "np.random.seed(parsed_seed)\n",
    "print(f\"Using Seed: {parsed_seed}\")"
   ]
  },
  {
   "cell_type": "markdown",
   "id": "b6e958b4",
   "metadata": {
    "papermill": {
     "duration": 0.010785,
     "end_time": "2025-08-19T18:02:41.756770",
     "exception": false,
     "start_time": "2025-08-19T18:02:41.745985",
     "status": "completed"
    },
    "tags": []
   },
   "source": [
    "# Loading Data"
   ]
  },
  {
   "cell_type": "code",
   "execution_count": 9,
   "id": "98701482",
   "metadata": {
    "execution": {
     "iopub.execute_input": "2025-08-19T18:02:41.776980Z",
     "iopub.status.busy": "2025-08-19T18:02:41.776571Z",
     "iopub.status.idle": "2025-08-19T18:02:51.825978Z",
     "shell.execute_reply": "2025-08-19T18:02:51.824966Z"
    },
    "papermill": {
     "duration": 10.060967,
     "end_time": "2025-08-19T18:02:51.827333",
     "exception": false,
     "start_time": "2025-08-19T18:02:41.766366",
     "status": "completed"
    },
    "tags": []
   },
   "outputs": [
    {
     "name": "stdout",
     "output_type": "stream",
     "text": [
      "Loading SIAB data from cache: data/siab_cached.csv.gz\n"
     ]
    },
    {
     "name": "stdout",
     "output_type": "stream",
     "text": [
      "(643690, 164)\n"
     ]
    }
   ],
   "source": [
    "from pathlib import Path\n",
    "import pandas as pd\n",
    "\n",
    "# File paths\n",
    "raw_file = Path(\"data/raw/siab.csv\")\n",
    "cache_file = Path(\"data/siab_cached.csv.gz\")\n",
    "\n",
    "# Ensure cache directory exists\n",
    "cache_file.parent.mkdir(parents=True, exist_ok=True)\n",
    "\n",
    "# Load with simple caching\n",
    "if cache_file.exists():\n",
    "    print(f\"Loading SIAB data from cache: {cache_file}\")\n",
    "    siab = pd.read_csv(cache_file, compression='gzip')\n",
    "else:\n",
    "    print(f\"Cache not found. Reading raw SIAB data: {raw_file}\")\n",
    "    siab = pd.read_csv(raw_file)\n",
    "    siab.to_csv(cache_file, index=False, compression='gzip')\n",
    "    print(f\"Cached SIAB data to: {cache_file}\")\n",
    "\n",
    "print(siab.shape)"
   ]
  },
  {
   "cell_type": "code",
   "execution_count": 10,
   "id": "058d2abb",
   "metadata": {
    "execution": {
     "iopub.execute_input": "2025-08-19T18:02:51.870102Z",
     "iopub.status.busy": "2025-08-19T18:02:51.868926Z",
     "iopub.status.idle": "2025-08-19T18:02:52.055816Z",
     "shell.execute_reply": "2025-08-19T18:02:52.055022Z"
    },
    "papermill": {
     "duration": 0.20552,
     "end_time": "2025-08-19T18:02:52.057210",
     "exception": false,
     "start_time": "2025-08-19T18:02:51.851690",
     "status": "completed"
    },
    "tags": []
   },
   "outputs": [
    {
     "data": {
      "text/html": [
       "<div>\n",
       "<style scoped>\n",
       "    .dataframe tbody tr th:only-of-type {\n",
       "        vertical-align: middle;\n",
       "    }\n",
       "\n",
       "    .dataframe tbody tr th {\n",
       "        vertical-align: top;\n",
       "    }\n",
       "\n",
       "    .dataframe thead th {\n",
       "        text-align: right;\n",
       "    }\n",
       "</style>\n",
       "<table border=\"1\" class=\"dataframe\">\n",
       "  <thead>\n",
       "    <tr style=\"text-align: right;\">\n",
       "      <th></th>\n",
       "      <th>persnr</th>\n",
       "      <th>year</th>\n",
       "      <th>nrEntry</th>\n",
       "      <th>ltue</th>\n",
       "      <th>employed_before</th>\n",
       "      <th>receipt_leh_before</th>\n",
       "      <th>receipt_lhg_before</th>\n",
       "      <th>se_before</th>\n",
       "      <th>ASU_notue_seeking_before</th>\n",
       "      <th>ASU_other_before</th>\n",
       "      <th>...</th>\n",
       "      <th>minijob_tot_dur_byage</th>\n",
       "      <th>ft_tot_dur_byage</th>\n",
       "      <th>befrist_tot_dur_byage</th>\n",
       "      <th>leih_tot_dur_byage</th>\n",
       "      <th>LHG_tot_dur_byage</th>\n",
       "      <th>LEH_tot_dur_byage</th>\n",
       "      <th>almp_tot_dur_byage</th>\n",
       "      <th>almp_aw_tot_dur_byage</th>\n",
       "      <th>se_tot_dur_byage</th>\n",
       "      <th>seeking1_tot_dur_byage</th>\n",
       "    </tr>\n",
       "  </thead>\n",
       "  <tbody>\n",
       "    <tr>\n",
       "      <th>0</th>\n",
       "      <td>7</td>\n",
       "      <td>2015</td>\n",
       "      <td>1</td>\n",
       "      <td>0</td>\n",
       "      <td>1</td>\n",
       "      <td>0</td>\n",
       "      <td>0</td>\n",
       "      <td>0</td>\n",
       "      <td>1</td>\n",
       "      <td>0</td>\n",
       "      <td>...</td>\n",
       "      <td>0.000000</td>\n",
       "      <td>0.000000</td>\n",
       "      <td>15.043478</td>\n",
       "      <td>0.000000</td>\n",
       "      <td>0.000000</td>\n",
       "      <td>0.000000</td>\n",
       "      <td>0.000000</td>\n",
       "      <td>0.000000</td>\n",
       "      <td>0.000000</td>\n",
       "      <td>0.000000</td>\n",
       "    </tr>\n",
       "    <tr>\n",
       "      <th>1</th>\n",
       "      <td>18</td>\n",
       "      <td>2010</td>\n",
       "      <td>1</td>\n",
       "      <td>1</td>\n",
       "      <td>0</td>\n",
       "      <td>0</td>\n",
       "      <td>0</td>\n",
       "      <td>0</td>\n",
       "      <td>0</td>\n",
       "      <td>0</td>\n",
       "      <td>...</td>\n",
       "      <td>0.000000</td>\n",
       "      <td>0.000000</td>\n",
       "      <td>0.000000</td>\n",
       "      <td>0.000000</td>\n",
       "      <td>0.000000</td>\n",
       "      <td>0.000000</td>\n",
       "      <td>0.000000</td>\n",
       "      <td>0.000000</td>\n",
       "      <td>0.000000</td>\n",
       "      <td>0.000000</td>\n",
       "    </tr>\n",
       "    <tr>\n",
       "      <th>2</th>\n",
       "      <td>18</td>\n",
       "      <td>2011</td>\n",
       "      <td>2</td>\n",
       "      <td>0</td>\n",
       "      <td>1</td>\n",
       "      <td>0</td>\n",
       "      <td>1</td>\n",
       "      <td>0</td>\n",
       "      <td>1</td>\n",
       "      <td>0</td>\n",
       "      <td>...</td>\n",
       "      <td>2.714286</td>\n",
       "      <td>2.714286</td>\n",
       "      <td>0.000000</td>\n",
       "      <td>0.000000</td>\n",
       "      <td>10.775510</td>\n",
       "      <td>0.000000</td>\n",
       "      <td>8.367347</td>\n",
       "      <td>0.000000</td>\n",
       "      <td>0.000000</td>\n",
       "      <td>9.836735</td>\n",
       "    </tr>\n",
       "    <tr>\n",
       "      <th>3</th>\n",
       "      <td>18</td>\n",
       "      <td>2012</td>\n",
       "      <td>3</td>\n",
       "      <td>0</td>\n",
       "      <td>1</td>\n",
       "      <td>0</td>\n",
       "      <td>1</td>\n",
       "      <td>0</td>\n",
       "      <td>1</td>\n",
       "      <td>0</td>\n",
       "      <td>...</td>\n",
       "      <td>4.200000</td>\n",
       "      <td>4.200000</td>\n",
       "      <td>0.000000</td>\n",
       "      <td>0.000000</td>\n",
       "      <td>12.100000</td>\n",
       "      <td>0.000000</td>\n",
       "      <td>9.400000</td>\n",
       "      <td>0.000000</td>\n",
       "      <td>0.000000</td>\n",
       "      <td>9.960000</td>\n",
       "    </tr>\n",
       "    <tr>\n",
       "      <th>4</th>\n",
       "      <td>18</td>\n",
       "      <td>2012</td>\n",
       "      <td>4</td>\n",
       "      <td>0</td>\n",
       "      <td>1</td>\n",
       "      <td>0</td>\n",
       "      <td>1</td>\n",
       "      <td>0</td>\n",
       "      <td>1</td>\n",
       "      <td>0</td>\n",
       "      <td>...</td>\n",
       "      <td>5.460000</td>\n",
       "      <td>5.460000</td>\n",
       "      <td>0.000000</td>\n",
       "      <td>0.000000</td>\n",
       "      <td>13.360000</td>\n",
       "      <td>0.000000</td>\n",
       "      <td>10.320000</td>\n",
       "      <td>0.000000</td>\n",
       "      <td>0.000000</td>\n",
       "      <td>10.280000</td>\n",
       "    </tr>\n",
       "    <tr>\n",
       "      <th>...</th>\n",
       "      <td>...</td>\n",
       "      <td>...</td>\n",
       "      <td>...</td>\n",
       "      <td>...</td>\n",
       "      <td>...</td>\n",
       "      <td>...</td>\n",
       "      <td>...</td>\n",
       "      <td>...</td>\n",
       "      <td>...</td>\n",
       "      <td>...</td>\n",
       "      <td>...</td>\n",
       "      <td>...</td>\n",
       "      <td>...</td>\n",
       "      <td>...</td>\n",
       "      <td>...</td>\n",
       "      <td>...</td>\n",
       "      <td>...</td>\n",
       "      <td>...</td>\n",
       "      <td>...</td>\n",
       "      <td>...</td>\n",
       "      <td>...</td>\n",
       "    </tr>\n",
       "    <tr>\n",
       "      <th>643685</th>\n",
       "      <td>1827860</td>\n",
       "      <td>2013</td>\n",
       "      <td>1</td>\n",
       "      <td>0</td>\n",
       "      <td>0</td>\n",
       "      <td>0</td>\n",
       "      <td>1</td>\n",
       "      <td>0</td>\n",
       "      <td>0</td>\n",
       "      <td>1</td>\n",
       "      <td>...</td>\n",
       "      <td>0.000000</td>\n",
       "      <td>0.000000</td>\n",
       "      <td>0.000000</td>\n",
       "      <td>0.000000</td>\n",
       "      <td>0.612903</td>\n",
       "      <td>0.000000</td>\n",
       "      <td>0.000000</td>\n",
       "      <td>0.000000</td>\n",
       "      <td>0.000000</td>\n",
       "      <td>0.000000</td>\n",
       "    </tr>\n",
       "    <tr>\n",
       "      <th>643686</th>\n",
       "      <td>1827860</td>\n",
       "      <td>2015</td>\n",
       "      <td>2</td>\n",
       "      <td>1</td>\n",
       "      <td>0</td>\n",
       "      <td>0</td>\n",
       "      <td>1</td>\n",
       "      <td>0</td>\n",
       "      <td>1</td>\n",
       "      <td>0</td>\n",
       "      <td>...</td>\n",
       "      <td>0.000000</td>\n",
       "      <td>0.000000</td>\n",
       "      <td>0.212121</td>\n",
       "      <td>0.212121</td>\n",
       "      <td>17.363636</td>\n",
       "      <td>0.000000</td>\n",
       "      <td>8.909091</td>\n",
       "      <td>0.000000</td>\n",
       "      <td>0.000000</td>\n",
       "      <td>7.121212</td>\n",
       "    </tr>\n",
       "    <tr>\n",
       "      <th>643687</th>\n",
       "      <td>1827860</td>\n",
       "      <td>2016</td>\n",
       "      <td>3</td>\n",
       "      <td>1</td>\n",
       "      <td>0</td>\n",
       "      <td>0</td>\n",
       "      <td>1</td>\n",
       "      <td>1</td>\n",
       "      <td>0</td>\n",
       "      <td>1</td>\n",
       "      <td>...</td>\n",
       "      <td>0.000000</td>\n",
       "      <td>0.000000</td>\n",
       "      <td>0.294118</td>\n",
       "      <td>0.205882</td>\n",
       "      <td>34.705882</td>\n",
       "      <td>0.000000</td>\n",
       "      <td>10.352941</td>\n",
       "      <td>1.705882</td>\n",
       "      <td>1.705882</td>\n",
       "      <td>23.911765</td>\n",
       "    </tr>\n",
       "    <tr>\n",
       "      <th>643688</th>\n",
       "      <td>1827869</td>\n",
       "      <td>2013</td>\n",
       "      <td>1</td>\n",
       "      <td>1</td>\n",
       "      <td>1</td>\n",
       "      <td>0</td>\n",
       "      <td>0</td>\n",
       "      <td>0</td>\n",
       "      <td>1</td>\n",
       "      <td>0</td>\n",
       "      <td>...</td>\n",
       "      <td>0.000000</td>\n",
       "      <td>0.000000</td>\n",
       "      <td>0.000000</td>\n",
       "      <td>0.000000</td>\n",
       "      <td>0.000000</td>\n",
       "      <td>0.525424</td>\n",
       "      <td>0.000000</td>\n",
       "      <td>0.000000</td>\n",
       "      <td>0.000000</td>\n",
       "      <td>0.000000</td>\n",
       "    </tr>\n",
       "    <tr>\n",
       "      <th>643689</th>\n",
       "      <td>1827869</td>\n",
       "      <td>2014</td>\n",
       "      <td>2</td>\n",
       "      <td>0</td>\n",
       "      <td>0</td>\n",
       "      <td>1</td>\n",
       "      <td>0</td>\n",
       "      <td>0</td>\n",
       "      <td>1</td>\n",
       "      <td>0</td>\n",
       "      <td>...</td>\n",
       "      <td>0.000000</td>\n",
       "      <td>0.666667</td>\n",
       "      <td>0.666667</td>\n",
       "      <td>0.000000</td>\n",
       "      <td>0.000000</td>\n",
       "      <td>8.950000</td>\n",
       "      <td>1.033333</td>\n",
       "      <td>0.083333</td>\n",
       "      <td>0.083333</td>\n",
       "      <td>8.133333</td>\n",
       "    </tr>\n",
       "  </tbody>\n",
       "</table>\n",
       "<p>643690 rows × 164 columns</p>\n",
       "</div>"
      ],
      "text/plain": [
       "         persnr  year  nrEntry  ltue  employed_before  receipt_leh_before  \\\n",
       "0             7  2015        1     0                1                   0   \n",
       "1            18  2010        1     1                0                   0   \n",
       "2            18  2011        2     0                1                   0   \n",
       "3            18  2012        3     0                1                   0   \n",
       "4            18  2012        4     0                1                   0   \n",
       "...         ...   ...      ...   ...              ...                 ...   \n",
       "643685  1827860  2013        1     0                0                   0   \n",
       "643686  1827860  2015        2     1                0                   0   \n",
       "643687  1827860  2016        3     1                0                   0   \n",
       "643688  1827869  2013        1     1                1                   0   \n",
       "643689  1827869  2014        2     0                0                   1   \n",
       "\n",
       "        receipt_lhg_before  se_before  ASU_notue_seeking_before  \\\n",
       "0                        0          0                         1   \n",
       "1                        0          0                         0   \n",
       "2                        1          0                         1   \n",
       "3                        1          0                         1   \n",
       "4                        1          0                         1   \n",
       "...                    ...        ...                       ...   \n",
       "643685                   1          0                         0   \n",
       "643686                   1          0                         1   \n",
       "643687                   1          1                         0   \n",
       "643688                   0          0                         1   \n",
       "643689                   0          0                         1   \n",
       "\n",
       "        ASU_other_before  ...  minijob_tot_dur_byage  ft_tot_dur_byage  \\\n",
       "0                      0  ...               0.000000          0.000000   \n",
       "1                      0  ...               0.000000          0.000000   \n",
       "2                      0  ...               2.714286          2.714286   \n",
       "3                      0  ...               4.200000          4.200000   \n",
       "4                      0  ...               5.460000          5.460000   \n",
       "...                  ...  ...                    ...               ...   \n",
       "643685                 1  ...               0.000000          0.000000   \n",
       "643686                 0  ...               0.000000          0.000000   \n",
       "643687                 1  ...               0.000000          0.000000   \n",
       "643688                 0  ...               0.000000          0.000000   \n",
       "643689                 0  ...               0.000000          0.666667   \n",
       "\n",
       "        befrist_tot_dur_byage  leih_tot_dur_byage  LHG_tot_dur_byage  \\\n",
       "0                   15.043478            0.000000           0.000000   \n",
       "1                    0.000000            0.000000           0.000000   \n",
       "2                    0.000000            0.000000          10.775510   \n",
       "3                    0.000000            0.000000          12.100000   \n",
       "4                    0.000000            0.000000          13.360000   \n",
       "...                       ...                 ...                ...   \n",
       "643685               0.000000            0.000000           0.612903   \n",
       "643686               0.212121            0.212121          17.363636   \n",
       "643687               0.294118            0.205882          34.705882   \n",
       "643688               0.000000            0.000000           0.000000   \n",
       "643689               0.666667            0.000000           0.000000   \n",
       "\n",
       "        LEH_tot_dur_byage  almp_tot_dur_byage  almp_aw_tot_dur_byage  \\\n",
       "0                0.000000            0.000000               0.000000   \n",
       "1                0.000000            0.000000               0.000000   \n",
       "2                0.000000            8.367347               0.000000   \n",
       "3                0.000000            9.400000               0.000000   \n",
       "4                0.000000           10.320000               0.000000   \n",
       "...                   ...                 ...                    ...   \n",
       "643685           0.000000            0.000000               0.000000   \n",
       "643686           0.000000            8.909091               0.000000   \n",
       "643687           0.000000           10.352941               1.705882   \n",
       "643688           0.525424            0.000000               0.000000   \n",
       "643689           8.950000            1.033333               0.083333   \n",
       "\n",
       "        se_tot_dur_byage  seeking1_tot_dur_byage  \n",
       "0               0.000000                0.000000  \n",
       "1               0.000000                0.000000  \n",
       "2               0.000000                9.836735  \n",
       "3               0.000000                9.960000  \n",
       "4               0.000000               10.280000  \n",
       "...                  ...                     ...  \n",
       "643685          0.000000                0.000000  \n",
       "643686          0.000000                7.121212  \n",
       "643687          1.705882               23.911765  \n",
       "643688          0.000000                0.000000  \n",
       "643689          0.083333                8.133333  \n",
       "\n",
       "[643690 rows x 164 columns]"
      ]
     },
     "execution_count": 10,
     "metadata": {},
     "output_type": "execute_result"
    }
   ],
   "source": [
    "siab"
   ]
  },
  {
   "cell_type": "markdown",
   "id": "1f87e805",
   "metadata": {
    "papermill": {
     "duration": 0.009741,
     "end_time": "2025-08-19T18:02:52.078778",
     "exception": false,
     "start_time": "2025-08-19T18:02:52.069037",
     "status": "completed"
    },
    "tags": []
   },
   "source": [
    "# Splitting Data and Setting Training Data Size"
   ]
  },
  {
   "cell_type": "code",
   "execution_count": 11,
   "id": "910ae358",
   "metadata": {
    "execution": {
     "iopub.execute_input": "2025-08-19T18:02:52.099527Z",
     "iopub.status.busy": "2025-08-19T18:02:52.099121Z",
     "iopub.status.idle": "2025-08-19T18:02:52.457147Z",
     "shell.execute_reply": "2025-08-19T18:02:52.456271Z"
    },
    "papermill": {
     "duration": 0.370519,
     "end_time": "2025-08-19T18:02:52.458918",
     "exception": false,
     "start_time": "2025-08-19T18:02:52.088399",
     "status": "completed"
    },
    "tags": []
   },
   "outputs": [],
   "source": [
    "from fairness_multiverse.universe import sample_by_year_size\n",
    "\n",
    "siab_train = sample_by_year_size(siab,\n",
    "                               training_year=universe[\"training_year\"],\n",
    "                               training_size=universe[\"training_size\"])"
   ]
  },
  {
   "cell_type": "code",
   "execution_count": 12,
   "id": "919c8ff5",
   "metadata": {
    "execution": {
     "iopub.execute_input": "2025-08-19T18:02:52.480974Z",
     "iopub.status.busy": "2025-08-19T18:02:52.480585Z",
     "iopub.status.idle": "2025-08-19T18:02:52.485983Z",
     "shell.execute_reply": "2025-08-19T18:02:52.485302Z"
    },
    "papermill": {
     "duration": 0.018076,
     "end_time": "2025-08-19T18:02:52.487623",
     "exception": false,
     "start_time": "2025-08-19T18:02:52.469547",
     "status": "completed"
    },
    "tags": []
   },
   "outputs": [
    {
     "data": {
      "text/plain": [
       "(25000, 164)"
      ]
     },
     "execution_count": 12,
     "metadata": {},
     "output_type": "execute_result"
    }
   ],
   "source": [
    "siab_train.shape"
   ]
  },
  {
   "cell_type": "code",
   "execution_count": 13,
   "id": "feb13bf4",
   "metadata": {
    "execution": {
     "iopub.execute_input": "2025-08-19T18:02:52.510932Z",
     "iopub.status.busy": "2025-08-19T18:02:52.510499Z",
     "iopub.status.idle": "2025-08-19T18:02:52.518546Z",
     "shell.execute_reply": "2025-08-19T18:02:52.517863Z"
    },
    "papermill": {
     "duration": 0.021406,
     "end_time": "2025-08-19T18:02:52.520278",
     "exception": false,
     "start_time": "2025-08-19T18:02:52.498872",
     "status": "completed"
    },
    "tags": []
   },
   "outputs": [
    {
     "data": {
      "text/plain": [
       "year\n",
       "2014    25000\n",
       "dtype: int64"
      ]
     },
     "metadata": {},
     "output_type": "display_data"
    }
   ],
   "source": [
    "display(siab_train.groupby(\"year\").size())"
   ]
  },
  {
   "cell_type": "code",
   "execution_count": 14,
   "id": "0997782f",
   "metadata": {
    "execution": {
     "iopub.execute_input": "2025-08-19T18:02:52.543179Z",
     "iopub.status.busy": "2025-08-19T18:02:52.542766Z",
     "iopub.status.idle": "2025-08-19T18:02:52.817783Z",
     "shell.execute_reply": "2025-08-19T18:02:52.817030Z"
    },
    "papermill": {
     "duration": 0.288264,
     "end_time": "2025-08-19T18:02:52.819378",
     "exception": false,
     "start_time": "2025-08-19T18:02:52.531114",
     "status": "completed"
    },
    "tags": []
   },
   "outputs": [],
   "source": [
    "#siab_train = siab_s[siab_s.year < 2015]\n",
    "siab_calib = siab[siab.year == 2015]\n",
    "siab_test = siab[siab.year == 2016]"
   ]
  },
  {
   "cell_type": "code",
   "execution_count": 15,
   "id": "2c1e4012",
   "metadata": {
    "execution": {
     "iopub.execute_input": "2025-08-19T18:02:52.842037Z",
     "iopub.status.busy": "2025-08-19T18:02:52.841640Z",
     "iopub.status.idle": "2025-08-19T18:02:52.845578Z",
     "shell.execute_reply": "2025-08-19T18:02:52.844939Z"
    },
    "papermill": {
     "duration": 0.01656,
     "end_time": "2025-08-19T18:02:52.846840",
     "exception": false,
     "start_time": "2025-08-19T18:02:52.830280",
     "status": "completed"
    },
    "tags": []
   },
   "outputs": [],
   "source": [
    "#siab_calib.shape"
   ]
  },
  {
   "cell_type": "code",
   "execution_count": 16,
   "id": "f66b54ca",
   "metadata": {
    "execution": {
     "iopub.execute_input": "2025-08-19T18:02:52.869747Z",
     "iopub.status.busy": "2025-08-19T18:02:52.869365Z",
     "iopub.status.idle": "2025-08-19T18:02:52.873259Z",
     "shell.execute_reply": "2025-08-19T18:02:52.872625Z"
    },
    "papermill": {
     "duration": 0.017346,
     "end_time": "2025-08-19T18:02:52.874527",
     "exception": false,
     "start_time": "2025-08-19T18:02:52.857181",
     "status": "completed"
    },
    "tags": []
   },
   "outputs": [],
   "source": [
    "#siab_test.shape"
   ]
  },
  {
   "cell_type": "code",
   "execution_count": 17,
   "id": "27e4384d",
   "metadata": {
    "execution": {
     "iopub.execute_input": "2025-08-19T18:02:52.898596Z",
     "iopub.status.busy": "2025-08-19T18:02:52.898224Z",
     "iopub.status.idle": "2025-08-19T18:02:52.911952Z",
     "shell.execute_reply": "2025-08-19T18:02:52.911222Z"
    },
    "papermill": {
     "duration": 0.026137,
     "end_time": "2025-08-19T18:02:52.913351",
     "exception": false,
     "start_time": "2025-08-19T18:02:52.887214",
     "status": "completed"
    },
    "tags": []
   },
   "outputs": [],
   "source": [
    "X_train = siab_train.iloc[:,4:164]\n",
    "y_train = siab_train.iloc[:, [3]]"
   ]
  },
  {
   "cell_type": "code",
   "execution_count": 18,
   "id": "08ee8389",
   "metadata": {
    "execution": {
     "iopub.execute_input": "2025-08-19T18:02:52.938676Z",
     "iopub.status.busy": "2025-08-19T18:02:52.938268Z",
     "iopub.status.idle": "2025-08-19T18:02:52.994417Z",
     "shell.execute_reply": "2025-08-19T18:02:52.993537Z"
    },
    "papermill": {
     "duration": 0.069209,
     "end_time": "2025-08-19T18:02:52.995961",
     "exception": false,
     "start_time": "2025-08-19T18:02:52.926752",
     "status": "completed"
    },
    "tags": []
   },
   "outputs": [],
   "source": [
    "X_calib = siab_calib.iloc[:,4:164]\n",
    "y_calib = siab_calib.iloc[:, [3]]"
   ]
  },
  {
   "cell_type": "code",
   "execution_count": 19,
   "id": "b7ff42e0",
   "metadata": {
    "execution": {
     "iopub.execute_input": "2025-08-19T18:02:53.021504Z",
     "iopub.status.busy": "2025-08-19T18:02:53.021090Z",
     "iopub.status.idle": "2025-08-19T18:02:53.078891Z",
     "shell.execute_reply": "2025-08-19T18:02:53.078104Z"
    },
    "papermill": {
     "duration": 0.071715,
     "end_time": "2025-08-19T18:02:53.080704",
     "exception": false,
     "start_time": "2025-08-19T18:02:53.008989",
     "status": "completed"
    },
    "tags": []
   },
   "outputs": [],
   "source": [
    "X_test = siab_test.iloc[:,4:164]\n",
    "y_true = siab_test.iloc[:, [3]]"
   ]
  },
  {
   "cell_type": "code",
   "execution_count": 20,
   "id": "0275101e",
   "metadata": {
    "execution": {
     "iopub.execute_input": "2025-08-19T18:02:53.105651Z",
     "iopub.status.busy": "2025-08-19T18:02:53.105261Z",
     "iopub.status.idle": "2025-08-19T18:02:53.230869Z",
     "shell.execute_reply": "2025-08-19T18:02:53.230133Z"
    },
    "papermill": {
     "duration": 0.139105,
     "end_time": "2025-08-19T18:02:53.232539",
     "exception": false,
     "start_time": "2025-08-19T18:02:53.093434",
     "status": "completed"
    },
    "tags": []
   },
   "outputs": [],
   "source": [
    "# Auxiliary data needed downstream in the pipeline\n",
    "\n",
    "org_train = X_train.copy()\n",
    "org_test = X_test.copy()\n",
    "org_calib = X_calib.copy()"
   ]
  },
  {
   "cell_type": "markdown",
   "id": "b461e618",
   "metadata": {
    "papermill": {
     "duration": 0.014492,
     "end_time": "2025-08-19T18:02:53.258086",
     "exception": false,
     "start_time": "2025-08-19T18:02:53.243594",
     "status": "completed"
    },
    "tags": []
   },
   "source": [
    "# Preprocessing Data"
   ]
  },
  {
   "cell_type": "code",
   "execution_count": 21,
   "id": "78e74c4b",
   "metadata": {
    "execution": {
     "iopub.execute_input": "2025-08-19T18:02:53.281785Z",
     "iopub.status.busy": "2025-08-19T18:02:53.281350Z",
     "iopub.status.idle": "2025-08-19T18:02:53.286194Z",
     "shell.execute_reply": "2025-08-19T18:02:53.285486Z"
    },
    "papermill": {
     "duration": 0.017852,
     "end_time": "2025-08-19T18:02:53.287395",
     "exception": false,
     "start_time": "2025-08-19T18:02:53.269543",
     "status": "completed"
    },
    "tags": []
   },
   "outputs": [],
   "source": [
    "# EXCLUDE PROTECTED FEATURES\n",
    "# --------------------------\n",
    "\n",
    "excluded_features = universe[\"exclude_features\"].split(\"-\")\n",
    "excluded_features_dictionary = {\n",
    "    \"nationality\": [\"maxdeutsch1\", \"maxdeutsch.Missing.\"],\n",
    "    \"sex\": [\"frau1\"],\n",
    "    \"age\": [\"age\"],\n",
    "}"
   ]
  },
  {
   "cell_type": "code",
   "execution_count": 22,
   "id": "f8e63555",
   "metadata": {
    "execution": {
     "iopub.execute_input": "2025-08-19T18:02:53.310783Z",
     "iopub.status.busy": "2025-08-19T18:02:53.310406Z",
     "iopub.status.idle": "2025-08-19T18:02:53.315028Z",
     "shell.execute_reply": "2025-08-19T18:02:53.314261Z"
    },
    "papermill": {
     "duration": 0.017833,
     "end_time": "2025-08-19T18:02:53.316207",
     "exception": false,
     "start_time": "2025-08-19T18:02:53.298374",
     "status": "completed"
    },
    "tags": []
   },
   "outputs": [],
   "source": [
    "excluded_features_columns = [\n",
    "    excluded_features_dictionary[f] for f in excluded_features if len(f) > 0 and f != \"none\"\n",
    "]"
   ]
  },
  {
   "cell_type": "code",
   "execution_count": 23,
   "id": "da781f7c",
   "metadata": {
    "execution": {
     "iopub.execute_input": "2025-08-19T18:02:53.340223Z",
     "iopub.status.busy": "2025-08-19T18:02:53.339819Z",
     "iopub.status.idle": "2025-08-19T18:02:53.344286Z",
     "shell.execute_reply": "2025-08-19T18:02:53.343539Z"
    },
    "papermill": {
     "duration": 0.031883,
     "end_time": "2025-08-19T18:02:53.360003",
     "exception": false,
     "start_time": "2025-08-19T18:02:53.328120",
     "status": "completed"
    },
    "tags": []
   },
   "outputs": [],
   "source": [
    "from fairness_multiverse.universe import flatten_once\n",
    "\n",
    "excluded_features_columns = flatten_once(excluded_features_columns)"
   ]
  },
  {
   "cell_type": "code",
   "execution_count": 24,
   "id": "37fef0f0",
   "metadata": {
    "execution": {
     "iopub.execute_input": "2025-08-19T18:02:53.396767Z",
     "iopub.status.busy": "2025-08-19T18:02:53.396407Z",
     "iopub.status.idle": "2025-08-19T18:02:53.438294Z",
     "shell.execute_reply": "2025-08-19T18:02:53.437613Z"
    },
    "papermill": {
     "duration": 0.059084,
     "end_time": "2025-08-19T18:02:53.441985",
     "exception": false,
     "start_time": "2025-08-19T18:02:53.382901",
     "status": "completed"
    },
    "tags": []
   },
   "outputs": [
    {
     "name": "stdout",
     "output_type": "stream",
     "text": [
      "Dropping features: ['age']\n"
     ]
    }
   ],
   "source": [
    "if len(excluded_features_columns) > 0:\n",
    "    print(f\"Dropping features: {excluded_features_columns}\")\n",
    "    X_train.drop(excluded_features_columns, axis=1, inplace=True)"
   ]
  },
  {
   "cell_type": "code",
   "execution_count": 25,
   "id": "d029e3e9",
   "metadata": {
    "execution": {
     "iopub.execute_input": "2025-08-19T18:02:53.483854Z",
     "iopub.status.busy": "2025-08-19T18:02:53.482703Z",
     "iopub.status.idle": "2025-08-19T18:02:53.548076Z",
     "shell.execute_reply": "2025-08-19T18:02:53.547302Z"
    },
    "papermill": {
     "duration": 0.083163,
     "end_time": "2025-08-19T18:02:53.550703",
     "exception": false,
     "start_time": "2025-08-19T18:02:53.467540",
     "status": "completed"
    },
    "tags": []
   },
   "outputs": [
    {
     "name": "stdout",
     "output_type": "stream",
     "text": [
      "Dropping features: ['age']\n"
     ]
    }
   ],
   "source": [
    "if len(excluded_features_columns) > 0:\n",
    "    print(f\"Dropping features: {excluded_features_columns}\")\n",
    "    X_test.drop(excluded_features_columns, axis=1, inplace=True)"
   ]
  },
  {
   "cell_type": "code",
   "execution_count": 26,
   "id": "01d571f0",
   "metadata": {
    "execution": {
     "iopub.execute_input": "2025-08-19T18:02:53.588392Z",
     "iopub.status.busy": "2025-08-19T18:02:53.587321Z",
     "iopub.status.idle": "2025-08-19T18:02:53.648421Z",
     "shell.execute_reply": "2025-08-19T18:02:53.647651Z"
    },
    "papermill": {
     "duration": 0.077383,
     "end_time": "2025-08-19T18:02:53.650863",
     "exception": false,
     "start_time": "2025-08-19T18:02:53.573480",
     "status": "completed"
    },
    "tags": []
   },
   "outputs": [
    {
     "name": "stdout",
     "output_type": "stream",
     "text": [
      "Dropping features: ['age']\n"
     ]
    }
   ],
   "source": [
    "if len(excluded_features_columns) > 0:\n",
    "    print(f\"Dropping features: {excluded_features_columns}\")\n",
    "    X_calib.drop(excluded_features_columns, axis=1, inplace=True)"
   ]
  },
  {
   "cell_type": "code",
   "execution_count": 27,
   "id": "3037356e",
   "metadata": {
    "execution": {
     "iopub.execute_input": "2025-08-19T18:02:53.691657Z",
     "iopub.status.busy": "2025-08-19T18:02:53.690443Z",
     "iopub.status.idle": "2025-08-19T18:02:53.698643Z",
     "shell.execute_reply": "2025-08-19T18:02:53.697449Z"
    },
    "papermill": {
     "duration": 0.025697,
     "end_time": "2025-08-19T18:02:53.700133",
     "exception": false,
     "start_time": "2025-08-19T18:02:53.674436",
     "status": "completed"
    },
    "tags": []
   },
   "outputs": [],
   "source": [
    "# EXCLUDE CERTAIN SUBGROUPS\n",
    "# -------------------------\n",
    "\n",
    "mode = universe.get(\"exclude_subgroups\", \"keep-all\") # Defaults to \"keep-all\" if the key is missing."
   ]
  },
  {
   "cell_type": "code",
   "execution_count": 28,
   "id": "9d1e63fd",
   "metadata": {
    "execution": {
     "iopub.execute_input": "2025-08-19T18:02:53.730937Z",
     "iopub.status.busy": "2025-08-19T18:02:53.729719Z",
     "iopub.status.idle": "2025-08-19T18:02:53.740492Z",
     "shell.execute_reply": "2025-08-19T18:02:53.739348Z"
    },
    "papermill": {
     "duration": 0.028078,
     "end_time": "2025-08-19T18:02:53.741938",
     "exception": false,
     "start_time": "2025-08-19T18:02:53.713860",
     "status": "completed"
    },
    "tags": []
   },
   "outputs": [],
   "source": [
    "if mode == \"keep-all\":\n",
    "    keep_mask = pd.Series(True, index=org_train.index)\n",
    "\n",
    "elif mode == \"drop-non-german\":\n",
    "    keep_mask = (org_train[\"maxdeutsch1\"] == 1) & (org_train[\"maxdeutsch.Missing.\"] == 0)\n",
    "\n",
    "else:\n",
    "    raise ValueError(f\"Unsupported mode for exclude_subgroups: {mode}\")"
   ]
  },
  {
   "cell_type": "code",
   "execution_count": 29,
   "id": "d3b65474",
   "metadata": {
    "execution": {
     "iopub.execute_input": "2025-08-19T18:02:53.773625Z",
     "iopub.status.busy": "2025-08-19T18:02:53.772511Z",
     "iopub.status.idle": "2025-08-19T18:02:53.782621Z",
     "shell.execute_reply": "2025-08-19T18:02:53.781524Z"
    },
    "papermill": {
     "duration": 0.025392,
     "end_time": "2025-08-19T18:02:53.784092",
     "exception": false,
     "start_time": "2025-08-19T18:02:53.758700",
     "status": "completed"
    },
    "tags": []
   },
   "outputs": [],
   "source": [
    "n_drop = (~keep_mask).sum() # Calculates how many rows are set to be dropped\n",
    "if n_drop > 0:\n",
    "    pct = n_drop / len(keep_mask) * 100\n",
    "    print(f\"Dropping {n_drop} rows ({pct:.2f}%) where mode='{mode}'\")"
   ]
  },
  {
   "cell_type": "code",
   "execution_count": 30,
   "id": "f44389b3",
   "metadata": {
    "execution": {
     "iopub.execute_input": "2025-08-19T18:02:53.811210Z",
     "iopub.status.busy": "2025-08-19T18:02:53.810184Z",
     "iopub.status.idle": "2025-08-19T18:02:53.841875Z",
     "shell.execute_reply": "2025-08-19T18:02:53.840927Z"
    },
    "papermill": {
     "duration": 0.045959,
     "end_time": "2025-08-19T18:02:53.843509",
     "exception": false,
     "start_time": "2025-08-19T18:02:53.797550",
     "status": "completed"
    },
    "tags": []
   },
   "outputs": [],
   "source": [
    "X_train = X_train[keep_mask]"
   ]
  },
  {
   "cell_type": "code",
   "execution_count": 31,
   "id": "ceca8c2a",
   "metadata": {
    "execution": {
     "iopub.execute_input": "2025-08-19T18:02:53.868264Z",
     "iopub.status.busy": "2025-08-19T18:02:53.867098Z",
     "iopub.status.idle": "2025-08-19T18:02:53.876217Z",
     "shell.execute_reply": "2025-08-19T18:02:53.875298Z"
    },
    "papermill": {
     "duration": 0.024918,
     "end_time": "2025-08-19T18:02:53.879460",
     "exception": false,
     "start_time": "2025-08-19T18:02:53.854542",
     "status": "completed"
    },
    "tags": []
   },
   "outputs": [],
   "source": [
    "y_train = y_train[keep_mask]"
   ]
  },
  {
   "cell_type": "markdown",
   "id": "04d31e2f",
   "metadata": {
    "papermill": {
     "duration": 0.012859,
     "end_time": "2025-08-19T18:02:53.917778",
     "exception": false,
     "start_time": "2025-08-19T18:02:53.904919",
     "status": "completed"
    },
    "tags": []
   },
   "source": [
    "# Model Training"
   ]
  },
  {
   "cell_type": "code",
   "execution_count": 32,
   "id": "db991733",
   "metadata": {
    "execution": {
     "iopub.execute_input": "2025-08-19T18:02:53.942530Z",
     "iopub.status.busy": "2025-08-19T18:02:53.941285Z",
     "iopub.status.idle": "2025-08-19T18:02:54.061644Z",
     "shell.execute_reply": "2025-08-19T18:02:54.060798Z"
    },
    "papermill": {
     "duration": 0.134785,
     "end_time": "2025-08-19T18:02:54.063366",
     "exception": false,
     "start_time": "2025-08-19T18:02:53.928581",
     "status": "completed"
    },
    "tags": []
   },
   "outputs": [],
   "source": [
    "from sklearn.linear_model import LogisticRegression\n",
    "from sklearn.ensemble import GradientBoostingClassifier, RandomForestClassifier\n",
    "\n",
    "if (universe[\"model\"] == \"logreg\"):\n",
    "    model = LogisticRegression() #penalty=\"none\", solver=\"newton-cg\", max_iter=1)\n",
    "elif (universe[\"model\"] == \"penalized_logreg\"):\n",
    "    model = LogisticRegression(penalty=\"l2\", C=0.1) #, solver=\"newton-cg\", max_iter=1)\n",
    "elif (universe[\"model\"] == \"rf\"):\n",
    "    model = RandomForestClassifier() # n_estimators=100, n_jobs=-1\n",
    "elif (universe[\"model\"] == \"gbm\"):\n",
    "    model = GradientBoostingClassifier()\n",
    "elif (universe[\"model\"] == \"elasticnet\"):\n",
    "    model = LogisticRegression(penalty = 'elasticnet', solver = 'saga', l1_ratio = 0.5) # max_iter=5000\n",
    "else:\n",
    "    raise \"Unsupported universe.model\""
   ]
  },
  {
   "cell_type": "code",
   "execution_count": 33,
   "id": "a4b5cd25",
   "metadata": {
    "execution": {
     "iopub.execute_input": "2025-08-19T18:02:54.087584Z",
     "iopub.status.busy": "2025-08-19T18:02:54.087167Z",
     "iopub.status.idle": "2025-08-19T18:02:54.092400Z",
     "shell.execute_reply": "2025-08-19T18:02:54.091613Z"
    },
    "papermill": {
     "duration": 0.019901,
     "end_time": "2025-08-19T18:02:54.094867",
     "exception": false,
     "start_time": "2025-08-19T18:02:54.074966",
     "status": "completed"
    },
    "tags": []
   },
   "outputs": [],
   "source": [
    "from sklearn.pipeline import Pipeline\n",
    "from sklearn.preprocessing import StandardScaler\n",
    "\n",
    "model = Pipeline([\n",
    "    #(\"continuous_processor\", continuous_processor),\n",
    "    #(\"categorical_preprocessor\", categorical_preprocessor),\n",
    "    (\"scale\", StandardScaler() if universe[\"scale\"] == \"scale\" else None), \n",
    "    (\"model\", model),\n",
    "])"
   ]
  },
  {
   "cell_type": "code",
   "execution_count": 34,
   "id": "283a904d",
   "metadata": {
    "execution": {
     "iopub.execute_input": "2025-08-19T18:02:54.119068Z",
     "iopub.status.busy": "2025-08-19T18:02:54.118661Z",
     "iopub.status.idle": "2025-08-19T18:03:00.972525Z",
     "shell.execute_reply": "2025-08-19T18:03:00.971604Z"
    },
    "papermill": {
     "duration": 6.867098,
     "end_time": "2025-08-19T18:03:00.973789",
     "exception": false,
     "start_time": "2025-08-19T18:02:54.106691",
     "status": "completed"
    },
    "tags": []
   },
   "outputs": [
    {
     "name": "stderr",
     "output_type": "stream",
     "text": [
      "/dss/dsshome1/0C/ra93lal2/.local/share/virtualenvs/CMA_Fairness_v2-3j10GkSs/lib/python3.10/site-packages/sklearn/linear_model/_sag.py:350: ConvergenceWarning: The max_iter was reached which means the coef_ did not converge\n",
      "  warnings.warn(\n"
     ]
    },
    {
     "data": {
      "text/html": [
       "<style>#sk-container-id-1 {color: black;background-color: white;}#sk-container-id-1 pre{padding: 0;}#sk-container-id-1 div.sk-toggleable {background-color: white;}#sk-container-id-1 label.sk-toggleable__label {cursor: pointer;display: block;width: 100%;margin-bottom: 0;padding: 0.3em;box-sizing: border-box;text-align: center;}#sk-container-id-1 label.sk-toggleable__label-arrow:before {content: \"▸\";float: left;margin-right: 0.25em;color: #696969;}#sk-container-id-1 label.sk-toggleable__label-arrow:hover:before {color: black;}#sk-container-id-1 div.sk-estimator:hover label.sk-toggleable__label-arrow:before {color: black;}#sk-container-id-1 div.sk-toggleable__content {max-height: 0;max-width: 0;overflow: hidden;text-align: left;background-color: #f0f8ff;}#sk-container-id-1 div.sk-toggleable__content pre {margin: 0.2em;color: black;border-radius: 0.25em;background-color: #f0f8ff;}#sk-container-id-1 input.sk-toggleable__control:checked~div.sk-toggleable__content {max-height: 200px;max-width: 100%;overflow: auto;}#sk-container-id-1 input.sk-toggleable__control:checked~label.sk-toggleable__label-arrow:before {content: \"▾\";}#sk-container-id-1 div.sk-estimator input.sk-toggleable__control:checked~label.sk-toggleable__label {background-color: #d4ebff;}#sk-container-id-1 div.sk-label input.sk-toggleable__control:checked~label.sk-toggleable__label {background-color: #d4ebff;}#sk-container-id-1 input.sk-hidden--visually {border: 0;clip: rect(1px 1px 1px 1px);clip: rect(1px, 1px, 1px, 1px);height: 1px;margin: -1px;overflow: hidden;padding: 0;position: absolute;width: 1px;}#sk-container-id-1 div.sk-estimator {font-family: monospace;background-color: #f0f8ff;border: 1px dotted black;border-radius: 0.25em;box-sizing: border-box;margin-bottom: 0.5em;}#sk-container-id-1 div.sk-estimator:hover {background-color: #d4ebff;}#sk-container-id-1 div.sk-parallel-item::after {content: \"\";width: 100%;border-bottom: 1px solid gray;flex-grow: 1;}#sk-container-id-1 div.sk-label:hover label.sk-toggleable__label {background-color: #d4ebff;}#sk-container-id-1 div.sk-serial::before {content: \"\";position: absolute;border-left: 1px solid gray;box-sizing: border-box;top: 0;bottom: 0;left: 50%;z-index: 0;}#sk-container-id-1 div.sk-serial {display: flex;flex-direction: column;align-items: center;background-color: white;padding-right: 0.2em;padding-left: 0.2em;position: relative;}#sk-container-id-1 div.sk-item {position: relative;z-index: 1;}#sk-container-id-1 div.sk-parallel {display: flex;align-items: stretch;justify-content: center;background-color: white;position: relative;}#sk-container-id-1 div.sk-item::before, #sk-container-id-1 div.sk-parallel-item::before {content: \"\";position: absolute;border-left: 1px solid gray;box-sizing: border-box;top: 0;bottom: 0;left: 50%;z-index: -1;}#sk-container-id-1 div.sk-parallel-item {display: flex;flex-direction: column;z-index: 1;position: relative;background-color: white;}#sk-container-id-1 div.sk-parallel-item:first-child::after {align-self: flex-end;width: 50%;}#sk-container-id-1 div.sk-parallel-item:last-child::after {align-self: flex-start;width: 50%;}#sk-container-id-1 div.sk-parallel-item:only-child::after {width: 0;}#sk-container-id-1 div.sk-dashed-wrapped {border: 1px dashed gray;margin: 0 0.4em 0.5em 0.4em;box-sizing: border-box;padding-bottom: 0.4em;background-color: white;}#sk-container-id-1 div.sk-label label {font-family: monospace;font-weight: bold;display: inline-block;line-height: 1.2em;}#sk-container-id-1 div.sk-label-container {text-align: center;}#sk-container-id-1 div.sk-container {/* jupyter's `normalize.less` sets `[hidden] { display: none; }` but bootstrap.min.css set `[hidden] { display: none !important; }` so we also need the `!important` here to be able to override the default hidden behavior on the sphinx rendered scikit-learn.org. See: https://github.com/scikit-learn/scikit-learn/issues/21755 */display: inline-block !important;position: relative;}#sk-container-id-1 div.sk-text-repr-fallback {display: none;}</style><div id=\"sk-container-id-1\" class=\"sk-top-container\"><div class=\"sk-text-repr-fallback\"><pre>Pipeline(steps=[(&#x27;scale&#x27;, None),\n",
       "                (&#x27;model&#x27;,\n",
       "                 LogisticRegression(l1_ratio=0.5, penalty=&#x27;elasticnet&#x27;,\n",
       "                                    solver=&#x27;saga&#x27;))])</pre><b>In a Jupyter environment, please rerun this cell to show the HTML representation or trust the notebook. <br />On GitHub, the HTML representation is unable to render, please try loading this page with nbviewer.org.</b></div><div class=\"sk-container\" hidden><div class=\"sk-item sk-dashed-wrapped\"><div class=\"sk-label-container\"><div class=\"sk-label sk-toggleable\"><input class=\"sk-toggleable__control sk-hidden--visually\" id=\"sk-estimator-id-1\" type=\"checkbox\" ><label for=\"sk-estimator-id-1\" class=\"sk-toggleable__label sk-toggleable__label-arrow\">Pipeline</label><div class=\"sk-toggleable__content\"><pre>Pipeline(steps=[(&#x27;scale&#x27;, None),\n",
       "                (&#x27;model&#x27;,\n",
       "                 LogisticRegression(l1_ratio=0.5, penalty=&#x27;elasticnet&#x27;,\n",
       "                                    solver=&#x27;saga&#x27;))])</pre></div></div></div><div class=\"sk-serial\"><div class=\"sk-item\"><div class=\"sk-estimator sk-toggleable\"><input class=\"sk-toggleable__control sk-hidden--visually\" id=\"sk-estimator-id-2\" type=\"checkbox\" ><label for=\"sk-estimator-id-2\" class=\"sk-toggleable__label sk-toggleable__label-arrow\">None</label><div class=\"sk-toggleable__content\"><pre>None</pre></div></div></div><div class=\"sk-item\"><div class=\"sk-estimator sk-toggleable\"><input class=\"sk-toggleable__control sk-hidden--visually\" id=\"sk-estimator-id-3\" type=\"checkbox\" ><label for=\"sk-estimator-id-3\" class=\"sk-toggleable__label sk-toggleable__label-arrow\">LogisticRegression</label><div class=\"sk-toggleable__content\"><pre>LogisticRegression(l1_ratio=0.5, penalty=&#x27;elasticnet&#x27;, solver=&#x27;saga&#x27;)</pre></div></div></div></div></div></div></div>"
      ],
      "text/plain": [
       "Pipeline(steps=[('scale', None),\n",
       "                ('model',\n",
       "                 LogisticRegression(l1_ratio=0.5, penalty='elasticnet',\n",
       "                                    solver='saga'))])"
      ]
     },
     "execution_count": 34,
     "metadata": {},
     "output_type": "execute_result"
    }
   ],
   "source": [
    "model.fit(X_train, y_train.values.ravel())"
   ]
  },
  {
   "cell_type": "code",
   "execution_count": 35,
   "id": "6e15e313",
   "metadata": {
    "execution": {
     "iopub.execute_input": "2025-08-19T18:03:01.005414Z",
     "iopub.status.busy": "2025-08-19T18:03:01.004817Z",
     "iopub.status.idle": "2025-08-19T18:03:01.115166Z",
     "shell.execute_reply": "2025-08-19T18:03:01.114475Z"
    },
    "papermill": {
     "duration": 0.128226,
     "end_time": "2025-08-19T18:03:01.116796",
     "exception": false,
     "start_time": "2025-08-19T18:03:00.988570",
     "status": "completed"
    },
    "tags": []
   },
   "outputs": [
    {
     "data": {
      "text/plain": [
       "0.8672277338089399"
      ]
     },
     "execution_count": 35,
     "metadata": {},
     "output_type": "execute_result"
    }
   ],
   "source": [
    "from fairness_multiverse.universe import predict_w_threshold\n",
    "\n",
    "probs_test = model.predict_proba(X_test)\n",
    "\n",
    "'''\n",
    "Below code returns a boolean array (or binary 0/1 array depending on how it’s used) where each element \n",
    "is True if the probability of class 1 is greater than or equal to the threshold, and False otherwise.\n",
    "'''\n",
    "y_pred_default = predict_w_threshold(probs_test, 0.5)\n",
    "\n",
    "from sklearn.metrics import accuracy_score\n",
    "\n",
    "# Naive prediction\n",
    "accuracy_score(y_true = y_true, y_pred = y_pred_default)"
   ]
  },
  {
   "cell_type": "code",
   "execution_count": 36,
   "id": "6f14067c",
   "metadata": {
    "execution": {
     "iopub.execute_input": "2025-08-19T18:03:01.145274Z",
     "iopub.status.busy": "2025-08-19T18:03:01.144871Z",
     "iopub.status.idle": "2025-08-19T18:03:01.230067Z",
     "shell.execute_reply": "2025-08-19T18:03:01.229318Z"
    },
    "papermill": {
     "duration": 0.103646,
     "end_time": "2025-08-19T18:03:01.232574",
     "exception": false,
     "start_time": "2025-08-19T18:03:01.128928",
     "status": "completed"
    },
    "tags": []
   },
   "outputs": [
    {
     "data": {
      "text/plain": [
       "array([0, 0, 0, ..., 0, 0, 0])"
      ]
     },
     "execution_count": 36,
     "metadata": {},
     "output_type": "execute_result"
    }
   ],
   "source": [
    "model.predict(X_test)"
   ]
  },
  {
   "cell_type": "markdown",
   "id": "3759920c",
   "metadata": {
    "papermill": {
     "duration": 0.011635,
     "end_time": "2025-08-19T18:03:01.256807",
     "exception": false,
     "start_time": "2025-08-19T18:03:01.245172",
     "status": "completed"
    },
    "tags": []
   },
   "source": [
    "# Conformal Prediction"
   ]
  },
  {
   "cell_type": "code",
   "execution_count": 37,
   "id": "14b27f59",
   "metadata": {
    "execution": {
     "iopub.execute_input": "2025-08-19T18:03:01.281418Z",
     "iopub.status.busy": "2025-08-19T18:03:01.281013Z",
     "iopub.status.idle": "2025-08-19T18:03:01.285457Z",
     "shell.execute_reply": "2025-08-19T18:03:01.284778Z"
    },
    "papermill": {
     "duration": 0.018706,
     "end_time": "2025-08-19T18:03:01.287051",
     "exception": false,
     "start_time": "2025-08-19T18:03:01.268345",
     "status": "completed"
    },
    "tags": []
   },
   "outputs": [],
   "source": [
    "# Miscoverage level for conformal prediction (10% allowed error rate => 90% target coverage)\n",
    "alpha = 0.1"
   ]
  },
  {
   "cell_type": "code",
   "execution_count": 38,
   "id": "59102472",
   "metadata": {
    "execution": {
     "iopub.execute_input": "2025-08-19T18:03:01.312690Z",
     "iopub.status.busy": "2025-08-19T18:03:01.312351Z",
     "iopub.status.idle": "2025-08-19T18:03:01.399445Z",
     "shell.execute_reply": "2025-08-19T18:03:01.398686Z"
    },
    "papermill": {
     "duration": 0.10122,
     "end_time": "2025-08-19T18:03:01.400877",
     "exception": false,
     "start_time": "2025-08-19T18:03:01.299657",
     "status": "completed"
    },
    "tags": []
   },
   "outputs": [],
   "source": [
    "probs_calib = model.predict_proba(X_calib)"
   ]
  },
  {
   "cell_type": "code",
   "execution_count": 39,
   "id": "a792d4dd",
   "metadata": {
    "execution": {
     "iopub.execute_input": "2025-08-19T18:03:01.426011Z",
     "iopub.status.busy": "2025-08-19T18:03:01.425624Z",
     "iopub.status.idle": "2025-08-19T18:03:01.430200Z",
     "shell.execute_reply": "2025-08-19T18:03:01.429530Z"
    },
    "papermill": {
     "duration": 0.018496,
     "end_time": "2025-08-19T18:03:01.431658",
     "exception": false,
     "start_time": "2025-08-19T18:03:01.413162",
     "status": "completed"
    },
    "tags": []
   },
   "outputs": [],
   "source": [
    "y_calib = y_calib.values.ravel().astype(int)"
   ]
  },
  {
   "cell_type": "code",
   "execution_count": 40,
   "id": "650fd033",
   "metadata": {
    "execution": {
     "iopub.execute_input": "2025-08-19T18:03:01.455956Z",
     "iopub.status.busy": "2025-08-19T18:03:01.455596Z",
     "iopub.status.idle": "2025-08-19T18:03:01.480414Z",
     "shell.execute_reply": "2025-08-19T18:03:01.479276Z"
    },
    "papermill": {
     "duration": 0.038709,
     "end_time": "2025-08-19T18:03:01.482060",
     "exception": false,
     "start_time": "2025-08-19T18:03:01.443351",
     "status": "completed"
    },
    "tags": []
   },
   "outputs": [],
   "source": [
    "from fairness_multiverse.conformal import compute_nc_scores\n",
    "\n",
    "# Compute nonconformity scores on calibration set (1 - probability of true class)\n",
    "nc_scores = compute_nc_scores(probs_calib, y_calib)"
   ]
  },
  {
   "cell_type": "code",
   "execution_count": 41,
   "id": "28ada44c",
   "metadata": {
    "execution": {
     "iopub.execute_input": "2025-08-19T18:03:01.513404Z",
     "iopub.status.busy": "2025-08-19T18:03:01.513037Z",
     "iopub.status.idle": "2025-08-19T18:03:01.518570Z",
     "shell.execute_reply": "2025-08-19T18:03:01.517888Z"
    },
    "papermill": {
     "duration": 0.020331,
     "end_time": "2025-08-19T18:03:01.520679",
     "exception": false,
     "start_time": "2025-08-19T18:03:01.500348",
     "status": "completed"
    },
    "tags": []
   },
   "outputs": [],
   "source": [
    "from fairness_multiverse.conformal import find_threshold\n",
    "\n",
    "# Find conformal threshold q_hat for the given alpha (split conformal method)\n",
    "q_hat = find_threshold(nc_scores, alpha)"
   ]
  },
  {
   "cell_type": "code",
   "execution_count": 42,
   "id": "df56469e",
   "metadata": {
    "execution": {
     "iopub.execute_input": "2025-08-19T18:03:01.567344Z",
     "iopub.status.busy": "2025-08-19T18:03:01.566194Z",
     "iopub.status.idle": "2025-08-19T18:03:01.577390Z",
     "shell.execute_reply": "2025-08-19T18:03:01.576199Z"
    },
    "papermill": {
     "duration": 0.04197,
     "end_time": "2025-08-19T18:03:01.579471",
     "exception": false,
     "start_time": "2025-08-19T18:03:01.537501",
     "status": "completed"
    },
    "tags": []
   },
   "outputs": [
    {
     "data": {
      "text/plain": [
       "0.6562581887236825"
      ]
     },
     "execution_count": 42,
     "metadata": {},
     "output_type": "execute_result"
    }
   ],
   "source": [
    "q_hat"
   ]
  },
  {
   "cell_type": "code",
   "execution_count": 43,
   "id": "aa1f5faa",
   "metadata": {
    "execution": {
     "iopub.execute_input": "2025-08-19T18:03:01.613591Z",
     "iopub.status.busy": "2025-08-19T18:03:01.613193Z",
     "iopub.status.idle": "2025-08-19T18:03:02.175400Z",
     "shell.execute_reply": "2025-08-19T18:03:02.174423Z"
    },
    "papermill": {
     "duration": 0.577542,
     "end_time": "2025-08-19T18:03:02.178231",
     "exception": false,
     "start_time": "2025-08-19T18:03:01.600689",
     "status": "completed"
    },
    "tags": []
   },
   "outputs": [],
   "source": [
    "from fairness_multiverse.conformal import predict_conformal_sets\n",
    "\n",
    "# Generate prediction sets for each test example\n",
    "pred_sets = predict_conformal_sets(model, X_test, q_hat)"
   ]
  },
  {
   "cell_type": "code",
   "execution_count": 44,
   "id": "97f67a6b",
   "metadata": {
    "execution": {
     "iopub.execute_input": "2025-08-19T18:03:02.232058Z",
     "iopub.status.busy": "2025-08-19T18:03:02.231666Z",
     "iopub.status.idle": "2025-08-19T18:03:02.237736Z",
     "shell.execute_reply": "2025-08-19T18:03:02.236952Z"
    },
    "papermill": {
     "duration": 0.034412,
     "end_time": "2025-08-19T18:03:02.241010",
     "exception": false,
     "start_time": "2025-08-19T18:03:02.206598",
     "status": "completed"
    },
    "tags": []
   },
   "outputs": [],
   "source": [
    "y_true = y_true.squeeze()"
   ]
  },
  {
   "cell_type": "code",
   "execution_count": 45,
   "id": "e700e9a7",
   "metadata": {
    "execution": {
     "iopub.execute_input": "2025-08-19T18:03:02.294162Z",
     "iopub.status.busy": "2025-08-19T18:03:02.293692Z",
     "iopub.status.idle": "2025-08-19T18:03:02.791787Z",
     "shell.execute_reply": "2025-08-19T18:03:02.790545Z"
    },
    "papermill": {
     "duration": 0.524657,
     "end_time": "2025-08-19T18:03:02.793614",
     "exception": false,
     "start_time": "2025-08-19T18:03:02.268957",
     "status": "completed"
    },
    "tags": []
   },
   "outputs": [],
   "source": [
    "from fairness_multiverse.conformal import evaluate_sets\n",
    "\n",
    "# Evaluate coverage and average set size on test data\n",
    "metrics = evaluate_sets(pred_sets, y_true)"
   ]
  },
  {
   "cell_type": "markdown",
   "id": "efbacec0",
   "metadata": {
    "papermill": {
     "duration": 0.011606,
     "end_time": "2025-08-19T18:03:02.817642",
     "exception": false,
     "start_time": "2025-08-19T18:03:02.806036",
     "status": "completed"
    },
    "tags": []
   },
   "source": [
    "# CP Metrics"
   ]
  },
  {
   "cell_type": "code",
   "execution_count": 46,
   "id": "9de55fb1",
   "metadata": {
    "execution": {
     "iopub.execute_input": "2025-08-19T18:03:02.842916Z",
     "iopub.status.busy": "2025-08-19T18:03:02.842365Z",
     "iopub.status.idle": "2025-08-19T18:03:02.849192Z",
     "shell.execute_reply": "2025-08-19T18:03:02.848514Z"
    },
    "papermill": {
     "duration": 0.02135,
     "end_time": "2025-08-19T18:03:02.850770",
     "exception": false,
     "start_time": "2025-08-19T18:03:02.829420",
     "status": "completed"
    },
    "tags": []
   },
   "outputs": [
    {
     "data": {
      "text/plain": [
       "{'coverage': 0.9133095530041244, 'avg_size': 1.2703489020176124}"
      ]
     },
     "execution_count": 46,
     "metadata": {},
     "output_type": "execute_result"
    }
   ],
   "source": [
    "metrics"
   ]
  },
  {
   "cell_type": "code",
   "execution_count": 47,
   "id": "64c340a1",
   "metadata": {
    "execution": {
     "iopub.execute_input": "2025-08-19T18:03:02.876457Z",
     "iopub.status.busy": "2025-08-19T18:03:02.876105Z",
     "iopub.status.idle": "2025-08-19T18:03:02.881153Z",
     "shell.execute_reply": "2025-08-19T18:03:02.880494Z"
    },
    "papermill": {
     "duration": 0.022241,
     "end_time": "2025-08-19T18:03:02.885602",
     "exception": false,
     "start_time": "2025-08-19T18:03:02.863361",
     "status": "completed"
    },
    "tags": []
   },
   "outputs": [],
   "source": [
    "example_universe = universe.copy()\n",
    "universe_training_year = example_universe.get(\"training_year\")\n",
    "universe_training_size = example_universe.get(\"training_size\")\n",
    "universe_scale = example_universe.get(\"scale\")\n",
    "universe_model = example_universe.get(\"model\")\n",
    "universe_exclude_features = example_universe.get(\"exclude_features\")\n",
    "universe_exclude_subgroups = example_universe.get(\"exclude_subgroups\")"
   ]
  },
  {
   "cell_type": "code",
   "execution_count": 48,
   "id": "dbb53cb4",
   "metadata": {
    "execution": {
     "iopub.execute_input": "2025-08-19T18:03:02.913811Z",
     "iopub.status.busy": "2025-08-19T18:03:02.913408Z",
     "iopub.status.idle": "2025-08-19T18:03:02.918337Z",
     "shell.execute_reply": "2025-08-19T18:03:02.917683Z"
    },
    "papermill": {
     "duration": 0.021271,
     "end_time": "2025-08-19T18:03:02.921426",
     "exception": false,
     "start_time": "2025-08-19T18:03:02.900155",
     "status": "completed"
    },
    "tags": []
   },
   "outputs": [],
   "source": [
    "cp_metrics_dict = {\n",
    "    \"universe_id\": [universe_id],\n",
    "    \"universe_training_year\": [universe_training_year],\n",
    "    \"universe_training_size\": [universe_training_size],\n",
    "    \"universe_scale\": [universe_scale],\n",
    "    \"universe_model\": [universe_model],\n",
    "    \"universe_exclude_features\": [universe_exclude_features],\n",
    "    \"universe_exclude_subgroups\": [universe_exclude_subgroups],\n",
    "    \"q_hat\": [q_hat],\n",
    "    \"coverage\": [metrics[\"coverage\"]],\n",
    "    \"avg_size\": [metrics[\"avg_size\"]],\n",
    "}"
   ]
  },
  {
   "cell_type": "code",
   "execution_count": 49,
   "id": "0d70d4b2",
   "metadata": {
    "execution": {
     "iopub.execute_input": "2025-08-19T18:03:02.963377Z",
     "iopub.status.busy": "2025-08-19T18:03:02.962647Z",
     "iopub.status.idle": "2025-08-19T18:03:02.974726Z",
     "shell.execute_reply": "2025-08-19T18:03:02.973605Z"
    },
    "papermill": {
     "duration": 0.028528,
     "end_time": "2025-08-19T18:03:02.976355",
     "exception": false,
     "start_time": "2025-08-19T18:03:02.947827",
     "status": "completed"
    },
    "tags": []
   },
   "outputs": [],
   "source": [
    "cp_metrics_df = pd.DataFrame(cp_metrics_dict)"
   ]
  },
  {
   "cell_type": "code",
   "execution_count": 50,
   "id": "b494403c",
   "metadata": {
    "execution": {
     "iopub.execute_input": "2025-08-19T18:03:03.015149Z",
     "iopub.status.busy": "2025-08-19T18:03:03.013957Z",
     "iopub.status.idle": "2025-08-19T18:03:03.040675Z",
     "shell.execute_reply": "2025-08-19T18:03:03.039771Z"
    },
    "papermill": {
     "duration": 0.045689,
     "end_time": "2025-08-19T18:03:03.043939",
     "exception": false,
     "start_time": "2025-08-19T18:03:02.998250",
     "status": "completed"
    },
    "tags": []
   },
   "outputs": [
    {
     "data": {
      "text/html": [
       "<div>\n",
       "<style scoped>\n",
       "    .dataframe tbody tr th:only-of-type {\n",
       "        vertical-align: middle;\n",
       "    }\n",
       "\n",
       "    .dataframe tbody tr th {\n",
       "        vertical-align: top;\n",
       "    }\n",
       "\n",
       "    .dataframe thead th {\n",
       "        text-align: right;\n",
       "    }\n",
       "</style>\n",
       "<table border=\"1\" class=\"dataframe\">\n",
       "  <thead>\n",
       "    <tr style=\"text-align: right;\">\n",
       "      <th></th>\n",
       "      <th>universe_id</th>\n",
       "      <th>universe_training_year</th>\n",
       "      <th>universe_training_size</th>\n",
       "      <th>universe_scale</th>\n",
       "      <th>universe_model</th>\n",
       "      <th>universe_exclude_features</th>\n",
       "      <th>universe_exclude_subgroups</th>\n",
       "      <th>q_hat</th>\n",
       "      <th>coverage</th>\n",
       "      <th>avg_size</th>\n",
       "    </tr>\n",
       "  </thead>\n",
       "  <tbody>\n",
       "    <tr>\n",
       "      <th>0</th>\n",
       "      <td>586b83af98d6eb18fb7c0460f21de287</td>\n",
       "      <td>2014</td>\n",
       "      <td>25k</td>\n",
       "      <td>do-not-scale</td>\n",
       "      <td>elasticnet</td>\n",
       "      <td>age</td>\n",
       "      <td>keep-all</td>\n",
       "      <td>0.656258</td>\n",
       "      <td>0.91331</td>\n",
       "      <td>1.270349</td>\n",
       "    </tr>\n",
       "  </tbody>\n",
       "</table>\n",
       "</div>"
      ],
      "text/plain": [
       "                        universe_id universe_training_year  \\\n",
       "0  586b83af98d6eb18fb7c0460f21de287                   2014   \n",
       "\n",
       "  universe_training_size universe_scale universe_model  \\\n",
       "0                    25k   do-not-scale     elasticnet   \n",
       "\n",
       "  universe_exclude_features universe_exclude_subgroups     q_hat  coverage  \\\n",
       "0                       age                   keep-all  0.656258   0.91331   \n",
       "\n",
       "   avg_size  \n",
       "0  1.270349  "
      ]
     },
     "execution_count": 50,
     "metadata": {},
     "output_type": "execute_result"
    }
   ],
   "source": [
    "cp_metrics_df"
   ]
  },
  {
   "cell_type": "markdown",
   "id": "ed608b0b",
   "metadata": {
    "papermill": {
     "duration": 0.012923,
     "end_time": "2025-08-19T18:03:03.079414",
     "exception": false,
     "start_time": "2025-08-19T18:03:03.066491",
     "status": "completed"
    },
    "tags": []
   },
   "source": [
    "Conditional coverage & looking at subgroups"
   ]
  },
  {
   "cell_type": "code",
   "execution_count": 51,
   "id": "8968c366",
   "metadata": {
    "execution": {
     "iopub.execute_input": "2025-08-19T18:03:03.105719Z",
     "iopub.status.busy": "2025-08-19T18:03:03.104886Z",
     "iopub.status.idle": "2025-08-19T18:03:03.391797Z",
     "shell.execute_reply": "2025-08-19T18:03:03.390749Z"
    },
    "papermill": {
     "duration": 0.303226,
     "end_time": "2025-08-19T18:03:03.394672",
     "exception": false,
     "start_time": "2025-08-19T18:03:03.091446",
     "status": "completed"
    },
    "tags": []
   },
   "outputs": [],
   "source": [
    "from fairness_multiverse.conformal import build_cp_groups\n",
    "\n",
    "cp_groups_df = build_cp_groups(pred_sets, y_true, X_test.index, org_test)"
   ]
  },
  {
   "cell_type": "code",
   "execution_count": 52,
   "id": "292ddabf",
   "metadata": {
    "execution": {
     "iopub.execute_input": "2025-08-19T18:03:03.452902Z",
     "iopub.status.busy": "2025-08-19T18:03:03.451513Z",
     "iopub.status.idle": "2025-08-19T18:03:04.327767Z",
     "shell.execute_reply": "2025-08-19T18:03:04.326533Z"
    },
    "papermill": {
     "duration": 0.893714,
     "end_time": "2025-08-19T18:03:04.329444",
     "exception": false,
     "start_time": "2025-08-19T18:03:03.435730",
     "status": "completed"
    },
    "tags": []
   },
   "outputs": [],
   "source": [
    "# Define covered = 1 if true_label is in the predicted set\n",
    "cp_groups_df['covered'] = cp_groups_df.apply(\n",
    "    lambda r: int(r['true_label'] in r['pred_set']),\n",
    "    axis=1\n",
    ")"
   ]
  },
  {
   "cell_type": "code",
   "execution_count": 53,
   "id": "3a261692",
   "metadata": {
    "execution": {
     "iopub.execute_input": "2025-08-19T18:03:04.358356Z",
     "iopub.status.busy": "2025-08-19T18:03:04.357352Z",
     "iopub.status.idle": "2025-08-19T18:03:04.392015Z",
     "shell.execute_reply": "2025-08-19T18:03:04.391144Z"
    },
    "papermill": {
     "duration": 0.050227,
     "end_time": "2025-08-19T18:03:04.393567",
     "exception": false,
     "start_time": "2025-08-19T18:03:04.343340",
     "status": "completed"
    },
    "tags": []
   },
   "outputs": [],
   "source": [
    "subgroups = ['frau1','nongerman','nongerman_male','nongerman_female']\n",
    "\n",
    "# Conditional coverage for subgroup==1\n",
    "cond_coverage = {\n",
    "    g: cp_groups_df.loc[cp_groups_df[g]==1, 'covered'].mean()\n",
    "    for g in subgroups\n",
    "}"
   ]
  },
  {
   "cell_type": "code",
   "execution_count": 54,
   "id": "894fd600",
   "metadata": {
    "execution": {
     "iopub.execute_input": "2025-08-19T18:03:04.429421Z",
     "iopub.status.busy": "2025-08-19T18:03:04.427996Z",
     "iopub.status.idle": "2025-08-19T18:03:04.451239Z",
     "shell.execute_reply": "2025-08-19T18:03:04.449514Z"
    },
    "papermill": {
     "duration": 0.039001,
     "end_time": "2025-08-19T18:03:04.452633",
     "exception": false,
     "start_time": "2025-08-19T18:03:04.413632",
     "status": "completed"
    },
    "tags": []
   },
   "outputs": [
    {
     "data": {
      "text/plain": [
       "{'frau1': 0.9122792829222267,\n",
       " 'nongerman': 0.9650816819177006,\n",
       " 'nongerman_male': 0.9724398811132127,\n",
       " 'nongerman_female': 0.9529061102831594}"
      ]
     },
     "execution_count": 54,
     "metadata": {},
     "output_type": "execute_result"
    }
   ],
   "source": [
    "cond_coverage"
   ]
  },
  {
   "cell_type": "code",
   "execution_count": 55,
   "id": "942895c7",
   "metadata": {
    "execution": {
     "iopub.execute_input": "2025-08-19T18:03:04.500077Z",
     "iopub.status.busy": "2025-08-19T18:03:04.498020Z",
     "iopub.status.idle": "2025-08-19T18:03:04.510824Z",
     "shell.execute_reply": "2025-08-19T18:03:04.509650Z"
    },
    "papermill": {
     "duration": 0.030727,
     "end_time": "2025-08-19T18:03:04.513772",
     "exception": false,
     "start_time": "2025-08-19T18:03:04.483045",
     "status": "completed"
    },
    "tags": []
   },
   "outputs": [],
   "source": [
    "for subgroup, cov in cond_coverage.items():\n",
    "    cp_metrics_df[f\"cov_{subgroup}\"] = cov"
   ]
  },
  {
   "cell_type": "code",
   "execution_count": 56,
   "id": "3970120f",
   "metadata": {
    "execution": {
     "iopub.execute_input": "2025-08-19T18:03:04.559332Z",
     "iopub.status.busy": "2025-08-19T18:03:04.557994Z",
     "iopub.status.idle": "2025-08-19T18:03:04.591453Z",
     "shell.execute_reply": "2025-08-19T18:03:04.590642Z"
    },
    "papermill": {
     "duration": 0.054447,
     "end_time": "2025-08-19T18:03:04.593526",
     "exception": false,
     "start_time": "2025-08-19T18:03:04.539079",
     "status": "completed"
    },
    "tags": []
   },
   "outputs": [
    {
     "data": {
      "text/html": [
       "<div>\n",
       "<style scoped>\n",
       "    .dataframe tbody tr th:only-of-type {\n",
       "        vertical-align: middle;\n",
       "    }\n",
       "\n",
       "    .dataframe tbody tr th {\n",
       "        vertical-align: top;\n",
       "    }\n",
       "\n",
       "    .dataframe thead th {\n",
       "        text-align: right;\n",
       "    }\n",
       "</style>\n",
       "<table border=\"1\" class=\"dataframe\">\n",
       "  <thead>\n",
       "    <tr style=\"text-align: right;\">\n",
       "      <th></th>\n",
       "      <th>universe_id</th>\n",
       "      <th>universe_training_year</th>\n",
       "      <th>universe_training_size</th>\n",
       "      <th>universe_scale</th>\n",
       "      <th>universe_model</th>\n",
       "      <th>universe_exclude_features</th>\n",
       "      <th>universe_exclude_subgroups</th>\n",
       "      <th>q_hat</th>\n",
       "      <th>coverage</th>\n",
       "      <th>avg_size</th>\n",
       "      <th>cov_frau1</th>\n",
       "      <th>cov_nongerman</th>\n",
       "      <th>cov_nongerman_male</th>\n",
       "      <th>cov_nongerman_female</th>\n",
       "    </tr>\n",
       "  </thead>\n",
       "  <tbody>\n",
       "    <tr>\n",
       "      <th>0</th>\n",
       "      <td>586b83af98d6eb18fb7c0460f21de287</td>\n",
       "      <td>2014</td>\n",
       "      <td>25k</td>\n",
       "      <td>do-not-scale</td>\n",
       "      <td>elasticnet</td>\n",
       "      <td>age</td>\n",
       "      <td>keep-all</td>\n",
       "      <td>0.656258</td>\n",
       "      <td>0.91331</td>\n",
       "      <td>1.270349</td>\n",
       "      <td>0.912279</td>\n",
       "      <td>0.965082</td>\n",
       "      <td>0.97244</td>\n",
       "      <td>0.952906</td>\n",
       "    </tr>\n",
       "  </tbody>\n",
       "</table>\n",
       "</div>"
      ],
      "text/plain": [
       "                        universe_id universe_training_year  \\\n",
       "0  586b83af98d6eb18fb7c0460f21de287                   2014   \n",
       "\n",
       "  universe_training_size universe_scale universe_model  \\\n",
       "0                    25k   do-not-scale     elasticnet   \n",
       "\n",
       "  universe_exclude_features universe_exclude_subgroups     q_hat  coverage  \\\n",
       "0                       age                   keep-all  0.656258   0.91331   \n",
       "\n",
       "   avg_size  cov_frau1  cov_nongerman  cov_nongerman_male  \\\n",
       "0  1.270349   0.912279       0.965082             0.97244   \n",
       "\n",
       "   cov_nongerman_female  \n",
       "0              0.952906  "
      ]
     },
     "execution_count": 56,
     "metadata": {},
     "output_type": "execute_result"
    }
   ],
   "source": [
    "cp_metrics_df"
   ]
  },
  {
   "cell_type": "markdown",
   "id": "3fc519cc",
   "metadata": {
    "papermill": {
     "duration": 0.013077,
     "end_time": "2025-08-19T18:03:04.624413",
     "exception": false,
     "start_time": "2025-08-19T18:03:04.611336",
     "status": "completed"
    },
    "tags": []
   },
   "source": [
    "# (Fairness) Metrics"
   ]
  },
  {
   "cell_type": "code",
   "execution_count": 57,
   "id": "a2e5e155",
   "metadata": {
    "execution": {
     "iopub.execute_input": "2025-08-19T18:03:04.653034Z",
     "iopub.status.busy": "2025-08-19T18:03:04.652601Z",
     "iopub.status.idle": "2025-08-19T18:03:04.679873Z",
     "shell.execute_reply": "2025-08-19T18:03:04.678923Z"
    },
    "papermill": {
     "duration": 0.044102,
     "end_time": "2025-08-19T18:03:04.681816",
     "exception": false,
     "start_time": "2025-08-19T18:03:04.637714",
     "status": "completed"
    },
    "tags": []
   },
   "outputs": [],
   "source": [
    "colname_to_bin = \"maxdeutsch1\"\n",
    "majority_value = org_train[colname_to_bin].mode()[0]\n",
    "\n",
    "org_test[\"majmin\"] = np.where(org_test[colname_to_bin] == majority_value, \"majority\", \"minority\")"
   ]
  },
  {
   "cell_type": "code",
   "execution_count": 58,
   "id": "17e3e4d5",
   "metadata": {
    "execution": {
     "iopub.execute_input": "2025-08-19T18:03:04.722842Z",
     "iopub.status.busy": "2025-08-19T18:03:04.722391Z",
     "iopub.status.idle": "2025-08-19T18:03:06.488378Z",
     "shell.execute_reply": "2025-08-19T18:03:06.487275Z"
    },
    "papermill": {
     "duration": 1.783334,
     "end_time": "2025-08-19T18:03:06.490051",
     "exception": false,
     "start_time": "2025-08-19T18:03:04.706717",
     "status": "completed"
    },
    "tags": []
   },
   "outputs": [],
   "source": [
    "example_universe = universe.copy()\n",
    "example_universe[\"cutoff\"] = example_universe[\"cutoff\"][0]\n",
    "example_universe[\"eval_fairness_grouping\"] = example_universe[\"eval_fairness_grouping\"][0]\n",
    "fairness_dict, metric_frame = universe_analysis.compute_metrics(\n",
    "    example_universe,\n",
    "    y_pred_prob=probs_test,\n",
    "    y_test=y_true,\n",
    "    org_test=org_test,\n",
    ")"
   ]
  },
  {
   "cell_type": "markdown",
   "id": "1fb7a0e9",
   "metadata": {
    "papermill": {
     "duration": 0.012313,
     "end_time": "2025-08-19T18:03:06.515731",
     "exception": false,
     "start_time": "2025-08-19T18:03:06.503418",
     "status": "completed"
    },
    "tags": []
   },
   "source": [
    "# Overall"
   ]
  },
  {
   "cell_type": "markdown",
   "id": "be1784b1",
   "metadata": {
    "papermill": {
     "duration": 0.012029,
     "end_time": "2025-08-19T18:03:06.539922",
     "exception": false,
     "start_time": "2025-08-19T18:03:06.527893",
     "status": "completed"
    },
    "tags": []
   },
   "source": [
    "Main fairness target: Equalized Odds. Seems to be a better fit than equal opportunity, since we're not only interested in Y = 1. Seems to be a better fit than demographic parity, since we also care about accuracy, not just equal distribution of preds.\n",
    "\n",
    "Pick column for computation of fairness metrics\n",
    "\n",
    "Performance\n",
    "Overall performance measures, most interesting in relation to the measures split by group below"
   ]
  },
  {
   "cell_type": "code",
   "execution_count": 59,
   "id": "b7672bee",
   "metadata": {
    "execution": {
     "iopub.execute_input": "2025-08-19T18:03:06.565692Z",
     "iopub.status.busy": "2025-08-19T18:03:06.565259Z",
     "iopub.status.idle": "2025-08-19T18:03:06.573021Z",
     "shell.execute_reply": "2025-08-19T18:03:06.572294Z"
    },
    "papermill": {
     "duration": 0.022312,
     "end_time": "2025-08-19T18:03:06.574228",
     "exception": false,
     "start_time": "2025-08-19T18:03:06.551916",
     "status": "completed"
    },
    "tags": []
   },
   "outputs": [
    {
     "data": {
      "text/plain": [
       "accuracy                   0.213900\n",
       "balanced accuracy          0.525210\n",
       "f1                         0.235520\n",
       "precision                  0.134545\n",
       "false positive rate        0.893532\n",
       "false negative rate        0.056048\n",
       "selection rate             0.900000\n",
       "count                  89710.000000\n",
       "dtype: float64"
      ]
     },
     "execution_count": 59,
     "metadata": {},
     "output_type": "execute_result"
    }
   ],
   "source": [
    "metric_frame.overall"
   ]
  },
  {
   "cell_type": "markdown",
   "id": "d93333c9",
   "metadata": {
    "papermill": {
     "duration": 0.012299,
     "end_time": "2025-08-19T18:03:06.600500",
     "exception": false,
     "start_time": "2025-08-19T18:03:06.588201",
     "status": "completed"
    },
    "tags": []
   },
   "source": [
    "By Group"
   ]
  },
  {
   "cell_type": "code",
   "execution_count": 60,
   "id": "52256966",
   "metadata": {
    "execution": {
     "iopub.execute_input": "2025-08-19T18:03:06.626176Z",
     "iopub.status.busy": "2025-08-19T18:03:06.625843Z",
     "iopub.status.idle": "2025-08-19T18:03:06.645504Z",
     "shell.execute_reply": "2025-08-19T18:03:06.644561Z"
    },
    "papermill": {
     "duration": 0.034774,
     "end_time": "2025-08-19T18:03:06.647513",
     "exception": false,
     "start_time": "2025-08-19T18:03:06.612739",
     "status": "completed"
    },
    "tags": []
   },
   "outputs": [
    {
     "data": {
      "text/html": [
       "<div>\n",
       "<style scoped>\n",
       "    .dataframe tbody tr th:only-of-type {\n",
       "        vertical-align: middle;\n",
       "    }\n",
       "\n",
       "    .dataframe tbody tr th {\n",
       "        vertical-align: top;\n",
       "    }\n",
       "\n",
       "    .dataframe thead th {\n",
       "        text-align: right;\n",
       "    }\n",
       "</style>\n",
       "<table border=\"1\" class=\"dataframe\">\n",
       "  <thead>\n",
       "    <tr style=\"text-align: right;\">\n",
       "      <th></th>\n",
       "      <th>accuracy</th>\n",
       "      <th>balanced accuracy</th>\n",
       "      <th>f1</th>\n",
       "      <th>precision</th>\n",
       "      <th>false positive rate</th>\n",
       "      <th>false negative rate</th>\n",
       "      <th>selection rate</th>\n",
       "      <th>count</th>\n",
       "    </tr>\n",
       "    <tr>\n",
       "      <th>majmin</th>\n",
       "      <th></th>\n",
       "      <th></th>\n",
       "      <th></th>\n",
       "      <th></th>\n",
       "      <th></th>\n",
       "      <th></th>\n",
       "      <th></th>\n",
       "      <th></th>\n",
       "    </tr>\n",
       "  </thead>\n",
       "  <tbody>\n",
       "    <tr>\n",
       "      <th>majority</th>\n",
       "      <td>0.234712</td>\n",
       "      <td>0.531641</td>\n",
       "      <td>0.244120</td>\n",
       "      <td>0.140382</td>\n",
       "      <td>0.871947</td>\n",
       "      <td>0.064770</td>\n",
       "      <td>0.880309</td>\n",
       "      <td>69170.0</td>\n",
       "    </tr>\n",
       "    <tr>\n",
       "      <th>minority</th>\n",
       "      <td>0.143817</td>\n",
       "      <td>0.506391</td>\n",
       "      <td>0.208408</td>\n",
       "      <td>0.116636</td>\n",
       "      <td>0.964836</td>\n",
       "      <td>0.022382</td>\n",
       "      <td>0.966310</td>\n",
       "      <td>20540.0</td>\n",
       "    </tr>\n",
       "  </tbody>\n",
       "</table>\n",
       "</div>"
      ],
      "text/plain": [
       "          accuracy  balanced accuracy        f1  precision  \\\n",
       "majmin                                                       \n",
       "majority  0.234712           0.531641  0.244120   0.140382   \n",
       "minority  0.143817           0.506391  0.208408   0.116636   \n",
       "\n",
       "          false positive rate  false negative rate  selection rate    count  \n",
       "majmin                                                                       \n",
       "majority             0.871947             0.064770        0.880309  69170.0  \n",
       "minority             0.964836             0.022382        0.966310  20540.0  "
      ]
     },
     "execution_count": 60,
     "metadata": {},
     "output_type": "execute_result"
    }
   ],
   "source": [
    "metric_frame.by_group"
   ]
  },
  {
   "cell_type": "code",
   "execution_count": 61,
   "id": "6e6c20ae",
   "metadata": {
    "execution": {
     "iopub.execute_input": "2025-08-19T18:03:06.680817Z",
     "iopub.status.busy": "2025-08-19T18:03:06.680445Z",
     "iopub.status.idle": "2025-08-19T18:03:08.576233Z",
     "shell.execute_reply": "2025-08-19T18:03:08.575303Z"
    },
    "papermill": {
     "duration": 1.911079,
     "end_time": "2025-08-19T18:03:08.577830",
     "exception": false,
     "start_time": "2025-08-19T18:03:06.666751",
     "status": "completed"
    },
    "tags": []
   },
   "outputs": [
    {
     "data": {
      "text/plain": [
       "array([[<Axes: title={'center': 'accuracy'}, xlabel='majmin'>,\n",
       "        <Axes: title={'center': 'balanced accuracy'}, xlabel='majmin'>,\n",
       "        <Axes: title={'center': 'f1'}, xlabel='majmin'>],\n",
       "       [<Axes: title={'center': 'precision'}, xlabel='majmin'>,\n",
       "        <Axes: title={'center': 'false positive rate'}, xlabel='majmin'>,\n",
       "        <Axes: title={'center': 'false negative rate'}, xlabel='majmin'>],\n",
       "       [<Axes: title={'center': 'selection rate'}, xlabel='majmin'>,\n",
       "        <Axes: title={'center': 'count'}, xlabel='majmin'>,\n",
       "        <Axes: xlabel='majmin'>]], dtype=object)"
      ]
     },
     "execution_count": 61,
     "metadata": {},
     "output_type": "execute_result"
    },
    {
     "data": {
      "image/png": "[encoded data removed]",
      "text/plain": [
       "<Figure size 1200x800 with 9 Axes>"
      ]
     },
     "metadata": {},
     "output_type": "display_data"
    }
   ],
   "source": [
    "# In a graphic\n",
    "metric_frame.by_group.plot.bar(\n",
    "    subplots=True,\n",
    "    layout=[3, 3],\n",
    "    legend=False,\n",
    "    figsize=[12, 8],\n",
    "    title=\"Show all metrics\",\n",
    ")"
   ]
  },
  {
   "cell_type": "markdown",
   "id": "b2e433ae",
   "metadata": {
    "papermill": {
     "duration": 0.014275,
     "end_time": "2025-08-19T18:03:08.609653",
     "exception": false,
     "start_time": "2025-08-19T18:03:08.595378",
     "status": "completed"
    },
    "tags": []
   },
   "source": [
    "# Final Output"
   ]
  },
  {
   "cell_type": "code",
   "execution_count": 62,
   "id": "3871301e",
   "metadata": {
    "execution": {
     "iopub.execute_input": "2025-08-19T18:03:08.643277Z",
     "iopub.status.busy": "2025-08-19T18:03:08.642422Z",
     "iopub.status.idle": "2025-08-19T18:03:08.652356Z",
     "shell.execute_reply": "2025-08-19T18:03:08.651594Z"
    },
    "papermill": {
     "duration": 0.03695,
     "end_time": "2025-08-19T18:03:08.660703",
     "exception": false,
     "start_time": "2025-08-19T18:03:08.623753",
     "status": "completed"
    },
    "tags": []
   },
   "outputs": [
    {
     "data": {
      "text/plain": [
       "4"
      ]
     },
     "execution_count": 62,
     "metadata": {},
     "output_type": "execute_result"
    }
   ],
   "source": [
    "sub_universes = universe_analysis.generate_sub_universes()\n",
    "len(sub_universes)"
   ]
  },
  {
   "cell_type": "code",
   "execution_count": 63,
   "id": "d9cfdaca",
   "metadata": {
    "execution": {
     "iopub.execute_input": "2025-08-19T18:03:08.691345Z",
     "iopub.status.busy": "2025-08-19T18:03:08.690929Z",
     "iopub.status.idle": "2025-08-19T18:03:08.720957Z",
     "shell.execute_reply": "2025-08-19T18:03:08.719959Z"
    },
    "papermill": {
     "duration": 0.047002,
     "end_time": "2025-08-19T18:03:08.723010",
     "exception": false,
     "start_time": "2025-08-19T18:03:08.676008",
     "status": "completed"
    },
    "tags": []
   },
   "outputs": [],
   "source": [
    "def filter_sub_universe_data(sub_universe, org_test):\n",
    "    # Keep all rows — no filtering\n",
    "    keep_rows_mask = np.ones(org_test.shape[0], dtype=bool)\n",
    "\n",
    "    print(f\"[INFO] Keeping all rows: {keep_rows_mask.sum()} rows retained.\")\n",
    "    return keep_rows_mask"
   ]
  },
  {
   "cell_type": "code",
   "execution_count": 64,
   "id": "2bc31ac1",
   "metadata": {
    "execution": {
     "iopub.execute_input": "2025-08-19T18:03:08.764576Z",
     "iopub.status.busy": "2025-08-19T18:03:08.764138Z",
     "iopub.status.idle": "2025-08-19T18:03:15.672644Z",
     "shell.execute_reply": "2025-08-19T18:03:15.671599Z"
    },
    "papermill": {
     "duration": 6.92556,
     "end_time": "2025-08-19T18:03:15.673835",
     "exception": false,
     "start_time": "2025-08-19T18:03:08.748275",
     "status": "completed"
    },
    "tags": []
   },
   "outputs": [
    {
     "name": "stdout",
     "output_type": "stream",
     "text": [
      "Stopping execution_time clock.\n",
      "[INFO] Keeping all rows: 89710 rows retained.\n"
     ]
    },
    {
     "name": "stdout",
     "output_type": "stream",
     "text": [
      "[INFO] Keeping all rows: 89710 rows retained.\n"
     ]
    },
    {
     "name": "stdout",
     "output_type": "stream",
     "text": [
      "[INFO] Keeping all rows: 89710 rows retained.\n"
     ]
    },
    {
     "name": "stdout",
     "output_type": "stream",
     "text": [
      "[INFO] Keeping all rows: 89710 rows retained.\n"
     ]
    },
    {
     "data": {
      "text/html": [
       "<div>\n",
       "<style scoped>\n",
       "    .dataframe tbody tr th:only-of-type {\n",
       "        vertical-align: middle;\n",
       "    }\n",
       "\n",
       "    .dataframe tbody tr th {\n",
       "        vertical-align: top;\n",
       "    }\n",
       "\n",
       "    .dataframe thead th {\n",
       "        text-align: right;\n",
       "    }\n",
       "</style>\n",
       "<table border=\"1\" class=\"dataframe\">\n",
       "  <thead>\n",
       "    <tr style=\"text-align: right;\">\n",
       "      <th></th>\n",
       "      <th>run_no</th>\n",
       "      <th>universe_id</th>\n",
       "      <th>universe_settings</th>\n",
       "      <th>execution_time</th>\n",
       "      <th>test_size_n</th>\n",
       "      <th>test_size_frac</th>\n",
       "      <th>fair_main_equalized_odds_difference</th>\n",
       "      <th>fair_main_equalized_odds_ratio</th>\n",
       "      <th>fair_main_demographic_parity_difference</th>\n",
       "      <th>fair_main_demographic_parity_ratio</th>\n",
       "      <th>...</th>\n",
       "      <th>perf_grp_precision_0</th>\n",
       "      <th>perf_grp_precision_1</th>\n",
       "      <th>perf_grp_false positive rate_0</th>\n",
       "      <th>perf_grp_false positive rate_1</th>\n",
       "      <th>perf_grp_false negative rate_0</th>\n",
       "      <th>perf_grp_false negative rate_1</th>\n",
       "      <th>perf_grp_selection rate_0</th>\n",
       "      <th>perf_grp_selection rate_1</th>\n",
       "      <th>perf_grp_count_0</th>\n",
       "      <th>perf_grp_count_1</th>\n",
       "    </tr>\n",
       "  </thead>\n",
       "  <tbody>\n",
       "    <tr>\n",
       "      <th>0</th>\n",
       "      <td>3</td>\n",
       "      <td>586b83af98d6eb18fb7c0460f21de287</td>\n",
       "      <td>{\"cutoff\": \"quantile_0.1\", \"eval_fairness_grou...</td>\n",
       "      <td>27.122455</td>\n",
       "      <td>89710</td>\n",
       "      <td>1.0</td>\n",
       "      <td>0.092889</td>\n",
       "      <td>0.903726</td>\n",
       "      <td>0.086000</td>\n",
       "      <td>0.911001</td>\n",
       "      <td>...</td>\n",
       "      <td>NaN</td>\n",
       "      <td>NaN</td>\n",
       "      <td>NaN</td>\n",
       "      <td>NaN</td>\n",
       "      <td>NaN</td>\n",
       "      <td>NaN</td>\n",
       "      <td>NaN</td>\n",
       "      <td>NaN</td>\n",
       "      <td>NaN</td>\n",
       "      <td>NaN</td>\n",
       "    </tr>\n",
       "    <tr>\n",
       "      <th>0</th>\n",
       "      <td>3</td>\n",
       "      <td>586b83af98d6eb18fb7c0460f21de287</td>\n",
       "      <td>{\"cutoff\": \"quantile_0.1\", \"eval_fairness_grou...</td>\n",
       "      <td>27.122455</td>\n",
       "      <td>89710</td>\n",
       "      <td>1.0</td>\n",
       "      <td>0.092889</td>\n",
       "      <td>0.903726</td>\n",
       "      <td>0.086000</td>\n",
       "      <td>0.911001</td>\n",
       "      <td>...</td>\n",
       "      <td>0.116636</td>\n",
       "      <td>0.140382</td>\n",
       "      <td>0.964836</td>\n",
       "      <td>0.871947</td>\n",
       "      <td>0.022382</td>\n",
       "      <td>0.064770</td>\n",
       "      <td>0.96631</td>\n",
       "      <td>0.880309</td>\n",
       "      <td>20540.0</td>\n",
       "      <td>69170.0</td>\n",
       "    </tr>\n",
       "    <tr>\n",
       "      <th>0</th>\n",
       "      <td>3</td>\n",
       "      <td>586b83af98d6eb18fb7c0460f21de287</td>\n",
       "      <td>{\"cutoff\": \"quantile_0.25\", \"eval_fairness_gro...</td>\n",
       "      <td>27.122455</td>\n",
       "      <td>89710</td>\n",
       "      <td>1.0</td>\n",
       "      <td>0.226860</td>\n",
       "      <td>0.750786</td>\n",
       "      <td>0.211851</td>\n",
       "      <td>0.768048</td>\n",
       "      <td>...</td>\n",
       "      <td>NaN</td>\n",
       "      <td>NaN</td>\n",
       "      <td>NaN</td>\n",
       "      <td>NaN</td>\n",
       "      <td>NaN</td>\n",
       "      <td>NaN</td>\n",
       "      <td>NaN</td>\n",
       "      <td>NaN</td>\n",
       "      <td>NaN</td>\n",
       "      <td>NaN</td>\n",
       "    </tr>\n",
       "    <tr>\n",
       "      <th>0</th>\n",
       "      <td>3</td>\n",
       "      <td>586b83af98d6eb18fb7c0460f21de287</td>\n",
       "      <td>{\"cutoff\": \"quantile_0.25\", \"eval_fairness_gro...</td>\n",
       "      <td>27.122455</td>\n",
       "      <td>89710</td>\n",
       "      <td>1.0</td>\n",
       "      <td>0.226860</td>\n",
       "      <td>0.750786</td>\n",
       "      <td>0.211851</td>\n",
       "      <td>0.768048</td>\n",
       "      <td>...</td>\n",
       "      <td>0.118230</td>\n",
       "      <td>0.154466</td>\n",
       "      <td>0.910302</td>\n",
       "      <td>0.683442</td>\n",
       "      <td>0.063345</td>\n",
       "      <td>0.179978</td>\n",
       "      <td>0.91334</td>\n",
       "      <td>0.701489</td>\n",
       "      <td>20540.0</td>\n",
       "      <td>69170.0</td>\n",
       "    </tr>\n",
       "  </tbody>\n",
       "</table>\n",
       "<p>4 rows × 50 columns</p>\n",
       "</div>"
      ],
      "text/plain": [
       "  run_no                       universe_id  \\\n",
       "0      3  586b83af98d6eb18fb7c0460f21de287   \n",
       "0      3  586b83af98d6eb18fb7c0460f21de287   \n",
       "0      3  586b83af98d6eb18fb7c0460f21de287   \n",
       "0      3  586b83af98d6eb18fb7c0460f21de287   \n",
       "\n",
       "                                   universe_settings  execution_time  \\\n",
       "0  {\"cutoff\": \"quantile_0.1\", \"eval_fairness_grou...       27.122455   \n",
       "0  {\"cutoff\": \"quantile_0.1\", \"eval_fairness_grou...       27.122455   \n",
       "0  {\"cutoff\": \"quantile_0.25\", \"eval_fairness_gro...       27.122455   \n",
       "0  {\"cutoff\": \"quantile_0.25\", \"eval_fairness_gro...       27.122455   \n",
       "\n",
       "   test_size_n  test_size_frac  fair_main_equalized_odds_difference  \\\n",
       "0        89710             1.0                             0.092889   \n",
       "0        89710             1.0                             0.092889   \n",
       "0        89710             1.0                             0.226860   \n",
       "0        89710             1.0                             0.226860   \n",
       "\n",
       "   fair_main_equalized_odds_ratio  fair_main_demographic_parity_difference  \\\n",
       "0                        0.903726                                 0.086000   \n",
       "0                        0.903726                                 0.086000   \n",
       "0                        0.750786                                 0.211851   \n",
       "0                        0.750786                                 0.211851   \n",
       "\n",
       "   fair_main_demographic_parity_ratio  ...  perf_grp_precision_0  \\\n",
       "0                            0.911001  ...                   NaN   \n",
       "0                            0.911001  ...              0.116636   \n",
       "0                            0.768048  ...                   NaN   \n",
       "0                            0.768048  ...              0.118230   \n",
       "\n",
       "   perf_grp_precision_1  perf_grp_false positive rate_0  \\\n",
       "0                   NaN                             NaN   \n",
       "0              0.140382                        0.964836   \n",
       "0                   NaN                             NaN   \n",
       "0              0.154466                        0.910302   \n",
       "\n",
       "   perf_grp_false positive rate_1  perf_grp_false negative rate_0  \\\n",
       "0                             NaN                             NaN   \n",
       "0                        0.871947                        0.022382   \n",
       "0                             NaN                             NaN   \n",
       "0                        0.683442                        0.063345   \n",
       "\n",
       "   perf_grp_false negative rate_1  perf_grp_selection rate_0  \\\n",
       "0                             NaN                        NaN   \n",
       "0                        0.064770                    0.96631   \n",
       "0                             NaN                        NaN   \n",
       "0                        0.179978                    0.91334   \n",
       "\n",
       "   perf_grp_selection rate_1  perf_grp_count_0  perf_grp_count_1  \n",
       "0                        NaN               NaN               NaN  \n",
       "0                   0.880309           20540.0           69170.0  \n",
       "0                        NaN               NaN               NaN  \n",
       "0                   0.701489           20540.0           69170.0  \n",
       "\n",
       "[4 rows x 50 columns]"
      ]
     },
     "execution_count": 64,
     "metadata": {},
     "output_type": "execute_result"
    }
   ],
   "source": [
    "final_output = universe_analysis.generate_final_output(\n",
    "    y_pred_prob=probs_test,\n",
    "    y_test=y_true,\n",
    "    org_test=org_test,\n",
    "    filter_data=filter_sub_universe_data,\n",
    "    cp_metrics_df=cp_metrics_df,\n",
    "    save=True,\n",
    ")\n",
    "final_output"
   ]
  },
  {
   "cell_type": "code",
   "execution_count": null,
   "id": "8b80a1ff",
   "metadata": {
    "papermill": {
     "duration": 0.014374,
     "end_time": "2025-08-19T18:03:15.706743",
     "exception": false,
     "start_time": "2025-08-19T18:03:15.692369",
     "status": "completed"
    },
    "tags": []
   },
   "outputs": [],
   "source": []
  },
  {
   "cell_type": "code",
   "execution_count": null,
   "id": "275c9fad",
   "metadata": {
    "papermill": {
     "duration": 0.01407,
     "end_time": "2025-08-19T18:03:15.735081",
     "exception": false,
     "start_time": "2025-08-19T18:03:15.721011",
     "status": "completed"
    },
    "tags": []
   },
   "outputs": [],
   "source": []
  }
 ],
 "metadata": {
  "celltoolbar": "Tags",
  "kernelspec": {
   "display_name": "Python (CMA Fairness)",
   "language": "python",
   "name": "cma_fair_env"
  },
  "language_info": {
   "codemirror_mode": {
    "name": "ipython",
    "version": 3
   },
   "file_extension": ".py",
   "mimetype": "text/x-python",
   "name": "python",
   "nbconvert_exporter": "python",
   "pygments_lexer": "ipython3",
   "version": "3.10.12"
  },
  "papermill": {
   "default_parameters": {},
   "duration": 37.805761,
   "end_time": "2025-08-19T18:03:16.571967",
   "environment_variables": {},
   "exception": null,
   "input_path": "universe_analysis.ipynb",
   "output_path": "output/runs/3/notebooks/m_3-586b83af98d6eb18fb7c0460f21de287.ipynb",
   "parameters": {
    "output_dir": "output",
    "run_no": "3",
    "seed": "2023",
    "universe": "{\"cutoff\": [\"quantile_0.1\", \"quantile_0.25\"], \"eval_fairness_grouping\": [\"majority-minority\", \"nationality-all\"], \"exclude_features\": \"age\", \"exclude_subgroups\": \"keep-all\", \"model\": \"elasticnet\", \"scale\": \"do-not-scale\", \"training_size\": \"25k\", \"training_year\": \"2014\"}",
    "universe_id": "586b83af98d6eb18fb7c0460f21de287"
   },
   "start_time": "2025-08-19T18:02:38.766206",
   "version": "2.6.0"
  }
 },
 "nbformat": 4,
 "nbformat_minor": 5
}