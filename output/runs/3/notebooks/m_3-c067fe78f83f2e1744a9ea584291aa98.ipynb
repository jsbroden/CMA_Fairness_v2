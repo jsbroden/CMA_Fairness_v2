{
 "cells": [
  {
   "cell_type": "markdown",
   "id": "ef23dbb3",
   "metadata": {
    "papermill": {
     "duration": 0.017927,
     "end_time": "2025-08-19T19:00:51.785217",
     "exception": false,
     "start_time": "2025-08-19T19:00:51.767290",
     "status": "completed"
    },
    "tags": []
   },
   "source": [
    "# Setup"
   ]
  },
  {
   "cell_type": "code",
   "execution_count": 1,
   "id": "0bc8e7dc",
   "metadata": {
    "execution": {
     "iopub.execute_input": "2025-08-19T19:00:51.813748Z",
     "iopub.status.busy": "2025-08-19T19:00:51.813284Z",
     "iopub.status.idle": "2025-08-19T19:00:51.824175Z",
     "shell.execute_reply": "2025-08-19T19:00:51.823495Z"
    },
    "papermill": {
     "duration": 0.034676,
     "end_time": "2025-08-19T19:00:51.829827",
     "exception": false,
     "start_time": "2025-08-19T19:00:51.795151",
     "status": "completed"
    },
    "tags": []
   },
   "outputs": [
    {
     "name": "stdout",
     "output_type": "stream",
     "text": [
      "/dss/dsshome1/0C/ra93lal2/cma/CMA_Fairness_v2\n"
     ]
    },
    {
     "name": "stderr",
     "output_type": "stream",
     "text": [
      "/dss/dsshome1/0C/ra93lal2/.local/share/virtualenvs/CMA_Fairness_v2-3j10GkSs/lib/python3.10/site-packages/IPython/core/magics/osm.py:393: UserWarning: This is now an optional IPython functionality, using bookmarks requires you to install the `pickleshare` library.\n",
      "  bkms = self.shell.db.get('bookmarks', {})\n",
      "/dss/dsshome1/0C/ra93lal2/.local/share/virtualenvs/CMA_Fairness_v2-3j10GkSs/lib/python3.10/site-packages/IPython/core/magics/osm.py:417: UserWarning: This is now an optional IPython functionality, setting dhist requires you to install the `pickleshare` library.\n",
      "  self.shell.db['dhist'] = compress_dhist(dhist)[-100:]\n"
     ]
    }
   ],
   "source": [
    "%cd ~/cma/CMA_Fairness_v2"
   ]
  },
  {
   "cell_type": "markdown",
   "id": "9d235661",
   "metadata": {
    "papermill": {
     "duration": 0.01301,
     "end_time": "2025-08-19T19:00:51.862796",
     "exception": false,
     "start_time": "2025-08-19T19:00:51.849786",
     "status": "completed"
    },
    "tags": []
   },
   "source": [
    "The following cell holds the definition of our parameters, these values can be overriden by rendering the with e.g. the following command:\n",
    "\n",
    "papermill -p alpha 0.2 -p ratio 0.3 universe_analysis.ipynb output/test_run.ipynb"
   ]
  },
  {
   "cell_type": "code",
   "execution_count": 2,
   "id": "4a789d8e",
   "metadata": {
    "execution": {
     "iopub.execute_input": "2025-08-19T19:00:51.888786Z",
     "iopub.status.busy": "2025-08-19T19:00:51.887967Z",
     "iopub.status.idle": "2025-08-19T19:00:51.894159Z",
     "shell.execute_reply": "2025-08-19T19:00:51.893265Z"
    },
    "papermill": {
     "duration": 0.026322,
     "end_time": "2025-08-19T19:00:51.897846",
     "exception": false,
     "start_time": "2025-08-19T19:00:51.871524",
     "status": "completed"
    },
    "tags": []
   },
   "outputs": [
    {
     "name": "stdout",
     "output_type": "stream",
     "text": [
      "Current working directory: /dss/dsshome1/0C/ra93lal2/cma/CMA_Fairness_v2\n"
     ]
    }
   ],
   "source": [
    "import os\n",
    "print(\"Current working directory:\", os.getcwd())"
   ]
  },
  {
   "cell_type": "code",
   "execution_count": 3,
   "id": "4132aaed",
   "metadata": {
    "execution": {
     "iopub.execute_input": "2025-08-19T19:00:51.920672Z",
     "iopub.status.busy": "2025-08-19T19:00:51.920284Z",
     "iopub.status.idle": "2025-08-19T19:00:51.924499Z",
     "shell.execute_reply": "2025-08-19T19:00:51.923828Z"
    },
    "papermill": {
     "duration": 0.015682,
     "end_time": "2025-08-19T19:00:51.925841",
     "exception": false,
     "start_time": "2025-08-19T19:00:51.910159",
     "status": "completed"
    },
    "tags": [
     "parameters"
    ]
   },
   "outputs": [],
   "source": [
    "run_no = 0\n",
    "universe_id = \"test\"\n",
    "universe = {\n",
    "    \"training_size\": \"5k\", # \"25k\", \"5k\", \"1k\"\n",
    "    \"training_year\": \"2012_14\", # \"2014\", \"2012_14\", \"2010_14\"\n",
    "    \"scale\": \"scale\", # \"scale\", \"do-not-scale\",\n",
    "    \"model\": \"elasticnet\", # \"logreg\", \"penalized_logreg\", \"rf\", \"gbm\", \"elasticnet\"\n",
    "    \"cutoff\": [\"quantile_0.15\", \"quantile_0.30\"],\n",
    "    \"exclude_features\": \"age\", # \"none\", \"nationality\", \"sex\", \"nationality-sex\", \"age\"\n",
    "    \"exclude_subgroups\": \"drop-non-german\", # \"keep-all\", \"drop-non-german\"\n",
    "    \"eval_fairness_grouping\": [\"majority-minority\", \"nationality-all\"]\n",
    "}\n",
    "\n",
    "output_dir=\"./output\"\n",
    "seed=0"
   ]
  },
  {
   "cell_type": "code",
   "execution_count": 4,
   "id": "90aaa067",
   "metadata": {
    "execution": {
     "iopub.execute_input": "2025-08-19T19:00:51.945010Z",
     "iopub.status.busy": "2025-08-19T19:00:51.944652Z",
     "iopub.status.idle": "2025-08-19T19:00:51.948410Z",
     "shell.execute_reply": "2025-08-19T19:00:51.947820Z"
    },
    "papermill": {
     "duration": 0.014902,
     "end_time": "2025-08-19T19:00:51.949758",
     "exception": false,
     "start_time": "2025-08-19T19:00:51.934856",
     "status": "completed"
    },
    "tags": [
     "injected-parameters"
    ]
   },
   "outputs": [],
   "source": [
    "# Parameters\n",
    "universe_id = \"c067fe78f83f2e1744a9ea584291aa98\"\n",
    "run_no = \"3\"\n",
    "universe = \"{\\\"cutoff\\\": [\\\"quantile_0.1\\\", \\\"quantile_0.25\\\"], \\\"eval_fairness_grouping\\\": [\\\"majority-minority\\\", \\\"nationality-all\\\"], \\\"exclude_features\\\": \\\"sex\\\", \\\"exclude_subgroups\\\": \\\"drop-non-german\\\", \\\"model\\\": \\\"logreg\\\", \\\"scale\\\": \\\"do-not-scale\\\", \\\"training_size\\\": \\\"1k\\\", \\\"training_year\\\": \\\"2012_14\\\"}\"\n",
    "output_dir = \"output\"\n",
    "seed = \"2023\"\n"
   ]
  },
  {
   "cell_type": "code",
   "execution_count": 5,
   "id": "a5d7941f",
   "metadata": {
    "execution": {
     "iopub.execute_input": "2025-08-19T19:00:51.968738Z",
     "iopub.status.busy": "2025-08-19T19:00:51.968364Z",
     "iopub.status.idle": "2025-08-19T19:00:51.971894Z",
     "shell.execute_reply": "2025-08-19T19:00:51.971272Z"
    },
    "papermill": {
     "duration": 0.014426,
     "end_time": "2025-08-19T19:00:51.973176",
     "exception": false,
     "start_time": "2025-08-19T19:00:51.958750",
     "status": "completed"
    },
    "tags": []
   },
   "outputs": [],
   "source": [
    "import json\n",
    "if isinstance(universe, str):\n",
    "    universe = json.loads(universe)"
   ]
  },
  {
   "cell_type": "code",
   "execution_count": 6,
   "id": "7076ccb1",
   "metadata": {
    "execution": {
     "iopub.execute_input": "2025-08-19T19:00:51.992218Z",
     "iopub.status.busy": "2025-08-19T19:00:51.991869Z",
     "iopub.status.idle": "2025-08-19T19:00:52.025861Z",
     "shell.execute_reply": "2025-08-19T19:00:52.025190Z"
    },
    "papermill": {
     "duration": 0.045087,
     "end_time": "2025-08-19T19:00:52.027225",
     "exception": false,
     "start_time": "2025-08-19T19:00:51.982138",
     "status": "completed"
    },
    "tags": []
   },
   "outputs": [],
   "source": [
    "# Auto-reload the custom package\n",
    "%load_ext autoreload\n",
    "%autoreload 1\n",
    "%aimport fairness_multiverse"
   ]
  },
  {
   "cell_type": "code",
   "execution_count": 7,
   "id": "94c8eb93",
   "metadata": {
    "execution": {
     "iopub.execute_input": "2025-08-19T19:00:52.047180Z",
     "iopub.status.busy": "2025-08-19T19:00:52.046777Z",
     "iopub.status.idle": "2025-08-19T19:00:53.643655Z",
     "shell.execute_reply": "2025-08-19T19:00:53.642003Z"
    },
    "papermill": {
     "duration": 1.610051,
     "end_time": "2025-08-19T19:00:53.646794",
     "exception": false,
     "start_time": "2025-08-19T19:00:52.036743",
     "status": "completed"
    },
    "tags": []
   },
   "outputs": [],
   "source": [
    "from fairness_multiverse.universe import UniverseAnalysis\n",
    "\n",
    "universe_analysis = UniverseAnalysis(\n",
    "    run_no = run_no,\n",
    "    universe_id = universe_id,\n",
    "    universe = universe,\n",
    "    output_dir=output_dir,\n",
    ")"
   ]
  },
  {
   "cell_type": "code",
   "execution_count": 8,
   "id": "2a6381cf",
   "metadata": {
    "execution": {
     "iopub.execute_input": "2025-08-19T19:00:53.687708Z",
     "iopub.status.busy": "2025-08-19T19:00:53.685559Z",
     "iopub.status.idle": "2025-08-19T19:00:53.699744Z",
     "shell.execute_reply": "2025-08-19T19:00:53.698154Z"
    },
    "papermill": {
     "duration": 0.031478,
     "end_time": "2025-08-19T19:00:53.701398",
     "exception": false,
     "start_time": "2025-08-19T19:00:53.669920",
     "status": "completed"
    },
    "tags": []
   },
   "outputs": [
    {
     "name": "stdout",
     "output_type": "stream",
     "text": [
      "Using Seed: 2023\n"
     ]
    }
   ],
   "source": [
    "import numpy as np\n",
    "parsed_seed = int(seed)\n",
    "np.random.seed(parsed_seed)\n",
    "print(f\"Using Seed: {parsed_seed}\")"
   ]
  },
  {
   "cell_type": "markdown",
   "id": "b6e958b4",
   "metadata": {
    "papermill": {
     "duration": 0.010365,
     "end_time": "2025-08-19T19:00:53.726482",
     "exception": false,
     "start_time": "2025-08-19T19:00:53.716117",
     "status": "completed"
    },
    "tags": []
   },
   "source": [
    "# Loading Data"
   ]
  },
  {
   "cell_type": "code",
   "execution_count": 9,
   "id": "98701482",
   "metadata": {
    "execution": {
     "iopub.execute_input": "2025-08-19T19:00:53.748663Z",
     "iopub.status.busy": "2025-08-19T19:00:53.746818Z",
     "iopub.status.idle": "2025-08-19T19:01:03.663640Z",
     "shell.execute_reply": "2025-08-19T19:01:03.661971Z"
    },
    "papermill": {
     "duration": 9.929699,
     "end_time": "2025-08-19T19:01:03.665329",
     "exception": false,
     "start_time": "2025-08-19T19:00:53.735630",
     "status": "completed"
    },
    "tags": []
   },
   "outputs": [
    {
     "name": "stdout",
     "output_type": "stream",
     "text": [
      "Loading SIAB data from cache: data/siab_cached.csv.gz\n"
     ]
    },
    {
     "name": "stdout",
     "output_type": "stream",
     "text": [
      "(643690, 164)\n"
     ]
    }
   ],
   "source": [
    "from pathlib import Path\n",
    "import pandas as pd\n",
    "\n",
    "# File paths\n",
    "raw_file = Path(\"data/raw/siab.csv\")\n",
    "cache_file = Path(\"data/siab_cached.csv.gz\")\n",
    "\n",
    "# Ensure cache directory exists\n",
    "cache_file.parent.mkdir(parents=True, exist_ok=True)\n",
    "\n",
    "# Load with simple caching\n",
    "if cache_file.exists():\n",
    "    print(f\"Loading SIAB data from cache: {cache_file}\")\n",
    "    siab = pd.read_csv(cache_file, compression='gzip')\n",
    "else:\n",
    "    print(f\"Cache not found. Reading raw SIAB data: {raw_file}\")\n",
    "    siab = pd.read_csv(raw_file)\n",
    "    siab.to_csv(cache_file, index=False, compression='gzip')\n",
    "    print(f\"Cached SIAB data to: {cache_file}\")\n",
    "\n",
    "print(siab.shape)"
   ]
  },
  {
   "cell_type": "code",
   "execution_count": 10,
   "id": "058d2abb",
   "metadata": {
    "execution": {
     "iopub.execute_input": "2025-08-19T19:01:03.705228Z",
     "iopub.status.busy": "2025-08-19T19:01:03.703884Z",
     "iopub.status.idle": "2025-08-19T19:01:03.883621Z",
     "shell.execute_reply": "2025-08-19T19:01:03.882299Z"
    },
    "papermill": {
     "duration": 0.196727,
     "end_time": "2025-08-19T19:01:03.888437",
     "exception": false,
     "start_time": "2025-08-19T19:01:03.691710",
     "status": "completed"
    },
    "tags": []
   },
   "outputs": [
    {
     "data": {
      "text/html": [
       "<div>\n",
       "<style scoped>\n",
       "    .dataframe tbody tr th:only-of-type {\n",
       "        vertical-align: middle;\n",
       "    }\n",
       "\n",
       "    .dataframe tbody tr th {\n",
       "        vertical-align: top;\n",
       "    }\n",
       "\n",
       "    .dataframe thead th {\n",
       "        text-align: right;\n",
       "    }\n",
       "</style>\n",
       "<table border=\"1\" class=\"dataframe\">\n",
       "  <thead>\n",
       "    <tr style=\"text-align: right;\">\n",
       "      <th></th>\n",
       "      <th>persnr</th>\n",
       "      <th>year</th>\n",
       "      <th>nrEntry</th>\n",
       "      <th>ltue</th>\n",
       "      <th>employed_before</th>\n",
       "      <th>receipt_leh_before</th>\n",
       "      <th>receipt_lhg_before</th>\n",
       "      <th>se_before</th>\n",
       "      <th>ASU_notue_seeking_before</th>\n",
       "      <th>ASU_other_before</th>\n",
       "      <th>...</th>\n",
       "      <th>minijob_tot_dur_byage</th>\n",
       "      <th>ft_tot_dur_byage</th>\n",
       "      <th>befrist_tot_dur_byage</th>\n",
       "      <th>leih_tot_dur_byage</th>\n",
       "      <th>LHG_tot_dur_byage</th>\n",
       "      <th>LEH_tot_dur_byage</th>\n",
       "      <th>almp_tot_dur_byage</th>\n",
       "      <th>almp_aw_tot_dur_byage</th>\n",
       "      <th>se_tot_dur_byage</th>\n",
       "      <th>seeking1_tot_dur_byage</th>\n",
       "    </tr>\n",
       "  </thead>\n",
       "  <tbody>\n",
       "    <tr>\n",
       "      <th>0</th>\n",
       "      <td>7</td>\n",
       "      <td>2015</td>\n",
       "      <td>1</td>\n",
       "      <td>0</td>\n",
       "      <td>1</td>\n",
       "      <td>0</td>\n",
       "      <td>0</td>\n",
       "      <td>0</td>\n",
       "      <td>1</td>\n",
       "      <td>0</td>\n",
       "      <td>...</td>\n",
       "      <td>0.000000</td>\n",
       "      <td>0.000000</td>\n",
       "      <td>15.043478</td>\n",
       "      <td>0.000000</td>\n",
       "      <td>0.000000</td>\n",
       "      <td>0.000000</td>\n",
       "      <td>0.000000</td>\n",
       "      <td>0.000000</td>\n",
       "      <td>0.000000</td>\n",
       "      <td>0.000000</td>\n",
       "    </tr>\n",
       "    <tr>\n",
       "      <th>1</th>\n",
       "      <td>18</td>\n",
       "      <td>2010</td>\n",
       "      <td>1</td>\n",
       "      <td>1</td>\n",
       "      <td>0</td>\n",
       "      <td>0</td>\n",
       "      <td>0</td>\n",
       "      <td>0</td>\n",
       "      <td>0</td>\n",
       "      <td>0</td>\n",
       "      <td>...</td>\n",
       "      <td>0.000000</td>\n",
       "      <td>0.000000</td>\n",
       "      <td>0.000000</td>\n",
       "      <td>0.000000</td>\n",
       "      <td>0.000000</td>\n",
       "      <td>0.000000</td>\n",
       "      <td>0.000000</td>\n",
       "      <td>0.000000</td>\n",
       "      <td>0.000000</td>\n",
       "      <td>0.000000</td>\n",
       "    </tr>\n",
       "    <tr>\n",
       "      <th>2</th>\n",
       "      <td>18</td>\n",
       "      <td>2011</td>\n",
       "      <td>2</td>\n",
       "      <td>0</td>\n",
       "      <td>1</td>\n",
       "      <td>0</td>\n",
       "      <td>1</td>\n",
       "      <td>0</td>\n",
       "      <td>1</td>\n",
       "      <td>0</td>\n",
       "      <td>...</td>\n",
       "      <td>2.714286</td>\n",
       "      <td>2.714286</td>\n",
       "      <td>0.000000</td>\n",
       "      <td>0.000000</td>\n",
       "      <td>10.775510</td>\n",
       "      <td>0.000000</td>\n",
       "      <td>8.367347</td>\n",
       "      <td>0.000000</td>\n",
       "      <td>0.000000</td>\n",
       "      <td>9.836735</td>\n",
       "    </tr>\n",
       "    <tr>\n",
       "      <th>3</th>\n",
       "      <td>18</td>\n",
       "      <td>2012</td>\n",
       "      <td>3</td>\n",
       "      <td>0</td>\n",
       "      <td>1</td>\n",
       "      <td>0</td>\n",
       "      <td>1</td>\n",
       "      <td>0</td>\n",
       "      <td>1</td>\n",
       "      <td>0</td>\n",
       "      <td>...</td>\n",
       "      <td>4.200000</td>\n",
       "      <td>4.200000</td>\n",
       "      <td>0.000000</td>\n",
       "      <td>0.000000</td>\n",
       "      <td>12.100000</td>\n",
       "      <td>0.000000</td>\n",
       "      <td>9.400000</td>\n",
       "      <td>0.000000</td>\n",
       "      <td>0.000000</td>\n",
       "      <td>9.960000</td>\n",
       "    </tr>\n",
       "    <tr>\n",
       "      <th>4</th>\n",
       "      <td>18</td>\n",
       "      <td>2012</td>\n",
       "      <td>4</td>\n",
       "      <td>0</td>\n",
       "      <td>1</td>\n",
       "      <td>0</td>\n",
       "      <td>1</td>\n",
       "      <td>0</td>\n",
       "      <td>1</td>\n",
       "      <td>0</td>\n",
       "      <td>...</td>\n",
       "      <td>5.460000</td>\n",
       "      <td>5.460000</td>\n",
       "      <td>0.000000</td>\n",
       "      <td>0.000000</td>\n",
       "      <td>13.360000</td>\n",
       "      <td>0.000000</td>\n",
       "      <td>10.320000</td>\n",
       "      <td>0.000000</td>\n",
       "      <td>0.000000</td>\n",
       "      <td>10.280000</td>\n",
       "    </tr>\n",
       "    <tr>\n",
       "      <th>...</th>\n",
       "      <td>...</td>\n",
       "      <td>...</td>\n",
       "      <td>...</td>\n",
       "      <td>...</td>\n",
       "      <td>...</td>\n",
       "      <td>...</td>\n",
       "      <td>...</td>\n",
       "      <td>...</td>\n",
       "      <td>...</td>\n",
       "      <td>...</td>\n",
       "      <td>...</td>\n",
       "      <td>...</td>\n",
       "      <td>...</td>\n",
       "      <td>...</td>\n",
       "      <td>...</td>\n",
       "      <td>...</td>\n",
       "      <td>...</td>\n",
       "      <td>...</td>\n",
       "      <td>...</td>\n",
       "      <td>...</td>\n",
       "      <td>...</td>\n",
       "    </tr>\n",
       "    <tr>\n",
       "      <th>643685</th>\n",
       "      <td>1827860</td>\n",
       "      <td>2013</td>\n",
       "      <td>1</td>\n",
       "      <td>0</td>\n",
       "      <td>0</td>\n",
       "      <td>0</td>\n",
       "      <td>1</td>\n",
       "      <td>0</td>\n",
       "      <td>0</td>\n",
       "      <td>1</td>\n",
       "      <td>...</td>\n",
       "      <td>0.000000</td>\n",
       "      <td>0.000000</td>\n",
       "      <td>0.000000</td>\n",
       "      <td>0.000000</td>\n",
       "      <td>0.612903</td>\n",
       "      <td>0.000000</td>\n",
       "      <td>0.000000</td>\n",
       "      <td>0.000000</td>\n",
       "      <td>0.000000</td>\n",
       "      <td>0.000000</td>\n",
       "    </tr>\n",
       "    <tr>\n",
       "      <th>643686</th>\n",
       "      <td>1827860</td>\n",
       "      <td>2015</td>\n",
       "      <td>2</td>\n",
       "      <td>1</td>\n",
       "      <td>0</td>\n",
       "      <td>0</td>\n",
       "      <td>1</td>\n",
       "      <td>0</td>\n",
       "      <td>1</td>\n",
       "      <td>0</td>\n",
       "      <td>...</td>\n",
       "      <td>0.000000</td>\n",
       "      <td>0.000000</td>\n",
       "      <td>0.212121</td>\n",
       "      <td>0.212121</td>\n",
       "      <td>17.363636</td>\n",
       "      <td>0.000000</td>\n",
       "      <td>8.909091</td>\n",
       "      <td>0.000000</td>\n",
       "      <td>0.000000</td>\n",
       "      <td>7.121212</td>\n",
       "    </tr>\n",
       "    <tr>\n",
       "      <th>643687</th>\n",
       "      <td>1827860</td>\n",
       "      <td>2016</td>\n",
       "      <td>3</td>\n",
       "      <td>1</td>\n",
       "      <td>0</td>\n",
       "      <td>0</td>\n",
       "      <td>1</td>\n",
       "      <td>1</td>\n",
       "      <td>0</td>\n",
       "      <td>1</td>\n",
       "      <td>...</td>\n",
       "      <td>0.000000</td>\n",
       "      <td>0.000000</td>\n",
       "      <td>0.294118</td>\n",
       "      <td>0.205882</td>\n",
       "      <td>34.705882</td>\n",
       "      <td>0.000000</td>\n",
       "      <td>10.352941</td>\n",
       "      <td>1.705882</td>\n",
       "      <td>1.705882</td>\n",
       "      <td>23.911765</td>\n",
       "    </tr>\n",
       "    <tr>\n",
       "      <th>643688</th>\n",
       "      <td>1827869</td>\n",
       "      <td>2013</td>\n",
       "      <td>1</td>\n",
       "      <td>1</td>\n",
       "      <td>1</td>\n",
       "      <td>0</td>\n",
       "      <td>0</td>\n",
       "      <td>0</td>\n",
       "      <td>1</td>\n",
       "      <td>0</td>\n",
       "      <td>...</td>\n",
       "      <td>0.000000</td>\n",
       "      <td>0.000000</td>\n",
       "      <td>0.000000</td>\n",
       "      <td>0.000000</td>\n",
       "      <td>0.000000</td>\n",
       "      <td>0.525424</td>\n",
       "      <td>0.000000</td>\n",
       "      <td>0.000000</td>\n",
       "      <td>0.000000</td>\n",
       "      <td>0.000000</td>\n",
       "    </tr>\n",
       "    <tr>\n",
       "      <th>643689</th>\n",
       "      <td>1827869</td>\n",
       "      <td>2014</td>\n",
       "      <td>2</td>\n",
       "      <td>0</td>\n",
       "      <td>0</td>\n",
       "      <td>1</td>\n",
       "      <td>0</td>\n",
       "      <td>0</td>\n",
       "      <td>1</td>\n",
       "      <td>0</td>\n",
       "      <td>...</td>\n",
       "      <td>0.000000</td>\n",
       "      <td>0.666667</td>\n",
       "      <td>0.666667</td>\n",
       "      <td>0.000000</td>\n",
       "      <td>0.000000</td>\n",
       "      <td>8.950000</td>\n",
       "      <td>1.033333</td>\n",
       "      <td>0.083333</td>\n",
       "      <td>0.083333</td>\n",
       "      <td>8.133333</td>\n",
       "    </tr>\n",
       "  </tbody>\n",
       "</table>\n",
       "<p>643690 rows × 164 columns</p>\n",
       "</div>"
      ],
      "text/plain": [
       "         persnr  year  nrEntry  ltue  employed_before  receipt_leh_before  \\\n",
       "0             7  2015        1     0                1                   0   \n",
       "1            18  2010        1     1                0                   0   \n",
       "2            18  2011        2     0                1                   0   \n",
       "3            18  2012        3     0                1                   0   \n",
       "4            18  2012        4     0                1                   0   \n",
       "...         ...   ...      ...   ...              ...                 ...   \n",
       "643685  1827860  2013        1     0                0                   0   \n",
       "643686  1827860  2015        2     1                0                   0   \n",
       "643687  1827860  2016        3     1                0                   0   \n",
       "643688  1827869  2013        1     1                1                   0   \n",
       "643689  1827869  2014        2     0                0                   1   \n",
       "\n",
       "        receipt_lhg_before  se_before  ASU_notue_seeking_before  \\\n",
       "0                        0          0                         1   \n",
       "1                        0          0                         0   \n",
       "2                        1          0                         1   \n",
       "3                        1          0                         1   \n",
       "4                        1          0                         1   \n",
       "...                    ...        ...                       ...   \n",
       "643685                   1          0                         0   \n",
       "643686                   1          0                         1   \n",
       "643687                   1          1                         0   \n",
       "643688                   0          0                         1   \n",
       "643689                   0          0                         1   \n",
       "\n",
       "        ASU_other_before  ...  minijob_tot_dur_byage  ft_tot_dur_byage  \\\n",
       "0                      0  ...               0.000000          0.000000   \n",
       "1                      0  ...               0.000000          0.000000   \n",
       "2                      0  ...               2.714286          2.714286   \n",
       "3                      0  ...               4.200000          4.200000   \n",
       "4                      0  ...               5.460000          5.460000   \n",
       "...                  ...  ...                    ...               ...   \n",
       "643685                 1  ...               0.000000          0.000000   \n",
       "643686                 0  ...               0.000000          0.000000   \n",
       "643687                 1  ...               0.000000          0.000000   \n",
       "643688                 0  ...               0.000000          0.000000   \n",
       "643689                 0  ...               0.000000          0.666667   \n",
       "\n",
       "        befrist_tot_dur_byage  leih_tot_dur_byage  LHG_tot_dur_byage  \\\n",
       "0                   15.043478            0.000000           0.000000   \n",
       "1                    0.000000            0.000000           0.000000   \n",
       "2                    0.000000            0.000000          10.775510   \n",
       "3                    0.000000            0.000000          12.100000   \n",
       "4                    0.000000            0.000000          13.360000   \n",
       "...                       ...                 ...                ...   \n",
       "643685               0.000000            0.000000           0.612903   \n",
       "643686               0.212121            0.212121          17.363636   \n",
       "643687               0.294118            0.205882          34.705882   \n",
       "643688               0.000000            0.000000           0.000000   \n",
       "643689               0.666667            0.000000           0.000000   \n",
       "\n",
       "        LEH_tot_dur_byage  almp_tot_dur_byage  almp_aw_tot_dur_byage  \\\n",
       "0                0.000000            0.000000               0.000000   \n",
       "1                0.000000            0.000000               0.000000   \n",
       "2                0.000000            8.367347               0.000000   \n",
       "3                0.000000            9.400000               0.000000   \n",
       "4                0.000000           10.320000               0.000000   \n",
       "...                   ...                 ...                    ...   \n",
       "643685           0.000000            0.000000               0.000000   \n",
       "643686           0.000000            8.909091               0.000000   \n",
       "643687           0.000000           10.352941               1.705882   \n",
       "643688           0.525424            0.000000               0.000000   \n",
       "643689           8.950000            1.033333               0.083333   \n",
       "\n",
       "        se_tot_dur_byage  seeking1_tot_dur_byage  \n",
       "0               0.000000                0.000000  \n",
       "1               0.000000                0.000000  \n",
       "2               0.000000                9.836735  \n",
       "3               0.000000                9.960000  \n",
       "4               0.000000               10.280000  \n",
       "...                  ...                     ...  \n",
       "643685          0.000000                0.000000  \n",
       "643686          0.000000                7.121212  \n",
       "643687          1.705882               23.911765  \n",
       "643688          0.000000                0.000000  \n",
       "643689          0.083333                8.133333  \n",
       "\n",
       "[643690 rows x 164 columns]"
      ]
     },
     "execution_count": 10,
     "metadata": {},
     "output_type": "execute_result"
    }
   ],
   "source": [
    "siab"
   ]
  },
  {
   "cell_type": "markdown",
   "id": "1f87e805",
   "metadata": {
    "papermill": {
     "duration": 0.011046,
     "end_time": "2025-08-19T19:01:03.919572",
     "exception": false,
     "start_time": "2025-08-19T19:01:03.908526",
     "status": "completed"
    },
    "tags": []
   },
   "source": [
    "# Splitting Data and Setting Training Data Size"
   ]
  },
  {
   "cell_type": "code",
   "execution_count": 11,
   "id": "910ae358",
   "metadata": {
    "execution": {
     "iopub.execute_input": "2025-08-19T19:01:03.942734Z",
     "iopub.status.busy": "2025-08-19T19:01:03.941602Z",
     "iopub.status.idle": "2025-08-19T19:01:04.582397Z",
     "shell.execute_reply": "2025-08-19T19:01:04.581142Z"
    },
    "papermill": {
     "duration": 0.654796,
     "end_time": "2025-08-19T19:01:04.584040",
     "exception": false,
     "start_time": "2025-08-19T19:01:03.929244",
     "status": "completed"
    },
    "tags": []
   },
   "outputs": [],
   "source": [
    "from fairness_multiverse.universe import sample_by_year_size\n",
    "\n",
    "siab_train = sample_by_year_size(siab,\n",
    "                               training_year=universe[\"training_year\"],\n",
    "                               training_size=universe[\"training_size\"])"
   ]
  },
  {
   "cell_type": "code",
   "execution_count": 12,
   "id": "919c8ff5",
   "metadata": {
    "execution": {
     "iopub.execute_input": "2025-08-19T19:01:04.606232Z",
     "iopub.status.busy": "2025-08-19T19:01:04.605215Z",
     "iopub.status.idle": "2025-08-19T19:01:04.613781Z",
     "shell.execute_reply": "2025-08-19T19:01:04.612502Z"
    },
    "papermill": {
     "duration": 0.021134,
     "end_time": "2025-08-19T19:01:04.615318",
     "exception": false,
     "start_time": "2025-08-19T19:01:04.594184",
     "status": "completed"
    },
    "tags": []
   },
   "outputs": [
    {
     "data": {
      "text/plain": [
       "(1000, 164)"
      ]
     },
     "execution_count": 12,
     "metadata": {},
     "output_type": "execute_result"
    }
   ],
   "source": [
    "siab_train.shape"
   ]
  },
  {
   "cell_type": "code",
   "execution_count": 13,
   "id": "feb13bf4",
   "metadata": {
    "execution": {
     "iopub.execute_input": "2025-08-19T19:01:04.639351Z",
     "iopub.status.busy": "2025-08-19T19:01:04.638059Z",
     "iopub.status.idle": "2025-08-19T19:01:04.652582Z",
     "shell.execute_reply": "2025-08-19T19:01:04.651310Z"
    },
    "papermill": {
     "duration": 0.027972,
     "end_time": "2025-08-19T19:01:04.654392",
     "exception": false,
     "start_time": "2025-08-19T19:01:04.626420",
     "status": "completed"
    },
    "tags": []
   },
   "outputs": [
    {
     "data": {
      "text/plain": [
       "year\n",
       "2012    334\n",
       "2013    333\n",
       "2014    333\n",
       "dtype: int64"
      ]
     },
     "metadata": {},
     "output_type": "display_data"
    }
   ],
   "source": [
    "display(siab_train.groupby(\"year\").size())"
   ]
  },
  {
   "cell_type": "code",
   "execution_count": 14,
   "id": "0997782f",
   "metadata": {
    "execution": {
     "iopub.execute_input": "2025-08-19T19:01:04.681749Z",
     "iopub.status.busy": "2025-08-19T19:01:04.680636Z",
     "iopub.status.idle": "2025-08-19T19:01:04.966043Z",
     "shell.execute_reply": "2025-08-19T19:01:04.965204Z"
    },
    "papermill": {
     "duration": 0.298926,
     "end_time": "2025-08-19T19:01:04.967594",
     "exception": false,
     "start_time": "2025-08-19T19:01:04.668668",
     "status": "completed"
    },
    "tags": []
   },
   "outputs": [],
   "source": [
    "#siab_train = siab_s[siab_s.year < 2015]\n",
    "siab_calib = siab[siab.year == 2015]\n",
    "siab_test = siab[siab.year == 2016]"
   ]
  },
  {
   "cell_type": "code",
   "execution_count": 15,
   "id": "2c1e4012",
   "metadata": {
    "execution": {
     "iopub.execute_input": "2025-08-19T19:01:04.990159Z",
     "iopub.status.busy": "2025-08-19T19:01:04.989168Z",
     "iopub.status.idle": "2025-08-19T19:01:04.994991Z",
     "shell.execute_reply": "2025-08-19T19:01:04.994005Z"
    },
    "papermill": {
     "duration": 0.021136,
     "end_time": "2025-08-19T19:01:04.999035",
     "exception": false,
     "start_time": "2025-08-19T19:01:04.977899",
     "status": "completed"
    },
    "tags": []
   },
   "outputs": [],
   "source": [
    "#siab_calib.shape"
   ]
  },
  {
   "cell_type": "code",
   "execution_count": 16,
   "id": "f66b54ca",
   "metadata": {
    "execution": {
     "iopub.execute_input": "2025-08-19T19:01:05.028972Z",
     "iopub.status.busy": "2025-08-19T19:01:05.028023Z",
     "iopub.status.idle": "2025-08-19T19:01:05.342626Z",
     "shell.execute_reply": "2025-08-19T19:01:05.340968Z"
    },
    "papermill": {
     "duration": 0.330326,
     "end_time": "2025-08-19T19:01:05.344713",
     "exception": false,
     "start_time": "2025-08-19T19:01:05.014387",
     "status": "completed"
    },
    "tags": []
   },
   "outputs": [],
   "source": [
    "#siab_test.shape"
   ]
  },
  {
   "cell_type": "code",
   "execution_count": 17,
   "id": "27e4384d",
   "metadata": {
    "execution": {
     "iopub.execute_input": "2025-08-19T19:01:05.374061Z",
     "iopub.status.busy": "2025-08-19T19:01:05.373674Z",
     "iopub.status.idle": "2025-08-19T19:01:05.380858Z",
     "shell.execute_reply": "2025-08-19T19:01:05.379913Z"
    },
    "papermill": {
     "duration": 0.027709,
     "end_time": "2025-08-19T19:01:05.382977",
     "exception": false,
     "start_time": "2025-08-19T19:01:05.355268",
     "status": "completed"
    },
    "tags": []
   },
   "outputs": [],
   "source": [
    "X_train = siab_train.iloc[:,4:164]\n",
    "y_train = siab_train.iloc[:, [3]]"
   ]
  },
  {
   "cell_type": "code",
   "execution_count": 18,
   "id": "08ee8389",
   "metadata": {
    "execution": {
     "iopub.execute_input": "2025-08-19T19:01:05.405273Z",
     "iopub.status.busy": "2025-08-19T19:01:05.404966Z",
     "iopub.status.idle": "2025-08-19T19:01:05.460385Z",
     "shell.execute_reply": "2025-08-19T19:01:05.459244Z"
    },
    "papermill": {
     "duration": 0.069018,
     "end_time": "2025-08-19T19:01:05.462523",
     "exception": false,
     "start_time": "2025-08-19T19:01:05.393505",
     "status": "completed"
    },
    "tags": []
   },
   "outputs": [],
   "source": [
    "X_calib = siab_calib.iloc[:,4:164]\n",
    "y_calib = siab_calib.iloc[:, [3]]"
   ]
  },
  {
   "cell_type": "code",
   "execution_count": 19,
   "id": "b7ff42e0",
   "metadata": {
    "execution": {
     "iopub.execute_input": "2025-08-19T19:01:05.487285Z",
     "iopub.status.busy": "2025-08-19T19:01:05.486835Z",
     "iopub.status.idle": "2025-08-19T19:01:05.536255Z",
     "shell.execute_reply": "2025-08-19T19:01:05.535346Z"
    },
    "papermill": {
     "duration": 0.062306,
     "end_time": "2025-08-19T19:01:05.537602",
     "exception": false,
     "start_time": "2025-08-19T19:01:05.475296",
     "status": "completed"
    },
    "tags": []
   },
   "outputs": [],
   "source": [
    "X_test = siab_test.iloc[:,4:164]\n",
    "y_true = siab_test.iloc[:, [3]]"
   ]
  },
  {
   "cell_type": "code",
   "execution_count": 20,
   "id": "0275101e",
   "metadata": {
    "execution": {
     "iopub.execute_input": "2025-08-19T19:01:05.560268Z",
     "iopub.status.busy": "2025-08-19T19:01:05.559405Z",
     "iopub.status.idle": "2025-08-19T19:01:05.664866Z",
     "shell.execute_reply": "2025-08-19T19:01:05.664158Z"
    },
    "papermill": {
     "duration": 0.119191,
     "end_time": "2025-08-19T19:01:05.667319",
     "exception": false,
     "start_time": "2025-08-19T19:01:05.548128",
     "status": "completed"
    },
    "tags": []
   },
   "outputs": [],
   "source": [
    "# Auxiliary data needed downstream in the pipeline\n",
    "\n",
    "org_train = X_train.copy()\n",
    "org_test = X_test.copy()\n",
    "org_calib = X_calib.copy()"
   ]
  },
  {
   "cell_type": "markdown",
   "id": "b461e618",
   "metadata": {
    "papermill": {
     "duration": 0.012745,
     "end_time": "2025-08-19T19:01:05.703766",
     "exception": false,
     "start_time": "2025-08-19T19:01:05.691021",
     "status": "completed"
    },
    "tags": []
   },
   "source": [
    "# Preprocessing Data"
   ]
  },
  {
   "cell_type": "code",
   "execution_count": 21,
   "id": "78e74c4b",
   "metadata": {
    "execution": {
     "iopub.execute_input": "2025-08-19T19:01:05.725079Z",
     "iopub.status.busy": "2025-08-19T19:01:05.724587Z",
     "iopub.status.idle": "2025-08-19T19:01:05.729460Z",
     "shell.execute_reply": "2025-08-19T19:01:05.728815Z"
    },
    "papermill": {
     "duration": 0.016832,
     "end_time": "2025-08-19T19:01:05.730517",
     "exception": false,
     "start_time": "2025-08-19T19:01:05.713685",
     "status": "completed"
    },
    "tags": []
   },
   "outputs": [],
   "source": [
    "# EXCLUDE PROTECTED FEATURES\n",
    "# --------------------------\n",
    "\n",
    "excluded_features = universe[\"exclude_features\"].split(\"-\")\n",
    "excluded_features_dictionary = {\n",
    "    \"nationality\": [\"maxdeutsch1\", \"maxdeutsch.Missing.\"],\n",
    "    \"sex\": [\"frau1\"],\n",
    "    \"age\": [\"age\"],\n",
    "}"
   ]
  },
  {
   "cell_type": "code",
   "execution_count": 22,
   "id": "f8e63555",
   "metadata": {
    "execution": {
     "iopub.execute_input": "2025-08-19T19:01:05.752014Z",
     "iopub.status.busy": "2025-08-19T19:01:05.751576Z",
     "iopub.status.idle": "2025-08-19T19:01:05.756559Z",
     "shell.execute_reply": "2025-08-19T19:01:05.755784Z"
    },
    "papermill": {
     "duration": 0.017012,
     "end_time": "2025-08-19T19:01:05.757670",
     "exception": false,
     "start_time": "2025-08-19T19:01:05.740658",
     "status": "completed"
    },
    "tags": []
   },
   "outputs": [],
   "source": [
    "excluded_features_columns = [\n",
    "    excluded_features_dictionary[f] for f in excluded_features if len(f) > 0 and f != \"none\"\n",
    "]"
   ]
  },
  {
   "cell_type": "code",
   "execution_count": 23,
   "id": "da781f7c",
   "metadata": {
    "execution": {
     "iopub.execute_input": "2025-08-19T19:01:05.779149Z",
     "iopub.status.busy": "2025-08-19T19:01:05.778722Z",
     "iopub.status.idle": "2025-08-19T19:01:05.783580Z",
     "shell.execute_reply": "2025-08-19T19:01:05.782706Z"
    },
    "papermill": {
     "duration": 0.017582,
     "end_time": "2025-08-19T19:01:05.785265",
     "exception": false,
     "start_time": "2025-08-19T19:01:05.767683",
     "status": "completed"
    },
    "tags": []
   },
   "outputs": [],
   "source": [
    "from fairness_multiverse.universe import flatten_once\n",
    "\n",
    "excluded_features_columns = flatten_once(excluded_features_columns)"
   ]
  },
  {
   "cell_type": "code",
   "execution_count": 24,
   "id": "37fef0f0",
   "metadata": {
    "execution": {
     "iopub.execute_input": "2025-08-19T19:01:05.807623Z",
     "iopub.status.busy": "2025-08-19T19:01:05.807187Z",
     "iopub.status.idle": "2025-08-19T19:01:05.814770Z",
     "shell.execute_reply": "2025-08-19T19:01:05.813995Z"
    },
    "papermill": {
     "duration": 0.020311,
     "end_time": "2025-08-19T19:01:05.816350",
     "exception": false,
     "start_time": "2025-08-19T19:01:05.796039",
     "status": "completed"
    },
    "tags": []
   },
   "outputs": [
    {
     "name": "stdout",
     "output_type": "stream",
     "text": [
      "Dropping features: ['frau1']\n"
     ]
    }
   ],
   "source": [
    "if len(excluded_features_columns) > 0:\n",
    "    print(f\"Dropping features: {excluded_features_columns}\")\n",
    "    X_train.drop(excluded_features_columns, axis=1, inplace=True)"
   ]
  },
  {
   "cell_type": "code",
   "execution_count": 25,
   "id": "d029e3e9",
   "metadata": {
    "execution": {
     "iopub.execute_input": "2025-08-19T19:01:05.841835Z",
     "iopub.status.busy": "2025-08-19T19:01:05.841322Z",
     "iopub.status.idle": "2025-08-19T19:01:05.902635Z",
     "shell.execute_reply": "2025-08-19T19:01:05.902002Z"
    },
    "papermill": {
     "duration": 0.077474,
     "end_time": "2025-08-19T19:01:05.906696",
     "exception": false,
     "start_time": "2025-08-19T19:01:05.829222",
     "status": "completed"
    },
    "tags": []
   },
   "outputs": [
    {
     "name": "stdout",
     "output_type": "stream",
     "text": [
      "Dropping features: ['frau1']\n"
     ]
    }
   ],
   "source": [
    "if len(excluded_features_columns) > 0:\n",
    "    print(f\"Dropping features: {excluded_features_columns}\")\n",
    "    X_test.drop(excluded_features_columns, axis=1, inplace=True)"
   ]
  },
  {
   "cell_type": "code",
   "execution_count": 26,
   "id": "01d571f0",
   "metadata": {
    "execution": {
     "iopub.execute_input": "2025-08-19T19:01:05.945523Z",
     "iopub.status.busy": "2025-08-19T19:01:05.944295Z",
     "iopub.status.idle": "2025-08-19T19:01:06.000446Z",
     "shell.execute_reply": "2025-08-19T19:01:05.999856Z"
    },
    "papermill": {
     "duration": 0.073221,
     "end_time": "2025-08-19T19:01:06.003109",
     "exception": false,
     "start_time": "2025-08-19T19:01:05.929888",
     "status": "completed"
    },
    "tags": []
   },
   "outputs": [
    {
     "name": "stdout",
     "output_type": "stream",
     "text": [
      "Dropping features: ['frau1']\n"
     ]
    }
   ],
   "source": [
    "if len(excluded_features_columns) > 0:\n",
    "    print(f\"Dropping features: {excluded_features_columns}\")\n",
    "    X_calib.drop(excluded_features_columns, axis=1, inplace=True)"
   ]
  },
  {
   "cell_type": "code",
   "execution_count": 27,
   "id": "3037356e",
   "metadata": {
    "execution": {
     "iopub.execute_input": "2025-08-19T19:01:06.041655Z",
     "iopub.status.busy": "2025-08-19T19:01:06.040613Z",
     "iopub.status.idle": "2025-08-19T19:01:06.049432Z",
     "shell.execute_reply": "2025-08-19T19:01:06.047619Z"
    },
    "papermill": {
     "duration": 0.024774,
     "end_time": "2025-08-19T19:01:06.051279",
     "exception": false,
     "start_time": "2025-08-19T19:01:06.026505",
     "status": "completed"
    },
    "tags": []
   },
   "outputs": [],
   "source": [
    "# EXCLUDE CERTAIN SUBGROUPS\n",
    "# -------------------------\n",
    "\n",
    "mode = universe.get(\"exclude_subgroups\", \"keep-all\") # Defaults to \"keep-all\" if the key is missing."
   ]
  },
  {
   "cell_type": "code",
   "execution_count": 28,
   "id": "9d1e63fd",
   "metadata": {
    "execution": {
     "iopub.execute_input": "2025-08-19T19:01:06.078917Z",
     "iopub.status.busy": "2025-08-19T19:01:06.077503Z",
     "iopub.status.idle": "2025-08-19T19:01:06.090495Z",
     "shell.execute_reply": "2025-08-19T19:01:06.088821Z"
    },
    "papermill": {
     "duration": 0.02764,
     "end_time": "2025-08-19T19:01:06.092360",
     "exception": false,
     "start_time": "2025-08-19T19:01:06.064720",
     "status": "completed"
    },
    "tags": []
   },
   "outputs": [],
   "source": [
    "if mode == \"keep-all\":\n",
    "    keep_mask = pd.Series(True, index=org_train.index)\n",
    "\n",
    "elif mode == \"drop-non-german\":\n",
    "    keep_mask = (org_train[\"maxdeutsch1\"] == 1) & (org_train[\"maxdeutsch.Missing.\"] == 0)\n",
    "\n",
    "else:\n",
    "    raise ValueError(f\"Unsupported mode for exclude_subgroups: {mode}\")"
   ]
  },
  {
   "cell_type": "code",
   "execution_count": 29,
   "id": "d3b65474",
   "metadata": {
    "execution": {
     "iopub.execute_input": "2025-08-19T19:01:06.120246Z",
     "iopub.status.busy": "2025-08-19T19:01:06.119108Z",
     "iopub.status.idle": "2025-08-19T19:01:06.132025Z",
     "shell.execute_reply": "2025-08-19T19:01:06.130279Z"
    },
    "papermill": {
     "duration": 0.027399,
     "end_time": "2025-08-19T19:01:06.133864",
     "exception": false,
     "start_time": "2025-08-19T19:01:06.106465",
     "status": "completed"
    },
    "tags": []
   },
   "outputs": [
    {
     "name": "stdout",
     "output_type": "stream",
     "text": [
      "Dropping 147 rows (14.70%) where mode='drop-non-german'\n"
     ]
    }
   ],
   "source": [
    "n_drop = (~keep_mask).sum() # Calculates how many rows are set to be dropped\n",
    "if n_drop > 0:\n",
    "    pct = n_drop / len(keep_mask) * 100\n",
    "    print(f\"Dropping {n_drop} rows ({pct:.2f}%) where mode='{mode}'\")"
   ]
  },
  {
   "cell_type": "code",
   "execution_count": 30,
   "id": "f44389b3",
   "metadata": {
    "execution": {
     "iopub.execute_input": "2025-08-19T19:01:06.162168Z",
     "iopub.status.busy": "2025-08-19T19:01:06.161029Z",
     "iopub.status.idle": "2025-08-19T19:01:06.171745Z",
     "shell.execute_reply": "2025-08-19T19:01:06.170041Z"
    },
    "papermill": {
     "duration": 0.025186,
     "end_time": "2025-08-19T19:01:06.173688",
     "exception": false,
     "start_time": "2025-08-19T19:01:06.148502",
     "status": "completed"
    },
    "tags": []
   },
   "outputs": [],
   "source": [
    "X_train = X_train[keep_mask]"
   ]
  },
  {
   "cell_type": "code",
   "execution_count": 31,
   "id": "ceca8c2a",
   "metadata": {
    "execution": {
     "iopub.execute_input": "2025-08-19T19:01:06.203454Z",
     "iopub.status.busy": "2025-08-19T19:01:06.202241Z",
     "iopub.status.idle": "2025-08-19T19:01:06.212269Z",
     "shell.execute_reply": "2025-08-19T19:01:06.210592Z"
    },
    "papermill": {
     "duration": 0.025196,
     "end_time": "2025-08-19T19:01:06.214354",
     "exception": false,
     "start_time": "2025-08-19T19:01:06.189158",
     "status": "completed"
    },
    "tags": []
   },
   "outputs": [],
   "source": [
    "y_train = y_train[keep_mask]"
   ]
  },
  {
   "cell_type": "markdown",
   "id": "04d31e2f",
   "metadata": {
    "papermill": {
     "duration": 0.014369,
     "end_time": "2025-08-19T19:01:06.244447",
     "exception": false,
     "start_time": "2025-08-19T19:01:06.230078",
     "status": "completed"
    },
    "tags": []
   },
   "source": [
    "# Model Training"
   ]
  },
  {
   "cell_type": "code",
   "execution_count": 32,
   "id": "db991733",
   "metadata": {
    "execution": {
     "iopub.execute_input": "2025-08-19T19:01:06.271289Z",
     "iopub.status.busy": "2025-08-19T19:01:06.270098Z",
     "iopub.status.idle": "2025-08-19T19:01:06.383051Z",
     "shell.execute_reply": "2025-08-19T19:01:06.382374Z"
    },
    "papermill": {
     "duration": 0.128217,
     "end_time": "2025-08-19T19:01:06.384705",
     "exception": false,
     "start_time": "2025-08-19T19:01:06.256488",
     "status": "completed"
    },
    "tags": []
   },
   "outputs": [],
   "source": [
    "from sklearn.linear_model import LogisticRegression\n",
    "from sklearn.ensemble import GradientBoostingClassifier, RandomForestClassifier\n",
    "\n",
    "if (universe[\"model\"] == \"logreg\"):\n",
    "    model = LogisticRegression() #penalty=\"none\", solver=\"newton-cg\", max_iter=1)\n",
    "elif (universe[\"model\"] == \"penalized_logreg\"):\n",
    "    model = LogisticRegression(penalty=\"l2\", C=0.1) #, solver=\"newton-cg\", max_iter=1)\n",
    "elif (universe[\"model\"] == \"rf\"):\n",
    "    model = RandomForestClassifier() # n_estimators=100, n_jobs=-1\n",
    "elif (universe[\"model\"] == \"gbm\"):\n",
    "    model = GradientBoostingClassifier()\n",
    "elif (universe[\"model\"] == \"elasticnet\"):\n",
    "    model = LogisticRegression(penalty = 'elasticnet', solver = 'saga', l1_ratio = 0.5) # max_iter=5000\n",
    "else:\n",
    "    raise \"Unsupported universe.model\""
   ]
  },
  {
   "cell_type": "code",
   "execution_count": 33,
   "id": "a4b5cd25",
   "metadata": {
    "execution": {
     "iopub.execute_input": "2025-08-19T19:01:06.408390Z",
     "iopub.status.busy": "2025-08-19T19:01:06.408027Z",
     "iopub.status.idle": "2025-08-19T19:01:06.414177Z",
     "shell.execute_reply": "2025-08-19T19:01:06.413307Z"
    },
    "papermill": {
     "duration": 0.019786,
     "end_time": "2025-08-19T19:01:06.415626",
     "exception": false,
     "start_time": "2025-08-19T19:01:06.395840",
     "status": "completed"
    },
    "tags": []
   },
   "outputs": [],
   "source": [
    "from sklearn.pipeline import Pipeline\n",
    "from sklearn.preprocessing import StandardScaler\n",
    "\n",
    "model = Pipeline([\n",
    "    #(\"continuous_processor\", continuous_processor),\n",
    "    #(\"categorical_preprocessor\", categorical_preprocessor),\n",
    "    (\"scale\", StandardScaler() if universe[\"scale\"] == \"scale\" else None), \n",
    "    (\"model\", model),\n",
    "])"
   ]
  },
  {
   "cell_type": "code",
   "execution_count": 34,
   "id": "283a904d",
   "metadata": {
    "execution": {
     "iopub.execute_input": "2025-08-19T19:01:06.438818Z",
     "iopub.status.busy": "2025-08-19T19:01:06.437847Z",
     "iopub.status.idle": "2025-08-19T19:01:06.503153Z",
     "shell.execute_reply": "2025-08-19T19:01:06.502230Z"
    },
    "papermill": {
     "duration": 0.078485,
     "end_time": "2025-08-19T19:01:06.504683",
     "exception": false,
     "start_time": "2025-08-19T19:01:06.426198",
     "status": "completed"
    },
    "tags": []
   },
   "outputs": [
    {
     "name": "stderr",
     "output_type": "stream",
     "text": [
      "/dss/dsshome1/0C/ra93lal2/.local/share/virtualenvs/CMA_Fairness_v2-3j10GkSs/lib/python3.10/site-packages/sklearn/linear_model/_logistic.py:444: ConvergenceWarning: lbfgs failed to converge (status=1):\n",
      "STOP: TOTAL NO. of ITERATIONS REACHED LIMIT.\n",
      "\n",
      "Increase the number of iterations (max_iter) or scale the data as shown in:\n",
      "    https://scikit-learn.org/stable/modules/preprocessing.html\n",
      "Please also refer to the documentation for alternative solver options:\n",
      "    https://scikit-learn.org/stable/modules/linear_model.html#logistic-regression\n",
      "  n_iter_i = _check_optimize_result(\n"
     ]
    },
    {
     "data": {
      "text/html": [
       "<style>#sk-container-id-1 {color: black;background-color: white;}#sk-container-id-1 pre{padding: 0;}#sk-container-id-1 div.sk-toggleable {background-color: white;}#sk-container-id-1 label.sk-toggleable__label {cursor: pointer;display: block;width: 100%;margin-bottom: 0;padding: 0.3em;box-sizing: border-box;text-align: center;}#sk-container-id-1 label.sk-toggleable__label-arrow:before {content: \"▸\";float: left;margin-right: 0.25em;color: #696969;}#sk-container-id-1 label.sk-toggleable__label-arrow:hover:before {color: black;}#sk-container-id-1 div.sk-estimator:hover label.sk-toggleable__label-arrow:before {color: black;}#sk-container-id-1 div.sk-toggleable__content {max-height: 0;max-width: 0;overflow: hidden;text-align: left;background-color: #f0f8ff;}#sk-container-id-1 div.sk-toggleable__content pre {margin: 0.2em;color: black;border-radius: 0.25em;background-color: #f0f8ff;}#sk-container-id-1 input.sk-toggleable__control:checked~div.sk-toggleable__content {max-height: 200px;max-width: 100%;overflow: auto;}#sk-container-id-1 input.sk-toggleable__control:checked~label.sk-toggleable__label-arrow:before {content: \"▾\";}#sk-container-id-1 div.sk-estimator input.sk-toggleable__control:checked~label.sk-toggleable__label {background-color: #d4ebff;}#sk-container-id-1 div.sk-label input.sk-toggleable__control:checked~label.sk-toggleable__label {background-color: #d4ebff;}#sk-container-id-1 input.sk-hidden--visually {border: 0;clip: rect(1px 1px 1px 1px);clip: rect(1px, 1px, 1px, 1px);height: 1px;margin: -1px;overflow: hidden;padding: 0;position: absolute;width: 1px;}#sk-container-id-1 div.sk-estimator {font-family: monospace;background-color: #f0f8ff;border: 1px dotted black;border-radius: 0.25em;box-sizing: border-box;margin-bottom: 0.5em;}#sk-container-id-1 div.sk-estimator:hover {background-color: #d4ebff;}#sk-container-id-1 div.sk-parallel-item::after {content: \"\";width: 100%;border-bottom: 1px solid gray;flex-grow: 1;}#sk-container-id-1 div.sk-label:hover label.sk-toggleable__label {background-color: #d4ebff;}#sk-container-id-1 div.sk-serial::before {content: \"\";position: absolute;border-left: 1px solid gray;box-sizing: border-box;top: 0;bottom: 0;left: 50%;z-index: 0;}#sk-container-id-1 div.sk-serial {display: flex;flex-direction: column;align-items: center;background-color: white;padding-right: 0.2em;padding-left: 0.2em;position: relative;}#sk-container-id-1 div.sk-item {position: relative;z-index: 1;}#sk-container-id-1 div.sk-parallel {display: flex;align-items: stretch;justify-content: center;background-color: white;position: relative;}#sk-container-id-1 div.sk-item::before, #sk-container-id-1 div.sk-parallel-item::before {content: \"\";position: absolute;border-left: 1px solid gray;box-sizing: border-box;top: 0;bottom: 0;left: 50%;z-index: -1;}#sk-container-id-1 div.sk-parallel-item {display: flex;flex-direction: column;z-index: 1;position: relative;background-color: white;}#sk-container-id-1 div.sk-parallel-item:first-child::after {align-self: flex-end;width: 50%;}#sk-container-id-1 div.sk-parallel-item:last-child::after {align-self: flex-start;width: 50%;}#sk-container-id-1 div.sk-parallel-item:only-child::after {width: 0;}#sk-container-id-1 div.sk-dashed-wrapped {border: 1px dashed gray;margin: 0 0.4em 0.5em 0.4em;box-sizing: border-box;padding-bottom: 0.4em;background-color: white;}#sk-container-id-1 div.sk-label label {font-family: monospace;font-weight: bold;display: inline-block;line-height: 1.2em;}#sk-container-id-1 div.sk-label-container {text-align: center;}#sk-container-id-1 div.sk-container {/* jupyter's `normalize.less` sets `[hidden] { display: none; }` but bootstrap.min.css set `[hidden] { display: none !important; }` so we also need the `!important` here to be able to override the default hidden behavior on the sphinx rendered scikit-learn.org. See: https://github.com/scikit-learn/scikit-learn/issues/21755 */display: inline-block !important;position: relative;}#sk-container-id-1 div.sk-text-repr-fallback {display: none;}</style><div id=\"sk-container-id-1\" class=\"sk-top-container\"><div class=\"sk-text-repr-fallback\"><pre>Pipeline(steps=[(&#x27;scale&#x27;, None), (&#x27;model&#x27;, LogisticRegression())])</pre><b>In a Jupyter environment, please rerun this cell to show the HTML representation or trust the notebook. <br />On GitHub, the HTML representation is unable to render, please try loading this page with nbviewer.org.</b></div><div class=\"sk-container\" hidden><div class=\"sk-item sk-dashed-wrapped\"><div class=\"sk-label-container\"><div class=\"sk-label sk-toggleable\"><input class=\"sk-toggleable__control sk-hidden--visually\" id=\"sk-estimator-id-1\" type=\"checkbox\" ><label for=\"sk-estimator-id-1\" class=\"sk-toggleable__label sk-toggleable__label-arrow\">Pipeline</label><div class=\"sk-toggleable__content\"><pre>Pipeline(steps=[(&#x27;scale&#x27;, None), (&#x27;model&#x27;, LogisticRegression())])</pre></div></div></div><div class=\"sk-serial\"><div class=\"sk-item\"><div class=\"sk-estimator sk-toggleable\"><input class=\"sk-toggleable__control sk-hidden--visually\" id=\"sk-estimator-id-2\" type=\"checkbox\" ><label for=\"sk-estimator-id-2\" class=\"sk-toggleable__label sk-toggleable__label-arrow\">None</label><div class=\"sk-toggleable__content\"><pre>None</pre></div></div></div><div class=\"sk-item\"><div class=\"sk-estimator sk-toggleable\"><input class=\"sk-toggleable__control sk-hidden--visually\" id=\"sk-estimator-id-3\" type=\"checkbox\" ><label for=\"sk-estimator-id-3\" class=\"sk-toggleable__label sk-toggleable__label-arrow\">LogisticRegression</label><div class=\"sk-toggleable__content\"><pre>LogisticRegression()</pre></div></div></div></div></div></div></div>"
      ],
      "text/plain": [
       "Pipeline(steps=[('scale', None), ('model', LogisticRegression())])"
      ]
     },
     "execution_count": 34,
     "metadata": {},
     "output_type": "execute_result"
    }
   ],
   "source": [
    "model.fit(X_train, y_train.values.ravel())"
   ]
  },
  {
   "cell_type": "code",
   "execution_count": 35,
   "id": "6e15e313",
   "metadata": {
    "execution": {
     "iopub.execute_input": "2025-08-19T19:01:06.530050Z",
     "iopub.status.busy": "2025-08-19T19:01:06.529326Z",
     "iopub.status.idle": "2025-08-19T19:01:06.635096Z",
     "shell.execute_reply": "2025-08-19T19:01:06.634403Z"
    },
    "papermill": {
     "duration": 0.119574,
     "end_time": "2025-08-19T19:01:06.636314",
     "exception": false,
     "start_time": "2025-08-19T19:01:06.516740",
     "status": "completed"
    },
    "tags": []
   },
   "outputs": [
    {
     "data": {
      "text/plain": [
       "0.8607847508638947"
      ]
     },
     "execution_count": 35,
     "metadata": {},
     "output_type": "execute_result"
    }
   ],
   "source": [
    "from fairness_multiverse.universe import predict_w_threshold\n",
    "\n",
    "probs_test = model.predict_proba(X_test)\n",
    "\n",
    "'''\n",
    "Below code returns a boolean array (or binary 0/1 array depending on how it’s used) where each element \n",
    "is True if the probability of class 1 is greater than or equal to the threshold, and False otherwise.\n",
    "'''\n",
    "y_pred_default = predict_w_threshold(probs_test, 0.5)\n",
    "\n",
    "from sklearn.metrics import accuracy_score\n",
    "\n",
    "# Naive prediction\n",
    "accuracy_score(y_true = y_true, y_pred = y_pred_default)"
   ]
  },
  {
   "cell_type": "code",
   "execution_count": 36,
   "id": "6f14067c",
   "metadata": {
    "execution": {
     "iopub.execute_input": "2025-08-19T19:01:06.687867Z",
     "iopub.status.busy": "2025-08-19T19:01:06.678982Z",
     "iopub.status.idle": "2025-08-19T19:01:06.790965Z",
     "shell.execute_reply": "2025-08-19T19:01:06.790199Z"
    },
    "papermill": {
     "duration": 0.141442,
     "end_time": "2025-08-19T19:01:06.792392",
     "exception": false,
     "start_time": "2025-08-19T19:01:06.650950",
     "status": "completed"
    },
    "tags": []
   },
   "outputs": [
    {
     "data": {
      "text/plain": [
       "array([0, 0, 0, ..., 0, 0, 0])"
      ]
     },
     "execution_count": 36,
     "metadata": {},
     "output_type": "execute_result"
    }
   ],
   "source": [
    "model.predict(X_test)"
   ]
  },
  {
   "cell_type": "markdown",
   "id": "3759920c",
   "metadata": {
    "papermill": {
     "duration": 0.0114,
     "end_time": "2025-08-19T19:01:06.815489",
     "exception": false,
     "start_time": "2025-08-19T19:01:06.804089",
     "status": "completed"
    },
    "tags": []
   },
   "source": [
    "# Conformal Prediction"
   ]
  },
  {
   "cell_type": "code",
   "execution_count": 37,
   "id": "14b27f59",
   "metadata": {
    "execution": {
     "iopub.execute_input": "2025-08-19T19:01:06.841503Z",
     "iopub.status.busy": "2025-08-19T19:01:06.840138Z",
     "iopub.status.idle": "2025-08-19T19:01:06.855266Z",
     "shell.execute_reply": "2025-08-19T19:01:06.854036Z"
    },
    "papermill": {
     "duration": 0.029907,
     "end_time": "2025-08-19T19:01:06.857217",
     "exception": false,
     "start_time": "2025-08-19T19:01:06.827310",
     "status": "completed"
    },
    "tags": []
   },
   "outputs": [],
   "source": [
    "# Miscoverage level for conformal prediction (10% allowed error rate => 90% target coverage)\n",
    "alpha = 0.1"
   ]
  },
  {
   "cell_type": "code",
   "execution_count": 38,
   "id": "59102472",
   "metadata": {
    "execution": {
     "iopub.execute_input": "2025-08-19T19:01:06.887542Z",
     "iopub.status.busy": "2025-08-19T19:01:06.887099Z",
     "iopub.status.idle": "2025-08-19T19:01:06.974682Z",
     "shell.execute_reply": "2025-08-19T19:01:06.973888Z"
    },
    "papermill": {
     "duration": 0.103178,
     "end_time": "2025-08-19T19:01:06.977527",
     "exception": false,
     "start_time": "2025-08-19T19:01:06.874349",
     "status": "completed"
    },
    "tags": []
   },
   "outputs": [],
   "source": [
    "probs_calib = model.predict_proba(X_calib)"
   ]
  },
  {
   "cell_type": "code",
   "execution_count": 39,
   "id": "a792d4dd",
   "metadata": {
    "execution": {
     "iopub.execute_input": "2025-08-19T19:01:07.017945Z",
     "iopub.status.busy": "2025-08-19T19:01:07.017326Z",
     "iopub.status.idle": "2025-08-19T19:01:07.024599Z",
     "shell.execute_reply": "2025-08-19T19:01:07.023415Z"
    },
    "papermill": {
     "duration": 0.023804,
     "end_time": "2025-08-19T19:01:07.026348",
     "exception": false,
     "start_time": "2025-08-19T19:01:07.002544",
     "status": "completed"
    },
    "tags": []
   },
   "outputs": [],
   "source": [
    "y_calib = y_calib.values.ravel().astype(int)"
   ]
  },
  {
   "cell_type": "code",
   "execution_count": 40,
   "id": "650fd033",
   "metadata": {
    "execution": {
     "iopub.execute_input": "2025-08-19T19:01:07.055468Z",
     "iopub.status.busy": "2025-08-19T19:01:07.053894Z",
     "iopub.status.idle": "2025-08-19T19:01:07.064534Z",
     "shell.execute_reply": "2025-08-19T19:01:07.063842Z"
    },
    "papermill": {
     "duration": 0.025211,
     "end_time": "2025-08-19T19:01:07.065792",
     "exception": false,
     "start_time": "2025-08-19T19:01:07.040581",
     "status": "completed"
    },
    "tags": []
   },
   "outputs": [],
   "source": [
    "from fairness_multiverse.conformal import compute_nc_scores\n",
    "\n",
    "# Compute nonconformity scores on calibration set (1 - probability of true class)\n",
    "nc_scores = compute_nc_scores(probs_calib, y_calib)"
   ]
  },
  {
   "cell_type": "code",
   "execution_count": 41,
   "id": "28ada44c",
   "metadata": {
    "execution": {
     "iopub.execute_input": "2025-08-19T19:01:07.115165Z",
     "iopub.status.busy": "2025-08-19T19:01:07.114745Z",
     "iopub.status.idle": "2025-08-19T19:01:07.308308Z",
     "shell.execute_reply": "2025-08-19T19:01:07.307302Z"
    },
    "papermill": {
     "duration": 0.225334,
     "end_time": "2025-08-19T19:01:07.310550",
     "exception": false,
     "start_time": "2025-08-19T19:01:07.085216",
     "status": "completed"
    },
    "tags": []
   },
   "outputs": [],
   "source": [
    "from fairness_multiverse.conformal import find_threshold\n",
    "\n",
    "# Find conformal threshold q_hat for the given alpha (split conformal method)\n",
    "q_hat = find_threshold(nc_scores, alpha)"
   ]
  },
  {
   "cell_type": "code",
   "execution_count": 42,
   "id": "df56469e",
   "metadata": {
    "execution": {
     "iopub.execute_input": "2025-08-19T19:01:07.336467Z",
     "iopub.status.busy": "2025-08-19T19:01:07.336117Z",
     "iopub.status.idle": "2025-08-19T19:01:07.342439Z",
     "shell.execute_reply": "2025-08-19T19:01:07.341626Z"
    },
    "papermill": {
     "duration": 0.021553,
     "end_time": "2025-08-19T19:01:07.345444",
     "exception": false,
     "start_time": "2025-08-19T19:01:07.323891",
     "status": "completed"
    },
    "tags": []
   },
   "outputs": [
    {
     "data": {
      "text/plain": [
       "0.6851116398480936"
      ]
     },
     "execution_count": 42,
     "metadata": {},
     "output_type": "execute_result"
    }
   ],
   "source": [
    "q_hat"
   ]
  },
  {
   "cell_type": "code",
   "execution_count": 43,
   "id": "aa1f5faa",
   "metadata": {
    "execution": {
     "iopub.execute_input": "2025-08-19T19:01:07.393417Z",
     "iopub.status.busy": "2025-08-19T19:01:07.393041Z",
     "iopub.status.idle": "2025-08-19T19:01:08.000212Z",
     "shell.execute_reply": "2025-08-19T19:01:07.999327Z"
    },
    "papermill": {
     "duration": 0.633635,
     "end_time": "2025-08-19T19:01:08.002202",
     "exception": false,
     "start_time": "2025-08-19T19:01:07.368567",
     "status": "completed"
    },
    "tags": []
   },
   "outputs": [],
   "source": [
    "from fairness_multiverse.conformal import predict_conformal_sets\n",
    "\n",
    "# Generate prediction sets for each test example\n",
    "pred_sets = predict_conformal_sets(model, X_test, q_hat)"
   ]
  },
  {
   "cell_type": "code",
   "execution_count": 44,
   "id": "97f67a6b",
   "metadata": {
    "execution": {
     "iopub.execute_input": "2025-08-19T19:01:08.042947Z",
     "iopub.status.busy": "2025-08-19T19:01:08.042382Z",
     "iopub.status.idle": "2025-08-19T19:01:08.047571Z",
     "shell.execute_reply": "2025-08-19T19:01:08.046863Z"
    },
    "papermill": {
     "duration": 0.024836,
     "end_time": "2025-08-19T19:01:08.049105",
     "exception": false,
     "start_time": "2025-08-19T19:01:08.024269",
     "status": "completed"
    },
    "tags": []
   },
   "outputs": [],
   "source": [
    "y_true = y_true.squeeze()"
   ]
  },
  {
   "cell_type": "code",
   "execution_count": 45,
   "id": "e700e9a7",
   "metadata": {
    "execution": {
     "iopub.execute_input": "2025-08-19T19:01:08.074682Z",
     "iopub.status.busy": "2025-08-19T19:01:08.074241Z",
     "iopub.status.idle": "2025-08-19T19:01:08.575316Z",
     "shell.execute_reply": "2025-08-19T19:01:08.574127Z"
    },
    "papermill": {
     "duration": 0.515619,
     "end_time": "2025-08-19T19:01:08.577182",
     "exception": false,
     "start_time": "2025-08-19T19:01:08.061563",
     "status": "completed"
    },
    "tags": []
   },
   "outputs": [],
   "source": [
    "from fairness_multiverse.conformal import evaluate_sets\n",
    "\n",
    "# Evaluate coverage and average set size on test data\n",
    "metrics = evaluate_sets(pred_sets, y_true)"
   ]
  },
  {
   "cell_type": "markdown",
   "id": "efbacec0",
   "metadata": {
    "papermill": {
     "duration": 0.012974,
     "end_time": "2025-08-19T19:01:08.603939",
     "exception": false,
     "start_time": "2025-08-19T19:01:08.590965",
     "status": "completed"
    },
    "tags": []
   },
   "source": [
    "# CP Metrics"
   ]
  },
  {
   "cell_type": "code",
   "execution_count": 46,
   "id": "9de55fb1",
   "metadata": {
    "execution": {
     "iopub.execute_input": "2025-08-19T19:01:08.629385Z",
     "iopub.status.busy": "2025-08-19T19:01:08.628833Z",
     "iopub.status.idle": "2025-08-19T19:01:08.635640Z",
     "shell.execute_reply": "2025-08-19T19:01:08.634920Z"
    },
    "papermill": {
     "duration": 0.02234,
     "end_time": "2025-08-19T19:01:08.637961",
     "exception": false,
     "start_time": "2025-08-19T19:01:08.615621",
     "status": "completed"
    },
    "tags": []
   },
   "outputs": [
    {
     "data": {
      "text/plain": [
       "{'coverage': 0.9118938802809051, 'avg_size': 1.2203990636495374}"
      ]
     },
     "execution_count": 46,
     "metadata": {},
     "output_type": "execute_result"
    }
   ],
   "source": [
    "metrics"
   ]
  },
  {
   "cell_type": "code",
   "execution_count": 47,
   "id": "64c340a1",
   "metadata": {
    "execution": {
     "iopub.execute_input": "2025-08-19T19:01:08.702392Z",
     "iopub.status.busy": "2025-08-19T19:01:08.701879Z",
     "iopub.status.idle": "2025-08-19T19:01:08.707913Z",
     "shell.execute_reply": "2025-08-19T19:01:08.707111Z"
    },
    "papermill": {
     "duration": 0.035564,
     "end_time": "2025-08-19T19:01:08.709464",
     "exception": false,
     "start_time": "2025-08-19T19:01:08.673900",
     "status": "completed"
    },
    "tags": []
   },
   "outputs": [],
   "source": [
    "example_universe = universe.copy()\n",
    "universe_training_year = example_universe.get(\"training_year\")\n",
    "universe_training_size = example_universe.get(\"training_size\")\n",
    "universe_scale = example_universe.get(\"scale\")\n",
    "universe_model = example_universe.get(\"model\")\n",
    "universe_exclude_features = example_universe.get(\"exclude_features\")\n",
    "universe_exclude_subgroups = example_universe.get(\"exclude_subgroups\")"
   ]
  },
  {
   "cell_type": "code",
   "execution_count": 48,
   "id": "dbb53cb4",
   "metadata": {
    "execution": {
     "iopub.execute_input": "2025-08-19T19:01:08.736110Z",
     "iopub.status.busy": "2025-08-19T19:01:08.735665Z",
     "iopub.status.idle": "2025-08-19T19:01:08.740936Z",
     "shell.execute_reply": "2025-08-19T19:01:08.740187Z"
    },
    "papermill": {
     "duration": 0.021959,
     "end_time": "2025-08-19T19:01:08.744842",
     "exception": false,
     "start_time": "2025-08-19T19:01:08.722883",
     "status": "completed"
    },
    "tags": []
   },
   "outputs": [],
   "source": [
    "cp_metrics_dict = {\n",
    "    \"universe_id\": [universe_id],\n",
    "    \"universe_training_year\": [universe_training_year],\n",
    "    \"universe_training_size\": [universe_training_size],\n",
    "    \"universe_scale\": [universe_scale],\n",
    "    \"universe_model\": [universe_model],\n",
    "    \"universe_exclude_features\": [universe_exclude_features],\n",
    "    \"universe_exclude_subgroups\": [universe_exclude_subgroups],\n",
    "    \"q_hat\": [q_hat],\n",
    "    \"coverage\": [metrics[\"coverage\"]],\n",
    "    \"avg_size\": [metrics[\"avg_size\"]],\n",
    "}"
   ]
  },
  {
   "cell_type": "code",
   "execution_count": 49,
   "id": "0d70d4b2",
   "metadata": {
    "execution": {
     "iopub.execute_input": "2025-08-19T19:01:08.777729Z",
     "iopub.status.busy": "2025-08-19T19:01:08.777244Z",
     "iopub.status.idle": "2025-08-19T19:01:08.783353Z",
     "shell.execute_reply": "2025-08-19T19:01:08.782588Z"
    },
    "papermill": {
     "duration": 0.022864,
     "end_time": "2025-08-19T19:01:08.784822",
     "exception": false,
     "start_time": "2025-08-19T19:01:08.761958",
     "status": "completed"
    },
    "tags": []
   },
   "outputs": [],
   "source": [
    "cp_metrics_df = pd.DataFrame(cp_metrics_dict)"
   ]
  },
  {
   "cell_type": "code",
   "execution_count": 50,
   "id": "b494403c",
   "metadata": {
    "execution": {
     "iopub.execute_input": "2025-08-19T19:01:08.811159Z",
     "iopub.status.busy": "2025-08-19T19:01:08.810619Z",
     "iopub.status.idle": "2025-08-19T19:01:08.825953Z",
     "shell.execute_reply": "2025-08-19T19:01:08.824855Z"
    },
    "papermill": {
     "duration": 0.030181,
     "end_time": "2025-08-19T19:01:08.827649",
     "exception": false,
     "start_time": "2025-08-19T19:01:08.797468",
     "status": "completed"
    },
    "tags": []
   },
   "outputs": [
    {
     "data": {
      "text/html": [
       "<div>\n",
       "<style scoped>\n",
       "    .dataframe tbody tr th:only-of-type {\n",
       "        vertical-align: middle;\n",
       "    }\n",
       "\n",
       "    .dataframe tbody tr th {\n",
       "        vertical-align: top;\n",
       "    }\n",
       "\n",
       "    .dataframe thead th {\n",
       "        text-align: right;\n",
       "    }\n",
       "</style>\n",
       "<table border=\"1\" class=\"dataframe\">\n",
       "  <thead>\n",
       "    <tr style=\"text-align: right;\">\n",
       "      <th></th>\n",
       "      <th>universe_id</th>\n",
       "      <th>universe_training_year</th>\n",
       "      <th>universe_training_size</th>\n",
       "      <th>universe_scale</th>\n",
       "      <th>universe_model</th>\n",
       "      <th>universe_exclude_features</th>\n",
       "      <th>universe_exclude_subgroups</th>\n",
       "      <th>q_hat</th>\n",
       "      <th>coverage</th>\n",
       "      <th>avg_size</th>\n",
       "    </tr>\n",
       "  </thead>\n",
       "  <tbody>\n",
       "    <tr>\n",
       "      <th>0</th>\n",
       "      <td>c067fe78f83f2e1744a9ea584291aa98</td>\n",
       "      <td>2012_14</td>\n",
       "      <td>1k</td>\n",
       "      <td>do-not-scale</td>\n",
       "      <td>logreg</td>\n",
       "      <td>sex</td>\n",
       "      <td>drop-non-german</td>\n",
       "      <td>0.685112</td>\n",
       "      <td>0.911894</td>\n",
       "      <td>1.220399</td>\n",
       "    </tr>\n",
       "  </tbody>\n",
       "</table>\n",
       "</div>"
      ],
      "text/plain": [
       "                        universe_id universe_training_year  \\\n",
       "0  c067fe78f83f2e1744a9ea584291aa98                2012_14   \n",
       "\n",
       "  universe_training_size universe_scale universe_model  \\\n",
       "0                     1k   do-not-scale         logreg   \n",
       "\n",
       "  universe_exclude_features universe_exclude_subgroups     q_hat  coverage  \\\n",
       "0                       sex            drop-non-german  0.685112  0.911894   \n",
       "\n",
       "   avg_size  \n",
       "0  1.220399  "
      ]
     },
     "execution_count": 50,
     "metadata": {},
     "output_type": "execute_result"
    }
   ],
   "source": [
    "cp_metrics_df"
   ]
  },
  {
   "cell_type": "markdown",
   "id": "ed608b0b",
   "metadata": {
    "papermill": {
     "duration": 0.012177,
     "end_time": "2025-08-19T19:01:08.852590",
     "exception": false,
     "start_time": "2025-08-19T19:01:08.840413",
     "status": "completed"
    },
    "tags": []
   },
   "source": [
    "Conditional coverage & looking at subgroups"
   ]
  },
  {
   "cell_type": "code",
   "execution_count": 51,
   "id": "8968c366",
   "metadata": {
    "execution": {
     "iopub.execute_input": "2025-08-19T19:01:08.878163Z",
     "iopub.status.busy": "2025-08-19T19:01:08.877640Z",
     "iopub.status.idle": "2025-08-19T19:01:09.173419Z",
     "shell.execute_reply": "2025-08-19T19:01:09.172593Z"
    },
    "papermill": {
     "duration": 0.310496,
     "end_time": "2025-08-19T19:01:09.175082",
     "exception": false,
     "start_time": "2025-08-19T19:01:08.864586",
     "status": "completed"
    },
    "tags": []
   },
   "outputs": [],
   "source": [
    "from fairness_multiverse.conformal import build_cp_groups\n",
    "\n",
    "cp_groups_df = build_cp_groups(pred_sets, y_true, X_test.index, org_test)"
   ]
  },
  {
   "cell_type": "code",
   "execution_count": 52,
   "id": "292ddabf",
   "metadata": {
    "execution": {
     "iopub.execute_input": "2025-08-19T19:01:09.218318Z",
     "iopub.status.busy": "2025-08-19T19:01:09.204202Z",
     "iopub.status.idle": "2025-08-19T19:01:10.103310Z",
     "shell.execute_reply": "2025-08-19T19:01:10.102075Z"
    },
    "papermill": {
     "duration": 0.91476,
     "end_time": "2025-08-19T19:01:10.105075",
     "exception": false,
     "start_time": "2025-08-19T19:01:09.190315",
     "status": "completed"
    },
    "tags": []
   },
   "outputs": [],
   "source": [
    "# Define covered = 1 if true_label is in the predicted set\n",
    "cp_groups_df['covered'] = cp_groups_df.apply(\n",
    "    lambda r: int(r['true_label'] in r['pred_set']),\n",
    "    axis=1\n",
    ")"
   ]
  },
  {
   "cell_type": "code",
   "execution_count": 53,
   "id": "3a261692",
   "metadata": {
    "execution": {
     "iopub.execute_input": "2025-08-19T19:01:10.133941Z",
     "iopub.status.busy": "2025-08-19T19:01:10.132653Z",
     "iopub.status.idle": "2025-08-19T19:01:10.158937Z",
     "shell.execute_reply": "2025-08-19T19:01:10.157932Z"
    },
    "papermill": {
     "duration": 0.043282,
     "end_time": "2025-08-19T19:01:10.161301",
     "exception": false,
     "start_time": "2025-08-19T19:01:10.118019",
     "status": "completed"
    },
    "tags": []
   },
   "outputs": [],
   "source": [
    "subgroups = ['frau1','nongerman','nongerman_male','nongerman_female']\n",
    "\n",
    "# Conditional coverage for subgroup==1\n",
    "cond_coverage = {\n",
    "    g: cp_groups_df.loc[cp_groups_df[g]==1, 'covered'].mean()\n",
    "    for g in subgroups\n",
    "}"
   ]
  },
  {
   "cell_type": "code",
   "execution_count": 54,
   "id": "894fd600",
   "metadata": {
    "execution": {
     "iopub.execute_input": "2025-08-19T19:01:10.200614Z",
     "iopub.status.busy": "2025-08-19T19:01:10.198957Z",
     "iopub.status.idle": "2025-08-19T19:01:10.210294Z",
     "shell.execute_reply": "2025-08-19T19:01:10.209309Z"
    },
    "papermill": {
     "duration": 0.028019,
     "end_time": "2025-08-19T19:01:10.211974",
     "exception": false,
     "start_time": "2025-08-19T19:01:10.183955",
     "status": "completed"
    },
    "tags": []
   },
   "outputs": [
    {
     "data": {
      "text/plain": [
       "{'frau1': 0.9109853079929909,\n",
       " 'nongerman': 0.9369000168416325,\n",
       " 'nongerman_male': 0.9478519319102945,\n",
       " 'nongerman_female': 0.9187779433681073}"
      ]
     },
     "execution_count": 54,
     "metadata": {},
     "output_type": "execute_result"
    }
   ],
   "source": [
    "cond_coverage"
   ]
  },
  {
   "cell_type": "code",
   "execution_count": 55,
   "id": "942895c7",
   "metadata": {
    "execution": {
     "iopub.execute_input": "2025-08-19T19:01:10.260852Z",
     "iopub.status.busy": "2025-08-19T19:01:10.249148Z",
     "iopub.status.idle": "2025-08-19T19:01:10.267877Z",
     "shell.execute_reply": "2025-08-19T19:01:10.267001Z"
    },
    "papermill": {
     "duration": 0.042218,
     "end_time": "2025-08-19T19:01:10.269825",
     "exception": false,
     "start_time": "2025-08-19T19:01:10.227607",
     "status": "completed"
    },
    "tags": []
   },
   "outputs": [],
   "source": [
    "for subgroup, cov in cond_coverage.items():\n",
    "    cp_metrics_df[f\"cov_{subgroup}\"] = cov"
   ]
  },
  {
   "cell_type": "code",
   "execution_count": 56,
   "id": "3970120f",
   "metadata": {
    "execution": {
     "iopub.execute_input": "2025-08-19T19:01:10.303993Z",
     "iopub.status.busy": "2025-08-19T19:01:10.303594Z",
     "iopub.status.idle": "2025-08-19T19:01:10.319989Z",
     "shell.execute_reply": "2025-08-19T19:01:10.319136Z"
    },
    "papermill": {
     "duration": 0.031317,
     "end_time": "2025-08-19T19:01:10.321359",
     "exception": false,
     "start_time": "2025-08-19T19:01:10.290042",
     "status": "completed"
    },
    "tags": []
   },
   "outputs": [
    {
     "data": {
      "text/html": [
       "<div>\n",
       "<style scoped>\n",
       "    .dataframe tbody tr th:only-of-type {\n",
       "        vertical-align: middle;\n",
       "    }\n",
       "\n",
       "    .dataframe tbody tr th {\n",
       "        vertical-align: top;\n",
       "    }\n",
       "\n",
       "    .dataframe thead th {\n",
       "        text-align: right;\n",
       "    }\n",
       "</style>\n",
       "<table border=\"1\" class=\"dataframe\">\n",
       "  <thead>\n",
       "    <tr style=\"text-align: right;\">\n",
       "      <th></th>\n",
       "      <th>universe_id</th>\n",
       "      <th>universe_training_year</th>\n",
       "      <th>universe_training_size</th>\n",
       "      <th>universe_scale</th>\n",
       "      <th>universe_model</th>\n",
       "      <th>universe_exclude_features</th>\n",
       "      <th>universe_exclude_subgroups</th>\n",
       "      <th>q_hat</th>\n",
       "      <th>coverage</th>\n",
       "      <th>avg_size</th>\n",
       "      <th>cov_frau1</th>\n",
       "      <th>cov_nongerman</th>\n",
       "      <th>cov_nongerman_male</th>\n",
       "      <th>cov_nongerman_female</th>\n",
       "    </tr>\n",
       "  </thead>\n",
       "  <tbody>\n",
       "    <tr>\n",
       "      <th>0</th>\n",
       "      <td>c067fe78f83f2e1744a9ea584291aa98</td>\n",
       "      <td>2012_14</td>\n",
       "      <td>1k</td>\n",
       "      <td>do-not-scale</td>\n",
       "      <td>logreg</td>\n",
       "      <td>sex</td>\n",
       "      <td>drop-non-german</td>\n",
       "      <td>0.685112</td>\n",
       "      <td>0.911894</td>\n",
       "      <td>1.220399</td>\n",
       "      <td>0.910985</td>\n",
       "      <td>0.9369</td>\n",
       "      <td>0.947852</td>\n",
       "      <td>0.918778</td>\n",
       "    </tr>\n",
       "  </tbody>\n",
       "</table>\n",
       "</div>"
      ],
      "text/plain": [
       "                        universe_id universe_training_year  \\\n",
       "0  c067fe78f83f2e1744a9ea584291aa98                2012_14   \n",
       "\n",
       "  universe_training_size universe_scale universe_model  \\\n",
       "0                     1k   do-not-scale         logreg   \n",
       "\n",
       "  universe_exclude_features universe_exclude_subgroups     q_hat  coverage  \\\n",
       "0                       sex            drop-non-german  0.685112  0.911894   \n",
       "\n",
       "   avg_size  cov_frau1  cov_nongerman  cov_nongerman_male  \\\n",
       "0  1.220399   0.910985         0.9369            0.947852   \n",
       "\n",
       "   cov_nongerman_female  \n",
       "0              0.918778  "
      ]
     },
     "execution_count": 56,
     "metadata": {},
     "output_type": "execute_result"
    }
   ],
   "source": [
    "cp_metrics_df"
   ]
  },
  {
   "cell_type": "markdown",
   "id": "3fc519cc",
   "metadata": {
    "papermill": {
     "duration": 0.013836,
     "end_time": "2025-08-19T19:01:10.348334",
     "exception": false,
     "start_time": "2025-08-19T19:01:10.334498",
     "status": "completed"
    },
    "tags": []
   },
   "source": [
    "# (Fairness) Metrics"
   ]
  },
  {
   "cell_type": "code",
   "execution_count": 57,
   "id": "a2e5e155",
   "metadata": {
    "execution": {
     "iopub.execute_input": "2025-08-19T19:01:10.378010Z",
     "iopub.status.busy": "2025-08-19T19:01:10.377398Z",
     "iopub.status.idle": "2025-08-19T19:01:10.404665Z",
     "shell.execute_reply": "2025-08-19T19:01:10.402934Z"
    },
    "papermill": {
     "duration": 0.044244,
     "end_time": "2025-08-19T19:01:10.407913",
     "exception": false,
     "start_time": "2025-08-19T19:01:10.363669",
     "status": "completed"
    },
    "tags": []
   },
   "outputs": [],
   "source": [
    "colname_to_bin = \"maxdeutsch1\"\n",
    "majority_value = org_train[colname_to_bin].mode()[0]\n",
    "\n",
    "org_test[\"majmin\"] = np.where(org_test[colname_to_bin] == majority_value, \"majority\", \"minority\")"
   ]
  },
  {
   "cell_type": "code",
   "execution_count": 58,
   "id": "17e3e4d5",
   "metadata": {
    "execution": {
     "iopub.execute_input": "2025-08-19T19:01:10.441987Z",
     "iopub.status.busy": "2025-08-19T19:01:10.441227Z",
     "iopub.status.idle": "2025-08-19T19:01:12.225591Z",
     "shell.execute_reply": "2025-08-19T19:01:12.224295Z"
    },
    "papermill": {
     "duration": 1.80075,
     "end_time": "2025-08-19T19:01:12.227362",
     "exception": false,
     "start_time": "2025-08-19T19:01:10.426612",
     "status": "completed"
    },
    "tags": []
   },
   "outputs": [],
   "source": [
    "example_universe = universe.copy()\n",
    "example_universe[\"cutoff\"] = example_universe[\"cutoff\"][0]\n",
    "example_universe[\"eval_fairness_grouping\"] = example_universe[\"eval_fairness_grouping\"][0]\n",
    "fairness_dict, metric_frame = universe_analysis.compute_metrics(\n",
    "    example_universe,\n",
    "    y_pred_prob=probs_test,\n",
    "    y_test=y_true,\n",
    "    org_test=org_test,\n",
    ")"
   ]
  },
  {
   "cell_type": "markdown",
   "id": "1fb7a0e9",
   "metadata": {
    "papermill": {
     "duration": 0.013782,
     "end_time": "2025-08-19T19:01:12.257272",
     "exception": false,
     "start_time": "2025-08-19T19:01:12.243490",
     "status": "completed"
    },
    "tags": []
   },
   "source": [
    "# Overall"
   ]
  },
  {
   "cell_type": "markdown",
   "id": "be1784b1",
   "metadata": {
    "papermill": {
     "duration": 0.022892,
     "end_time": "2025-08-19T19:01:12.293051",
     "exception": false,
     "start_time": "2025-08-19T19:01:12.270159",
     "status": "completed"
    },
    "tags": []
   },
   "source": [
    "Main fairness target: Equalized Odds. Seems to be a better fit than equal opportunity, since we're not only interested in Y = 1. Seems to be a better fit than demographic parity, since we also care about accuracy, not just equal distribution of preds.\n",
    "\n",
    "Pick column for computation of fairness metrics\n",
    "\n",
    "Performance\n",
    "Overall performance measures, most interesting in relation to the measures split by group below"
   ]
  },
  {
   "cell_type": "code",
   "execution_count": 59,
   "id": "b7672bee",
   "metadata": {
    "execution": {
     "iopub.execute_input": "2025-08-19T19:01:12.326188Z",
     "iopub.status.busy": "2025-08-19T19:01:12.325633Z",
     "iopub.status.idle": "2025-08-19T19:01:12.333971Z",
     "shell.execute_reply": "2025-08-19T19:01:12.333283Z"
    },
    "papermill": {
     "duration": 0.028511,
     "end_time": "2025-08-19T19:01:12.337612",
     "exception": false,
     "start_time": "2025-08-19T19:01:12.309101",
     "status": "completed"
    },
    "tags": []
   },
   "outputs": [
    {
     "data": {
      "text/plain": [
       "accuracy                   0.212741\n",
       "balanced accuracy          0.522618\n",
       "f1                         0.234392\n",
       "precision                  0.133901\n",
       "false positive rate        0.894197\n",
       "false negative rate        0.060567\n",
       "selection rate             0.900000\n",
       "count                  89710.000000\n",
       "dtype: float64"
      ]
     },
     "execution_count": 59,
     "metadata": {},
     "output_type": "execute_result"
    }
   ],
   "source": [
    "metric_frame.overall"
   ]
  },
  {
   "cell_type": "markdown",
   "id": "d93333c9",
   "metadata": {
    "papermill": {
     "duration": 0.013621,
     "end_time": "2025-08-19T19:01:12.366222",
     "exception": false,
     "start_time": "2025-08-19T19:01:12.352601",
     "status": "completed"
    },
    "tags": []
   },
   "source": [
    "By Group"
   ]
  },
  {
   "cell_type": "code",
   "execution_count": 60,
   "id": "52256966",
   "metadata": {
    "execution": {
     "iopub.execute_input": "2025-08-19T19:01:12.395730Z",
     "iopub.status.busy": "2025-08-19T19:01:12.394490Z",
     "iopub.status.idle": "2025-08-19T19:01:12.418023Z",
     "shell.execute_reply": "2025-08-19T19:01:12.416900Z"
    },
    "papermill": {
     "duration": 0.040486,
     "end_time": "2025-08-19T19:01:12.419886",
     "exception": false,
     "start_time": "2025-08-19T19:01:12.379400",
     "status": "completed"
    },
    "tags": []
   },
   "outputs": [
    {
     "data": {
      "text/html": [
       "<div>\n",
       "<style scoped>\n",
       "    .dataframe tbody tr th:only-of-type {\n",
       "        vertical-align: middle;\n",
       "    }\n",
       "\n",
       "    .dataframe tbody tr th {\n",
       "        vertical-align: top;\n",
       "    }\n",
       "\n",
       "    .dataframe thead th {\n",
       "        text-align: right;\n",
       "    }\n",
       "</style>\n",
       "<table border=\"1\" class=\"dataframe\">\n",
       "  <thead>\n",
       "    <tr style=\"text-align: right;\">\n",
       "      <th></th>\n",
       "      <th>accuracy</th>\n",
       "      <th>balanced accuracy</th>\n",
       "      <th>f1</th>\n",
       "      <th>precision</th>\n",
       "      <th>false positive rate</th>\n",
       "      <th>false negative rate</th>\n",
       "      <th>selection rate</th>\n",
       "      <th>count</th>\n",
       "    </tr>\n",
       "    <tr>\n",
       "      <th>majmin</th>\n",
       "      <th></th>\n",
       "      <th></th>\n",
       "      <th></th>\n",
       "      <th></th>\n",
       "      <th></th>\n",
       "      <th></th>\n",
       "      <th></th>\n",
       "      <th></th>\n",
       "    </tr>\n",
       "  </thead>\n",
       "  <tbody>\n",
       "    <tr>\n",
       "      <th>majority</th>\n",
       "      <td>0.231444</td>\n",
       "      <td>0.527394</td>\n",
       "      <td>0.242235</td>\n",
       "      <td>0.139261</td>\n",
       "      <td>0.874863</td>\n",
       "      <td>0.070350</td>\n",
       "      <td>0.882102</td>\n",
       "      <td>69170.0</td>\n",
       "    </tr>\n",
       "    <tr>\n",
       "      <th>minority</th>\n",
       "      <td>0.149757</td>\n",
       "      <td>0.509564</td>\n",
       "      <td>0.209488</td>\n",
       "      <td>0.117319</td>\n",
       "      <td>0.958067</td>\n",
       "      <td>0.022804</td>\n",
       "      <td>0.960273</td>\n",
       "      <td>20540.0</td>\n",
       "    </tr>\n",
       "  </tbody>\n",
       "</table>\n",
       "</div>"
      ],
      "text/plain": [
       "          accuracy  balanced accuracy        f1  precision  \\\n",
       "majmin                                                       \n",
       "majority  0.231444           0.527394  0.242235   0.139261   \n",
       "minority  0.149757           0.509564  0.209488   0.117319   \n",
       "\n",
       "          false positive rate  false negative rate  selection rate    count  \n",
       "majmin                                                                       \n",
       "majority             0.874863             0.070350        0.882102  69170.0  \n",
       "minority             0.958067             0.022804        0.960273  20540.0  "
      ]
     },
     "execution_count": 60,
     "metadata": {},
     "output_type": "execute_result"
    }
   ],
   "source": [
    "metric_frame.by_group"
   ]
  },
  {
   "cell_type": "code",
   "execution_count": 61,
   "id": "6e6c20ae",
   "metadata": {
    "execution": {
     "iopub.execute_input": "2025-08-19T19:01:12.455894Z",
     "iopub.status.busy": "2025-08-19T19:01:12.455412Z",
     "iopub.status.idle": "2025-08-19T19:01:14.444426Z",
     "shell.execute_reply": "2025-08-19T19:01:14.442623Z"
    },
    "papermill": {
     "duration": 2.015844,
     "end_time": "2025-08-19T19:01:14.456197",
     "exception": false,
     "start_time": "2025-08-19T19:01:12.440353",
     "status": "completed"
    },
    "tags": []
   },
   "outputs": [
    {
     "data": {
      "text/plain": [
       "array([[<Axes: title={'center': 'accuracy'}, xlabel='majmin'>,\n",
       "        <Axes: title={'center': 'balanced accuracy'}, xlabel='majmin'>,\n",
       "        <Axes: title={'center': 'f1'}, xlabel='majmin'>],\n",
       "       [<Axes: title={'center': 'precision'}, xlabel='majmin'>,\n",
       "        <Axes: title={'center': 'false positive rate'}, xlabel='majmin'>,\n",
       "        <Axes: title={'center': 'false negative rate'}, xlabel='majmin'>],\n",
       "       [<Axes: title={'center': 'selection rate'}, xlabel='majmin'>,\n",
       "        <Axes: title={'center': 'count'}, xlabel='majmin'>,\n",
       "        <Axes: xlabel='majmin'>]], dtype=object)"
      ]
     },
     "execution_count": 61,
     "metadata": {},
     "output_type": "execute_result"
    },
    {
     "data": {
      "image/png": "[encoded data removed]",
      "text/plain": [
       "<Figure size 1200x800 with 9 Axes>"
      ]
     },
     "metadata": {},
     "output_type": "display_data"
    }
   ],
   "source": [
    "# In a graphic\n",
    "metric_frame.by_group.plot.bar(\n",
    "    subplots=True,\n",
    "    layout=[3, 3],\n",
    "    legend=False,\n",
    "    figsize=[12, 8],\n",
    "    title=\"Show all metrics\",\n",
    ")"
   ]
  },
  {
   "cell_type": "markdown",
   "id": "b2e433ae",
   "metadata": {
    "papermill": {
     "duration": 0.013695,
     "end_time": "2025-08-19T19:01:14.485040",
     "exception": false,
     "start_time": "2025-08-19T19:01:14.471345",
     "status": "completed"
    },
    "tags": []
   },
   "source": [
    "# Final Output"
   ]
  },
  {
   "cell_type": "code",
   "execution_count": 62,
   "id": "3871301e",
   "metadata": {
    "execution": {
     "iopub.execute_input": "2025-08-19T19:01:14.515261Z",
     "iopub.status.busy": "2025-08-19T19:01:14.514079Z",
     "iopub.status.idle": "2025-08-19T19:01:14.528824Z",
     "shell.execute_reply": "2025-08-19T19:01:14.527945Z"
    },
    "papermill": {
     "duration": 0.031642,
     "end_time": "2025-08-19T19:01:14.530420",
     "exception": false,
     "start_time": "2025-08-19T19:01:14.498778",
     "status": "completed"
    },
    "tags": []
   },
   "outputs": [
    {
     "data": {
      "text/plain": [
       "4"
      ]
     },
     "execution_count": 62,
     "metadata": {},
     "output_type": "execute_result"
    }
   ],
   "source": [
    "sub_universes = universe_analysis.generate_sub_universes()\n",
    "len(sub_universes)"
   ]
  },
  {
   "cell_type": "code",
   "execution_count": 63,
   "id": "d9cfdaca",
   "metadata": {
    "execution": {
     "iopub.execute_input": "2025-08-19T19:01:14.564373Z",
     "iopub.status.busy": "2025-08-19T19:01:14.563859Z",
     "iopub.status.idle": "2025-08-19T19:01:14.572209Z",
     "shell.execute_reply": "2025-08-19T19:01:14.571264Z"
    },
    "papermill": {
     "duration": 0.024991,
     "end_time": "2025-08-19T19:01:14.573525",
     "exception": false,
     "start_time": "2025-08-19T19:01:14.548534",
     "status": "completed"
    },
    "tags": []
   },
   "outputs": [],
   "source": [
    "def filter_sub_universe_data(sub_universe, org_test):\n",
    "    # Keep all rows — no filtering\n",
    "    keep_rows_mask = np.ones(org_test.shape[0], dtype=bool)\n",
    "\n",
    "    print(f\"[INFO] Keeping all rows: {keep_rows_mask.sum()} rows retained.\")\n",
    "    return keep_rows_mask"
   ]
  },
  {
   "cell_type": "code",
   "execution_count": 64,
   "id": "2bc31ac1",
   "metadata": {
    "execution": {
     "iopub.execute_input": "2025-08-19T19:01:14.604751Z",
     "iopub.status.busy": "2025-08-19T19:01:14.603772Z",
     "iopub.status.idle": "2025-08-19T19:01:21.243540Z",
     "shell.execute_reply": "2025-08-19T19:01:21.242539Z"
    },
    "papermill": {
     "duration": 6.656763,
     "end_time": "2025-08-19T19:01:21.244871",
     "exception": false,
     "start_time": "2025-08-19T19:01:14.588108",
     "status": "completed"
    },
    "tags": []
   },
   "outputs": [
    {
     "name": "stdout",
     "output_type": "stream",
     "text": [
      "Stopping execution_time clock.\n",
      "[INFO] Keeping all rows: 89710 rows retained.\n"
     ]
    },
    {
     "name": "stdout",
     "output_type": "stream",
     "text": [
      "[INFO] Keeping all rows: 89710 rows retained.\n"
     ]
    },
    {
     "name": "stdout",
     "output_type": "stream",
     "text": [
      "[INFO] Keeping all rows: 89710 rows retained.\n"
     ]
    },
    {
     "name": "stdout",
     "output_type": "stream",
     "text": [
      "[INFO] Keeping all rows: 89710 rows retained.\n"
     ]
    },
    {
     "data": {
      "text/html": [
       "<div>\n",
       "<style scoped>\n",
       "    .dataframe tbody tr th:only-of-type {\n",
       "        vertical-align: middle;\n",
       "    }\n",
       "\n",
       "    .dataframe tbody tr th {\n",
       "        vertical-align: top;\n",
       "    }\n",
       "\n",
       "    .dataframe thead th {\n",
       "        text-align: right;\n",
       "    }\n",
       "</style>\n",
       "<table border=\"1\" class=\"dataframe\">\n",
       "  <thead>\n",
       "    <tr style=\"text-align: right;\">\n",
       "      <th></th>\n",
       "      <th>run_no</th>\n",
       "      <th>universe_id</th>\n",
       "      <th>universe_settings</th>\n",
       "      <th>execution_time</th>\n",
       "      <th>test_size_n</th>\n",
       "      <th>test_size_frac</th>\n",
       "      <th>fair_main_equalized_odds_difference</th>\n",
       "      <th>fair_main_equalized_odds_ratio</th>\n",
       "      <th>fair_main_demographic_parity_difference</th>\n",
       "      <th>fair_main_demographic_parity_ratio</th>\n",
       "      <th>...</th>\n",
       "      <th>perf_grp_precision_0</th>\n",
       "      <th>perf_grp_precision_1</th>\n",
       "      <th>perf_grp_false positive rate_0</th>\n",
       "      <th>perf_grp_false positive rate_1</th>\n",
       "      <th>perf_grp_false negative rate_0</th>\n",
       "      <th>perf_grp_false negative rate_1</th>\n",
       "      <th>perf_grp_selection rate_0</th>\n",
       "      <th>perf_grp_selection rate_1</th>\n",
       "      <th>perf_grp_count_0</th>\n",
       "      <th>perf_grp_count_1</th>\n",
       "    </tr>\n",
       "  </thead>\n",
       "  <tbody>\n",
       "    <tr>\n",
       "      <th>0</th>\n",
       "      <td>3</td>\n",
       "      <td>c067fe78f83f2e1744a9ea584291aa98</td>\n",
       "      <td>{\"cutoff\": \"quantile_0.1\", \"eval_fairness_grou...</td>\n",
       "      <td>21.020588</td>\n",
       "      <td>89710</td>\n",
       "      <td>1.0</td>\n",
       "      <td>0.083205</td>\n",
       "      <td>0.913154</td>\n",
       "      <td>0.078171</td>\n",
       "      <td>0.918595</td>\n",
       "      <td>...</td>\n",
       "      <td>NaN</td>\n",
       "      <td>NaN</td>\n",
       "      <td>NaN</td>\n",
       "      <td>NaN</td>\n",
       "      <td>NaN</td>\n",
       "      <td>NaN</td>\n",
       "      <td>NaN</td>\n",
       "      <td>NaN</td>\n",
       "      <td>NaN</td>\n",
       "      <td>NaN</td>\n",
       "    </tr>\n",
       "    <tr>\n",
       "      <th>0</th>\n",
       "      <td>3</td>\n",
       "      <td>c067fe78f83f2e1744a9ea584291aa98</td>\n",
       "      <td>{\"cutoff\": \"quantile_0.1\", \"eval_fairness_grou...</td>\n",
       "      <td>21.020588</td>\n",
       "      <td>89710</td>\n",
       "      <td>1.0</td>\n",
       "      <td>0.083205</td>\n",
       "      <td>0.913154</td>\n",
       "      <td>0.078171</td>\n",
       "      <td>0.918595</td>\n",
       "      <td>...</td>\n",
       "      <td>0.117319</td>\n",
       "      <td>0.139261</td>\n",
       "      <td>0.958067</td>\n",
       "      <td>0.874863</td>\n",
       "      <td>0.022804</td>\n",
       "      <td>0.070350</td>\n",
       "      <td>0.960273</td>\n",
       "      <td>0.882102</td>\n",
       "      <td>20540.0</td>\n",
       "      <td>69170.0</td>\n",
       "    </tr>\n",
       "    <tr>\n",
       "      <th>0</th>\n",
       "      <td>3</td>\n",
       "      <td>c067fe78f83f2e1744a9ea584291aa98</td>\n",
       "      <td>{\"cutoff\": \"quantile_0.25\", \"eval_fairness_gro...</td>\n",
       "      <td>21.020588</td>\n",
       "      <td>89710</td>\n",
       "      <td>1.0</td>\n",
       "      <td>0.208084</td>\n",
       "      <td>0.767233</td>\n",
       "      <td>0.193097</td>\n",
       "      <td>0.785180</td>\n",
       "      <td>...</td>\n",
       "      <td>NaN</td>\n",
       "      <td>NaN</td>\n",
       "      <td>NaN</td>\n",
       "      <td>NaN</td>\n",
       "      <td>NaN</td>\n",
       "      <td>NaN</td>\n",
       "      <td>NaN</td>\n",
       "      <td>NaN</td>\n",
       "      <td>NaN</td>\n",
       "      <td>NaN</td>\n",
       "    </tr>\n",
       "    <tr>\n",
       "      <th>0</th>\n",
       "      <td>3</td>\n",
       "      <td>c067fe78f83f2e1744a9ea584291aa98</td>\n",
       "      <td>{\"cutoff\": \"quantile_0.25\", \"eval_fairness_gro...</td>\n",
       "      <td>21.020588</td>\n",
       "      <td>89710</td>\n",
       "      <td>1.0</td>\n",
       "      <td>0.208084</td>\n",
       "      <td>0.767233</td>\n",
       "      <td>0.193097</td>\n",
       "      <td>0.785180</td>\n",
       "      <td>...</td>\n",
       "      <td>0.120132</td>\n",
       "      <td>0.156619</td>\n",
       "      <td>0.893958</td>\n",
       "      <td>0.685874</td>\n",
       "      <td>0.063345</td>\n",
       "      <td>0.163457</td>\n",
       "      <td>0.898880</td>\n",
       "      <td>0.705783</td>\n",
       "      <td>20540.0</td>\n",
       "      <td>69170.0</td>\n",
       "    </tr>\n",
       "  </tbody>\n",
       "</table>\n",
       "<p>4 rows × 50 columns</p>\n",
       "</div>"
      ],
      "text/plain": [
       "  run_no                       universe_id  \\\n",
       "0      3  c067fe78f83f2e1744a9ea584291aa98   \n",
       "0      3  c067fe78f83f2e1744a9ea584291aa98   \n",
       "0      3  c067fe78f83f2e1744a9ea584291aa98   \n",
       "0      3  c067fe78f83f2e1744a9ea584291aa98   \n",
       "\n",
       "                                   universe_settings  execution_time  \\\n",
       "0  {\"cutoff\": \"quantile_0.1\", \"eval_fairness_grou...       21.020588   \n",
       "0  {\"cutoff\": \"quantile_0.1\", \"eval_fairness_grou...       21.020588   \n",
       "0  {\"cutoff\": \"quantile_0.25\", \"eval_fairness_gro...       21.020588   \n",
       "0  {\"cutoff\": \"quantile_0.25\", \"eval_fairness_gro...       21.020588   \n",
       "\n",
       "   test_size_n  test_size_frac  fair_main_equalized_odds_difference  \\\n",
       "0        89710             1.0                             0.083205   \n",
       "0        89710             1.0                             0.083205   \n",
       "0        89710             1.0                             0.208084   \n",
       "0        89710             1.0                             0.208084   \n",
       "\n",
       "   fair_main_equalized_odds_ratio  fair_main_demographic_parity_difference  \\\n",
       "0                        0.913154                                 0.078171   \n",
       "0                        0.913154                                 0.078171   \n",
       "0                        0.767233                                 0.193097   \n",
       "0                        0.767233                                 0.193097   \n",
       "\n",
       "   fair_main_demographic_parity_ratio  ...  perf_grp_precision_0  \\\n",
       "0                            0.918595  ...                   NaN   \n",
       "0                            0.918595  ...              0.117319   \n",
       "0                            0.785180  ...                   NaN   \n",
       "0                            0.785180  ...              0.120132   \n",
       "\n",
       "   perf_grp_precision_1  perf_grp_false positive rate_0  \\\n",
       "0                   NaN                             NaN   \n",
       "0              0.139261                        0.958067   \n",
       "0                   NaN                             NaN   \n",
       "0              0.156619                        0.893958   \n",
       "\n",
       "   perf_grp_false positive rate_1  perf_grp_false negative rate_0  \\\n",
       "0                             NaN                             NaN   \n",
       "0                        0.874863                        0.022804   \n",
       "0                             NaN                             NaN   \n",
       "0                        0.685874                        0.063345   \n",
       "\n",
       "   perf_grp_false negative rate_1  perf_grp_selection rate_0  \\\n",
       "0                             NaN                        NaN   \n",
       "0                        0.070350                   0.960273   \n",
       "0                             NaN                        NaN   \n",
       "0                        0.163457                   0.898880   \n",
       "\n",
       "   perf_grp_selection rate_1  perf_grp_count_0  perf_grp_count_1  \n",
       "0                        NaN               NaN               NaN  \n",
       "0                   0.882102           20540.0           69170.0  \n",
       "0                        NaN               NaN               NaN  \n",
       "0                   0.705783           20540.0           69170.0  \n",
       "\n",
       "[4 rows x 50 columns]"
      ]
     },
     "execution_count": 64,
     "metadata": {},
     "output_type": "execute_result"
    }
   ],
   "source": [
    "final_output = universe_analysis.generate_final_output(\n",
    "    y_pred_prob=probs_test,\n",
    "    y_test=y_true,\n",
    "    org_test=org_test,\n",
    "    filter_data=filter_sub_universe_data,\n",
    "    cp_metrics_df=cp_metrics_df,\n",
    "    save=True,\n",
    ")\n",
    "final_output"
   ]
  },
  {
   "cell_type": "code",
   "execution_count": null,
   "id": "8b80a1ff",
   "metadata": {
    "papermill": {
     "duration": 0.026539,
     "end_time": "2025-08-19T19:01:21.299990",
     "exception": false,
     "start_time": "2025-08-19T19:01:21.273451",
     "status": "completed"
    },
    "tags": []
   },
   "outputs": [],
   "source": []
  },
  {
   "cell_type": "code",
   "execution_count": null,
   "id": "275c9fad",
   "metadata": {
    "papermill": {
     "duration": 0.01416,
     "end_time": "2025-08-19T19:01:21.328811",
     "exception": false,
     "start_time": "2025-08-19T19:01:21.314651",
     "status": "completed"
    },
    "tags": []
   },
   "outputs": [],
   "source": []
  }
 ],
 "metadata": {
  "celltoolbar": "Tags",
  "kernelspec": {
   "display_name": "Python (CMA Fairness)",
   "language": "python",
   "name": "cma_fair_env"
  },
  "language_info": {
   "codemirror_mode": {
    "name": "ipython",
    "version": 3
   },
   "file_extension": ".py",
   "mimetype": "text/x-python",
   "name": "python",
   "nbconvert_exporter": "python",
   "pygments_lexer": "ipython3",
   "version": "3.10.12"
  },
  "papermill": {
   "default_parameters": {},
   "duration": 31.485237,
   "end_time": "2025-08-19T19:01:22.267642",
   "environment_variables": {},
   "exception": null,
   "input_path": "universe_analysis.ipynb",
   "output_path": "output/runs/3/notebooks/m_3-c067fe78f83f2e1744a9ea584291aa98.ipynb",
   "parameters": {
    "output_dir": "output",
    "run_no": "3",
    "seed": "2023",
    "universe": "{\"cutoff\": [\"quantile_0.1\", \"quantile_0.25\"], \"eval_fairness_grouping\": [\"majority-minority\", \"nationality-all\"], \"exclude_features\": \"sex\", \"exclude_subgroups\": \"drop-non-german\", \"model\": \"logreg\", \"scale\": \"do-not-scale\", \"training_size\": \"1k\", \"training_year\": \"2012_14\"}",
    "universe_id": "c067fe78f83f2e1744a9ea584291aa98"
   },
   "start_time": "2025-08-19T19:00:50.782405",
   "version": "2.6.0"
  }
 },
 "nbformat": 4,
 "nbformat_minor": 5
}