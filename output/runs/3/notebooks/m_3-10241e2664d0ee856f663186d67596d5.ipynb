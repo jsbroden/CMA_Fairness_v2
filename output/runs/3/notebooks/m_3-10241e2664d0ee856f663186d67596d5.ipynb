{
 "cells": [
  {
   "cell_type": "markdown",
   "id": "ef23dbb3",
   "metadata": {
    "papermill": {
     "duration": 0.010956,
     "end_time": "2025-08-19T19:09:14.491324",
     "exception": false,
     "start_time": "2025-08-19T19:09:14.480368",
     "status": "completed"
    },
    "tags": []
   },
   "source": [
    "# Setup"
   ]
  },
  {
   "cell_type": "code",
   "execution_count": 1,
   "id": "0bc8e7dc",
   "metadata": {
    "execution": {
     "iopub.execute_input": "2025-08-19T19:09:14.528263Z",
     "iopub.status.busy": "2025-08-19T19:09:14.527935Z",
     "iopub.status.idle": "2025-08-19T19:09:14.540917Z",
     "shell.execute_reply": "2025-08-19T19:09:14.539683Z"
    },
    "papermill": {
     "duration": 0.027928,
     "end_time": "2025-08-19T19:09:14.542741",
     "exception": false,
     "start_time": "2025-08-19T19:09:14.514813",
     "status": "completed"
    },
    "tags": []
   },
   "outputs": [
    {
     "name": "stdout",
     "output_type": "stream",
     "text": [
      "/dss/dsshome1/0C/ra93lal2/cma/CMA_Fairness_v2\n"
     ]
    },
    {
     "name": "stderr",
     "output_type": "stream",
     "text": [
      "/dss/dsshome1/0C/ra93lal2/.local/share/virtualenvs/CMA_Fairness_v2-3j10GkSs/lib/python3.10/site-packages/IPython/core/magics/osm.py:393: UserWarning: This is now an optional IPython functionality, using bookmarks requires you to install the `pickleshare` library.\n",
      "  bkms = self.shell.db.get('bookmarks', {})\n",
      "/dss/dsshome1/0C/ra93lal2/.local/share/virtualenvs/CMA_Fairness_v2-3j10GkSs/lib/python3.10/site-packages/IPython/core/magics/osm.py:417: UserWarning: This is now an optional IPython functionality, setting dhist requires you to install the `pickleshare` library.\n",
      "  self.shell.db['dhist'] = compress_dhist(dhist)[-100:]\n"
     ]
    }
   ],
   "source": [
    "%cd ~/cma/CMA_Fairness_v2"
   ]
  },
  {
   "cell_type": "markdown",
   "id": "9d235661",
   "metadata": {
    "papermill": {
     "duration": 0.009155,
     "end_time": "2025-08-19T19:09:14.566577",
     "exception": false,
     "start_time": "2025-08-19T19:09:14.557422",
     "status": "completed"
    },
    "tags": []
   },
   "source": [
    "The following cell holds the definition of our parameters, these values can be overriden by rendering the with e.g. the following command:\n",
    "\n",
    "papermill -p alpha 0.2 -p ratio 0.3 universe_analysis.ipynb output/test_run.ipynb"
   ]
  },
  {
   "cell_type": "code",
   "execution_count": 2,
   "id": "4a789d8e",
   "metadata": {
    "execution": {
     "iopub.execute_input": "2025-08-19T19:09:14.588347Z",
     "iopub.status.busy": "2025-08-19T19:09:14.586402Z",
     "iopub.status.idle": "2025-08-19T19:09:14.595949Z",
     "shell.execute_reply": "2025-08-19T19:09:14.594404Z"
    },
    "papermill": {
     "duration": 0.022025,
     "end_time": "2025-08-19T19:09:14.597645",
     "exception": false,
     "start_time": "2025-08-19T19:09:14.575620",
     "status": "completed"
    },
    "tags": []
   },
   "outputs": [
    {
     "name": "stdout",
     "output_type": "stream",
     "text": [
      "Current working directory: /dss/dsshome1/0C/ra93lal2/cma/CMA_Fairness_v2\n"
     ]
    }
   ],
   "source": [
    "import os\n",
    "print(\"Current working directory:\", os.getcwd())"
   ]
  },
  {
   "cell_type": "code",
   "execution_count": 3,
   "id": "4132aaed",
   "metadata": {
    "execution": {
     "iopub.execute_input": "2025-08-19T19:09:14.622800Z",
     "iopub.status.busy": "2025-08-19T19:09:14.621524Z",
     "iopub.status.idle": "2025-08-19T19:09:14.631416Z",
     "shell.execute_reply": "2025-08-19T19:09:14.630239Z"
    },
    "papermill": {
     "duration": 0.024781,
     "end_time": "2025-08-19T19:09:14.633929",
     "exception": false,
     "start_time": "2025-08-19T19:09:14.609148",
     "status": "completed"
    },
    "tags": [
     "parameters"
    ]
   },
   "outputs": [],
   "source": [
    "run_no = 0\n",
    "universe_id = \"test\"\n",
    "universe = {\n",
    "    \"training_size\": \"5k\", # \"25k\", \"5k\", \"1k\"\n",
    "    \"training_year\": \"2012_14\", # \"2014\", \"2012_14\", \"2010_14\"\n",
    "    \"scale\": \"scale\", # \"scale\", \"do-not-scale\",\n",
    "    \"model\": \"elasticnet\", # \"logreg\", \"penalized_logreg\", \"rf\", \"gbm\", \"elasticnet\"\n",
    "    \"cutoff\": [\"quantile_0.15\", \"quantile_0.30\"],\n",
    "    \"exclude_features\": \"age\", # \"none\", \"nationality\", \"sex\", \"nationality-sex\", \"age\"\n",
    "    \"exclude_subgroups\": \"drop-non-german\", # \"keep-all\", \"drop-non-german\"\n",
    "    \"eval_fairness_grouping\": [\"majority-minority\", \"nationality-all\"]\n",
    "}\n",
    "\n",
    "output_dir=\"./output\"\n",
    "seed=0"
   ]
  },
  {
   "cell_type": "code",
   "execution_count": 4,
   "id": "8452b9fd",
   "metadata": {
    "execution": {
     "iopub.execute_input": "2025-08-19T19:09:14.670066Z",
     "iopub.status.busy": "2025-08-19T19:09:14.668948Z",
     "iopub.status.idle": "2025-08-19T19:09:14.677836Z",
     "shell.execute_reply": "2025-08-19T19:09:14.676273Z"
    },
    "papermill": {
     "duration": 0.023736,
     "end_time": "2025-08-19T19:09:14.679277",
     "exception": false,
     "start_time": "2025-08-19T19:09:14.655541",
     "status": "completed"
    },
    "tags": [
     "injected-parameters"
    ]
   },
   "outputs": [],
   "source": [
    "# Parameters\n",
    "universe_id = \"10241e2664d0ee856f663186d67596d5\"\n",
    "run_no = \"3\"\n",
    "universe = \"{\\\"cutoff\\\": [\\\"quantile_0.1\\\", \\\"quantile_0.25\\\"], \\\"eval_fairness_grouping\\\": [\\\"majority-minority\\\", \\\"nationality-all\\\"], \\\"exclude_features\\\": \\\"age\\\", \\\"exclude_subgroups\\\": \\\"drop-non-german\\\", \\\"model\\\": \\\"logreg\\\", \\\"scale\\\": \\\"do-not-scale\\\", \\\"training_size\\\": \\\"1k\\\", \\\"training_year\\\": \\\"2010_14\\\"}\"\n",
    "output_dir = \"output\"\n",
    "seed = \"2023\"\n"
   ]
  },
  {
   "cell_type": "code",
   "execution_count": 5,
   "id": "a5d7941f",
   "metadata": {
    "execution": {
     "iopub.execute_input": "2025-08-19T19:09:14.716429Z",
     "iopub.status.busy": "2025-08-19T19:09:14.716048Z",
     "iopub.status.idle": "2025-08-19T19:09:14.720820Z",
     "shell.execute_reply": "2025-08-19T19:09:14.720106Z"
    },
    "papermill": {
     "duration": 0.019298,
     "end_time": "2025-08-19T19:09:14.722106",
     "exception": false,
     "start_time": "2025-08-19T19:09:14.702808",
     "status": "completed"
    },
    "tags": []
   },
   "outputs": [],
   "source": [
    "import json\n",
    "if isinstance(universe, str):\n",
    "    universe = json.loads(universe)"
   ]
  },
  {
   "cell_type": "code",
   "execution_count": 6,
   "id": "7076ccb1",
   "metadata": {
    "execution": {
     "iopub.execute_input": "2025-08-19T19:09:14.743187Z",
     "iopub.status.busy": "2025-08-19T19:09:14.742741Z",
     "iopub.status.idle": "2025-08-19T19:09:14.787046Z",
     "shell.execute_reply": "2025-08-19T19:09:14.786029Z"
    },
    "papermill": {
     "duration": 0.058635,
     "end_time": "2025-08-19T19:09:14.790081",
     "exception": false,
     "start_time": "2025-08-19T19:09:14.731446",
     "status": "completed"
    },
    "tags": []
   },
   "outputs": [],
   "source": [
    "# Auto-reload the custom package\n",
    "%load_ext autoreload\n",
    "%autoreload 1\n",
    "%aimport fairness_multiverse"
   ]
  },
  {
   "cell_type": "code",
   "execution_count": 7,
   "id": "94c8eb93",
   "metadata": {
    "execution": {
     "iopub.execute_input": "2025-08-19T19:09:14.826391Z",
     "iopub.status.busy": "2025-08-19T19:09:14.825243Z",
     "iopub.status.idle": "2025-08-19T19:09:16.363528Z",
     "shell.execute_reply": "2025-08-19T19:09:16.362527Z"
    },
    "papermill": {
     "duration": 1.553327,
     "end_time": "2025-08-19T19:09:16.365317",
     "exception": false,
     "start_time": "2025-08-19T19:09:14.811990",
     "status": "completed"
    },
    "tags": []
   },
   "outputs": [],
   "source": [
    "from fairness_multiverse.universe import UniverseAnalysis\n",
    "\n",
    "universe_analysis = UniverseAnalysis(\n",
    "    run_no = run_no,\n",
    "    universe_id = universe_id,\n",
    "    universe = universe,\n",
    "    output_dir=output_dir,\n",
    ")"
   ]
  },
  {
   "cell_type": "code",
   "execution_count": 8,
   "id": "2a6381cf",
   "metadata": {
    "execution": {
     "iopub.execute_input": "2025-08-19T19:09:16.393453Z",
     "iopub.status.busy": "2025-08-19T19:09:16.392600Z",
     "iopub.status.idle": "2025-08-19T19:09:16.400055Z",
     "shell.execute_reply": "2025-08-19T19:09:16.398938Z"
    },
    "papermill": {
     "duration": 0.021782,
     "end_time": "2025-08-19T19:09:16.402449",
     "exception": false,
     "start_time": "2025-08-19T19:09:16.380667",
     "status": "completed"
    },
    "tags": []
   },
   "outputs": [
    {
     "name": "stdout",
     "output_type": "stream",
     "text": [
      "Using Seed: 2023\n"
     ]
    }
   ],
   "source": [
    "import numpy as np\n",
    "parsed_seed = int(seed)\n",
    "np.random.seed(parsed_seed)\n",
    "print(f\"Using Seed: {parsed_seed}\")"
   ]
  },
  {
   "cell_type": "markdown",
   "id": "b6e958b4",
   "metadata": {
    "papermill": {
     "duration": 0.00939,
     "end_time": "2025-08-19T19:09:16.421298",
     "exception": false,
     "start_time": "2025-08-19T19:09:16.411908",
     "status": "completed"
    },
    "tags": []
   },
   "source": [
    "# Loading Data"
   ]
  },
  {
   "cell_type": "code",
   "execution_count": 9,
   "id": "98701482",
   "metadata": {
    "execution": {
     "iopub.execute_input": "2025-08-19T19:09:16.446623Z",
     "iopub.status.busy": "2025-08-19T19:09:16.445946Z",
     "iopub.status.idle": "2025-08-19T19:09:26.819630Z",
     "shell.execute_reply": "2025-08-19T19:09:26.818456Z"
    },
    "papermill": {
     "duration": 10.385533,
     "end_time": "2025-08-19T19:09:26.820995",
     "exception": false,
     "start_time": "2025-08-19T19:09:16.435462",
     "status": "completed"
    },
    "tags": []
   },
   "outputs": [
    {
     "name": "stdout",
     "output_type": "stream",
     "text": [
      "Loading SIAB data from cache: data/siab_cached.csv.gz\n"
     ]
    },
    {
     "name": "stdout",
     "output_type": "stream",
     "text": [
      "(643690, 164)\n"
     ]
    }
   ],
   "source": [
    "from pathlib import Path\n",
    "import pandas as pd\n",
    "\n",
    "# File paths\n",
    "raw_file = Path(\"data/raw/siab.csv\")\n",
    "cache_file = Path(\"data/siab_cached.csv.gz\")\n",
    "\n",
    "# Ensure cache directory exists\n",
    "cache_file.parent.mkdir(parents=True, exist_ok=True)\n",
    "\n",
    "# Load with simple caching\n",
    "if cache_file.exists():\n",
    "    print(f\"Loading SIAB data from cache: {cache_file}\")\n",
    "    siab = pd.read_csv(cache_file, compression='gzip')\n",
    "else:\n",
    "    print(f\"Cache not found. Reading raw SIAB data: {raw_file}\")\n",
    "    siab = pd.read_csv(raw_file)\n",
    "    siab.to_csv(cache_file, index=False, compression='gzip')\n",
    "    print(f\"Cached SIAB data to: {cache_file}\")\n",
    "\n",
    "print(siab.shape)"
   ]
  },
  {
   "cell_type": "code",
   "execution_count": 10,
   "id": "058d2abb",
   "metadata": {
    "execution": {
     "iopub.execute_input": "2025-08-19T19:09:26.862042Z",
     "iopub.status.busy": "2025-08-19T19:09:26.860813Z",
     "iopub.status.idle": "2025-08-19T19:09:27.040140Z",
     "shell.execute_reply": "2025-08-19T19:09:27.038359Z"
    },
    "papermill": {
     "duration": 0.208463,
     "end_time": "2025-08-19T19:09:27.041719",
     "exception": false,
     "start_time": "2025-08-19T19:09:26.833256",
     "status": "completed"
    },
    "tags": []
   },
   "outputs": [
    {
     "data": {
      "text/html": [
       "<div>\n",
       "<style scoped>\n",
       "    .dataframe tbody tr th:only-of-type {\n",
       "        vertical-align: middle;\n",
       "    }\n",
       "\n",
       "    .dataframe tbody tr th {\n",
       "        vertical-align: top;\n",
       "    }\n",
       "\n",
       "    .dataframe thead th {\n",
       "        text-align: right;\n",
       "    }\n",
       "</style>\n",
       "<table border=\"1\" class=\"dataframe\">\n",
       "  <thead>\n",
       "    <tr style=\"text-align: right;\">\n",
       "      <th></th>\n",
       "      <th>persnr</th>\n",
       "      <th>year</th>\n",
       "      <th>nrEntry</th>\n",
       "      <th>ltue</th>\n",
       "      <th>employed_before</th>\n",
       "      <th>receipt_leh_before</th>\n",
       "      <th>receipt_lhg_before</th>\n",
       "      <th>se_before</th>\n",
       "      <th>ASU_notue_seeking_before</th>\n",
       "      <th>ASU_other_before</th>\n",
       "      <th>...</th>\n",
       "      <th>minijob_tot_dur_byage</th>\n",
       "      <th>ft_tot_dur_byage</th>\n",
       "      <th>befrist_tot_dur_byage</th>\n",
       "      <th>leih_tot_dur_byage</th>\n",
       "      <th>LHG_tot_dur_byage</th>\n",
       "      <th>LEH_tot_dur_byage</th>\n",
       "      <th>almp_tot_dur_byage</th>\n",
       "      <th>almp_aw_tot_dur_byage</th>\n",
       "      <th>se_tot_dur_byage</th>\n",
       "      <th>seeking1_tot_dur_byage</th>\n",
       "    </tr>\n",
       "  </thead>\n",
       "  <tbody>\n",
       "    <tr>\n",
       "      <th>0</th>\n",
       "      <td>7</td>\n",
       "      <td>2015</td>\n",
       "      <td>1</td>\n",
       "      <td>0</td>\n",
       "      <td>1</td>\n",
       "      <td>0</td>\n",
       "      <td>0</td>\n",
       "      <td>0</td>\n",
       "      <td>1</td>\n",
       "      <td>0</td>\n",
       "      <td>...</td>\n",
       "      <td>0.000000</td>\n",
       "      <td>0.000000</td>\n",
       "      <td>15.043478</td>\n",
       "      <td>0.000000</td>\n",
       "      <td>0.000000</td>\n",
       "      <td>0.000000</td>\n",
       "      <td>0.000000</td>\n",
       "      <td>0.000000</td>\n",
       "      <td>0.000000</td>\n",
       "      <td>0.000000</td>\n",
       "    </tr>\n",
       "    <tr>\n",
       "      <th>1</th>\n",
       "      <td>18</td>\n",
       "      <td>2010</td>\n",
       "      <td>1</td>\n",
       "      <td>1</td>\n",
       "      <td>0</td>\n",
       "      <td>0</td>\n",
       "      <td>0</td>\n",
       "      <td>0</td>\n",
       "      <td>0</td>\n",
       "      <td>0</td>\n",
       "      <td>...</td>\n",
       "      <td>0.000000</td>\n",
       "      <td>0.000000</td>\n",
       "      <td>0.000000</td>\n",
       "      <td>0.000000</td>\n",
       "      <td>0.000000</td>\n",
       "      <td>0.000000</td>\n",
       "      <td>0.000000</td>\n",
       "      <td>0.000000</td>\n",
       "      <td>0.000000</td>\n",
       "      <td>0.000000</td>\n",
       "    </tr>\n",
       "    <tr>\n",
       "      <th>2</th>\n",
       "      <td>18</td>\n",
       "      <td>2011</td>\n",
       "      <td>2</td>\n",
       "      <td>0</td>\n",
       "      <td>1</td>\n",
       "      <td>0</td>\n",
       "      <td>1</td>\n",
       "      <td>0</td>\n",
       "      <td>1</td>\n",
       "      <td>0</td>\n",
       "      <td>...</td>\n",
       "      <td>2.714286</td>\n",
       "      <td>2.714286</td>\n",
       "      <td>0.000000</td>\n",
       "      <td>0.000000</td>\n",
       "      <td>10.775510</td>\n",
       "      <td>0.000000</td>\n",
       "      <td>8.367347</td>\n",
       "      <td>0.000000</td>\n",
       "      <td>0.000000</td>\n",
       "      <td>9.836735</td>\n",
       "    </tr>\n",
       "    <tr>\n",
       "      <th>3</th>\n",
       "      <td>18</td>\n",
       "      <td>2012</td>\n",
       "      <td>3</td>\n",
       "      <td>0</td>\n",
       "      <td>1</td>\n",
       "      <td>0</td>\n",
       "      <td>1</td>\n",
       "      <td>0</td>\n",
       "      <td>1</td>\n",
       "      <td>0</td>\n",
       "      <td>...</td>\n",
       "      <td>4.200000</td>\n",
       "      <td>4.200000</td>\n",
       "      <td>0.000000</td>\n",
       "      <td>0.000000</td>\n",
       "      <td>12.100000</td>\n",
       "      <td>0.000000</td>\n",
       "      <td>9.400000</td>\n",
       "      <td>0.000000</td>\n",
       "      <td>0.000000</td>\n",
       "      <td>9.960000</td>\n",
       "    </tr>\n",
       "    <tr>\n",
       "      <th>4</th>\n",
       "      <td>18</td>\n",
       "      <td>2012</td>\n",
       "      <td>4</td>\n",
       "      <td>0</td>\n",
       "      <td>1</td>\n",
       "      <td>0</td>\n",
       "      <td>1</td>\n",
       "      <td>0</td>\n",
       "      <td>1</td>\n",
       "      <td>0</td>\n",
       "      <td>...</td>\n",
       "      <td>5.460000</td>\n",
       "      <td>5.460000</td>\n",
       "      <td>0.000000</td>\n",
       "      <td>0.000000</td>\n",
       "      <td>13.360000</td>\n",
       "      <td>0.000000</td>\n",
       "      <td>10.320000</td>\n",
       "      <td>0.000000</td>\n",
       "      <td>0.000000</td>\n",
       "      <td>10.280000</td>\n",
       "    </tr>\n",
       "    <tr>\n",
       "      <th>...</th>\n",
       "      <td>...</td>\n",
       "      <td>...</td>\n",
       "      <td>...</td>\n",
       "      <td>...</td>\n",
       "      <td>...</td>\n",
       "      <td>...</td>\n",
       "      <td>...</td>\n",
       "      <td>...</td>\n",
       "      <td>...</td>\n",
       "      <td>...</td>\n",
       "      <td>...</td>\n",
       "      <td>...</td>\n",
       "      <td>...</td>\n",
       "      <td>...</td>\n",
       "      <td>...</td>\n",
       "      <td>...</td>\n",
       "      <td>...</td>\n",
       "      <td>...</td>\n",
       "      <td>...</td>\n",
       "      <td>...</td>\n",
       "      <td>...</td>\n",
       "    </tr>\n",
       "    <tr>\n",
       "      <th>643685</th>\n",
       "      <td>1827860</td>\n",
       "      <td>2013</td>\n",
       "      <td>1</td>\n",
       "      <td>0</td>\n",
       "      <td>0</td>\n",
       "      <td>0</td>\n",
       "      <td>1</td>\n",
       "      <td>0</td>\n",
       "      <td>0</td>\n",
       "      <td>1</td>\n",
       "      <td>...</td>\n",
       "      <td>0.000000</td>\n",
       "      <td>0.000000</td>\n",
       "      <td>0.000000</td>\n",
       "      <td>0.000000</td>\n",
       "      <td>0.612903</td>\n",
       "      <td>0.000000</td>\n",
       "      <td>0.000000</td>\n",
       "      <td>0.000000</td>\n",
       "      <td>0.000000</td>\n",
       "      <td>0.000000</td>\n",
       "    </tr>\n",
       "    <tr>\n",
       "      <th>643686</th>\n",
       "      <td>1827860</td>\n",
       "      <td>2015</td>\n",
       "      <td>2</td>\n",
       "      <td>1</td>\n",
       "      <td>0</td>\n",
       "      <td>0</td>\n",
       "      <td>1</td>\n",
       "      <td>0</td>\n",
       "      <td>1</td>\n",
       "      <td>0</td>\n",
       "      <td>...</td>\n",
       "      <td>0.000000</td>\n",
       "      <td>0.000000</td>\n",
       "      <td>0.212121</td>\n",
       "      <td>0.212121</td>\n",
       "      <td>17.363636</td>\n",
       "      <td>0.000000</td>\n",
       "      <td>8.909091</td>\n",
       "      <td>0.000000</td>\n",
       "      <td>0.000000</td>\n",
       "      <td>7.121212</td>\n",
       "    </tr>\n",
       "    <tr>\n",
       "      <th>643687</th>\n",
       "      <td>1827860</td>\n",
       "      <td>2016</td>\n",
       "      <td>3</td>\n",
       "      <td>1</td>\n",
       "      <td>0</td>\n",
       "      <td>0</td>\n",
       "      <td>1</td>\n",
       "      <td>1</td>\n",
       "      <td>0</td>\n",
       "      <td>1</td>\n",
       "      <td>...</td>\n",
       "      <td>0.000000</td>\n",
       "      <td>0.000000</td>\n",
       "      <td>0.294118</td>\n",
       "      <td>0.205882</td>\n",
       "      <td>34.705882</td>\n",
       "      <td>0.000000</td>\n",
       "      <td>10.352941</td>\n",
       "      <td>1.705882</td>\n",
       "      <td>1.705882</td>\n",
       "      <td>23.911765</td>\n",
       "    </tr>\n",
       "    <tr>\n",
       "      <th>643688</th>\n",
       "      <td>1827869</td>\n",
       "      <td>2013</td>\n",
       "      <td>1</td>\n",
       "      <td>1</td>\n",
       "      <td>1</td>\n",
       "      <td>0</td>\n",
       "      <td>0</td>\n",
       "      <td>0</td>\n",
       "      <td>1</td>\n",
       "      <td>0</td>\n",
       "      <td>...</td>\n",
       "      <td>0.000000</td>\n",
       "      <td>0.000000</td>\n",
       "      <td>0.000000</td>\n",
       "      <td>0.000000</td>\n",
       "      <td>0.000000</td>\n",
       "      <td>0.525424</td>\n",
       "      <td>0.000000</td>\n",
       "      <td>0.000000</td>\n",
       "      <td>0.000000</td>\n",
       "      <td>0.000000</td>\n",
       "    </tr>\n",
       "    <tr>\n",
       "      <th>643689</th>\n",
       "      <td>1827869</td>\n",
       "      <td>2014</td>\n",
       "      <td>2</td>\n",
       "      <td>0</td>\n",
       "      <td>0</td>\n",
       "      <td>1</td>\n",
       "      <td>0</td>\n",
       "      <td>0</td>\n",
       "      <td>1</td>\n",
       "      <td>0</td>\n",
       "      <td>...</td>\n",
       "      <td>0.000000</td>\n",
       "      <td>0.666667</td>\n",
       "      <td>0.666667</td>\n",
       "      <td>0.000000</td>\n",
       "      <td>0.000000</td>\n",
       "      <td>8.950000</td>\n",
       "      <td>1.033333</td>\n",
       "      <td>0.083333</td>\n",
       "      <td>0.083333</td>\n",
       "      <td>8.133333</td>\n",
       "    </tr>\n",
       "  </tbody>\n",
       "</table>\n",
       "<p>643690 rows × 164 columns</p>\n",
       "</div>"
      ],
      "text/plain": [
       "         persnr  year  nrEntry  ltue  employed_before  receipt_leh_before  \\\n",
       "0             7  2015        1     0                1                   0   \n",
       "1            18  2010        1     1                0                   0   \n",
       "2            18  2011        2     0                1                   0   \n",
       "3            18  2012        3     0                1                   0   \n",
       "4            18  2012        4     0                1                   0   \n",
       "...         ...   ...      ...   ...              ...                 ...   \n",
       "643685  1827860  2013        1     0                0                   0   \n",
       "643686  1827860  2015        2     1                0                   0   \n",
       "643687  1827860  2016        3     1                0                   0   \n",
       "643688  1827869  2013        1     1                1                   0   \n",
       "643689  1827869  2014        2     0                0                   1   \n",
       "\n",
       "        receipt_lhg_before  se_before  ASU_notue_seeking_before  \\\n",
       "0                        0          0                         1   \n",
       "1                        0          0                         0   \n",
       "2                        1          0                         1   \n",
       "3                        1          0                         1   \n",
       "4                        1          0                         1   \n",
       "...                    ...        ...                       ...   \n",
       "643685                   1          0                         0   \n",
       "643686                   1          0                         1   \n",
       "643687                   1          1                         0   \n",
       "643688                   0          0                         1   \n",
       "643689                   0          0                         1   \n",
       "\n",
       "        ASU_other_before  ...  minijob_tot_dur_byage  ft_tot_dur_byage  \\\n",
       "0                      0  ...               0.000000          0.000000   \n",
       "1                      0  ...               0.000000          0.000000   \n",
       "2                      0  ...               2.714286          2.714286   \n",
       "3                      0  ...               4.200000          4.200000   \n",
       "4                      0  ...               5.460000          5.460000   \n",
       "...                  ...  ...                    ...               ...   \n",
       "643685                 1  ...               0.000000          0.000000   \n",
       "643686                 0  ...               0.000000          0.000000   \n",
       "643687                 1  ...               0.000000          0.000000   \n",
       "643688                 0  ...               0.000000          0.000000   \n",
       "643689                 0  ...               0.000000          0.666667   \n",
       "\n",
       "        befrist_tot_dur_byage  leih_tot_dur_byage  LHG_tot_dur_byage  \\\n",
       "0                   15.043478            0.000000           0.000000   \n",
       "1                    0.000000            0.000000           0.000000   \n",
       "2                    0.000000            0.000000          10.775510   \n",
       "3                    0.000000            0.000000          12.100000   \n",
       "4                    0.000000            0.000000          13.360000   \n",
       "...                       ...                 ...                ...   \n",
       "643685               0.000000            0.000000           0.612903   \n",
       "643686               0.212121            0.212121          17.363636   \n",
       "643687               0.294118            0.205882          34.705882   \n",
       "643688               0.000000            0.000000           0.000000   \n",
       "643689               0.666667            0.000000           0.000000   \n",
       "\n",
       "        LEH_tot_dur_byage  almp_tot_dur_byage  almp_aw_tot_dur_byage  \\\n",
       "0                0.000000            0.000000               0.000000   \n",
       "1                0.000000            0.000000               0.000000   \n",
       "2                0.000000            8.367347               0.000000   \n",
       "3                0.000000            9.400000               0.000000   \n",
       "4                0.000000           10.320000               0.000000   \n",
       "...                   ...                 ...                    ...   \n",
       "643685           0.000000            0.000000               0.000000   \n",
       "643686           0.000000            8.909091               0.000000   \n",
       "643687           0.000000           10.352941               1.705882   \n",
       "643688           0.525424            0.000000               0.000000   \n",
       "643689           8.950000            1.033333               0.083333   \n",
       "\n",
       "        se_tot_dur_byage  seeking1_tot_dur_byage  \n",
       "0               0.000000                0.000000  \n",
       "1               0.000000                0.000000  \n",
       "2               0.000000                9.836735  \n",
       "3               0.000000                9.960000  \n",
       "4               0.000000               10.280000  \n",
       "...                  ...                     ...  \n",
       "643685          0.000000                0.000000  \n",
       "643686          0.000000                7.121212  \n",
       "643687          1.705882               23.911765  \n",
       "643688          0.000000                0.000000  \n",
       "643689          0.083333                8.133333  \n",
       "\n",
       "[643690 rows x 164 columns]"
      ]
     },
     "execution_count": 10,
     "metadata": {},
     "output_type": "execute_result"
    }
   ],
   "source": [
    "siab"
   ]
  },
  {
   "cell_type": "markdown",
   "id": "1f87e805",
   "metadata": {
    "papermill": {
     "duration": 0.010389,
     "end_time": "2025-08-19T19:09:27.062929",
     "exception": false,
     "start_time": "2025-08-19T19:09:27.052540",
     "status": "completed"
    },
    "tags": []
   },
   "source": [
    "# Splitting Data and Setting Training Data Size"
   ]
  },
  {
   "cell_type": "code",
   "execution_count": 11,
   "id": "910ae358",
   "metadata": {
    "execution": {
     "iopub.execute_input": "2025-08-19T19:09:27.087653Z",
     "iopub.status.busy": "2025-08-19T19:09:27.086547Z",
     "iopub.status.idle": "2025-08-19T19:09:28.452392Z",
     "shell.execute_reply": "2025-08-19T19:09:28.451102Z"
    },
    "papermill": {
     "duration": 1.381427,
     "end_time": "2025-08-19T19:09:28.454631",
     "exception": false,
     "start_time": "2025-08-19T19:09:27.073204",
     "status": "completed"
    },
    "tags": []
   },
   "outputs": [],
   "source": [
    "from fairness_multiverse.universe import sample_by_year_size\n",
    "\n",
    "siab_train = sample_by_year_size(siab,\n",
    "                               training_year=universe[\"training_year\"],\n",
    "                               training_size=universe[\"training_size\"])"
   ]
  },
  {
   "cell_type": "code",
   "execution_count": 12,
   "id": "919c8ff5",
   "metadata": {
    "execution": {
     "iopub.execute_input": "2025-08-19T19:09:28.479356Z",
     "iopub.status.busy": "2025-08-19T19:09:28.478977Z",
     "iopub.status.idle": "2025-08-19T19:09:28.487808Z",
     "shell.execute_reply": "2025-08-19T19:09:28.486911Z"
    },
    "papermill": {
     "duration": 0.021864,
     "end_time": "2025-08-19T19:09:28.489235",
     "exception": false,
     "start_time": "2025-08-19T19:09:28.467371",
     "status": "completed"
    },
    "tags": []
   },
   "outputs": [
    {
     "data": {
      "text/plain": [
       "(1000, 164)"
      ]
     },
     "execution_count": 12,
     "metadata": {},
     "output_type": "execute_result"
    }
   ],
   "source": [
    "siab_train.shape"
   ]
  },
  {
   "cell_type": "code",
   "execution_count": 13,
   "id": "feb13bf4",
   "metadata": {
    "execution": {
     "iopub.execute_input": "2025-08-19T19:09:28.512873Z",
     "iopub.status.busy": "2025-08-19T19:09:28.512328Z",
     "iopub.status.idle": "2025-08-19T19:09:28.690321Z",
     "shell.execute_reply": "2025-08-19T19:09:28.688968Z"
    },
    "papermill": {
     "duration": 0.191952,
     "end_time": "2025-08-19T19:09:28.693203",
     "exception": false,
     "start_time": "2025-08-19T19:09:28.501251",
     "status": "completed"
    },
    "tags": []
   },
   "outputs": [
    {
     "data": {
      "text/plain": [
       "year\n",
       "2010    200\n",
       "2011    200\n",
       "2012    200\n",
       "2013    200\n",
       "2014    200\n",
       "dtype: int64"
      ]
     },
     "metadata": {},
     "output_type": "display_data"
    }
   ],
   "source": [
    "display(siab_train.groupby(\"year\").size())"
   ]
  },
  {
   "cell_type": "code",
   "execution_count": 14,
   "id": "0997782f",
   "metadata": {
    "execution": {
     "iopub.execute_input": "2025-08-19T19:09:28.730154Z",
     "iopub.status.busy": "2025-08-19T19:09:28.729460Z",
     "iopub.status.idle": "2025-08-19T19:09:29.279124Z",
     "shell.execute_reply": "2025-08-19T19:09:29.277864Z"
    },
    "papermill": {
     "duration": 0.564894,
     "end_time": "2025-08-19T19:09:29.280871",
     "exception": false,
     "start_time": "2025-08-19T19:09:28.715977",
     "status": "completed"
    },
    "tags": []
   },
   "outputs": [],
   "source": [
    "#siab_train = siab_s[siab_s.year < 2015]\n",
    "siab_calib = siab[siab.year == 2015]\n",
    "siab_test = siab[siab.year == 2016]"
   ]
  },
  {
   "cell_type": "code",
   "execution_count": 15,
   "id": "2c1e4012",
   "metadata": {
    "execution": {
     "iopub.execute_input": "2025-08-19T19:09:29.303749Z",
     "iopub.status.busy": "2025-08-19T19:09:29.302932Z",
     "iopub.status.idle": "2025-08-19T19:09:29.321581Z",
     "shell.execute_reply": "2025-08-19T19:09:29.320559Z"
    },
    "papermill": {
     "duration": 0.032159,
     "end_time": "2025-08-19T19:09:29.323571",
     "exception": false,
     "start_time": "2025-08-19T19:09:29.291412",
     "status": "completed"
    },
    "tags": []
   },
   "outputs": [],
   "source": [
    "#siab_calib.shape"
   ]
  },
  {
   "cell_type": "code",
   "execution_count": 16,
   "id": "f66b54ca",
   "metadata": {
    "execution": {
     "iopub.execute_input": "2025-08-19T19:09:29.352961Z",
     "iopub.status.busy": "2025-08-19T19:09:29.352649Z",
     "iopub.status.idle": "2025-08-19T19:09:29.357068Z",
     "shell.execute_reply": "2025-08-19T19:09:29.356240Z"
    },
    "papermill": {
     "duration": 0.018552,
     "end_time": "2025-08-19T19:09:29.358507",
     "exception": false,
     "start_time": "2025-08-19T19:09:29.339955",
     "status": "completed"
    },
    "tags": []
   },
   "outputs": [],
   "source": [
    "#siab_test.shape"
   ]
  },
  {
   "cell_type": "code",
   "execution_count": 17,
   "id": "27e4384d",
   "metadata": {
    "execution": {
     "iopub.execute_input": "2025-08-19T19:09:29.382089Z",
     "iopub.status.busy": "2025-08-19T19:09:29.381779Z",
     "iopub.status.idle": "2025-08-19T19:09:29.388644Z",
     "shell.execute_reply": "2025-08-19T19:09:29.387653Z"
    },
    "papermill": {
     "duration": 0.021125,
     "end_time": "2025-08-19T19:09:29.390241",
     "exception": false,
     "start_time": "2025-08-19T19:09:29.369116",
     "status": "completed"
    },
    "tags": []
   },
   "outputs": [],
   "source": [
    "X_train = siab_train.iloc[:,4:164]\n",
    "y_train = siab_train.iloc[:, [3]]"
   ]
  },
  {
   "cell_type": "code",
   "execution_count": 18,
   "id": "08ee8389",
   "metadata": {
    "execution": {
     "iopub.execute_input": "2025-08-19T19:09:29.414449Z",
     "iopub.status.busy": "2025-08-19T19:09:29.414126Z",
     "iopub.status.idle": "2025-08-19T19:09:29.471997Z",
     "shell.execute_reply": "2025-08-19T19:09:29.471063Z"
    },
    "papermill": {
     "duration": 0.071276,
     "end_time": "2025-08-19T19:09:29.473646",
     "exception": false,
     "start_time": "2025-08-19T19:09:29.402370",
     "status": "completed"
    },
    "tags": []
   },
   "outputs": [],
   "source": [
    "X_calib = siab_calib.iloc[:,4:164]\n",
    "y_calib = siab_calib.iloc[:, [3]]"
   ]
  },
  {
   "cell_type": "code",
   "execution_count": 19,
   "id": "b7ff42e0",
   "metadata": {
    "execution": {
     "iopub.execute_input": "2025-08-19T19:09:29.497933Z",
     "iopub.status.busy": "2025-08-19T19:09:29.497624Z",
     "iopub.status.idle": "2025-08-19T19:09:29.567089Z",
     "shell.execute_reply": "2025-08-19T19:09:29.566084Z"
    },
    "papermill": {
     "duration": 0.082952,
     "end_time": "2025-08-19T19:09:29.569006",
     "exception": false,
     "start_time": "2025-08-19T19:09:29.486054",
     "status": "completed"
    },
    "tags": []
   },
   "outputs": [],
   "source": [
    "X_test = siab_test.iloc[:,4:164]\n",
    "y_true = siab_test.iloc[:, [3]]"
   ]
  },
  {
   "cell_type": "code",
   "execution_count": 20,
   "id": "0275101e",
   "metadata": {
    "execution": {
     "iopub.execute_input": "2025-08-19T19:09:29.598432Z",
     "iopub.status.busy": "2025-08-19T19:09:29.598117Z",
     "iopub.status.idle": "2025-08-19T19:09:29.735503Z",
     "shell.execute_reply": "2025-08-19T19:09:29.734429Z"
    },
    "papermill": {
     "duration": 0.151065,
     "end_time": "2025-08-19T19:09:29.737309",
     "exception": false,
     "start_time": "2025-08-19T19:09:29.586244",
     "status": "completed"
    },
    "tags": []
   },
   "outputs": [],
   "source": [
    "# Auxiliary data needed downstream in the pipeline\n",
    "\n",
    "org_train = X_train.copy()\n",
    "org_test = X_test.copy()\n",
    "org_calib = X_calib.copy()"
   ]
  },
  {
   "cell_type": "markdown",
   "id": "b461e618",
   "metadata": {
    "papermill": {
     "duration": 0.023359,
     "end_time": "2025-08-19T19:09:29.774874",
     "exception": false,
     "start_time": "2025-08-19T19:09:29.751515",
     "status": "completed"
    },
    "tags": []
   },
   "source": [
    "# Preprocessing Data"
   ]
  },
  {
   "cell_type": "code",
   "execution_count": 21,
   "id": "78e74c4b",
   "metadata": {
    "execution": {
     "iopub.execute_input": "2025-08-19T19:09:29.800371Z",
     "iopub.status.busy": "2025-08-19T19:09:29.800057Z",
     "iopub.status.idle": "2025-08-19T19:09:29.805925Z",
     "shell.execute_reply": "2025-08-19T19:09:29.804951Z"
    },
    "papermill": {
     "duration": 0.020863,
     "end_time": "2025-08-19T19:09:29.808182",
     "exception": false,
     "start_time": "2025-08-19T19:09:29.787319",
     "status": "completed"
    },
    "tags": []
   },
   "outputs": [],
   "source": [
    "# EXCLUDE PROTECTED FEATURES\n",
    "# --------------------------\n",
    "\n",
    "excluded_features = universe[\"exclude_features\"].split(\"-\")\n",
    "excluded_features_dictionary = {\n",
    "    \"nationality\": [\"maxdeutsch1\", \"maxdeutsch.Missing.\"],\n",
    "    \"sex\": [\"frau1\"],\n",
    "    \"age\": [\"age\"],\n",
    "}"
   ]
  },
  {
   "cell_type": "code",
   "execution_count": 22,
   "id": "f8e63555",
   "metadata": {
    "execution": {
     "iopub.execute_input": "2025-08-19T19:09:29.839507Z",
     "iopub.status.busy": "2025-08-19T19:09:29.838558Z",
     "iopub.status.idle": "2025-08-19T19:09:29.853062Z",
     "shell.execute_reply": "2025-08-19T19:09:29.850748Z"
    },
    "papermill": {
     "duration": 0.034214,
     "end_time": "2025-08-19T19:09:29.855358",
     "exception": false,
     "start_time": "2025-08-19T19:09:29.821144",
     "status": "completed"
    },
    "tags": []
   },
   "outputs": [],
   "source": [
    "excluded_features_columns = [\n",
    "    excluded_features_dictionary[f] for f in excluded_features if len(f) > 0 and f != \"none\"\n",
    "]"
   ]
  },
  {
   "cell_type": "code",
   "execution_count": 23,
   "id": "da781f7c",
   "metadata": {
    "execution": {
     "iopub.execute_input": "2025-08-19T19:09:29.904454Z",
     "iopub.status.busy": "2025-08-19T19:09:29.903194Z",
     "iopub.status.idle": "2025-08-19T19:09:29.909426Z",
     "shell.execute_reply": "2025-08-19T19:09:29.908230Z"
    },
    "papermill": {
     "duration": 0.035066,
     "end_time": "2025-08-19T19:09:29.910698",
     "exception": false,
     "start_time": "2025-08-19T19:09:29.875632",
     "status": "completed"
    },
    "tags": []
   },
   "outputs": [],
   "source": [
    "from fairness_multiverse.universe import flatten_once\n",
    "\n",
    "excluded_features_columns = flatten_once(excluded_features_columns)"
   ]
  },
  {
   "cell_type": "code",
   "execution_count": 24,
   "id": "37fef0f0",
   "metadata": {
    "execution": {
     "iopub.execute_input": "2025-08-19T19:09:29.936708Z",
     "iopub.status.busy": "2025-08-19T19:09:29.934616Z",
     "iopub.status.idle": "2025-08-19T19:09:29.948302Z",
     "shell.execute_reply": "2025-08-19T19:09:29.945707Z"
    },
    "papermill": {
     "duration": 0.02791,
     "end_time": "2025-08-19T19:09:29.949674",
     "exception": false,
     "start_time": "2025-08-19T19:09:29.921764",
     "status": "completed"
    },
    "tags": []
   },
   "outputs": [
    {
     "name": "stdout",
     "output_type": "stream",
     "text": [
      "Dropping features: ['age']\n"
     ]
    }
   ],
   "source": [
    "if len(excluded_features_columns) > 0:\n",
    "    print(f\"Dropping features: {excluded_features_columns}\")\n",
    "    X_train.drop(excluded_features_columns, axis=1, inplace=True)"
   ]
  },
  {
   "cell_type": "code",
   "execution_count": 25,
   "id": "d029e3e9",
   "metadata": {
    "execution": {
     "iopub.execute_input": "2025-08-19T19:09:29.974368Z",
     "iopub.status.busy": "2025-08-19T19:09:29.971969Z",
     "iopub.status.idle": "2025-08-19T19:09:30.084950Z",
     "shell.execute_reply": "2025-08-19T19:09:30.084045Z"
    },
    "papermill": {
     "duration": 0.126374,
     "end_time": "2025-08-19T19:09:30.086581",
     "exception": false,
     "start_time": "2025-08-19T19:09:29.960207",
     "status": "completed"
    },
    "tags": []
   },
   "outputs": [
    {
     "name": "stdout",
     "output_type": "stream",
     "text": [
      "Dropping features: ['age']\n"
     ]
    }
   ],
   "source": [
    "if len(excluded_features_columns) > 0:\n",
    "    print(f\"Dropping features: {excluded_features_columns}\")\n",
    "    X_test.drop(excluded_features_columns, axis=1, inplace=True)"
   ]
  },
  {
   "cell_type": "code",
   "execution_count": 26,
   "id": "01d571f0",
   "metadata": {
    "execution": {
     "iopub.execute_input": "2025-08-19T19:09:30.126144Z",
     "iopub.status.busy": "2025-08-19T19:09:30.125350Z",
     "iopub.status.idle": "2025-08-19T19:09:30.233988Z",
     "shell.execute_reply": "2025-08-19T19:09:30.232971Z"
    },
    "papermill": {
     "duration": 0.135098,
     "end_time": "2025-08-19T19:09:30.235745",
     "exception": false,
     "start_time": "2025-08-19T19:09:30.100647",
     "status": "completed"
    },
    "tags": []
   },
   "outputs": [
    {
     "name": "stdout",
     "output_type": "stream",
     "text": [
      "Dropping features: ['age']\n"
     ]
    }
   ],
   "source": [
    "if len(excluded_features_columns) > 0:\n",
    "    print(f\"Dropping features: {excluded_features_columns}\")\n",
    "    X_calib.drop(excluded_features_columns, axis=1, inplace=True)"
   ]
  },
  {
   "cell_type": "code",
   "execution_count": 27,
   "id": "3037356e",
   "metadata": {
    "execution": {
     "iopub.execute_input": "2025-08-19T19:09:30.261997Z",
     "iopub.status.busy": "2025-08-19T19:09:30.261124Z",
     "iopub.status.idle": "2025-08-19T19:09:30.270191Z",
     "shell.execute_reply": "2025-08-19T19:09:30.268596Z"
    },
    "papermill": {
     "duration": 0.023289,
     "end_time": "2025-08-19T19:09:30.271683",
     "exception": false,
     "start_time": "2025-08-19T19:09:30.248394",
     "status": "completed"
    },
    "tags": []
   },
   "outputs": [],
   "source": [
    "# EXCLUDE CERTAIN SUBGROUPS\n",
    "# -------------------------\n",
    "\n",
    "mode = universe.get(\"exclude_subgroups\", \"keep-all\") # Defaults to \"keep-all\" if the key is missing."
   ]
  },
  {
   "cell_type": "code",
   "execution_count": 28,
   "id": "9d1e63fd",
   "metadata": {
    "execution": {
     "iopub.execute_input": "2025-08-19T19:09:30.298986Z",
     "iopub.status.busy": "2025-08-19T19:09:30.297817Z",
     "iopub.status.idle": "2025-08-19T19:09:30.311707Z",
     "shell.execute_reply": "2025-08-19T19:09:30.310112Z"
    },
    "papermill": {
     "duration": 0.029915,
     "end_time": "2025-08-19T19:09:30.315067",
     "exception": false,
     "start_time": "2025-08-19T19:09:30.285152",
     "status": "completed"
    },
    "tags": []
   },
   "outputs": [],
   "source": [
    "if mode == \"keep-all\":\n",
    "    keep_mask = pd.Series(True, index=org_train.index)\n",
    "\n",
    "elif mode == \"drop-non-german\":\n",
    "    keep_mask = (org_train[\"maxdeutsch1\"] == 1) & (org_train[\"maxdeutsch.Missing.\"] == 0)\n",
    "\n",
    "else:\n",
    "    raise ValueError(f\"Unsupported mode for exclude_subgroups: {mode}\")"
   ]
  },
  {
   "cell_type": "code",
   "execution_count": 29,
   "id": "d3b65474",
   "metadata": {
    "execution": {
     "iopub.execute_input": "2025-08-19T19:09:30.346523Z",
     "iopub.status.busy": "2025-08-19T19:09:30.345384Z",
     "iopub.status.idle": "2025-08-19T19:09:30.358692Z",
     "shell.execute_reply": "2025-08-19T19:09:30.356979Z"
    },
    "papermill": {
     "duration": 0.028951,
     "end_time": "2025-08-19T19:09:30.360773",
     "exception": false,
     "start_time": "2025-08-19T19:09:30.331822",
     "status": "completed"
    },
    "tags": []
   },
   "outputs": [
    {
     "name": "stdout",
     "output_type": "stream",
     "text": [
      "Dropping 131 rows (13.10%) where mode='drop-non-german'\n"
     ]
    }
   ],
   "source": [
    "n_drop = (~keep_mask).sum() # Calculates how many rows are set to be dropped\n",
    "if n_drop > 0:\n",
    "    pct = n_drop / len(keep_mask) * 100\n",
    "    print(f\"Dropping {n_drop} rows ({pct:.2f}%) where mode='{mode}'\")"
   ]
  },
  {
   "cell_type": "code",
   "execution_count": 30,
   "id": "f44389b3",
   "metadata": {
    "execution": {
     "iopub.execute_input": "2025-08-19T19:09:30.390033Z",
     "iopub.status.busy": "2025-08-19T19:09:30.388204Z",
     "iopub.status.idle": "2025-08-19T19:09:30.402046Z",
     "shell.execute_reply": "2025-08-19T19:09:30.400426Z"
    },
    "papermill": {
     "duration": 0.028108,
     "end_time": "2025-08-19T19:09:30.403848",
     "exception": false,
     "start_time": "2025-08-19T19:09:30.375740",
     "status": "completed"
    },
    "tags": []
   },
   "outputs": [],
   "source": [
    "X_train = X_train[keep_mask]"
   ]
  },
  {
   "cell_type": "code",
   "execution_count": 31,
   "id": "ceca8c2a",
   "metadata": {
    "execution": {
     "iopub.execute_input": "2025-08-19T19:09:30.445430Z",
     "iopub.status.busy": "2025-08-19T19:09:30.443928Z",
     "iopub.status.idle": "2025-08-19T19:09:30.455029Z",
     "shell.execute_reply": "2025-08-19T19:09:30.453356Z"
    },
    "papermill": {
     "duration": 0.036336,
     "end_time": "2025-08-19T19:09:30.456936",
     "exception": false,
     "start_time": "2025-08-19T19:09:30.420600",
     "status": "completed"
    },
    "tags": []
   },
   "outputs": [],
   "source": [
    "y_train = y_train[keep_mask]"
   ]
  },
  {
   "cell_type": "markdown",
   "id": "04d31e2f",
   "metadata": {
    "papermill": {
     "duration": 0.012134,
     "end_time": "2025-08-19T19:09:30.486477",
     "exception": false,
     "start_time": "2025-08-19T19:09:30.474343",
     "status": "completed"
    },
    "tags": []
   },
   "source": [
    "# Model Training"
   ]
  },
  {
   "cell_type": "code",
   "execution_count": 32,
   "id": "db991733",
   "metadata": {
    "execution": {
     "iopub.execute_input": "2025-08-19T19:09:30.511832Z",
     "iopub.status.busy": "2025-08-19T19:09:30.510541Z",
     "iopub.status.idle": "2025-08-19T19:09:30.678527Z",
     "shell.execute_reply": "2025-08-19T19:09:30.677730Z"
    },
    "papermill": {
     "duration": 0.182349,
     "end_time": "2025-08-19T19:09:30.680073",
     "exception": false,
     "start_time": "2025-08-19T19:09:30.497724",
     "status": "completed"
    },
    "tags": []
   },
   "outputs": [],
   "source": [
    "from sklearn.linear_model import LogisticRegression\n",
    "from sklearn.ensemble import GradientBoostingClassifier, RandomForestClassifier\n",
    "\n",
    "if (universe[\"model\"] == \"logreg\"):\n",
    "    model = LogisticRegression() #penalty=\"none\", solver=\"newton-cg\", max_iter=1)\n",
    "elif (universe[\"model\"] == \"penalized_logreg\"):\n",
    "    model = LogisticRegression(penalty=\"l2\", C=0.1) #, solver=\"newton-cg\", max_iter=1)\n",
    "elif (universe[\"model\"] == \"rf\"):\n",
    "    model = RandomForestClassifier() # n_estimators=100, n_jobs=-1\n",
    "elif (universe[\"model\"] == \"gbm\"):\n",
    "    model = GradientBoostingClassifier()\n",
    "elif (universe[\"model\"] == \"elasticnet\"):\n",
    "    model = LogisticRegression(penalty = 'elasticnet', solver = 'saga', l1_ratio = 0.5) # max_iter=5000\n",
    "else:\n",
    "    raise \"Unsupported universe.model\""
   ]
  },
  {
   "cell_type": "code",
   "execution_count": 33,
   "id": "a4b5cd25",
   "metadata": {
    "execution": {
     "iopub.execute_input": "2025-08-19T19:09:30.706151Z",
     "iopub.status.busy": "2025-08-19T19:09:30.705715Z",
     "iopub.status.idle": "2025-08-19T19:09:30.710892Z",
     "shell.execute_reply": "2025-08-19T19:09:30.710299Z"
    },
    "papermill": {
     "duration": 0.020194,
     "end_time": "2025-08-19T19:09:30.711877",
     "exception": false,
     "start_time": "2025-08-19T19:09:30.691683",
     "status": "completed"
    },
    "tags": []
   },
   "outputs": [],
   "source": [
    "from sklearn.pipeline import Pipeline\n",
    "from sklearn.preprocessing import StandardScaler\n",
    "\n",
    "model = Pipeline([\n",
    "    #(\"continuous_processor\", continuous_processor),\n",
    "    #(\"categorical_preprocessor\", categorical_preprocessor),\n",
    "    (\"scale\", StandardScaler() if universe[\"scale\"] == \"scale\" else None), \n",
    "    (\"model\", model),\n",
    "])"
   ]
  },
  {
   "cell_type": "code",
   "execution_count": 34,
   "id": "283a904d",
   "metadata": {
    "execution": {
     "iopub.execute_input": "2025-08-19T19:09:30.738766Z",
     "iopub.status.busy": "2025-08-19T19:09:30.737696Z",
     "iopub.status.idle": "2025-08-19T19:09:30.815526Z",
     "shell.execute_reply": "2025-08-19T19:09:30.814889Z"
    },
    "papermill": {
     "duration": 0.095061,
     "end_time": "2025-08-19T19:09:30.818868",
     "exception": false,
     "start_time": "2025-08-19T19:09:30.723807",
     "status": "completed"
    },
    "tags": []
   },
   "outputs": [
    {
     "name": "stderr",
     "output_type": "stream",
     "text": [
      "/dss/dsshome1/0C/ra93lal2/.local/share/virtualenvs/CMA_Fairness_v2-3j10GkSs/lib/python3.10/site-packages/sklearn/linear_model/_logistic.py:444: ConvergenceWarning: lbfgs failed to converge (status=1):\n",
      "STOP: TOTAL NO. of ITERATIONS REACHED LIMIT.\n",
      "\n",
      "Increase the number of iterations (max_iter) or scale the data as shown in:\n",
      "    https://scikit-learn.org/stable/modules/preprocessing.html\n",
      "Please also refer to the documentation for alternative solver options:\n",
      "    https://scikit-learn.org/stable/modules/linear_model.html#logistic-regression\n",
      "  n_iter_i = _check_optimize_result(\n"
     ]
    },
    {
     "data": {
      "text/html": [
       "<style>#sk-container-id-1 {color: black;background-color: white;}#sk-container-id-1 pre{padding: 0;}#sk-container-id-1 div.sk-toggleable {background-color: white;}#sk-container-id-1 label.sk-toggleable__label {cursor: pointer;display: block;width: 100%;margin-bottom: 0;padding: 0.3em;box-sizing: border-box;text-align: center;}#sk-container-id-1 label.sk-toggleable__label-arrow:before {content: \"▸\";float: left;margin-right: 0.25em;color: #696969;}#sk-container-id-1 label.sk-toggleable__label-arrow:hover:before {color: black;}#sk-container-id-1 div.sk-estimator:hover label.sk-toggleable__label-arrow:before {color: black;}#sk-container-id-1 div.sk-toggleable__content {max-height: 0;max-width: 0;overflow: hidden;text-align: left;background-color: #f0f8ff;}#sk-container-id-1 div.sk-toggleable__content pre {margin: 0.2em;color: black;border-radius: 0.25em;background-color: #f0f8ff;}#sk-container-id-1 input.sk-toggleable__control:checked~div.sk-toggleable__content {max-height: 200px;max-width: 100%;overflow: auto;}#sk-container-id-1 input.sk-toggleable__control:checked~label.sk-toggleable__label-arrow:before {content: \"▾\";}#sk-container-id-1 div.sk-estimator input.sk-toggleable__control:checked~label.sk-toggleable__label {background-color: #d4ebff;}#sk-container-id-1 div.sk-label input.sk-toggleable__control:checked~label.sk-toggleable__label {background-color: #d4ebff;}#sk-container-id-1 input.sk-hidden--visually {border: 0;clip: rect(1px 1px 1px 1px);clip: rect(1px, 1px, 1px, 1px);height: 1px;margin: -1px;overflow: hidden;padding: 0;position: absolute;width: 1px;}#sk-container-id-1 div.sk-estimator {font-family: monospace;background-color: #f0f8ff;border: 1px dotted black;border-radius: 0.25em;box-sizing: border-box;margin-bottom: 0.5em;}#sk-container-id-1 div.sk-estimator:hover {background-color: #d4ebff;}#sk-container-id-1 div.sk-parallel-item::after {content: \"\";width: 100%;border-bottom: 1px solid gray;flex-grow: 1;}#sk-container-id-1 div.sk-label:hover label.sk-toggleable__label {background-color: #d4ebff;}#sk-container-id-1 div.sk-serial::before {content: \"\";position: absolute;border-left: 1px solid gray;box-sizing: border-box;top: 0;bottom: 0;left: 50%;z-index: 0;}#sk-container-id-1 div.sk-serial {display: flex;flex-direction: column;align-items: center;background-color: white;padding-right: 0.2em;padding-left: 0.2em;position: relative;}#sk-container-id-1 div.sk-item {position: relative;z-index: 1;}#sk-container-id-1 div.sk-parallel {display: flex;align-items: stretch;justify-content: center;background-color: white;position: relative;}#sk-container-id-1 div.sk-item::before, #sk-container-id-1 div.sk-parallel-item::before {content: \"\";position: absolute;border-left: 1px solid gray;box-sizing: border-box;top: 0;bottom: 0;left: 50%;z-index: -1;}#sk-container-id-1 div.sk-parallel-item {display: flex;flex-direction: column;z-index: 1;position: relative;background-color: white;}#sk-container-id-1 div.sk-parallel-item:first-child::after {align-self: flex-end;width: 50%;}#sk-container-id-1 div.sk-parallel-item:last-child::after {align-self: flex-start;width: 50%;}#sk-container-id-1 div.sk-parallel-item:only-child::after {width: 0;}#sk-container-id-1 div.sk-dashed-wrapped {border: 1px dashed gray;margin: 0 0.4em 0.5em 0.4em;box-sizing: border-box;padding-bottom: 0.4em;background-color: white;}#sk-container-id-1 div.sk-label label {font-family: monospace;font-weight: bold;display: inline-block;line-height: 1.2em;}#sk-container-id-1 div.sk-label-container {text-align: center;}#sk-container-id-1 div.sk-container {/* jupyter's `normalize.less` sets `[hidden] { display: none; }` but bootstrap.min.css set `[hidden] { display: none !important; }` so we also need the `!important` here to be able to override the default hidden behavior on the sphinx rendered scikit-learn.org. See: https://github.com/scikit-learn/scikit-learn/issues/21755 */display: inline-block !important;position: relative;}#sk-container-id-1 div.sk-text-repr-fallback {display: none;}</style><div id=\"sk-container-id-1\" class=\"sk-top-container\"><div class=\"sk-text-repr-fallback\"><pre>Pipeline(steps=[(&#x27;scale&#x27;, None), (&#x27;model&#x27;, LogisticRegression())])</pre><b>In a Jupyter environment, please rerun this cell to show the HTML representation or trust the notebook. <br />On GitHub, the HTML representation is unable to render, please try loading this page with nbviewer.org.</b></div><div class=\"sk-container\" hidden><div class=\"sk-item sk-dashed-wrapped\"><div class=\"sk-label-container\"><div class=\"sk-label sk-toggleable\"><input class=\"sk-toggleable__control sk-hidden--visually\" id=\"sk-estimator-id-1\" type=\"checkbox\" ><label for=\"sk-estimator-id-1\" class=\"sk-toggleable__label sk-toggleable__label-arrow\">Pipeline</label><div class=\"sk-toggleable__content\"><pre>Pipeline(steps=[(&#x27;scale&#x27;, None), (&#x27;model&#x27;, LogisticRegression())])</pre></div></div></div><div class=\"sk-serial\"><div class=\"sk-item\"><div class=\"sk-estimator sk-toggleable\"><input class=\"sk-toggleable__control sk-hidden--visually\" id=\"sk-estimator-id-2\" type=\"checkbox\" ><label for=\"sk-estimator-id-2\" class=\"sk-toggleable__label sk-toggleable__label-arrow\">None</label><div class=\"sk-toggleable__content\"><pre>None</pre></div></div></div><div class=\"sk-item\"><div class=\"sk-estimator sk-toggleable\"><input class=\"sk-toggleable__control sk-hidden--visually\" id=\"sk-estimator-id-3\" type=\"checkbox\" ><label for=\"sk-estimator-id-3\" class=\"sk-toggleable__label sk-toggleable__label-arrow\">LogisticRegression</label><div class=\"sk-toggleable__content\"><pre>LogisticRegression()</pre></div></div></div></div></div></div></div>"
      ],
      "text/plain": [
       "Pipeline(steps=[('scale', None), ('model', LogisticRegression())])"
      ]
     },
     "execution_count": 34,
     "metadata": {},
     "output_type": "execute_result"
    }
   ],
   "source": [
    "model.fit(X_train, y_train.values.ravel())"
   ]
  },
  {
   "cell_type": "code",
   "execution_count": 35,
   "id": "6e15e313",
   "metadata": {
    "execution": {
     "iopub.execute_input": "2025-08-19T19:09:30.849682Z",
     "iopub.status.busy": "2025-08-19T19:09:30.848798Z",
     "iopub.status.idle": "2025-08-19T19:09:30.954353Z",
     "shell.execute_reply": "2025-08-19T19:09:30.953719Z"
    },
    "papermill": {
     "duration": 0.120549,
     "end_time": "2025-08-19T19:09:30.955440",
     "exception": false,
     "start_time": "2025-08-19T19:09:30.834891",
     "status": "completed"
    },
    "tags": []
   },
   "outputs": [
    {
     "data": {
      "text/plain": [
       "0.8528146249024635"
      ]
     },
     "execution_count": 35,
     "metadata": {},
     "output_type": "execute_result"
    }
   ],
   "source": [
    "from fairness_multiverse.universe import predict_w_threshold\n",
    "\n",
    "probs_test = model.predict_proba(X_test)\n",
    "\n",
    "'''\n",
    "Below code returns a boolean array (or binary 0/1 array depending on how it’s used) where each element \n",
    "is True if the probability of class 1 is greater than or equal to the threshold, and False otherwise.\n",
    "'''\n",
    "y_pred_default = predict_w_threshold(probs_test, 0.5)\n",
    "\n",
    "from sklearn.metrics import accuracy_score\n",
    "\n",
    "# Naive prediction\n",
    "accuracy_score(y_true = y_true, y_pred = y_pred_default)"
   ]
  },
  {
   "cell_type": "code",
   "execution_count": 36,
   "id": "6f14067c",
   "metadata": {
    "execution": {
     "iopub.execute_input": "2025-08-19T19:09:30.980101Z",
     "iopub.status.busy": "2025-08-19T19:09:30.979641Z",
     "iopub.status.idle": "2025-08-19T19:09:31.098566Z",
     "shell.execute_reply": "2025-08-19T19:09:31.097345Z"
    },
    "papermill": {
     "duration": 0.132683,
     "end_time": "2025-08-19T19:09:31.099922",
     "exception": false,
     "start_time": "2025-08-19T19:09:30.967239",
     "status": "completed"
    },
    "tags": []
   },
   "outputs": [
    {
     "data": {
      "text/plain": [
       "array([0, 0, 0, ..., 0, 0, 0])"
      ]
     },
     "execution_count": 36,
     "metadata": {},
     "output_type": "execute_result"
    }
   ],
   "source": [
    "model.predict(X_test)"
   ]
  },
  {
   "cell_type": "markdown",
   "id": "3759920c",
   "metadata": {
    "papermill": {
     "duration": 0.016558,
     "end_time": "2025-08-19T19:09:31.129277",
     "exception": false,
     "start_time": "2025-08-19T19:09:31.112719",
     "status": "completed"
    },
    "tags": []
   },
   "source": [
    "# Conformal Prediction"
   ]
  },
  {
   "cell_type": "code",
   "execution_count": 37,
   "id": "14b27f59",
   "metadata": {
    "execution": {
     "iopub.execute_input": "2025-08-19T19:09:31.176316Z",
     "iopub.status.busy": "2025-08-19T19:09:31.175651Z",
     "iopub.status.idle": "2025-08-19T19:09:31.181572Z",
     "shell.execute_reply": "2025-08-19T19:09:31.180771Z"
    },
    "papermill": {
     "duration": 0.021197,
     "end_time": "2025-08-19T19:09:31.183125",
     "exception": false,
     "start_time": "2025-08-19T19:09:31.161928",
     "status": "completed"
    },
    "tags": []
   },
   "outputs": [],
   "source": [
    "# Miscoverage level for conformal prediction (10% allowed error rate => 90% target coverage)\n",
    "alpha = 0.1"
   ]
  },
  {
   "cell_type": "code",
   "execution_count": 38,
   "id": "59102472",
   "metadata": {
    "execution": {
     "iopub.execute_input": "2025-08-19T19:09:31.213033Z",
     "iopub.status.busy": "2025-08-19T19:09:31.212594Z",
     "iopub.status.idle": "2025-08-19T19:09:31.295725Z",
     "shell.execute_reply": "2025-08-19T19:09:31.294840Z"
    },
    "papermill": {
     "duration": 0.102866,
     "end_time": "2025-08-19T19:09:31.297651",
     "exception": false,
     "start_time": "2025-08-19T19:09:31.194785",
     "status": "completed"
    },
    "tags": []
   },
   "outputs": [],
   "source": [
    "probs_calib = model.predict_proba(X_calib)"
   ]
  },
  {
   "cell_type": "code",
   "execution_count": 39,
   "id": "a792d4dd",
   "metadata": {
    "execution": {
     "iopub.execute_input": "2025-08-19T19:09:31.331944Z",
     "iopub.status.busy": "2025-08-19T19:09:31.330701Z",
     "iopub.status.idle": "2025-08-19T19:09:31.339132Z",
     "shell.execute_reply": "2025-08-19T19:09:31.337906Z"
    },
    "papermill": {
     "duration": 0.023382,
     "end_time": "2025-08-19T19:09:31.340626",
     "exception": false,
     "start_time": "2025-08-19T19:09:31.317244",
     "status": "completed"
    },
    "tags": []
   },
   "outputs": [],
   "source": [
    "y_calib = y_calib.values.ravel().astype(int)"
   ]
  },
  {
   "cell_type": "code",
   "execution_count": 40,
   "id": "650fd033",
   "metadata": {
    "execution": {
     "iopub.execute_input": "2025-08-19T19:09:31.375278Z",
     "iopub.status.busy": "2025-08-19T19:09:31.373347Z",
     "iopub.status.idle": "2025-08-19T19:09:31.388559Z",
     "shell.execute_reply": "2025-08-19T19:09:31.387375Z"
    },
    "papermill": {
     "duration": 0.030412,
     "end_time": "2025-08-19T19:09:31.390105",
     "exception": false,
     "start_time": "2025-08-19T19:09:31.359693",
     "status": "completed"
    },
    "tags": []
   },
   "outputs": [],
   "source": [
    "from fairness_multiverse.conformal import compute_nc_scores\n",
    "\n",
    "# Compute nonconformity scores on calibration set (1 - probability of true class)\n",
    "nc_scores = compute_nc_scores(probs_calib, y_calib)"
   ]
  },
  {
   "cell_type": "code",
   "execution_count": 41,
   "id": "28ada44c",
   "metadata": {
    "execution": {
     "iopub.execute_input": "2025-08-19T19:09:31.425012Z",
     "iopub.status.busy": "2025-08-19T19:09:31.423703Z",
     "iopub.status.idle": "2025-08-19T19:09:31.434252Z",
     "shell.execute_reply": "2025-08-19T19:09:31.432305Z"
    },
    "papermill": {
     "duration": 0.027427,
     "end_time": "2025-08-19T19:09:31.435762",
     "exception": false,
     "start_time": "2025-08-19T19:09:31.408335",
     "status": "completed"
    },
    "tags": []
   },
   "outputs": [],
   "source": [
    "from fairness_multiverse.conformal import find_threshold\n",
    "\n",
    "# Find conformal threshold q_hat for the given alpha (split conformal method)\n",
    "q_hat = find_threshold(nc_scores, alpha)"
   ]
  },
  {
   "cell_type": "code",
   "execution_count": 42,
   "id": "df56469e",
   "metadata": {
    "execution": {
     "iopub.execute_input": "2025-08-19T19:09:31.480105Z",
     "iopub.status.busy": "2025-08-19T19:09:31.478734Z",
     "iopub.status.idle": "2025-08-19T19:09:31.488773Z",
     "shell.execute_reply": "2025-08-19T19:09:31.487525Z"
    },
    "papermill": {
     "duration": 0.040175,
     "end_time": "2025-08-19T19:09:31.490271",
     "exception": false,
     "start_time": "2025-08-19T19:09:31.450096",
     "status": "completed"
    },
    "tags": []
   },
   "outputs": [
    {
     "data": {
      "text/plain": [
       "0.6744586941623025"
      ]
     },
     "execution_count": 42,
     "metadata": {},
     "output_type": "execute_result"
    }
   ],
   "source": [
    "q_hat"
   ]
  },
  {
   "cell_type": "code",
   "execution_count": 43,
   "id": "aa1f5faa",
   "metadata": {
    "execution": {
     "iopub.execute_input": "2025-08-19T19:09:31.519642Z",
     "iopub.status.busy": "2025-08-19T19:09:31.518476Z",
     "iopub.status.idle": "2025-08-19T19:09:32.092094Z",
     "shell.execute_reply": "2025-08-19T19:09:32.090947Z"
    },
    "papermill": {
     "duration": 0.589127,
     "end_time": "2025-08-19T19:09:32.094009",
     "exception": false,
     "start_time": "2025-08-19T19:09:31.504882",
     "status": "completed"
    },
    "tags": []
   },
   "outputs": [],
   "source": [
    "from fairness_multiverse.conformal import predict_conformal_sets\n",
    "\n",
    "# Generate prediction sets for each test example\n",
    "pred_sets = predict_conformal_sets(model, X_test, q_hat)"
   ]
  },
  {
   "cell_type": "code",
   "execution_count": 44,
   "id": "97f67a6b",
   "metadata": {
    "execution": {
     "iopub.execute_input": "2025-08-19T19:09:32.121313Z",
     "iopub.status.busy": "2025-08-19T19:09:32.120089Z",
     "iopub.status.idle": "2025-08-19T19:09:32.127247Z",
     "shell.execute_reply": "2025-08-19T19:09:32.125951Z"
    },
    "papermill": {
     "duration": 0.022675,
     "end_time": "2025-08-19T19:09:32.129094",
     "exception": false,
     "start_time": "2025-08-19T19:09:32.106419",
     "status": "completed"
    },
    "tags": []
   },
   "outputs": [],
   "source": [
    "y_true = y_true.squeeze()"
   ]
  },
  {
   "cell_type": "code",
   "execution_count": 45,
   "id": "e700e9a7",
   "metadata": {
    "execution": {
     "iopub.execute_input": "2025-08-19T19:09:32.189329Z",
     "iopub.status.busy": "2025-08-19T19:09:32.186888Z",
     "iopub.status.idle": "2025-08-19T19:09:32.752246Z",
     "shell.execute_reply": "2025-08-19T19:09:32.750824Z"
    },
    "papermill": {
     "duration": 0.581407,
     "end_time": "2025-08-19T19:09:32.753975",
     "exception": false,
     "start_time": "2025-08-19T19:09:32.172568",
     "status": "completed"
    },
    "tags": []
   },
   "outputs": [],
   "source": [
    "from fairness_multiverse.conformal import evaluate_sets\n",
    "\n",
    "# Evaluate coverage and average set size on test data\n",
    "metrics = evaluate_sets(pred_sets, y_true)"
   ]
  },
  {
   "cell_type": "markdown",
   "id": "efbacec0",
   "metadata": {
    "papermill": {
     "duration": 0.027757,
     "end_time": "2025-08-19T19:09:32.801447",
     "exception": false,
     "start_time": "2025-08-19T19:09:32.773690",
     "status": "completed"
    },
    "tags": []
   },
   "source": [
    "# CP Metrics"
   ]
  },
  {
   "cell_type": "code",
   "execution_count": 46,
   "id": "9de55fb1",
   "metadata": {
    "execution": {
     "iopub.execute_input": "2025-08-19T19:09:32.845635Z",
     "iopub.status.busy": "2025-08-19T19:09:32.844691Z",
     "iopub.status.idle": "2025-08-19T19:09:32.861340Z",
     "shell.execute_reply": "2025-08-19T19:09:32.860130Z"
    },
    "papermill": {
     "duration": 0.047932,
     "end_time": "2025-08-19T19:09:32.863372",
     "exception": false,
     "start_time": "2025-08-19T19:09:32.815440",
     "status": "completed"
    },
    "tags": []
   },
   "outputs": [
    {
     "data": {
      "text/plain": [
       "{'coverage': 0.9132426708282243, 'avg_size': 1.2742169211905028}"
      ]
     },
     "execution_count": 46,
     "metadata": {},
     "output_type": "execute_result"
    }
   ],
   "source": [
    "metrics"
   ]
  },
  {
   "cell_type": "code",
   "execution_count": 47,
   "id": "64c340a1",
   "metadata": {
    "execution": {
     "iopub.execute_input": "2025-08-19T19:09:32.893032Z",
     "iopub.status.busy": "2025-08-19T19:09:32.892622Z",
     "iopub.status.idle": "2025-08-19T19:09:32.898352Z",
     "shell.execute_reply": "2025-08-19T19:09:32.897501Z"
    },
    "papermill": {
     "duration": 0.02024,
     "end_time": "2025-08-19T19:09:32.899847",
     "exception": false,
     "start_time": "2025-08-19T19:09:32.879607",
     "status": "completed"
    },
    "tags": []
   },
   "outputs": [],
   "source": [
    "example_universe = universe.copy()\n",
    "universe_training_year = example_universe.get(\"training_year\")\n",
    "universe_training_size = example_universe.get(\"training_size\")\n",
    "universe_scale = example_universe.get(\"scale\")\n",
    "universe_model = example_universe.get(\"model\")\n",
    "universe_exclude_features = example_universe.get(\"exclude_features\")\n",
    "universe_exclude_subgroups = example_universe.get(\"exclude_subgroups\")"
   ]
  },
  {
   "cell_type": "code",
   "execution_count": 48,
   "id": "dbb53cb4",
   "metadata": {
    "execution": {
     "iopub.execute_input": "2025-08-19T19:09:32.925234Z",
     "iopub.status.busy": "2025-08-19T19:09:32.924860Z",
     "iopub.status.idle": "2025-08-19T19:09:32.930656Z",
     "shell.execute_reply": "2025-08-19T19:09:32.929874Z"
    },
    "papermill": {
     "duration": 0.020128,
     "end_time": "2025-08-19T19:09:32.932095",
     "exception": false,
     "start_time": "2025-08-19T19:09:32.911967",
     "status": "completed"
    },
    "tags": []
   },
   "outputs": [],
   "source": [
    "cp_metrics_dict = {\n",
    "    \"universe_id\": [universe_id],\n",
    "    \"universe_training_year\": [universe_training_year],\n",
    "    \"universe_training_size\": [universe_training_size],\n",
    "    \"universe_scale\": [universe_scale],\n",
    "    \"universe_model\": [universe_model],\n",
    "    \"universe_exclude_features\": [universe_exclude_features],\n",
    "    \"universe_exclude_subgroups\": [universe_exclude_subgroups],\n",
    "    \"q_hat\": [q_hat],\n",
    "    \"coverage\": [metrics[\"coverage\"]],\n",
    "    \"avg_size\": [metrics[\"avg_size\"]],\n",
    "}"
   ]
  },
  {
   "cell_type": "code",
   "execution_count": 49,
   "id": "0d70d4b2",
   "metadata": {
    "execution": {
     "iopub.execute_input": "2025-08-19T19:09:32.961246Z",
     "iopub.status.busy": "2025-08-19T19:09:32.960917Z",
     "iopub.status.idle": "2025-08-19T19:09:32.986472Z",
     "shell.execute_reply": "2025-08-19T19:09:32.985411Z"
    },
    "papermill": {
     "duration": 0.044334,
     "end_time": "2025-08-19T19:09:32.988836",
     "exception": false,
     "start_time": "2025-08-19T19:09:32.944502",
     "status": "completed"
    },
    "tags": []
   },
   "outputs": [],
   "source": [
    "cp_metrics_df = pd.DataFrame(cp_metrics_dict)"
   ]
  },
  {
   "cell_type": "code",
   "execution_count": 50,
   "id": "b494403c",
   "metadata": {
    "execution": {
     "iopub.execute_input": "2025-08-19T19:09:33.019585Z",
     "iopub.status.busy": "2025-08-19T19:09:33.019231Z",
     "iopub.status.idle": "2025-08-19T19:09:33.036174Z",
     "shell.execute_reply": "2025-08-19T19:09:33.035330Z"
    },
    "papermill": {
     "duration": 0.031886,
     "end_time": "2025-08-19T19:09:33.037898",
     "exception": false,
     "start_time": "2025-08-19T19:09:33.006012",
     "status": "completed"
    },
    "tags": []
   },
   "outputs": [
    {
     "data": {
      "text/html": [
       "<div>\n",
       "<style scoped>\n",
       "    .dataframe tbody tr th:only-of-type {\n",
       "        vertical-align: middle;\n",
       "    }\n",
       "\n",
       "    .dataframe tbody tr th {\n",
       "        vertical-align: top;\n",
       "    }\n",
       "\n",
       "    .dataframe thead th {\n",
       "        text-align: right;\n",
       "    }\n",
       "</style>\n",
       "<table border=\"1\" class=\"dataframe\">\n",
       "  <thead>\n",
       "    <tr style=\"text-align: right;\">\n",
       "      <th></th>\n",
       "      <th>universe_id</th>\n",
       "      <th>universe_training_year</th>\n",
       "      <th>universe_training_size</th>\n",
       "      <th>universe_scale</th>\n",
       "      <th>universe_model</th>\n",
       "      <th>universe_exclude_features</th>\n",
       "      <th>universe_exclude_subgroups</th>\n",
       "      <th>q_hat</th>\n",
       "      <th>coverage</th>\n",
       "      <th>avg_size</th>\n",
       "    </tr>\n",
       "  </thead>\n",
       "  <tbody>\n",
       "    <tr>\n",
       "      <th>0</th>\n",
       "      <td>10241e2664d0ee856f663186d67596d5</td>\n",
       "      <td>2010_14</td>\n",
       "      <td>1k</td>\n",
       "      <td>do-not-scale</td>\n",
       "      <td>logreg</td>\n",
       "      <td>age</td>\n",
       "      <td>drop-non-german</td>\n",
       "      <td>0.674459</td>\n",
       "      <td>0.913243</td>\n",
       "      <td>1.274217</td>\n",
       "    </tr>\n",
       "  </tbody>\n",
       "</table>\n",
       "</div>"
      ],
      "text/plain": [
       "                        universe_id universe_training_year  \\\n",
       "0  10241e2664d0ee856f663186d67596d5                2010_14   \n",
       "\n",
       "  universe_training_size universe_scale universe_model  \\\n",
       "0                     1k   do-not-scale         logreg   \n",
       "\n",
       "  universe_exclude_features universe_exclude_subgroups     q_hat  coverage  \\\n",
       "0                       age            drop-non-german  0.674459  0.913243   \n",
       "\n",
       "   avg_size  \n",
       "0  1.274217  "
      ]
     },
     "execution_count": 50,
     "metadata": {},
     "output_type": "execute_result"
    }
   ],
   "source": [
    "cp_metrics_df"
   ]
  },
  {
   "cell_type": "markdown",
   "id": "ed608b0b",
   "metadata": {
    "papermill": {
     "duration": 0.0117,
     "end_time": "2025-08-19T19:09:33.063145",
     "exception": false,
     "start_time": "2025-08-19T19:09:33.051445",
     "status": "completed"
    },
    "tags": []
   },
   "source": [
    "Conditional coverage & looking at subgroups"
   ]
  },
  {
   "cell_type": "code",
   "execution_count": 51,
   "id": "8968c366",
   "metadata": {
    "execution": {
     "iopub.execute_input": "2025-08-19T19:09:33.087653Z",
     "iopub.status.busy": "2025-08-19T19:09:33.087284Z",
     "iopub.status.idle": "2025-08-19T19:09:33.362542Z",
     "shell.execute_reply": "2025-08-19T19:09:33.361606Z"
    },
    "papermill": {
     "duration": 0.289372,
     "end_time": "2025-08-19T19:09:33.364114",
     "exception": false,
     "start_time": "2025-08-19T19:09:33.074742",
     "status": "completed"
    },
    "tags": []
   },
   "outputs": [],
   "source": [
    "from fairness_multiverse.conformal import build_cp_groups\n",
    "\n",
    "cp_groups_df = build_cp_groups(pred_sets, y_true, X_test.index, org_test)"
   ]
  },
  {
   "cell_type": "code",
   "execution_count": 52,
   "id": "292ddabf",
   "metadata": {
    "execution": {
     "iopub.execute_input": "2025-08-19T19:09:33.426354Z",
     "iopub.status.busy": "2025-08-19T19:09:33.425120Z",
     "iopub.status.idle": "2025-08-19T19:09:34.332719Z",
     "shell.execute_reply": "2025-08-19T19:09:34.331363Z"
    },
    "papermill": {
     "duration": 0.949383,
     "end_time": "2025-08-19T19:09:34.334356",
     "exception": false,
     "start_time": "2025-08-19T19:09:33.384973",
     "status": "completed"
    },
    "tags": []
   },
   "outputs": [],
   "source": [
    "# Define covered = 1 if true_label is in the predicted set\n",
    "cp_groups_df['covered'] = cp_groups_df.apply(\n",
    "    lambda r: int(r['true_label'] in r['pred_set']),\n",
    "    axis=1\n",
    ")"
   ]
  },
  {
   "cell_type": "code",
   "execution_count": 53,
   "id": "3a261692",
   "metadata": {
    "execution": {
     "iopub.execute_input": "2025-08-19T19:09:34.390994Z",
     "iopub.status.busy": "2025-08-19T19:09:34.390134Z",
     "iopub.status.idle": "2025-08-19T19:09:34.403622Z",
     "shell.execute_reply": "2025-08-19T19:09:34.402807Z"
    },
    "papermill": {
     "duration": 0.045601,
     "end_time": "2025-08-19T19:09:34.406239",
     "exception": false,
     "start_time": "2025-08-19T19:09:34.360638",
     "status": "completed"
    },
    "tags": []
   },
   "outputs": [],
   "source": [
    "subgroups = ['frau1','nongerman','nongerman_male','nongerman_female']\n",
    "\n",
    "# Conditional coverage for subgroup==1\n",
    "cond_coverage = {\n",
    "    g: cp_groups_df.loc[cp_groups_df[g]==1, 'covered'].mean()\n",
    "    for g in subgroups\n",
    "}"
   ]
  },
  {
   "cell_type": "code",
   "execution_count": 54,
   "id": "894fd600",
   "metadata": {
    "execution": {
     "iopub.execute_input": "2025-08-19T19:09:34.451064Z",
     "iopub.status.busy": "2025-08-19T19:09:34.448022Z",
     "iopub.status.idle": "2025-08-19T19:09:34.463220Z",
     "shell.execute_reply": "2025-08-19T19:09:34.462007Z"
    },
    "papermill": {
     "duration": 0.031732,
     "end_time": "2025-08-19T19:09:34.464818",
     "exception": false,
     "start_time": "2025-08-19T19:09:34.433086",
     "status": "completed"
    },
    "tags": []
   },
   "outputs": [
    {
     "data": {
      "text/plain": [
       "{'frau1': 0.9140854562609516,\n",
       " 'nongerman': 0.9627238533655196,\n",
       " 'nongerman_male': 0.9688372511933712,\n",
       " 'nongerman_female': 0.952608047690015}"
      ]
     },
     "execution_count": 54,
     "metadata": {},
     "output_type": "execute_result"
    }
   ],
   "source": [
    "cond_coverage"
   ]
  },
  {
   "cell_type": "code",
   "execution_count": 55,
   "id": "942895c7",
   "metadata": {
    "execution": {
     "iopub.execute_input": "2025-08-19T19:09:34.496672Z",
     "iopub.status.busy": "2025-08-19T19:09:34.495247Z",
     "iopub.status.idle": "2025-08-19T19:09:34.507797Z",
     "shell.execute_reply": "2025-08-19T19:09:34.506456Z"
    },
    "papermill": {
     "duration": 0.027742,
     "end_time": "2025-08-19T19:09:34.509322",
     "exception": false,
     "start_time": "2025-08-19T19:09:34.481580",
     "status": "completed"
    },
    "tags": []
   },
   "outputs": [],
   "source": [
    "for subgroup, cov in cond_coverage.items():\n",
    "    cp_metrics_df[f\"cov_{subgroup}\"] = cov"
   ]
  },
  {
   "cell_type": "code",
   "execution_count": 56,
   "id": "3970120f",
   "metadata": {
    "execution": {
     "iopub.execute_input": "2025-08-19T19:09:34.540215Z",
     "iopub.status.busy": "2025-08-19T19:09:34.539113Z",
     "iopub.status.idle": "2025-08-19T19:09:34.558887Z",
     "shell.execute_reply": "2025-08-19T19:09:34.558024Z"
    },
    "papermill": {
     "duration": 0.03507,
     "end_time": "2025-08-19T19:09:34.560398",
     "exception": false,
     "start_time": "2025-08-19T19:09:34.525328",
     "status": "completed"
    },
    "tags": []
   },
   "outputs": [
    {
     "data": {
      "text/html": [
       "<div>\n",
       "<style scoped>\n",
       "    .dataframe tbody tr th:only-of-type {\n",
       "        vertical-align: middle;\n",
       "    }\n",
       "\n",
       "    .dataframe tbody tr th {\n",
       "        vertical-align: top;\n",
       "    }\n",
       "\n",
       "    .dataframe thead th {\n",
       "        text-align: right;\n",
       "    }\n",
       "</style>\n",
       "<table border=\"1\" class=\"dataframe\">\n",
       "  <thead>\n",
       "    <tr style=\"text-align: right;\">\n",
       "      <th></th>\n",
       "      <th>universe_id</th>\n",
       "      <th>universe_training_year</th>\n",
       "      <th>universe_training_size</th>\n",
       "      <th>universe_scale</th>\n",
       "      <th>universe_model</th>\n",
       "      <th>universe_exclude_features</th>\n",
       "      <th>universe_exclude_subgroups</th>\n",
       "      <th>q_hat</th>\n",
       "      <th>coverage</th>\n",
       "      <th>avg_size</th>\n",
       "      <th>cov_frau1</th>\n",
       "      <th>cov_nongerman</th>\n",
       "      <th>cov_nongerman_male</th>\n",
       "      <th>cov_nongerman_female</th>\n",
       "    </tr>\n",
       "  </thead>\n",
       "  <tbody>\n",
       "    <tr>\n",
       "      <th>0</th>\n",
       "      <td>10241e2664d0ee856f663186d67596d5</td>\n",
       "      <td>2010_14</td>\n",
       "      <td>1k</td>\n",
       "      <td>do-not-scale</td>\n",
       "      <td>logreg</td>\n",
       "      <td>age</td>\n",
       "      <td>drop-non-german</td>\n",
       "      <td>0.674459</td>\n",
       "      <td>0.913243</td>\n",
       "      <td>1.274217</td>\n",
       "      <td>0.914085</td>\n",
       "      <td>0.962724</td>\n",
       "      <td>0.968837</td>\n",
       "      <td>0.952608</td>\n",
       "    </tr>\n",
       "  </tbody>\n",
       "</table>\n",
       "</div>"
      ],
      "text/plain": [
       "                        universe_id universe_training_year  \\\n",
       "0  10241e2664d0ee856f663186d67596d5                2010_14   \n",
       "\n",
       "  universe_training_size universe_scale universe_model  \\\n",
       "0                     1k   do-not-scale         logreg   \n",
       "\n",
       "  universe_exclude_features universe_exclude_subgroups     q_hat  coverage  \\\n",
       "0                       age            drop-non-german  0.674459  0.913243   \n",
       "\n",
       "   avg_size  cov_frau1  cov_nongerman  cov_nongerman_male  \\\n",
       "0  1.274217   0.914085       0.962724            0.968837   \n",
       "\n",
       "   cov_nongerman_female  \n",
       "0              0.952608  "
      ]
     },
     "execution_count": 56,
     "metadata": {},
     "output_type": "execute_result"
    }
   ],
   "source": [
    "cp_metrics_df"
   ]
  },
  {
   "cell_type": "markdown",
   "id": "3fc519cc",
   "metadata": {
    "papermill": {
     "duration": 0.012293,
     "end_time": "2025-08-19T19:09:34.591539",
     "exception": false,
     "start_time": "2025-08-19T19:09:34.579246",
     "status": "completed"
    },
    "tags": []
   },
   "source": [
    "# (Fairness) Metrics"
   ]
  },
  {
   "cell_type": "code",
   "execution_count": 57,
   "id": "a2e5e155",
   "metadata": {
    "execution": {
     "iopub.execute_input": "2025-08-19T19:09:34.618926Z",
     "iopub.status.busy": "2025-08-19T19:09:34.617503Z",
     "iopub.status.idle": "2025-08-19T19:09:34.649285Z",
     "shell.execute_reply": "2025-08-19T19:09:34.648276Z"
    },
    "papermill": {
     "duration": 0.047967,
     "end_time": "2025-08-19T19:09:34.651678",
     "exception": false,
     "start_time": "2025-08-19T19:09:34.603711",
     "status": "completed"
    },
    "tags": []
   },
   "outputs": [],
   "source": [
    "colname_to_bin = \"maxdeutsch1\"\n",
    "majority_value = org_train[colname_to_bin].mode()[0]\n",
    "\n",
    "org_test[\"majmin\"] = np.where(org_test[colname_to_bin] == majority_value, \"majority\", \"minority\")"
   ]
  },
  {
   "cell_type": "code",
   "execution_count": 58,
   "id": "17e3e4d5",
   "metadata": {
    "execution": {
     "iopub.execute_input": "2025-08-19T19:09:34.691396Z",
     "iopub.status.busy": "2025-08-19T19:09:34.690377Z",
     "iopub.status.idle": "2025-08-19T19:09:36.445865Z",
     "shell.execute_reply": "2025-08-19T19:09:36.444798Z"
    },
    "papermill": {
     "duration": 1.772363,
     "end_time": "2025-08-19T19:09:36.447746",
     "exception": false,
     "start_time": "2025-08-19T19:09:34.675383",
     "status": "completed"
    },
    "tags": []
   },
   "outputs": [],
   "source": [
    "example_universe = universe.copy()\n",
    "example_universe[\"cutoff\"] = example_universe[\"cutoff\"][0]\n",
    "example_universe[\"eval_fairness_grouping\"] = example_universe[\"eval_fairness_grouping\"][0]\n",
    "fairness_dict, metric_frame = universe_analysis.compute_metrics(\n",
    "    example_universe,\n",
    "    y_pred_prob=probs_test,\n",
    "    y_test=y_true,\n",
    "    org_test=org_test,\n",
    ")"
   ]
  },
  {
   "cell_type": "markdown",
   "id": "1fb7a0e9",
   "metadata": {
    "papermill": {
     "duration": 0.012492,
     "end_time": "2025-08-19T19:09:36.475911",
     "exception": false,
     "start_time": "2025-08-19T19:09:36.463419",
     "status": "completed"
    },
    "tags": []
   },
   "source": [
    "# Overall"
   ]
  },
  {
   "cell_type": "markdown",
   "id": "be1784b1",
   "metadata": {
    "papermill": {
     "duration": 0.012206,
     "end_time": "2025-08-19T19:09:36.500427",
     "exception": false,
     "start_time": "2025-08-19T19:09:36.488221",
     "status": "completed"
    },
    "tags": []
   },
   "source": [
    "Main fairness target: Equalized Odds. Seems to be a better fit than equal opportunity, since we're not only interested in Y = 1. Seems to be a better fit than demographic parity, since we also care about accuracy, not just equal distribution of preds.\n",
    "\n",
    "Pick column for computation of fairness metrics\n",
    "\n",
    "Performance\n",
    "Overall performance measures, most interesting in relation to the measures split by group below"
   ]
  },
  {
   "cell_type": "code",
   "execution_count": 59,
   "id": "b7672bee",
   "metadata": {
    "execution": {
     "iopub.execute_input": "2025-08-19T19:09:36.530940Z",
     "iopub.status.busy": "2025-08-19T19:09:36.527342Z",
     "iopub.status.idle": "2025-08-19T19:09:36.544207Z",
     "shell.execute_reply": "2025-08-19T19:09:36.543038Z"
    },
    "papermill": {
     "duration": 0.034061,
     "end_time": "2025-08-19T19:09:36.546781",
     "exception": false,
     "start_time": "2025-08-19T19:09:36.512720",
     "status": "completed"
    },
    "tags": []
   },
   "outputs": [
    {
     "data": {
      "text/plain": [
       "accuracy                   0.212763\n",
       "balanced accuracy          0.522668\n",
       "f1                         0.234414\n",
       "precision                  0.133913\n",
       "false positive rate        0.894184\n",
       "false negative rate        0.060480\n",
       "selection rate             0.900000\n",
       "count                  89710.000000\n",
       "dtype: float64"
      ]
     },
     "execution_count": 59,
     "metadata": {},
     "output_type": "execute_result"
    }
   ],
   "source": [
    "metric_frame.overall"
   ]
  },
  {
   "cell_type": "markdown",
   "id": "d93333c9",
   "metadata": {
    "papermill": {
     "duration": 0.012505,
     "end_time": "2025-08-19T19:09:36.578299",
     "exception": false,
     "start_time": "2025-08-19T19:09:36.565794",
     "status": "completed"
    },
    "tags": []
   },
   "source": [
    "By Group"
   ]
  },
  {
   "cell_type": "code",
   "execution_count": 60,
   "id": "52256966",
   "metadata": {
    "execution": {
     "iopub.execute_input": "2025-08-19T19:09:36.607221Z",
     "iopub.status.busy": "2025-08-19T19:09:36.605507Z",
     "iopub.status.idle": "2025-08-19T19:09:36.632618Z",
     "shell.execute_reply": "2025-08-19T19:09:36.631118Z"
    },
    "papermill": {
     "duration": 0.044344,
     "end_time": "2025-08-19T19:09:36.635154",
     "exception": false,
     "start_time": "2025-08-19T19:09:36.590810",
     "status": "completed"
    },
    "tags": []
   },
   "outputs": [
    {
     "data": {
      "text/html": [
       "<div>\n",
       "<style scoped>\n",
       "    .dataframe tbody tr th:only-of-type {\n",
       "        vertical-align: middle;\n",
       "    }\n",
       "\n",
       "    .dataframe tbody tr th {\n",
       "        vertical-align: top;\n",
       "    }\n",
       "\n",
       "    .dataframe thead th {\n",
       "        text-align: right;\n",
       "    }\n",
       "</style>\n",
       "<table border=\"1\" class=\"dataframe\">\n",
       "  <thead>\n",
       "    <tr style=\"text-align: right;\">\n",
       "      <th></th>\n",
       "      <th>accuracy</th>\n",
       "      <th>balanced accuracy</th>\n",
       "      <th>f1</th>\n",
       "      <th>precision</th>\n",
       "      <th>false positive rate</th>\n",
       "      <th>false negative rate</th>\n",
       "      <th>selection rate</th>\n",
       "      <th>count</th>\n",
       "    </tr>\n",
       "    <tr>\n",
       "      <th>majmin</th>\n",
       "      <th></th>\n",
       "      <th></th>\n",
       "      <th></th>\n",
       "      <th></th>\n",
       "      <th></th>\n",
       "      <th></th>\n",
       "      <th></th>\n",
       "      <th></th>\n",
       "    </tr>\n",
       "  </thead>\n",
       "  <tbody>\n",
       "    <tr>\n",
       "      <th>majority</th>\n",
       "      <td>0.233396</td>\n",
       "      <td>0.527869</td>\n",
       "      <td>0.242399</td>\n",
       "      <td>0.139404</td>\n",
       "      <td>0.872380</td>\n",
       "      <td>0.071882</td>\n",
       "      <td>0.879746</td>\n",
       "      <td>69170.0</td>\n",
       "    </tr>\n",
       "    <tr>\n",
       "      <th>minority</th>\n",
       "      <td>0.143281</td>\n",
       "      <td>0.508659</td>\n",
       "      <td>0.209301</td>\n",
       "      <td>0.117112</td>\n",
       "      <td>0.966212</td>\n",
       "      <td>0.016470</td>\n",
       "      <td>0.968208</td>\n",
       "      <td>20540.0</td>\n",
       "    </tr>\n",
       "  </tbody>\n",
       "</table>\n",
       "</div>"
      ],
      "text/plain": [
       "          accuracy  balanced accuracy        f1  precision  \\\n",
       "majmin                                                       \n",
       "majority  0.233396           0.527869  0.242399   0.139404   \n",
       "minority  0.143281           0.508659  0.209301   0.117112   \n",
       "\n",
       "          false positive rate  false negative rate  selection rate    count  \n",
       "majmin                                                                       \n",
       "majority             0.872380             0.071882        0.879746  69170.0  \n",
       "minority             0.966212             0.016470        0.968208  20540.0  "
      ]
     },
     "execution_count": 60,
     "metadata": {},
     "output_type": "execute_result"
    }
   ],
   "source": [
    "metric_frame.by_group"
   ]
  },
  {
   "cell_type": "code",
   "execution_count": 61,
   "id": "6e6c20ae",
   "metadata": {
    "execution": {
     "iopub.execute_input": "2025-08-19T19:09:36.668936Z",
     "iopub.status.busy": "2025-08-19T19:09:36.667752Z",
     "iopub.status.idle": "2025-08-19T19:09:38.707146Z",
     "shell.execute_reply": "2025-08-19T19:09:38.705754Z"
    },
    "papermill": {
     "duration": 2.056047,
     "end_time": "2025-08-19T19:09:38.709138",
     "exception": false,
     "start_time": "2025-08-19T19:09:36.653091",
     "status": "completed"
    },
    "tags": []
   },
   "outputs": [
    {
     "data": {
      "text/plain": [
       "array([[<Axes: title={'center': 'accuracy'}, xlabel='majmin'>,\n",
       "        <Axes: title={'center': 'balanced accuracy'}, xlabel='majmin'>,\n",
       "        <Axes: title={'center': 'f1'}, xlabel='majmin'>],\n",
       "       [<Axes: title={'center': 'precision'}, xlabel='majmin'>,\n",
       "        <Axes: title={'center': 'false positive rate'}, xlabel='majmin'>,\n",
       "        <Axes: title={'center': 'false negative rate'}, xlabel='majmin'>],\n",
       "       [<Axes: title={'center': 'selection rate'}, xlabel='majmin'>,\n",
       "        <Axes: title={'center': 'count'}, xlabel='majmin'>,\n",
       "        <Axes: xlabel='majmin'>]], dtype=object)"
      ]
     },
     "execution_count": 61,
     "metadata": {},
     "output_type": "execute_result"
    },
    {
     "data": {
      "image/png": "[encoded data removed]",
      "text/plain": [
       "<Figure size 1200x800 with 9 Axes>"
      ]
     },
     "metadata": {},
     "output_type": "display_data"
    }
   ],
   "source": [
    "# In a graphic\n",
    "metric_frame.by_group.plot.bar(\n",
    "    subplots=True,\n",
    "    layout=[3, 3],\n",
    "    legend=False,\n",
    "    figsize=[12, 8],\n",
    "    title=\"Show all metrics\",\n",
    ")"
   ]
  },
  {
   "cell_type": "markdown",
   "id": "b2e433ae",
   "metadata": {
    "papermill": {
     "duration": 0.013917,
     "end_time": "2025-08-19T19:09:38.743387",
     "exception": false,
     "start_time": "2025-08-19T19:09:38.729470",
     "status": "completed"
    },
    "tags": []
   },
   "source": [
    "# Final Output"
   ]
  },
  {
   "cell_type": "code",
   "execution_count": 62,
   "id": "3871301e",
   "metadata": {
    "execution": {
     "iopub.execute_input": "2025-08-19T19:09:38.773825Z",
     "iopub.status.busy": "2025-08-19T19:09:38.772693Z",
     "iopub.status.idle": "2025-08-19T19:09:38.783284Z",
     "shell.execute_reply": "2025-08-19T19:09:38.782573Z"
    },
    "papermill": {
     "duration": 0.02805,
     "end_time": "2025-08-19T19:09:38.785401",
     "exception": false,
     "start_time": "2025-08-19T19:09:38.757351",
     "status": "completed"
    },
    "tags": []
   },
   "outputs": [
    {
     "data": {
      "text/plain": [
       "4"
      ]
     },
     "execution_count": 62,
     "metadata": {},
     "output_type": "execute_result"
    }
   ],
   "source": [
    "sub_universes = universe_analysis.generate_sub_universes()\n",
    "len(sub_universes)"
   ]
  },
  {
   "cell_type": "code",
   "execution_count": 63,
   "id": "d9cfdaca",
   "metadata": {
    "execution": {
     "iopub.execute_input": "2025-08-19T19:09:38.830090Z",
     "iopub.status.busy": "2025-08-19T19:09:38.828959Z",
     "iopub.status.idle": "2025-08-19T19:09:38.837789Z",
     "shell.execute_reply": "2025-08-19T19:09:38.836700Z"
    },
    "papermill": {
     "duration": 0.028828,
     "end_time": "2025-08-19T19:09:38.839224",
     "exception": false,
     "start_time": "2025-08-19T19:09:38.810396",
     "status": "completed"
    },
    "tags": []
   },
   "outputs": [],
   "source": [
    "def filter_sub_universe_data(sub_universe, org_test):\n",
    "    # Keep all rows — no filtering\n",
    "    keep_rows_mask = np.ones(org_test.shape[0], dtype=bool)\n",
    "\n",
    "    print(f\"[INFO] Keeping all rows: {keep_rows_mask.sum()} rows retained.\")\n",
    "    return keep_rows_mask"
   ]
  },
  {
   "cell_type": "code",
   "execution_count": 64,
   "id": "2bc31ac1",
   "metadata": {
    "execution": {
     "iopub.execute_input": "2025-08-19T19:09:38.874068Z",
     "iopub.status.busy": "2025-08-19T19:09:38.872952Z",
     "iopub.status.idle": "2025-08-19T19:09:45.571392Z",
     "shell.execute_reply": "2025-08-19T19:09:45.570389Z"
    },
    "papermill": {
     "duration": 6.71573,
     "end_time": "2025-08-19T19:09:45.572744",
     "exception": false,
     "start_time": "2025-08-19T19:09:38.857014",
     "status": "completed"
    },
    "tags": []
   },
   "outputs": [
    {
     "name": "stdout",
     "output_type": "stream",
     "text": [
      "Stopping execution_time clock.\n",
      "[INFO] Keeping all rows: 89710 rows retained.\n"
     ]
    },
    {
     "name": "stdout",
     "output_type": "stream",
     "text": [
      "[INFO] Keeping all rows: 89710 rows retained.\n"
     ]
    },
    {
     "name": "stdout",
     "output_type": "stream",
     "text": [
      "[INFO] Keeping all rows: 89710 rows retained.\n"
     ]
    },
    {
     "name": "stdout",
     "output_type": "stream",
     "text": [
      "[INFO] Keeping all rows: 89710 rows retained.\n"
     ]
    },
    {
     "data": {
      "text/html": [
       "<div>\n",
       "<style scoped>\n",
       "    .dataframe tbody tr th:only-of-type {\n",
       "        vertical-align: middle;\n",
       "    }\n",
       "\n",
       "    .dataframe tbody tr th {\n",
       "        vertical-align: top;\n",
       "    }\n",
       "\n",
       "    .dataframe thead th {\n",
       "        text-align: right;\n",
       "    }\n",
       "</style>\n",
       "<table border=\"1\" class=\"dataframe\">\n",
       "  <thead>\n",
       "    <tr style=\"text-align: right;\">\n",
       "      <th></th>\n",
       "      <th>run_no</th>\n",
       "      <th>universe_id</th>\n",
       "      <th>universe_settings</th>\n",
       "      <th>execution_time</th>\n",
       "      <th>test_size_n</th>\n",
       "      <th>test_size_frac</th>\n",
       "      <th>fair_main_equalized_odds_difference</th>\n",
       "      <th>fair_main_equalized_odds_ratio</th>\n",
       "      <th>fair_main_demographic_parity_difference</th>\n",
       "      <th>fair_main_demographic_parity_ratio</th>\n",
       "      <th>...</th>\n",
       "      <th>perf_grp_precision_0</th>\n",
       "      <th>perf_grp_precision_1</th>\n",
       "      <th>perf_grp_false positive rate_0</th>\n",
       "      <th>perf_grp_false positive rate_1</th>\n",
       "      <th>perf_grp_false negative rate_0</th>\n",
       "      <th>perf_grp_false negative rate_1</th>\n",
       "      <th>perf_grp_selection rate_0</th>\n",
       "      <th>perf_grp_selection rate_1</th>\n",
       "      <th>perf_grp_count_0</th>\n",
       "      <th>perf_grp_count_1</th>\n",
       "    </tr>\n",
       "  </thead>\n",
       "  <tbody>\n",
       "    <tr>\n",
       "      <th>0</th>\n",
       "      <td>3</td>\n",
       "      <td>10241e2664d0ee856f663186d67596d5</td>\n",
       "      <td>{\"cutoff\": \"quantile_0.1\", \"eval_fairness_grou...</td>\n",
       "      <td>22.577599</td>\n",
       "      <td>89710</td>\n",
       "      <td>1.0</td>\n",
       "      <td>0.093831</td>\n",
       "      <td>0.902887</td>\n",
       "      <td>0.088463</td>\n",
       "      <td>0.908632</td>\n",
       "      <td>...</td>\n",
       "      <td>NaN</td>\n",
       "      <td>NaN</td>\n",
       "      <td>NaN</td>\n",
       "      <td>NaN</td>\n",
       "      <td>NaN</td>\n",
       "      <td>NaN</td>\n",
       "      <td>NaN</td>\n",
       "      <td>NaN</td>\n",
       "      <td>NaN</td>\n",
       "      <td>NaN</td>\n",
       "    </tr>\n",
       "    <tr>\n",
       "      <th>0</th>\n",
       "      <td>3</td>\n",
       "      <td>10241e2664d0ee856f663186d67596d5</td>\n",
       "      <td>{\"cutoff\": \"quantile_0.1\", \"eval_fairness_grou...</td>\n",
       "      <td>22.577599</td>\n",
       "      <td>89710</td>\n",
       "      <td>1.0</td>\n",
       "      <td>0.093831</td>\n",
       "      <td>0.902887</td>\n",
       "      <td>0.088463</td>\n",
       "      <td>0.908632</td>\n",
       "      <td>...</td>\n",
       "      <td>0.117112</td>\n",
       "      <td>0.139404</td>\n",
       "      <td>0.966212</td>\n",
       "      <td>0.872380</td>\n",
       "      <td>0.016470</td>\n",
       "      <td>0.071882</td>\n",
       "      <td>0.968208</td>\n",
       "      <td>0.879746</td>\n",
       "      <td>20540.0</td>\n",
       "      <td>69170.0</td>\n",
       "    </tr>\n",
       "    <tr>\n",
       "      <th>0</th>\n",
       "      <td>3</td>\n",
       "      <td>10241e2664d0ee856f663186d67596d5</td>\n",
       "      <td>{\"cutoff\": \"quantile_0.25\", \"eval_fairness_gro...</td>\n",
       "      <td>22.577599</td>\n",
       "      <td>89710</td>\n",
       "      <td>1.0</td>\n",
       "      <td>0.223753</td>\n",
       "      <td>0.752944</td>\n",
       "      <td>0.209009</td>\n",
       "      <td>0.770609</td>\n",
       "      <td>...</td>\n",
       "      <td>NaN</td>\n",
       "      <td>NaN</td>\n",
       "      <td>NaN</td>\n",
       "      <td>NaN</td>\n",
       "      <td>NaN</td>\n",
       "      <td>NaN</td>\n",
       "      <td>NaN</td>\n",
       "      <td>NaN</td>\n",
       "      <td>NaN</td>\n",
       "      <td>NaN</td>\n",
       "    </tr>\n",
       "    <tr>\n",
       "      <th>0</th>\n",
       "      <td>3</td>\n",
       "      <td>10241e2664d0ee856f663186d67596d5</td>\n",
       "      <td>{\"cutoff\": \"quantile_0.25\", \"eval_fairness_gro...</td>\n",
       "      <td>22.577599</td>\n",
       "      <td>89710</td>\n",
       "      <td>1.0</td>\n",
       "      <td>0.223753</td>\n",
       "      <td>0.752944</td>\n",
       "      <td>0.209009</td>\n",
       "      <td>0.770609</td>\n",
       "      <td>...</td>\n",
       "      <td>0.120598</td>\n",
       "      <td>0.157123</td>\n",
       "      <td>0.905679</td>\n",
       "      <td>0.681926</td>\n",
       "      <td>0.046875</td>\n",
       "      <td>0.165098</td>\n",
       "      <td>0.911149</td>\n",
       "      <td>0.702140</td>\n",
       "      <td>20540.0</td>\n",
       "      <td>69170.0</td>\n",
       "    </tr>\n",
       "  </tbody>\n",
       "</table>\n",
       "<p>4 rows × 50 columns</p>\n",
       "</div>"
      ],
      "text/plain": [
       "  run_no                       universe_id  \\\n",
       "0      3  10241e2664d0ee856f663186d67596d5   \n",
       "0      3  10241e2664d0ee856f663186d67596d5   \n",
       "0      3  10241e2664d0ee856f663186d67596d5   \n",
       "0      3  10241e2664d0ee856f663186d67596d5   \n",
       "\n",
       "                                   universe_settings  execution_time  \\\n",
       "0  {\"cutoff\": \"quantile_0.1\", \"eval_fairness_grou...       22.577599   \n",
       "0  {\"cutoff\": \"quantile_0.1\", \"eval_fairness_grou...       22.577599   \n",
       "0  {\"cutoff\": \"quantile_0.25\", \"eval_fairness_gro...       22.577599   \n",
       "0  {\"cutoff\": \"quantile_0.25\", \"eval_fairness_gro...       22.577599   \n",
       "\n",
       "   test_size_n  test_size_frac  fair_main_equalized_odds_difference  \\\n",
       "0        89710             1.0                             0.093831   \n",
       "0        89710             1.0                             0.093831   \n",
       "0        89710             1.0                             0.223753   \n",
       "0        89710             1.0                             0.223753   \n",
       "\n",
       "   fair_main_equalized_odds_ratio  fair_main_demographic_parity_difference  \\\n",
       "0                        0.902887                                 0.088463   \n",
       "0                        0.902887                                 0.088463   \n",
       "0                        0.752944                                 0.209009   \n",
       "0                        0.752944                                 0.209009   \n",
       "\n",
       "   fair_main_demographic_parity_ratio  ...  perf_grp_precision_0  \\\n",
       "0                            0.908632  ...                   NaN   \n",
       "0                            0.908632  ...              0.117112   \n",
       "0                            0.770609  ...                   NaN   \n",
       "0                            0.770609  ...              0.120598   \n",
       "\n",
       "   perf_grp_precision_1  perf_grp_false positive rate_0  \\\n",
       "0                   NaN                             NaN   \n",
       "0              0.139404                        0.966212   \n",
       "0                   NaN                             NaN   \n",
       "0              0.157123                        0.905679   \n",
       "\n",
       "   perf_grp_false positive rate_1  perf_grp_false negative rate_0  \\\n",
       "0                             NaN                             NaN   \n",
       "0                        0.872380                        0.016470   \n",
       "0                             NaN                             NaN   \n",
       "0                        0.681926                        0.046875   \n",
       "\n",
       "   perf_grp_false negative rate_1  perf_grp_selection rate_0  \\\n",
       "0                             NaN                        NaN   \n",
       "0                        0.071882                   0.968208   \n",
       "0                             NaN                        NaN   \n",
       "0                        0.165098                   0.911149   \n",
       "\n",
       "   perf_grp_selection rate_1  perf_grp_count_0  perf_grp_count_1  \n",
       "0                        NaN               NaN               NaN  \n",
       "0                   0.879746           20540.0           69170.0  \n",
       "0                        NaN               NaN               NaN  \n",
       "0                   0.702140           20540.0           69170.0  \n",
       "\n",
       "[4 rows x 50 columns]"
      ]
     },
     "execution_count": 64,
     "metadata": {},
     "output_type": "execute_result"
    }
   ],
   "source": [
    "final_output = universe_analysis.generate_final_output(\n",
    "    y_pred_prob=probs_test,\n",
    "    y_test=y_true,\n",
    "    org_test=org_test,\n",
    "    filter_data=filter_sub_universe_data,\n",
    "    cp_metrics_df=cp_metrics_df,\n",
    "    save=True,\n",
    ")\n",
    "final_output"
   ]
  },
  {
   "cell_type": "code",
   "execution_count": null,
   "id": "8b80a1ff",
   "metadata": {
    "papermill": {
     "duration": 0.032284,
     "end_time": "2025-08-19T19:09:45.641860",
     "exception": false,
     "start_time": "2025-08-19T19:09:45.609576",
     "status": "completed"
    },
    "tags": []
   },
   "outputs": [],
   "source": []
  },
  {
   "cell_type": "code",
   "execution_count": null,
   "id": "275c9fad",
   "metadata": {
    "papermill": {
     "duration": 0.01564,
     "end_time": "2025-08-19T19:09:45.674156",
     "exception": false,
     "start_time": "2025-08-19T19:09:45.658516",
     "status": "completed"
    },
    "tags": []
   },
   "outputs": [],
   "source": []
  }
 ],
 "metadata": {
  "celltoolbar": "Tags",
  "kernelspec": {
   "display_name": "Python (CMA Fairness)",
   "language": "python",
   "name": "cma_fair_env"
  },
  "language_info": {
   "codemirror_mode": {
    "name": "ipython",
    "version": 3
   },
   "file_extension": ".py",
   "mimetype": "text/x-python",
   "name": "python",
   "nbconvert_exporter": "python",
   "pygments_lexer": "ipython3",
   "version": "3.10.12"
  },
  "papermill": {
   "default_parameters": {},
   "duration": 33.074061,
   "end_time": "2025-08-19T19:09:46.515353",
   "environment_variables": {},
   "exception": null,
   "input_path": "universe_analysis.ipynb",
   "output_path": "output/runs/3/notebooks/m_3-10241e2664d0ee856f663186d67596d5.ipynb",
   "parameters": {
    "output_dir": "output",
    "run_no": "3",
    "seed": "2023",
    "universe": "{\"cutoff\": [\"quantile_0.1\", \"quantile_0.25\"], \"eval_fairness_grouping\": [\"majority-minority\", \"nationality-all\"], \"exclude_features\": \"age\", \"exclude_subgroups\": \"drop-non-german\", \"model\": \"logreg\", \"scale\": \"do-not-scale\", \"training_size\": \"1k\", \"training_year\": \"2010_14\"}",
    "universe_id": "10241e2664d0ee856f663186d67596d5"
   },
   "start_time": "2025-08-19T19:09:13.441292",
   "version": "2.6.0"
  }
 },
 "nbformat": 4,
 "nbformat_minor": 5
}