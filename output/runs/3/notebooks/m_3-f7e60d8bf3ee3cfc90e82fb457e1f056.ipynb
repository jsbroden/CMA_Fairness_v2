{
 "cells": [
  {
   "cell_type": "markdown",
   "id": "ef23dbb3",
   "metadata": {
    "papermill": {
     "duration": 0.024133,
     "end_time": "2025-08-19T18:08:19.802651",
     "exception": false,
     "start_time": "2025-08-19T18:08:19.778518",
     "status": "completed"
    },
    "tags": []
   },
   "source": [
    "# Setup"
   ]
  },
  {
   "cell_type": "code",
   "execution_count": 1,
   "id": "0bc8e7dc",
   "metadata": {
    "execution": {
     "iopub.execute_input": "2025-08-19T18:08:19.826948Z",
     "iopub.status.busy": "2025-08-19T18:08:19.825813Z",
     "iopub.status.idle": "2025-08-19T18:08:19.846338Z",
     "shell.execute_reply": "2025-08-19T18:08:19.845448Z"
    },
    "papermill": {
     "duration": 0.032635,
     "end_time": "2025-08-19T18:08:19.847915",
     "exception": false,
     "start_time": "2025-08-19T18:08:19.815280",
     "status": "completed"
    },
    "tags": []
   },
   "outputs": [
    {
     "name": "stdout",
     "output_type": "stream",
     "text": [
      "/dss/dsshome1/0C/ra93lal2/cma/CMA_Fairness_v2\n"
     ]
    },
    {
     "name": "stderr",
     "output_type": "stream",
     "text": [
      "/dss/dsshome1/0C/ra93lal2/.local/share/virtualenvs/CMA_Fairness_v2-3j10GkSs/lib/python3.10/site-packages/IPython/core/magics/osm.py:393: UserWarning: This is now an optional IPython functionality, using bookmarks requires you to install the `pickleshare` library.\n",
      "  bkms = self.shell.db.get('bookmarks', {})\n",
      "/dss/dsshome1/0C/ra93lal2/.local/share/virtualenvs/CMA_Fairness_v2-3j10GkSs/lib/python3.10/site-packages/IPython/core/magics/osm.py:417: UserWarning: This is now an optional IPython functionality, setting dhist requires you to install the `pickleshare` library.\n",
      "  self.shell.db['dhist'] = compress_dhist(dhist)[-100:]\n"
     ]
    }
   ],
   "source": [
    "%cd ~/cma/CMA_Fairness_v2"
   ]
  },
  {
   "cell_type": "markdown",
   "id": "9d235661",
   "metadata": {
    "papermill": {
     "duration": 0.009764,
     "end_time": "2025-08-19T18:08:19.871641",
     "exception": false,
     "start_time": "2025-08-19T18:08:19.861877",
     "status": "completed"
    },
    "tags": []
   },
   "source": [
    "The following cell holds the definition of our parameters, these values can be overriden by rendering the with e.g. the following command:\n",
    "\n",
    "papermill -p alpha 0.2 -p ratio 0.3 universe_analysis.ipynb output/test_run.ipynb"
   ]
  },
  {
   "cell_type": "code",
   "execution_count": 2,
   "id": "4a789d8e",
   "metadata": {
    "execution": {
     "iopub.execute_input": "2025-08-19T18:08:19.892021Z",
     "iopub.status.busy": "2025-08-19T18:08:19.890919Z",
     "iopub.status.idle": "2025-08-19T18:08:19.900777Z",
     "shell.execute_reply": "2025-08-19T18:08:19.898951Z"
    },
    "papermill": {
     "duration": 0.022242,
     "end_time": "2025-08-19T18:08:19.902353",
     "exception": false,
     "start_time": "2025-08-19T18:08:19.880111",
     "status": "completed"
    },
    "tags": []
   },
   "outputs": [
    {
     "name": "stdout",
     "output_type": "stream",
     "text": [
      "Current working directory: /dss/dsshome1/0C/ra93lal2/cma/CMA_Fairness_v2\n"
     ]
    }
   ],
   "source": [
    "import os\n",
    "print(\"Current working directory:\", os.getcwd())"
   ]
  },
  {
   "cell_type": "code",
   "execution_count": 3,
   "id": "4132aaed",
   "metadata": {
    "execution": {
     "iopub.execute_input": "2025-08-19T18:08:19.928725Z",
     "iopub.status.busy": "2025-08-19T18:08:19.927582Z",
     "iopub.status.idle": "2025-08-19T18:08:19.938269Z",
     "shell.execute_reply": "2025-08-19T18:08:19.936737Z"
    },
    "papermill": {
     "duration": 0.024609,
     "end_time": "2025-08-19T18:08:19.939741",
     "exception": false,
     "start_time": "2025-08-19T18:08:19.915132",
     "status": "completed"
    },
    "tags": [
     "parameters"
    ]
   },
   "outputs": [],
   "source": [
    "run_no = 0\n",
    "universe_id = \"test\"\n",
    "universe = {\n",
    "    \"training_size\": \"5k\", # \"25k\", \"5k\", \"1k\"\n",
    "    \"training_year\": \"2012_14\", # \"2014\", \"2012_14\", \"2010_14\"\n",
    "    \"scale\": \"scale\", # \"scale\", \"do-not-scale\",\n",
    "    \"model\": \"elasticnet\", # \"logreg\", \"penalized_logreg\", \"rf\", \"gbm\", \"elasticnet\"\n",
    "    \"cutoff\": [\"quantile_0.15\", \"quantile_0.30\"],\n",
    "    \"exclude_features\": \"age\", # \"none\", \"nationality\", \"sex\", \"nationality-sex\", \"age\"\n",
    "    \"exclude_subgroups\": \"drop-non-german\", # \"keep-all\", \"drop-non-german\"\n",
    "    \"eval_fairness_grouping\": [\"majority-minority\", \"nationality-all\"]\n",
    "}\n",
    "\n",
    "output_dir=\"./output\"\n",
    "seed=0"
   ]
  },
  {
   "cell_type": "code",
   "execution_count": 4,
   "id": "50bfbdd5",
   "metadata": {
    "execution": {
     "iopub.execute_input": "2025-08-19T18:08:19.965241Z",
     "iopub.status.busy": "2025-08-19T18:08:19.964176Z",
     "iopub.status.idle": "2025-08-19T18:08:19.973067Z",
     "shell.execute_reply": "2025-08-19T18:08:19.971167Z"
    },
    "papermill": {
     "duration": 0.023494,
     "end_time": "2025-08-19T18:08:19.974839",
     "exception": false,
     "start_time": "2025-08-19T18:08:19.951345",
     "status": "completed"
    },
    "tags": [
     "injected-parameters"
    ]
   },
   "outputs": [],
   "source": [
    "# Parameters\n",
    "universe_id = \"f7e60d8bf3ee3cfc90e82fb457e1f056\"\n",
    "run_no = \"3\"\n",
    "universe = \"{\\\"cutoff\\\": [\\\"quantile_0.1\\\", \\\"quantile_0.25\\\"], \\\"eval_fairness_grouping\\\": [\\\"majority-minority\\\", \\\"nationality-all\\\"], \\\"exclude_features\\\": \\\"age\\\", \\\"exclude_subgroups\\\": \\\"keep-all\\\", \\\"model\\\": \\\"logreg\\\", \\\"scale\\\": \\\"do-not-scale\\\", \\\"training_size\\\": \\\"25k\\\", \\\"training_year\\\": \\\"2012_14\\\"}\"\n",
    "output_dir = \"output\"\n",
    "seed = \"2023\"\n"
   ]
  },
  {
   "cell_type": "code",
   "execution_count": 5,
   "id": "a5d7941f",
   "metadata": {
    "execution": {
     "iopub.execute_input": "2025-08-19T18:08:19.997789Z",
     "iopub.status.busy": "2025-08-19T18:08:19.996753Z",
     "iopub.status.idle": "2025-08-19T18:08:20.005591Z",
     "shell.execute_reply": "2025-08-19T18:08:20.003556Z"
    },
    "papermill": {
     "duration": 0.022493,
     "end_time": "2025-08-19T18:08:20.008337",
     "exception": false,
     "start_time": "2025-08-19T18:08:19.985844",
     "status": "completed"
    },
    "tags": []
   },
   "outputs": [],
   "source": [
    "import json\n",
    "if isinstance(universe, str):\n",
    "    universe = json.loads(universe)"
   ]
  },
  {
   "cell_type": "code",
   "execution_count": 6,
   "id": "7076ccb1",
   "metadata": {
    "execution": {
     "iopub.execute_input": "2025-08-19T18:08:20.043746Z",
     "iopub.status.busy": "2025-08-19T18:08:20.042598Z",
     "iopub.status.idle": "2025-08-19T18:08:20.092990Z",
     "shell.execute_reply": "2025-08-19T18:08:20.092329Z"
    },
    "papermill": {
     "duration": 0.066267,
     "end_time": "2025-08-19T18:08:20.095563",
     "exception": false,
     "start_time": "2025-08-19T18:08:20.029296",
     "status": "completed"
    },
    "tags": []
   },
   "outputs": [],
   "source": [
    "# Auto-reload the custom package\n",
    "%load_ext autoreload\n",
    "%autoreload 1\n",
    "%aimport fairness_multiverse"
   ]
  },
  {
   "cell_type": "code",
   "execution_count": 7,
   "id": "94c8eb93",
   "metadata": {
    "execution": {
     "iopub.execute_input": "2025-08-19T18:08:20.132876Z",
     "iopub.status.busy": "2025-08-19T18:08:20.131935Z",
     "iopub.status.idle": "2025-08-19T18:08:21.556134Z",
     "shell.execute_reply": "2025-08-19T18:08:21.555427Z"
    },
    "papermill": {
     "duration": 1.440937,
     "end_time": "2025-08-19T18:08:21.558997",
     "exception": false,
     "start_time": "2025-08-19T18:08:20.118060",
     "status": "completed"
    },
    "tags": []
   },
   "outputs": [],
   "source": [
    "from fairness_multiverse.universe import UniverseAnalysis\n",
    "\n",
    "universe_analysis = UniverseAnalysis(\n",
    "    run_no = run_no,\n",
    "    universe_id = universe_id,\n",
    "    universe = universe,\n",
    "    output_dir=output_dir,\n",
    ")"
   ]
  },
  {
   "cell_type": "code",
   "execution_count": 8,
   "id": "2a6381cf",
   "metadata": {
    "execution": {
     "iopub.execute_input": "2025-08-19T18:08:21.596769Z",
     "iopub.status.busy": "2025-08-19T18:08:21.595738Z",
     "iopub.status.idle": "2025-08-19T18:08:21.606308Z",
     "shell.execute_reply": "2025-08-19T18:08:21.604958Z"
    },
    "papermill": {
     "duration": 0.025939,
     "end_time": "2025-08-19T18:08:21.607930",
     "exception": false,
     "start_time": "2025-08-19T18:08:21.581991",
     "status": "completed"
    },
    "tags": []
   },
   "outputs": [
    {
     "name": "stdout",
     "output_type": "stream",
     "text": [
      "Using Seed: 2023\n"
     ]
    }
   ],
   "source": [
    "import numpy as np\n",
    "parsed_seed = int(seed)\n",
    "np.random.seed(parsed_seed)\n",
    "print(f\"Using Seed: {parsed_seed}\")"
   ]
  },
  {
   "cell_type": "markdown",
   "id": "b6e958b4",
   "metadata": {
    "papermill": {
     "duration": 0.009638,
     "end_time": "2025-08-19T18:08:21.629504",
     "exception": false,
     "start_time": "2025-08-19T18:08:21.619866",
     "status": "completed"
    },
    "tags": []
   },
   "source": [
    "# Loading Data"
   ]
  },
  {
   "cell_type": "code",
   "execution_count": 9,
   "id": "98701482",
   "metadata": {
    "execution": {
     "iopub.execute_input": "2025-08-19T18:08:21.650041Z",
     "iopub.status.busy": "2025-08-19T18:08:21.648937Z",
     "iopub.status.idle": "2025-08-19T18:08:32.034286Z",
     "shell.execute_reply": "2025-08-19T18:08:32.033176Z"
    },
    "papermill": {
     "duration": 10.398405,
     "end_time": "2025-08-19T18:08:32.036661",
     "exception": false,
     "start_time": "2025-08-19T18:08:21.638256",
     "status": "completed"
    },
    "tags": []
   },
   "outputs": [
    {
     "name": "stdout",
     "output_type": "stream",
     "text": [
      "Loading SIAB data from cache: data/siab_cached.csv.gz\n"
     ]
    },
    {
     "name": "stdout",
     "output_type": "stream",
     "text": [
      "(643690, 164)\n"
     ]
    }
   ],
   "source": [
    "from pathlib import Path\n",
    "import pandas as pd\n",
    "\n",
    "# File paths\n",
    "raw_file = Path(\"data/raw/siab.csv\")\n",
    "cache_file = Path(\"data/siab_cached.csv.gz\")\n",
    "\n",
    "# Ensure cache directory exists\n",
    "cache_file.parent.mkdir(parents=True, exist_ok=True)\n",
    "\n",
    "# Load with simple caching\n",
    "if cache_file.exists():\n",
    "    print(f\"Loading SIAB data from cache: {cache_file}\")\n",
    "    siab = pd.read_csv(cache_file, compression='gzip')\n",
    "else:\n",
    "    print(f\"Cache not found. Reading raw SIAB data: {raw_file}\")\n",
    "    siab = pd.read_csv(raw_file)\n",
    "    siab.to_csv(cache_file, index=False, compression='gzip')\n",
    "    print(f\"Cached SIAB data to: {cache_file}\")\n",
    "\n",
    "print(siab.shape)"
   ]
  },
  {
   "cell_type": "code",
   "execution_count": 10,
   "id": "058d2abb",
   "metadata": {
    "execution": {
     "iopub.execute_input": "2025-08-19T18:08:32.077355Z",
     "iopub.status.busy": "2025-08-19T18:08:32.076625Z",
     "iopub.status.idle": "2025-08-19T18:08:32.294395Z",
     "shell.execute_reply": "2025-08-19T18:08:32.293684Z"
    },
    "papermill": {
     "duration": 0.239279,
     "end_time": "2025-08-19T18:08:32.297056",
     "exception": false,
     "start_time": "2025-08-19T18:08:32.057777",
     "status": "completed"
    },
    "tags": []
   },
   "outputs": [
    {
     "data": {
      "text/html": [
       "<div>\n",
       "<style scoped>\n",
       "    .dataframe tbody tr th:only-of-type {\n",
       "        vertical-align: middle;\n",
       "    }\n",
       "\n",
       "    .dataframe tbody tr th {\n",
       "        vertical-align: top;\n",
       "    }\n",
       "\n",
       "    .dataframe thead th {\n",
       "        text-align: right;\n",
       "    }\n",
       "</style>\n",
       "<table border=\"1\" class=\"dataframe\">\n",
       "  <thead>\n",
       "    <tr style=\"text-align: right;\">\n",
       "      <th></th>\n",
       "      <th>persnr</th>\n",
       "      <th>year</th>\n",
       "      <th>nrEntry</th>\n",
       "      <th>ltue</th>\n",
       "      <th>employed_before</th>\n",
       "      <th>receipt_leh_before</th>\n",
       "      <th>receipt_lhg_before</th>\n",
       "      <th>se_before</th>\n",
       "      <th>ASU_notue_seeking_before</th>\n",
       "      <th>ASU_other_before</th>\n",
       "      <th>...</th>\n",
       "      <th>minijob_tot_dur_byage</th>\n",
       "      <th>ft_tot_dur_byage</th>\n",
       "      <th>befrist_tot_dur_byage</th>\n",
       "      <th>leih_tot_dur_byage</th>\n",
       "      <th>LHG_tot_dur_byage</th>\n",
       "      <th>LEH_tot_dur_byage</th>\n",
       "      <th>almp_tot_dur_byage</th>\n",
       "      <th>almp_aw_tot_dur_byage</th>\n",
       "      <th>se_tot_dur_byage</th>\n",
       "      <th>seeking1_tot_dur_byage</th>\n",
       "    </tr>\n",
       "  </thead>\n",
       "  <tbody>\n",
       "    <tr>\n",
       "      <th>0</th>\n",
       "      <td>7</td>\n",
       "      <td>2015</td>\n",
       "      <td>1</td>\n",
       "      <td>0</td>\n",
       "      <td>1</td>\n",
       "      <td>0</td>\n",
       "      <td>0</td>\n",
       "      <td>0</td>\n",
       "      <td>1</td>\n",
       "      <td>0</td>\n",
       "      <td>...</td>\n",
       "      <td>0.000000</td>\n",
       "      <td>0.000000</td>\n",
       "      <td>15.043478</td>\n",
       "      <td>0.000000</td>\n",
       "      <td>0.000000</td>\n",
       "      <td>0.000000</td>\n",
       "      <td>0.000000</td>\n",
       "      <td>0.000000</td>\n",
       "      <td>0.000000</td>\n",
       "      <td>0.000000</td>\n",
       "    </tr>\n",
       "    <tr>\n",
       "      <th>1</th>\n",
       "      <td>18</td>\n",
       "      <td>2010</td>\n",
       "      <td>1</td>\n",
       "      <td>1</td>\n",
       "      <td>0</td>\n",
       "      <td>0</td>\n",
       "      <td>0</td>\n",
       "      <td>0</td>\n",
       "      <td>0</td>\n",
       "      <td>0</td>\n",
       "      <td>...</td>\n",
       "      <td>0.000000</td>\n",
       "      <td>0.000000</td>\n",
       "      <td>0.000000</td>\n",
       "      <td>0.000000</td>\n",
       "      <td>0.000000</td>\n",
       "      <td>0.000000</td>\n",
       "      <td>0.000000</td>\n",
       "      <td>0.000000</td>\n",
       "      <td>0.000000</td>\n",
       "      <td>0.000000</td>\n",
       "    </tr>\n",
       "    <tr>\n",
       "      <th>2</th>\n",
       "      <td>18</td>\n",
       "      <td>2011</td>\n",
       "      <td>2</td>\n",
       "      <td>0</td>\n",
       "      <td>1</td>\n",
       "      <td>0</td>\n",
       "      <td>1</td>\n",
       "      <td>0</td>\n",
       "      <td>1</td>\n",
       "      <td>0</td>\n",
       "      <td>...</td>\n",
       "      <td>2.714286</td>\n",
       "      <td>2.714286</td>\n",
       "      <td>0.000000</td>\n",
       "      <td>0.000000</td>\n",
       "      <td>10.775510</td>\n",
       "      <td>0.000000</td>\n",
       "      <td>8.367347</td>\n",
       "      <td>0.000000</td>\n",
       "      <td>0.000000</td>\n",
       "      <td>9.836735</td>\n",
       "    </tr>\n",
       "    <tr>\n",
       "      <th>3</th>\n",
       "      <td>18</td>\n",
       "      <td>2012</td>\n",
       "      <td>3</td>\n",
       "      <td>0</td>\n",
       "      <td>1</td>\n",
       "      <td>0</td>\n",
       "      <td>1</td>\n",
       "      <td>0</td>\n",
       "      <td>1</td>\n",
       "      <td>0</td>\n",
       "      <td>...</td>\n",
       "      <td>4.200000</td>\n",
       "      <td>4.200000</td>\n",
       "      <td>0.000000</td>\n",
       "      <td>0.000000</td>\n",
       "      <td>12.100000</td>\n",
       "      <td>0.000000</td>\n",
       "      <td>9.400000</td>\n",
       "      <td>0.000000</td>\n",
       "      <td>0.000000</td>\n",
       "      <td>9.960000</td>\n",
       "    </tr>\n",
       "    <tr>\n",
       "      <th>4</th>\n",
       "      <td>18</td>\n",
       "      <td>2012</td>\n",
       "      <td>4</td>\n",
       "      <td>0</td>\n",
       "      <td>1</td>\n",
       "      <td>0</td>\n",
       "      <td>1</td>\n",
       "      <td>0</td>\n",
       "      <td>1</td>\n",
       "      <td>0</td>\n",
       "      <td>...</td>\n",
       "      <td>5.460000</td>\n",
       "      <td>5.460000</td>\n",
       "      <td>0.000000</td>\n",
       "      <td>0.000000</td>\n",
       "      <td>13.360000</td>\n",
       "      <td>0.000000</td>\n",
       "      <td>10.320000</td>\n",
       "      <td>0.000000</td>\n",
       "      <td>0.000000</td>\n",
       "      <td>10.280000</td>\n",
       "    </tr>\n",
       "    <tr>\n",
       "      <th>...</th>\n",
       "      <td>...</td>\n",
       "      <td>...</td>\n",
       "      <td>...</td>\n",
       "      <td>...</td>\n",
       "      <td>...</td>\n",
       "      <td>...</td>\n",
       "      <td>...</td>\n",
       "      <td>...</td>\n",
       "      <td>...</td>\n",
       "      <td>...</td>\n",
       "      <td>...</td>\n",
       "      <td>...</td>\n",
       "      <td>...</td>\n",
       "      <td>...</td>\n",
       "      <td>...</td>\n",
       "      <td>...</td>\n",
       "      <td>...</td>\n",
       "      <td>...</td>\n",
       "      <td>...</td>\n",
       "      <td>...</td>\n",
       "      <td>...</td>\n",
       "    </tr>\n",
       "    <tr>\n",
       "      <th>643685</th>\n",
       "      <td>1827860</td>\n",
       "      <td>2013</td>\n",
       "      <td>1</td>\n",
       "      <td>0</td>\n",
       "      <td>0</td>\n",
       "      <td>0</td>\n",
       "      <td>1</td>\n",
       "      <td>0</td>\n",
       "      <td>0</td>\n",
       "      <td>1</td>\n",
       "      <td>...</td>\n",
       "      <td>0.000000</td>\n",
       "      <td>0.000000</td>\n",
       "      <td>0.000000</td>\n",
       "      <td>0.000000</td>\n",
       "      <td>0.612903</td>\n",
       "      <td>0.000000</td>\n",
       "      <td>0.000000</td>\n",
       "      <td>0.000000</td>\n",
       "      <td>0.000000</td>\n",
       "      <td>0.000000</td>\n",
       "    </tr>\n",
       "    <tr>\n",
       "      <th>643686</th>\n",
       "      <td>1827860</td>\n",
       "      <td>2015</td>\n",
       "      <td>2</td>\n",
       "      <td>1</td>\n",
       "      <td>0</td>\n",
       "      <td>0</td>\n",
       "      <td>1</td>\n",
       "      <td>0</td>\n",
       "      <td>1</td>\n",
       "      <td>0</td>\n",
       "      <td>...</td>\n",
       "      <td>0.000000</td>\n",
       "      <td>0.000000</td>\n",
       "      <td>0.212121</td>\n",
       "      <td>0.212121</td>\n",
       "      <td>17.363636</td>\n",
       "      <td>0.000000</td>\n",
       "      <td>8.909091</td>\n",
       "      <td>0.000000</td>\n",
       "      <td>0.000000</td>\n",
       "      <td>7.121212</td>\n",
       "    </tr>\n",
       "    <tr>\n",
       "      <th>643687</th>\n",
       "      <td>1827860</td>\n",
       "      <td>2016</td>\n",
       "      <td>3</td>\n",
       "      <td>1</td>\n",
       "      <td>0</td>\n",
       "      <td>0</td>\n",
       "      <td>1</td>\n",
       "      <td>1</td>\n",
       "      <td>0</td>\n",
       "      <td>1</td>\n",
       "      <td>...</td>\n",
       "      <td>0.000000</td>\n",
       "      <td>0.000000</td>\n",
       "      <td>0.294118</td>\n",
       "      <td>0.205882</td>\n",
       "      <td>34.705882</td>\n",
       "      <td>0.000000</td>\n",
       "      <td>10.352941</td>\n",
       "      <td>1.705882</td>\n",
       "      <td>1.705882</td>\n",
       "      <td>23.911765</td>\n",
       "    </tr>\n",
       "    <tr>\n",
       "      <th>643688</th>\n",
       "      <td>1827869</td>\n",
       "      <td>2013</td>\n",
       "      <td>1</td>\n",
       "      <td>1</td>\n",
       "      <td>1</td>\n",
       "      <td>0</td>\n",
       "      <td>0</td>\n",
       "      <td>0</td>\n",
       "      <td>1</td>\n",
       "      <td>0</td>\n",
       "      <td>...</td>\n",
       "      <td>0.000000</td>\n",
       "      <td>0.000000</td>\n",
       "      <td>0.000000</td>\n",
       "      <td>0.000000</td>\n",
       "      <td>0.000000</td>\n",
       "      <td>0.525424</td>\n",
       "      <td>0.000000</td>\n",
       "      <td>0.000000</td>\n",
       "      <td>0.000000</td>\n",
       "      <td>0.000000</td>\n",
       "    </tr>\n",
       "    <tr>\n",
       "      <th>643689</th>\n",
       "      <td>1827869</td>\n",
       "      <td>2014</td>\n",
       "      <td>2</td>\n",
       "      <td>0</td>\n",
       "      <td>0</td>\n",
       "      <td>1</td>\n",
       "      <td>0</td>\n",
       "      <td>0</td>\n",
       "      <td>1</td>\n",
       "      <td>0</td>\n",
       "      <td>...</td>\n",
       "      <td>0.000000</td>\n",
       "      <td>0.666667</td>\n",
       "      <td>0.666667</td>\n",
       "      <td>0.000000</td>\n",
       "      <td>0.000000</td>\n",
       "      <td>8.950000</td>\n",
       "      <td>1.033333</td>\n",
       "      <td>0.083333</td>\n",
       "      <td>0.083333</td>\n",
       "      <td>8.133333</td>\n",
       "    </tr>\n",
       "  </tbody>\n",
       "</table>\n",
       "<p>643690 rows × 164 columns</p>\n",
       "</div>"
      ],
      "text/plain": [
       "         persnr  year  nrEntry  ltue  employed_before  receipt_leh_before  \\\n",
       "0             7  2015        1     0                1                   0   \n",
       "1            18  2010        1     1                0                   0   \n",
       "2            18  2011        2     0                1                   0   \n",
       "3            18  2012        3     0                1                   0   \n",
       "4            18  2012        4     0                1                   0   \n",
       "...         ...   ...      ...   ...              ...                 ...   \n",
       "643685  1827860  2013        1     0                0                   0   \n",
       "643686  1827860  2015        2     1                0                   0   \n",
       "643687  1827860  2016        3     1                0                   0   \n",
       "643688  1827869  2013        1     1                1                   0   \n",
       "643689  1827869  2014        2     0                0                   1   \n",
       "\n",
       "        receipt_lhg_before  se_before  ASU_notue_seeking_before  \\\n",
       "0                        0          0                         1   \n",
       "1                        0          0                         0   \n",
       "2                        1          0                         1   \n",
       "3                        1          0                         1   \n",
       "4                        1          0                         1   \n",
       "...                    ...        ...                       ...   \n",
       "643685                   1          0                         0   \n",
       "643686                   1          0                         1   \n",
       "643687                   1          1                         0   \n",
       "643688                   0          0                         1   \n",
       "643689                   0          0                         1   \n",
       "\n",
       "        ASU_other_before  ...  minijob_tot_dur_byage  ft_tot_dur_byage  \\\n",
       "0                      0  ...               0.000000          0.000000   \n",
       "1                      0  ...               0.000000          0.000000   \n",
       "2                      0  ...               2.714286          2.714286   \n",
       "3                      0  ...               4.200000          4.200000   \n",
       "4                      0  ...               5.460000          5.460000   \n",
       "...                  ...  ...                    ...               ...   \n",
       "643685                 1  ...               0.000000          0.000000   \n",
       "643686                 0  ...               0.000000          0.000000   \n",
       "643687                 1  ...               0.000000          0.000000   \n",
       "643688                 0  ...               0.000000          0.000000   \n",
       "643689                 0  ...               0.000000          0.666667   \n",
       "\n",
       "        befrist_tot_dur_byage  leih_tot_dur_byage  LHG_tot_dur_byage  \\\n",
       "0                   15.043478            0.000000           0.000000   \n",
       "1                    0.000000            0.000000           0.000000   \n",
       "2                    0.000000            0.000000          10.775510   \n",
       "3                    0.000000            0.000000          12.100000   \n",
       "4                    0.000000            0.000000          13.360000   \n",
       "...                       ...                 ...                ...   \n",
       "643685               0.000000            0.000000           0.612903   \n",
       "643686               0.212121            0.212121          17.363636   \n",
       "643687               0.294118            0.205882          34.705882   \n",
       "643688               0.000000            0.000000           0.000000   \n",
       "643689               0.666667            0.000000           0.000000   \n",
       "\n",
       "        LEH_tot_dur_byage  almp_tot_dur_byage  almp_aw_tot_dur_byage  \\\n",
       "0                0.000000            0.000000               0.000000   \n",
       "1                0.000000            0.000000               0.000000   \n",
       "2                0.000000            8.367347               0.000000   \n",
       "3                0.000000            9.400000               0.000000   \n",
       "4                0.000000           10.320000               0.000000   \n",
       "...                   ...                 ...                    ...   \n",
       "643685           0.000000            0.000000               0.000000   \n",
       "643686           0.000000            8.909091               0.000000   \n",
       "643687           0.000000           10.352941               1.705882   \n",
       "643688           0.525424            0.000000               0.000000   \n",
       "643689           8.950000            1.033333               0.083333   \n",
       "\n",
       "        se_tot_dur_byage  seeking1_tot_dur_byage  \n",
       "0               0.000000                0.000000  \n",
       "1               0.000000                0.000000  \n",
       "2               0.000000                9.836735  \n",
       "3               0.000000                9.960000  \n",
       "4               0.000000               10.280000  \n",
       "...                  ...                     ...  \n",
       "643685          0.000000                0.000000  \n",
       "643686          0.000000                7.121212  \n",
       "643687          1.705882               23.911765  \n",
       "643688          0.000000                0.000000  \n",
       "643689          0.083333                8.133333  \n",
       "\n",
       "[643690 rows x 164 columns]"
      ]
     },
     "execution_count": 10,
     "metadata": {},
     "output_type": "execute_result"
    }
   ],
   "source": [
    "siab"
   ]
  },
  {
   "cell_type": "markdown",
   "id": "1f87e805",
   "metadata": {
    "papermill": {
     "duration": 0.009996,
     "end_time": "2025-08-19T18:08:32.323834",
     "exception": false,
     "start_time": "2025-08-19T18:08:32.313838",
     "status": "completed"
    },
    "tags": []
   },
   "source": [
    "# Splitting Data and Setting Training Data Size"
   ]
  },
  {
   "cell_type": "code",
   "execution_count": 11,
   "id": "910ae358",
   "metadata": {
    "execution": {
     "iopub.execute_input": "2025-08-19T18:08:32.345454Z",
     "iopub.status.busy": "2025-08-19T18:08:32.344386Z",
     "iopub.status.idle": "2025-08-19T18:08:33.166153Z",
     "shell.execute_reply": "2025-08-19T18:08:33.165033Z"
    },
    "papermill": {
     "duration": 0.834385,
     "end_time": "2025-08-19T18:08:33.167650",
     "exception": false,
     "start_time": "2025-08-19T18:08:32.333265",
     "status": "completed"
    },
    "tags": []
   },
   "outputs": [],
   "source": [
    "from fairness_multiverse.universe import sample_by_year_size\n",
    "\n",
    "siab_train = sample_by_year_size(siab,\n",
    "                               training_year=universe[\"training_year\"],\n",
    "                               training_size=universe[\"training_size\"])"
   ]
  },
  {
   "cell_type": "code",
   "execution_count": 12,
   "id": "919c8ff5",
   "metadata": {
    "execution": {
     "iopub.execute_input": "2025-08-19T18:08:33.190683Z",
     "iopub.status.busy": "2025-08-19T18:08:33.189610Z",
     "iopub.status.idle": "2025-08-19T18:08:33.199002Z",
     "shell.execute_reply": "2025-08-19T18:08:33.197967Z"
    },
    "papermill": {
     "duration": 0.021904,
     "end_time": "2025-08-19T18:08:33.200326",
     "exception": false,
     "start_time": "2025-08-19T18:08:33.178422",
     "status": "completed"
    },
    "tags": []
   },
   "outputs": [
    {
     "data": {
      "text/plain": [
       "(25000, 164)"
      ]
     },
     "execution_count": 12,
     "metadata": {},
     "output_type": "execute_result"
    }
   ],
   "source": [
    "siab_train.shape"
   ]
  },
  {
   "cell_type": "code",
   "execution_count": 13,
   "id": "feb13bf4",
   "metadata": {
    "execution": {
     "iopub.execute_input": "2025-08-19T18:08:33.224628Z",
     "iopub.status.busy": "2025-08-19T18:08:33.223452Z",
     "iopub.status.idle": "2025-08-19T18:08:33.239772Z",
     "shell.execute_reply": "2025-08-19T18:08:33.238635Z"
    },
    "papermill": {
     "duration": 0.029849,
     "end_time": "2025-08-19T18:08:33.241281",
     "exception": false,
     "start_time": "2025-08-19T18:08:33.211432",
     "status": "completed"
    },
    "tags": []
   },
   "outputs": [
    {
     "data": {
      "text/plain": [
       "year\n",
       "2012    8334\n",
       "2013    8333\n",
       "2014    8333\n",
       "dtype: int64"
      ]
     },
     "metadata": {},
     "output_type": "display_data"
    }
   ],
   "source": [
    "display(siab_train.groupby(\"year\").size())"
   ]
  },
  {
   "cell_type": "code",
   "execution_count": 14,
   "id": "0997782f",
   "metadata": {
    "execution": {
     "iopub.execute_input": "2025-08-19T18:08:33.268983Z",
     "iopub.status.busy": "2025-08-19T18:08:33.267982Z",
     "iopub.status.idle": "2025-08-19T18:08:33.565093Z",
     "shell.execute_reply": "2025-08-19T18:08:33.564384Z"
    },
    "papermill": {
     "duration": 0.310747,
     "end_time": "2025-08-19T18:08:33.566577",
     "exception": false,
     "start_time": "2025-08-19T18:08:33.255830",
     "status": "completed"
    },
    "tags": []
   },
   "outputs": [],
   "source": [
    "#siab_train = siab_s[siab_s.year < 2015]\n",
    "siab_calib = siab[siab.year == 2015]\n",
    "siab_test = siab[siab.year == 2016]"
   ]
  },
  {
   "cell_type": "code",
   "execution_count": 15,
   "id": "2c1e4012",
   "metadata": {
    "execution": {
     "iopub.execute_input": "2025-08-19T18:08:33.610438Z",
     "iopub.status.busy": "2025-08-19T18:08:33.609412Z",
     "iopub.status.idle": "2025-08-19T18:08:33.617530Z",
     "shell.execute_reply": "2025-08-19T18:08:33.615825Z"
    },
    "papermill": {
     "duration": 0.042137,
     "end_time": "2025-08-19T18:08:33.620366",
     "exception": false,
     "start_time": "2025-08-19T18:08:33.578229",
     "status": "completed"
    },
    "tags": []
   },
   "outputs": [],
   "source": [
    "#siab_calib.shape"
   ]
  },
  {
   "cell_type": "code",
   "execution_count": 16,
   "id": "f66b54ca",
   "metadata": {
    "execution": {
     "iopub.execute_input": "2025-08-19T18:08:33.646113Z",
     "iopub.status.busy": "2025-08-19T18:08:33.645086Z",
     "iopub.status.idle": "2025-08-19T18:08:33.653037Z",
     "shell.execute_reply": "2025-08-19T18:08:33.651275Z"
    },
    "papermill": {
     "duration": 0.021694,
     "end_time": "2025-08-19T18:08:33.655086",
     "exception": false,
     "start_time": "2025-08-19T18:08:33.633392",
     "status": "completed"
    },
    "tags": []
   },
   "outputs": [],
   "source": [
    "#siab_test.shape"
   ]
  },
  {
   "cell_type": "code",
   "execution_count": 17,
   "id": "27e4384d",
   "metadata": {
    "execution": {
     "iopub.execute_input": "2025-08-19T18:08:33.678568Z",
     "iopub.status.busy": "2025-08-19T18:08:33.677576Z",
     "iopub.status.idle": "2025-08-19T18:08:33.713040Z",
     "shell.execute_reply": "2025-08-19T18:08:33.712261Z"
    },
    "papermill": {
     "duration": 0.048078,
     "end_time": "2025-08-19T18:08:33.714175",
     "exception": false,
     "start_time": "2025-08-19T18:08:33.666097",
     "status": "completed"
    },
    "tags": []
   },
   "outputs": [],
   "source": [
    "X_train = siab_train.iloc[:,4:164]\n",
    "y_train = siab_train.iloc[:, [3]]"
   ]
  },
  {
   "cell_type": "code",
   "execution_count": 18,
   "id": "08ee8389",
   "metadata": {
    "execution": {
     "iopub.execute_input": "2025-08-19T18:08:33.735715Z",
     "iopub.status.busy": "2025-08-19T18:08:33.735271Z",
     "iopub.status.idle": "2025-08-19T18:08:33.798308Z",
     "shell.execute_reply": "2025-08-19T18:08:33.797565Z"
    },
    "papermill": {
     "duration": 0.075341,
     "end_time": "2025-08-19T18:08:33.799777",
     "exception": false,
     "start_time": "2025-08-19T18:08:33.724436",
     "status": "completed"
    },
    "tags": []
   },
   "outputs": [],
   "source": [
    "X_calib = siab_calib.iloc[:,4:164]\n",
    "y_calib = siab_calib.iloc[:, [3]]"
   ]
  },
  {
   "cell_type": "code",
   "execution_count": 19,
   "id": "b7ff42e0",
   "metadata": {
    "execution": {
     "iopub.execute_input": "2025-08-19T18:08:33.822163Z",
     "iopub.status.busy": "2025-08-19T18:08:33.821238Z",
     "iopub.status.idle": "2025-08-19T18:08:33.877051Z",
     "shell.execute_reply": "2025-08-19T18:08:33.876166Z"
    },
    "papermill": {
     "duration": 0.068316,
     "end_time": "2025-08-19T18:08:33.878533",
     "exception": false,
     "start_time": "2025-08-19T18:08:33.810217",
     "status": "completed"
    },
    "tags": []
   },
   "outputs": [],
   "source": [
    "X_test = siab_test.iloc[:,4:164]\n",
    "y_true = siab_test.iloc[:, [3]]"
   ]
  },
  {
   "cell_type": "code",
   "execution_count": 20,
   "id": "0275101e",
   "metadata": {
    "execution": {
     "iopub.execute_input": "2025-08-19T18:08:33.905063Z",
     "iopub.status.busy": "2025-08-19T18:08:33.904083Z",
     "iopub.status.idle": "2025-08-19T18:08:34.036650Z",
     "shell.execute_reply": "2025-08-19T18:08:34.035950Z"
    },
    "papermill": {
     "duration": 0.149595,
     "end_time": "2025-08-19T18:08:34.039025",
     "exception": false,
     "start_time": "2025-08-19T18:08:33.889430",
     "status": "completed"
    },
    "tags": []
   },
   "outputs": [],
   "source": [
    "# Auxiliary data needed downstream in the pipeline\n",
    "\n",
    "org_train = X_train.copy()\n",
    "org_test = X_test.copy()\n",
    "org_calib = X_calib.copy()"
   ]
  },
  {
   "cell_type": "markdown",
   "id": "b461e618",
   "metadata": {
    "papermill": {
     "duration": 0.012582,
     "end_time": "2025-08-19T18:08:34.076764",
     "exception": false,
     "start_time": "2025-08-19T18:08:34.064182",
     "status": "completed"
    },
    "tags": []
   },
   "source": [
    "# Preprocessing Data"
   ]
  },
  {
   "cell_type": "code",
   "execution_count": 21,
   "id": "78e74c4b",
   "metadata": {
    "execution": {
     "iopub.execute_input": "2025-08-19T18:08:34.099567Z",
     "iopub.status.busy": "2025-08-19T18:08:34.098501Z",
     "iopub.status.idle": "2025-08-19T18:08:34.108894Z",
     "shell.execute_reply": "2025-08-19T18:08:34.107153Z"
    },
    "papermill": {
     "duration": 0.023673,
     "end_time": "2025-08-19T18:08:34.110458",
     "exception": false,
     "start_time": "2025-08-19T18:08:34.086785",
     "status": "completed"
    },
    "tags": []
   },
   "outputs": [],
   "source": [
    "# EXCLUDE PROTECTED FEATURES\n",
    "# --------------------------\n",
    "\n",
    "excluded_features = universe[\"exclude_features\"].split(\"-\")\n",
    "excluded_features_dictionary = {\n",
    "    \"nationality\": [\"maxdeutsch1\", \"maxdeutsch.Missing.\"],\n",
    "    \"sex\": [\"frau1\"],\n",
    "    \"age\": [\"age\"],\n",
    "}"
   ]
  },
  {
   "cell_type": "code",
   "execution_count": 22,
   "id": "f8e63555",
   "metadata": {
    "execution": {
     "iopub.execute_input": "2025-08-19T18:08:34.139014Z",
     "iopub.status.busy": "2025-08-19T18:08:34.137797Z",
     "iopub.status.idle": "2025-08-19T18:08:34.147118Z",
     "shell.execute_reply": "2025-08-19T18:08:34.145478Z"
    },
    "papermill": {
     "duration": 0.023608,
     "end_time": "2025-08-19T18:08:34.148851",
     "exception": false,
     "start_time": "2025-08-19T18:08:34.125243",
     "status": "completed"
    },
    "tags": []
   },
   "outputs": [],
   "source": [
    "excluded_features_columns = [\n",
    "    excluded_features_dictionary[f] for f in excluded_features if len(f) > 0 and f != \"none\"\n",
    "]"
   ]
  },
  {
   "cell_type": "code",
   "execution_count": 23,
   "id": "da781f7c",
   "metadata": {
    "execution": {
     "iopub.execute_input": "2025-08-19T18:08:34.176979Z",
     "iopub.status.busy": "2025-08-19T18:08:34.175955Z",
     "iopub.status.idle": "2025-08-19T18:08:34.184783Z",
     "shell.execute_reply": "2025-08-19T18:08:34.182999Z"
    },
    "papermill": {
     "duration": 0.034514,
     "end_time": "2025-08-19T18:08:34.197776",
     "exception": false,
     "start_time": "2025-08-19T18:08:34.163262",
     "status": "completed"
    },
    "tags": []
   },
   "outputs": [],
   "source": [
    "from fairness_multiverse.universe import flatten_once\n",
    "\n",
    "excluded_features_columns = flatten_once(excluded_features_columns)"
   ]
  },
  {
   "cell_type": "code",
   "execution_count": 24,
   "id": "37fef0f0",
   "metadata": {
    "execution": {
     "iopub.execute_input": "2025-08-19T18:08:34.229774Z",
     "iopub.status.busy": "2025-08-19T18:08:34.228470Z",
     "iopub.status.idle": "2025-08-19T18:08:34.267913Z",
     "shell.execute_reply": "2025-08-19T18:08:34.267230Z"
    },
    "papermill": {
     "duration": 0.058722,
     "end_time": "2025-08-19T18:08:34.273954",
     "exception": false,
     "start_time": "2025-08-19T18:08:34.215232",
     "status": "completed"
    },
    "tags": []
   },
   "outputs": [
    {
     "name": "stdout",
     "output_type": "stream",
     "text": [
      "Dropping features: ['age']\n"
     ]
    }
   ],
   "source": [
    "if len(excluded_features_columns) > 0:\n",
    "    print(f\"Dropping features: {excluded_features_columns}\")\n",
    "    X_train.drop(excluded_features_columns, axis=1, inplace=True)"
   ]
  },
  {
   "cell_type": "code",
   "execution_count": 25,
   "id": "d029e3e9",
   "metadata": {
    "execution": {
     "iopub.execute_input": "2025-08-19T18:08:34.310134Z",
     "iopub.status.busy": "2025-08-19T18:08:34.308708Z",
     "iopub.status.idle": "2025-08-19T18:08:34.371583Z",
     "shell.execute_reply": "2025-08-19T18:08:34.370877Z"
    },
    "papermill": {
     "duration": 0.078463,
     "end_time": "2025-08-19T18:08:34.373882",
     "exception": false,
     "start_time": "2025-08-19T18:08:34.295419",
     "status": "completed"
    },
    "tags": []
   },
   "outputs": [
    {
     "name": "stdout",
     "output_type": "stream",
     "text": [
      "Dropping features: ['age']\n"
     ]
    }
   ],
   "source": [
    "if len(excluded_features_columns) > 0:\n",
    "    print(f\"Dropping features: {excluded_features_columns}\")\n",
    "    X_test.drop(excluded_features_columns, axis=1, inplace=True)"
   ]
  },
  {
   "cell_type": "code",
   "execution_count": 26,
   "id": "01d571f0",
   "metadata": {
    "execution": {
     "iopub.execute_input": "2025-08-19T18:08:34.412691Z",
     "iopub.status.busy": "2025-08-19T18:08:34.411768Z",
     "iopub.status.idle": "2025-08-19T18:08:34.466503Z",
     "shell.execute_reply": "2025-08-19T18:08:34.465840Z"
    },
    "papermill": {
     "duration": 0.070757,
     "end_time": "2025-08-19T18:08:34.468808",
     "exception": false,
     "start_time": "2025-08-19T18:08:34.398051",
     "status": "completed"
    },
    "tags": []
   },
   "outputs": [
    {
     "name": "stdout",
     "output_type": "stream",
     "text": [
      "Dropping features: ['age']\n"
     ]
    }
   ],
   "source": [
    "if len(excluded_features_columns) > 0:\n",
    "    print(f\"Dropping features: {excluded_features_columns}\")\n",
    "    X_calib.drop(excluded_features_columns, axis=1, inplace=True)"
   ]
  },
  {
   "cell_type": "code",
   "execution_count": 27,
   "id": "3037356e",
   "metadata": {
    "execution": {
     "iopub.execute_input": "2025-08-19T18:08:34.506479Z",
     "iopub.status.busy": "2025-08-19T18:08:34.505589Z",
     "iopub.status.idle": "2025-08-19T18:08:34.513878Z",
     "shell.execute_reply": "2025-08-19T18:08:34.512136Z"
    },
    "papermill": {
     "duration": 0.02334,
     "end_time": "2025-08-19T18:08:34.515247",
     "exception": false,
     "start_time": "2025-08-19T18:08:34.491907",
     "status": "completed"
    },
    "tags": []
   },
   "outputs": [],
   "source": [
    "# EXCLUDE CERTAIN SUBGROUPS\n",
    "# -------------------------\n",
    "\n",
    "mode = universe.get(\"exclude_subgroups\", \"keep-all\") # Defaults to \"keep-all\" if the key is missing."
   ]
  },
  {
   "cell_type": "code",
   "execution_count": 28,
   "id": "9d1e63fd",
   "metadata": {
    "execution": {
     "iopub.execute_input": "2025-08-19T18:08:34.541276Z",
     "iopub.status.busy": "2025-08-19T18:08:34.540123Z",
     "iopub.status.idle": "2025-08-19T18:08:34.551026Z",
     "shell.execute_reply": "2025-08-19T18:08:34.549675Z"
    },
    "papermill": {
     "duration": 0.024232,
     "end_time": "2025-08-19T18:08:34.552492",
     "exception": false,
     "start_time": "2025-08-19T18:08:34.528260",
     "status": "completed"
    },
    "tags": []
   },
   "outputs": [],
   "source": [
    "if mode == \"keep-all\":\n",
    "    keep_mask = pd.Series(True, index=org_train.index)\n",
    "\n",
    "elif mode == \"drop-non-german\":\n",
    "    keep_mask = (org_train[\"maxdeutsch1\"] == 1) & (org_train[\"maxdeutsch.Missing.\"] == 0)\n",
    "\n",
    "else:\n",
    "    raise ValueError(f\"Unsupported mode for exclude_subgroups: {mode}\")"
   ]
  },
  {
   "cell_type": "code",
   "execution_count": 29,
   "id": "d3b65474",
   "metadata": {
    "execution": {
     "iopub.execute_input": "2025-08-19T18:08:34.582339Z",
     "iopub.status.busy": "2025-08-19T18:08:34.580927Z",
     "iopub.status.idle": "2025-08-19T18:08:34.591414Z",
     "shell.execute_reply": "2025-08-19T18:08:34.590046Z"
    },
    "papermill": {
     "duration": 0.024819,
     "end_time": "2025-08-19T18:08:34.592913",
     "exception": false,
     "start_time": "2025-08-19T18:08:34.568094",
     "status": "completed"
    },
    "tags": []
   },
   "outputs": [],
   "source": [
    "n_drop = (~keep_mask).sum() # Calculates how many rows are set to be dropped\n",
    "if n_drop > 0:\n",
    "    pct = n_drop / len(keep_mask) * 100\n",
    "    print(f\"Dropping {n_drop} rows ({pct:.2f}%) where mode='{mode}'\")"
   ]
  },
  {
   "cell_type": "code",
   "execution_count": 30,
   "id": "f44389b3",
   "metadata": {
    "execution": {
     "iopub.execute_input": "2025-08-19T18:08:34.622293Z",
     "iopub.status.busy": "2025-08-19T18:08:34.621196Z",
     "iopub.status.idle": "2025-08-19T18:08:34.641624Z",
     "shell.execute_reply": "2025-08-19T18:08:34.640641Z"
    },
    "papermill": {
     "duration": 0.034779,
     "end_time": "2025-08-19T18:08:34.643225",
     "exception": false,
     "start_time": "2025-08-19T18:08:34.608446",
     "status": "completed"
    },
    "tags": []
   },
   "outputs": [],
   "source": [
    "X_train = X_train[keep_mask]"
   ]
  },
  {
   "cell_type": "code",
   "execution_count": 31,
   "id": "ceca8c2a",
   "metadata": {
    "execution": {
     "iopub.execute_input": "2025-08-19T18:08:34.677902Z",
     "iopub.status.busy": "2025-08-19T18:08:34.676755Z",
     "iopub.status.idle": "2025-08-19T18:08:34.687006Z",
     "shell.execute_reply": "2025-08-19T18:08:34.685387Z"
    },
    "papermill": {
     "duration": 0.025787,
     "end_time": "2025-08-19T18:08:34.688391",
     "exception": false,
     "start_time": "2025-08-19T18:08:34.662604",
     "status": "completed"
    },
    "tags": []
   },
   "outputs": [],
   "source": [
    "y_train = y_train[keep_mask]"
   ]
  },
  {
   "cell_type": "markdown",
   "id": "04d31e2f",
   "metadata": {
    "papermill": {
     "duration": 0.010432,
     "end_time": "2025-08-19T18:08:34.712393",
     "exception": false,
     "start_time": "2025-08-19T18:08:34.701961",
     "status": "completed"
    },
    "tags": []
   },
   "source": [
    "# Model Training"
   ]
  },
  {
   "cell_type": "code",
   "execution_count": 32,
   "id": "db991733",
   "metadata": {
    "execution": {
     "iopub.execute_input": "2025-08-19T18:08:34.735906Z",
     "iopub.status.busy": "2025-08-19T18:08:34.734883Z",
     "iopub.status.idle": "2025-08-19T18:08:34.839334Z",
     "shell.execute_reply": "2025-08-19T18:08:34.838660Z"
    },
    "papermill": {
     "duration": 0.119009,
     "end_time": "2025-08-19T18:08:34.841805",
     "exception": false,
     "start_time": "2025-08-19T18:08:34.722796",
     "status": "completed"
    },
    "tags": []
   },
   "outputs": [],
   "source": [
    "from sklearn.linear_model import LogisticRegression\n",
    "from sklearn.ensemble import GradientBoostingClassifier, RandomForestClassifier\n",
    "\n",
    "if (universe[\"model\"] == \"logreg\"):\n",
    "    model = LogisticRegression() #penalty=\"none\", solver=\"newton-cg\", max_iter=1)\n",
    "elif (universe[\"model\"] == \"penalized_logreg\"):\n",
    "    model = LogisticRegression(penalty=\"l2\", C=0.1) #, solver=\"newton-cg\", max_iter=1)\n",
    "elif (universe[\"model\"] == \"rf\"):\n",
    "    model = RandomForestClassifier() # n_estimators=100, n_jobs=-1\n",
    "elif (universe[\"model\"] == \"gbm\"):\n",
    "    model = GradientBoostingClassifier()\n",
    "elif (universe[\"model\"] == \"elasticnet\"):\n",
    "    model = LogisticRegression(penalty = 'elasticnet', solver = 'saga', l1_ratio = 0.5) # max_iter=5000\n",
    "else:\n",
    "    raise \"Unsupported universe.model\""
   ]
  },
  {
   "cell_type": "code",
   "execution_count": 33,
   "id": "a4b5cd25",
   "metadata": {
    "execution": {
     "iopub.execute_input": "2025-08-19T18:08:34.880244Z",
     "iopub.status.busy": "2025-08-19T18:08:34.879120Z",
     "iopub.status.idle": "2025-08-19T18:08:34.885091Z",
     "shell.execute_reply": "2025-08-19T18:08:34.884359Z"
    },
    "papermill": {
     "duration": 0.020782,
     "end_time": "2025-08-19T18:08:34.886187",
     "exception": false,
     "start_time": "2025-08-19T18:08:34.865405",
     "status": "completed"
    },
    "tags": []
   },
   "outputs": [],
   "source": [
    "from sklearn.pipeline import Pipeline\n",
    "from sklearn.preprocessing import StandardScaler\n",
    "\n",
    "model = Pipeline([\n",
    "    #(\"continuous_processor\", continuous_processor),\n",
    "    #(\"categorical_preprocessor\", categorical_preprocessor),\n",
    "    (\"scale\", StandardScaler() if universe[\"scale\"] == \"scale\" else None), \n",
    "    (\"model\", model),\n",
    "])"
   ]
  },
  {
   "cell_type": "code",
   "execution_count": 34,
   "id": "283a904d",
   "metadata": {
    "execution": {
     "iopub.execute_input": "2025-08-19T18:08:34.940419Z",
     "iopub.status.busy": "2025-08-19T18:08:34.939429Z",
     "iopub.status.idle": "2025-08-19T18:08:36.054520Z",
     "shell.execute_reply": "2025-08-19T18:08:36.052688Z"
    },
    "papermill": {
     "duration": 1.147168,
     "end_time": "2025-08-19T18:08:36.056603",
     "exception": false,
     "start_time": "2025-08-19T18:08:34.909435",
     "status": "completed"
    },
    "tags": []
   },
   "outputs": [
    {
     "name": "stderr",
     "output_type": "stream",
     "text": [
      "/dss/dsshome1/0C/ra93lal2/.local/share/virtualenvs/CMA_Fairness_v2-3j10GkSs/lib/python3.10/site-packages/sklearn/linear_model/_logistic.py:444: ConvergenceWarning: lbfgs failed to converge (status=1):\n",
      "STOP: TOTAL NO. of ITERATIONS REACHED LIMIT.\n",
      "\n",
      "Increase the number of iterations (max_iter) or scale the data as shown in:\n",
      "    https://scikit-learn.org/stable/modules/preprocessing.html\n",
      "Please also refer to the documentation for alternative solver options:\n",
      "    https://scikit-learn.org/stable/modules/linear_model.html#logistic-regression\n",
      "  n_iter_i = _check_optimize_result(\n"
     ]
    },
    {
     "data": {
      "text/html": [
       "<style>#sk-container-id-1 {color: black;background-color: white;}#sk-container-id-1 pre{padding: 0;}#sk-container-id-1 div.sk-toggleable {background-color: white;}#sk-container-id-1 label.sk-toggleable__label {cursor: pointer;display: block;width: 100%;margin-bottom: 0;padding: 0.3em;box-sizing: border-box;text-align: center;}#sk-container-id-1 label.sk-toggleable__label-arrow:before {content: \"▸\";float: left;margin-right: 0.25em;color: #696969;}#sk-container-id-1 label.sk-toggleable__label-arrow:hover:before {color: black;}#sk-container-id-1 div.sk-estimator:hover label.sk-toggleable__label-arrow:before {color: black;}#sk-container-id-1 div.sk-toggleable__content {max-height: 0;max-width: 0;overflow: hidden;text-align: left;background-color: #f0f8ff;}#sk-container-id-1 div.sk-toggleable__content pre {margin: 0.2em;color: black;border-radius: 0.25em;background-color: #f0f8ff;}#sk-container-id-1 input.sk-toggleable__control:checked~div.sk-toggleable__content {max-height: 200px;max-width: 100%;overflow: auto;}#sk-container-id-1 input.sk-toggleable__control:checked~label.sk-toggleable__label-arrow:before {content: \"▾\";}#sk-container-id-1 div.sk-estimator input.sk-toggleable__control:checked~label.sk-toggleable__label {background-color: #d4ebff;}#sk-container-id-1 div.sk-label input.sk-toggleable__control:checked~label.sk-toggleable__label {background-color: #d4ebff;}#sk-container-id-1 input.sk-hidden--visually {border: 0;clip: rect(1px 1px 1px 1px);clip: rect(1px, 1px, 1px, 1px);height: 1px;margin: -1px;overflow: hidden;padding: 0;position: absolute;width: 1px;}#sk-container-id-1 div.sk-estimator {font-family: monospace;background-color: #f0f8ff;border: 1px dotted black;border-radius: 0.25em;box-sizing: border-box;margin-bottom: 0.5em;}#sk-container-id-1 div.sk-estimator:hover {background-color: #d4ebff;}#sk-container-id-1 div.sk-parallel-item::after {content: \"\";width: 100%;border-bottom: 1px solid gray;flex-grow: 1;}#sk-container-id-1 div.sk-label:hover label.sk-toggleable__label {background-color: #d4ebff;}#sk-container-id-1 div.sk-serial::before {content: \"\";position: absolute;border-left: 1px solid gray;box-sizing: border-box;top: 0;bottom: 0;left: 50%;z-index: 0;}#sk-container-id-1 div.sk-serial {display: flex;flex-direction: column;align-items: center;background-color: white;padding-right: 0.2em;padding-left: 0.2em;position: relative;}#sk-container-id-1 div.sk-item {position: relative;z-index: 1;}#sk-container-id-1 div.sk-parallel {display: flex;align-items: stretch;justify-content: center;background-color: white;position: relative;}#sk-container-id-1 div.sk-item::before, #sk-container-id-1 div.sk-parallel-item::before {content: \"\";position: absolute;border-left: 1px solid gray;box-sizing: border-box;top: 0;bottom: 0;left: 50%;z-index: -1;}#sk-container-id-1 div.sk-parallel-item {display: flex;flex-direction: column;z-index: 1;position: relative;background-color: white;}#sk-container-id-1 div.sk-parallel-item:first-child::after {align-self: flex-end;width: 50%;}#sk-container-id-1 div.sk-parallel-item:last-child::after {align-self: flex-start;width: 50%;}#sk-container-id-1 div.sk-parallel-item:only-child::after {width: 0;}#sk-container-id-1 div.sk-dashed-wrapped {border: 1px dashed gray;margin: 0 0.4em 0.5em 0.4em;box-sizing: border-box;padding-bottom: 0.4em;background-color: white;}#sk-container-id-1 div.sk-label label {font-family: monospace;font-weight: bold;display: inline-block;line-height: 1.2em;}#sk-container-id-1 div.sk-label-container {text-align: center;}#sk-container-id-1 div.sk-container {/* jupyter's `normalize.less` sets `[hidden] { display: none; }` but bootstrap.min.css set `[hidden] { display: none !important; }` so we also need the `!important` here to be able to override the default hidden behavior on the sphinx rendered scikit-learn.org. See: https://github.com/scikit-learn/scikit-learn/issues/21755 */display: inline-block !important;position: relative;}#sk-container-id-1 div.sk-text-repr-fallback {display: none;}</style><div id=\"sk-container-id-1\" class=\"sk-top-container\"><div class=\"sk-text-repr-fallback\"><pre>Pipeline(steps=[(&#x27;scale&#x27;, None), (&#x27;model&#x27;, LogisticRegression())])</pre><b>In a Jupyter environment, please rerun this cell to show the HTML representation or trust the notebook. <br />On GitHub, the HTML representation is unable to render, please try loading this page with nbviewer.org.</b></div><div class=\"sk-container\" hidden><div class=\"sk-item sk-dashed-wrapped\"><div class=\"sk-label-container\"><div class=\"sk-label sk-toggleable\"><input class=\"sk-toggleable__control sk-hidden--visually\" id=\"sk-estimator-id-1\" type=\"checkbox\" ><label for=\"sk-estimator-id-1\" class=\"sk-toggleable__label sk-toggleable__label-arrow\">Pipeline</label><div class=\"sk-toggleable__content\"><pre>Pipeline(steps=[(&#x27;scale&#x27;, None), (&#x27;model&#x27;, LogisticRegression())])</pre></div></div></div><div class=\"sk-serial\"><div class=\"sk-item\"><div class=\"sk-estimator sk-toggleable\"><input class=\"sk-toggleable__control sk-hidden--visually\" id=\"sk-estimator-id-2\" type=\"checkbox\" ><label for=\"sk-estimator-id-2\" class=\"sk-toggleable__label sk-toggleable__label-arrow\">None</label><div class=\"sk-toggleable__content\"><pre>None</pre></div></div></div><div class=\"sk-item\"><div class=\"sk-estimator sk-toggleable\"><input class=\"sk-toggleable__control sk-hidden--visually\" id=\"sk-estimator-id-3\" type=\"checkbox\" ><label for=\"sk-estimator-id-3\" class=\"sk-toggleable__label sk-toggleable__label-arrow\">LogisticRegression</label><div class=\"sk-toggleable__content\"><pre>LogisticRegression()</pre></div></div></div></div></div></div></div>"
      ],
      "text/plain": [
       "Pipeline(steps=[('scale', None), ('model', LogisticRegression())])"
      ]
     },
     "execution_count": 34,
     "metadata": {},
     "output_type": "execute_result"
    }
   ],
   "source": [
    "model.fit(X_train, y_train.values.ravel())"
   ]
  },
  {
   "cell_type": "code",
   "execution_count": 35,
   "id": "6e15e313",
   "metadata": {
    "execution": {
     "iopub.execute_input": "2025-08-19T18:08:36.087202Z",
     "iopub.status.busy": "2025-08-19T18:08:36.086320Z",
     "iopub.status.idle": "2025-08-19T18:08:36.211568Z",
     "shell.execute_reply": "2025-08-19T18:08:36.210684Z"
    },
    "papermill": {
     "duration": 0.142481,
     "end_time": "2025-08-19T18:08:36.213959",
     "exception": false,
     "start_time": "2025-08-19T18:08:36.071478",
     "status": "completed"
    },
    "tags": []
   },
   "outputs": [
    {
     "data": {
      "text/plain": [
       "0.8616542191505964"
      ]
     },
     "execution_count": 35,
     "metadata": {},
     "output_type": "execute_result"
    }
   ],
   "source": [
    "from fairness_multiverse.universe import predict_w_threshold\n",
    "\n",
    "probs_test = model.predict_proba(X_test)\n",
    "\n",
    "'''\n",
    "Below code returns a boolean array (or binary 0/1 array depending on how it’s used) where each element \n",
    "is True if the probability of class 1 is greater than or equal to the threshold, and False otherwise.\n",
    "'''\n",
    "y_pred_default = predict_w_threshold(probs_test, 0.5)\n",
    "\n",
    "from sklearn.metrics import accuracy_score\n",
    "\n",
    "# Naive prediction\n",
    "accuracy_score(y_true = y_true, y_pred = y_pred_default)"
   ]
  },
  {
   "cell_type": "code",
   "execution_count": 36,
   "id": "6f14067c",
   "metadata": {
    "execution": {
     "iopub.execute_input": "2025-08-19T18:08:36.254847Z",
     "iopub.status.busy": "2025-08-19T18:08:36.253601Z",
     "iopub.status.idle": "2025-08-19T18:08:36.375047Z",
     "shell.execute_reply": "2025-08-19T18:08:36.373411Z"
    },
    "papermill": {
     "duration": 0.138533,
     "end_time": "2025-08-19T18:08:36.377750",
     "exception": false,
     "start_time": "2025-08-19T18:08:36.239217",
     "status": "completed"
    },
    "tags": []
   },
   "outputs": [
    {
     "data": {
      "text/plain": [
       "array([0, 0, 0, ..., 0, 0, 0])"
      ]
     },
     "execution_count": 36,
     "metadata": {},
     "output_type": "execute_result"
    }
   ],
   "source": [
    "model.predict(X_test)"
   ]
  },
  {
   "cell_type": "markdown",
   "id": "3759920c",
   "metadata": {
    "papermill": {
     "duration": 0.012529,
     "end_time": "2025-08-19T18:08:36.414581",
     "exception": false,
     "start_time": "2025-08-19T18:08:36.402052",
     "status": "completed"
    },
    "tags": []
   },
   "source": [
    "# Conformal Prediction"
   ]
  },
  {
   "cell_type": "code",
   "execution_count": 37,
   "id": "14b27f59",
   "metadata": {
    "execution": {
     "iopub.execute_input": "2025-08-19T18:08:36.440070Z",
     "iopub.status.busy": "2025-08-19T18:08:36.439043Z",
     "iopub.status.idle": "2025-08-19T18:08:36.451322Z",
     "shell.execute_reply": "2025-08-19T18:08:36.449802Z"
    },
    "papermill": {
     "duration": 0.027442,
     "end_time": "2025-08-19T18:08:36.452795",
     "exception": false,
     "start_time": "2025-08-19T18:08:36.425353",
     "status": "completed"
    },
    "tags": []
   },
   "outputs": [],
   "source": [
    "# Miscoverage level for conformal prediction (10% allowed error rate => 90% target coverage)\n",
    "alpha = 0.1"
   ]
  },
  {
   "cell_type": "code",
   "execution_count": 38,
   "id": "59102472",
   "metadata": {
    "execution": {
     "iopub.execute_input": "2025-08-19T18:08:36.481705Z",
     "iopub.status.busy": "2025-08-19T18:08:36.481016Z",
     "iopub.status.idle": "2025-08-19T18:08:36.637167Z",
     "shell.execute_reply": "2025-08-19T18:08:36.635834Z"
    },
    "papermill": {
     "duration": 0.171976,
     "end_time": "2025-08-19T18:08:36.640003",
     "exception": false,
     "start_time": "2025-08-19T18:08:36.468027",
     "status": "completed"
    },
    "tags": []
   },
   "outputs": [],
   "source": [
    "probs_calib = model.predict_proba(X_calib)"
   ]
  },
  {
   "cell_type": "code",
   "execution_count": 39,
   "id": "a792d4dd",
   "metadata": {
    "execution": {
     "iopub.execute_input": "2025-08-19T18:08:36.681870Z",
     "iopub.status.busy": "2025-08-19T18:08:36.680410Z",
     "iopub.status.idle": "2025-08-19T18:08:36.696343Z",
     "shell.execute_reply": "2025-08-19T18:08:36.695193Z"
    },
    "papermill": {
     "duration": 0.032646,
     "end_time": "2025-08-19T18:08:36.697926",
     "exception": false,
     "start_time": "2025-08-19T18:08:36.665280",
     "status": "completed"
    },
    "tags": []
   },
   "outputs": [],
   "source": [
    "y_calib = y_calib.values.ravel().astype(int)"
   ]
  },
  {
   "cell_type": "code",
   "execution_count": 40,
   "id": "650fd033",
   "metadata": {
    "execution": {
     "iopub.execute_input": "2025-08-19T18:08:36.730333Z",
     "iopub.status.busy": "2025-08-19T18:08:36.729125Z",
     "iopub.status.idle": "2025-08-19T18:08:36.750965Z",
     "shell.execute_reply": "2025-08-19T18:08:36.750009Z"
    },
    "papermill": {
     "duration": 0.037952,
     "end_time": "2025-08-19T18:08:36.753155",
     "exception": false,
     "start_time": "2025-08-19T18:08:36.715203",
     "status": "completed"
    },
    "tags": []
   },
   "outputs": [],
   "source": [
    "from fairness_multiverse.conformal import compute_nc_scores\n",
    "\n",
    "# Compute nonconformity scores on calibration set (1 - probability of true class)\n",
    "nc_scores = compute_nc_scores(probs_calib, y_calib)"
   ]
  },
  {
   "cell_type": "code",
   "execution_count": 41,
   "id": "28ada44c",
   "metadata": {
    "execution": {
     "iopub.execute_input": "2025-08-19T18:08:36.783467Z",
     "iopub.status.busy": "2025-08-19T18:08:36.783103Z",
     "iopub.status.idle": "2025-08-19T18:08:36.789892Z",
     "shell.execute_reply": "2025-08-19T18:08:36.789004Z"
    },
    "papermill": {
     "duration": 0.021325,
     "end_time": "2025-08-19T18:08:36.791498",
     "exception": false,
     "start_time": "2025-08-19T18:08:36.770173",
     "status": "completed"
    },
    "tags": []
   },
   "outputs": [],
   "source": [
    "from fairness_multiverse.conformal import find_threshold\n",
    "\n",
    "# Find conformal threshold q_hat for the given alpha (split conformal method)\n",
    "q_hat = find_threshold(nc_scores, alpha)"
   ]
  },
  {
   "cell_type": "code",
   "execution_count": 42,
   "id": "df56469e",
   "metadata": {
    "execution": {
     "iopub.execute_input": "2025-08-19T18:08:36.816657Z",
     "iopub.status.busy": "2025-08-19T18:08:36.816334Z",
     "iopub.status.idle": "2025-08-19T18:08:36.822727Z",
     "shell.execute_reply": "2025-08-19T18:08:36.821888Z"
    },
    "papermill": {
     "duration": 0.019907,
     "end_time": "2025-08-19T18:08:36.824201",
     "exception": false,
     "start_time": "2025-08-19T18:08:36.804294",
     "status": "completed"
    },
    "tags": []
   },
   "outputs": [
    {
     "data": {
      "text/plain": [
       "0.6545646502241548"
      ]
     },
     "execution_count": 42,
     "metadata": {},
     "output_type": "execute_result"
    }
   ],
   "source": [
    "q_hat"
   ]
  },
  {
   "cell_type": "code",
   "execution_count": 43,
   "id": "aa1f5faa",
   "metadata": {
    "execution": {
     "iopub.execute_input": "2025-08-19T18:08:36.847758Z",
     "iopub.status.busy": "2025-08-19T18:08:36.847335Z",
     "iopub.status.idle": "2025-08-19T18:08:37.485078Z",
     "shell.execute_reply": "2025-08-19T18:08:37.483955Z"
    },
    "papermill": {
     "duration": 0.651443,
     "end_time": "2025-08-19T18:08:37.486837",
     "exception": false,
     "start_time": "2025-08-19T18:08:36.835394",
     "status": "completed"
    },
    "tags": []
   },
   "outputs": [],
   "source": [
    "from fairness_multiverse.conformal import predict_conformal_sets\n",
    "\n",
    "# Generate prediction sets for each test example\n",
    "pred_sets = predict_conformal_sets(model, X_test, q_hat)"
   ]
  },
  {
   "cell_type": "code",
   "execution_count": 44,
   "id": "97f67a6b",
   "metadata": {
    "execution": {
     "iopub.execute_input": "2025-08-19T18:08:37.514566Z",
     "iopub.status.busy": "2025-08-19T18:08:37.511792Z",
     "iopub.status.idle": "2025-08-19T18:08:37.520222Z",
     "shell.execute_reply": "2025-08-19T18:08:37.519362Z"
    },
    "papermill": {
     "duration": 0.023272,
     "end_time": "2025-08-19T18:08:37.521694",
     "exception": false,
     "start_time": "2025-08-19T18:08:37.498422",
     "status": "completed"
    },
    "tags": []
   },
   "outputs": [],
   "source": [
    "y_true = y_true.squeeze()"
   ]
  },
  {
   "cell_type": "code",
   "execution_count": 45,
   "id": "e700e9a7",
   "metadata": {
    "execution": {
     "iopub.execute_input": "2025-08-19T18:08:37.546105Z",
     "iopub.status.busy": "2025-08-19T18:08:37.545819Z",
     "iopub.status.idle": "2025-08-19T18:08:38.079195Z",
     "shell.execute_reply": "2025-08-19T18:08:38.077673Z"
    },
    "papermill": {
     "duration": 0.547728,
     "end_time": "2025-08-19T18:08:38.081291",
     "exception": false,
     "start_time": "2025-08-19T18:08:37.533563",
     "status": "completed"
    },
    "tags": []
   },
   "outputs": [],
   "source": [
    "from fairness_multiverse.conformal import evaluate_sets\n",
    "\n",
    "# Evaluate coverage and average set size on test data\n",
    "metrics = evaluate_sets(pred_sets, y_true)"
   ]
  },
  {
   "cell_type": "markdown",
   "id": "efbacec0",
   "metadata": {
    "papermill": {
     "duration": 0.011968,
     "end_time": "2025-08-19T18:08:38.105723",
     "exception": false,
     "start_time": "2025-08-19T18:08:38.093755",
     "status": "completed"
    },
    "tags": []
   },
   "source": [
    "# CP Metrics"
   ]
  },
  {
   "cell_type": "code",
   "execution_count": 46,
   "id": "9de55fb1",
   "metadata": {
    "execution": {
     "iopub.execute_input": "2025-08-19T18:08:38.132874Z",
     "iopub.status.busy": "2025-08-19T18:08:38.132303Z",
     "iopub.status.idle": "2025-08-19T18:08:38.139875Z",
     "shell.execute_reply": "2025-08-19T18:08:38.139103Z"
    },
    "papermill": {
     "duration": 0.023599,
     "end_time": "2025-08-19T18:08:38.142657",
     "exception": false,
     "start_time": "2025-08-19T18:08:38.119058",
     "status": "completed"
    },
    "tags": []
   },
   "outputs": [
    {
     "data": {
      "text/plain": [
       "{'coverage': 0.9126407312451231, 'avg_size': 1.2503622784527924}"
      ]
     },
     "execution_count": 46,
     "metadata": {},
     "output_type": "execute_result"
    }
   ],
   "source": [
    "metrics"
   ]
  },
  {
   "cell_type": "code",
   "execution_count": 47,
   "id": "64c340a1",
   "metadata": {
    "execution": {
     "iopub.execute_input": "2025-08-19T18:08:38.188044Z",
     "iopub.status.busy": "2025-08-19T18:08:38.187679Z",
     "iopub.status.idle": "2025-08-19T18:08:38.196666Z",
     "shell.execute_reply": "2025-08-19T18:08:38.195208Z"
    },
    "papermill": {
     "duration": 0.04277,
     "end_time": "2025-08-19T18:08:38.198977",
     "exception": false,
     "start_time": "2025-08-19T18:08:38.156207",
     "status": "completed"
    },
    "tags": []
   },
   "outputs": [],
   "source": [
    "example_universe = universe.copy()\n",
    "universe_training_year = example_universe.get(\"training_year\")\n",
    "universe_training_size = example_universe.get(\"training_size\")\n",
    "universe_scale = example_universe.get(\"scale\")\n",
    "universe_model = example_universe.get(\"model\")\n",
    "universe_exclude_features = example_universe.get(\"exclude_features\")\n",
    "universe_exclude_subgroups = example_universe.get(\"exclude_subgroups\")"
   ]
  },
  {
   "cell_type": "code",
   "execution_count": 48,
   "id": "dbb53cb4",
   "metadata": {
    "execution": {
     "iopub.execute_input": "2025-08-19T18:08:38.253575Z",
     "iopub.status.busy": "2025-08-19T18:08:38.253201Z",
     "iopub.status.idle": "2025-08-19T18:08:38.259320Z",
     "shell.execute_reply": "2025-08-19T18:08:38.258579Z"
    },
    "papermill": {
     "duration": 0.04171,
     "end_time": "2025-08-19T18:08:38.265067",
     "exception": false,
     "start_time": "2025-08-19T18:08:38.223357",
     "status": "completed"
    },
    "tags": []
   },
   "outputs": [],
   "source": [
    "cp_metrics_dict = {\n",
    "    \"universe_id\": [universe_id],\n",
    "    \"universe_training_year\": [universe_training_year],\n",
    "    \"universe_training_size\": [universe_training_size],\n",
    "    \"universe_scale\": [universe_scale],\n",
    "    \"universe_model\": [universe_model],\n",
    "    \"universe_exclude_features\": [universe_exclude_features],\n",
    "    \"universe_exclude_subgroups\": [universe_exclude_subgroups],\n",
    "    \"q_hat\": [q_hat],\n",
    "    \"coverage\": [metrics[\"coverage\"]],\n",
    "    \"avg_size\": [metrics[\"avg_size\"]],\n",
    "}"
   ]
  },
  {
   "cell_type": "code",
   "execution_count": 49,
   "id": "0d70d4b2",
   "metadata": {
    "execution": {
     "iopub.execute_input": "2025-08-19T18:08:38.301079Z",
     "iopub.status.busy": "2025-08-19T18:08:38.300565Z",
     "iopub.status.idle": "2025-08-19T18:08:38.308588Z",
     "shell.execute_reply": "2025-08-19T18:08:38.307279Z"
    },
    "papermill": {
     "duration": 0.022862,
     "end_time": "2025-08-19T18:08:38.309869",
     "exception": false,
     "start_time": "2025-08-19T18:08:38.287007",
     "status": "completed"
    },
    "tags": []
   },
   "outputs": [],
   "source": [
    "cp_metrics_df = pd.DataFrame(cp_metrics_dict)"
   ]
  },
  {
   "cell_type": "code",
   "execution_count": 50,
   "id": "b494403c",
   "metadata": {
    "execution": {
     "iopub.execute_input": "2025-08-19T18:08:38.336995Z",
     "iopub.status.busy": "2025-08-19T18:08:38.336026Z",
     "iopub.status.idle": "2025-08-19T18:08:38.358540Z",
     "shell.execute_reply": "2025-08-19T18:08:38.357550Z"
    },
    "papermill": {
     "duration": 0.037179,
     "end_time": "2025-08-19T18:08:38.360288",
     "exception": false,
     "start_time": "2025-08-19T18:08:38.323109",
     "status": "completed"
    },
    "tags": []
   },
   "outputs": [
    {
     "data": {
      "text/html": [
       "<div>\n",
       "<style scoped>\n",
       "    .dataframe tbody tr th:only-of-type {\n",
       "        vertical-align: middle;\n",
       "    }\n",
       "\n",
       "    .dataframe tbody tr th {\n",
       "        vertical-align: top;\n",
       "    }\n",
       "\n",
       "    .dataframe thead th {\n",
       "        text-align: right;\n",
       "    }\n",
       "</style>\n",
       "<table border=\"1\" class=\"dataframe\">\n",
       "  <thead>\n",
       "    <tr style=\"text-align: right;\">\n",
       "      <th></th>\n",
       "      <th>universe_id</th>\n",
       "      <th>universe_training_year</th>\n",
       "      <th>universe_training_size</th>\n",
       "      <th>universe_scale</th>\n",
       "      <th>universe_model</th>\n",
       "      <th>universe_exclude_features</th>\n",
       "      <th>universe_exclude_subgroups</th>\n",
       "      <th>q_hat</th>\n",
       "      <th>coverage</th>\n",
       "      <th>avg_size</th>\n",
       "    </tr>\n",
       "  </thead>\n",
       "  <tbody>\n",
       "    <tr>\n",
       "      <th>0</th>\n",
       "      <td>f7e60d8bf3ee3cfc90e82fb457e1f056</td>\n",
       "      <td>2012_14</td>\n",
       "      <td>25k</td>\n",
       "      <td>do-not-scale</td>\n",
       "      <td>logreg</td>\n",
       "      <td>age</td>\n",
       "      <td>keep-all</td>\n",
       "      <td>0.654565</td>\n",
       "      <td>0.912641</td>\n",
       "      <td>1.250362</td>\n",
       "    </tr>\n",
       "  </tbody>\n",
       "</table>\n",
       "</div>"
      ],
      "text/plain": [
       "                        universe_id universe_training_year  \\\n",
       "0  f7e60d8bf3ee3cfc90e82fb457e1f056                2012_14   \n",
       "\n",
       "  universe_training_size universe_scale universe_model  \\\n",
       "0                    25k   do-not-scale         logreg   \n",
       "\n",
       "  universe_exclude_features universe_exclude_subgroups     q_hat  coverage  \\\n",
       "0                       age                   keep-all  0.654565  0.912641   \n",
       "\n",
       "   avg_size  \n",
       "0  1.250362  "
      ]
     },
     "execution_count": 50,
     "metadata": {},
     "output_type": "execute_result"
    }
   ],
   "source": [
    "cp_metrics_df"
   ]
  },
  {
   "cell_type": "markdown",
   "id": "ed608b0b",
   "metadata": {
    "papermill": {
     "duration": 0.013193,
     "end_time": "2025-08-19T18:08:38.391873",
     "exception": false,
     "start_time": "2025-08-19T18:08:38.378680",
     "status": "completed"
    },
    "tags": []
   },
   "source": [
    "Conditional coverage & looking at subgroups"
   ]
  },
  {
   "cell_type": "code",
   "execution_count": 51,
   "id": "8968c366",
   "metadata": {
    "execution": {
     "iopub.execute_input": "2025-08-19T18:08:38.420003Z",
     "iopub.status.busy": "2025-08-19T18:08:38.416915Z",
     "iopub.status.idle": "2025-08-19T18:08:38.806271Z",
     "shell.execute_reply": "2025-08-19T18:08:38.805049Z"
    },
    "papermill": {
     "duration": 0.404542,
     "end_time": "2025-08-19T18:08:38.808079",
     "exception": false,
     "start_time": "2025-08-19T18:08:38.403537",
     "status": "completed"
    },
    "tags": []
   },
   "outputs": [],
   "source": [
    "from fairness_multiverse.conformal import build_cp_groups\n",
    "\n",
    "cp_groups_df = build_cp_groups(pred_sets, y_true, X_test.index, org_test)"
   ]
  },
  {
   "cell_type": "code",
   "execution_count": 52,
   "id": "292ddabf",
   "metadata": {
    "execution": {
     "iopub.execute_input": "2025-08-19T18:08:38.838573Z",
     "iopub.status.busy": "2025-08-19T18:08:38.837966Z",
     "iopub.status.idle": "2025-08-19T18:08:39.766447Z",
     "shell.execute_reply": "2025-08-19T18:08:39.764932Z"
    },
    "papermill": {
     "duration": 0.945135,
     "end_time": "2025-08-19T18:08:39.768562",
     "exception": false,
     "start_time": "2025-08-19T18:08:38.823427",
     "status": "completed"
    },
    "tags": []
   },
   "outputs": [],
   "source": [
    "# Define covered = 1 if true_label is in the predicted set\n",
    "cp_groups_df['covered'] = cp_groups_df.apply(\n",
    "    lambda r: int(r['true_label'] in r['pred_set']),\n",
    "    axis=1\n",
    ")"
   ]
  },
  {
   "cell_type": "code",
   "execution_count": 53,
   "id": "3a261692",
   "metadata": {
    "execution": {
     "iopub.execute_input": "2025-08-19T18:08:39.816637Z",
     "iopub.status.busy": "2025-08-19T18:08:39.816203Z",
     "iopub.status.idle": "2025-08-19T18:08:39.834306Z",
     "shell.execute_reply": "2025-08-19T18:08:39.833294Z"
    },
    "papermill": {
     "duration": 0.047209,
     "end_time": "2025-08-19T18:08:39.837717",
     "exception": false,
     "start_time": "2025-08-19T18:08:39.790508",
     "status": "completed"
    },
    "tags": []
   },
   "outputs": [],
   "source": [
    "subgroups = ['frau1','nongerman','nongerman_male','nongerman_female']\n",
    "\n",
    "# Conditional coverage for subgroup==1\n",
    "cond_coverage = {\n",
    "    g: cp_groups_df.loc[cp_groups_df[g]==1, 'covered'].mean()\n",
    "    for g in subgroups\n",
    "}"
   ]
  },
  {
   "cell_type": "code",
   "execution_count": 54,
   "id": "894fd600",
   "metadata": {
    "execution": {
     "iopub.execute_input": "2025-08-19T18:08:39.877191Z",
     "iopub.status.busy": "2025-08-19T18:08:39.876192Z",
     "iopub.status.idle": "2025-08-19T18:08:39.887108Z",
     "shell.execute_reply": "2025-08-19T18:08:39.885936Z"
    },
    "papermill": {
     "duration": 0.027123,
     "end_time": "2025-08-19T18:08:39.888663",
     "exception": false,
     "start_time": "2025-08-19T18:08:39.861540",
     "status": "completed"
    },
    "tags": []
   },
   "outputs": [
    {
     "data": {
      "text/plain": [
       "{'frau1': 0.9122792829222267,\n",
       " 'nongerman': 0.962387020715208,\n",
       " 'nongerman_male': 0.9680266594614069,\n",
       " 'nongerman_female': 0.9530551415797317}"
      ]
     },
     "execution_count": 54,
     "metadata": {},
     "output_type": "execute_result"
    }
   ],
   "source": [
    "cond_coverage"
   ]
  },
  {
   "cell_type": "code",
   "execution_count": 55,
   "id": "942895c7",
   "metadata": {
    "execution": {
     "iopub.execute_input": "2025-08-19T18:08:39.918255Z",
     "iopub.status.busy": "2025-08-19T18:08:39.917209Z",
     "iopub.status.idle": "2025-08-19T18:08:39.928314Z",
     "shell.execute_reply": "2025-08-19T18:08:39.927135Z"
    },
    "papermill": {
     "duration": 0.02786,
     "end_time": "2025-08-19T18:08:39.931002",
     "exception": false,
     "start_time": "2025-08-19T18:08:39.903142",
     "status": "completed"
    },
    "tags": []
   },
   "outputs": [],
   "source": [
    "for subgroup, cov in cond_coverage.items():\n",
    "    cp_metrics_df[f\"cov_{subgroup}\"] = cov"
   ]
  },
  {
   "cell_type": "code",
   "execution_count": 56,
   "id": "3970120f",
   "metadata": {
    "execution": {
     "iopub.execute_input": "2025-08-19T18:08:39.960755Z",
     "iopub.status.busy": "2025-08-19T18:08:39.959798Z",
     "iopub.status.idle": "2025-08-19T18:08:39.986246Z",
     "shell.execute_reply": "2025-08-19T18:08:39.985015Z"
    },
    "papermill": {
     "duration": 0.043331,
     "end_time": "2025-08-19T18:08:39.989498",
     "exception": false,
     "start_time": "2025-08-19T18:08:39.946167",
     "status": "completed"
    },
    "tags": []
   },
   "outputs": [
    {
     "data": {
      "text/html": [
       "<div>\n",
       "<style scoped>\n",
       "    .dataframe tbody tr th:only-of-type {\n",
       "        vertical-align: middle;\n",
       "    }\n",
       "\n",
       "    .dataframe tbody tr th {\n",
       "        vertical-align: top;\n",
       "    }\n",
       "\n",
       "    .dataframe thead th {\n",
       "        text-align: right;\n",
       "    }\n",
       "</style>\n",
       "<table border=\"1\" class=\"dataframe\">\n",
       "  <thead>\n",
       "    <tr style=\"text-align: right;\">\n",
       "      <th></th>\n",
       "      <th>universe_id</th>\n",
       "      <th>universe_training_year</th>\n",
       "      <th>universe_training_size</th>\n",
       "      <th>universe_scale</th>\n",
       "      <th>universe_model</th>\n",
       "      <th>universe_exclude_features</th>\n",
       "      <th>universe_exclude_subgroups</th>\n",
       "      <th>q_hat</th>\n",
       "      <th>coverage</th>\n",
       "      <th>avg_size</th>\n",
       "      <th>cov_frau1</th>\n",
       "      <th>cov_nongerman</th>\n",
       "      <th>cov_nongerman_male</th>\n",
       "      <th>cov_nongerman_female</th>\n",
       "    </tr>\n",
       "  </thead>\n",
       "  <tbody>\n",
       "    <tr>\n",
       "      <th>0</th>\n",
       "      <td>f7e60d8bf3ee3cfc90e82fb457e1f056</td>\n",
       "      <td>2012_14</td>\n",
       "      <td>25k</td>\n",
       "      <td>do-not-scale</td>\n",
       "      <td>logreg</td>\n",
       "      <td>age</td>\n",
       "      <td>keep-all</td>\n",
       "      <td>0.654565</td>\n",
       "      <td>0.912641</td>\n",
       "      <td>1.250362</td>\n",
       "      <td>0.912279</td>\n",
       "      <td>0.962387</td>\n",
       "      <td>0.968027</td>\n",
       "      <td>0.953055</td>\n",
       "    </tr>\n",
       "  </tbody>\n",
       "</table>\n",
       "</div>"
      ],
      "text/plain": [
       "                        universe_id universe_training_year  \\\n",
       "0  f7e60d8bf3ee3cfc90e82fb457e1f056                2012_14   \n",
       "\n",
       "  universe_training_size universe_scale universe_model  \\\n",
       "0                    25k   do-not-scale         logreg   \n",
       "\n",
       "  universe_exclude_features universe_exclude_subgroups     q_hat  coverage  \\\n",
       "0                       age                   keep-all  0.654565  0.912641   \n",
       "\n",
       "   avg_size  cov_frau1  cov_nongerman  cov_nongerman_male  \\\n",
       "0  1.250362   0.912279       0.962387            0.968027   \n",
       "\n",
       "   cov_nongerman_female  \n",
       "0              0.953055  "
      ]
     },
     "execution_count": 56,
     "metadata": {},
     "output_type": "execute_result"
    }
   ],
   "source": [
    "cp_metrics_df"
   ]
  },
  {
   "cell_type": "markdown",
   "id": "3fc519cc",
   "metadata": {
    "papermill": {
     "duration": 0.013229,
     "end_time": "2025-08-19T18:08:40.024725",
     "exception": false,
     "start_time": "2025-08-19T18:08:40.011496",
     "status": "completed"
    },
    "tags": []
   },
   "source": [
    "# (Fairness) Metrics"
   ]
  },
  {
   "cell_type": "code",
   "execution_count": 57,
   "id": "a2e5e155",
   "metadata": {
    "execution": {
     "iopub.execute_input": "2025-08-19T18:08:40.051509Z",
     "iopub.status.busy": "2025-08-19T18:08:40.050519Z",
     "iopub.status.idle": "2025-08-19T18:08:40.080510Z",
     "shell.execute_reply": "2025-08-19T18:08:40.079519Z"
    },
    "papermill": {
     "duration": 0.046494,
     "end_time": "2025-08-19T18:08:40.083213",
     "exception": false,
     "start_time": "2025-08-19T18:08:40.036719",
     "status": "completed"
    },
    "tags": []
   },
   "outputs": [],
   "source": [
    "colname_to_bin = \"maxdeutsch1\"\n",
    "majority_value = org_train[colname_to_bin].mode()[0]\n",
    "\n",
    "org_test[\"majmin\"] = np.where(org_test[colname_to_bin] == majority_value, \"majority\", \"minority\")"
   ]
  },
  {
   "cell_type": "code",
   "execution_count": 58,
   "id": "17e3e4d5",
   "metadata": {
    "execution": {
     "iopub.execute_input": "2025-08-19T18:08:40.129768Z",
     "iopub.status.busy": "2025-08-19T18:08:40.121736Z",
     "iopub.status.idle": "2025-08-19T18:08:41.925973Z",
     "shell.execute_reply": "2025-08-19T18:08:41.924764Z"
    },
    "papermill": {
     "duration": 1.82023,
     "end_time": "2025-08-19T18:08:41.927541",
     "exception": false,
     "start_time": "2025-08-19T18:08:40.107311",
     "status": "completed"
    },
    "tags": []
   },
   "outputs": [],
   "source": [
    "example_universe = universe.copy()\n",
    "example_universe[\"cutoff\"] = example_universe[\"cutoff\"][0]\n",
    "example_universe[\"eval_fairness_grouping\"] = example_universe[\"eval_fairness_grouping\"][0]\n",
    "fairness_dict, metric_frame = universe_analysis.compute_metrics(\n",
    "    example_universe,\n",
    "    y_pred_prob=probs_test,\n",
    "    y_test=y_true,\n",
    "    org_test=org_test,\n",
    ")"
   ]
  },
  {
   "cell_type": "markdown",
   "id": "1fb7a0e9",
   "metadata": {
    "papermill": {
     "duration": 0.012351,
     "end_time": "2025-08-19T18:08:41.957358",
     "exception": false,
     "start_time": "2025-08-19T18:08:41.945007",
     "status": "completed"
    },
    "tags": []
   },
   "source": [
    "# Overall"
   ]
  },
  {
   "cell_type": "markdown",
   "id": "be1784b1",
   "metadata": {
    "papermill": {
     "duration": 0.01195,
     "end_time": "2025-08-19T18:08:41.981358",
     "exception": false,
     "start_time": "2025-08-19T18:08:41.969408",
     "status": "completed"
    },
    "tags": []
   },
   "source": [
    "Main fairness target: Equalized Odds. Seems to be a better fit than equal opportunity, since we're not only interested in Y = 1. Seems to be a better fit than demographic parity, since we also care about accuracy, not just equal distribution of preds.\n",
    "\n",
    "Pick column for computation of fairness metrics\n",
    "\n",
    "Performance\n",
    "Overall performance measures, most interesting in relation to the measures split by group below"
   ]
  },
  {
   "cell_type": "code",
   "execution_count": 59,
   "id": "b7672bee",
   "metadata": {
    "execution": {
     "iopub.execute_input": "2025-08-19T18:08:42.008546Z",
     "iopub.status.busy": "2025-08-19T18:08:42.007966Z",
     "iopub.status.idle": "2025-08-19T18:08:42.022927Z",
     "shell.execute_reply": "2025-08-19T18:08:42.021966Z"
    },
    "papermill": {
     "duration": 0.030496,
     "end_time": "2025-08-19T18:08:42.024139",
     "exception": false,
     "start_time": "2025-08-19T18:08:41.993643",
     "status": "completed"
    },
    "tags": []
   },
   "outputs": [
    {
     "data": {
      "text/plain": [
       "accuracy                   0.217267\n",
       "balanced accuracy          0.532736\n",
       "f1                         0.238794\n",
       "precision                  0.136415\n",
       "false positive rate        0.891601\n",
       "false negative rate        0.042927\n",
       "selection rate             0.900000\n",
       "count                  89710.000000\n",
       "dtype: float64"
      ]
     },
     "execution_count": 59,
     "metadata": {},
     "output_type": "execute_result"
    }
   ],
   "source": [
    "metric_frame.overall"
   ]
  },
  {
   "cell_type": "markdown",
   "id": "d93333c9",
   "metadata": {
    "papermill": {
     "duration": 0.014608,
     "end_time": "2025-08-19T18:08:42.053103",
     "exception": false,
     "start_time": "2025-08-19T18:08:42.038495",
     "status": "completed"
    },
    "tags": []
   },
   "source": [
    "By Group"
   ]
  },
  {
   "cell_type": "code",
   "execution_count": 60,
   "id": "52256966",
   "metadata": {
    "execution": {
     "iopub.execute_input": "2025-08-19T18:08:42.081949Z",
     "iopub.status.busy": "2025-08-19T18:08:42.080809Z",
     "iopub.status.idle": "2025-08-19T18:08:42.272725Z",
     "shell.execute_reply": "2025-08-19T18:08:42.271979Z"
    },
    "papermill": {
     "duration": 0.208431,
     "end_time": "2025-08-19T18:08:42.274132",
     "exception": false,
     "start_time": "2025-08-19T18:08:42.065701",
     "status": "completed"
    },
    "tags": []
   },
   "outputs": [
    {
     "data": {
      "text/html": [
       "<div>\n",
       "<style scoped>\n",
       "    .dataframe tbody tr th:only-of-type {\n",
       "        vertical-align: middle;\n",
       "    }\n",
       "\n",
       "    .dataframe tbody tr th {\n",
       "        vertical-align: top;\n",
       "    }\n",
       "\n",
       "    .dataframe thead th {\n",
       "        text-align: right;\n",
       "    }\n",
       "</style>\n",
       "<table border=\"1\" class=\"dataframe\">\n",
       "  <thead>\n",
       "    <tr style=\"text-align: right;\">\n",
       "      <th></th>\n",
       "      <th>accuracy</th>\n",
       "      <th>balanced accuracy</th>\n",
       "      <th>f1</th>\n",
       "      <th>precision</th>\n",
       "      <th>false positive rate</th>\n",
       "      <th>false negative rate</th>\n",
       "      <th>selection rate</th>\n",
       "      <th>count</th>\n",
       "    </tr>\n",
       "    <tr>\n",
       "      <th>majmin</th>\n",
       "      <th></th>\n",
       "      <th></th>\n",
       "      <th></th>\n",
       "      <th></th>\n",
       "      <th></th>\n",
       "      <th></th>\n",
       "      <th></th>\n",
       "      <th></th>\n",
       "    </tr>\n",
       "  </thead>\n",
       "  <tbody>\n",
       "    <tr>\n",
       "      <th>majority</th>\n",
       "      <td>0.239728</td>\n",
       "      <td>0.540607</td>\n",
       "      <td>0.248163</td>\n",
       "      <td>0.142733</td>\n",
       "      <td>0.868349</td>\n",
       "      <td>0.050438</td>\n",
       "      <td>0.879081</td>\n",
       "      <td>69170.0</td>\n",
       "    </tr>\n",
       "    <tr>\n",
       "      <th>minority</th>\n",
       "      <td>0.141626</td>\n",
       "      <td>0.508826</td>\n",
       "      <td>0.209408</td>\n",
       "      <td>0.117142</td>\n",
       "      <td>0.968413</td>\n",
       "      <td>0.013936</td>\n",
       "      <td>0.970448</td>\n",
       "      <td>20540.0</td>\n",
       "    </tr>\n",
       "  </tbody>\n",
       "</table>\n",
       "</div>"
      ],
      "text/plain": [
       "          accuracy  balanced accuracy        f1  precision  \\\n",
       "majmin                                                       \n",
       "majority  0.239728           0.540607  0.248163   0.142733   \n",
       "minority  0.141626           0.508826  0.209408   0.117142   \n",
       "\n",
       "          false positive rate  false negative rate  selection rate    count  \n",
       "majmin                                                                       \n",
       "majority             0.868349             0.050438        0.879081  69170.0  \n",
       "minority             0.968413             0.013936        0.970448  20540.0  "
      ]
     },
     "execution_count": 60,
     "metadata": {},
     "output_type": "execute_result"
    }
   ],
   "source": [
    "metric_frame.by_group"
   ]
  },
  {
   "cell_type": "code",
   "execution_count": 61,
   "id": "6e6c20ae",
   "metadata": {
    "execution": {
     "iopub.execute_input": "2025-08-19T18:08:42.302744Z",
     "iopub.status.busy": "2025-08-19T18:08:42.302347Z",
     "iopub.status.idle": "2025-08-19T18:08:44.288054Z",
     "shell.execute_reply": "2025-08-19T18:08:44.287119Z"
    },
    "papermill": {
     "duration": 2.000719,
     "end_time": "2025-08-19T18:08:44.289487",
     "exception": false,
     "start_time": "2025-08-19T18:08:42.288768",
     "status": "completed"
    },
    "tags": []
   },
   "outputs": [
    {
     "data": {
      "text/plain": [
       "array([[<Axes: title={'center': 'accuracy'}, xlabel='majmin'>,\n",
       "        <Axes: title={'center': 'balanced accuracy'}, xlabel='majmin'>,\n",
       "        <Axes: title={'center': 'f1'}, xlabel='majmin'>],\n",
       "       [<Axes: title={'center': 'precision'}, xlabel='majmin'>,\n",
       "        <Axes: title={'center': 'false positive rate'}, xlabel='majmin'>,\n",
       "        <Axes: title={'center': 'false negative rate'}, xlabel='majmin'>],\n",
       "       [<Axes: title={'center': 'selection rate'}, xlabel='majmin'>,\n",
       "        <Axes: title={'center': 'count'}, xlabel='majmin'>,\n",
       "        <Axes: xlabel='majmin'>]], dtype=object)"
      ]
     },
     "execution_count": 61,
     "metadata": {},
     "output_type": "execute_result"
    },
    {
     "data": {
      "image/png": "[encoded data removed]",
      "text/plain": [
       "<Figure size 1200x800 with 9 Axes>"
      ]
     },
     "metadata": {},
     "output_type": "display_data"
    }
   ],
   "source": [
    "# In a graphic\n",
    "metric_frame.by_group.plot.bar(\n",
    "    subplots=True,\n",
    "    layout=[3, 3],\n",
    "    legend=False,\n",
    "    figsize=[12, 8],\n",
    "    title=\"Show all metrics\",\n",
    ")"
   ]
  },
  {
   "cell_type": "markdown",
   "id": "b2e433ae",
   "metadata": {
    "papermill": {
     "duration": 0.013634,
     "end_time": "2025-08-19T18:08:44.319220",
     "exception": false,
     "start_time": "2025-08-19T18:08:44.305586",
     "status": "completed"
    },
    "tags": []
   },
   "source": [
    "# Final Output"
   ]
  },
  {
   "cell_type": "code",
   "execution_count": 62,
   "id": "3871301e",
   "metadata": {
    "execution": {
     "iopub.execute_input": "2025-08-19T18:08:44.349573Z",
     "iopub.status.busy": "2025-08-19T18:08:44.348714Z",
     "iopub.status.idle": "2025-08-19T18:08:44.357948Z",
     "shell.execute_reply": "2025-08-19T18:08:44.357136Z"
    },
    "papermill": {
     "duration": 0.027238,
     "end_time": "2025-08-19T18:08:44.359913",
     "exception": false,
     "start_time": "2025-08-19T18:08:44.332675",
     "status": "completed"
    },
    "tags": []
   },
   "outputs": [
    {
     "data": {
      "text/plain": [
       "4"
      ]
     },
     "execution_count": 62,
     "metadata": {},
     "output_type": "execute_result"
    }
   ],
   "source": [
    "sub_universes = universe_analysis.generate_sub_universes()\n",
    "len(sub_universes)"
   ]
  },
  {
   "cell_type": "code",
   "execution_count": 63,
   "id": "d9cfdaca",
   "metadata": {
    "execution": {
     "iopub.execute_input": "2025-08-19T18:08:44.388935Z",
     "iopub.status.busy": "2025-08-19T18:08:44.388500Z",
     "iopub.status.idle": "2025-08-19T18:08:44.415457Z",
     "shell.execute_reply": "2025-08-19T18:08:44.414552Z"
    },
    "papermill": {
     "duration": 0.043573,
     "end_time": "2025-08-19T18:08:44.417360",
     "exception": false,
     "start_time": "2025-08-19T18:08:44.373787",
     "status": "completed"
    },
    "tags": []
   },
   "outputs": [],
   "source": [
    "def filter_sub_universe_data(sub_universe, org_test):\n",
    "    # Keep all rows — no filtering\n",
    "    keep_rows_mask = np.ones(org_test.shape[0], dtype=bool)\n",
    "\n",
    "    print(f\"[INFO] Keeping all rows: {keep_rows_mask.sum()} rows retained.\")\n",
    "    return keep_rows_mask"
   ]
  },
  {
   "cell_type": "code",
   "execution_count": 64,
   "id": "2bc31ac1",
   "metadata": {
    "execution": {
     "iopub.execute_input": "2025-08-19T18:08:44.460610Z",
     "iopub.status.busy": "2025-08-19T18:08:44.459226Z",
     "iopub.status.idle": "2025-08-19T18:08:51.335704Z",
     "shell.execute_reply": "2025-08-19T18:08:51.334444Z"
    },
    "papermill": {
     "duration": 6.894835,
     "end_time": "2025-08-19T18:08:51.337823",
     "exception": false,
     "start_time": "2025-08-19T18:08:44.442988",
     "status": "completed"
    },
    "tags": []
   },
   "outputs": [
    {
     "name": "stdout",
     "output_type": "stream",
     "text": [
      "Stopping execution_time clock.\n",
      "[INFO] Keeping all rows: 89710 rows retained.\n"
     ]
    },
    {
     "name": "stdout",
     "output_type": "stream",
     "text": [
      "[INFO] Keeping all rows: 89710 rows retained.\n"
     ]
    },
    {
     "name": "stdout",
     "output_type": "stream",
     "text": [
      "[INFO] Keeping all rows: 89710 rows retained.\n"
     ]
    },
    {
     "name": "stdout",
     "output_type": "stream",
     "text": [
      "[INFO] Keeping all rows: 89710 rows retained.\n"
     ]
    },
    {
     "data": {
      "text/html": [
       "<div>\n",
       "<style scoped>\n",
       "    .dataframe tbody tr th:only-of-type {\n",
       "        vertical-align: middle;\n",
       "    }\n",
       "\n",
       "    .dataframe tbody tr th {\n",
       "        vertical-align: top;\n",
       "    }\n",
       "\n",
       "    .dataframe thead th {\n",
       "        text-align: right;\n",
       "    }\n",
       "</style>\n",
       "<table border=\"1\" class=\"dataframe\">\n",
       "  <thead>\n",
       "    <tr style=\"text-align: right;\">\n",
       "      <th></th>\n",
       "      <th>run_no</th>\n",
       "      <th>universe_id</th>\n",
       "      <th>universe_settings</th>\n",
       "      <th>execution_time</th>\n",
       "      <th>test_size_n</th>\n",
       "      <th>test_size_frac</th>\n",
       "      <th>fair_main_equalized_odds_difference</th>\n",
       "      <th>fair_main_equalized_odds_ratio</th>\n",
       "      <th>fair_main_demographic_parity_difference</th>\n",
       "      <th>fair_main_demographic_parity_ratio</th>\n",
       "      <th>...</th>\n",
       "      <th>perf_grp_precision_0</th>\n",
       "      <th>perf_grp_precision_1</th>\n",
       "      <th>perf_grp_false positive rate_0</th>\n",
       "      <th>perf_grp_false positive rate_1</th>\n",
       "      <th>perf_grp_false negative rate_0</th>\n",
       "      <th>perf_grp_false negative rate_1</th>\n",
       "      <th>perf_grp_selection rate_0</th>\n",
       "      <th>perf_grp_selection rate_1</th>\n",
       "      <th>perf_grp_count_0</th>\n",
       "      <th>perf_grp_count_1</th>\n",
       "    </tr>\n",
       "  </thead>\n",
       "  <tbody>\n",
       "    <tr>\n",
       "      <th>0</th>\n",
       "      <td>3</td>\n",
       "      <td>f7e60d8bf3ee3cfc90e82fb457e1f056</td>\n",
       "      <td>{\"cutoff\": \"quantile_0.1\", \"eval_fairness_grou...</td>\n",
       "      <td>22.955583</td>\n",
       "      <td>89710</td>\n",
       "      <td>1.0</td>\n",
       "      <td>0.100064</td>\n",
       "      <td>0.896672</td>\n",
       "      <td>0.091367</td>\n",
       "      <td>0.90585</td>\n",
       "      <td>...</td>\n",
       "      <td>NaN</td>\n",
       "      <td>NaN</td>\n",
       "      <td>NaN</td>\n",
       "      <td>NaN</td>\n",
       "      <td>NaN</td>\n",
       "      <td>NaN</td>\n",
       "      <td>NaN</td>\n",
       "      <td>NaN</td>\n",
       "      <td>NaN</td>\n",
       "      <td>NaN</td>\n",
       "    </tr>\n",
       "    <tr>\n",
       "      <th>0</th>\n",
       "      <td>3</td>\n",
       "      <td>f7e60d8bf3ee3cfc90e82fb457e1f056</td>\n",
       "      <td>{\"cutoff\": \"quantile_0.1\", \"eval_fairness_grou...</td>\n",
       "      <td>22.955583</td>\n",
       "      <td>89710</td>\n",
       "      <td>1.0</td>\n",
       "      <td>0.100064</td>\n",
       "      <td>0.896672</td>\n",
       "      <td>0.091367</td>\n",
       "      <td>0.90585</td>\n",
       "      <td>...</td>\n",
       "      <td>0.117142</td>\n",
       "      <td>0.142733</td>\n",
       "      <td>0.968413</td>\n",
       "      <td>0.868349</td>\n",
       "      <td>0.013936</td>\n",
       "      <td>0.050438</td>\n",
       "      <td>0.970448</td>\n",
       "      <td>0.879081</td>\n",
       "      <td>20540.0</td>\n",
       "      <td>69170.0</td>\n",
       "    </tr>\n",
       "    <tr>\n",
       "      <th>0</th>\n",
       "      <td>3</td>\n",
       "      <td>f7e60d8bf3ee3cfc90e82fb457e1f056</td>\n",
       "      <td>{\"cutoff\": \"quantile_0.25\", \"eval_fairness_gro...</td>\n",
       "      <td>22.955583</td>\n",
       "      <td>89710</td>\n",
       "      <td>1.0</td>\n",
       "      <td>0.236097</td>\n",
       "      <td>0.741591</td>\n",
       "      <td>0.217976</td>\n",
       "      <td>0.76257</td>\n",
       "      <td>...</td>\n",
       "      <td>NaN</td>\n",
       "      <td>NaN</td>\n",
       "      <td>NaN</td>\n",
       "      <td>NaN</td>\n",
       "      <td>NaN</td>\n",
       "      <td>NaN</td>\n",
       "      <td>NaN</td>\n",
       "      <td>NaN</td>\n",
       "      <td>NaN</td>\n",
       "      <td>NaN</td>\n",
       "    </tr>\n",
       "    <tr>\n",
       "      <th>0</th>\n",
       "      <td>3</td>\n",
       "      <td>f7e60d8bf3ee3cfc90e82fb457e1f056</td>\n",
       "      <td>{\"cutoff\": \"quantile_0.25\", \"eval_fairness_gro...</td>\n",
       "      <td>22.955583</td>\n",
       "      <td>89710</td>\n",
       "      <td>1.0</td>\n",
       "      <td>0.236097</td>\n",
       "      <td>0.741591</td>\n",
       "      <td>0.217976</td>\n",
       "      <td>0.76257</td>\n",
       "      <td>...</td>\n",
       "      <td>0.119531</td>\n",
       "      <td>0.160062</td>\n",
       "      <td>0.913658</td>\n",
       "      <td>0.677561</td>\n",
       "      <td>0.048142</td>\n",
       "      <td>0.151969</td>\n",
       "      <td>0.918062</td>\n",
       "      <td>0.700087</td>\n",
       "      <td>20540.0</td>\n",
       "      <td>69170.0</td>\n",
       "    </tr>\n",
       "  </tbody>\n",
       "</table>\n",
       "<p>4 rows × 50 columns</p>\n",
       "</div>"
      ],
      "text/plain": [
       "  run_no                       universe_id  \\\n",
       "0      3  f7e60d8bf3ee3cfc90e82fb457e1f056   \n",
       "0      3  f7e60d8bf3ee3cfc90e82fb457e1f056   \n",
       "0      3  f7e60d8bf3ee3cfc90e82fb457e1f056   \n",
       "0      3  f7e60d8bf3ee3cfc90e82fb457e1f056   \n",
       "\n",
       "                                   universe_settings  execution_time  \\\n",
       "0  {\"cutoff\": \"quantile_0.1\", \"eval_fairness_grou...       22.955583   \n",
       "0  {\"cutoff\": \"quantile_0.1\", \"eval_fairness_grou...       22.955583   \n",
       "0  {\"cutoff\": \"quantile_0.25\", \"eval_fairness_gro...       22.955583   \n",
       "0  {\"cutoff\": \"quantile_0.25\", \"eval_fairness_gro...       22.955583   \n",
       "\n",
       "   test_size_n  test_size_frac  fair_main_equalized_odds_difference  \\\n",
       "0        89710             1.0                             0.100064   \n",
       "0        89710             1.0                             0.100064   \n",
       "0        89710             1.0                             0.236097   \n",
       "0        89710             1.0                             0.236097   \n",
       "\n",
       "   fair_main_equalized_odds_ratio  fair_main_demographic_parity_difference  \\\n",
       "0                        0.896672                                 0.091367   \n",
       "0                        0.896672                                 0.091367   \n",
       "0                        0.741591                                 0.217976   \n",
       "0                        0.741591                                 0.217976   \n",
       "\n",
       "   fair_main_demographic_parity_ratio  ...  perf_grp_precision_0  \\\n",
       "0                             0.90585  ...                   NaN   \n",
       "0                             0.90585  ...              0.117142   \n",
       "0                             0.76257  ...                   NaN   \n",
       "0                             0.76257  ...              0.119531   \n",
       "\n",
       "   perf_grp_precision_1  perf_grp_false positive rate_0  \\\n",
       "0                   NaN                             NaN   \n",
       "0              0.142733                        0.968413   \n",
       "0                   NaN                             NaN   \n",
       "0              0.160062                        0.913658   \n",
       "\n",
       "   perf_grp_false positive rate_1  perf_grp_false negative rate_0  \\\n",
       "0                             NaN                             NaN   \n",
       "0                        0.868349                        0.013936   \n",
       "0                             NaN                             NaN   \n",
       "0                        0.677561                        0.048142   \n",
       "\n",
       "   perf_grp_false negative rate_1  perf_grp_selection rate_0  \\\n",
       "0                             NaN                        NaN   \n",
       "0                        0.050438                   0.970448   \n",
       "0                             NaN                        NaN   \n",
       "0                        0.151969                   0.918062   \n",
       "\n",
       "   perf_grp_selection rate_1  perf_grp_count_0  perf_grp_count_1  \n",
       "0                        NaN               NaN               NaN  \n",
       "0                   0.879081           20540.0           69170.0  \n",
       "0                        NaN               NaN               NaN  \n",
       "0                   0.700087           20540.0           69170.0  \n",
       "\n",
       "[4 rows x 50 columns]"
      ]
     },
     "execution_count": 64,
     "metadata": {},
     "output_type": "execute_result"
    }
   ],
   "source": [
    "final_output = universe_analysis.generate_final_output(\n",
    "    y_pred_prob=probs_test,\n",
    "    y_test=y_true,\n",
    "    org_test=org_test,\n",
    "    filter_data=filter_sub_universe_data,\n",
    "    cp_metrics_df=cp_metrics_df,\n",
    "    save=True,\n",
    ")\n",
    "final_output"
   ]
  },
  {
   "cell_type": "code",
   "execution_count": null,
   "id": "8b80a1ff",
   "metadata": {
    "papermill": {
     "duration": 0.029974,
     "end_time": "2025-08-19T18:08:51.398189",
     "exception": false,
     "start_time": "2025-08-19T18:08:51.368215",
     "status": "completed"
    },
    "tags": []
   },
   "outputs": [],
   "source": []
  },
  {
   "cell_type": "code",
   "execution_count": null,
   "id": "275c9fad",
   "metadata": {
    "papermill": {
     "duration": 0.014293,
     "end_time": "2025-08-19T18:08:51.428159",
     "exception": false,
     "start_time": "2025-08-19T18:08:51.413866",
     "status": "completed"
    },
    "tags": []
   },
   "outputs": [],
   "source": []
  }
 ],
 "metadata": {
  "celltoolbar": "Tags",
  "kernelspec": {
   "display_name": "Python (CMA Fairness)",
   "language": "python",
   "name": "cma_fair_env"
  },
  "language_info": {
   "codemirror_mode": {
    "name": "ipython",
    "version": 3
   },
   "file_extension": ".py",
   "mimetype": "text/x-python",
   "name": "python",
   "nbconvert_exporter": "python",
   "pygments_lexer": "ipython3",
   "version": "3.10.12"
  },
  "papermill": {
   "default_parameters": {},
   "duration": 33.54099,
   "end_time": "2025-08-19T18:08:52.367812",
   "environment_variables": {},
   "exception": null,
   "input_path": "universe_analysis.ipynb",
   "output_path": "output/runs/3/notebooks/m_3-f7e60d8bf3ee3cfc90e82fb457e1f056.ipynb",
   "parameters": {
    "output_dir": "output",
    "run_no": "3",
    "seed": "2023",
    "universe": "{\"cutoff\": [\"quantile_0.1\", \"quantile_0.25\"], \"eval_fairness_grouping\": [\"majority-minority\", \"nationality-all\"], \"exclude_features\": \"age\", \"exclude_subgroups\": \"keep-all\", \"model\": \"logreg\", \"scale\": \"do-not-scale\", \"training_size\": \"25k\", \"training_year\": \"2012_14\"}",
    "universe_id": "f7e60d8bf3ee3cfc90e82fb457e1f056"
   },
   "start_time": "2025-08-19T18:08:18.826822",
   "version": "2.6.0"
  }
 },
 "nbformat": 4,
 "nbformat_minor": 5
}