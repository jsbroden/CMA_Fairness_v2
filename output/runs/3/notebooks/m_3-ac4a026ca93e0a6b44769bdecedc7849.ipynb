{
 "cells": [
  {
   "cell_type": "markdown",
   "id": "ef23dbb3",
   "metadata": {
    "papermill": {
     "duration": 0.031373,
     "end_time": "2025-08-19T17:53:11.362310",
     "exception": false,
     "start_time": "2025-08-19T17:53:11.330937",
     "status": "completed"
    },
    "tags": []
   },
   "source": [
    "# Setup"
   ]
  },
  {
   "cell_type": "code",
   "execution_count": 1,
   "id": "0bc8e7dc",
   "metadata": {
    "execution": {
     "iopub.execute_input": "2025-08-19T17:53:11.385647Z",
     "iopub.status.busy": "2025-08-19T17:53:11.385250Z",
     "iopub.status.idle": "2025-08-19T17:53:11.397235Z",
     "shell.execute_reply": "2025-08-19T17:53:11.396198Z"
    },
    "papermill": {
     "duration": 0.023531,
     "end_time": "2025-08-19T17:53:11.398448",
     "exception": false,
     "start_time": "2025-08-19T17:53:11.374917",
     "status": "completed"
    },
    "tags": []
   },
   "outputs": [
    {
     "name": "stdout",
     "output_type": "stream",
     "text": [
      "/dss/dsshome1/0C/ra93lal2/cma/CMA_Fairness_v2\n"
     ]
    },
    {
     "name": "stderr",
     "output_type": "stream",
     "text": [
      "/dss/dsshome1/0C/ra93lal2/.local/share/virtualenvs/CMA_Fairness_v2-3j10GkSs/lib/python3.10/site-packages/IPython/core/magics/osm.py:393: UserWarning: This is now an optional IPython functionality, using bookmarks requires you to install the `pickleshare` library.\n",
      "  bkms = self.shell.db.get('bookmarks', {})\n",
      "/dss/dsshome1/0C/ra93lal2/.local/share/virtualenvs/CMA_Fairness_v2-3j10GkSs/lib/python3.10/site-packages/IPython/core/magics/osm.py:417: UserWarning: This is now an optional IPython functionality, setting dhist requires you to install the `pickleshare` library.\n",
      "  self.shell.db['dhist'] = compress_dhist(dhist)[-100:]\n"
     ]
    }
   ],
   "source": [
    "%cd ~/cma/CMA_Fairness_v2"
   ]
  },
  {
   "cell_type": "markdown",
   "id": "9d235661",
   "metadata": {
    "papermill": {
     "duration": 0.009442,
     "end_time": "2025-08-19T17:53:11.419135",
     "exception": false,
     "start_time": "2025-08-19T17:53:11.409693",
     "status": "completed"
    },
    "tags": []
   },
   "source": [
    "The following cell holds the definition of our parameters, these values can be overriden by rendering the with e.g. the following command:\n",
    "\n",
    "papermill -p alpha 0.2 -p ratio 0.3 universe_analysis.ipynb output/test_run.ipynb"
   ]
  },
  {
   "cell_type": "code",
   "execution_count": 2,
   "id": "4a789d8e",
   "metadata": {
    "execution": {
     "iopub.execute_input": "2025-08-19T17:53:11.442004Z",
     "iopub.status.busy": "2025-08-19T17:53:11.440816Z",
     "iopub.status.idle": "2025-08-19T17:53:11.449064Z",
     "shell.execute_reply": "2025-08-19T17:53:11.447729Z"
    },
    "papermill": {
     "duration": 0.022681,
     "end_time": "2025-08-19T17:53:11.450948",
     "exception": false,
     "start_time": "2025-08-19T17:53:11.428267",
     "status": "completed"
    },
    "tags": []
   },
   "outputs": [
    {
     "name": "stdout",
     "output_type": "stream",
     "text": [
      "Current working directory: /dss/dsshome1/0C/ra93lal2/cma/CMA_Fairness_v2\n"
     ]
    }
   ],
   "source": [
    "import os\n",
    "print(\"Current working directory:\", os.getcwd())"
   ]
  },
  {
   "cell_type": "code",
   "execution_count": 3,
   "id": "4132aaed",
   "metadata": {
    "execution": {
     "iopub.execute_input": "2025-08-19T17:53:11.474391Z",
     "iopub.status.busy": "2025-08-19T17:53:11.473242Z",
     "iopub.status.idle": "2025-08-19T17:53:11.895807Z",
     "shell.execute_reply": "2025-08-19T17:53:11.894477Z"
    },
    "papermill": {
     "duration": 0.435356,
     "end_time": "2025-08-19T17:53:11.897819",
     "exception": false,
     "start_time": "2025-08-19T17:53:11.462463",
     "status": "completed"
    },
    "tags": [
     "parameters"
    ]
   },
   "outputs": [],
   "source": [
    "run_no = 0\n",
    "universe_id = \"test\"\n",
    "universe = {\n",
    "    \"training_size\": \"5k\", # \"25k\", \"5k\", \"1k\"\n",
    "    \"training_year\": \"2012_14\", # \"2014\", \"2012_14\", \"2010_14\"\n",
    "    \"scale\": \"scale\", # \"scale\", \"do-not-scale\",\n",
    "    \"model\": \"elasticnet\", # \"logreg\", \"penalized_logreg\", \"rf\", \"gbm\", \"elasticnet\"\n",
    "    \"cutoff\": [\"quantile_0.15\", \"quantile_0.30\"],\n",
    "    \"exclude_features\": \"age\", # \"none\", \"nationality\", \"sex\", \"nationality-sex\", \"age\"\n",
    "    \"exclude_subgroups\": \"drop-non-german\", # \"keep-all\", \"drop-non-german\"\n",
    "    \"eval_fairness_grouping\": [\"majority-minority\", \"nationality-all\"]\n",
    "}\n",
    "\n",
    "output_dir=\"./output\"\n",
    "seed=0"
   ]
  },
  {
   "cell_type": "code",
   "execution_count": 4,
   "id": "e4dc3b09",
   "metadata": {
    "execution": {
     "iopub.execute_input": "2025-08-19T17:53:11.920967Z",
     "iopub.status.busy": "2025-08-19T17:53:11.919909Z",
     "iopub.status.idle": "2025-08-19T17:53:11.927046Z",
     "shell.execute_reply": "2025-08-19T17:53:11.925862Z"
    },
    "papermill": {
     "duration": 0.020593,
     "end_time": "2025-08-19T17:53:11.929008",
     "exception": false,
     "start_time": "2025-08-19T17:53:11.908415",
     "status": "completed"
    },
    "tags": [
     "injected-parameters"
    ]
   },
   "outputs": [],
   "source": [
    "# Parameters\n",
    "universe_id = \"ac4a026ca93e0a6b44769bdecedc7849\"\n",
    "run_no = \"3\"\n",
    "universe = \"{\\\"cutoff\\\": [\\\"quantile_0.1\\\", \\\"quantile_0.25\\\"], \\\"eval_fairness_grouping\\\": [\\\"majority-minority\\\", \\\"nationality-all\\\"], \\\"exclude_features\\\": \\\"sex\\\", \\\"exclude_subgroups\\\": \\\"keep-all\\\", \\\"model\\\": \\\"logreg\\\", \\\"scale\\\": \\\"scale\\\", \\\"training_size\\\": \\\"25k\\\", \\\"training_year\\\": \\\"2014\\\"}\"\n",
    "output_dir = \"output\"\n",
    "seed = \"2023\"\n"
   ]
  },
  {
   "cell_type": "code",
   "execution_count": 5,
   "id": "a5d7941f",
   "metadata": {
    "execution": {
     "iopub.execute_input": "2025-08-19T17:53:11.950570Z",
     "iopub.status.busy": "2025-08-19T17:53:11.949508Z",
     "iopub.status.idle": "2025-08-19T17:53:11.956091Z",
     "shell.execute_reply": "2025-08-19T17:53:11.954893Z"
    },
    "papermill": {
     "duration": 0.018427,
     "end_time": "2025-08-19T17:53:11.957645",
     "exception": false,
     "start_time": "2025-08-19T17:53:11.939218",
     "status": "completed"
    },
    "tags": []
   },
   "outputs": [],
   "source": [
    "import json\n",
    "if isinstance(universe, str):\n",
    "    universe = json.loads(universe)"
   ]
  },
  {
   "cell_type": "code",
   "execution_count": 6,
   "id": "7076ccb1",
   "metadata": {
    "execution": {
     "iopub.execute_input": "2025-08-19T17:53:11.979699Z",
     "iopub.status.busy": "2025-08-19T17:53:11.978823Z",
     "iopub.status.idle": "2025-08-19T17:53:12.032615Z",
     "shell.execute_reply": "2025-08-19T17:53:12.031762Z"
    },
    "papermill": {
     "duration": 0.066691,
     "end_time": "2025-08-19T17:53:12.035129",
     "exception": false,
     "start_time": "2025-08-19T17:53:11.968438",
     "status": "completed"
    },
    "tags": []
   },
   "outputs": [],
   "source": [
    "# Auto-reload the custom package\n",
    "%load_ext autoreload\n",
    "%autoreload 1\n",
    "%aimport fairness_multiverse"
   ]
  },
  {
   "cell_type": "code",
   "execution_count": 7,
   "id": "94c8eb93",
   "metadata": {
    "execution": {
     "iopub.execute_input": "2025-08-19T17:53:12.071234Z",
     "iopub.status.busy": "2025-08-19T17:53:12.070217Z",
     "iopub.status.idle": "2025-08-19T17:53:13.650486Z",
     "shell.execute_reply": "2025-08-19T17:53:13.649708Z"
    },
    "papermill": {
     "duration": 1.595064,
     "end_time": "2025-08-19T17:53:13.652266",
     "exception": false,
     "start_time": "2025-08-19T17:53:12.057202",
     "status": "completed"
    },
    "tags": []
   },
   "outputs": [],
   "source": [
    "from fairness_multiverse.universe import UniverseAnalysis\n",
    "\n",
    "universe_analysis = UniverseAnalysis(\n",
    "    run_no = run_no,\n",
    "    universe_id = universe_id,\n",
    "    universe = universe,\n",
    "    output_dir=output_dir,\n",
    ")"
   ]
  },
  {
   "cell_type": "code",
   "execution_count": 8,
   "id": "2a6381cf",
   "metadata": {
    "execution": {
     "iopub.execute_input": "2025-08-19T17:53:13.674068Z",
     "iopub.status.busy": "2025-08-19T17:53:13.673182Z",
     "iopub.status.idle": "2025-08-19T17:53:13.679151Z",
     "shell.execute_reply": "2025-08-19T17:53:13.678425Z"
    },
    "papermill": {
     "duration": 0.018928,
     "end_time": "2025-08-19T17:53:13.680488",
     "exception": false,
     "start_time": "2025-08-19T17:53:13.661560",
     "status": "completed"
    },
    "tags": []
   },
   "outputs": [
    {
     "name": "stdout",
     "output_type": "stream",
     "text": [
      "Using Seed: 2023\n"
     ]
    }
   ],
   "source": [
    "import numpy as np\n",
    "parsed_seed = int(seed)\n",
    "np.random.seed(parsed_seed)\n",
    "print(f\"Using Seed: {parsed_seed}\")"
   ]
  },
  {
   "cell_type": "markdown",
   "id": "b6e958b4",
   "metadata": {
    "papermill": {
     "duration": 0.009342,
     "end_time": "2025-08-19T17:53:13.700792",
     "exception": false,
     "start_time": "2025-08-19T17:53:13.691450",
     "status": "completed"
    },
    "tags": []
   },
   "source": [
    "# Loading Data"
   ]
  },
  {
   "cell_type": "code",
   "execution_count": 9,
   "id": "98701482",
   "metadata": {
    "execution": {
     "iopub.execute_input": "2025-08-19T17:53:13.721020Z",
     "iopub.status.busy": "2025-08-19T17:53:13.720020Z",
     "iopub.status.idle": "2025-08-19T17:53:24.420148Z",
     "shell.execute_reply": "2025-08-19T17:53:24.419107Z"
    },
    "papermill": {
     "duration": 10.713348,
     "end_time": "2025-08-19T17:53:24.422953",
     "exception": false,
     "start_time": "2025-08-19T17:53:13.709605",
     "status": "completed"
    },
    "tags": []
   },
   "outputs": [
    {
     "name": "stdout",
     "output_type": "stream",
     "text": [
      "Loading SIAB data from cache: data/siab_cached.csv.gz\n"
     ]
    },
    {
     "name": "stdout",
     "output_type": "stream",
     "text": [
      "(643690, 164)\n"
     ]
    }
   ],
   "source": [
    "from pathlib import Path\n",
    "import pandas as pd\n",
    "\n",
    "# File paths\n",
    "raw_file = Path(\"data/raw/siab.csv\")\n",
    "cache_file = Path(\"data/siab_cached.csv.gz\")\n",
    "\n",
    "# Ensure cache directory exists\n",
    "cache_file.parent.mkdir(parents=True, exist_ok=True)\n",
    "\n",
    "# Load with simple caching\n",
    "if cache_file.exists():\n",
    "    print(f\"Loading SIAB data from cache: {cache_file}\")\n",
    "    siab = pd.read_csv(cache_file, compression='gzip')\n",
    "else:\n",
    "    print(f\"Cache not found. Reading raw SIAB data: {raw_file}\")\n",
    "    siab = pd.read_csv(raw_file)\n",
    "    siab.to_csv(cache_file, index=False, compression='gzip')\n",
    "    print(f\"Cached SIAB data to: {cache_file}\")\n",
    "\n",
    "print(siab.shape)"
   ]
  },
  {
   "cell_type": "code",
   "execution_count": 10,
   "id": "058d2abb",
   "metadata": {
    "execution": {
     "iopub.execute_input": "2025-08-19T17:53:24.468022Z",
     "iopub.status.busy": "2025-08-19T17:53:24.467635Z",
     "iopub.status.idle": "2025-08-19T17:53:24.617211Z",
     "shell.execute_reply": "2025-08-19T17:53:24.616339Z"
    },
    "papermill": {
     "duration": 0.172208,
     "end_time": "2025-08-19T17:53:24.619146",
     "exception": false,
     "start_time": "2025-08-19T17:53:24.446938",
     "status": "completed"
    },
    "tags": []
   },
   "outputs": [
    {
     "data": {
      "text/html": [
       "<div>\n",
       "<style scoped>\n",
       "    .dataframe tbody tr th:only-of-type {\n",
       "        vertical-align: middle;\n",
       "    }\n",
       "\n",
       "    .dataframe tbody tr th {\n",
       "        vertical-align: top;\n",
       "    }\n",
       "\n",
       "    .dataframe thead th {\n",
       "        text-align: right;\n",
       "    }\n",
       "</style>\n",
       "<table border=\"1\" class=\"dataframe\">\n",
       "  <thead>\n",
       "    <tr style=\"text-align: right;\">\n",
       "      <th></th>\n",
       "      <th>persnr</th>\n",
       "      <th>year</th>\n",
       "      <th>nrEntry</th>\n",
       "      <th>ltue</th>\n",
       "      <th>employed_before</th>\n",
       "      <th>receipt_leh_before</th>\n",
       "      <th>receipt_lhg_before</th>\n",
       "      <th>se_before</th>\n",
       "      <th>ASU_notue_seeking_before</th>\n",
       "      <th>ASU_other_before</th>\n",
       "      <th>...</th>\n",
       "      <th>minijob_tot_dur_byage</th>\n",
       "      <th>ft_tot_dur_byage</th>\n",
       "      <th>befrist_tot_dur_byage</th>\n",
       "      <th>leih_tot_dur_byage</th>\n",
       "      <th>LHG_tot_dur_byage</th>\n",
       "      <th>LEH_tot_dur_byage</th>\n",
       "      <th>almp_tot_dur_byage</th>\n",
       "      <th>almp_aw_tot_dur_byage</th>\n",
       "      <th>se_tot_dur_byage</th>\n",
       "      <th>seeking1_tot_dur_byage</th>\n",
       "    </tr>\n",
       "  </thead>\n",
       "  <tbody>\n",
       "    <tr>\n",
       "      <th>0</th>\n",
       "      <td>7</td>\n",
       "      <td>2015</td>\n",
       "      <td>1</td>\n",
       "      <td>0</td>\n",
       "      <td>1</td>\n",
       "      <td>0</td>\n",
       "      <td>0</td>\n",
       "      <td>0</td>\n",
       "      <td>1</td>\n",
       "      <td>0</td>\n",
       "      <td>...</td>\n",
       "      <td>0.000000</td>\n",
       "      <td>0.000000</td>\n",
       "      <td>15.043478</td>\n",
       "      <td>0.000000</td>\n",
       "      <td>0.000000</td>\n",
       "      <td>0.000000</td>\n",
       "      <td>0.000000</td>\n",
       "      <td>0.000000</td>\n",
       "      <td>0.000000</td>\n",
       "      <td>0.000000</td>\n",
       "    </tr>\n",
       "    <tr>\n",
       "      <th>1</th>\n",
       "      <td>18</td>\n",
       "      <td>2010</td>\n",
       "      <td>1</td>\n",
       "      <td>1</td>\n",
       "      <td>0</td>\n",
       "      <td>0</td>\n",
       "      <td>0</td>\n",
       "      <td>0</td>\n",
       "      <td>0</td>\n",
       "      <td>0</td>\n",
       "      <td>...</td>\n",
       "      <td>0.000000</td>\n",
       "      <td>0.000000</td>\n",
       "      <td>0.000000</td>\n",
       "      <td>0.000000</td>\n",
       "      <td>0.000000</td>\n",
       "      <td>0.000000</td>\n",
       "      <td>0.000000</td>\n",
       "      <td>0.000000</td>\n",
       "      <td>0.000000</td>\n",
       "      <td>0.000000</td>\n",
       "    </tr>\n",
       "    <tr>\n",
       "      <th>2</th>\n",
       "      <td>18</td>\n",
       "      <td>2011</td>\n",
       "      <td>2</td>\n",
       "      <td>0</td>\n",
       "      <td>1</td>\n",
       "      <td>0</td>\n",
       "      <td>1</td>\n",
       "      <td>0</td>\n",
       "      <td>1</td>\n",
       "      <td>0</td>\n",
       "      <td>...</td>\n",
       "      <td>2.714286</td>\n",
       "      <td>2.714286</td>\n",
       "      <td>0.000000</td>\n",
       "      <td>0.000000</td>\n",
       "      <td>10.775510</td>\n",
       "      <td>0.000000</td>\n",
       "      <td>8.367347</td>\n",
       "      <td>0.000000</td>\n",
       "      <td>0.000000</td>\n",
       "      <td>9.836735</td>\n",
       "    </tr>\n",
       "    <tr>\n",
       "      <th>3</th>\n",
       "      <td>18</td>\n",
       "      <td>2012</td>\n",
       "      <td>3</td>\n",
       "      <td>0</td>\n",
       "      <td>1</td>\n",
       "      <td>0</td>\n",
       "      <td>1</td>\n",
       "      <td>0</td>\n",
       "      <td>1</td>\n",
       "      <td>0</td>\n",
       "      <td>...</td>\n",
       "      <td>4.200000</td>\n",
       "      <td>4.200000</td>\n",
       "      <td>0.000000</td>\n",
       "      <td>0.000000</td>\n",
       "      <td>12.100000</td>\n",
       "      <td>0.000000</td>\n",
       "      <td>9.400000</td>\n",
       "      <td>0.000000</td>\n",
       "      <td>0.000000</td>\n",
       "      <td>9.960000</td>\n",
       "    </tr>\n",
       "    <tr>\n",
       "      <th>4</th>\n",
       "      <td>18</td>\n",
       "      <td>2012</td>\n",
       "      <td>4</td>\n",
       "      <td>0</td>\n",
       "      <td>1</td>\n",
       "      <td>0</td>\n",
       "      <td>1</td>\n",
       "      <td>0</td>\n",
       "      <td>1</td>\n",
       "      <td>0</td>\n",
       "      <td>...</td>\n",
       "      <td>5.460000</td>\n",
       "      <td>5.460000</td>\n",
       "      <td>0.000000</td>\n",
       "      <td>0.000000</td>\n",
       "      <td>13.360000</td>\n",
       "      <td>0.000000</td>\n",
       "      <td>10.320000</td>\n",
       "      <td>0.000000</td>\n",
       "      <td>0.000000</td>\n",
       "      <td>10.280000</td>\n",
       "    </tr>\n",
       "    <tr>\n",
       "      <th>...</th>\n",
       "      <td>...</td>\n",
       "      <td>...</td>\n",
       "      <td>...</td>\n",
       "      <td>...</td>\n",
       "      <td>...</td>\n",
       "      <td>...</td>\n",
       "      <td>...</td>\n",
       "      <td>...</td>\n",
       "      <td>...</td>\n",
       "      <td>...</td>\n",
       "      <td>...</td>\n",
       "      <td>...</td>\n",
       "      <td>...</td>\n",
       "      <td>...</td>\n",
       "      <td>...</td>\n",
       "      <td>...</td>\n",
       "      <td>...</td>\n",
       "      <td>...</td>\n",
       "      <td>...</td>\n",
       "      <td>...</td>\n",
       "      <td>...</td>\n",
       "    </tr>\n",
       "    <tr>\n",
       "      <th>643685</th>\n",
       "      <td>1827860</td>\n",
       "      <td>2013</td>\n",
       "      <td>1</td>\n",
       "      <td>0</td>\n",
       "      <td>0</td>\n",
       "      <td>0</td>\n",
       "      <td>1</td>\n",
       "      <td>0</td>\n",
       "      <td>0</td>\n",
       "      <td>1</td>\n",
       "      <td>...</td>\n",
       "      <td>0.000000</td>\n",
       "      <td>0.000000</td>\n",
       "      <td>0.000000</td>\n",
       "      <td>0.000000</td>\n",
       "      <td>0.612903</td>\n",
       "      <td>0.000000</td>\n",
       "      <td>0.000000</td>\n",
       "      <td>0.000000</td>\n",
       "      <td>0.000000</td>\n",
       "      <td>0.000000</td>\n",
       "    </tr>\n",
       "    <tr>\n",
       "      <th>643686</th>\n",
       "      <td>1827860</td>\n",
       "      <td>2015</td>\n",
       "      <td>2</td>\n",
       "      <td>1</td>\n",
       "      <td>0</td>\n",
       "      <td>0</td>\n",
       "      <td>1</td>\n",
       "      <td>0</td>\n",
       "      <td>1</td>\n",
       "      <td>0</td>\n",
       "      <td>...</td>\n",
       "      <td>0.000000</td>\n",
       "      <td>0.000000</td>\n",
       "      <td>0.212121</td>\n",
       "      <td>0.212121</td>\n",
       "      <td>17.363636</td>\n",
       "      <td>0.000000</td>\n",
       "      <td>8.909091</td>\n",
       "      <td>0.000000</td>\n",
       "      <td>0.000000</td>\n",
       "      <td>7.121212</td>\n",
       "    </tr>\n",
       "    <tr>\n",
       "      <th>643687</th>\n",
       "      <td>1827860</td>\n",
       "      <td>2016</td>\n",
       "      <td>3</td>\n",
       "      <td>1</td>\n",
       "      <td>0</td>\n",
       "      <td>0</td>\n",
       "      <td>1</td>\n",
       "      <td>1</td>\n",
       "      <td>0</td>\n",
       "      <td>1</td>\n",
       "      <td>...</td>\n",
       "      <td>0.000000</td>\n",
       "      <td>0.000000</td>\n",
       "      <td>0.294118</td>\n",
       "      <td>0.205882</td>\n",
       "      <td>34.705882</td>\n",
       "      <td>0.000000</td>\n",
       "      <td>10.352941</td>\n",
       "      <td>1.705882</td>\n",
       "      <td>1.705882</td>\n",
       "      <td>23.911765</td>\n",
       "    </tr>\n",
       "    <tr>\n",
       "      <th>643688</th>\n",
       "      <td>1827869</td>\n",
       "      <td>2013</td>\n",
       "      <td>1</td>\n",
       "      <td>1</td>\n",
       "      <td>1</td>\n",
       "      <td>0</td>\n",
       "      <td>0</td>\n",
       "      <td>0</td>\n",
       "      <td>1</td>\n",
       "      <td>0</td>\n",
       "      <td>...</td>\n",
       "      <td>0.000000</td>\n",
       "      <td>0.000000</td>\n",
       "      <td>0.000000</td>\n",
       "      <td>0.000000</td>\n",
       "      <td>0.000000</td>\n",
       "      <td>0.525424</td>\n",
       "      <td>0.000000</td>\n",
       "      <td>0.000000</td>\n",
       "      <td>0.000000</td>\n",
       "      <td>0.000000</td>\n",
       "    </tr>\n",
       "    <tr>\n",
       "      <th>643689</th>\n",
       "      <td>1827869</td>\n",
       "      <td>2014</td>\n",
       "      <td>2</td>\n",
       "      <td>0</td>\n",
       "      <td>0</td>\n",
       "      <td>1</td>\n",
       "      <td>0</td>\n",
       "      <td>0</td>\n",
       "      <td>1</td>\n",
       "      <td>0</td>\n",
       "      <td>...</td>\n",
       "      <td>0.000000</td>\n",
       "      <td>0.666667</td>\n",
       "      <td>0.666667</td>\n",
       "      <td>0.000000</td>\n",
       "      <td>0.000000</td>\n",
       "      <td>8.950000</td>\n",
       "      <td>1.033333</td>\n",
       "      <td>0.083333</td>\n",
       "      <td>0.083333</td>\n",
       "      <td>8.133333</td>\n",
       "    </tr>\n",
       "  </tbody>\n",
       "</table>\n",
       "<p>643690 rows × 164 columns</p>\n",
       "</div>"
      ],
      "text/plain": [
       "         persnr  year  nrEntry  ltue  employed_before  receipt_leh_before  \\\n",
       "0             7  2015        1     0                1                   0   \n",
       "1            18  2010        1     1                0                   0   \n",
       "2            18  2011        2     0                1                   0   \n",
       "3            18  2012        3     0                1                   0   \n",
       "4            18  2012        4     0                1                   0   \n",
       "...         ...   ...      ...   ...              ...                 ...   \n",
       "643685  1827860  2013        1     0                0                   0   \n",
       "643686  1827860  2015        2     1                0                   0   \n",
       "643687  1827860  2016        3     1                0                   0   \n",
       "643688  1827869  2013        1     1                1                   0   \n",
       "643689  1827869  2014        2     0                0                   1   \n",
       "\n",
       "        receipt_lhg_before  se_before  ASU_notue_seeking_before  \\\n",
       "0                        0          0                         1   \n",
       "1                        0          0                         0   \n",
       "2                        1          0                         1   \n",
       "3                        1          0                         1   \n",
       "4                        1          0                         1   \n",
       "...                    ...        ...                       ...   \n",
       "643685                   1          0                         0   \n",
       "643686                   1          0                         1   \n",
       "643687                   1          1                         0   \n",
       "643688                   0          0                         1   \n",
       "643689                   0          0                         1   \n",
       "\n",
       "        ASU_other_before  ...  minijob_tot_dur_byage  ft_tot_dur_byage  \\\n",
       "0                      0  ...               0.000000          0.000000   \n",
       "1                      0  ...               0.000000          0.000000   \n",
       "2                      0  ...               2.714286          2.714286   \n",
       "3                      0  ...               4.200000          4.200000   \n",
       "4                      0  ...               5.460000          5.460000   \n",
       "...                  ...  ...                    ...               ...   \n",
       "643685                 1  ...               0.000000          0.000000   \n",
       "643686                 0  ...               0.000000          0.000000   \n",
       "643687                 1  ...               0.000000          0.000000   \n",
       "643688                 0  ...               0.000000          0.000000   \n",
       "643689                 0  ...               0.000000          0.666667   \n",
       "\n",
       "        befrist_tot_dur_byage  leih_tot_dur_byage  LHG_tot_dur_byage  \\\n",
       "0                   15.043478            0.000000           0.000000   \n",
       "1                    0.000000            0.000000           0.000000   \n",
       "2                    0.000000            0.000000          10.775510   \n",
       "3                    0.000000            0.000000          12.100000   \n",
       "4                    0.000000            0.000000          13.360000   \n",
       "...                       ...                 ...                ...   \n",
       "643685               0.000000            0.000000           0.612903   \n",
       "643686               0.212121            0.212121          17.363636   \n",
       "643687               0.294118            0.205882          34.705882   \n",
       "643688               0.000000            0.000000           0.000000   \n",
       "643689               0.666667            0.000000           0.000000   \n",
       "\n",
       "        LEH_tot_dur_byage  almp_tot_dur_byage  almp_aw_tot_dur_byage  \\\n",
       "0                0.000000            0.000000               0.000000   \n",
       "1                0.000000            0.000000               0.000000   \n",
       "2                0.000000            8.367347               0.000000   \n",
       "3                0.000000            9.400000               0.000000   \n",
       "4                0.000000           10.320000               0.000000   \n",
       "...                   ...                 ...                    ...   \n",
       "643685           0.000000            0.000000               0.000000   \n",
       "643686           0.000000            8.909091               0.000000   \n",
       "643687           0.000000           10.352941               1.705882   \n",
       "643688           0.525424            0.000000               0.000000   \n",
       "643689           8.950000            1.033333               0.083333   \n",
       "\n",
       "        se_tot_dur_byage  seeking1_tot_dur_byage  \n",
       "0               0.000000                0.000000  \n",
       "1               0.000000                0.000000  \n",
       "2               0.000000                9.836735  \n",
       "3               0.000000                9.960000  \n",
       "4               0.000000               10.280000  \n",
       "...                  ...                     ...  \n",
       "643685          0.000000                0.000000  \n",
       "643686          0.000000                7.121212  \n",
       "643687          1.705882               23.911765  \n",
       "643688          0.000000                0.000000  \n",
       "643689          0.083333                8.133333  \n",
       "\n",
       "[643690 rows x 164 columns]"
      ]
     },
     "execution_count": 10,
     "metadata": {},
     "output_type": "execute_result"
    }
   ],
   "source": [
    "siab"
   ]
  },
  {
   "cell_type": "markdown",
   "id": "1f87e805",
   "metadata": {
    "papermill": {
     "duration": 0.009473,
     "end_time": "2025-08-19T17:53:24.642539",
     "exception": false,
     "start_time": "2025-08-19T17:53:24.633066",
     "status": "completed"
    },
    "tags": []
   },
   "source": [
    "# Splitting Data and Setting Training Data Size"
   ]
  },
  {
   "cell_type": "code",
   "execution_count": 11,
   "id": "910ae358",
   "metadata": {
    "execution": {
     "iopub.execute_input": "2025-08-19T17:53:24.665062Z",
     "iopub.status.busy": "2025-08-19T17:53:24.663793Z",
     "iopub.status.idle": "2025-08-19T17:53:25.036453Z",
     "shell.execute_reply": "2025-08-19T17:53:25.035427Z"
    },
    "papermill": {
     "duration": 0.38593,
     "end_time": "2025-08-19T17:53:25.038416",
     "exception": false,
     "start_time": "2025-08-19T17:53:24.652486",
     "status": "completed"
    },
    "tags": []
   },
   "outputs": [],
   "source": [
    "from fairness_multiverse.universe import sample_by_year_size\n",
    "\n",
    "siab_train = sample_by_year_size(siab,\n",
    "                               training_year=universe[\"training_year\"],\n",
    "                               training_size=universe[\"training_size\"])"
   ]
  },
  {
   "cell_type": "code",
   "execution_count": 12,
   "id": "919c8ff5",
   "metadata": {
    "execution": {
     "iopub.execute_input": "2025-08-19T17:53:25.062444Z",
     "iopub.status.busy": "2025-08-19T17:53:25.061262Z",
     "iopub.status.idle": "2025-08-19T17:53:25.072226Z",
     "shell.execute_reply": "2025-08-19T17:53:25.070474Z"
    },
    "papermill": {
     "duration": 0.023308,
     "end_time": "2025-08-19T17:53:25.073973",
     "exception": false,
     "start_time": "2025-08-19T17:53:25.050665",
     "status": "completed"
    },
    "tags": []
   },
   "outputs": [
    {
     "data": {
      "text/plain": [
       "(25000, 164)"
      ]
     },
     "execution_count": 12,
     "metadata": {},
     "output_type": "execute_result"
    }
   ],
   "source": [
    "siab_train.shape"
   ]
  },
  {
   "cell_type": "code",
   "execution_count": 13,
   "id": "feb13bf4",
   "metadata": {
    "execution": {
     "iopub.execute_input": "2025-08-19T17:53:25.102077Z",
     "iopub.status.busy": "2025-08-19T17:53:25.101199Z",
     "iopub.status.idle": "2025-08-19T17:53:25.114787Z",
     "shell.execute_reply": "2025-08-19T17:53:25.113792Z"
    },
    "papermill": {
     "duration": 0.030044,
     "end_time": "2025-08-19T17:53:25.116419",
     "exception": false,
     "start_time": "2025-08-19T17:53:25.086375",
     "status": "completed"
    },
    "tags": []
   },
   "outputs": [
    {
     "data": {
      "text/plain": [
       "year\n",
       "2014    25000\n",
       "dtype: int64"
      ]
     },
     "metadata": {},
     "output_type": "display_data"
    }
   ],
   "source": [
    "display(siab_train.groupby(\"year\").size())"
   ]
  },
  {
   "cell_type": "code",
   "execution_count": 14,
   "id": "0997782f",
   "metadata": {
    "execution": {
     "iopub.execute_input": "2025-08-19T17:53:25.141854Z",
     "iopub.status.busy": "2025-08-19T17:53:25.140815Z",
     "iopub.status.idle": "2025-08-19T17:53:25.572375Z",
     "shell.execute_reply": "2025-08-19T17:53:25.571378Z"
    },
    "papermill": {
     "duration": 0.445022,
     "end_time": "2025-08-19T17:53:25.573967",
     "exception": false,
     "start_time": "2025-08-19T17:53:25.128945",
     "status": "completed"
    },
    "tags": []
   },
   "outputs": [],
   "source": [
    "#siab_train = siab_s[siab_s.year < 2015]\n",
    "siab_calib = siab[siab.year == 2015]\n",
    "siab_test = siab[siab.year == 2016]"
   ]
  },
  {
   "cell_type": "code",
   "execution_count": 15,
   "id": "2c1e4012",
   "metadata": {
    "execution": {
     "iopub.execute_input": "2025-08-19T17:53:25.596911Z",
     "iopub.status.busy": "2025-08-19T17:53:25.595849Z",
     "iopub.status.idle": "2025-08-19T17:53:25.602463Z",
     "shell.execute_reply": "2025-08-19T17:53:25.600669Z"
    },
    "papermill": {
     "duration": 0.020565,
     "end_time": "2025-08-19T17:53:25.604620",
     "exception": false,
     "start_time": "2025-08-19T17:53:25.584055",
     "status": "completed"
    },
    "tags": []
   },
   "outputs": [],
   "source": [
    "#siab_calib.shape"
   ]
  },
  {
   "cell_type": "code",
   "execution_count": 16,
   "id": "f66b54ca",
   "metadata": {
    "execution": {
     "iopub.execute_input": "2025-08-19T17:53:25.634567Z",
     "iopub.status.busy": "2025-08-19T17:53:25.633883Z",
     "iopub.status.idle": "2025-08-19T17:53:25.642979Z",
     "shell.execute_reply": "2025-08-19T17:53:25.641397Z"
    },
    "papermill": {
     "duration": 0.025462,
     "end_time": "2025-08-19T17:53:25.644387",
     "exception": false,
     "start_time": "2025-08-19T17:53:25.618925",
     "status": "completed"
    },
    "tags": []
   },
   "outputs": [],
   "source": [
    "#siab_test.shape"
   ]
  },
  {
   "cell_type": "code",
   "execution_count": 17,
   "id": "27e4384d",
   "metadata": {
    "execution": {
     "iopub.execute_input": "2025-08-19T17:53:25.680316Z",
     "iopub.status.busy": "2025-08-19T17:53:25.679108Z",
     "iopub.status.idle": "2025-08-19T17:53:25.772111Z",
     "shell.execute_reply": "2025-08-19T17:53:25.770876Z"
    },
    "papermill": {
     "duration": 0.108362,
     "end_time": "2025-08-19T17:53:25.775167",
     "exception": false,
     "start_time": "2025-08-19T17:53:25.666805",
     "status": "completed"
    },
    "tags": []
   },
   "outputs": [],
   "source": [
    "X_train = siab_train.iloc[:,4:164]\n",
    "y_train = siab_train.iloc[:, [3]]"
   ]
  },
  {
   "cell_type": "code",
   "execution_count": 18,
   "id": "08ee8389",
   "metadata": {
    "execution": {
     "iopub.execute_input": "2025-08-19T17:53:25.849785Z",
     "iopub.status.busy": "2025-08-19T17:53:25.848182Z",
     "iopub.status.idle": "2025-08-19T17:53:25.929327Z",
     "shell.execute_reply": "2025-08-19T17:53:25.928520Z"
    },
    "papermill": {
     "duration": 0.114884,
     "end_time": "2025-08-19T17:53:25.932922",
     "exception": false,
     "start_time": "2025-08-19T17:53:25.818038",
     "status": "completed"
    },
    "tags": []
   },
   "outputs": [],
   "source": [
    "X_calib = siab_calib.iloc[:,4:164]\n",
    "y_calib = siab_calib.iloc[:, [3]]"
   ]
  },
  {
   "cell_type": "code",
   "execution_count": 19,
   "id": "b7ff42e0",
   "metadata": {
    "execution": {
     "iopub.execute_input": "2025-08-19T17:53:25.969908Z",
     "iopub.status.busy": "2025-08-19T17:53:25.969121Z",
     "iopub.status.idle": "2025-08-19T17:53:26.019536Z",
     "shell.execute_reply": "2025-08-19T17:53:26.018853Z"
    },
    "papermill": {
     "duration": 0.063642,
     "end_time": "2025-08-19T17:53:26.021006",
     "exception": false,
     "start_time": "2025-08-19T17:53:25.957364",
     "status": "completed"
    },
    "tags": []
   },
   "outputs": [],
   "source": [
    "X_test = siab_test.iloc[:,4:164]\n",
    "y_true = siab_test.iloc[:, [3]]"
   ]
  },
  {
   "cell_type": "code",
   "execution_count": 20,
   "id": "0275101e",
   "metadata": {
    "execution": {
     "iopub.execute_input": "2025-08-19T17:53:26.044644Z",
     "iopub.status.busy": "2025-08-19T17:53:26.044012Z",
     "iopub.status.idle": "2025-08-19T17:53:26.169518Z",
     "shell.execute_reply": "2025-08-19T17:53:26.168884Z"
    },
    "papermill": {
     "duration": 0.139601,
     "end_time": "2025-08-19T17:53:26.171030",
     "exception": false,
     "start_time": "2025-08-19T17:53:26.031429",
     "status": "completed"
    },
    "tags": []
   },
   "outputs": [],
   "source": [
    "# Auxiliary data needed downstream in the pipeline\n",
    "\n",
    "org_train = X_train.copy()\n",
    "org_test = X_test.copy()\n",
    "org_calib = X_calib.copy()"
   ]
  },
  {
   "cell_type": "markdown",
   "id": "b461e618",
   "metadata": {
    "papermill": {
     "duration": 0.111586,
     "end_time": "2025-08-19T17:53:26.293352",
     "exception": false,
     "start_time": "2025-08-19T17:53:26.181766",
     "status": "completed"
    },
    "tags": []
   },
   "source": [
    "# Preprocessing Data"
   ]
  },
  {
   "cell_type": "code",
   "execution_count": 21,
   "id": "78e74c4b",
   "metadata": {
    "execution": {
     "iopub.execute_input": "2025-08-19T17:53:26.315354Z",
     "iopub.status.busy": "2025-08-19T17:53:26.314737Z",
     "iopub.status.idle": "2025-08-19T17:53:26.319199Z",
     "shell.execute_reply": "2025-08-19T17:53:26.318633Z"
    },
    "papermill": {
     "duration": 0.017412,
     "end_time": "2025-08-19T17:53:26.320924",
     "exception": false,
     "start_time": "2025-08-19T17:53:26.303512",
     "status": "completed"
    },
    "tags": []
   },
   "outputs": [],
   "source": [
    "# EXCLUDE PROTECTED FEATURES\n",
    "# --------------------------\n",
    "\n",
    "excluded_features = universe[\"exclude_features\"].split(\"-\")\n",
    "excluded_features_dictionary = {\n",
    "    \"nationality\": [\"maxdeutsch1\", \"maxdeutsch.Missing.\"],\n",
    "    \"sex\": [\"frau1\"],\n",
    "    \"age\": [\"age\"],\n",
    "}"
   ]
  },
  {
   "cell_type": "code",
   "execution_count": 22,
   "id": "f8e63555",
   "metadata": {
    "execution": {
     "iopub.execute_input": "2025-08-19T17:53:26.342722Z",
     "iopub.status.busy": "2025-08-19T17:53:26.342230Z",
     "iopub.status.idle": "2025-08-19T17:53:26.366623Z",
     "shell.execute_reply": "2025-08-19T17:53:26.365865Z"
    },
    "papermill": {
     "duration": 0.037138,
     "end_time": "2025-08-19T17:53:26.368426",
     "exception": false,
     "start_time": "2025-08-19T17:53:26.331288",
     "status": "completed"
    },
    "tags": []
   },
   "outputs": [],
   "source": [
    "excluded_features_columns = [\n",
    "    excluded_features_dictionary[f] for f in excluded_features if len(f) > 0 and f != \"none\"\n",
    "]"
   ]
  },
  {
   "cell_type": "code",
   "execution_count": 23,
   "id": "da781f7c",
   "metadata": {
    "execution": {
     "iopub.execute_input": "2025-08-19T17:53:26.399720Z",
     "iopub.status.busy": "2025-08-19T17:53:26.399304Z",
     "iopub.status.idle": "2025-08-19T17:53:26.403640Z",
     "shell.execute_reply": "2025-08-19T17:53:26.403072Z"
    },
    "papermill": {
     "duration": 0.018084,
     "end_time": "2025-08-19T17:53:26.404896",
     "exception": false,
     "start_time": "2025-08-19T17:53:26.386812",
     "status": "completed"
    },
    "tags": []
   },
   "outputs": [],
   "source": [
    "from fairness_multiverse.universe import flatten_once\n",
    "\n",
    "excluded_features_columns = flatten_once(excluded_features_columns)"
   ]
  },
  {
   "cell_type": "code",
   "execution_count": 24,
   "id": "37fef0f0",
   "metadata": {
    "execution": {
     "iopub.execute_input": "2025-08-19T17:53:26.427099Z",
     "iopub.status.busy": "2025-08-19T17:53:26.426733Z",
     "iopub.status.idle": "2025-08-19T17:53:26.462108Z",
     "shell.execute_reply": "2025-08-19T17:53:26.461205Z"
    },
    "papermill": {
     "duration": 0.048136,
     "end_time": "2025-08-19T17:53:26.463480",
     "exception": false,
     "start_time": "2025-08-19T17:53:26.415344",
     "status": "completed"
    },
    "tags": []
   },
   "outputs": [
    {
     "name": "stdout",
     "output_type": "stream",
     "text": [
      "Dropping features: ['frau1']\n"
     ]
    }
   ],
   "source": [
    "if len(excluded_features_columns) > 0:\n",
    "    print(f\"Dropping features: {excluded_features_columns}\")\n",
    "    X_train.drop(excluded_features_columns, axis=1, inplace=True)"
   ]
  },
  {
   "cell_type": "code",
   "execution_count": 25,
   "id": "d029e3e9",
   "metadata": {
    "execution": {
     "iopub.execute_input": "2025-08-19T17:53:26.489293Z",
     "iopub.status.busy": "2025-08-19T17:53:26.488686Z",
     "iopub.status.idle": "2025-08-19T17:53:26.976556Z",
     "shell.execute_reply": "2025-08-19T17:53:26.975211Z"
    },
    "papermill": {
     "duration": 0.504358,
     "end_time": "2025-08-19T17:53:26.979046",
     "exception": false,
     "start_time": "2025-08-19T17:53:26.474688",
     "status": "completed"
    },
    "tags": []
   },
   "outputs": [
    {
     "name": "stdout",
     "output_type": "stream",
     "text": [
      "Dropping features: ['frau1']\n"
     ]
    }
   ],
   "source": [
    "if len(excluded_features_columns) > 0:\n",
    "    print(f\"Dropping features: {excluded_features_columns}\")\n",
    "    X_test.drop(excluded_features_columns, axis=1, inplace=True)"
   ]
  },
  {
   "cell_type": "code",
   "execution_count": 26,
   "id": "01d571f0",
   "metadata": {
    "execution": {
     "iopub.execute_input": "2025-08-19T17:53:27.020891Z",
     "iopub.status.busy": "2025-08-19T17:53:27.020162Z",
     "iopub.status.idle": "2025-08-19T17:53:27.086277Z",
     "shell.execute_reply": "2025-08-19T17:53:27.085687Z"
    },
    "papermill": {
     "duration": 0.08558,
     "end_time": "2025-08-19T17:53:27.089191",
     "exception": false,
     "start_time": "2025-08-19T17:53:27.003611",
     "status": "completed"
    },
    "tags": []
   },
   "outputs": [
    {
     "name": "stdout",
     "output_type": "stream",
     "text": [
      "Dropping features: ['frau1']\n"
     ]
    }
   ],
   "source": [
    "if len(excluded_features_columns) > 0:\n",
    "    print(f\"Dropping features: {excluded_features_columns}\")\n",
    "    X_calib.drop(excluded_features_columns, axis=1, inplace=True)"
   ]
  },
  {
   "cell_type": "code",
   "execution_count": 27,
   "id": "3037356e",
   "metadata": {
    "execution": {
     "iopub.execute_input": "2025-08-19T17:53:27.126025Z",
     "iopub.status.busy": "2025-08-19T17:53:27.125563Z",
     "iopub.status.idle": "2025-08-19T17:53:27.129617Z",
     "shell.execute_reply": "2025-08-19T17:53:27.129014Z"
    },
    "papermill": {
     "duration": 0.018452,
     "end_time": "2025-08-19T17:53:27.130596",
     "exception": false,
     "start_time": "2025-08-19T17:53:27.112144",
     "status": "completed"
    },
    "tags": []
   },
   "outputs": [],
   "source": [
    "# EXCLUDE CERTAIN SUBGROUPS\n",
    "# -------------------------\n",
    "\n",
    "mode = universe.get(\"exclude_subgroups\", \"keep-all\") # Defaults to \"keep-all\" if the key is missing."
   ]
  },
  {
   "cell_type": "code",
   "execution_count": 28,
   "id": "9d1e63fd",
   "metadata": {
    "execution": {
     "iopub.execute_input": "2025-08-19T17:53:27.153557Z",
     "iopub.status.busy": "2025-08-19T17:53:27.152775Z",
     "iopub.status.idle": "2025-08-19T17:53:27.160738Z",
     "shell.execute_reply": "2025-08-19T17:53:27.160154Z"
    },
    "papermill": {
     "duration": 0.020661,
     "end_time": "2025-08-19T17:53:27.161734",
     "exception": false,
     "start_time": "2025-08-19T17:53:27.141073",
     "status": "completed"
    },
    "tags": []
   },
   "outputs": [],
   "source": [
    "if mode == \"keep-all\":\n",
    "    keep_mask = pd.Series(True, index=org_train.index)\n",
    "\n",
    "elif mode == \"drop-non-german\":\n",
    "    keep_mask = (org_train[\"maxdeutsch1\"] == 1) & (org_train[\"maxdeutsch.Missing.\"] == 0)\n",
    "\n",
    "else:\n",
    "    raise ValueError(f\"Unsupported mode for exclude_subgroups: {mode}\")"
   ]
  },
  {
   "cell_type": "code",
   "execution_count": 29,
   "id": "d3b65474",
   "metadata": {
    "execution": {
     "iopub.execute_input": "2025-08-19T17:53:27.187484Z",
     "iopub.status.busy": "2025-08-19T17:53:27.186408Z",
     "iopub.status.idle": "2025-08-19T17:53:27.195052Z",
     "shell.execute_reply": "2025-08-19T17:53:27.193928Z"
    },
    "papermill": {
     "duration": 0.021639,
     "end_time": "2025-08-19T17:53:27.196414",
     "exception": false,
     "start_time": "2025-08-19T17:53:27.174775",
     "status": "completed"
    },
    "tags": []
   },
   "outputs": [],
   "source": [
    "n_drop = (~keep_mask).sum() # Calculates how many rows are set to be dropped\n",
    "if n_drop > 0:\n",
    "    pct = n_drop / len(keep_mask) * 100\n",
    "    print(f\"Dropping {n_drop} rows ({pct:.2f}%) where mode='{mode}'\")"
   ]
  },
  {
   "cell_type": "code",
   "execution_count": 30,
   "id": "f44389b3",
   "metadata": {
    "execution": {
     "iopub.execute_input": "2025-08-19T17:53:27.222842Z",
     "iopub.status.busy": "2025-08-19T17:53:27.221459Z",
     "iopub.status.idle": "2025-08-19T17:53:27.253330Z",
     "shell.execute_reply": "2025-08-19T17:53:27.252033Z"
    },
    "papermill": {
     "duration": 0.045829,
     "end_time": "2025-08-19T17:53:27.255042",
     "exception": false,
     "start_time": "2025-08-19T17:53:27.209213",
     "status": "completed"
    },
    "tags": []
   },
   "outputs": [],
   "source": [
    "X_train = X_train[keep_mask]"
   ]
  },
  {
   "cell_type": "code",
   "execution_count": 31,
   "id": "ceca8c2a",
   "metadata": {
    "execution": {
     "iopub.execute_input": "2025-08-19T17:53:27.278184Z",
     "iopub.status.busy": "2025-08-19T17:53:27.277897Z",
     "iopub.status.idle": "2025-08-19T17:53:27.337290Z",
     "shell.execute_reply": "2025-08-19T17:53:27.335538Z"
    },
    "papermill": {
     "duration": 0.074637,
     "end_time": "2025-08-19T17:53:27.340455",
     "exception": false,
     "start_time": "2025-08-19T17:53:27.265818",
     "status": "completed"
    },
    "tags": []
   },
   "outputs": [],
   "source": [
    "y_train = y_train[keep_mask]"
   ]
  },
  {
   "cell_type": "markdown",
   "id": "04d31e2f",
   "metadata": {
    "papermill": {
     "duration": 0.013334,
     "end_time": "2025-08-19T17:53:27.380653",
     "exception": false,
     "start_time": "2025-08-19T17:53:27.367319",
     "status": "completed"
    },
    "tags": []
   },
   "source": [
    "# Model Training"
   ]
  },
  {
   "cell_type": "code",
   "execution_count": 32,
   "id": "db991733",
   "metadata": {
    "execution": {
     "iopub.execute_input": "2025-08-19T17:53:27.413096Z",
     "iopub.status.busy": "2025-08-19T17:53:27.411773Z",
     "iopub.status.idle": "2025-08-19T17:53:27.524731Z",
     "shell.execute_reply": "2025-08-19T17:53:27.523921Z"
    },
    "papermill": {
     "duration": 0.13439,
     "end_time": "2025-08-19T17:53:27.527646",
     "exception": false,
     "start_time": "2025-08-19T17:53:27.393256",
     "status": "completed"
    },
    "tags": []
   },
   "outputs": [],
   "source": [
    "from sklearn.linear_model import LogisticRegression\n",
    "from sklearn.ensemble import GradientBoostingClassifier, RandomForestClassifier\n",
    "\n",
    "if (universe[\"model\"] == \"logreg\"):\n",
    "    model = LogisticRegression() #penalty=\"none\", solver=\"newton-cg\", max_iter=1)\n",
    "elif (universe[\"model\"] == \"penalized_logreg\"):\n",
    "    model = LogisticRegression(penalty=\"l2\", C=0.1) #, solver=\"newton-cg\", max_iter=1)\n",
    "elif (universe[\"model\"] == \"rf\"):\n",
    "    model = RandomForestClassifier() # n_estimators=100, n_jobs=-1\n",
    "elif (universe[\"model\"] == \"gbm\"):\n",
    "    model = GradientBoostingClassifier()\n",
    "elif (universe[\"model\"] == \"elasticnet\"):\n",
    "    model = LogisticRegression(penalty = 'elasticnet', solver = 'saga', l1_ratio = 0.5) # max_iter=5000\n",
    "else:\n",
    "    raise \"Unsupported universe.model\""
   ]
  },
  {
   "cell_type": "code",
   "execution_count": 33,
   "id": "a4b5cd25",
   "metadata": {
    "execution": {
     "iopub.execute_input": "2025-08-19T17:53:27.570191Z",
     "iopub.status.busy": "2025-08-19T17:53:27.568890Z",
     "iopub.status.idle": "2025-08-19T17:53:27.578931Z",
     "shell.execute_reply": "2025-08-19T17:53:27.577563Z"
    },
    "papermill": {
     "duration": 0.025937,
     "end_time": "2025-08-19T17:53:27.581308",
     "exception": false,
     "start_time": "2025-08-19T17:53:27.555371",
     "status": "completed"
    },
    "tags": []
   },
   "outputs": [],
   "source": [
    "from sklearn.pipeline import Pipeline\n",
    "from sklearn.preprocessing import StandardScaler\n",
    "\n",
    "model = Pipeline([\n",
    "    #(\"continuous_processor\", continuous_processor),\n",
    "    #(\"categorical_preprocessor\", categorical_preprocessor),\n",
    "    (\"scale\", StandardScaler() if universe[\"scale\"] == \"scale\" else None), \n",
    "    (\"model\", model),\n",
    "])"
   ]
  },
  {
   "cell_type": "code",
   "execution_count": 34,
   "id": "283a904d",
   "metadata": {
    "execution": {
     "iopub.execute_input": "2025-08-19T17:53:27.608813Z",
     "iopub.status.busy": "2025-08-19T17:53:27.607469Z",
     "iopub.status.idle": "2025-08-19T17:53:28.725366Z",
     "shell.execute_reply": "2025-08-19T17:53:28.724759Z"
    },
    "papermill": {
     "duration": 1.13204,
     "end_time": "2025-08-19T17:53:28.726588",
     "exception": false,
     "start_time": "2025-08-19T17:53:27.594548",
     "status": "completed"
    },
    "tags": []
   },
   "outputs": [
    {
     "name": "stderr",
     "output_type": "stream",
     "text": [
      "/dss/dsshome1/0C/ra93lal2/.local/share/virtualenvs/CMA_Fairness_v2-3j10GkSs/lib/python3.10/site-packages/sklearn/linear_model/_logistic.py:444: ConvergenceWarning: lbfgs failed to converge (status=1):\n",
      "STOP: TOTAL NO. of ITERATIONS REACHED LIMIT.\n",
      "\n",
      "Increase the number of iterations (max_iter) or scale the data as shown in:\n",
      "    https://scikit-learn.org/stable/modules/preprocessing.html\n",
      "Please also refer to the documentation for alternative solver options:\n",
      "    https://scikit-learn.org/stable/modules/linear_model.html#logistic-regression\n",
      "  n_iter_i = _check_optimize_result(\n"
     ]
    },
    {
     "data": {
      "text/html": [
       "<style>#sk-container-id-1 {color: black;background-color: white;}#sk-container-id-1 pre{padding: 0;}#sk-container-id-1 div.sk-toggleable {background-color: white;}#sk-container-id-1 label.sk-toggleable__label {cursor: pointer;display: block;width: 100%;margin-bottom: 0;padding: 0.3em;box-sizing: border-box;text-align: center;}#sk-container-id-1 label.sk-toggleable__label-arrow:before {content: \"▸\";float: left;margin-right: 0.25em;color: #696969;}#sk-container-id-1 label.sk-toggleable__label-arrow:hover:before {color: black;}#sk-container-id-1 div.sk-estimator:hover label.sk-toggleable__label-arrow:before {color: black;}#sk-container-id-1 div.sk-toggleable__content {max-height: 0;max-width: 0;overflow: hidden;text-align: left;background-color: #f0f8ff;}#sk-container-id-1 div.sk-toggleable__content pre {margin: 0.2em;color: black;border-radius: 0.25em;background-color: #f0f8ff;}#sk-container-id-1 input.sk-toggleable__control:checked~div.sk-toggleable__content {max-height: 200px;max-width: 100%;overflow: auto;}#sk-container-id-1 input.sk-toggleable__control:checked~label.sk-toggleable__label-arrow:before {content: \"▾\";}#sk-container-id-1 div.sk-estimator input.sk-toggleable__control:checked~label.sk-toggleable__label {background-color: #d4ebff;}#sk-container-id-1 div.sk-label input.sk-toggleable__control:checked~label.sk-toggleable__label {background-color: #d4ebff;}#sk-container-id-1 input.sk-hidden--visually {border: 0;clip: rect(1px 1px 1px 1px);clip: rect(1px, 1px, 1px, 1px);height: 1px;margin: -1px;overflow: hidden;padding: 0;position: absolute;width: 1px;}#sk-container-id-1 div.sk-estimator {font-family: monospace;background-color: #f0f8ff;border: 1px dotted black;border-radius: 0.25em;box-sizing: border-box;margin-bottom: 0.5em;}#sk-container-id-1 div.sk-estimator:hover {background-color: #d4ebff;}#sk-container-id-1 div.sk-parallel-item::after {content: \"\";width: 100%;border-bottom: 1px solid gray;flex-grow: 1;}#sk-container-id-1 div.sk-label:hover label.sk-toggleable__label {background-color: #d4ebff;}#sk-container-id-1 div.sk-serial::before {content: \"\";position: absolute;border-left: 1px solid gray;box-sizing: border-box;top: 0;bottom: 0;left: 50%;z-index: 0;}#sk-container-id-1 div.sk-serial {display: flex;flex-direction: column;align-items: center;background-color: white;padding-right: 0.2em;padding-left: 0.2em;position: relative;}#sk-container-id-1 div.sk-item {position: relative;z-index: 1;}#sk-container-id-1 div.sk-parallel {display: flex;align-items: stretch;justify-content: center;background-color: white;position: relative;}#sk-container-id-1 div.sk-item::before, #sk-container-id-1 div.sk-parallel-item::before {content: \"\";position: absolute;border-left: 1px solid gray;box-sizing: border-box;top: 0;bottom: 0;left: 50%;z-index: -1;}#sk-container-id-1 div.sk-parallel-item {display: flex;flex-direction: column;z-index: 1;position: relative;background-color: white;}#sk-container-id-1 div.sk-parallel-item:first-child::after {align-self: flex-end;width: 50%;}#sk-container-id-1 div.sk-parallel-item:last-child::after {align-self: flex-start;width: 50%;}#sk-container-id-1 div.sk-parallel-item:only-child::after {width: 0;}#sk-container-id-1 div.sk-dashed-wrapped {border: 1px dashed gray;margin: 0 0.4em 0.5em 0.4em;box-sizing: border-box;padding-bottom: 0.4em;background-color: white;}#sk-container-id-1 div.sk-label label {font-family: monospace;font-weight: bold;display: inline-block;line-height: 1.2em;}#sk-container-id-1 div.sk-label-container {text-align: center;}#sk-container-id-1 div.sk-container {/* jupyter's `normalize.less` sets `[hidden] { display: none; }` but bootstrap.min.css set `[hidden] { display: none !important; }` so we also need the `!important` here to be able to override the default hidden behavior on the sphinx rendered scikit-learn.org. See: https://github.com/scikit-learn/scikit-learn/issues/21755 */display: inline-block !important;position: relative;}#sk-container-id-1 div.sk-text-repr-fallback {display: none;}</style><div id=\"sk-container-id-1\" class=\"sk-top-container\"><div class=\"sk-text-repr-fallback\"><pre>Pipeline(steps=[(&#x27;scale&#x27;, StandardScaler()), (&#x27;model&#x27;, LogisticRegression())])</pre><b>In a Jupyter environment, please rerun this cell to show the HTML representation or trust the notebook. <br />On GitHub, the HTML representation is unable to render, please try loading this page with nbviewer.org.</b></div><div class=\"sk-container\" hidden><div class=\"sk-item sk-dashed-wrapped\"><div class=\"sk-label-container\"><div class=\"sk-label sk-toggleable\"><input class=\"sk-toggleable__control sk-hidden--visually\" id=\"sk-estimator-id-1\" type=\"checkbox\" ><label for=\"sk-estimator-id-1\" class=\"sk-toggleable__label sk-toggleable__label-arrow\">Pipeline</label><div class=\"sk-toggleable__content\"><pre>Pipeline(steps=[(&#x27;scale&#x27;, StandardScaler()), (&#x27;model&#x27;, LogisticRegression())])</pre></div></div></div><div class=\"sk-serial\"><div class=\"sk-item\"><div class=\"sk-estimator sk-toggleable\"><input class=\"sk-toggleable__control sk-hidden--visually\" id=\"sk-estimator-id-2\" type=\"checkbox\" ><label for=\"sk-estimator-id-2\" class=\"sk-toggleable__label sk-toggleable__label-arrow\">StandardScaler</label><div class=\"sk-toggleable__content\"><pre>StandardScaler()</pre></div></div></div><div class=\"sk-item\"><div class=\"sk-estimator sk-toggleable\"><input class=\"sk-toggleable__control sk-hidden--visually\" id=\"sk-estimator-id-3\" type=\"checkbox\" ><label for=\"sk-estimator-id-3\" class=\"sk-toggleable__label sk-toggleable__label-arrow\">LogisticRegression</label><div class=\"sk-toggleable__content\"><pre>LogisticRegression()</pre></div></div></div></div></div></div></div>"
      ],
      "text/plain": [
       "Pipeline(steps=[('scale', StandardScaler()), ('model', LogisticRegression())])"
      ]
     },
     "execution_count": 34,
     "metadata": {},
     "output_type": "execute_result"
    }
   ],
   "source": [
    "model.fit(X_train, y_train.values.ravel())"
   ]
  },
  {
   "cell_type": "code",
   "execution_count": 35,
   "id": "6e15e313",
   "metadata": {
    "execution": {
     "iopub.execute_input": "2025-08-19T17:53:28.766281Z",
     "iopub.status.busy": "2025-08-19T17:53:28.765840Z",
     "iopub.status.idle": "2025-08-19T17:53:28.961343Z",
     "shell.execute_reply": "2025-08-19T17:53:28.960727Z"
    },
    "papermill": {
     "duration": 0.215813,
     "end_time": "2025-08-19T17:53:28.962538",
     "exception": false,
     "start_time": "2025-08-19T17:53:28.746725",
     "status": "completed"
    },
    "tags": []
   },
   "outputs": [
    {
     "data": {
      "text/plain": [
       "0.8652881507078364"
      ]
     },
     "execution_count": 35,
     "metadata": {},
     "output_type": "execute_result"
    }
   ],
   "source": [
    "from fairness_multiverse.universe import predict_w_threshold\n",
    "\n",
    "probs_test = model.predict_proba(X_test)\n",
    "\n",
    "'''\n",
    "Below code returns a boolean array (or binary 0/1 array depending on how it’s used) where each element \n",
    "is True if the probability of class 1 is greater than or equal to the threshold, and False otherwise.\n",
    "'''\n",
    "y_pred_default = predict_w_threshold(probs_test, 0.5)\n",
    "\n",
    "from sklearn.metrics import accuracy_score\n",
    "\n",
    "# Naive prediction\n",
    "accuracy_score(y_true = y_true, y_pred = y_pred_default)"
   ]
  },
  {
   "cell_type": "code",
   "execution_count": 36,
   "id": "6f14067c",
   "metadata": {
    "execution": {
     "iopub.execute_input": "2025-08-19T17:53:29.014016Z",
     "iopub.status.busy": "2025-08-19T17:53:29.012936Z",
     "iopub.status.idle": "2025-08-19T17:53:29.214916Z",
     "shell.execute_reply": "2025-08-19T17:53:29.213863Z"
    },
    "papermill": {
     "duration": 0.225382,
     "end_time": "2025-08-19T17:53:29.216266",
     "exception": false,
     "start_time": "2025-08-19T17:53:28.990884",
     "status": "completed"
    },
    "tags": []
   },
   "outputs": [
    {
     "data": {
      "text/plain": [
       "array([0, 0, 0, ..., 0, 0, 0])"
      ]
     },
     "execution_count": 36,
     "metadata": {},
     "output_type": "execute_result"
    }
   ],
   "source": [
    "model.predict(X_test)"
   ]
  },
  {
   "cell_type": "markdown",
   "id": "3759920c",
   "metadata": {
    "papermill": {
     "duration": 0.012558,
     "end_time": "2025-08-19T17:53:29.241169",
     "exception": false,
     "start_time": "2025-08-19T17:53:29.228611",
     "status": "completed"
    },
    "tags": []
   },
   "source": [
    "# Conformal Prediction"
   ]
  },
  {
   "cell_type": "code",
   "execution_count": 37,
   "id": "14b27f59",
   "metadata": {
    "execution": {
     "iopub.execute_input": "2025-08-19T17:53:29.265423Z",
     "iopub.status.busy": "2025-08-19T17:53:29.265125Z",
     "iopub.status.idle": "2025-08-19T17:53:29.268906Z",
     "shell.execute_reply": "2025-08-19T17:53:29.268206Z"
    },
    "papermill": {
     "duration": 0.020228,
     "end_time": "2025-08-19T17:53:29.272421",
     "exception": false,
     "start_time": "2025-08-19T17:53:29.252193",
     "status": "completed"
    },
    "tags": []
   },
   "outputs": [],
   "source": [
    "# Miscoverage level for conformal prediction (10% allowed error rate => 90% target coverage)\n",
    "alpha = 0.1"
   ]
  },
  {
   "cell_type": "code",
   "execution_count": 38,
   "id": "59102472",
   "metadata": {
    "execution": {
     "iopub.execute_input": "2025-08-19T17:53:29.308550Z",
     "iopub.status.busy": "2025-08-19T17:53:29.308108Z",
     "iopub.status.idle": "2025-08-19T17:53:29.503897Z",
     "shell.execute_reply": "2025-08-19T17:53:29.502996Z"
    },
    "papermill": {
     "duration": 0.216183,
     "end_time": "2025-08-19T17:53:29.506913",
     "exception": false,
     "start_time": "2025-08-19T17:53:29.290730",
     "status": "completed"
    },
    "tags": []
   },
   "outputs": [],
   "source": [
    "probs_calib = model.predict_proba(X_calib)"
   ]
  },
  {
   "cell_type": "code",
   "execution_count": 39,
   "id": "a792d4dd",
   "metadata": {
    "execution": {
     "iopub.execute_input": "2025-08-19T17:53:29.547848Z",
     "iopub.status.busy": "2025-08-19T17:53:29.546680Z",
     "iopub.status.idle": "2025-08-19T17:53:29.555928Z",
     "shell.execute_reply": "2025-08-19T17:53:29.554609Z"
    },
    "papermill": {
     "duration": 0.025689,
     "end_time": "2025-08-19T17:53:29.557422",
     "exception": false,
     "start_time": "2025-08-19T17:53:29.531733",
     "status": "completed"
    },
    "tags": []
   },
   "outputs": [],
   "source": [
    "y_calib = y_calib.values.ravel().astype(int)"
   ]
  },
  {
   "cell_type": "code",
   "execution_count": 40,
   "id": "650fd033",
   "metadata": {
    "execution": {
     "iopub.execute_input": "2025-08-19T17:53:29.587585Z",
     "iopub.status.busy": "2025-08-19T17:53:29.586387Z",
     "iopub.status.idle": "2025-08-19T17:53:29.597692Z",
     "shell.execute_reply": "2025-08-19T17:53:29.596326Z"
    },
    "papermill": {
     "duration": 0.026409,
     "end_time": "2025-08-19T17:53:29.599203",
     "exception": false,
     "start_time": "2025-08-19T17:53:29.572794",
     "status": "completed"
    },
    "tags": []
   },
   "outputs": [],
   "source": [
    "from fairness_multiverse.conformal import compute_nc_scores\n",
    "\n",
    "# Compute nonconformity scores on calibration set (1 - probability of true class)\n",
    "nc_scores = compute_nc_scores(probs_calib, y_calib)"
   ]
  },
  {
   "cell_type": "code",
   "execution_count": 41,
   "id": "28ada44c",
   "metadata": {
    "execution": {
     "iopub.execute_input": "2025-08-19T17:53:29.627894Z",
     "iopub.status.busy": "2025-08-19T17:53:29.626742Z",
     "iopub.status.idle": "2025-08-19T17:53:29.636721Z",
     "shell.execute_reply": "2025-08-19T17:53:29.635475Z"
    },
    "papermill": {
     "duration": 0.024375,
     "end_time": "2025-08-19T17:53:29.638075",
     "exception": false,
     "start_time": "2025-08-19T17:53:29.613700",
     "status": "completed"
    },
    "tags": []
   },
   "outputs": [],
   "source": [
    "from fairness_multiverse.conformal import find_threshold\n",
    "\n",
    "# Find conformal threshold q_hat for the given alpha (split conformal method)\n",
    "q_hat = find_threshold(nc_scores, alpha)"
   ]
  },
  {
   "cell_type": "code",
   "execution_count": 42,
   "id": "df56469e",
   "metadata": {
    "execution": {
     "iopub.execute_input": "2025-08-19T17:53:29.680711Z",
     "iopub.status.busy": "2025-08-19T17:53:29.679677Z",
     "iopub.status.idle": "2025-08-19T17:53:29.689182Z",
     "shell.execute_reply": "2025-08-19T17:53:29.687964Z"
    },
    "papermill": {
     "duration": 0.025961,
     "end_time": "2025-08-19T17:53:29.692041",
     "exception": false,
     "start_time": "2025-08-19T17:53:29.666080",
     "status": "completed"
    },
    "tags": []
   },
   "outputs": [
    {
     "data": {
      "text/plain": [
       "0.6759473963763245"
      ]
     },
     "execution_count": 42,
     "metadata": {},
     "output_type": "execute_result"
    }
   ],
   "source": [
    "q_hat"
   ]
  },
  {
   "cell_type": "code",
   "execution_count": 43,
   "id": "aa1f5faa",
   "metadata": {
    "execution": {
     "iopub.execute_input": "2025-08-19T17:53:29.721807Z",
     "iopub.status.busy": "2025-08-19T17:53:29.721531Z",
     "iopub.status.idle": "2025-08-19T17:53:30.306620Z",
     "shell.execute_reply": "2025-08-19T17:53:30.305849Z"
    },
    "papermill": {
     "duration": 0.60124,
     "end_time": "2025-08-19T17:53:30.308105",
     "exception": false,
     "start_time": "2025-08-19T17:53:29.706865",
     "status": "completed"
    },
    "tags": []
   },
   "outputs": [],
   "source": [
    "from fairness_multiverse.conformal import predict_conformal_sets\n",
    "\n",
    "# Generate prediction sets for each test example\n",
    "pred_sets = predict_conformal_sets(model, X_test, q_hat)"
   ]
  },
  {
   "cell_type": "code",
   "execution_count": 44,
   "id": "97f67a6b",
   "metadata": {
    "execution": {
     "iopub.execute_input": "2025-08-19T17:53:30.344082Z",
     "iopub.status.busy": "2025-08-19T17:53:30.343526Z",
     "iopub.status.idle": "2025-08-19T17:53:30.355473Z",
     "shell.execute_reply": "2025-08-19T17:53:30.354252Z"
    },
    "papermill": {
     "duration": 0.038442,
     "end_time": "2025-08-19T17:53:30.358572",
     "exception": false,
     "start_time": "2025-08-19T17:53:30.320130",
     "status": "completed"
    },
    "tags": []
   },
   "outputs": [],
   "source": [
    "y_true = y_true.squeeze()"
   ]
  },
  {
   "cell_type": "code",
   "execution_count": 45,
   "id": "e700e9a7",
   "metadata": {
    "execution": {
     "iopub.execute_input": "2025-08-19T17:53:30.424933Z",
     "iopub.status.busy": "2025-08-19T17:53:30.409604Z",
     "iopub.status.idle": "2025-08-19T17:53:30.924962Z",
     "shell.execute_reply": "2025-08-19T17:53:30.916625Z"
    },
    "papermill": {
     "duration": 0.541106,
     "end_time": "2025-08-19T17:53:30.927801",
     "exception": false,
     "start_time": "2025-08-19T17:53:30.386695",
     "status": "completed"
    },
    "tags": []
   },
   "outputs": [],
   "source": [
    "from fairness_multiverse.conformal import evaluate_sets\n",
    "\n",
    "# Evaluate coverage and average set size on test data\n",
    "metrics = evaluate_sets(pred_sets, y_true)"
   ]
  },
  {
   "cell_type": "markdown",
   "id": "efbacec0",
   "metadata": {
    "papermill": {
     "duration": 0.012595,
     "end_time": "2025-08-19T17:53:30.969207",
     "exception": false,
     "start_time": "2025-08-19T17:53:30.956612",
     "status": "completed"
    },
    "tags": []
   },
   "source": [
    "# CP Metrics"
   ]
  },
  {
   "cell_type": "code",
   "execution_count": 46,
   "id": "9de55fb1",
   "metadata": {
    "execution": {
     "iopub.execute_input": "2025-08-19T17:53:30.994577Z",
     "iopub.status.busy": "2025-08-19T17:53:30.993512Z",
     "iopub.status.idle": "2025-08-19T17:53:31.008140Z",
     "shell.execute_reply": "2025-08-19T17:53:31.005643Z"
    },
    "papermill": {
     "duration": 0.029285,
     "end_time": "2025-08-19T17:53:31.009872",
     "exception": false,
     "start_time": "2025-08-19T17:53:30.980587",
     "status": "completed"
    },
    "tags": []
   },
   "outputs": [
    {
     "data": {
      "text/plain": [
       "{'coverage': 0.912573849069223, 'avg_size': 1.1256493144576971}"
      ]
     },
     "execution_count": 46,
     "metadata": {},
     "output_type": "execute_result"
    }
   ],
   "source": [
    "metrics"
   ]
  },
  {
   "cell_type": "code",
   "execution_count": 47,
   "id": "64c340a1",
   "metadata": {
    "execution": {
     "iopub.execute_input": "2025-08-19T17:53:31.040950Z",
     "iopub.status.busy": "2025-08-19T17:53:31.039942Z",
     "iopub.status.idle": "2025-08-19T17:53:31.446873Z",
     "shell.execute_reply": "2025-08-19T17:53:31.446225Z"
    },
    "papermill": {
     "duration": 0.421855,
     "end_time": "2025-08-19T17:53:31.448411",
     "exception": false,
     "start_time": "2025-08-19T17:53:31.026556",
     "status": "completed"
    },
    "tags": []
   },
   "outputs": [],
   "source": [
    "example_universe = universe.copy()\n",
    "universe_training_year = example_universe.get(\"training_year\")\n",
    "universe_training_size = example_universe.get(\"training_size\")\n",
    "universe_scale = example_universe.get(\"scale\")\n",
    "universe_model = example_universe.get(\"model\")\n",
    "universe_exclude_features = example_universe.get(\"exclude_features\")\n",
    "universe_exclude_subgroups = example_universe.get(\"exclude_subgroups\")"
   ]
  },
  {
   "cell_type": "code",
   "execution_count": 48,
   "id": "dbb53cb4",
   "metadata": {
    "execution": {
     "iopub.execute_input": "2025-08-19T17:53:31.473338Z",
     "iopub.status.busy": "2025-08-19T17:53:31.472653Z",
     "iopub.status.idle": "2025-08-19T17:53:31.479265Z",
     "shell.execute_reply": "2025-08-19T17:53:31.478294Z"
    },
    "papermill": {
     "duration": 0.020185,
     "end_time": "2025-08-19T17:53:31.480429",
     "exception": false,
     "start_time": "2025-08-19T17:53:31.460244",
     "status": "completed"
    },
    "tags": []
   },
   "outputs": [],
   "source": [
    "cp_metrics_dict = {\n",
    "    \"universe_id\": [universe_id],\n",
    "    \"universe_training_year\": [universe_training_year],\n",
    "    \"universe_training_size\": [universe_training_size],\n",
    "    \"universe_scale\": [universe_scale],\n",
    "    \"universe_model\": [universe_model],\n",
    "    \"universe_exclude_features\": [universe_exclude_features],\n",
    "    \"universe_exclude_subgroups\": [universe_exclude_subgroups],\n",
    "    \"q_hat\": [q_hat],\n",
    "    \"coverage\": [metrics[\"coverage\"]],\n",
    "    \"avg_size\": [metrics[\"avg_size\"]],\n",
    "}"
   ]
  },
  {
   "cell_type": "code",
   "execution_count": 49,
   "id": "0d70d4b2",
   "metadata": {
    "execution": {
     "iopub.execute_input": "2025-08-19T17:53:31.507670Z",
     "iopub.status.busy": "2025-08-19T17:53:31.506897Z",
     "iopub.status.idle": "2025-08-19T17:53:31.513283Z",
     "shell.execute_reply": "2025-08-19T17:53:31.512459Z"
    },
    "papermill": {
     "duration": 0.019987,
     "end_time": "2025-08-19T17:53:31.514363",
     "exception": false,
     "start_time": "2025-08-19T17:53:31.494376",
     "status": "completed"
    },
    "tags": []
   },
   "outputs": [],
   "source": [
    "cp_metrics_df = pd.DataFrame(cp_metrics_dict)"
   ]
  },
  {
   "cell_type": "code",
   "execution_count": 50,
   "id": "b494403c",
   "metadata": {
    "execution": {
     "iopub.execute_input": "2025-08-19T17:53:31.538920Z",
     "iopub.status.busy": "2025-08-19T17:53:31.538545Z",
     "iopub.status.idle": "2025-08-19T17:53:31.549737Z",
     "shell.execute_reply": "2025-08-19T17:53:31.548997Z"
    },
    "papermill": {
     "duration": 0.024854,
     "end_time": "2025-08-19T17:53:31.550895",
     "exception": false,
     "start_time": "2025-08-19T17:53:31.526041",
     "status": "completed"
    },
    "tags": []
   },
   "outputs": [
    {
     "data": {
      "text/html": [
       "<div>\n",
       "<style scoped>\n",
       "    .dataframe tbody tr th:only-of-type {\n",
       "        vertical-align: middle;\n",
       "    }\n",
       "\n",
       "    .dataframe tbody tr th {\n",
       "        vertical-align: top;\n",
       "    }\n",
       "\n",
       "    .dataframe thead th {\n",
       "        text-align: right;\n",
       "    }\n",
       "</style>\n",
       "<table border=\"1\" class=\"dataframe\">\n",
       "  <thead>\n",
       "    <tr style=\"text-align: right;\">\n",
       "      <th></th>\n",
       "      <th>universe_id</th>\n",
       "      <th>universe_training_year</th>\n",
       "      <th>universe_training_size</th>\n",
       "      <th>universe_scale</th>\n",
       "      <th>universe_model</th>\n",
       "      <th>universe_exclude_features</th>\n",
       "      <th>universe_exclude_subgroups</th>\n",
       "      <th>q_hat</th>\n",
       "      <th>coverage</th>\n",
       "      <th>avg_size</th>\n",
       "    </tr>\n",
       "  </thead>\n",
       "  <tbody>\n",
       "    <tr>\n",
       "      <th>0</th>\n",
       "      <td>ac4a026ca93e0a6b44769bdecedc7849</td>\n",
       "      <td>2014</td>\n",
       "      <td>25k</td>\n",
       "      <td>scale</td>\n",
       "      <td>logreg</td>\n",
       "      <td>sex</td>\n",
       "      <td>keep-all</td>\n",
       "      <td>0.675947</td>\n",
       "      <td>0.912574</td>\n",
       "      <td>1.125649</td>\n",
       "    </tr>\n",
       "  </tbody>\n",
       "</table>\n",
       "</div>"
      ],
      "text/plain": [
       "                        universe_id universe_training_year  \\\n",
       "0  ac4a026ca93e0a6b44769bdecedc7849                   2014   \n",
       "\n",
       "  universe_training_size universe_scale universe_model  \\\n",
       "0                    25k          scale         logreg   \n",
       "\n",
       "  universe_exclude_features universe_exclude_subgroups     q_hat  coverage  \\\n",
       "0                       sex                   keep-all  0.675947  0.912574   \n",
       "\n",
       "   avg_size  \n",
       "0  1.125649  "
      ]
     },
     "execution_count": 50,
     "metadata": {},
     "output_type": "execute_result"
    }
   ],
   "source": [
    "cp_metrics_df"
   ]
  },
  {
   "cell_type": "markdown",
   "id": "ed608b0b",
   "metadata": {
    "papermill": {
     "duration": 0.011601,
     "end_time": "2025-08-19T17:53:31.577243",
     "exception": false,
     "start_time": "2025-08-19T17:53:31.565642",
     "status": "completed"
    },
    "tags": []
   },
   "source": [
    "Conditional coverage & looking at subgroups"
   ]
  },
  {
   "cell_type": "code",
   "execution_count": 51,
   "id": "8968c366",
   "metadata": {
    "execution": {
     "iopub.execute_input": "2025-08-19T17:53:31.601559Z",
     "iopub.status.busy": "2025-08-19T17:53:31.601234Z",
     "iopub.status.idle": "2025-08-19T17:53:31.817082Z",
     "shell.execute_reply": "2025-08-19T17:53:31.816016Z"
    },
    "papermill": {
     "duration": 0.231572,
     "end_time": "2025-08-19T17:53:31.820255",
     "exception": false,
     "start_time": "2025-08-19T17:53:31.588683",
     "status": "completed"
    },
    "tags": []
   },
   "outputs": [],
   "source": [
    "from fairness_multiverse.conformal import build_cp_groups\n",
    "\n",
    "cp_groups_df = build_cp_groups(pred_sets, y_true, X_test.index, org_test)"
   ]
  },
  {
   "cell_type": "code",
   "execution_count": 52,
   "id": "292ddabf",
   "metadata": {
    "execution": {
     "iopub.execute_input": "2025-08-19T17:53:31.860913Z",
     "iopub.status.busy": "2025-08-19T17:53:31.860069Z",
     "iopub.status.idle": "2025-08-19T17:53:32.748884Z",
     "shell.execute_reply": "2025-08-19T17:53:32.747312Z"
    },
    "papermill": {
     "duration": 0.905512,
     "end_time": "2025-08-19T17:53:32.751310",
     "exception": false,
     "start_time": "2025-08-19T17:53:31.845798",
     "status": "completed"
    },
    "tags": []
   },
   "outputs": [],
   "source": [
    "# Define covered = 1 if true_label is in the predicted set\n",
    "cp_groups_df['covered'] = cp_groups_df.apply(\n",
    "    lambda r: int(r['true_label'] in r['pred_set']),\n",
    "    axis=1\n",
    ")"
   ]
  },
  {
   "cell_type": "code",
   "execution_count": 53,
   "id": "3a261692",
   "metadata": {
    "execution": {
     "iopub.execute_input": "2025-08-19T17:53:32.794611Z",
     "iopub.status.busy": "2025-08-19T17:53:32.794322Z",
     "iopub.status.idle": "2025-08-19T17:53:32.804099Z",
     "shell.execute_reply": "2025-08-19T17:53:32.803292Z"
    },
    "papermill": {
     "duration": 0.033547,
     "end_time": "2025-08-19T17:53:32.806599",
     "exception": false,
     "start_time": "2025-08-19T17:53:32.773052",
     "status": "completed"
    },
    "tags": []
   },
   "outputs": [],
   "source": [
    "subgroups = ['frau1','nongerman','nongerman_male','nongerman_female']\n",
    "\n",
    "# Conditional coverage for subgroup==1\n",
    "cond_coverage = {\n",
    "    g: cp_groups_df.loc[cp_groups_df[g]==1, 'covered'].mean()\n",
    "    for g in subgroups\n",
    "}"
   ]
  },
  {
   "cell_type": "code",
   "execution_count": 54,
   "id": "894fd600",
   "metadata": {
    "execution": {
     "iopub.execute_input": "2025-08-19T17:53:32.850600Z",
     "iopub.status.busy": "2025-08-19T17:53:32.850217Z",
     "iopub.status.idle": "2025-08-19T17:53:32.856145Z",
     "shell.execute_reply": "2025-08-19T17:53:32.855309Z"
    },
    "papermill": {
     "duration": 0.022831,
     "end_time": "2025-08-19T17:53:32.857815",
     "exception": false,
     "start_time": "2025-08-19T17:53:32.834984",
     "status": "completed"
    },
    "tags": []
   },
   "outputs": [
    {
     "data": {
      "text/plain": [
       "{'frau1': 0.9124949454104326,\n",
       " 'nongerman': 0.9129287598944591,\n",
       " 'nongerman_male': 0.927316941367198,\n",
       " 'nongerman_female': 0.8891207153502235}"
      ]
     },
     "execution_count": 54,
     "metadata": {},
     "output_type": "execute_result"
    }
   ],
   "source": [
    "cond_coverage"
   ]
  },
  {
   "cell_type": "code",
   "execution_count": 55,
   "id": "942895c7",
   "metadata": {
    "execution": {
     "iopub.execute_input": "2025-08-19T17:53:32.883747Z",
     "iopub.status.busy": "2025-08-19T17:53:32.883317Z",
     "iopub.status.idle": "2025-08-19T17:53:32.889620Z",
     "shell.execute_reply": "2025-08-19T17:53:32.888836Z"
    },
    "papermill": {
     "duration": 0.021514,
     "end_time": "2025-08-19T17:53:32.891220",
     "exception": false,
     "start_time": "2025-08-19T17:53:32.869706",
     "status": "completed"
    },
    "tags": []
   },
   "outputs": [],
   "source": [
    "for subgroup, cov in cond_coverage.items():\n",
    "    cp_metrics_df[f\"cov_{subgroup}\"] = cov"
   ]
  },
  {
   "cell_type": "code",
   "execution_count": 56,
   "id": "3970120f",
   "metadata": {
    "execution": {
     "iopub.execute_input": "2025-08-19T17:53:32.916912Z",
     "iopub.status.busy": "2025-08-19T17:53:32.916546Z",
     "iopub.status.idle": "2025-08-19T17:53:32.943392Z",
     "shell.execute_reply": "2025-08-19T17:53:32.941843Z"
    },
    "papermill": {
     "duration": 0.043004,
     "end_time": "2025-08-19T17:53:32.946725",
     "exception": false,
     "start_time": "2025-08-19T17:53:32.903721",
     "status": "completed"
    },
    "tags": []
   },
   "outputs": [
    {
     "data": {
      "text/html": [
       "<div>\n",
       "<style scoped>\n",
       "    .dataframe tbody tr th:only-of-type {\n",
       "        vertical-align: middle;\n",
       "    }\n",
       "\n",
       "    .dataframe tbody tr th {\n",
       "        vertical-align: top;\n",
       "    }\n",
       "\n",
       "    .dataframe thead th {\n",
       "        text-align: right;\n",
       "    }\n",
       "</style>\n",
       "<table border=\"1\" class=\"dataframe\">\n",
       "  <thead>\n",
       "    <tr style=\"text-align: right;\">\n",
       "      <th></th>\n",
       "      <th>universe_id</th>\n",
       "      <th>universe_training_year</th>\n",
       "      <th>universe_training_size</th>\n",
       "      <th>universe_scale</th>\n",
       "      <th>universe_model</th>\n",
       "      <th>universe_exclude_features</th>\n",
       "      <th>universe_exclude_subgroups</th>\n",
       "      <th>q_hat</th>\n",
       "      <th>coverage</th>\n",
       "      <th>avg_size</th>\n",
       "      <th>cov_frau1</th>\n",
       "      <th>cov_nongerman</th>\n",
       "      <th>cov_nongerman_male</th>\n",
       "      <th>cov_nongerman_female</th>\n",
       "    </tr>\n",
       "  </thead>\n",
       "  <tbody>\n",
       "    <tr>\n",
       "      <th>0</th>\n",
       "      <td>ac4a026ca93e0a6b44769bdecedc7849</td>\n",
       "      <td>2014</td>\n",
       "      <td>25k</td>\n",
       "      <td>scale</td>\n",
       "      <td>logreg</td>\n",
       "      <td>sex</td>\n",
       "      <td>keep-all</td>\n",
       "      <td>0.675947</td>\n",
       "      <td>0.912574</td>\n",
       "      <td>1.125649</td>\n",
       "      <td>0.912495</td>\n",
       "      <td>0.912929</td>\n",
       "      <td>0.927317</td>\n",
       "      <td>0.889121</td>\n",
       "    </tr>\n",
       "  </tbody>\n",
       "</table>\n",
       "</div>"
      ],
      "text/plain": [
       "                        universe_id universe_training_year  \\\n",
       "0  ac4a026ca93e0a6b44769bdecedc7849                   2014   \n",
       "\n",
       "  universe_training_size universe_scale universe_model  \\\n",
       "0                    25k          scale         logreg   \n",
       "\n",
       "  universe_exclude_features universe_exclude_subgroups     q_hat  coverage  \\\n",
       "0                       sex                   keep-all  0.675947  0.912574   \n",
       "\n",
       "   avg_size  cov_frau1  cov_nongerman  cov_nongerman_male  \\\n",
       "0  1.125649   0.912495       0.912929            0.927317   \n",
       "\n",
       "   cov_nongerman_female  \n",
       "0              0.889121  "
      ]
     },
     "execution_count": 56,
     "metadata": {},
     "output_type": "execute_result"
    }
   ],
   "source": [
    "cp_metrics_df"
   ]
  },
  {
   "cell_type": "markdown",
   "id": "3fc519cc",
   "metadata": {
    "papermill": {
     "duration": 0.01194,
     "end_time": "2025-08-19T17:53:32.973901",
     "exception": false,
     "start_time": "2025-08-19T17:53:32.961961",
     "status": "completed"
    },
    "tags": []
   },
   "source": [
    "# (Fairness) Metrics"
   ]
  },
  {
   "cell_type": "code",
   "execution_count": 57,
   "id": "a2e5e155",
   "metadata": {
    "execution": {
     "iopub.execute_input": "2025-08-19T17:53:32.999196Z",
     "iopub.status.busy": "2025-08-19T17:53:32.998823Z",
     "iopub.status.idle": "2025-08-19T17:53:33.013307Z",
     "shell.execute_reply": "2025-08-19T17:53:33.012125Z"
    },
    "papermill": {
     "duration": 0.030615,
     "end_time": "2025-08-19T17:53:33.016434",
     "exception": false,
     "start_time": "2025-08-19T17:53:32.985819",
     "status": "completed"
    },
    "tags": []
   },
   "outputs": [],
   "source": [
    "colname_to_bin = \"maxdeutsch1\"\n",
    "majority_value = org_train[colname_to_bin].mode()[0]\n",
    "\n",
    "org_test[\"majmin\"] = np.where(org_test[colname_to_bin] == majority_value, \"majority\", \"minority\")"
   ]
  },
  {
   "cell_type": "code",
   "execution_count": 58,
   "id": "17e3e4d5",
   "metadata": {
    "execution": {
     "iopub.execute_input": "2025-08-19T17:53:33.067281Z",
     "iopub.status.busy": "2025-08-19T17:53:33.066817Z",
     "iopub.status.idle": "2025-08-19T17:53:34.721587Z",
     "shell.execute_reply": "2025-08-19T17:53:34.720394Z"
    },
    "papermill": {
     "duration": 1.682435,
     "end_time": "2025-08-19T17:53:34.723129",
     "exception": false,
     "start_time": "2025-08-19T17:53:33.040694",
     "status": "completed"
    },
    "tags": []
   },
   "outputs": [],
   "source": [
    "example_universe = universe.copy()\n",
    "example_universe[\"cutoff\"] = example_universe[\"cutoff\"][0]\n",
    "example_universe[\"eval_fairness_grouping\"] = example_universe[\"eval_fairness_grouping\"][0]\n",
    "fairness_dict, metric_frame = universe_analysis.compute_metrics(\n",
    "    example_universe,\n",
    "    y_pred_prob=probs_test,\n",
    "    y_test=y_true,\n",
    "    org_test=org_test,\n",
    ")"
   ]
  },
  {
   "cell_type": "markdown",
   "id": "1fb7a0e9",
   "metadata": {
    "papermill": {
     "duration": 0.014706,
     "end_time": "2025-08-19T17:53:34.761249",
     "exception": false,
     "start_time": "2025-08-19T17:53:34.746543",
     "status": "completed"
    },
    "tags": []
   },
   "source": [
    "# Overall"
   ]
  },
  {
   "cell_type": "markdown",
   "id": "be1784b1",
   "metadata": {
    "papermill": {
     "duration": 0.014365,
     "end_time": "2025-08-19T17:53:34.807126",
     "exception": false,
     "start_time": "2025-08-19T17:53:34.792761",
     "status": "completed"
    },
    "tags": []
   },
   "source": [
    "Main fairness target: Equalized Odds. Seems to be a better fit than equal opportunity, since we're not only interested in Y = 1. Seems to be a better fit than demographic parity, since we also care about accuracy, not just equal distribution of preds.\n",
    "\n",
    "Pick column for computation of fairness metrics\n",
    "\n",
    "Performance\n",
    "Overall performance measures, most interesting in relation to the measures split by group below"
   ]
  },
  {
   "cell_type": "code",
   "execution_count": 59,
   "id": "b7672bee",
   "metadata": {
    "execution": {
     "iopub.execute_input": "2025-08-19T17:53:34.834153Z",
     "iopub.status.busy": "2025-08-19T17:53:34.833764Z",
     "iopub.status.idle": "2025-08-19T17:53:34.840776Z",
     "shell.execute_reply": "2025-08-19T17:53:34.839988Z"
    },
    "papermill": {
     "duration": 0.025882,
     "end_time": "2025-08-19T17:53:34.845547",
     "exception": false,
     "start_time": "2025-08-19T17:53:34.819665",
     "status": "completed"
    },
    "tags": []
   },
   "outputs": [
    {
     "data": {
      "text/plain": [
       "accuracy                   0.225516\n",
       "balanced accuracy          0.551177\n",
       "f1                         0.246816\n",
       "precision                  0.140998\n",
       "false positive rate        0.886870\n",
       "false negative rate        0.010775\n",
       "selection rate             0.900000\n",
       "count                  89710.000000\n",
       "dtype: float64"
      ]
     },
     "execution_count": 59,
     "metadata": {},
     "output_type": "execute_result"
    }
   ],
   "source": [
    "metric_frame.overall"
   ]
  },
  {
   "cell_type": "markdown",
   "id": "d93333c9",
   "metadata": {
    "papermill": {
     "duration": 0.026495,
     "end_time": "2025-08-19T17:53:34.903297",
     "exception": false,
     "start_time": "2025-08-19T17:53:34.876802",
     "status": "completed"
    },
    "tags": []
   },
   "source": [
    "By Group"
   ]
  },
  {
   "cell_type": "code",
   "execution_count": 60,
   "id": "52256966",
   "metadata": {
    "execution": {
     "iopub.execute_input": "2025-08-19T17:53:34.930715Z",
     "iopub.status.busy": "2025-08-19T17:53:34.930338Z",
     "iopub.status.idle": "2025-08-19T17:53:34.944465Z",
     "shell.execute_reply": "2025-08-19T17:53:34.943675Z"
    },
    "papermill": {
     "duration": 0.030176,
     "end_time": "2025-08-19T17:53:34.947398",
     "exception": false,
     "start_time": "2025-08-19T17:53:34.917222",
     "status": "completed"
    },
    "tags": []
   },
   "outputs": [
    {
     "data": {
      "text/html": [
       "<div>\n",
       "<style scoped>\n",
       "    .dataframe tbody tr th:only-of-type {\n",
       "        vertical-align: middle;\n",
       "    }\n",
       "\n",
       "    .dataframe tbody tr th {\n",
       "        vertical-align: top;\n",
       "    }\n",
       "\n",
       "    .dataframe thead th {\n",
       "        text-align: right;\n",
       "    }\n",
       "</style>\n",
       "<table border=\"1\" class=\"dataframe\">\n",
       "  <thead>\n",
       "    <tr style=\"text-align: right;\">\n",
       "      <th></th>\n",
       "      <th>accuracy</th>\n",
       "      <th>balanced accuracy</th>\n",
       "      <th>f1</th>\n",
       "      <th>precision</th>\n",
       "      <th>false positive rate</th>\n",
       "      <th>false negative rate</th>\n",
       "      <th>selection rate</th>\n",
       "      <th>count</th>\n",
       "    </tr>\n",
       "    <tr>\n",
       "      <th>majmin</th>\n",
       "      <th></th>\n",
       "      <th></th>\n",
       "      <th></th>\n",
       "      <th></th>\n",
       "      <th></th>\n",
       "      <th></th>\n",
       "      <th></th>\n",
       "      <th></th>\n",
       "    </tr>\n",
       "  </thead>\n",
       "  <tbody>\n",
       "    <tr>\n",
       "      <th>majority</th>\n",
       "      <td>0.247564</td>\n",
       "      <td>0.561352</td>\n",
       "      <td>0.257589</td>\n",
       "      <td>0.148104</td>\n",
       "      <td>0.865151</td>\n",
       "      <td>0.012144</td>\n",
       "      <td>0.881365</td>\n",
       "      <td>69170.0</td>\n",
       "    </tr>\n",
       "    <tr>\n",
       "      <th>minority</th>\n",
       "      <td>0.151266</td>\n",
       "      <td>0.517946</td>\n",
       "      <td>0.212708</td>\n",
       "      <td>0.119090</td>\n",
       "      <td>0.958618</td>\n",
       "      <td>0.005490</td>\n",
       "      <td>0.962756</td>\n",
       "      <td>20540.0</td>\n",
       "    </tr>\n",
       "  </tbody>\n",
       "</table>\n",
       "</div>"
      ],
      "text/plain": [
       "          accuracy  balanced accuracy        f1  precision  \\\n",
       "majmin                                                       \n",
       "majority  0.247564           0.561352  0.257589   0.148104   \n",
       "minority  0.151266           0.517946  0.212708   0.119090   \n",
       "\n",
       "          false positive rate  false negative rate  selection rate    count  \n",
       "majmin                                                                       \n",
       "majority             0.865151             0.012144        0.881365  69170.0  \n",
       "minority             0.958618             0.005490        0.962756  20540.0  "
      ]
     },
     "execution_count": 60,
     "metadata": {},
     "output_type": "execute_result"
    }
   ],
   "source": [
    "metric_frame.by_group"
   ]
  },
  {
   "cell_type": "code",
   "execution_count": 61,
   "id": "6e6c20ae",
   "metadata": {
    "execution": {
     "iopub.execute_input": "2025-08-19T17:53:34.993832Z",
     "iopub.status.busy": "2025-08-19T17:53:34.992737Z",
     "iopub.status.idle": "2025-08-19T17:53:36.734807Z",
     "shell.execute_reply": "2025-08-19T17:53:36.733737Z"
    },
    "papermill": {
     "duration": 1.760272,
     "end_time": "2025-08-19T17:53:36.737147",
     "exception": false,
     "start_time": "2025-08-19T17:53:34.976875",
     "status": "completed"
    },
    "tags": []
   },
   "outputs": [
    {
     "data": {
      "text/plain": [
       "array([[<Axes: title={'center': 'accuracy'}, xlabel='majmin'>,\n",
       "        <Axes: title={'center': 'balanced accuracy'}, xlabel='majmin'>,\n",
       "        <Axes: title={'center': 'f1'}, xlabel='majmin'>],\n",
       "       [<Axes: title={'center': 'precision'}, xlabel='majmin'>,\n",
       "        <Axes: title={'center': 'false positive rate'}, xlabel='majmin'>,\n",
       "        <Axes: title={'center': 'false negative rate'}, xlabel='majmin'>],\n",
       "       [<Axes: title={'center': 'selection rate'}, xlabel='majmin'>,\n",
       "        <Axes: title={'center': 'count'}, xlabel='majmin'>,\n",
       "        <Axes: xlabel='majmin'>]], dtype=object)"
      ]
     },
     "execution_count": 61,
     "metadata": {},
     "output_type": "execute_result"
    },
    {
     "data": {
      "image/png": "[encoded data removed]",
      "text/plain": [
       "<Figure size 1200x800 with 9 Axes>"
      ]
     },
     "metadata": {},
     "output_type": "display_data"
    }
   ],
   "source": [
    "# In a graphic\n",
    "metric_frame.by_group.plot.bar(\n",
    "    subplots=True,\n",
    "    layout=[3, 3],\n",
    "    legend=False,\n",
    "    figsize=[12, 8],\n",
    "    title=\"Show all metrics\",\n",
    ")"
   ]
  },
  {
   "cell_type": "markdown",
   "id": "b2e433ae",
   "metadata": {
    "papermill": {
     "duration": 0.028018,
     "end_time": "2025-08-19T17:53:36.787538",
     "exception": false,
     "start_time": "2025-08-19T17:53:36.759520",
     "status": "completed"
    },
    "tags": []
   },
   "source": [
    "# Final Output"
   ]
  },
  {
   "cell_type": "code",
   "execution_count": 62,
   "id": "3871301e",
   "metadata": {
    "execution": {
     "iopub.execute_input": "2025-08-19T17:53:36.816687Z",
     "iopub.status.busy": "2025-08-19T17:53:36.816066Z",
     "iopub.status.idle": "2025-08-19T17:53:36.822833Z",
     "shell.execute_reply": "2025-08-19T17:53:36.822202Z"
    },
    "papermill": {
     "duration": 0.023885,
     "end_time": "2025-08-19T17:53:36.825341",
     "exception": false,
     "start_time": "2025-08-19T17:53:36.801456",
     "status": "completed"
    },
    "tags": []
   },
   "outputs": [
    {
     "data": {
      "text/plain": [
       "4"
      ]
     },
     "execution_count": 62,
     "metadata": {},
     "output_type": "execute_result"
    }
   ],
   "source": [
    "sub_universes = universe_analysis.generate_sub_universes()\n",
    "len(sub_universes)"
   ]
  },
  {
   "cell_type": "code",
   "execution_count": 63,
   "id": "d9cfdaca",
   "metadata": {
    "execution": {
     "iopub.execute_input": "2025-08-19T17:53:36.865389Z",
     "iopub.status.busy": "2025-08-19T17:53:36.865036Z",
     "iopub.status.idle": "2025-08-19T17:53:36.869652Z",
     "shell.execute_reply": "2025-08-19T17:53:36.868970Z"
    },
    "papermill": {
     "duration": 0.020524,
     "end_time": "2025-08-19T17:53:36.870946",
     "exception": false,
     "start_time": "2025-08-19T17:53:36.850422",
     "status": "completed"
    },
    "tags": []
   },
   "outputs": [],
   "source": [
    "def filter_sub_universe_data(sub_universe, org_test):\n",
    "    # Keep all rows — no filtering\n",
    "    keep_rows_mask = np.ones(org_test.shape[0], dtype=bool)\n",
    "\n",
    "    print(f\"[INFO] Keeping all rows: {keep_rows_mask.sum()} rows retained.\")\n",
    "    return keep_rows_mask"
   ]
  },
  {
   "cell_type": "code",
   "execution_count": 64,
   "id": "2bc31ac1",
   "metadata": {
    "execution": {
     "iopub.execute_input": "2025-08-19T17:53:36.900585Z",
     "iopub.status.busy": "2025-08-19T17:53:36.900223Z",
     "iopub.status.idle": "2025-08-19T17:53:43.360629Z",
     "shell.execute_reply": "2025-08-19T17:53:43.359340Z"
    },
    "papermill": {
     "duration": 6.476998,
     "end_time": "2025-08-19T17:53:43.362005",
     "exception": false,
     "start_time": "2025-08-19T17:53:36.885007",
     "status": "completed"
    },
    "tags": []
   },
   "outputs": [
    {
     "name": "stdout",
     "output_type": "stream",
     "text": [
      "Stopping execution_time clock.\n",
      "[INFO] Keeping all rows: 89710 rows retained.\n"
     ]
    },
    {
     "name": "stdout",
     "output_type": "stream",
     "text": [
      "[INFO] Keeping all rows: 89710 rows retained.\n"
     ]
    },
    {
     "name": "stdout",
     "output_type": "stream",
     "text": [
      "[INFO] Keeping all rows: 89710 rows retained.\n"
     ]
    },
    {
     "name": "stdout",
     "output_type": "stream",
     "text": [
      "[INFO] Keeping all rows: 89710 rows retained.\n"
     ]
    },
    {
     "data": {
      "text/html": [
       "<div>\n",
       "<style scoped>\n",
       "    .dataframe tbody tr th:only-of-type {\n",
       "        vertical-align: middle;\n",
       "    }\n",
       "\n",
       "    .dataframe tbody tr th {\n",
       "        vertical-align: top;\n",
       "    }\n",
       "\n",
       "    .dataframe thead th {\n",
       "        text-align: right;\n",
       "    }\n",
       "</style>\n",
       "<table border=\"1\" class=\"dataframe\">\n",
       "  <thead>\n",
       "    <tr style=\"text-align: right;\">\n",
       "      <th></th>\n",
       "      <th>run_no</th>\n",
       "      <th>universe_id</th>\n",
       "      <th>universe_settings</th>\n",
       "      <th>execution_time</th>\n",
       "      <th>test_size_n</th>\n",
       "      <th>test_size_frac</th>\n",
       "      <th>fair_main_equalized_odds_difference</th>\n",
       "      <th>fair_main_equalized_odds_ratio</th>\n",
       "      <th>fair_main_demographic_parity_difference</th>\n",
       "      <th>fair_main_demographic_parity_ratio</th>\n",
       "      <th>...</th>\n",
       "      <th>perf_grp_precision_0</th>\n",
       "      <th>perf_grp_precision_1</th>\n",
       "      <th>perf_grp_false positive rate_0</th>\n",
       "      <th>perf_grp_false positive rate_1</th>\n",
       "      <th>perf_grp_false negative rate_0</th>\n",
       "      <th>perf_grp_false negative rate_1</th>\n",
       "      <th>perf_grp_selection rate_0</th>\n",
       "      <th>perf_grp_selection rate_1</th>\n",
       "      <th>perf_grp_count_0</th>\n",
       "      <th>perf_grp_count_1</th>\n",
       "    </tr>\n",
       "  </thead>\n",
       "  <tbody>\n",
       "    <tr>\n",
       "      <th>0</th>\n",
       "      <td>3</td>\n",
       "      <td>ac4a026ca93e0a6b44769bdecedc7849</td>\n",
       "      <td>{\"cutoff\": \"quantile_0.1\", \"eval_fairness_grou...</td>\n",
       "      <td>23.297008</td>\n",
       "      <td>89710</td>\n",
       "      <td>1.0</td>\n",
       "      <td>0.093467</td>\n",
       "      <td>0.902498</td>\n",
       "      <td>0.081391</td>\n",
       "      <td>0.915461</td>\n",
       "      <td>...</td>\n",
       "      <td>NaN</td>\n",
       "      <td>NaN</td>\n",
       "      <td>NaN</td>\n",
       "      <td>NaN</td>\n",
       "      <td>NaN</td>\n",
       "      <td>NaN</td>\n",
       "      <td>NaN</td>\n",
       "      <td>NaN</td>\n",
       "      <td>NaN</td>\n",
       "      <td>NaN</td>\n",
       "    </tr>\n",
       "    <tr>\n",
       "      <th>0</th>\n",
       "      <td>3</td>\n",
       "      <td>ac4a026ca93e0a6b44769bdecedc7849</td>\n",
       "      <td>{\"cutoff\": \"quantile_0.1\", \"eval_fairness_grou...</td>\n",
       "      <td>23.297008</td>\n",
       "      <td>89710</td>\n",
       "      <td>1.0</td>\n",
       "      <td>0.093467</td>\n",
       "      <td>0.902498</td>\n",
       "      <td>0.081391</td>\n",
       "      <td>0.915461</td>\n",
       "      <td>...</td>\n",
       "      <td>0.119090</td>\n",
       "      <td>0.148104</td>\n",
       "      <td>0.958618</td>\n",
       "      <td>0.865151</td>\n",
       "      <td>0.005490</td>\n",
       "      <td>0.012144</td>\n",
       "      <td>0.962756</td>\n",
       "      <td>0.881365</td>\n",
       "      <td>20540.0</td>\n",
       "      <td>69170.0</td>\n",
       "    </tr>\n",
       "    <tr>\n",
       "      <th>0</th>\n",
       "      <td>3</td>\n",
       "      <td>ac4a026ca93e0a6b44769bdecedc7849</td>\n",
       "      <td>{\"cutoff\": \"quantile_0.25\", \"eval_fairness_gro...</td>\n",
       "      <td>23.297008</td>\n",
       "      <td>89710</td>\n",
       "      <td>1.0</td>\n",
       "      <td>0.175123</td>\n",
       "      <td>0.795098</td>\n",
       "      <td>0.152307</td>\n",
       "      <td>0.824415</td>\n",
       "      <td>...</td>\n",
       "      <td>NaN</td>\n",
       "      <td>NaN</td>\n",
       "      <td>NaN</td>\n",
       "      <td>NaN</td>\n",
       "      <td>NaN</td>\n",
       "      <td>NaN</td>\n",
       "      <td>NaN</td>\n",
       "      <td>NaN</td>\n",
       "      <td>NaN</td>\n",
       "      <td>NaN</td>\n",
       "    </tr>\n",
       "    <tr>\n",
       "      <th>0</th>\n",
       "      <td>3</td>\n",
       "      <td>ac4a026ca93e0a6b44769bdecedc7849</td>\n",
       "      <td>{\"cutoff\": \"quantile_0.25\", \"eval_fairness_gro...</td>\n",
       "      <td>23.297008</td>\n",
       "      <td>89710</td>\n",
       "      <td>1.0</td>\n",
       "      <td>0.175123</td>\n",
       "      <td>0.795098</td>\n",
       "      <td>0.152307</td>\n",
       "      <td>0.824415</td>\n",
       "      <td>...</td>\n",
       "      <td>0.128304</td>\n",
       "      <td>0.175316</td>\n",
       "      <td>0.854667</td>\n",
       "      <td>0.679544</td>\n",
       "      <td>0.034628</td>\n",
       "      <td>0.051204</td>\n",
       "      <td>0.867429</td>\n",
       "      <td>0.715122</td>\n",
       "      <td>20540.0</td>\n",
       "      <td>69170.0</td>\n",
       "    </tr>\n",
       "  </tbody>\n",
       "</table>\n",
       "<p>4 rows × 50 columns</p>\n",
       "</div>"
      ],
      "text/plain": [
       "  run_no                       universe_id  \\\n",
       "0      3  ac4a026ca93e0a6b44769bdecedc7849   \n",
       "0      3  ac4a026ca93e0a6b44769bdecedc7849   \n",
       "0      3  ac4a026ca93e0a6b44769bdecedc7849   \n",
       "0      3  ac4a026ca93e0a6b44769bdecedc7849   \n",
       "\n",
       "                                   universe_settings  execution_time  \\\n",
       "0  {\"cutoff\": \"quantile_0.1\", \"eval_fairness_grou...       23.297008   \n",
       "0  {\"cutoff\": \"quantile_0.1\", \"eval_fairness_grou...       23.297008   \n",
       "0  {\"cutoff\": \"quantile_0.25\", \"eval_fairness_gro...       23.297008   \n",
       "0  {\"cutoff\": \"quantile_0.25\", \"eval_fairness_gro...       23.297008   \n",
       "\n",
       "   test_size_n  test_size_frac  fair_main_equalized_odds_difference  \\\n",
       "0        89710             1.0                             0.093467   \n",
       "0        89710             1.0                             0.093467   \n",
       "0        89710             1.0                             0.175123   \n",
       "0        89710             1.0                             0.175123   \n",
       "\n",
       "   fair_main_equalized_odds_ratio  fair_main_demographic_parity_difference  \\\n",
       "0                        0.902498                                 0.081391   \n",
       "0                        0.902498                                 0.081391   \n",
       "0                        0.795098                                 0.152307   \n",
       "0                        0.795098                                 0.152307   \n",
       "\n",
       "   fair_main_demographic_parity_ratio  ...  perf_grp_precision_0  \\\n",
       "0                            0.915461  ...                   NaN   \n",
       "0                            0.915461  ...              0.119090   \n",
       "0                            0.824415  ...                   NaN   \n",
       "0                            0.824415  ...              0.128304   \n",
       "\n",
       "   perf_grp_precision_1  perf_grp_false positive rate_0  \\\n",
       "0                   NaN                             NaN   \n",
       "0              0.148104                        0.958618   \n",
       "0                   NaN                             NaN   \n",
       "0              0.175316                        0.854667   \n",
       "\n",
       "   perf_grp_false positive rate_1  perf_grp_false negative rate_0  \\\n",
       "0                             NaN                             NaN   \n",
       "0                        0.865151                        0.005490   \n",
       "0                             NaN                             NaN   \n",
       "0                        0.679544                        0.034628   \n",
       "\n",
       "   perf_grp_false negative rate_1  perf_grp_selection rate_0  \\\n",
       "0                             NaN                        NaN   \n",
       "0                        0.012144                   0.962756   \n",
       "0                             NaN                        NaN   \n",
       "0                        0.051204                   0.867429   \n",
       "\n",
       "   perf_grp_selection rate_1  perf_grp_count_0  perf_grp_count_1  \n",
       "0                        NaN               NaN               NaN  \n",
       "0                   0.881365           20540.0           69170.0  \n",
       "0                        NaN               NaN               NaN  \n",
       "0                   0.715122           20540.0           69170.0  \n",
       "\n",
       "[4 rows x 50 columns]"
      ]
     },
     "execution_count": 64,
     "metadata": {},
     "output_type": "execute_result"
    }
   ],
   "source": [
    "final_output = universe_analysis.generate_final_output(\n",
    "    y_pred_prob=probs_test,\n",
    "    y_test=y_true,\n",
    "    org_test=org_test,\n",
    "    filter_data=filter_sub_universe_data,\n",
    "    cp_metrics_df=cp_metrics_df,\n",
    "    save=True,\n",
    ")\n",
    "final_output"
   ]
  },
  {
   "cell_type": "code",
   "execution_count": null,
   "id": "8b80a1ff",
   "metadata": {
    "papermill": {
     "duration": 0.014213,
     "end_time": "2025-08-19T17:53:43.393225",
     "exception": false,
     "start_time": "2025-08-19T17:53:43.379012",
     "status": "completed"
    },
    "tags": []
   },
   "outputs": [],
   "source": []
  },
  {
   "cell_type": "code",
   "execution_count": null,
   "id": "275c9fad",
   "metadata": {
    "papermill": {
     "duration": 0.014113,
     "end_time": "2025-08-19T17:53:43.421895",
     "exception": false,
     "start_time": "2025-08-19T17:53:43.407782",
     "status": "completed"
    },
    "tags": []
   },
   "outputs": [],
   "source": []
  }
 ],
 "metadata": {
  "celltoolbar": "Tags",
  "kernelspec": {
   "display_name": "Python (CMA Fairness)",
   "language": "python",
   "name": "cma_fair_env"
  },
  "language_info": {
   "codemirror_mode": {
    "name": "ipython",
    "version": 3
   },
   "file_extension": ".py",
   "mimetype": "text/x-python",
   "name": "python",
   "nbconvert_exporter": "python",
   "pygments_lexer": "ipython3",
   "version": "3.10.12"
  },
  "papermill": {
   "default_parameters": {},
   "duration": 34.326706,
   "end_time": "2025-08-19T17:53:44.257551",
   "environment_variables": {},
   "exception": null,
   "input_path": "universe_analysis.ipynb",
   "output_path": "output/runs/3/notebooks/m_3-ac4a026ca93e0a6b44769bdecedc7849.ipynb",
   "parameters": {
    "output_dir": "output",
    "run_no": "3",
    "seed": "2023",
    "universe": "{\"cutoff\": [\"quantile_0.1\", \"quantile_0.25\"], \"eval_fairness_grouping\": [\"majority-minority\", \"nationality-all\"], \"exclude_features\": \"sex\", \"exclude_subgroups\": \"keep-all\", \"model\": \"logreg\", \"scale\": \"scale\", \"training_size\": \"25k\", \"training_year\": \"2014\"}",
    "universe_id": "ac4a026ca93e0a6b44769bdecedc7849"
   },
   "start_time": "2025-08-19T17:53:09.930845",
   "version": "2.6.0"
  }
 },
 "nbformat": 4,
 "nbformat_minor": 5
}