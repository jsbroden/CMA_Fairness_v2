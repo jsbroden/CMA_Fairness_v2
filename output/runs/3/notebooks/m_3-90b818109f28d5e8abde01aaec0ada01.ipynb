{
 "cells": [
  {
   "cell_type": "markdown",
   "id": "ef23dbb3",
   "metadata": {
    "papermill": {
     "duration": 0.009046,
     "end_time": "2025-08-19T18:40:37.368645",
     "exception": false,
     "start_time": "2025-08-19T18:40:37.359599",
     "status": "completed"
    },
    "tags": []
   },
   "source": [
    "# Setup"
   ]
  },
  {
   "cell_type": "code",
   "execution_count": 1,
   "id": "0bc8e7dc",
   "metadata": {
    "execution": {
     "iopub.execute_input": "2025-08-19T18:40:37.409828Z",
     "iopub.status.busy": "2025-08-19T18:40:37.409292Z",
     "iopub.status.idle": "2025-08-19T18:40:37.419145Z",
     "shell.execute_reply": "2025-08-19T18:40:37.418452Z"
    },
    "papermill": {
     "duration": 0.039186,
     "end_time": "2025-08-19T18:40:37.420491",
     "exception": false,
     "start_time": "2025-08-19T18:40:37.381305",
     "status": "completed"
    },
    "tags": []
   },
   "outputs": [
    {
     "name": "stdout",
     "output_type": "stream",
     "text": [
      "/dss/dsshome1/0C/ra93lal2/cma/CMA_Fairness_v2\n"
     ]
    },
    {
     "name": "stderr",
     "output_type": "stream",
     "text": [
      "/dss/dsshome1/0C/ra93lal2/.local/share/virtualenvs/CMA_Fairness_v2-3j10GkSs/lib/python3.10/site-packages/IPython/core/magics/osm.py:393: UserWarning: This is now an optional IPython functionality, using bookmarks requires you to install the `pickleshare` library.\n",
      "  bkms = self.shell.db.get('bookmarks', {})\n",
      "/dss/dsshome1/0C/ra93lal2/.local/share/virtualenvs/CMA_Fairness_v2-3j10GkSs/lib/python3.10/site-packages/IPython/core/magics/osm.py:417: UserWarning: This is now an optional IPython functionality, setting dhist requires you to install the `pickleshare` library.\n",
      "  self.shell.db['dhist'] = compress_dhist(dhist)[-100:]\n"
     ]
    }
   ],
   "source": [
    "%cd ~/cma/CMA_Fairness_v2"
   ]
  },
  {
   "cell_type": "markdown",
   "id": "9d235661",
   "metadata": {
    "papermill": {
     "duration": 0.025932,
     "end_time": "2025-08-19T18:40:37.476630",
     "exception": false,
     "start_time": "2025-08-19T18:40:37.450698",
     "status": "completed"
    },
    "tags": []
   },
   "source": [
    "The following cell holds the definition of our parameters, these values can be overriden by rendering the with e.g. the following command:\n",
    "\n",
    "papermill -p alpha 0.2 -p ratio 0.3 universe_analysis.ipynb output/test_run.ipynb"
   ]
  },
  {
   "cell_type": "code",
   "execution_count": 2,
   "id": "4a789d8e",
   "metadata": {
    "execution": {
     "iopub.execute_input": "2025-08-19T18:40:37.532150Z",
     "iopub.status.busy": "2025-08-19T18:40:37.531618Z",
     "iopub.status.idle": "2025-08-19T18:40:37.536672Z",
     "shell.execute_reply": "2025-08-19T18:40:37.535866Z"
    },
    "papermill": {
     "duration": 0.037397,
     "end_time": "2025-08-19T18:40:37.540717",
     "exception": false,
     "start_time": "2025-08-19T18:40:37.503320",
     "status": "completed"
    },
    "tags": []
   },
   "outputs": [
    {
     "name": "stdout",
     "output_type": "stream",
     "text": [
      "Current working directory: /dss/dsshome1/0C/ra93lal2/cma/CMA_Fairness_v2\n"
     ]
    }
   ],
   "source": [
    "import os\n",
    "print(\"Current working directory:\", os.getcwd())"
   ]
  },
  {
   "cell_type": "code",
   "execution_count": 3,
   "id": "4132aaed",
   "metadata": {
    "execution": {
     "iopub.execute_input": "2025-08-19T18:40:37.828018Z",
     "iopub.status.busy": "2025-08-19T18:40:37.827464Z",
     "iopub.status.idle": "2025-08-19T18:40:37.833107Z",
     "shell.execute_reply": "2025-08-19T18:40:37.832227Z"
    },
    "papermill": {
     "duration": 0.264721,
     "end_time": "2025-08-19T18:40:37.834227",
     "exception": false,
     "start_time": "2025-08-19T18:40:37.569506",
     "status": "completed"
    },
    "tags": [
     "parameters"
    ]
   },
   "outputs": [],
   "source": [
    "run_no = 0\n",
    "universe_id = \"test\"\n",
    "universe = {\n",
    "    \"training_size\": \"5k\", # \"25k\", \"5k\", \"1k\"\n",
    "    \"training_year\": \"2012_14\", # \"2014\", \"2012_14\", \"2010_14\"\n",
    "    \"scale\": \"scale\", # \"scale\", \"do-not-scale\",\n",
    "    \"model\": \"elasticnet\", # \"logreg\", \"penalized_logreg\", \"rf\", \"gbm\", \"elasticnet\"\n",
    "    \"cutoff\": [\"quantile_0.15\", \"quantile_0.30\"],\n",
    "    \"exclude_features\": \"age\", # \"none\", \"nationality\", \"sex\", \"nationality-sex\", \"age\"\n",
    "    \"exclude_subgroups\": \"drop-non-german\", # \"keep-all\", \"drop-non-german\"\n",
    "    \"eval_fairness_grouping\": [\"majority-minority\", \"nationality-all\"]\n",
    "}\n",
    "\n",
    "output_dir=\"./output\"\n",
    "seed=0"
   ]
  },
  {
   "cell_type": "code",
   "execution_count": 4,
   "id": "1cdc3b82",
   "metadata": {
    "execution": {
     "iopub.execute_input": "2025-08-19T18:40:37.896973Z",
     "iopub.status.busy": "2025-08-19T18:40:37.896409Z",
     "iopub.status.idle": "2025-08-19T18:40:37.901305Z",
     "shell.execute_reply": "2025-08-19T18:40:37.900515Z"
    },
    "papermill": {
     "duration": 0.037769,
     "end_time": "2025-08-19T18:40:37.902502",
     "exception": false,
     "start_time": "2025-08-19T18:40:37.864733",
     "status": "completed"
    },
    "tags": [
     "injected-parameters"
    ]
   },
   "outputs": [],
   "source": [
    "# Parameters\n",
    "universe_id = \"90b818109f28d5e8abde01aaec0ada01\"\n",
    "run_no = \"3\"\n",
    "universe = \"{\\\"cutoff\\\": [\\\"quantile_0.1\\\", \\\"quantile_0.25\\\"], \\\"eval_fairness_grouping\\\": [\\\"majority-minority\\\", \\\"nationality-all\\\"], \\\"exclude_features\\\": \\\"none\\\", \\\"exclude_subgroups\\\": \\\"keep-all\\\", \\\"model\\\": \\\"penalized_logreg\\\", \\\"scale\\\": \\\"scale\\\", \\\"training_size\\\": \\\"5k\\\", \\\"training_year\\\": \\\"2010_14\\\"}\"\n",
    "output_dir = \"output\"\n",
    "seed = \"2023\"\n"
   ]
  },
  {
   "cell_type": "code",
   "execution_count": 5,
   "id": "a5d7941f",
   "metadata": {
    "execution": {
     "iopub.execute_input": "2025-08-19T18:40:37.961312Z",
     "iopub.status.busy": "2025-08-19T18:40:37.960752Z",
     "iopub.status.idle": "2025-08-19T18:40:37.965458Z",
     "shell.execute_reply": "2025-08-19T18:40:37.964739Z"
    },
    "papermill": {
     "duration": 0.034457,
     "end_time": "2025-08-19T18:40:37.966648",
     "exception": false,
     "start_time": "2025-08-19T18:40:37.932191",
     "status": "completed"
    },
    "tags": []
   },
   "outputs": [],
   "source": [
    "import json\n",
    "if isinstance(universe, str):\n",
    "    universe = json.loads(universe)"
   ]
  },
  {
   "cell_type": "code",
   "execution_count": 6,
   "id": "7076ccb1",
   "metadata": {
    "execution": {
     "iopub.execute_input": "2025-08-19T18:40:38.025219Z",
     "iopub.status.busy": "2025-08-19T18:40:38.024668Z",
     "iopub.status.idle": "2025-08-19T18:40:38.111467Z",
     "shell.execute_reply": "2025-08-19T18:40:38.110544Z"
    },
    "papermill": {
     "duration": 0.116317,
     "end_time": "2025-08-19T18:40:38.113068",
     "exception": false,
     "start_time": "2025-08-19T18:40:37.996751",
     "status": "completed"
    },
    "tags": []
   },
   "outputs": [],
   "source": [
    "# Auto-reload the custom package\n",
    "%load_ext autoreload\n",
    "%autoreload 1\n",
    "%aimport fairness_multiverse"
   ]
  },
  {
   "cell_type": "code",
   "execution_count": 7,
   "id": "94c8eb93",
   "metadata": {
    "execution": {
     "iopub.execute_input": "2025-08-19T18:40:38.138200Z",
     "iopub.status.busy": "2025-08-19T18:40:38.137894Z",
     "iopub.status.idle": "2025-08-19T18:40:41.750466Z",
     "shell.execute_reply": "2025-08-19T18:40:41.749525Z"
    },
    "papermill": {
     "duration": 3.630127,
     "end_time": "2025-08-19T18:40:41.752529",
     "exception": false,
     "start_time": "2025-08-19T18:40:38.122402",
     "status": "completed"
    },
    "tags": []
   },
   "outputs": [],
   "source": [
    "from fairness_multiverse.universe import UniverseAnalysis\n",
    "\n",
    "universe_analysis = UniverseAnalysis(\n",
    "    run_no = run_no,\n",
    "    universe_id = universe_id,\n",
    "    universe = universe,\n",
    "    output_dir=output_dir,\n",
    ")"
   ]
  },
  {
   "cell_type": "code",
   "execution_count": 8,
   "id": "2a6381cf",
   "metadata": {
    "execution": {
     "iopub.execute_input": "2025-08-19T18:40:41.803104Z",
     "iopub.status.busy": "2025-08-19T18:40:41.802482Z",
     "iopub.status.idle": "2025-08-19T18:40:41.809571Z",
     "shell.execute_reply": "2025-08-19T18:40:41.808821Z"
    },
    "papermill": {
     "duration": 0.033623,
     "end_time": "2025-08-19T18:40:41.810782",
     "exception": false,
     "start_time": "2025-08-19T18:40:41.777159",
     "status": "completed"
    },
    "tags": []
   },
   "outputs": [
    {
     "name": "stdout",
     "output_type": "stream",
     "text": [
      "Using Seed: 2023\n"
     ]
    }
   ],
   "source": [
    "import numpy as np\n",
    "parsed_seed = int(seed)\n",
    "np.random.seed(parsed_seed)\n",
    "print(f\"Using Seed: {parsed_seed}\")"
   ]
  },
  {
   "cell_type": "markdown",
   "id": "b6e958b4",
   "metadata": {
    "papermill": {
     "duration": 0.020679,
     "end_time": "2025-08-19T18:40:41.865427",
     "exception": false,
     "start_time": "2025-08-19T18:40:41.844748",
     "status": "completed"
    },
    "tags": []
   },
   "source": [
    "# Loading Data"
   ]
  },
  {
   "cell_type": "code",
   "execution_count": 9,
   "id": "98701482",
   "metadata": {
    "execution": {
     "iopub.execute_input": "2025-08-19T18:40:41.903272Z",
     "iopub.status.busy": "2025-08-19T18:40:41.902730Z",
     "iopub.status.idle": "2025-08-19T18:40:56.834564Z",
     "shell.execute_reply": "2025-08-19T18:40:56.833227Z"
    },
    "papermill": {
     "duration": 14.958937,
     "end_time": "2025-08-19T18:40:56.836355",
     "exception": false,
     "start_time": "2025-08-19T18:40:41.877418",
     "status": "completed"
    },
    "tags": []
   },
   "outputs": [
    {
     "name": "stdout",
     "output_type": "stream",
     "text": [
      "Loading SIAB data from cache: data/siab_cached.csv.gz\n"
     ]
    },
    {
     "name": "stdout",
     "output_type": "stream",
     "text": [
      "(643690, 164)\n"
     ]
    }
   ],
   "source": [
    "from pathlib import Path\n",
    "import pandas as pd\n",
    "\n",
    "# File paths\n",
    "raw_file = Path(\"data/raw/siab.csv\")\n",
    "cache_file = Path(\"data/siab_cached.csv.gz\")\n",
    "\n",
    "# Ensure cache directory exists\n",
    "cache_file.parent.mkdir(parents=True, exist_ok=True)\n",
    "\n",
    "# Load with simple caching\n",
    "if cache_file.exists():\n",
    "    print(f\"Loading SIAB data from cache: {cache_file}\")\n",
    "    siab = pd.read_csv(cache_file, compression='gzip')\n",
    "else:\n",
    "    print(f\"Cache not found. Reading raw SIAB data: {raw_file}\")\n",
    "    siab = pd.read_csv(raw_file)\n",
    "    siab.to_csv(cache_file, index=False, compression='gzip')\n",
    "    print(f\"Cached SIAB data to: {cache_file}\")\n",
    "\n",
    "print(siab.shape)"
   ]
  },
  {
   "cell_type": "code",
   "execution_count": 10,
   "id": "058d2abb",
   "metadata": {
    "execution": {
     "iopub.execute_input": "2025-08-19T18:40:56.876557Z",
     "iopub.status.busy": "2025-08-19T18:40:56.875962Z",
     "iopub.status.idle": "2025-08-19T18:40:57.287709Z",
     "shell.execute_reply": "2025-08-19T18:40:57.287044Z"
    },
    "papermill": {
     "duration": 0.436445,
     "end_time": "2025-08-19T18:40:57.288946",
     "exception": false,
     "start_time": "2025-08-19T18:40:56.852501",
     "status": "completed"
    },
    "tags": []
   },
   "outputs": [
    {
     "data": {
      "text/html": [
       "<div>\n",
       "<style scoped>\n",
       "    .dataframe tbody tr th:only-of-type {\n",
       "        vertical-align: middle;\n",
       "    }\n",
       "\n",
       "    .dataframe tbody tr th {\n",
       "        vertical-align: top;\n",
       "    }\n",
       "\n",
       "    .dataframe thead th {\n",
       "        text-align: right;\n",
       "    }\n",
       "</style>\n",
       "<table border=\"1\" class=\"dataframe\">\n",
       "  <thead>\n",
       "    <tr style=\"text-align: right;\">\n",
       "      <th></th>\n",
       "      <th>persnr</th>\n",
       "      <th>year</th>\n",
       "      <th>nrEntry</th>\n",
       "      <th>ltue</th>\n",
       "      <th>employed_before</th>\n",
       "      <th>receipt_leh_before</th>\n",
       "      <th>receipt_lhg_before</th>\n",
       "      <th>se_before</th>\n",
       "      <th>ASU_notue_seeking_before</th>\n",
       "      <th>ASU_other_before</th>\n",
       "      <th>...</th>\n",
       "      <th>minijob_tot_dur_byage</th>\n",
       "      <th>ft_tot_dur_byage</th>\n",
       "      <th>befrist_tot_dur_byage</th>\n",
       "      <th>leih_tot_dur_byage</th>\n",
       "      <th>LHG_tot_dur_byage</th>\n",
       "      <th>LEH_tot_dur_byage</th>\n",
       "      <th>almp_tot_dur_byage</th>\n",
       "      <th>almp_aw_tot_dur_byage</th>\n",
       "      <th>se_tot_dur_byage</th>\n",
       "      <th>seeking1_tot_dur_byage</th>\n",
       "    </tr>\n",
       "  </thead>\n",
       "  <tbody>\n",
       "    <tr>\n",
       "      <th>0</th>\n",
       "      <td>7</td>\n",
       "      <td>2015</td>\n",
       "      <td>1</td>\n",
       "      <td>0</td>\n",
       "      <td>1</td>\n",
       "      <td>0</td>\n",
       "      <td>0</td>\n",
       "      <td>0</td>\n",
       "      <td>1</td>\n",
       "      <td>0</td>\n",
       "      <td>...</td>\n",
       "      <td>0.000000</td>\n",
       "      <td>0.000000</td>\n",
       "      <td>15.043478</td>\n",
       "      <td>0.000000</td>\n",
       "      <td>0.000000</td>\n",
       "      <td>0.000000</td>\n",
       "      <td>0.000000</td>\n",
       "      <td>0.000000</td>\n",
       "      <td>0.000000</td>\n",
       "      <td>0.000000</td>\n",
       "    </tr>\n",
       "    <tr>\n",
       "      <th>1</th>\n",
       "      <td>18</td>\n",
       "      <td>2010</td>\n",
       "      <td>1</td>\n",
       "      <td>1</td>\n",
       "      <td>0</td>\n",
       "      <td>0</td>\n",
       "      <td>0</td>\n",
       "      <td>0</td>\n",
       "      <td>0</td>\n",
       "      <td>0</td>\n",
       "      <td>...</td>\n",
       "      <td>0.000000</td>\n",
       "      <td>0.000000</td>\n",
       "      <td>0.000000</td>\n",
       "      <td>0.000000</td>\n",
       "      <td>0.000000</td>\n",
       "      <td>0.000000</td>\n",
       "      <td>0.000000</td>\n",
       "      <td>0.000000</td>\n",
       "      <td>0.000000</td>\n",
       "      <td>0.000000</td>\n",
       "    </tr>\n",
       "    <tr>\n",
       "      <th>2</th>\n",
       "      <td>18</td>\n",
       "      <td>2011</td>\n",
       "      <td>2</td>\n",
       "      <td>0</td>\n",
       "      <td>1</td>\n",
       "      <td>0</td>\n",
       "      <td>1</td>\n",
       "      <td>0</td>\n",
       "      <td>1</td>\n",
       "      <td>0</td>\n",
       "      <td>...</td>\n",
       "      <td>2.714286</td>\n",
       "      <td>2.714286</td>\n",
       "      <td>0.000000</td>\n",
       "      <td>0.000000</td>\n",
       "      <td>10.775510</td>\n",
       "      <td>0.000000</td>\n",
       "      <td>8.367347</td>\n",
       "      <td>0.000000</td>\n",
       "      <td>0.000000</td>\n",
       "      <td>9.836735</td>\n",
       "    </tr>\n",
       "    <tr>\n",
       "      <th>3</th>\n",
       "      <td>18</td>\n",
       "      <td>2012</td>\n",
       "      <td>3</td>\n",
       "      <td>0</td>\n",
       "      <td>1</td>\n",
       "      <td>0</td>\n",
       "      <td>1</td>\n",
       "      <td>0</td>\n",
       "      <td>1</td>\n",
       "      <td>0</td>\n",
       "      <td>...</td>\n",
       "      <td>4.200000</td>\n",
       "      <td>4.200000</td>\n",
       "      <td>0.000000</td>\n",
       "      <td>0.000000</td>\n",
       "      <td>12.100000</td>\n",
       "      <td>0.000000</td>\n",
       "      <td>9.400000</td>\n",
       "      <td>0.000000</td>\n",
       "      <td>0.000000</td>\n",
       "      <td>9.960000</td>\n",
       "    </tr>\n",
       "    <tr>\n",
       "      <th>4</th>\n",
       "      <td>18</td>\n",
       "      <td>2012</td>\n",
       "      <td>4</td>\n",
       "      <td>0</td>\n",
       "      <td>1</td>\n",
       "      <td>0</td>\n",
       "      <td>1</td>\n",
       "      <td>0</td>\n",
       "      <td>1</td>\n",
       "      <td>0</td>\n",
       "      <td>...</td>\n",
       "      <td>5.460000</td>\n",
       "      <td>5.460000</td>\n",
       "      <td>0.000000</td>\n",
       "      <td>0.000000</td>\n",
       "      <td>13.360000</td>\n",
       "      <td>0.000000</td>\n",
       "      <td>10.320000</td>\n",
       "      <td>0.000000</td>\n",
       "      <td>0.000000</td>\n",
       "      <td>10.280000</td>\n",
       "    </tr>\n",
       "    <tr>\n",
       "      <th>...</th>\n",
       "      <td>...</td>\n",
       "      <td>...</td>\n",
       "      <td>...</td>\n",
       "      <td>...</td>\n",
       "      <td>...</td>\n",
       "      <td>...</td>\n",
       "      <td>...</td>\n",
       "      <td>...</td>\n",
       "      <td>...</td>\n",
       "      <td>...</td>\n",
       "      <td>...</td>\n",
       "      <td>...</td>\n",
       "      <td>...</td>\n",
       "      <td>...</td>\n",
       "      <td>...</td>\n",
       "      <td>...</td>\n",
       "      <td>...</td>\n",
       "      <td>...</td>\n",
       "      <td>...</td>\n",
       "      <td>...</td>\n",
       "      <td>...</td>\n",
       "    </tr>\n",
       "    <tr>\n",
       "      <th>643685</th>\n",
       "      <td>1827860</td>\n",
       "      <td>2013</td>\n",
       "      <td>1</td>\n",
       "      <td>0</td>\n",
       "      <td>0</td>\n",
       "      <td>0</td>\n",
       "      <td>1</td>\n",
       "      <td>0</td>\n",
       "      <td>0</td>\n",
       "      <td>1</td>\n",
       "      <td>...</td>\n",
       "      <td>0.000000</td>\n",
       "      <td>0.000000</td>\n",
       "      <td>0.000000</td>\n",
       "      <td>0.000000</td>\n",
       "      <td>0.612903</td>\n",
       "      <td>0.000000</td>\n",
       "      <td>0.000000</td>\n",
       "      <td>0.000000</td>\n",
       "      <td>0.000000</td>\n",
       "      <td>0.000000</td>\n",
       "    </tr>\n",
       "    <tr>\n",
       "      <th>643686</th>\n",
       "      <td>1827860</td>\n",
       "      <td>2015</td>\n",
       "      <td>2</td>\n",
       "      <td>1</td>\n",
       "      <td>0</td>\n",
       "      <td>0</td>\n",
       "      <td>1</td>\n",
       "      <td>0</td>\n",
       "      <td>1</td>\n",
       "      <td>0</td>\n",
       "      <td>...</td>\n",
       "      <td>0.000000</td>\n",
       "      <td>0.000000</td>\n",
       "      <td>0.212121</td>\n",
       "      <td>0.212121</td>\n",
       "      <td>17.363636</td>\n",
       "      <td>0.000000</td>\n",
       "      <td>8.909091</td>\n",
       "      <td>0.000000</td>\n",
       "      <td>0.000000</td>\n",
       "      <td>7.121212</td>\n",
       "    </tr>\n",
       "    <tr>\n",
       "      <th>643687</th>\n",
       "      <td>1827860</td>\n",
       "      <td>2016</td>\n",
       "      <td>3</td>\n",
       "      <td>1</td>\n",
       "      <td>0</td>\n",
       "      <td>0</td>\n",
       "      <td>1</td>\n",
       "      <td>1</td>\n",
       "      <td>0</td>\n",
       "      <td>1</td>\n",
       "      <td>...</td>\n",
       "      <td>0.000000</td>\n",
       "      <td>0.000000</td>\n",
       "      <td>0.294118</td>\n",
       "      <td>0.205882</td>\n",
       "      <td>34.705882</td>\n",
       "      <td>0.000000</td>\n",
       "      <td>10.352941</td>\n",
       "      <td>1.705882</td>\n",
       "      <td>1.705882</td>\n",
       "      <td>23.911765</td>\n",
       "    </tr>\n",
       "    <tr>\n",
       "      <th>643688</th>\n",
       "      <td>1827869</td>\n",
       "      <td>2013</td>\n",
       "      <td>1</td>\n",
       "      <td>1</td>\n",
       "      <td>1</td>\n",
       "      <td>0</td>\n",
       "      <td>0</td>\n",
       "      <td>0</td>\n",
       "      <td>1</td>\n",
       "      <td>0</td>\n",
       "      <td>...</td>\n",
       "      <td>0.000000</td>\n",
       "      <td>0.000000</td>\n",
       "      <td>0.000000</td>\n",
       "      <td>0.000000</td>\n",
       "      <td>0.000000</td>\n",
       "      <td>0.525424</td>\n",
       "      <td>0.000000</td>\n",
       "      <td>0.000000</td>\n",
       "      <td>0.000000</td>\n",
       "      <td>0.000000</td>\n",
       "    </tr>\n",
       "    <tr>\n",
       "      <th>643689</th>\n",
       "      <td>1827869</td>\n",
       "      <td>2014</td>\n",
       "      <td>2</td>\n",
       "      <td>0</td>\n",
       "      <td>0</td>\n",
       "      <td>1</td>\n",
       "      <td>0</td>\n",
       "      <td>0</td>\n",
       "      <td>1</td>\n",
       "      <td>0</td>\n",
       "      <td>...</td>\n",
       "      <td>0.000000</td>\n",
       "      <td>0.666667</td>\n",
       "      <td>0.666667</td>\n",
       "      <td>0.000000</td>\n",
       "      <td>0.000000</td>\n",
       "      <td>8.950000</td>\n",
       "      <td>1.033333</td>\n",
       "      <td>0.083333</td>\n",
       "      <td>0.083333</td>\n",
       "      <td>8.133333</td>\n",
       "    </tr>\n",
       "  </tbody>\n",
       "</table>\n",
       "<p>643690 rows × 164 columns</p>\n",
       "</div>"
      ],
      "text/plain": [
       "         persnr  year  nrEntry  ltue  employed_before  receipt_leh_before  \\\n",
       "0             7  2015        1     0                1                   0   \n",
       "1            18  2010        1     1                0                   0   \n",
       "2            18  2011        2     0                1                   0   \n",
       "3            18  2012        3     0                1                   0   \n",
       "4            18  2012        4     0                1                   0   \n",
       "...         ...   ...      ...   ...              ...                 ...   \n",
       "643685  1827860  2013        1     0                0                   0   \n",
       "643686  1827860  2015        2     1                0                   0   \n",
       "643687  1827860  2016        3     1                0                   0   \n",
       "643688  1827869  2013        1     1                1                   0   \n",
       "643689  1827869  2014        2     0                0                   1   \n",
       "\n",
       "        receipt_lhg_before  se_before  ASU_notue_seeking_before  \\\n",
       "0                        0          0                         1   \n",
       "1                        0          0                         0   \n",
       "2                        1          0                         1   \n",
       "3                        1          0                         1   \n",
       "4                        1          0                         1   \n",
       "...                    ...        ...                       ...   \n",
       "643685                   1          0                         0   \n",
       "643686                   1          0                         1   \n",
       "643687                   1          1                         0   \n",
       "643688                   0          0                         1   \n",
       "643689                   0          0                         1   \n",
       "\n",
       "        ASU_other_before  ...  minijob_tot_dur_byage  ft_tot_dur_byage  \\\n",
       "0                      0  ...               0.000000          0.000000   \n",
       "1                      0  ...               0.000000          0.000000   \n",
       "2                      0  ...               2.714286          2.714286   \n",
       "3                      0  ...               4.200000          4.200000   \n",
       "4                      0  ...               5.460000          5.460000   \n",
       "...                  ...  ...                    ...               ...   \n",
       "643685                 1  ...               0.000000          0.000000   \n",
       "643686                 0  ...               0.000000          0.000000   \n",
       "643687                 1  ...               0.000000          0.000000   \n",
       "643688                 0  ...               0.000000          0.000000   \n",
       "643689                 0  ...               0.000000          0.666667   \n",
       "\n",
       "        befrist_tot_dur_byage  leih_tot_dur_byage  LHG_tot_dur_byage  \\\n",
       "0                   15.043478            0.000000           0.000000   \n",
       "1                    0.000000            0.000000           0.000000   \n",
       "2                    0.000000            0.000000          10.775510   \n",
       "3                    0.000000            0.000000          12.100000   \n",
       "4                    0.000000            0.000000          13.360000   \n",
       "...                       ...                 ...                ...   \n",
       "643685               0.000000            0.000000           0.612903   \n",
       "643686               0.212121            0.212121          17.363636   \n",
       "643687               0.294118            0.205882          34.705882   \n",
       "643688               0.000000            0.000000           0.000000   \n",
       "643689               0.666667            0.000000           0.000000   \n",
       "\n",
       "        LEH_tot_dur_byage  almp_tot_dur_byage  almp_aw_tot_dur_byage  \\\n",
       "0                0.000000            0.000000               0.000000   \n",
       "1                0.000000            0.000000               0.000000   \n",
       "2                0.000000            8.367347               0.000000   \n",
       "3                0.000000            9.400000               0.000000   \n",
       "4                0.000000           10.320000               0.000000   \n",
       "...                   ...                 ...                    ...   \n",
       "643685           0.000000            0.000000               0.000000   \n",
       "643686           0.000000            8.909091               0.000000   \n",
       "643687           0.000000           10.352941               1.705882   \n",
       "643688           0.525424            0.000000               0.000000   \n",
       "643689           8.950000            1.033333               0.083333   \n",
       "\n",
       "        se_tot_dur_byage  seeking1_tot_dur_byage  \n",
       "0               0.000000                0.000000  \n",
       "1               0.000000                0.000000  \n",
       "2               0.000000                9.836735  \n",
       "3               0.000000                9.960000  \n",
       "4               0.000000               10.280000  \n",
       "...                  ...                     ...  \n",
       "643685          0.000000                0.000000  \n",
       "643686          0.000000                7.121212  \n",
       "643687          1.705882               23.911765  \n",
       "643688          0.000000                0.000000  \n",
       "643689          0.083333                8.133333  \n",
       "\n",
       "[643690 rows x 164 columns]"
      ]
     },
     "execution_count": 10,
     "metadata": {},
     "output_type": "execute_result"
    }
   ],
   "source": [
    "siab"
   ]
  },
  {
   "cell_type": "markdown",
   "id": "1f87e805",
   "metadata": {
    "papermill": {
     "duration": 0.023567,
     "end_time": "2025-08-19T18:40:57.329275",
     "exception": false,
     "start_time": "2025-08-19T18:40:57.305708",
     "status": "completed"
    },
    "tags": []
   },
   "source": [
    "# Splitting Data and Setting Training Data Size"
   ]
  },
  {
   "cell_type": "code",
   "execution_count": 11,
   "id": "910ae358",
   "metadata": {
    "execution": {
     "iopub.execute_input": "2025-08-19T18:40:57.361963Z",
     "iopub.status.busy": "2025-08-19T18:40:57.361433Z",
     "iopub.status.idle": "2025-08-19T18:40:58.869421Z",
     "shell.execute_reply": "2025-08-19T18:40:58.868166Z"
    },
    "papermill": {
     "duration": 1.527214,
     "end_time": "2025-08-19T18:40:58.871368",
     "exception": false,
     "start_time": "2025-08-19T18:40:57.344154",
     "status": "completed"
    },
    "tags": []
   },
   "outputs": [],
   "source": [
    "from fairness_multiverse.universe import sample_by_year_size\n",
    "\n",
    "siab_train = sample_by_year_size(siab,\n",
    "                               training_year=universe[\"training_year\"],\n",
    "                               training_size=universe[\"training_size\"])"
   ]
  },
  {
   "cell_type": "code",
   "execution_count": 12,
   "id": "919c8ff5",
   "metadata": {
    "execution": {
     "iopub.execute_input": "2025-08-19T18:40:58.931077Z",
     "iopub.status.busy": "2025-08-19T18:40:58.930624Z",
     "iopub.status.idle": "2025-08-19T18:40:58.937086Z",
     "shell.execute_reply": "2025-08-19T18:40:58.936385Z"
    },
    "papermill": {
     "duration": 0.045002,
     "end_time": "2025-08-19T18:40:58.938235",
     "exception": false,
     "start_time": "2025-08-19T18:40:58.893233",
     "status": "completed"
    },
    "tags": []
   },
   "outputs": [
    {
     "data": {
      "text/plain": [
       "(5000, 164)"
      ]
     },
     "execution_count": 12,
     "metadata": {},
     "output_type": "execute_result"
    }
   ],
   "source": [
    "siab_train.shape"
   ]
  },
  {
   "cell_type": "code",
   "execution_count": 13,
   "id": "feb13bf4",
   "metadata": {
    "execution": {
     "iopub.execute_input": "2025-08-19T18:40:58.999574Z",
     "iopub.status.busy": "2025-08-19T18:40:58.999087Z",
     "iopub.status.idle": "2025-08-19T18:40:59.008886Z",
     "shell.execute_reply": "2025-08-19T18:40:59.008163Z"
    },
    "papermill": {
     "duration": 0.040245,
     "end_time": "2025-08-19T18:40:59.010092",
     "exception": false,
     "start_time": "2025-08-19T18:40:58.969847",
     "status": "completed"
    },
    "tags": []
   },
   "outputs": [
    {
     "data": {
      "text/plain": [
       "year\n",
       "2010    1000\n",
       "2011    1000\n",
       "2012    1000\n",
       "2013    1000\n",
       "2014    1000\n",
       "dtype: int64"
      ]
     },
     "metadata": {},
     "output_type": "display_data"
    }
   ],
   "source": [
    "display(siab_train.groupby(\"year\").size())"
   ]
  },
  {
   "cell_type": "code",
   "execution_count": 14,
   "id": "0997782f",
   "metadata": {
    "execution": {
     "iopub.execute_input": "2025-08-19T18:40:59.055231Z",
     "iopub.status.busy": "2025-08-19T18:40:59.054333Z",
     "iopub.status.idle": "2025-08-19T18:40:59.386279Z",
     "shell.execute_reply": "2025-08-19T18:40:59.385603Z"
    },
    "papermill": {
     "duration": 0.356625,
     "end_time": "2025-08-19T18:40:59.387906",
     "exception": false,
     "start_time": "2025-08-19T18:40:59.031281",
     "status": "completed"
    },
    "tags": []
   },
   "outputs": [],
   "source": [
    "#siab_train = siab_s[siab_s.year < 2015]\n",
    "siab_calib = siab[siab.year == 2015]\n",
    "siab_test = siab[siab.year == 2016]"
   ]
  },
  {
   "cell_type": "code",
   "execution_count": 15,
   "id": "2c1e4012",
   "metadata": {
    "execution": {
     "iopub.execute_input": "2025-08-19T18:40:59.429312Z",
     "iopub.status.busy": "2025-08-19T18:40:59.428247Z",
     "iopub.status.idle": "2025-08-19T18:40:59.449426Z",
     "shell.execute_reply": "2025-08-19T18:40:59.448528Z"
    },
    "papermill": {
     "duration": 0.045991,
     "end_time": "2025-08-19T18:40:59.451174",
     "exception": false,
     "start_time": "2025-08-19T18:40:59.405183",
     "status": "completed"
    },
    "tags": []
   },
   "outputs": [],
   "source": [
    "#siab_calib.shape"
   ]
  },
  {
   "cell_type": "code",
   "execution_count": 16,
   "id": "f66b54ca",
   "metadata": {
    "execution": {
     "iopub.execute_input": "2025-08-19T18:40:59.474750Z",
     "iopub.status.busy": "2025-08-19T18:40:59.474387Z",
     "iopub.status.idle": "2025-08-19T18:40:59.478110Z",
     "shell.execute_reply": "2025-08-19T18:40:59.477517Z"
    },
    "papermill": {
     "duration": 0.01605,
     "end_time": "2025-08-19T18:40:59.479464",
     "exception": false,
     "start_time": "2025-08-19T18:40:59.463414",
     "status": "completed"
    },
    "tags": []
   },
   "outputs": [],
   "source": [
    "#siab_test.shape"
   ]
  },
  {
   "cell_type": "code",
   "execution_count": 17,
   "id": "27e4384d",
   "metadata": {
    "execution": {
     "iopub.execute_input": "2025-08-19T18:40:59.515370Z",
     "iopub.status.busy": "2025-08-19T18:40:59.514947Z",
     "iopub.status.idle": "2025-08-19T18:40:59.527485Z",
     "shell.execute_reply": "2025-08-19T18:40:59.526713Z"
    },
    "papermill": {
     "duration": 0.039218,
     "end_time": "2025-08-19T18:40:59.528936",
     "exception": false,
     "start_time": "2025-08-19T18:40:59.489718",
     "status": "completed"
    },
    "tags": []
   },
   "outputs": [],
   "source": [
    "X_train = siab_train.iloc[:,4:164]\n",
    "y_train = siab_train.iloc[:, [3]]"
   ]
  },
  {
   "cell_type": "code",
   "execution_count": 18,
   "id": "08ee8389",
   "metadata": {
    "execution": {
     "iopub.execute_input": "2025-08-19T18:40:59.563832Z",
     "iopub.status.busy": "2025-08-19T18:40:59.563517Z",
     "iopub.status.idle": "2025-08-19T18:40:59.618055Z",
     "shell.execute_reply": "2025-08-19T18:40:59.617191Z"
    },
    "papermill": {
     "duration": 0.066784,
     "end_time": "2025-08-19T18:40:59.619426",
     "exception": false,
     "start_time": "2025-08-19T18:40:59.552642",
     "status": "completed"
    },
    "tags": []
   },
   "outputs": [],
   "source": [
    "X_calib = siab_calib.iloc[:,4:164]\n",
    "y_calib = siab_calib.iloc[:, [3]]"
   ]
  },
  {
   "cell_type": "code",
   "execution_count": 19,
   "id": "b7ff42e0",
   "metadata": {
    "execution": {
     "iopub.execute_input": "2025-08-19T18:40:59.643375Z",
     "iopub.status.busy": "2025-08-19T18:40:59.642991Z",
     "iopub.status.idle": "2025-08-19T18:40:59.782536Z",
     "shell.execute_reply": "2025-08-19T18:40:59.781615Z"
    },
    "papermill": {
     "duration": 0.152594,
     "end_time": "2025-08-19T18:40:59.784246",
     "exception": false,
     "start_time": "2025-08-19T18:40:59.631652",
     "status": "completed"
    },
    "tags": []
   },
   "outputs": [],
   "source": [
    "X_test = siab_test.iloc[:,4:164]\n",
    "y_true = siab_test.iloc[:, [3]]"
   ]
  },
  {
   "cell_type": "code",
   "execution_count": 20,
   "id": "0275101e",
   "metadata": {
    "execution": {
     "iopub.execute_input": "2025-08-19T18:40:59.815359Z",
     "iopub.status.busy": "2025-08-19T18:40:59.814901Z",
     "iopub.status.idle": "2025-08-19T18:40:59.924892Z",
     "shell.execute_reply": "2025-08-19T18:40:59.924056Z"
    },
    "papermill": {
     "duration": 0.129451,
     "end_time": "2025-08-19T18:40:59.926669",
     "exception": false,
     "start_time": "2025-08-19T18:40:59.797218",
     "status": "completed"
    },
    "tags": []
   },
   "outputs": [],
   "source": [
    "# Auxiliary data needed downstream in the pipeline\n",
    "\n",
    "org_train = X_train.copy()\n",
    "org_test = X_test.copy()\n",
    "org_calib = X_calib.copy()"
   ]
  },
  {
   "cell_type": "markdown",
   "id": "b461e618",
   "metadata": {
    "papermill": {
     "duration": 0.021477,
     "end_time": "2025-08-19T18:40:59.969798",
     "exception": false,
     "start_time": "2025-08-19T18:40:59.948321",
     "status": "completed"
    },
    "tags": []
   },
   "source": [
    "# Preprocessing Data"
   ]
  },
  {
   "cell_type": "code",
   "execution_count": 21,
   "id": "78e74c4b",
   "metadata": {
    "execution": {
     "iopub.execute_input": "2025-08-19T18:41:00.054990Z",
     "iopub.status.busy": "2025-08-19T18:41:00.054554Z",
     "iopub.status.idle": "2025-08-19T18:41:00.059406Z",
     "shell.execute_reply": "2025-08-19T18:41:00.058733Z"
    },
    "papermill": {
     "duration": 0.039975,
     "end_time": "2025-08-19T18:41:00.060988",
     "exception": false,
     "start_time": "2025-08-19T18:41:00.021013",
     "status": "completed"
    },
    "tags": []
   },
   "outputs": [],
   "source": [
    "# EXCLUDE PROTECTED FEATURES\n",
    "# --------------------------\n",
    "\n",
    "excluded_features = universe[\"exclude_features\"].split(\"-\")\n",
    "excluded_features_dictionary = {\n",
    "    \"nationality\": [\"maxdeutsch1\", \"maxdeutsch.Missing.\"],\n",
    "    \"sex\": [\"frau1\"],\n",
    "    \"age\": [\"age\"],\n",
    "}"
   ]
  },
  {
   "cell_type": "code",
   "execution_count": 22,
   "id": "f8e63555",
   "metadata": {
    "execution": {
     "iopub.execute_input": "2025-08-19T18:41:00.125522Z",
     "iopub.status.busy": "2025-08-19T18:41:00.125086Z",
     "iopub.status.idle": "2025-08-19T18:41:00.129918Z",
     "shell.execute_reply": "2025-08-19T18:41:00.129228Z"
    },
    "papermill": {
     "duration": 0.018327,
     "end_time": "2025-08-19T18:41:00.131037",
     "exception": false,
     "start_time": "2025-08-19T18:41:00.112710",
     "status": "completed"
    },
    "tags": []
   },
   "outputs": [],
   "source": [
    "excluded_features_columns = [\n",
    "    excluded_features_dictionary[f] for f in excluded_features if len(f) > 0 and f != \"none\"\n",
    "]"
   ]
  },
  {
   "cell_type": "code",
   "execution_count": 23,
   "id": "da781f7c",
   "metadata": {
    "execution": {
     "iopub.execute_input": "2025-08-19T18:41:00.226415Z",
     "iopub.status.busy": "2025-08-19T18:41:00.225950Z",
     "iopub.status.idle": "2025-08-19T18:41:00.230947Z",
     "shell.execute_reply": "2025-08-19T18:41:00.230080Z"
    },
    "papermill": {
     "duration": 0.088864,
     "end_time": "2025-08-19T18:41:00.232115",
     "exception": false,
     "start_time": "2025-08-19T18:41:00.143251",
     "status": "completed"
    },
    "tags": []
   },
   "outputs": [],
   "source": [
    "from fairness_multiverse.universe import flatten_once\n",
    "\n",
    "excluded_features_columns = flatten_once(excluded_features_columns)"
   ]
  },
  {
   "cell_type": "code",
   "execution_count": 24,
   "id": "37fef0f0",
   "metadata": {
    "execution": {
     "iopub.execute_input": "2025-08-19T18:41:00.273879Z",
     "iopub.status.busy": "2025-08-19T18:41:00.273431Z",
     "iopub.status.idle": "2025-08-19T18:41:00.278462Z",
     "shell.execute_reply": "2025-08-19T18:41:00.277757Z"
    },
    "papermill": {
     "duration": 0.018865,
     "end_time": "2025-08-19T18:41:00.279832",
     "exception": false,
     "start_time": "2025-08-19T18:41:00.260967",
     "status": "completed"
    },
    "tags": []
   },
   "outputs": [],
   "source": [
    "if len(excluded_features_columns) > 0:\n",
    "    print(f\"Dropping features: {excluded_features_columns}\")\n",
    "    X_train.drop(excluded_features_columns, axis=1, inplace=True)"
   ]
  },
  {
   "cell_type": "code",
   "execution_count": 25,
   "id": "d029e3e9",
   "metadata": {
    "execution": {
     "iopub.execute_input": "2025-08-19T18:41:00.303157Z",
     "iopub.status.busy": "2025-08-19T18:41:00.302686Z",
     "iopub.status.idle": "2025-08-19T18:41:00.307837Z",
     "shell.execute_reply": "2025-08-19T18:41:00.307041Z"
    },
    "papermill": {
     "duration": 0.018377,
     "end_time": "2025-08-19T18:41:00.309238",
     "exception": false,
     "start_time": "2025-08-19T18:41:00.290861",
     "status": "completed"
    },
    "tags": []
   },
   "outputs": [],
   "source": [
    "if len(excluded_features_columns) > 0:\n",
    "    print(f\"Dropping features: {excluded_features_columns}\")\n",
    "    X_test.drop(excluded_features_columns, axis=1, inplace=True)"
   ]
  },
  {
   "cell_type": "code",
   "execution_count": 26,
   "id": "01d571f0",
   "metadata": {
    "execution": {
     "iopub.execute_input": "2025-08-19T18:41:00.333392Z",
     "iopub.status.busy": "2025-08-19T18:41:00.332944Z",
     "iopub.status.idle": "2025-08-19T18:41:00.337967Z",
     "shell.execute_reply": "2025-08-19T18:41:00.337196Z"
    },
    "papermill": {
     "duration": 0.018185,
     "end_time": "2025-08-19T18:41:00.339309",
     "exception": false,
     "start_time": "2025-08-19T18:41:00.321124",
     "status": "completed"
    },
    "tags": []
   },
   "outputs": [],
   "source": [
    "if len(excluded_features_columns) > 0:\n",
    "    print(f\"Dropping features: {excluded_features_columns}\")\n",
    "    X_calib.drop(excluded_features_columns, axis=1, inplace=True)"
   ]
  },
  {
   "cell_type": "code",
   "execution_count": 27,
   "id": "3037356e",
   "metadata": {
    "execution": {
     "iopub.execute_input": "2025-08-19T18:41:00.362987Z",
     "iopub.status.busy": "2025-08-19T18:41:00.362531Z",
     "iopub.status.idle": "2025-08-19T18:41:00.367336Z",
     "shell.execute_reply": "2025-08-19T18:41:00.366541Z"
    },
    "papermill": {
     "duration": 0.017949,
     "end_time": "2025-08-19T18:41:00.368683",
     "exception": false,
     "start_time": "2025-08-19T18:41:00.350734",
     "status": "completed"
    },
    "tags": []
   },
   "outputs": [],
   "source": [
    "# EXCLUDE CERTAIN SUBGROUPS\n",
    "# -------------------------\n",
    "\n",
    "mode = universe.get(\"exclude_subgroups\", \"keep-all\") # Defaults to \"keep-all\" if the key is missing."
   ]
  },
  {
   "cell_type": "code",
   "execution_count": 28,
   "id": "9d1e63fd",
   "metadata": {
    "execution": {
     "iopub.execute_input": "2025-08-19T18:41:00.392853Z",
     "iopub.status.busy": "2025-08-19T18:41:00.392376Z",
     "iopub.status.idle": "2025-08-19T18:41:00.398057Z",
     "shell.execute_reply": "2025-08-19T18:41:00.397179Z"
    },
    "papermill": {
     "duration": 0.019834,
     "end_time": "2025-08-19T18:41:00.399412",
     "exception": false,
     "start_time": "2025-08-19T18:41:00.379578",
     "status": "completed"
    },
    "tags": []
   },
   "outputs": [],
   "source": [
    "if mode == \"keep-all\":\n",
    "    keep_mask = pd.Series(True, index=org_train.index)\n",
    "\n",
    "elif mode == \"drop-non-german\":\n",
    "    keep_mask = (org_train[\"maxdeutsch1\"] == 1) & (org_train[\"maxdeutsch.Missing.\"] == 0)\n",
    "\n",
    "else:\n",
    "    raise ValueError(f\"Unsupported mode for exclude_subgroups: {mode}\")"
   ]
  },
  {
   "cell_type": "code",
   "execution_count": 29,
   "id": "d3b65474",
   "metadata": {
    "execution": {
     "iopub.execute_input": "2025-08-19T18:41:00.480329Z",
     "iopub.status.busy": "2025-08-19T18:41:00.479905Z",
     "iopub.status.idle": "2025-08-19T18:41:00.486242Z",
     "shell.execute_reply": "2025-08-19T18:41:00.485574Z"
    },
    "papermill": {
     "duration": 0.072413,
     "end_time": "2025-08-19T18:41:00.487598",
     "exception": false,
     "start_time": "2025-08-19T18:41:00.415185",
     "status": "completed"
    },
    "tags": []
   },
   "outputs": [],
   "source": [
    "n_drop = (~keep_mask).sum() # Calculates how many rows are set to be dropped\n",
    "if n_drop > 0:\n",
    "    pct = n_drop / len(keep_mask) * 100\n",
    "    print(f\"Dropping {n_drop} rows ({pct:.2f}%) where mode='{mode}'\")"
   ]
  },
  {
   "cell_type": "code",
   "execution_count": 30,
   "id": "f44389b3",
   "metadata": {
    "execution": {
     "iopub.execute_input": "2025-08-19T18:41:00.525721Z",
     "iopub.status.busy": "2025-08-19T18:41:00.525286Z",
     "iopub.status.idle": "2025-08-19T18:41:00.535023Z",
     "shell.execute_reply": "2025-08-19T18:41:00.534295Z"
    },
    "papermill": {
     "duration": 0.023232,
     "end_time": "2025-08-19T18:41:00.536257",
     "exception": false,
     "start_time": "2025-08-19T18:41:00.513025",
     "status": "completed"
    },
    "tags": []
   },
   "outputs": [],
   "source": [
    "X_train = X_train[keep_mask]"
   ]
  },
  {
   "cell_type": "code",
   "execution_count": 31,
   "id": "ceca8c2a",
   "metadata": {
    "execution": {
     "iopub.execute_input": "2025-08-19T18:41:00.578619Z",
     "iopub.status.busy": "2025-08-19T18:41:00.578295Z",
     "iopub.status.idle": "2025-08-19T18:41:00.584752Z",
     "shell.execute_reply": "2025-08-19T18:41:00.583304Z"
    },
    "papermill": {
     "duration": 0.038777,
     "end_time": "2025-08-19T18:41:00.586053",
     "exception": false,
     "start_time": "2025-08-19T18:41:00.547276",
     "status": "completed"
    },
    "tags": []
   },
   "outputs": [],
   "source": [
    "y_train = y_train[keep_mask]"
   ]
  },
  {
   "cell_type": "markdown",
   "id": "04d31e2f",
   "metadata": {
    "papermill": {
     "duration": 0.010754,
     "end_time": "2025-08-19T18:41:00.608166",
     "exception": false,
     "start_time": "2025-08-19T18:41:00.597412",
     "status": "completed"
    },
    "tags": []
   },
   "source": [
    "# Model Training"
   ]
  },
  {
   "cell_type": "code",
   "execution_count": 32,
   "id": "db991733",
   "metadata": {
    "execution": {
     "iopub.execute_input": "2025-08-19T18:41:00.630930Z",
     "iopub.status.busy": "2025-08-19T18:41:00.630496Z",
     "iopub.status.idle": "2025-08-19T18:41:00.742762Z",
     "shell.execute_reply": "2025-08-19T18:41:00.742072Z"
    },
    "papermill": {
     "duration": 0.125582,
     "end_time": "2025-08-19T18:41:00.744403",
     "exception": false,
     "start_time": "2025-08-19T18:41:00.618821",
     "status": "completed"
    },
    "tags": []
   },
   "outputs": [],
   "source": [
    "from sklearn.linear_model import LogisticRegression\n",
    "from sklearn.ensemble import GradientBoostingClassifier, RandomForestClassifier\n",
    "\n",
    "if (universe[\"model\"] == \"logreg\"):\n",
    "    model = LogisticRegression() #penalty=\"none\", solver=\"newton-cg\", max_iter=1)\n",
    "elif (universe[\"model\"] == \"penalized_logreg\"):\n",
    "    model = LogisticRegression(penalty=\"l2\", C=0.1) #, solver=\"newton-cg\", max_iter=1)\n",
    "elif (universe[\"model\"] == \"rf\"):\n",
    "    model = RandomForestClassifier() # n_estimators=100, n_jobs=-1\n",
    "elif (universe[\"model\"] == \"gbm\"):\n",
    "    model = GradientBoostingClassifier()\n",
    "elif (universe[\"model\"] == \"elasticnet\"):\n",
    "    model = LogisticRegression(penalty = 'elasticnet', solver = 'saga', l1_ratio = 0.5) # max_iter=5000\n",
    "else:\n",
    "    raise \"Unsupported universe.model\""
   ]
  },
  {
   "cell_type": "code",
   "execution_count": 33,
   "id": "a4b5cd25",
   "metadata": {
    "execution": {
     "iopub.execute_input": "2025-08-19T18:41:00.768327Z",
     "iopub.status.busy": "2025-08-19T18:41:00.767900Z",
     "iopub.status.idle": "2025-08-19T18:41:00.772879Z",
     "shell.execute_reply": "2025-08-19T18:41:00.772210Z"
    },
    "papermill": {
     "duration": 0.018738,
     "end_time": "2025-08-19T18:41:00.774566",
     "exception": false,
     "start_time": "2025-08-19T18:41:00.755828",
     "status": "completed"
    },
    "tags": []
   },
   "outputs": [],
   "source": [
    "from sklearn.pipeline import Pipeline\n",
    "from sklearn.preprocessing import StandardScaler\n",
    "\n",
    "model = Pipeline([\n",
    "    #(\"continuous_processor\", continuous_processor),\n",
    "    #(\"categorical_preprocessor\", categorical_preprocessor),\n",
    "    (\"scale\", StandardScaler() if universe[\"scale\"] == \"scale\" else None), \n",
    "    (\"model\", model),\n",
    "])"
   ]
  },
  {
   "cell_type": "code",
   "execution_count": 34,
   "id": "283a904d",
   "metadata": {
    "execution": {
     "iopub.execute_input": "2025-08-19T18:41:00.798440Z",
     "iopub.status.busy": "2025-08-19T18:41:00.798010Z",
     "iopub.status.idle": "2025-08-19T18:41:00.955012Z",
     "shell.execute_reply": "2025-08-19T18:41:00.954086Z"
    },
    "papermill": {
     "duration": 0.170417,
     "end_time": "2025-08-19T18:41:00.956277",
     "exception": false,
     "start_time": "2025-08-19T18:41:00.785860",
     "status": "completed"
    },
    "tags": []
   },
   "outputs": [
    {
     "data": {
      "text/html": [
       "<style>#sk-container-id-1 {color: black;background-color: white;}#sk-container-id-1 pre{padding: 0;}#sk-container-id-1 div.sk-toggleable {background-color: white;}#sk-container-id-1 label.sk-toggleable__label {cursor: pointer;display: block;width: 100%;margin-bottom: 0;padding: 0.3em;box-sizing: border-box;text-align: center;}#sk-container-id-1 label.sk-toggleable__label-arrow:before {content: \"▸\";float: left;margin-right: 0.25em;color: #696969;}#sk-container-id-1 label.sk-toggleable__label-arrow:hover:before {color: black;}#sk-container-id-1 div.sk-estimator:hover label.sk-toggleable__label-arrow:before {color: black;}#sk-container-id-1 div.sk-toggleable__content {max-height: 0;max-width: 0;overflow: hidden;text-align: left;background-color: #f0f8ff;}#sk-container-id-1 div.sk-toggleable__content pre {margin: 0.2em;color: black;border-radius: 0.25em;background-color: #f0f8ff;}#sk-container-id-1 input.sk-toggleable__control:checked~div.sk-toggleable__content {max-height: 200px;max-width: 100%;overflow: auto;}#sk-container-id-1 input.sk-toggleable__control:checked~label.sk-toggleable__label-arrow:before {content: \"▾\";}#sk-container-id-1 div.sk-estimator input.sk-toggleable__control:checked~label.sk-toggleable__label {background-color: #d4ebff;}#sk-container-id-1 div.sk-label input.sk-toggleable__control:checked~label.sk-toggleable__label {background-color: #d4ebff;}#sk-container-id-1 input.sk-hidden--visually {border: 0;clip: rect(1px 1px 1px 1px);clip: rect(1px, 1px, 1px, 1px);height: 1px;margin: -1px;overflow: hidden;padding: 0;position: absolute;width: 1px;}#sk-container-id-1 div.sk-estimator {font-family: monospace;background-color: #f0f8ff;border: 1px dotted black;border-radius: 0.25em;box-sizing: border-box;margin-bottom: 0.5em;}#sk-container-id-1 div.sk-estimator:hover {background-color: #d4ebff;}#sk-container-id-1 div.sk-parallel-item::after {content: \"\";width: 100%;border-bottom: 1px solid gray;flex-grow: 1;}#sk-container-id-1 div.sk-label:hover label.sk-toggleable__label {background-color: #d4ebff;}#sk-container-id-1 div.sk-serial::before {content: \"\";position: absolute;border-left: 1px solid gray;box-sizing: border-box;top: 0;bottom: 0;left: 50%;z-index: 0;}#sk-container-id-1 div.sk-serial {display: flex;flex-direction: column;align-items: center;background-color: white;padding-right: 0.2em;padding-left: 0.2em;position: relative;}#sk-container-id-1 div.sk-item {position: relative;z-index: 1;}#sk-container-id-1 div.sk-parallel {display: flex;align-items: stretch;justify-content: center;background-color: white;position: relative;}#sk-container-id-1 div.sk-item::before, #sk-container-id-1 div.sk-parallel-item::before {content: \"\";position: absolute;border-left: 1px solid gray;box-sizing: border-box;top: 0;bottom: 0;left: 50%;z-index: -1;}#sk-container-id-1 div.sk-parallel-item {display: flex;flex-direction: column;z-index: 1;position: relative;background-color: white;}#sk-container-id-1 div.sk-parallel-item:first-child::after {align-self: flex-end;width: 50%;}#sk-container-id-1 div.sk-parallel-item:last-child::after {align-self: flex-start;width: 50%;}#sk-container-id-1 div.sk-parallel-item:only-child::after {width: 0;}#sk-container-id-1 div.sk-dashed-wrapped {border: 1px dashed gray;margin: 0 0.4em 0.5em 0.4em;box-sizing: border-box;padding-bottom: 0.4em;background-color: white;}#sk-container-id-1 div.sk-label label {font-family: monospace;font-weight: bold;display: inline-block;line-height: 1.2em;}#sk-container-id-1 div.sk-label-container {text-align: center;}#sk-container-id-1 div.sk-container {/* jupyter's `normalize.less` sets `[hidden] { display: none; }` but bootstrap.min.css set `[hidden] { display: none !important; }` so we also need the `!important` here to be able to override the default hidden behavior on the sphinx rendered scikit-learn.org. See: https://github.com/scikit-learn/scikit-learn/issues/21755 */display: inline-block !important;position: relative;}#sk-container-id-1 div.sk-text-repr-fallback {display: none;}</style><div id=\"sk-container-id-1\" class=\"sk-top-container\"><div class=\"sk-text-repr-fallback\"><pre>Pipeline(steps=[(&#x27;scale&#x27;, StandardScaler()),\n",
       "                (&#x27;model&#x27;, LogisticRegression(C=0.1))])</pre><b>In a Jupyter environment, please rerun this cell to show the HTML representation or trust the notebook. <br />On GitHub, the HTML representation is unable to render, please try loading this page with nbviewer.org.</b></div><div class=\"sk-container\" hidden><div class=\"sk-item sk-dashed-wrapped\"><div class=\"sk-label-container\"><div class=\"sk-label sk-toggleable\"><input class=\"sk-toggleable__control sk-hidden--visually\" id=\"sk-estimator-id-1\" type=\"checkbox\" ><label for=\"sk-estimator-id-1\" class=\"sk-toggleable__label sk-toggleable__label-arrow\">Pipeline</label><div class=\"sk-toggleable__content\"><pre>Pipeline(steps=[(&#x27;scale&#x27;, StandardScaler()),\n",
       "                (&#x27;model&#x27;, LogisticRegression(C=0.1))])</pre></div></div></div><div class=\"sk-serial\"><div class=\"sk-item\"><div class=\"sk-estimator sk-toggleable\"><input class=\"sk-toggleable__control sk-hidden--visually\" id=\"sk-estimator-id-2\" type=\"checkbox\" ><label for=\"sk-estimator-id-2\" class=\"sk-toggleable__label sk-toggleable__label-arrow\">StandardScaler</label><div class=\"sk-toggleable__content\"><pre>StandardScaler()</pre></div></div></div><div class=\"sk-item\"><div class=\"sk-estimator sk-toggleable\"><input class=\"sk-toggleable__control sk-hidden--visually\" id=\"sk-estimator-id-3\" type=\"checkbox\" ><label for=\"sk-estimator-id-3\" class=\"sk-toggleable__label sk-toggleable__label-arrow\">LogisticRegression</label><div class=\"sk-toggleable__content\"><pre>LogisticRegression(C=0.1)</pre></div></div></div></div></div></div></div>"
      ],
      "text/plain": [
       "Pipeline(steps=[('scale', StandardScaler()),\n",
       "                ('model', LogisticRegression(C=0.1))])"
      ]
     },
     "execution_count": 34,
     "metadata": {},
     "output_type": "execute_result"
    }
   ],
   "source": [
    "model.fit(X_train, y_train.values.ravel())"
   ]
  },
  {
   "cell_type": "code",
   "execution_count": 35,
   "id": "6e15e313",
   "metadata": {
    "execution": {
     "iopub.execute_input": "2025-08-19T18:41:00.995370Z",
     "iopub.status.busy": "2025-08-19T18:41:00.995007Z",
     "iopub.status.idle": "2025-08-19T18:41:01.302440Z",
     "shell.execute_reply": "2025-08-19T18:41:01.301726Z"
    },
    "papermill": {
     "duration": 0.335376,
     "end_time": "2025-08-19T18:41:01.303615",
     "exception": false,
     "start_time": "2025-08-19T18:41:00.968239",
     "status": "completed"
    },
    "tags": []
   },
   "outputs": [
    {
     "data": {
      "text/plain": [
       "0.8533831233976146"
      ]
     },
     "execution_count": 35,
     "metadata": {},
     "output_type": "execute_result"
    }
   ],
   "source": [
    "from fairness_multiverse.universe import predict_w_threshold\n",
    "\n",
    "probs_test = model.predict_proba(X_test)\n",
    "\n",
    "'''\n",
    "Below code returns a boolean array (or binary 0/1 array depending on how it’s used) where each element \n",
    "is True if the probability of class 1 is greater than or equal to the threshold, and False otherwise.\n",
    "'''\n",
    "y_pred_default = predict_w_threshold(probs_test, 0.5)\n",
    "\n",
    "from sklearn.metrics import accuracy_score\n",
    "\n",
    "# Naive prediction\n",
    "accuracy_score(y_true = y_true, y_pred = y_pred_default)"
   ]
  },
  {
   "cell_type": "code",
   "execution_count": 36,
   "id": "6f14067c",
   "metadata": {
    "execution": {
     "iopub.execute_input": "2025-08-19T18:41:01.357467Z",
     "iopub.status.busy": "2025-08-19T18:41:01.357013Z",
     "iopub.status.idle": "2025-08-19T18:41:01.653473Z",
     "shell.execute_reply": "2025-08-19T18:41:01.652566Z"
    },
    "papermill": {
     "duration": 0.327679,
     "end_time": "2025-08-19T18:41:01.655146",
     "exception": false,
     "start_time": "2025-08-19T18:41:01.327467",
     "status": "completed"
    },
    "tags": []
   },
   "outputs": [
    {
     "data": {
      "text/plain": [
       "array([0, 0, 0, ..., 0, 0, 0])"
      ]
     },
     "execution_count": 36,
     "metadata": {},
     "output_type": "execute_result"
    }
   ],
   "source": [
    "model.predict(X_test)"
   ]
  },
  {
   "cell_type": "markdown",
   "id": "3759920c",
   "metadata": {
    "papermill": {
     "duration": 0.01154,
     "end_time": "2025-08-19T18:41:01.678741",
     "exception": false,
     "start_time": "2025-08-19T18:41:01.667201",
     "status": "completed"
    },
    "tags": []
   },
   "source": [
    "# Conformal Prediction"
   ]
  },
  {
   "cell_type": "code",
   "execution_count": 37,
   "id": "14b27f59",
   "metadata": {
    "execution": {
     "iopub.execute_input": "2025-08-19T18:41:01.702407Z",
     "iopub.status.busy": "2025-08-19T18:41:01.702087Z",
     "iopub.status.idle": "2025-08-19T18:41:01.706456Z",
     "shell.execute_reply": "2025-08-19T18:41:01.705780Z"
    },
    "papermill": {
     "duration": 0.018684,
     "end_time": "2025-08-19T18:41:01.708528",
     "exception": false,
     "start_time": "2025-08-19T18:41:01.689844",
     "status": "completed"
    },
    "tags": []
   },
   "outputs": [],
   "source": [
    "# Miscoverage level for conformal prediction (10% allowed error rate => 90% target coverage)\n",
    "alpha = 0.1"
   ]
  },
  {
   "cell_type": "code",
   "execution_count": 38,
   "id": "59102472",
   "metadata": {
    "execution": {
     "iopub.execute_input": "2025-08-19T18:41:01.733056Z",
     "iopub.status.busy": "2025-08-19T18:41:01.732754Z",
     "iopub.status.idle": "2025-08-19T18:41:01.910032Z",
     "shell.execute_reply": "2025-08-19T18:41:01.909323Z"
    },
    "papermill": {
     "duration": 0.190733,
     "end_time": "2025-08-19T18:41:01.911390",
     "exception": false,
     "start_time": "2025-08-19T18:41:01.720657",
     "status": "completed"
    },
    "tags": []
   },
   "outputs": [],
   "source": [
    "probs_calib = model.predict_proba(X_calib)"
   ]
  },
  {
   "cell_type": "code",
   "execution_count": 39,
   "id": "a792d4dd",
   "metadata": {
    "execution": {
     "iopub.execute_input": "2025-08-19T18:41:01.939467Z",
     "iopub.status.busy": "2025-08-19T18:41:01.939003Z",
     "iopub.status.idle": "2025-08-19T18:41:01.947590Z",
     "shell.execute_reply": "2025-08-19T18:41:01.946186Z"
    },
    "papermill": {
     "duration": 0.026727,
     "end_time": "2025-08-19T18:41:01.951683",
     "exception": false,
     "start_time": "2025-08-19T18:41:01.924956",
     "status": "completed"
    },
    "tags": []
   },
   "outputs": [],
   "source": [
    "y_calib = y_calib.values.ravel().astype(int)"
   ]
  },
  {
   "cell_type": "code",
   "execution_count": 40,
   "id": "650fd033",
   "metadata": {
    "execution": {
     "iopub.execute_input": "2025-08-19T18:41:01.980199Z",
     "iopub.status.busy": "2025-08-19T18:41:01.979888Z",
     "iopub.status.idle": "2025-08-19T18:41:01.986628Z",
     "shell.execute_reply": "2025-08-19T18:41:01.985761Z"
    },
    "papermill": {
     "duration": 0.021276,
     "end_time": "2025-08-19T18:41:01.988691",
     "exception": false,
     "start_time": "2025-08-19T18:41:01.967415",
     "status": "completed"
    },
    "tags": []
   },
   "outputs": [],
   "source": [
    "from fairness_multiverse.conformal import compute_nc_scores\n",
    "\n",
    "# Compute nonconformity scores on calibration set (1 - probability of true class)\n",
    "nc_scores = compute_nc_scores(probs_calib, y_calib)"
   ]
  },
  {
   "cell_type": "code",
   "execution_count": 41,
   "id": "28ada44c",
   "metadata": {
    "execution": {
     "iopub.execute_input": "2025-08-19T18:41:02.014544Z",
     "iopub.status.busy": "2025-08-19T18:41:02.014227Z",
     "iopub.status.idle": "2025-08-19T18:41:02.020333Z",
     "shell.execute_reply": "2025-08-19T18:41:02.019565Z"
    },
    "papermill": {
     "duration": 0.021394,
     "end_time": "2025-08-19T18:41:02.022849",
     "exception": false,
     "start_time": "2025-08-19T18:41:02.001455",
     "status": "completed"
    },
    "tags": []
   },
   "outputs": [],
   "source": [
    "from fairness_multiverse.conformal import find_threshold\n",
    "\n",
    "# Find conformal threshold q_hat for the given alpha (split conformal method)\n",
    "q_hat = find_threshold(nc_scores, alpha)"
   ]
  },
  {
   "cell_type": "code",
   "execution_count": 42,
   "id": "df56469e",
   "metadata": {
    "execution": {
     "iopub.execute_input": "2025-08-19T18:41:02.049688Z",
     "iopub.status.busy": "2025-08-19T18:41:02.049370Z",
     "iopub.status.idle": "2025-08-19T18:41:02.055282Z",
     "shell.execute_reply": "2025-08-19T18:41:02.054440Z"
    },
    "papermill": {
     "duration": 0.021119,
     "end_time": "2025-08-19T18:41:02.058012",
     "exception": false,
     "start_time": "2025-08-19T18:41:02.036893",
     "status": "completed"
    },
    "tags": []
   },
   "outputs": [
    {
     "data": {
      "text/plain": [
       "0.6778311416485453"
      ]
     },
     "execution_count": 42,
     "metadata": {},
     "output_type": "execute_result"
    }
   ],
   "source": [
    "q_hat"
   ]
  },
  {
   "cell_type": "code",
   "execution_count": 43,
   "id": "aa1f5faa",
   "metadata": {
    "execution": {
     "iopub.execute_input": "2025-08-19T18:41:02.083207Z",
     "iopub.status.busy": "2025-08-19T18:41:02.082876Z",
     "iopub.status.idle": "2025-08-19T18:41:02.711122Z",
     "shell.execute_reply": "2025-08-19T18:41:02.709885Z"
    },
    "papermill": {
     "duration": 0.642631,
     "end_time": "2025-08-19T18:41:02.712855",
     "exception": false,
     "start_time": "2025-08-19T18:41:02.070224",
     "status": "completed"
    },
    "tags": []
   },
   "outputs": [],
   "source": [
    "from fairness_multiverse.conformal import predict_conformal_sets\n",
    "\n",
    "# Generate prediction sets for each test example\n",
    "pred_sets = predict_conformal_sets(model, X_test, q_hat)"
   ]
  },
  {
   "cell_type": "code",
   "execution_count": 44,
   "id": "97f67a6b",
   "metadata": {
    "execution": {
     "iopub.execute_input": "2025-08-19T18:41:02.739077Z",
     "iopub.status.busy": "2025-08-19T18:41:02.738693Z",
     "iopub.status.idle": "2025-08-19T18:41:02.746716Z",
     "shell.execute_reply": "2025-08-19T18:41:02.745936Z"
    },
    "papermill": {
     "duration": 0.028992,
     "end_time": "2025-08-19T18:41:02.754336",
     "exception": false,
     "start_time": "2025-08-19T18:41:02.725344",
     "status": "completed"
    },
    "tags": []
   },
   "outputs": [],
   "source": [
    "y_true = y_true.squeeze()"
   ]
  },
  {
   "cell_type": "code",
   "execution_count": 45,
   "id": "e700e9a7",
   "metadata": {
    "execution": {
     "iopub.execute_input": "2025-08-19T18:41:02.807074Z",
     "iopub.status.busy": "2025-08-19T18:41:02.806725Z",
     "iopub.status.idle": "2025-08-19T18:41:03.622862Z",
     "shell.execute_reply": "2025-08-19T18:41:03.621575Z"
    },
    "papermill": {
     "duration": 0.843448,
     "end_time": "2025-08-19T18:41:03.624508",
     "exception": false,
     "start_time": "2025-08-19T18:41:02.781060",
     "status": "completed"
    },
    "tags": []
   },
   "outputs": [],
   "source": [
    "from fairness_multiverse.conformal import evaluate_sets\n",
    "\n",
    "# Evaluate coverage and average set size on test data\n",
    "metrics = evaluate_sets(pred_sets, y_true)"
   ]
  },
  {
   "cell_type": "markdown",
   "id": "efbacec0",
   "metadata": {
    "papermill": {
     "duration": 0.016506,
     "end_time": "2025-08-19T18:41:03.669242",
     "exception": false,
     "start_time": "2025-08-19T18:41:03.652736",
     "status": "completed"
    },
    "tags": []
   },
   "source": [
    "# CP Metrics"
   ]
  },
  {
   "cell_type": "code",
   "execution_count": 46,
   "id": "9de55fb1",
   "metadata": {
    "execution": {
     "iopub.execute_input": "2025-08-19T18:41:03.731630Z",
     "iopub.status.busy": "2025-08-19T18:41:03.731140Z",
     "iopub.status.idle": "2025-08-19T18:41:03.745691Z",
     "shell.execute_reply": "2025-08-19T18:41:03.744772Z"
    },
    "papermill": {
     "duration": 0.054122,
     "end_time": "2025-08-19T18:41:03.747147",
     "exception": false,
     "start_time": "2025-08-19T18:41:03.693025",
     "status": "completed"
    },
    "tags": []
   },
   "outputs": [
    {
     "data": {
      "text/plain": [
       "{'coverage': 0.9116597926652548, 'avg_size': 1.146382788986735}"
      ]
     },
     "execution_count": 46,
     "metadata": {},
     "output_type": "execute_result"
    }
   ],
   "source": [
    "metrics"
   ]
  },
  {
   "cell_type": "code",
   "execution_count": 47,
   "id": "64c340a1",
   "metadata": {
    "execution": {
     "iopub.execute_input": "2025-08-19T18:41:03.795298Z",
     "iopub.status.busy": "2025-08-19T18:41:03.794840Z",
     "iopub.status.idle": "2025-08-19T18:41:03.801379Z",
     "shell.execute_reply": "2025-08-19T18:41:03.800683Z"
    },
    "papermill": {
     "duration": 0.038569,
     "end_time": "2025-08-19T18:41:03.804639",
     "exception": false,
     "start_time": "2025-08-19T18:41:03.766070",
     "status": "completed"
    },
    "tags": []
   },
   "outputs": [],
   "source": [
    "example_universe = universe.copy()\n",
    "universe_training_year = example_universe.get(\"training_year\")\n",
    "universe_training_size = example_universe.get(\"training_size\")\n",
    "universe_scale = example_universe.get(\"scale\")\n",
    "universe_model = example_universe.get(\"model\")\n",
    "universe_exclude_features = example_universe.get(\"exclude_features\")\n",
    "universe_exclude_subgroups = example_universe.get(\"exclude_subgroups\")"
   ]
  },
  {
   "cell_type": "code",
   "execution_count": 48,
   "id": "dbb53cb4",
   "metadata": {
    "execution": {
     "iopub.execute_input": "2025-08-19T18:41:03.837425Z",
     "iopub.status.busy": "2025-08-19T18:41:03.836942Z",
     "iopub.status.idle": "2025-08-19T18:41:03.842806Z",
     "shell.execute_reply": "2025-08-19T18:41:03.841985Z"
    },
    "papermill": {
     "duration": 0.023686,
     "end_time": "2025-08-19T18:41:03.844222",
     "exception": false,
     "start_time": "2025-08-19T18:41:03.820536",
     "status": "completed"
    },
    "tags": []
   },
   "outputs": [],
   "source": [
    "cp_metrics_dict = {\n",
    "    \"universe_id\": [universe_id],\n",
    "    \"universe_training_year\": [universe_training_year],\n",
    "    \"universe_training_size\": [universe_training_size],\n",
    "    \"universe_scale\": [universe_scale],\n",
    "    \"universe_model\": [universe_model],\n",
    "    \"universe_exclude_features\": [universe_exclude_features],\n",
    "    \"universe_exclude_subgroups\": [universe_exclude_subgroups],\n",
    "    \"q_hat\": [q_hat],\n",
    "    \"coverage\": [metrics[\"coverage\"]],\n",
    "    \"avg_size\": [metrics[\"avg_size\"]],\n",
    "}"
   ]
  },
  {
   "cell_type": "code",
   "execution_count": 49,
   "id": "0d70d4b2",
   "metadata": {
    "execution": {
     "iopub.execute_input": "2025-08-19T18:41:03.902713Z",
     "iopub.status.busy": "2025-08-19T18:41:03.902300Z",
     "iopub.status.idle": "2025-08-19T18:41:03.908743Z",
     "shell.execute_reply": "2025-08-19T18:41:03.908010Z"
    },
    "papermill": {
     "duration": 0.052666,
     "end_time": "2025-08-19T18:41:03.909994",
     "exception": false,
     "start_time": "2025-08-19T18:41:03.857328",
     "status": "completed"
    },
    "tags": []
   },
   "outputs": [],
   "source": [
    "cp_metrics_df = pd.DataFrame(cp_metrics_dict)"
   ]
  },
  {
   "cell_type": "code",
   "execution_count": 50,
   "id": "b494403c",
   "metadata": {
    "execution": {
     "iopub.execute_input": "2025-08-19T18:41:03.963121Z",
     "iopub.status.busy": "2025-08-19T18:41:03.962697Z",
     "iopub.status.idle": "2025-08-19T18:41:03.979453Z",
     "shell.execute_reply": "2025-08-19T18:41:03.978733Z"
    },
    "papermill": {
     "duration": 0.043636,
     "end_time": "2025-08-19T18:41:03.980745",
     "exception": false,
     "start_time": "2025-08-19T18:41:03.937109",
     "status": "completed"
    },
    "tags": []
   },
   "outputs": [
    {
     "data": {
      "text/html": [
       "<div>\n",
       "<style scoped>\n",
       "    .dataframe tbody tr th:only-of-type {\n",
       "        vertical-align: middle;\n",
       "    }\n",
       "\n",
       "    .dataframe tbody tr th {\n",
       "        vertical-align: top;\n",
       "    }\n",
       "\n",
       "    .dataframe thead th {\n",
       "        text-align: right;\n",
       "    }\n",
       "</style>\n",
       "<table border=\"1\" class=\"dataframe\">\n",
       "  <thead>\n",
       "    <tr style=\"text-align: right;\">\n",
       "      <th></th>\n",
       "      <th>universe_id</th>\n",
       "      <th>universe_training_year</th>\n",
       "      <th>universe_training_size</th>\n",
       "      <th>universe_scale</th>\n",
       "      <th>universe_model</th>\n",
       "      <th>universe_exclude_features</th>\n",
       "      <th>universe_exclude_subgroups</th>\n",
       "      <th>q_hat</th>\n",
       "      <th>coverage</th>\n",
       "      <th>avg_size</th>\n",
       "    </tr>\n",
       "  </thead>\n",
       "  <tbody>\n",
       "    <tr>\n",
       "      <th>0</th>\n",
       "      <td>90b818109f28d5e8abde01aaec0ada01</td>\n",
       "      <td>2010_14</td>\n",
       "      <td>5k</td>\n",
       "      <td>scale</td>\n",
       "      <td>penalized_logreg</td>\n",
       "      <td>none</td>\n",
       "      <td>keep-all</td>\n",
       "      <td>0.677831</td>\n",
       "      <td>0.91166</td>\n",
       "      <td>1.146383</td>\n",
       "    </tr>\n",
       "  </tbody>\n",
       "</table>\n",
       "</div>"
      ],
      "text/plain": [
       "                        universe_id universe_training_year  \\\n",
       "0  90b818109f28d5e8abde01aaec0ada01                2010_14   \n",
       "\n",
       "  universe_training_size universe_scale    universe_model  \\\n",
       "0                     5k          scale  penalized_logreg   \n",
       "\n",
       "  universe_exclude_features universe_exclude_subgroups     q_hat  coverage  \\\n",
       "0                      none                   keep-all  0.677831   0.91166   \n",
       "\n",
       "   avg_size  \n",
       "0  1.146383  "
      ]
     },
     "execution_count": 50,
     "metadata": {},
     "output_type": "execute_result"
    }
   ],
   "source": [
    "cp_metrics_df"
   ]
  },
  {
   "cell_type": "markdown",
   "id": "ed608b0b",
   "metadata": {
    "papermill": {
     "duration": 0.031781,
     "end_time": "2025-08-19T18:41:04.041592",
     "exception": false,
     "start_time": "2025-08-19T18:41:04.009811",
     "status": "completed"
    },
    "tags": []
   },
   "source": [
    "Conditional coverage & looking at subgroups"
   ]
  },
  {
   "cell_type": "code",
   "execution_count": 51,
   "id": "8968c366",
   "metadata": {
    "execution": {
     "iopub.execute_input": "2025-08-19T18:41:04.095104Z",
     "iopub.status.busy": "2025-08-19T18:41:04.094684Z",
     "iopub.status.idle": "2025-08-19T18:41:04.582220Z",
     "shell.execute_reply": "2025-08-19T18:41:04.581358Z"
    },
    "papermill": {
     "duration": 0.514672,
     "end_time": "2025-08-19T18:41:04.583717",
     "exception": false,
     "start_time": "2025-08-19T18:41:04.069045",
     "status": "completed"
    },
    "tags": []
   },
   "outputs": [],
   "source": [
    "from fairness_multiverse.conformal import build_cp_groups\n",
    "\n",
    "cp_groups_df = build_cp_groups(pred_sets, y_true, X_test.index, org_test)"
   ]
  },
  {
   "cell_type": "code",
   "execution_count": 52,
   "id": "292ddabf",
   "metadata": {
    "execution": {
     "iopub.execute_input": "2025-08-19T18:41:04.634676Z",
     "iopub.status.busy": "2025-08-19T18:41:04.634318Z",
     "iopub.status.idle": "2025-08-19T18:41:06.098791Z",
     "shell.execute_reply": "2025-08-19T18:41:06.097495Z"
    },
    "papermill": {
     "duration": 1.491479,
     "end_time": "2025-08-19T18:41:06.100514",
     "exception": false,
     "start_time": "2025-08-19T18:41:04.609035",
     "status": "completed"
    },
    "tags": []
   },
   "outputs": [],
   "source": [
    "# Define covered = 1 if true_label is in the predicted set\n",
    "cp_groups_df['covered'] = cp_groups_df.apply(\n",
    "    lambda r: int(r['true_label'] in r['pred_set']),\n",
    "    axis=1\n",
    ")"
   ]
  },
  {
   "cell_type": "code",
   "execution_count": 53,
   "id": "3a261692",
   "metadata": {
    "execution": {
     "iopub.execute_input": "2025-08-19T18:41:06.144111Z",
     "iopub.status.busy": "2025-08-19T18:41:06.143582Z",
     "iopub.status.idle": "2025-08-19T18:41:06.156804Z",
     "shell.execute_reply": "2025-08-19T18:41:06.156031Z"
    },
    "papermill": {
     "duration": 0.038386,
     "end_time": "2025-08-19T18:41:06.159897",
     "exception": false,
     "start_time": "2025-08-19T18:41:06.121511",
     "status": "completed"
    },
    "tags": []
   },
   "outputs": [],
   "source": [
    "subgroups = ['frau1','nongerman','nongerman_male','nongerman_female']\n",
    "\n",
    "# Conditional coverage for subgroup==1\n",
    "cond_coverage = {\n",
    "    g: cp_groups_df.loc[cp_groups_df[g]==1, 'covered'].mean()\n",
    "    for g in subgroups\n",
    "}"
   ]
  },
  {
   "cell_type": "code",
   "execution_count": 54,
   "id": "894fd600",
   "metadata": {
    "execution": {
     "iopub.execute_input": "2025-08-19T18:41:06.214381Z",
     "iopub.status.busy": "2025-08-19T18:41:06.213965Z",
     "iopub.status.idle": "2025-08-19T18:41:06.219676Z",
     "shell.execute_reply": "2025-08-19T18:41:06.219001Z"
    },
    "papermill": {
     "duration": 0.037757,
     "end_time": "2025-08-19T18:41:06.221072",
     "exception": false,
     "start_time": "2025-08-19T18:41:06.183315",
     "status": "completed"
    },
    "tags": []
   },
   "outputs": [
    {
     "data": {
      "text/plain": [
       "{'frau1': 0.9092060924652918,\n",
       " 'nongerman': 0.9110761803177455,\n",
       " 'nongerman_male': 0.9274970728631902,\n",
       " 'nongerman_female': 0.8839046199701938}"
      ]
     },
     "execution_count": 54,
     "metadata": {},
     "output_type": "execute_result"
    }
   ],
   "source": [
    "cond_coverage"
   ]
  },
  {
   "cell_type": "code",
   "execution_count": 55,
   "id": "942895c7",
   "metadata": {
    "execution": {
     "iopub.execute_input": "2025-08-19T18:41:06.286663Z",
     "iopub.status.busy": "2025-08-19T18:41:06.286121Z",
     "iopub.status.idle": "2025-08-19T18:41:06.293105Z",
     "shell.execute_reply": "2025-08-19T18:41:06.292377Z"
    },
    "papermill": {
     "duration": 0.033183,
     "end_time": "2025-08-19T18:41:06.294255",
     "exception": false,
     "start_time": "2025-08-19T18:41:06.261072",
     "status": "completed"
    },
    "tags": []
   },
   "outputs": [],
   "source": [
    "for subgroup, cov in cond_coverage.items():\n",
    "    cp_metrics_df[f\"cov_{subgroup}\"] = cov"
   ]
  },
  {
   "cell_type": "code",
   "execution_count": 56,
   "id": "3970120f",
   "metadata": {
    "execution": {
     "iopub.execute_input": "2025-08-19T18:41:06.349892Z",
     "iopub.status.busy": "2025-08-19T18:41:06.349431Z",
     "iopub.status.idle": "2025-08-19T18:41:06.393169Z",
     "shell.execute_reply": "2025-08-19T18:41:06.391945Z"
    },
    "papermill": {
     "duration": 0.088505,
     "end_time": "2025-08-19T18:41:06.395457",
     "exception": false,
     "start_time": "2025-08-19T18:41:06.306952",
     "status": "completed"
    },
    "tags": []
   },
   "outputs": [
    {
     "data": {
      "text/html": [
       "<div>\n",
       "<style scoped>\n",
       "    .dataframe tbody tr th:only-of-type {\n",
       "        vertical-align: middle;\n",
       "    }\n",
       "\n",
       "    .dataframe tbody tr th {\n",
       "        vertical-align: top;\n",
       "    }\n",
       "\n",
       "    .dataframe thead th {\n",
       "        text-align: right;\n",
       "    }\n",
       "</style>\n",
       "<table border=\"1\" class=\"dataframe\">\n",
       "  <thead>\n",
       "    <tr style=\"text-align: right;\">\n",
       "      <th></th>\n",
       "      <th>universe_id</th>\n",
       "      <th>universe_training_year</th>\n",
       "      <th>universe_training_size</th>\n",
       "      <th>universe_scale</th>\n",
       "      <th>universe_model</th>\n",
       "      <th>universe_exclude_features</th>\n",
       "      <th>universe_exclude_subgroups</th>\n",
       "      <th>q_hat</th>\n",
       "      <th>coverage</th>\n",
       "      <th>avg_size</th>\n",
       "      <th>cov_frau1</th>\n",
       "      <th>cov_nongerman</th>\n",
       "      <th>cov_nongerman_male</th>\n",
       "      <th>cov_nongerman_female</th>\n",
       "    </tr>\n",
       "  </thead>\n",
       "  <tbody>\n",
       "    <tr>\n",
       "      <th>0</th>\n",
       "      <td>90b818109f28d5e8abde01aaec0ada01</td>\n",
       "      <td>2010_14</td>\n",
       "      <td>5k</td>\n",
       "      <td>scale</td>\n",
       "      <td>penalized_logreg</td>\n",
       "      <td>none</td>\n",
       "      <td>keep-all</td>\n",
       "      <td>0.677831</td>\n",
       "      <td>0.91166</td>\n",
       "      <td>1.146383</td>\n",
       "      <td>0.909206</td>\n",
       "      <td>0.911076</td>\n",
       "      <td>0.927497</td>\n",
       "      <td>0.883905</td>\n",
       "    </tr>\n",
       "  </tbody>\n",
       "</table>\n",
       "</div>"
      ],
      "text/plain": [
       "                        universe_id universe_training_year  \\\n",
       "0  90b818109f28d5e8abde01aaec0ada01                2010_14   \n",
       "\n",
       "  universe_training_size universe_scale    universe_model  \\\n",
       "0                     5k          scale  penalized_logreg   \n",
       "\n",
       "  universe_exclude_features universe_exclude_subgroups     q_hat  coverage  \\\n",
       "0                      none                   keep-all  0.677831   0.91166   \n",
       "\n",
       "   avg_size  cov_frau1  cov_nongerman  cov_nongerman_male  \\\n",
       "0  1.146383   0.909206       0.911076            0.927497   \n",
       "\n",
       "   cov_nongerman_female  \n",
       "0              0.883905  "
      ]
     },
     "execution_count": 56,
     "metadata": {},
     "output_type": "execute_result"
    }
   ],
   "source": [
    "cp_metrics_df"
   ]
  },
  {
   "cell_type": "markdown",
   "id": "3fc519cc",
   "metadata": {
    "papermill": {
     "duration": 0.012255,
     "end_time": "2025-08-19T18:41:06.422427",
     "exception": false,
     "start_time": "2025-08-19T18:41:06.410172",
     "status": "completed"
    },
    "tags": []
   },
   "source": [
    "# (Fairness) Metrics"
   ]
  },
  {
   "cell_type": "code",
   "execution_count": 57,
   "id": "a2e5e155",
   "metadata": {
    "execution": {
     "iopub.execute_input": "2025-08-19T18:41:06.450491Z",
     "iopub.status.busy": "2025-08-19T18:41:06.448779Z",
     "iopub.status.idle": "2025-08-19T18:41:06.504399Z",
     "shell.execute_reply": "2025-08-19T18:41:06.503446Z"
    },
    "papermill": {
     "duration": 0.07166,
     "end_time": "2025-08-19T18:41:06.506066",
     "exception": false,
     "start_time": "2025-08-19T18:41:06.434406",
     "status": "completed"
    },
    "tags": []
   },
   "outputs": [],
   "source": [
    "colname_to_bin = \"maxdeutsch1\"\n",
    "majority_value = org_train[colname_to_bin].mode()[0]\n",
    "\n",
    "org_test[\"majmin\"] = np.where(org_test[colname_to_bin] == majority_value, \"majority\", \"minority\")"
   ]
  },
  {
   "cell_type": "code",
   "execution_count": 58,
   "id": "17e3e4d5",
   "metadata": {
    "execution": {
     "iopub.execute_input": "2025-08-19T18:41:06.571387Z",
     "iopub.status.busy": "2025-08-19T18:41:06.570961Z",
     "iopub.status.idle": "2025-08-19T18:41:09.256320Z",
     "shell.execute_reply": "2025-08-19T18:41:09.255036Z"
    },
    "papermill": {
     "duration": 2.701233,
     "end_time": "2025-08-19T18:41:09.258076",
     "exception": false,
     "start_time": "2025-08-19T18:41:06.556843",
     "status": "completed"
    },
    "tags": []
   },
   "outputs": [],
   "source": [
    "example_universe = universe.copy()\n",
    "example_universe[\"cutoff\"] = example_universe[\"cutoff\"][0]\n",
    "example_universe[\"eval_fairness_grouping\"] = example_universe[\"eval_fairness_grouping\"][0]\n",
    "fairness_dict, metric_frame = universe_analysis.compute_metrics(\n",
    "    example_universe,\n",
    "    y_pred_prob=probs_test,\n",
    "    y_test=y_true,\n",
    "    org_test=org_test,\n",
    ")"
   ]
  },
  {
   "cell_type": "markdown",
   "id": "1fb7a0e9",
   "metadata": {
    "papermill": {
     "duration": 0.0278,
     "end_time": "2025-08-19T18:41:09.325184",
     "exception": false,
     "start_time": "2025-08-19T18:41:09.297384",
     "status": "completed"
    },
    "tags": []
   },
   "source": [
    "# Overall"
   ]
  },
  {
   "cell_type": "markdown",
   "id": "be1784b1",
   "metadata": {
    "papermill": {
     "duration": 0.025967,
     "end_time": "2025-08-19T18:41:09.379164",
     "exception": false,
     "start_time": "2025-08-19T18:41:09.353197",
     "status": "completed"
    },
    "tags": []
   },
   "source": [
    "Main fairness target: Equalized Odds. Seems to be a better fit than equal opportunity, since we're not only interested in Y = 1. Seems to be a better fit than demographic parity, since we also care about accuracy, not just equal distribution of preds.\n",
    "\n",
    "Pick column for computation of fairness metrics\n",
    "\n",
    "Performance\n",
    "Overall performance measures, most interesting in relation to the measures split by group below"
   ]
  },
  {
   "cell_type": "code",
   "execution_count": 59,
   "id": "b7672bee",
   "metadata": {
    "execution": {
     "iopub.execute_input": "2025-08-19T18:41:09.407533Z",
     "iopub.status.busy": "2025-08-19T18:41:09.407034Z",
     "iopub.status.idle": "2025-08-19T18:41:09.416340Z",
     "shell.execute_reply": "2025-08-19T18:41:09.415470Z"
    },
    "papermill": {
     "duration": 0.025173,
     "end_time": "2025-08-19T18:41:09.418023",
     "exception": false,
     "start_time": "2025-08-19T18:41:09.392850",
     "status": "completed"
    },
    "tags": []
   },
   "outputs": [
    {
     "data": {
      "text/plain": [
       "accuracy                   0.223732\n",
       "balanced accuracy          0.547190\n",
       "f1                         0.245081\n",
       "precision                  0.140007\n",
       "false positive rate        0.887893\n",
       "false negative rate        0.017727\n",
       "selection rate             0.900000\n",
       "count                  89710.000000\n",
       "dtype: float64"
      ]
     },
     "execution_count": 59,
     "metadata": {},
     "output_type": "execute_result"
    }
   ],
   "source": [
    "metric_frame.overall"
   ]
  },
  {
   "cell_type": "markdown",
   "id": "d93333c9",
   "metadata": {
    "papermill": {
     "duration": 0.015328,
     "end_time": "2025-08-19T18:41:09.453489",
     "exception": false,
     "start_time": "2025-08-19T18:41:09.438161",
     "status": "completed"
    },
    "tags": []
   },
   "source": [
    "By Group"
   ]
  },
  {
   "cell_type": "code",
   "execution_count": 60,
   "id": "52256966",
   "metadata": {
    "execution": {
     "iopub.execute_input": "2025-08-19T18:41:09.481551Z",
     "iopub.status.busy": "2025-08-19T18:41:09.481088Z",
     "iopub.status.idle": "2025-08-19T18:41:09.512089Z",
     "shell.execute_reply": "2025-08-19T18:41:09.508234Z"
    },
    "papermill": {
     "duration": 0.047195,
     "end_time": "2025-08-19T18:41:09.513651",
     "exception": false,
     "start_time": "2025-08-19T18:41:09.466456",
     "status": "completed"
    },
    "tags": []
   },
   "outputs": [
    {
     "data": {
      "text/html": [
       "<div>\n",
       "<style scoped>\n",
       "    .dataframe tbody tr th:only-of-type {\n",
       "        vertical-align: middle;\n",
       "    }\n",
       "\n",
       "    .dataframe tbody tr th {\n",
       "        vertical-align: top;\n",
       "    }\n",
       "\n",
       "    .dataframe thead th {\n",
       "        text-align: right;\n",
       "    }\n",
       "</style>\n",
       "<table border=\"1\" class=\"dataframe\">\n",
       "  <thead>\n",
       "    <tr style=\"text-align: right;\">\n",
       "      <th></th>\n",
       "      <th>accuracy</th>\n",
       "      <th>balanced accuracy</th>\n",
       "      <th>f1</th>\n",
       "      <th>precision</th>\n",
       "      <th>false positive rate</th>\n",
       "      <th>false negative rate</th>\n",
       "      <th>selection rate</th>\n",
       "      <th>count</th>\n",
       "    </tr>\n",
       "    <tr>\n",
       "      <th>majmin</th>\n",
       "      <th></th>\n",
       "      <th></th>\n",
       "      <th></th>\n",
       "      <th></th>\n",
       "      <th></th>\n",
       "      <th></th>\n",
       "      <th></th>\n",
       "      <th></th>\n",
       "    </tr>\n",
       "  </thead>\n",
       "  <tbody>\n",
       "    <tr>\n",
       "      <th>majority</th>\n",
       "      <td>0.24486</td>\n",
       "      <td>0.556966</td>\n",
       "      <td>0.255611</td>\n",
       "      <td>0.146947</td>\n",
       "      <td>0.867250</td>\n",
       "      <td>0.018818</td>\n",
       "      <td>0.882304</td>\n",
       "      <td>69170.0</td>\n",
       "    </tr>\n",
       "    <tr>\n",
       "      <th>minority</th>\n",
       "      <td>0.15258</td>\n",
       "      <td>0.515200</td>\n",
       "      <td>0.211613</td>\n",
       "      <td>0.118519</td>\n",
       "      <td>0.956086</td>\n",
       "      <td>0.013514</td>\n",
       "      <td>0.959591</td>\n",
       "      <td>20540.0</td>\n",
       "    </tr>\n",
       "  </tbody>\n",
       "</table>\n",
       "</div>"
      ],
      "text/plain": [
       "          accuracy  balanced accuracy        f1  precision  \\\n",
       "majmin                                                       \n",
       "majority   0.24486           0.556966  0.255611   0.146947   \n",
       "minority   0.15258           0.515200  0.211613   0.118519   \n",
       "\n",
       "          false positive rate  false negative rate  selection rate    count  \n",
       "majmin                                                                       \n",
       "majority             0.867250             0.018818        0.882304  69170.0  \n",
       "minority             0.956086             0.013514        0.959591  20540.0  "
      ]
     },
     "execution_count": 60,
     "metadata": {},
     "output_type": "execute_result"
    }
   ],
   "source": [
    "metric_frame.by_group"
   ]
  },
  {
   "cell_type": "code",
   "execution_count": 61,
   "id": "6e6c20ae",
   "metadata": {
    "execution": {
     "iopub.execute_input": "2025-08-19T18:41:09.596712Z",
     "iopub.status.busy": "2025-08-19T18:41:09.596262Z",
     "iopub.status.idle": "2025-08-19T18:41:12.008748Z",
     "shell.execute_reply": "2025-08-19T18:41:12.007857Z"
    },
    "papermill": {
     "duration": 2.457796,
     "end_time": "2025-08-19T18:41:12.013839",
     "exception": false,
     "start_time": "2025-08-19T18:41:09.556043",
     "status": "completed"
    },
    "tags": []
   },
   "outputs": [
    {
     "data": {
      "text/plain": [
       "array([[<Axes: title={'center': 'accuracy'}, xlabel='majmin'>,\n",
       "        <Axes: title={'center': 'balanced accuracy'}, xlabel='majmin'>,\n",
       "        <Axes: title={'center': 'f1'}, xlabel='majmin'>],\n",
       "       [<Axes: title={'center': 'precision'}, xlabel='majmin'>,\n",
       "        <Axes: title={'center': 'false positive rate'}, xlabel='majmin'>,\n",
       "        <Axes: title={'center': 'false negative rate'}, xlabel='majmin'>],\n",
       "       [<Axes: title={'center': 'selection rate'}, xlabel='majmin'>,\n",
       "        <Axes: title={'center': 'count'}, xlabel='majmin'>,\n",
       "        <Axes: xlabel='majmin'>]], dtype=object)"
      ]
     },
     "execution_count": 61,
     "metadata": {},
     "output_type": "execute_result"
    },
    {
     "data": {
      "image/png": "[encoded data removed]",
      "text/plain": [
       "<Figure size 1200x800 with 9 Axes>"
      ]
     },
     "metadata": {},
     "output_type": "display_data"
    }
   ],
   "source": [
    "# In a graphic\n",
    "metric_frame.by_group.plot.bar(\n",
    "    subplots=True,\n",
    "    layout=[3, 3],\n",
    "    legend=False,\n",
    "    figsize=[12, 8],\n",
    "    title=\"Show all metrics\",\n",
    ")"
   ]
  },
  {
   "cell_type": "markdown",
   "id": "b2e433ae",
   "metadata": {
    "papermill": {
     "duration": 0.01419,
     "end_time": "2025-08-19T18:41:12.055818",
     "exception": false,
     "start_time": "2025-08-19T18:41:12.041628",
     "status": "completed"
    },
    "tags": []
   },
   "source": [
    "# Final Output"
   ]
  },
  {
   "cell_type": "code",
   "execution_count": 62,
   "id": "3871301e",
   "metadata": {
    "execution": {
     "iopub.execute_input": "2025-08-19T18:41:12.087304Z",
     "iopub.status.busy": "2025-08-19T18:41:12.085127Z",
     "iopub.status.idle": "2025-08-19T18:41:12.104822Z",
     "shell.execute_reply": "2025-08-19T18:41:12.103930Z"
    },
    "papermill": {
     "duration": 0.036759,
     "end_time": "2025-08-19T18:41:12.106099",
     "exception": false,
     "start_time": "2025-08-19T18:41:12.069340",
     "status": "completed"
    },
    "tags": []
   },
   "outputs": [
    {
     "data": {
      "text/plain": [
       "4"
      ]
     },
     "execution_count": 62,
     "metadata": {},
     "output_type": "execute_result"
    }
   ],
   "source": [
    "sub_universes = universe_analysis.generate_sub_universes()\n",
    "len(sub_universes)"
   ]
  },
  {
   "cell_type": "code",
   "execution_count": 63,
   "id": "d9cfdaca",
   "metadata": {
    "execution": {
     "iopub.execute_input": "2025-08-19T18:41:12.247012Z",
     "iopub.status.busy": "2025-08-19T18:41:12.246590Z",
     "iopub.status.idle": "2025-08-19T18:41:12.251708Z",
     "shell.execute_reply": "2025-08-19T18:41:12.250891Z"
    },
    "papermill": {
     "duration": 0.06075,
     "end_time": "2025-08-19T18:41:12.253312",
     "exception": false,
     "start_time": "2025-08-19T18:41:12.192562",
     "status": "completed"
    },
    "tags": []
   },
   "outputs": [],
   "source": [
    "def filter_sub_universe_data(sub_universe, org_test):\n",
    "    # Keep all rows — no filtering\n",
    "    keep_rows_mask = np.ones(org_test.shape[0], dtype=bool)\n",
    "\n",
    "    print(f\"[INFO] Keeping all rows: {keep_rows_mask.sum()} rows retained.\")\n",
    "    return keep_rows_mask"
   ]
  },
  {
   "cell_type": "code",
   "execution_count": 64,
   "id": "2bc31ac1",
   "metadata": {
    "execution": {
     "iopub.execute_input": "2025-08-19T18:41:12.289602Z",
     "iopub.status.busy": "2025-08-19T18:41:12.289173Z",
     "iopub.status.idle": "2025-08-19T18:41:23.625415Z",
     "shell.execute_reply": "2025-08-19T18:41:23.624010Z"
    },
    "papermill": {
     "duration": 11.353486,
     "end_time": "2025-08-19T18:41:23.626849",
     "exception": false,
     "start_time": "2025-08-19T18:41:12.273363",
     "status": "completed"
    },
    "tags": []
   },
   "outputs": [
    {
     "name": "stdout",
     "output_type": "stream",
     "text": [
      "Stopping execution_time clock.\n",
      "[INFO] Keeping all rows: 89710 rows retained.\n"
     ]
    },
    {
     "name": "stdout",
     "output_type": "stream",
     "text": [
      "[INFO] Keeping all rows: 89710 rows retained.\n"
     ]
    },
    {
     "name": "stdout",
     "output_type": "stream",
     "text": [
      "[INFO] Keeping all rows: 89710 rows retained.\n"
     ]
    },
    {
     "name": "stdout",
     "output_type": "stream",
     "text": [
      "[INFO] Keeping all rows: 89710 rows retained.\n"
     ]
    },
    {
     "data": {
      "text/html": [
       "<div>\n",
       "<style scoped>\n",
       "    .dataframe tbody tr th:only-of-type {\n",
       "        vertical-align: middle;\n",
       "    }\n",
       "\n",
       "    .dataframe tbody tr th {\n",
       "        vertical-align: top;\n",
       "    }\n",
       "\n",
       "    .dataframe thead th {\n",
       "        text-align: right;\n",
       "    }\n",
       "</style>\n",
       "<table border=\"1\" class=\"dataframe\">\n",
       "  <thead>\n",
       "    <tr style=\"text-align: right;\">\n",
       "      <th></th>\n",
       "      <th>run_no</th>\n",
       "      <th>universe_id</th>\n",
       "      <th>universe_settings</th>\n",
       "      <th>execution_time</th>\n",
       "      <th>test_size_n</th>\n",
       "      <th>test_size_frac</th>\n",
       "      <th>fair_main_equalized_odds_difference</th>\n",
       "      <th>fair_main_equalized_odds_ratio</th>\n",
       "      <th>fair_main_demographic_parity_difference</th>\n",
       "      <th>fair_main_demographic_parity_ratio</th>\n",
       "      <th>...</th>\n",
       "      <th>perf_grp_precision_0</th>\n",
       "      <th>perf_grp_precision_1</th>\n",
       "      <th>perf_grp_false positive rate_0</th>\n",
       "      <th>perf_grp_false positive rate_1</th>\n",
       "      <th>perf_grp_false negative rate_0</th>\n",
       "      <th>perf_grp_false negative rate_1</th>\n",
       "      <th>perf_grp_selection rate_0</th>\n",
       "      <th>perf_grp_selection rate_1</th>\n",
       "      <th>perf_grp_count_0</th>\n",
       "      <th>perf_grp_count_1</th>\n",
       "    </tr>\n",
       "  </thead>\n",
       "  <tbody>\n",
       "    <tr>\n",
       "      <th>0</th>\n",
       "      <td>3</td>\n",
       "      <td>90b818109f28d5e8abde01aaec0ada01</td>\n",
       "      <td>{\"cutoff\": \"quantile_0.1\", \"eval_fairness_grou...</td>\n",
       "      <td>30.660858</td>\n",
       "      <td>89710</td>\n",
       "      <td>1.0</td>\n",
       "      <td>0.088837</td>\n",
       "      <td>0.907083</td>\n",
       "      <td>0.077287</td>\n",
       "      <td>0.919459</td>\n",
       "      <td>...</td>\n",
       "      <td>NaN</td>\n",
       "      <td>NaN</td>\n",
       "      <td>NaN</td>\n",
       "      <td>NaN</td>\n",
       "      <td>NaN</td>\n",
       "      <td>NaN</td>\n",
       "      <td>NaN</td>\n",
       "      <td>NaN</td>\n",
       "      <td>NaN</td>\n",
       "      <td>NaN</td>\n",
       "    </tr>\n",
       "    <tr>\n",
       "      <th>0</th>\n",
       "      <td>3</td>\n",
       "      <td>90b818109f28d5e8abde01aaec0ada01</td>\n",
       "      <td>{\"cutoff\": \"quantile_0.1\", \"eval_fairness_grou...</td>\n",
       "      <td>30.660858</td>\n",
       "      <td>89710</td>\n",
       "      <td>1.0</td>\n",
       "      <td>0.088837</td>\n",
       "      <td>0.907083</td>\n",
       "      <td>0.077287</td>\n",
       "      <td>0.919459</td>\n",
       "      <td>...</td>\n",
       "      <td>0.118519</td>\n",
       "      <td>0.146947</td>\n",
       "      <td>0.956086</td>\n",
       "      <td>0.867250</td>\n",
       "      <td>0.013514</td>\n",
       "      <td>0.018818</td>\n",
       "      <td>0.959591</td>\n",
       "      <td>0.882304</td>\n",
       "      <td>20540.0</td>\n",
       "      <td>69170.0</td>\n",
       "    </tr>\n",
       "    <tr>\n",
       "      <th>0</th>\n",
       "      <td>3</td>\n",
       "      <td>90b818109f28d5e8abde01aaec0ada01</td>\n",
       "      <td>{\"cutoff\": \"quantile_0.25\", \"eval_fairness_gro...</td>\n",
       "      <td>30.660858</td>\n",
       "      <td>89710</td>\n",
       "      <td>1.0</td>\n",
       "      <td>0.150533</td>\n",
       "      <td>0.820435</td>\n",
       "      <td>0.130586</td>\n",
       "      <td>0.846492</td>\n",
       "      <td>...</td>\n",
       "      <td>NaN</td>\n",
       "      <td>NaN</td>\n",
       "      <td>NaN</td>\n",
       "      <td>NaN</td>\n",
       "      <td>NaN</td>\n",
       "      <td>NaN</td>\n",
       "      <td>NaN</td>\n",
       "      <td>NaN</td>\n",
       "      <td>NaN</td>\n",
       "      <td>NaN</td>\n",
       "    </tr>\n",
       "    <tr>\n",
       "      <th>0</th>\n",
       "      <td>3</td>\n",
       "      <td>90b818109f28d5e8abde01aaec0ada01</td>\n",
       "      <td>{\"cutoff\": \"quantile_0.25\", \"eval_fairness_gro...</td>\n",
       "      <td>30.660858</td>\n",
       "      <td>89710</td>\n",
       "      <td>1.0</td>\n",
       "      <td>0.150533</td>\n",
       "      <td>0.820435</td>\n",
       "      <td>0.130586</td>\n",
       "      <td>0.846492</td>\n",
       "      <td>...</td>\n",
       "      <td>0.128141</td>\n",
       "      <td>0.171074</td>\n",
       "      <td>0.838323</td>\n",
       "      <td>0.687789</td>\n",
       "      <td>0.054476</td>\n",
       "      <td>0.067724</td>\n",
       "      <td>0.850682</td>\n",
       "      <td>0.720095</td>\n",
       "      <td>20540.0</td>\n",
       "      <td>69170.0</td>\n",
       "    </tr>\n",
       "  </tbody>\n",
       "</table>\n",
       "<p>4 rows × 50 columns</p>\n",
       "</div>"
      ],
      "text/plain": [
       "  run_no                       universe_id  \\\n",
       "0      3  90b818109f28d5e8abde01aaec0ada01   \n",
       "0      3  90b818109f28d5e8abde01aaec0ada01   \n",
       "0      3  90b818109f28d5e8abde01aaec0ada01   \n",
       "0      3  90b818109f28d5e8abde01aaec0ada01   \n",
       "\n",
       "                                   universe_settings  execution_time  \\\n",
       "0  {\"cutoff\": \"quantile_0.1\", \"eval_fairness_grou...       30.660858   \n",
       "0  {\"cutoff\": \"quantile_0.1\", \"eval_fairness_grou...       30.660858   \n",
       "0  {\"cutoff\": \"quantile_0.25\", \"eval_fairness_gro...       30.660858   \n",
       "0  {\"cutoff\": \"quantile_0.25\", \"eval_fairness_gro...       30.660858   \n",
       "\n",
       "   test_size_n  test_size_frac  fair_main_equalized_odds_difference  \\\n",
       "0        89710             1.0                             0.088837   \n",
       "0        89710             1.0                             0.088837   \n",
       "0        89710             1.0                             0.150533   \n",
       "0        89710             1.0                             0.150533   \n",
       "\n",
       "   fair_main_equalized_odds_ratio  fair_main_demographic_parity_difference  \\\n",
       "0                        0.907083                                 0.077287   \n",
       "0                        0.907083                                 0.077287   \n",
       "0                        0.820435                                 0.130586   \n",
       "0                        0.820435                                 0.130586   \n",
       "\n",
       "   fair_main_demographic_parity_ratio  ...  perf_grp_precision_0  \\\n",
       "0                            0.919459  ...                   NaN   \n",
       "0                            0.919459  ...              0.118519   \n",
       "0                            0.846492  ...                   NaN   \n",
       "0                            0.846492  ...              0.128141   \n",
       "\n",
       "   perf_grp_precision_1  perf_grp_false positive rate_0  \\\n",
       "0                   NaN                             NaN   \n",
       "0              0.146947                        0.956086   \n",
       "0                   NaN                             NaN   \n",
       "0              0.171074                        0.838323   \n",
       "\n",
       "   perf_grp_false positive rate_1  perf_grp_false negative rate_0  \\\n",
       "0                             NaN                             NaN   \n",
       "0                        0.867250                        0.013514   \n",
       "0                             NaN                             NaN   \n",
       "0                        0.687789                        0.054476   \n",
       "\n",
       "   perf_grp_false negative rate_1  perf_grp_selection rate_0  \\\n",
       "0                             NaN                        NaN   \n",
       "0                        0.018818                   0.959591   \n",
       "0                             NaN                        NaN   \n",
       "0                        0.067724                   0.850682   \n",
       "\n",
       "   perf_grp_selection rate_1  perf_grp_count_0  perf_grp_count_1  \n",
       "0                        NaN               NaN               NaN  \n",
       "0                   0.882304           20540.0           69170.0  \n",
       "0                        NaN               NaN               NaN  \n",
       "0                   0.720095           20540.0           69170.0  \n",
       "\n",
       "[4 rows x 50 columns]"
      ]
     },
     "execution_count": 64,
     "metadata": {},
     "output_type": "execute_result"
    }
   ],
   "source": [
    "final_output = universe_analysis.generate_final_output(\n",
    "    y_pred_prob=probs_test,\n",
    "    y_test=y_true,\n",
    "    org_test=org_test,\n",
    "    filter_data=filter_sub_universe_data,\n",
    "    cp_metrics_df=cp_metrics_df,\n",
    "    save=True,\n",
    ")\n",
    "final_output"
   ]
  },
  {
   "cell_type": "code",
   "execution_count": null,
   "id": "8b80a1ff",
   "metadata": {
    "papermill": {
     "duration": 0.054976,
     "end_time": "2025-08-19T18:41:23.718555",
     "exception": false,
     "start_time": "2025-08-19T18:41:23.663579",
     "status": "completed"
    },
    "tags": []
   },
   "outputs": [],
   "source": []
  },
  {
   "cell_type": "code",
   "execution_count": null,
   "id": "275c9fad",
   "metadata": {
    "papermill": {
     "duration": 0.029255,
     "end_time": "2025-08-19T18:41:23.808881",
     "exception": false,
     "start_time": "2025-08-19T18:41:23.779626",
     "status": "completed"
    },
    "tags": []
   },
   "outputs": [],
   "source": []
  }
 ],
 "metadata": {
  "celltoolbar": "Tags",
  "kernelspec": {
   "display_name": "Python (CMA Fairness)",
   "language": "python",
   "name": "cma_fair_env"
  },
  "language_info": {
   "codemirror_mode": {
    "name": "ipython",
    "version": 3
   },
   "file_extension": ".py",
   "mimetype": "text/x-python",
   "name": "python",
   "nbconvert_exporter": "python",
   "pygments_lexer": "ipython3",
   "version": "3.10.12"
  },
  "papermill": {
   "default_parameters": {},
   "duration": 49.140035,
   "end_time": "2025-08-19T18:41:25.264596",
   "environment_variables": {},
   "exception": null,
   "input_path": "universe_analysis.ipynb",
   "output_path": "output/runs/3/notebooks/m_3-90b818109f28d5e8abde01aaec0ada01.ipynb",
   "parameters": {
    "output_dir": "output",
    "run_no": "3",
    "seed": "2023",
    "universe": "{\"cutoff\": [\"quantile_0.1\", \"quantile_0.25\"], \"eval_fairness_grouping\": [\"majority-minority\", \"nationality-all\"], \"exclude_features\": \"none\", \"exclude_subgroups\": \"keep-all\", \"model\": \"penalized_logreg\", \"scale\": \"scale\", \"training_size\": \"5k\", \"training_year\": \"2010_14\"}",
    "universe_id": "90b818109f28d5e8abde01aaec0ada01"
   },
   "start_time": "2025-08-19T18:40:36.124561",
   "version": "2.6.0"
  }
 },
 "nbformat": 4,
 "nbformat_minor": 5
}