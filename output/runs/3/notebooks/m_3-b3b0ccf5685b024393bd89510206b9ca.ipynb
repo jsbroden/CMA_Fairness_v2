{
 "cells": [
  {
   "cell_type": "markdown",
   "id": "ef23dbb3",
   "metadata": {
    "papermill": {
     "duration": 0.010914,
     "end_time": "2025-08-19T18:37:17.735824",
     "exception": false,
     "start_time": "2025-08-19T18:37:17.724910",
     "status": "completed"
    },
    "tags": []
   },
   "source": [
    "# Setup"
   ]
  },
  {
   "cell_type": "code",
   "execution_count": 1,
   "id": "0bc8e7dc",
   "metadata": {
    "execution": {
     "iopub.execute_input": "2025-08-19T18:37:17.754874Z",
     "iopub.status.busy": "2025-08-19T18:37:17.754355Z",
     "iopub.status.idle": "2025-08-19T18:37:17.765177Z",
     "shell.execute_reply": "2025-08-19T18:37:17.764504Z"
    },
    "papermill": {
     "duration": 0.023967,
     "end_time": "2025-08-19T18:37:17.768557",
     "exception": false,
     "start_time": "2025-08-19T18:37:17.744590",
     "status": "completed"
    },
    "tags": []
   },
   "outputs": [
    {
     "name": "stdout",
     "output_type": "stream",
     "text": [
      "/dss/dsshome1/0C/ra93lal2/cma/CMA_Fairness_v2\n"
     ]
    },
    {
     "name": "stderr",
     "output_type": "stream",
     "text": [
      "/dss/dsshome1/0C/ra93lal2/.local/share/virtualenvs/CMA_Fairness_v2-3j10GkSs/lib/python3.10/site-packages/IPython/core/magics/osm.py:393: UserWarning: This is now an optional IPython functionality, using bookmarks requires you to install the `pickleshare` library.\n",
      "  bkms = self.shell.db.get('bookmarks', {})\n",
      "/dss/dsshome1/0C/ra93lal2/.local/share/virtualenvs/CMA_Fairness_v2-3j10GkSs/lib/python3.10/site-packages/IPython/core/magics/osm.py:417: UserWarning: This is now an optional IPython functionality, setting dhist requires you to install the `pickleshare` library.\n",
      "  self.shell.db['dhist'] = compress_dhist(dhist)[-100:]\n"
     ]
    }
   ],
   "source": [
    "%cd ~/cma/CMA_Fairness_v2"
   ]
  },
  {
   "cell_type": "markdown",
   "id": "9d235661",
   "metadata": {
    "papermill": {
     "duration": 0.008682,
     "end_time": "2025-08-19T18:37:17.786813",
     "exception": false,
     "start_time": "2025-08-19T18:37:17.778131",
     "status": "completed"
    },
    "tags": []
   },
   "source": [
    "The following cell holds the definition of our parameters, these values can be overriden by rendering the with e.g. the following command:\n",
    "\n",
    "papermill -p alpha 0.2 -p ratio 0.3 universe_analysis.ipynb output/test_run.ipynb"
   ]
  },
  {
   "cell_type": "code",
   "execution_count": 2,
   "id": "4a789d8e",
   "metadata": {
    "execution": {
     "iopub.execute_input": "2025-08-19T18:37:17.806465Z",
     "iopub.status.busy": "2025-08-19T18:37:17.805614Z",
     "iopub.status.idle": "2025-08-19T18:37:17.812147Z",
     "shell.execute_reply": "2025-08-19T18:37:17.810998Z"
    },
    "papermill": {
     "duration": 0.018225,
     "end_time": "2025-08-19T18:37:17.813736",
     "exception": false,
     "start_time": "2025-08-19T18:37:17.795511",
     "status": "completed"
    },
    "tags": []
   },
   "outputs": [
    {
     "name": "stdout",
     "output_type": "stream",
     "text": [
      "Current working directory: /dss/dsshome1/0C/ra93lal2/cma/CMA_Fairness_v2\n"
     ]
    }
   ],
   "source": [
    "import os\n",
    "print(\"Current working directory:\", os.getcwd())"
   ]
  },
  {
   "cell_type": "code",
   "execution_count": 3,
   "id": "4132aaed",
   "metadata": {
    "execution": {
     "iopub.execute_input": "2025-08-19T18:37:17.834932Z",
     "iopub.status.busy": "2025-08-19T18:37:17.833972Z",
     "iopub.status.idle": "2025-08-19T18:37:17.842965Z",
     "shell.execute_reply": "2025-08-19T18:37:17.841622Z"
    },
    "papermill": {
     "duration": 0.021253,
     "end_time": "2025-08-19T18:37:17.844766",
     "exception": false,
     "start_time": "2025-08-19T18:37:17.823513",
     "status": "completed"
    },
    "tags": [
     "parameters"
    ]
   },
   "outputs": [],
   "source": [
    "run_no = 0\n",
    "universe_id = \"test\"\n",
    "universe = {\n",
    "    \"training_size\": \"5k\", # \"25k\", \"5k\", \"1k\"\n",
    "    \"training_year\": \"2012_14\", # \"2014\", \"2012_14\", \"2010_14\"\n",
    "    \"scale\": \"scale\", # \"scale\", \"do-not-scale\",\n",
    "    \"model\": \"elasticnet\", # \"logreg\", \"penalized_logreg\", \"rf\", \"gbm\", \"elasticnet\"\n",
    "    \"cutoff\": [\"quantile_0.15\", \"quantile_0.30\"],\n",
    "    \"exclude_features\": \"age\", # \"none\", \"nationality\", \"sex\", \"nationality-sex\", \"age\"\n",
    "    \"exclude_subgroups\": \"drop-non-german\", # \"keep-all\", \"drop-non-german\"\n",
    "    \"eval_fairness_grouping\": [\"majority-minority\", \"nationality-all\"]\n",
    "}\n",
    "\n",
    "output_dir=\"./output\"\n",
    "seed=0"
   ]
  },
  {
   "cell_type": "code",
   "execution_count": 4,
   "id": "39f96c94",
   "metadata": {
    "execution": {
     "iopub.execute_input": "2025-08-19T18:37:17.866545Z",
     "iopub.status.busy": "2025-08-19T18:37:17.865589Z",
     "iopub.status.idle": "2025-08-19T18:37:17.872956Z",
     "shell.execute_reply": "2025-08-19T18:37:17.871654Z"
    },
    "papermill": {
     "duration": 0.019092,
     "end_time": "2025-08-19T18:37:17.874448",
     "exception": false,
     "start_time": "2025-08-19T18:37:17.855356",
     "status": "completed"
    },
    "tags": [
     "injected-parameters"
    ]
   },
   "outputs": [],
   "source": [
    "# Parameters\n",
    "universe_id = \"b3b0ccf5685b024393bd89510206b9ca\"\n",
    "run_no = \"3\"\n",
    "universe = \"{\\\"cutoff\\\": [\\\"quantile_0.1\\\", \\\"quantile_0.25\\\"], \\\"eval_fairness_grouping\\\": [\\\"majority-minority\\\", \\\"nationality-all\\\"], \\\"exclude_features\\\": \\\"none\\\", \\\"exclude_subgroups\\\": \\\"keep-all\\\", \\\"model\\\": \\\"gbm\\\", \\\"scale\\\": \\\"do-not-scale\\\", \\\"training_size\\\": \\\"5k\\\", \\\"training_year\\\": \\\"2012_14\\\"}\"\n",
    "output_dir = \"output\"\n",
    "seed = \"2023\"\n"
   ]
  },
  {
   "cell_type": "code",
   "execution_count": 5,
   "id": "a5d7941f",
   "metadata": {
    "execution": {
     "iopub.execute_input": "2025-08-19T18:37:17.894880Z",
     "iopub.status.busy": "2025-08-19T18:37:17.894055Z",
     "iopub.status.idle": "2025-08-19T18:37:17.900647Z",
     "shell.execute_reply": "2025-08-19T18:37:17.899396Z"
    },
    "papermill": {
     "duration": 0.018291,
     "end_time": "2025-08-19T18:37:17.902171",
     "exception": false,
     "start_time": "2025-08-19T18:37:17.883880",
     "status": "completed"
    },
    "tags": []
   },
   "outputs": [],
   "source": [
    "import json\n",
    "if isinstance(universe, str):\n",
    "    universe = json.loads(universe)"
   ]
  },
  {
   "cell_type": "code",
   "execution_count": 6,
   "id": "7076ccb1",
   "metadata": {
    "execution": {
     "iopub.execute_input": "2025-08-19T18:37:17.930833Z",
     "iopub.status.busy": "2025-08-19T18:37:17.921836Z",
     "iopub.status.idle": "2025-08-19T18:37:17.986629Z",
     "shell.execute_reply": "2025-08-19T18:37:17.985905Z"
    },
    "papermill": {
     "duration": 0.076506,
     "end_time": "2025-08-19T18:37:17.988181",
     "exception": false,
     "start_time": "2025-08-19T18:37:17.911675",
     "status": "completed"
    },
    "tags": []
   },
   "outputs": [],
   "source": [
    "# Auto-reload the custom package\n",
    "%load_ext autoreload\n",
    "%autoreload 1\n",
    "%aimport fairness_multiverse"
   ]
  },
  {
   "cell_type": "code",
   "execution_count": 7,
   "id": "94c8eb93",
   "metadata": {
    "execution": {
     "iopub.execute_input": "2025-08-19T18:37:18.008321Z",
     "iopub.status.busy": "2025-08-19T18:37:18.007731Z",
     "iopub.status.idle": "2025-08-19T18:37:19.480760Z",
     "shell.execute_reply": "2025-08-19T18:37:19.479738Z"
    },
    "papermill": {
     "duration": 1.48506,
     "end_time": "2025-08-19T18:37:19.482940",
     "exception": false,
     "start_time": "2025-08-19T18:37:17.997880",
     "status": "completed"
    },
    "tags": []
   },
   "outputs": [],
   "source": [
    "from fairness_multiverse.universe import UniverseAnalysis\n",
    "\n",
    "universe_analysis = UniverseAnalysis(\n",
    "    run_no = run_no,\n",
    "    universe_id = universe_id,\n",
    "    universe = universe,\n",
    "    output_dir=output_dir,\n",
    ")"
   ]
  },
  {
   "cell_type": "code",
   "execution_count": 8,
   "id": "2a6381cf",
   "metadata": {
    "execution": {
     "iopub.execute_input": "2025-08-19T18:37:19.507434Z",
     "iopub.status.busy": "2025-08-19T18:37:19.505571Z",
     "iopub.status.idle": "2025-08-19T18:37:19.521336Z",
     "shell.execute_reply": "2025-08-19T18:37:19.520043Z"
    },
    "papermill": {
     "duration": 0.030096,
     "end_time": "2025-08-19T18:37:19.522983",
     "exception": false,
     "start_time": "2025-08-19T18:37:19.492887",
     "status": "completed"
    },
    "tags": []
   },
   "outputs": [
    {
     "name": "stdout",
     "output_type": "stream",
     "text": [
      "Using Seed: 2023\n"
     ]
    }
   ],
   "source": [
    "import numpy as np\n",
    "parsed_seed = int(seed)\n",
    "np.random.seed(parsed_seed)\n",
    "print(f\"Using Seed: {parsed_seed}\")"
   ]
  },
  {
   "cell_type": "markdown",
   "id": "b6e958b4",
   "metadata": {
    "papermill": {
     "duration": 0.009654,
     "end_time": "2025-08-19T18:37:19.545699",
     "exception": false,
     "start_time": "2025-08-19T18:37:19.536045",
     "status": "completed"
    },
    "tags": []
   },
   "source": [
    "# Loading Data"
   ]
  },
  {
   "cell_type": "code",
   "execution_count": 9,
   "id": "98701482",
   "metadata": {
    "execution": {
     "iopub.execute_input": "2025-08-19T18:37:19.580773Z",
     "iopub.status.busy": "2025-08-19T18:37:19.569181Z",
     "iopub.status.idle": "2025-08-19T18:37:29.456517Z",
     "shell.execute_reply": "2025-08-19T18:37:29.455655Z"
    },
    "papermill": {
     "duration": 9.904118,
     "end_time": "2025-08-19T18:37:29.458799",
     "exception": false,
     "start_time": "2025-08-19T18:37:19.554681",
     "status": "completed"
    },
    "tags": []
   },
   "outputs": [
    {
     "name": "stdout",
     "output_type": "stream",
     "text": [
      "Loading SIAB data from cache: data/siab_cached.csv.gz\n"
     ]
    },
    {
     "name": "stdout",
     "output_type": "stream",
     "text": [
      "(643690, 164)\n"
     ]
    }
   ],
   "source": [
    "from pathlib import Path\n",
    "import pandas as pd\n",
    "\n",
    "# File paths\n",
    "raw_file = Path(\"data/raw/siab.csv\")\n",
    "cache_file = Path(\"data/siab_cached.csv.gz\")\n",
    "\n",
    "# Ensure cache directory exists\n",
    "cache_file.parent.mkdir(parents=True, exist_ok=True)\n",
    "\n",
    "# Load with simple caching\n",
    "if cache_file.exists():\n",
    "    print(f\"Loading SIAB data from cache: {cache_file}\")\n",
    "    siab = pd.read_csv(cache_file, compression='gzip')\n",
    "else:\n",
    "    print(f\"Cache not found. Reading raw SIAB data: {raw_file}\")\n",
    "    siab = pd.read_csv(raw_file)\n",
    "    siab.to_csv(cache_file, index=False, compression='gzip')\n",
    "    print(f\"Cached SIAB data to: {cache_file}\")\n",
    "\n",
    "print(siab.shape)"
   ]
  },
  {
   "cell_type": "code",
   "execution_count": 10,
   "id": "058d2abb",
   "metadata": {
    "execution": {
     "iopub.execute_input": "2025-08-19T18:37:29.510338Z",
     "iopub.status.busy": "2025-08-19T18:37:29.509122Z",
     "iopub.status.idle": "2025-08-19T18:37:29.653028Z",
     "shell.execute_reply": "2025-08-19T18:37:29.652322Z"
    },
    "papermill": {
     "duration": 0.174269,
     "end_time": "2025-08-19T18:37:29.654468",
     "exception": false,
     "start_time": "2025-08-19T18:37:29.480199",
     "status": "completed"
    },
    "tags": []
   },
   "outputs": [
    {
     "data": {
      "text/html": [
       "<div>\n",
       "<style scoped>\n",
       "    .dataframe tbody tr th:only-of-type {\n",
       "        vertical-align: middle;\n",
       "    }\n",
       "\n",
       "    .dataframe tbody tr th {\n",
       "        vertical-align: top;\n",
       "    }\n",
       "\n",
       "    .dataframe thead th {\n",
       "        text-align: right;\n",
       "    }\n",
       "</style>\n",
       "<table border=\"1\" class=\"dataframe\">\n",
       "  <thead>\n",
       "    <tr style=\"text-align: right;\">\n",
       "      <th></th>\n",
       "      <th>persnr</th>\n",
       "      <th>year</th>\n",
       "      <th>nrEntry</th>\n",
       "      <th>ltue</th>\n",
       "      <th>employed_before</th>\n",
       "      <th>receipt_leh_before</th>\n",
       "      <th>receipt_lhg_before</th>\n",
       "      <th>se_before</th>\n",
       "      <th>ASU_notue_seeking_before</th>\n",
       "      <th>ASU_other_before</th>\n",
       "      <th>...</th>\n",
       "      <th>minijob_tot_dur_byage</th>\n",
       "      <th>ft_tot_dur_byage</th>\n",
       "      <th>befrist_tot_dur_byage</th>\n",
       "      <th>leih_tot_dur_byage</th>\n",
       "      <th>LHG_tot_dur_byage</th>\n",
       "      <th>LEH_tot_dur_byage</th>\n",
       "      <th>almp_tot_dur_byage</th>\n",
       "      <th>almp_aw_tot_dur_byage</th>\n",
       "      <th>se_tot_dur_byage</th>\n",
       "      <th>seeking1_tot_dur_byage</th>\n",
       "    </tr>\n",
       "  </thead>\n",
       "  <tbody>\n",
       "    <tr>\n",
       "      <th>0</th>\n",
       "      <td>7</td>\n",
       "      <td>2015</td>\n",
       "      <td>1</td>\n",
       "      <td>0</td>\n",
       "      <td>1</td>\n",
       "      <td>0</td>\n",
       "      <td>0</td>\n",
       "      <td>0</td>\n",
       "      <td>1</td>\n",
       "      <td>0</td>\n",
       "      <td>...</td>\n",
       "      <td>0.000000</td>\n",
       "      <td>0.000000</td>\n",
       "      <td>15.043478</td>\n",
       "      <td>0.000000</td>\n",
       "      <td>0.000000</td>\n",
       "      <td>0.000000</td>\n",
       "      <td>0.000000</td>\n",
       "      <td>0.000000</td>\n",
       "      <td>0.000000</td>\n",
       "      <td>0.000000</td>\n",
       "    </tr>\n",
       "    <tr>\n",
       "      <th>1</th>\n",
       "      <td>18</td>\n",
       "      <td>2010</td>\n",
       "      <td>1</td>\n",
       "      <td>1</td>\n",
       "      <td>0</td>\n",
       "      <td>0</td>\n",
       "      <td>0</td>\n",
       "      <td>0</td>\n",
       "      <td>0</td>\n",
       "      <td>0</td>\n",
       "      <td>...</td>\n",
       "      <td>0.000000</td>\n",
       "      <td>0.000000</td>\n",
       "      <td>0.000000</td>\n",
       "      <td>0.000000</td>\n",
       "      <td>0.000000</td>\n",
       "      <td>0.000000</td>\n",
       "      <td>0.000000</td>\n",
       "      <td>0.000000</td>\n",
       "      <td>0.000000</td>\n",
       "      <td>0.000000</td>\n",
       "    </tr>\n",
       "    <tr>\n",
       "      <th>2</th>\n",
       "      <td>18</td>\n",
       "      <td>2011</td>\n",
       "      <td>2</td>\n",
       "      <td>0</td>\n",
       "      <td>1</td>\n",
       "      <td>0</td>\n",
       "      <td>1</td>\n",
       "      <td>0</td>\n",
       "      <td>1</td>\n",
       "      <td>0</td>\n",
       "      <td>...</td>\n",
       "      <td>2.714286</td>\n",
       "      <td>2.714286</td>\n",
       "      <td>0.000000</td>\n",
       "      <td>0.000000</td>\n",
       "      <td>10.775510</td>\n",
       "      <td>0.000000</td>\n",
       "      <td>8.367347</td>\n",
       "      <td>0.000000</td>\n",
       "      <td>0.000000</td>\n",
       "      <td>9.836735</td>\n",
       "    </tr>\n",
       "    <tr>\n",
       "      <th>3</th>\n",
       "      <td>18</td>\n",
       "      <td>2012</td>\n",
       "      <td>3</td>\n",
       "      <td>0</td>\n",
       "      <td>1</td>\n",
       "      <td>0</td>\n",
       "      <td>1</td>\n",
       "      <td>0</td>\n",
       "      <td>1</td>\n",
       "      <td>0</td>\n",
       "      <td>...</td>\n",
       "      <td>4.200000</td>\n",
       "      <td>4.200000</td>\n",
       "      <td>0.000000</td>\n",
       "      <td>0.000000</td>\n",
       "      <td>12.100000</td>\n",
       "      <td>0.000000</td>\n",
       "      <td>9.400000</td>\n",
       "      <td>0.000000</td>\n",
       "      <td>0.000000</td>\n",
       "      <td>9.960000</td>\n",
       "    </tr>\n",
       "    <tr>\n",
       "      <th>4</th>\n",
       "      <td>18</td>\n",
       "      <td>2012</td>\n",
       "      <td>4</td>\n",
       "      <td>0</td>\n",
       "      <td>1</td>\n",
       "      <td>0</td>\n",
       "      <td>1</td>\n",
       "      <td>0</td>\n",
       "      <td>1</td>\n",
       "      <td>0</td>\n",
       "      <td>...</td>\n",
       "      <td>5.460000</td>\n",
       "      <td>5.460000</td>\n",
       "      <td>0.000000</td>\n",
       "      <td>0.000000</td>\n",
       "      <td>13.360000</td>\n",
       "      <td>0.000000</td>\n",
       "      <td>10.320000</td>\n",
       "      <td>0.000000</td>\n",
       "      <td>0.000000</td>\n",
       "      <td>10.280000</td>\n",
       "    </tr>\n",
       "    <tr>\n",
       "      <th>...</th>\n",
       "      <td>...</td>\n",
       "      <td>...</td>\n",
       "      <td>...</td>\n",
       "      <td>...</td>\n",
       "      <td>...</td>\n",
       "      <td>...</td>\n",
       "      <td>...</td>\n",
       "      <td>...</td>\n",
       "      <td>...</td>\n",
       "      <td>...</td>\n",
       "      <td>...</td>\n",
       "      <td>...</td>\n",
       "      <td>...</td>\n",
       "      <td>...</td>\n",
       "      <td>...</td>\n",
       "      <td>...</td>\n",
       "      <td>...</td>\n",
       "      <td>...</td>\n",
       "      <td>...</td>\n",
       "      <td>...</td>\n",
       "      <td>...</td>\n",
       "    </tr>\n",
       "    <tr>\n",
       "      <th>643685</th>\n",
       "      <td>1827860</td>\n",
       "      <td>2013</td>\n",
       "      <td>1</td>\n",
       "      <td>0</td>\n",
       "      <td>0</td>\n",
       "      <td>0</td>\n",
       "      <td>1</td>\n",
       "      <td>0</td>\n",
       "      <td>0</td>\n",
       "      <td>1</td>\n",
       "      <td>...</td>\n",
       "      <td>0.000000</td>\n",
       "      <td>0.000000</td>\n",
       "      <td>0.000000</td>\n",
       "      <td>0.000000</td>\n",
       "      <td>0.612903</td>\n",
       "      <td>0.000000</td>\n",
       "      <td>0.000000</td>\n",
       "      <td>0.000000</td>\n",
       "      <td>0.000000</td>\n",
       "      <td>0.000000</td>\n",
       "    </tr>\n",
       "    <tr>\n",
       "      <th>643686</th>\n",
       "      <td>1827860</td>\n",
       "      <td>2015</td>\n",
       "      <td>2</td>\n",
       "      <td>1</td>\n",
       "      <td>0</td>\n",
       "      <td>0</td>\n",
       "      <td>1</td>\n",
       "      <td>0</td>\n",
       "      <td>1</td>\n",
       "      <td>0</td>\n",
       "      <td>...</td>\n",
       "      <td>0.000000</td>\n",
       "      <td>0.000000</td>\n",
       "      <td>0.212121</td>\n",
       "      <td>0.212121</td>\n",
       "      <td>17.363636</td>\n",
       "      <td>0.000000</td>\n",
       "      <td>8.909091</td>\n",
       "      <td>0.000000</td>\n",
       "      <td>0.000000</td>\n",
       "      <td>7.121212</td>\n",
       "    </tr>\n",
       "    <tr>\n",
       "      <th>643687</th>\n",
       "      <td>1827860</td>\n",
       "      <td>2016</td>\n",
       "      <td>3</td>\n",
       "      <td>1</td>\n",
       "      <td>0</td>\n",
       "      <td>0</td>\n",
       "      <td>1</td>\n",
       "      <td>1</td>\n",
       "      <td>0</td>\n",
       "      <td>1</td>\n",
       "      <td>...</td>\n",
       "      <td>0.000000</td>\n",
       "      <td>0.000000</td>\n",
       "      <td>0.294118</td>\n",
       "      <td>0.205882</td>\n",
       "      <td>34.705882</td>\n",
       "      <td>0.000000</td>\n",
       "      <td>10.352941</td>\n",
       "      <td>1.705882</td>\n",
       "      <td>1.705882</td>\n",
       "      <td>23.911765</td>\n",
       "    </tr>\n",
       "    <tr>\n",
       "      <th>643688</th>\n",
       "      <td>1827869</td>\n",
       "      <td>2013</td>\n",
       "      <td>1</td>\n",
       "      <td>1</td>\n",
       "      <td>1</td>\n",
       "      <td>0</td>\n",
       "      <td>0</td>\n",
       "      <td>0</td>\n",
       "      <td>1</td>\n",
       "      <td>0</td>\n",
       "      <td>...</td>\n",
       "      <td>0.000000</td>\n",
       "      <td>0.000000</td>\n",
       "      <td>0.000000</td>\n",
       "      <td>0.000000</td>\n",
       "      <td>0.000000</td>\n",
       "      <td>0.525424</td>\n",
       "      <td>0.000000</td>\n",
       "      <td>0.000000</td>\n",
       "      <td>0.000000</td>\n",
       "      <td>0.000000</td>\n",
       "    </tr>\n",
       "    <tr>\n",
       "      <th>643689</th>\n",
       "      <td>1827869</td>\n",
       "      <td>2014</td>\n",
       "      <td>2</td>\n",
       "      <td>0</td>\n",
       "      <td>0</td>\n",
       "      <td>1</td>\n",
       "      <td>0</td>\n",
       "      <td>0</td>\n",
       "      <td>1</td>\n",
       "      <td>0</td>\n",
       "      <td>...</td>\n",
       "      <td>0.000000</td>\n",
       "      <td>0.666667</td>\n",
       "      <td>0.666667</td>\n",
       "      <td>0.000000</td>\n",
       "      <td>0.000000</td>\n",
       "      <td>8.950000</td>\n",
       "      <td>1.033333</td>\n",
       "      <td>0.083333</td>\n",
       "      <td>0.083333</td>\n",
       "      <td>8.133333</td>\n",
       "    </tr>\n",
       "  </tbody>\n",
       "</table>\n",
       "<p>643690 rows × 164 columns</p>\n",
       "</div>"
      ],
      "text/plain": [
       "         persnr  year  nrEntry  ltue  employed_before  receipt_leh_before  \\\n",
       "0             7  2015        1     0                1                   0   \n",
       "1            18  2010        1     1                0                   0   \n",
       "2            18  2011        2     0                1                   0   \n",
       "3            18  2012        3     0                1                   0   \n",
       "4            18  2012        4     0                1                   0   \n",
       "...         ...   ...      ...   ...              ...                 ...   \n",
       "643685  1827860  2013        1     0                0                   0   \n",
       "643686  1827860  2015        2     1                0                   0   \n",
       "643687  1827860  2016        3     1                0                   0   \n",
       "643688  1827869  2013        1     1                1                   0   \n",
       "643689  1827869  2014        2     0                0                   1   \n",
       "\n",
       "        receipt_lhg_before  se_before  ASU_notue_seeking_before  \\\n",
       "0                        0          0                         1   \n",
       "1                        0          0                         0   \n",
       "2                        1          0                         1   \n",
       "3                        1          0                         1   \n",
       "4                        1          0                         1   \n",
       "...                    ...        ...                       ...   \n",
       "643685                   1          0                         0   \n",
       "643686                   1          0                         1   \n",
       "643687                   1          1                         0   \n",
       "643688                   0          0                         1   \n",
       "643689                   0          0                         1   \n",
       "\n",
       "        ASU_other_before  ...  minijob_tot_dur_byage  ft_tot_dur_byage  \\\n",
       "0                      0  ...               0.000000          0.000000   \n",
       "1                      0  ...               0.000000          0.000000   \n",
       "2                      0  ...               2.714286          2.714286   \n",
       "3                      0  ...               4.200000          4.200000   \n",
       "4                      0  ...               5.460000          5.460000   \n",
       "...                  ...  ...                    ...               ...   \n",
       "643685                 1  ...               0.000000          0.000000   \n",
       "643686                 0  ...               0.000000          0.000000   \n",
       "643687                 1  ...               0.000000          0.000000   \n",
       "643688                 0  ...               0.000000          0.000000   \n",
       "643689                 0  ...               0.000000          0.666667   \n",
       "\n",
       "        befrist_tot_dur_byage  leih_tot_dur_byage  LHG_tot_dur_byage  \\\n",
       "0                   15.043478            0.000000           0.000000   \n",
       "1                    0.000000            0.000000           0.000000   \n",
       "2                    0.000000            0.000000          10.775510   \n",
       "3                    0.000000            0.000000          12.100000   \n",
       "4                    0.000000            0.000000          13.360000   \n",
       "...                       ...                 ...                ...   \n",
       "643685               0.000000            0.000000           0.612903   \n",
       "643686               0.212121            0.212121          17.363636   \n",
       "643687               0.294118            0.205882          34.705882   \n",
       "643688               0.000000            0.000000           0.000000   \n",
       "643689               0.666667            0.000000           0.000000   \n",
       "\n",
       "        LEH_tot_dur_byage  almp_tot_dur_byage  almp_aw_tot_dur_byage  \\\n",
       "0                0.000000            0.000000               0.000000   \n",
       "1                0.000000            0.000000               0.000000   \n",
       "2                0.000000            8.367347               0.000000   \n",
       "3                0.000000            9.400000               0.000000   \n",
       "4                0.000000           10.320000               0.000000   \n",
       "...                   ...                 ...                    ...   \n",
       "643685           0.000000            0.000000               0.000000   \n",
       "643686           0.000000            8.909091               0.000000   \n",
       "643687           0.000000           10.352941               1.705882   \n",
       "643688           0.525424            0.000000               0.000000   \n",
       "643689           8.950000            1.033333               0.083333   \n",
       "\n",
       "        se_tot_dur_byage  seeking1_tot_dur_byage  \n",
       "0               0.000000                0.000000  \n",
       "1               0.000000                0.000000  \n",
       "2               0.000000                9.836735  \n",
       "3               0.000000                9.960000  \n",
       "4               0.000000               10.280000  \n",
       "...                  ...                     ...  \n",
       "643685          0.000000                0.000000  \n",
       "643686          0.000000                7.121212  \n",
       "643687          1.705882               23.911765  \n",
       "643688          0.000000                0.000000  \n",
       "643689          0.083333                8.133333  \n",
       "\n",
       "[643690 rows x 164 columns]"
      ]
     },
     "execution_count": 10,
     "metadata": {},
     "output_type": "execute_result"
    }
   ],
   "source": [
    "siab"
   ]
  },
  {
   "cell_type": "markdown",
   "id": "1f87e805",
   "metadata": {
    "papermill": {
     "duration": 0.027391,
     "end_time": "2025-08-19T18:37:29.697434",
     "exception": false,
     "start_time": "2025-08-19T18:37:29.670043",
     "status": "completed"
    },
    "tags": []
   },
   "source": [
    "# Splitting Data and Setting Training Data Size"
   ]
  },
  {
   "cell_type": "code",
   "execution_count": 11,
   "id": "910ae358",
   "metadata": {
    "execution": {
     "iopub.execute_input": "2025-08-19T18:37:29.724343Z",
     "iopub.status.busy": "2025-08-19T18:37:29.723944Z",
     "iopub.status.idle": "2025-08-19T18:37:30.365267Z",
     "shell.execute_reply": "2025-08-19T18:37:30.364508Z"
    },
    "papermill": {
     "duration": 0.65514,
     "end_time": "2025-08-19T18:37:30.367258",
     "exception": false,
     "start_time": "2025-08-19T18:37:29.712118",
     "status": "completed"
    },
    "tags": []
   },
   "outputs": [],
   "source": [
    "from fairness_multiverse.universe import sample_by_year_size\n",
    "\n",
    "siab_train = sample_by_year_size(siab,\n",
    "                               training_year=universe[\"training_year\"],\n",
    "                               training_size=universe[\"training_size\"])"
   ]
  },
  {
   "cell_type": "code",
   "execution_count": 12,
   "id": "919c8ff5",
   "metadata": {
    "execution": {
     "iopub.execute_input": "2025-08-19T18:37:30.408094Z",
     "iopub.status.busy": "2025-08-19T18:37:30.407443Z",
     "iopub.status.idle": "2025-08-19T18:37:30.415304Z",
     "shell.execute_reply": "2025-08-19T18:37:30.414264Z"
    },
    "papermill": {
     "duration": 0.03821,
     "end_time": "2025-08-19T18:37:30.417834",
     "exception": false,
     "start_time": "2025-08-19T18:37:30.379624",
     "status": "completed"
    },
    "tags": []
   },
   "outputs": [
    {
     "data": {
      "text/plain": [
       "(5000, 164)"
      ]
     },
     "execution_count": 12,
     "metadata": {},
     "output_type": "execute_result"
    }
   ],
   "source": [
    "siab_train.shape"
   ]
  },
  {
   "cell_type": "code",
   "execution_count": 13,
   "id": "feb13bf4",
   "metadata": {
    "execution": {
     "iopub.execute_input": "2025-08-19T18:37:30.445608Z",
     "iopub.status.busy": "2025-08-19T18:37:30.444665Z",
     "iopub.status.idle": "2025-08-19T18:37:30.458983Z",
     "shell.execute_reply": "2025-08-19T18:37:30.457777Z"
    },
    "papermill": {
     "duration": 0.02757,
     "end_time": "2025-08-19T18:37:30.460616",
     "exception": false,
     "start_time": "2025-08-19T18:37:30.433046",
     "status": "completed"
    },
    "tags": []
   },
   "outputs": [
    {
     "data": {
      "text/plain": [
       "year\n",
       "2012    1667\n",
       "2013    1667\n",
       "2014    1666\n",
       "dtype: int64"
      ]
     },
     "metadata": {},
     "output_type": "display_data"
    }
   ],
   "source": [
    "display(siab_train.groupby(\"year\").size())"
   ]
  },
  {
   "cell_type": "code",
   "execution_count": 14,
   "id": "0997782f",
   "metadata": {
    "execution": {
     "iopub.execute_input": "2025-08-19T18:37:30.492446Z",
     "iopub.status.busy": "2025-08-19T18:37:30.491291Z",
     "iopub.status.idle": "2025-08-19T18:37:30.778768Z",
     "shell.execute_reply": "2025-08-19T18:37:30.778102Z"
    },
    "papermill": {
     "duration": 0.301795,
     "end_time": "2025-08-19T18:37:30.780331",
     "exception": false,
     "start_time": "2025-08-19T18:37:30.478536",
     "status": "completed"
    },
    "tags": []
   },
   "outputs": [],
   "source": [
    "#siab_train = siab_s[siab_s.year < 2015]\n",
    "siab_calib = siab[siab.year == 2015]\n",
    "siab_test = siab[siab.year == 2016]"
   ]
  },
  {
   "cell_type": "code",
   "execution_count": 15,
   "id": "2c1e4012",
   "metadata": {
    "execution": {
     "iopub.execute_input": "2025-08-19T18:37:30.803645Z",
     "iopub.status.busy": "2025-08-19T18:37:30.802635Z",
     "iopub.status.idle": "2025-08-19T18:37:30.808285Z",
     "shell.execute_reply": "2025-08-19T18:37:30.807006Z"
    },
    "papermill": {
     "duration": 0.018285,
     "end_time": "2025-08-19T18:37:30.809738",
     "exception": false,
     "start_time": "2025-08-19T18:37:30.791453",
     "status": "completed"
    },
    "tags": []
   },
   "outputs": [],
   "source": [
    "#siab_calib.shape"
   ]
  },
  {
   "cell_type": "code",
   "execution_count": 16,
   "id": "f66b54ca",
   "metadata": {
    "execution": {
     "iopub.execute_input": "2025-08-19T18:37:30.832668Z",
     "iopub.status.busy": "2025-08-19T18:37:30.831788Z",
     "iopub.status.idle": "2025-08-19T18:37:30.839679Z",
     "shell.execute_reply": "2025-08-19T18:37:30.837808Z"
    },
    "papermill": {
     "duration": 0.020859,
     "end_time": "2025-08-19T18:37:30.841347",
     "exception": false,
     "start_time": "2025-08-19T18:37:30.820488",
     "status": "completed"
    },
    "tags": []
   },
   "outputs": [],
   "source": [
    "#siab_test.shape"
   ]
  },
  {
   "cell_type": "code",
   "execution_count": 17,
   "id": "27e4384d",
   "metadata": {
    "execution": {
     "iopub.execute_input": "2025-08-19T18:37:30.864880Z",
     "iopub.status.busy": "2025-08-19T18:37:30.863961Z",
     "iopub.status.idle": "2025-08-19T18:37:30.876250Z",
     "shell.execute_reply": "2025-08-19T18:37:30.874651Z"
    },
    "papermill": {
     "duration": 0.025369,
     "end_time": "2025-08-19T18:37:30.877896",
     "exception": false,
     "start_time": "2025-08-19T18:37:30.852527",
     "status": "completed"
    },
    "tags": []
   },
   "outputs": [],
   "source": [
    "X_train = siab_train.iloc[:,4:164]\n",
    "y_train = siab_train.iloc[:, [3]]"
   ]
  },
  {
   "cell_type": "code",
   "execution_count": 18,
   "id": "08ee8389",
   "metadata": {
    "execution": {
     "iopub.execute_input": "2025-08-19T18:37:30.903851Z",
     "iopub.status.busy": "2025-08-19T18:37:30.902928Z",
     "iopub.status.idle": "2025-08-19T18:37:30.964980Z",
     "shell.execute_reply": "2025-08-19T18:37:30.963448Z"
    },
    "papermill": {
     "duration": 0.077556,
     "end_time": "2025-08-19T18:37:30.968938",
     "exception": false,
     "start_time": "2025-08-19T18:37:30.891382",
     "status": "completed"
    },
    "tags": []
   },
   "outputs": [],
   "source": [
    "X_calib = siab_calib.iloc[:,4:164]\n",
    "y_calib = siab_calib.iloc[:, [3]]"
   ]
  },
  {
   "cell_type": "code",
   "execution_count": 19,
   "id": "b7ff42e0",
   "metadata": {
    "execution": {
     "iopub.execute_input": "2025-08-19T18:37:31.001118Z",
     "iopub.status.busy": "2025-08-19T18:37:31.000574Z",
     "iopub.status.idle": "2025-08-19T18:37:31.055639Z",
     "shell.execute_reply": "2025-08-19T18:37:31.054636Z"
    },
    "papermill": {
     "duration": 0.069149,
     "end_time": "2025-08-19T18:37:31.057516",
     "exception": false,
     "start_time": "2025-08-19T18:37:30.988367",
     "status": "completed"
    },
    "tags": []
   },
   "outputs": [],
   "source": [
    "X_test = siab_test.iloc[:,4:164]\n",
    "y_true = siab_test.iloc[:, [3]]"
   ]
  },
  {
   "cell_type": "code",
   "execution_count": 20,
   "id": "0275101e",
   "metadata": {
    "execution": {
     "iopub.execute_input": "2025-08-19T18:37:31.108941Z",
     "iopub.status.busy": "2025-08-19T18:37:31.105536Z",
     "iopub.status.idle": "2025-08-19T18:37:31.251629Z",
     "shell.execute_reply": "2025-08-19T18:37:31.250518Z"
    },
    "papermill": {
     "duration": 0.180468,
     "end_time": "2025-08-19T18:37:31.253689",
     "exception": false,
     "start_time": "2025-08-19T18:37:31.073221",
     "status": "completed"
    },
    "tags": []
   },
   "outputs": [],
   "source": [
    "# Auxiliary data needed downstream in the pipeline\n",
    "\n",
    "org_train = X_train.copy()\n",
    "org_test = X_test.copy()\n",
    "org_calib = X_calib.copy()"
   ]
  },
  {
   "cell_type": "markdown",
   "id": "b461e618",
   "metadata": {
    "papermill": {
     "duration": 0.012071,
     "end_time": "2025-08-19T18:37:31.289221",
     "exception": false,
     "start_time": "2025-08-19T18:37:31.277150",
     "status": "completed"
    },
    "tags": []
   },
   "source": [
    "# Preprocessing Data"
   ]
  },
  {
   "cell_type": "code",
   "execution_count": 21,
   "id": "78e74c4b",
   "metadata": {
    "execution": {
     "iopub.execute_input": "2025-08-19T18:37:31.313264Z",
     "iopub.status.busy": "2025-08-19T18:37:31.312569Z",
     "iopub.status.idle": "2025-08-19T18:37:31.321158Z",
     "shell.execute_reply": "2025-08-19T18:37:31.319864Z"
    },
    "papermill": {
     "duration": 0.022449,
     "end_time": "2025-08-19T18:37:31.322680",
     "exception": false,
     "start_time": "2025-08-19T18:37:31.300231",
     "status": "completed"
    },
    "tags": []
   },
   "outputs": [],
   "source": [
    "# EXCLUDE PROTECTED FEATURES\n",
    "# --------------------------\n",
    "\n",
    "excluded_features = universe[\"exclude_features\"].split(\"-\")\n",
    "excluded_features_dictionary = {\n",
    "    \"nationality\": [\"maxdeutsch1\", \"maxdeutsch.Missing.\"],\n",
    "    \"sex\": [\"frau1\"],\n",
    "    \"age\": [\"age\"],\n",
    "}"
   ]
  },
  {
   "cell_type": "code",
   "execution_count": 22,
   "id": "f8e63555",
   "metadata": {
    "execution": {
     "iopub.execute_input": "2025-08-19T18:37:31.349785Z",
     "iopub.status.busy": "2025-08-19T18:37:31.349070Z",
     "iopub.status.idle": "2025-08-19T18:37:31.358288Z",
     "shell.execute_reply": "2025-08-19T18:37:31.356677Z"
    },
    "papermill": {
     "duration": 0.024193,
     "end_time": "2025-08-19T18:37:31.359942",
     "exception": false,
     "start_time": "2025-08-19T18:37:31.335749",
     "status": "completed"
    },
    "tags": []
   },
   "outputs": [],
   "source": [
    "excluded_features_columns = [\n",
    "    excluded_features_dictionary[f] for f in excluded_features if len(f) > 0 and f != \"none\"\n",
    "]"
   ]
  },
  {
   "cell_type": "code",
   "execution_count": 23,
   "id": "da781f7c",
   "metadata": {
    "execution": {
     "iopub.execute_input": "2025-08-19T18:37:31.387666Z",
     "iopub.status.busy": "2025-08-19T18:37:31.387277Z",
     "iopub.status.idle": "2025-08-19T18:37:31.402565Z",
     "shell.execute_reply": "2025-08-19T18:37:31.400572Z"
    },
    "papermill": {
     "duration": 0.03314,
     "end_time": "2025-08-19T18:37:31.406842",
     "exception": false,
     "start_time": "2025-08-19T18:37:31.373702",
     "status": "completed"
    },
    "tags": []
   },
   "outputs": [],
   "source": [
    "from fairness_multiverse.universe import flatten_once\n",
    "\n",
    "excluded_features_columns = flatten_once(excluded_features_columns)"
   ]
  },
  {
   "cell_type": "code",
   "execution_count": 24,
   "id": "37fef0f0",
   "metadata": {
    "execution": {
     "iopub.execute_input": "2025-08-19T18:37:31.448232Z",
     "iopub.status.busy": "2025-08-19T18:37:31.446686Z",
     "iopub.status.idle": "2025-08-19T18:37:31.512953Z",
     "shell.execute_reply": "2025-08-19T18:37:31.511753Z"
    },
    "papermill": {
     "duration": 0.084889,
     "end_time": "2025-08-19T18:37:31.517127",
     "exception": false,
     "start_time": "2025-08-19T18:37:31.432238",
     "status": "completed"
    },
    "tags": []
   },
   "outputs": [],
   "source": [
    "if len(excluded_features_columns) > 0:\n",
    "    print(f\"Dropping features: {excluded_features_columns}\")\n",
    "    X_train.drop(excluded_features_columns, axis=1, inplace=True)"
   ]
  },
  {
   "cell_type": "code",
   "execution_count": 25,
   "id": "d029e3e9",
   "metadata": {
    "execution": {
     "iopub.execute_input": "2025-08-19T18:37:31.554117Z",
     "iopub.status.busy": "2025-08-19T18:37:31.553175Z",
     "iopub.status.idle": "2025-08-19T18:37:31.580415Z",
     "shell.execute_reply": "2025-08-19T18:37:31.579610Z"
    },
    "papermill": {
     "duration": 0.043707,
     "end_time": "2025-08-19T18:37:31.583281",
     "exception": false,
     "start_time": "2025-08-19T18:37:31.539574",
     "status": "completed"
    },
    "tags": []
   },
   "outputs": [],
   "source": [
    "if len(excluded_features_columns) > 0:\n",
    "    print(f\"Dropping features: {excluded_features_columns}\")\n",
    "    X_test.drop(excluded_features_columns, axis=1, inplace=True)"
   ]
  },
  {
   "cell_type": "code",
   "execution_count": 26,
   "id": "01d571f0",
   "metadata": {
    "execution": {
     "iopub.execute_input": "2025-08-19T18:37:31.615695Z",
     "iopub.status.busy": "2025-08-19T18:37:31.615264Z",
     "iopub.status.idle": "2025-08-19T18:37:31.619899Z",
     "shell.execute_reply": "2025-08-19T18:37:31.619152Z"
    },
    "papermill": {
     "duration": 0.02013,
     "end_time": "2025-08-19T18:37:31.621825",
     "exception": false,
     "start_time": "2025-08-19T18:37:31.601695",
     "status": "completed"
    },
    "tags": []
   },
   "outputs": [],
   "source": [
    "if len(excluded_features_columns) > 0:\n",
    "    print(f\"Dropping features: {excluded_features_columns}\")\n",
    "    X_calib.drop(excluded_features_columns, axis=1, inplace=True)"
   ]
  },
  {
   "cell_type": "code",
   "execution_count": 27,
   "id": "3037356e",
   "metadata": {
    "execution": {
     "iopub.execute_input": "2025-08-19T18:37:31.647741Z",
     "iopub.status.busy": "2025-08-19T18:37:31.647356Z",
     "iopub.status.idle": "2025-08-19T18:37:31.651665Z",
     "shell.execute_reply": "2025-08-19T18:37:31.650852Z"
    },
    "papermill": {
     "duration": 0.018833,
     "end_time": "2025-08-19T18:37:31.653192",
     "exception": false,
     "start_time": "2025-08-19T18:37:31.634359",
     "status": "completed"
    },
    "tags": []
   },
   "outputs": [],
   "source": [
    "# EXCLUDE CERTAIN SUBGROUPS\n",
    "# -------------------------\n",
    "\n",
    "mode = universe.get(\"exclude_subgroups\", \"keep-all\") # Defaults to \"keep-all\" if the key is missing."
   ]
  },
  {
   "cell_type": "code",
   "execution_count": 28,
   "id": "9d1e63fd",
   "metadata": {
    "execution": {
     "iopub.execute_input": "2025-08-19T18:37:31.678103Z",
     "iopub.status.busy": "2025-08-19T18:37:31.677417Z",
     "iopub.status.idle": "2025-08-19T18:37:31.684134Z",
     "shell.execute_reply": "2025-08-19T18:37:31.683255Z"
    },
    "papermill": {
     "duration": 0.021644,
     "end_time": "2025-08-19T18:37:31.686856",
     "exception": false,
     "start_time": "2025-08-19T18:37:31.665212",
     "status": "completed"
    },
    "tags": []
   },
   "outputs": [],
   "source": [
    "if mode == \"keep-all\":\n",
    "    keep_mask = pd.Series(True, index=org_train.index)\n",
    "\n",
    "elif mode == \"drop-non-german\":\n",
    "    keep_mask = (org_train[\"maxdeutsch1\"] == 1) & (org_train[\"maxdeutsch.Missing.\"] == 0)\n",
    "\n",
    "else:\n",
    "    raise ValueError(f\"Unsupported mode for exclude_subgroups: {mode}\")"
   ]
  },
  {
   "cell_type": "code",
   "execution_count": 29,
   "id": "d3b65474",
   "metadata": {
    "execution": {
     "iopub.execute_input": "2025-08-19T18:37:31.711760Z",
     "iopub.status.busy": "2025-08-19T18:37:31.710384Z",
     "iopub.status.idle": "2025-08-19T18:37:31.735745Z",
     "shell.execute_reply": "2025-08-19T18:37:31.734051Z"
    },
    "papermill": {
     "duration": 0.040539,
     "end_time": "2025-08-19T18:37:31.738568",
     "exception": false,
     "start_time": "2025-08-19T18:37:31.698029",
     "status": "completed"
    },
    "tags": []
   },
   "outputs": [],
   "source": [
    "n_drop = (~keep_mask).sum() # Calculates how many rows are set to be dropped\n",
    "if n_drop > 0:\n",
    "    pct = n_drop / len(keep_mask) * 100\n",
    "    print(f\"Dropping {n_drop} rows ({pct:.2f}%) where mode='{mode}'\")"
   ]
  },
  {
   "cell_type": "code",
   "execution_count": 30,
   "id": "f44389b3",
   "metadata": {
    "execution": {
     "iopub.execute_input": "2025-08-19T18:37:31.773040Z",
     "iopub.status.busy": "2025-08-19T18:37:31.772032Z",
     "iopub.status.idle": "2025-08-19T18:37:31.792326Z",
     "shell.execute_reply": "2025-08-19T18:37:31.788212Z"
    },
    "papermill": {
     "duration": 0.035851,
     "end_time": "2025-08-19T18:37:31.794747",
     "exception": false,
     "start_time": "2025-08-19T18:37:31.758896",
     "status": "completed"
    },
    "tags": []
   },
   "outputs": [],
   "source": [
    "X_train = X_train[keep_mask]"
   ]
  },
  {
   "cell_type": "code",
   "execution_count": 31,
   "id": "ceca8c2a",
   "metadata": {
    "execution": {
     "iopub.execute_input": "2025-08-19T18:37:31.823869Z",
     "iopub.status.busy": "2025-08-19T18:37:31.823570Z",
     "iopub.status.idle": "2025-08-19T18:37:31.830130Z",
     "shell.execute_reply": "2025-08-19T18:37:31.828944Z"
    },
    "papermill": {
     "duration": 0.020578,
     "end_time": "2025-08-19T18:37:31.831588",
     "exception": false,
     "start_time": "2025-08-19T18:37:31.811010",
     "status": "completed"
    },
    "tags": []
   },
   "outputs": [],
   "source": [
    "y_train = y_train[keep_mask]"
   ]
  },
  {
   "cell_type": "markdown",
   "id": "04d31e2f",
   "metadata": {
    "papermill": {
     "duration": 0.010882,
     "end_time": "2025-08-19T18:37:31.854288",
     "exception": false,
     "start_time": "2025-08-19T18:37:31.843406",
     "status": "completed"
    },
    "tags": []
   },
   "source": [
    "# Model Training"
   ]
  },
  {
   "cell_type": "code",
   "execution_count": 32,
   "id": "db991733",
   "metadata": {
    "execution": {
     "iopub.execute_input": "2025-08-19T18:37:31.891087Z",
     "iopub.status.busy": "2025-08-19T18:37:31.890766Z",
     "iopub.status.idle": "2025-08-19T18:37:31.979469Z",
     "shell.execute_reply": "2025-08-19T18:37:31.978660Z"
    },
    "papermill": {
     "duration": 0.103462,
     "end_time": "2025-08-19T18:37:31.982231",
     "exception": false,
     "start_time": "2025-08-19T18:37:31.878769",
     "status": "completed"
    },
    "tags": []
   },
   "outputs": [],
   "source": [
    "from sklearn.linear_model import LogisticRegression\n",
    "from sklearn.ensemble import GradientBoostingClassifier, RandomForestClassifier\n",
    "\n",
    "if (universe[\"model\"] == \"logreg\"):\n",
    "    model = LogisticRegression() #penalty=\"none\", solver=\"newton-cg\", max_iter=1)\n",
    "elif (universe[\"model\"] == \"penalized_logreg\"):\n",
    "    model = LogisticRegression(penalty=\"l2\", C=0.1) #, solver=\"newton-cg\", max_iter=1)\n",
    "elif (universe[\"model\"] == \"rf\"):\n",
    "    model = RandomForestClassifier() # n_estimators=100, n_jobs=-1\n",
    "elif (universe[\"model\"] == \"gbm\"):\n",
    "    model = GradientBoostingClassifier()\n",
    "elif (universe[\"model\"] == \"elasticnet\"):\n",
    "    model = LogisticRegression(penalty = 'elasticnet', solver = 'saga', l1_ratio = 0.5) # max_iter=5000\n",
    "else:\n",
    "    raise \"Unsupported universe.model\""
   ]
  },
  {
   "cell_type": "code",
   "execution_count": 33,
   "id": "a4b5cd25",
   "metadata": {
    "execution": {
     "iopub.execute_input": "2025-08-19T18:37:32.012148Z",
     "iopub.status.busy": "2025-08-19T18:37:32.011777Z",
     "iopub.status.idle": "2025-08-19T18:37:32.018663Z",
     "shell.execute_reply": "2025-08-19T18:37:32.017724Z"
    },
    "papermill": {
     "duration": 0.021652,
     "end_time": "2025-08-19T18:37:32.020052",
     "exception": false,
     "start_time": "2025-08-19T18:37:31.998400",
     "status": "completed"
    },
    "tags": []
   },
   "outputs": [],
   "source": [
    "from sklearn.pipeline import Pipeline\n",
    "from sklearn.preprocessing import StandardScaler\n",
    "\n",
    "model = Pipeline([\n",
    "    #(\"continuous_processor\", continuous_processor),\n",
    "    #(\"categorical_preprocessor\", categorical_preprocessor),\n",
    "    (\"scale\", StandardScaler() if universe[\"scale\"] == \"scale\" else None), \n",
    "    (\"model\", model),\n",
    "])"
   ]
  },
  {
   "cell_type": "code",
   "execution_count": 34,
   "id": "283a904d",
   "metadata": {
    "execution": {
     "iopub.execute_input": "2025-08-19T18:37:32.045179Z",
     "iopub.status.busy": "2025-08-19T18:37:32.044821Z",
     "iopub.status.idle": "2025-08-19T18:37:36.525761Z",
     "shell.execute_reply": "2025-08-19T18:37:36.524887Z"
    },
    "papermill": {
     "duration": 4.493741,
     "end_time": "2025-08-19T18:37:36.526975",
     "exception": false,
     "start_time": "2025-08-19T18:37:32.033234",
     "status": "completed"
    },
    "tags": []
   },
   "outputs": [
    {
     "data": {
      "text/html": [
       "<style>#sk-container-id-1 {color: black;background-color: white;}#sk-container-id-1 pre{padding: 0;}#sk-container-id-1 div.sk-toggleable {background-color: white;}#sk-container-id-1 label.sk-toggleable__label {cursor: pointer;display: block;width: 100%;margin-bottom: 0;padding: 0.3em;box-sizing: border-box;text-align: center;}#sk-container-id-1 label.sk-toggleable__label-arrow:before {content: \"▸\";float: left;margin-right: 0.25em;color: #696969;}#sk-container-id-1 label.sk-toggleable__label-arrow:hover:before {color: black;}#sk-container-id-1 div.sk-estimator:hover label.sk-toggleable__label-arrow:before {color: black;}#sk-container-id-1 div.sk-toggleable__content {max-height: 0;max-width: 0;overflow: hidden;text-align: left;background-color: #f0f8ff;}#sk-container-id-1 div.sk-toggleable__content pre {margin: 0.2em;color: black;border-radius: 0.25em;background-color: #f0f8ff;}#sk-container-id-1 input.sk-toggleable__control:checked~div.sk-toggleable__content {max-height: 200px;max-width: 100%;overflow: auto;}#sk-container-id-1 input.sk-toggleable__control:checked~label.sk-toggleable__label-arrow:before {content: \"▾\";}#sk-container-id-1 div.sk-estimator input.sk-toggleable__control:checked~label.sk-toggleable__label {background-color: #d4ebff;}#sk-container-id-1 div.sk-label input.sk-toggleable__control:checked~label.sk-toggleable__label {background-color: #d4ebff;}#sk-container-id-1 input.sk-hidden--visually {border: 0;clip: rect(1px 1px 1px 1px);clip: rect(1px, 1px, 1px, 1px);height: 1px;margin: -1px;overflow: hidden;padding: 0;position: absolute;width: 1px;}#sk-container-id-1 div.sk-estimator {font-family: monospace;background-color: #f0f8ff;border: 1px dotted black;border-radius: 0.25em;box-sizing: border-box;margin-bottom: 0.5em;}#sk-container-id-1 div.sk-estimator:hover {background-color: #d4ebff;}#sk-container-id-1 div.sk-parallel-item::after {content: \"\";width: 100%;border-bottom: 1px solid gray;flex-grow: 1;}#sk-container-id-1 div.sk-label:hover label.sk-toggleable__label {background-color: #d4ebff;}#sk-container-id-1 div.sk-serial::before {content: \"\";position: absolute;border-left: 1px solid gray;box-sizing: border-box;top: 0;bottom: 0;left: 50%;z-index: 0;}#sk-container-id-1 div.sk-serial {display: flex;flex-direction: column;align-items: center;background-color: white;padding-right: 0.2em;padding-left: 0.2em;position: relative;}#sk-container-id-1 div.sk-item {position: relative;z-index: 1;}#sk-container-id-1 div.sk-parallel {display: flex;align-items: stretch;justify-content: center;background-color: white;position: relative;}#sk-container-id-1 div.sk-item::before, #sk-container-id-1 div.sk-parallel-item::before {content: \"\";position: absolute;border-left: 1px solid gray;box-sizing: border-box;top: 0;bottom: 0;left: 50%;z-index: -1;}#sk-container-id-1 div.sk-parallel-item {display: flex;flex-direction: column;z-index: 1;position: relative;background-color: white;}#sk-container-id-1 div.sk-parallel-item:first-child::after {align-self: flex-end;width: 50%;}#sk-container-id-1 div.sk-parallel-item:last-child::after {align-self: flex-start;width: 50%;}#sk-container-id-1 div.sk-parallel-item:only-child::after {width: 0;}#sk-container-id-1 div.sk-dashed-wrapped {border: 1px dashed gray;margin: 0 0.4em 0.5em 0.4em;box-sizing: border-box;padding-bottom: 0.4em;background-color: white;}#sk-container-id-1 div.sk-label label {font-family: monospace;font-weight: bold;display: inline-block;line-height: 1.2em;}#sk-container-id-1 div.sk-label-container {text-align: center;}#sk-container-id-1 div.sk-container {/* jupyter's `normalize.less` sets `[hidden] { display: none; }` but bootstrap.min.css set `[hidden] { display: none !important; }` so we also need the `!important` here to be able to override the default hidden behavior on the sphinx rendered scikit-learn.org. See: https://github.com/scikit-learn/scikit-learn/issues/21755 */display: inline-block !important;position: relative;}#sk-container-id-1 div.sk-text-repr-fallback {display: none;}</style><div id=\"sk-container-id-1\" class=\"sk-top-container\"><div class=\"sk-text-repr-fallback\"><pre>Pipeline(steps=[(&#x27;scale&#x27;, None), (&#x27;model&#x27;, GradientBoostingClassifier())])</pre><b>In a Jupyter environment, please rerun this cell to show the HTML representation or trust the notebook. <br />On GitHub, the HTML representation is unable to render, please try loading this page with nbviewer.org.</b></div><div class=\"sk-container\" hidden><div class=\"sk-item sk-dashed-wrapped\"><div class=\"sk-label-container\"><div class=\"sk-label sk-toggleable\"><input class=\"sk-toggleable__control sk-hidden--visually\" id=\"sk-estimator-id-1\" type=\"checkbox\" ><label for=\"sk-estimator-id-1\" class=\"sk-toggleable__label sk-toggleable__label-arrow\">Pipeline</label><div class=\"sk-toggleable__content\"><pre>Pipeline(steps=[(&#x27;scale&#x27;, None), (&#x27;model&#x27;, GradientBoostingClassifier())])</pre></div></div></div><div class=\"sk-serial\"><div class=\"sk-item\"><div class=\"sk-estimator sk-toggleable\"><input class=\"sk-toggleable__control sk-hidden--visually\" id=\"sk-estimator-id-2\" type=\"checkbox\" ><label for=\"sk-estimator-id-2\" class=\"sk-toggleable__label sk-toggleable__label-arrow\">None</label><div class=\"sk-toggleable__content\"><pre>None</pre></div></div></div><div class=\"sk-item\"><div class=\"sk-estimator sk-toggleable\"><input class=\"sk-toggleable__control sk-hidden--visually\" id=\"sk-estimator-id-3\" type=\"checkbox\" ><label for=\"sk-estimator-id-3\" class=\"sk-toggleable__label sk-toggleable__label-arrow\">GradientBoostingClassifier</label><div class=\"sk-toggleable__content\"><pre>GradientBoostingClassifier()</pre></div></div></div></div></div></div></div>"
      ],
      "text/plain": [
       "Pipeline(steps=[('scale', None), ('model', GradientBoostingClassifier())])"
      ]
     },
     "execution_count": 34,
     "metadata": {},
     "output_type": "execute_result"
    }
   ],
   "source": [
    "model.fit(X_train, y_train.values.ravel())"
   ]
  },
  {
   "cell_type": "code",
   "execution_count": 35,
   "id": "6e15e313",
   "metadata": {
    "execution": {
     "iopub.execute_input": "2025-08-19T18:37:36.564534Z",
     "iopub.status.busy": "2025-08-19T18:37:36.564022Z",
     "iopub.status.idle": "2025-08-19T18:37:37.192209Z",
     "shell.execute_reply": "2025-08-19T18:37:37.191501Z"
    },
    "papermill": {
     "duration": 0.648363,
     "end_time": "2025-08-19T18:37:37.193625",
     "exception": false,
     "start_time": "2025-08-19T18:37:36.545262",
     "status": "completed"
    },
    "tags": []
   },
   "outputs": [
    {
     "data": {
      "text/plain": [
       "0.8632148032549326"
      ]
     },
     "execution_count": 35,
     "metadata": {},
     "output_type": "execute_result"
    }
   ],
   "source": [
    "from fairness_multiverse.universe import predict_w_threshold\n",
    "\n",
    "probs_test = model.predict_proba(X_test)\n",
    "\n",
    "'''\n",
    "Below code returns a boolean array (or binary 0/1 array depending on how it’s used) where each element \n",
    "is True if the probability of class 1 is greater than or equal to the threshold, and False otherwise.\n",
    "'''\n",
    "y_pred_default = predict_w_threshold(probs_test, 0.5)\n",
    "\n",
    "from sklearn.metrics import accuracy_score\n",
    "\n",
    "# Naive prediction\n",
    "accuracy_score(y_true = y_true, y_pred = y_pred_default)"
   ]
  },
  {
   "cell_type": "code",
   "execution_count": 36,
   "id": "6f14067c",
   "metadata": {
    "execution": {
     "iopub.execute_input": "2025-08-19T18:37:37.234046Z",
     "iopub.status.busy": "2025-08-19T18:37:37.232775Z",
     "iopub.status.idle": "2025-08-19T18:37:37.835672Z",
     "shell.execute_reply": "2025-08-19T18:37:37.834494Z"
    },
    "papermill": {
     "duration": 0.623736,
     "end_time": "2025-08-19T18:37:37.838745",
     "exception": false,
     "start_time": "2025-08-19T18:37:37.215009",
     "status": "completed"
    },
    "tags": []
   },
   "outputs": [
    {
     "data": {
      "text/plain": [
       "array([0, 0, 0, ..., 0, 0, 0])"
      ]
     },
     "execution_count": 36,
     "metadata": {},
     "output_type": "execute_result"
    }
   ],
   "source": [
    "model.predict(X_test)"
   ]
  },
  {
   "cell_type": "markdown",
   "id": "3759920c",
   "metadata": {
    "papermill": {
     "duration": 0.012879,
     "end_time": "2025-08-19T18:37:37.877054",
     "exception": false,
     "start_time": "2025-08-19T18:37:37.864175",
     "status": "completed"
    },
    "tags": []
   },
   "source": [
    "# Conformal Prediction"
   ]
  },
  {
   "cell_type": "code",
   "execution_count": 37,
   "id": "14b27f59",
   "metadata": {
    "execution": {
     "iopub.execute_input": "2025-08-19T18:37:37.903482Z",
     "iopub.status.busy": "2025-08-19T18:37:37.902071Z",
     "iopub.status.idle": "2025-08-19T18:37:37.913216Z",
     "shell.execute_reply": "2025-08-19T18:37:37.911496Z"
    },
    "papermill": {
     "duration": 0.026561,
     "end_time": "2025-08-19T18:37:37.914893",
     "exception": false,
     "start_time": "2025-08-19T18:37:37.888332",
     "status": "completed"
    },
    "tags": []
   },
   "outputs": [],
   "source": [
    "# Miscoverage level for conformal prediction (10% allowed error rate => 90% target coverage)\n",
    "alpha = 0.1"
   ]
  },
  {
   "cell_type": "code",
   "execution_count": 38,
   "id": "59102472",
   "metadata": {
    "execution": {
     "iopub.execute_input": "2025-08-19T18:37:37.945790Z",
     "iopub.status.busy": "2025-08-19T18:37:37.944717Z",
     "iopub.status.idle": "2025-08-19T18:37:38.489069Z",
     "shell.execute_reply": "2025-08-19T18:37:38.487829Z"
    },
    "papermill": {
     "duration": 0.560709,
     "end_time": "2025-08-19T18:37:38.492119",
     "exception": false,
     "start_time": "2025-08-19T18:37:37.931410",
     "status": "completed"
    },
    "tags": []
   },
   "outputs": [],
   "source": [
    "probs_calib = model.predict_proba(X_calib)"
   ]
  },
  {
   "cell_type": "code",
   "execution_count": 39,
   "id": "a792d4dd",
   "metadata": {
    "execution": {
     "iopub.execute_input": "2025-08-19T18:37:38.537431Z",
     "iopub.status.busy": "2025-08-19T18:37:38.536180Z",
     "iopub.status.idle": "2025-08-19T18:37:38.550547Z",
     "shell.execute_reply": "2025-08-19T18:37:38.549233Z"
    },
    "papermill": {
     "duration": 0.032427,
     "end_time": "2025-08-19T18:37:38.552293",
     "exception": false,
     "start_time": "2025-08-19T18:37:38.519866",
     "status": "completed"
    },
    "tags": []
   },
   "outputs": [],
   "source": [
    "y_calib = y_calib.values.ravel().astype(int)"
   ]
  },
  {
   "cell_type": "code",
   "execution_count": 40,
   "id": "650fd033",
   "metadata": {
    "execution": {
     "iopub.execute_input": "2025-08-19T18:37:38.583585Z",
     "iopub.status.busy": "2025-08-19T18:37:38.582412Z",
     "iopub.status.idle": "2025-08-19T18:37:38.598390Z",
     "shell.execute_reply": "2025-08-19T18:37:38.597247Z"
    },
    "papermill": {
     "duration": 0.031091,
     "end_time": "2025-08-19T18:37:38.600120",
     "exception": false,
     "start_time": "2025-08-19T18:37:38.569029",
     "status": "completed"
    },
    "tags": []
   },
   "outputs": [],
   "source": [
    "from fairness_multiverse.conformal import compute_nc_scores\n",
    "\n",
    "# Compute nonconformity scores on calibration set (1 - probability of true class)\n",
    "nc_scores = compute_nc_scores(probs_calib, y_calib)"
   ]
  },
  {
   "cell_type": "code",
   "execution_count": 41,
   "id": "28ada44c",
   "metadata": {
    "execution": {
     "iopub.execute_input": "2025-08-19T18:37:38.631988Z",
     "iopub.status.busy": "2025-08-19T18:37:38.630963Z",
     "iopub.status.idle": "2025-08-19T18:37:38.645058Z",
     "shell.execute_reply": "2025-08-19T18:37:38.643196Z"
    },
    "papermill": {
     "duration": 0.043588,
     "end_time": "2025-08-19T18:37:38.661585",
     "exception": false,
     "start_time": "2025-08-19T18:37:38.617997",
     "status": "completed"
    },
    "tags": []
   },
   "outputs": [],
   "source": [
    "from fairness_multiverse.conformal import find_threshold\n",
    "\n",
    "# Find conformal threshold q_hat for the given alpha (split conformal method)\n",
    "q_hat = find_threshold(nc_scores, alpha)"
   ]
  },
  {
   "cell_type": "code",
   "execution_count": 42,
   "id": "df56469e",
   "metadata": {
    "execution": {
     "iopub.execute_input": "2025-08-19T18:37:38.688935Z",
     "iopub.status.busy": "2025-08-19T18:37:38.687664Z",
     "iopub.status.idle": "2025-08-19T18:37:38.697028Z",
     "shell.execute_reply": "2025-08-19T18:37:38.696211Z"
    },
    "papermill": {
     "duration": 0.023337,
     "end_time": "2025-08-19T18:37:38.698193",
     "exception": false,
     "start_time": "2025-08-19T18:37:38.674856",
     "status": "completed"
    },
    "tags": []
   },
   "outputs": [
    {
     "data": {
      "text/plain": [
       "0.6912391149918904"
      ]
     },
     "execution_count": 42,
     "metadata": {},
     "output_type": "execute_result"
    }
   ],
   "source": [
    "q_hat"
   ]
  },
  {
   "cell_type": "code",
   "execution_count": 43,
   "id": "aa1f5faa",
   "metadata": {
    "execution": {
     "iopub.execute_input": "2025-08-19T18:37:38.726060Z",
     "iopub.status.busy": "2025-08-19T18:37:38.725076Z",
     "iopub.status.idle": "2025-08-19T18:37:39.729834Z",
     "shell.execute_reply": "2025-08-19T18:37:39.728666Z"
    },
    "papermill": {
     "duration": 1.020357,
     "end_time": "2025-08-19T18:37:39.732738",
     "exception": false,
     "start_time": "2025-08-19T18:37:38.712381",
     "status": "completed"
    },
    "tags": []
   },
   "outputs": [],
   "source": [
    "from fairness_multiverse.conformal import predict_conformal_sets\n",
    "\n",
    "# Generate prediction sets for each test example\n",
    "pred_sets = predict_conformal_sets(model, X_test, q_hat)"
   ]
  },
  {
   "cell_type": "code",
   "execution_count": 44,
   "id": "97f67a6b",
   "metadata": {
    "execution": {
     "iopub.execute_input": "2025-08-19T18:37:39.776262Z",
     "iopub.status.busy": "2025-08-19T18:37:39.774581Z",
     "iopub.status.idle": "2025-08-19T18:37:39.789515Z",
     "shell.execute_reply": "2025-08-19T18:37:39.787361Z"
    },
    "papermill": {
     "duration": 0.034941,
     "end_time": "2025-08-19T18:37:39.793929",
     "exception": false,
     "start_time": "2025-08-19T18:37:39.758988",
     "status": "completed"
    },
    "tags": []
   },
   "outputs": [],
   "source": [
    "y_true = y_true.squeeze()"
   ]
  },
  {
   "cell_type": "code",
   "execution_count": 45,
   "id": "e700e9a7",
   "metadata": {
    "execution": {
     "iopub.execute_input": "2025-08-19T18:37:39.829271Z",
     "iopub.status.busy": "2025-08-19T18:37:39.828887Z",
     "iopub.status.idle": "2025-08-19T18:37:40.349432Z",
     "shell.execute_reply": "2025-08-19T18:37:40.348545Z"
    },
    "papermill": {
     "duration": 0.537865,
     "end_time": "2025-08-19T18:37:40.351367",
     "exception": false,
     "start_time": "2025-08-19T18:37:39.813502",
     "status": "completed"
    },
    "tags": []
   },
   "outputs": [],
   "source": [
    "from fairness_multiverse.conformal import evaluate_sets\n",
    "\n",
    "# Evaluate coverage and average set size on test data\n",
    "metrics = evaluate_sets(pred_sets, y_true)"
   ]
  },
  {
   "cell_type": "markdown",
   "id": "efbacec0",
   "metadata": {
    "papermill": {
     "duration": 0.024076,
     "end_time": "2025-08-19T18:37:40.396830",
     "exception": false,
     "start_time": "2025-08-19T18:37:40.372754",
     "status": "completed"
    },
    "tags": []
   },
   "source": [
    "# CP Metrics"
   ]
  },
  {
   "cell_type": "code",
   "execution_count": 46,
   "id": "9de55fb1",
   "metadata": {
    "execution": {
     "iopub.execute_input": "2025-08-19T18:37:40.423218Z",
     "iopub.status.busy": "2025-08-19T18:37:40.422783Z",
     "iopub.status.idle": "2025-08-19T18:37:40.429337Z",
     "shell.execute_reply": "2025-08-19T18:37:40.428683Z"
    },
    "papermill": {
     "duration": 0.020946,
     "end_time": "2025-08-19T18:37:40.430774",
     "exception": false,
     "start_time": "2025-08-19T18:37:40.409828",
     "status": "completed"
    },
    "tags": []
   },
   "outputs": [
    {
     "data": {
      "text/plain": [
       "{'coverage': 0.9094192397726006, 'avg_size': 1.122907145245792}"
      ]
     },
     "execution_count": 46,
     "metadata": {},
     "output_type": "execute_result"
    }
   ],
   "source": [
    "metrics"
   ]
  },
  {
   "cell_type": "code",
   "execution_count": 47,
   "id": "64c340a1",
   "metadata": {
    "execution": {
     "iopub.execute_input": "2025-08-19T18:37:40.459268Z",
     "iopub.status.busy": "2025-08-19T18:37:40.457950Z",
     "iopub.status.idle": "2025-08-19T18:37:40.465725Z",
     "shell.execute_reply": "2025-08-19T18:37:40.464605Z"
    },
    "papermill": {
     "duration": 0.022287,
     "end_time": "2025-08-19T18:37:40.467237",
     "exception": false,
     "start_time": "2025-08-19T18:37:40.444950",
     "status": "completed"
    },
    "tags": []
   },
   "outputs": [],
   "source": [
    "example_universe = universe.copy()\n",
    "universe_training_year = example_universe.get(\"training_year\")\n",
    "universe_training_size = example_universe.get(\"training_size\")\n",
    "universe_scale = example_universe.get(\"scale\")\n",
    "universe_model = example_universe.get(\"model\")\n",
    "universe_exclude_features = example_universe.get(\"exclude_features\")\n",
    "universe_exclude_subgroups = example_universe.get(\"exclude_subgroups\")"
   ]
  },
  {
   "cell_type": "code",
   "execution_count": 48,
   "id": "dbb53cb4",
   "metadata": {
    "execution": {
     "iopub.execute_input": "2025-08-19T18:37:40.495952Z",
     "iopub.status.busy": "2025-08-19T18:37:40.494836Z",
     "iopub.status.idle": "2025-08-19T18:37:40.505378Z",
     "shell.execute_reply": "2025-08-19T18:37:40.504098Z"
    },
    "papermill": {
     "duration": 0.025485,
     "end_time": "2025-08-19T18:37:40.506926",
     "exception": false,
     "start_time": "2025-08-19T18:37:40.481441",
     "status": "completed"
    },
    "tags": []
   },
   "outputs": [],
   "source": [
    "cp_metrics_dict = {\n",
    "    \"universe_id\": [universe_id],\n",
    "    \"universe_training_year\": [universe_training_year],\n",
    "    \"universe_training_size\": [universe_training_size],\n",
    "    \"universe_scale\": [universe_scale],\n",
    "    \"universe_model\": [universe_model],\n",
    "    \"universe_exclude_features\": [universe_exclude_features],\n",
    "    \"universe_exclude_subgroups\": [universe_exclude_subgroups],\n",
    "    \"q_hat\": [q_hat],\n",
    "    \"coverage\": [metrics[\"coverage\"]],\n",
    "    \"avg_size\": [metrics[\"avg_size\"]],\n",
    "}"
   ]
  },
  {
   "cell_type": "code",
   "execution_count": 49,
   "id": "0d70d4b2",
   "metadata": {
    "execution": {
     "iopub.execute_input": "2025-08-19T18:37:40.535402Z",
     "iopub.status.busy": "2025-08-19T18:37:40.534309Z",
     "iopub.status.idle": "2025-08-19T18:37:40.546236Z",
     "shell.execute_reply": "2025-08-19T18:37:40.545063Z"
    },
    "papermill": {
     "duration": 0.026528,
     "end_time": "2025-08-19T18:37:40.547708",
     "exception": false,
     "start_time": "2025-08-19T18:37:40.521180",
     "status": "completed"
    },
    "tags": []
   },
   "outputs": [],
   "source": [
    "cp_metrics_df = pd.DataFrame(cp_metrics_dict)"
   ]
  },
  {
   "cell_type": "code",
   "execution_count": 50,
   "id": "b494403c",
   "metadata": {
    "execution": {
     "iopub.execute_input": "2025-08-19T18:37:40.576630Z",
     "iopub.status.busy": "2025-08-19T18:37:40.575363Z",
     "iopub.status.idle": "2025-08-19T18:37:40.598777Z",
     "shell.execute_reply": "2025-08-19T18:37:40.597988Z"
    },
    "papermill": {
     "duration": 0.038337,
     "end_time": "2025-08-19T18:37:40.600519",
     "exception": false,
     "start_time": "2025-08-19T18:37:40.562182",
     "status": "completed"
    },
    "tags": []
   },
   "outputs": [
    {
     "data": {
      "text/html": [
       "<div>\n",
       "<style scoped>\n",
       "    .dataframe tbody tr th:only-of-type {\n",
       "        vertical-align: middle;\n",
       "    }\n",
       "\n",
       "    .dataframe tbody tr th {\n",
       "        vertical-align: top;\n",
       "    }\n",
       "\n",
       "    .dataframe thead th {\n",
       "        text-align: right;\n",
       "    }\n",
       "</style>\n",
       "<table border=\"1\" class=\"dataframe\">\n",
       "  <thead>\n",
       "    <tr style=\"text-align: right;\">\n",
       "      <th></th>\n",
       "      <th>universe_id</th>\n",
       "      <th>universe_training_year</th>\n",
       "      <th>universe_training_size</th>\n",
       "      <th>universe_scale</th>\n",
       "      <th>universe_model</th>\n",
       "      <th>universe_exclude_features</th>\n",
       "      <th>universe_exclude_subgroups</th>\n",
       "      <th>q_hat</th>\n",
       "      <th>coverage</th>\n",
       "      <th>avg_size</th>\n",
       "    </tr>\n",
       "  </thead>\n",
       "  <tbody>\n",
       "    <tr>\n",
       "      <th>0</th>\n",
       "      <td>b3b0ccf5685b024393bd89510206b9ca</td>\n",
       "      <td>2012_14</td>\n",
       "      <td>5k</td>\n",
       "      <td>do-not-scale</td>\n",
       "      <td>gbm</td>\n",
       "      <td>none</td>\n",
       "      <td>keep-all</td>\n",
       "      <td>0.691239</td>\n",
       "      <td>0.909419</td>\n",
       "      <td>1.122907</td>\n",
       "    </tr>\n",
       "  </tbody>\n",
       "</table>\n",
       "</div>"
      ],
      "text/plain": [
       "                        universe_id universe_training_year  \\\n",
       "0  b3b0ccf5685b024393bd89510206b9ca                2012_14   \n",
       "\n",
       "  universe_training_size universe_scale universe_model  \\\n",
       "0                     5k   do-not-scale            gbm   \n",
       "\n",
       "  universe_exclude_features universe_exclude_subgroups     q_hat  coverage  \\\n",
       "0                      none                   keep-all  0.691239  0.909419   \n",
       "\n",
       "   avg_size  \n",
       "0  1.122907  "
      ]
     },
     "execution_count": 50,
     "metadata": {},
     "output_type": "execute_result"
    }
   ],
   "source": [
    "cp_metrics_df"
   ]
  },
  {
   "cell_type": "markdown",
   "id": "ed608b0b",
   "metadata": {
    "papermill": {
     "duration": 0.012109,
     "end_time": "2025-08-19T18:37:40.633104",
     "exception": false,
     "start_time": "2025-08-19T18:37:40.620995",
     "status": "completed"
    },
    "tags": []
   },
   "source": [
    "Conditional coverage & looking at subgroups"
   ]
  },
  {
   "cell_type": "code",
   "execution_count": 51,
   "id": "8968c366",
   "metadata": {
    "execution": {
     "iopub.execute_input": "2025-08-19T18:37:40.659727Z",
     "iopub.status.busy": "2025-08-19T18:37:40.658557Z",
     "iopub.status.idle": "2025-08-19T18:37:40.945484Z",
     "shell.execute_reply": "2025-08-19T18:37:40.944764Z"
    },
    "papermill": {
     "duration": 0.302189,
     "end_time": "2025-08-19T18:37:40.947334",
     "exception": false,
     "start_time": "2025-08-19T18:37:40.645145",
     "status": "completed"
    },
    "tags": []
   },
   "outputs": [],
   "source": [
    "from fairness_multiverse.conformal import build_cp_groups\n",
    "\n",
    "cp_groups_df = build_cp_groups(pred_sets, y_true, X_test.index, org_test)"
   ]
  },
  {
   "cell_type": "code",
   "execution_count": 52,
   "id": "292ddabf",
   "metadata": {
    "execution": {
     "iopub.execute_input": "2025-08-19T18:37:41.019116Z",
     "iopub.status.busy": "2025-08-19T18:37:41.017883Z",
     "iopub.status.idle": "2025-08-19T18:37:41.911954Z",
     "shell.execute_reply": "2025-08-19T18:37:41.910754Z"
    },
    "papermill": {
     "duration": 0.945604,
     "end_time": "2025-08-19T18:37:41.915256",
     "exception": false,
     "start_time": "2025-08-19T18:37:40.969652",
     "status": "completed"
    },
    "tags": []
   },
   "outputs": [],
   "source": [
    "# Define covered = 1 if true_label is in the predicted set\n",
    "cp_groups_df['covered'] = cp_groups_df.apply(\n",
    "    lambda r: int(r['true_label'] in r['pred_set']),\n",
    "    axis=1\n",
    ")"
   ]
  },
  {
   "cell_type": "code",
   "execution_count": 53,
   "id": "3a261692",
   "metadata": {
    "execution": {
     "iopub.execute_input": "2025-08-19T18:37:41.960089Z",
     "iopub.status.busy": "2025-08-19T18:37:41.959370Z",
     "iopub.status.idle": "2025-08-19T18:37:41.973111Z",
     "shell.execute_reply": "2025-08-19T18:37:41.972356Z"
    },
    "papermill": {
     "duration": 0.029991,
     "end_time": "2025-08-19T18:37:41.974417",
     "exception": false,
     "start_time": "2025-08-19T18:37:41.944426",
     "status": "completed"
    },
    "tags": []
   },
   "outputs": [],
   "source": [
    "subgroups = ['frau1','nongerman','nongerman_male','nongerman_female']\n",
    "\n",
    "# Conditional coverage for subgroup==1\n",
    "cond_coverage = {\n",
    "    g: cp_groups_df.loc[cp_groups_df[g]==1, 'covered'].mean()\n",
    "    for g in subgroups\n",
    "}"
   ]
  },
  {
   "cell_type": "code",
   "execution_count": 54,
   "id": "894fd600",
   "metadata": {
    "execution": {
     "iopub.execute_input": "2025-08-19T18:37:42.008014Z",
     "iopub.status.busy": "2025-08-19T18:37:42.006964Z",
     "iopub.status.idle": "2025-08-19T18:37:42.017934Z",
     "shell.execute_reply": "2025-08-19T18:37:42.016672Z"
    },
    "papermill": {
     "duration": 0.028358,
     "end_time": "2025-08-19T18:37:42.019505",
     "exception": false,
     "start_time": "2025-08-19T18:37:41.991147",
     "status": "completed"
    },
    "tags": []
   },
   "outputs": [
    {
     "data": {
      "text/plain": [
       "{'frau1': 0.9050545895673271,\n",
       " 'nongerman': 0.9070903272890586,\n",
       " 'nongerman_male': 0.9243447716833288,\n",
       " 'nongerman_female': 0.8785394932935916}"
      ]
     },
     "execution_count": 54,
     "metadata": {},
     "output_type": "execute_result"
    }
   ],
   "source": [
    "cond_coverage"
   ]
  },
  {
   "cell_type": "code",
   "execution_count": 55,
   "id": "942895c7",
   "metadata": {
    "execution": {
     "iopub.execute_input": "2025-08-19T18:37:42.054274Z",
     "iopub.status.busy": "2025-08-19T18:37:42.053659Z",
     "iopub.status.idle": "2025-08-19T18:37:42.063216Z",
     "shell.execute_reply": "2025-08-19T18:37:42.062185Z"
    },
    "papermill": {
     "duration": 0.026632,
     "end_time": "2025-08-19T18:37:42.065015",
     "exception": false,
     "start_time": "2025-08-19T18:37:42.038383",
     "status": "completed"
    },
    "tags": []
   },
   "outputs": [],
   "source": [
    "for subgroup, cov in cond_coverage.items():\n",
    "    cp_metrics_df[f\"cov_{subgroup}\"] = cov"
   ]
  },
  {
   "cell_type": "code",
   "execution_count": 56,
   "id": "3970120f",
   "metadata": {
    "execution": {
     "iopub.execute_input": "2025-08-19T18:37:42.118479Z",
     "iopub.status.busy": "2025-08-19T18:37:42.118049Z",
     "iopub.status.idle": "2025-08-19T18:37:42.137685Z",
     "shell.execute_reply": "2025-08-19T18:37:42.136163Z"
    },
    "papermill": {
     "duration": 0.060278,
     "end_time": "2025-08-19T18:37:42.140272",
     "exception": false,
     "start_time": "2025-08-19T18:37:42.079994",
     "status": "completed"
    },
    "tags": []
   },
   "outputs": [
    {
     "data": {
      "text/html": [
       "<div>\n",
       "<style scoped>\n",
       "    .dataframe tbody tr th:only-of-type {\n",
       "        vertical-align: middle;\n",
       "    }\n",
       "\n",
       "    .dataframe tbody tr th {\n",
       "        vertical-align: top;\n",
       "    }\n",
       "\n",
       "    .dataframe thead th {\n",
       "        text-align: right;\n",
       "    }\n",
       "</style>\n",
       "<table border=\"1\" class=\"dataframe\">\n",
       "  <thead>\n",
       "    <tr style=\"text-align: right;\">\n",
       "      <th></th>\n",
       "      <th>universe_id</th>\n",
       "      <th>universe_training_year</th>\n",
       "      <th>universe_training_size</th>\n",
       "      <th>universe_scale</th>\n",
       "      <th>universe_model</th>\n",
       "      <th>universe_exclude_features</th>\n",
       "      <th>universe_exclude_subgroups</th>\n",
       "      <th>q_hat</th>\n",
       "      <th>coverage</th>\n",
       "      <th>avg_size</th>\n",
       "      <th>cov_frau1</th>\n",
       "      <th>cov_nongerman</th>\n",
       "      <th>cov_nongerman_male</th>\n",
       "      <th>cov_nongerman_female</th>\n",
       "    </tr>\n",
       "  </thead>\n",
       "  <tbody>\n",
       "    <tr>\n",
       "      <th>0</th>\n",
       "      <td>b3b0ccf5685b024393bd89510206b9ca</td>\n",
       "      <td>2012_14</td>\n",
       "      <td>5k</td>\n",
       "      <td>do-not-scale</td>\n",
       "      <td>gbm</td>\n",
       "      <td>none</td>\n",
       "      <td>keep-all</td>\n",
       "      <td>0.691239</td>\n",
       "      <td>0.909419</td>\n",
       "      <td>1.122907</td>\n",
       "      <td>0.905055</td>\n",
       "      <td>0.90709</td>\n",
       "      <td>0.924345</td>\n",
       "      <td>0.878539</td>\n",
       "    </tr>\n",
       "  </tbody>\n",
       "</table>\n",
       "</div>"
      ],
      "text/plain": [
       "                        universe_id universe_training_year  \\\n",
       "0  b3b0ccf5685b024393bd89510206b9ca                2012_14   \n",
       "\n",
       "  universe_training_size universe_scale universe_model  \\\n",
       "0                     5k   do-not-scale            gbm   \n",
       "\n",
       "  universe_exclude_features universe_exclude_subgroups     q_hat  coverage  \\\n",
       "0                      none                   keep-all  0.691239  0.909419   \n",
       "\n",
       "   avg_size  cov_frau1  cov_nongerman  cov_nongerman_male  \\\n",
       "0  1.122907   0.905055        0.90709            0.924345   \n",
       "\n",
       "   cov_nongerman_female  \n",
       "0              0.878539  "
      ]
     },
     "execution_count": 56,
     "metadata": {},
     "output_type": "execute_result"
    }
   ],
   "source": [
    "cp_metrics_df"
   ]
  },
  {
   "cell_type": "markdown",
   "id": "3fc519cc",
   "metadata": {
    "papermill": {
     "duration": 0.02288,
     "end_time": "2025-08-19T18:37:42.202978",
     "exception": false,
     "start_time": "2025-08-19T18:37:42.180098",
     "status": "completed"
    },
    "tags": []
   },
   "source": [
    "# (Fairness) Metrics"
   ]
  },
  {
   "cell_type": "code",
   "execution_count": 57,
   "id": "a2e5e155",
   "metadata": {
    "execution": {
     "iopub.execute_input": "2025-08-19T18:37:42.244337Z",
     "iopub.status.busy": "2025-08-19T18:37:42.243068Z",
     "iopub.status.idle": "2025-08-19T18:37:42.269583Z",
     "shell.execute_reply": "2025-08-19T18:37:42.268748Z"
    },
    "papermill": {
     "duration": 0.043515,
     "end_time": "2025-08-19T18:37:42.271388",
     "exception": false,
     "start_time": "2025-08-19T18:37:42.227873",
     "status": "completed"
    },
    "tags": []
   },
   "outputs": [],
   "source": [
    "colname_to_bin = \"maxdeutsch1\"\n",
    "majority_value = org_train[colname_to_bin].mode()[0]\n",
    "\n",
    "org_test[\"majmin\"] = np.where(org_test[colname_to_bin] == majority_value, \"majority\", \"minority\")"
   ]
  },
  {
   "cell_type": "code",
   "execution_count": 58,
   "id": "17e3e4d5",
   "metadata": {
    "execution": {
     "iopub.execute_input": "2025-08-19T18:37:42.312366Z",
     "iopub.status.busy": "2025-08-19T18:37:42.311321Z",
     "iopub.status.idle": "2025-08-19T18:37:44.039758Z",
     "shell.execute_reply": "2025-08-19T18:37:44.038467Z"
    },
    "papermill": {
     "duration": 1.76172,
     "end_time": "2025-08-19T18:37:44.057846",
     "exception": false,
     "start_time": "2025-08-19T18:37:42.296126",
     "status": "completed"
    },
    "tags": []
   },
   "outputs": [],
   "source": [
    "example_universe = universe.copy()\n",
    "example_universe[\"cutoff\"] = example_universe[\"cutoff\"][0]\n",
    "example_universe[\"eval_fairness_grouping\"] = example_universe[\"eval_fairness_grouping\"][0]\n",
    "fairness_dict, metric_frame = universe_analysis.compute_metrics(\n",
    "    example_universe,\n",
    "    y_pred_prob=probs_test,\n",
    "    y_test=y_true,\n",
    "    org_test=org_test,\n",
    ")"
   ]
  },
  {
   "cell_type": "markdown",
   "id": "1fb7a0e9",
   "metadata": {
    "papermill": {
     "duration": 0.013211,
     "end_time": "2025-08-19T18:37:44.111629",
     "exception": false,
     "start_time": "2025-08-19T18:37:44.098418",
     "status": "completed"
    },
    "tags": []
   },
   "source": [
    "# Overall"
   ]
  },
  {
   "cell_type": "markdown",
   "id": "be1784b1",
   "metadata": {
    "papermill": {
     "duration": 0.029568,
     "end_time": "2025-08-19T18:37:44.156834",
     "exception": false,
     "start_time": "2025-08-19T18:37:44.127266",
     "status": "completed"
    },
    "tags": []
   },
   "source": [
    "Main fairness target: Equalized Odds. Seems to be a better fit than equal opportunity, since we're not only interested in Y = 1. Seems to be a better fit than demographic parity, since we also care about accuracy, not just equal distribution of preds.\n",
    "\n",
    "Pick column for computation of fairness metrics\n",
    "\n",
    "Performance\n",
    "Overall performance measures, most interesting in relation to the measures split by group below"
   ]
  },
  {
   "cell_type": "code",
   "execution_count": 59,
   "id": "b7672bee",
   "metadata": {
    "execution": {
     "iopub.execute_input": "2025-08-19T18:37:44.186151Z",
     "iopub.status.busy": "2025-08-19T18:37:44.185622Z",
     "iopub.status.idle": "2025-08-19T18:37:44.193944Z",
     "shell.execute_reply": "2025-08-19T18:37:44.193246Z"
    },
    "papermill": {
     "duration": 0.026614,
     "end_time": "2025-08-19T18:37:44.198951",
     "exception": false,
     "start_time": "2025-08-19T18:37:44.172337",
     "status": "completed"
    },
    "tags": []
   },
   "outputs": [
    {
     "data": {
      "text/plain": [
       "accuracy                   0.224624\n",
       "balanced accuracy          0.549184\n",
       "f1                         0.245948\n",
       "precision                  0.140502\n",
       "false positive rate        0.887381\n",
       "false negative rate        0.014251\n",
       "selection rate             0.900000\n",
       "count                  89710.000000\n",
       "dtype: float64"
      ]
     },
     "execution_count": 59,
     "metadata": {},
     "output_type": "execute_result"
    }
   ],
   "source": [
    "metric_frame.overall"
   ]
  },
  {
   "cell_type": "markdown",
   "id": "d93333c9",
   "metadata": {
    "papermill": {
     "duration": 0.014016,
     "end_time": "2025-08-19T18:37:44.230559",
     "exception": false,
     "start_time": "2025-08-19T18:37:44.216543",
     "status": "completed"
    },
    "tags": []
   },
   "source": [
    "By Group"
   ]
  },
  {
   "cell_type": "code",
   "execution_count": 60,
   "id": "52256966",
   "metadata": {
    "execution": {
     "iopub.execute_input": "2025-08-19T18:37:44.256677Z",
     "iopub.status.busy": "2025-08-19T18:37:44.256205Z",
     "iopub.status.idle": "2025-08-19T18:37:44.268902Z",
     "shell.execute_reply": "2025-08-19T18:37:44.267915Z"
    },
    "papermill": {
     "duration": 0.031997,
     "end_time": "2025-08-19T18:37:44.274643",
     "exception": false,
     "start_time": "2025-08-19T18:37:44.242646",
     "status": "completed"
    },
    "tags": []
   },
   "outputs": [
    {
     "data": {
      "text/html": [
       "<div>\n",
       "<style scoped>\n",
       "    .dataframe tbody tr th:only-of-type {\n",
       "        vertical-align: middle;\n",
       "    }\n",
       "\n",
       "    .dataframe tbody tr th {\n",
       "        vertical-align: top;\n",
       "    }\n",
       "\n",
       "    .dataframe thead th {\n",
       "        text-align: right;\n",
       "    }\n",
       "</style>\n",
       "<table border=\"1\" class=\"dataframe\">\n",
       "  <thead>\n",
       "    <tr style=\"text-align: right;\">\n",
       "      <th></th>\n",
       "      <th>accuracy</th>\n",
       "      <th>balanced accuracy</th>\n",
       "      <th>f1</th>\n",
       "      <th>precision</th>\n",
       "      <th>false positive rate</th>\n",
       "      <th>false negative rate</th>\n",
       "      <th>selection rate</th>\n",
       "      <th>count</th>\n",
       "    </tr>\n",
       "    <tr>\n",
       "      <th>majmin</th>\n",
       "      <th></th>\n",
       "      <th></th>\n",
       "      <th></th>\n",
       "      <th></th>\n",
       "      <th></th>\n",
       "      <th></th>\n",
       "      <th></th>\n",
       "      <th></th>\n",
       "    </tr>\n",
       "  </thead>\n",
       "  <tbody>\n",
       "    <tr>\n",
       "      <th>majority</th>\n",
       "      <td>0.245294</td>\n",
       "      <td>0.558329</td>\n",
       "      <td>0.256230</td>\n",
       "      <td>0.147296</td>\n",
       "      <td>0.867150</td>\n",
       "      <td>0.016193</td>\n",
       "      <td>0.882565</td>\n",
       "      <td>69170.0</td>\n",
       "    </tr>\n",
       "    <tr>\n",
       "      <th>minority</th>\n",
       "      <td>0.155015</td>\n",
       "      <td>0.519514</td>\n",
       "      <td>0.213237</td>\n",
       "      <td>0.119439</td>\n",
       "      <td>0.954215</td>\n",
       "      <td>0.006757</td>\n",
       "      <td>0.958715</td>\n",
       "      <td>20540.0</td>\n",
       "    </tr>\n",
       "  </tbody>\n",
       "</table>\n",
       "</div>"
      ],
      "text/plain": [
       "          accuracy  balanced accuracy        f1  precision  \\\n",
       "majmin                                                       \n",
       "majority  0.245294           0.558329  0.256230   0.147296   \n",
       "minority  0.155015           0.519514  0.213237   0.119439   \n",
       "\n",
       "          false positive rate  false negative rate  selection rate    count  \n",
       "majmin                                                                       \n",
       "majority             0.867150             0.016193        0.882565  69170.0  \n",
       "minority             0.954215             0.006757        0.958715  20540.0  "
      ]
     },
     "execution_count": 60,
     "metadata": {},
     "output_type": "execute_result"
    }
   ],
   "source": [
    "metric_frame.by_group"
   ]
  },
  {
   "cell_type": "code",
   "execution_count": 61,
   "id": "6e6c20ae",
   "metadata": {
    "execution": {
     "iopub.execute_input": "2025-08-19T18:37:44.313414Z",
     "iopub.status.busy": "2025-08-19T18:37:44.312849Z",
     "iopub.status.idle": "2025-08-19T18:37:46.175431Z",
     "shell.execute_reply": "2025-08-19T18:37:46.174489Z"
    },
    "papermill": {
     "duration": 1.888603,
     "end_time": "2025-08-19T18:37:46.176795",
     "exception": false,
     "start_time": "2025-08-19T18:37:44.288192",
     "status": "completed"
    },
    "tags": []
   },
   "outputs": [
    {
     "data": {
      "text/plain": [
       "array([[<Axes: title={'center': 'accuracy'}, xlabel='majmin'>,\n",
       "        <Axes: title={'center': 'balanced accuracy'}, xlabel='majmin'>,\n",
       "        <Axes: title={'center': 'f1'}, xlabel='majmin'>],\n",
       "       [<Axes: title={'center': 'precision'}, xlabel='majmin'>,\n",
       "        <Axes: title={'center': 'false positive rate'}, xlabel='majmin'>,\n",
       "        <Axes: title={'center': 'false negative rate'}, xlabel='majmin'>],\n",
       "       [<Axes: title={'center': 'selection rate'}, xlabel='majmin'>,\n",
       "        <Axes: title={'center': 'count'}, xlabel='majmin'>,\n",
       "        <Axes: xlabel='majmin'>]], dtype=object)"
      ]
     },
     "execution_count": 61,
     "metadata": {},
     "output_type": "execute_result"
    },
    {
     "data": {
      "image/png": "[encoded data removed]",
      "text/plain": [
       "<Figure size 1200x800 with 9 Axes>"
      ]
     },
     "metadata": {},
     "output_type": "display_data"
    }
   ],
   "source": [
    "# In a graphic\n",
    "metric_frame.by_group.plot.bar(\n",
    "    subplots=True,\n",
    "    layout=[3, 3],\n",
    "    legend=False,\n",
    "    figsize=[12, 8],\n",
    "    title=\"Show all metrics\",\n",
    ")"
   ]
  },
  {
   "cell_type": "markdown",
   "id": "b2e433ae",
   "metadata": {
    "papermill": {
     "duration": 0.013559,
     "end_time": "2025-08-19T18:37:46.205596",
     "exception": false,
     "start_time": "2025-08-19T18:37:46.192037",
     "status": "completed"
    },
    "tags": []
   },
   "source": [
    "# Final Output"
   ]
  },
  {
   "cell_type": "code",
   "execution_count": 62,
   "id": "3871301e",
   "metadata": {
    "execution": {
     "iopub.execute_input": "2025-08-19T18:37:46.238005Z",
     "iopub.status.busy": "2025-08-19T18:37:46.237327Z",
     "iopub.status.idle": "2025-08-19T18:37:46.246542Z",
     "shell.execute_reply": "2025-08-19T18:37:46.245845Z"
    },
    "papermill": {
     "duration": 0.026024,
     "end_time": "2025-08-19T18:37:46.247921",
     "exception": false,
     "start_time": "2025-08-19T18:37:46.221897",
     "status": "completed"
    },
    "tags": []
   },
   "outputs": [
    {
     "data": {
      "text/plain": [
       "4"
      ]
     },
     "execution_count": 62,
     "metadata": {},
     "output_type": "execute_result"
    }
   ],
   "source": [
    "sub_universes = universe_analysis.generate_sub_universes()\n",
    "len(sub_universes)"
   ]
  },
  {
   "cell_type": "code",
   "execution_count": 63,
   "id": "d9cfdaca",
   "metadata": {
    "execution": {
     "iopub.execute_input": "2025-08-19T18:37:46.277073Z",
     "iopub.status.busy": "2025-08-19T18:37:46.276607Z",
     "iopub.status.idle": "2025-08-19T18:37:46.284132Z",
     "shell.execute_reply": "2025-08-19T18:37:46.283455Z"
    },
    "papermill": {
     "duration": 0.023634,
     "end_time": "2025-08-19T18:37:46.285461",
     "exception": false,
     "start_time": "2025-08-19T18:37:46.261827",
     "status": "completed"
    },
    "tags": []
   },
   "outputs": [],
   "source": [
    "def filter_sub_universe_data(sub_universe, org_test):\n",
    "    # Keep all rows — no filtering\n",
    "    keep_rows_mask = np.ones(org_test.shape[0], dtype=bool)\n",
    "\n",
    "    print(f\"[INFO] Keeping all rows: {keep_rows_mask.sum()} rows retained.\")\n",
    "    return keep_rows_mask"
   ]
  },
  {
   "cell_type": "code",
   "execution_count": 64,
   "id": "2bc31ac1",
   "metadata": {
    "execution": {
     "iopub.execute_input": "2025-08-19T18:37:46.316425Z",
     "iopub.status.busy": "2025-08-19T18:37:46.316064Z",
     "iopub.status.idle": "2025-08-19T18:37:54.174604Z",
     "shell.execute_reply": "2025-08-19T18:37:54.173595Z"
    },
    "papermill": {
     "duration": 7.876333,
     "end_time": "2025-08-19T18:37:54.175824",
     "exception": false,
     "start_time": "2025-08-19T18:37:46.299491",
     "status": "completed"
    },
    "tags": []
   },
   "outputs": [
    {
     "name": "stdout",
     "output_type": "stream",
     "text": [
      "Stopping execution_time clock.\n",
      "[INFO] Keeping all rows: 89710 rows retained.\n"
     ]
    },
    {
     "name": "stdout",
     "output_type": "stream",
     "text": [
      "[INFO] Keeping all rows: 89710 rows retained.\n"
     ]
    },
    {
     "name": "stdout",
     "output_type": "stream",
     "text": [
      "[INFO] Keeping all rows: 89710 rows retained.\n"
     ]
    },
    {
     "name": "stdout",
     "output_type": "stream",
     "text": [
      "[INFO] Keeping all rows: 89710 rows retained.\n"
     ]
    },
    {
     "data": {
      "text/html": [
       "<div>\n",
       "<style scoped>\n",
       "    .dataframe tbody tr th:only-of-type {\n",
       "        vertical-align: middle;\n",
       "    }\n",
       "\n",
       "    .dataframe tbody tr th {\n",
       "        vertical-align: top;\n",
       "    }\n",
       "\n",
       "    .dataframe thead th {\n",
       "        text-align: right;\n",
       "    }\n",
       "</style>\n",
       "<table border=\"1\" class=\"dataframe\">\n",
       "  <thead>\n",
       "    <tr style=\"text-align: right;\">\n",
       "      <th></th>\n",
       "      <th>run_no</th>\n",
       "      <th>universe_id</th>\n",
       "      <th>universe_settings</th>\n",
       "      <th>execution_time</th>\n",
       "      <th>test_size_n</th>\n",
       "      <th>test_size_frac</th>\n",
       "      <th>fair_main_equalized_odds_difference</th>\n",
       "      <th>fair_main_equalized_odds_ratio</th>\n",
       "      <th>fair_main_demographic_parity_difference</th>\n",
       "      <th>fair_main_demographic_parity_ratio</th>\n",
       "      <th>...</th>\n",
       "      <th>perf_grp_precision_0</th>\n",
       "      <th>perf_grp_precision_1</th>\n",
       "      <th>perf_grp_false positive rate_0</th>\n",
       "      <th>perf_grp_false positive rate_1</th>\n",
       "      <th>perf_grp_false negative rate_0</th>\n",
       "      <th>perf_grp_false negative rate_1</th>\n",
       "      <th>perf_grp_selection rate_0</th>\n",
       "      <th>perf_grp_selection rate_1</th>\n",
       "      <th>perf_grp_count_0</th>\n",
       "      <th>perf_grp_count_1</th>\n",
       "    </tr>\n",
       "  </thead>\n",
       "  <tbody>\n",
       "    <tr>\n",
       "      <th>0</th>\n",
       "      <td>3</td>\n",
       "      <td>b3b0ccf5685b024393bd89510206b9ca</td>\n",
       "      <td>{\"cutoff\": \"quantile_0.1\", \"eval_fairness_grou...</td>\n",
       "      <td>26.889361</td>\n",
       "      <td>89710</td>\n",
       "      <td>1.0</td>\n",
       "      <td>0.087066</td>\n",
       "      <td>0.908757</td>\n",
       "      <td>0.076150</td>\n",
       "      <td>0.920571</td>\n",
       "      <td>...</td>\n",
       "      <td>NaN</td>\n",
       "      <td>NaN</td>\n",
       "      <td>NaN</td>\n",
       "      <td>NaN</td>\n",
       "      <td>NaN</td>\n",
       "      <td>NaN</td>\n",
       "      <td>NaN</td>\n",
       "      <td>NaN</td>\n",
       "      <td>NaN</td>\n",
       "      <td>NaN</td>\n",
       "    </tr>\n",
       "    <tr>\n",
       "      <th>0</th>\n",
       "      <td>3</td>\n",
       "      <td>b3b0ccf5685b024393bd89510206b9ca</td>\n",
       "      <td>{\"cutoff\": \"quantile_0.1\", \"eval_fairness_grou...</td>\n",
       "      <td>26.889361</td>\n",
       "      <td>89710</td>\n",
       "      <td>1.0</td>\n",
       "      <td>0.087066</td>\n",
       "      <td>0.908757</td>\n",
       "      <td>0.076150</td>\n",
       "      <td>0.920571</td>\n",
       "      <td>...</td>\n",
       "      <td>0.119439</td>\n",
       "      <td>0.147296</td>\n",
       "      <td>0.954215</td>\n",
       "      <td>0.867150</td>\n",
       "      <td>0.006757</td>\n",
       "      <td>0.016193</td>\n",
       "      <td>0.958715</td>\n",
       "      <td>0.882565</td>\n",
       "      <td>20540.0</td>\n",
       "      <td>69170.0</td>\n",
       "    </tr>\n",
       "    <tr>\n",
       "      <th>0</th>\n",
       "      <td>3</td>\n",
       "      <td>b3b0ccf5685b024393bd89510206b9ca</td>\n",
       "      <td>{\"cutoff\": \"quantile_0.25\", \"eval_fairness_gro...</td>\n",
       "      <td>26.889361</td>\n",
       "      <td>89710</td>\n",
       "      <td>1.0</td>\n",
       "      <td>0.104405</td>\n",
       "      <td>0.869766</td>\n",
       "      <td>0.086955</td>\n",
       "      <td>0.893574</td>\n",
       "      <td>...</td>\n",
       "      <td>NaN</td>\n",
       "      <td>NaN</td>\n",
       "      <td>NaN</td>\n",
       "      <td>NaN</td>\n",
       "      <td>NaN</td>\n",
       "      <td>NaN</td>\n",
       "      <td>NaN</td>\n",
       "      <td>NaN</td>\n",
       "      <td>NaN</td>\n",
       "      <td>NaN</td>\n",
       "    </tr>\n",
       "    <tr>\n",
       "      <th>0</th>\n",
       "      <td>3</td>\n",
       "      <td>b3b0ccf5685b024393bd89510206b9ca</td>\n",
       "      <td>{\"cutoff\": \"quantile_0.25\", \"eval_fairness_gro...</td>\n",
       "      <td>26.889361</td>\n",
       "      <td>89710</td>\n",
       "      <td>1.0</td>\n",
       "      <td>0.104405</td>\n",
       "      <td>0.869766</td>\n",
       "      <td>0.086955</td>\n",
       "      <td>0.893574</td>\n",
       "      <td>...</td>\n",
       "      <td>0.131927</td>\n",
       "      <td>0.171149</td>\n",
       "      <td>0.801673</td>\n",
       "      <td>0.697268</td>\n",
       "      <td>0.065034</td>\n",
       "      <td>0.054376</td>\n",
       "      <td>0.817040</td>\n",
       "      <td>0.730085</td>\n",
       "      <td>20540.0</td>\n",
       "      <td>69170.0</td>\n",
       "    </tr>\n",
       "  </tbody>\n",
       "</table>\n",
       "<p>4 rows × 50 columns</p>\n",
       "</div>"
      ],
      "text/plain": [
       "  run_no                       universe_id  \\\n",
       "0      3  b3b0ccf5685b024393bd89510206b9ca   \n",
       "0      3  b3b0ccf5685b024393bd89510206b9ca   \n",
       "0      3  b3b0ccf5685b024393bd89510206b9ca   \n",
       "0      3  b3b0ccf5685b024393bd89510206b9ca   \n",
       "\n",
       "                                   universe_settings  execution_time  \\\n",
       "0  {\"cutoff\": \"quantile_0.1\", \"eval_fairness_grou...       26.889361   \n",
       "0  {\"cutoff\": \"quantile_0.1\", \"eval_fairness_grou...       26.889361   \n",
       "0  {\"cutoff\": \"quantile_0.25\", \"eval_fairness_gro...       26.889361   \n",
       "0  {\"cutoff\": \"quantile_0.25\", \"eval_fairness_gro...       26.889361   \n",
       "\n",
       "   test_size_n  test_size_frac  fair_main_equalized_odds_difference  \\\n",
       "0        89710             1.0                             0.087066   \n",
       "0        89710             1.0                             0.087066   \n",
       "0        89710             1.0                             0.104405   \n",
       "0        89710             1.0                             0.104405   \n",
       "\n",
       "   fair_main_equalized_odds_ratio  fair_main_demographic_parity_difference  \\\n",
       "0                        0.908757                                 0.076150   \n",
       "0                        0.908757                                 0.076150   \n",
       "0                        0.869766                                 0.086955   \n",
       "0                        0.869766                                 0.086955   \n",
       "\n",
       "   fair_main_demographic_parity_ratio  ...  perf_grp_precision_0  \\\n",
       "0                            0.920571  ...                   NaN   \n",
       "0                            0.920571  ...              0.119439   \n",
       "0                            0.893574  ...                   NaN   \n",
       "0                            0.893574  ...              0.131927   \n",
       "\n",
       "   perf_grp_precision_1  perf_grp_false positive rate_0  \\\n",
       "0                   NaN                             NaN   \n",
       "0              0.147296                        0.954215   \n",
       "0                   NaN                             NaN   \n",
       "0              0.171149                        0.801673   \n",
       "\n",
       "   perf_grp_false positive rate_1  perf_grp_false negative rate_0  \\\n",
       "0                             NaN                             NaN   \n",
       "0                        0.867150                        0.006757   \n",
       "0                             NaN                             NaN   \n",
       "0                        0.697268                        0.065034   \n",
       "\n",
       "   perf_grp_false negative rate_1  perf_grp_selection rate_0  \\\n",
       "0                             NaN                        NaN   \n",
       "0                        0.016193                   0.958715   \n",
       "0                             NaN                        NaN   \n",
       "0                        0.054376                   0.817040   \n",
       "\n",
       "   perf_grp_selection rate_1  perf_grp_count_0  perf_grp_count_1  \n",
       "0                        NaN               NaN               NaN  \n",
       "0                   0.882565           20540.0           69170.0  \n",
       "0                        NaN               NaN               NaN  \n",
       "0                   0.730085           20540.0           69170.0  \n",
       "\n",
       "[4 rows x 50 columns]"
      ]
     },
     "execution_count": 64,
     "metadata": {},
     "output_type": "execute_result"
    }
   ],
   "source": [
    "final_output = universe_analysis.generate_final_output(\n",
    "    y_pred_prob=probs_test,\n",
    "    y_test=y_true,\n",
    "    org_test=org_test,\n",
    "    filter_data=filter_sub_universe_data,\n",
    "    cp_metrics_df=cp_metrics_df,\n",
    "    save=True,\n",
    ")\n",
    "final_output"
   ]
  },
  {
   "cell_type": "code",
   "execution_count": null,
   "id": "8b80a1ff",
   "metadata": {
    "papermill": {
     "duration": 0.032584,
     "end_time": "2025-08-19T18:37:54.251341",
     "exception": false,
     "start_time": "2025-08-19T18:37:54.218757",
     "status": "completed"
    },
    "tags": []
   },
   "outputs": [],
   "source": []
  },
  {
   "cell_type": "code",
   "execution_count": null,
   "id": "275c9fad",
   "metadata": {
    "papermill": {
     "duration": 0.014313,
     "end_time": "2025-08-19T18:37:54.281541",
     "exception": false,
     "start_time": "2025-08-19T18:37:54.267228",
     "status": "completed"
    },
    "tags": []
   },
   "outputs": [],
   "source": []
  }
 ],
 "metadata": {
  "celltoolbar": "Tags",
  "kernelspec": {
   "display_name": "Python (CMA Fairness)",
   "language": "python",
   "name": "cma_fair_env"
  },
  "language_info": {
   "codemirror_mode": {
    "name": "ipython",
    "version": 3
   },
   "file_extension": ".py",
   "mimetype": "text/x-python",
   "name": "python",
   "nbconvert_exporter": "python",
   "pygments_lexer": "ipython3",
   "version": "3.10.12"
  },
  "papermill": {
   "default_parameters": {},
   "duration": 38.750911,
   "end_time": "2025-08-19T18:37:55.543997",
   "environment_variables": {},
   "exception": null,
   "input_path": "universe_analysis.ipynb",
   "output_path": "output/runs/3/notebooks/m_3-b3b0ccf5685b024393bd89510206b9ca.ipynb",
   "parameters": {
    "output_dir": "output",
    "run_no": "3",
    "seed": "2023",
    "universe": "{\"cutoff\": [\"quantile_0.1\", \"quantile_0.25\"], \"eval_fairness_grouping\": [\"majority-minority\", \"nationality-all\"], \"exclude_features\": \"none\", \"exclude_subgroups\": \"keep-all\", \"model\": \"gbm\", \"scale\": \"do-not-scale\", \"training_size\": \"5k\", \"training_year\": \"2012_14\"}",
    "universe_id": "b3b0ccf5685b024393bd89510206b9ca"
   },
   "start_time": "2025-08-19T18:37:16.793086",
   "version": "2.6.0"
  }
 },
 "nbformat": 4,
 "nbformat_minor": 5
}