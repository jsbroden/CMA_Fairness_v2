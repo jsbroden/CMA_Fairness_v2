{
 "cells": [
  {
   "cell_type": "markdown",
   "id": "ef23dbb3",
   "metadata": {
    "papermill": {
     "duration": 0.009231,
     "end_time": "2025-08-19T18:54:04.188171",
     "exception": false,
     "start_time": "2025-08-19T18:54:04.178940",
     "status": "completed"
    },
    "tags": []
   },
   "source": [
    "# Setup"
   ]
  },
  {
   "cell_type": "code",
   "execution_count": 1,
   "id": "0bc8e7dc",
   "metadata": {
    "execution": {
     "iopub.execute_input": "2025-08-19T18:54:04.212731Z",
     "iopub.status.busy": "2025-08-19T18:54:04.209135Z",
     "iopub.status.idle": "2025-08-19T18:54:04.232027Z",
     "shell.execute_reply": "2025-08-19T18:54:04.228187Z"
    },
    "papermill": {
     "duration": 0.036603,
     "end_time": "2025-08-19T18:54:04.233584",
     "exception": false,
     "start_time": "2025-08-19T18:54:04.196981",
     "status": "completed"
    },
    "tags": []
   },
   "outputs": [
    {
     "name": "stdout",
     "output_type": "stream",
     "text": [
      "/dss/dsshome1/0C/ra93lal2/cma/CMA_Fairness_v2\n"
     ]
    },
    {
     "name": "stderr",
     "output_type": "stream",
     "text": [
      "/dss/dsshome1/0C/ra93lal2/.local/share/virtualenvs/CMA_Fairness_v2-3j10GkSs/lib/python3.10/site-packages/IPython/core/magics/osm.py:393: UserWarning: This is now an optional IPython functionality, using bookmarks requires you to install the `pickleshare` library.\n",
      "  bkms = self.shell.db.get('bookmarks', {})\n",
      "/dss/dsshome1/0C/ra93lal2/.local/share/virtualenvs/CMA_Fairness_v2-3j10GkSs/lib/python3.10/site-packages/IPython/core/magics/osm.py:417: UserWarning: This is now an optional IPython functionality, setting dhist requires you to install the `pickleshare` library.\n",
      "  self.shell.db['dhist'] = compress_dhist(dhist)[-100:]\n"
     ]
    }
   ],
   "source": [
    "%cd ~/cma/CMA_Fairness_v2"
   ]
  },
  {
   "cell_type": "markdown",
   "id": "9d235661",
   "metadata": {
    "papermill": {
     "duration": 0.00876,
     "end_time": "2025-08-19T18:54:04.253691",
     "exception": false,
     "start_time": "2025-08-19T18:54:04.244931",
     "status": "completed"
    },
    "tags": []
   },
   "source": [
    "The following cell holds the definition of our parameters, these values can be overriden by rendering the with e.g. the following command:\n",
    "\n",
    "papermill -p alpha 0.2 -p ratio 0.3 universe_analysis.ipynb output/test_run.ipynb"
   ]
  },
  {
   "cell_type": "code",
   "execution_count": 2,
   "id": "4a789d8e",
   "metadata": {
    "execution": {
     "iopub.execute_input": "2025-08-19T18:54:04.272946Z",
     "iopub.status.busy": "2025-08-19T18:54:04.272409Z",
     "iopub.status.idle": "2025-08-19T18:54:04.277465Z",
     "shell.execute_reply": "2025-08-19T18:54:04.276521Z"
    },
    "papermill": {
     "duration": 0.016445,
     "end_time": "2025-08-19T18:54:04.278992",
     "exception": false,
     "start_time": "2025-08-19T18:54:04.262547",
     "status": "completed"
    },
    "tags": []
   },
   "outputs": [
    {
     "name": "stdout",
     "output_type": "stream",
     "text": [
      "Current working directory: /dss/dsshome1/0C/ra93lal2/cma/CMA_Fairness_v2\n"
     ]
    }
   ],
   "source": [
    "import os\n",
    "print(\"Current working directory:\", os.getcwd())"
   ]
  },
  {
   "cell_type": "code",
   "execution_count": 3,
   "id": "4132aaed",
   "metadata": {
    "execution": {
     "iopub.execute_input": "2025-08-19T18:54:04.298603Z",
     "iopub.status.busy": "2025-08-19T18:54:04.298174Z",
     "iopub.status.idle": "2025-08-19T18:54:04.303121Z",
     "shell.execute_reply": "2025-08-19T18:54:04.302314Z"
    },
    "papermill": {
     "duration": 0.016416,
     "end_time": "2025-08-19T18:54:04.304701",
     "exception": false,
     "start_time": "2025-08-19T18:54:04.288285",
     "status": "completed"
    },
    "tags": [
     "parameters"
    ]
   },
   "outputs": [],
   "source": [
    "run_no = 0\n",
    "universe_id = \"test\"\n",
    "universe = {\n",
    "    \"training_size\": \"5k\", # \"25k\", \"5k\", \"1k\"\n",
    "    \"training_year\": \"2012_14\", # \"2014\", \"2012_14\", \"2010_14\"\n",
    "    \"scale\": \"scale\", # \"scale\", \"do-not-scale\",\n",
    "    \"model\": \"elasticnet\", # \"logreg\", \"penalized_logreg\", \"rf\", \"gbm\", \"elasticnet\"\n",
    "    \"cutoff\": [\"quantile_0.15\", \"quantile_0.30\"],\n",
    "    \"exclude_features\": \"age\", # \"none\", \"nationality\", \"sex\", \"nationality-sex\", \"age\"\n",
    "    \"exclude_subgroups\": \"drop-non-german\", # \"keep-all\", \"drop-non-german\"\n",
    "    \"eval_fairness_grouping\": [\"majority-minority\", \"nationality-all\"]\n",
    "}\n",
    "\n",
    "output_dir=\"./output\"\n",
    "seed=0"
   ]
  },
  {
   "cell_type": "code",
   "execution_count": 4,
   "id": "6455b143",
   "metadata": {
    "execution": {
     "iopub.execute_input": "2025-08-19T18:54:04.326002Z",
     "iopub.status.busy": "2025-08-19T18:54:04.325502Z",
     "iopub.status.idle": "2025-08-19T18:54:04.330131Z",
     "shell.execute_reply": "2025-08-19T18:54:04.329258Z"
    },
    "papermill": {
     "duration": 0.017248,
     "end_time": "2025-08-19T18:54:04.331954",
     "exception": false,
     "start_time": "2025-08-19T18:54:04.314706",
     "status": "completed"
    },
    "tags": [
     "injected-parameters"
    ]
   },
   "outputs": [],
   "source": [
    "# Parameters\n",
    "universe_id = \"d4bc3b49778431e7e40d4473da052581\"\n",
    "run_no = \"3\"\n",
    "universe = \"{\\\"cutoff\\\": [\\\"quantile_0.1\\\", \\\"quantile_0.25\\\"], \\\"eval_fairness_grouping\\\": [\\\"majority-minority\\\", \\\"nationality-all\\\"], \\\"exclude_features\\\": \\\"none\\\", \\\"exclude_subgroups\\\": \\\"keep-all\\\", \\\"model\\\": \\\"rf\\\", \\\"scale\\\": \\\"do-not-scale\\\", \\\"training_size\\\": \\\"1k\\\", \\\"training_year\\\": \\\"2014\\\"}\"\n",
    "output_dir = \"output\"\n",
    "seed = \"2023\"\n"
   ]
  },
  {
   "cell_type": "code",
   "execution_count": 5,
   "id": "a5d7941f",
   "metadata": {
    "execution": {
     "iopub.execute_input": "2025-08-19T18:54:04.353551Z",
     "iopub.status.busy": "2025-08-19T18:54:04.353064Z",
     "iopub.status.idle": "2025-08-19T18:54:04.357285Z",
     "shell.execute_reply": "2025-08-19T18:54:04.356438Z"
    },
    "papermill": {
     "duration": 0.019193,
     "end_time": "2025-08-19T18:54:04.361166",
     "exception": false,
     "start_time": "2025-08-19T18:54:04.341973",
     "status": "completed"
    },
    "tags": []
   },
   "outputs": [],
   "source": [
    "import json\n",
    "if isinstance(universe, str):\n",
    "    universe = json.loads(universe)"
   ]
  },
  {
   "cell_type": "code",
   "execution_count": 6,
   "id": "7076ccb1",
   "metadata": {
    "execution": {
     "iopub.execute_input": "2025-08-19T18:54:04.389083Z",
     "iopub.status.busy": "2025-08-19T18:54:04.388569Z",
     "iopub.status.idle": "2025-08-19T18:54:04.453399Z",
     "shell.execute_reply": "2025-08-19T18:54:04.452692Z"
    },
    "papermill": {
     "duration": 0.076867,
     "end_time": "2025-08-19T18:54:04.454763",
     "exception": false,
     "start_time": "2025-08-19T18:54:04.377896",
     "status": "completed"
    },
    "tags": []
   },
   "outputs": [],
   "source": [
    "# Auto-reload the custom package\n",
    "%load_ext autoreload\n",
    "%autoreload 1\n",
    "%aimport fairness_multiverse"
   ]
  },
  {
   "cell_type": "code",
   "execution_count": 7,
   "id": "94c8eb93",
   "metadata": {
    "execution": {
     "iopub.execute_input": "2025-08-19T18:54:04.476060Z",
     "iopub.status.busy": "2025-08-19T18:54:04.475580Z",
     "iopub.status.idle": "2025-08-19T18:54:06.044868Z",
     "shell.execute_reply": "2025-08-19T18:54:06.043988Z"
    },
    "papermill": {
     "duration": 1.581671,
     "end_time": "2025-08-19T18:54:06.046450",
     "exception": false,
     "start_time": "2025-08-19T18:54:04.464779",
     "status": "completed"
    },
    "tags": []
   },
   "outputs": [],
   "source": [
    "from fairness_multiverse.universe import UniverseAnalysis\n",
    "\n",
    "universe_analysis = UniverseAnalysis(\n",
    "    run_no = run_no,\n",
    "    universe_id = universe_id,\n",
    "    universe = universe,\n",
    "    output_dir=output_dir,\n",
    ")"
   ]
  },
  {
   "cell_type": "code",
   "execution_count": 8,
   "id": "2a6381cf",
   "metadata": {
    "execution": {
     "iopub.execute_input": "2025-08-19T18:54:06.070697Z",
     "iopub.status.busy": "2025-08-19T18:54:06.070219Z",
     "iopub.status.idle": "2025-08-19T18:54:06.075601Z",
     "shell.execute_reply": "2025-08-19T18:54:06.074881Z"
    },
    "papermill": {
     "duration": 0.022178,
     "end_time": "2025-08-19T18:54:06.079371",
     "exception": false,
     "start_time": "2025-08-19T18:54:06.057193",
     "status": "completed"
    },
    "tags": []
   },
   "outputs": [
    {
     "name": "stdout",
     "output_type": "stream",
     "text": [
      "Using Seed: 2023\n"
     ]
    }
   ],
   "source": [
    "import numpy as np\n",
    "parsed_seed = int(seed)\n",
    "np.random.seed(parsed_seed)\n",
    "print(f\"Using Seed: {parsed_seed}\")"
   ]
  },
  {
   "cell_type": "markdown",
   "id": "b6e958b4",
   "metadata": {
    "papermill": {
     "duration": 0.023455,
     "end_time": "2025-08-19T18:54:06.121814",
     "exception": false,
     "start_time": "2025-08-19T18:54:06.098359",
     "status": "completed"
    },
    "tags": []
   },
   "source": [
    "# Loading Data"
   ]
  },
  {
   "cell_type": "code",
   "execution_count": 9,
   "id": "98701482",
   "metadata": {
    "execution": {
     "iopub.execute_input": "2025-08-19T18:54:06.155573Z",
     "iopub.status.busy": "2025-08-19T18:54:06.155116Z",
     "iopub.status.idle": "2025-08-19T18:54:16.620561Z",
     "shell.execute_reply": "2025-08-19T18:54:16.618983Z"
    },
    "papermill": {
     "duration": 10.479342,
     "end_time": "2025-08-19T18:54:16.622239",
     "exception": false,
     "start_time": "2025-08-19T18:54:06.142897",
     "status": "completed"
    },
    "tags": []
   },
   "outputs": [
    {
     "name": "stdout",
     "output_type": "stream",
     "text": [
      "Loading SIAB data from cache: data/siab_cached.csv.gz\n"
     ]
    },
    {
     "name": "stdout",
     "output_type": "stream",
     "text": [
      "(643690, 164)\n"
     ]
    }
   ],
   "source": [
    "from pathlib import Path\n",
    "import pandas as pd\n",
    "\n",
    "# File paths\n",
    "raw_file = Path(\"data/raw/siab.csv\")\n",
    "cache_file = Path(\"data/siab_cached.csv.gz\")\n",
    "\n",
    "# Ensure cache directory exists\n",
    "cache_file.parent.mkdir(parents=True, exist_ok=True)\n",
    "\n",
    "# Load with simple caching\n",
    "if cache_file.exists():\n",
    "    print(f\"Loading SIAB data from cache: {cache_file}\")\n",
    "    siab = pd.read_csv(cache_file, compression='gzip')\n",
    "else:\n",
    "    print(f\"Cache not found. Reading raw SIAB data: {raw_file}\")\n",
    "    siab = pd.read_csv(raw_file)\n",
    "    siab.to_csv(cache_file, index=False, compression='gzip')\n",
    "    print(f\"Cached SIAB data to: {cache_file}\")\n",
    "\n",
    "print(siab.shape)"
   ]
  },
  {
   "cell_type": "code",
   "execution_count": 10,
   "id": "058d2abb",
   "metadata": {
    "execution": {
     "iopub.execute_input": "2025-08-19T18:54:16.661236Z",
     "iopub.status.busy": "2025-08-19T18:54:16.660432Z",
     "iopub.status.idle": "2025-08-19T18:54:16.860192Z",
     "shell.execute_reply": "2025-08-19T18:54:16.859142Z"
    },
    "papermill": {
     "duration": 0.214516,
     "end_time": "2025-08-19T18:54:16.861511",
     "exception": false,
     "start_time": "2025-08-19T18:54:16.646995",
     "status": "completed"
    },
    "tags": []
   },
   "outputs": [
    {
     "data": {
      "text/html": [
       "<div>\n",
       "<style scoped>\n",
       "    .dataframe tbody tr th:only-of-type {\n",
       "        vertical-align: middle;\n",
       "    }\n",
       "\n",
       "    .dataframe tbody tr th {\n",
       "        vertical-align: top;\n",
       "    }\n",
       "\n",
       "    .dataframe thead th {\n",
       "        text-align: right;\n",
       "    }\n",
       "</style>\n",
       "<table border=\"1\" class=\"dataframe\">\n",
       "  <thead>\n",
       "    <tr style=\"text-align: right;\">\n",
       "      <th></th>\n",
       "      <th>persnr</th>\n",
       "      <th>year</th>\n",
       "      <th>nrEntry</th>\n",
       "      <th>ltue</th>\n",
       "      <th>employed_before</th>\n",
       "      <th>receipt_leh_before</th>\n",
       "      <th>receipt_lhg_before</th>\n",
       "      <th>se_before</th>\n",
       "      <th>ASU_notue_seeking_before</th>\n",
       "      <th>ASU_other_before</th>\n",
       "      <th>...</th>\n",
       "      <th>minijob_tot_dur_byage</th>\n",
       "      <th>ft_tot_dur_byage</th>\n",
       "      <th>befrist_tot_dur_byage</th>\n",
       "      <th>leih_tot_dur_byage</th>\n",
       "      <th>LHG_tot_dur_byage</th>\n",
       "      <th>LEH_tot_dur_byage</th>\n",
       "      <th>almp_tot_dur_byage</th>\n",
       "      <th>almp_aw_tot_dur_byage</th>\n",
       "      <th>se_tot_dur_byage</th>\n",
       "      <th>seeking1_tot_dur_byage</th>\n",
       "    </tr>\n",
       "  </thead>\n",
       "  <tbody>\n",
       "    <tr>\n",
       "      <th>0</th>\n",
       "      <td>7</td>\n",
       "      <td>2015</td>\n",
       "      <td>1</td>\n",
       "      <td>0</td>\n",
       "      <td>1</td>\n",
       "      <td>0</td>\n",
       "      <td>0</td>\n",
       "      <td>0</td>\n",
       "      <td>1</td>\n",
       "      <td>0</td>\n",
       "      <td>...</td>\n",
       "      <td>0.000000</td>\n",
       "      <td>0.000000</td>\n",
       "      <td>15.043478</td>\n",
       "      <td>0.000000</td>\n",
       "      <td>0.000000</td>\n",
       "      <td>0.000000</td>\n",
       "      <td>0.000000</td>\n",
       "      <td>0.000000</td>\n",
       "      <td>0.000000</td>\n",
       "      <td>0.000000</td>\n",
       "    </tr>\n",
       "    <tr>\n",
       "      <th>1</th>\n",
       "      <td>18</td>\n",
       "      <td>2010</td>\n",
       "      <td>1</td>\n",
       "      <td>1</td>\n",
       "      <td>0</td>\n",
       "      <td>0</td>\n",
       "      <td>0</td>\n",
       "      <td>0</td>\n",
       "      <td>0</td>\n",
       "      <td>0</td>\n",
       "      <td>...</td>\n",
       "      <td>0.000000</td>\n",
       "      <td>0.000000</td>\n",
       "      <td>0.000000</td>\n",
       "      <td>0.000000</td>\n",
       "      <td>0.000000</td>\n",
       "      <td>0.000000</td>\n",
       "      <td>0.000000</td>\n",
       "      <td>0.000000</td>\n",
       "      <td>0.000000</td>\n",
       "      <td>0.000000</td>\n",
       "    </tr>\n",
       "    <tr>\n",
       "      <th>2</th>\n",
       "      <td>18</td>\n",
       "      <td>2011</td>\n",
       "      <td>2</td>\n",
       "      <td>0</td>\n",
       "      <td>1</td>\n",
       "      <td>0</td>\n",
       "      <td>1</td>\n",
       "      <td>0</td>\n",
       "      <td>1</td>\n",
       "      <td>0</td>\n",
       "      <td>...</td>\n",
       "      <td>2.714286</td>\n",
       "      <td>2.714286</td>\n",
       "      <td>0.000000</td>\n",
       "      <td>0.000000</td>\n",
       "      <td>10.775510</td>\n",
       "      <td>0.000000</td>\n",
       "      <td>8.367347</td>\n",
       "      <td>0.000000</td>\n",
       "      <td>0.000000</td>\n",
       "      <td>9.836735</td>\n",
       "    </tr>\n",
       "    <tr>\n",
       "      <th>3</th>\n",
       "      <td>18</td>\n",
       "      <td>2012</td>\n",
       "      <td>3</td>\n",
       "      <td>0</td>\n",
       "      <td>1</td>\n",
       "      <td>0</td>\n",
       "      <td>1</td>\n",
       "      <td>0</td>\n",
       "      <td>1</td>\n",
       "      <td>0</td>\n",
       "      <td>...</td>\n",
       "      <td>4.200000</td>\n",
       "      <td>4.200000</td>\n",
       "      <td>0.000000</td>\n",
       "      <td>0.000000</td>\n",
       "      <td>12.100000</td>\n",
       "      <td>0.000000</td>\n",
       "      <td>9.400000</td>\n",
       "      <td>0.000000</td>\n",
       "      <td>0.000000</td>\n",
       "      <td>9.960000</td>\n",
       "    </tr>\n",
       "    <tr>\n",
       "      <th>4</th>\n",
       "      <td>18</td>\n",
       "      <td>2012</td>\n",
       "      <td>4</td>\n",
       "      <td>0</td>\n",
       "      <td>1</td>\n",
       "      <td>0</td>\n",
       "      <td>1</td>\n",
       "      <td>0</td>\n",
       "      <td>1</td>\n",
       "      <td>0</td>\n",
       "      <td>...</td>\n",
       "      <td>5.460000</td>\n",
       "      <td>5.460000</td>\n",
       "      <td>0.000000</td>\n",
       "      <td>0.000000</td>\n",
       "      <td>13.360000</td>\n",
       "      <td>0.000000</td>\n",
       "      <td>10.320000</td>\n",
       "      <td>0.000000</td>\n",
       "      <td>0.000000</td>\n",
       "      <td>10.280000</td>\n",
       "    </tr>\n",
       "    <tr>\n",
       "      <th>...</th>\n",
       "      <td>...</td>\n",
       "      <td>...</td>\n",
       "      <td>...</td>\n",
       "      <td>...</td>\n",
       "      <td>...</td>\n",
       "      <td>...</td>\n",
       "      <td>...</td>\n",
       "      <td>...</td>\n",
       "      <td>...</td>\n",
       "      <td>...</td>\n",
       "      <td>...</td>\n",
       "      <td>...</td>\n",
       "      <td>...</td>\n",
       "      <td>...</td>\n",
       "      <td>...</td>\n",
       "      <td>...</td>\n",
       "      <td>...</td>\n",
       "      <td>...</td>\n",
       "      <td>...</td>\n",
       "      <td>...</td>\n",
       "      <td>...</td>\n",
       "    </tr>\n",
       "    <tr>\n",
       "      <th>643685</th>\n",
       "      <td>1827860</td>\n",
       "      <td>2013</td>\n",
       "      <td>1</td>\n",
       "      <td>0</td>\n",
       "      <td>0</td>\n",
       "      <td>0</td>\n",
       "      <td>1</td>\n",
       "      <td>0</td>\n",
       "      <td>0</td>\n",
       "      <td>1</td>\n",
       "      <td>...</td>\n",
       "      <td>0.000000</td>\n",
       "      <td>0.000000</td>\n",
       "      <td>0.000000</td>\n",
       "      <td>0.000000</td>\n",
       "      <td>0.612903</td>\n",
       "      <td>0.000000</td>\n",
       "      <td>0.000000</td>\n",
       "      <td>0.000000</td>\n",
       "      <td>0.000000</td>\n",
       "      <td>0.000000</td>\n",
       "    </tr>\n",
       "    <tr>\n",
       "      <th>643686</th>\n",
       "      <td>1827860</td>\n",
       "      <td>2015</td>\n",
       "      <td>2</td>\n",
       "      <td>1</td>\n",
       "      <td>0</td>\n",
       "      <td>0</td>\n",
       "      <td>1</td>\n",
       "      <td>0</td>\n",
       "      <td>1</td>\n",
       "      <td>0</td>\n",
       "      <td>...</td>\n",
       "      <td>0.000000</td>\n",
       "      <td>0.000000</td>\n",
       "      <td>0.212121</td>\n",
       "      <td>0.212121</td>\n",
       "      <td>17.363636</td>\n",
       "      <td>0.000000</td>\n",
       "      <td>8.909091</td>\n",
       "      <td>0.000000</td>\n",
       "      <td>0.000000</td>\n",
       "      <td>7.121212</td>\n",
       "    </tr>\n",
       "    <tr>\n",
       "      <th>643687</th>\n",
       "      <td>1827860</td>\n",
       "      <td>2016</td>\n",
       "      <td>3</td>\n",
       "      <td>1</td>\n",
       "      <td>0</td>\n",
       "      <td>0</td>\n",
       "      <td>1</td>\n",
       "      <td>1</td>\n",
       "      <td>0</td>\n",
       "      <td>1</td>\n",
       "      <td>...</td>\n",
       "      <td>0.000000</td>\n",
       "      <td>0.000000</td>\n",
       "      <td>0.294118</td>\n",
       "      <td>0.205882</td>\n",
       "      <td>34.705882</td>\n",
       "      <td>0.000000</td>\n",
       "      <td>10.352941</td>\n",
       "      <td>1.705882</td>\n",
       "      <td>1.705882</td>\n",
       "      <td>23.911765</td>\n",
       "    </tr>\n",
       "    <tr>\n",
       "      <th>643688</th>\n",
       "      <td>1827869</td>\n",
       "      <td>2013</td>\n",
       "      <td>1</td>\n",
       "      <td>1</td>\n",
       "      <td>1</td>\n",
       "      <td>0</td>\n",
       "      <td>0</td>\n",
       "      <td>0</td>\n",
       "      <td>1</td>\n",
       "      <td>0</td>\n",
       "      <td>...</td>\n",
       "      <td>0.000000</td>\n",
       "      <td>0.000000</td>\n",
       "      <td>0.000000</td>\n",
       "      <td>0.000000</td>\n",
       "      <td>0.000000</td>\n",
       "      <td>0.525424</td>\n",
       "      <td>0.000000</td>\n",
       "      <td>0.000000</td>\n",
       "      <td>0.000000</td>\n",
       "      <td>0.000000</td>\n",
       "    </tr>\n",
       "    <tr>\n",
       "      <th>643689</th>\n",
       "      <td>1827869</td>\n",
       "      <td>2014</td>\n",
       "      <td>2</td>\n",
       "      <td>0</td>\n",
       "      <td>0</td>\n",
       "      <td>1</td>\n",
       "      <td>0</td>\n",
       "      <td>0</td>\n",
       "      <td>1</td>\n",
       "      <td>0</td>\n",
       "      <td>...</td>\n",
       "      <td>0.000000</td>\n",
       "      <td>0.666667</td>\n",
       "      <td>0.666667</td>\n",
       "      <td>0.000000</td>\n",
       "      <td>0.000000</td>\n",
       "      <td>8.950000</td>\n",
       "      <td>1.033333</td>\n",
       "      <td>0.083333</td>\n",
       "      <td>0.083333</td>\n",
       "      <td>8.133333</td>\n",
       "    </tr>\n",
       "  </tbody>\n",
       "</table>\n",
       "<p>643690 rows × 164 columns</p>\n",
       "</div>"
      ],
      "text/plain": [
       "         persnr  year  nrEntry  ltue  employed_before  receipt_leh_before  \\\n",
       "0             7  2015        1     0                1                   0   \n",
       "1            18  2010        1     1                0                   0   \n",
       "2            18  2011        2     0                1                   0   \n",
       "3            18  2012        3     0                1                   0   \n",
       "4            18  2012        4     0                1                   0   \n",
       "...         ...   ...      ...   ...              ...                 ...   \n",
       "643685  1827860  2013        1     0                0                   0   \n",
       "643686  1827860  2015        2     1                0                   0   \n",
       "643687  1827860  2016        3     1                0                   0   \n",
       "643688  1827869  2013        1     1                1                   0   \n",
       "643689  1827869  2014        2     0                0                   1   \n",
       "\n",
       "        receipt_lhg_before  se_before  ASU_notue_seeking_before  \\\n",
       "0                        0          0                         1   \n",
       "1                        0          0                         0   \n",
       "2                        1          0                         1   \n",
       "3                        1          0                         1   \n",
       "4                        1          0                         1   \n",
       "...                    ...        ...                       ...   \n",
       "643685                   1          0                         0   \n",
       "643686                   1          0                         1   \n",
       "643687                   1          1                         0   \n",
       "643688                   0          0                         1   \n",
       "643689                   0          0                         1   \n",
       "\n",
       "        ASU_other_before  ...  minijob_tot_dur_byage  ft_tot_dur_byage  \\\n",
       "0                      0  ...               0.000000          0.000000   \n",
       "1                      0  ...               0.000000          0.000000   \n",
       "2                      0  ...               2.714286          2.714286   \n",
       "3                      0  ...               4.200000          4.200000   \n",
       "4                      0  ...               5.460000          5.460000   \n",
       "...                  ...  ...                    ...               ...   \n",
       "643685                 1  ...               0.000000          0.000000   \n",
       "643686                 0  ...               0.000000          0.000000   \n",
       "643687                 1  ...               0.000000          0.000000   \n",
       "643688                 0  ...               0.000000          0.000000   \n",
       "643689                 0  ...               0.000000          0.666667   \n",
       "\n",
       "        befrist_tot_dur_byage  leih_tot_dur_byage  LHG_tot_dur_byage  \\\n",
       "0                   15.043478            0.000000           0.000000   \n",
       "1                    0.000000            0.000000           0.000000   \n",
       "2                    0.000000            0.000000          10.775510   \n",
       "3                    0.000000            0.000000          12.100000   \n",
       "4                    0.000000            0.000000          13.360000   \n",
       "...                       ...                 ...                ...   \n",
       "643685               0.000000            0.000000           0.612903   \n",
       "643686               0.212121            0.212121          17.363636   \n",
       "643687               0.294118            0.205882          34.705882   \n",
       "643688               0.000000            0.000000           0.000000   \n",
       "643689               0.666667            0.000000           0.000000   \n",
       "\n",
       "        LEH_tot_dur_byage  almp_tot_dur_byage  almp_aw_tot_dur_byage  \\\n",
       "0                0.000000            0.000000               0.000000   \n",
       "1                0.000000            0.000000               0.000000   \n",
       "2                0.000000            8.367347               0.000000   \n",
       "3                0.000000            9.400000               0.000000   \n",
       "4                0.000000           10.320000               0.000000   \n",
       "...                   ...                 ...                    ...   \n",
       "643685           0.000000            0.000000               0.000000   \n",
       "643686           0.000000            8.909091               0.000000   \n",
       "643687           0.000000           10.352941               1.705882   \n",
       "643688           0.525424            0.000000               0.000000   \n",
       "643689           8.950000            1.033333               0.083333   \n",
       "\n",
       "        se_tot_dur_byage  seeking1_tot_dur_byage  \n",
       "0               0.000000                0.000000  \n",
       "1               0.000000                0.000000  \n",
       "2               0.000000                9.836735  \n",
       "3               0.000000                9.960000  \n",
       "4               0.000000               10.280000  \n",
       "...                  ...                     ...  \n",
       "643685          0.000000                0.000000  \n",
       "643686          0.000000                7.121212  \n",
       "643687          1.705882               23.911765  \n",
       "643688          0.000000                0.000000  \n",
       "643689          0.083333                8.133333  \n",
       "\n",
       "[643690 rows x 164 columns]"
      ]
     },
     "execution_count": 10,
     "metadata": {},
     "output_type": "execute_result"
    }
   ],
   "source": [
    "siab"
   ]
  },
  {
   "cell_type": "markdown",
   "id": "1f87e805",
   "metadata": {
    "papermill": {
     "duration": 0.016249,
     "end_time": "2025-08-19T18:54:16.889789",
     "exception": false,
     "start_time": "2025-08-19T18:54:16.873540",
     "status": "completed"
    },
    "tags": []
   },
   "source": [
    "# Splitting Data and Setting Training Data Size"
   ]
  },
  {
   "cell_type": "code",
   "execution_count": 11,
   "id": "910ae358",
   "metadata": {
    "execution": {
     "iopub.execute_input": "2025-08-19T18:54:16.913311Z",
     "iopub.status.busy": "2025-08-19T18:54:16.912768Z",
     "iopub.status.idle": "2025-08-19T18:54:17.186523Z",
     "shell.execute_reply": "2025-08-19T18:54:17.185544Z"
    },
    "papermill": {
     "duration": 0.286725,
     "end_time": "2025-08-19T18:54:17.187966",
     "exception": false,
     "start_time": "2025-08-19T18:54:16.901241",
     "status": "completed"
    },
    "tags": []
   },
   "outputs": [],
   "source": [
    "from fairness_multiverse.universe import sample_by_year_size\n",
    "\n",
    "siab_train = sample_by_year_size(siab,\n",
    "                               training_year=universe[\"training_year\"],\n",
    "                               training_size=universe[\"training_size\"])"
   ]
  },
  {
   "cell_type": "code",
   "execution_count": 12,
   "id": "919c8ff5",
   "metadata": {
    "execution": {
     "iopub.execute_input": "2025-08-19T18:54:17.210867Z",
     "iopub.status.busy": "2025-08-19T18:54:17.210116Z",
     "iopub.status.idle": "2025-08-19T18:54:17.218698Z",
     "shell.execute_reply": "2025-08-19T18:54:17.217696Z"
    },
    "papermill": {
     "duration": 0.030501,
     "end_time": "2025-08-19T18:54:17.228950",
     "exception": false,
     "start_time": "2025-08-19T18:54:17.198449",
     "status": "completed"
    },
    "tags": []
   },
   "outputs": [
    {
     "data": {
      "text/plain": [
       "(1000, 164)"
      ]
     },
     "execution_count": 12,
     "metadata": {},
     "output_type": "execute_result"
    }
   ],
   "source": [
    "siab_train.shape"
   ]
  },
  {
   "cell_type": "code",
   "execution_count": 13,
   "id": "feb13bf4",
   "metadata": {
    "execution": {
     "iopub.execute_input": "2025-08-19T18:54:17.254296Z",
     "iopub.status.busy": "2025-08-19T18:54:17.253478Z",
     "iopub.status.idle": "2025-08-19T18:54:17.263692Z",
     "shell.execute_reply": "2025-08-19T18:54:17.262368Z"
    },
    "papermill": {
     "duration": 0.027713,
     "end_time": "2025-08-19T18:54:17.269877",
     "exception": false,
     "start_time": "2025-08-19T18:54:17.242164",
     "status": "completed"
    },
    "tags": []
   },
   "outputs": [
    {
     "data": {
      "text/plain": [
       "year\n",
       "2014    1000\n",
       "dtype: int64"
      ]
     },
     "metadata": {},
     "output_type": "display_data"
    }
   ],
   "source": [
    "display(siab_train.groupby(\"year\").size())"
   ]
  },
  {
   "cell_type": "code",
   "execution_count": 14,
   "id": "0997782f",
   "metadata": {
    "execution": {
     "iopub.execute_input": "2025-08-19T18:54:17.296562Z",
     "iopub.status.busy": "2025-08-19T18:54:17.295344Z",
     "iopub.status.idle": "2025-08-19T18:54:17.580989Z",
     "shell.execute_reply": "2025-08-19T18:54:17.580252Z"
    },
    "papermill": {
     "duration": 0.299411,
     "end_time": "2025-08-19T18:54:17.583257",
     "exception": false,
     "start_time": "2025-08-19T18:54:17.283846",
     "status": "completed"
    },
    "tags": []
   },
   "outputs": [],
   "source": [
    "#siab_train = siab_s[siab_s.year < 2015]\n",
    "siab_calib = siab[siab.year == 2015]\n",
    "siab_test = siab[siab.year == 2016]"
   ]
  },
  {
   "cell_type": "code",
   "execution_count": 15,
   "id": "2c1e4012",
   "metadata": {
    "execution": {
     "iopub.execute_input": "2025-08-19T18:54:17.612573Z",
     "iopub.status.busy": "2025-08-19T18:54:17.611026Z",
     "iopub.status.idle": "2025-08-19T18:54:17.617951Z",
     "shell.execute_reply": "2025-08-19T18:54:17.616821Z"
    },
    "papermill": {
     "duration": 0.020019,
     "end_time": "2025-08-19T18:54:17.619421",
     "exception": false,
     "start_time": "2025-08-19T18:54:17.599402",
     "status": "completed"
    },
    "tags": []
   },
   "outputs": [],
   "source": [
    "#siab_calib.shape"
   ]
  },
  {
   "cell_type": "code",
   "execution_count": 16,
   "id": "f66b54ca",
   "metadata": {
    "execution": {
     "iopub.execute_input": "2025-08-19T18:54:17.645675Z",
     "iopub.status.busy": "2025-08-19T18:54:17.644255Z",
     "iopub.status.idle": "2025-08-19T18:54:17.651760Z",
     "shell.execute_reply": "2025-08-19T18:54:17.650432Z"
    },
    "papermill": {
     "duration": 0.021177,
     "end_time": "2025-08-19T18:54:17.653657",
     "exception": false,
     "start_time": "2025-08-19T18:54:17.632480",
     "status": "completed"
    },
    "tags": []
   },
   "outputs": [],
   "source": [
    "#siab_test.shape"
   ]
  },
  {
   "cell_type": "code",
   "execution_count": 17,
   "id": "27e4384d",
   "metadata": {
    "execution": {
     "iopub.execute_input": "2025-08-19T18:54:17.680268Z",
     "iopub.status.busy": "2025-08-19T18:54:17.678678Z",
     "iopub.status.idle": "2025-08-19T18:54:17.689578Z",
     "shell.execute_reply": "2025-08-19T18:54:17.688188Z"
    },
    "papermill": {
     "duration": 0.025143,
     "end_time": "2025-08-19T18:54:17.691370",
     "exception": false,
     "start_time": "2025-08-19T18:54:17.666227",
     "status": "completed"
    },
    "tags": []
   },
   "outputs": [],
   "source": [
    "X_train = siab_train.iloc[:,4:164]\n",
    "y_train = siab_train.iloc[:, [3]]"
   ]
  },
  {
   "cell_type": "code",
   "execution_count": 18,
   "id": "08ee8389",
   "metadata": {
    "execution": {
     "iopub.execute_input": "2025-08-19T18:54:17.719787Z",
     "iopub.status.busy": "2025-08-19T18:54:17.717774Z",
     "iopub.status.idle": "2025-08-19T18:54:17.813154Z",
     "shell.execute_reply": "2025-08-19T18:54:17.812448Z"
    },
    "papermill": {
     "duration": 0.109827,
     "end_time": "2025-08-19T18:54:17.815954",
     "exception": false,
     "start_time": "2025-08-19T18:54:17.706127",
     "status": "completed"
    },
    "tags": []
   },
   "outputs": [],
   "source": [
    "X_calib = siab_calib.iloc[:,4:164]\n",
    "y_calib = siab_calib.iloc[:, [3]]"
   ]
  },
  {
   "cell_type": "code",
   "execution_count": 19,
   "id": "b7ff42e0",
   "metadata": {
    "execution": {
     "iopub.execute_input": "2025-08-19T18:54:17.863008Z",
     "iopub.status.busy": "2025-08-19T18:54:17.862622Z",
     "iopub.status.idle": "2025-08-19T18:54:17.920950Z",
     "shell.execute_reply": "2025-08-19T18:54:17.920037Z"
    },
    "papermill": {
     "duration": 0.071599,
     "end_time": "2025-08-19T18:54:17.922282",
     "exception": false,
     "start_time": "2025-08-19T18:54:17.850683",
     "status": "completed"
    },
    "tags": []
   },
   "outputs": [],
   "source": [
    "X_test = siab_test.iloc[:,4:164]\n",
    "y_true = siab_test.iloc[:, [3]]"
   ]
  },
  {
   "cell_type": "code",
   "execution_count": 20,
   "id": "0275101e",
   "metadata": {
    "execution": {
     "iopub.execute_input": "2025-08-19T18:54:17.944398Z",
     "iopub.status.busy": "2025-08-19T18:54:17.943900Z",
     "iopub.status.idle": "2025-08-19T18:54:18.050568Z",
     "shell.execute_reply": "2025-08-19T18:54:18.049873Z"
    },
    "papermill": {
     "duration": 0.1205,
     "end_time": "2025-08-19T18:54:18.053308",
     "exception": false,
     "start_time": "2025-08-19T18:54:17.932808",
     "status": "completed"
    },
    "tags": []
   },
   "outputs": [],
   "source": [
    "# Auxiliary data needed downstream in the pipeline\n",
    "\n",
    "org_train = X_train.copy()\n",
    "org_test = X_test.copy()\n",
    "org_calib = X_calib.copy()"
   ]
  },
  {
   "cell_type": "markdown",
   "id": "b461e618",
   "metadata": {
    "papermill": {
     "duration": 0.012184,
     "end_time": "2025-08-19T18:54:18.089245",
     "exception": false,
     "start_time": "2025-08-19T18:54:18.077061",
     "status": "completed"
    },
    "tags": []
   },
   "source": [
    "# Preprocessing Data"
   ]
  },
  {
   "cell_type": "code",
   "execution_count": 21,
   "id": "78e74c4b",
   "metadata": {
    "execution": {
     "iopub.execute_input": "2025-08-19T18:54:18.112531Z",
     "iopub.status.busy": "2025-08-19T18:54:18.111089Z",
     "iopub.status.idle": "2025-08-19T18:54:18.121224Z",
     "shell.execute_reply": "2025-08-19T18:54:18.119786Z"
    },
    "papermill": {
     "duration": 0.023408,
     "end_time": "2025-08-19T18:54:18.122723",
     "exception": false,
     "start_time": "2025-08-19T18:54:18.099315",
     "status": "completed"
    },
    "tags": []
   },
   "outputs": [],
   "source": [
    "# EXCLUDE PROTECTED FEATURES\n",
    "# --------------------------\n",
    "\n",
    "excluded_features = universe[\"exclude_features\"].split(\"-\")\n",
    "excluded_features_dictionary = {\n",
    "    \"nationality\": [\"maxdeutsch1\", \"maxdeutsch.Missing.\"],\n",
    "    \"sex\": [\"frau1\"],\n",
    "    \"age\": [\"age\"],\n",
    "}"
   ]
  },
  {
   "cell_type": "code",
   "execution_count": 22,
   "id": "f8e63555",
   "metadata": {
    "execution": {
     "iopub.execute_input": "2025-08-19T18:54:18.148693Z",
     "iopub.status.busy": "2025-08-19T18:54:18.147407Z",
     "iopub.status.idle": "2025-08-19T18:54:18.158834Z",
     "shell.execute_reply": "2025-08-19T18:54:18.155834Z"
    },
    "papermill": {
     "duration": 0.025143,
     "end_time": "2025-08-19T18:54:18.160653",
     "exception": false,
     "start_time": "2025-08-19T18:54:18.135510",
     "status": "completed"
    },
    "tags": []
   },
   "outputs": [],
   "source": [
    "excluded_features_columns = [\n",
    "    excluded_features_dictionary[f] for f in excluded_features if len(f) > 0 and f != \"none\"\n",
    "]"
   ]
  },
  {
   "cell_type": "code",
   "execution_count": 23,
   "id": "da781f7c",
   "metadata": {
    "execution": {
     "iopub.execute_input": "2025-08-19T18:54:18.189495Z",
     "iopub.status.busy": "2025-08-19T18:54:18.188181Z",
     "iopub.status.idle": "2025-08-19T18:54:18.197795Z",
     "shell.execute_reply": "2025-08-19T18:54:18.196191Z"
    },
    "papermill": {
     "duration": 0.024217,
     "end_time": "2025-08-19T18:54:18.199547",
     "exception": false,
     "start_time": "2025-08-19T18:54:18.175330",
     "status": "completed"
    },
    "tags": []
   },
   "outputs": [],
   "source": [
    "from fairness_multiverse.universe import flatten_once\n",
    "\n",
    "excluded_features_columns = flatten_once(excluded_features_columns)"
   ]
  },
  {
   "cell_type": "code",
   "execution_count": 24,
   "id": "37fef0f0",
   "metadata": {
    "execution": {
     "iopub.execute_input": "2025-08-19T18:54:18.226706Z",
     "iopub.status.busy": "2025-08-19T18:54:18.225624Z",
     "iopub.status.idle": "2025-08-19T18:54:18.235350Z",
     "shell.execute_reply": "2025-08-19T18:54:18.233752Z"
    },
    "papermill": {
     "duration": 0.024153,
     "end_time": "2025-08-19T18:54:18.237254",
     "exception": false,
     "start_time": "2025-08-19T18:54:18.213101",
     "status": "completed"
    },
    "tags": []
   },
   "outputs": [],
   "source": [
    "if len(excluded_features_columns) > 0:\n",
    "    print(f\"Dropping features: {excluded_features_columns}\")\n",
    "    X_train.drop(excluded_features_columns, axis=1, inplace=True)"
   ]
  },
  {
   "cell_type": "code",
   "execution_count": 25,
   "id": "d029e3e9",
   "metadata": {
    "execution": {
     "iopub.execute_input": "2025-08-19T18:54:18.263361Z",
     "iopub.status.busy": "2025-08-19T18:54:18.262249Z",
     "iopub.status.idle": "2025-08-19T18:54:18.277472Z",
     "shell.execute_reply": "2025-08-19T18:54:18.275997Z"
    },
    "papermill": {
     "duration": 0.029148,
     "end_time": "2025-08-19T18:54:18.279333",
     "exception": false,
     "start_time": "2025-08-19T18:54:18.250185",
     "status": "completed"
    },
    "tags": []
   },
   "outputs": [],
   "source": [
    "if len(excluded_features_columns) > 0:\n",
    "    print(f\"Dropping features: {excluded_features_columns}\")\n",
    "    X_test.drop(excluded_features_columns, axis=1, inplace=True)"
   ]
  },
  {
   "cell_type": "code",
   "execution_count": 26,
   "id": "01d571f0",
   "metadata": {
    "execution": {
     "iopub.execute_input": "2025-08-19T18:54:18.307537Z",
     "iopub.status.busy": "2025-08-19T18:54:18.306150Z",
     "iopub.status.idle": "2025-08-19T18:54:18.316080Z",
     "shell.execute_reply": "2025-08-19T18:54:18.314487Z"
    },
    "papermill": {
     "duration": 0.024387,
     "end_time": "2025-08-19T18:54:18.317722",
     "exception": false,
     "start_time": "2025-08-19T18:54:18.293335",
     "status": "completed"
    },
    "tags": []
   },
   "outputs": [],
   "source": [
    "if len(excluded_features_columns) > 0:\n",
    "    print(f\"Dropping features: {excluded_features_columns}\")\n",
    "    X_calib.drop(excluded_features_columns, axis=1, inplace=True)"
   ]
  },
  {
   "cell_type": "code",
   "execution_count": 27,
   "id": "3037356e",
   "metadata": {
    "execution": {
     "iopub.execute_input": "2025-08-19T18:54:18.344263Z",
     "iopub.status.busy": "2025-08-19T18:54:18.343163Z",
     "iopub.status.idle": "2025-08-19T18:54:18.351953Z",
     "shell.execute_reply": "2025-08-19T18:54:18.350452Z"
    },
    "papermill": {
     "duration": 0.022445,
     "end_time": "2025-08-19T18:54:18.353456",
     "exception": false,
     "start_time": "2025-08-19T18:54:18.331011",
     "status": "completed"
    },
    "tags": []
   },
   "outputs": [],
   "source": [
    "# EXCLUDE CERTAIN SUBGROUPS\n",
    "# -------------------------\n",
    "\n",
    "mode = universe.get(\"exclude_subgroups\", \"keep-all\") # Defaults to \"keep-all\" if the key is missing."
   ]
  },
  {
   "cell_type": "code",
   "execution_count": 28,
   "id": "9d1e63fd",
   "metadata": {
    "execution": {
     "iopub.execute_input": "2025-08-19T18:54:18.384622Z",
     "iopub.status.busy": "2025-08-19T18:54:18.383407Z",
     "iopub.status.idle": "2025-08-19T18:54:18.394335Z",
     "shell.execute_reply": "2025-08-19T18:54:18.393236Z"
    },
    "papermill": {
     "duration": 0.026653,
     "end_time": "2025-08-19T18:54:18.395772",
     "exception": false,
     "start_time": "2025-08-19T18:54:18.369119",
     "status": "completed"
    },
    "tags": []
   },
   "outputs": [],
   "source": [
    "if mode == \"keep-all\":\n",
    "    keep_mask = pd.Series(True, index=org_train.index)\n",
    "\n",
    "elif mode == \"drop-non-german\":\n",
    "    keep_mask = (org_train[\"maxdeutsch1\"] == 1) & (org_train[\"maxdeutsch.Missing.\"] == 0)\n",
    "\n",
    "else:\n",
    "    raise ValueError(f\"Unsupported mode for exclude_subgroups: {mode}\")"
   ]
  },
  {
   "cell_type": "code",
   "execution_count": 29,
   "id": "d3b65474",
   "metadata": {
    "execution": {
     "iopub.execute_input": "2025-08-19T18:54:18.430793Z",
     "iopub.status.busy": "2025-08-19T18:54:18.418690Z",
     "iopub.status.idle": "2025-08-19T18:54:18.449471Z",
     "shell.execute_reply": "2025-08-19T18:54:18.448554Z"
    },
    "papermill": {
     "duration": 0.04503,
     "end_time": "2025-08-19T18:54:18.451647",
     "exception": false,
     "start_time": "2025-08-19T18:54:18.406617",
     "status": "completed"
    },
    "tags": []
   },
   "outputs": [],
   "source": [
    "n_drop = (~keep_mask).sum() # Calculates how many rows are set to be dropped\n",
    "if n_drop > 0:\n",
    "    pct = n_drop / len(keep_mask) * 100\n",
    "    print(f\"Dropping {n_drop} rows ({pct:.2f}%) where mode='{mode}'\")"
   ]
  },
  {
   "cell_type": "code",
   "execution_count": 30,
   "id": "f44389b3",
   "metadata": {
    "execution": {
     "iopub.execute_input": "2025-08-19T18:54:18.488438Z",
     "iopub.status.busy": "2025-08-19T18:54:18.487785Z",
     "iopub.status.idle": "2025-08-19T18:54:18.494995Z",
     "shell.execute_reply": "2025-08-19T18:54:18.494288Z"
    },
    "papermill": {
     "duration": 0.021896,
     "end_time": "2025-08-19T18:54:18.495970",
     "exception": false,
     "start_time": "2025-08-19T18:54:18.474074",
     "status": "completed"
    },
    "tags": []
   },
   "outputs": [],
   "source": [
    "X_train = X_train[keep_mask]"
   ]
  },
  {
   "cell_type": "code",
   "execution_count": 31,
   "id": "ceca8c2a",
   "metadata": {
    "execution": {
     "iopub.execute_input": "2025-08-19T18:54:18.520775Z",
     "iopub.status.busy": "2025-08-19T18:54:18.520196Z",
     "iopub.status.idle": "2025-08-19T18:54:18.525592Z",
     "shell.execute_reply": "2025-08-19T18:54:18.525018Z"
    },
    "papermill": {
     "duration": 0.018422,
     "end_time": "2025-08-19T18:54:18.526724",
     "exception": false,
     "start_time": "2025-08-19T18:54:18.508302",
     "status": "completed"
    },
    "tags": []
   },
   "outputs": [],
   "source": [
    "y_train = y_train[keep_mask]"
   ]
  },
  {
   "cell_type": "markdown",
   "id": "04d31e2f",
   "metadata": {
    "papermill": {
     "duration": 0.010784,
     "end_time": "2025-08-19T18:54:18.549336",
     "exception": false,
     "start_time": "2025-08-19T18:54:18.538552",
     "status": "completed"
    },
    "tags": []
   },
   "source": [
    "# Model Training"
   ]
  },
  {
   "cell_type": "code",
   "execution_count": 32,
   "id": "db991733",
   "metadata": {
    "execution": {
     "iopub.execute_input": "2025-08-19T18:54:18.571832Z",
     "iopub.status.busy": "2025-08-19T18:54:18.571241Z",
     "iopub.status.idle": "2025-08-19T18:54:18.691273Z",
     "shell.execute_reply": "2025-08-19T18:54:18.690477Z"
    },
    "papermill": {
     "duration": 0.133155,
     "end_time": "2025-08-19T18:54:18.692851",
     "exception": false,
     "start_time": "2025-08-19T18:54:18.559696",
     "status": "completed"
    },
    "tags": []
   },
   "outputs": [],
   "source": [
    "from sklearn.linear_model import LogisticRegression\n",
    "from sklearn.ensemble import GradientBoostingClassifier, RandomForestClassifier\n",
    "\n",
    "if (universe[\"model\"] == \"logreg\"):\n",
    "    model = LogisticRegression() #penalty=\"none\", solver=\"newton-cg\", max_iter=1)\n",
    "elif (universe[\"model\"] == \"penalized_logreg\"):\n",
    "    model = LogisticRegression(penalty=\"l2\", C=0.1) #, solver=\"newton-cg\", max_iter=1)\n",
    "elif (universe[\"model\"] == \"rf\"):\n",
    "    model = RandomForestClassifier() # n_estimators=100, n_jobs=-1\n",
    "elif (universe[\"model\"] == \"gbm\"):\n",
    "    model = GradientBoostingClassifier()\n",
    "elif (universe[\"model\"] == \"elasticnet\"):\n",
    "    model = LogisticRegression(penalty = 'elasticnet', solver = 'saga', l1_ratio = 0.5) # max_iter=5000\n",
    "else:\n",
    "    raise \"Unsupported universe.model\""
   ]
  },
  {
   "cell_type": "code",
   "execution_count": 33,
   "id": "a4b5cd25",
   "metadata": {
    "execution": {
     "iopub.execute_input": "2025-08-19T18:54:18.736264Z",
     "iopub.status.busy": "2025-08-19T18:54:18.735316Z",
     "iopub.status.idle": "2025-08-19T18:54:18.742172Z",
     "shell.execute_reply": "2025-08-19T18:54:18.741177Z"
    },
    "papermill": {
     "duration": 0.039456,
     "end_time": "2025-08-19T18:54:18.744945",
     "exception": false,
     "start_time": "2025-08-19T18:54:18.705489",
     "status": "completed"
    },
    "tags": []
   },
   "outputs": [],
   "source": [
    "from sklearn.pipeline import Pipeline\n",
    "from sklearn.preprocessing import StandardScaler\n",
    "\n",
    "model = Pipeline([\n",
    "    #(\"continuous_processor\", continuous_processor),\n",
    "    #(\"categorical_preprocessor\", categorical_preprocessor),\n",
    "    (\"scale\", StandardScaler() if universe[\"scale\"] == \"scale\" else None), \n",
    "    (\"model\", model),\n",
    "])"
   ]
  },
  {
   "cell_type": "code",
   "execution_count": 34,
   "id": "283a904d",
   "metadata": {
    "execution": {
     "iopub.execute_input": "2025-08-19T18:54:18.803781Z",
     "iopub.status.busy": "2025-08-19T18:54:18.802224Z",
     "iopub.status.idle": "2025-08-19T18:54:19.139040Z",
     "shell.execute_reply": "2025-08-19T18:54:19.137926Z"
    },
    "papermill": {
     "duration": 0.353829,
     "end_time": "2025-08-19T18:54:19.142168",
     "exception": false,
     "start_time": "2025-08-19T18:54:18.788339",
     "status": "completed"
    },
    "tags": []
   },
   "outputs": [
    {
     "data": {
      "text/html": [
       "<style>#sk-container-id-1 {color: black;background-color: white;}#sk-container-id-1 pre{padding: 0;}#sk-container-id-1 div.sk-toggleable {background-color: white;}#sk-container-id-1 label.sk-toggleable__label {cursor: pointer;display: block;width: 100%;margin-bottom: 0;padding: 0.3em;box-sizing: border-box;text-align: center;}#sk-container-id-1 label.sk-toggleable__label-arrow:before {content: \"▸\";float: left;margin-right: 0.25em;color: #696969;}#sk-container-id-1 label.sk-toggleable__label-arrow:hover:before {color: black;}#sk-container-id-1 div.sk-estimator:hover label.sk-toggleable__label-arrow:before {color: black;}#sk-container-id-1 div.sk-toggleable__content {max-height: 0;max-width: 0;overflow: hidden;text-align: left;background-color: #f0f8ff;}#sk-container-id-1 div.sk-toggleable__content pre {margin: 0.2em;color: black;border-radius: 0.25em;background-color: #f0f8ff;}#sk-container-id-1 input.sk-toggleable__control:checked~div.sk-toggleable__content {max-height: 200px;max-width: 100%;overflow: auto;}#sk-container-id-1 input.sk-toggleable__control:checked~label.sk-toggleable__label-arrow:before {content: \"▾\";}#sk-container-id-1 div.sk-estimator input.sk-toggleable__control:checked~label.sk-toggleable__label {background-color: #d4ebff;}#sk-container-id-1 div.sk-label input.sk-toggleable__control:checked~label.sk-toggleable__label {background-color: #d4ebff;}#sk-container-id-1 input.sk-hidden--visually {border: 0;clip: rect(1px 1px 1px 1px);clip: rect(1px, 1px, 1px, 1px);height: 1px;margin: -1px;overflow: hidden;padding: 0;position: absolute;width: 1px;}#sk-container-id-1 div.sk-estimator {font-family: monospace;background-color: #f0f8ff;border: 1px dotted black;border-radius: 0.25em;box-sizing: border-box;margin-bottom: 0.5em;}#sk-container-id-1 div.sk-estimator:hover {background-color: #d4ebff;}#sk-container-id-1 div.sk-parallel-item::after {content: \"\";width: 100%;border-bottom: 1px solid gray;flex-grow: 1;}#sk-container-id-1 div.sk-label:hover label.sk-toggleable__label {background-color: #d4ebff;}#sk-container-id-1 div.sk-serial::before {content: \"\";position: absolute;border-left: 1px solid gray;box-sizing: border-box;top: 0;bottom: 0;left: 50%;z-index: 0;}#sk-container-id-1 div.sk-serial {display: flex;flex-direction: column;align-items: center;background-color: white;padding-right: 0.2em;padding-left: 0.2em;position: relative;}#sk-container-id-1 div.sk-item {position: relative;z-index: 1;}#sk-container-id-1 div.sk-parallel {display: flex;align-items: stretch;justify-content: center;background-color: white;position: relative;}#sk-container-id-1 div.sk-item::before, #sk-container-id-1 div.sk-parallel-item::before {content: \"\";position: absolute;border-left: 1px solid gray;box-sizing: border-box;top: 0;bottom: 0;left: 50%;z-index: -1;}#sk-container-id-1 div.sk-parallel-item {display: flex;flex-direction: column;z-index: 1;position: relative;background-color: white;}#sk-container-id-1 div.sk-parallel-item:first-child::after {align-self: flex-end;width: 50%;}#sk-container-id-1 div.sk-parallel-item:last-child::after {align-self: flex-start;width: 50%;}#sk-container-id-1 div.sk-parallel-item:only-child::after {width: 0;}#sk-container-id-1 div.sk-dashed-wrapped {border: 1px dashed gray;margin: 0 0.4em 0.5em 0.4em;box-sizing: border-box;padding-bottom: 0.4em;background-color: white;}#sk-container-id-1 div.sk-label label {font-family: monospace;font-weight: bold;display: inline-block;line-height: 1.2em;}#sk-container-id-1 div.sk-label-container {text-align: center;}#sk-container-id-1 div.sk-container {/* jupyter's `normalize.less` sets `[hidden] { display: none; }` but bootstrap.min.css set `[hidden] { display: none !important; }` so we also need the `!important` here to be able to override the default hidden behavior on the sphinx rendered scikit-learn.org. See: https://github.com/scikit-learn/scikit-learn/issues/21755 */display: inline-block !important;position: relative;}#sk-container-id-1 div.sk-text-repr-fallback {display: none;}</style><div id=\"sk-container-id-1\" class=\"sk-top-container\"><div class=\"sk-text-repr-fallback\"><pre>Pipeline(steps=[(&#x27;scale&#x27;, None), (&#x27;model&#x27;, RandomForestClassifier())])</pre><b>In a Jupyter environment, please rerun this cell to show the HTML representation or trust the notebook. <br />On GitHub, the HTML representation is unable to render, please try loading this page with nbviewer.org.</b></div><div class=\"sk-container\" hidden><div class=\"sk-item sk-dashed-wrapped\"><div class=\"sk-label-container\"><div class=\"sk-label sk-toggleable\"><input class=\"sk-toggleable__control sk-hidden--visually\" id=\"sk-estimator-id-1\" type=\"checkbox\" ><label for=\"sk-estimator-id-1\" class=\"sk-toggleable__label sk-toggleable__label-arrow\">Pipeline</label><div class=\"sk-toggleable__content\"><pre>Pipeline(steps=[(&#x27;scale&#x27;, None), (&#x27;model&#x27;, RandomForestClassifier())])</pre></div></div></div><div class=\"sk-serial\"><div class=\"sk-item\"><div class=\"sk-estimator sk-toggleable\"><input class=\"sk-toggleable__control sk-hidden--visually\" id=\"sk-estimator-id-2\" type=\"checkbox\" ><label for=\"sk-estimator-id-2\" class=\"sk-toggleable__label sk-toggleable__label-arrow\">None</label><div class=\"sk-toggleable__content\"><pre>None</pre></div></div></div><div class=\"sk-item\"><div class=\"sk-estimator sk-toggleable\"><input class=\"sk-toggleable__control sk-hidden--visually\" id=\"sk-estimator-id-3\" type=\"checkbox\" ><label for=\"sk-estimator-id-3\" class=\"sk-toggleable__label sk-toggleable__label-arrow\">RandomForestClassifier</label><div class=\"sk-toggleable__content\"><pre>RandomForestClassifier()</pre></div></div></div></div></div></div></div>"
      ],
      "text/plain": [
       "Pipeline(steps=[('scale', None), ('model', RandomForestClassifier())])"
      ]
     },
     "execution_count": 34,
     "metadata": {},
     "output_type": "execute_result"
    }
   ],
   "source": [
    "model.fit(X_train, y_train.values.ravel())"
   ]
  },
  {
   "cell_type": "code",
   "execution_count": 35,
   "id": "6e15e313",
   "metadata": {
    "execution": {
     "iopub.execute_input": "2025-08-19T18:54:19.178077Z",
     "iopub.status.busy": "2025-08-19T18:54:19.176936Z",
     "iopub.status.idle": "2025-08-19T18:54:20.705409Z",
     "shell.execute_reply": "2025-08-19T18:54:20.704747Z"
    },
    "papermill": {
     "duration": 1.543878,
     "end_time": "2025-08-19T18:54:20.707105",
     "exception": false,
     "start_time": "2025-08-19T18:54:19.163227",
     "status": "completed"
    },
    "tags": []
   },
   "outputs": [
    {
     "data": {
      "text/plain": [
       "0.8639170661018839"
      ]
     },
     "execution_count": 35,
     "metadata": {},
     "output_type": "execute_result"
    }
   ],
   "source": [
    "from fairness_multiverse.universe import predict_w_threshold\n",
    "\n",
    "probs_test = model.predict_proba(X_test)\n",
    "\n",
    "'''\n",
    "Below code returns a boolean array (or binary 0/1 array depending on how it’s used) where each element \n",
    "is True if the probability of class 1 is greater than or equal to the threshold, and False otherwise.\n",
    "'''\n",
    "y_pred_default = predict_w_threshold(probs_test, 0.5)\n",
    "\n",
    "from sklearn.metrics import accuracy_score\n",
    "\n",
    "# Naive prediction\n",
    "accuracy_score(y_true = y_true, y_pred = y_pred_default)"
   ]
  },
  {
   "cell_type": "code",
   "execution_count": 36,
   "id": "6f14067c",
   "metadata": {
    "execution": {
     "iopub.execute_input": "2025-08-19T18:54:20.732408Z",
     "iopub.status.busy": "2025-08-19T18:54:20.731928Z",
     "iopub.status.idle": "2025-08-19T18:54:22.083932Z",
     "shell.execute_reply": "2025-08-19T18:54:22.082694Z"
    },
    "papermill": {
     "duration": 1.366456,
     "end_time": "2025-08-19T18:54:22.085765",
     "exception": false,
     "start_time": "2025-08-19T18:54:20.719309",
     "status": "completed"
    },
    "tags": []
   },
   "outputs": [
    {
     "data": {
      "text/plain": [
       "array([0, 0, 0, ..., 0, 0, 0])"
      ]
     },
     "execution_count": 36,
     "metadata": {},
     "output_type": "execute_result"
    }
   ],
   "source": [
    "model.predict(X_test)"
   ]
  },
  {
   "cell_type": "markdown",
   "id": "3759920c",
   "metadata": {
    "papermill": {
     "duration": 0.011381,
     "end_time": "2025-08-19T18:54:22.110722",
     "exception": false,
     "start_time": "2025-08-19T18:54:22.099341",
     "status": "completed"
    },
    "tags": []
   },
   "source": [
    "# Conformal Prediction"
   ]
  },
  {
   "cell_type": "code",
   "execution_count": 37,
   "id": "14b27f59",
   "metadata": {
    "execution": {
     "iopub.execute_input": "2025-08-19T18:54:22.136946Z",
     "iopub.status.busy": "2025-08-19T18:54:22.135754Z",
     "iopub.status.idle": "2025-08-19T18:54:22.160586Z",
     "shell.execute_reply": "2025-08-19T18:54:22.143439Z"
    },
    "papermill": {
     "duration": 0.041335,
     "end_time": "2025-08-19T18:54:22.163289",
     "exception": false,
     "start_time": "2025-08-19T18:54:22.121954",
     "status": "completed"
    },
    "tags": []
   },
   "outputs": [],
   "source": [
    "# Miscoverage level for conformal prediction (10% allowed error rate => 90% target coverage)\n",
    "alpha = 0.1"
   ]
  },
  {
   "cell_type": "code",
   "execution_count": 38,
   "id": "59102472",
   "metadata": {
    "execution": {
     "iopub.execute_input": "2025-08-19T18:54:22.200703Z",
     "iopub.status.busy": "2025-08-19T18:54:22.200123Z",
     "iopub.status.idle": "2025-08-19T18:54:23.521807Z",
     "shell.execute_reply": "2025-08-19T18:54:23.520309Z"
    },
    "papermill": {
     "duration": 1.337866,
     "end_time": "2025-08-19T18:54:23.524100",
     "exception": false,
     "start_time": "2025-08-19T18:54:22.186234",
     "status": "completed"
    },
    "tags": []
   },
   "outputs": [],
   "source": [
    "probs_calib = model.predict_proba(X_calib)"
   ]
  },
  {
   "cell_type": "code",
   "execution_count": 39,
   "id": "a792d4dd",
   "metadata": {
    "execution": {
     "iopub.execute_input": "2025-08-19T18:54:23.555817Z",
     "iopub.status.busy": "2025-08-19T18:54:23.554732Z",
     "iopub.status.idle": "2025-08-19T18:54:23.567262Z",
     "shell.execute_reply": "2025-08-19T18:54:23.565593Z"
    },
    "papermill": {
     "duration": 0.028588,
     "end_time": "2025-08-19T18:54:23.569224",
     "exception": false,
     "start_time": "2025-08-19T18:54:23.540636",
     "status": "completed"
    },
    "tags": []
   },
   "outputs": [],
   "source": [
    "y_calib = y_calib.values.ravel().astype(int)"
   ]
  },
  {
   "cell_type": "code",
   "execution_count": 40,
   "id": "650fd033",
   "metadata": {
    "execution": {
     "iopub.execute_input": "2025-08-19T18:54:23.603698Z",
     "iopub.status.busy": "2025-08-19T18:54:23.597276Z",
     "iopub.status.idle": "2025-08-19T18:54:23.616519Z",
     "shell.execute_reply": "2025-08-19T18:54:23.615267Z"
    },
    "papermill": {
     "duration": 0.035168,
     "end_time": "2025-08-19T18:54:23.618595",
     "exception": false,
     "start_time": "2025-08-19T18:54:23.583427",
     "status": "completed"
    },
    "tags": []
   },
   "outputs": [],
   "source": [
    "from fairness_multiverse.conformal import compute_nc_scores\n",
    "\n",
    "# Compute nonconformity scores on calibration set (1 - probability of true class)\n",
    "nc_scores = compute_nc_scores(probs_calib, y_calib)"
   ]
  },
  {
   "cell_type": "code",
   "execution_count": 41,
   "id": "28ada44c",
   "metadata": {
    "execution": {
     "iopub.execute_input": "2025-08-19T18:54:23.651131Z",
     "iopub.status.busy": "2025-08-19T18:54:23.650765Z",
     "iopub.status.idle": "2025-08-19T18:54:23.656222Z",
     "shell.execute_reply": "2025-08-19T18:54:23.655512Z"
    },
    "papermill": {
     "duration": 0.019611,
     "end_time": "2025-08-19T18:54:23.657425",
     "exception": false,
     "start_time": "2025-08-19T18:54:23.637814",
     "status": "completed"
    },
    "tags": []
   },
   "outputs": [],
   "source": [
    "from fairness_multiverse.conformal import find_threshold\n",
    "\n",
    "# Find conformal threshold q_hat for the given alpha (split conformal method)\n",
    "q_hat = find_threshold(nc_scores, alpha)"
   ]
  },
  {
   "cell_type": "code",
   "execution_count": 42,
   "id": "df56469e",
   "metadata": {
    "execution": {
     "iopub.execute_input": "2025-08-19T18:54:23.686874Z",
     "iopub.status.busy": "2025-08-19T18:54:23.686342Z",
     "iopub.status.idle": "2025-08-19T18:54:23.691422Z",
     "shell.execute_reply": "2025-08-19T18:54:23.690856Z"
    },
    "papermill": {
     "duration": 0.022479,
     "end_time": "2025-08-19T18:54:23.692600",
     "exception": false,
     "start_time": "2025-08-19T18:54:23.670121",
     "status": "completed"
    },
    "tags": []
   },
   "outputs": [
    {
     "data": {
      "text/plain": [
       "0.6699999999999999"
      ]
     },
     "execution_count": 42,
     "metadata": {},
     "output_type": "execute_result"
    }
   ],
   "source": [
    "q_hat"
   ]
  },
  {
   "cell_type": "code",
   "execution_count": 43,
   "id": "aa1f5faa",
   "metadata": {
    "execution": {
     "iopub.execute_input": "2025-08-19T18:54:23.721768Z",
     "iopub.status.busy": "2025-08-19T18:54:23.720891Z",
     "iopub.status.idle": "2025-08-19T18:54:25.591702Z",
     "shell.execute_reply": "2025-08-19T18:54:25.590857Z"
    },
    "papermill": {
     "duration": 1.887676,
     "end_time": "2025-08-19T18:54:25.594935",
     "exception": false,
     "start_time": "2025-08-19T18:54:23.707259",
     "status": "completed"
    },
    "tags": []
   },
   "outputs": [],
   "source": [
    "from fairness_multiverse.conformal import predict_conformal_sets\n",
    "\n",
    "# Generate prediction sets for each test example\n",
    "pred_sets = predict_conformal_sets(model, X_test, q_hat)"
   ]
  },
  {
   "cell_type": "code",
   "execution_count": 44,
   "id": "97f67a6b",
   "metadata": {
    "execution": {
     "iopub.execute_input": "2025-08-19T18:54:25.636734Z",
     "iopub.status.busy": "2025-08-19T18:54:25.635582Z",
     "iopub.status.idle": "2025-08-19T18:54:25.643748Z",
     "shell.execute_reply": "2025-08-19T18:54:25.642487Z"
    },
    "papermill": {
     "duration": 0.024923,
     "end_time": "2025-08-19T18:54:25.645376",
     "exception": false,
     "start_time": "2025-08-19T18:54:25.620453",
     "status": "completed"
    },
    "tags": []
   },
   "outputs": [],
   "source": [
    "y_true = y_true.squeeze()"
   ]
  },
  {
   "cell_type": "code",
   "execution_count": 45,
   "id": "e700e9a7",
   "metadata": {
    "execution": {
     "iopub.execute_input": "2025-08-19T18:54:25.673571Z",
     "iopub.status.busy": "2025-08-19T18:54:25.672356Z",
     "iopub.status.idle": "2025-08-19T18:54:26.173681Z",
     "shell.execute_reply": "2025-08-19T18:54:26.172536Z"
    },
    "papermill": {
     "duration": 0.517739,
     "end_time": "2025-08-19T18:54:26.176845",
     "exception": false,
     "start_time": "2025-08-19T18:54:25.659106",
     "status": "completed"
    },
    "tags": []
   },
   "outputs": [],
   "source": [
    "from fairness_multiverse.conformal import evaluate_sets\n",
    "\n",
    "# Evaluate coverage and average set size on test data\n",
    "metrics = evaluate_sets(pred_sets, y_true)"
   ]
  },
  {
   "cell_type": "markdown",
   "id": "efbacec0",
   "metadata": {
    "papermill": {
     "duration": 0.013227,
     "end_time": "2025-08-19T18:54:26.215898",
     "exception": false,
     "start_time": "2025-08-19T18:54:26.202671",
     "status": "completed"
    },
    "tags": []
   },
   "source": [
    "# CP Metrics"
   ]
  },
  {
   "cell_type": "code",
   "execution_count": 46,
   "id": "9de55fb1",
   "metadata": {
    "execution": {
     "iopub.execute_input": "2025-08-19T18:54:26.242595Z",
     "iopub.status.busy": "2025-08-19T18:54:26.241351Z",
     "iopub.status.idle": "2025-08-19T18:54:26.253469Z",
     "shell.execute_reply": "2025-08-19T18:54:26.252373Z"
    },
    "papermill": {
     "duration": 0.027843,
     "end_time": "2025-08-19T18:54:26.255309",
     "exception": false,
     "start_time": "2025-08-19T18:54:26.227466",
     "status": "completed"
    },
    "tags": []
   },
   "outputs": [
    {
     "data": {
      "text/plain": [
       "{'coverage': 0.9125181139226396, 'avg_size': 1.1423364173447776}"
      ]
     },
     "execution_count": 46,
     "metadata": {},
     "output_type": "execute_result"
    }
   ],
   "source": [
    "metrics"
   ]
  },
  {
   "cell_type": "code",
   "execution_count": 47,
   "id": "64c340a1",
   "metadata": {
    "execution": {
     "iopub.execute_input": "2025-08-19T18:54:26.285121Z",
     "iopub.status.busy": "2025-08-19T18:54:26.283810Z",
     "iopub.status.idle": "2025-08-19T18:54:26.293973Z",
     "shell.execute_reply": "2025-08-19T18:54:26.292784Z"
    },
    "papermill": {
     "duration": 0.025615,
     "end_time": "2025-08-19T18:54:26.295558",
     "exception": false,
     "start_time": "2025-08-19T18:54:26.269943",
     "status": "completed"
    },
    "tags": []
   },
   "outputs": [],
   "source": [
    "example_universe = universe.copy()\n",
    "universe_training_year = example_universe.get(\"training_year\")\n",
    "universe_training_size = example_universe.get(\"training_size\")\n",
    "universe_scale = example_universe.get(\"scale\")\n",
    "universe_model = example_universe.get(\"model\")\n",
    "universe_exclude_features = example_universe.get(\"exclude_features\")\n",
    "universe_exclude_subgroups = example_universe.get(\"exclude_subgroups\")"
   ]
  },
  {
   "cell_type": "code",
   "execution_count": 48,
   "id": "dbb53cb4",
   "metadata": {
    "execution": {
     "iopub.execute_input": "2025-08-19T18:54:26.325582Z",
     "iopub.status.busy": "2025-08-19T18:54:26.324383Z",
     "iopub.status.idle": "2025-08-19T18:54:26.334172Z",
     "shell.execute_reply": "2025-08-19T18:54:26.332815Z"
    },
    "papermill": {
     "duration": 0.024802,
     "end_time": "2025-08-19T18:54:26.335769",
     "exception": false,
     "start_time": "2025-08-19T18:54:26.310967",
     "status": "completed"
    },
    "tags": []
   },
   "outputs": [],
   "source": [
    "cp_metrics_dict = {\n",
    "    \"universe_id\": [universe_id],\n",
    "    \"universe_training_year\": [universe_training_year],\n",
    "    \"universe_training_size\": [universe_training_size],\n",
    "    \"universe_scale\": [universe_scale],\n",
    "    \"universe_model\": [universe_model],\n",
    "    \"universe_exclude_features\": [universe_exclude_features],\n",
    "    \"universe_exclude_subgroups\": [universe_exclude_subgroups],\n",
    "    \"q_hat\": [q_hat],\n",
    "    \"coverage\": [metrics[\"coverage\"]],\n",
    "    \"avg_size\": [metrics[\"avg_size\"]],\n",
    "}"
   ]
  },
  {
   "cell_type": "code",
   "execution_count": 49,
   "id": "0d70d4b2",
   "metadata": {
    "execution": {
     "iopub.execute_input": "2025-08-19T18:54:26.364207Z",
     "iopub.status.busy": "2025-08-19T18:54:26.363179Z",
     "iopub.status.idle": "2025-08-19T18:54:26.375167Z",
     "shell.execute_reply": "2025-08-19T18:54:26.374030Z"
    },
    "papermill": {
     "duration": 0.028478,
     "end_time": "2025-08-19T18:54:26.378515",
     "exception": false,
     "start_time": "2025-08-19T18:54:26.350037",
     "status": "completed"
    },
    "tags": []
   },
   "outputs": [],
   "source": [
    "cp_metrics_df = pd.DataFrame(cp_metrics_dict)"
   ]
  },
  {
   "cell_type": "code",
   "execution_count": 50,
   "id": "b494403c",
   "metadata": {
    "execution": {
     "iopub.execute_input": "2025-08-19T18:54:26.414915Z",
     "iopub.status.busy": "2025-08-19T18:54:26.414440Z",
     "iopub.status.idle": "2025-08-19T18:54:26.430089Z",
     "shell.execute_reply": "2025-08-19T18:54:26.429327Z"
    },
    "papermill": {
     "duration": 0.031891,
     "end_time": "2025-08-19T18:54:26.432829",
     "exception": false,
     "start_time": "2025-08-19T18:54:26.400938",
     "status": "completed"
    },
    "tags": []
   },
   "outputs": [
    {
     "data": {
      "text/html": [
       "<div>\n",
       "<style scoped>\n",
       "    .dataframe tbody tr th:only-of-type {\n",
       "        vertical-align: middle;\n",
       "    }\n",
       "\n",
       "    .dataframe tbody tr th {\n",
       "        vertical-align: top;\n",
       "    }\n",
       "\n",
       "    .dataframe thead th {\n",
       "        text-align: right;\n",
       "    }\n",
       "</style>\n",
       "<table border=\"1\" class=\"dataframe\">\n",
       "  <thead>\n",
       "    <tr style=\"text-align: right;\">\n",
       "      <th></th>\n",
       "      <th>universe_id</th>\n",
       "      <th>universe_training_year</th>\n",
       "      <th>universe_training_size</th>\n",
       "      <th>universe_scale</th>\n",
       "      <th>universe_model</th>\n",
       "      <th>universe_exclude_features</th>\n",
       "      <th>universe_exclude_subgroups</th>\n",
       "      <th>q_hat</th>\n",
       "      <th>coverage</th>\n",
       "      <th>avg_size</th>\n",
       "    </tr>\n",
       "  </thead>\n",
       "  <tbody>\n",
       "    <tr>\n",
       "      <th>0</th>\n",
       "      <td>d4bc3b49778431e7e40d4473da052581</td>\n",
       "      <td>2014</td>\n",
       "      <td>1k</td>\n",
       "      <td>do-not-scale</td>\n",
       "      <td>rf</td>\n",
       "      <td>none</td>\n",
       "      <td>keep-all</td>\n",
       "      <td>0.67</td>\n",
       "      <td>0.912518</td>\n",
       "      <td>1.142336</td>\n",
       "    </tr>\n",
       "  </tbody>\n",
       "</table>\n",
       "</div>"
      ],
      "text/plain": [
       "                        universe_id universe_training_year  \\\n",
       "0  d4bc3b49778431e7e40d4473da052581                   2014   \n",
       "\n",
       "  universe_training_size universe_scale universe_model  \\\n",
       "0                     1k   do-not-scale             rf   \n",
       "\n",
       "  universe_exclude_features universe_exclude_subgroups  q_hat  coverage  \\\n",
       "0                      none                   keep-all   0.67  0.912518   \n",
       "\n",
       "   avg_size  \n",
       "0  1.142336  "
      ]
     },
     "execution_count": 50,
     "metadata": {},
     "output_type": "execute_result"
    }
   ],
   "source": [
    "cp_metrics_df"
   ]
  },
  {
   "cell_type": "markdown",
   "id": "ed608b0b",
   "metadata": {
    "papermill": {
     "duration": 0.013173,
     "end_time": "2025-08-19T18:54:26.471517",
     "exception": false,
     "start_time": "2025-08-19T18:54:26.458344",
     "status": "completed"
    },
    "tags": []
   },
   "source": [
    "Conditional coverage & looking at subgroups"
   ]
  },
  {
   "cell_type": "code",
   "execution_count": 51,
   "id": "8968c366",
   "metadata": {
    "execution": {
     "iopub.execute_input": "2025-08-19T18:54:26.498174Z",
     "iopub.status.busy": "2025-08-19T18:54:26.497093Z",
     "iopub.status.idle": "2025-08-19T18:54:26.770700Z",
     "shell.execute_reply": "2025-08-19T18:54:26.769817Z"
    },
    "papermill": {
     "duration": 0.29026,
     "end_time": "2025-08-19T18:54:26.773813",
     "exception": false,
     "start_time": "2025-08-19T18:54:26.483553",
     "status": "completed"
    },
    "tags": []
   },
   "outputs": [],
   "source": [
    "from fairness_multiverse.conformal import build_cp_groups\n",
    "\n",
    "cp_groups_df = build_cp_groups(pred_sets, y_true, X_test.index, org_test)"
   ]
  },
  {
   "cell_type": "code",
   "execution_count": 52,
   "id": "292ddabf",
   "metadata": {
    "execution": {
     "iopub.execute_input": "2025-08-19T18:54:26.816166Z",
     "iopub.status.busy": "2025-08-19T18:54:26.815132Z",
     "iopub.status.idle": "2025-08-19T18:54:27.651620Z",
     "shell.execute_reply": "2025-08-19T18:54:27.650728Z"
    },
    "papermill": {
     "duration": 0.853297,
     "end_time": "2025-08-19T18:54:27.653373",
     "exception": false,
     "start_time": "2025-08-19T18:54:26.800076",
     "status": "completed"
    },
    "tags": []
   },
   "outputs": [],
   "source": [
    "# Define covered = 1 if true_label is in the predicted set\n",
    "cp_groups_df['covered'] = cp_groups_df.apply(\n",
    "    lambda r: int(r['true_label'] in r['pred_set']),\n",
    "    axis=1\n",
    ")"
   ]
  },
  {
   "cell_type": "code",
   "execution_count": 53,
   "id": "3a261692",
   "metadata": {
    "execution": {
     "iopub.execute_input": "2025-08-19T18:54:27.680264Z",
     "iopub.status.busy": "2025-08-19T18:54:27.679388Z",
     "iopub.status.idle": "2025-08-19T18:54:27.697771Z",
     "shell.execute_reply": "2025-08-19T18:54:27.696868Z"
    },
    "papermill": {
     "duration": 0.033703,
     "end_time": "2025-08-19T18:54:27.699748",
     "exception": false,
     "start_time": "2025-08-19T18:54:27.666045",
     "status": "completed"
    },
    "tags": []
   },
   "outputs": [],
   "source": [
    "subgroups = ['frau1','nongerman','nongerman_male','nongerman_female']\n",
    "\n",
    "# Conditional coverage for subgroup==1\n",
    "cond_coverage = {\n",
    "    g: cp_groups_df.loc[cp_groups_df[g]==1, 'covered'].mean()\n",
    "    for g in subgroups\n",
    "}"
   ]
  },
  {
   "cell_type": "code",
   "execution_count": 54,
   "id": "894fd600",
   "metadata": {
    "execution": {
     "iopub.execute_input": "2025-08-19T18:54:27.733714Z",
     "iopub.status.busy": "2025-08-19T18:54:27.732455Z",
     "iopub.status.idle": "2025-08-19T18:54:27.742672Z",
     "shell.execute_reply": "2025-08-19T18:54:27.741469Z"
    },
    "papermill": {
     "duration": 0.026318,
     "end_time": "2025-08-19T18:54:27.744226",
     "exception": false,
     "start_time": "2025-08-19T18:54:27.717908",
     "status": "completed"
    },
    "tags": []
   },
   "outputs": [
    {
     "data": {
      "text/plain": [
       "{'frau1': 0.9077503706699016,\n",
       " 'nongerman': 0.9084376578903048,\n",
       " 'nongerman_male': 0.9256056921552733,\n",
       " 'nongerman_female': 0.8800298062593145}"
      ]
     },
     "execution_count": 54,
     "metadata": {},
     "output_type": "execute_result"
    }
   ],
   "source": [
    "cond_coverage"
   ]
  },
  {
   "cell_type": "code",
   "execution_count": 55,
   "id": "942895c7",
   "metadata": {
    "execution": {
     "iopub.execute_input": "2025-08-19T18:54:27.774666Z",
     "iopub.status.busy": "2025-08-19T18:54:27.773431Z",
     "iopub.status.idle": "2025-08-19T18:54:27.784633Z",
     "shell.execute_reply": "2025-08-19T18:54:27.783414Z"
    },
    "papermill": {
     "duration": 0.026435,
     "end_time": "2025-08-19T18:54:27.786024",
     "exception": false,
     "start_time": "2025-08-19T18:54:27.759589",
     "status": "completed"
    },
    "tags": []
   },
   "outputs": [],
   "source": [
    "for subgroup, cov in cond_coverage.items():\n",
    "    cp_metrics_df[f\"cov_{subgroup}\"] = cov"
   ]
  },
  {
   "cell_type": "code",
   "execution_count": 56,
   "id": "3970120f",
   "metadata": {
    "execution": {
     "iopub.execute_input": "2025-08-19T18:54:27.819135Z",
     "iopub.status.busy": "2025-08-19T18:54:27.817979Z",
     "iopub.status.idle": "2025-08-19T18:54:27.846806Z",
     "shell.execute_reply": "2025-08-19T18:54:27.844265Z"
    },
    "papermill": {
     "duration": 0.047635,
     "end_time": "2025-08-19T18:54:27.848760",
     "exception": false,
     "start_time": "2025-08-19T18:54:27.801125",
     "status": "completed"
    },
    "tags": []
   },
   "outputs": [
    {
     "data": {
      "text/html": [
       "<div>\n",
       "<style scoped>\n",
       "    .dataframe tbody tr th:only-of-type {\n",
       "        vertical-align: middle;\n",
       "    }\n",
       "\n",
       "    .dataframe tbody tr th {\n",
       "        vertical-align: top;\n",
       "    }\n",
       "\n",
       "    .dataframe thead th {\n",
       "        text-align: right;\n",
       "    }\n",
       "</style>\n",
       "<table border=\"1\" class=\"dataframe\">\n",
       "  <thead>\n",
       "    <tr style=\"text-align: right;\">\n",
       "      <th></th>\n",
       "      <th>universe_id</th>\n",
       "      <th>universe_training_year</th>\n",
       "      <th>universe_training_size</th>\n",
       "      <th>universe_scale</th>\n",
       "      <th>universe_model</th>\n",
       "      <th>universe_exclude_features</th>\n",
       "      <th>universe_exclude_subgroups</th>\n",
       "      <th>q_hat</th>\n",
       "      <th>coverage</th>\n",
       "      <th>avg_size</th>\n",
       "      <th>cov_frau1</th>\n",
       "      <th>cov_nongerman</th>\n",
       "      <th>cov_nongerman_male</th>\n",
       "      <th>cov_nongerman_female</th>\n",
       "    </tr>\n",
       "  </thead>\n",
       "  <tbody>\n",
       "    <tr>\n",
       "      <th>0</th>\n",
       "      <td>d4bc3b49778431e7e40d4473da052581</td>\n",
       "      <td>2014</td>\n",
       "      <td>1k</td>\n",
       "      <td>do-not-scale</td>\n",
       "      <td>rf</td>\n",
       "      <td>none</td>\n",
       "      <td>keep-all</td>\n",
       "      <td>0.67</td>\n",
       "      <td>0.912518</td>\n",
       "      <td>1.142336</td>\n",
       "      <td>0.90775</td>\n",
       "      <td>0.908438</td>\n",
       "      <td>0.925606</td>\n",
       "      <td>0.88003</td>\n",
       "    </tr>\n",
       "  </tbody>\n",
       "</table>\n",
       "</div>"
      ],
      "text/plain": [
       "                        universe_id universe_training_year  \\\n",
       "0  d4bc3b49778431e7e40d4473da052581                   2014   \n",
       "\n",
       "  universe_training_size universe_scale universe_model  \\\n",
       "0                     1k   do-not-scale             rf   \n",
       "\n",
       "  universe_exclude_features universe_exclude_subgroups  q_hat  coverage  \\\n",
       "0                      none                   keep-all   0.67  0.912518   \n",
       "\n",
       "   avg_size  cov_frau1  cov_nongerman  cov_nongerman_male  \\\n",
       "0  1.142336    0.90775       0.908438            0.925606   \n",
       "\n",
       "   cov_nongerman_female  \n",
       "0               0.88003  "
      ]
     },
     "execution_count": 56,
     "metadata": {},
     "output_type": "execute_result"
    }
   ],
   "source": [
    "cp_metrics_df"
   ]
  },
  {
   "cell_type": "markdown",
   "id": "3fc519cc",
   "metadata": {
    "papermill": {
     "duration": 0.015747,
     "end_time": "2025-08-19T18:54:27.888605",
     "exception": false,
     "start_time": "2025-08-19T18:54:27.872858",
     "status": "completed"
    },
    "tags": []
   },
   "source": [
    "# (Fairness) Metrics"
   ]
  },
  {
   "cell_type": "code",
   "execution_count": 57,
   "id": "a2e5e155",
   "metadata": {
    "execution": {
     "iopub.execute_input": "2025-08-19T18:54:27.919468Z",
     "iopub.status.busy": "2025-08-19T18:54:27.918626Z",
     "iopub.status.idle": "2025-08-19T18:54:27.948026Z",
     "shell.execute_reply": "2025-08-19T18:54:27.947138Z"
    },
    "papermill": {
     "duration": 0.048815,
     "end_time": "2025-08-19T18:54:27.950329",
     "exception": false,
     "start_time": "2025-08-19T18:54:27.901514",
     "status": "completed"
    },
    "tags": []
   },
   "outputs": [],
   "source": [
    "colname_to_bin = \"maxdeutsch1\"\n",
    "majority_value = org_train[colname_to_bin].mode()[0]\n",
    "\n",
    "org_test[\"majmin\"] = np.where(org_test[colname_to_bin] == majority_value, \"majority\", \"minority\")"
   ]
  },
  {
   "cell_type": "code",
   "execution_count": 58,
   "id": "17e3e4d5",
   "metadata": {
    "execution": {
     "iopub.execute_input": "2025-08-19T18:54:27.984301Z",
     "iopub.status.busy": "2025-08-19T18:54:27.983703Z",
     "iopub.status.idle": "2025-08-19T18:54:29.733228Z",
     "shell.execute_reply": "2025-08-19T18:54:29.732258Z"
    },
    "papermill": {
     "duration": 1.765413,
     "end_time": "2025-08-19T18:54:29.734915",
     "exception": false,
     "start_time": "2025-08-19T18:54:27.969502",
     "status": "completed"
    },
    "tags": []
   },
   "outputs": [],
   "source": [
    "example_universe = universe.copy()\n",
    "example_universe[\"cutoff\"] = example_universe[\"cutoff\"][0]\n",
    "example_universe[\"eval_fairness_grouping\"] = example_universe[\"eval_fairness_grouping\"][0]\n",
    "fairness_dict, metric_frame = universe_analysis.compute_metrics(\n",
    "    example_universe,\n",
    "    y_pred_prob=probs_test,\n",
    "    y_test=y_true,\n",
    "    org_test=org_test,\n",
    ")"
   ]
  },
  {
   "cell_type": "markdown",
   "id": "1fb7a0e9",
   "metadata": {
    "papermill": {
     "duration": 0.012319,
     "end_time": "2025-08-19T18:54:29.762961",
     "exception": false,
     "start_time": "2025-08-19T18:54:29.750642",
     "status": "completed"
    },
    "tags": []
   },
   "source": [
    "# Overall"
   ]
  },
  {
   "cell_type": "markdown",
   "id": "be1784b1",
   "metadata": {
    "papermill": {
     "duration": 0.012165,
     "end_time": "2025-08-19T18:54:29.787331",
     "exception": false,
     "start_time": "2025-08-19T18:54:29.775166",
     "status": "completed"
    },
    "tags": []
   },
   "source": [
    "Main fairness target: Equalized Odds. Seems to be a better fit than equal opportunity, since we're not only interested in Y = 1. Seems to be a better fit than demographic parity, since we also care about accuracy, not just equal distribution of preds.\n",
    "\n",
    "Pick column for computation of fairness metrics\n",
    "\n",
    "Performance\n",
    "Overall performance measures, most interesting in relation to the measures split by group below"
   ]
  },
  {
   "cell_type": "code",
   "execution_count": 59,
   "id": "b7672bee",
   "metadata": {
    "execution": {
     "iopub.execute_input": "2025-08-19T18:54:29.819310Z",
     "iopub.status.busy": "2025-08-19T18:54:29.817816Z",
     "iopub.status.idle": "2025-08-19T18:54:29.835433Z",
     "shell.execute_reply": "2025-08-19T18:54:29.834406Z"
    },
    "papermill": {
     "duration": 0.037782,
     "end_time": "2025-08-19T18:54:29.837284",
     "exception": false,
     "start_time": "2025-08-19T18:54:29.799502",
     "status": "completed"
    },
    "tags": []
   },
   "outputs": [
    {
     "data": {
      "text/plain": [
       "accuracy                   0.204927\n",
       "balanced accuracy          0.530809\n",
       "f1                         0.238231\n",
       "precision                  0.135807\n",
       "false positive rate        0.907534\n",
       "false negative rate        0.030848\n",
       "selection rate             0.915439\n",
       "count                  89710.000000\n",
       "dtype: float64"
      ]
     },
     "execution_count": 59,
     "metadata": {},
     "output_type": "execute_result"
    }
   ],
   "source": [
    "metric_frame.overall"
   ]
  },
  {
   "cell_type": "markdown",
   "id": "d93333c9",
   "metadata": {
    "papermill": {
     "duration": 0.012868,
     "end_time": "2025-08-19T18:54:29.873099",
     "exception": false,
     "start_time": "2025-08-19T18:54:29.860231",
     "status": "completed"
    },
    "tags": []
   },
   "source": [
    "By Group"
   ]
  },
  {
   "cell_type": "code",
   "execution_count": 60,
   "id": "52256966",
   "metadata": {
    "execution": {
     "iopub.execute_input": "2025-08-19T18:54:29.899284Z",
     "iopub.status.busy": "2025-08-19T18:54:29.898917Z",
     "iopub.status.idle": "2025-08-19T18:54:29.911528Z",
     "shell.execute_reply": "2025-08-19T18:54:29.910789Z"
    },
    "papermill": {
     "duration": 0.027507,
     "end_time": "2025-08-19T18:54:29.912909",
     "exception": false,
     "start_time": "2025-08-19T18:54:29.885402",
     "status": "completed"
    },
    "tags": []
   },
   "outputs": [
    {
     "data": {
      "text/html": [
       "<div>\n",
       "<style scoped>\n",
       "    .dataframe tbody tr th:only-of-type {\n",
       "        vertical-align: middle;\n",
       "    }\n",
       "\n",
       "    .dataframe tbody tr th {\n",
       "        vertical-align: top;\n",
       "    }\n",
       "\n",
       "    .dataframe thead th {\n",
       "        text-align: right;\n",
       "    }\n",
       "</style>\n",
       "<table border=\"1\" class=\"dataframe\">\n",
       "  <thead>\n",
       "    <tr style=\"text-align: right;\">\n",
       "      <th></th>\n",
       "      <th>accuracy</th>\n",
       "      <th>balanced accuracy</th>\n",
       "      <th>f1</th>\n",
       "      <th>precision</th>\n",
       "      <th>false positive rate</th>\n",
       "      <th>false negative rate</th>\n",
       "      <th>selection rate</th>\n",
       "      <th>count</th>\n",
       "    </tr>\n",
       "    <tr>\n",
       "      <th>majmin</th>\n",
       "      <th></th>\n",
       "      <th></th>\n",
       "      <th></th>\n",
       "      <th></th>\n",
       "      <th></th>\n",
       "      <th></th>\n",
       "      <th></th>\n",
       "      <th></th>\n",
       "    </tr>\n",
       "  </thead>\n",
       "  <tbody>\n",
       "    <tr>\n",
       "      <th>majority</th>\n",
       "      <td>0.198887</td>\n",
       "      <td>0.533401</td>\n",
       "      <td>0.245825</td>\n",
       "      <td>0.140375</td>\n",
       "      <td>0.921273</td>\n",
       "      <td>0.011926</td>\n",
       "      <td>0.930100</td>\n",
       "      <td>69170.0</td>\n",
       "    </tr>\n",
       "    <tr>\n",
       "      <th>minority</th>\n",
       "      <td>0.225268</td>\n",
       "      <td>0.516982</td>\n",
       "      <td>0.210547</td>\n",
       "      <td>0.119287</td>\n",
       "      <td>0.862151</td>\n",
       "      <td>0.103885</td>\n",
       "      <td>0.866066</td>\n",
       "      <td>20540.0</td>\n",
       "    </tr>\n",
       "  </tbody>\n",
       "</table>\n",
       "</div>"
      ],
      "text/plain": [
       "          accuracy  balanced accuracy        f1  precision  \\\n",
       "majmin                                                       \n",
       "majority  0.198887           0.533401  0.245825   0.140375   \n",
       "minority  0.225268           0.516982  0.210547   0.119287   \n",
       "\n",
       "          false positive rate  false negative rate  selection rate    count  \n",
       "majmin                                                                       \n",
       "majority             0.921273             0.011926        0.930100  69170.0  \n",
       "minority             0.862151             0.103885        0.866066  20540.0  "
      ]
     },
     "execution_count": 60,
     "metadata": {},
     "output_type": "execute_result"
    }
   ],
   "source": [
    "metric_frame.by_group"
   ]
  },
  {
   "cell_type": "code",
   "execution_count": 61,
   "id": "6e6c20ae",
   "metadata": {
    "execution": {
     "iopub.execute_input": "2025-08-19T18:54:29.954901Z",
     "iopub.status.busy": "2025-08-19T18:54:29.953785Z",
     "iopub.status.idle": "2025-08-19T18:54:31.844655Z",
     "shell.execute_reply": "2025-08-19T18:54:31.843701Z"
    },
    "papermill": {
     "duration": 1.909102,
     "end_time": "2025-08-19T18:54:31.849091",
     "exception": false,
     "start_time": "2025-08-19T18:54:29.939989",
     "status": "completed"
    },
    "tags": []
   },
   "outputs": [
    {
     "data": {
      "text/plain": [
       "array([[<Axes: title={'center': 'accuracy'}, xlabel='majmin'>,\n",
       "        <Axes: title={'center': 'balanced accuracy'}, xlabel='majmin'>,\n",
       "        <Axes: title={'center': 'f1'}, xlabel='majmin'>],\n",
       "       [<Axes: title={'center': 'precision'}, xlabel='majmin'>,\n",
       "        <Axes: title={'center': 'false positive rate'}, xlabel='majmin'>,\n",
       "        <Axes: title={'center': 'false negative rate'}, xlabel='majmin'>],\n",
       "       [<Axes: title={'center': 'selection rate'}, xlabel='majmin'>,\n",
       "        <Axes: title={'center': 'count'}, xlabel='majmin'>,\n",
       "        <Axes: xlabel='majmin'>]], dtype=object)"
      ]
     },
     "execution_count": 61,
     "metadata": {},
     "output_type": "execute_result"
    },
    {
     "data": {
      "image/png": "[encoded data removed]",
      "text/plain": [
       "<Figure size 1200x800 with 9 Axes>"
      ]
     },
     "metadata": {},
     "output_type": "display_data"
    }
   ],
   "source": [
    "# In a graphic\n",
    "metric_frame.by_group.plot.bar(\n",
    "    subplots=True,\n",
    "    layout=[3, 3],\n",
    "    legend=False,\n",
    "    figsize=[12, 8],\n",
    "    title=\"Show all metrics\",\n",
    ")"
   ]
  },
  {
   "cell_type": "markdown",
   "id": "b2e433ae",
   "metadata": {
    "papermill": {
     "duration": 0.013742,
     "end_time": "2025-08-19T18:54:31.890507",
     "exception": false,
     "start_time": "2025-08-19T18:54:31.876765",
     "status": "completed"
    },
    "tags": []
   },
   "source": [
    "# Final Output"
   ]
  },
  {
   "cell_type": "code",
   "execution_count": 62,
   "id": "3871301e",
   "metadata": {
    "execution": {
     "iopub.execute_input": "2025-08-19T18:54:31.924903Z",
     "iopub.status.busy": "2025-08-19T18:54:31.921695Z",
     "iopub.status.idle": "2025-08-19T18:54:31.940334Z",
     "shell.execute_reply": "2025-08-19T18:54:31.939345Z"
    },
    "papermill": {
     "duration": 0.039675,
     "end_time": "2025-08-19T18:54:31.944644",
     "exception": false,
     "start_time": "2025-08-19T18:54:31.904969",
     "status": "completed"
    },
    "tags": []
   },
   "outputs": [
    {
     "data": {
      "text/plain": [
       "4"
      ]
     },
     "execution_count": 62,
     "metadata": {},
     "output_type": "execute_result"
    }
   ],
   "source": [
    "sub_universes = universe_analysis.generate_sub_universes()\n",
    "len(sub_universes)"
   ]
  },
  {
   "cell_type": "code",
   "execution_count": 63,
   "id": "d9cfdaca",
   "metadata": {
    "execution": {
     "iopub.execute_input": "2025-08-19T18:54:31.998160Z",
     "iopub.status.busy": "2025-08-19T18:54:31.996412Z",
     "iopub.status.idle": "2025-08-19T18:54:32.082741Z",
     "shell.execute_reply": "2025-08-19T18:54:32.081499Z"
    },
    "papermill": {
     "duration": 0.123028,
     "end_time": "2025-08-19T18:54:32.084721",
     "exception": false,
     "start_time": "2025-08-19T18:54:31.961693",
     "status": "completed"
    },
    "tags": []
   },
   "outputs": [],
   "source": [
    "def filter_sub_universe_data(sub_universe, org_test):\n",
    "    # Keep all rows — no filtering\n",
    "    keep_rows_mask = np.ones(org_test.shape[0], dtype=bool)\n",
    "\n",
    "    print(f\"[INFO] Keeping all rows: {keep_rows_mask.sum()} rows retained.\")\n",
    "    return keep_rows_mask"
   ]
  },
  {
   "cell_type": "code",
   "execution_count": 64,
   "id": "2bc31ac1",
   "metadata": {
    "execution": {
     "iopub.execute_input": "2025-08-19T18:54:32.117165Z",
     "iopub.status.busy": "2025-08-19T18:54:32.115582Z",
     "iopub.status.idle": "2025-08-19T18:54:38.917437Z",
     "shell.execute_reply": "2025-08-19T18:54:38.916359Z"
    },
    "papermill": {
     "duration": 6.819208,
     "end_time": "2025-08-19T18:54:38.918867",
     "exception": false,
     "start_time": "2025-08-19T18:54:32.099659",
     "status": "completed"
    },
    "tags": []
   },
   "outputs": [
    {
     "name": "stdout",
     "output_type": "stream",
     "text": [
      "Stopping execution_time clock.\n",
      "[INFO] Keeping all rows: 89710 rows retained.\n"
     ]
    },
    {
     "name": "stdout",
     "output_type": "stream",
     "text": [
      "[INFO] Keeping all rows: 89710 rows retained.\n"
     ]
    },
    {
     "name": "stdout",
     "output_type": "stream",
     "text": [
      "[INFO] Keeping all rows: 89710 rows retained.\n"
     ]
    },
    {
     "name": "stdout",
     "output_type": "stream",
     "text": [
      "[INFO] Keeping all rows: 89710 rows retained.\n"
     ]
    },
    {
     "data": {
      "text/html": [
       "<div>\n",
       "<style scoped>\n",
       "    .dataframe tbody tr th:only-of-type {\n",
       "        vertical-align: middle;\n",
       "    }\n",
       "\n",
       "    .dataframe tbody tr th {\n",
       "        vertical-align: top;\n",
       "    }\n",
       "\n",
       "    .dataframe thead th {\n",
       "        text-align: right;\n",
       "    }\n",
       "</style>\n",
       "<table border=\"1\" class=\"dataframe\">\n",
       "  <thead>\n",
       "    <tr style=\"text-align: right;\">\n",
       "      <th></th>\n",
       "      <th>run_no</th>\n",
       "      <th>universe_id</th>\n",
       "      <th>universe_settings</th>\n",
       "      <th>execution_time</th>\n",
       "      <th>test_size_n</th>\n",
       "      <th>test_size_frac</th>\n",
       "      <th>fair_main_equalized_odds_difference</th>\n",
       "      <th>fair_main_equalized_odds_ratio</th>\n",
       "      <th>fair_main_demographic_parity_difference</th>\n",
       "      <th>fair_main_demographic_parity_ratio</th>\n",
       "      <th>...</th>\n",
       "      <th>perf_grp_precision_0</th>\n",
       "      <th>perf_grp_precision_1</th>\n",
       "      <th>perf_grp_false positive rate_0</th>\n",
       "      <th>perf_grp_false positive rate_1</th>\n",
       "      <th>perf_grp_false negative rate_0</th>\n",
       "      <th>perf_grp_false negative rate_1</th>\n",
       "      <th>perf_grp_selection rate_0</th>\n",
       "      <th>perf_grp_selection rate_1</th>\n",
       "      <th>perf_grp_count_0</th>\n",
       "      <th>perf_grp_count_1</th>\n",
       "    </tr>\n",
       "  </thead>\n",
       "  <tbody>\n",
       "    <tr>\n",
       "      <th>0</th>\n",
       "      <td>3</td>\n",
       "      <td>d4bc3b49778431e7e40d4473da052581</td>\n",
       "      <td>{\"cutoff\": \"quantile_0.1\", \"eval_fairness_grou...</td>\n",
       "      <td>26.236361</td>\n",
       "      <td>89710</td>\n",
       "      <td>1.0</td>\n",
       "      <td>0.091960</td>\n",
       "      <td>0.906931</td>\n",
       "      <td>0.064034</td>\n",
       "      <td>0.931154</td>\n",
       "      <td>...</td>\n",
       "      <td>NaN</td>\n",
       "      <td>NaN</td>\n",
       "      <td>NaN</td>\n",
       "      <td>NaN</td>\n",
       "      <td>NaN</td>\n",
       "      <td>NaN</td>\n",
       "      <td>NaN</td>\n",
       "      <td>NaN</td>\n",
       "      <td>NaN</td>\n",
       "      <td>NaN</td>\n",
       "    </tr>\n",
       "    <tr>\n",
       "      <th>0</th>\n",
       "      <td>3</td>\n",
       "      <td>d4bc3b49778431e7e40d4473da052581</td>\n",
       "      <td>{\"cutoff\": \"quantile_0.1\", \"eval_fairness_grou...</td>\n",
       "      <td>26.236361</td>\n",
       "      <td>89710</td>\n",
       "      <td>1.0</td>\n",
       "      <td>0.091960</td>\n",
       "      <td>0.906931</td>\n",
       "      <td>0.064034</td>\n",
       "      <td>0.931154</td>\n",
       "      <td>...</td>\n",
       "      <td>0.119287</td>\n",
       "      <td>0.140375</td>\n",
       "      <td>0.862151</td>\n",
       "      <td>0.921273</td>\n",
       "      <td>0.103885</td>\n",
       "      <td>0.011926</td>\n",
       "      <td>0.866066</td>\n",
       "      <td>0.93010</td>\n",
       "      <td>20540.0</td>\n",
       "      <td>69170.0</td>\n",
       "    </tr>\n",
       "    <tr>\n",
       "      <th>0</th>\n",
       "      <td>3</td>\n",
       "      <td>d4bc3b49778431e7e40d4473da052581</td>\n",
       "      <td>{\"cutoff\": \"quantile_0.25\", \"eval_fairness_gro...</td>\n",
       "      <td>26.236361</td>\n",
       "      <td>89710</td>\n",
       "      <td>1.0</td>\n",
       "      <td>0.118376</td>\n",
       "      <td>0.874541</td>\n",
       "      <td>0.054302</td>\n",
       "      <td>0.929641</td>\n",
       "      <td>...</td>\n",
       "      <td>NaN</td>\n",
       "      <td>NaN</td>\n",
       "      <td>NaN</td>\n",
       "      <td>NaN</td>\n",
       "      <td>NaN</td>\n",
       "      <td>NaN</td>\n",
       "      <td>NaN</td>\n",
       "      <td>NaN</td>\n",
       "      <td>NaN</td>\n",
       "      <td>NaN</td>\n",
       "    </tr>\n",
       "    <tr>\n",
       "      <th>0</th>\n",
       "      <td>3</td>\n",
       "      <td>d4bc3b49778431e7e40d4473da052581</td>\n",
       "      <td>{\"cutoff\": \"quantile_0.25\", \"eval_fairness_gro...</td>\n",
       "      <td>26.236361</td>\n",
       "      <td>89710</td>\n",
       "      <td>1.0</td>\n",
       "      <td>0.118376</td>\n",
       "      <td>0.874541</td>\n",
       "      <td>0.054302</td>\n",
       "      <td>0.929641</td>\n",
       "      <td>...</td>\n",
       "      <td>0.132591</td>\n",
       "      <td>0.161547</td>\n",
       "      <td>0.703445</td>\n",
       "      <td>0.745627</td>\n",
       "      <td>0.174831</td>\n",
       "      <td>0.056455</td>\n",
       "      <td>0.717478</td>\n",
       "      <td>0.77178</td>\n",
       "      <td>20540.0</td>\n",
       "      <td>69170.0</td>\n",
       "    </tr>\n",
       "  </tbody>\n",
       "</table>\n",
       "<p>4 rows × 50 columns</p>\n",
       "</div>"
      ],
      "text/plain": [
       "  run_no                       universe_id  \\\n",
       "0      3  d4bc3b49778431e7e40d4473da052581   \n",
       "0      3  d4bc3b49778431e7e40d4473da052581   \n",
       "0      3  d4bc3b49778431e7e40d4473da052581   \n",
       "0      3  d4bc3b49778431e7e40d4473da052581   \n",
       "\n",
       "                                   universe_settings  execution_time  \\\n",
       "0  {\"cutoff\": \"quantile_0.1\", \"eval_fairness_grou...       26.236361   \n",
       "0  {\"cutoff\": \"quantile_0.1\", \"eval_fairness_grou...       26.236361   \n",
       "0  {\"cutoff\": \"quantile_0.25\", \"eval_fairness_gro...       26.236361   \n",
       "0  {\"cutoff\": \"quantile_0.25\", \"eval_fairness_gro...       26.236361   \n",
       "\n",
       "   test_size_n  test_size_frac  fair_main_equalized_odds_difference  \\\n",
       "0        89710             1.0                             0.091960   \n",
       "0        89710             1.0                             0.091960   \n",
       "0        89710             1.0                             0.118376   \n",
       "0        89710             1.0                             0.118376   \n",
       "\n",
       "   fair_main_equalized_odds_ratio  fair_main_demographic_parity_difference  \\\n",
       "0                        0.906931                                 0.064034   \n",
       "0                        0.906931                                 0.064034   \n",
       "0                        0.874541                                 0.054302   \n",
       "0                        0.874541                                 0.054302   \n",
       "\n",
       "   fair_main_demographic_parity_ratio  ...  perf_grp_precision_0  \\\n",
       "0                            0.931154  ...                   NaN   \n",
       "0                            0.931154  ...              0.119287   \n",
       "0                            0.929641  ...                   NaN   \n",
       "0                            0.929641  ...              0.132591   \n",
       "\n",
       "   perf_grp_precision_1  perf_grp_false positive rate_0  \\\n",
       "0                   NaN                             NaN   \n",
       "0              0.140375                        0.862151   \n",
       "0                   NaN                             NaN   \n",
       "0              0.161547                        0.703445   \n",
       "\n",
       "   perf_grp_false positive rate_1  perf_grp_false negative rate_0  \\\n",
       "0                             NaN                             NaN   \n",
       "0                        0.921273                        0.103885   \n",
       "0                             NaN                             NaN   \n",
       "0                        0.745627                        0.174831   \n",
       "\n",
       "   perf_grp_false negative rate_1  perf_grp_selection rate_0  \\\n",
       "0                             NaN                        NaN   \n",
       "0                        0.011926                   0.866066   \n",
       "0                             NaN                        NaN   \n",
       "0                        0.056455                   0.717478   \n",
       "\n",
       "   perf_grp_selection rate_1  perf_grp_count_0  perf_grp_count_1  \n",
       "0                        NaN               NaN               NaN  \n",
       "0                    0.93010           20540.0           69170.0  \n",
       "0                        NaN               NaN               NaN  \n",
       "0                    0.77178           20540.0           69170.0  \n",
       "\n",
       "[4 rows x 50 columns]"
      ]
     },
     "execution_count": 64,
     "metadata": {},
     "output_type": "execute_result"
    }
   ],
   "source": [
    "final_output = universe_analysis.generate_final_output(\n",
    "    y_pred_prob=probs_test,\n",
    "    y_test=y_true,\n",
    "    org_test=org_test,\n",
    "    filter_data=filter_sub_universe_data,\n",
    "    cp_metrics_df=cp_metrics_df,\n",
    "    save=True,\n",
    ")\n",
    "final_output"
   ]
  },
  {
   "cell_type": "code",
   "execution_count": null,
   "id": "8b80a1ff",
   "metadata": {
    "papermill": {
     "duration": 0.014839,
     "end_time": "2025-08-19T18:54:38.951978",
     "exception": false,
     "start_time": "2025-08-19T18:54:38.937139",
     "status": "completed"
    },
    "tags": []
   },
   "outputs": [],
   "source": []
  },
  {
   "cell_type": "code",
   "execution_count": null,
   "id": "275c9fad",
   "metadata": {
    "papermill": {
     "duration": 0.014332,
     "end_time": "2025-08-19T18:54:38.980825",
     "exception": false,
     "start_time": "2025-08-19T18:54:38.966493",
     "status": "completed"
    },
    "tags": []
   },
   "outputs": [],
   "source": []
  }
 ],
 "metadata": {
  "celltoolbar": "Tags",
  "kernelspec": {
   "display_name": "Python (CMA Fairness)",
   "language": "python",
   "name": "cma_fair_env"
  },
  "language_info": {
   "codemirror_mode": {
    "name": "ipython",
    "version": 3
   },
   "file_extension": ".py",
   "mimetype": "text/x-python",
   "name": "python",
   "nbconvert_exporter": "python",
   "pygments_lexer": "ipython3",
   "version": "3.10.12"
  },
  "papermill": {
   "default_parameters": {},
   "duration": 36.59524,
   "end_time": "2025-08-19T18:54:39.819203",
   "environment_variables": {},
   "exception": null,
   "input_path": "universe_analysis.ipynb",
   "output_path": "output/runs/3/notebooks/m_3-d4bc3b49778431e7e40d4473da052581.ipynb",
   "parameters": {
    "output_dir": "output",
    "run_no": "3",
    "seed": "2023",
    "universe": "{\"cutoff\": [\"quantile_0.1\", \"quantile_0.25\"], \"eval_fairness_grouping\": [\"majority-minority\", \"nationality-all\"], \"exclude_features\": \"none\", \"exclude_subgroups\": \"keep-all\", \"model\": \"rf\", \"scale\": \"do-not-scale\", \"training_size\": \"1k\", \"training_year\": \"2014\"}",
    "universe_id": "d4bc3b49778431e7e40d4473da052581"
   },
   "start_time": "2025-08-19T18:54:03.223963",
   "version": "2.6.0"
  }
 },
 "nbformat": 4,
 "nbformat_minor": 5
}