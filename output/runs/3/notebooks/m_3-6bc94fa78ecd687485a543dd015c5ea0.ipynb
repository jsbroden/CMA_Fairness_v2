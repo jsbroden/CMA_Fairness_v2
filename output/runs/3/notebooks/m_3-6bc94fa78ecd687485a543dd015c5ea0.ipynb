{
 "cells": [
  {
   "cell_type": "markdown",
   "id": "ef23dbb3",
   "metadata": {
    "papermill": {
     "duration": 0.025387,
     "end_time": "2025-08-19T18:26:59.429618",
     "exception": false,
     "start_time": "2025-08-19T18:26:59.404231",
     "status": "completed"
    },
    "tags": []
   },
   "source": [
    "# Setup"
   ]
  },
  {
   "cell_type": "code",
   "execution_count": 1,
   "id": "0bc8e7dc",
   "metadata": {
    "execution": {
     "iopub.execute_input": "2025-08-19T18:26:59.451097Z",
     "iopub.status.busy": "2025-08-19T18:26:59.450785Z",
     "iopub.status.idle": "2025-08-19T18:26:59.462217Z",
     "shell.execute_reply": "2025-08-19T18:26:59.461370Z"
    },
    "papermill": {
     "duration": 0.023739,
     "end_time": "2025-08-19T18:26:59.464687",
     "exception": false,
     "start_time": "2025-08-19T18:26:59.440948",
     "status": "completed"
    },
    "tags": []
   },
   "outputs": [
    {
     "name": "stdout",
     "output_type": "stream",
     "text": [
      "/dss/dsshome1/0C/ra93lal2/cma/CMA_Fairness_v2\n"
     ]
    },
    {
     "name": "stderr",
     "output_type": "stream",
     "text": [
      "/dss/dsshome1/0C/ra93lal2/.local/share/virtualenvs/CMA_Fairness_v2-3j10GkSs/lib/python3.10/site-packages/IPython/core/magics/osm.py:393: UserWarning: This is now an optional IPython functionality, using bookmarks requires you to install the `pickleshare` library.\n",
      "  bkms = self.shell.db.get('bookmarks', {})\n",
      "/dss/dsshome1/0C/ra93lal2/.local/share/virtualenvs/CMA_Fairness_v2-3j10GkSs/lib/python3.10/site-packages/IPython/core/magics/osm.py:417: UserWarning: This is now an optional IPython functionality, setting dhist requires you to install the `pickleshare` library.\n",
      "  self.shell.db['dhist'] = compress_dhist(dhist)[-100:]\n"
     ]
    }
   ],
   "source": [
    "%cd ~/cma/CMA_Fairness_v2"
   ]
  },
  {
   "cell_type": "markdown",
   "id": "9d235661",
   "metadata": {
    "papermill": {
     "duration": 0.008729,
     "end_time": "2025-08-19T18:26:59.484285",
     "exception": false,
     "start_time": "2025-08-19T18:26:59.475556",
     "status": "completed"
    },
    "tags": []
   },
   "source": [
    "The following cell holds the definition of our parameters, these values can be overriden by rendering the with e.g. the following command:\n",
    "\n",
    "papermill -p alpha 0.2 -p ratio 0.3 universe_analysis.ipynb output/test_run.ipynb"
   ]
  },
  {
   "cell_type": "code",
   "execution_count": 2,
   "id": "4a789d8e",
   "metadata": {
    "execution": {
     "iopub.execute_input": "2025-08-19T18:26:59.502868Z",
     "iopub.status.busy": "2025-08-19T18:26:59.502568Z",
     "iopub.status.idle": "2025-08-19T18:26:59.507941Z",
     "shell.execute_reply": "2025-08-19T18:26:59.507027Z"
    },
    "papermill": {
     "duration": 0.016854,
     "end_time": "2025-08-19T18:26:59.509767",
     "exception": false,
     "start_time": "2025-08-19T18:26:59.492913",
     "status": "completed"
    },
    "tags": []
   },
   "outputs": [
    {
     "name": "stdout",
     "output_type": "stream",
     "text": [
      "Current working directory: /dss/dsshome1/0C/ra93lal2/cma/CMA_Fairness_v2\n"
     ]
    }
   ],
   "source": [
    "import os\n",
    "print(\"Current working directory:\", os.getcwd())"
   ]
  },
  {
   "cell_type": "code",
   "execution_count": 3,
   "id": "4132aaed",
   "metadata": {
    "execution": {
     "iopub.execute_input": "2025-08-19T18:26:59.533850Z",
     "iopub.status.busy": "2025-08-19T18:26:59.533562Z",
     "iopub.status.idle": "2025-08-19T18:26:59.538145Z",
     "shell.execute_reply": "2025-08-19T18:26:59.537424Z"
    },
    "papermill": {
     "duration": 0.018887,
     "end_time": "2025-08-19T18:26:59.539468",
     "exception": false,
     "start_time": "2025-08-19T18:26:59.520581",
     "status": "completed"
    },
    "tags": [
     "parameters"
    ]
   },
   "outputs": [],
   "source": [
    "run_no = 0\n",
    "universe_id = \"test\"\n",
    "universe = {\n",
    "    \"training_size\": \"5k\", # \"25k\", \"5k\", \"1k\"\n",
    "    \"training_year\": \"2012_14\", # \"2014\", \"2012_14\", \"2010_14\"\n",
    "    \"scale\": \"scale\", # \"scale\", \"do-not-scale\",\n",
    "    \"model\": \"elasticnet\", # \"logreg\", \"penalized_logreg\", \"rf\", \"gbm\", \"elasticnet\"\n",
    "    \"cutoff\": [\"quantile_0.15\", \"quantile_0.30\"],\n",
    "    \"exclude_features\": \"age\", # \"none\", \"nationality\", \"sex\", \"nationality-sex\", \"age\"\n",
    "    \"exclude_subgroups\": \"drop-non-german\", # \"keep-all\", \"drop-non-german\"\n",
    "    \"eval_fairness_grouping\": [\"majority-minority\", \"nationality-all\"]\n",
    "}\n",
    "\n",
    "output_dir=\"./output\"\n",
    "seed=0"
   ]
  },
  {
   "cell_type": "code",
   "execution_count": 4,
   "id": "fd17c065",
   "metadata": {
    "execution": {
     "iopub.execute_input": "2025-08-19T18:26:59.558445Z",
     "iopub.status.busy": "2025-08-19T18:26:59.558034Z",
     "iopub.status.idle": "2025-08-19T18:26:59.562593Z",
     "shell.execute_reply": "2025-08-19T18:26:59.561933Z"
    },
    "papermill": {
     "duration": 0.015585,
     "end_time": "2025-08-19T18:26:59.563981",
     "exception": false,
     "start_time": "2025-08-19T18:26:59.548396",
     "status": "completed"
    },
    "tags": [
     "injected-parameters"
    ]
   },
   "outputs": [],
   "source": [
    "# Parameters\n",
    "universe_id = \"6bc94fa78ecd687485a543dd015c5ea0\"\n",
    "run_no = \"3\"\n",
    "universe = \"{\\\"cutoff\\\": [\\\"quantile_0.1\\\", \\\"quantile_0.25\\\"], \\\"eval_fairness_grouping\\\": [\\\"majority-minority\\\", \\\"nationality-all\\\"], \\\"exclude_features\\\": \\\"sex\\\", \\\"exclude_subgroups\\\": \\\"keep-all\\\", \\\"model\\\": \\\"logreg\\\", \\\"scale\\\": \\\"do-not-scale\\\", \\\"training_size\\\": \\\"5k\\\", \\\"training_year\\\": \\\"2014\\\"}\"\n",
    "output_dir = \"output\"\n",
    "seed = \"2023\"\n"
   ]
  },
  {
   "cell_type": "code",
   "execution_count": 5,
   "id": "a5d7941f",
   "metadata": {
    "execution": {
     "iopub.execute_input": "2025-08-19T18:26:59.583017Z",
     "iopub.status.busy": "2025-08-19T18:26:59.582617Z",
     "iopub.status.idle": "2025-08-19T18:26:59.609780Z",
     "shell.execute_reply": "2025-08-19T18:26:59.608657Z"
    },
    "papermill": {
     "duration": 0.039264,
     "end_time": "2025-08-19T18:26:59.612175",
     "exception": false,
     "start_time": "2025-08-19T18:26:59.572911",
     "status": "completed"
    },
    "tags": []
   },
   "outputs": [],
   "source": [
    "import json\n",
    "if isinstance(universe, str):\n",
    "    universe = json.loads(universe)"
   ]
  },
  {
   "cell_type": "code",
   "execution_count": 6,
   "id": "7076ccb1",
   "metadata": {
    "execution": {
     "iopub.execute_input": "2025-08-19T18:26:59.637919Z",
     "iopub.status.busy": "2025-08-19T18:26:59.637519Z",
     "iopub.status.idle": "2025-08-19T18:26:59.671718Z",
     "shell.execute_reply": "2025-08-19T18:26:59.670963Z"
    },
    "papermill": {
     "duration": 0.048233,
     "end_time": "2025-08-19T18:26:59.674863",
     "exception": false,
     "start_time": "2025-08-19T18:26:59.626630",
     "status": "completed"
    },
    "tags": []
   },
   "outputs": [],
   "source": [
    "# Auto-reload the custom package\n",
    "%load_ext autoreload\n",
    "%autoreload 1\n",
    "%aimport fairness_multiverse"
   ]
  },
  {
   "cell_type": "code",
   "execution_count": 7,
   "id": "94c8eb93",
   "metadata": {
    "execution": {
     "iopub.execute_input": "2025-08-19T18:26:59.726801Z",
     "iopub.status.busy": "2025-08-19T18:26:59.725977Z",
     "iopub.status.idle": "2025-08-19T18:27:01.231445Z",
     "shell.execute_reply": "2025-08-19T18:27:01.230735Z"
    },
    "papermill": {
     "duration": 1.533489,
     "end_time": "2025-08-19T18:27:01.233284",
     "exception": false,
     "start_time": "2025-08-19T18:26:59.699795",
     "status": "completed"
    },
    "tags": []
   },
   "outputs": [],
   "source": [
    "from fairness_multiverse.universe import UniverseAnalysis\n",
    "\n",
    "universe_analysis = UniverseAnalysis(\n",
    "    run_no = run_no,\n",
    "    universe_id = universe_id,\n",
    "    universe = universe,\n",
    "    output_dir=output_dir,\n",
    ")"
   ]
  },
  {
   "cell_type": "code",
   "execution_count": 8,
   "id": "2a6381cf",
   "metadata": {
    "execution": {
     "iopub.execute_input": "2025-08-19T18:27:01.257587Z",
     "iopub.status.busy": "2025-08-19T18:27:01.257188Z",
     "iopub.status.idle": "2025-08-19T18:27:01.262298Z",
     "shell.execute_reply": "2025-08-19T18:27:01.261742Z"
    },
    "papermill": {
     "duration": 0.019541,
     "end_time": "2025-08-19T18:27:01.263463",
     "exception": false,
     "start_time": "2025-08-19T18:27:01.243922",
     "status": "completed"
    },
    "tags": []
   },
   "outputs": [
    {
     "name": "stdout",
     "output_type": "stream",
     "text": [
      "Using Seed: 2023\n"
     ]
    }
   ],
   "source": [
    "import numpy as np\n",
    "parsed_seed = int(seed)\n",
    "np.random.seed(parsed_seed)\n",
    "print(f\"Using Seed: {parsed_seed}\")"
   ]
  },
  {
   "cell_type": "markdown",
   "id": "b6e958b4",
   "metadata": {
    "papermill": {
     "duration": 0.009173,
     "end_time": "2025-08-19T18:27:01.282134",
     "exception": false,
     "start_time": "2025-08-19T18:27:01.272961",
     "status": "completed"
    },
    "tags": []
   },
   "source": [
    "# Loading Data"
   ]
  },
  {
   "cell_type": "code",
   "execution_count": 9,
   "id": "98701482",
   "metadata": {
    "execution": {
     "iopub.execute_input": "2025-08-19T18:27:01.304859Z",
     "iopub.status.busy": "2025-08-19T18:27:01.303878Z",
     "iopub.status.idle": "2025-08-19T18:27:11.276991Z",
     "shell.execute_reply": "2025-08-19T18:27:11.275724Z"
    },
    "papermill": {
     "duration": 9.995205,
     "end_time": "2025-08-19T18:27:11.286281",
     "exception": false,
     "start_time": "2025-08-19T18:27:01.291076",
     "status": "completed"
    },
    "tags": []
   },
   "outputs": [
    {
     "name": "stdout",
     "output_type": "stream",
     "text": [
      "Loading SIAB data from cache: data/siab_cached.csv.gz\n"
     ]
    },
    {
     "name": "stdout",
     "output_type": "stream",
     "text": [
      "(643690, 164)\n"
     ]
    }
   ],
   "source": [
    "from pathlib import Path\n",
    "import pandas as pd\n",
    "\n",
    "# File paths\n",
    "raw_file = Path(\"data/raw/siab.csv\")\n",
    "cache_file = Path(\"data/siab_cached.csv.gz\")\n",
    "\n",
    "# Ensure cache directory exists\n",
    "cache_file.parent.mkdir(parents=True, exist_ok=True)\n",
    "\n",
    "# Load with simple caching\n",
    "if cache_file.exists():\n",
    "    print(f\"Loading SIAB data from cache: {cache_file}\")\n",
    "    siab = pd.read_csv(cache_file, compression='gzip')\n",
    "else:\n",
    "    print(f\"Cache not found. Reading raw SIAB data: {raw_file}\")\n",
    "    siab = pd.read_csv(raw_file)\n",
    "    siab.to_csv(cache_file, index=False, compression='gzip')\n",
    "    print(f\"Cached SIAB data to: {cache_file}\")\n",
    "\n",
    "print(siab.shape)"
   ]
  },
  {
   "cell_type": "code",
   "execution_count": 10,
   "id": "058d2abb",
   "metadata": {
    "execution": {
     "iopub.execute_input": "2025-08-19T18:27:11.311558Z",
     "iopub.status.busy": "2025-08-19T18:27:11.311096Z",
     "iopub.status.idle": "2025-08-19T18:27:11.438902Z",
     "shell.execute_reply": "2025-08-19T18:27:11.438188Z"
    },
    "papermill": {
     "duration": 0.139854,
     "end_time": "2025-08-19T18:27:11.440248",
     "exception": false,
     "start_time": "2025-08-19T18:27:11.300394",
     "status": "completed"
    },
    "tags": []
   },
   "outputs": [
    {
     "data": {
      "text/html": [
       "<div>\n",
       "<style scoped>\n",
       "    .dataframe tbody tr th:only-of-type {\n",
       "        vertical-align: middle;\n",
       "    }\n",
       "\n",
       "    .dataframe tbody tr th {\n",
       "        vertical-align: top;\n",
       "    }\n",
       "\n",
       "    .dataframe thead th {\n",
       "        text-align: right;\n",
       "    }\n",
       "</style>\n",
       "<table border=\"1\" class=\"dataframe\">\n",
       "  <thead>\n",
       "    <tr style=\"text-align: right;\">\n",
       "      <th></th>\n",
       "      <th>persnr</th>\n",
       "      <th>year</th>\n",
       "      <th>nrEntry</th>\n",
       "      <th>ltue</th>\n",
       "      <th>employed_before</th>\n",
       "      <th>receipt_leh_before</th>\n",
       "      <th>receipt_lhg_before</th>\n",
       "      <th>se_before</th>\n",
       "      <th>ASU_notue_seeking_before</th>\n",
       "      <th>ASU_other_before</th>\n",
       "      <th>...</th>\n",
       "      <th>minijob_tot_dur_byage</th>\n",
       "      <th>ft_tot_dur_byage</th>\n",
       "      <th>befrist_tot_dur_byage</th>\n",
       "      <th>leih_tot_dur_byage</th>\n",
       "      <th>LHG_tot_dur_byage</th>\n",
       "      <th>LEH_tot_dur_byage</th>\n",
       "      <th>almp_tot_dur_byage</th>\n",
       "      <th>almp_aw_tot_dur_byage</th>\n",
       "      <th>se_tot_dur_byage</th>\n",
       "      <th>seeking1_tot_dur_byage</th>\n",
       "    </tr>\n",
       "  </thead>\n",
       "  <tbody>\n",
       "    <tr>\n",
       "      <th>0</th>\n",
       "      <td>7</td>\n",
       "      <td>2015</td>\n",
       "      <td>1</td>\n",
       "      <td>0</td>\n",
       "      <td>1</td>\n",
       "      <td>0</td>\n",
       "      <td>0</td>\n",
       "      <td>0</td>\n",
       "      <td>1</td>\n",
       "      <td>0</td>\n",
       "      <td>...</td>\n",
       "      <td>0.000000</td>\n",
       "      <td>0.000000</td>\n",
       "      <td>15.043478</td>\n",
       "      <td>0.000000</td>\n",
       "      <td>0.000000</td>\n",
       "      <td>0.000000</td>\n",
       "      <td>0.000000</td>\n",
       "      <td>0.000000</td>\n",
       "      <td>0.000000</td>\n",
       "      <td>0.000000</td>\n",
       "    </tr>\n",
       "    <tr>\n",
       "      <th>1</th>\n",
       "      <td>18</td>\n",
       "      <td>2010</td>\n",
       "      <td>1</td>\n",
       "      <td>1</td>\n",
       "      <td>0</td>\n",
       "      <td>0</td>\n",
       "      <td>0</td>\n",
       "      <td>0</td>\n",
       "      <td>0</td>\n",
       "      <td>0</td>\n",
       "      <td>...</td>\n",
       "      <td>0.000000</td>\n",
       "      <td>0.000000</td>\n",
       "      <td>0.000000</td>\n",
       "      <td>0.000000</td>\n",
       "      <td>0.000000</td>\n",
       "      <td>0.000000</td>\n",
       "      <td>0.000000</td>\n",
       "      <td>0.000000</td>\n",
       "      <td>0.000000</td>\n",
       "      <td>0.000000</td>\n",
       "    </tr>\n",
       "    <tr>\n",
       "      <th>2</th>\n",
       "      <td>18</td>\n",
       "      <td>2011</td>\n",
       "      <td>2</td>\n",
       "      <td>0</td>\n",
       "      <td>1</td>\n",
       "      <td>0</td>\n",
       "      <td>1</td>\n",
       "      <td>0</td>\n",
       "      <td>1</td>\n",
       "      <td>0</td>\n",
       "      <td>...</td>\n",
       "      <td>2.714286</td>\n",
       "      <td>2.714286</td>\n",
       "      <td>0.000000</td>\n",
       "      <td>0.000000</td>\n",
       "      <td>10.775510</td>\n",
       "      <td>0.000000</td>\n",
       "      <td>8.367347</td>\n",
       "      <td>0.000000</td>\n",
       "      <td>0.000000</td>\n",
       "      <td>9.836735</td>\n",
       "    </tr>\n",
       "    <tr>\n",
       "      <th>3</th>\n",
       "      <td>18</td>\n",
       "      <td>2012</td>\n",
       "      <td>3</td>\n",
       "      <td>0</td>\n",
       "      <td>1</td>\n",
       "      <td>0</td>\n",
       "      <td>1</td>\n",
       "      <td>0</td>\n",
       "      <td>1</td>\n",
       "      <td>0</td>\n",
       "      <td>...</td>\n",
       "      <td>4.200000</td>\n",
       "      <td>4.200000</td>\n",
       "      <td>0.000000</td>\n",
       "      <td>0.000000</td>\n",
       "      <td>12.100000</td>\n",
       "      <td>0.000000</td>\n",
       "      <td>9.400000</td>\n",
       "      <td>0.000000</td>\n",
       "      <td>0.000000</td>\n",
       "      <td>9.960000</td>\n",
       "    </tr>\n",
       "    <tr>\n",
       "      <th>4</th>\n",
       "      <td>18</td>\n",
       "      <td>2012</td>\n",
       "      <td>4</td>\n",
       "      <td>0</td>\n",
       "      <td>1</td>\n",
       "      <td>0</td>\n",
       "      <td>1</td>\n",
       "      <td>0</td>\n",
       "      <td>1</td>\n",
       "      <td>0</td>\n",
       "      <td>...</td>\n",
       "      <td>5.460000</td>\n",
       "      <td>5.460000</td>\n",
       "      <td>0.000000</td>\n",
       "      <td>0.000000</td>\n",
       "      <td>13.360000</td>\n",
       "      <td>0.000000</td>\n",
       "      <td>10.320000</td>\n",
       "      <td>0.000000</td>\n",
       "      <td>0.000000</td>\n",
       "      <td>10.280000</td>\n",
       "    </tr>\n",
       "    <tr>\n",
       "      <th>...</th>\n",
       "      <td>...</td>\n",
       "      <td>...</td>\n",
       "      <td>...</td>\n",
       "      <td>...</td>\n",
       "      <td>...</td>\n",
       "      <td>...</td>\n",
       "      <td>...</td>\n",
       "      <td>...</td>\n",
       "      <td>...</td>\n",
       "      <td>...</td>\n",
       "      <td>...</td>\n",
       "      <td>...</td>\n",
       "      <td>...</td>\n",
       "      <td>...</td>\n",
       "      <td>...</td>\n",
       "      <td>...</td>\n",
       "      <td>...</td>\n",
       "      <td>...</td>\n",
       "      <td>...</td>\n",
       "      <td>...</td>\n",
       "      <td>...</td>\n",
       "    </tr>\n",
       "    <tr>\n",
       "      <th>643685</th>\n",
       "      <td>1827860</td>\n",
       "      <td>2013</td>\n",
       "      <td>1</td>\n",
       "      <td>0</td>\n",
       "      <td>0</td>\n",
       "      <td>0</td>\n",
       "      <td>1</td>\n",
       "      <td>0</td>\n",
       "      <td>0</td>\n",
       "      <td>1</td>\n",
       "      <td>...</td>\n",
       "      <td>0.000000</td>\n",
       "      <td>0.000000</td>\n",
       "      <td>0.000000</td>\n",
       "      <td>0.000000</td>\n",
       "      <td>0.612903</td>\n",
       "      <td>0.000000</td>\n",
       "      <td>0.000000</td>\n",
       "      <td>0.000000</td>\n",
       "      <td>0.000000</td>\n",
       "      <td>0.000000</td>\n",
       "    </tr>\n",
       "    <tr>\n",
       "      <th>643686</th>\n",
       "      <td>1827860</td>\n",
       "      <td>2015</td>\n",
       "      <td>2</td>\n",
       "      <td>1</td>\n",
       "      <td>0</td>\n",
       "      <td>0</td>\n",
       "      <td>1</td>\n",
       "      <td>0</td>\n",
       "      <td>1</td>\n",
       "      <td>0</td>\n",
       "      <td>...</td>\n",
       "      <td>0.000000</td>\n",
       "      <td>0.000000</td>\n",
       "      <td>0.212121</td>\n",
       "      <td>0.212121</td>\n",
       "      <td>17.363636</td>\n",
       "      <td>0.000000</td>\n",
       "      <td>8.909091</td>\n",
       "      <td>0.000000</td>\n",
       "      <td>0.000000</td>\n",
       "      <td>7.121212</td>\n",
       "    </tr>\n",
       "    <tr>\n",
       "      <th>643687</th>\n",
       "      <td>1827860</td>\n",
       "      <td>2016</td>\n",
       "      <td>3</td>\n",
       "      <td>1</td>\n",
       "      <td>0</td>\n",
       "      <td>0</td>\n",
       "      <td>1</td>\n",
       "      <td>1</td>\n",
       "      <td>0</td>\n",
       "      <td>1</td>\n",
       "      <td>...</td>\n",
       "      <td>0.000000</td>\n",
       "      <td>0.000000</td>\n",
       "      <td>0.294118</td>\n",
       "      <td>0.205882</td>\n",
       "      <td>34.705882</td>\n",
       "      <td>0.000000</td>\n",
       "      <td>10.352941</td>\n",
       "      <td>1.705882</td>\n",
       "      <td>1.705882</td>\n",
       "      <td>23.911765</td>\n",
       "    </tr>\n",
       "    <tr>\n",
       "      <th>643688</th>\n",
       "      <td>1827869</td>\n",
       "      <td>2013</td>\n",
       "      <td>1</td>\n",
       "      <td>1</td>\n",
       "      <td>1</td>\n",
       "      <td>0</td>\n",
       "      <td>0</td>\n",
       "      <td>0</td>\n",
       "      <td>1</td>\n",
       "      <td>0</td>\n",
       "      <td>...</td>\n",
       "      <td>0.000000</td>\n",
       "      <td>0.000000</td>\n",
       "      <td>0.000000</td>\n",
       "      <td>0.000000</td>\n",
       "      <td>0.000000</td>\n",
       "      <td>0.525424</td>\n",
       "      <td>0.000000</td>\n",
       "      <td>0.000000</td>\n",
       "      <td>0.000000</td>\n",
       "      <td>0.000000</td>\n",
       "    </tr>\n",
       "    <tr>\n",
       "      <th>643689</th>\n",
       "      <td>1827869</td>\n",
       "      <td>2014</td>\n",
       "      <td>2</td>\n",
       "      <td>0</td>\n",
       "      <td>0</td>\n",
       "      <td>1</td>\n",
       "      <td>0</td>\n",
       "      <td>0</td>\n",
       "      <td>1</td>\n",
       "      <td>0</td>\n",
       "      <td>...</td>\n",
       "      <td>0.000000</td>\n",
       "      <td>0.666667</td>\n",
       "      <td>0.666667</td>\n",
       "      <td>0.000000</td>\n",
       "      <td>0.000000</td>\n",
       "      <td>8.950000</td>\n",
       "      <td>1.033333</td>\n",
       "      <td>0.083333</td>\n",
       "      <td>0.083333</td>\n",
       "      <td>8.133333</td>\n",
       "    </tr>\n",
       "  </tbody>\n",
       "</table>\n",
       "<p>643690 rows × 164 columns</p>\n",
       "</div>"
      ],
      "text/plain": [
       "         persnr  year  nrEntry  ltue  employed_before  receipt_leh_before  \\\n",
       "0             7  2015        1     0                1                   0   \n",
       "1            18  2010        1     1                0                   0   \n",
       "2            18  2011        2     0                1                   0   \n",
       "3            18  2012        3     0                1                   0   \n",
       "4            18  2012        4     0                1                   0   \n",
       "...         ...   ...      ...   ...              ...                 ...   \n",
       "643685  1827860  2013        1     0                0                   0   \n",
       "643686  1827860  2015        2     1                0                   0   \n",
       "643687  1827860  2016        3     1                0                   0   \n",
       "643688  1827869  2013        1     1                1                   0   \n",
       "643689  1827869  2014        2     0                0                   1   \n",
       "\n",
       "        receipt_lhg_before  se_before  ASU_notue_seeking_before  \\\n",
       "0                        0          0                         1   \n",
       "1                        0          0                         0   \n",
       "2                        1          0                         1   \n",
       "3                        1          0                         1   \n",
       "4                        1          0                         1   \n",
       "...                    ...        ...                       ...   \n",
       "643685                   1          0                         0   \n",
       "643686                   1          0                         1   \n",
       "643687                   1          1                         0   \n",
       "643688                   0          0                         1   \n",
       "643689                   0          0                         1   \n",
       "\n",
       "        ASU_other_before  ...  minijob_tot_dur_byage  ft_tot_dur_byage  \\\n",
       "0                      0  ...               0.000000          0.000000   \n",
       "1                      0  ...               0.000000          0.000000   \n",
       "2                      0  ...               2.714286          2.714286   \n",
       "3                      0  ...               4.200000          4.200000   \n",
       "4                      0  ...               5.460000          5.460000   \n",
       "...                  ...  ...                    ...               ...   \n",
       "643685                 1  ...               0.000000          0.000000   \n",
       "643686                 0  ...               0.000000          0.000000   \n",
       "643687                 1  ...               0.000000          0.000000   \n",
       "643688                 0  ...               0.000000          0.000000   \n",
       "643689                 0  ...               0.000000          0.666667   \n",
       "\n",
       "        befrist_tot_dur_byage  leih_tot_dur_byage  LHG_tot_dur_byage  \\\n",
       "0                   15.043478            0.000000           0.000000   \n",
       "1                    0.000000            0.000000           0.000000   \n",
       "2                    0.000000            0.000000          10.775510   \n",
       "3                    0.000000            0.000000          12.100000   \n",
       "4                    0.000000            0.000000          13.360000   \n",
       "...                       ...                 ...                ...   \n",
       "643685               0.000000            0.000000           0.612903   \n",
       "643686               0.212121            0.212121          17.363636   \n",
       "643687               0.294118            0.205882          34.705882   \n",
       "643688               0.000000            0.000000           0.000000   \n",
       "643689               0.666667            0.000000           0.000000   \n",
       "\n",
       "        LEH_tot_dur_byage  almp_tot_dur_byage  almp_aw_tot_dur_byage  \\\n",
       "0                0.000000            0.000000               0.000000   \n",
       "1                0.000000            0.000000               0.000000   \n",
       "2                0.000000            8.367347               0.000000   \n",
       "3                0.000000            9.400000               0.000000   \n",
       "4                0.000000           10.320000               0.000000   \n",
       "...                   ...                 ...                    ...   \n",
       "643685           0.000000            0.000000               0.000000   \n",
       "643686           0.000000            8.909091               0.000000   \n",
       "643687           0.000000           10.352941               1.705882   \n",
       "643688           0.525424            0.000000               0.000000   \n",
       "643689           8.950000            1.033333               0.083333   \n",
       "\n",
       "        se_tot_dur_byage  seeking1_tot_dur_byage  \n",
       "0               0.000000                0.000000  \n",
       "1               0.000000                0.000000  \n",
       "2               0.000000                9.836735  \n",
       "3               0.000000                9.960000  \n",
       "4               0.000000               10.280000  \n",
       "...                  ...                     ...  \n",
       "643685          0.000000                0.000000  \n",
       "643686          0.000000                7.121212  \n",
       "643687          1.705882               23.911765  \n",
       "643688          0.000000                0.000000  \n",
       "643689          0.083333                8.133333  \n",
       "\n",
       "[643690 rows x 164 columns]"
      ]
     },
     "execution_count": 10,
     "metadata": {},
     "output_type": "execute_result"
    }
   ],
   "source": [
    "siab"
   ]
  },
  {
   "cell_type": "markdown",
   "id": "1f87e805",
   "metadata": {
    "papermill": {
     "duration": 0.009768,
     "end_time": "2025-08-19T18:27:11.461886",
     "exception": false,
     "start_time": "2025-08-19T18:27:11.452118",
     "status": "completed"
    },
    "tags": []
   },
   "source": [
    "# Splitting Data and Setting Training Data Size"
   ]
  },
  {
   "cell_type": "code",
   "execution_count": 11,
   "id": "910ae358",
   "metadata": {
    "execution": {
     "iopub.execute_input": "2025-08-19T18:27:11.482723Z",
     "iopub.status.busy": "2025-08-19T18:27:11.482330Z",
     "iopub.status.idle": "2025-08-19T18:27:11.708219Z",
     "shell.execute_reply": "2025-08-19T18:27:11.707427Z"
    },
    "papermill": {
     "duration": 0.238203,
     "end_time": "2025-08-19T18:27:11.709889",
     "exception": false,
     "start_time": "2025-08-19T18:27:11.471686",
     "status": "completed"
    },
    "tags": []
   },
   "outputs": [],
   "source": [
    "from fairness_multiverse.universe import sample_by_year_size\n",
    "\n",
    "siab_train = sample_by_year_size(siab,\n",
    "                               training_year=universe[\"training_year\"],\n",
    "                               training_size=universe[\"training_size\"])"
   ]
  },
  {
   "cell_type": "code",
   "execution_count": 12,
   "id": "919c8ff5",
   "metadata": {
    "execution": {
     "iopub.execute_input": "2025-08-19T18:27:11.735084Z",
     "iopub.status.busy": "2025-08-19T18:27:11.734704Z",
     "iopub.status.idle": "2025-08-19T18:27:11.740156Z",
     "shell.execute_reply": "2025-08-19T18:27:11.739429Z"
    },
    "papermill": {
     "duration": 0.022361,
     "end_time": "2025-08-19T18:27:11.742550",
     "exception": false,
     "start_time": "2025-08-19T18:27:11.720189",
     "status": "completed"
    },
    "tags": []
   },
   "outputs": [
    {
     "data": {
      "text/plain": [
       "(5000, 164)"
      ]
     },
     "execution_count": 12,
     "metadata": {},
     "output_type": "execute_result"
    }
   ],
   "source": [
    "siab_train.shape"
   ]
  },
  {
   "cell_type": "code",
   "execution_count": 13,
   "id": "feb13bf4",
   "metadata": {
    "execution": {
     "iopub.execute_input": "2025-08-19T18:27:11.764048Z",
     "iopub.status.busy": "2025-08-19T18:27:11.763702Z",
     "iopub.status.idle": "2025-08-19T18:27:11.770804Z",
     "shell.execute_reply": "2025-08-19T18:27:11.770184Z"
    },
    "papermill": {
     "duration": 0.019229,
     "end_time": "2025-08-19T18:27:11.772144",
     "exception": false,
     "start_time": "2025-08-19T18:27:11.752915",
     "status": "completed"
    },
    "tags": []
   },
   "outputs": [
    {
     "data": {
      "text/plain": [
       "year\n",
       "2014    5000\n",
       "dtype: int64"
      ]
     },
     "metadata": {},
     "output_type": "display_data"
    }
   ],
   "source": [
    "display(siab_train.groupby(\"year\").size())"
   ]
  },
  {
   "cell_type": "code",
   "execution_count": 14,
   "id": "0997782f",
   "metadata": {
    "execution": {
     "iopub.execute_input": "2025-08-19T18:27:11.793910Z",
     "iopub.status.busy": "2025-08-19T18:27:11.793515Z",
     "iopub.status.idle": "2025-08-19T18:27:12.085555Z",
     "shell.execute_reply": "2025-08-19T18:27:12.084718Z"
    },
    "papermill": {
     "duration": 0.305661,
     "end_time": "2025-08-19T18:27:12.087927",
     "exception": false,
     "start_time": "2025-08-19T18:27:11.782266",
     "status": "completed"
    },
    "tags": []
   },
   "outputs": [],
   "source": [
    "#siab_train = siab_s[siab_s.year < 2015]\n",
    "siab_calib = siab[siab.year == 2015]\n",
    "siab_test = siab[siab.year == 2016]"
   ]
  },
  {
   "cell_type": "code",
   "execution_count": 15,
   "id": "2c1e4012",
   "metadata": {
    "execution": {
     "iopub.execute_input": "2025-08-19T18:27:12.110166Z",
     "iopub.status.busy": "2025-08-19T18:27:12.109792Z",
     "iopub.status.idle": "2025-08-19T18:27:12.113780Z",
     "shell.execute_reply": "2025-08-19T18:27:12.113122Z"
    },
    "papermill": {
     "duration": 0.01658,
     "end_time": "2025-08-19T18:27:12.115157",
     "exception": false,
     "start_time": "2025-08-19T18:27:12.098577",
     "status": "completed"
    },
    "tags": []
   },
   "outputs": [],
   "source": [
    "#siab_calib.shape"
   ]
  },
  {
   "cell_type": "code",
   "execution_count": 16,
   "id": "f66b54ca",
   "metadata": {
    "execution": {
     "iopub.execute_input": "2025-08-19T18:27:12.136332Z",
     "iopub.status.busy": "2025-08-19T18:27:12.136015Z",
     "iopub.status.idle": "2025-08-19T18:27:12.140031Z",
     "shell.execute_reply": "2025-08-19T18:27:12.139258Z"
    },
    "papermill": {
     "duration": 0.016073,
     "end_time": "2025-08-19T18:27:12.141404",
     "exception": false,
     "start_time": "2025-08-19T18:27:12.125331",
     "status": "completed"
    },
    "tags": []
   },
   "outputs": [],
   "source": [
    "#siab_test.shape"
   ]
  },
  {
   "cell_type": "code",
   "execution_count": 17,
   "id": "27e4384d",
   "metadata": {
    "execution": {
     "iopub.execute_input": "2025-08-19T18:27:12.162542Z",
     "iopub.status.busy": "2025-08-19T18:27:12.162144Z",
     "iopub.status.idle": "2025-08-19T18:27:12.176722Z",
     "shell.execute_reply": "2025-08-19T18:27:12.175054Z"
    },
    "papermill": {
     "duration": 0.026692,
     "end_time": "2025-08-19T18:27:12.178145",
     "exception": false,
     "start_time": "2025-08-19T18:27:12.151453",
     "status": "completed"
    },
    "tags": []
   },
   "outputs": [],
   "source": [
    "X_train = siab_train.iloc[:,4:164]\n",
    "y_train = siab_train.iloc[:, [3]]"
   ]
  },
  {
   "cell_type": "code",
   "execution_count": 18,
   "id": "08ee8389",
   "metadata": {
    "execution": {
     "iopub.execute_input": "2025-08-19T18:27:12.200968Z",
     "iopub.status.busy": "2025-08-19T18:27:12.199531Z",
     "iopub.status.idle": "2025-08-19T18:27:12.261926Z",
     "shell.execute_reply": "2025-08-19T18:27:12.261164Z"
    },
    "papermill": {
     "duration": 0.075156,
     "end_time": "2025-08-19T18:27:12.263385",
     "exception": false,
     "start_time": "2025-08-19T18:27:12.188229",
     "status": "completed"
    },
    "tags": []
   },
   "outputs": [],
   "source": [
    "X_calib = siab_calib.iloc[:,4:164]\n",
    "y_calib = siab_calib.iloc[:, [3]]"
   ]
  },
  {
   "cell_type": "code",
   "execution_count": 19,
   "id": "b7ff42e0",
   "metadata": {
    "execution": {
     "iopub.execute_input": "2025-08-19T18:27:12.300709Z",
     "iopub.status.busy": "2025-08-19T18:27:12.285245Z",
     "iopub.status.idle": "2025-08-19T18:27:12.353989Z",
     "shell.execute_reply": "2025-08-19T18:27:12.353307Z"
    },
    "papermill": {
     "duration": 0.081516,
     "end_time": "2025-08-19T18:27:12.355595",
     "exception": false,
     "start_time": "2025-08-19T18:27:12.274079",
     "status": "completed"
    },
    "tags": []
   },
   "outputs": [],
   "source": [
    "X_test = siab_test.iloc[:,4:164]\n",
    "y_true = siab_test.iloc[:, [3]]"
   ]
  },
  {
   "cell_type": "code",
   "execution_count": 20,
   "id": "0275101e",
   "metadata": {
    "execution": {
     "iopub.execute_input": "2025-08-19T18:27:12.379550Z",
     "iopub.status.busy": "2025-08-19T18:27:12.379121Z",
     "iopub.status.idle": "2025-08-19T18:27:12.495706Z",
     "shell.execute_reply": "2025-08-19T18:27:12.494878Z"
    },
    "papermill": {
     "duration": 0.129247,
     "end_time": "2025-08-19T18:27:12.497208",
     "exception": false,
     "start_time": "2025-08-19T18:27:12.367961",
     "status": "completed"
    },
    "tags": []
   },
   "outputs": [],
   "source": [
    "# Auxiliary data needed downstream in the pipeline\n",
    "\n",
    "org_train = X_train.copy()\n",
    "org_test = X_test.copy()\n",
    "org_calib = X_calib.copy()"
   ]
  },
  {
   "cell_type": "markdown",
   "id": "b461e618",
   "metadata": {
    "papermill": {
     "duration": 0.016245,
     "end_time": "2025-08-19T18:27:12.529364",
     "exception": false,
     "start_time": "2025-08-19T18:27:12.513119",
     "status": "completed"
    },
    "tags": []
   },
   "source": [
    "# Preprocessing Data"
   ]
  },
  {
   "cell_type": "code",
   "execution_count": 21,
   "id": "78e74c4b",
   "metadata": {
    "execution": {
     "iopub.execute_input": "2025-08-19T18:27:12.552283Z",
     "iopub.status.busy": "2025-08-19T18:27:12.551860Z",
     "iopub.status.idle": "2025-08-19T18:27:12.557084Z",
     "shell.execute_reply": "2025-08-19T18:27:12.556282Z"
    },
    "papermill": {
     "duration": 0.017776,
     "end_time": "2025-08-19T18:27:12.558773",
     "exception": false,
     "start_time": "2025-08-19T18:27:12.540997",
     "status": "completed"
    },
    "tags": []
   },
   "outputs": [],
   "source": [
    "# EXCLUDE PROTECTED FEATURES\n",
    "# --------------------------\n",
    "\n",
    "excluded_features = universe[\"exclude_features\"].split(\"-\")\n",
    "excluded_features_dictionary = {\n",
    "    \"nationality\": [\"maxdeutsch1\", \"maxdeutsch.Missing.\"],\n",
    "    \"sex\": [\"frau1\"],\n",
    "    \"age\": [\"age\"],\n",
    "}"
   ]
  },
  {
   "cell_type": "code",
   "execution_count": 22,
   "id": "f8e63555",
   "metadata": {
    "execution": {
     "iopub.execute_input": "2025-08-19T18:27:12.581304Z",
     "iopub.status.busy": "2025-08-19T18:27:12.580880Z",
     "iopub.status.idle": "2025-08-19T18:27:12.586005Z",
     "shell.execute_reply": "2025-08-19T18:27:12.585371Z"
    },
    "papermill": {
     "duration": 0.018251,
     "end_time": "2025-08-19T18:27:12.587655",
     "exception": false,
     "start_time": "2025-08-19T18:27:12.569404",
     "status": "completed"
    },
    "tags": []
   },
   "outputs": [],
   "source": [
    "excluded_features_columns = [\n",
    "    excluded_features_dictionary[f] for f in excluded_features if len(f) > 0 and f != \"none\"\n",
    "]"
   ]
  },
  {
   "cell_type": "code",
   "execution_count": 23,
   "id": "da781f7c",
   "metadata": {
    "execution": {
     "iopub.execute_input": "2025-08-19T18:27:12.612452Z",
     "iopub.status.busy": "2025-08-19T18:27:12.612015Z",
     "iopub.status.idle": "2025-08-19T18:27:12.617962Z",
     "shell.execute_reply": "2025-08-19T18:27:12.617345Z"
    },
    "papermill": {
     "duration": 0.021629,
     "end_time": "2025-08-19T18:27:12.620030",
     "exception": false,
     "start_time": "2025-08-19T18:27:12.598401",
     "status": "completed"
    },
    "tags": []
   },
   "outputs": [],
   "source": [
    "from fairness_multiverse.universe import flatten_once\n",
    "\n",
    "excluded_features_columns = flatten_once(excluded_features_columns)"
   ]
  },
  {
   "cell_type": "code",
   "execution_count": 24,
   "id": "37fef0f0",
   "metadata": {
    "execution": {
     "iopub.execute_input": "2025-08-19T18:27:12.643113Z",
     "iopub.status.busy": "2025-08-19T18:27:12.642724Z",
     "iopub.status.idle": "2025-08-19T18:27:12.651421Z",
     "shell.execute_reply": "2025-08-19T18:27:12.650696Z"
    },
    "papermill": {
     "duration": 0.034986,
     "end_time": "2025-08-19T18:27:12.665797",
     "exception": false,
     "start_time": "2025-08-19T18:27:12.630811",
     "status": "completed"
    },
    "tags": []
   },
   "outputs": [
    {
     "name": "stdout",
     "output_type": "stream",
     "text": [
      "Dropping features: ['frau1']\n"
     ]
    }
   ],
   "source": [
    "if len(excluded_features_columns) > 0:\n",
    "    print(f\"Dropping features: {excluded_features_columns}\")\n",
    "    X_train.drop(excluded_features_columns, axis=1, inplace=True)"
   ]
  },
  {
   "cell_type": "code",
   "execution_count": 25,
   "id": "d029e3e9",
   "metadata": {
    "execution": {
     "iopub.execute_input": "2025-08-19T18:27:12.689274Z",
     "iopub.status.busy": "2025-08-19T18:27:12.688532Z",
     "iopub.status.idle": "2025-08-19T18:27:12.740553Z",
     "shell.execute_reply": "2025-08-19T18:27:12.739926Z"
    },
    "papermill": {
     "duration": 0.065691,
     "end_time": "2025-08-19T18:27:12.742207",
     "exception": false,
     "start_time": "2025-08-19T18:27:12.676516",
     "status": "completed"
    },
    "tags": []
   },
   "outputs": [
    {
     "name": "stdout",
     "output_type": "stream",
     "text": [
      "Dropping features: ['frau1']\n"
     ]
    }
   ],
   "source": [
    "if len(excluded_features_columns) > 0:\n",
    "    print(f\"Dropping features: {excluded_features_columns}\")\n",
    "    X_test.drop(excluded_features_columns, axis=1, inplace=True)"
   ]
  },
  {
   "cell_type": "code",
   "execution_count": 26,
   "id": "01d571f0",
   "metadata": {
    "execution": {
     "iopub.execute_input": "2025-08-19T18:27:12.771602Z",
     "iopub.status.busy": "2025-08-19T18:27:12.771210Z",
     "iopub.status.idle": "2025-08-19T18:27:12.820100Z",
     "shell.execute_reply": "2025-08-19T18:27:12.819508Z"
    },
    "papermill": {
     "duration": 0.062493,
     "end_time": "2025-08-19T18:27:12.821212",
     "exception": false,
     "start_time": "2025-08-19T18:27:12.758719",
     "status": "completed"
    },
    "tags": []
   },
   "outputs": [
    {
     "name": "stdout",
     "output_type": "stream",
     "text": [
      "Dropping features: ['frau1']\n"
     ]
    }
   ],
   "source": [
    "if len(excluded_features_columns) > 0:\n",
    "    print(f\"Dropping features: {excluded_features_columns}\")\n",
    "    X_calib.drop(excluded_features_columns, axis=1, inplace=True)"
   ]
  },
  {
   "cell_type": "code",
   "execution_count": 27,
   "id": "3037356e",
   "metadata": {
    "execution": {
     "iopub.execute_input": "2025-08-19T18:27:12.844641Z",
     "iopub.status.busy": "2025-08-19T18:27:12.843774Z",
     "iopub.status.idle": "2025-08-19T18:27:12.849669Z",
     "shell.execute_reply": "2025-08-19T18:27:12.848617Z"
    },
    "papermill": {
     "duration": 0.018705,
     "end_time": "2025-08-19T18:27:12.850829",
     "exception": false,
     "start_time": "2025-08-19T18:27:12.832124",
     "status": "completed"
    },
    "tags": []
   },
   "outputs": [],
   "source": [
    "# EXCLUDE CERTAIN SUBGROUPS\n",
    "# -------------------------\n",
    "\n",
    "mode = universe.get(\"exclude_subgroups\", \"keep-all\") # Defaults to \"keep-all\" if the key is missing."
   ]
  },
  {
   "cell_type": "code",
   "execution_count": 28,
   "id": "9d1e63fd",
   "metadata": {
    "execution": {
     "iopub.execute_input": "2025-08-19T18:27:12.879855Z",
     "iopub.status.busy": "2025-08-19T18:27:12.878739Z",
     "iopub.status.idle": "2025-08-19T18:27:12.890108Z",
     "shell.execute_reply": "2025-08-19T18:27:12.888521Z"
    },
    "papermill": {
     "duration": 0.027006,
     "end_time": "2025-08-19T18:27:12.891950",
     "exception": false,
     "start_time": "2025-08-19T18:27:12.864944",
     "status": "completed"
    },
    "tags": []
   },
   "outputs": [],
   "source": [
    "if mode == \"keep-all\":\n",
    "    keep_mask = pd.Series(True, index=org_train.index)\n",
    "\n",
    "elif mode == \"drop-non-german\":\n",
    "    keep_mask = (org_train[\"maxdeutsch1\"] == 1) & (org_train[\"maxdeutsch.Missing.\"] == 0)\n",
    "\n",
    "else:\n",
    "    raise ValueError(f\"Unsupported mode for exclude_subgroups: {mode}\")"
   ]
  },
  {
   "cell_type": "code",
   "execution_count": 29,
   "id": "d3b65474",
   "metadata": {
    "execution": {
     "iopub.execute_input": "2025-08-19T18:27:12.924005Z",
     "iopub.status.busy": "2025-08-19T18:27:12.923621Z",
     "iopub.status.idle": "2025-08-19T18:27:12.928564Z",
     "shell.execute_reply": "2025-08-19T18:27:12.927949Z"
    },
    "papermill": {
     "duration": 0.02006,
     "end_time": "2025-08-19T18:27:12.931556",
     "exception": false,
     "start_time": "2025-08-19T18:27:12.911496",
     "status": "completed"
    },
    "tags": []
   },
   "outputs": [],
   "source": [
    "n_drop = (~keep_mask).sum() # Calculates how many rows are set to be dropped\n",
    "if n_drop > 0:\n",
    "    pct = n_drop / len(keep_mask) * 100\n",
    "    print(f\"Dropping {n_drop} rows ({pct:.2f}%) where mode='{mode}'\")"
   ]
  },
  {
   "cell_type": "code",
   "execution_count": 30,
   "id": "f44389b3",
   "metadata": {
    "execution": {
     "iopub.execute_input": "2025-08-19T18:27:12.976213Z",
     "iopub.status.busy": "2025-08-19T18:27:12.975769Z",
     "iopub.status.idle": "2025-08-19T18:27:12.982929Z",
     "shell.execute_reply": "2025-08-19T18:27:12.982267Z"
    },
    "papermill": {
     "duration": 0.030324,
     "end_time": "2025-08-19T18:27:12.985357",
     "exception": false,
     "start_time": "2025-08-19T18:27:12.955033",
     "status": "completed"
    },
    "tags": []
   },
   "outputs": [],
   "source": [
    "X_train = X_train[keep_mask]"
   ]
  },
  {
   "cell_type": "code",
   "execution_count": 31,
   "id": "ceca8c2a",
   "metadata": {
    "execution": {
     "iopub.execute_input": "2025-08-19T18:27:13.022923Z",
     "iopub.status.busy": "2025-08-19T18:27:13.021794Z",
     "iopub.status.idle": "2025-08-19T18:27:13.031478Z",
     "shell.execute_reply": "2025-08-19T18:27:13.029850Z"
    },
    "papermill": {
     "duration": 0.02485,
     "end_time": "2025-08-19T18:27:13.033264",
     "exception": false,
     "start_time": "2025-08-19T18:27:13.008414",
     "status": "completed"
    },
    "tags": []
   },
   "outputs": [],
   "source": [
    "y_train = y_train[keep_mask]"
   ]
  },
  {
   "cell_type": "markdown",
   "id": "04d31e2f",
   "metadata": {
    "papermill": {
     "duration": 0.011173,
     "end_time": "2025-08-19T18:27:13.057633",
     "exception": false,
     "start_time": "2025-08-19T18:27:13.046460",
     "status": "completed"
    },
    "tags": []
   },
   "source": [
    "# Model Training"
   ]
  },
  {
   "cell_type": "code",
   "execution_count": 32,
   "id": "db991733",
   "metadata": {
    "execution": {
     "iopub.execute_input": "2025-08-19T18:27:13.082181Z",
     "iopub.status.busy": "2025-08-19T18:27:13.080638Z",
     "iopub.status.idle": "2025-08-19T18:27:13.186949Z",
     "shell.execute_reply": "2025-08-19T18:27:13.186215Z"
    },
    "papermill": {
     "duration": 0.121369,
     "end_time": "2025-08-19T18:27:13.189786",
     "exception": false,
     "start_time": "2025-08-19T18:27:13.068417",
     "status": "completed"
    },
    "tags": []
   },
   "outputs": [],
   "source": [
    "from sklearn.linear_model import LogisticRegression\n",
    "from sklearn.ensemble import GradientBoostingClassifier, RandomForestClassifier\n",
    "\n",
    "if (universe[\"model\"] == \"logreg\"):\n",
    "    model = LogisticRegression() #penalty=\"none\", solver=\"newton-cg\", max_iter=1)\n",
    "elif (universe[\"model\"] == \"penalized_logreg\"):\n",
    "    model = LogisticRegression(penalty=\"l2\", C=0.1) #, solver=\"newton-cg\", max_iter=1)\n",
    "elif (universe[\"model\"] == \"rf\"):\n",
    "    model = RandomForestClassifier() # n_estimators=100, n_jobs=-1\n",
    "elif (universe[\"model\"] == \"gbm\"):\n",
    "    model = GradientBoostingClassifier()\n",
    "elif (universe[\"model\"] == \"elasticnet\"):\n",
    "    model = LogisticRegression(penalty = 'elasticnet', solver = 'saga', l1_ratio = 0.5) # max_iter=5000\n",
    "else:\n",
    "    raise \"Unsupported universe.model\""
   ]
  },
  {
   "cell_type": "code",
   "execution_count": 33,
   "id": "a4b5cd25",
   "metadata": {
    "execution": {
     "iopub.execute_input": "2025-08-19T18:27:13.233193Z",
     "iopub.status.busy": "2025-08-19T18:27:13.231927Z",
     "iopub.status.idle": "2025-08-19T18:27:13.242361Z",
     "shell.execute_reply": "2025-08-19T18:27:13.240769Z"
    },
    "papermill": {
     "duration": 0.027646,
     "end_time": "2025-08-19T18:27:13.244136",
     "exception": false,
     "start_time": "2025-08-19T18:27:13.216490",
     "status": "completed"
    },
    "tags": []
   },
   "outputs": [],
   "source": [
    "from sklearn.pipeline import Pipeline\n",
    "from sklearn.preprocessing import StandardScaler\n",
    "\n",
    "model = Pipeline([\n",
    "    #(\"continuous_processor\", continuous_processor),\n",
    "    #(\"categorical_preprocessor\", categorical_preprocessor),\n",
    "    (\"scale\", StandardScaler() if universe[\"scale\"] == \"scale\" else None), \n",
    "    (\"model\", model),\n",
    "])"
   ]
  },
  {
   "cell_type": "code",
   "execution_count": 34,
   "id": "283a904d",
   "metadata": {
    "execution": {
     "iopub.execute_input": "2025-08-19T18:27:13.273547Z",
     "iopub.status.busy": "2025-08-19T18:27:13.271900Z",
     "iopub.status.idle": "2025-08-19T18:27:13.426581Z",
     "shell.execute_reply": "2025-08-19T18:27:13.425999Z"
    },
    "papermill": {
     "duration": 0.172664,
     "end_time": "2025-08-19T18:27:13.431119",
     "exception": false,
     "start_time": "2025-08-19T18:27:13.258455",
     "status": "completed"
    },
    "tags": []
   },
   "outputs": [
    {
     "name": "stderr",
     "output_type": "stream",
     "text": [
      "/dss/dsshome1/0C/ra93lal2/.local/share/virtualenvs/CMA_Fairness_v2-3j10GkSs/lib/python3.10/site-packages/sklearn/linear_model/_logistic.py:444: ConvergenceWarning: lbfgs failed to converge (status=1):\n",
      "STOP: TOTAL NO. of ITERATIONS REACHED LIMIT.\n",
      "\n",
      "Increase the number of iterations (max_iter) or scale the data as shown in:\n",
      "    https://scikit-learn.org/stable/modules/preprocessing.html\n",
      "Please also refer to the documentation for alternative solver options:\n",
      "    https://scikit-learn.org/stable/modules/linear_model.html#logistic-regression\n",
      "  n_iter_i = _check_optimize_result(\n"
     ]
    },
    {
     "data": {
      "text/html": [
       "<style>#sk-container-id-1 {color: black;background-color: white;}#sk-container-id-1 pre{padding: 0;}#sk-container-id-1 div.sk-toggleable {background-color: white;}#sk-container-id-1 label.sk-toggleable__label {cursor: pointer;display: block;width: 100%;margin-bottom: 0;padding: 0.3em;box-sizing: border-box;text-align: center;}#sk-container-id-1 label.sk-toggleable__label-arrow:before {content: \"▸\";float: left;margin-right: 0.25em;color: #696969;}#sk-container-id-1 label.sk-toggleable__label-arrow:hover:before {color: black;}#sk-container-id-1 div.sk-estimator:hover label.sk-toggleable__label-arrow:before {color: black;}#sk-container-id-1 div.sk-toggleable__content {max-height: 0;max-width: 0;overflow: hidden;text-align: left;background-color: #f0f8ff;}#sk-container-id-1 div.sk-toggleable__content pre {margin: 0.2em;color: black;border-radius: 0.25em;background-color: #f0f8ff;}#sk-container-id-1 input.sk-toggleable__control:checked~div.sk-toggleable__content {max-height: 200px;max-width: 100%;overflow: auto;}#sk-container-id-1 input.sk-toggleable__control:checked~label.sk-toggleable__label-arrow:before {content: \"▾\";}#sk-container-id-1 div.sk-estimator input.sk-toggleable__control:checked~label.sk-toggleable__label {background-color: #d4ebff;}#sk-container-id-1 div.sk-label input.sk-toggleable__control:checked~label.sk-toggleable__label {background-color: #d4ebff;}#sk-container-id-1 input.sk-hidden--visually {border: 0;clip: rect(1px 1px 1px 1px);clip: rect(1px, 1px, 1px, 1px);height: 1px;margin: -1px;overflow: hidden;padding: 0;position: absolute;width: 1px;}#sk-container-id-1 div.sk-estimator {font-family: monospace;background-color: #f0f8ff;border: 1px dotted black;border-radius: 0.25em;box-sizing: border-box;margin-bottom: 0.5em;}#sk-container-id-1 div.sk-estimator:hover {background-color: #d4ebff;}#sk-container-id-1 div.sk-parallel-item::after {content: \"\";width: 100%;border-bottom: 1px solid gray;flex-grow: 1;}#sk-container-id-1 div.sk-label:hover label.sk-toggleable__label {background-color: #d4ebff;}#sk-container-id-1 div.sk-serial::before {content: \"\";position: absolute;border-left: 1px solid gray;box-sizing: border-box;top: 0;bottom: 0;left: 50%;z-index: 0;}#sk-container-id-1 div.sk-serial {display: flex;flex-direction: column;align-items: center;background-color: white;padding-right: 0.2em;padding-left: 0.2em;position: relative;}#sk-container-id-1 div.sk-item {position: relative;z-index: 1;}#sk-container-id-1 div.sk-parallel {display: flex;align-items: stretch;justify-content: center;background-color: white;position: relative;}#sk-container-id-1 div.sk-item::before, #sk-container-id-1 div.sk-parallel-item::before {content: \"\";position: absolute;border-left: 1px solid gray;box-sizing: border-box;top: 0;bottom: 0;left: 50%;z-index: -1;}#sk-container-id-1 div.sk-parallel-item {display: flex;flex-direction: column;z-index: 1;position: relative;background-color: white;}#sk-container-id-1 div.sk-parallel-item:first-child::after {align-self: flex-end;width: 50%;}#sk-container-id-1 div.sk-parallel-item:last-child::after {align-self: flex-start;width: 50%;}#sk-container-id-1 div.sk-parallel-item:only-child::after {width: 0;}#sk-container-id-1 div.sk-dashed-wrapped {border: 1px dashed gray;margin: 0 0.4em 0.5em 0.4em;box-sizing: border-box;padding-bottom: 0.4em;background-color: white;}#sk-container-id-1 div.sk-label label {font-family: monospace;font-weight: bold;display: inline-block;line-height: 1.2em;}#sk-container-id-1 div.sk-label-container {text-align: center;}#sk-container-id-1 div.sk-container {/* jupyter's `normalize.less` sets `[hidden] { display: none; }` but bootstrap.min.css set `[hidden] { display: none !important; }` so we also need the `!important` here to be able to override the default hidden behavior on the sphinx rendered scikit-learn.org. See: https://github.com/scikit-learn/scikit-learn/issues/21755 */display: inline-block !important;position: relative;}#sk-container-id-1 div.sk-text-repr-fallback {display: none;}</style><div id=\"sk-container-id-1\" class=\"sk-top-container\"><div class=\"sk-text-repr-fallback\"><pre>Pipeline(steps=[(&#x27;scale&#x27;, None), (&#x27;model&#x27;, LogisticRegression())])</pre><b>In a Jupyter environment, please rerun this cell to show the HTML representation or trust the notebook. <br />On GitHub, the HTML representation is unable to render, please try loading this page with nbviewer.org.</b></div><div class=\"sk-container\" hidden><div class=\"sk-item sk-dashed-wrapped\"><div class=\"sk-label-container\"><div class=\"sk-label sk-toggleable\"><input class=\"sk-toggleable__control sk-hidden--visually\" id=\"sk-estimator-id-1\" type=\"checkbox\" ><label for=\"sk-estimator-id-1\" class=\"sk-toggleable__label sk-toggleable__label-arrow\">Pipeline</label><div class=\"sk-toggleable__content\"><pre>Pipeline(steps=[(&#x27;scale&#x27;, None), (&#x27;model&#x27;, LogisticRegression())])</pre></div></div></div><div class=\"sk-serial\"><div class=\"sk-item\"><div class=\"sk-estimator sk-toggleable\"><input class=\"sk-toggleable__control sk-hidden--visually\" id=\"sk-estimator-id-2\" type=\"checkbox\" ><label for=\"sk-estimator-id-2\" class=\"sk-toggleable__label sk-toggleable__label-arrow\">None</label><div class=\"sk-toggleable__content\"><pre>None</pre></div></div></div><div class=\"sk-item\"><div class=\"sk-estimator sk-toggleable\"><input class=\"sk-toggleable__control sk-hidden--visually\" id=\"sk-estimator-id-3\" type=\"checkbox\" ><label for=\"sk-estimator-id-3\" class=\"sk-toggleable__label sk-toggleable__label-arrow\">LogisticRegression</label><div class=\"sk-toggleable__content\"><pre>LogisticRegression()</pre></div></div></div></div></div></div></div>"
      ],
      "text/plain": [
       "Pipeline(steps=[('scale', None), ('model', LogisticRegression())])"
      ]
     },
     "execution_count": 34,
     "metadata": {},
     "output_type": "execute_result"
    }
   ],
   "source": [
    "model.fit(X_train, y_train.values.ravel())"
   ]
  },
  {
   "cell_type": "code",
   "execution_count": 35,
   "id": "6e15e313",
   "metadata": {
    "execution": {
     "iopub.execute_input": "2025-08-19T18:27:13.468108Z",
     "iopub.status.busy": "2025-08-19T18:27:13.467214Z",
     "iopub.status.idle": "2025-08-19T18:27:13.571807Z",
     "shell.execute_reply": "2025-08-19T18:27:13.571185Z"
    },
    "papermill": {
     "duration": 0.120714,
     "end_time": "2025-08-19T18:27:13.574523",
     "exception": false,
     "start_time": "2025-08-19T18:27:13.453809",
     "status": "completed"
    },
    "tags": []
   },
   "outputs": [
    {
     "data": {
      "text/plain": [
       "0.8613198082710958"
      ]
     },
     "execution_count": 35,
     "metadata": {},
     "output_type": "execute_result"
    }
   ],
   "source": [
    "from fairness_multiverse.universe import predict_w_threshold\n",
    "\n",
    "probs_test = model.predict_proba(X_test)\n",
    "\n",
    "'''\n",
    "Below code returns a boolean array (or binary 0/1 array depending on how it’s used) where each element \n",
    "is True if the probability of class 1 is greater than or equal to the threshold, and False otherwise.\n",
    "'''\n",
    "y_pred_default = predict_w_threshold(probs_test, 0.5)\n",
    "\n",
    "from sklearn.metrics import accuracy_score\n",
    "\n",
    "# Naive prediction\n",
    "accuracy_score(y_true = y_true, y_pred = y_pred_default)"
   ]
  },
  {
   "cell_type": "code",
   "execution_count": 36,
   "id": "6f14067c",
   "metadata": {
    "execution": {
     "iopub.execute_input": "2025-08-19T18:27:13.639580Z",
     "iopub.status.busy": "2025-08-19T18:27:13.638526Z",
     "iopub.status.idle": "2025-08-19T18:27:13.739014Z",
     "shell.execute_reply": "2025-08-19T18:27:13.737991Z"
    },
    "papermill": {
     "duration": 0.131134,
     "end_time": "2025-08-19T18:27:13.740635",
     "exception": false,
     "start_time": "2025-08-19T18:27:13.609501",
     "status": "completed"
    },
    "tags": []
   },
   "outputs": [
    {
     "data": {
      "text/plain": [
       "array([0, 0, 0, ..., 0, 0, 0])"
      ]
     },
     "execution_count": 36,
     "metadata": {},
     "output_type": "execute_result"
    }
   ],
   "source": [
    "model.predict(X_test)"
   ]
  },
  {
   "cell_type": "markdown",
   "id": "3759920c",
   "metadata": {
    "papermill": {
     "duration": 0.011479,
     "end_time": "2025-08-19T18:27:13.764387",
     "exception": false,
     "start_time": "2025-08-19T18:27:13.752908",
     "status": "completed"
    },
    "tags": []
   },
   "source": [
    "# Conformal Prediction"
   ]
  },
  {
   "cell_type": "code",
   "execution_count": 37,
   "id": "14b27f59",
   "metadata": {
    "execution": {
     "iopub.execute_input": "2025-08-19T18:27:13.788531Z",
     "iopub.status.busy": "2025-08-19T18:27:13.788047Z",
     "iopub.status.idle": "2025-08-19T18:27:13.792922Z",
     "shell.execute_reply": "2025-08-19T18:27:13.792222Z"
    },
    "papermill": {
     "duration": 0.01852,
     "end_time": "2025-08-19T18:27:13.794106",
     "exception": false,
     "start_time": "2025-08-19T18:27:13.775586",
     "status": "completed"
    },
    "tags": []
   },
   "outputs": [],
   "source": [
    "# Miscoverage level for conformal prediction (10% allowed error rate => 90% target coverage)\n",
    "alpha = 0.1"
   ]
  },
  {
   "cell_type": "code",
   "execution_count": 38,
   "id": "59102472",
   "metadata": {
    "execution": {
     "iopub.execute_input": "2025-08-19T18:27:13.817818Z",
     "iopub.status.busy": "2025-08-19T18:27:13.817467Z",
     "iopub.status.idle": "2025-08-19T18:27:13.900988Z",
     "shell.execute_reply": "2025-08-19T18:27:13.900288Z"
    },
    "papermill": {
     "duration": 0.098316,
     "end_time": "2025-08-19T18:27:13.903830",
     "exception": false,
     "start_time": "2025-08-19T18:27:13.805514",
     "status": "completed"
    },
    "tags": []
   },
   "outputs": [],
   "source": [
    "probs_calib = model.predict_proba(X_calib)"
   ]
  },
  {
   "cell_type": "code",
   "execution_count": 39,
   "id": "a792d4dd",
   "metadata": {
    "execution": {
     "iopub.execute_input": "2025-08-19T18:27:13.945571Z",
     "iopub.status.busy": "2025-08-19T18:27:13.944551Z",
     "iopub.status.idle": "2025-08-19T18:27:13.953556Z",
     "shell.execute_reply": "2025-08-19T18:27:13.952115Z"
    },
    "papermill": {
     "duration": 0.025484,
     "end_time": "2025-08-19T18:27:13.955174",
     "exception": false,
     "start_time": "2025-08-19T18:27:13.929690",
     "status": "completed"
    },
    "tags": []
   },
   "outputs": [],
   "source": [
    "y_calib = y_calib.values.ravel().astype(int)"
   ]
  },
  {
   "cell_type": "code",
   "execution_count": 40,
   "id": "650fd033",
   "metadata": {
    "execution": {
     "iopub.execute_input": "2025-08-19T18:27:13.985495Z",
     "iopub.status.busy": "2025-08-19T18:27:13.984246Z",
     "iopub.status.idle": "2025-08-19T18:27:14.001903Z",
     "shell.execute_reply": "2025-08-19T18:27:14.000457Z"
    },
    "papermill": {
     "duration": 0.033137,
     "end_time": "2025-08-19T18:27:14.004211",
     "exception": false,
     "start_time": "2025-08-19T18:27:13.971074",
     "status": "completed"
    },
    "tags": []
   },
   "outputs": [],
   "source": [
    "from fairness_multiverse.conformal import compute_nc_scores\n",
    "\n",
    "# Compute nonconformity scores on calibration set (1 - probability of true class)\n",
    "nc_scores = compute_nc_scores(probs_calib, y_calib)"
   ]
  },
  {
   "cell_type": "code",
   "execution_count": 41,
   "id": "28ada44c",
   "metadata": {
    "execution": {
     "iopub.execute_input": "2025-08-19T18:27:14.037741Z",
     "iopub.status.busy": "2025-08-19T18:27:14.036512Z",
     "iopub.status.idle": "2025-08-19T18:27:14.048370Z",
     "shell.execute_reply": "2025-08-19T18:27:14.047053Z"
    },
    "papermill": {
     "duration": 0.02704,
     "end_time": "2025-08-19T18:27:14.049953",
     "exception": false,
     "start_time": "2025-08-19T18:27:14.022913",
     "status": "completed"
    },
    "tags": []
   },
   "outputs": [],
   "source": [
    "from fairness_multiverse.conformal import find_threshold\n",
    "\n",
    "# Find conformal threshold q_hat for the given alpha (split conformal method)\n",
    "q_hat = find_threshold(nc_scores, alpha)"
   ]
  },
  {
   "cell_type": "code",
   "execution_count": 42,
   "id": "df56469e",
   "metadata": {
    "execution": {
     "iopub.execute_input": "2025-08-19T18:27:14.082000Z",
     "iopub.status.busy": "2025-08-19T18:27:14.080827Z",
     "iopub.status.idle": "2025-08-19T18:27:14.094867Z",
     "shell.execute_reply": "2025-08-19T18:27:14.093301Z"
    },
    "papermill": {
     "duration": 0.029898,
     "end_time": "2025-08-19T18:27:14.096487",
     "exception": false,
     "start_time": "2025-08-19T18:27:14.066589",
     "status": "completed"
    },
    "tags": []
   },
   "outputs": [
    {
     "data": {
      "text/plain": [
       "0.6775525300731964"
      ]
     },
     "execution_count": 42,
     "metadata": {},
     "output_type": "execute_result"
    }
   ],
   "source": [
    "q_hat"
   ]
  },
  {
   "cell_type": "code",
   "execution_count": 43,
   "id": "aa1f5faa",
   "metadata": {
    "execution": {
     "iopub.execute_input": "2025-08-19T18:27:14.127320Z",
     "iopub.status.busy": "2025-08-19T18:27:14.126307Z",
     "iopub.status.idle": "2025-08-19T18:27:14.628682Z",
     "shell.execute_reply": "2025-08-19T18:27:14.627982Z"
    },
    "papermill": {
     "duration": 0.517233,
     "end_time": "2025-08-19T18:27:14.630386",
     "exception": false,
     "start_time": "2025-08-19T18:27:14.113153",
     "status": "completed"
    },
    "tags": []
   },
   "outputs": [],
   "source": [
    "from fairness_multiverse.conformal import predict_conformal_sets\n",
    "\n",
    "# Generate prediction sets for each test example\n",
    "pred_sets = predict_conformal_sets(model, X_test, q_hat)"
   ]
  },
  {
   "cell_type": "code",
   "execution_count": 44,
   "id": "97f67a6b",
   "metadata": {
    "execution": {
     "iopub.execute_input": "2025-08-19T18:27:14.667790Z",
     "iopub.status.busy": "2025-08-19T18:27:14.667313Z",
     "iopub.status.idle": "2025-08-19T18:27:14.672536Z",
     "shell.execute_reply": "2025-08-19T18:27:14.671883Z"
    },
    "papermill": {
     "duration": 0.031435,
     "end_time": "2025-08-19T18:27:14.674990",
     "exception": false,
     "start_time": "2025-08-19T18:27:14.643555",
     "status": "completed"
    },
    "tags": []
   },
   "outputs": [],
   "source": [
    "y_true = y_true.squeeze()"
   ]
  },
  {
   "cell_type": "code",
   "execution_count": 45,
   "id": "e700e9a7",
   "metadata": {
    "execution": {
     "iopub.execute_input": "2025-08-19T18:27:14.700759Z",
     "iopub.status.busy": "2025-08-19T18:27:14.700323Z",
     "iopub.status.idle": "2025-08-19T18:27:15.224276Z",
     "shell.execute_reply": "2025-08-19T18:27:15.223124Z"
    },
    "papermill": {
     "duration": 0.538547,
     "end_time": "2025-08-19T18:27:15.226167",
     "exception": false,
     "start_time": "2025-08-19T18:27:14.687620",
     "status": "completed"
    },
    "tags": []
   },
   "outputs": [],
   "source": [
    "from fairness_multiverse.conformal import evaluate_sets\n",
    "\n",
    "# Evaluate coverage and average set size on test data\n",
    "metrics = evaluate_sets(pred_sets, y_true)"
   ]
  },
  {
   "cell_type": "markdown",
   "id": "efbacec0",
   "metadata": {
    "papermill": {
     "duration": 0.01469,
     "end_time": "2025-08-19T18:27:15.272895",
     "exception": false,
     "start_time": "2025-08-19T18:27:15.258205",
     "status": "completed"
    },
    "tags": []
   },
   "source": [
    "# CP Metrics"
   ]
  },
  {
   "cell_type": "code",
   "execution_count": 46,
   "id": "9de55fb1",
   "metadata": {
    "execution": {
     "iopub.execute_input": "2025-08-19T18:27:15.301415Z",
     "iopub.status.busy": "2025-08-19T18:27:15.300184Z",
     "iopub.status.idle": "2025-08-19T18:27:15.318425Z",
     "shell.execute_reply": "2025-08-19T18:27:15.317239Z"
    },
    "papermill": {
     "duration": 0.035776,
     "end_time": "2025-08-19T18:27:15.320551",
     "exception": false,
     "start_time": "2025-08-19T18:27:15.284775",
     "status": "completed"
    },
    "tags": []
   },
   "outputs": [
    {
     "data": {
      "text/plain": [
       "{'coverage': 0.911258499609854, 'avg_size': 1.2050384572511426}"
      ]
     },
     "execution_count": 46,
     "metadata": {},
     "output_type": "execute_result"
    }
   ],
   "source": [
    "metrics"
   ]
  },
  {
   "cell_type": "code",
   "execution_count": 47,
   "id": "64c340a1",
   "metadata": {
    "execution": {
     "iopub.execute_input": "2025-08-19T18:27:15.349073Z",
     "iopub.status.busy": "2025-08-19T18:27:15.348700Z",
     "iopub.status.idle": "2025-08-19T18:27:15.353559Z",
     "shell.execute_reply": "2025-08-19T18:27:15.352930Z"
    },
    "papermill": {
     "duration": 0.019188,
     "end_time": "2025-08-19T18:27:15.355188",
     "exception": false,
     "start_time": "2025-08-19T18:27:15.336000",
     "status": "completed"
    },
    "tags": []
   },
   "outputs": [],
   "source": [
    "example_universe = universe.copy()\n",
    "universe_training_year = example_universe.get(\"training_year\")\n",
    "universe_training_size = example_universe.get(\"training_size\")\n",
    "universe_scale = example_universe.get(\"scale\")\n",
    "universe_model = example_universe.get(\"model\")\n",
    "universe_exclude_features = example_universe.get(\"exclude_features\")\n",
    "universe_exclude_subgroups = example_universe.get(\"exclude_subgroups\")"
   ]
  },
  {
   "cell_type": "code",
   "execution_count": 48,
   "id": "dbb53cb4",
   "metadata": {
    "execution": {
     "iopub.execute_input": "2025-08-19T18:27:15.379775Z",
     "iopub.status.busy": "2025-08-19T18:27:15.379411Z",
     "iopub.status.idle": "2025-08-19T18:27:15.384130Z",
     "shell.execute_reply": "2025-08-19T18:27:15.383561Z"
    },
    "papermill": {
     "duration": 0.019889,
     "end_time": "2025-08-19T18:27:15.386796",
     "exception": false,
     "start_time": "2025-08-19T18:27:15.366907",
     "status": "completed"
    },
    "tags": []
   },
   "outputs": [],
   "source": [
    "cp_metrics_dict = {\n",
    "    \"universe_id\": [universe_id],\n",
    "    \"universe_training_year\": [universe_training_year],\n",
    "    \"universe_training_size\": [universe_training_size],\n",
    "    \"universe_scale\": [universe_scale],\n",
    "    \"universe_model\": [universe_model],\n",
    "    \"universe_exclude_features\": [universe_exclude_features],\n",
    "    \"universe_exclude_subgroups\": [universe_exclude_subgroups],\n",
    "    \"q_hat\": [q_hat],\n",
    "    \"coverage\": [metrics[\"coverage\"]],\n",
    "    \"avg_size\": [metrics[\"avg_size\"]],\n",
    "}"
   ]
  },
  {
   "cell_type": "code",
   "execution_count": 49,
   "id": "0d70d4b2",
   "metadata": {
    "execution": {
     "iopub.execute_input": "2025-08-19T18:27:15.427006Z",
     "iopub.status.busy": "2025-08-19T18:27:15.425976Z",
     "iopub.status.idle": "2025-08-19T18:27:15.438437Z",
     "shell.execute_reply": "2025-08-19T18:27:15.436770Z"
    },
    "papermill": {
     "duration": 0.029138,
     "end_time": "2025-08-19T18:27:15.440186",
     "exception": false,
     "start_time": "2025-08-19T18:27:15.411048",
     "status": "completed"
    },
    "tags": []
   },
   "outputs": [],
   "source": [
    "cp_metrics_df = pd.DataFrame(cp_metrics_dict)"
   ]
  },
  {
   "cell_type": "code",
   "execution_count": 50,
   "id": "b494403c",
   "metadata": {
    "execution": {
     "iopub.execute_input": "2025-08-19T18:27:15.482085Z",
     "iopub.status.busy": "2025-08-19T18:27:15.481132Z",
     "iopub.status.idle": "2025-08-19T18:27:15.500188Z",
     "shell.execute_reply": "2025-08-19T18:27:15.499366Z"
    },
    "papermill": {
     "duration": 0.045182,
     "end_time": "2025-08-19T18:27:15.502422",
     "exception": false,
     "start_time": "2025-08-19T18:27:15.457240",
     "status": "completed"
    },
    "tags": []
   },
   "outputs": [
    {
     "data": {
      "text/html": [
       "<div>\n",
       "<style scoped>\n",
       "    .dataframe tbody tr th:only-of-type {\n",
       "        vertical-align: middle;\n",
       "    }\n",
       "\n",
       "    .dataframe tbody tr th {\n",
       "        vertical-align: top;\n",
       "    }\n",
       "\n",
       "    .dataframe thead th {\n",
       "        text-align: right;\n",
       "    }\n",
       "</style>\n",
       "<table border=\"1\" class=\"dataframe\">\n",
       "  <thead>\n",
       "    <tr style=\"text-align: right;\">\n",
       "      <th></th>\n",
       "      <th>universe_id</th>\n",
       "      <th>universe_training_year</th>\n",
       "      <th>universe_training_size</th>\n",
       "      <th>universe_scale</th>\n",
       "      <th>universe_model</th>\n",
       "      <th>universe_exclude_features</th>\n",
       "      <th>universe_exclude_subgroups</th>\n",
       "      <th>q_hat</th>\n",
       "      <th>coverage</th>\n",
       "      <th>avg_size</th>\n",
       "    </tr>\n",
       "  </thead>\n",
       "  <tbody>\n",
       "    <tr>\n",
       "      <th>0</th>\n",
       "      <td>6bc94fa78ecd687485a543dd015c5ea0</td>\n",
       "      <td>2014</td>\n",
       "      <td>5k</td>\n",
       "      <td>do-not-scale</td>\n",
       "      <td>logreg</td>\n",
       "      <td>sex</td>\n",
       "      <td>keep-all</td>\n",
       "      <td>0.677553</td>\n",
       "      <td>0.911258</td>\n",
       "      <td>1.205038</td>\n",
       "    </tr>\n",
       "  </tbody>\n",
       "</table>\n",
       "</div>"
      ],
      "text/plain": [
       "                        universe_id universe_training_year  \\\n",
       "0  6bc94fa78ecd687485a543dd015c5ea0                   2014   \n",
       "\n",
       "  universe_training_size universe_scale universe_model  \\\n",
       "0                     5k   do-not-scale         logreg   \n",
       "\n",
       "  universe_exclude_features universe_exclude_subgroups     q_hat  coverage  \\\n",
       "0                       sex                   keep-all  0.677553  0.911258   \n",
       "\n",
       "   avg_size  \n",
       "0  1.205038  "
      ]
     },
     "execution_count": 50,
     "metadata": {},
     "output_type": "execute_result"
    }
   ],
   "source": [
    "cp_metrics_df"
   ]
  },
  {
   "cell_type": "markdown",
   "id": "ed608b0b",
   "metadata": {
    "papermill": {
     "duration": 0.013356,
     "end_time": "2025-08-19T18:27:15.537405",
     "exception": false,
     "start_time": "2025-08-19T18:27:15.524049",
     "status": "completed"
    },
    "tags": []
   },
   "source": [
    "Conditional coverage & looking at subgroups"
   ]
  },
  {
   "cell_type": "code",
   "execution_count": 51,
   "id": "8968c366",
   "metadata": {
    "execution": {
     "iopub.execute_input": "2025-08-19T18:27:15.562112Z",
     "iopub.status.busy": "2025-08-19T18:27:15.561718Z",
     "iopub.status.idle": "2025-08-19T18:27:15.805018Z",
     "shell.execute_reply": "2025-08-19T18:27:15.804297Z"
    },
    "papermill": {
     "duration": 0.258728,
     "end_time": "2025-08-19T18:27:15.807896",
     "exception": false,
     "start_time": "2025-08-19T18:27:15.549168",
     "status": "completed"
    },
    "tags": []
   },
   "outputs": [],
   "source": [
    "from fairness_multiverse.conformal import build_cp_groups\n",
    "\n",
    "cp_groups_df = build_cp_groups(pred_sets, y_true, X_test.index, org_test)"
   ]
  },
  {
   "cell_type": "code",
   "execution_count": 52,
   "id": "292ddabf",
   "metadata": {
    "execution": {
     "iopub.execute_input": "2025-08-19T18:27:15.834243Z",
     "iopub.status.busy": "2025-08-19T18:27:15.833837Z",
     "iopub.status.idle": "2025-08-19T18:27:16.661977Z",
     "shell.execute_reply": "2025-08-19T18:27:16.661319Z"
    },
    "papermill": {
     "duration": 0.842908,
     "end_time": "2025-08-19T18:27:16.663580",
     "exception": false,
     "start_time": "2025-08-19T18:27:15.820672",
     "status": "completed"
    },
    "tags": []
   },
   "outputs": [],
   "source": [
    "# Define covered = 1 if true_label is in the predicted set\n",
    "cp_groups_df['covered'] = cp_groups_df.apply(\n",
    "    lambda r: int(r['true_label'] in r['pred_set']),\n",
    "    axis=1\n",
    ")"
   ]
  },
  {
   "cell_type": "code",
   "execution_count": 53,
   "id": "3a261692",
   "metadata": {
    "execution": {
     "iopub.execute_input": "2025-08-19T18:27:16.694441Z",
     "iopub.status.busy": "2025-08-19T18:27:16.693398Z",
     "iopub.status.idle": "2025-08-19T18:27:16.718216Z",
     "shell.execute_reply": "2025-08-19T18:27:16.717220Z"
    },
    "papermill": {
     "duration": 0.044885,
     "end_time": "2025-08-19T18:27:16.720944",
     "exception": false,
     "start_time": "2025-08-19T18:27:16.676059",
     "status": "completed"
    },
    "tags": []
   },
   "outputs": [],
   "source": [
    "subgroups = ['frau1','nongerman','nongerman_male','nongerman_female']\n",
    "\n",
    "# Conditional coverage for subgroup==1\n",
    "cond_coverage = {\n",
    "    g: cp_groups_df.loc[cp_groups_df[g]==1, 'covered'].mean()\n",
    "    for g in subgroups\n",
    "}"
   ]
  },
  {
   "cell_type": "code",
   "execution_count": 54,
   "id": "894fd600",
   "metadata": {
    "execution": {
     "iopub.execute_input": "2025-08-19T18:27:16.758455Z",
     "iopub.status.busy": "2025-08-19T18:27:16.757547Z",
     "iopub.status.idle": "2025-08-19T18:27:16.768675Z",
     "shell.execute_reply": "2025-08-19T18:27:16.767302Z"
    },
    "papermill": {
     "duration": 0.026712,
     "end_time": "2025-08-19T18:27:16.770372",
     "exception": false,
     "start_time": "2025-08-19T18:27:16.743660",
     "status": "completed"
    },
    "tags": []
   },
   "outputs": [
    {
     "data": {
      "text/plain": [
       "{'frau1': 0.9085860628116997,\n",
       " 'nongerman': 0.9289283107842586,\n",
       " 'nongerman_male': 0.943979104746465,\n",
       " 'nongerman_female': 0.9040238450074516}"
      ]
     },
     "execution_count": 54,
     "metadata": {},
     "output_type": "execute_result"
    }
   ],
   "source": [
    "cond_coverage"
   ]
  },
  {
   "cell_type": "code",
   "execution_count": 55,
   "id": "942895c7",
   "metadata": {
    "execution": {
     "iopub.execute_input": "2025-08-19T18:27:16.799027Z",
     "iopub.status.busy": "2025-08-19T18:27:16.797910Z",
     "iopub.status.idle": "2025-08-19T18:27:16.810288Z",
     "shell.execute_reply": "2025-08-19T18:27:16.809010Z"
    },
    "papermill": {
     "duration": 0.027552,
     "end_time": "2025-08-19T18:27:16.812057",
     "exception": false,
     "start_time": "2025-08-19T18:27:16.784505",
     "status": "completed"
    },
    "tags": []
   },
   "outputs": [],
   "source": [
    "for subgroup, cov in cond_coverage.items():\n",
    "    cp_metrics_df[f\"cov_{subgroup}\"] = cov"
   ]
  },
  {
   "cell_type": "code",
   "execution_count": 56,
   "id": "3970120f",
   "metadata": {
    "execution": {
     "iopub.execute_input": "2025-08-19T18:27:16.842975Z",
     "iopub.status.busy": "2025-08-19T18:27:16.842021Z",
     "iopub.status.idle": "2025-08-19T18:27:16.869538Z",
     "shell.execute_reply": "2025-08-19T18:27:16.868444Z"
    },
    "papermill": {
     "duration": 0.043331,
     "end_time": "2025-08-19T18:27:16.871963",
     "exception": false,
     "start_time": "2025-08-19T18:27:16.828632",
     "status": "completed"
    },
    "tags": []
   },
   "outputs": [
    {
     "data": {
      "text/html": [
       "<div>\n",
       "<style scoped>\n",
       "    .dataframe tbody tr th:only-of-type {\n",
       "        vertical-align: middle;\n",
       "    }\n",
       "\n",
       "    .dataframe tbody tr th {\n",
       "        vertical-align: top;\n",
       "    }\n",
       "\n",
       "    .dataframe thead th {\n",
       "        text-align: right;\n",
       "    }\n",
       "</style>\n",
       "<table border=\"1\" class=\"dataframe\">\n",
       "  <thead>\n",
       "    <tr style=\"text-align: right;\">\n",
       "      <th></th>\n",
       "      <th>universe_id</th>\n",
       "      <th>universe_training_year</th>\n",
       "      <th>universe_training_size</th>\n",
       "      <th>universe_scale</th>\n",
       "      <th>universe_model</th>\n",
       "      <th>universe_exclude_features</th>\n",
       "      <th>universe_exclude_subgroups</th>\n",
       "      <th>q_hat</th>\n",
       "      <th>coverage</th>\n",
       "      <th>avg_size</th>\n",
       "      <th>cov_frau1</th>\n",
       "      <th>cov_nongerman</th>\n",
       "      <th>cov_nongerman_male</th>\n",
       "      <th>cov_nongerman_female</th>\n",
       "    </tr>\n",
       "  </thead>\n",
       "  <tbody>\n",
       "    <tr>\n",
       "      <th>0</th>\n",
       "      <td>6bc94fa78ecd687485a543dd015c5ea0</td>\n",
       "      <td>2014</td>\n",
       "      <td>5k</td>\n",
       "      <td>do-not-scale</td>\n",
       "      <td>logreg</td>\n",
       "      <td>sex</td>\n",
       "      <td>keep-all</td>\n",
       "      <td>0.677553</td>\n",
       "      <td>0.911258</td>\n",
       "      <td>1.205038</td>\n",
       "      <td>0.908586</td>\n",
       "      <td>0.928928</td>\n",
       "      <td>0.943979</td>\n",
       "      <td>0.904024</td>\n",
       "    </tr>\n",
       "  </tbody>\n",
       "</table>\n",
       "</div>"
      ],
      "text/plain": [
       "                        universe_id universe_training_year  \\\n",
       "0  6bc94fa78ecd687485a543dd015c5ea0                   2014   \n",
       "\n",
       "  universe_training_size universe_scale universe_model  \\\n",
       "0                     5k   do-not-scale         logreg   \n",
       "\n",
       "  universe_exclude_features universe_exclude_subgroups     q_hat  coverage  \\\n",
       "0                       sex                   keep-all  0.677553  0.911258   \n",
       "\n",
       "   avg_size  cov_frau1  cov_nongerman  cov_nongerman_male  \\\n",
       "0  1.205038   0.908586       0.928928            0.943979   \n",
       "\n",
       "   cov_nongerman_female  \n",
       "0              0.904024  "
      ]
     },
     "execution_count": 56,
     "metadata": {},
     "output_type": "execute_result"
    }
   ],
   "source": [
    "cp_metrics_df"
   ]
  },
  {
   "cell_type": "markdown",
   "id": "3fc519cc",
   "metadata": {
    "papermill": {
     "duration": 0.011983,
     "end_time": "2025-08-19T18:27:16.902082",
     "exception": false,
     "start_time": "2025-08-19T18:27:16.890099",
     "status": "completed"
    },
    "tags": []
   },
   "source": [
    "# (Fairness) Metrics"
   ]
  },
  {
   "cell_type": "code",
   "execution_count": 57,
   "id": "a2e5e155",
   "metadata": {
    "execution": {
     "iopub.execute_input": "2025-08-19T18:27:16.929134Z",
     "iopub.status.busy": "2025-08-19T18:27:16.928107Z",
     "iopub.status.idle": "2025-08-19T18:27:16.958928Z",
     "shell.execute_reply": "2025-08-19T18:27:16.958008Z"
    },
    "papermill": {
     "duration": 0.047492,
     "end_time": "2025-08-19T18:27:16.961536",
     "exception": false,
     "start_time": "2025-08-19T18:27:16.914044",
     "status": "completed"
    },
    "tags": []
   },
   "outputs": [],
   "source": [
    "colname_to_bin = \"maxdeutsch1\"\n",
    "majority_value = org_train[colname_to_bin].mode()[0]\n",
    "\n",
    "org_test[\"majmin\"] = np.where(org_test[colname_to_bin] == majority_value, \"majority\", \"minority\")"
   ]
  },
  {
   "cell_type": "code",
   "execution_count": 58,
   "id": "17e3e4d5",
   "metadata": {
    "execution": {
     "iopub.execute_input": "2025-08-19T18:27:17.000807Z",
     "iopub.status.busy": "2025-08-19T18:27:16.999827Z",
     "iopub.status.idle": "2025-08-19T18:27:18.711609Z",
     "shell.execute_reply": "2025-08-19T18:27:18.710344Z"
    },
    "papermill": {
     "duration": 1.728205,
     "end_time": "2025-08-19T18:27:18.713366",
     "exception": false,
     "start_time": "2025-08-19T18:27:16.985161",
     "status": "completed"
    },
    "tags": []
   },
   "outputs": [],
   "source": [
    "example_universe = universe.copy()\n",
    "example_universe[\"cutoff\"] = example_universe[\"cutoff\"][0]\n",
    "example_universe[\"eval_fairness_grouping\"] = example_universe[\"eval_fairness_grouping\"][0]\n",
    "fairness_dict, metric_frame = universe_analysis.compute_metrics(\n",
    "    example_universe,\n",
    "    y_pred_prob=probs_test,\n",
    "    y_test=y_true,\n",
    "    org_test=org_test,\n",
    ")"
   ]
  },
  {
   "cell_type": "markdown",
   "id": "1fb7a0e9",
   "metadata": {
    "papermill": {
     "duration": 0.012092,
     "end_time": "2025-08-19T18:27:18.738150",
     "exception": false,
     "start_time": "2025-08-19T18:27:18.726058",
     "status": "completed"
    },
    "tags": []
   },
   "source": [
    "# Overall"
   ]
  },
  {
   "cell_type": "markdown",
   "id": "be1784b1",
   "metadata": {
    "papermill": {
     "duration": 0.012035,
     "end_time": "2025-08-19T18:27:18.762260",
     "exception": false,
     "start_time": "2025-08-19T18:27:18.750225",
     "status": "completed"
    },
    "tags": []
   },
   "source": [
    "Main fairness target: Equalized Odds. Seems to be a better fit than equal opportunity, since we're not only interested in Y = 1. Seems to be a better fit than demographic parity, since we also care about accuracy, not just equal distribution of preds.\n",
    "\n",
    "Pick column for computation of fairness metrics\n",
    "\n",
    "Performance\n",
    "Overall performance measures, most interesting in relation to the measures split by group below"
   ]
  },
  {
   "cell_type": "code",
   "execution_count": 59,
   "id": "b7672bee",
   "metadata": {
    "execution": {
     "iopub.execute_input": "2025-08-19T18:27:18.788043Z",
     "iopub.status.busy": "2025-08-19T18:27:18.787594Z",
     "iopub.status.idle": "2025-08-19T18:27:18.795922Z",
     "shell.execute_reply": "2025-08-19T18:27:18.795160Z"
    },
    "papermill": {
     "duration": 0.023773,
     "end_time": "2025-08-19T18:27:18.798118",
     "exception": false,
     "start_time": "2025-08-19T18:27:18.774345",
     "status": "completed"
    },
    "tags": []
   },
   "outputs": [
    {
     "data": {
      "text/plain": [
       "accuracy                   0.216308\n",
       "balanced accuracy          0.530593\n",
       "f1                         0.237861\n",
       "precision                  0.135882\n",
       "false positive rate        0.892151\n",
       "false negative rate        0.046663\n",
       "selection rate             0.900000\n",
       "count                  89710.000000\n",
       "dtype: float64"
      ]
     },
     "execution_count": 59,
     "metadata": {},
     "output_type": "execute_result"
    }
   ],
   "source": [
    "metric_frame.overall"
   ]
  },
  {
   "cell_type": "markdown",
   "id": "d93333c9",
   "metadata": {
    "papermill": {
     "duration": 0.012244,
     "end_time": "2025-08-19T18:27:18.824794",
     "exception": false,
     "start_time": "2025-08-19T18:27:18.812550",
     "status": "completed"
    },
    "tags": []
   },
   "source": [
    "By Group"
   ]
  },
  {
   "cell_type": "code",
   "execution_count": 60,
   "id": "52256966",
   "metadata": {
    "execution": {
     "iopub.execute_input": "2025-08-19T18:27:18.851873Z",
     "iopub.status.busy": "2025-08-19T18:27:18.851426Z",
     "iopub.status.idle": "2025-08-19T18:27:18.864821Z",
     "shell.execute_reply": "2025-08-19T18:27:18.863963Z"
    },
    "papermill": {
     "duration": 0.028339,
     "end_time": "2025-08-19T18:27:18.866663",
     "exception": false,
     "start_time": "2025-08-19T18:27:18.838324",
     "status": "completed"
    },
    "tags": []
   },
   "outputs": [
    {
     "data": {
      "text/html": [
       "<div>\n",
       "<style scoped>\n",
       "    .dataframe tbody tr th:only-of-type {\n",
       "        vertical-align: middle;\n",
       "    }\n",
       "\n",
       "    .dataframe tbody tr th {\n",
       "        vertical-align: top;\n",
       "    }\n",
       "\n",
       "    .dataframe thead th {\n",
       "        text-align: right;\n",
       "    }\n",
       "</style>\n",
       "<table border=\"1\" class=\"dataframe\">\n",
       "  <thead>\n",
       "    <tr style=\"text-align: right;\">\n",
       "      <th></th>\n",
       "      <th>accuracy</th>\n",
       "      <th>balanced accuracy</th>\n",
       "      <th>f1</th>\n",
       "      <th>precision</th>\n",
       "      <th>false positive rate</th>\n",
       "      <th>false negative rate</th>\n",
       "      <th>selection rate</th>\n",
       "      <th>count</th>\n",
       "    </tr>\n",
       "    <tr>\n",
       "      <th>majmin</th>\n",
       "      <th></th>\n",
       "      <th></th>\n",
       "      <th></th>\n",
       "      <th></th>\n",
       "      <th></th>\n",
       "      <th></th>\n",
       "      <th></th>\n",
       "      <th></th>\n",
       "    </tr>\n",
       "  </thead>\n",
       "  <tbody>\n",
       "    <tr>\n",
       "      <th>majority</th>\n",
       "      <td>0.237675</td>\n",
       "      <td>0.537801</td>\n",
       "      <td>0.246908</td>\n",
       "      <td>0.141989</td>\n",
       "      <td>0.870132</td>\n",
       "      <td>0.054267</td>\n",
       "      <td>0.880121</td>\n",
       "      <td>69170.0</td>\n",
       "    </tr>\n",
       "    <tr>\n",
       "      <th>minority</th>\n",
       "      <td>0.144352</td>\n",
       "      <td>0.508897</td>\n",
       "      <td>0.209366</td>\n",
       "      <td>0.117164</td>\n",
       "      <td>0.964891</td>\n",
       "      <td>0.017314</td>\n",
       "      <td>0.966943</td>\n",
       "      <td>20540.0</td>\n",
       "    </tr>\n",
       "  </tbody>\n",
       "</table>\n",
       "</div>"
      ],
      "text/plain": [
       "          accuracy  balanced accuracy        f1  precision  \\\n",
       "majmin                                                       \n",
       "majority  0.237675           0.537801  0.246908   0.141989   \n",
       "minority  0.144352           0.508897  0.209366   0.117164   \n",
       "\n",
       "          false positive rate  false negative rate  selection rate    count  \n",
       "majmin                                                                       \n",
       "majority             0.870132             0.054267        0.880121  69170.0  \n",
       "minority             0.964891             0.017314        0.966943  20540.0  "
      ]
     },
     "execution_count": 60,
     "metadata": {},
     "output_type": "execute_result"
    }
   ],
   "source": [
    "metric_frame.by_group"
   ]
  },
  {
   "cell_type": "code",
   "execution_count": 61,
   "id": "6e6c20ae",
   "metadata": {
    "execution": {
     "iopub.execute_input": "2025-08-19T18:27:18.897822Z",
     "iopub.status.busy": "2025-08-19T18:27:18.897432Z",
     "iopub.status.idle": "2025-08-19T18:27:20.716857Z",
     "shell.execute_reply": "2025-08-19T18:27:20.715888Z"
    },
    "papermill": {
     "duration": 1.834625,
     "end_time": "2025-08-19T18:27:20.718271",
     "exception": false,
     "start_time": "2025-08-19T18:27:18.883646",
     "status": "completed"
    },
    "tags": []
   },
   "outputs": [
    {
     "data": {
      "text/plain": [
       "array([[<Axes: title={'center': 'accuracy'}, xlabel='majmin'>,\n",
       "        <Axes: title={'center': 'balanced accuracy'}, xlabel='majmin'>,\n",
       "        <Axes: title={'center': 'f1'}, xlabel='majmin'>],\n",
       "       [<Axes: title={'center': 'precision'}, xlabel='majmin'>,\n",
       "        <Axes: title={'center': 'false positive rate'}, xlabel='majmin'>,\n",
       "        <Axes: title={'center': 'false negative rate'}, xlabel='majmin'>],\n",
       "       [<Axes: title={'center': 'selection rate'}, xlabel='majmin'>,\n",
       "        <Axes: title={'center': 'count'}, xlabel='majmin'>,\n",
       "        <Axes: xlabel='majmin'>]], dtype=object)"
      ]
     },
     "execution_count": 61,
     "metadata": {},
     "output_type": "execute_result"
    },
    {
     "data": {
      "image/png": "[encoded data removed]",
      "text/plain": [
       "<Figure size 1200x800 with 9 Axes>"
      ]
     },
     "metadata": {},
     "output_type": "display_data"
    }
   ],
   "source": [
    "# In a graphic\n",
    "metric_frame.by_group.plot.bar(\n",
    "    subplots=True,\n",
    "    layout=[3, 3],\n",
    "    legend=False,\n",
    "    figsize=[12, 8],\n",
    "    title=\"Show all metrics\",\n",
    ")"
   ]
  },
  {
   "cell_type": "markdown",
   "id": "b2e433ae",
   "metadata": {
    "papermill": {
     "duration": 0.013562,
     "end_time": "2025-08-19T18:27:20.752585",
     "exception": false,
     "start_time": "2025-08-19T18:27:20.739023",
     "status": "completed"
    },
    "tags": []
   },
   "source": [
    "# Final Output"
   ]
  },
  {
   "cell_type": "code",
   "execution_count": 62,
   "id": "3871301e",
   "metadata": {
    "execution": {
     "iopub.execute_input": "2025-08-19T18:27:20.789377Z",
     "iopub.status.busy": "2025-08-19T18:27:20.787341Z",
     "iopub.status.idle": "2025-08-19T18:27:20.805109Z",
     "shell.execute_reply": "2025-08-19T18:27:20.803972Z"
    },
    "papermill": {
     "duration": 0.040716,
     "end_time": "2025-08-19T18:27:20.806794",
     "exception": false,
     "start_time": "2025-08-19T18:27:20.766078",
     "status": "completed"
    },
    "tags": []
   },
   "outputs": [
    {
     "data": {
      "text/plain": [
       "4"
      ]
     },
     "execution_count": 62,
     "metadata": {},
     "output_type": "execute_result"
    }
   ],
   "source": [
    "sub_universes = universe_analysis.generate_sub_universes()\n",
    "len(sub_universes)"
   ]
  },
  {
   "cell_type": "code",
   "execution_count": 63,
   "id": "d9cfdaca",
   "metadata": {
    "execution": {
     "iopub.execute_input": "2025-08-19T18:27:20.847895Z",
     "iopub.status.busy": "2025-08-19T18:27:20.846966Z",
     "iopub.status.idle": "2025-08-19T18:27:20.857171Z",
     "shell.execute_reply": "2025-08-19T18:27:20.855570Z"
    },
    "papermill": {
     "duration": 0.02742,
     "end_time": "2025-08-19T18:27:20.858689",
     "exception": false,
     "start_time": "2025-08-19T18:27:20.831269",
     "status": "completed"
    },
    "tags": []
   },
   "outputs": [],
   "source": [
    "def filter_sub_universe_data(sub_universe, org_test):\n",
    "    # Keep all rows — no filtering\n",
    "    keep_rows_mask = np.ones(org_test.shape[0], dtype=bool)\n",
    "\n",
    "    print(f\"[INFO] Keeping all rows: {keep_rows_mask.sum()} rows retained.\")\n",
    "    return keep_rows_mask"
   ]
  },
  {
   "cell_type": "code",
   "execution_count": 64,
   "id": "2bc31ac1",
   "metadata": {
    "execution": {
     "iopub.execute_input": "2025-08-19T18:27:20.892209Z",
     "iopub.status.busy": "2025-08-19T18:27:20.890723Z",
     "iopub.status.idle": "2025-08-19T18:27:27.493217Z",
     "shell.execute_reply": "2025-08-19T18:27:27.491867Z"
    },
    "papermill": {
     "duration": 6.61959,
     "end_time": "2025-08-19T18:27:27.495133",
     "exception": false,
     "start_time": "2025-08-19T18:27:20.875543",
     "status": "completed"
    },
    "tags": []
   },
   "outputs": [
    {
     "name": "stdout",
     "output_type": "stream",
     "text": [
      "Stopping execution_time clock.\n",
      "[INFO] Keeping all rows: 89710 rows retained.\n"
     ]
    },
    {
     "name": "stdout",
     "output_type": "stream",
     "text": [
      "[INFO] Keeping all rows: 89710 rows retained.\n"
     ]
    },
    {
     "name": "stdout",
     "output_type": "stream",
     "text": [
      "[INFO] Keeping all rows: 89710 rows retained.\n"
     ]
    },
    {
     "name": "stdout",
     "output_type": "stream",
     "text": [
      "[INFO] Keeping all rows: 89710 rows retained.\n"
     ]
    },
    {
     "data": {
      "text/html": [
       "<div>\n",
       "<style scoped>\n",
       "    .dataframe tbody tr th:only-of-type {\n",
       "        vertical-align: middle;\n",
       "    }\n",
       "\n",
       "    .dataframe tbody tr th {\n",
       "        vertical-align: top;\n",
       "    }\n",
       "\n",
       "    .dataframe thead th {\n",
       "        text-align: right;\n",
       "    }\n",
       "</style>\n",
       "<table border=\"1\" class=\"dataframe\">\n",
       "  <thead>\n",
       "    <tr style=\"text-align: right;\">\n",
       "      <th></th>\n",
       "      <th>run_no</th>\n",
       "      <th>universe_id</th>\n",
       "      <th>universe_settings</th>\n",
       "      <th>execution_time</th>\n",
       "      <th>test_size_n</th>\n",
       "      <th>test_size_frac</th>\n",
       "      <th>fair_main_equalized_odds_difference</th>\n",
       "      <th>fair_main_equalized_odds_ratio</th>\n",
       "      <th>fair_main_demographic_parity_difference</th>\n",
       "      <th>fair_main_demographic_parity_ratio</th>\n",
       "      <th>...</th>\n",
       "      <th>perf_grp_precision_0</th>\n",
       "      <th>perf_grp_precision_1</th>\n",
       "      <th>perf_grp_false positive rate_0</th>\n",
       "      <th>perf_grp_false positive rate_1</th>\n",
       "      <th>perf_grp_false negative rate_0</th>\n",
       "      <th>perf_grp_false negative rate_1</th>\n",
       "      <th>perf_grp_selection rate_0</th>\n",
       "      <th>perf_grp_selection rate_1</th>\n",
       "      <th>perf_grp_count_0</th>\n",
       "      <th>perf_grp_count_1</th>\n",
       "    </tr>\n",
       "  </thead>\n",
       "  <tbody>\n",
       "    <tr>\n",
       "      <th>0</th>\n",
       "      <td>3</td>\n",
       "      <td>6bc94fa78ecd687485a543dd015c5ea0</td>\n",
       "      <td>{\"cutoff\": \"quantile_0.1\", \"eval_fairness_grou...</td>\n",
       "      <td>19.711323</td>\n",
       "      <td>89710</td>\n",
       "      <td>1.0</td>\n",
       "      <td>0.094759</td>\n",
       "      <td>0.901793</td>\n",
       "      <td>0.086821</td>\n",
       "      <td>0.910211</td>\n",
       "      <td>...</td>\n",
       "      <td>NaN</td>\n",
       "      <td>NaN</td>\n",
       "      <td>NaN</td>\n",
       "      <td>NaN</td>\n",
       "      <td>NaN</td>\n",
       "      <td>NaN</td>\n",
       "      <td>NaN</td>\n",
       "      <td>NaN</td>\n",
       "      <td>NaN</td>\n",
       "      <td>NaN</td>\n",
       "    </tr>\n",
       "    <tr>\n",
       "      <th>0</th>\n",
       "      <td>3</td>\n",
       "      <td>6bc94fa78ecd687485a543dd015c5ea0</td>\n",
       "      <td>{\"cutoff\": \"quantile_0.1\", \"eval_fairness_grou...</td>\n",
       "      <td>19.711323</td>\n",
       "      <td>89710</td>\n",
       "      <td>1.0</td>\n",
       "      <td>0.094759</td>\n",
       "      <td>0.901793</td>\n",
       "      <td>0.086821</td>\n",
       "      <td>0.910211</td>\n",
       "      <td>...</td>\n",
       "      <td>0.117164</td>\n",
       "      <td>0.141989</td>\n",
       "      <td>0.964891</td>\n",
       "      <td>0.870132</td>\n",
       "      <td>0.017314</td>\n",
       "      <td>0.054267</td>\n",
       "      <td>0.966943</td>\n",
       "      <td>0.880121</td>\n",
       "      <td>20540.0</td>\n",
       "      <td>69170.0</td>\n",
       "    </tr>\n",
       "    <tr>\n",
       "      <th>0</th>\n",
       "      <td>3</td>\n",
       "      <td>6bc94fa78ecd687485a543dd015c5ea0</td>\n",
       "      <td>{\"cutoff\": \"quantile_0.25\", \"eval_fairness_gro...</td>\n",
       "      <td>19.711323</td>\n",
       "      <td>89710</td>\n",
       "      <td>1.0</td>\n",
       "      <td>0.210054</td>\n",
       "      <td>0.764420</td>\n",
       "      <td>0.192655</td>\n",
       "      <td>0.785591</td>\n",
       "      <td>...</td>\n",
       "      <td>NaN</td>\n",
       "      <td>NaN</td>\n",
       "      <td>NaN</td>\n",
       "      <td>NaN</td>\n",
       "      <td>NaN</td>\n",
       "      <td>NaN</td>\n",
       "      <td>NaN</td>\n",
       "      <td>NaN</td>\n",
       "      <td>NaN</td>\n",
       "      <td>NaN</td>\n",
       "    </tr>\n",
       "    <tr>\n",
       "      <th>0</th>\n",
       "      <td>3</td>\n",
       "      <td>6bc94fa78ecd687485a543dd015c5ea0</td>\n",
       "      <td>{\"cutoff\": \"quantile_0.25\", \"eval_fairness_gro...</td>\n",
       "      <td>19.711323</td>\n",
       "      <td>89710</td>\n",
       "      <td>1.0</td>\n",
       "      <td>0.210054</td>\n",
       "      <td>0.764420</td>\n",
       "      <td>0.192655</td>\n",
       "      <td>0.785591</td>\n",
       "      <td>...</td>\n",
       "      <td>0.122074</td>\n",
       "      <td>0.162004</td>\n",
       "      <td>0.891646</td>\n",
       "      <td>0.681593</td>\n",
       "      <td>0.048564</td>\n",
       "      <td>0.134573</td>\n",
       "      <td>0.898539</td>\n",
       "      <td>0.705884</td>\n",
       "      <td>20540.0</td>\n",
       "      <td>69170.0</td>\n",
       "    </tr>\n",
       "  </tbody>\n",
       "</table>\n",
       "<p>4 rows × 50 columns</p>\n",
       "</div>"
      ],
      "text/plain": [
       "  run_no                       universe_id  \\\n",
       "0      3  6bc94fa78ecd687485a543dd015c5ea0   \n",
       "0      3  6bc94fa78ecd687485a543dd015c5ea0   \n",
       "0      3  6bc94fa78ecd687485a543dd015c5ea0   \n",
       "0      3  6bc94fa78ecd687485a543dd015c5ea0   \n",
       "\n",
       "                                   universe_settings  execution_time  \\\n",
       "0  {\"cutoff\": \"quantile_0.1\", \"eval_fairness_grou...       19.711323   \n",
       "0  {\"cutoff\": \"quantile_0.1\", \"eval_fairness_grou...       19.711323   \n",
       "0  {\"cutoff\": \"quantile_0.25\", \"eval_fairness_gro...       19.711323   \n",
       "0  {\"cutoff\": \"quantile_0.25\", \"eval_fairness_gro...       19.711323   \n",
       "\n",
       "   test_size_n  test_size_frac  fair_main_equalized_odds_difference  \\\n",
       "0        89710             1.0                             0.094759   \n",
       "0        89710             1.0                             0.094759   \n",
       "0        89710             1.0                             0.210054   \n",
       "0        89710             1.0                             0.210054   \n",
       "\n",
       "   fair_main_equalized_odds_ratio  fair_main_demographic_parity_difference  \\\n",
       "0                        0.901793                                 0.086821   \n",
       "0                        0.901793                                 0.086821   \n",
       "0                        0.764420                                 0.192655   \n",
       "0                        0.764420                                 0.192655   \n",
       "\n",
       "   fair_main_demographic_parity_ratio  ...  perf_grp_precision_0  \\\n",
       "0                            0.910211  ...                   NaN   \n",
       "0                            0.910211  ...              0.117164   \n",
       "0                            0.785591  ...                   NaN   \n",
       "0                            0.785591  ...              0.122074   \n",
       "\n",
       "   perf_grp_precision_1  perf_grp_false positive rate_0  \\\n",
       "0                   NaN                             NaN   \n",
       "0              0.141989                        0.964891   \n",
       "0                   NaN                             NaN   \n",
       "0              0.162004                        0.891646   \n",
       "\n",
       "   perf_grp_false positive rate_1  perf_grp_false negative rate_0  \\\n",
       "0                             NaN                             NaN   \n",
       "0                        0.870132                        0.017314   \n",
       "0                             NaN                             NaN   \n",
       "0                        0.681593                        0.048564   \n",
       "\n",
       "   perf_grp_false negative rate_1  perf_grp_selection rate_0  \\\n",
       "0                             NaN                        NaN   \n",
       "0                        0.054267                   0.966943   \n",
       "0                             NaN                        NaN   \n",
       "0                        0.134573                   0.898539   \n",
       "\n",
       "   perf_grp_selection rate_1  perf_grp_count_0  perf_grp_count_1  \n",
       "0                        NaN               NaN               NaN  \n",
       "0                   0.880121           20540.0           69170.0  \n",
       "0                        NaN               NaN               NaN  \n",
       "0                   0.705884           20540.0           69170.0  \n",
       "\n",
       "[4 rows x 50 columns]"
      ]
     },
     "execution_count": 64,
     "metadata": {},
     "output_type": "execute_result"
    }
   ],
   "source": [
    "final_output = universe_analysis.generate_final_output(\n",
    "    y_pred_prob=probs_test,\n",
    "    y_test=y_true,\n",
    "    org_test=org_test,\n",
    "    filter_data=filter_sub_universe_data,\n",
    "    cp_metrics_df=cp_metrics_df,\n",
    "    save=True,\n",
    ")\n",
    "final_output"
   ]
  },
  {
   "cell_type": "code",
   "execution_count": null,
   "id": "8b80a1ff",
   "metadata": {
    "papermill": {
     "duration": 0.026626,
     "end_time": "2025-08-19T18:27:27.548026",
     "exception": false,
     "start_time": "2025-08-19T18:27:27.521400",
     "status": "completed"
    },
    "tags": []
   },
   "outputs": [],
   "source": []
  },
  {
   "cell_type": "code",
   "execution_count": null,
   "id": "275c9fad",
   "metadata": {
    "papermill": {
     "duration": 0.014233,
     "end_time": "2025-08-19T18:27:27.577425",
     "exception": false,
     "start_time": "2025-08-19T18:27:27.563192",
     "status": "completed"
    },
    "tags": []
   },
   "outputs": [],
   "source": []
  }
 ],
 "metadata": {
  "celltoolbar": "Tags",
  "kernelspec": {
   "display_name": "Python (CMA Fairness)",
   "language": "python",
   "name": "cma_fair_env"
  },
  "language_info": {
   "codemirror_mode": {
    "name": "ipython",
    "version": 3
   },
   "file_extension": ".py",
   "mimetype": "text/x-python",
   "name": "python",
   "nbconvert_exporter": "python",
   "pygments_lexer": "ipython3",
   "version": "3.10.12"
  },
  "papermill": {
   "default_parameters": {},
   "duration": 29.931935,
   "end_time": "2025-08-19T18:27:28.413960",
   "environment_variables": {},
   "exception": null,
   "input_path": "universe_analysis.ipynb",
   "output_path": "output/runs/3/notebooks/m_3-6bc94fa78ecd687485a543dd015c5ea0.ipynb",
   "parameters": {
    "output_dir": "output",
    "run_no": "3",
    "seed": "2023",
    "universe": "{\"cutoff\": [\"quantile_0.1\", \"quantile_0.25\"], \"eval_fairness_grouping\": [\"majority-minority\", \"nationality-all\"], \"exclude_features\": \"sex\", \"exclude_subgroups\": \"keep-all\", \"model\": \"logreg\", \"scale\": \"do-not-scale\", \"training_size\": \"5k\", \"training_year\": \"2014\"}",
    "universe_id": "6bc94fa78ecd687485a543dd015c5ea0"
   },
   "start_time": "2025-08-19T18:26:58.482025",
   "version": "2.6.0"
  }
 },
 "nbformat": 4,
 "nbformat_minor": 5
}