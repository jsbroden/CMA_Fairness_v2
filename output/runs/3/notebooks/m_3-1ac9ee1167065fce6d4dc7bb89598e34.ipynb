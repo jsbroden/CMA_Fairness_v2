{
 "cells": [
  {
   "cell_type": "markdown",
   "id": "ef23dbb3",
   "metadata": {
    "papermill": {
     "duration": 0.022851,
     "end_time": "2025-08-19T19:02:57.840008",
     "exception": false,
     "start_time": "2025-08-19T19:02:57.817157",
     "status": "completed"
    },
    "tags": []
   },
   "source": [
    "# Setup"
   ]
  },
  {
   "cell_type": "code",
   "execution_count": 1,
   "id": "0bc8e7dc",
   "metadata": {
    "execution": {
     "iopub.execute_input": "2025-08-19T19:02:57.866027Z",
     "iopub.status.busy": "2025-08-19T19:02:57.865345Z",
     "iopub.status.idle": "2025-08-19T19:02:57.877755Z",
     "shell.execute_reply": "2025-08-19T19:02:57.876884Z"
    },
    "papermill": {
     "duration": 0.023994,
     "end_time": "2025-08-19T19:02:57.879165",
     "exception": false,
     "start_time": "2025-08-19T19:02:57.855171",
     "status": "completed"
    },
    "tags": []
   },
   "outputs": [
    {
     "name": "stdout",
     "output_type": "stream",
     "text": [
      "/dss/dsshome1/0C/ra93lal2/cma/CMA_Fairness_v2\n"
     ]
    },
    {
     "name": "stderr",
     "output_type": "stream",
     "text": [
      "/dss/dsshome1/0C/ra93lal2/.local/share/virtualenvs/CMA_Fairness_v2-3j10GkSs/lib/python3.10/site-packages/IPython/core/magics/osm.py:393: UserWarning: This is now an optional IPython functionality, using bookmarks requires you to install the `pickleshare` library.\n",
      "  bkms = self.shell.db.get('bookmarks', {})\n",
      "/dss/dsshome1/0C/ra93lal2/.local/share/virtualenvs/CMA_Fairness_v2-3j10GkSs/lib/python3.10/site-packages/IPython/core/magics/osm.py:417: UserWarning: This is now an optional IPython functionality, setting dhist requires you to install the `pickleshare` library.\n",
      "  self.shell.db['dhist'] = compress_dhist(dhist)[-100:]\n"
     ]
    }
   ],
   "source": [
    "%cd ~/cma/CMA_Fairness_v2"
   ]
  },
  {
   "cell_type": "markdown",
   "id": "9d235661",
   "metadata": {
    "papermill": {
     "duration": 0.008876,
     "end_time": "2025-08-19T19:02:57.899027",
     "exception": false,
     "start_time": "2025-08-19T19:02:57.890151",
     "status": "completed"
    },
    "tags": []
   },
   "source": [
    "The following cell holds the definition of our parameters, these values can be overriden by rendering the with e.g. the following command:\n",
    "\n",
    "papermill -p alpha 0.2 -p ratio 0.3 universe_analysis.ipynb output/test_run.ipynb"
   ]
  },
  {
   "cell_type": "code",
   "execution_count": 2,
   "id": "4a789d8e",
   "metadata": {
    "execution": {
     "iopub.execute_input": "2025-08-19T19:02:57.940790Z",
     "iopub.status.busy": "2025-08-19T19:02:57.940447Z",
     "iopub.status.idle": "2025-08-19T19:02:57.946467Z",
     "shell.execute_reply": "2025-08-19T19:02:57.945589Z"
    },
    "papermill": {
     "duration": 0.039969,
     "end_time": "2025-08-19T19:02:57.947758",
     "exception": false,
     "start_time": "2025-08-19T19:02:57.907789",
     "status": "completed"
    },
    "tags": []
   },
   "outputs": [
    {
     "name": "stdout",
     "output_type": "stream",
     "text": [
      "Current working directory: /dss/dsshome1/0C/ra93lal2/cma/CMA_Fairness_v2\n"
     ]
    }
   ],
   "source": [
    "import os\n",
    "print(\"Current working directory:\", os.getcwd())"
   ]
  },
  {
   "cell_type": "code",
   "execution_count": 3,
   "id": "4132aaed",
   "metadata": {
    "execution": {
     "iopub.execute_input": "2025-08-19T19:02:57.968289Z",
     "iopub.status.busy": "2025-08-19T19:02:57.967979Z",
     "iopub.status.idle": "2025-08-19T19:02:57.974045Z",
     "shell.execute_reply": "2025-08-19T19:02:57.972832Z"
    },
    "papermill": {
     "duration": 0.019485,
     "end_time": "2025-08-19T19:02:57.977148",
     "exception": false,
     "start_time": "2025-08-19T19:02:57.957663",
     "status": "completed"
    },
    "tags": [
     "parameters"
    ]
   },
   "outputs": [],
   "source": [
    "run_no = 0\n",
    "universe_id = \"test\"\n",
    "universe = {\n",
    "    \"training_size\": \"5k\", # \"25k\", \"5k\", \"1k\"\n",
    "    \"training_year\": \"2012_14\", # \"2014\", \"2012_14\", \"2010_14\"\n",
    "    \"scale\": \"scale\", # \"scale\", \"do-not-scale\",\n",
    "    \"model\": \"elasticnet\", # \"logreg\", \"penalized_logreg\", \"rf\", \"gbm\", \"elasticnet\"\n",
    "    \"cutoff\": [\"quantile_0.15\", \"quantile_0.30\"],\n",
    "    \"exclude_features\": \"age\", # \"none\", \"nationality\", \"sex\", \"nationality-sex\", \"age\"\n",
    "    \"exclude_subgroups\": \"drop-non-german\", # \"keep-all\", \"drop-non-german\"\n",
    "    \"eval_fairness_grouping\": [\"majority-minority\", \"nationality-all\"]\n",
    "}\n",
    "\n",
    "output_dir=\"./output\"\n",
    "seed=0"
   ]
  },
  {
   "cell_type": "code",
   "execution_count": 4,
   "id": "f75d69ff",
   "metadata": {
    "execution": {
     "iopub.execute_input": "2025-08-19T19:02:58.004410Z",
     "iopub.status.busy": "2025-08-19T19:02:58.002928Z",
     "iopub.status.idle": "2025-08-19T19:02:58.010523Z",
     "shell.execute_reply": "2025-08-19T19:02:58.009379Z"
    },
    "papermill": {
     "duration": 0.023446,
     "end_time": "2025-08-19T19:02:58.012241",
     "exception": false,
     "start_time": "2025-08-19T19:02:57.988795",
     "status": "completed"
    },
    "tags": [
     "injected-parameters"
    ]
   },
   "outputs": [],
   "source": [
    "# Parameters\n",
    "universe_id = \"1ac9ee1167065fce6d4dc7bb89598e34\"\n",
    "run_no = \"3\"\n",
    "universe = \"{\\\"cutoff\\\": [\\\"quantile_0.1\\\", \\\"quantile_0.25\\\"], \\\"eval_fairness_grouping\\\": [\\\"majority-minority\\\", \\\"nationality-all\\\"], \\\"exclude_features\\\": \\\"none\\\", \\\"exclude_subgroups\\\": \\\"drop-non-german\\\", \\\"model\\\": \\\"gbm\\\", \\\"scale\\\": \\\"do-not-scale\\\", \\\"training_size\\\": \\\"1k\\\", \\\"training_year\\\": \\\"2012_14\\\"}\"\n",
    "output_dir = \"output\"\n",
    "seed = \"2023\"\n"
   ]
  },
  {
   "cell_type": "code",
   "execution_count": 5,
   "id": "a5d7941f",
   "metadata": {
    "execution": {
     "iopub.execute_input": "2025-08-19T19:02:58.036323Z",
     "iopub.status.busy": "2025-08-19T19:02:58.035304Z",
     "iopub.status.idle": "2025-08-19T19:02:58.043944Z",
     "shell.execute_reply": "2025-08-19T19:02:58.043123Z"
    },
    "papermill": {
     "duration": 0.021983,
     "end_time": "2025-08-19T19:02:58.045590",
     "exception": false,
     "start_time": "2025-08-19T19:02:58.023607",
     "status": "completed"
    },
    "tags": []
   },
   "outputs": [],
   "source": [
    "import json\n",
    "if isinstance(universe, str):\n",
    "    universe = json.loads(universe)"
   ]
  },
  {
   "cell_type": "code",
   "execution_count": 6,
   "id": "7076ccb1",
   "metadata": {
    "execution": {
     "iopub.execute_input": "2025-08-19T19:02:58.073343Z",
     "iopub.status.busy": "2025-08-19T19:02:58.072887Z",
     "iopub.status.idle": "2025-08-19T19:02:58.107761Z",
     "shell.execute_reply": "2025-08-19T19:02:58.106930Z"
    },
    "papermill": {
     "duration": 0.049828,
     "end_time": "2025-08-19T19:02:58.110161",
     "exception": false,
     "start_time": "2025-08-19T19:02:58.060333",
     "status": "completed"
    },
    "tags": []
   },
   "outputs": [],
   "source": [
    "# Auto-reload the custom package\n",
    "%load_ext autoreload\n",
    "%autoreload 1\n",
    "%aimport fairness_multiverse"
   ]
  },
  {
   "cell_type": "code",
   "execution_count": 7,
   "id": "94c8eb93",
   "metadata": {
    "execution": {
     "iopub.execute_input": "2025-08-19T19:02:58.146948Z",
     "iopub.status.busy": "2025-08-19T19:02:58.145640Z",
     "iopub.status.idle": "2025-08-19T19:02:59.690321Z",
     "shell.execute_reply": "2025-08-19T19:02:59.689488Z"
    },
    "papermill": {
     "duration": 1.559887,
     "end_time": "2025-08-19T19:02:59.692219",
     "exception": false,
     "start_time": "2025-08-19T19:02:58.132332",
     "status": "completed"
    },
    "tags": []
   },
   "outputs": [],
   "source": [
    "from fairness_multiverse.universe import UniverseAnalysis\n",
    "\n",
    "universe_analysis = UniverseAnalysis(\n",
    "    run_no = run_no,\n",
    "    universe_id = universe_id,\n",
    "    universe = universe,\n",
    "    output_dir=output_dir,\n",
    ")"
   ]
  },
  {
   "cell_type": "code",
   "execution_count": 8,
   "id": "2a6381cf",
   "metadata": {
    "execution": {
     "iopub.execute_input": "2025-08-19T19:02:59.712446Z",
     "iopub.status.busy": "2025-08-19T19:02:59.712029Z",
     "iopub.status.idle": "2025-08-19T19:02:59.717128Z",
     "shell.execute_reply": "2025-08-19T19:02:59.716420Z"
    },
    "papermill": {
     "duration": 0.017268,
     "end_time": "2025-08-19T19:02:59.719138",
     "exception": false,
     "start_time": "2025-08-19T19:02:59.701870",
     "status": "completed"
    },
    "tags": []
   },
   "outputs": [
    {
     "name": "stdout",
     "output_type": "stream",
     "text": [
      "Using Seed: 2023\n"
     ]
    }
   ],
   "source": [
    "import numpy as np\n",
    "parsed_seed = int(seed)\n",
    "np.random.seed(parsed_seed)\n",
    "print(f\"Using Seed: {parsed_seed}\")"
   ]
  },
  {
   "cell_type": "markdown",
   "id": "b6e958b4",
   "metadata": {
    "papermill": {
     "duration": 0.009161,
     "end_time": "2025-08-19T19:02:59.738134",
     "exception": false,
     "start_time": "2025-08-19T19:02:59.728973",
     "status": "completed"
    },
    "tags": []
   },
   "source": [
    "# Loading Data"
   ]
  },
  {
   "cell_type": "code",
   "execution_count": 9,
   "id": "98701482",
   "metadata": {
    "execution": {
     "iopub.execute_input": "2025-08-19T19:02:59.757871Z",
     "iopub.status.busy": "2025-08-19T19:02:59.757456Z",
     "iopub.status.idle": "2025-08-19T19:03:09.854320Z",
     "shell.execute_reply": "2025-08-19T19:03:09.853324Z"
    },
    "papermill": {
     "duration": 10.108623,
     "end_time": "2025-08-19T19:03:09.855815",
     "exception": false,
     "start_time": "2025-08-19T19:02:59.747192",
     "status": "completed"
    },
    "tags": []
   },
   "outputs": [
    {
     "name": "stdout",
     "output_type": "stream",
     "text": [
      "Loading SIAB data from cache: data/siab_cached.csv.gz\n"
     ]
    },
    {
     "name": "stdout",
     "output_type": "stream",
     "text": [
      "(643690, 164)\n"
     ]
    }
   ],
   "source": [
    "from pathlib import Path\n",
    "import pandas as pd\n",
    "\n",
    "# File paths\n",
    "raw_file = Path(\"data/raw/siab.csv\")\n",
    "cache_file = Path(\"data/siab_cached.csv.gz\")\n",
    "\n",
    "# Ensure cache directory exists\n",
    "cache_file.parent.mkdir(parents=True, exist_ok=True)\n",
    "\n",
    "# Load with simple caching\n",
    "if cache_file.exists():\n",
    "    print(f\"Loading SIAB data from cache: {cache_file}\")\n",
    "    siab = pd.read_csv(cache_file, compression='gzip')\n",
    "else:\n",
    "    print(f\"Cache not found. Reading raw SIAB data: {raw_file}\")\n",
    "    siab = pd.read_csv(raw_file)\n",
    "    siab.to_csv(cache_file, index=False, compression='gzip')\n",
    "    print(f\"Cached SIAB data to: {cache_file}\")\n",
    "\n",
    "print(siab.shape)"
   ]
  },
  {
   "cell_type": "code",
   "execution_count": 10,
   "id": "058d2abb",
   "metadata": {
    "execution": {
     "iopub.execute_input": "2025-08-19T19:03:09.901578Z",
     "iopub.status.busy": "2025-08-19T19:03:09.900620Z",
     "iopub.status.idle": "2025-08-19T19:03:10.028083Z",
     "shell.execute_reply": "2025-08-19T19:03:10.027334Z"
    },
    "papermill": {
     "duration": 0.153155,
     "end_time": "2025-08-19T19:03:10.030001",
     "exception": false,
     "start_time": "2025-08-19T19:03:09.876846",
     "status": "completed"
    },
    "tags": []
   },
   "outputs": [
    {
     "data": {
      "text/html": [
       "<div>\n",
       "<style scoped>\n",
       "    .dataframe tbody tr th:only-of-type {\n",
       "        vertical-align: middle;\n",
       "    }\n",
       "\n",
       "    .dataframe tbody tr th {\n",
       "        vertical-align: top;\n",
       "    }\n",
       "\n",
       "    .dataframe thead th {\n",
       "        text-align: right;\n",
       "    }\n",
       "</style>\n",
       "<table border=\"1\" class=\"dataframe\">\n",
       "  <thead>\n",
       "    <tr style=\"text-align: right;\">\n",
       "      <th></th>\n",
       "      <th>persnr</th>\n",
       "      <th>year</th>\n",
       "      <th>nrEntry</th>\n",
       "      <th>ltue</th>\n",
       "      <th>employed_before</th>\n",
       "      <th>receipt_leh_before</th>\n",
       "      <th>receipt_lhg_before</th>\n",
       "      <th>se_before</th>\n",
       "      <th>ASU_notue_seeking_before</th>\n",
       "      <th>ASU_other_before</th>\n",
       "      <th>...</th>\n",
       "      <th>minijob_tot_dur_byage</th>\n",
       "      <th>ft_tot_dur_byage</th>\n",
       "      <th>befrist_tot_dur_byage</th>\n",
       "      <th>leih_tot_dur_byage</th>\n",
       "      <th>LHG_tot_dur_byage</th>\n",
       "      <th>LEH_tot_dur_byage</th>\n",
       "      <th>almp_tot_dur_byage</th>\n",
       "      <th>almp_aw_tot_dur_byage</th>\n",
       "      <th>se_tot_dur_byage</th>\n",
       "      <th>seeking1_tot_dur_byage</th>\n",
       "    </tr>\n",
       "  </thead>\n",
       "  <tbody>\n",
       "    <tr>\n",
       "      <th>0</th>\n",
       "      <td>7</td>\n",
       "      <td>2015</td>\n",
       "      <td>1</td>\n",
       "      <td>0</td>\n",
       "      <td>1</td>\n",
       "      <td>0</td>\n",
       "      <td>0</td>\n",
       "      <td>0</td>\n",
       "      <td>1</td>\n",
       "      <td>0</td>\n",
       "      <td>...</td>\n",
       "      <td>0.000000</td>\n",
       "      <td>0.000000</td>\n",
       "      <td>15.043478</td>\n",
       "      <td>0.000000</td>\n",
       "      <td>0.000000</td>\n",
       "      <td>0.000000</td>\n",
       "      <td>0.000000</td>\n",
       "      <td>0.000000</td>\n",
       "      <td>0.000000</td>\n",
       "      <td>0.000000</td>\n",
       "    </tr>\n",
       "    <tr>\n",
       "      <th>1</th>\n",
       "      <td>18</td>\n",
       "      <td>2010</td>\n",
       "      <td>1</td>\n",
       "      <td>1</td>\n",
       "      <td>0</td>\n",
       "      <td>0</td>\n",
       "      <td>0</td>\n",
       "      <td>0</td>\n",
       "      <td>0</td>\n",
       "      <td>0</td>\n",
       "      <td>...</td>\n",
       "      <td>0.000000</td>\n",
       "      <td>0.000000</td>\n",
       "      <td>0.000000</td>\n",
       "      <td>0.000000</td>\n",
       "      <td>0.000000</td>\n",
       "      <td>0.000000</td>\n",
       "      <td>0.000000</td>\n",
       "      <td>0.000000</td>\n",
       "      <td>0.000000</td>\n",
       "      <td>0.000000</td>\n",
       "    </tr>\n",
       "    <tr>\n",
       "      <th>2</th>\n",
       "      <td>18</td>\n",
       "      <td>2011</td>\n",
       "      <td>2</td>\n",
       "      <td>0</td>\n",
       "      <td>1</td>\n",
       "      <td>0</td>\n",
       "      <td>1</td>\n",
       "      <td>0</td>\n",
       "      <td>1</td>\n",
       "      <td>0</td>\n",
       "      <td>...</td>\n",
       "      <td>2.714286</td>\n",
       "      <td>2.714286</td>\n",
       "      <td>0.000000</td>\n",
       "      <td>0.000000</td>\n",
       "      <td>10.775510</td>\n",
       "      <td>0.000000</td>\n",
       "      <td>8.367347</td>\n",
       "      <td>0.000000</td>\n",
       "      <td>0.000000</td>\n",
       "      <td>9.836735</td>\n",
       "    </tr>\n",
       "    <tr>\n",
       "      <th>3</th>\n",
       "      <td>18</td>\n",
       "      <td>2012</td>\n",
       "      <td>3</td>\n",
       "      <td>0</td>\n",
       "      <td>1</td>\n",
       "      <td>0</td>\n",
       "      <td>1</td>\n",
       "      <td>0</td>\n",
       "      <td>1</td>\n",
       "      <td>0</td>\n",
       "      <td>...</td>\n",
       "      <td>4.200000</td>\n",
       "      <td>4.200000</td>\n",
       "      <td>0.000000</td>\n",
       "      <td>0.000000</td>\n",
       "      <td>12.100000</td>\n",
       "      <td>0.000000</td>\n",
       "      <td>9.400000</td>\n",
       "      <td>0.000000</td>\n",
       "      <td>0.000000</td>\n",
       "      <td>9.960000</td>\n",
       "    </tr>\n",
       "    <tr>\n",
       "      <th>4</th>\n",
       "      <td>18</td>\n",
       "      <td>2012</td>\n",
       "      <td>4</td>\n",
       "      <td>0</td>\n",
       "      <td>1</td>\n",
       "      <td>0</td>\n",
       "      <td>1</td>\n",
       "      <td>0</td>\n",
       "      <td>1</td>\n",
       "      <td>0</td>\n",
       "      <td>...</td>\n",
       "      <td>5.460000</td>\n",
       "      <td>5.460000</td>\n",
       "      <td>0.000000</td>\n",
       "      <td>0.000000</td>\n",
       "      <td>13.360000</td>\n",
       "      <td>0.000000</td>\n",
       "      <td>10.320000</td>\n",
       "      <td>0.000000</td>\n",
       "      <td>0.000000</td>\n",
       "      <td>10.280000</td>\n",
       "    </tr>\n",
       "    <tr>\n",
       "      <th>...</th>\n",
       "      <td>...</td>\n",
       "      <td>...</td>\n",
       "      <td>...</td>\n",
       "      <td>...</td>\n",
       "      <td>...</td>\n",
       "      <td>...</td>\n",
       "      <td>...</td>\n",
       "      <td>...</td>\n",
       "      <td>...</td>\n",
       "      <td>...</td>\n",
       "      <td>...</td>\n",
       "      <td>...</td>\n",
       "      <td>...</td>\n",
       "      <td>...</td>\n",
       "      <td>...</td>\n",
       "      <td>...</td>\n",
       "      <td>...</td>\n",
       "      <td>...</td>\n",
       "      <td>...</td>\n",
       "      <td>...</td>\n",
       "      <td>...</td>\n",
       "    </tr>\n",
       "    <tr>\n",
       "      <th>643685</th>\n",
       "      <td>1827860</td>\n",
       "      <td>2013</td>\n",
       "      <td>1</td>\n",
       "      <td>0</td>\n",
       "      <td>0</td>\n",
       "      <td>0</td>\n",
       "      <td>1</td>\n",
       "      <td>0</td>\n",
       "      <td>0</td>\n",
       "      <td>1</td>\n",
       "      <td>...</td>\n",
       "      <td>0.000000</td>\n",
       "      <td>0.000000</td>\n",
       "      <td>0.000000</td>\n",
       "      <td>0.000000</td>\n",
       "      <td>0.612903</td>\n",
       "      <td>0.000000</td>\n",
       "      <td>0.000000</td>\n",
       "      <td>0.000000</td>\n",
       "      <td>0.000000</td>\n",
       "      <td>0.000000</td>\n",
       "    </tr>\n",
       "    <tr>\n",
       "      <th>643686</th>\n",
       "      <td>1827860</td>\n",
       "      <td>2015</td>\n",
       "      <td>2</td>\n",
       "      <td>1</td>\n",
       "      <td>0</td>\n",
       "      <td>0</td>\n",
       "      <td>1</td>\n",
       "      <td>0</td>\n",
       "      <td>1</td>\n",
       "      <td>0</td>\n",
       "      <td>...</td>\n",
       "      <td>0.000000</td>\n",
       "      <td>0.000000</td>\n",
       "      <td>0.212121</td>\n",
       "      <td>0.212121</td>\n",
       "      <td>17.363636</td>\n",
       "      <td>0.000000</td>\n",
       "      <td>8.909091</td>\n",
       "      <td>0.000000</td>\n",
       "      <td>0.000000</td>\n",
       "      <td>7.121212</td>\n",
       "    </tr>\n",
       "    <tr>\n",
       "      <th>643687</th>\n",
       "      <td>1827860</td>\n",
       "      <td>2016</td>\n",
       "      <td>3</td>\n",
       "      <td>1</td>\n",
       "      <td>0</td>\n",
       "      <td>0</td>\n",
       "      <td>1</td>\n",
       "      <td>1</td>\n",
       "      <td>0</td>\n",
       "      <td>1</td>\n",
       "      <td>...</td>\n",
       "      <td>0.000000</td>\n",
       "      <td>0.000000</td>\n",
       "      <td>0.294118</td>\n",
       "      <td>0.205882</td>\n",
       "      <td>34.705882</td>\n",
       "      <td>0.000000</td>\n",
       "      <td>10.352941</td>\n",
       "      <td>1.705882</td>\n",
       "      <td>1.705882</td>\n",
       "      <td>23.911765</td>\n",
       "    </tr>\n",
       "    <tr>\n",
       "      <th>643688</th>\n",
       "      <td>1827869</td>\n",
       "      <td>2013</td>\n",
       "      <td>1</td>\n",
       "      <td>1</td>\n",
       "      <td>1</td>\n",
       "      <td>0</td>\n",
       "      <td>0</td>\n",
       "      <td>0</td>\n",
       "      <td>1</td>\n",
       "      <td>0</td>\n",
       "      <td>...</td>\n",
       "      <td>0.000000</td>\n",
       "      <td>0.000000</td>\n",
       "      <td>0.000000</td>\n",
       "      <td>0.000000</td>\n",
       "      <td>0.000000</td>\n",
       "      <td>0.525424</td>\n",
       "      <td>0.000000</td>\n",
       "      <td>0.000000</td>\n",
       "      <td>0.000000</td>\n",
       "      <td>0.000000</td>\n",
       "    </tr>\n",
       "    <tr>\n",
       "      <th>643689</th>\n",
       "      <td>1827869</td>\n",
       "      <td>2014</td>\n",
       "      <td>2</td>\n",
       "      <td>0</td>\n",
       "      <td>0</td>\n",
       "      <td>1</td>\n",
       "      <td>0</td>\n",
       "      <td>0</td>\n",
       "      <td>1</td>\n",
       "      <td>0</td>\n",
       "      <td>...</td>\n",
       "      <td>0.000000</td>\n",
       "      <td>0.666667</td>\n",
       "      <td>0.666667</td>\n",
       "      <td>0.000000</td>\n",
       "      <td>0.000000</td>\n",
       "      <td>8.950000</td>\n",
       "      <td>1.033333</td>\n",
       "      <td>0.083333</td>\n",
       "      <td>0.083333</td>\n",
       "      <td>8.133333</td>\n",
       "    </tr>\n",
       "  </tbody>\n",
       "</table>\n",
       "<p>643690 rows × 164 columns</p>\n",
       "</div>"
      ],
      "text/plain": [
       "         persnr  year  nrEntry  ltue  employed_before  receipt_leh_before  \\\n",
       "0             7  2015        1     0                1                   0   \n",
       "1            18  2010        1     1                0                   0   \n",
       "2            18  2011        2     0                1                   0   \n",
       "3            18  2012        3     0                1                   0   \n",
       "4            18  2012        4     0                1                   0   \n",
       "...         ...   ...      ...   ...              ...                 ...   \n",
       "643685  1827860  2013        1     0                0                   0   \n",
       "643686  1827860  2015        2     1                0                   0   \n",
       "643687  1827860  2016        3     1                0                   0   \n",
       "643688  1827869  2013        1     1                1                   0   \n",
       "643689  1827869  2014        2     0                0                   1   \n",
       "\n",
       "        receipt_lhg_before  se_before  ASU_notue_seeking_before  \\\n",
       "0                        0          0                         1   \n",
       "1                        0          0                         0   \n",
       "2                        1          0                         1   \n",
       "3                        1          0                         1   \n",
       "4                        1          0                         1   \n",
       "...                    ...        ...                       ...   \n",
       "643685                   1          0                         0   \n",
       "643686                   1          0                         1   \n",
       "643687                   1          1                         0   \n",
       "643688                   0          0                         1   \n",
       "643689                   0          0                         1   \n",
       "\n",
       "        ASU_other_before  ...  minijob_tot_dur_byage  ft_tot_dur_byage  \\\n",
       "0                      0  ...               0.000000          0.000000   \n",
       "1                      0  ...               0.000000          0.000000   \n",
       "2                      0  ...               2.714286          2.714286   \n",
       "3                      0  ...               4.200000          4.200000   \n",
       "4                      0  ...               5.460000          5.460000   \n",
       "...                  ...  ...                    ...               ...   \n",
       "643685                 1  ...               0.000000          0.000000   \n",
       "643686                 0  ...               0.000000          0.000000   \n",
       "643687                 1  ...               0.000000          0.000000   \n",
       "643688                 0  ...               0.000000          0.000000   \n",
       "643689                 0  ...               0.000000          0.666667   \n",
       "\n",
       "        befrist_tot_dur_byage  leih_tot_dur_byage  LHG_tot_dur_byage  \\\n",
       "0                   15.043478            0.000000           0.000000   \n",
       "1                    0.000000            0.000000           0.000000   \n",
       "2                    0.000000            0.000000          10.775510   \n",
       "3                    0.000000            0.000000          12.100000   \n",
       "4                    0.000000            0.000000          13.360000   \n",
       "...                       ...                 ...                ...   \n",
       "643685               0.000000            0.000000           0.612903   \n",
       "643686               0.212121            0.212121          17.363636   \n",
       "643687               0.294118            0.205882          34.705882   \n",
       "643688               0.000000            0.000000           0.000000   \n",
       "643689               0.666667            0.000000           0.000000   \n",
       "\n",
       "        LEH_tot_dur_byage  almp_tot_dur_byage  almp_aw_tot_dur_byage  \\\n",
       "0                0.000000            0.000000               0.000000   \n",
       "1                0.000000            0.000000               0.000000   \n",
       "2                0.000000            8.367347               0.000000   \n",
       "3                0.000000            9.400000               0.000000   \n",
       "4                0.000000           10.320000               0.000000   \n",
       "...                   ...                 ...                    ...   \n",
       "643685           0.000000            0.000000               0.000000   \n",
       "643686           0.000000            8.909091               0.000000   \n",
       "643687           0.000000           10.352941               1.705882   \n",
       "643688           0.525424            0.000000               0.000000   \n",
       "643689           8.950000            1.033333               0.083333   \n",
       "\n",
       "        se_tot_dur_byage  seeking1_tot_dur_byage  \n",
       "0               0.000000                0.000000  \n",
       "1               0.000000                0.000000  \n",
       "2               0.000000                9.836735  \n",
       "3               0.000000                9.960000  \n",
       "4               0.000000               10.280000  \n",
       "...                  ...                     ...  \n",
       "643685          0.000000                0.000000  \n",
       "643686          0.000000                7.121212  \n",
       "643687          1.705882               23.911765  \n",
       "643688          0.000000                0.000000  \n",
       "643689          0.083333                8.133333  \n",
       "\n",
       "[643690 rows x 164 columns]"
      ]
     },
     "execution_count": 10,
     "metadata": {},
     "output_type": "execute_result"
    }
   ],
   "source": [
    "siab"
   ]
  },
  {
   "cell_type": "markdown",
   "id": "1f87e805",
   "metadata": {
    "papermill": {
     "duration": 0.010943,
     "end_time": "2025-08-19T19:03:10.056657",
     "exception": false,
     "start_time": "2025-08-19T19:03:10.045714",
     "status": "completed"
    },
    "tags": []
   },
   "source": [
    "# Splitting Data and Setting Training Data Size"
   ]
  },
  {
   "cell_type": "code",
   "execution_count": 11,
   "id": "910ae358",
   "metadata": {
    "execution": {
     "iopub.execute_input": "2025-08-19T19:03:10.078459Z",
     "iopub.status.busy": "2025-08-19T19:03:10.078003Z",
     "iopub.status.idle": "2025-08-19T19:03:10.692392Z",
     "shell.execute_reply": "2025-08-19T19:03:10.691567Z"
    },
    "papermill": {
     "duration": 0.628768,
     "end_time": "2025-08-19T19:03:10.695462",
     "exception": false,
     "start_time": "2025-08-19T19:03:10.066694",
     "status": "completed"
    },
    "tags": []
   },
   "outputs": [],
   "source": [
    "from fairness_multiverse.universe import sample_by_year_size\n",
    "\n",
    "siab_train = sample_by_year_size(siab,\n",
    "                               training_year=universe[\"training_year\"],\n",
    "                               training_size=universe[\"training_size\"])"
   ]
  },
  {
   "cell_type": "code",
   "execution_count": 12,
   "id": "919c8ff5",
   "metadata": {
    "execution": {
     "iopub.execute_input": "2025-08-19T19:03:10.736312Z",
     "iopub.status.busy": "2025-08-19T19:03:10.735065Z",
     "iopub.status.idle": "2025-08-19T19:03:10.745047Z",
     "shell.execute_reply": "2025-08-19T19:03:10.743986Z"
    },
    "papermill": {
     "duration": 0.025964,
     "end_time": "2025-08-19T19:03:10.746418",
     "exception": false,
     "start_time": "2025-08-19T19:03:10.720454",
     "status": "completed"
    },
    "tags": []
   },
   "outputs": [
    {
     "data": {
      "text/plain": [
       "(1000, 164)"
      ]
     },
     "execution_count": 12,
     "metadata": {},
     "output_type": "execute_result"
    }
   ],
   "source": [
    "siab_train.shape"
   ]
  },
  {
   "cell_type": "code",
   "execution_count": 13,
   "id": "feb13bf4",
   "metadata": {
    "execution": {
     "iopub.execute_input": "2025-08-19T19:03:10.773182Z",
     "iopub.status.busy": "2025-08-19T19:03:10.771865Z",
     "iopub.status.idle": "2025-08-19T19:03:10.786027Z",
     "shell.execute_reply": "2025-08-19T19:03:10.785048Z"
    },
    "papermill": {
     "duration": 0.028192,
     "end_time": "2025-08-19T19:03:10.787472",
     "exception": false,
     "start_time": "2025-08-19T19:03:10.759280",
     "status": "completed"
    },
    "tags": []
   },
   "outputs": [
    {
     "data": {
      "text/plain": [
       "year\n",
       "2012    334\n",
       "2013    333\n",
       "2014    333\n",
       "dtype: int64"
      ]
     },
     "metadata": {},
     "output_type": "display_data"
    }
   ],
   "source": [
    "display(siab_train.groupby(\"year\").size())"
   ]
  },
  {
   "cell_type": "code",
   "execution_count": 14,
   "id": "0997782f",
   "metadata": {
    "execution": {
     "iopub.execute_input": "2025-08-19T19:03:10.814206Z",
     "iopub.status.busy": "2025-08-19T19:03:10.812974Z",
     "iopub.status.idle": "2025-08-19T19:03:11.068024Z",
     "shell.execute_reply": "2025-08-19T19:03:11.067192Z"
    },
    "papermill": {
     "duration": 0.269234,
     "end_time": "2025-08-19T19:03:11.069737",
     "exception": false,
     "start_time": "2025-08-19T19:03:10.800503",
     "status": "completed"
    },
    "tags": []
   },
   "outputs": [],
   "source": [
    "#siab_train = siab_s[siab_s.year < 2015]\n",
    "siab_calib = siab[siab.year == 2015]\n",
    "siab_test = siab[siab.year == 2016]"
   ]
  },
  {
   "cell_type": "code",
   "execution_count": 15,
   "id": "2c1e4012",
   "metadata": {
    "execution": {
     "iopub.execute_input": "2025-08-19T19:03:11.102652Z",
     "iopub.status.busy": "2025-08-19T19:03:11.102189Z",
     "iopub.status.idle": "2025-08-19T19:03:11.106537Z",
     "shell.execute_reply": "2025-08-19T19:03:11.105816Z"
    },
    "papermill": {
     "duration": 0.022835,
     "end_time": "2025-08-19T19:03:11.108038",
     "exception": false,
     "start_time": "2025-08-19T19:03:11.085203",
     "status": "completed"
    },
    "tags": []
   },
   "outputs": [],
   "source": [
    "#siab_calib.shape"
   ]
  },
  {
   "cell_type": "code",
   "execution_count": 16,
   "id": "f66b54ca",
   "metadata": {
    "execution": {
     "iopub.execute_input": "2025-08-19T19:03:11.129242Z",
     "iopub.status.busy": "2025-08-19T19:03:11.128990Z",
     "iopub.status.idle": "2025-08-19T19:03:11.132993Z",
     "shell.execute_reply": "2025-08-19T19:03:11.132283Z"
    },
    "papermill": {
     "duration": 0.016803,
     "end_time": "2025-08-19T19:03:11.135044",
     "exception": false,
     "start_time": "2025-08-19T19:03:11.118241",
     "status": "completed"
    },
    "tags": []
   },
   "outputs": [],
   "source": [
    "#siab_test.shape"
   ]
  },
  {
   "cell_type": "code",
   "execution_count": 17,
   "id": "27e4384d",
   "metadata": {
    "execution": {
     "iopub.execute_input": "2025-08-19T19:03:11.182494Z",
     "iopub.status.busy": "2025-08-19T19:03:11.182110Z",
     "iopub.status.idle": "2025-08-19T19:03:11.187899Z",
     "shell.execute_reply": "2025-08-19T19:03:11.187197Z"
    },
    "papermill": {
     "duration": 0.034499,
     "end_time": "2025-08-19T19:03:11.199393",
     "exception": false,
     "start_time": "2025-08-19T19:03:11.164894",
     "status": "completed"
    },
    "tags": []
   },
   "outputs": [],
   "source": [
    "X_train = siab_train.iloc[:,4:164]\n",
    "y_train = siab_train.iloc[:, [3]]"
   ]
  },
  {
   "cell_type": "code",
   "execution_count": 18,
   "id": "08ee8389",
   "metadata": {
    "execution": {
     "iopub.execute_input": "2025-08-19T19:03:11.241505Z",
     "iopub.status.busy": "2025-08-19T19:03:11.240417Z",
     "iopub.status.idle": "2025-08-19T19:03:11.294503Z",
     "shell.execute_reply": "2025-08-19T19:03:11.293838Z"
    },
    "papermill": {
     "duration": 0.082483,
     "end_time": "2025-08-19T19:03:11.296022",
     "exception": false,
     "start_time": "2025-08-19T19:03:11.213539",
     "status": "completed"
    },
    "tags": []
   },
   "outputs": [],
   "source": [
    "X_calib = siab_calib.iloc[:,4:164]\n",
    "y_calib = siab_calib.iloc[:, [3]]"
   ]
  },
  {
   "cell_type": "code",
   "execution_count": 19,
   "id": "b7ff42e0",
   "metadata": {
    "execution": {
     "iopub.execute_input": "2025-08-19T19:03:11.323086Z",
     "iopub.status.busy": "2025-08-19T19:03:11.322370Z",
     "iopub.status.idle": "2025-08-19T19:03:11.377759Z",
     "shell.execute_reply": "2025-08-19T19:03:11.376997Z"
    },
    "papermill": {
     "duration": 0.071753,
     "end_time": "2025-08-19T19:03:11.379260",
     "exception": false,
     "start_time": "2025-08-19T19:03:11.307507",
     "status": "completed"
    },
    "tags": []
   },
   "outputs": [],
   "source": [
    "X_test = siab_test.iloc[:,4:164]\n",
    "y_true = siab_test.iloc[:, [3]]"
   ]
  },
  {
   "cell_type": "code",
   "execution_count": 20,
   "id": "0275101e",
   "metadata": {
    "execution": {
     "iopub.execute_input": "2025-08-19T19:03:11.403586Z",
     "iopub.status.busy": "2025-08-19T19:03:11.403236Z",
     "iopub.status.idle": "2025-08-19T19:03:11.518979Z",
     "shell.execute_reply": "2025-08-19T19:03:11.517911Z"
    },
    "papermill": {
     "duration": 0.129101,
     "end_time": "2025-08-19T19:03:11.520356",
     "exception": false,
     "start_time": "2025-08-19T19:03:11.391255",
     "status": "completed"
    },
    "tags": []
   },
   "outputs": [],
   "source": [
    "# Auxiliary data needed downstream in the pipeline\n",
    "\n",
    "org_train = X_train.copy()\n",
    "org_test = X_test.copy()\n",
    "org_calib = X_calib.copy()"
   ]
  },
  {
   "cell_type": "markdown",
   "id": "b461e618",
   "metadata": {
    "papermill": {
     "duration": 0.010319,
     "end_time": "2025-08-19T19:03:11.541634",
     "exception": false,
     "start_time": "2025-08-19T19:03:11.531315",
     "status": "completed"
    },
    "tags": []
   },
   "source": [
    "# Preprocessing Data"
   ]
  },
  {
   "cell_type": "code",
   "execution_count": 21,
   "id": "78e74c4b",
   "metadata": {
    "execution": {
     "iopub.execute_input": "2025-08-19T19:03:11.563250Z",
     "iopub.status.busy": "2025-08-19T19:03:11.562812Z",
     "iopub.status.idle": "2025-08-19T19:03:11.568057Z",
     "shell.execute_reply": "2025-08-19T19:03:11.567466Z"
    },
    "papermill": {
     "duration": 0.017796,
     "end_time": "2025-08-19T19:03:11.569471",
     "exception": false,
     "start_time": "2025-08-19T19:03:11.551675",
     "status": "completed"
    },
    "tags": []
   },
   "outputs": [],
   "source": [
    "# EXCLUDE PROTECTED FEATURES\n",
    "# --------------------------\n",
    "\n",
    "excluded_features = universe[\"exclude_features\"].split(\"-\")\n",
    "excluded_features_dictionary = {\n",
    "    \"nationality\": [\"maxdeutsch1\", \"maxdeutsch.Missing.\"],\n",
    "    \"sex\": [\"frau1\"],\n",
    "    \"age\": [\"age\"],\n",
    "}"
   ]
  },
  {
   "cell_type": "code",
   "execution_count": 22,
   "id": "f8e63555",
   "metadata": {
    "execution": {
     "iopub.execute_input": "2025-08-19T19:03:11.591565Z",
     "iopub.status.busy": "2025-08-19T19:03:11.591230Z",
     "iopub.status.idle": "2025-08-19T19:03:11.663363Z",
     "shell.execute_reply": "2025-08-19T19:03:11.661687Z"
    },
    "papermill": {
     "duration": 0.086958,
     "end_time": "2025-08-19T19:03:11.667317",
     "exception": false,
     "start_time": "2025-08-19T19:03:11.580359",
     "status": "completed"
    },
    "tags": []
   },
   "outputs": [],
   "source": [
    "excluded_features_columns = [\n",
    "    excluded_features_dictionary[f] for f in excluded_features if len(f) > 0 and f != \"none\"\n",
    "]"
   ]
  },
  {
   "cell_type": "code",
   "execution_count": 23,
   "id": "da781f7c",
   "metadata": {
    "execution": {
     "iopub.execute_input": "2025-08-19T19:03:11.701440Z",
     "iopub.status.busy": "2025-08-19T19:03:11.701048Z",
     "iopub.status.idle": "2025-08-19T19:03:11.704974Z",
     "shell.execute_reply": "2025-08-19T19:03:11.704371Z"
    },
    "papermill": {
     "duration": 0.017498,
     "end_time": "2025-08-19T19:03:11.706290",
     "exception": false,
     "start_time": "2025-08-19T19:03:11.688792",
     "status": "completed"
    },
    "tags": []
   },
   "outputs": [],
   "source": [
    "from fairness_multiverse.universe import flatten_once\n",
    "\n",
    "excluded_features_columns = flatten_once(excluded_features_columns)"
   ]
  },
  {
   "cell_type": "code",
   "execution_count": 24,
   "id": "37fef0f0",
   "metadata": {
    "execution": {
     "iopub.execute_input": "2025-08-19T19:03:11.728221Z",
     "iopub.status.busy": "2025-08-19T19:03:11.727814Z",
     "iopub.status.idle": "2025-08-19T19:03:11.752020Z",
     "shell.execute_reply": "2025-08-19T19:03:11.750998Z"
    },
    "papermill": {
     "duration": 0.036887,
     "end_time": "2025-08-19T19:03:11.753662",
     "exception": false,
     "start_time": "2025-08-19T19:03:11.716775",
     "status": "completed"
    },
    "tags": []
   },
   "outputs": [],
   "source": [
    "if len(excluded_features_columns) > 0:\n",
    "    print(f\"Dropping features: {excluded_features_columns}\")\n",
    "    X_train.drop(excluded_features_columns, axis=1, inplace=True)"
   ]
  },
  {
   "cell_type": "code",
   "execution_count": 25,
   "id": "d029e3e9",
   "metadata": {
    "execution": {
     "iopub.execute_input": "2025-08-19T19:03:11.783433Z",
     "iopub.status.busy": "2025-08-19T19:03:11.783048Z",
     "iopub.status.idle": "2025-08-19T19:03:11.787457Z",
     "shell.execute_reply": "2025-08-19T19:03:11.786871Z"
    },
    "papermill": {
     "duration": 0.017928,
     "end_time": "2025-08-19T19:03:11.789075",
     "exception": false,
     "start_time": "2025-08-19T19:03:11.771147",
     "status": "completed"
    },
    "tags": []
   },
   "outputs": [],
   "source": [
    "if len(excluded_features_columns) > 0:\n",
    "    print(f\"Dropping features: {excluded_features_columns}\")\n",
    "    X_test.drop(excluded_features_columns, axis=1, inplace=True)"
   ]
  },
  {
   "cell_type": "code",
   "execution_count": 26,
   "id": "01d571f0",
   "metadata": {
    "execution": {
     "iopub.execute_input": "2025-08-19T19:03:11.811538Z",
     "iopub.status.busy": "2025-08-19T19:03:11.811183Z",
     "iopub.status.idle": "2025-08-19T19:03:11.815690Z",
     "shell.execute_reply": "2025-08-19T19:03:11.815100Z"
    },
    "papermill": {
     "duration": 0.016933,
     "end_time": "2025-08-19T19:03:11.817090",
     "exception": false,
     "start_time": "2025-08-19T19:03:11.800157",
     "status": "completed"
    },
    "tags": []
   },
   "outputs": [],
   "source": [
    "if len(excluded_features_columns) > 0:\n",
    "    print(f\"Dropping features: {excluded_features_columns}\")\n",
    "    X_calib.drop(excluded_features_columns, axis=1, inplace=True)"
   ]
  },
  {
   "cell_type": "code",
   "execution_count": 27,
   "id": "3037356e",
   "metadata": {
    "execution": {
     "iopub.execute_input": "2025-08-19T19:03:11.838684Z",
     "iopub.status.busy": "2025-08-19T19:03:11.838360Z",
     "iopub.status.idle": "2025-08-19T19:03:11.842093Z",
     "shell.execute_reply": "2025-08-19T19:03:11.841517Z"
    },
    "papermill": {
     "duration": 0.016028,
     "end_time": "2025-08-19T19:03:11.843432",
     "exception": false,
     "start_time": "2025-08-19T19:03:11.827404",
     "status": "completed"
    },
    "tags": []
   },
   "outputs": [],
   "source": [
    "# EXCLUDE CERTAIN SUBGROUPS\n",
    "# -------------------------\n",
    "\n",
    "mode = universe.get(\"exclude_subgroups\", \"keep-all\") # Defaults to \"keep-all\" if the key is missing."
   ]
  },
  {
   "cell_type": "code",
   "execution_count": 28,
   "id": "9d1e63fd",
   "metadata": {
    "execution": {
     "iopub.execute_input": "2025-08-19T19:03:11.865495Z",
     "iopub.status.busy": "2025-08-19T19:03:11.865142Z",
     "iopub.status.idle": "2025-08-19T19:03:11.870834Z",
     "shell.execute_reply": "2025-08-19T19:03:11.870165Z"
    },
    "papermill": {
     "duration": 0.018469,
     "end_time": "2025-08-19T19:03:11.872099",
     "exception": false,
     "start_time": "2025-08-19T19:03:11.853630",
     "status": "completed"
    },
    "tags": []
   },
   "outputs": [],
   "source": [
    "if mode == \"keep-all\":\n",
    "    keep_mask = pd.Series(True, index=org_train.index)\n",
    "\n",
    "elif mode == \"drop-non-german\":\n",
    "    keep_mask = (org_train[\"maxdeutsch1\"] == 1) & (org_train[\"maxdeutsch.Missing.\"] == 0)\n",
    "\n",
    "else:\n",
    "    raise ValueError(f\"Unsupported mode for exclude_subgroups: {mode}\")"
   ]
  },
  {
   "cell_type": "code",
   "execution_count": 29,
   "id": "d3b65474",
   "metadata": {
    "execution": {
     "iopub.execute_input": "2025-08-19T19:03:11.893970Z",
     "iopub.status.busy": "2025-08-19T19:03:11.893284Z",
     "iopub.status.idle": "2025-08-19T19:03:11.899298Z",
     "shell.execute_reply": "2025-08-19T19:03:11.898607Z"
    },
    "papermill": {
     "duration": 0.018193,
     "end_time": "2025-08-19T19:03:11.900554",
     "exception": false,
     "start_time": "2025-08-19T19:03:11.882361",
     "status": "completed"
    },
    "tags": []
   },
   "outputs": [
    {
     "name": "stdout",
     "output_type": "stream",
     "text": [
      "Dropping 147 rows (14.70%) where mode='drop-non-german'\n"
     ]
    }
   ],
   "source": [
    "n_drop = (~keep_mask).sum() # Calculates how many rows are set to be dropped\n",
    "if n_drop > 0:\n",
    "    pct = n_drop / len(keep_mask) * 100\n",
    "    print(f\"Dropping {n_drop} rows ({pct:.2f}%) where mode='{mode}'\")"
   ]
  },
  {
   "cell_type": "code",
   "execution_count": 30,
   "id": "f44389b3",
   "metadata": {
    "execution": {
     "iopub.execute_input": "2025-08-19T19:03:11.923806Z",
     "iopub.status.busy": "2025-08-19T19:03:11.922977Z",
     "iopub.status.idle": "2025-08-19T19:03:11.949146Z",
     "shell.execute_reply": "2025-08-19T19:03:11.947914Z"
    },
    "papermill": {
     "duration": 0.039324,
     "end_time": "2025-08-19T19:03:11.950882",
     "exception": false,
     "start_time": "2025-08-19T19:03:11.911558",
     "status": "completed"
    },
    "tags": []
   },
   "outputs": [],
   "source": [
    "X_train = X_train[keep_mask]"
   ]
  },
  {
   "cell_type": "code",
   "execution_count": 31,
   "id": "ceca8c2a",
   "metadata": {
    "execution": {
     "iopub.execute_input": "2025-08-19T19:03:11.976780Z",
     "iopub.status.busy": "2025-08-19T19:03:11.975967Z",
     "iopub.status.idle": "2025-08-19T19:03:11.981021Z",
     "shell.execute_reply": "2025-08-19T19:03:11.980267Z"
    },
    "papermill": {
     "duration": 0.018266,
     "end_time": "2025-08-19T19:03:11.982249",
     "exception": false,
     "start_time": "2025-08-19T19:03:11.963983",
     "status": "completed"
    },
    "tags": []
   },
   "outputs": [],
   "source": [
    "y_train = y_train[keep_mask]"
   ]
  },
  {
   "cell_type": "markdown",
   "id": "04d31e2f",
   "metadata": {
    "papermill": {
     "duration": 0.01207,
     "end_time": "2025-08-19T19:03:12.005727",
     "exception": false,
     "start_time": "2025-08-19T19:03:11.993657",
     "status": "completed"
    },
    "tags": []
   },
   "source": [
    "# Model Training"
   ]
  },
  {
   "cell_type": "code",
   "execution_count": 32,
   "id": "db991733",
   "metadata": {
    "execution": {
     "iopub.execute_input": "2025-08-19T19:03:12.029855Z",
     "iopub.status.busy": "2025-08-19T19:03:12.028909Z",
     "iopub.status.idle": "2025-08-19T19:03:12.158908Z",
     "shell.execute_reply": "2025-08-19T19:03:12.158112Z"
    },
    "papermill": {
     "duration": 0.144634,
     "end_time": "2025-08-19T19:03:12.160812",
     "exception": false,
     "start_time": "2025-08-19T19:03:12.016178",
     "status": "completed"
    },
    "tags": []
   },
   "outputs": [],
   "source": [
    "from sklearn.linear_model import LogisticRegression\n",
    "from sklearn.ensemble import GradientBoostingClassifier, RandomForestClassifier\n",
    "\n",
    "if (universe[\"model\"] == \"logreg\"):\n",
    "    model = LogisticRegression() #penalty=\"none\", solver=\"newton-cg\", max_iter=1)\n",
    "elif (universe[\"model\"] == \"penalized_logreg\"):\n",
    "    model = LogisticRegression(penalty=\"l2\", C=0.1) #, solver=\"newton-cg\", max_iter=1)\n",
    "elif (universe[\"model\"] == \"rf\"):\n",
    "    model = RandomForestClassifier() # n_estimators=100, n_jobs=-1\n",
    "elif (universe[\"model\"] == \"gbm\"):\n",
    "    model = GradientBoostingClassifier()\n",
    "elif (universe[\"model\"] == \"elasticnet\"):\n",
    "    model = LogisticRegression(penalty = 'elasticnet', solver = 'saga', l1_ratio = 0.5) # max_iter=5000\n",
    "else:\n",
    "    raise \"Unsupported universe.model\""
   ]
  },
  {
   "cell_type": "code",
   "execution_count": 33,
   "id": "a4b5cd25",
   "metadata": {
    "execution": {
     "iopub.execute_input": "2025-08-19T19:03:12.191296Z",
     "iopub.status.busy": "2025-08-19T19:03:12.190436Z",
     "iopub.status.idle": "2025-08-19T19:03:12.198472Z",
     "shell.execute_reply": "2025-08-19T19:03:12.197841Z"
    },
    "papermill": {
     "duration": 0.023688,
     "end_time": "2025-08-19T19:03:12.199740",
     "exception": false,
     "start_time": "2025-08-19T19:03:12.176052",
     "status": "completed"
    },
    "tags": []
   },
   "outputs": [],
   "source": [
    "from sklearn.pipeline import Pipeline\n",
    "from sklearn.preprocessing import StandardScaler\n",
    "\n",
    "model = Pipeline([\n",
    "    #(\"continuous_processor\", continuous_processor),\n",
    "    #(\"categorical_preprocessor\", categorical_preprocessor),\n",
    "    (\"scale\", StandardScaler() if universe[\"scale\"] == \"scale\" else None), \n",
    "    (\"model\", model),\n",
    "])"
   ]
  },
  {
   "cell_type": "code",
   "execution_count": 34,
   "id": "283a904d",
   "metadata": {
    "execution": {
     "iopub.execute_input": "2025-08-19T19:03:12.225019Z",
     "iopub.status.busy": "2025-08-19T19:03:12.224636Z",
     "iopub.status.idle": "2025-08-19T19:03:13.031318Z",
     "shell.execute_reply": "2025-08-19T19:03:13.030712Z"
    },
    "papermill": {
     "duration": 0.819383,
     "end_time": "2025-08-19T19:03:13.032412",
     "exception": false,
     "start_time": "2025-08-19T19:03:12.213029",
     "status": "completed"
    },
    "tags": []
   },
   "outputs": [
    {
     "data": {
      "text/html": [
       "<style>#sk-container-id-1 {color: black;background-color: white;}#sk-container-id-1 pre{padding: 0;}#sk-container-id-1 div.sk-toggleable {background-color: white;}#sk-container-id-1 label.sk-toggleable__label {cursor: pointer;display: block;width: 100%;margin-bottom: 0;padding: 0.3em;box-sizing: border-box;text-align: center;}#sk-container-id-1 label.sk-toggleable__label-arrow:before {content: \"▸\";float: left;margin-right: 0.25em;color: #696969;}#sk-container-id-1 label.sk-toggleable__label-arrow:hover:before {color: black;}#sk-container-id-1 div.sk-estimator:hover label.sk-toggleable__label-arrow:before {color: black;}#sk-container-id-1 div.sk-toggleable__content {max-height: 0;max-width: 0;overflow: hidden;text-align: left;background-color: #f0f8ff;}#sk-container-id-1 div.sk-toggleable__content pre {margin: 0.2em;color: black;border-radius: 0.25em;background-color: #f0f8ff;}#sk-container-id-1 input.sk-toggleable__control:checked~div.sk-toggleable__content {max-height: 200px;max-width: 100%;overflow: auto;}#sk-container-id-1 input.sk-toggleable__control:checked~label.sk-toggleable__label-arrow:before {content: \"▾\";}#sk-container-id-1 div.sk-estimator input.sk-toggleable__control:checked~label.sk-toggleable__label {background-color: #d4ebff;}#sk-container-id-1 div.sk-label input.sk-toggleable__control:checked~label.sk-toggleable__label {background-color: #d4ebff;}#sk-container-id-1 input.sk-hidden--visually {border: 0;clip: rect(1px 1px 1px 1px);clip: rect(1px, 1px, 1px, 1px);height: 1px;margin: -1px;overflow: hidden;padding: 0;position: absolute;width: 1px;}#sk-container-id-1 div.sk-estimator {font-family: monospace;background-color: #f0f8ff;border: 1px dotted black;border-radius: 0.25em;box-sizing: border-box;margin-bottom: 0.5em;}#sk-container-id-1 div.sk-estimator:hover {background-color: #d4ebff;}#sk-container-id-1 div.sk-parallel-item::after {content: \"\";width: 100%;border-bottom: 1px solid gray;flex-grow: 1;}#sk-container-id-1 div.sk-label:hover label.sk-toggleable__label {background-color: #d4ebff;}#sk-container-id-1 div.sk-serial::before {content: \"\";position: absolute;border-left: 1px solid gray;box-sizing: border-box;top: 0;bottom: 0;left: 50%;z-index: 0;}#sk-container-id-1 div.sk-serial {display: flex;flex-direction: column;align-items: center;background-color: white;padding-right: 0.2em;padding-left: 0.2em;position: relative;}#sk-container-id-1 div.sk-item {position: relative;z-index: 1;}#sk-container-id-1 div.sk-parallel {display: flex;align-items: stretch;justify-content: center;background-color: white;position: relative;}#sk-container-id-1 div.sk-item::before, #sk-container-id-1 div.sk-parallel-item::before {content: \"\";position: absolute;border-left: 1px solid gray;box-sizing: border-box;top: 0;bottom: 0;left: 50%;z-index: -1;}#sk-container-id-1 div.sk-parallel-item {display: flex;flex-direction: column;z-index: 1;position: relative;background-color: white;}#sk-container-id-1 div.sk-parallel-item:first-child::after {align-self: flex-end;width: 50%;}#sk-container-id-1 div.sk-parallel-item:last-child::after {align-self: flex-start;width: 50%;}#sk-container-id-1 div.sk-parallel-item:only-child::after {width: 0;}#sk-container-id-1 div.sk-dashed-wrapped {border: 1px dashed gray;margin: 0 0.4em 0.5em 0.4em;box-sizing: border-box;padding-bottom: 0.4em;background-color: white;}#sk-container-id-1 div.sk-label label {font-family: monospace;font-weight: bold;display: inline-block;line-height: 1.2em;}#sk-container-id-1 div.sk-label-container {text-align: center;}#sk-container-id-1 div.sk-container {/* jupyter's `normalize.less` sets `[hidden] { display: none; }` but bootstrap.min.css set `[hidden] { display: none !important; }` so we also need the `!important` here to be able to override the default hidden behavior on the sphinx rendered scikit-learn.org. See: https://github.com/scikit-learn/scikit-learn/issues/21755 */display: inline-block !important;position: relative;}#sk-container-id-1 div.sk-text-repr-fallback {display: none;}</style><div id=\"sk-container-id-1\" class=\"sk-top-container\"><div class=\"sk-text-repr-fallback\"><pre>Pipeline(steps=[(&#x27;scale&#x27;, None), (&#x27;model&#x27;, GradientBoostingClassifier())])</pre><b>In a Jupyter environment, please rerun this cell to show the HTML representation or trust the notebook. <br />On GitHub, the HTML representation is unable to render, please try loading this page with nbviewer.org.</b></div><div class=\"sk-container\" hidden><div class=\"sk-item sk-dashed-wrapped\"><div class=\"sk-label-container\"><div class=\"sk-label sk-toggleable\"><input class=\"sk-toggleable__control sk-hidden--visually\" id=\"sk-estimator-id-1\" type=\"checkbox\" ><label for=\"sk-estimator-id-1\" class=\"sk-toggleable__label sk-toggleable__label-arrow\">Pipeline</label><div class=\"sk-toggleable__content\"><pre>Pipeline(steps=[(&#x27;scale&#x27;, None), (&#x27;model&#x27;, GradientBoostingClassifier())])</pre></div></div></div><div class=\"sk-serial\"><div class=\"sk-item\"><div class=\"sk-estimator sk-toggleable\"><input class=\"sk-toggleable__control sk-hidden--visually\" id=\"sk-estimator-id-2\" type=\"checkbox\" ><label for=\"sk-estimator-id-2\" class=\"sk-toggleable__label sk-toggleable__label-arrow\">None</label><div class=\"sk-toggleable__content\"><pre>None</pre></div></div></div><div class=\"sk-item\"><div class=\"sk-estimator sk-toggleable\"><input class=\"sk-toggleable__control sk-hidden--visually\" id=\"sk-estimator-id-3\" type=\"checkbox\" ><label for=\"sk-estimator-id-3\" class=\"sk-toggleable__label sk-toggleable__label-arrow\">GradientBoostingClassifier</label><div class=\"sk-toggleable__content\"><pre>GradientBoostingClassifier()</pre></div></div></div></div></div></div></div>"
      ],
      "text/plain": [
       "Pipeline(steps=[('scale', None), ('model', GradientBoostingClassifier())])"
      ]
     },
     "execution_count": 34,
     "metadata": {},
     "output_type": "execute_result"
    }
   ],
   "source": [
    "model.fit(X_train, y_train.values.ravel())"
   ]
  },
  {
   "cell_type": "code",
   "execution_count": 35,
   "id": "6e15e313",
   "metadata": {
    "execution": {
     "iopub.execute_input": "2025-08-19T19:03:13.055894Z",
     "iopub.status.busy": "2025-08-19T19:03:13.055282Z",
     "iopub.status.idle": "2025-08-19T19:03:13.564666Z",
     "shell.execute_reply": "2025-08-19T19:03:13.563898Z"
    },
    "papermill": {
     "duration": 0.523048,
     "end_time": "2025-08-19T19:03:13.566719",
     "exception": false,
     "start_time": "2025-08-19T19:03:13.043671",
     "status": "completed"
    },
    "tags": []
   },
   "outputs": [
    {
     "data": {
      "text/plain": [
       "0.8338758220934122"
      ]
     },
     "execution_count": 35,
     "metadata": {},
     "output_type": "execute_result"
    }
   ],
   "source": [
    "from fairness_multiverse.universe import predict_w_threshold\n",
    "\n",
    "probs_test = model.predict_proba(X_test)\n",
    "\n",
    "'''\n",
    "Below code returns a boolean array (or binary 0/1 array depending on how it’s used) where each element \n",
    "is True if the probability of class 1 is greater than or equal to the threshold, and False otherwise.\n",
    "'''\n",
    "y_pred_default = predict_w_threshold(probs_test, 0.5)\n",
    "\n",
    "from sklearn.metrics import accuracy_score\n",
    "\n",
    "# Naive prediction\n",
    "accuracy_score(y_true = y_true, y_pred = y_pred_default)"
   ]
  },
  {
   "cell_type": "code",
   "execution_count": 36,
   "id": "6f14067c",
   "metadata": {
    "execution": {
     "iopub.execute_input": "2025-08-19T19:03:13.590695Z",
     "iopub.status.busy": "2025-08-19T19:03:13.589961Z",
     "iopub.status.idle": "2025-08-19T19:03:14.055487Z",
     "shell.execute_reply": "2025-08-19T19:03:14.054376Z"
    },
    "papermill": {
     "duration": 0.479002,
     "end_time": "2025-08-19T19:03:14.057108",
     "exception": false,
     "start_time": "2025-08-19T19:03:13.578106",
     "status": "completed"
    },
    "tags": []
   },
   "outputs": [
    {
     "data": {
      "text/plain": [
       "array([0, 0, 0, ..., 0, 0, 0])"
      ]
     },
     "execution_count": 36,
     "metadata": {},
     "output_type": "execute_result"
    }
   ],
   "source": [
    "model.predict(X_test)"
   ]
  },
  {
   "cell_type": "markdown",
   "id": "3759920c",
   "metadata": {
    "papermill": {
     "duration": 0.017183,
     "end_time": "2025-08-19T19:03:14.091529",
     "exception": false,
     "start_time": "2025-08-19T19:03:14.074346",
     "status": "completed"
    },
    "tags": []
   },
   "source": [
    "# Conformal Prediction"
   ]
  },
  {
   "cell_type": "code",
   "execution_count": 37,
   "id": "14b27f59",
   "metadata": {
    "execution": {
     "iopub.execute_input": "2025-08-19T19:03:14.116563Z",
     "iopub.status.busy": "2025-08-19T19:03:14.116093Z",
     "iopub.status.idle": "2025-08-19T19:03:14.121087Z",
     "shell.execute_reply": "2025-08-19T19:03:14.120114Z"
    },
    "papermill": {
     "duration": 0.018617,
     "end_time": "2025-08-19T19:03:14.122588",
     "exception": false,
     "start_time": "2025-08-19T19:03:14.103971",
     "status": "completed"
    },
    "tags": []
   },
   "outputs": [],
   "source": [
    "# Miscoverage level for conformal prediction (10% allowed error rate => 90% target coverage)\n",
    "alpha = 0.1"
   ]
  },
  {
   "cell_type": "code",
   "execution_count": 38,
   "id": "59102472",
   "metadata": {
    "execution": {
     "iopub.execute_input": "2025-08-19T19:03:14.146027Z",
     "iopub.status.busy": "2025-08-19T19:03:14.145688Z",
     "iopub.status.idle": "2025-08-19T19:03:14.631739Z",
     "shell.execute_reply": "2025-08-19T19:03:14.630243Z"
    },
    "papermill": {
     "duration": 0.501958,
     "end_time": "2025-08-19T19:03:14.635763",
     "exception": false,
     "start_time": "2025-08-19T19:03:14.133805",
     "status": "completed"
    },
    "tags": []
   },
   "outputs": [],
   "source": [
    "probs_calib = model.predict_proba(X_calib)"
   ]
  },
  {
   "cell_type": "code",
   "execution_count": 39,
   "id": "a792d4dd",
   "metadata": {
    "execution": {
     "iopub.execute_input": "2025-08-19T19:03:14.674394Z",
     "iopub.status.busy": "2025-08-19T19:03:14.673511Z",
     "iopub.status.idle": "2025-08-19T19:03:14.684162Z",
     "shell.execute_reply": "2025-08-19T19:03:14.682927Z"
    },
    "papermill": {
     "duration": 0.027059,
     "end_time": "2025-08-19T19:03:14.685980",
     "exception": false,
     "start_time": "2025-08-19T19:03:14.658921",
     "status": "completed"
    },
    "tags": []
   },
   "outputs": [],
   "source": [
    "y_calib = y_calib.values.ravel().astype(int)"
   ]
  },
  {
   "cell_type": "code",
   "execution_count": 40,
   "id": "650fd033",
   "metadata": {
    "execution": {
     "iopub.execute_input": "2025-08-19T19:03:14.713339Z",
     "iopub.status.busy": "2025-08-19T19:03:14.712357Z",
     "iopub.status.idle": "2025-08-19T19:03:14.724602Z",
     "shell.execute_reply": "2025-08-19T19:03:14.723424Z"
    },
    "papermill": {
     "duration": 0.026749,
     "end_time": "2025-08-19T19:03:14.726335",
     "exception": false,
     "start_time": "2025-08-19T19:03:14.699586",
     "status": "completed"
    },
    "tags": []
   },
   "outputs": [],
   "source": [
    "from fairness_multiverse.conformal import compute_nc_scores\n",
    "\n",
    "# Compute nonconformity scores on calibration set (1 - probability of true class)\n",
    "nc_scores = compute_nc_scores(probs_calib, y_calib)"
   ]
  },
  {
   "cell_type": "code",
   "execution_count": 41,
   "id": "28ada44c",
   "metadata": {
    "execution": {
     "iopub.execute_input": "2025-08-19T19:03:14.753671Z",
     "iopub.status.busy": "2025-08-19T19:03:14.752619Z",
     "iopub.status.idle": "2025-08-19T19:03:14.762874Z",
     "shell.execute_reply": "2025-08-19T19:03:14.761712Z"
    },
    "papermill": {
     "duration": 0.024497,
     "end_time": "2025-08-19T19:03:14.764293",
     "exception": false,
     "start_time": "2025-08-19T19:03:14.739796",
     "status": "completed"
    },
    "tags": []
   },
   "outputs": [],
   "source": [
    "from fairness_multiverse.conformal import find_threshold\n",
    "\n",
    "# Find conformal threshold q_hat for the given alpha (split conformal method)\n",
    "q_hat = find_threshold(nc_scores, alpha)"
   ]
  },
  {
   "cell_type": "code",
   "execution_count": 42,
   "id": "df56469e",
   "metadata": {
    "execution": {
     "iopub.execute_input": "2025-08-19T19:03:14.792193Z",
     "iopub.status.busy": "2025-08-19T19:03:14.791326Z",
     "iopub.status.idle": "2025-08-19T19:03:14.801282Z",
     "shell.execute_reply": "2025-08-19T19:03:14.799915Z"
    },
    "papermill": {
     "duration": 0.024133,
     "end_time": "2025-08-19T19:03:14.802744",
     "exception": false,
     "start_time": "2025-08-19T19:03:14.778611",
     "status": "completed"
    },
    "tags": []
   },
   "outputs": [
    {
     "data": {
      "text/plain": [
       "0.7789860131991572"
      ]
     },
     "execution_count": 42,
     "metadata": {},
     "output_type": "execute_result"
    }
   ],
   "source": [
    "q_hat"
   ]
  },
  {
   "cell_type": "code",
   "execution_count": 43,
   "id": "aa1f5faa",
   "metadata": {
    "execution": {
     "iopub.execute_input": "2025-08-19T19:03:14.828520Z",
     "iopub.status.busy": "2025-08-19T19:03:14.827630Z",
     "iopub.status.idle": "2025-08-19T19:03:15.742533Z",
     "shell.execute_reply": "2025-08-19T19:03:15.741333Z"
    },
    "papermill": {
     "duration": 0.930828,
     "end_time": "2025-08-19T19:03:15.745807",
     "exception": false,
     "start_time": "2025-08-19T19:03:14.814979",
     "status": "completed"
    },
    "tags": []
   },
   "outputs": [],
   "source": [
    "from fairness_multiverse.conformal import predict_conformal_sets\n",
    "\n",
    "# Generate prediction sets for each test example\n",
    "pred_sets = predict_conformal_sets(model, X_test, q_hat)"
   ]
  },
  {
   "cell_type": "code",
   "execution_count": 44,
   "id": "97f67a6b",
   "metadata": {
    "execution": {
     "iopub.execute_input": "2025-08-19T19:03:15.791664Z",
     "iopub.status.busy": "2025-08-19T19:03:15.787144Z",
     "iopub.status.idle": "2025-08-19T19:03:15.798356Z",
     "shell.execute_reply": "2025-08-19T19:03:15.797358Z"
    },
    "papermill": {
     "duration": 0.030115,
     "end_time": "2025-08-19T19:03:15.800077",
     "exception": false,
     "start_time": "2025-08-19T19:03:15.769962",
     "status": "completed"
    },
    "tags": []
   },
   "outputs": [],
   "source": [
    "y_true = y_true.squeeze()"
   ]
  },
  {
   "cell_type": "code",
   "execution_count": 45,
   "id": "e700e9a7",
   "metadata": {
    "execution": {
     "iopub.execute_input": "2025-08-19T19:03:15.827105Z",
     "iopub.status.busy": "2025-08-19T19:03:15.826157Z",
     "iopub.status.idle": "2025-08-19T19:03:16.358085Z",
     "shell.execute_reply": "2025-08-19T19:03:16.357019Z"
    },
    "papermill": {
     "duration": 0.546699,
     "end_time": "2025-08-19T19:03:16.359857",
     "exception": false,
     "start_time": "2025-08-19T19:03:15.813158",
     "status": "completed"
    },
    "tags": []
   },
   "outputs": [],
   "source": [
    "from fairness_multiverse.conformal import evaluate_sets\n",
    "\n",
    "# Evaluate coverage and average set size on test data\n",
    "metrics = evaluate_sets(pred_sets, y_true)"
   ]
  },
  {
   "cell_type": "markdown",
   "id": "efbacec0",
   "metadata": {
    "papermill": {
     "duration": 0.011376,
     "end_time": "2025-08-19T19:03:16.383366",
     "exception": false,
     "start_time": "2025-08-19T19:03:16.371990",
     "status": "completed"
    },
    "tags": []
   },
   "source": [
    "# CP Metrics"
   ]
  },
  {
   "cell_type": "code",
   "execution_count": 46,
   "id": "9de55fb1",
   "metadata": {
    "execution": {
     "iopub.execute_input": "2025-08-19T19:03:16.409527Z",
     "iopub.status.busy": "2025-08-19T19:03:16.408088Z",
     "iopub.status.idle": "2025-08-19T19:03:16.420231Z",
     "shell.execute_reply": "2025-08-19T19:03:16.418927Z"
    },
    "papermill": {
     "duration": 0.027381,
     "end_time": "2025-08-19T19:03:16.422012",
     "exception": false,
     "start_time": "2025-08-19T19:03:16.394631",
     "status": "completed"
    },
    "tags": []
   },
   "outputs": [
    {
     "data": {
      "text/plain": [
       "{'coverage': 0.9099542971798016, 'avg_size': 1.1849738044811058}"
      ]
     },
     "execution_count": 46,
     "metadata": {},
     "output_type": "execute_result"
    }
   ],
   "source": [
    "metrics"
   ]
  },
  {
   "cell_type": "code",
   "execution_count": 47,
   "id": "64c340a1",
   "metadata": {
    "execution": {
     "iopub.execute_input": "2025-08-19T19:03:16.452588Z",
     "iopub.status.busy": "2025-08-19T19:03:16.451163Z",
     "iopub.status.idle": "2025-08-19T19:03:16.467569Z",
     "shell.execute_reply": "2025-08-19T19:03:16.466312Z"
    },
    "papermill": {
     "duration": 0.033072,
     "end_time": "2025-08-19T19:03:16.469332",
     "exception": false,
     "start_time": "2025-08-19T19:03:16.436260",
     "status": "completed"
    },
    "tags": []
   },
   "outputs": [],
   "source": [
    "example_universe = universe.copy()\n",
    "universe_training_year = example_universe.get(\"training_year\")\n",
    "universe_training_size = example_universe.get(\"training_size\")\n",
    "universe_scale = example_universe.get(\"scale\")\n",
    "universe_model = example_universe.get(\"model\")\n",
    "universe_exclude_features = example_universe.get(\"exclude_features\")\n",
    "universe_exclude_subgroups = example_universe.get(\"exclude_subgroups\")"
   ]
  },
  {
   "cell_type": "code",
   "execution_count": 48,
   "id": "dbb53cb4",
   "metadata": {
    "execution": {
     "iopub.execute_input": "2025-08-19T19:03:16.502526Z",
     "iopub.status.busy": "2025-08-19T19:03:16.501357Z",
     "iopub.status.idle": "2025-08-19T19:03:16.511028Z",
     "shell.execute_reply": "2025-08-19T19:03:16.509846Z"
    },
    "papermill": {
     "duration": 0.025611,
     "end_time": "2025-08-19T19:03:16.512689",
     "exception": false,
     "start_time": "2025-08-19T19:03:16.487078",
     "status": "completed"
    },
    "tags": []
   },
   "outputs": [],
   "source": [
    "cp_metrics_dict = {\n",
    "    \"universe_id\": [universe_id],\n",
    "    \"universe_training_year\": [universe_training_year],\n",
    "    \"universe_training_size\": [universe_training_size],\n",
    "    \"universe_scale\": [universe_scale],\n",
    "    \"universe_model\": [universe_model],\n",
    "    \"universe_exclude_features\": [universe_exclude_features],\n",
    "    \"universe_exclude_subgroups\": [universe_exclude_subgroups],\n",
    "    \"q_hat\": [q_hat],\n",
    "    \"coverage\": [metrics[\"coverage\"]],\n",
    "    \"avg_size\": [metrics[\"avg_size\"]],\n",
    "}"
   ]
  },
  {
   "cell_type": "code",
   "execution_count": 49,
   "id": "0d70d4b2",
   "metadata": {
    "execution": {
     "iopub.execute_input": "2025-08-19T19:03:16.540735Z",
     "iopub.status.busy": "2025-08-19T19:03:16.539794Z",
     "iopub.status.idle": "2025-08-19T19:03:16.551025Z",
     "shell.execute_reply": "2025-08-19T19:03:16.549832Z"
    },
    "papermill": {
     "duration": 0.025778,
     "end_time": "2025-08-19T19:03:16.552510",
     "exception": false,
     "start_time": "2025-08-19T19:03:16.526732",
     "status": "completed"
    },
    "tags": []
   },
   "outputs": [],
   "source": [
    "cp_metrics_df = pd.DataFrame(cp_metrics_dict)"
   ]
  },
  {
   "cell_type": "code",
   "execution_count": 50,
   "id": "b494403c",
   "metadata": {
    "execution": {
     "iopub.execute_input": "2025-08-19T19:03:16.584629Z",
     "iopub.status.busy": "2025-08-19T19:03:16.583658Z",
     "iopub.status.idle": "2025-08-19T19:03:16.607679Z",
     "shell.execute_reply": "2025-08-19T19:03:16.606589Z"
    },
    "papermill": {
     "duration": 0.045075,
     "end_time": "2025-08-19T19:03:16.611881",
     "exception": false,
     "start_time": "2025-08-19T19:03:16.566806",
     "status": "completed"
    },
    "tags": []
   },
   "outputs": [
    {
     "data": {
      "text/html": [
       "<div>\n",
       "<style scoped>\n",
       "    .dataframe tbody tr th:only-of-type {\n",
       "        vertical-align: middle;\n",
       "    }\n",
       "\n",
       "    .dataframe tbody tr th {\n",
       "        vertical-align: top;\n",
       "    }\n",
       "\n",
       "    .dataframe thead th {\n",
       "        text-align: right;\n",
       "    }\n",
       "</style>\n",
       "<table border=\"1\" class=\"dataframe\">\n",
       "  <thead>\n",
       "    <tr style=\"text-align: right;\">\n",
       "      <th></th>\n",
       "      <th>universe_id</th>\n",
       "      <th>universe_training_year</th>\n",
       "      <th>universe_training_size</th>\n",
       "      <th>universe_scale</th>\n",
       "      <th>universe_model</th>\n",
       "      <th>universe_exclude_features</th>\n",
       "      <th>universe_exclude_subgroups</th>\n",
       "      <th>q_hat</th>\n",
       "      <th>coverage</th>\n",
       "      <th>avg_size</th>\n",
       "    </tr>\n",
       "  </thead>\n",
       "  <tbody>\n",
       "    <tr>\n",
       "      <th>0</th>\n",
       "      <td>1ac9ee1167065fce6d4dc7bb89598e34</td>\n",
       "      <td>2012_14</td>\n",
       "      <td>1k</td>\n",
       "      <td>do-not-scale</td>\n",
       "      <td>gbm</td>\n",
       "      <td>none</td>\n",
       "      <td>drop-non-german</td>\n",
       "      <td>0.778986</td>\n",
       "      <td>0.909954</td>\n",
       "      <td>1.184974</td>\n",
       "    </tr>\n",
       "  </tbody>\n",
       "</table>\n",
       "</div>"
      ],
      "text/plain": [
       "                        universe_id universe_training_year  \\\n",
       "0  1ac9ee1167065fce6d4dc7bb89598e34                2012_14   \n",
       "\n",
       "  universe_training_size universe_scale universe_model  \\\n",
       "0                     1k   do-not-scale            gbm   \n",
       "\n",
       "  universe_exclude_features universe_exclude_subgroups     q_hat  coverage  \\\n",
       "0                      none            drop-non-german  0.778986  0.909954   \n",
       "\n",
       "   avg_size  \n",
       "0  1.184974  "
      ]
     },
     "execution_count": 50,
     "metadata": {},
     "output_type": "execute_result"
    }
   ],
   "source": [
    "cp_metrics_df"
   ]
  },
  {
   "cell_type": "markdown",
   "id": "ed608b0b",
   "metadata": {
    "papermill": {
     "duration": 0.011669,
     "end_time": "2025-08-19T19:03:16.640285",
     "exception": false,
     "start_time": "2025-08-19T19:03:16.628616",
     "status": "completed"
    },
    "tags": []
   },
   "source": [
    "Conditional coverage & looking at subgroups"
   ]
  },
  {
   "cell_type": "code",
   "execution_count": 51,
   "id": "8968c366",
   "metadata": {
    "execution": {
     "iopub.execute_input": "2025-08-19T19:03:16.666017Z",
     "iopub.status.busy": "2025-08-19T19:03:16.665291Z",
     "iopub.status.idle": "2025-08-19T19:03:16.988439Z",
     "shell.execute_reply": "2025-08-19T19:03:16.987399Z"
    },
    "papermill": {
     "duration": 0.338132,
     "end_time": "2025-08-19T19:03:16.989978",
     "exception": false,
     "start_time": "2025-08-19T19:03:16.651846",
     "status": "completed"
    },
    "tags": []
   },
   "outputs": [],
   "source": [
    "from fairness_multiverse.conformal import build_cp_groups\n",
    "\n",
    "cp_groups_df = build_cp_groups(pred_sets, y_true, X_test.index, org_test)"
   ]
  },
  {
   "cell_type": "code",
   "execution_count": 52,
   "id": "292ddabf",
   "metadata": {
    "execution": {
     "iopub.execute_input": "2025-08-19T19:03:17.023777Z",
     "iopub.status.busy": "2025-08-19T19:03:17.017465Z",
     "iopub.status.idle": "2025-08-19T19:03:17.954101Z",
     "shell.execute_reply": "2025-08-19T19:03:17.952079Z"
    },
    "papermill": {
     "duration": 0.953903,
     "end_time": "2025-08-19T19:03:17.956127",
     "exception": false,
     "start_time": "2025-08-19T19:03:17.002224",
     "status": "completed"
    },
    "tags": []
   },
   "outputs": [],
   "source": [
    "# Define covered = 1 if true_label is in the predicted set\n",
    "cp_groups_df['covered'] = cp_groups_df.apply(\n",
    "    lambda r: int(r['true_label'] in r['pred_set']),\n",
    "    axis=1\n",
    ")"
   ]
  },
  {
   "cell_type": "code",
   "execution_count": 53,
   "id": "3a261692",
   "metadata": {
    "execution": {
     "iopub.execute_input": "2025-08-19T19:03:17.983892Z",
     "iopub.status.busy": "2025-08-19T19:03:17.983518Z",
     "iopub.status.idle": "2025-08-19T19:03:17.996549Z",
     "shell.execute_reply": "2025-08-19T19:03:17.995625Z"
    },
    "papermill": {
     "duration": 0.030161,
     "end_time": "2025-08-19T19:03:17.998879",
     "exception": false,
     "start_time": "2025-08-19T19:03:17.968718",
     "status": "completed"
    },
    "tags": []
   },
   "outputs": [],
   "source": [
    "subgroups = ['frau1','nongerman','nongerman_male','nongerman_female']\n",
    "\n",
    "# Conditional coverage for subgroup==1\n",
    "cond_coverage = {\n",
    "    g: cp_groups_df.loc[cp_groups_df[g]==1, 'covered'].mean()\n",
    "    for g in subgroups\n",
    "}"
   ]
  },
  {
   "cell_type": "code",
   "execution_count": 54,
   "id": "894fd600",
   "metadata": {
    "execution": {
     "iopub.execute_input": "2025-08-19T19:03:18.042051Z",
     "iopub.status.busy": "2025-08-19T19:03:18.041073Z",
     "iopub.status.idle": "2025-08-19T19:03:18.052893Z",
     "shell.execute_reply": "2025-08-19T19:03:18.051717Z"
    },
    "papermill": {
     "duration": 0.032461,
     "end_time": "2025-08-19T19:03:18.054514",
     "exception": false,
     "start_time": "2025-08-19T19:03:18.022053",
     "status": "completed"
    },
    "tags": []
   },
   "outputs": [
    {
     "data": {
      "text/plain": [
       "{'frau1': 0.9040571505593746,\n",
       " 'nongerman': 0.9047886375119295,\n",
       " 'nongerman_male': 0.9239845086913446,\n",
       " 'nongerman_female': 0.8730253353204173}"
      ]
     },
     "execution_count": 54,
     "metadata": {},
     "output_type": "execute_result"
    }
   ],
   "source": [
    "cond_coverage"
   ]
  },
  {
   "cell_type": "code",
   "execution_count": 55,
   "id": "942895c7",
   "metadata": {
    "execution": {
     "iopub.execute_input": "2025-08-19T19:03:18.082195Z",
     "iopub.status.busy": "2025-08-19T19:03:18.081843Z",
     "iopub.status.idle": "2025-08-19T19:03:18.087523Z",
     "shell.execute_reply": "2025-08-19T19:03:18.086927Z"
    },
    "papermill": {
     "duration": 0.019854,
     "end_time": "2025-08-19T19:03:18.088728",
     "exception": false,
     "start_time": "2025-08-19T19:03:18.068874",
     "status": "completed"
    },
    "tags": []
   },
   "outputs": [],
   "source": [
    "for subgroup, cov in cond_coverage.items():\n",
    "    cp_metrics_df[f\"cov_{subgroup}\"] = cov"
   ]
  },
  {
   "cell_type": "code",
   "execution_count": 56,
   "id": "3970120f",
   "metadata": {
    "execution": {
     "iopub.execute_input": "2025-08-19T19:03:18.125271Z",
     "iopub.status.busy": "2025-08-19T19:03:18.124886Z",
     "iopub.status.idle": "2025-08-19T19:03:18.139765Z",
     "shell.execute_reply": "2025-08-19T19:03:18.139084Z"
    },
    "papermill": {
     "duration": 0.033718,
     "end_time": "2025-08-19T19:03:18.142032",
     "exception": false,
     "start_time": "2025-08-19T19:03:18.108314",
     "status": "completed"
    },
    "tags": []
   },
   "outputs": [
    {
     "data": {
      "text/html": [
       "<div>\n",
       "<style scoped>\n",
       "    .dataframe tbody tr th:only-of-type {\n",
       "        vertical-align: middle;\n",
       "    }\n",
       "\n",
       "    .dataframe tbody tr th {\n",
       "        vertical-align: top;\n",
       "    }\n",
       "\n",
       "    .dataframe thead th {\n",
       "        text-align: right;\n",
       "    }\n",
       "</style>\n",
       "<table border=\"1\" class=\"dataframe\">\n",
       "  <thead>\n",
       "    <tr style=\"text-align: right;\">\n",
       "      <th></th>\n",
       "      <th>universe_id</th>\n",
       "      <th>universe_training_year</th>\n",
       "      <th>universe_training_size</th>\n",
       "      <th>universe_scale</th>\n",
       "      <th>universe_model</th>\n",
       "      <th>universe_exclude_features</th>\n",
       "      <th>universe_exclude_subgroups</th>\n",
       "      <th>q_hat</th>\n",
       "      <th>coverage</th>\n",
       "      <th>avg_size</th>\n",
       "      <th>cov_frau1</th>\n",
       "      <th>cov_nongerman</th>\n",
       "      <th>cov_nongerman_male</th>\n",
       "      <th>cov_nongerman_female</th>\n",
       "    </tr>\n",
       "  </thead>\n",
       "  <tbody>\n",
       "    <tr>\n",
       "      <th>0</th>\n",
       "      <td>1ac9ee1167065fce6d4dc7bb89598e34</td>\n",
       "      <td>2012_14</td>\n",
       "      <td>1k</td>\n",
       "      <td>do-not-scale</td>\n",
       "      <td>gbm</td>\n",
       "      <td>none</td>\n",
       "      <td>drop-non-german</td>\n",
       "      <td>0.778986</td>\n",
       "      <td>0.909954</td>\n",
       "      <td>1.184974</td>\n",
       "      <td>0.904057</td>\n",
       "      <td>0.904789</td>\n",
       "      <td>0.923985</td>\n",
       "      <td>0.873025</td>\n",
       "    </tr>\n",
       "  </tbody>\n",
       "</table>\n",
       "</div>"
      ],
      "text/plain": [
       "                        universe_id universe_training_year  \\\n",
       "0  1ac9ee1167065fce6d4dc7bb89598e34                2012_14   \n",
       "\n",
       "  universe_training_size universe_scale universe_model  \\\n",
       "0                     1k   do-not-scale            gbm   \n",
       "\n",
       "  universe_exclude_features universe_exclude_subgroups     q_hat  coverage  \\\n",
       "0                      none            drop-non-german  0.778986  0.909954   \n",
       "\n",
       "   avg_size  cov_frau1  cov_nongerman  cov_nongerman_male  \\\n",
       "0  1.184974   0.904057       0.904789            0.923985   \n",
       "\n",
       "   cov_nongerman_female  \n",
       "0              0.873025  "
      ]
     },
     "execution_count": 56,
     "metadata": {},
     "output_type": "execute_result"
    }
   ],
   "source": [
    "cp_metrics_df"
   ]
  },
  {
   "cell_type": "markdown",
   "id": "3fc519cc",
   "metadata": {
    "papermill": {
     "duration": 0.012193,
     "end_time": "2025-08-19T19:03:18.169916",
     "exception": false,
     "start_time": "2025-08-19T19:03:18.157723",
     "status": "completed"
    },
    "tags": []
   },
   "source": [
    "# (Fairness) Metrics"
   ]
  },
  {
   "cell_type": "code",
   "execution_count": 57,
   "id": "a2e5e155",
   "metadata": {
    "execution": {
     "iopub.execute_input": "2025-08-19T19:03:18.195580Z",
     "iopub.status.busy": "2025-08-19T19:03:18.195183Z",
     "iopub.status.idle": "2025-08-19T19:03:18.210419Z",
     "shell.execute_reply": "2025-08-19T19:03:18.209638Z"
    },
    "papermill": {
     "duration": 0.029791,
     "end_time": "2025-08-19T19:03:18.211850",
     "exception": false,
     "start_time": "2025-08-19T19:03:18.182059",
     "status": "completed"
    },
    "tags": []
   },
   "outputs": [],
   "source": [
    "colname_to_bin = \"maxdeutsch1\"\n",
    "majority_value = org_train[colname_to_bin].mode()[0]\n",
    "\n",
    "org_test[\"majmin\"] = np.where(org_test[colname_to_bin] == majority_value, \"majority\", \"minority\")"
   ]
  },
  {
   "cell_type": "code",
   "execution_count": 58,
   "id": "17e3e4d5",
   "metadata": {
    "execution": {
     "iopub.execute_input": "2025-08-19T19:03:18.246495Z",
     "iopub.status.busy": "2025-08-19T19:03:18.245524Z",
     "iopub.status.idle": "2025-08-19T19:03:20.053498Z",
     "shell.execute_reply": "2025-08-19T19:03:20.052158Z"
    },
    "papermill": {
     "duration": 1.828234,
     "end_time": "2025-08-19T19:03:20.055429",
     "exception": false,
     "start_time": "2025-08-19T19:03:18.227195",
     "status": "completed"
    },
    "tags": []
   },
   "outputs": [],
   "source": [
    "example_universe = universe.copy()\n",
    "example_universe[\"cutoff\"] = example_universe[\"cutoff\"][0]\n",
    "example_universe[\"eval_fairness_grouping\"] = example_universe[\"eval_fairness_grouping\"][0]\n",
    "fairness_dict, metric_frame = universe_analysis.compute_metrics(\n",
    "    example_universe,\n",
    "    y_pred_prob=probs_test,\n",
    "    y_test=y_true,\n",
    "    org_test=org_test,\n",
    ")"
   ]
  },
  {
   "cell_type": "markdown",
   "id": "1fb7a0e9",
   "metadata": {
    "papermill": {
     "duration": 0.01211,
     "end_time": "2025-08-19T19:03:20.081944",
     "exception": false,
     "start_time": "2025-08-19T19:03:20.069834",
     "status": "completed"
    },
    "tags": []
   },
   "source": [
    "# Overall"
   ]
  },
  {
   "cell_type": "markdown",
   "id": "be1784b1",
   "metadata": {
    "papermill": {
     "duration": 0.011971,
     "end_time": "2025-08-19T19:03:20.105989",
     "exception": false,
     "start_time": "2025-08-19T19:03:20.094018",
     "status": "completed"
    },
    "tags": []
   },
   "source": [
    "Main fairness target: Equalized Odds. Seems to be a better fit than equal opportunity, since we're not only interested in Y = 1. Seems to be a better fit than demographic parity, since we also care about accuracy, not just equal distribution of preds.\n",
    "\n",
    "Pick column for computation of fairness metrics\n",
    "\n",
    "Performance\n",
    "Overall performance measures, most interesting in relation to the measures split by group below"
   ]
  },
  {
   "cell_type": "code",
   "execution_count": 59,
   "id": "b7672bee",
   "metadata": {
    "execution": {
     "iopub.execute_input": "2025-08-19T19:03:20.134363Z",
     "iopub.status.busy": "2025-08-19T19:03:20.132282Z",
     "iopub.status.idle": "2025-08-19T19:03:20.148920Z",
     "shell.execute_reply": "2025-08-19T19:03:20.147812Z"
    },
    "papermill": {
     "duration": 0.032833,
     "end_time": "2025-08-19T19:03:20.150774",
     "exception": false,
     "start_time": "2025-08-19T19:03:20.117941",
     "status": "completed"
    },
    "tags": []
   },
   "outputs": [
    {
     "data": {
      "text/plain": [
       "accuracy                   0.223219\n",
       "balanced accuracy          0.546118\n",
       "f1                         0.244615\n",
       "precision                  0.139740\n",
       "false positive rate        0.888213\n",
       "false negative rate        0.019552\n",
       "selection rate             0.900045\n",
       "count                  89710.000000\n",
       "dtype: float64"
      ]
     },
     "execution_count": 59,
     "metadata": {},
     "output_type": "execute_result"
    }
   ],
   "source": [
    "metric_frame.overall"
   ]
  },
  {
   "cell_type": "markdown",
   "id": "d93333c9",
   "metadata": {
    "papermill": {
     "duration": 0.012422,
     "end_time": "2025-08-19T19:03:20.182287",
     "exception": false,
     "start_time": "2025-08-19T19:03:20.169865",
     "status": "completed"
    },
    "tags": []
   },
   "source": [
    "By Group"
   ]
  },
  {
   "cell_type": "code",
   "execution_count": 60,
   "id": "52256966",
   "metadata": {
    "execution": {
     "iopub.execute_input": "2025-08-19T19:03:20.209203Z",
     "iopub.status.busy": "2025-08-19T19:03:20.208054Z",
     "iopub.status.idle": "2025-08-19T19:03:20.231162Z",
     "shell.execute_reply": "2025-08-19T19:03:20.230082Z"
    },
    "papermill": {
     "duration": 0.052551,
     "end_time": "2025-08-19T19:03:20.246902",
     "exception": false,
     "start_time": "2025-08-19T19:03:20.194351",
     "status": "completed"
    },
    "tags": []
   },
   "outputs": [
    {
     "data": {
      "text/html": [
       "<div>\n",
       "<style scoped>\n",
       "    .dataframe tbody tr th:only-of-type {\n",
       "        vertical-align: middle;\n",
       "    }\n",
       "\n",
       "    .dataframe tbody tr th {\n",
       "        vertical-align: top;\n",
       "    }\n",
       "\n",
       "    .dataframe thead th {\n",
       "        text-align: right;\n",
       "    }\n",
       "</style>\n",
       "<table border=\"1\" class=\"dataframe\">\n",
       "  <thead>\n",
       "    <tr style=\"text-align: right;\">\n",
       "      <th></th>\n",
       "      <th>accuracy</th>\n",
       "      <th>balanced accuracy</th>\n",
       "      <th>f1</th>\n",
       "      <th>precision</th>\n",
       "      <th>false positive rate</th>\n",
       "      <th>false negative rate</th>\n",
       "      <th>selection rate</th>\n",
       "      <th>count</th>\n",
       "    </tr>\n",
       "    <tr>\n",
       "      <th>majmin</th>\n",
       "      <th></th>\n",
       "      <th></th>\n",
       "      <th></th>\n",
       "      <th></th>\n",
       "      <th></th>\n",
       "      <th></th>\n",
       "      <th></th>\n",
       "      <th></th>\n",
       "    </tr>\n",
       "  </thead>\n",
       "  <tbody>\n",
       "    <tr>\n",
       "      <th>majority</th>\n",
       "      <td>0.243516</td>\n",
       "      <td>0.555125</td>\n",
       "      <td>0.254785</td>\n",
       "      <td>0.146457</td>\n",
       "      <td>0.868416</td>\n",
       "      <td>0.021335</td>\n",
       "      <td>0.882984</td>\n",
       "      <td>69170.0</td>\n",
       "    </tr>\n",
       "    <tr>\n",
       "      <th>minority</th>\n",
       "      <td>0.154869</td>\n",
       "      <td>0.516861</td>\n",
       "      <td>0.212208</td>\n",
       "      <td>0.118879</td>\n",
       "      <td>0.953610</td>\n",
       "      <td>0.012669</td>\n",
       "      <td>0.957498</td>\n",
       "      <td>20540.0</td>\n",
       "    </tr>\n",
       "  </tbody>\n",
       "</table>\n",
       "</div>"
      ],
      "text/plain": [
       "          accuracy  balanced accuracy        f1  precision  \\\n",
       "majmin                                                       \n",
       "majority  0.243516           0.555125  0.254785   0.146457   \n",
       "minority  0.154869           0.516861  0.212208   0.118879   \n",
       "\n",
       "          false positive rate  false negative rate  selection rate    count  \n",
       "majmin                                                                       \n",
       "majority             0.868416             0.021335        0.882984  69170.0  \n",
       "minority             0.953610             0.012669        0.957498  20540.0  "
      ]
     },
     "execution_count": 60,
     "metadata": {},
     "output_type": "execute_result"
    }
   ],
   "source": [
    "metric_frame.by_group"
   ]
  },
  {
   "cell_type": "code",
   "execution_count": 61,
   "id": "6e6c20ae",
   "metadata": {
    "execution": {
     "iopub.execute_input": "2025-08-19T19:03:20.283234Z",
     "iopub.status.busy": "2025-08-19T19:03:20.282818Z",
     "iopub.status.idle": "2025-08-19T19:03:22.490104Z",
     "shell.execute_reply": "2025-08-19T19:03:22.488730Z"
    },
    "papermill": {
     "duration": 2.223571,
     "end_time": "2025-08-19T19:03:22.491971",
     "exception": false,
     "start_time": "2025-08-19T19:03:20.268400",
     "status": "completed"
    },
    "tags": []
   },
   "outputs": [
    {
     "data": {
      "text/plain": [
       "array([[<Axes: title={'center': 'accuracy'}, xlabel='majmin'>,\n",
       "        <Axes: title={'center': 'balanced accuracy'}, xlabel='majmin'>,\n",
       "        <Axes: title={'center': 'f1'}, xlabel='majmin'>],\n",
       "       [<Axes: title={'center': 'precision'}, xlabel='majmin'>,\n",
       "        <Axes: title={'center': 'false positive rate'}, xlabel='majmin'>,\n",
       "        <Axes: title={'center': 'false negative rate'}, xlabel='majmin'>],\n",
       "       [<Axes: title={'center': 'selection rate'}, xlabel='majmin'>,\n",
       "        <Axes: title={'center': 'count'}, xlabel='majmin'>,\n",
       "        <Axes: xlabel='majmin'>]], dtype=object)"
      ]
     },
     "execution_count": 61,
     "metadata": {},
     "output_type": "execute_result"
    },
    {
     "data": {
      "image/png": "[encoded data removed]",
      "text/plain": [
       "<Figure size 1200x800 with 9 Axes>"
      ]
     },
     "metadata": {},
     "output_type": "display_data"
    }
   ],
   "source": [
    "# In a graphic\n",
    "metric_frame.by_group.plot.bar(\n",
    "    subplots=True,\n",
    "    layout=[3, 3],\n",
    "    legend=False,\n",
    "    figsize=[12, 8],\n",
    "    title=\"Show all metrics\",\n",
    ")"
   ]
  },
  {
   "cell_type": "markdown",
   "id": "b2e433ae",
   "metadata": {
    "papermill": {
     "duration": 0.013789,
     "end_time": "2025-08-19T19:03:22.520785",
     "exception": false,
     "start_time": "2025-08-19T19:03:22.506996",
     "status": "completed"
    },
    "tags": []
   },
   "source": [
    "# Final Output"
   ]
  },
  {
   "cell_type": "code",
   "execution_count": 62,
   "id": "3871301e",
   "metadata": {
    "execution": {
     "iopub.execute_input": "2025-08-19T19:03:22.551178Z",
     "iopub.status.busy": "2025-08-19T19:03:22.550335Z",
     "iopub.status.idle": "2025-08-19T19:03:22.560695Z",
     "shell.execute_reply": "2025-08-19T19:03:22.559738Z"
    },
    "papermill": {
     "duration": 0.030559,
     "end_time": "2025-08-19T19:03:22.565540",
     "exception": false,
     "start_time": "2025-08-19T19:03:22.534981",
     "status": "completed"
    },
    "tags": []
   },
   "outputs": [
    {
     "data": {
      "text/plain": [
       "4"
      ]
     },
     "execution_count": 62,
     "metadata": {},
     "output_type": "execute_result"
    }
   ],
   "source": [
    "sub_universes = universe_analysis.generate_sub_universes()\n",
    "len(sub_universes)"
   ]
  },
  {
   "cell_type": "code",
   "execution_count": 63,
   "id": "d9cfdaca",
   "metadata": {
    "execution": {
     "iopub.execute_input": "2025-08-19T19:03:22.604524Z",
     "iopub.status.busy": "2025-08-19T19:03:22.603576Z",
     "iopub.status.idle": "2025-08-19T19:03:22.612120Z",
     "shell.execute_reply": "2025-08-19T19:03:22.610941Z"
    },
    "papermill": {
     "duration": 0.0256,
     "end_time": "2025-08-19T19:03:22.613893",
     "exception": false,
     "start_time": "2025-08-19T19:03:22.588293",
     "status": "completed"
    },
    "tags": []
   },
   "outputs": [],
   "source": [
    "def filter_sub_universe_data(sub_universe, org_test):\n",
    "    # Keep all rows — no filtering\n",
    "    keep_rows_mask = np.ones(org_test.shape[0], dtype=bool)\n",
    "\n",
    "    print(f\"[INFO] Keeping all rows: {keep_rows_mask.sum()} rows retained.\")\n",
    "    return keep_rows_mask"
   ]
  },
  {
   "cell_type": "code",
   "execution_count": 64,
   "id": "2bc31ac1",
   "metadata": {
    "execution": {
     "iopub.execute_input": "2025-08-19T19:03:22.645726Z",
     "iopub.status.busy": "2025-08-19T19:03:22.645277Z",
     "iopub.status.idle": "2025-08-19T19:03:29.699990Z",
     "shell.execute_reply": "2025-08-19T19:03:29.698989Z"
    },
    "papermill": {
     "duration": 7.070997,
     "end_time": "2025-08-19T19:03:29.701297",
     "exception": false,
     "start_time": "2025-08-19T19:03:22.630300",
     "status": "completed"
    },
    "tags": []
   },
   "outputs": [
    {
     "name": "stdout",
     "output_type": "stream",
     "text": [
      "Stopping execution_time clock.\n",
      "[INFO] Keeping all rows: 89710 rows retained.\n"
     ]
    },
    {
     "name": "stdout",
     "output_type": "stream",
     "text": [
      "[INFO] Keeping all rows: 89710 rows retained.\n"
     ]
    },
    {
     "name": "stdout",
     "output_type": "stream",
     "text": [
      "[INFO] Keeping all rows: 89710 rows retained.\n"
     ]
    },
    {
     "name": "stdout",
     "output_type": "stream",
     "text": [
      "[INFO] Keeping all rows: 89710 rows retained.\n"
     ]
    },
    {
     "data": {
      "text/html": [
       "<div>\n",
       "<style scoped>\n",
       "    .dataframe tbody tr th:only-of-type {\n",
       "        vertical-align: middle;\n",
       "    }\n",
       "\n",
       "    .dataframe tbody tr th {\n",
       "        vertical-align: top;\n",
       "    }\n",
       "\n",
       "    .dataframe thead th {\n",
       "        text-align: right;\n",
       "    }\n",
       "</style>\n",
       "<table border=\"1\" class=\"dataframe\">\n",
       "  <thead>\n",
       "    <tr style=\"text-align: right;\">\n",
       "      <th></th>\n",
       "      <th>run_no</th>\n",
       "      <th>universe_id</th>\n",
       "      <th>universe_settings</th>\n",
       "      <th>execution_time</th>\n",
       "      <th>test_size_n</th>\n",
       "      <th>test_size_frac</th>\n",
       "      <th>fair_main_equalized_odds_difference</th>\n",
       "      <th>fair_main_equalized_odds_ratio</th>\n",
       "      <th>fair_main_demographic_parity_difference</th>\n",
       "      <th>fair_main_demographic_parity_ratio</th>\n",
       "      <th>...</th>\n",
       "      <th>perf_grp_precision_0</th>\n",
       "      <th>perf_grp_precision_1</th>\n",
       "      <th>perf_grp_false positive rate_0</th>\n",
       "      <th>perf_grp_false positive rate_1</th>\n",
       "      <th>perf_grp_false negative rate_0</th>\n",
       "      <th>perf_grp_false negative rate_1</th>\n",
       "      <th>perf_grp_selection rate_0</th>\n",
       "      <th>perf_grp_selection rate_1</th>\n",
       "      <th>perf_grp_count_0</th>\n",
       "      <th>perf_grp_count_1</th>\n",
       "    </tr>\n",
       "  </thead>\n",
       "  <tbody>\n",
       "    <tr>\n",
       "      <th>0</th>\n",
       "      <td>3</td>\n",
       "      <td>1ac9ee1167065fce6d4dc7bb89598e34</td>\n",
       "      <td>{\"cutoff\": \"quantile_0.1\", \"eval_fairness_grou...</td>\n",
       "      <td>23.015034</td>\n",
       "      <td>89710</td>\n",
       "      <td>1.0</td>\n",
       "      <td>0.085194</td>\n",
       "      <td>0.910661</td>\n",
       "      <td>0.074514</td>\n",
       "      <td>0.922179</td>\n",
       "      <td>...</td>\n",
       "      <td>NaN</td>\n",
       "      <td>NaN</td>\n",
       "      <td>NaN</td>\n",
       "      <td>NaN</td>\n",
       "      <td>NaN</td>\n",
       "      <td>NaN</td>\n",
       "      <td>NaN</td>\n",
       "      <td>NaN</td>\n",
       "      <td>NaN</td>\n",
       "      <td>NaN</td>\n",
       "    </tr>\n",
       "    <tr>\n",
       "      <th>0</th>\n",
       "      <td>3</td>\n",
       "      <td>1ac9ee1167065fce6d4dc7bb89598e34</td>\n",
       "      <td>{\"cutoff\": \"quantile_0.1\", \"eval_fairness_grou...</td>\n",
       "      <td>23.015034</td>\n",
       "      <td>89710</td>\n",
       "      <td>1.0</td>\n",
       "      <td>0.085194</td>\n",
       "      <td>0.910661</td>\n",
       "      <td>0.074514</td>\n",
       "      <td>0.922179</td>\n",
       "      <td>...</td>\n",
       "      <td>0.118879</td>\n",
       "      <td>0.146457</td>\n",
       "      <td>0.953610</td>\n",
       "      <td>0.868416</td>\n",
       "      <td>0.012669</td>\n",
       "      <td>0.021335</td>\n",
       "      <td>0.957498</td>\n",
       "      <td>0.882984</td>\n",
       "      <td>20540.0</td>\n",
       "      <td>69170.0</td>\n",
       "    </tr>\n",
       "    <tr>\n",
       "      <th>0</th>\n",
       "      <td>3</td>\n",
       "      <td>1ac9ee1167065fce6d4dc7bb89598e34</td>\n",
       "      <td>{\"cutoff\": \"quantile_0.25\", \"eval_fairness_gro...</td>\n",
       "      <td>23.015034</td>\n",
       "      <td>89710</td>\n",
       "      <td>1.0</td>\n",
       "      <td>0.089129</td>\n",
       "      <td>0.887626</td>\n",
       "      <td>0.074857</td>\n",
       "      <td>0.907393</td>\n",
       "      <td>...</td>\n",
       "      <td>NaN</td>\n",
       "      <td>NaN</td>\n",
       "      <td>NaN</td>\n",
       "      <td>NaN</td>\n",
       "      <td>NaN</td>\n",
       "      <td>NaN</td>\n",
       "      <td>NaN</td>\n",
       "      <td>NaN</td>\n",
       "      <td>NaN</td>\n",
       "      <td>NaN</td>\n",
       "    </tr>\n",
       "    <tr>\n",
       "      <th>0</th>\n",
       "      <td>3</td>\n",
       "      <td>1ac9ee1167065fce6d4dc7bb89598e34</td>\n",
       "      <td>{\"cutoff\": \"quantile_0.25\", \"eval_fairness_gro...</td>\n",
       "      <td>23.015034</td>\n",
       "      <td>89710</td>\n",
       "      <td>1.0</td>\n",
       "      <td>0.089129</td>\n",
       "      <td>0.887626</td>\n",
       "      <td>0.074857</td>\n",
       "      <td>0.907393</td>\n",
       "      <td>...</td>\n",
       "      <td>0.131904</td>\n",
       "      <td>0.166989</td>\n",
       "      <td>0.793143</td>\n",
       "      <td>0.704015</td>\n",
       "      <td>0.075169</td>\n",
       "      <td>0.073085</td>\n",
       "      <td>0.808325</td>\n",
       "      <td>0.733468</td>\n",
       "      <td>20540.0</td>\n",
       "      <td>69170.0</td>\n",
       "    </tr>\n",
       "  </tbody>\n",
       "</table>\n",
       "<p>4 rows × 50 columns</p>\n",
       "</div>"
      ],
      "text/plain": [
       "  run_no                       universe_id  \\\n",
       "0      3  1ac9ee1167065fce6d4dc7bb89598e34   \n",
       "0      3  1ac9ee1167065fce6d4dc7bb89598e34   \n",
       "0      3  1ac9ee1167065fce6d4dc7bb89598e34   \n",
       "0      3  1ac9ee1167065fce6d4dc7bb89598e34   \n",
       "\n",
       "                                   universe_settings  execution_time  \\\n",
       "0  {\"cutoff\": \"quantile_0.1\", \"eval_fairness_grou...       23.015034   \n",
       "0  {\"cutoff\": \"quantile_0.1\", \"eval_fairness_grou...       23.015034   \n",
       "0  {\"cutoff\": \"quantile_0.25\", \"eval_fairness_gro...       23.015034   \n",
       "0  {\"cutoff\": \"quantile_0.25\", \"eval_fairness_gro...       23.015034   \n",
       "\n",
       "   test_size_n  test_size_frac  fair_main_equalized_odds_difference  \\\n",
       "0        89710             1.0                             0.085194   \n",
       "0        89710             1.0                             0.085194   \n",
       "0        89710             1.0                             0.089129   \n",
       "0        89710             1.0                             0.089129   \n",
       "\n",
       "   fair_main_equalized_odds_ratio  fair_main_demographic_parity_difference  \\\n",
       "0                        0.910661                                 0.074514   \n",
       "0                        0.910661                                 0.074514   \n",
       "0                        0.887626                                 0.074857   \n",
       "0                        0.887626                                 0.074857   \n",
       "\n",
       "   fair_main_demographic_parity_ratio  ...  perf_grp_precision_0  \\\n",
       "0                            0.922179  ...                   NaN   \n",
       "0                            0.922179  ...              0.118879   \n",
       "0                            0.907393  ...                   NaN   \n",
       "0                            0.907393  ...              0.131904   \n",
       "\n",
       "   perf_grp_precision_1  perf_grp_false positive rate_0  \\\n",
       "0                   NaN                             NaN   \n",
       "0              0.146457                        0.953610   \n",
       "0                   NaN                             NaN   \n",
       "0              0.166989                        0.793143   \n",
       "\n",
       "   perf_grp_false positive rate_1  perf_grp_false negative rate_0  \\\n",
       "0                             NaN                             NaN   \n",
       "0                        0.868416                        0.012669   \n",
       "0                             NaN                             NaN   \n",
       "0                        0.704015                        0.075169   \n",
       "\n",
       "   perf_grp_false negative rate_1  perf_grp_selection rate_0  \\\n",
       "0                             NaN                        NaN   \n",
       "0                        0.021335                   0.957498   \n",
       "0                             NaN                        NaN   \n",
       "0                        0.073085                   0.808325   \n",
       "\n",
       "   perf_grp_selection rate_1  perf_grp_count_0  perf_grp_count_1  \n",
       "0                        NaN               NaN               NaN  \n",
       "0                   0.882984           20540.0           69170.0  \n",
       "0                        NaN               NaN               NaN  \n",
       "0                   0.733468           20540.0           69170.0  \n",
       "\n",
       "[4 rows x 50 columns]"
      ]
     },
     "execution_count": 64,
     "metadata": {},
     "output_type": "execute_result"
    }
   ],
   "source": [
    "final_output = universe_analysis.generate_final_output(\n",
    "    y_pred_prob=probs_test,\n",
    "    y_test=y_true,\n",
    "    org_test=org_test,\n",
    "    filter_data=filter_sub_universe_data,\n",
    "    cp_metrics_df=cp_metrics_df,\n",
    "    save=True,\n",
    ")\n",
    "final_output"
   ]
  },
  {
   "cell_type": "code",
   "execution_count": null,
   "id": "8b80a1ff",
   "metadata": {
    "papermill": {
     "duration": 0.028918,
     "end_time": "2025-08-19T19:03:29.748944",
     "exception": false,
     "start_time": "2025-08-19T19:03:29.720026",
     "status": "completed"
    },
    "tags": []
   },
   "outputs": [],
   "source": []
  },
  {
   "cell_type": "code",
   "execution_count": null,
   "id": "275c9fad",
   "metadata": {
    "papermill": {
     "duration": 0.014744,
     "end_time": "2025-08-19T19:03:29.778567",
     "exception": false,
     "start_time": "2025-08-19T19:03:29.763823",
     "status": "completed"
    },
    "tags": []
   },
   "outputs": [],
   "source": []
  }
 ],
 "metadata": {
  "celltoolbar": "Tags",
  "kernelspec": {
   "display_name": "Python (CMA Fairness)",
   "language": "python",
   "name": "cma_fair_env"
  },
  "language_info": {
   "codemirror_mode": {
    "name": "ipython",
    "version": 3
   },
   "file_extension": ".py",
   "mimetype": "text/x-python",
   "name": "python",
   "nbconvert_exporter": "python",
   "pygments_lexer": "ipython3",
   "version": "3.10.12"
  },
  "papermill": {
   "default_parameters": {},
   "duration": 33.896492,
   "end_time": "2025-08-19T19:03:30.614661",
   "environment_variables": {},
   "exception": null,
   "input_path": "universe_analysis.ipynb",
   "output_path": "output/runs/3/notebooks/m_3-1ac9ee1167065fce6d4dc7bb89598e34.ipynb",
   "parameters": {
    "output_dir": "output",
    "run_no": "3",
    "seed": "2023",
    "universe": "{\"cutoff\": [\"quantile_0.1\", \"quantile_0.25\"], \"eval_fairness_grouping\": [\"majority-minority\", \"nationality-all\"], \"exclude_features\": \"none\", \"exclude_subgroups\": \"drop-non-german\", \"model\": \"gbm\", \"scale\": \"do-not-scale\", \"training_size\": \"1k\", \"training_year\": \"2012_14\"}",
    "universe_id": "1ac9ee1167065fce6d4dc7bb89598e34"
   },
   "start_time": "2025-08-19T19:02:56.718169",
   "version": "2.6.0"
  }
 },
 "nbformat": 4,
 "nbformat_minor": 5
}