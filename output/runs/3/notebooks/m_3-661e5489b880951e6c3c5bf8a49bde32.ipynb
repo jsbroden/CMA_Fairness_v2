{
 "cells": [
  {
   "cell_type": "markdown",
   "id": "ef23dbb3",
   "metadata": {
    "papermill": {
     "duration": 0.011044,
     "end_time": "2025-08-19T19:11:09.844664",
     "exception": false,
     "start_time": "2025-08-19T19:11:09.833620",
     "status": "completed"
    },
    "tags": []
   },
   "source": [
    "# Setup"
   ]
  },
  {
   "cell_type": "code",
   "execution_count": 1,
   "id": "0bc8e7dc",
   "metadata": {
    "execution": {
     "iopub.execute_input": "2025-08-19T19:11:09.864374Z",
     "iopub.status.busy": "2025-08-19T19:11:09.863915Z",
     "iopub.status.idle": "2025-08-19T19:11:09.874439Z",
     "shell.execute_reply": "2025-08-19T19:11:09.873754Z"
    },
    "papermill": {
     "duration": 0.025743,
     "end_time": "2025-08-19T19:11:09.879536",
     "exception": false,
     "start_time": "2025-08-19T19:11:09.853793",
     "status": "completed"
    },
    "tags": []
   },
   "outputs": [
    {
     "name": "stdout",
     "output_type": "stream",
     "text": [
      "/dss/dsshome1/0C/ra93lal2/cma/CMA_Fairness_v2\n"
     ]
    },
    {
     "name": "stderr",
     "output_type": "stream",
     "text": [
      "/dss/dsshome1/0C/ra93lal2/.local/share/virtualenvs/CMA_Fairness_v2-3j10GkSs/lib/python3.10/site-packages/IPython/core/magics/osm.py:393: UserWarning: This is now an optional IPython functionality, using bookmarks requires you to install the `pickleshare` library.\n",
      "  bkms = self.shell.db.get('bookmarks', {})\n",
      "/dss/dsshome1/0C/ra93lal2/.local/share/virtualenvs/CMA_Fairness_v2-3j10GkSs/lib/python3.10/site-packages/IPython/core/magics/osm.py:417: UserWarning: This is now an optional IPython functionality, setting dhist requires you to install the `pickleshare` library.\n",
      "  self.shell.db['dhist'] = compress_dhist(dhist)[-100:]\n"
     ]
    }
   ],
   "source": [
    "%cd ~/cma/CMA_Fairness_v2"
   ]
  },
  {
   "cell_type": "markdown",
   "id": "9d235661",
   "metadata": {
    "papermill": {
     "duration": 0.009829,
     "end_time": "2025-08-19T19:11:09.915768",
     "exception": false,
     "start_time": "2025-08-19T19:11:09.905939",
     "status": "completed"
    },
    "tags": []
   },
   "source": [
    "The following cell holds the definition of our parameters, these values can be overriden by rendering the with e.g. the following command:\n",
    "\n",
    "papermill -p alpha 0.2 -p ratio 0.3 universe_analysis.ipynb output/test_run.ipynb"
   ]
  },
  {
   "cell_type": "code",
   "execution_count": 2,
   "id": "4a789d8e",
   "metadata": {
    "execution": {
     "iopub.execute_input": "2025-08-19T19:11:09.937984Z",
     "iopub.status.busy": "2025-08-19T19:11:09.937040Z",
     "iopub.status.idle": "2025-08-19T19:11:09.943836Z",
     "shell.execute_reply": "2025-08-19T19:11:09.942586Z"
    },
    "papermill": {
     "duration": 0.01977,
     "end_time": "2025-08-19T19:11:09.945436",
     "exception": false,
     "start_time": "2025-08-19T19:11:09.925666",
     "status": "completed"
    },
    "tags": []
   },
   "outputs": [
    {
     "name": "stdout",
     "output_type": "stream",
     "text": [
      "Current working directory: /dss/dsshome1/0C/ra93lal2/cma/CMA_Fairness_v2\n"
     ]
    }
   ],
   "source": [
    "import os\n",
    "print(\"Current working directory:\", os.getcwd())"
   ]
  },
  {
   "cell_type": "code",
   "execution_count": 3,
   "id": "4132aaed",
   "metadata": {
    "execution": {
     "iopub.execute_input": "2025-08-19T19:11:09.967108Z",
     "iopub.status.busy": "2025-08-19T19:11:09.966144Z",
     "iopub.status.idle": "2025-08-19T19:11:09.975373Z",
     "shell.execute_reply": "2025-08-19T19:11:09.974002Z"
    },
    "papermill": {
     "duration": 0.021923,
     "end_time": "2025-08-19T19:11:09.977354",
     "exception": false,
     "start_time": "2025-08-19T19:11:09.955431",
     "status": "completed"
    },
    "tags": [
     "parameters"
    ]
   },
   "outputs": [],
   "source": [
    "run_no = 0\n",
    "universe_id = \"test\"\n",
    "universe = {\n",
    "    \"training_size\": \"5k\", # \"25k\", \"5k\", \"1k\"\n",
    "    \"training_year\": \"2012_14\", # \"2014\", \"2012_14\", \"2010_14\"\n",
    "    \"scale\": \"scale\", # \"scale\", \"do-not-scale\",\n",
    "    \"model\": \"elasticnet\", # \"logreg\", \"penalized_logreg\", \"rf\", \"gbm\", \"elasticnet\"\n",
    "    \"cutoff\": [\"quantile_0.15\", \"quantile_0.30\"],\n",
    "    \"exclude_features\": \"age\", # \"none\", \"nationality\", \"sex\", \"nationality-sex\", \"age\"\n",
    "    \"exclude_subgroups\": \"drop-non-german\", # \"keep-all\", \"drop-non-german\"\n",
    "    \"eval_fairness_grouping\": [\"majority-minority\", \"nationality-all\"]\n",
    "}\n",
    "\n",
    "output_dir=\"./output\"\n",
    "seed=0"
   ]
  },
  {
   "cell_type": "code",
   "execution_count": 4,
   "id": "43b80d12",
   "metadata": {
    "execution": {
     "iopub.execute_input": "2025-08-19T19:11:10.019899Z",
     "iopub.status.busy": "2025-08-19T19:11:10.019468Z",
     "iopub.status.idle": "2025-08-19T19:11:10.033677Z",
     "shell.execute_reply": "2025-08-19T19:11:10.032288Z"
    },
    "papermill": {
     "duration": 0.030617,
     "end_time": "2025-08-19T19:11:10.036043",
     "exception": false,
     "start_time": "2025-08-19T19:11:10.005426",
     "status": "completed"
    },
    "tags": [
     "injected-parameters"
    ]
   },
   "outputs": [],
   "source": [
    "# Parameters\n",
    "universe_id = \"661e5489b880951e6c3c5bf8a49bde32\"\n",
    "run_no = \"3\"\n",
    "universe = \"{\\\"cutoff\\\": [\\\"quantile_0.1\\\", \\\"quantile_0.25\\\"], \\\"eval_fairness_grouping\\\": [\\\"majority-minority\\\", \\\"nationality-all\\\"], \\\"exclude_features\\\": \\\"nationality\\\", \\\"exclude_subgroups\\\": \\\"drop-non-german\\\", \\\"model\\\": \\\"gbm\\\", \\\"scale\\\": \\\"do-not-scale\\\", \\\"training_size\\\": \\\"1k\\\", \\\"training_year\\\": \\\"2010_14\\\"}\"\n",
    "output_dir = \"output\"\n",
    "seed = \"2023\"\n"
   ]
  },
  {
   "cell_type": "code",
   "execution_count": 5,
   "id": "a5d7941f",
   "metadata": {
    "execution": {
     "iopub.execute_input": "2025-08-19T19:11:10.071457Z",
     "iopub.status.busy": "2025-08-19T19:11:10.071069Z",
     "iopub.status.idle": "2025-08-19T19:11:10.079231Z",
     "shell.execute_reply": "2025-08-19T19:11:10.078093Z"
    },
    "papermill": {
     "duration": 0.030876,
     "end_time": "2025-08-19T19:11:10.082104",
     "exception": false,
     "start_time": "2025-08-19T19:11:10.051228",
     "status": "completed"
    },
    "tags": []
   },
   "outputs": [],
   "source": [
    "import json\n",
    "if isinstance(universe, str):\n",
    "    universe = json.loads(universe)"
   ]
  },
  {
   "cell_type": "code",
   "execution_count": 6,
   "id": "7076ccb1",
   "metadata": {
    "execution": {
     "iopub.execute_input": "2025-08-19T19:11:10.107173Z",
     "iopub.status.busy": "2025-08-19T19:11:10.106688Z",
     "iopub.status.idle": "2025-08-19T19:11:10.146017Z",
     "shell.execute_reply": "2025-08-19T19:11:10.144850Z"
    },
    "papermill": {
     "duration": 0.053355,
     "end_time": "2025-08-19T19:11:10.149422",
     "exception": false,
     "start_time": "2025-08-19T19:11:10.096067",
     "status": "completed"
    },
    "tags": []
   },
   "outputs": [],
   "source": [
    "# Auto-reload the custom package\n",
    "%load_ext autoreload\n",
    "%autoreload 1\n",
    "%aimport fairness_multiverse"
   ]
  },
  {
   "cell_type": "code",
   "execution_count": 7,
   "id": "94c8eb93",
   "metadata": {
    "execution": {
     "iopub.execute_input": "2025-08-19T19:11:10.196774Z",
     "iopub.status.busy": "2025-08-19T19:11:10.196141Z",
     "iopub.status.idle": "2025-08-19T19:11:11.843907Z",
     "shell.execute_reply": "2025-08-19T19:11:11.842906Z"
    },
    "papermill": {
     "duration": 1.674005,
     "end_time": "2025-08-19T19:11:11.846009",
     "exception": false,
     "start_time": "2025-08-19T19:11:10.172004",
     "status": "completed"
    },
    "tags": []
   },
   "outputs": [],
   "source": [
    "from fairness_multiverse.universe import UniverseAnalysis\n",
    "\n",
    "universe_analysis = UniverseAnalysis(\n",
    "    run_no = run_no,\n",
    "    universe_id = universe_id,\n",
    "    universe = universe,\n",
    "    output_dir=output_dir,\n",
    ")"
   ]
  },
  {
   "cell_type": "code",
   "execution_count": 8,
   "id": "2a6381cf",
   "metadata": {
    "execution": {
     "iopub.execute_input": "2025-08-19T19:11:11.883629Z",
     "iopub.status.busy": "2025-08-19T19:11:11.882978Z",
     "iopub.status.idle": "2025-08-19T19:11:11.897163Z",
     "shell.execute_reply": "2025-08-19T19:11:11.892065Z"
    },
    "papermill": {
     "duration": 0.043316,
     "end_time": "2025-08-19T19:11:11.900759",
     "exception": false,
     "start_time": "2025-08-19T19:11:11.857443",
     "status": "completed"
    },
    "tags": []
   },
   "outputs": [
    {
     "name": "stdout",
     "output_type": "stream",
     "text": [
      "Using Seed: 2023\n"
     ]
    }
   ],
   "source": [
    "import numpy as np\n",
    "parsed_seed = int(seed)\n",
    "np.random.seed(parsed_seed)\n",
    "print(f\"Using Seed: {parsed_seed}\")"
   ]
  },
  {
   "cell_type": "markdown",
   "id": "b6e958b4",
   "metadata": {
    "papermill": {
     "duration": 0.009366,
     "end_time": "2025-08-19T19:11:11.922644",
     "exception": false,
     "start_time": "2025-08-19T19:11:11.913278",
     "status": "completed"
    },
    "tags": []
   },
   "source": [
    "# Loading Data"
   ]
  },
  {
   "cell_type": "code",
   "execution_count": 9,
   "id": "98701482",
   "metadata": {
    "execution": {
     "iopub.execute_input": "2025-08-19T19:11:11.943031Z",
     "iopub.status.busy": "2025-08-19T19:11:11.942517Z",
     "iopub.status.idle": "2025-08-19T19:11:21.739575Z",
     "shell.execute_reply": "2025-08-19T19:11:21.738572Z"
    },
    "papermill": {
     "duration": 9.8088,
     "end_time": "2025-08-19T19:11:21.740970",
     "exception": false,
     "start_time": "2025-08-19T19:11:11.932170",
     "status": "completed"
    },
    "tags": []
   },
   "outputs": [
    {
     "name": "stdout",
     "output_type": "stream",
     "text": [
      "Loading SIAB data from cache: data/siab_cached.csv.gz\n"
     ]
    },
    {
     "name": "stdout",
     "output_type": "stream",
     "text": [
      "(643690, 164)\n"
     ]
    }
   ],
   "source": [
    "from pathlib import Path\n",
    "import pandas as pd\n",
    "\n",
    "# File paths\n",
    "raw_file = Path(\"data/raw/siab.csv\")\n",
    "cache_file = Path(\"data/siab_cached.csv.gz\")\n",
    "\n",
    "# Ensure cache directory exists\n",
    "cache_file.parent.mkdir(parents=True, exist_ok=True)\n",
    "\n",
    "# Load with simple caching\n",
    "if cache_file.exists():\n",
    "    print(f\"Loading SIAB data from cache: {cache_file}\")\n",
    "    siab = pd.read_csv(cache_file, compression='gzip')\n",
    "else:\n",
    "    print(f\"Cache not found. Reading raw SIAB data: {raw_file}\")\n",
    "    siab = pd.read_csv(raw_file)\n",
    "    siab.to_csv(cache_file, index=False, compression='gzip')\n",
    "    print(f\"Cached SIAB data to: {cache_file}\")\n",
    "\n",
    "print(siab.shape)"
   ]
  },
  {
   "cell_type": "code",
   "execution_count": 10,
   "id": "058d2abb",
   "metadata": {
    "execution": {
     "iopub.execute_input": "2025-08-19T19:11:21.769778Z",
     "iopub.status.busy": "2025-08-19T19:11:21.767147Z",
     "iopub.status.idle": "2025-08-19T19:11:21.955543Z",
     "shell.execute_reply": "2025-08-19T19:11:21.954743Z"
    },
    "papermill": {
     "duration": 0.203907,
     "end_time": "2025-08-19T19:11:21.957101",
     "exception": false,
     "start_time": "2025-08-19T19:11:21.753194",
     "status": "completed"
    },
    "tags": []
   },
   "outputs": [
    {
     "data": {
      "text/html": [
       "<div>\n",
       "<style scoped>\n",
       "    .dataframe tbody tr th:only-of-type {\n",
       "        vertical-align: middle;\n",
       "    }\n",
       "\n",
       "    .dataframe tbody tr th {\n",
       "        vertical-align: top;\n",
       "    }\n",
       "\n",
       "    .dataframe thead th {\n",
       "        text-align: right;\n",
       "    }\n",
       "</style>\n",
       "<table border=\"1\" class=\"dataframe\">\n",
       "  <thead>\n",
       "    <tr style=\"text-align: right;\">\n",
       "      <th></th>\n",
       "      <th>persnr</th>\n",
       "      <th>year</th>\n",
       "      <th>nrEntry</th>\n",
       "      <th>ltue</th>\n",
       "      <th>employed_before</th>\n",
       "      <th>receipt_leh_before</th>\n",
       "      <th>receipt_lhg_before</th>\n",
       "      <th>se_before</th>\n",
       "      <th>ASU_notue_seeking_before</th>\n",
       "      <th>ASU_other_before</th>\n",
       "      <th>...</th>\n",
       "      <th>minijob_tot_dur_byage</th>\n",
       "      <th>ft_tot_dur_byage</th>\n",
       "      <th>befrist_tot_dur_byage</th>\n",
       "      <th>leih_tot_dur_byage</th>\n",
       "      <th>LHG_tot_dur_byage</th>\n",
       "      <th>LEH_tot_dur_byage</th>\n",
       "      <th>almp_tot_dur_byage</th>\n",
       "      <th>almp_aw_tot_dur_byage</th>\n",
       "      <th>se_tot_dur_byage</th>\n",
       "      <th>seeking1_tot_dur_byage</th>\n",
       "    </tr>\n",
       "  </thead>\n",
       "  <tbody>\n",
       "    <tr>\n",
       "      <th>0</th>\n",
       "      <td>7</td>\n",
       "      <td>2015</td>\n",
       "      <td>1</td>\n",
       "      <td>0</td>\n",
       "      <td>1</td>\n",
       "      <td>0</td>\n",
       "      <td>0</td>\n",
       "      <td>0</td>\n",
       "      <td>1</td>\n",
       "      <td>0</td>\n",
       "      <td>...</td>\n",
       "      <td>0.000000</td>\n",
       "      <td>0.000000</td>\n",
       "      <td>15.043478</td>\n",
       "      <td>0.000000</td>\n",
       "      <td>0.000000</td>\n",
       "      <td>0.000000</td>\n",
       "      <td>0.000000</td>\n",
       "      <td>0.000000</td>\n",
       "      <td>0.000000</td>\n",
       "      <td>0.000000</td>\n",
       "    </tr>\n",
       "    <tr>\n",
       "      <th>1</th>\n",
       "      <td>18</td>\n",
       "      <td>2010</td>\n",
       "      <td>1</td>\n",
       "      <td>1</td>\n",
       "      <td>0</td>\n",
       "      <td>0</td>\n",
       "      <td>0</td>\n",
       "      <td>0</td>\n",
       "      <td>0</td>\n",
       "      <td>0</td>\n",
       "      <td>...</td>\n",
       "      <td>0.000000</td>\n",
       "      <td>0.000000</td>\n",
       "      <td>0.000000</td>\n",
       "      <td>0.000000</td>\n",
       "      <td>0.000000</td>\n",
       "      <td>0.000000</td>\n",
       "      <td>0.000000</td>\n",
       "      <td>0.000000</td>\n",
       "      <td>0.000000</td>\n",
       "      <td>0.000000</td>\n",
       "    </tr>\n",
       "    <tr>\n",
       "      <th>2</th>\n",
       "      <td>18</td>\n",
       "      <td>2011</td>\n",
       "      <td>2</td>\n",
       "      <td>0</td>\n",
       "      <td>1</td>\n",
       "      <td>0</td>\n",
       "      <td>1</td>\n",
       "      <td>0</td>\n",
       "      <td>1</td>\n",
       "      <td>0</td>\n",
       "      <td>...</td>\n",
       "      <td>2.714286</td>\n",
       "      <td>2.714286</td>\n",
       "      <td>0.000000</td>\n",
       "      <td>0.000000</td>\n",
       "      <td>10.775510</td>\n",
       "      <td>0.000000</td>\n",
       "      <td>8.367347</td>\n",
       "      <td>0.000000</td>\n",
       "      <td>0.000000</td>\n",
       "      <td>9.836735</td>\n",
       "    </tr>\n",
       "    <tr>\n",
       "      <th>3</th>\n",
       "      <td>18</td>\n",
       "      <td>2012</td>\n",
       "      <td>3</td>\n",
       "      <td>0</td>\n",
       "      <td>1</td>\n",
       "      <td>0</td>\n",
       "      <td>1</td>\n",
       "      <td>0</td>\n",
       "      <td>1</td>\n",
       "      <td>0</td>\n",
       "      <td>...</td>\n",
       "      <td>4.200000</td>\n",
       "      <td>4.200000</td>\n",
       "      <td>0.000000</td>\n",
       "      <td>0.000000</td>\n",
       "      <td>12.100000</td>\n",
       "      <td>0.000000</td>\n",
       "      <td>9.400000</td>\n",
       "      <td>0.000000</td>\n",
       "      <td>0.000000</td>\n",
       "      <td>9.960000</td>\n",
       "    </tr>\n",
       "    <tr>\n",
       "      <th>4</th>\n",
       "      <td>18</td>\n",
       "      <td>2012</td>\n",
       "      <td>4</td>\n",
       "      <td>0</td>\n",
       "      <td>1</td>\n",
       "      <td>0</td>\n",
       "      <td>1</td>\n",
       "      <td>0</td>\n",
       "      <td>1</td>\n",
       "      <td>0</td>\n",
       "      <td>...</td>\n",
       "      <td>5.460000</td>\n",
       "      <td>5.460000</td>\n",
       "      <td>0.000000</td>\n",
       "      <td>0.000000</td>\n",
       "      <td>13.360000</td>\n",
       "      <td>0.000000</td>\n",
       "      <td>10.320000</td>\n",
       "      <td>0.000000</td>\n",
       "      <td>0.000000</td>\n",
       "      <td>10.280000</td>\n",
       "    </tr>\n",
       "    <tr>\n",
       "      <th>...</th>\n",
       "      <td>...</td>\n",
       "      <td>...</td>\n",
       "      <td>...</td>\n",
       "      <td>...</td>\n",
       "      <td>...</td>\n",
       "      <td>...</td>\n",
       "      <td>...</td>\n",
       "      <td>...</td>\n",
       "      <td>...</td>\n",
       "      <td>...</td>\n",
       "      <td>...</td>\n",
       "      <td>...</td>\n",
       "      <td>...</td>\n",
       "      <td>...</td>\n",
       "      <td>...</td>\n",
       "      <td>...</td>\n",
       "      <td>...</td>\n",
       "      <td>...</td>\n",
       "      <td>...</td>\n",
       "      <td>...</td>\n",
       "      <td>...</td>\n",
       "    </tr>\n",
       "    <tr>\n",
       "      <th>643685</th>\n",
       "      <td>1827860</td>\n",
       "      <td>2013</td>\n",
       "      <td>1</td>\n",
       "      <td>0</td>\n",
       "      <td>0</td>\n",
       "      <td>0</td>\n",
       "      <td>1</td>\n",
       "      <td>0</td>\n",
       "      <td>0</td>\n",
       "      <td>1</td>\n",
       "      <td>...</td>\n",
       "      <td>0.000000</td>\n",
       "      <td>0.000000</td>\n",
       "      <td>0.000000</td>\n",
       "      <td>0.000000</td>\n",
       "      <td>0.612903</td>\n",
       "      <td>0.000000</td>\n",
       "      <td>0.000000</td>\n",
       "      <td>0.000000</td>\n",
       "      <td>0.000000</td>\n",
       "      <td>0.000000</td>\n",
       "    </tr>\n",
       "    <tr>\n",
       "      <th>643686</th>\n",
       "      <td>1827860</td>\n",
       "      <td>2015</td>\n",
       "      <td>2</td>\n",
       "      <td>1</td>\n",
       "      <td>0</td>\n",
       "      <td>0</td>\n",
       "      <td>1</td>\n",
       "      <td>0</td>\n",
       "      <td>1</td>\n",
       "      <td>0</td>\n",
       "      <td>...</td>\n",
       "      <td>0.000000</td>\n",
       "      <td>0.000000</td>\n",
       "      <td>0.212121</td>\n",
       "      <td>0.212121</td>\n",
       "      <td>17.363636</td>\n",
       "      <td>0.000000</td>\n",
       "      <td>8.909091</td>\n",
       "      <td>0.000000</td>\n",
       "      <td>0.000000</td>\n",
       "      <td>7.121212</td>\n",
       "    </tr>\n",
       "    <tr>\n",
       "      <th>643687</th>\n",
       "      <td>1827860</td>\n",
       "      <td>2016</td>\n",
       "      <td>3</td>\n",
       "      <td>1</td>\n",
       "      <td>0</td>\n",
       "      <td>0</td>\n",
       "      <td>1</td>\n",
       "      <td>1</td>\n",
       "      <td>0</td>\n",
       "      <td>1</td>\n",
       "      <td>...</td>\n",
       "      <td>0.000000</td>\n",
       "      <td>0.000000</td>\n",
       "      <td>0.294118</td>\n",
       "      <td>0.205882</td>\n",
       "      <td>34.705882</td>\n",
       "      <td>0.000000</td>\n",
       "      <td>10.352941</td>\n",
       "      <td>1.705882</td>\n",
       "      <td>1.705882</td>\n",
       "      <td>23.911765</td>\n",
       "    </tr>\n",
       "    <tr>\n",
       "      <th>643688</th>\n",
       "      <td>1827869</td>\n",
       "      <td>2013</td>\n",
       "      <td>1</td>\n",
       "      <td>1</td>\n",
       "      <td>1</td>\n",
       "      <td>0</td>\n",
       "      <td>0</td>\n",
       "      <td>0</td>\n",
       "      <td>1</td>\n",
       "      <td>0</td>\n",
       "      <td>...</td>\n",
       "      <td>0.000000</td>\n",
       "      <td>0.000000</td>\n",
       "      <td>0.000000</td>\n",
       "      <td>0.000000</td>\n",
       "      <td>0.000000</td>\n",
       "      <td>0.525424</td>\n",
       "      <td>0.000000</td>\n",
       "      <td>0.000000</td>\n",
       "      <td>0.000000</td>\n",
       "      <td>0.000000</td>\n",
       "    </tr>\n",
       "    <tr>\n",
       "      <th>643689</th>\n",
       "      <td>1827869</td>\n",
       "      <td>2014</td>\n",
       "      <td>2</td>\n",
       "      <td>0</td>\n",
       "      <td>0</td>\n",
       "      <td>1</td>\n",
       "      <td>0</td>\n",
       "      <td>0</td>\n",
       "      <td>1</td>\n",
       "      <td>0</td>\n",
       "      <td>...</td>\n",
       "      <td>0.000000</td>\n",
       "      <td>0.666667</td>\n",
       "      <td>0.666667</td>\n",
       "      <td>0.000000</td>\n",
       "      <td>0.000000</td>\n",
       "      <td>8.950000</td>\n",
       "      <td>1.033333</td>\n",
       "      <td>0.083333</td>\n",
       "      <td>0.083333</td>\n",
       "      <td>8.133333</td>\n",
       "    </tr>\n",
       "  </tbody>\n",
       "</table>\n",
       "<p>643690 rows × 164 columns</p>\n",
       "</div>"
      ],
      "text/plain": [
       "         persnr  year  nrEntry  ltue  employed_before  receipt_leh_before  \\\n",
       "0             7  2015        1     0                1                   0   \n",
       "1            18  2010        1     1                0                   0   \n",
       "2            18  2011        2     0                1                   0   \n",
       "3            18  2012        3     0                1                   0   \n",
       "4            18  2012        4     0                1                   0   \n",
       "...         ...   ...      ...   ...              ...                 ...   \n",
       "643685  1827860  2013        1     0                0                   0   \n",
       "643686  1827860  2015        2     1                0                   0   \n",
       "643687  1827860  2016        3     1                0                   0   \n",
       "643688  1827869  2013        1     1                1                   0   \n",
       "643689  1827869  2014        2     0                0                   1   \n",
       "\n",
       "        receipt_lhg_before  se_before  ASU_notue_seeking_before  \\\n",
       "0                        0          0                         1   \n",
       "1                        0          0                         0   \n",
       "2                        1          0                         1   \n",
       "3                        1          0                         1   \n",
       "4                        1          0                         1   \n",
       "...                    ...        ...                       ...   \n",
       "643685                   1          0                         0   \n",
       "643686                   1          0                         1   \n",
       "643687                   1          1                         0   \n",
       "643688                   0          0                         1   \n",
       "643689                   0          0                         1   \n",
       "\n",
       "        ASU_other_before  ...  minijob_tot_dur_byage  ft_tot_dur_byage  \\\n",
       "0                      0  ...               0.000000          0.000000   \n",
       "1                      0  ...               0.000000          0.000000   \n",
       "2                      0  ...               2.714286          2.714286   \n",
       "3                      0  ...               4.200000          4.200000   \n",
       "4                      0  ...               5.460000          5.460000   \n",
       "...                  ...  ...                    ...               ...   \n",
       "643685                 1  ...               0.000000          0.000000   \n",
       "643686                 0  ...               0.000000          0.000000   \n",
       "643687                 1  ...               0.000000          0.000000   \n",
       "643688                 0  ...               0.000000          0.000000   \n",
       "643689                 0  ...               0.000000          0.666667   \n",
       "\n",
       "        befrist_tot_dur_byage  leih_tot_dur_byage  LHG_tot_dur_byage  \\\n",
       "0                   15.043478            0.000000           0.000000   \n",
       "1                    0.000000            0.000000           0.000000   \n",
       "2                    0.000000            0.000000          10.775510   \n",
       "3                    0.000000            0.000000          12.100000   \n",
       "4                    0.000000            0.000000          13.360000   \n",
       "...                       ...                 ...                ...   \n",
       "643685               0.000000            0.000000           0.612903   \n",
       "643686               0.212121            0.212121          17.363636   \n",
       "643687               0.294118            0.205882          34.705882   \n",
       "643688               0.000000            0.000000           0.000000   \n",
       "643689               0.666667            0.000000           0.000000   \n",
       "\n",
       "        LEH_tot_dur_byage  almp_tot_dur_byage  almp_aw_tot_dur_byage  \\\n",
       "0                0.000000            0.000000               0.000000   \n",
       "1                0.000000            0.000000               0.000000   \n",
       "2                0.000000            8.367347               0.000000   \n",
       "3                0.000000            9.400000               0.000000   \n",
       "4                0.000000           10.320000               0.000000   \n",
       "...                   ...                 ...                    ...   \n",
       "643685           0.000000            0.000000               0.000000   \n",
       "643686           0.000000            8.909091               0.000000   \n",
       "643687           0.000000           10.352941               1.705882   \n",
       "643688           0.525424            0.000000               0.000000   \n",
       "643689           8.950000            1.033333               0.083333   \n",
       "\n",
       "        se_tot_dur_byage  seeking1_tot_dur_byage  \n",
       "0               0.000000                0.000000  \n",
       "1               0.000000                0.000000  \n",
       "2               0.000000                9.836735  \n",
       "3               0.000000                9.960000  \n",
       "4               0.000000               10.280000  \n",
       "...                  ...                     ...  \n",
       "643685          0.000000                0.000000  \n",
       "643686          0.000000                7.121212  \n",
       "643687          1.705882               23.911765  \n",
       "643688          0.000000                0.000000  \n",
       "643689          0.083333                8.133333  \n",
       "\n",
       "[643690 rows x 164 columns]"
      ]
     },
     "execution_count": 10,
     "metadata": {},
     "output_type": "execute_result"
    }
   ],
   "source": [
    "siab"
   ]
  },
  {
   "cell_type": "markdown",
   "id": "1f87e805",
   "metadata": {
    "papermill": {
     "duration": 0.011037,
     "end_time": "2025-08-19T19:11:21.980320",
     "exception": false,
     "start_time": "2025-08-19T19:11:21.969283",
     "status": "completed"
    },
    "tags": []
   },
   "source": [
    "# Splitting Data and Setting Training Data Size"
   ]
  },
  {
   "cell_type": "code",
   "execution_count": 11,
   "id": "910ae358",
   "metadata": {
    "execution": {
     "iopub.execute_input": "2025-08-19T19:11:22.001841Z",
     "iopub.status.busy": "2025-08-19T19:11:22.001322Z",
     "iopub.status.idle": "2025-08-19T19:11:23.004146Z",
     "shell.execute_reply": "2025-08-19T19:11:23.002917Z"
    },
    "papermill": {
     "duration": 1.015796,
     "end_time": "2025-08-19T19:11:23.005906",
     "exception": false,
     "start_time": "2025-08-19T19:11:21.990110",
     "status": "completed"
    },
    "tags": []
   },
   "outputs": [],
   "source": [
    "from fairness_multiverse.universe import sample_by_year_size\n",
    "\n",
    "siab_train = sample_by_year_size(siab,\n",
    "                               training_year=universe[\"training_year\"],\n",
    "                               training_size=universe[\"training_size\"])"
   ]
  },
  {
   "cell_type": "code",
   "execution_count": 12,
   "id": "919c8ff5",
   "metadata": {
    "execution": {
     "iopub.execute_input": "2025-08-19T19:11:23.032978Z",
     "iopub.status.busy": "2025-08-19T19:11:23.031117Z",
     "iopub.status.idle": "2025-08-19T19:11:23.041769Z",
     "shell.execute_reply": "2025-08-19T19:11:23.040999Z"
    },
    "papermill": {
     "duration": 0.023391,
     "end_time": "2025-08-19T19:11:23.042990",
     "exception": false,
     "start_time": "2025-08-19T19:11:23.019599",
     "status": "completed"
    },
    "tags": []
   },
   "outputs": [
    {
     "data": {
      "text/plain": [
       "(1000, 164)"
      ]
     },
     "execution_count": 12,
     "metadata": {},
     "output_type": "execute_result"
    }
   ],
   "source": [
    "siab_train.shape"
   ]
  },
  {
   "cell_type": "code",
   "execution_count": 13,
   "id": "feb13bf4",
   "metadata": {
    "execution": {
     "iopub.execute_input": "2025-08-19T19:11:23.067013Z",
     "iopub.status.busy": "2025-08-19T19:11:23.066158Z",
     "iopub.status.idle": "2025-08-19T19:11:23.079345Z",
     "shell.execute_reply": "2025-08-19T19:11:23.078617Z"
    },
    "papermill": {
     "duration": 0.027155,
     "end_time": "2025-08-19T19:11:23.080611",
     "exception": false,
     "start_time": "2025-08-19T19:11:23.053456",
     "status": "completed"
    },
    "tags": []
   },
   "outputs": [
    {
     "data": {
      "text/plain": [
       "year\n",
       "2010    200\n",
       "2011    200\n",
       "2012    200\n",
       "2013    200\n",
       "2014    200\n",
       "dtype: int64"
      ]
     },
     "metadata": {},
     "output_type": "display_data"
    }
   ],
   "source": [
    "display(siab_train.groupby(\"year\").size())"
   ]
  },
  {
   "cell_type": "code",
   "execution_count": 14,
   "id": "0997782f",
   "metadata": {
    "execution": {
     "iopub.execute_input": "2025-08-19T19:11:23.105821Z",
     "iopub.status.busy": "2025-08-19T19:11:23.104981Z",
     "iopub.status.idle": "2025-08-19T19:11:23.346238Z",
     "shell.execute_reply": "2025-08-19T19:11:23.345436Z"
    },
    "papermill": {
     "duration": 0.259523,
     "end_time": "2025-08-19T19:11:23.353716",
     "exception": false,
     "start_time": "2025-08-19T19:11:23.094193",
     "status": "completed"
    },
    "tags": []
   },
   "outputs": [],
   "source": [
    "#siab_train = siab_s[siab_s.year < 2015]\n",
    "siab_calib = siab[siab.year == 2015]\n",
    "siab_test = siab[siab.year == 2016]"
   ]
  },
  {
   "cell_type": "code",
   "execution_count": 15,
   "id": "2c1e4012",
   "metadata": {
    "execution": {
     "iopub.execute_input": "2025-08-19T19:11:23.392971Z",
     "iopub.status.busy": "2025-08-19T19:11:23.392367Z",
     "iopub.status.idle": "2025-08-19T19:11:23.396346Z",
     "shell.execute_reply": "2025-08-19T19:11:23.395688Z"
    },
    "papermill": {
     "duration": 0.016539,
     "end_time": "2025-08-19T19:11:23.397496",
     "exception": false,
     "start_time": "2025-08-19T19:11:23.380957",
     "status": "completed"
    },
    "tags": []
   },
   "outputs": [],
   "source": [
    "#siab_calib.shape"
   ]
  },
  {
   "cell_type": "code",
   "execution_count": 16,
   "id": "f66b54ca",
   "metadata": {
    "execution": {
     "iopub.execute_input": "2025-08-19T19:11:23.419001Z",
     "iopub.status.busy": "2025-08-19T19:11:23.418510Z",
     "iopub.status.idle": "2025-08-19T19:11:23.423258Z",
     "shell.execute_reply": "2025-08-19T19:11:23.422369Z"
    },
    "papermill": {
     "duration": 0.016745,
     "end_time": "2025-08-19T19:11:23.424509",
     "exception": false,
     "start_time": "2025-08-19T19:11:23.407764",
     "status": "completed"
    },
    "tags": []
   },
   "outputs": [],
   "source": [
    "#siab_test.shape"
   ]
  },
  {
   "cell_type": "code",
   "execution_count": 17,
   "id": "27e4384d",
   "metadata": {
    "execution": {
     "iopub.execute_input": "2025-08-19T19:11:23.446796Z",
     "iopub.status.busy": "2025-08-19T19:11:23.445852Z",
     "iopub.status.idle": "2025-08-19T19:11:23.457830Z",
     "shell.execute_reply": "2025-08-19T19:11:23.456822Z"
    },
    "papermill": {
     "duration": 0.025046,
     "end_time": "2025-08-19T19:11:23.459479",
     "exception": false,
     "start_time": "2025-08-19T19:11:23.434433",
     "status": "completed"
    },
    "tags": []
   },
   "outputs": [],
   "source": [
    "X_train = siab_train.iloc[:,4:164]\n",
    "y_train = siab_train.iloc[:, [3]]"
   ]
  },
  {
   "cell_type": "code",
   "execution_count": 18,
   "id": "08ee8389",
   "metadata": {
    "execution": {
     "iopub.execute_input": "2025-08-19T19:11:23.484854Z",
     "iopub.status.busy": "2025-08-19T19:11:23.483996Z",
     "iopub.status.idle": "2025-08-19T19:11:23.546985Z",
     "shell.execute_reply": "2025-08-19T19:11:23.545810Z"
    },
    "papermill": {
     "duration": 0.078019,
     "end_time": "2025-08-19T19:11:23.550285",
     "exception": false,
     "start_time": "2025-08-19T19:11:23.472266",
     "status": "completed"
    },
    "tags": []
   },
   "outputs": [],
   "source": [
    "X_calib = siab_calib.iloc[:,4:164]\n",
    "y_calib = siab_calib.iloc[:, [3]]"
   ]
  },
  {
   "cell_type": "code",
   "execution_count": 19,
   "id": "b7ff42e0",
   "metadata": {
    "execution": {
     "iopub.execute_input": "2025-08-19T19:11:23.586890Z",
     "iopub.status.busy": "2025-08-19T19:11:23.585968Z",
     "iopub.status.idle": "2025-08-19T19:11:23.714629Z",
     "shell.execute_reply": "2025-08-19T19:11:23.713523Z"
    },
    "papermill": {
     "duration": 0.143774,
     "end_time": "2025-08-19T19:11:23.716750",
     "exception": false,
     "start_time": "2025-08-19T19:11:23.572976",
     "status": "completed"
    },
    "tags": []
   },
   "outputs": [],
   "source": [
    "X_test = siab_test.iloc[:,4:164]\n",
    "y_true = siab_test.iloc[:, [3]]"
   ]
  },
  {
   "cell_type": "code",
   "execution_count": 20,
   "id": "0275101e",
   "metadata": {
    "execution": {
     "iopub.execute_input": "2025-08-19T19:11:23.760320Z",
     "iopub.status.busy": "2025-08-19T19:11:23.759363Z",
     "iopub.status.idle": "2025-08-19T19:11:23.922587Z",
     "shell.execute_reply": "2025-08-19T19:11:23.921882Z"
    },
    "papermill": {
     "duration": 0.185536,
     "end_time": "2025-08-19T19:11:23.924314",
     "exception": false,
     "start_time": "2025-08-19T19:11:23.738778",
     "status": "completed"
    },
    "tags": []
   },
   "outputs": [],
   "source": [
    "# Auxiliary data needed downstream in the pipeline\n",
    "\n",
    "org_train = X_train.copy()\n",
    "org_test = X_test.copy()\n",
    "org_calib = X_calib.copy()"
   ]
  },
  {
   "cell_type": "markdown",
   "id": "b461e618",
   "metadata": {
    "papermill": {
     "duration": 0.010187,
     "end_time": "2025-08-19T19:11:23.945420",
     "exception": false,
     "start_time": "2025-08-19T19:11:23.935233",
     "status": "completed"
    },
    "tags": []
   },
   "source": [
    "# Preprocessing Data"
   ]
  },
  {
   "cell_type": "code",
   "execution_count": 21,
   "id": "78e74c4b",
   "metadata": {
    "execution": {
     "iopub.execute_input": "2025-08-19T19:11:23.967774Z",
     "iopub.status.busy": "2025-08-19T19:11:23.966789Z",
     "iopub.status.idle": "2025-08-19T19:11:23.975415Z",
     "shell.execute_reply": "2025-08-19T19:11:23.974175Z"
    },
    "papermill": {
     "duration": 0.021575,
     "end_time": "2025-08-19T19:11:23.976921",
     "exception": false,
     "start_time": "2025-08-19T19:11:23.955346",
     "status": "completed"
    },
    "tags": []
   },
   "outputs": [],
   "source": [
    "# EXCLUDE PROTECTED FEATURES\n",
    "# --------------------------\n",
    "\n",
    "excluded_features = universe[\"exclude_features\"].split(\"-\")\n",
    "excluded_features_dictionary = {\n",
    "    \"nationality\": [\"maxdeutsch1\", \"maxdeutsch.Missing.\"],\n",
    "    \"sex\": [\"frau1\"],\n",
    "    \"age\": [\"age\"],\n",
    "}"
   ]
  },
  {
   "cell_type": "code",
   "execution_count": 22,
   "id": "f8e63555",
   "metadata": {
    "execution": {
     "iopub.execute_input": "2025-08-19T19:11:24.000295Z",
     "iopub.status.busy": "2025-08-19T19:11:23.999298Z",
     "iopub.status.idle": "2025-08-19T19:11:24.006889Z",
     "shell.execute_reply": "2025-08-19T19:11:24.005671Z"
    },
    "papermill": {
     "duration": 0.020622,
     "end_time": "2025-08-19T19:11:24.008307",
     "exception": false,
     "start_time": "2025-08-19T19:11:23.987685",
     "status": "completed"
    },
    "tags": []
   },
   "outputs": [],
   "source": [
    "excluded_features_columns = [\n",
    "    excluded_features_dictionary[f] for f in excluded_features if len(f) > 0 and f != \"none\"\n",
    "]"
   ]
  },
  {
   "cell_type": "code",
   "execution_count": 23,
   "id": "da781f7c",
   "metadata": {
    "execution": {
     "iopub.execute_input": "2025-08-19T19:11:24.033281Z",
     "iopub.status.busy": "2025-08-19T19:11:24.032336Z",
     "iopub.status.idle": "2025-08-19T19:11:24.039484Z",
     "shell.execute_reply": "2025-08-19T19:11:24.038344Z"
    },
    "papermill": {
     "duration": 0.020639,
     "end_time": "2025-08-19T19:11:24.041276",
     "exception": false,
     "start_time": "2025-08-19T19:11:24.020637",
     "status": "completed"
    },
    "tags": []
   },
   "outputs": [],
   "source": [
    "from fairness_multiverse.universe import flatten_once\n",
    "\n",
    "excluded_features_columns = flatten_once(excluded_features_columns)"
   ]
  },
  {
   "cell_type": "code",
   "execution_count": 24,
   "id": "37fef0f0",
   "metadata": {
    "execution": {
     "iopub.execute_input": "2025-08-19T19:11:24.066606Z",
     "iopub.status.busy": "2025-08-19T19:11:24.066127Z",
     "iopub.status.idle": "2025-08-19T19:11:24.077321Z",
     "shell.execute_reply": "2025-08-19T19:11:24.076516Z"
    },
    "papermill": {
     "duration": 0.024843,
     "end_time": "2025-08-19T19:11:24.079352",
     "exception": false,
     "start_time": "2025-08-19T19:11:24.054509",
     "status": "completed"
    },
    "tags": []
   },
   "outputs": [
    {
     "name": "stdout",
     "output_type": "stream",
     "text": [
      "Dropping features: ['maxdeutsch1', 'maxdeutsch.Missing.']\n"
     ]
    }
   ],
   "source": [
    "if len(excluded_features_columns) > 0:\n",
    "    print(f\"Dropping features: {excluded_features_columns}\")\n",
    "    X_train.drop(excluded_features_columns, axis=1, inplace=True)"
   ]
  },
  {
   "cell_type": "code",
   "execution_count": 25,
   "id": "d029e3e9",
   "metadata": {
    "execution": {
     "iopub.execute_input": "2025-08-19T19:11:24.104522Z",
     "iopub.status.busy": "2025-08-19T19:11:24.104135Z",
     "iopub.status.idle": "2025-08-19T19:11:24.160993Z",
     "shell.execute_reply": "2025-08-19T19:11:24.160181Z"
    },
    "papermill": {
     "duration": 0.070631,
     "end_time": "2025-08-19T19:11:24.162398",
     "exception": false,
     "start_time": "2025-08-19T19:11:24.091767",
     "status": "completed"
    },
    "tags": []
   },
   "outputs": [
    {
     "name": "stdout",
     "output_type": "stream",
     "text": [
      "Dropping features: ['maxdeutsch1', 'maxdeutsch.Missing.']\n"
     ]
    }
   ],
   "source": [
    "if len(excluded_features_columns) > 0:\n",
    "    print(f\"Dropping features: {excluded_features_columns}\")\n",
    "    X_test.drop(excluded_features_columns, axis=1, inplace=True)"
   ]
  },
  {
   "cell_type": "code",
   "execution_count": 26,
   "id": "01d571f0",
   "metadata": {
    "execution": {
     "iopub.execute_input": "2025-08-19T19:11:24.200573Z",
     "iopub.status.busy": "2025-08-19T19:11:24.199359Z",
     "iopub.status.idle": "2025-08-19T19:11:24.259953Z",
     "shell.execute_reply": "2025-08-19T19:11:24.259214Z"
    },
    "papermill": {
     "duration": 0.086175,
     "end_time": "2025-08-19T19:11:24.263347",
     "exception": false,
     "start_time": "2025-08-19T19:11:24.177172",
     "status": "completed"
    },
    "tags": []
   },
   "outputs": [
    {
     "name": "stdout",
     "output_type": "stream",
     "text": [
      "Dropping features: ['maxdeutsch1', 'maxdeutsch.Missing.']\n"
     ]
    }
   ],
   "source": [
    "if len(excluded_features_columns) > 0:\n",
    "    print(f\"Dropping features: {excluded_features_columns}\")\n",
    "    X_calib.drop(excluded_features_columns, axis=1, inplace=True)"
   ]
  },
  {
   "cell_type": "code",
   "execution_count": 27,
   "id": "3037356e",
   "metadata": {
    "execution": {
     "iopub.execute_input": "2025-08-19T19:11:24.301894Z",
     "iopub.status.busy": "2025-08-19T19:11:24.300983Z",
     "iopub.status.idle": "2025-08-19T19:11:24.307707Z",
     "shell.execute_reply": "2025-08-19T19:11:24.306546Z"
    },
    "papermill": {
     "duration": 0.021626,
     "end_time": "2025-08-19T19:11:24.309047",
     "exception": false,
     "start_time": "2025-08-19T19:11:24.287421",
     "status": "completed"
    },
    "tags": []
   },
   "outputs": [],
   "source": [
    "# EXCLUDE CERTAIN SUBGROUPS\n",
    "# -------------------------\n",
    "\n",
    "mode = universe.get(\"exclude_subgroups\", \"keep-all\") # Defaults to \"keep-all\" if the key is missing."
   ]
  },
  {
   "cell_type": "code",
   "execution_count": 28,
   "id": "9d1e63fd",
   "metadata": {
    "execution": {
     "iopub.execute_input": "2025-08-19T19:11:24.333069Z",
     "iopub.status.busy": "2025-08-19T19:11:24.332079Z",
     "iopub.status.idle": "2025-08-19T19:11:24.342787Z",
     "shell.execute_reply": "2025-08-19T19:11:24.341635Z"
    },
    "papermill": {
     "duration": 0.024025,
     "end_time": "2025-08-19T19:11:24.344307",
     "exception": false,
     "start_time": "2025-08-19T19:11:24.320282",
     "status": "completed"
    },
    "tags": []
   },
   "outputs": [],
   "source": [
    "if mode == \"keep-all\":\n",
    "    keep_mask = pd.Series(True, index=org_train.index)\n",
    "\n",
    "elif mode == \"drop-non-german\":\n",
    "    keep_mask = (org_train[\"maxdeutsch1\"] == 1) & (org_train[\"maxdeutsch.Missing.\"] == 0)\n",
    "\n",
    "else:\n",
    "    raise ValueError(f\"Unsupported mode for exclude_subgroups: {mode}\")"
   ]
  },
  {
   "cell_type": "code",
   "execution_count": 29,
   "id": "d3b65474",
   "metadata": {
    "execution": {
     "iopub.execute_input": "2025-08-19T19:11:24.371071Z",
     "iopub.status.busy": "2025-08-19T19:11:24.369966Z",
     "iopub.status.idle": "2025-08-19T19:11:24.379926Z",
     "shell.execute_reply": "2025-08-19T19:11:24.378768Z"
    },
    "papermill": {
     "duration": 0.023166,
     "end_time": "2025-08-19T19:11:24.381239",
     "exception": false,
     "start_time": "2025-08-19T19:11:24.358073",
     "status": "completed"
    },
    "tags": []
   },
   "outputs": [
    {
     "name": "stdout",
     "output_type": "stream",
     "text": [
      "Dropping 131 rows (13.10%) where mode='drop-non-german'\n"
     ]
    }
   ],
   "source": [
    "n_drop = (~keep_mask).sum() # Calculates how many rows are set to be dropped\n",
    "if n_drop > 0:\n",
    "    pct = n_drop / len(keep_mask) * 100\n",
    "    print(f\"Dropping {n_drop} rows ({pct:.2f}%) where mode='{mode}'\")"
   ]
  },
  {
   "cell_type": "code",
   "execution_count": 30,
   "id": "f44389b3",
   "metadata": {
    "execution": {
     "iopub.execute_input": "2025-08-19T19:11:24.406838Z",
     "iopub.status.busy": "2025-08-19T19:11:24.405622Z",
     "iopub.status.idle": "2025-08-19T19:11:24.414437Z",
     "shell.execute_reply": "2025-08-19T19:11:24.412901Z"
    },
    "papermill": {
     "duration": 0.022452,
     "end_time": "2025-08-19T19:11:24.416082",
     "exception": false,
     "start_time": "2025-08-19T19:11:24.393630",
     "status": "completed"
    },
    "tags": []
   },
   "outputs": [],
   "source": [
    "X_train = X_train[keep_mask]"
   ]
  },
  {
   "cell_type": "code",
   "execution_count": 31,
   "id": "ceca8c2a",
   "metadata": {
    "execution": {
     "iopub.execute_input": "2025-08-19T19:11:24.443029Z",
     "iopub.status.busy": "2025-08-19T19:11:24.442009Z",
     "iopub.status.idle": "2025-08-19T19:11:24.450151Z",
     "shell.execute_reply": "2025-08-19T19:11:24.448642Z"
    },
    "papermill": {
     "duration": 0.021761,
     "end_time": "2025-08-19T19:11:24.451598",
     "exception": false,
     "start_time": "2025-08-19T19:11:24.429837",
     "status": "completed"
    },
    "tags": []
   },
   "outputs": [],
   "source": [
    "y_train = y_train[keep_mask]"
   ]
  },
  {
   "cell_type": "markdown",
   "id": "04d31e2f",
   "metadata": {
    "papermill": {
     "duration": 0.010581,
     "end_time": "2025-08-19T19:11:24.475310",
     "exception": false,
     "start_time": "2025-08-19T19:11:24.464729",
     "status": "completed"
    },
    "tags": []
   },
   "source": [
    "# Model Training"
   ]
  },
  {
   "cell_type": "code",
   "execution_count": 32,
   "id": "db991733",
   "metadata": {
    "execution": {
     "iopub.execute_input": "2025-08-19T19:11:24.498729Z",
     "iopub.status.busy": "2025-08-19T19:11:24.497622Z",
     "iopub.status.idle": "2025-08-19T19:11:24.604249Z",
     "shell.execute_reply": "2025-08-19T19:11:24.603565Z"
    },
    "papermill": {
     "duration": 0.121514,
     "end_time": "2025-08-19T19:11:24.607213",
     "exception": false,
     "start_time": "2025-08-19T19:11:24.485699",
     "status": "completed"
    },
    "tags": []
   },
   "outputs": [],
   "source": [
    "from sklearn.linear_model import LogisticRegression\n",
    "from sklearn.ensemble import GradientBoostingClassifier, RandomForestClassifier\n",
    "\n",
    "if (universe[\"model\"] == \"logreg\"):\n",
    "    model = LogisticRegression() #penalty=\"none\", solver=\"newton-cg\", max_iter=1)\n",
    "elif (universe[\"model\"] == \"penalized_logreg\"):\n",
    "    model = LogisticRegression(penalty=\"l2\", C=0.1) #, solver=\"newton-cg\", max_iter=1)\n",
    "elif (universe[\"model\"] == \"rf\"):\n",
    "    model = RandomForestClassifier() # n_estimators=100, n_jobs=-1\n",
    "elif (universe[\"model\"] == \"gbm\"):\n",
    "    model = GradientBoostingClassifier()\n",
    "elif (universe[\"model\"] == \"elasticnet\"):\n",
    "    model = LogisticRegression(penalty = 'elasticnet', solver = 'saga', l1_ratio = 0.5) # max_iter=5000\n",
    "else:\n",
    "    raise \"Unsupported universe.model\""
   ]
  },
  {
   "cell_type": "code",
   "execution_count": 33,
   "id": "a4b5cd25",
   "metadata": {
    "execution": {
     "iopub.execute_input": "2025-08-19T19:11:24.646592Z",
     "iopub.status.busy": "2025-08-19T19:11:24.645708Z",
     "iopub.status.idle": "2025-08-19T19:11:24.654153Z",
     "shell.execute_reply": "2025-08-19T19:11:24.652956Z"
    },
    "papermill": {
     "duration": 0.023976,
     "end_time": "2025-08-19T19:11:24.655627",
     "exception": false,
     "start_time": "2025-08-19T19:11:24.631651",
     "status": "completed"
    },
    "tags": []
   },
   "outputs": [],
   "source": [
    "from sklearn.pipeline import Pipeline\n",
    "from sklearn.preprocessing import StandardScaler\n",
    "\n",
    "model = Pipeline([\n",
    "    #(\"continuous_processor\", continuous_processor),\n",
    "    #(\"categorical_preprocessor\", categorical_preprocessor),\n",
    "    (\"scale\", StandardScaler() if universe[\"scale\"] == \"scale\" else None), \n",
    "    (\"model\", model),\n",
    "])"
   ]
  },
  {
   "cell_type": "code",
   "execution_count": 34,
   "id": "283a904d",
   "metadata": {
    "execution": {
     "iopub.execute_input": "2025-08-19T19:11:24.682224Z",
     "iopub.status.busy": "2025-08-19T19:11:24.681220Z",
     "iopub.status.idle": "2025-08-19T19:11:25.486330Z",
     "shell.execute_reply": "2025-08-19T19:11:25.485539Z"
    },
    "papermill": {
     "duration": 0.818744,
     "end_time": "2025-08-19T19:11:25.487814",
     "exception": false,
     "start_time": "2025-08-19T19:11:24.669070",
     "status": "completed"
    },
    "tags": []
   },
   "outputs": [
    {
     "data": {
      "text/html": [
       "<style>#sk-container-id-1 {color: black;background-color: white;}#sk-container-id-1 pre{padding: 0;}#sk-container-id-1 div.sk-toggleable {background-color: white;}#sk-container-id-1 label.sk-toggleable__label {cursor: pointer;display: block;width: 100%;margin-bottom: 0;padding: 0.3em;box-sizing: border-box;text-align: center;}#sk-container-id-1 label.sk-toggleable__label-arrow:before {content: \"▸\";float: left;margin-right: 0.25em;color: #696969;}#sk-container-id-1 label.sk-toggleable__label-arrow:hover:before {color: black;}#sk-container-id-1 div.sk-estimator:hover label.sk-toggleable__label-arrow:before {color: black;}#sk-container-id-1 div.sk-toggleable__content {max-height: 0;max-width: 0;overflow: hidden;text-align: left;background-color: #f0f8ff;}#sk-container-id-1 div.sk-toggleable__content pre {margin: 0.2em;color: black;border-radius: 0.25em;background-color: #f0f8ff;}#sk-container-id-1 input.sk-toggleable__control:checked~div.sk-toggleable__content {max-height: 200px;max-width: 100%;overflow: auto;}#sk-container-id-1 input.sk-toggleable__control:checked~label.sk-toggleable__label-arrow:before {content: \"▾\";}#sk-container-id-1 div.sk-estimator input.sk-toggleable__control:checked~label.sk-toggleable__label {background-color: #d4ebff;}#sk-container-id-1 div.sk-label input.sk-toggleable__control:checked~label.sk-toggleable__label {background-color: #d4ebff;}#sk-container-id-1 input.sk-hidden--visually {border: 0;clip: rect(1px 1px 1px 1px);clip: rect(1px, 1px, 1px, 1px);height: 1px;margin: -1px;overflow: hidden;padding: 0;position: absolute;width: 1px;}#sk-container-id-1 div.sk-estimator {font-family: monospace;background-color: #f0f8ff;border: 1px dotted black;border-radius: 0.25em;box-sizing: border-box;margin-bottom: 0.5em;}#sk-container-id-1 div.sk-estimator:hover {background-color: #d4ebff;}#sk-container-id-1 div.sk-parallel-item::after {content: \"\";width: 100%;border-bottom: 1px solid gray;flex-grow: 1;}#sk-container-id-1 div.sk-label:hover label.sk-toggleable__label {background-color: #d4ebff;}#sk-container-id-1 div.sk-serial::before {content: \"\";position: absolute;border-left: 1px solid gray;box-sizing: border-box;top: 0;bottom: 0;left: 50%;z-index: 0;}#sk-container-id-1 div.sk-serial {display: flex;flex-direction: column;align-items: center;background-color: white;padding-right: 0.2em;padding-left: 0.2em;position: relative;}#sk-container-id-1 div.sk-item {position: relative;z-index: 1;}#sk-container-id-1 div.sk-parallel {display: flex;align-items: stretch;justify-content: center;background-color: white;position: relative;}#sk-container-id-1 div.sk-item::before, #sk-container-id-1 div.sk-parallel-item::before {content: \"\";position: absolute;border-left: 1px solid gray;box-sizing: border-box;top: 0;bottom: 0;left: 50%;z-index: -1;}#sk-container-id-1 div.sk-parallel-item {display: flex;flex-direction: column;z-index: 1;position: relative;background-color: white;}#sk-container-id-1 div.sk-parallel-item:first-child::after {align-self: flex-end;width: 50%;}#sk-container-id-1 div.sk-parallel-item:last-child::after {align-self: flex-start;width: 50%;}#sk-container-id-1 div.sk-parallel-item:only-child::after {width: 0;}#sk-container-id-1 div.sk-dashed-wrapped {border: 1px dashed gray;margin: 0 0.4em 0.5em 0.4em;box-sizing: border-box;padding-bottom: 0.4em;background-color: white;}#sk-container-id-1 div.sk-label label {font-family: monospace;font-weight: bold;display: inline-block;line-height: 1.2em;}#sk-container-id-1 div.sk-label-container {text-align: center;}#sk-container-id-1 div.sk-container {/* jupyter's `normalize.less` sets `[hidden] { display: none; }` but bootstrap.min.css set `[hidden] { display: none !important; }` so we also need the `!important` here to be able to override the default hidden behavior on the sphinx rendered scikit-learn.org. See: https://github.com/scikit-learn/scikit-learn/issues/21755 */display: inline-block !important;position: relative;}#sk-container-id-1 div.sk-text-repr-fallback {display: none;}</style><div id=\"sk-container-id-1\" class=\"sk-top-container\"><div class=\"sk-text-repr-fallback\"><pre>Pipeline(steps=[(&#x27;scale&#x27;, None), (&#x27;model&#x27;, GradientBoostingClassifier())])</pre><b>In a Jupyter environment, please rerun this cell to show the HTML representation or trust the notebook. <br />On GitHub, the HTML representation is unable to render, please try loading this page with nbviewer.org.</b></div><div class=\"sk-container\" hidden><div class=\"sk-item sk-dashed-wrapped\"><div class=\"sk-label-container\"><div class=\"sk-label sk-toggleable\"><input class=\"sk-toggleable__control sk-hidden--visually\" id=\"sk-estimator-id-1\" type=\"checkbox\" ><label for=\"sk-estimator-id-1\" class=\"sk-toggleable__label sk-toggleable__label-arrow\">Pipeline</label><div class=\"sk-toggleable__content\"><pre>Pipeline(steps=[(&#x27;scale&#x27;, None), (&#x27;model&#x27;, GradientBoostingClassifier())])</pre></div></div></div><div class=\"sk-serial\"><div class=\"sk-item\"><div class=\"sk-estimator sk-toggleable\"><input class=\"sk-toggleable__control sk-hidden--visually\" id=\"sk-estimator-id-2\" type=\"checkbox\" ><label for=\"sk-estimator-id-2\" class=\"sk-toggleable__label sk-toggleable__label-arrow\">None</label><div class=\"sk-toggleable__content\"><pre>None</pre></div></div></div><div class=\"sk-item\"><div class=\"sk-estimator sk-toggleable\"><input class=\"sk-toggleable__control sk-hidden--visually\" id=\"sk-estimator-id-3\" type=\"checkbox\" ><label for=\"sk-estimator-id-3\" class=\"sk-toggleable__label sk-toggleable__label-arrow\">GradientBoostingClassifier</label><div class=\"sk-toggleable__content\"><pre>GradientBoostingClassifier()</pre></div></div></div></div></div></div></div>"
      ],
      "text/plain": [
       "Pipeline(steps=[('scale', None), ('model', GradientBoostingClassifier())])"
      ]
     },
     "execution_count": 34,
     "metadata": {},
     "output_type": "execute_result"
    }
   ],
   "source": [
    "model.fit(X_train, y_train.values.ravel())"
   ]
  },
  {
   "cell_type": "code",
   "execution_count": 35,
   "id": "6e15e313",
   "metadata": {
    "execution": {
     "iopub.execute_input": "2025-08-19T19:11:25.517838Z",
     "iopub.status.busy": "2025-08-19T19:11:25.515583Z",
     "iopub.status.idle": "2025-08-19T19:11:26.069009Z",
     "shell.execute_reply": "2025-08-19T19:11:26.068243Z"
    },
    "papermill": {
     "duration": 0.568515,
     "end_time": "2025-08-19T19:11:26.070217",
     "exception": false,
     "start_time": "2025-08-19T19:11:25.501702",
     "status": "completed"
    },
    "tags": []
   },
   "outputs": [
    {
     "data": {
      "text/plain": [
       "0.8293501281908371"
      ]
     },
     "execution_count": 35,
     "metadata": {},
     "output_type": "execute_result"
    }
   ],
   "source": [
    "from fairness_multiverse.universe import predict_w_threshold\n",
    "\n",
    "probs_test = model.predict_proba(X_test)\n",
    "\n",
    "'''\n",
    "Below code returns a boolean array (or binary 0/1 array depending on how it’s used) where each element \n",
    "is True if the probability of class 1 is greater than or equal to the threshold, and False otherwise.\n",
    "'''\n",
    "y_pred_default = predict_w_threshold(probs_test, 0.5)\n",
    "\n",
    "from sklearn.metrics import accuracy_score\n",
    "\n",
    "# Naive prediction\n",
    "accuracy_score(y_true = y_true, y_pred = y_pred_default)"
   ]
  },
  {
   "cell_type": "code",
   "execution_count": 36,
   "id": "6f14067c",
   "metadata": {
    "execution": {
     "iopub.execute_input": "2025-08-19T19:11:26.110375Z",
     "iopub.status.busy": "2025-08-19T19:11:26.103147Z",
     "iopub.status.idle": "2025-08-19T19:11:26.601553Z",
     "shell.execute_reply": "2025-08-19T19:11:26.600441Z"
    },
    "papermill": {
     "duration": 0.512089,
     "end_time": "2025-08-19T19:11:26.602705",
     "exception": false,
     "start_time": "2025-08-19T19:11:26.090616",
     "status": "completed"
    },
    "tags": []
   },
   "outputs": [
    {
     "data": {
      "text/plain": [
       "array([0, 0, 0, ..., 1, 0, 0])"
      ]
     },
     "execution_count": 36,
     "metadata": {},
     "output_type": "execute_result"
    }
   ],
   "source": [
    "model.predict(X_test)"
   ]
  },
  {
   "cell_type": "markdown",
   "id": "3759920c",
   "metadata": {
    "papermill": {
     "duration": 0.021294,
     "end_time": "2025-08-19T19:11:26.638566",
     "exception": false,
     "start_time": "2025-08-19T19:11:26.617272",
     "status": "completed"
    },
    "tags": []
   },
   "source": [
    "# Conformal Prediction"
   ]
  },
  {
   "cell_type": "code",
   "execution_count": 37,
   "id": "14b27f59",
   "metadata": {
    "execution": {
     "iopub.execute_input": "2025-08-19T19:11:26.676188Z",
     "iopub.status.busy": "2025-08-19T19:11:26.675723Z",
     "iopub.status.idle": "2025-08-19T19:11:26.680179Z",
     "shell.execute_reply": "2025-08-19T19:11:26.679606Z"
    },
    "papermill": {
     "duration": 0.032797,
     "end_time": "2025-08-19T19:11:26.683484",
     "exception": false,
     "start_time": "2025-08-19T19:11:26.650687",
     "status": "completed"
    },
    "tags": []
   },
   "outputs": [],
   "source": [
    "# Miscoverage level for conformal prediction (10% allowed error rate => 90% target coverage)\n",
    "alpha = 0.1"
   ]
  },
  {
   "cell_type": "code",
   "execution_count": 38,
   "id": "59102472",
   "metadata": {
    "execution": {
     "iopub.execute_input": "2025-08-19T19:11:26.724964Z",
     "iopub.status.busy": "2025-08-19T19:11:26.723968Z",
     "iopub.status.idle": "2025-08-19T19:11:27.214996Z",
     "shell.execute_reply": "2025-08-19T19:11:27.213859Z"
    },
    "papermill": {
     "duration": 0.508833,
     "end_time": "2025-08-19T19:11:27.217250",
     "exception": false,
     "start_time": "2025-08-19T19:11:26.708417",
     "status": "completed"
    },
    "tags": []
   },
   "outputs": [],
   "source": [
    "probs_calib = model.predict_proba(X_calib)"
   ]
  },
  {
   "cell_type": "code",
   "execution_count": 39,
   "id": "a792d4dd",
   "metadata": {
    "execution": {
     "iopub.execute_input": "2025-08-19T19:11:27.241924Z",
     "iopub.status.busy": "2025-08-19T19:11:27.241495Z",
     "iopub.status.idle": "2025-08-19T19:11:27.247285Z",
     "shell.execute_reply": "2025-08-19T19:11:27.246648Z"
    },
    "papermill": {
     "duration": 0.020454,
     "end_time": "2025-08-19T19:11:27.249540",
     "exception": false,
     "start_time": "2025-08-19T19:11:27.229086",
     "status": "completed"
    },
    "tags": []
   },
   "outputs": [],
   "source": [
    "y_calib = y_calib.values.ravel().astype(int)"
   ]
  },
  {
   "cell_type": "code",
   "execution_count": 40,
   "id": "650fd033",
   "metadata": {
    "execution": {
     "iopub.execute_input": "2025-08-19T19:11:27.274043Z",
     "iopub.status.busy": "2025-08-19T19:11:27.273695Z",
     "iopub.status.idle": "2025-08-19T19:11:27.280391Z",
     "shell.execute_reply": "2025-08-19T19:11:27.279734Z"
    },
    "papermill": {
     "duration": 0.021032,
     "end_time": "2025-08-19T19:11:27.282801",
     "exception": false,
     "start_time": "2025-08-19T19:11:27.261769",
     "status": "completed"
    },
    "tags": []
   },
   "outputs": [],
   "source": [
    "from fairness_multiverse.conformal import compute_nc_scores\n",
    "\n",
    "# Compute nonconformity scores on calibration set (1 - probability of true class)\n",
    "nc_scores = compute_nc_scores(probs_calib, y_calib)"
   ]
  },
  {
   "cell_type": "code",
   "execution_count": 41,
   "id": "28ada44c",
   "metadata": {
    "execution": {
     "iopub.execute_input": "2025-08-19T19:11:27.309760Z",
     "iopub.status.busy": "2025-08-19T19:11:27.309229Z",
     "iopub.status.idle": "2025-08-19T19:11:27.315085Z",
     "shell.execute_reply": "2025-08-19T19:11:27.314210Z"
    },
    "papermill": {
     "duration": 0.020356,
     "end_time": "2025-08-19T19:11:27.317068",
     "exception": false,
     "start_time": "2025-08-19T19:11:27.296712",
     "status": "completed"
    },
    "tags": []
   },
   "outputs": [],
   "source": [
    "from fairness_multiverse.conformal import find_threshold\n",
    "\n",
    "# Find conformal threshold q_hat for the given alpha (split conformal method)\n",
    "q_hat = find_threshold(nc_scores, alpha)"
   ]
  },
  {
   "cell_type": "code",
   "execution_count": 42,
   "id": "df56469e",
   "metadata": {
    "execution": {
     "iopub.execute_input": "2025-08-19T19:11:27.344544Z",
     "iopub.status.busy": "2025-08-19T19:11:27.344113Z",
     "iopub.status.idle": "2025-08-19T19:11:27.350263Z",
     "shell.execute_reply": "2025-08-19T19:11:27.349401Z"
    },
    "papermill": {
     "duration": 0.021562,
     "end_time": "2025-08-19T19:11:27.352769",
     "exception": false,
     "start_time": "2025-08-19T19:11:27.331207",
     "status": "completed"
    },
    "tags": []
   },
   "outputs": [
    {
     "data": {
      "text/plain": [
       "0.7770556987077274"
      ]
     },
     "execution_count": 42,
     "metadata": {},
     "output_type": "execute_result"
    }
   ],
   "source": [
    "q_hat"
   ]
  },
  {
   "cell_type": "code",
   "execution_count": 43,
   "id": "aa1f5faa",
   "metadata": {
    "execution": {
     "iopub.execute_input": "2025-08-19T19:11:27.378488Z",
     "iopub.status.busy": "2025-08-19T19:11:27.378051Z",
     "iopub.status.idle": "2025-08-19T19:11:28.297099Z",
     "shell.execute_reply": "2025-08-19T19:11:28.296291Z"
    },
    "papermill": {
     "duration": 0.935002,
     "end_time": "2025-08-19T19:11:28.300063",
     "exception": false,
     "start_time": "2025-08-19T19:11:27.365061",
     "status": "completed"
    },
    "tags": []
   },
   "outputs": [],
   "source": [
    "from fairness_multiverse.conformal import predict_conformal_sets\n",
    "\n",
    "# Generate prediction sets for each test example\n",
    "pred_sets = predict_conformal_sets(model, X_test, q_hat)"
   ]
  },
  {
   "cell_type": "code",
   "execution_count": 44,
   "id": "97f67a6b",
   "metadata": {
    "execution": {
     "iopub.execute_input": "2025-08-19T19:11:28.358573Z",
     "iopub.status.busy": "2025-08-19T19:11:28.356303Z",
     "iopub.status.idle": "2025-08-19T19:11:28.365397Z",
     "shell.execute_reply": "2025-08-19T19:11:28.364761Z"
    },
    "papermill": {
     "duration": 0.042599,
     "end_time": "2025-08-19T19:11:28.370743",
     "exception": false,
     "start_time": "2025-08-19T19:11:28.328144",
     "status": "completed"
    },
    "tags": []
   },
   "outputs": [],
   "source": [
    "y_true = y_true.squeeze()"
   ]
  },
  {
   "cell_type": "code",
   "execution_count": 45,
   "id": "e700e9a7",
   "metadata": {
    "execution": {
     "iopub.execute_input": "2025-08-19T19:11:28.414497Z",
     "iopub.status.busy": "2025-08-19T19:11:28.413432Z",
     "iopub.status.idle": "2025-08-19T19:11:28.957765Z",
     "shell.execute_reply": "2025-08-19T19:11:28.956748Z"
    },
    "papermill": {
     "duration": 0.561937,
     "end_time": "2025-08-19T19:11:28.959534",
     "exception": false,
     "start_time": "2025-08-19T19:11:28.397597",
     "status": "completed"
    },
    "tags": []
   },
   "outputs": [],
   "source": [
    "from fairness_multiverse.conformal import evaluate_sets\n",
    "\n",
    "# Evaluate coverage and average set size on test data\n",
    "metrics = evaluate_sets(pred_sets, y_true)"
   ]
  },
  {
   "cell_type": "markdown",
   "id": "efbacec0",
   "metadata": {
    "papermill": {
     "duration": 0.011457,
     "end_time": "2025-08-19T19:11:28.983572",
     "exception": false,
     "start_time": "2025-08-19T19:11:28.972115",
     "status": "completed"
    },
    "tags": []
   },
   "source": [
    "# CP Metrics"
   ]
  },
  {
   "cell_type": "code",
   "execution_count": 46,
   "id": "9de55fb1",
   "metadata": {
    "execution": {
     "iopub.execute_input": "2025-08-19T19:11:29.009537Z",
     "iopub.status.busy": "2025-08-19T19:11:29.008795Z",
     "iopub.status.idle": "2025-08-19T19:11:29.019434Z",
     "shell.execute_reply": "2025-08-19T19:11:29.018312Z"
    },
    "papermill": {
     "duration": 0.026117,
     "end_time": "2025-08-19T19:11:29.021086",
     "exception": false,
     "start_time": "2025-08-19T19:11:28.994969",
     "status": "completed"
    },
    "tags": []
   },
   "outputs": [
    {
     "data": {
      "text/plain": [
       "{'coverage': 0.9090736818637833, 'avg_size': 1.1983390926318136}"
      ]
     },
     "execution_count": 46,
     "metadata": {},
     "output_type": "execute_result"
    }
   ],
   "source": [
    "metrics"
   ]
  },
  {
   "cell_type": "code",
   "execution_count": 47,
   "id": "64c340a1",
   "metadata": {
    "execution": {
     "iopub.execute_input": "2025-08-19T19:11:29.066793Z",
     "iopub.status.busy": "2025-08-19T19:11:29.066136Z",
     "iopub.status.idle": "2025-08-19T19:11:29.088752Z",
     "shell.execute_reply": "2025-08-19T19:11:29.087893Z"
    },
    "papermill": {
     "duration": 0.055223,
     "end_time": "2025-08-19T19:11:29.090902",
     "exception": false,
     "start_time": "2025-08-19T19:11:29.035679",
     "status": "completed"
    },
    "tags": []
   },
   "outputs": [],
   "source": [
    "example_universe = universe.copy()\n",
    "universe_training_year = example_universe.get(\"training_year\")\n",
    "universe_training_size = example_universe.get(\"training_size\")\n",
    "universe_scale = example_universe.get(\"scale\")\n",
    "universe_model = example_universe.get(\"model\")\n",
    "universe_exclude_features = example_universe.get(\"exclude_features\")\n",
    "universe_exclude_subgroups = example_universe.get(\"exclude_subgroups\")"
   ]
  },
  {
   "cell_type": "code",
   "execution_count": 48,
   "id": "dbb53cb4",
   "metadata": {
    "execution": {
     "iopub.execute_input": "2025-08-19T19:11:29.130276Z",
     "iopub.status.busy": "2025-08-19T19:11:29.129575Z",
     "iopub.status.idle": "2025-08-19T19:11:29.139053Z",
     "shell.execute_reply": "2025-08-19T19:11:29.137857Z"
    },
    "papermill": {
     "duration": 0.026389,
     "end_time": "2025-08-19T19:11:29.140544",
     "exception": false,
     "start_time": "2025-08-19T19:11:29.114155",
     "status": "completed"
    },
    "tags": []
   },
   "outputs": [],
   "source": [
    "cp_metrics_dict = {\n",
    "    \"universe_id\": [universe_id],\n",
    "    \"universe_training_year\": [universe_training_year],\n",
    "    \"universe_training_size\": [universe_training_size],\n",
    "    \"universe_scale\": [universe_scale],\n",
    "    \"universe_model\": [universe_model],\n",
    "    \"universe_exclude_features\": [universe_exclude_features],\n",
    "    \"universe_exclude_subgroups\": [universe_exclude_subgroups],\n",
    "    \"q_hat\": [q_hat],\n",
    "    \"coverage\": [metrics[\"coverage\"]],\n",
    "    \"avg_size\": [metrics[\"avg_size\"]],\n",
    "}"
   ]
  },
  {
   "cell_type": "code",
   "execution_count": 49,
   "id": "0d70d4b2",
   "metadata": {
    "execution": {
     "iopub.execute_input": "2025-08-19T19:11:29.168072Z",
     "iopub.status.busy": "2025-08-19T19:11:29.167237Z",
     "iopub.status.idle": "2025-08-19T19:11:29.177990Z",
     "shell.execute_reply": "2025-08-19T19:11:29.176794Z"
    },
    "papermill": {
     "duration": 0.026122,
     "end_time": "2025-08-19T19:11:29.179444",
     "exception": false,
     "start_time": "2025-08-19T19:11:29.153322",
     "status": "completed"
    },
    "tags": []
   },
   "outputs": [],
   "source": [
    "cp_metrics_df = pd.DataFrame(cp_metrics_dict)"
   ]
  },
  {
   "cell_type": "code",
   "execution_count": 50,
   "id": "b494403c",
   "metadata": {
    "execution": {
     "iopub.execute_input": "2025-08-19T19:11:29.208916Z",
     "iopub.status.busy": "2025-08-19T19:11:29.208160Z",
     "iopub.status.idle": "2025-08-19T19:11:29.230400Z",
     "shell.execute_reply": "2025-08-19T19:11:29.229567Z"
    },
    "papermill": {
     "duration": 0.038137,
     "end_time": "2025-08-19T19:11:29.232104",
     "exception": false,
     "start_time": "2025-08-19T19:11:29.193967",
     "status": "completed"
    },
    "tags": []
   },
   "outputs": [
    {
     "data": {
      "text/html": [
       "<div>\n",
       "<style scoped>\n",
       "    .dataframe tbody tr th:only-of-type {\n",
       "        vertical-align: middle;\n",
       "    }\n",
       "\n",
       "    .dataframe tbody tr th {\n",
       "        vertical-align: top;\n",
       "    }\n",
       "\n",
       "    .dataframe thead th {\n",
       "        text-align: right;\n",
       "    }\n",
       "</style>\n",
       "<table border=\"1\" class=\"dataframe\">\n",
       "  <thead>\n",
       "    <tr style=\"text-align: right;\">\n",
       "      <th></th>\n",
       "      <th>universe_id</th>\n",
       "      <th>universe_training_year</th>\n",
       "      <th>universe_training_size</th>\n",
       "      <th>universe_scale</th>\n",
       "      <th>universe_model</th>\n",
       "      <th>universe_exclude_features</th>\n",
       "      <th>universe_exclude_subgroups</th>\n",
       "      <th>q_hat</th>\n",
       "      <th>coverage</th>\n",
       "      <th>avg_size</th>\n",
       "    </tr>\n",
       "  </thead>\n",
       "  <tbody>\n",
       "    <tr>\n",
       "      <th>0</th>\n",
       "      <td>661e5489b880951e6c3c5bf8a49bde32</td>\n",
       "      <td>2010_14</td>\n",
       "      <td>1k</td>\n",
       "      <td>do-not-scale</td>\n",
       "      <td>gbm</td>\n",
       "      <td>nationality</td>\n",
       "      <td>drop-non-german</td>\n",
       "      <td>0.777056</td>\n",
       "      <td>0.909074</td>\n",
       "      <td>1.198339</td>\n",
       "    </tr>\n",
       "  </tbody>\n",
       "</table>\n",
       "</div>"
      ],
      "text/plain": [
       "                        universe_id universe_training_year  \\\n",
       "0  661e5489b880951e6c3c5bf8a49bde32                2010_14   \n",
       "\n",
       "  universe_training_size universe_scale universe_model  \\\n",
       "0                     1k   do-not-scale            gbm   \n",
       "\n",
       "  universe_exclude_features universe_exclude_subgroups     q_hat  coverage  \\\n",
       "0               nationality            drop-non-german  0.777056  0.909074   \n",
       "\n",
       "   avg_size  \n",
       "0  1.198339  "
      ]
     },
     "execution_count": 50,
     "metadata": {},
     "output_type": "execute_result"
    }
   ],
   "source": [
    "cp_metrics_df"
   ]
  },
  {
   "cell_type": "markdown",
   "id": "ed608b0b",
   "metadata": {
    "papermill": {
     "duration": 0.012312,
     "end_time": "2025-08-19T19:11:29.263194",
     "exception": false,
     "start_time": "2025-08-19T19:11:29.250882",
     "status": "completed"
    },
    "tags": []
   },
   "source": [
    "Conditional coverage & looking at subgroups"
   ]
  },
  {
   "cell_type": "code",
   "execution_count": 51,
   "id": "8968c366",
   "metadata": {
    "execution": {
     "iopub.execute_input": "2025-08-19T19:11:29.290041Z",
     "iopub.status.busy": "2025-08-19T19:11:29.289338Z",
     "iopub.status.idle": "2025-08-19T19:11:29.585126Z",
     "shell.execute_reply": "2025-08-19T19:11:29.584253Z"
    },
    "papermill": {
     "duration": 0.311715,
     "end_time": "2025-08-19T19:11:29.586882",
     "exception": false,
     "start_time": "2025-08-19T19:11:29.275167",
     "status": "completed"
    },
    "tags": []
   },
   "outputs": [],
   "source": [
    "from fairness_multiverse.conformal import build_cp_groups\n",
    "\n",
    "cp_groups_df = build_cp_groups(pred_sets, y_true, X_test.index, org_test)"
   ]
  },
  {
   "cell_type": "code",
   "execution_count": 52,
   "id": "292ddabf",
   "metadata": {
    "execution": {
     "iopub.execute_input": "2025-08-19T19:11:29.614084Z",
     "iopub.status.busy": "2025-08-19T19:11:29.613370Z",
     "iopub.status.idle": "2025-08-19T19:11:30.494874Z",
     "shell.execute_reply": "2025-08-19T19:11:30.493688Z"
    },
    "papermill": {
     "duration": 0.897098,
     "end_time": "2025-08-19T19:11:30.496741",
     "exception": false,
     "start_time": "2025-08-19T19:11:29.599643",
     "status": "completed"
    },
    "tags": []
   },
   "outputs": [],
   "source": [
    "# Define covered = 1 if true_label is in the predicted set\n",
    "cp_groups_df['covered'] = cp_groups_df.apply(\n",
    "    lambda r: int(r['true_label'] in r['pred_set']),\n",
    "    axis=1\n",
    ")"
   ]
  },
  {
   "cell_type": "code",
   "execution_count": 53,
   "id": "3a261692",
   "metadata": {
    "execution": {
     "iopub.execute_input": "2025-08-19T19:11:30.531816Z",
     "iopub.status.busy": "2025-08-19T19:11:30.530011Z",
     "iopub.status.idle": "2025-08-19T19:11:30.555433Z",
     "shell.execute_reply": "2025-08-19T19:11:30.554142Z"
    },
    "papermill": {
     "duration": 0.047551,
     "end_time": "2025-08-19T19:11:30.557323",
     "exception": false,
     "start_time": "2025-08-19T19:11:30.509772",
     "status": "completed"
    },
    "tags": []
   },
   "outputs": [],
   "source": [
    "subgroups = ['frau1','nongerman','nongerman_male','nongerman_female']\n",
    "\n",
    "# Conditional coverage for subgroup==1\n",
    "cond_coverage = {\n",
    "    g: cp_groups_df.loc[cp_groups_df[g]==1, 'covered'].mean()\n",
    "    for g in subgroups\n",
    "}"
   ]
  },
  {
   "cell_type": "code",
   "execution_count": 54,
   "id": "894fd600",
   "metadata": {
    "execution": {
     "iopub.execute_input": "2025-08-19T19:11:30.598448Z",
     "iopub.status.busy": "2025-08-19T19:11:30.597085Z",
     "iopub.status.idle": "2025-08-19T19:11:30.609230Z",
     "shell.execute_reply": "2025-08-19T19:11:30.607811Z"
    },
    "papermill": {
     "duration": 0.027628,
     "end_time": "2025-08-19T19:11:30.610910",
     "exception": false,
     "start_time": "2025-08-19T19:11:30.583282",
     "status": "completed"
    },
    "tags": []
   },
   "outputs": [
    {
     "data": {
      "text/plain": [
       "{'frau1': 0.9076155816147728,\n",
       " 'nongerman': 0.9077639925896817,\n",
       " 'nongerman_male': 0.9236242456993605,\n",
       " 'nongerman_female': 0.8815201192250373}"
      ]
     },
     "execution_count": 54,
     "metadata": {},
     "output_type": "execute_result"
    }
   ],
   "source": [
    "cond_coverage"
   ]
  },
  {
   "cell_type": "code",
   "execution_count": 55,
   "id": "942895c7",
   "metadata": {
    "execution": {
     "iopub.execute_input": "2025-08-19T19:11:30.650222Z",
     "iopub.status.busy": "2025-08-19T19:11:30.648868Z",
     "iopub.status.idle": "2025-08-19T19:11:30.660911Z",
     "shell.execute_reply": "2025-08-19T19:11:30.659482Z"
    },
    "papermill": {
     "duration": 0.032791,
     "end_time": "2025-08-19T19:11:30.662503",
     "exception": false,
     "start_time": "2025-08-19T19:11:30.629712",
     "status": "completed"
    },
    "tags": []
   },
   "outputs": [],
   "source": [
    "for subgroup, cov in cond_coverage.items():\n",
    "    cp_metrics_df[f\"cov_{subgroup}\"] = cov"
   ]
  },
  {
   "cell_type": "code",
   "execution_count": 56,
   "id": "3970120f",
   "metadata": {
    "execution": {
     "iopub.execute_input": "2025-08-19T19:11:30.698100Z",
     "iopub.status.busy": "2025-08-19T19:11:30.692810Z",
     "iopub.status.idle": "2025-08-19T19:11:30.721276Z",
     "shell.execute_reply": "2025-08-19T19:11:30.719952Z"
    },
    "papermill": {
     "duration": 0.044657,
     "end_time": "2025-08-19T19:11:30.723071",
     "exception": false,
     "start_time": "2025-08-19T19:11:30.678414",
     "status": "completed"
    },
    "tags": []
   },
   "outputs": [
    {
     "data": {
      "text/html": [
       "<div>\n",
       "<style scoped>\n",
       "    .dataframe tbody tr th:only-of-type {\n",
       "        vertical-align: middle;\n",
       "    }\n",
       "\n",
       "    .dataframe tbody tr th {\n",
       "        vertical-align: top;\n",
       "    }\n",
       "\n",
       "    .dataframe thead th {\n",
       "        text-align: right;\n",
       "    }\n",
       "</style>\n",
       "<table border=\"1\" class=\"dataframe\">\n",
       "  <thead>\n",
       "    <tr style=\"text-align: right;\">\n",
       "      <th></th>\n",
       "      <th>universe_id</th>\n",
       "      <th>universe_training_year</th>\n",
       "      <th>universe_training_size</th>\n",
       "      <th>universe_scale</th>\n",
       "      <th>universe_model</th>\n",
       "      <th>universe_exclude_features</th>\n",
       "      <th>universe_exclude_subgroups</th>\n",
       "      <th>q_hat</th>\n",
       "      <th>coverage</th>\n",
       "      <th>avg_size</th>\n",
       "      <th>cov_frau1</th>\n",
       "      <th>cov_nongerman</th>\n",
       "      <th>cov_nongerman_male</th>\n",
       "      <th>cov_nongerman_female</th>\n",
       "    </tr>\n",
       "  </thead>\n",
       "  <tbody>\n",
       "    <tr>\n",
       "      <th>0</th>\n",
       "      <td>661e5489b880951e6c3c5bf8a49bde32</td>\n",
       "      <td>2010_14</td>\n",
       "      <td>1k</td>\n",
       "      <td>do-not-scale</td>\n",
       "      <td>gbm</td>\n",
       "      <td>nationality</td>\n",
       "      <td>drop-non-german</td>\n",
       "      <td>0.777056</td>\n",
       "      <td>0.909074</td>\n",
       "      <td>1.198339</td>\n",
       "      <td>0.907616</td>\n",
       "      <td>0.907764</td>\n",
       "      <td>0.923624</td>\n",
       "      <td>0.88152</td>\n",
       "    </tr>\n",
       "  </tbody>\n",
       "</table>\n",
       "</div>"
      ],
      "text/plain": [
       "                        universe_id universe_training_year  \\\n",
       "0  661e5489b880951e6c3c5bf8a49bde32                2010_14   \n",
       "\n",
       "  universe_training_size universe_scale universe_model  \\\n",
       "0                     1k   do-not-scale            gbm   \n",
       "\n",
       "  universe_exclude_features universe_exclude_subgroups     q_hat  coverage  \\\n",
       "0               nationality            drop-non-german  0.777056  0.909074   \n",
       "\n",
       "   avg_size  cov_frau1  cov_nongerman  cov_nongerman_male  \\\n",
       "0  1.198339   0.907616       0.907764            0.923624   \n",
       "\n",
       "   cov_nongerman_female  \n",
       "0               0.88152  "
      ]
     },
     "execution_count": 56,
     "metadata": {},
     "output_type": "execute_result"
    }
   ],
   "source": [
    "cp_metrics_df"
   ]
  },
  {
   "cell_type": "markdown",
   "id": "3fc519cc",
   "metadata": {
    "papermill": {
     "duration": 0.012841,
     "end_time": "2025-08-19T19:11:30.750983",
     "exception": false,
     "start_time": "2025-08-19T19:11:30.738142",
     "status": "completed"
    },
    "tags": []
   },
   "source": [
    "# (Fairness) Metrics"
   ]
  },
  {
   "cell_type": "code",
   "execution_count": 57,
   "id": "a2e5e155",
   "metadata": {
    "execution": {
     "iopub.execute_input": "2025-08-19T19:11:30.783216Z",
     "iopub.status.busy": "2025-08-19T19:11:30.780173Z",
     "iopub.status.idle": "2025-08-19T19:11:30.813486Z",
     "shell.execute_reply": "2025-08-19T19:11:30.812203Z"
    },
    "papermill": {
     "duration": 0.051981,
     "end_time": "2025-08-19T19:11:30.815248",
     "exception": false,
     "start_time": "2025-08-19T19:11:30.763267",
     "status": "completed"
    },
    "tags": []
   },
   "outputs": [],
   "source": [
    "colname_to_bin = \"maxdeutsch1\"\n",
    "majority_value = org_train[colname_to_bin].mode()[0]\n",
    "\n",
    "org_test[\"majmin\"] = np.where(org_test[colname_to_bin] == majority_value, \"majority\", \"minority\")"
   ]
  },
  {
   "cell_type": "code",
   "execution_count": 58,
   "id": "17e3e4d5",
   "metadata": {
    "execution": {
     "iopub.execute_input": "2025-08-19T19:11:30.844785Z",
     "iopub.status.busy": "2025-08-19T19:11:30.843832Z",
     "iopub.status.idle": "2025-08-19T19:11:32.624206Z",
     "shell.execute_reply": "2025-08-19T19:11:32.622984Z"
    },
    "papermill": {
     "duration": 1.796536,
     "end_time": "2025-08-19T19:11:32.626048",
     "exception": false,
     "start_time": "2025-08-19T19:11:30.829512",
     "status": "completed"
    },
    "tags": []
   },
   "outputs": [],
   "source": [
    "example_universe = universe.copy()\n",
    "example_universe[\"cutoff\"] = example_universe[\"cutoff\"][0]\n",
    "example_universe[\"eval_fairness_grouping\"] = example_universe[\"eval_fairness_grouping\"][0]\n",
    "fairness_dict, metric_frame = universe_analysis.compute_metrics(\n",
    "    example_universe,\n",
    "    y_pred_prob=probs_test,\n",
    "    y_test=y_true,\n",
    "    org_test=org_test,\n",
    ")"
   ]
  },
  {
   "cell_type": "markdown",
   "id": "1fb7a0e9",
   "metadata": {
    "papermill": {
     "duration": 0.012645,
     "end_time": "2025-08-19T19:11:32.651957",
     "exception": false,
     "start_time": "2025-08-19T19:11:32.639312",
     "status": "completed"
    },
    "tags": []
   },
   "source": [
    "# Overall"
   ]
  },
  {
   "cell_type": "markdown",
   "id": "be1784b1",
   "metadata": {
    "papermill": {
     "duration": 0.01271,
     "end_time": "2025-08-19T19:11:32.677275",
     "exception": false,
     "start_time": "2025-08-19T19:11:32.664565",
     "status": "completed"
    },
    "tags": []
   },
   "source": [
    "Main fairness target: Equalized Odds. Seems to be a better fit than equal opportunity, since we're not only interested in Y = 1. Seems to be a better fit than demographic parity, since we also care about accuracy, not just equal distribution of preds.\n",
    "\n",
    "Pick column for computation of fairness metrics\n",
    "\n",
    "Performance\n",
    "Overall performance measures, most interesting in relation to the measures split by group below"
   ]
  },
  {
   "cell_type": "code",
   "execution_count": 59,
   "id": "b7672bee",
   "metadata": {
    "execution": {
     "iopub.execute_input": "2025-08-19T19:11:32.703961Z",
     "iopub.status.busy": "2025-08-19T19:11:32.703635Z",
     "iopub.status.idle": "2025-08-19T19:11:32.712409Z",
     "shell.execute_reply": "2025-08-19T19:11:32.711611Z"
    },
    "papermill": {
     "duration": 0.023717,
     "end_time": "2025-08-19T19:11:32.713617",
     "exception": false,
     "start_time": "2025-08-19T19:11:32.689900",
     "status": "completed"
    },
    "tags": []
   },
   "outputs": [
    {
     "data": {
      "text/plain": [
       "accuracy                   0.222706\n",
       "balanced accuracy          0.544897\n",
       "f1                         0.244084\n",
       "precision                  0.139437\n",
       "false positive rate        0.888481\n",
       "false negative rate        0.021724\n",
       "selection rate             0.900000\n",
       "count                  89710.000000\n",
       "dtype: float64"
      ]
     },
     "execution_count": 59,
     "metadata": {},
     "output_type": "execute_result"
    }
   ],
   "source": [
    "metric_frame.overall"
   ]
  },
  {
   "cell_type": "markdown",
   "id": "d93333c9",
   "metadata": {
    "papermill": {
     "duration": 0.012646,
     "end_time": "2025-08-19T19:11:32.741864",
     "exception": false,
     "start_time": "2025-08-19T19:11:32.729218",
     "status": "completed"
    },
    "tags": []
   },
   "source": [
    "By Group"
   ]
  },
  {
   "cell_type": "code",
   "execution_count": 60,
   "id": "52256966",
   "metadata": {
    "execution": {
     "iopub.execute_input": "2025-08-19T19:11:32.768335Z",
     "iopub.status.busy": "2025-08-19T19:11:32.768030Z",
     "iopub.status.idle": "2025-08-19T19:11:32.782070Z",
     "shell.execute_reply": "2025-08-19T19:11:32.781392Z"
    },
    "papermill": {
     "duration": 0.028837,
     "end_time": "2025-08-19T19:11:32.783244",
     "exception": false,
     "start_time": "2025-08-19T19:11:32.754407",
     "status": "completed"
    },
    "tags": []
   },
   "outputs": [
    {
     "data": {
      "text/html": [
       "<div>\n",
       "<style scoped>\n",
       "    .dataframe tbody tr th:only-of-type {\n",
       "        vertical-align: middle;\n",
       "    }\n",
       "\n",
       "    .dataframe tbody tr th {\n",
       "        vertical-align: top;\n",
       "    }\n",
       "\n",
       "    .dataframe thead th {\n",
       "        text-align: right;\n",
       "    }\n",
       "</style>\n",
       "<table border=\"1\" class=\"dataframe\">\n",
       "  <thead>\n",
       "    <tr style=\"text-align: right;\">\n",
       "      <th></th>\n",
       "      <th>accuracy</th>\n",
       "      <th>balanced accuracy</th>\n",
       "      <th>f1</th>\n",
       "      <th>precision</th>\n",
       "      <th>false positive rate</th>\n",
       "      <th>false negative rate</th>\n",
       "      <th>selection rate</th>\n",
       "      <th>count</th>\n",
       "    </tr>\n",
       "    <tr>\n",
       "      <th>majmin</th>\n",
       "      <th></th>\n",
       "      <th></th>\n",
       "      <th></th>\n",
       "      <th></th>\n",
       "      <th></th>\n",
       "      <th></th>\n",
       "      <th></th>\n",
       "      <th></th>\n",
       "    </tr>\n",
       "  </thead>\n",
       "  <tbody>\n",
       "    <tr>\n",
       "      <th>majority</th>\n",
       "      <td>0.239540</td>\n",
       "      <td>0.551675</td>\n",
       "      <td>0.253262</td>\n",
       "      <td>0.145511</td>\n",
       "      <td>0.872580</td>\n",
       "      <td>0.024070</td>\n",
       "      <td>0.886237</td>\n",
       "      <td>69170.0</td>\n",
       "    </tr>\n",
       "    <tr>\n",
       "      <th>minority</th>\n",
       "      <td>0.166018</td>\n",
       "      <td>0.523161</td>\n",
       "      <td>0.214436</td>\n",
       "      <td>0.120280</td>\n",
       "      <td>0.941008</td>\n",
       "      <td>0.012669</td>\n",
       "      <td>0.946349</td>\n",
       "      <td>20540.0</td>\n",
       "    </tr>\n",
       "  </tbody>\n",
       "</table>\n",
       "</div>"
      ],
      "text/plain": [
       "          accuracy  balanced accuracy        f1  precision  \\\n",
       "majmin                                                       \n",
       "majority  0.239540           0.551675  0.253262   0.145511   \n",
       "minority  0.166018           0.523161  0.214436   0.120280   \n",
       "\n",
       "          false positive rate  false negative rate  selection rate    count  \n",
       "majmin                                                                       \n",
       "majority             0.872580             0.024070        0.886237  69170.0  \n",
       "minority             0.941008             0.012669        0.946349  20540.0  "
      ]
     },
     "execution_count": 60,
     "metadata": {},
     "output_type": "execute_result"
    }
   ],
   "source": [
    "metric_frame.by_group"
   ]
  },
  {
   "cell_type": "code",
   "execution_count": 61,
   "id": "6e6c20ae",
   "metadata": {
    "execution": {
     "iopub.execute_input": "2025-08-19T19:11:32.812214Z",
     "iopub.status.busy": "2025-08-19T19:11:32.811239Z",
     "iopub.status.idle": "2025-08-19T19:11:34.657805Z",
     "shell.execute_reply": "2025-08-19T19:11:34.656713Z"
    },
    "papermill": {
     "duration": 1.862448,
     "end_time": "2025-08-19T19:11:34.659279",
     "exception": false,
     "start_time": "2025-08-19T19:11:32.796831",
     "status": "completed"
    },
    "tags": []
   },
   "outputs": [
    {
     "data": {
      "text/plain": [
       "array([[<Axes: title={'center': 'accuracy'}, xlabel='majmin'>,\n",
       "        <Axes: title={'center': 'balanced accuracy'}, xlabel='majmin'>,\n",
       "        <Axes: title={'center': 'f1'}, xlabel='majmin'>],\n",
       "       [<Axes: title={'center': 'precision'}, xlabel='majmin'>,\n",
       "        <Axes: title={'center': 'false positive rate'}, xlabel='majmin'>,\n",
       "        <Axes: title={'center': 'false negative rate'}, xlabel='majmin'>],\n",
       "       [<Axes: title={'center': 'selection rate'}, xlabel='majmin'>,\n",
       "        <Axes: title={'center': 'count'}, xlabel='majmin'>,\n",
       "        <Axes: xlabel='majmin'>]], dtype=object)"
      ]
     },
     "execution_count": 61,
     "metadata": {},
     "output_type": "execute_result"
    },
    {
     "data": {
      "image/png": "[encoded data removed]",
      "text/plain": [
       "<Figure size 1200x800 with 9 Axes>"
      ]
     },
     "metadata": {},
     "output_type": "display_data"
    }
   ],
   "source": [
    "# In a graphic\n",
    "metric_frame.by_group.plot.bar(\n",
    "    subplots=True,\n",
    "    layout=[3, 3],\n",
    "    legend=False,\n",
    "    figsize=[12, 8],\n",
    "    title=\"Show all metrics\",\n",
    ")"
   ]
  },
  {
   "cell_type": "markdown",
   "id": "b2e433ae",
   "metadata": {
    "papermill": {
     "duration": 0.042091,
     "end_time": "2025-08-19T19:11:34.717520",
     "exception": false,
     "start_time": "2025-08-19T19:11:34.675429",
     "status": "completed"
    },
    "tags": []
   },
   "source": [
    "# Final Output"
   ]
  },
  {
   "cell_type": "code",
   "execution_count": 62,
   "id": "3871301e",
   "metadata": {
    "execution": {
     "iopub.execute_input": "2025-08-19T19:11:34.774391Z",
     "iopub.status.busy": "2025-08-19T19:11:34.773551Z",
     "iopub.status.idle": "2025-08-19T19:11:34.783842Z",
     "shell.execute_reply": "2025-08-19T19:11:34.782983Z"
    },
    "papermill": {
     "duration": 0.076387,
     "end_time": "2025-08-19T19:11:34.814010",
     "exception": false,
     "start_time": "2025-08-19T19:11:34.737623",
     "status": "completed"
    },
    "tags": []
   },
   "outputs": [
    {
     "data": {
      "text/plain": [
       "4"
      ]
     },
     "execution_count": 62,
     "metadata": {},
     "output_type": "execute_result"
    }
   ],
   "source": [
    "sub_universes = universe_analysis.generate_sub_universes()\n",
    "len(sub_universes)"
   ]
  },
  {
   "cell_type": "code",
   "execution_count": 63,
   "id": "d9cfdaca",
   "metadata": {
    "execution": {
     "iopub.execute_input": "2025-08-19T19:11:34.859258Z",
     "iopub.status.busy": "2025-08-19T19:11:34.858941Z",
     "iopub.status.idle": "2025-08-19T19:11:34.864031Z",
     "shell.execute_reply": "2025-08-19T19:11:34.863339Z"
    },
    "papermill": {
     "duration": 0.027712,
     "end_time": "2025-08-19T19:11:34.865294",
     "exception": false,
     "start_time": "2025-08-19T19:11:34.837582",
     "status": "completed"
    },
    "tags": []
   },
   "outputs": [],
   "source": [
    "def filter_sub_universe_data(sub_universe, org_test):\n",
    "    # Keep all rows — no filtering\n",
    "    keep_rows_mask = np.ones(org_test.shape[0], dtype=bool)\n",
    "\n",
    "    print(f\"[INFO] Keeping all rows: {keep_rows_mask.sum()} rows retained.\")\n",
    "    return keep_rows_mask"
   ]
  },
  {
   "cell_type": "code",
   "execution_count": 64,
   "id": "2bc31ac1",
   "metadata": {
    "execution": {
     "iopub.execute_input": "2025-08-19T19:11:34.897773Z",
     "iopub.status.busy": "2025-08-19T19:11:34.897470Z",
     "iopub.status.idle": "2025-08-19T19:11:41.736573Z",
     "shell.execute_reply": "2025-08-19T19:11:41.735524Z"
    },
    "papermill": {
     "duration": 6.856958,
     "end_time": "2025-08-19T19:11:41.738008",
     "exception": false,
     "start_time": "2025-08-19T19:11:34.881050",
     "status": "completed"
    },
    "tags": []
   },
   "outputs": [
    {
     "name": "stdout",
     "output_type": "stream",
     "text": [
      "Stopping execution_time clock.\n",
      "[INFO] Keeping all rows: 89710 rows retained.\n"
     ]
    },
    {
     "name": "stdout",
     "output_type": "stream",
     "text": [
      "[INFO] Keeping all rows: 89710 rows retained.\n"
     ]
    },
    {
     "name": "stdout",
     "output_type": "stream",
     "text": [
      "[INFO] Keeping all rows: 89710 rows retained.\n"
     ]
    },
    {
     "name": "stdout",
     "output_type": "stream",
     "text": [
      "[INFO] Keeping all rows: 89710 rows retained.\n"
     ]
    },
    {
     "data": {
      "text/html": [
       "<div>\n",
       "<style scoped>\n",
       "    .dataframe tbody tr th:only-of-type {\n",
       "        vertical-align: middle;\n",
       "    }\n",
       "\n",
       "    .dataframe tbody tr th {\n",
       "        vertical-align: top;\n",
       "    }\n",
       "\n",
       "    .dataframe thead th {\n",
       "        text-align: right;\n",
       "    }\n",
       "</style>\n",
       "<table border=\"1\" class=\"dataframe\">\n",
       "  <thead>\n",
       "    <tr style=\"text-align: right;\">\n",
       "      <th></th>\n",
       "      <th>run_no</th>\n",
       "      <th>universe_id</th>\n",
       "      <th>universe_settings</th>\n",
       "      <th>execution_time</th>\n",
       "      <th>test_size_n</th>\n",
       "      <th>test_size_frac</th>\n",
       "      <th>fair_main_equalized_odds_difference</th>\n",
       "      <th>fair_main_equalized_odds_ratio</th>\n",
       "      <th>fair_main_demographic_parity_difference</th>\n",
       "      <th>fair_main_demographic_parity_ratio</th>\n",
       "      <th>...</th>\n",
       "      <th>perf_grp_precision_0</th>\n",
       "      <th>perf_grp_precision_1</th>\n",
       "      <th>perf_grp_false positive rate_0</th>\n",
       "      <th>perf_grp_false positive rate_1</th>\n",
       "      <th>perf_grp_false negative rate_0</th>\n",
       "      <th>perf_grp_false negative rate_1</th>\n",
       "      <th>perf_grp_selection rate_0</th>\n",
       "      <th>perf_grp_selection rate_1</th>\n",
       "      <th>perf_grp_count_0</th>\n",
       "      <th>perf_grp_count_1</th>\n",
       "    </tr>\n",
       "  </thead>\n",
       "  <tbody>\n",
       "    <tr>\n",
       "      <th>0</th>\n",
       "      <td>3</td>\n",
       "      <td>661e5489b880951e6c3c5bf8a49bde32</td>\n",
       "      <td>{\"cutoff\": \"quantile_0.1\", \"eval_fairness_grou...</td>\n",
       "      <td>23.162343</td>\n",
       "      <td>89710</td>\n",
       "      <td>1.0</td>\n",
       "      <td>0.068428</td>\n",
       "      <td>0.927282</td>\n",
       "      <td>0.060112</td>\n",
       "      <td>0.936480</td>\n",
       "      <td>...</td>\n",
       "      <td>NaN</td>\n",
       "      <td>NaN</td>\n",
       "      <td>NaN</td>\n",
       "      <td>NaN</td>\n",
       "      <td>NaN</td>\n",
       "      <td>NaN</td>\n",
       "      <td>NaN</td>\n",
       "      <td>NaN</td>\n",
       "      <td>NaN</td>\n",
       "      <td>NaN</td>\n",
       "    </tr>\n",
       "    <tr>\n",
       "      <th>0</th>\n",
       "      <td>3</td>\n",
       "      <td>661e5489b880951e6c3c5bf8a49bde32</td>\n",
       "      <td>{\"cutoff\": \"quantile_0.1\", \"eval_fairness_grou...</td>\n",
       "      <td>23.162343</td>\n",
       "      <td>89710</td>\n",
       "      <td>1.0</td>\n",
       "      <td>0.068428</td>\n",
       "      <td>0.927282</td>\n",
       "      <td>0.060112</td>\n",
       "      <td>0.936480</td>\n",
       "      <td>...</td>\n",
       "      <td>0.120280</td>\n",
       "      <td>0.145511</td>\n",
       "      <td>0.941008</td>\n",
       "      <td>0.872580</td>\n",
       "      <td>0.012669</td>\n",
       "      <td>0.024070</td>\n",
       "      <td>0.946349</td>\n",
       "      <td>0.886237</td>\n",
       "      <td>20540.0</td>\n",
       "      <td>69170.0</td>\n",
       "    </tr>\n",
       "    <tr>\n",
       "      <th>0</th>\n",
       "      <td>3</td>\n",
       "      <td>661e5489b880951e6c3c5bf8a49bde32</td>\n",
       "      <td>{\"cutoff\": \"quantile_0.25\", \"eval_fairness_gro...</td>\n",
       "      <td>23.162343</td>\n",
       "      <td>89710</td>\n",
       "      <td>1.0</td>\n",
       "      <td>0.150148</td>\n",
       "      <td>0.821200</td>\n",
       "      <td>0.133870</td>\n",
       "      <td>0.843099</td>\n",
       "      <td>...</td>\n",
       "      <td>NaN</td>\n",
       "      <td>NaN</td>\n",
       "      <td>NaN</td>\n",
       "      <td>NaN</td>\n",
       "      <td>NaN</td>\n",
       "      <td>NaN</td>\n",
       "      <td>NaN</td>\n",
       "      <td>NaN</td>\n",
       "      <td>NaN</td>\n",
       "      <td>NaN</td>\n",
       "    </tr>\n",
       "    <tr>\n",
       "      <th>0</th>\n",
       "      <td>3</td>\n",
       "      <td>661e5489b880951e6c3c5bf8a49bde32</td>\n",
       "      <td>{\"cutoff\": \"quantile_0.25\", \"eval_fairness_gro...</td>\n",
       "      <td>23.162343</td>\n",
       "      <td>89710</td>\n",
       "      <td>1.0</td>\n",
       "      <td>0.150148</td>\n",
       "      <td>0.821200</td>\n",
       "      <td>0.133870</td>\n",
       "      <td>0.843099</td>\n",
       "      <td>...</td>\n",
       "      <td>0.129244</td>\n",
       "      <td>0.168017</td>\n",
       "      <td>0.839753</td>\n",
       "      <td>0.689605</td>\n",
       "      <td>0.043497</td>\n",
       "      <td>0.085339</td>\n",
       "      <td>0.853213</td>\n",
       "      <td>0.719344</td>\n",
       "      <td>20540.0</td>\n",
       "      <td>69170.0</td>\n",
       "    </tr>\n",
       "  </tbody>\n",
       "</table>\n",
       "<p>4 rows × 50 columns</p>\n",
       "</div>"
      ],
      "text/plain": [
       "  run_no                       universe_id  \\\n",
       "0      3  661e5489b880951e6c3c5bf8a49bde32   \n",
       "0      3  661e5489b880951e6c3c5bf8a49bde32   \n",
       "0      3  661e5489b880951e6c3c5bf8a49bde32   \n",
       "0      3  661e5489b880951e6c3c5bf8a49bde32   \n",
       "\n",
       "                                   universe_settings  execution_time  \\\n",
       "0  {\"cutoff\": \"quantile_0.1\", \"eval_fairness_grou...       23.162343   \n",
       "0  {\"cutoff\": \"quantile_0.1\", \"eval_fairness_grou...       23.162343   \n",
       "0  {\"cutoff\": \"quantile_0.25\", \"eval_fairness_gro...       23.162343   \n",
       "0  {\"cutoff\": \"quantile_0.25\", \"eval_fairness_gro...       23.162343   \n",
       "\n",
       "   test_size_n  test_size_frac  fair_main_equalized_odds_difference  \\\n",
       "0        89710             1.0                             0.068428   \n",
       "0        89710             1.0                             0.068428   \n",
       "0        89710             1.0                             0.150148   \n",
       "0        89710             1.0                             0.150148   \n",
       "\n",
       "   fair_main_equalized_odds_ratio  fair_main_demographic_parity_difference  \\\n",
       "0                        0.927282                                 0.060112   \n",
       "0                        0.927282                                 0.060112   \n",
       "0                        0.821200                                 0.133870   \n",
       "0                        0.821200                                 0.133870   \n",
       "\n",
       "   fair_main_demographic_parity_ratio  ...  perf_grp_precision_0  \\\n",
       "0                            0.936480  ...                   NaN   \n",
       "0                            0.936480  ...              0.120280   \n",
       "0                            0.843099  ...                   NaN   \n",
       "0                            0.843099  ...              0.129244   \n",
       "\n",
       "   perf_grp_precision_1  perf_grp_false positive rate_0  \\\n",
       "0                   NaN                             NaN   \n",
       "0              0.145511                        0.941008   \n",
       "0                   NaN                             NaN   \n",
       "0              0.168017                        0.839753   \n",
       "\n",
       "   perf_grp_false positive rate_1  perf_grp_false negative rate_0  \\\n",
       "0                             NaN                             NaN   \n",
       "0                        0.872580                        0.012669   \n",
       "0                             NaN                             NaN   \n",
       "0                        0.689605                        0.043497   \n",
       "\n",
       "   perf_grp_false negative rate_1  perf_grp_selection rate_0  \\\n",
       "0                             NaN                        NaN   \n",
       "0                        0.024070                   0.946349   \n",
       "0                             NaN                        NaN   \n",
       "0                        0.085339                   0.853213   \n",
       "\n",
       "   perf_grp_selection rate_1  perf_grp_count_0  perf_grp_count_1  \n",
       "0                        NaN               NaN               NaN  \n",
       "0                   0.886237           20540.0           69170.0  \n",
       "0                        NaN               NaN               NaN  \n",
       "0                   0.719344           20540.0           69170.0  \n",
       "\n",
       "[4 rows x 50 columns]"
      ]
     },
     "execution_count": 64,
     "metadata": {},
     "output_type": "execute_result"
    }
   ],
   "source": [
    "final_output = universe_analysis.generate_final_output(\n",
    "    y_pred_prob=probs_test,\n",
    "    y_test=y_true,\n",
    "    org_test=org_test,\n",
    "    filter_data=filter_sub_universe_data,\n",
    "    cp_metrics_df=cp_metrics_df,\n",
    "    save=True,\n",
    ")\n",
    "final_output"
   ]
  },
  {
   "cell_type": "code",
   "execution_count": null,
   "id": "8b80a1ff",
   "metadata": {
    "papermill": {
     "duration": 0.015917,
     "end_time": "2025-08-19T19:11:41.784464",
     "exception": false,
     "start_time": "2025-08-19T19:11:41.768547",
     "status": "completed"
    },
    "tags": []
   },
   "outputs": [],
   "source": []
  },
  {
   "cell_type": "code",
   "execution_count": null,
   "id": "275c9fad",
   "metadata": {
    "papermill": {
     "duration": 0.01504,
     "end_time": "2025-08-19T19:11:41.814526",
     "exception": false,
     "start_time": "2025-08-19T19:11:41.799486",
     "status": "completed"
    },
    "tags": []
   },
   "outputs": [],
   "source": []
  }
 ],
 "metadata": {
  "celltoolbar": "Tags",
  "kernelspec": {
   "display_name": "Python (CMA Fairness)",
   "language": "python",
   "name": "cma_fair_env"
  },
  "language_info": {
   "codemirror_mode": {
    "name": "ipython",
    "version": 3
   },
   "file_extension": ".py",
   "mimetype": "text/x-python",
   "name": "python",
   "nbconvert_exporter": "python",
   "pygments_lexer": "ipython3",
   "version": "3.10.12"
  },
  "papermill": {
   "default_parameters": {},
   "duration": 33.916576,
   "end_time": "2025-08-19T19:11:42.751635",
   "environment_variables": {},
   "exception": null,
   "input_path": "universe_analysis.ipynb",
   "output_path": "output/runs/3/notebooks/m_3-661e5489b880951e6c3c5bf8a49bde32.ipynb",
   "parameters": {
    "output_dir": "output",
    "run_no": "3",
    "seed": "2023",
    "universe": "{\"cutoff\": [\"quantile_0.1\", \"quantile_0.25\"], \"eval_fairness_grouping\": [\"majority-minority\", \"nationality-all\"], \"exclude_features\": \"nationality\", \"exclude_subgroups\": \"drop-non-german\", \"model\": \"gbm\", \"scale\": \"do-not-scale\", \"training_size\": \"1k\", \"training_year\": \"2010_14\"}",
    "universe_id": "661e5489b880951e6c3c5bf8a49bde32"
   },
   "start_time": "2025-08-19T19:11:08.835059",
   "version": "2.6.0"
  }
 },
 "nbformat": 4,
 "nbformat_minor": 5
}