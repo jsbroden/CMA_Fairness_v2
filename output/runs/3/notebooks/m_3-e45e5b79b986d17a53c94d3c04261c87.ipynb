{
 "cells": [
  {
   "cell_type": "code",
   "execution_count": 1,
   "id": "f159f837-637b-42ba-96b5-ec9a68c44524",
   "metadata": {
    "execution": {
     "iopub.execute_input": "2025-07-22T09:13:53.774104Z",
     "iopub.status.busy": "2025-07-22T09:13:53.773472Z",
     "iopub.status.idle": "2025-07-22T09:13:53.786216Z",
     "shell.execute_reply": "2025-07-22T09:13:53.785319Z"
    },
    "papermill": {
     "duration": 0.03358,
     "end_time": "2025-07-22T09:13:53.787955",
     "exception": false,
     "start_time": "2025-07-22T09:13:53.754375",
     "status": "completed"
    },
    "tags": []
   },
   "outputs": [
    {
     "name": "stdout",
     "output_type": "stream",
     "text": [
      "/dss/dsshome1/0C/ra93lal2/cma/CMA_Fairness_v2\n"
     ]
    },
    {
     "name": "stderr",
     "output_type": "stream",
     "text": [
      "/dss/dsshome1/0C/ra93lal2/.local/share/virtualenvs/CMA_Fairness_v2-3j10GkSs/lib/python3.10/site-packages/IPython/core/magics/osm.py:393: UserWarning: This is now an optional IPython functionality, using bookmarks requires you to install the `pickleshare` library.\n",
      "  bkms = self.shell.db.get('bookmarks', {})\n",
      "/dss/dsshome1/0C/ra93lal2/.local/share/virtualenvs/CMA_Fairness_v2-3j10GkSs/lib/python3.10/site-packages/IPython/core/magics/osm.py:417: UserWarning: This is now an optional IPython functionality, setting dhist requires you to install the `pickleshare` library.\n",
      "  self.shell.db['dhist'] = compress_dhist(dhist)[-100:]\n"
     ]
    }
   ],
   "source": [
    "%cd ~/cma/CMA_Fairness_v2"
   ]
  },
  {
   "cell_type": "markdown",
   "id": "de2603b9",
   "metadata": {
    "papermill": {
     "duration": 0.014887,
     "end_time": "2025-07-22T09:13:53.818229",
     "exception": false,
     "start_time": "2025-07-22T09:13:53.803342",
     "status": "completed"
    },
    "tags": []
   },
   "source": [
    "The following cell holds the definition of our parameters, these values can be overriden by rendering the with e.g. the following command:\n",
    "\n",
    "papermill -p alpha 0.2 -p ratio 0.3 universe_analysis.ipynb output/test_run.ipynb"
   ]
  },
  {
   "cell_type": "code",
   "execution_count": 2,
   "id": "a80968a0-40bb-4fa9-85ef-2d5eefb01975",
   "metadata": {
    "execution": {
     "iopub.execute_input": "2025-07-22T09:13:53.848161Z",
     "iopub.status.busy": "2025-07-22T09:13:53.847524Z",
     "iopub.status.idle": "2025-07-22T09:13:53.852918Z",
     "shell.execute_reply": "2025-07-22T09:13:53.851970Z"
    },
    "papermill": {
     "duration": 0.022239,
     "end_time": "2025-07-22T09:13:53.854589",
     "exception": false,
     "start_time": "2025-07-22T09:13:53.832350",
     "status": "completed"
    },
    "tags": []
   },
   "outputs": [
    {
     "name": "stdout",
     "output_type": "stream",
     "text": [
      "Current working directory: /dss/dsshome1/0C/ra93lal2/cma/CMA_Fairness_v2\n"
     ]
    }
   ],
   "source": [
    "import os\n",
    "print(\"Current working directory:\", os.getcwd())"
   ]
  },
  {
   "cell_type": "code",
   "execution_count": 3,
   "id": "2dce4c03",
   "metadata": {
    "execution": {
     "iopub.execute_input": "2025-07-22T09:13:53.885458Z",
     "iopub.status.busy": "2025-07-22T09:13:53.884873Z",
     "iopub.status.idle": "2025-07-22T09:13:53.890440Z",
     "shell.execute_reply": "2025-07-22T09:13:53.889548Z"
    },
    "papermill": {
     "duration": 0.022154,
     "end_time": "2025-07-22T09:13:53.891964",
     "exception": false,
     "start_time": "2025-07-22T09:13:53.869810",
     "status": "completed"
    },
    "tags": [
     "parameters"
    ]
   },
   "outputs": [],
   "source": [
    "run_no = 0\n",
    "universe_id = \"test\"\n",
    "universe = {\n",
    "    #\"scale\": \"scale\", # \"scale\", \"do-not-scale\",\n",
    "    #\"encode_categorical\": \"one-hot\", # \"ordinal\", \"one-hot\"\n",
    "    \"model\": \"elasticnet\", # \"logreg\", \"penalized_logreg\", \"rf\", \"gbm\", \"elasticnet\"\n",
    "    \"cutoff\": [\"quantile_0.15\", \"quantile_0.30\"],\n",
    "    \"exclude_features\": \"nationality-sex\", # \"none\", \"nationality\", \"sex\", \"nationality-sex\"\n",
    "    \"exclude_subgroups\": \"keep-all\", # \"keep-all\", \"drop-non-german\"\n",
    "    \"eval_fairness_grouping\": [\"majority-minority\", \"nationality-all\"]\n",
    "}\n",
    "\n",
    "output_dir=\"./output\"\n",
    "seed=0"
   ]
  },
  {
   "cell_type": "code",
   "execution_count": 4,
   "id": "6e354e8a",
   "metadata": {
    "execution": {
     "iopub.execute_input": "2025-07-22T09:13:53.923084Z",
     "iopub.status.busy": "2025-07-22T09:13:53.922365Z",
     "iopub.status.idle": "2025-07-22T09:13:53.927300Z",
     "shell.execute_reply": "2025-07-22T09:13:53.926487Z"
    },
    "papermill": {
     "duration": 0.021763,
     "end_time": "2025-07-22T09:13:53.928980",
     "exception": false,
     "start_time": "2025-07-22T09:13:53.907217",
     "status": "completed"
    },
    "tags": [
     "injected-parameters"
    ]
   },
   "outputs": [],
   "source": [
    "# Parameters\n",
    "universe_id = \"e45e5b79b986d17a53c94d3c04261c87\"\n",
    "run_no = \"3\"\n",
    "universe = \"{\\\"cutoff\\\": [\\\"quantile_0.1\\\", \\\"quantile_0.25\\\"], \\\"eval_fairness_grouping\\\": [\\\"majority-minority\\\", \\\"nationality-all\\\"], \\\"exclude_features\\\": \\\"sex\\\", \\\"exclude_subgroups\\\": \\\"drop-non-german\\\", \\\"model\\\": \\\"rf\\\", \\\"scale\\\": \\\"scale\\\"}\"\n",
    "output_dir = \"output\"\n",
    "seed = \"2023\"\n"
   ]
  },
  {
   "cell_type": "code",
   "execution_count": 5,
   "id": "1650acaf",
   "metadata": {
    "execution": {
     "iopub.execute_input": "2025-07-22T09:13:53.959907Z",
     "iopub.status.busy": "2025-07-22T09:13:53.959261Z",
     "iopub.status.idle": "2025-07-22T09:13:53.963828Z",
     "shell.execute_reply": "2025-07-22T09:13:53.962949Z"
    },
    "papermill": {
     "duration": 0.021657,
     "end_time": "2025-07-22T09:13:53.965528",
     "exception": false,
     "start_time": "2025-07-22T09:13:53.943871",
     "status": "completed"
    },
    "tags": []
   },
   "outputs": [],
   "source": [
    "import json\n",
    "# Parse universe into dict if it is passed as a string\n",
    "if isinstance(universe, str):\n",
    "    universe = json.loads(universe)"
   ]
  },
  {
   "cell_type": "code",
   "execution_count": 6,
   "id": "16620c48",
   "metadata": {
    "execution": {
     "iopub.execute_input": "2025-07-22T09:13:53.996438Z",
     "iopub.status.busy": "2025-07-22T09:13:53.995992Z",
     "iopub.status.idle": "2025-07-22T09:13:54.038549Z",
     "shell.execute_reply": "2025-07-22T09:13:54.037703Z"
    },
    "papermill": {
     "duration": 0.059708,
     "end_time": "2025-07-22T09:13:54.040367",
     "exception": false,
     "start_time": "2025-07-22T09:13:53.980659",
     "status": "completed"
    },
    "tags": []
   },
   "outputs": [],
   "source": [
    "# Auto-reload the custom package\n",
    "%load_ext autoreload\n",
    "%autoreload 1\n",
    "%aimport fairness_multiverse"
   ]
  },
  {
   "cell_type": "code",
   "execution_count": 7,
   "id": "01c5c9f3",
   "metadata": {
    "execution": {
     "iopub.execute_input": "2025-07-22T09:13:54.073032Z",
     "iopub.status.busy": "2025-07-22T09:13:54.072366Z",
     "iopub.status.idle": "2025-07-22T09:13:55.596660Z",
     "shell.execute_reply": "2025-07-22T09:13:55.595789Z"
    },
    "papermill": {
     "duration": 1.542416,
     "end_time": "2025-07-22T09:13:55.598251",
     "exception": false,
     "start_time": "2025-07-22T09:13:54.055835",
     "status": "completed"
    },
    "tags": []
   },
   "outputs": [],
   "source": [
    "from fairness_multiverse.universe import UniverseAnalysis\n",
    "\n",
    "universe_analysis = UniverseAnalysis(\n",
    "    run_no = run_no,\n",
    "    universe_id = universe_id,\n",
    "    universe = universe,\n",
    "    output_dir=output_dir,\n",
    ")"
   ]
  },
  {
   "cell_type": "code",
   "execution_count": 8,
   "id": "106241f5",
   "metadata": {
    "execution": {
     "iopub.execute_input": "2025-07-22T09:13:55.616514Z",
     "iopub.status.busy": "2025-07-22T09:13:55.616198Z",
     "iopub.status.idle": "2025-07-22T09:13:55.622075Z",
     "shell.execute_reply": "2025-07-22T09:13:55.621023Z"
    },
    "papermill": {
     "duration": 0.016777,
     "end_time": "2025-07-22T09:13:55.623835",
     "exception": false,
     "start_time": "2025-07-22T09:13:55.607058",
     "status": "completed"
    },
    "tags": []
   },
   "outputs": [
    {
     "name": "stdout",
     "output_type": "stream",
     "text": [
      "Using Seed: 2023\n"
     ]
    }
   ],
   "source": [
    "import numpy as np\n",
    "parsed_seed = int(seed)\n",
    "np.random.seed(parsed_seed)\n",
    "print(f\"Using Seed: {parsed_seed}\")"
   ]
  },
  {
   "cell_type": "markdown",
   "id": "e0ebdc57",
   "metadata": {
    "papermill": {
     "duration": 0.008546,
     "end_time": "2025-07-22T09:13:55.641626",
     "exception": false,
     "start_time": "2025-07-22T09:13:55.633080",
     "status": "completed"
    },
    "tags": []
   },
   "source": [
    "# Loading Data"
   ]
  },
  {
   "cell_type": "markdown",
   "id": "681925a3",
   "metadata": {
    "papermill": {
     "duration": 0.008912,
     "end_time": "2025-07-22T09:13:55.658908",
     "exception": false,
     "start_time": "2025-07-22T09:13:55.649996",
     "status": "completed"
    },
    "tags": []
   },
   "source": [
    "Load siab_train, siab_test, siab_calib and/or \n",
    "load siab_train_features, siab_train_labels"
   ]
  },
  {
   "cell_type": "code",
   "execution_count": 9,
   "id": "f0496b8a",
   "metadata": {
    "execution": {
     "iopub.execute_input": "2025-07-22T09:13:55.692913Z",
     "iopub.status.busy": "2025-07-22T09:13:55.692119Z",
     "iopub.status.idle": "2025-07-22T09:13:55.699522Z",
     "shell.execute_reply": "2025-07-22T09:13:55.698484Z"
    },
    "papermill": {
     "duration": 0.026543,
     "end_time": "2025-07-22T09:13:55.701372",
     "exception": false,
     "start_time": "2025-07-22T09:13:55.674829",
     "status": "completed"
    },
    "tags": []
   },
   "outputs": [],
   "source": [
    "# Do I need to load siab? Delete this cell?\n",
    "\n",
    "#from pathlib import Path\n",
    "#import pandas as pd\n",
    "#\n",
    "## File paths\n",
    "#raw_file = Path(\"data/raw/siab.csv\")\n",
    "#cache_file = Path(\"data/siab_cached.csv.gz\")\n",
    "#\n",
    "## Ensure cache directory exists\n",
    "#cache_file.parent.mkdir(parents=True, exist_ok=True)\n",
    "#\n",
    "## Load with simple caching\n",
    "#if cache_file.exists():\n",
    "#    print(f\"Loading SIAB data from cache: {cache_file}\")\n",
    "#    siab = pd.read_csv(cache_file, compression='gzip')\n",
    "#else:\n",
    "#    print(f\"Cache not found. Reading raw SIAB data: {raw_file}\")\n",
    "#    siab = pd.read_csv(raw_file)\n",
    "#    siab.to_csv(cache_file, index=False, compression='gzip')\n",
    "#    print(f\"Cached SIAB data to: {cache_file}\")\n",
    "#\n",
    "## Now use `siab` DataFrame as needed\n",
    "#print(siab.shape)\n"
   ]
  },
  {
   "cell_type": "code",
   "execution_count": 10,
   "id": "a0edb063",
   "metadata": {
    "execution": {
     "iopub.execute_input": "2025-07-22T09:13:55.737585Z",
     "iopub.status.busy": "2025-07-22T09:13:55.737106Z",
     "iopub.status.idle": "2025-07-22T09:13:56.117512Z",
     "shell.execute_reply": "2025-07-22T09:13:56.116680Z"
    },
    "papermill": {
     "duration": 0.400391,
     "end_time": "2025-07-22T09:13:56.119253",
     "exception": false,
     "start_time": "2025-07-22T09:13:55.718862",
     "status": "completed"
    },
    "tags": []
   },
   "outputs": [],
   "source": [
    "import pandas as pd\n",
    "\n",
    "X_train = pd.read_csv(\"./data/X_train.csv\")\n",
    "y_train = pd.read_csv(\"./data/y_train.csv\")"
   ]
  },
  {
   "cell_type": "code",
   "execution_count": 11,
   "id": "63d08085",
   "metadata": {
    "execution": {
     "iopub.execute_input": "2025-07-22T09:13:56.151315Z",
     "iopub.status.busy": "2025-07-22T09:13:56.150818Z",
     "iopub.status.idle": "2025-07-22T09:13:57.469710Z",
     "shell.execute_reply": "2025-07-22T09:13:57.468776Z"
    },
    "papermill": {
     "duration": 1.336184,
     "end_time": "2025-07-22T09:13:57.471602",
     "exception": false,
     "start_time": "2025-07-22T09:13:56.135418",
     "status": "completed"
    },
    "tags": []
   },
   "outputs": [],
   "source": [
    "X_test = pd.read_csv(\"./data/X_test.csv\")\n",
    "y_true = pd.read_csv(\"./data/y_test.csv\")"
   ]
  },
  {
   "cell_type": "code",
   "execution_count": 12,
   "id": "98a8d0fa-1d3d-4ed8-bb2c-281470e24add",
   "metadata": {
    "execution": {
     "iopub.execute_input": "2025-07-22T09:13:57.505432Z",
     "iopub.status.busy": "2025-07-22T09:13:57.504907Z",
     "iopub.status.idle": "2025-07-22T09:13:58.747809Z",
     "shell.execute_reply": "2025-07-22T09:13:58.746864Z"
    },
    "papermill": {
     "duration": 1.261935,
     "end_time": "2025-07-22T09:13:58.749658",
     "exception": false,
     "start_time": "2025-07-22T09:13:57.487723",
     "status": "completed"
    },
    "tags": []
   },
   "outputs": [],
   "source": [
    "# Calibration data for conformal\n",
    "X_calib = pd.read_csv(\"./data/X_calib.csv\")\n",
    "y_calib = pd.read_csv(\"./data/y_calib.csv\")"
   ]
  },
  {
   "cell_type": "code",
   "execution_count": 13,
   "id": "e6c733c5",
   "metadata": {
    "execution": {
     "iopub.execute_input": "2025-07-22T09:13:58.786206Z",
     "iopub.status.busy": "2025-07-22T09:13:58.785320Z",
     "iopub.status.idle": "2025-07-22T09:13:58.900263Z",
     "shell.execute_reply": "2025-07-22T09:13:58.899313Z"
    },
    "papermill": {
     "duration": 0.134499,
     "end_time": "2025-07-22T09:13:58.902334",
     "exception": false,
     "start_time": "2025-07-22T09:13:58.767835",
     "status": "completed"
    },
    "tags": []
   },
   "outputs": [],
   "source": [
    "# Auxiliary data needed downstream in the pipeline\n",
    "\n",
    "org_train = X_train.copy()\n",
    "org_test = X_test.copy()\n",
    "org_calib = X_calib.copy()"
   ]
  },
  {
   "cell_type": "markdown",
   "id": "0a4a1b33",
   "metadata": {
    "papermill": {
     "duration": 0.016615,
     "end_time": "2025-07-22T09:13:58.937564",
     "exception": false,
     "start_time": "2025-07-22T09:13:58.920949",
     "status": "completed"
    },
    "tags": []
   },
   "source": [
    "# Preprocessing Data"
   ]
  },
  {
   "cell_type": "code",
   "execution_count": 14,
   "id": "ca879031",
   "metadata": {
    "execution": {
     "iopub.execute_input": "2025-07-22T09:13:58.971662Z",
     "iopub.status.busy": "2025-07-22T09:13:58.970981Z",
     "iopub.status.idle": "2025-07-22T09:13:58.977195Z",
     "shell.execute_reply": "2025-07-22T09:13:58.976045Z"
    },
    "papermill": {
     "duration": 0.024941,
     "end_time": "2025-07-22T09:13:58.978848",
     "exception": false,
     "start_time": "2025-07-22T09:13:58.953907",
     "status": "completed"
    },
    "tags": []
   },
   "outputs": [],
   "source": [
    "# EXCLUDE PROTECTED FEATURES\n",
    "# ----------------------\n",
    "# \"exclude_features\": \"none\", # \"nationality\", \"sex\", \"nationality-sex\"\n",
    "\n",
    "excluded_features = universe[\"exclude_features\"].split(\"-\") # split, e.g.: \"nationality-sex\" -> [\"nationality\", \"sex\"]\n",
    "excluded_features_dictionary = {\n",
    "    \"nationality\": [\"maxdeutsch1\", \"maxdeutsch.Missing.\"],\n",
    "    \"sex\": [\"frau1\"],\n",
    "}\n"
   ]
  },
  {
   "cell_type": "code",
   "execution_count": 15,
   "id": "b745ac60",
   "metadata": {
    "execution": {
     "iopub.execute_input": "2025-07-22T09:13:59.017903Z",
     "iopub.status.busy": "2025-07-22T09:13:59.017244Z",
     "iopub.status.idle": "2025-07-22T09:13:59.022957Z",
     "shell.execute_reply": "2025-07-22T09:13:59.021977Z"
    },
    "papermill": {
     "duration": 0.02745,
     "end_time": "2025-07-22T09:13:59.024624",
     "exception": false,
     "start_time": "2025-07-22T09:13:58.997174",
     "status": "completed"
    },
    "tags": []
   },
   "outputs": [],
   "source": [
    "# Code nice names to column names\n",
    "\n",
    "excluded_features_columns = [\n",
    "    excluded_features_dictionary[f] for f in excluded_features if len(f) > 0 and f != \"none\"\n",
    "]"
   ]
  },
  {
   "cell_type": "code",
   "execution_count": 16,
   "id": "f84f73a2",
   "metadata": {
    "execution": {
     "iopub.execute_input": "2025-07-22T09:13:59.061439Z",
     "iopub.status.busy": "2025-07-22T09:13:59.060653Z",
     "iopub.status.idle": "2025-07-22T09:13:59.067385Z",
     "shell.execute_reply": "2025-07-22T09:13:59.066364Z"
    },
    "papermill": {
     "duration": 0.027693,
     "end_time": "2025-07-22T09:13:59.069027",
     "exception": false,
     "start_time": "2025-07-22T09:13:59.041334",
     "status": "completed"
    },
    "tags": []
   },
   "outputs": [],
   "source": [
    "from utils import flatten_once\n",
    "\n",
    "excluded_features_columns = flatten_once(excluded_features_columns)"
   ]
  },
  {
   "cell_type": "code",
   "execution_count": 17,
   "id": "884dea22",
   "metadata": {
    "execution": {
     "iopub.execute_input": "2025-07-22T09:13:59.107046Z",
     "iopub.status.busy": "2025-07-22T09:13:59.106017Z",
     "iopub.status.idle": "2025-07-22T09:13:59.122110Z",
     "shell.execute_reply": "2025-07-22T09:13:59.120976Z"
    },
    "papermill": {
     "duration": 0.037581,
     "end_time": "2025-07-22T09:13:59.123938",
     "exception": false,
     "start_time": "2025-07-22T09:13:59.086357",
     "status": "completed"
    },
    "tags": []
   },
   "outputs": [
    {
     "name": "stdout",
     "output_type": "stream",
     "text": [
      "Dropping features: ['frau1']\n"
     ]
    }
   ],
   "source": [
    "if len(excluded_features_columns) > 0:\n",
    "    print(f\"Dropping features: {excluded_features_columns}\")\n",
    "    X_train.drop(excluded_features_columns, axis=1, inplace=True)"
   ]
  },
  {
   "cell_type": "code",
   "execution_count": 18,
   "id": "95ab8b16",
   "metadata": {
    "execution": {
     "iopub.execute_input": "2025-07-22T09:13:59.159685Z",
     "iopub.status.busy": "2025-07-22T09:13:59.159023Z",
     "iopub.status.idle": "2025-07-22T09:13:59.216042Z",
     "shell.execute_reply": "2025-07-22T09:13:59.215008Z"
    },
    "papermill": {
     "duration": 0.076496,
     "end_time": "2025-07-22T09:13:59.217960",
     "exception": false,
     "start_time": "2025-07-22T09:13:59.141464",
     "status": "completed"
    },
    "tags": []
   },
   "outputs": [
    {
     "name": "stdout",
     "output_type": "stream",
     "text": [
      "Dropping features: ['frau1']\n"
     ]
    }
   ],
   "source": [
    "if len(excluded_features_columns) > 0:\n",
    "    print(f\"Dropping features: {excluded_features_columns}\")\n",
    "    X_test.drop(excluded_features_columns, axis=1, inplace=True)"
   ]
  },
  {
   "cell_type": "code",
   "execution_count": 19,
   "id": "1853aaf5-fb9f-46cb-a2b5-8ea4ae2237e4",
   "metadata": {
    "execution": {
     "iopub.execute_input": "2025-07-22T09:13:59.253140Z",
     "iopub.status.busy": "2025-07-22T09:13:59.252432Z",
     "iopub.status.idle": "2025-07-22T09:13:59.305448Z",
     "shell.execute_reply": "2025-07-22T09:13:59.304521Z"
    },
    "papermill": {
     "duration": 0.071596,
     "end_time": "2025-07-22T09:13:59.306760",
     "exception": false,
     "start_time": "2025-07-22T09:13:59.235164",
     "status": "completed"
    },
    "tags": []
   },
   "outputs": [
    {
     "name": "stdout",
     "output_type": "stream",
     "text": [
      "Dropping features: ['frau1']\n"
     ]
    }
   ],
   "source": [
    "if len(excluded_features_columns) > 0:\n",
    "    print(f\"Dropping features: {excluded_features_columns}\")\n",
    "    X_calib.drop(excluded_features_columns, axis=1, inplace=True)"
   ]
  },
  {
   "cell_type": "code",
   "execution_count": 20,
   "id": "76c4dc6d",
   "metadata": {
    "execution": {
     "iopub.execute_input": "2025-07-22T09:13:59.326449Z",
     "iopub.status.busy": "2025-07-22T09:13:59.326104Z",
     "iopub.status.idle": "2025-07-22T09:13:59.331070Z",
     "shell.execute_reply": "2025-07-22T09:13:59.330368Z"
    },
    "papermill": {
     "duration": 0.015909,
     "end_time": "2025-07-22T09:13:59.332541",
     "exception": false,
     "start_time": "2025-07-22T09:13:59.316632",
     "status": "completed"
    },
    "tags": []
   },
   "outputs": [],
   "source": [
    "# EXCLUDE CERTAIN SUBGROUPS\n",
    "# ----------------------\n",
    "\n",
    "mode = universe.get(\"exclude_subgroups\", \"keep-all\") \n",
    "# Fetches the exclude_subgroups setting from the universe dict.\n",
    "# Defaults to \"keep-all\" if the key is missing."
   ]
  },
  {
   "cell_type": "code",
   "execution_count": 21,
   "id": "21994072",
   "metadata": {
    "execution": {
     "iopub.execute_input": "2025-07-22T09:13:59.367776Z",
     "iopub.status.busy": "2025-07-22T09:13:59.367156Z",
     "iopub.status.idle": "2025-07-22T09:13:59.374579Z",
     "shell.execute_reply": "2025-07-22T09:13:59.373613Z"
    },
    "papermill": {
     "duration": 0.027487,
     "end_time": "2025-07-22T09:13:59.376123",
     "exception": false,
     "start_time": "2025-07-22T09:13:59.348636",
     "status": "completed"
    },
    "tags": []
   },
   "outputs": [],
   "source": [
    "if mode == \"keep-all\":\n",
    "    keep_mask = pd.Series(True, index=org_train.index)\n",
    "\n",
    "# org_train contains the original feature columns from features_org (in Simson)\n",
    "# features_org contains unprocessed features, for me X_train at beginning ???\n",
    "# For keep-all, creates a boolean Series (keep_mask) of all True, so no rows are removed.\n",
    "\n",
    "elif mode == \"drop-non-german\":\n",
    "    keep_mask = org_train[\"maxdeutsch1\"] == 1 # ??? what about missing values?\n",
    "\n",
    "else:\n",
    "    raise ValueError(f\"Unsupported mode for exclude_subgroups: {mode}\")\n"
   ]
  },
  {
   "cell_type": "code",
   "execution_count": 22,
   "id": "71651440",
   "metadata": {
    "execution": {
     "iopub.execute_input": "2025-07-22T09:13:59.411447Z",
     "iopub.status.busy": "2025-07-22T09:13:59.411020Z",
     "iopub.status.idle": "2025-07-22T09:13:59.418731Z",
     "shell.execute_reply": "2025-07-22T09:13:59.417629Z"
    },
    "papermill": {
     "duration": 0.027282,
     "end_time": "2025-07-22T09:13:59.420686",
     "exception": false,
     "start_time": "2025-07-22T09:13:59.393404",
     "status": "completed"
    },
    "tags": []
   },
   "outputs": [
    {
     "name": "stdout",
     "output_type": "stream",
     "text": [
      "Dropping 3312 rows (13.25%) where mode='drop-non-german'\n"
     ]
    }
   ],
   "source": [
    "n_drop = (~keep_mask).sum() # Calculates how many rows are set to be dropped\n",
    "if n_drop > 0:\n",
    "    pct = n_drop / len(keep_mask) * 100\n",
    "    print(f\"Dropping {n_drop} rows ({pct:.2f}%) where mode='{mode}'\")"
   ]
  },
  {
   "cell_type": "code",
   "execution_count": 23,
   "id": "5fb8eee5",
   "metadata": {
    "execution": {
     "iopub.execute_input": "2025-07-22T09:13:59.461852Z",
     "iopub.status.busy": "2025-07-22T09:13:59.461049Z",
     "iopub.status.idle": "2025-07-22T09:13:59.484355Z",
     "shell.execute_reply": "2025-07-22T09:13:59.483401Z"
    },
    "papermill": {
     "duration": 0.045676,
     "end_time": "2025-07-22T09:13:59.486439",
     "exception": false,
     "start_time": "2025-07-22T09:13:59.440763",
     "status": "completed"
    },
    "tags": []
   },
   "outputs": [],
   "source": [
    "X_train = X_train[keep_mask]"
   ]
  },
  {
   "cell_type": "code",
   "execution_count": 24,
   "id": "b202bb3a",
   "metadata": {
    "execution": {
     "iopub.execute_input": "2025-07-22T09:13:59.526335Z",
     "iopub.status.busy": "2025-07-22T09:13:59.525640Z",
     "iopub.status.idle": "2025-07-22T09:13:59.532547Z",
     "shell.execute_reply": "2025-07-22T09:13:59.531561Z"
    },
    "papermill": {
     "duration": 0.029088,
     "end_time": "2025-07-22T09:13:59.534689",
     "exception": false,
     "start_time": "2025-07-22T09:13:59.505601",
     "status": "completed"
    },
    "tags": []
   },
   "outputs": [],
   "source": [
    "y_train = y_train[keep_mask]"
   ]
  },
  {
   "cell_type": "markdown",
   "id": "493e2ac3",
   "metadata": {
    "papermill": {
     "duration": 0.018649,
     "end_time": "2025-07-22T09:13:59.572823",
     "exception": false,
     "start_time": "2025-07-22T09:13:59.554174",
     "status": "completed"
    },
    "tags": []
   },
   "source": [
    "# Model Training"
   ]
  },
  {
   "cell_type": "code",
   "execution_count": 25,
   "id": "679e1268",
   "metadata": {
    "execution": {
     "iopub.execute_input": "2025-07-22T09:13:59.611117Z",
     "iopub.status.busy": "2025-07-22T09:13:59.610559Z",
     "iopub.status.idle": "2025-07-22T09:13:59.720378Z",
     "shell.execute_reply": "2025-07-22T09:13:59.719401Z"
    },
    "papermill": {
     "duration": 0.130744,
     "end_time": "2025-07-22T09:13:59.722376",
     "exception": false,
     "start_time": "2025-07-22T09:13:59.591632",
     "status": "completed"
    },
    "tags": []
   },
   "outputs": [],
   "source": [
    "from sklearn.linear_model import LogisticRegression\n",
    "from sklearn.ensemble import GradientBoostingClassifier, RandomForestClassifier\n",
    "\n",
    "if (universe[\"model\"] == \"logreg\"):\n",
    "    model = LogisticRegression() #penalty=\"none\") #, solver=\"newton-cg\", max_iter=1) # include random_state=19 ?\n",
    "elif (universe[\"model\"] == \"penalized_logreg\"):\n",
    "    model = LogisticRegression(penalty=\"l2\", C=1.0) #, solver=\"newton-cg\", max_iter=1)\n",
    "elif (universe[\"model\"] == \"rf\"):\n",
    "    model = RandomForestClassifier(n_estimators=100, n_jobs=-1)\n",
    "elif (universe[\"model\"] == \"gbm\"):\n",
    "    model = GradientBoostingClassifier()\n",
    "elif (universe[\"model\"] == \"elasticnet\"):\n",
    "    model = LogisticRegression(penalty = 'elasticnet', solver = 'saga', l1_ratio = 0.5, max_iter=5000) # which solver to use?\n",
    "else:\n",
    "    raise \"Unsupported universe.model\""
   ]
  },
  {
   "cell_type": "code",
   "execution_count": 26,
   "id": "0cc8f744",
   "metadata": {
    "execution": {
     "iopub.execute_input": "2025-07-22T09:13:59.760788Z",
     "iopub.status.busy": "2025-07-22T09:13:59.759864Z",
     "iopub.status.idle": "2025-07-22T09:13:59.765565Z",
     "shell.execute_reply": "2025-07-22T09:13:59.764800Z"
    },
    "papermill": {
     "duration": 0.026799,
     "end_time": "2025-07-22T09:13:59.766947",
     "exception": false,
     "start_time": "2025-07-22T09:13:59.740148",
     "status": "completed"
    },
    "tags": []
   },
   "outputs": [],
   "source": [
    "import numpy as np\n",
    "from sklearn.pipeline import Pipeline\n",
    "from sklearn.preprocessing import StandardScaler\n",
    "\n",
    "model = Pipeline([\n",
    "    #(\"continuous_processor\", continuous_processor),\n",
    "    #(\"categorical_preprocessor\", categorical_preprocessor),\n",
    "    (\"scale\", StandardScaler() if universe[\"scale\"] == \"scale\" else None),\n",
    "    (\"model\", model),\n",
    "])"
   ]
  },
  {
   "cell_type": "code",
   "execution_count": 27,
   "id": "9442c04d",
   "metadata": {
    "execution": {
     "iopub.execute_input": "2025-07-22T09:13:59.788990Z",
     "iopub.status.busy": "2025-07-22T09:13:59.788471Z",
     "iopub.status.idle": "2025-07-22T09:14:02.609214Z",
     "shell.execute_reply": "2025-07-22T09:14:02.604645Z"
    },
    "papermill": {
     "duration": 2.844091,
     "end_time": "2025-07-22T09:14:02.621773",
     "exception": false,
     "start_time": "2025-07-22T09:13:59.777682",
     "status": "completed"
    },
    "tags": []
   },
   "outputs": [
    {
     "data": {
      "text/html": [
       "<style>#sk-container-id-1 {color: black;background-color: white;}#sk-container-id-1 pre{padding: 0;}#sk-container-id-1 div.sk-toggleable {background-color: white;}#sk-container-id-1 label.sk-toggleable__label {cursor: pointer;display: block;width: 100%;margin-bottom: 0;padding: 0.3em;box-sizing: border-box;text-align: center;}#sk-container-id-1 label.sk-toggleable__label-arrow:before {content: \"▸\";float: left;margin-right: 0.25em;color: #696969;}#sk-container-id-1 label.sk-toggleable__label-arrow:hover:before {color: black;}#sk-container-id-1 div.sk-estimator:hover label.sk-toggleable__label-arrow:before {color: black;}#sk-container-id-1 div.sk-toggleable__content {max-height: 0;max-width: 0;overflow: hidden;text-align: left;background-color: #f0f8ff;}#sk-container-id-1 div.sk-toggleable__content pre {margin: 0.2em;color: black;border-radius: 0.25em;background-color: #f0f8ff;}#sk-container-id-1 input.sk-toggleable__control:checked~div.sk-toggleable__content {max-height: 200px;max-width: 100%;overflow: auto;}#sk-container-id-1 input.sk-toggleable__control:checked~label.sk-toggleable__label-arrow:before {content: \"▾\";}#sk-container-id-1 div.sk-estimator input.sk-toggleable__control:checked~label.sk-toggleable__label {background-color: #d4ebff;}#sk-container-id-1 div.sk-label input.sk-toggleable__control:checked~label.sk-toggleable__label {background-color: #d4ebff;}#sk-container-id-1 input.sk-hidden--visually {border: 0;clip: rect(1px 1px 1px 1px);clip: rect(1px, 1px, 1px, 1px);height: 1px;margin: -1px;overflow: hidden;padding: 0;position: absolute;width: 1px;}#sk-container-id-1 div.sk-estimator {font-family: monospace;background-color: #f0f8ff;border: 1px dotted black;border-radius: 0.25em;box-sizing: border-box;margin-bottom: 0.5em;}#sk-container-id-1 div.sk-estimator:hover {background-color: #d4ebff;}#sk-container-id-1 div.sk-parallel-item::after {content: \"\";width: 100%;border-bottom: 1px solid gray;flex-grow: 1;}#sk-container-id-1 div.sk-label:hover label.sk-toggleable__label {background-color: #d4ebff;}#sk-container-id-1 div.sk-serial::before {content: \"\";position: absolute;border-left: 1px solid gray;box-sizing: border-box;top: 0;bottom: 0;left: 50%;z-index: 0;}#sk-container-id-1 div.sk-serial {display: flex;flex-direction: column;align-items: center;background-color: white;padding-right: 0.2em;padding-left: 0.2em;position: relative;}#sk-container-id-1 div.sk-item {position: relative;z-index: 1;}#sk-container-id-1 div.sk-parallel {display: flex;align-items: stretch;justify-content: center;background-color: white;position: relative;}#sk-container-id-1 div.sk-item::before, #sk-container-id-1 div.sk-parallel-item::before {content: \"\";position: absolute;border-left: 1px solid gray;box-sizing: border-box;top: 0;bottom: 0;left: 50%;z-index: -1;}#sk-container-id-1 div.sk-parallel-item {display: flex;flex-direction: column;z-index: 1;position: relative;background-color: white;}#sk-container-id-1 div.sk-parallel-item:first-child::after {align-self: flex-end;width: 50%;}#sk-container-id-1 div.sk-parallel-item:last-child::after {align-self: flex-start;width: 50%;}#sk-container-id-1 div.sk-parallel-item:only-child::after {width: 0;}#sk-container-id-1 div.sk-dashed-wrapped {border: 1px dashed gray;margin: 0 0.4em 0.5em 0.4em;box-sizing: border-box;padding-bottom: 0.4em;background-color: white;}#sk-container-id-1 div.sk-label label {font-family: monospace;font-weight: bold;display: inline-block;line-height: 1.2em;}#sk-container-id-1 div.sk-label-container {text-align: center;}#sk-container-id-1 div.sk-container {/* jupyter's `normalize.less` sets `[hidden] { display: none; }` but bootstrap.min.css set `[hidden] { display: none !important; }` so we also need the `!important` here to be able to override the default hidden behavior on the sphinx rendered scikit-learn.org. See: https://github.com/scikit-learn/scikit-learn/issues/21755 */display: inline-block !important;position: relative;}#sk-container-id-1 div.sk-text-repr-fallback {display: none;}</style><div id=\"sk-container-id-1\" class=\"sk-top-container\"><div class=\"sk-text-repr-fallback\"><pre>Pipeline(steps=[(&#x27;scale&#x27;, StandardScaler()),\n",
       "                (&#x27;model&#x27;, RandomForestClassifier(n_jobs=-1))])</pre><b>In a Jupyter environment, please rerun this cell to show the HTML representation or trust the notebook. <br />On GitHub, the HTML representation is unable to render, please try loading this page with nbviewer.org.</b></div><div class=\"sk-container\" hidden><div class=\"sk-item sk-dashed-wrapped\"><div class=\"sk-label-container\"><div class=\"sk-label sk-toggleable\"><input class=\"sk-toggleable__control sk-hidden--visually\" id=\"sk-estimator-id-1\" type=\"checkbox\" ><label for=\"sk-estimator-id-1\" class=\"sk-toggleable__label sk-toggleable__label-arrow\">Pipeline</label><div class=\"sk-toggleable__content\"><pre>Pipeline(steps=[(&#x27;scale&#x27;, StandardScaler()),\n",
       "                (&#x27;model&#x27;, RandomForestClassifier(n_jobs=-1))])</pre></div></div></div><div class=\"sk-serial\"><div class=\"sk-item\"><div class=\"sk-estimator sk-toggleable\"><input class=\"sk-toggleable__control sk-hidden--visually\" id=\"sk-estimator-id-2\" type=\"checkbox\" ><label for=\"sk-estimator-id-2\" class=\"sk-toggleable__label sk-toggleable__label-arrow\">StandardScaler</label><div class=\"sk-toggleable__content\"><pre>StandardScaler()</pre></div></div></div><div class=\"sk-item\"><div class=\"sk-estimator sk-toggleable\"><input class=\"sk-toggleable__control sk-hidden--visually\" id=\"sk-estimator-id-3\" type=\"checkbox\" ><label for=\"sk-estimator-id-3\" class=\"sk-toggleable__label sk-toggleable__label-arrow\">RandomForestClassifier</label><div class=\"sk-toggleable__content\"><pre>RandomForestClassifier(n_jobs=-1)</pre></div></div></div></div></div></div></div>"
      ],
      "text/plain": [
       "Pipeline(steps=[('scale', StandardScaler()),\n",
       "                ('model', RandomForestClassifier(n_jobs=-1))])"
      ]
     },
     "execution_count": 27,
     "metadata": {},
     "output_type": "execute_result"
    }
   ],
   "source": [
    "model.fit(X_train, y_train.values.ravel())"
   ]
  },
  {
   "cell_type": "code",
   "execution_count": 28,
   "id": "af59f8c0",
   "metadata": {
    "execution": {
     "iopub.execute_input": "2025-07-22T09:14:02.677375Z",
     "iopub.status.busy": "2025-07-22T09:14:02.676722Z",
     "iopub.status.idle": "2025-07-22T09:14:02.683269Z",
     "shell.execute_reply": "2025-07-22T09:14:02.682191Z"
    },
    "papermill": {
     "duration": 0.030065,
     "end_time": "2025-07-22T09:14:02.685443",
     "exception": false,
     "start_time": "2025-07-22T09:14:02.655378",
     "status": "completed"
    },
    "tags": []
   },
   "outputs": [],
   "source": [
    "from fairness_multiverse.universe import predict_w_threshold"
   ]
  },
  {
   "cell_type": "code",
   "execution_count": 29,
   "id": "a7cf2e16",
   "metadata": {
    "execution": {
     "iopub.execute_input": "2025-07-22T09:14:02.727875Z",
     "iopub.status.busy": "2025-07-22T09:14:02.727317Z",
     "iopub.status.idle": "2025-07-22T09:14:03.842948Z",
     "shell.execute_reply": "2025-07-22T09:14:03.841917Z"
    },
    "papermill": {
     "duration": 1.138229,
     "end_time": "2025-07-22T09:14:03.845151",
     "exception": false,
     "start_time": "2025-07-22T09:14:02.706922",
     "status": "completed"
    },
    "tags": []
   },
   "outputs": [
    {
     "data": {
      "text/plain": [
       "0.8671162635157731"
      ]
     },
     "execution_count": 29,
     "metadata": {},
     "output_type": "execute_result"
    }
   ],
   "source": [
    "probs_test = model.predict_proba(X_test)\n",
    "\n",
    "'''\n",
    "Below code returns a boolean array (or binary 0/1 array depending on how it’s used) where each element \n",
    "is True if the probability of class 1 is greater than or equal to the threshold, and False otherwise.\n",
    "'''\n",
    "y_pred_default = predict_w_threshold(probs_test, 0.5)\n",
    "\n",
    "from sklearn.metrics import accuracy_score\n",
    "\n",
    "# Naive prediction\n",
    "accuracy_score(y_true = y_true, y_pred = y_pred_default)"
   ]
  },
  {
   "cell_type": "code",
   "execution_count": 30,
   "id": "081964c3",
   "metadata": {
    "execution": {
     "iopub.execute_input": "2025-07-22T09:14:03.956622Z",
     "iopub.status.busy": "2025-07-22T09:14:03.956166Z",
     "iopub.status.idle": "2025-07-22T09:14:05.470642Z",
     "shell.execute_reply": "2025-07-22T09:14:05.469572Z"
    },
    "papermill": {
     "duration": 1.596984,
     "end_time": "2025-07-22T09:14:05.472649",
     "exception": false,
     "start_time": "2025-07-22T09:14:03.875665",
     "status": "completed"
    },
    "tags": []
   },
   "outputs": [
    {
     "data": {
      "text/plain": [
       "array([0, 0, 0, ..., 0, 0, 0])"
      ]
     },
     "execution_count": 30,
     "metadata": {},
     "output_type": "execute_result"
    }
   ],
   "source": [
    "model.predict(X_test)"
   ]
  },
  {
   "cell_type": "markdown",
   "id": "56c9705b",
   "metadata": {
    "papermill": {
     "duration": 0.052603,
     "end_time": "2025-07-22T09:14:05.549271",
     "exception": false,
     "start_time": "2025-07-22T09:14:05.496668",
     "status": "completed"
    },
    "tags": []
   },
   "source": [
    "# Conformal Prediction"
   ]
  },
  {
   "cell_type": "code",
   "execution_count": 31,
   "id": "160ec6ff",
   "metadata": {
    "execution": {
     "iopub.execute_input": "2025-07-22T09:14:05.598616Z",
     "iopub.status.busy": "2025-07-22T09:14:05.598190Z",
     "iopub.status.idle": "2025-07-22T09:14:05.603842Z",
     "shell.execute_reply": "2025-07-22T09:14:05.602699Z"
    },
    "papermill": {
     "duration": 0.031505,
     "end_time": "2025-07-22T09:14:05.607371",
     "exception": false,
     "start_time": "2025-07-22T09:14:05.575866",
     "status": "completed"
    },
    "tags": []
   },
   "outputs": [],
   "source": [
    "# Miscoverage level for conformal prediction (10% allowed error rate => 90% target coverage)\n",
    "alpha = 0.1"
   ]
  },
  {
   "cell_type": "code",
   "execution_count": 32,
   "id": "eadf4555-3dd3-440e-8e35-f82a4ad9f855",
   "metadata": {
    "execution": {
     "iopub.execute_input": "2025-07-22T09:14:05.652686Z",
     "iopub.status.busy": "2025-07-22T09:14:05.652180Z",
     "iopub.status.idle": "2025-07-22T09:14:07.042783Z",
     "shell.execute_reply": "2025-07-22T09:14:07.041743Z"
    },
    "papermill": {
     "duration": 1.414778,
     "end_time": "2025-07-22T09:14:07.045105",
     "exception": false,
     "start_time": "2025-07-22T09:14:05.630327",
     "status": "completed"
    },
    "tags": []
   },
   "outputs": [],
   "source": [
    "probs_calib = model.predict_proba(X_calib)"
   ]
  },
  {
   "cell_type": "code",
   "execution_count": 33,
   "id": "2ed93547-6d5d-4983-9b36-1ecb300da49a",
   "metadata": {
    "execution": {
     "iopub.execute_input": "2025-07-22T09:14:07.107461Z",
     "iopub.status.busy": "2025-07-22T09:14:07.107056Z",
     "iopub.status.idle": "2025-07-22T09:14:07.111687Z",
     "shell.execute_reply": "2025-07-22T09:14:07.110944Z"
    },
    "papermill": {
     "duration": 0.028577,
     "end_time": "2025-07-22T09:14:07.113369",
     "exception": false,
     "start_time": "2025-07-22T09:14:07.084792",
     "status": "completed"
    },
    "tags": []
   },
   "outputs": [],
   "source": [
    "y_calib = y_calib.values.ravel().astype(int)"
   ]
  },
  {
   "cell_type": "code",
   "execution_count": 34,
   "id": "65d1320d-f588-4b38-9072-62af1ae97f7d",
   "metadata": {
    "execution": {
     "iopub.execute_input": "2025-07-22T09:14:07.151506Z",
     "iopub.status.busy": "2025-07-22T09:14:07.150879Z",
     "iopub.status.idle": "2025-07-22T09:14:07.161021Z",
     "shell.execute_reply": "2025-07-22T09:14:07.159686Z"
    },
    "papermill": {
     "duration": 0.027575,
     "end_time": "2025-07-22T09:14:07.163005",
     "exception": false,
     "start_time": "2025-07-22T09:14:07.135430",
     "status": "completed"
    },
    "tags": []
   },
   "outputs": [],
   "source": [
    "from fairness_multiverse.conformal import compute_nc_scores\n",
    "\n",
    "# Compute nonconformity scores on calibration set (1 - probability of true class)\n",
    "nc_scores = compute_nc_scores(probs_calib, y_calib)"
   ]
  },
  {
   "cell_type": "code",
   "execution_count": 35,
   "id": "df3b8ca3-53b7-43d5-9667-7c85da7aeda2",
   "metadata": {
    "execution": {
     "iopub.execute_input": "2025-07-22T09:14:07.206079Z",
     "iopub.status.busy": "2025-07-22T09:14:07.205647Z",
     "iopub.status.idle": "2025-07-22T09:14:07.212431Z",
     "shell.execute_reply": "2025-07-22T09:14:07.211630Z"
    },
    "papermill": {
     "duration": 0.029398,
     "end_time": "2025-07-22T09:14:07.213844",
     "exception": false,
     "start_time": "2025-07-22T09:14:07.184446",
     "status": "completed"
    },
    "tags": []
   },
   "outputs": [],
   "source": [
    "from fairness_multiverse.conformal import find_threshold\n",
    "\n",
    "# Find conformal threshold q_hat for the given alpha (split conformal method)\n",
    "q_hat = find_threshold(nc_scores, alpha)"
   ]
  },
  {
   "cell_type": "code",
   "execution_count": 36,
   "id": "4d29e6c1-0ef6-4aa4-b8fe-4fe79b0d033a",
   "metadata": {
    "execution": {
     "iopub.execute_input": "2025-07-22T09:14:07.237863Z",
     "iopub.status.busy": "2025-07-22T09:14:07.236998Z",
     "iopub.status.idle": "2025-07-22T09:14:07.245030Z",
     "shell.execute_reply": "2025-07-22T09:14:07.243778Z"
    },
    "papermill": {
     "duration": 0.021962,
     "end_time": "2025-07-22T09:14:07.247042",
     "exception": false,
     "start_time": "2025-07-22T09:14:07.225080",
     "status": "completed"
    },
    "tags": []
   },
   "outputs": [
    {
     "data": {
      "text/plain": [
       "0.65"
      ]
     },
     "execution_count": 36,
     "metadata": {},
     "output_type": "execute_result"
    }
   ],
   "source": [
    "q_hat"
   ]
  },
  {
   "cell_type": "code",
   "execution_count": 37,
   "id": "92460794-cdac-4be2-ba28-f28c0515a6fb",
   "metadata": {
    "execution": {
     "iopub.execute_input": "2025-07-22T09:14:07.274156Z",
     "iopub.status.busy": "2025-07-22T09:14:07.273604Z",
     "iopub.status.idle": "2025-07-22T09:14:09.389490Z",
     "shell.execute_reply": "2025-07-22T09:14:09.388208Z"
    },
    "papermill": {
     "duration": 2.132054,
     "end_time": "2025-07-22T09:14:09.391572",
     "exception": false,
     "start_time": "2025-07-22T09:14:07.259518",
     "status": "completed"
    },
    "tags": []
   },
   "outputs": [],
   "source": [
    "from fairness_multiverse.conformal import predict_conformal_sets\n",
    "\n",
    "# Generate prediction sets for each test example\n",
    "pred_sets = predict_conformal_sets(model, X_test, q_hat)"
   ]
  },
  {
   "cell_type": "code",
   "execution_count": 38,
   "id": "d90c9a65-e6db-4f5d-80cd-e68fb7e46829",
   "metadata": {
    "execution": {
     "iopub.execute_input": "2025-07-22T09:14:09.469513Z",
     "iopub.status.busy": "2025-07-22T09:14:09.469038Z",
     "iopub.status.idle": "2025-07-22T09:14:09.475526Z",
     "shell.execute_reply": "2025-07-22T09:14:09.474414Z"
    },
    "papermill": {
     "duration": 0.047171,
     "end_time": "2025-07-22T09:14:09.479984",
     "exception": false,
     "start_time": "2025-07-22T09:14:09.432813",
     "status": "completed"
    },
    "tags": []
   },
   "outputs": [],
   "source": [
    "y_true = y_true.squeeze()"
   ]
  },
  {
   "cell_type": "code",
   "execution_count": 39,
   "id": "3a58a54a-1e68-46b9-927a-df01f18aebc8",
   "metadata": {
    "execution": {
     "iopub.execute_input": "2025-07-22T09:14:09.604436Z",
     "iopub.status.busy": "2025-07-22T09:14:09.603968Z",
     "iopub.status.idle": "2025-07-22T09:14:10.566959Z",
     "shell.execute_reply": "2025-07-22T09:14:10.565817Z"
    },
    "papermill": {
     "duration": 1.028948,
     "end_time": "2025-07-22T09:14:10.569313",
     "exception": false,
     "start_time": "2025-07-22T09:14:09.540365",
     "status": "completed"
    },
    "tags": []
   },
   "outputs": [],
   "source": [
    "from fairness_multiverse.conformal import evaluate_sets\n",
    "\n",
    "# Evaluate coverage and average set size on test data\n",
    "metrics = evaluate_sets(pred_sets, y_true)"
   ]
  },
  {
   "cell_type": "code",
   "execution_count": 40,
   "id": "5ce0a5cb-201f-45a0-ade5-94c7f0bd6095",
   "metadata": {
    "execution": {
     "iopub.execute_input": "2025-07-22T09:14:10.666211Z",
     "iopub.status.busy": "2025-07-22T09:14:10.665051Z",
     "iopub.status.idle": "2025-07-22T09:14:10.673376Z",
     "shell.execute_reply": "2025-07-22T09:14:10.672201Z"
    },
    "papermill": {
     "duration": 0.068589,
     "end_time": "2025-07-22T09:14:10.675200",
     "exception": false,
     "start_time": "2025-07-22T09:14:10.606611",
     "status": "completed"
    },
    "tags": []
   },
   "outputs": [
    {
     "data": {
      "text/plain": [
       "{'coverage': 0.9139783747631256, 'avg_size': 1.1392821313120054}"
      ]
     },
     "execution_count": 40,
     "metadata": {},
     "output_type": "execute_result"
    }
   ],
   "source": [
    "metrics"
   ]
  },
  {
   "cell_type": "code",
   "execution_count": 41,
   "id": "9b9a838d-31c9-430b-ae14-12baee460d17",
   "metadata": {
    "execution": {
     "iopub.execute_input": "2025-07-22T09:14:10.767412Z",
     "iopub.status.busy": "2025-07-22T09:14:10.766878Z",
     "iopub.status.idle": "2025-07-22T09:14:10.774813Z",
     "shell.execute_reply": "2025-07-22T09:14:10.773825Z"
    },
    "papermill": {
     "duration": 0.060604,
     "end_time": "2025-07-22T09:14:10.777296",
     "exception": false,
     "start_time": "2025-07-22T09:14:10.716692",
     "status": "completed"
    },
    "tags": []
   },
   "outputs": [],
   "source": [
    "example_universe = universe.copy()\n",
    "universe_model = example_universe.get(\"model\")\n",
    "universe_exclude_features = example_universe.get(\"exclude_features\")\n",
    "universe_exclude_subgroups = example_universe.get(\"exclude_subgroups\")"
   ]
  },
  {
   "cell_type": "code",
   "execution_count": 42,
   "id": "f4b6a8ac-9dc0-4245-8a91-5b3b5999c4f9",
   "metadata": {
    "execution": {
     "iopub.execute_input": "2025-07-22T09:14:10.831679Z",
     "iopub.status.busy": "2025-07-22T09:14:10.831229Z",
     "iopub.status.idle": "2025-07-22T09:14:10.837753Z",
     "shell.execute_reply": "2025-07-22T09:14:10.836634Z"
    },
    "papermill": {
     "duration": 0.04092,
     "end_time": "2025-07-22T09:14:10.839925",
     "exception": false,
     "start_time": "2025-07-22T09:14:10.799005",
     "status": "completed"
    },
    "tags": []
   },
   "outputs": [],
   "source": [
    "cp_metrics_dict = {\n",
    "    \"universe_id\": [universe_id],\n",
    "    \"universe_model\": [universe_model],\n",
    "    \"universe_exclude_features\": [universe_exclude_features],\n",
    "    \"universe_exclude_subgroups\": [universe_exclude_subgroups],\n",
    "    \"q_hat\": [q_hat],\n",
    "    \"coverage\": [metrics[\"coverage\"]],\n",
    "    \"avg_size\": [metrics[\"avg_size\"]],\n",
    "}"
   ]
  },
  {
   "cell_type": "code",
   "execution_count": 43,
   "id": "908acbb1-0371-4915-85ca-3fa520d2efe2",
   "metadata": {
    "execution": {
     "iopub.execute_input": "2025-07-22T09:14:10.905285Z",
     "iopub.status.busy": "2025-07-22T09:14:10.904410Z",
     "iopub.status.idle": "2025-07-22T09:14:10.913595Z",
     "shell.execute_reply": "2025-07-22T09:14:10.912389Z"
    },
    "papermill": {
     "duration": 0.03314,
     "end_time": "2025-07-22T09:14:10.915495",
     "exception": false,
     "start_time": "2025-07-22T09:14:10.882355",
     "status": "completed"
    },
    "tags": []
   },
   "outputs": [
    {
     "data": {
      "text/plain": [
       "{'universe_id': ['e45e5b79b986d17a53c94d3c04261c87'],\n",
       " 'universe_model': ['rf'],\n",
       " 'universe_exclude_features': ['sex'],\n",
       " 'universe_exclude_subgroups': ['drop-non-german'],\n",
       " 'q_hat': [0.65],\n",
       " 'coverage': [0.9139783747631256],\n",
       " 'avg_size': [1.1392821313120054]}"
      ]
     },
     "execution_count": 43,
     "metadata": {},
     "output_type": "execute_result"
    }
   ],
   "source": [
    "cp_metrics_dict"
   ]
  },
  {
   "cell_type": "code",
   "execution_count": 44,
   "id": "33007efc-14e9-4ec6-97ac-56a455c82265",
   "metadata": {
    "execution": {
     "iopub.execute_input": "2025-07-22T09:14:10.960142Z",
     "iopub.status.busy": "2025-07-22T09:14:10.959050Z",
     "iopub.status.idle": "2025-07-22T09:14:10.967311Z",
     "shell.execute_reply": "2025-07-22T09:14:10.966325Z"
    },
    "papermill": {
     "duration": 0.033481,
     "end_time": "2025-07-22T09:14:10.969198",
     "exception": false,
     "start_time": "2025-07-22T09:14:10.935717",
     "status": "completed"
    },
    "tags": []
   },
   "outputs": [],
   "source": [
    "cp_metrics_df = pd.DataFrame(cp_metrics_dict)"
   ]
  },
  {
   "cell_type": "code",
   "execution_count": 45,
   "id": "db12611b-57b2-4910-b9d0-355adfd6e7bf",
   "metadata": {
    "execution": {
     "iopub.execute_input": "2025-07-22T09:14:11.012305Z",
     "iopub.status.busy": "2025-07-22T09:14:11.011464Z",
     "iopub.status.idle": "2025-07-22T09:14:11.031541Z",
     "shell.execute_reply": "2025-07-22T09:14:11.030530Z"
    },
    "papermill": {
     "duration": 0.042499,
     "end_time": "2025-07-22T09:14:11.033353",
     "exception": false,
     "start_time": "2025-07-22T09:14:10.990854",
     "status": "completed"
    },
    "tags": []
   },
   "outputs": [
    {
     "data": {
      "text/html": [
       "<div>\n",
       "<style scoped>\n",
       "    .dataframe tbody tr th:only-of-type {\n",
       "        vertical-align: middle;\n",
       "    }\n",
       "\n",
       "    .dataframe tbody tr th {\n",
       "        vertical-align: top;\n",
       "    }\n",
       "\n",
       "    .dataframe thead th {\n",
       "        text-align: right;\n",
       "    }\n",
       "</style>\n",
       "<table border=\"1\" class=\"dataframe\">\n",
       "  <thead>\n",
       "    <tr style=\"text-align: right;\">\n",
       "      <th></th>\n",
       "      <th>universe_id</th>\n",
       "      <th>universe_model</th>\n",
       "      <th>universe_exclude_features</th>\n",
       "      <th>universe_exclude_subgroups</th>\n",
       "      <th>q_hat</th>\n",
       "      <th>coverage</th>\n",
       "      <th>avg_size</th>\n",
       "    </tr>\n",
       "  </thead>\n",
       "  <tbody>\n",
       "    <tr>\n",
       "      <th>0</th>\n",
       "      <td>e45e5b79b986d17a53c94d3c04261c87</td>\n",
       "      <td>rf</td>\n",
       "      <td>sex</td>\n",
       "      <td>drop-non-german</td>\n",
       "      <td>0.65</td>\n",
       "      <td>0.913978</td>\n",
       "      <td>1.139282</td>\n",
       "    </tr>\n",
       "  </tbody>\n",
       "</table>\n",
       "</div>"
      ],
      "text/plain": [
       "                        universe_id universe_model universe_exclude_features  \\\n",
       "0  e45e5b79b986d17a53c94d3c04261c87             rf                       sex   \n",
       "\n",
       "  universe_exclude_subgroups  q_hat  coverage  avg_size  \n",
       "0            drop-non-german   0.65  0.913978  1.139282  "
      ]
     },
     "execution_count": 45,
     "metadata": {},
     "output_type": "execute_result"
    }
   ],
   "source": [
    "cp_metrics_df"
   ]
  },
  {
   "cell_type": "code",
   "execution_count": 46,
   "id": "b7fbde55-a0a1-47e4-9af6-fe4a17fa8c61",
   "metadata": {
    "execution": {
     "iopub.execute_input": "2025-07-22T09:14:11.082075Z",
     "iopub.status.busy": "2025-07-22T09:14:11.081469Z",
     "iopub.status.idle": "2025-07-22T09:14:11.087169Z",
     "shell.execute_reply": "2025-07-22T09:14:11.086108Z"
    },
    "papermill": {
     "duration": 0.03311,
     "end_time": "2025-07-22T09:14:11.089230",
     "exception": false,
     "start_time": "2025-07-22T09:14:11.056120",
     "status": "completed"
    },
    "tags": []
   },
   "outputs": [],
   "source": [
    "# Conditional Coverage & looking at subgroups"
   ]
  },
  {
   "cell_type": "code",
   "execution_count": 47,
   "id": "027ae886-68dd-4141-96c7-805a5450e1ef",
   "metadata": {
    "execution": {
     "iopub.execute_input": "2025-07-22T09:14:11.138031Z",
     "iopub.status.busy": "2025-07-22T09:14:11.137432Z",
     "iopub.status.idle": "2025-07-22T09:14:11.455145Z",
     "shell.execute_reply": "2025-07-22T09:14:11.454152Z"
    },
    "papermill": {
     "duration": 0.344195,
     "end_time": "2025-07-22T09:14:11.457340",
     "exception": false,
     "start_time": "2025-07-22T09:14:11.113145",
     "status": "completed"
    },
    "tags": []
   },
   "outputs": [],
   "source": [
    "from fairness_multiverse.conformal import build_cp_groups\n",
    "\n",
    "cp_groups_df = build_cp_groups(pred_sets, y_true, X_test.index, org_test)\n",
    "#needs universe_id and setting"
   ]
  },
  {
   "cell_type": "code",
   "execution_count": 48,
   "id": "c3b92545-903e-4839-89af-0f057907d7d6",
   "metadata": {
    "execution": {
     "iopub.execute_input": "2025-07-22T09:14:11.502030Z",
     "iopub.status.busy": "2025-07-22T09:14:11.501535Z",
     "iopub.status.idle": "2025-07-22T09:14:13.768384Z",
     "shell.execute_reply": "2025-07-22T09:14:13.767358Z"
    },
    "papermill": {
     "duration": 2.29127,
     "end_time": "2025-07-22T09:14:13.770392",
     "exception": false,
     "start_time": "2025-07-22T09:14:11.479122",
     "status": "completed"
    },
    "tags": []
   },
   "outputs": [],
   "source": [
    "# Define covered = 1 if true_label is in the predicted set\n",
    "cp_groups_df['covered'] = cp_groups_df.apply(\n",
    "    lambda r: int(r['true_label'] in r['pred_set']),\n",
    "    axis=1\n",
    ")"
   ]
  },
  {
   "cell_type": "code",
   "execution_count": 49,
   "id": "338ff529-1a6b-4b87-a931-8e4788d52aad",
   "metadata": {
    "execution": {
     "iopub.execute_input": "2025-07-22T09:14:13.844080Z",
     "iopub.status.busy": "2025-07-22T09:14:13.843153Z",
     "iopub.status.idle": "2025-07-22T09:14:13.848615Z",
     "shell.execute_reply": "2025-07-22T09:14:13.847683Z"
    },
    "papermill": {
     "duration": 0.056568,
     "end_time": "2025-07-22T09:14:13.850363",
     "exception": false,
     "start_time": "2025-07-22T09:14:13.793795",
     "status": "completed"
    },
    "tags": []
   },
   "outputs": [],
   "source": [
    "#cp_groups_df"
   ]
  },
  {
   "cell_type": "code",
   "execution_count": 50,
   "id": "90032e27-66df-4540-9169-4e89cfbaa758",
   "metadata": {
    "execution": {
     "iopub.execute_input": "2025-07-22T09:14:13.957489Z",
     "iopub.status.busy": "2025-07-22T09:14:13.957063Z",
     "iopub.status.idle": "2025-07-22T09:14:13.978621Z",
     "shell.execute_reply": "2025-07-22T09:14:13.977657Z"
    },
    "papermill": {
     "duration": 0.09225,
     "end_time": "2025-07-22T09:14:13.980660",
     "exception": false,
     "start_time": "2025-07-22T09:14:13.888410",
     "status": "completed"
    },
    "tags": []
   },
   "outputs": [],
   "source": [
    "subgroups = ['frau1','nongerman','nongerman_male','nongerman_female']\n",
    "\n",
    "# Conditional coverage for subgroup==1\n",
    "cond_coverage = {\n",
    "    g: cp_groups_df.loc[cp_groups_df[g]==1, 'covered'].mean()\n",
    "    for g in subgroups\n",
    "}"
   ]
  },
  {
   "cell_type": "code",
   "execution_count": 51,
   "id": "1e348fb1-b9c3-45bc-ba23-f016827a7e0d",
   "metadata": {
    "execution": {
     "iopub.execute_input": "2025-07-22T09:14:14.076183Z",
     "iopub.status.busy": "2025-07-22T09:14:14.072539Z",
     "iopub.status.idle": "2025-07-22T09:14:14.083564Z",
     "shell.execute_reply": "2025-07-22T09:14:14.082520Z"
    },
    "papermill": {
     "duration": 0.053385,
     "end_time": "2025-07-22T09:14:14.090573",
     "exception": false,
     "start_time": "2025-07-22T09:14:14.037188",
     "status": "completed"
    },
    "tags": []
   },
   "outputs": [
    {
     "data": {
      "text/plain": [
       "{'frau1': 0.913303679741205,\n",
       " 'nongerman': 0.9084937966653568,\n",
       " 'nongerman_male': 0.9231739169593803,\n",
       " 'nongerman_female': 0.8842026825633383}"
      ]
     },
     "execution_count": 51,
     "metadata": {},
     "output_type": "execute_result"
    }
   ],
   "source": [
    "cond_coverage"
   ]
  },
  {
   "cell_type": "code",
   "execution_count": 52,
   "id": "f5093324-c3dd-4d63-bc4c-8d945e5c8bbb",
   "metadata": {
    "execution": {
     "iopub.execute_input": "2025-07-22T09:14:14.145396Z",
     "iopub.status.busy": "2025-07-22T09:14:14.144928Z",
     "iopub.status.idle": "2025-07-22T09:14:14.153382Z",
     "shell.execute_reply": "2025-07-22T09:14:14.152164Z"
    },
    "papermill": {
     "duration": 0.043263,
     "end_time": "2025-07-22T09:14:14.155162",
     "exception": false,
     "start_time": "2025-07-22T09:14:14.111899",
     "status": "completed"
    },
    "tags": []
   },
   "outputs": [],
   "source": [
    "for subgroup, cov in cond_coverage.items():\n",
    "    cp_metrics_df[f\"cov_{subgroup}\"] = cov"
   ]
  },
  {
   "cell_type": "code",
   "execution_count": 53,
   "id": "6e872e10-dbe5-49e8-b554-5030c98ff75d",
   "metadata": {
    "execution": {
     "iopub.execute_input": "2025-07-22T09:14:14.243190Z",
     "iopub.status.busy": "2025-07-22T09:14:14.242776Z",
     "iopub.status.idle": "2025-07-22T09:14:14.261872Z",
     "shell.execute_reply": "2025-07-22T09:14:14.260652Z"
    },
    "papermill": {
     "duration": 0.069217,
     "end_time": "2025-07-22T09:14:14.263505",
     "exception": false,
     "start_time": "2025-07-22T09:14:14.194288",
     "status": "completed"
    },
    "tags": []
   },
   "outputs": [
    {
     "data": {
      "text/html": [
       "<div>\n",
       "<style scoped>\n",
       "    .dataframe tbody tr th:only-of-type {\n",
       "        vertical-align: middle;\n",
       "    }\n",
       "\n",
       "    .dataframe tbody tr th {\n",
       "        vertical-align: top;\n",
       "    }\n",
       "\n",
       "    .dataframe thead th {\n",
       "        text-align: right;\n",
       "    }\n",
       "</style>\n",
       "<table border=\"1\" class=\"dataframe\">\n",
       "  <thead>\n",
       "    <tr style=\"text-align: right;\">\n",
       "      <th></th>\n",
       "      <th>universe_id</th>\n",
       "      <th>universe_model</th>\n",
       "      <th>universe_exclude_features</th>\n",
       "      <th>universe_exclude_subgroups</th>\n",
       "      <th>q_hat</th>\n",
       "      <th>coverage</th>\n",
       "      <th>avg_size</th>\n",
       "      <th>cov_frau1</th>\n",
       "      <th>cov_nongerman</th>\n",
       "      <th>cov_nongerman_male</th>\n",
       "      <th>cov_nongerman_female</th>\n",
       "    </tr>\n",
       "  </thead>\n",
       "  <tbody>\n",
       "    <tr>\n",
       "      <th>0</th>\n",
       "      <td>e45e5b79b986d17a53c94d3c04261c87</td>\n",
       "      <td>rf</td>\n",
       "      <td>sex</td>\n",
       "      <td>drop-non-german</td>\n",
       "      <td>0.65</td>\n",
       "      <td>0.913978</td>\n",
       "      <td>1.139282</td>\n",
       "      <td>0.913304</td>\n",
       "      <td>0.908494</td>\n",
       "      <td>0.923174</td>\n",
       "      <td>0.884203</td>\n",
       "    </tr>\n",
       "  </tbody>\n",
       "</table>\n",
       "</div>"
      ],
      "text/plain": [
       "                        universe_id universe_model universe_exclude_features  \\\n",
       "0  e45e5b79b986d17a53c94d3c04261c87             rf                       sex   \n",
       "\n",
       "  universe_exclude_subgroups  q_hat  coverage  avg_size  cov_frau1  \\\n",
       "0            drop-non-german   0.65  0.913978  1.139282   0.913304   \n",
       "\n",
       "   cov_nongerman  cov_nongerman_male  cov_nongerman_female  \n",
       "0       0.908494            0.923174              0.884203  "
      ]
     },
     "execution_count": 53,
     "metadata": {},
     "output_type": "execute_result"
    }
   ],
   "source": [
    "cp_metrics_df"
   ]
  },
  {
   "cell_type": "markdown",
   "id": "33774451",
   "metadata": {
    "papermill": {
     "duration": 0.022334,
     "end_time": "2025-07-22T09:14:14.307503",
     "exception": false,
     "start_time": "2025-07-22T09:14:14.285169",
     "status": "completed"
    },
    "tags": []
   },
   "source": [
    "# (Fairness) Metrics"
   ]
  },
  {
   "cell_type": "code",
   "execution_count": 54,
   "id": "debc5d62",
   "metadata": {
    "execution": {
     "iopub.execute_input": "2025-07-22T09:14:14.352668Z",
     "iopub.status.busy": "2025-07-22T09:14:14.352102Z",
     "iopub.status.idle": "2025-07-22T09:14:14.375829Z",
     "shell.execute_reply": "2025-07-22T09:14:14.374863Z"
    },
    "papermill": {
     "duration": 0.047096,
     "end_time": "2025-07-22T09:14:14.377775",
     "exception": false,
     "start_time": "2025-07-22T09:14:14.330679",
     "status": "completed"
    },
    "tags": []
   },
   "outputs": [],
   "source": [
    "# do I need to include maxdeutsch1.missing?\n",
    "\n",
    "import numpy as np\n",
    "\n",
    "colname_to_bin = \"maxdeutsch1\"\n",
    "majority_value = org_train[colname_to_bin].mode()[0]\n",
    "\n",
    "org_test[\"majmin\"] = np.where(org_test[colname_to_bin] == majority_value, \"majority\", \"minority\")"
   ]
  },
  {
   "cell_type": "code",
   "execution_count": 55,
   "id": "06a50de5",
   "metadata": {
    "execution": {
     "iopub.execute_input": "2025-07-22T09:14:14.425674Z",
     "iopub.status.busy": "2025-07-22T09:14:14.425077Z",
     "iopub.status.idle": "2025-07-22T09:14:17.426262Z",
     "shell.execute_reply": "2025-07-22T09:14:17.424736Z"
    },
    "papermill": {
     "duration": 3.041924,
     "end_time": "2025-07-22T09:14:17.441598",
     "exception": false,
     "start_time": "2025-07-22T09:14:14.399674",
     "status": "completed"
    },
    "tags": []
   },
   "outputs": [],
   "source": [
    "example_universe = universe.copy()\n",
    "example_universe[\"cutoff\"] = example_universe[\"cutoff\"][0]\n",
    "example_universe[\"eval_fairness_grouping\"] = example_universe[\"eval_fairness_grouping\"][0]\n",
    "fairness_dict, metric_frame = universe_analysis.compute_metrics(\n",
    "    example_universe,\n",
    "    y_pred_prob=probs_test,\n",
    "    y_test=y_true,\n",
    "    org_test=org_test,\n",
    ")"
   ]
  },
  {
   "cell_type": "markdown",
   "id": "f95d4e02",
   "metadata": {
    "papermill": {
     "duration": 0.052954,
     "end_time": "2025-07-22T09:14:17.517216",
     "exception": false,
     "start_time": "2025-07-22T09:14:17.464262",
     "status": "completed"
    },
    "tags": []
   },
   "source": [
    "# Overall"
   ]
  },
  {
   "cell_type": "markdown",
   "id": "bdee4871",
   "metadata": {
    "papermill": {
     "duration": 0.022115,
     "end_time": "2025-07-22T09:14:17.595363",
     "exception": false,
     "start_time": "2025-07-22T09:14:17.573248",
     "status": "completed"
    },
    "tags": []
   },
   "source": [
    "Fairness\n",
    "Main fairness target: Equalized Odds. Seems to be a better fit than equal opportunity, since we're not only interested in Y = 1. Seems to be a better fit than demographic parity, since we also care about accuracy, not just equal distribution of preds.\n",
    "\n",
    "Pick column for computation of fairness metrics\n",
    "\n",
    "Performance\n",
    "Overall performance measures, most interesting in relation to the measures split by group below"
   ]
  },
  {
   "cell_type": "code",
   "execution_count": 56,
   "id": "c4e067c6",
   "metadata": {
    "execution": {
     "iopub.execute_input": "2025-07-22T09:14:17.675443Z",
     "iopub.status.busy": "2025-07-22T09:14:17.674963Z",
     "iopub.status.idle": "2025-07-22T09:14:17.686668Z",
     "shell.execute_reply": "2025-07-22T09:14:17.685668Z"
    },
    "papermill": {
     "duration": 0.062711,
     "end_time": "2025-07-22T09:14:17.691577",
     "exception": false,
     "start_time": "2025-07-22T09:14:17.628866",
     "status": "completed"
    },
    "tags": []
   },
   "outputs": [
    {
     "data": {
      "text/plain": [
       "accuracy                   0.195920\n",
       "balanced accuracy          0.530460\n",
       "f1                         0.238289\n",
       "precision                  0.135626\n",
       "false positive rate        0.919529\n",
       "false negative rate        0.019552\n",
       "selection rate             0.927344\n",
       "count                  89710.000000\n",
       "dtype: float64"
      ]
     },
     "execution_count": 56,
     "metadata": {},
     "output_type": "execute_result"
    }
   ],
   "source": [
    "metric_frame.overall"
   ]
  },
  {
   "cell_type": "markdown",
   "id": "e968fe9d",
   "metadata": {
    "papermill": {
     "duration": 0.03372,
     "end_time": "2025-07-22T09:14:17.749549",
     "exception": false,
     "start_time": "2025-07-22T09:14:17.715829",
     "status": "completed"
    },
    "tags": []
   },
   "source": [
    "By Group"
   ]
  },
  {
   "cell_type": "code",
   "execution_count": 57,
   "id": "ec325bce",
   "metadata": {
    "execution": {
     "iopub.execute_input": "2025-07-22T09:14:17.806581Z",
     "iopub.status.busy": "2025-07-22T09:14:17.806037Z",
     "iopub.status.idle": "2025-07-22T09:14:17.828656Z",
     "shell.execute_reply": "2025-07-22T09:14:17.824039Z"
    },
    "papermill": {
     "duration": 0.04913,
     "end_time": "2025-07-22T09:14:17.830576",
     "exception": false,
     "start_time": "2025-07-22T09:14:17.781446",
     "status": "completed"
    },
    "tags": []
   },
   "outputs": [
    {
     "data": {
      "text/html": [
       "<div>\n",
       "<style scoped>\n",
       "    .dataframe tbody tr th:only-of-type {\n",
       "        vertical-align: middle;\n",
       "    }\n",
       "\n",
       "    .dataframe tbody tr th {\n",
       "        vertical-align: top;\n",
       "    }\n",
       "\n",
       "    .dataframe thead th {\n",
       "        text-align: right;\n",
       "    }\n",
       "</style>\n",
       "<table border=\"1\" class=\"dataframe\">\n",
       "  <thead>\n",
       "    <tr style=\"text-align: right;\">\n",
       "      <th></th>\n",
       "      <th>accuracy</th>\n",
       "      <th>balanced accuracy</th>\n",
       "      <th>f1</th>\n",
       "      <th>precision</th>\n",
       "      <th>false positive rate</th>\n",
       "      <th>false negative rate</th>\n",
       "      <th>selection rate</th>\n",
       "      <th>count</th>\n",
       "    </tr>\n",
       "    <tr>\n",
       "      <th>majmin</th>\n",
       "      <th></th>\n",
       "      <th></th>\n",
       "      <th></th>\n",
       "      <th></th>\n",
       "      <th></th>\n",
       "      <th></th>\n",
       "      <th></th>\n",
       "      <th></th>\n",
       "    </tr>\n",
       "  </thead>\n",
       "  <tbody>\n",
       "    <tr>\n",
       "      <th>majority</th>\n",
       "      <td>0.191485</td>\n",
       "      <td>0.530296</td>\n",
       "      <td>0.244634</td>\n",
       "      <td>0.139544</td>\n",
       "      <td>0.930218</td>\n",
       "      <td>0.009190</td>\n",
       "      <td>0.938225</td>\n",
       "      <td>69170.0</td>\n",
       "    </tr>\n",
       "    <tr>\n",
       "      <th>minority</th>\n",
       "      <td>0.210857</td>\n",
       "      <td>0.528119</td>\n",
       "      <td>0.215554</td>\n",
       "      <td>0.121727</td>\n",
       "      <td>0.884217</td>\n",
       "      <td>0.059544</td>\n",
       "      <td>0.890701</td>\n",
       "      <td>20540.0</td>\n",
       "    </tr>\n",
       "  </tbody>\n",
       "</table>\n",
       "</div>"
      ],
      "text/plain": [
       "          accuracy  balanced accuracy        f1  precision  \\\n",
       "majmin                                                       \n",
       "majority  0.191485           0.530296  0.244634   0.139544   \n",
       "minority  0.210857           0.528119  0.215554   0.121727   \n",
       "\n",
       "          false positive rate  false negative rate  selection rate    count  \n",
       "majmin                                                                       \n",
       "majority             0.930218             0.009190        0.938225  69170.0  \n",
       "minority             0.884217             0.059544        0.890701  20540.0  "
      ]
     },
     "execution_count": 57,
     "metadata": {},
     "output_type": "execute_result"
    }
   ],
   "source": [
    "metric_frame.by_group"
   ]
  },
  {
   "cell_type": "code",
   "execution_count": 58,
   "id": "a9ddbe63",
   "metadata": {
    "execution": {
     "iopub.execute_input": "2025-07-22T09:14:17.880774Z",
     "iopub.status.busy": "2025-07-22T09:14:17.880214Z",
     "iopub.status.idle": "2025-07-22T09:14:20.909887Z",
     "shell.execute_reply": "2025-07-22T09:14:20.908951Z"
    },
    "papermill": {
     "duration": 3.056205,
     "end_time": "2025-07-22T09:14:20.911511",
     "exception": false,
     "start_time": "2025-07-22T09:14:17.855306",
     "status": "completed"
    },
    "tags": []
   },
   "outputs": [
    {
     "data": {
      "text/plain": [
       "array([[<Axes: title={'center': 'accuracy'}, xlabel='majmin'>,\n",
       "        <Axes: title={'center': 'balanced accuracy'}, xlabel='majmin'>,\n",
       "        <Axes: title={'center': 'f1'}, xlabel='majmin'>],\n",
       "       [<Axes: title={'center': 'precision'}, xlabel='majmin'>,\n",
       "        <Axes: title={'center': 'false positive rate'}, xlabel='majmin'>,\n",
       "        <Axes: title={'center': 'false negative rate'}, xlabel='majmin'>],\n",
       "       [<Axes: title={'center': 'selection rate'}, xlabel='majmin'>,\n",
       "        <Axes: title={'center': 'count'}, xlabel='majmin'>,\n",
       "        <Axes: xlabel='majmin'>]], dtype=object)"
      ]
     },
     "execution_count": 58,
     "metadata": {},
     "output_type": "execute_result"
    },
    {
     "data": {
      "image/png": "[encoded data removed]",
      "text/plain": [
       "<Figure size 1200x800 with 9 Axes>"
      ]
     },
     "metadata": {},
     "output_type": "display_data"
    }
   ],
   "source": [
    "# In a graphic\n",
    "metric_frame.by_group.plot.bar(\n",
    "    subplots=True,\n",
    "    layout=[3, 3],\n",
    "    legend=False,\n",
    "    figsize=[12, 8],\n",
    "    title=\"Show all metrics\",\n",
    ")"
   ]
  },
  {
   "cell_type": "markdown",
   "id": "f57a0bac",
   "metadata": {
    "papermill": {
     "duration": 0.023065,
     "end_time": "2025-07-22T09:14:20.960682",
     "exception": false,
     "start_time": "2025-07-22T09:14:20.937617",
     "status": "completed"
    },
    "tags": []
   },
   "source": [
    "# Final Output"
   ]
  },
  {
   "cell_type": "code",
   "execution_count": 59,
   "id": "96d280a3",
   "metadata": {
    "execution": {
     "iopub.execute_input": "2025-07-22T09:14:21.009257Z",
     "iopub.status.busy": "2025-07-22T09:14:21.008493Z",
     "iopub.status.idle": "2025-07-22T09:14:21.017137Z",
     "shell.execute_reply": "2025-07-22T09:14:21.016193Z"
    },
    "papermill": {
     "duration": 0.034316,
     "end_time": "2025-07-22T09:14:21.018678",
     "exception": false,
     "start_time": "2025-07-22T09:14:20.984362",
     "status": "completed"
    },
    "tags": []
   },
   "outputs": [
    {
     "data": {
      "text/plain": [
       "4"
      ]
     },
     "execution_count": 59,
     "metadata": {},
     "output_type": "execute_result"
    }
   ],
   "source": [
    "sub_universes = universe_analysis.generate_sub_universes()\n",
    "len(sub_universes)"
   ]
  },
  {
   "cell_type": "code",
   "execution_count": 60,
   "id": "92adf7ba",
   "metadata": {
    "execution": {
     "iopub.execute_input": "2025-07-22T09:14:21.068488Z",
     "iopub.status.busy": "2025-07-22T09:14:21.067852Z",
     "iopub.status.idle": "2025-07-22T09:14:21.074608Z",
     "shell.execute_reply": "2025-07-22T09:14:21.073751Z"
    },
    "papermill": {
     "duration": 0.034154,
     "end_time": "2025-07-22T09:14:21.076408",
     "exception": false,
     "start_time": "2025-07-22T09:14:21.042254",
     "status": "completed"
    },
    "tags": []
   },
   "outputs": [],
   "source": [
    "def filter_sub_universe_data(sub_universe, org_test):\n",
    "    # Keep all rows — no filtering\n",
    "    keep_rows_mask = np.ones(org_test.shape[0], dtype=bool)\n",
    "\n",
    "    print(f\"[INFO] Keeping all rows: {keep_rows_mask.sum()} rows retained.\")\n",
    "    return keep_rows_mask"
   ]
  },
  {
   "cell_type": "code",
   "execution_count": 61,
   "id": "4a759155",
   "metadata": {
    "execution": {
     "iopub.execute_input": "2025-07-22T09:14:21.127061Z",
     "iopub.status.busy": "2025-07-22T09:14:21.126569Z",
     "iopub.status.idle": "2025-07-22T09:14:27.555786Z",
     "shell.execute_reply": "2025-07-22T09:14:27.554715Z"
    },
    "papermill": {
     "duration": 6.45668,
     "end_time": "2025-07-22T09:14:27.557648",
     "exception": false,
     "start_time": "2025-07-22T09:14:21.100968",
     "status": "completed"
    },
    "tags": []
   },
   "outputs": [
    {
     "name": "stdout",
     "output_type": "stream",
     "text": [
      "Stopping execution_time clock.\n",
      "[INFO] Keeping all rows: 89710 rows retained.\n"
     ]
    },
    {
     "name": "stdout",
     "output_type": "stream",
     "text": [
      "[INFO] Keeping all rows: 89710 rows retained.\n"
     ]
    },
    {
     "name": "stdout",
     "output_type": "stream",
     "text": [
      "[INFO] Keeping all rows: 89710 rows retained.\n"
     ]
    },
    {
     "name": "stdout",
     "output_type": "stream",
     "text": [
      "[INFO] Keeping all rows: 89710 rows retained.\n"
     ]
    },
    {
     "data": {
      "text/html": [
       "<div>\n",
       "<style scoped>\n",
       "    .dataframe tbody tr th:only-of-type {\n",
       "        vertical-align: middle;\n",
       "    }\n",
       "\n",
       "    .dataframe tbody tr th {\n",
       "        vertical-align: top;\n",
       "    }\n",
       "\n",
       "    .dataframe thead th {\n",
       "        text-align: right;\n",
       "    }\n",
       "</style>\n",
       "<table border=\"1\" class=\"dataframe\">\n",
       "  <thead>\n",
       "    <tr style=\"text-align: right;\">\n",
       "      <th></th>\n",
       "      <th>run_no</th>\n",
       "      <th>universe_id</th>\n",
       "      <th>universe_settings</th>\n",
       "      <th>execution_time</th>\n",
       "      <th>test_size_n</th>\n",
       "      <th>test_size_frac</th>\n",
       "      <th>fair_main_equalized_odds_difference</th>\n",
       "      <th>fair_main_equalized_odds_ratio</th>\n",
       "      <th>fair_main_demographic_parity_difference</th>\n",
       "      <th>fair_main_demographic_parity_ratio</th>\n",
       "      <th>...</th>\n",
       "      <th>perf_grp_precision_0</th>\n",
       "      <th>perf_grp_precision_1</th>\n",
       "      <th>perf_grp_false positive rate_0</th>\n",
       "      <th>perf_grp_false positive rate_1</th>\n",
       "      <th>perf_grp_false negative rate_0</th>\n",
       "      <th>perf_grp_false negative rate_1</th>\n",
       "      <th>perf_grp_selection rate_0</th>\n",
       "      <th>perf_grp_selection rate_1</th>\n",
       "      <th>perf_grp_count_0</th>\n",
       "      <th>perf_grp_count_1</th>\n",
       "    </tr>\n",
       "  </thead>\n",
       "  <tbody>\n",
       "    <tr>\n",
       "      <th>0</th>\n",
       "      <td>3</td>\n",
       "      <td>e45e5b79b986d17a53c94d3c04261c87</td>\n",
       "      <td>{\"cutoff\": \"quantile_0.1\", \"eval_fairness_grou...</td>\n",
       "      <td>25.573479</td>\n",
       "      <td>89710</td>\n",
       "      <td>1.0</td>\n",
       "      <td>0.050354</td>\n",
       "      <td>0.949179</td>\n",
       "      <td>0.047524</td>\n",
       "      <td>0.949347</td>\n",
       "      <td>...</td>\n",
       "      <td>NaN</td>\n",
       "      <td>NaN</td>\n",
       "      <td>NaN</td>\n",
       "      <td>NaN</td>\n",
       "      <td>NaN</td>\n",
       "      <td>NaN</td>\n",
       "      <td>NaN</td>\n",
       "      <td>NaN</td>\n",
       "      <td>NaN</td>\n",
       "      <td>NaN</td>\n",
       "    </tr>\n",
       "    <tr>\n",
       "      <th>0</th>\n",
       "      <td>3</td>\n",
       "      <td>e45e5b79b986d17a53c94d3c04261c87</td>\n",
       "      <td>{\"cutoff\": \"quantile_0.1\", \"eval_fairness_grou...</td>\n",
       "      <td>25.573479</td>\n",
       "      <td>89710</td>\n",
       "      <td>1.0</td>\n",
       "      <td>0.050354</td>\n",
       "      <td>0.949179</td>\n",
       "      <td>0.047524</td>\n",
       "      <td>0.949347</td>\n",
       "      <td>...</td>\n",
       "      <td>0.121727</td>\n",
       "      <td>0.139544</td>\n",
       "      <td>0.884217</td>\n",
       "      <td>0.930218</td>\n",
       "      <td>0.059544</td>\n",
       "      <td>0.009190</td>\n",
       "      <td>0.890701</td>\n",
       "      <td>0.938225</td>\n",
       "      <td>20540.0</td>\n",
       "      <td>69170.0</td>\n",
       "    </tr>\n",
       "    <tr>\n",
       "      <th>0</th>\n",
       "      <td>3</td>\n",
       "      <td>e45e5b79b986d17a53c94d3c04261c87</td>\n",
       "      <td>{\"cutoff\": \"quantile_0.25\", \"eval_fairness_gro...</td>\n",
       "      <td>25.573479</td>\n",
       "      <td>89710</td>\n",
       "      <td>1.0</td>\n",
       "      <td>0.098049</td>\n",
       "      <td>0.897545</td>\n",
       "      <td>0.061729</td>\n",
       "      <td>0.922003</td>\n",
       "      <td>...</td>\n",
       "      <td>NaN</td>\n",
       "      <td>NaN</td>\n",
       "      <td>NaN</td>\n",
       "      <td>NaN</td>\n",
       "      <td>NaN</td>\n",
       "      <td>NaN</td>\n",
       "      <td>NaN</td>\n",
       "      <td>NaN</td>\n",
       "      <td>NaN</td>\n",
       "      <td>NaN</td>\n",
       "    </tr>\n",
       "    <tr>\n",
       "      <th>0</th>\n",
       "      <td>3</td>\n",
       "      <td>e45e5b79b986d17a53c94d3c04261c87</td>\n",
       "      <td>{\"cutoff\": \"quantile_0.25\", \"eval_fairness_gro...</td>\n",
       "      <td>25.573479</td>\n",
       "      <td>89710</td>\n",
       "      <td>1.0</td>\n",
       "      <td>0.098049</td>\n",
       "      <td>0.897545</td>\n",
       "      <td>0.061729</td>\n",
       "      <td>0.922003</td>\n",
       "      <td>...</td>\n",
       "      <td>0.135709</td>\n",
       "      <td>0.159783</td>\n",
       "      <td>0.712855</td>\n",
       "      <td>0.766217</td>\n",
       "      <td>0.141047</td>\n",
       "      <td>0.042998</td>\n",
       "      <td>0.729698</td>\n",
       "      <td>0.791427</td>\n",
       "      <td>20540.0</td>\n",
       "      <td>69170.0</td>\n",
       "    </tr>\n",
       "  </tbody>\n",
       "</table>\n",
       "<p>4 rows × 50 columns</p>\n",
       "</div>"
      ],
      "text/plain": [
       "  run_no                       universe_id  \\\n",
       "0      3  e45e5b79b986d17a53c94d3c04261c87   \n",
       "0      3  e45e5b79b986d17a53c94d3c04261c87   \n",
       "0      3  e45e5b79b986d17a53c94d3c04261c87   \n",
       "0      3  e45e5b79b986d17a53c94d3c04261c87   \n",
       "\n",
       "                                   universe_settings  execution_time  \\\n",
       "0  {\"cutoff\": \"quantile_0.1\", \"eval_fairness_grou...       25.573479   \n",
       "0  {\"cutoff\": \"quantile_0.1\", \"eval_fairness_grou...       25.573479   \n",
       "0  {\"cutoff\": \"quantile_0.25\", \"eval_fairness_gro...       25.573479   \n",
       "0  {\"cutoff\": \"quantile_0.25\", \"eval_fairness_gro...       25.573479   \n",
       "\n",
       "   test_size_n  test_size_frac  fair_main_equalized_odds_difference  \\\n",
       "0        89710             1.0                             0.050354   \n",
       "0        89710             1.0                             0.050354   \n",
       "0        89710             1.0                             0.098049   \n",
       "0        89710             1.0                             0.098049   \n",
       "\n",
       "   fair_main_equalized_odds_ratio  fair_main_demographic_parity_difference  \\\n",
       "0                        0.949179                                 0.047524   \n",
       "0                        0.949179                                 0.047524   \n",
       "0                        0.897545                                 0.061729   \n",
       "0                        0.897545                                 0.061729   \n",
       "\n",
       "   fair_main_demographic_parity_ratio  ...  perf_grp_precision_0  \\\n",
       "0                            0.949347  ...                   NaN   \n",
       "0                            0.949347  ...              0.121727   \n",
       "0                            0.922003  ...                   NaN   \n",
       "0                            0.922003  ...              0.135709   \n",
       "\n",
       "   perf_grp_precision_1  perf_grp_false positive rate_0  \\\n",
       "0                   NaN                             NaN   \n",
       "0              0.139544                        0.884217   \n",
       "0                   NaN                             NaN   \n",
       "0              0.159783                        0.712855   \n",
       "\n",
       "   perf_grp_false positive rate_1  perf_grp_false negative rate_0  \\\n",
       "0                             NaN                             NaN   \n",
       "0                        0.930218                        0.059544   \n",
       "0                             NaN                             NaN   \n",
       "0                        0.766217                        0.141047   \n",
       "\n",
       "   perf_grp_false negative rate_1  perf_grp_selection rate_0  \\\n",
       "0                             NaN                        NaN   \n",
       "0                        0.009190                   0.890701   \n",
       "0                             NaN                        NaN   \n",
       "0                        0.042998                   0.729698   \n",
       "\n",
       "   perf_grp_selection rate_1  perf_grp_count_0  perf_grp_count_1  \n",
       "0                        NaN               NaN               NaN  \n",
       "0                   0.938225           20540.0           69170.0  \n",
       "0                        NaN               NaN               NaN  \n",
       "0                   0.791427           20540.0           69170.0  \n",
       "\n",
       "[4 rows x 50 columns]"
      ]
     },
     "execution_count": 61,
     "metadata": {},
     "output_type": "execute_result"
    }
   ],
   "source": [
    "final_output = universe_analysis.generate_final_output(\n",
    "    y_pred_prob=probs_test,\n",
    "    y_test=y_true,\n",
    "    org_test=org_test,\n",
    "    filter_data=filter_sub_universe_data,\n",
    "    cp_metrics_df=cp_metrics_df,\n",
    "    save=True,\n",
    ")\n",
    "final_output"
   ]
  },
  {
   "cell_type": "code",
   "execution_count": null,
   "id": "721ff514-cb11-46f8-b6fc-50392f74b5cb",
   "metadata": {
    "papermill": {
     "duration": 0.025229,
     "end_time": "2025-07-22T09:14:27.611672",
     "exception": false,
     "start_time": "2025-07-22T09:14:27.586443",
     "status": "completed"
    },
    "tags": []
   },
   "outputs": [],
   "source": []
  }
 ],
 "metadata": {
  "celltoolbar": "Tags",
  "kernelspec": {
   "display_name": "Python (CMA Fairness)",
   "language": "python",
   "name": "cma_fair_env"
  },
  "language_info": {
   "codemirror_mode": {
    "name": "ipython",
    "version": 3
   },
   "file_extension": ".py",
   "mimetype": "text/x-python",
   "name": "python",
   "nbconvert_exporter": "python",
   "pygments_lexer": "ipython3",
   "version": "3.10.12"
  },
  "papermill": {
   "default_parameters": {},
   "duration": 35.741662,
   "end_time": "2025-07-22T09:14:28.358803",
   "environment_variables": {},
   "exception": null,
   "input_path": "universe_analysis.ipynb",
   "output_path": "output/runs/3/notebooks/m_3-e45e5b79b986d17a53c94d3c04261c87.ipynb",
   "parameters": {
    "output_dir": "output",
    "run_no": "3",
    "seed": "2023",
    "universe": "{\"cutoff\": [\"quantile_0.1\", \"quantile_0.25\"], \"eval_fairness_grouping\": [\"majority-minority\", \"nationality-all\"], \"exclude_features\": \"sex\", \"exclude_subgroups\": \"drop-non-german\", \"model\": \"rf\", \"scale\": \"scale\"}",
    "universe_id": "e45e5b79b986d17a53c94d3c04261c87"
   },
   "start_time": "2025-07-22T09:13:52.617141",
   "version": "2.6.0"
  }
 },
 "nbformat": 4,
 "nbformat_minor": 5
}