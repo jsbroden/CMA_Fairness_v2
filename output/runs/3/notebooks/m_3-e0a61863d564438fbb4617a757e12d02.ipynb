{
 "cells": [
  {
   "cell_type": "markdown",
   "id": "ef23dbb3",
   "metadata": {
    "papermill": {
     "duration": 0.022608,
     "end_time": "2025-08-19T19:10:19.988652",
     "exception": false,
     "start_time": "2025-08-19T19:10:19.966044",
     "status": "completed"
    },
    "tags": []
   },
   "source": [
    "# Setup"
   ]
  },
  {
   "cell_type": "code",
   "execution_count": 1,
   "id": "0bc8e7dc",
   "metadata": {
    "execution": {
     "iopub.execute_input": "2025-08-19T19:10:20.016735Z",
     "iopub.status.busy": "2025-08-19T19:10:20.015215Z",
     "iopub.status.idle": "2025-08-19T19:10:20.040788Z",
     "shell.execute_reply": "2025-08-19T19:10:20.039400Z"
    },
    "papermill": {
     "duration": 0.039183,
     "end_time": "2025-08-19T19:10:20.042955",
     "exception": false,
     "start_time": "2025-08-19T19:10:20.003772",
     "status": "completed"
    },
    "tags": []
   },
   "outputs": [
    {
     "name": "stdout",
     "output_type": "stream",
     "text": [
      "/dss/dsshome1/0C/ra93lal2/cma/CMA_Fairness_v2\n"
     ]
    },
    {
     "name": "stderr",
     "output_type": "stream",
     "text": [
      "/dss/dsshome1/0C/ra93lal2/.local/share/virtualenvs/CMA_Fairness_v2-3j10GkSs/lib/python3.10/site-packages/IPython/core/magics/osm.py:393: UserWarning: This is now an optional IPython functionality, using bookmarks requires you to install the `pickleshare` library.\n",
      "  bkms = self.shell.db.get('bookmarks', {})\n",
      "/dss/dsshome1/0C/ra93lal2/.local/share/virtualenvs/CMA_Fairness_v2-3j10GkSs/lib/python3.10/site-packages/IPython/core/magics/osm.py:417: UserWarning: This is now an optional IPython functionality, setting dhist requires you to install the `pickleshare` library.\n",
      "  self.shell.db['dhist'] = compress_dhist(dhist)[-100:]\n"
     ]
    }
   ],
   "source": [
    "%cd ~/cma/CMA_Fairness_v2"
   ]
  },
  {
   "cell_type": "markdown",
   "id": "9d235661",
   "metadata": {
    "papermill": {
     "duration": 0.013459,
     "end_time": "2025-08-19T19:10:20.071904",
     "exception": false,
     "start_time": "2025-08-19T19:10:20.058445",
     "status": "completed"
    },
    "tags": []
   },
   "source": [
    "The following cell holds the definition of our parameters, these values can be overriden by rendering the with e.g. the following command:\n",
    "\n",
    "papermill -p alpha 0.2 -p ratio 0.3 universe_analysis.ipynb output/test_run.ipynb"
   ]
  },
  {
   "cell_type": "code",
   "execution_count": 2,
   "id": "4a789d8e",
   "metadata": {
    "execution": {
     "iopub.execute_input": "2025-08-19T19:10:20.093261Z",
     "iopub.status.busy": "2025-08-19T19:10:20.092886Z",
     "iopub.status.idle": "2025-08-19T19:10:20.100382Z",
     "shell.execute_reply": "2025-08-19T19:10:20.099439Z"
    },
    "papermill": {
     "duration": 0.019853,
     "end_time": "2025-08-19T19:10:20.102136",
     "exception": false,
     "start_time": "2025-08-19T19:10:20.082283",
     "status": "completed"
    },
    "tags": []
   },
   "outputs": [
    {
     "name": "stdout",
     "output_type": "stream",
     "text": [
      "Current working directory: /dss/dsshome1/0C/ra93lal2/cma/CMA_Fairness_v2\n"
     ]
    }
   ],
   "source": [
    "import os\n",
    "print(\"Current working directory:\", os.getcwd())"
   ]
  },
  {
   "cell_type": "code",
   "execution_count": 3,
   "id": "4132aaed",
   "metadata": {
    "execution": {
     "iopub.execute_input": "2025-08-19T19:10:20.125220Z",
     "iopub.status.busy": "2025-08-19T19:10:20.124904Z",
     "iopub.status.idle": "2025-08-19T19:10:20.131908Z",
     "shell.execute_reply": "2025-08-19T19:10:20.130745Z"
    },
    "papermill": {
     "duration": 0.021078,
     "end_time": "2025-08-19T19:10:20.133499",
     "exception": false,
     "start_time": "2025-08-19T19:10:20.112421",
     "status": "completed"
    },
    "tags": [
     "parameters"
    ]
   },
   "outputs": [],
   "source": [
    "run_no = 0\n",
    "universe_id = \"test\"\n",
    "universe = {\n",
    "    \"training_size\": \"5k\", # \"25k\", \"5k\", \"1k\"\n",
    "    \"training_year\": \"2012_14\", # \"2014\", \"2012_14\", \"2010_14\"\n",
    "    \"scale\": \"scale\", # \"scale\", \"do-not-scale\",\n",
    "    \"model\": \"elasticnet\", # \"logreg\", \"penalized_logreg\", \"rf\", \"gbm\", \"elasticnet\"\n",
    "    \"cutoff\": [\"quantile_0.15\", \"quantile_0.30\"],\n",
    "    \"exclude_features\": \"age\", # \"none\", \"nationality\", \"sex\", \"nationality-sex\", \"age\"\n",
    "    \"exclude_subgroups\": \"drop-non-german\", # \"keep-all\", \"drop-non-german\"\n",
    "    \"eval_fairness_grouping\": [\"majority-minority\", \"nationality-all\"]\n",
    "}\n",
    "\n",
    "output_dir=\"./output\"\n",
    "seed=0"
   ]
  },
  {
   "cell_type": "code",
   "execution_count": 4,
   "id": "5652b001",
   "metadata": {
    "execution": {
     "iopub.execute_input": "2025-08-19T19:10:20.156372Z",
     "iopub.status.busy": "2025-08-19T19:10:20.156074Z",
     "iopub.status.idle": "2025-08-19T19:10:20.162537Z",
     "shell.execute_reply": "2025-08-19T19:10:20.161428Z"
    },
    "papermill": {
     "duration": 0.019178,
     "end_time": "2025-08-19T19:10:20.164307",
     "exception": false,
     "start_time": "2025-08-19T19:10:20.145129",
     "status": "completed"
    },
    "tags": [
     "injected-parameters"
    ]
   },
   "outputs": [],
   "source": [
    "# Parameters\n",
    "universe_id = \"e0a61863d564438fbb4617a757e12d02\"\n",
    "run_no = \"3\"\n",
    "universe = \"{\\\"cutoff\\\": [\\\"quantile_0.1\\\", \\\"quantile_0.25\\\"], \\\"eval_fairness_grouping\\\": [\\\"majority-minority\\\", \\\"nationality-all\\\"], \\\"exclude_features\\\": \\\"sex\\\", \\\"exclude_subgroups\\\": \\\"keep-all\\\", \\\"model\\\": \\\"rf\\\", \\\"scale\\\": \\\"do-not-scale\\\", \\\"training_size\\\": \\\"1k\\\", \\\"training_year\\\": \\\"2010_14\\\"}\"\n",
    "output_dir = \"output\"\n",
    "seed = \"2023\"\n"
   ]
  },
  {
   "cell_type": "code",
   "execution_count": 5,
   "id": "a5d7941f",
   "metadata": {
    "execution": {
     "iopub.execute_input": "2025-08-19T19:10:20.189037Z",
     "iopub.status.busy": "2025-08-19T19:10:20.188616Z",
     "iopub.status.idle": "2025-08-19T19:10:20.195711Z",
     "shell.execute_reply": "2025-08-19T19:10:20.194203Z"
    },
    "papermill": {
     "duration": 0.020789,
     "end_time": "2025-08-19T19:10:20.197616",
     "exception": false,
     "start_time": "2025-08-19T19:10:20.176827",
     "status": "completed"
    },
    "tags": []
   },
   "outputs": [],
   "source": [
    "import json\n",
    "if isinstance(universe, str):\n",
    "    universe = json.loads(universe)"
   ]
  },
  {
   "cell_type": "code",
   "execution_count": 6,
   "id": "7076ccb1",
   "metadata": {
    "execution": {
     "iopub.execute_input": "2025-08-19T19:10:20.223076Z",
     "iopub.status.busy": "2025-08-19T19:10:20.222702Z",
     "iopub.status.idle": "2025-08-19T19:10:20.278018Z",
     "shell.execute_reply": "2025-08-19T19:10:20.270418Z"
    },
    "papermill": {
     "duration": 0.069161,
     "end_time": "2025-08-19T19:10:20.279647",
     "exception": false,
     "start_time": "2025-08-19T19:10:20.210486",
     "status": "completed"
    },
    "tags": []
   },
   "outputs": [],
   "source": [
    "# Auto-reload the custom package\n",
    "%load_ext autoreload\n",
    "%autoreload 1\n",
    "%aimport fairness_multiverse"
   ]
  },
  {
   "cell_type": "code",
   "execution_count": 7,
   "id": "94c8eb93",
   "metadata": {
    "execution": {
     "iopub.execute_input": "2025-08-19T19:10:20.305181Z",
     "iopub.status.busy": "2025-08-19T19:10:20.304639Z",
     "iopub.status.idle": "2025-08-19T19:10:21.939621Z",
     "shell.execute_reply": "2025-08-19T19:10:21.938657Z"
    },
    "papermill": {
     "duration": 1.650006,
     "end_time": "2025-08-19T19:10:21.941352",
     "exception": false,
     "start_time": "2025-08-19T19:10:20.291346",
     "status": "completed"
    },
    "tags": []
   },
   "outputs": [],
   "source": [
    "from fairness_multiverse.universe import UniverseAnalysis\n",
    "\n",
    "universe_analysis = UniverseAnalysis(\n",
    "    run_no = run_no,\n",
    "    universe_id = universe_id,\n",
    "    universe = universe,\n",
    "    output_dir=output_dir,\n",
    ")"
   ]
  },
  {
   "cell_type": "code",
   "execution_count": 8,
   "id": "2a6381cf",
   "metadata": {
    "execution": {
     "iopub.execute_input": "2025-08-19T19:10:21.967659Z",
     "iopub.status.busy": "2025-08-19T19:10:21.966128Z",
     "iopub.status.idle": "2025-08-19T19:10:21.979410Z",
     "shell.execute_reply": "2025-08-19T19:10:21.977508Z"
    },
    "papermill": {
     "duration": 0.029554,
     "end_time": "2025-08-19T19:10:21.981181",
     "exception": false,
     "start_time": "2025-08-19T19:10:21.951627",
     "status": "completed"
    },
    "tags": []
   },
   "outputs": [
    {
     "name": "stdout",
     "output_type": "stream",
     "text": [
      "Using Seed: 2023\n"
     ]
    }
   ],
   "source": [
    "import numpy as np\n",
    "parsed_seed = int(seed)\n",
    "np.random.seed(parsed_seed)\n",
    "print(f\"Using Seed: {parsed_seed}\")"
   ]
  },
  {
   "cell_type": "markdown",
   "id": "b6e958b4",
   "metadata": {
    "papermill": {
     "duration": 0.010587,
     "end_time": "2025-08-19T19:10:22.004948",
     "exception": false,
     "start_time": "2025-08-19T19:10:21.994361",
     "status": "completed"
    },
    "tags": []
   },
   "source": [
    "# Loading Data"
   ]
  },
  {
   "cell_type": "code",
   "execution_count": 9,
   "id": "98701482",
   "metadata": {
    "execution": {
     "iopub.execute_input": "2025-08-19T19:10:22.027557Z",
     "iopub.status.busy": "2025-08-19T19:10:22.024745Z",
     "iopub.status.idle": "2025-08-19T19:10:32.629017Z",
     "shell.execute_reply": "2025-08-19T19:10:32.627726Z"
    },
    "papermill": {
     "duration": 10.616715,
     "end_time": "2025-08-19T19:10:32.630740",
     "exception": false,
     "start_time": "2025-08-19T19:10:22.014025",
     "status": "completed"
    },
    "tags": []
   },
   "outputs": [
    {
     "name": "stdout",
     "output_type": "stream",
     "text": [
      "Loading SIAB data from cache: data/siab_cached.csv.gz\n"
     ]
    },
    {
     "name": "stdout",
     "output_type": "stream",
     "text": [
      "(643690, 164)\n"
     ]
    }
   ],
   "source": [
    "from pathlib import Path\n",
    "import pandas as pd\n",
    "\n",
    "# File paths\n",
    "raw_file = Path(\"data/raw/siab.csv\")\n",
    "cache_file = Path(\"data/siab_cached.csv.gz\")\n",
    "\n",
    "# Ensure cache directory exists\n",
    "cache_file.parent.mkdir(parents=True, exist_ok=True)\n",
    "\n",
    "# Load with simple caching\n",
    "if cache_file.exists():\n",
    "    print(f\"Loading SIAB data from cache: {cache_file}\")\n",
    "    siab = pd.read_csv(cache_file, compression='gzip')\n",
    "else:\n",
    "    print(f\"Cache not found. Reading raw SIAB data: {raw_file}\")\n",
    "    siab = pd.read_csv(raw_file)\n",
    "    siab.to_csv(cache_file, index=False, compression='gzip')\n",
    "    print(f\"Cached SIAB data to: {cache_file}\")\n",
    "\n",
    "print(siab.shape)"
   ]
  },
  {
   "cell_type": "code",
   "execution_count": 10,
   "id": "058d2abb",
   "metadata": {
    "execution": {
     "iopub.execute_input": "2025-08-19T19:10:32.657685Z",
     "iopub.status.busy": "2025-08-19T19:10:32.656956Z",
     "iopub.status.idle": "2025-08-19T19:10:32.882620Z",
     "shell.execute_reply": "2025-08-19T19:10:32.881655Z"
    },
    "papermill": {
     "duration": 0.240361,
     "end_time": "2025-08-19T19:10:32.883851",
     "exception": false,
     "start_time": "2025-08-19T19:10:32.643490",
     "status": "completed"
    },
    "tags": []
   },
   "outputs": [
    {
     "data": {
      "text/html": [
       "<div>\n",
       "<style scoped>\n",
       "    .dataframe tbody tr th:only-of-type {\n",
       "        vertical-align: middle;\n",
       "    }\n",
       "\n",
       "    .dataframe tbody tr th {\n",
       "        vertical-align: top;\n",
       "    }\n",
       "\n",
       "    .dataframe thead th {\n",
       "        text-align: right;\n",
       "    }\n",
       "</style>\n",
       "<table border=\"1\" class=\"dataframe\">\n",
       "  <thead>\n",
       "    <tr style=\"text-align: right;\">\n",
       "      <th></th>\n",
       "      <th>persnr</th>\n",
       "      <th>year</th>\n",
       "      <th>nrEntry</th>\n",
       "      <th>ltue</th>\n",
       "      <th>employed_before</th>\n",
       "      <th>receipt_leh_before</th>\n",
       "      <th>receipt_lhg_before</th>\n",
       "      <th>se_before</th>\n",
       "      <th>ASU_notue_seeking_before</th>\n",
       "      <th>ASU_other_before</th>\n",
       "      <th>...</th>\n",
       "      <th>minijob_tot_dur_byage</th>\n",
       "      <th>ft_tot_dur_byage</th>\n",
       "      <th>befrist_tot_dur_byage</th>\n",
       "      <th>leih_tot_dur_byage</th>\n",
       "      <th>LHG_tot_dur_byage</th>\n",
       "      <th>LEH_tot_dur_byage</th>\n",
       "      <th>almp_tot_dur_byage</th>\n",
       "      <th>almp_aw_tot_dur_byage</th>\n",
       "      <th>se_tot_dur_byage</th>\n",
       "      <th>seeking1_tot_dur_byage</th>\n",
       "    </tr>\n",
       "  </thead>\n",
       "  <tbody>\n",
       "    <tr>\n",
       "      <th>0</th>\n",
       "      <td>7</td>\n",
       "      <td>2015</td>\n",
       "      <td>1</td>\n",
       "      <td>0</td>\n",
       "      <td>1</td>\n",
       "      <td>0</td>\n",
       "      <td>0</td>\n",
       "      <td>0</td>\n",
       "      <td>1</td>\n",
       "      <td>0</td>\n",
       "      <td>...</td>\n",
       "      <td>0.000000</td>\n",
       "      <td>0.000000</td>\n",
       "      <td>15.043478</td>\n",
       "      <td>0.000000</td>\n",
       "      <td>0.000000</td>\n",
       "      <td>0.000000</td>\n",
       "      <td>0.000000</td>\n",
       "      <td>0.000000</td>\n",
       "      <td>0.000000</td>\n",
       "      <td>0.000000</td>\n",
       "    </tr>\n",
       "    <tr>\n",
       "      <th>1</th>\n",
       "      <td>18</td>\n",
       "      <td>2010</td>\n",
       "      <td>1</td>\n",
       "      <td>1</td>\n",
       "      <td>0</td>\n",
       "      <td>0</td>\n",
       "      <td>0</td>\n",
       "      <td>0</td>\n",
       "      <td>0</td>\n",
       "      <td>0</td>\n",
       "      <td>...</td>\n",
       "      <td>0.000000</td>\n",
       "      <td>0.000000</td>\n",
       "      <td>0.000000</td>\n",
       "      <td>0.000000</td>\n",
       "      <td>0.000000</td>\n",
       "      <td>0.000000</td>\n",
       "      <td>0.000000</td>\n",
       "      <td>0.000000</td>\n",
       "      <td>0.000000</td>\n",
       "      <td>0.000000</td>\n",
       "    </tr>\n",
       "    <tr>\n",
       "      <th>2</th>\n",
       "      <td>18</td>\n",
       "      <td>2011</td>\n",
       "      <td>2</td>\n",
       "      <td>0</td>\n",
       "      <td>1</td>\n",
       "      <td>0</td>\n",
       "      <td>1</td>\n",
       "      <td>0</td>\n",
       "      <td>1</td>\n",
       "      <td>0</td>\n",
       "      <td>...</td>\n",
       "      <td>2.714286</td>\n",
       "      <td>2.714286</td>\n",
       "      <td>0.000000</td>\n",
       "      <td>0.000000</td>\n",
       "      <td>10.775510</td>\n",
       "      <td>0.000000</td>\n",
       "      <td>8.367347</td>\n",
       "      <td>0.000000</td>\n",
       "      <td>0.000000</td>\n",
       "      <td>9.836735</td>\n",
       "    </tr>\n",
       "    <tr>\n",
       "      <th>3</th>\n",
       "      <td>18</td>\n",
       "      <td>2012</td>\n",
       "      <td>3</td>\n",
       "      <td>0</td>\n",
       "      <td>1</td>\n",
       "      <td>0</td>\n",
       "      <td>1</td>\n",
       "      <td>0</td>\n",
       "      <td>1</td>\n",
       "      <td>0</td>\n",
       "      <td>...</td>\n",
       "      <td>4.200000</td>\n",
       "      <td>4.200000</td>\n",
       "      <td>0.000000</td>\n",
       "      <td>0.000000</td>\n",
       "      <td>12.100000</td>\n",
       "      <td>0.000000</td>\n",
       "      <td>9.400000</td>\n",
       "      <td>0.000000</td>\n",
       "      <td>0.000000</td>\n",
       "      <td>9.960000</td>\n",
       "    </tr>\n",
       "    <tr>\n",
       "      <th>4</th>\n",
       "      <td>18</td>\n",
       "      <td>2012</td>\n",
       "      <td>4</td>\n",
       "      <td>0</td>\n",
       "      <td>1</td>\n",
       "      <td>0</td>\n",
       "      <td>1</td>\n",
       "      <td>0</td>\n",
       "      <td>1</td>\n",
       "      <td>0</td>\n",
       "      <td>...</td>\n",
       "      <td>5.460000</td>\n",
       "      <td>5.460000</td>\n",
       "      <td>0.000000</td>\n",
       "      <td>0.000000</td>\n",
       "      <td>13.360000</td>\n",
       "      <td>0.000000</td>\n",
       "      <td>10.320000</td>\n",
       "      <td>0.000000</td>\n",
       "      <td>0.000000</td>\n",
       "      <td>10.280000</td>\n",
       "    </tr>\n",
       "    <tr>\n",
       "      <th>...</th>\n",
       "      <td>...</td>\n",
       "      <td>...</td>\n",
       "      <td>...</td>\n",
       "      <td>...</td>\n",
       "      <td>...</td>\n",
       "      <td>...</td>\n",
       "      <td>...</td>\n",
       "      <td>...</td>\n",
       "      <td>...</td>\n",
       "      <td>...</td>\n",
       "      <td>...</td>\n",
       "      <td>...</td>\n",
       "      <td>...</td>\n",
       "      <td>...</td>\n",
       "      <td>...</td>\n",
       "      <td>...</td>\n",
       "      <td>...</td>\n",
       "      <td>...</td>\n",
       "      <td>...</td>\n",
       "      <td>...</td>\n",
       "      <td>...</td>\n",
       "    </tr>\n",
       "    <tr>\n",
       "      <th>643685</th>\n",
       "      <td>1827860</td>\n",
       "      <td>2013</td>\n",
       "      <td>1</td>\n",
       "      <td>0</td>\n",
       "      <td>0</td>\n",
       "      <td>0</td>\n",
       "      <td>1</td>\n",
       "      <td>0</td>\n",
       "      <td>0</td>\n",
       "      <td>1</td>\n",
       "      <td>...</td>\n",
       "      <td>0.000000</td>\n",
       "      <td>0.000000</td>\n",
       "      <td>0.000000</td>\n",
       "      <td>0.000000</td>\n",
       "      <td>0.612903</td>\n",
       "      <td>0.000000</td>\n",
       "      <td>0.000000</td>\n",
       "      <td>0.000000</td>\n",
       "      <td>0.000000</td>\n",
       "      <td>0.000000</td>\n",
       "    </tr>\n",
       "    <tr>\n",
       "      <th>643686</th>\n",
       "      <td>1827860</td>\n",
       "      <td>2015</td>\n",
       "      <td>2</td>\n",
       "      <td>1</td>\n",
       "      <td>0</td>\n",
       "      <td>0</td>\n",
       "      <td>1</td>\n",
       "      <td>0</td>\n",
       "      <td>1</td>\n",
       "      <td>0</td>\n",
       "      <td>...</td>\n",
       "      <td>0.000000</td>\n",
       "      <td>0.000000</td>\n",
       "      <td>0.212121</td>\n",
       "      <td>0.212121</td>\n",
       "      <td>17.363636</td>\n",
       "      <td>0.000000</td>\n",
       "      <td>8.909091</td>\n",
       "      <td>0.000000</td>\n",
       "      <td>0.000000</td>\n",
       "      <td>7.121212</td>\n",
       "    </tr>\n",
       "    <tr>\n",
       "      <th>643687</th>\n",
       "      <td>1827860</td>\n",
       "      <td>2016</td>\n",
       "      <td>3</td>\n",
       "      <td>1</td>\n",
       "      <td>0</td>\n",
       "      <td>0</td>\n",
       "      <td>1</td>\n",
       "      <td>1</td>\n",
       "      <td>0</td>\n",
       "      <td>1</td>\n",
       "      <td>...</td>\n",
       "      <td>0.000000</td>\n",
       "      <td>0.000000</td>\n",
       "      <td>0.294118</td>\n",
       "      <td>0.205882</td>\n",
       "      <td>34.705882</td>\n",
       "      <td>0.000000</td>\n",
       "      <td>10.352941</td>\n",
       "      <td>1.705882</td>\n",
       "      <td>1.705882</td>\n",
       "      <td>23.911765</td>\n",
       "    </tr>\n",
       "    <tr>\n",
       "      <th>643688</th>\n",
       "      <td>1827869</td>\n",
       "      <td>2013</td>\n",
       "      <td>1</td>\n",
       "      <td>1</td>\n",
       "      <td>1</td>\n",
       "      <td>0</td>\n",
       "      <td>0</td>\n",
       "      <td>0</td>\n",
       "      <td>1</td>\n",
       "      <td>0</td>\n",
       "      <td>...</td>\n",
       "      <td>0.000000</td>\n",
       "      <td>0.000000</td>\n",
       "      <td>0.000000</td>\n",
       "      <td>0.000000</td>\n",
       "      <td>0.000000</td>\n",
       "      <td>0.525424</td>\n",
       "      <td>0.000000</td>\n",
       "      <td>0.000000</td>\n",
       "      <td>0.000000</td>\n",
       "      <td>0.000000</td>\n",
       "    </tr>\n",
       "    <tr>\n",
       "      <th>643689</th>\n",
       "      <td>1827869</td>\n",
       "      <td>2014</td>\n",
       "      <td>2</td>\n",
       "      <td>0</td>\n",
       "      <td>0</td>\n",
       "      <td>1</td>\n",
       "      <td>0</td>\n",
       "      <td>0</td>\n",
       "      <td>1</td>\n",
       "      <td>0</td>\n",
       "      <td>...</td>\n",
       "      <td>0.000000</td>\n",
       "      <td>0.666667</td>\n",
       "      <td>0.666667</td>\n",
       "      <td>0.000000</td>\n",
       "      <td>0.000000</td>\n",
       "      <td>8.950000</td>\n",
       "      <td>1.033333</td>\n",
       "      <td>0.083333</td>\n",
       "      <td>0.083333</td>\n",
       "      <td>8.133333</td>\n",
       "    </tr>\n",
       "  </tbody>\n",
       "</table>\n",
       "<p>643690 rows × 164 columns</p>\n",
       "</div>"
      ],
      "text/plain": [
       "         persnr  year  nrEntry  ltue  employed_before  receipt_leh_before  \\\n",
       "0             7  2015        1     0                1                   0   \n",
       "1            18  2010        1     1                0                   0   \n",
       "2            18  2011        2     0                1                   0   \n",
       "3            18  2012        3     0                1                   0   \n",
       "4            18  2012        4     0                1                   0   \n",
       "...         ...   ...      ...   ...              ...                 ...   \n",
       "643685  1827860  2013        1     0                0                   0   \n",
       "643686  1827860  2015        2     1                0                   0   \n",
       "643687  1827860  2016        3     1                0                   0   \n",
       "643688  1827869  2013        1     1                1                   0   \n",
       "643689  1827869  2014        2     0                0                   1   \n",
       "\n",
       "        receipt_lhg_before  se_before  ASU_notue_seeking_before  \\\n",
       "0                        0          0                         1   \n",
       "1                        0          0                         0   \n",
       "2                        1          0                         1   \n",
       "3                        1          0                         1   \n",
       "4                        1          0                         1   \n",
       "...                    ...        ...                       ...   \n",
       "643685                   1          0                         0   \n",
       "643686                   1          0                         1   \n",
       "643687                   1          1                         0   \n",
       "643688                   0          0                         1   \n",
       "643689                   0          0                         1   \n",
       "\n",
       "        ASU_other_before  ...  minijob_tot_dur_byage  ft_tot_dur_byage  \\\n",
       "0                      0  ...               0.000000          0.000000   \n",
       "1                      0  ...               0.000000          0.000000   \n",
       "2                      0  ...               2.714286          2.714286   \n",
       "3                      0  ...               4.200000          4.200000   \n",
       "4                      0  ...               5.460000          5.460000   \n",
       "...                  ...  ...                    ...               ...   \n",
       "643685                 1  ...               0.000000          0.000000   \n",
       "643686                 0  ...               0.000000          0.000000   \n",
       "643687                 1  ...               0.000000          0.000000   \n",
       "643688                 0  ...               0.000000          0.000000   \n",
       "643689                 0  ...               0.000000          0.666667   \n",
       "\n",
       "        befrist_tot_dur_byage  leih_tot_dur_byage  LHG_tot_dur_byage  \\\n",
       "0                   15.043478            0.000000           0.000000   \n",
       "1                    0.000000            0.000000           0.000000   \n",
       "2                    0.000000            0.000000          10.775510   \n",
       "3                    0.000000            0.000000          12.100000   \n",
       "4                    0.000000            0.000000          13.360000   \n",
       "...                       ...                 ...                ...   \n",
       "643685               0.000000            0.000000           0.612903   \n",
       "643686               0.212121            0.212121          17.363636   \n",
       "643687               0.294118            0.205882          34.705882   \n",
       "643688               0.000000            0.000000           0.000000   \n",
       "643689               0.666667            0.000000           0.000000   \n",
       "\n",
       "        LEH_tot_dur_byage  almp_tot_dur_byage  almp_aw_tot_dur_byage  \\\n",
       "0                0.000000            0.000000               0.000000   \n",
       "1                0.000000            0.000000               0.000000   \n",
       "2                0.000000            8.367347               0.000000   \n",
       "3                0.000000            9.400000               0.000000   \n",
       "4                0.000000           10.320000               0.000000   \n",
       "...                   ...                 ...                    ...   \n",
       "643685           0.000000            0.000000               0.000000   \n",
       "643686           0.000000            8.909091               0.000000   \n",
       "643687           0.000000           10.352941               1.705882   \n",
       "643688           0.525424            0.000000               0.000000   \n",
       "643689           8.950000            1.033333               0.083333   \n",
       "\n",
       "        se_tot_dur_byage  seeking1_tot_dur_byage  \n",
       "0               0.000000                0.000000  \n",
       "1               0.000000                0.000000  \n",
       "2               0.000000                9.836735  \n",
       "3               0.000000                9.960000  \n",
       "4               0.000000               10.280000  \n",
       "...                  ...                     ...  \n",
       "643685          0.000000                0.000000  \n",
       "643686          0.000000                7.121212  \n",
       "643687          1.705882               23.911765  \n",
       "643688          0.000000                0.000000  \n",
       "643689          0.083333                8.133333  \n",
       "\n",
       "[643690 rows x 164 columns]"
      ]
     },
     "execution_count": 10,
     "metadata": {},
     "output_type": "execute_result"
    }
   ],
   "source": [
    "siab"
   ]
  },
  {
   "cell_type": "markdown",
   "id": "1f87e805",
   "metadata": {
    "papermill": {
     "duration": 0.019226,
     "end_time": "2025-08-19T19:10:32.934866",
     "exception": false,
     "start_time": "2025-08-19T19:10:32.915640",
     "status": "completed"
    },
    "tags": []
   },
   "source": [
    "# Splitting Data and Setting Training Data Size"
   ]
  },
  {
   "cell_type": "code",
   "execution_count": 11,
   "id": "910ae358",
   "metadata": {
    "execution": {
     "iopub.execute_input": "2025-08-19T19:10:32.956099Z",
     "iopub.status.busy": "2025-08-19T19:10:32.955565Z",
     "iopub.status.idle": "2025-08-19T19:10:34.009141Z",
     "shell.execute_reply": "2025-08-19T19:10:34.008318Z"
    },
    "papermill": {
     "duration": 1.067547,
     "end_time": "2025-08-19T19:10:34.012177",
     "exception": false,
     "start_time": "2025-08-19T19:10:32.944630",
     "status": "completed"
    },
    "tags": []
   },
   "outputs": [],
   "source": [
    "from fairness_multiverse.universe import sample_by_year_size\n",
    "\n",
    "siab_train = sample_by_year_size(siab,\n",
    "                               training_year=universe[\"training_year\"],\n",
    "                               training_size=universe[\"training_size\"])"
   ]
  },
  {
   "cell_type": "code",
   "execution_count": 12,
   "id": "919c8ff5",
   "metadata": {
    "execution": {
     "iopub.execute_input": "2025-08-19T19:10:34.047460Z",
     "iopub.status.busy": "2025-08-19T19:10:34.046332Z",
     "iopub.status.idle": "2025-08-19T19:10:34.058269Z",
     "shell.execute_reply": "2025-08-19T19:10:34.056683Z"
    },
    "papermill": {
     "duration": 0.026749,
     "end_time": "2025-08-19T19:10:34.059949",
     "exception": false,
     "start_time": "2025-08-19T19:10:34.033200",
     "status": "completed"
    },
    "tags": []
   },
   "outputs": [
    {
     "data": {
      "text/plain": [
       "(1000, 164)"
      ]
     },
     "execution_count": 12,
     "metadata": {},
     "output_type": "execute_result"
    }
   ],
   "source": [
    "siab_train.shape"
   ]
  },
  {
   "cell_type": "code",
   "execution_count": 13,
   "id": "feb13bf4",
   "metadata": {
    "execution": {
     "iopub.execute_input": "2025-08-19T19:10:34.104735Z",
     "iopub.status.busy": "2025-08-19T19:10:34.103457Z",
     "iopub.status.idle": "2025-08-19T19:10:34.118585Z",
     "shell.execute_reply": "2025-08-19T19:10:34.117392Z"
    },
    "papermill": {
     "duration": 0.039779,
     "end_time": "2025-08-19T19:10:34.121176",
     "exception": false,
     "start_time": "2025-08-19T19:10:34.081397",
     "status": "completed"
    },
    "tags": []
   },
   "outputs": [
    {
     "data": {
      "text/plain": [
       "year\n",
       "2010    200\n",
       "2011    200\n",
       "2012    200\n",
       "2013    200\n",
       "2014    200\n",
       "dtype: int64"
      ]
     },
     "metadata": {},
     "output_type": "display_data"
    }
   ],
   "source": [
    "display(siab_train.groupby(\"year\").size())"
   ]
  },
  {
   "cell_type": "code",
   "execution_count": 14,
   "id": "0997782f",
   "metadata": {
    "execution": {
     "iopub.execute_input": "2025-08-19T19:10:34.149695Z",
     "iopub.status.busy": "2025-08-19T19:10:34.147717Z",
     "iopub.status.idle": "2025-08-19T19:10:34.468658Z",
     "shell.execute_reply": "2025-08-19T19:10:34.467943Z"
    },
    "papermill": {
     "duration": 0.335178,
     "end_time": "2025-08-19T19:10:34.470416",
     "exception": false,
     "start_time": "2025-08-19T19:10:34.135238",
     "status": "completed"
    },
    "tags": []
   },
   "outputs": [],
   "source": [
    "#siab_train = siab_s[siab_s.year < 2015]\n",
    "siab_calib = siab[siab.year == 2015]\n",
    "siab_test = siab[siab.year == 2016]"
   ]
  },
  {
   "cell_type": "code",
   "execution_count": 15,
   "id": "2c1e4012",
   "metadata": {
    "execution": {
     "iopub.execute_input": "2025-08-19T19:10:34.506814Z",
     "iopub.status.busy": "2025-08-19T19:10:34.505632Z",
     "iopub.status.idle": "2025-08-19T19:10:34.514526Z",
     "shell.execute_reply": "2025-08-19T19:10:34.512949Z"
    },
    "papermill": {
     "duration": 0.036793,
     "end_time": "2025-08-19T19:10:34.518490",
     "exception": false,
     "start_time": "2025-08-19T19:10:34.481697",
     "status": "completed"
    },
    "tags": []
   },
   "outputs": [],
   "source": [
    "#siab_calib.shape"
   ]
  },
  {
   "cell_type": "code",
   "execution_count": 16,
   "id": "f66b54ca",
   "metadata": {
    "execution": {
     "iopub.execute_input": "2025-08-19T19:10:34.568113Z",
     "iopub.status.busy": "2025-08-19T19:10:34.567739Z",
     "iopub.status.idle": "2025-08-19T19:10:34.572517Z",
     "shell.execute_reply": "2025-08-19T19:10:34.571750Z"
    },
    "papermill": {
     "duration": 0.031353,
     "end_time": "2025-08-19T19:10:34.573992",
     "exception": false,
     "start_time": "2025-08-19T19:10:34.542639",
     "status": "completed"
    },
    "tags": []
   },
   "outputs": [],
   "source": [
    "#siab_test.shape"
   ]
  },
  {
   "cell_type": "code",
   "execution_count": 17,
   "id": "27e4384d",
   "metadata": {
    "execution": {
     "iopub.execute_input": "2025-08-19T19:10:34.599284Z",
     "iopub.status.busy": "2025-08-19T19:10:34.598908Z",
     "iopub.status.idle": "2025-08-19T19:10:34.605753Z",
     "shell.execute_reply": "2025-08-19T19:10:34.604957Z"
    },
    "papermill": {
     "duration": 0.022113,
     "end_time": "2025-08-19T19:10:34.607031",
     "exception": false,
     "start_time": "2025-08-19T19:10:34.584918",
     "status": "completed"
    },
    "tags": []
   },
   "outputs": [],
   "source": [
    "X_train = siab_train.iloc[:,4:164]\n",
    "y_train = siab_train.iloc[:, [3]]"
   ]
  },
  {
   "cell_type": "code",
   "execution_count": 18,
   "id": "08ee8389",
   "metadata": {
    "execution": {
     "iopub.execute_input": "2025-08-19T19:10:34.631960Z",
     "iopub.status.busy": "2025-08-19T19:10:34.631319Z",
     "iopub.status.idle": "2025-08-19T19:10:34.718079Z",
     "shell.execute_reply": "2025-08-19T19:10:34.717077Z"
    },
    "papermill": {
     "duration": 0.100956,
     "end_time": "2025-08-19T19:10:34.720982",
     "exception": false,
     "start_time": "2025-08-19T19:10:34.620026",
     "status": "completed"
    },
    "tags": []
   },
   "outputs": [],
   "source": [
    "X_calib = siab_calib.iloc[:,4:164]\n",
    "y_calib = siab_calib.iloc[:, [3]]"
   ]
  },
  {
   "cell_type": "code",
   "execution_count": 19,
   "id": "b7ff42e0",
   "metadata": {
    "execution": {
     "iopub.execute_input": "2025-08-19T19:10:34.761803Z",
     "iopub.status.busy": "2025-08-19T19:10:34.760328Z",
     "iopub.status.idle": "2025-08-19T19:10:34.823846Z",
     "shell.execute_reply": "2025-08-19T19:10:34.822780Z"
    },
    "papermill": {
     "duration": 0.080586,
     "end_time": "2025-08-19T19:10:34.825414",
     "exception": false,
     "start_time": "2025-08-19T19:10:34.744828",
     "status": "completed"
    },
    "tags": []
   },
   "outputs": [],
   "source": [
    "X_test = siab_test.iloc[:,4:164]\n",
    "y_true = siab_test.iloc[:, [3]]"
   ]
  },
  {
   "cell_type": "code",
   "execution_count": 20,
   "id": "0275101e",
   "metadata": {
    "execution": {
     "iopub.execute_input": "2025-08-19T19:10:34.850013Z",
     "iopub.status.busy": "2025-08-19T19:10:34.849565Z",
     "iopub.status.idle": "2025-08-19T19:10:34.965084Z",
     "shell.execute_reply": "2025-08-19T19:10:34.963877Z"
    },
    "papermill": {
     "duration": 0.129099,
     "end_time": "2025-08-19T19:10:34.966945",
     "exception": false,
     "start_time": "2025-08-19T19:10:34.837846",
     "status": "completed"
    },
    "tags": []
   },
   "outputs": [],
   "source": [
    "# Auxiliary data needed downstream in the pipeline\n",
    "\n",
    "org_train = X_train.copy()\n",
    "org_test = X_test.copy()\n",
    "org_calib = X_calib.copy()"
   ]
  },
  {
   "cell_type": "markdown",
   "id": "b461e618",
   "metadata": {
    "papermill": {
     "duration": 0.010336,
     "end_time": "2025-08-19T19:10:34.988146",
     "exception": false,
     "start_time": "2025-08-19T19:10:34.977810",
     "status": "completed"
    },
    "tags": []
   },
   "source": [
    "# Preprocessing Data"
   ]
  },
  {
   "cell_type": "code",
   "execution_count": 21,
   "id": "78e74c4b",
   "metadata": {
    "execution": {
     "iopub.execute_input": "2025-08-19T19:10:35.010377Z",
     "iopub.status.busy": "2025-08-19T19:10:35.009866Z",
     "iopub.status.idle": "2025-08-19T19:10:35.016053Z",
     "shell.execute_reply": "2025-08-19T19:10:35.015109Z"
    },
    "papermill": {
     "duration": 0.018866,
     "end_time": "2025-08-19T19:10:35.017375",
     "exception": false,
     "start_time": "2025-08-19T19:10:34.998509",
     "status": "completed"
    },
    "tags": []
   },
   "outputs": [],
   "source": [
    "# EXCLUDE PROTECTED FEATURES\n",
    "# --------------------------\n",
    "\n",
    "excluded_features = universe[\"exclude_features\"].split(\"-\")\n",
    "excluded_features_dictionary = {\n",
    "    \"nationality\": [\"maxdeutsch1\", \"maxdeutsch.Missing.\"],\n",
    "    \"sex\": [\"frau1\"],\n",
    "    \"age\": [\"age\"],\n",
    "}"
   ]
  },
  {
   "cell_type": "code",
   "execution_count": 22,
   "id": "f8e63555",
   "metadata": {
    "execution": {
     "iopub.execute_input": "2025-08-19T19:10:35.040444Z",
     "iopub.status.busy": "2025-08-19T19:10:35.040041Z",
     "iopub.status.idle": "2025-08-19T19:10:35.044880Z",
     "shell.execute_reply": "2025-08-19T19:10:35.044082Z"
    },
    "papermill": {
     "duration": 0.017481,
     "end_time": "2025-08-19T19:10:35.046146",
     "exception": false,
     "start_time": "2025-08-19T19:10:35.028665",
     "status": "completed"
    },
    "tags": []
   },
   "outputs": [],
   "source": [
    "excluded_features_columns = [\n",
    "    excluded_features_dictionary[f] for f in excluded_features if len(f) > 0 and f != \"none\"\n",
    "]"
   ]
  },
  {
   "cell_type": "code",
   "execution_count": 23,
   "id": "da781f7c",
   "metadata": {
    "execution": {
     "iopub.execute_input": "2025-08-19T19:10:35.068196Z",
     "iopub.status.busy": "2025-08-19T19:10:35.067815Z",
     "iopub.status.idle": "2025-08-19T19:10:35.072423Z",
     "shell.execute_reply": "2025-08-19T19:10:35.071618Z"
    },
    "papermill": {
     "duration": 0.017085,
     "end_time": "2025-08-19T19:10:35.073683",
     "exception": false,
     "start_time": "2025-08-19T19:10:35.056598",
     "status": "completed"
    },
    "tags": []
   },
   "outputs": [],
   "source": [
    "from fairness_multiverse.universe import flatten_once\n",
    "\n",
    "excluded_features_columns = flatten_once(excluded_features_columns)"
   ]
  },
  {
   "cell_type": "code",
   "execution_count": 24,
   "id": "37fef0f0",
   "metadata": {
    "execution": {
     "iopub.execute_input": "2025-08-19T19:10:35.100135Z",
     "iopub.status.busy": "2025-08-19T19:10:35.099840Z",
     "iopub.status.idle": "2025-08-19T19:10:35.107639Z",
     "shell.execute_reply": "2025-08-19T19:10:35.106688Z"
    },
    "papermill": {
     "duration": 0.022922,
     "end_time": "2025-08-19T19:10:35.108990",
     "exception": false,
     "start_time": "2025-08-19T19:10:35.086068",
     "status": "completed"
    },
    "tags": []
   },
   "outputs": [
    {
     "name": "stdout",
     "output_type": "stream",
     "text": [
      "Dropping features: ['frau1']\n"
     ]
    }
   ],
   "source": [
    "if len(excluded_features_columns) > 0:\n",
    "    print(f\"Dropping features: {excluded_features_columns}\")\n",
    "    X_train.drop(excluded_features_columns, axis=1, inplace=True)"
   ]
  },
  {
   "cell_type": "code",
   "execution_count": 25,
   "id": "d029e3e9",
   "metadata": {
    "execution": {
     "iopub.execute_input": "2025-08-19T19:10:35.132137Z",
     "iopub.status.busy": "2025-08-19T19:10:35.131558Z",
     "iopub.status.idle": "2025-08-19T19:10:35.190081Z",
     "shell.execute_reply": "2025-08-19T19:10:35.189265Z"
    },
    "papermill": {
     "duration": 0.073771,
     "end_time": "2025-08-19T19:10:35.193848",
     "exception": false,
     "start_time": "2025-08-19T19:10:35.120077",
     "status": "completed"
    },
    "tags": []
   },
   "outputs": [
    {
     "name": "stdout",
     "output_type": "stream",
     "text": [
      "Dropping features: ['frau1']\n"
     ]
    }
   ],
   "source": [
    "if len(excluded_features_columns) > 0:\n",
    "    print(f\"Dropping features: {excluded_features_columns}\")\n",
    "    X_test.drop(excluded_features_columns, axis=1, inplace=True)"
   ]
  },
  {
   "cell_type": "code",
   "execution_count": 26,
   "id": "01d571f0",
   "metadata": {
    "execution": {
     "iopub.execute_input": "2025-08-19T19:10:35.240086Z",
     "iopub.status.busy": "2025-08-19T19:10:35.239424Z",
     "iopub.status.idle": "2025-08-19T19:10:35.311879Z",
     "shell.execute_reply": "2025-08-19T19:10:35.298028Z"
    },
    "papermill": {
     "duration": 0.097859,
     "end_time": "2025-08-19T19:10:35.313874",
     "exception": false,
     "start_time": "2025-08-19T19:10:35.216015",
     "status": "completed"
    },
    "tags": []
   },
   "outputs": [
    {
     "name": "stdout",
     "output_type": "stream",
     "text": [
      "Dropping features: ['frau1']\n"
     ]
    }
   ],
   "source": [
    "if len(excluded_features_columns) > 0:\n",
    "    print(f\"Dropping features: {excluded_features_columns}\")\n",
    "    X_calib.drop(excluded_features_columns, axis=1, inplace=True)"
   ]
  },
  {
   "cell_type": "code",
   "execution_count": 27,
   "id": "3037356e",
   "metadata": {
    "execution": {
     "iopub.execute_input": "2025-08-19T19:10:35.362344Z",
     "iopub.status.busy": "2025-08-19T19:10:35.361790Z",
     "iopub.status.idle": "2025-08-19T19:10:35.369001Z",
     "shell.execute_reply": "2025-08-19T19:10:35.367571Z"
    },
    "papermill": {
     "duration": 0.040828,
     "end_time": "2025-08-19T19:10:35.371226",
     "exception": false,
     "start_time": "2025-08-19T19:10:35.330398",
     "status": "completed"
    },
    "tags": []
   },
   "outputs": [],
   "source": [
    "# EXCLUDE CERTAIN SUBGROUPS\n",
    "# -------------------------\n",
    "\n",
    "mode = universe.get(\"exclude_subgroups\", \"keep-all\") # Defaults to \"keep-all\" if the key is missing."
   ]
  },
  {
   "cell_type": "code",
   "execution_count": 28,
   "id": "9d1e63fd",
   "metadata": {
    "execution": {
     "iopub.execute_input": "2025-08-19T19:10:35.421750Z",
     "iopub.status.busy": "2025-08-19T19:10:35.421165Z",
     "iopub.status.idle": "2025-08-19T19:10:35.617127Z",
     "shell.execute_reply": "2025-08-19T19:10:35.615154Z"
    },
    "papermill": {
     "duration": 0.230235,
     "end_time": "2025-08-19T19:10:35.619039",
     "exception": false,
     "start_time": "2025-08-19T19:10:35.388804",
     "status": "completed"
    },
    "tags": []
   },
   "outputs": [],
   "source": [
    "if mode == \"keep-all\":\n",
    "    keep_mask = pd.Series(True, index=org_train.index)\n",
    "\n",
    "elif mode == \"drop-non-german\":\n",
    "    keep_mask = (org_train[\"maxdeutsch1\"] == 1) & (org_train[\"maxdeutsch.Missing.\"] == 0)\n",
    "\n",
    "else:\n",
    "    raise ValueError(f\"Unsupported mode for exclude_subgroups: {mode}\")"
   ]
  },
  {
   "cell_type": "code",
   "execution_count": 29,
   "id": "d3b65474",
   "metadata": {
    "execution": {
     "iopub.execute_input": "2025-08-19T19:10:35.657254Z",
     "iopub.status.busy": "2025-08-19T19:10:35.653580Z",
     "iopub.status.idle": "2025-08-19T19:10:35.666975Z",
     "shell.execute_reply": "2025-08-19T19:10:35.665171Z"
    },
    "papermill": {
     "duration": 0.031407,
     "end_time": "2025-08-19T19:10:35.669337",
     "exception": false,
     "start_time": "2025-08-19T19:10:35.637930",
     "status": "completed"
    },
    "tags": []
   },
   "outputs": [],
   "source": [
    "n_drop = (~keep_mask).sum() # Calculates how many rows are set to be dropped\n",
    "if n_drop > 0:\n",
    "    pct = n_drop / len(keep_mask) * 100\n",
    "    print(f\"Dropping {n_drop} rows ({pct:.2f}%) where mode='{mode}'\")"
   ]
  },
  {
   "cell_type": "code",
   "execution_count": 30,
   "id": "f44389b3",
   "metadata": {
    "execution": {
     "iopub.execute_input": "2025-08-19T19:10:35.698624Z",
     "iopub.status.busy": "2025-08-19T19:10:35.697102Z",
     "iopub.status.idle": "2025-08-19T19:10:35.707855Z",
     "shell.execute_reply": "2025-08-19T19:10:35.706055Z"
    },
    "papermill": {
     "duration": 0.026333,
     "end_time": "2025-08-19T19:10:35.709707",
     "exception": false,
     "start_time": "2025-08-19T19:10:35.683374",
     "status": "completed"
    },
    "tags": []
   },
   "outputs": [],
   "source": [
    "X_train = X_train[keep_mask]"
   ]
  },
  {
   "cell_type": "code",
   "execution_count": 31,
   "id": "ceca8c2a",
   "metadata": {
    "execution": {
     "iopub.execute_input": "2025-08-19T19:10:35.738077Z",
     "iopub.status.busy": "2025-08-19T19:10:35.736716Z",
     "iopub.status.idle": "2025-08-19T19:10:35.746361Z",
     "shell.execute_reply": "2025-08-19T19:10:35.744618Z"
    },
    "papermill": {
     "duration": 0.024534,
     "end_time": "2025-08-19T19:10:35.747886",
     "exception": false,
     "start_time": "2025-08-19T19:10:35.723352",
     "status": "completed"
    },
    "tags": []
   },
   "outputs": [],
   "source": [
    "y_train = y_train[keep_mask]"
   ]
  },
  {
   "cell_type": "markdown",
   "id": "04d31e2f",
   "metadata": {
    "papermill": {
     "duration": 0.010795,
     "end_time": "2025-08-19T19:10:35.773310",
     "exception": false,
     "start_time": "2025-08-19T19:10:35.762515",
     "status": "completed"
    },
    "tags": []
   },
   "source": [
    "# Model Training"
   ]
  },
  {
   "cell_type": "code",
   "execution_count": 32,
   "id": "db991733",
   "metadata": {
    "execution": {
     "iopub.execute_input": "2025-08-19T19:10:35.798645Z",
     "iopub.status.busy": "2025-08-19T19:10:35.796718Z",
     "iopub.status.idle": "2025-08-19T19:10:35.909735Z",
     "shell.execute_reply": "2025-08-19T19:10:35.908902Z"
    },
    "papermill": {
     "duration": 0.128435,
     "end_time": "2025-08-19T19:10:35.912790",
     "exception": false,
     "start_time": "2025-08-19T19:10:35.784355",
     "status": "completed"
    },
    "tags": []
   },
   "outputs": [],
   "source": [
    "from sklearn.linear_model import LogisticRegression\n",
    "from sklearn.ensemble import GradientBoostingClassifier, RandomForestClassifier\n",
    "\n",
    "if (universe[\"model\"] == \"logreg\"):\n",
    "    model = LogisticRegression() #penalty=\"none\", solver=\"newton-cg\", max_iter=1)\n",
    "elif (universe[\"model\"] == \"penalized_logreg\"):\n",
    "    model = LogisticRegression(penalty=\"l2\", C=0.1) #, solver=\"newton-cg\", max_iter=1)\n",
    "elif (universe[\"model\"] == \"rf\"):\n",
    "    model = RandomForestClassifier() # n_estimators=100, n_jobs=-1\n",
    "elif (universe[\"model\"] == \"gbm\"):\n",
    "    model = GradientBoostingClassifier()\n",
    "elif (universe[\"model\"] == \"elasticnet\"):\n",
    "    model = LogisticRegression(penalty = 'elasticnet', solver = 'saga', l1_ratio = 0.5) # max_iter=5000\n",
    "else:\n",
    "    raise \"Unsupported universe.model\""
   ]
  },
  {
   "cell_type": "code",
   "execution_count": 33,
   "id": "a4b5cd25",
   "metadata": {
    "execution": {
     "iopub.execute_input": "2025-08-19T19:10:35.959083Z",
     "iopub.status.busy": "2025-08-19T19:10:35.957529Z",
     "iopub.status.idle": "2025-08-19T19:10:36.066264Z",
     "shell.execute_reply": "2025-08-19T19:10:36.064610Z"
    },
    "papermill": {
     "duration": 0.125759,
     "end_time": "2025-08-19T19:10:36.069459",
     "exception": false,
     "start_time": "2025-08-19T19:10:35.943700",
     "status": "completed"
    },
    "tags": []
   },
   "outputs": [],
   "source": [
    "from sklearn.pipeline import Pipeline\n",
    "from sklearn.preprocessing import StandardScaler\n",
    "\n",
    "model = Pipeline([\n",
    "    #(\"continuous_processor\", continuous_processor),\n",
    "    #(\"categorical_preprocessor\", categorical_preprocessor),\n",
    "    (\"scale\", StandardScaler() if universe[\"scale\"] == \"scale\" else None), \n",
    "    (\"model\", model),\n",
    "])"
   ]
  },
  {
   "cell_type": "code",
   "execution_count": 34,
   "id": "283a904d",
   "metadata": {
    "execution": {
     "iopub.execute_input": "2025-08-19T19:10:36.104976Z",
     "iopub.status.busy": "2025-08-19T19:10:36.103819Z",
     "iopub.status.idle": "2025-08-19T19:10:36.441069Z",
     "shell.execute_reply": "2025-08-19T19:10:36.440122Z"
    },
    "papermill": {
     "duration": 0.352872,
     "end_time": "2025-08-19T19:10:36.443352",
     "exception": false,
     "start_time": "2025-08-19T19:10:36.090480",
     "status": "completed"
    },
    "tags": []
   },
   "outputs": [
    {
     "data": {
      "text/html": [
       "<style>#sk-container-id-1 {color: black;background-color: white;}#sk-container-id-1 pre{padding: 0;}#sk-container-id-1 div.sk-toggleable {background-color: white;}#sk-container-id-1 label.sk-toggleable__label {cursor: pointer;display: block;width: 100%;margin-bottom: 0;padding: 0.3em;box-sizing: border-box;text-align: center;}#sk-container-id-1 label.sk-toggleable__label-arrow:before {content: \"▸\";float: left;margin-right: 0.25em;color: #696969;}#sk-container-id-1 label.sk-toggleable__label-arrow:hover:before {color: black;}#sk-container-id-1 div.sk-estimator:hover label.sk-toggleable__label-arrow:before {color: black;}#sk-container-id-1 div.sk-toggleable__content {max-height: 0;max-width: 0;overflow: hidden;text-align: left;background-color: #f0f8ff;}#sk-container-id-1 div.sk-toggleable__content pre {margin: 0.2em;color: black;border-radius: 0.25em;background-color: #f0f8ff;}#sk-container-id-1 input.sk-toggleable__control:checked~div.sk-toggleable__content {max-height: 200px;max-width: 100%;overflow: auto;}#sk-container-id-1 input.sk-toggleable__control:checked~label.sk-toggleable__label-arrow:before {content: \"▾\";}#sk-container-id-1 div.sk-estimator input.sk-toggleable__control:checked~label.sk-toggleable__label {background-color: #d4ebff;}#sk-container-id-1 div.sk-label input.sk-toggleable__control:checked~label.sk-toggleable__label {background-color: #d4ebff;}#sk-container-id-1 input.sk-hidden--visually {border: 0;clip: rect(1px 1px 1px 1px);clip: rect(1px, 1px, 1px, 1px);height: 1px;margin: -1px;overflow: hidden;padding: 0;position: absolute;width: 1px;}#sk-container-id-1 div.sk-estimator {font-family: monospace;background-color: #f0f8ff;border: 1px dotted black;border-radius: 0.25em;box-sizing: border-box;margin-bottom: 0.5em;}#sk-container-id-1 div.sk-estimator:hover {background-color: #d4ebff;}#sk-container-id-1 div.sk-parallel-item::after {content: \"\";width: 100%;border-bottom: 1px solid gray;flex-grow: 1;}#sk-container-id-1 div.sk-label:hover label.sk-toggleable__label {background-color: #d4ebff;}#sk-container-id-1 div.sk-serial::before {content: \"\";position: absolute;border-left: 1px solid gray;box-sizing: border-box;top: 0;bottom: 0;left: 50%;z-index: 0;}#sk-container-id-1 div.sk-serial {display: flex;flex-direction: column;align-items: center;background-color: white;padding-right: 0.2em;padding-left: 0.2em;position: relative;}#sk-container-id-1 div.sk-item {position: relative;z-index: 1;}#sk-container-id-1 div.sk-parallel {display: flex;align-items: stretch;justify-content: center;background-color: white;position: relative;}#sk-container-id-1 div.sk-item::before, #sk-container-id-1 div.sk-parallel-item::before {content: \"\";position: absolute;border-left: 1px solid gray;box-sizing: border-box;top: 0;bottom: 0;left: 50%;z-index: -1;}#sk-container-id-1 div.sk-parallel-item {display: flex;flex-direction: column;z-index: 1;position: relative;background-color: white;}#sk-container-id-1 div.sk-parallel-item:first-child::after {align-self: flex-end;width: 50%;}#sk-container-id-1 div.sk-parallel-item:last-child::after {align-self: flex-start;width: 50%;}#sk-container-id-1 div.sk-parallel-item:only-child::after {width: 0;}#sk-container-id-1 div.sk-dashed-wrapped {border: 1px dashed gray;margin: 0 0.4em 0.5em 0.4em;box-sizing: border-box;padding-bottom: 0.4em;background-color: white;}#sk-container-id-1 div.sk-label label {font-family: monospace;font-weight: bold;display: inline-block;line-height: 1.2em;}#sk-container-id-1 div.sk-label-container {text-align: center;}#sk-container-id-1 div.sk-container {/* jupyter's `normalize.less` sets `[hidden] { display: none; }` but bootstrap.min.css set `[hidden] { display: none !important; }` so we also need the `!important` here to be able to override the default hidden behavior on the sphinx rendered scikit-learn.org. See: https://github.com/scikit-learn/scikit-learn/issues/21755 */display: inline-block !important;position: relative;}#sk-container-id-1 div.sk-text-repr-fallback {display: none;}</style><div id=\"sk-container-id-1\" class=\"sk-top-container\"><div class=\"sk-text-repr-fallback\"><pre>Pipeline(steps=[(&#x27;scale&#x27;, None), (&#x27;model&#x27;, RandomForestClassifier())])</pre><b>In a Jupyter environment, please rerun this cell to show the HTML representation or trust the notebook. <br />On GitHub, the HTML representation is unable to render, please try loading this page with nbviewer.org.</b></div><div class=\"sk-container\" hidden><div class=\"sk-item sk-dashed-wrapped\"><div class=\"sk-label-container\"><div class=\"sk-label sk-toggleable\"><input class=\"sk-toggleable__control sk-hidden--visually\" id=\"sk-estimator-id-1\" type=\"checkbox\" ><label for=\"sk-estimator-id-1\" class=\"sk-toggleable__label sk-toggleable__label-arrow\">Pipeline</label><div class=\"sk-toggleable__content\"><pre>Pipeline(steps=[(&#x27;scale&#x27;, None), (&#x27;model&#x27;, RandomForestClassifier())])</pre></div></div></div><div class=\"sk-serial\"><div class=\"sk-item\"><div class=\"sk-estimator sk-toggleable\"><input class=\"sk-toggleable__control sk-hidden--visually\" id=\"sk-estimator-id-2\" type=\"checkbox\" ><label for=\"sk-estimator-id-2\" class=\"sk-toggleable__label sk-toggleable__label-arrow\">None</label><div class=\"sk-toggleable__content\"><pre>None</pre></div></div></div><div class=\"sk-item\"><div class=\"sk-estimator sk-toggleable\"><input class=\"sk-toggleable__control sk-hidden--visually\" id=\"sk-estimator-id-3\" type=\"checkbox\" ><label for=\"sk-estimator-id-3\" class=\"sk-toggleable__label sk-toggleable__label-arrow\">RandomForestClassifier</label><div class=\"sk-toggleable__content\"><pre>RandomForestClassifier()</pre></div></div></div></div></div></div></div>"
      ],
      "text/plain": [
       "Pipeline(steps=[('scale', None), ('model', RandomForestClassifier())])"
      ]
     },
     "execution_count": 34,
     "metadata": {},
     "output_type": "execute_result"
    }
   ],
   "source": [
    "model.fit(X_train, y_train.values.ravel())"
   ]
  },
  {
   "cell_type": "code",
   "execution_count": 35,
   "id": "6e15e313",
   "metadata": {
    "execution": {
     "iopub.execute_input": "2025-08-19T19:10:36.511721Z",
     "iopub.status.busy": "2025-08-19T19:10:36.510423Z",
     "iopub.status.idle": "2025-08-19T19:10:37.834093Z",
     "shell.execute_reply": "2025-08-19T19:10:37.833137Z"
    },
    "papermill": {
     "duration": 1.367985,
     "end_time": "2025-08-19T19:10:37.835762",
     "exception": false,
     "start_time": "2025-08-19T19:10:36.467777",
     "status": "completed"
    },
    "tags": []
   },
   "outputs": [
    {
     "data": {
      "text/plain": [
       "0.861241779065879"
      ]
     },
     "execution_count": 35,
     "metadata": {},
     "output_type": "execute_result"
    }
   ],
   "source": [
    "from fairness_multiverse.universe import predict_w_threshold\n",
    "\n",
    "probs_test = model.predict_proba(X_test)\n",
    "\n",
    "'''\n",
    "Below code returns a boolean array (or binary 0/1 array depending on how it’s used) where each element \n",
    "is True if the probability of class 1 is greater than or equal to the threshold, and False otherwise.\n",
    "'''\n",
    "y_pred_default = predict_w_threshold(probs_test, 0.5)\n",
    "\n",
    "from sklearn.metrics import accuracy_score\n",
    "\n",
    "# Naive prediction\n",
    "accuracy_score(y_true = y_true, y_pred = y_pred_default)"
   ]
  },
  {
   "cell_type": "code",
   "execution_count": 36,
   "id": "6f14067c",
   "metadata": {
    "execution": {
     "iopub.execute_input": "2025-08-19T19:10:37.898464Z",
     "iopub.status.busy": "2025-08-19T19:10:37.896605Z",
     "iopub.status.idle": "2025-08-19T19:10:39.252082Z",
     "shell.execute_reply": "2025-08-19T19:10:39.250984Z"
    },
    "papermill": {
     "duration": 1.381858,
     "end_time": "2025-08-19T19:10:39.253809",
     "exception": false,
     "start_time": "2025-08-19T19:10:37.871951",
     "status": "completed"
    },
    "tags": []
   },
   "outputs": [
    {
     "data": {
      "text/plain": [
       "array([0, 0, 0, ..., 0, 0, 0])"
      ]
     },
     "execution_count": 36,
     "metadata": {},
     "output_type": "execute_result"
    }
   ],
   "source": [
    "model.predict(X_test)"
   ]
  },
  {
   "cell_type": "markdown",
   "id": "3759920c",
   "metadata": {
    "papermill": {
     "duration": 0.01398,
     "end_time": "2025-08-19T19:10:39.281339",
     "exception": false,
     "start_time": "2025-08-19T19:10:39.267359",
     "status": "completed"
    },
    "tags": []
   },
   "source": [
    "# Conformal Prediction"
   ]
  },
  {
   "cell_type": "code",
   "execution_count": 37,
   "id": "14b27f59",
   "metadata": {
    "execution": {
     "iopub.execute_input": "2025-08-19T19:10:39.305494Z",
     "iopub.status.busy": "2025-08-19T19:10:39.304941Z",
     "iopub.status.idle": "2025-08-19T19:10:39.309648Z",
     "shell.execute_reply": "2025-08-19T19:10:39.308986Z"
    },
    "papermill": {
     "duration": 0.018685,
     "end_time": "2025-08-19T19:10:39.311135",
     "exception": false,
     "start_time": "2025-08-19T19:10:39.292450",
     "status": "completed"
    },
    "tags": []
   },
   "outputs": [],
   "source": [
    "# Miscoverage level for conformal prediction (10% allowed error rate => 90% target coverage)\n",
    "alpha = 0.1"
   ]
  },
  {
   "cell_type": "code",
   "execution_count": 38,
   "id": "59102472",
   "metadata": {
    "execution": {
     "iopub.execute_input": "2025-08-19T19:10:39.337665Z",
     "iopub.status.busy": "2025-08-19T19:10:39.337314Z",
     "iopub.status.idle": "2025-08-19T19:10:40.617231Z",
     "shell.execute_reply": "2025-08-19T19:10:40.616004Z"
    },
    "papermill": {
     "duration": 1.295194,
     "end_time": "2025-08-19T19:10:40.618774",
     "exception": false,
     "start_time": "2025-08-19T19:10:39.323580",
     "status": "completed"
    },
    "tags": []
   },
   "outputs": [],
   "source": [
    "probs_calib = model.predict_proba(X_calib)"
   ]
  },
  {
   "cell_type": "code",
   "execution_count": 39,
   "id": "a792d4dd",
   "metadata": {
    "execution": {
     "iopub.execute_input": "2025-08-19T19:10:40.643837Z",
     "iopub.status.busy": "2025-08-19T19:10:40.643499Z",
     "iopub.status.idle": "2025-08-19T19:10:40.649949Z",
     "shell.execute_reply": "2025-08-19T19:10:40.648958Z"
    },
    "papermill": {
     "duration": 0.021651,
     "end_time": "2025-08-19T19:10:40.652665",
     "exception": false,
     "start_time": "2025-08-19T19:10:40.631014",
     "status": "completed"
    },
    "tags": []
   },
   "outputs": [],
   "source": [
    "y_calib = y_calib.values.ravel().astype(int)"
   ]
  },
  {
   "cell_type": "code",
   "execution_count": 40,
   "id": "650fd033",
   "metadata": {
    "execution": {
     "iopub.execute_input": "2025-08-19T19:10:40.687863Z",
     "iopub.status.busy": "2025-08-19T19:10:40.687013Z",
     "iopub.status.idle": "2025-08-19T19:10:40.700858Z",
     "shell.execute_reply": "2025-08-19T19:10:40.699708Z"
    },
    "papermill": {
     "duration": 0.029579,
     "end_time": "2025-08-19T19:10:40.702815",
     "exception": false,
     "start_time": "2025-08-19T19:10:40.673236",
     "status": "completed"
    },
    "tags": []
   },
   "outputs": [],
   "source": [
    "from fairness_multiverse.conformal import compute_nc_scores\n",
    "\n",
    "# Compute nonconformity scores on calibration set (1 - probability of true class)\n",
    "nc_scores = compute_nc_scores(probs_calib, y_calib)"
   ]
  },
  {
   "cell_type": "code",
   "execution_count": 41,
   "id": "28ada44c",
   "metadata": {
    "execution": {
     "iopub.execute_input": "2025-08-19T19:10:40.730227Z",
     "iopub.status.busy": "2025-08-19T19:10:40.729182Z",
     "iopub.status.idle": "2025-08-19T19:10:40.741598Z",
     "shell.execute_reply": "2025-08-19T19:10:40.740075Z"
    },
    "papermill": {
     "duration": 0.027023,
     "end_time": "2025-08-19T19:10:40.743475",
     "exception": false,
     "start_time": "2025-08-19T19:10:40.716452",
     "status": "completed"
    },
    "tags": []
   },
   "outputs": [],
   "source": [
    "from fairness_multiverse.conformal import find_threshold\n",
    "\n",
    "# Find conformal threshold q_hat for the given alpha (split conformal method)\n",
    "q_hat = find_threshold(nc_scores, alpha)"
   ]
  },
  {
   "cell_type": "code",
   "execution_count": 42,
   "id": "df56469e",
   "metadata": {
    "execution": {
     "iopub.execute_input": "2025-08-19T19:10:40.771359Z",
     "iopub.status.busy": "2025-08-19T19:10:40.770310Z",
     "iopub.status.idle": "2025-08-19T19:10:40.787087Z",
     "shell.execute_reply": "2025-08-19T19:10:40.785898Z"
    },
    "papermill": {
     "duration": 0.031353,
     "end_time": "2025-08-19T19:10:40.788665",
     "exception": false,
     "start_time": "2025-08-19T19:10:40.757312",
     "status": "completed"
    },
    "tags": []
   },
   "outputs": [
    {
     "data": {
      "text/plain": [
       "0.65"
      ]
     },
     "execution_count": 42,
     "metadata": {},
     "output_type": "execute_result"
    }
   ],
   "source": [
    "q_hat"
   ]
  },
  {
   "cell_type": "code",
   "execution_count": 43,
   "id": "aa1f5faa",
   "metadata": {
    "execution": {
     "iopub.execute_input": "2025-08-19T19:10:40.818058Z",
     "iopub.status.busy": "2025-08-19T19:10:40.817019Z",
     "iopub.status.idle": "2025-08-19T19:10:42.604514Z",
     "shell.execute_reply": "2025-08-19T19:10:42.602132Z"
    },
    "papermill": {
     "duration": 1.802792,
     "end_time": "2025-08-19T19:10:42.606873",
     "exception": false,
     "start_time": "2025-08-19T19:10:40.804081",
     "status": "completed"
    },
    "tags": []
   },
   "outputs": [],
   "source": [
    "from fairness_multiverse.conformal import predict_conformal_sets\n",
    "\n",
    "# Generate prediction sets for each test example\n",
    "pred_sets = predict_conformal_sets(model, X_test, q_hat)"
   ]
  },
  {
   "cell_type": "code",
   "execution_count": 44,
   "id": "97f67a6b",
   "metadata": {
    "execution": {
     "iopub.execute_input": "2025-08-19T19:10:42.638099Z",
     "iopub.status.busy": "2025-08-19T19:10:42.636871Z",
     "iopub.status.idle": "2025-08-19T19:10:42.646521Z",
     "shell.execute_reply": "2025-08-19T19:10:42.645253Z"
    },
    "papermill": {
     "duration": 0.025036,
     "end_time": "2025-08-19T19:10:42.648109",
     "exception": false,
     "start_time": "2025-08-19T19:10:42.623073",
     "status": "completed"
    },
    "tags": []
   },
   "outputs": [],
   "source": [
    "y_true = y_true.squeeze()"
   ]
  },
  {
   "cell_type": "code",
   "execution_count": 45,
   "id": "e700e9a7",
   "metadata": {
    "execution": {
     "iopub.execute_input": "2025-08-19T19:10:42.686764Z",
     "iopub.status.busy": "2025-08-19T19:10:42.686076Z",
     "iopub.status.idle": "2025-08-19T19:10:43.195561Z",
     "shell.execute_reply": "2025-08-19T19:10:43.194283Z"
    },
    "papermill": {
     "duration": 0.531766,
     "end_time": "2025-08-19T19:10:43.199628",
     "exception": false,
     "start_time": "2025-08-19T19:10:42.667862",
     "status": "completed"
    },
    "tags": []
   },
   "outputs": [],
   "source": [
    "from fairness_multiverse.conformal import evaluate_sets\n",
    "\n",
    "# Evaluate coverage and average set size on test data\n",
    "metrics = evaluate_sets(pred_sets, y_true)"
   ]
  },
  {
   "cell_type": "markdown",
   "id": "efbacec0",
   "metadata": {
    "papermill": {
     "duration": 0.01204,
     "end_time": "2025-08-19T19:10:43.236066",
     "exception": false,
     "start_time": "2025-08-19T19:10:43.224026",
     "status": "completed"
    },
    "tags": []
   },
   "source": [
    "# CP Metrics"
   ]
  },
  {
   "cell_type": "code",
   "execution_count": 46,
   "id": "9de55fb1",
   "metadata": {
    "execution": {
     "iopub.execute_input": "2025-08-19T19:10:43.261928Z",
     "iopub.status.busy": "2025-08-19T19:10:43.260891Z",
     "iopub.status.idle": "2025-08-19T19:10:43.272681Z",
     "shell.execute_reply": "2025-08-19T19:10:43.271433Z"
    },
    "papermill": {
     "duration": 0.028084,
     "end_time": "2025-08-19T19:10:43.275504",
     "exception": false,
     "start_time": "2025-08-19T19:10:43.247420",
     "status": "completed"
    },
    "tags": []
   },
   "outputs": [
    {
     "data": {
      "text/plain": [
       "{'coverage': 0.9125961431278564, 'avg_size': 1.1458588786088508}"
      ]
     },
     "execution_count": 46,
     "metadata": {},
     "output_type": "execute_result"
    }
   ],
   "source": [
    "metrics"
   ]
  },
  {
   "cell_type": "code",
   "execution_count": 47,
   "id": "64c340a1",
   "metadata": {
    "execution": {
     "iopub.execute_input": "2025-08-19T19:10:43.301451Z",
     "iopub.status.busy": "2025-08-19T19:10:43.300520Z",
     "iopub.status.idle": "2025-08-19T19:10:43.309860Z",
     "shell.execute_reply": "2025-08-19T19:10:43.308644Z"
    },
    "papermill": {
     "duration": 0.02393,
     "end_time": "2025-08-19T19:10:43.311616",
     "exception": false,
     "start_time": "2025-08-19T19:10:43.287686",
     "status": "completed"
    },
    "tags": []
   },
   "outputs": [],
   "source": [
    "example_universe = universe.copy()\n",
    "universe_training_year = example_universe.get(\"training_year\")\n",
    "universe_training_size = example_universe.get(\"training_size\")\n",
    "universe_scale = example_universe.get(\"scale\")\n",
    "universe_model = example_universe.get(\"model\")\n",
    "universe_exclude_features = example_universe.get(\"exclude_features\")\n",
    "universe_exclude_subgroups = example_universe.get(\"exclude_subgroups\")"
   ]
  },
  {
   "cell_type": "code",
   "execution_count": 48,
   "id": "dbb53cb4",
   "metadata": {
    "execution": {
     "iopub.execute_input": "2025-08-19T19:10:43.338616Z",
     "iopub.status.busy": "2025-08-19T19:10:43.337602Z",
     "iopub.status.idle": "2025-08-19T19:10:43.347012Z",
     "shell.execute_reply": "2025-08-19T19:10:43.345771Z"
    },
    "papermill": {
     "duration": 0.023632,
     "end_time": "2025-08-19T19:10:43.348432",
     "exception": false,
     "start_time": "2025-08-19T19:10:43.324800",
     "status": "completed"
    },
    "tags": []
   },
   "outputs": [],
   "source": [
    "cp_metrics_dict = {\n",
    "    \"universe_id\": [universe_id],\n",
    "    \"universe_training_year\": [universe_training_year],\n",
    "    \"universe_training_size\": [universe_training_size],\n",
    "    \"universe_scale\": [universe_scale],\n",
    "    \"universe_model\": [universe_model],\n",
    "    \"universe_exclude_features\": [universe_exclude_features],\n",
    "    \"universe_exclude_subgroups\": [universe_exclude_subgroups],\n",
    "    \"q_hat\": [q_hat],\n",
    "    \"coverage\": [metrics[\"coverage\"]],\n",
    "    \"avg_size\": [metrics[\"avg_size\"]],\n",
    "}"
   ]
  },
  {
   "cell_type": "code",
   "execution_count": 49,
   "id": "0d70d4b2",
   "metadata": {
    "execution": {
     "iopub.execute_input": "2025-08-19T19:10:43.376588Z",
     "iopub.status.busy": "2025-08-19T19:10:43.375530Z",
     "iopub.status.idle": "2025-08-19T19:10:43.386385Z",
     "shell.execute_reply": "2025-08-19T19:10:43.385248Z"
    },
    "papermill": {
     "duration": 0.025192,
     "end_time": "2025-08-19T19:10:43.387810",
     "exception": false,
     "start_time": "2025-08-19T19:10:43.362618",
     "status": "completed"
    },
    "tags": []
   },
   "outputs": [],
   "source": [
    "cp_metrics_df = pd.DataFrame(cp_metrics_dict)"
   ]
  },
  {
   "cell_type": "code",
   "execution_count": 50,
   "id": "b494403c",
   "metadata": {
    "execution": {
     "iopub.execute_input": "2025-08-19T19:10:43.419152Z",
     "iopub.status.busy": "2025-08-19T19:10:43.414832Z",
     "iopub.status.idle": "2025-08-19T19:10:43.433366Z",
     "shell.execute_reply": "2025-08-19T19:10:43.432661Z"
    },
    "papermill": {
     "duration": 0.03289,
     "end_time": "2025-08-19T19:10:43.434872",
     "exception": false,
     "start_time": "2025-08-19T19:10:43.401982",
     "status": "completed"
    },
    "tags": []
   },
   "outputs": [
    {
     "data": {
      "text/html": [
       "<div>\n",
       "<style scoped>\n",
       "    .dataframe tbody tr th:only-of-type {\n",
       "        vertical-align: middle;\n",
       "    }\n",
       "\n",
       "    .dataframe tbody tr th {\n",
       "        vertical-align: top;\n",
       "    }\n",
       "\n",
       "    .dataframe thead th {\n",
       "        text-align: right;\n",
       "    }\n",
       "</style>\n",
       "<table border=\"1\" class=\"dataframe\">\n",
       "  <thead>\n",
       "    <tr style=\"text-align: right;\">\n",
       "      <th></th>\n",
       "      <th>universe_id</th>\n",
       "      <th>universe_training_year</th>\n",
       "      <th>universe_training_size</th>\n",
       "      <th>universe_scale</th>\n",
       "      <th>universe_model</th>\n",
       "      <th>universe_exclude_features</th>\n",
       "      <th>universe_exclude_subgroups</th>\n",
       "      <th>q_hat</th>\n",
       "      <th>coverage</th>\n",
       "      <th>avg_size</th>\n",
       "    </tr>\n",
       "  </thead>\n",
       "  <tbody>\n",
       "    <tr>\n",
       "      <th>0</th>\n",
       "      <td>e0a61863d564438fbb4617a757e12d02</td>\n",
       "      <td>2010_14</td>\n",
       "      <td>1k</td>\n",
       "      <td>do-not-scale</td>\n",
       "      <td>rf</td>\n",
       "      <td>sex</td>\n",
       "      <td>keep-all</td>\n",
       "      <td>0.65</td>\n",
       "      <td>0.912596</td>\n",
       "      <td>1.145859</td>\n",
       "    </tr>\n",
       "  </tbody>\n",
       "</table>\n",
       "</div>"
      ],
      "text/plain": [
       "                        universe_id universe_training_year  \\\n",
       "0  e0a61863d564438fbb4617a757e12d02                2010_14   \n",
       "\n",
       "  universe_training_size universe_scale universe_model  \\\n",
       "0                     1k   do-not-scale             rf   \n",
       "\n",
       "  universe_exclude_features universe_exclude_subgroups  q_hat  coverage  \\\n",
       "0                       sex                   keep-all   0.65  0.912596   \n",
       "\n",
       "   avg_size  \n",
       "0  1.145859  "
      ]
     },
     "execution_count": 50,
     "metadata": {},
     "output_type": "execute_result"
    }
   ],
   "source": [
    "cp_metrics_df"
   ]
  },
  {
   "cell_type": "markdown",
   "id": "ed608b0b",
   "metadata": {
    "papermill": {
     "duration": 0.011893,
     "end_time": "2025-08-19T19:10:43.461612",
     "exception": false,
     "start_time": "2025-08-19T19:10:43.449719",
     "status": "completed"
    },
    "tags": []
   },
   "source": [
    "Conditional coverage & looking at subgroups"
   ]
  },
  {
   "cell_type": "code",
   "execution_count": 51,
   "id": "8968c366",
   "metadata": {
    "execution": {
     "iopub.execute_input": "2025-08-19T19:10:43.486482Z",
     "iopub.status.busy": "2025-08-19T19:10:43.486176Z",
     "iopub.status.idle": "2025-08-19T19:10:43.748286Z",
     "shell.execute_reply": "2025-08-19T19:10:43.747225Z"
    },
    "papermill": {
     "duration": 0.276583,
     "end_time": "2025-08-19T19:10:43.749975",
     "exception": false,
     "start_time": "2025-08-19T19:10:43.473392",
     "status": "completed"
    },
    "tags": []
   },
   "outputs": [],
   "source": [
    "from fairness_multiverse.conformal import build_cp_groups\n",
    "\n",
    "cp_groups_df = build_cp_groups(pred_sets, y_true, X_test.index, org_test)"
   ]
  },
  {
   "cell_type": "code",
   "execution_count": 52,
   "id": "292ddabf",
   "metadata": {
    "execution": {
     "iopub.execute_input": "2025-08-19T19:10:43.776114Z",
     "iopub.status.busy": "2025-08-19T19:10:43.775778Z",
     "iopub.status.idle": "2025-08-19T19:10:44.584537Z",
     "shell.execute_reply": "2025-08-19T19:10:44.583705Z"
    },
    "papermill": {
     "duration": 0.823569,
     "end_time": "2025-08-19T19:10:44.586175",
     "exception": false,
     "start_time": "2025-08-19T19:10:43.762606",
     "status": "completed"
    },
    "tags": []
   },
   "outputs": [],
   "source": [
    "# Define covered = 1 if true_label is in the predicted set\n",
    "cp_groups_df['covered'] = cp_groups_df.apply(\n",
    "    lambda r: int(r['true_label'] in r['pred_set']),\n",
    "    axis=1\n",
    ")"
   ]
  },
  {
   "cell_type": "code",
   "execution_count": 53,
   "id": "3a261692",
   "metadata": {
    "execution": {
     "iopub.execute_input": "2025-08-19T19:10:44.616215Z",
     "iopub.status.busy": "2025-08-19T19:10:44.615123Z",
     "iopub.status.idle": "2025-08-19T19:10:44.636333Z",
     "shell.execute_reply": "2025-08-19T19:10:44.635417Z"
    },
    "papermill": {
     "duration": 0.037415,
     "end_time": "2025-08-19T19:10:44.637929",
     "exception": false,
     "start_time": "2025-08-19T19:10:44.600514",
     "status": "completed"
    },
    "tags": []
   },
   "outputs": [],
   "source": [
    "subgroups = ['frau1','nongerman','nongerman_male','nongerman_female']\n",
    "\n",
    "# Conditional coverage for subgroup==1\n",
    "cond_coverage = {\n",
    "    g: cp_groups_df.loc[cp_groups_df[g]==1, 'covered'].mean()\n",
    "    for g in subgroups\n",
    "}"
   ]
  },
  {
   "cell_type": "code",
   "execution_count": 54,
   "id": "894fd600",
   "metadata": {
    "execution": {
     "iopub.execute_input": "2025-08-19T19:10:44.691981Z",
     "iopub.status.busy": "2025-08-19T19:10:44.690222Z",
     "iopub.status.idle": "2025-08-19T19:10:44.703418Z",
     "shell.execute_reply": "2025-08-19T19:10:44.701762Z"
    },
    "papermill": {
     "duration": 0.047696,
     "end_time": "2025-08-19T19:10:44.705858",
     "exception": false,
     "start_time": "2025-08-19T19:10:44.658162",
     "status": "completed"
    },
    "tags": []
   },
   "outputs": [
    {
     "data": {
      "text/plain": [
       "{'frau1': 0.9106078986386306,\n",
       " 'nongerman': 0.9069219109639027,\n",
       " 'nongerman_male': 0.9234441142033685,\n",
       " 'nongerman_female': 0.8795827123695976}"
      ]
     },
     "execution_count": 54,
     "metadata": {},
     "output_type": "execute_result"
    }
   ],
   "source": [
    "cond_coverage"
   ]
  },
  {
   "cell_type": "code",
   "execution_count": 55,
   "id": "942895c7",
   "metadata": {
    "execution": {
     "iopub.execute_input": "2025-08-19T19:10:44.761603Z",
     "iopub.status.busy": "2025-08-19T19:10:44.760617Z",
     "iopub.status.idle": "2025-08-19T19:10:44.766999Z",
     "shell.execute_reply": "2025-08-19T19:10:44.766379Z"
    },
    "papermill": {
     "duration": 0.036874,
     "end_time": "2025-08-19T19:10:44.768405",
     "exception": false,
     "start_time": "2025-08-19T19:10:44.731531",
     "status": "completed"
    },
    "tags": []
   },
   "outputs": [],
   "source": [
    "for subgroup, cov in cond_coverage.items():\n",
    "    cp_metrics_df[f\"cov_{subgroup}\"] = cov"
   ]
  },
  {
   "cell_type": "code",
   "execution_count": 56,
   "id": "3970120f",
   "metadata": {
    "execution": {
     "iopub.execute_input": "2025-08-19T19:10:44.804162Z",
     "iopub.status.busy": "2025-08-19T19:10:44.803159Z",
     "iopub.status.idle": "2025-08-19T19:10:44.828343Z",
     "shell.execute_reply": "2025-08-19T19:10:44.827510Z"
    },
    "papermill": {
     "duration": 0.041445,
     "end_time": "2025-08-19T19:10:44.830020",
     "exception": false,
     "start_time": "2025-08-19T19:10:44.788575",
     "status": "completed"
    },
    "tags": []
   },
   "outputs": [
    {
     "data": {
      "text/html": [
       "<div>\n",
       "<style scoped>\n",
       "    .dataframe tbody tr th:only-of-type {\n",
       "        vertical-align: middle;\n",
       "    }\n",
       "\n",
       "    .dataframe tbody tr th {\n",
       "        vertical-align: top;\n",
       "    }\n",
       "\n",
       "    .dataframe thead th {\n",
       "        text-align: right;\n",
       "    }\n",
       "</style>\n",
       "<table border=\"1\" class=\"dataframe\">\n",
       "  <thead>\n",
       "    <tr style=\"text-align: right;\">\n",
       "      <th></th>\n",
       "      <th>universe_id</th>\n",
       "      <th>universe_training_year</th>\n",
       "      <th>universe_training_size</th>\n",
       "      <th>universe_scale</th>\n",
       "      <th>universe_model</th>\n",
       "      <th>universe_exclude_features</th>\n",
       "      <th>universe_exclude_subgroups</th>\n",
       "      <th>q_hat</th>\n",
       "      <th>coverage</th>\n",
       "      <th>avg_size</th>\n",
       "      <th>cov_frau1</th>\n",
       "      <th>cov_nongerman</th>\n",
       "      <th>cov_nongerman_male</th>\n",
       "      <th>cov_nongerman_female</th>\n",
       "    </tr>\n",
       "  </thead>\n",
       "  <tbody>\n",
       "    <tr>\n",
       "      <th>0</th>\n",
       "      <td>e0a61863d564438fbb4617a757e12d02</td>\n",
       "      <td>2010_14</td>\n",
       "      <td>1k</td>\n",
       "      <td>do-not-scale</td>\n",
       "      <td>rf</td>\n",
       "      <td>sex</td>\n",
       "      <td>keep-all</td>\n",
       "      <td>0.65</td>\n",
       "      <td>0.912596</td>\n",
       "      <td>1.145859</td>\n",
       "      <td>0.910608</td>\n",
       "      <td>0.906922</td>\n",
       "      <td>0.923444</td>\n",
       "      <td>0.879583</td>\n",
       "    </tr>\n",
       "  </tbody>\n",
       "</table>\n",
       "</div>"
      ],
      "text/plain": [
       "                        universe_id universe_training_year  \\\n",
       "0  e0a61863d564438fbb4617a757e12d02                2010_14   \n",
       "\n",
       "  universe_training_size universe_scale universe_model  \\\n",
       "0                     1k   do-not-scale             rf   \n",
       "\n",
       "  universe_exclude_features universe_exclude_subgroups  q_hat  coverage  \\\n",
       "0                       sex                   keep-all   0.65  0.912596   \n",
       "\n",
       "   avg_size  cov_frau1  cov_nongerman  cov_nongerman_male  \\\n",
       "0  1.145859   0.910608       0.906922            0.923444   \n",
       "\n",
       "   cov_nongerman_female  \n",
       "0              0.879583  "
      ]
     },
     "execution_count": 56,
     "metadata": {},
     "output_type": "execute_result"
    }
   ],
   "source": [
    "cp_metrics_df"
   ]
  },
  {
   "cell_type": "markdown",
   "id": "3fc519cc",
   "metadata": {
    "papermill": {
     "duration": 0.013177,
     "end_time": "2025-08-19T19:10:44.863654",
     "exception": false,
     "start_time": "2025-08-19T19:10:44.850477",
     "status": "completed"
    },
    "tags": []
   },
   "source": [
    "# (Fairness) Metrics"
   ]
  },
  {
   "cell_type": "code",
   "execution_count": 57,
   "id": "a2e5e155",
   "metadata": {
    "execution": {
     "iopub.execute_input": "2025-08-19T19:10:44.891708Z",
     "iopub.status.busy": "2025-08-19T19:10:44.890549Z",
     "iopub.status.idle": "2025-08-19T19:10:44.918409Z",
     "shell.execute_reply": "2025-08-19T19:10:44.917505Z"
    },
    "papermill": {
     "duration": 0.044072,
     "end_time": "2025-08-19T19:10:44.920272",
     "exception": false,
     "start_time": "2025-08-19T19:10:44.876200",
     "status": "completed"
    },
    "tags": []
   },
   "outputs": [],
   "source": [
    "colname_to_bin = \"maxdeutsch1\"\n",
    "majority_value = org_train[colname_to_bin].mode()[0]\n",
    "\n",
    "org_test[\"majmin\"] = np.where(org_test[colname_to_bin] == majority_value, \"majority\", \"minority\")"
   ]
  },
  {
   "cell_type": "code",
   "execution_count": 58,
   "id": "17e3e4d5",
   "metadata": {
    "execution": {
     "iopub.execute_input": "2025-08-19T19:10:44.958222Z",
     "iopub.status.busy": "2025-08-19T19:10:44.957081Z",
     "iopub.status.idle": "2025-08-19T19:10:46.695866Z",
     "shell.execute_reply": "2025-08-19T19:10:46.694727Z"
    },
    "papermill": {
     "duration": 1.755584,
     "end_time": "2025-08-19T19:10:46.697287",
     "exception": false,
     "start_time": "2025-08-19T19:10:44.941703",
     "status": "completed"
    },
    "tags": []
   },
   "outputs": [],
   "source": [
    "example_universe = universe.copy()\n",
    "example_universe[\"cutoff\"] = example_universe[\"cutoff\"][0]\n",
    "example_universe[\"eval_fairness_grouping\"] = example_universe[\"eval_fairness_grouping\"][0]\n",
    "fairness_dict, metric_frame = universe_analysis.compute_metrics(\n",
    "    example_universe,\n",
    "    y_pred_prob=probs_test,\n",
    "    y_test=y_true,\n",
    "    org_test=org_test,\n",
    ")"
   ]
  },
  {
   "cell_type": "markdown",
   "id": "1fb7a0e9",
   "metadata": {
    "papermill": {
     "duration": 0.028195,
     "end_time": "2025-08-19T19:10:46.749649",
     "exception": false,
     "start_time": "2025-08-19T19:10:46.721454",
     "status": "completed"
    },
    "tags": []
   },
   "source": [
    "# Overall"
   ]
  },
  {
   "cell_type": "markdown",
   "id": "be1784b1",
   "metadata": {
    "papermill": {
     "duration": 0.022502,
     "end_time": "2025-08-19T19:10:46.784422",
     "exception": false,
     "start_time": "2025-08-19T19:10:46.761920",
     "status": "completed"
    },
    "tags": []
   },
   "source": [
    "Main fairness target: Equalized Odds. Seems to be a better fit than equal opportunity, since we're not only interested in Y = 1. Seems to be a better fit than demographic parity, since we also care about accuracy, not just equal distribution of preds.\n",
    "\n",
    "Pick column for computation of fairness metrics\n",
    "\n",
    "Performance\n",
    "Overall performance measures, most interesting in relation to the measures split by group below"
   ]
  },
  {
   "cell_type": "code",
   "execution_count": 59,
   "id": "b7672bee",
   "metadata": {
    "execution": {
     "iopub.execute_input": "2025-08-19T19:10:46.838541Z",
     "iopub.status.busy": "2025-08-19T19:10:46.837904Z",
     "iopub.status.idle": "2025-08-19T19:10:46.847399Z",
     "shell.execute_reply": "2025-08-19T19:10:46.846712Z"
    },
    "papermill": {
     "duration": 0.051114,
     "end_time": "2025-08-19T19:10:46.857053",
     "exception": false,
     "start_time": "2025-08-19T19:10:46.805939",
     "status": "completed"
    },
    "tags": []
   },
   "outputs": [
    {
     "data": {
      "text/plain": [
       "accuracy                   0.206677\n",
       "balanced accuracy          0.532368\n",
       "f1                         0.238875\n",
       "precision                  0.136200\n",
       "false positive rate        0.905719\n",
       "false negative rate        0.029545\n",
       "selection rate             0.914023\n",
       "count                  89710.000000\n",
       "dtype: float64"
      ]
     },
     "execution_count": 59,
     "metadata": {},
     "output_type": "execute_result"
    }
   ],
   "source": [
    "metric_frame.overall"
   ]
  },
  {
   "cell_type": "markdown",
   "id": "d93333c9",
   "metadata": {
    "papermill": {
     "duration": 0.015803,
     "end_time": "2025-08-19T19:10:46.895718",
     "exception": false,
     "start_time": "2025-08-19T19:10:46.879915",
     "status": "completed"
    },
    "tags": []
   },
   "source": [
    "By Group"
   ]
  },
  {
   "cell_type": "code",
   "execution_count": 60,
   "id": "52256966",
   "metadata": {
    "execution": {
     "iopub.execute_input": "2025-08-19T19:10:46.926626Z",
     "iopub.status.busy": "2025-08-19T19:10:46.925623Z",
     "iopub.status.idle": "2025-08-19T19:10:46.945337Z",
     "shell.execute_reply": "2025-08-19T19:10:46.944460Z"
    },
    "papermill": {
     "duration": 0.036507,
     "end_time": "2025-08-19T19:10:46.946802",
     "exception": false,
     "start_time": "2025-08-19T19:10:46.910295",
     "status": "completed"
    },
    "tags": []
   },
   "outputs": [
    {
     "data": {
      "text/html": [
       "<div>\n",
       "<style scoped>\n",
       "    .dataframe tbody tr th:only-of-type {\n",
       "        vertical-align: middle;\n",
       "    }\n",
       "\n",
       "    .dataframe tbody tr th {\n",
       "        vertical-align: top;\n",
       "    }\n",
       "\n",
       "    .dataframe thead th {\n",
       "        text-align: right;\n",
       "    }\n",
       "</style>\n",
       "<table border=\"1\" class=\"dataframe\">\n",
       "  <thead>\n",
       "    <tr style=\"text-align: right;\">\n",
       "      <th></th>\n",
       "      <th>accuracy</th>\n",
       "      <th>balanced accuracy</th>\n",
       "      <th>f1</th>\n",
       "      <th>precision</th>\n",
       "      <th>false positive rate</th>\n",
       "      <th>false negative rate</th>\n",
       "      <th>selection rate</th>\n",
       "      <th>count</th>\n",
       "    </tr>\n",
       "    <tr>\n",
       "      <th>majmin</th>\n",
       "      <th></th>\n",
       "      <th></th>\n",
       "      <th></th>\n",
       "      <th></th>\n",
       "      <th></th>\n",
       "      <th></th>\n",
       "      <th></th>\n",
       "      <th></th>\n",
       "    </tr>\n",
       "  </thead>\n",
       "  <tbody>\n",
       "    <tr>\n",
       "      <th>majority</th>\n",
       "      <td>0.196111</td>\n",
       "      <td>0.531755</td>\n",
       "      <td>0.245164</td>\n",
       "      <td>0.139946</td>\n",
       "      <td>0.924454</td>\n",
       "      <td>0.012035</td>\n",
       "      <td>0.932847</td>\n",
       "      <td>69170.0</td>\n",
       "    </tr>\n",
       "    <tr>\n",
       "      <th>minority</th>\n",
       "      <td>0.242259</td>\n",
       "      <td>0.529523</td>\n",
       "      <td>0.215524</td>\n",
       "      <td>0.122367</td>\n",
       "      <td>0.843826</td>\n",
       "      <td>0.097128</td>\n",
       "      <td>0.850633</td>\n",
       "      <td>20540.0</td>\n",
       "    </tr>\n",
       "  </tbody>\n",
       "</table>\n",
       "</div>"
      ],
      "text/plain": [
       "          accuracy  balanced accuracy        f1  precision  \\\n",
       "majmin                                                       \n",
       "majority  0.196111           0.531755  0.245164   0.139946   \n",
       "minority  0.242259           0.529523  0.215524   0.122367   \n",
       "\n",
       "          false positive rate  false negative rate  selection rate    count  \n",
       "majmin                                                                       \n",
       "majority             0.924454             0.012035        0.932847  69170.0  \n",
       "minority             0.843826             0.097128        0.850633  20540.0  "
      ]
     },
     "execution_count": 60,
     "metadata": {},
     "output_type": "execute_result"
    }
   ],
   "source": [
    "metric_frame.by_group"
   ]
  },
  {
   "cell_type": "code",
   "execution_count": 61,
   "id": "6e6c20ae",
   "metadata": {
    "execution": {
     "iopub.execute_input": "2025-08-19T19:10:46.981723Z",
     "iopub.status.busy": "2025-08-19T19:10:46.980632Z",
     "iopub.status.idle": "2025-08-19T19:10:48.907104Z",
     "shell.execute_reply": "2025-08-19T19:10:48.902866Z"
    },
    "papermill": {
     "duration": 1.945214,
     "end_time": "2025-08-19T19:10:48.909539",
     "exception": false,
     "start_time": "2025-08-19T19:10:46.964325",
     "status": "completed"
    },
    "tags": []
   },
   "outputs": [
    {
     "data": {
      "text/plain": [
       "array([[<Axes: title={'center': 'accuracy'}, xlabel='majmin'>,\n",
       "        <Axes: title={'center': 'balanced accuracy'}, xlabel='majmin'>,\n",
       "        <Axes: title={'center': 'f1'}, xlabel='majmin'>],\n",
       "       [<Axes: title={'center': 'precision'}, xlabel='majmin'>,\n",
       "        <Axes: title={'center': 'false positive rate'}, xlabel='majmin'>,\n",
       "        <Axes: title={'center': 'false negative rate'}, xlabel='majmin'>],\n",
       "       [<Axes: title={'center': 'selection rate'}, xlabel='majmin'>,\n",
       "        <Axes: title={'center': 'count'}, xlabel='majmin'>,\n",
       "        <Axes: xlabel='majmin'>]], dtype=object)"
      ]
     },
     "execution_count": 61,
     "metadata": {},
     "output_type": "execute_result"
    },
    {
     "data": {
      "image/png": "[encoded data removed]",
      "text/plain": [
       "<Figure size 1200x800 with 9 Axes>"
      ]
     },
     "metadata": {},
     "output_type": "display_data"
    }
   ],
   "source": [
    "# In a graphic\n",
    "metric_frame.by_group.plot.bar(\n",
    "    subplots=True,\n",
    "    layout=[3, 3],\n",
    "    legend=False,\n",
    "    figsize=[12, 8],\n",
    "    title=\"Show all metrics\",\n",
    ")"
   ]
  },
  {
   "cell_type": "markdown",
   "id": "b2e433ae",
   "metadata": {
    "papermill": {
     "duration": 0.014153,
     "end_time": "2025-08-19T19:10:48.947395",
     "exception": false,
     "start_time": "2025-08-19T19:10:48.933242",
     "status": "completed"
    },
    "tags": []
   },
   "source": [
    "# Final Output"
   ]
  },
  {
   "cell_type": "code",
   "execution_count": 62,
   "id": "3871301e",
   "metadata": {
    "execution": {
     "iopub.execute_input": "2025-08-19T19:10:48.977304Z",
     "iopub.status.busy": "2025-08-19T19:10:48.975975Z",
     "iopub.status.idle": "2025-08-19T19:10:48.986250Z",
     "shell.execute_reply": "2025-08-19T19:10:48.985511Z"
    },
    "papermill": {
     "duration": 0.026766,
     "end_time": "2025-08-19T19:10:48.987779",
     "exception": false,
     "start_time": "2025-08-19T19:10:48.961013",
     "status": "completed"
    },
    "tags": []
   },
   "outputs": [
    {
     "data": {
      "text/plain": [
       "4"
      ]
     },
     "execution_count": 62,
     "metadata": {},
     "output_type": "execute_result"
    }
   ],
   "source": [
    "sub_universes = universe_analysis.generate_sub_universes()\n",
    "len(sub_universes)"
   ]
  },
  {
   "cell_type": "code",
   "execution_count": 63,
   "id": "d9cfdaca",
   "metadata": {
    "execution": {
     "iopub.execute_input": "2025-08-19T19:10:49.020317Z",
     "iopub.status.busy": "2025-08-19T19:10:49.019456Z",
     "iopub.status.idle": "2025-08-19T19:10:49.027270Z",
     "shell.execute_reply": "2025-08-19T19:10:49.026213Z"
    },
    "papermill": {
     "duration": 0.025779,
     "end_time": "2025-08-19T19:10:49.029352",
     "exception": false,
     "start_time": "2025-08-19T19:10:49.003573",
     "status": "completed"
    },
    "tags": []
   },
   "outputs": [],
   "source": [
    "def filter_sub_universe_data(sub_universe, org_test):\n",
    "    # Keep all rows — no filtering\n",
    "    keep_rows_mask = np.ones(org_test.shape[0], dtype=bool)\n",
    "\n",
    "    print(f\"[INFO] Keeping all rows: {keep_rows_mask.sum()} rows retained.\")\n",
    "    return keep_rows_mask"
   ]
  },
  {
   "cell_type": "code",
   "execution_count": 64,
   "id": "2bc31ac1",
   "metadata": {
    "execution": {
     "iopub.execute_input": "2025-08-19T19:10:49.062323Z",
     "iopub.status.busy": "2025-08-19T19:10:49.061193Z",
     "iopub.status.idle": "2025-08-19T19:10:55.798569Z",
     "shell.execute_reply": "2025-08-19T19:10:55.797605Z"
    },
    "papermill": {
     "duration": 6.75393,
     "end_time": "2025-08-19T19:10:55.799756",
     "exception": false,
     "start_time": "2025-08-19T19:10:49.045826",
     "status": "completed"
    },
    "tags": []
   },
   "outputs": [
    {
     "name": "stdout",
     "output_type": "stream",
     "text": [
      "Stopping execution_time clock.\n",
      "[INFO] Keeping all rows: 89710 rows retained.\n"
     ]
    },
    {
     "name": "stdout",
     "output_type": "stream",
     "text": [
      "[INFO] Keeping all rows: 89710 rows retained.\n"
     ]
    },
    {
     "name": "stdout",
     "output_type": "stream",
     "text": [
      "[INFO] Keeping all rows: 89710 rows retained.\n"
     ]
    },
    {
     "name": "stdout",
     "output_type": "stream",
     "text": [
      "[INFO] Keeping all rows: 89710 rows retained.\n"
     ]
    },
    {
     "data": {
      "text/html": [
       "<div>\n",
       "<style scoped>\n",
       "    .dataframe tbody tr th:only-of-type {\n",
       "        vertical-align: middle;\n",
       "    }\n",
       "\n",
       "    .dataframe tbody tr th {\n",
       "        vertical-align: top;\n",
       "    }\n",
       "\n",
       "    .dataframe thead th {\n",
       "        text-align: right;\n",
       "    }\n",
       "</style>\n",
       "<table border=\"1\" class=\"dataframe\">\n",
       "  <thead>\n",
       "    <tr style=\"text-align: right;\">\n",
       "      <th></th>\n",
       "      <th>run_no</th>\n",
       "      <th>universe_id</th>\n",
       "      <th>universe_settings</th>\n",
       "      <th>execution_time</th>\n",
       "      <th>test_size_n</th>\n",
       "      <th>test_size_frac</th>\n",
       "      <th>fair_main_equalized_odds_difference</th>\n",
       "      <th>fair_main_equalized_odds_ratio</th>\n",
       "      <th>fair_main_demographic_parity_difference</th>\n",
       "      <th>fair_main_demographic_parity_ratio</th>\n",
       "      <th>...</th>\n",
       "      <th>perf_grp_precision_0</th>\n",
       "      <th>perf_grp_precision_1</th>\n",
       "      <th>perf_grp_false positive rate_0</th>\n",
       "      <th>perf_grp_false positive rate_1</th>\n",
       "      <th>perf_grp_false negative rate_0</th>\n",
       "      <th>perf_grp_false negative rate_1</th>\n",
       "      <th>perf_grp_selection rate_0</th>\n",
       "      <th>perf_grp_selection rate_1</th>\n",
       "      <th>perf_grp_count_0</th>\n",
       "      <th>perf_grp_count_1</th>\n",
       "    </tr>\n",
       "  </thead>\n",
       "  <tbody>\n",
       "    <tr>\n",
       "      <th>0</th>\n",
       "      <td>3</td>\n",
       "      <td>e0a61863d564438fbb4617a757e12d02</td>\n",
       "      <td>{\"cutoff\": \"quantile_0.1\", \"eval_fairness_grou...</td>\n",
       "      <td>27.174814</td>\n",
       "      <td>89710</td>\n",
       "      <td>1.0</td>\n",
       "      <td>0.085093</td>\n",
       "      <td>0.912782</td>\n",
       "      <td>0.082214</td>\n",
       "      <td>0.911868</td>\n",
       "      <td>...</td>\n",
       "      <td>NaN</td>\n",
       "      <td>NaN</td>\n",
       "      <td>NaN</td>\n",
       "      <td>NaN</td>\n",
       "      <td>NaN</td>\n",
       "      <td>NaN</td>\n",
       "      <td>NaN</td>\n",
       "      <td>NaN</td>\n",
       "      <td>NaN</td>\n",
       "      <td>NaN</td>\n",
       "    </tr>\n",
       "    <tr>\n",
       "      <th>0</th>\n",
       "      <td>3</td>\n",
       "      <td>e0a61863d564438fbb4617a757e12d02</td>\n",
       "      <td>{\"cutoff\": \"quantile_0.1\", \"eval_fairness_grou...</td>\n",
       "      <td>27.174814</td>\n",
       "      <td>89710</td>\n",
       "      <td>1.0</td>\n",
       "      <td>0.085093</td>\n",
       "      <td>0.912782</td>\n",
       "      <td>0.082214</td>\n",
       "      <td>0.911868</td>\n",
       "      <td>...</td>\n",
       "      <td>0.122367</td>\n",
       "      <td>0.139946</td>\n",
       "      <td>0.843826</td>\n",
       "      <td>0.924454</td>\n",
       "      <td>0.097128</td>\n",
       "      <td>0.012035</td>\n",
       "      <td>0.850633</td>\n",
       "      <td>0.932847</td>\n",
       "      <td>20540.0</td>\n",
       "      <td>69170.0</td>\n",
       "    </tr>\n",
       "    <tr>\n",
       "      <th>0</th>\n",
       "      <td>3</td>\n",
       "      <td>e0a61863d564438fbb4617a757e12d02</td>\n",
       "      <td>{\"cutoff\": \"quantile_0.25\", \"eval_fairness_gro...</td>\n",
       "      <td>27.174814</td>\n",
       "      <td>89710</td>\n",
       "      <td>1.0</td>\n",
       "      <td>0.153968</td>\n",
       "      <td>0.838431</td>\n",
       "      <td>0.107157</td>\n",
       "      <td>0.866516</td>\n",
       "      <td>...</td>\n",
       "      <td>NaN</td>\n",
       "      <td>NaN</td>\n",
       "      <td>NaN</td>\n",
       "      <td>NaN</td>\n",
       "      <td>NaN</td>\n",
       "      <td>NaN</td>\n",
       "      <td>NaN</td>\n",
       "      <td>NaN</td>\n",
       "      <td>NaN</td>\n",
       "      <td>NaN</td>\n",
       "    </tr>\n",
       "    <tr>\n",
       "      <th>0</th>\n",
       "      <td>3</td>\n",
       "      <td>e0a61863d564438fbb4617a757e12d02</td>\n",
       "      <td>{\"cutoff\": \"quantile_0.25\", \"eval_fairness_gro...</td>\n",
       "      <td>27.174814</td>\n",
       "      <td>89710</td>\n",
       "      <td>1.0</td>\n",
       "      <td>0.153968</td>\n",
       "      <td>0.838431</td>\n",
       "      <td>0.107157</td>\n",
       "      <td>0.866516</td>\n",
       "      <td>...</td>\n",
       "      <td>0.132419</td>\n",
       "      <td>0.156858</td>\n",
       "      <td>0.682148</td>\n",
       "      <td>0.779910</td>\n",
       "      <td>0.201014</td>\n",
       "      <td>0.047046</td>\n",
       "      <td>0.695618</td>\n",
       "      <td>0.802776</td>\n",
       "      <td>20540.0</td>\n",
       "      <td>69170.0</td>\n",
       "    </tr>\n",
       "  </tbody>\n",
       "</table>\n",
       "<p>4 rows × 50 columns</p>\n",
       "</div>"
      ],
      "text/plain": [
       "  run_no                       universe_id  \\\n",
       "0      3  e0a61863d564438fbb4617a757e12d02   \n",
       "0      3  e0a61863d564438fbb4617a757e12d02   \n",
       "0      3  e0a61863d564438fbb4617a757e12d02   \n",
       "0      3  e0a61863d564438fbb4617a757e12d02   \n",
       "\n",
       "                                   universe_settings  execution_time  \\\n",
       "0  {\"cutoff\": \"quantile_0.1\", \"eval_fairness_grou...       27.174814   \n",
       "0  {\"cutoff\": \"quantile_0.1\", \"eval_fairness_grou...       27.174814   \n",
       "0  {\"cutoff\": \"quantile_0.25\", \"eval_fairness_gro...       27.174814   \n",
       "0  {\"cutoff\": \"quantile_0.25\", \"eval_fairness_gro...       27.174814   \n",
       "\n",
       "   test_size_n  test_size_frac  fair_main_equalized_odds_difference  \\\n",
       "0        89710             1.0                             0.085093   \n",
       "0        89710             1.0                             0.085093   \n",
       "0        89710             1.0                             0.153968   \n",
       "0        89710             1.0                             0.153968   \n",
       "\n",
       "   fair_main_equalized_odds_ratio  fair_main_demographic_parity_difference  \\\n",
       "0                        0.912782                                 0.082214   \n",
       "0                        0.912782                                 0.082214   \n",
       "0                        0.838431                                 0.107157   \n",
       "0                        0.838431                                 0.107157   \n",
       "\n",
       "   fair_main_demographic_parity_ratio  ...  perf_grp_precision_0  \\\n",
       "0                            0.911868  ...                   NaN   \n",
       "0                            0.911868  ...              0.122367   \n",
       "0                            0.866516  ...                   NaN   \n",
       "0                            0.866516  ...              0.132419   \n",
       "\n",
       "   perf_grp_precision_1  perf_grp_false positive rate_0  \\\n",
       "0                   NaN                             NaN   \n",
       "0              0.139946                        0.843826   \n",
       "0                   NaN                             NaN   \n",
       "0              0.156858                        0.682148   \n",
       "\n",
       "   perf_grp_false positive rate_1  perf_grp_false negative rate_0  \\\n",
       "0                             NaN                             NaN   \n",
       "0                        0.924454                        0.097128   \n",
       "0                             NaN                             NaN   \n",
       "0                        0.779910                        0.201014   \n",
       "\n",
       "   perf_grp_false negative rate_1  perf_grp_selection rate_0  \\\n",
       "0                             NaN                        NaN   \n",
       "0                        0.012035                   0.850633   \n",
       "0                             NaN                        NaN   \n",
       "0                        0.047046                   0.695618   \n",
       "\n",
       "   perf_grp_selection rate_1  perf_grp_count_0  perf_grp_count_1  \n",
       "0                        NaN               NaN               NaN  \n",
       "0                   0.932847           20540.0           69170.0  \n",
       "0                        NaN               NaN               NaN  \n",
       "0                   0.802776           20540.0           69170.0  \n",
       "\n",
       "[4 rows x 50 columns]"
      ]
     },
     "execution_count": 64,
     "metadata": {},
     "output_type": "execute_result"
    }
   ],
   "source": [
    "final_output = universe_analysis.generate_final_output(\n",
    "    y_pred_prob=probs_test,\n",
    "    y_test=y_true,\n",
    "    org_test=org_test,\n",
    "    filter_data=filter_sub_universe_data,\n",
    "    cp_metrics_df=cp_metrics_df,\n",
    "    save=True,\n",
    ")\n",
    "final_output"
   ]
  },
  {
   "cell_type": "code",
   "execution_count": null,
   "id": "8b80a1ff",
   "metadata": {
    "papermill": {
     "duration": 0.014162,
     "end_time": "2025-08-19T19:10:55.833170",
     "exception": false,
     "start_time": "2025-08-19T19:10:55.819008",
     "status": "completed"
    },
    "tags": []
   },
   "outputs": [],
   "source": []
  },
  {
   "cell_type": "code",
   "execution_count": null,
   "id": "275c9fad",
   "metadata": {
    "papermill": {
     "duration": 0.030025,
     "end_time": "2025-08-19T19:10:55.883799",
     "exception": false,
     "start_time": "2025-08-19T19:10:55.853774",
     "status": "completed"
    },
    "tags": []
   },
   "outputs": [],
   "source": []
  }
 ],
 "metadata": {
  "celltoolbar": "Tags",
  "kernelspec": {
   "display_name": "Python (CMA Fairness)",
   "language": "python",
   "name": "cma_fair_env"
  },
  "language_info": {
   "codemirror_mode": {
    "name": "ipython",
    "version": 3
   },
   "file_extension": ".py",
   "mimetype": "text/x-python",
   "name": "python",
   "nbconvert_exporter": "python",
   "pygments_lexer": "ipython3",
   "version": "3.10.12"
  },
  "papermill": {
   "default_parameters": {},
   "duration": 37.75533,
   "end_time": "2025-08-19T19:10:56.720577",
   "environment_variables": {},
   "exception": null,
   "input_path": "universe_analysis.ipynb",
   "output_path": "output/runs/3/notebooks/m_3-e0a61863d564438fbb4617a757e12d02.ipynb",
   "parameters": {
    "output_dir": "output",
    "run_no": "3",
    "seed": "2023",
    "universe": "{\"cutoff\": [\"quantile_0.1\", \"quantile_0.25\"], \"eval_fairness_grouping\": [\"majority-minority\", \"nationality-all\"], \"exclude_features\": \"sex\", \"exclude_subgroups\": \"keep-all\", \"model\": \"rf\", \"scale\": \"do-not-scale\", \"training_size\": \"1k\", \"training_year\": \"2010_14\"}",
    "universe_id": "e0a61863d564438fbb4617a757e12d02"
   },
   "start_time": "2025-08-19T19:10:18.965247",
   "version": "2.6.0"
  }
 },
 "nbformat": 4,
 "nbformat_minor": 5
}