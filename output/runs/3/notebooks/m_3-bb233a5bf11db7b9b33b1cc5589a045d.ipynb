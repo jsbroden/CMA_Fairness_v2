{
 "cells": [
  {
   "cell_type": "markdown",
   "id": "ef23dbb3",
   "metadata": {
    "papermill": {
     "duration": 0.017025,
     "end_time": "2025-08-19T19:08:26.603342",
     "exception": false,
     "start_time": "2025-08-19T19:08:26.586317",
     "status": "completed"
    },
    "tags": []
   },
   "source": [
    "# Setup"
   ]
  },
  {
   "cell_type": "code",
   "execution_count": 1,
   "id": "0bc8e7dc",
   "metadata": {
    "execution": {
     "iopub.execute_input": "2025-08-19T19:08:26.623327Z",
     "iopub.status.busy": "2025-08-19T19:08:26.622938Z",
     "iopub.status.idle": "2025-08-19T19:08:26.633732Z",
     "shell.execute_reply": "2025-08-19T19:08:26.632713Z"
    },
    "papermill": {
     "duration": 0.022039,
     "end_time": "2025-08-19T19:08:26.635090",
     "exception": false,
     "start_time": "2025-08-19T19:08:26.613051",
     "status": "completed"
    },
    "tags": []
   },
   "outputs": [
    {
     "name": "stdout",
     "output_type": "stream",
     "text": [
      "/dss/dsshome1/0C/ra93lal2/cma/CMA_Fairness_v2\n"
     ]
    },
    {
     "name": "stderr",
     "output_type": "stream",
     "text": [
      "/dss/dsshome1/0C/ra93lal2/.local/share/virtualenvs/CMA_Fairness_v2-3j10GkSs/lib/python3.10/site-packages/IPython/core/magics/osm.py:393: UserWarning: This is now an optional IPython functionality, using bookmarks requires you to install the `pickleshare` library.\n",
      "  bkms = self.shell.db.get('bookmarks', {})\n",
      "/dss/dsshome1/0C/ra93lal2/.local/share/virtualenvs/CMA_Fairness_v2-3j10GkSs/lib/python3.10/site-packages/IPython/core/magics/osm.py:417: UserWarning: This is now an optional IPython functionality, setting dhist requires you to install the `pickleshare` library.\n",
      "  self.shell.db['dhist'] = compress_dhist(dhist)[-100:]\n"
     ]
    }
   ],
   "source": [
    "%cd ~/cma/CMA_Fairness_v2"
   ]
  },
  {
   "cell_type": "markdown",
   "id": "9d235661",
   "metadata": {
    "papermill": {
     "duration": 0.00875,
     "end_time": "2025-08-19T19:08:26.655383",
     "exception": false,
     "start_time": "2025-08-19T19:08:26.646633",
     "status": "completed"
    },
    "tags": []
   },
   "source": [
    "The following cell holds the definition of our parameters, these values can be overriden by rendering the with e.g. the following command:\n",
    "\n",
    "papermill -p alpha 0.2 -p ratio 0.3 universe_analysis.ipynb output/test_run.ipynb"
   ]
  },
  {
   "cell_type": "code",
   "execution_count": 2,
   "id": "4a789d8e",
   "metadata": {
    "execution": {
     "iopub.execute_input": "2025-08-19T19:08:26.674484Z",
     "iopub.status.busy": "2025-08-19T19:08:26.674158Z",
     "iopub.status.idle": "2025-08-19T19:08:26.678482Z",
     "shell.execute_reply": "2025-08-19T19:08:26.677784Z"
    },
    "papermill": {
     "duration": 0.016042,
     "end_time": "2025-08-19T19:08:26.680186",
     "exception": false,
     "start_time": "2025-08-19T19:08:26.664144",
     "status": "completed"
    },
    "tags": []
   },
   "outputs": [
    {
     "name": "stdout",
     "output_type": "stream",
     "text": [
      "Current working directory: /dss/dsshome1/0C/ra93lal2/cma/CMA_Fairness_v2\n"
     ]
    }
   ],
   "source": [
    "import os\n",
    "print(\"Current working directory:\", os.getcwd())"
   ]
  },
  {
   "cell_type": "code",
   "execution_count": 3,
   "id": "4132aaed",
   "metadata": {
    "execution": {
     "iopub.execute_input": "2025-08-19T19:08:26.698923Z",
     "iopub.status.busy": "2025-08-19T19:08:26.698664Z",
     "iopub.status.idle": "2025-08-19T19:08:26.703192Z",
     "shell.execute_reply": "2025-08-19T19:08:26.702521Z"
    },
    "papermill": {
     "duration": 0.015519,
     "end_time": "2025-08-19T19:08:26.704550",
     "exception": false,
     "start_time": "2025-08-19T19:08:26.689031",
     "status": "completed"
    },
    "tags": [
     "parameters"
    ]
   },
   "outputs": [],
   "source": [
    "run_no = 0\n",
    "universe_id = \"test\"\n",
    "universe = {\n",
    "    \"training_size\": \"5k\", # \"25k\", \"5k\", \"1k\"\n",
    "    \"training_year\": \"2012_14\", # \"2014\", \"2012_14\", \"2010_14\"\n",
    "    \"scale\": \"scale\", # \"scale\", \"do-not-scale\",\n",
    "    \"model\": \"elasticnet\", # \"logreg\", \"penalized_logreg\", \"rf\", \"gbm\", \"elasticnet\"\n",
    "    \"cutoff\": [\"quantile_0.15\", \"quantile_0.30\"],\n",
    "    \"exclude_features\": \"age\", # \"none\", \"nationality\", \"sex\", \"nationality-sex\", \"age\"\n",
    "    \"exclude_subgroups\": \"drop-non-german\", # \"keep-all\", \"drop-non-german\"\n",
    "    \"eval_fairness_grouping\": [\"majority-minority\", \"nationality-all\"]\n",
    "}\n",
    "\n",
    "output_dir=\"./output\"\n",
    "seed=0"
   ]
  },
  {
   "cell_type": "code",
   "execution_count": 4,
   "id": "a7e1359e",
   "metadata": {
    "execution": {
     "iopub.execute_input": "2025-08-19T19:08:26.724820Z",
     "iopub.status.busy": "2025-08-19T19:08:26.724026Z",
     "iopub.status.idle": "2025-08-19T19:08:26.729255Z",
     "shell.execute_reply": "2025-08-19T19:08:26.728589Z"
    },
    "papermill": {
     "duration": 0.021483,
     "end_time": "2025-08-19T19:08:26.735444",
     "exception": false,
     "start_time": "2025-08-19T19:08:26.713961",
     "status": "completed"
    },
    "tags": [
     "injected-parameters"
    ]
   },
   "outputs": [],
   "source": [
    "# Parameters\n",
    "universe_id = \"bb233a5bf11db7b9b33b1cc5589a045d\"\n",
    "run_no = \"3\"\n",
    "universe = \"{\\\"cutoff\\\": [\\\"quantile_0.1\\\", \\\"quantile_0.25\\\"], \\\"eval_fairness_grouping\\\": [\\\"majority-minority\\\", \\\"nationality-all\\\"], \\\"exclude_features\\\": \\\"age\\\", \\\"exclude_subgroups\\\": \\\"keep-all\\\", \\\"model\\\": \\\"elasticnet\\\", \\\"scale\\\": \\\"scale\\\", \\\"training_size\\\": \\\"1k\\\", \\\"training_year\\\": \\\"2010_14\\\"}\"\n",
    "output_dir = \"output\"\n",
    "seed = \"2023\"\n"
   ]
  },
  {
   "cell_type": "code",
   "execution_count": 5,
   "id": "a5d7941f",
   "metadata": {
    "execution": {
     "iopub.execute_input": "2025-08-19T19:08:26.762233Z",
     "iopub.status.busy": "2025-08-19T19:08:26.760910Z",
     "iopub.status.idle": "2025-08-19T19:08:26.767340Z",
     "shell.execute_reply": "2025-08-19T19:08:26.766285Z"
    },
    "papermill": {
     "duration": 0.01882,
     "end_time": "2025-08-19T19:08:26.768822",
     "exception": false,
     "start_time": "2025-08-19T19:08:26.750002",
     "status": "completed"
    },
    "tags": []
   },
   "outputs": [],
   "source": [
    "import json\n",
    "if isinstance(universe, str):\n",
    "    universe = json.loads(universe)"
   ]
  },
  {
   "cell_type": "code",
   "execution_count": 6,
   "id": "7076ccb1",
   "metadata": {
    "execution": {
     "iopub.execute_input": "2025-08-19T19:08:26.803340Z",
     "iopub.status.busy": "2025-08-19T19:08:26.802368Z",
     "iopub.status.idle": "2025-08-19T19:08:26.867222Z",
     "shell.execute_reply": "2025-08-19T19:08:26.866378Z"
    },
    "papermill": {
     "duration": 0.090143,
     "end_time": "2025-08-19T19:08:26.869271",
     "exception": false,
     "start_time": "2025-08-19T19:08:26.779128",
     "status": "completed"
    },
    "tags": []
   },
   "outputs": [],
   "source": [
    "# Auto-reload the custom package\n",
    "%load_ext autoreload\n",
    "%autoreload 1\n",
    "%aimport fairness_multiverse"
   ]
  },
  {
   "cell_type": "code",
   "execution_count": 7,
   "id": "94c8eb93",
   "metadata": {
    "execution": {
     "iopub.execute_input": "2025-08-19T19:08:26.901310Z",
     "iopub.status.busy": "2025-08-19T19:08:26.900489Z",
     "iopub.status.idle": "2025-08-19T19:08:28.420421Z",
     "shell.execute_reply": "2025-08-19T19:08:28.419399Z"
    },
    "papermill": {
     "duration": 1.535802,
     "end_time": "2025-08-19T19:08:28.422109",
     "exception": false,
     "start_time": "2025-08-19T19:08:26.886307",
     "status": "completed"
    },
    "tags": []
   },
   "outputs": [],
   "source": [
    "from fairness_multiverse.universe import UniverseAnalysis\n",
    "\n",
    "universe_analysis = UniverseAnalysis(\n",
    "    run_no = run_no,\n",
    "    universe_id = universe_id,\n",
    "    universe = universe,\n",
    "    output_dir=output_dir,\n",
    ")"
   ]
  },
  {
   "cell_type": "code",
   "execution_count": 8,
   "id": "2a6381cf",
   "metadata": {
    "execution": {
     "iopub.execute_input": "2025-08-19T19:08:28.443789Z",
     "iopub.status.busy": "2025-08-19T19:08:28.443316Z",
     "iopub.status.idle": "2025-08-19T19:08:28.449223Z",
     "shell.execute_reply": "2025-08-19T19:08:28.448559Z"
    },
    "papermill": {
     "duration": 0.017375,
     "end_time": "2025-08-19T19:08:28.450372",
     "exception": false,
     "start_time": "2025-08-19T19:08:28.432997",
     "status": "completed"
    },
    "tags": []
   },
   "outputs": [
    {
     "name": "stdout",
     "output_type": "stream",
     "text": [
      "Using Seed: 2023\n"
     ]
    }
   ],
   "source": [
    "import numpy as np\n",
    "parsed_seed = int(seed)\n",
    "np.random.seed(parsed_seed)\n",
    "print(f\"Using Seed: {parsed_seed}\")"
   ]
  },
  {
   "cell_type": "markdown",
   "id": "b6e958b4",
   "metadata": {
    "papermill": {
     "duration": 0.009236,
     "end_time": "2025-08-19T19:08:28.469232",
     "exception": false,
     "start_time": "2025-08-19T19:08:28.459996",
     "status": "completed"
    },
    "tags": []
   },
   "source": [
    "# Loading Data"
   ]
  },
  {
   "cell_type": "code",
   "execution_count": 9,
   "id": "98701482",
   "metadata": {
    "execution": {
     "iopub.execute_input": "2025-08-19T19:08:28.487898Z",
     "iopub.status.busy": "2025-08-19T19:08:28.487555Z",
     "iopub.status.idle": "2025-08-19T19:08:38.213304Z",
     "shell.execute_reply": "2025-08-19T19:08:38.212245Z"
    },
    "papermill": {
     "duration": 9.737565,
     "end_time": "2025-08-19T19:08:38.215575",
     "exception": false,
     "start_time": "2025-08-19T19:08:28.478010",
     "status": "completed"
    },
    "tags": []
   },
   "outputs": [
    {
     "name": "stdout",
     "output_type": "stream",
     "text": [
      "Loading SIAB data from cache: data/siab_cached.csv.gz\n"
     ]
    },
    {
     "name": "stdout",
     "output_type": "stream",
     "text": [
      "(643690, 164)\n"
     ]
    }
   ],
   "source": [
    "from pathlib import Path\n",
    "import pandas as pd\n",
    "\n",
    "# File paths\n",
    "raw_file = Path(\"data/raw/siab.csv\")\n",
    "cache_file = Path(\"data/siab_cached.csv.gz\")\n",
    "\n",
    "# Ensure cache directory exists\n",
    "cache_file.parent.mkdir(parents=True, exist_ok=True)\n",
    "\n",
    "# Load with simple caching\n",
    "if cache_file.exists():\n",
    "    print(f\"Loading SIAB data from cache: {cache_file}\")\n",
    "    siab = pd.read_csv(cache_file, compression='gzip')\n",
    "else:\n",
    "    print(f\"Cache not found. Reading raw SIAB data: {raw_file}\")\n",
    "    siab = pd.read_csv(raw_file)\n",
    "    siab.to_csv(cache_file, index=False, compression='gzip')\n",
    "    print(f\"Cached SIAB data to: {cache_file}\")\n",
    "\n",
    "print(siab.shape)"
   ]
  },
  {
   "cell_type": "code",
   "execution_count": 10,
   "id": "058d2abb",
   "metadata": {
    "execution": {
     "iopub.execute_input": "2025-08-19T19:08:38.254077Z",
     "iopub.status.busy": "2025-08-19T19:08:38.252982Z",
     "iopub.status.idle": "2025-08-19T19:08:38.389116Z",
     "shell.execute_reply": "2025-08-19T19:08:38.388354Z"
    },
    "papermill": {
     "duration": 0.153271,
     "end_time": "2025-08-19T19:08:38.392662",
     "exception": false,
     "start_time": "2025-08-19T19:08:38.239391",
     "status": "completed"
    },
    "tags": []
   },
   "outputs": [
    {
     "data": {
      "text/html": [
       "<div>\n",
       "<style scoped>\n",
       "    .dataframe tbody tr th:only-of-type {\n",
       "        vertical-align: middle;\n",
       "    }\n",
       "\n",
       "    .dataframe tbody tr th {\n",
       "        vertical-align: top;\n",
       "    }\n",
       "\n",
       "    .dataframe thead th {\n",
       "        text-align: right;\n",
       "    }\n",
       "</style>\n",
       "<table border=\"1\" class=\"dataframe\">\n",
       "  <thead>\n",
       "    <tr style=\"text-align: right;\">\n",
       "      <th></th>\n",
       "      <th>persnr</th>\n",
       "      <th>year</th>\n",
       "      <th>nrEntry</th>\n",
       "      <th>ltue</th>\n",
       "      <th>employed_before</th>\n",
       "      <th>receipt_leh_before</th>\n",
       "      <th>receipt_lhg_before</th>\n",
       "      <th>se_before</th>\n",
       "      <th>ASU_notue_seeking_before</th>\n",
       "      <th>ASU_other_before</th>\n",
       "      <th>...</th>\n",
       "      <th>minijob_tot_dur_byage</th>\n",
       "      <th>ft_tot_dur_byage</th>\n",
       "      <th>befrist_tot_dur_byage</th>\n",
       "      <th>leih_tot_dur_byage</th>\n",
       "      <th>LHG_tot_dur_byage</th>\n",
       "      <th>LEH_tot_dur_byage</th>\n",
       "      <th>almp_tot_dur_byage</th>\n",
       "      <th>almp_aw_tot_dur_byage</th>\n",
       "      <th>se_tot_dur_byage</th>\n",
       "      <th>seeking1_tot_dur_byage</th>\n",
       "    </tr>\n",
       "  </thead>\n",
       "  <tbody>\n",
       "    <tr>\n",
       "      <th>0</th>\n",
       "      <td>7</td>\n",
       "      <td>2015</td>\n",
       "      <td>1</td>\n",
       "      <td>0</td>\n",
       "      <td>1</td>\n",
       "      <td>0</td>\n",
       "      <td>0</td>\n",
       "      <td>0</td>\n",
       "      <td>1</td>\n",
       "      <td>0</td>\n",
       "      <td>...</td>\n",
       "      <td>0.000000</td>\n",
       "      <td>0.000000</td>\n",
       "      <td>15.043478</td>\n",
       "      <td>0.000000</td>\n",
       "      <td>0.000000</td>\n",
       "      <td>0.000000</td>\n",
       "      <td>0.000000</td>\n",
       "      <td>0.000000</td>\n",
       "      <td>0.000000</td>\n",
       "      <td>0.000000</td>\n",
       "    </tr>\n",
       "    <tr>\n",
       "      <th>1</th>\n",
       "      <td>18</td>\n",
       "      <td>2010</td>\n",
       "      <td>1</td>\n",
       "      <td>1</td>\n",
       "      <td>0</td>\n",
       "      <td>0</td>\n",
       "      <td>0</td>\n",
       "      <td>0</td>\n",
       "      <td>0</td>\n",
       "      <td>0</td>\n",
       "      <td>...</td>\n",
       "      <td>0.000000</td>\n",
       "      <td>0.000000</td>\n",
       "      <td>0.000000</td>\n",
       "      <td>0.000000</td>\n",
       "      <td>0.000000</td>\n",
       "      <td>0.000000</td>\n",
       "      <td>0.000000</td>\n",
       "      <td>0.000000</td>\n",
       "      <td>0.000000</td>\n",
       "      <td>0.000000</td>\n",
       "    </tr>\n",
       "    <tr>\n",
       "      <th>2</th>\n",
       "      <td>18</td>\n",
       "      <td>2011</td>\n",
       "      <td>2</td>\n",
       "      <td>0</td>\n",
       "      <td>1</td>\n",
       "      <td>0</td>\n",
       "      <td>1</td>\n",
       "      <td>0</td>\n",
       "      <td>1</td>\n",
       "      <td>0</td>\n",
       "      <td>...</td>\n",
       "      <td>2.714286</td>\n",
       "      <td>2.714286</td>\n",
       "      <td>0.000000</td>\n",
       "      <td>0.000000</td>\n",
       "      <td>10.775510</td>\n",
       "      <td>0.000000</td>\n",
       "      <td>8.367347</td>\n",
       "      <td>0.000000</td>\n",
       "      <td>0.000000</td>\n",
       "      <td>9.836735</td>\n",
       "    </tr>\n",
       "    <tr>\n",
       "      <th>3</th>\n",
       "      <td>18</td>\n",
       "      <td>2012</td>\n",
       "      <td>3</td>\n",
       "      <td>0</td>\n",
       "      <td>1</td>\n",
       "      <td>0</td>\n",
       "      <td>1</td>\n",
       "      <td>0</td>\n",
       "      <td>1</td>\n",
       "      <td>0</td>\n",
       "      <td>...</td>\n",
       "      <td>4.200000</td>\n",
       "      <td>4.200000</td>\n",
       "      <td>0.000000</td>\n",
       "      <td>0.000000</td>\n",
       "      <td>12.100000</td>\n",
       "      <td>0.000000</td>\n",
       "      <td>9.400000</td>\n",
       "      <td>0.000000</td>\n",
       "      <td>0.000000</td>\n",
       "      <td>9.960000</td>\n",
       "    </tr>\n",
       "    <tr>\n",
       "      <th>4</th>\n",
       "      <td>18</td>\n",
       "      <td>2012</td>\n",
       "      <td>4</td>\n",
       "      <td>0</td>\n",
       "      <td>1</td>\n",
       "      <td>0</td>\n",
       "      <td>1</td>\n",
       "      <td>0</td>\n",
       "      <td>1</td>\n",
       "      <td>0</td>\n",
       "      <td>...</td>\n",
       "      <td>5.460000</td>\n",
       "      <td>5.460000</td>\n",
       "      <td>0.000000</td>\n",
       "      <td>0.000000</td>\n",
       "      <td>13.360000</td>\n",
       "      <td>0.000000</td>\n",
       "      <td>10.320000</td>\n",
       "      <td>0.000000</td>\n",
       "      <td>0.000000</td>\n",
       "      <td>10.280000</td>\n",
       "    </tr>\n",
       "    <tr>\n",
       "      <th>...</th>\n",
       "      <td>...</td>\n",
       "      <td>...</td>\n",
       "      <td>...</td>\n",
       "      <td>...</td>\n",
       "      <td>...</td>\n",
       "      <td>...</td>\n",
       "      <td>...</td>\n",
       "      <td>...</td>\n",
       "      <td>...</td>\n",
       "      <td>...</td>\n",
       "      <td>...</td>\n",
       "      <td>...</td>\n",
       "      <td>...</td>\n",
       "      <td>...</td>\n",
       "      <td>...</td>\n",
       "      <td>...</td>\n",
       "      <td>...</td>\n",
       "      <td>...</td>\n",
       "      <td>...</td>\n",
       "      <td>...</td>\n",
       "      <td>...</td>\n",
       "    </tr>\n",
       "    <tr>\n",
       "      <th>643685</th>\n",
       "      <td>1827860</td>\n",
       "      <td>2013</td>\n",
       "      <td>1</td>\n",
       "      <td>0</td>\n",
       "      <td>0</td>\n",
       "      <td>0</td>\n",
       "      <td>1</td>\n",
       "      <td>0</td>\n",
       "      <td>0</td>\n",
       "      <td>1</td>\n",
       "      <td>...</td>\n",
       "      <td>0.000000</td>\n",
       "      <td>0.000000</td>\n",
       "      <td>0.000000</td>\n",
       "      <td>0.000000</td>\n",
       "      <td>0.612903</td>\n",
       "      <td>0.000000</td>\n",
       "      <td>0.000000</td>\n",
       "      <td>0.000000</td>\n",
       "      <td>0.000000</td>\n",
       "      <td>0.000000</td>\n",
       "    </tr>\n",
       "    <tr>\n",
       "      <th>643686</th>\n",
       "      <td>1827860</td>\n",
       "      <td>2015</td>\n",
       "      <td>2</td>\n",
       "      <td>1</td>\n",
       "      <td>0</td>\n",
       "      <td>0</td>\n",
       "      <td>1</td>\n",
       "      <td>0</td>\n",
       "      <td>1</td>\n",
       "      <td>0</td>\n",
       "      <td>...</td>\n",
       "      <td>0.000000</td>\n",
       "      <td>0.000000</td>\n",
       "      <td>0.212121</td>\n",
       "      <td>0.212121</td>\n",
       "      <td>17.363636</td>\n",
       "      <td>0.000000</td>\n",
       "      <td>8.909091</td>\n",
       "      <td>0.000000</td>\n",
       "      <td>0.000000</td>\n",
       "      <td>7.121212</td>\n",
       "    </tr>\n",
       "    <tr>\n",
       "      <th>643687</th>\n",
       "      <td>1827860</td>\n",
       "      <td>2016</td>\n",
       "      <td>3</td>\n",
       "      <td>1</td>\n",
       "      <td>0</td>\n",
       "      <td>0</td>\n",
       "      <td>1</td>\n",
       "      <td>1</td>\n",
       "      <td>0</td>\n",
       "      <td>1</td>\n",
       "      <td>...</td>\n",
       "      <td>0.000000</td>\n",
       "      <td>0.000000</td>\n",
       "      <td>0.294118</td>\n",
       "      <td>0.205882</td>\n",
       "      <td>34.705882</td>\n",
       "      <td>0.000000</td>\n",
       "      <td>10.352941</td>\n",
       "      <td>1.705882</td>\n",
       "      <td>1.705882</td>\n",
       "      <td>23.911765</td>\n",
       "    </tr>\n",
       "    <tr>\n",
       "      <th>643688</th>\n",
       "      <td>1827869</td>\n",
       "      <td>2013</td>\n",
       "      <td>1</td>\n",
       "      <td>1</td>\n",
       "      <td>1</td>\n",
       "      <td>0</td>\n",
       "      <td>0</td>\n",
       "      <td>0</td>\n",
       "      <td>1</td>\n",
       "      <td>0</td>\n",
       "      <td>...</td>\n",
       "      <td>0.000000</td>\n",
       "      <td>0.000000</td>\n",
       "      <td>0.000000</td>\n",
       "      <td>0.000000</td>\n",
       "      <td>0.000000</td>\n",
       "      <td>0.525424</td>\n",
       "      <td>0.000000</td>\n",
       "      <td>0.000000</td>\n",
       "      <td>0.000000</td>\n",
       "      <td>0.000000</td>\n",
       "    </tr>\n",
       "    <tr>\n",
       "      <th>643689</th>\n",
       "      <td>1827869</td>\n",
       "      <td>2014</td>\n",
       "      <td>2</td>\n",
       "      <td>0</td>\n",
       "      <td>0</td>\n",
       "      <td>1</td>\n",
       "      <td>0</td>\n",
       "      <td>0</td>\n",
       "      <td>1</td>\n",
       "      <td>0</td>\n",
       "      <td>...</td>\n",
       "      <td>0.000000</td>\n",
       "      <td>0.666667</td>\n",
       "      <td>0.666667</td>\n",
       "      <td>0.000000</td>\n",
       "      <td>0.000000</td>\n",
       "      <td>8.950000</td>\n",
       "      <td>1.033333</td>\n",
       "      <td>0.083333</td>\n",
       "      <td>0.083333</td>\n",
       "      <td>8.133333</td>\n",
       "    </tr>\n",
       "  </tbody>\n",
       "</table>\n",
       "<p>643690 rows × 164 columns</p>\n",
       "</div>"
      ],
      "text/plain": [
       "         persnr  year  nrEntry  ltue  employed_before  receipt_leh_before  \\\n",
       "0             7  2015        1     0                1                   0   \n",
       "1            18  2010        1     1                0                   0   \n",
       "2            18  2011        2     0                1                   0   \n",
       "3            18  2012        3     0                1                   0   \n",
       "4            18  2012        4     0                1                   0   \n",
       "...         ...   ...      ...   ...              ...                 ...   \n",
       "643685  1827860  2013        1     0                0                   0   \n",
       "643686  1827860  2015        2     1                0                   0   \n",
       "643687  1827860  2016        3     1                0                   0   \n",
       "643688  1827869  2013        1     1                1                   0   \n",
       "643689  1827869  2014        2     0                0                   1   \n",
       "\n",
       "        receipt_lhg_before  se_before  ASU_notue_seeking_before  \\\n",
       "0                        0          0                         1   \n",
       "1                        0          0                         0   \n",
       "2                        1          0                         1   \n",
       "3                        1          0                         1   \n",
       "4                        1          0                         1   \n",
       "...                    ...        ...                       ...   \n",
       "643685                   1          0                         0   \n",
       "643686                   1          0                         1   \n",
       "643687                   1          1                         0   \n",
       "643688                   0          0                         1   \n",
       "643689                   0          0                         1   \n",
       "\n",
       "        ASU_other_before  ...  minijob_tot_dur_byage  ft_tot_dur_byage  \\\n",
       "0                      0  ...               0.000000          0.000000   \n",
       "1                      0  ...               0.000000          0.000000   \n",
       "2                      0  ...               2.714286          2.714286   \n",
       "3                      0  ...               4.200000          4.200000   \n",
       "4                      0  ...               5.460000          5.460000   \n",
       "...                  ...  ...                    ...               ...   \n",
       "643685                 1  ...               0.000000          0.000000   \n",
       "643686                 0  ...               0.000000          0.000000   \n",
       "643687                 1  ...               0.000000          0.000000   \n",
       "643688                 0  ...               0.000000          0.000000   \n",
       "643689                 0  ...               0.000000          0.666667   \n",
       "\n",
       "        befrist_tot_dur_byage  leih_tot_dur_byage  LHG_tot_dur_byage  \\\n",
       "0                   15.043478            0.000000           0.000000   \n",
       "1                    0.000000            0.000000           0.000000   \n",
       "2                    0.000000            0.000000          10.775510   \n",
       "3                    0.000000            0.000000          12.100000   \n",
       "4                    0.000000            0.000000          13.360000   \n",
       "...                       ...                 ...                ...   \n",
       "643685               0.000000            0.000000           0.612903   \n",
       "643686               0.212121            0.212121          17.363636   \n",
       "643687               0.294118            0.205882          34.705882   \n",
       "643688               0.000000            0.000000           0.000000   \n",
       "643689               0.666667            0.000000           0.000000   \n",
       "\n",
       "        LEH_tot_dur_byage  almp_tot_dur_byage  almp_aw_tot_dur_byage  \\\n",
       "0                0.000000            0.000000               0.000000   \n",
       "1                0.000000            0.000000               0.000000   \n",
       "2                0.000000            8.367347               0.000000   \n",
       "3                0.000000            9.400000               0.000000   \n",
       "4                0.000000           10.320000               0.000000   \n",
       "...                   ...                 ...                    ...   \n",
       "643685           0.000000            0.000000               0.000000   \n",
       "643686           0.000000            8.909091               0.000000   \n",
       "643687           0.000000           10.352941               1.705882   \n",
       "643688           0.525424            0.000000               0.000000   \n",
       "643689           8.950000            1.033333               0.083333   \n",
       "\n",
       "        se_tot_dur_byage  seeking1_tot_dur_byage  \n",
       "0               0.000000                0.000000  \n",
       "1               0.000000                0.000000  \n",
       "2               0.000000                9.836735  \n",
       "3               0.000000                9.960000  \n",
       "4               0.000000               10.280000  \n",
       "...                  ...                     ...  \n",
       "643685          0.000000                0.000000  \n",
       "643686          0.000000                7.121212  \n",
       "643687          1.705882               23.911765  \n",
       "643688          0.000000                0.000000  \n",
       "643689          0.083333                8.133333  \n",
       "\n",
       "[643690 rows x 164 columns]"
      ]
     },
     "execution_count": 10,
     "metadata": {},
     "output_type": "execute_result"
    }
   ],
   "source": [
    "siab"
   ]
  },
  {
   "cell_type": "markdown",
   "id": "1f87e805",
   "metadata": {
    "papermill": {
     "duration": 0.011834,
     "end_time": "2025-08-19T19:08:38.426212",
     "exception": false,
     "start_time": "2025-08-19T19:08:38.414378",
     "status": "completed"
    },
    "tags": []
   },
   "source": [
    "# Splitting Data and Setting Training Data Size"
   ]
  },
  {
   "cell_type": "code",
   "execution_count": 11,
   "id": "910ae358",
   "metadata": {
    "execution": {
     "iopub.execute_input": "2025-08-19T19:08:38.448393Z",
     "iopub.status.busy": "2025-08-19T19:08:38.447197Z",
     "iopub.status.idle": "2025-08-19T19:08:39.560077Z",
     "shell.execute_reply": "2025-08-19T19:08:39.558577Z"
    },
    "papermill": {
     "duration": 1.126271,
     "end_time": "2025-08-19T19:08:39.562242",
     "exception": false,
     "start_time": "2025-08-19T19:08:38.435971",
     "status": "completed"
    },
    "tags": []
   },
   "outputs": [],
   "source": [
    "from fairness_multiverse.universe import sample_by_year_size\n",
    "\n",
    "siab_train = sample_by_year_size(siab,\n",
    "                               training_year=universe[\"training_year\"],\n",
    "                               training_size=universe[\"training_size\"])"
   ]
  },
  {
   "cell_type": "code",
   "execution_count": 12,
   "id": "919c8ff5",
   "metadata": {
    "execution": {
     "iopub.execute_input": "2025-08-19T19:08:39.585660Z",
     "iopub.status.busy": "2025-08-19T19:08:39.584783Z",
     "iopub.status.idle": "2025-08-19T19:08:39.592287Z",
     "shell.execute_reply": "2025-08-19T19:08:39.591197Z"
    },
    "papermill": {
     "duration": 0.020767,
     "end_time": "2025-08-19T19:08:39.593852",
     "exception": false,
     "start_time": "2025-08-19T19:08:39.573085",
     "status": "completed"
    },
    "tags": []
   },
   "outputs": [
    {
     "data": {
      "text/plain": [
       "(1000, 164)"
      ]
     },
     "execution_count": 12,
     "metadata": {},
     "output_type": "execute_result"
    }
   ],
   "source": [
    "siab_train.shape"
   ]
  },
  {
   "cell_type": "code",
   "execution_count": 13,
   "id": "feb13bf4",
   "metadata": {
    "execution": {
     "iopub.execute_input": "2025-08-19T19:08:39.618122Z",
     "iopub.status.busy": "2025-08-19T19:08:39.617113Z",
     "iopub.status.idle": "2025-08-19T19:08:39.632099Z",
     "shell.execute_reply": "2025-08-19T19:08:39.630995Z"
    },
    "papermill": {
     "duration": 0.028611,
     "end_time": "2025-08-19T19:08:39.633698",
     "exception": false,
     "start_time": "2025-08-19T19:08:39.605087",
     "status": "completed"
    },
    "tags": []
   },
   "outputs": [
    {
     "data": {
      "text/plain": [
       "year\n",
       "2010    200\n",
       "2011    200\n",
       "2012    200\n",
       "2013    200\n",
       "2014    200\n",
       "dtype: int64"
      ]
     },
     "metadata": {},
     "output_type": "display_data"
    }
   ],
   "source": [
    "display(siab_train.groupby(\"year\").size())"
   ]
  },
  {
   "cell_type": "code",
   "execution_count": 14,
   "id": "0997782f",
   "metadata": {
    "execution": {
     "iopub.execute_input": "2025-08-19T19:08:39.660298Z",
     "iopub.status.busy": "2025-08-19T19:08:39.659294Z",
     "iopub.status.idle": "2025-08-19T19:08:39.911480Z",
     "shell.execute_reply": "2025-08-19T19:08:39.910825Z"
    },
    "papermill": {
     "duration": 0.265632,
     "end_time": "2025-08-19T19:08:39.912851",
     "exception": false,
     "start_time": "2025-08-19T19:08:39.647219",
     "status": "completed"
    },
    "tags": []
   },
   "outputs": [],
   "source": [
    "#siab_train = siab_s[siab_s.year < 2015]\n",
    "siab_calib = siab[siab.year == 2015]\n",
    "siab_test = siab[siab.year == 2016]"
   ]
  },
  {
   "cell_type": "code",
   "execution_count": 15,
   "id": "2c1e4012",
   "metadata": {
    "execution": {
     "iopub.execute_input": "2025-08-19T19:08:39.946864Z",
     "iopub.status.busy": "2025-08-19T19:08:39.946397Z",
     "iopub.status.idle": "2025-08-19T19:08:39.950754Z",
     "shell.execute_reply": "2025-08-19T19:08:39.949999Z"
    },
    "papermill": {
     "duration": 0.024735,
     "end_time": "2025-08-19T19:08:39.953929",
     "exception": false,
     "start_time": "2025-08-19T19:08:39.929194",
     "status": "completed"
    },
    "tags": []
   },
   "outputs": [],
   "source": [
    "#siab_calib.shape"
   ]
  },
  {
   "cell_type": "code",
   "execution_count": 16,
   "id": "f66b54ca",
   "metadata": {
    "execution": {
     "iopub.execute_input": "2025-08-19T19:08:40.008817Z",
     "iopub.status.busy": "2025-08-19T19:08:40.008330Z",
     "iopub.status.idle": "2025-08-19T19:08:40.012891Z",
     "shell.execute_reply": "2025-08-19T19:08:40.012054Z"
    },
    "papermill": {
     "duration": 0.028549,
     "end_time": "2025-08-19T19:08:40.014855",
     "exception": false,
     "start_time": "2025-08-19T19:08:39.986306",
     "status": "completed"
    },
    "tags": []
   },
   "outputs": [],
   "source": [
    "#siab_test.shape"
   ]
  },
  {
   "cell_type": "code",
   "execution_count": 17,
   "id": "27e4384d",
   "metadata": {
    "execution": {
     "iopub.execute_input": "2025-08-19T19:08:40.035679Z",
     "iopub.status.busy": "2025-08-19T19:08:40.035354Z",
     "iopub.status.idle": "2025-08-19T19:08:40.041127Z",
     "shell.execute_reply": "2025-08-19T19:08:40.040381Z"
    },
    "papermill": {
     "duration": 0.017926,
     "end_time": "2025-08-19T19:08:40.042791",
     "exception": false,
     "start_time": "2025-08-19T19:08:40.024865",
     "status": "completed"
    },
    "tags": []
   },
   "outputs": [],
   "source": [
    "X_train = siab_train.iloc[:,4:164]\n",
    "y_train = siab_train.iloc[:, [3]]"
   ]
  },
  {
   "cell_type": "code",
   "execution_count": 18,
   "id": "08ee8389",
   "metadata": {
    "execution": {
     "iopub.execute_input": "2025-08-19T19:08:40.065206Z",
     "iopub.status.busy": "2025-08-19T19:08:40.064879Z",
     "iopub.status.idle": "2025-08-19T19:08:40.119140Z",
     "shell.execute_reply": "2025-08-19T19:08:40.118383Z"
    },
    "papermill": {
     "duration": 0.06635,
     "end_time": "2025-08-19T19:08:40.120697",
     "exception": false,
     "start_time": "2025-08-19T19:08:40.054347",
     "status": "completed"
    },
    "tags": []
   },
   "outputs": [],
   "source": [
    "X_calib = siab_calib.iloc[:,4:164]\n",
    "y_calib = siab_calib.iloc[:, [3]]"
   ]
  },
  {
   "cell_type": "code",
   "execution_count": 19,
   "id": "b7ff42e0",
   "metadata": {
    "execution": {
     "iopub.execute_input": "2025-08-19T19:08:40.145766Z",
     "iopub.status.busy": "2025-08-19T19:08:40.145100Z",
     "iopub.status.idle": "2025-08-19T19:08:40.202985Z",
     "shell.execute_reply": "2025-08-19T19:08:40.202207Z"
    },
    "papermill": {
     "duration": 0.072742,
     "end_time": "2025-08-19T19:08:40.205683",
     "exception": false,
     "start_time": "2025-08-19T19:08:40.132941",
     "status": "completed"
    },
    "tags": []
   },
   "outputs": [],
   "source": [
    "X_test = siab_test.iloc[:,4:164]\n",
    "y_true = siab_test.iloc[:, [3]]"
   ]
  },
  {
   "cell_type": "code",
   "execution_count": 20,
   "id": "0275101e",
   "metadata": {
    "execution": {
     "iopub.execute_input": "2025-08-19T19:08:40.245885Z",
     "iopub.status.busy": "2025-08-19T19:08:40.244998Z",
     "iopub.status.idle": "2025-08-19T19:08:40.360463Z",
     "shell.execute_reply": "2025-08-19T19:08:40.359807Z"
    },
    "papermill": {
     "duration": 0.132692,
     "end_time": "2025-08-19T19:08:40.363095",
     "exception": false,
     "start_time": "2025-08-19T19:08:40.230403",
     "status": "completed"
    },
    "tags": []
   },
   "outputs": [],
   "source": [
    "# Auxiliary data needed downstream in the pipeline\n",
    "\n",
    "org_train = X_train.copy()\n",
    "org_test = X_test.copy()\n",
    "org_calib = X_calib.copy()"
   ]
  },
  {
   "cell_type": "markdown",
   "id": "b461e618",
   "metadata": {
    "papermill": {
     "duration": 0.013653,
     "end_time": "2025-08-19T19:08:40.403297",
     "exception": false,
     "start_time": "2025-08-19T19:08:40.389644",
     "status": "completed"
    },
    "tags": []
   },
   "source": [
    "# Preprocessing Data"
   ]
  },
  {
   "cell_type": "code",
   "execution_count": 21,
   "id": "78e74c4b",
   "metadata": {
    "execution": {
     "iopub.execute_input": "2025-08-19T19:08:40.432053Z",
     "iopub.status.busy": "2025-08-19T19:08:40.430291Z",
     "iopub.status.idle": "2025-08-19T19:08:40.440809Z",
     "shell.execute_reply": "2025-08-19T19:08:40.439497Z"
    },
    "papermill": {
     "duration": 0.025699,
     "end_time": "2025-08-19T19:08:40.442371",
     "exception": false,
     "start_time": "2025-08-19T19:08:40.416672",
     "status": "completed"
    },
    "tags": []
   },
   "outputs": [],
   "source": [
    "# EXCLUDE PROTECTED FEATURES\n",
    "# --------------------------\n",
    "\n",
    "excluded_features = universe[\"exclude_features\"].split(\"-\")\n",
    "excluded_features_dictionary = {\n",
    "    \"nationality\": [\"maxdeutsch1\", \"maxdeutsch.Missing.\"],\n",
    "    \"sex\": [\"frau1\"],\n",
    "    \"age\": [\"age\"],\n",
    "}"
   ]
  },
  {
   "cell_type": "code",
   "execution_count": 22,
   "id": "f8e63555",
   "metadata": {
    "execution": {
     "iopub.execute_input": "2025-08-19T19:08:40.469696Z",
     "iopub.status.busy": "2025-08-19T19:08:40.468445Z",
     "iopub.status.idle": "2025-08-19T19:08:40.477435Z",
     "shell.execute_reply": "2025-08-19T19:08:40.475850Z"
    },
    "papermill": {
     "duration": 0.022976,
     "end_time": "2025-08-19T19:08:40.479098",
     "exception": false,
     "start_time": "2025-08-19T19:08:40.456122",
     "status": "completed"
    },
    "tags": []
   },
   "outputs": [],
   "source": [
    "excluded_features_columns = [\n",
    "    excluded_features_dictionary[f] for f in excluded_features if len(f) > 0 and f != \"none\"\n",
    "]"
   ]
  },
  {
   "cell_type": "code",
   "execution_count": 23,
   "id": "da781f7c",
   "metadata": {
    "execution": {
     "iopub.execute_input": "2025-08-19T19:08:40.508187Z",
     "iopub.status.busy": "2025-08-19T19:08:40.507186Z",
     "iopub.status.idle": "2025-08-19T19:08:40.520697Z",
     "shell.execute_reply": "2025-08-19T19:08:40.519232Z"
    },
    "papermill": {
     "duration": 0.030598,
     "end_time": "2025-08-19T19:08:40.522555",
     "exception": false,
     "start_time": "2025-08-19T19:08:40.491957",
     "status": "completed"
    },
    "tags": []
   },
   "outputs": [],
   "source": [
    "from fairness_multiverse.universe import flatten_once\n",
    "\n",
    "excluded_features_columns = flatten_once(excluded_features_columns)"
   ]
  },
  {
   "cell_type": "code",
   "execution_count": 24,
   "id": "37fef0f0",
   "metadata": {
    "execution": {
     "iopub.execute_input": "2025-08-19T19:08:40.552812Z",
     "iopub.status.busy": "2025-08-19T19:08:40.551758Z",
     "iopub.status.idle": "2025-08-19T19:08:40.565282Z",
     "shell.execute_reply": "2025-08-19T19:08:40.563919Z"
    },
    "papermill": {
     "duration": 0.027544,
     "end_time": "2025-08-19T19:08:40.566818",
     "exception": false,
     "start_time": "2025-08-19T19:08:40.539274",
     "status": "completed"
    },
    "tags": []
   },
   "outputs": [
    {
     "name": "stdout",
     "output_type": "stream",
     "text": [
      "Dropping features: ['age']\n"
     ]
    }
   ],
   "source": [
    "if len(excluded_features_columns) > 0:\n",
    "    print(f\"Dropping features: {excluded_features_columns}\")\n",
    "    X_train.drop(excluded_features_columns, axis=1, inplace=True)"
   ]
  },
  {
   "cell_type": "code",
   "execution_count": 25,
   "id": "d029e3e9",
   "metadata": {
    "execution": {
     "iopub.execute_input": "2025-08-19T19:08:40.597159Z",
     "iopub.status.busy": "2025-08-19T19:08:40.596041Z",
     "iopub.status.idle": "2025-08-19T19:08:40.659453Z",
     "shell.execute_reply": "2025-08-19T19:08:40.658709Z"
    },
    "papermill": {
     "duration": 0.080472,
     "end_time": "2025-08-19T19:08:40.663731",
     "exception": false,
     "start_time": "2025-08-19T19:08:40.583259",
     "status": "completed"
    },
    "tags": []
   },
   "outputs": [
    {
     "name": "stdout",
     "output_type": "stream",
     "text": [
      "Dropping features: ['age']\n"
     ]
    }
   ],
   "source": [
    "if len(excluded_features_columns) > 0:\n",
    "    print(f\"Dropping features: {excluded_features_columns}\")\n",
    "    X_test.drop(excluded_features_columns, axis=1, inplace=True)"
   ]
  },
  {
   "cell_type": "code",
   "execution_count": 26,
   "id": "01d571f0",
   "metadata": {
    "execution": {
     "iopub.execute_input": "2025-08-19T19:08:40.704536Z",
     "iopub.status.busy": "2025-08-19T19:08:40.703503Z",
     "iopub.status.idle": "2025-08-19T19:08:40.786502Z",
     "shell.execute_reply": "2025-08-19T19:08:40.785191Z"
    },
    "papermill": {
     "duration": 0.10194,
     "end_time": "2025-08-19T19:08:40.788437",
     "exception": false,
     "start_time": "2025-08-19T19:08:40.686497",
     "status": "completed"
    },
    "tags": []
   },
   "outputs": [
    {
     "name": "stdout",
     "output_type": "stream",
     "text": [
      "Dropping features: ['age']\n"
     ]
    }
   ],
   "source": [
    "if len(excluded_features_columns) > 0:\n",
    "    print(f\"Dropping features: {excluded_features_columns}\")\n",
    "    X_calib.drop(excluded_features_columns, axis=1, inplace=True)"
   ]
  },
  {
   "cell_type": "code",
   "execution_count": 27,
   "id": "3037356e",
   "metadata": {
    "execution": {
     "iopub.execute_input": "2025-08-19T19:08:40.816868Z",
     "iopub.status.busy": "2025-08-19T19:08:40.815248Z",
     "iopub.status.idle": "2025-08-19T19:08:40.824277Z",
     "shell.execute_reply": "2025-08-19T19:08:40.822635Z"
    },
    "papermill": {
     "duration": 0.023172,
     "end_time": "2025-08-19T19:08:40.825937",
     "exception": false,
     "start_time": "2025-08-19T19:08:40.802765",
     "status": "completed"
    },
    "tags": []
   },
   "outputs": [],
   "source": [
    "# EXCLUDE CERTAIN SUBGROUPS\n",
    "# -------------------------\n",
    "\n",
    "mode = universe.get(\"exclude_subgroups\", \"keep-all\") # Defaults to \"keep-all\" if the key is missing."
   ]
  },
  {
   "cell_type": "code",
   "execution_count": 28,
   "id": "9d1e63fd",
   "metadata": {
    "execution": {
     "iopub.execute_input": "2025-08-19T19:08:40.853297Z",
     "iopub.status.busy": "2025-08-19T19:08:40.852042Z",
     "iopub.status.idle": "2025-08-19T19:08:40.863256Z",
     "shell.execute_reply": "2025-08-19T19:08:40.861635Z"
    },
    "papermill": {
     "duration": 0.025345,
     "end_time": "2025-08-19T19:08:40.864829",
     "exception": false,
     "start_time": "2025-08-19T19:08:40.839484",
     "status": "completed"
    },
    "tags": []
   },
   "outputs": [],
   "source": [
    "if mode == \"keep-all\":\n",
    "    keep_mask = pd.Series(True, index=org_train.index)\n",
    "\n",
    "elif mode == \"drop-non-german\":\n",
    "    keep_mask = (org_train[\"maxdeutsch1\"] == 1) & (org_train[\"maxdeutsch.Missing.\"] == 0)\n",
    "\n",
    "else:\n",
    "    raise ValueError(f\"Unsupported mode for exclude_subgroups: {mode}\")"
   ]
  },
  {
   "cell_type": "code",
   "execution_count": 29,
   "id": "d3b65474",
   "metadata": {
    "execution": {
     "iopub.execute_input": "2025-08-19T19:08:40.891449Z",
     "iopub.status.busy": "2025-08-19T19:08:40.890035Z",
     "iopub.status.idle": "2025-08-19T19:08:40.900933Z",
     "shell.execute_reply": "2025-08-19T19:08:40.899238Z"
    },
    "papermill": {
     "duration": 0.024576,
     "end_time": "2025-08-19T19:08:40.902361",
     "exception": false,
     "start_time": "2025-08-19T19:08:40.877785",
     "status": "completed"
    },
    "tags": []
   },
   "outputs": [],
   "source": [
    "n_drop = (~keep_mask).sum() # Calculates how many rows are set to be dropped\n",
    "if n_drop > 0:\n",
    "    pct = n_drop / len(keep_mask) * 100\n",
    "    print(f\"Dropping {n_drop} rows ({pct:.2f}%) where mode='{mode}'\")"
   ]
  },
  {
   "cell_type": "code",
   "execution_count": 30,
   "id": "f44389b3",
   "metadata": {
    "execution": {
     "iopub.execute_input": "2025-08-19T19:08:40.925686Z",
     "iopub.status.busy": "2025-08-19T19:08:40.924628Z",
     "iopub.status.idle": "2025-08-19T19:08:40.934366Z",
     "shell.execute_reply": "2025-08-19T19:08:40.932988Z"
    },
    "papermill": {
     "duration": 0.023094,
     "end_time": "2025-08-19T19:08:40.936018",
     "exception": false,
     "start_time": "2025-08-19T19:08:40.912924",
     "status": "completed"
    },
    "tags": []
   },
   "outputs": [],
   "source": [
    "X_train = X_train[keep_mask]"
   ]
  },
  {
   "cell_type": "code",
   "execution_count": 31,
   "id": "ceca8c2a",
   "metadata": {
    "execution": {
     "iopub.execute_input": "2025-08-19T19:08:40.962966Z",
     "iopub.status.busy": "2025-08-19T19:08:40.961971Z",
     "iopub.status.idle": "2025-08-19T19:08:40.971156Z",
     "shell.execute_reply": "2025-08-19T19:08:40.969569Z"
    },
    "papermill": {
     "duration": 0.023261,
     "end_time": "2025-08-19T19:08:40.972843",
     "exception": false,
     "start_time": "2025-08-19T19:08:40.949582",
     "status": "completed"
    },
    "tags": []
   },
   "outputs": [],
   "source": [
    "y_train = y_train[keep_mask]"
   ]
  },
  {
   "cell_type": "markdown",
   "id": "04d31e2f",
   "metadata": {
    "papermill": {
     "duration": 0.031451,
     "end_time": "2025-08-19T19:08:41.017536",
     "exception": false,
     "start_time": "2025-08-19T19:08:40.986085",
     "status": "completed"
    },
    "tags": []
   },
   "source": [
    "# Model Training"
   ]
  },
  {
   "cell_type": "code",
   "execution_count": 32,
   "id": "db991733",
   "metadata": {
    "execution": {
     "iopub.execute_input": "2025-08-19T19:08:41.043439Z",
     "iopub.status.busy": "2025-08-19T19:08:41.042572Z",
     "iopub.status.idle": "2025-08-19T19:08:41.139499Z",
     "shell.execute_reply": "2025-08-19T19:08:41.135880Z"
    },
    "papermill": {
     "duration": 0.110337,
     "end_time": "2025-08-19T19:08:41.141041",
     "exception": false,
     "start_time": "2025-08-19T19:08:41.030704",
     "status": "completed"
    },
    "tags": []
   },
   "outputs": [],
   "source": [
    "from sklearn.linear_model import LogisticRegression\n",
    "from sklearn.ensemble import GradientBoostingClassifier, RandomForestClassifier\n",
    "\n",
    "if (universe[\"model\"] == \"logreg\"):\n",
    "    model = LogisticRegression() #penalty=\"none\", solver=\"newton-cg\", max_iter=1)\n",
    "elif (universe[\"model\"] == \"penalized_logreg\"):\n",
    "    model = LogisticRegression(penalty=\"l2\", C=0.1) #, solver=\"newton-cg\", max_iter=1)\n",
    "elif (universe[\"model\"] == \"rf\"):\n",
    "    model = RandomForestClassifier() # n_estimators=100, n_jobs=-1\n",
    "elif (universe[\"model\"] == \"gbm\"):\n",
    "    model = GradientBoostingClassifier()\n",
    "elif (universe[\"model\"] == \"elasticnet\"):\n",
    "    model = LogisticRegression(penalty = 'elasticnet', solver = 'saga', l1_ratio = 0.5) # max_iter=5000\n",
    "else:\n",
    "    raise \"Unsupported universe.model\""
   ]
  },
  {
   "cell_type": "code",
   "execution_count": 33,
   "id": "a4b5cd25",
   "metadata": {
    "execution": {
     "iopub.execute_input": "2025-08-19T19:08:41.165440Z",
     "iopub.status.busy": "2025-08-19T19:08:41.165037Z",
     "iopub.status.idle": "2025-08-19T19:08:41.171016Z",
     "shell.execute_reply": "2025-08-19T19:08:41.169891Z"
    },
    "papermill": {
     "duration": 0.020058,
     "end_time": "2025-08-19T19:08:41.172742",
     "exception": false,
     "start_time": "2025-08-19T19:08:41.152684",
     "status": "completed"
    },
    "tags": []
   },
   "outputs": [],
   "source": [
    "from sklearn.pipeline import Pipeline\n",
    "from sklearn.preprocessing import StandardScaler\n",
    "\n",
    "model = Pipeline([\n",
    "    #(\"continuous_processor\", continuous_processor),\n",
    "    #(\"categorical_preprocessor\", categorical_preprocessor),\n",
    "    (\"scale\", StandardScaler() if universe[\"scale\"] == \"scale\" else None), \n",
    "    (\"model\", model),\n",
    "])"
   ]
  },
  {
   "cell_type": "code",
   "execution_count": 34,
   "id": "283a904d",
   "metadata": {
    "execution": {
     "iopub.execute_input": "2025-08-19T19:08:41.197042Z",
     "iopub.status.busy": "2025-08-19T19:08:41.196674Z",
     "iopub.status.idle": "2025-08-19T19:08:41.446727Z",
     "shell.execute_reply": "2025-08-19T19:08:41.445843Z"
    },
    "papermill": {
     "duration": 0.263173,
     "end_time": "2025-08-19T19:08:41.448135",
     "exception": false,
     "start_time": "2025-08-19T19:08:41.184962",
     "status": "completed"
    },
    "tags": []
   },
   "outputs": [
    {
     "name": "stderr",
     "output_type": "stream",
     "text": [
      "/dss/dsshome1/0C/ra93lal2/.local/share/virtualenvs/CMA_Fairness_v2-3j10GkSs/lib/python3.10/site-packages/sklearn/linear_model/_sag.py:350: ConvergenceWarning: The max_iter was reached which means the coef_ did not converge\n",
      "  warnings.warn(\n"
     ]
    },
    {
     "data": {
      "text/html": [
       "<style>#sk-container-id-1 {color: black;background-color: white;}#sk-container-id-1 pre{padding: 0;}#sk-container-id-1 div.sk-toggleable {background-color: white;}#sk-container-id-1 label.sk-toggleable__label {cursor: pointer;display: block;width: 100%;margin-bottom: 0;padding: 0.3em;box-sizing: border-box;text-align: center;}#sk-container-id-1 label.sk-toggleable__label-arrow:before {content: \"▸\";float: left;margin-right: 0.25em;color: #696969;}#sk-container-id-1 label.sk-toggleable__label-arrow:hover:before {color: black;}#sk-container-id-1 div.sk-estimator:hover label.sk-toggleable__label-arrow:before {color: black;}#sk-container-id-1 div.sk-toggleable__content {max-height: 0;max-width: 0;overflow: hidden;text-align: left;background-color: #f0f8ff;}#sk-container-id-1 div.sk-toggleable__content pre {margin: 0.2em;color: black;border-radius: 0.25em;background-color: #f0f8ff;}#sk-container-id-1 input.sk-toggleable__control:checked~div.sk-toggleable__content {max-height: 200px;max-width: 100%;overflow: auto;}#sk-container-id-1 input.sk-toggleable__control:checked~label.sk-toggleable__label-arrow:before {content: \"▾\";}#sk-container-id-1 div.sk-estimator input.sk-toggleable__control:checked~label.sk-toggleable__label {background-color: #d4ebff;}#sk-container-id-1 div.sk-label input.sk-toggleable__control:checked~label.sk-toggleable__label {background-color: #d4ebff;}#sk-container-id-1 input.sk-hidden--visually {border: 0;clip: rect(1px 1px 1px 1px);clip: rect(1px, 1px, 1px, 1px);height: 1px;margin: -1px;overflow: hidden;padding: 0;position: absolute;width: 1px;}#sk-container-id-1 div.sk-estimator {font-family: monospace;background-color: #f0f8ff;border: 1px dotted black;border-radius: 0.25em;box-sizing: border-box;margin-bottom: 0.5em;}#sk-container-id-1 div.sk-estimator:hover {background-color: #d4ebff;}#sk-container-id-1 div.sk-parallel-item::after {content: \"\";width: 100%;border-bottom: 1px solid gray;flex-grow: 1;}#sk-container-id-1 div.sk-label:hover label.sk-toggleable__label {background-color: #d4ebff;}#sk-container-id-1 div.sk-serial::before {content: \"\";position: absolute;border-left: 1px solid gray;box-sizing: border-box;top: 0;bottom: 0;left: 50%;z-index: 0;}#sk-container-id-1 div.sk-serial {display: flex;flex-direction: column;align-items: center;background-color: white;padding-right: 0.2em;padding-left: 0.2em;position: relative;}#sk-container-id-1 div.sk-item {position: relative;z-index: 1;}#sk-container-id-1 div.sk-parallel {display: flex;align-items: stretch;justify-content: center;background-color: white;position: relative;}#sk-container-id-1 div.sk-item::before, #sk-container-id-1 div.sk-parallel-item::before {content: \"\";position: absolute;border-left: 1px solid gray;box-sizing: border-box;top: 0;bottom: 0;left: 50%;z-index: -1;}#sk-container-id-1 div.sk-parallel-item {display: flex;flex-direction: column;z-index: 1;position: relative;background-color: white;}#sk-container-id-1 div.sk-parallel-item:first-child::after {align-self: flex-end;width: 50%;}#sk-container-id-1 div.sk-parallel-item:last-child::after {align-self: flex-start;width: 50%;}#sk-container-id-1 div.sk-parallel-item:only-child::after {width: 0;}#sk-container-id-1 div.sk-dashed-wrapped {border: 1px dashed gray;margin: 0 0.4em 0.5em 0.4em;box-sizing: border-box;padding-bottom: 0.4em;background-color: white;}#sk-container-id-1 div.sk-label label {font-family: monospace;font-weight: bold;display: inline-block;line-height: 1.2em;}#sk-container-id-1 div.sk-label-container {text-align: center;}#sk-container-id-1 div.sk-container {/* jupyter's `normalize.less` sets `[hidden] { display: none; }` but bootstrap.min.css set `[hidden] { display: none !important; }` so we also need the `!important` here to be able to override the default hidden behavior on the sphinx rendered scikit-learn.org. See: https://github.com/scikit-learn/scikit-learn/issues/21755 */display: inline-block !important;position: relative;}#sk-container-id-1 div.sk-text-repr-fallback {display: none;}</style><div id=\"sk-container-id-1\" class=\"sk-top-container\"><div class=\"sk-text-repr-fallback\"><pre>Pipeline(steps=[(&#x27;scale&#x27;, StandardScaler()),\n",
       "                (&#x27;model&#x27;,\n",
       "                 LogisticRegression(l1_ratio=0.5, penalty=&#x27;elasticnet&#x27;,\n",
       "                                    solver=&#x27;saga&#x27;))])</pre><b>In a Jupyter environment, please rerun this cell to show the HTML representation or trust the notebook. <br />On GitHub, the HTML representation is unable to render, please try loading this page with nbviewer.org.</b></div><div class=\"sk-container\" hidden><div class=\"sk-item sk-dashed-wrapped\"><div class=\"sk-label-container\"><div class=\"sk-label sk-toggleable\"><input class=\"sk-toggleable__control sk-hidden--visually\" id=\"sk-estimator-id-1\" type=\"checkbox\" ><label for=\"sk-estimator-id-1\" class=\"sk-toggleable__label sk-toggleable__label-arrow\">Pipeline</label><div class=\"sk-toggleable__content\"><pre>Pipeline(steps=[(&#x27;scale&#x27;, StandardScaler()),\n",
       "                (&#x27;model&#x27;,\n",
       "                 LogisticRegression(l1_ratio=0.5, penalty=&#x27;elasticnet&#x27;,\n",
       "                                    solver=&#x27;saga&#x27;))])</pre></div></div></div><div class=\"sk-serial\"><div class=\"sk-item\"><div class=\"sk-estimator sk-toggleable\"><input class=\"sk-toggleable__control sk-hidden--visually\" id=\"sk-estimator-id-2\" type=\"checkbox\" ><label for=\"sk-estimator-id-2\" class=\"sk-toggleable__label sk-toggleable__label-arrow\">StandardScaler</label><div class=\"sk-toggleable__content\"><pre>StandardScaler()</pre></div></div></div><div class=\"sk-item\"><div class=\"sk-estimator sk-toggleable\"><input class=\"sk-toggleable__control sk-hidden--visually\" id=\"sk-estimator-id-3\" type=\"checkbox\" ><label for=\"sk-estimator-id-3\" class=\"sk-toggleable__label sk-toggleable__label-arrow\">LogisticRegression</label><div class=\"sk-toggleable__content\"><pre>LogisticRegression(l1_ratio=0.5, penalty=&#x27;elasticnet&#x27;, solver=&#x27;saga&#x27;)</pre></div></div></div></div></div></div></div>"
      ],
      "text/plain": [
       "Pipeline(steps=[('scale', StandardScaler()),\n",
       "                ('model',\n",
       "                 LogisticRegression(l1_ratio=0.5, penalty='elasticnet',\n",
       "                                    solver='saga'))])"
      ]
     },
     "execution_count": 34,
     "metadata": {},
     "output_type": "execute_result"
    }
   ],
   "source": [
    "model.fit(X_train, y_train.values.ravel())"
   ]
  },
  {
   "cell_type": "code",
   "execution_count": 35,
   "id": "6e15e313",
   "metadata": {
    "execution": {
     "iopub.execute_input": "2025-08-19T19:08:41.475860Z",
     "iopub.status.busy": "2025-08-19T19:08:41.475044Z",
     "iopub.status.idle": "2025-08-19T19:08:41.681039Z",
     "shell.execute_reply": "2025-08-19T19:08:41.680272Z"
    },
    "papermill": {
     "duration": 0.219897,
     "end_time": "2025-08-19T19:08:41.682345",
     "exception": false,
     "start_time": "2025-08-19T19:08:41.462448",
     "status": "completed"
    },
    "tags": []
   },
   "outputs": [
    {
     "data": {
      "text/plain": [
       "0.8285586891093524"
      ]
     },
     "execution_count": 35,
     "metadata": {},
     "output_type": "execute_result"
    }
   ],
   "source": [
    "from fairness_multiverse.universe import predict_w_threshold\n",
    "\n",
    "probs_test = model.predict_proba(X_test)\n",
    "\n",
    "'''\n",
    "Below code returns a boolean array (or binary 0/1 array depending on how it’s used) where each element \n",
    "is True if the probability of class 1 is greater than or equal to the threshold, and False otherwise.\n",
    "'''\n",
    "y_pred_default = predict_w_threshold(probs_test, 0.5)\n",
    "\n",
    "from sklearn.metrics import accuracy_score\n",
    "\n",
    "# Naive prediction\n",
    "accuracy_score(y_true = y_true, y_pred = y_pred_default)"
   ]
  },
  {
   "cell_type": "code",
   "execution_count": 36,
   "id": "6f14067c",
   "metadata": {
    "execution": {
     "iopub.execute_input": "2025-08-19T19:08:41.712110Z",
     "iopub.status.busy": "2025-08-19T19:08:41.707534Z",
     "iopub.status.idle": "2025-08-19T19:08:41.905278Z",
     "shell.execute_reply": "2025-08-19T19:08:41.904447Z"
    },
    "papermill": {
     "duration": 0.211981,
     "end_time": "2025-08-19T19:08:41.906634",
     "exception": false,
     "start_time": "2025-08-19T19:08:41.694653",
     "status": "completed"
    },
    "tags": []
   },
   "outputs": [
    {
     "data": {
      "text/plain": [
       "array([0, 0, 0, ..., 0, 0, 0])"
      ]
     },
     "execution_count": 36,
     "metadata": {},
     "output_type": "execute_result"
    }
   ],
   "source": [
    "model.predict(X_test)"
   ]
  },
  {
   "cell_type": "markdown",
   "id": "3759920c",
   "metadata": {
    "papermill": {
     "duration": 0.012016,
     "end_time": "2025-08-19T19:08:41.932750",
     "exception": false,
     "start_time": "2025-08-19T19:08:41.920734",
     "status": "completed"
    },
    "tags": []
   },
   "source": [
    "# Conformal Prediction"
   ]
  },
  {
   "cell_type": "code",
   "execution_count": 37,
   "id": "14b27f59",
   "metadata": {
    "execution": {
     "iopub.execute_input": "2025-08-19T19:08:41.957030Z",
     "iopub.status.busy": "2025-08-19T19:08:41.956405Z",
     "iopub.status.idle": "2025-08-19T19:08:41.960512Z",
     "shell.execute_reply": "2025-08-19T19:08:41.959802Z"
    },
    "papermill": {
     "duration": 0.017617,
     "end_time": "2025-08-19T19:08:41.961663",
     "exception": false,
     "start_time": "2025-08-19T19:08:41.944046",
     "status": "completed"
    },
    "tags": []
   },
   "outputs": [],
   "source": [
    "# Miscoverage level for conformal prediction (10% allowed error rate => 90% target coverage)\n",
    "alpha = 0.1"
   ]
  },
  {
   "cell_type": "code",
   "execution_count": 38,
   "id": "59102472",
   "metadata": {
    "execution": {
     "iopub.execute_input": "2025-08-19T19:08:41.987166Z",
     "iopub.status.busy": "2025-08-19T19:08:41.986782Z",
     "iopub.status.idle": "2025-08-19T19:08:42.215927Z",
     "shell.execute_reply": "2025-08-19T19:08:42.215092Z"
    },
    "papermill": {
     "duration": 0.244758,
     "end_time": "2025-08-19T19:08:42.217684",
     "exception": false,
     "start_time": "2025-08-19T19:08:41.972926",
     "status": "completed"
    },
    "tags": []
   },
   "outputs": [],
   "source": [
    "probs_calib = model.predict_proba(X_calib)"
   ]
  },
  {
   "cell_type": "code",
   "execution_count": 39,
   "id": "a792d4dd",
   "metadata": {
    "execution": {
     "iopub.execute_input": "2025-08-19T19:08:42.243071Z",
     "iopub.status.busy": "2025-08-19T19:08:42.242693Z",
     "iopub.status.idle": "2025-08-19T19:08:42.248366Z",
     "shell.execute_reply": "2025-08-19T19:08:42.247660Z"
    },
    "papermill": {
     "duration": 0.019092,
     "end_time": "2025-08-19T19:08:42.249695",
     "exception": false,
     "start_time": "2025-08-19T19:08:42.230603",
     "status": "completed"
    },
    "tags": []
   },
   "outputs": [],
   "source": [
    "y_calib = y_calib.values.ravel().astype(int)"
   ]
  },
  {
   "cell_type": "code",
   "execution_count": 40,
   "id": "650fd033",
   "metadata": {
    "execution": {
     "iopub.execute_input": "2025-08-19T19:08:42.273502Z",
     "iopub.status.busy": "2025-08-19T19:08:42.272970Z",
     "iopub.status.idle": "2025-08-19T19:08:42.370212Z",
     "shell.execute_reply": "2025-08-19T19:08:42.369311Z"
    },
    "papermill": {
     "duration": 0.111296,
     "end_time": "2025-08-19T19:08:42.372203",
     "exception": false,
     "start_time": "2025-08-19T19:08:42.260907",
     "status": "completed"
    },
    "tags": []
   },
   "outputs": [],
   "source": [
    "from fairness_multiverse.conformal import compute_nc_scores\n",
    "\n",
    "# Compute nonconformity scores on calibration set (1 - probability of true class)\n",
    "nc_scores = compute_nc_scores(probs_calib, y_calib)"
   ]
  },
  {
   "cell_type": "code",
   "execution_count": 41,
   "id": "28ada44c",
   "metadata": {
    "execution": {
     "iopub.execute_input": "2025-08-19T19:08:42.398748Z",
     "iopub.status.busy": "2025-08-19T19:08:42.397739Z",
     "iopub.status.idle": "2025-08-19T19:08:42.403551Z",
     "shell.execute_reply": "2025-08-19T19:08:42.402943Z"
    },
    "papermill": {
     "duration": 0.019264,
     "end_time": "2025-08-19T19:08:42.404841",
     "exception": false,
     "start_time": "2025-08-19T19:08:42.385577",
     "status": "completed"
    },
    "tags": []
   },
   "outputs": [],
   "source": [
    "from fairness_multiverse.conformal import find_threshold\n",
    "\n",
    "# Find conformal threshold q_hat for the given alpha (split conformal method)\n",
    "q_hat = find_threshold(nc_scores, alpha)"
   ]
  },
  {
   "cell_type": "code",
   "execution_count": 42,
   "id": "df56469e",
   "metadata": {
    "execution": {
     "iopub.execute_input": "2025-08-19T19:08:42.428906Z",
     "iopub.status.busy": "2025-08-19T19:08:42.428427Z",
     "iopub.status.idle": "2025-08-19T19:08:42.450062Z",
     "shell.execute_reply": "2025-08-19T19:08:42.449354Z"
    },
    "papermill": {
     "duration": 0.036775,
     "end_time": "2025-08-19T19:08:42.452949",
     "exception": false,
     "start_time": "2025-08-19T19:08:42.416174",
     "status": "completed"
    },
    "tags": []
   },
   "outputs": [
    {
     "data": {
      "text/plain": [
       "0.7465644690254798"
      ]
     },
     "execution_count": 42,
     "metadata": {},
     "output_type": "execute_result"
    }
   ],
   "source": [
    "q_hat"
   ]
  },
  {
   "cell_type": "code",
   "execution_count": 43,
   "id": "aa1f5faa",
   "metadata": {
    "execution": {
     "iopub.execute_input": "2025-08-19T19:08:42.483235Z",
     "iopub.status.busy": "2025-08-19T19:08:42.482622Z",
     "iopub.status.idle": "2025-08-19T19:08:43.106386Z",
     "shell.execute_reply": "2025-08-19T19:08:43.105182Z"
    },
    "papermill": {
     "duration": 0.637884,
     "end_time": "2025-08-19T19:08:43.107926",
     "exception": false,
     "start_time": "2025-08-19T19:08:42.470042",
     "status": "completed"
    },
    "tags": []
   },
   "outputs": [],
   "source": [
    "from fairness_multiverse.conformal import predict_conformal_sets\n",
    "\n",
    "# Generate prediction sets for each test example\n",
    "pred_sets = predict_conformal_sets(model, X_test, q_hat)"
   ]
  },
  {
   "cell_type": "code",
   "execution_count": 44,
   "id": "97f67a6b",
   "metadata": {
    "execution": {
     "iopub.execute_input": "2025-08-19T19:08:43.133423Z",
     "iopub.status.busy": "2025-08-19T19:08:43.132782Z",
     "iopub.status.idle": "2025-08-19T19:08:43.141323Z",
     "shell.execute_reply": "2025-08-19T19:08:43.140087Z"
    },
    "papermill": {
     "duration": 0.023069,
     "end_time": "2025-08-19T19:08:43.142901",
     "exception": false,
     "start_time": "2025-08-19T19:08:43.119832",
     "status": "completed"
    },
    "tags": []
   },
   "outputs": [],
   "source": [
    "y_true = y_true.squeeze()"
   ]
  },
  {
   "cell_type": "code",
   "execution_count": 45,
   "id": "e700e9a7",
   "metadata": {
    "execution": {
     "iopub.execute_input": "2025-08-19T19:08:43.170663Z",
     "iopub.status.busy": "2025-08-19T19:08:43.169765Z",
     "iopub.status.idle": "2025-08-19T19:08:43.715949Z",
     "shell.execute_reply": "2025-08-19T19:08:43.714616Z"
    },
    "papermill": {
     "duration": 0.561894,
     "end_time": "2025-08-19T19:08:43.717775",
     "exception": false,
     "start_time": "2025-08-19T19:08:43.155881",
     "status": "completed"
    },
    "tags": []
   },
   "outputs": [],
   "source": [
    "from fairness_multiverse.conformal import evaluate_sets\n",
    "\n",
    "# Evaluate coverage and average set size on test data\n",
    "metrics = evaluate_sets(pred_sets, y_true)"
   ]
  },
  {
   "cell_type": "markdown",
   "id": "efbacec0",
   "metadata": {
    "papermill": {
     "duration": 0.01211,
     "end_time": "2025-08-19T19:08:43.743108",
     "exception": false,
     "start_time": "2025-08-19T19:08:43.730998",
     "status": "completed"
    },
    "tags": []
   },
   "source": [
    "# CP Metrics"
   ]
  },
  {
   "cell_type": "code",
   "execution_count": 46,
   "id": "9de55fb1",
   "metadata": {
    "execution": {
     "iopub.execute_input": "2025-08-19T19:08:43.769510Z",
     "iopub.status.busy": "2025-08-19T19:08:43.769162Z",
     "iopub.status.idle": "2025-08-19T19:08:43.775712Z",
     "shell.execute_reply": "2025-08-19T19:08:43.775047Z"
    },
    "papermill": {
     "duration": 0.022837,
     "end_time": "2025-08-19T19:08:43.778495",
     "exception": false,
     "start_time": "2025-08-19T19:08:43.755658",
     "status": "completed"
    },
    "tags": []
   },
   "outputs": [
    {
     "data": {
      "text/plain": [
       "{'coverage': 0.9083602719875153, 'avg_size': 1.214714078698027}"
      ]
     },
     "execution_count": 46,
     "metadata": {},
     "output_type": "execute_result"
    }
   ],
   "source": [
    "metrics"
   ]
  },
  {
   "cell_type": "code",
   "execution_count": 47,
   "id": "64c340a1",
   "metadata": {
    "execution": {
     "iopub.execute_input": "2025-08-19T19:08:43.807200Z",
     "iopub.status.busy": "2025-08-19T19:08:43.806891Z",
     "iopub.status.idle": "2025-08-19T19:08:43.813964Z",
     "shell.execute_reply": "2025-08-19T19:08:43.812715Z"
    },
    "papermill": {
     "duration": 0.025196,
     "end_time": "2025-08-19T19:08:43.817866",
     "exception": false,
     "start_time": "2025-08-19T19:08:43.792670",
     "status": "completed"
    },
    "tags": []
   },
   "outputs": [],
   "source": [
    "example_universe = universe.copy()\n",
    "universe_training_year = example_universe.get(\"training_year\")\n",
    "universe_training_size = example_universe.get(\"training_size\")\n",
    "universe_scale = example_universe.get(\"scale\")\n",
    "universe_model = example_universe.get(\"model\")\n",
    "universe_exclude_features = example_universe.get(\"exclude_features\")\n",
    "universe_exclude_subgroups = example_universe.get(\"exclude_subgroups\")"
   ]
  },
  {
   "cell_type": "code",
   "execution_count": 48,
   "id": "dbb53cb4",
   "metadata": {
    "execution": {
     "iopub.execute_input": "2025-08-19T19:08:43.855796Z",
     "iopub.status.busy": "2025-08-19T19:08:43.855087Z",
     "iopub.status.idle": "2025-08-19T19:08:43.866269Z",
     "shell.execute_reply": "2025-08-19T19:08:43.864887Z"
    },
    "papermill": {
     "duration": 0.02813,
     "end_time": "2025-08-19T19:08:43.868273",
     "exception": false,
     "start_time": "2025-08-19T19:08:43.840143",
     "status": "completed"
    },
    "tags": []
   },
   "outputs": [],
   "source": [
    "cp_metrics_dict = {\n",
    "    \"universe_id\": [universe_id],\n",
    "    \"universe_training_year\": [universe_training_year],\n",
    "    \"universe_training_size\": [universe_training_size],\n",
    "    \"universe_scale\": [universe_scale],\n",
    "    \"universe_model\": [universe_model],\n",
    "    \"universe_exclude_features\": [universe_exclude_features],\n",
    "    \"universe_exclude_subgroups\": [universe_exclude_subgroups],\n",
    "    \"q_hat\": [q_hat],\n",
    "    \"coverage\": [metrics[\"coverage\"]],\n",
    "    \"avg_size\": [metrics[\"avg_size\"]],\n",
    "}"
   ]
  },
  {
   "cell_type": "code",
   "execution_count": 49,
   "id": "0d70d4b2",
   "metadata": {
    "execution": {
     "iopub.execute_input": "2025-08-19T19:08:43.898650Z",
     "iopub.status.busy": "2025-08-19T19:08:43.897944Z",
     "iopub.status.idle": "2025-08-19T19:08:43.912137Z",
     "shell.execute_reply": "2025-08-19T19:08:43.911025Z"
    },
    "papermill": {
     "duration": 0.030655,
     "end_time": "2025-08-19T19:08:43.914029",
     "exception": false,
     "start_time": "2025-08-19T19:08:43.883374",
     "status": "completed"
    },
    "tags": []
   },
   "outputs": [],
   "source": [
    "cp_metrics_df = pd.DataFrame(cp_metrics_dict)"
   ]
  },
  {
   "cell_type": "code",
   "execution_count": 50,
   "id": "b494403c",
   "metadata": {
    "execution": {
     "iopub.execute_input": "2025-08-19T19:08:43.946676Z",
     "iopub.status.busy": "2025-08-19T19:08:43.946173Z",
     "iopub.status.idle": "2025-08-19T19:08:43.964022Z",
     "shell.execute_reply": "2025-08-19T19:08:43.963123Z"
    },
    "papermill": {
     "duration": 0.033838,
     "end_time": "2025-08-19T19:08:43.965932",
     "exception": false,
     "start_time": "2025-08-19T19:08:43.932094",
     "status": "completed"
    },
    "tags": []
   },
   "outputs": [
    {
     "data": {
      "text/html": [
       "<div>\n",
       "<style scoped>\n",
       "    .dataframe tbody tr th:only-of-type {\n",
       "        vertical-align: middle;\n",
       "    }\n",
       "\n",
       "    .dataframe tbody tr th {\n",
       "        vertical-align: top;\n",
       "    }\n",
       "\n",
       "    .dataframe thead th {\n",
       "        text-align: right;\n",
       "    }\n",
       "</style>\n",
       "<table border=\"1\" class=\"dataframe\">\n",
       "  <thead>\n",
       "    <tr style=\"text-align: right;\">\n",
       "      <th></th>\n",
       "      <th>universe_id</th>\n",
       "      <th>universe_training_year</th>\n",
       "      <th>universe_training_size</th>\n",
       "      <th>universe_scale</th>\n",
       "      <th>universe_model</th>\n",
       "      <th>universe_exclude_features</th>\n",
       "      <th>universe_exclude_subgroups</th>\n",
       "      <th>q_hat</th>\n",
       "      <th>coverage</th>\n",
       "      <th>avg_size</th>\n",
       "    </tr>\n",
       "  </thead>\n",
       "  <tbody>\n",
       "    <tr>\n",
       "      <th>0</th>\n",
       "      <td>bb233a5bf11db7b9b33b1cc5589a045d</td>\n",
       "      <td>2010_14</td>\n",
       "      <td>1k</td>\n",
       "      <td>scale</td>\n",
       "      <td>elasticnet</td>\n",
       "      <td>age</td>\n",
       "      <td>keep-all</td>\n",
       "      <td>0.746564</td>\n",
       "      <td>0.90836</td>\n",
       "      <td>1.214714</td>\n",
       "    </tr>\n",
       "  </tbody>\n",
       "</table>\n",
       "</div>"
      ],
      "text/plain": [
       "                        universe_id universe_training_year  \\\n",
       "0  bb233a5bf11db7b9b33b1cc5589a045d                2010_14   \n",
       "\n",
       "  universe_training_size universe_scale universe_model  \\\n",
       "0                     1k          scale     elasticnet   \n",
       "\n",
       "  universe_exclude_features universe_exclude_subgroups     q_hat  coverage  \\\n",
       "0                       age                   keep-all  0.746564   0.90836   \n",
       "\n",
       "   avg_size  \n",
       "0  1.214714  "
      ]
     },
     "execution_count": 50,
     "metadata": {},
     "output_type": "execute_result"
    }
   ],
   "source": [
    "cp_metrics_df"
   ]
  },
  {
   "cell_type": "markdown",
   "id": "ed608b0b",
   "metadata": {
    "papermill": {
     "duration": 0.01226,
     "end_time": "2025-08-19T19:08:43.996940",
     "exception": false,
     "start_time": "2025-08-19T19:08:43.984680",
     "status": "completed"
    },
    "tags": []
   },
   "source": [
    "Conditional coverage & looking at subgroups"
   ]
  },
  {
   "cell_type": "code",
   "execution_count": 51,
   "id": "8968c366",
   "metadata": {
    "execution": {
     "iopub.execute_input": "2025-08-19T19:08:44.024189Z",
     "iopub.status.busy": "2025-08-19T19:08:44.023469Z",
     "iopub.status.idle": "2025-08-19T19:08:44.325880Z",
     "shell.execute_reply": "2025-08-19T19:08:44.325190Z"
    },
    "papermill": {
     "duration": 0.318235,
     "end_time": "2025-08-19T19:08:44.327271",
     "exception": false,
     "start_time": "2025-08-19T19:08:44.009036",
     "status": "completed"
    },
    "tags": []
   },
   "outputs": [],
   "source": [
    "from fairness_multiverse.conformal import build_cp_groups\n",
    "\n",
    "cp_groups_df = build_cp_groups(pred_sets, y_true, X_test.index, org_test)"
   ]
  },
  {
   "cell_type": "code",
   "execution_count": 52,
   "id": "292ddabf",
   "metadata": {
    "execution": {
     "iopub.execute_input": "2025-08-19T19:08:44.354511Z",
     "iopub.status.busy": "2025-08-19T19:08:44.354000Z",
     "iopub.status.idle": "2025-08-19T19:08:45.228250Z",
     "shell.execute_reply": "2025-08-19T19:08:45.227073Z"
    },
    "papermill": {
     "duration": 0.889955,
     "end_time": "2025-08-19T19:08:45.229975",
     "exception": false,
     "start_time": "2025-08-19T19:08:44.340020",
     "status": "completed"
    },
    "tags": []
   },
   "outputs": [],
   "source": [
    "# Define covered = 1 if true_label is in the predicted set\n",
    "cp_groups_df['covered'] = cp_groups_df.apply(\n",
    "    lambda r: int(r['true_label'] in r['pred_set']),\n",
    "    axis=1\n",
    ")"
   ]
  },
  {
   "cell_type": "code",
   "execution_count": 53,
   "id": "3a261692",
   "metadata": {
    "execution": {
     "iopub.execute_input": "2025-08-19T19:08:45.261280Z",
     "iopub.status.busy": "2025-08-19T19:08:45.260622Z",
     "iopub.status.idle": "2025-08-19T19:08:45.279814Z",
     "shell.execute_reply": "2025-08-19T19:08:45.278973Z"
    },
    "papermill": {
     "duration": 0.035744,
     "end_time": "2025-08-19T19:08:45.281657",
     "exception": false,
     "start_time": "2025-08-19T19:08:45.245913",
     "status": "completed"
    },
    "tags": []
   },
   "outputs": [],
   "source": [
    "subgroups = ['frau1','nongerman','nongerman_male','nongerman_female']\n",
    "\n",
    "# Conditional coverage for subgroup==1\n",
    "cond_coverage = {\n",
    "    g: cp_groups_df.loc[cp_groups_df[g]==1, 'covered'].mean()\n",
    "    for g in subgroups\n",
    "}"
   ]
  },
  {
   "cell_type": "code",
   "execution_count": 54,
   "id": "894fd600",
   "metadata": {
    "execution": {
     "iopub.execute_input": "2025-08-19T19:08:45.313785Z",
     "iopub.status.busy": "2025-08-19T19:08:45.313185Z",
     "iopub.status.idle": "2025-08-19T19:08:45.339479Z",
     "shell.execute_reply": "2025-08-19T19:08:45.338290Z"
    },
    "papermill": {
     "duration": 0.042172,
     "end_time": "2025-08-19T19:08:45.341415",
     "exception": false,
     "start_time": "2025-08-19T19:08:45.299243",
     "status": "completed"
    },
    "tags": []
   },
   "outputs": [
    {
     "data": {
      "text/plain": [
       "{'frau1': 0.9097991643078582,\n",
       " 'nongerman': 0.913770841520238,\n",
       " 'nongerman_male': 0.9274070071151941,\n",
       " 'nongerman_female': 0.8912071535022354}"
      ]
     },
     "execution_count": 54,
     "metadata": {},
     "output_type": "execute_result"
    }
   ],
   "source": [
    "cond_coverage"
   ]
  },
  {
   "cell_type": "code",
   "execution_count": 55,
   "id": "942895c7",
   "metadata": {
    "execution": {
     "iopub.execute_input": "2025-08-19T19:08:45.376270Z",
     "iopub.status.busy": "2025-08-19T19:08:45.375590Z",
     "iopub.status.idle": "2025-08-19T19:08:45.388211Z",
     "shell.execute_reply": "2025-08-19T19:08:45.386730Z"
    },
    "papermill": {
     "duration": 0.028537,
     "end_time": "2025-08-19T19:08:45.390024",
     "exception": false,
     "start_time": "2025-08-19T19:08:45.361487",
     "status": "completed"
    },
    "tags": []
   },
   "outputs": [],
   "source": [
    "for subgroup, cov in cond_coverage.items():\n",
    "    cp_metrics_df[f\"cov_{subgroup}\"] = cov"
   ]
  },
  {
   "cell_type": "code",
   "execution_count": 56,
   "id": "3970120f",
   "metadata": {
    "execution": {
     "iopub.execute_input": "2025-08-19T19:08:45.419201Z",
     "iopub.status.busy": "2025-08-19T19:08:45.418710Z",
     "iopub.status.idle": "2025-08-19T19:08:45.435778Z",
     "shell.execute_reply": "2025-08-19T19:08:45.434951Z"
    },
    "papermill": {
     "duration": 0.032553,
     "end_time": "2025-08-19T19:08:45.437740",
     "exception": false,
     "start_time": "2025-08-19T19:08:45.405187",
     "status": "completed"
    },
    "tags": []
   },
   "outputs": [
    {
     "data": {
      "text/html": [
       "<div>\n",
       "<style scoped>\n",
       "    .dataframe tbody tr th:only-of-type {\n",
       "        vertical-align: middle;\n",
       "    }\n",
       "\n",
       "    .dataframe tbody tr th {\n",
       "        vertical-align: top;\n",
       "    }\n",
       "\n",
       "    .dataframe thead th {\n",
       "        text-align: right;\n",
       "    }\n",
       "</style>\n",
       "<table border=\"1\" class=\"dataframe\">\n",
       "  <thead>\n",
       "    <tr style=\"text-align: right;\">\n",
       "      <th></th>\n",
       "      <th>universe_id</th>\n",
       "      <th>universe_training_year</th>\n",
       "      <th>universe_training_size</th>\n",
       "      <th>universe_scale</th>\n",
       "      <th>universe_model</th>\n",
       "      <th>universe_exclude_features</th>\n",
       "      <th>universe_exclude_subgroups</th>\n",
       "      <th>q_hat</th>\n",
       "      <th>coverage</th>\n",
       "      <th>avg_size</th>\n",
       "      <th>cov_frau1</th>\n",
       "      <th>cov_nongerman</th>\n",
       "      <th>cov_nongerman_male</th>\n",
       "      <th>cov_nongerman_female</th>\n",
       "    </tr>\n",
       "  </thead>\n",
       "  <tbody>\n",
       "    <tr>\n",
       "      <th>0</th>\n",
       "      <td>bb233a5bf11db7b9b33b1cc5589a045d</td>\n",
       "      <td>2010_14</td>\n",
       "      <td>1k</td>\n",
       "      <td>scale</td>\n",
       "      <td>elasticnet</td>\n",
       "      <td>age</td>\n",
       "      <td>keep-all</td>\n",
       "      <td>0.746564</td>\n",
       "      <td>0.90836</td>\n",
       "      <td>1.214714</td>\n",
       "      <td>0.909799</td>\n",
       "      <td>0.913771</td>\n",
       "      <td>0.927407</td>\n",
       "      <td>0.891207</td>\n",
       "    </tr>\n",
       "  </tbody>\n",
       "</table>\n",
       "</div>"
      ],
      "text/plain": [
       "                        universe_id universe_training_year  \\\n",
       "0  bb233a5bf11db7b9b33b1cc5589a045d                2010_14   \n",
       "\n",
       "  universe_training_size universe_scale universe_model  \\\n",
       "0                     1k          scale     elasticnet   \n",
       "\n",
       "  universe_exclude_features universe_exclude_subgroups     q_hat  coverage  \\\n",
       "0                       age                   keep-all  0.746564   0.90836   \n",
       "\n",
       "   avg_size  cov_frau1  cov_nongerman  cov_nongerman_male  \\\n",
       "0  1.214714   0.909799       0.913771            0.927407   \n",
       "\n",
       "   cov_nongerman_female  \n",
       "0              0.891207  "
      ]
     },
     "execution_count": 56,
     "metadata": {},
     "output_type": "execute_result"
    }
   ],
   "source": [
    "cp_metrics_df"
   ]
  },
  {
   "cell_type": "markdown",
   "id": "3fc519cc",
   "metadata": {
    "papermill": {
     "duration": 0.012364,
     "end_time": "2025-08-19T19:08:45.466194",
     "exception": false,
     "start_time": "2025-08-19T19:08:45.453830",
     "status": "completed"
    },
    "tags": []
   },
   "source": [
    "# (Fairness) Metrics"
   ]
  },
  {
   "cell_type": "code",
   "execution_count": 57,
   "id": "a2e5e155",
   "metadata": {
    "execution": {
     "iopub.execute_input": "2025-08-19T19:08:45.493489Z",
     "iopub.status.busy": "2025-08-19T19:08:45.492876Z",
     "iopub.status.idle": "2025-08-19T19:08:45.509797Z",
     "shell.execute_reply": "2025-08-19T19:08:45.509087Z"
    },
    "papermill": {
     "duration": 0.032617,
     "end_time": "2025-08-19T19:08:45.511859",
     "exception": false,
     "start_time": "2025-08-19T19:08:45.479242",
     "status": "completed"
    },
    "tags": []
   },
   "outputs": [],
   "source": [
    "colname_to_bin = \"maxdeutsch1\"\n",
    "majority_value = org_train[colname_to_bin].mode()[0]\n",
    "\n",
    "org_test[\"majmin\"] = np.where(org_test[colname_to_bin] == majority_value, \"majority\", \"minority\")"
   ]
  },
  {
   "cell_type": "code",
   "execution_count": 58,
   "id": "17e3e4d5",
   "metadata": {
    "execution": {
     "iopub.execute_input": "2025-08-19T19:08:45.547676Z",
     "iopub.status.busy": "2025-08-19T19:08:45.543038Z",
     "iopub.status.idle": "2025-08-19T19:08:47.271329Z",
     "shell.execute_reply": "2025-08-19T19:08:47.269958Z"
    },
    "papermill": {
     "duration": 1.744353,
     "end_time": "2025-08-19T19:08:47.273246",
     "exception": false,
     "start_time": "2025-08-19T19:08:45.528893",
     "status": "completed"
    },
    "tags": []
   },
   "outputs": [],
   "source": [
    "example_universe = universe.copy()\n",
    "example_universe[\"cutoff\"] = example_universe[\"cutoff\"][0]\n",
    "example_universe[\"eval_fairness_grouping\"] = example_universe[\"eval_fairness_grouping\"][0]\n",
    "fairness_dict, metric_frame = universe_analysis.compute_metrics(\n",
    "    example_universe,\n",
    "    y_pred_prob=probs_test,\n",
    "    y_test=y_true,\n",
    "    org_test=org_test,\n",
    ")"
   ]
  },
  {
   "cell_type": "markdown",
   "id": "1fb7a0e9",
   "metadata": {
    "papermill": {
     "duration": 0.012595,
     "end_time": "2025-08-19T19:08:47.300783",
     "exception": false,
     "start_time": "2025-08-19T19:08:47.288188",
     "status": "completed"
    },
    "tags": []
   },
   "source": [
    "# Overall"
   ]
  },
  {
   "cell_type": "markdown",
   "id": "be1784b1",
   "metadata": {
    "papermill": {
     "duration": 0.012382,
     "end_time": "2025-08-19T19:08:47.325605",
     "exception": false,
     "start_time": "2025-08-19T19:08:47.313223",
     "status": "completed"
    },
    "tags": []
   },
   "source": [
    "Main fairness target: Equalized Odds. Seems to be a better fit than equal opportunity, since we're not only interested in Y = 1. Seems to be a better fit than demographic parity, since we also care about accuracy, not just equal distribution of preds.\n",
    "\n",
    "Pick column for computation of fairness metrics\n",
    "\n",
    "Performance\n",
    "Overall performance measures, most interesting in relation to the measures split by group below"
   ]
  },
  {
   "cell_type": "code",
   "execution_count": 59,
   "id": "b7672bee",
   "metadata": {
    "execution": {
     "iopub.execute_input": "2025-08-19T19:08:47.353990Z",
     "iopub.status.busy": "2025-08-19T19:08:47.352794Z",
     "iopub.status.idle": "2025-08-19T19:08:47.367461Z",
     "shell.execute_reply": "2025-08-19T19:08:47.366412Z"
    },
    "papermill": {
     "duration": 0.031421,
     "end_time": "2025-08-19T19:08:47.369308",
     "exception": false,
     "start_time": "2025-08-19T19:08:47.337887",
     "status": "completed"
    },
    "tags": []
   },
   "outputs": [
    {
     "data": {
      "text/plain": [
       "accuracy                   0.218939\n",
       "balanced accuracy          0.536474\n",
       "f1                         0.240420\n",
       "precision                  0.137344\n",
       "false positive rate        0.890642\n",
       "false negative rate        0.036409\n",
       "selection rate             0.900000\n",
       "count                  89710.000000\n",
       "dtype: float64"
      ]
     },
     "execution_count": 59,
     "metadata": {},
     "output_type": "execute_result"
    }
   ],
   "source": [
    "metric_frame.overall"
   ]
  },
  {
   "cell_type": "markdown",
   "id": "d93333c9",
   "metadata": {
    "papermill": {
     "duration": 0.012575,
     "end_time": "2025-08-19T19:08:47.398645",
     "exception": false,
     "start_time": "2025-08-19T19:08:47.386070",
     "status": "completed"
    },
    "tags": []
   },
   "source": [
    "By Group"
   ]
  },
  {
   "cell_type": "code",
   "execution_count": 60,
   "id": "52256966",
   "metadata": {
    "execution": {
     "iopub.execute_input": "2025-08-19T19:08:47.426878Z",
     "iopub.status.busy": "2025-08-19T19:08:47.425491Z",
     "iopub.status.idle": "2025-08-19T19:08:47.449422Z",
     "shell.execute_reply": "2025-08-19T19:08:47.448298Z"
    },
    "papermill": {
     "duration": 0.040053,
     "end_time": "2025-08-19T19:08:47.451243",
     "exception": false,
     "start_time": "2025-08-19T19:08:47.411190",
     "status": "completed"
    },
    "tags": []
   },
   "outputs": [
    {
     "data": {
      "text/html": [
       "<div>\n",
       "<style scoped>\n",
       "    .dataframe tbody tr th:only-of-type {\n",
       "        vertical-align: middle;\n",
       "    }\n",
       "\n",
       "    .dataframe tbody tr th {\n",
       "        vertical-align: top;\n",
       "    }\n",
       "\n",
       "    .dataframe thead th {\n",
       "        text-align: right;\n",
       "    }\n",
       "</style>\n",
       "<table border=\"1\" class=\"dataframe\">\n",
       "  <thead>\n",
       "    <tr style=\"text-align: right;\">\n",
       "      <th></th>\n",
       "      <th>accuracy</th>\n",
       "      <th>balanced accuracy</th>\n",
       "      <th>f1</th>\n",
       "      <th>precision</th>\n",
       "      <th>false positive rate</th>\n",
       "      <th>false negative rate</th>\n",
       "      <th>selection rate</th>\n",
       "      <th>count</th>\n",
       "    </tr>\n",
       "    <tr>\n",
       "      <th>majmin</th>\n",
       "      <th></th>\n",
       "      <th></th>\n",
       "      <th></th>\n",
       "      <th></th>\n",
       "      <th></th>\n",
       "      <th></th>\n",
       "      <th></th>\n",
       "      <th></th>\n",
       "    </tr>\n",
       "  </thead>\n",
       "  <tbody>\n",
       "    <tr>\n",
       "      <th>majority</th>\n",
       "      <td>0.233165</td>\n",
       "      <td>0.541695</td>\n",
       "      <td>0.248803</td>\n",
       "      <td>0.142899</td>\n",
       "      <td>0.877661</td>\n",
       "      <td>0.038950</td>\n",
       "      <td>0.888680</td>\n",
       "      <td>69170.0</td>\n",
       "    </tr>\n",
       "    <tr>\n",
       "      <th>minority</th>\n",
       "      <td>0.171032</td>\n",
       "      <td>0.519936</td>\n",
       "      <td>0.213061</td>\n",
       "      <td>0.119622</td>\n",
       "      <td>0.933524</td>\n",
       "      <td>0.026605</td>\n",
       "      <td>0.938121</td>\n",
       "      <td>20540.0</td>\n",
       "    </tr>\n",
       "  </tbody>\n",
       "</table>\n",
       "</div>"
      ],
      "text/plain": [
       "          accuracy  balanced accuracy        f1  precision  \\\n",
       "majmin                                                       \n",
       "majority  0.233165           0.541695  0.248803   0.142899   \n",
       "minority  0.171032           0.519936  0.213061   0.119622   \n",
       "\n",
       "          false positive rate  false negative rate  selection rate    count  \n",
       "majmin                                                                       \n",
       "majority             0.877661             0.038950        0.888680  69170.0  \n",
       "minority             0.933524             0.026605        0.938121  20540.0  "
      ]
     },
     "execution_count": 60,
     "metadata": {},
     "output_type": "execute_result"
    }
   ],
   "source": [
    "metric_frame.by_group"
   ]
  },
  {
   "cell_type": "code",
   "execution_count": 61,
   "id": "6e6c20ae",
   "metadata": {
    "execution": {
     "iopub.execute_input": "2025-08-19T19:08:47.488883Z",
     "iopub.status.busy": "2025-08-19T19:08:47.487433Z",
     "iopub.status.idle": "2025-08-19T19:08:49.278044Z",
     "shell.execute_reply": "2025-08-19T19:08:49.277097Z"
    },
    "papermill": {
     "duration": 1.806461,
     "end_time": "2025-08-19T19:08:49.279351",
     "exception": false,
     "start_time": "2025-08-19T19:08:47.472890",
     "status": "completed"
    },
    "tags": []
   },
   "outputs": [
    {
     "data": {
      "text/plain": [
       "array([[<Axes: title={'center': 'accuracy'}, xlabel='majmin'>,\n",
       "        <Axes: title={'center': 'balanced accuracy'}, xlabel='majmin'>,\n",
       "        <Axes: title={'center': 'f1'}, xlabel='majmin'>],\n",
       "       [<Axes: title={'center': 'precision'}, xlabel='majmin'>,\n",
       "        <Axes: title={'center': 'false positive rate'}, xlabel='majmin'>,\n",
       "        <Axes: title={'center': 'false negative rate'}, xlabel='majmin'>],\n",
       "       [<Axes: title={'center': 'selection rate'}, xlabel='majmin'>,\n",
       "        <Axes: title={'center': 'count'}, xlabel='majmin'>,\n",
       "        <Axes: xlabel='majmin'>]], dtype=object)"
      ]
     },
     "execution_count": 61,
     "metadata": {},
     "output_type": "execute_result"
    },
    {
     "data": {
      "image/png": "[encoded data removed]",
      "text/plain": [
       "<Figure size 1200x800 with 9 Axes>"
      ]
     },
     "metadata": {},
     "output_type": "display_data"
    }
   ],
   "source": [
    "# In a graphic\n",
    "metric_frame.by_group.plot.bar(\n",
    "    subplots=True,\n",
    "    layout=[3, 3],\n",
    "    legend=False,\n",
    "    figsize=[12, 8],\n",
    "    title=\"Show all metrics\",\n",
    ")"
   ]
  },
  {
   "cell_type": "markdown",
   "id": "b2e433ae",
   "metadata": {
    "papermill": {
     "duration": 0.014845,
     "end_time": "2025-08-19T19:08:49.314028",
     "exception": false,
     "start_time": "2025-08-19T19:08:49.299183",
     "status": "completed"
    },
    "tags": []
   },
   "source": [
    "# Final Output"
   ]
  },
  {
   "cell_type": "code",
   "execution_count": 62,
   "id": "3871301e",
   "metadata": {
    "execution": {
     "iopub.execute_input": "2025-08-19T19:08:49.344650Z",
     "iopub.status.busy": "2025-08-19T19:08:49.343866Z",
     "iopub.status.idle": "2025-08-19T19:08:49.351907Z",
     "shell.execute_reply": "2025-08-19T19:08:49.351261Z"
    },
    "papermill": {
     "duration": 0.025022,
     "end_time": "2025-08-19T19:08:49.353083",
     "exception": false,
     "start_time": "2025-08-19T19:08:49.328061",
     "status": "completed"
    },
    "tags": []
   },
   "outputs": [
    {
     "data": {
      "text/plain": [
       "4"
      ]
     },
     "execution_count": 62,
     "metadata": {},
     "output_type": "execute_result"
    }
   ],
   "source": [
    "sub_universes = universe_analysis.generate_sub_universes()\n",
    "len(sub_universes)"
   ]
  },
  {
   "cell_type": "code",
   "execution_count": 63,
   "id": "d9cfdaca",
   "metadata": {
    "execution": {
     "iopub.execute_input": "2025-08-19T19:08:49.383568Z",
     "iopub.status.busy": "2025-08-19T19:08:49.382819Z",
     "iopub.status.idle": "2025-08-19T19:08:49.389606Z",
     "shell.execute_reply": "2025-08-19T19:08:49.388720Z"
    },
    "papermill": {
     "duration": 0.023459,
     "end_time": "2025-08-19T19:08:49.391281",
     "exception": false,
     "start_time": "2025-08-19T19:08:49.367822",
     "status": "completed"
    },
    "tags": []
   },
   "outputs": [],
   "source": [
    "def filter_sub_universe_data(sub_universe, org_test):\n",
    "    # Keep all rows — no filtering\n",
    "    keep_rows_mask = np.ones(org_test.shape[0], dtype=bool)\n",
    "\n",
    "    print(f\"[INFO] Keeping all rows: {keep_rows_mask.sum()} rows retained.\")\n",
    "    return keep_rows_mask"
   ]
  },
  {
   "cell_type": "code",
   "execution_count": 64,
   "id": "2bc31ac1",
   "metadata": {
    "execution": {
     "iopub.execute_input": "2025-08-19T19:08:49.426725Z",
     "iopub.status.busy": "2025-08-19T19:08:49.425556Z",
     "iopub.status.idle": "2025-08-19T19:08:56.199187Z",
     "shell.execute_reply": "2025-08-19T19:08:56.198193Z"
    },
    "papermill": {
     "duration": 6.79305,
     "end_time": "2025-08-19T19:08:56.202209",
     "exception": false,
     "start_time": "2025-08-19T19:08:49.409159",
     "status": "completed"
    },
    "tags": []
   },
   "outputs": [
    {
     "name": "stdout",
     "output_type": "stream",
     "text": [
      "Stopping execution_time clock.\n",
      "[INFO] Keeping all rows: 89710 rows retained.\n"
     ]
    },
    {
     "name": "stdout",
     "output_type": "stream",
     "text": [
      "[INFO] Keeping all rows: 89710 rows retained.\n"
     ]
    },
    {
     "name": "stdout",
     "output_type": "stream",
     "text": [
      "[INFO] Keeping all rows: 89710 rows retained.\n"
     ]
    },
    {
     "name": "stdout",
     "output_type": "stream",
     "text": [
      "[INFO] Keeping all rows: 89710 rows retained.\n"
     ]
    },
    {
     "data": {
      "text/html": [
       "<div>\n",
       "<style scoped>\n",
       "    .dataframe tbody tr th:only-of-type {\n",
       "        vertical-align: middle;\n",
       "    }\n",
       "\n",
       "    .dataframe tbody tr th {\n",
       "        vertical-align: top;\n",
       "    }\n",
       "\n",
       "    .dataframe thead th {\n",
       "        text-align: right;\n",
       "    }\n",
       "</style>\n",
       "<table border=\"1\" class=\"dataframe\">\n",
       "  <thead>\n",
       "    <tr style=\"text-align: right;\">\n",
       "      <th></th>\n",
       "      <th>run_no</th>\n",
       "      <th>universe_id</th>\n",
       "      <th>universe_settings</th>\n",
       "      <th>execution_time</th>\n",
       "      <th>test_size_n</th>\n",
       "      <th>test_size_frac</th>\n",
       "      <th>fair_main_equalized_odds_difference</th>\n",
       "      <th>fair_main_equalized_odds_ratio</th>\n",
       "      <th>fair_main_demographic_parity_difference</th>\n",
       "      <th>fair_main_demographic_parity_ratio</th>\n",
       "      <th>...</th>\n",
       "      <th>perf_grp_precision_0</th>\n",
       "      <th>perf_grp_precision_1</th>\n",
       "      <th>perf_grp_false positive rate_0</th>\n",
       "      <th>perf_grp_false positive rate_1</th>\n",
       "      <th>perf_grp_false negative rate_0</th>\n",
       "      <th>perf_grp_false negative rate_1</th>\n",
       "      <th>perf_grp_selection rate_0</th>\n",
       "      <th>perf_grp_selection rate_1</th>\n",
       "      <th>perf_grp_count_0</th>\n",
       "      <th>perf_grp_count_1</th>\n",
       "    </tr>\n",
       "  </thead>\n",
       "  <tbody>\n",
       "    <tr>\n",
       "      <th>0</th>\n",
       "      <td>3</td>\n",
       "      <td>bb233a5bf11db7b9b33b1cc5589a045d</td>\n",
       "      <td>{\"cutoff\": \"quantile_0.1\", \"eval_fairness_grou...</td>\n",
       "      <td>21.06528</td>\n",
       "      <td>89710</td>\n",
       "      <td>1.0</td>\n",
       "      <td>0.055863</td>\n",
       "      <td>0.940159</td>\n",
       "      <td>0.049441</td>\n",
       "      <td>0.947298</td>\n",
       "      <td>...</td>\n",
       "      <td>NaN</td>\n",
       "      <td>NaN</td>\n",
       "      <td>NaN</td>\n",
       "      <td>NaN</td>\n",
       "      <td>NaN</td>\n",
       "      <td>NaN</td>\n",
       "      <td>NaN</td>\n",
       "      <td>NaN</td>\n",
       "      <td>NaN</td>\n",
       "      <td>NaN</td>\n",
       "    </tr>\n",
       "    <tr>\n",
       "      <th>0</th>\n",
       "      <td>3</td>\n",
       "      <td>bb233a5bf11db7b9b33b1cc5589a045d</td>\n",
       "      <td>{\"cutoff\": \"quantile_0.1\", \"eval_fairness_grou...</td>\n",
       "      <td>21.06528</td>\n",
       "      <td>89710</td>\n",
       "      <td>1.0</td>\n",
       "      <td>0.055863</td>\n",
       "      <td>0.940159</td>\n",
       "      <td>0.049441</td>\n",
       "      <td>0.947298</td>\n",
       "      <td>...</td>\n",
       "      <td>0.119622</td>\n",
       "      <td>0.142899</td>\n",
       "      <td>0.933524</td>\n",
       "      <td>0.877661</td>\n",
       "      <td>0.026605</td>\n",
       "      <td>0.038950</td>\n",
       "      <td>0.938121</td>\n",
       "      <td>0.888680</td>\n",
       "      <td>20540.0</td>\n",
       "      <td>69170.0</td>\n",
       "    </tr>\n",
       "    <tr>\n",
       "      <th>0</th>\n",
       "      <td>3</td>\n",
       "      <td>bb233a5bf11db7b9b33b1cc5589a045d</td>\n",
       "      <td>{\"cutoff\": \"quantile_0.25\", \"eval_fairness_gro...</td>\n",
       "      <td>21.06528</td>\n",
       "      <td>89710</td>\n",
       "      <td>1.0</td>\n",
       "      <td>0.102123</td>\n",
       "      <td>0.886723</td>\n",
       "      <td>0.046529</td>\n",
       "      <td>0.938830</td>\n",
       "      <td>...</td>\n",
       "      <td>NaN</td>\n",
       "      <td>NaN</td>\n",
       "      <td>NaN</td>\n",
       "      <td>NaN</td>\n",
       "      <td>NaN</td>\n",
       "      <td>NaN</td>\n",
       "      <td>NaN</td>\n",
       "      <td>NaN</td>\n",
       "      <td>NaN</td>\n",
       "      <td>NaN</td>\n",
       "    </tr>\n",
       "    <tr>\n",
       "      <th>0</th>\n",
       "      <td>3</td>\n",
       "      <td>bb233a5bf11db7b9b33b1cc5589a045d</td>\n",
       "      <td>{\"cutoff\": \"quantile_0.25\", \"eval_fairness_gro...</td>\n",
       "      <td>21.06528</td>\n",
       "      <td>89710</td>\n",
       "      <td>1.0</td>\n",
       "      <td>0.102123</td>\n",
       "      <td>0.886723</td>\n",
       "      <td>0.046529</td>\n",
       "      <td>0.938830</td>\n",
       "      <td>...</td>\n",
       "      <td>0.129056</td>\n",
       "      <td>0.156612</td>\n",
       "      <td>0.703005</td>\n",
       "      <td>0.739197</td>\n",
       "      <td>0.200591</td>\n",
       "      <td>0.098468</td>\n",
       "      <td>0.714119</td>\n",
       "      <td>0.760648</td>\n",
       "      <td>20540.0</td>\n",
       "      <td>69170.0</td>\n",
       "    </tr>\n",
       "  </tbody>\n",
       "</table>\n",
       "<p>4 rows × 50 columns</p>\n",
       "</div>"
      ],
      "text/plain": [
       "  run_no                       universe_id  \\\n",
       "0      3  bb233a5bf11db7b9b33b1cc5589a045d   \n",
       "0      3  bb233a5bf11db7b9b33b1cc5589a045d   \n",
       "0      3  bb233a5bf11db7b9b33b1cc5589a045d   \n",
       "0      3  bb233a5bf11db7b9b33b1cc5589a045d   \n",
       "\n",
       "                                   universe_settings  execution_time  \\\n",
       "0  {\"cutoff\": \"quantile_0.1\", \"eval_fairness_grou...        21.06528   \n",
       "0  {\"cutoff\": \"quantile_0.1\", \"eval_fairness_grou...        21.06528   \n",
       "0  {\"cutoff\": \"quantile_0.25\", \"eval_fairness_gro...        21.06528   \n",
       "0  {\"cutoff\": \"quantile_0.25\", \"eval_fairness_gro...        21.06528   \n",
       "\n",
       "   test_size_n  test_size_frac  fair_main_equalized_odds_difference  \\\n",
       "0        89710             1.0                             0.055863   \n",
       "0        89710             1.0                             0.055863   \n",
       "0        89710             1.0                             0.102123   \n",
       "0        89710             1.0                             0.102123   \n",
       "\n",
       "   fair_main_equalized_odds_ratio  fair_main_demographic_parity_difference  \\\n",
       "0                        0.940159                                 0.049441   \n",
       "0                        0.940159                                 0.049441   \n",
       "0                        0.886723                                 0.046529   \n",
       "0                        0.886723                                 0.046529   \n",
       "\n",
       "   fair_main_demographic_parity_ratio  ...  perf_grp_precision_0  \\\n",
       "0                            0.947298  ...                   NaN   \n",
       "0                            0.947298  ...              0.119622   \n",
       "0                            0.938830  ...                   NaN   \n",
       "0                            0.938830  ...              0.129056   \n",
       "\n",
       "   perf_grp_precision_1  perf_grp_false positive rate_0  \\\n",
       "0                   NaN                             NaN   \n",
       "0              0.142899                        0.933524   \n",
       "0                   NaN                             NaN   \n",
       "0              0.156612                        0.703005   \n",
       "\n",
       "   perf_grp_false positive rate_1  perf_grp_false negative rate_0  \\\n",
       "0                             NaN                             NaN   \n",
       "0                        0.877661                        0.026605   \n",
       "0                             NaN                             NaN   \n",
       "0                        0.739197                        0.200591   \n",
       "\n",
       "   perf_grp_false negative rate_1  perf_grp_selection rate_0  \\\n",
       "0                             NaN                        NaN   \n",
       "0                        0.038950                   0.938121   \n",
       "0                             NaN                        NaN   \n",
       "0                        0.098468                   0.714119   \n",
       "\n",
       "   perf_grp_selection rate_1  perf_grp_count_0  perf_grp_count_1  \n",
       "0                        NaN               NaN               NaN  \n",
       "0                   0.888680           20540.0           69170.0  \n",
       "0                        NaN               NaN               NaN  \n",
       "0                   0.760648           20540.0           69170.0  \n",
       "\n",
       "[4 rows x 50 columns]"
      ]
     },
     "execution_count": 64,
     "metadata": {},
     "output_type": "execute_result"
    }
   ],
   "source": [
    "final_output = universe_analysis.generate_final_output(\n",
    "    y_pred_prob=probs_test,\n",
    "    y_test=y_true,\n",
    "    org_test=org_test,\n",
    "    filter_data=filter_sub_universe_data,\n",
    "    cp_metrics_df=cp_metrics_df,\n",
    "    save=True,\n",
    ")\n",
    "final_output"
   ]
  },
  {
   "cell_type": "code",
   "execution_count": null,
   "id": "8b80a1ff",
   "metadata": {
    "papermill": {
     "duration": 0.014864,
     "end_time": "2025-08-19T19:08:56.248616",
     "exception": false,
     "start_time": "2025-08-19T19:08:56.233752",
     "status": "completed"
    },
    "tags": []
   },
   "outputs": [],
   "source": []
  },
  {
   "cell_type": "code",
   "execution_count": null,
   "id": "275c9fad",
   "metadata": {
    "papermill": {
     "duration": 0.014339,
     "end_time": "2025-08-19T19:08:56.277391",
     "exception": false,
     "start_time": "2025-08-19T19:08:56.263052",
     "status": "completed"
    },
    "tags": []
   },
   "outputs": [],
   "source": []
  }
 ],
 "metadata": {
  "celltoolbar": "Tags",
  "kernelspec": {
   "display_name": "Python (CMA Fairness)",
   "language": "python",
   "name": "cma_fair_env"
  },
  "language_info": {
   "codemirror_mode": {
    "name": "ipython",
    "version": 3
   },
   "file_extension": ".py",
   "mimetype": "text/x-python",
   "name": "python",
   "nbconvert_exporter": "python",
   "pygments_lexer": "ipython3",
   "version": "3.10.12"
  },
  "papermill": {
   "default_parameters": {},
   "duration": 31.689952,
   "end_time": "2025-08-19T19:08:57.213335",
   "environment_variables": {},
   "exception": null,
   "input_path": "universe_analysis.ipynb",
   "output_path": "output/runs/3/notebooks/m_3-bb233a5bf11db7b9b33b1cc5589a045d.ipynb",
   "parameters": {
    "output_dir": "output",
    "run_no": "3",
    "seed": "2023",
    "universe": "{\"cutoff\": [\"quantile_0.1\", \"quantile_0.25\"], \"eval_fairness_grouping\": [\"majority-minority\", \"nationality-all\"], \"exclude_features\": \"age\", \"exclude_subgroups\": \"keep-all\", \"model\": \"elasticnet\", \"scale\": \"scale\", \"training_size\": \"1k\", \"training_year\": \"2010_14\"}",
    "universe_id": "bb233a5bf11db7b9b33b1cc5589a045d"
   },
   "start_time": "2025-08-19T19:08:25.523383",
   "version": "2.6.0"
  }
 },
 "nbformat": 4,
 "nbformat_minor": 5
}