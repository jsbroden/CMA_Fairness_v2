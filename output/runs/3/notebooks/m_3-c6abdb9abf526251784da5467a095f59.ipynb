{
 "cells": [
  {
   "cell_type": "markdown",
   "id": "ef23dbb3",
   "metadata": {
    "papermill": {
     "duration": 0.011726,
     "end_time": "2025-08-19T18:55:28.862360",
     "exception": false,
     "start_time": "2025-08-19T18:55:28.850634",
     "status": "completed"
    },
    "tags": []
   },
   "source": [
    "# Setup"
   ]
  },
  {
   "cell_type": "code",
   "execution_count": 1,
   "id": "0bc8e7dc",
   "metadata": {
    "execution": {
     "iopub.execute_input": "2025-08-19T18:55:28.883205Z",
     "iopub.status.busy": "2025-08-19T18:55:28.882008Z",
     "iopub.status.idle": "2025-08-19T18:55:28.901507Z",
     "shell.execute_reply": "2025-08-19T18:55:28.900216Z"
    },
    "papermill": {
     "duration": 0.032476,
     "end_time": "2025-08-19T18:55:28.903895",
     "exception": false,
     "start_time": "2025-08-19T18:55:28.871419",
     "status": "completed"
    },
    "tags": []
   },
   "outputs": [
    {
     "name": "stdout",
     "output_type": "stream",
     "text": [
      "/dss/dsshome1/0C/ra93lal2/cma/CMA_Fairness_v2\n"
     ]
    },
    {
     "name": "stderr",
     "output_type": "stream",
     "text": [
      "/dss/dsshome1/0C/ra93lal2/.local/share/virtualenvs/CMA_Fairness_v2-3j10GkSs/lib/python3.10/site-packages/IPython/core/magics/osm.py:393: UserWarning: This is now an optional IPython functionality, using bookmarks requires you to install the `pickleshare` library.\n",
      "  bkms = self.shell.db.get('bookmarks', {})\n",
      "/dss/dsshome1/0C/ra93lal2/.local/share/virtualenvs/CMA_Fairness_v2-3j10GkSs/lib/python3.10/site-packages/IPython/core/magics/osm.py:417: UserWarning: This is now an optional IPython functionality, setting dhist requires you to install the `pickleshare` library.\n",
      "  self.shell.db['dhist'] = compress_dhist(dhist)[-100:]\n"
     ]
    }
   ],
   "source": [
    "%cd ~/cma/CMA_Fairness_v2"
   ]
  },
  {
   "cell_type": "markdown",
   "id": "9d235661",
   "metadata": {
    "papermill": {
     "duration": 0.008585,
     "end_time": "2025-08-19T18:55:28.924428",
     "exception": false,
     "start_time": "2025-08-19T18:55:28.915843",
     "status": "completed"
    },
    "tags": []
   },
   "source": [
    "The following cell holds the definition of our parameters, these values can be overriden by rendering the with e.g. the following command:\n",
    "\n",
    "papermill -p alpha 0.2 -p ratio 0.3 universe_analysis.ipynb output/test_run.ipynb"
   ]
  },
  {
   "cell_type": "code",
   "execution_count": 2,
   "id": "4a789d8e",
   "metadata": {
    "execution": {
     "iopub.execute_input": "2025-08-19T18:55:28.946334Z",
     "iopub.status.busy": "2025-08-19T18:55:28.945703Z",
     "iopub.status.idle": "2025-08-19T18:55:28.958133Z",
     "shell.execute_reply": "2025-08-19T18:55:28.957195Z"
    },
    "papermill": {
     "duration": 0.027486,
     "end_time": "2025-08-19T18:55:28.960415",
     "exception": false,
     "start_time": "2025-08-19T18:55:28.932929",
     "status": "completed"
    },
    "tags": []
   },
   "outputs": [
    {
     "name": "stdout",
     "output_type": "stream",
     "text": [
      "Current working directory: /dss/dsshome1/0C/ra93lal2/cma/CMA_Fairness_v2\n"
     ]
    }
   ],
   "source": [
    "import os\n",
    "print(\"Current working directory:\", os.getcwd())"
   ]
  },
  {
   "cell_type": "code",
   "execution_count": 3,
   "id": "4132aaed",
   "metadata": {
    "execution": {
     "iopub.execute_input": "2025-08-19T18:55:28.981432Z",
     "iopub.status.busy": "2025-08-19T18:55:28.980694Z",
     "iopub.status.idle": "2025-08-19T18:55:28.987553Z",
     "shell.execute_reply": "2025-08-19T18:55:28.986738Z"
    },
    "papermill": {
     "duration": 0.01815,
     "end_time": "2025-08-19T18:55:28.989078",
     "exception": false,
     "start_time": "2025-08-19T18:55:28.970928",
     "status": "completed"
    },
    "tags": [
     "parameters"
    ]
   },
   "outputs": [],
   "source": [
    "run_no = 0\n",
    "universe_id = \"test\"\n",
    "universe = {\n",
    "    \"training_size\": \"5k\", # \"25k\", \"5k\", \"1k\"\n",
    "    \"training_year\": \"2012_14\", # \"2014\", \"2012_14\", \"2010_14\"\n",
    "    \"scale\": \"scale\", # \"scale\", \"do-not-scale\",\n",
    "    \"model\": \"elasticnet\", # \"logreg\", \"penalized_logreg\", \"rf\", \"gbm\", \"elasticnet\"\n",
    "    \"cutoff\": [\"quantile_0.15\", \"quantile_0.30\"],\n",
    "    \"exclude_features\": \"age\", # \"none\", \"nationality\", \"sex\", \"nationality-sex\", \"age\"\n",
    "    \"exclude_subgroups\": \"drop-non-german\", # \"keep-all\", \"drop-non-german\"\n",
    "    \"eval_fairness_grouping\": [\"majority-minority\", \"nationality-all\"]\n",
    "}\n",
    "\n",
    "output_dir=\"./output\"\n",
    "seed=0"
   ]
  },
  {
   "cell_type": "code",
   "execution_count": 4,
   "id": "aeefa3f6",
   "metadata": {
    "execution": {
     "iopub.execute_input": "2025-08-19T18:55:29.010420Z",
     "iopub.status.busy": "2025-08-19T18:55:29.009504Z",
     "iopub.status.idle": "2025-08-19T18:55:29.016145Z",
     "shell.execute_reply": "2025-08-19T18:55:29.014892Z"
    },
    "papermill": {
     "duration": 0.018478,
     "end_time": "2025-08-19T18:55:29.017790",
     "exception": false,
     "start_time": "2025-08-19T18:55:28.999312",
     "status": "completed"
    },
    "tags": [
     "injected-parameters"
    ]
   },
   "outputs": [],
   "source": [
    "# Parameters\n",
    "universe_id = \"c6abdb9abf526251784da5467a095f59\"\n",
    "run_no = \"3\"\n",
    "universe = \"{\\\"cutoff\\\": [\\\"quantile_0.1\\\", \\\"quantile_0.25\\\"], \\\"eval_fairness_grouping\\\": [\\\"majority-minority\\\", \\\"nationality-all\\\"], \\\"exclude_features\\\": \\\"age\\\", \\\"exclude_subgroups\\\": \\\"keep-all\\\", \\\"model\\\": \\\"gbm\\\", \\\"scale\\\": \\\"do-not-scale\\\", \\\"training_size\\\": \\\"1k\\\", \\\"training_year\\\": \\\"2014\\\"}\"\n",
    "output_dir = \"output\"\n",
    "seed = \"2023\"\n"
   ]
  },
  {
   "cell_type": "code",
   "execution_count": 5,
   "id": "a5d7941f",
   "metadata": {
    "execution": {
     "iopub.execute_input": "2025-08-19T18:55:29.038696Z",
     "iopub.status.busy": "2025-08-19T18:55:29.037586Z",
     "iopub.status.idle": "2025-08-19T18:55:29.089339Z",
     "shell.execute_reply": "2025-08-19T18:55:29.086977Z"
    },
    "papermill": {
     "duration": 0.06778,
     "end_time": "2025-08-19T18:55:29.095116",
     "exception": false,
     "start_time": "2025-08-19T18:55:29.027336",
     "status": "completed"
    },
    "tags": []
   },
   "outputs": [],
   "source": [
    "import json\n",
    "if isinstance(universe, str):\n",
    "    universe = json.loads(universe)"
   ]
  },
  {
   "cell_type": "code",
   "execution_count": 6,
   "id": "7076ccb1",
   "metadata": {
    "execution": {
     "iopub.execute_input": "2025-08-19T18:55:29.125503Z",
     "iopub.status.busy": "2025-08-19T18:55:29.124172Z",
     "iopub.status.idle": "2025-08-19T18:55:29.176846Z",
     "shell.execute_reply": "2025-08-19T18:55:29.175779Z"
    },
    "papermill": {
     "duration": 0.067485,
     "end_time": "2025-08-19T18:55:29.180114",
     "exception": false,
     "start_time": "2025-08-19T18:55:29.112629",
     "status": "completed"
    },
    "tags": []
   },
   "outputs": [],
   "source": [
    "# Auto-reload the custom package\n",
    "%load_ext autoreload\n",
    "%autoreload 1\n",
    "%aimport fairness_multiverse"
   ]
  },
  {
   "cell_type": "code",
   "execution_count": 7,
   "id": "94c8eb93",
   "metadata": {
    "execution": {
     "iopub.execute_input": "2025-08-19T18:55:29.213168Z",
     "iopub.status.busy": "2025-08-19T18:55:29.212689Z",
     "iopub.status.idle": "2025-08-19T18:55:30.950167Z",
     "shell.execute_reply": "2025-08-19T18:55:30.949177Z"
    },
    "papermill": {
     "duration": 1.75163,
     "end_time": "2025-08-19T18:55:30.951846",
     "exception": false,
     "start_time": "2025-08-19T18:55:29.200216",
     "status": "completed"
    },
    "tags": []
   },
   "outputs": [],
   "source": [
    "from fairness_multiverse.universe import UniverseAnalysis\n",
    "\n",
    "universe_analysis = UniverseAnalysis(\n",
    "    run_no = run_no,\n",
    "    universe_id = universe_id,\n",
    "    universe = universe,\n",
    "    output_dir=output_dir,\n",
    ")"
   ]
  },
  {
   "cell_type": "code",
   "execution_count": 8,
   "id": "2a6381cf",
   "metadata": {
    "execution": {
     "iopub.execute_input": "2025-08-19T18:55:30.972547Z",
     "iopub.status.busy": "2025-08-19T18:55:30.971798Z",
     "iopub.status.idle": "2025-08-19T18:55:30.981401Z",
     "shell.execute_reply": "2025-08-19T18:55:30.980379Z"
    },
    "papermill": {
     "duration": 0.021539,
     "end_time": "2025-08-19T18:55:30.982710",
     "exception": false,
     "start_time": "2025-08-19T18:55:30.961171",
     "status": "completed"
    },
    "tags": []
   },
   "outputs": [
    {
     "name": "stdout",
     "output_type": "stream",
     "text": [
      "Using Seed: 2023\n"
     ]
    }
   ],
   "source": [
    "import numpy as np\n",
    "parsed_seed = int(seed)\n",
    "np.random.seed(parsed_seed)\n",
    "print(f\"Using Seed: {parsed_seed}\")"
   ]
  },
  {
   "cell_type": "markdown",
   "id": "b6e958b4",
   "metadata": {
    "papermill": {
     "duration": 0.009045,
     "end_time": "2025-08-19T18:55:31.002661",
     "exception": false,
     "start_time": "2025-08-19T18:55:30.993616",
     "status": "completed"
    },
    "tags": []
   },
   "source": [
    "# Loading Data"
   ]
  },
  {
   "cell_type": "code",
   "execution_count": 9,
   "id": "98701482",
   "metadata": {
    "execution": {
     "iopub.execute_input": "2025-08-19T18:55:31.023356Z",
     "iopub.status.busy": "2025-08-19T18:55:31.022252Z",
     "iopub.status.idle": "2025-08-19T18:55:40.952312Z",
     "shell.execute_reply": "2025-08-19T18:55:40.951104Z"
    },
    "papermill": {
     "duration": 9.942256,
     "end_time": "2025-08-19T18:55:40.953873",
     "exception": false,
     "start_time": "2025-08-19T18:55:31.011617",
     "status": "completed"
    },
    "tags": []
   },
   "outputs": [
    {
     "name": "stdout",
     "output_type": "stream",
     "text": [
      "Loading SIAB data from cache: data/siab_cached.csv.gz\n"
     ]
    },
    {
     "name": "stdout",
     "output_type": "stream",
     "text": [
      "(643690, 164)\n"
     ]
    }
   ],
   "source": [
    "from pathlib import Path\n",
    "import pandas as pd\n",
    "\n",
    "# File paths\n",
    "raw_file = Path(\"data/raw/siab.csv\")\n",
    "cache_file = Path(\"data/siab_cached.csv.gz\")\n",
    "\n",
    "# Ensure cache directory exists\n",
    "cache_file.parent.mkdir(parents=True, exist_ok=True)\n",
    "\n",
    "# Load with simple caching\n",
    "if cache_file.exists():\n",
    "    print(f\"Loading SIAB data from cache: {cache_file}\")\n",
    "    siab = pd.read_csv(cache_file, compression='gzip')\n",
    "else:\n",
    "    print(f\"Cache not found. Reading raw SIAB data: {raw_file}\")\n",
    "    siab = pd.read_csv(raw_file)\n",
    "    siab.to_csv(cache_file, index=False, compression='gzip')\n",
    "    print(f\"Cached SIAB data to: {cache_file}\")\n",
    "\n",
    "print(siab.shape)"
   ]
  },
  {
   "cell_type": "code",
   "execution_count": 10,
   "id": "058d2abb",
   "metadata": {
    "execution": {
     "iopub.execute_input": "2025-08-19T18:55:40.978345Z",
     "iopub.status.busy": "2025-08-19T18:55:40.977255Z",
     "iopub.status.idle": "2025-08-19T18:55:41.129281Z",
     "shell.execute_reply": "2025-08-19T18:55:41.128588Z"
    },
    "papermill": {
     "duration": 0.164751,
     "end_time": "2025-08-19T18:55:41.130669",
     "exception": false,
     "start_time": "2025-08-19T18:55:40.965918",
     "status": "completed"
    },
    "tags": []
   },
   "outputs": [
    {
     "data": {
      "text/html": [
       "<div>\n",
       "<style scoped>\n",
       "    .dataframe tbody tr th:only-of-type {\n",
       "        vertical-align: middle;\n",
       "    }\n",
       "\n",
       "    .dataframe tbody tr th {\n",
       "        vertical-align: top;\n",
       "    }\n",
       "\n",
       "    .dataframe thead th {\n",
       "        text-align: right;\n",
       "    }\n",
       "</style>\n",
       "<table border=\"1\" class=\"dataframe\">\n",
       "  <thead>\n",
       "    <tr style=\"text-align: right;\">\n",
       "      <th></th>\n",
       "      <th>persnr</th>\n",
       "      <th>year</th>\n",
       "      <th>nrEntry</th>\n",
       "      <th>ltue</th>\n",
       "      <th>employed_before</th>\n",
       "      <th>receipt_leh_before</th>\n",
       "      <th>receipt_lhg_before</th>\n",
       "      <th>se_before</th>\n",
       "      <th>ASU_notue_seeking_before</th>\n",
       "      <th>ASU_other_before</th>\n",
       "      <th>...</th>\n",
       "      <th>minijob_tot_dur_byage</th>\n",
       "      <th>ft_tot_dur_byage</th>\n",
       "      <th>befrist_tot_dur_byage</th>\n",
       "      <th>leih_tot_dur_byage</th>\n",
       "      <th>LHG_tot_dur_byage</th>\n",
       "      <th>LEH_tot_dur_byage</th>\n",
       "      <th>almp_tot_dur_byage</th>\n",
       "      <th>almp_aw_tot_dur_byage</th>\n",
       "      <th>se_tot_dur_byage</th>\n",
       "      <th>seeking1_tot_dur_byage</th>\n",
       "    </tr>\n",
       "  </thead>\n",
       "  <tbody>\n",
       "    <tr>\n",
       "      <th>0</th>\n",
       "      <td>7</td>\n",
       "      <td>2015</td>\n",
       "      <td>1</td>\n",
       "      <td>0</td>\n",
       "      <td>1</td>\n",
       "      <td>0</td>\n",
       "      <td>0</td>\n",
       "      <td>0</td>\n",
       "      <td>1</td>\n",
       "      <td>0</td>\n",
       "      <td>...</td>\n",
       "      <td>0.000000</td>\n",
       "      <td>0.000000</td>\n",
       "      <td>15.043478</td>\n",
       "      <td>0.000000</td>\n",
       "      <td>0.000000</td>\n",
       "      <td>0.000000</td>\n",
       "      <td>0.000000</td>\n",
       "      <td>0.000000</td>\n",
       "      <td>0.000000</td>\n",
       "      <td>0.000000</td>\n",
       "    </tr>\n",
       "    <tr>\n",
       "      <th>1</th>\n",
       "      <td>18</td>\n",
       "      <td>2010</td>\n",
       "      <td>1</td>\n",
       "      <td>1</td>\n",
       "      <td>0</td>\n",
       "      <td>0</td>\n",
       "      <td>0</td>\n",
       "      <td>0</td>\n",
       "      <td>0</td>\n",
       "      <td>0</td>\n",
       "      <td>...</td>\n",
       "      <td>0.000000</td>\n",
       "      <td>0.000000</td>\n",
       "      <td>0.000000</td>\n",
       "      <td>0.000000</td>\n",
       "      <td>0.000000</td>\n",
       "      <td>0.000000</td>\n",
       "      <td>0.000000</td>\n",
       "      <td>0.000000</td>\n",
       "      <td>0.000000</td>\n",
       "      <td>0.000000</td>\n",
       "    </tr>\n",
       "    <tr>\n",
       "      <th>2</th>\n",
       "      <td>18</td>\n",
       "      <td>2011</td>\n",
       "      <td>2</td>\n",
       "      <td>0</td>\n",
       "      <td>1</td>\n",
       "      <td>0</td>\n",
       "      <td>1</td>\n",
       "      <td>0</td>\n",
       "      <td>1</td>\n",
       "      <td>0</td>\n",
       "      <td>...</td>\n",
       "      <td>2.714286</td>\n",
       "      <td>2.714286</td>\n",
       "      <td>0.000000</td>\n",
       "      <td>0.000000</td>\n",
       "      <td>10.775510</td>\n",
       "      <td>0.000000</td>\n",
       "      <td>8.367347</td>\n",
       "      <td>0.000000</td>\n",
       "      <td>0.000000</td>\n",
       "      <td>9.836735</td>\n",
       "    </tr>\n",
       "    <tr>\n",
       "      <th>3</th>\n",
       "      <td>18</td>\n",
       "      <td>2012</td>\n",
       "      <td>3</td>\n",
       "      <td>0</td>\n",
       "      <td>1</td>\n",
       "      <td>0</td>\n",
       "      <td>1</td>\n",
       "      <td>0</td>\n",
       "      <td>1</td>\n",
       "      <td>0</td>\n",
       "      <td>...</td>\n",
       "      <td>4.200000</td>\n",
       "      <td>4.200000</td>\n",
       "      <td>0.000000</td>\n",
       "      <td>0.000000</td>\n",
       "      <td>12.100000</td>\n",
       "      <td>0.000000</td>\n",
       "      <td>9.400000</td>\n",
       "      <td>0.000000</td>\n",
       "      <td>0.000000</td>\n",
       "      <td>9.960000</td>\n",
       "    </tr>\n",
       "    <tr>\n",
       "      <th>4</th>\n",
       "      <td>18</td>\n",
       "      <td>2012</td>\n",
       "      <td>4</td>\n",
       "      <td>0</td>\n",
       "      <td>1</td>\n",
       "      <td>0</td>\n",
       "      <td>1</td>\n",
       "      <td>0</td>\n",
       "      <td>1</td>\n",
       "      <td>0</td>\n",
       "      <td>...</td>\n",
       "      <td>5.460000</td>\n",
       "      <td>5.460000</td>\n",
       "      <td>0.000000</td>\n",
       "      <td>0.000000</td>\n",
       "      <td>13.360000</td>\n",
       "      <td>0.000000</td>\n",
       "      <td>10.320000</td>\n",
       "      <td>0.000000</td>\n",
       "      <td>0.000000</td>\n",
       "      <td>10.280000</td>\n",
       "    </tr>\n",
       "    <tr>\n",
       "      <th>...</th>\n",
       "      <td>...</td>\n",
       "      <td>...</td>\n",
       "      <td>...</td>\n",
       "      <td>...</td>\n",
       "      <td>...</td>\n",
       "      <td>...</td>\n",
       "      <td>...</td>\n",
       "      <td>...</td>\n",
       "      <td>...</td>\n",
       "      <td>...</td>\n",
       "      <td>...</td>\n",
       "      <td>...</td>\n",
       "      <td>...</td>\n",
       "      <td>...</td>\n",
       "      <td>...</td>\n",
       "      <td>...</td>\n",
       "      <td>...</td>\n",
       "      <td>...</td>\n",
       "      <td>...</td>\n",
       "      <td>...</td>\n",
       "      <td>...</td>\n",
       "    </tr>\n",
       "    <tr>\n",
       "      <th>643685</th>\n",
       "      <td>1827860</td>\n",
       "      <td>2013</td>\n",
       "      <td>1</td>\n",
       "      <td>0</td>\n",
       "      <td>0</td>\n",
       "      <td>0</td>\n",
       "      <td>1</td>\n",
       "      <td>0</td>\n",
       "      <td>0</td>\n",
       "      <td>1</td>\n",
       "      <td>...</td>\n",
       "      <td>0.000000</td>\n",
       "      <td>0.000000</td>\n",
       "      <td>0.000000</td>\n",
       "      <td>0.000000</td>\n",
       "      <td>0.612903</td>\n",
       "      <td>0.000000</td>\n",
       "      <td>0.000000</td>\n",
       "      <td>0.000000</td>\n",
       "      <td>0.000000</td>\n",
       "      <td>0.000000</td>\n",
       "    </tr>\n",
       "    <tr>\n",
       "      <th>643686</th>\n",
       "      <td>1827860</td>\n",
       "      <td>2015</td>\n",
       "      <td>2</td>\n",
       "      <td>1</td>\n",
       "      <td>0</td>\n",
       "      <td>0</td>\n",
       "      <td>1</td>\n",
       "      <td>0</td>\n",
       "      <td>1</td>\n",
       "      <td>0</td>\n",
       "      <td>...</td>\n",
       "      <td>0.000000</td>\n",
       "      <td>0.000000</td>\n",
       "      <td>0.212121</td>\n",
       "      <td>0.212121</td>\n",
       "      <td>17.363636</td>\n",
       "      <td>0.000000</td>\n",
       "      <td>8.909091</td>\n",
       "      <td>0.000000</td>\n",
       "      <td>0.000000</td>\n",
       "      <td>7.121212</td>\n",
       "    </tr>\n",
       "    <tr>\n",
       "      <th>643687</th>\n",
       "      <td>1827860</td>\n",
       "      <td>2016</td>\n",
       "      <td>3</td>\n",
       "      <td>1</td>\n",
       "      <td>0</td>\n",
       "      <td>0</td>\n",
       "      <td>1</td>\n",
       "      <td>1</td>\n",
       "      <td>0</td>\n",
       "      <td>1</td>\n",
       "      <td>...</td>\n",
       "      <td>0.000000</td>\n",
       "      <td>0.000000</td>\n",
       "      <td>0.294118</td>\n",
       "      <td>0.205882</td>\n",
       "      <td>34.705882</td>\n",
       "      <td>0.000000</td>\n",
       "      <td>10.352941</td>\n",
       "      <td>1.705882</td>\n",
       "      <td>1.705882</td>\n",
       "      <td>23.911765</td>\n",
       "    </tr>\n",
       "    <tr>\n",
       "      <th>643688</th>\n",
       "      <td>1827869</td>\n",
       "      <td>2013</td>\n",
       "      <td>1</td>\n",
       "      <td>1</td>\n",
       "      <td>1</td>\n",
       "      <td>0</td>\n",
       "      <td>0</td>\n",
       "      <td>0</td>\n",
       "      <td>1</td>\n",
       "      <td>0</td>\n",
       "      <td>...</td>\n",
       "      <td>0.000000</td>\n",
       "      <td>0.000000</td>\n",
       "      <td>0.000000</td>\n",
       "      <td>0.000000</td>\n",
       "      <td>0.000000</td>\n",
       "      <td>0.525424</td>\n",
       "      <td>0.000000</td>\n",
       "      <td>0.000000</td>\n",
       "      <td>0.000000</td>\n",
       "      <td>0.000000</td>\n",
       "    </tr>\n",
       "    <tr>\n",
       "      <th>643689</th>\n",
       "      <td>1827869</td>\n",
       "      <td>2014</td>\n",
       "      <td>2</td>\n",
       "      <td>0</td>\n",
       "      <td>0</td>\n",
       "      <td>1</td>\n",
       "      <td>0</td>\n",
       "      <td>0</td>\n",
       "      <td>1</td>\n",
       "      <td>0</td>\n",
       "      <td>...</td>\n",
       "      <td>0.000000</td>\n",
       "      <td>0.666667</td>\n",
       "      <td>0.666667</td>\n",
       "      <td>0.000000</td>\n",
       "      <td>0.000000</td>\n",
       "      <td>8.950000</td>\n",
       "      <td>1.033333</td>\n",
       "      <td>0.083333</td>\n",
       "      <td>0.083333</td>\n",
       "      <td>8.133333</td>\n",
       "    </tr>\n",
       "  </tbody>\n",
       "</table>\n",
       "<p>643690 rows × 164 columns</p>\n",
       "</div>"
      ],
      "text/plain": [
       "         persnr  year  nrEntry  ltue  employed_before  receipt_leh_before  \\\n",
       "0             7  2015        1     0                1                   0   \n",
       "1            18  2010        1     1                0                   0   \n",
       "2            18  2011        2     0                1                   0   \n",
       "3            18  2012        3     0                1                   0   \n",
       "4            18  2012        4     0                1                   0   \n",
       "...         ...   ...      ...   ...              ...                 ...   \n",
       "643685  1827860  2013        1     0                0                   0   \n",
       "643686  1827860  2015        2     1                0                   0   \n",
       "643687  1827860  2016        3     1                0                   0   \n",
       "643688  1827869  2013        1     1                1                   0   \n",
       "643689  1827869  2014        2     0                0                   1   \n",
       "\n",
       "        receipt_lhg_before  se_before  ASU_notue_seeking_before  \\\n",
       "0                        0          0                         1   \n",
       "1                        0          0                         0   \n",
       "2                        1          0                         1   \n",
       "3                        1          0                         1   \n",
       "4                        1          0                         1   \n",
       "...                    ...        ...                       ...   \n",
       "643685                   1          0                         0   \n",
       "643686                   1          0                         1   \n",
       "643687                   1          1                         0   \n",
       "643688                   0          0                         1   \n",
       "643689                   0          0                         1   \n",
       "\n",
       "        ASU_other_before  ...  minijob_tot_dur_byage  ft_tot_dur_byage  \\\n",
       "0                      0  ...               0.000000          0.000000   \n",
       "1                      0  ...               0.000000          0.000000   \n",
       "2                      0  ...               2.714286          2.714286   \n",
       "3                      0  ...               4.200000          4.200000   \n",
       "4                      0  ...               5.460000          5.460000   \n",
       "...                  ...  ...                    ...               ...   \n",
       "643685                 1  ...               0.000000          0.000000   \n",
       "643686                 0  ...               0.000000          0.000000   \n",
       "643687                 1  ...               0.000000          0.000000   \n",
       "643688                 0  ...               0.000000          0.000000   \n",
       "643689                 0  ...               0.000000          0.666667   \n",
       "\n",
       "        befrist_tot_dur_byage  leih_tot_dur_byage  LHG_tot_dur_byage  \\\n",
       "0                   15.043478            0.000000           0.000000   \n",
       "1                    0.000000            0.000000           0.000000   \n",
       "2                    0.000000            0.000000          10.775510   \n",
       "3                    0.000000            0.000000          12.100000   \n",
       "4                    0.000000            0.000000          13.360000   \n",
       "...                       ...                 ...                ...   \n",
       "643685               0.000000            0.000000           0.612903   \n",
       "643686               0.212121            0.212121          17.363636   \n",
       "643687               0.294118            0.205882          34.705882   \n",
       "643688               0.000000            0.000000           0.000000   \n",
       "643689               0.666667            0.000000           0.000000   \n",
       "\n",
       "        LEH_tot_dur_byage  almp_tot_dur_byage  almp_aw_tot_dur_byage  \\\n",
       "0                0.000000            0.000000               0.000000   \n",
       "1                0.000000            0.000000               0.000000   \n",
       "2                0.000000            8.367347               0.000000   \n",
       "3                0.000000            9.400000               0.000000   \n",
       "4                0.000000           10.320000               0.000000   \n",
       "...                   ...                 ...                    ...   \n",
       "643685           0.000000            0.000000               0.000000   \n",
       "643686           0.000000            8.909091               0.000000   \n",
       "643687           0.000000           10.352941               1.705882   \n",
       "643688           0.525424            0.000000               0.000000   \n",
       "643689           8.950000            1.033333               0.083333   \n",
       "\n",
       "        se_tot_dur_byage  seeking1_tot_dur_byage  \n",
       "0               0.000000                0.000000  \n",
       "1               0.000000                0.000000  \n",
       "2               0.000000                9.836735  \n",
       "3               0.000000                9.960000  \n",
       "4               0.000000               10.280000  \n",
       "...                  ...                     ...  \n",
       "643685          0.000000                0.000000  \n",
       "643686          0.000000                7.121212  \n",
       "643687          1.705882               23.911765  \n",
       "643688          0.000000                0.000000  \n",
       "643689          0.083333                8.133333  \n",
       "\n",
       "[643690 rows x 164 columns]"
      ]
     },
     "execution_count": 10,
     "metadata": {},
     "output_type": "execute_result"
    }
   ],
   "source": [
    "siab"
   ]
  },
  {
   "cell_type": "markdown",
   "id": "1f87e805",
   "metadata": {
    "papermill": {
     "duration": 0.010605,
     "end_time": "2025-08-19T18:55:41.156488",
     "exception": false,
     "start_time": "2025-08-19T18:55:41.145883",
     "status": "completed"
    },
    "tags": []
   },
   "source": [
    "# Splitting Data and Setting Training Data Size"
   ]
  },
  {
   "cell_type": "code",
   "execution_count": 11,
   "id": "910ae358",
   "metadata": {
    "execution": {
     "iopub.execute_input": "2025-08-19T18:55:41.191493Z",
     "iopub.status.busy": "2025-08-19T18:55:41.190454Z",
     "iopub.status.idle": "2025-08-19T18:55:41.414380Z",
     "shell.execute_reply": "2025-08-19T18:55:41.413601Z"
    },
    "papermill": {
     "duration": 0.236548,
     "end_time": "2025-08-19T18:55:41.415958",
     "exception": false,
     "start_time": "2025-08-19T18:55:41.179410",
     "status": "completed"
    },
    "tags": []
   },
   "outputs": [],
   "source": [
    "from fairness_multiverse.universe import sample_by_year_size\n",
    "\n",
    "siab_train = sample_by_year_size(siab,\n",
    "                               training_year=universe[\"training_year\"],\n",
    "                               training_size=universe[\"training_size\"])"
   ]
  },
  {
   "cell_type": "code",
   "execution_count": 12,
   "id": "919c8ff5",
   "metadata": {
    "execution": {
     "iopub.execute_input": "2025-08-19T18:55:41.470159Z",
     "iopub.status.busy": "2025-08-19T18:55:41.469032Z",
     "iopub.status.idle": "2025-08-19T18:55:41.479634Z",
     "shell.execute_reply": "2025-08-19T18:55:41.478240Z"
    },
    "papermill": {
     "duration": 0.055523,
     "end_time": "2025-08-19T18:55:41.481376",
     "exception": false,
     "start_time": "2025-08-19T18:55:41.425853",
     "status": "completed"
    },
    "tags": []
   },
   "outputs": [
    {
     "data": {
      "text/plain": [
       "(1000, 164)"
      ]
     },
     "execution_count": 12,
     "metadata": {},
     "output_type": "execute_result"
    }
   ],
   "source": [
    "siab_train.shape"
   ]
  },
  {
   "cell_type": "code",
   "execution_count": 13,
   "id": "feb13bf4",
   "metadata": {
    "execution": {
     "iopub.execute_input": "2025-08-19T18:55:41.524264Z",
     "iopub.status.busy": "2025-08-19T18:55:41.522811Z",
     "iopub.status.idle": "2025-08-19T18:55:41.538597Z",
     "shell.execute_reply": "2025-08-19T18:55:41.537471Z"
    },
    "papermill": {
     "duration": 0.035423,
     "end_time": "2025-08-19T18:55:41.540110",
     "exception": false,
     "start_time": "2025-08-19T18:55:41.504687",
     "status": "completed"
    },
    "tags": []
   },
   "outputs": [
    {
     "data": {
      "text/plain": [
       "year\n",
       "2014    1000\n",
       "dtype: int64"
      ]
     },
     "metadata": {},
     "output_type": "display_data"
    }
   ],
   "source": [
    "display(siab_train.groupby(\"year\").size())"
   ]
  },
  {
   "cell_type": "code",
   "execution_count": 14,
   "id": "0997782f",
   "metadata": {
    "execution": {
     "iopub.execute_input": "2025-08-19T18:55:41.564645Z",
     "iopub.status.busy": "2025-08-19T18:55:41.563386Z",
     "iopub.status.idle": "2025-08-19T18:55:41.816700Z",
     "shell.execute_reply": "2025-08-19T18:55:41.815966Z"
    },
    "papermill": {
     "duration": 0.265991,
     "end_time": "2025-08-19T18:55:41.818070",
     "exception": false,
     "start_time": "2025-08-19T18:55:41.552079",
     "status": "completed"
    },
    "tags": []
   },
   "outputs": [],
   "source": [
    "#siab_train = siab_s[siab_s.year < 2015]\n",
    "siab_calib = siab[siab.year == 2015]\n",
    "siab_test = siab[siab.year == 2016]"
   ]
  },
  {
   "cell_type": "code",
   "execution_count": 15,
   "id": "2c1e4012",
   "metadata": {
    "execution": {
     "iopub.execute_input": "2025-08-19T18:55:41.840054Z",
     "iopub.status.busy": "2025-08-19T18:55:41.839346Z",
     "iopub.status.idle": "2025-08-19T18:55:41.852458Z",
     "shell.execute_reply": "2025-08-19T18:55:41.851336Z"
    },
    "papermill": {
     "duration": 0.025965,
     "end_time": "2025-08-19T18:55:41.854494",
     "exception": false,
     "start_time": "2025-08-19T18:55:41.828529",
     "status": "completed"
    },
    "tags": []
   },
   "outputs": [],
   "source": [
    "#siab_calib.shape"
   ]
  },
  {
   "cell_type": "code",
   "execution_count": 16,
   "id": "f66b54ca",
   "metadata": {
    "execution": {
     "iopub.execute_input": "2025-08-19T18:55:41.884259Z",
     "iopub.status.busy": "2025-08-19T18:55:41.883129Z",
     "iopub.status.idle": "2025-08-19T18:55:41.889570Z",
     "shell.execute_reply": "2025-08-19T18:55:41.888267Z"
    },
    "papermill": {
     "duration": 0.020412,
     "end_time": "2025-08-19T18:55:41.891301",
     "exception": false,
     "start_time": "2025-08-19T18:55:41.870889",
     "status": "completed"
    },
    "tags": []
   },
   "outputs": [],
   "source": [
    "#siab_test.shape"
   ]
  },
  {
   "cell_type": "code",
   "execution_count": 17,
   "id": "27e4384d",
   "metadata": {
    "execution": {
     "iopub.execute_input": "2025-08-19T18:55:41.929591Z",
     "iopub.status.busy": "2025-08-19T18:55:41.914347Z",
     "iopub.status.idle": "2025-08-19T18:55:41.937328Z",
     "shell.execute_reply": "2025-08-19T18:55:41.936015Z"
    },
    "papermill": {
     "duration": 0.036595,
     "end_time": "2025-08-19T18:55:41.939492",
     "exception": false,
     "start_time": "2025-08-19T18:55:41.902897",
     "status": "completed"
    },
    "tags": []
   },
   "outputs": [],
   "source": [
    "X_train = siab_train.iloc[:,4:164]\n",
    "y_train = siab_train.iloc[:, [3]]"
   ]
  },
  {
   "cell_type": "code",
   "execution_count": 18,
   "id": "08ee8389",
   "metadata": {
    "execution": {
     "iopub.execute_input": "2025-08-19T18:55:41.978244Z",
     "iopub.status.busy": "2025-08-19T18:55:41.977802Z",
     "iopub.status.idle": "2025-08-19T18:55:42.082316Z",
     "shell.execute_reply": "2025-08-19T18:55:42.081383Z"
    },
    "papermill": {
     "duration": 0.1286,
     "end_time": "2025-08-19T18:55:42.084299",
     "exception": false,
     "start_time": "2025-08-19T18:55:41.955699",
     "status": "completed"
    },
    "tags": []
   },
   "outputs": [],
   "source": [
    "X_calib = siab_calib.iloc[:,4:164]\n",
    "y_calib = siab_calib.iloc[:, [3]]"
   ]
  },
  {
   "cell_type": "code",
   "execution_count": 19,
   "id": "b7ff42e0",
   "metadata": {
    "execution": {
     "iopub.execute_input": "2025-08-19T18:55:42.109305Z",
     "iopub.status.busy": "2025-08-19T18:55:42.108095Z",
     "iopub.status.idle": "2025-08-19T18:55:42.158164Z",
     "shell.execute_reply": "2025-08-19T18:55:42.157486Z"
    },
    "papermill": {
     "duration": 0.063668,
     "end_time": "2025-08-19T18:55:42.159697",
     "exception": false,
     "start_time": "2025-08-19T18:55:42.096029",
     "status": "completed"
    },
    "tags": []
   },
   "outputs": [],
   "source": [
    "X_test = siab_test.iloc[:,4:164]\n",
    "y_true = siab_test.iloc[:, [3]]"
   ]
  },
  {
   "cell_type": "code",
   "execution_count": 20,
   "id": "0275101e",
   "metadata": {
    "execution": {
     "iopub.execute_input": "2025-08-19T18:55:42.188991Z",
     "iopub.status.busy": "2025-08-19T18:55:42.188226Z",
     "iopub.status.idle": "2025-08-19T18:55:42.299202Z",
     "shell.execute_reply": "2025-08-19T18:55:42.298526Z"
    },
    "papermill": {
     "duration": 0.124344,
     "end_time": "2025-08-19T18:55:42.300730",
     "exception": false,
     "start_time": "2025-08-19T18:55:42.176386",
     "status": "completed"
    },
    "tags": []
   },
   "outputs": [],
   "source": [
    "# Auxiliary data needed downstream in the pipeline\n",
    "\n",
    "org_train = X_train.copy()\n",
    "org_test = X_test.copy()\n",
    "org_calib = X_calib.copy()"
   ]
  },
  {
   "cell_type": "markdown",
   "id": "b461e618",
   "metadata": {
    "papermill": {
     "duration": 0.009932,
     "end_time": "2025-08-19T18:55:42.321168",
     "exception": false,
     "start_time": "2025-08-19T18:55:42.311236",
     "status": "completed"
    },
    "tags": []
   },
   "source": [
    "# Preprocessing Data"
   ]
  },
  {
   "cell_type": "code",
   "execution_count": 21,
   "id": "78e74c4b",
   "metadata": {
    "execution": {
     "iopub.execute_input": "2025-08-19T18:55:42.342801Z",
     "iopub.status.busy": "2025-08-19T18:55:42.342410Z",
     "iopub.status.idle": "2025-08-19T18:55:42.348726Z",
     "shell.execute_reply": "2025-08-19T18:55:42.348151Z"
    },
    "papermill": {
     "duration": 0.022145,
     "end_time": "2025-08-19T18:55:42.353241",
     "exception": false,
     "start_time": "2025-08-19T18:55:42.331096",
     "status": "completed"
    },
    "tags": []
   },
   "outputs": [],
   "source": [
    "# EXCLUDE PROTECTED FEATURES\n",
    "# --------------------------\n",
    "\n",
    "excluded_features = universe[\"exclude_features\"].split(\"-\")\n",
    "excluded_features_dictionary = {\n",
    "    \"nationality\": [\"maxdeutsch1\", \"maxdeutsch.Missing.\"],\n",
    "    \"sex\": [\"frau1\"],\n",
    "    \"age\": [\"age\"],\n",
    "}"
   ]
  },
  {
   "cell_type": "code",
   "execution_count": 22,
   "id": "f8e63555",
   "metadata": {
    "execution": {
     "iopub.execute_input": "2025-08-19T18:55:42.385476Z",
     "iopub.status.busy": "2025-08-19T18:55:42.385101Z",
     "iopub.status.idle": "2025-08-19T18:55:42.389562Z",
     "shell.execute_reply": "2025-08-19T18:55:42.388968Z"
    },
    "papermill": {
     "duration": 0.019523,
     "end_time": "2025-08-19T18:55:42.391578",
     "exception": false,
     "start_time": "2025-08-19T18:55:42.372055",
     "status": "completed"
    },
    "tags": []
   },
   "outputs": [],
   "source": [
    "excluded_features_columns = [\n",
    "    excluded_features_dictionary[f] for f in excluded_features if len(f) > 0 and f != \"none\"\n",
    "]"
   ]
  },
  {
   "cell_type": "code",
   "execution_count": 23,
   "id": "da781f7c",
   "metadata": {
    "execution": {
     "iopub.execute_input": "2025-08-19T18:55:42.413583Z",
     "iopub.status.busy": "2025-08-19T18:55:42.413213Z",
     "iopub.status.idle": "2025-08-19T18:55:42.417409Z",
     "shell.execute_reply": "2025-08-19T18:55:42.416794Z"
    },
    "papermill": {
     "duration": 0.016598,
     "end_time": "2025-08-19T18:55:42.418647",
     "exception": false,
     "start_time": "2025-08-19T18:55:42.402049",
     "status": "completed"
    },
    "tags": []
   },
   "outputs": [],
   "source": [
    "from fairness_multiverse.universe import flatten_once\n",
    "\n",
    "excluded_features_columns = flatten_once(excluded_features_columns)"
   ]
  },
  {
   "cell_type": "code",
   "execution_count": 24,
   "id": "37fef0f0",
   "metadata": {
    "execution": {
     "iopub.execute_input": "2025-08-19T18:55:42.440658Z",
     "iopub.status.busy": "2025-08-19T18:55:42.440262Z",
     "iopub.status.idle": "2025-08-19T18:55:42.447662Z",
     "shell.execute_reply": "2025-08-19T18:55:42.446990Z"
    },
    "papermill": {
     "duration": 0.021417,
     "end_time": "2025-08-19T18:55:42.450557",
     "exception": false,
     "start_time": "2025-08-19T18:55:42.429140",
     "status": "completed"
    },
    "tags": []
   },
   "outputs": [
    {
     "name": "stdout",
     "output_type": "stream",
     "text": [
      "Dropping features: ['age']\n"
     ]
    }
   ],
   "source": [
    "if len(excluded_features_columns) > 0:\n",
    "    print(f\"Dropping features: {excluded_features_columns}\")\n",
    "    X_train.drop(excluded_features_columns, axis=1, inplace=True)"
   ]
  },
  {
   "cell_type": "code",
   "execution_count": 25,
   "id": "d029e3e9",
   "metadata": {
    "execution": {
     "iopub.execute_input": "2025-08-19T18:55:42.474147Z",
     "iopub.status.busy": "2025-08-19T18:55:42.473754Z",
     "iopub.status.idle": "2025-08-19T18:55:42.536455Z",
     "shell.execute_reply": "2025-08-19T18:55:42.535188Z"
    },
    "papermill": {
     "duration": 0.079749,
     "end_time": "2025-08-19T18:55:42.542078",
     "exception": false,
     "start_time": "2025-08-19T18:55:42.462329",
     "status": "completed"
    },
    "tags": []
   },
   "outputs": [
    {
     "name": "stdout",
     "output_type": "stream",
     "text": [
      "Dropping features: ['age']\n"
     ]
    }
   ],
   "source": [
    "if len(excluded_features_columns) > 0:\n",
    "    print(f\"Dropping features: {excluded_features_columns}\")\n",
    "    X_test.drop(excluded_features_columns, axis=1, inplace=True)"
   ]
  },
  {
   "cell_type": "code",
   "execution_count": 26,
   "id": "01d571f0",
   "metadata": {
    "execution": {
     "iopub.execute_input": "2025-08-19T18:55:42.565193Z",
     "iopub.status.busy": "2025-08-19T18:55:42.564805Z",
     "iopub.status.idle": "2025-08-19T18:55:42.616851Z",
     "shell.execute_reply": "2025-08-19T18:55:42.614625Z"
    },
    "papermill": {
     "duration": 0.065139,
     "end_time": "2025-08-19T18:55:42.618447",
     "exception": false,
     "start_time": "2025-08-19T18:55:42.553308",
     "status": "completed"
    },
    "tags": []
   },
   "outputs": [
    {
     "name": "stdout",
     "output_type": "stream",
     "text": [
      "Dropping features: ['age']\n"
     ]
    }
   ],
   "source": [
    "if len(excluded_features_columns) > 0:\n",
    "    print(f\"Dropping features: {excluded_features_columns}\")\n",
    "    X_calib.drop(excluded_features_columns, axis=1, inplace=True)"
   ]
  },
  {
   "cell_type": "code",
   "execution_count": 27,
   "id": "3037356e",
   "metadata": {
    "execution": {
     "iopub.execute_input": "2025-08-19T18:55:42.643140Z",
     "iopub.status.busy": "2025-08-19T18:55:42.641978Z",
     "iopub.status.idle": "2025-08-19T18:55:42.652750Z",
     "shell.execute_reply": "2025-08-19T18:55:42.651004Z"
    },
    "papermill": {
     "duration": 0.024681,
     "end_time": "2025-08-19T18:55:42.654493",
     "exception": false,
     "start_time": "2025-08-19T18:55:42.629812",
     "status": "completed"
    },
    "tags": []
   },
   "outputs": [],
   "source": [
    "# EXCLUDE CERTAIN SUBGROUPS\n",
    "# -------------------------\n",
    "\n",
    "mode = universe.get(\"exclude_subgroups\", \"keep-all\") # Defaults to \"keep-all\" if the key is missing."
   ]
  },
  {
   "cell_type": "code",
   "execution_count": 28,
   "id": "9d1e63fd",
   "metadata": {
    "execution": {
     "iopub.execute_input": "2025-08-19T18:55:42.682159Z",
     "iopub.status.busy": "2025-08-19T18:55:42.681013Z",
     "iopub.status.idle": "2025-08-19T18:55:42.694228Z",
     "shell.execute_reply": "2025-08-19T18:55:42.692434Z"
    },
    "papermill": {
     "duration": 0.027073,
     "end_time": "2025-08-19T18:55:42.695687",
     "exception": false,
     "start_time": "2025-08-19T18:55:42.668614",
     "status": "completed"
    },
    "tags": []
   },
   "outputs": [],
   "source": [
    "if mode == \"keep-all\":\n",
    "    keep_mask = pd.Series(True, index=org_train.index)\n",
    "\n",
    "elif mode == \"drop-non-german\":\n",
    "    keep_mask = (org_train[\"maxdeutsch1\"] == 1) & (org_train[\"maxdeutsch.Missing.\"] == 0)\n",
    "\n",
    "else:\n",
    "    raise ValueError(f\"Unsupported mode for exclude_subgroups: {mode}\")"
   ]
  },
  {
   "cell_type": "code",
   "execution_count": 29,
   "id": "d3b65474",
   "metadata": {
    "execution": {
     "iopub.execute_input": "2025-08-19T18:55:42.725250Z",
     "iopub.status.busy": "2025-08-19T18:55:42.724951Z",
     "iopub.status.idle": "2025-08-19T18:55:42.730889Z",
     "shell.execute_reply": "2025-08-19T18:55:42.729682Z"
    },
    "papermill": {
     "duration": 0.020262,
     "end_time": "2025-08-19T18:55:42.732459",
     "exception": false,
     "start_time": "2025-08-19T18:55:42.712197",
     "status": "completed"
    },
    "tags": []
   },
   "outputs": [],
   "source": [
    "n_drop = (~keep_mask).sum() # Calculates how many rows are set to be dropped\n",
    "if n_drop > 0:\n",
    "    pct = n_drop / len(keep_mask) * 100\n",
    "    print(f\"Dropping {n_drop} rows ({pct:.2f}%) where mode='{mode}'\")"
   ]
  },
  {
   "cell_type": "code",
   "execution_count": 30,
   "id": "f44389b3",
   "metadata": {
    "execution": {
     "iopub.execute_input": "2025-08-19T18:55:42.754963Z",
     "iopub.status.busy": "2025-08-19T18:55:42.754667Z",
     "iopub.status.idle": "2025-08-19T18:55:42.761627Z",
     "shell.execute_reply": "2025-08-19T18:55:42.760502Z"
    },
    "papermill": {
     "duration": 0.019836,
     "end_time": "2025-08-19T18:55:42.762963",
     "exception": false,
     "start_time": "2025-08-19T18:55:42.743127",
     "status": "completed"
    },
    "tags": []
   },
   "outputs": [],
   "source": [
    "X_train = X_train[keep_mask]"
   ]
  },
  {
   "cell_type": "code",
   "execution_count": 31,
   "id": "ceca8c2a",
   "metadata": {
    "execution": {
     "iopub.execute_input": "2025-08-19T18:55:42.786190Z",
     "iopub.status.busy": "2025-08-19T18:55:42.785776Z",
     "iopub.status.idle": "2025-08-19T18:55:42.802618Z",
     "shell.execute_reply": "2025-08-19T18:55:42.801705Z"
    },
    "papermill": {
     "duration": 0.030548,
     "end_time": "2025-08-19T18:55:42.804324",
     "exception": false,
     "start_time": "2025-08-19T18:55:42.773776",
     "status": "completed"
    },
    "tags": []
   },
   "outputs": [],
   "source": [
    "y_train = y_train[keep_mask]"
   ]
  },
  {
   "cell_type": "markdown",
   "id": "04d31e2f",
   "metadata": {
    "papermill": {
     "duration": 0.010547,
     "end_time": "2025-08-19T18:55:42.828978",
     "exception": false,
     "start_time": "2025-08-19T18:55:42.818431",
     "status": "completed"
    },
    "tags": []
   },
   "source": [
    "# Model Training"
   ]
  },
  {
   "cell_type": "code",
   "execution_count": 32,
   "id": "db991733",
   "metadata": {
    "execution": {
     "iopub.execute_input": "2025-08-19T18:55:42.851431Z",
     "iopub.status.busy": "2025-08-19T18:55:42.851043Z",
     "iopub.status.idle": "2025-08-19T18:55:42.942366Z",
     "shell.execute_reply": "2025-08-19T18:55:42.941198Z"
    },
    "papermill": {
     "duration": 0.105182,
     "end_time": "2025-08-19T18:55:42.944625",
     "exception": false,
     "start_time": "2025-08-19T18:55:42.839443",
     "status": "completed"
    },
    "tags": []
   },
   "outputs": [],
   "source": [
    "from sklearn.linear_model import LogisticRegression\n",
    "from sklearn.ensemble import GradientBoostingClassifier, RandomForestClassifier\n",
    "\n",
    "if (universe[\"model\"] == \"logreg\"):\n",
    "    model = LogisticRegression() #penalty=\"none\", solver=\"newton-cg\", max_iter=1)\n",
    "elif (universe[\"model\"] == \"penalized_logreg\"):\n",
    "    model = LogisticRegression(penalty=\"l2\", C=0.1) #, solver=\"newton-cg\", max_iter=1)\n",
    "elif (universe[\"model\"] == \"rf\"):\n",
    "    model = RandomForestClassifier() # n_estimators=100, n_jobs=-1\n",
    "elif (universe[\"model\"] == \"gbm\"):\n",
    "    model = GradientBoostingClassifier()\n",
    "elif (universe[\"model\"] == \"elasticnet\"):\n",
    "    model = LogisticRegression(penalty = 'elasticnet', solver = 'saga', l1_ratio = 0.5) # max_iter=5000\n",
    "else:\n",
    "    raise \"Unsupported universe.model\""
   ]
  },
  {
   "cell_type": "code",
   "execution_count": 33,
   "id": "a4b5cd25",
   "metadata": {
    "execution": {
     "iopub.execute_input": "2025-08-19T18:55:42.967991Z",
     "iopub.status.busy": "2025-08-19T18:55:42.967514Z",
     "iopub.status.idle": "2025-08-19T18:55:42.973769Z",
     "shell.execute_reply": "2025-08-19T18:55:42.972847Z"
    },
    "papermill": {
     "duration": 0.019693,
     "end_time": "2025-08-19T18:55:42.975330",
     "exception": false,
     "start_time": "2025-08-19T18:55:42.955637",
     "status": "completed"
    },
    "tags": []
   },
   "outputs": [],
   "source": [
    "from sklearn.pipeline import Pipeline\n",
    "from sklearn.preprocessing import StandardScaler\n",
    "\n",
    "model = Pipeline([\n",
    "    #(\"continuous_processor\", continuous_processor),\n",
    "    #(\"categorical_preprocessor\", categorical_preprocessor),\n",
    "    (\"scale\", StandardScaler() if universe[\"scale\"] == \"scale\" else None), \n",
    "    (\"model\", model),\n",
    "])"
   ]
  },
  {
   "cell_type": "code",
   "execution_count": 34,
   "id": "283a904d",
   "metadata": {
    "execution": {
     "iopub.execute_input": "2025-08-19T18:55:42.999244Z",
     "iopub.status.busy": "2025-08-19T18:55:42.998770Z",
     "iopub.status.idle": "2025-08-19T18:55:43.963973Z",
     "shell.execute_reply": "2025-08-19T18:55:43.962825Z"
    },
    "papermill": {
     "duration": 0.978949,
     "end_time": "2025-08-19T18:55:43.965547",
     "exception": false,
     "start_time": "2025-08-19T18:55:42.986598",
     "status": "completed"
    },
    "tags": []
   },
   "outputs": [
    {
     "data": {
      "text/html": [
       "<style>#sk-container-id-1 {color: black;background-color: white;}#sk-container-id-1 pre{padding: 0;}#sk-container-id-1 div.sk-toggleable {background-color: white;}#sk-container-id-1 label.sk-toggleable__label {cursor: pointer;display: block;width: 100%;margin-bottom: 0;padding: 0.3em;box-sizing: border-box;text-align: center;}#sk-container-id-1 label.sk-toggleable__label-arrow:before {content: \"▸\";float: left;margin-right: 0.25em;color: #696969;}#sk-container-id-1 label.sk-toggleable__label-arrow:hover:before {color: black;}#sk-container-id-1 div.sk-estimator:hover label.sk-toggleable__label-arrow:before {color: black;}#sk-container-id-1 div.sk-toggleable__content {max-height: 0;max-width: 0;overflow: hidden;text-align: left;background-color: #f0f8ff;}#sk-container-id-1 div.sk-toggleable__content pre {margin: 0.2em;color: black;border-radius: 0.25em;background-color: #f0f8ff;}#sk-container-id-1 input.sk-toggleable__control:checked~div.sk-toggleable__content {max-height: 200px;max-width: 100%;overflow: auto;}#sk-container-id-1 input.sk-toggleable__control:checked~label.sk-toggleable__label-arrow:before {content: \"▾\";}#sk-container-id-1 div.sk-estimator input.sk-toggleable__control:checked~label.sk-toggleable__label {background-color: #d4ebff;}#sk-container-id-1 div.sk-label input.sk-toggleable__control:checked~label.sk-toggleable__label {background-color: #d4ebff;}#sk-container-id-1 input.sk-hidden--visually {border: 0;clip: rect(1px 1px 1px 1px);clip: rect(1px, 1px, 1px, 1px);height: 1px;margin: -1px;overflow: hidden;padding: 0;position: absolute;width: 1px;}#sk-container-id-1 div.sk-estimator {font-family: monospace;background-color: #f0f8ff;border: 1px dotted black;border-radius: 0.25em;box-sizing: border-box;margin-bottom: 0.5em;}#sk-container-id-1 div.sk-estimator:hover {background-color: #d4ebff;}#sk-container-id-1 div.sk-parallel-item::after {content: \"\";width: 100%;border-bottom: 1px solid gray;flex-grow: 1;}#sk-container-id-1 div.sk-label:hover label.sk-toggleable__label {background-color: #d4ebff;}#sk-container-id-1 div.sk-serial::before {content: \"\";position: absolute;border-left: 1px solid gray;box-sizing: border-box;top: 0;bottom: 0;left: 50%;z-index: 0;}#sk-container-id-1 div.sk-serial {display: flex;flex-direction: column;align-items: center;background-color: white;padding-right: 0.2em;padding-left: 0.2em;position: relative;}#sk-container-id-1 div.sk-item {position: relative;z-index: 1;}#sk-container-id-1 div.sk-parallel {display: flex;align-items: stretch;justify-content: center;background-color: white;position: relative;}#sk-container-id-1 div.sk-item::before, #sk-container-id-1 div.sk-parallel-item::before {content: \"\";position: absolute;border-left: 1px solid gray;box-sizing: border-box;top: 0;bottom: 0;left: 50%;z-index: -1;}#sk-container-id-1 div.sk-parallel-item {display: flex;flex-direction: column;z-index: 1;position: relative;background-color: white;}#sk-container-id-1 div.sk-parallel-item:first-child::after {align-self: flex-end;width: 50%;}#sk-container-id-1 div.sk-parallel-item:last-child::after {align-self: flex-start;width: 50%;}#sk-container-id-1 div.sk-parallel-item:only-child::after {width: 0;}#sk-container-id-1 div.sk-dashed-wrapped {border: 1px dashed gray;margin: 0 0.4em 0.5em 0.4em;box-sizing: border-box;padding-bottom: 0.4em;background-color: white;}#sk-container-id-1 div.sk-label label {font-family: monospace;font-weight: bold;display: inline-block;line-height: 1.2em;}#sk-container-id-1 div.sk-label-container {text-align: center;}#sk-container-id-1 div.sk-container {/* jupyter's `normalize.less` sets `[hidden] { display: none; }` but bootstrap.min.css set `[hidden] { display: none !important; }` so we also need the `!important` here to be able to override the default hidden behavior on the sphinx rendered scikit-learn.org. See: https://github.com/scikit-learn/scikit-learn/issues/21755 */display: inline-block !important;position: relative;}#sk-container-id-1 div.sk-text-repr-fallback {display: none;}</style><div id=\"sk-container-id-1\" class=\"sk-top-container\"><div class=\"sk-text-repr-fallback\"><pre>Pipeline(steps=[(&#x27;scale&#x27;, None), (&#x27;model&#x27;, GradientBoostingClassifier())])</pre><b>In a Jupyter environment, please rerun this cell to show the HTML representation or trust the notebook. <br />On GitHub, the HTML representation is unable to render, please try loading this page with nbviewer.org.</b></div><div class=\"sk-container\" hidden><div class=\"sk-item sk-dashed-wrapped\"><div class=\"sk-label-container\"><div class=\"sk-label sk-toggleable\"><input class=\"sk-toggleable__control sk-hidden--visually\" id=\"sk-estimator-id-1\" type=\"checkbox\" ><label for=\"sk-estimator-id-1\" class=\"sk-toggleable__label sk-toggleable__label-arrow\">Pipeline</label><div class=\"sk-toggleable__content\"><pre>Pipeline(steps=[(&#x27;scale&#x27;, None), (&#x27;model&#x27;, GradientBoostingClassifier())])</pre></div></div></div><div class=\"sk-serial\"><div class=\"sk-item\"><div class=\"sk-estimator sk-toggleable\"><input class=\"sk-toggleable__control sk-hidden--visually\" id=\"sk-estimator-id-2\" type=\"checkbox\" ><label for=\"sk-estimator-id-2\" class=\"sk-toggleable__label sk-toggleable__label-arrow\">None</label><div class=\"sk-toggleable__content\"><pre>None</pre></div></div></div><div class=\"sk-item\"><div class=\"sk-estimator sk-toggleable\"><input class=\"sk-toggleable__control sk-hidden--visually\" id=\"sk-estimator-id-3\" type=\"checkbox\" ><label for=\"sk-estimator-id-3\" class=\"sk-toggleable__label sk-toggleable__label-arrow\">GradientBoostingClassifier</label><div class=\"sk-toggleable__content\"><pre>GradientBoostingClassifier()</pre></div></div></div></div></div></div></div>"
      ],
      "text/plain": [
       "Pipeline(steps=[('scale', None), ('model', GradientBoostingClassifier())])"
      ]
     },
     "execution_count": 34,
     "metadata": {},
     "output_type": "execute_result"
    }
   ],
   "source": [
    "model.fit(X_train, y_train.values.ravel())"
   ]
  },
  {
   "cell_type": "code",
   "execution_count": 35,
   "id": "6e15e313",
   "metadata": {
    "execution": {
     "iopub.execute_input": "2025-08-19T18:55:43.992100Z",
     "iopub.status.busy": "2025-08-19T18:55:43.991269Z",
     "iopub.status.idle": "2025-08-19T18:55:44.522116Z",
     "shell.execute_reply": "2025-08-19T18:55:44.521022Z"
    },
    "papermill": {
     "duration": 0.547491,
     "end_time": "2025-08-19T18:55:44.524592",
     "exception": false,
     "start_time": "2025-08-19T18:55:43.977101",
     "status": "completed"
    },
    "tags": []
   },
   "outputs": [
    {
     "data": {
      "text/plain": [
       "0.8492587225504403"
      ]
     },
     "execution_count": 35,
     "metadata": {},
     "output_type": "execute_result"
    }
   ],
   "source": [
    "from fairness_multiverse.universe import predict_w_threshold\n",
    "\n",
    "probs_test = model.predict_proba(X_test)\n",
    "\n",
    "'''\n",
    "Below code returns a boolean array (or binary 0/1 array depending on how it’s used) where each element \n",
    "is True if the probability of class 1 is greater than or equal to the threshold, and False otherwise.\n",
    "'''\n",
    "y_pred_default = predict_w_threshold(probs_test, 0.5)\n",
    "\n",
    "from sklearn.metrics import accuracy_score\n",
    "\n",
    "# Naive prediction\n",
    "accuracy_score(y_true = y_true, y_pred = y_pred_default)"
   ]
  },
  {
   "cell_type": "code",
   "execution_count": 36,
   "id": "6f14067c",
   "metadata": {
    "execution": {
     "iopub.execute_input": "2025-08-19T18:55:44.577109Z",
     "iopub.status.busy": "2025-08-19T18:55:44.576626Z",
     "iopub.status.idle": "2025-08-19T18:55:45.111093Z",
     "shell.execute_reply": "2025-08-19T18:55:45.110081Z"
    },
    "papermill": {
     "duration": 0.552073,
     "end_time": "2025-08-19T18:55:45.112739",
     "exception": false,
     "start_time": "2025-08-19T18:55:44.560666",
     "status": "completed"
    },
    "tags": []
   },
   "outputs": [
    {
     "data": {
      "text/plain": [
       "array([0, 0, 0, ..., 0, 0, 0])"
      ]
     },
     "execution_count": 36,
     "metadata": {},
     "output_type": "execute_result"
    }
   ],
   "source": [
    "model.predict(X_test)"
   ]
  },
  {
   "cell_type": "markdown",
   "id": "3759920c",
   "metadata": {
    "papermill": {
     "duration": 0.011023,
     "end_time": "2025-08-19T18:55:45.137136",
     "exception": false,
     "start_time": "2025-08-19T18:55:45.126113",
     "status": "completed"
    },
    "tags": []
   },
   "source": [
    "# Conformal Prediction"
   ]
  },
  {
   "cell_type": "code",
   "execution_count": 37,
   "id": "14b27f59",
   "metadata": {
    "execution": {
     "iopub.execute_input": "2025-08-19T18:55:45.160884Z",
     "iopub.status.busy": "2025-08-19T18:55:45.160265Z",
     "iopub.status.idle": "2025-08-19T18:55:45.166350Z",
     "shell.execute_reply": "2025-08-19T18:55:45.165485Z"
    },
    "papermill": {
     "duration": 0.021662,
     "end_time": "2025-08-19T18:55:45.169583",
     "exception": false,
     "start_time": "2025-08-19T18:55:45.147921",
     "status": "completed"
    },
    "tags": []
   },
   "outputs": [],
   "source": [
    "# Miscoverage level for conformal prediction (10% allowed error rate => 90% target coverage)\n",
    "alpha = 0.1"
   ]
  },
  {
   "cell_type": "code",
   "execution_count": 38,
   "id": "59102472",
   "metadata": {
    "execution": {
     "iopub.execute_input": "2025-08-19T18:55:45.195932Z",
     "iopub.status.busy": "2025-08-19T18:55:45.195415Z",
     "iopub.status.idle": "2025-08-19T18:55:45.859368Z",
     "shell.execute_reply": "2025-08-19T18:55:45.857714Z"
    },
    "papermill": {
     "duration": 0.678706,
     "end_time": "2025-08-19T18:55:45.861291",
     "exception": false,
     "start_time": "2025-08-19T18:55:45.182585",
     "status": "completed"
    },
    "tags": []
   },
   "outputs": [],
   "source": [
    "probs_calib = model.predict_proba(X_calib)"
   ]
  },
  {
   "cell_type": "code",
   "execution_count": 39,
   "id": "a792d4dd",
   "metadata": {
    "execution": {
     "iopub.execute_input": "2025-08-19T18:55:45.888870Z",
     "iopub.status.busy": "2025-08-19T18:55:45.887055Z",
     "iopub.status.idle": "2025-08-19T18:55:45.899353Z",
     "shell.execute_reply": "2025-08-19T18:55:45.898036Z"
    },
    "papermill": {
     "duration": 0.027797,
     "end_time": "2025-08-19T18:55:45.900923",
     "exception": false,
     "start_time": "2025-08-19T18:55:45.873126",
     "status": "completed"
    },
    "tags": []
   },
   "outputs": [],
   "source": [
    "y_calib = y_calib.values.ravel().astype(int)"
   ]
  },
  {
   "cell_type": "code",
   "execution_count": 40,
   "id": "650fd033",
   "metadata": {
    "execution": {
     "iopub.execute_input": "2025-08-19T18:55:45.933149Z",
     "iopub.status.busy": "2025-08-19T18:55:45.931759Z",
     "iopub.status.idle": "2025-08-19T18:55:45.944967Z",
     "shell.execute_reply": "2025-08-19T18:55:45.943821Z"
    },
    "papermill": {
     "duration": 0.028349,
     "end_time": "2025-08-19T18:55:45.946487",
     "exception": false,
     "start_time": "2025-08-19T18:55:45.918138",
     "status": "completed"
    },
    "tags": []
   },
   "outputs": [],
   "source": [
    "from fairness_multiverse.conformal import compute_nc_scores\n",
    "\n",
    "# Compute nonconformity scores on calibration set (1 - probability of true class)\n",
    "nc_scores = compute_nc_scores(probs_calib, y_calib)"
   ]
  },
  {
   "cell_type": "code",
   "execution_count": 41,
   "id": "28ada44c",
   "metadata": {
    "execution": {
     "iopub.execute_input": "2025-08-19T18:55:45.975746Z",
     "iopub.status.busy": "2025-08-19T18:55:45.974320Z",
     "iopub.status.idle": "2025-08-19T18:55:45.985705Z",
     "shell.execute_reply": "2025-08-19T18:55:45.984294Z"
    },
    "papermill": {
     "duration": 0.026654,
     "end_time": "2025-08-19T18:55:45.987384",
     "exception": false,
     "start_time": "2025-08-19T18:55:45.960730",
     "status": "completed"
    },
    "tags": []
   },
   "outputs": [],
   "source": [
    "from fairness_multiverse.conformal import find_threshold\n",
    "\n",
    "# Find conformal threshold q_hat for the given alpha (split conformal method)\n",
    "q_hat = find_threshold(nc_scores, alpha)"
   ]
  },
  {
   "cell_type": "code",
   "execution_count": 42,
   "id": "df56469e",
   "metadata": {
    "execution": {
     "iopub.execute_input": "2025-08-19T18:55:46.017402Z",
     "iopub.status.busy": "2025-08-19T18:55:46.015892Z",
     "iopub.status.idle": "2025-08-19T18:55:46.027161Z",
     "shell.execute_reply": "2025-08-19T18:55:46.026035Z"
    },
    "papermill": {
     "duration": 0.026027,
     "end_time": "2025-08-19T18:55:46.028645",
     "exception": false,
     "start_time": "2025-08-19T18:55:46.002618",
     "status": "completed"
    },
    "tags": []
   },
   "outputs": [
    {
     "data": {
      "text/plain": [
       "0.7416015954303512"
      ]
     },
     "execution_count": 42,
     "metadata": {},
     "output_type": "execute_result"
    }
   ],
   "source": [
    "q_hat"
   ]
  },
  {
   "cell_type": "code",
   "execution_count": 43,
   "id": "aa1f5faa",
   "metadata": {
    "execution": {
     "iopub.execute_input": "2025-08-19T18:55:46.058651Z",
     "iopub.status.busy": "2025-08-19T18:55:46.057176Z",
     "iopub.status.idle": "2025-08-19T18:55:47.016669Z",
     "shell.execute_reply": "2025-08-19T18:55:47.015542Z"
    },
    "papermill": {
     "duration": 0.975459,
     "end_time": "2025-08-19T18:55:47.018266",
     "exception": false,
     "start_time": "2025-08-19T18:55:46.042807",
     "status": "completed"
    },
    "tags": []
   },
   "outputs": [],
   "source": [
    "from fairness_multiverse.conformal import predict_conformal_sets\n",
    "\n",
    "# Generate prediction sets for each test example\n",
    "pred_sets = predict_conformal_sets(model, X_test, q_hat)"
   ]
  },
  {
   "cell_type": "code",
   "execution_count": 44,
   "id": "97f67a6b",
   "metadata": {
    "execution": {
     "iopub.execute_input": "2025-08-19T18:55:47.047610Z",
     "iopub.status.busy": "2025-08-19T18:55:47.046417Z",
     "iopub.status.idle": "2025-08-19T18:55:47.054862Z",
     "shell.execute_reply": "2025-08-19T18:55:47.053647Z"
    },
    "papermill": {
     "duration": 0.022997,
     "end_time": "2025-08-19T18:55:47.056266",
     "exception": false,
     "start_time": "2025-08-19T18:55:47.033269",
     "status": "completed"
    },
    "tags": []
   },
   "outputs": [],
   "source": [
    "y_true = y_true.squeeze()"
   ]
  },
  {
   "cell_type": "code",
   "execution_count": 45,
   "id": "e700e9a7",
   "metadata": {
    "execution": {
     "iopub.execute_input": "2025-08-19T18:55:47.084614Z",
     "iopub.status.busy": "2025-08-19T18:55:47.083166Z",
     "iopub.status.idle": "2025-08-19T18:55:47.598939Z",
     "shell.execute_reply": "2025-08-19T18:55:47.597380Z"
    },
    "papermill": {
     "duration": 0.531524,
     "end_time": "2025-08-19T18:55:47.601866",
     "exception": false,
     "start_time": "2025-08-19T18:55:47.070342",
     "status": "completed"
    },
    "tags": []
   },
   "outputs": [],
   "source": [
    "from fairness_multiverse.conformal import evaluate_sets\n",
    "\n",
    "# Evaluate coverage and average set size on test data\n",
    "metrics = evaluate_sets(pred_sets, y_true)"
   ]
  },
  {
   "cell_type": "markdown",
   "id": "efbacec0",
   "metadata": {
    "papermill": {
     "duration": 0.012495,
     "end_time": "2025-08-19T18:55:47.638147",
     "exception": false,
     "start_time": "2025-08-19T18:55:47.625652",
     "status": "completed"
    },
    "tags": []
   },
   "source": [
    "# CP Metrics"
   ]
  },
  {
   "cell_type": "code",
   "execution_count": 46,
   "id": "9de55fb1",
   "metadata": {
    "execution": {
     "iopub.execute_input": "2025-08-19T18:55:47.664332Z",
     "iopub.status.busy": "2025-08-19T18:55:47.663132Z",
     "iopub.status.idle": "2025-08-19T18:55:47.688084Z",
     "shell.execute_reply": "2025-08-19T18:55:47.687063Z"
    },
    "papermill": {
     "duration": 0.040579,
     "end_time": "2025-08-19T18:55:47.690017",
     "exception": false,
     "start_time": "2025-08-19T18:55:47.649438",
     "status": "completed"
    },
    "tags": []
   },
   "outputs": [
    {
     "data": {
      "text/plain": [
       "{'coverage': 0.9095307100657675, 'avg_size': 1.1586556682644076}"
      ]
     },
     "execution_count": 46,
     "metadata": {},
     "output_type": "execute_result"
    }
   ],
   "source": [
    "metrics"
   ]
  },
  {
   "cell_type": "code",
   "execution_count": 47,
   "id": "64c340a1",
   "metadata": {
    "execution": {
     "iopub.execute_input": "2025-08-19T18:55:47.720878Z",
     "iopub.status.busy": "2025-08-19T18:55:47.719800Z",
     "iopub.status.idle": "2025-08-19T18:55:47.729615Z",
     "shell.execute_reply": "2025-08-19T18:55:47.728340Z"
    },
    "papermill": {
     "duration": 0.024208,
     "end_time": "2025-08-19T18:55:47.731215",
     "exception": false,
     "start_time": "2025-08-19T18:55:47.707007",
     "status": "completed"
    },
    "tags": []
   },
   "outputs": [],
   "source": [
    "example_universe = universe.copy()\n",
    "universe_training_year = example_universe.get(\"training_year\")\n",
    "universe_training_size = example_universe.get(\"training_size\")\n",
    "universe_scale = example_universe.get(\"scale\")\n",
    "universe_model = example_universe.get(\"model\")\n",
    "universe_exclude_features = example_universe.get(\"exclude_features\")\n",
    "universe_exclude_subgroups = example_universe.get(\"exclude_subgroups\")"
   ]
  },
  {
   "cell_type": "code",
   "execution_count": 48,
   "id": "dbb53cb4",
   "metadata": {
    "execution": {
     "iopub.execute_input": "2025-08-19T18:55:47.758547Z",
     "iopub.status.busy": "2025-08-19T18:55:47.757597Z",
     "iopub.status.idle": "2025-08-19T18:55:47.767072Z",
     "shell.execute_reply": "2025-08-19T18:55:47.765875Z"
    },
    "papermill": {
     "duration": 0.023902,
     "end_time": "2025-08-19T18:55:47.768733",
     "exception": false,
     "start_time": "2025-08-19T18:55:47.744831",
     "status": "completed"
    },
    "tags": []
   },
   "outputs": [],
   "source": [
    "cp_metrics_dict = {\n",
    "    \"universe_id\": [universe_id],\n",
    "    \"universe_training_year\": [universe_training_year],\n",
    "    \"universe_training_size\": [universe_training_size],\n",
    "    \"universe_scale\": [universe_scale],\n",
    "    \"universe_model\": [universe_model],\n",
    "    \"universe_exclude_features\": [universe_exclude_features],\n",
    "    \"universe_exclude_subgroups\": [universe_exclude_subgroups],\n",
    "    \"q_hat\": [q_hat],\n",
    "    \"coverage\": [metrics[\"coverage\"]],\n",
    "    \"avg_size\": [metrics[\"avg_size\"]],\n",
    "}"
   ]
  },
  {
   "cell_type": "code",
   "execution_count": 49,
   "id": "0d70d4b2",
   "metadata": {
    "execution": {
     "iopub.execute_input": "2025-08-19T18:55:47.796326Z",
     "iopub.status.busy": "2025-08-19T18:55:47.795342Z",
     "iopub.status.idle": "2025-08-19T18:55:47.806969Z",
     "shell.execute_reply": "2025-08-19T18:55:47.805742Z"
    },
    "papermill": {
     "duration": 0.026179,
     "end_time": "2025-08-19T18:55:47.808604",
     "exception": false,
     "start_time": "2025-08-19T18:55:47.782425",
     "status": "completed"
    },
    "tags": []
   },
   "outputs": [],
   "source": [
    "cp_metrics_df = pd.DataFrame(cp_metrics_dict)"
   ]
  },
  {
   "cell_type": "code",
   "execution_count": 50,
   "id": "b494403c",
   "metadata": {
    "execution": {
     "iopub.execute_input": "2025-08-19T18:55:47.836564Z",
     "iopub.status.busy": "2025-08-19T18:55:47.835564Z",
     "iopub.status.idle": "2025-08-19T18:55:47.859098Z",
     "shell.execute_reply": "2025-08-19T18:55:47.858063Z"
    },
    "papermill": {
     "duration": 0.038647,
     "end_time": "2025-08-19T18:55:47.861177",
     "exception": false,
     "start_time": "2025-08-19T18:55:47.822530",
     "status": "completed"
    },
    "tags": []
   },
   "outputs": [
    {
     "data": {
      "text/html": [
       "<div>\n",
       "<style scoped>\n",
       "    .dataframe tbody tr th:only-of-type {\n",
       "        vertical-align: middle;\n",
       "    }\n",
       "\n",
       "    .dataframe tbody tr th {\n",
       "        vertical-align: top;\n",
       "    }\n",
       "\n",
       "    .dataframe thead th {\n",
       "        text-align: right;\n",
       "    }\n",
       "</style>\n",
       "<table border=\"1\" class=\"dataframe\">\n",
       "  <thead>\n",
       "    <tr style=\"text-align: right;\">\n",
       "      <th></th>\n",
       "      <th>universe_id</th>\n",
       "      <th>universe_training_year</th>\n",
       "      <th>universe_training_size</th>\n",
       "      <th>universe_scale</th>\n",
       "      <th>universe_model</th>\n",
       "      <th>universe_exclude_features</th>\n",
       "      <th>universe_exclude_subgroups</th>\n",
       "      <th>q_hat</th>\n",
       "      <th>coverage</th>\n",
       "      <th>avg_size</th>\n",
       "    </tr>\n",
       "  </thead>\n",
       "  <tbody>\n",
       "    <tr>\n",
       "      <th>0</th>\n",
       "      <td>c6abdb9abf526251784da5467a095f59</td>\n",
       "      <td>2014</td>\n",
       "      <td>1k</td>\n",
       "      <td>do-not-scale</td>\n",
       "      <td>gbm</td>\n",
       "      <td>age</td>\n",
       "      <td>keep-all</td>\n",
       "      <td>0.741602</td>\n",
       "      <td>0.909531</td>\n",
       "      <td>1.158656</td>\n",
       "    </tr>\n",
       "  </tbody>\n",
       "</table>\n",
       "</div>"
      ],
      "text/plain": [
       "                        universe_id universe_training_year  \\\n",
       "0  c6abdb9abf526251784da5467a095f59                   2014   \n",
       "\n",
       "  universe_training_size universe_scale universe_model  \\\n",
       "0                     1k   do-not-scale            gbm   \n",
       "\n",
       "  universe_exclude_features universe_exclude_subgroups     q_hat  coverage  \\\n",
       "0                       age                   keep-all  0.741602  0.909531   \n",
       "\n",
       "   avg_size  \n",
       "0  1.158656  "
      ]
     },
     "execution_count": 50,
     "metadata": {},
     "output_type": "execute_result"
    }
   ],
   "source": [
    "cp_metrics_df"
   ]
  },
  {
   "cell_type": "markdown",
   "id": "ed608b0b",
   "metadata": {
    "papermill": {
     "duration": 0.011563,
     "end_time": "2025-08-19T18:55:47.889729",
     "exception": false,
     "start_time": "2025-08-19T18:55:47.878166",
     "status": "completed"
    },
    "tags": []
   },
   "source": [
    "Conditional coverage & looking at subgroups"
   ]
  },
  {
   "cell_type": "code",
   "execution_count": 51,
   "id": "8968c366",
   "metadata": {
    "execution": {
     "iopub.execute_input": "2025-08-19T18:55:47.915489Z",
     "iopub.status.busy": "2025-08-19T18:55:47.914524Z",
     "iopub.status.idle": "2025-08-19T18:55:48.197348Z",
     "shell.execute_reply": "2025-08-19T18:55:48.196469Z"
    },
    "papermill": {
     "duration": 0.297627,
     "end_time": "2025-08-19T18:55:48.198984",
     "exception": false,
     "start_time": "2025-08-19T18:55:47.901357",
     "status": "completed"
    },
    "tags": []
   },
   "outputs": [],
   "source": [
    "from fairness_multiverse.conformal import build_cp_groups\n",
    "\n",
    "cp_groups_df = build_cp_groups(pred_sets, y_true, X_test.index, org_test)"
   ]
  },
  {
   "cell_type": "code",
   "execution_count": 52,
   "id": "292ddabf",
   "metadata": {
    "execution": {
     "iopub.execute_input": "2025-08-19T18:55:48.225553Z",
     "iopub.status.busy": "2025-08-19T18:55:48.224095Z",
     "iopub.status.idle": "2025-08-19T18:55:49.076198Z",
     "shell.execute_reply": "2025-08-19T18:55:49.075040Z"
    },
    "papermill": {
     "duration": 0.86755,
     "end_time": "2025-08-19T18:55:49.078973",
     "exception": false,
     "start_time": "2025-08-19T18:55:48.211423",
     "status": "completed"
    },
    "tags": []
   },
   "outputs": [],
   "source": [
    "# Define covered = 1 if true_label is in the predicted set\n",
    "cp_groups_df['covered'] = cp_groups_df.apply(\n",
    "    lambda r: int(r['true_label'] in r['pred_set']),\n",
    "    axis=1\n",
    ")"
   ]
  },
  {
   "cell_type": "code",
   "execution_count": 53,
   "id": "3a261692",
   "metadata": {
    "execution": {
     "iopub.execute_input": "2025-08-19T18:55:49.125236Z",
     "iopub.status.busy": "2025-08-19T18:55:49.124035Z",
     "iopub.status.idle": "2025-08-19T18:55:49.150259Z",
     "shell.execute_reply": "2025-08-19T18:55:49.149081Z"
    },
    "papermill": {
     "duration": 0.043114,
     "end_time": "2025-08-19T18:55:49.152570",
     "exception": false,
     "start_time": "2025-08-19T18:55:49.109456",
     "status": "completed"
    },
    "tags": []
   },
   "outputs": [],
   "source": [
    "subgroups = ['frau1','nongerman','nongerman_male','nongerman_female']\n",
    "\n",
    "# Conditional coverage for subgroup==1\n",
    "cond_coverage = {\n",
    "    g: cp_groups_df.loc[cp_groups_df[g]==1, 'covered'].mean()\n",
    "    for g in subgroups\n",
    "}"
   ]
  },
  {
   "cell_type": "code",
   "execution_count": 54,
   "id": "894fd600",
   "metadata": {
    "execution": {
     "iopub.execute_input": "2025-08-19T18:55:49.194879Z",
     "iopub.status.busy": "2025-08-19T18:55:49.193617Z",
     "iopub.status.idle": "2025-08-19T18:55:49.206020Z",
     "shell.execute_reply": "2025-08-19T18:55:49.204580Z"
    },
    "papermill": {
     "duration": 0.032334,
     "end_time": "2025-08-19T18:55:49.207885",
     "exception": false,
     "start_time": "2025-08-19T18:55:49.175551",
     "status": "completed"
    },
    "tags": []
   },
   "outputs": [
    {
     "data": {
      "text/plain": [
       "{'frau1': 0.9061598598193826,\n",
       " 'nongerman': 0.9049570538370852,\n",
       " 'nongerman_male': 0.9232639827073764,\n",
       " 'nongerman_female': 0.8746646795827123}"
      ]
     },
     "execution_count": 54,
     "metadata": {},
     "output_type": "execute_result"
    }
   ],
   "source": [
    "cond_coverage"
   ]
  },
  {
   "cell_type": "code",
   "execution_count": 55,
   "id": "942895c7",
   "metadata": {
    "execution": {
     "iopub.execute_input": "2025-08-19T18:55:49.238880Z",
     "iopub.status.busy": "2025-08-19T18:55:49.237431Z",
     "iopub.status.idle": "2025-08-19T18:55:49.249869Z",
     "shell.execute_reply": "2025-08-19T18:55:49.248268Z"
    },
    "papermill": {
     "duration": 0.027161,
     "end_time": "2025-08-19T18:55:49.251313",
     "exception": false,
     "start_time": "2025-08-19T18:55:49.224152",
     "status": "completed"
    },
    "tags": []
   },
   "outputs": [],
   "source": [
    "for subgroup, cov in cond_coverage.items():\n",
    "    cp_metrics_df[f\"cov_{subgroup}\"] = cov"
   ]
  },
  {
   "cell_type": "code",
   "execution_count": 56,
   "id": "3970120f",
   "metadata": {
    "execution": {
     "iopub.execute_input": "2025-08-19T18:55:49.281501Z",
     "iopub.status.busy": "2025-08-19T18:55:49.280101Z",
     "iopub.status.idle": "2025-08-19T18:55:49.305285Z",
     "shell.execute_reply": "2025-08-19T18:55:49.304559Z"
    },
    "papermill": {
     "duration": 0.040482,
     "end_time": "2025-08-19T18:55:49.306987",
     "exception": false,
     "start_time": "2025-08-19T18:55:49.266505",
     "status": "completed"
    },
    "tags": []
   },
   "outputs": [
    {
     "data": {
      "text/html": [
       "<div>\n",
       "<style scoped>\n",
       "    .dataframe tbody tr th:only-of-type {\n",
       "        vertical-align: middle;\n",
       "    }\n",
       "\n",
       "    .dataframe tbody tr th {\n",
       "        vertical-align: top;\n",
       "    }\n",
       "\n",
       "    .dataframe thead th {\n",
       "        text-align: right;\n",
       "    }\n",
       "</style>\n",
       "<table border=\"1\" class=\"dataframe\">\n",
       "  <thead>\n",
       "    <tr style=\"text-align: right;\">\n",
       "      <th></th>\n",
       "      <th>universe_id</th>\n",
       "      <th>universe_training_year</th>\n",
       "      <th>universe_training_size</th>\n",
       "      <th>universe_scale</th>\n",
       "      <th>universe_model</th>\n",
       "      <th>universe_exclude_features</th>\n",
       "      <th>universe_exclude_subgroups</th>\n",
       "      <th>q_hat</th>\n",
       "      <th>coverage</th>\n",
       "      <th>avg_size</th>\n",
       "      <th>cov_frau1</th>\n",
       "      <th>cov_nongerman</th>\n",
       "      <th>cov_nongerman_male</th>\n",
       "      <th>cov_nongerman_female</th>\n",
       "    </tr>\n",
       "  </thead>\n",
       "  <tbody>\n",
       "    <tr>\n",
       "      <th>0</th>\n",
       "      <td>c6abdb9abf526251784da5467a095f59</td>\n",
       "      <td>2014</td>\n",
       "      <td>1k</td>\n",
       "      <td>do-not-scale</td>\n",
       "      <td>gbm</td>\n",
       "      <td>age</td>\n",
       "      <td>keep-all</td>\n",
       "      <td>0.741602</td>\n",
       "      <td>0.909531</td>\n",
       "      <td>1.158656</td>\n",
       "      <td>0.90616</td>\n",
       "      <td>0.904957</td>\n",
       "      <td>0.923264</td>\n",
       "      <td>0.874665</td>\n",
       "    </tr>\n",
       "  </tbody>\n",
       "</table>\n",
       "</div>"
      ],
      "text/plain": [
       "                        universe_id universe_training_year  \\\n",
       "0  c6abdb9abf526251784da5467a095f59                   2014   \n",
       "\n",
       "  universe_training_size universe_scale universe_model  \\\n",
       "0                     1k   do-not-scale            gbm   \n",
       "\n",
       "  universe_exclude_features universe_exclude_subgroups     q_hat  coverage  \\\n",
       "0                       age                   keep-all  0.741602  0.909531   \n",
       "\n",
       "   avg_size  cov_frau1  cov_nongerman  cov_nongerman_male  \\\n",
       "0  1.158656    0.90616       0.904957            0.923264   \n",
       "\n",
       "   cov_nongerman_female  \n",
       "0              0.874665  "
      ]
     },
     "execution_count": 56,
     "metadata": {},
     "output_type": "execute_result"
    }
   ],
   "source": [
    "cp_metrics_df"
   ]
  },
  {
   "cell_type": "markdown",
   "id": "3fc519cc",
   "metadata": {
    "papermill": {
     "duration": 0.013035,
     "end_time": "2025-08-19T18:55:49.339472",
     "exception": false,
     "start_time": "2025-08-19T18:55:49.326437",
     "status": "completed"
    },
    "tags": []
   },
   "source": [
    "# (Fairness) Metrics"
   ]
  },
  {
   "cell_type": "code",
   "execution_count": 57,
   "id": "a2e5e155",
   "metadata": {
    "execution": {
     "iopub.execute_input": "2025-08-19T18:55:49.366388Z",
     "iopub.status.busy": "2025-08-19T18:55:49.365360Z",
     "iopub.status.idle": "2025-08-19T18:55:49.395328Z",
     "shell.execute_reply": "2025-08-19T18:55:49.394581Z"
    },
    "papermill": {
     "duration": 0.046442,
     "end_time": "2025-08-19T18:55:49.398014",
     "exception": false,
     "start_time": "2025-08-19T18:55:49.351572",
     "status": "completed"
    },
    "tags": []
   },
   "outputs": [],
   "source": [
    "colname_to_bin = \"maxdeutsch1\"\n",
    "majority_value = org_train[colname_to_bin].mode()[0]\n",
    "\n",
    "org_test[\"majmin\"] = np.where(org_test[colname_to_bin] == majority_value, \"majority\", \"minority\")"
   ]
  },
  {
   "cell_type": "code",
   "execution_count": 58,
   "id": "17e3e4d5",
   "metadata": {
    "execution": {
     "iopub.execute_input": "2025-08-19T18:55:49.456723Z",
     "iopub.status.busy": "2025-08-19T18:55:49.455232Z",
     "iopub.status.idle": "2025-08-19T18:55:51.152169Z",
     "shell.execute_reply": "2025-08-19T18:55:51.149174Z"
    },
    "papermill": {
     "duration": 1.728841,
     "end_time": "2025-08-19T18:55:51.154618",
     "exception": false,
     "start_time": "2025-08-19T18:55:49.425777",
     "status": "completed"
    },
    "tags": []
   },
   "outputs": [],
   "source": [
    "example_universe = universe.copy()\n",
    "example_universe[\"cutoff\"] = example_universe[\"cutoff\"][0]\n",
    "example_universe[\"eval_fairness_grouping\"] = example_universe[\"eval_fairness_grouping\"][0]\n",
    "fairness_dict, metric_frame = universe_analysis.compute_metrics(\n",
    "    example_universe,\n",
    "    y_pred_prob=probs_test,\n",
    "    y_test=y_true,\n",
    "    org_test=org_test,\n",
    ")"
   ]
  },
  {
   "cell_type": "markdown",
   "id": "1fb7a0e9",
   "metadata": {
    "papermill": {
     "duration": 0.012192,
     "end_time": "2025-08-19T18:55:51.179952",
     "exception": false,
     "start_time": "2025-08-19T18:55:51.167760",
     "status": "completed"
    },
    "tags": []
   },
   "source": [
    "# Overall"
   ]
  },
  {
   "cell_type": "markdown",
   "id": "be1784b1",
   "metadata": {
    "papermill": {
     "duration": 0.01219,
     "end_time": "2025-08-19T18:55:51.204291",
     "exception": false,
     "start_time": "2025-08-19T18:55:51.192101",
     "status": "completed"
    },
    "tags": []
   },
   "source": [
    "Main fairness target: Equalized Odds. Seems to be a better fit than equal opportunity, since we're not only interested in Y = 1. Seems to be a better fit than demographic parity, since we also care about accuracy, not just equal distribution of preds.\n",
    "\n",
    "Pick column for computation of fairness metrics\n",
    "\n",
    "Performance\n",
    "Overall performance measures, most interesting in relation to the measures split by group below"
   ]
  },
  {
   "cell_type": "code",
   "execution_count": 59,
   "id": "b7672bee",
   "metadata": {
    "execution": {
     "iopub.execute_input": "2025-08-19T18:55:51.232973Z",
     "iopub.status.busy": "2025-08-19T18:55:51.231406Z",
     "iopub.status.idle": "2025-08-19T18:55:51.250353Z",
     "shell.execute_reply": "2025-08-19T18:55:51.249090Z"
    },
    "papermill": {
     "duration": 0.035705,
     "end_time": "2025-08-19T18:55:51.252040",
     "exception": false,
     "start_time": "2025-08-19T18:55:51.216335",
     "status": "completed"
    },
    "tags": []
   },
   "outputs": [
    {
     "data": {
      "text/plain": [
       "accuracy                   0.220845\n",
       "balanced accuracy          0.540754\n",
       "f1                         0.242282\n",
       "precision                  0.138407\n",
       "false positive rate        0.889555\n",
       "false negative rate        0.028936\n",
       "selection rate             0.900011\n",
       "count                  89710.000000\n",
       "dtype: float64"
      ]
     },
     "execution_count": 59,
     "metadata": {},
     "output_type": "execute_result"
    }
   ],
   "source": [
    "metric_frame.overall"
   ]
  },
  {
   "cell_type": "markdown",
   "id": "d93333c9",
   "metadata": {
    "papermill": {
     "duration": 0.012745,
     "end_time": "2025-08-19T18:55:51.284286",
     "exception": false,
     "start_time": "2025-08-19T18:55:51.271541",
     "status": "completed"
    },
    "tags": []
   },
   "source": [
    "By Group"
   ]
  },
  {
   "cell_type": "code",
   "execution_count": 60,
   "id": "52256966",
   "metadata": {
    "execution": {
     "iopub.execute_input": "2025-08-19T18:55:51.312379Z",
     "iopub.status.busy": "2025-08-19T18:55:51.310978Z",
     "iopub.status.idle": "2025-08-19T18:55:51.363755Z",
     "shell.execute_reply": "2025-08-19T18:55:51.361826Z"
    },
    "papermill": {
     "duration": 0.070129,
     "end_time": "2025-08-19T18:55:51.366723",
     "exception": false,
     "start_time": "2025-08-19T18:55:51.296594",
     "status": "completed"
    },
    "tags": []
   },
   "outputs": [
    {
     "data": {
      "text/html": [
       "<div>\n",
       "<style scoped>\n",
       "    .dataframe tbody tr th:only-of-type {\n",
       "        vertical-align: middle;\n",
       "    }\n",
       "\n",
       "    .dataframe tbody tr th {\n",
       "        vertical-align: top;\n",
       "    }\n",
       "\n",
       "    .dataframe thead th {\n",
       "        text-align: right;\n",
       "    }\n",
       "</style>\n",
       "<table border=\"1\" class=\"dataframe\">\n",
       "  <thead>\n",
       "    <tr style=\"text-align: right;\">\n",
       "      <th></th>\n",
       "      <th>accuracy</th>\n",
       "      <th>balanced accuracy</th>\n",
       "      <th>f1</th>\n",
       "      <th>precision</th>\n",
       "      <th>false positive rate</th>\n",
       "      <th>false negative rate</th>\n",
       "      <th>selection rate</th>\n",
       "      <th>count</th>\n",
       "    </tr>\n",
       "    <tr>\n",
       "      <th>majmin</th>\n",
       "      <th></th>\n",
       "      <th></th>\n",
       "      <th></th>\n",
       "      <th></th>\n",
       "      <th></th>\n",
       "      <th></th>\n",
       "      <th></th>\n",
       "      <th></th>\n",
       "    </tr>\n",
       "  </thead>\n",
       "  <tbody>\n",
       "    <tr>\n",
       "      <th>majority</th>\n",
       "      <td>0.238774</td>\n",
       "      <td>0.547987</td>\n",
       "      <td>0.251585</td>\n",
       "      <td>0.144575</td>\n",
       "      <td>0.872297</td>\n",
       "      <td>0.031729</td>\n",
       "      <td>0.884979</td>\n",
       "      <td>69170.0</td>\n",
       "    </tr>\n",
       "    <tr>\n",
       "      <th>minority</th>\n",
       "      <td>0.160467</td>\n",
       "      <td>0.517638</td>\n",
       "      <td>0.212387</td>\n",
       "      <td>0.119072</td>\n",
       "      <td>0.946566</td>\n",
       "      <td>0.018159</td>\n",
       "      <td>0.950633</td>\n",
       "      <td>20540.0</td>\n",
       "    </tr>\n",
       "  </tbody>\n",
       "</table>\n",
       "</div>"
      ],
      "text/plain": [
       "          accuracy  balanced accuracy        f1  precision  \\\n",
       "majmin                                                       \n",
       "majority  0.238774           0.547987  0.251585   0.144575   \n",
       "minority  0.160467           0.517638  0.212387   0.119072   \n",
       "\n",
       "          false positive rate  false negative rate  selection rate    count  \n",
       "majmin                                                                       \n",
       "majority             0.872297             0.031729        0.884979  69170.0  \n",
       "minority             0.946566             0.018159        0.950633  20540.0  "
      ]
     },
     "execution_count": 60,
     "metadata": {},
     "output_type": "execute_result"
    }
   ],
   "source": [
    "metric_frame.by_group"
   ]
  },
  {
   "cell_type": "code",
   "execution_count": 61,
   "id": "6e6c20ae",
   "metadata": {
    "execution": {
     "iopub.execute_input": "2025-08-19T18:55:51.410909Z",
     "iopub.status.busy": "2025-08-19T18:55:51.409183Z",
     "iopub.status.idle": "2025-08-19T18:55:53.553303Z",
     "shell.execute_reply": "2025-08-19T18:55:53.551977Z"
    },
    "papermill": {
     "duration": 2.161956,
     "end_time": "2025-08-19T18:55:53.554418",
     "exception": false,
     "start_time": "2025-08-19T18:55:51.392462",
     "status": "completed"
    },
    "tags": []
   },
   "outputs": [
    {
     "data": {
      "text/plain": [
       "array([[<Axes: title={'center': 'accuracy'}, xlabel='majmin'>,\n",
       "        <Axes: title={'center': 'balanced accuracy'}, xlabel='majmin'>,\n",
       "        <Axes: title={'center': 'f1'}, xlabel='majmin'>],\n",
       "       [<Axes: title={'center': 'precision'}, xlabel='majmin'>,\n",
       "        <Axes: title={'center': 'false positive rate'}, xlabel='majmin'>,\n",
       "        <Axes: title={'center': 'false negative rate'}, xlabel='majmin'>],\n",
       "       [<Axes: title={'center': 'selection rate'}, xlabel='majmin'>,\n",
       "        <Axes: title={'center': 'count'}, xlabel='majmin'>,\n",
       "        <Axes: xlabel='majmin'>]], dtype=object)"
      ]
     },
     "execution_count": 61,
     "metadata": {},
     "output_type": "execute_result"
    },
    {
     "data": {
      "image/png": "[encoded data removed]",
      "text/plain": [
       "<Figure size 1200x800 with 9 Axes>"
      ]
     },
     "metadata": {},
     "output_type": "display_data"
    }
   ],
   "source": [
    "# In a graphic\n",
    "metric_frame.by_group.plot.bar(\n",
    "    subplots=True,\n",
    "    layout=[3, 3],\n",
    "    legend=False,\n",
    "    figsize=[12, 8],\n",
    "    title=\"Show all metrics\",\n",
    ")"
   ]
  },
  {
   "cell_type": "markdown",
   "id": "b2e433ae",
   "metadata": {
    "papermill": {
     "duration": 0.014183,
     "end_time": "2025-08-19T18:55:53.585345",
     "exception": false,
     "start_time": "2025-08-19T18:55:53.571162",
     "status": "completed"
    },
    "tags": []
   },
   "source": [
    "# Final Output"
   ]
  },
  {
   "cell_type": "code",
   "execution_count": 62,
   "id": "3871301e",
   "metadata": {
    "execution": {
     "iopub.execute_input": "2025-08-19T18:55:53.618564Z",
     "iopub.status.busy": "2025-08-19T18:55:53.615767Z",
     "iopub.status.idle": "2025-08-19T18:55:53.644165Z",
     "shell.execute_reply": "2025-08-19T18:55:53.643258Z"
    },
    "papermill": {
     "duration": 0.046915,
     "end_time": "2025-08-19T18:55:53.646164",
     "exception": false,
     "start_time": "2025-08-19T18:55:53.599249",
     "status": "completed"
    },
    "tags": []
   },
   "outputs": [
    {
     "data": {
      "text/plain": [
       "4"
      ]
     },
     "execution_count": 62,
     "metadata": {},
     "output_type": "execute_result"
    }
   ],
   "source": [
    "sub_universes = universe_analysis.generate_sub_universes()\n",
    "len(sub_universes)"
   ]
  },
  {
   "cell_type": "code",
   "execution_count": 63,
   "id": "d9cfdaca",
   "metadata": {
    "execution": {
     "iopub.execute_input": "2025-08-19T18:55:53.691646Z",
     "iopub.status.busy": "2025-08-19T18:55:53.690745Z",
     "iopub.status.idle": "2025-08-19T18:55:53.702347Z",
     "shell.execute_reply": "2025-08-19T18:55:53.701449Z"
    },
    "papermill": {
     "duration": 0.031433,
     "end_time": "2025-08-19T18:55:53.705584",
     "exception": false,
     "start_time": "2025-08-19T18:55:53.674151",
     "status": "completed"
    },
    "tags": []
   },
   "outputs": [],
   "source": [
    "def filter_sub_universe_data(sub_universe, org_test):\n",
    "    # Keep all rows — no filtering\n",
    "    keep_rows_mask = np.ones(org_test.shape[0], dtype=bool)\n",
    "\n",
    "    print(f\"[INFO] Keeping all rows: {keep_rows_mask.sum()} rows retained.\")\n",
    "    return keep_rows_mask"
   ]
  },
  {
   "cell_type": "code",
   "execution_count": 64,
   "id": "2bc31ac1",
   "metadata": {
    "execution": {
     "iopub.execute_input": "2025-08-19T18:55:53.750616Z",
     "iopub.status.busy": "2025-08-19T18:55:53.749674Z",
     "iopub.status.idle": "2025-08-19T18:56:00.647218Z",
     "shell.execute_reply": "2025-08-19T18:56:00.645978Z"
    },
    "papermill": {
     "duration": 6.915666,
     "end_time": "2025-08-19T18:56:00.648591",
     "exception": false,
     "start_time": "2025-08-19T18:55:53.732925",
     "status": "completed"
    },
    "tags": []
   },
   "outputs": [
    {
     "name": "stdout",
     "output_type": "stream",
     "text": [
      "Stopping execution_time clock.\n",
      "[INFO] Keeping all rows: 89710 rows retained.\n"
     ]
    },
    {
     "name": "stdout",
     "output_type": "stream",
     "text": [
      "[INFO] Keeping all rows: 89710 rows retained.\n"
     ]
    },
    {
     "name": "stdout",
     "output_type": "stream",
     "text": [
      "[INFO] Keeping all rows: 89710 rows retained.\n"
     ]
    },
    {
     "name": "stdout",
     "output_type": "stream",
     "text": [
      "[INFO] Keeping all rows: 89710 rows retained.\n"
     ]
    },
    {
     "data": {
      "text/html": [
       "<div>\n",
       "<style scoped>\n",
       "    .dataframe tbody tr th:only-of-type {\n",
       "        vertical-align: middle;\n",
       "    }\n",
       "\n",
       "    .dataframe tbody tr th {\n",
       "        vertical-align: top;\n",
       "    }\n",
       "\n",
       "    .dataframe thead th {\n",
       "        text-align: right;\n",
       "    }\n",
       "</style>\n",
       "<table border=\"1\" class=\"dataframe\">\n",
       "  <thead>\n",
       "    <tr style=\"text-align: right;\">\n",
       "      <th></th>\n",
       "      <th>run_no</th>\n",
       "      <th>universe_id</th>\n",
       "      <th>universe_settings</th>\n",
       "      <th>execution_time</th>\n",
       "      <th>test_size_n</th>\n",
       "      <th>test_size_frac</th>\n",
       "      <th>fair_main_equalized_odds_difference</th>\n",
       "      <th>fair_main_equalized_odds_ratio</th>\n",
       "      <th>fair_main_demographic_parity_difference</th>\n",
       "      <th>fair_main_demographic_parity_ratio</th>\n",
       "      <th>...</th>\n",
       "      <th>perf_grp_precision_0</th>\n",
       "      <th>perf_grp_precision_1</th>\n",
       "      <th>perf_grp_false positive rate_0</th>\n",
       "      <th>perf_grp_false positive rate_1</th>\n",
       "      <th>perf_grp_false negative rate_0</th>\n",
       "      <th>perf_grp_false negative rate_1</th>\n",
       "      <th>perf_grp_selection rate_0</th>\n",
       "      <th>perf_grp_selection rate_1</th>\n",
       "      <th>perf_grp_count_0</th>\n",
       "      <th>perf_grp_count_1</th>\n",
       "    </tr>\n",
       "  </thead>\n",
       "  <tbody>\n",
       "    <tr>\n",
       "      <th>0</th>\n",
       "      <td>3</td>\n",
       "      <td>c6abdb9abf526251784da5467a095f59</td>\n",
       "      <td>{\"cutoff\": \"quantile_0.1\", \"eval_fairness_grou...</td>\n",
       "      <td>22.861476</td>\n",
       "      <td>89710</td>\n",
       "      <td>1.0</td>\n",
       "      <td>0.074269</td>\n",
       "      <td>0.921539</td>\n",
       "      <td>0.065654</td>\n",
       "      <td>0.930937</td>\n",
       "      <td>...</td>\n",
       "      <td>NaN</td>\n",
       "      <td>NaN</td>\n",
       "      <td>NaN</td>\n",
       "      <td>NaN</td>\n",
       "      <td>NaN</td>\n",
       "      <td>NaN</td>\n",
       "      <td>NaN</td>\n",
       "      <td>NaN</td>\n",
       "      <td>NaN</td>\n",
       "      <td>NaN</td>\n",
       "    </tr>\n",
       "    <tr>\n",
       "      <th>0</th>\n",
       "      <td>3</td>\n",
       "      <td>c6abdb9abf526251784da5467a095f59</td>\n",
       "      <td>{\"cutoff\": \"quantile_0.1\", \"eval_fairness_grou...</td>\n",
       "      <td>22.861476</td>\n",
       "      <td>89710</td>\n",
       "      <td>1.0</td>\n",
       "      <td>0.074269</td>\n",
       "      <td>0.921539</td>\n",
       "      <td>0.065654</td>\n",
       "      <td>0.930937</td>\n",
       "      <td>...</td>\n",
       "      <td>0.119072</td>\n",
       "      <td>0.144575</td>\n",
       "      <td>0.946566</td>\n",
       "      <td>0.872297</td>\n",
       "      <td>0.018159</td>\n",
       "      <td>0.031729</td>\n",
       "      <td>0.950633</td>\n",
       "      <td>0.884979</td>\n",
       "      <td>20540.0</td>\n",
       "      <td>69170.0</td>\n",
       "    </tr>\n",
       "    <tr>\n",
       "      <th>0</th>\n",
       "      <td>3</td>\n",
       "      <td>c6abdb9abf526251784da5467a095f59</td>\n",
       "      <td>{\"cutoff\": \"quantile_0.25\", \"eval_fairness_gro...</td>\n",
       "      <td>22.861476</td>\n",
       "      <td>89710</td>\n",
       "      <td>1.0</td>\n",
       "      <td>0.166892</td>\n",
       "      <td>0.804766</td>\n",
       "      <td>0.148631</td>\n",
       "      <td>0.828094</td>\n",
       "      <td>...</td>\n",
       "      <td>NaN</td>\n",
       "      <td>NaN</td>\n",
       "      <td>NaN</td>\n",
       "      <td>NaN</td>\n",
       "      <td>NaN</td>\n",
       "      <td>NaN</td>\n",
       "      <td>NaN</td>\n",
       "      <td>NaN</td>\n",
       "      <td>NaN</td>\n",
       "      <td>NaN</td>\n",
       "    </tr>\n",
       "    <tr>\n",
       "      <th>0</th>\n",
       "      <td>3</td>\n",
       "      <td>c6abdb9abf526251784da5467a095f59</td>\n",
       "      <td>{\"cutoff\": \"quantile_0.25\", \"eval_fairness_gro...</td>\n",
       "      <td>22.861476</td>\n",
       "      <td>89710</td>\n",
       "      <td>1.0</td>\n",
       "      <td>0.166892</td>\n",
       "      <td>0.804766</td>\n",
       "      <td>0.148631</td>\n",
       "      <td>0.828094</td>\n",
       "      <td>...</td>\n",
       "      <td>0.125289</td>\n",
       "      <td>0.166121</td>\n",
       "      <td>0.854832</td>\n",
       "      <td>0.687939</td>\n",
       "      <td>0.060389</td>\n",
       "      <td>0.099891</td>\n",
       "      <td>0.864606</td>\n",
       "      <td>0.715975</td>\n",
       "      <td>20540.0</td>\n",
       "      <td>69170.0</td>\n",
       "    </tr>\n",
       "  </tbody>\n",
       "</table>\n",
       "<p>4 rows × 50 columns</p>\n",
       "</div>"
      ],
      "text/plain": [
       "  run_no                       universe_id  \\\n",
       "0      3  c6abdb9abf526251784da5467a095f59   \n",
       "0      3  c6abdb9abf526251784da5467a095f59   \n",
       "0      3  c6abdb9abf526251784da5467a095f59   \n",
       "0      3  c6abdb9abf526251784da5467a095f59   \n",
       "\n",
       "                                   universe_settings  execution_time  \\\n",
       "0  {\"cutoff\": \"quantile_0.1\", \"eval_fairness_grou...       22.861476   \n",
       "0  {\"cutoff\": \"quantile_0.1\", \"eval_fairness_grou...       22.861476   \n",
       "0  {\"cutoff\": \"quantile_0.25\", \"eval_fairness_gro...       22.861476   \n",
       "0  {\"cutoff\": \"quantile_0.25\", \"eval_fairness_gro...       22.861476   \n",
       "\n",
       "   test_size_n  test_size_frac  fair_main_equalized_odds_difference  \\\n",
       "0        89710             1.0                             0.074269   \n",
       "0        89710             1.0                             0.074269   \n",
       "0        89710             1.0                             0.166892   \n",
       "0        89710             1.0                             0.166892   \n",
       "\n",
       "   fair_main_equalized_odds_ratio  fair_main_demographic_parity_difference  \\\n",
       "0                        0.921539                                 0.065654   \n",
       "0                        0.921539                                 0.065654   \n",
       "0                        0.804766                                 0.148631   \n",
       "0                        0.804766                                 0.148631   \n",
       "\n",
       "   fair_main_demographic_parity_ratio  ...  perf_grp_precision_0  \\\n",
       "0                            0.930937  ...                   NaN   \n",
       "0                            0.930937  ...              0.119072   \n",
       "0                            0.828094  ...                   NaN   \n",
       "0                            0.828094  ...              0.125289   \n",
       "\n",
       "   perf_grp_precision_1  perf_grp_false positive rate_0  \\\n",
       "0                   NaN                             NaN   \n",
       "0              0.144575                        0.946566   \n",
       "0                   NaN                             NaN   \n",
       "0              0.166121                        0.854832   \n",
       "\n",
       "   perf_grp_false positive rate_1  perf_grp_false negative rate_0  \\\n",
       "0                             NaN                             NaN   \n",
       "0                        0.872297                        0.018159   \n",
       "0                             NaN                             NaN   \n",
       "0                        0.687939                        0.060389   \n",
       "\n",
       "   perf_grp_false negative rate_1  perf_grp_selection rate_0  \\\n",
       "0                             NaN                        NaN   \n",
       "0                        0.031729                   0.950633   \n",
       "0                             NaN                        NaN   \n",
       "0                        0.099891                   0.864606   \n",
       "\n",
       "   perf_grp_selection rate_1  perf_grp_count_0  perf_grp_count_1  \n",
       "0                        NaN               NaN               NaN  \n",
       "0                   0.884979           20540.0           69170.0  \n",
       "0                        NaN               NaN               NaN  \n",
       "0                   0.715975           20540.0           69170.0  \n",
       "\n",
       "[4 rows x 50 columns]"
      ]
     },
     "execution_count": 64,
     "metadata": {},
     "output_type": "execute_result"
    }
   ],
   "source": [
    "final_output = universe_analysis.generate_final_output(\n",
    "    y_pred_prob=probs_test,\n",
    "    y_test=y_true,\n",
    "    org_test=org_test,\n",
    "    filter_data=filter_sub_universe_data,\n",
    "    cp_metrics_df=cp_metrics_df,\n",
    "    save=True,\n",
    ")\n",
    "final_output"
   ]
  },
  {
   "cell_type": "code",
   "execution_count": null,
   "id": "8b80a1ff",
   "metadata": {
    "papermill": {
     "duration": 0.022305,
     "end_time": "2025-08-19T18:56:00.693838",
     "exception": false,
     "start_time": "2025-08-19T18:56:00.671533",
     "status": "completed"
    },
    "tags": []
   },
   "outputs": [],
   "source": []
  },
  {
   "cell_type": "code",
   "execution_count": null,
   "id": "275c9fad",
   "metadata": {
    "papermill": {
     "duration": 0.014331,
     "end_time": "2025-08-19T18:56:00.722543",
     "exception": false,
     "start_time": "2025-08-19T18:56:00.708212",
     "status": "completed"
    },
    "tags": []
   },
   "outputs": [],
   "source": []
  }
 ],
 "metadata": {
  "celltoolbar": "Tags",
  "kernelspec": {
   "display_name": "Python (CMA Fairness)",
   "language": "python",
   "name": "cma_fair_env"
  },
  "language_info": {
   "codemirror_mode": {
    "name": "ipython",
    "version": 3
   },
   "file_extension": ".py",
   "mimetype": "text/x-python",
   "name": "python",
   "nbconvert_exporter": "python",
   "pygments_lexer": "ipython3",
   "version": "3.10.12"
  },
  "papermill": {
   "default_parameters": {},
   "duration": 33.840568,
   "end_time": "2025-08-19T18:56:01.558492",
   "environment_variables": {},
   "exception": null,
   "input_path": "universe_analysis.ipynb",
   "output_path": "output/runs/3/notebooks/m_3-c6abdb9abf526251784da5467a095f59.ipynb",
   "parameters": {
    "output_dir": "output",
    "run_no": "3",
    "seed": "2023",
    "universe": "{\"cutoff\": [\"quantile_0.1\", \"quantile_0.25\"], \"eval_fairness_grouping\": [\"majority-minority\", \"nationality-all\"], \"exclude_features\": \"age\", \"exclude_subgroups\": \"keep-all\", \"model\": \"gbm\", \"scale\": \"do-not-scale\", \"training_size\": \"1k\", \"training_year\": \"2014\"}",
    "universe_id": "c6abdb9abf526251784da5467a095f59"
   },
   "start_time": "2025-08-19T18:55:27.717924",
   "version": "2.6.0"
  }
 },
 "nbformat": 4,
 "nbformat_minor": 5
}