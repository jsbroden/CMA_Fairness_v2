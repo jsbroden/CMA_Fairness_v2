{
 "cells": [
  {
   "cell_type": "markdown",
   "id": "ef23dbb3",
   "metadata": {
    "papermill": {
     "duration": 0.010806,
     "end_time": "2025-08-19T18:59:01.464649",
     "exception": false,
     "start_time": "2025-08-19T18:59:01.453843",
     "status": "completed"
    },
    "tags": []
   },
   "source": [
    "# Setup"
   ]
  },
  {
   "cell_type": "code",
   "execution_count": 1,
   "id": "0bc8e7dc",
   "metadata": {
    "execution": {
     "iopub.execute_input": "2025-08-19T18:59:01.485126Z",
     "iopub.status.busy": "2025-08-19T18:59:01.484647Z",
     "iopub.status.idle": "2025-08-19T18:59:01.496353Z",
     "shell.execute_reply": "2025-08-19T18:59:01.495359Z"
    },
    "papermill": {
     "duration": 0.023133,
     "end_time": "2025-08-19T18:59:01.497944",
     "exception": false,
     "start_time": "2025-08-19T18:59:01.474811",
     "status": "completed"
    },
    "tags": []
   },
   "outputs": [
    {
     "name": "stdout",
     "output_type": "stream",
     "text": [
      "/dss/dsshome1/0C/ra93lal2/cma/CMA_Fairness_v2\n"
     ]
    },
    {
     "name": "stderr",
     "output_type": "stream",
     "text": [
      "/dss/dsshome1/0C/ra93lal2/.local/share/virtualenvs/CMA_Fairness_v2-3j10GkSs/lib/python3.10/site-packages/IPython/core/magics/osm.py:393: UserWarning: This is now an optional IPython functionality, using bookmarks requires you to install the `pickleshare` library.\n",
      "  bkms = self.shell.db.get('bookmarks', {})\n",
      "/dss/dsshome1/0C/ra93lal2/.local/share/virtualenvs/CMA_Fairness_v2-3j10GkSs/lib/python3.10/site-packages/IPython/core/magics/osm.py:417: UserWarning: This is now an optional IPython functionality, setting dhist requires you to install the `pickleshare` library.\n",
      "  self.shell.db['dhist'] = compress_dhist(dhist)[-100:]\n"
     ]
    }
   ],
   "source": [
    "%cd ~/cma/CMA_Fairness_v2"
   ]
  },
  {
   "cell_type": "markdown",
   "id": "9d235661",
   "metadata": {
    "papermill": {
     "duration": 0.009731,
     "end_time": "2025-08-19T18:59:01.522170",
     "exception": false,
     "start_time": "2025-08-19T18:59:01.512439",
     "status": "completed"
    },
    "tags": []
   },
   "source": [
    "The following cell holds the definition of our parameters, these values can be overriden by rendering the with e.g. the following command:\n",
    "\n",
    "papermill -p alpha 0.2 -p ratio 0.3 universe_analysis.ipynb output/test_run.ipynb"
   ]
  },
  {
   "cell_type": "code",
   "execution_count": 2,
   "id": "4a789d8e",
   "metadata": {
    "execution": {
     "iopub.execute_input": "2025-08-19T18:59:01.543456Z",
     "iopub.status.busy": "2025-08-19T18:59:01.542073Z",
     "iopub.status.idle": "2025-08-19T18:59:01.551376Z",
     "shell.execute_reply": "2025-08-19T18:59:01.549651Z"
    },
    "papermill": {
     "duration": 0.022463,
     "end_time": "2025-08-19T18:59:01.553491",
     "exception": false,
     "start_time": "2025-08-19T18:59:01.531028",
     "status": "completed"
    },
    "tags": []
   },
   "outputs": [
    {
     "name": "stdout",
     "output_type": "stream",
     "text": [
      "Current working directory: /dss/dsshome1/0C/ra93lal2/cma/CMA_Fairness_v2\n"
     ]
    }
   ],
   "source": [
    "import os\n",
    "print(\"Current working directory:\", os.getcwd())"
   ]
  },
  {
   "cell_type": "code",
   "execution_count": 3,
   "id": "4132aaed",
   "metadata": {
    "execution": {
     "iopub.execute_input": "2025-08-19T18:59:01.576620Z",
     "iopub.status.busy": "2025-08-19T18:59:01.575596Z",
     "iopub.status.idle": "2025-08-19T18:59:01.582989Z",
     "shell.execute_reply": "2025-08-19T18:59:01.581990Z"
    },
    "papermill": {
     "duration": 0.019773,
     "end_time": "2025-08-19T18:59:01.584783",
     "exception": false,
     "start_time": "2025-08-19T18:59:01.565010",
     "status": "completed"
    },
    "tags": [
     "parameters"
    ]
   },
   "outputs": [],
   "source": [
    "run_no = 0\n",
    "universe_id = \"test\"\n",
    "universe = {\n",
    "    \"training_size\": \"5k\", # \"25k\", \"5k\", \"1k\"\n",
    "    \"training_year\": \"2012_14\", # \"2014\", \"2012_14\", \"2010_14\"\n",
    "    \"scale\": \"scale\", # \"scale\", \"do-not-scale\",\n",
    "    \"model\": \"elasticnet\", # \"logreg\", \"penalized_logreg\", \"rf\", \"gbm\", \"elasticnet\"\n",
    "    \"cutoff\": [\"quantile_0.15\", \"quantile_0.30\"],\n",
    "    \"exclude_features\": \"age\", # \"none\", \"nationality\", \"sex\", \"nationality-sex\", \"age\"\n",
    "    \"exclude_subgroups\": \"drop-non-german\", # \"keep-all\", \"drop-non-german\"\n",
    "    \"eval_fairness_grouping\": [\"majority-minority\", \"nationality-all\"]\n",
    "}\n",
    "\n",
    "output_dir=\"./output\"\n",
    "seed=0"
   ]
  },
  {
   "cell_type": "code",
   "execution_count": 4,
   "id": "ba7ef385",
   "metadata": {
    "execution": {
     "iopub.execute_input": "2025-08-19T18:59:01.612326Z",
     "iopub.status.busy": "2025-08-19T18:59:01.611200Z",
     "iopub.status.idle": "2025-08-19T18:59:01.678180Z",
     "shell.execute_reply": "2025-08-19T18:59:01.676523Z"
    },
    "papermill": {
     "duration": 0.081805,
     "end_time": "2025-08-19T18:59:01.681202",
     "exception": false,
     "start_time": "2025-08-19T18:59:01.599397",
     "status": "completed"
    },
    "tags": [
     "injected-parameters"
    ]
   },
   "outputs": [],
   "source": [
    "# Parameters\n",
    "universe_id = \"fcddc6e15fac6ef4e6faa012478a032b\"\n",
    "run_no = \"3\"\n",
    "universe = \"{\\\"cutoff\\\": [\\\"quantile_0.1\\\", \\\"quantile_0.25\\\"], \\\"eval_fairness_grouping\\\": [\\\"majority-minority\\\", \\\"nationality-all\\\"], \\\"exclude_features\\\": \\\"none\\\", \\\"exclude_subgroups\\\": \\\"drop-non-german\\\", \\\"model\\\": \\\"gbm\\\", \\\"scale\\\": \\\"scale\\\", \\\"training_size\\\": \\\"1k\\\", \\\"training_year\\\": \\\"2012_14\\\"}\"\n",
    "output_dir = \"output\"\n",
    "seed = \"2023\"\n"
   ]
  },
  {
   "cell_type": "code",
   "execution_count": 5,
   "id": "a5d7941f",
   "metadata": {
    "execution": {
     "iopub.execute_input": "2025-08-19T18:59:01.719244Z",
     "iopub.status.busy": "2025-08-19T18:59:01.718765Z",
     "iopub.status.idle": "2025-08-19T18:59:01.723716Z",
     "shell.execute_reply": "2025-08-19T18:59:01.722914Z"
    },
    "papermill": {
     "duration": 0.017953,
     "end_time": "2025-08-19T18:59:01.725086",
     "exception": false,
     "start_time": "2025-08-19T18:59:01.707133",
     "status": "completed"
    },
    "tags": []
   },
   "outputs": [],
   "source": [
    "import json\n",
    "if isinstance(universe, str):\n",
    "    universe = json.loads(universe)"
   ]
  },
  {
   "cell_type": "code",
   "execution_count": 6,
   "id": "7076ccb1",
   "metadata": {
    "execution": {
     "iopub.execute_input": "2025-08-19T18:59:01.745926Z",
     "iopub.status.busy": "2025-08-19T18:59:01.745564Z",
     "iopub.status.idle": "2025-08-19T18:59:01.792711Z",
     "shell.execute_reply": "2025-08-19T18:59:01.791778Z"
    },
    "papermill": {
     "duration": 0.059465,
     "end_time": "2025-08-19T18:59:01.795155",
     "exception": false,
     "start_time": "2025-08-19T18:59:01.735690",
     "status": "completed"
    },
    "tags": []
   },
   "outputs": [],
   "source": [
    "# Auto-reload the custom package\n",
    "%load_ext autoreload\n",
    "%autoreload 1\n",
    "%aimport fairness_multiverse"
   ]
  },
  {
   "cell_type": "code",
   "execution_count": 7,
   "id": "94c8eb93",
   "metadata": {
    "execution": {
     "iopub.execute_input": "2025-08-19T18:59:01.832362Z",
     "iopub.status.busy": "2025-08-19T18:59:01.830654Z",
     "iopub.status.idle": "2025-08-19T18:59:03.449158Z",
     "shell.execute_reply": "2025-08-19T18:59:03.448150Z"
    },
    "papermill": {
     "duration": 1.634363,
     "end_time": "2025-08-19T18:59:03.451340",
     "exception": false,
     "start_time": "2025-08-19T18:59:01.816977",
     "status": "completed"
    },
    "tags": []
   },
   "outputs": [],
   "source": [
    "from fairness_multiverse.universe import UniverseAnalysis\n",
    "\n",
    "universe_analysis = UniverseAnalysis(\n",
    "    run_no = run_no,\n",
    "    universe_id = universe_id,\n",
    "    universe = universe,\n",
    "    output_dir=output_dir,\n",
    ")"
   ]
  },
  {
   "cell_type": "code",
   "execution_count": 8,
   "id": "2a6381cf",
   "metadata": {
    "execution": {
     "iopub.execute_input": "2025-08-19T18:59:03.477993Z",
     "iopub.status.busy": "2025-08-19T18:59:03.476661Z",
     "iopub.status.idle": "2025-08-19T18:59:03.485475Z",
     "shell.execute_reply": "2025-08-19T18:59:03.484396Z"
    },
    "papermill": {
     "duration": 0.020971,
     "end_time": "2025-08-19T18:59:03.486913",
     "exception": false,
     "start_time": "2025-08-19T18:59:03.465942",
     "status": "completed"
    },
    "tags": []
   },
   "outputs": [
    {
     "name": "stdout",
     "output_type": "stream",
     "text": [
      "Using Seed: 2023\n"
     ]
    }
   ],
   "source": [
    "import numpy as np\n",
    "parsed_seed = int(seed)\n",
    "np.random.seed(parsed_seed)\n",
    "print(f\"Using Seed: {parsed_seed}\")"
   ]
  },
  {
   "cell_type": "markdown",
   "id": "b6e958b4",
   "metadata": {
    "papermill": {
     "duration": 0.009252,
     "end_time": "2025-08-19T18:59:03.507952",
     "exception": false,
     "start_time": "2025-08-19T18:59:03.498700",
     "status": "completed"
    },
    "tags": []
   },
   "source": [
    "# Loading Data"
   ]
  },
  {
   "cell_type": "code",
   "execution_count": 9,
   "id": "98701482",
   "metadata": {
    "execution": {
     "iopub.execute_input": "2025-08-19T18:59:03.529051Z",
     "iopub.status.busy": "2025-08-19T18:59:03.527570Z",
     "iopub.status.idle": "2025-08-19T18:59:14.058004Z",
     "shell.execute_reply": "2025-08-19T18:59:14.056381Z"
    },
    "papermill": {
     "duration": 10.543673,
     "end_time": "2025-08-19T18:59:14.060582",
     "exception": false,
     "start_time": "2025-08-19T18:59:03.516909",
     "status": "completed"
    },
    "tags": []
   },
   "outputs": [
    {
     "name": "stdout",
     "output_type": "stream",
     "text": [
      "Loading SIAB data from cache: data/siab_cached.csv.gz\n"
     ]
    },
    {
     "name": "stdout",
     "output_type": "stream",
     "text": [
      "(643690, 164)\n"
     ]
    }
   ],
   "source": [
    "from pathlib import Path\n",
    "import pandas as pd\n",
    "\n",
    "# File paths\n",
    "raw_file = Path(\"data/raw/siab.csv\")\n",
    "cache_file = Path(\"data/siab_cached.csv.gz\")\n",
    "\n",
    "# Ensure cache directory exists\n",
    "cache_file.parent.mkdir(parents=True, exist_ok=True)\n",
    "\n",
    "# Load with simple caching\n",
    "if cache_file.exists():\n",
    "    print(f\"Loading SIAB data from cache: {cache_file}\")\n",
    "    siab = pd.read_csv(cache_file, compression='gzip')\n",
    "else:\n",
    "    print(f\"Cache not found. Reading raw SIAB data: {raw_file}\")\n",
    "    siab = pd.read_csv(raw_file)\n",
    "    siab.to_csv(cache_file, index=False, compression='gzip')\n",
    "    print(f\"Cached SIAB data to: {cache_file}\")\n",
    "\n",
    "print(siab.shape)"
   ]
  },
  {
   "cell_type": "code",
   "execution_count": 10,
   "id": "058d2abb",
   "metadata": {
    "execution": {
     "iopub.execute_input": "2025-08-19T18:59:14.086629Z",
     "iopub.status.busy": "2025-08-19T18:59:14.085798Z",
     "iopub.status.idle": "2025-08-19T18:59:14.226699Z",
     "shell.execute_reply": "2025-08-19T18:59:14.225085Z"
    },
    "papermill": {
     "duration": 0.155344,
     "end_time": "2025-08-19T18:59:14.228371",
     "exception": false,
     "start_time": "2025-08-19T18:59:14.073027",
     "status": "completed"
    },
    "tags": []
   },
   "outputs": [
    {
     "data": {
      "text/html": [
       "<div>\n",
       "<style scoped>\n",
       "    .dataframe tbody tr th:only-of-type {\n",
       "        vertical-align: middle;\n",
       "    }\n",
       "\n",
       "    .dataframe tbody tr th {\n",
       "        vertical-align: top;\n",
       "    }\n",
       "\n",
       "    .dataframe thead th {\n",
       "        text-align: right;\n",
       "    }\n",
       "</style>\n",
       "<table border=\"1\" class=\"dataframe\">\n",
       "  <thead>\n",
       "    <tr style=\"text-align: right;\">\n",
       "      <th></th>\n",
       "      <th>persnr</th>\n",
       "      <th>year</th>\n",
       "      <th>nrEntry</th>\n",
       "      <th>ltue</th>\n",
       "      <th>employed_before</th>\n",
       "      <th>receipt_leh_before</th>\n",
       "      <th>receipt_lhg_before</th>\n",
       "      <th>se_before</th>\n",
       "      <th>ASU_notue_seeking_before</th>\n",
       "      <th>ASU_other_before</th>\n",
       "      <th>...</th>\n",
       "      <th>minijob_tot_dur_byage</th>\n",
       "      <th>ft_tot_dur_byage</th>\n",
       "      <th>befrist_tot_dur_byage</th>\n",
       "      <th>leih_tot_dur_byage</th>\n",
       "      <th>LHG_tot_dur_byage</th>\n",
       "      <th>LEH_tot_dur_byage</th>\n",
       "      <th>almp_tot_dur_byage</th>\n",
       "      <th>almp_aw_tot_dur_byage</th>\n",
       "      <th>se_tot_dur_byage</th>\n",
       "      <th>seeking1_tot_dur_byage</th>\n",
       "    </tr>\n",
       "  </thead>\n",
       "  <tbody>\n",
       "    <tr>\n",
       "      <th>0</th>\n",
       "      <td>7</td>\n",
       "      <td>2015</td>\n",
       "      <td>1</td>\n",
       "      <td>0</td>\n",
       "      <td>1</td>\n",
       "      <td>0</td>\n",
       "      <td>0</td>\n",
       "      <td>0</td>\n",
       "      <td>1</td>\n",
       "      <td>0</td>\n",
       "      <td>...</td>\n",
       "      <td>0.000000</td>\n",
       "      <td>0.000000</td>\n",
       "      <td>15.043478</td>\n",
       "      <td>0.000000</td>\n",
       "      <td>0.000000</td>\n",
       "      <td>0.000000</td>\n",
       "      <td>0.000000</td>\n",
       "      <td>0.000000</td>\n",
       "      <td>0.000000</td>\n",
       "      <td>0.000000</td>\n",
       "    </tr>\n",
       "    <tr>\n",
       "      <th>1</th>\n",
       "      <td>18</td>\n",
       "      <td>2010</td>\n",
       "      <td>1</td>\n",
       "      <td>1</td>\n",
       "      <td>0</td>\n",
       "      <td>0</td>\n",
       "      <td>0</td>\n",
       "      <td>0</td>\n",
       "      <td>0</td>\n",
       "      <td>0</td>\n",
       "      <td>...</td>\n",
       "      <td>0.000000</td>\n",
       "      <td>0.000000</td>\n",
       "      <td>0.000000</td>\n",
       "      <td>0.000000</td>\n",
       "      <td>0.000000</td>\n",
       "      <td>0.000000</td>\n",
       "      <td>0.000000</td>\n",
       "      <td>0.000000</td>\n",
       "      <td>0.000000</td>\n",
       "      <td>0.000000</td>\n",
       "    </tr>\n",
       "    <tr>\n",
       "      <th>2</th>\n",
       "      <td>18</td>\n",
       "      <td>2011</td>\n",
       "      <td>2</td>\n",
       "      <td>0</td>\n",
       "      <td>1</td>\n",
       "      <td>0</td>\n",
       "      <td>1</td>\n",
       "      <td>0</td>\n",
       "      <td>1</td>\n",
       "      <td>0</td>\n",
       "      <td>...</td>\n",
       "      <td>2.714286</td>\n",
       "      <td>2.714286</td>\n",
       "      <td>0.000000</td>\n",
       "      <td>0.000000</td>\n",
       "      <td>10.775510</td>\n",
       "      <td>0.000000</td>\n",
       "      <td>8.367347</td>\n",
       "      <td>0.000000</td>\n",
       "      <td>0.000000</td>\n",
       "      <td>9.836735</td>\n",
       "    </tr>\n",
       "    <tr>\n",
       "      <th>3</th>\n",
       "      <td>18</td>\n",
       "      <td>2012</td>\n",
       "      <td>3</td>\n",
       "      <td>0</td>\n",
       "      <td>1</td>\n",
       "      <td>0</td>\n",
       "      <td>1</td>\n",
       "      <td>0</td>\n",
       "      <td>1</td>\n",
       "      <td>0</td>\n",
       "      <td>...</td>\n",
       "      <td>4.200000</td>\n",
       "      <td>4.200000</td>\n",
       "      <td>0.000000</td>\n",
       "      <td>0.000000</td>\n",
       "      <td>12.100000</td>\n",
       "      <td>0.000000</td>\n",
       "      <td>9.400000</td>\n",
       "      <td>0.000000</td>\n",
       "      <td>0.000000</td>\n",
       "      <td>9.960000</td>\n",
       "    </tr>\n",
       "    <tr>\n",
       "      <th>4</th>\n",
       "      <td>18</td>\n",
       "      <td>2012</td>\n",
       "      <td>4</td>\n",
       "      <td>0</td>\n",
       "      <td>1</td>\n",
       "      <td>0</td>\n",
       "      <td>1</td>\n",
       "      <td>0</td>\n",
       "      <td>1</td>\n",
       "      <td>0</td>\n",
       "      <td>...</td>\n",
       "      <td>5.460000</td>\n",
       "      <td>5.460000</td>\n",
       "      <td>0.000000</td>\n",
       "      <td>0.000000</td>\n",
       "      <td>13.360000</td>\n",
       "      <td>0.000000</td>\n",
       "      <td>10.320000</td>\n",
       "      <td>0.000000</td>\n",
       "      <td>0.000000</td>\n",
       "      <td>10.280000</td>\n",
       "    </tr>\n",
       "    <tr>\n",
       "      <th>...</th>\n",
       "      <td>...</td>\n",
       "      <td>...</td>\n",
       "      <td>...</td>\n",
       "      <td>...</td>\n",
       "      <td>...</td>\n",
       "      <td>...</td>\n",
       "      <td>...</td>\n",
       "      <td>...</td>\n",
       "      <td>...</td>\n",
       "      <td>...</td>\n",
       "      <td>...</td>\n",
       "      <td>...</td>\n",
       "      <td>...</td>\n",
       "      <td>...</td>\n",
       "      <td>...</td>\n",
       "      <td>...</td>\n",
       "      <td>...</td>\n",
       "      <td>...</td>\n",
       "      <td>...</td>\n",
       "      <td>...</td>\n",
       "      <td>...</td>\n",
       "    </tr>\n",
       "    <tr>\n",
       "      <th>643685</th>\n",
       "      <td>1827860</td>\n",
       "      <td>2013</td>\n",
       "      <td>1</td>\n",
       "      <td>0</td>\n",
       "      <td>0</td>\n",
       "      <td>0</td>\n",
       "      <td>1</td>\n",
       "      <td>0</td>\n",
       "      <td>0</td>\n",
       "      <td>1</td>\n",
       "      <td>...</td>\n",
       "      <td>0.000000</td>\n",
       "      <td>0.000000</td>\n",
       "      <td>0.000000</td>\n",
       "      <td>0.000000</td>\n",
       "      <td>0.612903</td>\n",
       "      <td>0.000000</td>\n",
       "      <td>0.000000</td>\n",
       "      <td>0.000000</td>\n",
       "      <td>0.000000</td>\n",
       "      <td>0.000000</td>\n",
       "    </tr>\n",
       "    <tr>\n",
       "      <th>643686</th>\n",
       "      <td>1827860</td>\n",
       "      <td>2015</td>\n",
       "      <td>2</td>\n",
       "      <td>1</td>\n",
       "      <td>0</td>\n",
       "      <td>0</td>\n",
       "      <td>1</td>\n",
       "      <td>0</td>\n",
       "      <td>1</td>\n",
       "      <td>0</td>\n",
       "      <td>...</td>\n",
       "      <td>0.000000</td>\n",
       "      <td>0.000000</td>\n",
       "      <td>0.212121</td>\n",
       "      <td>0.212121</td>\n",
       "      <td>17.363636</td>\n",
       "      <td>0.000000</td>\n",
       "      <td>8.909091</td>\n",
       "      <td>0.000000</td>\n",
       "      <td>0.000000</td>\n",
       "      <td>7.121212</td>\n",
       "    </tr>\n",
       "    <tr>\n",
       "      <th>643687</th>\n",
       "      <td>1827860</td>\n",
       "      <td>2016</td>\n",
       "      <td>3</td>\n",
       "      <td>1</td>\n",
       "      <td>0</td>\n",
       "      <td>0</td>\n",
       "      <td>1</td>\n",
       "      <td>1</td>\n",
       "      <td>0</td>\n",
       "      <td>1</td>\n",
       "      <td>...</td>\n",
       "      <td>0.000000</td>\n",
       "      <td>0.000000</td>\n",
       "      <td>0.294118</td>\n",
       "      <td>0.205882</td>\n",
       "      <td>34.705882</td>\n",
       "      <td>0.000000</td>\n",
       "      <td>10.352941</td>\n",
       "      <td>1.705882</td>\n",
       "      <td>1.705882</td>\n",
       "      <td>23.911765</td>\n",
       "    </tr>\n",
       "    <tr>\n",
       "      <th>643688</th>\n",
       "      <td>1827869</td>\n",
       "      <td>2013</td>\n",
       "      <td>1</td>\n",
       "      <td>1</td>\n",
       "      <td>1</td>\n",
       "      <td>0</td>\n",
       "      <td>0</td>\n",
       "      <td>0</td>\n",
       "      <td>1</td>\n",
       "      <td>0</td>\n",
       "      <td>...</td>\n",
       "      <td>0.000000</td>\n",
       "      <td>0.000000</td>\n",
       "      <td>0.000000</td>\n",
       "      <td>0.000000</td>\n",
       "      <td>0.000000</td>\n",
       "      <td>0.525424</td>\n",
       "      <td>0.000000</td>\n",
       "      <td>0.000000</td>\n",
       "      <td>0.000000</td>\n",
       "      <td>0.000000</td>\n",
       "    </tr>\n",
       "    <tr>\n",
       "      <th>643689</th>\n",
       "      <td>1827869</td>\n",
       "      <td>2014</td>\n",
       "      <td>2</td>\n",
       "      <td>0</td>\n",
       "      <td>0</td>\n",
       "      <td>1</td>\n",
       "      <td>0</td>\n",
       "      <td>0</td>\n",
       "      <td>1</td>\n",
       "      <td>0</td>\n",
       "      <td>...</td>\n",
       "      <td>0.000000</td>\n",
       "      <td>0.666667</td>\n",
       "      <td>0.666667</td>\n",
       "      <td>0.000000</td>\n",
       "      <td>0.000000</td>\n",
       "      <td>8.950000</td>\n",
       "      <td>1.033333</td>\n",
       "      <td>0.083333</td>\n",
       "      <td>0.083333</td>\n",
       "      <td>8.133333</td>\n",
       "    </tr>\n",
       "  </tbody>\n",
       "</table>\n",
       "<p>643690 rows × 164 columns</p>\n",
       "</div>"
      ],
      "text/plain": [
       "         persnr  year  nrEntry  ltue  employed_before  receipt_leh_before  \\\n",
       "0             7  2015        1     0                1                   0   \n",
       "1            18  2010        1     1                0                   0   \n",
       "2            18  2011        2     0                1                   0   \n",
       "3            18  2012        3     0                1                   0   \n",
       "4            18  2012        4     0                1                   0   \n",
       "...         ...   ...      ...   ...              ...                 ...   \n",
       "643685  1827860  2013        1     0                0                   0   \n",
       "643686  1827860  2015        2     1                0                   0   \n",
       "643687  1827860  2016        3     1                0                   0   \n",
       "643688  1827869  2013        1     1                1                   0   \n",
       "643689  1827869  2014        2     0                0                   1   \n",
       "\n",
       "        receipt_lhg_before  se_before  ASU_notue_seeking_before  \\\n",
       "0                        0          0                         1   \n",
       "1                        0          0                         0   \n",
       "2                        1          0                         1   \n",
       "3                        1          0                         1   \n",
       "4                        1          0                         1   \n",
       "...                    ...        ...                       ...   \n",
       "643685                   1          0                         0   \n",
       "643686                   1          0                         1   \n",
       "643687                   1          1                         0   \n",
       "643688                   0          0                         1   \n",
       "643689                   0          0                         1   \n",
       "\n",
       "        ASU_other_before  ...  minijob_tot_dur_byage  ft_tot_dur_byage  \\\n",
       "0                      0  ...               0.000000          0.000000   \n",
       "1                      0  ...               0.000000          0.000000   \n",
       "2                      0  ...               2.714286          2.714286   \n",
       "3                      0  ...               4.200000          4.200000   \n",
       "4                      0  ...               5.460000          5.460000   \n",
       "...                  ...  ...                    ...               ...   \n",
       "643685                 1  ...               0.000000          0.000000   \n",
       "643686                 0  ...               0.000000          0.000000   \n",
       "643687                 1  ...               0.000000          0.000000   \n",
       "643688                 0  ...               0.000000          0.000000   \n",
       "643689                 0  ...               0.000000          0.666667   \n",
       "\n",
       "        befrist_tot_dur_byage  leih_tot_dur_byage  LHG_tot_dur_byage  \\\n",
       "0                   15.043478            0.000000           0.000000   \n",
       "1                    0.000000            0.000000           0.000000   \n",
       "2                    0.000000            0.000000          10.775510   \n",
       "3                    0.000000            0.000000          12.100000   \n",
       "4                    0.000000            0.000000          13.360000   \n",
       "...                       ...                 ...                ...   \n",
       "643685               0.000000            0.000000           0.612903   \n",
       "643686               0.212121            0.212121          17.363636   \n",
       "643687               0.294118            0.205882          34.705882   \n",
       "643688               0.000000            0.000000           0.000000   \n",
       "643689               0.666667            0.000000           0.000000   \n",
       "\n",
       "        LEH_tot_dur_byage  almp_tot_dur_byage  almp_aw_tot_dur_byage  \\\n",
       "0                0.000000            0.000000               0.000000   \n",
       "1                0.000000            0.000000               0.000000   \n",
       "2                0.000000            8.367347               0.000000   \n",
       "3                0.000000            9.400000               0.000000   \n",
       "4                0.000000           10.320000               0.000000   \n",
       "...                   ...                 ...                    ...   \n",
       "643685           0.000000            0.000000               0.000000   \n",
       "643686           0.000000            8.909091               0.000000   \n",
       "643687           0.000000           10.352941               1.705882   \n",
       "643688           0.525424            0.000000               0.000000   \n",
       "643689           8.950000            1.033333               0.083333   \n",
       "\n",
       "        se_tot_dur_byage  seeking1_tot_dur_byage  \n",
       "0               0.000000                0.000000  \n",
       "1               0.000000                0.000000  \n",
       "2               0.000000                9.836735  \n",
       "3               0.000000                9.960000  \n",
       "4               0.000000               10.280000  \n",
       "...                  ...                     ...  \n",
       "643685          0.000000                0.000000  \n",
       "643686          0.000000                7.121212  \n",
       "643687          1.705882               23.911765  \n",
       "643688          0.000000                0.000000  \n",
       "643689          0.083333                8.133333  \n",
       "\n",
       "[643690 rows x 164 columns]"
      ]
     },
     "execution_count": 10,
     "metadata": {},
     "output_type": "execute_result"
    }
   ],
   "source": [
    "siab"
   ]
  },
  {
   "cell_type": "markdown",
   "id": "1f87e805",
   "metadata": {
    "papermill": {
     "duration": 0.010295,
     "end_time": "2025-08-19T18:59:14.249114",
     "exception": false,
     "start_time": "2025-08-19T18:59:14.238819",
     "status": "completed"
    },
    "tags": []
   },
   "source": [
    "# Splitting Data and Setting Training Data Size"
   ]
  },
  {
   "cell_type": "code",
   "execution_count": 11,
   "id": "910ae358",
   "metadata": {
    "execution": {
     "iopub.execute_input": "2025-08-19T18:59:14.272526Z",
     "iopub.status.busy": "2025-08-19T18:59:14.271192Z",
     "iopub.status.idle": "2025-08-19T18:59:14.970057Z",
     "shell.execute_reply": "2025-08-19T18:59:14.969153Z"
    },
    "papermill": {
     "duration": 0.712568,
     "end_time": "2025-08-19T18:59:14.971792",
     "exception": false,
     "start_time": "2025-08-19T18:59:14.259224",
     "status": "completed"
    },
    "tags": []
   },
   "outputs": [],
   "source": [
    "from fairness_multiverse.universe import sample_by_year_size\n",
    "\n",
    "siab_train = sample_by_year_size(siab,\n",
    "                               training_year=universe[\"training_year\"],\n",
    "                               training_size=universe[\"training_size\"])"
   ]
  },
  {
   "cell_type": "code",
   "execution_count": 12,
   "id": "919c8ff5",
   "metadata": {
    "execution": {
     "iopub.execute_input": "2025-08-19T18:59:14.995781Z",
     "iopub.status.busy": "2025-08-19T18:59:14.995270Z",
     "iopub.status.idle": "2025-08-19T18:59:15.002305Z",
     "shell.execute_reply": "2025-08-19T18:59:15.001465Z"
    },
    "papermill": {
     "duration": 0.01993,
     "end_time": "2025-08-19T18:59:15.003770",
     "exception": false,
     "start_time": "2025-08-19T18:59:14.983840",
     "status": "completed"
    },
    "tags": []
   },
   "outputs": [
    {
     "data": {
      "text/plain": [
       "(1000, 164)"
      ]
     },
     "execution_count": 12,
     "metadata": {},
     "output_type": "execute_result"
    }
   ],
   "source": [
    "siab_train.shape"
   ]
  },
  {
   "cell_type": "code",
   "execution_count": 13,
   "id": "feb13bf4",
   "metadata": {
    "execution": {
     "iopub.execute_input": "2025-08-19T18:59:15.026267Z",
     "iopub.status.busy": "2025-08-19T18:59:15.025767Z",
     "iopub.status.idle": "2025-08-19T18:59:15.034816Z",
     "shell.execute_reply": "2025-08-19T18:59:15.033968Z"
    },
    "papermill": {
     "duration": 0.021982,
     "end_time": "2025-08-19T18:59:15.036244",
     "exception": false,
     "start_time": "2025-08-19T18:59:15.014262",
     "status": "completed"
    },
    "tags": []
   },
   "outputs": [
    {
     "data": {
      "text/plain": [
       "year\n",
       "2012    334\n",
       "2013    333\n",
       "2014    333\n",
       "dtype: int64"
      ]
     },
     "metadata": {},
     "output_type": "display_data"
    }
   ],
   "source": [
    "display(siab_train.groupby(\"year\").size())"
   ]
  },
  {
   "cell_type": "code",
   "execution_count": 14,
   "id": "0997782f",
   "metadata": {
    "execution": {
     "iopub.execute_input": "2025-08-19T18:59:15.060367Z",
     "iopub.status.busy": "2025-08-19T18:59:15.059896Z",
     "iopub.status.idle": "2025-08-19T18:59:15.721303Z",
     "shell.execute_reply": "2025-08-19T18:59:15.719586Z"
    },
    "papermill": {
     "duration": 0.675125,
     "end_time": "2025-08-19T18:59:15.723157",
     "exception": false,
     "start_time": "2025-08-19T18:59:15.048032",
     "status": "completed"
    },
    "tags": []
   },
   "outputs": [],
   "source": [
    "#siab_train = siab_s[siab_s.year < 2015]\n",
    "siab_calib = siab[siab.year == 2015]\n",
    "siab_test = siab[siab.year == 2016]"
   ]
  },
  {
   "cell_type": "code",
   "execution_count": 15,
   "id": "2c1e4012",
   "metadata": {
    "execution": {
     "iopub.execute_input": "2025-08-19T18:59:15.747215Z",
     "iopub.status.busy": "2025-08-19T18:59:15.746505Z",
     "iopub.status.idle": "2025-08-19T18:59:15.756835Z",
     "shell.execute_reply": "2025-08-19T18:59:15.755625Z"
    },
    "papermill": {
     "duration": 0.025117,
     "end_time": "2025-08-19T18:59:15.759151",
     "exception": false,
     "start_time": "2025-08-19T18:59:15.734034",
     "status": "completed"
    },
    "tags": []
   },
   "outputs": [],
   "source": [
    "#siab_calib.shape"
   ]
  },
  {
   "cell_type": "code",
   "execution_count": 16,
   "id": "f66b54ca",
   "metadata": {
    "execution": {
     "iopub.execute_input": "2025-08-19T18:59:15.784883Z",
     "iopub.status.busy": "2025-08-19T18:59:15.784415Z",
     "iopub.status.idle": "2025-08-19T18:59:15.789040Z",
     "shell.execute_reply": "2025-08-19T18:59:15.788202Z"
    },
    "papermill": {
     "duration": 0.018233,
     "end_time": "2025-08-19T18:59:15.790374",
     "exception": false,
     "start_time": "2025-08-19T18:59:15.772141",
     "status": "completed"
    },
    "tags": []
   },
   "outputs": [],
   "source": [
    "#siab_test.shape"
   ]
  },
  {
   "cell_type": "code",
   "execution_count": 17,
   "id": "27e4384d",
   "metadata": {
    "execution": {
     "iopub.execute_input": "2025-08-19T18:59:15.814412Z",
     "iopub.status.busy": "2025-08-19T18:59:15.813976Z",
     "iopub.status.idle": "2025-08-19T18:59:15.821307Z",
     "shell.execute_reply": "2025-08-19T18:59:15.820419Z"
    },
    "papermill": {
     "duration": 0.021144,
     "end_time": "2025-08-19T18:59:15.822830",
     "exception": false,
     "start_time": "2025-08-19T18:59:15.801686",
     "status": "completed"
    },
    "tags": []
   },
   "outputs": [],
   "source": [
    "X_train = siab_train.iloc[:,4:164]\n",
    "y_train = siab_train.iloc[:, [3]]"
   ]
  },
  {
   "cell_type": "code",
   "execution_count": 18,
   "id": "08ee8389",
   "metadata": {
    "execution": {
     "iopub.execute_input": "2025-08-19T18:59:15.847101Z",
     "iopub.status.busy": "2025-08-19T18:59:15.846632Z",
     "iopub.status.idle": "2025-08-19T18:59:15.914563Z",
     "shell.execute_reply": "2025-08-19T18:59:15.913341Z"
    },
    "papermill": {
     "duration": 0.08456,
     "end_time": "2025-08-19T18:59:15.918744",
     "exception": false,
     "start_time": "2025-08-19T18:59:15.834184",
     "status": "completed"
    },
    "tags": []
   },
   "outputs": [],
   "source": [
    "X_calib = siab_calib.iloc[:,4:164]\n",
    "y_calib = siab_calib.iloc[:, [3]]"
   ]
  },
  {
   "cell_type": "code",
   "execution_count": 19,
   "id": "b7ff42e0",
   "metadata": {
    "execution": {
     "iopub.execute_input": "2025-08-19T18:59:15.983511Z",
     "iopub.status.busy": "2025-08-19T18:59:15.982980Z",
     "iopub.status.idle": "2025-08-19T18:59:16.049620Z",
     "shell.execute_reply": "2025-08-19T18:59:16.048283Z"
    },
    "papermill": {
     "duration": 0.097127,
     "end_time": "2025-08-19T18:59:16.053523",
     "exception": false,
     "start_time": "2025-08-19T18:59:15.956396",
     "status": "completed"
    },
    "tags": []
   },
   "outputs": [],
   "source": [
    "X_test = siab_test.iloc[:,4:164]\n",
    "y_true = siab_test.iloc[:, [3]]"
   ]
  },
  {
   "cell_type": "code",
   "execution_count": 20,
   "id": "0275101e",
   "metadata": {
    "execution": {
     "iopub.execute_input": "2025-08-19T18:59:16.092627Z",
     "iopub.status.busy": "2025-08-19T18:59:16.091017Z",
     "iopub.status.idle": "2025-08-19T18:59:16.223821Z",
     "shell.execute_reply": "2025-08-19T18:59:16.222909Z"
    },
    "papermill": {
     "duration": 0.148891,
     "end_time": "2025-08-19T18:59:16.225578",
     "exception": false,
     "start_time": "2025-08-19T18:59:16.076687",
     "status": "completed"
    },
    "tags": []
   },
   "outputs": [],
   "source": [
    "# Auxiliary data needed downstream in the pipeline\n",
    "\n",
    "org_train = X_train.copy()\n",
    "org_test = X_test.copy()\n",
    "org_calib = X_calib.copy()"
   ]
  },
  {
   "cell_type": "markdown",
   "id": "b461e618",
   "metadata": {
    "papermill": {
     "duration": 0.01051,
     "end_time": "2025-08-19T18:59:16.247118",
     "exception": false,
     "start_time": "2025-08-19T18:59:16.236608",
     "status": "completed"
    },
    "tags": []
   },
   "source": [
    "# Preprocessing Data"
   ]
  },
  {
   "cell_type": "code",
   "execution_count": 21,
   "id": "78e74c4b",
   "metadata": {
    "execution": {
     "iopub.execute_input": "2025-08-19T18:59:16.276551Z",
     "iopub.status.busy": "2025-08-19T18:59:16.269938Z",
     "iopub.status.idle": "2025-08-19T18:59:16.284763Z",
     "shell.execute_reply": "2025-08-19T18:59:16.283704Z"
    },
    "papermill": {
     "duration": 0.028821,
     "end_time": "2025-08-19T18:59:16.286491",
     "exception": false,
     "start_time": "2025-08-19T18:59:16.257670",
     "status": "completed"
    },
    "tags": []
   },
   "outputs": [],
   "source": [
    "# EXCLUDE PROTECTED FEATURES\n",
    "# --------------------------\n",
    "\n",
    "excluded_features = universe[\"exclude_features\"].split(\"-\")\n",
    "excluded_features_dictionary = {\n",
    "    \"nationality\": [\"maxdeutsch1\", \"maxdeutsch.Missing.\"],\n",
    "    \"sex\": [\"frau1\"],\n",
    "    \"age\": [\"age\"],\n",
    "}"
   ]
  },
  {
   "cell_type": "code",
   "execution_count": 22,
   "id": "f8e63555",
   "metadata": {
    "execution": {
     "iopub.execute_input": "2025-08-19T18:59:16.314401Z",
     "iopub.status.busy": "2025-08-19T18:59:16.313000Z",
     "iopub.status.idle": "2025-08-19T18:59:16.323512Z",
     "shell.execute_reply": "2025-08-19T18:59:16.321674Z"
    },
    "papermill": {
     "duration": 0.025492,
     "end_time": "2025-08-19T18:59:16.325024",
     "exception": false,
     "start_time": "2025-08-19T18:59:16.299532",
     "status": "completed"
    },
    "tags": []
   },
   "outputs": [],
   "source": [
    "excluded_features_columns = [\n",
    "    excluded_features_dictionary[f] for f in excluded_features if len(f) > 0 and f != \"none\"\n",
    "]"
   ]
  },
  {
   "cell_type": "code",
   "execution_count": 23,
   "id": "da781f7c",
   "metadata": {
    "execution": {
     "iopub.execute_input": "2025-08-19T18:59:16.352898Z",
     "iopub.status.busy": "2025-08-19T18:59:16.351616Z",
     "iopub.status.idle": "2025-08-19T18:59:16.359929Z",
     "shell.execute_reply": "2025-08-19T18:59:16.358458Z"
    },
    "papermill": {
     "duration": 0.022357,
     "end_time": "2025-08-19T18:59:16.361451",
     "exception": false,
     "start_time": "2025-08-19T18:59:16.339094",
     "status": "completed"
    },
    "tags": []
   },
   "outputs": [],
   "source": [
    "from fairness_multiverse.universe import flatten_once\n",
    "\n",
    "excluded_features_columns = flatten_once(excluded_features_columns)"
   ]
  },
  {
   "cell_type": "code",
   "execution_count": 24,
   "id": "37fef0f0",
   "metadata": {
    "execution": {
     "iopub.execute_input": "2025-08-19T18:59:16.397432Z",
     "iopub.status.busy": "2025-08-19T18:59:16.393900Z",
     "iopub.status.idle": "2025-08-19T18:59:16.402675Z",
     "shell.execute_reply": "2025-08-19T18:59:16.401770Z"
    },
    "papermill": {
     "duration": 0.030469,
     "end_time": "2025-08-19T18:59:16.404309",
     "exception": false,
     "start_time": "2025-08-19T18:59:16.373840",
     "status": "completed"
    },
    "tags": []
   },
   "outputs": [],
   "source": [
    "if len(excluded_features_columns) > 0:\n",
    "    print(f\"Dropping features: {excluded_features_columns}\")\n",
    "    X_train.drop(excluded_features_columns, axis=1, inplace=True)"
   ]
  },
  {
   "cell_type": "code",
   "execution_count": 25,
   "id": "d029e3e9",
   "metadata": {
    "execution": {
     "iopub.execute_input": "2025-08-19T18:59:16.443125Z",
     "iopub.status.busy": "2025-08-19T18:59:16.441599Z",
     "iopub.status.idle": "2025-08-19T18:59:16.448492Z",
     "shell.execute_reply": "2025-08-19T18:59:16.447612Z"
    },
    "papermill": {
     "duration": 0.030087,
     "end_time": "2025-08-19T18:59:16.450125",
     "exception": false,
     "start_time": "2025-08-19T18:59:16.420038",
     "status": "completed"
    },
    "tags": []
   },
   "outputs": [],
   "source": [
    "if len(excluded_features_columns) > 0:\n",
    "    print(f\"Dropping features: {excluded_features_columns}\")\n",
    "    X_test.drop(excluded_features_columns, axis=1, inplace=True)"
   ]
  },
  {
   "cell_type": "code",
   "execution_count": 26,
   "id": "01d571f0",
   "metadata": {
    "execution": {
     "iopub.execute_input": "2025-08-19T18:59:16.477198Z",
     "iopub.status.busy": "2025-08-19T18:59:16.476650Z",
     "iopub.status.idle": "2025-08-19T18:59:16.546373Z",
     "shell.execute_reply": "2025-08-19T18:59:16.544751Z"
    },
    "papermill": {
     "duration": 0.085794,
     "end_time": "2025-08-19T18:59:16.549874",
     "exception": false,
     "start_time": "2025-08-19T18:59:16.464080",
     "status": "completed"
    },
    "tags": []
   },
   "outputs": [],
   "source": [
    "if len(excluded_features_columns) > 0:\n",
    "    print(f\"Dropping features: {excluded_features_columns}\")\n",
    "    X_calib.drop(excluded_features_columns, axis=1, inplace=True)"
   ]
  },
  {
   "cell_type": "code",
   "execution_count": 27,
   "id": "3037356e",
   "metadata": {
    "execution": {
     "iopub.execute_input": "2025-08-19T18:59:16.589061Z",
     "iopub.status.busy": "2025-08-19T18:59:16.587737Z",
     "iopub.status.idle": "2025-08-19T18:59:16.595349Z",
     "shell.execute_reply": "2025-08-19T18:59:16.593819Z"
    },
    "papermill": {
     "duration": 0.023319,
     "end_time": "2025-08-19T18:59:16.596959",
     "exception": false,
     "start_time": "2025-08-19T18:59:16.573640",
     "status": "completed"
    },
    "tags": []
   },
   "outputs": [],
   "source": [
    "# EXCLUDE CERTAIN SUBGROUPS\n",
    "# -------------------------\n",
    "\n",
    "mode = universe.get(\"exclude_subgroups\", \"keep-all\") # Defaults to \"keep-all\" if the key is missing."
   ]
  },
  {
   "cell_type": "code",
   "execution_count": 28,
   "id": "9d1e63fd",
   "metadata": {
    "execution": {
     "iopub.execute_input": "2025-08-19T18:59:16.625310Z",
     "iopub.status.busy": "2025-08-19T18:59:16.624037Z",
     "iopub.status.idle": "2025-08-19T18:59:16.645817Z",
     "shell.execute_reply": "2025-08-19T18:59:16.644370Z"
    },
    "papermill": {
     "duration": 0.036478,
     "end_time": "2025-08-19T18:59:16.647748",
     "exception": false,
     "start_time": "2025-08-19T18:59:16.611270",
     "status": "completed"
    },
    "tags": []
   },
   "outputs": [],
   "source": [
    "if mode == \"keep-all\":\n",
    "    keep_mask = pd.Series(True, index=org_train.index)\n",
    "\n",
    "elif mode == \"drop-non-german\":\n",
    "    keep_mask = (org_train[\"maxdeutsch1\"] == 1) & (org_train[\"maxdeutsch.Missing.\"] == 0)\n",
    "\n",
    "else:\n",
    "    raise ValueError(f\"Unsupported mode for exclude_subgroups: {mode}\")"
   ]
  },
  {
   "cell_type": "code",
   "execution_count": 29,
   "id": "d3b65474",
   "metadata": {
    "execution": {
     "iopub.execute_input": "2025-08-19T18:59:16.682560Z",
     "iopub.status.busy": "2025-08-19T18:59:16.680061Z",
     "iopub.status.idle": "2025-08-19T18:59:16.700420Z",
     "shell.execute_reply": "2025-08-19T18:59:16.699387Z"
    },
    "papermill": {
     "duration": 0.035449,
     "end_time": "2025-08-19T18:59:16.702160",
     "exception": false,
     "start_time": "2025-08-19T18:59:16.666711",
     "status": "completed"
    },
    "tags": []
   },
   "outputs": [
    {
     "name": "stdout",
     "output_type": "stream",
     "text": [
      "Dropping 147 rows (14.70%) where mode='drop-non-german'\n"
     ]
    }
   ],
   "source": [
    "n_drop = (~keep_mask).sum() # Calculates how many rows are set to be dropped\n",
    "if n_drop > 0:\n",
    "    pct = n_drop / len(keep_mask) * 100\n",
    "    print(f\"Dropping {n_drop} rows ({pct:.2f}%) where mode='{mode}'\")"
   ]
  },
  {
   "cell_type": "code",
   "execution_count": 30,
   "id": "f44389b3",
   "metadata": {
    "execution": {
     "iopub.execute_input": "2025-08-19T18:59:16.735014Z",
     "iopub.status.busy": "2025-08-19T18:59:16.733762Z",
     "iopub.status.idle": "2025-08-19T18:59:16.759361Z",
     "shell.execute_reply": "2025-08-19T18:59:16.757981Z"
    },
    "papermill": {
     "duration": 0.040975,
     "end_time": "2025-08-19T18:59:16.761569",
     "exception": false,
     "start_time": "2025-08-19T18:59:16.720594",
     "status": "completed"
    },
    "tags": []
   },
   "outputs": [],
   "source": [
    "X_train = X_train[keep_mask]"
   ]
  },
  {
   "cell_type": "code",
   "execution_count": 31,
   "id": "ceca8c2a",
   "metadata": {
    "execution": {
     "iopub.execute_input": "2025-08-19T18:59:16.794070Z",
     "iopub.status.busy": "2025-08-19T18:59:16.792715Z",
     "iopub.status.idle": "2025-08-19T18:59:16.803221Z",
     "shell.execute_reply": "2025-08-19T18:59:16.801466Z"
    },
    "papermill": {
     "duration": 0.02673,
     "end_time": "2025-08-19T18:59:16.805135",
     "exception": false,
     "start_time": "2025-08-19T18:59:16.778405",
     "status": "completed"
    },
    "tags": []
   },
   "outputs": [],
   "source": [
    "y_train = y_train[keep_mask]"
   ]
  },
  {
   "cell_type": "markdown",
   "id": "04d31e2f",
   "metadata": {
    "papermill": {
     "duration": 0.011104,
     "end_time": "2025-08-19T18:59:16.827489",
     "exception": false,
     "start_time": "2025-08-19T18:59:16.816385",
     "status": "completed"
    },
    "tags": []
   },
   "source": [
    "# Model Training"
   ]
  },
  {
   "cell_type": "code",
   "execution_count": 32,
   "id": "db991733",
   "metadata": {
    "execution": {
     "iopub.execute_input": "2025-08-19T18:59:16.851552Z",
     "iopub.status.busy": "2025-08-19T18:59:16.851010Z",
     "iopub.status.idle": "2025-08-19T18:59:17.011818Z",
     "shell.execute_reply": "2025-08-19T18:59:17.010796Z"
    },
    "papermill": {
     "duration": 0.175284,
     "end_time": "2025-08-19T18:59:17.013782",
     "exception": false,
     "start_time": "2025-08-19T18:59:16.838498",
     "status": "completed"
    },
    "tags": []
   },
   "outputs": [],
   "source": [
    "from sklearn.linear_model import LogisticRegression\n",
    "from sklearn.ensemble import GradientBoostingClassifier, RandomForestClassifier\n",
    "\n",
    "if (universe[\"model\"] == \"logreg\"):\n",
    "    model = LogisticRegression() #penalty=\"none\", solver=\"newton-cg\", max_iter=1)\n",
    "elif (universe[\"model\"] == \"penalized_logreg\"):\n",
    "    model = LogisticRegression(penalty=\"l2\", C=0.1) #, solver=\"newton-cg\", max_iter=1)\n",
    "elif (universe[\"model\"] == \"rf\"):\n",
    "    model = RandomForestClassifier() # n_estimators=100, n_jobs=-1\n",
    "elif (universe[\"model\"] == \"gbm\"):\n",
    "    model = GradientBoostingClassifier()\n",
    "elif (universe[\"model\"] == \"elasticnet\"):\n",
    "    model = LogisticRegression(penalty = 'elasticnet', solver = 'saga', l1_ratio = 0.5) # max_iter=5000\n",
    "else:\n",
    "    raise \"Unsupported universe.model\""
   ]
  },
  {
   "cell_type": "code",
   "execution_count": 33,
   "id": "a4b5cd25",
   "metadata": {
    "execution": {
     "iopub.execute_input": "2025-08-19T18:59:17.039328Z",
     "iopub.status.busy": "2025-08-19T18:59:17.038741Z",
     "iopub.status.idle": "2025-08-19T18:59:17.044681Z",
     "shell.execute_reply": "2025-08-19T18:59:17.043865Z"
    },
    "papermill": {
     "duration": 0.019896,
     "end_time": "2025-08-19T18:59:17.046193",
     "exception": false,
     "start_time": "2025-08-19T18:59:17.026297",
     "status": "completed"
    },
    "tags": []
   },
   "outputs": [],
   "source": [
    "from sklearn.pipeline import Pipeline\n",
    "from sklearn.preprocessing import StandardScaler\n",
    "\n",
    "model = Pipeline([\n",
    "    #(\"continuous_processor\", continuous_processor),\n",
    "    #(\"categorical_preprocessor\", categorical_preprocessor),\n",
    "    (\"scale\", StandardScaler() if universe[\"scale\"] == \"scale\" else None), \n",
    "    (\"model\", model),\n",
    "])"
   ]
  },
  {
   "cell_type": "code",
   "execution_count": 34,
   "id": "283a904d",
   "metadata": {
    "execution": {
     "iopub.execute_input": "2025-08-19T18:59:17.074560Z",
     "iopub.status.busy": "2025-08-19T18:59:17.073493Z",
     "iopub.status.idle": "2025-08-19T18:59:17.909510Z",
     "shell.execute_reply": "2025-08-19T18:59:17.908388Z"
    },
    "papermill": {
     "duration": 0.856597,
     "end_time": "2025-08-19T18:59:17.917638",
     "exception": false,
     "start_time": "2025-08-19T18:59:17.061041",
     "status": "completed"
    },
    "tags": []
   },
   "outputs": [
    {
     "data": {
      "text/html": [
       "<style>#sk-container-id-1 {color: black;background-color: white;}#sk-container-id-1 pre{padding: 0;}#sk-container-id-1 div.sk-toggleable {background-color: white;}#sk-container-id-1 label.sk-toggleable__label {cursor: pointer;display: block;width: 100%;margin-bottom: 0;padding: 0.3em;box-sizing: border-box;text-align: center;}#sk-container-id-1 label.sk-toggleable__label-arrow:before {content: \"▸\";float: left;margin-right: 0.25em;color: #696969;}#sk-container-id-1 label.sk-toggleable__label-arrow:hover:before {color: black;}#sk-container-id-1 div.sk-estimator:hover label.sk-toggleable__label-arrow:before {color: black;}#sk-container-id-1 div.sk-toggleable__content {max-height: 0;max-width: 0;overflow: hidden;text-align: left;background-color: #f0f8ff;}#sk-container-id-1 div.sk-toggleable__content pre {margin: 0.2em;color: black;border-radius: 0.25em;background-color: #f0f8ff;}#sk-container-id-1 input.sk-toggleable__control:checked~div.sk-toggleable__content {max-height: 200px;max-width: 100%;overflow: auto;}#sk-container-id-1 input.sk-toggleable__control:checked~label.sk-toggleable__label-arrow:before {content: \"▾\";}#sk-container-id-1 div.sk-estimator input.sk-toggleable__control:checked~label.sk-toggleable__label {background-color: #d4ebff;}#sk-container-id-1 div.sk-label input.sk-toggleable__control:checked~label.sk-toggleable__label {background-color: #d4ebff;}#sk-container-id-1 input.sk-hidden--visually {border: 0;clip: rect(1px 1px 1px 1px);clip: rect(1px, 1px, 1px, 1px);height: 1px;margin: -1px;overflow: hidden;padding: 0;position: absolute;width: 1px;}#sk-container-id-1 div.sk-estimator {font-family: monospace;background-color: #f0f8ff;border: 1px dotted black;border-radius: 0.25em;box-sizing: border-box;margin-bottom: 0.5em;}#sk-container-id-1 div.sk-estimator:hover {background-color: #d4ebff;}#sk-container-id-1 div.sk-parallel-item::after {content: \"\";width: 100%;border-bottom: 1px solid gray;flex-grow: 1;}#sk-container-id-1 div.sk-label:hover label.sk-toggleable__label {background-color: #d4ebff;}#sk-container-id-1 div.sk-serial::before {content: \"\";position: absolute;border-left: 1px solid gray;box-sizing: border-box;top: 0;bottom: 0;left: 50%;z-index: 0;}#sk-container-id-1 div.sk-serial {display: flex;flex-direction: column;align-items: center;background-color: white;padding-right: 0.2em;padding-left: 0.2em;position: relative;}#sk-container-id-1 div.sk-item {position: relative;z-index: 1;}#sk-container-id-1 div.sk-parallel {display: flex;align-items: stretch;justify-content: center;background-color: white;position: relative;}#sk-container-id-1 div.sk-item::before, #sk-container-id-1 div.sk-parallel-item::before {content: \"\";position: absolute;border-left: 1px solid gray;box-sizing: border-box;top: 0;bottom: 0;left: 50%;z-index: -1;}#sk-container-id-1 div.sk-parallel-item {display: flex;flex-direction: column;z-index: 1;position: relative;background-color: white;}#sk-container-id-1 div.sk-parallel-item:first-child::after {align-self: flex-end;width: 50%;}#sk-container-id-1 div.sk-parallel-item:last-child::after {align-self: flex-start;width: 50%;}#sk-container-id-1 div.sk-parallel-item:only-child::after {width: 0;}#sk-container-id-1 div.sk-dashed-wrapped {border: 1px dashed gray;margin: 0 0.4em 0.5em 0.4em;box-sizing: border-box;padding-bottom: 0.4em;background-color: white;}#sk-container-id-1 div.sk-label label {font-family: monospace;font-weight: bold;display: inline-block;line-height: 1.2em;}#sk-container-id-1 div.sk-label-container {text-align: center;}#sk-container-id-1 div.sk-container {/* jupyter's `normalize.less` sets `[hidden] { display: none; }` but bootstrap.min.css set `[hidden] { display: none !important; }` so we also need the `!important` here to be able to override the default hidden behavior on the sphinx rendered scikit-learn.org. See: https://github.com/scikit-learn/scikit-learn/issues/21755 */display: inline-block !important;position: relative;}#sk-container-id-1 div.sk-text-repr-fallback {display: none;}</style><div id=\"sk-container-id-1\" class=\"sk-top-container\"><div class=\"sk-text-repr-fallback\"><pre>Pipeline(steps=[(&#x27;scale&#x27;, StandardScaler()),\n",
       "                (&#x27;model&#x27;, GradientBoostingClassifier())])</pre><b>In a Jupyter environment, please rerun this cell to show the HTML representation or trust the notebook. <br />On GitHub, the HTML representation is unable to render, please try loading this page with nbviewer.org.</b></div><div class=\"sk-container\" hidden><div class=\"sk-item sk-dashed-wrapped\"><div class=\"sk-label-container\"><div class=\"sk-label sk-toggleable\"><input class=\"sk-toggleable__control sk-hidden--visually\" id=\"sk-estimator-id-1\" type=\"checkbox\" ><label for=\"sk-estimator-id-1\" class=\"sk-toggleable__label sk-toggleable__label-arrow\">Pipeline</label><div class=\"sk-toggleable__content\"><pre>Pipeline(steps=[(&#x27;scale&#x27;, StandardScaler()),\n",
       "                (&#x27;model&#x27;, GradientBoostingClassifier())])</pre></div></div></div><div class=\"sk-serial\"><div class=\"sk-item\"><div class=\"sk-estimator sk-toggleable\"><input class=\"sk-toggleable__control sk-hidden--visually\" id=\"sk-estimator-id-2\" type=\"checkbox\" ><label for=\"sk-estimator-id-2\" class=\"sk-toggleable__label sk-toggleable__label-arrow\">StandardScaler</label><div class=\"sk-toggleable__content\"><pre>StandardScaler()</pre></div></div></div><div class=\"sk-item\"><div class=\"sk-estimator sk-toggleable\"><input class=\"sk-toggleable__control sk-hidden--visually\" id=\"sk-estimator-id-3\" type=\"checkbox\" ><label for=\"sk-estimator-id-3\" class=\"sk-toggleable__label sk-toggleable__label-arrow\">GradientBoostingClassifier</label><div class=\"sk-toggleable__content\"><pre>GradientBoostingClassifier()</pre></div></div></div></div></div></div></div>"
      ],
      "text/plain": [
       "Pipeline(steps=[('scale', StandardScaler()),\n",
       "                ('model', GradientBoostingClassifier())])"
      ]
     },
     "execution_count": 34,
     "metadata": {},
     "output_type": "execute_result"
    }
   ],
   "source": [
    "model.fit(X_train, y_train.values.ravel())"
   ]
  },
  {
   "cell_type": "code",
   "execution_count": 35,
   "id": "6e15e313",
   "metadata": {
    "execution": {
     "iopub.execute_input": "2025-08-19T18:59:17.971972Z",
     "iopub.status.busy": "2025-08-19T18:59:17.971063Z",
     "iopub.status.idle": "2025-08-19T18:59:18.758762Z",
     "shell.execute_reply": "2025-08-19T18:59:18.757015Z"
    },
    "papermill": {
     "duration": 0.808772,
     "end_time": "2025-08-19T18:59:18.762662",
     "exception": false,
     "start_time": "2025-08-19T18:59:17.953890",
     "status": "completed"
    },
    "tags": []
   },
   "outputs": [
    {
     "data": {
      "text/plain": [
       "0.8338646750640955"
      ]
     },
     "execution_count": 35,
     "metadata": {},
     "output_type": "execute_result"
    }
   ],
   "source": [
    "from fairness_multiverse.universe import predict_w_threshold\n",
    "\n",
    "probs_test = model.predict_proba(X_test)\n",
    "\n",
    "'''\n",
    "Below code returns a boolean array (or binary 0/1 array depending on how it’s used) where each element \n",
    "is True if the probability of class 1 is greater than or equal to the threshold, and False otherwise.\n",
    "'''\n",
    "y_pred_default = predict_w_threshold(probs_test, 0.5)\n",
    "\n",
    "from sklearn.metrics import accuracy_score\n",
    "\n",
    "# Naive prediction\n",
    "accuracy_score(y_true = y_true, y_pred = y_pred_default)"
   ]
  },
  {
   "cell_type": "code",
   "execution_count": 36,
   "id": "6f14067c",
   "metadata": {
    "execution": {
     "iopub.execute_input": "2025-08-19T18:59:18.806404Z",
     "iopub.status.busy": "2025-08-19T18:59:18.804022Z",
     "iopub.status.idle": "2025-08-19T18:59:19.560008Z",
     "shell.execute_reply": "2025-08-19T18:59:19.558498Z"
    },
    "papermill": {
     "duration": 0.772953,
     "end_time": "2025-08-19T18:59:19.561577",
     "exception": false,
     "start_time": "2025-08-19T18:59:18.788624",
     "status": "completed"
    },
    "tags": []
   },
   "outputs": [
    {
     "data": {
      "text/plain": [
       "array([0, 0, 0, ..., 0, 0, 0])"
      ]
     },
     "execution_count": 36,
     "metadata": {},
     "output_type": "execute_result"
    }
   ],
   "source": [
    "model.predict(X_test)"
   ]
  },
  {
   "cell_type": "markdown",
   "id": "3759920c",
   "metadata": {
    "papermill": {
     "duration": 0.013952,
     "end_time": "2025-08-19T18:59:19.589611",
     "exception": false,
     "start_time": "2025-08-19T18:59:19.575659",
     "status": "completed"
    },
    "tags": []
   },
   "source": [
    "# Conformal Prediction"
   ]
  },
  {
   "cell_type": "code",
   "execution_count": 37,
   "id": "14b27f59",
   "metadata": {
    "execution": {
     "iopub.execute_input": "2025-08-19T18:59:19.636228Z",
     "iopub.status.busy": "2025-08-19T18:59:19.635101Z",
     "iopub.status.idle": "2025-08-19T18:59:19.645339Z",
     "shell.execute_reply": "2025-08-19T18:59:19.643467Z"
    },
    "papermill": {
     "duration": 0.045552,
     "end_time": "2025-08-19T18:59:19.646812",
     "exception": false,
     "start_time": "2025-08-19T18:59:19.601260",
     "status": "completed"
    },
    "tags": []
   },
   "outputs": [],
   "source": [
    "# Miscoverage level for conformal prediction (10% allowed error rate => 90% target coverage)\n",
    "alpha = 0.1"
   ]
  },
  {
   "cell_type": "code",
   "execution_count": 38,
   "id": "59102472",
   "metadata": {
    "execution": {
     "iopub.execute_input": "2025-08-19T18:59:19.675235Z",
     "iopub.status.busy": "2025-08-19T18:59:19.673788Z",
     "iopub.status.idle": "2025-08-19T18:59:20.364902Z",
     "shell.execute_reply": "2025-08-19T18:59:20.363436Z"
    },
    "papermill": {
     "duration": 0.707431,
     "end_time": "2025-08-19T18:59:20.366482",
     "exception": false,
     "start_time": "2025-08-19T18:59:19.659051",
     "status": "completed"
    },
    "tags": []
   },
   "outputs": [],
   "source": [
    "probs_calib = model.predict_proba(X_calib)"
   ]
  },
  {
   "cell_type": "code",
   "execution_count": 39,
   "id": "a792d4dd",
   "metadata": {
    "execution": {
     "iopub.execute_input": "2025-08-19T18:59:20.399053Z",
     "iopub.status.busy": "2025-08-19T18:59:20.398502Z",
     "iopub.status.idle": "2025-08-19T18:59:20.405663Z",
     "shell.execute_reply": "2025-08-19T18:59:20.404915Z"
    },
    "papermill": {
     "duration": 0.026914,
     "end_time": "2025-08-19T18:59:20.407979",
     "exception": false,
     "start_time": "2025-08-19T18:59:20.381065",
     "status": "completed"
    },
    "tags": []
   },
   "outputs": [],
   "source": [
    "y_calib = y_calib.values.ravel().astype(int)"
   ]
  },
  {
   "cell_type": "code",
   "execution_count": 40,
   "id": "650fd033",
   "metadata": {
    "execution": {
     "iopub.execute_input": "2025-08-19T18:59:20.434135Z",
     "iopub.status.busy": "2025-08-19T18:59:20.433694Z",
     "iopub.status.idle": "2025-08-19T18:59:20.441697Z",
     "shell.execute_reply": "2025-08-19T18:59:20.440815Z"
    },
    "papermill": {
     "duration": 0.022733,
     "end_time": "2025-08-19T18:59:20.443474",
     "exception": false,
     "start_time": "2025-08-19T18:59:20.420741",
     "status": "completed"
    },
    "tags": []
   },
   "outputs": [],
   "source": [
    "from fairness_multiverse.conformal import compute_nc_scores\n",
    "\n",
    "# Compute nonconformity scores on calibration set (1 - probability of true class)\n",
    "nc_scores = compute_nc_scores(probs_calib, y_calib)"
   ]
  },
  {
   "cell_type": "code",
   "execution_count": 41,
   "id": "28ada44c",
   "metadata": {
    "execution": {
     "iopub.execute_input": "2025-08-19T18:59:20.469544Z",
     "iopub.status.busy": "2025-08-19T18:59:20.469132Z",
     "iopub.status.idle": "2025-08-19T18:59:20.475473Z",
     "shell.execute_reply": "2025-08-19T18:59:20.474606Z"
    },
    "papermill": {
     "duration": 0.02186,
     "end_time": "2025-08-19T18:59:20.478015",
     "exception": false,
     "start_time": "2025-08-19T18:59:20.456155",
     "status": "completed"
    },
    "tags": []
   },
   "outputs": [],
   "source": [
    "from fairness_multiverse.conformal import find_threshold\n",
    "\n",
    "# Find conformal threshold q_hat for the given alpha (split conformal method)\n",
    "q_hat = find_threshold(nc_scores, alpha)"
   ]
  },
  {
   "cell_type": "code",
   "execution_count": 42,
   "id": "df56469e",
   "metadata": {
    "execution": {
     "iopub.execute_input": "2025-08-19T18:59:20.505789Z",
     "iopub.status.busy": "2025-08-19T18:59:20.505367Z",
     "iopub.status.idle": "2025-08-19T18:59:20.511401Z",
     "shell.execute_reply": "2025-08-19T18:59:20.510758Z"
    },
    "papermill": {
     "duration": 0.021788,
     "end_time": "2025-08-19T18:59:20.514196",
     "exception": false,
     "start_time": "2025-08-19T18:59:20.492408",
     "status": "completed"
    },
    "tags": []
   },
   "outputs": [
    {
     "data": {
      "text/plain": [
       "0.7792202702320675"
      ]
     },
     "execution_count": 42,
     "metadata": {},
     "output_type": "execute_result"
    }
   ],
   "source": [
    "q_hat"
   ]
  },
  {
   "cell_type": "code",
   "execution_count": 43,
   "id": "aa1f5faa",
   "metadata": {
    "execution": {
     "iopub.execute_input": "2025-08-19T18:59:20.540709Z",
     "iopub.status.busy": "2025-08-19T18:59:20.540233Z",
     "iopub.status.idle": "2025-08-19T18:59:21.766105Z",
     "shell.execute_reply": "2025-08-19T18:59:21.765228Z"
    },
    "papermill": {
     "duration": 1.241556,
     "end_time": "2025-08-19T18:59:21.768857",
     "exception": false,
     "start_time": "2025-08-19T18:59:20.527301",
     "status": "completed"
    },
    "tags": []
   },
   "outputs": [],
   "source": [
    "from fairness_multiverse.conformal import predict_conformal_sets\n",
    "\n",
    "# Generate prediction sets for each test example\n",
    "pred_sets = predict_conformal_sets(model, X_test, q_hat)"
   ]
  },
  {
   "cell_type": "code",
   "execution_count": 44,
   "id": "97f67a6b",
   "metadata": {
    "execution": {
     "iopub.execute_input": "2025-08-19T18:59:21.814229Z",
     "iopub.status.busy": "2025-08-19T18:59:21.812662Z",
     "iopub.status.idle": "2025-08-19T18:59:21.824750Z",
     "shell.execute_reply": "2025-08-19T18:59:21.822812Z"
    },
    "papermill": {
     "duration": 0.02954,
     "end_time": "2025-08-19T18:59:21.826239",
     "exception": false,
     "start_time": "2025-08-19T18:59:21.796699",
     "status": "completed"
    },
    "tags": []
   },
   "outputs": [],
   "source": [
    "y_true = y_true.squeeze()"
   ]
  },
  {
   "cell_type": "code",
   "execution_count": 45,
   "id": "e700e9a7",
   "metadata": {
    "execution": {
     "iopub.execute_input": "2025-08-19T18:59:21.856098Z",
     "iopub.status.busy": "2025-08-19T18:59:21.855038Z",
     "iopub.status.idle": "2025-08-19T18:59:22.393859Z",
     "shell.execute_reply": "2025-08-19T18:59:22.392735Z"
    },
    "papermill": {
     "duration": 0.554238,
     "end_time": "2025-08-19T18:59:22.395525",
     "exception": false,
     "start_time": "2025-08-19T18:59:21.841287",
     "status": "completed"
    },
    "tags": []
   },
   "outputs": [],
   "source": [
    "from fairness_multiverse.conformal import evaluate_sets\n",
    "\n",
    "# Evaluate coverage and average set size on test data\n",
    "metrics = evaluate_sets(pred_sets, y_true)"
   ]
  },
  {
   "cell_type": "markdown",
   "id": "efbacec0",
   "metadata": {
    "papermill": {
     "duration": 0.011398,
     "end_time": "2025-08-19T18:59:22.420353",
     "exception": false,
     "start_time": "2025-08-19T18:59:22.408955",
     "status": "completed"
    },
    "tags": []
   },
   "source": [
    "# CP Metrics"
   ]
  },
  {
   "cell_type": "code",
   "execution_count": 46,
   "id": "9de55fb1",
   "metadata": {
    "execution": {
     "iopub.execute_input": "2025-08-19T18:59:22.447288Z",
     "iopub.status.busy": "2025-08-19T18:59:22.445614Z",
     "iopub.status.idle": "2025-08-19T18:59:22.461974Z",
     "shell.execute_reply": "2025-08-19T18:59:22.460308Z"
    },
    "papermill": {
     "duration": 0.031827,
     "end_time": "2025-08-19T18:59:22.463596",
     "exception": false,
     "start_time": "2025-08-19T18:59:22.431769",
     "status": "completed"
    },
    "tags": []
   },
   "outputs": [
    {
     "data": {
      "text/plain": [
       "{'coverage': 0.909976591238435, 'avg_size': 1.1852301861553896}"
      ]
     },
     "execution_count": 46,
     "metadata": {},
     "output_type": "execute_result"
    }
   ],
   "source": [
    "metrics"
   ]
  },
  {
   "cell_type": "code",
   "execution_count": 47,
   "id": "64c340a1",
   "metadata": {
    "execution": {
     "iopub.execute_input": "2025-08-19T18:59:22.495701Z",
     "iopub.status.busy": "2025-08-19T18:59:22.494432Z",
     "iopub.status.idle": "2025-08-19T18:59:22.506152Z",
     "shell.execute_reply": "2025-08-19T18:59:22.504398Z"
    },
    "papermill": {
     "duration": 0.026699,
     "end_time": "2025-08-19T18:59:22.507701",
     "exception": false,
     "start_time": "2025-08-19T18:59:22.481002",
     "status": "completed"
    },
    "tags": []
   },
   "outputs": [],
   "source": [
    "example_universe = universe.copy()\n",
    "universe_training_year = example_universe.get(\"training_year\")\n",
    "universe_training_size = example_universe.get(\"training_size\")\n",
    "universe_scale = example_universe.get(\"scale\")\n",
    "universe_model = example_universe.get(\"model\")\n",
    "universe_exclude_features = example_universe.get(\"exclude_features\")\n",
    "universe_exclude_subgroups = example_universe.get(\"exclude_subgroups\")"
   ]
  },
  {
   "cell_type": "code",
   "execution_count": 48,
   "id": "dbb53cb4",
   "metadata": {
    "execution": {
     "iopub.execute_input": "2025-08-19T18:59:22.544526Z",
     "iopub.status.busy": "2025-08-19T18:59:22.541795Z",
     "iopub.status.idle": "2025-08-19T18:59:22.555221Z",
     "shell.execute_reply": "2025-08-19T18:59:22.554101Z"
    },
    "papermill": {
     "duration": 0.029194,
     "end_time": "2025-08-19T18:59:22.556603",
     "exception": false,
     "start_time": "2025-08-19T18:59:22.527409",
     "status": "completed"
    },
    "tags": []
   },
   "outputs": [],
   "source": [
    "cp_metrics_dict = {\n",
    "    \"universe_id\": [universe_id],\n",
    "    \"universe_training_year\": [universe_training_year],\n",
    "    \"universe_training_size\": [universe_training_size],\n",
    "    \"universe_scale\": [universe_scale],\n",
    "    \"universe_model\": [universe_model],\n",
    "    \"universe_exclude_features\": [universe_exclude_features],\n",
    "    \"universe_exclude_subgroups\": [universe_exclude_subgroups],\n",
    "    \"q_hat\": [q_hat],\n",
    "    \"coverage\": [metrics[\"coverage\"]],\n",
    "    \"avg_size\": [metrics[\"avg_size\"]],\n",
    "}"
   ]
  },
  {
   "cell_type": "code",
   "execution_count": 49,
   "id": "0d70d4b2",
   "metadata": {
    "execution": {
     "iopub.execute_input": "2025-08-19T18:59:22.589937Z",
     "iopub.status.busy": "2025-08-19T18:59:22.588733Z",
     "iopub.status.idle": "2025-08-19T18:59:22.604409Z",
     "shell.execute_reply": "2025-08-19T18:59:22.603079Z"
    },
    "papermill": {
     "duration": 0.030672,
     "end_time": "2025-08-19T18:59:22.605933",
     "exception": false,
     "start_time": "2025-08-19T18:59:22.575261",
     "status": "completed"
    },
    "tags": []
   },
   "outputs": [],
   "source": [
    "cp_metrics_df = pd.DataFrame(cp_metrics_dict)"
   ]
  },
  {
   "cell_type": "code",
   "execution_count": 50,
   "id": "b494403c",
   "metadata": {
    "execution": {
     "iopub.execute_input": "2025-08-19T18:59:22.637374Z",
     "iopub.status.busy": "2025-08-19T18:59:22.636330Z",
     "iopub.status.idle": "2025-08-19T18:59:22.663141Z",
     "shell.execute_reply": "2025-08-19T18:59:22.662126Z"
    },
    "papermill": {
     "duration": 0.043135,
     "end_time": "2025-08-19T18:59:22.665448",
     "exception": false,
     "start_time": "2025-08-19T18:59:22.622313",
     "status": "completed"
    },
    "tags": []
   },
   "outputs": [
    {
     "data": {
      "text/html": [
       "<div>\n",
       "<style scoped>\n",
       "    .dataframe tbody tr th:only-of-type {\n",
       "        vertical-align: middle;\n",
       "    }\n",
       "\n",
       "    .dataframe tbody tr th {\n",
       "        vertical-align: top;\n",
       "    }\n",
       "\n",
       "    .dataframe thead th {\n",
       "        text-align: right;\n",
       "    }\n",
       "</style>\n",
       "<table border=\"1\" class=\"dataframe\">\n",
       "  <thead>\n",
       "    <tr style=\"text-align: right;\">\n",
       "      <th></th>\n",
       "      <th>universe_id</th>\n",
       "      <th>universe_training_year</th>\n",
       "      <th>universe_training_size</th>\n",
       "      <th>universe_scale</th>\n",
       "      <th>universe_model</th>\n",
       "      <th>universe_exclude_features</th>\n",
       "      <th>universe_exclude_subgroups</th>\n",
       "      <th>q_hat</th>\n",
       "      <th>coverage</th>\n",
       "      <th>avg_size</th>\n",
       "    </tr>\n",
       "  </thead>\n",
       "  <tbody>\n",
       "    <tr>\n",
       "      <th>0</th>\n",
       "      <td>fcddc6e15fac6ef4e6faa012478a032b</td>\n",
       "      <td>2012_14</td>\n",
       "      <td>1k</td>\n",
       "      <td>scale</td>\n",
       "      <td>gbm</td>\n",
       "      <td>none</td>\n",
       "      <td>drop-non-german</td>\n",
       "      <td>0.77922</td>\n",
       "      <td>0.909977</td>\n",
       "      <td>1.18523</td>\n",
       "    </tr>\n",
       "  </tbody>\n",
       "</table>\n",
       "</div>"
      ],
      "text/plain": [
       "                        universe_id universe_training_year  \\\n",
       "0  fcddc6e15fac6ef4e6faa012478a032b                2012_14   \n",
       "\n",
       "  universe_training_size universe_scale universe_model  \\\n",
       "0                     1k          scale            gbm   \n",
       "\n",
       "  universe_exclude_features universe_exclude_subgroups    q_hat  coverage  \\\n",
       "0                      none            drop-non-german  0.77922  0.909977   \n",
       "\n",
       "   avg_size  \n",
       "0   1.18523  "
      ]
     },
     "execution_count": 50,
     "metadata": {},
     "output_type": "execute_result"
    }
   ],
   "source": [
    "cp_metrics_df"
   ]
  },
  {
   "cell_type": "markdown",
   "id": "ed608b0b",
   "metadata": {
    "papermill": {
     "duration": 0.012087,
     "end_time": "2025-08-19T18:59:22.716725",
     "exception": false,
     "start_time": "2025-08-19T18:59:22.704638",
     "status": "completed"
    },
    "tags": []
   },
   "source": [
    "Conditional coverage & looking at subgroups"
   ]
  },
  {
   "cell_type": "code",
   "execution_count": 51,
   "id": "8968c366",
   "metadata": {
    "execution": {
     "iopub.execute_input": "2025-08-19T18:59:22.743057Z",
     "iopub.status.busy": "2025-08-19T18:59:22.742535Z",
     "iopub.status.idle": "2025-08-19T18:59:23.033790Z",
     "shell.execute_reply": "2025-08-19T18:59:23.033019Z"
    },
    "papermill": {
     "duration": 0.306103,
     "end_time": "2025-08-19T18:59:23.035203",
     "exception": false,
     "start_time": "2025-08-19T18:59:22.729100",
     "status": "completed"
    },
    "tags": []
   },
   "outputs": [],
   "source": [
    "from fairness_multiverse.conformal import build_cp_groups\n",
    "\n",
    "cp_groups_df = build_cp_groups(pred_sets, y_true, X_test.index, org_test)"
   ]
  },
  {
   "cell_type": "code",
   "execution_count": 52,
   "id": "292ddabf",
   "metadata": {
    "execution": {
     "iopub.execute_input": "2025-08-19T18:59:23.063750Z",
     "iopub.status.busy": "2025-08-19T18:59:23.062997Z",
     "iopub.status.idle": "2025-08-19T18:59:23.996076Z",
     "shell.execute_reply": "2025-08-19T18:59:23.994872Z"
    },
    "papermill": {
     "duration": 0.948999,
     "end_time": "2025-08-19T18:59:23.997650",
     "exception": false,
     "start_time": "2025-08-19T18:59:23.048651",
     "status": "completed"
    },
    "tags": []
   },
   "outputs": [],
   "source": [
    "# Define covered = 1 if true_label is in the predicted set\n",
    "cp_groups_df['covered'] = cp_groups_df.apply(\n",
    "    lambda r: int(r['true_label'] in r['pred_set']),\n",
    "    axis=1\n",
    ")"
   ]
  },
  {
   "cell_type": "code",
   "execution_count": 53,
   "id": "3a261692",
   "metadata": {
    "execution": {
     "iopub.execute_input": "2025-08-19T18:59:24.032654Z",
     "iopub.status.busy": "2025-08-19T18:59:24.029899Z",
     "iopub.status.idle": "2025-08-19T18:59:24.050860Z",
     "shell.execute_reply": "2025-08-19T18:59:24.050092Z"
    },
    "papermill": {
     "duration": 0.04167,
     "end_time": "2025-08-19T18:59:24.052585",
     "exception": false,
     "start_time": "2025-08-19T18:59:24.010915",
     "status": "completed"
    },
    "tags": []
   },
   "outputs": [],
   "source": [
    "subgroups = ['frau1','nongerman','nongerman_male','nongerman_female']\n",
    "\n",
    "# Conditional coverage for subgroup==1\n",
    "cond_coverage = {\n",
    "    g: cp_groups_df.loc[cp_groups_df[g]==1, 'covered'].mean()\n",
    "    for g in subgroups\n",
    "}"
   ]
  },
  {
   "cell_type": "code",
   "execution_count": 54,
   "id": "894fd600",
   "metadata": {
    "execution": {
     "iopub.execute_input": "2025-08-19T18:59:24.085301Z",
     "iopub.status.busy": "2025-08-19T18:59:24.081954Z",
     "iopub.status.idle": "2025-08-19T18:59:24.093711Z",
     "shell.execute_reply": "2025-08-19T18:59:24.093009Z"
    },
    "papermill": {
     "duration": 0.028883,
     "end_time": "2025-08-19T18:59:24.095202",
     "exception": false,
     "start_time": "2025-08-19T18:59:24.066319",
     "status": "completed"
    },
    "tags": []
   },
   "outputs": [
    {
     "data": {
      "text/plain": [
       "{'frau1': 0.9040841083704003,\n",
       " 'nongerman': 0.9048447762869815,\n",
       " 'nongerman_male': 0.9239845086913446,\n",
       " 'nongerman_female': 0.8731743666169896}"
      ]
     },
     "execution_count": 54,
     "metadata": {},
     "output_type": "execute_result"
    }
   ],
   "source": [
    "cond_coverage"
   ]
  },
  {
   "cell_type": "code",
   "execution_count": 55,
   "id": "942895c7",
   "metadata": {
    "execution": {
     "iopub.execute_input": "2025-08-19T18:59:24.123711Z",
     "iopub.status.busy": "2025-08-19T18:59:24.123428Z",
     "iopub.status.idle": "2025-08-19T18:59:24.130303Z",
     "shell.execute_reply": "2025-08-19T18:59:24.129184Z"
    },
    "papermill": {
     "duration": 0.02363,
     "end_time": "2025-08-19T18:59:24.134185",
     "exception": false,
     "start_time": "2025-08-19T18:59:24.110555",
     "status": "completed"
    },
    "tags": []
   },
   "outputs": [],
   "source": [
    "for subgroup, cov in cond_coverage.items():\n",
    "    cp_metrics_df[f\"cov_{subgroup}\"] = cov"
   ]
  },
  {
   "cell_type": "code",
   "execution_count": 56,
   "id": "3970120f",
   "metadata": {
    "execution": {
     "iopub.execute_input": "2025-08-19T18:59:24.171272Z",
     "iopub.status.busy": "2025-08-19T18:59:24.170274Z",
     "iopub.status.idle": "2025-08-19T18:59:24.201954Z",
     "shell.execute_reply": "2025-08-19T18:59:24.200592Z"
    },
    "papermill": {
     "duration": 0.048826,
     "end_time": "2025-08-19T18:59:24.205118",
     "exception": false,
     "start_time": "2025-08-19T18:59:24.156292",
     "status": "completed"
    },
    "tags": []
   },
   "outputs": [
    {
     "data": {
      "text/html": [
       "<div>\n",
       "<style scoped>\n",
       "    .dataframe tbody tr th:only-of-type {\n",
       "        vertical-align: middle;\n",
       "    }\n",
       "\n",
       "    .dataframe tbody tr th {\n",
       "        vertical-align: top;\n",
       "    }\n",
       "\n",
       "    .dataframe thead th {\n",
       "        text-align: right;\n",
       "    }\n",
       "</style>\n",
       "<table border=\"1\" class=\"dataframe\">\n",
       "  <thead>\n",
       "    <tr style=\"text-align: right;\">\n",
       "      <th></th>\n",
       "      <th>universe_id</th>\n",
       "      <th>universe_training_year</th>\n",
       "      <th>universe_training_size</th>\n",
       "      <th>universe_scale</th>\n",
       "      <th>universe_model</th>\n",
       "      <th>universe_exclude_features</th>\n",
       "      <th>universe_exclude_subgroups</th>\n",
       "      <th>q_hat</th>\n",
       "      <th>coverage</th>\n",
       "      <th>avg_size</th>\n",
       "      <th>cov_frau1</th>\n",
       "      <th>cov_nongerman</th>\n",
       "      <th>cov_nongerman_male</th>\n",
       "      <th>cov_nongerman_female</th>\n",
       "    </tr>\n",
       "  </thead>\n",
       "  <tbody>\n",
       "    <tr>\n",
       "      <th>0</th>\n",
       "      <td>fcddc6e15fac6ef4e6faa012478a032b</td>\n",
       "      <td>2012_14</td>\n",
       "      <td>1k</td>\n",
       "      <td>scale</td>\n",
       "      <td>gbm</td>\n",
       "      <td>none</td>\n",
       "      <td>drop-non-german</td>\n",
       "      <td>0.77922</td>\n",
       "      <td>0.909977</td>\n",
       "      <td>1.18523</td>\n",
       "      <td>0.904084</td>\n",
       "      <td>0.904845</td>\n",
       "      <td>0.923985</td>\n",
       "      <td>0.873174</td>\n",
       "    </tr>\n",
       "  </tbody>\n",
       "</table>\n",
       "</div>"
      ],
      "text/plain": [
       "                        universe_id universe_training_year  \\\n",
       "0  fcddc6e15fac6ef4e6faa012478a032b                2012_14   \n",
       "\n",
       "  universe_training_size universe_scale universe_model  \\\n",
       "0                     1k          scale            gbm   \n",
       "\n",
       "  universe_exclude_features universe_exclude_subgroups    q_hat  coverage  \\\n",
       "0                      none            drop-non-german  0.77922  0.909977   \n",
       "\n",
       "   avg_size  cov_frau1  cov_nongerman  cov_nongerman_male  \\\n",
       "0   1.18523   0.904084       0.904845            0.923985   \n",
       "\n",
       "   cov_nongerman_female  \n",
       "0              0.873174  "
      ]
     },
     "execution_count": 56,
     "metadata": {},
     "output_type": "execute_result"
    }
   ],
   "source": [
    "cp_metrics_df"
   ]
  },
  {
   "cell_type": "markdown",
   "id": "3fc519cc",
   "metadata": {
    "papermill": {
     "duration": 0.012692,
     "end_time": "2025-08-19T18:59:24.238604",
     "exception": false,
     "start_time": "2025-08-19T18:59:24.225912",
     "status": "completed"
    },
    "tags": []
   },
   "source": [
    "# (Fairness) Metrics"
   ]
  },
  {
   "cell_type": "code",
   "execution_count": 57,
   "id": "a2e5e155",
   "metadata": {
    "execution": {
     "iopub.execute_input": "2025-08-19T18:59:24.265768Z",
     "iopub.status.busy": "2025-08-19T18:59:24.264725Z",
     "iopub.status.idle": "2025-08-19T18:59:24.294010Z",
     "shell.execute_reply": "2025-08-19T18:59:24.293234Z"
    },
    "papermill": {
     "duration": 0.044811,
     "end_time": "2025-08-19T18:59:24.295345",
     "exception": false,
     "start_time": "2025-08-19T18:59:24.250534",
     "status": "completed"
    },
    "tags": []
   },
   "outputs": [],
   "source": [
    "colname_to_bin = \"maxdeutsch1\"\n",
    "majority_value = org_train[colname_to_bin].mode()[0]\n",
    "\n",
    "org_test[\"majmin\"] = np.where(org_test[colname_to_bin] == majority_value, \"majority\", \"minority\")"
   ]
  },
  {
   "cell_type": "code",
   "execution_count": 58,
   "id": "17e3e4d5",
   "metadata": {
    "execution": {
     "iopub.execute_input": "2025-08-19T18:59:24.321066Z",
     "iopub.status.busy": "2025-08-19T18:59:24.320616Z",
     "iopub.status.idle": "2025-08-19T18:59:26.144320Z",
     "shell.execute_reply": "2025-08-19T18:59:26.143212Z"
    },
    "papermill": {
     "duration": 1.838069,
     "end_time": "2025-08-19T18:59:26.145749",
     "exception": false,
     "start_time": "2025-08-19T18:59:24.307680",
     "status": "completed"
    },
    "tags": []
   },
   "outputs": [],
   "source": [
    "example_universe = universe.copy()\n",
    "example_universe[\"cutoff\"] = example_universe[\"cutoff\"][0]\n",
    "example_universe[\"eval_fairness_grouping\"] = example_universe[\"eval_fairness_grouping\"][0]\n",
    "fairness_dict, metric_frame = universe_analysis.compute_metrics(\n",
    "    example_universe,\n",
    "    y_pred_prob=probs_test,\n",
    "    y_test=y_true,\n",
    "    org_test=org_test,\n",
    ")"
   ]
  },
  {
   "cell_type": "markdown",
   "id": "1fb7a0e9",
   "metadata": {
    "papermill": {
     "duration": 0.012211,
     "end_time": "2025-08-19T18:59:26.170904",
     "exception": false,
     "start_time": "2025-08-19T18:59:26.158693",
     "status": "completed"
    },
    "tags": []
   },
   "source": [
    "# Overall"
   ]
  },
  {
   "cell_type": "markdown",
   "id": "be1784b1",
   "metadata": {
    "papermill": {
     "duration": 0.015562,
     "end_time": "2025-08-19T18:59:26.198749",
     "exception": false,
     "start_time": "2025-08-19T18:59:26.183187",
     "status": "completed"
    },
    "tags": []
   },
   "source": [
    "Main fairness target: Equalized Odds. Seems to be a better fit than equal opportunity, since we're not only interested in Y = 1. Seems to be a better fit than demographic parity, since we also care about accuracy, not just equal distribution of preds.\n",
    "\n",
    "Pick column for computation of fairness metrics\n",
    "\n",
    "Performance\n",
    "Overall performance measures, most interesting in relation to the measures split by group below"
   ]
  },
  {
   "cell_type": "code",
   "execution_count": 59,
   "id": "b7672bee",
   "metadata": {
    "execution": {
     "iopub.execute_input": "2025-08-19T18:59:26.226370Z",
     "iopub.status.busy": "2025-08-19T18:59:26.226030Z",
     "iopub.status.idle": "2025-08-19T18:59:26.233927Z",
     "shell.execute_reply": "2025-08-19T18:59:26.233202Z"
    },
    "papermill": {
     "duration": 0.027734,
     "end_time": "2025-08-19T18:59:26.239222",
     "exception": false,
     "start_time": "2025-08-19T18:59:26.211488",
     "status": "completed"
    },
    "tags": []
   },
   "outputs": [
    {
     "data": {
      "text/plain": [
       "accuracy                   0.223219\n",
       "balanced accuracy          0.546118\n",
       "f1                         0.244615\n",
       "precision                  0.139740\n",
       "false positive rate        0.888213\n",
       "false negative rate        0.019552\n",
       "selection rate             0.900045\n",
       "count                  89710.000000\n",
       "dtype: float64"
      ]
     },
     "execution_count": 59,
     "metadata": {},
     "output_type": "execute_result"
    }
   ],
   "source": [
    "metric_frame.overall"
   ]
  },
  {
   "cell_type": "markdown",
   "id": "d93333c9",
   "metadata": {
    "papermill": {
     "duration": 0.012746,
     "end_time": "2025-08-19T18:59:26.266505",
     "exception": false,
     "start_time": "2025-08-19T18:59:26.253759",
     "status": "completed"
    },
    "tags": []
   },
   "source": [
    "By Group"
   ]
  },
  {
   "cell_type": "code",
   "execution_count": 60,
   "id": "52256966",
   "metadata": {
    "execution": {
     "iopub.execute_input": "2025-08-19T18:59:26.293583Z",
     "iopub.status.busy": "2025-08-19T18:59:26.293270Z",
     "iopub.status.idle": "2025-08-19T18:59:26.307578Z",
     "shell.execute_reply": "2025-08-19T18:59:26.306788Z"
    },
    "papermill": {
     "duration": 0.02955,
     "end_time": "2025-08-19T18:59:26.309032",
     "exception": false,
     "start_time": "2025-08-19T18:59:26.279482",
     "status": "completed"
    },
    "tags": []
   },
   "outputs": [
    {
     "data": {
      "text/html": [
       "<div>\n",
       "<style scoped>\n",
       "    .dataframe tbody tr th:only-of-type {\n",
       "        vertical-align: middle;\n",
       "    }\n",
       "\n",
       "    .dataframe tbody tr th {\n",
       "        vertical-align: top;\n",
       "    }\n",
       "\n",
       "    .dataframe thead th {\n",
       "        text-align: right;\n",
       "    }\n",
       "</style>\n",
       "<table border=\"1\" class=\"dataframe\">\n",
       "  <thead>\n",
       "    <tr style=\"text-align: right;\">\n",
       "      <th></th>\n",
       "      <th>accuracy</th>\n",
       "      <th>balanced accuracy</th>\n",
       "      <th>f1</th>\n",
       "      <th>precision</th>\n",
       "      <th>false positive rate</th>\n",
       "      <th>false negative rate</th>\n",
       "      <th>selection rate</th>\n",
       "      <th>count</th>\n",
       "    </tr>\n",
       "    <tr>\n",
       "      <th>majmin</th>\n",
       "      <th></th>\n",
       "      <th></th>\n",
       "      <th></th>\n",
       "      <th></th>\n",
       "      <th></th>\n",
       "      <th></th>\n",
       "      <th></th>\n",
       "      <th></th>\n",
       "    </tr>\n",
       "  </thead>\n",
       "  <tbody>\n",
       "    <tr>\n",
       "      <th>majority</th>\n",
       "      <td>0.24353</td>\n",
       "      <td>0.555133</td>\n",
       "      <td>0.254789</td>\n",
       "      <td>0.146459</td>\n",
       "      <td>0.868399</td>\n",
       "      <td>0.021335</td>\n",
       "      <td>0.882969</td>\n",
       "      <td>69170.0</td>\n",
       "    </tr>\n",
       "    <tr>\n",
       "      <th>minority</th>\n",
       "      <td>0.15482</td>\n",
       "      <td>0.516833</td>\n",
       "      <td>0.212198</td>\n",
       "      <td>0.118873</td>\n",
       "      <td>0.953665</td>\n",
       "      <td>0.012669</td>\n",
       "      <td>0.957546</td>\n",
       "      <td>20540.0</td>\n",
       "    </tr>\n",
       "  </tbody>\n",
       "</table>\n",
       "</div>"
      ],
      "text/plain": [
       "          accuracy  balanced accuracy        f1  precision  \\\n",
       "majmin                                                       \n",
       "majority   0.24353           0.555133  0.254789   0.146459   \n",
       "minority   0.15482           0.516833  0.212198   0.118873   \n",
       "\n",
       "          false positive rate  false negative rate  selection rate    count  \n",
       "majmin                                                                       \n",
       "majority             0.868399             0.021335        0.882969  69170.0  \n",
       "minority             0.953665             0.012669        0.957546  20540.0  "
      ]
     },
     "execution_count": 60,
     "metadata": {},
     "output_type": "execute_result"
    }
   ],
   "source": [
    "metric_frame.by_group"
   ]
  },
  {
   "cell_type": "code",
   "execution_count": 61,
   "id": "6e6c20ae",
   "metadata": {
    "execution": {
     "iopub.execute_input": "2025-08-19T18:59:26.339217Z",
     "iopub.status.busy": "2025-08-19T18:59:26.338897Z",
     "iopub.status.idle": "2025-08-19T18:59:28.227259Z",
     "shell.execute_reply": "2025-08-19T18:59:28.226356Z"
    },
    "papermill": {
     "duration": 1.903886,
     "end_time": "2025-08-19T18:59:28.228547",
     "exception": false,
     "start_time": "2025-08-19T18:59:26.324661",
     "status": "completed"
    },
    "tags": []
   },
   "outputs": [
    {
     "data": {
      "text/plain": [
       "array([[<Axes: title={'center': 'accuracy'}, xlabel='majmin'>,\n",
       "        <Axes: title={'center': 'balanced accuracy'}, xlabel='majmin'>,\n",
       "        <Axes: title={'center': 'f1'}, xlabel='majmin'>],\n",
       "       [<Axes: title={'center': 'precision'}, xlabel='majmin'>,\n",
       "        <Axes: title={'center': 'false positive rate'}, xlabel='majmin'>,\n",
       "        <Axes: title={'center': 'false negative rate'}, xlabel='majmin'>],\n",
       "       [<Axes: title={'center': 'selection rate'}, xlabel='majmin'>,\n",
       "        <Axes: title={'center': 'count'}, xlabel='majmin'>,\n",
       "        <Axes: xlabel='majmin'>]], dtype=object)"
      ]
     },
     "execution_count": 61,
     "metadata": {},
     "output_type": "execute_result"
    },
    {
     "data": {
      "image/png": "[encoded data removed]",
      "text/plain": [
       "<Figure size 1200x800 with 9 Axes>"
      ]
     },
     "metadata": {},
     "output_type": "display_data"
    }
   ],
   "source": [
    "# In a graphic\n",
    "metric_frame.by_group.plot.bar(\n",
    "    subplots=True,\n",
    "    layout=[3, 3],\n",
    "    legend=False,\n",
    "    figsize=[12, 8],\n",
    "    title=\"Show all metrics\",\n",
    ")"
   ]
  },
  {
   "cell_type": "markdown",
   "id": "b2e433ae",
   "metadata": {
    "papermill": {
     "duration": 0.0136,
     "end_time": "2025-08-19T18:59:28.256459",
     "exception": false,
     "start_time": "2025-08-19T18:59:28.242859",
     "status": "completed"
    },
    "tags": []
   },
   "source": [
    "# Final Output"
   ]
  },
  {
   "cell_type": "code",
   "execution_count": 62,
   "id": "3871301e",
   "metadata": {
    "execution": {
     "iopub.execute_input": "2025-08-19T18:59:28.288034Z",
     "iopub.status.busy": "2025-08-19T18:59:28.285808Z",
     "iopub.status.idle": "2025-08-19T18:59:28.304624Z",
     "shell.execute_reply": "2025-08-19T18:59:28.303652Z"
    },
    "papermill": {
     "duration": 0.036535,
     "end_time": "2025-08-19T18:59:28.306239",
     "exception": false,
     "start_time": "2025-08-19T18:59:28.269704",
     "status": "completed"
    },
    "tags": []
   },
   "outputs": [
    {
     "data": {
      "text/plain": [
       "4"
      ]
     },
     "execution_count": 62,
     "metadata": {},
     "output_type": "execute_result"
    }
   ],
   "source": [
    "sub_universes = universe_analysis.generate_sub_universes()\n",
    "len(sub_universes)"
   ]
  },
  {
   "cell_type": "code",
   "execution_count": 63,
   "id": "d9cfdaca",
   "metadata": {
    "execution": {
     "iopub.execute_input": "2025-08-19T18:59:28.343386Z",
     "iopub.status.busy": "2025-08-19T18:59:28.342920Z",
     "iopub.status.idle": "2025-08-19T18:59:28.349793Z",
     "shell.execute_reply": "2025-08-19T18:59:28.348854Z"
    },
    "papermill": {
     "duration": 0.023703,
     "end_time": "2025-08-19T18:59:28.350943",
     "exception": false,
     "start_time": "2025-08-19T18:59:28.327240",
     "status": "completed"
    },
    "tags": []
   },
   "outputs": [],
   "source": [
    "def filter_sub_universe_data(sub_universe, org_test):\n",
    "    # Keep all rows — no filtering\n",
    "    keep_rows_mask = np.ones(org_test.shape[0], dtype=bool)\n",
    "\n",
    "    print(f\"[INFO] Keeping all rows: {keep_rows_mask.sum()} rows retained.\")\n",
    "    return keep_rows_mask"
   ]
  },
  {
   "cell_type": "code",
   "execution_count": 64,
   "id": "2bc31ac1",
   "metadata": {
    "execution": {
     "iopub.execute_input": "2025-08-19T18:59:28.384574Z",
     "iopub.status.busy": "2025-08-19T18:59:28.383454Z",
     "iopub.status.idle": "2025-08-19T18:59:35.245150Z",
     "shell.execute_reply": "2025-08-19T18:59:35.244089Z"
    },
    "papermill": {
     "duration": 6.878921,
     "end_time": "2025-08-19T18:59:35.246617",
     "exception": false,
     "start_time": "2025-08-19T18:59:28.367696",
     "status": "completed"
    },
    "tags": []
   },
   "outputs": [
    {
     "name": "stdout",
     "output_type": "stream",
     "text": [
      "Stopping execution_time clock.\n",
      "[INFO] Keeping all rows: 89710 rows retained.\n"
     ]
    },
    {
     "name": "stdout",
     "output_type": "stream",
     "text": [
      "[INFO] Keeping all rows: 89710 rows retained.\n"
     ]
    },
    {
     "name": "stdout",
     "output_type": "stream",
     "text": [
      "[INFO] Keeping all rows: 89710 rows retained.\n"
     ]
    },
    {
     "name": "stdout",
     "output_type": "stream",
     "text": [
      "[INFO] Keeping all rows: 89710 rows retained.\n"
     ]
    },
    {
     "data": {
      "text/html": [
       "<div>\n",
       "<style scoped>\n",
       "    .dataframe tbody tr th:only-of-type {\n",
       "        vertical-align: middle;\n",
       "    }\n",
       "\n",
       "    .dataframe tbody tr th {\n",
       "        vertical-align: top;\n",
       "    }\n",
       "\n",
       "    .dataframe thead th {\n",
       "        text-align: right;\n",
       "    }\n",
       "</style>\n",
       "<table border=\"1\" class=\"dataframe\">\n",
       "  <thead>\n",
       "    <tr style=\"text-align: right;\">\n",
       "      <th></th>\n",
       "      <th>run_no</th>\n",
       "      <th>universe_id</th>\n",
       "      <th>universe_settings</th>\n",
       "      <th>execution_time</th>\n",
       "      <th>test_size_n</th>\n",
       "      <th>test_size_frac</th>\n",
       "      <th>fair_main_equalized_odds_difference</th>\n",
       "      <th>fair_main_equalized_odds_ratio</th>\n",
       "      <th>fair_main_demographic_parity_difference</th>\n",
       "      <th>fair_main_demographic_parity_ratio</th>\n",
       "      <th>...</th>\n",
       "      <th>perf_grp_precision_0</th>\n",
       "      <th>perf_grp_precision_1</th>\n",
       "      <th>perf_grp_false positive rate_0</th>\n",
       "      <th>perf_grp_false positive rate_1</th>\n",
       "      <th>perf_grp_false negative rate_0</th>\n",
       "      <th>perf_grp_false negative rate_1</th>\n",
       "      <th>perf_grp_selection rate_0</th>\n",
       "      <th>perf_grp_selection rate_1</th>\n",
       "      <th>perf_grp_count_0</th>\n",
       "      <th>perf_grp_count_1</th>\n",
       "    </tr>\n",
       "  </thead>\n",
       "  <tbody>\n",
       "    <tr>\n",
       "      <th>0</th>\n",
       "      <td>3</td>\n",
       "      <td>fcddc6e15fac6ef4e6faa012478a032b</td>\n",
       "      <td>{\"cutoff\": \"quantile_0.1\", \"eval_fairness_grou...</td>\n",
       "      <td>24.992835</td>\n",
       "      <td>89710</td>\n",
       "      <td>1.0</td>\n",
       "      <td>0.085266</td>\n",
       "      <td>0.910591</td>\n",
       "      <td>0.074577</td>\n",
       "      <td>0.922117</td>\n",
       "      <td>...</td>\n",
       "      <td>NaN</td>\n",
       "      <td>NaN</td>\n",
       "      <td>NaN</td>\n",
       "      <td>NaN</td>\n",
       "      <td>NaN</td>\n",
       "      <td>NaN</td>\n",
       "      <td>NaN</td>\n",
       "      <td>NaN</td>\n",
       "      <td>NaN</td>\n",
       "      <td>NaN</td>\n",
       "    </tr>\n",
       "    <tr>\n",
       "      <th>0</th>\n",
       "      <td>3</td>\n",
       "      <td>fcddc6e15fac6ef4e6faa012478a032b</td>\n",
       "      <td>{\"cutoff\": \"quantile_0.1\", \"eval_fairness_grou...</td>\n",
       "      <td>24.992835</td>\n",
       "      <td>89710</td>\n",
       "      <td>1.0</td>\n",
       "      <td>0.085266</td>\n",
       "      <td>0.910591</td>\n",
       "      <td>0.074577</td>\n",
       "      <td>0.922117</td>\n",
       "      <td>...</td>\n",
       "      <td>0.118873</td>\n",
       "      <td>0.146459</td>\n",
       "      <td>0.953665</td>\n",
       "      <td>0.868399</td>\n",
       "      <td>0.012669</td>\n",
       "      <td>0.021335</td>\n",
       "      <td>0.957546</td>\n",
       "      <td>0.882969</td>\n",
       "      <td>20540.0</td>\n",
       "      <td>69170.0</td>\n",
       "    </tr>\n",
       "    <tr>\n",
       "      <th>0</th>\n",
       "      <td>3</td>\n",
       "      <td>fcddc6e15fac6ef4e6faa012478a032b</td>\n",
       "      <td>{\"cutoff\": \"quantile_0.25\", \"eval_fairness_gro...</td>\n",
       "      <td>24.992835</td>\n",
       "      <td>89710</td>\n",
       "      <td>1.0</td>\n",
       "      <td>0.089024</td>\n",
       "      <td>0.887751</td>\n",
       "      <td>0.074779</td>\n",
       "      <td>0.907483</td>\n",
       "      <td>...</td>\n",
       "      <td>NaN</td>\n",
       "      <td>NaN</td>\n",
       "      <td>NaN</td>\n",
       "      <td>NaN</td>\n",
       "      <td>NaN</td>\n",
       "      <td>NaN</td>\n",
       "      <td>NaN</td>\n",
       "      <td>NaN</td>\n",
       "      <td>NaN</td>\n",
       "      <td>NaN</td>\n",
       "    </tr>\n",
       "    <tr>\n",
       "      <th>0</th>\n",
       "      <td>3</td>\n",
       "      <td>fcddc6e15fac6ef4e6faa012478a032b</td>\n",
       "      <td>{\"cutoff\": \"quantile_0.25\", \"eval_fairness_gro...</td>\n",
       "      <td>24.992835</td>\n",
       "      <td>89710</td>\n",
       "      <td>1.0</td>\n",
       "      <td>0.089024</td>\n",
       "      <td>0.887751</td>\n",
       "      <td>0.074779</td>\n",
       "      <td>0.907483</td>\n",
       "      <td>...</td>\n",
       "      <td>0.131912</td>\n",
       "      <td>0.166962</td>\n",
       "      <td>0.793088</td>\n",
       "      <td>0.704065</td>\n",
       "      <td>0.075169</td>\n",
       "      <td>0.073195</td>\n",
       "      <td>0.808277</td>\n",
       "      <td>0.733497</td>\n",
       "      <td>20540.0</td>\n",
       "      <td>69170.0</td>\n",
       "    </tr>\n",
       "  </tbody>\n",
       "</table>\n",
       "<p>4 rows × 50 columns</p>\n",
       "</div>"
      ],
      "text/plain": [
       "  run_no                       universe_id  \\\n",
       "0      3  fcddc6e15fac6ef4e6faa012478a032b   \n",
       "0      3  fcddc6e15fac6ef4e6faa012478a032b   \n",
       "0      3  fcddc6e15fac6ef4e6faa012478a032b   \n",
       "0      3  fcddc6e15fac6ef4e6faa012478a032b   \n",
       "\n",
       "                                   universe_settings  execution_time  \\\n",
       "0  {\"cutoff\": \"quantile_0.1\", \"eval_fairness_grou...       24.992835   \n",
       "0  {\"cutoff\": \"quantile_0.1\", \"eval_fairness_grou...       24.992835   \n",
       "0  {\"cutoff\": \"quantile_0.25\", \"eval_fairness_gro...       24.992835   \n",
       "0  {\"cutoff\": \"quantile_0.25\", \"eval_fairness_gro...       24.992835   \n",
       "\n",
       "   test_size_n  test_size_frac  fair_main_equalized_odds_difference  \\\n",
       "0        89710             1.0                             0.085266   \n",
       "0        89710             1.0                             0.085266   \n",
       "0        89710             1.0                             0.089024   \n",
       "0        89710             1.0                             0.089024   \n",
       "\n",
       "   fair_main_equalized_odds_ratio  fair_main_demographic_parity_difference  \\\n",
       "0                        0.910591                                 0.074577   \n",
       "0                        0.910591                                 0.074577   \n",
       "0                        0.887751                                 0.074779   \n",
       "0                        0.887751                                 0.074779   \n",
       "\n",
       "   fair_main_demographic_parity_ratio  ...  perf_grp_precision_0  \\\n",
       "0                            0.922117  ...                   NaN   \n",
       "0                            0.922117  ...              0.118873   \n",
       "0                            0.907483  ...                   NaN   \n",
       "0                            0.907483  ...              0.131912   \n",
       "\n",
       "   perf_grp_precision_1  perf_grp_false positive rate_0  \\\n",
       "0                   NaN                             NaN   \n",
       "0              0.146459                        0.953665   \n",
       "0                   NaN                             NaN   \n",
       "0              0.166962                        0.793088   \n",
       "\n",
       "   perf_grp_false positive rate_1  perf_grp_false negative rate_0  \\\n",
       "0                             NaN                             NaN   \n",
       "0                        0.868399                        0.012669   \n",
       "0                             NaN                             NaN   \n",
       "0                        0.704065                        0.075169   \n",
       "\n",
       "   perf_grp_false negative rate_1  perf_grp_selection rate_0  \\\n",
       "0                             NaN                        NaN   \n",
       "0                        0.021335                   0.957546   \n",
       "0                             NaN                        NaN   \n",
       "0                        0.073195                   0.808277   \n",
       "\n",
       "   perf_grp_selection rate_1  perf_grp_count_0  perf_grp_count_1  \n",
       "0                        NaN               NaN               NaN  \n",
       "0                   0.882969           20540.0           69170.0  \n",
       "0                        NaN               NaN               NaN  \n",
       "0                   0.733497           20540.0           69170.0  \n",
       "\n",
       "[4 rows x 50 columns]"
      ]
     },
     "execution_count": 64,
     "metadata": {},
     "output_type": "execute_result"
    }
   ],
   "source": [
    "final_output = universe_analysis.generate_final_output(\n",
    "    y_pred_prob=probs_test,\n",
    "    y_test=y_true,\n",
    "    org_test=org_test,\n",
    "    filter_data=filter_sub_universe_data,\n",
    "    cp_metrics_df=cp_metrics_df,\n",
    "    save=True,\n",
    ")\n",
    "final_output"
   ]
  },
  {
   "cell_type": "code",
   "execution_count": null,
   "id": "8b80a1ff",
   "metadata": {
    "papermill": {
     "duration": 0.014976,
     "end_time": "2025-08-19T18:59:35.281059",
     "exception": false,
     "start_time": "2025-08-19T18:59:35.266083",
     "status": "completed"
    },
    "tags": []
   },
   "outputs": [],
   "source": []
  },
  {
   "cell_type": "code",
   "execution_count": null,
   "id": "275c9fad",
   "metadata": {
    "papermill": {
     "duration": 0.014972,
     "end_time": "2025-08-19T18:59:35.310888",
     "exception": false,
     "start_time": "2025-08-19T18:59:35.295916",
     "status": "completed"
    },
    "tags": []
   },
   "outputs": [],
   "source": []
  }
 ],
 "metadata": {
  "celltoolbar": "Tags",
  "kernelspec": {
   "display_name": "Python (CMA Fairness)",
   "language": "python",
   "name": "cma_fair_env"
  },
  "language_info": {
   "codemirror_mode": {
    "name": "ipython",
    "version": 3
   },
   "file_extension": ".py",
   "mimetype": "text/x-python",
   "name": "python",
   "nbconvert_exporter": "python",
   "pygments_lexer": "ipython3",
   "version": "3.10.12"
  },
  "papermill": {
   "default_parameters": {},
   "duration": 35.803801,
   "end_time": "2025-08-19T18:59:36.255120",
   "environment_variables": {},
   "exception": null,
   "input_path": "universe_analysis.ipynb",
   "output_path": "output/runs/3/notebooks/m_3-fcddc6e15fac6ef4e6faa012478a032b.ipynb",
   "parameters": {
    "output_dir": "output",
    "run_no": "3",
    "seed": "2023",
    "universe": "{\"cutoff\": [\"quantile_0.1\", \"quantile_0.25\"], \"eval_fairness_grouping\": [\"majority-minority\", \"nationality-all\"], \"exclude_features\": \"none\", \"exclude_subgroups\": \"drop-non-german\", \"model\": \"gbm\", \"scale\": \"scale\", \"training_size\": \"1k\", \"training_year\": \"2012_14\"}",
    "universe_id": "fcddc6e15fac6ef4e6faa012478a032b"
   },
   "start_time": "2025-08-19T18:59:00.451319",
   "version": "2.6.0"
  }
 },
 "nbformat": 4,
 "nbformat_minor": 5
}