{
 "cells": [
  {
   "cell_type": "markdown",
   "id": "ef23dbb3",
   "metadata": {
    "papermill": {
     "duration": 0.009254,
     "end_time": "2025-08-19T19:02:52.927402",
     "exception": false,
     "start_time": "2025-08-19T19:02:52.918148",
     "status": "completed"
    },
    "tags": []
   },
   "source": [
    "# Setup"
   ]
  },
  {
   "cell_type": "code",
   "execution_count": 1,
   "id": "0bc8e7dc",
   "metadata": {
    "execution": {
     "iopub.execute_input": "2025-08-19T19:02:52.947184Z",
     "iopub.status.busy": "2025-08-19T19:02:52.946420Z",
     "iopub.status.idle": "2025-08-19T19:02:52.962834Z",
     "shell.execute_reply": "2025-08-19T19:02:52.961798Z"
    },
    "papermill": {
     "duration": 0.028932,
     "end_time": "2025-08-19T19:02:52.964989",
     "exception": false,
     "start_time": "2025-08-19T19:02:52.936057",
     "status": "completed"
    },
    "tags": []
   },
   "outputs": [
    {
     "name": "stdout",
     "output_type": "stream",
     "text": [
      "/dss/dsshome1/0C/ra93lal2/cma/CMA_Fairness_v2\n"
     ]
    },
    {
     "name": "stderr",
     "output_type": "stream",
     "text": [
      "/dss/dsshome1/0C/ra93lal2/.local/share/virtualenvs/CMA_Fairness_v2-3j10GkSs/lib/python3.10/site-packages/IPython/core/magics/osm.py:393: UserWarning: This is now an optional IPython functionality, using bookmarks requires you to install the `pickleshare` library.\n",
      "  bkms = self.shell.db.get('bookmarks', {})\n",
      "/dss/dsshome1/0C/ra93lal2/.local/share/virtualenvs/CMA_Fairness_v2-3j10GkSs/lib/python3.10/site-packages/IPython/core/magics/osm.py:417: UserWarning: This is now an optional IPython functionality, setting dhist requires you to install the `pickleshare` library.\n",
      "  self.shell.db['dhist'] = compress_dhist(dhist)[-100:]\n"
     ]
    }
   ],
   "source": [
    "%cd ~/cma/CMA_Fairness_v2"
   ]
  },
  {
   "cell_type": "markdown",
   "id": "9d235661",
   "metadata": {
    "papermill": {
     "duration": 0.008735,
     "end_time": "2025-08-19T19:02:52.985143",
     "exception": false,
     "start_time": "2025-08-19T19:02:52.976408",
     "status": "completed"
    },
    "tags": []
   },
   "source": [
    "The following cell holds the definition of our parameters, these values can be overriden by rendering the with e.g. the following command:\n",
    "\n",
    "papermill -p alpha 0.2 -p ratio 0.3 universe_analysis.ipynb output/test_run.ipynb"
   ]
  },
  {
   "cell_type": "code",
   "execution_count": 2,
   "id": "4a789d8e",
   "metadata": {
    "execution": {
     "iopub.execute_input": "2025-08-19T19:02:53.005655Z",
     "iopub.status.busy": "2025-08-19T19:02:53.004571Z",
     "iopub.status.idle": "2025-08-19T19:02:53.015215Z",
     "shell.execute_reply": "2025-08-19T19:02:53.012894Z"
    },
    "papermill": {
     "duration": 0.023047,
     "end_time": "2025-08-19T19:02:53.016962",
     "exception": false,
     "start_time": "2025-08-19T19:02:52.993915",
     "status": "completed"
    },
    "tags": []
   },
   "outputs": [
    {
     "name": "stdout",
     "output_type": "stream",
     "text": [
      "Current working directory: /dss/dsshome1/0C/ra93lal2/cma/CMA_Fairness_v2\n"
     ]
    }
   ],
   "source": [
    "import os\n",
    "print(\"Current working directory:\", os.getcwd())"
   ]
  },
  {
   "cell_type": "code",
   "execution_count": 3,
   "id": "4132aaed",
   "metadata": {
    "execution": {
     "iopub.execute_input": "2025-08-19T19:02:53.042011Z",
     "iopub.status.busy": "2025-08-19T19:02:53.040861Z",
     "iopub.status.idle": "2025-08-19T19:02:53.054291Z",
     "shell.execute_reply": "2025-08-19T19:02:53.053031Z"
    },
    "papermill": {
     "duration": 0.027494,
     "end_time": "2025-08-19T19:02:53.056069",
     "exception": false,
     "start_time": "2025-08-19T19:02:53.028575",
     "status": "completed"
    },
    "tags": [
     "parameters"
    ]
   },
   "outputs": [],
   "source": [
    "run_no = 0\n",
    "universe_id = \"test\"\n",
    "universe = {\n",
    "    \"training_size\": \"5k\", # \"25k\", \"5k\", \"1k\"\n",
    "    \"training_year\": \"2012_14\", # \"2014\", \"2012_14\", \"2010_14\"\n",
    "    \"scale\": \"scale\", # \"scale\", \"do-not-scale\",\n",
    "    \"model\": \"elasticnet\", # \"logreg\", \"penalized_logreg\", \"rf\", \"gbm\", \"elasticnet\"\n",
    "    \"cutoff\": [\"quantile_0.15\", \"quantile_0.30\"],\n",
    "    \"exclude_features\": \"age\", # \"none\", \"nationality\", \"sex\", \"nationality-sex\", \"age\"\n",
    "    \"exclude_subgroups\": \"drop-non-german\", # \"keep-all\", \"drop-non-german\"\n",
    "    \"eval_fairness_grouping\": [\"majority-minority\", \"nationality-all\"]\n",
    "}\n",
    "\n",
    "output_dir=\"./output\"\n",
    "seed=0"
   ]
  },
  {
   "cell_type": "code",
   "execution_count": 4,
   "id": "61598e89",
   "metadata": {
    "execution": {
     "iopub.execute_input": "2025-08-19T19:02:53.079798Z",
     "iopub.status.busy": "2025-08-19T19:02:53.079472Z",
     "iopub.status.idle": "2025-08-19T19:02:53.085876Z",
     "shell.execute_reply": "2025-08-19T19:02:53.084718Z"
    },
    "papermill": {
     "duration": 0.040822,
     "end_time": "2025-08-19T19:02:53.109056",
     "exception": false,
     "start_time": "2025-08-19T19:02:53.068234",
     "status": "completed"
    },
    "tags": [
     "injected-parameters"
    ]
   },
   "outputs": [],
   "source": [
    "# Parameters\n",
    "universe_id = \"f9e77d68c4ffbc01aa2a921b2adc2c77\"\n",
    "run_no = \"3\"\n",
    "universe = \"{\\\"cutoff\\\": [\\\"quantile_0.1\\\", \\\"quantile_0.25\\\"], \\\"eval_fairness_grouping\\\": [\\\"majority-minority\\\", \\\"nationality-all\\\"], \\\"exclude_features\\\": \\\"none\\\", \\\"exclude_subgroups\\\": \\\"keep-all\\\", \\\"model\\\": \\\"gbm\\\", \\\"scale\\\": \\\"do-not-scale\\\", \\\"training_size\\\": \\\"1k\\\", \\\"training_year\\\": \\\"2012_14\\\"}\"\n",
    "output_dir = \"output\"\n",
    "seed = \"2023\"\n"
   ]
  },
  {
   "cell_type": "code",
   "execution_count": 5,
   "id": "a5d7941f",
   "metadata": {
    "execution": {
     "iopub.execute_input": "2025-08-19T19:02:53.164209Z",
     "iopub.status.busy": "2025-08-19T19:02:53.163484Z",
     "iopub.status.idle": "2025-08-19T19:02:53.168781Z",
     "shell.execute_reply": "2025-08-19T19:02:53.168079Z"
    },
    "papermill": {
     "duration": 0.043127,
     "end_time": "2025-08-19T19:02:53.170434",
     "exception": false,
     "start_time": "2025-08-19T19:02:53.127307",
     "status": "completed"
    },
    "tags": []
   },
   "outputs": [],
   "source": [
    "import json\n",
    "if isinstance(universe, str):\n",
    "    universe = json.loads(universe)"
   ]
  },
  {
   "cell_type": "code",
   "execution_count": 6,
   "id": "7076ccb1",
   "metadata": {
    "execution": {
     "iopub.execute_input": "2025-08-19T19:02:53.200904Z",
     "iopub.status.busy": "2025-08-19T19:02:53.200398Z",
     "iopub.status.idle": "2025-08-19T19:02:53.270293Z",
     "shell.execute_reply": "2025-08-19T19:02:53.267240Z"
    },
    "papermill": {
     "duration": 0.084543,
     "end_time": "2025-08-19T19:02:53.273895",
     "exception": false,
     "start_time": "2025-08-19T19:02:53.189352",
     "status": "completed"
    },
    "tags": []
   },
   "outputs": [],
   "source": [
    "# Auto-reload the custom package\n",
    "%load_ext autoreload\n",
    "%autoreload 1\n",
    "%aimport fairness_multiverse"
   ]
  },
  {
   "cell_type": "code",
   "execution_count": 7,
   "id": "94c8eb93",
   "metadata": {
    "execution": {
     "iopub.execute_input": "2025-08-19T19:02:53.314951Z",
     "iopub.status.busy": "2025-08-19T19:02:53.314605Z",
     "iopub.status.idle": "2025-08-19T19:02:54.935973Z",
     "shell.execute_reply": "2025-08-19T19:02:54.934753Z"
    },
    "papermill": {
     "duration": 1.637795,
     "end_time": "2025-08-19T19:02:54.937764",
     "exception": false,
     "start_time": "2025-08-19T19:02:53.299969",
     "status": "completed"
    },
    "tags": []
   },
   "outputs": [],
   "source": [
    "from fairness_multiverse.universe import UniverseAnalysis\n",
    "\n",
    "universe_analysis = UniverseAnalysis(\n",
    "    run_no = run_no,\n",
    "    universe_id = universe_id,\n",
    "    universe = universe,\n",
    "    output_dir=output_dir,\n",
    ")"
   ]
  },
  {
   "cell_type": "code",
   "execution_count": 8,
   "id": "2a6381cf",
   "metadata": {
    "execution": {
     "iopub.execute_input": "2025-08-19T19:02:54.960687Z",
     "iopub.status.busy": "2025-08-19T19:02:54.959255Z",
     "iopub.status.idle": "2025-08-19T19:02:54.970284Z",
     "shell.execute_reply": "2025-08-19T19:02:54.968807Z"
    },
    "papermill": {
     "duration": 0.024387,
     "end_time": "2025-08-19T19:02:54.972029",
     "exception": false,
     "start_time": "2025-08-19T19:02:54.947642",
     "status": "completed"
    },
    "tags": []
   },
   "outputs": [
    {
     "name": "stdout",
     "output_type": "stream",
     "text": [
      "Using Seed: 2023\n"
     ]
    }
   ],
   "source": [
    "import numpy as np\n",
    "parsed_seed = int(seed)\n",
    "np.random.seed(parsed_seed)\n",
    "print(f\"Using Seed: {parsed_seed}\")"
   ]
  },
  {
   "cell_type": "markdown",
   "id": "b6e958b4",
   "metadata": {
    "papermill": {
     "duration": 0.029899,
     "end_time": "2025-08-19T19:02:55.014298",
     "exception": false,
     "start_time": "2025-08-19T19:02:54.984399",
     "status": "completed"
    },
    "tags": []
   },
   "source": [
    "# Loading Data"
   ]
  },
  {
   "cell_type": "code",
   "execution_count": 9,
   "id": "98701482",
   "metadata": {
    "execution": {
     "iopub.execute_input": "2025-08-19T19:02:55.038824Z",
     "iopub.status.busy": "2025-08-19T19:02:55.037875Z",
     "iopub.status.idle": "2025-08-19T19:03:05.118858Z",
     "shell.execute_reply": "2025-08-19T19:03:05.117566Z"
    },
    "papermill": {
     "duration": 10.094076,
     "end_time": "2025-08-19T19:03:05.120837",
     "exception": false,
     "start_time": "2025-08-19T19:02:55.026761",
     "status": "completed"
    },
    "tags": []
   },
   "outputs": [
    {
     "name": "stdout",
     "output_type": "stream",
     "text": [
      "Loading SIAB data from cache: data/siab_cached.csv.gz\n"
     ]
    },
    {
     "name": "stdout",
     "output_type": "stream",
     "text": [
      "(643690, 164)\n"
     ]
    }
   ],
   "source": [
    "from pathlib import Path\n",
    "import pandas as pd\n",
    "\n",
    "# File paths\n",
    "raw_file = Path(\"data/raw/siab.csv\")\n",
    "cache_file = Path(\"data/siab_cached.csv.gz\")\n",
    "\n",
    "# Ensure cache directory exists\n",
    "cache_file.parent.mkdir(parents=True, exist_ok=True)\n",
    "\n",
    "# Load with simple caching\n",
    "if cache_file.exists():\n",
    "    print(f\"Loading SIAB data from cache: {cache_file}\")\n",
    "    siab = pd.read_csv(cache_file, compression='gzip')\n",
    "else:\n",
    "    print(f\"Cache not found. Reading raw SIAB data: {raw_file}\")\n",
    "    siab = pd.read_csv(raw_file)\n",
    "    siab.to_csv(cache_file, index=False, compression='gzip')\n",
    "    print(f\"Cached SIAB data to: {cache_file}\")\n",
    "\n",
    "print(siab.shape)"
   ]
  },
  {
   "cell_type": "code",
   "execution_count": 10,
   "id": "058d2abb",
   "metadata": {
    "execution": {
     "iopub.execute_input": "2025-08-19T19:03:05.160910Z",
     "iopub.status.busy": "2025-08-19T19:03:05.158968Z",
     "iopub.status.idle": "2025-08-19T19:03:05.342559Z",
     "shell.execute_reply": "2025-08-19T19:03:05.341760Z"
    },
    "papermill": {
     "duration": 0.20784,
     "end_time": "2025-08-19T19:03:05.343905",
     "exception": false,
     "start_time": "2025-08-19T19:03:05.136065",
     "status": "completed"
    },
    "tags": []
   },
   "outputs": [
    {
     "data": {
      "text/html": [
       "<div>\n",
       "<style scoped>\n",
       "    .dataframe tbody tr th:only-of-type {\n",
       "        vertical-align: middle;\n",
       "    }\n",
       "\n",
       "    .dataframe tbody tr th {\n",
       "        vertical-align: top;\n",
       "    }\n",
       "\n",
       "    .dataframe thead th {\n",
       "        text-align: right;\n",
       "    }\n",
       "</style>\n",
       "<table border=\"1\" class=\"dataframe\">\n",
       "  <thead>\n",
       "    <tr style=\"text-align: right;\">\n",
       "      <th></th>\n",
       "      <th>persnr</th>\n",
       "      <th>year</th>\n",
       "      <th>nrEntry</th>\n",
       "      <th>ltue</th>\n",
       "      <th>employed_before</th>\n",
       "      <th>receipt_leh_before</th>\n",
       "      <th>receipt_lhg_before</th>\n",
       "      <th>se_before</th>\n",
       "      <th>ASU_notue_seeking_before</th>\n",
       "      <th>ASU_other_before</th>\n",
       "      <th>...</th>\n",
       "      <th>minijob_tot_dur_byage</th>\n",
       "      <th>ft_tot_dur_byage</th>\n",
       "      <th>befrist_tot_dur_byage</th>\n",
       "      <th>leih_tot_dur_byage</th>\n",
       "      <th>LHG_tot_dur_byage</th>\n",
       "      <th>LEH_tot_dur_byage</th>\n",
       "      <th>almp_tot_dur_byage</th>\n",
       "      <th>almp_aw_tot_dur_byage</th>\n",
       "      <th>se_tot_dur_byage</th>\n",
       "      <th>seeking1_tot_dur_byage</th>\n",
       "    </tr>\n",
       "  </thead>\n",
       "  <tbody>\n",
       "    <tr>\n",
       "      <th>0</th>\n",
       "      <td>7</td>\n",
       "      <td>2015</td>\n",
       "      <td>1</td>\n",
       "      <td>0</td>\n",
       "      <td>1</td>\n",
       "      <td>0</td>\n",
       "      <td>0</td>\n",
       "      <td>0</td>\n",
       "      <td>1</td>\n",
       "      <td>0</td>\n",
       "      <td>...</td>\n",
       "      <td>0.000000</td>\n",
       "      <td>0.000000</td>\n",
       "      <td>15.043478</td>\n",
       "      <td>0.000000</td>\n",
       "      <td>0.000000</td>\n",
       "      <td>0.000000</td>\n",
       "      <td>0.000000</td>\n",
       "      <td>0.000000</td>\n",
       "      <td>0.000000</td>\n",
       "      <td>0.000000</td>\n",
       "    </tr>\n",
       "    <tr>\n",
       "      <th>1</th>\n",
       "      <td>18</td>\n",
       "      <td>2010</td>\n",
       "      <td>1</td>\n",
       "      <td>1</td>\n",
       "      <td>0</td>\n",
       "      <td>0</td>\n",
       "      <td>0</td>\n",
       "      <td>0</td>\n",
       "      <td>0</td>\n",
       "      <td>0</td>\n",
       "      <td>...</td>\n",
       "      <td>0.000000</td>\n",
       "      <td>0.000000</td>\n",
       "      <td>0.000000</td>\n",
       "      <td>0.000000</td>\n",
       "      <td>0.000000</td>\n",
       "      <td>0.000000</td>\n",
       "      <td>0.000000</td>\n",
       "      <td>0.000000</td>\n",
       "      <td>0.000000</td>\n",
       "      <td>0.000000</td>\n",
       "    </tr>\n",
       "    <tr>\n",
       "      <th>2</th>\n",
       "      <td>18</td>\n",
       "      <td>2011</td>\n",
       "      <td>2</td>\n",
       "      <td>0</td>\n",
       "      <td>1</td>\n",
       "      <td>0</td>\n",
       "      <td>1</td>\n",
       "      <td>0</td>\n",
       "      <td>1</td>\n",
       "      <td>0</td>\n",
       "      <td>...</td>\n",
       "      <td>2.714286</td>\n",
       "      <td>2.714286</td>\n",
       "      <td>0.000000</td>\n",
       "      <td>0.000000</td>\n",
       "      <td>10.775510</td>\n",
       "      <td>0.000000</td>\n",
       "      <td>8.367347</td>\n",
       "      <td>0.000000</td>\n",
       "      <td>0.000000</td>\n",
       "      <td>9.836735</td>\n",
       "    </tr>\n",
       "    <tr>\n",
       "      <th>3</th>\n",
       "      <td>18</td>\n",
       "      <td>2012</td>\n",
       "      <td>3</td>\n",
       "      <td>0</td>\n",
       "      <td>1</td>\n",
       "      <td>0</td>\n",
       "      <td>1</td>\n",
       "      <td>0</td>\n",
       "      <td>1</td>\n",
       "      <td>0</td>\n",
       "      <td>...</td>\n",
       "      <td>4.200000</td>\n",
       "      <td>4.200000</td>\n",
       "      <td>0.000000</td>\n",
       "      <td>0.000000</td>\n",
       "      <td>12.100000</td>\n",
       "      <td>0.000000</td>\n",
       "      <td>9.400000</td>\n",
       "      <td>0.000000</td>\n",
       "      <td>0.000000</td>\n",
       "      <td>9.960000</td>\n",
       "    </tr>\n",
       "    <tr>\n",
       "      <th>4</th>\n",
       "      <td>18</td>\n",
       "      <td>2012</td>\n",
       "      <td>4</td>\n",
       "      <td>0</td>\n",
       "      <td>1</td>\n",
       "      <td>0</td>\n",
       "      <td>1</td>\n",
       "      <td>0</td>\n",
       "      <td>1</td>\n",
       "      <td>0</td>\n",
       "      <td>...</td>\n",
       "      <td>5.460000</td>\n",
       "      <td>5.460000</td>\n",
       "      <td>0.000000</td>\n",
       "      <td>0.000000</td>\n",
       "      <td>13.360000</td>\n",
       "      <td>0.000000</td>\n",
       "      <td>10.320000</td>\n",
       "      <td>0.000000</td>\n",
       "      <td>0.000000</td>\n",
       "      <td>10.280000</td>\n",
       "    </tr>\n",
       "    <tr>\n",
       "      <th>...</th>\n",
       "      <td>...</td>\n",
       "      <td>...</td>\n",
       "      <td>...</td>\n",
       "      <td>...</td>\n",
       "      <td>...</td>\n",
       "      <td>...</td>\n",
       "      <td>...</td>\n",
       "      <td>...</td>\n",
       "      <td>...</td>\n",
       "      <td>...</td>\n",
       "      <td>...</td>\n",
       "      <td>...</td>\n",
       "      <td>...</td>\n",
       "      <td>...</td>\n",
       "      <td>...</td>\n",
       "      <td>...</td>\n",
       "      <td>...</td>\n",
       "      <td>...</td>\n",
       "      <td>...</td>\n",
       "      <td>...</td>\n",
       "      <td>...</td>\n",
       "    </tr>\n",
       "    <tr>\n",
       "      <th>643685</th>\n",
       "      <td>1827860</td>\n",
       "      <td>2013</td>\n",
       "      <td>1</td>\n",
       "      <td>0</td>\n",
       "      <td>0</td>\n",
       "      <td>0</td>\n",
       "      <td>1</td>\n",
       "      <td>0</td>\n",
       "      <td>0</td>\n",
       "      <td>1</td>\n",
       "      <td>...</td>\n",
       "      <td>0.000000</td>\n",
       "      <td>0.000000</td>\n",
       "      <td>0.000000</td>\n",
       "      <td>0.000000</td>\n",
       "      <td>0.612903</td>\n",
       "      <td>0.000000</td>\n",
       "      <td>0.000000</td>\n",
       "      <td>0.000000</td>\n",
       "      <td>0.000000</td>\n",
       "      <td>0.000000</td>\n",
       "    </tr>\n",
       "    <tr>\n",
       "      <th>643686</th>\n",
       "      <td>1827860</td>\n",
       "      <td>2015</td>\n",
       "      <td>2</td>\n",
       "      <td>1</td>\n",
       "      <td>0</td>\n",
       "      <td>0</td>\n",
       "      <td>1</td>\n",
       "      <td>0</td>\n",
       "      <td>1</td>\n",
       "      <td>0</td>\n",
       "      <td>...</td>\n",
       "      <td>0.000000</td>\n",
       "      <td>0.000000</td>\n",
       "      <td>0.212121</td>\n",
       "      <td>0.212121</td>\n",
       "      <td>17.363636</td>\n",
       "      <td>0.000000</td>\n",
       "      <td>8.909091</td>\n",
       "      <td>0.000000</td>\n",
       "      <td>0.000000</td>\n",
       "      <td>7.121212</td>\n",
       "    </tr>\n",
       "    <tr>\n",
       "      <th>643687</th>\n",
       "      <td>1827860</td>\n",
       "      <td>2016</td>\n",
       "      <td>3</td>\n",
       "      <td>1</td>\n",
       "      <td>0</td>\n",
       "      <td>0</td>\n",
       "      <td>1</td>\n",
       "      <td>1</td>\n",
       "      <td>0</td>\n",
       "      <td>1</td>\n",
       "      <td>...</td>\n",
       "      <td>0.000000</td>\n",
       "      <td>0.000000</td>\n",
       "      <td>0.294118</td>\n",
       "      <td>0.205882</td>\n",
       "      <td>34.705882</td>\n",
       "      <td>0.000000</td>\n",
       "      <td>10.352941</td>\n",
       "      <td>1.705882</td>\n",
       "      <td>1.705882</td>\n",
       "      <td>23.911765</td>\n",
       "    </tr>\n",
       "    <tr>\n",
       "      <th>643688</th>\n",
       "      <td>1827869</td>\n",
       "      <td>2013</td>\n",
       "      <td>1</td>\n",
       "      <td>1</td>\n",
       "      <td>1</td>\n",
       "      <td>0</td>\n",
       "      <td>0</td>\n",
       "      <td>0</td>\n",
       "      <td>1</td>\n",
       "      <td>0</td>\n",
       "      <td>...</td>\n",
       "      <td>0.000000</td>\n",
       "      <td>0.000000</td>\n",
       "      <td>0.000000</td>\n",
       "      <td>0.000000</td>\n",
       "      <td>0.000000</td>\n",
       "      <td>0.525424</td>\n",
       "      <td>0.000000</td>\n",
       "      <td>0.000000</td>\n",
       "      <td>0.000000</td>\n",
       "      <td>0.000000</td>\n",
       "    </tr>\n",
       "    <tr>\n",
       "      <th>643689</th>\n",
       "      <td>1827869</td>\n",
       "      <td>2014</td>\n",
       "      <td>2</td>\n",
       "      <td>0</td>\n",
       "      <td>0</td>\n",
       "      <td>1</td>\n",
       "      <td>0</td>\n",
       "      <td>0</td>\n",
       "      <td>1</td>\n",
       "      <td>0</td>\n",
       "      <td>...</td>\n",
       "      <td>0.000000</td>\n",
       "      <td>0.666667</td>\n",
       "      <td>0.666667</td>\n",
       "      <td>0.000000</td>\n",
       "      <td>0.000000</td>\n",
       "      <td>8.950000</td>\n",
       "      <td>1.033333</td>\n",
       "      <td>0.083333</td>\n",
       "      <td>0.083333</td>\n",
       "      <td>8.133333</td>\n",
       "    </tr>\n",
       "  </tbody>\n",
       "</table>\n",
       "<p>643690 rows × 164 columns</p>\n",
       "</div>"
      ],
      "text/plain": [
       "         persnr  year  nrEntry  ltue  employed_before  receipt_leh_before  \\\n",
       "0             7  2015        1     0                1                   0   \n",
       "1            18  2010        1     1                0                   0   \n",
       "2            18  2011        2     0                1                   0   \n",
       "3            18  2012        3     0                1                   0   \n",
       "4            18  2012        4     0                1                   0   \n",
       "...         ...   ...      ...   ...              ...                 ...   \n",
       "643685  1827860  2013        1     0                0                   0   \n",
       "643686  1827860  2015        2     1                0                   0   \n",
       "643687  1827860  2016        3     1                0                   0   \n",
       "643688  1827869  2013        1     1                1                   0   \n",
       "643689  1827869  2014        2     0                0                   1   \n",
       "\n",
       "        receipt_lhg_before  se_before  ASU_notue_seeking_before  \\\n",
       "0                        0          0                         1   \n",
       "1                        0          0                         0   \n",
       "2                        1          0                         1   \n",
       "3                        1          0                         1   \n",
       "4                        1          0                         1   \n",
       "...                    ...        ...                       ...   \n",
       "643685                   1          0                         0   \n",
       "643686                   1          0                         1   \n",
       "643687                   1          1                         0   \n",
       "643688                   0          0                         1   \n",
       "643689                   0          0                         1   \n",
       "\n",
       "        ASU_other_before  ...  minijob_tot_dur_byage  ft_tot_dur_byage  \\\n",
       "0                      0  ...               0.000000          0.000000   \n",
       "1                      0  ...               0.000000          0.000000   \n",
       "2                      0  ...               2.714286          2.714286   \n",
       "3                      0  ...               4.200000          4.200000   \n",
       "4                      0  ...               5.460000          5.460000   \n",
       "...                  ...  ...                    ...               ...   \n",
       "643685                 1  ...               0.000000          0.000000   \n",
       "643686                 0  ...               0.000000          0.000000   \n",
       "643687                 1  ...               0.000000          0.000000   \n",
       "643688                 0  ...               0.000000          0.000000   \n",
       "643689                 0  ...               0.000000          0.666667   \n",
       "\n",
       "        befrist_tot_dur_byage  leih_tot_dur_byage  LHG_tot_dur_byage  \\\n",
       "0                   15.043478            0.000000           0.000000   \n",
       "1                    0.000000            0.000000           0.000000   \n",
       "2                    0.000000            0.000000          10.775510   \n",
       "3                    0.000000            0.000000          12.100000   \n",
       "4                    0.000000            0.000000          13.360000   \n",
       "...                       ...                 ...                ...   \n",
       "643685               0.000000            0.000000           0.612903   \n",
       "643686               0.212121            0.212121          17.363636   \n",
       "643687               0.294118            0.205882          34.705882   \n",
       "643688               0.000000            0.000000           0.000000   \n",
       "643689               0.666667            0.000000           0.000000   \n",
       "\n",
       "        LEH_tot_dur_byage  almp_tot_dur_byage  almp_aw_tot_dur_byage  \\\n",
       "0                0.000000            0.000000               0.000000   \n",
       "1                0.000000            0.000000               0.000000   \n",
       "2                0.000000            8.367347               0.000000   \n",
       "3                0.000000            9.400000               0.000000   \n",
       "4                0.000000           10.320000               0.000000   \n",
       "...                   ...                 ...                    ...   \n",
       "643685           0.000000            0.000000               0.000000   \n",
       "643686           0.000000            8.909091               0.000000   \n",
       "643687           0.000000           10.352941               1.705882   \n",
       "643688           0.525424            0.000000               0.000000   \n",
       "643689           8.950000            1.033333               0.083333   \n",
       "\n",
       "        se_tot_dur_byage  seeking1_tot_dur_byage  \n",
       "0               0.000000                0.000000  \n",
       "1               0.000000                0.000000  \n",
       "2               0.000000                9.836735  \n",
       "3               0.000000                9.960000  \n",
       "4               0.000000               10.280000  \n",
       "...                  ...                     ...  \n",
       "643685          0.000000                0.000000  \n",
       "643686          0.000000                7.121212  \n",
       "643687          1.705882               23.911765  \n",
       "643688          0.000000                0.000000  \n",
       "643689          0.083333                8.133333  \n",
       "\n",
       "[643690 rows x 164 columns]"
      ]
     },
     "execution_count": 10,
     "metadata": {},
     "output_type": "execute_result"
    }
   ],
   "source": [
    "siab"
   ]
  },
  {
   "cell_type": "markdown",
   "id": "1f87e805",
   "metadata": {
    "papermill": {
     "duration": 0.009735,
     "end_time": "2025-08-19T19:03:05.364370",
     "exception": false,
     "start_time": "2025-08-19T19:03:05.354635",
     "status": "completed"
    },
    "tags": []
   },
   "source": [
    "# Splitting Data and Setting Training Data Size"
   ]
  },
  {
   "cell_type": "code",
   "execution_count": 11,
   "id": "910ae358",
   "metadata": {
    "execution": {
     "iopub.execute_input": "2025-08-19T19:03:05.386388Z",
     "iopub.status.busy": "2025-08-19T19:03:05.385235Z",
     "iopub.status.idle": "2025-08-19T19:03:06.027705Z",
     "shell.execute_reply": "2025-08-19T19:03:06.026813Z"
    },
    "papermill": {
     "duration": 0.655438,
     "end_time": "2025-08-19T19:03:06.029589",
     "exception": false,
     "start_time": "2025-08-19T19:03:05.374151",
     "status": "completed"
    },
    "tags": []
   },
   "outputs": [],
   "source": [
    "from fairness_multiverse.universe import sample_by_year_size\n",
    "\n",
    "siab_train = sample_by_year_size(siab,\n",
    "                               training_year=universe[\"training_year\"],\n",
    "                               training_size=universe[\"training_size\"])"
   ]
  },
  {
   "cell_type": "code",
   "execution_count": 12,
   "id": "919c8ff5",
   "metadata": {
    "execution": {
     "iopub.execute_input": "2025-08-19T19:03:06.065755Z",
     "iopub.status.busy": "2025-08-19T19:03:06.057001Z",
     "iopub.status.idle": "2025-08-19T19:03:06.074894Z",
     "shell.execute_reply": "2025-08-19T19:03:06.074012Z"
    },
    "papermill": {
     "duration": 0.030991,
     "end_time": "2025-08-19T19:03:06.076648",
     "exception": false,
     "start_time": "2025-08-19T19:03:06.045657",
     "status": "completed"
    },
    "tags": []
   },
   "outputs": [
    {
     "data": {
      "text/plain": [
       "(1000, 164)"
      ]
     },
     "execution_count": 12,
     "metadata": {},
     "output_type": "execute_result"
    }
   ],
   "source": [
    "siab_train.shape"
   ]
  },
  {
   "cell_type": "code",
   "execution_count": 13,
   "id": "feb13bf4",
   "metadata": {
    "execution": {
     "iopub.execute_input": "2025-08-19T19:03:06.109543Z",
     "iopub.status.busy": "2025-08-19T19:03:06.108358Z",
     "iopub.status.idle": "2025-08-19T19:03:06.125989Z",
     "shell.execute_reply": "2025-08-19T19:03:06.124317Z"
    },
    "papermill": {
     "duration": 0.034798,
     "end_time": "2025-08-19T19:03:06.127683",
     "exception": false,
     "start_time": "2025-08-19T19:03:06.092885",
     "status": "completed"
    },
    "tags": []
   },
   "outputs": [
    {
     "data": {
      "text/plain": [
       "year\n",
       "2012    334\n",
       "2013    333\n",
       "2014    333\n",
       "dtype: int64"
      ]
     },
     "metadata": {},
     "output_type": "display_data"
    }
   ],
   "source": [
    "display(siab_train.groupby(\"year\").size())"
   ]
  },
  {
   "cell_type": "code",
   "execution_count": 14,
   "id": "0997782f",
   "metadata": {
    "execution": {
     "iopub.execute_input": "2025-08-19T19:03:06.155748Z",
     "iopub.status.busy": "2025-08-19T19:03:06.154606Z",
     "iopub.status.idle": "2025-08-19T19:03:06.400792Z",
     "shell.execute_reply": "2025-08-19T19:03:06.400074Z"
    },
    "papermill": {
     "duration": 0.260142,
     "end_time": "2025-08-19T19:03:06.402534",
     "exception": false,
     "start_time": "2025-08-19T19:03:06.142392",
     "status": "completed"
    },
    "tags": []
   },
   "outputs": [],
   "source": [
    "#siab_train = siab_s[siab_s.year < 2015]\n",
    "siab_calib = siab[siab.year == 2015]\n",
    "siab_test = siab[siab.year == 2016]"
   ]
  },
  {
   "cell_type": "code",
   "execution_count": 15,
   "id": "2c1e4012",
   "metadata": {
    "execution": {
     "iopub.execute_input": "2025-08-19T19:03:06.426087Z",
     "iopub.status.busy": "2025-08-19T19:03:06.424945Z",
     "iopub.status.idle": "2025-08-19T19:03:06.432470Z",
     "shell.execute_reply": "2025-08-19T19:03:06.431098Z"
    },
    "papermill": {
     "duration": 0.020214,
     "end_time": "2025-08-19T19:03:06.433853",
     "exception": false,
     "start_time": "2025-08-19T19:03:06.413639",
     "status": "completed"
    },
    "tags": []
   },
   "outputs": [],
   "source": [
    "#siab_calib.shape"
   ]
  },
  {
   "cell_type": "code",
   "execution_count": 16,
   "id": "f66b54ca",
   "metadata": {
    "execution": {
     "iopub.execute_input": "2025-08-19T19:03:06.459615Z",
     "iopub.status.busy": "2025-08-19T19:03:06.458464Z",
     "iopub.status.idle": "2025-08-19T19:03:06.468297Z",
     "shell.execute_reply": "2025-08-19T19:03:06.466039Z"
    },
    "papermill": {
     "duration": 0.023432,
     "end_time": "2025-08-19T19:03:06.469851",
     "exception": false,
     "start_time": "2025-08-19T19:03:06.446419",
     "status": "completed"
    },
    "tags": []
   },
   "outputs": [],
   "source": [
    "#siab_test.shape"
   ]
  },
  {
   "cell_type": "code",
   "execution_count": 17,
   "id": "27e4384d",
   "metadata": {
    "execution": {
     "iopub.execute_input": "2025-08-19T19:03:06.494820Z",
     "iopub.status.busy": "2025-08-19T19:03:06.494521Z",
     "iopub.status.idle": "2025-08-19T19:03:06.501601Z",
     "shell.execute_reply": "2025-08-19T19:03:06.500389Z"
    },
    "papermill": {
     "duration": 0.020301,
     "end_time": "2025-08-19T19:03:06.503499",
     "exception": false,
     "start_time": "2025-08-19T19:03:06.483198",
     "status": "completed"
    },
    "tags": []
   },
   "outputs": [],
   "source": [
    "X_train = siab_train.iloc[:,4:164]\n",
    "y_train = siab_train.iloc[:, [3]]"
   ]
  },
  {
   "cell_type": "code",
   "execution_count": 18,
   "id": "08ee8389",
   "metadata": {
    "execution": {
     "iopub.execute_input": "2025-08-19T19:03:06.527185Z",
     "iopub.status.busy": "2025-08-19T19:03:06.526756Z",
     "iopub.status.idle": "2025-08-19T19:03:06.578138Z",
     "shell.execute_reply": "2025-08-19T19:03:06.577234Z"
    },
    "papermill": {
     "duration": 0.065526,
     "end_time": "2025-08-19T19:03:06.581164",
     "exception": false,
     "start_time": "2025-08-19T19:03:06.515638",
     "status": "completed"
    },
    "tags": []
   },
   "outputs": [],
   "source": [
    "X_calib = siab_calib.iloc[:,4:164]\n",
    "y_calib = siab_calib.iloc[:, [3]]"
   ]
  },
  {
   "cell_type": "code",
   "execution_count": 19,
   "id": "b7ff42e0",
   "metadata": {
    "execution": {
     "iopub.execute_input": "2025-08-19T19:03:06.618641Z",
     "iopub.status.busy": "2025-08-19T19:03:06.617629Z",
     "iopub.status.idle": "2025-08-19T19:03:06.674721Z",
     "shell.execute_reply": "2025-08-19T19:03:06.674050Z"
    },
    "papermill": {
     "duration": 0.074001,
     "end_time": "2025-08-19T19:03:06.677849",
     "exception": false,
     "start_time": "2025-08-19T19:03:06.603848",
     "status": "completed"
    },
    "tags": []
   },
   "outputs": [],
   "source": [
    "X_test = siab_test.iloc[:,4:164]\n",
    "y_true = siab_test.iloc[:, [3]]"
   ]
  },
  {
   "cell_type": "code",
   "execution_count": 20,
   "id": "0275101e",
   "metadata": {
    "execution": {
     "iopub.execute_input": "2025-08-19T19:03:06.718112Z",
     "iopub.status.busy": "2025-08-19T19:03:06.717025Z",
     "iopub.status.idle": "2025-08-19T19:03:06.824009Z",
     "shell.execute_reply": "2025-08-19T19:03:06.823335Z"
    },
    "papermill": {
     "duration": 0.123949,
     "end_time": "2025-08-19T19:03:06.826916",
     "exception": false,
     "start_time": "2025-08-19T19:03:06.702967",
     "status": "completed"
    },
    "tags": []
   },
   "outputs": [],
   "source": [
    "# Auxiliary data needed downstream in the pipeline\n",
    "\n",
    "org_train = X_train.copy()\n",
    "org_test = X_test.copy()\n",
    "org_calib = X_calib.copy()"
   ]
  },
  {
   "cell_type": "markdown",
   "id": "b461e618",
   "metadata": {
    "papermill": {
     "duration": 0.012764,
     "end_time": "2025-08-19T19:03:06.866237",
     "exception": false,
     "start_time": "2025-08-19T19:03:06.853473",
     "status": "completed"
    },
    "tags": []
   },
   "source": [
    "# Preprocessing Data"
   ]
  },
  {
   "cell_type": "code",
   "execution_count": 21,
   "id": "78e74c4b",
   "metadata": {
    "execution": {
     "iopub.execute_input": "2025-08-19T19:03:06.889736Z",
     "iopub.status.busy": "2025-08-19T19:03:06.888568Z",
     "iopub.status.idle": "2025-08-19T19:03:06.898091Z",
     "shell.execute_reply": "2025-08-19T19:03:06.896700Z"
    },
    "papermill": {
     "duration": 0.023445,
     "end_time": "2025-08-19T19:03:06.899974",
     "exception": false,
     "start_time": "2025-08-19T19:03:06.876529",
     "status": "completed"
    },
    "tags": []
   },
   "outputs": [],
   "source": [
    "# EXCLUDE PROTECTED FEATURES\n",
    "# --------------------------\n",
    "\n",
    "excluded_features = universe[\"exclude_features\"].split(\"-\")\n",
    "excluded_features_dictionary = {\n",
    "    \"nationality\": [\"maxdeutsch1\", \"maxdeutsch.Missing.\"],\n",
    "    \"sex\": [\"frau1\"],\n",
    "    \"age\": [\"age\"],\n",
    "}"
   ]
  },
  {
   "cell_type": "code",
   "execution_count": 22,
   "id": "f8e63555",
   "metadata": {
    "execution": {
     "iopub.execute_input": "2025-08-19T19:03:06.926824Z",
     "iopub.status.busy": "2025-08-19T19:03:06.925588Z",
     "iopub.status.idle": "2025-08-19T19:03:06.943483Z",
     "shell.execute_reply": "2025-08-19T19:03:06.933419Z"
    },
    "papermill": {
     "duration": 0.032132,
     "end_time": "2025-08-19T19:03:06.945684",
     "exception": false,
     "start_time": "2025-08-19T19:03:06.913552",
     "status": "completed"
    },
    "tags": []
   },
   "outputs": [],
   "source": [
    "excluded_features_columns = [\n",
    "    excluded_features_dictionary[f] for f in excluded_features if len(f) > 0 and f != \"none\"\n",
    "]"
   ]
  },
  {
   "cell_type": "code",
   "execution_count": 23,
   "id": "da781f7c",
   "metadata": {
    "execution": {
     "iopub.execute_input": "2025-08-19T19:03:06.996513Z",
     "iopub.status.busy": "2025-08-19T19:03:06.995947Z",
     "iopub.status.idle": "2025-08-19T19:03:07.001145Z",
     "shell.execute_reply": "2025-08-19T19:03:07.000348Z"
    },
    "papermill": {
     "duration": 0.035326,
     "end_time": "2025-08-19T19:03:07.003016",
     "exception": false,
     "start_time": "2025-08-19T19:03:06.967690",
     "status": "completed"
    },
    "tags": []
   },
   "outputs": [],
   "source": [
    "from fairness_multiverse.universe import flatten_once\n",
    "\n",
    "excluded_features_columns = flatten_once(excluded_features_columns)"
   ]
  },
  {
   "cell_type": "code",
   "execution_count": 24,
   "id": "37fef0f0",
   "metadata": {
    "execution": {
     "iopub.execute_input": "2025-08-19T19:03:07.026522Z",
     "iopub.status.busy": "2025-08-19T19:03:07.026062Z",
     "iopub.status.idle": "2025-08-19T19:03:07.030961Z",
     "shell.execute_reply": "2025-08-19T19:03:07.030250Z"
    },
    "papermill": {
     "duration": 0.018016,
     "end_time": "2025-08-19T19:03:07.032342",
     "exception": false,
     "start_time": "2025-08-19T19:03:07.014326",
     "status": "completed"
    },
    "tags": []
   },
   "outputs": [],
   "source": [
    "if len(excluded_features_columns) > 0:\n",
    "    print(f\"Dropping features: {excluded_features_columns}\")\n",
    "    X_train.drop(excluded_features_columns, axis=1, inplace=True)"
   ]
  },
  {
   "cell_type": "code",
   "execution_count": 25,
   "id": "d029e3e9",
   "metadata": {
    "execution": {
     "iopub.execute_input": "2025-08-19T19:03:07.055172Z",
     "iopub.status.busy": "2025-08-19T19:03:07.054734Z",
     "iopub.status.idle": "2025-08-19T19:03:07.063410Z",
     "shell.execute_reply": "2025-08-19T19:03:07.062755Z"
    },
    "papermill": {
     "duration": 0.021718,
     "end_time": "2025-08-19T19:03:07.064990",
     "exception": false,
     "start_time": "2025-08-19T19:03:07.043272",
     "status": "completed"
    },
    "tags": []
   },
   "outputs": [],
   "source": [
    "if len(excluded_features_columns) > 0:\n",
    "    print(f\"Dropping features: {excluded_features_columns}\")\n",
    "    X_test.drop(excluded_features_columns, axis=1, inplace=True)"
   ]
  },
  {
   "cell_type": "code",
   "execution_count": 26,
   "id": "01d571f0",
   "metadata": {
    "execution": {
     "iopub.execute_input": "2025-08-19T19:03:07.088039Z",
     "iopub.status.busy": "2025-08-19T19:03:07.087592Z",
     "iopub.status.idle": "2025-08-19T19:03:07.092351Z",
     "shell.execute_reply": "2025-08-19T19:03:07.091616Z"
    },
    "papermill": {
     "duration": 0.017881,
     "end_time": "2025-08-19T19:03:07.093845",
     "exception": false,
     "start_time": "2025-08-19T19:03:07.075964",
     "status": "completed"
    },
    "tags": []
   },
   "outputs": [],
   "source": [
    "if len(excluded_features_columns) > 0:\n",
    "    print(f\"Dropping features: {excluded_features_columns}\")\n",
    "    X_calib.drop(excluded_features_columns, axis=1, inplace=True)"
   ]
  },
  {
   "cell_type": "code",
   "execution_count": 27,
   "id": "3037356e",
   "metadata": {
    "execution": {
     "iopub.execute_input": "2025-08-19T19:03:07.117301Z",
     "iopub.status.busy": "2025-08-19T19:03:07.116840Z",
     "iopub.status.idle": "2025-08-19T19:03:07.121346Z",
     "shell.execute_reply": "2025-08-19T19:03:07.120678Z"
    },
    "papermill": {
     "duration": 0.01733,
     "end_time": "2025-08-19T19:03:07.122771",
     "exception": false,
     "start_time": "2025-08-19T19:03:07.105441",
     "status": "completed"
    },
    "tags": []
   },
   "outputs": [],
   "source": [
    "# EXCLUDE CERTAIN SUBGROUPS\n",
    "# -------------------------\n",
    "\n",
    "mode = universe.get(\"exclude_subgroups\", \"keep-all\") # Defaults to \"keep-all\" if the key is missing."
   ]
  },
  {
   "cell_type": "code",
   "execution_count": 28,
   "id": "9d1e63fd",
   "metadata": {
    "execution": {
     "iopub.execute_input": "2025-08-19T19:03:07.146144Z",
     "iopub.status.busy": "2025-08-19T19:03:07.145702Z",
     "iopub.status.idle": "2025-08-19T19:03:07.151101Z",
     "shell.execute_reply": "2025-08-19T19:03:07.150380Z"
    },
    "papermill": {
     "duration": 0.018539,
     "end_time": "2025-08-19T19:03:07.152601",
     "exception": false,
     "start_time": "2025-08-19T19:03:07.134062",
     "status": "completed"
    },
    "tags": []
   },
   "outputs": [],
   "source": [
    "if mode == \"keep-all\":\n",
    "    keep_mask = pd.Series(True, index=org_train.index)\n",
    "\n",
    "elif mode == \"drop-non-german\":\n",
    "    keep_mask = (org_train[\"maxdeutsch1\"] == 1) & (org_train[\"maxdeutsch.Missing.\"] == 0)\n",
    "\n",
    "else:\n",
    "    raise ValueError(f\"Unsupported mode for exclude_subgroups: {mode}\")"
   ]
  },
  {
   "cell_type": "code",
   "execution_count": 29,
   "id": "d3b65474",
   "metadata": {
    "execution": {
     "iopub.execute_input": "2025-08-19T19:03:07.175830Z",
     "iopub.status.busy": "2025-08-19T19:03:07.175354Z",
     "iopub.status.idle": "2025-08-19T19:03:07.180756Z",
     "shell.execute_reply": "2025-08-19T19:03:07.180123Z"
    },
    "papermill": {
     "duration": 0.018462,
     "end_time": "2025-08-19T19:03:07.182090",
     "exception": false,
     "start_time": "2025-08-19T19:03:07.163628",
     "status": "completed"
    },
    "tags": []
   },
   "outputs": [],
   "source": [
    "n_drop = (~keep_mask).sum() # Calculates how many rows are set to be dropped\n",
    "if n_drop > 0:\n",
    "    pct = n_drop / len(keep_mask) * 100\n",
    "    print(f\"Dropping {n_drop} rows ({pct:.2f}%) where mode='{mode}'\")"
   ]
  },
  {
   "cell_type": "code",
   "execution_count": 30,
   "id": "f44389b3",
   "metadata": {
    "execution": {
     "iopub.execute_input": "2025-08-19T19:03:07.205532Z",
     "iopub.status.busy": "2025-08-19T19:03:07.205086Z",
     "iopub.status.idle": "2025-08-19T19:03:07.211048Z",
     "shell.execute_reply": "2025-08-19T19:03:07.210418Z"
    },
    "papermill": {
     "duration": 0.020328,
     "end_time": "2025-08-19T19:03:07.213544",
     "exception": false,
     "start_time": "2025-08-19T19:03:07.193216",
     "status": "completed"
    },
    "tags": []
   },
   "outputs": [],
   "source": [
    "X_train = X_train[keep_mask]"
   ]
  },
  {
   "cell_type": "code",
   "execution_count": 31,
   "id": "ceca8c2a",
   "metadata": {
    "execution": {
     "iopub.execute_input": "2025-08-19T19:03:07.249902Z",
     "iopub.status.busy": "2025-08-19T19:03:07.248683Z",
     "iopub.status.idle": "2025-08-19T19:03:07.256609Z",
     "shell.execute_reply": "2025-08-19T19:03:07.255487Z"
    },
    "papermill": {
     "duration": 0.022953,
     "end_time": "2025-08-19T19:03:07.258168",
     "exception": false,
     "start_time": "2025-08-19T19:03:07.235215",
     "status": "completed"
    },
    "tags": []
   },
   "outputs": [],
   "source": [
    "y_train = y_train[keep_mask]"
   ]
  },
  {
   "cell_type": "markdown",
   "id": "04d31e2f",
   "metadata": {
    "papermill": {
     "duration": 0.01065,
     "end_time": "2025-08-19T19:03:07.282533",
     "exception": false,
     "start_time": "2025-08-19T19:03:07.271883",
     "status": "completed"
    },
    "tags": []
   },
   "source": [
    "# Model Training"
   ]
  },
  {
   "cell_type": "code",
   "execution_count": 32,
   "id": "db991733",
   "metadata": {
    "execution": {
     "iopub.execute_input": "2025-08-19T19:03:07.316466Z",
     "iopub.status.busy": "2025-08-19T19:03:07.314866Z",
     "iopub.status.idle": "2025-08-19T19:03:07.415171Z",
     "shell.execute_reply": "2025-08-19T19:03:07.414461Z"
    },
    "papermill": {
     "duration": 0.125555,
     "end_time": "2025-08-19T19:03:07.418574",
     "exception": false,
     "start_time": "2025-08-19T19:03:07.293019",
     "status": "completed"
    },
    "tags": []
   },
   "outputs": [],
   "source": [
    "from sklearn.linear_model import LogisticRegression\n",
    "from sklearn.ensemble import GradientBoostingClassifier, RandomForestClassifier\n",
    "\n",
    "if (universe[\"model\"] == \"logreg\"):\n",
    "    model = LogisticRegression() #penalty=\"none\", solver=\"newton-cg\", max_iter=1)\n",
    "elif (universe[\"model\"] == \"penalized_logreg\"):\n",
    "    model = LogisticRegression(penalty=\"l2\", C=0.1) #, solver=\"newton-cg\", max_iter=1)\n",
    "elif (universe[\"model\"] == \"rf\"):\n",
    "    model = RandomForestClassifier() # n_estimators=100, n_jobs=-1\n",
    "elif (universe[\"model\"] == \"gbm\"):\n",
    "    model = GradientBoostingClassifier()\n",
    "elif (universe[\"model\"] == \"elasticnet\"):\n",
    "    model = LogisticRegression(penalty = 'elasticnet', solver = 'saga', l1_ratio = 0.5) # max_iter=5000\n",
    "else:\n",
    "    raise \"Unsupported universe.model\""
   ]
  },
  {
   "cell_type": "code",
   "execution_count": 33,
   "id": "a4b5cd25",
   "metadata": {
    "execution": {
     "iopub.execute_input": "2025-08-19T19:03:07.460312Z",
     "iopub.status.busy": "2025-08-19T19:03:07.459001Z",
     "iopub.status.idle": "2025-08-19T19:03:07.468375Z",
     "shell.execute_reply": "2025-08-19T19:03:07.467188Z"
    },
    "papermill": {
     "duration": 0.024286,
     "end_time": "2025-08-19T19:03:07.470214",
     "exception": false,
     "start_time": "2025-08-19T19:03:07.445928",
     "status": "completed"
    },
    "tags": []
   },
   "outputs": [],
   "source": [
    "from sklearn.pipeline import Pipeline\n",
    "from sklearn.preprocessing import StandardScaler\n",
    "\n",
    "model = Pipeline([\n",
    "    #(\"continuous_processor\", continuous_processor),\n",
    "    #(\"categorical_preprocessor\", categorical_preprocessor),\n",
    "    (\"scale\", StandardScaler() if universe[\"scale\"] == \"scale\" else None), \n",
    "    (\"model\", model),\n",
    "])"
   ]
  },
  {
   "cell_type": "code",
   "execution_count": 34,
   "id": "283a904d",
   "metadata": {
    "execution": {
     "iopub.execute_input": "2025-08-19T19:03:07.497493Z",
     "iopub.status.busy": "2025-08-19T19:03:07.496200Z",
     "iopub.status.idle": "2025-08-19T19:03:08.418966Z",
     "shell.execute_reply": "2025-08-19T19:03:08.418286Z"
    },
    "papermill": {
     "duration": 0.942416,
     "end_time": "2025-08-19T19:03:08.426380",
     "exception": false,
     "start_time": "2025-08-19T19:03:07.483964",
     "status": "completed"
    },
    "tags": []
   },
   "outputs": [
    {
     "data": {
      "text/html": [
       "<style>#sk-container-id-1 {color: black;background-color: white;}#sk-container-id-1 pre{padding: 0;}#sk-container-id-1 div.sk-toggleable {background-color: white;}#sk-container-id-1 label.sk-toggleable__label {cursor: pointer;display: block;width: 100%;margin-bottom: 0;padding: 0.3em;box-sizing: border-box;text-align: center;}#sk-container-id-1 label.sk-toggleable__label-arrow:before {content: \"▸\";float: left;margin-right: 0.25em;color: #696969;}#sk-container-id-1 label.sk-toggleable__label-arrow:hover:before {color: black;}#sk-container-id-1 div.sk-estimator:hover label.sk-toggleable__label-arrow:before {color: black;}#sk-container-id-1 div.sk-toggleable__content {max-height: 0;max-width: 0;overflow: hidden;text-align: left;background-color: #f0f8ff;}#sk-container-id-1 div.sk-toggleable__content pre {margin: 0.2em;color: black;border-radius: 0.25em;background-color: #f0f8ff;}#sk-container-id-1 input.sk-toggleable__control:checked~div.sk-toggleable__content {max-height: 200px;max-width: 100%;overflow: auto;}#sk-container-id-1 input.sk-toggleable__control:checked~label.sk-toggleable__label-arrow:before {content: \"▾\";}#sk-container-id-1 div.sk-estimator input.sk-toggleable__control:checked~label.sk-toggleable__label {background-color: #d4ebff;}#sk-container-id-1 div.sk-label input.sk-toggleable__control:checked~label.sk-toggleable__label {background-color: #d4ebff;}#sk-container-id-1 input.sk-hidden--visually {border: 0;clip: rect(1px 1px 1px 1px);clip: rect(1px, 1px, 1px, 1px);height: 1px;margin: -1px;overflow: hidden;padding: 0;position: absolute;width: 1px;}#sk-container-id-1 div.sk-estimator {font-family: monospace;background-color: #f0f8ff;border: 1px dotted black;border-radius: 0.25em;box-sizing: border-box;margin-bottom: 0.5em;}#sk-container-id-1 div.sk-estimator:hover {background-color: #d4ebff;}#sk-container-id-1 div.sk-parallel-item::after {content: \"\";width: 100%;border-bottom: 1px solid gray;flex-grow: 1;}#sk-container-id-1 div.sk-label:hover label.sk-toggleable__label {background-color: #d4ebff;}#sk-container-id-1 div.sk-serial::before {content: \"\";position: absolute;border-left: 1px solid gray;box-sizing: border-box;top: 0;bottom: 0;left: 50%;z-index: 0;}#sk-container-id-1 div.sk-serial {display: flex;flex-direction: column;align-items: center;background-color: white;padding-right: 0.2em;padding-left: 0.2em;position: relative;}#sk-container-id-1 div.sk-item {position: relative;z-index: 1;}#sk-container-id-1 div.sk-parallel {display: flex;align-items: stretch;justify-content: center;background-color: white;position: relative;}#sk-container-id-1 div.sk-item::before, #sk-container-id-1 div.sk-parallel-item::before {content: \"\";position: absolute;border-left: 1px solid gray;box-sizing: border-box;top: 0;bottom: 0;left: 50%;z-index: -1;}#sk-container-id-1 div.sk-parallel-item {display: flex;flex-direction: column;z-index: 1;position: relative;background-color: white;}#sk-container-id-1 div.sk-parallel-item:first-child::after {align-self: flex-end;width: 50%;}#sk-container-id-1 div.sk-parallel-item:last-child::after {align-self: flex-start;width: 50%;}#sk-container-id-1 div.sk-parallel-item:only-child::after {width: 0;}#sk-container-id-1 div.sk-dashed-wrapped {border: 1px dashed gray;margin: 0 0.4em 0.5em 0.4em;box-sizing: border-box;padding-bottom: 0.4em;background-color: white;}#sk-container-id-1 div.sk-label label {font-family: monospace;font-weight: bold;display: inline-block;line-height: 1.2em;}#sk-container-id-1 div.sk-label-container {text-align: center;}#sk-container-id-1 div.sk-container {/* jupyter's `normalize.less` sets `[hidden] { display: none; }` but bootstrap.min.css set `[hidden] { display: none !important; }` so we also need the `!important` here to be able to override the default hidden behavior on the sphinx rendered scikit-learn.org. See: https://github.com/scikit-learn/scikit-learn/issues/21755 */display: inline-block !important;position: relative;}#sk-container-id-1 div.sk-text-repr-fallback {display: none;}</style><div id=\"sk-container-id-1\" class=\"sk-top-container\"><div class=\"sk-text-repr-fallback\"><pre>Pipeline(steps=[(&#x27;scale&#x27;, None), (&#x27;model&#x27;, GradientBoostingClassifier())])</pre><b>In a Jupyter environment, please rerun this cell to show the HTML representation or trust the notebook. <br />On GitHub, the HTML representation is unable to render, please try loading this page with nbviewer.org.</b></div><div class=\"sk-container\" hidden><div class=\"sk-item sk-dashed-wrapped\"><div class=\"sk-label-container\"><div class=\"sk-label sk-toggleable\"><input class=\"sk-toggleable__control sk-hidden--visually\" id=\"sk-estimator-id-1\" type=\"checkbox\" ><label for=\"sk-estimator-id-1\" class=\"sk-toggleable__label sk-toggleable__label-arrow\">Pipeline</label><div class=\"sk-toggleable__content\"><pre>Pipeline(steps=[(&#x27;scale&#x27;, None), (&#x27;model&#x27;, GradientBoostingClassifier())])</pre></div></div></div><div class=\"sk-serial\"><div class=\"sk-item\"><div class=\"sk-estimator sk-toggleable\"><input class=\"sk-toggleable__control sk-hidden--visually\" id=\"sk-estimator-id-2\" type=\"checkbox\" ><label for=\"sk-estimator-id-2\" class=\"sk-toggleable__label sk-toggleable__label-arrow\">None</label><div class=\"sk-toggleable__content\"><pre>None</pre></div></div></div><div class=\"sk-item\"><div class=\"sk-estimator sk-toggleable\"><input class=\"sk-toggleable__control sk-hidden--visually\" id=\"sk-estimator-id-3\" type=\"checkbox\" ><label for=\"sk-estimator-id-3\" class=\"sk-toggleable__label sk-toggleable__label-arrow\">GradientBoostingClassifier</label><div class=\"sk-toggleable__content\"><pre>GradientBoostingClassifier()</pre></div></div></div></div></div></div></div>"
      ],
      "text/plain": [
       "Pipeline(steps=[('scale', None), ('model', GradientBoostingClassifier())])"
      ]
     },
     "execution_count": 34,
     "metadata": {},
     "output_type": "execute_result"
    }
   ],
   "source": [
    "model.fit(X_train, y_train.values.ravel())"
   ]
  },
  {
   "cell_type": "code",
   "execution_count": 35,
   "id": "6e15e313",
   "metadata": {
    "execution": {
     "iopub.execute_input": "2025-08-19T19:03:08.462357Z",
     "iopub.status.busy": "2025-08-19T19:03:08.461030Z",
     "iopub.status.idle": "2025-08-19T19:03:08.969573Z",
     "shell.execute_reply": "2025-08-19T19:03:08.968787Z"
    },
    "papermill": {
     "duration": 0.524472,
     "end_time": "2025-08-19T19:03:08.972196",
     "exception": false,
     "start_time": "2025-08-19T19:03:08.447724",
     "status": "completed"
    },
    "tags": []
   },
   "outputs": [
    {
     "data": {
      "text/plain": [
       "0.8413331847062758"
      ]
     },
     "execution_count": 35,
     "metadata": {},
     "output_type": "execute_result"
    }
   ],
   "source": [
    "from fairness_multiverse.universe import predict_w_threshold\n",
    "\n",
    "probs_test = model.predict_proba(X_test)\n",
    "\n",
    "'''\n",
    "Below code returns a boolean array (or binary 0/1 array depending on how it’s used) where each element \n",
    "is True if the probability of class 1 is greater than or equal to the threshold, and False otherwise.\n",
    "'''\n",
    "y_pred_default = predict_w_threshold(probs_test, 0.5)\n",
    "\n",
    "from sklearn.metrics import accuracy_score\n",
    "\n",
    "# Naive prediction\n",
    "accuracy_score(y_true = y_true, y_pred = y_pred_default)"
   ]
  },
  {
   "cell_type": "code",
   "execution_count": 36,
   "id": "6f14067c",
   "metadata": {
    "execution": {
     "iopub.execute_input": "2025-08-19T19:03:09.013152Z",
     "iopub.status.busy": "2025-08-19T19:03:09.012430Z",
     "iopub.status.idle": "2025-08-19T19:03:09.518448Z",
     "shell.execute_reply": "2025-08-19T19:03:09.517625Z"
    },
    "papermill": {
     "duration": 0.52206,
     "end_time": "2025-08-19T19:03:09.519801",
     "exception": false,
     "start_time": "2025-08-19T19:03:08.997741",
     "status": "completed"
    },
    "tags": []
   },
   "outputs": [
    {
     "data": {
      "text/plain": [
       "array([0, 0, 0, ..., 0, 0, 0])"
      ]
     },
     "execution_count": 36,
     "metadata": {},
     "output_type": "execute_result"
    }
   ],
   "source": [
    "model.predict(X_test)"
   ]
  },
  {
   "cell_type": "markdown",
   "id": "3759920c",
   "metadata": {
    "papermill": {
     "duration": 0.011186,
     "end_time": "2025-08-19T19:03:09.543585",
     "exception": false,
     "start_time": "2025-08-19T19:03:09.532399",
     "status": "completed"
    },
    "tags": []
   },
   "source": [
    "# Conformal Prediction"
   ]
  },
  {
   "cell_type": "code",
   "execution_count": 37,
   "id": "14b27f59",
   "metadata": {
    "execution": {
     "iopub.execute_input": "2025-08-19T19:03:09.570632Z",
     "iopub.status.busy": "2025-08-19T19:03:09.567816Z",
     "iopub.status.idle": "2025-08-19T19:03:09.577965Z",
     "shell.execute_reply": "2025-08-19T19:03:09.576304Z"
    },
    "papermill": {
     "duration": 0.02507,
     "end_time": "2025-08-19T19:03:09.579795",
     "exception": false,
     "start_time": "2025-08-19T19:03:09.554725",
     "status": "completed"
    },
    "tags": []
   },
   "outputs": [],
   "source": [
    "# Miscoverage level for conformal prediction (10% allowed error rate => 90% target coverage)\n",
    "alpha = 0.1"
   ]
  },
  {
   "cell_type": "code",
   "execution_count": 38,
   "id": "59102472",
   "metadata": {
    "execution": {
     "iopub.execute_input": "2025-08-19T19:03:09.608262Z",
     "iopub.status.busy": "2025-08-19T19:03:09.607137Z",
     "iopub.status.idle": "2025-08-19T19:03:10.089110Z",
     "shell.execute_reply": "2025-08-19T19:03:10.088424Z"
    },
    "papermill": {
     "duration": 0.496318,
     "end_time": "2025-08-19T19:03:10.091001",
     "exception": false,
     "start_time": "2025-08-19T19:03:09.594683",
     "status": "completed"
    },
    "tags": []
   },
   "outputs": [],
   "source": [
    "probs_calib = model.predict_proba(X_calib)"
   ]
  },
  {
   "cell_type": "code",
   "execution_count": 39,
   "id": "a792d4dd",
   "metadata": {
    "execution": {
     "iopub.execute_input": "2025-08-19T19:03:10.123455Z",
     "iopub.status.busy": "2025-08-19T19:03:10.122970Z",
     "iopub.status.idle": "2025-08-19T19:03:10.127908Z",
     "shell.execute_reply": "2025-08-19T19:03:10.127218Z"
    },
    "papermill": {
     "duration": 0.019231,
     "end_time": "2025-08-19T19:03:10.129281",
     "exception": false,
     "start_time": "2025-08-19T19:03:10.110050",
     "status": "completed"
    },
    "tags": []
   },
   "outputs": [],
   "source": [
    "y_calib = y_calib.values.ravel().astype(int)"
   ]
  },
  {
   "cell_type": "code",
   "execution_count": 40,
   "id": "650fd033",
   "metadata": {
    "execution": {
     "iopub.execute_input": "2025-08-19T19:03:10.158255Z",
     "iopub.status.busy": "2025-08-19T19:03:10.157428Z",
     "iopub.status.idle": "2025-08-19T19:03:10.165004Z",
     "shell.execute_reply": "2025-08-19T19:03:10.164072Z"
    },
    "papermill": {
     "duration": 0.024674,
     "end_time": "2025-08-19T19:03:10.166622",
     "exception": false,
     "start_time": "2025-08-19T19:03:10.141948",
     "status": "completed"
    },
    "tags": []
   },
   "outputs": [],
   "source": [
    "from fairness_multiverse.conformal import compute_nc_scores\n",
    "\n",
    "# Compute nonconformity scores on calibration set (1 - probability of true class)\n",
    "nc_scores = compute_nc_scores(probs_calib, y_calib)"
   ]
  },
  {
   "cell_type": "code",
   "execution_count": 41,
   "id": "28ada44c",
   "metadata": {
    "execution": {
     "iopub.execute_input": "2025-08-19T19:03:10.195806Z",
     "iopub.status.busy": "2025-08-19T19:03:10.195278Z",
     "iopub.status.idle": "2025-08-19T19:03:10.202623Z",
     "shell.execute_reply": "2025-08-19T19:03:10.201339Z"
    },
    "papermill": {
     "duration": 0.026597,
     "end_time": "2025-08-19T19:03:10.208434",
     "exception": false,
     "start_time": "2025-08-19T19:03:10.181837",
     "status": "completed"
    },
    "tags": []
   },
   "outputs": [],
   "source": [
    "from fairness_multiverse.conformal import find_threshold\n",
    "\n",
    "# Find conformal threshold q_hat for the given alpha (split conformal method)\n",
    "q_hat = find_threshold(nc_scores, alpha)"
   ]
  },
  {
   "cell_type": "code",
   "execution_count": 42,
   "id": "df56469e",
   "metadata": {
    "execution": {
     "iopub.execute_input": "2025-08-19T19:03:10.234991Z",
     "iopub.status.busy": "2025-08-19T19:03:10.234470Z",
     "iopub.status.idle": "2025-08-19T19:03:10.241681Z",
     "shell.execute_reply": "2025-08-19T19:03:10.240904Z"
    },
    "papermill": {
     "duration": 0.021661,
     "end_time": "2025-08-19T19:03:10.243091",
     "exception": false,
     "start_time": "2025-08-19T19:03:10.221430",
     "status": "completed"
    },
    "tags": []
   },
   "outputs": [
    {
     "data": {
      "text/plain": [
       "0.7556709418233363"
      ]
     },
     "execution_count": 42,
     "metadata": {},
     "output_type": "execute_result"
    }
   ],
   "source": [
    "q_hat"
   ]
  },
  {
   "cell_type": "code",
   "execution_count": 43,
   "id": "aa1f5faa",
   "metadata": {
    "execution": {
     "iopub.execute_input": "2025-08-19T19:03:10.270281Z",
     "iopub.status.busy": "2025-08-19T19:03:10.269215Z",
     "iopub.status.idle": "2025-08-19T19:03:11.242988Z",
     "shell.execute_reply": "2025-08-19T19:03:11.241883Z"
    },
    "papermill": {
     "duration": 0.988456,
     "end_time": "2025-08-19T19:03:11.244615",
     "exception": false,
     "start_time": "2025-08-19T19:03:10.256159",
     "status": "completed"
    },
    "tags": []
   },
   "outputs": [],
   "source": [
    "from fairness_multiverse.conformal import predict_conformal_sets\n",
    "\n",
    "# Generate prediction sets for each test example\n",
    "pred_sets = predict_conformal_sets(model, X_test, q_hat)"
   ]
  },
  {
   "cell_type": "code",
   "execution_count": 44,
   "id": "97f67a6b",
   "metadata": {
    "execution": {
     "iopub.execute_input": "2025-08-19T19:03:11.274329Z",
     "iopub.status.busy": "2025-08-19T19:03:11.272675Z",
     "iopub.status.idle": "2025-08-19T19:03:11.281397Z",
     "shell.execute_reply": "2025-08-19T19:03:11.280239Z"
    },
    "papermill": {
     "duration": 0.023876,
     "end_time": "2025-08-19T19:03:11.283016",
     "exception": false,
     "start_time": "2025-08-19T19:03:11.259140",
     "status": "completed"
    },
    "tags": []
   },
   "outputs": [],
   "source": [
    "y_true = y_true.squeeze()"
   ]
  },
  {
   "cell_type": "code",
   "execution_count": 45,
   "id": "e700e9a7",
   "metadata": {
    "execution": {
     "iopub.execute_input": "2025-08-19T19:03:11.331776Z",
     "iopub.status.busy": "2025-08-19T19:03:11.331198Z",
     "iopub.status.idle": "2025-08-19T19:03:11.815745Z",
     "shell.execute_reply": "2025-08-19T19:03:11.814771Z"
    },
    "papermill": {
     "duration": 0.500259,
     "end_time": "2025-08-19T19:03:11.817862",
     "exception": false,
     "start_time": "2025-08-19T19:03:11.317603",
     "status": "completed"
    },
    "tags": []
   },
   "outputs": [],
   "source": [
    "from fairness_multiverse.conformal import evaluate_sets\n",
    "\n",
    "# Evaluate coverage and average set size on test data\n",
    "metrics = evaluate_sets(pred_sets, y_true)"
   ]
  },
  {
   "cell_type": "markdown",
   "id": "efbacec0",
   "metadata": {
    "papermill": {
     "duration": 0.018781,
     "end_time": "2025-08-19T19:03:11.855062",
     "exception": false,
     "start_time": "2025-08-19T19:03:11.836281",
     "status": "completed"
    },
    "tags": []
   },
   "source": [
    "# CP Metrics"
   ]
  },
  {
   "cell_type": "code",
   "execution_count": 46,
   "id": "9de55fb1",
   "metadata": {
    "execution": {
     "iopub.execute_input": "2025-08-19T19:03:11.882684Z",
     "iopub.status.busy": "2025-08-19T19:03:11.882377Z",
     "iopub.status.idle": "2025-08-19T19:03:11.888896Z",
     "shell.execute_reply": "2025-08-19T19:03:11.888185Z"
    },
    "papermill": {
     "duration": 0.025095,
     "end_time": "2025-08-19T19:03:11.892066",
     "exception": false,
     "start_time": "2025-08-19T19:03:11.866971",
     "status": "completed"
    },
    "tags": []
   },
   "outputs": [
    {
     "data": {
      "text/plain": [
       "{'coverage': 0.9102664140006688, 'avg_size': 1.172466837587783}"
      ]
     },
     "execution_count": 46,
     "metadata": {},
     "output_type": "execute_result"
    }
   ],
   "source": [
    "metrics"
   ]
  },
  {
   "cell_type": "code",
   "execution_count": 47,
   "id": "64c340a1",
   "metadata": {
    "execution": {
     "iopub.execute_input": "2025-08-19T19:03:11.939204Z",
     "iopub.status.busy": "2025-08-19T19:03:11.938913Z",
     "iopub.status.idle": "2025-08-19T19:03:11.944361Z",
     "shell.execute_reply": "2025-08-19T19:03:11.943553Z"
    },
    "papermill": {
     "duration": 0.022606,
     "end_time": "2025-08-19T19:03:11.946736",
     "exception": false,
     "start_time": "2025-08-19T19:03:11.924130",
     "status": "completed"
    },
    "tags": []
   },
   "outputs": [],
   "source": [
    "example_universe = universe.copy()\n",
    "universe_training_year = example_universe.get(\"training_year\")\n",
    "universe_training_size = example_universe.get(\"training_size\")\n",
    "universe_scale = example_universe.get(\"scale\")\n",
    "universe_model = example_universe.get(\"model\")\n",
    "universe_exclude_features = example_universe.get(\"exclude_features\")\n",
    "universe_exclude_subgroups = example_universe.get(\"exclude_subgroups\")"
   ]
  },
  {
   "cell_type": "code",
   "execution_count": 48,
   "id": "dbb53cb4",
   "metadata": {
    "execution": {
     "iopub.execute_input": "2025-08-19T19:03:11.994496Z",
     "iopub.status.busy": "2025-08-19T19:03:11.994199Z",
     "iopub.status.idle": "2025-08-19T19:03:12.040014Z",
     "shell.execute_reply": "2025-08-19T19:03:12.039175Z"
    },
    "papermill": {
     "duration": 0.067549,
     "end_time": "2025-08-19T19:03:12.043817",
     "exception": false,
     "start_time": "2025-08-19T19:03:11.976268",
     "status": "completed"
    },
    "tags": []
   },
   "outputs": [],
   "source": [
    "cp_metrics_dict = {\n",
    "    \"universe_id\": [universe_id],\n",
    "    \"universe_training_year\": [universe_training_year],\n",
    "    \"universe_training_size\": [universe_training_size],\n",
    "    \"universe_scale\": [universe_scale],\n",
    "    \"universe_model\": [universe_model],\n",
    "    \"universe_exclude_features\": [universe_exclude_features],\n",
    "    \"universe_exclude_subgroups\": [universe_exclude_subgroups],\n",
    "    \"q_hat\": [q_hat],\n",
    "    \"coverage\": [metrics[\"coverage\"]],\n",
    "    \"avg_size\": [metrics[\"avg_size\"]],\n",
    "}"
   ]
  },
  {
   "cell_type": "code",
   "execution_count": 49,
   "id": "0d70d4b2",
   "metadata": {
    "execution": {
     "iopub.execute_input": "2025-08-19T19:03:12.074531Z",
     "iopub.status.busy": "2025-08-19T19:03:12.074043Z",
     "iopub.status.idle": "2025-08-19T19:03:12.080186Z",
     "shell.execute_reply": "2025-08-19T19:03:12.079047Z"
    },
    "papermill": {
     "duration": 0.020414,
     "end_time": "2025-08-19T19:03:12.081726",
     "exception": false,
     "start_time": "2025-08-19T19:03:12.061312",
     "status": "completed"
    },
    "tags": []
   },
   "outputs": [],
   "source": [
    "cp_metrics_df = pd.DataFrame(cp_metrics_dict)"
   ]
  },
  {
   "cell_type": "code",
   "execution_count": 50,
   "id": "b494403c",
   "metadata": {
    "execution": {
     "iopub.execute_input": "2025-08-19T19:03:12.106120Z",
     "iopub.status.busy": "2025-08-19T19:03:12.105689Z",
     "iopub.status.idle": "2025-08-19T19:03:12.119449Z",
     "shell.execute_reply": "2025-08-19T19:03:12.118583Z"
    },
    "papermill": {
     "duration": 0.02751,
     "end_time": "2025-08-19T19:03:12.120826",
     "exception": false,
     "start_time": "2025-08-19T19:03:12.093316",
     "status": "completed"
    },
    "tags": []
   },
   "outputs": [
    {
     "data": {
      "text/html": [
       "<div>\n",
       "<style scoped>\n",
       "    .dataframe tbody tr th:only-of-type {\n",
       "        vertical-align: middle;\n",
       "    }\n",
       "\n",
       "    .dataframe tbody tr th {\n",
       "        vertical-align: top;\n",
       "    }\n",
       "\n",
       "    .dataframe thead th {\n",
       "        text-align: right;\n",
       "    }\n",
       "</style>\n",
       "<table border=\"1\" class=\"dataframe\">\n",
       "  <thead>\n",
       "    <tr style=\"text-align: right;\">\n",
       "      <th></th>\n",
       "      <th>universe_id</th>\n",
       "      <th>universe_training_year</th>\n",
       "      <th>universe_training_size</th>\n",
       "      <th>universe_scale</th>\n",
       "      <th>universe_model</th>\n",
       "      <th>universe_exclude_features</th>\n",
       "      <th>universe_exclude_subgroups</th>\n",
       "      <th>q_hat</th>\n",
       "      <th>coverage</th>\n",
       "      <th>avg_size</th>\n",
       "    </tr>\n",
       "  </thead>\n",
       "  <tbody>\n",
       "    <tr>\n",
       "      <th>0</th>\n",
       "      <td>f9e77d68c4ffbc01aa2a921b2adc2c77</td>\n",
       "      <td>2012_14</td>\n",
       "      <td>1k</td>\n",
       "      <td>do-not-scale</td>\n",
       "      <td>gbm</td>\n",
       "      <td>none</td>\n",
       "      <td>keep-all</td>\n",
       "      <td>0.755671</td>\n",
       "      <td>0.910266</td>\n",
       "      <td>1.172467</td>\n",
       "    </tr>\n",
       "  </tbody>\n",
       "</table>\n",
       "</div>"
      ],
      "text/plain": [
       "                        universe_id universe_training_year  \\\n",
       "0  f9e77d68c4ffbc01aa2a921b2adc2c77                2012_14   \n",
       "\n",
       "  universe_training_size universe_scale universe_model  \\\n",
       "0                     1k   do-not-scale            gbm   \n",
       "\n",
       "  universe_exclude_features universe_exclude_subgroups     q_hat  coverage  \\\n",
       "0                      none                   keep-all  0.755671  0.910266   \n",
       "\n",
       "   avg_size  \n",
       "0  1.172467  "
      ]
     },
     "execution_count": 50,
     "metadata": {},
     "output_type": "execute_result"
    }
   ],
   "source": [
    "cp_metrics_df"
   ]
  },
  {
   "cell_type": "markdown",
   "id": "ed608b0b",
   "metadata": {
    "papermill": {
     "duration": 0.012448,
     "end_time": "2025-08-19T19:03:12.147842",
     "exception": false,
     "start_time": "2025-08-19T19:03:12.135394",
     "status": "completed"
    },
    "tags": []
   },
   "source": [
    "Conditional coverage & looking at subgroups"
   ]
  },
  {
   "cell_type": "code",
   "execution_count": 51,
   "id": "8968c366",
   "metadata": {
    "execution": {
     "iopub.execute_input": "2025-08-19T19:03:12.174407Z",
     "iopub.status.busy": "2025-08-19T19:03:12.173710Z",
     "iopub.status.idle": "2025-08-19T19:03:12.451924Z",
     "shell.execute_reply": "2025-08-19T19:03:12.451207Z"
    },
    "papermill": {
     "duration": 0.293368,
     "end_time": "2025-08-19T19:03:12.453280",
     "exception": false,
     "start_time": "2025-08-19T19:03:12.159912",
     "status": "completed"
    },
    "tags": []
   },
   "outputs": [],
   "source": [
    "from fairness_multiverse.conformal import build_cp_groups\n",
    "\n",
    "cp_groups_df = build_cp_groups(pred_sets, y_true, X_test.index, org_test)"
   ]
  },
  {
   "cell_type": "code",
   "execution_count": 52,
   "id": "292ddabf",
   "metadata": {
    "execution": {
     "iopub.execute_input": "2025-08-19T19:03:12.484845Z",
     "iopub.status.busy": "2025-08-19T19:03:12.483787Z",
     "iopub.status.idle": "2025-08-19T19:03:13.345336Z",
     "shell.execute_reply": "2025-08-19T19:03:13.344526Z"
    },
    "papermill": {
     "duration": 0.875947,
     "end_time": "2025-08-19T19:03:13.346837",
     "exception": false,
     "start_time": "2025-08-19T19:03:12.470890",
     "status": "completed"
    },
    "tags": []
   },
   "outputs": [],
   "source": [
    "# Define covered = 1 if true_label is in the predicted set\n",
    "cp_groups_df['covered'] = cp_groups_df.apply(\n",
    "    lambda r: int(r['true_label'] in r['pred_set']),\n",
    "    axis=1\n",
    ")"
   ]
  },
  {
   "cell_type": "code",
   "execution_count": 53,
   "id": "3a261692",
   "metadata": {
    "execution": {
     "iopub.execute_input": "2025-08-19T19:03:13.373707Z",
     "iopub.status.busy": "2025-08-19T19:03:13.373203Z",
     "iopub.status.idle": "2025-08-19T19:03:13.383179Z",
     "shell.execute_reply": "2025-08-19T19:03:13.382384Z"
    },
    "papermill": {
     "duration": 0.025039,
     "end_time": "2025-08-19T19:03:13.384646",
     "exception": false,
     "start_time": "2025-08-19T19:03:13.359607",
     "status": "completed"
    },
    "tags": []
   },
   "outputs": [],
   "source": [
    "subgroups = ['frau1','nongerman','nongerman_male','nongerman_female']\n",
    "\n",
    "# Conditional coverage for subgroup==1\n",
    "cond_coverage = {\n",
    "    g: cp_groups_df.loc[cp_groups_df[g]==1, 'covered'].mean()\n",
    "    for g in subgroups\n",
    "}"
   ]
  },
  {
   "cell_type": "code",
   "execution_count": 54,
   "id": "894fd600",
   "metadata": {
    "execution": {
     "iopub.execute_input": "2025-08-19T19:03:13.411065Z",
     "iopub.status.busy": "2025-08-19T19:03:13.410550Z",
     "iopub.status.idle": "2025-08-19T19:03:13.416429Z",
     "shell.execute_reply": "2025-08-19T19:03:13.415712Z"
    },
    "papermill": {
     "duration": 0.021086,
     "end_time": "2025-08-19T19:03:13.418208",
     "exception": false,
     "start_time": "2025-08-19T19:03:13.397122",
     "status": "completed"
    },
    "tags": []
   },
   "outputs": [
    {
     "data": {
      "text/plain": [
       "{'frau1': 0.9076694972368243,\n",
       " 'nongerman': 0.9080446864649413,\n",
       " 'nongerman_male': 0.9252454291632892,\n",
       " 'nongerman_female': 0.8795827123695976}"
      ]
     },
     "execution_count": 54,
     "metadata": {},
     "output_type": "execute_result"
    }
   ],
   "source": [
    "cond_coverage"
   ]
  },
  {
   "cell_type": "code",
   "execution_count": 55,
   "id": "942895c7",
   "metadata": {
    "execution": {
     "iopub.execute_input": "2025-08-19T19:03:13.445009Z",
     "iopub.status.busy": "2025-08-19T19:03:13.444509Z",
     "iopub.status.idle": "2025-08-19T19:03:13.450974Z",
     "shell.execute_reply": "2025-08-19T19:03:13.450239Z"
    },
    "papermill": {
     "duration": 0.021496,
     "end_time": "2025-08-19T19:03:13.452313",
     "exception": false,
     "start_time": "2025-08-19T19:03:13.430817",
     "status": "completed"
    },
    "tags": []
   },
   "outputs": [],
   "source": [
    "for subgroup, cov in cond_coverage.items():\n",
    "    cp_metrics_df[f\"cov_{subgroup}\"] = cov"
   ]
  },
  {
   "cell_type": "code",
   "execution_count": 56,
   "id": "3970120f",
   "metadata": {
    "execution": {
     "iopub.execute_input": "2025-08-19T19:03:13.479421Z",
     "iopub.status.busy": "2025-08-19T19:03:13.478927Z",
     "iopub.status.idle": "2025-08-19T19:03:13.495493Z",
     "shell.execute_reply": "2025-08-19T19:03:13.494715Z"
    },
    "papermill": {
     "duration": 0.032032,
     "end_time": "2025-08-19T19:03:13.497041",
     "exception": false,
     "start_time": "2025-08-19T19:03:13.465009",
     "status": "completed"
    },
    "tags": []
   },
   "outputs": [
    {
     "data": {
      "text/html": [
       "<div>\n",
       "<style scoped>\n",
       "    .dataframe tbody tr th:only-of-type {\n",
       "        vertical-align: middle;\n",
       "    }\n",
       "\n",
       "    .dataframe tbody tr th {\n",
       "        vertical-align: top;\n",
       "    }\n",
       "\n",
       "    .dataframe thead th {\n",
       "        text-align: right;\n",
       "    }\n",
       "</style>\n",
       "<table border=\"1\" class=\"dataframe\">\n",
       "  <thead>\n",
       "    <tr style=\"text-align: right;\">\n",
       "      <th></th>\n",
       "      <th>universe_id</th>\n",
       "      <th>universe_training_year</th>\n",
       "      <th>universe_training_size</th>\n",
       "      <th>universe_scale</th>\n",
       "      <th>universe_model</th>\n",
       "      <th>universe_exclude_features</th>\n",
       "      <th>universe_exclude_subgroups</th>\n",
       "      <th>q_hat</th>\n",
       "      <th>coverage</th>\n",
       "      <th>avg_size</th>\n",
       "      <th>cov_frau1</th>\n",
       "      <th>cov_nongerman</th>\n",
       "      <th>cov_nongerman_male</th>\n",
       "      <th>cov_nongerman_female</th>\n",
       "    </tr>\n",
       "  </thead>\n",
       "  <tbody>\n",
       "    <tr>\n",
       "      <th>0</th>\n",
       "      <td>f9e77d68c4ffbc01aa2a921b2adc2c77</td>\n",
       "      <td>2012_14</td>\n",
       "      <td>1k</td>\n",
       "      <td>do-not-scale</td>\n",
       "      <td>gbm</td>\n",
       "      <td>none</td>\n",
       "      <td>keep-all</td>\n",
       "      <td>0.755671</td>\n",
       "      <td>0.910266</td>\n",
       "      <td>1.172467</td>\n",
       "      <td>0.907669</td>\n",
       "      <td>0.908045</td>\n",
       "      <td>0.925245</td>\n",
       "      <td>0.879583</td>\n",
       "    </tr>\n",
       "  </tbody>\n",
       "</table>\n",
       "</div>"
      ],
      "text/plain": [
       "                        universe_id universe_training_year  \\\n",
       "0  f9e77d68c4ffbc01aa2a921b2adc2c77                2012_14   \n",
       "\n",
       "  universe_training_size universe_scale universe_model  \\\n",
       "0                     1k   do-not-scale            gbm   \n",
       "\n",
       "  universe_exclude_features universe_exclude_subgroups     q_hat  coverage  \\\n",
       "0                      none                   keep-all  0.755671  0.910266   \n",
       "\n",
       "   avg_size  cov_frau1  cov_nongerman  cov_nongerman_male  \\\n",
       "0  1.172467   0.907669       0.908045            0.925245   \n",
       "\n",
       "   cov_nongerman_female  \n",
       "0              0.879583  "
      ]
     },
     "execution_count": 56,
     "metadata": {},
     "output_type": "execute_result"
    }
   ],
   "source": [
    "cp_metrics_df"
   ]
  },
  {
   "cell_type": "markdown",
   "id": "3fc519cc",
   "metadata": {
    "papermill": {
     "duration": 0.012645,
     "end_time": "2025-08-19T19:03:13.524358",
     "exception": false,
     "start_time": "2025-08-19T19:03:13.511713",
     "status": "completed"
    },
    "tags": []
   },
   "source": [
    "# (Fairness) Metrics"
   ]
  },
  {
   "cell_type": "code",
   "execution_count": 57,
   "id": "a2e5e155",
   "metadata": {
    "execution": {
     "iopub.execute_input": "2025-08-19T19:03:13.550981Z",
     "iopub.status.busy": "2025-08-19T19:03:13.550472Z",
     "iopub.status.idle": "2025-08-19T19:03:13.565263Z",
     "shell.execute_reply": "2025-08-19T19:03:13.564451Z"
    },
    "papermill": {
     "duration": 0.029876,
     "end_time": "2025-08-19T19:03:13.566714",
     "exception": false,
     "start_time": "2025-08-19T19:03:13.536838",
     "status": "completed"
    },
    "tags": []
   },
   "outputs": [],
   "source": [
    "colname_to_bin = \"maxdeutsch1\"\n",
    "majority_value = org_train[colname_to_bin].mode()[0]\n",
    "\n",
    "org_test[\"majmin\"] = np.where(org_test[colname_to_bin] == majority_value, \"majority\", \"minority\")"
   ]
  },
  {
   "cell_type": "code",
   "execution_count": 58,
   "id": "17e3e4d5",
   "metadata": {
    "execution": {
     "iopub.execute_input": "2025-08-19T19:03:13.598158Z",
     "iopub.status.busy": "2025-08-19T19:03:13.597293Z",
     "iopub.status.idle": "2025-08-19T19:03:15.347244Z",
     "shell.execute_reply": "2025-08-19T19:03:15.345812Z"
    },
    "papermill": {
     "duration": 1.770766,
     "end_time": "2025-08-19T19:03:15.350273",
     "exception": false,
     "start_time": "2025-08-19T19:03:13.579507",
     "status": "completed"
    },
    "tags": []
   },
   "outputs": [],
   "source": [
    "example_universe = universe.copy()\n",
    "example_universe[\"cutoff\"] = example_universe[\"cutoff\"][0]\n",
    "example_universe[\"eval_fairness_grouping\"] = example_universe[\"eval_fairness_grouping\"][0]\n",
    "fairness_dict, metric_frame = universe_analysis.compute_metrics(\n",
    "    example_universe,\n",
    "    y_pred_prob=probs_test,\n",
    "    y_test=y_true,\n",
    "    org_test=org_test,\n",
    ")"
   ]
  },
  {
   "cell_type": "markdown",
   "id": "1fb7a0e9",
   "metadata": {
    "papermill": {
     "duration": 0.015342,
     "end_time": "2025-08-19T19:03:15.397076",
     "exception": false,
     "start_time": "2025-08-19T19:03:15.381734",
     "status": "completed"
    },
    "tags": []
   },
   "source": [
    "# Overall"
   ]
  },
  {
   "cell_type": "markdown",
   "id": "be1784b1",
   "metadata": {
    "papermill": {
     "duration": 0.011795,
     "end_time": "2025-08-19T19:03:15.421033",
     "exception": false,
     "start_time": "2025-08-19T19:03:15.409238",
     "status": "completed"
    },
    "tags": []
   },
   "source": [
    "Main fairness target: Equalized Odds. Seems to be a better fit than equal opportunity, since we're not only interested in Y = 1. Seems to be a better fit than demographic parity, since we also care about accuracy, not just equal distribution of preds.\n",
    "\n",
    "Pick column for computation of fairness metrics\n",
    "\n",
    "Performance\n",
    "Overall performance measures, most interesting in relation to the measures split by group below"
   ]
  },
  {
   "cell_type": "code",
   "execution_count": 59,
   "id": "b7672bee",
   "metadata": {
    "execution": {
     "iopub.execute_input": "2025-08-19T19:03:15.449087Z",
     "iopub.status.busy": "2025-08-19T19:03:15.447158Z",
     "iopub.status.idle": "2025-08-19T19:03:15.464065Z",
     "shell.execute_reply": "2025-08-19T19:03:15.462966Z"
    },
    "papermill": {
     "duration": 0.032861,
     "end_time": "2025-08-19T19:03:15.465682",
     "exception": false,
     "start_time": "2025-08-19T19:03:15.432821",
     "status": "completed"
    },
    "tags": []
   },
   "outputs": [
    {
     "data": {
      "text/plain": [
       "accuracy                   0.223130\n",
       "balanced accuracy          0.545844\n",
       "f1                         0.244496\n",
       "precision                  0.139672\n",
       "false positive rate        0.888238\n",
       "false negative rate        0.020073\n",
       "selection rate             0.900000\n",
       "count                  89710.000000\n",
       "dtype: float64"
      ]
     },
     "execution_count": 59,
     "metadata": {},
     "output_type": "execute_result"
    }
   ],
   "source": [
    "metric_frame.overall"
   ]
  },
  {
   "cell_type": "markdown",
   "id": "d93333c9",
   "metadata": {
    "papermill": {
     "duration": 0.014285,
     "end_time": "2025-08-19T19:03:15.501071",
     "exception": false,
     "start_time": "2025-08-19T19:03:15.486786",
     "status": "completed"
    },
    "tags": []
   },
   "source": [
    "By Group"
   ]
  },
  {
   "cell_type": "code",
   "execution_count": 60,
   "id": "52256966",
   "metadata": {
    "execution": {
     "iopub.execute_input": "2025-08-19T19:03:15.529541Z",
     "iopub.status.busy": "2025-08-19T19:03:15.528333Z",
     "iopub.status.idle": "2025-08-19T19:03:15.560376Z",
     "shell.execute_reply": "2025-08-19T19:03:15.559299Z"
    },
    "papermill": {
     "duration": 0.048278,
     "end_time": "2025-08-19T19:03:15.562248",
     "exception": false,
     "start_time": "2025-08-19T19:03:15.513970",
     "status": "completed"
    },
    "tags": []
   },
   "outputs": [
    {
     "data": {
      "text/html": [
       "<div>\n",
       "<style scoped>\n",
       "    .dataframe tbody tr th:only-of-type {\n",
       "        vertical-align: middle;\n",
       "    }\n",
       "\n",
       "    .dataframe tbody tr th {\n",
       "        vertical-align: top;\n",
       "    }\n",
       "\n",
       "    .dataframe thead th {\n",
       "        text-align: right;\n",
       "    }\n",
       "</style>\n",
       "<table border=\"1\" class=\"dataframe\">\n",
       "  <thead>\n",
       "    <tr style=\"text-align: right;\">\n",
       "      <th></th>\n",
       "      <th>accuracy</th>\n",
       "      <th>balanced accuracy</th>\n",
       "      <th>f1</th>\n",
       "      <th>precision</th>\n",
       "      <th>false positive rate</th>\n",
       "      <th>false negative rate</th>\n",
       "      <th>selection rate</th>\n",
       "      <th>count</th>\n",
       "    </tr>\n",
       "    <tr>\n",
       "      <th>majmin</th>\n",
       "      <th></th>\n",
       "      <th></th>\n",
       "      <th></th>\n",
       "      <th></th>\n",
       "      <th></th>\n",
       "      <th></th>\n",
       "      <th></th>\n",
       "      <th></th>\n",
       "    </tr>\n",
       "  </thead>\n",
       "  <tbody>\n",
       "    <tr>\n",
       "      <th>majority</th>\n",
       "      <td>0.245583</td>\n",
       "      <td>0.555527</td>\n",
       "      <td>0.254944</td>\n",
       "      <td>0.146603</td>\n",
       "      <td>0.865750</td>\n",
       "      <td>0.023195</td>\n",
       "      <td>0.880425</td>\n",
       "      <td>69170.0</td>\n",
       "    </tr>\n",
       "    <tr>\n",
       "      <th>minority</th>\n",
       "      <td>0.147517</td>\n",
       "      <td>0.514726</td>\n",
       "      <td>0.211545</td>\n",
       "      <td>0.118397</td>\n",
       "      <td>0.962525</td>\n",
       "      <td>0.008024</td>\n",
       "      <td>0.965920</td>\n",
       "      <td>20540.0</td>\n",
       "    </tr>\n",
       "  </tbody>\n",
       "</table>\n",
       "</div>"
      ],
      "text/plain": [
       "          accuracy  balanced accuracy        f1  precision  \\\n",
       "majmin                                                       \n",
       "majority  0.245583           0.555527  0.254944   0.146603   \n",
       "minority  0.147517           0.514726  0.211545   0.118397   \n",
       "\n",
       "          false positive rate  false negative rate  selection rate    count  \n",
       "majmin                                                                       \n",
       "majority             0.865750             0.023195        0.880425  69170.0  \n",
       "minority             0.962525             0.008024        0.965920  20540.0  "
      ]
     },
     "execution_count": 60,
     "metadata": {},
     "output_type": "execute_result"
    }
   ],
   "source": [
    "metric_frame.by_group"
   ]
  },
  {
   "cell_type": "code",
   "execution_count": 61,
   "id": "6e6c20ae",
   "metadata": {
    "execution": {
     "iopub.execute_input": "2025-08-19T19:03:15.600016Z",
     "iopub.status.busy": "2025-08-19T19:03:15.598406Z",
     "iopub.status.idle": "2025-08-19T19:03:17.480941Z",
     "shell.execute_reply": "2025-08-19T19:03:17.479917Z"
    },
    "papermill": {
     "duration": 1.89804,
     "end_time": "2025-08-19T19:03:17.482275",
     "exception": false,
     "start_time": "2025-08-19T19:03:15.584235",
     "status": "completed"
    },
    "tags": []
   },
   "outputs": [
    {
     "data": {
      "text/plain": [
       "array([[<Axes: title={'center': 'accuracy'}, xlabel='majmin'>,\n",
       "        <Axes: title={'center': 'balanced accuracy'}, xlabel='majmin'>,\n",
       "        <Axes: title={'center': 'f1'}, xlabel='majmin'>],\n",
       "       [<Axes: title={'center': 'precision'}, xlabel='majmin'>,\n",
       "        <Axes: title={'center': 'false positive rate'}, xlabel='majmin'>,\n",
       "        <Axes: title={'center': 'false negative rate'}, xlabel='majmin'>],\n",
       "       [<Axes: title={'center': 'selection rate'}, xlabel='majmin'>,\n",
       "        <Axes: title={'center': 'count'}, xlabel='majmin'>,\n",
       "        <Axes: xlabel='majmin'>]], dtype=object)"
      ]
     },
     "execution_count": 61,
     "metadata": {},
     "output_type": "execute_result"
    },
    {
     "data": {
      "image/png": "[encoded data removed]",
      "text/plain": [
       "<Figure size 1200x800 with 9 Axes>"
      ]
     },
     "metadata": {},
     "output_type": "display_data"
    }
   ],
   "source": [
    "# In a graphic\n",
    "metric_frame.by_group.plot.bar(\n",
    "    subplots=True,\n",
    "    layout=[3, 3],\n",
    "    legend=False,\n",
    "    figsize=[12, 8],\n",
    "    title=\"Show all metrics\",\n",
    ")"
   ]
  },
  {
   "cell_type": "markdown",
   "id": "b2e433ae",
   "metadata": {
    "papermill": {
     "duration": 0.041291,
     "end_time": "2025-08-19T19:03:17.544042",
     "exception": false,
     "start_time": "2025-08-19T19:03:17.502751",
     "status": "completed"
    },
    "tags": []
   },
   "source": [
    "# Final Output"
   ]
  },
  {
   "cell_type": "code",
   "execution_count": 62,
   "id": "3871301e",
   "metadata": {
    "execution": {
     "iopub.execute_input": "2025-08-19T19:03:17.577590Z",
     "iopub.status.busy": "2025-08-19T19:03:17.576581Z",
     "iopub.status.idle": "2025-08-19T19:03:17.587014Z",
     "shell.execute_reply": "2025-08-19T19:03:17.586316Z"
    },
    "papermill": {
     "duration": 0.028975,
     "end_time": "2025-08-19T19:03:17.590319",
     "exception": false,
     "start_time": "2025-08-19T19:03:17.561344",
     "status": "completed"
    },
    "tags": []
   },
   "outputs": [
    {
     "data": {
      "text/plain": [
       "4"
      ]
     },
     "execution_count": 62,
     "metadata": {},
     "output_type": "execute_result"
    }
   ],
   "source": [
    "sub_universes = universe_analysis.generate_sub_universes()\n",
    "len(sub_universes)"
   ]
  },
  {
   "cell_type": "code",
   "execution_count": 63,
   "id": "d9cfdaca",
   "metadata": {
    "execution": {
     "iopub.execute_input": "2025-08-19T19:03:17.637521Z",
     "iopub.status.busy": "2025-08-19T19:03:17.636778Z",
     "iopub.status.idle": "2025-08-19T19:03:17.645833Z",
     "shell.execute_reply": "2025-08-19T19:03:17.644665Z"
    },
    "papermill": {
     "duration": 0.027175,
     "end_time": "2025-08-19T19:03:17.647402",
     "exception": false,
     "start_time": "2025-08-19T19:03:17.620227",
     "status": "completed"
    },
    "tags": []
   },
   "outputs": [],
   "source": [
    "def filter_sub_universe_data(sub_universe, org_test):\n",
    "    # Keep all rows — no filtering\n",
    "    keep_rows_mask = np.ones(org_test.shape[0], dtype=bool)\n",
    "\n",
    "    print(f\"[INFO] Keeping all rows: {keep_rows_mask.sum()} rows retained.\")\n",
    "    return keep_rows_mask"
   ]
  },
  {
   "cell_type": "code",
   "execution_count": 64,
   "id": "2bc31ac1",
   "metadata": {
    "execution": {
     "iopub.execute_input": "2025-08-19T19:03:17.703695Z",
     "iopub.status.busy": "2025-08-19T19:03:17.702603Z",
     "iopub.status.idle": "2025-08-19T19:03:24.382190Z",
     "shell.execute_reply": "2025-08-19T19:03:24.381288Z"
    },
    "papermill": {
     "duration": 6.696887,
     "end_time": "2025-08-19T19:03:24.383797",
     "exception": false,
     "start_time": "2025-08-19T19:03:17.686910",
     "status": "completed"
    },
    "tags": []
   },
   "outputs": [
    {
     "name": "stdout",
     "output_type": "stream",
     "text": [
      "Stopping execution_time clock.\n",
      "[INFO] Keeping all rows: 89710 rows retained.\n"
     ]
    },
    {
     "name": "stdout",
     "output_type": "stream",
     "text": [
      "[INFO] Keeping all rows: 89710 rows retained.\n"
     ]
    },
    {
     "name": "stdout",
     "output_type": "stream",
     "text": [
      "[INFO] Keeping all rows: 89710 rows retained.\n"
     ]
    },
    {
     "name": "stdout",
     "output_type": "stream",
     "text": [
      "[INFO] Keeping all rows: 89710 rows retained.\n"
     ]
    },
    {
     "data": {
      "text/html": [
       "<div>\n",
       "<style scoped>\n",
       "    .dataframe tbody tr th:only-of-type {\n",
       "        vertical-align: middle;\n",
       "    }\n",
       "\n",
       "    .dataframe tbody tr th {\n",
       "        vertical-align: top;\n",
       "    }\n",
       "\n",
       "    .dataframe thead th {\n",
       "        text-align: right;\n",
       "    }\n",
       "</style>\n",
       "<table border=\"1\" class=\"dataframe\">\n",
       "  <thead>\n",
       "    <tr style=\"text-align: right;\">\n",
       "      <th></th>\n",
       "      <th>run_no</th>\n",
       "      <th>universe_id</th>\n",
       "      <th>universe_settings</th>\n",
       "      <th>execution_time</th>\n",
       "      <th>test_size_n</th>\n",
       "      <th>test_size_frac</th>\n",
       "      <th>fair_main_equalized_odds_difference</th>\n",
       "      <th>fair_main_equalized_odds_ratio</th>\n",
       "      <th>fair_main_demographic_parity_difference</th>\n",
       "      <th>fair_main_demographic_parity_ratio</th>\n",
       "      <th>...</th>\n",
       "      <th>perf_grp_precision_0</th>\n",
       "      <th>perf_grp_precision_1</th>\n",
       "      <th>perf_grp_false positive rate_0</th>\n",
       "      <th>perf_grp_false positive rate_1</th>\n",
       "      <th>perf_grp_false negative rate_0</th>\n",
       "      <th>perf_grp_false negative rate_1</th>\n",
       "      <th>perf_grp_selection rate_0</th>\n",
       "      <th>perf_grp_selection rate_1</th>\n",
       "      <th>perf_grp_count_0</th>\n",
       "      <th>perf_grp_count_1</th>\n",
       "    </tr>\n",
       "  </thead>\n",
       "  <tbody>\n",
       "    <tr>\n",
       "      <th>0</th>\n",
       "      <td>3</td>\n",
       "      <td>f9e77d68c4ffbc01aa2a921b2adc2c77</td>\n",
       "      <td>{\"cutoff\": \"quantile_0.1\", \"eval_fairness_grou...</td>\n",
       "      <td>22.833874</td>\n",
       "      <td>89710</td>\n",
       "      <td>1.0</td>\n",
       "      <td>0.096774</td>\n",
       "      <td>0.899458</td>\n",
       "      <td>0.085495</td>\n",
       "      <td>0.911488</td>\n",
       "      <td>...</td>\n",
       "      <td>NaN</td>\n",
       "      <td>NaN</td>\n",
       "      <td>NaN</td>\n",
       "      <td>NaN</td>\n",
       "      <td>NaN</td>\n",
       "      <td>NaN</td>\n",
       "      <td>NaN</td>\n",
       "      <td>NaN</td>\n",
       "      <td>NaN</td>\n",
       "      <td>NaN</td>\n",
       "    </tr>\n",
       "    <tr>\n",
       "      <th>0</th>\n",
       "      <td>3</td>\n",
       "      <td>f9e77d68c4ffbc01aa2a921b2adc2c77</td>\n",
       "      <td>{\"cutoff\": \"quantile_0.1\", \"eval_fairness_grou...</td>\n",
       "      <td>22.833874</td>\n",
       "      <td>89710</td>\n",
       "      <td>1.0</td>\n",
       "      <td>0.096774</td>\n",
       "      <td>0.899458</td>\n",
       "      <td>0.085495</td>\n",
       "      <td>0.911488</td>\n",
       "      <td>...</td>\n",
       "      <td>0.118397</td>\n",
       "      <td>0.146603</td>\n",
       "      <td>0.962525</td>\n",
       "      <td>0.86575</td>\n",
       "      <td>0.008024</td>\n",
       "      <td>0.023195</td>\n",
       "      <td>0.965920</td>\n",
       "      <td>0.880425</td>\n",
       "      <td>20540.0</td>\n",
       "      <td>69170.0</td>\n",
       "    </tr>\n",
       "    <tr>\n",
       "      <th>0</th>\n",
       "      <td>3</td>\n",
       "      <td>f9e77d68c4ffbc01aa2a921b2adc2c77</td>\n",
       "      <td>{\"cutoff\": \"quantile_0.25\", \"eval_fairness_gro...</td>\n",
       "      <td>22.833874</td>\n",
       "      <td>89710</td>\n",
       "      <td>1.0</td>\n",
       "      <td>0.099042</td>\n",
       "      <td>0.876150</td>\n",
       "      <td>0.084997</td>\n",
       "      <td>0.895777</td>\n",
       "      <td>...</td>\n",
       "      <td>NaN</td>\n",
       "      <td>NaN</td>\n",
       "      <td>NaN</td>\n",
       "      <td>NaN</td>\n",
       "      <td>NaN</td>\n",
       "      <td>NaN</td>\n",
       "      <td>NaN</td>\n",
       "      <td>NaN</td>\n",
       "      <td>NaN</td>\n",
       "      <td>NaN</td>\n",
       "    </tr>\n",
       "    <tr>\n",
       "      <th>0</th>\n",
       "      <td>3</td>\n",
       "      <td>f9e77d68c4ffbc01aa2a921b2adc2c77</td>\n",
       "      <td>{\"cutoff\": \"quantile_0.25\", \"eval_fairness_gro...</td>\n",
       "      <td>22.833874</td>\n",
       "      <td>89710</td>\n",
       "      <td>1.0</td>\n",
       "      <td>0.099042</td>\n",
       "      <td>0.876150</td>\n",
       "      <td>0.084997</td>\n",
       "      <td>0.895777</td>\n",
       "      <td>...</td>\n",
       "      <td>0.132470</td>\n",
       "      <td>0.167640</td>\n",
       "      <td>0.799692</td>\n",
       "      <td>0.70065</td>\n",
       "      <td>0.062922</td>\n",
       "      <td>0.073195</td>\n",
       "      <td>0.815531</td>\n",
       "      <td>0.730533</td>\n",
       "      <td>20540.0</td>\n",
       "      <td>69170.0</td>\n",
       "    </tr>\n",
       "  </tbody>\n",
       "</table>\n",
       "<p>4 rows × 50 columns</p>\n",
       "</div>"
      ],
      "text/plain": [
       "  run_no                       universe_id  \\\n",
       "0      3  f9e77d68c4ffbc01aa2a921b2adc2c77   \n",
       "0      3  f9e77d68c4ffbc01aa2a921b2adc2c77   \n",
       "0      3  f9e77d68c4ffbc01aa2a921b2adc2c77   \n",
       "0      3  f9e77d68c4ffbc01aa2a921b2adc2c77   \n",
       "\n",
       "                                   universe_settings  execution_time  \\\n",
       "0  {\"cutoff\": \"quantile_0.1\", \"eval_fairness_grou...       22.833874   \n",
       "0  {\"cutoff\": \"quantile_0.1\", \"eval_fairness_grou...       22.833874   \n",
       "0  {\"cutoff\": \"quantile_0.25\", \"eval_fairness_gro...       22.833874   \n",
       "0  {\"cutoff\": \"quantile_0.25\", \"eval_fairness_gro...       22.833874   \n",
       "\n",
       "   test_size_n  test_size_frac  fair_main_equalized_odds_difference  \\\n",
       "0        89710             1.0                             0.096774   \n",
       "0        89710             1.0                             0.096774   \n",
       "0        89710             1.0                             0.099042   \n",
       "0        89710             1.0                             0.099042   \n",
       "\n",
       "   fair_main_equalized_odds_ratio  fair_main_demographic_parity_difference  \\\n",
       "0                        0.899458                                 0.085495   \n",
       "0                        0.899458                                 0.085495   \n",
       "0                        0.876150                                 0.084997   \n",
       "0                        0.876150                                 0.084997   \n",
       "\n",
       "   fair_main_demographic_parity_ratio  ...  perf_grp_precision_0  \\\n",
       "0                            0.911488  ...                   NaN   \n",
       "0                            0.911488  ...              0.118397   \n",
       "0                            0.895777  ...                   NaN   \n",
       "0                            0.895777  ...              0.132470   \n",
       "\n",
       "   perf_grp_precision_1  perf_grp_false positive rate_0  \\\n",
       "0                   NaN                             NaN   \n",
       "0              0.146603                        0.962525   \n",
       "0                   NaN                             NaN   \n",
       "0              0.167640                        0.799692   \n",
       "\n",
       "   perf_grp_false positive rate_1  perf_grp_false negative rate_0  \\\n",
       "0                             NaN                             NaN   \n",
       "0                         0.86575                        0.008024   \n",
       "0                             NaN                             NaN   \n",
       "0                         0.70065                        0.062922   \n",
       "\n",
       "   perf_grp_false negative rate_1  perf_grp_selection rate_0  \\\n",
       "0                             NaN                        NaN   \n",
       "0                        0.023195                   0.965920   \n",
       "0                             NaN                        NaN   \n",
       "0                        0.073195                   0.815531   \n",
       "\n",
       "   perf_grp_selection rate_1  perf_grp_count_0  perf_grp_count_1  \n",
       "0                        NaN               NaN               NaN  \n",
       "0                   0.880425           20540.0           69170.0  \n",
       "0                        NaN               NaN               NaN  \n",
       "0                   0.730533           20540.0           69170.0  \n",
       "\n",
       "[4 rows x 50 columns]"
      ]
     },
     "execution_count": 64,
     "metadata": {},
     "output_type": "execute_result"
    }
   ],
   "source": [
    "final_output = universe_analysis.generate_final_output(\n",
    "    y_pred_prob=probs_test,\n",
    "    y_test=y_true,\n",
    "    org_test=org_test,\n",
    "    filter_data=filter_sub_universe_data,\n",
    "    cp_metrics_df=cp_metrics_df,\n",
    "    save=True,\n",
    ")\n",
    "final_output"
   ]
  },
  {
   "cell_type": "code",
   "execution_count": null,
   "id": "8b80a1ff",
   "metadata": {
    "papermill": {
     "duration": 0.014194,
     "end_time": "2025-08-19T19:03:24.422331",
     "exception": false,
     "start_time": "2025-08-19T19:03:24.408137",
     "status": "completed"
    },
    "tags": []
   },
   "outputs": [],
   "source": []
  },
  {
   "cell_type": "code",
   "execution_count": null,
   "id": "275c9fad",
   "metadata": {
    "papermill": {
     "duration": 0.014048,
     "end_time": "2025-08-19T19:03:24.450334",
     "exception": false,
     "start_time": "2025-08-19T19:03:24.436286",
     "status": "completed"
    },
    "tags": []
   },
   "outputs": [],
   "source": []
  }
 ],
 "metadata": {
  "celltoolbar": "Tags",
  "kernelspec": {
   "display_name": "Python (CMA Fairness)",
   "language": "python",
   "name": "cma_fair_env"
  },
  "language_info": {
   "codemirror_mode": {
    "name": "ipython",
    "version": 3
   },
   "file_extension": ".py",
   "mimetype": "text/x-python",
   "name": "python",
   "nbconvert_exporter": "python",
   "pygments_lexer": "ipython3",
   "version": "3.10.12"
  },
  "papermill": {
   "default_parameters": {},
   "duration": 33.408803,
   "end_time": "2025-08-19T19:03:25.289062",
   "environment_variables": {},
   "exception": null,
   "input_path": "universe_analysis.ipynb",
   "output_path": "output/runs/3/notebooks/m_3-f9e77d68c4ffbc01aa2a921b2adc2c77.ipynb",
   "parameters": {
    "output_dir": "output",
    "run_no": "3",
    "seed": "2023",
    "universe": "{\"cutoff\": [\"quantile_0.1\", \"quantile_0.25\"], \"eval_fairness_grouping\": [\"majority-minority\", \"nationality-all\"], \"exclude_features\": \"none\", \"exclude_subgroups\": \"keep-all\", \"model\": \"gbm\", \"scale\": \"do-not-scale\", \"training_size\": \"1k\", \"training_year\": \"2012_14\"}",
    "universe_id": "f9e77d68c4ffbc01aa2a921b2adc2c77"
   },
   "start_time": "2025-08-19T19:02:51.880259",
   "version": "2.6.0"
  }
 },
 "nbformat": 4,
 "nbformat_minor": 5
}