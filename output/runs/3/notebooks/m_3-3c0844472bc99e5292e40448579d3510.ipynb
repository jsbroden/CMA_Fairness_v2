{
 "cells": [
  {
   "cell_type": "code",
   "execution_count": 1,
   "id": "f159f837-637b-42ba-96b5-ec9a68c44524",
   "metadata": {
    "execution": {
     "iopub.execute_input": "2025-07-22T09:18:25.547129Z",
     "iopub.status.busy": "2025-07-22T09:18:25.546729Z",
     "iopub.status.idle": "2025-07-22T09:18:25.562796Z",
     "shell.execute_reply": "2025-07-22T09:18:25.561780Z"
    },
    "papermill": {
     "duration": 0.06544,
     "end_time": "2025-07-22T09:18:25.564820",
     "exception": false,
     "start_time": "2025-07-22T09:18:25.499380",
     "status": "completed"
    },
    "tags": []
   },
   "outputs": [
    {
     "name": "stdout",
     "output_type": "stream",
     "text": [
      "/dss/dsshome1/0C/ra93lal2/cma/CMA_Fairness_v2\n"
     ]
    },
    {
     "name": "stderr",
     "output_type": "stream",
     "text": [
      "/dss/dsshome1/0C/ra93lal2/.local/share/virtualenvs/CMA_Fairness_v2-3j10GkSs/lib/python3.10/site-packages/IPython/core/magics/osm.py:393: UserWarning: This is now an optional IPython functionality, using bookmarks requires you to install the `pickleshare` library.\n",
      "  bkms = self.shell.db.get('bookmarks', {})\n",
      "/dss/dsshome1/0C/ra93lal2/.local/share/virtualenvs/CMA_Fairness_v2-3j10GkSs/lib/python3.10/site-packages/IPython/core/magics/osm.py:417: UserWarning: This is now an optional IPython functionality, setting dhist requires you to install the `pickleshare` library.\n",
      "  self.shell.db['dhist'] = compress_dhist(dhist)[-100:]\n"
     ]
    }
   ],
   "source": [
    "%cd ~/cma/CMA_Fairness_v2"
   ]
  },
  {
   "cell_type": "markdown",
   "id": "de2603b9",
   "metadata": {
    "papermill": {
     "duration": 0.032351,
     "end_time": "2025-07-22T09:18:25.629788",
     "exception": false,
     "start_time": "2025-07-22T09:18:25.597437",
     "status": "completed"
    },
    "tags": []
   },
   "source": [
    "The following cell holds the definition of our parameters, these values can be overriden by rendering the with e.g. the following command:\n",
    "\n",
    "papermill -p alpha 0.2 -p ratio 0.3 universe_analysis.ipynb output/test_run.ipynb"
   ]
  },
  {
   "cell_type": "code",
   "execution_count": 2,
   "id": "a80968a0-40bb-4fa9-85ef-2d5eefb01975",
   "metadata": {
    "execution": {
     "iopub.execute_input": "2025-07-22T09:18:25.687249Z",
     "iopub.status.busy": "2025-07-22T09:18:25.686852Z",
     "iopub.status.idle": "2025-07-22T09:18:25.692743Z",
     "shell.execute_reply": "2025-07-22T09:18:25.691701Z"
    },
    "papermill": {
     "duration": 0.037474,
     "end_time": "2025-07-22T09:18:25.694574",
     "exception": false,
     "start_time": "2025-07-22T09:18:25.657100",
     "status": "completed"
    },
    "tags": []
   },
   "outputs": [
    {
     "name": "stdout",
     "output_type": "stream",
     "text": [
      "Current working directory: /dss/dsshome1/0C/ra93lal2/cma/CMA_Fairness_v2\n"
     ]
    }
   ],
   "source": [
    "import os\n",
    "print(\"Current working directory:\", os.getcwd())"
   ]
  },
  {
   "cell_type": "code",
   "execution_count": 3,
   "id": "2dce4c03",
   "metadata": {
    "execution": {
     "iopub.execute_input": "2025-07-22T09:18:25.754824Z",
     "iopub.status.busy": "2025-07-22T09:18:25.754443Z",
     "iopub.status.idle": "2025-07-22T09:18:25.761017Z",
     "shell.execute_reply": "2025-07-22T09:18:25.759854Z"
    },
    "papermill": {
     "duration": 0.050504,
     "end_time": "2025-07-22T09:18:25.762913",
     "exception": false,
     "start_time": "2025-07-22T09:18:25.712409",
     "status": "completed"
    },
    "tags": [
     "parameters"
    ]
   },
   "outputs": [],
   "source": [
    "run_no = 0\n",
    "universe_id = \"test\"\n",
    "universe = {\n",
    "    #\"scale\": \"scale\", # \"scale\", \"do-not-scale\",\n",
    "    #\"encode_categorical\": \"one-hot\", # \"ordinal\", \"one-hot\"\n",
    "    \"model\": \"elasticnet\", # \"logreg\", \"penalized_logreg\", \"rf\", \"gbm\", \"elasticnet\"\n",
    "    \"cutoff\": [\"quantile_0.15\", \"quantile_0.30\"],\n",
    "    \"exclude_features\": \"nationality-sex\", # \"none\", \"nationality\", \"sex\", \"nationality-sex\"\n",
    "    \"exclude_subgroups\": \"keep-all\", # \"keep-all\", \"drop-non-german\"\n",
    "    \"eval_fairness_grouping\": [\"majority-minority\", \"nationality-all\"]\n",
    "}\n",
    "\n",
    "output_dir=\"./output\"\n",
    "seed=0"
   ]
  },
  {
   "cell_type": "code",
   "execution_count": 4,
   "id": "84956b96",
   "metadata": {
    "execution": {
     "iopub.execute_input": "2025-07-22T09:18:25.845617Z",
     "iopub.status.busy": "2025-07-22T09:18:25.844866Z",
     "iopub.status.idle": "2025-07-22T09:18:25.850029Z",
     "shell.execute_reply": "2025-07-22T09:18:25.849230Z"
    },
    "papermill": {
     "duration": 0.05148,
     "end_time": "2025-07-22T09:18:25.851765",
     "exception": false,
     "start_time": "2025-07-22T09:18:25.800285",
     "status": "completed"
    },
    "tags": [
     "injected-parameters"
    ]
   },
   "outputs": [],
   "source": [
    "# Parameters\n",
    "universe_id = \"3c0844472bc99e5292e40448579d3510\"\n",
    "run_no = \"3\"\n",
    "universe = \"{\\\"cutoff\\\": [\\\"quantile_0.1\\\", \\\"quantile_0.25\\\"], \\\"eval_fairness_grouping\\\": [\\\"majority-minority\\\", \\\"nationality-all\\\"], \\\"exclude_features\\\": \\\"nationality\\\", \\\"exclude_subgroups\\\": \\\"drop-non-german\\\", \\\"model\\\": \\\"gbm\\\", \\\"scale\\\": \\\"do-not-scale\\\"}\"\n",
    "output_dir = \"output\"\n",
    "seed = \"2023\"\n"
   ]
  },
  {
   "cell_type": "code",
   "execution_count": 5,
   "id": "1650acaf",
   "metadata": {
    "execution": {
     "iopub.execute_input": "2025-07-22T09:18:25.885630Z",
     "iopub.status.busy": "2025-07-22T09:18:25.885164Z",
     "iopub.status.idle": "2025-07-22T09:18:25.890569Z",
     "shell.execute_reply": "2025-07-22T09:18:25.889566Z"
    },
    "papermill": {
     "duration": 0.02449,
     "end_time": "2025-07-22T09:18:25.892885",
     "exception": false,
     "start_time": "2025-07-22T09:18:25.868395",
     "status": "completed"
    },
    "tags": []
   },
   "outputs": [],
   "source": [
    "import json\n",
    "# Parse universe into dict if it is passed as a string\n",
    "if isinstance(universe, str):\n",
    "    universe = json.loads(universe)"
   ]
  },
  {
   "cell_type": "code",
   "execution_count": 6,
   "id": "16620c48",
   "metadata": {
    "execution": {
     "iopub.execute_input": "2025-07-22T09:18:25.925427Z",
     "iopub.status.busy": "2025-07-22T09:18:25.924829Z",
     "iopub.status.idle": "2025-07-22T09:18:25.974557Z",
     "shell.execute_reply": "2025-07-22T09:18:25.973664Z"
    },
    "papermill": {
     "duration": 0.06771,
     "end_time": "2025-07-22T09:18:25.976247",
     "exception": false,
     "start_time": "2025-07-22T09:18:25.908537",
     "status": "completed"
    },
    "tags": []
   },
   "outputs": [],
   "source": [
    "# Auto-reload the custom package\n",
    "%load_ext autoreload\n",
    "%autoreload 1\n",
    "%aimport fairness_multiverse"
   ]
  },
  {
   "cell_type": "code",
   "execution_count": 7,
   "id": "01c5c9f3",
   "metadata": {
    "execution": {
     "iopub.execute_input": "2025-07-22T09:18:26.011889Z",
     "iopub.status.busy": "2025-07-22T09:18:26.011101Z",
     "iopub.status.idle": "2025-07-22T09:18:27.993060Z",
     "shell.execute_reply": "2025-07-22T09:18:27.991942Z"
    },
    "papermill": {
     "duration": 2.00106,
     "end_time": "2025-07-22T09:18:27.995056",
     "exception": false,
     "start_time": "2025-07-22T09:18:25.993996",
     "status": "completed"
    },
    "tags": []
   },
   "outputs": [],
   "source": [
    "from fairness_multiverse.universe import UniverseAnalysis\n",
    "\n",
    "universe_analysis = UniverseAnalysis(\n",
    "    run_no = run_no,\n",
    "    universe_id = universe_id,\n",
    "    universe = universe,\n",
    "    output_dir=output_dir,\n",
    ")"
   ]
  },
  {
   "cell_type": "code",
   "execution_count": 8,
   "id": "106241f5",
   "metadata": {
    "execution": {
     "iopub.execute_input": "2025-07-22T09:18:28.029913Z",
     "iopub.status.busy": "2025-07-22T09:18:28.029048Z",
     "iopub.status.idle": "2025-07-22T09:18:28.036922Z",
     "shell.execute_reply": "2025-07-22T09:18:28.035670Z"
    },
    "papermill": {
     "duration": 0.027417,
     "end_time": "2025-07-22T09:18:28.038964",
     "exception": false,
     "start_time": "2025-07-22T09:18:28.011547",
     "status": "completed"
    },
    "tags": []
   },
   "outputs": [
    {
     "name": "stdout",
     "output_type": "stream",
     "text": [
      "Using Seed: 2023\n"
     ]
    }
   ],
   "source": [
    "import numpy as np\n",
    "parsed_seed = int(seed)\n",
    "np.random.seed(parsed_seed)\n",
    "print(f\"Using Seed: {parsed_seed}\")"
   ]
  },
  {
   "cell_type": "markdown",
   "id": "e0ebdc57",
   "metadata": {
    "papermill": {
     "duration": 0.017831,
     "end_time": "2025-07-22T09:18:28.075701",
     "exception": false,
     "start_time": "2025-07-22T09:18:28.057870",
     "status": "completed"
    },
    "tags": []
   },
   "source": [
    "# Loading Data"
   ]
  },
  {
   "cell_type": "markdown",
   "id": "681925a3",
   "metadata": {
    "papermill": {
     "duration": 0.01764,
     "end_time": "2025-07-22T09:18:28.111041",
     "exception": false,
     "start_time": "2025-07-22T09:18:28.093401",
     "status": "completed"
    },
    "tags": []
   },
   "source": [
    "Load siab_train, siab_test, siab_calib and/or \n",
    "load siab_train_features, siab_train_labels"
   ]
  },
  {
   "cell_type": "code",
   "execution_count": 9,
   "id": "f0496b8a",
   "metadata": {
    "execution": {
     "iopub.execute_input": "2025-07-22T09:18:28.148338Z",
     "iopub.status.busy": "2025-07-22T09:18:28.147735Z",
     "iopub.status.idle": "2025-07-22T09:18:28.154065Z",
     "shell.execute_reply": "2025-07-22T09:18:28.152964Z"
    },
    "papermill": {
     "duration": 0.027158,
     "end_time": "2025-07-22T09:18:28.156072",
     "exception": false,
     "start_time": "2025-07-22T09:18:28.128914",
     "status": "completed"
    },
    "tags": []
   },
   "outputs": [],
   "source": [
    "# Do I need to load siab? Delete this cell?\n",
    "\n",
    "#from pathlib import Path\n",
    "#import pandas as pd\n",
    "#\n",
    "## File paths\n",
    "#raw_file = Path(\"data/raw/siab.csv\")\n",
    "#cache_file = Path(\"data/siab_cached.csv.gz\")\n",
    "#\n",
    "## Ensure cache directory exists\n",
    "#cache_file.parent.mkdir(parents=True, exist_ok=True)\n",
    "#\n",
    "## Load with simple caching\n",
    "#if cache_file.exists():\n",
    "#    print(f\"Loading SIAB data from cache: {cache_file}\")\n",
    "#    siab = pd.read_csv(cache_file, compression='gzip')\n",
    "#else:\n",
    "#    print(f\"Cache not found. Reading raw SIAB data: {raw_file}\")\n",
    "#    siab = pd.read_csv(raw_file)\n",
    "#    siab.to_csv(cache_file, index=False, compression='gzip')\n",
    "#    print(f\"Cached SIAB data to: {cache_file}\")\n",
    "#\n",
    "## Now use `siab` DataFrame as needed\n",
    "#print(siab.shape)\n"
   ]
  },
  {
   "cell_type": "code",
   "execution_count": 10,
   "id": "a0edb063",
   "metadata": {
    "execution": {
     "iopub.execute_input": "2025-07-22T09:18:28.194718Z",
     "iopub.status.busy": "2025-07-22T09:18:28.194073Z",
     "iopub.status.idle": "2025-07-22T09:18:28.615415Z",
     "shell.execute_reply": "2025-07-22T09:18:28.614417Z"
    },
    "papermill": {
     "duration": 0.442344,
     "end_time": "2025-07-22T09:18:28.617564",
     "exception": false,
     "start_time": "2025-07-22T09:18:28.175220",
     "status": "completed"
    },
    "tags": []
   },
   "outputs": [],
   "source": [
    "import pandas as pd\n",
    "\n",
    "X_train = pd.read_csv(\"./data/X_train.csv\")\n",
    "y_train = pd.read_csv(\"./data/y_train.csv\")"
   ]
  },
  {
   "cell_type": "code",
   "execution_count": 11,
   "id": "63d08085",
   "metadata": {
    "execution": {
     "iopub.execute_input": "2025-07-22T09:18:28.656116Z",
     "iopub.status.busy": "2025-07-22T09:18:28.655198Z",
     "iopub.status.idle": "2025-07-22T09:18:29.876103Z",
     "shell.execute_reply": "2025-07-22T09:18:29.875132Z"
    },
    "papermill": {
     "duration": 1.242018,
     "end_time": "2025-07-22T09:18:29.878282",
     "exception": false,
     "start_time": "2025-07-22T09:18:28.636264",
     "status": "completed"
    },
    "tags": []
   },
   "outputs": [],
   "source": [
    "X_test = pd.read_csv(\"./data/X_test.csv\")\n",
    "y_true = pd.read_csv(\"./data/y_test.csv\")"
   ]
  },
  {
   "cell_type": "code",
   "execution_count": 12,
   "id": "98a8d0fa-1d3d-4ed8-bb2c-281470e24add",
   "metadata": {
    "execution": {
     "iopub.execute_input": "2025-07-22T09:18:29.919414Z",
     "iopub.status.busy": "2025-07-22T09:18:29.918807Z",
     "iopub.status.idle": "2025-07-22T09:18:31.403300Z",
     "shell.execute_reply": "2025-07-22T09:18:31.401917Z"
    },
    "papermill": {
     "duration": 1.507281,
     "end_time": "2025-07-22T09:18:31.405870",
     "exception": false,
     "start_time": "2025-07-22T09:18:29.898589",
     "status": "completed"
    },
    "tags": []
   },
   "outputs": [],
   "source": [
    "# Calibration data for conformal\n",
    "X_calib = pd.read_csv(\"./data/X_calib.csv\")\n",
    "y_calib = pd.read_csv(\"./data/y_calib.csv\")"
   ]
  },
  {
   "cell_type": "code",
   "execution_count": 13,
   "id": "e6c733c5",
   "metadata": {
    "execution": {
     "iopub.execute_input": "2025-07-22T09:18:31.440208Z",
     "iopub.status.busy": "2025-07-22T09:18:31.439489Z",
     "iopub.status.idle": "2025-07-22T09:18:31.545627Z",
     "shell.execute_reply": "2025-07-22T09:18:31.544629Z"
    },
    "papermill": {
     "duration": 0.125284,
     "end_time": "2025-07-22T09:18:31.547482",
     "exception": false,
     "start_time": "2025-07-22T09:18:31.422198",
     "status": "completed"
    },
    "tags": []
   },
   "outputs": [],
   "source": [
    "# Auxiliary data needed downstream in the pipeline\n",
    "\n",
    "org_train = X_train.copy()\n",
    "org_test = X_test.copy()\n",
    "org_calib = X_calib.copy()"
   ]
  },
  {
   "cell_type": "markdown",
   "id": "0a4a1b33",
   "metadata": {
    "papermill": {
     "duration": 0.016854,
     "end_time": "2025-07-22T09:18:31.582460",
     "exception": false,
     "start_time": "2025-07-22T09:18:31.565606",
     "status": "completed"
    },
    "tags": []
   },
   "source": [
    "# Preprocessing Data"
   ]
  },
  {
   "cell_type": "code",
   "execution_count": 14,
   "id": "ca879031",
   "metadata": {
    "execution": {
     "iopub.execute_input": "2025-07-22T09:18:31.614705Z",
     "iopub.status.busy": "2025-07-22T09:18:31.614184Z",
     "iopub.status.idle": "2025-07-22T09:18:31.621027Z",
     "shell.execute_reply": "2025-07-22T09:18:31.619682Z"
    },
    "papermill": {
     "duration": 0.025114,
     "end_time": "2025-07-22T09:18:31.622632",
     "exception": false,
     "start_time": "2025-07-22T09:18:31.597518",
     "status": "completed"
    },
    "tags": []
   },
   "outputs": [],
   "source": [
    "# EXCLUDE PROTECTED FEATURES\n",
    "# ----------------------\n",
    "# \"exclude_features\": \"none\", # \"nationality\", \"sex\", \"nationality-sex\"\n",
    "\n",
    "excluded_features = universe[\"exclude_features\"].split(\"-\") # split, e.g.: \"nationality-sex\" -> [\"nationality\", \"sex\"]\n",
    "excluded_features_dictionary = {\n",
    "    \"nationality\": [\"maxdeutsch1\", \"maxdeutsch.Missing.\"],\n",
    "    \"sex\": [\"frau1\"],\n",
    "}\n"
   ]
  },
  {
   "cell_type": "code",
   "execution_count": 15,
   "id": "b745ac60",
   "metadata": {
    "execution": {
     "iopub.execute_input": "2025-07-22T09:18:31.658223Z",
     "iopub.status.busy": "2025-07-22T09:18:31.657264Z",
     "iopub.status.idle": "2025-07-22T09:18:31.663458Z",
     "shell.execute_reply": "2025-07-22T09:18:31.662587Z"
    },
    "papermill": {
     "duration": 0.025233,
     "end_time": "2025-07-22T09:18:31.665349",
     "exception": false,
     "start_time": "2025-07-22T09:18:31.640116",
     "status": "completed"
    },
    "tags": []
   },
   "outputs": [],
   "source": [
    "# Code nice names to column names\n",
    "\n",
    "excluded_features_columns = [\n",
    "    excluded_features_dictionary[f] for f in excluded_features if len(f) > 0 and f != \"none\"\n",
    "]"
   ]
  },
  {
   "cell_type": "code",
   "execution_count": 16,
   "id": "f84f73a2",
   "metadata": {
    "execution": {
     "iopub.execute_input": "2025-07-22T09:18:31.699348Z",
     "iopub.status.busy": "2025-07-22T09:18:31.698540Z",
     "iopub.status.idle": "2025-07-22T09:18:31.706078Z",
     "shell.execute_reply": "2025-07-22T09:18:31.704858Z"
    },
    "papermill": {
     "duration": 0.025463,
     "end_time": "2025-07-22T09:18:31.707655",
     "exception": false,
     "start_time": "2025-07-22T09:18:31.682192",
     "status": "completed"
    },
    "tags": []
   },
   "outputs": [],
   "source": [
    "from utils import flatten_once\n",
    "\n",
    "excluded_features_columns = flatten_once(excluded_features_columns)"
   ]
  },
  {
   "cell_type": "code",
   "execution_count": 17,
   "id": "884dea22",
   "metadata": {
    "execution": {
     "iopub.execute_input": "2025-07-22T09:18:31.742230Z",
     "iopub.status.busy": "2025-07-22T09:18:31.741550Z",
     "iopub.status.idle": "2025-07-22T09:18:31.759247Z",
     "shell.execute_reply": "2025-07-22T09:18:31.758229Z"
    },
    "papermill": {
     "duration": 0.036323,
     "end_time": "2025-07-22T09:18:31.761022",
     "exception": false,
     "start_time": "2025-07-22T09:18:31.724699",
     "status": "completed"
    },
    "tags": []
   },
   "outputs": [
    {
     "name": "stdout",
     "output_type": "stream",
     "text": [
      "Dropping features: ['maxdeutsch1', 'maxdeutsch.Missing.']\n"
     ]
    }
   ],
   "source": [
    "if len(excluded_features_columns) > 0:\n",
    "    print(f\"Dropping features: {excluded_features_columns}\")\n",
    "    X_train.drop(excluded_features_columns, axis=1, inplace=True)"
   ]
  },
  {
   "cell_type": "code",
   "execution_count": 18,
   "id": "95ab8b16",
   "metadata": {
    "execution": {
     "iopub.execute_input": "2025-07-22T09:18:31.799406Z",
     "iopub.status.busy": "2025-07-22T09:18:31.798587Z",
     "iopub.status.idle": "2025-07-22T09:18:31.855515Z",
     "shell.execute_reply": "2025-07-22T09:18:31.854226Z"
    },
    "papermill": {
     "duration": 0.077693,
     "end_time": "2025-07-22T09:18:31.857465",
     "exception": false,
     "start_time": "2025-07-22T09:18:31.779772",
     "status": "completed"
    },
    "tags": []
   },
   "outputs": [
    {
     "name": "stdout",
     "output_type": "stream",
     "text": [
      "Dropping features: ['maxdeutsch1', 'maxdeutsch.Missing.']\n"
     ]
    }
   ],
   "source": [
    "if len(excluded_features_columns) > 0:\n",
    "    print(f\"Dropping features: {excluded_features_columns}\")\n",
    "    X_test.drop(excluded_features_columns, axis=1, inplace=True)"
   ]
  },
  {
   "cell_type": "code",
   "execution_count": 19,
   "id": "1853aaf5-fb9f-46cb-a2b5-8ea4ae2237e4",
   "metadata": {
    "execution": {
     "iopub.execute_input": "2025-07-22T09:18:31.894514Z",
     "iopub.status.busy": "2025-07-22T09:18:31.893700Z",
     "iopub.status.idle": "2025-07-22T09:18:31.947894Z",
     "shell.execute_reply": "2025-07-22T09:18:31.946788Z"
    },
    "papermill": {
     "duration": 0.074381,
     "end_time": "2025-07-22T09:18:31.949969",
     "exception": false,
     "start_time": "2025-07-22T09:18:31.875588",
     "status": "completed"
    },
    "tags": []
   },
   "outputs": [
    {
     "name": "stdout",
     "output_type": "stream",
     "text": [
      "Dropping features: ['maxdeutsch1', 'maxdeutsch.Missing.']\n"
     ]
    }
   ],
   "source": [
    "if len(excluded_features_columns) > 0:\n",
    "    print(f\"Dropping features: {excluded_features_columns}\")\n",
    "    X_calib.drop(excluded_features_columns, axis=1, inplace=True)"
   ]
  },
  {
   "cell_type": "code",
   "execution_count": 20,
   "id": "76c4dc6d",
   "metadata": {
    "execution": {
     "iopub.execute_input": "2025-07-22T09:18:31.990739Z",
     "iopub.status.busy": "2025-07-22T09:18:31.990318Z",
     "iopub.status.idle": "2025-07-22T09:18:31.995782Z",
     "shell.execute_reply": "2025-07-22T09:18:31.994694Z"
    },
    "papermill": {
     "duration": 0.026709,
     "end_time": "2025-07-22T09:18:31.997875",
     "exception": false,
     "start_time": "2025-07-22T09:18:31.971166",
     "status": "completed"
    },
    "tags": []
   },
   "outputs": [],
   "source": [
    "# EXCLUDE CERTAIN SUBGROUPS\n",
    "# ----------------------\n",
    "\n",
    "mode = universe.get(\"exclude_subgroups\", \"keep-all\") \n",
    "# Fetches the exclude_subgroups setting from the universe dict.\n",
    "# Defaults to \"keep-all\" if the key is missing."
   ]
  },
  {
   "cell_type": "code",
   "execution_count": 21,
   "id": "21994072",
   "metadata": {
    "execution": {
     "iopub.execute_input": "2025-07-22T09:18:32.036041Z",
     "iopub.status.busy": "2025-07-22T09:18:32.035325Z",
     "iopub.status.idle": "2025-07-22T09:18:32.042764Z",
     "shell.execute_reply": "2025-07-22T09:18:32.041668Z"
    },
    "papermill": {
     "duration": 0.028222,
     "end_time": "2025-07-22T09:18:32.044810",
     "exception": false,
     "start_time": "2025-07-22T09:18:32.016588",
     "status": "completed"
    },
    "tags": []
   },
   "outputs": [],
   "source": [
    "if mode == \"keep-all\":\n",
    "    keep_mask = pd.Series(True, index=org_train.index)\n",
    "\n",
    "# org_train contains the original feature columns from features_org (in Simson)\n",
    "# features_org contains unprocessed features, for me X_train at beginning ???\n",
    "# For keep-all, creates a boolean Series (keep_mask) of all True, so no rows are removed.\n",
    "\n",
    "elif mode == \"drop-non-german\":\n",
    "    keep_mask = org_train[\"maxdeutsch1\"] == 1 # ??? what about missing values?\n",
    "\n",
    "else:\n",
    "    raise ValueError(f\"Unsupported mode for exclude_subgroups: {mode}\")\n"
   ]
  },
  {
   "cell_type": "code",
   "execution_count": 22,
   "id": "71651440",
   "metadata": {
    "execution": {
     "iopub.execute_input": "2025-07-22T09:18:32.077774Z",
     "iopub.status.busy": "2025-07-22T09:18:32.077108Z",
     "iopub.status.idle": "2025-07-22T09:18:32.083797Z",
     "shell.execute_reply": "2025-07-22T09:18:32.082927Z"
    },
    "papermill": {
     "duration": 0.024149,
     "end_time": "2025-07-22T09:18:32.085435",
     "exception": false,
     "start_time": "2025-07-22T09:18:32.061286",
     "status": "completed"
    },
    "tags": []
   },
   "outputs": [
    {
     "name": "stdout",
     "output_type": "stream",
     "text": [
      "Dropping 3312 rows (13.25%) where mode='drop-non-german'\n"
     ]
    }
   ],
   "source": [
    "n_drop = (~keep_mask).sum() # Calculates how many rows are set to be dropped\n",
    "if n_drop > 0:\n",
    "    pct = n_drop / len(keep_mask) * 100\n",
    "    print(f\"Dropping {n_drop} rows ({pct:.2f}%) where mode='{mode}'\")"
   ]
  },
  {
   "cell_type": "code",
   "execution_count": 23,
   "id": "5fb8eee5",
   "metadata": {
    "execution": {
     "iopub.execute_input": "2025-07-22T09:18:32.121480Z",
     "iopub.status.busy": "2025-07-22T09:18:32.120986Z",
     "iopub.status.idle": "2025-07-22T09:18:32.140756Z",
     "shell.execute_reply": "2025-07-22T09:18:32.139998Z"
    },
    "papermill": {
     "duration": 0.038646,
     "end_time": "2025-07-22T09:18:32.142179",
     "exception": false,
     "start_time": "2025-07-22T09:18:32.103533",
     "status": "completed"
    },
    "tags": []
   },
   "outputs": [],
   "source": [
    "X_train = X_train[keep_mask]"
   ]
  },
  {
   "cell_type": "code",
   "execution_count": 24,
   "id": "b202bb3a",
   "metadata": {
    "execution": {
     "iopub.execute_input": "2025-07-22T09:18:32.164210Z",
     "iopub.status.busy": "2025-07-22T09:18:32.163740Z",
     "iopub.status.idle": "2025-07-22T09:18:32.169285Z",
     "shell.execute_reply": "2025-07-22T09:18:32.168502Z"
    },
    "papermill": {
     "duration": 0.016806,
     "end_time": "2025-07-22T09:18:32.170718",
     "exception": false,
     "start_time": "2025-07-22T09:18:32.153912",
     "status": "completed"
    },
    "tags": []
   },
   "outputs": [],
   "source": [
    "y_train = y_train[keep_mask]"
   ]
  },
  {
   "cell_type": "markdown",
   "id": "493e2ac3",
   "metadata": {
    "papermill": {
     "duration": 0.019132,
     "end_time": "2025-07-22T09:18:32.202373",
     "exception": false,
     "start_time": "2025-07-22T09:18:32.183241",
     "status": "completed"
    },
    "tags": []
   },
   "source": [
    "# Model Training"
   ]
  },
  {
   "cell_type": "code",
   "execution_count": 25,
   "id": "679e1268",
   "metadata": {
    "execution": {
     "iopub.execute_input": "2025-07-22T09:18:32.250775Z",
     "iopub.status.busy": "2025-07-22T09:18:32.250284Z",
     "iopub.status.idle": "2025-07-22T09:18:32.352968Z",
     "shell.execute_reply": "2025-07-22T09:18:32.352017Z"
    },
    "papermill": {
     "duration": 0.129437,
     "end_time": "2025-07-22T09:18:32.355087",
     "exception": false,
     "start_time": "2025-07-22T09:18:32.225650",
     "status": "completed"
    },
    "tags": []
   },
   "outputs": [],
   "source": [
    "from sklearn.linear_model import LogisticRegression\n",
    "from sklearn.ensemble import GradientBoostingClassifier, RandomForestClassifier\n",
    "\n",
    "if (universe[\"model\"] == \"logreg\"):\n",
    "    model = LogisticRegression() #penalty=\"none\") #, solver=\"newton-cg\", max_iter=1) # include random_state=19 ?\n",
    "elif (universe[\"model\"] == \"penalized_logreg\"):\n",
    "    model = LogisticRegression(penalty=\"l2\", C=1.0) #, solver=\"newton-cg\", max_iter=1)\n",
    "elif (universe[\"model\"] == \"rf\"):\n",
    "    model = RandomForestClassifier(n_estimators=100, n_jobs=-1)\n",
    "elif (universe[\"model\"] == \"gbm\"):\n",
    "    model = GradientBoostingClassifier()\n",
    "elif (universe[\"model\"] == \"elasticnet\"):\n",
    "    model = LogisticRegression(penalty = 'elasticnet', solver = 'saga', l1_ratio = 0.5, max_iter=5000) # which solver to use?\n",
    "else:\n",
    "    raise \"Unsupported universe.model\""
   ]
  },
  {
   "cell_type": "code",
   "execution_count": 26,
   "id": "0cc8f744",
   "metadata": {
    "execution": {
     "iopub.execute_input": "2025-07-22T09:18:32.390599Z",
     "iopub.status.busy": "2025-07-22T09:18:32.390147Z",
     "iopub.status.idle": "2025-07-22T09:18:32.396811Z",
     "shell.execute_reply": "2025-07-22T09:18:32.395720Z"
    },
    "papermill": {
     "duration": 0.026091,
     "end_time": "2025-07-22T09:18:32.398712",
     "exception": false,
     "start_time": "2025-07-22T09:18:32.372621",
     "status": "completed"
    },
    "tags": []
   },
   "outputs": [],
   "source": [
    "import numpy as np\n",
    "from sklearn.pipeline import Pipeline\n",
    "from sklearn.preprocessing import StandardScaler\n",
    "\n",
    "model = Pipeline([\n",
    "    #(\"continuous_processor\", continuous_processor),\n",
    "    #(\"categorical_preprocessor\", categorical_preprocessor),\n",
    "    (\"scale\", StandardScaler() if universe[\"scale\"] == \"scale\" else None),\n",
    "    (\"model\", model),\n",
    "])"
   ]
  },
  {
   "cell_type": "code",
   "execution_count": 27,
   "id": "9442c04d",
   "metadata": {
    "execution": {
     "iopub.execute_input": "2025-07-22T09:18:32.437480Z",
     "iopub.status.busy": "2025-07-22T09:18:32.437007Z",
     "iopub.status.idle": "2025-07-22T09:18:53.967713Z",
     "shell.execute_reply": "2025-07-22T09:18:53.966524Z"
    },
    "papermill": {
     "duration": 21.551635,
     "end_time": "2025-07-22T09:18:53.969798",
     "exception": false,
     "start_time": "2025-07-22T09:18:32.418163",
     "status": "completed"
    },
    "tags": []
   },
   "outputs": [
    {
     "data": {
      "text/html": [
       "<style>#sk-container-id-1 {color: black;background-color: white;}#sk-container-id-1 pre{padding: 0;}#sk-container-id-1 div.sk-toggleable {background-color: white;}#sk-container-id-1 label.sk-toggleable__label {cursor: pointer;display: block;width: 100%;margin-bottom: 0;padding: 0.3em;box-sizing: border-box;text-align: center;}#sk-container-id-1 label.sk-toggleable__label-arrow:before {content: \"▸\";float: left;margin-right: 0.25em;color: #696969;}#sk-container-id-1 label.sk-toggleable__label-arrow:hover:before {color: black;}#sk-container-id-1 div.sk-estimator:hover label.sk-toggleable__label-arrow:before {color: black;}#sk-container-id-1 div.sk-toggleable__content {max-height: 0;max-width: 0;overflow: hidden;text-align: left;background-color: #f0f8ff;}#sk-container-id-1 div.sk-toggleable__content pre {margin: 0.2em;color: black;border-radius: 0.25em;background-color: #f0f8ff;}#sk-container-id-1 input.sk-toggleable__control:checked~div.sk-toggleable__content {max-height: 200px;max-width: 100%;overflow: auto;}#sk-container-id-1 input.sk-toggleable__control:checked~label.sk-toggleable__label-arrow:before {content: \"▾\";}#sk-container-id-1 div.sk-estimator input.sk-toggleable__control:checked~label.sk-toggleable__label {background-color: #d4ebff;}#sk-container-id-1 div.sk-label input.sk-toggleable__control:checked~label.sk-toggleable__label {background-color: #d4ebff;}#sk-container-id-1 input.sk-hidden--visually {border: 0;clip: rect(1px 1px 1px 1px);clip: rect(1px, 1px, 1px, 1px);height: 1px;margin: -1px;overflow: hidden;padding: 0;position: absolute;width: 1px;}#sk-container-id-1 div.sk-estimator {font-family: monospace;background-color: #f0f8ff;border: 1px dotted black;border-radius: 0.25em;box-sizing: border-box;margin-bottom: 0.5em;}#sk-container-id-1 div.sk-estimator:hover {background-color: #d4ebff;}#sk-container-id-1 div.sk-parallel-item::after {content: \"\";width: 100%;border-bottom: 1px solid gray;flex-grow: 1;}#sk-container-id-1 div.sk-label:hover label.sk-toggleable__label {background-color: #d4ebff;}#sk-container-id-1 div.sk-serial::before {content: \"\";position: absolute;border-left: 1px solid gray;box-sizing: border-box;top: 0;bottom: 0;left: 50%;z-index: 0;}#sk-container-id-1 div.sk-serial {display: flex;flex-direction: column;align-items: center;background-color: white;padding-right: 0.2em;padding-left: 0.2em;position: relative;}#sk-container-id-1 div.sk-item {position: relative;z-index: 1;}#sk-container-id-1 div.sk-parallel {display: flex;align-items: stretch;justify-content: center;background-color: white;position: relative;}#sk-container-id-1 div.sk-item::before, #sk-container-id-1 div.sk-parallel-item::before {content: \"\";position: absolute;border-left: 1px solid gray;box-sizing: border-box;top: 0;bottom: 0;left: 50%;z-index: -1;}#sk-container-id-1 div.sk-parallel-item {display: flex;flex-direction: column;z-index: 1;position: relative;background-color: white;}#sk-container-id-1 div.sk-parallel-item:first-child::after {align-self: flex-end;width: 50%;}#sk-container-id-1 div.sk-parallel-item:last-child::after {align-self: flex-start;width: 50%;}#sk-container-id-1 div.sk-parallel-item:only-child::after {width: 0;}#sk-container-id-1 div.sk-dashed-wrapped {border: 1px dashed gray;margin: 0 0.4em 0.5em 0.4em;box-sizing: border-box;padding-bottom: 0.4em;background-color: white;}#sk-container-id-1 div.sk-label label {font-family: monospace;font-weight: bold;display: inline-block;line-height: 1.2em;}#sk-container-id-1 div.sk-label-container {text-align: center;}#sk-container-id-1 div.sk-container {/* jupyter's `normalize.less` sets `[hidden] { display: none; }` but bootstrap.min.css set `[hidden] { display: none !important; }` so we also need the `!important` here to be able to override the default hidden behavior on the sphinx rendered scikit-learn.org. See: https://github.com/scikit-learn/scikit-learn/issues/21755 */display: inline-block !important;position: relative;}#sk-container-id-1 div.sk-text-repr-fallback {display: none;}</style><div id=\"sk-container-id-1\" class=\"sk-top-container\"><div class=\"sk-text-repr-fallback\"><pre>Pipeline(steps=[(&#x27;scale&#x27;, None), (&#x27;model&#x27;, GradientBoostingClassifier())])</pre><b>In a Jupyter environment, please rerun this cell to show the HTML representation or trust the notebook. <br />On GitHub, the HTML representation is unable to render, please try loading this page with nbviewer.org.</b></div><div class=\"sk-container\" hidden><div class=\"sk-item sk-dashed-wrapped\"><div class=\"sk-label-container\"><div class=\"sk-label sk-toggleable\"><input class=\"sk-toggleable__control sk-hidden--visually\" id=\"sk-estimator-id-1\" type=\"checkbox\" ><label for=\"sk-estimator-id-1\" class=\"sk-toggleable__label sk-toggleable__label-arrow\">Pipeline</label><div class=\"sk-toggleable__content\"><pre>Pipeline(steps=[(&#x27;scale&#x27;, None), (&#x27;model&#x27;, GradientBoostingClassifier())])</pre></div></div></div><div class=\"sk-serial\"><div class=\"sk-item\"><div class=\"sk-estimator sk-toggleable\"><input class=\"sk-toggleable__control sk-hidden--visually\" id=\"sk-estimator-id-2\" type=\"checkbox\" ><label for=\"sk-estimator-id-2\" class=\"sk-toggleable__label sk-toggleable__label-arrow\">None</label><div class=\"sk-toggleable__content\"><pre>None</pre></div></div></div><div class=\"sk-item\"><div class=\"sk-estimator sk-toggleable\"><input class=\"sk-toggleable__control sk-hidden--visually\" id=\"sk-estimator-id-3\" type=\"checkbox\" ><label for=\"sk-estimator-id-3\" class=\"sk-toggleable__label sk-toggleable__label-arrow\">GradientBoostingClassifier</label><div class=\"sk-toggleable__content\"><pre>GradientBoostingClassifier()</pre></div></div></div></div></div></div></div>"
      ],
      "text/plain": [
       "Pipeline(steps=[('scale', None), ('model', GradientBoostingClassifier())])"
      ]
     },
     "execution_count": 27,
     "metadata": {},
     "output_type": "execute_result"
    }
   ],
   "source": [
    "model.fit(X_train, y_train.values.ravel())"
   ]
  },
  {
   "cell_type": "code",
   "execution_count": 28,
   "id": "af59f8c0",
   "metadata": {
    "execution": {
     "iopub.execute_input": "2025-07-22T09:18:54.012786Z",
     "iopub.status.busy": "2025-07-22T09:18:54.011982Z",
     "iopub.status.idle": "2025-07-22T09:18:54.018160Z",
     "shell.execute_reply": "2025-07-22T09:18:54.017144Z"
    },
    "papermill": {
     "duration": 0.028372,
     "end_time": "2025-07-22T09:18:54.020047",
     "exception": false,
     "start_time": "2025-07-22T09:18:53.991675",
     "status": "completed"
    },
    "tags": []
   },
   "outputs": [],
   "source": [
    "from fairness_multiverse.universe import predict_w_threshold"
   ]
  },
  {
   "cell_type": "code",
   "execution_count": 29,
   "id": "a7cf2e16",
   "metadata": {
    "execution": {
     "iopub.execute_input": "2025-07-22T09:18:54.066079Z",
     "iopub.status.busy": "2025-07-22T09:18:54.065374Z",
     "iopub.status.idle": "2025-07-22T09:18:54.841697Z",
     "shell.execute_reply": "2025-07-22T09:18:54.840772Z"
    },
    "papermill": {
     "duration": 0.800992,
     "end_time": "2025-07-22T09:18:54.843533",
     "exception": false,
     "start_time": "2025-07-22T09:18:54.042541",
     "status": "completed"
    },
    "tags": []
   },
   "outputs": [
    {
     "data": {
      "text/plain": [
       "0.8683535837699253"
      ]
     },
     "execution_count": 29,
     "metadata": {},
     "output_type": "execute_result"
    }
   ],
   "source": [
    "probs_test = model.predict_proba(X_test)\n",
    "\n",
    "'''\n",
    "Below code returns a boolean array (or binary 0/1 array depending on how it’s used) where each element \n",
    "is True if the probability of class 1 is greater than or equal to the threshold, and False otherwise.\n",
    "'''\n",
    "y_pred_default = predict_w_threshold(probs_test, 0.5)\n",
    "\n",
    "from sklearn.metrics import accuracy_score\n",
    "\n",
    "# Naive prediction\n",
    "accuracy_score(y_true = y_true, y_pred = y_pred_default)"
   ]
  },
  {
   "cell_type": "code",
   "execution_count": 30,
   "id": "081964c3",
   "metadata": {
    "execution": {
     "iopub.execute_input": "2025-07-22T09:18:54.887261Z",
     "iopub.status.busy": "2025-07-22T09:18:54.886381Z",
     "iopub.status.idle": "2025-07-22T09:18:55.496712Z",
     "shell.execute_reply": "2025-07-22T09:18:55.495225Z"
    },
    "papermill": {
     "duration": 0.634392,
     "end_time": "2025-07-22T09:18:55.498215",
     "exception": false,
     "start_time": "2025-07-22T09:18:54.863823",
     "status": "completed"
    },
    "tags": []
   },
   "outputs": [
    {
     "data": {
      "text/plain": [
       "array([0, 0, 0, ..., 0, 0, 0])"
      ]
     },
     "execution_count": 30,
     "metadata": {},
     "output_type": "execute_result"
    }
   ],
   "source": [
    "model.predict(X_test)"
   ]
  },
  {
   "cell_type": "markdown",
   "id": "56c9705b",
   "metadata": {
    "papermill": {
     "duration": 0.019446,
     "end_time": "2025-07-22T09:18:55.533149",
     "exception": false,
     "start_time": "2025-07-22T09:18:55.513703",
     "status": "completed"
    },
    "tags": []
   },
   "source": [
    "# Conformal Prediction"
   ]
  },
  {
   "cell_type": "code",
   "execution_count": 31,
   "id": "160ec6ff",
   "metadata": {
    "execution": {
     "iopub.execute_input": "2025-07-22T09:18:55.567269Z",
     "iopub.status.busy": "2025-07-22T09:18:55.566651Z",
     "iopub.status.idle": "2025-07-22T09:18:55.571699Z",
     "shell.execute_reply": "2025-07-22T09:18:55.570936Z"
    },
    "papermill": {
     "duration": 0.01994,
     "end_time": "2025-07-22T09:18:55.573290",
     "exception": false,
     "start_time": "2025-07-22T09:18:55.553350",
     "status": "completed"
    },
    "tags": []
   },
   "outputs": [],
   "source": [
    "# Miscoverage level for conformal prediction (10% allowed error rate => 90% target coverage)\n",
    "alpha = 0.1"
   ]
  },
  {
   "cell_type": "code",
   "execution_count": 32,
   "id": "eadf4555-3dd3-440e-8e35-f82a4ad9f855",
   "metadata": {
    "execution": {
     "iopub.execute_input": "2025-07-22T09:18:55.597989Z",
     "iopub.status.busy": "2025-07-22T09:18:55.597599Z",
     "iopub.status.idle": "2025-07-22T09:18:56.025440Z",
     "shell.execute_reply": "2025-07-22T09:18:56.024647Z"
    },
    "papermill": {
     "duration": 0.44257,
     "end_time": "2025-07-22T09:18:56.026929",
     "exception": false,
     "start_time": "2025-07-22T09:18:55.584359",
     "status": "completed"
    },
    "tags": []
   },
   "outputs": [],
   "source": [
    "probs_calib = model.predict_proba(X_calib)"
   ]
  },
  {
   "cell_type": "code",
   "execution_count": 33,
   "id": "2ed93547-6d5d-4983-9b36-1ecb300da49a",
   "metadata": {
    "execution": {
     "iopub.execute_input": "2025-07-22T09:18:56.048610Z",
     "iopub.status.busy": "2025-07-22T09:18:56.048224Z",
     "iopub.status.idle": "2025-07-22T09:18:56.053492Z",
     "shell.execute_reply": "2025-07-22T09:18:56.052646Z"
    },
    "papermill": {
     "duration": 0.017638,
     "end_time": "2025-07-22T09:18:56.055019",
     "exception": false,
     "start_time": "2025-07-22T09:18:56.037381",
     "status": "completed"
    },
    "tags": []
   },
   "outputs": [],
   "source": [
    "y_calib = y_calib.values.ravel().astype(int)"
   ]
  },
  {
   "cell_type": "code",
   "execution_count": 34,
   "id": "65d1320d-f588-4b38-9072-62af1ae97f7d",
   "metadata": {
    "execution": {
     "iopub.execute_input": "2025-07-22T09:18:56.078722Z",
     "iopub.status.busy": "2025-07-22T09:18:56.078009Z",
     "iopub.status.idle": "2025-07-22T09:18:56.085174Z",
     "shell.execute_reply": "2025-07-22T09:18:56.084315Z"
    },
    "papermill": {
     "duration": 0.019799,
     "end_time": "2025-07-22T09:18:56.086822",
     "exception": false,
     "start_time": "2025-07-22T09:18:56.067023",
     "status": "completed"
    },
    "tags": []
   },
   "outputs": [],
   "source": [
    "from fairness_multiverse.conformal import compute_nc_scores\n",
    "\n",
    "# Compute nonconformity scores on calibration set (1 - probability of true class)\n",
    "nc_scores = compute_nc_scores(probs_calib, y_calib)"
   ]
  },
  {
   "cell_type": "code",
   "execution_count": 35,
   "id": "df3b8ca3-53b7-43d5-9667-7c85da7aeda2",
   "metadata": {
    "execution": {
     "iopub.execute_input": "2025-07-22T09:18:56.109871Z",
     "iopub.status.busy": "2025-07-22T09:18:56.109359Z",
     "iopub.status.idle": "2025-07-22T09:18:56.115277Z",
     "shell.execute_reply": "2025-07-22T09:18:56.114389Z"
    },
    "papermill": {
     "duration": 0.018704,
     "end_time": "2025-07-22T09:18:56.116917",
     "exception": false,
     "start_time": "2025-07-22T09:18:56.098213",
     "status": "completed"
    },
    "tags": []
   },
   "outputs": [],
   "source": [
    "from fairness_multiverse.conformal import find_threshold\n",
    "\n",
    "# Find conformal threshold q_hat for the given alpha (split conformal method)\n",
    "q_hat = find_threshold(nc_scores, alpha)"
   ]
  },
  {
   "cell_type": "code",
   "execution_count": 36,
   "id": "4d29e6c1-0ef6-4aa4-b8fe-4fe79b0d033a",
   "metadata": {
    "execution": {
     "iopub.execute_input": "2025-07-22T09:18:56.141358Z",
     "iopub.status.busy": "2025-07-22T09:18:56.140806Z",
     "iopub.status.idle": "2025-07-22T09:18:56.147755Z",
     "shell.execute_reply": "2025-07-22T09:18:56.146812Z"
    },
    "papermill": {
     "duration": 0.020395,
     "end_time": "2025-07-22T09:18:56.149421",
     "exception": false,
     "start_time": "2025-07-22T09:18:56.129026",
     "status": "completed"
    },
    "tags": []
   },
   "outputs": [
    {
     "data": {
      "text/plain": [
       "0.6640932262468986"
      ]
     },
     "execution_count": 36,
     "metadata": {},
     "output_type": "execute_result"
    }
   ],
   "source": [
    "q_hat"
   ]
  },
  {
   "cell_type": "code",
   "execution_count": 37,
   "id": "92460794-cdac-4be2-ba28-f28c0515a6fb",
   "metadata": {
    "execution": {
     "iopub.execute_input": "2025-07-22T09:18:56.173625Z",
     "iopub.status.busy": "2025-07-22T09:18:56.173097Z",
     "iopub.status.idle": "2025-07-22T09:18:56.991503Z",
     "shell.execute_reply": "2025-07-22T09:18:56.990523Z"
    },
    "papermill": {
     "duration": 0.831877,
     "end_time": "2025-07-22T09:18:56.993139",
     "exception": false,
     "start_time": "2025-07-22T09:18:56.161262",
     "status": "completed"
    },
    "tags": []
   },
   "outputs": [],
   "source": [
    "from fairness_multiverse.conformal import predict_conformal_sets\n",
    "\n",
    "# Generate prediction sets for each test example\n",
    "pred_sets = predict_conformal_sets(model, X_test, q_hat)"
   ]
  },
  {
   "cell_type": "code",
   "execution_count": 38,
   "id": "d90c9a65-e6db-4f5d-80cd-e68fb7e46829",
   "metadata": {
    "execution": {
     "iopub.execute_input": "2025-07-22T09:18:57.015513Z",
     "iopub.status.busy": "2025-07-22T09:18:57.014775Z",
     "iopub.status.idle": "2025-07-22T09:18:57.019952Z",
     "shell.execute_reply": "2025-07-22T09:18:57.019107Z"
    },
    "papermill": {
     "duration": 0.017674,
     "end_time": "2025-07-22T09:18:57.021460",
     "exception": false,
     "start_time": "2025-07-22T09:18:57.003786",
     "status": "completed"
    },
    "tags": []
   },
   "outputs": [],
   "source": [
    "y_true = y_true.squeeze()"
   ]
  },
  {
   "cell_type": "code",
   "execution_count": 39,
   "id": "3a58a54a-1e68-46b9-927a-df01f18aebc8",
   "metadata": {
    "execution": {
     "iopub.execute_input": "2025-07-22T09:18:57.067409Z",
     "iopub.status.busy": "2025-07-22T09:18:57.066695Z",
     "iopub.status.idle": "2025-07-22T09:18:58.052224Z",
     "shell.execute_reply": "2025-07-22T09:18:58.051265Z"
    },
    "papermill": {
     "duration": 1.009938,
     "end_time": "2025-07-22T09:18:58.054180",
     "exception": false,
     "start_time": "2025-07-22T09:18:57.044242",
     "status": "completed"
    },
    "tags": []
   },
   "outputs": [],
   "source": [
    "from fairness_multiverse.conformal import evaluate_sets\n",
    "\n",
    "# Evaluate coverage and average set size on test data\n",
    "metrics = evaluate_sets(pred_sets, y_true)"
   ]
  },
  {
   "cell_type": "code",
   "execution_count": 40,
   "id": "5ce0a5cb-201f-45a0-ade5-94c7f0bd6095",
   "metadata": {
    "execution": {
     "iopub.execute_input": "2025-07-22T09:18:58.099768Z",
     "iopub.status.busy": "2025-07-22T09:18:58.098986Z",
     "iopub.status.idle": "2025-07-22T09:18:58.107305Z",
     "shell.execute_reply": "2025-07-22T09:18:58.106119Z"
    },
    "papermill": {
     "duration": 0.033489,
     "end_time": "2025-07-22T09:18:58.109429",
     "exception": false,
     "start_time": "2025-07-22T09:18:58.075940",
     "status": "completed"
    },
    "tags": []
   },
   "outputs": [
    {
     "data": {
      "text/plain": [
       "{'coverage': 0.9120833797792888, 'avg_size': 1.1171106900011147}"
      ]
     },
     "execution_count": 40,
     "metadata": {},
     "output_type": "execute_result"
    }
   ],
   "source": [
    "metrics"
   ]
  },
  {
   "cell_type": "code",
   "execution_count": 41,
   "id": "9b9a838d-31c9-430b-ae14-12baee460d17",
   "metadata": {
    "execution": {
     "iopub.execute_input": "2025-07-22T09:18:58.155634Z",
     "iopub.status.busy": "2025-07-22T09:18:58.154936Z",
     "iopub.status.idle": "2025-07-22T09:18:58.161329Z",
     "shell.execute_reply": "2025-07-22T09:18:58.160226Z"
    },
    "papermill": {
     "duration": 0.031017,
     "end_time": "2025-07-22T09:18:58.163255",
     "exception": false,
     "start_time": "2025-07-22T09:18:58.132238",
     "status": "completed"
    },
    "tags": []
   },
   "outputs": [],
   "source": [
    "example_universe = universe.copy()\n",
    "universe_model = example_universe.get(\"model\")\n",
    "universe_exclude_features = example_universe.get(\"exclude_features\")\n",
    "universe_exclude_subgroups = example_universe.get(\"exclude_subgroups\")"
   ]
  },
  {
   "cell_type": "code",
   "execution_count": 42,
   "id": "f4b6a8ac-9dc0-4245-8a91-5b3b5999c4f9",
   "metadata": {
    "execution": {
     "iopub.execute_input": "2025-07-22T09:18:58.209005Z",
     "iopub.status.busy": "2025-07-22T09:18:58.208272Z",
     "iopub.status.idle": "2025-07-22T09:18:58.215075Z",
     "shell.execute_reply": "2025-07-22T09:18:58.214017Z"
    },
    "papermill": {
     "duration": 0.031005,
     "end_time": "2025-07-22T09:18:58.217119",
     "exception": false,
     "start_time": "2025-07-22T09:18:58.186114",
     "status": "completed"
    },
    "tags": []
   },
   "outputs": [],
   "source": [
    "cp_metrics_dict = {\n",
    "    \"universe_id\": [universe_id],\n",
    "    \"universe_model\": [universe_model],\n",
    "    \"universe_exclude_features\": [universe_exclude_features],\n",
    "    \"universe_exclude_subgroups\": [universe_exclude_subgroups],\n",
    "    \"q_hat\": [q_hat],\n",
    "    \"coverage\": [metrics[\"coverage\"]],\n",
    "    \"avg_size\": [metrics[\"avg_size\"]],\n",
    "}"
   ]
  },
  {
   "cell_type": "code",
   "execution_count": 43,
   "id": "908acbb1-0371-4915-85ca-3fa520d2efe2",
   "metadata": {
    "execution": {
     "iopub.execute_input": "2025-07-22T09:18:58.265830Z",
     "iopub.status.busy": "2025-07-22T09:18:58.264902Z",
     "iopub.status.idle": "2025-07-22T09:18:58.272857Z",
     "shell.execute_reply": "2025-07-22T09:18:58.271778Z"
    },
    "papermill": {
     "duration": 0.034182,
     "end_time": "2025-07-22T09:18:58.274551",
     "exception": false,
     "start_time": "2025-07-22T09:18:58.240369",
     "status": "completed"
    },
    "tags": []
   },
   "outputs": [
    {
     "data": {
      "text/plain": [
       "{'universe_id': ['3c0844472bc99e5292e40448579d3510'],\n",
       " 'universe_model': ['gbm'],\n",
       " 'universe_exclude_features': ['nationality'],\n",
       " 'universe_exclude_subgroups': ['drop-non-german'],\n",
       " 'q_hat': [0.6640932262468986],\n",
       " 'coverage': [0.9120833797792888],\n",
       " 'avg_size': [1.1171106900011147]}"
      ]
     },
     "execution_count": 43,
     "metadata": {},
     "output_type": "execute_result"
    }
   ],
   "source": [
    "cp_metrics_dict"
   ]
  },
  {
   "cell_type": "code",
   "execution_count": 44,
   "id": "33007efc-14e9-4ec6-97ac-56a455c82265",
   "metadata": {
    "execution": {
     "iopub.execute_input": "2025-07-22T09:18:58.319515Z",
     "iopub.status.busy": "2025-07-22T09:18:58.318994Z",
     "iopub.status.idle": "2025-07-22T09:18:58.341304Z",
     "shell.execute_reply": "2025-07-22T09:18:58.324628Z"
    },
    "papermill": {
     "duration": 0.047333,
     "end_time": "2025-07-22T09:18:58.343252",
     "exception": false,
     "start_time": "2025-07-22T09:18:58.295919",
     "status": "completed"
    },
    "tags": []
   },
   "outputs": [],
   "source": [
    "cp_metrics_df = pd.DataFrame(cp_metrics_dict)"
   ]
  },
  {
   "cell_type": "code",
   "execution_count": 45,
   "id": "db12611b-57b2-4910-b9d0-355adfd6e7bf",
   "metadata": {
    "execution": {
     "iopub.execute_input": "2025-07-22T09:18:58.391152Z",
     "iopub.status.busy": "2025-07-22T09:18:58.390465Z",
     "iopub.status.idle": "2025-07-22T09:18:58.408462Z",
     "shell.execute_reply": "2025-07-22T09:18:58.407463Z"
    },
    "papermill": {
     "duration": 0.042237,
     "end_time": "2025-07-22T09:18:58.410169",
     "exception": false,
     "start_time": "2025-07-22T09:18:58.367932",
     "status": "completed"
    },
    "tags": []
   },
   "outputs": [
    {
     "data": {
      "text/html": [
       "<div>\n",
       "<style scoped>\n",
       "    .dataframe tbody tr th:only-of-type {\n",
       "        vertical-align: middle;\n",
       "    }\n",
       "\n",
       "    .dataframe tbody tr th {\n",
       "        vertical-align: top;\n",
       "    }\n",
       "\n",
       "    .dataframe thead th {\n",
       "        text-align: right;\n",
       "    }\n",
       "</style>\n",
       "<table border=\"1\" class=\"dataframe\">\n",
       "  <thead>\n",
       "    <tr style=\"text-align: right;\">\n",
       "      <th></th>\n",
       "      <th>universe_id</th>\n",
       "      <th>universe_model</th>\n",
       "      <th>universe_exclude_features</th>\n",
       "      <th>universe_exclude_subgroups</th>\n",
       "      <th>q_hat</th>\n",
       "      <th>coverage</th>\n",
       "      <th>avg_size</th>\n",
       "    </tr>\n",
       "  </thead>\n",
       "  <tbody>\n",
       "    <tr>\n",
       "      <th>0</th>\n",
       "      <td>3c0844472bc99e5292e40448579d3510</td>\n",
       "      <td>gbm</td>\n",
       "      <td>nationality</td>\n",
       "      <td>drop-non-german</td>\n",
       "      <td>0.664093</td>\n",
       "      <td>0.912083</td>\n",
       "      <td>1.117111</td>\n",
       "    </tr>\n",
       "  </tbody>\n",
       "</table>\n",
       "</div>"
      ],
      "text/plain": [
       "                        universe_id universe_model universe_exclude_features  \\\n",
       "0  3c0844472bc99e5292e40448579d3510            gbm               nationality   \n",
       "\n",
       "  universe_exclude_subgroups     q_hat  coverage  avg_size  \n",
       "0            drop-non-german  0.664093  0.912083  1.117111  "
      ]
     },
     "execution_count": 45,
     "metadata": {},
     "output_type": "execute_result"
    }
   ],
   "source": [
    "cp_metrics_df"
   ]
  },
  {
   "cell_type": "code",
   "execution_count": 46,
   "id": "b7fbde55-a0a1-47e4-9af6-fe4a17fa8c61",
   "metadata": {
    "execution": {
     "iopub.execute_input": "2025-07-22T09:18:58.455776Z",
     "iopub.status.busy": "2025-07-22T09:18:58.455182Z",
     "iopub.status.idle": "2025-07-22T09:18:58.462866Z",
     "shell.execute_reply": "2025-07-22T09:18:58.461649Z"
    },
    "papermill": {
     "duration": 0.033497,
     "end_time": "2025-07-22T09:18:58.465098",
     "exception": false,
     "start_time": "2025-07-22T09:18:58.431601",
     "status": "completed"
    },
    "tags": []
   },
   "outputs": [],
   "source": [
    "# Conditional Coverage & looking at subgroups"
   ]
  },
  {
   "cell_type": "code",
   "execution_count": 47,
   "id": "027ae886-68dd-4141-96c7-805a5450e1ef",
   "metadata": {
    "execution": {
     "iopub.execute_input": "2025-07-22T09:18:58.509757Z",
     "iopub.status.busy": "2025-07-22T09:18:58.509304Z",
     "iopub.status.idle": "2025-07-22T09:18:58.770754Z",
     "shell.execute_reply": "2025-07-22T09:18:58.769661Z"
    },
    "papermill": {
     "duration": 0.284732,
     "end_time": "2025-07-22T09:18:58.772781",
     "exception": false,
     "start_time": "2025-07-22T09:18:58.488049",
     "status": "completed"
    },
    "tags": []
   },
   "outputs": [],
   "source": [
    "from fairness_multiverse.conformal import build_cp_groups\n",
    "\n",
    "cp_groups_df = build_cp_groups(pred_sets, y_true, X_test.index, org_test)\n",
    "#needs universe_id and setting"
   ]
  },
  {
   "cell_type": "code",
   "execution_count": 48,
   "id": "c3b92545-903e-4839-89af-0f057907d7d6",
   "metadata": {
    "execution": {
     "iopub.execute_input": "2025-07-22T09:18:58.820170Z",
     "iopub.status.busy": "2025-07-22T09:18:58.819346Z",
     "iopub.status.idle": "2025-07-22T09:19:00.529620Z",
     "shell.execute_reply": "2025-07-22T09:19:00.528509Z"
    },
    "papermill": {
     "duration": 1.733963,
     "end_time": "2025-07-22T09:19:00.531569",
     "exception": false,
     "start_time": "2025-07-22T09:18:58.797606",
     "status": "completed"
    },
    "tags": []
   },
   "outputs": [],
   "source": [
    "# Define covered = 1 if true_label is in the predicted set\n",
    "cp_groups_df['covered'] = cp_groups_df.apply(\n",
    "    lambda r: int(r['true_label'] in r['pred_set']),\n",
    "    axis=1\n",
    ")"
   ]
  },
  {
   "cell_type": "code",
   "execution_count": 49,
   "id": "338ff529-1a6b-4b87-a931-8e4788d52aad",
   "metadata": {
    "execution": {
     "iopub.execute_input": "2025-07-22T09:19:00.576046Z",
     "iopub.status.busy": "2025-07-22T09:19:00.575397Z",
     "iopub.status.idle": "2025-07-22T09:19:00.581361Z",
     "shell.execute_reply": "2025-07-22T09:19:00.580141Z"
    },
    "papermill": {
     "duration": 0.029632,
     "end_time": "2025-07-22T09:19:00.583137",
     "exception": false,
     "start_time": "2025-07-22T09:19:00.553505",
     "status": "completed"
    },
    "tags": []
   },
   "outputs": [],
   "source": [
    "#cp_groups_df"
   ]
  },
  {
   "cell_type": "code",
   "execution_count": 50,
   "id": "90032e27-66df-4540-9169-4e89cfbaa758",
   "metadata": {
    "execution": {
     "iopub.execute_input": "2025-07-22T09:19:00.626269Z",
     "iopub.status.busy": "2025-07-22T09:19:00.625646Z",
     "iopub.status.idle": "2025-07-22T09:19:00.638189Z",
     "shell.execute_reply": "2025-07-22T09:19:00.637114Z"
    },
    "papermill": {
     "duration": 0.035583,
     "end_time": "2025-07-22T09:19:00.640132",
     "exception": false,
     "start_time": "2025-07-22T09:19:00.604549",
     "status": "completed"
    },
    "tags": []
   },
   "outputs": [],
   "source": [
    "subgroups = ['frau1','nongerman','nongerman_male','nongerman_female']\n",
    "\n",
    "# Conditional coverage for subgroup==1\n",
    "cond_coverage = {\n",
    "    g: cp_groups_df.loc[cp_groups_df[g]==1, 'covered'].mean()\n",
    "    for g in subgroups\n",
    "}"
   ]
  },
  {
   "cell_type": "code",
   "execution_count": 51,
   "id": "1e348fb1-b9c3-45bc-ba23-f016827a7e0d",
   "metadata": {
    "execution": {
     "iopub.execute_input": "2025-07-22T09:19:00.684899Z",
     "iopub.status.busy": "2025-07-22T09:19:00.684057Z",
     "iopub.status.idle": "2025-07-22T09:19:00.692206Z",
     "shell.execute_reply": "2025-07-22T09:19:00.691226Z"
    },
    "papermill": {
     "duration": 0.032132,
     "end_time": "2025-07-22T09:19:00.693971",
     "exception": false,
     "start_time": "2025-07-22T09:19:00.661839",
     "status": "completed"
    },
    "tags": []
   },
   "outputs": [
    {
     "data": {
      "text/plain": [
       "{'frau1': 0.9113357595363256,\n",
       " 'nongerman': 0.9107954864424859,\n",
       " 'nongerman_male': 0.9266864811312258,\n",
       " 'nongerman_female': 0.8845007451564829}"
      ]
     },
     "execution_count": 51,
     "metadata": {},
     "output_type": "execute_result"
    }
   ],
   "source": [
    "cond_coverage"
   ]
  },
  {
   "cell_type": "code",
   "execution_count": 52,
   "id": "f5093324-c3dd-4d63-bc4c-8d945e5c8bbb",
   "metadata": {
    "execution": {
     "iopub.execute_input": "2025-07-22T09:19:00.739661Z",
     "iopub.status.busy": "2025-07-22T09:19:00.738912Z",
     "iopub.status.idle": "2025-07-22T09:19:00.746867Z",
     "shell.execute_reply": "2025-07-22T09:19:00.745896Z"
    },
    "papermill": {
     "duration": 0.031806,
     "end_time": "2025-07-22T09:19:00.748612",
     "exception": false,
     "start_time": "2025-07-22T09:19:00.716806",
     "status": "completed"
    },
    "tags": []
   },
   "outputs": [],
   "source": [
    "for subgroup, cov in cond_coverage.items():\n",
    "    cp_metrics_df[f\"cov_{subgroup}\"] = cov"
   ]
  },
  {
   "cell_type": "code",
   "execution_count": 53,
   "id": "6e872e10-dbe5-49e8-b554-5030c98ff75d",
   "metadata": {
    "execution": {
     "iopub.execute_input": "2025-07-22T09:19:00.796118Z",
     "iopub.status.busy": "2025-07-22T09:19:00.795409Z",
     "iopub.status.idle": "2025-07-22T09:19:00.813687Z",
     "shell.execute_reply": "2025-07-22T09:19:00.812619Z"
    },
    "papermill": {
     "duration": 0.044651,
     "end_time": "2025-07-22T09:19:00.815393",
     "exception": false,
     "start_time": "2025-07-22T09:19:00.770742",
     "status": "completed"
    },
    "tags": []
   },
   "outputs": [
    {
     "data": {
      "text/html": [
       "<div>\n",
       "<style scoped>\n",
       "    .dataframe tbody tr th:only-of-type {\n",
       "        vertical-align: middle;\n",
       "    }\n",
       "\n",
       "    .dataframe tbody tr th {\n",
       "        vertical-align: top;\n",
       "    }\n",
       "\n",
       "    .dataframe thead th {\n",
       "        text-align: right;\n",
       "    }\n",
       "</style>\n",
       "<table border=\"1\" class=\"dataframe\">\n",
       "  <thead>\n",
       "    <tr style=\"text-align: right;\">\n",
       "      <th></th>\n",
       "      <th>universe_id</th>\n",
       "      <th>universe_model</th>\n",
       "      <th>universe_exclude_features</th>\n",
       "      <th>universe_exclude_subgroups</th>\n",
       "      <th>q_hat</th>\n",
       "      <th>coverage</th>\n",
       "      <th>avg_size</th>\n",
       "      <th>cov_frau1</th>\n",
       "      <th>cov_nongerman</th>\n",
       "      <th>cov_nongerman_male</th>\n",
       "      <th>cov_nongerman_female</th>\n",
       "    </tr>\n",
       "  </thead>\n",
       "  <tbody>\n",
       "    <tr>\n",
       "      <th>0</th>\n",
       "      <td>3c0844472bc99e5292e40448579d3510</td>\n",
       "      <td>gbm</td>\n",
       "      <td>nationality</td>\n",
       "      <td>drop-non-german</td>\n",
       "      <td>0.664093</td>\n",
       "      <td>0.912083</td>\n",
       "      <td>1.117111</td>\n",
       "      <td>0.911336</td>\n",
       "      <td>0.910795</td>\n",
       "      <td>0.926686</td>\n",
       "      <td>0.884501</td>\n",
       "    </tr>\n",
       "  </tbody>\n",
       "</table>\n",
       "</div>"
      ],
      "text/plain": [
       "                        universe_id universe_model universe_exclude_features  \\\n",
       "0  3c0844472bc99e5292e40448579d3510            gbm               nationality   \n",
       "\n",
       "  universe_exclude_subgroups     q_hat  coverage  avg_size  cov_frau1  \\\n",
       "0            drop-non-german  0.664093  0.912083  1.117111   0.911336   \n",
       "\n",
       "   cov_nongerman  cov_nongerman_male  cov_nongerman_female  \n",
       "0       0.910795            0.926686              0.884501  "
      ]
     },
     "execution_count": 53,
     "metadata": {},
     "output_type": "execute_result"
    }
   ],
   "source": [
    "cp_metrics_df"
   ]
  },
  {
   "cell_type": "markdown",
   "id": "33774451",
   "metadata": {
    "papermill": {
     "duration": 0.022165,
     "end_time": "2025-07-22T09:19:00.860678",
     "exception": false,
     "start_time": "2025-07-22T09:19:00.838513",
     "status": "completed"
    },
    "tags": []
   },
   "source": [
    "# (Fairness) Metrics"
   ]
  },
  {
   "cell_type": "code",
   "execution_count": 54,
   "id": "debc5d62",
   "metadata": {
    "execution": {
     "iopub.execute_input": "2025-07-22T09:19:00.906019Z",
     "iopub.status.busy": "2025-07-22T09:19:00.905336Z",
     "iopub.status.idle": "2025-07-22T09:19:00.927782Z",
     "shell.execute_reply": "2025-07-22T09:19:00.926884Z"
    },
    "papermill": {
     "duration": 0.047413,
     "end_time": "2025-07-22T09:19:00.929676",
     "exception": false,
     "start_time": "2025-07-22T09:19:00.882263",
     "status": "completed"
    },
    "tags": []
   },
   "outputs": [],
   "source": [
    "# do I need to include maxdeutsch1.missing?\n",
    "\n",
    "import numpy as np\n",
    "\n",
    "colname_to_bin = \"maxdeutsch1\"\n",
    "majority_value = org_train[colname_to_bin].mode()[0]\n",
    "\n",
    "org_test[\"majmin\"] = np.where(org_test[colname_to_bin] == majority_value, \"majority\", \"minority\")"
   ]
  },
  {
   "cell_type": "code",
   "execution_count": 55,
   "id": "06a50de5",
   "metadata": {
    "execution": {
     "iopub.execute_input": "2025-07-22T09:19:00.975424Z",
     "iopub.status.busy": "2025-07-22T09:19:00.974741Z",
     "iopub.status.idle": "2025-07-22T09:19:03.856803Z",
     "shell.execute_reply": "2025-07-22T09:19:03.855736Z"
    },
    "papermill": {
     "duration": 2.906686,
     "end_time": "2025-07-22T09:19:03.858840",
     "exception": false,
     "start_time": "2025-07-22T09:19:00.952154",
     "status": "completed"
    },
    "tags": []
   },
   "outputs": [],
   "source": [
    "example_universe = universe.copy()\n",
    "example_universe[\"cutoff\"] = example_universe[\"cutoff\"][0]\n",
    "example_universe[\"eval_fairness_grouping\"] = example_universe[\"eval_fairness_grouping\"][0]\n",
    "fairness_dict, metric_frame = universe_analysis.compute_metrics(\n",
    "    example_universe,\n",
    "    y_pred_prob=probs_test,\n",
    "    y_test=y_true,\n",
    "    org_test=org_test,\n",
    ")"
   ]
  },
  {
   "cell_type": "markdown",
   "id": "f95d4e02",
   "metadata": {
    "papermill": {
     "duration": 0.020552,
     "end_time": "2025-07-22T09:19:03.900818",
     "exception": false,
     "start_time": "2025-07-22T09:19:03.880266",
     "status": "completed"
    },
    "tags": []
   },
   "source": [
    "# Overall"
   ]
  },
  {
   "cell_type": "markdown",
   "id": "bdee4871",
   "metadata": {
    "papermill": {
     "duration": 0.01991,
     "end_time": "2025-07-22T09:19:03.941264",
     "exception": false,
     "start_time": "2025-07-22T09:19:03.921354",
     "status": "completed"
    },
    "tags": []
   },
   "source": [
    "Fairness\n",
    "Main fairness target: Equalized Odds. Seems to be a better fit than equal opportunity, since we're not only interested in Y = 1. Seems to be a better fit than demographic parity, since we also care about accuracy, not just equal distribution of preds.\n",
    "\n",
    "Pick column for computation of fairness metrics\n",
    "\n",
    "Performance\n",
    "Overall performance measures, most interesting in relation to the measures split by group below"
   ]
  },
  {
   "cell_type": "code",
   "execution_count": 56,
   "id": "c4e067c6",
   "metadata": {
    "execution": {
     "iopub.execute_input": "2025-07-22T09:19:03.984498Z",
     "iopub.status.busy": "2025-07-22T09:19:03.983771Z",
     "iopub.status.idle": "2025-07-22T09:19:03.993756Z",
     "shell.execute_reply": "2025-07-22T09:19:03.992266Z"
    },
    "papermill": {
     "duration": 0.033054,
     "end_time": "2025-07-22T09:19:03.995292",
     "exception": false,
     "start_time": "2025-07-22T09:19:03.962238",
     "status": "completed"
    },
    "tags": []
   },
   "outputs": [
    {
     "data": {
      "text/plain": [
       "accuracy                   0.225516\n",
       "balanced accuracy          0.551177\n",
       "f1                         0.246816\n",
       "precision                  0.140998\n",
       "false positive rate        0.886870\n",
       "false negative rate        0.010775\n",
       "selection rate             0.900000\n",
       "count                  89710.000000\n",
       "dtype: float64"
      ]
     },
     "execution_count": 56,
     "metadata": {},
     "output_type": "execute_result"
    }
   ],
   "source": [
    "metric_frame.overall"
   ]
  },
  {
   "cell_type": "markdown",
   "id": "e968fe9d",
   "metadata": {
    "papermill": {
     "duration": 0.0205,
     "end_time": "2025-07-22T09:19:04.037868",
     "exception": false,
     "start_time": "2025-07-22T09:19:04.017368",
     "status": "completed"
    },
    "tags": []
   },
   "source": [
    "By Group"
   ]
  },
  {
   "cell_type": "code",
   "execution_count": 57,
   "id": "ec325bce",
   "metadata": {
    "execution": {
     "iopub.execute_input": "2025-07-22T09:19:04.080862Z",
     "iopub.status.busy": "2025-07-22T09:19:04.080137Z",
     "iopub.status.idle": "2025-07-22T09:19:04.096616Z",
     "shell.execute_reply": "2025-07-22T09:19:04.095423Z"
    },
    "papermill": {
     "duration": 0.0393,
     "end_time": "2025-07-22T09:19:04.098333",
     "exception": false,
     "start_time": "2025-07-22T09:19:04.059033",
     "status": "completed"
    },
    "tags": []
   },
   "outputs": [
    {
     "data": {
      "text/html": [
       "<div>\n",
       "<style scoped>\n",
       "    .dataframe tbody tr th:only-of-type {\n",
       "        vertical-align: middle;\n",
       "    }\n",
       "\n",
       "    .dataframe tbody tr th {\n",
       "        vertical-align: top;\n",
       "    }\n",
       "\n",
       "    .dataframe thead th {\n",
       "        text-align: right;\n",
       "    }\n",
       "</style>\n",
       "<table border=\"1\" class=\"dataframe\">\n",
       "  <thead>\n",
       "    <tr style=\"text-align: right;\">\n",
       "      <th></th>\n",
       "      <th>accuracy</th>\n",
       "      <th>balanced accuracy</th>\n",
       "      <th>f1</th>\n",
       "      <th>precision</th>\n",
       "      <th>false positive rate</th>\n",
       "      <th>false negative rate</th>\n",
       "      <th>selection rate</th>\n",
       "      <th>count</th>\n",
       "    </tr>\n",
       "    <tr>\n",
       "      <th>majmin</th>\n",
       "      <th></th>\n",
       "      <th></th>\n",
       "      <th></th>\n",
       "      <th></th>\n",
       "      <th></th>\n",
       "      <th></th>\n",
       "      <th></th>\n",
       "      <th></th>\n",
       "    </tr>\n",
       "  </thead>\n",
       "  <tbody>\n",
       "    <tr>\n",
       "      <th>majority</th>\n",
       "      <td>0.245092</td>\n",
       "      <td>0.559974</td>\n",
       "      <td>0.256983</td>\n",
       "      <td>0.147701</td>\n",
       "      <td>0.868016</td>\n",
       "      <td>0.012035</td>\n",
       "      <td>0.883866</td>\n",
       "      <td>69170.0</td>\n",
       "    </tr>\n",
       "    <tr>\n",
       "      <th>minority</th>\n",
       "      <td>0.159591</td>\n",
       "      <td>0.522468</td>\n",
       "      <td>0.214292</td>\n",
       "      <td>0.120090</td>\n",
       "      <td>0.949153</td>\n",
       "      <td>0.005912</td>\n",
       "      <td>0.954333</td>\n",
       "      <td>20540.0</td>\n",
       "    </tr>\n",
       "  </tbody>\n",
       "</table>\n",
       "</div>"
      ],
      "text/plain": [
       "          accuracy  balanced accuracy        f1  precision  \\\n",
       "majmin                                                       \n",
       "majority  0.245092           0.559974  0.256983   0.147701   \n",
       "minority  0.159591           0.522468  0.214292   0.120090   \n",
       "\n",
       "          false positive rate  false negative rate  selection rate    count  \n",
       "majmin                                                                       \n",
       "majority             0.868016             0.012035        0.883866  69170.0  \n",
       "minority             0.949153             0.005912        0.954333  20540.0  "
      ]
     },
     "execution_count": 57,
     "metadata": {},
     "output_type": "execute_result"
    }
   ],
   "source": [
    "metric_frame.by_group"
   ]
  },
  {
   "cell_type": "code",
   "execution_count": 58,
   "id": "a9ddbe63",
   "metadata": {
    "execution": {
     "iopub.execute_input": "2025-07-22T09:19:04.150106Z",
     "iopub.status.busy": "2025-07-22T09:19:04.149413Z",
     "iopub.status.idle": "2025-07-22T09:19:06.580235Z",
     "shell.execute_reply": "2025-07-22T09:19:06.579337Z"
    },
    "papermill": {
     "duration": 2.458634,
     "end_time": "2025-07-22T09:19:06.581881",
     "exception": false,
     "start_time": "2025-07-22T09:19:04.123247",
     "status": "completed"
    },
    "tags": []
   },
   "outputs": [
    {
     "data": {
      "text/plain": [
       "array([[<Axes: title={'center': 'accuracy'}, xlabel='majmin'>,\n",
       "        <Axes: title={'center': 'balanced accuracy'}, xlabel='majmin'>,\n",
       "        <Axes: title={'center': 'f1'}, xlabel='majmin'>],\n",
       "       [<Axes: title={'center': 'precision'}, xlabel='majmin'>,\n",
       "        <Axes: title={'center': 'false positive rate'}, xlabel='majmin'>,\n",
       "        <Axes: title={'center': 'false negative rate'}, xlabel='majmin'>],\n",
       "       [<Axes: title={'center': 'selection rate'}, xlabel='majmin'>,\n",
       "        <Axes: title={'center': 'count'}, xlabel='majmin'>,\n",
       "        <Axes: xlabel='majmin'>]], dtype=object)"
      ]
     },
     "execution_count": 58,
     "metadata": {},
     "output_type": "execute_result"
    },
    {
     "data": {
      "image/png": "[encoded data removed]",
      "text/plain": [
       "<Figure size 1200x800 with 9 Axes>"
      ]
     },
     "metadata": {},
     "output_type": "display_data"
    }
   ],
   "source": [
    "# In a graphic\n",
    "metric_frame.by_group.plot.bar(\n",
    "    subplots=True,\n",
    "    layout=[3, 3],\n",
    "    legend=False,\n",
    "    figsize=[12, 8],\n",
    "    title=\"Show all metrics\",\n",
    ")"
   ]
  },
  {
   "cell_type": "markdown",
   "id": "f57a0bac",
   "metadata": {
    "papermill": {
     "duration": 0.022599,
     "end_time": "2025-07-22T09:19:06.627427",
     "exception": false,
     "start_time": "2025-07-22T09:19:06.604828",
     "status": "completed"
    },
    "tags": []
   },
   "source": [
    "# Final Output"
   ]
  },
  {
   "cell_type": "code",
   "execution_count": 59,
   "id": "96d280a3",
   "metadata": {
    "execution": {
     "iopub.execute_input": "2025-07-22T09:19:06.674401Z",
     "iopub.status.busy": "2025-07-22T09:19:06.673711Z",
     "iopub.status.idle": "2025-07-22T09:19:06.682113Z",
     "shell.execute_reply": "2025-07-22T09:19:06.681218Z"
    },
    "papermill": {
     "duration": 0.034011,
     "end_time": "2025-07-22T09:19:06.683583",
     "exception": false,
     "start_time": "2025-07-22T09:19:06.649572",
     "status": "completed"
    },
    "tags": []
   },
   "outputs": [
    {
     "data": {
      "text/plain": [
       "4"
      ]
     },
     "execution_count": 59,
     "metadata": {},
     "output_type": "execute_result"
    }
   ],
   "source": [
    "sub_universes = universe_analysis.generate_sub_universes()\n",
    "len(sub_universes)"
   ]
  },
  {
   "cell_type": "code",
   "execution_count": 60,
   "id": "92adf7ba",
   "metadata": {
    "execution": {
     "iopub.execute_input": "2025-07-22T09:19:06.731220Z",
     "iopub.status.busy": "2025-07-22T09:19:06.730791Z",
     "iopub.status.idle": "2025-07-22T09:19:06.737313Z",
     "shell.execute_reply": "2025-07-22T09:19:06.736344Z"
    },
    "papermill": {
     "duration": 0.033011,
     "end_time": "2025-07-22T09:19:06.739124",
     "exception": false,
     "start_time": "2025-07-22T09:19:06.706113",
     "status": "completed"
    },
    "tags": []
   },
   "outputs": [],
   "source": [
    "def filter_sub_universe_data(sub_universe, org_test):\n",
    "    # Keep all rows — no filtering\n",
    "    keep_rows_mask = np.ones(org_test.shape[0], dtype=bool)\n",
    "\n",
    "    print(f\"[INFO] Keeping all rows: {keep_rows_mask.sum()} rows retained.\")\n",
    "    return keep_rows_mask"
   ]
  },
  {
   "cell_type": "code",
   "execution_count": 61,
   "id": "4a759155",
   "metadata": {
    "execution": {
     "iopub.execute_input": "2025-07-22T09:19:06.788328Z",
     "iopub.status.busy": "2025-07-22T09:19:06.787766Z",
     "iopub.status.idle": "2025-07-22T09:19:16.330603Z",
     "shell.execute_reply": "2025-07-22T09:19:16.329387Z"
    },
    "papermill": {
     "duration": 9.570506,
     "end_time": "2025-07-22T09:19:16.332619",
     "exception": false,
     "start_time": "2025-07-22T09:19:06.762113",
     "status": "completed"
    },
    "tags": []
   },
   "outputs": [
    {
     "name": "stdout",
     "output_type": "stream",
     "text": [
      "Stopping execution_time clock.\n",
      "[INFO] Keeping all rows: 89710 rows retained.\n"
     ]
    },
    {
     "name": "stdout",
     "output_type": "stream",
     "text": [
      "[INFO] Keeping all rows: 89710 rows retained.\n"
     ]
    },
    {
     "name": "stdout",
     "output_type": "stream",
     "text": [
      "[INFO] Keeping all rows: 89710 rows retained.\n"
     ]
    },
    {
     "name": "stdout",
     "output_type": "stream",
     "text": [
      "[INFO] Keeping all rows: 89710 rows retained.\n"
     ]
    },
    {
     "data": {
      "text/html": [
       "<div>\n",
       "<style scoped>\n",
       "    .dataframe tbody tr th:only-of-type {\n",
       "        vertical-align: middle;\n",
       "    }\n",
       "\n",
       "    .dataframe tbody tr th {\n",
       "        vertical-align: top;\n",
       "    }\n",
       "\n",
       "    .dataframe thead th {\n",
       "        text-align: right;\n",
       "    }\n",
       "</style>\n",
       "<table border=\"1\" class=\"dataframe\">\n",
       "  <thead>\n",
       "    <tr style=\"text-align: right;\">\n",
       "      <th></th>\n",
       "      <th>run_no</th>\n",
       "      <th>universe_id</th>\n",
       "      <th>universe_settings</th>\n",
       "      <th>execution_time</th>\n",
       "      <th>test_size_n</th>\n",
       "      <th>test_size_frac</th>\n",
       "      <th>fair_main_equalized_odds_difference</th>\n",
       "      <th>fair_main_equalized_odds_ratio</th>\n",
       "      <th>fair_main_demographic_parity_difference</th>\n",
       "      <th>fair_main_demographic_parity_ratio</th>\n",
       "      <th>...</th>\n",
       "      <th>perf_grp_precision_0</th>\n",
       "      <th>perf_grp_precision_1</th>\n",
       "      <th>perf_grp_false positive rate_0</th>\n",
       "      <th>perf_grp_false positive rate_1</th>\n",
       "      <th>perf_grp_false negative rate_0</th>\n",
       "      <th>perf_grp_false negative rate_1</th>\n",
       "      <th>perf_grp_selection rate_0</th>\n",
       "      <th>perf_grp_selection rate_1</th>\n",
       "      <th>perf_grp_count_0</th>\n",
       "      <th>perf_grp_count_1</th>\n",
       "    </tr>\n",
       "  </thead>\n",
       "  <tbody>\n",
       "    <tr>\n",
       "      <th>0</th>\n",
       "      <td>3</td>\n",
       "      <td>3c0844472bc99e5292e40448579d3510</td>\n",
       "      <td>{\"cutoff\": \"quantile_0.1\", \"eval_fairness_grou...</td>\n",
       "      <td>38.859559</td>\n",
       "      <td>89710</td>\n",
       "      <td>1.0</td>\n",
       "      <td>0.081137</td>\n",
       "      <td>0.914517</td>\n",
       "      <td>0.070467</td>\n",
       "      <td>0.926161</td>\n",
       "      <td>...</td>\n",
       "      <td>NaN</td>\n",
       "      <td>NaN</td>\n",
       "      <td>NaN</td>\n",
       "      <td>NaN</td>\n",
       "      <td>NaN</td>\n",
       "      <td>NaN</td>\n",
       "      <td>NaN</td>\n",
       "      <td>NaN</td>\n",
       "      <td>NaN</td>\n",
       "      <td>NaN</td>\n",
       "    </tr>\n",
       "    <tr>\n",
       "      <th>0</th>\n",
       "      <td>3</td>\n",
       "      <td>3c0844472bc99e5292e40448579d3510</td>\n",
       "      <td>{\"cutoff\": \"quantile_0.1\", \"eval_fairness_grou...</td>\n",
       "      <td>38.859559</td>\n",
       "      <td>89710</td>\n",
       "      <td>1.0</td>\n",
       "      <td>0.081137</td>\n",
       "      <td>0.914517</td>\n",
       "      <td>0.070467</td>\n",
       "      <td>0.926161</td>\n",
       "      <td>...</td>\n",
       "      <td>0.120090</td>\n",
       "      <td>0.147701</td>\n",
       "      <td>0.949153</td>\n",
       "      <td>0.868016</td>\n",
       "      <td>0.005912</td>\n",
       "      <td>0.012035</td>\n",
       "      <td>0.954333</td>\n",
       "      <td>0.883866</td>\n",
       "      <td>20540.0</td>\n",
       "      <td>69170.0</td>\n",
       "    </tr>\n",
       "    <tr>\n",
       "      <th>0</th>\n",
       "      <td>3</td>\n",
       "      <td>3c0844472bc99e5292e40448579d3510</td>\n",
       "      <td>{\"cutoff\": \"quantile_0.25\", \"eval_fairness_gro...</td>\n",
       "      <td>38.859559</td>\n",
       "      <td>89710</td>\n",
       "      <td>1.0</td>\n",
       "      <td>0.076096</td>\n",
       "      <td>0.902330</td>\n",
       "      <td>0.060940</td>\n",
       "      <td>0.923537</td>\n",
       "      <td>...</td>\n",
       "      <td>NaN</td>\n",
       "      <td>NaN</td>\n",
       "      <td>NaN</td>\n",
       "      <td>NaN</td>\n",
       "      <td>NaN</td>\n",
       "      <td>NaN</td>\n",
       "      <td>NaN</td>\n",
       "      <td>NaN</td>\n",
       "      <td>NaN</td>\n",
       "      <td>NaN</td>\n",
       "    </tr>\n",
       "    <tr>\n",
       "      <th>0</th>\n",
       "      <td>3</td>\n",
       "      <td>3c0844472bc99e5292e40448579d3510</td>\n",
       "      <td>{\"cutoff\": \"quantile_0.25\", \"eval_fairness_gro...</td>\n",
       "      <td>38.859559</td>\n",
       "      <td>89710</td>\n",
       "      <td>1.0</td>\n",
       "      <td>0.076096</td>\n",
       "      <td>0.902330</td>\n",
       "      <td>0.060940</td>\n",
       "      <td>0.923537</td>\n",
       "      <td>...</td>\n",
       "      <td>0.135125</td>\n",
       "      <td>0.171080</td>\n",
       "      <td>0.779111</td>\n",
       "      <td>0.703015</td>\n",
       "      <td>0.065878</td>\n",
       "      <td>0.047046</td>\n",
       "      <td>0.796981</td>\n",
       "      <td>0.736042</td>\n",
       "      <td>20540.0</td>\n",
       "      <td>69170.0</td>\n",
       "    </tr>\n",
       "  </tbody>\n",
       "</table>\n",
       "<p>4 rows × 50 columns</p>\n",
       "</div>"
      ],
      "text/plain": [
       "  run_no                       universe_id  \\\n",
       "0      3  3c0844472bc99e5292e40448579d3510   \n",
       "0      3  3c0844472bc99e5292e40448579d3510   \n",
       "0      3  3c0844472bc99e5292e40448579d3510   \n",
       "0      3  3c0844472bc99e5292e40448579d3510   \n",
       "\n",
       "                                   universe_settings  execution_time  \\\n",
       "0  {\"cutoff\": \"quantile_0.1\", \"eval_fairness_grou...       38.859559   \n",
       "0  {\"cutoff\": \"quantile_0.1\", \"eval_fairness_grou...       38.859559   \n",
       "0  {\"cutoff\": \"quantile_0.25\", \"eval_fairness_gro...       38.859559   \n",
       "0  {\"cutoff\": \"quantile_0.25\", \"eval_fairness_gro...       38.859559   \n",
       "\n",
       "   test_size_n  test_size_frac  fair_main_equalized_odds_difference  \\\n",
       "0        89710             1.0                             0.081137   \n",
       "0        89710             1.0                             0.081137   \n",
       "0        89710             1.0                             0.076096   \n",
       "0        89710             1.0                             0.076096   \n",
       "\n",
       "   fair_main_equalized_odds_ratio  fair_main_demographic_parity_difference  \\\n",
       "0                        0.914517                                 0.070467   \n",
       "0                        0.914517                                 0.070467   \n",
       "0                        0.902330                                 0.060940   \n",
       "0                        0.902330                                 0.060940   \n",
       "\n",
       "   fair_main_demographic_parity_ratio  ...  perf_grp_precision_0  \\\n",
       "0                            0.926161  ...                   NaN   \n",
       "0                            0.926161  ...              0.120090   \n",
       "0                            0.923537  ...                   NaN   \n",
       "0                            0.923537  ...              0.135125   \n",
       "\n",
       "   perf_grp_precision_1  perf_grp_false positive rate_0  \\\n",
       "0                   NaN                             NaN   \n",
       "0              0.147701                        0.949153   \n",
       "0                   NaN                             NaN   \n",
       "0              0.171080                        0.779111   \n",
       "\n",
       "   perf_grp_false positive rate_1  perf_grp_false negative rate_0  \\\n",
       "0                             NaN                             NaN   \n",
       "0                        0.868016                        0.005912   \n",
       "0                             NaN                             NaN   \n",
       "0                        0.703015                        0.065878   \n",
       "\n",
       "   perf_grp_false negative rate_1  perf_grp_selection rate_0  \\\n",
       "0                             NaN                        NaN   \n",
       "0                        0.012035                   0.954333   \n",
       "0                             NaN                        NaN   \n",
       "0                        0.047046                   0.796981   \n",
       "\n",
       "   perf_grp_selection rate_1  perf_grp_count_0  perf_grp_count_1  \n",
       "0                        NaN               NaN               NaN  \n",
       "0                   0.883866           20540.0           69170.0  \n",
       "0                        NaN               NaN               NaN  \n",
       "0                   0.736042           20540.0           69170.0  \n",
       "\n",
       "[4 rows x 50 columns]"
      ]
     },
     "execution_count": 61,
     "metadata": {},
     "output_type": "execute_result"
    }
   ],
   "source": [
    "final_output = universe_analysis.generate_final_output(\n",
    "    y_pred_prob=probs_test,\n",
    "    y_test=y_true,\n",
    "    org_test=org_test,\n",
    "    filter_data=filter_sub_universe_data,\n",
    "    cp_metrics_df=cp_metrics_df,\n",
    "    save=True,\n",
    ")\n",
    "final_output"
   ]
  },
  {
   "cell_type": "code",
   "execution_count": null,
   "id": "721ff514-cb11-46f8-b6fc-50392f74b5cb",
   "metadata": {
    "papermill": {
     "duration": 0.028377,
     "end_time": "2025-07-22T09:19:16.391569",
     "exception": false,
     "start_time": "2025-07-22T09:19:16.363192",
     "status": "completed"
    },
    "tags": []
   },
   "outputs": [],
   "source": []
  }
 ],
 "metadata": {
  "celltoolbar": "Tags",
  "kernelspec": {
   "display_name": "Python (CMA Fairness)",
   "language": "python",
   "name": "cma_fair_env"
  },
  "language_info": {
   "codemirror_mode": {
    "name": "ipython",
    "version": 3
   },
   "file_extension": ".py",
   "mimetype": "text/x-python",
   "name": "python",
   "nbconvert_exporter": "python",
   "pygments_lexer": "ipython3",
   "version": "3.10.12"
  },
  "papermill": {
   "default_parameters": {},
   "duration": 53.404995,
   "end_time": "2025-07-22T09:19:17.238609",
   "environment_variables": {},
   "exception": null,
   "input_path": "universe_analysis.ipynb",
   "output_path": "output/runs/3/notebooks/m_3-3c0844472bc99e5292e40448579d3510.ipynb",
   "parameters": {
    "output_dir": "output",
    "run_no": "3",
    "seed": "2023",
    "universe": "{\"cutoff\": [\"quantile_0.1\", \"quantile_0.25\"], \"eval_fairness_grouping\": [\"majority-minority\", \"nationality-all\"], \"exclude_features\": \"nationality\", \"exclude_subgroups\": \"drop-non-german\", \"model\": \"gbm\", \"scale\": \"do-not-scale\"}",
    "universe_id": "3c0844472bc99e5292e40448579d3510"
   },
   "start_time": "2025-07-22T09:18:23.833614",
   "version": "2.6.0"
  }
 },
 "nbformat": 4,
 "nbformat_minor": 5
}