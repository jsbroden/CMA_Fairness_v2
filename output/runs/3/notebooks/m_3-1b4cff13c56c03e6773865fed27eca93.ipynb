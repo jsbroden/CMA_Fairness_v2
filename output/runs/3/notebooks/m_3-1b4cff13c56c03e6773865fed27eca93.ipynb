{
 "cells": [
  {
   "cell_type": "markdown",
   "id": "ef23dbb3",
   "metadata": {
    "papermill": {
     "duration": 0.023914,
     "end_time": "2025-08-19T18:10:14.870247",
     "exception": false,
     "start_time": "2025-08-19T18:10:14.846333",
     "status": "completed"
    },
    "tags": []
   },
   "source": [
    "# Setup"
   ]
  },
  {
   "cell_type": "code",
   "execution_count": 1,
   "id": "0bc8e7dc",
   "metadata": {
    "execution": {
     "iopub.execute_input": "2025-08-19T18:10:14.894633Z",
     "iopub.status.busy": "2025-08-19T18:10:14.894311Z",
     "iopub.status.idle": "2025-08-19T18:10:14.908832Z",
     "shell.execute_reply": "2025-08-19T18:10:14.907794Z"
    },
    "papermill": {
     "duration": 0.031895,
     "end_time": "2025-08-19T18:10:14.915475",
     "exception": false,
     "start_time": "2025-08-19T18:10:14.883580",
     "status": "completed"
    },
    "tags": []
   },
   "outputs": [
    {
     "name": "stdout",
     "output_type": "stream",
     "text": [
      "/dss/dsshome1/0C/ra93lal2/cma/CMA_Fairness_v2\n"
     ]
    },
    {
     "name": "stderr",
     "output_type": "stream",
     "text": [
      "/dss/dsshome1/0C/ra93lal2/.local/share/virtualenvs/CMA_Fairness_v2-3j10GkSs/lib/python3.10/site-packages/IPython/core/magics/osm.py:393: UserWarning: This is now an optional IPython functionality, using bookmarks requires you to install the `pickleshare` library.\n",
      "  bkms = self.shell.db.get('bookmarks', {})\n",
      "/dss/dsshome1/0C/ra93lal2/.local/share/virtualenvs/CMA_Fairness_v2-3j10GkSs/lib/python3.10/site-packages/IPython/core/magics/osm.py:417: UserWarning: This is now an optional IPython functionality, setting dhist requires you to install the `pickleshare` library.\n",
      "  self.shell.db['dhist'] = compress_dhist(dhist)[-100:]\n"
     ]
    }
   ],
   "source": [
    "%cd ~/cma/CMA_Fairness_v2"
   ]
  },
  {
   "cell_type": "markdown",
   "id": "9d235661",
   "metadata": {
    "papermill": {
     "duration": 0.009492,
     "end_time": "2025-08-19T18:10:14.939553",
     "exception": false,
     "start_time": "2025-08-19T18:10:14.930061",
     "status": "completed"
    },
    "tags": []
   },
   "source": [
    "The following cell holds the definition of our parameters, these values can be overriden by rendering the with e.g. the following command:\n",
    "\n",
    "papermill -p alpha 0.2 -p ratio 0.3 universe_analysis.ipynb output/test_run.ipynb"
   ]
  },
  {
   "cell_type": "code",
   "execution_count": 2,
   "id": "4a789d8e",
   "metadata": {
    "execution": {
     "iopub.execute_input": "2025-08-19T18:10:14.960312Z",
     "iopub.status.busy": "2025-08-19T18:10:14.959116Z",
     "iopub.status.idle": "2025-08-19T18:10:14.969776Z",
     "shell.execute_reply": "2025-08-19T18:10:14.967993Z"
    },
    "papermill": {
     "duration": 0.022995,
     "end_time": "2025-08-19T18:10:14.971255",
     "exception": false,
     "start_time": "2025-08-19T18:10:14.948260",
     "status": "completed"
    },
    "tags": []
   },
   "outputs": [
    {
     "name": "stdout",
     "output_type": "stream",
     "text": [
      "Current working directory: /dss/dsshome1/0C/ra93lal2/cma/CMA_Fairness_v2\n"
     ]
    }
   ],
   "source": [
    "import os\n",
    "print(\"Current working directory:\", os.getcwd())"
   ]
  },
  {
   "cell_type": "code",
   "execution_count": 3,
   "id": "4132aaed",
   "metadata": {
    "execution": {
     "iopub.execute_input": "2025-08-19T18:10:14.994274Z",
     "iopub.status.busy": "2025-08-19T18:10:14.993158Z",
     "iopub.status.idle": "2025-08-19T18:10:15.004691Z",
     "shell.execute_reply": "2025-08-19T18:10:15.002611Z"
    },
    "papermill": {
     "duration": 0.023752,
     "end_time": "2025-08-19T18:10:15.006436",
     "exception": false,
     "start_time": "2025-08-19T18:10:14.982684",
     "status": "completed"
    },
    "tags": [
     "parameters"
    ]
   },
   "outputs": [],
   "source": [
    "run_no = 0\n",
    "universe_id = \"test\"\n",
    "universe = {\n",
    "    \"training_size\": \"5k\", # \"25k\", \"5k\", \"1k\"\n",
    "    \"training_year\": \"2012_14\", # \"2014\", \"2012_14\", \"2010_14\"\n",
    "    \"scale\": \"scale\", # \"scale\", \"do-not-scale\",\n",
    "    \"model\": \"elasticnet\", # \"logreg\", \"penalized_logreg\", \"rf\", \"gbm\", \"elasticnet\"\n",
    "    \"cutoff\": [\"quantile_0.15\", \"quantile_0.30\"],\n",
    "    \"exclude_features\": \"age\", # \"none\", \"nationality\", \"sex\", \"nationality-sex\", \"age\"\n",
    "    \"exclude_subgroups\": \"drop-non-german\", # \"keep-all\", \"drop-non-german\"\n",
    "    \"eval_fairness_grouping\": [\"majority-minority\", \"nationality-all\"]\n",
    "}\n",
    "\n",
    "output_dir=\"./output\"\n",
    "seed=0"
   ]
  },
  {
   "cell_type": "code",
   "execution_count": 4,
   "id": "ea0d95eb",
   "metadata": {
    "execution": {
     "iopub.execute_input": "2025-08-19T18:10:15.030829Z",
     "iopub.status.busy": "2025-08-19T18:10:15.029736Z",
     "iopub.status.idle": "2025-08-19T18:10:15.039790Z",
     "shell.execute_reply": "2025-08-19T18:10:15.037706Z"
    },
    "papermill": {
     "duration": 0.022931,
     "end_time": "2025-08-19T18:10:15.041279",
     "exception": false,
     "start_time": "2025-08-19T18:10:15.018348",
     "status": "completed"
    },
    "tags": [
     "injected-parameters"
    ]
   },
   "outputs": [],
   "source": [
    "# Parameters\n",
    "universe_id = \"1b4cff13c56c03e6773865fed27eca93\"\n",
    "run_no = \"3\"\n",
    "universe = \"{\\\"cutoff\\\": [\\\"quantile_0.1\\\", \\\"quantile_0.25\\\"], \\\"eval_fairness_grouping\\\": [\\\"majority-minority\\\", \\\"nationality-all\\\"], \\\"exclude_features\\\": \\\"age\\\", \\\"exclude_subgroups\\\": \\\"drop-non-german\\\", \\\"model\\\": \\\"rf\\\", \\\"scale\\\": \\\"do-not-scale\\\", \\\"training_size\\\": \\\"25k\\\", \\\"training_year\\\": \\\"2012_14\\\"}\"\n",
    "output_dir = \"output\"\n",
    "seed = \"2023\"\n"
   ]
  },
  {
   "cell_type": "code",
   "execution_count": 5,
   "id": "a5d7941f",
   "metadata": {
    "execution": {
     "iopub.execute_input": "2025-08-19T18:10:15.064637Z",
     "iopub.status.busy": "2025-08-19T18:10:15.063479Z",
     "iopub.status.idle": "2025-08-19T18:10:15.073022Z",
     "shell.execute_reply": "2025-08-19T18:10:15.070919Z"
    },
    "papermill": {
     "duration": 0.022209,
     "end_time": "2025-08-19T18:10:15.074514",
     "exception": false,
     "start_time": "2025-08-19T18:10:15.052305",
     "status": "completed"
    },
    "tags": []
   },
   "outputs": [],
   "source": [
    "import json\n",
    "if isinstance(universe, str):\n",
    "    universe = json.loads(universe)"
   ]
  },
  {
   "cell_type": "code",
   "execution_count": 6,
   "id": "7076ccb1",
   "metadata": {
    "execution": {
     "iopub.execute_input": "2025-08-19T18:10:15.097724Z",
     "iopub.status.busy": "2025-08-19T18:10:15.096622Z",
     "iopub.status.idle": "2025-08-19T18:10:15.144698Z",
     "shell.execute_reply": "2025-08-19T18:10:15.144035Z"
    },
    "papermill": {
     "duration": 0.061033,
     "end_time": "2025-08-19T18:10:15.147281",
     "exception": false,
     "start_time": "2025-08-19T18:10:15.086248",
     "status": "completed"
    },
    "tags": []
   },
   "outputs": [],
   "source": [
    "# Auto-reload the custom package\n",
    "%load_ext autoreload\n",
    "%autoreload 1\n",
    "%aimport fairness_multiverse"
   ]
  },
  {
   "cell_type": "code",
   "execution_count": 7,
   "id": "94c8eb93",
   "metadata": {
    "execution": {
     "iopub.execute_input": "2025-08-19T18:10:15.182456Z",
     "iopub.status.busy": "2025-08-19T18:10:15.181419Z",
     "iopub.status.idle": "2025-08-19T18:10:16.687421Z",
     "shell.execute_reply": "2025-08-19T18:10:16.686655Z"
    },
    "papermill": {
     "duration": 1.522456,
     "end_time": "2025-08-19T18:10:16.690501",
     "exception": false,
     "start_time": "2025-08-19T18:10:15.168045",
     "status": "completed"
    },
    "tags": []
   },
   "outputs": [],
   "source": [
    "from fairness_multiverse.universe import UniverseAnalysis\n",
    "\n",
    "universe_analysis = UniverseAnalysis(\n",
    "    run_no = run_no,\n",
    "    universe_id = universe_id,\n",
    "    universe = universe,\n",
    "    output_dir=output_dir,\n",
    ")"
   ]
  },
  {
   "cell_type": "code",
   "execution_count": 8,
   "id": "2a6381cf",
   "metadata": {
    "execution": {
     "iopub.execute_input": "2025-08-19T18:10:16.743006Z",
     "iopub.status.busy": "2025-08-19T18:10:16.741472Z",
     "iopub.status.idle": "2025-08-19T18:10:16.752028Z",
     "shell.execute_reply": "2025-08-19T18:10:16.750449Z"
    },
    "papermill": {
     "duration": 0.038117,
     "end_time": "2025-08-19T18:10:16.753399",
     "exception": false,
     "start_time": "2025-08-19T18:10:16.715282",
     "status": "completed"
    },
    "tags": []
   },
   "outputs": [
    {
     "name": "stdout",
     "output_type": "stream",
     "text": [
      "Using Seed: 2023\n"
     ]
    }
   ],
   "source": [
    "import numpy as np\n",
    "parsed_seed = int(seed)\n",
    "np.random.seed(parsed_seed)\n",
    "print(f\"Using Seed: {parsed_seed}\")"
   ]
  },
  {
   "cell_type": "markdown",
   "id": "b6e958b4",
   "metadata": {
    "papermill": {
     "duration": 0.009758,
     "end_time": "2025-08-19T18:10:16.772430",
     "exception": false,
     "start_time": "2025-08-19T18:10:16.762672",
     "status": "completed"
    },
    "tags": []
   },
   "source": [
    "# Loading Data"
   ]
  },
  {
   "cell_type": "code",
   "execution_count": 9,
   "id": "98701482",
   "metadata": {
    "execution": {
     "iopub.execute_input": "2025-08-19T18:10:16.798406Z",
     "iopub.status.busy": "2025-08-19T18:10:16.797218Z",
     "iopub.status.idle": "2025-08-19T18:10:26.886327Z",
     "shell.execute_reply": "2025-08-19T18:10:26.885280Z"
    },
    "papermill": {
     "duration": 10.106342,
     "end_time": "2025-08-19T18:10:26.887717",
     "exception": false,
     "start_time": "2025-08-19T18:10:16.781375",
     "status": "completed"
    },
    "tags": []
   },
   "outputs": [
    {
     "name": "stdout",
     "output_type": "stream",
     "text": [
      "Loading SIAB data from cache: data/siab_cached.csv.gz\n"
     ]
    },
    {
     "name": "stdout",
     "output_type": "stream",
     "text": [
      "(643690, 164)\n"
     ]
    }
   ],
   "source": [
    "from pathlib import Path\n",
    "import pandas as pd\n",
    "\n",
    "# File paths\n",
    "raw_file = Path(\"data/raw/siab.csv\")\n",
    "cache_file = Path(\"data/siab_cached.csv.gz\")\n",
    "\n",
    "# Ensure cache directory exists\n",
    "cache_file.parent.mkdir(parents=True, exist_ok=True)\n",
    "\n",
    "# Load with simple caching\n",
    "if cache_file.exists():\n",
    "    print(f\"Loading SIAB data from cache: {cache_file}\")\n",
    "    siab = pd.read_csv(cache_file, compression='gzip')\n",
    "else:\n",
    "    print(f\"Cache not found. Reading raw SIAB data: {raw_file}\")\n",
    "    siab = pd.read_csv(raw_file)\n",
    "    siab.to_csv(cache_file, index=False, compression='gzip')\n",
    "    print(f\"Cached SIAB data to: {cache_file}\")\n",
    "\n",
    "print(siab.shape)"
   ]
  },
  {
   "cell_type": "code",
   "execution_count": 10,
   "id": "058d2abb",
   "metadata": {
    "execution": {
     "iopub.execute_input": "2025-08-19T18:10:26.913758Z",
     "iopub.status.busy": "2025-08-19T18:10:26.912527Z",
     "iopub.status.idle": "2025-08-19T18:10:27.108767Z",
     "shell.execute_reply": "2025-08-19T18:10:27.107595Z"
    },
    "papermill": {
     "duration": 0.209487,
     "end_time": "2025-08-19T18:10:27.110240",
     "exception": false,
     "start_time": "2025-08-19T18:10:26.900753",
     "status": "completed"
    },
    "tags": []
   },
   "outputs": [
    {
     "data": {
      "text/html": [
       "<div>\n",
       "<style scoped>\n",
       "    .dataframe tbody tr th:only-of-type {\n",
       "        vertical-align: middle;\n",
       "    }\n",
       "\n",
       "    .dataframe tbody tr th {\n",
       "        vertical-align: top;\n",
       "    }\n",
       "\n",
       "    .dataframe thead th {\n",
       "        text-align: right;\n",
       "    }\n",
       "</style>\n",
       "<table border=\"1\" class=\"dataframe\">\n",
       "  <thead>\n",
       "    <tr style=\"text-align: right;\">\n",
       "      <th></th>\n",
       "      <th>persnr</th>\n",
       "      <th>year</th>\n",
       "      <th>nrEntry</th>\n",
       "      <th>ltue</th>\n",
       "      <th>employed_before</th>\n",
       "      <th>receipt_leh_before</th>\n",
       "      <th>receipt_lhg_before</th>\n",
       "      <th>se_before</th>\n",
       "      <th>ASU_notue_seeking_before</th>\n",
       "      <th>ASU_other_before</th>\n",
       "      <th>...</th>\n",
       "      <th>minijob_tot_dur_byage</th>\n",
       "      <th>ft_tot_dur_byage</th>\n",
       "      <th>befrist_tot_dur_byage</th>\n",
       "      <th>leih_tot_dur_byage</th>\n",
       "      <th>LHG_tot_dur_byage</th>\n",
       "      <th>LEH_tot_dur_byage</th>\n",
       "      <th>almp_tot_dur_byage</th>\n",
       "      <th>almp_aw_tot_dur_byage</th>\n",
       "      <th>se_tot_dur_byage</th>\n",
       "      <th>seeking1_tot_dur_byage</th>\n",
       "    </tr>\n",
       "  </thead>\n",
       "  <tbody>\n",
       "    <tr>\n",
       "      <th>0</th>\n",
       "      <td>7</td>\n",
       "      <td>2015</td>\n",
       "      <td>1</td>\n",
       "      <td>0</td>\n",
       "      <td>1</td>\n",
       "      <td>0</td>\n",
       "      <td>0</td>\n",
       "      <td>0</td>\n",
       "      <td>1</td>\n",
       "      <td>0</td>\n",
       "      <td>...</td>\n",
       "      <td>0.000000</td>\n",
       "      <td>0.000000</td>\n",
       "      <td>15.043478</td>\n",
       "      <td>0.000000</td>\n",
       "      <td>0.000000</td>\n",
       "      <td>0.000000</td>\n",
       "      <td>0.000000</td>\n",
       "      <td>0.000000</td>\n",
       "      <td>0.000000</td>\n",
       "      <td>0.000000</td>\n",
       "    </tr>\n",
       "    <tr>\n",
       "      <th>1</th>\n",
       "      <td>18</td>\n",
       "      <td>2010</td>\n",
       "      <td>1</td>\n",
       "      <td>1</td>\n",
       "      <td>0</td>\n",
       "      <td>0</td>\n",
       "      <td>0</td>\n",
       "      <td>0</td>\n",
       "      <td>0</td>\n",
       "      <td>0</td>\n",
       "      <td>...</td>\n",
       "      <td>0.000000</td>\n",
       "      <td>0.000000</td>\n",
       "      <td>0.000000</td>\n",
       "      <td>0.000000</td>\n",
       "      <td>0.000000</td>\n",
       "      <td>0.000000</td>\n",
       "      <td>0.000000</td>\n",
       "      <td>0.000000</td>\n",
       "      <td>0.000000</td>\n",
       "      <td>0.000000</td>\n",
       "    </tr>\n",
       "    <tr>\n",
       "      <th>2</th>\n",
       "      <td>18</td>\n",
       "      <td>2011</td>\n",
       "      <td>2</td>\n",
       "      <td>0</td>\n",
       "      <td>1</td>\n",
       "      <td>0</td>\n",
       "      <td>1</td>\n",
       "      <td>0</td>\n",
       "      <td>1</td>\n",
       "      <td>0</td>\n",
       "      <td>...</td>\n",
       "      <td>2.714286</td>\n",
       "      <td>2.714286</td>\n",
       "      <td>0.000000</td>\n",
       "      <td>0.000000</td>\n",
       "      <td>10.775510</td>\n",
       "      <td>0.000000</td>\n",
       "      <td>8.367347</td>\n",
       "      <td>0.000000</td>\n",
       "      <td>0.000000</td>\n",
       "      <td>9.836735</td>\n",
       "    </tr>\n",
       "    <tr>\n",
       "      <th>3</th>\n",
       "      <td>18</td>\n",
       "      <td>2012</td>\n",
       "      <td>3</td>\n",
       "      <td>0</td>\n",
       "      <td>1</td>\n",
       "      <td>0</td>\n",
       "      <td>1</td>\n",
       "      <td>0</td>\n",
       "      <td>1</td>\n",
       "      <td>0</td>\n",
       "      <td>...</td>\n",
       "      <td>4.200000</td>\n",
       "      <td>4.200000</td>\n",
       "      <td>0.000000</td>\n",
       "      <td>0.000000</td>\n",
       "      <td>12.100000</td>\n",
       "      <td>0.000000</td>\n",
       "      <td>9.400000</td>\n",
       "      <td>0.000000</td>\n",
       "      <td>0.000000</td>\n",
       "      <td>9.960000</td>\n",
       "    </tr>\n",
       "    <tr>\n",
       "      <th>4</th>\n",
       "      <td>18</td>\n",
       "      <td>2012</td>\n",
       "      <td>4</td>\n",
       "      <td>0</td>\n",
       "      <td>1</td>\n",
       "      <td>0</td>\n",
       "      <td>1</td>\n",
       "      <td>0</td>\n",
       "      <td>1</td>\n",
       "      <td>0</td>\n",
       "      <td>...</td>\n",
       "      <td>5.460000</td>\n",
       "      <td>5.460000</td>\n",
       "      <td>0.000000</td>\n",
       "      <td>0.000000</td>\n",
       "      <td>13.360000</td>\n",
       "      <td>0.000000</td>\n",
       "      <td>10.320000</td>\n",
       "      <td>0.000000</td>\n",
       "      <td>0.000000</td>\n",
       "      <td>10.280000</td>\n",
       "    </tr>\n",
       "    <tr>\n",
       "      <th>...</th>\n",
       "      <td>...</td>\n",
       "      <td>...</td>\n",
       "      <td>...</td>\n",
       "      <td>...</td>\n",
       "      <td>...</td>\n",
       "      <td>...</td>\n",
       "      <td>...</td>\n",
       "      <td>...</td>\n",
       "      <td>...</td>\n",
       "      <td>...</td>\n",
       "      <td>...</td>\n",
       "      <td>...</td>\n",
       "      <td>...</td>\n",
       "      <td>...</td>\n",
       "      <td>...</td>\n",
       "      <td>...</td>\n",
       "      <td>...</td>\n",
       "      <td>...</td>\n",
       "      <td>...</td>\n",
       "      <td>...</td>\n",
       "      <td>...</td>\n",
       "    </tr>\n",
       "    <tr>\n",
       "      <th>643685</th>\n",
       "      <td>1827860</td>\n",
       "      <td>2013</td>\n",
       "      <td>1</td>\n",
       "      <td>0</td>\n",
       "      <td>0</td>\n",
       "      <td>0</td>\n",
       "      <td>1</td>\n",
       "      <td>0</td>\n",
       "      <td>0</td>\n",
       "      <td>1</td>\n",
       "      <td>...</td>\n",
       "      <td>0.000000</td>\n",
       "      <td>0.000000</td>\n",
       "      <td>0.000000</td>\n",
       "      <td>0.000000</td>\n",
       "      <td>0.612903</td>\n",
       "      <td>0.000000</td>\n",
       "      <td>0.000000</td>\n",
       "      <td>0.000000</td>\n",
       "      <td>0.000000</td>\n",
       "      <td>0.000000</td>\n",
       "    </tr>\n",
       "    <tr>\n",
       "      <th>643686</th>\n",
       "      <td>1827860</td>\n",
       "      <td>2015</td>\n",
       "      <td>2</td>\n",
       "      <td>1</td>\n",
       "      <td>0</td>\n",
       "      <td>0</td>\n",
       "      <td>1</td>\n",
       "      <td>0</td>\n",
       "      <td>1</td>\n",
       "      <td>0</td>\n",
       "      <td>...</td>\n",
       "      <td>0.000000</td>\n",
       "      <td>0.000000</td>\n",
       "      <td>0.212121</td>\n",
       "      <td>0.212121</td>\n",
       "      <td>17.363636</td>\n",
       "      <td>0.000000</td>\n",
       "      <td>8.909091</td>\n",
       "      <td>0.000000</td>\n",
       "      <td>0.000000</td>\n",
       "      <td>7.121212</td>\n",
       "    </tr>\n",
       "    <tr>\n",
       "      <th>643687</th>\n",
       "      <td>1827860</td>\n",
       "      <td>2016</td>\n",
       "      <td>3</td>\n",
       "      <td>1</td>\n",
       "      <td>0</td>\n",
       "      <td>0</td>\n",
       "      <td>1</td>\n",
       "      <td>1</td>\n",
       "      <td>0</td>\n",
       "      <td>1</td>\n",
       "      <td>...</td>\n",
       "      <td>0.000000</td>\n",
       "      <td>0.000000</td>\n",
       "      <td>0.294118</td>\n",
       "      <td>0.205882</td>\n",
       "      <td>34.705882</td>\n",
       "      <td>0.000000</td>\n",
       "      <td>10.352941</td>\n",
       "      <td>1.705882</td>\n",
       "      <td>1.705882</td>\n",
       "      <td>23.911765</td>\n",
       "    </tr>\n",
       "    <tr>\n",
       "      <th>643688</th>\n",
       "      <td>1827869</td>\n",
       "      <td>2013</td>\n",
       "      <td>1</td>\n",
       "      <td>1</td>\n",
       "      <td>1</td>\n",
       "      <td>0</td>\n",
       "      <td>0</td>\n",
       "      <td>0</td>\n",
       "      <td>1</td>\n",
       "      <td>0</td>\n",
       "      <td>...</td>\n",
       "      <td>0.000000</td>\n",
       "      <td>0.000000</td>\n",
       "      <td>0.000000</td>\n",
       "      <td>0.000000</td>\n",
       "      <td>0.000000</td>\n",
       "      <td>0.525424</td>\n",
       "      <td>0.000000</td>\n",
       "      <td>0.000000</td>\n",
       "      <td>0.000000</td>\n",
       "      <td>0.000000</td>\n",
       "    </tr>\n",
       "    <tr>\n",
       "      <th>643689</th>\n",
       "      <td>1827869</td>\n",
       "      <td>2014</td>\n",
       "      <td>2</td>\n",
       "      <td>0</td>\n",
       "      <td>0</td>\n",
       "      <td>1</td>\n",
       "      <td>0</td>\n",
       "      <td>0</td>\n",
       "      <td>1</td>\n",
       "      <td>0</td>\n",
       "      <td>...</td>\n",
       "      <td>0.000000</td>\n",
       "      <td>0.666667</td>\n",
       "      <td>0.666667</td>\n",
       "      <td>0.000000</td>\n",
       "      <td>0.000000</td>\n",
       "      <td>8.950000</td>\n",
       "      <td>1.033333</td>\n",
       "      <td>0.083333</td>\n",
       "      <td>0.083333</td>\n",
       "      <td>8.133333</td>\n",
       "    </tr>\n",
       "  </tbody>\n",
       "</table>\n",
       "<p>643690 rows × 164 columns</p>\n",
       "</div>"
      ],
      "text/plain": [
       "         persnr  year  nrEntry  ltue  employed_before  receipt_leh_before  \\\n",
       "0             7  2015        1     0                1                   0   \n",
       "1            18  2010        1     1                0                   0   \n",
       "2            18  2011        2     0                1                   0   \n",
       "3            18  2012        3     0                1                   0   \n",
       "4            18  2012        4     0                1                   0   \n",
       "...         ...   ...      ...   ...              ...                 ...   \n",
       "643685  1827860  2013        1     0                0                   0   \n",
       "643686  1827860  2015        2     1                0                   0   \n",
       "643687  1827860  2016        3     1                0                   0   \n",
       "643688  1827869  2013        1     1                1                   0   \n",
       "643689  1827869  2014        2     0                0                   1   \n",
       "\n",
       "        receipt_lhg_before  se_before  ASU_notue_seeking_before  \\\n",
       "0                        0          0                         1   \n",
       "1                        0          0                         0   \n",
       "2                        1          0                         1   \n",
       "3                        1          0                         1   \n",
       "4                        1          0                         1   \n",
       "...                    ...        ...                       ...   \n",
       "643685                   1          0                         0   \n",
       "643686                   1          0                         1   \n",
       "643687                   1          1                         0   \n",
       "643688                   0          0                         1   \n",
       "643689                   0          0                         1   \n",
       "\n",
       "        ASU_other_before  ...  minijob_tot_dur_byage  ft_tot_dur_byage  \\\n",
       "0                      0  ...               0.000000          0.000000   \n",
       "1                      0  ...               0.000000          0.000000   \n",
       "2                      0  ...               2.714286          2.714286   \n",
       "3                      0  ...               4.200000          4.200000   \n",
       "4                      0  ...               5.460000          5.460000   \n",
       "...                  ...  ...                    ...               ...   \n",
       "643685                 1  ...               0.000000          0.000000   \n",
       "643686                 0  ...               0.000000          0.000000   \n",
       "643687                 1  ...               0.000000          0.000000   \n",
       "643688                 0  ...               0.000000          0.000000   \n",
       "643689                 0  ...               0.000000          0.666667   \n",
       "\n",
       "        befrist_tot_dur_byage  leih_tot_dur_byage  LHG_tot_dur_byage  \\\n",
       "0                   15.043478            0.000000           0.000000   \n",
       "1                    0.000000            0.000000           0.000000   \n",
       "2                    0.000000            0.000000          10.775510   \n",
       "3                    0.000000            0.000000          12.100000   \n",
       "4                    0.000000            0.000000          13.360000   \n",
       "...                       ...                 ...                ...   \n",
       "643685               0.000000            0.000000           0.612903   \n",
       "643686               0.212121            0.212121          17.363636   \n",
       "643687               0.294118            0.205882          34.705882   \n",
       "643688               0.000000            0.000000           0.000000   \n",
       "643689               0.666667            0.000000           0.000000   \n",
       "\n",
       "        LEH_tot_dur_byage  almp_tot_dur_byage  almp_aw_tot_dur_byage  \\\n",
       "0                0.000000            0.000000               0.000000   \n",
       "1                0.000000            0.000000               0.000000   \n",
       "2                0.000000            8.367347               0.000000   \n",
       "3                0.000000            9.400000               0.000000   \n",
       "4                0.000000           10.320000               0.000000   \n",
       "...                   ...                 ...                    ...   \n",
       "643685           0.000000            0.000000               0.000000   \n",
       "643686           0.000000            8.909091               0.000000   \n",
       "643687           0.000000           10.352941               1.705882   \n",
       "643688           0.525424            0.000000               0.000000   \n",
       "643689           8.950000            1.033333               0.083333   \n",
       "\n",
       "        se_tot_dur_byage  seeking1_tot_dur_byage  \n",
       "0               0.000000                0.000000  \n",
       "1               0.000000                0.000000  \n",
       "2               0.000000                9.836735  \n",
       "3               0.000000                9.960000  \n",
       "4               0.000000               10.280000  \n",
       "...                  ...                     ...  \n",
       "643685          0.000000                0.000000  \n",
       "643686          0.000000                7.121212  \n",
       "643687          1.705882               23.911765  \n",
       "643688          0.000000                0.000000  \n",
       "643689          0.083333                8.133333  \n",
       "\n",
       "[643690 rows x 164 columns]"
      ]
     },
     "execution_count": 10,
     "metadata": {},
     "output_type": "execute_result"
    }
   ],
   "source": [
    "siab"
   ]
  },
  {
   "cell_type": "markdown",
   "id": "1f87e805",
   "metadata": {
    "papermill": {
     "duration": 0.01,
     "end_time": "2025-08-19T18:10:27.130499",
     "exception": false,
     "start_time": "2025-08-19T18:10:27.120499",
     "status": "completed"
    },
    "tags": []
   },
   "source": [
    "# Splitting Data and Setting Training Data Size"
   ]
  },
  {
   "cell_type": "code",
   "execution_count": 11,
   "id": "910ae358",
   "metadata": {
    "execution": {
     "iopub.execute_input": "2025-08-19T18:10:27.153581Z",
     "iopub.status.busy": "2025-08-19T18:10:27.152373Z",
     "iopub.status.idle": "2025-08-19T18:10:27.911575Z",
     "shell.execute_reply": "2025-08-19T18:10:27.910316Z"
    },
    "papermill": {
     "duration": 0.773258,
     "end_time": "2025-08-19T18:10:27.913347",
     "exception": false,
     "start_time": "2025-08-19T18:10:27.140089",
     "status": "completed"
    },
    "tags": []
   },
   "outputs": [],
   "source": [
    "from fairness_multiverse.universe import sample_by_year_size\n",
    "\n",
    "siab_train = sample_by_year_size(siab,\n",
    "                               training_year=universe[\"training_year\"],\n",
    "                               training_size=universe[\"training_size\"])"
   ]
  },
  {
   "cell_type": "code",
   "execution_count": 12,
   "id": "919c8ff5",
   "metadata": {
    "execution": {
     "iopub.execute_input": "2025-08-19T18:10:27.955878Z",
     "iopub.status.busy": "2025-08-19T18:10:27.954637Z",
     "iopub.status.idle": "2025-08-19T18:10:27.966175Z",
     "shell.execute_reply": "2025-08-19T18:10:27.964629Z"
    },
    "papermill": {
     "duration": 0.039101,
     "end_time": "2025-08-19T18:10:27.968814",
     "exception": false,
     "start_time": "2025-08-19T18:10:27.929713",
     "status": "completed"
    },
    "tags": []
   },
   "outputs": [
    {
     "data": {
      "text/plain": [
       "(25000, 164)"
      ]
     },
     "execution_count": 12,
     "metadata": {},
     "output_type": "execute_result"
    }
   ],
   "source": [
    "siab_train.shape"
   ]
  },
  {
   "cell_type": "code",
   "execution_count": 13,
   "id": "feb13bf4",
   "metadata": {
    "execution": {
     "iopub.execute_input": "2025-08-19T18:10:27.997310Z",
     "iopub.status.busy": "2025-08-19T18:10:27.996153Z",
     "iopub.status.idle": "2025-08-19T18:10:28.011033Z",
     "shell.execute_reply": "2025-08-19T18:10:28.009748Z"
    },
    "papermill": {
     "duration": 0.030399,
     "end_time": "2025-08-19T18:10:28.012837",
     "exception": false,
     "start_time": "2025-08-19T18:10:27.982438",
     "status": "completed"
    },
    "tags": []
   },
   "outputs": [
    {
     "data": {
      "text/plain": [
       "year\n",
       "2012    8334\n",
       "2013    8333\n",
       "2014    8333\n",
       "dtype: int64"
      ]
     },
     "metadata": {},
     "output_type": "display_data"
    }
   ],
   "source": [
    "display(siab_train.groupby(\"year\").size())"
   ]
  },
  {
   "cell_type": "code",
   "execution_count": 14,
   "id": "0997782f",
   "metadata": {
    "execution": {
     "iopub.execute_input": "2025-08-19T18:10:28.039267Z",
     "iopub.status.busy": "2025-08-19T18:10:28.038145Z",
     "iopub.status.idle": "2025-08-19T18:10:28.323086Z",
     "shell.execute_reply": "2025-08-19T18:10:28.322007Z"
    },
    "papermill": {
     "duration": 0.300568,
     "end_time": "2025-08-19T18:10:28.326464",
     "exception": false,
     "start_time": "2025-08-19T18:10:28.025896",
     "status": "completed"
    },
    "tags": []
   },
   "outputs": [],
   "source": [
    "#siab_train = siab_s[siab_s.year < 2015]\n",
    "siab_calib = siab[siab.year == 2015]\n",
    "siab_test = siab[siab.year == 2016]"
   ]
  },
  {
   "cell_type": "code",
   "execution_count": 15,
   "id": "2c1e4012",
   "metadata": {
    "execution": {
     "iopub.execute_input": "2025-08-19T18:10:28.363502Z",
     "iopub.status.busy": "2025-08-19T18:10:28.362556Z",
     "iopub.status.idle": "2025-08-19T18:10:28.369326Z",
     "shell.execute_reply": "2025-08-19T18:10:28.368096Z"
    },
    "papermill": {
     "duration": 0.021858,
     "end_time": "2025-08-19T18:10:28.370891",
     "exception": false,
     "start_time": "2025-08-19T18:10:28.349033",
     "status": "completed"
    },
    "tags": []
   },
   "outputs": [],
   "source": [
    "#siab_calib.shape"
   ]
  },
  {
   "cell_type": "code",
   "execution_count": 16,
   "id": "f66b54ca",
   "metadata": {
    "execution": {
     "iopub.execute_input": "2025-08-19T18:10:28.395162Z",
     "iopub.status.busy": "2025-08-19T18:10:28.394035Z",
     "iopub.status.idle": "2025-08-19T18:10:28.401005Z",
     "shell.execute_reply": "2025-08-19T18:10:28.399685Z"
    },
    "papermill": {
     "duration": 0.020214,
     "end_time": "2025-08-19T18:10:28.402519",
     "exception": false,
     "start_time": "2025-08-19T18:10:28.382305",
     "status": "completed"
    },
    "tags": []
   },
   "outputs": [],
   "source": [
    "#siab_test.shape"
   ]
  },
  {
   "cell_type": "code",
   "execution_count": 17,
   "id": "27e4384d",
   "metadata": {
    "execution": {
     "iopub.execute_input": "2025-08-19T18:10:28.427321Z",
     "iopub.status.busy": "2025-08-19T18:10:28.426132Z",
     "iopub.status.idle": "2025-08-19T18:10:28.447125Z",
     "shell.execute_reply": "2025-08-19T18:10:28.445739Z"
    },
    "papermill": {
     "duration": 0.034839,
     "end_time": "2025-08-19T18:10:28.449088",
     "exception": false,
     "start_time": "2025-08-19T18:10:28.414249",
     "status": "completed"
    },
    "tags": []
   },
   "outputs": [],
   "source": [
    "X_train = siab_train.iloc[:,4:164]\n",
    "y_train = siab_train.iloc[:, [3]]"
   ]
  },
  {
   "cell_type": "code",
   "execution_count": 18,
   "id": "08ee8389",
   "metadata": {
    "execution": {
     "iopub.execute_input": "2025-08-19T18:10:28.478649Z",
     "iopub.status.busy": "2025-08-19T18:10:28.477483Z",
     "iopub.status.idle": "2025-08-19T18:10:28.535064Z",
     "shell.execute_reply": "2025-08-19T18:10:28.533940Z"
    },
    "papermill": {
     "duration": 0.07358,
     "end_time": "2025-08-19T18:10:28.539065",
     "exception": false,
     "start_time": "2025-08-19T18:10:28.465485",
     "status": "completed"
    },
    "tags": []
   },
   "outputs": [],
   "source": [
    "X_calib = siab_calib.iloc[:,4:164]\n",
    "y_calib = siab_calib.iloc[:, [3]]"
   ]
  },
  {
   "cell_type": "code",
   "execution_count": 19,
   "id": "b7ff42e0",
   "metadata": {
    "execution": {
     "iopub.execute_input": "2025-08-19T18:10:28.576260Z",
     "iopub.status.busy": "2025-08-19T18:10:28.574983Z",
     "iopub.status.idle": "2025-08-19T18:10:28.649550Z",
     "shell.execute_reply": "2025-08-19T18:10:28.637513Z"
    },
    "papermill": {
     "duration": 0.090903,
     "end_time": "2025-08-19T18:10:28.652026",
     "exception": false,
     "start_time": "2025-08-19T18:10:28.561123",
     "status": "completed"
    },
    "tags": []
   },
   "outputs": [],
   "source": [
    "X_test = siab_test.iloc[:,4:164]\n",
    "y_true = siab_test.iloc[:, [3]]"
   ]
  },
  {
   "cell_type": "code",
   "execution_count": 20,
   "id": "0275101e",
   "metadata": {
    "execution": {
     "iopub.execute_input": "2025-08-19T18:10:28.683237Z",
     "iopub.status.busy": "2025-08-19T18:10:28.682236Z",
     "iopub.status.idle": "2025-08-19T18:10:28.795119Z",
     "shell.execute_reply": "2025-08-19T18:10:28.794046Z"
    },
    "papermill": {
     "duration": 0.129291,
     "end_time": "2025-08-19T18:10:28.798595",
     "exception": false,
     "start_time": "2025-08-19T18:10:28.669304",
     "status": "completed"
    },
    "tags": []
   },
   "outputs": [],
   "source": [
    "# Auxiliary data needed downstream in the pipeline\n",
    "\n",
    "org_train = X_train.copy()\n",
    "org_test = X_test.copy()\n",
    "org_calib = X_calib.copy()"
   ]
  },
  {
   "cell_type": "markdown",
   "id": "b461e618",
   "metadata": {
    "papermill": {
     "duration": 0.02079,
     "end_time": "2025-08-19T18:10:28.843187",
     "exception": false,
     "start_time": "2025-08-19T18:10:28.822397",
     "status": "completed"
    },
    "tags": []
   },
   "source": [
    "# Preprocessing Data"
   ]
  },
  {
   "cell_type": "code",
   "execution_count": 21,
   "id": "78e74c4b",
   "metadata": {
    "execution": {
     "iopub.execute_input": "2025-08-19T18:10:28.870069Z",
     "iopub.status.busy": "2025-08-19T18:10:28.868657Z",
     "iopub.status.idle": "2025-08-19T18:10:28.877359Z",
     "shell.execute_reply": "2025-08-19T18:10:28.876146Z"
    },
    "papermill": {
     "duration": 0.024481,
     "end_time": "2025-08-19T18:10:28.878969",
     "exception": false,
     "start_time": "2025-08-19T18:10:28.854488",
     "status": "completed"
    },
    "tags": []
   },
   "outputs": [],
   "source": [
    "# EXCLUDE PROTECTED FEATURES\n",
    "# --------------------------\n",
    "\n",
    "excluded_features = universe[\"exclude_features\"].split(\"-\")\n",
    "excluded_features_dictionary = {\n",
    "    \"nationality\": [\"maxdeutsch1\", \"maxdeutsch.Missing.\"],\n",
    "    \"sex\": [\"frau1\"],\n",
    "    \"age\": [\"age\"],\n",
    "}"
   ]
  },
  {
   "cell_type": "code",
   "execution_count": 22,
   "id": "f8e63555",
   "metadata": {
    "execution": {
     "iopub.execute_input": "2025-08-19T18:10:28.914374Z",
     "iopub.status.busy": "2025-08-19T18:10:28.912784Z",
     "iopub.status.idle": "2025-08-19T18:10:28.923459Z",
     "shell.execute_reply": "2025-08-19T18:10:28.922395Z"
    },
    "papermill": {
     "duration": 0.032427,
     "end_time": "2025-08-19T18:10:28.925963",
     "exception": false,
     "start_time": "2025-08-19T18:10:28.893536",
     "status": "completed"
    },
    "tags": []
   },
   "outputs": [],
   "source": [
    "excluded_features_columns = [\n",
    "    excluded_features_dictionary[f] for f in excluded_features if len(f) > 0 and f != \"none\"\n",
    "]"
   ]
  },
  {
   "cell_type": "code",
   "execution_count": 23,
   "id": "da781f7c",
   "metadata": {
    "execution": {
     "iopub.execute_input": "2025-08-19T18:10:28.954740Z",
     "iopub.status.busy": "2025-08-19T18:10:28.954268Z",
     "iopub.status.idle": "2025-08-19T18:10:28.960019Z",
     "shell.execute_reply": "2025-08-19T18:10:28.958444Z"
    },
    "papermill": {
     "duration": 0.019446,
     "end_time": "2025-08-19T18:10:28.961743",
     "exception": false,
     "start_time": "2025-08-19T18:10:28.942297",
     "status": "completed"
    },
    "tags": []
   },
   "outputs": [],
   "source": [
    "from fairness_multiverse.universe import flatten_once\n",
    "\n",
    "excluded_features_columns = flatten_once(excluded_features_columns)"
   ]
  },
  {
   "cell_type": "code",
   "execution_count": 24,
   "id": "37fef0f0",
   "metadata": {
    "execution": {
     "iopub.execute_input": "2025-08-19T18:10:28.984313Z",
     "iopub.status.busy": "2025-08-19T18:10:28.983820Z",
     "iopub.status.idle": "2025-08-19T18:10:29.000562Z",
     "shell.execute_reply": "2025-08-19T18:10:28.999199Z"
    },
    "papermill": {
     "duration": 0.029646,
     "end_time": "2025-08-19T18:10:29.001947",
     "exception": false,
     "start_time": "2025-08-19T18:10:28.972301",
     "status": "completed"
    },
    "tags": []
   },
   "outputs": [
    {
     "name": "stdout",
     "output_type": "stream",
     "text": [
      "Dropping features: ['age']\n"
     ]
    }
   ],
   "source": [
    "if len(excluded_features_columns) > 0:\n",
    "    print(f\"Dropping features: {excluded_features_columns}\")\n",
    "    X_train.drop(excluded_features_columns, axis=1, inplace=True)"
   ]
  },
  {
   "cell_type": "code",
   "execution_count": 25,
   "id": "d029e3e9",
   "metadata": {
    "execution": {
     "iopub.execute_input": "2025-08-19T18:10:29.025750Z",
     "iopub.status.busy": "2025-08-19T18:10:29.024583Z",
     "iopub.status.idle": "2025-08-19T18:10:29.084443Z",
     "shell.execute_reply": "2025-08-19T18:10:29.083848Z"
    },
    "papermill": {
     "duration": 0.074056,
     "end_time": "2025-08-19T18:10:29.086666",
     "exception": false,
     "start_time": "2025-08-19T18:10:29.012610",
     "status": "completed"
    },
    "tags": []
   },
   "outputs": [
    {
     "name": "stdout",
     "output_type": "stream",
     "text": [
      "Dropping features: ['age']\n"
     ]
    }
   ],
   "source": [
    "if len(excluded_features_columns) > 0:\n",
    "    print(f\"Dropping features: {excluded_features_columns}\")\n",
    "    X_test.drop(excluded_features_columns, axis=1, inplace=True)"
   ]
  },
  {
   "cell_type": "code",
   "execution_count": 26,
   "id": "01d571f0",
   "metadata": {
    "execution": {
     "iopub.execute_input": "2025-08-19T18:10:29.126118Z",
     "iopub.status.busy": "2025-08-19T18:10:29.124955Z",
     "iopub.status.idle": "2025-08-19T18:10:29.180891Z",
     "shell.execute_reply": "2025-08-19T18:10:29.180262Z"
    },
    "papermill": {
     "duration": 0.072528,
     "end_time": "2025-08-19T18:10:29.183126",
     "exception": false,
     "start_time": "2025-08-19T18:10:29.110598",
     "status": "completed"
    },
    "tags": []
   },
   "outputs": [
    {
     "name": "stdout",
     "output_type": "stream",
     "text": [
      "Dropping features: ['age']\n"
     ]
    }
   ],
   "source": [
    "if len(excluded_features_columns) > 0:\n",
    "    print(f\"Dropping features: {excluded_features_columns}\")\n",
    "    X_calib.drop(excluded_features_columns, axis=1, inplace=True)"
   ]
  },
  {
   "cell_type": "code",
   "execution_count": 27,
   "id": "3037356e",
   "metadata": {
    "execution": {
     "iopub.execute_input": "2025-08-19T18:10:29.222921Z",
     "iopub.status.busy": "2025-08-19T18:10:29.221342Z",
     "iopub.status.idle": "2025-08-19T18:10:29.231350Z",
     "shell.execute_reply": "2025-08-19T18:10:29.229626Z"
    },
    "papermill": {
     "duration": 0.026002,
     "end_time": "2025-08-19T18:10:29.233124",
     "exception": false,
     "start_time": "2025-08-19T18:10:29.207122",
     "status": "completed"
    },
    "tags": []
   },
   "outputs": [],
   "source": [
    "# EXCLUDE CERTAIN SUBGROUPS\n",
    "# -------------------------\n",
    "\n",
    "mode = universe.get(\"exclude_subgroups\", \"keep-all\") # Defaults to \"keep-all\" if the key is missing."
   ]
  },
  {
   "cell_type": "code",
   "execution_count": 28,
   "id": "9d1e63fd",
   "metadata": {
    "execution": {
     "iopub.execute_input": "2025-08-19T18:10:29.260307Z",
     "iopub.status.busy": "2025-08-19T18:10:29.259071Z",
     "iopub.status.idle": "2025-08-19T18:10:29.273480Z",
     "shell.execute_reply": "2025-08-19T18:10:29.271554Z"
    },
    "papermill": {
     "duration": 0.028854,
     "end_time": "2025-08-19T18:10:29.275477",
     "exception": false,
     "start_time": "2025-08-19T18:10:29.246623",
     "status": "completed"
    },
    "tags": []
   },
   "outputs": [],
   "source": [
    "if mode == \"keep-all\":\n",
    "    keep_mask = pd.Series(True, index=org_train.index)\n",
    "\n",
    "elif mode == \"drop-non-german\":\n",
    "    keep_mask = (org_train[\"maxdeutsch1\"] == 1) & (org_train[\"maxdeutsch.Missing.\"] == 0)\n",
    "\n",
    "else:\n",
    "    raise ValueError(f\"Unsupported mode for exclude_subgroups: {mode}\")"
   ]
  },
  {
   "cell_type": "code",
   "execution_count": 29,
   "id": "d3b65474",
   "metadata": {
    "execution": {
     "iopub.execute_input": "2025-08-19T18:10:29.305931Z",
     "iopub.status.busy": "2025-08-19T18:10:29.304744Z",
     "iopub.status.idle": "2025-08-19T18:10:29.318225Z",
     "shell.execute_reply": "2025-08-19T18:10:29.317017Z"
    },
    "papermill": {
     "duration": 0.028428,
     "end_time": "2025-08-19T18:10:29.319820",
     "exception": false,
     "start_time": "2025-08-19T18:10:29.291392",
     "status": "completed"
    },
    "tags": []
   },
   "outputs": [
    {
     "name": "stdout",
     "output_type": "stream",
     "text": [
      "Dropping 3481 rows (13.92%) where mode='drop-non-german'\n"
     ]
    }
   ],
   "source": [
    "n_drop = (~keep_mask).sum() # Calculates how many rows are set to be dropped\n",
    "if n_drop > 0:\n",
    "    pct = n_drop / len(keep_mask) * 100\n",
    "    print(f\"Dropping {n_drop} rows ({pct:.2f}%) where mode='{mode}'\")"
   ]
  },
  {
   "cell_type": "code",
   "execution_count": 30,
   "id": "f44389b3",
   "metadata": {
    "execution": {
     "iopub.execute_input": "2025-08-19T18:10:29.348391Z",
     "iopub.status.busy": "2025-08-19T18:10:29.347205Z",
     "iopub.status.idle": "2025-08-19T18:10:29.378992Z",
     "shell.execute_reply": "2025-08-19T18:10:29.378290Z"
    },
    "papermill": {
     "duration": 0.04677,
     "end_time": "2025-08-19T18:10:29.381128",
     "exception": false,
     "start_time": "2025-08-19T18:10:29.334358",
     "status": "completed"
    },
    "tags": []
   },
   "outputs": [],
   "source": [
    "X_train = X_train[keep_mask]"
   ]
  },
  {
   "cell_type": "code",
   "execution_count": 31,
   "id": "ceca8c2a",
   "metadata": {
    "execution": {
     "iopub.execute_input": "2025-08-19T18:10:29.423444Z",
     "iopub.status.busy": "2025-08-19T18:10:29.422215Z",
     "iopub.status.idle": "2025-08-19T18:10:29.434541Z",
     "shell.execute_reply": "2025-08-19T18:10:29.432714Z"
    },
    "papermill": {
     "duration": 0.029135,
     "end_time": "2025-08-19T18:10:29.436324",
     "exception": false,
     "start_time": "2025-08-19T18:10:29.407189",
     "status": "completed"
    },
    "tags": []
   },
   "outputs": [],
   "source": [
    "y_train = y_train[keep_mask]"
   ]
  },
  {
   "cell_type": "markdown",
   "id": "04d31e2f",
   "metadata": {
    "papermill": {
     "duration": 0.010739,
     "end_time": "2025-08-19T18:10:29.460632",
     "exception": false,
     "start_time": "2025-08-19T18:10:29.449893",
     "status": "completed"
    },
    "tags": []
   },
   "source": [
    "# Model Training"
   ]
  },
  {
   "cell_type": "code",
   "execution_count": 32,
   "id": "db991733",
   "metadata": {
    "execution": {
     "iopub.execute_input": "2025-08-19T18:10:29.485045Z",
     "iopub.status.busy": "2025-08-19T18:10:29.483793Z",
     "iopub.status.idle": "2025-08-19T18:10:29.590633Z",
     "shell.execute_reply": "2025-08-19T18:10:29.589962Z"
    },
    "papermill": {
     "duration": 0.121887,
     "end_time": "2025-08-19T18:10:29.593252",
     "exception": false,
     "start_time": "2025-08-19T18:10:29.471365",
     "status": "completed"
    },
    "tags": []
   },
   "outputs": [],
   "source": [
    "from sklearn.linear_model import LogisticRegression\n",
    "from sklearn.ensemble import GradientBoostingClassifier, RandomForestClassifier\n",
    "\n",
    "if (universe[\"model\"] == \"logreg\"):\n",
    "    model = LogisticRegression() #penalty=\"none\", solver=\"newton-cg\", max_iter=1)\n",
    "elif (universe[\"model\"] == \"penalized_logreg\"):\n",
    "    model = LogisticRegression(penalty=\"l2\", C=0.1) #, solver=\"newton-cg\", max_iter=1)\n",
    "elif (universe[\"model\"] == \"rf\"):\n",
    "    model = RandomForestClassifier() # n_estimators=100, n_jobs=-1\n",
    "elif (universe[\"model\"] == \"gbm\"):\n",
    "    model = GradientBoostingClassifier()\n",
    "elif (universe[\"model\"] == \"elasticnet\"):\n",
    "    model = LogisticRegression(penalty = 'elasticnet', solver = 'saga', l1_ratio = 0.5) # max_iter=5000\n",
    "else:\n",
    "    raise \"Unsupported universe.model\""
   ]
  },
  {
   "cell_type": "code",
   "execution_count": 33,
   "id": "a4b5cd25",
   "metadata": {
    "execution": {
     "iopub.execute_input": "2025-08-19T18:10:29.635911Z",
     "iopub.status.busy": "2025-08-19T18:10:29.634699Z",
     "iopub.status.idle": "2025-08-19T18:10:29.646760Z",
     "shell.execute_reply": "2025-08-19T18:10:29.644669Z"
    },
    "papermill": {
     "duration": 0.028651,
     "end_time": "2025-08-19T18:10:29.648392",
     "exception": false,
     "start_time": "2025-08-19T18:10:29.619741",
     "status": "completed"
    },
    "tags": []
   },
   "outputs": [],
   "source": [
    "from sklearn.pipeline import Pipeline\n",
    "from sklearn.preprocessing import StandardScaler\n",
    "\n",
    "model = Pipeline([\n",
    "    #(\"continuous_processor\", continuous_processor),\n",
    "    #(\"categorical_preprocessor\", categorical_preprocessor),\n",
    "    (\"scale\", StandardScaler() if universe[\"scale\"] == \"scale\" else None), \n",
    "    (\"model\", model),\n",
    "])"
   ]
  },
  {
   "cell_type": "code",
   "execution_count": 34,
   "id": "283a904d",
   "metadata": {
    "execution": {
     "iopub.execute_input": "2025-08-19T18:10:29.676008Z",
     "iopub.status.busy": "2025-08-19T18:10:29.674792Z",
     "iopub.status.idle": "2025-08-19T18:10:36.604251Z",
     "shell.execute_reply": "2025-08-19T18:10:36.603316Z"
    },
    "papermill": {
     "duration": 6.943473,
     "end_time": "2025-08-19T18:10:36.605590",
     "exception": false,
     "start_time": "2025-08-19T18:10:29.662117",
     "status": "completed"
    },
    "tags": []
   },
   "outputs": [
    {
     "data": {
      "text/html": [
       "<style>#sk-container-id-1 {color: black;background-color: white;}#sk-container-id-1 pre{padding: 0;}#sk-container-id-1 div.sk-toggleable {background-color: white;}#sk-container-id-1 label.sk-toggleable__label {cursor: pointer;display: block;width: 100%;margin-bottom: 0;padding: 0.3em;box-sizing: border-box;text-align: center;}#sk-container-id-1 label.sk-toggleable__label-arrow:before {content: \"▸\";float: left;margin-right: 0.25em;color: #696969;}#sk-container-id-1 label.sk-toggleable__label-arrow:hover:before {color: black;}#sk-container-id-1 div.sk-estimator:hover label.sk-toggleable__label-arrow:before {color: black;}#sk-container-id-1 div.sk-toggleable__content {max-height: 0;max-width: 0;overflow: hidden;text-align: left;background-color: #f0f8ff;}#sk-container-id-1 div.sk-toggleable__content pre {margin: 0.2em;color: black;border-radius: 0.25em;background-color: #f0f8ff;}#sk-container-id-1 input.sk-toggleable__control:checked~div.sk-toggleable__content {max-height: 200px;max-width: 100%;overflow: auto;}#sk-container-id-1 input.sk-toggleable__control:checked~label.sk-toggleable__label-arrow:before {content: \"▾\";}#sk-container-id-1 div.sk-estimator input.sk-toggleable__control:checked~label.sk-toggleable__label {background-color: #d4ebff;}#sk-container-id-1 div.sk-label input.sk-toggleable__control:checked~label.sk-toggleable__label {background-color: #d4ebff;}#sk-container-id-1 input.sk-hidden--visually {border: 0;clip: rect(1px 1px 1px 1px);clip: rect(1px, 1px, 1px, 1px);height: 1px;margin: -1px;overflow: hidden;padding: 0;position: absolute;width: 1px;}#sk-container-id-1 div.sk-estimator {font-family: monospace;background-color: #f0f8ff;border: 1px dotted black;border-radius: 0.25em;box-sizing: border-box;margin-bottom: 0.5em;}#sk-container-id-1 div.sk-estimator:hover {background-color: #d4ebff;}#sk-container-id-1 div.sk-parallel-item::after {content: \"\";width: 100%;border-bottom: 1px solid gray;flex-grow: 1;}#sk-container-id-1 div.sk-label:hover label.sk-toggleable__label {background-color: #d4ebff;}#sk-container-id-1 div.sk-serial::before {content: \"\";position: absolute;border-left: 1px solid gray;box-sizing: border-box;top: 0;bottom: 0;left: 50%;z-index: 0;}#sk-container-id-1 div.sk-serial {display: flex;flex-direction: column;align-items: center;background-color: white;padding-right: 0.2em;padding-left: 0.2em;position: relative;}#sk-container-id-1 div.sk-item {position: relative;z-index: 1;}#sk-container-id-1 div.sk-parallel {display: flex;align-items: stretch;justify-content: center;background-color: white;position: relative;}#sk-container-id-1 div.sk-item::before, #sk-container-id-1 div.sk-parallel-item::before {content: \"\";position: absolute;border-left: 1px solid gray;box-sizing: border-box;top: 0;bottom: 0;left: 50%;z-index: -1;}#sk-container-id-1 div.sk-parallel-item {display: flex;flex-direction: column;z-index: 1;position: relative;background-color: white;}#sk-container-id-1 div.sk-parallel-item:first-child::after {align-self: flex-end;width: 50%;}#sk-container-id-1 div.sk-parallel-item:last-child::after {align-self: flex-start;width: 50%;}#sk-container-id-1 div.sk-parallel-item:only-child::after {width: 0;}#sk-container-id-1 div.sk-dashed-wrapped {border: 1px dashed gray;margin: 0 0.4em 0.5em 0.4em;box-sizing: border-box;padding-bottom: 0.4em;background-color: white;}#sk-container-id-1 div.sk-label label {font-family: monospace;font-weight: bold;display: inline-block;line-height: 1.2em;}#sk-container-id-1 div.sk-label-container {text-align: center;}#sk-container-id-1 div.sk-container {/* jupyter's `normalize.less` sets `[hidden] { display: none; }` but bootstrap.min.css set `[hidden] { display: none !important; }` so we also need the `!important` here to be able to override the default hidden behavior on the sphinx rendered scikit-learn.org. See: https://github.com/scikit-learn/scikit-learn/issues/21755 */display: inline-block !important;position: relative;}#sk-container-id-1 div.sk-text-repr-fallback {display: none;}</style><div id=\"sk-container-id-1\" class=\"sk-top-container\"><div class=\"sk-text-repr-fallback\"><pre>Pipeline(steps=[(&#x27;scale&#x27;, None), (&#x27;model&#x27;, RandomForestClassifier())])</pre><b>In a Jupyter environment, please rerun this cell to show the HTML representation or trust the notebook. <br />On GitHub, the HTML representation is unable to render, please try loading this page with nbviewer.org.</b></div><div class=\"sk-container\" hidden><div class=\"sk-item sk-dashed-wrapped\"><div class=\"sk-label-container\"><div class=\"sk-label sk-toggleable\"><input class=\"sk-toggleable__control sk-hidden--visually\" id=\"sk-estimator-id-1\" type=\"checkbox\" ><label for=\"sk-estimator-id-1\" class=\"sk-toggleable__label sk-toggleable__label-arrow\">Pipeline</label><div class=\"sk-toggleable__content\"><pre>Pipeline(steps=[(&#x27;scale&#x27;, None), (&#x27;model&#x27;, RandomForestClassifier())])</pre></div></div></div><div class=\"sk-serial\"><div class=\"sk-item\"><div class=\"sk-estimator sk-toggleable\"><input class=\"sk-toggleable__control sk-hidden--visually\" id=\"sk-estimator-id-2\" type=\"checkbox\" ><label for=\"sk-estimator-id-2\" class=\"sk-toggleable__label sk-toggleable__label-arrow\">None</label><div class=\"sk-toggleable__content\"><pre>None</pre></div></div></div><div class=\"sk-item\"><div class=\"sk-estimator sk-toggleable\"><input class=\"sk-toggleable__control sk-hidden--visually\" id=\"sk-estimator-id-3\" type=\"checkbox\" ><label for=\"sk-estimator-id-3\" class=\"sk-toggleable__label sk-toggleable__label-arrow\">RandomForestClassifier</label><div class=\"sk-toggleable__content\"><pre>RandomForestClassifier()</pre></div></div></div></div></div></div></div>"
      ],
      "text/plain": [
       "Pipeline(steps=[('scale', None), ('model', RandomForestClassifier())])"
      ]
     },
     "execution_count": 34,
     "metadata": {},
     "output_type": "execute_result"
    }
   ],
   "source": [
    "model.fit(X_train, y_train.values.ravel())"
   ]
  },
  {
   "cell_type": "code",
   "execution_count": 35,
   "id": "6e15e313",
   "metadata": {
    "execution": {
     "iopub.execute_input": "2025-08-19T18:10:36.632799Z",
     "iopub.status.busy": "2025-08-19T18:10:36.632226Z",
     "iopub.status.idle": "2025-08-19T18:10:39.057715Z",
     "shell.execute_reply": "2025-08-19T18:10:39.056764Z"
    },
    "papermill": {
     "duration": 2.439088,
     "end_time": "2025-08-19T18:10:39.058997",
     "exception": false,
     "start_time": "2025-08-19T18:10:36.619909",
     "status": "completed"
    },
    "tags": []
   },
   "outputs": [
    {
     "data": {
      "text/plain": [
       "0.8650986512094527"
      ]
     },
     "execution_count": 35,
     "metadata": {},
     "output_type": "execute_result"
    }
   ],
   "source": [
    "from fairness_multiverse.universe import predict_w_threshold\n",
    "\n",
    "probs_test = model.predict_proba(X_test)\n",
    "\n",
    "'''\n",
    "Below code returns a boolean array (or binary 0/1 array depending on how it’s used) where each element \n",
    "is True if the probability of class 1 is greater than or equal to the threshold, and False otherwise.\n",
    "'''\n",
    "y_pred_default = predict_w_threshold(probs_test, 0.5)\n",
    "\n",
    "from sklearn.metrics import accuracy_score\n",
    "\n",
    "# Naive prediction\n",
    "accuracy_score(y_true = y_true, y_pred = y_pred_default)"
   ]
  },
  {
   "cell_type": "code",
   "execution_count": 36,
   "id": "6f14067c",
   "metadata": {
    "execution": {
     "iopub.execute_input": "2025-08-19T18:10:39.093487Z",
     "iopub.status.busy": "2025-08-19T18:10:39.092516Z",
     "iopub.status.idle": "2025-08-19T18:10:41.448649Z",
     "shell.execute_reply": "2025-08-19T18:10:41.447626Z"
    },
    "papermill": {
     "duration": 2.377127,
     "end_time": "2025-08-19T18:10:41.450433",
     "exception": false,
     "start_time": "2025-08-19T18:10:39.073306",
     "status": "completed"
    },
    "tags": []
   },
   "outputs": [
    {
     "data": {
      "text/plain": [
       "array([0, 0, 0, ..., 0, 0, 0])"
      ]
     },
     "execution_count": 36,
     "metadata": {},
     "output_type": "execute_result"
    }
   ],
   "source": [
    "model.predict(X_test)"
   ]
  },
  {
   "cell_type": "markdown",
   "id": "3759920c",
   "metadata": {
    "papermill": {
     "duration": 0.021871,
     "end_time": "2025-08-19T18:10:41.485633",
     "exception": false,
     "start_time": "2025-08-19T18:10:41.463762",
     "status": "completed"
    },
    "tags": []
   },
   "source": [
    "# Conformal Prediction"
   ]
  },
  {
   "cell_type": "code",
   "execution_count": 37,
   "id": "14b27f59",
   "metadata": {
    "execution": {
     "iopub.execute_input": "2025-08-19T18:10:41.519784Z",
     "iopub.status.busy": "2025-08-19T18:10:41.518462Z",
     "iopub.status.idle": "2025-08-19T18:10:41.530355Z",
     "shell.execute_reply": "2025-08-19T18:10:41.529128Z"
    },
    "papermill": {
     "duration": 0.031534,
     "end_time": "2025-08-19T18:10:41.534983",
     "exception": false,
     "start_time": "2025-08-19T18:10:41.503449",
     "status": "completed"
    },
    "tags": []
   },
   "outputs": [],
   "source": [
    "# Miscoverage level for conformal prediction (10% allowed error rate => 90% target coverage)\n",
    "alpha = 0.1"
   ]
  },
  {
   "cell_type": "code",
   "execution_count": 38,
   "id": "59102472",
   "metadata": {
    "execution": {
     "iopub.execute_input": "2025-08-19T18:10:41.575685Z",
     "iopub.status.busy": "2025-08-19T18:10:41.573824Z",
     "iopub.status.idle": "2025-08-19T18:10:44.011676Z",
     "shell.execute_reply": "2025-08-19T18:10:44.010274Z"
    },
    "papermill": {
     "duration": 2.455952,
     "end_time": "2025-08-19T18:10:44.014830",
     "exception": false,
     "start_time": "2025-08-19T18:10:41.558878",
     "status": "completed"
    },
    "tags": []
   },
   "outputs": [],
   "source": [
    "probs_calib = model.predict_proba(X_calib)"
   ]
  },
  {
   "cell_type": "code",
   "execution_count": 39,
   "id": "a792d4dd",
   "metadata": {
    "execution": {
     "iopub.execute_input": "2025-08-19T18:10:44.059347Z",
     "iopub.status.busy": "2025-08-19T18:10:44.057733Z",
     "iopub.status.idle": "2025-08-19T18:10:44.069590Z",
     "shell.execute_reply": "2025-08-19T18:10:44.068420Z"
    },
    "papermill": {
     "duration": 0.029611,
     "end_time": "2025-08-19T18:10:44.071135",
     "exception": false,
     "start_time": "2025-08-19T18:10:44.041524",
     "status": "completed"
    },
    "tags": []
   },
   "outputs": [],
   "source": [
    "y_calib = y_calib.values.ravel().astype(int)"
   ]
  },
  {
   "cell_type": "code",
   "execution_count": 40,
   "id": "650fd033",
   "metadata": {
    "execution": {
     "iopub.execute_input": "2025-08-19T18:10:44.101329Z",
     "iopub.status.busy": "2025-08-19T18:10:44.100118Z",
     "iopub.status.idle": "2025-08-19T18:10:44.113866Z",
     "shell.execute_reply": "2025-08-19T18:10:44.112386Z"
    },
    "papermill": {
     "duration": 0.028561,
     "end_time": "2025-08-19T18:10:44.115437",
     "exception": false,
     "start_time": "2025-08-19T18:10:44.086876",
     "status": "completed"
    },
    "tags": []
   },
   "outputs": [],
   "source": [
    "from fairness_multiverse.conformal import compute_nc_scores\n",
    "\n",
    "# Compute nonconformity scores on calibration set (1 - probability of true class)\n",
    "nc_scores = compute_nc_scores(probs_calib, y_calib)"
   ]
  },
  {
   "cell_type": "code",
   "execution_count": 41,
   "id": "28ada44c",
   "metadata": {
    "execution": {
     "iopub.execute_input": "2025-08-19T18:10:44.148076Z",
     "iopub.status.busy": "2025-08-19T18:10:44.146819Z",
     "iopub.status.idle": "2025-08-19T18:10:44.158154Z",
     "shell.execute_reply": "2025-08-19T18:10:44.157105Z"
    },
    "papermill": {
     "duration": 0.026653,
     "end_time": "2025-08-19T18:10:44.159590",
     "exception": false,
     "start_time": "2025-08-19T18:10:44.132937",
     "status": "completed"
    },
    "tags": []
   },
   "outputs": [],
   "source": [
    "from fairness_multiverse.conformal import find_threshold\n",
    "\n",
    "# Find conformal threshold q_hat for the given alpha (split conformal method)\n",
    "q_hat = find_threshold(nc_scores, alpha)"
   ]
  },
  {
   "cell_type": "code",
   "execution_count": 42,
   "id": "df56469e",
   "metadata": {
    "execution": {
     "iopub.execute_input": "2025-08-19T18:10:44.187668Z",
     "iopub.status.busy": "2025-08-19T18:10:44.186389Z",
     "iopub.status.idle": "2025-08-19T18:10:44.197136Z",
     "shell.execute_reply": "2025-08-19T18:10:44.196018Z"
    },
    "papermill": {
     "duration": 0.024915,
     "end_time": "2025-08-19T18:10:44.198573",
     "exception": false,
     "start_time": "2025-08-19T18:10:44.173658",
     "status": "completed"
    },
    "tags": []
   },
   "outputs": [
    {
     "data": {
      "text/plain": [
       "0.6599999999999999"
      ]
     },
     "execution_count": 42,
     "metadata": {},
     "output_type": "execute_result"
    }
   ],
   "source": [
    "q_hat"
   ]
  },
  {
   "cell_type": "code",
   "execution_count": 43,
   "id": "aa1f5faa",
   "metadata": {
    "execution": {
     "iopub.execute_input": "2025-08-19T18:10:44.226994Z",
     "iopub.status.busy": "2025-08-19T18:10:44.225944Z",
     "iopub.status.idle": "2025-08-19T18:10:47.009981Z",
     "shell.execute_reply": "2025-08-19T18:10:47.008951Z"
    },
    "papermill": {
     "duration": 2.798717,
     "end_time": "2025-08-19T18:10:47.011710",
     "exception": false,
     "start_time": "2025-08-19T18:10:44.212993",
     "status": "completed"
    },
    "tags": []
   },
   "outputs": [],
   "source": [
    "from fairness_multiverse.conformal import predict_conformal_sets\n",
    "\n",
    "# Generate prediction sets for each test example\n",
    "pred_sets = predict_conformal_sets(model, X_test, q_hat)"
   ]
  },
  {
   "cell_type": "code",
   "execution_count": 44,
   "id": "97f67a6b",
   "metadata": {
    "execution": {
     "iopub.execute_input": "2025-08-19T18:10:47.064597Z",
     "iopub.status.busy": "2025-08-19T18:10:47.063124Z",
     "iopub.status.idle": "2025-08-19T18:10:47.072384Z",
     "shell.execute_reply": "2025-08-19T18:10:47.071051Z"
    },
    "papermill": {
     "duration": 0.046646,
     "end_time": "2025-08-19T18:10:47.074110",
     "exception": false,
     "start_time": "2025-08-19T18:10:47.027464",
     "status": "completed"
    },
    "tags": []
   },
   "outputs": [],
   "source": [
    "y_true = y_true.squeeze()"
   ]
  },
  {
   "cell_type": "code",
   "execution_count": 45,
   "id": "e700e9a7",
   "metadata": {
    "execution": {
     "iopub.execute_input": "2025-08-19T18:10:47.103238Z",
     "iopub.status.busy": "2025-08-19T18:10:47.102003Z",
     "iopub.status.idle": "2025-08-19T18:10:47.604264Z",
     "shell.execute_reply": "2025-08-19T18:10:47.603410Z"
    },
    "papermill": {
     "duration": 0.519491,
     "end_time": "2025-08-19T18:10:47.608238",
     "exception": false,
     "start_time": "2025-08-19T18:10:47.088747",
     "status": "completed"
    },
    "tags": []
   },
   "outputs": [],
   "source": [
    "from fairness_multiverse.conformal import evaluate_sets\n",
    "\n",
    "# Evaluate coverage and average set size on test data\n",
    "metrics = evaluate_sets(pred_sets, y_true)"
   ]
  },
  {
   "cell_type": "markdown",
   "id": "efbacec0",
   "metadata": {
    "papermill": {
     "duration": 0.011788,
     "end_time": "2025-08-19T18:10:47.634722",
     "exception": false,
     "start_time": "2025-08-19T18:10:47.622934",
     "status": "completed"
    },
    "tags": []
   },
   "source": [
    "# CP Metrics"
   ]
  },
  {
   "cell_type": "code",
   "execution_count": 46,
   "id": "9de55fb1",
   "metadata": {
    "execution": {
     "iopub.execute_input": "2025-08-19T18:10:47.667811Z",
     "iopub.status.busy": "2025-08-19T18:10:47.661393Z",
     "iopub.status.idle": "2025-08-19T18:10:47.678310Z",
     "shell.execute_reply": "2025-08-19T18:10:47.676984Z"
    },
    "papermill": {
     "duration": 0.033471,
     "end_time": "2025-08-19T18:10:47.680406",
     "exception": false,
     "start_time": "2025-08-19T18:10:47.646935",
     "status": "completed"
    },
    "tags": []
   },
   "outputs": [
    {
     "data": {
      "text/plain": [
       "{'coverage': 0.912183703043139, 'avg_size': 1.1402742169211906}"
      ]
     },
     "execution_count": 46,
     "metadata": {},
     "output_type": "execute_result"
    }
   ],
   "source": [
    "metrics"
   ]
  },
  {
   "cell_type": "code",
   "execution_count": 47,
   "id": "64c340a1",
   "metadata": {
    "execution": {
     "iopub.execute_input": "2025-08-19T18:10:47.713938Z",
     "iopub.status.busy": "2025-08-19T18:10:47.712183Z",
     "iopub.status.idle": "2025-08-19T18:10:47.735298Z",
     "shell.execute_reply": "2025-08-19T18:10:47.733999Z"
    },
    "papermill": {
     "duration": 0.039813,
     "end_time": "2025-08-19T18:10:47.737184",
     "exception": false,
     "start_time": "2025-08-19T18:10:47.697371",
     "status": "completed"
    },
    "tags": []
   },
   "outputs": [],
   "source": [
    "example_universe = universe.copy()\n",
    "universe_training_year = example_universe.get(\"training_year\")\n",
    "universe_training_size = example_universe.get(\"training_size\")\n",
    "universe_scale = example_universe.get(\"scale\")\n",
    "universe_model = example_universe.get(\"model\")\n",
    "universe_exclude_features = example_universe.get(\"exclude_features\")\n",
    "universe_exclude_subgroups = example_universe.get(\"exclude_subgroups\")"
   ]
  },
  {
   "cell_type": "code",
   "execution_count": 48,
   "id": "dbb53cb4",
   "metadata": {
    "execution": {
     "iopub.execute_input": "2025-08-19T18:10:47.772098Z",
     "iopub.status.busy": "2025-08-19T18:10:47.770989Z",
     "iopub.status.idle": "2025-08-19T18:10:47.778013Z",
     "shell.execute_reply": "2025-08-19T18:10:47.776685Z"
    },
    "papermill": {
     "duration": 0.021655,
     "end_time": "2025-08-19T18:10:47.779559",
     "exception": false,
     "start_time": "2025-08-19T18:10:47.757904",
     "status": "completed"
    },
    "tags": []
   },
   "outputs": [],
   "source": [
    "cp_metrics_dict = {\n",
    "    \"universe_id\": [universe_id],\n",
    "    \"universe_training_year\": [universe_training_year],\n",
    "    \"universe_training_size\": [universe_training_size],\n",
    "    \"universe_scale\": [universe_scale],\n",
    "    \"universe_model\": [universe_model],\n",
    "    \"universe_exclude_features\": [universe_exclude_features],\n",
    "    \"universe_exclude_subgroups\": [universe_exclude_subgroups],\n",
    "    \"q_hat\": [q_hat],\n",
    "    \"coverage\": [metrics[\"coverage\"]],\n",
    "    \"avg_size\": [metrics[\"avg_size\"]],\n",
    "}"
   ]
  },
  {
   "cell_type": "code",
   "execution_count": 49,
   "id": "0d70d4b2",
   "metadata": {
    "execution": {
     "iopub.execute_input": "2025-08-19T18:10:47.806732Z",
     "iopub.status.busy": "2025-08-19T18:10:47.805610Z",
     "iopub.status.idle": "2025-08-19T18:10:47.816390Z",
     "shell.execute_reply": "2025-08-19T18:10:47.815035Z"
    },
    "papermill": {
     "duration": 0.025695,
     "end_time": "2025-08-19T18:10:47.818027",
     "exception": false,
     "start_time": "2025-08-19T18:10:47.792332",
     "status": "completed"
    },
    "tags": []
   },
   "outputs": [],
   "source": [
    "cp_metrics_df = pd.DataFrame(cp_metrics_dict)"
   ]
  },
  {
   "cell_type": "code",
   "execution_count": 50,
   "id": "b494403c",
   "metadata": {
    "execution": {
     "iopub.execute_input": "2025-08-19T18:10:47.847310Z",
     "iopub.status.busy": "2025-08-19T18:10:47.845999Z",
     "iopub.status.idle": "2025-08-19T18:10:47.870990Z",
     "shell.execute_reply": "2025-08-19T18:10:47.868022Z"
    },
    "papermill": {
     "duration": 0.040222,
     "end_time": "2025-08-19T18:10:47.873023",
     "exception": false,
     "start_time": "2025-08-19T18:10:47.832801",
     "status": "completed"
    },
    "tags": []
   },
   "outputs": [
    {
     "data": {
      "text/html": [
       "<div>\n",
       "<style scoped>\n",
       "    .dataframe tbody tr th:only-of-type {\n",
       "        vertical-align: middle;\n",
       "    }\n",
       "\n",
       "    .dataframe tbody tr th {\n",
       "        vertical-align: top;\n",
       "    }\n",
       "\n",
       "    .dataframe thead th {\n",
       "        text-align: right;\n",
       "    }\n",
       "</style>\n",
       "<table border=\"1\" class=\"dataframe\">\n",
       "  <thead>\n",
       "    <tr style=\"text-align: right;\">\n",
       "      <th></th>\n",
       "      <th>universe_id</th>\n",
       "      <th>universe_training_year</th>\n",
       "      <th>universe_training_size</th>\n",
       "      <th>universe_scale</th>\n",
       "      <th>universe_model</th>\n",
       "      <th>universe_exclude_features</th>\n",
       "      <th>universe_exclude_subgroups</th>\n",
       "      <th>q_hat</th>\n",
       "      <th>coverage</th>\n",
       "      <th>avg_size</th>\n",
       "    </tr>\n",
       "  </thead>\n",
       "  <tbody>\n",
       "    <tr>\n",
       "      <th>0</th>\n",
       "      <td>1b4cff13c56c03e6773865fed27eca93</td>\n",
       "      <td>2012_14</td>\n",
       "      <td>25k</td>\n",
       "      <td>do-not-scale</td>\n",
       "      <td>rf</td>\n",
       "      <td>age</td>\n",
       "      <td>drop-non-german</td>\n",
       "      <td>0.66</td>\n",
       "      <td>0.912184</td>\n",
       "      <td>1.140274</td>\n",
       "    </tr>\n",
       "  </tbody>\n",
       "</table>\n",
       "</div>"
      ],
      "text/plain": [
       "                        universe_id universe_training_year  \\\n",
       "0  1b4cff13c56c03e6773865fed27eca93                2012_14   \n",
       "\n",
       "  universe_training_size universe_scale universe_model  \\\n",
       "0                    25k   do-not-scale             rf   \n",
       "\n",
       "  universe_exclude_features universe_exclude_subgroups  q_hat  coverage  \\\n",
       "0                       age            drop-non-german   0.66  0.912184   \n",
       "\n",
       "   avg_size  \n",
       "0  1.140274  "
      ]
     },
     "execution_count": 50,
     "metadata": {},
     "output_type": "execute_result"
    }
   ],
   "source": [
    "cp_metrics_df"
   ]
  },
  {
   "cell_type": "markdown",
   "id": "ed608b0b",
   "metadata": {
    "papermill": {
     "duration": 0.013941,
     "end_time": "2025-08-19T18:10:47.915062",
     "exception": false,
     "start_time": "2025-08-19T18:10:47.901121",
     "status": "completed"
    },
    "tags": []
   },
   "source": [
    "Conditional coverage & looking at subgroups"
   ]
  },
  {
   "cell_type": "code",
   "execution_count": 51,
   "id": "8968c366",
   "metadata": {
    "execution": {
     "iopub.execute_input": "2025-08-19T18:10:47.946147Z",
     "iopub.status.busy": "2025-08-19T18:10:47.944440Z",
     "iopub.status.idle": "2025-08-19T18:10:48.208758Z",
     "shell.execute_reply": "2025-08-19T18:10:48.207516Z"
    },
    "papermill": {
     "duration": 0.281128,
     "end_time": "2025-08-19T18:10:48.210729",
     "exception": false,
     "start_time": "2025-08-19T18:10:47.929601",
     "status": "completed"
    },
    "tags": []
   },
   "outputs": [],
   "source": [
    "from fairness_multiverse.conformal import build_cp_groups\n",
    "\n",
    "cp_groups_df = build_cp_groups(pred_sets, y_true, X_test.index, org_test)"
   ]
  },
  {
   "cell_type": "code",
   "execution_count": 52,
   "id": "292ddabf",
   "metadata": {
    "execution": {
     "iopub.execute_input": "2025-08-19T18:10:48.259468Z",
     "iopub.status.busy": "2025-08-19T18:10:48.258290Z",
     "iopub.status.idle": "2025-08-19T18:10:49.134141Z",
     "shell.execute_reply": "2025-08-19T18:10:49.132751Z"
    },
    "papermill": {
     "duration": 0.906179,
     "end_time": "2025-08-19T18:10:49.135781",
     "exception": false,
     "start_time": "2025-08-19T18:10:48.229602",
     "status": "completed"
    },
    "tags": []
   },
   "outputs": [],
   "source": [
    "# Define covered = 1 if true_label is in the predicted set\n",
    "cp_groups_df['covered'] = cp_groups_df.apply(\n",
    "    lambda r: int(r['true_label'] in r['pred_set']),\n",
    "    axis=1\n",
    ")"
   ]
  },
  {
   "cell_type": "code",
   "execution_count": 53,
   "id": "3a261692",
   "metadata": {
    "execution": {
     "iopub.execute_input": "2025-08-19T18:10:49.189490Z",
     "iopub.status.busy": "2025-08-19T18:10:49.187864Z",
     "iopub.status.idle": "2025-08-19T18:10:49.212623Z",
     "shell.execute_reply": "2025-08-19T18:10:49.211480Z"
    },
    "papermill": {
     "duration": 0.05798,
     "end_time": "2025-08-19T18:10:49.215016",
     "exception": false,
     "start_time": "2025-08-19T18:10:49.157036",
     "status": "completed"
    },
    "tags": []
   },
   "outputs": [],
   "source": [
    "subgroups = ['frau1','nongerman','nongerman_male','nongerman_female']\n",
    "\n",
    "# Conditional coverage for subgroup==1\n",
    "cond_coverage = {\n",
    "    g: cp_groups_df.loc[cp_groups_df[g]==1, 'covered'].mean()\n",
    "    for g in subgroups\n",
    "}"
   ]
  },
  {
   "cell_type": "code",
   "execution_count": 54,
   "id": "894fd600",
   "metadata": {
    "execution": {
     "iopub.execute_input": "2025-08-19T18:10:49.256744Z",
     "iopub.status.busy": "2025-08-19T18:10:49.255598Z",
     "iopub.status.idle": "2025-08-19T18:10:49.266568Z",
     "shell.execute_reply": "2025-08-19T18:10:49.265281Z"
    },
    "papermill": {
     "duration": 0.027528,
     "end_time": "2025-08-19T18:10:49.268357",
     "exception": false,
     "start_time": "2025-08-19T18:10:49.240829",
     "status": "completed"
    },
    "tags": []
   },
   "outputs": [
    {
     "data": {
      "text/plain": [
       "{'frau1': 0.914462865615312,\n",
       " 'nongerman': 0.8959748498287767,\n",
       " 'nongerman_male': 0.9037197153922363,\n",
       " 'nongerman_female': 0.8831594634873323}"
      ]
     },
     "execution_count": 54,
     "metadata": {},
     "output_type": "execute_result"
    }
   ],
   "source": [
    "cond_coverage"
   ]
  },
  {
   "cell_type": "code",
   "execution_count": 55,
   "id": "942895c7",
   "metadata": {
    "execution": {
     "iopub.execute_input": "2025-08-19T18:10:49.297175Z",
     "iopub.status.busy": "2025-08-19T18:10:49.296070Z",
     "iopub.status.idle": "2025-08-19T18:10:49.307221Z",
     "shell.execute_reply": "2025-08-19T18:10:49.305946Z"
    },
    "papermill": {
     "duration": 0.026672,
     "end_time": "2025-08-19T18:10:49.309267",
     "exception": false,
     "start_time": "2025-08-19T18:10:49.282595",
     "status": "completed"
    },
    "tags": []
   },
   "outputs": [],
   "source": [
    "for subgroup, cov in cond_coverage.items():\n",
    "    cp_metrics_df[f\"cov_{subgroup}\"] = cov"
   ]
  },
  {
   "cell_type": "code",
   "execution_count": 56,
   "id": "3970120f",
   "metadata": {
    "execution": {
     "iopub.execute_input": "2025-08-19T18:10:49.358322Z",
     "iopub.status.busy": "2025-08-19T18:10:49.357845Z",
     "iopub.status.idle": "2025-08-19T18:10:49.374059Z",
     "shell.execute_reply": "2025-08-19T18:10:49.373351Z"
    },
    "papermill": {
     "duration": 0.041621,
     "end_time": "2025-08-19T18:10:49.375448",
     "exception": false,
     "start_time": "2025-08-19T18:10:49.333827",
     "status": "completed"
    },
    "tags": []
   },
   "outputs": [
    {
     "data": {
      "text/html": [
       "<div>\n",
       "<style scoped>\n",
       "    .dataframe tbody tr th:only-of-type {\n",
       "        vertical-align: middle;\n",
       "    }\n",
       "\n",
       "    .dataframe tbody tr th {\n",
       "        vertical-align: top;\n",
       "    }\n",
       "\n",
       "    .dataframe thead th {\n",
       "        text-align: right;\n",
       "    }\n",
       "</style>\n",
       "<table border=\"1\" class=\"dataframe\">\n",
       "  <thead>\n",
       "    <tr style=\"text-align: right;\">\n",
       "      <th></th>\n",
       "      <th>universe_id</th>\n",
       "      <th>universe_training_year</th>\n",
       "      <th>universe_training_size</th>\n",
       "      <th>universe_scale</th>\n",
       "      <th>universe_model</th>\n",
       "      <th>universe_exclude_features</th>\n",
       "      <th>universe_exclude_subgroups</th>\n",
       "      <th>q_hat</th>\n",
       "      <th>coverage</th>\n",
       "      <th>avg_size</th>\n",
       "      <th>cov_frau1</th>\n",
       "      <th>cov_nongerman</th>\n",
       "      <th>cov_nongerman_male</th>\n",
       "      <th>cov_nongerman_female</th>\n",
       "    </tr>\n",
       "  </thead>\n",
       "  <tbody>\n",
       "    <tr>\n",
       "      <th>0</th>\n",
       "      <td>1b4cff13c56c03e6773865fed27eca93</td>\n",
       "      <td>2012_14</td>\n",
       "      <td>25k</td>\n",
       "      <td>do-not-scale</td>\n",
       "      <td>rf</td>\n",
       "      <td>age</td>\n",
       "      <td>drop-non-german</td>\n",
       "      <td>0.66</td>\n",
       "      <td>0.912184</td>\n",
       "      <td>1.140274</td>\n",
       "      <td>0.914463</td>\n",
       "      <td>0.895975</td>\n",
       "      <td>0.90372</td>\n",
       "      <td>0.883159</td>\n",
       "    </tr>\n",
       "  </tbody>\n",
       "</table>\n",
       "</div>"
      ],
      "text/plain": [
       "                        universe_id universe_training_year  \\\n",
       "0  1b4cff13c56c03e6773865fed27eca93                2012_14   \n",
       "\n",
       "  universe_training_size universe_scale universe_model  \\\n",
       "0                    25k   do-not-scale             rf   \n",
       "\n",
       "  universe_exclude_features universe_exclude_subgroups  q_hat  coverage  \\\n",
       "0                       age            drop-non-german   0.66  0.912184   \n",
       "\n",
       "   avg_size  cov_frau1  cov_nongerman  cov_nongerman_male  \\\n",
       "0  1.140274   0.914463       0.895975             0.90372   \n",
       "\n",
       "   cov_nongerman_female  \n",
       "0              0.883159  "
      ]
     },
     "execution_count": 56,
     "metadata": {},
     "output_type": "execute_result"
    }
   ],
   "source": [
    "cp_metrics_df"
   ]
  },
  {
   "cell_type": "markdown",
   "id": "3fc519cc",
   "metadata": {
    "papermill": {
     "duration": 0.012096,
     "end_time": "2025-08-19T18:10:49.402003",
     "exception": false,
     "start_time": "2025-08-19T18:10:49.389907",
     "status": "completed"
    },
    "tags": []
   },
   "source": [
    "# (Fairness) Metrics"
   ]
  },
  {
   "cell_type": "code",
   "execution_count": 57,
   "id": "a2e5e155",
   "metadata": {
    "execution": {
     "iopub.execute_input": "2025-08-19T18:10:49.429476Z",
     "iopub.status.busy": "2025-08-19T18:10:49.427987Z",
     "iopub.status.idle": "2025-08-19T18:10:49.455325Z",
     "shell.execute_reply": "2025-08-19T18:10:49.454240Z"
    },
    "papermill": {
     "duration": 0.043118,
     "end_time": "2025-08-19T18:10:49.457201",
     "exception": false,
     "start_time": "2025-08-19T18:10:49.414083",
     "status": "completed"
    },
    "tags": []
   },
   "outputs": [],
   "source": [
    "colname_to_bin = \"maxdeutsch1\"\n",
    "majority_value = org_train[colname_to_bin].mode()[0]\n",
    "\n",
    "org_test[\"majmin\"] = np.where(org_test[colname_to_bin] == majority_value, \"majority\", \"minority\")"
   ]
  },
  {
   "cell_type": "code",
   "execution_count": 58,
   "id": "17e3e4d5",
   "metadata": {
    "execution": {
     "iopub.execute_input": "2025-08-19T18:10:49.507803Z",
     "iopub.status.busy": "2025-08-19T18:10:49.505961Z",
     "iopub.status.idle": "2025-08-19T18:10:51.338728Z",
     "shell.execute_reply": "2025-08-19T18:10:51.336278Z"
    },
    "papermill": {
     "duration": 1.866296,
     "end_time": "2025-08-19T18:10:51.341762",
     "exception": false,
     "start_time": "2025-08-19T18:10:49.475466",
     "status": "completed"
    },
    "tags": []
   },
   "outputs": [],
   "source": [
    "example_universe = universe.copy()\n",
    "example_universe[\"cutoff\"] = example_universe[\"cutoff\"][0]\n",
    "example_universe[\"eval_fairness_grouping\"] = example_universe[\"eval_fairness_grouping\"][0]\n",
    "fairness_dict, metric_frame = universe_analysis.compute_metrics(\n",
    "    example_universe,\n",
    "    y_pred_prob=probs_test,\n",
    "    y_test=y_true,\n",
    "    org_test=org_test,\n",
    ")"
   ]
  },
  {
   "cell_type": "markdown",
   "id": "1fb7a0e9",
   "metadata": {
    "papermill": {
     "duration": 0.012592,
     "end_time": "2025-08-19T18:10:51.367580",
     "exception": false,
     "start_time": "2025-08-19T18:10:51.354988",
     "status": "completed"
    },
    "tags": []
   },
   "source": [
    "# Overall"
   ]
  },
  {
   "cell_type": "markdown",
   "id": "be1784b1",
   "metadata": {
    "papermill": {
     "duration": 0.012371,
     "end_time": "2025-08-19T18:10:51.392450",
     "exception": false,
     "start_time": "2025-08-19T18:10:51.380079",
     "status": "completed"
    },
    "tags": []
   },
   "source": [
    "Main fairness target: Equalized Odds. Seems to be a better fit than equal opportunity, since we're not only interested in Y = 1. Seems to be a better fit than demographic parity, since we also care about accuracy, not just equal distribution of preds.\n",
    "\n",
    "Pick column for computation of fairness metrics\n",
    "\n",
    "Performance\n",
    "Overall performance measures, most interesting in relation to the measures split by group below"
   ]
  },
  {
   "cell_type": "code",
   "execution_count": 59,
   "id": "b7672bee",
   "metadata": {
    "execution": {
     "iopub.execute_input": "2025-08-19T18:10:51.419421Z",
     "iopub.status.busy": "2025-08-19T18:10:51.419019Z",
     "iopub.status.idle": "2025-08-19T18:10:51.431327Z",
     "shell.execute_reply": "2025-08-19T18:10:51.430087Z"
    },
    "papermill": {
     "duration": 0.030995,
     "end_time": "2025-08-19T18:10:51.435898",
     "exception": false,
     "start_time": "2025-08-19T18:10:51.404903",
     "status": "completed"
    },
    "tags": []
   },
   "outputs": [
    {
     "data": {
      "text/plain": [
       "accuracy                   0.195307\n",
       "balanced accuracy          0.529700\n",
       "f1                         0.237974\n",
       "precision                  0.135440\n",
       "false positive rate        0.920092\n",
       "false negative rate        0.020507\n",
       "selection rate             0.927712\n",
       "count                  89710.000000\n",
       "dtype: float64"
      ]
     },
     "execution_count": 59,
     "metadata": {},
     "output_type": "execute_result"
    }
   ],
   "source": [
    "metric_frame.overall"
   ]
  },
  {
   "cell_type": "markdown",
   "id": "d93333c9",
   "metadata": {
    "papermill": {
     "duration": 0.012671,
     "end_time": "2025-08-19T18:10:51.461931",
     "exception": false,
     "start_time": "2025-08-19T18:10:51.449260",
     "status": "completed"
    },
    "tags": []
   },
   "source": [
    "By Group"
   ]
  },
  {
   "cell_type": "code",
   "execution_count": 60,
   "id": "52256966",
   "metadata": {
    "execution": {
     "iopub.execute_input": "2025-08-19T18:10:51.489316Z",
     "iopub.status.busy": "2025-08-19T18:10:51.488978Z",
     "iopub.status.idle": "2025-08-19T18:10:51.506698Z",
     "shell.execute_reply": "2025-08-19T18:10:51.505050Z"
    },
    "papermill": {
     "duration": 0.033839,
     "end_time": "2025-08-19T18:10:51.508365",
     "exception": false,
     "start_time": "2025-08-19T18:10:51.474526",
     "status": "completed"
    },
    "tags": []
   },
   "outputs": [
    {
     "data": {
      "text/html": [
       "<div>\n",
       "<style scoped>\n",
       "    .dataframe tbody tr th:only-of-type {\n",
       "        vertical-align: middle;\n",
       "    }\n",
       "\n",
       "    .dataframe tbody tr th {\n",
       "        vertical-align: top;\n",
       "    }\n",
       "\n",
       "    .dataframe thead th {\n",
       "        text-align: right;\n",
       "    }\n",
       "</style>\n",
       "<table border=\"1\" class=\"dataframe\">\n",
       "  <thead>\n",
       "    <tr style=\"text-align: right;\">\n",
       "      <th></th>\n",
       "      <th>accuracy</th>\n",
       "      <th>balanced accuracy</th>\n",
       "      <th>f1</th>\n",
       "      <th>precision</th>\n",
       "      <th>false positive rate</th>\n",
       "      <th>false negative rate</th>\n",
       "      <th>selection rate</th>\n",
       "      <th>count</th>\n",
       "    </tr>\n",
       "    <tr>\n",
       "      <th>majmin</th>\n",
       "      <th></th>\n",
       "      <th></th>\n",
       "      <th></th>\n",
       "      <th></th>\n",
       "      <th></th>\n",
       "      <th></th>\n",
       "      <th></th>\n",
       "      <th></th>\n",
       "    </tr>\n",
       "  </thead>\n",
       "  <tbody>\n",
       "    <tr>\n",
       "      <th>majority</th>\n",
       "      <td>0.190458</td>\n",
       "      <td>0.529890</td>\n",
       "      <td>0.244482</td>\n",
       "      <td>0.139436</td>\n",
       "      <td>0.931468</td>\n",
       "      <td>0.008753</td>\n",
       "      <td>0.939367</td>\n",
       "      <td>69170.0</td>\n",
       "    </tr>\n",
       "    <tr>\n",
       "      <th>minority</th>\n",
       "      <td>0.211636</td>\n",
       "      <td>0.525805</td>\n",
       "      <td>0.214580</td>\n",
       "      <td>0.121212</td>\n",
       "      <td>0.882512</td>\n",
       "      <td>0.065878</td>\n",
       "      <td>0.888462</td>\n",
       "      <td>20540.0</td>\n",
       "    </tr>\n",
       "  </tbody>\n",
       "</table>\n",
       "</div>"
      ],
      "text/plain": [
       "          accuracy  balanced accuracy        f1  precision  \\\n",
       "majmin                                                       \n",
       "majority  0.190458           0.529890  0.244482   0.139436   \n",
       "minority  0.211636           0.525805  0.214580   0.121212   \n",
       "\n",
       "          false positive rate  false negative rate  selection rate    count  \n",
       "majmin                                                                       \n",
       "majority             0.931468             0.008753        0.939367  69170.0  \n",
       "minority             0.882512             0.065878        0.888462  20540.0  "
      ]
     },
     "execution_count": 60,
     "metadata": {},
     "output_type": "execute_result"
    }
   ],
   "source": [
    "metric_frame.by_group"
   ]
  },
  {
   "cell_type": "code",
   "execution_count": 61,
   "id": "6e6c20ae",
   "metadata": {
    "execution": {
     "iopub.execute_input": "2025-08-19T18:10:51.540239Z",
     "iopub.status.busy": "2025-08-19T18:10:51.539110Z",
     "iopub.status.idle": "2025-08-19T18:10:53.463487Z",
     "shell.execute_reply": "2025-08-19T18:10:53.462283Z"
    },
    "papermill": {
     "duration": 1.943463,
     "end_time": "2025-08-19T18:10:53.467827",
     "exception": false,
     "start_time": "2025-08-19T18:10:51.524364",
     "status": "completed"
    },
    "tags": []
   },
   "outputs": [
    {
     "data": {
      "text/plain": [
       "array([[<Axes: title={'center': 'accuracy'}, xlabel='majmin'>,\n",
       "        <Axes: title={'center': 'balanced accuracy'}, xlabel='majmin'>,\n",
       "        <Axes: title={'center': 'f1'}, xlabel='majmin'>],\n",
       "       [<Axes: title={'center': 'precision'}, xlabel='majmin'>,\n",
       "        <Axes: title={'center': 'false positive rate'}, xlabel='majmin'>,\n",
       "        <Axes: title={'center': 'false negative rate'}, xlabel='majmin'>],\n",
       "       [<Axes: title={'center': 'selection rate'}, xlabel='majmin'>,\n",
       "        <Axes: title={'center': 'count'}, xlabel='majmin'>,\n",
       "        <Axes: xlabel='majmin'>]], dtype=object)"
      ]
     },
     "execution_count": 61,
     "metadata": {},
     "output_type": "execute_result"
    },
    {
     "data": {
      "image/png": "[encoded data removed]",
      "text/plain": [
       "<Figure size 1200x800 with 9 Axes>"
      ]
     },
     "metadata": {},
     "output_type": "display_data"
    }
   ],
   "source": [
    "# In a graphic\n",
    "metric_frame.by_group.plot.bar(\n",
    "    subplots=True,\n",
    "    layout=[3, 3],\n",
    "    legend=False,\n",
    "    figsize=[12, 8],\n",
    "    title=\"Show all metrics\",\n",
    ")"
   ]
  },
  {
   "cell_type": "markdown",
   "id": "b2e433ae",
   "metadata": {
    "papermill": {
     "duration": 0.014656,
     "end_time": "2025-08-19T18:10:53.510319",
     "exception": false,
     "start_time": "2025-08-19T18:10:53.495663",
     "status": "completed"
    },
    "tags": []
   },
   "source": [
    "# Final Output"
   ]
  },
  {
   "cell_type": "code",
   "execution_count": 62,
   "id": "3871301e",
   "metadata": {
    "execution": {
     "iopub.execute_input": "2025-08-19T18:10:53.542640Z",
     "iopub.status.busy": "2025-08-19T18:10:53.540420Z",
     "iopub.status.idle": "2025-08-19T18:10:53.559371Z",
     "shell.execute_reply": "2025-08-19T18:10:53.558284Z"
    },
    "papermill": {
     "duration": 0.036578,
     "end_time": "2025-08-19T18:10:53.560620",
     "exception": false,
     "start_time": "2025-08-19T18:10:53.524042",
     "status": "completed"
    },
    "tags": []
   },
   "outputs": [
    {
     "data": {
      "text/plain": [
       "4"
      ]
     },
     "execution_count": 62,
     "metadata": {},
     "output_type": "execute_result"
    }
   ],
   "source": [
    "sub_universes = universe_analysis.generate_sub_universes()\n",
    "len(sub_universes)"
   ]
  },
  {
   "cell_type": "code",
   "execution_count": 63,
   "id": "d9cfdaca",
   "metadata": {
    "execution": {
     "iopub.execute_input": "2025-08-19T18:10:53.623265Z",
     "iopub.status.busy": "2025-08-19T18:10:53.622882Z",
     "iopub.status.idle": "2025-08-19T18:10:53.628892Z",
     "shell.execute_reply": "2025-08-19T18:10:53.628045Z"
    },
    "papermill": {
     "duration": 0.049617,
     "end_time": "2025-08-19T18:10:53.630766",
     "exception": false,
     "start_time": "2025-08-19T18:10:53.581149",
     "status": "completed"
    },
    "tags": []
   },
   "outputs": [],
   "source": [
    "def filter_sub_universe_data(sub_universe, org_test):\n",
    "    # Keep all rows — no filtering\n",
    "    keep_rows_mask = np.ones(org_test.shape[0], dtype=bool)\n",
    "\n",
    "    print(f\"[INFO] Keeping all rows: {keep_rows_mask.sum()} rows retained.\")\n",
    "    return keep_rows_mask"
   ]
  },
  {
   "cell_type": "code",
   "execution_count": 64,
   "id": "2bc31ac1",
   "metadata": {
    "execution": {
     "iopub.execute_input": "2025-08-19T18:10:53.661765Z",
     "iopub.status.busy": "2025-08-19T18:10:53.661355Z",
     "iopub.status.idle": "2025-08-19T18:11:00.459257Z",
     "shell.execute_reply": "2025-08-19T18:11:00.457998Z"
    },
    "papermill": {
     "duration": 6.815677,
     "end_time": "2025-08-19T18:11:00.462209",
     "exception": false,
     "start_time": "2025-08-19T18:10:53.646532",
     "status": "completed"
    },
    "tags": []
   },
   "outputs": [
    {
     "name": "stdout",
     "output_type": "stream",
     "text": [
      "Stopping execution_time clock.\n",
      "[INFO] Keeping all rows: 89710 rows retained.\n"
     ]
    },
    {
     "name": "stdout",
     "output_type": "stream",
     "text": [
      "[INFO] Keeping all rows: 89710 rows retained.\n"
     ]
    },
    {
     "name": "stdout",
     "output_type": "stream",
     "text": [
      "[INFO] Keeping all rows: 89710 rows retained.\n"
     ]
    },
    {
     "name": "stdout",
     "output_type": "stream",
     "text": [
      "[INFO] Keeping all rows: 89710 rows retained.\n"
     ]
    },
    {
     "data": {
      "text/html": [
       "<div>\n",
       "<style scoped>\n",
       "    .dataframe tbody tr th:only-of-type {\n",
       "        vertical-align: middle;\n",
       "    }\n",
       "\n",
       "    .dataframe tbody tr th {\n",
       "        vertical-align: top;\n",
       "    }\n",
       "\n",
       "    .dataframe thead th {\n",
       "        text-align: right;\n",
       "    }\n",
       "</style>\n",
       "<table border=\"1\" class=\"dataframe\">\n",
       "  <thead>\n",
       "    <tr style=\"text-align: right;\">\n",
       "      <th></th>\n",
       "      <th>run_no</th>\n",
       "      <th>universe_id</th>\n",
       "      <th>universe_settings</th>\n",
       "      <th>execution_time</th>\n",
       "      <th>test_size_n</th>\n",
       "      <th>test_size_frac</th>\n",
       "      <th>fair_main_equalized_odds_difference</th>\n",
       "      <th>fair_main_equalized_odds_ratio</th>\n",
       "      <th>fair_main_demographic_parity_difference</th>\n",
       "      <th>fair_main_demographic_parity_ratio</th>\n",
       "      <th>...</th>\n",
       "      <th>perf_grp_precision_0</th>\n",
       "      <th>perf_grp_precision_1</th>\n",
       "      <th>perf_grp_false positive rate_0</th>\n",
       "      <th>perf_grp_false positive rate_1</th>\n",
       "      <th>perf_grp_false negative rate_0</th>\n",
       "      <th>perf_grp_false negative rate_1</th>\n",
       "      <th>perf_grp_selection rate_0</th>\n",
       "      <th>perf_grp_selection rate_1</th>\n",
       "      <th>perf_grp_count_0</th>\n",
       "      <th>perf_grp_count_1</th>\n",
       "    </tr>\n",
       "  </thead>\n",
       "  <tbody>\n",
       "    <tr>\n",
       "      <th>0</th>\n",
       "      <td>3</td>\n",
       "      <td>1b4cff13c56c03e6773865fed27eca93</td>\n",
       "      <td>{\"cutoff\": \"quantile_0.1\", \"eval_fairness_grou...</td>\n",
       "      <td>37.026024</td>\n",
       "      <td>89710</td>\n",
       "      <td>1.0</td>\n",
       "      <td>0.057126</td>\n",
       "      <td>0.942370</td>\n",
       "      <td>0.050905</td>\n",
       "      <td>0.945809</td>\n",
       "      <td>...</td>\n",
       "      <td>NaN</td>\n",
       "      <td>NaN</td>\n",
       "      <td>NaN</td>\n",
       "      <td>NaN</td>\n",
       "      <td>NaN</td>\n",
       "      <td>NaN</td>\n",
       "      <td>NaN</td>\n",
       "      <td>NaN</td>\n",
       "      <td>NaN</td>\n",
       "      <td>NaN</td>\n",
       "    </tr>\n",
       "    <tr>\n",
       "      <th>0</th>\n",
       "      <td>3</td>\n",
       "      <td>1b4cff13c56c03e6773865fed27eca93</td>\n",
       "      <td>{\"cutoff\": \"quantile_0.1\", \"eval_fairness_grou...</td>\n",
       "      <td>37.026024</td>\n",
       "      <td>89710</td>\n",
       "      <td>1.0</td>\n",
       "      <td>0.057126</td>\n",
       "      <td>0.942370</td>\n",
       "      <td>0.050905</td>\n",
       "      <td>0.945809</td>\n",
       "      <td>...</td>\n",
       "      <td>0.121212</td>\n",
       "      <td>0.139436</td>\n",
       "      <td>0.882512</td>\n",
       "      <td>0.931468</td>\n",
       "      <td>0.065878</td>\n",
       "      <td>0.008753</td>\n",
       "      <td>0.888462</td>\n",
       "      <td>0.939367</td>\n",
       "      <td>20540.0</td>\n",
       "      <td>69170.0</td>\n",
       "    </tr>\n",
       "    <tr>\n",
       "      <th>0</th>\n",
       "      <td>3</td>\n",
       "      <td>1b4cff13c56c03e6773865fed27eca93</td>\n",
       "      <td>{\"cutoff\": \"quantile_0.25\", \"eval_fairness_gro...</td>\n",
       "      <td>37.026024</td>\n",
       "      <td>89710</td>\n",
       "      <td>1.0</td>\n",
       "      <td>0.114097</td>\n",
       "      <td>0.880777</td>\n",
       "      <td>0.070166</td>\n",
       "      <td>0.911284</td>\n",
       "      <td>...</td>\n",
       "      <td>NaN</td>\n",
       "      <td>NaN</td>\n",
       "      <td>NaN</td>\n",
       "      <td>NaN</td>\n",
       "      <td>NaN</td>\n",
       "      <td>NaN</td>\n",
       "      <td>NaN</td>\n",
       "      <td>NaN</td>\n",
       "      <td>NaN</td>\n",
       "      <td>NaN</td>\n",
       "    </tr>\n",
       "    <tr>\n",
       "      <th>0</th>\n",
       "      <td>3</td>\n",
       "      <td>1b4cff13c56c03e6773865fed27eca93</td>\n",
       "      <td>{\"cutoff\": \"quantile_0.25\", \"eval_fairness_gro...</td>\n",
       "      <td>37.026024</td>\n",
       "      <td>89710</td>\n",
       "      <td>1.0</td>\n",
       "      <td>0.114097</td>\n",
       "      <td>0.880777</td>\n",
       "      <td>0.070166</td>\n",
       "      <td>0.911284</td>\n",
       "      <td>...</td>\n",
       "      <td>0.134828</td>\n",
       "      <td>0.159888</td>\n",
       "      <td>0.704821</td>\n",
       "      <td>0.765617</td>\n",
       "      <td>0.157095</td>\n",
       "      <td>0.042998</td>\n",
       "      <td>0.720740</td>\n",
       "      <td>0.790906</td>\n",
       "      <td>20540.0</td>\n",
       "      <td>69170.0</td>\n",
       "    </tr>\n",
       "  </tbody>\n",
       "</table>\n",
       "<p>4 rows × 50 columns</p>\n",
       "</div>"
      ],
      "text/plain": [
       "  run_no                       universe_id  \\\n",
       "0      3  1b4cff13c56c03e6773865fed27eca93   \n",
       "0      3  1b4cff13c56c03e6773865fed27eca93   \n",
       "0      3  1b4cff13c56c03e6773865fed27eca93   \n",
       "0      3  1b4cff13c56c03e6773865fed27eca93   \n",
       "\n",
       "                                   universe_settings  execution_time  \\\n",
       "0  {\"cutoff\": \"quantile_0.1\", \"eval_fairness_grou...       37.026024   \n",
       "0  {\"cutoff\": \"quantile_0.1\", \"eval_fairness_grou...       37.026024   \n",
       "0  {\"cutoff\": \"quantile_0.25\", \"eval_fairness_gro...       37.026024   \n",
       "0  {\"cutoff\": \"quantile_0.25\", \"eval_fairness_gro...       37.026024   \n",
       "\n",
       "   test_size_n  test_size_frac  fair_main_equalized_odds_difference  \\\n",
       "0        89710             1.0                             0.057126   \n",
       "0        89710             1.0                             0.057126   \n",
       "0        89710             1.0                             0.114097   \n",
       "0        89710             1.0                             0.114097   \n",
       "\n",
       "   fair_main_equalized_odds_ratio  fair_main_demographic_parity_difference  \\\n",
       "0                        0.942370                                 0.050905   \n",
       "0                        0.942370                                 0.050905   \n",
       "0                        0.880777                                 0.070166   \n",
       "0                        0.880777                                 0.070166   \n",
       "\n",
       "   fair_main_demographic_parity_ratio  ...  perf_grp_precision_0  \\\n",
       "0                            0.945809  ...                   NaN   \n",
       "0                            0.945809  ...              0.121212   \n",
       "0                            0.911284  ...                   NaN   \n",
       "0                            0.911284  ...              0.134828   \n",
       "\n",
       "   perf_grp_precision_1  perf_grp_false positive rate_0  \\\n",
       "0                   NaN                             NaN   \n",
       "0              0.139436                        0.882512   \n",
       "0                   NaN                             NaN   \n",
       "0              0.159888                        0.704821   \n",
       "\n",
       "   perf_grp_false positive rate_1  perf_grp_false negative rate_0  \\\n",
       "0                             NaN                             NaN   \n",
       "0                        0.931468                        0.065878   \n",
       "0                             NaN                             NaN   \n",
       "0                        0.765617                        0.157095   \n",
       "\n",
       "   perf_grp_false negative rate_1  perf_grp_selection rate_0  \\\n",
       "0                             NaN                        NaN   \n",
       "0                        0.008753                   0.888462   \n",
       "0                             NaN                        NaN   \n",
       "0                        0.042998                   0.720740   \n",
       "\n",
       "   perf_grp_selection rate_1  perf_grp_count_0  perf_grp_count_1  \n",
       "0                        NaN               NaN               NaN  \n",
       "0                   0.939367           20540.0           69170.0  \n",
       "0                        NaN               NaN               NaN  \n",
       "0                   0.790906           20540.0           69170.0  \n",
       "\n",
       "[4 rows x 50 columns]"
      ]
     },
     "execution_count": 64,
     "metadata": {},
     "output_type": "execute_result"
    }
   ],
   "source": [
    "final_output = universe_analysis.generate_final_output(\n",
    "    y_pred_prob=probs_test,\n",
    "    y_test=y_true,\n",
    "    org_test=org_test,\n",
    "    filter_data=filter_sub_universe_data,\n",
    "    cp_metrics_df=cp_metrics_df,\n",
    "    save=True,\n",
    ")\n",
    "final_output"
   ]
  },
  {
   "cell_type": "code",
   "execution_count": null,
   "id": "8b80a1ff",
   "metadata": {
    "papermill": {
     "duration": 0.015164,
     "end_time": "2025-08-19T18:11:00.506978",
     "exception": false,
     "start_time": "2025-08-19T18:11:00.491814",
     "status": "completed"
    },
    "tags": []
   },
   "outputs": [],
   "source": []
  },
  {
   "cell_type": "code",
   "execution_count": null,
   "id": "275c9fad",
   "metadata": {
    "papermill": {
     "duration": 0.016427,
     "end_time": "2025-08-19T18:11:00.537598",
     "exception": false,
     "start_time": "2025-08-19T18:11:00.521171",
     "status": "completed"
    },
    "tags": []
   },
   "outputs": [],
   "source": []
  }
 ],
 "metadata": {
  "celltoolbar": "Tags",
  "kernelspec": {
   "display_name": "Python (CMA Fairness)",
   "language": "python",
   "name": "cma_fair_env"
  },
  "language_info": {
   "codemirror_mode": {
    "name": "ipython",
    "version": 3
   },
   "file_extension": ".py",
   "mimetype": "text/x-python",
   "name": "python",
   "nbconvert_exporter": "python",
   "pygments_lexer": "ipython3",
   "version": "3.10.12"
  },
  "papermill": {
   "default_parameters": {},
   "duration": 47.610571,
   "end_time": "2025-08-19T18:11:01.478573",
   "environment_variables": {},
   "exception": null,
   "input_path": "universe_analysis.ipynb",
   "output_path": "output/runs/3/notebooks/m_3-1b4cff13c56c03e6773865fed27eca93.ipynb",
   "parameters": {
    "output_dir": "output",
    "run_no": "3",
    "seed": "2023",
    "universe": "{\"cutoff\": [\"quantile_0.1\", \"quantile_0.25\"], \"eval_fairness_grouping\": [\"majority-minority\", \"nationality-all\"], \"exclude_features\": \"age\", \"exclude_subgroups\": \"drop-non-german\", \"model\": \"rf\", \"scale\": \"do-not-scale\", \"training_size\": \"25k\", \"training_year\": \"2012_14\"}",
    "universe_id": "1b4cff13c56c03e6773865fed27eca93"
   },
   "start_time": "2025-08-19T18:10:13.868002",
   "version": "2.6.0"
  }
 },
 "nbformat": 4,
 "nbformat_minor": 5
}