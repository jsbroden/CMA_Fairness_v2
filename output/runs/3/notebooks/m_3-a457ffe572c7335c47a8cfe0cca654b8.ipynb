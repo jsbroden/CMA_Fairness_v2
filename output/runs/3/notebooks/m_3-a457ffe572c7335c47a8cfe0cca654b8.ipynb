{
 "cells": [
  {
   "cell_type": "markdown",
   "id": "ef23dbb3",
   "metadata": {
    "papermill": {
     "duration": 0.009253,
     "end_time": "2025-08-19T18:24:20.734430",
     "exception": false,
     "start_time": "2025-08-19T18:24:20.725177",
     "status": "completed"
    },
    "tags": []
   },
   "source": [
    "# Setup"
   ]
  },
  {
   "cell_type": "code",
   "execution_count": 1,
   "id": "0bc8e7dc",
   "metadata": {
    "execution": {
     "iopub.execute_input": "2025-08-19T18:24:20.756505Z",
     "iopub.status.busy": "2025-08-19T18:24:20.755821Z",
     "iopub.status.idle": "2025-08-19T18:24:20.767233Z",
     "shell.execute_reply": "2025-08-19T18:24:20.766383Z"
    },
    "papermill": {
     "duration": 0.022577,
     "end_time": "2025-08-19T18:24:20.768534",
     "exception": false,
     "start_time": "2025-08-19T18:24:20.745957",
     "status": "completed"
    },
    "tags": []
   },
   "outputs": [
    {
     "name": "stdout",
     "output_type": "stream",
     "text": [
      "/dss/dsshome1/0C/ra93lal2/cma/CMA_Fairness_v2\n"
     ]
    },
    {
     "name": "stderr",
     "output_type": "stream",
     "text": [
      "/dss/dsshome1/0C/ra93lal2/.local/share/virtualenvs/CMA_Fairness_v2-3j10GkSs/lib/python3.10/site-packages/IPython/core/magics/osm.py:393: UserWarning: This is now an optional IPython functionality, using bookmarks requires you to install the `pickleshare` library.\n",
      "  bkms = self.shell.db.get('bookmarks', {})\n",
      "/dss/dsshome1/0C/ra93lal2/.local/share/virtualenvs/CMA_Fairness_v2-3j10GkSs/lib/python3.10/site-packages/IPython/core/magics/osm.py:417: UserWarning: This is now an optional IPython functionality, setting dhist requires you to install the `pickleshare` library.\n",
      "  self.shell.db['dhist'] = compress_dhist(dhist)[-100:]\n"
     ]
    }
   ],
   "source": [
    "%cd ~/cma/CMA_Fairness_v2"
   ]
  },
  {
   "cell_type": "markdown",
   "id": "9d235661",
   "metadata": {
    "papermill": {
     "duration": 0.008718,
     "end_time": "2025-08-19T18:24:20.788883",
     "exception": false,
     "start_time": "2025-08-19T18:24:20.780165",
     "status": "completed"
    },
    "tags": []
   },
   "source": [
    "The following cell holds the definition of our parameters, these values can be overriden by rendering the with e.g. the following command:\n",
    "\n",
    "papermill -p alpha 0.2 -p ratio 0.3 universe_analysis.ipynb output/test_run.ipynb"
   ]
  },
  {
   "cell_type": "code",
   "execution_count": 2,
   "id": "4a789d8e",
   "metadata": {
    "execution": {
     "iopub.execute_input": "2025-08-19T18:24:20.809369Z",
     "iopub.status.busy": "2025-08-19T18:24:20.808185Z",
     "iopub.status.idle": "2025-08-19T18:24:20.817532Z",
     "shell.execute_reply": "2025-08-19T18:24:20.815903Z"
    },
    "papermill": {
     "duration": 0.021227,
     "end_time": "2025-08-19T18:24:20.819095",
     "exception": false,
     "start_time": "2025-08-19T18:24:20.797868",
     "status": "completed"
    },
    "tags": []
   },
   "outputs": [
    {
     "name": "stdout",
     "output_type": "stream",
     "text": [
      "Current working directory: /dss/dsshome1/0C/ra93lal2/cma/CMA_Fairness_v2\n"
     ]
    }
   ],
   "source": [
    "import os\n",
    "print(\"Current working directory:\", os.getcwd())"
   ]
  },
  {
   "cell_type": "code",
   "execution_count": 3,
   "id": "4132aaed",
   "metadata": {
    "execution": {
     "iopub.execute_input": "2025-08-19T18:24:20.841506Z",
     "iopub.status.busy": "2025-08-19T18:24:20.840907Z",
     "iopub.status.idle": "2025-08-19T18:24:20.846648Z",
     "shell.execute_reply": "2025-08-19T18:24:20.846038Z"
    },
    "papermill": {
     "duration": 0.017045,
     "end_time": "2025-08-19T18:24:20.847758",
     "exception": false,
     "start_time": "2025-08-19T18:24:20.830713",
     "status": "completed"
    },
    "tags": [
     "parameters"
    ]
   },
   "outputs": [],
   "source": [
    "run_no = 0\n",
    "universe_id = \"test\"\n",
    "universe = {\n",
    "    \"training_size\": \"5k\", # \"25k\", \"5k\", \"1k\"\n",
    "    \"training_year\": \"2012_14\", # \"2014\", \"2012_14\", \"2010_14\"\n",
    "    \"scale\": \"scale\", # \"scale\", \"do-not-scale\",\n",
    "    \"model\": \"elasticnet\", # \"logreg\", \"penalized_logreg\", \"rf\", \"gbm\", \"elasticnet\"\n",
    "    \"cutoff\": [\"quantile_0.15\", \"quantile_0.30\"],\n",
    "    \"exclude_features\": \"age\", # \"none\", \"nationality\", \"sex\", \"nationality-sex\", \"age\"\n",
    "    \"exclude_subgroups\": \"drop-non-german\", # \"keep-all\", \"drop-non-german\"\n",
    "    \"eval_fairness_grouping\": [\"majority-minority\", \"nationality-all\"]\n",
    "}\n",
    "\n",
    "output_dir=\"./output\"\n",
    "seed=0"
   ]
  },
  {
   "cell_type": "code",
   "execution_count": 4,
   "id": "208238cb",
   "metadata": {
    "execution": {
     "iopub.execute_input": "2025-08-19T18:24:20.877477Z",
     "iopub.status.busy": "2025-08-19T18:24:20.875919Z",
     "iopub.status.idle": "2025-08-19T18:24:20.884263Z",
     "shell.execute_reply": "2025-08-19T18:24:20.882632Z"
    },
    "papermill": {
     "duration": 0.028718,
     "end_time": "2025-08-19T18:24:20.885596",
     "exception": false,
     "start_time": "2025-08-19T18:24:20.856878",
     "status": "completed"
    },
    "tags": [
     "injected-parameters"
    ]
   },
   "outputs": [],
   "source": [
    "# Parameters\n",
    "universe_id = \"a457ffe572c7335c47a8cfe0cca654b8\"\n",
    "run_no = \"3\"\n",
    "universe = \"{\\\"cutoff\\\": [\\\"quantile_0.1\\\", \\\"quantile_0.25\\\"], \\\"eval_fairness_grouping\\\": [\\\"majority-minority\\\", \\\"nationality-all\\\"], \\\"exclude_features\\\": \\\"sex\\\", \\\"exclude_subgroups\\\": \\\"keep-all\\\", \\\"model\\\": \\\"rf\\\", \\\"scale\\\": \\\"scale\\\", \\\"training_size\\\": \\\"5k\\\", \\\"training_year\\\": \\\"2014\\\"}\"\n",
    "output_dir = \"output\"\n",
    "seed = \"2023\"\n"
   ]
  },
  {
   "cell_type": "code",
   "execution_count": 5,
   "id": "a5d7941f",
   "metadata": {
    "execution": {
     "iopub.execute_input": "2025-08-19T18:24:20.908425Z",
     "iopub.status.busy": "2025-08-19T18:24:20.907616Z",
     "iopub.status.idle": "2025-08-19T18:24:20.913424Z",
     "shell.execute_reply": "2025-08-19T18:24:20.912254Z"
    },
    "papermill": {
     "duration": 0.019849,
     "end_time": "2025-08-19T18:24:20.914744",
     "exception": false,
     "start_time": "2025-08-19T18:24:20.894895",
     "status": "completed"
    },
    "tags": []
   },
   "outputs": [],
   "source": [
    "import json\n",
    "if isinstance(universe, str):\n",
    "    universe = json.loads(universe)"
   ]
  },
  {
   "cell_type": "code",
   "execution_count": 6,
   "id": "7076ccb1",
   "metadata": {
    "execution": {
     "iopub.execute_input": "2025-08-19T18:24:20.938104Z",
     "iopub.status.busy": "2025-08-19T18:24:20.937220Z",
     "iopub.status.idle": "2025-08-19T18:24:21.069871Z",
     "shell.execute_reply": "2025-08-19T18:24:21.068905Z"
    },
    "papermill": {
     "duration": 0.145745,
     "end_time": "2025-08-19T18:24:21.072236",
     "exception": false,
     "start_time": "2025-08-19T18:24:20.926491",
     "status": "completed"
    },
    "tags": []
   },
   "outputs": [],
   "source": [
    "# Auto-reload the custom package\n",
    "%load_ext autoreload\n",
    "%autoreload 1\n",
    "%aimport fairness_multiverse"
   ]
  },
  {
   "cell_type": "code",
   "execution_count": 7,
   "id": "94c8eb93",
   "metadata": {
    "execution": {
     "iopub.execute_input": "2025-08-19T18:24:21.099077Z",
     "iopub.status.busy": "2025-08-19T18:24:21.098738Z",
     "iopub.status.idle": "2025-08-19T18:24:22.805536Z",
     "shell.execute_reply": "2025-08-19T18:24:22.804618Z"
    },
    "papermill": {
     "duration": 1.720355,
     "end_time": "2025-08-19T18:24:22.807237",
     "exception": false,
     "start_time": "2025-08-19T18:24:21.086882",
     "status": "completed"
    },
    "tags": []
   },
   "outputs": [],
   "source": [
    "from fairness_multiverse.universe import UniverseAnalysis\n",
    "\n",
    "universe_analysis = UniverseAnalysis(\n",
    "    run_no = run_no,\n",
    "    universe_id = universe_id,\n",
    "    universe = universe,\n",
    "    output_dir=output_dir,\n",
    ")"
   ]
  },
  {
   "cell_type": "code",
   "execution_count": 8,
   "id": "2a6381cf",
   "metadata": {
    "execution": {
     "iopub.execute_input": "2025-08-19T18:24:22.831827Z",
     "iopub.status.busy": "2025-08-19T18:24:22.827412Z",
     "iopub.status.idle": "2025-08-19T18:24:22.840135Z",
     "shell.execute_reply": "2025-08-19T18:24:22.839077Z"
    },
    "papermill": {
     "duration": 0.025026,
     "end_time": "2025-08-19T18:24:22.841625",
     "exception": false,
     "start_time": "2025-08-19T18:24:22.816599",
     "status": "completed"
    },
    "tags": []
   },
   "outputs": [
    {
     "name": "stdout",
     "output_type": "stream",
     "text": [
      "Using Seed: 2023\n"
     ]
    }
   ],
   "source": [
    "import numpy as np\n",
    "parsed_seed = int(seed)\n",
    "np.random.seed(parsed_seed)\n",
    "print(f\"Using Seed: {parsed_seed}\")"
   ]
  },
  {
   "cell_type": "markdown",
   "id": "b6e958b4",
   "metadata": {
    "papermill": {
     "duration": 0.009557,
     "end_time": "2025-08-19T18:24:22.866143",
     "exception": false,
     "start_time": "2025-08-19T18:24:22.856586",
     "status": "completed"
    },
    "tags": []
   },
   "source": [
    "# Loading Data"
   ]
  },
  {
   "cell_type": "code",
   "execution_count": 9,
   "id": "98701482",
   "metadata": {
    "execution": {
     "iopub.execute_input": "2025-08-19T18:24:22.886909Z",
     "iopub.status.busy": "2025-08-19T18:24:22.885790Z",
     "iopub.status.idle": "2025-08-19T18:24:32.909643Z",
     "shell.execute_reply": "2025-08-19T18:24:32.908313Z"
    },
    "papermill": {
     "duration": 10.035792,
     "end_time": "2025-08-19T18:24:32.910871",
     "exception": false,
     "start_time": "2025-08-19T18:24:22.875079",
     "status": "completed"
    },
    "tags": []
   },
   "outputs": [
    {
     "name": "stdout",
     "output_type": "stream",
     "text": [
      "Loading SIAB data from cache: data/siab_cached.csv.gz\n"
     ]
    },
    {
     "name": "stdout",
     "output_type": "stream",
     "text": [
      "(643690, 164)\n"
     ]
    }
   ],
   "source": [
    "from pathlib import Path\n",
    "import pandas as pd\n",
    "\n",
    "# File paths\n",
    "raw_file = Path(\"data/raw/siab.csv\")\n",
    "cache_file = Path(\"data/siab_cached.csv.gz\")\n",
    "\n",
    "# Ensure cache directory exists\n",
    "cache_file.parent.mkdir(parents=True, exist_ok=True)\n",
    "\n",
    "# Load with simple caching\n",
    "if cache_file.exists():\n",
    "    print(f\"Loading SIAB data from cache: {cache_file}\")\n",
    "    siab = pd.read_csv(cache_file, compression='gzip')\n",
    "else:\n",
    "    print(f\"Cache not found. Reading raw SIAB data: {raw_file}\")\n",
    "    siab = pd.read_csv(raw_file)\n",
    "    siab.to_csv(cache_file, index=False, compression='gzip')\n",
    "    print(f\"Cached SIAB data to: {cache_file}\")\n",
    "\n",
    "print(siab.shape)"
   ]
  },
  {
   "cell_type": "code",
   "execution_count": 10,
   "id": "058d2abb",
   "metadata": {
    "execution": {
     "iopub.execute_input": "2025-08-19T18:24:32.933819Z",
     "iopub.status.busy": "2025-08-19T18:24:32.933458Z",
     "iopub.status.idle": "2025-08-19T18:24:33.087334Z",
     "shell.execute_reply": "2025-08-19T18:24:33.086566Z"
    },
    "papermill": {
     "duration": 0.165652,
     "end_time": "2025-08-19T18:24:33.088511",
     "exception": false,
     "start_time": "2025-08-19T18:24:32.922859",
     "status": "completed"
    },
    "tags": []
   },
   "outputs": [
    {
     "data": {
      "text/html": [
       "<div>\n",
       "<style scoped>\n",
       "    .dataframe tbody tr th:only-of-type {\n",
       "        vertical-align: middle;\n",
       "    }\n",
       "\n",
       "    .dataframe tbody tr th {\n",
       "        vertical-align: top;\n",
       "    }\n",
       "\n",
       "    .dataframe thead th {\n",
       "        text-align: right;\n",
       "    }\n",
       "</style>\n",
       "<table border=\"1\" class=\"dataframe\">\n",
       "  <thead>\n",
       "    <tr style=\"text-align: right;\">\n",
       "      <th></th>\n",
       "      <th>persnr</th>\n",
       "      <th>year</th>\n",
       "      <th>nrEntry</th>\n",
       "      <th>ltue</th>\n",
       "      <th>employed_before</th>\n",
       "      <th>receipt_leh_before</th>\n",
       "      <th>receipt_lhg_before</th>\n",
       "      <th>se_before</th>\n",
       "      <th>ASU_notue_seeking_before</th>\n",
       "      <th>ASU_other_before</th>\n",
       "      <th>...</th>\n",
       "      <th>minijob_tot_dur_byage</th>\n",
       "      <th>ft_tot_dur_byage</th>\n",
       "      <th>befrist_tot_dur_byage</th>\n",
       "      <th>leih_tot_dur_byage</th>\n",
       "      <th>LHG_tot_dur_byage</th>\n",
       "      <th>LEH_tot_dur_byage</th>\n",
       "      <th>almp_tot_dur_byage</th>\n",
       "      <th>almp_aw_tot_dur_byage</th>\n",
       "      <th>se_tot_dur_byage</th>\n",
       "      <th>seeking1_tot_dur_byage</th>\n",
       "    </tr>\n",
       "  </thead>\n",
       "  <tbody>\n",
       "    <tr>\n",
       "      <th>0</th>\n",
       "      <td>7</td>\n",
       "      <td>2015</td>\n",
       "      <td>1</td>\n",
       "      <td>0</td>\n",
       "      <td>1</td>\n",
       "      <td>0</td>\n",
       "      <td>0</td>\n",
       "      <td>0</td>\n",
       "      <td>1</td>\n",
       "      <td>0</td>\n",
       "      <td>...</td>\n",
       "      <td>0.000000</td>\n",
       "      <td>0.000000</td>\n",
       "      <td>15.043478</td>\n",
       "      <td>0.000000</td>\n",
       "      <td>0.000000</td>\n",
       "      <td>0.000000</td>\n",
       "      <td>0.000000</td>\n",
       "      <td>0.000000</td>\n",
       "      <td>0.000000</td>\n",
       "      <td>0.000000</td>\n",
       "    </tr>\n",
       "    <tr>\n",
       "      <th>1</th>\n",
       "      <td>18</td>\n",
       "      <td>2010</td>\n",
       "      <td>1</td>\n",
       "      <td>1</td>\n",
       "      <td>0</td>\n",
       "      <td>0</td>\n",
       "      <td>0</td>\n",
       "      <td>0</td>\n",
       "      <td>0</td>\n",
       "      <td>0</td>\n",
       "      <td>...</td>\n",
       "      <td>0.000000</td>\n",
       "      <td>0.000000</td>\n",
       "      <td>0.000000</td>\n",
       "      <td>0.000000</td>\n",
       "      <td>0.000000</td>\n",
       "      <td>0.000000</td>\n",
       "      <td>0.000000</td>\n",
       "      <td>0.000000</td>\n",
       "      <td>0.000000</td>\n",
       "      <td>0.000000</td>\n",
       "    </tr>\n",
       "    <tr>\n",
       "      <th>2</th>\n",
       "      <td>18</td>\n",
       "      <td>2011</td>\n",
       "      <td>2</td>\n",
       "      <td>0</td>\n",
       "      <td>1</td>\n",
       "      <td>0</td>\n",
       "      <td>1</td>\n",
       "      <td>0</td>\n",
       "      <td>1</td>\n",
       "      <td>0</td>\n",
       "      <td>...</td>\n",
       "      <td>2.714286</td>\n",
       "      <td>2.714286</td>\n",
       "      <td>0.000000</td>\n",
       "      <td>0.000000</td>\n",
       "      <td>10.775510</td>\n",
       "      <td>0.000000</td>\n",
       "      <td>8.367347</td>\n",
       "      <td>0.000000</td>\n",
       "      <td>0.000000</td>\n",
       "      <td>9.836735</td>\n",
       "    </tr>\n",
       "    <tr>\n",
       "      <th>3</th>\n",
       "      <td>18</td>\n",
       "      <td>2012</td>\n",
       "      <td>3</td>\n",
       "      <td>0</td>\n",
       "      <td>1</td>\n",
       "      <td>0</td>\n",
       "      <td>1</td>\n",
       "      <td>0</td>\n",
       "      <td>1</td>\n",
       "      <td>0</td>\n",
       "      <td>...</td>\n",
       "      <td>4.200000</td>\n",
       "      <td>4.200000</td>\n",
       "      <td>0.000000</td>\n",
       "      <td>0.000000</td>\n",
       "      <td>12.100000</td>\n",
       "      <td>0.000000</td>\n",
       "      <td>9.400000</td>\n",
       "      <td>0.000000</td>\n",
       "      <td>0.000000</td>\n",
       "      <td>9.960000</td>\n",
       "    </tr>\n",
       "    <tr>\n",
       "      <th>4</th>\n",
       "      <td>18</td>\n",
       "      <td>2012</td>\n",
       "      <td>4</td>\n",
       "      <td>0</td>\n",
       "      <td>1</td>\n",
       "      <td>0</td>\n",
       "      <td>1</td>\n",
       "      <td>0</td>\n",
       "      <td>1</td>\n",
       "      <td>0</td>\n",
       "      <td>...</td>\n",
       "      <td>5.460000</td>\n",
       "      <td>5.460000</td>\n",
       "      <td>0.000000</td>\n",
       "      <td>0.000000</td>\n",
       "      <td>13.360000</td>\n",
       "      <td>0.000000</td>\n",
       "      <td>10.320000</td>\n",
       "      <td>0.000000</td>\n",
       "      <td>0.000000</td>\n",
       "      <td>10.280000</td>\n",
       "    </tr>\n",
       "    <tr>\n",
       "      <th>...</th>\n",
       "      <td>...</td>\n",
       "      <td>...</td>\n",
       "      <td>...</td>\n",
       "      <td>...</td>\n",
       "      <td>...</td>\n",
       "      <td>...</td>\n",
       "      <td>...</td>\n",
       "      <td>...</td>\n",
       "      <td>...</td>\n",
       "      <td>...</td>\n",
       "      <td>...</td>\n",
       "      <td>...</td>\n",
       "      <td>...</td>\n",
       "      <td>...</td>\n",
       "      <td>...</td>\n",
       "      <td>...</td>\n",
       "      <td>...</td>\n",
       "      <td>...</td>\n",
       "      <td>...</td>\n",
       "      <td>...</td>\n",
       "      <td>...</td>\n",
       "    </tr>\n",
       "    <tr>\n",
       "      <th>643685</th>\n",
       "      <td>1827860</td>\n",
       "      <td>2013</td>\n",
       "      <td>1</td>\n",
       "      <td>0</td>\n",
       "      <td>0</td>\n",
       "      <td>0</td>\n",
       "      <td>1</td>\n",
       "      <td>0</td>\n",
       "      <td>0</td>\n",
       "      <td>1</td>\n",
       "      <td>...</td>\n",
       "      <td>0.000000</td>\n",
       "      <td>0.000000</td>\n",
       "      <td>0.000000</td>\n",
       "      <td>0.000000</td>\n",
       "      <td>0.612903</td>\n",
       "      <td>0.000000</td>\n",
       "      <td>0.000000</td>\n",
       "      <td>0.000000</td>\n",
       "      <td>0.000000</td>\n",
       "      <td>0.000000</td>\n",
       "    </tr>\n",
       "    <tr>\n",
       "      <th>643686</th>\n",
       "      <td>1827860</td>\n",
       "      <td>2015</td>\n",
       "      <td>2</td>\n",
       "      <td>1</td>\n",
       "      <td>0</td>\n",
       "      <td>0</td>\n",
       "      <td>1</td>\n",
       "      <td>0</td>\n",
       "      <td>1</td>\n",
       "      <td>0</td>\n",
       "      <td>...</td>\n",
       "      <td>0.000000</td>\n",
       "      <td>0.000000</td>\n",
       "      <td>0.212121</td>\n",
       "      <td>0.212121</td>\n",
       "      <td>17.363636</td>\n",
       "      <td>0.000000</td>\n",
       "      <td>8.909091</td>\n",
       "      <td>0.000000</td>\n",
       "      <td>0.000000</td>\n",
       "      <td>7.121212</td>\n",
       "    </tr>\n",
       "    <tr>\n",
       "      <th>643687</th>\n",
       "      <td>1827860</td>\n",
       "      <td>2016</td>\n",
       "      <td>3</td>\n",
       "      <td>1</td>\n",
       "      <td>0</td>\n",
       "      <td>0</td>\n",
       "      <td>1</td>\n",
       "      <td>1</td>\n",
       "      <td>0</td>\n",
       "      <td>1</td>\n",
       "      <td>...</td>\n",
       "      <td>0.000000</td>\n",
       "      <td>0.000000</td>\n",
       "      <td>0.294118</td>\n",
       "      <td>0.205882</td>\n",
       "      <td>34.705882</td>\n",
       "      <td>0.000000</td>\n",
       "      <td>10.352941</td>\n",
       "      <td>1.705882</td>\n",
       "      <td>1.705882</td>\n",
       "      <td>23.911765</td>\n",
       "    </tr>\n",
       "    <tr>\n",
       "      <th>643688</th>\n",
       "      <td>1827869</td>\n",
       "      <td>2013</td>\n",
       "      <td>1</td>\n",
       "      <td>1</td>\n",
       "      <td>1</td>\n",
       "      <td>0</td>\n",
       "      <td>0</td>\n",
       "      <td>0</td>\n",
       "      <td>1</td>\n",
       "      <td>0</td>\n",
       "      <td>...</td>\n",
       "      <td>0.000000</td>\n",
       "      <td>0.000000</td>\n",
       "      <td>0.000000</td>\n",
       "      <td>0.000000</td>\n",
       "      <td>0.000000</td>\n",
       "      <td>0.525424</td>\n",
       "      <td>0.000000</td>\n",
       "      <td>0.000000</td>\n",
       "      <td>0.000000</td>\n",
       "      <td>0.000000</td>\n",
       "    </tr>\n",
       "    <tr>\n",
       "      <th>643689</th>\n",
       "      <td>1827869</td>\n",
       "      <td>2014</td>\n",
       "      <td>2</td>\n",
       "      <td>0</td>\n",
       "      <td>0</td>\n",
       "      <td>1</td>\n",
       "      <td>0</td>\n",
       "      <td>0</td>\n",
       "      <td>1</td>\n",
       "      <td>0</td>\n",
       "      <td>...</td>\n",
       "      <td>0.000000</td>\n",
       "      <td>0.666667</td>\n",
       "      <td>0.666667</td>\n",
       "      <td>0.000000</td>\n",
       "      <td>0.000000</td>\n",
       "      <td>8.950000</td>\n",
       "      <td>1.033333</td>\n",
       "      <td>0.083333</td>\n",
       "      <td>0.083333</td>\n",
       "      <td>8.133333</td>\n",
       "    </tr>\n",
       "  </tbody>\n",
       "</table>\n",
       "<p>643690 rows × 164 columns</p>\n",
       "</div>"
      ],
      "text/plain": [
       "         persnr  year  nrEntry  ltue  employed_before  receipt_leh_before  \\\n",
       "0             7  2015        1     0                1                   0   \n",
       "1            18  2010        1     1                0                   0   \n",
       "2            18  2011        2     0                1                   0   \n",
       "3            18  2012        3     0                1                   0   \n",
       "4            18  2012        4     0                1                   0   \n",
       "...         ...   ...      ...   ...              ...                 ...   \n",
       "643685  1827860  2013        1     0                0                   0   \n",
       "643686  1827860  2015        2     1                0                   0   \n",
       "643687  1827860  2016        3     1                0                   0   \n",
       "643688  1827869  2013        1     1                1                   0   \n",
       "643689  1827869  2014        2     0                0                   1   \n",
       "\n",
       "        receipt_lhg_before  se_before  ASU_notue_seeking_before  \\\n",
       "0                        0          0                         1   \n",
       "1                        0          0                         0   \n",
       "2                        1          0                         1   \n",
       "3                        1          0                         1   \n",
       "4                        1          0                         1   \n",
       "...                    ...        ...                       ...   \n",
       "643685                   1          0                         0   \n",
       "643686                   1          0                         1   \n",
       "643687                   1          1                         0   \n",
       "643688                   0          0                         1   \n",
       "643689                   0          0                         1   \n",
       "\n",
       "        ASU_other_before  ...  minijob_tot_dur_byage  ft_tot_dur_byage  \\\n",
       "0                      0  ...               0.000000          0.000000   \n",
       "1                      0  ...               0.000000          0.000000   \n",
       "2                      0  ...               2.714286          2.714286   \n",
       "3                      0  ...               4.200000          4.200000   \n",
       "4                      0  ...               5.460000          5.460000   \n",
       "...                  ...  ...                    ...               ...   \n",
       "643685                 1  ...               0.000000          0.000000   \n",
       "643686                 0  ...               0.000000          0.000000   \n",
       "643687                 1  ...               0.000000          0.000000   \n",
       "643688                 0  ...               0.000000          0.000000   \n",
       "643689                 0  ...               0.000000          0.666667   \n",
       "\n",
       "        befrist_tot_dur_byage  leih_tot_dur_byage  LHG_tot_dur_byage  \\\n",
       "0                   15.043478            0.000000           0.000000   \n",
       "1                    0.000000            0.000000           0.000000   \n",
       "2                    0.000000            0.000000          10.775510   \n",
       "3                    0.000000            0.000000          12.100000   \n",
       "4                    0.000000            0.000000          13.360000   \n",
       "...                       ...                 ...                ...   \n",
       "643685               0.000000            0.000000           0.612903   \n",
       "643686               0.212121            0.212121          17.363636   \n",
       "643687               0.294118            0.205882          34.705882   \n",
       "643688               0.000000            0.000000           0.000000   \n",
       "643689               0.666667            0.000000           0.000000   \n",
       "\n",
       "        LEH_tot_dur_byage  almp_tot_dur_byage  almp_aw_tot_dur_byage  \\\n",
       "0                0.000000            0.000000               0.000000   \n",
       "1                0.000000            0.000000               0.000000   \n",
       "2                0.000000            8.367347               0.000000   \n",
       "3                0.000000            9.400000               0.000000   \n",
       "4                0.000000           10.320000               0.000000   \n",
       "...                   ...                 ...                    ...   \n",
       "643685           0.000000            0.000000               0.000000   \n",
       "643686           0.000000            8.909091               0.000000   \n",
       "643687           0.000000           10.352941               1.705882   \n",
       "643688           0.525424            0.000000               0.000000   \n",
       "643689           8.950000            1.033333               0.083333   \n",
       "\n",
       "        se_tot_dur_byage  seeking1_tot_dur_byage  \n",
       "0               0.000000                0.000000  \n",
       "1               0.000000                0.000000  \n",
       "2               0.000000                9.836735  \n",
       "3               0.000000                9.960000  \n",
       "4               0.000000               10.280000  \n",
       "...                  ...                     ...  \n",
       "643685          0.000000                0.000000  \n",
       "643686          0.000000                7.121212  \n",
       "643687          1.705882               23.911765  \n",
       "643688          0.000000                0.000000  \n",
       "643689          0.083333                8.133333  \n",
       "\n",
       "[643690 rows x 164 columns]"
      ]
     },
     "execution_count": 10,
     "metadata": {},
     "output_type": "execute_result"
    }
   ],
   "source": [
    "siab"
   ]
  },
  {
   "cell_type": "markdown",
   "id": "1f87e805",
   "metadata": {
    "papermill": {
     "duration": 0.021431,
     "end_time": "2025-08-19T18:24:33.121678",
     "exception": false,
     "start_time": "2025-08-19T18:24:33.100247",
     "status": "completed"
    },
    "tags": []
   },
   "source": [
    "# Splitting Data and Setting Training Data Size"
   ]
  },
  {
   "cell_type": "code",
   "execution_count": 11,
   "id": "910ae358",
   "metadata": {
    "execution": {
     "iopub.execute_input": "2025-08-19T18:24:33.148659Z",
     "iopub.status.busy": "2025-08-19T18:24:33.145081Z",
     "iopub.status.idle": "2025-08-19T18:24:33.452419Z",
     "shell.execute_reply": "2025-08-19T18:24:33.451709Z"
    },
    "papermill": {
     "duration": 0.32071,
     "end_time": "2025-08-19T18:24:33.454058",
     "exception": false,
     "start_time": "2025-08-19T18:24:33.133348",
     "status": "completed"
    },
    "tags": []
   },
   "outputs": [],
   "source": [
    "from fairness_multiverse.universe import sample_by_year_size\n",
    "\n",
    "siab_train = sample_by_year_size(siab,\n",
    "                               training_year=universe[\"training_year\"],\n",
    "                               training_size=universe[\"training_size\"])"
   ]
  },
  {
   "cell_type": "code",
   "execution_count": 12,
   "id": "919c8ff5",
   "metadata": {
    "execution": {
     "iopub.execute_input": "2025-08-19T18:24:33.487928Z",
     "iopub.status.busy": "2025-08-19T18:24:33.486672Z",
     "iopub.status.idle": "2025-08-19T18:24:33.499663Z",
     "shell.execute_reply": "2025-08-19T18:24:33.498620Z"
    },
    "papermill": {
     "duration": 0.031824,
     "end_time": "2025-08-19T18:24:33.501263",
     "exception": false,
     "start_time": "2025-08-19T18:24:33.469439",
     "status": "completed"
    },
    "tags": []
   },
   "outputs": [
    {
     "data": {
      "text/plain": [
       "(5000, 164)"
      ]
     },
     "execution_count": 12,
     "metadata": {},
     "output_type": "execute_result"
    }
   ],
   "source": [
    "siab_train.shape"
   ]
  },
  {
   "cell_type": "code",
   "execution_count": 13,
   "id": "feb13bf4",
   "metadata": {
    "execution": {
     "iopub.execute_input": "2025-08-19T18:24:33.531699Z",
     "iopub.status.busy": "2025-08-19T18:24:33.530530Z",
     "iopub.status.idle": "2025-08-19T18:24:33.560945Z",
     "shell.execute_reply": "2025-08-19T18:24:33.544536Z"
    },
    "papermill": {
     "duration": 0.048233,
     "end_time": "2025-08-19T18:24:33.562634",
     "exception": false,
     "start_time": "2025-08-19T18:24:33.514401",
     "status": "completed"
    },
    "tags": []
   },
   "outputs": [
    {
     "data": {
      "text/plain": [
       "year\n",
       "2014    5000\n",
       "dtype: int64"
      ]
     },
     "metadata": {},
     "output_type": "display_data"
    }
   ],
   "source": [
    "display(siab_train.groupby(\"year\").size())"
   ]
  },
  {
   "cell_type": "code",
   "execution_count": 14,
   "id": "0997782f",
   "metadata": {
    "execution": {
     "iopub.execute_input": "2025-08-19T18:24:33.601904Z",
     "iopub.status.busy": "2025-08-19T18:24:33.601421Z",
     "iopub.status.idle": "2025-08-19T18:24:33.865704Z",
     "shell.execute_reply": "2025-08-19T18:24:33.864577Z"
    },
    "papermill": {
     "duration": 0.283752,
     "end_time": "2025-08-19T18:24:33.868829",
     "exception": false,
     "start_time": "2025-08-19T18:24:33.585077",
     "status": "completed"
    },
    "tags": []
   },
   "outputs": [],
   "source": [
    "#siab_train = siab_s[siab_s.year < 2015]\n",
    "siab_calib = siab[siab.year == 2015]\n",
    "siab_test = siab[siab.year == 2016]"
   ]
  },
  {
   "cell_type": "code",
   "execution_count": 15,
   "id": "2c1e4012",
   "metadata": {
    "execution": {
     "iopub.execute_input": "2025-08-19T18:24:33.906966Z",
     "iopub.status.busy": "2025-08-19T18:24:33.905926Z",
     "iopub.status.idle": "2025-08-19T18:24:33.912882Z",
     "shell.execute_reply": "2025-08-19T18:24:33.911637Z"
    },
    "papermill": {
     "duration": 0.022004,
     "end_time": "2025-08-19T18:24:33.914533",
     "exception": false,
     "start_time": "2025-08-19T18:24:33.892529",
     "status": "completed"
    },
    "tags": []
   },
   "outputs": [],
   "source": [
    "#siab_calib.shape"
   ]
  },
  {
   "cell_type": "code",
   "execution_count": 16,
   "id": "f66b54ca",
   "metadata": {
    "execution": {
     "iopub.execute_input": "2025-08-19T18:24:33.938457Z",
     "iopub.status.busy": "2025-08-19T18:24:33.937192Z",
     "iopub.status.idle": "2025-08-19T18:24:33.943940Z",
     "shell.execute_reply": "2025-08-19T18:24:33.942768Z"
    },
    "papermill": {
     "duration": 0.019759,
     "end_time": "2025-08-19T18:24:33.945442",
     "exception": false,
     "start_time": "2025-08-19T18:24:33.925683",
     "status": "completed"
    },
    "tags": []
   },
   "outputs": [],
   "source": [
    "#siab_test.shape"
   ]
  },
  {
   "cell_type": "code",
   "execution_count": 17,
   "id": "27e4384d",
   "metadata": {
    "execution": {
     "iopub.execute_input": "2025-08-19T18:24:33.967840Z",
     "iopub.status.busy": "2025-08-19T18:24:33.966904Z",
     "iopub.status.idle": "2025-08-19T18:24:33.979392Z",
     "shell.execute_reply": "2025-08-19T18:24:33.978141Z"
    },
    "papermill": {
     "duration": 0.025642,
     "end_time": "2025-08-19T18:24:33.981170",
     "exception": false,
     "start_time": "2025-08-19T18:24:33.955528",
     "status": "completed"
    },
    "tags": []
   },
   "outputs": [],
   "source": [
    "X_train = siab_train.iloc[:,4:164]\n",
    "y_train = siab_train.iloc[:, [3]]"
   ]
  },
  {
   "cell_type": "code",
   "execution_count": 18,
   "id": "08ee8389",
   "metadata": {
    "execution": {
     "iopub.execute_input": "2025-08-19T18:24:34.010031Z",
     "iopub.status.busy": "2025-08-19T18:24:34.008916Z",
     "iopub.status.idle": "2025-08-19T18:24:34.075115Z",
     "shell.execute_reply": "2025-08-19T18:24:34.073930Z"
    },
    "papermill": {
     "duration": 0.082046,
     "end_time": "2025-08-19T18:24:34.078331",
     "exception": false,
     "start_time": "2025-08-19T18:24:33.996285",
     "status": "completed"
    },
    "tags": []
   },
   "outputs": [],
   "source": [
    "X_calib = siab_calib.iloc[:,4:164]\n",
    "y_calib = siab_calib.iloc[:, [3]]"
   ]
  },
  {
   "cell_type": "code",
   "execution_count": 19,
   "id": "b7ff42e0",
   "metadata": {
    "execution": {
     "iopub.execute_input": "2025-08-19T18:24:34.115660Z",
     "iopub.status.busy": "2025-08-19T18:24:34.114629Z",
     "iopub.status.idle": "2025-08-19T18:24:34.176442Z",
     "shell.execute_reply": "2025-08-19T18:24:34.175314Z"
    },
    "papermill": {
     "duration": 0.07874,
     "end_time": "2025-08-19T18:24:34.179542",
     "exception": false,
     "start_time": "2025-08-19T18:24:34.100802",
     "status": "completed"
    },
    "tags": []
   },
   "outputs": [],
   "source": [
    "X_test = siab_test.iloc[:,4:164]\n",
    "y_true = siab_test.iloc[:, [3]]"
   ]
  },
  {
   "cell_type": "code",
   "execution_count": 20,
   "id": "0275101e",
   "metadata": {
    "execution": {
     "iopub.execute_input": "2025-08-19T18:24:34.216578Z",
     "iopub.status.busy": "2025-08-19T18:24:34.214586Z",
     "iopub.status.idle": "2025-08-19T18:24:34.351746Z",
     "shell.execute_reply": "2025-08-19T18:24:34.350183Z"
    },
    "papermill": {
     "duration": 0.153642,
     "end_time": "2025-08-19T18:24:34.355020",
     "exception": false,
     "start_time": "2025-08-19T18:24:34.201378",
     "status": "completed"
    },
    "tags": []
   },
   "outputs": [],
   "source": [
    "# Auxiliary data needed downstream in the pipeline\n",
    "\n",
    "org_train = X_train.copy()\n",
    "org_test = X_test.copy()\n",
    "org_calib = X_calib.copy()"
   ]
  },
  {
   "cell_type": "markdown",
   "id": "b461e618",
   "metadata": {
    "papermill": {
     "duration": 0.011879,
     "end_time": "2025-08-19T18:24:34.388395",
     "exception": false,
     "start_time": "2025-08-19T18:24:34.376516",
     "status": "completed"
    },
    "tags": []
   },
   "source": [
    "# Preprocessing Data"
   ]
  },
  {
   "cell_type": "code",
   "execution_count": 21,
   "id": "78e74c4b",
   "metadata": {
    "execution": {
     "iopub.execute_input": "2025-08-19T18:24:34.412509Z",
     "iopub.status.busy": "2025-08-19T18:24:34.411383Z",
     "iopub.status.idle": "2025-08-19T18:24:34.421996Z",
     "shell.execute_reply": "2025-08-19T18:24:34.420779Z"
    },
    "papermill": {
     "duration": 0.024571,
     "end_time": "2025-08-19T18:24:34.423745",
     "exception": false,
     "start_time": "2025-08-19T18:24:34.399174",
     "status": "completed"
    },
    "tags": []
   },
   "outputs": [],
   "source": [
    "# EXCLUDE PROTECTED FEATURES\n",
    "# --------------------------\n",
    "\n",
    "excluded_features = universe[\"exclude_features\"].split(\"-\")\n",
    "excluded_features_dictionary = {\n",
    "    \"nationality\": [\"maxdeutsch1\", \"maxdeutsch.Missing.\"],\n",
    "    \"sex\": [\"frau1\"],\n",
    "    \"age\": [\"age\"],\n",
    "}"
   ]
  },
  {
   "cell_type": "code",
   "execution_count": 22,
   "id": "f8e63555",
   "metadata": {
    "execution": {
     "iopub.execute_input": "2025-08-19T18:24:34.450638Z",
     "iopub.status.busy": "2025-08-19T18:24:34.449524Z",
     "iopub.status.idle": "2025-08-19T18:24:34.457735Z",
     "shell.execute_reply": "2025-08-19T18:24:34.456432Z"
    },
    "papermill": {
     "duration": 0.021754,
     "end_time": "2025-08-19T18:24:34.459526",
     "exception": false,
     "start_time": "2025-08-19T18:24:34.437772",
     "status": "completed"
    },
    "tags": []
   },
   "outputs": [],
   "source": [
    "excluded_features_columns = [\n",
    "    excluded_features_dictionary[f] for f in excluded_features if len(f) > 0 and f != \"none\"\n",
    "]"
   ]
  },
  {
   "cell_type": "code",
   "execution_count": 23,
   "id": "da781f7c",
   "metadata": {
    "execution": {
     "iopub.execute_input": "2025-08-19T18:24:34.484920Z",
     "iopub.status.busy": "2025-08-19T18:24:34.483622Z",
     "iopub.status.idle": "2025-08-19T18:24:34.491067Z",
     "shell.execute_reply": "2025-08-19T18:24:34.489916Z"
    },
    "papermill": {
     "duration": 0.020656,
     "end_time": "2025-08-19T18:24:34.492657",
     "exception": false,
     "start_time": "2025-08-19T18:24:34.472001",
     "status": "completed"
    },
    "tags": []
   },
   "outputs": [],
   "source": [
    "from fairness_multiverse.universe import flatten_once\n",
    "\n",
    "excluded_features_columns = flatten_once(excluded_features_columns)"
   ]
  },
  {
   "cell_type": "code",
   "execution_count": 24,
   "id": "37fef0f0",
   "metadata": {
    "execution": {
     "iopub.execute_input": "2025-08-19T18:24:34.515872Z",
     "iopub.status.busy": "2025-08-19T18:24:34.514598Z",
     "iopub.status.idle": "2025-08-19T18:24:34.538268Z",
     "shell.execute_reply": "2025-08-19T18:24:34.536995Z"
    },
    "papermill": {
     "duration": 0.037263,
     "end_time": "2025-08-19T18:24:34.540292",
     "exception": false,
     "start_time": "2025-08-19T18:24:34.503029",
     "status": "completed"
    },
    "tags": []
   },
   "outputs": [
    {
     "name": "stdout",
     "output_type": "stream",
     "text": [
      "Dropping features: ['frau1']\n"
     ]
    }
   ],
   "source": [
    "if len(excluded_features_columns) > 0:\n",
    "    print(f\"Dropping features: {excluded_features_columns}\")\n",
    "    X_train.drop(excluded_features_columns, axis=1, inplace=True)"
   ]
  },
  {
   "cell_type": "code",
   "execution_count": 25,
   "id": "d029e3e9",
   "metadata": {
    "execution": {
     "iopub.execute_input": "2025-08-19T18:24:34.569646Z",
     "iopub.status.busy": "2025-08-19T18:24:34.568699Z",
     "iopub.status.idle": "2025-08-19T18:24:34.634148Z",
     "shell.execute_reply": "2025-08-19T18:24:34.633446Z"
    },
    "papermill": {
     "duration": 0.079655,
     "end_time": "2025-08-19T18:24:34.635634",
     "exception": false,
     "start_time": "2025-08-19T18:24:34.555979",
     "status": "completed"
    },
    "tags": []
   },
   "outputs": [
    {
     "name": "stdout",
     "output_type": "stream",
     "text": [
      "Dropping features: ['frau1']\n"
     ]
    }
   ],
   "source": [
    "if len(excluded_features_columns) > 0:\n",
    "    print(f\"Dropping features: {excluded_features_columns}\")\n",
    "    X_test.drop(excluded_features_columns, axis=1, inplace=True)"
   ]
  },
  {
   "cell_type": "code",
   "execution_count": 26,
   "id": "01d571f0",
   "metadata": {
    "execution": {
     "iopub.execute_input": "2025-08-19T18:24:34.659697Z",
     "iopub.status.busy": "2025-08-19T18:24:34.659318Z",
     "iopub.status.idle": "2025-08-19T18:24:34.719435Z",
     "shell.execute_reply": "2025-08-19T18:24:34.718416Z"
    },
    "papermill": {
     "duration": 0.073132,
     "end_time": "2025-08-19T18:24:34.721140",
     "exception": false,
     "start_time": "2025-08-19T18:24:34.648008",
     "status": "completed"
    },
    "tags": []
   },
   "outputs": [
    {
     "name": "stdout",
     "output_type": "stream",
     "text": [
      "Dropping features: ['frau1']\n"
     ]
    }
   ],
   "source": [
    "if len(excluded_features_columns) > 0:\n",
    "    print(f\"Dropping features: {excluded_features_columns}\")\n",
    "    X_calib.drop(excluded_features_columns, axis=1, inplace=True)"
   ]
  },
  {
   "cell_type": "code",
   "execution_count": 27,
   "id": "3037356e",
   "metadata": {
    "execution": {
     "iopub.execute_input": "2025-08-19T18:24:34.750404Z",
     "iopub.status.busy": "2025-08-19T18:24:34.749752Z",
     "iopub.status.idle": "2025-08-19T18:24:34.756406Z",
     "shell.execute_reply": "2025-08-19T18:24:34.755219Z"
    },
    "papermill": {
     "duration": 0.024036,
     "end_time": "2025-08-19T18:24:34.761812",
     "exception": false,
     "start_time": "2025-08-19T18:24:34.737776",
     "status": "completed"
    },
    "tags": []
   },
   "outputs": [],
   "source": [
    "# EXCLUDE CERTAIN SUBGROUPS\n",
    "# -------------------------\n",
    "\n",
    "mode = universe.get(\"exclude_subgroups\", \"keep-all\") # Defaults to \"keep-all\" if the key is missing."
   ]
  },
  {
   "cell_type": "code",
   "execution_count": 28,
   "id": "9d1e63fd",
   "metadata": {
    "execution": {
     "iopub.execute_input": "2025-08-19T18:24:34.801711Z",
     "iopub.status.busy": "2025-08-19T18:24:34.801279Z",
     "iopub.status.idle": "2025-08-19T18:24:34.814715Z",
     "shell.execute_reply": "2025-08-19T18:24:34.813931Z"
    },
    "papermill": {
     "duration": 0.043523,
     "end_time": "2025-08-19T18:24:34.818410",
     "exception": false,
     "start_time": "2025-08-19T18:24:34.774887",
     "status": "completed"
    },
    "tags": []
   },
   "outputs": [],
   "source": [
    "if mode == \"keep-all\":\n",
    "    keep_mask = pd.Series(True, index=org_train.index)\n",
    "\n",
    "elif mode == \"drop-non-german\":\n",
    "    keep_mask = (org_train[\"maxdeutsch1\"] == 1) & (org_train[\"maxdeutsch.Missing.\"] == 0)\n",
    "\n",
    "else:\n",
    "    raise ValueError(f\"Unsupported mode for exclude_subgroups: {mode}\")"
   ]
  },
  {
   "cell_type": "code",
   "execution_count": 29,
   "id": "d3b65474",
   "metadata": {
    "execution": {
     "iopub.execute_input": "2025-08-19T18:24:34.851735Z",
     "iopub.status.busy": "2025-08-19T18:24:34.850792Z",
     "iopub.status.idle": "2025-08-19T18:24:34.859534Z",
     "shell.execute_reply": "2025-08-19T18:24:34.858423Z"
    },
    "papermill": {
     "duration": 0.023639,
     "end_time": "2025-08-19T18:24:34.861256",
     "exception": false,
     "start_time": "2025-08-19T18:24:34.837617",
     "status": "completed"
    },
    "tags": []
   },
   "outputs": [],
   "source": [
    "n_drop = (~keep_mask).sum() # Calculates how many rows are set to be dropped\n",
    "if n_drop > 0:\n",
    "    pct = n_drop / len(keep_mask) * 100\n",
    "    print(f\"Dropping {n_drop} rows ({pct:.2f}%) where mode='{mode}'\")"
   ]
  },
  {
   "cell_type": "code",
   "execution_count": 30,
   "id": "f44389b3",
   "metadata": {
    "execution": {
     "iopub.execute_input": "2025-08-19T18:24:34.889371Z",
     "iopub.status.busy": "2025-08-19T18:24:34.888129Z",
     "iopub.status.idle": "2025-08-19T18:24:34.911469Z",
     "shell.execute_reply": "2025-08-19T18:24:34.910352Z"
    },
    "papermill": {
     "duration": 0.038428,
     "end_time": "2025-08-19T18:24:34.913527",
     "exception": false,
     "start_time": "2025-08-19T18:24:34.875099",
     "status": "completed"
    },
    "tags": []
   },
   "outputs": [],
   "source": [
    "X_train = X_train[keep_mask]"
   ]
  },
  {
   "cell_type": "code",
   "execution_count": 31,
   "id": "ceca8c2a",
   "metadata": {
    "execution": {
     "iopub.execute_input": "2025-08-19T18:24:34.944068Z",
     "iopub.status.busy": "2025-08-19T18:24:34.942942Z",
     "iopub.status.idle": "2025-08-19T18:24:34.951479Z",
     "shell.execute_reply": "2025-08-19T18:24:34.950213Z"
    },
    "papermill": {
     "duration": 0.023189,
     "end_time": "2025-08-19T18:24:34.953296",
     "exception": false,
     "start_time": "2025-08-19T18:24:34.930107",
     "status": "completed"
    },
    "tags": []
   },
   "outputs": [],
   "source": [
    "y_train = y_train[keep_mask]"
   ]
  },
  {
   "cell_type": "markdown",
   "id": "04d31e2f",
   "metadata": {
    "papermill": {
     "duration": 0.010793,
     "end_time": "2025-08-19T18:24:34.978295",
     "exception": false,
     "start_time": "2025-08-19T18:24:34.967502",
     "status": "completed"
    },
    "tags": []
   },
   "source": [
    "# Model Training"
   ]
  },
  {
   "cell_type": "code",
   "execution_count": 32,
   "id": "db991733",
   "metadata": {
    "execution": {
     "iopub.execute_input": "2025-08-19T18:24:35.002658Z",
     "iopub.status.busy": "2025-08-19T18:24:35.001647Z",
     "iopub.status.idle": "2025-08-19T18:24:35.115598Z",
     "shell.execute_reply": "2025-08-19T18:24:35.113757Z"
    },
    "papermill": {
     "duration": 0.130437,
     "end_time": "2025-08-19T18:24:35.119516",
     "exception": false,
     "start_time": "2025-08-19T18:24:34.989079",
     "status": "completed"
    },
    "tags": []
   },
   "outputs": [],
   "source": [
    "from sklearn.linear_model import LogisticRegression\n",
    "from sklearn.ensemble import GradientBoostingClassifier, RandomForestClassifier\n",
    "\n",
    "if (universe[\"model\"] == \"logreg\"):\n",
    "    model = LogisticRegression() #penalty=\"none\", solver=\"newton-cg\", max_iter=1)\n",
    "elif (universe[\"model\"] == \"penalized_logreg\"):\n",
    "    model = LogisticRegression(penalty=\"l2\", C=0.1) #, solver=\"newton-cg\", max_iter=1)\n",
    "elif (universe[\"model\"] == \"rf\"):\n",
    "    model = RandomForestClassifier() # n_estimators=100, n_jobs=-1\n",
    "elif (universe[\"model\"] == \"gbm\"):\n",
    "    model = GradientBoostingClassifier()\n",
    "elif (universe[\"model\"] == \"elasticnet\"):\n",
    "    model = LogisticRegression(penalty = 'elasticnet', solver = 'saga', l1_ratio = 0.5) # max_iter=5000\n",
    "else:\n",
    "    raise \"Unsupported universe.model\""
   ]
  },
  {
   "cell_type": "code",
   "execution_count": 33,
   "id": "a4b5cd25",
   "metadata": {
    "execution": {
     "iopub.execute_input": "2025-08-19T18:24:35.158597Z",
     "iopub.status.busy": "2025-08-19T18:24:35.157486Z",
     "iopub.status.idle": "2025-08-19T18:24:35.166930Z",
     "shell.execute_reply": "2025-08-19T18:24:35.165544Z"
    },
    "papermill": {
     "duration": 0.025233,
     "end_time": "2025-08-19T18:24:35.168579",
     "exception": false,
     "start_time": "2025-08-19T18:24:35.143346",
     "status": "completed"
    },
    "tags": []
   },
   "outputs": [],
   "source": [
    "from sklearn.pipeline import Pipeline\n",
    "from sklearn.preprocessing import StandardScaler\n",
    "\n",
    "model = Pipeline([\n",
    "    #(\"continuous_processor\", continuous_processor),\n",
    "    #(\"categorical_preprocessor\", categorical_preprocessor),\n",
    "    (\"scale\", StandardScaler() if universe[\"scale\"] == \"scale\" else None), \n",
    "    (\"model\", model),\n",
    "])"
   ]
  },
  {
   "cell_type": "code",
   "execution_count": 34,
   "id": "283a904d",
   "metadata": {
    "execution": {
     "iopub.execute_input": "2025-08-19T18:24:35.194358Z",
     "iopub.status.busy": "2025-08-19T18:24:35.193261Z",
     "iopub.status.idle": "2025-08-19T18:24:36.510652Z",
     "shell.execute_reply": "2025-08-19T18:24:36.509040Z"
    },
    "papermill": {
     "duration": 1.343867,
     "end_time": "2025-08-19T18:24:36.524977",
     "exception": false,
     "start_time": "2025-08-19T18:24:35.181110",
     "status": "completed"
    },
    "tags": []
   },
   "outputs": [
    {
     "data": {
      "text/html": [
       "<style>#sk-container-id-1 {color: black;background-color: white;}#sk-container-id-1 pre{padding: 0;}#sk-container-id-1 div.sk-toggleable {background-color: white;}#sk-container-id-1 label.sk-toggleable__label {cursor: pointer;display: block;width: 100%;margin-bottom: 0;padding: 0.3em;box-sizing: border-box;text-align: center;}#sk-container-id-1 label.sk-toggleable__label-arrow:before {content: \"▸\";float: left;margin-right: 0.25em;color: #696969;}#sk-container-id-1 label.sk-toggleable__label-arrow:hover:before {color: black;}#sk-container-id-1 div.sk-estimator:hover label.sk-toggleable__label-arrow:before {color: black;}#sk-container-id-1 div.sk-toggleable__content {max-height: 0;max-width: 0;overflow: hidden;text-align: left;background-color: #f0f8ff;}#sk-container-id-1 div.sk-toggleable__content pre {margin: 0.2em;color: black;border-radius: 0.25em;background-color: #f0f8ff;}#sk-container-id-1 input.sk-toggleable__control:checked~div.sk-toggleable__content {max-height: 200px;max-width: 100%;overflow: auto;}#sk-container-id-1 input.sk-toggleable__control:checked~label.sk-toggleable__label-arrow:before {content: \"▾\";}#sk-container-id-1 div.sk-estimator input.sk-toggleable__control:checked~label.sk-toggleable__label {background-color: #d4ebff;}#sk-container-id-1 div.sk-label input.sk-toggleable__control:checked~label.sk-toggleable__label {background-color: #d4ebff;}#sk-container-id-1 input.sk-hidden--visually {border: 0;clip: rect(1px 1px 1px 1px);clip: rect(1px, 1px, 1px, 1px);height: 1px;margin: -1px;overflow: hidden;padding: 0;position: absolute;width: 1px;}#sk-container-id-1 div.sk-estimator {font-family: monospace;background-color: #f0f8ff;border: 1px dotted black;border-radius: 0.25em;box-sizing: border-box;margin-bottom: 0.5em;}#sk-container-id-1 div.sk-estimator:hover {background-color: #d4ebff;}#sk-container-id-1 div.sk-parallel-item::after {content: \"\";width: 100%;border-bottom: 1px solid gray;flex-grow: 1;}#sk-container-id-1 div.sk-label:hover label.sk-toggleable__label {background-color: #d4ebff;}#sk-container-id-1 div.sk-serial::before {content: \"\";position: absolute;border-left: 1px solid gray;box-sizing: border-box;top: 0;bottom: 0;left: 50%;z-index: 0;}#sk-container-id-1 div.sk-serial {display: flex;flex-direction: column;align-items: center;background-color: white;padding-right: 0.2em;padding-left: 0.2em;position: relative;}#sk-container-id-1 div.sk-item {position: relative;z-index: 1;}#sk-container-id-1 div.sk-parallel {display: flex;align-items: stretch;justify-content: center;background-color: white;position: relative;}#sk-container-id-1 div.sk-item::before, #sk-container-id-1 div.sk-parallel-item::before {content: \"\";position: absolute;border-left: 1px solid gray;box-sizing: border-box;top: 0;bottom: 0;left: 50%;z-index: -1;}#sk-container-id-1 div.sk-parallel-item {display: flex;flex-direction: column;z-index: 1;position: relative;background-color: white;}#sk-container-id-1 div.sk-parallel-item:first-child::after {align-self: flex-end;width: 50%;}#sk-container-id-1 div.sk-parallel-item:last-child::after {align-self: flex-start;width: 50%;}#sk-container-id-1 div.sk-parallel-item:only-child::after {width: 0;}#sk-container-id-1 div.sk-dashed-wrapped {border: 1px dashed gray;margin: 0 0.4em 0.5em 0.4em;box-sizing: border-box;padding-bottom: 0.4em;background-color: white;}#sk-container-id-1 div.sk-label label {font-family: monospace;font-weight: bold;display: inline-block;line-height: 1.2em;}#sk-container-id-1 div.sk-label-container {text-align: center;}#sk-container-id-1 div.sk-container {/* jupyter's `normalize.less` sets `[hidden] { display: none; }` but bootstrap.min.css set `[hidden] { display: none !important; }` so we also need the `!important` here to be able to override the default hidden behavior on the sphinx rendered scikit-learn.org. See: https://github.com/scikit-learn/scikit-learn/issues/21755 */display: inline-block !important;position: relative;}#sk-container-id-1 div.sk-text-repr-fallback {display: none;}</style><div id=\"sk-container-id-1\" class=\"sk-top-container\"><div class=\"sk-text-repr-fallback\"><pre>Pipeline(steps=[(&#x27;scale&#x27;, StandardScaler()),\n",
       "                (&#x27;model&#x27;, RandomForestClassifier())])</pre><b>In a Jupyter environment, please rerun this cell to show the HTML representation or trust the notebook. <br />On GitHub, the HTML representation is unable to render, please try loading this page with nbviewer.org.</b></div><div class=\"sk-container\" hidden><div class=\"sk-item sk-dashed-wrapped\"><div class=\"sk-label-container\"><div class=\"sk-label sk-toggleable\"><input class=\"sk-toggleable__control sk-hidden--visually\" id=\"sk-estimator-id-1\" type=\"checkbox\" ><label for=\"sk-estimator-id-1\" class=\"sk-toggleable__label sk-toggleable__label-arrow\">Pipeline</label><div class=\"sk-toggleable__content\"><pre>Pipeline(steps=[(&#x27;scale&#x27;, StandardScaler()),\n",
       "                (&#x27;model&#x27;, RandomForestClassifier())])</pre></div></div></div><div class=\"sk-serial\"><div class=\"sk-item\"><div class=\"sk-estimator sk-toggleable\"><input class=\"sk-toggleable__control sk-hidden--visually\" id=\"sk-estimator-id-2\" type=\"checkbox\" ><label for=\"sk-estimator-id-2\" class=\"sk-toggleable__label sk-toggleable__label-arrow\">StandardScaler</label><div class=\"sk-toggleable__content\"><pre>StandardScaler()</pre></div></div></div><div class=\"sk-item\"><div class=\"sk-estimator sk-toggleable\"><input class=\"sk-toggleable__control sk-hidden--visually\" id=\"sk-estimator-id-3\" type=\"checkbox\" ><label for=\"sk-estimator-id-3\" class=\"sk-toggleable__label sk-toggleable__label-arrow\">RandomForestClassifier</label><div class=\"sk-toggleable__content\"><pre>RandomForestClassifier()</pre></div></div></div></div></div></div></div>"
      ],
      "text/plain": [
       "Pipeline(steps=[('scale', StandardScaler()),\n",
       "                ('model', RandomForestClassifier())])"
      ]
     },
     "execution_count": 34,
     "metadata": {},
     "output_type": "execute_result"
    }
   ],
   "source": [
    "model.fit(X_train, y_train.values.ravel())"
   ]
  },
  {
   "cell_type": "code",
   "execution_count": 35,
   "id": "6e15e313",
   "metadata": {
    "execution": {
     "iopub.execute_input": "2025-08-19T18:24:36.561018Z",
     "iopub.status.busy": "2025-08-19T18:24:36.560160Z",
     "iopub.status.idle": "2025-08-19T18:24:38.488446Z",
     "shell.execute_reply": "2025-08-19T18:24:38.486549Z"
    },
    "papermill": {
     "duration": 1.951984,
     "end_time": "2025-08-19T18:24:38.490542",
     "exception": false,
     "start_time": "2025-08-19T18:24:36.538558",
     "status": "completed"
    },
    "tags": []
   },
   "outputs": [
    {
     "data": {
      "text/plain": [
       "0.8628915394047486"
      ]
     },
     "execution_count": 35,
     "metadata": {},
     "output_type": "execute_result"
    }
   ],
   "source": [
    "from fairness_multiverse.universe import predict_w_threshold\n",
    "\n",
    "probs_test = model.predict_proba(X_test)\n",
    "\n",
    "'''\n",
    "Below code returns a boolean array (or binary 0/1 array depending on how it’s used) where each element \n",
    "is True if the probability of class 1 is greater than or equal to the threshold, and False otherwise.\n",
    "'''\n",
    "y_pred_default = predict_w_threshold(probs_test, 0.5)\n",
    "\n",
    "from sklearn.metrics import accuracy_score\n",
    "\n",
    "# Naive prediction\n",
    "accuracy_score(y_true = y_true, y_pred = y_pred_default)"
   ]
  },
  {
   "cell_type": "code",
   "execution_count": 36,
   "id": "6f14067c",
   "metadata": {
    "execution": {
     "iopub.execute_input": "2025-08-19T18:24:38.525997Z",
     "iopub.status.busy": "2025-08-19T18:24:38.524899Z",
     "iopub.status.idle": "2025-08-19T18:24:40.424420Z",
     "shell.execute_reply": "2025-08-19T18:24:40.423343Z"
    },
    "papermill": {
     "duration": 1.926244,
     "end_time": "2025-08-19T18:24:40.437416",
     "exception": false,
     "start_time": "2025-08-19T18:24:38.511172",
     "status": "completed"
    },
    "tags": []
   },
   "outputs": [
    {
     "data": {
      "text/plain": [
       "array([0, 0, 0, ..., 0, 0, 0])"
      ]
     },
     "execution_count": 36,
     "metadata": {},
     "output_type": "execute_result"
    }
   ],
   "source": [
    "model.predict(X_test)"
   ]
  },
  {
   "cell_type": "markdown",
   "id": "3759920c",
   "metadata": {
    "papermill": {
     "duration": 0.022055,
     "end_time": "2025-08-19T18:24:40.472367",
     "exception": false,
     "start_time": "2025-08-19T18:24:40.450312",
     "status": "completed"
    },
    "tags": []
   },
   "source": [
    "# Conformal Prediction"
   ]
  },
  {
   "cell_type": "code",
   "execution_count": 37,
   "id": "14b27f59",
   "metadata": {
    "execution": {
     "iopub.execute_input": "2025-08-19T18:24:40.512290Z",
     "iopub.status.busy": "2025-08-19T18:24:40.511849Z",
     "iopub.status.idle": "2025-08-19T18:24:40.517634Z",
     "shell.execute_reply": "2025-08-19T18:24:40.516782Z"
    },
    "papermill": {
     "duration": 0.035977,
     "end_time": "2025-08-19T18:24:40.519752",
     "exception": false,
     "start_time": "2025-08-19T18:24:40.483775",
     "status": "completed"
    },
    "tags": []
   },
   "outputs": [],
   "source": [
    "# Miscoverage level for conformal prediction (10% allowed error rate => 90% target coverage)\n",
    "alpha = 0.1"
   ]
  },
  {
   "cell_type": "code",
   "execution_count": 38,
   "id": "59102472",
   "metadata": {
    "execution": {
     "iopub.execute_input": "2025-08-19T18:24:40.559595Z",
     "iopub.status.busy": "2025-08-19T18:24:40.558905Z",
     "iopub.status.idle": "2025-08-19T18:24:42.343410Z",
     "shell.execute_reply": "2025-08-19T18:24:42.342059Z"
    },
    "papermill": {
     "duration": 1.801976,
     "end_time": "2025-08-19T18:24:42.346472",
     "exception": false,
     "start_time": "2025-08-19T18:24:40.544496",
     "status": "completed"
    },
    "tags": []
   },
   "outputs": [],
   "source": [
    "probs_calib = model.predict_proba(X_calib)"
   ]
  },
  {
   "cell_type": "code",
   "execution_count": 39,
   "id": "a792d4dd",
   "metadata": {
    "execution": {
     "iopub.execute_input": "2025-08-19T18:24:42.393045Z",
     "iopub.status.busy": "2025-08-19T18:24:42.392144Z",
     "iopub.status.idle": "2025-08-19T18:24:42.403688Z",
     "shell.execute_reply": "2025-08-19T18:24:42.402623Z"
    },
    "papermill": {
     "duration": 0.030323,
     "end_time": "2025-08-19T18:24:42.405332",
     "exception": false,
     "start_time": "2025-08-19T18:24:42.375009",
     "status": "completed"
    },
    "tags": []
   },
   "outputs": [],
   "source": [
    "y_calib = y_calib.values.ravel().astype(int)"
   ]
  },
  {
   "cell_type": "code",
   "execution_count": 40,
   "id": "650fd033",
   "metadata": {
    "execution": {
     "iopub.execute_input": "2025-08-19T18:24:42.435809Z",
     "iopub.status.busy": "2025-08-19T18:24:42.435063Z",
     "iopub.status.idle": "2025-08-19T18:24:42.448183Z",
     "shell.execute_reply": "2025-08-19T18:24:42.446923Z"
    },
    "papermill": {
     "duration": 0.028558,
     "end_time": "2025-08-19T18:24:42.449948",
     "exception": false,
     "start_time": "2025-08-19T18:24:42.421390",
     "status": "completed"
    },
    "tags": []
   },
   "outputs": [],
   "source": [
    "from fairness_multiverse.conformal import compute_nc_scores\n",
    "\n",
    "# Compute nonconformity scores on calibration set (1 - probability of true class)\n",
    "nc_scores = compute_nc_scores(probs_calib, y_calib)"
   ]
  },
  {
   "cell_type": "code",
   "execution_count": 41,
   "id": "28ada44c",
   "metadata": {
    "execution": {
     "iopub.execute_input": "2025-08-19T18:24:42.483234Z",
     "iopub.status.busy": "2025-08-19T18:24:42.482491Z",
     "iopub.status.idle": "2025-08-19T18:24:42.492718Z",
     "shell.execute_reply": "2025-08-19T18:24:42.491648Z"
    },
    "papermill": {
     "duration": 0.026473,
     "end_time": "2025-08-19T18:24:42.494280",
     "exception": false,
     "start_time": "2025-08-19T18:24:42.467807",
     "status": "completed"
    },
    "tags": []
   },
   "outputs": [],
   "source": [
    "from fairness_multiverse.conformal import find_threshold\n",
    "\n",
    "# Find conformal threshold q_hat for the given alpha (split conformal method)\n",
    "q_hat = find_threshold(nc_scores, alpha)"
   ]
  },
  {
   "cell_type": "code",
   "execution_count": 42,
   "id": "df56469e",
   "metadata": {
    "execution": {
     "iopub.execute_input": "2025-08-19T18:24:42.522144Z",
     "iopub.status.busy": "2025-08-19T18:24:42.521440Z",
     "iopub.status.idle": "2025-08-19T18:24:42.533329Z",
     "shell.execute_reply": "2025-08-19T18:24:42.532066Z"
    },
    "papermill": {
     "duration": 0.026771,
     "end_time": "2025-08-19T18:24:42.534844",
     "exception": false,
     "start_time": "2025-08-19T18:24:42.508073",
     "status": "completed"
    },
    "tags": []
   },
   "outputs": [
    {
     "data": {
      "text/plain": [
       "0.6699999999999999"
      ]
     },
     "execution_count": 42,
     "metadata": {},
     "output_type": "execute_result"
    }
   ],
   "source": [
    "q_hat"
   ]
  },
  {
   "cell_type": "code",
   "execution_count": 43,
   "id": "aa1f5faa",
   "metadata": {
    "execution": {
     "iopub.execute_input": "2025-08-19T18:24:42.564441Z",
     "iopub.status.busy": "2025-08-19T18:24:42.563072Z",
     "iopub.status.idle": "2025-08-19T18:24:44.857111Z",
     "shell.execute_reply": "2025-08-19T18:24:44.855894Z"
    },
    "papermill": {
     "duration": 2.30943,
     "end_time": "2025-08-19T18:24:44.858763",
     "exception": false,
     "start_time": "2025-08-19T18:24:42.549333",
     "status": "completed"
    },
    "tags": []
   },
   "outputs": [],
   "source": [
    "from fairness_multiverse.conformal import predict_conformal_sets\n",
    "\n",
    "# Generate prediction sets for each test example\n",
    "pred_sets = predict_conformal_sets(model, X_test, q_hat)"
   ]
  },
  {
   "cell_type": "code",
   "execution_count": 44,
   "id": "97f67a6b",
   "metadata": {
    "execution": {
     "iopub.execute_input": "2025-08-19T18:24:44.884254Z",
     "iopub.status.busy": "2025-08-19T18:24:44.883900Z",
     "iopub.status.idle": "2025-08-19T18:24:44.890618Z",
     "shell.execute_reply": "2025-08-19T18:24:44.889736Z"
    },
    "papermill": {
     "duration": 0.021138,
     "end_time": "2025-08-19T18:24:44.892227",
     "exception": false,
     "start_time": "2025-08-19T18:24:44.871089",
     "status": "completed"
    },
    "tags": []
   },
   "outputs": [],
   "source": [
    "y_true = y_true.squeeze()"
   ]
  },
  {
   "cell_type": "code",
   "execution_count": 45,
   "id": "e700e9a7",
   "metadata": {
    "execution": {
     "iopub.execute_input": "2025-08-19T18:24:44.932043Z",
     "iopub.status.busy": "2025-08-19T18:24:44.931326Z",
     "iopub.status.idle": "2025-08-19T18:24:45.450379Z",
     "shell.execute_reply": "2025-08-19T18:24:45.449375Z"
    },
    "papermill": {
     "duration": 0.547298,
     "end_time": "2025-08-19T18:24:45.452312",
     "exception": false,
     "start_time": "2025-08-19T18:24:44.905014",
     "status": "completed"
    },
    "tags": []
   },
   "outputs": [],
   "source": [
    "from fairness_multiverse.conformal import evaluate_sets\n",
    "\n",
    "# Evaluate coverage and average set size on test data\n",
    "metrics = evaluate_sets(pred_sets, y_true)"
   ]
  },
  {
   "cell_type": "markdown",
   "id": "efbacec0",
   "metadata": {
    "papermill": {
     "duration": 0.011792,
     "end_time": "2025-08-19T18:24:45.478696",
     "exception": false,
     "start_time": "2025-08-19T18:24:45.466904",
     "status": "completed"
    },
    "tags": []
   },
   "source": [
    "# CP Metrics"
   ]
  },
  {
   "cell_type": "code",
   "execution_count": 46,
   "id": "9de55fb1",
   "metadata": {
    "execution": {
     "iopub.execute_input": "2025-08-19T18:24:45.503440Z",
     "iopub.status.busy": "2025-08-19T18:24:45.503008Z",
     "iopub.status.idle": "2025-08-19T18:24:45.510929Z",
     "shell.execute_reply": "2025-08-19T18:24:45.509778Z"
    },
    "papermill": {
     "duration": 0.032463,
     "end_time": "2025-08-19T18:24:45.522698",
     "exception": false,
     "start_time": "2025-08-19T18:24:45.490235",
     "status": "completed"
    },
    "tags": []
   },
   "outputs": [
    {
     "data": {
      "text/plain": [
       "{'coverage': 0.9144911381116932, 'avg_size': 1.1521123620555123}"
      ]
     },
     "execution_count": 46,
     "metadata": {},
     "output_type": "execute_result"
    }
   ],
   "source": [
    "metrics"
   ]
  },
  {
   "cell_type": "code",
   "execution_count": 47,
   "id": "64c340a1",
   "metadata": {
    "execution": {
     "iopub.execute_input": "2025-08-19T18:24:45.554874Z",
     "iopub.status.busy": "2025-08-19T18:24:45.553985Z",
     "iopub.status.idle": "2025-08-19T18:24:45.563375Z",
     "shell.execute_reply": "2025-08-19T18:24:45.562064Z"
    },
    "papermill": {
     "duration": 0.024601,
     "end_time": "2025-08-19T18:24:45.565089",
     "exception": false,
     "start_time": "2025-08-19T18:24:45.540488",
     "status": "completed"
    },
    "tags": []
   },
   "outputs": [],
   "source": [
    "example_universe = universe.copy()\n",
    "universe_training_year = example_universe.get(\"training_year\")\n",
    "universe_training_size = example_universe.get(\"training_size\")\n",
    "universe_scale = example_universe.get(\"scale\")\n",
    "universe_model = example_universe.get(\"model\")\n",
    "universe_exclude_features = example_universe.get(\"exclude_features\")\n",
    "universe_exclude_subgroups = example_universe.get(\"exclude_subgroups\")"
   ]
  },
  {
   "cell_type": "code",
   "execution_count": 48,
   "id": "dbb53cb4",
   "metadata": {
    "execution": {
     "iopub.execute_input": "2025-08-19T18:24:45.593190Z",
     "iopub.status.busy": "2025-08-19T18:24:45.592909Z",
     "iopub.status.idle": "2025-08-19T18:24:45.598130Z",
     "shell.execute_reply": "2025-08-19T18:24:45.597330Z"
    },
    "papermill": {
     "duration": 0.019741,
     "end_time": "2025-08-19T18:24:45.599680",
     "exception": false,
     "start_time": "2025-08-19T18:24:45.579939",
     "status": "completed"
    },
    "tags": []
   },
   "outputs": [],
   "source": [
    "cp_metrics_dict = {\n",
    "    \"universe_id\": [universe_id],\n",
    "    \"universe_training_year\": [universe_training_year],\n",
    "    \"universe_training_size\": [universe_training_size],\n",
    "    \"universe_scale\": [universe_scale],\n",
    "    \"universe_model\": [universe_model],\n",
    "    \"universe_exclude_features\": [universe_exclude_features],\n",
    "    \"universe_exclude_subgroups\": [universe_exclude_subgroups],\n",
    "    \"q_hat\": [q_hat],\n",
    "    \"coverage\": [metrics[\"coverage\"]],\n",
    "    \"avg_size\": [metrics[\"avg_size\"]],\n",
    "}"
   ]
  },
  {
   "cell_type": "code",
   "execution_count": 49,
   "id": "0d70d4b2",
   "metadata": {
    "execution": {
     "iopub.execute_input": "2025-08-19T18:24:45.625740Z",
     "iopub.status.busy": "2025-08-19T18:24:45.625455Z",
     "iopub.status.idle": "2025-08-19T18:24:45.631195Z",
     "shell.execute_reply": "2025-08-19T18:24:45.630382Z"
    },
    "papermill": {
     "duration": 0.020882,
     "end_time": "2025-08-19T18:24:45.632552",
     "exception": false,
     "start_time": "2025-08-19T18:24:45.611670",
     "status": "completed"
    },
    "tags": []
   },
   "outputs": [],
   "source": [
    "cp_metrics_df = pd.DataFrame(cp_metrics_dict)"
   ]
  },
  {
   "cell_type": "code",
   "execution_count": 50,
   "id": "b494403c",
   "metadata": {
    "execution": {
     "iopub.execute_input": "2025-08-19T18:24:45.657367Z",
     "iopub.status.busy": "2025-08-19T18:24:45.656879Z",
     "iopub.status.idle": "2025-08-19T18:24:45.671417Z",
     "shell.execute_reply": "2025-08-19T18:24:45.670491Z"
    },
    "papermill": {
     "duration": 0.028742,
     "end_time": "2025-08-19T18:24:45.673051",
     "exception": false,
     "start_time": "2025-08-19T18:24:45.644309",
     "status": "completed"
    },
    "tags": []
   },
   "outputs": [
    {
     "data": {
      "text/html": [
       "<div>\n",
       "<style scoped>\n",
       "    .dataframe tbody tr th:only-of-type {\n",
       "        vertical-align: middle;\n",
       "    }\n",
       "\n",
       "    .dataframe tbody tr th {\n",
       "        vertical-align: top;\n",
       "    }\n",
       "\n",
       "    .dataframe thead th {\n",
       "        text-align: right;\n",
       "    }\n",
       "</style>\n",
       "<table border=\"1\" class=\"dataframe\">\n",
       "  <thead>\n",
       "    <tr style=\"text-align: right;\">\n",
       "      <th></th>\n",
       "      <th>universe_id</th>\n",
       "      <th>universe_training_year</th>\n",
       "      <th>universe_training_size</th>\n",
       "      <th>universe_scale</th>\n",
       "      <th>universe_model</th>\n",
       "      <th>universe_exclude_features</th>\n",
       "      <th>universe_exclude_subgroups</th>\n",
       "      <th>q_hat</th>\n",
       "      <th>coverage</th>\n",
       "      <th>avg_size</th>\n",
       "    </tr>\n",
       "  </thead>\n",
       "  <tbody>\n",
       "    <tr>\n",
       "      <th>0</th>\n",
       "      <td>a457ffe572c7335c47a8cfe0cca654b8</td>\n",
       "      <td>2014</td>\n",
       "      <td>5k</td>\n",
       "      <td>scale</td>\n",
       "      <td>rf</td>\n",
       "      <td>sex</td>\n",
       "      <td>keep-all</td>\n",
       "      <td>0.67</td>\n",
       "      <td>0.914491</td>\n",
       "      <td>1.152112</td>\n",
       "    </tr>\n",
       "  </tbody>\n",
       "</table>\n",
       "</div>"
      ],
      "text/plain": [
       "                        universe_id universe_training_year  \\\n",
       "0  a457ffe572c7335c47a8cfe0cca654b8                   2014   \n",
       "\n",
       "  universe_training_size universe_scale universe_model  \\\n",
       "0                     5k          scale             rf   \n",
       "\n",
       "  universe_exclude_features universe_exclude_subgroups  q_hat  coverage  \\\n",
       "0                       sex                   keep-all   0.67  0.914491   \n",
       "\n",
       "   avg_size  \n",
       "0  1.152112  "
      ]
     },
     "execution_count": 50,
     "metadata": {},
     "output_type": "execute_result"
    }
   ],
   "source": [
    "cp_metrics_df"
   ]
  },
  {
   "cell_type": "markdown",
   "id": "ed608b0b",
   "metadata": {
    "papermill": {
     "duration": 0.011714,
     "end_time": "2025-08-19T18:24:45.699020",
     "exception": false,
     "start_time": "2025-08-19T18:24:45.687306",
     "status": "completed"
    },
    "tags": []
   },
   "source": [
    "Conditional coverage & looking at subgroups"
   ]
  },
  {
   "cell_type": "code",
   "execution_count": 51,
   "id": "8968c366",
   "metadata": {
    "execution": {
     "iopub.execute_input": "2025-08-19T18:24:45.725724Z",
     "iopub.status.busy": "2025-08-19T18:24:45.724169Z",
     "iopub.status.idle": "2025-08-19T18:24:45.985387Z",
     "shell.execute_reply": "2025-08-19T18:24:45.984511Z"
    },
    "papermill": {
     "duration": 0.276383,
     "end_time": "2025-08-19T18:24:45.987010",
     "exception": false,
     "start_time": "2025-08-19T18:24:45.710627",
     "status": "completed"
    },
    "tags": []
   },
   "outputs": [],
   "source": [
    "from fairness_multiverse.conformal import build_cp_groups\n",
    "\n",
    "cp_groups_df = build_cp_groups(pred_sets, y_true, X_test.index, org_test)"
   ]
  },
  {
   "cell_type": "code",
   "execution_count": 52,
   "id": "292ddabf",
   "metadata": {
    "execution": {
     "iopub.execute_input": "2025-08-19T18:24:46.012796Z",
     "iopub.status.busy": "2025-08-19T18:24:46.012342Z",
     "iopub.status.idle": "2025-08-19T18:24:46.872114Z",
     "shell.execute_reply": "2025-08-19T18:24:46.870836Z"
    },
    "papermill": {
     "duration": 0.875793,
     "end_time": "2025-08-19T18:24:46.875222",
     "exception": false,
     "start_time": "2025-08-19T18:24:45.999429",
     "status": "completed"
    },
    "tags": []
   },
   "outputs": [],
   "source": [
    "# Define covered = 1 if true_label is in the predicted set\n",
    "cp_groups_df['covered'] = cp_groups_df.apply(\n",
    "    lambda r: int(r['true_label'] in r['pred_set']),\n",
    "    axis=1\n",
    ")"
   ]
  },
  {
   "cell_type": "code",
   "execution_count": 53,
   "id": "3a261692",
   "metadata": {
    "execution": {
     "iopub.execute_input": "2025-08-19T18:24:46.914270Z",
     "iopub.status.busy": "2025-08-19T18:24:46.913026Z",
     "iopub.status.idle": "2025-08-19T18:24:46.936199Z",
     "shell.execute_reply": "2025-08-19T18:24:46.935007Z"
    },
    "papermill": {
     "duration": 0.038897,
     "end_time": "2025-08-19T18:24:46.938054",
     "exception": false,
     "start_time": "2025-08-19T18:24:46.899157",
     "status": "completed"
    },
    "tags": []
   },
   "outputs": [],
   "source": [
    "subgroups = ['frau1','nongerman','nongerman_male','nongerman_female']\n",
    "\n",
    "# Conditional coverage for subgroup==1\n",
    "cond_coverage = {\n",
    "    g: cp_groups_df.loc[cp_groups_df[g]==1, 'covered'].mean()\n",
    "    for g in subgroups\n",
    "}"
   ]
  },
  {
   "cell_type": "code",
   "execution_count": 54,
   "id": "894fd600",
   "metadata": {
    "execution": {
     "iopub.execute_input": "2025-08-19T18:24:46.975668Z",
     "iopub.status.busy": "2025-08-19T18:24:46.974232Z",
     "iopub.status.idle": "2025-08-19T18:24:46.985904Z",
     "shell.execute_reply": "2025-08-19T18:24:46.984430Z"
    },
    "papermill": {
     "duration": 0.027404,
     "end_time": "2025-08-19T18:24:46.987515",
     "exception": false,
     "start_time": "2025-08-19T18:24:46.960111",
     "status": "completed"
    },
    "tags": []
   },
   "outputs": [
    {
     "data": {
      "text/plain": [
       "{'frau1': 0.912144493867098,\n",
       " 'nongerman': 0.9072026048391624,\n",
       " 'nongerman_male': 0.9215527334954516,\n",
       " 'nongerman_female': 0.8834575260804769}"
      ]
     },
     "execution_count": 54,
     "metadata": {},
     "output_type": "execute_result"
    }
   ],
   "source": [
    "cond_coverage"
   ]
  },
  {
   "cell_type": "code",
   "execution_count": 55,
   "id": "942895c7",
   "metadata": {
    "execution": {
     "iopub.execute_input": "2025-08-19T18:24:47.015751Z",
     "iopub.status.busy": "2025-08-19T18:24:47.014544Z",
     "iopub.status.idle": "2025-08-19T18:24:47.027085Z",
     "shell.execute_reply": "2025-08-19T18:24:47.025489Z"
    },
    "papermill": {
     "duration": 0.034508,
     "end_time": "2025-08-19T18:24:47.035466",
     "exception": false,
     "start_time": "2025-08-19T18:24:47.000958",
     "status": "completed"
    },
    "tags": []
   },
   "outputs": [],
   "source": [
    "for subgroup, cov in cond_coverage.items():\n",
    "    cp_metrics_df[f\"cov_{subgroup}\"] = cov"
   ]
  },
  {
   "cell_type": "code",
   "execution_count": 56,
   "id": "3970120f",
   "metadata": {
    "execution": {
     "iopub.execute_input": "2025-08-19T18:24:47.084640Z",
     "iopub.status.busy": "2025-08-19T18:24:47.084148Z",
     "iopub.status.idle": "2025-08-19T18:24:47.098743Z",
     "shell.execute_reply": "2025-08-19T18:24:47.098071Z"
    },
    "papermill": {
     "duration": 0.035725,
     "end_time": "2025-08-19T18:24:47.100043",
     "exception": false,
     "start_time": "2025-08-19T18:24:47.064318",
     "status": "completed"
    },
    "tags": []
   },
   "outputs": [
    {
     "data": {
      "text/html": [
       "<div>\n",
       "<style scoped>\n",
       "    .dataframe tbody tr th:only-of-type {\n",
       "        vertical-align: middle;\n",
       "    }\n",
       "\n",
       "    .dataframe tbody tr th {\n",
       "        vertical-align: top;\n",
       "    }\n",
       "\n",
       "    .dataframe thead th {\n",
       "        text-align: right;\n",
       "    }\n",
       "</style>\n",
       "<table border=\"1\" class=\"dataframe\">\n",
       "  <thead>\n",
       "    <tr style=\"text-align: right;\">\n",
       "      <th></th>\n",
       "      <th>universe_id</th>\n",
       "      <th>universe_training_year</th>\n",
       "      <th>universe_training_size</th>\n",
       "      <th>universe_scale</th>\n",
       "      <th>universe_model</th>\n",
       "      <th>universe_exclude_features</th>\n",
       "      <th>universe_exclude_subgroups</th>\n",
       "      <th>q_hat</th>\n",
       "      <th>coverage</th>\n",
       "      <th>avg_size</th>\n",
       "      <th>cov_frau1</th>\n",
       "      <th>cov_nongerman</th>\n",
       "      <th>cov_nongerman_male</th>\n",
       "      <th>cov_nongerman_female</th>\n",
       "    </tr>\n",
       "  </thead>\n",
       "  <tbody>\n",
       "    <tr>\n",
       "      <th>0</th>\n",
       "      <td>a457ffe572c7335c47a8cfe0cca654b8</td>\n",
       "      <td>2014</td>\n",
       "      <td>5k</td>\n",
       "      <td>scale</td>\n",
       "      <td>rf</td>\n",
       "      <td>sex</td>\n",
       "      <td>keep-all</td>\n",
       "      <td>0.67</td>\n",
       "      <td>0.914491</td>\n",
       "      <td>1.152112</td>\n",
       "      <td>0.912144</td>\n",
       "      <td>0.907203</td>\n",
       "      <td>0.921553</td>\n",
       "      <td>0.883458</td>\n",
       "    </tr>\n",
       "  </tbody>\n",
       "</table>\n",
       "</div>"
      ],
      "text/plain": [
       "                        universe_id universe_training_year  \\\n",
       "0  a457ffe572c7335c47a8cfe0cca654b8                   2014   \n",
       "\n",
       "  universe_training_size universe_scale universe_model  \\\n",
       "0                     5k          scale             rf   \n",
       "\n",
       "  universe_exclude_features universe_exclude_subgroups  q_hat  coverage  \\\n",
       "0                       sex                   keep-all   0.67  0.914491   \n",
       "\n",
       "   avg_size  cov_frau1  cov_nongerman  cov_nongerman_male  \\\n",
       "0  1.152112   0.912144       0.907203            0.921553   \n",
       "\n",
       "   cov_nongerman_female  \n",
       "0              0.883458  "
      ]
     },
     "execution_count": 56,
     "metadata": {},
     "output_type": "execute_result"
    }
   ],
   "source": [
    "cp_metrics_df"
   ]
  },
  {
   "cell_type": "markdown",
   "id": "3fc519cc",
   "metadata": {
    "papermill": {
     "duration": 0.013087,
     "end_time": "2025-08-19T18:24:47.128912",
     "exception": false,
     "start_time": "2025-08-19T18:24:47.115825",
     "status": "completed"
    },
    "tags": []
   },
   "source": [
    "# (Fairness) Metrics"
   ]
  },
  {
   "cell_type": "code",
   "execution_count": 57,
   "id": "a2e5e155",
   "metadata": {
    "execution": {
     "iopub.execute_input": "2025-08-19T18:24:47.160011Z",
     "iopub.status.busy": "2025-08-19T18:24:47.159563Z",
     "iopub.status.idle": "2025-08-19T18:24:47.174034Z",
     "shell.execute_reply": "2025-08-19T18:24:47.173197Z"
    },
    "papermill": {
     "duration": 0.029531,
     "end_time": "2025-08-19T18:24:47.175491",
     "exception": false,
     "start_time": "2025-08-19T18:24:47.145960",
     "status": "completed"
    },
    "tags": []
   },
   "outputs": [],
   "source": [
    "colname_to_bin = \"maxdeutsch1\"\n",
    "majority_value = org_train[colname_to_bin].mode()[0]\n",
    "\n",
    "org_test[\"majmin\"] = np.where(org_test[colname_to_bin] == majority_value, \"majority\", \"minority\")"
   ]
  },
  {
   "cell_type": "code",
   "execution_count": 58,
   "id": "17e3e4d5",
   "metadata": {
    "execution": {
     "iopub.execute_input": "2025-08-19T18:24:47.216170Z",
     "iopub.status.busy": "2025-08-19T18:24:47.214879Z",
     "iopub.status.idle": "2025-08-19T18:24:48.906472Z",
     "shell.execute_reply": "2025-08-19T18:24:48.905447Z"
    },
    "papermill": {
     "duration": 1.720229,
     "end_time": "2025-08-19T18:24:48.909212",
     "exception": false,
     "start_time": "2025-08-19T18:24:47.188983",
     "status": "completed"
    },
    "tags": []
   },
   "outputs": [],
   "source": [
    "example_universe = universe.copy()\n",
    "example_universe[\"cutoff\"] = example_universe[\"cutoff\"][0]\n",
    "example_universe[\"eval_fairness_grouping\"] = example_universe[\"eval_fairness_grouping\"][0]\n",
    "fairness_dict, metric_frame = universe_analysis.compute_metrics(\n",
    "    example_universe,\n",
    "    y_pred_prob=probs_test,\n",
    "    y_test=y_true,\n",
    "    org_test=org_test,\n",
    ")"
   ]
  },
  {
   "cell_type": "markdown",
   "id": "1fb7a0e9",
   "metadata": {
    "papermill": {
     "duration": 0.015417,
     "end_time": "2025-08-19T18:24:48.950310",
     "exception": false,
     "start_time": "2025-08-19T18:24:48.934893",
     "status": "completed"
    },
    "tags": []
   },
   "source": [
    "# Overall"
   ]
  },
  {
   "cell_type": "markdown",
   "id": "be1784b1",
   "metadata": {
    "papermill": {
     "duration": 0.014876,
     "end_time": "2025-08-19T18:24:48.977407",
     "exception": false,
     "start_time": "2025-08-19T18:24:48.962531",
     "status": "completed"
    },
    "tags": []
   },
   "source": [
    "Main fairness target: Equalized Odds. Seems to be a better fit than equal opportunity, since we're not only interested in Y = 1. Seems to be a better fit than demographic parity, since we also care about accuracy, not just equal distribution of preds.\n",
    "\n",
    "Pick column for computation of fairness metrics\n",
    "\n",
    "Performance\n",
    "Overall performance measures, most interesting in relation to the measures split by group below"
   ]
  },
  {
   "cell_type": "code",
   "execution_count": 59,
   "id": "b7672bee",
   "metadata": {
    "execution": {
     "iopub.execute_input": "2025-08-19T18:24:49.013451Z",
     "iopub.status.busy": "2025-08-19T18:24:49.011683Z",
     "iopub.status.idle": "2025-08-19T18:24:49.026770Z",
     "shell.execute_reply": "2025-08-19T18:24:49.025480Z"
    },
    "papermill": {
     "duration": 0.039457,
     "end_time": "2025-08-19T18:24:49.029676",
     "exception": false,
     "start_time": "2025-08-19T18:24:48.990219",
     "status": "completed"
    },
    "tags": []
   },
   "outputs": [
    {
     "data": {
      "text/plain": [
       "accuracy                   0.193847\n",
       "balanced accuracy          0.531049\n",
       "f1                         0.238593\n",
       "precision                  0.135743\n",
       "false positive rate        0.922521\n",
       "false negative rate        0.015381\n",
       "selection rate             0.930487\n",
       "count                  89710.000000\n",
       "dtype: float64"
      ]
     },
     "execution_count": 59,
     "metadata": {},
     "output_type": "execute_result"
    }
   ],
   "source": [
    "metric_frame.overall"
   ]
  },
  {
   "cell_type": "markdown",
   "id": "d93333c9",
   "metadata": {
    "papermill": {
     "duration": 0.013735,
     "end_time": "2025-08-19T18:24:49.070064",
     "exception": false,
     "start_time": "2025-08-19T18:24:49.056329",
     "status": "completed"
    },
    "tags": []
   },
   "source": [
    "By Group"
   ]
  },
  {
   "cell_type": "code",
   "execution_count": 60,
   "id": "52256966",
   "metadata": {
    "execution": {
     "iopub.execute_input": "2025-08-19T18:24:49.098465Z",
     "iopub.status.busy": "2025-08-19T18:24:49.097274Z",
     "iopub.status.idle": "2025-08-19T18:24:49.120350Z",
     "shell.execute_reply": "2025-08-19T18:24:49.119352Z"
    },
    "papermill": {
     "duration": 0.038984,
     "end_time": "2025-08-19T18:24:49.121915",
     "exception": false,
     "start_time": "2025-08-19T18:24:49.082931",
     "status": "completed"
    },
    "tags": []
   },
   "outputs": [
    {
     "data": {
      "text/html": [
       "<div>\n",
       "<style scoped>\n",
       "    .dataframe tbody tr th:only-of-type {\n",
       "        vertical-align: middle;\n",
       "    }\n",
       "\n",
       "    .dataframe tbody tr th {\n",
       "        vertical-align: top;\n",
       "    }\n",
       "\n",
       "    .dataframe thead th {\n",
       "        text-align: right;\n",
       "    }\n",
       "</style>\n",
       "<table border=\"1\" class=\"dataframe\">\n",
       "  <thead>\n",
       "    <tr style=\"text-align: right;\">\n",
       "      <th></th>\n",
       "      <th>accuracy</th>\n",
       "      <th>balanced accuracy</th>\n",
       "      <th>f1</th>\n",
       "      <th>precision</th>\n",
       "      <th>false positive rate</th>\n",
       "      <th>false negative rate</th>\n",
       "      <th>selection rate</th>\n",
       "      <th>count</th>\n",
       "    </tr>\n",
       "    <tr>\n",
       "      <th>majmin</th>\n",
       "      <th></th>\n",
       "      <th></th>\n",
       "      <th></th>\n",
       "      <th></th>\n",
       "      <th></th>\n",
       "      <th></th>\n",
       "      <th></th>\n",
       "      <th></th>\n",
       "    </tr>\n",
       "  </thead>\n",
       "  <tbody>\n",
       "    <tr>\n",
       "      <th>majority</th>\n",
       "      <td>0.194347</td>\n",
       "      <td>0.531806</td>\n",
       "      <td>0.245229</td>\n",
       "      <td>0.139938</td>\n",
       "      <td>0.926870</td>\n",
       "      <td>0.009519</td>\n",
       "      <td>0.935275</td>\n",
       "      <td>69170.0</td>\n",
       "    </tr>\n",
       "    <tr>\n",
       "      <th>minority</th>\n",
       "      <td>0.192162</td>\n",
       "      <td>0.526919</td>\n",
       "      <td>0.215424</td>\n",
       "      <td>0.121293</td>\n",
       "      <td>0.908155</td>\n",
       "      <td>0.038007</td>\n",
       "      <td>0.914362</td>\n",
       "      <td>20540.0</td>\n",
       "    </tr>\n",
       "  </tbody>\n",
       "</table>\n",
       "</div>"
      ],
      "text/plain": [
       "          accuracy  balanced accuracy        f1  precision  \\\n",
       "majmin                                                       \n",
       "majority  0.194347           0.531806  0.245229   0.139938   \n",
       "minority  0.192162           0.526919  0.215424   0.121293   \n",
       "\n",
       "          false positive rate  false negative rate  selection rate    count  \n",
       "majmin                                                                       \n",
       "majority             0.926870             0.009519        0.935275  69170.0  \n",
       "minority             0.908155             0.038007        0.914362  20540.0  "
      ]
     },
     "execution_count": 60,
     "metadata": {},
     "output_type": "execute_result"
    }
   ],
   "source": [
    "metric_frame.by_group"
   ]
  },
  {
   "cell_type": "code",
   "execution_count": 61,
   "id": "6e6c20ae",
   "metadata": {
    "execution": {
     "iopub.execute_input": "2025-08-19T18:24:49.161519Z",
     "iopub.status.busy": "2025-08-19T18:24:49.160327Z",
     "iopub.status.idle": "2025-08-19T18:24:51.114727Z",
     "shell.execute_reply": "2025-08-19T18:24:51.113591Z"
    },
    "papermill": {
     "duration": 1.970459,
     "end_time": "2025-08-19T18:24:51.116104",
     "exception": false,
     "start_time": "2025-08-19T18:24:49.145645",
     "status": "completed"
    },
    "tags": []
   },
   "outputs": [
    {
     "data": {
      "text/plain": [
       "array([[<Axes: title={'center': 'accuracy'}, xlabel='majmin'>,\n",
       "        <Axes: title={'center': 'balanced accuracy'}, xlabel='majmin'>,\n",
       "        <Axes: title={'center': 'f1'}, xlabel='majmin'>],\n",
       "       [<Axes: title={'center': 'precision'}, xlabel='majmin'>,\n",
       "        <Axes: title={'center': 'false positive rate'}, xlabel='majmin'>,\n",
       "        <Axes: title={'center': 'false negative rate'}, xlabel='majmin'>],\n",
       "       [<Axes: title={'center': 'selection rate'}, xlabel='majmin'>,\n",
       "        <Axes: title={'center': 'count'}, xlabel='majmin'>,\n",
       "        <Axes: xlabel='majmin'>]], dtype=object)"
      ]
     },
     "execution_count": 61,
     "metadata": {},
     "output_type": "execute_result"
    },
    {
     "data": {
      "image/png": "[encoded data removed]",
      "text/plain": [
       "<Figure size 1200x800 with 9 Axes>"
      ]
     },
     "metadata": {},
     "output_type": "display_data"
    }
   ],
   "source": [
    "# In a graphic\n",
    "metric_frame.by_group.plot.bar(\n",
    "    subplots=True,\n",
    "    layout=[3, 3],\n",
    "    legend=False,\n",
    "    figsize=[12, 8],\n",
    "    title=\"Show all metrics\",\n",
    ")"
   ]
  },
  {
   "cell_type": "markdown",
   "id": "b2e433ae",
   "metadata": {
    "papermill": {
     "duration": 0.015584,
     "end_time": "2025-08-19T18:24:51.150908",
     "exception": false,
     "start_time": "2025-08-19T18:24:51.135324",
     "status": "completed"
    },
    "tags": []
   },
   "source": [
    "# Final Output"
   ]
  },
  {
   "cell_type": "code",
   "execution_count": 62,
   "id": "3871301e",
   "metadata": {
    "execution": {
     "iopub.execute_input": "2025-08-19T18:24:51.186319Z",
     "iopub.status.busy": "2025-08-19T18:24:51.183983Z",
     "iopub.status.idle": "2025-08-19T18:24:51.201527Z",
     "shell.execute_reply": "2025-08-19T18:24:51.200590Z"
    },
    "papermill": {
     "duration": 0.05197,
     "end_time": "2025-08-19T18:24:51.216376",
     "exception": false,
     "start_time": "2025-08-19T18:24:51.164406",
     "status": "completed"
    },
    "tags": []
   },
   "outputs": [
    {
     "data": {
      "text/plain": [
       "4"
      ]
     },
     "execution_count": 62,
     "metadata": {},
     "output_type": "execute_result"
    }
   ],
   "source": [
    "sub_universes = universe_analysis.generate_sub_universes()\n",
    "len(sub_universes)"
   ]
  },
  {
   "cell_type": "code",
   "execution_count": 63,
   "id": "d9cfdaca",
   "metadata": {
    "execution": {
     "iopub.execute_input": "2025-08-19T18:24:51.258383Z",
     "iopub.status.busy": "2025-08-19T18:24:51.257657Z",
     "iopub.status.idle": "2025-08-19T18:24:51.270648Z",
     "shell.execute_reply": "2025-08-19T18:24:51.269020Z"
    },
    "papermill": {
     "duration": 0.035419,
     "end_time": "2025-08-19T18:24:51.276116",
     "exception": false,
     "start_time": "2025-08-19T18:24:51.240697",
     "status": "completed"
    },
    "tags": []
   },
   "outputs": [],
   "source": [
    "def filter_sub_universe_data(sub_universe, org_test):\n",
    "    # Keep all rows — no filtering\n",
    "    keep_rows_mask = np.ones(org_test.shape[0], dtype=bool)\n",
    "\n",
    "    print(f\"[INFO] Keeping all rows: {keep_rows_mask.sum()} rows retained.\")\n",
    "    return keep_rows_mask"
   ]
  },
  {
   "cell_type": "code",
   "execution_count": 64,
   "id": "2bc31ac1",
   "metadata": {
    "execution": {
     "iopub.execute_input": "2025-08-19T18:24:51.317336Z",
     "iopub.status.busy": "2025-08-19T18:24:51.316592Z",
     "iopub.status.idle": "2025-08-19T18:24:58.008557Z",
     "shell.execute_reply": "2025-08-19T18:24:58.005049Z"
    },
    "papermill": {
     "duration": 6.709818,
     "end_time": "2025-08-19T18:24:58.009859",
     "exception": false,
     "start_time": "2025-08-19T18:24:51.300041",
     "status": "completed"
    },
    "tags": []
   },
   "outputs": [
    {
     "name": "stdout",
     "output_type": "stream",
     "text": [
      "Stopping execution_time clock.\n",
      "[INFO] Keeping all rows: 89710 rows retained.\n"
     ]
    },
    {
     "name": "stdout",
     "output_type": "stream",
     "text": [
      "[INFO] Keeping all rows: 89710 rows retained.\n"
     ]
    },
    {
     "name": "stdout",
     "output_type": "stream",
     "text": [
      "[INFO] Keeping all rows: 89710 rows retained.\n"
     ]
    },
    {
     "name": "stdout",
     "output_type": "stream",
     "text": [
      "[INFO] Keeping all rows: 89710 rows retained.\n"
     ]
    },
    {
     "data": {
      "text/html": [
       "<div>\n",
       "<style scoped>\n",
       "    .dataframe tbody tr th:only-of-type {\n",
       "        vertical-align: middle;\n",
       "    }\n",
       "\n",
       "    .dataframe tbody tr th {\n",
       "        vertical-align: top;\n",
       "    }\n",
       "\n",
       "    .dataframe thead th {\n",
       "        text-align: right;\n",
       "    }\n",
       "</style>\n",
       "<table border=\"1\" class=\"dataframe\">\n",
       "  <thead>\n",
       "    <tr style=\"text-align: right;\">\n",
       "      <th></th>\n",
       "      <th>run_no</th>\n",
       "      <th>universe_id</th>\n",
       "      <th>universe_settings</th>\n",
       "      <th>execution_time</th>\n",
       "      <th>test_size_n</th>\n",
       "      <th>test_size_frac</th>\n",
       "      <th>fair_main_equalized_odds_difference</th>\n",
       "      <th>fair_main_equalized_odds_ratio</th>\n",
       "      <th>fair_main_demographic_parity_difference</th>\n",
       "      <th>fair_main_demographic_parity_ratio</th>\n",
       "      <th>...</th>\n",
       "      <th>perf_grp_precision_0</th>\n",
       "      <th>perf_grp_precision_1</th>\n",
       "      <th>perf_grp_false positive rate_0</th>\n",
       "      <th>perf_grp_false positive rate_1</th>\n",
       "      <th>perf_grp_false negative rate_0</th>\n",
       "      <th>perf_grp_false negative rate_1</th>\n",
       "      <th>perf_grp_selection rate_0</th>\n",
       "      <th>perf_grp_selection rate_1</th>\n",
       "      <th>perf_grp_count_0</th>\n",
       "      <th>perf_grp_count_1</th>\n",
       "    </tr>\n",
       "  </thead>\n",
       "  <tbody>\n",
       "    <tr>\n",
       "      <th>0</th>\n",
       "      <td>3</td>\n",
       "      <td>a457ffe572c7335c47a8cfe0cca654b8</td>\n",
       "      <td>{\"cutoff\": \"quantile_0.1\", \"eval_fairness_grou...</td>\n",
       "      <td>28.574347</td>\n",
       "      <td>89710</td>\n",
       "      <td>1.0</td>\n",
       "      <td>0.028488</td>\n",
       "      <td>0.971238</td>\n",
       "      <td>0.020913</td>\n",
       "      <td>0.977640</td>\n",
       "      <td>...</td>\n",
       "      <td>NaN</td>\n",
       "      <td>NaN</td>\n",
       "      <td>NaN</td>\n",
       "      <td>NaN</td>\n",
       "      <td>NaN</td>\n",
       "      <td>NaN</td>\n",
       "      <td>NaN</td>\n",
       "      <td>NaN</td>\n",
       "      <td>NaN</td>\n",
       "      <td>NaN</td>\n",
       "    </tr>\n",
       "    <tr>\n",
       "      <th>0</th>\n",
       "      <td>3</td>\n",
       "      <td>a457ffe572c7335c47a8cfe0cca654b8</td>\n",
       "      <td>{\"cutoff\": \"quantile_0.1\", \"eval_fairness_grou...</td>\n",
       "      <td>28.574347</td>\n",
       "      <td>89710</td>\n",
       "      <td>1.0</td>\n",
       "      <td>0.028488</td>\n",
       "      <td>0.971238</td>\n",
       "      <td>0.020913</td>\n",
       "      <td>0.977640</td>\n",
       "      <td>...</td>\n",
       "      <td>0.121293</td>\n",
       "      <td>0.139938</td>\n",
       "      <td>0.908155</td>\n",
       "      <td>0.926870</td>\n",
       "      <td>0.038007</td>\n",
       "      <td>0.009519</td>\n",
       "      <td>0.914362</td>\n",
       "      <td>0.935275</td>\n",
       "      <td>20540.0</td>\n",
       "      <td>69170.0</td>\n",
       "    </tr>\n",
       "    <tr>\n",
       "      <th>0</th>\n",
       "      <td>3</td>\n",
       "      <td>a457ffe572c7335c47a8cfe0cca654b8</td>\n",
       "      <td>{\"cutoff\": \"quantile_0.25\", \"eval_fairness_gro...</td>\n",
       "      <td>28.574347</td>\n",
       "      <td>89710</td>\n",
       "      <td>1.0</td>\n",
       "      <td>0.089155</td>\n",
       "      <td>0.906175</td>\n",
       "      <td>0.051521</td>\n",
       "      <td>0.933374</td>\n",
       "      <td>...</td>\n",
       "      <td>NaN</td>\n",
       "      <td>NaN</td>\n",
       "      <td>NaN</td>\n",
       "      <td>NaN</td>\n",
       "      <td>NaN</td>\n",
       "      <td>NaN</td>\n",
       "      <td>NaN</td>\n",
       "      <td>NaN</td>\n",
       "      <td>NaN</td>\n",
       "      <td>NaN</td>\n",
       "    </tr>\n",
       "    <tr>\n",
       "      <th>0</th>\n",
       "      <td>3</td>\n",
       "      <td>a457ffe572c7335c47a8cfe0cca654b8</td>\n",
       "      <td>{\"cutoff\": \"quantile_0.25\", \"eval_fairness_gro...</td>\n",
       "      <td>28.574347</td>\n",
       "      <td>89710</td>\n",
       "      <td>1.0</td>\n",
       "      <td>0.089155</td>\n",
       "      <td>0.906175</td>\n",
       "      <td>0.051521</td>\n",
       "      <td>0.933374</td>\n",
       "      <td>...</td>\n",
       "      <td>0.137538</td>\n",
       "      <td>0.162373</td>\n",
       "      <td>0.703610</td>\n",
       "      <td>0.746343</td>\n",
       "      <td>0.138936</td>\n",
       "      <td>0.049781</td>\n",
       "      <td>0.721762</td>\n",
       "      <td>0.773283</td>\n",
       "      <td>20540.0</td>\n",
       "      <td>69170.0</td>\n",
       "    </tr>\n",
       "  </tbody>\n",
       "</table>\n",
       "<p>4 rows × 50 columns</p>\n",
       "</div>"
      ],
      "text/plain": [
       "  run_no                       universe_id  \\\n",
       "0      3  a457ffe572c7335c47a8cfe0cca654b8   \n",
       "0      3  a457ffe572c7335c47a8cfe0cca654b8   \n",
       "0      3  a457ffe572c7335c47a8cfe0cca654b8   \n",
       "0      3  a457ffe572c7335c47a8cfe0cca654b8   \n",
       "\n",
       "                                   universe_settings  execution_time  \\\n",
       "0  {\"cutoff\": \"quantile_0.1\", \"eval_fairness_grou...       28.574347   \n",
       "0  {\"cutoff\": \"quantile_0.1\", \"eval_fairness_grou...       28.574347   \n",
       "0  {\"cutoff\": \"quantile_0.25\", \"eval_fairness_gro...       28.574347   \n",
       "0  {\"cutoff\": \"quantile_0.25\", \"eval_fairness_gro...       28.574347   \n",
       "\n",
       "   test_size_n  test_size_frac  fair_main_equalized_odds_difference  \\\n",
       "0        89710             1.0                             0.028488   \n",
       "0        89710             1.0                             0.028488   \n",
       "0        89710             1.0                             0.089155   \n",
       "0        89710             1.0                             0.089155   \n",
       "\n",
       "   fair_main_equalized_odds_ratio  fair_main_demographic_parity_difference  \\\n",
       "0                        0.971238                                 0.020913   \n",
       "0                        0.971238                                 0.020913   \n",
       "0                        0.906175                                 0.051521   \n",
       "0                        0.906175                                 0.051521   \n",
       "\n",
       "   fair_main_demographic_parity_ratio  ...  perf_grp_precision_0  \\\n",
       "0                            0.977640  ...                   NaN   \n",
       "0                            0.977640  ...              0.121293   \n",
       "0                            0.933374  ...                   NaN   \n",
       "0                            0.933374  ...              0.137538   \n",
       "\n",
       "   perf_grp_precision_1  perf_grp_false positive rate_0  \\\n",
       "0                   NaN                             NaN   \n",
       "0              0.139938                        0.908155   \n",
       "0                   NaN                             NaN   \n",
       "0              0.162373                        0.703610   \n",
       "\n",
       "   perf_grp_false positive rate_1  perf_grp_false negative rate_0  \\\n",
       "0                             NaN                             NaN   \n",
       "0                        0.926870                        0.038007   \n",
       "0                             NaN                             NaN   \n",
       "0                        0.746343                        0.138936   \n",
       "\n",
       "   perf_grp_false negative rate_1  perf_grp_selection rate_0  \\\n",
       "0                             NaN                        NaN   \n",
       "0                        0.009519                   0.914362   \n",
       "0                             NaN                        NaN   \n",
       "0                        0.049781                   0.721762   \n",
       "\n",
       "   perf_grp_selection rate_1  perf_grp_count_0  perf_grp_count_1  \n",
       "0                        NaN               NaN               NaN  \n",
       "0                   0.935275           20540.0           69170.0  \n",
       "0                        NaN               NaN               NaN  \n",
       "0                   0.773283           20540.0           69170.0  \n",
       "\n",
       "[4 rows x 50 columns]"
      ]
     },
     "execution_count": 64,
     "metadata": {},
     "output_type": "execute_result"
    }
   ],
   "source": [
    "final_output = universe_analysis.generate_final_output(\n",
    "    y_pred_prob=probs_test,\n",
    "    y_test=y_true,\n",
    "    org_test=org_test,\n",
    "    filter_data=filter_sub_universe_data,\n",
    "    cp_metrics_df=cp_metrics_df,\n",
    "    save=True,\n",
    ")\n",
    "final_output"
   ]
  },
  {
   "cell_type": "code",
   "execution_count": null,
   "id": "8b80a1ff",
   "metadata": {
    "papermill": {
     "duration": 0.014407,
     "end_time": "2025-08-19T18:24:58.041885",
     "exception": false,
     "start_time": "2025-08-19T18:24:58.027478",
     "status": "completed"
    },
    "tags": []
   },
   "outputs": [],
   "source": []
  },
  {
   "cell_type": "code",
   "execution_count": null,
   "id": "275c9fad",
   "metadata": {
    "papermill": {
     "duration": 0.015953,
     "end_time": "2025-08-19T18:24:58.072228",
     "exception": false,
     "start_time": "2025-08-19T18:24:58.056275",
     "status": "completed"
    },
    "tags": []
   },
   "outputs": [],
   "source": []
  }
 ],
 "metadata": {
  "celltoolbar": "Tags",
  "kernelspec": {
   "display_name": "Python (CMA Fairness)",
   "language": "python",
   "name": "cma_fair_env"
  },
  "language_info": {
   "codemirror_mode": {
    "name": "ipython",
    "version": 3
   },
   "file_extension": ".py",
   "mimetype": "text/x-python",
   "name": "python",
   "nbconvert_exporter": "python",
   "pygments_lexer": "ipython3",
   "version": "3.10.12"
  },
  "papermill": {
   "default_parameters": {},
   "duration": 39.562476,
   "end_time": "2025-08-19T18:24:58.908774",
   "environment_variables": {},
   "exception": null,
   "input_path": "universe_analysis.ipynb",
   "output_path": "output/runs/3/notebooks/m_3-a457ffe572c7335c47a8cfe0cca654b8.ipynb",
   "parameters": {
    "output_dir": "output",
    "run_no": "3",
    "seed": "2023",
    "universe": "{\"cutoff\": [\"quantile_0.1\", \"quantile_0.25\"], \"eval_fairness_grouping\": [\"majority-minority\", \"nationality-all\"], \"exclude_features\": \"sex\", \"exclude_subgroups\": \"keep-all\", \"model\": \"rf\", \"scale\": \"scale\", \"training_size\": \"5k\", \"training_year\": \"2014\"}",
    "universe_id": "a457ffe572c7335c47a8cfe0cca654b8"
   },
   "start_time": "2025-08-19T18:24:19.346298",
   "version": "2.6.0"
  }
 },
 "nbformat": 4,
 "nbformat_minor": 5
}