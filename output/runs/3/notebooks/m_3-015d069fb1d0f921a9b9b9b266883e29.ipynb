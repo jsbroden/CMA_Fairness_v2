{
 "cells": [
  {
   "cell_type": "markdown",
   "id": "ef23dbb3",
   "metadata": {
    "papermill": {
     "duration": 0.013375,
     "end_time": "2025-08-19T18:09:30.557916",
     "exception": false,
     "start_time": "2025-08-19T18:09:30.544541",
     "status": "completed"
    },
    "tags": []
   },
   "source": [
    "# Setup"
   ]
  },
  {
   "cell_type": "code",
   "execution_count": 1,
   "id": "0bc8e7dc",
   "metadata": {
    "execution": {
     "iopub.execute_input": "2025-08-19T18:09:30.594435Z",
     "iopub.status.busy": "2025-08-19T18:09:30.594125Z",
     "iopub.status.idle": "2025-08-19T18:09:30.607619Z",
     "shell.execute_reply": "2025-08-19T18:09:30.606553Z"
    },
    "papermill": {
     "duration": 0.030635,
     "end_time": "2025-08-19T18:09:30.610865",
     "exception": false,
     "start_time": "2025-08-19T18:09:30.580230",
     "status": "completed"
    },
    "tags": []
   },
   "outputs": [
    {
     "name": "stdout",
     "output_type": "stream",
     "text": [
      "/dss/dsshome1/0C/ra93lal2/cma/CMA_Fairness_v2\n"
     ]
    },
    {
     "name": "stderr",
     "output_type": "stream",
     "text": [
      "/dss/dsshome1/0C/ra93lal2/.local/share/virtualenvs/CMA_Fairness_v2-3j10GkSs/lib/python3.10/site-packages/IPython/core/magics/osm.py:393: UserWarning: This is now an optional IPython functionality, using bookmarks requires you to install the `pickleshare` library.\n",
      "  bkms = self.shell.db.get('bookmarks', {})\n",
      "/dss/dsshome1/0C/ra93lal2/.local/share/virtualenvs/CMA_Fairness_v2-3j10GkSs/lib/python3.10/site-packages/IPython/core/magics/osm.py:417: UserWarning: This is now an optional IPython functionality, setting dhist requires you to install the `pickleshare` library.\n",
      "  self.shell.db['dhist'] = compress_dhist(dhist)[-100:]\n"
     ]
    }
   ],
   "source": [
    "%cd ~/cma/CMA_Fairness_v2"
   ]
  },
  {
   "cell_type": "markdown",
   "id": "9d235661",
   "metadata": {
    "papermill": {
     "duration": 0.009732,
     "end_time": "2025-08-19T18:09:30.630517",
     "exception": false,
     "start_time": "2025-08-19T18:09:30.620785",
     "status": "completed"
    },
    "tags": []
   },
   "source": [
    "The following cell holds the definition of our parameters, these values can be overriden by rendering the with e.g. the following command:\n",
    "\n",
    "papermill -p alpha 0.2 -p ratio 0.3 universe_analysis.ipynb output/test_run.ipynb"
   ]
  },
  {
   "cell_type": "code",
   "execution_count": 2,
   "id": "4a789d8e",
   "metadata": {
    "execution": {
     "iopub.execute_input": "2025-08-19T18:09:30.649679Z",
     "iopub.status.busy": "2025-08-19T18:09:30.649387Z",
     "iopub.status.idle": "2025-08-19T18:09:30.657347Z",
     "shell.execute_reply": "2025-08-19T18:09:30.655869Z"
    },
    "papermill": {
     "duration": 0.019938,
     "end_time": "2025-08-19T18:09:30.659438",
     "exception": false,
     "start_time": "2025-08-19T18:09:30.639500",
     "status": "completed"
    },
    "tags": []
   },
   "outputs": [
    {
     "name": "stdout",
     "output_type": "stream",
     "text": [
      "Current working directory: /dss/dsshome1/0C/ra93lal2/cma/CMA_Fairness_v2\n"
     ]
    }
   ],
   "source": [
    "import os\n",
    "print(\"Current working directory:\", os.getcwd())"
   ]
  },
  {
   "cell_type": "code",
   "execution_count": 3,
   "id": "4132aaed",
   "metadata": {
    "execution": {
     "iopub.execute_input": "2025-08-19T18:09:30.681821Z",
     "iopub.status.busy": "2025-08-19T18:09:30.681017Z",
     "iopub.status.idle": "2025-08-19T18:09:30.689664Z",
     "shell.execute_reply": "2025-08-19T18:09:30.688201Z"
    },
    "papermill": {
     "duration": 0.02537,
     "end_time": "2025-08-19T18:09:30.694950",
     "exception": false,
     "start_time": "2025-08-19T18:09:30.669580",
     "status": "completed"
    },
    "tags": [
     "parameters"
    ]
   },
   "outputs": [],
   "source": [
    "run_no = 0\n",
    "universe_id = \"test\"\n",
    "universe = {\n",
    "    \"training_size\": \"5k\", # \"25k\", \"5k\", \"1k\"\n",
    "    \"training_year\": \"2012_14\", # \"2014\", \"2012_14\", \"2010_14\"\n",
    "    \"scale\": \"scale\", # \"scale\", \"do-not-scale\",\n",
    "    \"model\": \"elasticnet\", # \"logreg\", \"penalized_logreg\", \"rf\", \"gbm\", \"elasticnet\"\n",
    "    \"cutoff\": [\"quantile_0.15\", \"quantile_0.30\"],\n",
    "    \"exclude_features\": \"age\", # \"none\", \"nationality\", \"sex\", \"nationality-sex\", \"age\"\n",
    "    \"exclude_subgroups\": \"drop-non-german\", # \"keep-all\", \"drop-non-german\"\n",
    "    \"eval_fairness_grouping\": [\"majority-minority\", \"nationality-all\"]\n",
    "}\n",
    "\n",
    "output_dir=\"./output\"\n",
    "seed=0"
   ]
  },
  {
   "cell_type": "code",
   "execution_count": 4,
   "id": "eedb6d6e",
   "metadata": {
    "execution": {
     "iopub.execute_input": "2025-08-19T18:09:30.727545Z",
     "iopub.status.busy": "2025-08-19T18:09:30.727152Z",
     "iopub.status.idle": "2025-08-19T18:09:30.734651Z",
     "shell.execute_reply": "2025-08-19T18:09:30.733783Z"
    },
    "papermill": {
     "duration": 0.020713,
     "end_time": "2025-08-19T18:09:30.736532",
     "exception": false,
     "start_time": "2025-08-19T18:09:30.715819",
     "status": "completed"
    },
    "tags": [
     "injected-parameters"
    ]
   },
   "outputs": [],
   "source": [
    "# Parameters\n",
    "universe_id = \"015d069fb1d0f921a9b9b9b266883e29\"\n",
    "run_no = \"3\"\n",
    "universe = \"{\\\"cutoff\\\": [\\\"quantile_0.1\\\", \\\"quantile_0.25\\\"], \\\"eval_fairness_grouping\\\": [\\\"majority-minority\\\", \\\"nationality-all\\\"], \\\"exclude_features\\\": \\\"nationality\\\", \\\"exclude_subgroups\\\": \\\"drop-non-german\\\", \\\"model\\\": \\\"rf\\\", \\\"scale\\\": \\\"do-not-scale\\\", \\\"training_size\\\": \\\"25k\\\", \\\"training_year\\\": \\\"2012_14\\\"}\"\n",
    "output_dir = \"output\"\n",
    "seed = \"2023\"\n"
   ]
  },
  {
   "cell_type": "code",
   "execution_count": 5,
   "id": "a5d7941f",
   "metadata": {
    "execution": {
     "iopub.execute_input": "2025-08-19T18:09:30.757892Z",
     "iopub.status.busy": "2025-08-19T18:09:30.757412Z",
     "iopub.status.idle": "2025-08-19T18:09:30.762817Z",
     "shell.execute_reply": "2025-08-19T18:09:30.761852Z"
    },
    "papermill": {
     "duration": 0.017482,
     "end_time": "2025-08-19T18:09:30.764670",
     "exception": false,
     "start_time": "2025-08-19T18:09:30.747188",
     "status": "completed"
    },
    "tags": []
   },
   "outputs": [],
   "source": [
    "import json\n",
    "if isinstance(universe, str):\n",
    "    universe = json.loads(universe)"
   ]
  },
  {
   "cell_type": "code",
   "execution_count": 6,
   "id": "7076ccb1",
   "metadata": {
    "execution": {
     "iopub.execute_input": "2025-08-19T18:09:30.785319Z",
     "iopub.status.busy": "2025-08-19T18:09:30.784954Z",
     "iopub.status.idle": "2025-08-19T18:09:30.838714Z",
     "shell.execute_reply": "2025-08-19T18:09:30.837838Z"
    },
    "papermill": {
     "duration": 0.066625,
     "end_time": "2025-08-19T18:09:30.841772",
     "exception": false,
     "start_time": "2025-08-19T18:09:30.775147",
     "status": "completed"
    },
    "tags": []
   },
   "outputs": [],
   "source": [
    "# Auto-reload the custom package\n",
    "%load_ext autoreload\n",
    "%autoreload 1\n",
    "%aimport fairness_multiverse"
   ]
  },
  {
   "cell_type": "code",
   "execution_count": 7,
   "id": "94c8eb93",
   "metadata": {
    "execution": {
     "iopub.execute_input": "2025-08-19T18:09:30.879327Z",
     "iopub.status.busy": "2025-08-19T18:09:30.878237Z",
     "iopub.status.idle": "2025-08-19T18:09:32.482864Z",
     "shell.execute_reply": "2025-08-19T18:09:32.481598Z"
    },
    "papermill": {
     "duration": 1.619923,
     "end_time": "2025-08-19T18:09:32.484605",
     "exception": false,
     "start_time": "2025-08-19T18:09:30.864682",
     "status": "completed"
    },
    "tags": []
   },
   "outputs": [],
   "source": [
    "from fairness_multiverse.universe import UniverseAnalysis\n",
    "\n",
    "universe_analysis = UniverseAnalysis(\n",
    "    run_no = run_no,\n",
    "    universe_id = universe_id,\n",
    "    universe = universe,\n",
    "    output_dir=output_dir,\n",
    ")"
   ]
  },
  {
   "cell_type": "code",
   "execution_count": 8,
   "id": "2a6381cf",
   "metadata": {
    "execution": {
     "iopub.execute_input": "2025-08-19T18:09:32.505311Z",
     "iopub.status.busy": "2025-08-19T18:09:32.504790Z",
     "iopub.status.idle": "2025-08-19T18:09:32.512748Z",
     "shell.execute_reply": "2025-08-19T18:09:32.511681Z"
    },
    "papermill": {
     "duration": 0.019829,
     "end_time": "2025-08-19T18:09:32.514209",
     "exception": false,
     "start_time": "2025-08-19T18:09:32.494380",
     "status": "completed"
    },
    "tags": []
   },
   "outputs": [
    {
     "name": "stdout",
     "output_type": "stream",
     "text": [
      "Using Seed: 2023\n"
     ]
    }
   ],
   "source": [
    "import numpy as np\n",
    "parsed_seed = int(seed)\n",
    "np.random.seed(parsed_seed)\n",
    "print(f\"Using Seed: {parsed_seed}\")"
   ]
  },
  {
   "cell_type": "markdown",
   "id": "b6e958b4",
   "metadata": {
    "papermill": {
     "duration": 0.009286,
     "end_time": "2025-08-19T18:09:32.532957",
     "exception": false,
     "start_time": "2025-08-19T18:09:32.523671",
     "status": "completed"
    },
    "tags": []
   },
   "source": [
    "# Loading Data"
   ]
  },
  {
   "cell_type": "code",
   "execution_count": 9,
   "id": "98701482",
   "metadata": {
    "execution": {
     "iopub.execute_input": "2025-08-19T18:09:32.553124Z",
     "iopub.status.busy": "2025-08-19T18:09:32.552601Z",
     "iopub.status.idle": "2025-08-19T18:09:42.729567Z",
     "shell.execute_reply": "2025-08-19T18:09:42.728584Z"
    },
    "papermill": {
     "duration": 10.188594,
     "end_time": "2025-08-19T18:09:42.730873",
     "exception": false,
     "start_time": "2025-08-19T18:09:32.542279",
     "status": "completed"
    },
    "tags": []
   },
   "outputs": [
    {
     "name": "stdout",
     "output_type": "stream",
     "text": [
      "Loading SIAB data from cache: data/siab_cached.csv.gz\n"
     ]
    },
    {
     "name": "stdout",
     "output_type": "stream",
     "text": [
      "(643690, 164)\n"
     ]
    }
   ],
   "source": [
    "from pathlib import Path\n",
    "import pandas as pd\n",
    "\n",
    "# File paths\n",
    "raw_file = Path(\"data/raw/siab.csv\")\n",
    "cache_file = Path(\"data/siab_cached.csv.gz\")\n",
    "\n",
    "# Ensure cache directory exists\n",
    "cache_file.parent.mkdir(parents=True, exist_ok=True)\n",
    "\n",
    "# Load with simple caching\n",
    "if cache_file.exists():\n",
    "    print(f\"Loading SIAB data from cache: {cache_file}\")\n",
    "    siab = pd.read_csv(cache_file, compression='gzip')\n",
    "else:\n",
    "    print(f\"Cache not found. Reading raw SIAB data: {raw_file}\")\n",
    "    siab = pd.read_csv(raw_file)\n",
    "    siab.to_csv(cache_file, index=False, compression='gzip')\n",
    "    print(f\"Cached SIAB data to: {cache_file}\")\n",
    "\n",
    "print(siab.shape)"
   ]
  },
  {
   "cell_type": "code",
   "execution_count": 10,
   "id": "058d2abb",
   "metadata": {
    "execution": {
     "iopub.execute_input": "2025-08-19T18:09:42.756318Z",
     "iopub.status.busy": "2025-08-19T18:09:42.755793Z",
     "iopub.status.idle": "2025-08-19T18:09:42.882176Z",
     "shell.execute_reply": "2025-08-19T18:09:42.881406Z"
    },
    "papermill": {
     "duration": 0.140987,
     "end_time": "2025-08-19T18:09:42.885527",
     "exception": false,
     "start_time": "2025-08-19T18:09:42.744540",
     "status": "completed"
    },
    "tags": []
   },
   "outputs": [
    {
     "data": {
      "text/html": [
       "<div>\n",
       "<style scoped>\n",
       "    .dataframe tbody tr th:only-of-type {\n",
       "        vertical-align: middle;\n",
       "    }\n",
       "\n",
       "    .dataframe tbody tr th {\n",
       "        vertical-align: top;\n",
       "    }\n",
       "\n",
       "    .dataframe thead th {\n",
       "        text-align: right;\n",
       "    }\n",
       "</style>\n",
       "<table border=\"1\" class=\"dataframe\">\n",
       "  <thead>\n",
       "    <tr style=\"text-align: right;\">\n",
       "      <th></th>\n",
       "      <th>persnr</th>\n",
       "      <th>year</th>\n",
       "      <th>nrEntry</th>\n",
       "      <th>ltue</th>\n",
       "      <th>employed_before</th>\n",
       "      <th>receipt_leh_before</th>\n",
       "      <th>receipt_lhg_before</th>\n",
       "      <th>se_before</th>\n",
       "      <th>ASU_notue_seeking_before</th>\n",
       "      <th>ASU_other_before</th>\n",
       "      <th>...</th>\n",
       "      <th>minijob_tot_dur_byage</th>\n",
       "      <th>ft_tot_dur_byage</th>\n",
       "      <th>befrist_tot_dur_byage</th>\n",
       "      <th>leih_tot_dur_byage</th>\n",
       "      <th>LHG_tot_dur_byage</th>\n",
       "      <th>LEH_tot_dur_byage</th>\n",
       "      <th>almp_tot_dur_byage</th>\n",
       "      <th>almp_aw_tot_dur_byage</th>\n",
       "      <th>se_tot_dur_byage</th>\n",
       "      <th>seeking1_tot_dur_byage</th>\n",
       "    </tr>\n",
       "  </thead>\n",
       "  <tbody>\n",
       "    <tr>\n",
       "      <th>0</th>\n",
       "      <td>7</td>\n",
       "      <td>2015</td>\n",
       "      <td>1</td>\n",
       "      <td>0</td>\n",
       "      <td>1</td>\n",
       "      <td>0</td>\n",
       "      <td>0</td>\n",
       "      <td>0</td>\n",
       "      <td>1</td>\n",
       "      <td>0</td>\n",
       "      <td>...</td>\n",
       "      <td>0.000000</td>\n",
       "      <td>0.000000</td>\n",
       "      <td>15.043478</td>\n",
       "      <td>0.000000</td>\n",
       "      <td>0.000000</td>\n",
       "      <td>0.000000</td>\n",
       "      <td>0.000000</td>\n",
       "      <td>0.000000</td>\n",
       "      <td>0.000000</td>\n",
       "      <td>0.000000</td>\n",
       "    </tr>\n",
       "    <tr>\n",
       "      <th>1</th>\n",
       "      <td>18</td>\n",
       "      <td>2010</td>\n",
       "      <td>1</td>\n",
       "      <td>1</td>\n",
       "      <td>0</td>\n",
       "      <td>0</td>\n",
       "      <td>0</td>\n",
       "      <td>0</td>\n",
       "      <td>0</td>\n",
       "      <td>0</td>\n",
       "      <td>...</td>\n",
       "      <td>0.000000</td>\n",
       "      <td>0.000000</td>\n",
       "      <td>0.000000</td>\n",
       "      <td>0.000000</td>\n",
       "      <td>0.000000</td>\n",
       "      <td>0.000000</td>\n",
       "      <td>0.000000</td>\n",
       "      <td>0.000000</td>\n",
       "      <td>0.000000</td>\n",
       "      <td>0.000000</td>\n",
       "    </tr>\n",
       "    <tr>\n",
       "      <th>2</th>\n",
       "      <td>18</td>\n",
       "      <td>2011</td>\n",
       "      <td>2</td>\n",
       "      <td>0</td>\n",
       "      <td>1</td>\n",
       "      <td>0</td>\n",
       "      <td>1</td>\n",
       "      <td>0</td>\n",
       "      <td>1</td>\n",
       "      <td>0</td>\n",
       "      <td>...</td>\n",
       "      <td>2.714286</td>\n",
       "      <td>2.714286</td>\n",
       "      <td>0.000000</td>\n",
       "      <td>0.000000</td>\n",
       "      <td>10.775510</td>\n",
       "      <td>0.000000</td>\n",
       "      <td>8.367347</td>\n",
       "      <td>0.000000</td>\n",
       "      <td>0.000000</td>\n",
       "      <td>9.836735</td>\n",
       "    </tr>\n",
       "    <tr>\n",
       "      <th>3</th>\n",
       "      <td>18</td>\n",
       "      <td>2012</td>\n",
       "      <td>3</td>\n",
       "      <td>0</td>\n",
       "      <td>1</td>\n",
       "      <td>0</td>\n",
       "      <td>1</td>\n",
       "      <td>0</td>\n",
       "      <td>1</td>\n",
       "      <td>0</td>\n",
       "      <td>...</td>\n",
       "      <td>4.200000</td>\n",
       "      <td>4.200000</td>\n",
       "      <td>0.000000</td>\n",
       "      <td>0.000000</td>\n",
       "      <td>12.100000</td>\n",
       "      <td>0.000000</td>\n",
       "      <td>9.400000</td>\n",
       "      <td>0.000000</td>\n",
       "      <td>0.000000</td>\n",
       "      <td>9.960000</td>\n",
       "    </tr>\n",
       "    <tr>\n",
       "      <th>4</th>\n",
       "      <td>18</td>\n",
       "      <td>2012</td>\n",
       "      <td>4</td>\n",
       "      <td>0</td>\n",
       "      <td>1</td>\n",
       "      <td>0</td>\n",
       "      <td>1</td>\n",
       "      <td>0</td>\n",
       "      <td>1</td>\n",
       "      <td>0</td>\n",
       "      <td>...</td>\n",
       "      <td>5.460000</td>\n",
       "      <td>5.460000</td>\n",
       "      <td>0.000000</td>\n",
       "      <td>0.000000</td>\n",
       "      <td>13.360000</td>\n",
       "      <td>0.000000</td>\n",
       "      <td>10.320000</td>\n",
       "      <td>0.000000</td>\n",
       "      <td>0.000000</td>\n",
       "      <td>10.280000</td>\n",
       "    </tr>\n",
       "    <tr>\n",
       "      <th>...</th>\n",
       "      <td>...</td>\n",
       "      <td>...</td>\n",
       "      <td>...</td>\n",
       "      <td>...</td>\n",
       "      <td>...</td>\n",
       "      <td>...</td>\n",
       "      <td>...</td>\n",
       "      <td>...</td>\n",
       "      <td>...</td>\n",
       "      <td>...</td>\n",
       "      <td>...</td>\n",
       "      <td>...</td>\n",
       "      <td>...</td>\n",
       "      <td>...</td>\n",
       "      <td>...</td>\n",
       "      <td>...</td>\n",
       "      <td>...</td>\n",
       "      <td>...</td>\n",
       "      <td>...</td>\n",
       "      <td>...</td>\n",
       "      <td>...</td>\n",
       "    </tr>\n",
       "    <tr>\n",
       "      <th>643685</th>\n",
       "      <td>1827860</td>\n",
       "      <td>2013</td>\n",
       "      <td>1</td>\n",
       "      <td>0</td>\n",
       "      <td>0</td>\n",
       "      <td>0</td>\n",
       "      <td>1</td>\n",
       "      <td>0</td>\n",
       "      <td>0</td>\n",
       "      <td>1</td>\n",
       "      <td>...</td>\n",
       "      <td>0.000000</td>\n",
       "      <td>0.000000</td>\n",
       "      <td>0.000000</td>\n",
       "      <td>0.000000</td>\n",
       "      <td>0.612903</td>\n",
       "      <td>0.000000</td>\n",
       "      <td>0.000000</td>\n",
       "      <td>0.000000</td>\n",
       "      <td>0.000000</td>\n",
       "      <td>0.000000</td>\n",
       "    </tr>\n",
       "    <tr>\n",
       "      <th>643686</th>\n",
       "      <td>1827860</td>\n",
       "      <td>2015</td>\n",
       "      <td>2</td>\n",
       "      <td>1</td>\n",
       "      <td>0</td>\n",
       "      <td>0</td>\n",
       "      <td>1</td>\n",
       "      <td>0</td>\n",
       "      <td>1</td>\n",
       "      <td>0</td>\n",
       "      <td>...</td>\n",
       "      <td>0.000000</td>\n",
       "      <td>0.000000</td>\n",
       "      <td>0.212121</td>\n",
       "      <td>0.212121</td>\n",
       "      <td>17.363636</td>\n",
       "      <td>0.000000</td>\n",
       "      <td>8.909091</td>\n",
       "      <td>0.000000</td>\n",
       "      <td>0.000000</td>\n",
       "      <td>7.121212</td>\n",
       "    </tr>\n",
       "    <tr>\n",
       "      <th>643687</th>\n",
       "      <td>1827860</td>\n",
       "      <td>2016</td>\n",
       "      <td>3</td>\n",
       "      <td>1</td>\n",
       "      <td>0</td>\n",
       "      <td>0</td>\n",
       "      <td>1</td>\n",
       "      <td>1</td>\n",
       "      <td>0</td>\n",
       "      <td>1</td>\n",
       "      <td>...</td>\n",
       "      <td>0.000000</td>\n",
       "      <td>0.000000</td>\n",
       "      <td>0.294118</td>\n",
       "      <td>0.205882</td>\n",
       "      <td>34.705882</td>\n",
       "      <td>0.000000</td>\n",
       "      <td>10.352941</td>\n",
       "      <td>1.705882</td>\n",
       "      <td>1.705882</td>\n",
       "      <td>23.911765</td>\n",
       "    </tr>\n",
       "    <tr>\n",
       "      <th>643688</th>\n",
       "      <td>1827869</td>\n",
       "      <td>2013</td>\n",
       "      <td>1</td>\n",
       "      <td>1</td>\n",
       "      <td>1</td>\n",
       "      <td>0</td>\n",
       "      <td>0</td>\n",
       "      <td>0</td>\n",
       "      <td>1</td>\n",
       "      <td>0</td>\n",
       "      <td>...</td>\n",
       "      <td>0.000000</td>\n",
       "      <td>0.000000</td>\n",
       "      <td>0.000000</td>\n",
       "      <td>0.000000</td>\n",
       "      <td>0.000000</td>\n",
       "      <td>0.525424</td>\n",
       "      <td>0.000000</td>\n",
       "      <td>0.000000</td>\n",
       "      <td>0.000000</td>\n",
       "      <td>0.000000</td>\n",
       "    </tr>\n",
       "    <tr>\n",
       "      <th>643689</th>\n",
       "      <td>1827869</td>\n",
       "      <td>2014</td>\n",
       "      <td>2</td>\n",
       "      <td>0</td>\n",
       "      <td>0</td>\n",
       "      <td>1</td>\n",
       "      <td>0</td>\n",
       "      <td>0</td>\n",
       "      <td>1</td>\n",
       "      <td>0</td>\n",
       "      <td>...</td>\n",
       "      <td>0.000000</td>\n",
       "      <td>0.666667</td>\n",
       "      <td>0.666667</td>\n",
       "      <td>0.000000</td>\n",
       "      <td>0.000000</td>\n",
       "      <td>8.950000</td>\n",
       "      <td>1.033333</td>\n",
       "      <td>0.083333</td>\n",
       "      <td>0.083333</td>\n",
       "      <td>8.133333</td>\n",
       "    </tr>\n",
       "  </tbody>\n",
       "</table>\n",
       "<p>643690 rows × 164 columns</p>\n",
       "</div>"
      ],
      "text/plain": [
       "         persnr  year  nrEntry  ltue  employed_before  receipt_leh_before  \\\n",
       "0             7  2015        1     0                1                   0   \n",
       "1            18  2010        1     1                0                   0   \n",
       "2            18  2011        2     0                1                   0   \n",
       "3            18  2012        3     0                1                   0   \n",
       "4            18  2012        4     0                1                   0   \n",
       "...         ...   ...      ...   ...              ...                 ...   \n",
       "643685  1827860  2013        1     0                0                   0   \n",
       "643686  1827860  2015        2     1                0                   0   \n",
       "643687  1827860  2016        3     1                0                   0   \n",
       "643688  1827869  2013        1     1                1                   0   \n",
       "643689  1827869  2014        2     0                0                   1   \n",
       "\n",
       "        receipt_lhg_before  se_before  ASU_notue_seeking_before  \\\n",
       "0                        0          0                         1   \n",
       "1                        0          0                         0   \n",
       "2                        1          0                         1   \n",
       "3                        1          0                         1   \n",
       "4                        1          0                         1   \n",
       "...                    ...        ...                       ...   \n",
       "643685                   1          0                         0   \n",
       "643686                   1          0                         1   \n",
       "643687                   1          1                         0   \n",
       "643688                   0          0                         1   \n",
       "643689                   0          0                         1   \n",
       "\n",
       "        ASU_other_before  ...  minijob_tot_dur_byage  ft_tot_dur_byage  \\\n",
       "0                      0  ...               0.000000          0.000000   \n",
       "1                      0  ...               0.000000          0.000000   \n",
       "2                      0  ...               2.714286          2.714286   \n",
       "3                      0  ...               4.200000          4.200000   \n",
       "4                      0  ...               5.460000          5.460000   \n",
       "...                  ...  ...                    ...               ...   \n",
       "643685                 1  ...               0.000000          0.000000   \n",
       "643686                 0  ...               0.000000          0.000000   \n",
       "643687                 1  ...               0.000000          0.000000   \n",
       "643688                 0  ...               0.000000          0.000000   \n",
       "643689                 0  ...               0.000000          0.666667   \n",
       "\n",
       "        befrist_tot_dur_byage  leih_tot_dur_byage  LHG_tot_dur_byage  \\\n",
       "0                   15.043478            0.000000           0.000000   \n",
       "1                    0.000000            0.000000           0.000000   \n",
       "2                    0.000000            0.000000          10.775510   \n",
       "3                    0.000000            0.000000          12.100000   \n",
       "4                    0.000000            0.000000          13.360000   \n",
       "...                       ...                 ...                ...   \n",
       "643685               0.000000            0.000000           0.612903   \n",
       "643686               0.212121            0.212121          17.363636   \n",
       "643687               0.294118            0.205882          34.705882   \n",
       "643688               0.000000            0.000000           0.000000   \n",
       "643689               0.666667            0.000000           0.000000   \n",
       "\n",
       "        LEH_tot_dur_byage  almp_tot_dur_byage  almp_aw_tot_dur_byage  \\\n",
       "0                0.000000            0.000000               0.000000   \n",
       "1                0.000000            0.000000               0.000000   \n",
       "2                0.000000            8.367347               0.000000   \n",
       "3                0.000000            9.400000               0.000000   \n",
       "4                0.000000           10.320000               0.000000   \n",
       "...                   ...                 ...                    ...   \n",
       "643685           0.000000            0.000000               0.000000   \n",
       "643686           0.000000            8.909091               0.000000   \n",
       "643687           0.000000           10.352941               1.705882   \n",
       "643688           0.525424            0.000000               0.000000   \n",
       "643689           8.950000            1.033333               0.083333   \n",
       "\n",
       "        se_tot_dur_byage  seeking1_tot_dur_byage  \n",
       "0               0.000000                0.000000  \n",
       "1               0.000000                0.000000  \n",
       "2               0.000000                9.836735  \n",
       "3               0.000000                9.960000  \n",
       "4               0.000000               10.280000  \n",
       "...                  ...                     ...  \n",
       "643685          0.000000                0.000000  \n",
       "643686          0.000000                7.121212  \n",
       "643687          1.705882               23.911765  \n",
       "643688          0.000000                0.000000  \n",
       "643689          0.083333                8.133333  \n",
       "\n",
       "[643690 rows x 164 columns]"
      ]
     },
     "execution_count": 10,
     "metadata": {},
     "output_type": "execute_result"
    }
   ],
   "source": [
    "siab"
   ]
  },
  {
   "cell_type": "markdown",
   "id": "1f87e805",
   "metadata": {
    "papermill": {
     "duration": 0.011989,
     "end_time": "2025-08-19T18:09:42.920039",
     "exception": false,
     "start_time": "2025-08-19T18:09:42.908050",
     "status": "completed"
    },
    "tags": []
   },
   "source": [
    "# Splitting Data and Setting Training Data Size"
   ]
  },
  {
   "cell_type": "code",
   "execution_count": 11,
   "id": "910ae358",
   "metadata": {
    "execution": {
     "iopub.execute_input": "2025-08-19T18:09:42.956975Z",
     "iopub.status.busy": "2025-08-19T18:09:42.941417Z",
     "iopub.status.idle": "2025-08-19T18:09:43.661551Z",
     "shell.execute_reply": "2025-08-19T18:09:43.660774Z"
    },
    "papermill": {
     "duration": 0.733216,
     "end_time": "2025-08-19T18:09:43.663126",
     "exception": false,
     "start_time": "2025-08-19T18:09:42.929910",
     "status": "completed"
    },
    "tags": []
   },
   "outputs": [],
   "source": [
    "from fairness_multiverse.universe import sample_by_year_size\n",
    "\n",
    "siab_train = sample_by_year_size(siab,\n",
    "                               training_year=universe[\"training_year\"],\n",
    "                               training_size=universe[\"training_size\"])"
   ]
  },
  {
   "cell_type": "code",
   "execution_count": 12,
   "id": "919c8ff5",
   "metadata": {
    "execution": {
     "iopub.execute_input": "2025-08-19T18:09:43.705026Z",
     "iopub.status.busy": "2025-08-19T18:09:43.703373Z",
     "iopub.status.idle": "2025-08-19T18:09:43.714742Z",
     "shell.execute_reply": "2025-08-19T18:09:43.713637Z"
    },
    "papermill": {
     "duration": 0.039695,
     "end_time": "2025-08-19T18:09:43.716658",
     "exception": false,
     "start_time": "2025-08-19T18:09:43.676963",
     "status": "completed"
    },
    "tags": []
   },
   "outputs": [
    {
     "data": {
      "text/plain": [
       "(25000, 164)"
      ]
     },
     "execution_count": 12,
     "metadata": {},
     "output_type": "execute_result"
    }
   ],
   "source": [
    "siab_train.shape"
   ]
  },
  {
   "cell_type": "code",
   "execution_count": 13,
   "id": "feb13bf4",
   "metadata": {
    "execution": {
     "iopub.execute_input": "2025-08-19T18:09:43.747410Z",
     "iopub.status.busy": "2025-08-19T18:09:43.745991Z",
     "iopub.status.idle": "2025-08-19T18:09:43.761033Z",
     "shell.execute_reply": "2025-08-19T18:09:43.760017Z"
    },
    "papermill": {
     "duration": 0.029467,
     "end_time": "2025-08-19T18:09:43.762754",
     "exception": false,
     "start_time": "2025-08-19T18:09:43.733287",
     "status": "completed"
    },
    "tags": []
   },
   "outputs": [
    {
     "data": {
      "text/plain": [
       "year\n",
       "2012    8334\n",
       "2013    8333\n",
       "2014    8333\n",
       "dtype: int64"
      ]
     },
     "metadata": {},
     "output_type": "display_data"
    }
   ],
   "source": [
    "display(siab_train.groupby(\"year\").size())"
   ]
  },
  {
   "cell_type": "code",
   "execution_count": 14,
   "id": "0997782f",
   "metadata": {
    "execution": {
     "iopub.execute_input": "2025-08-19T18:09:43.789741Z",
     "iopub.status.busy": "2025-08-19T18:09:43.788442Z",
     "iopub.status.idle": "2025-08-19T18:09:44.027098Z",
     "shell.execute_reply": "2025-08-19T18:09:44.026329Z"
    },
    "papermill": {
     "duration": 0.253932,
     "end_time": "2025-08-19T18:09:44.030129",
     "exception": false,
     "start_time": "2025-08-19T18:09:43.776197",
     "status": "completed"
    },
    "tags": []
   },
   "outputs": [],
   "source": [
    "#siab_train = siab_s[siab_s.year < 2015]\n",
    "siab_calib = siab[siab.year == 2015]\n",
    "siab_test = siab[siab.year == 2016]"
   ]
  },
  {
   "cell_type": "code",
   "execution_count": 15,
   "id": "2c1e4012",
   "metadata": {
    "execution": {
     "iopub.execute_input": "2025-08-19T18:09:44.071165Z",
     "iopub.status.busy": "2025-08-19T18:09:44.069980Z",
     "iopub.status.idle": "2025-08-19T18:09:44.077791Z",
     "shell.execute_reply": "2025-08-19T18:09:44.076373Z"
    },
    "papermill": {
     "duration": 0.02382,
     "end_time": "2025-08-19T18:09:44.079474",
     "exception": false,
     "start_time": "2025-08-19T18:09:44.055654",
     "status": "completed"
    },
    "tags": []
   },
   "outputs": [],
   "source": [
    "#siab_calib.shape"
   ]
  },
  {
   "cell_type": "code",
   "execution_count": 16,
   "id": "f66b54ca",
   "metadata": {
    "execution": {
     "iopub.execute_input": "2025-08-19T18:09:44.114547Z",
     "iopub.status.busy": "2025-08-19T18:09:44.110465Z",
     "iopub.status.idle": "2025-08-19T18:09:44.120820Z",
     "shell.execute_reply": "2025-08-19T18:09:44.119752Z"
    },
    "papermill": {
     "duration": 0.032107,
     "end_time": "2025-08-19T18:09:44.122574",
     "exception": false,
     "start_time": "2025-08-19T18:09:44.090467",
     "status": "completed"
    },
    "tags": []
   },
   "outputs": [],
   "source": [
    "#siab_test.shape"
   ]
  },
  {
   "cell_type": "code",
   "execution_count": 17,
   "id": "27e4384d",
   "metadata": {
    "execution": {
     "iopub.execute_input": "2025-08-19T18:09:44.148806Z",
     "iopub.status.busy": "2025-08-19T18:09:44.147408Z",
     "iopub.status.idle": "2025-08-19T18:09:44.167176Z",
     "shell.execute_reply": "2025-08-19T18:09:44.166124Z"
    },
    "papermill": {
     "duration": 0.033803,
     "end_time": "2025-08-19T18:09:44.169244",
     "exception": false,
     "start_time": "2025-08-19T18:09:44.135441",
     "status": "completed"
    },
    "tags": []
   },
   "outputs": [],
   "source": [
    "X_train = siab_train.iloc[:,4:164]\n",
    "y_train = siab_train.iloc[:, [3]]"
   ]
  },
  {
   "cell_type": "code",
   "execution_count": 18,
   "id": "08ee8389",
   "metadata": {
    "execution": {
     "iopub.execute_input": "2025-08-19T18:09:44.201453Z",
     "iopub.status.busy": "2025-08-19T18:09:44.200164Z",
     "iopub.status.idle": "2025-08-19T18:09:44.259303Z",
     "shell.execute_reply": "2025-08-19T18:09:44.258459Z"
    },
    "papermill": {
     "duration": 0.074988,
     "end_time": "2025-08-19T18:09:44.261910",
     "exception": false,
     "start_time": "2025-08-19T18:09:44.186922",
     "status": "completed"
    },
    "tags": []
   },
   "outputs": [],
   "source": [
    "X_calib = siab_calib.iloc[:,4:164]\n",
    "y_calib = siab_calib.iloc[:, [3]]"
   ]
  },
  {
   "cell_type": "code",
   "execution_count": 19,
   "id": "b7ff42e0",
   "metadata": {
    "execution": {
     "iopub.execute_input": "2025-08-19T18:09:44.313780Z",
     "iopub.status.busy": "2025-08-19T18:09:44.312464Z",
     "iopub.status.idle": "2025-08-19T18:09:44.370990Z",
     "shell.execute_reply": "2025-08-19T18:09:44.370089Z"
    },
    "papermill": {
     "duration": 0.085777,
     "end_time": "2025-08-19T18:09:44.373712",
     "exception": false,
     "start_time": "2025-08-19T18:09:44.287935",
     "status": "completed"
    },
    "tags": []
   },
   "outputs": [],
   "source": [
    "X_test = siab_test.iloc[:,4:164]\n",
    "y_true = siab_test.iloc[:, [3]]"
   ]
  },
  {
   "cell_type": "code",
   "execution_count": 20,
   "id": "0275101e",
   "metadata": {
    "execution": {
     "iopub.execute_input": "2025-08-19T18:09:44.415406Z",
     "iopub.status.busy": "2025-08-19T18:09:44.414267Z",
     "iopub.status.idle": "2025-08-19T18:09:44.527900Z",
     "shell.execute_reply": "2025-08-19T18:09:44.527108Z"
    },
    "papermill": {
     "duration": 0.131127,
     "end_time": "2025-08-19T18:09:44.530630",
     "exception": false,
     "start_time": "2025-08-19T18:09:44.399503",
     "status": "completed"
    },
    "tags": []
   },
   "outputs": [],
   "source": [
    "# Auxiliary data needed downstream in the pipeline\n",
    "\n",
    "org_train = X_train.copy()\n",
    "org_test = X_test.copy()\n",
    "org_calib = X_calib.copy()"
   ]
  },
  {
   "cell_type": "markdown",
   "id": "b461e618",
   "metadata": {
    "papermill": {
     "duration": 0.012891,
     "end_time": "2025-08-19T18:09:44.567809",
     "exception": false,
     "start_time": "2025-08-19T18:09:44.554918",
     "status": "completed"
    },
    "tags": []
   },
   "source": [
    "# Preprocessing Data"
   ]
  },
  {
   "cell_type": "code",
   "execution_count": 21,
   "id": "78e74c4b",
   "metadata": {
    "execution": {
     "iopub.execute_input": "2025-08-19T18:09:44.608162Z",
     "iopub.status.busy": "2025-08-19T18:09:44.597351Z",
     "iopub.status.idle": "2025-08-19T18:09:44.614607Z",
     "shell.execute_reply": "2025-08-19T18:09:44.613435Z"
    },
    "papermill": {
     "duration": 0.038697,
     "end_time": "2025-08-19T18:09:44.616623",
     "exception": false,
     "start_time": "2025-08-19T18:09:44.577926",
     "status": "completed"
    },
    "tags": []
   },
   "outputs": [],
   "source": [
    "# EXCLUDE PROTECTED FEATURES\n",
    "# --------------------------\n",
    "\n",
    "excluded_features = universe[\"exclude_features\"].split(\"-\")\n",
    "excluded_features_dictionary = {\n",
    "    \"nationality\": [\"maxdeutsch1\", \"maxdeutsch.Missing.\"],\n",
    "    \"sex\": [\"frau1\"],\n",
    "    \"age\": [\"age\"],\n",
    "}"
   ]
  },
  {
   "cell_type": "code",
   "execution_count": 22,
   "id": "f8e63555",
   "metadata": {
    "execution": {
     "iopub.execute_input": "2025-08-19T18:09:44.648809Z",
     "iopub.status.busy": "2025-08-19T18:09:44.647359Z",
     "iopub.status.idle": "2025-08-19T18:09:44.655628Z",
     "shell.execute_reply": "2025-08-19T18:09:44.654414Z"
    },
    "papermill": {
     "duration": 0.023146,
     "end_time": "2025-08-19T18:09:44.657144",
     "exception": false,
     "start_time": "2025-08-19T18:09:44.633998",
     "status": "completed"
    },
    "tags": []
   },
   "outputs": [],
   "source": [
    "excluded_features_columns = [\n",
    "    excluded_features_dictionary[f] for f in excluded_features if len(f) > 0 and f != \"none\"\n",
    "]"
   ]
  },
  {
   "cell_type": "code",
   "execution_count": 23,
   "id": "da781f7c",
   "metadata": {
    "execution": {
     "iopub.execute_input": "2025-08-19T18:09:44.682943Z",
     "iopub.status.busy": "2025-08-19T18:09:44.681754Z",
     "iopub.status.idle": "2025-08-19T18:09:44.689431Z",
     "shell.execute_reply": "2025-08-19T18:09:44.688201Z"
    },
    "papermill": {
     "duration": 0.021228,
     "end_time": "2025-08-19T18:09:44.690880",
     "exception": false,
     "start_time": "2025-08-19T18:09:44.669652",
     "status": "completed"
    },
    "tags": []
   },
   "outputs": [],
   "source": [
    "from fairness_multiverse.universe import flatten_once\n",
    "\n",
    "excluded_features_columns = flatten_once(excluded_features_columns)"
   ]
  },
  {
   "cell_type": "code",
   "execution_count": 24,
   "id": "37fef0f0",
   "metadata": {
    "execution": {
     "iopub.execute_input": "2025-08-19T18:09:44.716985Z",
     "iopub.status.busy": "2025-08-19T18:09:44.715800Z",
     "iopub.status.idle": "2025-08-19T18:09:44.734913Z",
     "shell.execute_reply": "2025-08-19T18:09:44.733927Z"
    },
    "papermill": {
     "duration": 0.033299,
     "end_time": "2025-08-19T18:09:44.737211",
     "exception": false,
     "start_time": "2025-08-19T18:09:44.703912",
     "status": "completed"
    },
    "tags": []
   },
   "outputs": [
    {
     "name": "stdout",
     "output_type": "stream",
     "text": [
      "Dropping features: ['maxdeutsch1', 'maxdeutsch.Missing.']\n"
     ]
    }
   ],
   "source": [
    "if len(excluded_features_columns) > 0:\n",
    "    print(f\"Dropping features: {excluded_features_columns}\")\n",
    "    X_train.drop(excluded_features_columns, axis=1, inplace=True)"
   ]
  },
  {
   "cell_type": "code",
   "execution_count": 25,
   "id": "d029e3e9",
   "metadata": {
    "execution": {
     "iopub.execute_input": "2025-08-19T18:09:44.765645Z",
     "iopub.status.busy": "2025-08-19T18:09:44.764148Z",
     "iopub.status.idle": "2025-08-19T18:09:44.821153Z",
     "shell.execute_reply": "2025-08-19T18:09:44.820414Z"
    },
    "papermill": {
     "duration": 0.071522,
     "end_time": "2025-08-19T18:09:44.823700",
     "exception": false,
     "start_time": "2025-08-19T18:09:44.752178",
     "status": "completed"
    },
    "tags": []
   },
   "outputs": [
    {
     "name": "stdout",
     "output_type": "stream",
     "text": [
      "Dropping features: ['maxdeutsch1', 'maxdeutsch.Missing.']\n"
     ]
    }
   ],
   "source": [
    "if len(excluded_features_columns) > 0:\n",
    "    print(f\"Dropping features: {excluded_features_columns}\")\n",
    "    X_test.drop(excluded_features_columns, axis=1, inplace=True)"
   ]
  },
  {
   "cell_type": "code",
   "execution_count": 26,
   "id": "01d571f0",
   "metadata": {
    "execution": {
     "iopub.execute_input": "2025-08-19T18:09:44.862018Z",
     "iopub.status.busy": "2025-08-19T18:09:44.861430Z",
     "iopub.status.idle": "2025-08-19T18:09:44.915857Z",
     "shell.execute_reply": "2025-08-19T18:09:44.915130Z"
    },
    "papermill": {
     "duration": 0.071582,
     "end_time": "2025-08-19T18:09:44.918616",
     "exception": false,
     "start_time": "2025-08-19T18:09:44.847034",
     "status": "completed"
    },
    "tags": []
   },
   "outputs": [
    {
     "name": "stdout",
     "output_type": "stream",
     "text": [
      "Dropping features: ['maxdeutsch1', 'maxdeutsch.Missing.']\n"
     ]
    }
   ],
   "source": [
    "if len(excluded_features_columns) > 0:\n",
    "    print(f\"Dropping features: {excluded_features_columns}\")\n",
    "    X_calib.drop(excluded_features_columns, axis=1, inplace=True)"
   ]
  },
  {
   "cell_type": "code",
   "execution_count": 27,
   "id": "3037356e",
   "metadata": {
    "execution": {
     "iopub.execute_input": "2025-08-19T18:09:44.955586Z",
     "iopub.status.busy": "2025-08-19T18:09:44.954461Z",
     "iopub.status.idle": "2025-08-19T18:09:44.961773Z",
     "shell.execute_reply": "2025-08-19T18:09:44.960555Z"
    },
    "papermill": {
     "duration": 0.022081,
     "end_time": "2025-08-19T18:09:44.963204",
     "exception": false,
     "start_time": "2025-08-19T18:09:44.941123",
     "status": "completed"
    },
    "tags": []
   },
   "outputs": [],
   "source": [
    "# EXCLUDE CERTAIN SUBGROUPS\n",
    "# -------------------------\n",
    "\n",
    "mode = universe.get(\"exclude_subgroups\", \"keep-all\") # Defaults to \"keep-all\" if the key is missing."
   ]
  },
  {
   "cell_type": "code",
   "execution_count": 28,
   "id": "9d1e63fd",
   "metadata": {
    "execution": {
     "iopub.execute_input": "2025-08-19T18:09:44.990215Z",
     "iopub.status.busy": "2025-08-19T18:09:44.988739Z",
     "iopub.status.idle": "2025-08-19T18:09:44.999481Z",
     "shell.execute_reply": "2025-08-19T18:09:44.998447Z"
    },
    "papermill": {
     "duration": 0.024305,
     "end_time": "2025-08-19T18:09:45.000919",
     "exception": false,
     "start_time": "2025-08-19T18:09:44.976614",
     "status": "completed"
    },
    "tags": []
   },
   "outputs": [],
   "source": [
    "if mode == \"keep-all\":\n",
    "    keep_mask = pd.Series(True, index=org_train.index)\n",
    "\n",
    "elif mode == \"drop-non-german\":\n",
    "    keep_mask = (org_train[\"maxdeutsch1\"] == 1) & (org_train[\"maxdeutsch.Missing.\"] == 0)\n",
    "\n",
    "else:\n",
    "    raise ValueError(f\"Unsupported mode for exclude_subgroups: {mode}\")"
   ]
  },
  {
   "cell_type": "code",
   "execution_count": 29,
   "id": "d3b65474",
   "metadata": {
    "execution": {
     "iopub.execute_input": "2025-08-19T18:09:45.029935Z",
     "iopub.status.busy": "2025-08-19T18:09:45.028760Z",
     "iopub.status.idle": "2025-08-19T18:09:45.038745Z",
     "shell.execute_reply": "2025-08-19T18:09:45.037719Z"
    },
    "papermill": {
     "duration": 0.024277,
     "end_time": "2025-08-19T18:09:45.040215",
     "exception": false,
     "start_time": "2025-08-19T18:09:45.015938",
     "status": "completed"
    },
    "tags": []
   },
   "outputs": [
    {
     "name": "stdout",
     "output_type": "stream",
     "text": [
      "Dropping 3481 rows (13.92%) where mode='drop-non-german'\n"
     ]
    }
   ],
   "source": [
    "n_drop = (~keep_mask).sum() # Calculates how many rows are set to be dropped\n",
    "if n_drop > 0:\n",
    "    pct = n_drop / len(keep_mask) * 100\n",
    "    print(f\"Dropping {n_drop} rows ({pct:.2f}%) where mode='{mode}'\")"
   ]
  },
  {
   "cell_type": "code",
   "execution_count": 30,
   "id": "f44389b3",
   "metadata": {
    "execution": {
     "iopub.execute_input": "2025-08-19T18:09:45.067803Z",
     "iopub.status.busy": "2025-08-19T18:09:45.066289Z",
     "iopub.status.idle": "2025-08-19T18:09:45.084735Z",
     "shell.execute_reply": "2025-08-19T18:09:45.083703Z"
    },
    "papermill": {
     "duration": 0.032554,
     "end_time": "2025-08-19T18:09:45.086197",
     "exception": false,
     "start_time": "2025-08-19T18:09:45.053643",
     "status": "completed"
    },
    "tags": []
   },
   "outputs": [],
   "source": [
    "X_train = X_train[keep_mask]"
   ]
  },
  {
   "cell_type": "code",
   "execution_count": 31,
   "id": "ceca8c2a",
   "metadata": {
    "execution": {
     "iopub.execute_input": "2025-08-19T18:09:45.117440Z",
     "iopub.status.busy": "2025-08-19T18:09:45.116230Z",
     "iopub.status.idle": "2025-08-19T18:09:45.125342Z",
     "shell.execute_reply": "2025-08-19T18:09:45.124087Z"
    },
    "papermill": {
     "duration": 0.023752,
     "end_time": "2025-08-19T18:09:45.126776",
     "exception": false,
     "start_time": "2025-08-19T18:09:45.103024",
     "status": "completed"
    },
    "tags": []
   },
   "outputs": [],
   "source": [
    "y_train = y_train[keep_mask]"
   ]
  },
  {
   "cell_type": "markdown",
   "id": "04d31e2f",
   "metadata": {
    "papermill": {
     "duration": 0.01066,
     "end_time": "2025-08-19T18:09:45.150891",
     "exception": false,
     "start_time": "2025-08-19T18:09:45.140231",
     "status": "completed"
    },
    "tags": []
   },
   "source": [
    "# Model Training"
   ]
  },
  {
   "cell_type": "code",
   "execution_count": 32,
   "id": "db991733",
   "metadata": {
    "execution": {
     "iopub.execute_input": "2025-08-19T18:09:45.175014Z",
     "iopub.status.busy": "2025-08-19T18:09:45.173805Z",
     "iopub.status.idle": "2025-08-19T18:09:45.277069Z",
     "shell.execute_reply": "2025-08-19T18:09:45.276274Z"
    },
    "papermill": {
     "duration": 0.118296,
     "end_time": "2025-08-19T18:09:45.279837",
     "exception": false,
     "start_time": "2025-08-19T18:09:45.161541",
     "status": "completed"
    },
    "tags": []
   },
   "outputs": [],
   "source": [
    "from sklearn.linear_model import LogisticRegression\n",
    "from sklearn.ensemble import GradientBoostingClassifier, RandomForestClassifier\n",
    "\n",
    "if (universe[\"model\"] == \"logreg\"):\n",
    "    model = LogisticRegression() #penalty=\"none\", solver=\"newton-cg\", max_iter=1)\n",
    "elif (universe[\"model\"] == \"penalized_logreg\"):\n",
    "    model = LogisticRegression(penalty=\"l2\", C=0.1) #, solver=\"newton-cg\", max_iter=1)\n",
    "elif (universe[\"model\"] == \"rf\"):\n",
    "    model = RandomForestClassifier() # n_estimators=100, n_jobs=-1\n",
    "elif (universe[\"model\"] == \"gbm\"):\n",
    "    model = GradientBoostingClassifier()\n",
    "elif (universe[\"model\"] == \"elasticnet\"):\n",
    "    model = LogisticRegression(penalty = 'elasticnet', solver = 'saga', l1_ratio = 0.5) # max_iter=5000\n",
    "else:\n",
    "    raise \"Unsupported universe.model\""
   ]
  },
  {
   "cell_type": "code",
   "execution_count": 33,
   "id": "a4b5cd25",
   "metadata": {
    "execution": {
     "iopub.execute_input": "2025-08-19T18:09:45.319099Z",
     "iopub.status.busy": "2025-08-19T18:09:45.317949Z",
     "iopub.status.idle": "2025-08-19T18:09:45.326966Z",
     "shell.execute_reply": "2025-08-19T18:09:45.325768Z"
    },
    "papermill": {
     "duration": 0.024824,
     "end_time": "2025-08-19T18:09:45.328603",
     "exception": false,
     "start_time": "2025-08-19T18:09:45.303779",
     "status": "completed"
    },
    "tags": []
   },
   "outputs": [],
   "source": [
    "from sklearn.pipeline import Pipeline\n",
    "from sklearn.preprocessing import StandardScaler\n",
    "\n",
    "model = Pipeline([\n",
    "    #(\"continuous_processor\", continuous_processor),\n",
    "    #(\"categorical_preprocessor\", categorical_preprocessor),\n",
    "    (\"scale\", StandardScaler() if universe[\"scale\"] == \"scale\" else None), \n",
    "    (\"model\", model),\n",
    "])"
   ]
  },
  {
   "cell_type": "code",
   "execution_count": 34,
   "id": "283a904d",
   "metadata": {
    "execution": {
     "iopub.execute_input": "2025-08-19T18:09:45.355658Z",
     "iopub.status.busy": "2025-08-19T18:09:45.354459Z",
     "iopub.status.idle": "2025-08-19T18:09:52.599942Z",
     "shell.execute_reply": "2025-08-19T18:09:52.598530Z"
    },
    "papermill": {
     "duration": 7.259164,
     "end_time": "2025-08-19T18:09:52.601372",
     "exception": false,
     "start_time": "2025-08-19T18:09:45.342208",
     "status": "completed"
    },
    "tags": []
   },
   "outputs": [
    {
     "data": {
      "text/html": [
       "<style>#sk-container-id-1 {color: black;background-color: white;}#sk-container-id-1 pre{padding: 0;}#sk-container-id-1 div.sk-toggleable {background-color: white;}#sk-container-id-1 label.sk-toggleable__label {cursor: pointer;display: block;width: 100%;margin-bottom: 0;padding: 0.3em;box-sizing: border-box;text-align: center;}#sk-container-id-1 label.sk-toggleable__label-arrow:before {content: \"▸\";float: left;margin-right: 0.25em;color: #696969;}#sk-container-id-1 label.sk-toggleable__label-arrow:hover:before {color: black;}#sk-container-id-1 div.sk-estimator:hover label.sk-toggleable__label-arrow:before {color: black;}#sk-container-id-1 div.sk-toggleable__content {max-height: 0;max-width: 0;overflow: hidden;text-align: left;background-color: #f0f8ff;}#sk-container-id-1 div.sk-toggleable__content pre {margin: 0.2em;color: black;border-radius: 0.25em;background-color: #f0f8ff;}#sk-container-id-1 input.sk-toggleable__control:checked~div.sk-toggleable__content {max-height: 200px;max-width: 100%;overflow: auto;}#sk-container-id-1 input.sk-toggleable__control:checked~label.sk-toggleable__label-arrow:before {content: \"▾\";}#sk-container-id-1 div.sk-estimator input.sk-toggleable__control:checked~label.sk-toggleable__label {background-color: #d4ebff;}#sk-container-id-1 div.sk-label input.sk-toggleable__control:checked~label.sk-toggleable__label {background-color: #d4ebff;}#sk-container-id-1 input.sk-hidden--visually {border: 0;clip: rect(1px 1px 1px 1px);clip: rect(1px, 1px, 1px, 1px);height: 1px;margin: -1px;overflow: hidden;padding: 0;position: absolute;width: 1px;}#sk-container-id-1 div.sk-estimator {font-family: monospace;background-color: #f0f8ff;border: 1px dotted black;border-radius: 0.25em;box-sizing: border-box;margin-bottom: 0.5em;}#sk-container-id-1 div.sk-estimator:hover {background-color: #d4ebff;}#sk-container-id-1 div.sk-parallel-item::after {content: \"\";width: 100%;border-bottom: 1px solid gray;flex-grow: 1;}#sk-container-id-1 div.sk-label:hover label.sk-toggleable__label {background-color: #d4ebff;}#sk-container-id-1 div.sk-serial::before {content: \"\";position: absolute;border-left: 1px solid gray;box-sizing: border-box;top: 0;bottom: 0;left: 50%;z-index: 0;}#sk-container-id-1 div.sk-serial {display: flex;flex-direction: column;align-items: center;background-color: white;padding-right: 0.2em;padding-left: 0.2em;position: relative;}#sk-container-id-1 div.sk-item {position: relative;z-index: 1;}#sk-container-id-1 div.sk-parallel {display: flex;align-items: stretch;justify-content: center;background-color: white;position: relative;}#sk-container-id-1 div.sk-item::before, #sk-container-id-1 div.sk-parallel-item::before {content: \"\";position: absolute;border-left: 1px solid gray;box-sizing: border-box;top: 0;bottom: 0;left: 50%;z-index: -1;}#sk-container-id-1 div.sk-parallel-item {display: flex;flex-direction: column;z-index: 1;position: relative;background-color: white;}#sk-container-id-1 div.sk-parallel-item:first-child::after {align-self: flex-end;width: 50%;}#sk-container-id-1 div.sk-parallel-item:last-child::after {align-self: flex-start;width: 50%;}#sk-container-id-1 div.sk-parallel-item:only-child::after {width: 0;}#sk-container-id-1 div.sk-dashed-wrapped {border: 1px dashed gray;margin: 0 0.4em 0.5em 0.4em;box-sizing: border-box;padding-bottom: 0.4em;background-color: white;}#sk-container-id-1 div.sk-label label {font-family: monospace;font-weight: bold;display: inline-block;line-height: 1.2em;}#sk-container-id-1 div.sk-label-container {text-align: center;}#sk-container-id-1 div.sk-container {/* jupyter's `normalize.less` sets `[hidden] { display: none; }` but bootstrap.min.css set `[hidden] { display: none !important; }` so we also need the `!important` here to be able to override the default hidden behavior on the sphinx rendered scikit-learn.org. See: https://github.com/scikit-learn/scikit-learn/issues/21755 */display: inline-block !important;position: relative;}#sk-container-id-1 div.sk-text-repr-fallback {display: none;}</style><div id=\"sk-container-id-1\" class=\"sk-top-container\"><div class=\"sk-text-repr-fallback\"><pre>Pipeline(steps=[(&#x27;scale&#x27;, None), (&#x27;model&#x27;, RandomForestClassifier())])</pre><b>In a Jupyter environment, please rerun this cell to show the HTML representation or trust the notebook. <br />On GitHub, the HTML representation is unable to render, please try loading this page with nbviewer.org.</b></div><div class=\"sk-container\" hidden><div class=\"sk-item sk-dashed-wrapped\"><div class=\"sk-label-container\"><div class=\"sk-label sk-toggleable\"><input class=\"sk-toggleable__control sk-hidden--visually\" id=\"sk-estimator-id-1\" type=\"checkbox\" ><label for=\"sk-estimator-id-1\" class=\"sk-toggleable__label sk-toggleable__label-arrow\">Pipeline</label><div class=\"sk-toggleable__content\"><pre>Pipeline(steps=[(&#x27;scale&#x27;, None), (&#x27;model&#x27;, RandomForestClassifier())])</pre></div></div></div><div class=\"sk-serial\"><div class=\"sk-item\"><div class=\"sk-estimator sk-toggleable\"><input class=\"sk-toggleable__control sk-hidden--visually\" id=\"sk-estimator-id-2\" type=\"checkbox\" ><label for=\"sk-estimator-id-2\" class=\"sk-toggleable__label sk-toggleable__label-arrow\">None</label><div class=\"sk-toggleable__content\"><pre>None</pre></div></div></div><div class=\"sk-item\"><div class=\"sk-estimator sk-toggleable\"><input class=\"sk-toggleable__control sk-hidden--visually\" id=\"sk-estimator-id-3\" type=\"checkbox\" ><label for=\"sk-estimator-id-3\" class=\"sk-toggleable__label sk-toggleable__label-arrow\">RandomForestClassifier</label><div class=\"sk-toggleable__content\"><pre>RandomForestClassifier()</pre></div></div></div></div></div></div></div>"
      ],
      "text/plain": [
       "Pipeline(steps=[('scale', None), ('model', RandomForestClassifier())])"
      ]
     },
     "execution_count": 34,
     "metadata": {},
     "output_type": "execute_result"
    }
   ],
   "source": [
    "model.fit(X_train, y_train.values.ravel())"
   ]
  },
  {
   "cell_type": "code",
   "execution_count": 35,
   "id": "6e15e313",
   "metadata": {
    "execution": {
     "iopub.execute_input": "2025-08-19T18:09:52.632582Z",
     "iopub.status.busy": "2025-08-19T18:09:52.631555Z",
     "iopub.status.idle": "2025-08-19T18:09:55.024357Z",
     "shell.execute_reply": "2025-08-19T18:09:55.023017Z"
    },
    "papermill": {
     "duration": 2.407443,
     "end_time": "2025-08-19T18:09:55.025828",
     "exception": false,
     "start_time": "2025-08-19T18:09:52.618385",
     "status": "completed"
    },
    "tags": []
   },
   "outputs": [
    {
     "data": {
      "text/plain": [
       "0.8657451789098205"
      ]
     },
     "execution_count": 35,
     "metadata": {},
     "output_type": "execute_result"
    }
   ],
   "source": [
    "from fairness_multiverse.universe import predict_w_threshold\n",
    "\n",
    "probs_test = model.predict_proba(X_test)\n",
    "\n",
    "'''\n",
    "Below code returns a boolean array (or binary 0/1 array depending on how it’s used) where each element \n",
    "is True if the probability of class 1 is greater than or equal to the threshold, and False otherwise.\n",
    "'''\n",
    "y_pred_default = predict_w_threshold(probs_test, 0.5)\n",
    "\n",
    "from sklearn.metrics import accuracy_score\n",
    "\n",
    "# Naive prediction\n",
    "accuracy_score(y_true = y_true, y_pred = y_pred_default)"
   ]
  },
  {
   "cell_type": "code",
   "execution_count": 36,
   "id": "6f14067c",
   "metadata": {
    "execution": {
     "iopub.execute_input": "2025-08-19T18:09:55.051367Z",
     "iopub.status.busy": "2025-08-19T18:09:55.050139Z",
     "iopub.status.idle": "2025-08-19T18:09:57.363773Z",
     "shell.execute_reply": "2025-08-19T18:09:57.362270Z"
    },
    "papermill": {
     "duration": 2.327944,
     "end_time": "2025-08-19T18:09:57.365292",
     "exception": false,
     "start_time": "2025-08-19T18:09:55.037348",
     "status": "completed"
    },
    "tags": []
   },
   "outputs": [
    {
     "data": {
      "text/plain": [
       "array([0, 0, 0, ..., 0, 0, 0])"
      ]
     },
     "execution_count": 36,
     "metadata": {},
     "output_type": "execute_result"
    }
   ],
   "source": [
    "model.predict(X_test)"
   ]
  },
  {
   "cell_type": "markdown",
   "id": "3759920c",
   "metadata": {
    "papermill": {
     "duration": 0.011289,
     "end_time": "2025-08-19T18:09:57.391350",
     "exception": false,
     "start_time": "2025-08-19T18:09:57.380061",
     "status": "completed"
    },
    "tags": []
   },
   "source": [
    "# Conformal Prediction"
   ]
  },
  {
   "cell_type": "code",
   "execution_count": 37,
   "id": "14b27f59",
   "metadata": {
    "execution": {
     "iopub.execute_input": "2025-08-19T18:09:57.418122Z",
     "iopub.status.busy": "2025-08-19T18:09:57.416242Z",
     "iopub.status.idle": "2025-08-19T18:09:57.426249Z",
     "shell.execute_reply": "2025-08-19T18:09:57.425191Z"
    },
    "papermill": {
     "duration": 0.025512,
     "end_time": "2025-08-19T18:09:57.427976",
     "exception": false,
     "start_time": "2025-08-19T18:09:57.402464",
     "status": "completed"
    },
    "tags": []
   },
   "outputs": [],
   "source": [
    "# Miscoverage level for conformal prediction (10% allowed error rate => 90% target coverage)\n",
    "alpha = 0.1"
   ]
  },
  {
   "cell_type": "code",
   "execution_count": 38,
   "id": "59102472",
   "metadata": {
    "execution": {
     "iopub.execute_input": "2025-08-19T18:09:57.459512Z",
     "iopub.status.busy": "2025-08-19T18:09:57.458217Z",
     "iopub.status.idle": "2025-08-19T18:09:59.689144Z",
     "shell.execute_reply": "2025-08-19T18:09:59.687837Z"
    },
    "papermill": {
     "duration": 2.246841,
     "end_time": "2025-08-19T18:09:59.690685",
     "exception": false,
     "start_time": "2025-08-19T18:09:57.443844",
     "status": "completed"
    },
    "tags": []
   },
   "outputs": [],
   "source": [
    "probs_calib = model.predict_proba(X_calib)"
   ]
  },
  {
   "cell_type": "code",
   "execution_count": 39,
   "id": "a792d4dd",
   "metadata": {
    "execution": {
     "iopub.execute_input": "2025-08-19T18:09:59.717281Z",
     "iopub.status.busy": "2025-08-19T18:09:59.715849Z",
     "iopub.status.idle": "2025-08-19T18:09:59.725356Z",
     "shell.execute_reply": "2025-08-19T18:09:59.724312Z"
    },
    "papermill": {
     "duration": 0.024108,
     "end_time": "2025-08-19T18:09:59.726479",
     "exception": false,
     "start_time": "2025-08-19T18:09:59.702371",
     "status": "completed"
    },
    "tags": []
   },
   "outputs": [],
   "source": [
    "y_calib = y_calib.values.ravel().astype(int)"
   ]
  },
  {
   "cell_type": "code",
   "execution_count": 40,
   "id": "650fd033",
   "metadata": {
    "execution": {
     "iopub.execute_input": "2025-08-19T18:09:59.754222Z",
     "iopub.status.busy": "2025-08-19T18:09:59.753061Z",
     "iopub.status.idle": "2025-08-19T18:09:59.778220Z",
     "shell.execute_reply": "2025-08-19T18:09:59.776845Z"
    },
    "papermill": {
     "duration": 0.039818,
     "end_time": "2025-08-19T18:09:59.780169",
     "exception": false,
     "start_time": "2025-08-19T18:09:59.740351",
     "status": "completed"
    },
    "tags": []
   },
   "outputs": [],
   "source": [
    "from fairness_multiverse.conformal import compute_nc_scores\n",
    "\n",
    "# Compute nonconformity scores on calibration set (1 - probability of true class)\n",
    "nc_scores = compute_nc_scores(probs_calib, y_calib)"
   ]
  },
  {
   "cell_type": "code",
   "execution_count": 41,
   "id": "28ada44c",
   "metadata": {
    "execution": {
     "iopub.execute_input": "2025-08-19T18:09:59.812246Z",
     "iopub.status.busy": "2025-08-19T18:09:59.811770Z",
     "iopub.status.idle": "2025-08-19T18:09:59.818825Z",
     "shell.execute_reply": "2025-08-19T18:09:59.817985Z"
    },
    "papermill": {
     "duration": 0.020668,
     "end_time": "2025-08-19T18:09:59.820232",
     "exception": false,
     "start_time": "2025-08-19T18:09:59.799564",
     "status": "completed"
    },
    "tags": []
   },
   "outputs": [],
   "source": [
    "from fairness_multiverse.conformal import find_threshold\n",
    "\n",
    "# Find conformal threshold q_hat for the given alpha (split conformal method)\n",
    "q_hat = find_threshold(nc_scores, alpha)"
   ]
  },
  {
   "cell_type": "code",
   "execution_count": 42,
   "id": "df56469e",
   "metadata": {
    "execution": {
     "iopub.execute_input": "2025-08-19T18:09:59.848616Z",
     "iopub.status.busy": "2025-08-19T18:09:59.847861Z",
     "iopub.status.idle": "2025-08-19T18:09:59.854979Z",
     "shell.execute_reply": "2025-08-19T18:09:59.854095Z"
    },
    "papermill": {
     "duration": 0.022286,
     "end_time": "2025-08-19T18:09:59.856633",
     "exception": false,
     "start_time": "2025-08-19T18:09:59.834347",
     "status": "completed"
    },
    "tags": []
   },
   "outputs": [
    {
     "data": {
      "text/plain": [
       "0.65"
      ]
     },
     "execution_count": 42,
     "metadata": {},
     "output_type": "execute_result"
    }
   ],
   "source": [
    "q_hat"
   ]
  },
  {
   "cell_type": "code",
   "execution_count": 43,
   "id": "aa1f5faa",
   "metadata": {
    "execution": {
     "iopub.execute_input": "2025-08-19T18:09:59.886308Z",
     "iopub.status.busy": "2025-08-19T18:09:59.885176Z",
     "iopub.status.idle": "2025-08-19T18:10:02.621339Z",
     "shell.execute_reply": "2025-08-19T18:10:02.620178Z"
    },
    "papermill": {
     "duration": 2.753063,
     "end_time": "2025-08-19T18:10:02.624608",
     "exception": false,
     "start_time": "2025-08-19T18:09:59.871545",
     "status": "completed"
    },
    "tags": []
   },
   "outputs": [],
   "source": [
    "from fairness_multiverse.conformal import predict_conformal_sets\n",
    "\n",
    "# Generate prediction sets for each test example\n",
    "pred_sets = predict_conformal_sets(model, X_test, q_hat)"
   ]
  },
  {
   "cell_type": "code",
   "execution_count": 44,
   "id": "97f67a6b",
   "metadata": {
    "execution": {
     "iopub.execute_input": "2025-08-19T18:10:02.666667Z",
     "iopub.status.busy": "2025-08-19T18:10:02.665617Z",
     "iopub.status.idle": "2025-08-19T18:10:02.675240Z",
     "shell.execute_reply": "2025-08-19T18:10:02.673895Z"
    },
    "papermill": {
     "duration": 0.026158,
     "end_time": "2025-08-19T18:10:02.676978",
     "exception": false,
     "start_time": "2025-08-19T18:10:02.650820",
     "status": "completed"
    },
    "tags": []
   },
   "outputs": [],
   "source": [
    "y_true = y_true.squeeze()"
   ]
  },
  {
   "cell_type": "code",
   "execution_count": 45,
   "id": "e700e9a7",
   "metadata": {
    "execution": {
     "iopub.execute_input": "2025-08-19T18:10:02.705730Z",
     "iopub.status.busy": "2025-08-19T18:10:02.704607Z",
     "iopub.status.idle": "2025-08-19T18:10:03.188270Z",
     "shell.execute_reply": "2025-08-19T18:10:03.187373Z"
    },
    "papermill": {
     "duration": 0.498578,
     "end_time": "2025-08-19T18:10:03.189950",
     "exception": false,
     "start_time": "2025-08-19T18:10:02.691372",
     "status": "completed"
    },
    "tags": []
   },
   "outputs": [],
   "source": [
    "from fairness_multiverse.conformal import evaluate_sets\n",
    "\n",
    "# Evaluate coverage and average set size on test data\n",
    "metrics = evaluate_sets(pred_sets, y_true)"
   ]
  },
  {
   "cell_type": "markdown",
   "id": "efbacec0",
   "metadata": {
    "papermill": {
     "duration": 0.012883,
     "end_time": "2025-08-19T18:10:03.221531",
     "exception": false,
     "start_time": "2025-08-19T18:10:03.208648",
     "status": "completed"
    },
    "tags": []
   },
   "source": [
    "# CP Metrics"
   ]
  },
  {
   "cell_type": "code",
   "execution_count": 46,
   "id": "9de55fb1",
   "metadata": {
    "execution": {
     "iopub.execute_input": "2025-08-19T18:10:03.261370Z",
     "iopub.status.busy": "2025-08-19T18:10:03.259914Z",
     "iopub.status.idle": "2025-08-19T18:10:03.272143Z",
     "shell.execute_reply": "2025-08-19T18:10:03.270917Z"
    },
    "papermill": {
     "duration": 0.035015,
     "end_time": "2025-08-19T18:10:03.275276",
     "exception": false,
     "start_time": "2025-08-19T18:10:03.240261",
     "status": "completed"
    },
    "tags": []
   },
   "outputs": [
    {
     "data": {
      "text/plain": [
       "{'coverage': 0.9130085832125738, 'avg_size': 1.1366291383346339}"
      ]
     },
     "execution_count": 46,
     "metadata": {},
     "output_type": "execute_result"
    }
   ],
   "source": [
    "metrics"
   ]
  },
  {
   "cell_type": "code",
   "execution_count": 47,
   "id": "64c340a1",
   "metadata": {
    "execution": {
     "iopub.execute_input": "2025-08-19T18:10:03.301817Z",
     "iopub.status.busy": "2025-08-19T18:10:03.300850Z",
     "iopub.status.idle": "2025-08-19T18:10:03.311211Z",
     "shell.execute_reply": "2025-08-19T18:10:03.309963Z"
    },
    "papermill": {
     "duration": 0.024868,
     "end_time": "2025-08-19T18:10:03.312842",
     "exception": false,
     "start_time": "2025-08-19T18:10:03.287974",
     "status": "completed"
    },
    "tags": []
   },
   "outputs": [],
   "source": [
    "example_universe = universe.copy()\n",
    "universe_training_year = example_universe.get(\"training_year\")\n",
    "universe_training_size = example_universe.get(\"training_size\")\n",
    "universe_scale = example_universe.get(\"scale\")\n",
    "universe_model = example_universe.get(\"model\")\n",
    "universe_exclude_features = example_universe.get(\"exclude_features\")\n",
    "universe_exclude_subgroups = example_universe.get(\"exclude_subgroups\")"
   ]
  },
  {
   "cell_type": "code",
   "execution_count": 48,
   "id": "dbb53cb4",
   "metadata": {
    "execution": {
     "iopub.execute_input": "2025-08-19T18:10:03.341034Z",
     "iopub.status.busy": "2025-08-19T18:10:03.340047Z",
     "iopub.status.idle": "2025-08-19T18:10:03.350695Z",
     "shell.execute_reply": "2025-08-19T18:10:03.349510Z"
    },
    "papermill": {
     "duration": 0.025236,
     "end_time": "2025-08-19T18:10:03.352412",
     "exception": false,
     "start_time": "2025-08-19T18:10:03.327176",
     "status": "completed"
    },
    "tags": []
   },
   "outputs": [],
   "source": [
    "cp_metrics_dict = {\n",
    "    \"universe_id\": [universe_id],\n",
    "    \"universe_training_year\": [universe_training_year],\n",
    "    \"universe_training_size\": [universe_training_size],\n",
    "    \"universe_scale\": [universe_scale],\n",
    "    \"universe_model\": [universe_model],\n",
    "    \"universe_exclude_features\": [universe_exclude_features],\n",
    "    \"universe_exclude_subgroups\": [universe_exclude_subgroups],\n",
    "    \"q_hat\": [q_hat],\n",
    "    \"coverage\": [metrics[\"coverage\"]],\n",
    "    \"avg_size\": [metrics[\"avg_size\"]],\n",
    "}"
   ]
  },
  {
   "cell_type": "code",
   "execution_count": 49,
   "id": "0d70d4b2",
   "metadata": {
    "execution": {
     "iopub.execute_input": "2025-08-19T18:10:03.380076Z",
     "iopub.status.busy": "2025-08-19T18:10:03.379006Z",
     "iopub.status.idle": "2025-08-19T18:10:03.388770Z",
     "shell.execute_reply": "2025-08-19T18:10:03.387544Z"
    },
    "papermill": {
     "duration": 0.024368,
     "end_time": "2025-08-19T18:10:03.390590",
     "exception": false,
     "start_time": "2025-08-19T18:10:03.366222",
     "status": "completed"
    },
    "tags": []
   },
   "outputs": [],
   "source": [
    "cp_metrics_df = pd.DataFrame(cp_metrics_dict)"
   ]
  },
  {
   "cell_type": "code",
   "execution_count": 50,
   "id": "b494403c",
   "metadata": {
    "execution": {
     "iopub.execute_input": "2025-08-19T18:10:03.418263Z",
     "iopub.status.busy": "2025-08-19T18:10:03.417176Z",
     "iopub.status.idle": "2025-08-19T18:10:03.440553Z",
     "shell.execute_reply": "2025-08-19T18:10:03.439144Z"
    },
    "papermill": {
     "duration": 0.039702,
     "end_time": "2025-08-19T18:10:03.443935",
     "exception": false,
     "start_time": "2025-08-19T18:10:03.404233",
     "status": "completed"
    },
    "tags": []
   },
   "outputs": [
    {
     "data": {
      "text/html": [
       "<div>\n",
       "<style scoped>\n",
       "    .dataframe tbody tr th:only-of-type {\n",
       "        vertical-align: middle;\n",
       "    }\n",
       "\n",
       "    .dataframe tbody tr th {\n",
       "        vertical-align: top;\n",
       "    }\n",
       "\n",
       "    .dataframe thead th {\n",
       "        text-align: right;\n",
       "    }\n",
       "</style>\n",
       "<table border=\"1\" class=\"dataframe\">\n",
       "  <thead>\n",
       "    <tr style=\"text-align: right;\">\n",
       "      <th></th>\n",
       "      <th>universe_id</th>\n",
       "      <th>universe_training_year</th>\n",
       "      <th>universe_training_size</th>\n",
       "      <th>universe_scale</th>\n",
       "      <th>universe_model</th>\n",
       "      <th>universe_exclude_features</th>\n",
       "      <th>universe_exclude_subgroups</th>\n",
       "      <th>q_hat</th>\n",
       "      <th>coverage</th>\n",
       "      <th>avg_size</th>\n",
       "    </tr>\n",
       "  </thead>\n",
       "  <tbody>\n",
       "    <tr>\n",
       "      <th>0</th>\n",
       "      <td>015d069fb1d0f921a9b9b9b266883e29</td>\n",
       "      <td>2012_14</td>\n",
       "      <td>25k</td>\n",
       "      <td>do-not-scale</td>\n",
       "      <td>rf</td>\n",
       "      <td>nationality</td>\n",
       "      <td>drop-non-german</td>\n",
       "      <td>0.65</td>\n",
       "      <td>0.913009</td>\n",
       "      <td>1.136629</td>\n",
       "    </tr>\n",
       "  </tbody>\n",
       "</table>\n",
       "</div>"
      ],
      "text/plain": [
       "                        universe_id universe_training_year  \\\n",
       "0  015d069fb1d0f921a9b9b9b266883e29                2012_14   \n",
       "\n",
       "  universe_training_size universe_scale universe_model  \\\n",
       "0                    25k   do-not-scale             rf   \n",
       "\n",
       "  universe_exclude_features universe_exclude_subgroups  q_hat  coverage  \\\n",
       "0               nationality            drop-non-german   0.65  0.913009   \n",
       "\n",
       "   avg_size  \n",
       "0  1.136629  "
      ]
     },
     "execution_count": 50,
     "metadata": {},
     "output_type": "execute_result"
    }
   ],
   "source": [
    "cp_metrics_df"
   ]
  },
  {
   "cell_type": "markdown",
   "id": "ed608b0b",
   "metadata": {
    "papermill": {
     "duration": 0.012227,
     "end_time": "2025-08-19T18:10:03.473747",
     "exception": false,
     "start_time": "2025-08-19T18:10:03.461520",
     "status": "completed"
    },
    "tags": []
   },
   "source": [
    "Conditional coverage & looking at subgroups"
   ]
  },
  {
   "cell_type": "code",
   "execution_count": 51,
   "id": "8968c366",
   "metadata": {
    "execution": {
     "iopub.execute_input": "2025-08-19T18:10:03.501648Z",
     "iopub.status.busy": "2025-08-19T18:10:03.500446Z",
     "iopub.status.idle": "2025-08-19T18:10:03.741234Z",
     "shell.execute_reply": "2025-08-19T18:10:03.740146Z"
    },
    "papermill": {
     "duration": 0.258556,
     "end_time": "2025-08-19T18:10:03.744581",
     "exception": false,
     "start_time": "2025-08-19T18:10:03.486025",
     "status": "completed"
    },
    "tags": []
   },
   "outputs": [],
   "source": [
    "from fairness_multiverse.conformal import build_cp_groups\n",
    "\n",
    "cp_groups_df = build_cp_groups(pred_sets, y_true, X_test.index, org_test)"
   ]
  },
  {
   "cell_type": "code",
   "execution_count": 52,
   "id": "292ddabf",
   "metadata": {
    "execution": {
     "iopub.execute_input": "2025-08-19T18:10:03.785891Z",
     "iopub.status.busy": "2025-08-19T18:10:03.784880Z",
     "iopub.status.idle": "2025-08-19T18:10:04.625610Z",
     "shell.execute_reply": "2025-08-19T18:10:04.624716Z"
    },
    "papermill": {
     "duration": 0.857568,
     "end_time": "2025-08-19T18:10:04.627952",
     "exception": false,
     "start_time": "2025-08-19T18:10:03.770384",
     "status": "completed"
    },
    "tags": []
   },
   "outputs": [],
   "source": [
    "# Define covered = 1 if true_label is in the predicted set\n",
    "cp_groups_df['covered'] = cp_groups_df.apply(\n",
    "    lambda r: int(r['true_label'] in r['pred_set']),\n",
    "    axis=1\n",
    ")"
   ]
  },
  {
   "cell_type": "code",
   "execution_count": 53,
   "id": "3a261692",
   "metadata": {
    "execution": {
     "iopub.execute_input": "2025-08-19T18:10:04.666110Z",
     "iopub.status.busy": "2025-08-19T18:10:04.665604Z",
     "iopub.status.idle": "2025-08-19T18:10:04.675935Z",
     "shell.execute_reply": "2025-08-19T18:10:04.674989Z"
    },
    "papermill": {
     "duration": 0.031132,
     "end_time": "2025-08-19T18:10:04.677330",
     "exception": false,
     "start_time": "2025-08-19T18:10:04.646198",
     "status": "completed"
    },
    "tags": []
   },
   "outputs": [],
   "source": [
    "subgroups = ['frau1','nongerman','nongerman_male','nongerman_female']\n",
    "\n",
    "# Conditional coverage for subgroup==1\n",
    "cond_coverage = {\n",
    "    g: cp_groups_df.loc[cp_groups_df[g]==1, 'covered'].mean()\n",
    "    for g in subgroups\n",
    "}"
   ]
  },
  {
   "cell_type": "code",
   "execution_count": 54,
   "id": "894fd600",
   "metadata": {
    "execution": {
     "iopub.execute_input": "2025-08-19T18:10:04.702502Z",
     "iopub.status.busy": "2025-08-19T18:10:04.702084Z",
     "iopub.status.idle": "2025-08-19T18:10:04.721645Z",
     "shell.execute_reply": "2025-08-19T18:10:04.720731Z"
    },
    "papermill": {
     "duration": 0.033957,
     "end_time": "2025-08-19T18:10:04.723377",
     "exception": false,
     "start_time": "2025-08-19T18:10:04.689420",
     "status": "completed"
    },
    "tags": []
   },
   "outputs": [
    {
     "data": {
      "text/plain": [
       "{'frau1': 0.9123062407332525,\n",
       " 'nongerman': 0.9078201313647336,\n",
       " 'nongerman_male': 0.9238944429433487,\n",
       " 'nongerman_female': 0.8812220566318927}"
      ]
     },
     "execution_count": 54,
     "metadata": {},
     "output_type": "execute_result"
    }
   ],
   "source": [
    "cond_coverage"
   ]
  },
  {
   "cell_type": "code",
   "execution_count": 55,
   "id": "942895c7",
   "metadata": {
    "execution": {
     "iopub.execute_input": "2025-08-19T18:10:04.750628Z",
     "iopub.status.busy": "2025-08-19T18:10:04.750208Z",
     "iopub.status.idle": "2025-08-19T18:10:04.758672Z",
     "shell.execute_reply": "2025-08-19T18:10:04.757653Z"
    },
    "papermill": {
     "duration": 0.023048,
     "end_time": "2025-08-19T18:10:04.760053",
     "exception": false,
     "start_time": "2025-08-19T18:10:04.737005",
     "status": "completed"
    },
    "tags": []
   },
   "outputs": [],
   "source": [
    "for subgroup, cov in cond_coverage.items():\n",
    "    cp_metrics_df[f\"cov_{subgroup}\"] = cov"
   ]
  },
  {
   "cell_type": "code",
   "execution_count": 56,
   "id": "3970120f",
   "metadata": {
    "execution": {
     "iopub.execute_input": "2025-08-19T18:10:04.785977Z",
     "iopub.status.busy": "2025-08-19T18:10:04.785549Z",
     "iopub.status.idle": "2025-08-19T18:10:04.804138Z",
     "shell.execute_reply": "2025-08-19T18:10:04.803112Z"
    },
    "papermill": {
     "duration": 0.032878,
     "end_time": "2025-08-19T18:10:04.805362",
     "exception": false,
     "start_time": "2025-08-19T18:10:04.772484",
     "status": "completed"
    },
    "tags": []
   },
   "outputs": [
    {
     "data": {
      "text/html": [
       "<div>\n",
       "<style scoped>\n",
       "    .dataframe tbody tr th:only-of-type {\n",
       "        vertical-align: middle;\n",
       "    }\n",
       "\n",
       "    .dataframe tbody tr th {\n",
       "        vertical-align: top;\n",
       "    }\n",
       "\n",
       "    .dataframe thead th {\n",
       "        text-align: right;\n",
       "    }\n",
       "</style>\n",
       "<table border=\"1\" class=\"dataframe\">\n",
       "  <thead>\n",
       "    <tr style=\"text-align: right;\">\n",
       "      <th></th>\n",
       "      <th>universe_id</th>\n",
       "      <th>universe_training_year</th>\n",
       "      <th>universe_training_size</th>\n",
       "      <th>universe_scale</th>\n",
       "      <th>universe_model</th>\n",
       "      <th>universe_exclude_features</th>\n",
       "      <th>universe_exclude_subgroups</th>\n",
       "      <th>q_hat</th>\n",
       "      <th>coverage</th>\n",
       "      <th>avg_size</th>\n",
       "      <th>cov_frau1</th>\n",
       "      <th>cov_nongerman</th>\n",
       "      <th>cov_nongerman_male</th>\n",
       "      <th>cov_nongerman_female</th>\n",
       "    </tr>\n",
       "  </thead>\n",
       "  <tbody>\n",
       "    <tr>\n",
       "      <th>0</th>\n",
       "      <td>015d069fb1d0f921a9b9b9b266883e29</td>\n",
       "      <td>2012_14</td>\n",
       "      <td>25k</td>\n",
       "      <td>do-not-scale</td>\n",
       "      <td>rf</td>\n",
       "      <td>nationality</td>\n",
       "      <td>drop-non-german</td>\n",
       "      <td>0.65</td>\n",
       "      <td>0.913009</td>\n",
       "      <td>1.136629</td>\n",
       "      <td>0.912306</td>\n",
       "      <td>0.90782</td>\n",
       "      <td>0.923894</td>\n",
       "      <td>0.881222</td>\n",
       "    </tr>\n",
       "  </tbody>\n",
       "</table>\n",
       "</div>"
      ],
      "text/plain": [
       "                        universe_id universe_training_year  \\\n",
       "0  015d069fb1d0f921a9b9b9b266883e29                2012_14   \n",
       "\n",
       "  universe_training_size universe_scale universe_model  \\\n",
       "0                    25k   do-not-scale             rf   \n",
       "\n",
       "  universe_exclude_features universe_exclude_subgroups  q_hat  coverage  \\\n",
       "0               nationality            drop-non-german   0.65  0.913009   \n",
       "\n",
       "   avg_size  cov_frau1  cov_nongerman  cov_nongerman_male  \\\n",
       "0  1.136629   0.912306        0.90782            0.923894   \n",
       "\n",
       "   cov_nongerman_female  \n",
       "0              0.881222  "
      ]
     },
     "execution_count": 56,
     "metadata": {},
     "output_type": "execute_result"
    }
   ],
   "source": [
    "cp_metrics_df"
   ]
  },
  {
   "cell_type": "markdown",
   "id": "3fc519cc",
   "metadata": {
    "papermill": {
     "duration": 0.012281,
     "end_time": "2025-08-19T18:10:04.832018",
     "exception": false,
     "start_time": "2025-08-19T18:10:04.819737",
     "status": "completed"
    },
    "tags": []
   },
   "source": [
    "# (Fairness) Metrics"
   ]
  },
  {
   "cell_type": "code",
   "execution_count": 57,
   "id": "a2e5e155",
   "metadata": {
    "execution": {
     "iopub.execute_input": "2025-08-19T18:10:04.858084Z",
     "iopub.status.busy": "2025-08-19T18:10:04.857618Z",
     "iopub.status.idle": "2025-08-19T18:10:04.872988Z",
     "shell.execute_reply": "2025-08-19T18:10:04.872313Z"
    },
    "papermill": {
     "duration": 0.029969,
     "end_time": "2025-08-19T18:10:04.874238",
     "exception": false,
     "start_time": "2025-08-19T18:10:04.844269",
     "status": "completed"
    },
    "tags": []
   },
   "outputs": [],
   "source": [
    "colname_to_bin = \"maxdeutsch1\"\n",
    "majority_value = org_train[colname_to_bin].mode()[0]\n",
    "\n",
    "org_test[\"majmin\"] = np.where(org_test[colname_to_bin] == majority_value, \"majority\", \"minority\")"
   ]
  },
  {
   "cell_type": "code",
   "execution_count": 58,
   "id": "17e3e4d5",
   "metadata": {
    "execution": {
     "iopub.execute_input": "2025-08-19T18:10:04.926530Z",
     "iopub.status.busy": "2025-08-19T18:10:04.920107Z",
     "iopub.status.idle": "2025-08-19T18:10:06.753056Z",
     "shell.execute_reply": "2025-08-19T18:10:06.751393Z"
    },
    "papermill": {
     "duration": 1.851695,
     "end_time": "2025-08-19T18:10:06.755981",
     "exception": false,
     "start_time": "2025-08-19T18:10:04.904286",
     "status": "completed"
    },
    "tags": []
   },
   "outputs": [],
   "source": [
    "example_universe = universe.copy()\n",
    "example_universe[\"cutoff\"] = example_universe[\"cutoff\"][0]\n",
    "example_universe[\"eval_fairness_grouping\"] = example_universe[\"eval_fairness_grouping\"][0]\n",
    "fairness_dict, metric_frame = universe_analysis.compute_metrics(\n",
    "    example_universe,\n",
    "    y_pred_prob=probs_test,\n",
    "    y_test=y_true,\n",
    "    org_test=org_test,\n",
    ")"
   ]
  },
  {
   "cell_type": "markdown",
   "id": "1fb7a0e9",
   "metadata": {
    "papermill": {
     "duration": 0.012893,
     "end_time": "2025-08-19T18:10:06.782422",
     "exception": false,
     "start_time": "2025-08-19T18:10:06.769529",
     "status": "completed"
    },
    "tags": []
   },
   "source": [
    "# Overall"
   ]
  },
  {
   "cell_type": "markdown",
   "id": "be1784b1",
   "metadata": {
    "papermill": {
     "duration": 0.012431,
     "end_time": "2025-08-19T18:10:06.807592",
     "exception": false,
     "start_time": "2025-08-19T18:10:06.795161",
     "status": "completed"
    },
    "tags": []
   },
   "source": [
    "Main fairness target: Equalized Odds. Seems to be a better fit than equal opportunity, since we're not only interested in Y = 1. Seems to be a better fit than demographic parity, since we also care about accuracy, not just equal distribution of preds.\n",
    "\n",
    "Pick column for computation of fairness metrics\n",
    "\n",
    "Performance\n",
    "Overall performance measures, most interesting in relation to the measures split by group below"
   ]
  },
  {
   "cell_type": "code",
   "execution_count": 59,
   "id": "b7672bee",
   "metadata": {
    "execution": {
     "iopub.execute_input": "2025-08-19T18:10:06.834106Z",
     "iopub.status.busy": "2025-08-19T18:10:06.833566Z",
     "iopub.status.idle": "2025-08-19T18:10:06.844593Z",
     "shell.execute_reply": "2025-08-19T18:10:06.843731Z"
    },
    "papermill": {
     "duration": 0.026274,
     "end_time": "2025-08-19T18:10:06.846199",
     "exception": false,
     "start_time": "2025-08-19T18:10:06.819925",
     "status": "completed"
    },
    "tags": []
   },
   "outputs": [
    {
     "data": {
      "text/plain": [
       "accuracy                   0.192643\n",
       "balanced accuracy          0.529877\n",
       "f1                         0.238113\n",
       "precision                  0.135454\n",
       "false positive rate        0.923736\n",
       "false negative rate        0.016510\n",
       "selection rate             0.931401\n",
       "count                  89710.000000\n",
       "dtype: float64"
      ]
     },
     "execution_count": 59,
     "metadata": {},
     "output_type": "execute_result"
    }
   ],
   "source": [
    "metric_frame.overall"
   ]
  },
  {
   "cell_type": "markdown",
   "id": "d93333c9",
   "metadata": {
    "papermill": {
     "duration": 0.01237,
     "end_time": "2025-08-19T18:10:06.871130",
     "exception": false,
     "start_time": "2025-08-19T18:10:06.858760",
     "status": "completed"
    },
    "tags": []
   },
   "source": [
    "By Group"
   ]
  },
  {
   "cell_type": "code",
   "execution_count": 60,
   "id": "52256966",
   "metadata": {
    "execution": {
     "iopub.execute_input": "2025-08-19T18:10:06.897945Z",
     "iopub.status.busy": "2025-08-19T18:10:06.897495Z",
     "iopub.status.idle": "2025-08-19T18:10:06.914311Z",
     "shell.execute_reply": "2025-08-19T18:10:06.913160Z"
    },
    "papermill": {
     "duration": 0.031906,
     "end_time": "2025-08-19T18:10:06.915581",
     "exception": false,
     "start_time": "2025-08-19T18:10:06.883675",
     "status": "completed"
    },
    "tags": []
   },
   "outputs": [
    {
     "data": {
      "text/html": [
       "<div>\n",
       "<style scoped>\n",
       "    .dataframe tbody tr th:only-of-type {\n",
       "        vertical-align: middle;\n",
       "    }\n",
       "\n",
       "    .dataframe tbody tr th {\n",
       "        vertical-align: top;\n",
       "    }\n",
       "\n",
       "    .dataframe thead th {\n",
       "        text-align: right;\n",
       "    }\n",
       "</style>\n",
       "<table border=\"1\" class=\"dataframe\">\n",
       "  <thead>\n",
       "    <tr style=\"text-align: right;\">\n",
       "      <th></th>\n",
       "      <th>accuracy</th>\n",
       "      <th>balanced accuracy</th>\n",
       "      <th>f1</th>\n",
       "      <th>precision</th>\n",
       "      <th>false positive rate</th>\n",
       "      <th>false negative rate</th>\n",
       "      <th>selection rate</th>\n",
       "      <th>count</th>\n",
       "    </tr>\n",
       "    <tr>\n",
       "      <th>majmin</th>\n",
       "      <th></th>\n",
       "      <th></th>\n",
       "      <th></th>\n",
       "      <th></th>\n",
       "      <th></th>\n",
       "      <th></th>\n",
       "      <th></th>\n",
       "      <th></th>\n",
       "    </tr>\n",
       "  </thead>\n",
       "  <tbody>\n",
       "    <tr>\n",
       "      <th>majority</th>\n",
       "      <td>0.192974</td>\n",
       "      <td>0.530875</td>\n",
       "      <td>0.244853</td>\n",
       "      <td>0.139699</td>\n",
       "      <td>0.928402</td>\n",
       "      <td>0.009847</td>\n",
       "      <td>0.936562</td>\n",
       "      <td>69170.0</td>\n",
       "    </tr>\n",
       "    <tr>\n",
       "      <th>minority</th>\n",
       "      <td>0.191529</td>\n",
       "      <td>0.524725</td>\n",
       "      <td>0.214549</td>\n",
       "      <td>0.120805</td>\n",
       "      <td>0.908320</td>\n",
       "      <td>0.042230</td>\n",
       "      <td>0.914021</td>\n",
       "      <td>20540.0</td>\n",
       "    </tr>\n",
       "  </tbody>\n",
       "</table>\n",
       "</div>"
      ],
      "text/plain": [
       "          accuracy  balanced accuracy        f1  precision  \\\n",
       "majmin                                                       \n",
       "majority  0.192974           0.530875  0.244853   0.139699   \n",
       "minority  0.191529           0.524725  0.214549   0.120805   \n",
       "\n",
       "          false positive rate  false negative rate  selection rate    count  \n",
       "majmin                                                                       \n",
       "majority             0.928402             0.009847        0.936562  69170.0  \n",
       "minority             0.908320             0.042230        0.914021  20540.0  "
      ]
     },
     "execution_count": 60,
     "metadata": {},
     "output_type": "execute_result"
    }
   ],
   "source": [
    "metric_frame.by_group"
   ]
  },
  {
   "cell_type": "code",
   "execution_count": 61,
   "id": "6e6c20ae",
   "metadata": {
    "execution": {
     "iopub.execute_input": "2025-08-19T18:10:06.942842Z",
     "iopub.status.busy": "2025-08-19T18:10:06.942431Z",
     "iopub.status.idle": "2025-08-19T18:10:08.801388Z",
     "shell.execute_reply": "2025-08-19T18:10:08.800446Z"
    },
    "papermill": {
     "duration": 1.874234,
     "end_time": "2025-08-19T18:10:08.803107",
     "exception": false,
     "start_time": "2025-08-19T18:10:06.928873",
     "status": "completed"
    },
    "tags": []
   },
   "outputs": [
    {
     "data": {
      "text/plain": [
       "array([[<Axes: title={'center': 'accuracy'}, xlabel='majmin'>,\n",
       "        <Axes: title={'center': 'balanced accuracy'}, xlabel='majmin'>,\n",
       "        <Axes: title={'center': 'f1'}, xlabel='majmin'>],\n",
       "       [<Axes: title={'center': 'precision'}, xlabel='majmin'>,\n",
       "        <Axes: title={'center': 'false positive rate'}, xlabel='majmin'>,\n",
       "        <Axes: title={'center': 'false negative rate'}, xlabel='majmin'>],\n",
       "       [<Axes: title={'center': 'selection rate'}, xlabel='majmin'>,\n",
       "        <Axes: title={'center': 'count'}, xlabel='majmin'>,\n",
       "        <Axes: xlabel='majmin'>]], dtype=object)"
      ]
     },
     "execution_count": 61,
     "metadata": {},
     "output_type": "execute_result"
    },
    {
     "data": {
      "image/png": "[encoded data removed]",
      "text/plain": [
       "<Figure size 1200x800 with 9 Axes>"
      ]
     },
     "metadata": {},
     "output_type": "display_data"
    }
   ],
   "source": [
    "# In a graphic\n",
    "metric_frame.by_group.plot.bar(\n",
    "    subplots=True,\n",
    "    layout=[3, 3],\n",
    "    legend=False,\n",
    "    figsize=[12, 8],\n",
    "    title=\"Show all metrics\",\n",
    ")"
   ]
  },
  {
   "cell_type": "markdown",
   "id": "b2e433ae",
   "metadata": {
    "papermill": {
     "duration": 0.013869,
     "end_time": "2025-08-19T18:10:08.831950",
     "exception": false,
     "start_time": "2025-08-19T18:10:08.818081",
     "status": "completed"
    },
    "tags": []
   },
   "source": [
    "# Final Output"
   ]
  },
  {
   "cell_type": "code",
   "execution_count": 62,
   "id": "3871301e",
   "metadata": {
    "execution": {
     "iopub.execute_input": "2025-08-19T18:10:08.862228Z",
     "iopub.status.busy": "2025-08-19T18:10:08.861344Z",
     "iopub.status.idle": "2025-08-19T18:10:08.870562Z",
     "shell.execute_reply": "2025-08-19T18:10:08.869972Z"
    },
    "papermill": {
     "duration": 0.025893,
     "end_time": "2025-08-19T18:10:08.871733",
     "exception": false,
     "start_time": "2025-08-19T18:10:08.845840",
     "status": "completed"
    },
    "tags": []
   },
   "outputs": [
    {
     "data": {
      "text/plain": [
       "4"
      ]
     },
     "execution_count": 62,
     "metadata": {},
     "output_type": "execute_result"
    }
   ],
   "source": [
    "sub_universes = universe_analysis.generate_sub_universes()\n",
    "len(sub_universes)"
   ]
  },
  {
   "cell_type": "code",
   "execution_count": 63,
   "id": "d9cfdaca",
   "metadata": {
    "execution": {
     "iopub.execute_input": "2025-08-19T18:10:08.903875Z",
     "iopub.status.busy": "2025-08-19T18:10:08.902739Z",
     "iopub.status.idle": "2025-08-19T18:10:08.924712Z",
     "shell.execute_reply": "2025-08-19T18:10:08.922952Z"
    },
    "papermill": {
     "duration": 0.039621,
     "end_time": "2025-08-19T18:10:08.926970",
     "exception": false,
     "start_time": "2025-08-19T18:10:08.887349",
     "status": "completed"
    },
    "tags": []
   },
   "outputs": [],
   "source": [
    "def filter_sub_universe_data(sub_universe, org_test):\n",
    "    # Keep all rows — no filtering\n",
    "    keep_rows_mask = np.ones(org_test.shape[0], dtype=bool)\n",
    "\n",
    "    print(f\"[INFO] Keeping all rows: {keep_rows_mask.sum()} rows retained.\")\n",
    "    return keep_rows_mask"
   ]
  },
  {
   "cell_type": "code",
   "execution_count": 64,
   "id": "2bc31ac1",
   "metadata": {
    "execution": {
     "iopub.execute_input": "2025-08-19T18:10:08.971072Z",
     "iopub.status.busy": "2025-08-19T18:10:08.969778Z",
     "iopub.status.idle": "2025-08-19T18:10:15.606854Z",
     "shell.execute_reply": "2025-08-19T18:10:15.605828Z"
    },
    "papermill": {
     "duration": 6.655501,
     "end_time": "2025-08-19T18:10:15.608210",
     "exception": false,
     "start_time": "2025-08-19T18:10:08.952709",
     "status": "completed"
    },
    "tags": []
   },
   "outputs": [
    {
     "name": "stdout",
     "output_type": "stream",
     "text": [
      "Stopping execution_time clock.\n",
      "[INFO] Keeping all rows: 89710 rows retained.\n"
     ]
    },
    {
     "name": "stdout",
     "output_type": "stream",
     "text": [
      "[INFO] Keeping all rows: 89710 rows retained.\n"
     ]
    },
    {
     "name": "stdout",
     "output_type": "stream",
     "text": [
      "[INFO] Keeping all rows: 89710 rows retained.\n"
     ]
    },
    {
     "name": "stdout",
     "output_type": "stream",
     "text": [
      "[INFO] Keeping all rows: 89710 rows retained.\n"
     ]
    },
    {
     "data": {
      "text/html": [
       "<div>\n",
       "<style scoped>\n",
       "    .dataframe tbody tr th:only-of-type {\n",
       "        vertical-align: middle;\n",
       "    }\n",
       "\n",
       "    .dataframe tbody tr th {\n",
       "        vertical-align: top;\n",
       "    }\n",
       "\n",
       "    .dataframe thead th {\n",
       "        text-align: right;\n",
       "    }\n",
       "</style>\n",
       "<table border=\"1\" class=\"dataframe\">\n",
       "  <thead>\n",
       "    <tr style=\"text-align: right;\">\n",
       "      <th></th>\n",
       "      <th>run_no</th>\n",
       "      <th>universe_id</th>\n",
       "      <th>universe_settings</th>\n",
       "      <th>execution_time</th>\n",
       "      <th>test_size_n</th>\n",
       "      <th>test_size_frac</th>\n",
       "      <th>fair_main_equalized_odds_difference</th>\n",
       "      <th>fair_main_equalized_odds_ratio</th>\n",
       "      <th>fair_main_demographic_parity_difference</th>\n",
       "      <th>fair_main_demographic_parity_ratio</th>\n",
       "      <th>...</th>\n",
       "      <th>perf_grp_precision_0</th>\n",
       "      <th>perf_grp_precision_1</th>\n",
       "      <th>perf_grp_false positive rate_0</th>\n",
       "      <th>perf_grp_false positive rate_1</th>\n",
       "      <th>perf_grp_false negative rate_0</th>\n",
       "      <th>perf_grp_false negative rate_1</th>\n",
       "      <th>perf_grp_selection rate_0</th>\n",
       "      <th>perf_grp_selection rate_1</th>\n",
       "      <th>perf_grp_count_0</th>\n",
       "      <th>perf_grp_count_1</th>\n",
       "    </tr>\n",
       "  </thead>\n",
       "  <tbody>\n",
       "    <tr>\n",
       "      <th>0</th>\n",
       "      <td>3</td>\n",
       "      <td>015d069fb1d0f921a9b9b9b266883e29</td>\n",
       "      <td>{\"cutoff\": \"quantile_0.1\", \"eval_fairness_grou...</td>\n",
       "      <td>36.540019</td>\n",
       "      <td>89710</td>\n",
       "      <td>1.0</td>\n",
       "      <td>0.032383</td>\n",
       "      <td>0.967295</td>\n",
       "      <td>0.022541</td>\n",
       "      <td>0.975933</td>\n",
       "      <td>...</td>\n",
       "      <td>NaN</td>\n",
       "      <td>NaN</td>\n",
       "      <td>NaN</td>\n",
       "      <td>NaN</td>\n",
       "      <td>NaN</td>\n",
       "      <td>NaN</td>\n",
       "      <td>NaN</td>\n",
       "      <td>NaN</td>\n",
       "      <td>NaN</td>\n",
       "      <td>NaN</td>\n",
       "    </tr>\n",
       "    <tr>\n",
       "      <th>0</th>\n",
       "      <td>3</td>\n",
       "      <td>015d069fb1d0f921a9b9b9b266883e29</td>\n",
       "      <td>{\"cutoff\": \"quantile_0.1\", \"eval_fairness_grou...</td>\n",
       "      <td>36.540019</td>\n",
       "      <td>89710</td>\n",
       "      <td>1.0</td>\n",
       "      <td>0.032383</td>\n",
       "      <td>0.967295</td>\n",
       "      <td>0.022541</td>\n",
       "      <td>0.975933</td>\n",
       "      <td>...</td>\n",
       "      <td>0.120805</td>\n",
       "      <td>0.139699</td>\n",
       "      <td>0.908320</td>\n",
       "      <td>0.928402</td>\n",
       "      <td>0.042230</td>\n",
       "      <td>0.009847</td>\n",
       "      <td>0.914021</td>\n",
       "      <td>0.936562</td>\n",
       "      <td>20540.0</td>\n",
       "      <td>69170.0</td>\n",
       "    </tr>\n",
       "    <tr>\n",
       "      <th>0</th>\n",
       "      <td>3</td>\n",
       "      <td>015d069fb1d0f921a9b9b9b266883e29</td>\n",
       "      <td>{\"cutoff\": \"quantile_0.25\", \"eval_fairness_gro...</td>\n",
       "      <td>36.540019</td>\n",
       "      <td>89710</td>\n",
       "      <td>1.0</td>\n",
       "      <td>0.075230</td>\n",
       "      <td>0.921354</td>\n",
       "      <td>0.040066</td>\n",
       "      <td>0.948964</td>\n",
       "      <td>...</td>\n",
       "      <td>NaN</td>\n",
       "      <td>NaN</td>\n",
       "      <td>NaN</td>\n",
       "      <td>NaN</td>\n",
       "      <td>NaN</td>\n",
       "      <td>NaN</td>\n",
       "      <td>NaN</td>\n",
       "      <td>NaN</td>\n",
       "      <td>NaN</td>\n",
       "      <td>NaN</td>\n",
       "    </tr>\n",
       "    <tr>\n",
       "      <th>0</th>\n",
       "      <td>3</td>\n",
       "      <td>015d069fb1d0f921a9b9b9b266883e29</td>\n",
       "      <td>{\"cutoff\": \"quantile_0.25\", \"eval_fairness_gro...</td>\n",
       "      <td>36.540019</td>\n",
       "      <td>89710</td>\n",
       "      <td>1.0</td>\n",
       "      <td>0.075230</td>\n",
       "      <td>0.921354</td>\n",
       "      <td>0.040066</td>\n",
       "      <td>0.948964</td>\n",
       "      <td>...</td>\n",
       "      <td>0.136387</td>\n",
       "      <td>0.161007</td>\n",
       "      <td>0.727218</td>\n",
       "      <td>0.758937</td>\n",
       "      <td>0.118666</td>\n",
       "      <td>0.043435</td>\n",
       "      <td>0.744985</td>\n",
       "      <td>0.785051</td>\n",
       "      <td>20540.0</td>\n",
       "      <td>69170.0</td>\n",
       "    </tr>\n",
       "  </tbody>\n",
       "</table>\n",
       "<p>4 rows × 50 columns</p>\n",
       "</div>"
      ],
      "text/plain": [
       "  run_no                       universe_id  \\\n",
       "0      3  015d069fb1d0f921a9b9b9b266883e29   \n",
       "0      3  015d069fb1d0f921a9b9b9b266883e29   \n",
       "0      3  015d069fb1d0f921a9b9b9b266883e29   \n",
       "0      3  015d069fb1d0f921a9b9b9b266883e29   \n",
       "\n",
       "                                   universe_settings  execution_time  \\\n",
       "0  {\"cutoff\": \"quantile_0.1\", \"eval_fairness_grou...       36.540019   \n",
       "0  {\"cutoff\": \"quantile_0.1\", \"eval_fairness_grou...       36.540019   \n",
       "0  {\"cutoff\": \"quantile_0.25\", \"eval_fairness_gro...       36.540019   \n",
       "0  {\"cutoff\": \"quantile_0.25\", \"eval_fairness_gro...       36.540019   \n",
       "\n",
       "   test_size_n  test_size_frac  fair_main_equalized_odds_difference  \\\n",
       "0        89710             1.0                             0.032383   \n",
       "0        89710             1.0                             0.032383   \n",
       "0        89710             1.0                             0.075230   \n",
       "0        89710             1.0                             0.075230   \n",
       "\n",
       "   fair_main_equalized_odds_ratio  fair_main_demographic_parity_difference  \\\n",
       "0                        0.967295                                 0.022541   \n",
       "0                        0.967295                                 0.022541   \n",
       "0                        0.921354                                 0.040066   \n",
       "0                        0.921354                                 0.040066   \n",
       "\n",
       "   fair_main_demographic_parity_ratio  ...  perf_grp_precision_0  \\\n",
       "0                            0.975933  ...                   NaN   \n",
       "0                            0.975933  ...              0.120805   \n",
       "0                            0.948964  ...                   NaN   \n",
       "0                            0.948964  ...              0.136387   \n",
       "\n",
       "   perf_grp_precision_1  perf_grp_false positive rate_0  \\\n",
       "0                   NaN                             NaN   \n",
       "0              0.139699                        0.908320   \n",
       "0                   NaN                             NaN   \n",
       "0              0.161007                        0.727218   \n",
       "\n",
       "   perf_grp_false positive rate_1  perf_grp_false negative rate_0  \\\n",
       "0                             NaN                             NaN   \n",
       "0                        0.928402                        0.042230   \n",
       "0                             NaN                             NaN   \n",
       "0                        0.758937                        0.118666   \n",
       "\n",
       "   perf_grp_false negative rate_1  perf_grp_selection rate_0  \\\n",
       "0                             NaN                        NaN   \n",
       "0                        0.009847                   0.914021   \n",
       "0                             NaN                        NaN   \n",
       "0                        0.043435                   0.744985   \n",
       "\n",
       "   perf_grp_selection rate_1  perf_grp_count_0  perf_grp_count_1  \n",
       "0                        NaN               NaN               NaN  \n",
       "0                   0.936562           20540.0           69170.0  \n",
       "0                        NaN               NaN               NaN  \n",
       "0                   0.785051           20540.0           69170.0  \n",
       "\n",
       "[4 rows x 50 columns]"
      ]
     },
     "execution_count": 64,
     "metadata": {},
     "output_type": "execute_result"
    }
   ],
   "source": [
    "final_output = universe_analysis.generate_final_output(\n",
    "    y_pred_prob=probs_test,\n",
    "    y_test=y_true,\n",
    "    org_test=org_test,\n",
    "    filter_data=filter_sub_universe_data,\n",
    "    cp_metrics_df=cp_metrics_df,\n",
    "    save=True,\n",
    ")\n",
    "final_output"
   ]
  },
  {
   "cell_type": "code",
   "execution_count": null,
   "id": "8b80a1ff",
   "metadata": {
    "papermill": {
     "duration": 0.022674,
     "end_time": "2025-08-19T18:10:15.662399",
     "exception": false,
     "start_time": "2025-08-19T18:10:15.639725",
     "status": "completed"
    },
    "tags": []
   },
   "outputs": [],
   "source": []
  },
  {
   "cell_type": "code",
   "execution_count": null,
   "id": "275c9fad",
   "metadata": {
    "papermill": {
     "duration": 0.014912,
     "end_time": "2025-08-19T18:10:15.691650",
     "exception": false,
     "start_time": "2025-08-19T18:10:15.676738",
     "status": "completed"
    },
    "tags": []
   },
   "outputs": [],
   "source": []
  }
 ],
 "metadata": {
  "celltoolbar": "Tags",
  "kernelspec": {
   "display_name": "Python (CMA Fairness)",
   "language": "python",
   "name": "cma_fair_env"
  },
  "language_info": {
   "codemirror_mode": {
    "name": "ipython",
    "version": 3
   },
   "file_extension": ".py",
   "mimetype": "text/x-python",
   "name": "python",
   "nbconvert_exporter": "python",
   "pygments_lexer": "ipython3",
   "version": "3.10.12"
  },
  "papermill": {
   "default_parameters": {},
   "duration": 46.934732,
   "end_time": "2025-08-19T18:10:16.528095",
   "environment_variables": {},
   "exception": null,
   "input_path": "universe_analysis.ipynb",
   "output_path": "output/runs/3/notebooks/m_3-015d069fb1d0f921a9b9b9b266883e29.ipynb",
   "parameters": {
    "output_dir": "output",
    "run_no": "3",
    "seed": "2023",
    "universe": "{\"cutoff\": [\"quantile_0.1\", \"quantile_0.25\"], \"eval_fairness_grouping\": [\"majority-minority\", \"nationality-all\"], \"exclude_features\": \"nationality\", \"exclude_subgroups\": \"drop-non-german\", \"model\": \"rf\", \"scale\": \"do-not-scale\", \"training_size\": \"25k\", \"training_year\": \"2012_14\"}",
    "universe_id": "015d069fb1d0f921a9b9b9b266883e29"
   },
   "start_time": "2025-08-19T18:09:29.593363",
   "version": "2.6.0"
  }
 },
 "nbformat": 4,
 "nbformat_minor": 5
}