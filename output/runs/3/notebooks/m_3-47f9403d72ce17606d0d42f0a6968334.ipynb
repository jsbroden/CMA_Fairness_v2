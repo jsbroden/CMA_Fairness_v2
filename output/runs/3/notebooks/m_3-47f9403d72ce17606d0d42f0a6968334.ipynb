{
 "cells": [
  {
   "cell_type": "markdown",
   "id": "ef23dbb3",
   "metadata": {
    "papermill": {
     "duration": 0.023069,
     "end_time": "2025-08-19T18:02:42.145501",
     "exception": false,
     "start_time": "2025-08-19T18:02:42.122432",
     "status": "completed"
    },
    "tags": []
   },
   "source": [
    "# Setup"
   ]
  },
  {
   "cell_type": "code",
   "execution_count": 1,
   "id": "0bc8e7dc",
   "metadata": {
    "execution": {
     "iopub.execute_input": "2025-08-19T18:02:42.167667Z",
     "iopub.status.busy": "2025-08-19T18:02:42.167000Z",
     "iopub.status.idle": "2025-08-19T18:02:42.177385Z",
     "shell.execute_reply": "2025-08-19T18:02:42.176534Z"
    },
    "papermill": {
     "duration": 0.021884,
     "end_time": "2025-08-19T18:02:42.179042",
     "exception": false,
     "start_time": "2025-08-19T18:02:42.157158",
     "status": "completed"
    },
    "tags": []
   },
   "outputs": [
    {
     "name": "stdout",
     "output_type": "stream",
     "text": [
      "/dss/dsshome1/0C/ra93lal2/cma/CMA_Fairness_v2\n"
     ]
    },
    {
     "name": "stderr",
     "output_type": "stream",
     "text": [
      "/dss/dsshome1/0C/ra93lal2/.local/share/virtualenvs/CMA_Fairness_v2-3j10GkSs/lib/python3.10/site-packages/IPython/core/magics/osm.py:393: UserWarning: This is now an optional IPython functionality, using bookmarks requires you to install the `pickleshare` library.\n",
      "  bkms = self.shell.db.get('bookmarks', {})\n",
      "/dss/dsshome1/0C/ra93lal2/.local/share/virtualenvs/CMA_Fairness_v2-3j10GkSs/lib/python3.10/site-packages/IPython/core/magics/osm.py:417: UserWarning: This is now an optional IPython functionality, setting dhist requires you to install the `pickleshare` library.\n",
      "  self.shell.db['dhist'] = compress_dhist(dhist)[-100:]\n"
     ]
    }
   ],
   "source": [
    "%cd ~/cma/CMA_Fairness_v2"
   ]
  },
  {
   "cell_type": "markdown",
   "id": "9d235661",
   "metadata": {
    "papermill": {
     "duration": 0.008827,
     "end_time": "2025-08-19T18:02:42.196602",
     "exception": false,
     "start_time": "2025-08-19T18:02:42.187775",
     "status": "completed"
    },
    "tags": []
   },
   "source": [
    "The following cell holds the definition of our parameters, these values can be overriden by rendering the with e.g. the following command:\n",
    "\n",
    "papermill -p alpha 0.2 -p ratio 0.3 universe_analysis.ipynb output/test_run.ipynb"
   ]
  },
  {
   "cell_type": "code",
   "execution_count": 2,
   "id": "4a789d8e",
   "metadata": {
    "execution": {
     "iopub.execute_input": "2025-08-19T18:02:42.214722Z",
     "iopub.status.busy": "2025-08-19T18:02:42.214297Z",
     "iopub.status.idle": "2025-08-19T18:02:42.218786Z",
     "shell.execute_reply": "2025-08-19T18:02:42.218044Z"
    },
    "papermill": {
     "duration": 0.034339,
     "end_time": "2025-08-19T18:02:42.239352",
     "exception": false,
     "start_time": "2025-08-19T18:02:42.205013",
     "status": "completed"
    },
    "tags": []
   },
   "outputs": [
    {
     "name": "stdout",
     "output_type": "stream",
     "text": [
      "Current working directory: /dss/dsshome1/0C/ra93lal2/cma/CMA_Fairness_v2\n"
     ]
    }
   ],
   "source": [
    "import os\n",
    "print(\"Current working directory:\", os.getcwd())"
   ]
  },
  {
   "cell_type": "code",
   "execution_count": 3,
   "id": "4132aaed",
   "metadata": {
    "execution": {
     "iopub.execute_input": "2025-08-19T18:02:42.269113Z",
     "iopub.status.busy": "2025-08-19T18:02:42.268794Z",
     "iopub.status.idle": "2025-08-19T18:02:42.291423Z",
     "shell.execute_reply": "2025-08-19T18:02:42.290420Z"
    },
    "papermill": {
     "duration": 0.035943,
     "end_time": "2025-08-19T18:02:42.293522",
     "exception": false,
     "start_time": "2025-08-19T18:02:42.257579",
     "status": "completed"
    },
    "tags": [
     "parameters"
    ]
   },
   "outputs": [],
   "source": [
    "run_no = 0\n",
    "universe_id = \"test\"\n",
    "universe = {\n",
    "    \"training_size\": \"5k\", # \"25k\", \"5k\", \"1k\"\n",
    "    \"training_year\": \"2012_14\", # \"2014\", \"2012_14\", \"2010_14\"\n",
    "    \"scale\": \"scale\", # \"scale\", \"do-not-scale\",\n",
    "    \"model\": \"elasticnet\", # \"logreg\", \"penalized_logreg\", \"rf\", \"gbm\", \"elasticnet\"\n",
    "    \"cutoff\": [\"quantile_0.15\", \"quantile_0.30\"],\n",
    "    \"exclude_features\": \"age\", # \"none\", \"nationality\", \"sex\", \"nationality-sex\", \"age\"\n",
    "    \"exclude_subgroups\": \"drop-non-german\", # \"keep-all\", \"drop-non-german\"\n",
    "    \"eval_fairness_grouping\": [\"majority-minority\", \"nationality-all\"]\n",
    "}\n",
    "\n",
    "output_dir=\"./output\"\n",
    "seed=0"
   ]
  },
  {
   "cell_type": "code",
   "execution_count": 4,
   "id": "237eddb6",
   "metadata": {
    "execution": {
     "iopub.execute_input": "2025-08-19T18:02:42.324787Z",
     "iopub.status.busy": "2025-08-19T18:02:42.324456Z",
     "iopub.status.idle": "2025-08-19T18:02:42.329418Z",
     "shell.execute_reply": "2025-08-19T18:02:42.328523Z"
    },
    "papermill": {
     "duration": 0.019059,
     "end_time": "2025-08-19T18:02:42.330739",
     "exception": false,
     "start_time": "2025-08-19T18:02:42.311680",
     "status": "completed"
    },
    "tags": [
     "injected-parameters"
    ]
   },
   "outputs": [],
   "source": [
    "# Parameters\n",
    "universe_id = \"47f9403d72ce17606d0d42f0a6968334\"\n",
    "run_no = \"3\"\n",
    "universe = \"{\\\"cutoff\\\": [\\\"quantile_0.1\\\", \\\"quantile_0.25\\\"], \\\"eval_fairness_grouping\\\": [\\\"majority-minority\\\", \\\"nationality-all\\\"], \\\"exclude_features\\\": \\\"age\\\", \\\"exclude_subgroups\\\": \\\"drop-non-german\\\", \\\"model\\\": \\\"elasticnet\\\", \\\"scale\\\": \\\"do-not-scale\\\", \\\"training_size\\\": \\\"25k\\\", \\\"training_year\\\": \\\"2014\\\"}\"\n",
    "output_dir = \"output\"\n",
    "seed = \"2023\"\n"
   ]
  },
  {
   "cell_type": "code",
   "execution_count": 5,
   "id": "a5d7941f",
   "metadata": {
    "execution": {
     "iopub.execute_input": "2025-08-19T18:02:42.355788Z",
     "iopub.status.busy": "2025-08-19T18:02:42.355500Z",
     "iopub.status.idle": "2025-08-19T18:02:42.361851Z",
     "shell.execute_reply": "2025-08-19T18:02:42.360527Z"
    },
    "papermill": {
     "duration": 0.021012,
     "end_time": "2025-08-19T18:02:42.363334",
     "exception": false,
     "start_time": "2025-08-19T18:02:42.342322",
     "status": "completed"
    },
    "tags": []
   },
   "outputs": [],
   "source": [
    "import json\n",
    "if isinstance(universe, str):\n",
    "    universe = json.loads(universe)"
   ]
  },
  {
   "cell_type": "code",
   "execution_count": 6,
   "id": "7076ccb1",
   "metadata": {
    "execution": {
     "iopub.execute_input": "2025-08-19T18:02:42.391547Z",
     "iopub.status.busy": "2025-08-19T18:02:42.390972Z",
     "iopub.status.idle": "2025-08-19T18:02:42.441465Z",
     "shell.execute_reply": "2025-08-19T18:02:42.440378Z"
    },
    "papermill": {
     "duration": 0.063037,
     "end_time": "2025-08-19T18:02:42.443619",
     "exception": false,
     "start_time": "2025-08-19T18:02:42.380582",
     "status": "completed"
    },
    "tags": []
   },
   "outputs": [],
   "source": [
    "# Auto-reload the custom package\n",
    "%load_ext autoreload\n",
    "%autoreload 1\n",
    "%aimport fairness_multiverse"
   ]
  },
  {
   "cell_type": "code",
   "execution_count": 7,
   "id": "94c8eb93",
   "metadata": {
    "execution": {
     "iopub.execute_input": "2025-08-19T18:02:42.465055Z",
     "iopub.status.busy": "2025-08-19T18:02:42.464394Z",
     "iopub.status.idle": "2025-08-19T18:02:44.128372Z",
     "shell.execute_reply": "2025-08-19T18:02:44.127460Z"
    },
    "papermill": {
     "duration": 1.676399,
     "end_time": "2025-08-19T18:02:44.129915",
     "exception": false,
     "start_time": "2025-08-19T18:02:42.453516",
     "status": "completed"
    },
    "tags": []
   },
   "outputs": [],
   "source": [
    "from fairness_multiverse.universe import UniverseAnalysis\n",
    "\n",
    "universe_analysis = UniverseAnalysis(\n",
    "    run_no = run_no,\n",
    "    universe_id = universe_id,\n",
    "    universe = universe,\n",
    "    output_dir=output_dir,\n",
    ")"
   ]
  },
  {
   "cell_type": "code",
   "execution_count": 8,
   "id": "2a6381cf",
   "metadata": {
    "execution": {
     "iopub.execute_input": "2025-08-19T18:02:44.151407Z",
     "iopub.status.busy": "2025-08-19T18:02:44.150613Z",
     "iopub.status.idle": "2025-08-19T18:02:44.158026Z",
     "shell.execute_reply": "2025-08-19T18:02:44.157029Z"
    },
    "papermill": {
     "duration": 0.019495,
     "end_time": "2025-08-19T18:02:44.159286",
     "exception": false,
     "start_time": "2025-08-19T18:02:44.139791",
     "status": "completed"
    },
    "tags": []
   },
   "outputs": [
    {
     "name": "stdout",
     "output_type": "stream",
     "text": [
      "Using Seed: 2023\n"
     ]
    }
   ],
   "source": [
    "import numpy as np\n",
    "parsed_seed = int(seed)\n",
    "np.random.seed(parsed_seed)\n",
    "print(f\"Using Seed: {parsed_seed}\")"
   ]
  },
  {
   "cell_type": "markdown",
   "id": "b6e958b4",
   "metadata": {
    "papermill": {
     "duration": 0.009299,
     "end_time": "2025-08-19T18:02:44.177981",
     "exception": false,
     "start_time": "2025-08-19T18:02:44.168682",
     "status": "completed"
    },
    "tags": []
   },
   "source": [
    "# Loading Data"
   ]
  },
  {
   "cell_type": "code",
   "execution_count": 9,
   "id": "98701482",
   "metadata": {
    "execution": {
     "iopub.execute_input": "2025-08-19T18:02:44.199947Z",
     "iopub.status.busy": "2025-08-19T18:02:44.198634Z",
     "iopub.status.idle": "2025-08-19T18:02:55.138902Z",
     "shell.execute_reply": "2025-08-19T18:02:55.137307Z"
    },
    "papermill": {
     "duration": 10.957064,
     "end_time": "2025-08-19T18:02:55.144512",
     "exception": false,
     "start_time": "2025-08-19T18:02:44.187448",
     "status": "completed"
    },
    "tags": []
   },
   "outputs": [
    {
     "name": "stdout",
     "output_type": "stream",
     "text": [
      "Loading SIAB data from cache: data/siab_cached.csv.gz\n"
     ]
    },
    {
     "name": "stdout",
     "output_type": "stream",
     "text": [
      "(643690, 164)\n"
     ]
    }
   ],
   "source": [
    "from pathlib import Path\n",
    "import pandas as pd\n",
    "\n",
    "# File paths\n",
    "raw_file = Path(\"data/raw/siab.csv\")\n",
    "cache_file = Path(\"data/siab_cached.csv.gz\")\n",
    "\n",
    "# Ensure cache directory exists\n",
    "cache_file.parent.mkdir(parents=True, exist_ok=True)\n",
    "\n",
    "# Load with simple caching\n",
    "if cache_file.exists():\n",
    "    print(f\"Loading SIAB data from cache: {cache_file}\")\n",
    "    siab = pd.read_csv(cache_file, compression='gzip')\n",
    "else:\n",
    "    print(f\"Cache not found. Reading raw SIAB data: {raw_file}\")\n",
    "    siab = pd.read_csv(raw_file)\n",
    "    siab.to_csv(cache_file, index=False, compression='gzip')\n",
    "    print(f\"Cached SIAB data to: {cache_file}\")\n",
    "\n",
    "print(siab.shape)"
   ]
  },
  {
   "cell_type": "code",
   "execution_count": 10,
   "id": "058d2abb",
   "metadata": {
    "execution": {
     "iopub.execute_input": "2025-08-19T18:02:55.196869Z",
     "iopub.status.busy": "2025-08-19T18:02:55.196161Z",
     "iopub.status.idle": "2025-08-19T18:02:55.420527Z",
     "shell.execute_reply": "2025-08-19T18:02:55.419096Z"
    },
    "papermill": {
     "duration": 0.251279,
     "end_time": "2025-08-19T18:02:55.422503",
     "exception": false,
     "start_time": "2025-08-19T18:02:55.171224",
     "status": "completed"
    },
    "tags": []
   },
   "outputs": [
    {
     "data": {
      "text/html": [
       "<div>\n",
       "<style scoped>\n",
       "    .dataframe tbody tr th:only-of-type {\n",
       "        vertical-align: middle;\n",
       "    }\n",
       "\n",
       "    .dataframe tbody tr th {\n",
       "        vertical-align: top;\n",
       "    }\n",
       "\n",
       "    .dataframe thead th {\n",
       "        text-align: right;\n",
       "    }\n",
       "</style>\n",
       "<table border=\"1\" class=\"dataframe\">\n",
       "  <thead>\n",
       "    <tr style=\"text-align: right;\">\n",
       "      <th></th>\n",
       "      <th>persnr</th>\n",
       "      <th>year</th>\n",
       "      <th>nrEntry</th>\n",
       "      <th>ltue</th>\n",
       "      <th>employed_before</th>\n",
       "      <th>receipt_leh_before</th>\n",
       "      <th>receipt_lhg_before</th>\n",
       "      <th>se_before</th>\n",
       "      <th>ASU_notue_seeking_before</th>\n",
       "      <th>ASU_other_before</th>\n",
       "      <th>...</th>\n",
       "      <th>minijob_tot_dur_byage</th>\n",
       "      <th>ft_tot_dur_byage</th>\n",
       "      <th>befrist_tot_dur_byage</th>\n",
       "      <th>leih_tot_dur_byage</th>\n",
       "      <th>LHG_tot_dur_byage</th>\n",
       "      <th>LEH_tot_dur_byage</th>\n",
       "      <th>almp_tot_dur_byage</th>\n",
       "      <th>almp_aw_tot_dur_byage</th>\n",
       "      <th>se_tot_dur_byage</th>\n",
       "      <th>seeking1_tot_dur_byage</th>\n",
       "    </tr>\n",
       "  </thead>\n",
       "  <tbody>\n",
       "    <tr>\n",
       "      <th>0</th>\n",
       "      <td>7</td>\n",
       "      <td>2015</td>\n",
       "      <td>1</td>\n",
       "      <td>0</td>\n",
       "      <td>1</td>\n",
       "      <td>0</td>\n",
       "      <td>0</td>\n",
       "      <td>0</td>\n",
       "      <td>1</td>\n",
       "      <td>0</td>\n",
       "      <td>...</td>\n",
       "      <td>0.000000</td>\n",
       "      <td>0.000000</td>\n",
       "      <td>15.043478</td>\n",
       "      <td>0.000000</td>\n",
       "      <td>0.000000</td>\n",
       "      <td>0.000000</td>\n",
       "      <td>0.000000</td>\n",
       "      <td>0.000000</td>\n",
       "      <td>0.000000</td>\n",
       "      <td>0.000000</td>\n",
       "    </tr>\n",
       "    <tr>\n",
       "      <th>1</th>\n",
       "      <td>18</td>\n",
       "      <td>2010</td>\n",
       "      <td>1</td>\n",
       "      <td>1</td>\n",
       "      <td>0</td>\n",
       "      <td>0</td>\n",
       "      <td>0</td>\n",
       "      <td>0</td>\n",
       "      <td>0</td>\n",
       "      <td>0</td>\n",
       "      <td>...</td>\n",
       "      <td>0.000000</td>\n",
       "      <td>0.000000</td>\n",
       "      <td>0.000000</td>\n",
       "      <td>0.000000</td>\n",
       "      <td>0.000000</td>\n",
       "      <td>0.000000</td>\n",
       "      <td>0.000000</td>\n",
       "      <td>0.000000</td>\n",
       "      <td>0.000000</td>\n",
       "      <td>0.000000</td>\n",
       "    </tr>\n",
       "    <tr>\n",
       "      <th>2</th>\n",
       "      <td>18</td>\n",
       "      <td>2011</td>\n",
       "      <td>2</td>\n",
       "      <td>0</td>\n",
       "      <td>1</td>\n",
       "      <td>0</td>\n",
       "      <td>1</td>\n",
       "      <td>0</td>\n",
       "      <td>1</td>\n",
       "      <td>0</td>\n",
       "      <td>...</td>\n",
       "      <td>2.714286</td>\n",
       "      <td>2.714286</td>\n",
       "      <td>0.000000</td>\n",
       "      <td>0.000000</td>\n",
       "      <td>10.775510</td>\n",
       "      <td>0.000000</td>\n",
       "      <td>8.367347</td>\n",
       "      <td>0.000000</td>\n",
       "      <td>0.000000</td>\n",
       "      <td>9.836735</td>\n",
       "    </tr>\n",
       "    <tr>\n",
       "      <th>3</th>\n",
       "      <td>18</td>\n",
       "      <td>2012</td>\n",
       "      <td>3</td>\n",
       "      <td>0</td>\n",
       "      <td>1</td>\n",
       "      <td>0</td>\n",
       "      <td>1</td>\n",
       "      <td>0</td>\n",
       "      <td>1</td>\n",
       "      <td>0</td>\n",
       "      <td>...</td>\n",
       "      <td>4.200000</td>\n",
       "      <td>4.200000</td>\n",
       "      <td>0.000000</td>\n",
       "      <td>0.000000</td>\n",
       "      <td>12.100000</td>\n",
       "      <td>0.000000</td>\n",
       "      <td>9.400000</td>\n",
       "      <td>0.000000</td>\n",
       "      <td>0.000000</td>\n",
       "      <td>9.960000</td>\n",
       "    </tr>\n",
       "    <tr>\n",
       "      <th>4</th>\n",
       "      <td>18</td>\n",
       "      <td>2012</td>\n",
       "      <td>4</td>\n",
       "      <td>0</td>\n",
       "      <td>1</td>\n",
       "      <td>0</td>\n",
       "      <td>1</td>\n",
       "      <td>0</td>\n",
       "      <td>1</td>\n",
       "      <td>0</td>\n",
       "      <td>...</td>\n",
       "      <td>5.460000</td>\n",
       "      <td>5.460000</td>\n",
       "      <td>0.000000</td>\n",
       "      <td>0.000000</td>\n",
       "      <td>13.360000</td>\n",
       "      <td>0.000000</td>\n",
       "      <td>10.320000</td>\n",
       "      <td>0.000000</td>\n",
       "      <td>0.000000</td>\n",
       "      <td>10.280000</td>\n",
       "    </tr>\n",
       "    <tr>\n",
       "      <th>...</th>\n",
       "      <td>...</td>\n",
       "      <td>...</td>\n",
       "      <td>...</td>\n",
       "      <td>...</td>\n",
       "      <td>...</td>\n",
       "      <td>...</td>\n",
       "      <td>...</td>\n",
       "      <td>...</td>\n",
       "      <td>...</td>\n",
       "      <td>...</td>\n",
       "      <td>...</td>\n",
       "      <td>...</td>\n",
       "      <td>...</td>\n",
       "      <td>...</td>\n",
       "      <td>...</td>\n",
       "      <td>...</td>\n",
       "      <td>...</td>\n",
       "      <td>...</td>\n",
       "      <td>...</td>\n",
       "      <td>...</td>\n",
       "      <td>...</td>\n",
       "    </tr>\n",
       "    <tr>\n",
       "      <th>643685</th>\n",
       "      <td>1827860</td>\n",
       "      <td>2013</td>\n",
       "      <td>1</td>\n",
       "      <td>0</td>\n",
       "      <td>0</td>\n",
       "      <td>0</td>\n",
       "      <td>1</td>\n",
       "      <td>0</td>\n",
       "      <td>0</td>\n",
       "      <td>1</td>\n",
       "      <td>...</td>\n",
       "      <td>0.000000</td>\n",
       "      <td>0.000000</td>\n",
       "      <td>0.000000</td>\n",
       "      <td>0.000000</td>\n",
       "      <td>0.612903</td>\n",
       "      <td>0.000000</td>\n",
       "      <td>0.000000</td>\n",
       "      <td>0.000000</td>\n",
       "      <td>0.000000</td>\n",
       "      <td>0.000000</td>\n",
       "    </tr>\n",
       "    <tr>\n",
       "      <th>643686</th>\n",
       "      <td>1827860</td>\n",
       "      <td>2015</td>\n",
       "      <td>2</td>\n",
       "      <td>1</td>\n",
       "      <td>0</td>\n",
       "      <td>0</td>\n",
       "      <td>1</td>\n",
       "      <td>0</td>\n",
       "      <td>1</td>\n",
       "      <td>0</td>\n",
       "      <td>...</td>\n",
       "      <td>0.000000</td>\n",
       "      <td>0.000000</td>\n",
       "      <td>0.212121</td>\n",
       "      <td>0.212121</td>\n",
       "      <td>17.363636</td>\n",
       "      <td>0.000000</td>\n",
       "      <td>8.909091</td>\n",
       "      <td>0.000000</td>\n",
       "      <td>0.000000</td>\n",
       "      <td>7.121212</td>\n",
       "    </tr>\n",
       "    <tr>\n",
       "      <th>643687</th>\n",
       "      <td>1827860</td>\n",
       "      <td>2016</td>\n",
       "      <td>3</td>\n",
       "      <td>1</td>\n",
       "      <td>0</td>\n",
       "      <td>0</td>\n",
       "      <td>1</td>\n",
       "      <td>1</td>\n",
       "      <td>0</td>\n",
       "      <td>1</td>\n",
       "      <td>...</td>\n",
       "      <td>0.000000</td>\n",
       "      <td>0.000000</td>\n",
       "      <td>0.294118</td>\n",
       "      <td>0.205882</td>\n",
       "      <td>34.705882</td>\n",
       "      <td>0.000000</td>\n",
       "      <td>10.352941</td>\n",
       "      <td>1.705882</td>\n",
       "      <td>1.705882</td>\n",
       "      <td>23.911765</td>\n",
       "    </tr>\n",
       "    <tr>\n",
       "      <th>643688</th>\n",
       "      <td>1827869</td>\n",
       "      <td>2013</td>\n",
       "      <td>1</td>\n",
       "      <td>1</td>\n",
       "      <td>1</td>\n",
       "      <td>0</td>\n",
       "      <td>0</td>\n",
       "      <td>0</td>\n",
       "      <td>1</td>\n",
       "      <td>0</td>\n",
       "      <td>...</td>\n",
       "      <td>0.000000</td>\n",
       "      <td>0.000000</td>\n",
       "      <td>0.000000</td>\n",
       "      <td>0.000000</td>\n",
       "      <td>0.000000</td>\n",
       "      <td>0.525424</td>\n",
       "      <td>0.000000</td>\n",
       "      <td>0.000000</td>\n",
       "      <td>0.000000</td>\n",
       "      <td>0.000000</td>\n",
       "    </tr>\n",
       "    <tr>\n",
       "      <th>643689</th>\n",
       "      <td>1827869</td>\n",
       "      <td>2014</td>\n",
       "      <td>2</td>\n",
       "      <td>0</td>\n",
       "      <td>0</td>\n",
       "      <td>1</td>\n",
       "      <td>0</td>\n",
       "      <td>0</td>\n",
       "      <td>1</td>\n",
       "      <td>0</td>\n",
       "      <td>...</td>\n",
       "      <td>0.000000</td>\n",
       "      <td>0.666667</td>\n",
       "      <td>0.666667</td>\n",
       "      <td>0.000000</td>\n",
       "      <td>0.000000</td>\n",
       "      <td>8.950000</td>\n",
       "      <td>1.033333</td>\n",
       "      <td>0.083333</td>\n",
       "      <td>0.083333</td>\n",
       "      <td>8.133333</td>\n",
       "    </tr>\n",
       "  </tbody>\n",
       "</table>\n",
       "<p>643690 rows × 164 columns</p>\n",
       "</div>"
      ],
      "text/plain": [
       "         persnr  year  nrEntry  ltue  employed_before  receipt_leh_before  \\\n",
       "0             7  2015        1     0                1                   0   \n",
       "1            18  2010        1     1                0                   0   \n",
       "2            18  2011        2     0                1                   0   \n",
       "3            18  2012        3     0                1                   0   \n",
       "4            18  2012        4     0                1                   0   \n",
       "...         ...   ...      ...   ...              ...                 ...   \n",
       "643685  1827860  2013        1     0                0                   0   \n",
       "643686  1827860  2015        2     1                0                   0   \n",
       "643687  1827860  2016        3     1                0                   0   \n",
       "643688  1827869  2013        1     1                1                   0   \n",
       "643689  1827869  2014        2     0                0                   1   \n",
       "\n",
       "        receipt_lhg_before  se_before  ASU_notue_seeking_before  \\\n",
       "0                        0          0                         1   \n",
       "1                        0          0                         0   \n",
       "2                        1          0                         1   \n",
       "3                        1          0                         1   \n",
       "4                        1          0                         1   \n",
       "...                    ...        ...                       ...   \n",
       "643685                   1          0                         0   \n",
       "643686                   1          0                         1   \n",
       "643687                   1          1                         0   \n",
       "643688                   0          0                         1   \n",
       "643689                   0          0                         1   \n",
       "\n",
       "        ASU_other_before  ...  minijob_tot_dur_byage  ft_tot_dur_byage  \\\n",
       "0                      0  ...               0.000000          0.000000   \n",
       "1                      0  ...               0.000000          0.000000   \n",
       "2                      0  ...               2.714286          2.714286   \n",
       "3                      0  ...               4.200000          4.200000   \n",
       "4                      0  ...               5.460000          5.460000   \n",
       "...                  ...  ...                    ...               ...   \n",
       "643685                 1  ...               0.000000          0.000000   \n",
       "643686                 0  ...               0.000000          0.000000   \n",
       "643687                 1  ...               0.000000          0.000000   \n",
       "643688                 0  ...               0.000000          0.000000   \n",
       "643689                 0  ...               0.000000          0.666667   \n",
       "\n",
       "        befrist_tot_dur_byage  leih_tot_dur_byage  LHG_tot_dur_byage  \\\n",
       "0                   15.043478            0.000000           0.000000   \n",
       "1                    0.000000            0.000000           0.000000   \n",
       "2                    0.000000            0.000000          10.775510   \n",
       "3                    0.000000            0.000000          12.100000   \n",
       "4                    0.000000            0.000000          13.360000   \n",
       "...                       ...                 ...                ...   \n",
       "643685               0.000000            0.000000           0.612903   \n",
       "643686               0.212121            0.212121          17.363636   \n",
       "643687               0.294118            0.205882          34.705882   \n",
       "643688               0.000000            0.000000           0.000000   \n",
       "643689               0.666667            0.000000           0.000000   \n",
       "\n",
       "        LEH_tot_dur_byage  almp_tot_dur_byage  almp_aw_tot_dur_byage  \\\n",
       "0                0.000000            0.000000               0.000000   \n",
       "1                0.000000            0.000000               0.000000   \n",
       "2                0.000000            8.367347               0.000000   \n",
       "3                0.000000            9.400000               0.000000   \n",
       "4                0.000000           10.320000               0.000000   \n",
       "...                   ...                 ...                    ...   \n",
       "643685           0.000000            0.000000               0.000000   \n",
       "643686           0.000000            8.909091               0.000000   \n",
       "643687           0.000000           10.352941               1.705882   \n",
       "643688           0.525424            0.000000               0.000000   \n",
       "643689           8.950000            1.033333               0.083333   \n",
       "\n",
       "        se_tot_dur_byage  seeking1_tot_dur_byage  \n",
       "0               0.000000                0.000000  \n",
       "1               0.000000                0.000000  \n",
       "2               0.000000                9.836735  \n",
       "3               0.000000                9.960000  \n",
       "4               0.000000               10.280000  \n",
       "...                  ...                     ...  \n",
       "643685          0.000000                0.000000  \n",
       "643686          0.000000                7.121212  \n",
       "643687          1.705882               23.911765  \n",
       "643688          0.000000                0.000000  \n",
       "643689          0.083333                8.133333  \n",
       "\n",
       "[643690 rows x 164 columns]"
      ]
     },
     "execution_count": 10,
     "metadata": {},
     "output_type": "execute_result"
    }
   ],
   "source": [
    "siab"
   ]
  },
  {
   "cell_type": "markdown",
   "id": "1f87e805",
   "metadata": {
    "papermill": {
     "duration": 0.010855,
     "end_time": "2025-08-19T18:02:55.443863",
     "exception": false,
     "start_time": "2025-08-19T18:02:55.433008",
     "status": "completed"
    },
    "tags": []
   },
   "source": [
    "# Splitting Data and Setting Training Data Size"
   ]
  },
  {
   "cell_type": "code",
   "execution_count": 11,
   "id": "910ae358",
   "metadata": {
    "execution": {
     "iopub.execute_input": "2025-08-19T18:02:55.465697Z",
     "iopub.status.busy": "2025-08-19T18:02:55.465106Z",
     "iopub.status.idle": "2025-08-19T18:02:56.097592Z",
     "shell.execute_reply": "2025-08-19T18:02:56.096651Z"
    },
    "papermill": {
     "duration": 0.645781,
     "end_time": "2025-08-19T18:02:56.099363",
     "exception": false,
     "start_time": "2025-08-19T18:02:55.453582",
     "status": "completed"
    },
    "tags": []
   },
   "outputs": [],
   "source": [
    "from fairness_multiverse.universe import sample_by_year_size\n",
    "\n",
    "siab_train = sample_by_year_size(siab,\n",
    "                               training_year=universe[\"training_year\"],\n",
    "                               training_size=universe[\"training_size\"])"
   ]
  },
  {
   "cell_type": "code",
   "execution_count": 12,
   "id": "919c8ff5",
   "metadata": {
    "execution": {
     "iopub.execute_input": "2025-08-19T18:02:56.121120Z",
     "iopub.status.busy": "2025-08-19T18:02:56.120628Z",
     "iopub.status.idle": "2025-08-19T18:02:56.127037Z",
     "shell.execute_reply": "2025-08-19T18:02:56.126344Z"
    },
    "papermill": {
     "duration": 0.018733,
     "end_time": "2025-08-19T18:02:56.128446",
     "exception": false,
     "start_time": "2025-08-19T18:02:56.109713",
     "status": "completed"
    },
    "tags": []
   },
   "outputs": [
    {
     "data": {
      "text/plain": [
       "(25000, 164)"
      ]
     },
     "execution_count": 12,
     "metadata": {},
     "output_type": "execute_result"
    }
   ],
   "source": [
    "siab_train.shape"
   ]
  },
  {
   "cell_type": "code",
   "execution_count": 13,
   "id": "feb13bf4",
   "metadata": {
    "execution": {
     "iopub.execute_input": "2025-08-19T18:02:56.148915Z",
     "iopub.status.busy": "2025-08-19T18:02:56.148653Z",
     "iopub.status.idle": "2025-08-19T18:02:56.157446Z",
     "shell.execute_reply": "2025-08-19T18:02:56.156724Z"
    },
    "papermill": {
     "duration": 0.02083,
     "end_time": "2025-08-19T18:02:56.159055",
     "exception": false,
     "start_time": "2025-08-19T18:02:56.138225",
     "status": "completed"
    },
    "tags": []
   },
   "outputs": [
    {
     "data": {
      "text/plain": [
       "year\n",
       "2014    25000\n",
       "dtype: int64"
      ]
     },
     "metadata": {},
     "output_type": "display_data"
    }
   ],
   "source": [
    "display(siab_train.groupby(\"year\").size())"
   ]
  },
  {
   "cell_type": "code",
   "execution_count": 14,
   "id": "0997782f",
   "metadata": {
    "execution": {
     "iopub.execute_input": "2025-08-19T18:02:56.179750Z",
     "iopub.status.busy": "2025-08-19T18:02:56.179482Z",
     "iopub.status.idle": "2025-08-19T18:02:56.433830Z",
     "shell.execute_reply": "2025-08-19T18:02:56.433022Z"
    },
    "papermill": {
     "duration": 0.266775,
     "end_time": "2025-08-19T18:02:56.435773",
     "exception": false,
     "start_time": "2025-08-19T18:02:56.168998",
     "status": "completed"
    },
    "tags": []
   },
   "outputs": [],
   "source": [
    "#siab_train = siab_s[siab_s.year < 2015]\n",
    "siab_calib = siab[siab.year == 2015]\n",
    "siab_test = siab[siab.year == 2016]"
   ]
  },
  {
   "cell_type": "code",
   "execution_count": 15,
   "id": "2c1e4012",
   "metadata": {
    "execution": {
     "iopub.execute_input": "2025-08-19T18:02:56.460174Z",
     "iopub.status.busy": "2025-08-19T18:02:56.459715Z",
     "iopub.status.idle": "2025-08-19T18:02:56.464217Z",
     "shell.execute_reply": "2025-08-19T18:02:56.463343Z"
    },
    "papermill": {
     "duration": 0.018302,
     "end_time": "2025-08-19T18:02:56.465546",
     "exception": false,
     "start_time": "2025-08-19T18:02:56.447244",
     "status": "completed"
    },
    "tags": []
   },
   "outputs": [],
   "source": [
    "#siab_calib.shape"
   ]
  },
  {
   "cell_type": "code",
   "execution_count": 16,
   "id": "f66b54ca",
   "metadata": {
    "execution": {
     "iopub.execute_input": "2025-08-19T18:02:56.505768Z",
     "iopub.status.busy": "2025-08-19T18:02:56.505293Z",
     "iopub.status.idle": "2025-08-19T18:02:56.509685Z",
     "shell.execute_reply": "2025-08-19T18:02:56.509031Z"
    },
    "papermill": {
     "duration": 0.032396,
     "end_time": "2025-08-19T18:02:56.510877",
     "exception": false,
     "start_time": "2025-08-19T18:02:56.478481",
     "status": "completed"
    },
    "tags": []
   },
   "outputs": [],
   "source": [
    "#siab_test.shape"
   ]
  },
  {
   "cell_type": "code",
   "execution_count": 17,
   "id": "27e4384d",
   "metadata": {
    "execution": {
     "iopub.execute_input": "2025-08-19T18:02:56.531781Z",
     "iopub.status.busy": "2025-08-19T18:02:56.531518Z",
     "iopub.status.idle": "2025-08-19T18:02:56.544850Z",
     "shell.execute_reply": "2025-08-19T18:02:56.544095Z"
    },
    "papermill": {
     "duration": 0.025254,
     "end_time": "2025-08-19T18:02:56.546090",
     "exception": false,
     "start_time": "2025-08-19T18:02:56.520836",
     "status": "completed"
    },
    "tags": []
   },
   "outputs": [],
   "source": [
    "X_train = siab_train.iloc[:,4:164]\n",
    "y_train = siab_train.iloc[:, [3]]"
   ]
  },
  {
   "cell_type": "code",
   "execution_count": 18,
   "id": "08ee8389",
   "metadata": {
    "execution": {
     "iopub.execute_input": "2025-08-19T18:02:56.574268Z",
     "iopub.status.busy": "2025-08-19T18:02:56.571290Z",
     "iopub.status.idle": "2025-08-19T18:02:56.643734Z",
     "shell.execute_reply": "2025-08-19T18:02:56.642681Z"
    },
    "papermill": {
     "duration": 0.087102,
     "end_time": "2025-08-19T18:02:56.645376",
     "exception": false,
     "start_time": "2025-08-19T18:02:56.558274",
     "status": "completed"
    },
    "tags": []
   },
   "outputs": [],
   "source": [
    "X_calib = siab_calib.iloc[:,4:164]\n",
    "y_calib = siab_calib.iloc[:, [3]]"
   ]
  },
  {
   "cell_type": "code",
   "execution_count": 19,
   "id": "b7ff42e0",
   "metadata": {
    "execution": {
     "iopub.execute_input": "2025-08-19T18:02:56.671459Z",
     "iopub.status.busy": "2025-08-19T18:02:56.670969Z",
     "iopub.status.idle": "2025-08-19T18:02:56.734134Z",
     "shell.execute_reply": "2025-08-19T18:02:56.733076Z"
    },
    "papermill": {
     "duration": 0.077859,
     "end_time": "2025-08-19T18:02:56.735950",
     "exception": false,
     "start_time": "2025-08-19T18:02:56.658091",
     "status": "completed"
    },
    "tags": []
   },
   "outputs": [],
   "source": [
    "X_test = siab_test.iloc[:,4:164]\n",
    "y_true = siab_test.iloc[:, [3]]"
   ]
  },
  {
   "cell_type": "code",
   "execution_count": 20,
   "id": "0275101e",
   "metadata": {
    "execution": {
     "iopub.execute_input": "2025-08-19T18:02:56.760076Z",
     "iopub.status.busy": "2025-08-19T18:02:56.759619Z",
     "iopub.status.idle": "2025-08-19T18:02:56.898378Z",
     "shell.execute_reply": "2025-08-19T18:02:56.896939Z"
    },
    "papermill": {
     "duration": 0.152128,
     "end_time": "2025-08-19T18:02:56.900266",
     "exception": false,
     "start_time": "2025-08-19T18:02:56.748138",
     "status": "completed"
    },
    "tags": []
   },
   "outputs": [],
   "source": [
    "# Auxiliary data needed downstream in the pipeline\n",
    "\n",
    "org_train = X_train.copy()\n",
    "org_test = X_test.copy()\n",
    "org_calib = X_calib.copy()"
   ]
  },
  {
   "cell_type": "markdown",
   "id": "b461e618",
   "metadata": {
    "papermill": {
     "duration": 0.011592,
     "end_time": "2025-08-19T18:02:56.923113",
     "exception": false,
     "start_time": "2025-08-19T18:02:56.911521",
     "status": "completed"
    },
    "tags": []
   },
   "source": [
    "# Preprocessing Data"
   ]
  },
  {
   "cell_type": "code",
   "execution_count": 21,
   "id": "78e74c4b",
   "metadata": {
    "execution": {
     "iopub.execute_input": "2025-08-19T18:02:56.948367Z",
     "iopub.status.busy": "2025-08-19T18:02:56.947561Z",
     "iopub.status.idle": "2025-08-19T18:02:56.959500Z",
     "shell.execute_reply": "2025-08-19T18:02:56.958106Z"
    },
    "papermill": {
     "duration": 0.027326,
     "end_time": "2025-08-19T18:02:56.961497",
     "exception": false,
     "start_time": "2025-08-19T18:02:56.934171",
     "status": "completed"
    },
    "tags": []
   },
   "outputs": [],
   "source": [
    "# EXCLUDE PROTECTED FEATURES\n",
    "# --------------------------\n",
    "\n",
    "excluded_features = universe[\"exclude_features\"].split(\"-\")\n",
    "excluded_features_dictionary = {\n",
    "    \"nationality\": [\"maxdeutsch1\", \"maxdeutsch.Missing.\"],\n",
    "    \"sex\": [\"frau1\"],\n",
    "    \"age\": [\"age\"],\n",
    "}"
   ]
  },
  {
   "cell_type": "code",
   "execution_count": 22,
   "id": "f8e63555",
   "metadata": {
    "execution": {
     "iopub.execute_input": "2025-08-19T18:02:56.997250Z",
     "iopub.status.busy": "2025-08-19T18:02:56.996034Z",
     "iopub.status.idle": "2025-08-19T18:02:57.056064Z",
     "shell.execute_reply": "2025-08-19T18:02:57.054358Z"
    },
    "papermill": {
     "duration": 0.084604,
     "end_time": "2025-08-19T18:02:57.059425",
     "exception": false,
     "start_time": "2025-08-19T18:02:56.974821",
     "status": "completed"
    },
    "tags": []
   },
   "outputs": [],
   "source": [
    "excluded_features_columns = [\n",
    "    excluded_features_dictionary[f] for f in excluded_features if len(f) > 0 and f != \"none\"\n",
    "]"
   ]
  },
  {
   "cell_type": "code",
   "execution_count": 23,
   "id": "da781f7c",
   "metadata": {
    "execution": {
     "iopub.execute_input": "2025-08-19T18:02:57.099936Z",
     "iopub.status.busy": "2025-08-19T18:02:57.098340Z",
     "iopub.status.idle": "2025-08-19T18:02:57.108025Z",
     "shell.execute_reply": "2025-08-19T18:02:57.106255Z"
    },
    "papermill": {
     "duration": 0.025817,
     "end_time": "2025-08-19T18:02:57.109950",
     "exception": false,
     "start_time": "2025-08-19T18:02:57.084133",
     "status": "completed"
    },
    "tags": []
   },
   "outputs": [],
   "source": [
    "from fairness_multiverse.universe import flatten_once\n",
    "\n",
    "excluded_features_columns = flatten_once(excluded_features_columns)"
   ]
  },
  {
   "cell_type": "code",
   "execution_count": 24,
   "id": "37fef0f0",
   "metadata": {
    "execution": {
     "iopub.execute_input": "2025-08-19T18:02:57.137342Z",
     "iopub.status.busy": "2025-08-19T18:02:57.135651Z",
     "iopub.status.idle": "2025-08-19T18:02:57.198400Z",
     "shell.execute_reply": "2025-08-19T18:02:57.197573Z"
    },
    "papermill": {
     "duration": 0.077555,
     "end_time": "2025-08-19T18:02:57.200769",
     "exception": false,
     "start_time": "2025-08-19T18:02:57.123214",
     "status": "completed"
    },
    "tags": []
   },
   "outputs": [
    {
     "name": "stdout",
     "output_type": "stream",
     "text": [
      "Dropping features: ['age']\n"
     ]
    }
   ],
   "source": [
    "if len(excluded_features_columns) > 0:\n",
    "    print(f\"Dropping features: {excluded_features_columns}\")\n",
    "    X_train.drop(excluded_features_columns, axis=1, inplace=True)"
   ]
  },
  {
   "cell_type": "code",
   "execution_count": 25,
   "id": "d029e3e9",
   "metadata": {
    "execution": {
     "iopub.execute_input": "2025-08-19T18:02:57.245513Z",
     "iopub.status.busy": "2025-08-19T18:02:57.239851Z",
     "iopub.status.idle": "2025-08-19T18:02:57.321122Z",
     "shell.execute_reply": "2025-08-19T18:02:57.319585Z"
    },
    "papermill": {
     "duration": 0.100602,
     "end_time": "2025-08-19T18:02:57.326079",
     "exception": false,
     "start_time": "2025-08-19T18:02:57.225477",
     "status": "completed"
    },
    "tags": []
   },
   "outputs": [
    {
     "name": "stdout",
     "output_type": "stream",
     "text": [
      "Dropping features: ['age']\n"
     ]
    }
   ],
   "source": [
    "if len(excluded_features_columns) > 0:\n",
    "    print(f\"Dropping features: {excluded_features_columns}\")\n",
    "    X_test.drop(excluded_features_columns, axis=1, inplace=True)"
   ]
  },
  {
   "cell_type": "code",
   "execution_count": 26,
   "id": "01d571f0",
   "metadata": {
    "execution": {
     "iopub.execute_input": "2025-08-19T18:02:57.351055Z",
     "iopub.status.busy": "2025-08-19T18:02:57.350479Z",
     "iopub.status.idle": "2025-08-19T18:02:57.408563Z",
     "shell.execute_reply": "2025-08-19T18:02:57.407523Z"
    },
    "papermill": {
     "duration": 0.071682,
     "end_time": "2025-08-19T18:02:57.410297",
     "exception": false,
     "start_time": "2025-08-19T18:02:57.338615",
     "status": "completed"
    },
    "tags": []
   },
   "outputs": [
    {
     "name": "stdout",
     "output_type": "stream",
     "text": [
      "Dropping features: ['age']\n"
     ]
    }
   ],
   "source": [
    "if len(excluded_features_columns) > 0:\n",
    "    print(f\"Dropping features: {excluded_features_columns}\")\n",
    "    X_calib.drop(excluded_features_columns, axis=1, inplace=True)"
   ]
  },
  {
   "cell_type": "code",
   "execution_count": 27,
   "id": "3037356e",
   "metadata": {
    "execution": {
     "iopub.execute_input": "2025-08-19T18:02:57.436243Z",
     "iopub.status.busy": "2025-08-19T18:02:57.435637Z",
     "iopub.status.idle": "2025-08-19T18:02:57.441527Z",
     "shell.execute_reply": "2025-08-19T18:02:57.440645Z"
    },
    "papermill": {
     "duration": 0.020258,
     "end_time": "2025-08-19T18:02:57.443177",
     "exception": false,
     "start_time": "2025-08-19T18:02:57.422919",
     "status": "completed"
    },
    "tags": []
   },
   "outputs": [],
   "source": [
    "# EXCLUDE CERTAIN SUBGROUPS\n",
    "# -------------------------\n",
    "\n",
    "mode = universe.get(\"exclude_subgroups\", \"keep-all\") # Defaults to \"keep-all\" if the key is missing."
   ]
  },
  {
   "cell_type": "code",
   "execution_count": 28,
   "id": "9d1e63fd",
   "metadata": {
    "execution": {
     "iopub.execute_input": "2025-08-19T18:02:57.467750Z",
     "iopub.status.busy": "2025-08-19T18:02:57.466491Z",
     "iopub.status.idle": "2025-08-19T18:02:57.475799Z",
     "shell.execute_reply": "2025-08-19T18:02:57.474627Z"
    },
    "papermill": {
     "duration": 0.030226,
     "end_time": "2025-08-19T18:02:57.484237",
     "exception": false,
     "start_time": "2025-08-19T18:02:57.454011",
     "status": "completed"
    },
    "tags": []
   },
   "outputs": [],
   "source": [
    "if mode == \"keep-all\":\n",
    "    keep_mask = pd.Series(True, index=org_train.index)\n",
    "\n",
    "elif mode == \"drop-non-german\":\n",
    "    keep_mask = (org_train[\"maxdeutsch1\"] == 1) & (org_train[\"maxdeutsch.Missing.\"] == 0)\n",
    "\n",
    "else:\n",
    "    raise ValueError(f\"Unsupported mode for exclude_subgroups: {mode}\")"
   ]
  },
  {
   "cell_type": "code",
   "execution_count": 29,
   "id": "d3b65474",
   "metadata": {
    "execution": {
     "iopub.execute_input": "2025-08-19T18:02:57.511855Z",
     "iopub.status.busy": "2025-08-19T18:02:57.510435Z",
     "iopub.status.idle": "2025-08-19T18:02:57.520786Z",
     "shell.execute_reply": "2025-08-19T18:02:57.519544Z"
    },
    "papermill": {
     "duration": 0.024201,
     "end_time": "2025-08-19T18:02:57.522244",
     "exception": false,
     "start_time": "2025-08-19T18:02:57.498043",
     "status": "completed"
    },
    "tags": []
   },
   "outputs": [
    {
     "name": "stdout",
     "output_type": "stream",
     "text": [
      "Dropping 3688 rows (14.75%) where mode='drop-non-german'\n"
     ]
    }
   ],
   "source": [
    "n_drop = (~keep_mask).sum() # Calculates how many rows are set to be dropped\n",
    "if n_drop > 0:\n",
    "    pct = n_drop / len(keep_mask) * 100\n",
    "    print(f\"Dropping {n_drop} rows ({pct:.2f}%) where mode='{mode}'\")"
   ]
  },
  {
   "cell_type": "code",
   "execution_count": 30,
   "id": "f44389b3",
   "metadata": {
    "execution": {
     "iopub.execute_input": "2025-08-19T18:02:57.550540Z",
     "iopub.status.busy": "2025-08-19T18:02:57.549223Z",
     "iopub.status.idle": "2025-08-19T18:02:57.585028Z",
     "shell.execute_reply": "2025-08-19T18:02:57.584132Z"
    },
    "papermill": {
     "duration": 0.050982,
     "end_time": "2025-08-19T18:02:57.587423",
     "exception": false,
     "start_time": "2025-08-19T18:02:57.536441",
     "status": "completed"
    },
    "tags": []
   },
   "outputs": [],
   "source": [
    "X_train = X_train[keep_mask]"
   ]
  },
  {
   "cell_type": "code",
   "execution_count": 31,
   "id": "ceca8c2a",
   "metadata": {
    "execution": {
     "iopub.execute_input": "2025-08-19T18:02:57.634191Z",
     "iopub.status.busy": "2025-08-19T18:02:57.632584Z",
     "iopub.status.idle": "2025-08-19T18:02:57.642656Z",
     "shell.execute_reply": "2025-08-19T18:02:57.641277Z"
    },
    "papermill": {
     "duration": 0.027739,
     "end_time": "2025-08-19T18:02:57.644286",
     "exception": false,
     "start_time": "2025-08-19T18:02:57.616547",
     "status": "completed"
    },
    "tags": []
   },
   "outputs": [],
   "source": [
    "y_train = y_train[keep_mask]"
   ]
  },
  {
   "cell_type": "markdown",
   "id": "04d31e2f",
   "metadata": {
    "papermill": {
     "duration": 0.011591,
     "end_time": "2025-08-19T18:02:57.671947",
     "exception": false,
     "start_time": "2025-08-19T18:02:57.660356",
     "status": "completed"
    },
    "tags": []
   },
   "source": [
    "# Model Training"
   ]
  },
  {
   "cell_type": "code",
   "execution_count": 32,
   "id": "db991733",
   "metadata": {
    "execution": {
     "iopub.execute_input": "2025-08-19T18:02:57.696539Z",
     "iopub.status.busy": "2025-08-19T18:02:57.694978Z",
     "iopub.status.idle": "2025-08-19T18:02:57.822201Z",
     "shell.execute_reply": "2025-08-19T18:02:57.821161Z"
    },
    "papermill": {
     "duration": 0.142478,
     "end_time": "2025-08-19T18:02:57.825109",
     "exception": false,
     "start_time": "2025-08-19T18:02:57.682631",
     "status": "completed"
    },
    "tags": []
   },
   "outputs": [],
   "source": [
    "from sklearn.linear_model import LogisticRegression\n",
    "from sklearn.ensemble import GradientBoostingClassifier, RandomForestClassifier\n",
    "\n",
    "if (universe[\"model\"] == \"logreg\"):\n",
    "    model = LogisticRegression() #penalty=\"none\", solver=\"newton-cg\", max_iter=1)\n",
    "elif (universe[\"model\"] == \"penalized_logreg\"):\n",
    "    model = LogisticRegression(penalty=\"l2\", C=0.1) #, solver=\"newton-cg\", max_iter=1)\n",
    "elif (universe[\"model\"] == \"rf\"):\n",
    "    model = RandomForestClassifier() # n_estimators=100, n_jobs=-1\n",
    "elif (universe[\"model\"] == \"gbm\"):\n",
    "    model = GradientBoostingClassifier()\n",
    "elif (universe[\"model\"] == \"elasticnet\"):\n",
    "    model = LogisticRegression(penalty = 'elasticnet', solver = 'saga', l1_ratio = 0.5) # max_iter=5000\n",
    "else:\n",
    "    raise \"Unsupported universe.model\""
   ]
  },
  {
   "cell_type": "code",
   "execution_count": 33,
   "id": "a4b5cd25",
   "metadata": {
    "execution": {
     "iopub.execute_input": "2025-08-19T18:02:57.862068Z",
     "iopub.status.busy": "2025-08-19T18:02:57.861485Z",
     "iopub.status.idle": "2025-08-19T18:02:57.867666Z",
     "shell.execute_reply": "2025-08-19T18:02:57.866767Z"
    },
    "papermill": {
     "duration": 0.020293,
     "end_time": "2025-08-19T18:02:57.868993",
     "exception": false,
     "start_time": "2025-08-19T18:02:57.848700",
     "status": "completed"
    },
    "tags": []
   },
   "outputs": [],
   "source": [
    "from sklearn.pipeline import Pipeline\n",
    "from sklearn.preprocessing import StandardScaler\n",
    "\n",
    "model = Pipeline([\n",
    "    #(\"continuous_processor\", continuous_processor),\n",
    "    #(\"categorical_preprocessor\", categorical_preprocessor),\n",
    "    (\"scale\", StandardScaler() if universe[\"scale\"] == \"scale\" else None), \n",
    "    (\"model\", model),\n",
    "])"
   ]
  },
  {
   "cell_type": "code",
   "execution_count": 34,
   "id": "283a904d",
   "metadata": {
    "execution": {
     "iopub.execute_input": "2025-08-19T18:02:57.899309Z",
     "iopub.status.busy": "2025-08-19T18:02:57.898803Z",
     "iopub.status.idle": "2025-08-19T18:03:03.887732Z",
     "shell.execute_reply": "2025-08-19T18:03:03.886569Z"
    },
    "papermill": {
     "duration": 6.005832,
     "end_time": "2025-08-19T18:03:03.890970",
     "exception": false,
     "start_time": "2025-08-19T18:02:57.885138",
     "status": "completed"
    },
    "tags": []
   },
   "outputs": [
    {
     "name": "stderr",
     "output_type": "stream",
     "text": [
      "/dss/dsshome1/0C/ra93lal2/.local/share/virtualenvs/CMA_Fairness_v2-3j10GkSs/lib/python3.10/site-packages/sklearn/linear_model/_sag.py:350: ConvergenceWarning: The max_iter was reached which means the coef_ did not converge\n",
      "  warnings.warn(\n"
     ]
    },
    {
     "data": {
      "text/html": [
       "<style>#sk-container-id-1 {color: black;background-color: white;}#sk-container-id-1 pre{padding: 0;}#sk-container-id-1 div.sk-toggleable {background-color: white;}#sk-container-id-1 label.sk-toggleable__label {cursor: pointer;display: block;width: 100%;margin-bottom: 0;padding: 0.3em;box-sizing: border-box;text-align: center;}#sk-container-id-1 label.sk-toggleable__label-arrow:before {content: \"▸\";float: left;margin-right: 0.25em;color: #696969;}#sk-container-id-1 label.sk-toggleable__label-arrow:hover:before {color: black;}#sk-container-id-1 div.sk-estimator:hover label.sk-toggleable__label-arrow:before {color: black;}#sk-container-id-1 div.sk-toggleable__content {max-height: 0;max-width: 0;overflow: hidden;text-align: left;background-color: #f0f8ff;}#sk-container-id-1 div.sk-toggleable__content pre {margin: 0.2em;color: black;border-radius: 0.25em;background-color: #f0f8ff;}#sk-container-id-1 input.sk-toggleable__control:checked~div.sk-toggleable__content {max-height: 200px;max-width: 100%;overflow: auto;}#sk-container-id-1 input.sk-toggleable__control:checked~label.sk-toggleable__label-arrow:before {content: \"▾\";}#sk-container-id-1 div.sk-estimator input.sk-toggleable__control:checked~label.sk-toggleable__label {background-color: #d4ebff;}#sk-container-id-1 div.sk-label input.sk-toggleable__control:checked~label.sk-toggleable__label {background-color: #d4ebff;}#sk-container-id-1 input.sk-hidden--visually {border: 0;clip: rect(1px 1px 1px 1px);clip: rect(1px, 1px, 1px, 1px);height: 1px;margin: -1px;overflow: hidden;padding: 0;position: absolute;width: 1px;}#sk-container-id-1 div.sk-estimator {font-family: monospace;background-color: #f0f8ff;border: 1px dotted black;border-radius: 0.25em;box-sizing: border-box;margin-bottom: 0.5em;}#sk-container-id-1 div.sk-estimator:hover {background-color: #d4ebff;}#sk-container-id-1 div.sk-parallel-item::after {content: \"\";width: 100%;border-bottom: 1px solid gray;flex-grow: 1;}#sk-container-id-1 div.sk-label:hover label.sk-toggleable__label {background-color: #d4ebff;}#sk-container-id-1 div.sk-serial::before {content: \"\";position: absolute;border-left: 1px solid gray;box-sizing: border-box;top: 0;bottom: 0;left: 50%;z-index: 0;}#sk-container-id-1 div.sk-serial {display: flex;flex-direction: column;align-items: center;background-color: white;padding-right: 0.2em;padding-left: 0.2em;position: relative;}#sk-container-id-1 div.sk-item {position: relative;z-index: 1;}#sk-container-id-1 div.sk-parallel {display: flex;align-items: stretch;justify-content: center;background-color: white;position: relative;}#sk-container-id-1 div.sk-item::before, #sk-container-id-1 div.sk-parallel-item::before {content: \"\";position: absolute;border-left: 1px solid gray;box-sizing: border-box;top: 0;bottom: 0;left: 50%;z-index: -1;}#sk-container-id-1 div.sk-parallel-item {display: flex;flex-direction: column;z-index: 1;position: relative;background-color: white;}#sk-container-id-1 div.sk-parallel-item:first-child::after {align-self: flex-end;width: 50%;}#sk-container-id-1 div.sk-parallel-item:last-child::after {align-self: flex-start;width: 50%;}#sk-container-id-1 div.sk-parallel-item:only-child::after {width: 0;}#sk-container-id-1 div.sk-dashed-wrapped {border: 1px dashed gray;margin: 0 0.4em 0.5em 0.4em;box-sizing: border-box;padding-bottom: 0.4em;background-color: white;}#sk-container-id-1 div.sk-label label {font-family: monospace;font-weight: bold;display: inline-block;line-height: 1.2em;}#sk-container-id-1 div.sk-label-container {text-align: center;}#sk-container-id-1 div.sk-container {/* jupyter's `normalize.less` sets `[hidden] { display: none; }` but bootstrap.min.css set `[hidden] { display: none !important; }` so we also need the `!important` here to be able to override the default hidden behavior on the sphinx rendered scikit-learn.org. See: https://github.com/scikit-learn/scikit-learn/issues/21755 */display: inline-block !important;position: relative;}#sk-container-id-1 div.sk-text-repr-fallback {display: none;}</style><div id=\"sk-container-id-1\" class=\"sk-top-container\"><div class=\"sk-text-repr-fallback\"><pre>Pipeline(steps=[(&#x27;scale&#x27;, None),\n",
       "                (&#x27;model&#x27;,\n",
       "                 LogisticRegression(l1_ratio=0.5, penalty=&#x27;elasticnet&#x27;,\n",
       "                                    solver=&#x27;saga&#x27;))])</pre><b>In a Jupyter environment, please rerun this cell to show the HTML representation or trust the notebook. <br />On GitHub, the HTML representation is unable to render, please try loading this page with nbviewer.org.</b></div><div class=\"sk-container\" hidden><div class=\"sk-item sk-dashed-wrapped\"><div class=\"sk-label-container\"><div class=\"sk-label sk-toggleable\"><input class=\"sk-toggleable__control sk-hidden--visually\" id=\"sk-estimator-id-1\" type=\"checkbox\" ><label for=\"sk-estimator-id-1\" class=\"sk-toggleable__label sk-toggleable__label-arrow\">Pipeline</label><div class=\"sk-toggleable__content\"><pre>Pipeline(steps=[(&#x27;scale&#x27;, None),\n",
       "                (&#x27;model&#x27;,\n",
       "                 LogisticRegression(l1_ratio=0.5, penalty=&#x27;elasticnet&#x27;,\n",
       "                                    solver=&#x27;saga&#x27;))])</pre></div></div></div><div class=\"sk-serial\"><div class=\"sk-item\"><div class=\"sk-estimator sk-toggleable\"><input class=\"sk-toggleable__control sk-hidden--visually\" id=\"sk-estimator-id-2\" type=\"checkbox\" ><label for=\"sk-estimator-id-2\" class=\"sk-toggleable__label sk-toggleable__label-arrow\">None</label><div class=\"sk-toggleable__content\"><pre>None</pre></div></div></div><div class=\"sk-item\"><div class=\"sk-estimator sk-toggleable\"><input class=\"sk-toggleable__control sk-hidden--visually\" id=\"sk-estimator-id-3\" type=\"checkbox\" ><label for=\"sk-estimator-id-3\" class=\"sk-toggleable__label sk-toggleable__label-arrow\">LogisticRegression</label><div class=\"sk-toggleable__content\"><pre>LogisticRegression(l1_ratio=0.5, penalty=&#x27;elasticnet&#x27;, solver=&#x27;saga&#x27;)</pre></div></div></div></div></div></div></div>"
      ],
      "text/plain": [
       "Pipeline(steps=[('scale', None),\n",
       "                ('model',\n",
       "                 LogisticRegression(l1_ratio=0.5, penalty='elasticnet',\n",
       "                                    solver='saga'))])"
      ]
     },
     "execution_count": 34,
     "metadata": {},
     "output_type": "execute_result"
    }
   ],
   "source": [
    "model.fit(X_train, y_train.values.ravel())"
   ]
  },
  {
   "cell_type": "code",
   "execution_count": 35,
   "id": "6e15e313",
   "metadata": {
    "execution": {
     "iopub.execute_input": "2025-08-19T18:03:03.917990Z",
     "iopub.status.busy": "2025-08-19T18:03:03.917473Z",
     "iopub.status.idle": "2025-08-19T18:03:04.022754Z",
     "shell.execute_reply": "2025-08-19T18:03:04.021707Z"
    },
    "papermill": {
     "duration": 0.119082,
     "end_time": "2025-08-19T18:03:04.024318",
     "exception": false,
     "start_time": "2025-08-19T18:03:03.905236",
     "status": "completed"
    },
    "tags": []
   },
   "outputs": [
    {
     "data": {
      "text/plain": [
       "0.8661576189945379"
      ]
     },
     "execution_count": 35,
     "metadata": {},
     "output_type": "execute_result"
    }
   ],
   "source": [
    "from fairness_multiverse.universe import predict_w_threshold\n",
    "\n",
    "probs_test = model.predict_proba(X_test)\n",
    "\n",
    "'''\n",
    "Below code returns a boolean array (or binary 0/1 array depending on how it’s used) where each element \n",
    "is True if the probability of class 1 is greater than or equal to the threshold, and False otherwise.\n",
    "'''\n",
    "y_pred_default = predict_w_threshold(probs_test, 0.5)\n",
    "\n",
    "from sklearn.metrics import accuracy_score\n",
    "\n",
    "# Naive prediction\n",
    "accuracy_score(y_true = y_true, y_pred = y_pred_default)"
   ]
  },
  {
   "cell_type": "code",
   "execution_count": 36,
   "id": "6f14067c",
   "metadata": {
    "execution": {
     "iopub.execute_input": "2025-08-19T18:03:04.093114Z",
     "iopub.status.busy": "2025-08-19T18:03:04.092576Z",
     "iopub.status.idle": "2025-08-19T18:03:04.183438Z",
     "shell.execute_reply": "2025-08-19T18:03:04.182202Z"
    },
    "papermill": {
     "duration": 0.145295,
     "end_time": "2025-08-19T18:03:04.185206",
     "exception": false,
     "start_time": "2025-08-19T18:03:04.039911",
     "status": "completed"
    },
    "tags": []
   },
   "outputs": [
    {
     "data": {
      "text/plain": [
       "array([0, 0, 0, ..., 0, 0, 0])"
      ]
     },
     "execution_count": 36,
     "metadata": {},
     "output_type": "execute_result"
    }
   ],
   "source": [
    "model.predict(X_test)"
   ]
  },
  {
   "cell_type": "markdown",
   "id": "3759920c",
   "metadata": {
    "papermill": {
     "duration": 0.011702,
     "end_time": "2025-08-19T18:03:04.209206",
     "exception": false,
     "start_time": "2025-08-19T18:03:04.197504",
     "status": "completed"
    },
    "tags": []
   },
   "source": [
    "# Conformal Prediction"
   ]
  },
  {
   "cell_type": "code",
   "execution_count": 37,
   "id": "14b27f59",
   "metadata": {
    "execution": {
     "iopub.execute_input": "2025-08-19T18:03:04.234348Z",
     "iopub.status.busy": "2025-08-19T18:03:04.233857Z",
     "iopub.status.idle": "2025-08-19T18:03:04.240104Z",
     "shell.execute_reply": "2025-08-19T18:03:04.238999Z"
    },
    "papermill": {
     "duration": 0.021169,
     "end_time": "2025-08-19T18:03:04.241949",
     "exception": false,
     "start_time": "2025-08-19T18:03:04.220780",
     "status": "completed"
    },
    "tags": []
   },
   "outputs": [],
   "source": [
    "# Miscoverage level for conformal prediction (10% allowed error rate => 90% target coverage)\n",
    "alpha = 0.1"
   ]
  },
  {
   "cell_type": "code",
   "execution_count": 38,
   "id": "59102472",
   "metadata": {
    "execution": {
     "iopub.execute_input": "2025-08-19T18:03:04.267309Z",
     "iopub.status.busy": "2025-08-19T18:03:04.266740Z",
     "iopub.status.idle": "2025-08-19T18:03:04.359075Z",
     "shell.execute_reply": "2025-08-19T18:03:04.358153Z"
    },
    "papermill": {
     "duration": 0.106847,
     "end_time": "2025-08-19T18:03:04.360691",
     "exception": false,
     "start_time": "2025-08-19T18:03:04.253844",
     "status": "completed"
    },
    "tags": []
   },
   "outputs": [],
   "source": [
    "probs_calib = model.predict_proba(X_calib)"
   ]
  },
  {
   "cell_type": "code",
   "execution_count": 39,
   "id": "a792d4dd",
   "metadata": {
    "execution": {
     "iopub.execute_input": "2025-08-19T18:03:04.395220Z",
     "iopub.status.busy": "2025-08-19T18:03:04.393410Z",
     "iopub.status.idle": "2025-08-19T18:03:04.404510Z",
     "shell.execute_reply": "2025-08-19T18:03:04.403260Z"
    },
    "papermill": {
     "duration": 0.034286,
     "end_time": "2025-08-19T18:03:04.406988",
     "exception": false,
     "start_time": "2025-08-19T18:03:04.372702",
     "status": "completed"
    },
    "tags": []
   },
   "outputs": [],
   "source": [
    "y_calib = y_calib.values.ravel().astype(int)"
   ]
  },
  {
   "cell_type": "code",
   "execution_count": 40,
   "id": "650fd033",
   "metadata": {
    "execution": {
     "iopub.execute_input": "2025-08-19T18:03:04.439774Z",
     "iopub.status.busy": "2025-08-19T18:03:04.438583Z",
     "iopub.status.idle": "2025-08-19T18:03:04.449011Z",
     "shell.execute_reply": "2025-08-19T18:03:04.447773Z"
    },
    "papermill": {
     "duration": 0.026906,
     "end_time": "2025-08-19T18:03:04.451203",
     "exception": false,
     "start_time": "2025-08-19T18:03:04.424297",
     "status": "completed"
    },
    "tags": []
   },
   "outputs": [],
   "source": [
    "from fairness_multiverse.conformal import compute_nc_scores\n",
    "\n",
    "# Compute nonconformity scores on calibration set (1 - probability of true class)\n",
    "nc_scores = compute_nc_scores(probs_calib, y_calib)"
   ]
  },
  {
   "cell_type": "code",
   "execution_count": 41,
   "id": "28ada44c",
   "metadata": {
    "execution": {
     "iopub.execute_input": "2025-08-19T18:03:04.489023Z",
     "iopub.status.busy": "2025-08-19T18:03:04.487327Z",
     "iopub.status.idle": "2025-08-19T18:03:04.507501Z",
     "shell.execute_reply": "2025-08-19T18:03:04.498541Z"
    },
    "papermill": {
     "duration": 0.038292,
     "end_time": "2025-08-19T18:03:04.509544",
     "exception": false,
     "start_time": "2025-08-19T18:03:04.471252",
     "status": "completed"
    },
    "tags": []
   },
   "outputs": [],
   "source": [
    "from fairness_multiverse.conformal import find_threshold\n",
    "\n",
    "# Find conformal threshold q_hat for the given alpha (split conformal method)\n",
    "q_hat = find_threshold(nc_scores, alpha)"
   ]
  },
  {
   "cell_type": "code",
   "execution_count": 42,
   "id": "df56469e",
   "metadata": {
    "execution": {
     "iopub.execute_input": "2025-08-19T18:03:04.565107Z",
     "iopub.status.busy": "2025-08-19T18:03:04.563592Z",
     "iopub.status.idle": "2025-08-19T18:03:04.579461Z",
     "shell.execute_reply": "2025-08-19T18:03:04.578192Z"
    },
    "papermill": {
     "duration": 0.033014,
     "end_time": "2025-08-19T18:03:04.581782",
     "exception": false,
     "start_time": "2025-08-19T18:03:04.548768",
     "status": "completed"
    },
    "tags": []
   },
   "outputs": [
    {
     "data": {
      "text/plain": [
       "0.650930972408617"
      ]
     },
     "execution_count": 42,
     "metadata": {},
     "output_type": "execute_result"
    }
   ],
   "source": [
    "q_hat"
   ]
  },
  {
   "cell_type": "code",
   "execution_count": 43,
   "id": "aa1f5faa",
   "metadata": {
    "execution": {
     "iopub.execute_input": "2025-08-19T18:03:04.619115Z",
     "iopub.status.busy": "2025-08-19T18:03:04.617879Z",
     "iopub.status.idle": "2025-08-19T18:03:05.218454Z",
     "shell.execute_reply": "2025-08-19T18:03:05.217144Z"
    },
    "papermill": {
     "duration": 0.616351,
     "end_time": "2025-08-19T18:03:05.220163",
     "exception": false,
     "start_time": "2025-08-19T18:03:04.603812",
     "status": "completed"
    },
    "tags": []
   },
   "outputs": [],
   "source": [
    "from fairness_multiverse.conformal import predict_conformal_sets\n",
    "\n",
    "# Generate prediction sets for each test example\n",
    "pred_sets = predict_conformal_sets(model, X_test, q_hat)"
   ]
  },
  {
   "cell_type": "code",
   "execution_count": 44,
   "id": "97f67a6b",
   "metadata": {
    "execution": {
     "iopub.execute_input": "2025-08-19T18:03:05.245757Z",
     "iopub.status.busy": "2025-08-19T18:03:05.245190Z",
     "iopub.status.idle": "2025-08-19T18:03:05.252189Z",
     "shell.execute_reply": "2025-08-19T18:03:05.251413Z"
    },
    "papermill": {
     "duration": 0.021149,
     "end_time": "2025-08-19T18:03:05.253475",
     "exception": false,
     "start_time": "2025-08-19T18:03:05.232326",
     "status": "completed"
    },
    "tags": []
   },
   "outputs": [],
   "source": [
    "y_true = y_true.squeeze()"
   ]
  },
  {
   "cell_type": "code",
   "execution_count": 45,
   "id": "e700e9a7",
   "metadata": {
    "execution": {
     "iopub.execute_input": "2025-08-19T18:03:05.279716Z",
     "iopub.status.busy": "2025-08-19T18:03:05.279209Z",
     "iopub.status.idle": "2025-08-19T18:03:05.798032Z",
     "shell.execute_reply": "2025-08-19T18:03:05.796704Z"
    },
    "papermill": {
     "duration": 0.533521,
     "end_time": "2025-08-19T18:03:05.799783",
     "exception": false,
     "start_time": "2025-08-19T18:03:05.266262",
     "status": "completed"
    },
    "tags": []
   },
   "outputs": [],
   "source": [
    "from fairness_multiverse.conformal import evaluate_sets\n",
    "\n",
    "# Evaluate coverage and average set size on test data\n",
    "metrics = evaluate_sets(pred_sets, y_true)"
   ]
  },
  {
   "cell_type": "markdown",
   "id": "efbacec0",
   "metadata": {
    "papermill": {
     "duration": 0.011936,
     "end_time": "2025-08-19T18:03:05.824203",
     "exception": false,
     "start_time": "2025-08-19T18:03:05.812267",
     "status": "completed"
    },
    "tags": []
   },
   "source": [
    "# CP Metrics"
   ]
  },
  {
   "cell_type": "code",
   "execution_count": 46,
   "id": "9de55fb1",
   "metadata": {
    "execution": {
     "iopub.execute_input": "2025-08-19T18:03:05.849583Z",
     "iopub.status.busy": "2025-08-19T18:03:05.849103Z",
     "iopub.status.idle": "2025-08-19T18:03:05.857774Z",
     "shell.execute_reply": "2025-08-19T18:03:05.856999Z"
    },
    "papermill": {
     "duration": 0.023203,
     "end_time": "2025-08-19T18:03:05.859082",
     "exception": false,
     "start_time": "2025-08-19T18:03:05.835879",
     "status": "completed"
    },
    "tags": []
   },
   "outputs": [
    {
     "data": {
      "text/plain": [
       "{'coverage': 0.9137331401181585, 'avg_size': 1.2719094861219484}"
      ]
     },
     "execution_count": 46,
     "metadata": {},
     "output_type": "execute_result"
    }
   ],
   "source": [
    "metrics"
   ]
  },
  {
   "cell_type": "code",
   "execution_count": 47,
   "id": "64c340a1",
   "metadata": {
    "execution": {
     "iopub.execute_input": "2025-08-19T18:03:05.887887Z",
     "iopub.status.busy": "2025-08-19T18:03:05.886408Z",
     "iopub.status.idle": "2025-08-19T18:03:05.896344Z",
     "shell.execute_reply": "2025-08-19T18:03:05.895226Z"
    },
    "papermill": {
     "duration": 0.024672,
     "end_time": "2025-08-19T18:03:05.897830",
     "exception": false,
     "start_time": "2025-08-19T18:03:05.873158",
     "status": "completed"
    },
    "tags": []
   },
   "outputs": [],
   "source": [
    "example_universe = universe.copy()\n",
    "universe_training_year = example_universe.get(\"training_year\")\n",
    "universe_training_size = example_universe.get(\"training_size\")\n",
    "universe_scale = example_universe.get(\"scale\")\n",
    "universe_model = example_universe.get(\"model\")\n",
    "universe_exclude_features = example_universe.get(\"exclude_features\")\n",
    "universe_exclude_subgroups = example_universe.get(\"exclude_subgroups\")"
   ]
  },
  {
   "cell_type": "code",
   "execution_count": 48,
   "id": "dbb53cb4",
   "metadata": {
    "execution": {
     "iopub.execute_input": "2025-08-19T18:03:05.927522Z",
     "iopub.status.busy": "2025-08-19T18:03:05.926411Z",
     "iopub.status.idle": "2025-08-19T18:03:05.934084Z",
     "shell.execute_reply": "2025-08-19T18:03:05.933135Z"
    },
    "papermill": {
     "duration": 0.022744,
     "end_time": "2025-08-19T18:03:05.935492",
     "exception": false,
     "start_time": "2025-08-19T18:03:05.912748",
     "status": "completed"
    },
    "tags": []
   },
   "outputs": [],
   "source": [
    "cp_metrics_dict = {\n",
    "    \"universe_id\": [universe_id],\n",
    "    \"universe_training_year\": [universe_training_year],\n",
    "    \"universe_training_size\": [universe_training_size],\n",
    "    \"universe_scale\": [universe_scale],\n",
    "    \"universe_model\": [universe_model],\n",
    "    \"universe_exclude_features\": [universe_exclude_features],\n",
    "    \"universe_exclude_subgroups\": [universe_exclude_subgroups],\n",
    "    \"q_hat\": [q_hat],\n",
    "    \"coverage\": [metrics[\"coverage\"]],\n",
    "    \"avg_size\": [metrics[\"avg_size\"]],\n",
    "}"
   ]
  },
  {
   "cell_type": "code",
   "execution_count": 49,
   "id": "0d70d4b2",
   "metadata": {
    "execution": {
     "iopub.execute_input": "2025-08-19T18:03:05.963136Z",
     "iopub.status.busy": "2025-08-19T18:03:05.962867Z",
     "iopub.status.idle": "2025-08-19T18:03:05.969428Z",
     "shell.execute_reply": "2025-08-19T18:03:05.968767Z"
    },
    "papermill": {
     "duration": 0.020234,
     "end_time": "2025-08-19T18:03:05.970557",
     "exception": false,
     "start_time": "2025-08-19T18:03:05.950323",
     "status": "completed"
    },
    "tags": []
   },
   "outputs": [],
   "source": [
    "cp_metrics_df = pd.DataFrame(cp_metrics_dict)"
   ]
  },
  {
   "cell_type": "code",
   "execution_count": 50,
   "id": "b494403c",
   "metadata": {
    "execution": {
     "iopub.execute_input": "2025-08-19T18:03:05.996035Z",
     "iopub.status.busy": "2025-08-19T18:03:05.995490Z",
     "iopub.status.idle": "2025-08-19T18:03:06.017638Z",
     "shell.execute_reply": "2025-08-19T18:03:06.014623Z"
    },
    "papermill": {
     "duration": 0.042012,
     "end_time": "2025-08-19T18:03:06.024806",
     "exception": false,
     "start_time": "2025-08-19T18:03:05.982794",
     "status": "completed"
    },
    "tags": []
   },
   "outputs": [
    {
     "data": {
      "text/html": [
       "<div>\n",
       "<style scoped>\n",
       "    .dataframe tbody tr th:only-of-type {\n",
       "        vertical-align: middle;\n",
       "    }\n",
       "\n",
       "    .dataframe tbody tr th {\n",
       "        vertical-align: top;\n",
       "    }\n",
       "\n",
       "    .dataframe thead th {\n",
       "        text-align: right;\n",
       "    }\n",
       "</style>\n",
       "<table border=\"1\" class=\"dataframe\">\n",
       "  <thead>\n",
       "    <tr style=\"text-align: right;\">\n",
       "      <th></th>\n",
       "      <th>universe_id</th>\n",
       "      <th>universe_training_year</th>\n",
       "      <th>universe_training_size</th>\n",
       "      <th>universe_scale</th>\n",
       "      <th>universe_model</th>\n",
       "      <th>universe_exclude_features</th>\n",
       "      <th>universe_exclude_subgroups</th>\n",
       "      <th>q_hat</th>\n",
       "      <th>coverage</th>\n",
       "      <th>avg_size</th>\n",
       "    </tr>\n",
       "  </thead>\n",
       "  <tbody>\n",
       "    <tr>\n",
       "      <th>0</th>\n",
       "      <td>47f9403d72ce17606d0d42f0a6968334</td>\n",
       "      <td>2014</td>\n",
       "      <td>25k</td>\n",
       "      <td>do-not-scale</td>\n",
       "      <td>elasticnet</td>\n",
       "      <td>age</td>\n",
       "      <td>drop-non-german</td>\n",
       "      <td>0.650931</td>\n",
       "      <td>0.913733</td>\n",
       "      <td>1.271909</td>\n",
       "    </tr>\n",
       "  </tbody>\n",
       "</table>\n",
       "</div>"
      ],
      "text/plain": [
       "                        universe_id universe_training_year  \\\n",
       "0  47f9403d72ce17606d0d42f0a6968334                   2014   \n",
       "\n",
       "  universe_training_size universe_scale universe_model  \\\n",
       "0                    25k   do-not-scale     elasticnet   \n",
       "\n",
       "  universe_exclude_features universe_exclude_subgroups     q_hat  coverage  \\\n",
       "0                       age            drop-non-german  0.650931  0.913733   \n",
       "\n",
       "   avg_size  \n",
       "0  1.271909  "
      ]
     },
     "execution_count": 50,
     "metadata": {},
     "output_type": "execute_result"
    }
   ],
   "source": [
    "cp_metrics_df"
   ]
  },
  {
   "cell_type": "markdown",
   "id": "ed608b0b",
   "metadata": {
    "papermill": {
     "duration": 0.012064,
     "end_time": "2025-08-19T18:03:06.056051",
     "exception": false,
     "start_time": "2025-08-19T18:03:06.043987",
     "status": "completed"
    },
    "tags": []
   },
   "source": [
    "Conditional coverage & looking at subgroups"
   ]
  },
  {
   "cell_type": "code",
   "execution_count": 51,
   "id": "8968c366",
   "metadata": {
    "execution": {
     "iopub.execute_input": "2025-08-19T18:03:06.082629Z",
     "iopub.status.busy": "2025-08-19T18:03:06.082290Z",
     "iopub.status.idle": "2025-08-19T18:03:06.388110Z",
     "shell.execute_reply": "2025-08-19T18:03:06.387087Z"
    },
    "papermill": {
     "duration": 0.322065,
     "end_time": "2025-08-19T18:03:06.390016",
     "exception": false,
     "start_time": "2025-08-19T18:03:06.067951",
     "status": "completed"
    },
    "tags": []
   },
   "outputs": [],
   "source": [
    "from fairness_multiverse.conformal import build_cp_groups\n",
    "\n",
    "cp_groups_df = build_cp_groups(pred_sets, y_true, X_test.index, org_test)"
   ]
  },
  {
   "cell_type": "code",
   "execution_count": 52,
   "id": "292ddabf",
   "metadata": {
    "execution": {
     "iopub.execute_input": "2025-08-19T18:03:06.419784Z",
     "iopub.status.busy": "2025-08-19T18:03:06.419282Z",
     "iopub.status.idle": "2025-08-19T18:03:07.423481Z",
     "shell.execute_reply": "2025-08-19T18:03:07.422226Z"
    },
    "papermill": {
     "duration": 1.020054,
     "end_time": "2025-08-19T18:03:07.425266",
     "exception": false,
     "start_time": "2025-08-19T18:03:06.405212",
     "status": "completed"
    },
    "tags": []
   },
   "outputs": [],
   "source": [
    "# Define covered = 1 if true_label is in the predicted set\n",
    "cp_groups_df['covered'] = cp_groups_df.apply(\n",
    "    lambda r: int(r['true_label'] in r['pred_set']),\n",
    "    axis=1\n",
    ")"
   ]
  },
  {
   "cell_type": "code",
   "execution_count": 53,
   "id": "3a261692",
   "metadata": {
    "execution": {
     "iopub.execute_input": "2025-08-19T18:03:07.488215Z",
     "iopub.status.busy": "2025-08-19T18:03:07.487551Z",
     "iopub.status.idle": "2025-08-19T18:03:07.502894Z",
     "shell.execute_reply": "2025-08-19T18:03:07.501503Z"
    },
    "papermill": {
     "duration": 0.046555,
     "end_time": "2025-08-19T18:03:07.504450",
     "exception": false,
     "start_time": "2025-08-19T18:03:07.457895",
     "status": "completed"
    },
    "tags": []
   },
   "outputs": [],
   "source": [
    "subgroups = ['frau1','nongerman','nongerman_male','nongerman_female']\n",
    "\n",
    "# Conditional coverage for subgroup==1\n",
    "cond_coverage = {\n",
    "    g: cp_groups_df.loc[cp_groups_df[g]==1, 'covered'].mean()\n",
    "    for g in subgroups\n",
    "}"
   ]
  },
  {
   "cell_type": "code",
   "execution_count": 54,
   "id": "894fd600",
   "metadata": {
    "execution": {
     "iopub.execute_input": "2025-08-19T18:03:07.530828Z",
     "iopub.status.busy": "2025-08-19T18:03:07.530358Z",
     "iopub.status.idle": "2025-08-19T18:03:07.541721Z",
     "shell.execute_reply": "2025-08-19T18:03:07.540342Z"
    },
    "papermill": {
     "duration": 0.025809,
     "end_time": "2025-08-19T18:03:07.542921",
     "exception": false,
     "start_time": "2025-08-19T18:03:07.517112",
     "status": "completed"
    },
    "tags": []
   },
   "outputs": [
    {
     "data": {
      "text/plain": [
       "{'frau1': 0.9127914813317158,\n",
       " 'nongerman': 0.9654185145680121,\n",
       " 'nongerman_male': 0.9727100783572008,\n",
       " 'nongerman_female': 0.9533532041728763}"
      ]
     },
     "execution_count": 54,
     "metadata": {},
     "output_type": "execute_result"
    }
   ],
   "source": [
    "cond_coverage"
   ]
  },
  {
   "cell_type": "code",
   "execution_count": 55,
   "id": "942895c7",
   "metadata": {
    "execution": {
     "iopub.execute_input": "2025-08-19T18:03:07.581374Z",
     "iopub.status.busy": "2025-08-19T18:03:07.580114Z",
     "iopub.status.idle": "2025-08-19T18:03:07.592081Z",
     "shell.execute_reply": "2025-08-19T18:03:07.590687Z"
    },
    "papermill": {
     "duration": 0.03783,
     "end_time": "2025-08-19T18:03:07.595017",
     "exception": false,
     "start_time": "2025-08-19T18:03:07.557187",
     "status": "completed"
    },
    "tags": []
   },
   "outputs": [],
   "source": [
    "for subgroup, cov in cond_coverage.items():\n",
    "    cp_metrics_df[f\"cov_{subgroup}\"] = cov"
   ]
  },
  {
   "cell_type": "code",
   "execution_count": 56,
   "id": "3970120f",
   "metadata": {
    "execution": {
     "iopub.execute_input": "2025-08-19T18:03:07.661186Z",
     "iopub.status.busy": "2025-08-19T18:03:07.660226Z",
     "iopub.status.idle": "2025-08-19T18:03:07.678762Z",
     "shell.execute_reply": "2025-08-19T18:03:07.677973Z"
    },
    "papermill": {
     "duration": 0.055114,
     "end_time": "2025-08-19T18:03:07.680552",
     "exception": false,
     "start_time": "2025-08-19T18:03:07.625438",
     "status": "completed"
    },
    "tags": []
   },
   "outputs": [
    {
     "data": {
      "text/html": [
       "<div>\n",
       "<style scoped>\n",
       "    .dataframe tbody tr th:only-of-type {\n",
       "        vertical-align: middle;\n",
       "    }\n",
       "\n",
       "    .dataframe tbody tr th {\n",
       "        vertical-align: top;\n",
       "    }\n",
       "\n",
       "    .dataframe thead th {\n",
       "        text-align: right;\n",
       "    }\n",
       "</style>\n",
       "<table border=\"1\" class=\"dataframe\">\n",
       "  <thead>\n",
       "    <tr style=\"text-align: right;\">\n",
       "      <th></th>\n",
       "      <th>universe_id</th>\n",
       "      <th>universe_training_year</th>\n",
       "      <th>universe_training_size</th>\n",
       "      <th>universe_scale</th>\n",
       "      <th>universe_model</th>\n",
       "      <th>universe_exclude_features</th>\n",
       "      <th>universe_exclude_subgroups</th>\n",
       "      <th>q_hat</th>\n",
       "      <th>coverage</th>\n",
       "      <th>avg_size</th>\n",
       "      <th>cov_frau1</th>\n",
       "      <th>cov_nongerman</th>\n",
       "      <th>cov_nongerman_male</th>\n",
       "      <th>cov_nongerman_female</th>\n",
       "    </tr>\n",
       "  </thead>\n",
       "  <tbody>\n",
       "    <tr>\n",
       "      <th>0</th>\n",
       "      <td>47f9403d72ce17606d0d42f0a6968334</td>\n",
       "      <td>2014</td>\n",
       "      <td>25k</td>\n",
       "      <td>do-not-scale</td>\n",
       "      <td>elasticnet</td>\n",
       "      <td>age</td>\n",
       "      <td>drop-non-german</td>\n",
       "      <td>0.650931</td>\n",
       "      <td>0.913733</td>\n",
       "      <td>1.271909</td>\n",
       "      <td>0.912791</td>\n",
       "      <td>0.965419</td>\n",
       "      <td>0.97271</td>\n",
       "      <td>0.953353</td>\n",
       "    </tr>\n",
       "  </tbody>\n",
       "</table>\n",
       "</div>"
      ],
      "text/plain": [
       "                        universe_id universe_training_year  \\\n",
       "0  47f9403d72ce17606d0d42f0a6968334                   2014   \n",
       "\n",
       "  universe_training_size universe_scale universe_model  \\\n",
       "0                    25k   do-not-scale     elasticnet   \n",
       "\n",
       "  universe_exclude_features universe_exclude_subgroups     q_hat  coverage  \\\n",
       "0                       age            drop-non-german  0.650931  0.913733   \n",
       "\n",
       "   avg_size  cov_frau1  cov_nongerman  cov_nongerman_male  \\\n",
       "0  1.271909   0.912791       0.965419             0.97271   \n",
       "\n",
       "   cov_nongerman_female  \n",
       "0              0.953353  "
      ]
     },
     "execution_count": 56,
     "metadata": {},
     "output_type": "execute_result"
    }
   ],
   "source": [
    "cp_metrics_df"
   ]
  },
  {
   "cell_type": "markdown",
   "id": "3fc519cc",
   "metadata": {
    "papermill": {
     "duration": 0.012666,
     "end_time": "2025-08-19T18:03:07.708212",
     "exception": false,
     "start_time": "2025-08-19T18:03:07.695546",
     "status": "completed"
    },
    "tags": []
   },
   "source": [
    "# (Fairness) Metrics"
   ]
  },
  {
   "cell_type": "code",
   "execution_count": 57,
   "id": "a2e5e155",
   "metadata": {
    "execution": {
     "iopub.execute_input": "2025-08-19T18:03:07.735147Z",
     "iopub.status.busy": "2025-08-19T18:03:07.734651Z",
     "iopub.status.idle": "2025-08-19T18:03:07.751029Z",
     "shell.execute_reply": "2025-08-19T18:03:07.750232Z"
    },
    "papermill": {
     "duration": 0.031539,
     "end_time": "2025-08-19T18:03:07.752363",
     "exception": false,
     "start_time": "2025-08-19T18:03:07.720824",
     "status": "completed"
    },
    "tags": []
   },
   "outputs": [],
   "source": [
    "colname_to_bin = \"maxdeutsch1\"\n",
    "majority_value = org_train[colname_to_bin].mode()[0]\n",
    "\n",
    "org_test[\"majmin\"] = np.where(org_test[colname_to_bin] == majority_value, \"majority\", \"minority\")"
   ]
  },
  {
   "cell_type": "code",
   "execution_count": 58,
   "id": "17e3e4d5",
   "metadata": {
    "execution": {
     "iopub.execute_input": "2025-08-19T18:03:07.781192Z",
     "iopub.status.busy": "2025-08-19T18:03:07.780174Z",
     "iopub.status.idle": "2025-08-19T18:03:09.521602Z",
     "shell.execute_reply": "2025-08-19T18:03:09.520173Z"
    },
    "papermill": {
     "duration": 1.757974,
     "end_time": "2025-08-19T18:03:09.523495",
     "exception": false,
     "start_time": "2025-08-19T18:03:07.765521",
     "status": "completed"
    },
    "tags": []
   },
   "outputs": [],
   "source": [
    "example_universe = universe.copy()\n",
    "example_universe[\"cutoff\"] = example_universe[\"cutoff\"][0]\n",
    "example_universe[\"eval_fairness_grouping\"] = example_universe[\"eval_fairness_grouping\"][0]\n",
    "fairness_dict, metric_frame = universe_analysis.compute_metrics(\n",
    "    example_universe,\n",
    "    y_pred_prob=probs_test,\n",
    "    y_test=y_true,\n",
    "    org_test=org_test,\n",
    ")"
   ]
  },
  {
   "cell_type": "markdown",
   "id": "1fb7a0e9",
   "metadata": {
    "papermill": {
     "duration": 0.014261,
     "end_time": "2025-08-19T18:03:09.556172",
     "exception": false,
     "start_time": "2025-08-19T18:03:09.541911",
     "status": "completed"
    },
    "tags": []
   },
   "source": [
    "# Overall"
   ]
  },
  {
   "cell_type": "markdown",
   "id": "be1784b1",
   "metadata": {
    "papermill": {
     "duration": 0.035449,
     "end_time": "2025-08-19T18:03:09.605959",
     "exception": false,
     "start_time": "2025-08-19T18:03:09.570510",
     "status": "completed"
    },
    "tags": []
   },
   "source": [
    "Main fairness target: Equalized Odds. Seems to be a better fit than equal opportunity, since we're not only interested in Y = 1. Seems to be a better fit than demographic parity, since we also care about accuracy, not just equal distribution of preds.\n",
    "\n",
    "Pick column for computation of fairness metrics\n",
    "\n",
    "Performance\n",
    "Overall performance measures, most interesting in relation to the measures split by group below"
   ]
  },
  {
   "cell_type": "code",
   "execution_count": 59,
   "id": "b7672bee",
   "metadata": {
    "execution": {
     "iopub.execute_input": "2025-08-19T18:03:09.648459Z",
     "iopub.status.busy": "2025-08-19T18:03:09.646892Z",
     "iopub.status.idle": "2025-08-19T18:03:09.661845Z",
     "shell.execute_reply": "2025-08-19T18:03:09.660810Z"
    },
    "papermill": {
     "duration": 0.033233,
     "end_time": "2025-08-19T18:03:09.663518",
     "exception": false,
     "start_time": "2025-08-19T18:03:09.630285",
     "status": "completed"
    },
    "tags": []
   },
   "outputs": [
    {
     "data": {
      "text/plain": [
       "accuracy                   0.214279\n",
       "balanced accuracy          0.526057\n",
       "f1                         0.235888\n",
       "precision                  0.134755\n",
       "false positive rate        0.893315\n",
       "false negative rate        0.054571\n",
       "selection rate             0.900000\n",
       "count                  89710.000000\n",
       "dtype: float64"
      ]
     },
     "execution_count": 59,
     "metadata": {},
     "output_type": "execute_result"
    }
   ],
   "source": [
    "metric_frame.overall"
   ]
  },
  {
   "cell_type": "markdown",
   "id": "d93333c9",
   "metadata": {
    "papermill": {
     "duration": 0.013524,
     "end_time": "2025-08-19T18:03:09.696121",
     "exception": false,
     "start_time": "2025-08-19T18:03:09.682597",
     "status": "completed"
    },
    "tags": []
   },
   "source": [
    "By Group"
   ]
  },
  {
   "cell_type": "code",
   "execution_count": 60,
   "id": "52256966",
   "metadata": {
    "execution": {
     "iopub.execute_input": "2025-08-19T18:03:09.740653Z",
     "iopub.status.busy": "2025-08-19T18:03:09.738903Z",
     "iopub.status.idle": "2025-08-19T18:03:09.764763Z",
     "shell.execute_reply": "2025-08-19T18:03:09.763803Z"
    },
    "papermill": {
     "duration": 0.049077,
     "end_time": "2025-08-19T18:03:09.766846",
     "exception": false,
     "start_time": "2025-08-19T18:03:09.717769",
     "status": "completed"
    },
    "tags": []
   },
   "outputs": [
    {
     "data": {
      "text/html": [
       "<div>\n",
       "<style scoped>\n",
       "    .dataframe tbody tr th:only-of-type {\n",
       "        vertical-align: middle;\n",
       "    }\n",
       "\n",
       "    .dataframe tbody tr th {\n",
       "        vertical-align: top;\n",
       "    }\n",
       "\n",
       "    .dataframe thead th {\n",
       "        text-align: right;\n",
       "    }\n",
       "</style>\n",
       "<table border=\"1\" class=\"dataframe\">\n",
       "  <thead>\n",
       "    <tr style=\"text-align: right;\">\n",
       "      <th></th>\n",
       "      <th>accuracy</th>\n",
       "      <th>balanced accuracy</th>\n",
       "      <th>f1</th>\n",
       "      <th>precision</th>\n",
       "      <th>false positive rate</th>\n",
       "      <th>false negative rate</th>\n",
       "      <th>selection rate</th>\n",
       "      <th>count</th>\n",
       "    </tr>\n",
       "    <tr>\n",
       "      <th>majmin</th>\n",
       "      <th></th>\n",
       "      <th></th>\n",
       "      <th></th>\n",
       "      <th></th>\n",
       "      <th></th>\n",
       "      <th></th>\n",
       "      <th></th>\n",
       "      <th></th>\n",
       "    </tr>\n",
       "  </thead>\n",
       "  <tbody>\n",
       "    <tr>\n",
       "      <th>majority</th>\n",
       "      <td>0.235348</td>\n",
       "      <td>0.532935</td>\n",
       "      <td>0.244706</td>\n",
       "      <td>0.140720</td>\n",
       "      <td>0.871548</td>\n",
       "      <td>0.062582</td>\n",
       "      <td>0.880252</td>\n",
       "      <td>69170.0</td>\n",
       "    </tr>\n",
       "    <tr>\n",
       "      <th>minority</th>\n",
       "      <td>0.143330</td>\n",
       "      <td>0.505565</td>\n",
       "      <td>0.208101</td>\n",
       "      <td>0.116462</td>\n",
       "      <td>0.965221</td>\n",
       "      <td>0.023649</td>\n",
       "      <td>0.966504</td>\n",
       "      <td>20540.0</td>\n",
       "    </tr>\n",
       "  </tbody>\n",
       "</table>\n",
       "</div>"
      ],
      "text/plain": [
       "          accuracy  balanced accuracy        f1  precision  \\\n",
       "majmin                                                       \n",
       "majority  0.235348           0.532935  0.244706   0.140720   \n",
       "minority  0.143330           0.505565  0.208101   0.116462   \n",
       "\n",
       "          false positive rate  false negative rate  selection rate    count  \n",
       "majmin                                                                       \n",
       "majority             0.871548             0.062582        0.880252  69170.0  \n",
       "minority             0.965221             0.023649        0.966504  20540.0  "
      ]
     },
     "execution_count": 60,
     "metadata": {},
     "output_type": "execute_result"
    }
   ],
   "source": [
    "metric_frame.by_group"
   ]
  },
  {
   "cell_type": "code",
   "execution_count": 61,
   "id": "6e6c20ae",
   "metadata": {
    "execution": {
     "iopub.execute_input": "2025-08-19T18:03:09.797294Z",
     "iopub.status.busy": "2025-08-19T18:03:09.796975Z",
     "iopub.status.idle": "2025-08-19T18:03:11.716795Z",
     "shell.execute_reply": "2025-08-19T18:03:11.715213Z"
    },
    "papermill": {
     "duration": 1.936492,
     "end_time": "2025-08-19T18:03:11.719044",
     "exception": false,
     "start_time": "2025-08-19T18:03:09.782552",
     "status": "completed"
    },
    "tags": []
   },
   "outputs": [
    {
     "data": {
      "text/plain": [
       "array([[<Axes: title={'center': 'accuracy'}, xlabel='majmin'>,\n",
       "        <Axes: title={'center': 'balanced accuracy'}, xlabel='majmin'>,\n",
       "        <Axes: title={'center': 'f1'}, xlabel='majmin'>],\n",
       "       [<Axes: title={'center': 'precision'}, xlabel='majmin'>,\n",
       "        <Axes: title={'center': 'false positive rate'}, xlabel='majmin'>,\n",
       "        <Axes: title={'center': 'false negative rate'}, xlabel='majmin'>],\n",
       "       [<Axes: title={'center': 'selection rate'}, xlabel='majmin'>,\n",
       "        <Axes: title={'center': 'count'}, xlabel='majmin'>,\n",
       "        <Axes: xlabel='majmin'>]], dtype=object)"
      ]
     },
     "execution_count": 61,
     "metadata": {},
     "output_type": "execute_result"
    },
    {
     "data": {
      "image/png": "[encoded data removed]",
      "text/plain": [
       "<Figure size 1200x800 with 9 Axes>"
      ]
     },
     "metadata": {},
     "output_type": "display_data"
    }
   ],
   "source": [
    "# In a graphic\n",
    "metric_frame.by_group.plot.bar(\n",
    "    subplots=True,\n",
    "    layout=[3, 3],\n",
    "    legend=False,\n",
    "    figsize=[12, 8],\n",
    "    title=\"Show all metrics\",\n",
    ")"
   ]
  },
  {
   "cell_type": "markdown",
   "id": "b2e433ae",
   "metadata": {
    "papermill": {
     "duration": 0.017057,
     "end_time": "2025-08-19T18:03:11.763509",
     "exception": false,
     "start_time": "2025-08-19T18:03:11.746452",
     "status": "completed"
    },
    "tags": []
   },
   "source": [
    "# Final Output"
   ]
  },
  {
   "cell_type": "code",
   "execution_count": 62,
   "id": "3871301e",
   "metadata": {
    "execution": {
     "iopub.execute_input": "2025-08-19T18:03:11.795863Z",
     "iopub.status.busy": "2025-08-19T18:03:11.794822Z",
     "iopub.status.idle": "2025-08-19T18:03:11.805296Z",
     "shell.execute_reply": "2025-08-19T18:03:11.804493Z"
    },
    "papermill": {
     "duration": 0.028803,
     "end_time": "2025-08-19T18:03:11.807113",
     "exception": false,
     "start_time": "2025-08-19T18:03:11.778310",
     "status": "completed"
    },
    "tags": []
   },
   "outputs": [
    {
     "data": {
      "text/plain": [
       "4"
      ]
     },
     "execution_count": 62,
     "metadata": {},
     "output_type": "execute_result"
    }
   ],
   "source": [
    "sub_universes = universe_analysis.generate_sub_universes()\n",
    "len(sub_universes)"
   ]
  },
  {
   "cell_type": "code",
   "execution_count": 63,
   "id": "d9cfdaca",
   "metadata": {
    "execution": {
     "iopub.execute_input": "2025-08-19T18:03:11.839108Z",
     "iopub.status.busy": "2025-08-19T18:03:11.838764Z",
     "iopub.status.idle": "2025-08-19T18:03:11.848605Z",
     "shell.execute_reply": "2025-08-19T18:03:11.847743Z"
    },
    "papermill": {
     "duration": 0.027846,
     "end_time": "2025-08-19T18:03:11.850313",
     "exception": false,
     "start_time": "2025-08-19T18:03:11.822467",
     "status": "completed"
    },
    "tags": []
   },
   "outputs": [],
   "source": [
    "def filter_sub_universe_data(sub_universe, org_test):\n",
    "    # Keep all rows — no filtering\n",
    "    keep_rows_mask = np.ones(org_test.shape[0], dtype=bool)\n",
    "\n",
    "    print(f\"[INFO] Keeping all rows: {keep_rows_mask.sum()} rows retained.\")\n",
    "    return keep_rows_mask"
   ]
  },
  {
   "cell_type": "code",
   "execution_count": 64,
   "id": "2bc31ac1",
   "metadata": {
    "execution": {
     "iopub.execute_input": "2025-08-19T18:03:11.882343Z",
     "iopub.status.busy": "2025-08-19T18:03:11.881756Z",
     "iopub.status.idle": "2025-08-19T18:03:18.597951Z",
     "shell.execute_reply": "2025-08-19T18:03:18.596711Z"
    },
    "papermill": {
     "duration": 6.733755,
     "end_time": "2025-08-19T18:03:18.599430",
     "exception": false,
     "start_time": "2025-08-19T18:03:11.865675",
     "status": "completed"
    },
    "tags": []
   },
   "outputs": [
    {
     "name": "stdout",
     "output_type": "stream",
     "text": [
      "Stopping execution_time clock.\n",
      "[INFO] Keeping all rows: 89710 rows retained.\n"
     ]
    },
    {
     "name": "stdout",
     "output_type": "stream",
     "text": [
      "[INFO] Keeping all rows: 89710 rows retained.\n"
     ]
    },
    {
     "name": "stdout",
     "output_type": "stream",
     "text": [
      "[INFO] Keeping all rows: 89710 rows retained.\n"
     ]
    },
    {
     "name": "stdout",
     "output_type": "stream",
     "text": [
      "[INFO] Keeping all rows: 89710 rows retained.\n"
     ]
    },
    {
     "data": {
      "text/html": [
       "<div>\n",
       "<style scoped>\n",
       "    .dataframe tbody tr th:only-of-type {\n",
       "        vertical-align: middle;\n",
       "    }\n",
       "\n",
       "    .dataframe tbody tr th {\n",
       "        vertical-align: top;\n",
       "    }\n",
       "\n",
       "    .dataframe thead th {\n",
       "        text-align: right;\n",
       "    }\n",
       "</style>\n",
       "<table border=\"1\" class=\"dataframe\">\n",
       "  <thead>\n",
       "    <tr style=\"text-align: right;\">\n",
       "      <th></th>\n",
       "      <th>run_no</th>\n",
       "      <th>universe_id</th>\n",
       "      <th>universe_settings</th>\n",
       "      <th>execution_time</th>\n",
       "      <th>test_size_n</th>\n",
       "      <th>test_size_frac</th>\n",
       "      <th>fair_main_equalized_odds_difference</th>\n",
       "      <th>fair_main_equalized_odds_ratio</th>\n",
       "      <th>fair_main_demographic_parity_difference</th>\n",
       "      <th>fair_main_demographic_parity_ratio</th>\n",
       "      <th>...</th>\n",
       "      <th>perf_grp_precision_0</th>\n",
       "      <th>perf_grp_precision_1</th>\n",
       "      <th>perf_grp_false positive rate_0</th>\n",
       "      <th>perf_grp_false positive rate_1</th>\n",
       "      <th>perf_grp_false negative rate_0</th>\n",
       "      <th>perf_grp_false negative rate_1</th>\n",
       "      <th>perf_grp_selection rate_0</th>\n",
       "      <th>perf_grp_selection rate_1</th>\n",
       "      <th>perf_grp_count_0</th>\n",
       "      <th>perf_grp_count_1</th>\n",
       "    </tr>\n",
       "  </thead>\n",
       "  <tbody>\n",
       "    <tr>\n",
       "      <th>0</th>\n",
       "      <td>3</td>\n",
       "      <td>47f9403d72ce17606d0d42f0a6968334</td>\n",
       "      <td>{\"cutoff\": \"quantile_0.1\", \"eval_fairness_grou...</td>\n",
       "      <td>27.802684</td>\n",
       "      <td>89710</td>\n",
       "      <td>1.0</td>\n",
       "      <td>0.093674</td>\n",
       "      <td>0.902951</td>\n",
       "      <td>0.086253</td>\n",
       "      <td>0.910758</td>\n",
       "      <td>...</td>\n",
       "      <td>NaN</td>\n",
       "      <td>NaN</td>\n",
       "      <td>NaN</td>\n",
       "      <td>NaN</td>\n",
       "      <td>NaN</td>\n",
       "      <td>NaN</td>\n",
       "      <td>NaN</td>\n",
       "      <td>NaN</td>\n",
       "      <td>NaN</td>\n",
       "      <td>NaN</td>\n",
       "    </tr>\n",
       "    <tr>\n",
       "      <th>0</th>\n",
       "      <td>3</td>\n",
       "      <td>47f9403d72ce17606d0d42f0a6968334</td>\n",
       "      <td>{\"cutoff\": \"quantile_0.1\", \"eval_fairness_grou...</td>\n",
       "      <td>27.802684</td>\n",
       "      <td>89710</td>\n",
       "      <td>1.0</td>\n",
       "      <td>0.093674</td>\n",
       "      <td>0.902951</td>\n",
       "      <td>0.086253</td>\n",
       "      <td>0.910758</td>\n",
       "      <td>...</td>\n",
       "      <td>0.116462</td>\n",
       "      <td>0.140720</td>\n",
       "      <td>0.965221</td>\n",
       "      <td>0.871548</td>\n",
       "      <td>0.023649</td>\n",
       "      <td>0.062582</td>\n",
       "      <td>0.966504</td>\n",
       "      <td>0.880252</td>\n",
       "      <td>20540.0</td>\n",
       "      <td>69170.0</td>\n",
       "    </tr>\n",
       "    <tr>\n",
       "      <th>0</th>\n",
       "      <td>3</td>\n",
       "      <td>47f9403d72ce17606d0d42f0a6968334</td>\n",
       "      <td>{\"cutoff\": \"quantile_0.25\", \"eval_fairness_gro...</td>\n",
       "      <td>27.802684</td>\n",
       "      <td>89710</td>\n",
       "      <td>1.0</td>\n",
       "      <td>0.228520</td>\n",
       "      <td>0.749295</td>\n",
       "      <td>0.213177</td>\n",
       "      <td>0.766857</td>\n",
       "      <td>...</td>\n",
       "      <td>NaN</td>\n",
       "      <td>NaN</td>\n",
       "      <td>NaN</td>\n",
       "      <td>NaN</td>\n",
       "      <td>NaN</td>\n",
       "      <td>NaN</td>\n",
       "      <td>NaN</td>\n",
       "      <td>NaN</td>\n",
       "      <td>NaN</td>\n",
       "      <td>NaN</td>\n",
       "    </tr>\n",
       "    <tr>\n",
       "      <th>0</th>\n",
       "      <td>3</td>\n",
       "      <td>47f9403d72ce17606d0d42f0a6968334</td>\n",
       "      <td>{\"cutoff\": \"quantile_0.25\", \"eval_fairness_gro...</td>\n",
       "      <td>27.802684</td>\n",
       "      <td>89710</td>\n",
       "      <td>1.0</td>\n",
       "      <td>0.228520</td>\n",
       "      <td>0.749295</td>\n",
       "      <td>0.213177</td>\n",
       "      <td>0.766857</td>\n",
       "      <td>...</td>\n",
       "      <td>0.118045</td>\n",
       "      <td>0.154657</td>\n",
       "      <td>0.911512</td>\n",
       "      <td>0.682992</td>\n",
       "      <td>0.063767</td>\n",
       "      <td>0.179322</td>\n",
       "      <td>0.914362</td>\n",
       "      <td>0.701185</td>\n",
       "      <td>20540.0</td>\n",
       "      <td>69170.0</td>\n",
       "    </tr>\n",
       "  </tbody>\n",
       "</table>\n",
       "<p>4 rows × 50 columns</p>\n",
       "</div>"
      ],
      "text/plain": [
       "  run_no                       universe_id  \\\n",
       "0      3  47f9403d72ce17606d0d42f0a6968334   \n",
       "0      3  47f9403d72ce17606d0d42f0a6968334   \n",
       "0      3  47f9403d72ce17606d0d42f0a6968334   \n",
       "0      3  47f9403d72ce17606d0d42f0a6968334   \n",
       "\n",
       "                                   universe_settings  execution_time  \\\n",
       "0  {\"cutoff\": \"quantile_0.1\", \"eval_fairness_grou...       27.802684   \n",
       "0  {\"cutoff\": \"quantile_0.1\", \"eval_fairness_grou...       27.802684   \n",
       "0  {\"cutoff\": \"quantile_0.25\", \"eval_fairness_gro...       27.802684   \n",
       "0  {\"cutoff\": \"quantile_0.25\", \"eval_fairness_gro...       27.802684   \n",
       "\n",
       "   test_size_n  test_size_frac  fair_main_equalized_odds_difference  \\\n",
       "0        89710             1.0                             0.093674   \n",
       "0        89710             1.0                             0.093674   \n",
       "0        89710             1.0                             0.228520   \n",
       "0        89710             1.0                             0.228520   \n",
       "\n",
       "   fair_main_equalized_odds_ratio  fair_main_demographic_parity_difference  \\\n",
       "0                        0.902951                                 0.086253   \n",
       "0                        0.902951                                 0.086253   \n",
       "0                        0.749295                                 0.213177   \n",
       "0                        0.749295                                 0.213177   \n",
       "\n",
       "   fair_main_demographic_parity_ratio  ...  perf_grp_precision_0  \\\n",
       "0                            0.910758  ...                   NaN   \n",
       "0                            0.910758  ...              0.116462   \n",
       "0                            0.766857  ...                   NaN   \n",
       "0                            0.766857  ...              0.118045   \n",
       "\n",
       "   perf_grp_precision_1  perf_grp_false positive rate_0  \\\n",
       "0                   NaN                             NaN   \n",
       "0              0.140720                        0.965221   \n",
       "0                   NaN                             NaN   \n",
       "0              0.154657                        0.911512   \n",
       "\n",
       "   perf_grp_false positive rate_1  perf_grp_false negative rate_0  \\\n",
       "0                             NaN                             NaN   \n",
       "0                        0.871548                        0.023649   \n",
       "0                             NaN                             NaN   \n",
       "0                        0.682992                        0.063767   \n",
       "\n",
       "   perf_grp_false negative rate_1  perf_grp_selection rate_0  \\\n",
       "0                             NaN                        NaN   \n",
       "0                        0.062582                   0.966504   \n",
       "0                             NaN                        NaN   \n",
       "0                        0.179322                   0.914362   \n",
       "\n",
       "   perf_grp_selection rate_1  perf_grp_count_0  perf_grp_count_1  \n",
       "0                        NaN               NaN               NaN  \n",
       "0                   0.880252           20540.0           69170.0  \n",
       "0                        NaN               NaN               NaN  \n",
       "0                   0.701185           20540.0           69170.0  \n",
       "\n",
       "[4 rows x 50 columns]"
      ]
     },
     "execution_count": 64,
     "metadata": {},
     "output_type": "execute_result"
    }
   ],
   "source": [
    "final_output = universe_analysis.generate_final_output(\n",
    "    y_pred_prob=probs_test,\n",
    "    y_test=y_true,\n",
    "    org_test=org_test,\n",
    "    filter_data=filter_sub_universe_data,\n",
    "    cp_metrics_df=cp_metrics_df,\n",
    "    save=True,\n",
    ")\n",
    "final_output"
   ]
  },
  {
   "cell_type": "code",
   "execution_count": null,
   "id": "8b80a1ff",
   "metadata": {
    "papermill": {
     "duration": 0.017815,
     "end_time": "2025-08-19T18:03:18.635328",
     "exception": false,
     "start_time": "2025-08-19T18:03:18.617513",
     "status": "completed"
    },
    "tags": []
   },
   "outputs": [],
   "source": []
  },
  {
   "cell_type": "code",
   "execution_count": null,
   "id": "275c9fad",
   "metadata": {
    "papermill": {
     "duration": 0.014783,
     "end_time": "2025-08-19T18:03:18.744230",
     "exception": false,
     "start_time": "2025-08-19T18:03:18.729447",
     "status": "completed"
    },
    "tags": []
   },
   "outputs": [],
   "source": []
  }
 ],
 "metadata": {
  "celltoolbar": "Tags",
  "kernelspec": {
   "display_name": "Python (CMA Fairness)",
   "language": "python",
   "name": "cma_fair_env"
  },
  "language_info": {
   "codemirror_mode": {
    "name": "ipython",
    "version": 3
   },
   "file_extension": ".py",
   "mimetype": "text/x-python",
   "name": "python",
   "nbconvert_exporter": "python",
   "pygments_lexer": "ipython3",
   "version": "3.10.12"
  },
  "papermill": {
   "default_parameters": {},
   "duration": 38.471905,
   "end_time": "2025-08-19T18:03:19.578605",
   "environment_variables": {},
   "exception": null,
   "input_path": "universe_analysis.ipynb",
   "output_path": "output/runs/3/notebooks/m_3-47f9403d72ce17606d0d42f0a6968334.ipynb",
   "parameters": {
    "output_dir": "output",
    "run_no": "3",
    "seed": "2023",
    "universe": "{\"cutoff\": [\"quantile_0.1\", \"quantile_0.25\"], \"eval_fairness_grouping\": [\"majority-minority\", \"nationality-all\"], \"exclude_features\": \"age\", \"exclude_subgroups\": \"drop-non-german\", \"model\": \"elasticnet\", \"scale\": \"do-not-scale\", \"training_size\": \"25k\", \"training_year\": \"2014\"}",
    "universe_id": "47f9403d72ce17606d0d42f0a6968334"
   },
   "start_time": "2025-08-19T18:02:41.106700",
   "version": "2.6.0"
  }
 },
 "nbformat": 4,
 "nbformat_minor": 5
}