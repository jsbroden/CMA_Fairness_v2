{
 "cells": [
  {
   "cell_type": "markdown",
   "id": "ef23dbb3",
   "metadata": {
    "papermill": {
     "duration": 0.024008,
     "end_time": "2025-08-19T18:28:17.622194",
     "exception": false,
     "start_time": "2025-08-19T18:28:17.598186",
     "status": "completed"
    },
    "tags": []
   },
   "source": [
    "# Setup"
   ]
  },
  {
   "cell_type": "code",
   "execution_count": 1,
   "id": "0bc8e7dc",
   "metadata": {
    "execution": {
     "iopub.execute_input": "2025-08-19T18:28:17.645634Z",
     "iopub.status.busy": "2025-08-19T18:28:17.645317Z",
     "iopub.status.idle": "2025-08-19T18:28:17.657213Z",
     "shell.execute_reply": "2025-08-19T18:28:17.656223Z"
    },
    "papermill": {
     "duration": 0.031347,
     "end_time": "2025-08-19T18:28:17.666643",
     "exception": false,
     "start_time": "2025-08-19T18:28:17.635296",
     "status": "completed"
    },
    "tags": []
   },
   "outputs": [
    {
     "name": "stdout",
     "output_type": "stream",
     "text": [
      "/dss/dsshome1/0C/ra93lal2/cma/CMA_Fairness_v2\n"
     ]
    },
    {
     "name": "stderr",
     "output_type": "stream",
     "text": [
      "/dss/dsshome1/0C/ra93lal2/.local/share/virtualenvs/CMA_Fairness_v2-3j10GkSs/lib/python3.10/site-packages/IPython/core/magics/osm.py:393: UserWarning: This is now an optional IPython functionality, using bookmarks requires you to install the `pickleshare` library.\n",
      "  bkms = self.shell.db.get('bookmarks', {})\n",
      "/dss/dsshome1/0C/ra93lal2/.local/share/virtualenvs/CMA_Fairness_v2-3j10GkSs/lib/python3.10/site-packages/IPython/core/magics/osm.py:417: UserWarning: This is now an optional IPython functionality, setting dhist requires you to install the `pickleshare` library.\n",
      "  self.shell.db['dhist'] = compress_dhist(dhist)[-100:]\n"
     ]
    }
   ],
   "source": [
    "%cd ~/cma/CMA_Fairness_v2"
   ]
  },
  {
   "cell_type": "markdown",
   "id": "9d235661",
   "metadata": {
    "papermill": {
     "duration": 0.009569,
     "end_time": "2025-08-19T18:28:17.692565",
     "exception": false,
     "start_time": "2025-08-19T18:28:17.682996",
     "status": "completed"
    },
    "tags": []
   },
   "source": [
    "The following cell holds the definition of our parameters, these values can be overriden by rendering the with e.g. the following command:\n",
    "\n",
    "papermill -p alpha 0.2 -p ratio 0.3 universe_analysis.ipynb output/test_run.ipynb"
   ]
  },
  {
   "cell_type": "code",
   "execution_count": 2,
   "id": "4a789d8e",
   "metadata": {
    "execution": {
     "iopub.execute_input": "2025-08-19T18:28:17.713668Z",
     "iopub.status.busy": "2025-08-19T18:28:17.712696Z",
     "iopub.status.idle": "2025-08-19T18:28:17.721528Z",
     "shell.execute_reply": "2025-08-19T18:28:17.719317Z"
    },
    "papermill": {
     "duration": 0.02171,
     "end_time": "2025-08-19T18:28:17.723382",
     "exception": false,
     "start_time": "2025-08-19T18:28:17.701672",
     "status": "completed"
    },
    "tags": []
   },
   "outputs": [
    {
     "name": "stdout",
     "output_type": "stream",
     "text": [
      "Current working directory: /dss/dsshome1/0C/ra93lal2/cma/CMA_Fairness_v2\n"
     ]
    }
   ],
   "source": [
    "import os\n",
    "print(\"Current working directory:\", os.getcwd())"
   ]
  },
  {
   "cell_type": "code",
   "execution_count": 3,
   "id": "4132aaed",
   "metadata": {
    "execution": {
     "iopub.execute_input": "2025-08-19T18:28:17.745612Z",
     "iopub.status.busy": "2025-08-19T18:28:17.744931Z",
     "iopub.status.idle": "2025-08-19T18:28:17.753817Z",
     "shell.execute_reply": "2025-08-19T18:28:17.752602Z"
    },
    "papermill": {
     "duration": 0.021539,
     "end_time": "2025-08-19T18:28:17.755231",
     "exception": false,
     "start_time": "2025-08-19T18:28:17.733692",
     "status": "completed"
    },
    "tags": [
     "parameters"
    ]
   },
   "outputs": [],
   "source": [
    "run_no = 0\n",
    "universe_id = \"test\"\n",
    "universe = {\n",
    "    \"training_size\": \"5k\", # \"25k\", \"5k\", \"1k\"\n",
    "    \"training_year\": \"2012_14\", # \"2014\", \"2012_14\", \"2010_14\"\n",
    "    \"scale\": \"scale\", # \"scale\", \"do-not-scale\",\n",
    "    \"model\": \"elasticnet\", # \"logreg\", \"penalized_logreg\", \"rf\", \"gbm\", \"elasticnet\"\n",
    "    \"cutoff\": [\"quantile_0.15\", \"quantile_0.30\"],\n",
    "    \"exclude_features\": \"age\", # \"none\", \"nationality\", \"sex\", \"nationality-sex\", \"age\"\n",
    "    \"exclude_subgroups\": \"drop-non-german\", # \"keep-all\", \"drop-non-german\"\n",
    "    \"eval_fairness_grouping\": [\"majority-minority\", \"nationality-all\"]\n",
    "}\n",
    "\n",
    "output_dir=\"./output\"\n",
    "seed=0"
   ]
  },
  {
   "cell_type": "code",
   "execution_count": 4,
   "id": "fc9923b2",
   "metadata": {
    "execution": {
     "iopub.execute_input": "2025-08-19T18:28:17.777832Z",
     "iopub.status.busy": "2025-08-19T18:28:17.776858Z",
     "iopub.status.idle": "2025-08-19T18:28:17.784191Z",
     "shell.execute_reply": "2025-08-19T18:28:17.782901Z"
    },
    "papermill": {
     "duration": 0.01946,
     "end_time": "2025-08-19T18:28:17.785681",
     "exception": false,
     "start_time": "2025-08-19T18:28:17.766221",
     "status": "completed"
    },
    "tags": [
     "injected-parameters"
    ]
   },
   "outputs": [],
   "source": [
    "# Parameters\n",
    "universe_id = \"618fd0b409db2edf558dea2a7809e3c4\"\n",
    "run_no = \"3\"\n",
    "universe = \"{\\\"cutoff\\\": [\\\"quantile_0.1\\\", \\\"quantile_0.25\\\"], \\\"eval_fairness_grouping\\\": [\\\"majority-minority\\\", \\\"nationality-all\\\"], \\\"exclude_features\\\": \\\"age\\\", \\\"exclude_subgroups\\\": \\\"drop-non-german\\\", \\\"model\\\": \\\"penalized_logreg\\\", \\\"scale\\\": \\\"do-not-scale\\\", \\\"training_size\\\": \\\"5k\\\", \\\"training_year\\\": \\\"2014\\\"}\"\n",
    "output_dir = \"output\"\n",
    "seed = \"2023\"\n"
   ]
  },
  {
   "cell_type": "code",
   "execution_count": 5,
   "id": "a5d7941f",
   "metadata": {
    "execution": {
     "iopub.execute_input": "2025-08-19T18:28:17.807849Z",
     "iopub.status.busy": "2025-08-19T18:28:17.806980Z",
     "iopub.status.idle": "2025-08-19T18:28:17.813453Z",
     "shell.execute_reply": "2025-08-19T18:28:17.812206Z"
    },
    "papermill": {
     "duration": 0.018486,
     "end_time": "2025-08-19T18:28:17.814847",
     "exception": false,
     "start_time": "2025-08-19T18:28:17.796361",
     "status": "completed"
    },
    "tags": []
   },
   "outputs": [],
   "source": [
    "import json\n",
    "if isinstance(universe, str):\n",
    "    universe = json.loads(universe)"
   ]
  },
  {
   "cell_type": "code",
   "execution_count": 6,
   "id": "7076ccb1",
   "metadata": {
    "execution": {
     "iopub.execute_input": "2025-08-19T18:28:17.855700Z",
     "iopub.status.busy": "2025-08-19T18:28:17.855010Z",
     "iopub.status.idle": "2025-08-19T18:28:17.913932Z",
     "shell.execute_reply": "2025-08-19T18:28:17.913340Z"
    },
    "papermill": {
     "duration": 0.089293,
     "end_time": "2025-08-19T18:28:17.915525",
     "exception": false,
     "start_time": "2025-08-19T18:28:17.826232",
     "status": "completed"
    },
    "tags": []
   },
   "outputs": [],
   "source": [
    "# Auto-reload the custom package\n",
    "%load_ext autoreload\n",
    "%autoreload 1\n",
    "%aimport fairness_multiverse"
   ]
  },
  {
   "cell_type": "code",
   "execution_count": 7,
   "id": "94c8eb93",
   "metadata": {
    "execution": {
     "iopub.execute_input": "2025-08-19T18:28:17.936753Z",
     "iopub.status.busy": "2025-08-19T18:28:17.935944Z",
     "iopub.status.idle": "2025-08-19T18:28:19.462878Z",
     "shell.execute_reply": "2025-08-19T18:28:19.461950Z"
    },
    "papermill": {
     "duration": 1.539423,
     "end_time": "2025-08-19T18:28:19.464876",
     "exception": false,
     "start_time": "2025-08-19T18:28:17.925453",
     "status": "completed"
    },
    "tags": []
   },
   "outputs": [],
   "source": [
    "from fairness_multiverse.universe import UniverseAnalysis\n",
    "\n",
    "universe_analysis = UniverseAnalysis(\n",
    "    run_no = run_no,\n",
    "    universe_id = universe_id,\n",
    "    universe = universe,\n",
    "    output_dir=output_dir,\n",
    ")"
   ]
  },
  {
   "cell_type": "code",
   "execution_count": 8,
   "id": "2a6381cf",
   "metadata": {
    "execution": {
     "iopub.execute_input": "2025-08-19T18:28:19.486116Z",
     "iopub.status.busy": "2025-08-19T18:28:19.485587Z",
     "iopub.status.idle": "2025-08-19T18:28:19.491081Z",
     "shell.execute_reply": "2025-08-19T18:28:19.490503Z"
    },
    "papermill": {
     "duration": 0.026064,
     "end_time": "2025-08-19T18:28:19.501117",
     "exception": false,
     "start_time": "2025-08-19T18:28:19.475053",
     "status": "completed"
    },
    "tags": []
   },
   "outputs": [
    {
     "name": "stdout",
     "output_type": "stream",
     "text": [
      "Using Seed: 2023\n"
     ]
    }
   ],
   "source": [
    "import numpy as np\n",
    "parsed_seed = int(seed)\n",
    "np.random.seed(parsed_seed)\n",
    "print(f\"Using Seed: {parsed_seed}\")"
   ]
  },
  {
   "cell_type": "markdown",
   "id": "b6e958b4",
   "metadata": {
    "papermill": {
     "duration": 0.00976,
     "end_time": "2025-08-19T18:28:19.528382",
     "exception": false,
     "start_time": "2025-08-19T18:28:19.518622",
     "status": "completed"
    },
    "tags": []
   },
   "source": [
    "# Loading Data"
   ]
  },
  {
   "cell_type": "code",
   "execution_count": 9,
   "id": "98701482",
   "metadata": {
    "execution": {
     "iopub.execute_input": "2025-08-19T18:28:19.550148Z",
     "iopub.status.busy": "2025-08-19T18:28:19.548756Z",
     "iopub.status.idle": "2025-08-19T18:28:29.449133Z",
     "shell.execute_reply": "2025-08-19T18:28:29.448127Z"
    },
    "papermill": {
     "duration": 9.914153,
     "end_time": "2025-08-19T18:28:29.451690",
     "exception": false,
     "start_time": "2025-08-19T18:28:19.537537",
     "status": "completed"
    },
    "tags": []
   },
   "outputs": [
    {
     "name": "stdout",
     "output_type": "stream",
     "text": [
      "Loading SIAB data from cache: data/siab_cached.csv.gz\n"
     ]
    },
    {
     "name": "stdout",
     "output_type": "stream",
     "text": [
      "(643690, 164)\n"
     ]
    }
   ],
   "source": [
    "from pathlib import Path\n",
    "import pandas as pd\n",
    "\n",
    "# File paths\n",
    "raw_file = Path(\"data/raw/siab.csv\")\n",
    "cache_file = Path(\"data/siab_cached.csv.gz\")\n",
    "\n",
    "# Ensure cache directory exists\n",
    "cache_file.parent.mkdir(parents=True, exist_ok=True)\n",
    "\n",
    "# Load with simple caching\n",
    "if cache_file.exists():\n",
    "    print(f\"Loading SIAB data from cache: {cache_file}\")\n",
    "    siab = pd.read_csv(cache_file, compression='gzip')\n",
    "else:\n",
    "    print(f\"Cache not found. Reading raw SIAB data: {raw_file}\")\n",
    "    siab = pd.read_csv(raw_file)\n",
    "    siab.to_csv(cache_file, index=False, compression='gzip')\n",
    "    print(f\"Cached SIAB data to: {cache_file}\")\n",
    "\n",
    "print(siab.shape)"
   ]
  },
  {
   "cell_type": "code",
   "execution_count": 10,
   "id": "058d2abb",
   "metadata": {
    "execution": {
     "iopub.execute_input": "2025-08-19T18:28:29.491765Z",
     "iopub.status.busy": "2025-08-19T18:28:29.490670Z",
     "iopub.status.idle": "2025-08-19T18:28:29.637271Z",
     "shell.execute_reply": "2025-08-19T18:28:29.636272Z"
    },
    "papermill": {
     "duration": 0.162423,
     "end_time": "2025-08-19T18:28:29.639668",
     "exception": false,
     "start_time": "2025-08-19T18:28:29.477245",
     "status": "completed"
    },
    "tags": []
   },
   "outputs": [
    {
     "data": {
      "text/html": [
       "<div>\n",
       "<style scoped>\n",
       "    .dataframe tbody tr th:only-of-type {\n",
       "        vertical-align: middle;\n",
       "    }\n",
       "\n",
       "    .dataframe tbody tr th {\n",
       "        vertical-align: top;\n",
       "    }\n",
       "\n",
       "    .dataframe thead th {\n",
       "        text-align: right;\n",
       "    }\n",
       "</style>\n",
       "<table border=\"1\" class=\"dataframe\">\n",
       "  <thead>\n",
       "    <tr style=\"text-align: right;\">\n",
       "      <th></th>\n",
       "      <th>persnr</th>\n",
       "      <th>year</th>\n",
       "      <th>nrEntry</th>\n",
       "      <th>ltue</th>\n",
       "      <th>employed_before</th>\n",
       "      <th>receipt_leh_before</th>\n",
       "      <th>receipt_lhg_before</th>\n",
       "      <th>se_before</th>\n",
       "      <th>ASU_notue_seeking_before</th>\n",
       "      <th>ASU_other_before</th>\n",
       "      <th>...</th>\n",
       "      <th>minijob_tot_dur_byage</th>\n",
       "      <th>ft_tot_dur_byage</th>\n",
       "      <th>befrist_tot_dur_byage</th>\n",
       "      <th>leih_tot_dur_byage</th>\n",
       "      <th>LHG_tot_dur_byage</th>\n",
       "      <th>LEH_tot_dur_byage</th>\n",
       "      <th>almp_tot_dur_byage</th>\n",
       "      <th>almp_aw_tot_dur_byage</th>\n",
       "      <th>se_tot_dur_byage</th>\n",
       "      <th>seeking1_tot_dur_byage</th>\n",
       "    </tr>\n",
       "  </thead>\n",
       "  <tbody>\n",
       "    <tr>\n",
       "      <th>0</th>\n",
       "      <td>7</td>\n",
       "      <td>2015</td>\n",
       "      <td>1</td>\n",
       "      <td>0</td>\n",
       "      <td>1</td>\n",
       "      <td>0</td>\n",
       "      <td>0</td>\n",
       "      <td>0</td>\n",
       "      <td>1</td>\n",
       "      <td>0</td>\n",
       "      <td>...</td>\n",
       "      <td>0.000000</td>\n",
       "      <td>0.000000</td>\n",
       "      <td>15.043478</td>\n",
       "      <td>0.000000</td>\n",
       "      <td>0.000000</td>\n",
       "      <td>0.000000</td>\n",
       "      <td>0.000000</td>\n",
       "      <td>0.000000</td>\n",
       "      <td>0.000000</td>\n",
       "      <td>0.000000</td>\n",
       "    </tr>\n",
       "    <tr>\n",
       "      <th>1</th>\n",
       "      <td>18</td>\n",
       "      <td>2010</td>\n",
       "      <td>1</td>\n",
       "      <td>1</td>\n",
       "      <td>0</td>\n",
       "      <td>0</td>\n",
       "      <td>0</td>\n",
       "      <td>0</td>\n",
       "      <td>0</td>\n",
       "      <td>0</td>\n",
       "      <td>...</td>\n",
       "      <td>0.000000</td>\n",
       "      <td>0.000000</td>\n",
       "      <td>0.000000</td>\n",
       "      <td>0.000000</td>\n",
       "      <td>0.000000</td>\n",
       "      <td>0.000000</td>\n",
       "      <td>0.000000</td>\n",
       "      <td>0.000000</td>\n",
       "      <td>0.000000</td>\n",
       "      <td>0.000000</td>\n",
       "    </tr>\n",
       "    <tr>\n",
       "      <th>2</th>\n",
       "      <td>18</td>\n",
       "      <td>2011</td>\n",
       "      <td>2</td>\n",
       "      <td>0</td>\n",
       "      <td>1</td>\n",
       "      <td>0</td>\n",
       "      <td>1</td>\n",
       "      <td>0</td>\n",
       "      <td>1</td>\n",
       "      <td>0</td>\n",
       "      <td>...</td>\n",
       "      <td>2.714286</td>\n",
       "      <td>2.714286</td>\n",
       "      <td>0.000000</td>\n",
       "      <td>0.000000</td>\n",
       "      <td>10.775510</td>\n",
       "      <td>0.000000</td>\n",
       "      <td>8.367347</td>\n",
       "      <td>0.000000</td>\n",
       "      <td>0.000000</td>\n",
       "      <td>9.836735</td>\n",
       "    </tr>\n",
       "    <tr>\n",
       "      <th>3</th>\n",
       "      <td>18</td>\n",
       "      <td>2012</td>\n",
       "      <td>3</td>\n",
       "      <td>0</td>\n",
       "      <td>1</td>\n",
       "      <td>0</td>\n",
       "      <td>1</td>\n",
       "      <td>0</td>\n",
       "      <td>1</td>\n",
       "      <td>0</td>\n",
       "      <td>...</td>\n",
       "      <td>4.200000</td>\n",
       "      <td>4.200000</td>\n",
       "      <td>0.000000</td>\n",
       "      <td>0.000000</td>\n",
       "      <td>12.100000</td>\n",
       "      <td>0.000000</td>\n",
       "      <td>9.400000</td>\n",
       "      <td>0.000000</td>\n",
       "      <td>0.000000</td>\n",
       "      <td>9.960000</td>\n",
       "    </tr>\n",
       "    <tr>\n",
       "      <th>4</th>\n",
       "      <td>18</td>\n",
       "      <td>2012</td>\n",
       "      <td>4</td>\n",
       "      <td>0</td>\n",
       "      <td>1</td>\n",
       "      <td>0</td>\n",
       "      <td>1</td>\n",
       "      <td>0</td>\n",
       "      <td>1</td>\n",
       "      <td>0</td>\n",
       "      <td>...</td>\n",
       "      <td>5.460000</td>\n",
       "      <td>5.460000</td>\n",
       "      <td>0.000000</td>\n",
       "      <td>0.000000</td>\n",
       "      <td>13.360000</td>\n",
       "      <td>0.000000</td>\n",
       "      <td>10.320000</td>\n",
       "      <td>0.000000</td>\n",
       "      <td>0.000000</td>\n",
       "      <td>10.280000</td>\n",
       "    </tr>\n",
       "    <tr>\n",
       "      <th>...</th>\n",
       "      <td>...</td>\n",
       "      <td>...</td>\n",
       "      <td>...</td>\n",
       "      <td>...</td>\n",
       "      <td>...</td>\n",
       "      <td>...</td>\n",
       "      <td>...</td>\n",
       "      <td>...</td>\n",
       "      <td>...</td>\n",
       "      <td>...</td>\n",
       "      <td>...</td>\n",
       "      <td>...</td>\n",
       "      <td>...</td>\n",
       "      <td>...</td>\n",
       "      <td>...</td>\n",
       "      <td>...</td>\n",
       "      <td>...</td>\n",
       "      <td>...</td>\n",
       "      <td>...</td>\n",
       "      <td>...</td>\n",
       "      <td>...</td>\n",
       "    </tr>\n",
       "    <tr>\n",
       "      <th>643685</th>\n",
       "      <td>1827860</td>\n",
       "      <td>2013</td>\n",
       "      <td>1</td>\n",
       "      <td>0</td>\n",
       "      <td>0</td>\n",
       "      <td>0</td>\n",
       "      <td>1</td>\n",
       "      <td>0</td>\n",
       "      <td>0</td>\n",
       "      <td>1</td>\n",
       "      <td>...</td>\n",
       "      <td>0.000000</td>\n",
       "      <td>0.000000</td>\n",
       "      <td>0.000000</td>\n",
       "      <td>0.000000</td>\n",
       "      <td>0.612903</td>\n",
       "      <td>0.000000</td>\n",
       "      <td>0.000000</td>\n",
       "      <td>0.000000</td>\n",
       "      <td>0.000000</td>\n",
       "      <td>0.000000</td>\n",
       "    </tr>\n",
       "    <tr>\n",
       "      <th>643686</th>\n",
       "      <td>1827860</td>\n",
       "      <td>2015</td>\n",
       "      <td>2</td>\n",
       "      <td>1</td>\n",
       "      <td>0</td>\n",
       "      <td>0</td>\n",
       "      <td>1</td>\n",
       "      <td>0</td>\n",
       "      <td>1</td>\n",
       "      <td>0</td>\n",
       "      <td>...</td>\n",
       "      <td>0.000000</td>\n",
       "      <td>0.000000</td>\n",
       "      <td>0.212121</td>\n",
       "      <td>0.212121</td>\n",
       "      <td>17.363636</td>\n",
       "      <td>0.000000</td>\n",
       "      <td>8.909091</td>\n",
       "      <td>0.000000</td>\n",
       "      <td>0.000000</td>\n",
       "      <td>7.121212</td>\n",
       "    </tr>\n",
       "    <tr>\n",
       "      <th>643687</th>\n",
       "      <td>1827860</td>\n",
       "      <td>2016</td>\n",
       "      <td>3</td>\n",
       "      <td>1</td>\n",
       "      <td>0</td>\n",
       "      <td>0</td>\n",
       "      <td>1</td>\n",
       "      <td>1</td>\n",
       "      <td>0</td>\n",
       "      <td>1</td>\n",
       "      <td>...</td>\n",
       "      <td>0.000000</td>\n",
       "      <td>0.000000</td>\n",
       "      <td>0.294118</td>\n",
       "      <td>0.205882</td>\n",
       "      <td>34.705882</td>\n",
       "      <td>0.000000</td>\n",
       "      <td>10.352941</td>\n",
       "      <td>1.705882</td>\n",
       "      <td>1.705882</td>\n",
       "      <td>23.911765</td>\n",
       "    </tr>\n",
       "    <tr>\n",
       "      <th>643688</th>\n",
       "      <td>1827869</td>\n",
       "      <td>2013</td>\n",
       "      <td>1</td>\n",
       "      <td>1</td>\n",
       "      <td>1</td>\n",
       "      <td>0</td>\n",
       "      <td>0</td>\n",
       "      <td>0</td>\n",
       "      <td>1</td>\n",
       "      <td>0</td>\n",
       "      <td>...</td>\n",
       "      <td>0.000000</td>\n",
       "      <td>0.000000</td>\n",
       "      <td>0.000000</td>\n",
       "      <td>0.000000</td>\n",
       "      <td>0.000000</td>\n",
       "      <td>0.525424</td>\n",
       "      <td>0.000000</td>\n",
       "      <td>0.000000</td>\n",
       "      <td>0.000000</td>\n",
       "      <td>0.000000</td>\n",
       "    </tr>\n",
       "    <tr>\n",
       "      <th>643689</th>\n",
       "      <td>1827869</td>\n",
       "      <td>2014</td>\n",
       "      <td>2</td>\n",
       "      <td>0</td>\n",
       "      <td>0</td>\n",
       "      <td>1</td>\n",
       "      <td>0</td>\n",
       "      <td>0</td>\n",
       "      <td>1</td>\n",
       "      <td>0</td>\n",
       "      <td>...</td>\n",
       "      <td>0.000000</td>\n",
       "      <td>0.666667</td>\n",
       "      <td>0.666667</td>\n",
       "      <td>0.000000</td>\n",
       "      <td>0.000000</td>\n",
       "      <td>8.950000</td>\n",
       "      <td>1.033333</td>\n",
       "      <td>0.083333</td>\n",
       "      <td>0.083333</td>\n",
       "      <td>8.133333</td>\n",
       "    </tr>\n",
       "  </tbody>\n",
       "</table>\n",
       "<p>643690 rows × 164 columns</p>\n",
       "</div>"
      ],
      "text/plain": [
       "         persnr  year  nrEntry  ltue  employed_before  receipt_leh_before  \\\n",
       "0             7  2015        1     0                1                   0   \n",
       "1            18  2010        1     1                0                   0   \n",
       "2            18  2011        2     0                1                   0   \n",
       "3            18  2012        3     0                1                   0   \n",
       "4            18  2012        4     0                1                   0   \n",
       "...         ...   ...      ...   ...              ...                 ...   \n",
       "643685  1827860  2013        1     0                0                   0   \n",
       "643686  1827860  2015        2     1                0                   0   \n",
       "643687  1827860  2016        3     1                0                   0   \n",
       "643688  1827869  2013        1     1                1                   0   \n",
       "643689  1827869  2014        2     0                0                   1   \n",
       "\n",
       "        receipt_lhg_before  se_before  ASU_notue_seeking_before  \\\n",
       "0                        0          0                         1   \n",
       "1                        0          0                         0   \n",
       "2                        1          0                         1   \n",
       "3                        1          0                         1   \n",
       "4                        1          0                         1   \n",
       "...                    ...        ...                       ...   \n",
       "643685                   1          0                         0   \n",
       "643686                   1          0                         1   \n",
       "643687                   1          1                         0   \n",
       "643688                   0          0                         1   \n",
       "643689                   0          0                         1   \n",
       "\n",
       "        ASU_other_before  ...  minijob_tot_dur_byage  ft_tot_dur_byage  \\\n",
       "0                      0  ...               0.000000          0.000000   \n",
       "1                      0  ...               0.000000          0.000000   \n",
       "2                      0  ...               2.714286          2.714286   \n",
       "3                      0  ...               4.200000          4.200000   \n",
       "4                      0  ...               5.460000          5.460000   \n",
       "...                  ...  ...                    ...               ...   \n",
       "643685                 1  ...               0.000000          0.000000   \n",
       "643686                 0  ...               0.000000          0.000000   \n",
       "643687                 1  ...               0.000000          0.000000   \n",
       "643688                 0  ...               0.000000          0.000000   \n",
       "643689                 0  ...               0.000000          0.666667   \n",
       "\n",
       "        befrist_tot_dur_byage  leih_tot_dur_byage  LHG_tot_dur_byage  \\\n",
       "0                   15.043478            0.000000           0.000000   \n",
       "1                    0.000000            0.000000           0.000000   \n",
       "2                    0.000000            0.000000          10.775510   \n",
       "3                    0.000000            0.000000          12.100000   \n",
       "4                    0.000000            0.000000          13.360000   \n",
       "...                       ...                 ...                ...   \n",
       "643685               0.000000            0.000000           0.612903   \n",
       "643686               0.212121            0.212121          17.363636   \n",
       "643687               0.294118            0.205882          34.705882   \n",
       "643688               0.000000            0.000000           0.000000   \n",
       "643689               0.666667            0.000000           0.000000   \n",
       "\n",
       "        LEH_tot_dur_byage  almp_tot_dur_byage  almp_aw_tot_dur_byage  \\\n",
       "0                0.000000            0.000000               0.000000   \n",
       "1                0.000000            0.000000               0.000000   \n",
       "2                0.000000            8.367347               0.000000   \n",
       "3                0.000000            9.400000               0.000000   \n",
       "4                0.000000           10.320000               0.000000   \n",
       "...                   ...                 ...                    ...   \n",
       "643685           0.000000            0.000000               0.000000   \n",
       "643686           0.000000            8.909091               0.000000   \n",
       "643687           0.000000           10.352941               1.705882   \n",
       "643688           0.525424            0.000000               0.000000   \n",
       "643689           8.950000            1.033333               0.083333   \n",
       "\n",
       "        se_tot_dur_byage  seeking1_tot_dur_byage  \n",
       "0               0.000000                0.000000  \n",
       "1               0.000000                0.000000  \n",
       "2               0.000000                9.836735  \n",
       "3               0.000000                9.960000  \n",
       "4               0.000000               10.280000  \n",
       "...                  ...                     ...  \n",
       "643685          0.000000                0.000000  \n",
       "643686          0.000000                7.121212  \n",
       "643687          1.705882               23.911765  \n",
       "643688          0.000000                0.000000  \n",
       "643689          0.083333                8.133333  \n",
       "\n",
       "[643690 rows x 164 columns]"
      ]
     },
     "execution_count": 10,
     "metadata": {},
     "output_type": "execute_result"
    }
   ],
   "source": [
    "siab"
   ]
  },
  {
   "cell_type": "markdown",
   "id": "1f87e805",
   "metadata": {
    "papermill": {
     "duration": 0.012004,
     "end_time": "2025-08-19T18:28:29.674815",
     "exception": false,
     "start_time": "2025-08-19T18:28:29.662811",
     "status": "completed"
    },
    "tags": []
   },
   "source": [
    "# Splitting Data and Setting Training Data Size"
   ]
  },
  {
   "cell_type": "code",
   "execution_count": 11,
   "id": "910ae358",
   "metadata": {
    "execution": {
     "iopub.execute_input": "2025-08-19T18:28:29.697897Z",
     "iopub.status.busy": "2025-08-19T18:28:29.696738Z",
     "iopub.status.idle": "2025-08-19T18:28:29.930118Z",
     "shell.execute_reply": "2025-08-19T18:28:29.929416Z"
    },
    "papermill": {
     "duration": 0.248207,
     "end_time": "2025-08-19T18:28:29.932918",
     "exception": false,
     "start_time": "2025-08-19T18:28:29.684711",
     "status": "completed"
    },
    "tags": []
   },
   "outputs": [],
   "source": [
    "from fairness_multiverse.universe import sample_by_year_size\n",
    "\n",
    "siab_train = sample_by_year_size(siab,\n",
    "                               training_year=universe[\"training_year\"],\n",
    "                               training_size=universe[\"training_size\"])"
   ]
  },
  {
   "cell_type": "code",
   "execution_count": 12,
   "id": "919c8ff5",
   "metadata": {
    "execution": {
     "iopub.execute_input": "2025-08-19T18:28:29.970625Z",
     "iopub.status.busy": "2025-08-19T18:28:29.969595Z",
     "iopub.status.idle": "2025-08-19T18:28:29.981107Z",
     "shell.execute_reply": "2025-08-19T18:28:29.979886Z"
    },
    "papermill": {
     "duration": 0.026713,
     "end_time": "2025-08-19T18:28:29.982574",
     "exception": false,
     "start_time": "2025-08-19T18:28:29.955861",
     "status": "completed"
    },
    "tags": []
   },
   "outputs": [
    {
     "data": {
      "text/plain": [
       "(5000, 164)"
      ]
     },
     "execution_count": 12,
     "metadata": {},
     "output_type": "execute_result"
    }
   ],
   "source": [
    "siab_train.shape"
   ]
  },
  {
   "cell_type": "code",
   "execution_count": 13,
   "id": "feb13bf4",
   "metadata": {
    "execution": {
     "iopub.execute_input": "2025-08-19T18:28:30.008912Z",
     "iopub.status.busy": "2025-08-19T18:28:30.007872Z",
     "iopub.status.idle": "2025-08-19T18:28:30.022749Z",
     "shell.execute_reply": "2025-08-19T18:28:30.021567Z"
    },
    "papermill": {
     "duration": 0.028212,
     "end_time": "2025-08-19T18:28:30.024495",
     "exception": false,
     "start_time": "2025-08-19T18:28:29.996283",
     "status": "completed"
    },
    "tags": []
   },
   "outputs": [
    {
     "data": {
      "text/plain": [
       "year\n",
       "2014    5000\n",
       "dtype: int64"
      ]
     },
     "metadata": {},
     "output_type": "display_data"
    }
   ],
   "source": [
    "display(siab_train.groupby(\"year\").size())"
   ]
  },
  {
   "cell_type": "code",
   "execution_count": 14,
   "id": "0997782f",
   "metadata": {
    "execution": {
     "iopub.execute_input": "2025-08-19T18:28:30.054598Z",
     "iopub.status.busy": "2025-08-19T18:28:30.053589Z",
     "iopub.status.idle": "2025-08-19T18:28:30.289290Z",
     "shell.execute_reply": "2025-08-19T18:28:30.288592Z"
    },
    "papermill": {
     "duration": 0.250938,
     "end_time": "2025-08-19T18:28:30.292037",
     "exception": false,
     "start_time": "2025-08-19T18:28:30.041099",
     "status": "completed"
    },
    "tags": []
   },
   "outputs": [],
   "source": [
    "#siab_train = siab_s[siab_s.year < 2015]\n",
    "siab_calib = siab[siab.year == 2015]\n",
    "siab_test = siab[siab.year == 2016]"
   ]
  },
  {
   "cell_type": "code",
   "execution_count": 15,
   "id": "2c1e4012",
   "metadata": {
    "execution": {
     "iopub.execute_input": "2025-08-19T18:28:30.324054Z",
     "iopub.status.busy": "2025-08-19T18:28:30.323346Z",
     "iopub.status.idle": "2025-08-19T18:28:30.327192Z",
     "shell.execute_reply": "2025-08-19T18:28:30.326611Z"
    },
    "papermill": {
     "duration": 0.034045,
     "end_time": "2025-08-19T18:28:30.337547",
     "exception": false,
     "start_time": "2025-08-19T18:28:30.303502",
     "status": "completed"
    },
    "tags": []
   },
   "outputs": [],
   "source": [
    "#siab_calib.shape"
   ]
  },
  {
   "cell_type": "code",
   "execution_count": 16,
   "id": "f66b54ca",
   "metadata": {
    "execution": {
     "iopub.execute_input": "2025-08-19T18:28:30.360017Z",
     "iopub.status.busy": "2025-08-19T18:28:30.359555Z",
     "iopub.status.idle": "2025-08-19T18:28:30.363897Z",
     "shell.execute_reply": "2025-08-19T18:28:30.363178Z"
    },
    "papermill": {
     "duration": 0.017196,
     "end_time": "2025-08-19T18:28:30.365106",
     "exception": false,
     "start_time": "2025-08-19T18:28:30.347910",
     "status": "completed"
    },
    "tags": []
   },
   "outputs": [],
   "source": [
    "#siab_test.shape"
   ]
  },
  {
   "cell_type": "code",
   "execution_count": 17,
   "id": "27e4384d",
   "metadata": {
    "execution": {
     "iopub.execute_input": "2025-08-19T18:28:30.396739Z",
     "iopub.status.busy": "2025-08-19T18:28:30.395970Z",
     "iopub.status.idle": "2025-08-19T18:28:30.403540Z",
     "shell.execute_reply": "2025-08-19T18:28:30.402703Z"
    },
    "papermill": {
     "duration": 0.030035,
     "end_time": "2025-08-19T18:28:30.405417",
     "exception": false,
     "start_time": "2025-08-19T18:28:30.375382",
     "status": "completed"
    },
    "tags": []
   },
   "outputs": [],
   "source": [
    "X_train = siab_train.iloc[:,4:164]\n",
    "y_train = siab_train.iloc[:, [3]]"
   ]
  },
  {
   "cell_type": "code",
   "execution_count": 18,
   "id": "08ee8389",
   "metadata": {
    "execution": {
     "iopub.execute_input": "2025-08-19T18:28:30.432230Z",
     "iopub.status.busy": "2025-08-19T18:28:30.431345Z",
     "iopub.status.idle": "2025-08-19T18:28:30.495890Z",
     "shell.execute_reply": "2025-08-19T18:28:30.494929Z"
    },
    "papermill": {
     "duration": 0.077539,
     "end_time": "2025-08-19T18:28:30.497380",
     "exception": false,
     "start_time": "2025-08-19T18:28:30.419841",
     "status": "completed"
    },
    "tags": []
   },
   "outputs": [],
   "source": [
    "X_calib = siab_calib.iloc[:,4:164]\n",
    "y_calib = siab_calib.iloc[:, [3]]"
   ]
  },
  {
   "cell_type": "code",
   "execution_count": 19,
   "id": "b7ff42e0",
   "metadata": {
    "execution": {
     "iopub.execute_input": "2025-08-19T18:28:30.521671Z",
     "iopub.status.busy": "2025-08-19T18:28:30.520795Z",
     "iopub.status.idle": "2025-08-19T18:28:30.581793Z",
     "shell.execute_reply": "2025-08-19T18:28:30.580933Z"
    },
    "papermill": {
     "duration": 0.075638,
     "end_time": "2025-08-19T18:28:30.584971",
     "exception": false,
     "start_time": "2025-08-19T18:28:30.509333",
     "status": "completed"
    },
    "tags": []
   },
   "outputs": [],
   "source": [
    "X_test = siab_test.iloc[:,4:164]\n",
    "y_true = siab_test.iloc[:, [3]]"
   ]
  },
  {
   "cell_type": "code",
   "execution_count": 20,
   "id": "0275101e",
   "metadata": {
    "execution": {
     "iopub.execute_input": "2025-08-19T18:28:30.630024Z",
     "iopub.status.busy": "2025-08-19T18:28:30.629033Z",
     "iopub.status.idle": "2025-08-19T18:28:30.753047Z",
     "shell.execute_reply": "2025-08-19T18:28:30.751943Z"
    },
    "papermill": {
     "duration": 0.145217,
     "end_time": "2025-08-19T18:28:30.756583",
     "exception": false,
     "start_time": "2025-08-19T18:28:30.611366",
     "status": "completed"
    },
    "tags": []
   },
   "outputs": [],
   "source": [
    "# Auxiliary data needed downstream in the pipeline\n",
    "\n",
    "org_train = X_train.copy()\n",
    "org_test = X_test.copy()\n",
    "org_calib = X_calib.copy()"
   ]
  },
  {
   "cell_type": "markdown",
   "id": "b461e618",
   "metadata": {
    "papermill": {
     "duration": 0.012171,
     "end_time": "2025-08-19T18:28:30.792943",
     "exception": false,
     "start_time": "2025-08-19T18:28:30.780772",
     "status": "completed"
    },
    "tags": []
   },
   "source": [
    "# Preprocessing Data"
   ]
  },
  {
   "cell_type": "code",
   "execution_count": 21,
   "id": "78e74c4b",
   "metadata": {
    "execution": {
     "iopub.execute_input": "2025-08-19T18:28:30.816199Z",
     "iopub.status.busy": "2025-08-19T18:28:30.815226Z",
     "iopub.status.idle": "2025-08-19T18:28:30.824141Z",
     "shell.execute_reply": "2025-08-19T18:28:30.822927Z"
    },
    "papermill": {
     "duration": 0.022335,
     "end_time": "2025-08-19T18:28:30.825675",
     "exception": false,
     "start_time": "2025-08-19T18:28:30.803340",
     "status": "completed"
    },
    "tags": []
   },
   "outputs": [],
   "source": [
    "# EXCLUDE PROTECTED FEATURES\n",
    "# --------------------------\n",
    "\n",
    "excluded_features = universe[\"exclude_features\"].split(\"-\")\n",
    "excluded_features_dictionary = {\n",
    "    \"nationality\": [\"maxdeutsch1\", \"maxdeutsch.Missing.\"],\n",
    "    \"sex\": [\"frau1\"],\n",
    "    \"age\": [\"age\"],\n",
    "}"
   ]
  },
  {
   "cell_type": "code",
   "execution_count": 22,
   "id": "f8e63555",
   "metadata": {
    "execution": {
     "iopub.execute_input": "2025-08-19T18:28:30.850662Z",
     "iopub.status.busy": "2025-08-19T18:28:30.849750Z",
     "iopub.status.idle": "2025-08-19T18:28:30.857302Z",
     "shell.execute_reply": "2025-08-19T18:28:30.856092Z"
    },
    "papermill": {
     "duration": 0.020958,
     "end_time": "2025-08-19T18:28:30.858901",
     "exception": false,
     "start_time": "2025-08-19T18:28:30.837943",
     "status": "completed"
    },
    "tags": []
   },
   "outputs": [],
   "source": [
    "excluded_features_columns = [\n",
    "    excluded_features_dictionary[f] for f in excluded_features if len(f) > 0 and f != \"none\"\n",
    "]"
   ]
  },
  {
   "cell_type": "code",
   "execution_count": 23,
   "id": "da781f7c",
   "metadata": {
    "execution": {
     "iopub.execute_input": "2025-08-19T18:28:30.884575Z",
     "iopub.status.busy": "2025-08-19T18:28:30.883610Z",
     "iopub.status.idle": "2025-08-19T18:28:30.890764Z",
     "shell.execute_reply": "2025-08-19T18:28:30.889576Z"
    },
    "papermill": {
     "duration": 0.020331,
     "end_time": "2025-08-19T18:28:30.892199",
     "exception": false,
     "start_time": "2025-08-19T18:28:30.871868",
     "status": "completed"
    },
    "tags": []
   },
   "outputs": [],
   "source": [
    "from fairness_multiverse.universe import flatten_once\n",
    "\n",
    "excluded_features_columns = flatten_once(excluded_features_columns)"
   ]
  },
  {
   "cell_type": "code",
   "execution_count": 24,
   "id": "37fef0f0",
   "metadata": {
    "execution": {
     "iopub.execute_input": "2025-08-19T18:28:30.915893Z",
     "iopub.status.busy": "2025-08-19T18:28:30.914940Z",
     "iopub.status.idle": "2025-08-19T18:28:30.934679Z",
     "shell.execute_reply": "2025-08-19T18:28:30.933569Z"
    },
    "papermill": {
     "duration": 0.033319,
     "end_time": "2025-08-19T18:28:30.936370",
     "exception": false,
     "start_time": "2025-08-19T18:28:30.903051",
     "status": "completed"
    },
    "tags": []
   },
   "outputs": [
    {
     "name": "stdout",
     "output_type": "stream",
     "text": [
      "Dropping features: ['age']\n"
     ]
    }
   ],
   "source": [
    "if len(excluded_features_columns) > 0:\n",
    "    print(f\"Dropping features: {excluded_features_columns}\")\n",
    "    X_train.drop(excluded_features_columns, axis=1, inplace=True)"
   ]
  },
  {
   "cell_type": "code",
   "execution_count": 25,
   "id": "d029e3e9",
   "metadata": {
    "execution": {
     "iopub.execute_input": "2025-08-19T18:28:30.963913Z",
     "iopub.status.busy": "2025-08-19T18:28:30.962906Z",
     "iopub.status.idle": "2025-08-19T18:28:31.022304Z",
     "shell.execute_reply": "2025-08-19T18:28:31.019175Z"
    },
    "papermill": {
     "duration": 0.075236,
     "end_time": "2025-08-19T18:28:31.025442",
     "exception": false,
     "start_time": "2025-08-19T18:28:30.950206",
     "status": "completed"
    },
    "tags": []
   },
   "outputs": [
    {
     "name": "stdout",
     "output_type": "stream",
     "text": [
      "Dropping features: ['age']\n"
     ]
    }
   ],
   "source": [
    "if len(excluded_features_columns) > 0:\n",
    "    print(f\"Dropping features: {excluded_features_columns}\")\n",
    "    X_test.drop(excluded_features_columns, axis=1, inplace=True)"
   ]
  },
  {
   "cell_type": "code",
   "execution_count": 26,
   "id": "01d571f0",
   "metadata": {
    "execution": {
     "iopub.execute_input": "2025-08-19T18:28:31.061126Z",
     "iopub.status.busy": "2025-08-19T18:28:31.060018Z",
     "iopub.status.idle": "2025-08-19T18:28:31.118688Z",
     "shell.execute_reply": "2025-08-19T18:28:31.117622Z"
    },
    "papermill": {
     "duration": 0.074222,
     "end_time": "2025-08-19T18:28:31.120698",
     "exception": false,
     "start_time": "2025-08-19T18:28:31.046476",
     "status": "completed"
    },
    "tags": []
   },
   "outputs": [
    {
     "name": "stdout",
     "output_type": "stream",
     "text": [
      "Dropping features: ['age']\n"
     ]
    }
   ],
   "source": [
    "if len(excluded_features_columns) > 0:\n",
    "    print(f\"Dropping features: {excluded_features_columns}\")\n",
    "    X_calib.drop(excluded_features_columns, axis=1, inplace=True)"
   ]
  },
  {
   "cell_type": "code",
   "execution_count": 27,
   "id": "3037356e",
   "metadata": {
    "execution": {
     "iopub.execute_input": "2025-08-19T18:28:31.161065Z",
     "iopub.status.busy": "2025-08-19T18:28:31.160177Z",
     "iopub.status.idle": "2025-08-19T18:28:31.167014Z",
     "shell.execute_reply": "2025-08-19T18:28:31.165838Z"
    },
    "papermill": {
     "duration": 0.023145,
     "end_time": "2025-08-19T18:28:31.169840",
     "exception": false,
     "start_time": "2025-08-19T18:28:31.146695",
     "status": "completed"
    },
    "tags": []
   },
   "outputs": [],
   "source": [
    "# EXCLUDE CERTAIN SUBGROUPS\n",
    "# -------------------------\n",
    "\n",
    "mode = universe.get(\"exclude_subgroups\", \"keep-all\") # Defaults to \"keep-all\" if the key is missing."
   ]
  },
  {
   "cell_type": "code",
   "execution_count": 28,
   "id": "9d1e63fd",
   "metadata": {
    "execution": {
     "iopub.execute_input": "2025-08-19T18:28:31.208809Z",
     "iopub.status.busy": "2025-08-19T18:28:31.207415Z",
     "iopub.status.idle": "2025-08-19T18:28:31.219977Z",
     "shell.execute_reply": "2025-08-19T18:28:31.218319Z"
    },
    "papermill": {
     "duration": 0.029902,
     "end_time": "2025-08-19T18:28:31.222242",
     "exception": false,
     "start_time": "2025-08-19T18:28:31.192340",
     "status": "completed"
    },
    "tags": []
   },
   "outputs": [],
   "source": [
    "if mode == \"keep-all\":\n",
    "    keep_mask = pd.Series(True, index=org_train.index)\n",
    "\n",
    "elif mode == \"drop-non-german\":\n",
    "    keep_mask = (org_train[\"maxdeutsch1\"] == 1) & (org_train[\"maxdeutsch.Missing.\"] == 0)\n",
    "\n",
    "else:\n",
    "    raise ValueError(f\"Unsupported mode for exclude_subgroups: {mode}\")"
   ]
  },
  {
   "cell_type": "code",
   "execution_count": 29,
   "id": "d3b65474",
   "metadata": {
    "execution": {
     "iopub.execute_input": "2025-08-19T18:28:31.251789Z",
     "iopub.status.busy": "2025-08-19T18:28:31.250610Z",
     "iopub.status.idle": "2025-08-19T18:28:31.262458Z",
     "shell.execute_reply": "2025-08-19T18:28:31.260819Z"
    },
    "papermill": {
     "duration": 0.02616,
     "end_time": "2025-08-19T18:28:31.264151",
     "exception": false,
     "start_time": "2025-08-19T18:28:31.237991",
     "status": "completed"
    },
    "tags": []
   },
   "outputs": [
    {
     "name": "stdout",
     "output_type": "stream",
     "text": [
      "Dropping 741 rows (14.82%) where mode='drop-non-german'\n"
     ]
    }
   ],
   "source": [
    "n_drop = (~keep_mask).sum() # Calculates how many rows are set to be dropped\n",
    "if n_drop > 0:\n",
    "    pct = n_drop / len(keep_mask) * 100\n",
    "    print(f\"Dropping {n_drop} rows ({pct:.2f}%) where mode='{mode}'\")"
   ]
  },
  {
   "cell_type": "code",
   "execution_count": 30,
   "id": "f44389b3",
   "metadata": {
    "execution": {
     "iopub.execute_input": "2025-08-19T18:28:31.311216Z",
     "iopub.status.busy": "2025-08-19T18:28:31.310172Z",
     "iopub.status.idle": "2025-08-19T18:28:31.326564Z",
     "shell.execute_reply": "2025-08-19T18:28:31.325463Z"
    },
    "papermill": {
     "duration": 0.048139,
     "end_time": "2025-08-19T18:28:31.329812",
     "exception": false,
     "start_time": "2025-08-19T18:28:31.281673",
     "status": "completed"
    },
    "tags": []
   },
   "outputs": [],
   "source": [
    "X_train = X_train[keep_mask]"
   ]
  },
  {
   "cell_type": "code",
   "execution_count": 31,
   "id": "ceca8c2a",
   "metadata": {
    "execution": {
     "iopub.execute_input": "2025-08-19T18:28:31.373395Z",
     "iopub.status.busy": "2025-08-19T18:28:31.366818Z",
     "iopub.status.idle": "2025-08-19T18:28:31.378644Z",
     "shell.execute_reply": "2025-08-19T18:28:31.377849Z"
    },
    "papermill": {
     "duration": 0.027212,
     "end_time": "2025-08-19T18:28:31.381187",
     "exception": false,
     "start_time": "2025-08-19T18:28:31.353975",
     "status": "completed"
    },
    "tags": []
   },
   "outputs": [],
   "source": [
    "y_train = y_train[keep_mask]"
   ]
  },
  {
   "cell_type": "markdown",
   "id": "04d31e2f",
   "metadata": {
    "papermill": {
     "duration": 0.017499,
     "end_time": "2025-08-19T18:28:31.415470",
     "exception": false,
     "start_time": "2025-08-19T18:28:31.397971",
     "status": "completed"
    },
    "tags": []
   },
   "source": [
    "# Model Training"
   ]
  },
  {
   "cell_type": "code",
   "execution_count": 32,
   "id": "db991733",
   "metadata": {
    "execution": {
     "iopub.execute_input": "2025-08-19T18:28:31.453825Z",
     "iopub.status.busy": "2025-08-19T18:28:31.453417Z",
     "iopub.status.idle": "2025-08-19T18:28:31.549464Z",
     "shell.execute_reply": "2025-08-19T18:28:31.548623Z"
    },
    "papermill": {
     "duration": 0.112785,
     "end_time": "2025-08-19T18:28:31.552321",
     "exception": false,
     "start_time": "2025-08-19T18:28:31.439536",
     "status": "completed"
    },
    "tags": []
   },
   "outputs": [],
   "source": [
    "from sklearn.linear_model import LogisticRegression\n",
    "from sklearn.ensemble import GradientBoostingClassifier, RandomForestClassifier\n",
    "\n",
    "if (universe[\"model\"] == \"logreg\"):\n",
    "    model = LogisticRegression() #penalty=\"none\", solver=\"newton-cg\", max_iter=1)\n",
    "elif (universe[\"model\"] == \"penalized_logreg\"):\n",
    "    model = LogisticRegression(penalty=\"l2\", C=0.1) #, solver=\"newton-cg\", max_iter=1)\n",
    "elif (universe[\"model\"] == \"rf\"):\n",
    "    model = RandomForestClassifier() # n_estimators=100, n_jobs=-1\n",
    "elif (universe[\"model\"] == \"gbm\"):\n",
    "    model = GradientBoostingClassifier()\n",
    "elif (universe[\"model\"] == \"elasticnet\"):\n",
    "    model = LogisticRegression(penalty = 'elasticnet', solver = 'saga', l1_ratio = 0.5) # max_iter=5000\n",
    "else:\n",
    "    raise \"Unsupported universe.model\""
   ]
  },
  {
   "cell_type": "code",
   "execution_count": 33,
   "id": "a4b5cd25",
   "metadata": {
    "execution": {
     "iopub.execute_input": "2025-08-19T18:28:31.592189Z",
     "iopub.status.busy": "2025-08-19T18:28:31.590961Z",
     "iopub.status.idle": "2025-08-19T18:28:31.600115Z",
     "shell.execute_reply": "2025-08-19T18:28:31.598861Z"
    },
    "papermill": {
     "duration": 0.025368,
     "end_time": "2025-08-19T18:28:31.601746",
     "exception": false,
     "start_time": "2025-08-19T18:28:31.576378",
     "status": "completed"
    },
    "tags": []
   },
   "outputs": [],
   "source": [
    "from sklearn.pipeline import Pipeline\n",
    "from sklearn.preprocessing import StandardScaler\n",
    "\n",
    "model = Pipeline([\n",
    "    #(\"continuous_processor\", continuous_processor),\n",
    "    #(\"categorical_preprocessor\", categorical_preprocessor),\n",
    "    (\"scale\", StandardScaler() if universe[\"scale\"] == \"scale\" else None), \n",
    "    (\"model\", model),\n",
    "])"
   ]
  },
  {
   "cell_type": "code",
   "execution_count": 34,
   "id": "283a904d",
   "metadata": {
    "execution": {
     "iopub.execute_input": "2025-08-19T18:28:31.633854Z",
     "iopub.status.busy": "2025-08-19T18:28:31.632785Z",
     "iopub.status.idle": "2025-08-19T18:28:31.792776Z",
     "shell.execute_reply": "2025-08-19T18:28:31.791825Z"
    },
    "papermill": {
     "duration": 0.178126,
     "end_time": "2025-08-19T18:28:31.793979",
     "exception": false,
     "start_time": "2025-08-19T18:28:31.615853",
     "status": "completed"
    },
    "tags": []
   },
   "outputs": [
    {
     "name": "stderr",
     "output_type": "stream",
     "text": [
      "/dss/dsshome1/0C/ra93lal2/.local/share/virtualenvs/CMA_Fairness_v2-3j10GkSs/lib/python3.10/site-packages/sklearn/linear_model/_logistic.py:444: ConvergenceWarning: lbfgs failed to converge (status=1):\n",
      "STOP: TOTAL NO. of ITERATIONS REACHED LIMIT.\n",
      "\n",
      "Increase the number of iterations (max_iter) or scale the data as shown in:\n",
      "    https://scikit-learn.org/stable/modules/preprocessing.html\n",
      "Please also refer to the documentation for alternative solver options:\n",
      "    https://scikit-learn.org/stable/modules/linear_model.html#logistic-regression\n",
      "  n_iter_i = _check_optimize_result(\n"
     ]
    },
    {
     "data": {
      "text/html": [
       "<style>#sk-container-id-1 {color: black;background-color: white;}#sk-container-id-1 pre{padding: 0;}#sk-container-id-1 div.sk-toggleable {background-color: white;}#sk-container-id-1 label.sk-toggleable__label {cursor: pointer;display: block;width: 100%;margin-bottom: 0;padding: 0.3em;box-sizing: border-box;text-align: center;}#sk-container-id-1 label.sk-toggleable__label-arrow:before {content: \"▸\";float: left;margin-right: 0.25em;color: #696969;}#sk-container-id-1 label.sk-toggleable__label-arrow:hover:before {color: black;}#sk-container-id-1 div.sk-estimator:hover label.sk-toggleable__label-arrow:before {color: black;}#sk-container-id-1 div.sk-toggleable__content {max-height: 0;max-width: 0;overflow: hidden;text-align: left;background-color: #f0f8ff;}#sk-container-id-1 div.sk-toggleable__content pre {margin: 0.2em;color: black;border-radius: 0.25em;background-color: #f0f8ff;}#sk-container-id-1 input.sk-toggleable__control:checked~div.sk-toggleable__content {max-height: 200px;max-width: 100%;overflow: auto;}#sk-container-id-1 input.sk-toggleable__control:checked~label.sk-toggleable__label-arrow:before {content: \"▾\";}#sk-container-id-1 div.sk-estimator input.sk-toggleable__control:checked~label.sk-toggleable__label {background-color: #d4ebff;}#sk-container-id-1 div.sk-label input.sk-toggleable__control:checked~label.sk-toggleable__label {background-color: #d4ebff;}#sk-container-id-1 input.sk-hidden--visually {border: 0;clip: rect(1px 1px 1px 1px);clip: rect(1px, 1px, 1px, 1px);height: 1px;margin: -1px;overflow: hidden;padding: 0;position: absolute;width: 1px;}#sk-container-id-1 div.sk-estimator {font-family: monospace;background-color: #f0f8ff;border: 1px dotted black;border-radius: 0.25em;box-sizing: border-box;margin-bottom: 0.5em;}#sk-container-id-1 div.sk-estimator:hover {background-color: #d4ebff;}#sk-container-id-1 div.sk-parallel-item::after {content: \"\";width: 100%;border-bottom: 1px solid gray;flex-grow: 1;}#sk-container-id-1 div.sk-label:hover label.sk-toggleable__label {background-color: #d4ebff;}#sk-container-id-1 div.sk-serial::before {content: \"\";position: absolute;border-left: 1px solid gray;box-sizing: border-box;top: 0;bottom: 0;left: 50%;z-index: 0;}#sk-container-id-1 div.sk-serial {display: flex;flex-direction: column;align-items: center;background-color: white;padding-right: 0.2em;padding-left: 0.2em;position: relative;}#sk-container-id-1 div.sk-item {position: relative;z-index: 1;}#sk-container-id-1 div.sk-parallel {display: flex;align-items: stretch;justify-content: center;background-color: white;position: relative;}#sk-container-id-1 div.sk-item::before, #sk-container-id-1 div.sk-parallel-item::before {content: \"\";position: absolute;border-left: 1px solid gray;box-sizing: border-box;top: 0;bottom: 0;left: 50%;z-index: -1;}#sk-container-id-1 div.sk-parallel-item {display: flex;flex-direction: column;z-index: 1;position: relative;background-color: white;}#sk-container-id-1 div.sk-parallel-item:first-child::after {align-self: flex-end;width: 50%;}#sk-container-id-1 div.sk-parallel-item:last-child::after {align-self: flex-start;width: 50%;}#sk-container-id-1 div.sk-parallel-item:only-child::after {width: 0;}#sk-container-id-1 div.sk-dashed-wrapped {border: 1px dashed gray;margin: 0 0.4em 0.5em 0.4em;box-sizing: border-box;padding-bottom: 0.4em;background-color: white;}#sk-container-id-1 div.sk-label label {font-family: monospace;font-weight: bold;display: inline-block;line-height: 1.2em;}#sk-container-id-1 div.sk-label-container {text-align: center;}#sk-container-id-1 div.sk-container {/* jupyter's `normalize.less` sets `[hidden] { display: none; }` but bootstrap.min.css set `[hidden] { display: none !important; }` so we also need the `!important` here to be able to override the default hidden behavior on the sphinx rendered scikit-learn.org. See: https://github.com/scikit-learn/scikit-learn/issues/21755 */display: inline-block !important;position: relative;}#sk-container-id-1 div.sk-text-repr-fallback {display: none;}</style><div id=\"sk-container-id-1\" class=\"sk-top-container\"><div class=\"sk-text-repr-fallback\"><pre>Pipeline(steps=[(&#x27;scale&#x27;, None), (&#x27;model&#x27;, LogisticRegression(C=0.1))])</pre><b>In a Jupyter environment, please rerun this cell to show the HTML representation or trust the notebook. <br />On GitHub, the HTML representation is unable to render, please try loading this page with nbviewer.org.</b></div><div class=\"sk-container\" hidden><div class=\"sk-item sk-dashed-wrapped\"><div class=\"sk-label-container\"><div class=\"sk-label sk-toggleable\"><input class=\"sk-toggleable__control sk-hidden--visually\" id=\"sk-estimator-id-1\" type=\"checkbox\" ><label for=\"sk-estimator-id-1\" class=\"sk-toggleable__label sk-toggleable__label-arrow\">Pipeline</label><div class=\"sk-toggleable__content\"><pre>Pipeline(steps=[(&#x27;scale&#x27;, None), (&#x27;model&#x27;, LogisticRegression(C=0.1))])</pre></div></div></div><div class=\"sk-serial\"><div class=\"sk-item\"><div class=\"sk-estimator sk-toggleable\"><input class=\"sk-toggleable__control sk-hidden--visually\" id=\"sk-estimator-id-2\" type=\"checkbox\" ><label for=\"sk-estimator-id-2\" class=\"sk-toggleable__label sk-toggleable__label-arrow\">None</label><div class=\"sk-toggleable__content\"><pre>None</pre></div></div></div><div class=\"sk-item\"><div class=\"sk-estimator sk-toggleable\"><input class=\"sk-toggleable__control sk-hidden--visually\" id=\"sk-estimator-id-3\" type=\"checkbox\" ><label for=\"sk-estimator-id-3\" class=\"sk-toggleable__label sk-toggleable__label-arrow\">LogisticRegression</label><div class=\"sk-toggleable__content\"><pre>LogisticRegression(C=0.1)</pre></div></div></div></div></div></div></div>"
      ],
      "text/plain": [
       "Pipeline(steps=[('scale', None), ('model', LogisticRegression(C=0.1))])"
      ]
     },
     "execution_count": 34,
     "metadata": {},
     "output_type": "execute_result"
    }
   ],
   "source": [
    "model.fit(X_train, y_train.values.ravel())"
   ]
  },
  {
   "cell_type": "code",
   "execution_count": 35,
   "id": "6e15e313",
   "metadata": {
    "execution": {
     "iopub.execute_input": "2025-08-19T18:28:31.871371Z",
     "iopub.status.busy": "2025-08-19T18:28:31.870284Z",
     "iopub.status.idle": "2025-08-19T18:28:31.981166Z",
     "shell.execute_reply": "2025-08-19T18:28:31.980369Z"
    },
    "papermill": {
     "duration": 0.157601,
     "end_time": "2025-08-19T18:28:31.982457",
     "exception": false,
     "start_time": "2025-08-19T18:28:31.824856",
     "status": "completed"
    },
    "tags": []
   },
   "outputs": [
    {
     "data": {
      "text/plain": [
       "0.8564597034890202"
      ]
     },
     "execution_count": 35,
     "metadata": {},
     "output_type": "execute_result"
    }
   ],
   "source": [
    "from fairness_multiverse.universe import predict_w_threshold\n",
    "\n",
    "probs_test = model.predict_proba(X_test)\n",
    "\n",
    "'''\n",
    "Below code returns a boolean array (or binary 0/1 array depending on how it’s used) where each element \n",
    "is True if the probability of class 1 is greater than or equal to the threshold, and False otherwise.\n",
    "'''\n",
    "y_pred_default = predict_w_threshold(probs_test, 0.5)\n",
    "\n",
    "from sklearn.metrics import accuracy_score\n",
    "\n",
    "# Naive prediction\n",
    "accuracy_score(y_true = y_true, y_pred = y_pred_default)"
   ]
  },
  {
   "cell_type": "code",
   "execution_count": 36,
   "id": "6f14067c",
   "metadata": {
    "execution": {
     "iopub.execute_input": "2025-08-19T18:28:32.008525Z",
     "iopub.status.busy": "2025-08-19T18:28:32.007232Z",
     "iopub.status.idle": "2025-08-19T18:28:32.122586Z",
     "shell.execute_reply": "2025-08-19T18:28:32.121814Z"
    },
    "papermill": {
     "duration": 0.12953,
     "end_time": "2025-08-19T18:28:32.124218",
     "exception": false,
     "start_time": "2025-08-19T18:28:31.994688",
     "status": "completed"
    },
    "tags": []
   },
   "outputs": [
    {
     "data": {
      "text/plain": [
       "array([0, 0, 0, ..., 0, 0, 0])"
      ]
     },
     "execution_count": 36,
     "metadata": {},
     "output_type": "execute_result"
    }
   ],
   "source": [
    "model.predict(X_test)"
   ]
  },
  {
   "cell_type": "markdown",
   "id": "3759920c",
   "metadata": {
    "papermill": {
     "duration": 0.011455,
     "end_time": "2025-08-19T18:28:32.147954",
     "exception": false,
     "start_time": "2025-08-19T18:28:32.136499",
     "status": "completed"
    },
    "tags": []
   },
   "source": [
    "# Conformal Prediction"
   ]
  },
  {
   "cell_type": "code",
   "execution_count": 37,
   "id": "14b27f59",
   "metadata": {
    "execution": {
     "iopub.execute_input": "2025-08-19T18:28:32.174225Z",
     "iopub.status.busy": "2025-08-19T18:28:32.173061Z",
     "iopub.status.idle": "2025-08-19T18:28:32.180140Z",
     "shell.execute_reply": "2025-08-19T18:28:32.178892Z"
    },
    "papermill": {
     "duration": 0.022285,
     "end_time": "2025-08-19T18:28:32.181707",
     "exception": false,
     "start_time": "2025-08-19T18:28:32.159422",
     "status": "completed"
    },
    "tags": []
   },
   "outputs": [],
   "source": [
    "# Miscoverage level for conformal prediction (10% allowed error rate => 90% target coverage)\n",
    "alpha = 0.1"
   ]
  },
  {
   "cell_type": "code",
   "execution_count": 38,
   "id": "59102472",
   "metadata": {
    "execution": {
     "iopub.execute_input": "2025-08-19T18:28:32.212929Z",
     "iopub.status.busy": "2025-08-19T18:28:32.208109Z",
     "iopub.status.idle": "2025-08-19T18:28:32.294844Z",
     "shell.execute_reply": "2025-08-19T18:28:32.294049Z"
    },
    "papermill": {
     "duration": 0.102826,
     "end_time": "2025-08-19T18:28:32.297231",
     "exception": false,
     "start_time": "2025-08-19T18:28:32.194405",
     "status": "completed"
    },
    "tags": []
   },
   "outputs": [],
   "source": [
    "probs_calib = model.predict_proba(X_calib)"
   ]
  },
  {
   "cell_type": "code",
   "execution_count": 39,
   "id": "a792d4dd",
   "metadata": {
    "execution": {
     "iopub.execute_input": "2025-08-19T18:28:32.363840Z",
     "iopub.status.busy": "2025-08-19T18:28:32.363112Z",
     "iopub.status.idle": "2025-08-19T18:28:32.371747Z",
     "shell.execute_reply": "2025-08-19T18:28:32.370448Z"
    },
    "papermill": {
     "duration": 0.040239,
     "end_time": "2025-08-19T18:28:32.373360",
     "exception": false,
     "start_time": "2025-08-19T18:28:32.333121",
     "status": "completed"
    },
    "tags": []
   },
   "outputs": [],
   "source": [
    "y_calib = y_calib.values.ravel().astype(int)"
   ]
  },
  {
   "cell_type": "code",
   "execution_count": 40,
   "id": "650fd033",
   "metadata": {
    "execution": {
     "iopub.execute_input": "2025-08-19T18:28:32.419284Z",
     "iopub.status.busy": "2025-08-19T18:28:32.418561Z",
     "iopub.status.idle": "2025-08-19T18:28:32.430120Z",
     "shell.execute_reply": "2025-08-19T18:28:32.428977Z"
    },
    "papermill": {
     "duration": 0.029607,
     "end_time": "2025-08-19T18:28:32.431753",
     "exception": false,
     "start_time": "2025-08-19T18:28:32.402146",
     "status": "completed"
    },
    "tags": []
   },
   "outputs": [],
   "source": [
    "from fairness_multiverse.conformal import compute_nc_scores\n",
    "\n",
    "# Compute nonconformity scores on calibration set (1 - probability of true class)\n",
    "nc_scores = compute_nc_scores(probs_calib, y_calib)"
   ]
  },
  {
   "cell_type": "code",
   "execution_count": 41,
   "id": "28ada44c",
   "metadata": {
    "execution": {
     "iopub.execute_input": "2025-08-19T18:28:32.461475Z",
     "iopub.status.busy": "2025-08-19T18:28:32.460795Z",
     "iopub.status.idle": "2025-08-19T18:28:32.472004Z",
     "shell.execute_reply": "2025-08-19T18:28:32.470477Z"
    },
    "papermill": {
     "duration": 0.027059,
     "end_time": "2025-08-19T18:28:32.473634",
     "exception": false,
     "start_time": "2025-08-19T18:28:32.446575",
     "status": "completed"
    },
    "tags": []
   },
   "outputs": [],
   "source": [
    "from fairness_multiverse.conformal import find_threshold\n",
    "\n",
    "# Find conformal threshold q_hat for the given alpha (split conformal method)\n",
    "q_hat = find_threshold(nc_scores, alpha)"
   ]
  },
  {
   "cell_type": "code",
   "execution_count": 42,
   "id": "df56469e",
   "metadata": {
    "execution": {
     "iopub.execute_input": "2025-08-19T18:28:32.504148Z",
     "iopub.status.busy": "2025-08-19T18:28:32.503460Z",
     "iopub.status.idle": "2025-08-19T18:28:32.513906Z",
     "shell.execute_reply": "2025-08-19T18:28:32.512639Z"
    },
    "papermill": {
     "duration": 0.026261,
     "end_time": "2025-08-19T18:28:32.515660",
     "exception": false,
     "start_time": "2025-08-19T18:28:32.489399",
     "status": "completed"
    },
    "tags": []
   },
   "outputs": [
    {
     "data": {
      "text/plain": [
       "0.6435922414588087"
      ]
     },
     "execution_count": 42,
     "metadata": {},
     "output_type": "execute_result"
    }
   ],
   "source": [
    "q_hat"
   ]
  },
  {
   "cell_type": "code",
   "execution_count": 43,
   "id": "aa1f5faa",
   "metadata": {
    "execution": {
     "iopub.execute_input": "2025-08-19T18:28:32.546917Z",
     "iopub.status.busy": "2025-08-19T18:28:32.546228Z",
     "iopub.status.idle": "2025-08-19T18:28:33.052424Z",
     "shell.execute_reply": "2025-08-19T18:28:33.051645Z"
    },
    "papermill": {
     "duration": 0.523392,
     "end_time": "2025-08-19T18:28:33.055493",
     "exception": false,
     "start_time": "2025-08-19T18:28:32.532101",
     "status": "completed"
    },
    "tags": []
   },
   "outputs": [],
   "source": [
    "from fairness_multiverse.conformal import predict_conformal_sets\n",
    "\n",
    "# Generate prediction sets for each test example\n",
    "pred_sets = predict_conformal_sets(model, X_test, q_hat)"
   ]
  },
  {
   "cell_type": "code",
   "execution_count": 44,
   "id": "97f67a6b",
   "metadata": {
    "execution": {
     "iopub.execute_input": "2025-08-19T18:28:33.114865Z",
     "iopub.status.busy": "2025-08-19T18:28:33.114168Z",
     "iopub.status.idle": "2025-08-19T18:28:33.121785Z",
     "shell.execute_reply": "2025-08-19T18:28:33.120241Z"
    },
    "papermill": {
     "duration": 0.04169,
     "end_time": "2025-08-19T18:28:33.124292",
     "exception": false,
     "start_time": "2025-08-19T18:28:33.082602",
     "status": "completed"
    },
    "tags": []
   },
   "outputs": [],
   "source": [
    "y_true = y_true.squeeze()"
   ]
  },
  {
   "cell_type": "code",
   "execution_count": 45,
   "id": "e700e9a7",
   "metadata": {
    "execution": {
     "iopub.execute_input": "2025-08-19T18:28:33.172675Z",
     "iopub.status.busy": "2025-08-19T18:28:33.171921Z",
     "iopub.status.idle": "2025-08-19T18:28:33.654103Z",
     "shell.execute_reply": "2025-08-19T18:28:33.653389Z"
    },
    "papermill": {
     "duration": 0.500017,
     "end_time": "2025-08-19T18:28:33.655573",
     "exception": false,
     "start_time": "2025-08-19T18:28:33.155556",
     "status": "completed"
    },
    "tags": []
   },
   "outputs": [],
   "source": [
    "from fairness_multiverse.conformal import evaluate_sets\n",
    "\n",
    "# Evaluate coverage and average set size on test data\n",
    "metrics = evaluate_sets(pred_sets, y_true)"
   ]
  },
  {
   "cell_type": "markdown",
   "id": "efbacec0",
   "metadata": {
    "papermill": {
     "duration": 0.018608,
     "end_time": "2025-08-19T18:28:33.700172",
     "exception": false,
     "start_time": "2025-08-19T18:28:33.681564",
     "status": "completed"
    },
    "tags": []
   },
   "source": [
    "# CP Metrics"
   ]
  },
  {
   "cell_type": "code",
   "execution_count": 46,
   "id": "9de55fb1",
   "metadata": {
    "execution": {
     "iopub.execute_input": "2025-08-19T18:28:33.732948Z",
     "iopub.status.busy": "2025-08-19T18:28:33.732136Z",
     "iopub.status.idle": "2025-08-19T18:28:33.741522Z",
     "shell.execute_reply": "2025-08-19T18:28:33.740377Z"
    },
    "papermill": {
     "duration": 0.030501,
     "end_time": "2025-08-19T18:28:33.743000",
     "exception": false,
     "start_time": "2025-08-19T18:28:33.712499",
     "status": "completed"
    },
    "tags": []
   },
   "outputs": [
    {
     "data": {
      "text/plain": [
       "{'coverage': 0.911470293166871, 'avg_size': 1.250273102218259}"
      ]
     },
     "execution_count": 46,
     "metadata": {},
     "output_type": "execute_result"
    }
   ],
   "source": [
    "metrics"
   ]
  },
  {
   "cell_type": "code",
   "execution_count": 47,
   "id": "64c340a1",
   "metadata": {
    "execution": {
     "iopub.execute_input": "2025-08-19T18:28:33.805087Z",
     "iopub.status.busy": "2025-08-19T18:28:33.804786Z",
     "iopub.status.idle": "2025-08-19T18:28:33.809818Z",
     "shell.execute_reply": "2025-08-19T18:28:33.809116Z"
    },
    "papermill": {
     "duration": 0.030601,
     "end_time": "2025-08-19T18:28:33.811367",
     "exception": false,
     "start_time": "2025-08-19T18:28:33.780766",
     "status": "completed"
    },
    "tags": []
   },
   "outputs": [],
   "source": [
    "example_universe = universe.copy()\n",
    "universe_training_year = example_universe.get(\"training_year\")\n",
    "universe_training_size = example_universe.get(\"training_size\")\n",
    "universe_scale = example_universe.get(\"scale\")\n",
    "universe_model = example_universe.get(\"model\")\n",
    "universe_exclude_features = example_universe.get(\"exclude_features\")\n",
    "universe_exclude_subgroups = example_universe.get(\"exclude_subgroups\")"
   ]
  },
  {
   "cell_type": "code",
   "execution_count": 48,
   "id": "dbb53cb4",
   "metadata": {
    "execution": {
     "iopub.execute_input": "2025-08-19T18:28:33.837084Z",
     "iopub.status.busy": "2025-08-19T18:28:33.836787Z",
     "iopub.status.idle": "2025-08-19T18:28:33.841686Z",
     "shell.execute_reply": "2025-08-19T18:28:33.841021Z"
    },
    "papermill": {
     "duration": 0.021599,
     "end_time": "2025-08-19T18:28:33.845393",
     "exception": false,
     "start_time": "2025-08-19T18:28:33.823794",
     "status": "completed"
    },
    "tags": []
   },
   "outputs": [],
   "source": [
    "cp_metrics_dict = {\n",
    "    \"universe_id\": [universe_id],\n",
    "    \"universe_training_year\": [universe_training_year],\n",
    "    \"universe_training_size\": [universe_training_size],\n",
    "    \"universe_scale\": [universe_scale],\n",
    "    \"universe_model\": [universe_model],\n",
    "    \"universe_exclude_features\": [universe_exclude_features],\n",
    "    \"universe_exclude_subgroups\": [universe_exclude_subgroups],\n",
    "    \"q_hat\": [q_hat],\n",
    "    \"coverage\": [metrics[\"coverage\"]],\n",
    "    \"avg_size\": [metrics[\"avg_size\"]],\n",
    "}"
   ]
  },
  {
   "cell_type": "code",
   "execution_count": 49,
   "id": "0d70d4b2",
   "metadata": {
    "execution": {
     "iopub.execute_input": "2025-08-19T18:28:33.887244Z",
     "iopub.status.busy": "2025-08-19T18:28:33.886515Z",
     "iopub.status.idle": "2025-08-19T18:28:33.895651Z",
     "shell.execute_reply": "2025-08-19T18:28:33.894455Z"
    },
    "papermill": {
     "duration": 0.02617,
     "end_time": "2025-08-19T18:28:33.897829",
     "exception": false,
     "start_time": "2025-08-19T18:28:33.871659",
     "status": "completed"
    },
    "tags": []
   },
   "outputs": [],
   "source": [
    "cp_metrics_df = pd.DataFrame(cp_metrics_dict)"
   ]
  },
  {
   "cell_type": "code",
   "execution_count": 50,
   "id": "b494403c",
   "metadata": {
    "execution": {
     "iopub.execute_input": "2025-08-19T18:28:33.929256Z",
     "iopub.status.busy": "2025-08-19T18:28:33.928565Z",
     "iopub.status.idle": "2025-08-19T18:28:33.951214Z",
     "shell.execute_reply": "2025-08-19T18:28:33.950227Z"
    },
    "papermill": {
     "duration": 0.04171,
     "end_time": "2025-08-19T18:28:33.956084",
     "exception": false,
     "start_time": "2025-08-19T18:28:33.914374",
     "status": "completed"
    },
    "tags": []
   },
   "outputs": [
    {
     "data": {
      "text/html": [
       "<div>\n",
       "<style scoped>\n",
       "    .dataframe tbody tr th:only-of-type {\n",
       "        vertical-align: middle;\n",
       "    }\n",
       "\n",
       "    .dataframe tbody tr th {\n",
       "        vertical-align: top;\n",
       "    }\n",
       "\n",
       "    .dataframe thead th {\n",
       "        text-align: right;\n",
       "    }\n",
       "</style>\n",
       "<table border=\"1\" class=\"dataframe\">\n",
       "  <thead>\n",
       "    <tr style=\"text-align: right;\">\n",
       "      <th></th>\n",
       "      <th>universe_id</th>\n",
       "      <th>universe_training_year</th>\n",
       "      <th>universe_training_size</th>\n",
       "      <th>universe_scale</th>\n",
       "      <th>universe_model</th>\n",
       "      <th>universe_exclude_features</th>\n",
       "      <th>universe_exclude_subgroups</th>\n",
       "      <th>q_hat</th>\n",
       "      <th>coverage</th>\n",
       "      <th>avg_size</th>\n",
       "    </tr>\n",
       "  </thead>\n",
       "  <tbody>\n",
       "    <tr>\n",
       "      <th>0</th>\n",
       "      <td>618fd0b409db2edf558dea2a7809e3c4</td>\n",
       "      <td>2014</td>\n",
       "      <td>5k</td>\n",
       "      <td>do-not-scale</td>\n",
       "      <td>penalized_logreg</td>\n",
       "      <td>age</td>\n",
       "      <td>drop-non-german</td>\n",
       "      <td>0.643592</td>\n",
       "      <td>0.91147</td>\n",
       "      <td>1.250273</td>\n",
       "    </tr>\n",
       "  </tbody>\n",
       "</table>\n",
       "</div>"
      ],
      "text/plain": [
       "                        universe_id universe_training_year  \\\n",
       "0  618fd0b409db2edf558dea2a7809e3c4                   2014   \n",
       "\n",
       "  universe_training_size universe_scale    universe_model  \\\n",
       "0                     5k   do-not-scale  penalized_logreg   \n",
       "\n",
       "  universe_exclude_features universe_exclude_subgroups     q_hat  coverage  \\\n",
       "0                       age            drop-non-german  0.643592   0.91147   \n",
       "\n",
       "   avg_size  \n",
       "0  1.250273  "
      ]
     },
     "execution_count": 50,
     "metadata": {},
     "output_type": "execute_result"
    }
   ],
   "source": [
    "cp_metrics_df"
   ]
  },
  {
   "cell_type": "markdown",
   "id": "ed608b0b",
   "metadata": {
    "papermill": {
     "duration": 0.012499,
     "end_time": "2025-08-19T18:28:33.990379",
     "exception": false,
     "start_time": "2025-08-19T18:28:33.977880",
     "status": "completed"
    },
    "tags": []
   },
   "source": [
    "Conditional coverage & looking at subgroups"
   ]
  },
  {
   "cell_type": "code",
   "execution_count": 51,
   "id": "8968c366",
   "metadata": {
    "execution": {
     "iopub.execute_input": "2025-08-19T18:28:34.018239Z",
     "iopub.status.busy": "2025-08-19T18:28:34.017539Z",
     "iopub.status.idle": "2025-08-19T18:28:34.250724Z",
     "shell.execute_reply": "2025-08-19T18:28:34.249953Z"
    },
    "papermill": {
     "duration": 0.250717,
     "end_time": "2025-08-19T18:28:34.253677",
     "exception": false,
     "start_time": "2025-08-19T18:28:34.002960",
     "status": "completed"
    },
    "tags": []
   },
   "outputs": [],
   "source": [
    "from fairness_multiverse.conformal import build_cp_groups\n",
    "\n",
    "cp_groups_df = build_cp_groups(pred_sets, y_true, X_test.index, org_test)"
   ]
  },
  {
   "cell_type": "code",
   "execution_count": 52,
   "id": "292ddabf",
   "metadata": {
    "execution": {
     "iopub.execute_input": "2025-08-19T18:28:34.299089Z",
     "iopub.status.busy": "2025-08-19T18:28:34.298394Z",
     "iopub.status.idle": "2025-08-19T18:28:35.143902Z",
     "shell.execute_reply": "2025-08-19T18:28:35.143145Z"
    },
    "papermill": {
     "duration": 0.86508,
     "end_time": "2025-08-19T18:28:35.147311",
     "exception": false,
     "start_time": "2025-08-19T18:28:34.282231",
     "status": "completed"
    },
    "tags": []
   },
   "outputs": [],
   "source": [
    "# Define covered = 1 if true_label is in the predicted set\n",
    "cp_groups_df['covered'] = cp_groups_df.apply(\n",
    "    lambda r: int(r['true_label'] in r['pred_set']),\n",
    "    axis=1\n",
    ")"
   ]
  },
  {
   "cell_type": "code",
   "execution_count": 53,
   "id": "3a261692",
   "metadata": {
    "execution": {
     "iopub.execute_input": "2025-08-19T18:28:35.193387Z",
     "iopub.status.busy": "2025-08-19T18:28:35.192974Z",
     "iopub.status.idle": "2025-08-19T18:28:35.217610Z",
     "shell.execute_reply": "2025-08-19T18:28:35.216643Z"
    },
    "papermill": {
     "duration": 0.046336,
     "end_time": "2025-08-19T18:28:35.220283",
     "exception": false,
     "start_time": "2025-08-19T18:28:35.173947",
     "status": "completed"
    },
    "tags": []
   },
   "outputs": [],
   "source": [
    "subgroups = ['frau1','nongerman','nongerman_male','nongerman_female']\n",
    "\n",
    "# Conditional coverage for subgroup==1\n",
    "cond_coverage = {\n",
    "    g: cp_groups_df.loc[cp_groups_df[g]==1, 'covered'].mean()\n",
    "    for g in subgroups\n",
    "}"
   ]
  },
  {
   "cell_type": "code",
   "execution_count": 54,
   "id": "894fd600",
   "metadata": {
    "execution": {
     "iopub.execute_input": "2025-08-19T18:28:35.276641Z",
     "iopub.status.busy": "2025-08-19T18:28:35.275390Z",
     "iopub.status.idle": "2025-08-19T18:28:35.283352Z",
     "shell.execute_reply": "2025-08-19T18:28:35.282363Z"
    },
    "papermill": {
     "duration": 0.027823,
     "end_time": "2025-08-19T18:28:35.285844",
     "exception": false,
     "start_time": "2025-08-19T18:28:35.258021",
     "status": "completed"
    },
    "tags": []
   },
   "outputs": [
    {
     "data": {
      "text/plain": [
       "{'frau1': 0.9099069955519612,\n",
       " 'nongerman': 0.9586818615617807,\n",
       " 'nongerman_male': 0.9665856074934702,\n",
       " 'nongerman_female': 0.9456035767511177}"
      ]
     },
     "execution_count": 54,
     "metadata": {},
     "output_type": "execute_result"
    }
   ],
   "source": [
    "cond_coverage"
   ]
  },
  {
   "cell_type": "code",
   "execution_count": 55,
   "id": "942895c7",
   "metadata": {
    "execution": {
     "iopub.execute_input": "2025-08-19T18:28:35.336402Z",
     "iopub.status.busy": "2025-08-19T18:28:35.335839Z",
     "iopub.status.idle": "2025-08-19T18:28:35.344706Z",
     "shell.execute_reply": "2025-08-19T18:28:35.343799Z"
    },
    "papermill": {
     "duration": 0.03531,
     "end_time": "2025-08-19T18:28:35.346181",
     "exception": false,
     "start_time": "2025-08-19T18:28:35.310871",
     "status": "completed"
    },
    "tags": []
   },
   "outputs": [],
   "source": [
    "for subgroup, cov in cond_coverage.items():\n",
    "    cp_metrics_df[f\"cov_{subgroup}\"] = cov"
   ]
  },
  {
   "cell_type": "code",
   "execution_count": 56,
   "id": "3970120f",
   "metadata": {
    "execution": {
     "iopub.execute_input": "2025-08-19T18:28:35.376348Z",
     "iopub.status.busy": "2025-08-19T18:28:35.375819Z",
     "iopub.status.idle": "2025-08-19T18:28:35.391725Z",
     "shell.execute_reply": "2025-08-19T18:28:35.390969Z"
    },
    "papermill": {
     "duration": 0.03121,
     "end_time": "2025-08-19T18:28:35.393128",
     "exception": false,
     "start_time": "2025-08-19T18:28:35.361918",
     "status": "completed"
    },
    "tags": []
   },
   "outputs": [
    {
     "data": {
      "text/html": [
       "<div>\n",
       "<style scoped>\n",
       "    .dataframe tbody tr th:only-of-type {\n",
       "        vertical-align: middle;\n",
       "    }\n",
       "\n",
       "    .dataframe tbody tr th {\n",
       "        vertical-align: top;\n",
       "    }\n",
       "\n",
       "    .dataframe thead th {\n",
       "        text-align: right;\n",
       "    }\n",
       "</style>\n",
       "<table border=\"1\" class=\"dataframe\">\n",
       "  <thead>\n",
       "    <tr style=\"text-align: right;\">\n",
       "      <th></th>\n",
       "      <th>universe_id</th>\n",
       "      <th>universe_training_year</th>\n",
       "      <th>universe_training_size</th>\n",
       "      <th>universe_scale</th>\n",
       "      <th>universe_model</th>\n",
       "      <th>universe_exclude_features</th>\n",
       "      <th>universe_exclude_subgroups</th>\n",
       "      <th>q_hat</th>\n",
       "      <th>coverage</th>\n",
       "      <th>avg_size</th>\n",
       "      <th>cov_frau1</th>\n",
       "      <th>cov_nongerman</th>\n",
       "      <th>cov_nongerman_male</th>\n",
       "      <th>cov_nongerman_female</th>\n",
       "    </tr>\n",
       "  </thead>\n",
       "  <tbody>\n",
       "    <tr>\n",
       "      <th>0</th>\n",
       "      <td>618fd0b409db2edf558dea2a7809e3c4</td>\n",
       "      <td>2014</td>\n",
       "      <td>5k</td>\n",
       "      <td>do-not-scale</td>\n",
       "      <td>penalized_logreg</td>\n",
       "      <td>age</td>\n",
       "      <td>drop-non-german</td>\n",
       "      <td>0.643592</td>\n",
       "      <td>0.91147</td>\n",
       "      <td>1.250273</td>\n",
       "      <td>0.909907</td>\n",
       "      <td>0.958682</td>\n",
       "      <td>0.966586</td>\n",
       "      <td>0.945604</td>\n",
       "    </tr>\n",
       "  </tbody>\n",
       "</table>\n",
       "</div>"
      ],
      "text/plain": [
       "                        universe_id universe_training_year  \\\n",
       "0  618fd0b409db2edf558dea2a7809e3c4                   2014   \n",
       "\n",
       "  universe_training_size universe_scale    universe_model  \\\n",
       "0                     5k   do-not-scale  penalized_logreg   \n",
       "\n",
       "  universe_exclude_features universe_exclude_subgroups     q_hat  coverage  \\\n",
       "0                       age            drop-non-german  0.643592   0.91147   \n",
       "\n",
       "   avg_size  cov_frau1  cov_nongerman  cov_nongerman_male  \\\n",
       "0  1.250273   0.909907       0.958682            0.966586   \n",
       "\n",
       "   cov_nongerman_female  \n",
       "0              0.945604  "
      ]
     },
     "execution_count": 56,
     "metadata": {},
     "output_type": "execute_result"
    }
   ],
   "source": [
    "cp_metrics_df"
   ]
  },
  {
   "cell_type": "markdown",
   "id": "3fc519cc",
   "metadata": {
    "papermill": {
     "duration": 0.012946,
     "end_time": "2025-08-19T18:28:35.421925",
     "exception": false,
     "start_time": "2025-08-19T18:28:35.408979",
     "status": "completed"
    },
    "tags": []
   },
   "source": [
    "# (Fairness) Metrics"
   ]
  },
  {
   "cell_type": "code",
   "execution_count": 57,
   "id": "a2e5e155",
   "metadata": {
    "execution": {
     "iopub.execute_input": "2025-08-19T18:28:35.450103Z",
     "iopub.status.busy": "2025-08-19T18:28:35.448834Z",
     "iopub.status.idle": "2025-08-19T18:28:35.475000Z",
     "shell.execute_reply": "2025-08-19T18:28:35.474175Z"
    },
    "papermill": {
     "duration": 0.04228,
     "end_time": "2025-08-19T18:28:35.476789",
     "exception": false,
     "start_time": "2025-08-19T18:28:35.434509",
     "status": "completed"
    },
    "tags": []
   },
   "outputs": [],
   "source": [
    "colname_to_bin = \"maxdeutsch1\"\n",
    "majority_value = org_train[colname_to_bin].mode()[0]\n",
    "\n",
    "org_test[\"majmin\"] = np.where(org_test[colname_to_bin] == majority_value, \"majority\", \"minority\")"
   ]
  },
  {
   "cell_type": "code",
   "execution_count": 58,
   "id": "17e3e4d5",
   "metadata": {
    "execution": {
     "iopub.execute_input": "2025-08-19T18:28:35.516987Z",
     "iopub.status.busy": "2025-08-19T18:28:35.516383Z",
     "iopub.status.idle": "2025-08-19T18:28:37.343333Z",
     "shell.execute_reply": "2025-08-19T18:28:37.341961Z"
    },
    "papermill": {
     "duration": 1.84358,
     "end_time": "2025-08-19T18:28:37.344986",
     "exception": false,
     "start_time": "2025-08-19T18:28:35.501406",
     "status": "completed"
    },
    "tags": []
   },
   "outputs": [],
   "source": [
    "example_universe = universe.copy()\n",
    "example_universe[\"cutoff\"] = example_universe[\"cutoff\"][0]\n",
    "example_universe[\"eval_fairness_grouping\"] = example_universe[\"eval_fairness_grouping\"][0]\n",
    "fairness_dict, metric_frame = universe_analysis.compute_metrics(\n",
    "    example_universe,\n",
    "    y_pred_prob=probs_test,\n",
    "    y_test=y_true,\n",
    "    org_test=org_test,\n",
    ")"
   ]
  },
  {
   "cell_type": "markdown",
   "id": "1fb7a0e9",
   "metadata": {
    "papermill": {
     "duration": 0.01535,
     "end_time": "2025-08-19T18:28:37.376319",
     "exception": false,
     "start_time": "2025-08-19T18:28:37.360969",
     "status": "completed"
    },
    "tags": []
   },
   "source": [
    "# Overall"
   ]
  },
  {
   "cell_type": "markdown",
   "id": "be1784b1",
   "metadata": {
    "papermill": {
     "duration": 0.012778,
     "end_time": "2025-08-19T18:28:37.403245",
     "exception": false,
     "start_time": "2025-08-19T18:28:37.390467",
     "status": "completed"
    },
    "tags": []
   },
   "source": [
    "Main fairness target: Equalized Odds. Seems to be a better fit than equal opportunity, since we're not only interested in Y = 1. Seems to be a better fit than demographic parity, since we also care about accuracy, not just equal distribution of preds.\n",
    "\n",
    "Pick column for computation of fairness metrics\n",
    "\n",
    "Performance\n",
    "Overall performance measures, most interesting in relation to the measures split by group below"
   ]
  },
  {
   "cell_type": "code",
   "execution_count": 59,
   "id": "b7672bee",
   "metadata": {
    "execution": {
     "iopub.execute_input": "2025-08-19T18:28:37.452307Z",
     "iopub.status.busy": "2025-08-19T18:28:37.451054Z",
     "iopub.status.idle": "2025-08-19T18:28:37.468610Z",
     "shell.execute_reply": "2025-08-19T18:28:37.467995Z"
    },
    "papermill": {
     "duration": 0.045627,
     "end_time": "2025-08-19T18:28:37.479162",
     "exception": false,
     "start_time": "2025-08-19T18:28:37.433535",
     "status": "completed"
    },
    "tags": []
   },
   "outputs": [
    {
     "data": {
      "text/plain": [
       "accuracy                   0.216375\n",
       "balanced accuracy          0.530742\n",
       "f1                         0.237926\n",
       "precision                  0.135919\n",
       "false positive rate        0.892113\n",
       "false negative rate        0.046403\n",
       "selection rate             0.900000\n",
       "count                  89710.000000\n",
       "dtype: float64"
      ]
     },
     "execution_count": 59,
     "metadata": {},
     "output_type": "execute_result"
    }
   ],
   "source": [
    "metric_frame.overall"
   ]
  },
  {
   "cell_type": "markdown",
   "id": "d93333c9",
   "metadata": {
    "papermill": {
     "duration": 0.013408,
     "end_time": "2025-08-19T18:28:37.507837",
     "exception": false,
     "start_time": "2025-08-19T18:28:37.494429",
     "status": "completed"
    },
    "tags": []
   },
   "source": [
    "By Group"
   ]
  },
  {
   "cell_type": "code",
   "execution_count": 60,
   "id": "52256966",
   "metadata": {
    "execution": {
     "iopub.execute_input": "2025-08-19T18:28:37.536448Z",
     "iopub.status.busy": "2025-08-19T18:28:37.535994Z",
     "iopub.status.idle": "2025-08-19T18:28:37.553360Z",
     "shell.execute_reply": "2025-08-19T18:28:37.551733Z"
    },
    "papermill": {
     "duration": 0.03424,
     "end_time": "2025-08-19T18:28:37.555595",
     "exception": false,
     "start_time": "2025-08-19T18:28:37.521355",
     "status": "completed"
    },
    "tags": []
   },
   "outputs": [
    {
     "data": {
      "text/html": [
       "<div>\n",
       "<style scoped>\n",
       "    .dataframe tbody tr th:only-of-type {\n",
       "        vertical-align: middle;\n",
       "    }\n",
       "\n",
       "    .dataframe tbody tr th {\n",
       "        vertical-align: top;\n",
       "    }\n",
       "\n",
       "    .dataframe thead th {\n",
       "        text-align: right;\n",
       "    }\n",
       "</style>\n",
       "<table border=\"1\" class=\"dataframe\">\n",
       "  <thead>\n",
       "    <tr style=\"text-align: right;\">\n",
       "      <th></th>\n",
       "      <th>accuracy</th>\n",
       "      <th>balanced accuracy</th>\n",
       "      <th>f1</th>\n",
       "      <th>precision</th>\n",
       "      <th>false positive rate</th>\n",
       "      <th>false negative rate</th>\n",
       "      <th>selection rate</th>\n",
       "      <th>count</th>\n",
       "    </tr>\n",
       "    <tr>\n",
       "      <th>majmin</th>\n",
       "      <th></th>\n",
       "      <th></th>\n",
       "      <th></th>\n",
       "      <th></th>\n",
       "      <th></th>\n",
       "      <th></th>\n",
       "      <th></th>\n",
       "      <th></th>\n",
       "    </tr>\n",
       "  </thead>\n",
       "  <tbody>\n",
       "    <tr>\n",
       "      <th>majority</th>\n",
       "      <td>0.237979</td>\n",
       "      <td>0.538115</td>\n",
       "      <td>0.247047</td>\n",
       "      <td>0.142073</td>\n",
       "      <td>0.869832</td>\n",
       "      <td>0.053939</td>\n",
       "      <td>0.879905</td>\n",
       "      <td>69170.0</td>\n",
       "    </tr>\n",
       "    <tr>\n",
       "      <th>minority</th>\n",
       "      <td>0.143622</td>\n",
       "      <td>0.508485</td>\n",
       "      <td>0.209225</td>\n",
       "      <td>0.117076</td>\n",
       "      <td>0.965716</td>\n",
       "      <td>0.017314</td>\n",
       "      <td>0.967673</td>\n",
       "      <td>20540.0</td>\n",
       "    </tr>\n",
       "  </tbody>\n",
       "</table>\n",
       "</div>"
      ],
      "text/plain": [
       "          accuracy  balanced accuracy        f1  precision  \\\n",
       "majmin                                                       \n",
       "majority  0.237979           0.538115  0.247047   0.142073   \n",
       "minority  0.143622           0.508485  0.209225   0.117076   \n",
       "\n",
       "          false positive rate  false negative rate  selection rate    count  \n",
       "majmin                                                                       \n",
       "majority             0.869832             0.053939        0.879905  69170.0  \n",
       "minority             0.965716             0.017314        0.967673  20540.0  "
      ]
     },
     "execution_count": 60,
     "metadata": {},
     "output_type": "execute_result"
    }
   ],
   "source": [
    "metric_frame.by_group"
   ]
  },
  {
   "cell_type": "code",
   "execution_count": 61,
   "id": "6e6c20ae",
   "metadata": {
    "execution": {
     "iopub.execute_input": "2025-08-19T18:28:37.590367Z",
     "iopub.status.busy": "2025-08-19T18:28:37.589909Z",
     "iopub.status.idle": "2025-08-19T18:28:39.486041Z",
     "shell.execute_reply": "2025-08-19T18:28:39.485182Z"
    },
    "papermill": {
     "duration": 1.915778,
     "end_time": "2025-08-19T18:28:39.490551",
     "exception": false,
     "start_time": "2025-08-19T18:28:37.574773",
     "status": "completed"
    },
    "tags": []
   },
   "outputs": [
    {
     "data": {
      "text/plain": [
       "array([[<Axes: title={'center': 'accuracy'}, xlabel='majmin'>,\n",
       "        <Axes: title={'center': 'balanced accuracy'}, xlabel='majmin'>,\n",
       "        <Axes: title={'center': 'f1'}, xlabel='majmin'>],\n",
       "       [<Axes: title={'center': 'precision'}, xlabel='majmin'>,\n",
       "        <Axes: title={'center': 'false positive rate'}, xlabel='majmin'>,\n",
       "        <Axes: title={'center': 'false negative rate'}, xlabel='majmin'>],\n",
       "       [<Axes: title={'center': 'selection rate'}, xlabel='majmin'>,\n",
       "        <Axes: title={'center': 'count'}, xlabel='majmin'>,\n",
       "        <Axes: xlabel='majmin'>]], dtype=object)"
      ]
     },
     "execution_count": 61,
     "metadata": {},
     "output_type": "execute_result"
    },
    {
     "data": {
      "image/png": "[encoded data removed]",
      "text/plain": [
       "<Figure size 1200x800 with 9 Axes>"
      ]
     },
     "metadata": {},
     "output_type": "display_data"
    }
   ],
   "source": [
    "# In a graphic\n",
    "metric_frame.by_group.plot.bar(\n",
    "    subplots=True,\n",
    "    layout=[3, 3],\n",
    "    legend=False,\n",
    "    figsize=[12, 8],\n",
    "    title=\"Show all metrics\",\n",
    ")"
   ]
  },
  {
   "cell_type": "markdown",
   "id": "b2e433ae",
   "metadata": {
    "papermill": {
     "duration": 0.014041,
     "end_time": "2025-08-19T18:28:39.530238",
     "exception": false,
     "start_time": "2025-08-19T18:28:39.516197",
     "status": "completed"
    },
    "tags": []
   },
   "source": [
    "# Final Output"
   ]
  },
  {
   "cell_type": "code",
   "execution_count": 62,
   "id": "3871301e",
   "metadata": {
    "execution": {
     "iopub.execute_input": "2025-08-19T18:28:39.562327Z",
     "iopub.status.busy": "2025-08-19T18:28:39.560204Z",
     "iopub.status.idle": "2025-08-19T18:28:39.581018Z",
     "shell.execute_reply": "2025-08-19T18:28:39.579817Z"
    },
    "papermill": {
     "duration": 0.038465,
     "end_time": "2025-08-19T18:28:39.582511",
     "exception": false,
     "start_time": "2025-08-19T18:28:39.544046",
     "status": "completed"
    },
    "tags": []
   },
   "outputs": [
    {
     "data": {
      "text/plain": [
       "4"
      ]
     },
     "execution_count": 62,
     "metadata": {},
     "output_type": "execute_result"
    }
   ],
   "source": [
    "sub_universes = universe_analysis.generate_sub_universes()\n",
    "len(sub_universes)"
   ]
  },
  {
   "cell_type": "code",
   "execution_count": 63,
   "id": "d9cfdaca",
   "metadata": {
    "execution": {
     "iopub.execute_input": "2025-08-19T18:28:39.622635Z",
     "iopub.status.busy": "2025-08-19T18:28:39.621567Z",
     "iopub.status.idle": "2025-08-19T18:28:39.633348Z",
     "shell.execute_reply": "2025-08-19T18:28:39.630322Z"
    },
    "papermill": {
     "duration": 0.029138,
     "end_time": "2025-08-19T18:28:39.634839",
     "exception": false,
     "start_time": "2025-08-19T18:28:39.605701",
     "status": "completed"
    },
    "tags": []
   },
   "outputs": [],
   "source": [
    "def filter_sub_universe_data(sub_universe, org_test):\n",
    "    # Keep all rows — no filtering\n",
    "    keep_rows_mask = np.ones(org_test.shape[0], dtype=bool)\n",
    "\n",
    "    print(f\"[INFO] Keeping all rows: {keep_rows_mask.sum()} rows retained.\")\n",
    "    return keep_rows_mask"
   ]
  },
  {
   "cell_type": "code",
   "execution_count": 64,
   "id": "2bc31ac1",
   "metadata": {
    "execution": {
     "iopub.execute_input": "2025-08-19T18:28:39.667475Z",
     "iopub.status.busy": "2025-08-19T18:28:39.666928Z",
     "iopub.status.idle": "2025-08-19T18:28:46.472182Z",
     "shell.execute_reply": "2025-08-19T18:28:46.469831Z"
    },
    "papermill": {
     "duration": 6.822249,
     "end_time": "2025-08-19T18:28:46.473824",
     "exception": false,
     "start_time": "2025-08-19T18:28:39.651575",
     "status": "completed"
    },
    "tags": []
   },
   "outputs": [
    {
     "name": "stdout",
     "output_type": "stream",
     "text": [
      "Stopping execution_time clock.\n",
      "[INFO] Keeping all rows: 89710 rows retained.\n"
     ]
    },
    {
     "name": "stdout",
     "output_type": "stream",
     "text": [
      "[INFO] Keeping all rows: 89710 rows retained.\n"
     ]
    },
    {
     "name": "stdout",
     "output_type": "stream",
     "text": [
      "[INFO] Keeping all rows: 89710 rows retained.\n"
     ]
    },
    {
     "name": "stdout",
     "output_type": "stream",
     "text": [
      "[INFO] Keeping all rows: 89710 rows retained.\n"
     ]
    },
    {
     "data": {
      "text/html": [
       "<div>\n",
       "<style scoped>\n",
       "    .dataframe tbody tr th:only-of-type {\n",
       "        vertical-align: middle;\n",
       "    }\n",
       "\n",
       "    .dataframe tbody tr th {\n",
       "        vertical-align: top;\n",
       "    }\n",
       "\n",
       "    .dataframe thead th {\n",
       "        text-align: right;\n",
       "    }\n",
       "</style>\n",
       "<table border=\"1\" class=\"dataframe\">\n",
       "  <thead>\n",
       "    <tr style=\"text-align: right;\">\n",
       "      <th></th>\n",
       "      <th>run_no</th>\n",
       "      <th>universe_id</th>\n",
       "      <th>universe_settings</th>\n",
       "      <th>execution_time</th>\n",
       "      <th>test_size_n</th>\n",
       "      <th>test_size_frac</th>\n",
       "      <th>fair_main_equalized_odds_difference</th>\n",
       "      <th>fair_main_equalized_odds_ratio</th>\n",
       "      <th>fair_main_demographic_parity_difference</th>\n",
       "      <th>fair_main_demographic_parity_ratio</th>\n",
       "      <th>...</th>\n",
       "      <th>perf_grp_precision_0</th>\n",
       "      <th>perf_grp_precision_1</th>\n",
       "      <th>perf_grp_false positive rate_0</th>\n",
       "      <th>perf_grp_false positive rate_1</th>\n",
       "      <th>perf_grp_false negative rate_0</th>\n",
       "      <th>perf_grp_false negative rate_1</th>\n",
       "      <th>perf_grp_selection rate_0</th>\n",
       "      <th>perf_grp_selection rate_1</th>\n",
       "      <th>perf_grp_count_0</th>\n",
       "      <th>perf_grp_count_1</th>\n",
       "    </tr>\n",
       "  </thead>\n",
       "  <tbody>\n",
       "    <tr>\n",
       "      <th>0</th>\n",
       "      <td>3</td>\n",
       "      <td>618fd0b409db2edf558dea2a7809e3c4</td>\n",
       "      <td>{\"cutoff\": \"quantile_0.1\", \"eval_fairness_grou...</td>\n",
       "      <td>20.261865</td>\n",
       "      <td>89710</td>\n",
       "      <td>1.0</td>\n",
       "      <td>0.095885</td>\n",
       "      <td>0.900711</td>\n",
       "      <td>0.087768</td>\n",
       "      <td>0.909300</td>\n",
       "      <td>...</td>\n",
       "      <td>NaN</td>\n",
       "      <td>NaN</td>\n",
       "      <td>NaN</td>\n",
       "      <td>NaN</td>\n",
       "      <td>NaN</td>\n",
       "      <td>NaN</td>\n",
       "      <td>NaN</td>\n",
       "      <td>NaN</td>\n",
       "      <td>NaN</td>\n",
       "      <td>NaN</td>\n",
       "    </tr>\n",
       "    <tr>\n",
       "      <th>0</th>\n",
       "      <td>3</td>\n",
       "      <td>618fd0b409db2edf558dea2a7809e3c4</td>\n",
       "      <td>{\"cutoff\": \"quantile_0.1\", \"eval_fairness_grou...</td>\n",
       "      <td>20.261865</td>\n",
       "      <td>89710</td>\n",
       "      <td>1.0</td>\n",
       "      <td>0.095885</td>\n",
       "      <td>0.900711</td>\n",
       "      <td>0.087768</td>\n",
       "      <td>0.909300</td>\n",
       "      <td>...</td>\n",
       "      <td>0.117076</td>\n",
       "      <td>0.142073</td>\n",
       "      <td>0.965716</td>\n",
       "      <td>0.869832</td>\n",
       "      <td>0.017314</td>\n",
       "      <td>0.053939</td>\n",
       "      <td>0.967673</td>\n",
       "      <td>0.879905</td>\n",
       "      <td>20540.0</td>\n",
       "      <td>69170.0</td>\n",
       "    </tr>\n",
       "    <tr>\n",
       "      <th>0</th>\n",
       "      <td>3</td>\n",
       "      <td>618fd0b409db2edf558dea2a7809e3c4</td>\n",
       "      <td>{\"cutoff\": \"quantile_0.25\", \"eval_fairness_gro...</td>\n",
       "      <td>20.261865</td>\n",
       "      <td>89710</td>\n",
       "      <td>1.0</td>\n",
       "      <td>0.228521</td>\n",
       "      <td>0.748245</td>\n",
       "      <td>0.210840</td>\n",
       "      <td>0.768957</td>\n",
       "      <td>...</td>\n",
       "      <td>NaN</td>\n",
       "      <td>NaN</td>\n",
       "      <td>NaN</td>\n",
       "      <td>NaN</td>\n",
       "      <td>NaN</td>\n",
       "      <td>NaN</td>\n",
       "      <td>NaN</td>\n",
       "      <td>NaN</td>\n",
       "      <td>NaN</td>\n",
       "      <td>NaN</td>\n",
       "    </tr>\n",
       "    <tr>\n",
       "      <th>0</th>\n",
       "      <td>3</td>\n",
       "      <td>618fd0b409db2edf558dea2a7809e3c4</td>\n",
       "      <td>{\"cutoff\": \"quantile_0.25\", \"eval_fairness_gro...</td>\n",
       "      <td>20.261865</td>\n",
       "      <td>89710</td>\n",
       "      <td>1.0</td>\n",
       "      <td>0.228521</td>\n",
       "      <td>0.748245</td>\n",
       "      <td>0.210840</td>\n",
       "      <td>0.768957</td>\n",
       "      <td>...</td>\n",
       "      <td>0.119985</td>\n",
       "      <td>0.159998</td>\n",
       "      <td>0.907715</td>\n",
       "      <td>0.679194</td>\n",
       "      <td>0.050253</td>\n",
       "      <td>0.150328</td>\n",
       "      <td>0.912561</td>\n",
       "      <td>0.701720</td>\n",
       "      <td>20540.0</td>\n",
       "      <td>69170.0</td>\n",
       "    </tr>\n",
       "  </tbody>\n",
       "</table>\n",
       "<p>4 rows × 50 columns</p>\n",
       "</div>"
      ],
      "text/plain": [
       "  run_no                       universe_id  \\\n",
       "0      3  618fd0b409db2edf558dea2a7809e3c4   \n",
       "0      3  618fd0b409db2edf558dea2a7809e3c4   \n",
       "0      3  618fd0b409db2edf558dea2a7809e3c4   \n",
       "0      3  618fd0b409db2edf558dea2a7809e3c4   \n",
       "\n",
       "                                   universe_settings  execution_time  \\\n",
       "0  {\"cutoff\": \"quantile_0.1\", \"eval_fairness_grou...       20.261865   \n",
       "0  {\"cutoff\": \"quantile_0.1\", \"eval_fairness_grou...       20.261865   \n",
       "0  {\"cutoff\": \"quantile_0.25\", \"eval_fairness_gro...       20.261865   \n",
       "0  {\"cutoff\": \"quantile_0.25\", \"eval_fairness_gro...       20.261865   \n",
       "\n",
       "   test_size_n  test_size_frac  fair_main_equalized_odds_difference  \\\n",
       "0        89710             1.0                             0.095885   \n",
       "0        89710             1.0                             0.095885   \n",
       "0        89710             1.0                             0.228521   \n",
       "0        89710             1.0                             0.228521   \n",
       "\n",
       "   fair_main_equalized_odds_ratio  fair_main_demographic_parity_difference  \\\n",
       "0                        0.900711                                 0.087768   \n",
       "0                        0.900711                                 0.087768   \n",
       "0                        0.748245                                 0.210840   \n",
       "0                        0.748245                                 0.210840   \n",
       "\n",
       "   fair_main_demographic_parity_ratio  ...  perf_grp_precision_0  \\\n",
       "0                            0.909300  ...                   NaN   \n",
       "0                            0.909300  ...              0.117076   \n",
       "0                            0.768957  ...                   NaN   \n",
       "0                            0.768957  ...              0.119985   \n",
       "\n",
       "   perf_grp_precision_1  perf_grp_false positive rate_0  \\\n",
       "0                   NaN                             NaN   \n",
       "0              0.142073                        0.965716   \n",
       "0                   NaN                             NaN   \n",
       "0              0.159998                        0.907715   \n",
       "\n",
       "   perf_grp_false positive rate_1  perf_grp_false negative rate_0  \\\n",
       "0                             NaN                             NaN   \n",
       "0                        0.869832                        0.017314   \n",
       "0                             NaN                             NaN   \n",
       "0                        0.679194                        0.050253   \n",
       "\n",
       "   perf_grp_false negative rate_1  perf_grp_selection rate_0  \\\n",
       "0                             NaN                        NaN   \n",
       "0                        0.053939                   0.967673   \n",
       "0                             NaN                        NaN   \n",
       "0                        0.150328                   0.912561   \n",
       "\n",
       "   perf_grp_selection rate_1  perf_grp_count_0  perf_grp_count_1  \n",
       "0                        NaN               NaN               NaN  \n",
       "0                   0.879905           20540.0           69170.0  \n",
       "0                        NaN               NaN               NaN  \n",
       "0                   0.701720           20540.0           69170.0  \n",
       "\n",
       "[4 rows x 50 columns]"
      ]
     },
     "execution_count": 64,
     "metadata": {},
     "output_type": "execute_result"
    }
   ],
   "source": [
    "final_output = universe_analysis.generate_final_output(\n",
    "    y_pred_prob=probs_test,\n",
    "    y_test=y_true,\n",
    "    org_test=org_test,\n",
    "    filter_data=filter_sub_universe_data,\n",
    "    cp_metrics_df=cp_metrics_df,\n",
    "    save=True,\n",
    ")\n",
    "final_output"
   ]
  },
  {
   "cell_type": "code",
   "execution_count": null,
   "id": "8b80a1ff",
   "metadata": {
    "papermill": {
     "duration": 0.014578,
     "end_time": "2025-08-19T18:28:46.509165",
     "exception": false,
     "start_time": "2025-08-19T18:28:46.494587",
     "status": "completed"
    },
    "tags": []
   },
   "outputs": [],
   "source": []
  },
  {
   "cell_type": "code",
   "execution_count": null,
   "id": "275c9fad",
   "metadata": {
    "papermill": {
     "duration": 0.01433,
     "end_time": "2025-08-19T18:28:46.537916",
     "exception": false,
     "start_time": "2025-08-19T18:28:46.523586",
     "status": "completed"
    },
    "tags": []
   },
   "outputs": [],
   "source": []
  }
 ],
 "metadata": {
  "celltoolbar": "Tags",
  "kernelspec": {
   "display_name": "Python (CMA Fairness)",
   "language": "python",
   "name": "cma_fair_env"
  },
  "language_info": {
   "codemirror_mode": {
    "name": "ipython",
    "version": 3
   },
   "file_extension": ".py",
   "mimetype": "text/x-python",
   "name": "python",
   "nbconvert_exporter": "python",
   "pygments_lexer": "ipython3",
   "version": "3.10.12"
  },
  "papermill": {
   "default_parameters": {},
   "duration": 30.689328,
   "end_time": "2025-08-19T18:28:47.376200",
   "environment_variables": {},
   "exception": null,
   "input_path": "universe_analysis.ipynb",
   "output_path": "output/runs/3/notebooks/m_3-618fd0b409db2edf558dea2a7809e3c4.ipynb",
   "parameters": {
    "output_dir": "output",
    "run_no": "3",
    "seed": "2023",
    "universe": "{\"cutoff\": [\"quantile_0.1\", \"quantile_0.25\"], \"eval_fairness_grouping\": [\"majority-minority\", \"nationality-all\"], \"exclude_features\": \"age\", \"exclude_subgroups\": \"drop-non-german\", \"model\": \"penalized_logreg\", \"scale\": \"do-not-scale\", \"training_size\": \"5k\", \"training_year\": \"2014\"}",
    "universe_id": "618fd0b409db2edf558dea2a7809e3c4"
   },
   "start_time": "2025-08-19T18:28:16.686872",
   "version": "2.6.0"
  }
 },
 "nbformat": 4,
 "nbformat_minor": 5
}