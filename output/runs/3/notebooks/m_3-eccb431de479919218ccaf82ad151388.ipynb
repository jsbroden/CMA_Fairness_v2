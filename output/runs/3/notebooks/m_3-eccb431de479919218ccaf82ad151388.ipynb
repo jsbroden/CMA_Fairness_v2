{
 "cells": [
  {
   "cell_type": "markdown",
   "id": "ef23dbb3",
   "metadata": {
    "papermill": {
     "duration": 0.022653,
     "end_time": "2025-08-19T18:45:54.984703",
     "exception": false,
     "start_time": "2025-08-19T18:45:54.962050",
     "status": "completed"
    },
    "tags": []
   },
   "source": [
    "# Setup"
   ]
  },
  {
   "cell_type": "code",
   "execution_count": 1,
   "id": "0bc8e7dc",
   "metadata": {
    "execution": {
     "iopub.execute_input": "2025-08-19T18:45:55.009158Z",
     "iopub.status.busy": "2025-08-19T18:45:55.007911Z",
     "iopub.status.idle": "2025-08-19T18:45:55.030652Z",
     "shell.execute_reply": "2025-08-19T18:45:55.028731Z"
    },
    "papermill": {
     "duration": 0.035943,
     "end_time": "2025-08-19T18:45:55.032862",
     "exception": false,
     "start_time": "2025-08-19T18:45:54.996919",
     "status": "completed"
    },
    "tags": []
   },
   "outputs": [
    {
     "name": "stdout",
     "output_type": "stream",
     "text": [
      "/dss/dsshome1/0C/ra93lal2/cma/CMA_Fairness_v2\n"
     ]
    },
    {
     "name": "stderr",
     "output_type": "stream",
     "text": [
      "/dss/dsshome1/0C/ra93lal2/.local/share/virtualenvs/CMA_Fairness_v2-3j10GkSs/lib/python3.10/site-packages/IPython/core/magics/osm.py:393: UserWarning: This is now an optional IPython functionality, using bookmarks requires you to install the `pickleshare` library.\n",
      "  bkms = self.shell.db.get('bookmarks', {})\n",
      "/dss/dsshome1/0C/ra93lal2/.local/share/virtualenvs/CMA_Fairness_v2-3j10GkSs/lib/python3.10/site-packages/IPython/core/magics/osm.py:417: UserWarning: This is now an optional IPython functionality, setting dhist requires you to install the `pickleshare` library.\n",
      "  self.shell.db['dhist'] = compress_dhist(dhist)[-100:]\n"
     ]
    }
   ],
   "source": [
    "%cd ~/cma/CMA_Fairness_v2"
   ]
  },
  {
   "cell_type": "markdown",
   "id": "9d235661",
   "metadata": {
    "papermill": {
     "duration": 0.009193,
     "end_time": "2025-08-19T18:45:55.054926",
     "exception": false,
     "start_time": "2025-08-19T18:45:55.045733",
     "status": "completed"
    },
    "tags": []
   },
   "source": [
    "The following cell holds the definition of our parameters, these values can be overriden by rendering the with e.g. the following command:\n",
    "\n",
    "papermill -p alpha 0.2 -p ratio 0.3 universe_analysis.ipynb output/test_run.ipynb"
   ]
  },
  {
   "cell_type": "code",
   "execution_count": 2,
   "id": "4a789d8e",
   "metadata": {
    "execution": {
     "iopub.execute_input": "2025-08-19T18:45:55.074727Z",
     "iopub.status.busy": "2025-08-19T18:45:55.074385Z",
     "iopub.status.idle": "2025-08-19T18:45:55.079805Z",
     "shell.execute_reply": "2025-08-19T18:45:55.078899Z"
    },
    "papermill": {
     "duration": 0.021099,
     "end_time": "2025-08-19T18:45:55.085040",
     "exception": false,
     "start_time": "2025-08-19T18:45:55.063941",
     "status": "completed"
    },
    "tags": []
   },
   "outputs": [
    {
     "name": "stdout",
     "output_type": "stream",
     "text": [
      "Current working directory: /dss/dsshome1/0C/ra93lal2/cma/CMA_Fairness_v2\n"
     ]
    }
   ],
   "source": [
    "import os\n",
    "print(\"Current working directory:\", os.getcwd())"
   ]
  },
  {
   "cell_type": "code",
   "execution_count": 3,
   "id": "4132aaed",
   "metadata": {
    "execution": {
     "iopub.execute_input": "2025-08-19T18:45:55.116828Z",
     "iopub.status.busy": "2025-08-19T18:45:55.115147Z",
     "iopub.status.idle": "2025-08-19T18:45:55.125008Z",
     "shell.execute_reply": "2025-08-19T18:45:55.123776Z"
    },
    "papermill": {
     "duration": 0.023255,
     "end_time": "2025-08-19T18:45:55.126186",
     "exception": false,
     "start_time": "2025-08-19T18:45:55.102931",
     "status": "completed"
    },
    "tags": [
     "parameters"
    ]
   },
   "outputs": [],
   "source": [
    "run_no = 0\n",
    "universe_id = \"test\"\n",
    "universe = {\n",
    "    \"training_size\": \"5k\", # \"25k\", \"5k\", \"1k\"\n",
    "    \"training_year\": \"2012_14\", # \"2014\", \"2012_14\", \"2010_14\"\n",
    "    \"scale\": \"scale\", # \"scale\", \"do-not-scale\",\n",
    "    \"model\": \"elasticnet\", # \"logreg\", \"penalized_logreg\", \"rf\", \"gbm\", \"elasticnet\"\n",
    "    \"cutoff\": [\"quantile_0.15\", \"quantile_0.30\"],\n",
    "    \"exclude_features\": \"age\", # \"none\", \"nationality\", \"sex\", \"nationality-sex\", \"age\"\n",
    "    \"exclude_subgroups\": \"drop-non-german\", # \"keep-all\", \"drop-non-german\"\n",
    "    \"eval_fairness_grouping\": [\"majority-minority\", \"nationality-all\"]\n",
    "}\n",
    "\n",
    "output_dir=\"./output\"\n",
    "seed=0"
   ]
  },
  {
   "cell_type": "code",
   "execution_count": 4,
   "id": "38bc86ff",
   "metadata": {
    "execution": {
     "iopub.execute_input": "2025-08-19T18:45:55.150598Z",
     "iopub.status.busy": "2025-08-19T18:45:55.149133Z",
     "iopub.status.idle": "2025-08-19T18:45:55.157525Z",
     "shell.execute_reply": "2025-08-19T18:45:55.156244Z"
    },
    "papermill": {
     "duration": 0.020895,
     "end_time": "2025-08-19T18:45:55.159142",
     "exception": false,
     "start_time": "2025-08-19T18:45:55.138247",
     "status": "completed"
    },
    "tags": [
     "injected-parameters"
    ]
   },
   "outputs": [],
   "source": [
    "# Parameters\n",
    "universe_id = \"eccb431de479919218ccaf82ad151388\"\n",
    "run_no = \"3\"\n",
    "universe = \"{\\\"cutoff\\\": [\\\"quantile_0.1\\\", \\\"quantile_0.25\\\"], \\\"eval_fairness_grouping\\\": [\\\"majority-minority\\\", \\\"nationality-all\\\"], \\\"exclude_features\\\": \\\"age\\\", \\\"exclude_subgroups\\\": \\\"drop-non-german\\\", \\\"model\\\": \\\"penalized_logreg\\\", \\\"scale\\\": \\\"do-not-scale\\\", \\\"training_size\\\": \\\"5k\\\", \\\"training_year\\\": \\\"2010_14\\\"}\"\n",
    "output_dir = \"output\"\n",
    "seed = \"2023\"\n"
   ]
  },
  {
   "cell_type": "code",
   "execution_count": 5,
   "id": "a5d7941f",
   "metadata": {
    "execution": {
     "iopub.execute_input": "2025-08-19T18:45:55.183909Z",
     "iopub.status.busy": "2025-08-19T18:45:55.182346Z",
     "iopub.status.idle": "2025-08-19T18:45:55.189851Z",
     "shell.execute_reply": "2025-08-19T18:45:55.188616Z"
    },
    "papermill": {
     "duration": 0.019947,
     "end_time": "2025-08-19T18:45:55.191325",
     "exception": false,
     "start_time": "2025-08-19T18:45:55.171378",
     "status": "completed"
    },
    "tags": []
   },
   "outputs": [],
   "source": [
    "import json\n",
    "if isinstance(universe, str):\n",
    "    universe = json.loads(universe)"
   ]
  },
  {
   "cell_type": "code",
   "execution_count": 6,
   "id": "7076ccb1",
   "metadata": {
    "execution": {
     "iopub.execute_input": "2025-08-19T18:45:55.213641Z",
     "iopub.status.busy": "2025-08-19T18:45:55.212065Z",
     "iopub.status.idle": "2025-08-19T18:45:55.263355Z",
     "shell.execute_reply": "2025-08-19T18:45:55.262572Z"
    },
    "papermill": {
     "duration": 0.064475,
     "end_time": "2025-08-19T18:45:55.266040",
     "exception": false,
     "start_time": "2025-08-19T18:45:55.201565",
     "status": "completed"
    },
    "tags": []
   },
   "outputs": [],
   "source": [
    "# Auto-reload the custom package\n",
    "%load_ext autoreload\n",
    "%autoreload 1\n",
    "%aimport fairness_multiverse"
   ]
  },
  {
   "cell_type": "code",
   "execution_count": 7,
   "id": "94c8eb93",
   "metadata": {
    "execution": {
     "iopub.execute_input": "2025-08-19T18:45:55.302519Z",
     "iopub.status.busy": "2025-08-19T18:45:55.301233Z",
     "iopub.status.idle": "2025-08-19T18:45:56.843636Z",
     "shell.execute_reply": "2025-08-19T18:45:56.842450Z"
    },
    "papermill": {
     "duration": 1.557532,
     "end_time": "2025-08-19T18:45:56.845549",
     "exception": false,
     "start_time": "2025-08-19T18:45:55.288017",
     "status": "completed"
    },
    "tags": []
   },
   "outputs": [],
   "source": [
    "from fairness_multiverse.universe import UniverseAnalysis\n",
    "\n",
    "universe_analysis = UniverseAnalysis(\n",
    "    run_no = run_no,\n",
    "    universe_id = universe_id,\n",
    "    universe = universe,\n",
    "    output_dir=output_dir,\n",
    ")"
   ]
  },
  {
   "cell_type": "code",
   "execution_count": 8,
   "id": "2a6381cf",
   "metadata": {
    "execution": {
     "iopub.execute_input": "2025-08-19T18:45:56.865834Z",
     "iopub.status.busy": "2025-08-19T18:45:56.865509Z",
     "iopub.status.idle": "2025-08-19T18:45:56.873811Z",
     "shell.execute_reply": "2025-08-19T18:45:56.872634Z"
    },
    "papermill": {
     "duration": 0.020056,
     "end_time": "2025-08-19T18:45:56.875314",
     "exception": false,
     "start_time": "2025-08-19T18:45:56.855258",
     "status": "completed"
    },
    "tags": []
   },
   "outputs": [
    {
     "name": "stdout",
     "output_type": "stream",
     "text": [
      "Using Seed: 2023\n"
     ]
    }
   ],
   "source": [
    "import numpy as np\n",
    "parsed_seed = int(seed)\n",
    "np.random.seed(parsed_seed)\n",
    "print(f\"Using Seed: {parsed_seed}\")"
   ]
  },
  {
   "cell_type": "markdown",
   "id": "b6e958b4",
   "metadata": {
    "papermill": {
     "duration": 0.009173,
     "end_time": "2025-08-19T18:45:56.893974",
     "exception": false,
     "start_time": "2025-08-19T18:45:56.884801",
     "status": "completed"
    },
    "tags": []
   },
   "source": [
    "# Loading Data"
   ]
  },
  {
   "cell_type": "code",
   "execution_count": 9,
   "id": "98701482",
   "metadata": {
    "execution": {
     "iopub.execute_input": "2025-08-19T18:45:56.913169Z",
     "iopub.status.busy": "2025-08-19T18:45:56.912866Z",
     "iopub.status.idle": "2025-08-19T18:46:07.667857Z",
     "shell.execute_reply": "2025-08-19T18:46:07.666569Z"
    },
    "papermill": {
     "duration": 10.766457,
     "end_time": "2025-08-19T18:46:07.669311",
     "exception": false,
     "start_time": "2025-08-19T18:45:56.902854",
     "status": "completed"
    },
    "tags": []
   },
   "outputs": [
    {
     "name": "stdout",
     "output_type": "stream",
     "text": [
      "Loading SIAB data from cache: data/siab_cached.csv.gz\n"
     ]
    },
    {
     "name": "stdout",
     "output_type": "stream",
     "text": [
      "(643690, 164)\n"
     ]
    }
   ],
   "source": [
    "from pathlib import Path\n",
    "import pandas as pd\n",
    "\n",
    "# File paths\n",
    "raw_file = Path(\"data/raw/siab.csv\")\n",
    "cache_file = Path(\"data/siab_cached.csv.gz\")\n",
    "\n",
    "# Ensure cache directory exists\n",
    "cache_file.parent.mkdir(parents=True, exist_ok=True)\n",
    "\n",
    "# Load with simple caching\n",
    "if cache_file.exists():\n",
    "    print(f\"Loading SIAB data from cache: {cache_file}\")\n",
    "    siab = pd.read_csv(cache_file, compression='gzip')\n",
    "else:\n",
    "    print(f\"Cache not found. Reading raw SIAB data: {raw_file}\")\n",
    "    siab = pd.read_csv(raw_file)\n",
    "    siab.to_csv(cache_file, index=False, compression='gzip')\n",
    "    print(f\"Cached SIAB data to: {cache_file}\")\n",
    "\n",
    "print(siab.shape)"
   ]
  },
  {
   "cell_type": "code",
   "execution_count": 10,
   "id": "058d2abb",
   "metadata": {
    "execution": {
     "iopub.execute_input": "2025-08-19T18:46:07.701180Z",
     "iopub.status.busy": "2025-08-19T18:46:07.700572Z",
     "iopub.status.idle": "2025-08-19T18:46:07.876929Z",
     "shell.execute_reply": "2025-08-19T18:46:07.876085Z"
    },
    "papermill": {
     "duration": 0.194538,
     "end_time": "2025-08-19T18:46:07.878701",
     "exception": false,
     "start_time": "2025-08-19T18:46:07.684163",
     "status": "completed"
    },
    "tags": []
   },
   "outputs": [
    {
     "data": {
      "text/html": [
       "<div>\n",
       "<style scoped>\n",
       "    .dataframe tbody tr th:only-of-type {\n",
       "        vertical-align: middle;\n",
       "    }\n",
       "\n",
       "    .dataframe tbody tr th {\n",
       "        vertical-align: top;\n",
       "    }\n",
       "\n",
       "    .dataframe thead th {\n",
       "        text-align: right;\n",
       "    }\n",
       "</style>\n",
       "<table border=\"1\" class=\"dataframe\">\n",
       "  <thead>\n",
       "    <tr style=\"text-align: right;\">\n",
       "      <th></th>\n",
       "      <th>persnr</th>\n",
       "      <th>year</th>\n",
       "      <th>nrEntry</th>\n",
       "      <th>ltue</th>\n",
       "      <th>employed_before</th>\n",
       "      <th>receipt_leh_before</th>\n",
       "      <th>receipt_lhg_before</th>\n",
       "      <th>se_before</th>\n",
       "      <th>ASU_notue_seeking_before</th>\n",
       "      <th>ASU_other_before</th>\n",
       "      <th>...</th>\n",
       "      <th>minijob_tot_dur_byage</th>\n",
       "      <th>ft_tot_dur_byage</th>\n",
       "      <th>befrist_tot_dur_byage</th>\n",
       "      <th>leih_tot_dur_byage</th>\n",
       "      <th>LHG_tot_dur_byage</th>\n",
       "      <th>LEH_tot_dur_byage</th>\n",
       "      <th>almp_tot_dur_byage</th>\n",
       "      <th>almp_aw_tot_dur_byage</th>\n",
       "      <th>se_tot_dur_byage</th>\n",
       "      <th>seeking1_tot_dur_byage</th>\n",
       "    </tr>\n",
       "  </thead>\n",
       "  <tbody>\n",
       "    <tr>\n",
       "      <th>0</th>\n",
       "      <td>7</td>\n",
       "      <td>2015</td>\n",
       "      <td>1</td>\n",
       "      <td>0</td>\n",
       "      <td>1</td>\n",
       "      <td>0</td>\n",
       "      <td>0</td>\n",
       "      <td>0</td>\n",
       "      <td>1</td>\n",
       "      <td>0</td>\n",
       "      <td>...</td>\n",
       "      <td>0.000000</td>\n",
       "      <td>0.000000</td>\n",
       "      <td>15.043478</td>\n",
       "      <td>0.000000</td>\n",
       "      <td>0.000000</td>\n",
       "      <td>0.000000</td>\n",
       "      <td>0.000000</td>\n",
       "      <td>0.000000</td>\n",
       "      <td>0.000000</td>\n",
       "      <td>0.000000</td>\n",
       "    </tr>\n",
       "    <tr>\n",
       "      <th>1</th>\n",
       "      <td>18</td>\n",
       "      <td>2010</td>\n",
       "      <td>1</td>\n",
       "      <td>1</td>\n",
       "      <td>0</td>\n",
       "      <td>0</td>\n",
       "      <td>0</td>\n",
       "      <td>0</td>\n",
       "      <td>0</td>\n",
       "      <td>0</td>\n",
       "      <td>...</td>\n",
       "      <td>0.000000</td>\n",
       "      <td>0.000000</td>\n",
       "      <td>0.000000</td>\n",
       "      <td>0.000000</td>\n",
       "      <td>0.000000</td>\n",
       "      <td>0.000000</td>\n",
       "      <td>0.000000</td>\n",
       "      <td>0.000000</td>\n",
       "      <td>0.000000</td>\n",
       "      <td>0.000000</td>\n",
       "    </tr>\n",
       "    <tr>\n",
       "      <th>2</th>\n",
       "      <td>18</td>\n",
       "      <td>2011</td>\n",
       "      <td>2</td>\n",
       "      <td>0</td>\n",
       "      <td>1</td>\n",
       "      <td>0</td>\n",
       "      <td>1</td>\n",
       "      <td>0</td>\n",
       "      <td>1</td>\n",
       "      <td>0</td>\n",
       "      <td>...</td>\n",
       "      <td>2.714286</td>\n",
       "      <td>2.714286</td>\n",
       "      <td>0.000000</td>\n",
       "      <td>0.000000</td>\n",
       "      <td>10.775510</td>\n",
       "      <td>0.000000</td>\n",
       "      <td>8.367347</td>\n",
       "      <td>0.000000</td>\n",
       "      <td>0.000000</td>\n",
       "      <td>9.836735</td>\n",
       "    </tr>\n",
       "    <tr>\n",
       "      <th>3</th>\n",
       "      <td>18</td>\n",
       "      <td>2012</td>\n",
       "      <td>3</td>\n",
       "      <td>0</td>\n",
       "      <td>1</td>\n",
       "      <td>0</td>\n",
       "      <td>1</td>\n",
       "      <td>0</td>\n",
       "      <td>1</td>\n",
       "      <td>0</td>\n",
       "      <td>...</td>\n",
       "      <td>4.200000</td>\n",
       "      <td>4.200000</td>\n",
       "      <td>0.000000</td>\n",
       "      <td>0.000000</td>\n",
       "      <td>12.100000</td>\n",
       "      <td>0.000000</td>\n",
       "      <td>9.400000</td>\n",
       "      <td>0.000000</td>\n",
       "      <td>0.000000</td>\n",
       "      <td>9.960000</td>\n",
       "    </tr>\n",
       "    <tr>\n",
       "      <th>4</th>\n",
       "      <td>18</td>\n",
       "      <td>2012</td>\n",
       "      <td>4</td>\n",
       "      <td>0</td>\n",
       "      <td>1</td>\n",
       "      <td>0</td>\n",
       "      <td>1</td>\n",
       "      <td>0</td>\n",
       "      <td>1</td>\n",
       "      <td>0</td>\n",
       "      <td>...</td>\n",
       "      <td>5.460000</td>\n",
       "      <td>5.460000</td>\n",
       "      <td>0.000000</td>\n",
       "      <td>0.000000</td>\n",
       "      <td>13.360000</td>\n",
       "      <td>0.000000</td>\n",
       "      <td>10.320000</td>\n",
       "      <td>0.000000</td>\n",
       "      <td>0.000000</td>\n",
       "      <td>10.280000</td>\n",
       "    </tr>\n",
       "    <tr>\n",
       "      <th>...</th>\n",
       "      <td>...</td>\n",
       "      <td>...</td>\n",
       "      <td>...</td>\n",
       "      <td>...</td>\n",
       "      <td>...</td>\n",
       "      <td>...</td>\n",
       "      <td>...</td>\n",
       "      <td>...</td>\n",
       "      <td>...</td>\n",
       "      <td>...</td>\n",
       "      <td>...</td>\n",
       "      <td>...</td>\n",
       "      <td>...</td>\n",
       "      <td>...</td>\n",
       "      <td>...</td>\n",
       "      <td>...</td>\n",
       "      <td>...</td>\n",
       "      <td>...</td>\n",
       "      <td>...</td>\n",
       "      <td>...</td>\n",
       "      <td>...</td>\n",
       "    </tr>\n",
       "    <tr>\n",
       "      <th>643685</th>\n",
       "      <td>1827860</td>\n",
       "      <td>2013</td>\n",
       "      <td>1</td>\n",
       "      <td>0</td>\n",
       "      <td>0</td>\n",
       "      <td>0</td>\n",
       "      <td>1</td>\n",
       "      <td>0</td>\n",
       "      <td>0</td>\n",
       "      <td>1</td>\n",
       "      <td>...</td>\n",
       "      <td>0.000000</td>\n",
       "      <td>0.000000</td>\n",
       "      <td>0.000000</td>\n",
       "      <td>0.000000</td>\n",
       "      <td>0.612903</td>\n",
       "      <td>0.000000</td>\n",
       "      <td>0.000000</td>\n",
       "      <td>0.000000</td>\n",
       "      <td>0.000000</td>\n",
       "      <td>0.000000</td>\n",
       "    </tr>\n",
       "    <tr>\n",
       "      <th>643686</th>\n",
       "      <td>1827860</td>\n",
       "      <td>2015</td>\n",
       "      <td>2</td>\n",
       "      <td>1</td>\n",
       "      <td>0</td>\n",
       "      <td>0</td>\n",
       "      <td>1</td>\n",
       "      <td>0</td>\n",
       "      <td>1</td>\n",
       "      <td>0</td>\n",
       "      <td>...</td>\n",
       "      <td>0.000000</td>\n",
       "      <td>0.000000</td>\n",
       "      <td>0.212121</td>\n",
       "      <td>0.212121</td>\n",
       "      <td>17.363636</td>\n",
       "      <td>0.000000</td>\n",
       "      <td>8.909091</td>\n",
       "      <td>0.000000</td>\n",
       "      <td>0.000000</td>\n",
       "      <td>7.121212</td>\n",
       "    </tr>\n",
       "    <tr>\n",
       "      <th>643687</th>\n",
       "      <td>1827860</td>\n",
       "      <td>2016</td>\n",
       "      <td>3</td>\n",
       "      <td>1</td>\n",
       "      <td>0</td>\n",
       "      <td>0</td>\n",
       "      <td>1</td>\n",
       "      <td>1</td>\n",
       "      <td>0</td>\n",
       "      <td>1</td>\n",
       "      <td>...</td>\n",
       "      <td>0.000000</td>\n",
       "      <td>0.000000</td>\n",
       "      <td>0.294118</td>\n",
       "      <td>0.205882</td>\n",
       "      <td>34.705882</td>\n",
       "      <td>0.000000</td>\n",
       "      <td>10.352941</td>\n",
       "      <td>1.705882</td>\n",
       "      <td>1.705882</td>\n",
       "      <td>23.911765</td>\n",
       "    </tr>\n",
       "    <tr>\n",
       "      <th>643688</th>\n",
       "      <td>1827869</td>\n",
       "      <td>2013</td>\n",
       "      <td>1</td>\n",
       "      <td>1</td>\n",
       "      <td>1</td>\n",
       "      <td>0</td>\n",
       "      <td>0</td>\n",
       "      <td>0</td>\n",
       "      <td>1</td>\n",
       "      <td>0</td>\n",
       "      <td>...</td>\n",
       "      <td>0.000000</td>\n",
       "      <td>0.000000</td>\n",
       "      <td>0.000000</td>\n",
       "      <td>0.000000</td>\n",
       "      <td>0.000000</td>\n",
       "      <td>0.525424</td>\n",
       "      <td>0.000000</td>\n",
       "      <td>0.000000</td>\n",
       "      <td>0.000000</td>\n",
       "      <td>0.000000</td>\n",
       "    </tr>\n",
       "    <tr>\n",
       "      <th>643689</th>\n",
       "      <td>1827869</td>\n",
       "      <td>2014</td>\n",
       "      <td>2</td>\n",
       "      <td>0</td>\n",
       "      <td>0</td>\n",
       "      <td>1</td>\n",
       "      <td>0</td>\n",
       "      <td>0</td>\n",
       "      <td>1</td>\n",
       "      <td>0</td>\n",
       "      <td>...</td>\n",
       "      <td>0.000000</td>\n",
       "      <td>0.666667</td>\n",
       "      <td>0.666667</td>\n",
       "      <td>0.000000</td>\n",
       "      <td>0.000000</td>\n",
       "      <td>8.950000</td>\n",
       "      <td>1.033333</td>\n",
       "      <td>0.083333</td>\n",
       "      <td>0.083333</td>\n",
       "      <td>8.133333</td>\n",
       "    </tr>\n",
       "  </tbody>\n",
       "</table>\n",
       "<p>643690 rows × 164 columns</p>\n",
       "</div>"
      ],
      "text/plain": [
       "         persnr  year  nrEntry  ltue  employed_before  receipt_leh_before  \\\n",
       "0             7  2015        1     0                1                   0   \n",
       "1            18  2010        1     1                0                   0   \n",
       "2            18  2011        2     0                1                   0   \n",
       "3            18  2012        3     0                1                   0   \n",
       "4            18  2012        4     0                1                   0   \n",
       "...         ...   ...      ...   ...              ...                 ...   \n",
       "643685  1827860  2013        1     0                0                   0   \n",
       "643686  1827860  2015        2     1                0                   0   \n",
       "643687  1827860  2016        3     1                0                   0   \n",
       "643688  1827869  2013        1     1                1                   0   \n",
       "643689  1827869  2014        2     0                0                   1   \n",
       "\n",
       "        receipt_lhg_before  se_before  ASU_notue_seeking_before  \\\n",
       "0                        0          0                         1   \n",
       "1                        0          0                         0   \n",
       "2                        1          0                         1   \n",
       "3                        1          0                         1   \n",
       "4                        1          0                         1   \n",
       "...                    ...        ...                       ...   \n",
       "643685                   1          0                         0   \n",
       "643686                   1          0                         1   \n",
       "643687                   1          1                         0   \n",
       "643688                   0          0                         1   \n",
       "643689                   0          0                         1   \n",
       "\n",
       "        ASU_other_before  ...  minijob_tot_dur_byage  ft_tot_dur_byage  \\\n",
       "0                      0  ...               0.000000          0.000000   \n",
       "1                      0  ...               0.000000          0.000000   \n",
       "2                      0  ...               2.714286          2.714286   \n",
       "3                      0  ...               4.200000          4.200000   \n",
       "4                      0  ...               5.460000          5.460000   \n",
       "...                  ...  ...                    ...               ...   \n",
       "643685                 1  ...               0.000000          0.000000   \n",
       "643686                 0  ...               0.000000          0.000000   \n",
       "643687                 1  ...               0.000000          0.000000   \n",
       "643688                 0  ...               0.000000          0.000000   \n",
       "643689                 0  ...               0.000000          0.666667   \n",
       "\n",
       "        befrist_tot_dur_byage  leih_tot_dur_byage  LHG_tot_dur_byage  \\\n",
       "0                   15.043478            0.000000           0.000000   \n",
       "1                    0.000000            0.000000           0.000000   \n",
       "2                    0.000000            0.000000          10.775510   \n",
       "3                    0.000000            0.000000          12.100000   \n",
       "4                    0.000000            0.000000          13.360000   \n",
       "...                       ...                 ...                ...   \n",
       "643685               0.000000            0.000000           0.612903   \n",
       "643686               0.212121            0.212121          17.363636   \n",
       "643687               0.294118            0.205882          34.705882   \n",
       "643688               0.000000            0.000000           0.000000   \n",
       "643689               0.666667            0.000000           0.000000   \n",
       "\n",
       "        LEH_tot_dur_byage  almp_tot_dur_byage  almp_aw_tot_dur_byage  \\\n",
       "0                0.000000            0.000000               0.000000   \n",
       "1                0.000000            0.000000               0.000000   \n",
       "2                0.000000            8.367347               0.000000   \n",
       "3                0.000000            9.400000               0.000000   \n",
       "4                0.000000           10.320000               0.000000   \n",
       "...                   ...                 ...                    ...   \n",
       "643685           0.000000            0.000000               0.000000   \n",
       "643686           0.000000            8.909091               0.000000   \n",
       "643687           0.000000           10.352941               1.705882   \n",
       "643688           0.525424            0.000000               0.000000   \n",
       "643689           8.950000            1.033333               0.083333   \n",
       "\n",
       "        se_tot_dur_byage  seeking1_tot_dur_byage  \n",
       "0               0.000000                0.000000  \n",
       "1               0.000000                0.000000  \n",
       "2               0.000000                9.836735  \n",
       "3               0.000000                9.960000  \n",
       "4               0.000000               10.280000  \n",
       "...                  ...                     ...  \n",
       "643685          0.000000                0.000000  \n",
       "643686          0.000000                7.121212  \n",
       "643687          1.705882               23.911765  \n",
       "643688          0.000000                0.000000  \n",
       "643689          0.083333                8.133333  \n",
       "\n",
       "[643690 rows x 164 columns]"
      ]
     },
     "execution_count": 10,
     "metadata": {},
     "output_type": "execute_result"
    }
   ],
   "source": [
    "siab"
   ]
  },
  {
   "cell_type": "markdown",
   "id": "1f87e805",
   "metadata": {
    "papermill": {
     "duration": 0.009956,
     "end_time": "2025-08-19T18:46:07.901407",
     "exception": false,
     "start_time": "2025-08-19T18:46:07.891451",
     "status": "completed"
    },
    "tags": []
   },
   "source": [
    "# Splitting Data and Setting Training Data Size"
   ]
  },
  {
   "cell_type": "code",
   "execution_count": 11,
   "id": "910ae358",
   "metadata": {
    "execution": {
     "iopub.execute_input": "2025-08-19T18:46:07.923682Z",
     "iopub.status.busy": "2025-08-19T18:46:07.922550Z",
     "iopub.status.idle": "2025-08-19T18:46:08.999278Z",
     "shell.execute_reply": "2025-08-19T18:46:08.998047Z"
    },
    "papermill": {
     "duration": 1.09249,
     "end_time": "2025-08-19T18:46:09.003378",
     "exception": false,
     "start_time": "2025-08-19T18:46:07.910888",
     "status": "completed"
    },
    "tags": []
   },
   "outputs": [],
   "source": [
    "from fairness_multiverse.universe import sample_by_year_size\n",
    "\n",
    "siab_train = sample_by_year_size(siab,\n",
    "                               training_year=universe[\"training_year\"],\n",
    "                               training_size=universe[\"training_size\"])"
   ]
  },
  {
   "cell_type": "code",
   "execution_count": 12,
   "id": "919c8ff5",
   "metadata": {
    "execution": {
     "iopub.execute_input": "2025-08-19T18:46:09.039660Z",
     "iopub.status.busy": "2025-08-19T18:46:09.038615Z",
     "iopub.status.idle": "2025-08-19T18:46:09.048878Z",
     "shell.execute_reply": "2025-08-19T18:46:09.047628Z"
    },
    "papermill": {
     "duration": 0.025,
     "end_time": "2025-08-19T18:46:09.050356",
     "exception": false,
     "start_time": "2025-08-19T18:46:09.025356",
     "status": "completed"
    },
    "tags": []
   },
   "outputs": [
    {
     "data": {
      "text/plain": [
       "(5000, 164)"
      ]
     },
     "execution_count": 12,
     "metadata": {},
     "output_type": "execute_result"
    }
   ],
   "source": [
    "siab_train.shape"
   ]
  },
  {
   "cell_type": "code",
   "execution_count": 13,
   "id": "feb13bf4",
   "metadata": {
    "execution": {
     "iopub.execute_input": "2025-08-19T18:46:09.073520Z",
     "iopub.status.busy": "2025-08-19T18:46:09.072429Z",
     "iopub.status.idle": "2025-08-19T18:46:09.086106Z",
     "shell.execute_reply": "2025-08-19T18:46:09.084991Z"
    },
    "papermill": {
     "duration": 0.026706,
     "end_time": "2025-08-19T18:46:09.087912",
     "exception": false,
     "start_time": "2025-08-19T18:46:09.061206",
     "status": "completed"
    },
    "tags": []
   },
   "outputs": [
    {
     "data": {
      "text/plain": [
       "year\n",
       "2010    1000\n",
       "2011    1000\n",
       "2012    1000\n",
       "2013    1000\n",
       "2014    1000\n",
       "dtype: int64"
      ]
     },
     "metadata": {},
     "output_type": "display_data"
    }
   ],
   "source": [
    "display(siab_train.groupby(\"year\").size())"
   ]
  },
  {
   "cell_type": "code",
   "execution_count": 14,
   "id": "0997782f",
   "metadata": {
    "execution": {
     "iopub.execute_input": "2025-08-19T18:46:09.112721Z",
     "iopub.status.busy": "2025-08-19T18:46:09.111768Z",
     "iopub.status.idle": "2025-08-19T18:46:09.372453Z",
     "shell.execute_reply": "2025-08-19T18:46:09.371359Z"
    },
    "papermill": {
     "duration": 0.275546,
     "end_time": "2025-08-19T18:46:09.375707",
     "exception": false,
     "start_time": "2025-08-19T18:46:09.100161",
     "status": "completed"
    },
    "tags": []
   },
   "outputs": [],
   "source": [
    "#siab_train = siab_s[siab_s.year < 2015]\n",
    "siab_calib = siab[siab.year == 2015]\n",
    "siab_test = siab[siab.year == 2016]"
   ]
  },
  {
   "cell_type": "code",
   "execution_count": 15,
   "id": "2c1e4012",
   "metadata": {
    "execution": {
     "iopub.execute_input": "2025-08-19T18:46:09.412872Z",
     "iopub.status.busy": "2025-08-19T18:46:09.411985Z",
     "iopub.status.idle": "2025-08-19T18:46:09.418169Z",
     "shell.execute_reply": "2025-08-19T18:46:09.416930Z"
    },
    "papermill": {
     "duration": 0.021254,
     "end_time": "2025-08-19T18:46:09.419708",
     "exception": false,
     "start_time": "2025-08-19T18:46:09.398454",
     "status": "completed"
    },
    "tags": []
   },
   "outputs": [],
   "source": [
    "#siab_calib.shape"
   ]
  },
  {
   "cell_type": "code",
   "execution_count": 16,
   "id": "f66b54ca",
   "metadata": {
    "execution": {
     "iopub.execute_input": "2025-08-19T18:46:09.442515Z",
     "iopub.status.busy": "2025-08-19T18:46:09.441604Z",
     "iopub.status.idle": "2025-08-19T18:46:09.448122Z",
     "shell.execute_reply": "2025-08-19T18:46:09.446945Z"
    },
    "papermill": {
     "duration": 0.019289,
     "end_time": "2025-08-19T18:46:09.449591",
     "exception": false,
     "start_time": "2025-08-19T18:46:09.430302",
     "status": "completed"
    },
    "tags": []
   },
   "outputs": [],
   "source": [
    "#siab_test.shape"
   ]
  },
  {
   "cell_type": "code",
   "execution_count": 17,
   "id": "27e4384d",
   "metadata": {
    "execution": {
     "iopub.execute_input": "2025-08-19T18:46:09.472675Z",
     "iopub.status.busy": "2025-08-19T18:46:09.471751Z",
     "iopub.status.idle": "2025-08-19T18:46:09.491086Z",
     "shell.execute_reply": "2025-08-19T18:46:09.489824Z"
    },
    "papermill": {
     "duration": 0.032732,
     "end_time": "2025-08-19T18:46:09.492901",
     "exception": false,
     "start_time": "2025-08-19T18:46:09.460169",
     "status": "completed"
    },
    "tags": []
   },
   "outputs": [],
   "source": [
    "X_train = siab_train.iloc[:,4:164]\n",
    "y_train = siab_train.iloc[:, [3]]"
   ]
  },
  {
   "cell_type": "code",
   "execution_count": 18,
   "id": "08ee8389",
   "metadata": {
    "execution": {
     "iopub.execute_input": "2025-08-19T18:46:09.519620Z",
     "iopub.status.busy": "2025-08-19T18:46:09.518656Z",
     "iopub.status.idle": "2025-08-19T18:46:09.581594Z",
     "shell.execute_reply": "2025-08-19T18:46:09.579776Z"
    },
    "papermill": {
     "duration": 0.077733,
     "end_time": "2025-08-19T18:46:09.584954",
     "exception": false,
     "start_time": "2025-08-19T18:46:09.507221",
     "status": "completed"
    },
    "tags": []
   },
   "outputs": [],
   "source": [
    "X_calib = siab_calib.iloc[:,4:164]\n",
    "y_calib = siab_calib.iloc[:, [3]]"
   ]
  },
  {
   "cell_type": "code",
   "execution_count": 19,
   "id": "b7ff42e0",
   "metadata": {
    "execution": {
     "iopub.execute_input": "2025-08-19T18:46:09.618134Z",
     "iopub.status.busy": "2025-08-19T18:46:09.617175Z",
     "iopub.status.idle": "2025-08-19T18:46:09.678886Z",
     "shell.execute_reply": "2025-08-19T18:46:09.677185Z"
    },
    "papermill": {
     "duration": 0.077063,
     "end_time": "2025-08-19T18:46:09.682162",
     "exception": false,
     "start_time": "2025-08-19T18:46:09.605099",
     "status": "completed"
    },
    "tags": []
   },
   "outputs": [],
   "source": [
    "X_test = siab_test.iloc[:,4:164]\n",
    "y_true = siab_test.iloc[:, [3]]"
   ]
  },
  {
   "cell_type": "code",
   "execution_count": 20,
   "id": "0275101e",
   "metadata": {
    "execution": {
     "iopub.execute_input": "2025-08-19T18:46:09.717512Z",
     "iopub.status.busy": "2025-08-19T18:46:09.716650Z",
     "iopub.status.idle": "2025-08-19T18:46:09.838168Z",
     "shell.execute_reply": "2025-08-19T18:46:09.837049Z"
    },
    "papermill": {
     "duration": 0.138052,
     "end_time": "2025-08-19T18:46:09.841601",
     "exception": false,
     "start_time": "2025-08-19T18:46:09.703549",
     "status": "completed"
    },
    "tags": []
   },
   "outputs": [],
   "source": [
    "# Auxiliary data needed downstream in the pipeline\n",
    "\n",
    "org_train = X_train.copy()\n",
    "org_test = X_test.copy()\n",
    "org_calib = X_calib.copy()"
   ]
  },
  {
   "cell_type": "markdown",
   "id": "b461e618",
   "metadata": {
    "papermill": {
     "duration": 0.011747,
     "end_time": "2025-08-19T18:46:09.875337",
     "exception": false,
     "start_time": "2025-08-19T18:46:09.863590",
     "status": "completed"
    },
    "tags": []
   },
   "source": [
    "# Preprocessing Data"
   ]
  },
  {
   "cell_type": "code",
   "execution_count": 21,
   "id": "78e74c4b",
   "metadata": {
    "execution": {
     "iopub.execute_input": "2025-08-19T18:46:09.898119Z",
     "iopub.status.busy": "2025-08-19T18:46:09.897135Z",
     "iopub.status.idle": "2025-08-19T18:46:09.905953Z",
     "shell.execute_reply": "2025-08-19T18:46:09.904552Z"
    },
    "papermill": {
     "duration": 0.022081,
     "end_time": "2025-08-19T18:46:09.907399",
     "exception": false,
     "start_time": "2025-08-19T18:46:09.885318",
     "status": "completed"
    },
    "tags": []
   },
   "outputs": [],
   "source": [
    "# EXCLUDE PROTECTED FEATURES\n",
    "# --------------------------\n",
    "\n",
    "excluded_features = universe[\"exclude_features\"].split(\"-\")\n",
    "excluded_features_dictionary = {\n",
    "    \"nationality\": [\"maxdeutsch1\", \"maxdeutsch.Missing.\"],\n",
    "    \"sex\": [\"frau1\"],\n",
    "    \"age\": [\"age\"],\n",
    "}"
   ]
  },
  {
   "cell_type": "code",
   "execution_count": 22,
   "id": "f8e63555",
   "metadata": {
    "execution": {
     "iopub.execute_input": "2025-08-19T18:46:09.930891Z",
     "iopub.status.busy": "2025-08-19T18:46:09.929990Z",
     "iopub.status.idle": "2025-08-19T18:46:09.942823Z",
     "shell.execute_reply": "2025-08-19T18:46:09.941742Z"
    },
    "papermill": {
     "duration": 0.026394,
     "end_time": "2025-08-19T18:46:09.944792",
     "exception": false,
     "start_time": "2025-08-19T18:46:09.918398",
     "status": "completed"
    },
    "tags": []
   },
   "outputs": [],
   "source": [
    "excluded_features_columns = [\n",
    "    excluded_features_dictionary[f] for f in excluded_features if len(f) > 0 and f != \"none\"\n",
    "]"
   ]
  },
  {
   "cell_type": "code",
   "execution_count": 23,
   "id": "da781f7c",
   "metadata": {
    "execution": {
     "iopub.execute_input": "2025-08-19T18:46:09.970478Z",
     "iopub.status.busy": "2025-08-19T18:46:09.969561Z",
     "iopub.status.idle": "2025-08-19T18:46:09.976899Z",
     "shell.execute_reply": "2025-08-19T18:46:09.975619Z"
    },
    "papermill": {
     "duration": 0.020661,
     "end_time": "2025-08-19T18:46:09.978386",
     "exception": false,
     "start_time": "2025-08-19T18:46:09.957725",
     "status": "completed"
    },
    "tags": []
   },
   "outputs": [],
   "source": [
    "from fairness_multiverse.universe import flatten_once\n",
    "\n",
    "excluded_features_columns = flatten_once(excluded_features_columns)"
   ]
  },
  {
   "cell_type": "code",
   "execution_count": 24,
   "id": "37fef0f0",
   "metadata": {
    "execution": {
     "iopub.execute_input": "2025-08-19T18:46:10.002215Z",
     "iopub.status.busy": "2025-08-19T18:46:10.001271Z",
     "iopub.status.idle": "2025-08-19T18:46:10.015691Z",
     "shell.execute_reply": "2025-08-19T18:46:10.014581Z"
    },
    "papermill": {
     "duration": 0.028111,
     "end_time": "2025-08-19T18:46:10.017623",
     "exception": false,
     "start_time": "2025-08-19T18:46:09.989512",
     "status": "completed"
    },
    "tags": []
   },
   "outputs": [
    {
     "name": "stdout",
     "output_type": "stream",
     "text": [
      "Dropping features: ['age']\n"
     ]
    }
   ],
   "source": [
    "if len(excluded_features_columns) > 0:\n",
    "    print(f\"Dropping features: {excluded_features_columns}\")\n",
    "    X_train.drop(excluded_features_columns, axis=1, inplace=True)"
   ]
  },
  {
   "cell_type": "code",
   "execution_count": 25,
   "id": "d029e3e9",
   "metadata": {
    "execution": {
     "iopub.execute_input": "2025-08-19T18:46:10.042583Z",
     "iopub.status.busy": "2025-08-19T18:46:10.041572Z",
     "iopub.status.idle": "2025-08-19T18:46:10.104819Z",
     "shell.execute_reply": "2025-08-19T18:46:10.103475Z"
    },
    "papermill": {
     "duration": 0.07931,
     "end_time": "2025-08-19T18:46:10.109230",
     "exception": false,
     "start_time": "2025-08-19T18:46:10.029920",
     "status": "completed"
    },
    "tags": []
   },
   "outputs": [
    {
     "name": "stdout",
     "output_type": "stream",
     "text": [
      "Dropping features: ['age']\n"
     ]
    }
   ],
   "source": [
    "if len(excluded_features_columns) > 0:\n",
    "    print(f\"Dropping features: {excluded_features_columns}\")\n",
    "    X_test.drop(excluded_features_columns, axis=1, inplace=True)"
   ]
  },
  {
   "cell_type": "code",
   "execution_count": 26,
   "id": "01d571f0",
   "metadata": {
    "execution": {
     "iopub.execute_input": "2025-08-19T18:46:10.144192Z",
     "iopub.status.busy": "2025-08-19T18:46:10.143105Z",
     "iopub.status.idle": "2025-08-19T18:46:10.198153Z",
     "shell.execute_reply": "2025-08-19T18:46:10.197533Z"
    },
    "papermill": {
     "duration": 0.070759,
     "end_time": "2025-08-19T18:46:10.201155",
     "exception": false,
     "start_time": "2025-08-19T18:46:10.130396",
     "status": "completed"
    },
    "tags": []
   },
   "outputs": [
    {
     "name": "stdout",
     "output_type": "stream",
     "text": [
      "Dropping features: ['age']\n"
     ]
    }
   ],
   "source": [
    "if len(excluded_features_columns) > 0:\n",
    "    print(f\"Dropping features: {excluded_features_columns}\")\n",
    "    X_calib.drop(excluded_features_columns, axis=1, inplace=True)"
   ]
  },
  {
   "cell_type": "code",
   "execution_count": 27,
   "id": "3037356e",
   "metadata": {
    "execution": {
     "iopub.execute_input": "2025-08-19T18:46:10.241075Z",
     "iopub.status.busy": "2025-08-19T18:46:10.240109Z",
     "iopub.status.idle": "2025-08-19T18:46:10.248385Z",
     "shell.execute_reply": "2025-08-19T18:46:10.246794Z"
    },
    "papermill": {
     "duration": 0.023574,
     "end_time": "2025-08-19T18:46:10.249891",
     "exception": false,
     "start_time": "2025-08-19T18:46:10.226317",
     "status": "completed"
    },
    "tags": []
   },
   "outputs": [],
   "source": [
    "# EXCLUDE CERTAIN SUBGROUPS\n",
    "# -------------------------\n",
    "\n",
    "mode = universe.get(\"exclude_subgroups\", \"keep-all\") # Defaults to \"keep-all\" if the key is missing."
   ]
  },
  {
   "cell_type": "code",
   "execution_count": 28,
   "id": "9d1e63fd",
   "metadata": {
    "execution": {
     "iopub.execute_input": "2025-08-19T18:46:10.275913Z",
     "iopub.status.busy": "2025-08-19T18:46:10.274543Z",
     "iopub.status.idle": "2025-08-19T18:46:10.285986Z",
     "shell.execute_reply": "2025-08-19T18:46:10.284849Z"
    },
    "papermill": {
     "duration": 0.025231,
     "end_time": "2025-08-19T18:46:10.287457",
     "exception": false,
     "start_time": "2025-08-19T18:46:10.262226",
     "status": "completed"
    },
    "tags": []
   },
   "outputs": [],
   "source": [
    "if mode == \"keep-all\":\n",
    "    keep_mask = pd.Series(True, index=org_train.index)\n",
    "\n",
    "elif mode == \"drop-non-german\":\n",
    "    keep_mask = (org_train[\"maxdeutsch1\"] == 1) & (org_train[\"maxdeutsch.Missing.\"] == 0)\n",
    "\n",
    "else:\n",
    "    raise ValueError(f\"Unsupported mode for exclude_subgroups: {mode}\")"
   ]
  },
  {
   "cell_type": "code",
   "execution_count": 29,
   "id": "d3b65474",
   "metadata": {
    "execution": {
     "iopub.execute_input": "2025-08-19T18:46:10.315275Z",
     "iopub.status.busy": "2025-08-19T18:46:10.314028Z",
     "iopub.status.idle": "2025-08-19T18:46:10.325724Z",
     "shell.execute_reply": "2025-08-19T18:46:10.324507Z"
    },
    "papermill": {
     "duration": 0.025813,
     "end_time": "2025-08-19T18:46:10.327300",
     "exception": false,
     "start_time": "2025-08-19T18:46:10.301487",
     "status": "completed"
    },
    "tags": []
   },
   "outputs": [
    {
     "name": "stdout",
     "output_type": "stream",
     "text": [
      "Dropping 657 rows (13.14%) where mode='drop-non-german'\n"
     ]
    }
   ],
   "source": [
    "n_drop = (~keep_mask).sum() # Calculates how many rows are set to be dropped\n",
    "if n_drop > 0:\n",
    "    pct = n_drop / len(keep_mask) * 100\n",
    "    print(f\"Dropping {n_drop} rows ({pct:.2f}%) where mode='{mode}'\")"
   ]
  },
  {
   "cell_type": "code",
   "execution_count": 30,
   "id": "f44389b3",
   "metadata": {
    "execution": {
     "iopub.execute_input": "2025-08-19T18:46:10.354342Z",
     "iopub.status.busy": "2025-08-19T18:46:10.353350Z",
     "iopub.status.idle": "2025-08-19T18:46:10.369173Z",
     "shell.execute_reply": "2025-08-19T18:46:10.368021Z"
    },
    "papermill": {
     "duration": 0.029803,
     "end_time": "2025-08-19T18:46:10.370708",
     "exception": false,
     "start_time": "2025-08-19T18:46:10.340905",
     "status": "completed"
    },
    "tags": []
   },
   "outputs": [],
   "source": [
    "X_train = X_train[keep_mask]"
   ]
  },
  {
   "cell_type": "code",
   "execution_count": 31,
   "id": "ceca8c2a",
   "metadata": {
    "execution": {
     "iopub.execute_input": "2025-08-19T18:46:10.401326Z",
     "iopub.status.busy": "2025-08-19T18:46:10.400137Z",
     "iopub.status.idle": "2025-08-19T18:46:10.409416Z",
     "shell.execute_reply": "2025-08-19T18:46:10.407811Z"
    },
    "papermill": {
     "duration": 0.023694,
     "end_time": "2025-08-19T18:46:10.410937",
     "exception": false,
     "start_time": "2025-08-19T18:46:10.387243",
     "status": "completed"
    },
    "tags": []
   },
   "outputs": [],
   "source": [
    "y_train = y_train[keep_mask]"
   ]
  },
  {
   "cell_type": "markdown",
   "id": "04d31e2f",
   "metadata": {
    "papermill": {
     "duration": 0.010912,
     "end_time": "2025-08-19T18:46:10.434403",
     "exception": false,
     "start_time": "2025-08-19T18:46:10.423491",
     "status": "completed"
    },
    "tags": []
   },
   "source": [
    "# Model Training"
   ]
  },
  {
   "cell_type": "code",
   "execution_count": 32,
   "id": "db991733",
   "metadata": {
    "execution": {
     "iopub.execute_input": "2025-08-19T18:46:10.458240Z",
     "iopub.status.busy": "2025-08-19T18:46:10.456966Z",
     "iopub.status.idle": "2025-08-19T18:46:10.561546Z",
     "shell.execute_reply": "2025-08-19T18:46:10.560843Z"
    },
    "papermill": {
     "duration": 0.119343,
     "end_time": "2025-08-19T18:46:10.564271",
     "exception": false,
     "start_time": "2025-08-19T18:46:10.444928",
     "status": "completed"
    },
    "tags": []
   },
   "outputs": [],
   "source": [
    "from sklearn.linear_model import LogisticRegression\n",
    "from sklearn.ensemble import GradientBoostingClassifier, RandomForestClassifier\n",
    "\n",
    "if (universe[\"model\"] == \"logreg\"):\n",
    "    model = LogisticRegression() #penalty=\"none\", solver=\"newton-cg\", max_iter=1)\n",
    "elif (universe[\"model\"] == \"penalized_logreg\"):\n",
    "    model = LogisticRegression(penalty=\"l2\", C=0.1) #, solver=\"newton-cg\", max_iter=1)\n",
    "elif (universe[\"model\"] == \"rf\"):\n",
    "    model = RandomForestClassifier() # n_estimators=100, n_jobs=-1\n",
    "elif (universe[\"model\"] == \"gbm\"):\n",
    "    model = GradientBoostingClassifier()\n",
    "elif (universe[\"model\"] == \"elasticnet\"):\n",
    "    model = LogisticRegression(penalty = 'elasticnet', solver = 'saga', l1_ratio = 0.5) # max_iter=5000\n",
    "else:\n",
    "    raise \"Unsupported universe.model\""
   ]
  },
  {
   "cell_type": "code",
   "execution_count": 33,
   "id": "a4b5cd25",
   "metadata": {
    "execution": {
     "iopub.execute_input": "2025-08-19T18:46:10.605563Z",
     "iopub.status.busy": "2025-08-19T18:46:10.604520Z",
     "iopub.status.idle": "2025-08-19T18:46:10.614786Z",
     "shell.execute_reply": "2025-08-19T18:46:10.613211Z"
    },
    "papermill": {
     "duration": 0.026281,
     "end_time": "2025-08-19T18:46:10.616335",
     "exception": false,
     "start_time": "2025-08-19T18:46:10.590054",
     "status": "completed"
    },
    "tags": []
   },
   "outputs": [],
   "source": [
    "from sklearn.pipeline import Pipeline\n",
    "from sklearn.preprocessing import StandardScaler\n",
    "\n",
    "model = Pipeline([\n",
    "    #(\"continuous_processor\", continuous_processor),\n",
    "    #(\"categorical_preprocessor\", categorical_preprocessor),\n",
    "    (\"scale\", StandardScaler() if universe[\"scale\"] == \"scale\" else None), \n",
    "    (\"model\", model),\n",
    "])"
   ]
  },
  {
   "cell_type": "code",
   "execution_count": 34,
   "id": "283a904d",
   "metadata": {
    "execution": {
     "iopub.execute_input": "2025-08-19T18:46:10.643823Z",
     "iopub.status.busy": "2025-08-19T18:46:10.642778Z",
     "iopub.status.idle": "2025-08-19T18:46:10.783978Z",
     "shell.execute_reply": "2025-08-19T18:46:10.783391Z"
    },
    "papermill": {
     "duration": 0.159812,
     "end_time": "2025-08-19T18:46:10.790340",
     "exception": false,
     "start_time": "2025-08-19T18:46:10.630528",
     "status": "completed"
    },
    "tags": []
   },
   "outputs": [
    {
     "name": "stderr",
     "output_type": "stream",
     "text": [
      "/dss/dsshome1/0C/ra93lal2/.local/share/virtualenvs/CMA_Fairness_v2-3j10GkSs/lib/python3.10/site-packages/sklearn/linear_model/_logistic.py:444: ConvergenceWarning: lbfgs failed to converge (status=1):\n",
      "STOP: TOTAL NO. of ITERATIONS REACHED LIMIT.\n",
      "\n",
      "Increase the number of iterations (max_iter) or scale the data as shown in:\n",
      "    https://scikit-learn.org/stable/modules/preprocessing.html\n",
      "Please also refer to the documentation for alternative solver options:\n",
      "    https://scikit-learn.org/stable/modules/linear_model.html#logistic-regression\n",
      "  n_iter_i = _check_optimize_result(\n"
     ]
    },
    {
     "data": {
      "text/html": [
       "<style>#sk-container-id-1 {color: black;background-color: white;}#sk-container-id-1 pre{padding: 0;}#sk-container-id-1 div.sk-toggleable {background-color: white;}#sk-container-id-1 label.sk-toggleable__label {cursor: pointer;display: block;width: 100%;margin-bottom: 0;padding: 0.3em;box-sizing: border-box;text-align: center;}#sk-container-id-1 label.sk-toggleable__label-arrow:before {content: \"▸\";float: left;margin-right: 0.25em;color: #696969;}#sk-container-id-1 label.sk-toggleable__label-arrow:hover:before {color: black;}#sk-container-id-1 div.sk-estimator:hover label.sk-toggleable__label-arrow:before {color: black;}#sk-container-id-1 div.sk-toggleable__content {max-height: 0;max-width: 0;overflow: hidden;text-align: left;background-color: #f0f8ff;}#sk-container-id-1 div.sk-toggleable__content pre {margin: 0.2em;color: black;border-radius: 0.25em;background-color: #f0f8ff;}#sk-container-id-1 input.sk-toggleable__control:checked~div.sk-toggleable__content {max-height: 200px;max-width: 100%;overflow: auto;}#sk-container-id-1 input.sk-toggleable__control:checked~label.sk-toggleable__label-arrow:before {content: \"▾\";}#sk-container-id-1 div.sk-estimator input.sk-toggleable__control:checked~label.sk-toggleable__label {background-color: #d4ebff;}#sk-container-id-1 div.sk-label input.sk-toggleable__control:checked~label.sk-toggleable__label {background-color: #d4ebff;}#sk-container-id-1 input.sk-hidden--visually {border: 0;clip: rect(1px 1px 1px 1px);clip: rect(1px, 1px, 1px, 1px);height: 1px;margin: -1px;overflow: hidden;padding: 0;position: absolute;width: 1px;}#sk-container-id-1 div.sk-estimator {font-family: monospace;background-color: #f0f8ff;border: 1px dotted black;border-radius: 0.25em;box-sizing: border-box;margin-bottom: 0.5em;}#sk-container-id-1 div.sk-estimator:hover {background-color: #d4ebff;}#sk-container-id-1 div.sk-parallel-item::after {content: \"\";width: 100%;border-bottom: 1px solid gray;flex-grow: 1;}#sk-container-id-1 div.sk-label:hover label.sk-toggleable__label {background-color: #d4ebff;}#sk-container-id-1 div.sk-serial::before {content: \"\";position: absolute;border-left: 1px solid gray;box-sizing: border-box;top: 0;bottom: 0;left: 50%;z-index: 0;}#sk-container-id-1 div.sk-serial {display: flex;flex-direction: column;align-items: center;background-color: white;padding-right: 0.2em;padding-left: 0.2em;position: relative;}#sk-container-id-1 div.sk-item {position: relative;z-index: 1;}#sk-container-id-1 div.sk-parallel {display: flex;align-items: stretch;justify-content: center;background-color: white;position: relative;}#sk-container-id-1 div.sk-item::before, #sk-container-id-1 div.sk-parallel-item::before {content: \"\";position: absolute;border-left: 1px solid gray;box-sizing: border-box;top: 0;bottom: 0;left: 50%;z-index: -1;}#sk-container-id-1 div.sk-parallel-item {display: flex;flex-direction: column;z-index: 1;position: relative;background-color: white;}#sk-container-id-1 div.sk-parallel-item:first-child::after {align-self: flex-end;width: 50%;}#sk-container-id-1 div.sk-parallel-item:last-child::after {align-self: flex-start;width: 50%;}#sk-container-id-1 div.sk-parallel-item:only-child::after {width: 0;}#sk-container-id-1 div.sk-dashed-wrapped {border: 1px dashed gray;margin: 0 0.4em 0.5em 0.4em;box-sizing: border-box;padding-bottom: 0.4em;background-color: white;}#sk-container-id-1 div.sk-label label {font-family: monospace;font-weight: bold;display: inline-block;line-height: 1.2em;}#sk-container-id-1 div.sk-label-container {text-align: center;}#sk-container-id-1 div.sk-container {/* jupyter's `normalize.less` sets `[hidden] { display: none; }` but bootstrap.min.css set `[hidden] { display: none !important; }` so we also need the `!important` here to be able to override the default hidden behavior on the sphinx rendered scikit-learn.org. See: https://github.com/scikit-learn/scikit-learn/issues/21755 */display: inline-block !important;position: relative;}#sk-container-id-1 div.sk-text-repr-fallback {display: none;}</style><div id=\"sk-container-id-1\" class=\"sk-top-container\"><div class=\"sk-text-repr-fallback\"><pre>Pipeline(steps=[(&#x27;scale&#x27;, None), (&#x27;model&#x27;, LogisticRegression(C=0.1))])</pre><b>In a Jupyter environment, please rerun this cell to show the HTML representation or trust the notebook. <br />On GitHub, the HTML representation is unable to render, please try loading this page with nbviewer.org.</b></div><div class=\"sk-container\" hidden><div class=\"sk-item sk-dashed-wrapped\"><div class=\"sk-label-container\"><div class=\"sk-label sk-toggleable\"><input class=\"sk-toggleable__control sk-hidden--visually\" id=\"sk-estimator-id-1\" type=\"checkbox\" ><label for=\"sk-estimator-id-1\" class=\"sk-toggleable__label sk-toggleable__label-arrow\">Pipeline</label><div class=\"sk-toggleable__content\"><pre>Pipeline(steps=[(&#x27;scale&#x27;, None), (&#x27;model&#x27;, LogisticRegression(C=0.1))])</pre></div></div></div><div class=\"sk-serial\"><div class=\"sk-item\"><div class=\"sk-estimator sk-toggleable\"><input class=\"sk-toggleable__control sk-hidden--visually\" id=\"sk-estimator-id-2\" type=\"checkbox\" ><label for=\"sk-estimator-id-2\" class=\"sk-toggleable__label sk-toggleable__label-arrow\">None</label><div class=\"sk-toggleable__content\"><pre>None</pre></div></div></div><div class=\"sk-item\"><div class=\"sk-estimator sk-toggleable\"><input class=\"sk-toggleable__control sk-hidden--visually\" id=\"sk-estimator-id-3\" type=\"checkbox\" ><label for=\"sk-estimator-id-3\" class=\"sk-toggleable__label sk-toggleable__label-arrow\">LogisticRegression</label><div class=\"sk-toggleable__content\"><pre>LogisticRegression(C=0.1)</pre></div></div></div></div></div></div></div>"
      ],
      "text/plain": [
       "Pipeline(steps=[('scale', None), ('model', LogisticRegression(C=0.1))])"
      ]
     },
     "execution_count": 34,
     "metadata": {},
     "output_type": "execute_result"
    }
   ],
   "source": [
    "model.fit(X_train, y_train.values.ravel())"
   ]
  },
  {
   "cell_type": "code",
   "execution_count": 35,
   "id": "6e15e313",
   "metadata": {
    "execution": {
     "iopub.execute_input": "2025-08-19T18:46:10.825553Z",
     "iopub.status.busy": "2025-08-19T18:46:10.824546Z",
     "iopub.status.idle": "2025-08-19T18:46:10.921573Z",
     "shell.execute_reply": "2025-08-19T18:46:10.920944Z"
    },
    "papermill": {
     "duration": 0.112958,
     "end_time": "2025-08-19T18:46:10.924090",
     "exception": false,
     "start_time": "2025-08-19T18:46:10.811132",
     "status": "completed"
    },
    "tags": []
   },
   "outputs": [
    {
     "data": {
      "text/plain": [
       "0.8614312785642626"
      ]
     },
     "execution_count": 35,
     "metadata": {},
     "output_type": "execute_result"
    }
   ],
   "source": [
    "from fairness_multiverse.universe import predict_w_threshold\n",
    "\n",
    "probs_test = model.predict_proba(X_test)\n",
    "\n",
    "'''\n",
    "Below code returns a boolean array (or binary 0/1 array depending on how it’s used) where each element \n",
    "is True if the probability of class 1 is greater than or equal to the threshold, and False otherwise.\n",
    "'''\n",
    "y_pred_default = predict_w_threshold(probs_test, 0.5)\n",
    "\n",
    "from sklearn.metrics import accuracy_score\n",
    "\n",
    "# Naive prediction\n",
    "accuracy_score(y_true = y_true, y_pred = y_pred_default)"
   ]
  },
  {
   "cell_type": "code",
   "execution_count": 36,
   "id": "6f14067c",
   "metadata": {
    "execution": {
     "iopub.execute_input": "2025-08-19T18:46:10.978407Z",
     "iopub.status.busy": "2025-08-19T18:46:10.977503Z",
     "iopub.status.idle": "2025-08-19T18:46:11.064958Z",
     "shell.execute_reply": "2025-08-19T18:46:11.064225Z"
    },
    "papermill": {
     "duration": 0.119318,
     "end_time": "2025-08-19T18:46:11.067050",
     "exception": false,
     "start_time": "2025-08-19T18:46:10.947732",
     "status": "completed"
    },
    "tags": []
   },
   "outputs": [
    {
     "data": {
      "text/plain": [
       "array([0, 0, 0, ..., 0, 0, 0])"
      ]
     },
     "execution_count": 36,
     "metadata": {},
     "output_type": "execute_result"
    }
   ],
   "source": [
    "model.predict(X_test)"
   ]
  },
  {
   "cell_type": "markdown",
   "id": "3759920c",
   "metadata": {
    "papermill": {
     "duration": 0.012284,
     "end_time": "2025-08-19T18:46:11.100217",
     "exception": false,
     "start_time": "2025-08-19T18:46:11.087933",
     "status": "completed"
    },
    "tags": []
   },
   "source": [
    "# Conformal Prediction"
   ]
  },
  {
   "cell_type": "code",
   "execution_count": 37,
   "id": "14b27f59",
   "metadata": {
    "execution": {
     "iopub.execute_input": "2025-08-19T18:46:11.124975Z",
     "iopub.status.busy": "2025-08-19T18:46:11.123908Z",
     "iopub.status.idle": "2025-08-19T18:46:11.132163Z",
     "shell.execute_reply": "2025-08-19T18:46:11.130573Z"
    },
    "papermill": {
     "duration": 0.02247,
     "end_time": "2025-08-19T18:46:11.133779",
     "exception": false,
     "start_time": "2025-08-19T18:46:11.111309",
     "status": "completed"
    },
    "tags": []
   },
   "outputs": [],
   "source": [
    "# Miscoverage level for conformal prediction (10% allowed error rate => 90% target coverage)\n",
    "alpha = 0.1"
   ]
  },
  {
   "cell_type": "code",
   "execution_count": 38,
   "id": "59102472",
   "metadata": {
    "execution": {
     "iopub.execute_input": "2025-08-19T18:46:11.161968Z",
     "iopub.status.busy": "2025-08-19T18:46:11.160973Z",
     "iopub.status.idle": "2025-08-19T18:46:11.252701Z",
     "shell.execute_reply": "2025-08-19T18:46:11.251950Z"
    },
    "papermill": {
     "duration": 0.107003,
     "end_time": "2025-08-19T18:46:11.255424",
     "exception": false,
     "start_time": "2025-08-19T18:46:11.148421",
     "status": "completed"
    },
    "tags": []
   },
   "outputs": [],
   "source": [
    "probs_calib = model.predict_proba(X_calib)"
   ]
  },
  {
   "cell_type": "code",
   "execution_count": 39,
   "id": "a792d4dd",
   "metadata": {
    "execution": {
     "iopub.execute_input": "2025-08-19T18:46:11.295762Z",
     "iopub.status.busy": "2025-08-19T18:46:11.294740Z",
     "iopub.status.idle": "2025-08-19T18:46:11.303633Z",
     "shell.execute_reply": "2025-08-19T18:46:11.301989Z"
    },
    "papermill": {
     "duration": 0.024659,
     "end_time": "2025-08-19T18:46:11.305118",
     "exception": false,
     "start_time": "2025-08-19T18:46:11.280459",
     "status": "completed"
    },
    "tags": []
   },
   "outputs": [],
   "source": [
    "y_calib = y_calib.values.ravel().astype(int)"
   ]
  },
  {
   "cell_type": "code",
   "execution_count": 40,
   "id": "650fd033",
   "metadata": {
    "execution": {
     "iopub.execute_input": "2025-08-19T18:46:11.333788Z",
     "iopub.status.busy": "2025-08-19T18:46:11.332355Z",
     "iopub.status.idle": "2025-08-19T18:46:11.344652Z",
     "shell.execute_reply": "2025-08-19T18:46:11.343009Z"
    },
    "papermill": {
     "duration": 0.026873,
     "end_time": "2025-08-19T18:46:11.346521",
     "exception": false,
     "start_time": "2025-08-19T18:46:11.319648",
     "status": "completed"
    },
    "tags": []
   },
   "outputs": [],
   "source": [
    "from fairness_multiverse.conformal import compute_nc_scores\n",
    "\n",
    "# Compute nonconformity scores on calibration set (1 - probability of true class)\n",
    "nc_scores = compute_nc_scores(probs_calib, y_calib)"
   ]
  },
  {
   "cell_type": "code",
   "execution_count": 41,
   "id": "28ada44c",
   "metadata": {
    "execution": {
     "iopub.execute_input": "2025-08-19T18:46:11.378867Z",
     "iopub.status.busy": "2025-08-19T18:46:11.377603Z",
     "iopub.status.idle": "2025-08-19T18:46:11.388292Z",
     "shell.execute_reply": "2025-08-19T18:46:11.387071Z"
    },
    "papermill": {
     "duration": 0.026965,
     "end_time": "2025-08-19T18:46:11.390087",
     "exception": false,
     "start_time": "2025-08-19T18:46:11.363122",
     "status": "completed"
    },
    "tags": []
   },
   "outputs": [],
   "source": [
    "from fairness_multiverse.conformal import find_threshold\n",
    "\n",
    "# Find conformal threshold q_hat for the given alpha (split conformal method)\n",
    "q_hat = find_threshold(nc_scores, alpha)"
   ]
  },
  {
   "cell_type": "code",
   "execution_count": 42,
   "id": "df56469e",
   "metadata": {
    "execution": {
     "iopub.execute_input": "2025-08-19T18:46:11.420269Z",
     "iopub.status.busy": "2025-08-19T18:46:11.418837Z",
     "iopub.status.idle": "2025-08-19T18:46:11.429786Z",
     "shell.execute_reply": "2025-08-19T18:46:11.428466Z"
    },
    "papermill": {
     "duration": 0.025449,
     "end_time": "2025-08-19T18:46:11.431358",
     "exception": false,
     "start_time": "2025-08-19T18:46:11.405909",
     "status": "completed"
    },
    "tags": []
   },
   "outputs": [
    {
     "data": {
      "text/plain": [
       "0.6737126657230479"
      ]
     },
     "execution_count": 42,
     "metadata": {},
     "output_type": "execute_result"
    }
   ],
   "source": [
    "q_hat"
   ]
  },
  {
   "cell_type": "code",
   "execution_count": 43,
   "id": "aa1f5faa",
   "metadata": {
    "execution": {
     "iopub.execute_input": "2025-08-19T18:46:11.460734Z",
     "iopub.status.busy": "2025-08-19T18:46:11.459315Z",
     "iopub.status.idle": "2025-08-19T18:46:11.975134Z",
     "shell.execute_reply": "2025-08-19T18:46:11.974409Z"
    },
    "papermill": {
     "duration": 0.531558,
     "end_time": "2025-08-19T18:46:11.977866",
     "exception": false,
     "start_time": "2025-08-19T18:46:11.446308",
     "status": "completed"
    },
    "tags": []
   },
   "outputs": [],
   "source": [
    "from fairness_multiverse.conformal import predict_conformal_sets\n",
    "\n",
    "# Generate prediction sets for each test example\n",
    "pred_sets = predict_conformal_sets(model, X_test, q_hat)"
   ]
  },
  {
   "cell_type": "code",
   "execution_count": 44,
   "id": "97f67a6b",
   "metadata": {
    "execution": {
     "iopub.execute_input": "2025-08-19T18:46:12.022797Z",
     "iopub.status.busy": "2025-08-19T18:46:12.021516Z",
     "iopub.status.idle": "2025-08-19T18:46:12.030398Z",
     "shell.execute_reply": "2025-08-19T18:46:12.028825Z"
    },
    "papermill": {
     "duration": 0.025644,
     "end_time": "2025-08-19T18:46:12.031931",
     "exception": false,
     "start_time": "2025-08-19T18:46:12.006287",
     "status": "completed"
    },
    "tags": []
   },
   "outputs": [],
   "source": [
    "y_true = y_true.squeeze()"
   ]
  },
  {
   "cell_type": "code",
   "execution_count": 45,
   "id": "e700e9a7",
   "metadata": {
    "execution": {
     "iopub.execute_input": "2025-08-19T18:46:12.060657Z",
     "iopub.status.busy": "2025-08-19T18:46:12.059633Z",
     "iopub.status.idle": "2025-08-19T18:46:12.553325Z",
     "shell.execute_reply": "2025-08-19T18:46:12.552628Z"
    },
    "papermill": {
     "duration": 0.507989,
     "end_time": "2025-08-19T18:46:12.554745",
     "exception": false,
     "start_time": "2025-08-19T18:46:12.046756",
     "status": "completed"
    },
    "tags": []
   },
   "outputs": [],
   "source": [
    "from fairness_multiverse.conformal import evaluate_sets\n",
    "\n",
    "# Evaluate coverage and average set size on test data\n",
    "metrics = evaluate_sets(pred_sets, y_true)"
   ]
  },
  {
   "cell_type": "markdown",
   "id": "efbacec0",
   "metadata": {
    "papermill": {
     "duration": 0.011422,
     "end_time": "2025-08-19T18:46:12.578363",
     "exception": false,
     "start_time": "2025-08-19T18:46:12.566941",
     "status": "completed"
    },
    "tags": []
   },
   "source": [
    "# CP Metrics"
   ]
  },
  {
   "cell_type": "code",
   "execution_count": 46,
   "id": "9de55fb1",
   "metadata": {
    "execution": {
     "iopub.execute_input": "2025-08-19T18:46:12.605580Z",
     "iopub.status.busy": "2025-08-19T18:46:12.604616Z",
     "iopub.status.idle": "2025-08-19T18:46:12.610697Z",
     "shell.execute_reply": "2025-08-19T18:46:12.610088Z"
    },
    "papermill": {
     "duration": 0.021526,
     "end_time": "2025-08-19T18:46:12.611919",
     "exception": false,
     "start_time": "2025-08-19T18:46:12.590393",
     "status": "completed"
    },
    "tags": []
   },
   "outputs": [
    {
     "data": {
      "text/plain": [
       "{'coverage': 0.9142570504960428, 'avg_size': 1.2567049381339872}"
      ]
     },
     "execution_count": 46,
     "metadata": {},
     "output_type": "execute_result"
    }
   ],
   "source": [
    "metrics"
   ]
  },
  {
   "cell_type": "code",
   "execution_count": 47,
   "id": "64c340a1",
   "metadata": {
    "execution": {
     "iopub.execute_input": "2025-08-19T18:46:12.637985Z",
     "iopub.status.busy": "2025-08-19T18:46:12.637207Z",
     "iopub.status.idle": "2025-08-19T18:46:12.643472Z",
     "shell.execute_reply": "2025-08-19T18:46:12.642640Z"
    },
    "papermill": {
     "duration": 0.020322,
     "end_time": "2025-08-19T18:46:12.644680",
     "exception": false,
     "start_time": "2025-08-19T18:46:12.624358",
     "status": "completed"
    },
    "tags": []
   },
   "outputs": [],
   "source": [
    "example_universe = universe.copy()\n",
    "universe_training_year = example_universe.get(\"training_year\")\n",
    "universe_training_size = example_universe.get(\"training_size\")\n",
    "universe_scale = example_universe.get(\"scale\")\n",
    "universe_model = example_universe.get(\"model\")\n",
    "universe_exclude_features = example_universe.get(\"exclude_features\")\n",
    "universe_exclude_subgroups = example_universe.get(\"exclude_subgroups\")"
   ]
  },
  {
   "cell_type": "code",
   "execution_count": 48,
   "id": "dbb53cb4",
   "metadata": {
    "execution": {
     "iopub.execute_input": "2025-08-19T18:46:12.671609Z",
     "iopub.status.busy": "2025-08-19T18:46:12.670624Z",
     "iopub.status.idle": "2025-08-19T18:46:12.677132Z",
     "shell.execute_reply": "2025-08-19T18:46:12.676227Z"
    },
    "papermill": {
     "duration": 0.02053,
     "end_time": "2025-08-19T18:46:12.678277",
     "exception": false,
     "start_time": "2025-08-19T18:46:12.657747",
     "status": "completed"
    },
    "tags": []
   },
   "outputs": [],
   "source": [
    "cp_metrics_dict = {\n",
    "    \"universe_id\": [universe_id],\n",
    "    \"universe_training_year\": [universe_training_year],\n",
    "    \"universe_training_size\": [universe_training_size],\n",
    "    \"universe_scale\": [universe_scale],\n",
    "    \"universe_model\": [universe_model],\n",
    "    \"universe_exclude_features\": [universe_exclude_features],\n",
    "    \"universe_exclude_subgroups\": [universe_exclude_subgroups],\n",
    "    \"q_hat\": [q_hat],\n",
    "    \"coverage\": [metrics[\"coverage\"]],\n",
    "    \"avg_size\": [metrics[\"avg_size\"]],\n",
    "}"
   ]
  },
  {
   "cell_type": "code",
   "execution_count": 49,
   "id": "0d70d4b2",
   "metadata": {
    "execution": {
     "iopub.execute_input": "2025-08-19T18:46:12.708262Z",
     "iopub.status.busy": "2025-08-19T18:46:12.706108Z",
     "iopub.status.idle": "2025-08-19T18:46:12.718287Z",
     "shell.execute_reply": "2025-08-19T18:46:12.716645Z"
    },
    "papermill": {
     "duration": 0.027459,
     "end_time": "2025-08-19T18:46:12.719856",
     "exception": false,
     "start_time": "2025-08-19T18:46:12.692397",
     "status": "completed"
    },
    "tags": []
   },
   "outputs": [],
   "source": [
    "cp_metrics_df = pd.DataFrame(cp_metrics_dict)"
   ]
  },
  {
   "cell_type": "code",
   "execution_count": 50,
   "id": "b494403c",
   "metadata": {
    "execution": {
     "iopub.execute_input": "2025-08-19T18:46:12.748153Z",
     "iopub.status.busy": "2025-08-19T18:46:12.747567Z",
     "iopub.status.idle": "2025-08-19T18:46:12.761378Z",
     "shell.execute_reply": "2025-08-19T18:46:12.760041Z"
    },
    "papermill": {
     "duration": 0.027898,
     "end_time": "2025-08-19T18:46:12.762816",
     "exception": false,
     "start_time": "2025-08-19T18:46:12.734918",
     "status": "completed"
    },
    "tags": []
   },
   "outputs": [
    {
     "data": {
      "text/html": [
       "<div>\n",
       "<style scoped>\n",
       "    .dataframe tbody tr th:only-of-type {\n",
       "        vertical-align: middle;\n",
       "    }\n",
       "\n",
       "    .dataframe tbody tr th {\n",
       "        vertical-align: top;\n",
       "    }\n",
       "\n",
       "    .dataframe thead th {\n",
       "        text-align: right;\n",
       "    }\n",
       "</style>\n",
       "<table border=\"1\" class=\"dataframe\">\n",
       "  <thead>\n",
       "    <tr style=\"text-align: right;\">\n",
       "      <th></th>\n",
       "      <th>universe_id</th>\n",
       "      <th>universe_training_year</th>\n",
       "      <th>universe_training_size</th>\n",
       "      <th>universe_scale</th>\n",
       "      <th>universe_model</th>\n",
       "      <th>universe_exclude_features</th>\n",
       "      <th>universe_exclude_subgroups</th>\n",
       "      <th>q_hat</th>\n",
       "      <th>coverage</th>\n",
       "      <th>avg_size</th>\n",
       "    </tr>\n",
       "  </thead>\n",
       "  <tbody>\n",
       "    <tr>\n",
       "      <th>0</th>\n",
       "      <td>eccb431de479919218ccaf82ad151388</td>\n",
       "      <td>2010_14</td>\n",
       "      <td>5k</td>\n",
       "      <td>do-not-scale</td>\n",
       "      <td>penalized_logreg</td>\n",
       "      <td>age</td>\n",
       "      <td>drop-non-german</td>\n",
       "      <td>0.673713</td>\n",
       "      <td>0.914257</td>\n",
       "      <td>1.256705</td>\n",
       "    </tr>\n",
       "  </tbody>\n",
       "</table>\n",
       "</div>"
      ],
      "text/plain": [
       "                        universe_id universe_training_year  \\\n",
       "0  eccb431de479919218ccaf82ad151388                2010_14   \n",
       "\n",
       "  universe_training_size universe_scale    universe_model  \\\n",
       "0                     5k   do-not-scale  penalized_logreg   \n",
       "\n",
       "  universe_exclude_features universe_exclude_subgroups     q_hat  coverage  \\\n",
       "0                       age            drop-non-german  0.673713  0.914257   \n",
       "\n",
       "   avg_size  \n",
       "0  1.256705  "
      ]
     },
     "execution_count": 50,
     "metadata": {},
     "output_type": "execute_result"
    }
   ],
   "source": [
    "cp_metrics_df"
   ]
  },
  {
   "cell_type": "markdown",
   "id": "ed608b0b",
   "metadata": {
    "papermill": {
     "duration": 0.012313,
     "end_time": "2025-08-19T18:46:12.790565",
     "exception": false,
     "start_time": "2025-08-19T18:46:12.778252",
     "status": "completed"
    },
    "tags": []
   },
   "source": [
    "Conditional coverage & looking at subgroups"
   ]
  },
  {
   "cell_type": "code",
   "execution_count": 51,
   "id": "8968c366",
   "metadata": {
    "execution": {
     "iopub.execute_input": "2025-08-19T18:46:12.817482Z",
     "iopub.status.busy": "2025-08-19T18:46:12.817022Z",
     "iopub.status.idle": "2025-08-19T18:46:13.080953Z",
     "shell.execute_reply": "2025-08-19T18:46:13.079494Z"
    },
    "papermill": {
     "duration": 0.280286,
     "end_time": "2025-08-19T18:46:13.082663",
     "exception": false,
     "start_time": "2025-08-19T18:46:12.802377",
     "status": "completed"
    },
    "tags": []
   },
   "outputs": [],
   "source": [
    "from fairness_multiverse.conformal import build_cp_groups\n",
    "\n",
    "cp_groups_df = build_cp_groups(pred_sets, y_true, X_test.index, org_test)"
   ]
  },
  {
   "cell_type": "code",
   "execution_count": 52,
   "id": "292ddabf",
   "metadata": {
    "execution": {
     "iopub.execute_input": "2025-08-19T18:46:13.109756Z",
     "iopub.status.busy": "2025-08-19T18:46:13.108414Z",
     "iopub.status.idle": "2025-08-19T18:46:13.988132Z",
     "shell.execute_reply": "2025-08-19T18:46:13.986678Z"
    },
    "papermill": {
     "duration": 0.894557,
     "end_time": "2025-08-19T18:46:13.989799",
     "exception": false,
     "start_time": "2025-08-19T18:46:13.095242",
     "status": "completed"
    },
    "tags": []
   },
   "outputs": [],
   "source": [
    "# Define covered = 1 if true_label is in the predicted set\n",
    "cp_groups_df['covered'] = cp_groups_df.apply(\n",
    "    lambda r: int(r['true_label'] in r['pred_set']),\n",
    "    axis=1\n",
    ")"
   ]
  },
  {
   "cell_type": "code",
   "execution_count": 53,
   "id": "3a261692",
   "metadata": {
    "execution": {
     "iopub.execute_input": "2025-08-19T18:46:14.017770Z",
     "iopub.status.busy": "2025-08-19T18:46:14.016917Z",
     "iopub.status.idle": "2025-08-19T18:46:14.036991Z",
     "shell.execute_reply": "2025-08-19T18:46:14.035896Z"
    },
    "papermill": {
     "duration": 0.03726,
     "end_time": "2025-08-19T18:46:14.039500",
     "exception": false,
     "start_time": "2025-08-19T18:46:14.002240",
     "status": "completed"
    },
    "tags": []
   },
   "outputs": [],
   "source": [
    "subgroups = ['frau1','nongerman','nongerman_male','nongerman_female']\n",
    "\n",
    "# Conditional coverage for subgroup==1\n",
    "cond_coverage = {\n",
    "    g: cp_groups_df.loc[cp_groups_df[g]==1, 'covered'].mean()\n",
    "    for g in subgroups\n",
    "}"
   ]
  },
  {
   "cell_type": "code",
   "execution_count": 54,
   "id": "894fd600",
   "metadata": {
    "execution": {
     "iopub.execute_input": "2025-08-19T18:46:14.074017Z",
     "iopub.status.busy": "2025-08-19T18:46:14.073090Z",
     "iopub.status.idle": "2025-08-19T18:46:14.084215Z",
     "shell.execute_reply": "2025-08-19T18:46:14.082881Z"
    },
    "papermill": {
     "duration": 0.027577,
     "end_time": "2025-08-19T18:46:14.085907",
     "exception": false,
     "start_time": "2025-08-19T18:46:14.058330",
     "status": "completed"
    },
    "tags": []
   },
   "outputs": [
    {
     "data": {
      "text/plain": [
       "{'frau1': 0.9149211484027497,\n",
       " 'nongerman': 0.9654185145680121,\n",
       " 'nongerman_male': 0.9696478429253355,\n",
       " 'nongerman_female': 0.9584202682563339}"
      ]
     },
     "execution_count": 54,
     "metadata": {},
     "output_type": "execute_result"
    }
   ],
   "source": [
    "cond_coverage"
   ]
  },
  {
   "cell_type": "code",
   "execution_count": 55,
   "id": "942895c7",
   "metadata": {
    "execution": {
     "iopub.execute_input": "2025-08-19T18:46:14.115919Z",
     "iopub.status.busy": "2025-08-19T18:46:14.114775Z",
     "iopub.status.idle": "2025-08-19T18:46:14.125944Z",
     "shell.execute_reply": "2025-08-19T18:46:14.124873Z"
    },
    "papermill": {
     "duration": 0.027224,
     "end_time": "2025-08-19T18:46:14.127887",
     "exception": false,
     "start_time": "2025-08-19T18:46:14.100663",
     "status": "completed"
    },
    "tags": []
   },
   "outputs": [],
   "source": [
    "for subgroup, cov in cond_coverage.items():\n",
    "    cp_metrics_df[f\"cov_{subgroup}\"] = cov"
   ]
  },
  {
   "cell_type": "code",
   "execution_count": 56,
   "id": "3970120f",
   "metadata": {
    "execution": {
     "iopub.execute_input": "2025-08-19T18:46:14.160024Z",
     "iopub.status.busy": "2025-08-19T18:46:14.157542Z",
     "iopub.status.idle": "2025-08-19T18:46:14.188053Z",
     "shell.execute_reply": "2025-08-19T18:46:14.187316Z"
    },
    "papermill": {
     "duration": 0.046143,
     "end_time": "2025-08-19T18:46:14.189387",
     "exception": false,
     "start_time": "2025-08-19T18:46:14.143244",
     "status": "completed"
    },
    "tags": []
   },
   "outputs": [
    {
     "data": {
      "text/html": [
       "<div>\n",
       "<style scoped>\n",
       "    .dataframe tbody tr th:only-of-type {\n",
       "        vertical-align: middle;\n",
       "    }\n",
       "\n",
       "    .dataframe tbody tr th {\n",
       "        vertical-align: top;\n",
       "    }\n",
       "\n",
       "    .dataframe thead th {\n",
       "        text-align: right;\n",
       "    }\n",
       "</style>\n",
       "<table border=\"1\" class=\"dataframe\">\n",
       "  <thead>\n",
       "    <tr style=\"text-align: right;\">\n",
       "      <th></th>\n",
       "      <th>universe_id</th>\n",
       "      <th>universe_training_year</th>\n",
       "      <th>universe_training_size</th>\n",
       "      <th>universe_scale</th>\n",
       "      <th>universe_model</th>\n",
       "      <th>universe_exclude_features</th>\n",
       "      <th>universe_exclude_subgroups</th>\n",
       "      <th>q_hat</th>\n",
       "      <th>coverage</th>\n",
       "      <th>avg_size</th>\n",
       "      <th>cov_frau1</th>\n",
       "      <th>cov_nongerman</th>\n",
       "      <th>cov_nongerman_male</th>\n",
       "      <th>cov_nongerman_female</th>\n",
       "    </tr>\n",
       "  </thead>\n",
       "  <tbody>\n",
       "    <tr>\n",
       "      <th>0</th>\n",
       "      <td>eccb431de479919218ccaf82ad151388</td>\n",
       "      <td>2010_14</td>\n",
       "      <td>5k</td>\n",
       "      <td>do-not-scale</td>\n",
       "      <td>penalized_logreg</td>\n",
       "      <td>age</td>\n",
       "      <td>drop-non-german</td>\n",
       "      <td>0.673713</td>\n",
       "      <td>0.914257</td>\n",
       "      <td>1.256705</td>\n",
       "      <td>0.914921</td>\n",
       "      <td>0.965419</td>\n",
       "      <td>0.969648</td>\n",
       "      <td>0.95842</td>\n",
       "    </tr>\n",
       "  </tbody>\n",
       "</table>\n",
       "</div>"
      ],
      "text/plain": [
       "                        universe_id universe_training_year  \\\n",
       "0  eccb431de479919218ccaf82ad151388                2010_14   \n",
       "\n",
       "  universe_training_size universe_scale    universe_model  \\\n",
       "0                     5k   do-not-scale  penalized_logreg   \n",
       "\n",
       "  universe_exclude_features universe_exclude_subgroups     q_hat  coverage  \\\n",
       "0                       age            drop-non-german  0.673713  0.914257   \n",
       "\n",
       "   avg_size  cov_frau1  cov_nongerman  cov_nongerman_male  \\\n",
       "0  1.256705   0.914921       0.965419            0.969648   \n",
       "\n",
       "   cov_nongerman_female  \n",
       "0               0.95842  "
      ]
     },
     "execution_count": 56,
     "metadata": {},
     "output_type": "execute_result"
    }
   ],
   "source": [
    "cp_metrics_df"
   ]
  },
  {
   "cell_type": "markdown",
   "id": "3fc519cc",
   "metadata": {
    "papermill": {
     "duration": 0.012256,
     "end_time": "2025-08-19T18:46:14.214448",
     "exception": false,
     "start_time": "2025-08-19T18:46:14.202192",
     "status": "completed"
    },
    "tags": []
   },
   "source": [
    "# (Fairness) Metrics"
   ]
  },
  {
   "cell_type": "code",
   "execution_count": 57,
   "id": "a2e5e155",
   "metadata": {
    "execution": {
     "iopub.execute_input": "2025-08-19T18:46:14.241811Z",
     "iopub.status.busy": "2025-08-19T18:46:14.240794Z",
     "iopub.status.idle": "2025-08-19T18:46:14.271090Z",
     "shell.execute_reply": "2025-08-19T18:46:14.269991Z"
    },
    "papermill": {
     "duration": 0.046707,
     "end_time": "2025-08-19T18:46:14.273426",
     "exception": false,
     "start_time": "2025-08-19T18:46:14.226719",
     "status": "completed"
    },
    "tags": []
   },
   "outputs": [],
   "source": [
    "colname_to_bin = \"maxdeutsch1\"\n",
    "majority_value = org_train[colname_to_bin].mode()[0]\n",
    "\n",
    "org_test[\"majmin\"] = np.where(org_test[colname_to_bin] == majority_value, \"majority\", \"minority\")"
   ]
  },
  {
   "cell_type": "code",
   "execution_count": 58,
   "id": "17e3e4d5",
   "metadata": {
    "execution": {
     "iopub.execute_input": "2025-08-19T18:46:14.313746Z",
     "iopub.status.busy": "2025-08-19T18:46:14.312741Z",
     "iopub.status.idle": "2025-08-19T18:46:16.053231Z",
     "shell.execute_reply": "2025-08-19T18:46:16.052010Z"
    },
    "papermill": {
     "duration": 1.758161,
     "end_time": "2025-08-19T18:46:16.055584",
     "exception": false,
     "start_time": "2025-08-19T18:46:14.297423",
     "status": "completed"
    },
    "tags": []
   },
   "outputs": [],
   "source": [
    "example_universe = universe.copy()\n",
    "example_universe[\"cutoff\"] = example_universe[\"cutoff\"][0]\n",
    "example_universe[\"eval_fairness_grouping\"] = example_universe[\"eval_fairness_grouping\"][0]\n",
    "fairness_dict, metric_frame = universe_analysis.compute_metrics(\n",
    "    example_universe,\n",
    "    y_pred_prob=probs_test,\n",
    "    y_test=y_true,\n",
    "    org_test=org_test,\n",
    ")"
   ]
  },
  {
   "cell_type": "markdown",
   "id": "1fb7a0e9",
   "metadata": {
    "papermill": {
     "duration": 0.013296,
     "end_time": "2025-08-19T18:46:16.085292",
     "exception": false,
     "start_time": "2025-08-19T18:46:16.071996",
     "status": "completed"
    },
    "tags": []
   },
   "source": [
    "# Overall"
   ]
  },
  {
   "cell_type": "markdown",
   "id": "be1784b1",
   "metadata": {
    "papermill": {
     "duration": 0.012305,
     "end_time": "2025-08-19T18:46:16.111952",
     "exception": false,
     "start_time": "2025-08-19T18:46:16.099647",
     "status": "completed"
    },
    "tags": []
   },
   "source": [
    "Main fairness target: Equalized Odds. Seems to be a better fit than equal opportunity, since we're not only interested in Y = 1. Seems to be a better fit than demographic parity, since we also care about accuracy, not just equal distribution of preds.\n",
    "\n",
    "Pick column for computation of fairness metrics\n",
    "\n",
    "Performance\n",
    "Overall performance measures, most interesting in relation to the measures split by group below"
   ]
  },
  {
   "cell_type": "code",
   "execution_count": 59,
   "id": "b7672bee",
   "metadata": {
    "execution": {
     "iopub.execute_input": "2025-08-19T18:46:16.141241Z",
     "iopub.status.busy": "2025-08-19T18:46:16.140085Z",
     "iopub.status.idle": "2025-08-19T18:46:16.155776Z",
     "shell.execute_reply": "2025-08-19T18:46:16.154473Z"
    },
    "papermill": {
     "duration": 0.03356,
     "end_time": "2025-08-19T18:46:16.157935",
     "exception": false,
     "start_time": "2025-08-19T18:46:16.124375",
     "status": "completed"
    },
    "tags": []
   },
   "outputs": [
    {
     "data": {
      "text/plain": [
       "accuracy                   0.216821\n",
       "balanced accuracy          0.531739\n",
       "f1                         0.238360\n",
       "precision                  0.136167\n",
       "false positive rate        0.891857\n",
       "false negative rate        0.044665\n",
       "selection rate             0.900000\n",
       "count                  89710.000000\n",
       "dtype: float64"
      ]
     },
     "execution_count": 59,
     "metadata": {},
     "output_type": "execute_result"
    }
   ],
   "source": [
    "metric_frame.overall"
   ]
  },
  {
   "cell_type": "markdown",
   "id": "d93333c9",
   "metadata": {
    "papermill": {
     "duration": 0.016439,
     "end_time": "2025-08-19T18:46:16.189302",
     "exception": false,
     "start_time": "2025-08-19T18:46:16.172863",
     "status": "completed"
    },
    "tags": []
   },
   "source": [
    "By Group"
   ]
  },
  {
   "cell_type": "code",
   "execution_count": 60,
   "id": "52256966",
   "metadata": {
    "execution": {
     "iopub.execute_input": "2025-08-19T18:46:16.221152Z",
     "iopub.status.busy": "2025-08-19T18:46:16.220816Z",
     "iopub.status.idle": "2025-08-19T18:46:16.237066Z",
     "shell.execute_reply": "2025-08-19T18:46:16.235945Z"
    },
    "papermill": {
     "duration": 0.038952,
     "end_time": "2025-08-19T18:46:16.241164",
     "exception": false,
     "start_time": "2025-08-19T18:46:16.202212",
     "status": "completed"
    },
    "tags": []
   },
   "outputs": [
    {
     "data": {
      "text/html": [
       "<div>\n",
       "<style scoped>\n",
       "    .dataframe tbody tr th:only-of-type {\n",
       "        vertical-align: middle;\n",
       "    }\n",
       "\n",
       "    .dataframe tbody tr th {\n",
       "        vertical-align: top;\n",
       "    }\n",
       "\n",
       "    .dataframe thead th {\n",
       "        text-align: right;\n",
       "    }\n",
       "</style>\n",
       "<table border=\"1\" class=\"dataframe\">\n",
       "  <thead>\n",
       "    <tr style=\"text-align: right;\">\n",
       "      <th></th>\n",
       "      <th>accuracy</th>\n",
       "      <th>balanced accuracy</th>\n",
       "      <th>f1</th>\n",
       "      <th>precision</th>\n",
       "      <th>false positive rate</th>\n",
       "      <th>false negative rate</th>\n",
       "      <th>selection rate</th>\n",
       "      <th>count</th>\n",
       "    </tr>\n",
       "    <tr>\n",
       "      <th>majmin</th>\n",
       "      <th></th>\n",
       "      <th></th>\n",
       "      <th></th>\n",
       "      <th></th>\n",
       "      <th></th>\n",
       "      <th></th>\n",
       "      <th></th>\n",
       "      <th></th>\n",
       "    </tr>\n",
       "  </thead>\n",
       "  <tbody>\n",
       "    <tr>\n",
       "      <th>majority</th>\n",
       "      <td>0.238962</td>\n",
       "      <td>0.539423</td>\n",
       "      <td>0.247631</td>\n",
       "      <td>0.142420</td>\n",
       "      <td>0.868966</td>\n",
       "      <td>0.052188</td>\n",
       "      <td>0.879384</td>\n",
       "      <td>69170.0</td>\n",
       "    </tr>\n",
       "    <tr>\n",
       "      <th>minority</th>\n",
       "      <td>0.142259</td>\n",
       "      <td>0.508449</td>\n",
       "      <td>0.209246</td>\n",
       "      <td>0.117065</td>\n",
       "      <td>0.967477</td>\n",
       "      <td>0.015625</td>\n",
       "      <td>0.969426</td>\n",
       "      <td>20540.0</td>\n",
       "    </tr>\n",
       "  </tbody>\n",
       "</table>\n",
       "</div>"
      ],
      "text/plain": [
       "          accuracy  balanced accuracy        f1  precision  \\\n",
       "majmin                                                       \n",
       "majority  0.238962           0.539423  0.247631   0.142420   \n",
       "minority  0.142259           0.508449  0.209246   0.117065   \n",
       "\n",
       "          false positive rate  false negative rate  selection rate    count  \n",
       "majmin                                                                       \n",
       "majority             0.868966             0.052188        0.879384  69170.0  \n",
       "minority             0.967477             0.015625        0.969426  20540.0  "
      ]
     },
     "execution_count": 60,
     "metadata": {},
     "output_type": "execute_result"
    }
   ],
   "source": [
    "metric_frame.by_group"
   ]
  },
  {
   "cell_type": "code",
   "execution_count": 61,
   "id": "6e6c20ae",
   "metadata": {
    "execution": {
     "iopub.execute_input": "2025-08-19T18:46:16.332757Z",
     "iopub.status.busy": "2025-08-19T18:46:16.320538Z",
     "iopub.status.idle": "2025-08-19T18:46:18.163890Z",
     "shell.execute_reply": "2025-08-19T18:46:18.162622Z"
    },
    "papermill": {
     "duration": 1.894358,
     "end_time": "2025-08-19T18:46:18.166369",
     "exception": false,
     "start_time": "2025-08-19T18:46:16.272011",
     "status": "completed"
    },
    "tags": []
   },
   "outputs": [
    {
     "data": {
      "text/plain": [
       "array([[<Axes: title={'center': 'accuracy'}, xlabel='majmin'>,\n",
       "        <Axes: title={'center': 'balanced accuracy'}, xlabel='majmin'>,\n",
       "        <Axes: title={'center': 'f1'}, xlabel='majmin'>],\n",
       "       [<Axes: title={'center': 'precision'}, xlabel='majmin'>,\n",
       "        <Axes: title={'center': 'false positive rate'}, xlabel='majmin'>,\n",
       "        <Axes: title={'center': 'false negative rate'}, xlabel='majmin'>],\n",
       "       [<Axes: title={'center': 'selection rate'}, xlabel='majmin'>,\n",
       "        <Axes: title={'center': 'count'}, xlabel='majmin'>,\n",
       "        <Axes: xlabel='majmin'>]], dtype=object)"
      ]
     },
     "execution_count": 61,
     "metadata": {},
     "output_type": "execute_result"
    },
    {
     "data": {
      "image/png": "[encoded data removed]",
      "text/plain": [
       "<Figure size 1200x800 with 9 Axes>"
      ]
     },
     "metadata": {},
     "output_type": "display_data"
    }
   ],
   "source": [
    "# In a graphic\n",
    "metric_frame.by_group.plot.bar(\n",
    "    subplots=True,\n",
    "    layout=[3, 3],\n",
    "    legend=False,\n",
    "    figsize=[12, 8],\n",
    "    title=\"Show all metrics\",\n",
    ")"
   ]
  },
  {
   "cell_type": "markdown",
   "id": "b2e433ae",
   "metadata": {
    "papermill": {
     "duration": 0.014322,
     "end_time": "2025-08-19T18:46:18.202196",
     "exception": false,
     "start_time": "2025-08-19T18:46:18.187874",
     "status": "completed"
    },
    "tags": []
   },
   "source": [
    "# Final Output"
   ]
  },
  {
   "cell_type": "code",
   "execution_count": 62,
   "id": "3871301e",
   "metadata": {
    "execution": {
     "iopub.execute_input": "2025-08-19T18:46:18.248661Z",
     "iopub.status.busy": "2025-08-19T18:46:18.247985Z",
     "iopub.status.idle": "2025-08-19T18:46:18.254740Z",
     "shell.execute_reply": "2025-08-19T18:46:18.253929Z"
    },
    "papermill": {
     "duration": 0.040258,
     "end_time": "2025-08-19T18:46:18.256113",
     "exception": false,
     "start_time": "2025-08-19T18:46:18.215855",
     "status": "completed"
    },
    "tags": []
   },
   "outputs": [
    {
     "data": {
      "text/plain": [
       "4"
      ]
     },
     "execution_count": 62,
     "metadata": {},
     "output_type": "execute_result"
    }
   ],
   "source": [
    "sub_universes = universe_analysis.generate_sub_universes()\n",
    "len(sub_universes)"
   ]
  },
  {
   "cell_type": "code",
   "execution_count": 63,
   "id": "d9cfdaca",
   "metadata": {
    "execution": {
     "iopub.execute_input": "2025-08-19T18:46:18.285655Z",
     "iopub.status.busy": "2025-08-19T18:46:18.285154Z",
     "iopub.status.idle": "2025-08-19T18:46:18.296249Z",
     "shell.execute_reply": "2025-08-19T18:46:18.295562Z"
    },
    "papermill": {
     "duration": 0.026869,
     "end_time": "2025-08-19T18:46:18.297610",
     "exception": false,
     "start_time": "2025-08-19T18:46:18.270741",
     "status": "completed"
    },
    "tags": []
   },
   "outputs": [],
   "source": [
    "def filter_sub_universe_data(sub_universe, org_test):\n",
    "    # Keep all rows — no filtering\n",
    "    keep_rows_mask = np.ones(org_test.shape[0], dtype=bool)\n",
    "\n",
    "    print(f\"[INFO] Keeping all rows: {keep_rows_mask.sum()} rows retained.\")\n",
    "    return keep_rows_mask"
   ]
  },
  {
   "cell_type": "code",
   "execution_count": 64,
   "id": "2bc31ac1",
   "metadata": {
    "execution": {
     "iopub.execute_input": "2025-08-19T18:46:18.327619Z",
     "iopub.status.busy": "2025-08-19T18:46:18.327232Z",
     "iopub.status.idle": "2025-08-19T18:46:24.879887Z",
     "shell.execute_reply": "2025-08-19T18:46:24.878619Z"
    },
    "papermill": {
     "duration": 6.568836,
     "end_time": "2025-08-19T18:46:24.881625",
     "exception": false,
     "start_time": "2025-08-19T18:46:18.312789",
     "status": "completed"
    },
    "tags": []
   },
   "outputs": [
    {
     "name": "stdout",
     "output_type": "stream",
     "text": [
      "Stopping execution_time clock.\n",
      "[INFO] Keeping all rows: 89710 rows retained.\n"
     ]
    },
    {
     "name": "stdout",
     "output_type": "stream",
     "text": [
      "[INFO] Keeping all rows: 89710 rows retained.\n"
     ]
    },
    {
     "name": "stdout",
     "output_type": "stream",
     "text": [
      "[INFO] Keeping all rows: 89710 rows retained.\n"
     ]
    },
    {
     "name": "stdout",
     "output_type": "stream",
     "text": [
      "[INFO] Keeping all rows: 89710 rows retained.\n"
     ]
    },
    {
     "data": {
      "text/html": [
       "<div>\n",
       "<style scoped>\n",
       "    .dataframe tbody tr th:only-of-type {\n",
       "        vertical-align: middle;\n",
       "    }\n",
       "\n",
       "    .dataframe tbody tr th {\n",
       "        vertical-align: top;\n",
       "    }\n",
       "\n",
       "    .dataframe thead th {\n",
       "        text-align: right;\n",
       "    }\n",
       "</style>\n",
       "<table border=\"1\" class=\"dataframe\">\n",
       "  <thead>\n",
       "    <tr style=\"text-align: right;\">\n",
       "      <th></th>\n",
       "      <th>run_no</th>\n",
       "      <th>universe_id</th>\n",
       "      <th>universe_settings</th>\n",
       "      <th>execution_time</th>\n",
       "      <th>test_size_n</th>\n",
       "      <th>test_size_frac</th>\n",
       "      <th>fair_main_equalized_odds_difference</th>\n",
       "      <th>fair_main_equalized_odds_ratio</th>\n",
       "      <th>fair_main_demographic_parity_difference</th>\n",
       "      <th>fair_main_demographic_parity_ratio</th>\n",
       "      <th>...</th>\n",
       "      <th>perf_grp_precision_0</th>\n",
       "      <th>perf_grp_precision_1</th>\n",
       "      <th>perf_grp_false positive rate_0</th>\n",
       "      <th>perf_grp_false positive rate_1</th>\n",
       "      <th>perf_grp_false negative rate_0</th>\n",
       "      <th>perf_grp_false negative rate_1</th>\n",
       "      <th>perf_grp_selection rate_0</th>\n",
       "      <th>perf_grp_selection rate_1</th>\n",
       "      <th>perf_grp_count_0</th>\n",
       "      <th>perf_grp_count_1</th>\n",
       "    </tr>\n",
       "  </thead>\n",
       "  <tbody>\n",
       "    <tr>\n",
       "      <th>0</th>\n",
       "      <td>3</td>\n",
       "      <td>eccb431de479919218ccaf82ad151388</td>\n",
       "      <td>{\"cutoff\": \"quantile_0.1\", \"eval_fairness_grou...</td>\n",
       "      <td>21.540159</td>\n",
       "      <td>89710</td>\n",
       "      <td>1.0</td>\n",
       "      <td>0.098512</td>\n",
       "      <td>0.898177</td>\n",
       "      <td>0.090041</td>\n",
       "      <td>0.907119</td>\n",
       "      <td>...</td>\n",
       "      <td>NaN</td>\n",
       "      <td>NaN</td>\n",
       "      <td>NaN</td>\n",
       "      <td>NaN</td>\n",
       "      <td>NaN</td>\n",
       "      <td>NaN</td>\n",
       "      <td>NaN</td>\n",
       "      <td>NaN</td>\n",
       "      <td>NaN</td>\n",
       "      <td>NaN</td>\n",
       "    </tr>\n",
       "    <tr>\n",
       "      <th>0</th>\n",
       "      <td>3</td>\n",
       "      <td>eccb431de479919218ccaf82ad151388</td>\n",
       "      <td>{\"cutoff\": \"quantile_0.1\", \"eval_fairness_grou...</td>\n",
       "      <td>21.540159</td>\n",
       "      <td>89710</td>\n",
       "      <td>1.0</td>\n",
       "      <td>0.098512</td>\n",
       "      <td>0.898177</td>\n",
       "      <td>0.090041</td>\n",
       "      <td>0.907119</td>\n",
       "      <td>...</td>\n",
       "      <td>0.117065</td>\n",
       "      <td>0.142420</td>\n",
       "      <td>0.967477</td>\n",
       "      <td>0.868966</td>\n",
       "      <td>0.015625</td>\n",
       "      <td>0.052188</td>\n",
       "      <td>0.969426</td>\n",
       "      <td>0.879384</td>\n",
       "      <td>20540.0</td>\n",
       "      <td>69170.0</td>\n",
       "    </tr>\n",
       "    <tr>\n",
       "      <th>0</th>\n",
       "      <td>3</td>\n",
       "      <td>eccb431de479919218ccaf82ad151388</td>\n",
       "      <td>{\"cutoff\": \"quantile_0.25\", \"eval_fairness_gro...</td>\n",
       "      <td>21.540159</td>\n",
       "      <td>89710</td>\n",
       "      <td>1.0</td>\n",
       "      <td>0.234087</td>\n",
       "      <td>0.743452</td>\n",
       "      <td>0.215892</td>\n",
       "      <td>0.764427</td>\n",
       "      <td>...</td>\n",
       "      <td>NaN</td>\n",
       "      <td>NaN</td>\n",
       "      <td>NaN</td>\n",
       "      <td>NaN</td>\n",
       "      <td>NaN</td>\n",
       "      <td>NaN</td>\n",
       "      <td>NaN</td>\n",
       "      <td>NaN</td>\n",
       "      <td>NaN</td>\n",
       "      <td>NaN</td>\n",
       "    </tr>\n",
       "    <tr>\n",
       "      <th>0</th>\n",
       "      <td>3</td>\n",
       "      <td>eccb431de479919218ccaf82ad151388</td>\n",
       "      <td>{\"cutoff\": \"quantile_0.25\", \"eval_fairness_gro...</td>\n",
       "      <td>21.540159</td>\n",
       "      <td>89710</td>\n",
       "      <td>1.0</td>\n",
       "      <td>0.234087</td>\n",
       "      <td>0.743452</td>\n",
       "      <td>0.215892</td>\n",
       "      <td>0.764427</td>\n",
       "      <td>...</td>\n",
       "      <td>0.119156</td>\n",
       "      <td>0.159643</td>\n",
       "      <td>0.912448</td>\n",
       "      <td>0.678361</td>\n",
       "      <td>0.052787</td>\n",
       "      <td>0.153611</td>\n",
       "      <td>0.916456</td>\n",
       "      <td>0.700564</td>\n",
       "      <td>20540.0</td>\n",
       "      <td>69170.0</td>\n",
       "    </tr>\n",
       "  </tbody>\n",
       "</table>\n",
       "<p>4 rows × 50 columns</p>\n",
       "</div>"
      ],
      "text/plain": [
       "  run_no                       universe_id  \\\n",
       "0      3  eccb431de479919218ccaf82ad151388   \n",
       "0      3  eccb431de479919218ccaf82ad151388   \n",
       "0      3  eccb431de479919218ccaf82ad151388   \n",
       "0      3  eccb431de479919218ccaf82ad151388   \n",
       "\n",
       "                                   universe_settings  execution_time  \\\n",
       "0  {\"cutoff\": \"quantile_0.1\", \"eval_fairness_grou...       21.540159   \n",
       "0  {\"cutoff\": \"quantile_0.1\", \"eval_fairness_grou...       21.540159   \n",
       "0  {\"cutoff\": \"quantile_0.25\", \"eval_fairness_gro...       21.540159   \n",
       "0  {\"cutoff\": \"quantile_0.25\", \"eval_fairness_gro...       21.540159   \n",
       "\n",
       "   test_size_n  test_size_frac  fair_main_equalized_odds_difference  \\\n",
       "0        89710             1.0                             0.098512   \n",
       "0        89710             1.0                             0.098512   \n",
       "0        89710             1.0                             0.234087   \n",
       "0        89710             1.0                             0.234087   \n",
       "\n",
       "   fair_main_equalized_odds_ratio  fair_main_demographic_parity_difference  \\\n",
       "0                        0.898177                                 0.090041   \n",
       "0                        0.898177                                 0.090041   \n",
       "0                        0.743452                                 0.215892   \n",
       "0                        0.743452                                 0.215892   \n",
       "\n",
       "   fair_main_demographic_parity_ratio  ...  perf_grp_precision_0  \\\n",
       "0                            0.907119  ...                   NaN   \n",
       "0                            0.907119  ...              0.117065   \n",
       "0                            0.764427  ...                   NaN   \n",
       "0                            0.764427  ...              0.119156   \n",
       "\n",
       "   perf_grp_precision_1  perf_grp_false positive rate_0  \\\n",
       "0                   NaN                             NaN   \n",
       "0              0.142420                        0.967477   \n",
       "0                   NaN                             NaN   \n",
       "0              0.159643                        0.912448   \n",
       "\n",
       "   perf_grp_false positive rate_1  perf_grp_false negative rate_0  \\\n",
       "0                             NaN                             NaN   \n",
       "0                        0.868966                        0.015625   \n",
       "0                             NaN                             NaN   \n",
       "0                        0.678361                        0.052787   \n",
       "\n",
       "   perf_grp_false negative rate_1  perf_grp_selection rate_0  \\\n",
       "0                             NaN                        NaN   \n",
       "0                        0.052188                   0.969426   \n",
       "0                             NaN                        NaN   \n",
       "0                        0.153611                   0.916456   \n",
       "\n",
       "   perf_grp_selection rate_1  perf_grp_count_0  perf_grp_count_1  \n",
       "0                        NaN               NaN               NaN  \n",
       "0                   0.879384           20540.0           69170.0  \n",
       "0                        NaN               NaN               NaN  \n",
       "0                   0.700564           20540.0           69170.0  \n",
       "\n",
       "[4 rows x 50 columns]"
      ]
     },
     "execution_count": 64,
     "metadata": {},
     "output_type": "execute_result"
    }
   ],
   "source": [
    "final_output = universe_analysis.generate_final_output(\n",
    "    y_pred_prob=probs_test,\n",
    "    y_test=y_true,\n",
    "    org_test=org_test,\n",
    "    filter_data=filter_sub_universe_data,\n",
    "    cp_metrics_df=cp_metrics_df,\n",
    "    save=True,\n",
    ")\n",
    "final_output"
   ]
  },
  {
   "cell_type": "code",
   "execution_count": null,
   "id": "8b80a1ff",
   "metadata": {
    "papermill": {
     "duration": 0.02775,
     "end_time": "2025-08-19T18:46:24.928893",
     "exception": false,
     "start_time": "2025-08-19T18:46:24.901143",
     "status": "completed"
    },
    "tags": []
   },
   "outputs": [],
   "source": []
  },
  {
   "cell_type": "code",
   "execution_count": null,
   "id": "275c9fad",
   "metadata": {
    "papermill": {
     "duration": 0.014138,
     "end_time": "2025-08-19T18:46:24.957945",
     "exception": false,
     "start_time": "2025-08-19T18:46:24.943807",
     "status": "completed"
    },
    "tags": []
   },
   "outputs": [],
   "source": []
  }
 ],
 "metadata": {
  "celltoolbar": "Tags",
  "kernelspec": {
   "display_name": "Python (CMA Fairness)",
   "language": "python",
   "name": "cma_fair_env"
  },
  "language_info": {
   "codemirror_mode": {
    "name": "ipython",
    "version": 3
   },
   "file_extension": ".py",
   "mimetype": "text/x-python",
   "name": "python",
   "nbconvert_exporter": "python",
   "pygments_lexer": "ipython3",
   "version": "3.10.12"
  },
  "papermill": {
   "default_parameters": {},
   "duration": 31.844438,
   "end_time": "2025-08-19T18:46:25.804761",
   "environment_variables": {},
   "exception": null,
   "input_path": "universe_analysis.ipynb",
   "output_path": "output/runs/3/notebooks/m_3-eccb431de479919218ccaf82ad151388.ipynb",
   "parameters": {
    "output_dir": "output",
    "run_no": "3",
    "seed": "2023",
    "universe": "{\"cutoff\": [\"quantile_0.1\", \"quantile_0.25\"], \"eval_fairness_grouping\": [\"majority-minority\", \"nationality-all\"], \"exclude_features\": \"age\", \"exclude_subgroups\": \"drop-non-german\", \"model\": \"penalized_logreg\", \"scale\": \"do-not-scale\", \"training_size\": \"5k\", \"training_year\": \"2010_14\"}",
    "universe_id": "eccb431de479919218ccaf82ad151388"
   },
   "start_time": "2025-08-19T18:45:53.960323",
   "version": "2.6.0"
  }
 },
 "nbformat": 4,
 "nbformat_minor": 5
}