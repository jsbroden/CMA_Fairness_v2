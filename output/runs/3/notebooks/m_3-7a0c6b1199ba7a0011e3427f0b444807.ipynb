{
 "cells": [
  {
   "cell_type": "markdown",
   "id": "ef23dbb3",
   "metadata": {
    "papermill": {
     "duration": 0.009249,
     "end_time": "2025-08-19T18:44:22.780080",
     "exception": false,
     "start_time": "2025-08-19T18:44:22.770831",
     "status": "completed"
    },
    "tags": []
   },
   "source": [
    "# Setup"
   ]
  },
  {
   "cell_type": "code",
   "execution_count": 1,
   "id": "0bc8e7dc",
   "metadata": {
    "execution": {
     "iopub.execute_input": "2025-08-19T18:44:22.799684Z",
     "iopub.status.busy": "2025-08-19T18:44:22.799225Z",
     "iopub.status.idle": "2025-08-19T18:44:22.810194Z",
     "shell.execute_reply": "2025-08-19T18:44:22.809420Z"
    },
    "papermill": {
     "duration": 0.02376,
     "end_time": "2025-08-19T18:44:22.812908",
     "exception": false,
     "start_time": "2025-08-19T18:44:22.789148",
     "status": "completed"
    },
    "tags": []
   },
   "outputs": [
    {
     "name": "stdout",
     "output_type": "stream",
     "text": [
      "/dss/dsshome1/0C/ra93lal2/cma/CMA_Fairness_v2\n"
     ]
    },
    {
     "name": "stderr",
     "output_type": "stream",
     "text": [
      "/dss/dsshome1/0C/ra93lal2/.local/share/virtualenvs/CMA_Fairness_v2-3j10GkSs/lib/python3.10/site-packages/IPython/core/magics/osm.py:393: UserWarning: This is now an optional IPython functionality, using bookmarks requires you to install the `pickleshare` library.\n",
      "  bkms = self.shell.db.get('bookmarks', {})\n",
      "/dss/dsshome1/0C/ra93lal2/.local/share/virtualenvs/CMA_Fairness_v2-3j10GkSs/lib/python3.10/site-packages/IPython/core/magics/osm.py:417: UserWarning: This is now an optional IPython functionality, setting dhist requires you to install the `pickleshare` library.\n",
      "  self.shell.db['dhist'] = compress_dhist(dhist)[-100:]\n"
     ]
    }
   ],
   "source": [
    "%cd ~/cma/CMA_Fairness_v2"
   ]
  },
  {
   "cell_type": "markdown",
   "id": "9d235661",
   "metadata": {
    "papermill": {
     "duration": 0.009454,
     "end_time": "2025-08-19T18:44:22.832461",
     "exception": false,
     "start_time": "2025-08-19T18:44:22.823007",
     "status": "completed"
    },
    "tags": []
   },
   "source": [
    "The following cell holds the definition of our parameters, these values can be overriden by rendering the with e.g. the following command:\n",
    "\n",
    "papermill -p alpha 0.2 -p ratio 0.3 universe_analysis.ipynb output/test_run.ipynb"
   ]
  },
  {
   "cell_type": "code",
   "execution_count": 2,
   "id": "4a789d8e",
   "metadata": {
    "execution": {
     "iopub.execute_input": "2025-08-19T18:44:22.853239Z",
     "iopub.status.busy": "2025-08-19T18:44:22.852243Z",
     "iopub.status.idle": "2025-08-19T18:44:22.859448Z",
     "shell.execute_reply": "2025-08-19T18:44:22.858274Z"
    },
    "papermill": {
     "duration": 0.019402,
     "end_time": "2025-08-19T18:44:22.860894",
     "exception": false,
     "start_time": "2025-08-19T18:44:22.841492",
     "status": "completed"
    },
    "tags": []
   },
   "outputs": [
    {
     "name": "stdout",
     "output_type": "stream",
     "text": [
      "Current working directory: /dss/dsshome1/0C/ra93lal2/cma/CMA_Fairness_v2\n"
     ]
    }
   ],
   "source": [
    "import os\n",
    "print(\"Current working directory:\", os.getcwd())"
   ]
  },
  {
   "cell_type": "code",
   "execution_count": 3,
   "id": "4132aaed",
   "metadata": {
    "execution": {
     "iopub.execute_input": "2025-08-19T18:44:22.882207Z",
     "iopub.status.busy": "2025-08-19T18:44:22.881183Z",
     "iopub.status.idle": "2025-08-19T18:44:22.890012Z",
     "shell.execute_reply": "2025-08-19T18:44:22.888841Z"
    },
    "papermill": {
     "duration": 0.021272,
     "end_time": "2025-08-19T18:44:22.891523",
     "exception": false,
     "start_time": "2025-08-19T18:44:22.870251",
     "status": "completed"
    },
    "tags": [
     "parameters"
    ]
   },
   "outputs": [],
   "source": [
    "run_no = 0\n",
    "universe_id = \"test\"\n",
    "universe = {\n",
    "    \"training_size\": \"5k\", # \"25k\", \"5k\", \"1k\"\n",
    "    \"training_year\": \"2012_14\", # \"2014\", \"2012_14\", \"2010_14\"\n",
    "    \"scale\": \"scale\", # \"scale\", \"do-not-scale\",\n",
    "    \"model\": \"elasticnet\", # \"logreg\", \"penalized_logreg\", \"rf\", \"gbm\", \"elasticnet\"\n",
    "    \"cutoff\": [\"quantile_0.15\", \"quantile_0.30\"],\n",
    "    \"exclude_features\": \"age\", # \"none\", \"nationality\", \"sex\", \"nationality-sex\", \"age\"\n",
    "    \"exclude_subgroups\": \"drop-non-german\", # \"keep-all\", \"drop-non-german\"\n",
    "    \"eval_fairness_grouping\": [\"majority-minority\", \"nationality-all\"]\n",
    "}\n",
    "\n",
    "output_dir=\"./output\"\n",
    "seed=0"
   ]
  },
  {
   "cell_type": "code",
   "execution_count": 4,
   "id": "e8bb6ead",
   "metadata": {
    "execution": {
     "iopub.execute_input": "2025-08-19T18:44:22.913449Z",
     "iopub.status.busy": "2025-08-19T18:44:22.912357Z",
     "iopub.status.idle": "2025-08-19T18:44:22.919751Z",
     "shell.execute_reply": "2025-08-19T18:44:22.918436Z"
    },
    "papermill": {
     "duration": 0.019639,
     "end_time": "2025-08-19T18:44:22.921195",
     "exception": false,
     "start_time": "2025-08-19T18:44:22.901556",
     "status": "completed"
    },
    "tags": [
     "injected-parameters"
    ]
   },
   "outputs": [],
   "source": [
    "# Parameters\n",
    "universe_id = \"7a0c6b1199ba7a0011e3427f0b444807\"\n",
    "run_no = \"3\"\n",
    "universe = \"{\\\"cutoff\\\": [\\\"quantile_0.1\\\", \\\"quantile_0.25\\\"], \\\"eval_fairness_grouping\\\": [\\\"majority-minority\\\", \\\"nationality-all\\\"], \\\"exclude_features\\\": \\\"none\\\", \\\"exclude_subgroups\\\": \\\"keep-all\\\", \\\"model\\\": \\\"logreg\\\", \\\"scale\\\": \\\"do-not-scale\\\", \\\"training_size\\\": \\\"5k\\\", \\\"training_year\\\": \\\"2010_14\\\"}\"\n",
    "output_dir = \"output\"\n",
    "seed = \"2023\"\n"
   ]
  },
  {
   "cell_type": "code",
   "execution_count": 5,
   "id": "a5d7941f",
   "metadata": {
    "execution": {
     "iopub.execute_input": "2025-08-19T18:44:22.942617Z",
     "iopub.status.busy": "2025-08-19T18:44:22.941770Z",
     "iopub.status.idle": "2025-08-19T18:44:22.948314Z",
     "shell.execute_reply": "2025-08-19T18:44:22.947114Z"
    },
    "papermill": {
     "duration": 0.018855,
     "end_time": "2025-08-19T18:44:22.949789",
     "exception": false,
     "start_time": "2025-08-19T18:44:22.930934",
     "status": "completed"
    },
    "tags": []
   },
   "outputs": [],
   "source": [
    "import json\n",
    "if isinstance(universe, str):\n",
    "    universe = json.loads(universe)"
   ]
  },
  {
   "cell_type": "code",
   "execution_count": 6,
   "id": "7076ccb1",
   "metadata": {
    "execution": {
     "iopub.execute_input": "2025-08-19T18:44:22.970783Z",
     "iopub.status.busy": "2025-08-19T18:44:22.969846Z",
     "iopub.status.idle": "2025-08-19T18:44:23.019871Z",
     "shell.execute_reply": "2025-08-19T18:44:23.019222Z"
    },
    "papermill": {
     "duration": 0.062382,
     "end_time": "2025-08-19T18:44:23.021586",
     "exception": false,
     "start_time": "2025-08-19T18:44:22.959204",
     "status": "completed"
    },
    "tags": []
   },
   "outputs": [],
   "source": [
    "# Auto-reload the custom package\n",
    "%load_ext autoreload\n",
    "%autoreload 1\n",
    "%aimport fairness_multiverse"
   ]
  },
  {
   "cell_type": "code",
   "execution_count": 7,
   "id": "94c8eb93",
   "metadata": {
    "execution": {
     "iopub.execute_input": "2025-08-19T18:44:23.043932Z",
     "iopub.status.busy": "2025-08-19T18:44:23.043257Z",
     "iopub.status.idle": "2025-08-19T18:44:24.630564Z",
     "shell.execute_reply": "2025-08-19T18:44:24.629750Z"
    },
    "papermill": {
     "duration": 1.599631,
     "end_time": "2025-08-19T18:44:24.632094",
     "exception": false,
     "start_time": "2025-08-19T18:44:23.032463",
     "status": "completed"
    },
    "tags": []
   },
   "outputs": [],
   "source": [
    "from fairness_multiverse.universe import UniverseAnalysis\n",
    "\n",
    "universe_analysis = UniverseAnalysis(\n",
    "    run_no = run_no,\n",
    "    universe_id = universe_id,\n",
    "    universe = universe,\n",
    "    output_dir=output_dir,\n",
    ")"
   ]
  },
  {
   "cell_type": "code",
   "execution_count": 8,
   "id": "2a6381cf",
   "metadata": {
    "execution": {
     "iopub.execute_input": "2025-08-19T18:44:24.656215Z",
     "iopub.status.busy": "2025-08-19T18:44:24.655543Z",
     "iopub.status.idle": "2025-08-19T18:44:24.664900Z",
     "shell.execute_reply": "2025-08-19T18:44:24.663685Z"
    },
    "papermill": {
     "duration": 0.022823,
     "end_time": "2025-08-19T18:44:24.666509",
     "exception": false,
     "start_time": "2025-08-19T18:44:24.643686",
     "status": "completed"
    },
    "tags": []
   },
   "outputs": [
    {
     "name": "stdout",
     "output_type": "stream",
     "text": [
      "Using Seed: 2023\n"
     ]
    }
   ],
   "source": [
    "import numpy as np\n",
    "parsed_seed = int(seed)\n",
    "np.random.seed(parsed_seed)\n",
    "print(f\"Using Seed: {parsed_seed}\")"
   ]
  },
  {
   "cell_type": "markdown",
   "id": "b6e958b4",
   "metadata": {
    "papermill": {
     "duration": 0.008982,
     "end_time": "2025-08-19T18:44:24.687178",
     "exception": false,
     "start_time": "2025-08-19T18:44:24.678196",
     "status": "completed"
    },
    "tags": []
   },
   "source": [
    "# Loading Data"
   ]
  },
  {
   "cell_type": "code",
   "execution_count": 9,
   "id": "98701482",
   "metadata": {
    "execution": {
     "iopub.execute_input": "2025-08-19T18:44:24.719267Z",
     "iopub.status.busy": "2025-08-19T18:44:24.718901Z",
     "iopub.status.idle": "2025-08-19T18:44:35.192584Z",
     "shell.execute_reply": "2025-08-19T18:44:35.191409Z"
    },
    "papermill": {
     "duration": 10.497993,
     "end_time": "2025-08-19T18:44:35.194108",
     "exception": false,
     "start_time": "2025-08-19T18:44:24.696115",
     "status": "completed"
    },
    "tags": []
   },
   "outputs": [
    {
     "name": "stdout",
     "output_type": "stream",
     "text": [
      "Loading SIAB data from cache: data/siab_cached.csv.gz\n"
     ]
    },
    {
     "name": "stdout",
     "output_type": "stream",
     "text": [
      "(643690, 164)\n"
     ]
    }
   ],
   "source": [
    "from pathlib import Path\n",
    "import pandas as pd\n",
    "\n",
    "# File paths\n",
    "raw_file = Path(\"data/raw/siab.csv\")\n",
    "cache_file = Path(\"data/siab_cached.csv.gz\")\n",
    "\n",
    "# Ensure cache directory exists\n",
    "cache_file.parent.mkdir(parents=True, exist_ok=True)\n",
    "\n",
    "# Load with simple caching\n",
    "if cache_file.exists():\n",
    "    print(f\"Loading SIAB data from cache: {cache_file}\")\n",
    "    siab = pd.read_csv(cache_file, compression='gzip')\n",
    "else:\n",
    "    print(f\"Cache not found. Reading raw SIAB data: {raw_file}\")\n",
    "    siab = pd.read_csv(raw_file)\n",
    "    siab.to_csv(cache_file, index=False, compression='gzip')\n",
    "    print(f\"Cached SIAB data to: {cache_file}\")\n",
    "\n",
    "print(siab.shape)"
   ]
  },
  {
   "cell_type": "code",
   "execution_count": 10,
   "id": "058d2abb",
   "metadata": {
    "execution": {
     "iopub.execute_input": "2025-08-19T18:44:35.225920Z",
     "iopub.status.busy": "2025-08-19T18:44:35.225389Z",
     "iopub.status.idle": "2025-08-19T18:44:35.426177Z",
     "shell.execute_reply": "2025-08-19T18:44:35.425397Z"
    },
    "papermill": {
     "duration": 0.220035,
     "end_time": "2025-08-19T18:44:35.428282",
     "exception": false,
     "start_time": "2025-08-19T18:44:35.208247",
     "status": "completed"
    },
    "tags": []
   },
   "outputs": [
    {
     "data": {
      "text/html": [
       "<div>\n",
       "<style scoped>\n",
       "    .dataframe tbody tr th:only-of-type {\n",
       "        vertical-align: middle;\n",
       "    }\n",
       "\n",
       "    .dataframe tbody tr th {\n",
       "        vertical-align: top;\n",
       "    }\n",
       "\n",
       "    .dataframe thead th {\n",
       "        text-align: right;\n",
       "    }\n",
       "</style>\n",
       "<table border=\"1\" class=\"dataframe\">\n",
       "  <thead>\n",
       "    <tr style=\"text-align: right;\">\n",
       "      <th></th>\n",
       "      <th>persnr</th>\n",
       "      <th>year</th>\n",
       "      <th>nrEntry</th>\n",
       "      <th>ltue</th>\n",
       "      <th>employed_before</th>\n",
       "      <th>receipt_leh_before</th>\n",
       "      <th>receipt_lhg_before</th>\n",
       "      <th>se_before</th>\n",
       "      <th>ASU_notue_seeking_before</th>\n",
       "      <th>ASU_other_before</th>\n",
       "      <th>...</th>\n",
       "      <th>minijob_tot_dur_byage</th>\n",
       "      <th>ft_tot_dur_byage</th>\n",
       "      <th>befrist_tot_dur_byage</th>\n",
       "      <th>leih_tot_dur_byage</th>\n",
       "      <th>LHG_tot_dur_byage</th>\n",
       "      <th>LEH_tot_dur_byage</th>\n",
       "      <th>almp_tot_dur_byage</th>\n",
       "      <th>almp_aw_tot_dur_byage</th>\n",
       "      <th>se_tot_dur_byage</th>\n",
       "      <th>seeking1_tot_dur_byage</th>\n",
       "    </tr>\n",
       "  </thead>\n",
       "  <tbody>\n",
       "    <tr>\n",
       "      <th>0</th>\n",
       "      <td>7</td>\n",
       "      <td>2015</td>\n",
       "      <td>1</td>\n",
       "      <td>0</td>\n",
       "      <td>1</td>\n",
       "      <td>0</td>\n",
       "      <td>0</td>\n",
       "      <td>0</td>\n",
       "      <td>1</td>\n",
       "      <td>0</td>\n",
       "      <td>...</td>\n",
       "      <td>0.000000</td>\n",
       "      <td>0.000000</td>\n",
       "      <td>15.043478</td>\n",
       "      <td>0.000000</td>\n",
       "      <td>0.000000</td>\n",
       "      <td>0.000000</td>\n",
       "      <td>0.000000</td>\n",
       "      <td>0.000000</td>\n",
       "      <td>0.000000</td>\n",
       "      <td>0.000000</td>\n",
       "    </tr>\n",
       "    <tr>\n",
       "      <th>1</th>\n",
       "      <td>18</td>\n",
       "      <td>2010</td>\n",
       "      <td>1</td>\n",
       "      <td>1</td>\n",
       "      <td>0</td>\n",
       "      <td>0</td>\n",
       "      <td>0</td>\n",
       "      <td>0</td>\n",
       "      <td>0</td>\n",
       "      <td>0</td>\n",
       "      <td>...</td>\n",
       "      <td>0.000000</td>\n",
       "      <td>0.000000</td>\n",
       "      <td>0.000000</td>\n",
       "      <td>0.000000</td>\n",
       "      <td>0.000000</td>\n",
       "      <td>0.000000</td>\n",
       "      <td>0.000000</td>\n",
       "      <td>0.000000</td>\n",
       "      <td>0.000000</td>\n",
       "      <td>0.000000</td>\n",
       "    </tr>\n",
       "    <tr>\n",
       "      <th>2</th>\n",
       "      <td>18</td>\n",
       "      <td>2011</td>\n",
       "      <td>2</td>\n",
       "      <td>0</td>\n",
       "      <td>1</td>\n",
       "      <td>0</td>\n",
       "      <td>1</td>\n",
       "      <td>0</td>\n",
       "      <td>1</td>\n",
       "      <td>0</td>\n",
       "      <td>...</td>\n",
       "      <td>2.714286</td>\n",
       "      <td>2.714286</td>\n",
       "      <td>0.000000</td>\n",
       "      <td>0.000000</td>\n",
       "      <td>10.775510</td>\n",
       "      <td>0.000000</td>\n",
       "      <td>8.367347</td>\n",
       "      <td>0.000000</td>\n",
       "      <td>0.000000</td>\n",
       "      <td>9.836735</td>\n",
       "    </tr>\n",
       "    <tr>\n",
       "      <th>3</th>\n",
       "      <td>18</td>\n",
       "      <td>2012</td>\n",
       "      <td>3</td>\n",
       "      <td>0</td>\n",
       "      <td>1</td>\n",
       "      <td>0</td>\n",
       "      <td>1</td>\n",
       "      <td>0</td>\n",
       "      <td>1</td>\n",
       "      <td>0</td>\n",
       "      <td>...</td>\n",
       "      <td>4.200000</td>\n",
       "      <td>4.200000</td>\n",
       "      <td>0.000000</td>\n",
       "      <td>0.000000</td>\n",
       "      <td>12.100000</td>\n",
       "      <td>0.000000</td>\n",
       "      <td>9.400000</td>\n",
       "      <td>0.000000</td>\n",
       "      <td>0.000000</td>\n",
       "      <td>9.960000</td>\n",
       "    </tr>\n",
       "    <tr>\n",
       "      <th>4</th>\n",
       "      <td>18</td>\n",
       "      <td>2012</td>\n",
       "      <td>4</td>\n",
       "      <td>0</td>\n",
       "      <td>1</td>\n",
       "      <td>0</td>\n",
       "      <td>1</td>\n",
       "      <td>0</td>\n",
       "      <td>1</td>\n",
       "      <td>0</td>\n",
       "      <td>...</td>\n",
       "      <td>5.460000</td>\n",
       "      <td>5.460000</td>\n",
       "      <td>0.000000</td>\n",
       "      <td>0.000000</td>\n",
       "      <td>13.360000</td>\n",
       "      <td>0.000000</td>\n",
       "      <td>10.320000</td>\n",
       "      <td>0.000000</td>\n",
       "      <td>0.000000</td>\n",
       "      <td>10.280000</td>\n",
       "    </tr>\n",
       "    <tr>\n",
       "      <th>...</th>\n",
       "      <td>...</td>\n",
       "      <td>...</td>\n",
       "      <td>...</td>\n",
       "      <td>...</td>\n",
       "      <td>...</td>\n",
       "      <td>...</td>\n",
       "      <td>...</td>\n",
       "      <td>...</td>\n",
       "      <td>...</td>\n",
       "      <td>...</td>\n",
       "      <td>...</td>\n",
       "      <td>...</td>\n",
       "      <td>...</td>\n",
       "      <td>...</td>\n",
       "      <td>...</td>\n",
       "      <td>...</td>\n",
       "      <td>...</td>\n",
       "      <td>...</td>\n",
       "      <td>...</td>\n",
       "      <td>...</td>\n",
       "      <td>...</td>\n",
       "    </tr>\n",
       "    <tr>\n",
       "      <th>643685</th>\n",
       "      <td>1827860</td>\n",
       "      <td>2013</td>\n",
       "      <td>1</td>\n",
       "      <td>0</td>\n",
       "      <td>0</td>\n",
       "      <td>0</td>\n",
       "      <td>1</td>\n",
       "      <td>0</td>\n",
       "      <td>0</td>\n",
       "      <td>1</td>\n",
       "      <td>...</td>\n",
       "      <td>0.000000</td>\n",
       "      <td>0.000000</td>\n",
       "      <td>0.000000</td>\n",
       "      <td>0.000000</td>\n",
       "      <td>0.612903</td>\n",
       "      <td>0.000000</td>\n",
       "      <td>0.000000</td>\n",
       "      <td>0.000000</td>\n",
       "      <td>0.000000</td>\n",
       "      <td>0.000000</td>\n",
       "    </tr>\n",
       "    <tr>\n",
       "      <th>643686</th>\n",
       "      <td>1827860</td>\n",
       "      <td>2015</td>\n",
       "      <td>2</td>\n",
       "      <td>1</td>\n",
       "      <td>0</td>\n",
       "      <td>0</td>\n",
       "      <td>1</td>\n",
       "      <td>0</td>\n",
       "      <td>1</td>\n",
       "      <td>0</td>\n",
       "      <td>...</td>\n",
       "      <td>0.000000</td>\n",
       "      <td>0.000000</td>\n",
       "      <td>0.212121</td>\n",
       "      <td>0.212121</td>\n",
       "      <td>17.363636</td>\n",
       "      <td>0.000000</td>\n",
       "      <td>8.909091</td>\n",
       "      <td>0.000000</td>\n",
       "      <td>0.000000</td>\n",
       "      <td>7.121212</td>\n",
       "    </tr>\n",
       "    <tr>\n",
       "      <th>643687</th>\n",
       "      <td>1827860</td>\n",
       "      <td>2016</td>\n",
       "      <td>3</td>\n",
       "      <td>1</td>\n",
       "      <td>0</td>\n",
       "      <td>0</td>\n",
       "      <td>1</td>\n",
       "      <td>1</td>\n",
       "      <td>0</td>\n",
       "      <td>1</td>\n",
       "      <td>...</td>\n",
       "      <td>0.000000</td>\n",
       "      <td>0.000000</td>\n",
       "      <td>0.294118</td>\n",
       "      <td>0.205882</td>\n",
       "      <td>34.705882</td>\n",
       "      <td>0.000000</td>\n",
       "      <td>10.352941</td>\n",
       "      <td>1.705882</td>\n",
       "      <td>1.705882</td>\n",
       "      <td>23.911765</td>\n",
       "    </tr>\n",
       "    <tr>\n",
       "      <th>643688</th>\n",
       "      <td>1827869</td>\n",
       "      <td>2013</td>\n",
       "      <td>1</td>\n",
       "      <td>1</td>\n",
       "      <td>1</td>\n",
       "      <td>0</td>\n",
       "      <td>0</td>\n",
       "      <td>0</td>\n",
       "      <td>1</td>\n",
       "      <td>0</td>\n",
       "      <td>...</td>\n",
       "      <td>0.000000</td>\n",
       "      <td>0.000000</td>\n",
       "      <td>0.000000</td>\n",
       "      <td>0.000000</td>\n",
       "      <td>0.000000</td>\n",
       "      <td>0.525424</td>\n",
       "      <td>0.000000</td>\n",
       "      <td>0.000000</td>\n",
       "      <td>0.000000</td>\n",
       "      <td>0.000000</td>\n",
       "    </tr>\n",
       "    <tr>\n",
       "      <th>643689</th>\n",
       "      <td>1827869</td>\n",
       "      <td>2014</td>\n",
       "      <td>2</td>\n",
       "      <td>0</td>\n",
       "      <td>0</td>\n",
       "      <td>1</td>\n",
       "      <td>0</td>\n",
       "      <td>0</td>\n",
       "      <td>1</td>\n",
       "      <td>0</td>\n",
       "      <td>...</td>\n",
       "      <td>0.000000</td>\n",
       "      <td>0.666667</td>\n",
       "      <td>0.666667</td>\n",
       "      <td>0.000000</td>\n",
       "      <td>0.000000</td>\n",
       "      <td>8.950000</td>\n",
       "      <td>1.033333</td>\n",
       "      <td>0.083333</td>\n",
       "      <td>0.083333</td>\n",
       "      <td>8.133333</td>\n",
       "    </tr>\n",
       "  </tbody>\n",
       "</table>\n",
       "<p>643690 rows × 164 columns</p>\n",
       "</div>"
      ],
      "text/plain": [
       "         persnr  year  nrEntry  ltue  employed_before  receipt_leh_before  \\\n",
       "0             7  2015        1     0                1                   0   \n",
       "1            18  2010        1     1                0                   0   \n",
       "2            18  2011        2     0                1                   0   \n",
       "3            18  2012        3     0                1                   0   \n",
       "4            18  2012        4     0                1                   0   \n",
       "...         ...   ...      ...   ...              ...                 ...   \n",
       "643685  1827860  2013        1     0                0                   0   \n",
       "643686  1827860  2015        2     1                0                   0   \n",
       "643687  1827860  2016        3     1                0                   0   \n",
       "643688  1827869  2013        1     1                1                   0   \n",
       "643689  1827869  2014        2     0                0                   1   \n",
       "\n",
       "        receipt_lhg_before  se_before  ASU_notue_seeking_before  \\\n",
       "0                        0          0                         1   \n",
       "1                        0          0                         0   \n",
       "2                        1          0                         1   \n",
       "3                        1          0                         1   \n",
       "4                        1          0                         1   \n",
       "...                    ...        ...                       ...   \n",
       "643685                   1          0                         0   \n",
       "643686                   1          0                         1   \n",
       "643687                   1          1                         0   \n",
       "643688                   0          0                         1   \n",
       "643689                   0          0                         1   \n",
       "\n",
       "        ASU_other_before  ...  minijob_tot_dur_byage  ft_tot_dur_byage  \\\n",
       "0                      0  ...               0.000000          0.000000   \n",
       "1                      0  ...               0.000000          0.000000   \n",
       "2                      0  ...               2.714286          2.714286   \n",
       "3                      0  ...               4.200000          4.200000   \n",
       "4                      0  ...               5.460000          5.460000   \n",
       "...                  ...  ...                    ...               ...   \n",
       "643685                 1  ...               0.000000          0.000000   \n",
       "643686                 0  ...               0.000000          0.000000   \n",
       "643687                 1  ...               0.000000          0.000000   \n",
       "643688                 0  ...               0.000000          0.000000   \n",
       "643689                 0  ...               0.000000          0.666667   \n",
       "\n",
       "        befrist_tot_dur_byage  leih_tot_dur_byage  LHG_tot_dur_byage  \\\n",
       "0                   15.043478            0.000000           0.000000   \n",
       "1                    0.000000            0.000000           0.000000   \n",
       "2                    0.000000            0.000000          10.775510   \n",
       "3                    0.000000            0.000000          12.100000   \n",
       "4                    0.000000            0.000000          13.360000   \n",
       "...                       ...                 ...                ...   \n",
       "643685               0.000000            0.000000           0.612903   \n",
       "643686               0.212121            0.212121          17.363636   \n",
       "643687               0.294118            0.205882          34.705882   \n",
       "643688               0.000000            0.000000           0.000000   \n",
       "643689               0.666667            0.000000           0.000000   \n",
       "\n",
       "        LEH_tot_dur_byage  almp_tot_dur_byage  almp_aw_tot_dur_byage  \\\n",
       "0                0.000000            0.000000               0.000000   \n",
       "1                0.000000            0.000000               0.000000   \n",
       "2                0.000000            8.367347               0.000000   \n",
       "3                0.000000            9.400000               0.000000   \n",
       "4                0.000000           10.320000               0.000000   \n",
       "...                   ...                 ...                    ...   \n",
       "643685           0.000000            0.000000               0.000000   \n",
       "643686           0.000000            8.909091               0.000000   \n",
       "643687           0.000000           10.352941               1.705882   \n",
       "643688           0.525424            0.000000               0.000000   \n",
       "643689           8.950000            1.033333               0.083333   \n",
       "\n",
       "        se_tot_dur_byage  seeking1_tot_dur_byage  \n",
       "0               0.000000                0.000000  \n",
       "1               0.000000                0.000000  \n",
       "2               0.000000                9.836735  \n",
       "3               0.000000                9.960000  \n",
       "4               0.000000               10.280000  \n",
       "...                  ...                     ...  \n",
       "643685          0.000000                0.000000  \n",
       "643686          0.000000                7.121212  \n",
       "643687          1.705882               23.911765  \n",
       "643688          0.000000                0.000000  \n",
       "643689          0.083333                8.133333  \n",
       "\n",
       "[643690 rows x 164 columns]"
      ]
     },
     "execution_count": 10,
     "metadata": {},
     "output_type": "execute_result"
    }
   ],
   "source": [
    "siab"
   ]
  },
  {
   "cell_type": "markdown",
   "id": "1f87e805",
   "metadata": {
    "papermill": {
     "duration": 0.011595,
     "end_time": "2025-08-19T18:44:35.453554",
     "exception": false,
     "start_time": "2025-08-19T18:44:35.441959",
     "status": "completed"
    },
    "tags": []
   },
   "source": [
    "# Splitting Data and Setting Training Data Size"
   ]
  },
  {
   "cell_type": "code",
   "execution_count": 11,
   "id": "910ae358",
   "metadata": {
    "execution": {
     "iopub.execute_input": "2025-08-19T18:44:35.475814Z",
     "iopub.status.busy": "2025-08-19T18:44:35.475239Z",
     "iopub.status.idle": "2025-08-19T18:44:36.574200Z",
     "shell.execute_reply": "2025-08-19T18:44:36.573387Z"
    },
    "papermill": {
     "duration": 1.1149,
     "end_time": "2025-08-19T18:44:36.578282",
     "exception": false,
     "start_time": "2025-08-19T18:44:35.463382",
     "status": "completed"
    },
    "tags": []
   },
   "outputs": [],
   "source": [
    "from fairness_multiverse.universe import sample_by_year_size\n",
    "\n",
    "siab_train = sample_by_year_size(siab,\n",
    "                               training_year=universe[\"training_year\"],\n",
    "                               training_size=universe[\"training_size\"])"
   ]
  },
  {
   "cell_type": "code",
   "execution_count": 12,
   "id": "919c8ff5",
   "metadata": {
    "execution": {
     "iopub.execute_input": "2025-08-19T18:44:36.607044Z",
     "iopub.status.busy": "2025-08-19T18:44:36.606092Z",
     "iopub.status.idle": "2025-08-19T18:44:36.617161Z",
     "shell.execute_reply": "2025-08-19T18:44:36.615914Z"
    },
    "papermill": {
     "duration": 0.040841,
     "end_time": "2025-08-19T18:44:36.634476",
     "exception": false,
     "start_time": "2025-08-19T18:44:36.593635",
     "status": "completed"
    },
    "tags": []
   },
   "outputs": [
    {
     "data": {
      "text/plain": [
       "(5000, 164)"
      ]
     },
     "execution_count": 12,
     "metadata": {},
     "output_type": "execute_result"
    }
   ],
   "source": [
    "siab_train.shape"
   ]
  },
  {
   "cell_type": "code",
   "execution_count": 13,
   "id": "feb13bf4",
   "metadata": {
    "execution": {
     "iopub.execute_input": "2025-08-19T18:44:36.666752Z",
     "iopub.status.busy": "2025-08-19T18:44:36.665228Z",
     "iopub.status.idle": "2025-08-19T18:44:36.680499Z",
     "shell.execute_reply": "2025-08-19T18:44:36.679266Z"
    },
    "papermill": {
     "duration": 0.043499,
     "end_time": "2025-08-19T18:44:36.693705",
     "exception": false,
     "start_time": "2025-08-19T18:44:36.650206",
     "status": "completed"
    },
    "tags": []
   },
   "outputs": [
    {
     "data": {
      "text/plain": [
       "year\n",
       "2010    1000\n",
       "2011    1000\n",
       "2012    1000\n",
       "2013    1000\n",
       "2014    1000\n",
       "dtype: int64"
      ]
     },
     "metadata": {},
     "output_type": "display_data"
    }
   ],
   "source": [
    "display(siab_train.groupby(\"year\").size())"
   ]
  },
  {
   "cell_type": "code",
   "execution_count": 14,
   "id": "0997782f",
   "metadata": {
    "execution": {
     "iopub.execute_input": "2025-08-19T18:44:36.718968Z",
     "iopub.status.busy": "2025-08-19T18:44:36.718501Z",
     "iopub.status.idle": "2025-08-19T18:44:37.002839Z",
     "shell.execute_reply": "2025-08-19T18:44:37.001617Z"
    },
    "papermill": {
     "duration": 0.297564,
     "end_time": "2025-08-19T18:44:37.004839",
     "exception": false,
     "start_time": "2025-08-19T18:44:36.707275",
     "status": "completed"
    },
    "tags": []
   },
   "outputs": [],
   "source": [
    "#siab_train = siab_s[siab_s.year < 2015]\n",
    "siab_calib = siab[siab.year == 2015]\n",
    "siab_test = siab[siab.year == 2016]"
   ]
  },
  {
   "cell_type": "code",
   "execution_count": 15,
   "id": "2c1e4012",
   "metadata": {
    "execution": {
     "iopub.execute_input": "2025-08-19T18:44:37.063420Z",
     "iopub.status.busy": "2025-08-19T18:44:37.061457Z",
     "iopub.status.idle": "2025-08-19T18:44:37.074156Z",
     "shell.execute_reply": "2025-08-19T18:44:37.072213Z"
    },
    "papermill": {
     "duration": 0.03058,
     "end_time": "2025-08-19T18:44:37.076256",
     "exception": false,
     "start_time": "2025-08-19T18:44:37.045676",
     "status": "completed"
    },
    "tags": []
   },
   "outputs": [],
   "source": [
    "#siab_calib.shape"
   ]
  },
  {
   "cell_type": "code",
   "execution_count": 16,
   "id": "f66b54ca",
   "metadata": {
    "execution": {
     "iopub.execute_input": "2025-08-19T18:44:37.111748Z",
     "iopub.status.busy": "2025-08-19T18:44:37.111027Z",
     "iopub.status.idle": "2025-08-19T18:44:37.119678Z",
     "shell.execute_reply": "2025-08-19T18:44:37.118028Z"
    },
    "papermill": {
     "duration": 0.024325,
     "end_time": "2025-08-19T18:44:37.121172",
     "exception": false,
     "start_time": "2025-08-19T18:44:37.096847",
     "status": "completed"
    },
    "tags": []
   },
   "outputs": [],
   "source": [
    "#siab_test.shape"
   ]
  },
  {
   "cell_type": "code",
   "execution_count": 17,
   "id": "27e4384d",
   "metadata": {
    "execution": {
     "iopub.execute_input": "2025-08-19T18:44:37.173049Z",
     "iopub.status.busy": "2025-08-19T18:44:37.172049Z",
     "iopub.status.idle": "2025-08-19T18:44:37.199444Z",
     "shell.execute_reply": "2025-08-19T18:44:37.196314Z"
    },
    "papermill": {
     "duration": 0.066187,
     "end_time": "2025-08-19T18:44:37.202865",
     "exception": false,
     "start_time": "2025-08-19T18:44:37.136678",
     "status": "completed"
    },
    "tags": []
   },
   "outputs": [],
   "source": [
    "X_train = siab_train.iloc[:,4:164]\n",
    "y_train = siab_train.iloc[:, [3]]"
   ]
  },
  {
   "cell_type": "code",
   "execution_count": 18,
   "id": "08ee8389",
   "metadata": {
    "execution": {
     "iopub.execute_input": "2025-08-19T18:44:37.237894Z",
     "iopub.status.busy": "2025-08-19T18:44:37.237311Z",
     "iopub.status.idle": "2025-08-19T18:44:37.358189Z",
     "shell.execute_reply": "2025-08-19T18:44:37.357254Z"
    },
    "papermill": {
     "duration": 0.137408,
     "end_time": "2025-08-19T18:44:37.361830",
     "exception": false,
     "start_time": "2025-08-19T18:44:37.224422",
     "status": "completed"
    },
    "tags": []
   },
   "outputs": [],
   "source": [
    "X_calib = siab_calib.iloc[:,4:164]\n",
    "y_calib = siab_calib.iloc[:, [3]]"
   ]
  },
  {
   "cell_type": "code",
   "execution_count": 19,
   "id": "b7ff42e0",
   "metadata": {
    "execution": {
     "iopub.execute_input": "2025-08-19T18:44:37.398028Z",
     "iopub.status.busy": "2025-08-19T18:44:37.396220Z",
     "iopub.status.idle": "2025-08-19T18:44:37.466130Z",
     "shell.execute_reply": "2025-08-19T18:44:37.465230Z"
    },
    "papermill": {
     "duration": 0.08635,
     "end_time": "2025-08-19T18:44:37.469327",
     "exception": false,
     "start_time": "2025-08-19T18:44:37.382977",
     "status": "completed"
    },
    "tags": []
   },
   "outputs": [],
   "source": [
    "X_test = siab_test.iloc[:,4:164]\n",
    "y_true = siab_test.iloc[:, [3]]"
   ]
  },
  {
   "cell_type": "code",
   "execution_count": 20,
   "id": "0275101e",
   "metadata": {
    "execution": {
     "iopub.execute_input": "2025-08-19T18:44:37.508554Z",
     "iopub.status.busy": "2025-08-19T18:44:37.507476Z",
     "iopub.status.idle": "2025-08-19T18:44:37.650326Z",
     "shell.execute_reply": "2025-08-19T18:44:37.649247Z"
    },
    "papermill": {
     "duration": 0.158114,
     "end_time": "2025-08-19T18:44:37.652145",
     "exception": false,
     "start_time": "2025-08-19T18:44:37.494031",
     "status": "completed"
    },
    "tags": []
   },
   "outputs": [],
   "source": [
    "# Auxiliary data needed downstream in the pipeline\n",
    "\n",
    "org_train = X_train.copy()\n",
    "org_test = X_test.copy()\n",
    "org_calib = X_calib.copy()"
   ]
  },
  {
   "cell_type": "markdown",
   "id": "b461e618",
   "metadata": {
    "papermill": {
     "duration": 0.013617,
     "end_time": "2025-08-19T18:44:37.678235",
     "exception": false,
     "start_time": "2025-08-19T18:44:37.664618",
     "status": "completed"
    },
    "tags": []
   },
   "source": [
    "# Preprocessing Data"
   ]
  },
  {
   "cell_type": "code",
   "execution_count": 21,
   "id": "78e74c4b",
   "metadata": {
    "execution": {
     "iopub.execute_input": "2025-08-19T18:44:37.719855Z",
     "iopub.status.busy": "2025-08-19T18:44:37.719413Z",
     "iopub.status.idle": "2025-08-19T18:44:37.726057Z",
     "shell.execute_reply": "2025-08-19T18:44:37.724898Z"
    },
    "papermill": {
     "duration": 0.033563,
     "end_time": "2025-08-19T18:44:37.728973",
     "exception": false,
     "start_time": "2025-08-19T18:44:37.695410",
     "status": "completed"
    },
    "tags": []
   },
   "outputs": [],
   "source": [
    "# EXCLUDE PROTECTED FEATURES\n",
    "# --------------------------\n",
    "\n",
    "excluded_features = universe[\"exclude_features\"].split(\"-\")\n",
    "excluded_features_dictionary = {\n",
    "    \"nationality\": [\"maxdeutsch1\", \"maxdeutsch.Missing.\"],\n",
    "    \"sex\": [\"frau1\"],\n",
    "    \"age\": [\"age\"],\n",
    "}"
   ]
  },
  {
   "cell_type": "code",
   "execution_count": 22,
   "id": "f8e63555",
   "metadata": {
    "execution": {
     "iopub.execute_input": "2025-08-19T18:44:37.762428Z",
     "iopub.status.busy": "2025-08-19T18:44:37.761539Z",
     "iopub.status.idle": "2025-08-19T18:44:37.770085Z",
     "shell.execute_reply": "2025-08-19T18:44:37.768543Z"
    },
    "papermill": {
     "duration": 0.022945,
     "end_time": "2025-08-19T18:44:37.771627",
     "exception": false,
     "start_time": "2025-08-19T18:44:37.748682",
     "status": "completed"
    },
    "tags": []
   },
   "outputs": [],
   "source": [
    "excluded_features_columns = [\n",
    "    excluded_features_dictionary[f] for f in excluded_features if len(f) > 0 and f != \"none\"\n",
    "]"
   ]
  },
  {
   "cell_type": "code",
   "execution_count": 23,
   "id": "da781f7c",
   "metadata": {
    "execution": {
     "iopub.execute_input": "2025-08-19T18:44:37.800735Z",
     "iopub.status.busy": "2025-08-19T18:44:37.799631Z",
     "iopub.status.idle": "2025-08-19T18:44:37.808552Z",
     "shell.execute_reply": "2025-08-19T18:44:37.806894Z"
    },
    "papermill": {
     "duration": 0.023886,
     "end_time": "2025-08-19T18:44:37.810294",
     "exception": false,
     "start_time": "2025-08-19T18:44:37.786408",
     "status": "completed"
    },
    "tags": []
   },
   "outputs": [],
   "source": [
    "from fairness_multiverse.universe import flatten_once\n",
    "\n",
    "excluded_features_columns = flatten_once(excluded_features_columns)"
   ]
  },
  {
   "cell_type": "code",
   "execution_count": 24,
   "id": "37fef0f0",
   "metadata": {
    "execution": {
     "iopub.execute_input": "2025-08-19T18:44:37.836113Z",
     "iopub.status.busy": "2025-08-19T18:44:37.835105Z",
     "iopub.status.idle": "2025-08-19T18:44:37.844328Z",
     "shell.execute_reply": "2025-08-19T18:44:37.842682Z"
    },
    "papermill": {
     "duration": 0.023125,
     "end_time": "2025-08-19T18:44:37.846190",
     "exception": false,
     "start_time": "2025-08-19T18:44:37.823065",
     "status": "completed"
    },
    "tags": []
   },
   "outputs": [],
   "source": [
    "if len(excluded_features_columns) > 0:\n",
    "    print(f\"Dropping features: {excluded_features_columns}\")\n",
    "    X_train.drop(excluded_features_columns, axis=1, inplace=True)"
   ]
  },
  {
   "cell_type": "code",
   "execution_count": 25,
   "id": "d029e3e9",
   "metadata": {
    "execution": {
     "iopub.execute_input": "2025-08-19T18:44:37.892860Z",
     "iopub.status.busy": "2025-08-19T18:44:37.889511Z",
     "iopub.status.idle": "2025-08-19T18:44:37.897324Z",
     "shell.execute_reply": "2025-08-19T18:44:37.896594Z"
    },
    "papermill": {
     "duration": 0.038453,
     "end_time": "2025-08-19T18:44:37.899412",
     "exception": false,
     "start_time": "2025-08-19T18:44:37.860959",
     "status": "completed"
    },
    "tags": []
   },
   "outputs": [],
   "source": [
    "if len(excluded_features_columns) > 0:\n",
    "    print(f\"Dropping features: {excluded_features_columns}\")\n",
    "    X_test.drop(excluded_features_columns, axis=1, inplace=True)"
   ]
  },
  {
   "cell_type": "code",
   "execution_count": 26,
   "id": "01d571f0",
   "metadata": {
    "execution": {
     "iopub.execute_input": "2025-08-19T18:44:37.938661Z",
     "iopub.status.busy": "2025-08-19T18:44:37.937837Z",
     "iopub.status.idle": "2025-08-19T18:44:37.943014Z",
     "shell.execute_reply": "2025-08-19T18:44:37.942232Z"
    },
    "papermill": {
     "duration": 0.030491,
     "end_time": "2025-08-19T18:44:37.945403",
     "exception": false,
     "start_time": "2025-08-19T18:44:37.914912",
     "status": "completed"
    },
    "tags": []
   },
   "outputs": [],
   "source": [
    "if len(excluded_features_columns) > 0:\n",
    "    print(f\"Dropping features: {excluded_features_columns}\")\n",
    "    X_calib.drop(excluded_features_columns, axis=1, inplace=True)"
   ]
  },
  {
   "cell_type": "code",
   "execution_count": 27,
   "id": "3037356e",
   "metadata": {
    "execution": {
     "iopub.execute_input": "2025-08-19T18:44:37.989695Z",
     "iopub.status.busy": "2025-08-19T18:44:37.989365Z",
     "iopub.status.idle": "2025-08-19T18:44:37.994230Z",
     "shell.execute_reply": "2025-08-19T18:44:37.993591Z"
    },
    "papermill": {
     "duration": 0.034843,
     "end_time": "2025-08-19T18:44:37.998669",
     "exception": false,
     "start_time": "2025-08-19T18:44:37.963826",
     "status": "completed"
    },
    "tags": []
   },
   "outputs": [],
   "source": [
    "# EXCLUDE CERTAIN SUBGROUPS\n",
    "# -------------------------\n",
    "\n",
    "mode = universe.get(\"exclude_subgroups\", \"keep-all\") # Defaults to \"keep-all\" if the key is missing."
   ]
  },
  {
   "cell_type": "code",
   "execution_count": 28,
   "id": "9d1e63fd",
   "metadata": {
    "execution": {
     "iopub.execute_input": "2025-08-19T18:44:38.025946Z",
     "iopub.status.busy": "2025-08-19T18:44:38.025609Z",
     "iopub.status.idle": "2025-08-19T18:44:38.031127Z",
     "shell.execute_reply": "2025-08-19T18:44:38.030483Z"
    },
    "papermill": {
     "duration": 0.020486,
     "end_time": "2025-08-19T18:44:38.034165",
     "exception": false,
     "start_time": "2025-08-19T18:44:38.013679",
     "status": "completed"
    },
    "tags": []
   },
   "outputs": [],
   "source": [
    "if mode == \"keep-all\":\n",
    "    keep_mask = pd.Series(True, index=org_train.index)\n",
    "\n",
    "elif mode == \"drop-non-german\":\n",
    "    keep_mask = (org_train[\"maxdeutsch1\"] == 1) & (org_train[\"maxdeutsch.Missing.\"] == 0)\n",
    "\n",
    "else:\n",
    "    raise ValueError(f\"Unsupported mode for exclude_subgroups: {mode}\")"
   ]
  },
  {
   "cell_type": "code",
   "execution_count": 29,
   "id": "d3b65474",
   "metadata": {
    "execution": {
     "iopub.execute_input": "2025-08-19T18:44:38.093712Z",
     "iopub.status.busy": "2025-08-19T18:44:38.092682Z",
     "iopub.status.idle": "2025-08-19T18:44:38.103702Z",
     "shell.execute_reply": "2025-08-19T18:44:38.102167Z"
    },
    "papermill": {
     "duration": 0.041229,
     "end_time": "2025-08-19T18:44:38.105658",
     "exception": false,
     "start_time": "2025-08-19T18:44:38.064429",
     "status": "completed"
    },
    "tags": []
   },
   "outputs": [],
   "source": [
    "n_drop = (~keep_mask).sum() # Calculates how many rows are set to be dropped\n",
    "if n_drop > 0:\n",
    "    pct = n_drop / len(keep_mask) * 100\n",
    "    print(f\"Dropping {n_drop} rows ({pct:.2f}%) where mode='{mode}'\")"
   ]
  },
  {
   "cell_type": "code",
   "execution_count": 30,
   "id": "f44389b3",
   "metadata": {
    "execution": {
     "iopub.execute_input": "2025-08-19T18:44:38.134631Z",
     "iopub.status.busy": "2025-08-19T18:44:38.133344Z",
     "iopub.status.idle": "2025-08-19T18:44:38.151096Z",
     "shell.execute_reply": "2025-08-19T18:44:38.149746Z"
    },
    "papermill": {
     "duration": 0.032331,
     "end_time": "2025-08-19T18:44:38.153371",
     "exception": false,
     "start_time": "2025-08-19T18:44:38.121040",
     "status": "completed"
    },
    "tags": []
   },
   "outputs": [],
   "source": [
    "X_train = X_train[keep_mask]"
   ]
  },
  {
   "cell_type": "code",
   "execution_count": 31,
   "id": "ceca8c2a",
   "metadata": {
    "execution": {
     "iopub.execute_input": "2025-08-19T18:44:38.183924Z",
     "iopub.status.busy": "2025-08-19T18:44:38.182859Z",
     "iopub.status.idle": "2025-08-19T18:44:38.192643Z",
     "shell.execute_reply": "2025-08-19T18:44:38.191074Z"
    },
    "papermill": {
     "duration": 0.024241,
     "end_time": "2025-08-19T18:44:38.194209",
     "exception": false,
     "start_time": "2025-08-19T18:44:38.169968",
     "status": "completed"
    },
    "tags": []
   },
   "outputs": [],
   "source": [
    "y_train = y_train[keep_mask]"
   ]
  },
  {
   "cell_type": "markdown",
   "id": "04d31e2f",
   "metadata": {
    "papermill": {
     "duration": 0.010746,
     "end_time": "2025-08-19T18:44:38.223321",
     "exception": false,
     "start_time": "2025-08-19T18:44:38.212575",
     "status": "completed"
    },
    "tags": []
   },
   "source": [
    "# Model Training"
   ]
  },
  {
   "cell_type": "code",
   "execution_count": 32,
   "id": "db991733",
   "metadata": {
    "execution": {
     "iopub.execute_input": "2025-08-19T18:44:38.247334Z",
     "iopub.status.busy": "2025-08-19T18:44:38.246250Z",
     "iopub.status.idle": "2025-08-19T18:44:38.362489Z",
     "shell.execute_reply": "2025-08-19T18:44:38.361833Z"
    },
    "papermill": {
     "duration": 0.131354,
     "end_time": "2025-08-19T18:44:38.365250",
     "exception": false,
     "start_time": "2025-08-19T18:44:38.233896",
     "status": "completed"
    },
    "tags": []
   },
   "outputs": [],
   "source": [
    "from sklearn.linear_model import LogisticRegression\n",
    "from sklearn.ensemble import GradientBoostingClassifier, RandomForestClassifier\n",
    "\n",
    "if (universe[\"model\"] == \"logreg\"):\n",
    "    model = LogisticRegression() #penalty=\"none\", solver=\"newton-cg\", max_iter=1)\n",
    "elif (universe[\"model\"] == \"penalized_logreg\"):\n",
    "    model = LogisticRegression(penalty=\"l2\", C=0.1) #, solver=\"newton-cg\", max_iter=1)\n",
    "elif (universe[\"model\"] == \"rf\"):\n",
    "    model = RandomForestClassifier() # n_estimators=100, n_jobs=-1\n",
    "elif (universe[\"model\"] == \"gbm\"):\n",
    "    model = GradientBoostingClassifier()\n",
    "elif (universe[\"model\"] == \"elasticnet\"):\n",
    "    model = LogisticRegression(penalty = 'elasticnet', solver = 'saga', l1_ratio = 0.5) # max_iter=5000\n",
    "else:\n",
    "    raise \"Unsupported universe.model\""
   ]
  },
  {
   "cell_type": "code",
   "execution_count": 33,
   "id": "a4b5cd25",
   "metadata": {
    "execution": {
     "iopub.execute_input": "2025-08-19T18:44:38.408587Z",
     "iopub.status.busy": "2025-08-19T18:44:38.407241Z",
     "iopub.status.idle": "2025-08-19T18:44:38.417424Z",
     "shell.execute_reply": "2025-08-19T18:44:38.415949Z"
    },
    "papermill": {
     "duration": 0.026822,
     "end_time": "2025-08-19T18:44:38.418876",
     "exception": false,
     "start_time": "2025-08-19T18:44:38.392054",
     "status": "completed"
    },
    "tags": []
   },
   "outputs": [],
   "source": [
    "from sklearn.pipeline import Pipeline\n",
    "from sklearn.preprocessing import StandardScaler\n",
    "\n",
    "model = Pipeline([\n",
    "    #(\"continuous_processor\", continuous_processor),\n",
    "    #(\"categorical_preprocessor\", categorical_preprocessor),\n",
    "    (\"scale\", StandardScaler() if universe[\"scale\"] == \"scale\" else None), \n",
    "    (\"model\", model),\n",
    "])"
   ]
  },
  {
   "cell_type": "code",
   "execution_count": 34,
   "id": "283a904d",
   "metadata": {
    "execution": {
     "iopub.execute_input": "2025-08-19T18:44:38.446150Z",
     "iopub.status.busy": "2025-08-19T18:44:38.445141Z",
     "iopub.status.idle": "2025-08-19T18:44:38.598644Z",
     "shell.execute_reply": "2025-08-19T18:44:38.598034Z"
    },
    "papermill": {
     "duration": 0.169866,
     "end_time": "2025-08-19T18:44:38.602666",
     "exception": false,
     "start_time": "2025-08-19T18:44:38.432800",
     "status": "completed"
    },
    "tags": []
   },
   "outputs": [
    {
     "name": "stderr",
     "output_type": "stream",
     "text": [
      "/dss/dsshome1/0C/ra93lal2/.local/share/virtualenvs/CMA_Fairness_v2-3j10GkSs/lib/python3.10/site-packages/sklearn/linear_model/_logistic.py:444: ConvergenceWarning: lbfgs failed to converge (status=1):\n",
      "STOP: TOTAL NO. of ITERATIONS REACHED LIMIT.\n",
      "\n",
      "Increase the number of iterations (max_iter) or scale the data as shown in:\n",
      "    https://scikit-learn.org/stable/modules/preprocessing.html\n",
      "Please also refer to the documentation for alternative solver options:\n",
      "    https://scikit-learn.org/stable/modules/linear_model.html#logistic-regression\n",
      "  n_iter_i = _check_optimize_result(\n"
     ]
    },
    {
     "data": {
      "text/html": [
       "<style>#sk-container-id-1 {color: black;background-color: white;}#sk-container-id-1 pre{padding: 0;}#sk-container-id-1 div.sk-toggleable {background-color: white;}#sk-container-id-1 label.sk-toggleable__label {cursor: pointer;display: block;width: 100%;margin-bottom: 0;padding: 0.3em;box-sizing: border-box;text-align: center;}#sk-container-id-1 label.sk-toggleable__label-arrow:before {content: \"▸\";float: left;margin-right: 0.25em;color: #696969;}#sk-container-id-1 label.sk-toggleable__label-arrow:hover:before {color: black;}#sk-container-id-1 div.sk-estimator:hover label.sk-toggleable__label-arrow:before {color: black;}#sk-container-id-1 div.sk-toggleable__content {max-height: 0;max-width: 0;overflow: hidden;text-align: left;background-color: #f0f8ff;}#sk-container-id-1 div.sk-toggleable__content pre {margin: 0.2em;color: black;border-radius: 0.25em;background-color: #f0f8ff;}#sk-container-id-1 input.sk-toggleable__control:checked~div.sk-toggleable__content {max-height: 200px;max-width: 100%;overflow: auto;}#sk-container-id-1 input.sk-toggleable__control:checked~label.sk-toggleable__label-arrow:before {content: \"▾\";}#sk-container-id-1 div.sk-estimator input.sk-toggleable__control:checked~label.sk-toggleable__label {background-color: #d4ebff;}#sk-container-id-1 div.sk-label input.sk-toggleable__control:checked~label.sk-toggleable__label {background-color: #d4ebff;}#sk-container-id-1 input.sk-hidden--visually {border: 0;clip: rect(1px 1px 1px 1px);clip: rect(1px, 1px, 1px, 1px);height: 1px;margin: -1px;overflow: hidden;padding: 0;position: absolute;width: 1px;}#sk-container-id-1 div.sk-estimator {font-family: monospace;background-color: #f0f8ff;border: 1px dotted black;border-radius: 0.25em;box-sizing: border-box;margin-bottom: 0.5em;}#sk-container-id-1 div.sk-estimator:hover {background-color: #d4ebff;}#sk-container-id-1 div.sk-parallel-item::after {content: \"\";width: 100%;border-bottom: 1px solid gray;flex-grow: 1;}#sk-container-id-1 div.sk-label:hover label.sk-toggleable__label {background-color: #d4ebff;}#sk-container-id-1 div.sk-serial::before {content: \"\";position: absolute;border-left: 1px solid gray;box-sizing: border-box;top: 0;bottom: 0;left: 50%;z-index: 0;}#sk-container-id-1 div.sk-serial {display: flex;flex-direction: column;align-items: center;background-color: white;padding-right: 0.2em;padding-left: 0.2em;position: relative;}#sk-container-id-1 div.sk-item {position: relative;z-index: 1;}#sk-container-id-1 div.sk-parallel {display: flex;align-items: stretch;justify-content: center;background-color: white;position: relative;}#sk-container-id-1 div.sk-item::before, #sk-container-id-1 div.sk-parallel-item::before {content: \"\";position: absolute;border-left: 1px solid gray;box-sizing: border-box;top: 0;bottom: 0;left: 50%;z-index: -1;}#sk-container-id-1 div.sk-parallel-item {display: flex;flex-direction: column;z-index: 1;position: relative;background-color: white;}#sk-container-id-1 div.sk-parallel-item:first-child::after {align-self: flex-end;width: 50%;}#sk-container-id-1 div.sk-parallel-item:last-child::after {align-self: flex-start;width: 50%;}#sk-container-id-1 div.sk-parallel-item:only-child::after {width: 0;}#sk-container-id-1 div.sk-dashed-wrapped {border: 1px dashed gray;margin: 0 0.4em 0.5em 0.4em;box-sizing: border-box;padding-bottom: 0.4em;background-color: white;}#sk-container-id-1 div.sk-label label {font-family: monospace;font-weight: bold;display: inline-block;line-height: 1.2em;}#sk-container-id-1 div.sk-label-container {text-align: center;}#sk-container-id-1 div.sk-container {/* jupyter's `normalize.less` sets `[hidden] { display: none; }` but bootstrap.min.css set `[hidden] { display: none !important; }` so we also need the `!important` here to be able to override the default hidden behavior on the sphinx rendered scikit-learn.org. See: https://github.com/scikit-learn/scikit-learn/issues/21755 */display: inline-block !important;position: relative;}#sk-container-id-1 div.sk-text-repr-fallback {display: none;}</style><div id=\"sk-container-id-1\" class=\"sk-top-container\"><div class=\"sk-text-repr-fallback\"><pre>Pipeline(steps=[(&#x27;scale&#x27;, None), (&#x27;model&#x27;, LogisticRegression())])</pre><b>In a Jupyter environment, please rerun this cell to show the HTML representation or trust the notebook. <br />On GitHub, the HTML representation is unable to render, please try loading this page with nbviewer.org.</b></div><div class=\"sk-container\" hidden><div class=\"sk-item sk-dashed-wrapped\"><div class=\"sk-label-container\"><div class=\"sk-label sk-toggleable\"><input class=\"sk-toggleable__control sk-hidden--visually\" id=\"sk-estimator-id-1\" type=\"checkbox\" ><label for=\"sk-estimator-id-1\" class=\"sk-toggleable__label sk-toggleable__label-arrow\">Pipeline</label><div class=\"sk-toggleable__content\"><pre>Pipeline(steps=[(&#x27;scale&#x27;, None), (&#x27;model&#x27;, LogisticRegression())])</pre></div></div></div><div class=\"sk-serial\"><div class=\"sk-item\"><div class=\"sk-estimator sk-toggleable\"><input class=\"sk-toggleable__control sk-hidden--visually\" id=\"sk-estimator-id-2\" type=\"checkbox\" ><label for=\"sk-estimator-id-2\" class=\"sk-toggleable__label sk-toggleable__label-arrow\">None</label><div class=\"sk-toggleable__content\"><pre>None</pre></div></div></div><div class=\"sk-item\"><div class=\"sk-estimator sk-toggleable\"><input class=\"sk-toggleable__control sk-hidden--visually\" id=\"sk-estimator-id-3\" type=\"checkbox\" ><label for=\"sk-estimator-id-3\" class=\"sk-toggleable__label sk-toggleable__label-arrow\">LogisticRegression</label><div class=\"sk-toggleable__content\"><pre>LogisticRegression()</pre></div></div></div></div></div></div></div>"
      ],
      "text/plain": [
       "Pipeline(steps=[('scale', None), ('model', LogisticRegression())])"
      ]
     },
     "execution_count": 34,
     "metadata": {},
     "output_type": "execute_result"
    }
   ],
   "source": [
    "model.fit(X_train, y_train.values.ravel())"
   ]
  },
  {
   "cell_type": "code",
   "execution_count": 35,
   "id": "6e15e313",
   "metadata": {
    "execution": {
     "iopub.execute_input": "2025-08-19T18:44:38.643610Z",
     "iopub.status.busy": "2025-08-19T18:44:38.642244Z",
     "iopub.status.idle": "2025-08-19T18:44:38.750091Z",
     "shell.execute_reply": "2025-08-19T18:44:38.749455Z"
    },
    "papermill": {
     "duration": 0.125006,
     "end_time": "2025-08-19T18:44:38.752672",
     "exception": false,
     "start_time": "2025-08-19T18:44:38.627666",
     "status": "completed"
    },
    "tags": []
   },
   "outputs": [
    {
     "data": {
      "text/plain": [
       "0.8604503399843941"
      ]
     },
     "execution_count": 35,
     "metadata": {},
     "output_type": "execute_result"
    }
   ],
   "source": [
    "from fairness_multiverse.universe import predict_w_threshold\n",
    "\n",
    "probs_test = model.predict_proba(X_test)\n",
    "\n",
    "'''\n",
    "Below code returns a boolean array (or binary 0/1 array depending on how it’s used) where each element \n",
    "is True if the probability of class 1 is greater than or equal to the threshold, and False otherwise.\n",
    "'''\n",
    "y_pred_default = predict_w_threshold(probs_test, 0.5)\n",
    "\n",
    "from sklearn.metrics import accuracy_score\n",
    "\n",
    "# Naive prediction\n",
    "accuracy_score(y_true = y_true, y_pred = y_pred_default)"
   ]
  },
  {
   "cell_type": "code",
   "execution_count": 36,
   "id": "6f14067c",
   "metadata": {
    "execution": {
     "iopub.execute_input": "2025-08-19T18:44:38.793679Z",
     "iopub.status.busy": "2025-08-19T18:44:38.792956Z",
     "iopub.status.idle": "2025-08-19T18:44:38.888354Z",
     "shell.execute_reply": "2025-08-19T18:44:38.887623Z"
    },
    "papermill": {
     "duration": 0.112772,
     "end_time": "2025-08-19T18:44:38.891049",
     "exception": false,
     "start_time": "2025-08-19T18:44:38.778277",
     "status": "completed"
    },
    "tags": []
   },
   "outputs": [
    {
     "data": {
      "text/plain": [
       "array([0, 0, 0, ..., 0, 0, 0])"
      ]
     },
     "execution_count": 36,
     "metadata": {},
     "output_type": "execute_result"
    }
   ],
   "source": [
    "model.predict(X_test)"
   ]
  },
  {
   "cell_type": "markdown",
   "id": "3759920c",
   "metadata": {
    "papermill": {
     "duration": 0.012256,
     "end_time": "2025-08-19T18:44:38.927015",
     "exception": false,
     "start_time": "2025-08-19T18:44:38.914759",
     "status": "completed"
    },
    "tags": []
   },
   "source": [
    "# Conformal Prediction"
   ]
  },
  {
   "cell_type": "code",
   "execution_count": 37,
   "id": "14b27f59",
   "metadata": {
    "execution": {
     "iopub.execute_input": "2025-08-19T18:44:38.964955Z",
     "iopub.status.busy": "2025-08-19T18:44:38.963885Z",
     "iopub.status.idle": "2025-08-19T18:44:38.972455Z",
     "shell.execute_reply": "2025-08-19T18:44:38.970827Z"
    },
    "papermill": {
     "duration": 0.027372,
     "end_time": "2025-08-19T18:44:38.974304",
     "exception": false,
     "start_time": "2025-08-19T18:44:38.946932",
     "status": "completed"
    },
    "tags": []
   },
   "outputs": [],
   "source": [
    "# Miscoverage level for conformal prediction (10% allowed error rate => 90% target coverage)\n",
    "alpha = 0.1"
   ]
  },
  {
   "cell_type": "code",
   "execution_count": 38,
   "id": "59102472",
   "metadata": {
    "execution": {
     "iopub.execute_input": "2025-08-19T18:44:39.011324Z",
     "iopub.status.busy": "2025-08-19T18:44:39.010759Z",
     "iopub.status.idle": "2025-08-19T18:44:39.098758Z",
     "shell.execute_reply": "2025-08-19T18:44:39.097957Z"
    },
    "papermill": {
     "duration": 0.112113,
     "end_time": "2025-08-19T18:44:39.100187",
     "exception": false,
     "start_time": "2025-08-19T18:44:38.988074",
     "status": "completed"
    },
    "tags": []
   },
   "outputs": [],
   "source": [
    "probs_calib = model.predict_proba(X_calib)"
   ]
  },
  {
   "cell_type": "code",
   "execution_count": 39,
   "id": "a792d4dd",
   "metadata": {
    "execution": {
     "iopub.execute_input": "2025-08-19T18:44:39.150824Z",
     "iopub.status.busy": "2025-08-19T18:44:39.148623Z",
     "iopub.status.idle": "2025-08-19T18:44:39.156889Z",
     "shell.execute_reply": "2025-08-19T18:44:39.155759Z"
    },
    "papermill": {
     "duration": 0.046436,
     "end_time": "2025-08-19T18:44:39.158403",
     "exception": false,
     "start_time": "2025-08-19T18:44:39.111967",
     "status": "completed"
    },
    "tags": []
   },
   "outputs": [],
   "source": [
    "y_calib = y_calib.values.ravel().astype(int)"
   ]
  },
  {
   "cell_type": "code",
   "execution_count": 40,
   "id": "650fd033",
   "metadata": {
    "execution": {
     "iopub.execute_input": "2025-08-19T18:44:39.189867Z",
     "iopub.status.busy": "2025-08-19T18:44:39.188694Z",
     "iopub.status.idle": "2025-08-19T18:44:39.196921Z",
     "shell.execute_reply": "2025-08-19T18:44:39.196103Z"
    },
    "papermill": {
     "duration": 0.022221,
     "end_time": "2025-08-19T18:44:39.198070",
     "exception": false,
     "start_time": "2025-08-19T18:44:39.175849",
     "status": "completed"
    },
    "tags": []
   },
   "outputs": [],
   "source": [
    "from fairness_multiverse.conformal import compute_nc_scores\n",
    "\n",
    "# Compute nonconformity scores on calibration set (1 - probability of true class)\n",
    "nc_scores = compute_nc_scores(probs_calib, y_calib)"
   ]
  },
  {
   "cell_type": "code",
   "execution_count": 41,
   "id": "28ada44c",
   "metadata": {
    "execution": {
     "iopub.execute_input": "2025-08-19T18:44:39.224538Z",
     "iopub.status.busy": "2025-08-19T18:44:39.224175Z",
     "iopub.status.idle": "2025-08-19T18:44:39.230210Z",
     "shell.execute_reply": "2025-08-19T18:44:39.229327Z"
    },
    "papermill": {
     "duration": 0.021506,
     "end_time": "2025-08-19T18:44:39.231644",
     "exception": false,
     "start_time": "2025-08-19T18:44:39.210138",
     "status": "completed"
    },
    "tags": []
   },
   "outputs": [],
   "source": [
    "from fairness_multiverse.conformal import find_threshold\n",
    "\n",
    "# Find conformal threshold q_hat for the given alpha (split conformal method)\n",
    "q_hat = find_threshold(nc_scores, alpha)"
   ]
  },
  {
   "cell_type": "code",
   "execution_count": 42,
   "id": "df56469e",
   "metadata": {
    "execution": {
     "iopub.execute_input": "2025-08-19T18:44:39.279970Z",
     "iopub.status.busy": "2025-08-19T18:44:39.278597Z",
     "iopub.status.idle": "2025-08-19T18:44:39.288973Z",
     "shell.execute_reply": "2025-08-19T18:44:39.287702Z"
    },
    "papermill": {
     "duration": 0.043862,
     "end_time": "2025-08-19T18:44:39.290512",
     "exception": false,
     "start_time": "2025-08-19T18:44:39.246650",
     "status": "completed"
    },
    "tags": []
   },
   "outputs": [
    {
     "data": {
      "text/plain": [
       "0.6783977774450525"
      ]
     },
     "execution_count": 42,
     "metadata": {},
     "output_type": "execute_result"
    }
   ],
   "source": [
    "q_hat"
   ]
  },
  {
   "cell_type": "code",
   "execution_count": 43,
   "id": "aa1f5faa",
   "metadata": {
    "execution": {
     "iopub.execute_input": "2025-08-19T18:44:39.326298Z",
     "iopub.status.busy": "2025-08-19T18:44:39.319492Z",
     "iopub.status.idle": "2025-08-19T18:44:39.869811Z",
     "shell.execute_reply": "2025-08-19T18:44:39.868859Z"
    },
    "papermill": {
     "duration": 0.566206,
     "end_time": "2025-08-19T18:44:39.871667",
     "exception": false,
     "start_time": "2025-08-19T18:44:39.305461",
     "status": "completed"
    },
    "tags": []
   },
   "outputs": [],
   "source": [
    "from fairness_multiverse.conformal import predict_conformal_sets\n",
    "\n",
    "# Generate prediction sets for each test example\n",
    "pred_sets = predict_conformal_sets(model, X_test, q_hat)"
   ]
  },
  {
   "cell_type": "code",
   "execution_count": 44,
   "id": "97f67a6b",
   "metadata": {
    "execution": {
     "iopub.execute_input": "2025-08-19T18:44:39.900201Z",
     "iopub.status.busy": "2025-08-19T18:44:39.899426Z",
     "iopub.status.idle": "2025-08-19T18:44:39.908768Z",
     "shell.execute_reply": "2025-08-19T18:44:39.907589Z"
    },
    "papermill": {
     "duration": 0.024406,
     "end_time": "2025-08-19T18:44:39.910402",
     "exception": false,
     "start_time": "2025-08-19T18:44:39.885996",
     "status": "completed"
    },
    "tags": []
   },
   "outputs": [],
   "source": [
    "y_true = y_true.squeeze()"
   ]
  },
  {
   "cell_type": "code",
   "execution_count": 45,
   "id": "e700e9a7",
   "metadata": {
    "execution": {
     "iopub.execute_input": "2025-08-19T18:44:39.939249Z",
     "iopub.status.busy": "2025-08-19T18:44:39.938241Z",
     "iopub.status.idle": "2025-08-19T18:44:40.490362Z",
     "shell.execute_reply": "2025-08-19T18:44:40.488897Z"
    },
    "papermill": {
     "duration": 0.568343,
     "end_time": "2025-08-19T18:44:40.492803",
     "exception": false,
     "start_time": "2025-08-19T18:44:39.924460",
     "status": "completed"
    },
    "tags": []
   },
   "outputs": [],
   "source": [
    "from fairness_multiverse.conformal import evaluate_sets\n",
    "\n",
    "# Evaluate coverage and average set size on test data\n",
    "metrics = evaluate_sets(pred_sets, y_true)"
   ]
  },
  {
   "cell_type": "markdown",
   "id": "efbacec0",
   "metadata": {
    "papermill": {
     "duration": 0.011688,
     "end_time": "2025-08-19T18:44:40.521038",
     "exception": false,
     "start_time": "2025-08-19T18:44:40.509350",
     "status": "completed"
    },
    "tags": []
   },
   "source": [
    "# CP Metrics"
   ]
  },
  {
   "cell_type": "code",
   "execution_count": 46,
   "id": "9de55fb1",
   "metadata": {
    "execution": {
     "iopub.execute_input": "2025-08-19T18:44:40.551476Z",
     "iopub.status.busy": "2025-08-19T18:44:40.550273Z",
     "iopub.status.idle": "2025-08-19T18:44:40.566739Z",
     "shell.execute_reply": "2025-08-19T18:44:40.565588Z"
    },
    "papermill": {
     "duration": 0.035157,
     "end_time": "2025-08-19T18:44:40.568338",
     "exception": false,
     "start_time": "2025-08-19T18:44:40.533181",
     "status": "completed"
    },
    "tags": []
   },
   "outputs": [
    {
     "data": {
      "text/plain": [
       "{'coverage': 0.9126072901571731, 'avg_size': 1.206587894326162}"
      ]
     },
     "execution_count": 46,
     "metadata": {},
     "output_type": "execute_result"
    }
   ],
   "source": [
    "metrics"
   ]
  },
  {
   "cell_type": "code",
   "execution_count": 47,
   "id": "64c340a1",
   "metadata": {
    "execution": {
     "iopub.execute_input": "2025-08-19T18:44:40.596730Z",
     "iopub.status.busy": "2025-08-19T18:44:40.596334Z",
     "iopub.status.idle": "2025-08-19T18:44:40.603675Z",
     "shell.execute_reply": "2025-08-19T18:44:40.602799Z"
    },
    "papermill": {
     "duration": 0.021589,
     "end_time": "2025-08-19T18:44:40.605160",
     "exception": false,
     "start_time": "2025-08-19T18:44:40.583571",
     "status": "completed"
    },
    "tags": []
   },
   "outputs": [],
   "source": [
    "example_universe = universe.copy()\n",
    "universe_training_year = example_universe.get(\"training_year\")\n",
    "universe_training_size = example_universe.get(\"training_size\")\n",
    "universe_scale = example_universe.get(\"scale\")\n",
    "universe_model = example_universe.get(\"model\")\n",
    "universe_exclude_features = example_universe.get(\"exclude_features\")\n",
    "universe_exclude_subgroups = example_universe.get(\"exclude_subgroups\")"
   ]
  },
  {
   "cell_type": "code",
   "execution_count": 48,
   "id": "dbb53cb4",
   "metadata": {
    "execution": {
     "iopub.execute_input": "2025-08-19T18:44:40.630374Z",
     "iopub.status.busy": "2025-08-19T18:44:40.630021Z",
     "iopub.status.idle": "2025-08-19T18:44:40.635925Z",
     "shell.execute_reply": "2025-08-19T18:44:40.635063Z"
    },
    "papermill": {
     "duration": 0.019666,
     "end_time": "2025-08-19T18:44:40.637172",
     "exception": false,
     "start_time": "2025-08-19T18:44:40.617506",
     "status": "completed"
    },
    "tags": []
   },
   "outputs": [],
   "source": [
    "cp_metrics_dict = {\n",
    "    \"universe_id\": [universe_id],\n",
    "    \"universe_training_year\": [universe_training_year],\n",
    "    \"universe_training_size\": [universe_training_size],\n",
    "    \"universe_scale\": [universe_scale],\n",
    "    \"universe_model\": [universe_model],\n",
    "    \"universe_exclude_features\": [universe_exclude_features],\n",
    "    \"universe_exclude_subgroups\": [universe_exclude_subgroups],\n",
    "    \"q_hat\": [q_hat],\n",
    "    \"coverage\": [metrics[\"coverage\"]],\n",
    "    \"avg_size\": [metrics[\"avg_size\"]],\n",
    "}"
   ]
  },
  {
   "cell_type": "code",
   "execution_count": 49,
   "id": "0d70d4b2",
   "metadata": {
    "execution": {
     "iopub.execute_input": "2025-08-19T18:44:40.663206Z",
     "iopub.status.busy": "2025-08-19T18:44:40.662875Z",
     "iopub.status.idle": "2025-08-19T18:44:40.669037Z",
     "shell.execute_reply": "2025-08-19T18:44:40.668283Z"
    },
    "papermill": {
     "duration": 0.020313,
     "end_time": "2025-08-19T18:44:40.670958",
     "exception": false,
     "start_time": "2025-08-19T18:44:40.650645",
     "status": "completed"
    },
    "tags": []
   },
   "outputs": [],
   "source": [
    "cp_metrics_df = pd.DataFrame(cp_metrics_dict)"
   ]
  },
  {
   "cell_type": "code",
   "execution_count": 50,
   "id": "b494403c",
   "metadata": {
    "execution": {
     "iopub.execute_input": "2025-08-19T18:44:40.710735Z",
     "iopub.status.busy": "2025-08-19T18:44:40.710393Z",
     "iopub.status.idle": "2025-08-19T18:44:40.722995Z",
     "shell.execute_reply": "2025-08-19T18:44:40.722278Z"
    },
    "papermill": {
     "duration": 0.036638,
     "end_time": "2025-08-19T18:44:40.734756",
     "exception": false,
     "start_time": "2025-08-19T18:44:40.698118",
     "status": "completed"
    },
    "tags": []
   },
   "outputs": [
    {
     "data": {
      "text/html": [
       "<div>\n",
       "<style scoped>\n",
       "    .dataframe tbody tr th:only-of-type {\n",
       "        vertical-align: middle;\n",
       "    }\n",
       "\n",
       "    .dataframe tbody tr th {\n",
       "        vertical-align: top;\n",
       "    }\n",
       "\n",
       "    .dataframe thead th {\n",
       "        text-align: right;\n",
       "    }\n",
       "</style>\n",
       "<table border=\"1\" class=\"dataframe\">\n",
       "  <thead>\n",
       "    <tr style=\"text-align: right;\">\n",
       "      <th></th>\n",
       "      <th>universe_id</th>\n",
       "      <th>universe_training_year</th>\n",
       "      <th>universe_training_size</th>\n",
       "      <th>universe_scale</th>\n",
       "      <th>universe_model</th>\n",
       "      <th>universe_exclude_features</th>\n",
       "      <th>universe_exclude_subgroups</th>\n",
       "      <th>q_hat</th>\n",
       "      <th>coverage</th>\n",
       "      <th>avg_size</th>\n",
       "    </tr>\n",
       "  </thead>\n",
       "  <tbody>\n",
       "    <tr>\n",
       "      <th>0</th>\n",
       "      <td>7a0c6b1199ba7a0011e3427f0b444807</td>\n",
       "      <td>2010_14</td>\n",
       "      <td>5k</td>\n",
       "      <td>do-not-scale</td>\n",
       "      <td>logreg</td>\n",
       "      <td>none</td>\n",
       "      <td>keep-all</td>\n",
       "      <td>0.678398</td>\n",
       "      <td>0.912607</td>\n",
       "      <td>1.206588</td>\n",
       "    </tr>\n",
       "  </tbody>\n",
       "</table>\n",
       "</div>"
      ],
      "text/plain": [
       "                        universe_id universe_training_year  \\\n",
       "0  7a0c6b1199ba7a0011e3427f0b444807                2010_14   \n",
       "\n",
       "  universe_training_size universe_scale universe_model  \\\n",
       "0                     5k   do-not-scale         logreg   \n",
       "\n",
       "  universe_exclude_features universe_exclude_subgroups     q_hat  coverage  \\\n",
       "0                      none                   keep-all  0.678398  0.912607   \n",
       "\n",
       "   avg_size  \n",
       "0  1.206588  "
      ]
     },
     "execution_count": 50,
     "metadata": {},
     "output_type": "execute_result"
    }
   ],
   "source": [
    "cp_metrics_df"
   ]
  },
  {
   "cell_type": "markdown",
   "id": "ed608b0b",
   "metadata": {
    "papermill": {
     "duration": 0.011927,
     "end_time": "2025-08-19T18:44:40.761769",
     "exception": false,
     "start_time": "2025-08-19T18:44:40.749842",
     "status": "completed"
    },
    "tags": []
   },
   "source": [
    "Conditional coverage & looking at subgroups"
   ]
  },
  {
   "cell_type": "code",
   "execution_count": 51,
   "id": "8968c366",
   "metadata": {
    "execution": {
     "iopub.execute_input": "2025-08-19T18:44:40.786445Z",
     "iopub.status.busy": "2025-08-19T18:44:40.786047Z",
     "iopub.status.idle": "2025-08-19T18:44:41.082697Z",
     "shell.execute_reply": "2025-08-19T18:44:41.081446Z"
    },
    "papermill": {
     "duration": 0.310927,
     "end_time": "2025-08-19T18:44:41.084357",
     "exception": false,
     "start_time": "2025-08-19T18:44:40.773430",
     "status": "completed"
    },
    "tags": []
   },
   "outputs": [],
   "source": [
    "from fairness_multiverse.conformal import build_cp_groups\n",
    "\n",
    "cp_groups_df = build_cp_groups(pred_sets, y_true, X_test.index, org_test)"
   ]
  },
  {
   "cell_type": "code",
   "execution_count": 52,
   "id": "292ddabf",
   "metadata": {
    "execution": {
     "iopub.execute_input": "2025-08-19T18:44:41.111688Z",
     "iopub.status.busy": "2025-08-19T18:44:41.111356Z",
     "iopub.status.idle": "2025-08-19T18:44:42.042061Z",
     "shell.execute_reply": "2025-08-19T18:44:42.040870Z"
    },
    "papermill": {
     "duration": 0.94642,
     "end_time": "2025-08-19T18:44:42.043802",
     "exception": false,
     "start_time": "2025-08-19T18:44:41.097382",
     "status": "completed"
    },
    "tags": []
   },
   "outputs": [],
   "source": [
    "# Define covered = 1 if true_label is in the predicted set\n",
    "cp_groups_df['covered'] = cp_groups_df.apply(\n",
    "    lambda r: int(r['true_label'] in r['pred_set']),\n",
    "    axis=1\n",
    ")"
   ]
  },
  {
   "cell_type": "code",
   "execution_count": 53,
   "id": "3a261692",
   "metadata": {
    "execution": {
     "iopub.execute_input": "2025-08-19T18:44:42.076678Z",
     "iopub.status.busy": "2025-08-19T18:44:42.070308Z",
     "iopub.status.idle": "2025-08-19T18:44:42.095244Z",
     "shell.execute_reply": "2025-08-19T18:44:42.094541Z"
    },
    "papermill": {
     "duration": 0.040033,
     "end_time": "2025-08-19T18:44:42.096806",
     "exception": false,
     "start_time": "2025-08-19T18:44:42.056773",
     "status": "completed"
    },
    "tags": []
   },
   "outputs": [],
   "source": [
    "subgroups = ['frau1','nongerman','nongerman_male','nongerman_female']\n",
    "\n",
    "# Conditional coverage for subgroup==1\n",
    "cond_coverage = {\n",
    "    g: cp_groups_df.loc[cp_groups_df[g]==1, 'covered'].mean()\n",
    "    for g in subgroups\n",
    "}"
   ]
  },
  {
   "cell_type": "code",
   "execution_count": 54,
   "id": "894fd600",
   "metadata": {
    "execution": {
     "iopub.execute_input": "2025-08-19T18:44:42.139985Z",
     "iopub.status.busy": "2025-08-19T18:44:42.139584Z",
     "iopub.status.idle": "2025-08-19T18:44:42.145584Z",
     "shell.execute_reply": "2025-08-19T18:44:42.144993Z"
    },
    "papermill": {
     "duration": 0.025837,
     "end_time": "2025-08-19T18:44:42.149249",
     "exception": false,
     "start_time": "2025-08-19T18:44:42.123412",
     "status": "completed"
    },
    "tags": []
   },
   "outputs": [
    {
     "data": {
      "text/plain": [
       "{'frau1': 0.9127375657096644,\n",
       " 'nongerman': 0.933363274013361,\n",
       " 'nongerman_male': 0.944159236242457,\n",
       " 'nongerman_female': 0.9154992548435171}"
      ]
     },
     "execution_count": 54,
     "metadata": {},
     "output_type": "execute_result"
    }
   ],
   "source": [
    "cond_coverage"
   ]
  },
  {
   "cell_type": "code",
   "execution_count": 55,
   "id": "942895c7",
   "metadata": {
    "execution": {
     "iopub.execute_input": "2025-08-19T18:44:42.177607Z",
     "iopub.status.busy": "2025-08-19T18:44:42.176843Z",
     "iopub.status.idle": "2025-08-19T18:44:42.183172Z",
     "shell.execute_reply": "2025-08-19T18:44:42.182421Z"
    },
    "papermill": {
     "duration": 0.022959,
     "end_time": "2025-08-19T18:44:42.184377",
     "exception": false,
     "start_time": "2025-08-19T18:44:42.161418",
     "status": "completed"
    },
    "tags": []
   },
   "outputs": [],
   "source": [
    "for subgroup, cov in cond_coverage.items():\n",
    "    cp_metrics_df[f\"cov_{subgroup}\"] = cov"
   ]
  },
  {
   "cell_type": "code",
   "execution_count": 56,
   "id": "3970120f",
   "metadata": {
    "execution": {
     "iopub.execute_input": "2025-08-19T18:44:42.264134Z",
     "iopub.status.busy": "2025-08-19T18:44:42.263710Z",
     "iopub.status.idle": "2025-08-19T18:44:42.279119Z",
     "shell.execute_reply": "2025-08-19T18:44:42.278387Z"
    },
    "papermill": {
     "duration": 0.048407,
     "end_time": "2025-08-19T18:44:42.282012",
     "exception": false,
     "start_time": "2025-08-19T18:44:42.233605",
     "status": "completed"
    },
    "tags": []
   },
   "outputs": [
    {
     "data": {
      "text/html": [
       "<div>\n",
       "<style scoped>\n",
       "    .dataframe tbody tr th:only-of-type {\n",
       "        vertical-align: middle;\n",
       "    }\n",
       "\n",
       "    .dataframe tbody tr th {\n",
       "        vertical-align: top;\n",
       "    }\n",
       "\n",
       "    .dataframe thead th {\n",
       "        text-align: right;\n",
       "    }\n",
       "</style>\n",
       "<table border=\"1\" class=\"dataframe\">\n",
       "  <thead>\n",
       "    <tr style=\"text-align: right;\">\n",
       "      <th></th>\n",
       "      <th>universe_id</th>\n",
       "      <th>universe_training_year</th>\n",
       "      <th>universe_training_size</th>\n",
       "      <th>universe_scale</th>\n",
       "      <th>universe_model</th>\n",
       "      <th>universe_exclude_features</th>\n",
       "      <th>universe_exclude_subgroups</th>\n",
       "      <th>q_hat</th>\n",
       "      <th>coverage</th>\n",
       "      <th>avg_size</th>\n",
       "      <th>cov_frau1</th>\n",
       "      <th>cov_nongerman</th>\n",
       "      <th>cov_nongerman_male</th>\n",
       "      <th>cov_nongerman_female</th>\n",
       "    </tr>\n",
       "  </thead>\n",
       "  <tbody>\n",
       "    <tr>\n",
       "      <th>0</th>\n",
       "      <td>7a0c6b1199ba7a0011e3427f0b444807</td>\n",
       "      <td>2010_14</td>\n",
       "      <td>5k</td>\n",
       "      <td>do-not-scale</td>\n",
       "      <td>logreg</td>\n",
       "      <td>none</td>\n",
       "      <td>keep-all</td>\n",
       "      <td>0.678398</td>\n",
       "      <td>0.912607</td>\n",
       "      <td>1.206588</td>\n",
       "      <td>0.912738</td>\n",
       "      <td>0.933363</td>\n",
       "      <td>0.944159</td>\n",
       "      <td>0.915499</td>\n",
       "    </tr>\n",
       "  </tbody>\n",
       "</table>\n",
       "</div>"
      ],
      "text/plain": [
       "                        universe_id universe_training_year  \\\n",
       "0  7a0c6b1199ba7a0011e3427f0b444807                2010_14   \n",
       "\n",
       "  universe_training_size universe_scale universe_model  \\\n",
       "0                     5k   do-not-scale         logreg   \n",
       "\n",
       "  universe_exclude_features universe_exclude_subgroups     q_hat  coverage  \\\n",
       "0                      none                   keep-all  0.678398  0.912607   \n",
       "\n",
       "   avg_size  cov_frau1  cov_nongerman  cov_nongerman_male  \\\n",
       "0  1.206588   0.912738       0.933363            0.944159   \n",
       "\n",
       "   cov_nongerman_female  \n",
       "0              0.915499  "
      ]
     },
     "execution_count": 56,
     "metadata": {},
     "output_type": "execute_result"
    }
   ],
   "source": [
    "cp_metrics_df"
   ]
  },
  {
   "cell_type": "markdown",
   "id": "3fc519cc",
   "metadata": {
    "papermill": {
     "duration": 0.015886,
     "end_time": "2025-08-19T18:44:42.325556",
     "exception": false,
     "start_time": "2025-08-19T18:44:42.309670",
     "status": "completed"
    },
    "tags": []
   },
   "source": [
    "# (Fairness) Metrics"
   ]
  },
  {
   "cell_type": "code",
   "execution_count": 57,
   "id": "a2e5e155",
   "metadata": {
    "execution": {
     "iopub.execute_input": "2025-08-19T18:44:42.352706Z",
     "iopub.status.busy": "2025-08-19T18:44:42.351475Z",
     "iopub.status.idle": "2025-08-19T18:44:42.373413Z",
     "shell.execute_reply": "2025-08-19T18:44:42.372692Z"
    },
    "papermill": {
     "duration": 0.037012,
     "end_time": "2025-08-19T18:44:42.374887",
     "exception": false,
     "start_time": "2025-08-19T18:44:42.337875",
     "status": "completed"
    },
    "tags": []
   },
   "outputs": [],
   "source": [
    "colname_to_bin = \"maxdeutsch1\"\n",
    "majority_value = org_train[colname_to_bin].mode()[0]\n",
    "\n",
    "org_test[\"majmin\"] = np.where(org_test[colname_to_bin] == majority_value, \"majority\", \"minority\")"
   ]
  },
  {
   "cell_type": "code",
   "execution_count": 58,
   "id": "17e3e4d5",
   "metadata": {
    "execution": {
     "iopub.execute_input": "2025-08-19T18:44:42.409234Z",
     "iopub.status.busy": "2025-08-19T18:44:42.408295Z",
     "iopub.status.idle": "2025-08-19T18:44:44.214542Z",
     "shell.execute_reply": "2025-08-19T18:44:44.213457Z"
    },
    "papermill": {
     "duration": 1.821954,
     "end_time": "2025-08-19T18:44:44.216079",
     "exception": false,
     "start_time": "2025-08-19T18:44:42.394125",
     "status": "completed"
    },
    "tags": []
   },
   "outputs": [],
   "source": [
    "example_universe = universe.copy()\n",
    "example_universe[\"cutoff\"] = example_universe[\"cutoff\"][0]\n",
    "example_universe[\"eval_fairness_grouping\"] = example_universe[\"eval_fairness_grouping\"][0]\n",
    "fairness_dict, metric_frame = universe_analysis.compute_metrics(\n",
    "    example_universe,\n",
    "    y_pred_prob=probs_test,\n",
    "    y_test=y_true,\n",
    "    org_test=org_test,\n",
    ")"
   ]
  },
  {
   "cell_type": "markdown",
   "id": "1fb7a0e9",
   "metadata": {
    "papermill": {
     "duration": 0.020432,
     "end_time": "2025-08-19T18:44:44.258254",
     "exception": false,
     "start_time": "2025-08-19T18:44:44.237822",
     "status": "completed"
    },
    "tags": []
   },
   "source": [
    "# Overall"
   ]
  },
  {
   "cell_type": "markdown",
   "id": "be1784b1",
   "metadata": {
    "papermill": {
     "duration": 0.012463,
     "end_time": "2025-08-19T18:44:44.284310",
     "exception": false,
     "start_time": "2025-08-19T18:44:44.271847",
     "status": "completed"
    },
    "tags": []
   },
   "source": [
    "Main fairness target: Equalized Odds. Seems to be a better fit than equal opportunity, since we're not only interested in Y = 1. Seems to be a better fit than demographic parity, since we also care about accuracy, not just equal distribution of preds.\n",
    "\n",
    "Pick column for computation of fairness metrics\n",
    "\n",
    "Performance\n",
    "Overall performance measures, most interesting in relation to the measures split by group below"
   ]
  },
  {
   "cell_type": "code",
   "execution_count": 59,
   "id": "b7672bee",
   "metadata": {
    "execution": {
     "iopub.execute_input": "2025-08-19T18:44:44.328762Z",
     "iopub.status.busy": "2025-08-19T18:44:44.328281Z",
     "iopub.status.idle": "2025-08-19T18:44:44.336522Z",
     "shell.execute_reply": "2025-08-19T18:44:44.335791Z"
    },
    "papermill": {
     "duration": 0.027466,
     "end_time": "2025-08-19T18:44:44.338896",
     "exception": false,
     "start_time": "2025-08-19T18:44:44.311430",
     "status": "completed"
    },
    "tags": []
   },
   "outputs": [
    {
     "data": {
      "text/plain": [
       "accuracy                   0.218159\n",
       "balanced accuracy          0.534730\n",
       "f1                         0.239661\n",
       "precision                  0.136910\n",
       "false positive rate        0.891090\n",
       "false negative rate        0.039451\n",
       "selection rate             0.900000\n",
       "count                  89710.000000\n",
       "dtype: float64"
      ]
     },
     "execution_count": 59,
     "metadata": {},
     "output_type": "execute_result"
    }
   ],
   "source": [
    "metric_frame.overall"
   ]
  },
  {
   "cell_type": "markdown",
   "id": "d93333c9",
   "metadata": {
    "papermill": {
     "duration": 0.013331,
     "end_time": "2025-08-19T18:44:44.366004",
     "exception": false,
     "start_time": "2025-08-19T18:44:44.352673",
     "status": "completed"
    },
    "tags": []
   },
   "source": [
    "By Group"
   ]
  },
  {
   "cell_type": "code",
   "execution_count": 60,
   "id": "52256966",
   "metadata": {
    "execution": {
     "iopub.execute_input": "2025-08-19T18:44:44.392441Z",
     "iopub.status.busy": "2025-08-19T18:44:44.391999Z",
     "iopub.status.idle": "2025-08-19T18:44:44.407168Z",
     "shell.execute_reply": "2025-08-19T18:44:44.406476Z"
    },
    "papermill": {
     "duration": 0.029828,
     "end_time": "2025-08-19T18:44:44.408390",
     "exception": false,
     "start_time": "2025-08-19T18:44:44.378562",
     "status": "completed"
    },
    "tags": []
   },
   "outputs": [
    {
     "data": {
      "text/html": [
       "<div>\n",
       "<style scoped>\n",
       "    .dataframe tbody tr th:only-of-type {\n",
       "        vertical-align: middle;\n",
       "    }\n",
       "\n",
       "    .dataframe tbody tr th {\n",
       "        vertical-align: top;\n",
       "    }\n",
       "\n",
       "    .dataframe thead th {\n",
       "        text-align: right;\n",
       "    }\n",
       "</style>\n",
       "<table border=\"1\" class=\"dataframe\">\n",
       "  <thead>\n",
       "    <tr style=\"text-align: right;\">\n",
       "      <th></th>\n",
       "      <th>accuracy</th>\n",
       "      <th>balanced accuracy</th>\n",
       "      <th>f1</th>\n",
       "      <th>precision</th>\n",
       "      <th>false positive rate</th>\n",
       "      <th>false negative rate</th>\n",
       "      <th>selection rate</th>\n",
       "      <th>count</th>\n",
       "    </tr>\n",
       "    <tr>\n",
       "      <th>majmin</th>\n",
       "      <th></th>\n",
       "      <th></th>\n",
       "      <th></th>\n",
       "      <th></th>\n",
       "      <th></th>\n",
       "      <th></th>\n",
       "      <th></th>\n",
       "      <th></th>\n",
       "    </tr>\n",
       "  </thead>\n",
       "  <tbody>\n",
       "    <tr>\n",
       "      <th>majority</th>\n",
       "      <td>0.240379</td>\n",
       "      <td>0.542976</td>\n",
       "      <td>0.249246</td>\n",
       "      <td>0.143343</td>\n",
       "      <td>0.868316</td>\n",
       "      <td>0.045733</td>\n",
       "      <td>0.879673</td>\n",
       "      <td>69170.0</td>\n",
       "    </tr>\n",
       "    <tr>\n",
       "      <th>minority</th>\n",
       "      <td>0.143330</td>\n",
       "      <td>0.509238</td>\n",
       "      <td>0.209524</td>\n",
       "      <td>0.117233</td>\n",
       "      <td>0.966322</td>\n",
       "      <td>0.015203</td>\n",
       "      <td>0.968452</td>\n",
       "      <td>20540.0</td>\n",
       "    </tr>\n",
       "  </tbody>\n",
       "</table>\n",
       "</div>"
      ],
      "text/plain": [
       "          accuracy  balanced accuracy        f1  precision  \\\n",
       "majmin                                                       \n",
       "majority  0.240379           0.542976  0.249246   0.143343   \n",
       "minority  0.143330           0.509238  0.209524   0.117233   \n",
       "\n",
       "          false positive rate  false negative rate  selection rate    count  \n",
       "majmin                                                                       \n",
       "majority             0.868316             0.045733        0.879673  69170.0  \n",
       "minority             0.966322             0.015203        0.968452  20540.0  "
      ]
     },
     "execution_count": 60,
     "metadata": {},
     "output_type": "execute_result"
    }
   ],
   "source": [
    "metric_frame.by_group"
   ]
  },
  {
   "cell_type": "code",
   "execution_count": 61,
   "id": "6e6c20ae",
   "metadata": {
    "execution": {
     "iopub.execute_input": "2025-08-19T18:44:44.438749Z",
     "iopub.status.busy": "2025-08-19T18:44:44.437489Z",
     "iopub.status.idle": "2025-08-19T18:44:46.265520Z",
     "shell.execute_reply": "2025-08-19T18:44:46.264114Z"
    },
    "papermill": {
     "duration": 1.845012,
     "end_time": "2025-08-19T18:44:46.267110",
     "exception": false,
     "start_time": "2025-08-19T18:44:44.422098",
     "status": "completed"
    },
    "tags": []
   },
   "outputs": [
    {
     "data": {
      "text/plain": [
       "array([[<Axes: title={'center': 'accuracy'}, xlabel='majmin'>,\n",
       "        <Axes: title={'center': 'balanced accuracy'}, xlabel='majmin'>,\n",
       "        <Axes: title={'center': 'f1'}, xlabel='majmin'>],\n",
       "       [<Axes: title={'center': 'precision'}, xlabel='majmin'>,\n",
       "        <Axes: title={'center': 'false positive rate'}, xlabel='majmin'>,\n",
       "        <Axes: title={'center': 'false negative rate'}, xlabel='majmin'>],\n",
       "       [<Axes: title={'center': 'selection rate'}, xlabel='majmin'>,\n",
       "        <Axes: title={'center': 'count'}, xlabel='majmin'>,\n",
       "        <Axes: xlabel='majmin'>]], dtype=object)"
      ]
     },
     "execution_count": 61,
     "metadata": {},
     "output_type": "execute_result"
    },
    {
     "data": {
      "image/png": "[encoded data removed]",
      "text/plain": [
       "<Figure size 1200x800 with 9 Axes>"
      ]
     },
     "metadata": {},
     "output_type": "display_data"
    }
   ],
   "source": [
    "# In a graphic\n",
    "metric_frame.by_group.plot.bar(\n",
    "    subplots=True,\n",
    "    layout=[3, 3],\n",
    "    legend=False,\n",
    "    figsize=[12, 8],\n",
    "    title=\"Show all metrics\",\n",
    ")"
   ]
  },
  {
   "cell_type": "markdown",
   "id": "b2e433ae",
   "metadata": {
    "papermill": {
     "duration": 0.020878,
     "end_time": "2025-08-19T18:44:46.307420",
     "exception": false,
     "start_time": "2025-08-19T18:44:46.286542",
     "status": "completed"
    },
    "tags": []
   },
   "source": [
    "# Final Output"
   ]
  },
  {
   "cell_type": "code",
   "execution_count": 62,
   "id": "3871301e",
   "metadata": {
    "execution": {
     "iopub.execute_input": "2025-08-19T18:44:46.339811Z",
     "iopub.status.busy": "2025-08-19T18:44:46.338940Z",
     "iopub.status.idle": "2025-08-19T18:44:46.350048Z",
     "shell.execute_reply": "2025-08-19T18:44:46.349017Z"
    },
    "papermill": {
     "duration": 0.032981,
     "end_time": "2025-08-19T18:44:46.354310",
     "exception": false,
     "start_time": "2025-08-19T18:44:46.321329",
     "status": "completed"
    },
    "tags": []
   },
   "outputs": [
    {
     "data": {
      "text/plain": [
       "4"
      ]
     },
     "execution_count": 62,
     "metadata": {},
     "output_type": "execute_result"
    }
   ],
   "source": [
    "sub_universes = universe_analysis.generate_sub_universes()\n",
    "len(sub_universes)"
   ]
  },
  {
   "cell_type": "code",
   "execution_count": 63,
   "id": "d9cfdaca",
   "metadata": {
    "execution": {
     "iopub.execute_input": "2025-08-19T18:44:46.407951Z",
     "iopub.status.busy": "2025-08-19T18:44:46.406888Z",
     "iopub.status.idle": "2025-08-19T18:44:46.416142Z",
     "shell.execute_reply": "2025-08-19T18:44:46.414965Z"
    },
    "papermill": {
     "duration": 0.03889,
     "end_time": "2025-08-19T18:44:46.417825",
     "exception": false,
     "start_time": "2025-08-19T18:44:46.378935",
     "status": "completed"
    },
    "tags": []
   },
   "outputs": [],
   "source": [
    "def filter_sub_universe_data(sub_universe, org_test):\n",
    "    # Keep all rows — no filtering\n",
    "    keep_rows_mask = np.ones(org_test.shape[0], dtype=bool)\n",
    "\n",
    "    print(f\"[INFO] Keeping all rows: {keep_rows_mask.sum()} rows retained.\")\n",
    "    return keep_rows_mask"
   ]
  },
  {
   "cell_type": "code",
   "execution_count": 64,
   "id": "2bc31ac1",
   "metadata": {
    "execution": {
     "iopub.execute_input": "2025-08-19T18:44:46.452245Z",
     "iopub.status.busy": "2025-08-19T18:44:46.451207Z",
     "iopub.status.idle": "2025-08-19T18:44:53.182868Z",
     "shell.execute_reply": "2025-08-19T18:44:53.181618Z"
    },
    "papermill": {
     "duration": 6.749428,
     "end_time": "2025-08-19T18:44:53.184432",
     "exception": false,
     "start_time": "2025-08-19T18:44:46.435004",
     "status": "completed"
    },
    "tags": []
   },
   "outputs": [
    {
     "name": "stdout",
     "output_type": "stream",
     "text": [
      "Stopping execution_time clock.\n",
      "[INFO] Keeping all rows: 89710 rows retained.\n"
     ]
    },
    {
     "name": "stdout",
     "output_type": "stream",
     "text": [
      "[INFO] Keeping all rows: 89710 rows retained.\n"
     ]
    },
    {
     "name": "stdout",
     "output_type": "stream",
     "text": [
      "[INFO] Keeping all rows: 89710 rows retained.\n"
     ]
    },
    {
     "name": "stdout",
     "output_type": "stream",
     "text": [
      "[INFO] Keeping all rows: 89710 rows retained.\n"
     ]
    },
    {
     "data": {
      "text/html": [
       "<div>\n",
       "<style scoped>\n",
       "    .dataframe tbody tr th:only-of-type {\n",
       "        vertical-align: middle;\n",
       "    }\n",
       "\n",
       "    .dataframe tbody tr th {\n",
       "        vertical-align: top;\n",
       "    }\n",
       "\n",
       "    .dataframe thead th {\n",
       "        text-align: right;\n",
       "    }\n",
       "</style>\n",
       "<table border=\"1\" class=\"dataframe\">\n",
       "  <thead>\n",
       "    <tr style=\"text-align: right;\">\n",
       "      <th></th>\n",
       "      <th>run_no</th>\n",
       "      <th>universe_id</th>\n",
       "      <th>universe_settings</th>\n",
       "      <th>execution_time</th>\n",
       "      <th>test_size_n</th>\n",
       "      <th>test_size_frac</th>\n",
       "      <th>fair_main_equalized_odds_difference</th>\n",
       "      <th>fair_main_equalized_odds_ratio</th>\n",
       "      <th>fair_main_demographic_parity_difference</th>\n",
       "      <th>fair_main_demographic_parity_ratio</th>\n",
       "      <th>...</th>\n",
       "      <th>perf_grp_precision_0</th>\n",
       "      <th>perf_grp_precision_1</th>\n",
       "      <th>perf_grp_false positive rate_0</th>\n",
       "      <th>perf_grp_false positive rate_1</th>\n",
       "      <th>perf_grp_false negative rate_0</th>\n",
       "      <th>perf_grp_false negative rate_1</th>\n",
       "      <th>perf_grp_selection rate_0</th>\n",
       "      <th>perf_grp_selection rate_1</th>\n",
       "      <th>perf_grp_count_0</th>\n",
       "      <th>perf_grp_count_1</th>\n",
       "    </tr>\n",
       "  </thead>\n",
       "  <tbody>\n",
       "    <tr>\n",
       "      <th>0</th>\n",
       "      <td>3</td>\n",
       "      <td>7a0c6b1199ba7a0011e3427f0b444807</td>\n",
       "      <td>{\"cutoff\": \"quantile_0.1\", \"eval_fairness_grou...</td>\n",
       "      <td>21.871763</td>\n",
       "      <td>89710</td>\n",
       "      <td>1.0</td>\n",
       "      <td>0.098006</td>\n",
       "      <td>0.898578</td>\n",
       "      <td>0.088779</td>\n",
       "      <td>0.908329</td>\n",
       "      <td>...</td>\n",
       "      <td>NaN</td>\n",
       "      <td>NaN</td>\n",
       "      <td>NaN</td>\n",
       "      <td>NaN</td>\n",
       "      <td>NaN</td>\n",
       "      <td>NaN</td>\n",
       "      <td>NaN</td>\n",
       "      <td>NaN</td>\n",
       "      <td>NaN</td>\n",
       "      <td>NaN</td>\n",
       "    </tr>\n",
       "    <tr>\n",
       "      <th>0</th>\n",
       "      <td>3</td>\n",
       "      <td>7a0c6b1199ba7a0011e3427f0b444807</td>\n",
       "      <td>{\"cutoff\": \"quantile_0.1\", \"eval_fairness_grou...</td>\n",
       "      <td>21.871763</td>\n",
       "      <td>89710</td>\n",
       "      <td>1.0</td>\n",
       "      <td>0.098006</td>\n",
       "      <td>0.898578</td>\n",
       "      <td>0.088779</td>\n",
       "      <td>0.908329</td>\n",
       "      <td>...</td>\n",
       "      <td>0.117233</td>\n",
       "      <td>0.143343</td>\n",
       "      <td>0.966322</td>\n",
       "      <td>0.868316</td>\n",
       "      <td>0.015203</td>\n",
       "      <td>0.045733</td>\n",
       "      <td>0.968452</td>\n",
       "      <td>0.879673</td>\n",
       "      <td>20540.0</td>\n",
       "      <td>69170.0</td>\n",
       "    </tr>\n",
       "    <tr>\n",
       "      <th>0</th>\n",
       "      <td>3</td>\n",
       "      <td>7a0c6b1199ba7a0011e3427f0b444807</td>\n",
       "      <td>{\"cutoff\": \"quantile_0.25\", \"eval_fairness_gro...</td>\n",
       "      <td>21.871763</td>\n",
       "      <td>89710</td>\n",
       "      <td>1.0</td>\n",
       "      <td>0.221329</td>\n",
       "      <td>0.754067</td>\n",
       "      <td>0.202506</td>\n",
       "      <td>0.776517</td>\n",
       "      <td>...</td>\n",
       "      <td>NaN</td>\n",
       "      <td>NaN</td>\n",
       "      <td>NaN</td>\n",
       "      <td>NaN</td>\n",
       "      <td>NaN</td>\n",
       "      <td>NaN</td>\n",
       "      <td>NaN</td>\n",
       "      <td>NaN</td>\n",
       "      <td>NaN</td>\n",
       "      <td>NaN</td>\n",
       "    </tr>\n",
       "    <tr>\n",
       "      <th>0</th>\n",
       "      <td>3</td>\n",
       "      <td>7a0c6b1199ba7a0011e3427f0b444807</td>\n",
       "      <td>{\"cutoff\": \"quantile_0.25\", \"eval_fairness_gro...</td>\n",
       "      <td>21.871763</td>\n",
       "      <td>89710</td>\n",
       "      <td>1.0</td>\n",
       "      <td>0.221329</td>\n",
       "      <td>0.754067</td>\n",
       "      <td>0.202506</td>\n",
       "      <td>0.776517</td>\n",
       "      <td>...</td>\n",
       "      <td>0.121320</td>\n",
       "      <td>0.162975</td>\n",
       "      <td>0.899956</td>\n",
       "      <td>0.678627</td>\n",
       "      <td>0.046453</td>\n",
       "      <td>0.132166</td>\n",
       "      <td>0.906134</td>\n",
       "      <td>0.703629</td>\n",
       "      <td>20540.0</td>\n",
       "      <td>69170.0</td>\n",
       "    </tr>\n",
       "  </tbody>\n",
       "</table>\n",
       "<p>4 rows × 50 columns</p>\n",
       "</div>"
      ],
      "text/plain": [
       "  run_no                       universe_id  \\\n",
       "0      3  7a0c6b1199ba7a0011e3427f0b444807   \n",
       "0      3  7a0c6b1199ba7a0011e3427f0b444807   \n",
       "0      3  7a0c6b1199ba7a0011e3427f0b444807   \n",
       "0      3  7a0c6b1199ba7a0011e3427f0b444807   \n",
       "\n",
       "                                   universe_settings  execution_time  \\\n",
       "0  {\"cutoff\": \"quantile_0.1\", \"eval_fairness_grou...       21.871763   \n",
       "0  {\"cutoff\": \"quantile_0.1\", \"eval_fairness_grou...       21.871763   \n",
       "0  {\"cutoff\": \"quantile_0.25\", \"eval_fairness_gro...       21.871763   \n",
       "0  {\"cutoff\": \"quantile_0.25\", \"eval_fairness_gro...       21.871763   \n",
       "\n",
       "   test_size_n  test_size_frac  fair_main_equalized_odds_difference  \\\n",
       "0        89710             1.0                             0.098006   \n",
       "0        89710             1.0                             0.098006   \n",
       "0        89710             1.0                             0.221329   \n",
       "0        89710             1.0                             0.221329   \n",
       "\n",
       "   fair_main_equalized_odds_ratio  fair_main_demographic_parity_difference  \\\n",
       "0                        0.898578                                 0.088779   \n",
       "0                        0.898578                                 0.088779   \n",
       "0                        0.754067                                 0.202506   \n",
       "0                        0.754067                                 0.202506   \n",
       "\n",
       "   fair_main_demographic_parity_ratio  ...  perf_grp_precision_0  \\\n",
       "0                            0.908329  ...                   NaN   \n",
       "0                            0.908329  ...              0.117233   \n",
       "0                            0.776517  ...                   NaN   \n",
       "0                            0.776517  ...              0.121320   \n",
       "\n",
       "   perf_grp_precision_1  perf_grp_false positive rate_0  \\\n",
       "0                   NaN                             NaN   \n",
       "0              0.143343                        0.966322   \n",
       "0                   NaN                             NaN   \n",
       "0              0.162975                        0.899956   \n",
       "\n",
       "   perf_grp_false positive rate_1  perf_grp_false negative rate_0  \\\n",
       "0                             NaN                             NaN   \n",
       "0                        0.868316                        0.015203   \n",
       "0                             NaN                             NaN   \n",
       "0                        0.678627                        0.046453   \n",
       "\n",
       "   perf_grp_false negative rate_1  perf_grp_selection rate_0  \\\n",
       "0                             NaN                        NaN   \n",
       "0                        0.045733                   0.968452   \n",
       "0                             NaN                        NaN   \n",
       "0                        0.132166                   0.906134   \n",
       "\n",
       "   perf_grp_selection rate_1  perf_grp_count_0  perf_grp_count_1  \n",
       "0                        NaN               NaN               NaN  \n",
       "0                   0.879673           20540.0           69170.0  \n",
       "0                        NaN               NaN               NaN  \n",
       "0                   0.703629           20540.0           69170.0  \n",
       "\n",
       "[4 rows x 50 columns]"
      ]
     },
     "execution_count": 64,
     "metadata": {},
     "output_type": "execute_result"
    }
   ],
   "source": [
    "final_output = universe_analysis.generate_final_output(\n",
    "    y_pred_prob=probs_test,\n",
    "    y_test=y_true,\n",
    "    org_test=org_test,\n",
    "    filter_data=filter_sub_universe_data,\n",
    "    cp_metrics_df=cp_metrics_df,\n",
    "    save=True,\n",
    ")\n",
    "final_output"
   ]
  },
  {
   "cell_type": "code",
   "execution_count": null,
   "id": "8b80a1ff",
   "metadata": {
    "papermill": {
     "duration": 0.015456,
     "end_time": "2025-08-19T18:44:53.218621",
     "exception": false,
     "start_time": "2025-08-19T18:44:53.203165",
     "status": "completed"
    },
    "tags": []
   },
   "outputs": [],
   "source": []
  },
  {
   "cell_type": "code",
   "execution_count": null,
   "id": "275c9fad",
   "metadata": {
    "papermill": {
     "duration": 0.015002,
     "end_time": "2025-08-19T18:44:53.248881",
     "exception": false,
     "start_time": "2025-08-19T18:44:53.233879",
     "status": "completed"
    },
    "tags": []
   },
   "outputs": [],
   "source": []
  }
 ],
 "metadata": {
  "celltoolbar": "Tags",
  "kernelspec": {
   "display_name": "Python (CMA Fairness)",
   "language": "python",
   "name": "cma_fair_env"
  },
  "language_info": {
   "codemirror_mode": {
    "name": "ipython",
    "version": 3
   },
   "file_extension": ".py",
   "mimetype": "text/x-python",
   "name": "python",
   "nbconvert_exporter": "python",
   "pygments_lexer": "ipython3",
   "version": "3.10.12"
  },
  "papermill": {
   "default_parameters": {},
   "duration": 32.520885,
   "end_time": "2025-08-19T18:44:54.087487",
   "environment_variables": {},
   "exception": null,
   "input_path": "universe_analysis.ipynb",
   "output_path": "output/runs/3/notebooks/m_3-7a0c6b1199ba7a0011e3427f0b444807.ipynb",
   "parameters": {
    "output_dir": "output",
    "run_no": "3",
    "seed": "2023",
    "universe": "{\"cutoff\": [\"quantile_0.1\", \"quantile_0.25\"], \"eval_fairness_grouping\": [\"majority-minority\", \"nationality-all\"], \"exclude_features\": \"none\", \"exclude_subgroups\": \"keep-all\", \"model\": \"logreg\", \"scale\": \"do-not-scale\", \"training_size\": \"5k\", \"training_year\": \"2010_14\"}",
    "universe_id": "7a0c6b1199ba7a0011e3427f0b444807"
   },
   "start_time": "2025-08-19T18:44:21.566602",
   "version": "2.6.0"
  }
 },
 "nbformat": 4,
 "nbformat_minor": 5
}