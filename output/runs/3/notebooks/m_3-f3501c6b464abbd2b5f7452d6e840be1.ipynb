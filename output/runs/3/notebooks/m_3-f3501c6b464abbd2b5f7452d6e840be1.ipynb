{
 "cells": [
  {
   "cell_type": "markdown",
   "id": "ef23dbb3",
   "metadata": {
    "papermill": {
     "duration": 0.025142,
     "end_time": "2025-08-19T19:09:48.458220",
     "exception": false,
     "start_time": "2025-08-19T19:09:48.433078",
     "status": "completed"
    },
    "tags": []
   },
   "source": [
    "# Setup"
   ]
  },
  {
   "cell_type": "code",
   "execution_count": 1,
   "id": "0bc8e7dc",
   "metadata": {
    "execution": {
     "iopub.execute_input": "2025-08-19T19:09:48.478991Z",
     "iopub.status.busy": "2025-08-19T19:09:48.478506Z",
     "iopub.status.idle": "2025-08-19T19:09:48.488150Z",
     "shell.execute_reply": "2025-08-19T19:09:48.487331Z"
    },
    "papermill": {
     "duration": 0.020398,
     "end_time": "2025-08-19T19:09:48.489410",
     "exception": false,
     "start_time": "2025-08-19T19:09:48.469012",
     "status": "completed"
    },
    "tags": []
   },
   "outputs": [
    {
     "name": "stdout",
     "output_type": "stream",
     "text": [
      "/dss/dsshome1/0C/ra93lal2/cma/CMA_Fairness_v2\n"
     ]
    },
    {
     "name": "stderr",
     "output_type": "stream",
     "text": [
      "/dss/dsshome1/0C/ra93lal2/.local/share/virtualenvs/CMA_Fairness_v2-3j10GkSs/lib/python3.10/site-packages/IPython/core/magics/osm.py:393: UserWarning: This is now an optional IPython functionality, using bookmarks requires you to install the `pickleshare` library.\n",
      "  bkms = self.shell.db.get('bookmarks', {})\n",
      "/dss/dsshome1/0C/ra93lal2/.local/share/virtualenvs/CMA_Fairness_v2-3j10GkSs/lib/python3.10/site-packages/IPython/core/magics/osm.py:417: UserWarning: This is now an optional IPython functionality, setting dhist requires you to install the `pickleshare` library.\n",
      "  self.shell.db['dhist'] = compress_dhist(dhist)[-100:]\n"
     ]
    }
   ],
   "source": [
    "%cd ~/cma/CMA_Fairness_v2"
   ]
  },
  {
   "cell_type": "markdown",
   "id": "9d235661",
   "metadata": {
    "papermill": {
     "duration": 0.008766,
     "end_time": "2025-08-19T19:09:48.507754",
     "exception": false,
     "start_time": "2025-08-19T19:09:48.498988",
     "status": "completed"
    },
    "tags": []
   },
   "source": [
    "The following cell holds the definition of our parameters, these values can be overriden by rendering the with e.g. the following command:\n",
    "\n",
    "papermill -p alpha 0.2 -p ratio 0.3 universe_analysis.ipynb output/test_run.ipynb"
   ]
  },
  {
   "cell_type": "code",
   "execution_count": 2,
   "id": "4a789d8e",
   "metadata": {
    "execution": {
     "iopub.execute_input": "2025-08-19T19:09:48.527921Z",
     "iopub.status.busy": "2025-08-19T19:09:48.526923Z",
     "iopub.status.idle": "2025-08-19T19:09:48.533820Z",
     "shell.execute_reply": "2025-08-19T19:09:48.532647Z"
    },
    "papermill": {
     "duration": 0.018531,
     "end_time": "2025-08-19T19:09:48.535205",
     "exception": false,
     "start_time": "2025-08-19T19:09:48.516674",
     "status": "completed"
    },
    "tags": []
   },
   "outputs": [
    {
     "name": "stdout",
     "output_type": "stream",
     "text": [
      "Current working directory: /dss/dsshome1/0C/ra93lal2/cma/CMA_Fairness_v2\n"
     ]
    }
   ],
   "source": [
    "import os\n",
    "print(\"Current working directory:\", os.getcwd())"
   ]
  },
  {
   "cell_type": "code",
   "execution_count": 3,
   "id": "4132aaed",
   "metadata": {
    "execution": {
     "iopub.execute_input": "2025-08-19T19:09:48.559060Z",
     "iopub.status.busy": "2025-08-19T19:09:48.557491Z",
     "iopub.status.idle": "2025-08-19T19:09:48.578832Z",
     "shell.execute_reply": "2025-08-19T19:09:48.577511Z"
    },
    "papermill": {
     "duration": 0.036182,
     "end_time": "2025-08-19T19:09:48.583224",
     "exception": false,
     "start_time": "2025-08-19T19:09:48.547042",
     "status": "completed"
    },
    "tags": [
     "parameters"
    ]
   },
   "outputs": [],
   "source": [
    "run_no = 0\n",
    "universe_id = \"test\"\n",
    "universe = {\n",
    "    \"training_size\": \"5k\", # \"25k\", \"5k\", \"1k\"\n",
    "    \"training_year\": \"2012_14\", # \"2014\", \"2012_14\", \"2010_14\"\n",
    "    \"scale\": \"scale\", # \"scale\", \"do-not-scale\",\n",
    "    \"model\": \"elasticnet\", # \"logreg\", \"penalized_logreg\", \"rf\", \"gbm\", \"elasticnet\"\n",
    "    \"cutoff\": [\"quantile_0.15\", \"quantile_0.30\"],\n",
    "    \"exclude_features\": \"age\", # \"none\", \"nationality\", \"sex\", \"nationality-sex\", \"age\"\n",
    "    \"exclude_subgroups\": \"drop-non-german\", # \"keep-all\", \"drop-non-german\"\n",
    "    \"eval_fairness_grouping\": [\"majority-minority\", \"nationality-all\"]\n",
    "}\n",
    "\n",
    "output_dir=\"./output\"\n",
    "seed=0"
   ]
  },
  {
   "cell_type": "code",
   "execution_count": 4,
   "id": "c1c33d2b",
   "metadata": {
    "execution": {
     "iopub.execute_input": "2025-08-19T19:09:48.616560Z",
     "iopub.status.busy": "2025-08-19T19:09:48.616077Z",
     "iopub.status.idle": "2025-08-19T19:09:48.620752Z",
     "shell.execute_reply": "2025-08-19T19:09:48.620029Z"
    },
    "papermill": {
     "duration": 0.016956,
     "end_time": "2025-08-19T19:09:48.621895",
     "exception": false,
     "start_time": "2025-08-19T19:09:48.604939",
     "status": "completed"
    },
    "tags": [
     "injected-parameters"
    ]
   },
   "outputs": [],
   "source": [
    "# Parameters\n",
    "universe_id = \"f3501c6b464abbd2b5f7452d6e840be1\"\n",
    "run_no = \"3\"\n",
    "universe = \"{\\\"cutoff\\\": [\\\"quantile_0.1\\\", \\\"quantile_0.25\\\"], \\\"eval_fairness_grouping\\\": [\\\"majority-minority\\\", \\\"nationality-all\\\"], \\\"exclude_features\\\": \\\"age\\\", \\\"exclude_subgroups\\\": \\\"keep-all\\\", \\\"model\\\": \\\"penalized_logreg\\\", \\\"scale\\\": \\\"do-not-scale\\\", \\\"training_size\\\": \\\"1k\\\", \\\"training_year\\\": \\\"2010_14\\\"}\"\n",
    "output_dir = \"output\"\n",
    "seed = \"2023\"\n"
   ]
  },
  {
   "cell_type": "code",
   "execution_count": 5,
   "id": "a5d7941f",
   "metadata": {
    "execution": {
     "iopub.execute_input": "2025-08-19T19:09:48.643500Z",
     "iopub.status.busy": "2025-08-19T19:09:48.642591Z",
     "iopub.status.idle": "2025-08-19T19:09:48.657046Z",
     "shell.execute_reply": "2025-08-19T19:09:48.656131Z"
    },
    "papermill": {
     "duration": 0.027,
     "end_time": "2025-08-19T19:09:48.658840",
     "exception": false,
     "start_time": "2025-08-19T19:09:48.631840",
     "status": "completed"
    },
    "tags": []
   },
   "outputs": [],
   "source": [
    "import json\n",
    "if isinstance(universe, str):\n",
    "    universe = json.loads(universe)"
   ]
  },
  {
   "cell_type": "code",
   "execution_count": 6,
   "id": "7076ccb1",
   "metadata": {
    "execution": {
     "iopub.execute_input": "2025-08-19T19:09:48.680465Z",
     "iopub.status.busy": "2025-08-19T19:09:48.680027Z",
     "iopub.status.idle": "2025-08-19T19:09:48.724388Z",
     "shell.execute_reply": "2025-08-19T19:09:48.723670Z"
    },
    "papermill": {
     "duration": 0.056983,
     "end_time": "2025-08-19T19:09:48.727256",
     "exception": false,
     "start_time": "2025-08-19T19:09:48.670273",
     "status": "completed"
    },
    "tags": []
   },
   "outputs": [],
   "source": [
    "# Auto-reload the custom package\n",
    "%load_ext autoreload\n",
    "%autoreload 1\n",
    "%aimport fairness_multiverse"
   ]
  },
  {
   "cell_type": "code",
   "execution_count": 7,
   "id": "94c8eb93",
   "metadata": {
    "execution": {
     "iopub.execute_input": "2025-08-19T19:09:48.760442Z",
     "iopub.status.busy": "2025-08-19T19:09:48.759900Z",
     "iopub.status.idle": "2025-08-19T19:09:50.416533Z",
     "shell.execute_reply": "2025-08-19T19:09:50.415223Z"
    },
    "papermill": {
     "duration": 1.669298,
     "end_time": "2025-08-19T19:09:50.418327",
     "exception": false,
     "start_time": "2025-08-19T19:09:48.749029",
     "status": "completed"
    },
    "tags": []
   },
   "outputs": [],
   "source": [
    "from fairness_multiverse.universe import UniverseAnalysis\n",
    "\n",
    "universe_analysis = UniverseAnalysis(\n",
    "    run_no = run_no,\n",
    "    universe_id = universe_id,\n",
    "    universe = universe,\n",
    "    output_dir=output_dir,\n",
    ")"
   ]
  },
  {
   "cell_type": "code",
   "execution_count": 8,
   "id": "2a6381cf",
   "metadata": {
    "execution": {
     "iopub.execute_input": "2025-08-19T19:09:50.439007Z",
     "iopub.status.busy": "2025-08-19T19:09:50.438170Z",
     "iopub.status.idle": "2025-08-19T19:09:50.446336Z",
     "shell.execute_reply": "2025-08-19T19:09:50.445288Z"
    },
    "papermill": {
     "duration": 0.020018,
     "end_time": "2025-08-19T19:09:50.447808",
     "exception": false,
     "start_time": "2025-08-19T19:09:50.427790",
     "status": "completed"
    },
    "tags": []
   },
   "outputs": [
    {
     "name": "stdout",
     "output_type": "stream",
     "text": [
      "Using Seed: 2023\n"
     ]
    }
   ],
   "source": [
    "import numpy as np\n",
    "parsed_seed = int(seed)\n",
    "np.random.seed(parsed_seed)\n",
    "print(f\"Using Seed: {parsed_seed}\")"
   ]
  },
  {
   "cell_type": "markdown",
   "id": "b6e958b4",
   "metadata": {
    "papermill": {
     "duration": 0.009272,
     "end_time": "2025-08-19T19:09:50.468710",
     "exception": false,
     "start_time": "2025-08-19T19:09:50.459438",
     "status": "completed"
    },
    "tags": []
   },
   "source": [
    "# Loading Data"
   ]
  },
  {
   "cell_type": "code",
   "execution_count": 9,
   "id": "98701482",
   "metadata": {
    "execution": {
     "iopub.execute_input": "2025-08-19T19:09:50.487806Z",
     "iopub.status.busy": "2025-08-19T19:09:50.487409Z",
     "iopub.status.idle": "2025-08-19T19:10:00.570941Z",
     "shell.execute_reply": "2025-08-19T19:10:00.569752Z"
    },
    "papermill": {
     "duration": 10.094872,
     "end_time": "2025-08-19T19:10:00.572391",
     "exception": false,
     "start_time": "2025-08-19T19:09:50.477519",
     "status": "completed"
    },
    "tags": []
   },
   "outputs": [
    {
     "name": "stdout",
     "output_type": "stream",
     "text": [
      "Loading SIAB data from cache: data/siab_cached.csv.gz\n"
     ]
    },
    {
     "name": "stdout",
     "output_type": "stream",
     "text": [
      "(643690, 164)\n"
     ]
    }
   ],
   "source": [
    "from pathlib import Path\n",
    "import pandas as pd\n",
    "\n",
    "# File paths\n",
    "raw_file = Path(\"data/raw/siab.csv\")\n",
    "cache_file = Path(\"data/siab_cached.csv.gz\")\n",
    "\n",
    "# Ensure cache directory exists\n",
    "cache_file.parent.mkdir(parents=True, exist_ok=True)\n",
    "\n",
    "# Load with simple caching\n",
    "if cache_file.exists():\n",
    "    print(f\"Loading SIAB data from cache: {cache_file}\")\n",
    "    siab = pd.read_csv(cache_file, compression='gzip')\n",
    "else:\n",
    "    print(f\"Cache not found. Reading raw SIAB data: {raw_file}\")\n",
    "    siab = pd.read_csv(raw_file)\n",
    "    siab.to_csv(cache_file, index=False, compression='gzip')\n",
    "    print(f\"Cached SIAB data to: {cache_file}\")\n",
    "\n",
    "print(siab.shape)"
   ]
  },
  {
   "cell_type": "code",
   "execution_count": 10,
   "id": "058d2abb",
   "metadata": {
    "execution": {
     "iopub.execute_input": "2025-08-19T19:10:00.596880Z",
     "iopub.status.busy": "2025-08-19T19:10:00.595773Z",
     "iopub.status.idle": "2025-08-19T19:10:00.726778Z",
     "shell.execute_reply": "2025-08-19T19:10:00.726021Z"
    },
    "papermill": {
     "duration": 0.145571,
     "end_time": "2025-08-19T19:10:00.730093",
     "exception": false,
     "start_time": "2025-08-19T19:10:00.584522",
     "status": "completed"
    },
    "tags": []
   },
   "outputs": [
    {
     "data": {
      "text/html": [
       "<div>\n",
       "<style scoped>\n",
       "    .dataframe tbody tr th:only-of-type {\n",
       "        vertical-align: middle;\n",
       "    }\n",
       "\n",
       "    .dataframe tbody tr th {\n",
       "        vertical-align: top;\n",
       "    }\n",
       "\n",
       "    .dataframe thead th {\n",
       "        text-align: right;\n",
       "    }\n",
       "</style>\n",
       "<table border=\"1\" class=\"dataframe\">\n",
       "  <thead>\n",
       "    <tr style=\"text-align: right;\">\n",
       "      <th></th>\n",
       "      <th>persnr</th>\n",
       "      <th>year</th>\n",
       "      <th>nrEntry</th>\n",
       "      <th>ltue</th>\n",
       "      <th>employed_before</th>\n",
       "      <th>receipt_leh_before</th>\n",
       "      <th>receipt_lhg_before</th>\n",
       "      <th>se_before</th>\n",
       "      <th>ASU_notue_seeking_before</th>\n",
       "      <th>ASU_other_before</th>\n",
       "      <th>...</th>\n",
       "      <th>minijob_tot_dur_byage</th>\n",
       "      <th>ft_tot_dur_byage</th>\n",
       "      <th>befrist_tot_dur_byage</th>\n",
       "      <th>leih_tot_dur_byage</th>\n",
       "      <th>LHG_tot_dur_byage</th>\n",
       "      <th>LEH_tot_dur_byage</th>\n",
       "      <th>almp_tot_dur_byage</th>\n",
       "      <th>almp_aw_tot_dur_byage</th>\n",
       "      <th>se_tot_dur_byage</th>\n",
       "      <th>seeking1_tot_dur_byage</th>\n",
       "    </tr>\n",
       "  </thead>\n",
       "  <tbody>\n",
       "    <tr>\n",
       "      <th>0</th>\n",
       "      <td>7</td>\n",
       "      <td>2015</td>\n",
       "      <td>1</td>\n",
       "      <td>0</td>\n",
       "      <td>1</td>\n",
       "      <td>0</td>\n",
       "      <td>0</td>\n",
       "      <td>0</td>\n",
       "      <td>1</td>\n",
       "      <td>0</td>\n",
       "      <td>...</td>\n",
       "      <td>0.000000</td>\n",
       "      <td>0.000000</td>\n",
       "      <td>15.043478</td>\n",
       "      <td>0.000000</td>\n",
       "      <td>0.000000</td>\n",
       "      <td>0.000000</td>\n",
       "      <td>0.000000</td>\n",
       "      <td>0.000000</td>\n",
       "      <td>0.000000</td>\n",
       "      <td>0.000000</td>\n",
       "    </tr>\n",
       "    <tr>\n",
       "      <th>1</th>\n",
       "      <td>18</td>\n",
       "      <td>2010</td>\n",
       "      <td>1</td>\n",
       "      <td>1</td>\n",
       "      <td>0</td>\n",
       "      <td>0</td>\n",
       "      <td>0</td>\n",
       "      <td>0</td>\n",
       "      <td>0</td>\n",
       "      <td>0</td>\n",
       "      <td>...</td>\n",
       "      <td>0.000000</td>\n",
       "      <td>0.000000</td>\n",
       "      <td>0.000000</td>\n",
       "      <td>0.000000</td>\n",
       "      <td>0.000000</td>\n",
       "      <td>0.000000</td>\n",
       "      <td>0.000000</td>\n",
       "      <td>0.000000</td>\n",
       "      <td>0.000000</td>\n",
       "      <td>0.000000</td>\n",
       "    </tr>\n",
       "    <tr>\n",
       "      <th>2</th>\n",
       "      <td>18</td>\n",
       "      <td>2011</td>\n",
       "      <td>2</td>\n",
       "      <td>0</td>\n",
       "      <td>1</td>\n",
       "      <td>0</td>\n",
       "      <td>1</td>\n",
       "      <td>0</td>\n",
       "      <td>1</td>\n",
       "      <td>0</td>\n",
       "      <td>...</td>\n",
       "      <td>2.714286</td>\n",
       "      <td>2.714286</td>\n",
       "      <td>0.000000</td>\n",
       "      <td>0.000000</td>\n",
       "      <td>10.775510</td>\n",
       "      <td>0.000000</td>\n",
       "      <td>8.367347</td>\n",
       "      <td>0.000000</td>\n",
       "      <td>0.000000</td>\n",
       "      <td>9.836735</td>\n",
       "    </tr>\n",
       "    <tr>\n",
       "      <th>3</th>\n",
       "      <td>18</td>\n",
       "      <td>2012</td>\n",
       "      <td>3</td>\n",
       "      <td>0</td>\n",
       "      <td>1</td>\n",
       "      <td>0</td>\n",
       "      <td>1</td>\n",
       "      <td>0</td>\n",
       "      <td>1</td>\n",
       "      <td>0</td>\n",
       "      <td>...</td>\n",
       "      <td>4.200000</td>\n",
       "      <td>4.200000</td>\n",
       "      <td>0.000000</td>\n",
       "      <td>0.000000</td>\n",
       "      <td>12.100000</td>\n",
       "      <td>0.000000</td>\n",
       "      <td>9.400000</td>\n",
       "      <td>0.000000</td>\n",
       "      <td>0.000000</td>\n",
       "      <td>9.960000</td>\n",
       "    </tr>\n",
       "    <tr>\n",
       "      <th>4</th>\n",
       "      <td>18</td>\n",
       "      <td>2012</td>\n",
       "      <td>4</td>\n",
       "      <td>0</td>\n",
       "      <td>1</td>\n",
       "      <td>0</td>\n",
       "      <td>1</td>\n",
       "      <td>0</td>\n",
       "      <td>1</td>\n",
       "      <td>0</td>\n",
       "      <td>...</td>\n",
       "      <td>5.460000</td>\n",
       "      <td>5.460000</td>\n",
       "      <td>0.000000</td>\n",
       "      <td>0.000000</td>\n",
       "      <td>13.360000</td>\n",
       "      <td>0.000000</td>\n",
       "      <td>10.320000</td>\n",
       "      <td>0.000000</td>\n",
       "      <td>0.000000</td>\n",
       "      <td>10.280000</td>\n",
       "    </tr>\n",
       "    <tr>\n",
       "      <th>...</th>\n",
       "      <td>...</td>\n",
       "      <td>...</td>\n",
       "      <td>...</td>\n",
       "      <td>...</td>\n",
       "      <td>...</td>\n",
       "      <td>...</td>\n",
       "      <td>...</td>\n",
       "      <td>...</td>\n",
       "      <td>...</td>\n",
       "      <td>...</td>\n",
       "      <td>...</td>\n",
       "      <td>...</td>\n",
       "      <td>...</td>\n",
       "      <td>...</td>\n",
       "      <td>...</td>\n",
       "      <td>...</td>\n",
       "      <td>...</td>\n",
       "      <td>...</td>\n",
       "      <td>...</td>\n",
       "      <td>...</td>\n",
       "      <td>...</td>\n",
       "    </tr>\n",
       "    <tr>\n",
       "      <th>643685</th>\n",
       "      <td>1827860</td>\n",
       "      <td>2013</td>\n",
       "      <td>1</td>\n",
       "      <td>0</td>\n",
       "      <td>0</td>\n",
       "      <td>0</td>\n",
       "      <td>1</td>\n",
       "      <td>0</td>\n",
       "      <td>0</td>\n",
       "      <td>1</td>\n",
       "      <td>...</td>\n",
       "      <td>0.000000</td>\n",
       "      <td>0.000000</td>\n",
       "      <td>0.000000</td>\n",
       "      <td>0.000000</td>\n",
       "      <td>0.612903</td>\n",
       "      <td>0.000000</td>\n",
       "      <td>0.000000</td>\n",
       "      <td>0.000000</td>\n",
       "      <td>0.000000</td>\n",
       "      <td>0.000000</td>\n",
       "    </tr>\n",
       "    <tr>\n",
       "      <th>643686</th>\n",
       "      <td>1827860</td>\n",
       "      <td>2015</td>\n",
       "      <td>2</td>\n",
       "      <td>1</td>\n",
       "      <td>0</td>\n",
       "      <td>0</td>\n",
       "      <td>1</td>\n",
       "      <td>0</td>\n",
       "      <td>1</td>\n",
       "      <td>0</td>\n",
       "      <td>...</td>\n",
       "      <td>0.000000</td>\n",
       "      <td>0.000000</td>\n",
       "      <td>0.212121</td>\n",
       "      <td>0.212121</td>\n",
       "      <td>17.363636</td>\n",
       "      <td>0.000000</td>\n",
       "      <td>8.909091</td>\n",
       "      <td>0.000000</td>\n",
       "      <td>0.000000</td>\n",
       "      <td>7.121212</td>\n",
       "    </tr>\n",
       "    <tr>\n",
       "      <th>643687</th>\n",
       "      <td>1827860</td>\n",
       "      <td>2016</td>\n",
       "      <td>3</td>\n",
       "      <td>1</td>\n",
       "      <td>0</td>\n",
       "      <td>0</td>\n",
       "      <td>1</td>\n",
       "      <td>1</td>\n",
       "      <td>0</td>\n",
       "      <td>1</td>\n",
       "      <td>...</td>\n",
       "      <td>0.000000</td>\n",
       "      <td>0.000000</td>\n",
       "      <td>0.294118</td>\n",
       "      <td>0.205882</td>\n",
       "      <td>34.705882</td>\n",
       "      <td>0.000000</td>\n",
       "      <td>10.352941</td>\n",
       "      <td>1.705882</td>\n",
       "      <td>1.705882</td>\n",
       "      <td>23.911765</td>\n",
       "    </tr>\n",
       "    <tr>\n",
       "      <th>643688</th>\n",
       "      <td>1827869</td>\n",
       "      <td>2013</td>\n",
       "      <td>1</td>\n",
       "      <td>1</td>\n",
       "      <td>1</td>\n",
       "      <td>0</td>\n",
       "      <td>0</td>\n",
       "      <td>0</td>\n",
       "      <td>1</td>\n",
       "      <td>0</td>\n",
       "      <td>...</td>\n",
       "      <td>0.000000</td>\n",
       "      <td>0.000000</td>\n",
       "      <td>0.000000</td>\n",
       "      <td>0.000000</td>\n",
       "      <td>0.000000</td>\n",
       "      <td>0.525424</td>\n",
       "      <td>0.000000</td>\n",
       "      <td>0.000000</td>\n",
       "      <td>0.000000</td>\n",
       "      <td>0.000000</td>\n",
       "    </tr>\n",
       "    <tr>\n",
       "      <th>643689</th>\n",
       "      <td>1827869</td>\n",
       "      <td>2014</td>\n",
       "      <td>2</td>\n",
       "      <td>0</td>\n",
       "      <td>0</td>\n",
       "      <td>1</td>\n",
       "      <td>0</td>\n",
       "      <td>0</td>\n",
       "      <td>1</td>\n",
       "      <td>0</td>\n",
       "      <td>...</td>\n",
       "      <td>0.000000</td>\n",
       "      <td>0.666667</td>\n",
       "      <td>0.666667</td>\n",
       "      <td>0.000000</td>\n",
       "      <td>0.000000</td>\n",
       "      <td>8.950000</td>\n",
       "      <td>1.033333</td>\n",
       "      <td>0.083333</td>\n",
       "      <td>0.083333</td>\n",
       "      <td>8.133333</td>\n",
       "    </tr>\n",
       "  </tbody>\n",
       "</table>\n",
       "<p>643690 rows × 164 columns</p>\n",
       "</div>"
      ],
      "text/plain": [
       "         persnr  year  nrEntry  ltue  employed_before  receipt_leh_before  \\\n",
       "0             7  2015        1     0                1                   0   \n",
       "1            18  2010        1     1                0                   0   \n",
       "2            18  2011        2     0                1                   0   \n",
       "3            18  2012        3     0                1                   0   \n",
       "4            18  2012        4     0                1                   0   \n",
       "...         ...   ...      ...   ...              ...                 ...   \n",
       "643685  1827860  2013        1     0                0                   0   \n",
       "643686  1827860  2015        2     1                0                   0   \n",
       "643687  1827860  2016        3     1                0                   0   \n",
       "643688  1827869  2013        1     1                1                   0   \n",
       "643689  1827869  2014        2     0                0                   1   \n",
       "\n",
       "        receipt_lhg_before  se_before  ASU_notue_seeking_before  \\\n",
       "0                        0          0                         1   \n",
       "1                        0          0                         0   \n",
       "2                        1          0                         1   \n",
       "3                        1          0                         1   \n",
       "4                        1          0                         1   \n",
       "...                    ...        ...                       ...   \n",
       "643685                   1          0                         0   \n",
       "643686                   1          0                         1   \n",
       "643687                   1          1                         0   \n",
       "643688                   0          0                         1   \n",
       "643689                   0          0                         1   \n",
       "\n",
       "        ASU_other_before  ...  minijob_tot_dur_byage  ft_tot_dur_byage  \\\n",
       "0                      0  ...               0.000000          0.000000   \n",
       "1                      0  ...               0.000000          0.000000   \n",
       "2                      0  ...               2.714286          2.714286   \n",
       "3                      0  ...               4.200000          4.200000   \n",
       "4                      0  ...               5.460000          5.460000   \n",
       "...                  ...  ...                    ...               ...   \n",
       "643685                 1  ...               0.000000          0.000000   \n",
       "643686                 0  ...               0.000000          0.000000   \n",
       "643687                 1  ...               0.000000          0.000000   \n",
       "643688                 0  ...               0.000000          0.000000   \n",
       "643689                 0  ...               0.000000          0.666667   \n",
       "\n",
       "        befrist_tot_dur_byage  leih_tot_dur_byage  LHG_tot_dur_byage  \\\n",
       "0                   15.043478            0.000000           0.000000   \n",
       "1                    0.000000            0.000000           0.000000   \n",
       "2                    0.000000            0.000000          10.775510   \n",
       "3                    0.000000            0.000000          12.100000   \n",
       "4                    0.000000            0.000000          13.360000   \n",
       "...                       ...                 ...                ...   \n",
       "643685               0.000000            0.000000           0.612903   \n",
       "643686               0.212121            0.212121          17.363636   \n",
       "643687               0.294118            0.205882          34.705882   \n",
       "643688               0.000000            0.000000           0.000000   \n",
       "643689               0.666667            0.000000           0.000000   \n",
       "\n",
       "        LEH_tot_dur_byage  almp_tot_dur_byage  almp_aw_tot_dur_byage  \\\n",
       "0                0.000000            0.000000               0.000000   \n",
       "1                0.000000            0.000000               0.000000   \n",
       "2                0.000000            8.367347               0.000000   \n",
       "3                0.000000            9.400000               0.000000   \n",
       "4                0.000000           10.320000               0.000000   \n",
       "...                   ...                 ...                    ...   \n",
       "643685           0.000000            0.000000               0.000000   \n",
       "643686           0.000000            8.909091               0.000000   \n",
       "643687           0.000000           10.352941               1.705882   \n",
       "643688           0.525424            0.000000               0.000000   \n",
       "643689           8.950000            1.033333               0.083333   \n",
       "\n",
       "        se_tot_dur_byage  seeking1_tot_dur_byage  \n",
       "0               0.000000                0.000000  \n",
       "1               0.000000                0.000000  \n",
       "2               0.000000                9.836735  \n",
       "3               0.000000                9.960000  \n",
       "4               0.000000               10.280000  \n",
       "...                  ...                     ...  \n",
       "643685          0.000000                0.000000  \n",
       "643686          0.000000                7.121212  \n",
       "643687          1.705882               23.911765  \n",
       "643688          0.000000                0.000000  \n",
       "643689          0.083333                8.133333  \n",
       "\n",
       "[643690 rows x 164 columns]"
      ]
     },
     "execution_count": 10,
     "metadata": {},
     "output_type": "execute_result"
    }
   ],
   "source": [
    "siab"
   ]
  },
  {
   "cell_type": "markdown",
   "id": "1f87e805",
   "metadata": {
    "papermill": {
     "duration": 0.012932,
     "end_time": "2025-08-19T19:10:00.765934",
     "exception": false,
     "start_time": "2025-08-19T19:10:00.753002",
     "status": "completed"
    },
    "tags": []
   },
   "source": [
    "# Splitting Data and Setting Training Data Size"
   ]
  },
  {
   "cell_type": "code",
   "execution_count": 11,
   "id": "910ae358",
   "metadata": {
    "execution": {
     "iopub.execute_input": "2025-08-19T19:10:00.787475Z",
     "iopub.status.busy": "2025-08-19T19:10:00.786445Z",
     "iopub.status.idle": "2025-08-19T19:10:01.843794Z",
     "shell.execute_reply": "2025-08-19T19:10:01.842801Z"
    },
    "papermill": {
     "duration": 1.07119,
     "end_time": "2025-08-19T19:10:01.846591",
     "exception": false,
     "start_time": "2025-08-19T19:10:00.775401",
     "status": "completed"
    },
    "tags": []
   },
   "outputs": [],
   "source": [
    "from fairness_multiverse.universe import sample_by_year_size\n",
    "\n",
    "siab_train = sample_by_year_size(siab,\n",
    "                               training_year=universe[\"training_year\"],\n",
    "                               training_size=universe[\"training_size\"])"
   ]
  },
  {
   "cell_type": "code",
   "execution_count": 12,
   "id": "919c8ff5",
   "metadata": {
    "execution": {
     "iopub.execute_input": "2025-08-19T19:10:01.895284Z",
     "iopub.status.busy": "2025-08-19T19:10:01.894868Z",
     "iopub.status.idle": "2025-08-19T19:10:01.903987Z",
     "shell.execute_reply": "2025-08-19T19:10:01.903230Z"
    },
    "papermill": {
     "duration": 0.028734,
     "end_time": "2025-08-19T19:10:01.905801",
     "exception": false,
     "start_time": "2025-08-19T19:10:01.877067",
     "status": "completed"
    },
    "tags": []
   },
   "outputs": [
    {
     "data": {
      "text/plain": [
       "(1000, 164)"
      ]
     },
     "execution_count": 12,
     "metadata": {},
     "output_type": "execute_result"
    }
   ],
   "source": [
    "siab_train.shape"
   ]
  },
  {
   "cell_type": "code",
   "execution_count": 13,
   "id": "feb13bf4",
   "metadata": {
    "execution": {
     "iopub.execute_input": "2025-08-19T19:10:01.927874Z",
     "iopub.status.busy": "2025-08-19T19:10:01.927468Z",
     "iopub.status.idle": "2025-08-19T19:10:01.939755Z",
     "shell.execute_reply": "2025-08-19T19:10:01.938823Z"
    },
    "papermill": {
     "duration": 0.027538,
     "end_time": "2025-08-19T19:10:01.943833",
     "exception": false,
     "start_time": "2025-08-19T19:10:01.916295",
     "status": "completed"
    },
    "tags": []
   },
   "outputs": [
    {
     "data": {
      "text/plain": [
       "year\n",
       "2010    200\n",
       "2011    200\n",
       "2012    200\n",
       "2013    200\n",
       "2014    200\n",
       "dtype: int64"
      ]
     },
     "metadata": {},
     "output_type": "display_data"
    }
   ],
   "source": [
    "display(siab_train.groupby(\"year\").size())"
   ]
  },
  {
   "cell_type": "code",
   "execution_count": 14,
   "id": "0997782f",
   "metadata": {
    "execution": {
     "iopub.execute_input": "2025-08-19T19:10:01.985032Z",
     "iopub.status.busy": "2025-08-19T19:10:01.984711Z",
     "iopub.status.idle": "2025-08-19T19:10:02.320025Z",
     "shell.execute_reply": "2025-08-19T19:10:02.319374Z"
    },
    "papermill": {
     "duration": 0.352168,
     "end_time": "2025-08-19T19:10:02.321533",
     "exception": false,
     "start_time": "2025-08-19T19:10:01.969365",
     "status": "completed"
    },
    "tags": []
   },
   "outputs": [],
   "source": [
    "#siab_train = siab_s[siab_s.year < 2015]\n",
    "siab_calib = siab[siab.year == 2015]\n",
    "siab_test = siab[siab.year == 2016]"
   ]
  },
  {
   "cell_type": "code",
   "execution_count": 15,
   "id": "2c1e4012",
   "metadata": {
    "execution": {
     "iopub.execute_input": "2025-08-19T19:10:02.355334Z",
     "iopub.status.busy": "2025-08-19T19:10:02.354419Z",
     "iopub.status.idle": "2025-08-19T19:10:02.359102Z",
     "shell.execute_reply": "2025-08-19T19:10:02.358328Z"
    },
    "papermill": {
     "duration": 0.02835,
     "end_time": "2025-08-19T19:10:02.360608",
     "exception": false,
     "start_time": "2025-08-19T19:10:02.332258",
     "status": "completed"
    },
    "tags": []
   },
   "outputs": [],
   "source": [
    "#siab_calib.shape"
   ]
  },
  {
   "cell_type": "code",
   "execution_count": 16,
   "id": "f66b54ca",
   "metadata": {
    "execution": {
     "iopub.execute_input": "2025-08-19T19:10:02.386610Z",
     "iopub.status.busy": "2025-08-19T19:10:02.386145Z",
     "iopub.status.idle": "2025-08-19T19:10:02.390173Z",
     "shell.execute_reply": "2025-08-19T19:10:02.389561Z"
    },
    "papermill": {
     "duration": 0.018029,
     "end_time": "2025-08-19T19:10:02.391674",
     "exception": false,
     "start_time": "2025-08-19T19:10:02.373645",
     "status": "completed"
    },
    "tags": []
   },
   "outputs": [],
   "source": [
    "#siab_test.shape"
   ]
  },
  {
   "cell_type": "code",
   "execution_count": 17,
   "id": "27e4384d",
   "metadata": {
    "execution": {
     "iopub.execute_input": "2025-08-19T19:10:02.417333Z",
     "iopub.status.busy": "2025-08-19T19:10:02.416894Z",
     "iopub.status.idle": "2025-08-19T19:10:02.423219Z",
     "shell.execute_reply": "2025-08-19T19:10:02.422541Z"
    },
    "papermill": {
     "duration": 0.019962,
     "end_time": "2025-08-19T19:10:02.425743",
     "exception": false,
     "start_time": "2025-08-19T19:10:02.405781",
     "status": "completed"
    },
    "tags": []
   },
   "outputs": [],
   "source": [
    "X_train = siab_train.iloc[:,4:164]\n",
    "y_train = siab_train.iloc[:, [3]]"
   ]
  },
  {
   "cell_type": "code",
   "execution_count": 18,
   "id": "08ee8389",
   "metadata": {
    "execution": {
     "iopub.execute_input": "2025-08-19T19:10:02.464172Z",
     "iopub.status.busy": "2025-08-19T19:10:02.463265Z",
     "iopub.status.idle": "2025-08-19T19:10:02.574614Z",
     "shell.execute_reply": "2025-08-19T19:10:02.573863Z"
    },
    "papermill": {
     "duration": 0.126563,
     "end_time": "2025-08-19T19:10:02.576291",
     "exception": false,
     "start_time": "2025-08-19T19:10:02.449728",
     "status": "completed"
    },
    "tags": []
   },
   "outputs": [],
   "source": [
    "X_calib = siab_calib.iloc[:,4:164]\n",
    "y_calib = siab_calib.iloc[:, [3]]"
   ]
  },
  {
   "cell_type": "code",
   "execution_count": 19,
   "id": "b7ff42e0",
   "metadata": {
    "execution": {
     "iopub.execute_input": "2025-08-19T19:10:02.601064Z",
     "iopub.status.busy": "2025-08-19T19:10:02.599975Z",
     "iopub.status.idle": "2025-08-19T19:10:02.681328Z",
     "shell.execute_reply": "2025-08-19T19:10:02.680660Z"
    },
    "papermill": {
     "duration": 0.095472,
     "end_time": "2025-08-19T19:10:02.684111",
     "exception": false,
     "start_time": "2025-08-19T19:10:02.588639",
     "status": "completed"
    },
    "tags": []
   },
   "outputs": [],
   "source": [
    "X_test = siab_test.iloc[:,4:164]\n",
    "y_true = siab_test.iloc[:, [3]]"
   ]
  },
  {
   "cell_type": "code",
   "execution_count": 20,
   "id": "0275101e",
   "metadata": {
    "execution": {
     "iopub.execute_input": "2025-08-19T19:10:02.738209Z",
     "iopub.status.busy": "2025-08-19T19:10:02.737686Z",
     "iopub.status.idle": "2025-08-19T19:10:02.851210Z",
     "shell.execute_reply": "2025-08-19T19:10:02.850532Z"
    },
    "papermill": {
     "duration": 0.135438,
     "end_time": "2025-08-19T19:10:02.852726",
     "exception": false,
     "start_time": "2025-08-19T19:10:02.717288",
     "status": "completed"
    },
    "tags": []
   },
   "outputs": [],
   "source": [
    "# Auxiliary data needed downstream in the pipeline\n",
    "\n",
    "org_train = X_train.copy()\n",
    "org_test = X_test.copy()\n",
    "org_calib = X_calib.copy()"
   ]
  },
  {
   "cell_type": "markdown",
   "id": "b461e618",
   "metadata": {
    "papermill": {
     "duration": 0.010556,
     "end_time": "2025-08-19T19:10:02.874757",
     "exception": false,
     "start_time": "2025-08-19T19:10:02.864201",
     "status": "completed"
    },
    "tags": []
   },
   "source": [
    "# Preprocessing Data"
   ]
  },
  {
   "cell_type": "code",
   "execution_count": 21,
   "id": "78e74c4b",
   "metadata": {
    "execution": {
     "iopub.execute_input": "2025-08-19T19:10:02.899361Z",
     "iopub.status.busy": "2025-08-19T19:10:02.897949Z",
     "iopub.status.idle": "2025-08-19T19:10:02.908345Z",
     "shell.execute_reply": "2025-08-19T19:10:02.906293Z"
    },
    "papermill": {
     "duration": 0.025318,
     "end_time": "2025-08-19T19:10:02.910548",
     "exception": false,
     "start_time": "2025-08-19T19:10:02.885230",
     "status": "completed"
    },
    "tags": []
   },
   "outputs": [],
   "source": [
    "# EXCLUDE PROTECTED FEATURES\n",
    "# --------------------------\n",
    "\n",
    "excluded_features = universe[\"exclude_features\"].split(\"-\")\n",
    "excluded_features_dictionary = {\n",
    "    \"nationality\": [\"maxdeutsch1\", \"maxdeutsch.Missing.\"],\n",
    "    \"sex\": [\"frau1\"],\n",
    "    \"age\": [\"age\"],\n",
    "}"
   ]
  },
  {
   "cell_type": "code",
   "execution_count": 22,
   "id": "f8e63555",
   "metadata": {
    "execution": {
     "iopub.execute_input": "2025-08-19T19:10:02.953768Z",
     "iopub.status.busy": "2025-08-19T19:10:02.952637Z",
     "iopub.status.idle": "2025-08-19T19:10:02.964267Z",
     "shell.execute_reply": "2025-08-19T19:10:02.962995Z"
    },
    "papermill": {
     "duration": 0.029556,
     "end_time": "2025-08-19T19:10:02.966551",
     "exception": false,
     "start_time": "2025-08-19T19:10:02.936995",
     "status": "completed"
    },
    "tags": []
   },
   "outputs": [],
   "source": [
    "excluded_features_columns = [\n",
    "    excluded_features_dictionary[f] for f in excluded_features if len(f) > 0 and f != \"none\"\n",
    "]"
   ]
  },
  {
   "cell_type": "code",
   "execution_count": 23,
   "id": "da781f7c",
   "metadata": {
    "execution": {
     "iopub.execute_input": "2025-08-19T19:10:02.996547Z",
     "iopub.status.busy": "2025-08-19T19:10:02.995892Z",
     "iopub.status.idle": "2025-08-19T19:10:03.002918Z",
     "shell.execute_reply": "2025-08-19T19:10:03.001620Z"
    },
    "papermill": {
     "duration": 0.020926,
     "end_time": "2025-08-19T19:10:03.005238",
     "exception": false,
     "start_time": "2025-08-19T19:10:02.984312",
     "status": "completed"
    },
    "tags": []
   },
   "outputs": [],
   "source": [
    "from fairness_multiverse.universe import flatten_once\n",
    "\n",
    "excluded_features_columns = flatten_once(excluded_features_columns)"
   ]
  },
  {
   "cell_type": "code",
   "execution_count": 24,
   "id": "37fef0f0",
   "metadata": {
    "execution": {
     "iopub.execute_input": "2025-08-19T19:10:03.040583Z",
     "iopub.status.busy": "2025-08-19T19:10:03.037500Z",
     "iopub.status.idle": "2025-08-19T19:10:03.052971Z",
     "shell.execute_reply": "2025-08-19T19:10:03.052015Z"
    },
    "papermill": {
     "duration": 0.033511,
     "end_time": "2025-08-19T19:10:03.054434",
     "exception": false,
     "start_time": "2025-08-19T19:10:03.020923",
     "status": "completed"
    },
    "tags": []
   },
   "outputs": [
    {
     "name": "stdout",
     "output_type": "stream",
     "text": [
      "Dropping features: ['age']\n"
     ]
    }
   ],
   "source": [
    "if len(excluded_features_columns) > 0:\n",
    "    print(f\"Dropping features: {excluded_features_columns}\")\n",
    "    X_train.drop(excluded_features_columns, axis=1, inplace=True)"
   ]
  },
  {
   "cell_type": "code",
   "execution_count": 25,
   "id": "d029e3e9",
   "metadata": {
    "execution": {
     "iopub.execute_input": "2025-08-19T19:10:03.082157Z",
     "iopub.status.busy": "2025-08-19T19:10:03.081624Z",
     "iopub.status.idle": "2025-08-19T19:10:03.153456Z",
     "shell.execute_reply": "2025-08-19T19:10:03.152305Z"
    },
    "papermill": {
     "duration": 0.088213,
     "end_time": "2025-08-19T19:10:03.157476",
     "exception": false,
     "start_time": "2025-08-19T19:10:03.069263",
     "status": "completed"
    },
    "tags": []
   },
   "outputs": [
    {
     "name": "stdout",
     "output_type": "stream",
     "text": [
      "Dropping features: ['age']\n"
     ]
    }
   ],
   "source": [
    "if len(excluded_features_columns) > 0:\n",
    "    print(f\"Dropping features: {excluded_features_columns}\")\n",
    "    X_test.drop(excluded_features_columns, axis=1, inplace=True)"
   ]
  },
  {
   "cell_type": "code",
   "execution_count": 26,
   "id": "01d571f0",
   "metadata": {
    "execution": {
     "iopub.execute_input": "2025-08-19T19:10:03.194288Z",
     "iopub.status.busy": "2025-08-19T19:10:03.193409Z",
     "iopub.status.idle": "2025-08-19T19:10:03.251159Z",
     "shell.execute_reply": "2025-08-19T19:10:03.250076Z"
    },
    "papermill": {
     "duration": 0.076086,
     "end_time": "2025-08-19T19:10:03.256124",
     "exception": false,
     "start_time": "2025-08-19T19:10:03.180038",
     "status": "completed"
    },
    "tags": []
   },
   "outputs": [
    {
     "name": "stdout",
     "output_type": "stream",
     "text": [
      "Dropping features: ['age']\n"
     ]
    }
   ],
   "source": [
    "if len(excluded_features_columns) > 0:\n",
    "    print(f\"Dropping features: {excluded_features_columns}\")\n",
    "    X_calib.drop(excluded_features_columns, axis=1, inplace=True)"
   ]
  },
  {
   "cell_type": "code",
   "execution_count": 27,
   "id": "3037356e",
   "metadata": {
    "execution": {
     "iopub.execute_input": "2025-08-19T19:10:03.293553Z",
     "iopub.status.busy": "2025-08-19T19:10:03.292182Z",
     "iopub.status.idle": "2025-08-19T19:10:03.299504Z",
     "shell.execute_reply": "2025-08-19T19:10:03.298349Z"
    },
    "papermill": {
     "duration": 0.022219,
     "end_time": "2025-08-19T19:10:03.301053",
     "exception": false,
     "start_time": "2025-08-19T19:10:03.278834",
     "status": "completed"
    },
    "tags": []
   },
   "outputs": [],
   "source": [
    "# EXCLUDE CERTAIN SUBGROUPS\n",
    "# -------------------------\n",
    "\n",
    "mode = universe.get(\"exclude_subgroups\", \"keep-all\") # Defaults to \"keep-all\" if the key is missing."
   ]
  },
  {
   "cell_type": "code",
   "execution_count": 28,
   "id": "9d1e63fd",
   "metadata": {
    "execution": {
     "iopub.execute_input": "2025-08-19T19:10:03.326140Z",
     "iopub.status.busy": "2025-08-19T19:10:03.325010Z",
     "iopub.status.idle": "2025-08-19T19:10:03.337726Z",
     "shell.execute_reply": "2025-08-19T19:10:03.336335Z"
    },
    "papermill": {
     "duration": 0.027853,
     "end_time": "2025-08-19T19:10:03.339767",
     "exception": false,
     "start_time": "2025-08-19T19:10:03.311914",
     "status": "completed"
    },
    "tags": []
   },
   "outputs": [],
   "source": [
    "if mode == \"keep-all\":\n",
    "    keep_mask = pd.Series(True, index=org_train.index)\n",
    "\n",
    "elif mode == \"drop-non-german\":\n",
    "    keep_mask = (org_train[\"maxdeutsch1\"] == 1) & (org_train[\"maxdeutsch.Missing.\"] == 0)\n",
    "\n",
    "else:\n",
    "    raise ValueError(f\"Unsupported mode for exclude_subgroups: {mode}\")"
   ]
  },
  {
   "cell_type": "code",
   "execution_count": 29,
   "id": "d3b65474",
   "metadata": {
    "execution": {
     "iopub.execute_input": "2025-08-19T19:10:03.371561Z",
     "iopub.status.busy": "2025-08-19T19:10:03.370393Z",
     "iopub.status.idle": "2025-08-19T19:10:03.380646Z",
     "shell.execute_reply": "2025-08-19T19:10:03.379302Z"
    },
    "papermill": {
     "duration": 0.025501,
     "end_time": "2025-08-19T19:10:03.382439",
     "exception": false,
     "start_time": "2025-08-19T19:10:03.356938",
     "status": "completed"
    },
    "tags": []
   },
   "outputs": [],
   "source": [
    "n_drop = (~keep_mask).sum() # Calculates how many rows are set to be dropped\n",
    "if n_drop > 0:\n",
    "    pct = n_drop / len(keep_mask) * 100\n",
    "    print(f\"Dropping {n_drop} rows ({pct:.2f}%) where mode='{mode}'\")"
   ]
  },
  {
   "cell_type": "code",
   "execution_count": 30,
   "id": "f44389b3",
   "metadata": {
    "execution": {
     "iopub.execute_input": "2025-08-19T19:10:03.421181Z",
     "iopub.status.busy": "2025-08-19T19:10:03.408757Z",
     "iopub.status.idle": "2025-08-19T19:10:03.427012Z",
     "shell.execute_reply": "2025-08-19T19:10:03.425920Z"
    },
    "papermill": {
     "duration": 0.032235,
     "end_time": "2025-08-19T19:10:03.429050",
     "exception": false,
     "start_time": "2025-08-19T19:10:03.396815",
     "status": "completed"
    },
    "tags": []
   },
   "outputs": [],
   "source": [
    "X_train = X_train[keep_mask]"
   ]
  },
  {
   "cell_type": "code",
   "execution_count": 31,
   "id": "ceca8c2a",
   "metadata": {
    "execution": {
     "iopub.execute_input": "2025-08-19T19:10:03.458598Z",
     "iopub.status.busy": "2025-08-19T19:10:03.457628Z",
     "iopub.status.idle": "2025-08-19T19:10:03.463902Z",
     "shell.execute_reply": "2025-08-19T19:10:03.462989Z"
    },
    "papermill": {
     "duration": 0.020029,
     "end_time": "2025-08-19T19:10:03.465351",
     "exception": false,
     "start_time": "2025-08-19T19:10:03.445322",
     "status": "completed"
    },
    "tags": []
   },
   "outputs": [],
   "source": [
    "y_train = y_train[keep_mask]"
   ]
  },
  {
   "cell_type": "markdown",
   "id": "04d31e2f",
   "metadata": {
    "papermill": {
     "duration": 0.011149,
     "end_time": "2025-08-19T19:10:03.488265",
     "exception": false,
     "start_time": "2025-08-19T19:10:03.477116",
     "status": "completed"
    },
    "tags": []
   },
   "source": [
    "# Model Training"
   ]
  },
  {
   "cell_type": "code",
   "execution_count": 32,
   "id": "db991733",
   "metadata": {
    "execution": {
     "iopub.execute_input": "2025-08-19T19:10:03.513498Z",
     "iopub.status.busy": "2025-08-19T19:10:03.512356Z",
     "iopub.status.idle": "2025-08-19T19:10:03.675255Z",
     "shell.execute_reply": "2025-08-19T19:10:03.674559Z"
    },
    "papermill": {
     "duration": 0.177281,
     "end_time": "2025-08-19T19:10:03.676785",
     "exception": false,
     "start_time": "2025-08-19T19:10:03.499504",
     "status": "completed"
    },
    "tags": []
   },
   "outputs": [],
   "source": [
    "from sklearn.linear_model import LogisticRegression\n",
    "from sklearn.ensemble import GradientBoostingClassifier, RandomForestClassifier\n",
    "\n",
    "if (universe[\"model\"] == \"logreg\"):\n",
    "    model = LogisticRegression() #penalty=\"none\", solver=\"newton-cg\", max_iter=1)\n",
    "elif (universe[\"model\"] == \"penalized_logreg\"):\n",
    "    model = LogisticRegression(penalty=\"l2\", C=0.1) #, solver=\"newton-cg\", max_iter=1)\n",
    "elif (universe[\"model\"] == \"rf\"):\n",
    "    model = RandomForestClassifier() # n_estimators=100, n_jobs=-1\n",
    "elif (universe[\"model\"] == \"gbm\"):\n",
    "    model = GradientBoostingClassifier()\n",
    "elif (universe[\"model\"] == \"elasticnet\"):\n",
    "    model = LogisticRegression(penalty = 'elasticnet', solver = 'saga', l1_ratio = 0.5) # max_iter=5000\n",
    "else:\n",
    "    raise \"Unsupported universe.model\""
   ]
  },
  {
   "cell_type": "code",
   "execution_count": 33,
   "id": "a4b5cd25",
   "metadata": {
    "execution": {
     "iopub.execute_input": "2025-08-19T19:10:03.701286Z",
     "iopub.status.busy": "2025-08-19T19:10:03.700156Z",
     "iopub.status.idle": "2025-08-19T19:10:03.705243Z",
     "shell.execute_reply": "2025-08-19T19:10:03.704660Z"
    },
    "papermill": {
     "duration": 0.019878,
     "end_time": "2025-08-19T19:10:03.707952",
     "exception": false,
     "start_time": "2025-08-19T19:10:03.688074",
     "status": "completed"
    },
    "tags": []
   },
   "outputs": [],
   "source": [
    "from sklearn.pipeline import Pipeline\n",
    "from sklearn.preprocessing import StandardScaler\n",
    "\n",
    "model = Pipeline([\n",
    "    #(\"continuous_processor\", continuous_processor),\n",
    "    #(\"categorical_preprocessor\", categorical_preprocessor),\n",
    "    (\"scale\", StandardScaler() if universe[\"scale\"] == \"scale\" else None), \n",
    "    (\"model\", model),\n",
    "])"
   ]
  },
  {
   "cell_type": "code",
   "execution_count": 34,
   "id": "283a904d",
   "metadata": {
    "execution": {
     "iopub.execute_input": "2025-08-19T19:10:03.758368Z",
     "iopub.status.busy": "2025-08-19T19:10:03.757356Z",
     "iopub.status.idle": "2025-08-19T19:10:03.817029Z",
     "shell.execute_reply": "2025-08-19T19:10:03.816410Z"
    },
    "papermill": {
     "duration": 0.075948,
     "end_time": "2025-08-19T19:10:03.818466",
     "exception": false,
     "start_time": "2025-08-19T19:10:03.742518",
     "status": "completed"
    },
    "tags": []
   },
   "outputs": [
    {
     "name": "stderr",
     "output_type": "stream",
     "text": [
      "/dss/dsshome1/0C/ra93lal2/.local/share/virtualenvs/CMA_Fairness_v2-3j10GkSs/lib/python3.10/site-packages/sklearn/linear_model/_logistic.py:444: ConvergenceWarning: lbfgs failed to converge (status=1):\n",
      "STOP: TOTAL NO. of ITERATIONS REACHED LIMIT.\n",
      "\n",
      "Increase the number of iterations (max_iter) or scale the data as shown in:\n",
      "    https://scikit-learn.org/stable/modules/preprocessing.html\n",
      "Please also refer to the documentation for alternative solver options:\n",
      "    https://scikit-learn.org/stable/modules/linear_model.html#logistic-regression\n",
      "  n_iter_i = _check_optimize_result(\n"
     ]
    },
    {
     "data": {
      "text/html": [
       "<style>#sk-container-id-1 {color: black;background-color: white;}#sk-container-id-1 pre{padding: 0;}#sk-container-id-1 div.sk-toggleable {background-color: white;}#sk-container-id-1 label.sk-toggleable__label {cursor: pointer;display: block;width: 100%;margin-bottom: 0;padding: 0.3em;box-sizing: border-box;text-align: center;}#sk-container-id-1 label.sk-toggleable__label-arrow:before {content: \"▸\";float: left;margin-right: 0.25em;color: #696969;}#sk-container-id-1 label.sk-toggleable__label-arrow:hover:before {color: black;}#sk-container-id-1 div.sk-estimator:hover label.sk-toggleable__label-arrow:before {color: black;}#sk-container-id-1 div.sk-toggleable__content {max-height: 0;max-width: 0;overflow: hidden;text-align: left;background-color: #f0f8ff;}#sk-container-id-1 div.sk-toggleable__content pre {margin: 0.2em;color: black;border-radius: 0.25em;background-color: #f0f8ff;}#sk-container-id-1 input.sk-toggleable__control:checked~div.sk-toggleable__content {max-height: 200px;max-width: 100%;overflow: auto;}#sk-container-id-1 input.sk-toggleable__control:checked~label.sk-toggleable__label-arrow:before {content: \"▾\";}#sk-container-id-1 div.sk-estimator input.sk-toggleable__control:checked~label.sk-toggleable__label {background-color: #d4ebff;}#sk-container-id-1 div.sk-label input.sk-toggleable__control:checked~label.sk-toggleable__label {background-color: #d4ebff;}#sk-container-id-1 input.sk-hidden--visually {border: 0;clip: rect(1px 1px 1px 1px);clip: rect(1px, 1px, 1px, 1px);height: 1px;margin: -1px;overflow: hidden;padding: 0;position: absolute;width: 1px;}#sk-container-id-1 div.sk-estimator {font-family: monospace;background-color: #f0f8ff;border: 1px dotted black;border-radius: 0.25em;box-sizing: border-box;margin-bottom: 0.5em;}#sk-container-id-1 div.sk-estimator:hover {background-color: #d4ebff;}#sk-container-id-1 div.sk-parallel-item::after {content: \"\";width: 100%;border-bottom: 1px solid gray;flex-grow: 1;}#sk-container-id-1 div.sk-label:hover label.sk-toggleable__label {background-color: #d4ebff;}#sk-container-id-1 div.sk-serial::before {content: \"\";position: absolute;border-left: 1px solid gray;box-sizing: border-box;top: 0;bottom: 0;left: 50%;z-index: 0;}#sk-container-id-1 div.sk-serial {display: flex;flex-direction: column;align-items: center;background-color: white;padding-right: 0.2em;padding-left: 0.2em;position: relative;}#sk-container-id-1 div.sk-item {position: relative;z-index: 1;}#sk-container-id-1 div.sk-parallel {display: flex;align-items: stretch;justify-content: center;background-color: white;position: relative;}#sk-container-id-1 div.sk-item::before, #sk-container-id-1 div.sk-parallel-item::before {content: \"\";position: absolute;border-left: 1px solid gray;box-sizing: border-box;top: 0;bottom: 0;left: 50%;z-index: -1;}#sk-container-id-1 div.sk-parallel-item {display: flex;flex-direction: column;z-index: 1;position: relative;background-color: white;}#sk-container-id-1 div.sk-parallel-item:first-child::after {align-self: flex-end;width: 50%;}#sk-container-id-1 div.sk-parallel-item:last-child::after {align-self: flex-start;width: 50%;}#sk-container-id-1 div.sk-parallel-item:only-child::after {width: 0;}#sk-container-id-1 div.sk-dashed-wrapped {border: 1px dashed gray;margin: 0 0.4em 0.5em 0.4em;box-sizing: border-box;padding-bottom: 0.4em;background-color: white;}#sk-container-id-1 div.sk-label label {font-family: monospace;font-weight: bold;display: inline-block;line-height: 1.2em;}#sk-container-id-1 div.sk-label-container {text-align: center;}#sk-container-id-1 div.sk-container {/* jupyter's `normalize.less` sets `[hidden] { display: none; }` but bootstrap.min.css set `[hidden] { display: none !important; }` so we also need the `!important` here to be able to override the default hidden behavior on the sphinx rendered scikit-learn.org. See: https://github.com/scikit-learn/scikit-learn/issues/21755 */display: inline-block !important;position: relative;}#sk-container-id-1 div.sk-text-repr-fallback {display: none;}</style><div id=\"sk-container-id-1\" class=\"sk-top-container\"><div class=\"sk-text-repr-fallback\"><pre>Pipeline(steps=[(&#x27;scale&#x27;, None), (&#x27;model&#x27;, LogisticRegression(C=0.1))])</pre><b>In a Jupyter environment, please rerun this cell to show the HTML representation or trust the notebook. <br />On GitHub, the HTML representation is unable to render, please try loading this page with nbviewer.org.</b></div><div class=\"sk-container\" hidden><div class=\"sk-item sk-dashed-wrapped\"><div class=\"sk-label-container\"><div class=\"sk-label sk-toggleable\"><input class=\"sk-toggleable__control sk-hidden--visually\" id=\"sk-estimator-id-1\" type=\"checkbox\" ><label for=\"sk-estimator-id-1\" class=\"sk-toggleable__label sk-toggleable__label-arrow\">Pipeline</label><div class=\"sk-toggleable__content\"><pre>Pipeline(steps=[(&#x27;scale&#x27;, None), (&#x27;model&#x27;, LogisticRegression(C=0.1))])</pre></div></div></div><div class=\"sk-serial\"><div class=\"sk-item\"><div class=\"sk-estimator sk-toggleable\"><input class=\"sk-toggleable__control sk-hidden--visually\" id=\"sk-estimator-id-2\" type=\"checkbox\" ><label for=\"sk-estimator-id-2\" class=\"sk-toggleable__label sk-toggleable__label-arrow\">None</label><div class=\"sk-toggleable__content\"><pre>None</pre></div></div></div><div class=\"sk-item\"><div class=\"sk-estimator sk-toggleable\"><input class=\"sk-toggleable__control sk-hidden--visually\" id=\"sk-estimator-id-3\" type=\"checkbox\" ><label for=\"sk-estimator-id-3\" class=\"sk-toggleable__label sk-toggleable__label-arrow\">LogisticRegression</label><div class=\"sk-toggleable__content\"><pre>LogisticRegression(C=0.1)</pre></div></div></div></div></div></div></div>"
      ],
      "text/plain": [
       "Pipeline(steps=[('scale', None), ('model', LogisticRegression(C=0.1))])"
      ]
     },
     "execution_count": 34,
     "metadata": {},
     "output_type": "execute_result"
    }
   ],
   "source": [
    "model.fit(X_train, y_train.values.ravel())"
   ]
  },
  {
   "cell_type": "code",
   "execution_count": 35,
   "id": "6e15e313",
   "metadata": {
    "execution": {
     "iopub.execute_input": "2025-08-19T19:10:03.846840Z",
     "iopub.status.busy": "2025-08-19T19:10:03.845677Z",
     "iopub.status.idle": "2025-08-19T19:10:03.956442Z",
     "shell.execute_reply": "2025-08-19T19:10:03.955621Z"
    },
    "papermill": {
     "duration": 0.124714,
     "end_time": "2025-08-19T19:10:03.957748",
     "exception": false,
     "start_time": "2025-08-19T19:10:03.833034",
     "status": "completed"
    },
    "tags": []
   },
   "outputs": [
    {
     "data": {
      "text/plain": [
       "0.8537286813064319"
      ]
     },
     "execution_count": 35,
     "metadata": {},
     "output_type": "execute_result"
    }
   ],
   "source": [
    "from fairness_multiverse.universe import predict_w_threshold\n",
    "\n",
    "probs_test = model.predict_proba(X_test)\n",
    "\n",
    "'''\n",
    "Below code returns a boolean array (or binary 0/1 array depending on how it’s used) where each element \n",
    "is True if the probability of class 1 is greater than or equal to the threshold, and False otherwise.\n",
    "'''\n",
    "y_pred_default = predict_w_threshold(probs_test, 0.5)\n",
    "\n",
    "from sklearn.metrics import accuracy_score\n",
    "\n",
    "# Naive prediction\n",
    "accuracy_score(y_true = y_true, y_pred = y_pred_default)"
   ]
  },
  {
   "cell_type": "code",
   "execution_count": 36,
   "id": "6f14067c",
   "metadata": {
    "execution": {
     "iopub.execute_input": "2025-08-19T19:10:03.983931Z",
     "iopub.status.busy": "2025-08-19T19:10:03.981898Z",
     "iopub.status.idle": "2025-08-19T19:10:04.078318Z",
     "shell.execute_reply": "2025-08-19T19:10:04.077291Z"
    },
    "papermill": {
     "duration": 0.111813,
     "end_time": "2025-08-19T19:10:04.080994",
     "exception": false,
     "start_time": "2025-08-19T19:10:03.969181",
     "status": "completed"
    },
    "tags": []
   },
   "outputs": [
    {
     "data": {
      "text/plain": [
       "array([0, 0, 0, ..., 0, 0, 0])"
      ]
     },
     "execution_count": 36,
     "metadata": {},
     "output_type": "execute_result"
    }
   ],
   "source": [
    "model.predict(X_test)"
   ]
  },
  {
   "cell_type": "markdown",
   "id": "3759920c",
   "metadata": {
    "papermill": {
     "duration": 0.012286,
     "end_time": "2025-08-19T19:10:04.116863",
     "exception": false,
     "start_time": "2025-08-19T19:10:04.104577",
     "status": "completed"
    },
    "tags": []
   },
   "source": [
    "# Conformal Prediction"
   ]
  },
  {
   "cell_type": "code",
   "execution_count": 37,
   "id": "14b27f59",
   "metadata": {
    "execution": {
     "iopub.execute_input": "2025-08-19T19:10:04.142051Z",
     "iopub.status.busy": "2025-08-19T19:10:04.140932Z",
     "iopub.status.idle": "2025-08-19T19:10:04.150102Z",
     "shell.execute_reply": "2025-08-19T19:10:04.148561Z"
    },
    "papermill": {
     "duration": 0.023856,
     "end_time": "2025-08-19T19:10:04.151688",
     "exception": false,
     "start_time": "2025-08-19T19:10:04.127832",
     "status": "completed"
    },
    "tags": []
   },
   "outputs": [],
   "source": [
    "# Miscoverage level for conformal prediction (10% allowed error rate => 90% target coverage)\n",
    "alpha = 0.1"
   ]
  },
  {
   "cell_type": "code",
   "execution_count": 38,
   "id": "59102472",
   "metadata": {
    "execution": {
     "iopub.execute_input": "2025-08-19T19:10:04.179034Z",
     "iopub.status.busy": "2025-08-19T19:10:04.178063Z",
     "iopub.status.idle": "2025-08-19T19:10:04.272937Z",
     "shell.execute_reply": "2025-08-19T19:10:04.272221Z"
    },
    "papermill": {
     "duration": 0.109928,
     "end_time": "2025-08-19T19:10:04.275606",
     "exception": false,
     "start_time": "2025-08-19T19:10:04.165678",
     "status": "completed"
    },
    "tags": []
   },
   "outputs": [],
   "source": [
    "probs_calib = model.predict_proba(X_calib)"
   ]
  },
  {
   "cell_type": "code",
   "execution_count": 39,
   "id": "a792d4dd",
   "metadata": {
    "execution": {
     "iopub.execute_input": "2025-08-19T19:10:04.315597Z",
     "iopub.status.busy": "2025-08-19T19:10:04.314659Z",
     "iopub.status.idle": "2025-08-19T19:10:04.323458Z",
     "shell.execute_reply": "2025-08-19T19:10:04.321770Z"
    },
    "papermill": {
     "duration": 0.024559,
     "end_time": "2025-08-19T19:10:04.325153",
     "exception": false,
     "start_time": "2025-08-19T19:10:04.300594",
     "status": "completed"
    },
    "tags": []
   },
   "outputs": [],
   "source": [
    "y_calib = y_calib.values.ravel().astype(int)"
   ]
  },
  {
   "cell_type": "code",
   "execution_count": 40,
   "id": "650fd033",
   "metadata": {
    "execution": {
     "iopub.execute_input": "2025-08-19T19:10:04.353759Z",
     "iopub.status.busy": "2025-08-19T19:10:04.352948Z",
     "iopub.status.idle": "2025-08-19T19:10:04.363446Z",
     "shell.execute_reply": "2025-08-19T19:10:04.362270Z"
    },
    "papermill": {
     "duration": 0.025485,
     "end_time": "2025-08-19T19:10:04.364758",
     "exception": false,
     "start_time": "2025-08-19T19:10:04.339273",
     "status": "completed"
    },
    "tags": []
   },
   "outputs": [],
   "source": [
    "from fairness_multiverse.conformal import compute_nc_scores\n",
    "\n",
    "# Compute nonconformity scores on calibration set (1 - probability of true class)\n",
    "nc_scores = compute_nc_scores(probs_calib, y_calib)"
   ]
  },
  {
   "cell_type": "code",
   "execution_count": 41,
   "id": "28ada44c",
   "metadata": {
    "execution": {
     "iopub.execute_input": "2025-08-19T19:10:04.394046Z",
     "iopub.status.busy": "2025-08-19T19:10:04.393145Z",
     "iopub.status.idle": "2025-08-19T19:10:04.403595Z",
     "shell.execute_reply": "2025-08-19T19:10:04.402026Z"
    },
    "papermill": {
     "duration": 0.024822,
     "end_time": "2025-08-19T19:10:04.405080",
     "exception": false,
     "start_time": "2025-08-19T19:10:04.380258",
     "status": "completed"
    },
    "tags": []
   },
   "outputs": [],
   "source": [
    "from fairness_multiverse.conformal import find_threshold\n",
    "\n",
    "# Find conformal threshold q_hat for the given alpha (split conformal method)\n",
    "q_hat = find_threshold(nc_scores, alpha)"
   ]
  },
  {
   "cell_type": "code",
   "execution_count": 42,
   "id": "df56469e",
   "metadata": {
    "execution": {
     "iopub.execute_input": "2025-08-19T19:10:04.432547Z",
     "iopub.status.busy": "2025-08-19T19:10:04.431629Z",
     "iopub.status.idle": "2025-08-19T19:10:04.447088Z",
     "shell.execute_reply": "2025-08-19T19:10:04.445007Z"
    },
    "papermill": {
     "duration": 0.030094,
     "end_time": "2025-08-19T19:10:04.449230",
     "exception": false,
     "start_time": "2025-08-19T19:10:04.419136",
     "status": "completed"
    },
    "tags": []
   },
   "outputs": [
    {
     "data": {
      "text/plain": [
       "0.6804482939523102"
      ]
     },
     "execution_count": 42,
     "metadata": {},
     "output_type": "execute_result"
    }
   ],
   "source": [
    "q_hat"
   ]
  },
  {
   "cell_type": "code",
   "execution_count": 43,
   "id": "aa1f5faa",
   "metadata": {
    "execution": {
     "iopub.execute_input": "2025-08-19T19:10:04.478935Z",
     "iopub.status.busy": "2025-08-19T19:10:04.477967Z",
     "iopub.status.idle": "2025-08-19T19:10:04.998405Z",
     "shell.execute_reply": "2025-08-19T19:10:04.997232Z"
    },
    "papermill": {
     "duration": 0.535378,
     "end_time": "2025-08-19T19:10:05.000005",
     "exception": false,
     "start_time": "2025-08-19T19:10:04.464627",
     "status": "completed"
    },
    "tags": []
   },
   "outputs": [],
   "source": [
    "from fairness_multiverse.conformal import predict_conformal_sets\n",
    "\n",
    "# Generate prediction sets for each test example\n",
    "pred_sets = predict_conformal_sets(model, X_test, q_hat)"
   ]
  },
  {
   "cell_type": "code",
   "execution_count": 44,
   "id": "97f67a6b",
   "metadata": {
    "execution": {
     "iopub.execute_input": "2025-08-19T19:10:05.041510Z",
     "iopub.status.busy": "2025-08-19T19:10:05.040983Z",
     "iopub.status.idle": "2025-08-19T19:10:05.046826Z",
     "shell.execute_reply": "2025-08-19T19:10:05.046181Z"
    },
    "papermill": {
     "duration": 0.02698,
     "end_time": "2025-08-19T19:10:05.048309",
     "exception": false,
     "start_time": "2025-08-19T19:10:05.021329",
     "status": "completed"
    },
    "tags": []
   },
   "outputs": [],
   "source": [
    "y_true = y_true.squeeze()"
   ]
  },
  {
   "cell_type": "code",
   "execution_count": 45,
   "id": "e700e9a7",
   "metadata": {
    "execution": {
     "iopub.execute_input": "2025-08-19T19:10:05.073034Z",
     "iopub.status.busy": "2025-08-19T19:10:05.072646Z",
     "iopub.status.idle": "2025-08-19T19:10:05.594615Z",
     "shell.execute_reply": "2025-08-19T19:10:05.593395Z"
    },
    "papermill": {
     "duration": 0.536088,
     "end_time": "2025-08-19T19:10:05.596216",
     "exception": false,
     "start_time": "2025-08-19T19:10:05.060128",
     "status": "completed"
    },
    "tags": []
   },
   "outputs": [],
   "source": [
    "from fairness_multiverse.conformal import evaluate_sets\n",
    "\n",
    "# Evaluate coverage and average set size on test data\n",
    "metrics = evaluate_sets(pred_sets, y_true)"
   ]
  },
  {
   "cell_type": "markdown",
   "id": "efbacec0",
   "metadata": {
    "papermill": {
     "duration": 0.011402,
     "end_time": "2025-08-19T19:10:05.619682",
     "exception": false,
     "start_time": "2025-08-19T19:10:05.608280",
     "status": "completed"
    },
    "tags": []
   },
   "source": [
    "# CP Metrics"
   ]
  },
  {
   "cell_type": "code",
   "execution_count": 46,
   "id": "9de55fb1",
   "metadata": {
    "execution": {
     "iopub.execute_input": "2025-08-19T19:10:05.647254Z",
     "iopub.status.busy": "2025-08-19T19:10:05.646005Z",
     "iopub.status.idle": "2025-08-19T19:10:05.660658Z",
     "shell.execute_reply": "2025-08-19T19:10:05.659301Z"
    },
    "papermill": {
     "duration": 0.031236,
     "end_time": "2025-08-19T19:10:05.662316",
     "exception": false,
     "start_time": "2025-08-19T19:10:05.631080",
     "status": "completed"
    },
    "tags": []
   },
   "outputs": [
    {
     "data": {
      "text/plain": [
       "{'coverage': 0.9131089064764241, 'avg_size': 1.2746516553338536}"
      ]
     },
     "execution_count": 46,
     "metadata": {},
     "output_type": "execute_result"
    }
   ],
   "source": [
    "metrics"
   ]
  },
  {
   "cell_type": "code",
   "execution_count": 47,
   "id": "64c340a1",
   "metadata": {
    "execution": {
     "iopub.execute_input": "2025-08-19T19:10:05.693065Z",
     "iopub.status.busy": "2025-08-19T19:10:05.691988Z",
     "iopub.status.idle": "2025-08-19T19:10:05.702784Z",
     "shell.execute_reply": "2025-08-19T19:10:05.701515Z"
    },
    "papermill": {
     "duration": 0.026158,
     "end_time": "2025-08-19T19:10:05.704509",
     "exception": false,
     "start_time": "2025-08-19T19:10:05.678351",
     "status": "completed"
    },
    "tags": []
   },
   "outputs": [],
   "source": [
    "example_universe = universe.copy()\n",
    "universe_training_year = example_universe.get(\"training_year\")\n",
    "universe_training_size = example_universe.get(\"training_size\")\n",
    "universe_scale = example_universe.get(\"scale\")\n",
    "universe_model = example_universe.get(\"model\")\n",
    "universe_exclude_features = example_universe.get(\"exclude_features\")\n",
    "universe_exclude_subgroups = example_universe.get(\"exclude_subgroups\")"
   ]
  },
  {
   "cell_type": "code",
   "execution_count": 48,
   "id": "dbb53cb4",
   "metadata": {
    "execution": {
     "iopub.execute_input": "2025-08-19T19:10:05.735356Z",
     "iopub.status.busy": "2025-08-19T19:10:05.734065Z",
     "iopub.status.idle": "2025-08-19T19:10:05.745095Z",
     "shell.execute_reply": "2025-08-19T19:10:05.743367Z"
    },
    "papermill": {
     "duration": 0.025907,
     "end_time": "2025-08-19T19:10:05.746833",
     "exception": false,
     "start_time": "2025-08-19T19:10:05.720926",
     "status": "completed"
    },
    "tags": []
   },
   "outputs": [],
   "source": [
    "cp_metrics_dict = {\n",
    "    \"universe_id\": [universe_id],\n",
    "    \"universe_training_year\": [universe_training_year],\n",
    "    \"universe_training_size\": [universe_training_size],\n",
    "    \"universe_scale\": [universe_scale],\n",
    "    \"universe_model\": [universe_model],\n",
    "    \"universe_exclude_features\": [universe_exclude_features],\n",
    "    \"universe_exclude_subgroups\": [universe_exclude_subgroups],\n",
    "    \"q_hat\": [q_hat],\n",
    "    \"coverage\": [metrics[\"coverage\"]],\n",
    "    \"avg_size\": [metrics[\"avg_size\"]],\n",
    "}"
   ]
  },
  {
   "cell_type": "code",
   "execution_count": 49,
   "id": "0d70d4b2",
   "metadata": {
    "execution": {
     "iopub.execute_input": "2025-08-19T19:10:05.780326Z",
     "iopub.status.busy": "2025-08-19T19:10:05.779075Z",
     "iopub.status.idle": "2025-08-19T19:10:05.791921Z",
     "shell.execute_reply": "2025-08-19T19:10:05.790378Z"
    },
    "papermill": {
     "duration": 0.028764,
     "end_time": "2025-08-19T19:10:05.793542",
     "exception": false,
     "start_time": "2025-08-19T19:10:05.764778",
     "status": "completed"
    },
    "tags": []
   },
   "outputs": [],
   "source": [
    "cp_metrics_df = pd.DataFrame(cp_metrics_dict)"
   ]
  },
  {
   "cell_type": "code",
   "execution_count": 50,
   "id": "b494403c",
   "metadata": {
    "execution": {
     "iopub.execute_input": "2025-08-19T19:10:05.823557Z",
     "iopub.status.busy": "2025-08-19T19:10:05.822518Z",
     "iopub.status.idle": "2025-08-19T19:10:05.845571Z",
     "shell.execute_reply": "2025-08-19T19:10:05.844789Z"
    },
    "papermill": {
     "duration": 0.038097,
     "end_time": "2025-08-19T19:10:05.846790",
     "exception": false,
     "start_time": "2025-08-19T19:10:05.808693",
     "status": "completed"
    },
    "tags": []
   },
   "outputs": [
    {
     "data": {
      "text/html": [
       "<div>\n",
       "<style scoped>\n",
       "    .dataframe tbody tr th:only-of-type {\n",
       "        vertical-align: middle;\n",
       "    }\n",
       "\n",
       "    .dataframe tbody tr th {\n",
       "        vertical-align: top;\n",
       "    }\n",
       "\n",
       "    .dataframe thead th {\n",
       "        text-align: right;\n",
       "    }\n",
       "</style>\n",
       "<table border=\"1\" class=\"dataframe\">\n",
       "  <thead>\n",
       "    <tr style=\"text-align: right;\">\n",
       "      <th></th>\n",
       "      <th>universe_id</th>\n",
       "      <th>universe_training_year</th>\n",
       "      <th>universe_training_size</th>\n",
       "      <th>universe_scale</th>\n",
       "      <th>universe_model</th>\n",
       "      <th>universe_exclude_features</th>\n",
       "      <th>universe_exclude_subgroups</th>\n",
       "      <th>q_hat</th>\n",
       "      <th>coverage</th>\n",
       "      <th>avg_size</th>\n",
       "    </tr>\n",
       "  </thead>\n",
       "  <tbody>\n",
       "    <tr>\n",
       "      <th>0</th>\n",
       "      <td>f3501c6b464abbd2b5f7452d6e840be1</td>\n",
       "      <td>2010_14</td>\n",
       "      <td>1k</td>\n",
       "      <td>do-not-scale</td>\n",
       "      <td>penalized_logreg</td>\n",
       "      <td>age</td>\n",
       "      <td>keep-all</td>\n",
       "      <td>0.680448</td>\n",
       "      <td>0.913109</td>\n",
       "      <td>1.274652</td>\n",
       "    </tr>\n",
       "  </tbody>\n",
       "</table>\n",
       "</div>"
      ],
      "text/plain": [
       "                        universe_id universe_training_year  \\\n",
       "0  f3501c6b464abbd2b5f7452d6e840be1                2010_14   \n",
       "\n",
       "  universe_training_size universe_scale    universe_model  \\\n",
       "0                     1k   do-not-scale  penalized_logreg   \n",
       "\n",
       "  universe_exclude_features universe_exclude_subgroups     q_hat  coverage  \\\n",
       "0                       age                   keep-all  0.680448  0.913109   \n",
       "\n",
       "   avg_size  \n",
       "0  1.274652  "
      ]
     },
     "execution_count": 50,
     "metadata": {},
     "output_type": "execute_result"
    }
   ],
   "source": [
    "cp_metrics_df"
   ]
  },
  {
   "cell_type": "markdown",
   "id": "ed608b0b",
   "metadata": {
    "papermill": {
     "duration": 0.011996,
     "end_time": "2025-08-19T19:10:05.871168",
     "exception": false,
     "start_time": "2025-08-19T19:10:05.859172",
     "status": "completed"
    },
    "tags": []
   },
   "source": [
    "Conditional coverage & looking at subgroups"
   ]
  },
  {
   "cell_type": "code",
   "execution_count": 51,
   "id": "8968c366",
   "metadata": {
    "execution": {
     "iopub.execute_input": "2025-08-19T19:10:05.912181Z",
     "iopub.status.busy": "2025-08-19T19:10:05.911131Z",
     "iopub.status.idle": "2025-08-19T19:10:06.204917Z",
     "shell.execute_reply": "2025-08-19T19:10:06.204176Z"
    },
    "papermill": {
     "duration": 0.321708,
     "end_time": "2025-08-19T19:10:06.206317",
     "exception": false,
     "start_time": "2025-08-19T19:10:05.884609",
     "status": "completed"
    },
    "tags": []
   },
   "outputs": [],
   "source": [
    "from fairness_multiverse.conformal import build_cp_groups\n",
    "\n",
    "cp_groups_df = build_cp_groups(pred_sets, y_true, X_test.index, org_test)"
   ]
  },
  {
   "cell_type": "code",
   "execution_count": 52,
   "id": "292ddabf",
   "metadata": {
    "execution": {
     "iopub.execute_input": "2025-08-19T19:10:06.239887Z",
     "iopub.status.busy": "2025-08-19T19:10:06.238999Z",
     "iopub.status.idle": "2025-08-19T19:10:07.135683Z",
     "shell.execute_reply": "2025-08-19T19:10:07.134481Z"
    },
    "papermill": {
     "duration": 0.916569,
     "end_time": "2025-08-19T19:10:07.137311",
     "exception": false,
     "start_time": "2025-08-19T19:10:06.220742",
     "status": "completed"
    },
    "tags": []
   },
   "outputs": [],
   "source": [
    "# Define covered = 1 if true_label is in the predicted set\n",
    "cp_groups_df['covered'] = cp_groups_df.apply(\n",
    "    lambda r: int(r['true_label'] in r['pred_set']),\n",
    "    axis=1\n",
    ")"
   ]
  },
  {
   "cell_type": "code",
   "execution_count": 53,
   "id": "3a261692",
   "metadata": {
    "execution": {
     "iopub.execute_input": "2025-08-19T19:10:07.175088Z",
     "iopub.status.busy": "2025-08-19T19:10:07.174709Z",
     "iopub.status.idle": "2025-08-19T19:10:07.188342Z",
     "shell.execute_reply": "2025-08-19T19:10:07.187614Z"
    },
    "papermill": {
     "duration": 0.035296,
     "end_time": "2025-08-19T19:10:07.189686",
     "exception": false,
     "start_time": "2025-08-19T19:10:07.154390",
     "status": "completed"
    },
    "tags": []
   },
   "outputs": [],
   "source": [
    "subgroups = ['frau1','nongerman','nongerman_male','nongerman_female']\n",
    "\n",
    "# Conditional coverage for subgroup==1\n",
    "cond_coverage = {\n",
    "    g: cp_groups_df.loc[cp_groups_df[g]==1, 'covered'].mean()\n",
    "    for g in subgroups\n",
    "}"
   ]
  },
  {
   "cell_type": "code",
   "execution_count": 54,
   "id": "894fd600",
   "metadata": {
    "execution": {
     "iopub.execute_input": "2025-08-19T19:10:07.217597Z",
     "iopub.status.busy": "2025-08-19T19:10:07.217033Z",
     "iopub.status.idle": "2025-08-19T19:10:07.225648Z",
     "shell.execute_reply": "2025-08-19T19:10:07.224673Z"
    },
    "papermill": {
     "duration": 0.024315,
     "end_time": "2025-08-19T19:10:07.227089",
     "exception": false,
     "start_time": "2025-08-19T19:10:07.202774",
     "status": "completed"
    },
    "tags": []
   },
   "outputs": [
    {
     "data": {
      "text/plain": [
       "{'frau1': 0.9140854562609516,\n",
       " 'nongerman': 0.9630045472407792,\n",
       " 'nongerman_male': 0.9682968567053949,\n",
       " 'nongerman_female': 0.95424739195231}"
      ]
     },
     "execution_count": 54,
     "metadata": {},
     "output_type": "execute_result"
    }
   ],
   "source": [
    "cond_coverage"
   ]
  },
  {
   "cell_type": "code",
   "execution_count": 55,
   "id": "942895c7",
   "metadata": {
    "execution": {
     "iopub.execute_input": "2025-08-19T19:10:07.276193Z",
     "iopub.status.busy": "2025-08-19T19:10:07.275893Z",
     "iopub.status.idle": "2025-08-19T19:10:07.281986Z",
     "shell.execute_reply": "2025-08-19T19:10:07.281258Z"
    },
    "papermill": {
     "duration": 0.040939,
     "end_time": "2025-08-19T19:10:07.283667",
     "exception": false,
     "start_time": "2025-08-19T19:10:07.242728",
     "status": "completed"
    },
    "tags": []
   },
   "outputs": [],
   "source": [
    "for subgroup, cov in cond_coverage.items():\n",
    "    cp_metrics_df[f\"cov_{subgroup}\"] = cov"
   ]
  },
  {
   "cell_type": "code",
   "execution_count": 56,
   "id": "3970120f",
   "metadata": {
    "execution": {
     "iopub.execute_input": "2025-08-19T19:10:07.309966Z",
     "iopub.status.busy": "2025-08-19T19:10:07.309662Z",
     "iopub.status.idle": "2025-08-19T19:10:07.326153Z",
     "shell.execute_reply": "2025-08-19T19:10:07.325418Z"
    },
    "papermill": {
     "duration": 0.03118,
     "end_time": "2025-08-19T19:10:07.327611",
     "exception": false,
     "start_time": "2025-08-19T19:10:07.296431",
     "status": "completed"
    },
    "tags": []
   },
   "outputs": [
    {
     "data": {
      "text/html": [
       "<div>\n",
       "<style scoped>\n",
       "    .dataframe tbody tr th:only-of-type {\n",
       "        vertical-align: middle;\n",
       "    }\n",
       "\n",
       "    .dataframe tbody tr th {\n",
       "        vertical-align: top;\n",
       "    }\n",
       "\n",
       "    .dataframe thead th {\n",
       "        text-align: right;\n",
       "    }\n",
       "</style>\n",
       "<table border=\"1\" class=\"dataframe\">\n",
       "  <thead>\n",
       "    <tr style=\"text-align: right;\">\n",
       "      <th></th>\n",
       "      <th>universe_id</th>\n",
       "      <th>universe_training_year</th>\n",
       "      <th>universe_training_size</th>\n",
       "      <th>universe_scale</th>\n",
       "      <th>universe_model</th>\n",
       "      <th>universe_exclude_features</th>\n",
       "      <th>universe_exclude_subgroups</th>\n",
       "      <th>q_hat</th>\n",
       "      <th>coverage</th>\n",
       "      <th>avg_size</th>\n",
       "      <th>cov_frau1</th>\n",
       "      <th>cov_nongerman</th>\n",
       "      <th>cov_nongerman_male</th>\n",
       "      <th>cov_nongerman_female</th>\n",
       "    </tr>\n",
       "  </thead>\n",
       "  <tbody>\n",
       "    <tr>\n",
       "      <th>0</th>\n",
       "      <td>f3501c6b464abbd2b5f7452d6e840be1</td>\n",
       "      <td>2010_14</td>\n",
       "      <td>1k</td>\n",
       "      <td>do-not-scale</td>\n",
       "      <td>penalized_logreg</td>\n",
       "      <td>age</td>\n",
       "      <td>keep-all</td>\n",
       "      <td>0.680448</td>\n",
       "      <td>0.913109</td>\n",
       "      <td>1.274652</td>\n",
       "      <td>0.914085</td>\n",
       "      <td>0.963005</td>\n",
       "      <td>0.968297</td>\n",
       "      <td>0.954247</td>\n",
       "    </tr>\n",
       "  </tbody>\n",
       "</table>\n",
       "</div>"
      ],
      "text/plain": [
       "                        universe_id universe_training_year  \\\n",
       "0  f3501c6b464abbd2b5f7452d6e840be1                2010_14   \n",
       "\n",
       "  universe_training_size universe_scale    universe_model  \\\n",
       "0                     1k   do-not-scale  penalized_logreg   \n",
       "\n",
       "  universe_exclude_features universe_exclude_subgroups     q_hat  coverage  \\\n",
       "0                       age                   keep-all  0.680448  0.913109   \n",
       "\n",
       "   avg_size  cov_frau1  cov_nongerman  cov_nongerman_male  \\\n",
       "0  1.274652   0.914085       0.963005            0.968297   \n",
       "\n",
       "   cov_nongerman_female  \n",
       "0              0.954247  "
      ]
     },
     "execution_count": 56,
     "metadata": {},
     "output_type": "execute_result"
    }
   ],
   "source": [
    "cp_metrics_df"
   ]
  },
  {
   "cell_type": "markdown",
   "id": "3fc519cc",
   "metadata": {
    "papermill": {
     "duration": 0.012366,
     "end_time": "2025-08-19T19:10:07.354537",
     "exception": false,
     "start_time": "2025-08-19T19:10:07.342171",
     "status": "completed"
    },
    "tags": []
   },
   "source": [
    "# (Fairness) Metrics"
   ]
  },
  {
   "cell_type": "code",
   "execution_count": 57,
   "id": "a2e5e155",
   "metadata": {
    "execution": {
     "iopub.execute_input": "2025-08-19T19:10:07.380444Z",
     "iopub.status.busy": "2025-08-19T19:10:07.380137Z",
     "iopub.status.idle": "2025-08-19T19:10:07.397020Z",
     "shell.execute_reply": "2025-08-19T19:10:07.396239Z"
    },
    "papermill": {
     "duration": 0.03168,
     "end_time": "2025-08-19T19:10:07.398436",
     "exception": false,
     "start_time": "2025-08-19T19:10:07.366756",
     "status": "completed"
    },
    "tags": []
   },
   "outputs": [],
   "source": [
    "colname_to_bin = \"maxdeutsch1\"\n",
    "majority_value = org_train[colname_to_bin].mode()[0]\n",
    "\n",
    "org_test[\"majmin\"] = np.where(org_test[colname_to_bin] == majority_value, \"majority\", \"minority\")"
   ]
  },
  {
   "cell_type": "code",
   "execution_count": 58,
   "id": "17e3e4d5",
   "metadata": {
    "execution": {
     "iopub.execute_input": "2025-08-19T19:10:07.433122Z",
     "iopub.status.busy": "2025-08-19T19:10:07.432576Z",
     "iopub.status.idle": "2025-08-19T19:10:09.163848Z",
     "shell.execute_reply": "2025-08-19T19:10:09.162409Z"
    },
    "papermill": {
     "duration": 1.753729,
     "end_time": "2025-08-19T19:10:09.165718",
     "exception": false,
     "start_time": "2025-08-19T19:10:07.411989",
     "status": "completed"
    },
    "tags": []
   },
   "outputs": [],
   "source": [
    "example_universe = universe.copy()\n",
    "example_universe[\"cutoff\"] = example_universe[\"cutoff\"][0]\n",
    "example_universe[\"eval_fairness_grouping\"] = example_universe[\"eval_fairness_grouping\"][0]\n",
    "fairness_dict, metric_frame = universe_analysis.compute_metrics(\n",
    "    example_universe,\n",
    "    y_pred_prob=probs_test,\n",
    "    y_test=y_true,\n",
    "    org_test=org_test,\n",
    ")"
   ]
  },
  {
   "cell_type": "markdown",
   "id": "1fb7a0e9",
   "metadata": {
    "papermill": {
     "duration": 0.012557,
     "end_time": "2025-08-19T19:10:09.191874",
     "exception": false,
     "start_time": "2025-08-19T19:10:09.179317",
     "status": "completed"
    },
    "tags": []
   },
   "source": [
    "# Overall"
   ]
  },
  {
   "cell_type": "markdown",
   "id": "be1784b1",
   "metadata": {
    "papermill": {
     "duration": 0.01231,
     "end_time": "2025-08-19T19:10:09.216616",
     "exception": false,
     "start_time": "2025-08-19T19:10:09.204306",
     "status": "completed"
    },
    "tags": []
   },
   "source": [
    "Main fairness target: Equalized Odds. Seems to be a better fit than equal opportunity, since we're not only interested in Y = 1. Seems to be a better fit than demographic parity, since we also care about accuracy, not just equal distribution of preds.\n",
    "\n",
    "Pick column for computation of fairness metrics\n",
    "\n",
    "Performance\n",
    "Overall performance measures, most interesting in relation to the measures split by group below"
   ]
  },
  {
   "cell_type": "code",
   "execution_count": 59,
   "id": "b7672bee",
   "metadata": {
    "execution": {
     "iopub.execute_input": "2025-08-19T19:10:09.245243Z",
     "iopub.status.busy": "2025-08-19T19:10:09.243550Z",
     "iopub.status.idle": "2025-08-19T19:10:09.258594Z",
     "shell.execute_reply": "2025-08-19T19:10:09.257628Z"
    },
    "papermill": {
     "duration": 0.040304,
     "end_time": "2025-08-19T19:10:09.269147",
     "exception": false,
     "start_time": "2025-08-19T19:10:09.228843",
     "status": "completed"
    },
    "tags": []
   },
   "outputs": [
    {
     "data": {
      "text/plain": [
       "accuracy                   0.213945\n",
       "balanced accuracy          0.525310\n",
       "f1                         0.235563\n",
       "precision                  0.134569\n",
       "false positive rate        0.893507\n",
       "false negative rate        0.055874\n",
       "selection rate             0.900000\n",
       "count                  89710.000000\n",
       "dtype: float64"
      ]
     },
     "execution_count": 59,
     "metadata": {},
     "output_type": "execute_result"
    }
   ],
   "source": [
    "metric_frame.overall"
   ]
  },
  {
   "cell_type": "markdown",
   "id": "d93333c9",
   "metadata": {
    "papermill": {
     "duration": 0.012925,
     "end_time": "2025-08-19T19:10:09.297132",
     "exception": false,
     "start_time": "2025-08-19T19:10:09.284207",
     "status": "completed"
    },
    "tags": []
   },
   "source": [
    "By Group"
   ]
  },
  {
   "cell_type": "code",
   "execution_count": 60,
   "id": "52256966",
   "metadata": {
    "execution": {
     "iopub.execute_input": "2025-08-19T19:10:09.325693Z",
     "iopub.status.busy": "2025-08-19T19:10:09.324186Z",
     "iopub.status.idle": "2025-08-19T19:10:09.347093Z",
     "shell.execute_reply": "2025-08-19T19:10:09.346250Z"
    },
    "papermill": {
     "duration": 0.038937,
     "end_time": "2025-08-19T19:10:09.348844",
     "exception": false,
     "start_time": "2025-08-19T19:10:09.309907",
     "status": "completed"
    },
    "tags": []
   },
   "outputs": [
    {
     "data": {
      "text/html": [
       "<div>\n",
       "<style scoped>\n",
       "    .dataframe tbody tr th:only-of-type {\n",
       "        vertical-align: middle;\n",
       "    }\n",
       "\n",
       "    .dataframe tbody tr th {\n",
       "        vertical-align: top;\n",
       "    }\n",
       "\n",
       "    .dataframe thead th {\n",
       "        text-align: right;\n",
       "    }\n",
       "</style>\n",
       "<table border=\"1\" class=\"dataframe\">\n",
       "  <thead>\n",
       "    <tr style=\"text-align: right;\">\n",
       "      <th></th>\n",
       "      <th>accuracy</th>\n",
       "      <th>balanced accuracy</th>\n",
       "      <th>f1</th>\n",
       "      <th>precision</th>\n",
       "      <th>false positive rate</th>\n",
       "      <th>false negative rate</th>\n",
       "      <th>selection rate</th>\n",
       "      <th>count</th>\n",
       "    </tr>\n",
       "    <tr>\n",
       "      <th>majmin</th>\n",
       "      <th></th>\n",
       "      <th></th>\n",
       "      <th></th>\n",
       "      <th></th>\n",
       "      <th></th>\n",
       "      <th></th>\n",
       "      <th></th>\n",
       "      <th></th>\n",
       "    </tr>\n",
       "  </thead>\n",
       "  <tbody>\n",
       "    <tr>\n",
       "      <th>majority</th>\n",
       "      <td>0.235868</td>\n",
       "      <td>0.531519</td>\n",
       "      <td>0.244032</td>\n",
       "      <td>0.140366</td>\n",
       "      <td>0.870332</td>\n",
       "      <td>0.066630</td>\n",
       "      <td>0.878661</td>\n",
       "      <td>69170.0</td>\n",
       "    </tr>\n",
       "    <tr>\n",
       "      <th>minority</th>\n",
       "      <td>0.140117</td>\n",
       "      <td>0.507789</td>\n",
       "      <td>0.209046</td>\n",
       "      <td>0.116922</td>\n",
       "      <td>0.970064</td>\n",
       "      <td>0.014358</td>\n",
       "      <td>0.971860</td>\n",
       "      <td>20540.0</td>\n",
       "    </tr>\n",
       "  </tbody>\n",
       "</table>\n",
       "</div>"
      ],
      "text/plain": [
       "          accuracy  balanced accuracy        f1  precision  \\\n",
       "majmin                                                       \n",
       "majority  0.235868           0.531519  0.244032   0.140366   \n",
       "minority  0.140117           0.507789  0.209046   0.116922   \n",
       "\n",
       "          false positive rate  false negative rate  selection rate    count  \n",
       "majmin                                                                       \n",
       "majority             0.870332             0.066630        0.878661  69170.0  \n",
       "minority             0.970064             0.014358        0.971860  20540.0  "
      ]
     },
     "execution_count": 60,
     "metadata": {},
     "output_type": "execute_result"
    }
   ],
   "source": [
    "metric_frame.by_group"
   ]
  },
  {
   "cell_type": "code",
   "execution_count": 61,
   "id": "6e6c20ae",
   "metadata": {
    "execution": {
     "iopub.execute_input": "2025-08-19T19:10:09.385118Z",
     "iopub.status.busy": "2025-08-19T19:10:09.383641Z",
     "iopub.status.idle": "2025-08-19T19:10:11.189878Z",
     "shell.execute_reply": "2025-08-19T19:10:11.188957Z"
    },
    "papermill": {
     "duration": 1.822234,
     "end_time": "2025-08-19T19:10:11.191161",
     "exception": false,
     "start_time": "2025-08-19T19:10:09.368927",
     "status": "completed"
    },
    "tags": []
   },
   "outputs": [
    {
     "data": {
      "text/plain": [
       "array([[<Axes: title={'center': 'accuracy'}, xlabel='majmin'>,\n",
       "        <Axes: title={'center': 'balanced accuracy'}, xlabel='majmin'>,\n",
       "        <Axes: title={'center': 'f1'}, xlabel='majmin'>],\n",
       "       [<Axes: title={'center': 'precision'}, xlabel='majmin'>,\n",
       "        <Axes: title={'center': 'false positive rate'}, xlabel='majmin'>,\n",
       "        <Axes: title={'center': 'false negative rate'}, xlabel='majmin'>],\n",
       "       [<Axes: title={'center': 'selection rate'}, xlabel='majmin'>,\n",
       "        <Axes: title={'center': 'count'}, xlabel='majmin'>,\n",
       "        <Axes: xlabel='majmin'>]], dtype=object)"
      ]
     },
     "execution_count": 61,
     "metadata": {},
     "output_type": "execute_result"
    },
    {
     "data": {
      "image/png": "[encoded data removed]",
      "text/plain": [
       "<Figure size 1200x800 with 9 Axes>"
      ]
     },
     "metadata": {},
     "output_type": "display_data"
    }
   ],
   "source": [
    "# In a graphic\n",
    "metric_frame.by_group.plot.bar(\n",
    "    subplots=True,\n",
    "    layout=[3, 3],\n",
    "    legend=False,\n",
    "    figsize=[12, 8],\n",
    "    title=\"Show all metrics\",\n",
    ")"
   ]
  },
  {
   "cell_type": "markdown",
   "id": "b2e433ae",
   "metadata": {
    "papermill": {
     "duration": 0.014105,
     "end_time": "2025-08-19T19:10:11.221180",
     "exception": false,
     "start_time": "2025-08-19T19:10:11.207075",
     "status": "completed"
    },
    "tags": []
   },
   "source": [
    "# Final Output"
   ]
  },
  {
   "cell_type": "code",
   "execution_count": 62,
   "id": "3871301e",
   "metadata": {
    "execution": {
     "iopub.execute_input": "2025-08-19T19:10:11.253926Z",
     "iopub.status.busy": "2025-08-19T19:10:11.251534Z",
     "iopub.status.idle": "2025-08-19T19:10:11.269751Z",
     "shell.execute_reply": "2025-08-19T19:10:11.268788Z"
    },
    "papermill": {
     "duration": 0.036201,
     "end_time": "2025-08-19T19:10:11.271341",
     "exception": false,
     "start_time": "2025-08-19T19:10:11.235140",
     "status": "completed"
    },
    "tags": []
   },
   "outputs": [
    {
     "data": {
      "text/plain": [
       "4"
      ]
     },
     "execution_count": 62,
     "metadata": {},
     "output_type": "execute_result"
    }
   ],
   "source": [
    "sub_universes = universe_analysis.generate_sub_universes()\n",
    "len(sub_universes)"
   ]
  },
  {
   "cell_type": "code",
   "execution_count": 63,
   "id": "d9cfdaca",
   "metadata": {
    "execution": {
     "iopub.execute_input": "2025-08-19T19:10:11.311007Z",
     "iopub.status.busy": "2025-08-19T19:10:11.308114Z",
     "iopub.status.idle": "2025-08-19T19:10:11.319041Z",
     "shell.execute_reply": "2025-08-19T19:10:11.317601Z"
    },
    "papermill": {
     "duration": 0.028761,
     "end_time": "2025-08-19T19:10:11.320571",
     "exception": false,
     "start_time": "2025-08-19T19:10:11.291810",
     "status": "completed"
    },
    "tags": []
   },
   "outputs": [],
   "source": [
    "def filter_sub_universe_data(sub_universe, org_test):\n",
    "    # Keep all rows — no filtering\n",
    "    keep_rows_mask = np.ones(org_test.shape[0], dtype=bool)\n",
    "\n",
    "    print(f\"[INFO] Keeping all rows: {keep_rows_mask.sum()} rows retained.\")\n",
    "    return keep_rows_mask"
   ]
  },
  {
   "cell_type": "code",
   "execution_count": 64,
   "id": "2bc31ac1",
   "metadata": {
    "execution": {
     "iopub.execute_input": "2025-08-19T19:10:11.356445Z",
     "iopub.status.busy": "2025-08-19T19:10:11.355033Z",
     "iopub.status.idle": "2025-08-19T19:10:17.901626Z",
     "shell.execute_reply": "2025-08-19T19:10:17.900629Z"
    },
    "papermill": {
     "duration": 6.56369,
     "end_time": "2025-08-19T19:10:17.903003",
     "exception": false,
     "start_time": "2025-08-19T19:10:11.339313",
     "status": "completed"
    },
    "tags": []
   },
   "outputs": [
    {
     "name": "stdout",
     "output_type": "stream",
     "text": [
      "Stopping execution_time clock.\n",
      "[INFO] Keeping all rows: 89710 rows retained.\n"
     ]
    },
    {
     "name": "stdout",
     "output_type": "stream",
     "text": [
      "[INFO] Keeping all rows: 89710 rows retained.\n"
     ]
    },
    {
     "name": "stdout",
     "output_type": "stream",
     "text": [
      "[INFO] Keeping all rows: 89710 rows retained.\n"
     ]
    },
    {
     "name": "stdout",
     "output_type": "stream",
     "text": [
      "[INFO] Keeping all rows: 89710 rows retained.\n"
     ]
    },
    {
     "data": {
      "text/html": [
       "<div>\n",
       "<style scoped>\n",
       "    .dataframe tbody tr th:only-of-type {\n",
       "        vertical-align: middle;\n",
       "    }\n",
       "\n",
       "    .dataframe tbody tr th {\n",
       "        vertical-align: top;\n",
       "    }\n",
       "\n",
       "    .dataframe thead th {\n",
       "        text-align: right;\n",
       "    }\n",
       "</style>\n",
       "<table border=\"1\" class=\"dataframe\">\n",
       "  <thead>\n",
       "    <tr style=\"text-align: right;\">\n",
       "      <th></th>\n",
       "      <th>run_no</th>\n",
       "      <th>universe_id</th>\n",
       "      <th>universe_settings</th>\n",
       "      <th>execution_time</th>\n",
       "      <th>test_size_n</th>\n",
       "      <th>test_size_frac</th>\n",
       "      <th>fair_main_equalized_odds_difference</th>\n",
       "      <th>fair_main_equalized_odds_ratio</th>\n",
       "      <th>fair_main_demographic_parity_difference</th>\n",
       "      <th>fair_main_demographic_parity_ratio</th>\n",
       "      <th>...</th>\n",
       "      <th>perf_grp_precision_0</th>\n",
       "      <th>perf_grp_precision_1</th>\n",
       "      <th>perf_grp_false positive rate_0</th>\n",
       "      <th>perf_grp_false positive rate_1</th>\n",
       "      <th>perf_grp_false negative rate_0</th>\n",
       "      <th>perf_grp_false negative rate_1</th>\n",
       "      <th>perf_grp_selection rate_0</th>\n",
       "      <th>perf_grp_selection rate_1</th>\n",
       "      <th>perf_grp_count_0</th>\n",
       "      <th>perf_grp_count_1</th>\n",
       "    </tr>\n",
       "  </thead>\n",
       "  <tbody>\n",
       "    <tr>\n",
       "      <th>0</th>\n",
       "      <td>3</td>\n",
       "      <td>f3501c6b464abbd2b5f7452d6e840be1</td>\n",
       "      <td>{\"cutoff\": \"quantile_0.1\", \"eval_fairness_grou...</td>\n",
       "      <td>20.997902</td>\n",
       "      <td>89710</td>\n",
       "      <td>1.0</td>\n",
       "      <td>0.099732</td>\n",
       "      <td>0.897190</td>\n",
       "      <td>0.093199</td>\n",
       "      <td>0.904103</td>\n",
       "      <td>...</td>\n",
       "      <td>NaN</td>\n",
       "      <td>NaN</td>\n",
       "      <td>NaN</td>\n",
       "      <td>NaN</td>\n",
       "      <td>NaN</td>\n",
       "      <td>NaN</td>\n",
       "      <td>NaN</td>\n",
       "      <td>NaN</td>\n",
       "      <td>NaN</td>\n",
       "      <td>NaN</td>\n",
       "    </tr>\n",
       "    <tr>\n",
       "      <th>0</th>\n",
       "      <td>3</td>\n",
       "      <td>f3501c6b464abbd2b5f7452d6e840be1</td>\n",
       "      <td>{\"cutoff\": \"quantile_0.1\", \"eval_fairness_grou...</td>\n",
       "      <td>20.997902</td>\n",
       "      <td>89710</td>\n",
       "      <td>1.0</td>\n",
       "      <td>0.099732</td>\n",
       "      <td>0.897190</td>\n",
       "      <td>0.093199</td>\n",
       "      <td>0.904103</td>\n",
       "      <td>...</td>\n",
       "      <td>0.116922</td>\n",
       "      <td>0.140366</td>\n",
       "      <td>0.970064</td>\n",
       "      <td>0.870332</td>\n",
       "      <td>0.014358</td>\n",
       "      <td>0.066630</td>\n",
       "      <td>0.971860</td>\n",
       "      <td>0.878661</td>\n",
       "      <td>20540.0</td>\n",
       "      <td>69170.0</td>\n",
       "    </tr>\n",
       "    <tr>\n",
       "      <th>0</th>\n",
       "      <td>3</td>\n",
       "      <td>f3501c6b464abbd2b5f7452d6e840be1</td>\n",
       "      <td>{\"cutoff\": \"quantile_0.25\", \"eval_fairness_gro...</td>\n",
       "      <td>20.997902</td>\n",
       "      <td>89710</td>\n",
       "      <td>1.0</td>\n",
       "      <td>0.233298</td>\n",
       "      <td>0.744501</td>\n",
       "      <td>0.217470</td>\n",
       "      <td>0.763020</td>\n",
       "      <td>...</td>\n",
       "      <td>NaN</td>\n",
       "      <td>NaN</td>\n",
       "      <td>NaN</td>\n",
       "      <td>NaN</td>\n",
       "      <td>NaN</td>\n",
       "      <td>NaN</td>\n",
       "      <td>NaN</td>\n",
       "      <td>NaN</td>\n",
       "      <td>NaN</td>\n",
       "      <td>NaN</td>\n",
       "    </tr>\n",
       "    <tr>\n",
       "      <th>0</th>\n",
       "      <td>3</td>\n",
       "      <td>f3501c6b464abbd2b5f7452d6e840be1</td>\n",
       "      <td>{\"cutoff\": \"quantile_0.25\", \"eval_fairness_gro...</td>\n",
       "      <td>20.997902</td>\n",
       "      <td>89710</td>\n",
       "      <td>1.0</td>\n",
       "      <td>0.233298</td>\n",
       "      <td>0.744501</td>\n",
       "      <td>0.217470</td>\n",
       "      <td>0.763020</td>\n",
       "      <td>...</td>\n",
       "      <td>0.119688</td>\n",
       "      <td>0.157413</td>\n",
       "      <td>0.913108</td>\n",
       "      <td>0.679810</td>\n",
       "      <td>0.047297</td>\n",
       "      <td>0.165864</td>\n",
       "      <td>0.917673</td>\n",
       "      <td>0.700202</td>\n",
       "      <td>20540.0</td>\n",
       "      <td>69170.0</td>\n",
       "    </tr>\n",
       "  </tbody>\n",
       "</table>\n",
       "<p>4 rows × 50 columns</p>\n",
       "</div>"
      ],
      "text/plain": [
       "  run_no                       universe_id  \\\n",
       "0      3  f3501c6b464abbd2b5f7452d6e840be1   \n",
       "0      3  f3501c6b464abbd2b5f7452d6e840be1   \n",
       "0      3  f3501c6b464abbd2b5f7452d6e840be1   \n",
       "0      3  f3501c6b464abbd2b5f7452d6e840be1   \n",
       "\n",
       "                                   universe_settings  execution_time  \\\n",
       "0  {\"cutoff\": \"quantile_0.1\", \"eval_fairness_grou...       20.997902   \n",
       "0  {\"cutoff\": \"quantile_0.1\", \"eval_fairness_grou...       20.997902   \n",
       "0  {\"cutoff\": \"quantile_0.25\", \"eval_fairness_gro...       20.997902   \n",
       "0  {\"cutoff\": \"quantile_0.25\", \"eval_fairness_gro...       20.997902   \n",
       "\n",
       "   test_size_n  test_size_frac  fair_main_equalized_odds_difference  \\\n",
       "0        89710             1.0                             0.099732   \n",
       "0        89710             1.0                             0.099732   \n",
       "0        89710             1.0                             0.233298   \n",
       "0        89710             1.0                             0.233298   \n",
       "\n",
       "   fair_main_equalized_odds_ratio  fair_main_demographic_parity_difference  \\\n",
       "0                        0.897190                                 0.093199   \n",
       "0                        0.897190                                 0.093199   \n",
       "0                        0.744501                                 0.217470   \n",
       "0                        0.744501                                 0.217470   \n",
       "\n",
       "   fair_main_demographic_parity_ratio  ...  perf_grp_precision_0  \\\n",
       "0                            0.904103  ...                   NaN   \n",
       "0                            0.904103  ...              0.116922   \n",
       "0                            0.763020  ...                   NaN   \n",
       "0                            0.763020  ...              0.119688   \n",
       "\n",
       "   perf_grp_precision_1  perf_grp_false positive rate_0  \\\n",
       "0                   NaN                             NaN   \n",
       "0              0.140366                        0.970064   \n",
       "0                   NaN                             NaN   \n",
       "0              0.157413                        0.913108   \n",
       "\n",
       "   perf_grp_false positive rate_1  perf_grp_false negative rate_0  \\\n",
       "0                             NaN                             NaN   \n",
       "0                        0.870332                        0.014358   \n",
       "0                             NaN                             NaN   \n",
       "0                        0.679810                        0.047297   \n",
       "\n",
       "   perf_grp_false negative rate_1  perf_grp_selection rate_0  \\\n",
       "0                             NaN                        NaN   \n",
       "0                        0.066630                   0.971860   \n",
       "0                             NaN                        NaN   \n",
       "0                        0.165864                   0.917673   \n",
       "\n",
       "   perf_grp_selection rate_1  perf_grp_count_0  perf_grp_count_1  \n",
       "0                        NaN               NaN               NaN  \n",
       "0                   0.878661           20540.0           69170.0  \n",
       "0                        NaN               NaN               NaN  \n",
       "0                   0.700202           20540.0           69170.0  \n",
       "\n",
       "[4 rows x 50 columns]"
      ]
     },
     "execution_count": 64,
     "metadata": {},
     "output_type": "execute_result"
    }
   ],
   "source": [
    "final_output = universe_analysis.generate_final_output(\n",
    "    y_pred_prob=probs_test,\n",
    "    y_test=y_true,\n",
    "    org_test=org_test,\n",
    "    filter_data=filter_sub_universe_data,\n",
    "    cp_metrics_df=cp_metrics_df,\n",
    "    save=True,\n",
    ")\n",
    "final_output"
   ]
  },
  {
   "cell_type": "code",
   "execution_count": null,
   "id": "8b80a1ff",
   "metadata": {
    "papermill": {
     "duration": 0.015416,
     "end_time": "2025-08-19T19:10:17.937701",
     "exception": false,
     "start_time": "2025-08-19T19:10:17.922285",
     "status": "completed"
    },
    "tags": []
   },
   "outputs": [],
   "source": []
  },
  {
   "cell_type": "code",
   "execution_count": null,
   "id": "275c9fad",
   "metadata": {
    "papermill": {
     "duration": 0.014505,
     "end_time": "2025-08-19T19:10:17.966763",
     "exception": false,
     "start_time": "2025-08-19T19:10:17.952258",
     "status": "completed"
    },
    "tags": []
   },
   "outputs": [],
   "source": []
  }
 ],
 "metadata": {
  "celltoolbar": "Tags",
  "kernelspec": {
   "display_name": "Python (CMA Fairness)",
   "language": "python",
   "name": "cma_fair_env"
  },
  "language_info": {
   "codemirror_mode": {
    "name": "ipython",
    "version": 3
   },
   "file_extension": ".py",
   "mimetype": "text/x-python",
   "name": "python",
   "nbconvert_exporter": "python",
   "pygments_lexer": "ipython3",
   "version": "3.10.12"
  },
  "papermill": {
   "default_parameters": {},
   "duration": 31.425339,
   "end_time": "2025-08-19T19:10:18.906911",
   "environment_variables": {},
   "exception": null,
   "input_path": "universe_analysis.ipynb",
   "output_path": "output/runs/3/notebooks/m_3-f3501c6b464abbd2b5f7452d6e840be1.ipynb",
   "parameters": {
    "output_dir": "output",
    "run_no": "3",
    "seed": "2023",
    "universe": "{\"cutoff\": [\"quantile_0.1\", \"quantile_0.25\"], \"eval_fairness_grouping\": [\"majority-minority\", \"nationality-all\"], \"exclude_features\": \"age\", \"exclude_subgroups\": \"keep-all\", \"model\": \"penalized_logreg\", \"scale\": \"do-not-scale\", \"training_size\": \"1k\", \"training_year\": \"2010_14\"}",
    "universe_id": "f3501c6b464abbd2b5f7452d6e840be1"
   },
   "start_time": "2025-08-19T19:09:47.481572",
   "version": "2.6.0"
  }
 },
 "nbformat": 4,
 "nbformat_minor": 5
}