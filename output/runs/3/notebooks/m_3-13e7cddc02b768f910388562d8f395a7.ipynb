{
 "cells": [
  {
   "cell_type": "markdown",
   "id": "ef23dbb3",
   "metadata": {
    "papermill": {
     "duration": 0.009257,
     "end_time": "2025-08-19T18:42:29.931943",
     "exception": false,
     "start_time": "2025-08-19T18:42:29.922686",
     "status": "completed"
    },
    "tags": []
   },
   "source": [
    "# Setup"
   ]
  },
  {
   "cell_type": "code",
   "execution_count": 1,
   "id": "0bc8e7dc",
   "metadata": {
    "execution": {
     "iopub.execute_input": "2025-08-19T18:42:29.950413Z",
     "iopub.status.busy": "2025-08-19T18:42:29.949983Z",
     "iopub.status.idle": "2025-08-19T18:42:29.963454Z",
     "shell.execute_reply": "2025-08-19T18:42:29.962479Z"
    },
    "papermill": {
     "duration": 0.024469,
     "end_time": "2025-08-19T18:42:29.964981",
     "exception": false,
     "start_time": "2025-08-19T18:42:29.940512",
     "status": "completed"
    },
    "tags": []
   },
   "outputs": [
    {
     "name": "stdout",
     "output_type": "stream",
     "text": [
      "/dss/dsshome1/0C/ra93lal2/cma/CMA_Fairness_v2\n"
     ]
    },
    {
     "name": "stderr",
     "output_type": "stream",
     "text": [
      "/dss/dsshome1/0C/ra93lal2/.local/share/virtualenvs/CMA_Fairness_v2-3j10GkSs/lib/python3.10/site-packages/IPython/core/magics/osm.py:393: UserWarning: This is now an optional IPython functionality, using bookmarks requires you to install the `pickleshare` library.\n",
      "  bkms = self.shell.db.get('bookmarks', {})\n",
      "/dss/dsshome1/0C/ra93lal2/.local/share/virtualenvs/CMA_Fairness_v2-3j10GkSs/lib/python3.10/site-packages/IPython/core/magics/osm.py:417: UserWarning: This is now an optional IPython functionality, setting dhist requires you to install the `pickleshare` library.\n",
      "  self.shell.db['dhist'] = compress_dhist(dhist)[-100:]\n"
     ]
    }
   ],
   "source": [
    "%cd ~/cma/CMA_Fairness_v2"
   ]
  },
  {
   "cell_type": "markdown",
   "id": "9d235661",
   "metadata": {
    "papermill": {
     "duration": 0.009,
     "end_time": "2025-08-19T18:42:29.985397",
     "exception": false,
     "start_time": "2025-08-19T18:42:29.976397",
     "status": "completed"
    },
    "tags": []
   },
   "source": [
    "The following cell holds the definition of our parameters, these values can be overriden by rendering the with e.g. the following command:\n",
    "\n",
    "papermill -p alpha 0.2 -p ratio 0.3 universe_analysis.ipynb output/test_run.ipynb"
   ]
  },
  {
   "cell_type": "code",
   "execution_count": 2,
   "id": "4a789d8e",
   "metadata": {
    "execution": {
     "iopub.execute_input": "2025-08-19T18:42:30.004143Z",
     "iopub.status.busy": "2025-08-19T18:42:30.003771Z",
     "iopub.status.idle": "2025-08-19T18:42:30.009156Z",
     "shell.execute_reply": "2025-08-19T18:42:30.008219Z"
    },
    "papermill": {
     "duration": 0.016258,
     "end_time": "2025-08-19T18:42:30.010335",
     "exception": false,
     "start_time": "2025-08-19T18:42:29.994077",
     "status": "completed"
    },
    "tags": []
   },
   "outputs": [
    {
     "name": "stdout",
     "output_type": "stream",
     "text": [
      "Current working directory: /dss/dsshome1/0C/ra93lal2/cma/CMA_Fairness_v2\n"
     ]
    }
   ],
   "source": [
    "import os\n",
    "print(\"Current working directory:\", os.getcwd())"
   ]
  },
  {
   "cell_type": "code",
   "execution_count": 3,
   "id": "4132aaed",
   "metadata": {
    "execution": {
     "iopub.execute_input": "2025-08-19T18:42:30.029123Z",
     "iopub.status.busy": "2025-08-19T18:42:30.028773Z",
     "iopub.status.idle": "2025-08-19T18:42:30.034544Z",
     "shell.execute_reply": "2025-08-19T18:42:30.032980Z"
    },
    "papermill": {
     "duration": 0.017166,
     "end_time": "2025-08-19T18:42:30.036351",
     "exception": false,
     "start_time": "2025-08-19T18:42:30.019185",
     "status": "completed"
    },
    "tags": [
     "parameters"
    ]
   },
   "outputs": [],
   "source": [
    "run_no = 0\n",
    "universe_id = \"test\"\n",
    "universe = {\n",
    "    \"training_size\": \"5k\", # \"25k\", \"5k\", \"1k\"\n",
    "    \"training_year\": \"2012_14\", # \"2014\", \"2012_14\", \"2010_14\"\n",
    "    \"scale\": \"scale\", # \"scale\", \"do-not-scale\",\n",
    "    \"model\": \"elasticnet\", # \"logreg\", \"penalized_logreg\", \"rf\", \"gbm\", \"elasticnet\"\n",
    "    \"cutoff\": [\"quantile_0.15\", \"quantile_0.30\"],\n",
    "    \"exclude_features\": \"age\", # \"none\", \"nationality\", \"sex\", \"nationality-sex\", \"age\"\n",
    "    \"exclude_subgroups\": \"drop-non-german\", # \"keep-all\", \"drop-non-german\"\n",
    "    \"eval_fairness_grouping\": [\"majority-minority\", \"nationality-all\"]\n",
    "}\n",
    "\n",
    "output_dir=\"./output\"\n",
    "seed=0"
   ]
  },
  {
   "cell_type": "code",
   "execution_count": 4,
   "id": "7a8f3ef4",
   "metadata": {
    "execution": {
     "iopub.execute_input": "2025-08-19T18:42:30.056382Z",
     "iopub.status.busy": "2025-08-19T18:42:30.055686Z",
     "iopub.status.idle": "2025-08-19T18:42:30.063269Z",
     "shell.execute_reply": "2025-08-19T18:42:30.061916Z"
    },
    "papermill": {
     "duration": 0.019572,
     "end_time": "2025-08-19T18:42:30.064863",
     "exception": false,
     "start_time": "2025-08-19T18:42:30.045291",
     "status": "completed"
    },
    "tags": [
     "injected-parameters"
    ]
   },
   "outputs": [],
   "source": [
    "# Parameters\n",
    "universe_id = \"13e7cddc02b768f910388562d8f395a7\"\n",
    "run_no = \"3\"\n",
    "universe = \"{\\\"cutoff\\\": [\\\"quantile_0.1\\\", \\\"quantile_0.25\\\"], \\\"eval_fairness_grouping\\\": [\\\"majority-minority\\\", \\\"nationality-all\\\"], \\\"exclude_features\\\": \\\"age\\\", \\\"exclude_subgroups\\\": \\\"drop-non-german\\\", \\\"model\\\": \\\"rf\\\", \\\"scale\\\": \\\"scale\\\", \\\"training_size\\\": \\\"5k\\\", \\\"training_year\\\": \\\"2010_14\\\"}\"\n",
    "output_dir = \"output\"\n",
    "seed = \"2023\"\n"
   ]
  },
  {
   "cell_type": "code",
   "execution_count": 5,
   "id": "a5d7941f",
   "metadata": {
    "execution": {
     "iopub.execute_input": "2025-08-19T18:42:30.084078Z",
     "iopub.status.busy": "2025-08-19T18:42:30.083357Z",
     "iopub.status.idle": "2025-08-19T18:42:30.088594Z",
     "shell.execute_reply": "2025-08-19T18:42:30.087602Z"
    },
    "papermill": {
     "duration": 0.016075,
     "end_time": "2025-08-19T18:42:30.089734",
     "exception": false,
     "start_time": "2025-08-19T18:42:30.073659",
     "status": "completed"
    },
    "tags": []
   },
   "outputs": [],
   "source": [
    "import json\n",
    "if isinstance(universe, str):\n",
    "    universe = json.loads(universe)"
   ]
  },
  {
   "cell_type": "code",
   "execution_count": 6,
   "id": "7076ccb1",
   "metadata": {
    "execution": {
     "iopub.execute_input": "2025-08-19T18:42:30.139387Z",
     "iopub.status.busy": "2025-08-19T18:42:30.137835Z",
     "iopub.status.idle": "2025-08-19T18:42:30.213879Z",
     "shell.execute_reply": "2025-08-19T18:42:30.209805Z"
    },
    "papermill": {
     "duration": 0.107386,
     "end_time": "2025-08-19T18:42:30.215821",
     "exception": false,
     "start_time": "2025-08-19T18:42:30.108435",
     "status": "completed"
    },
    "tags": []
   },
   "outputs": [],
   "source": [
    "# Auto-reload the custom package\n",
    "%load_ext autoreload\n",
    "%autoreload 1\n",
    "%aimport fairness_multiverse"
   ]
  },
  {
   "cell_type": "code",
   "execution_count": 7,
   "id": "94c8eb93",
   "metadata": {
    "execution": {
     "iopub.execute_input": "2025-08-19T18:42:30.236526Z",
     "iopub.status.busy": "2025-08-19T18:42:30.235862Z",
     "iopub.status.idle": "2025-08-19T18:42:31.879761Z",
     "shell.execute_reply": "2025-08-19T18:42:31.878650Z"
    },
    "papermill": {
     "duration": 1.656201,
     "end_time": "2025-08-19T18:42:31.881415",
     "exception": false,
     "start_time": "2025-08-19T18:42:30.225214",
     "status": "completed"
    },
    "tags": []
   },
   "outputs": [],
   "source": [
    "from fairness_multiverse.universe import UniverseAnalysis\n",
    "\n",
    "universe_analysis = UniverseAnalysis(\n",
    "    run_no = run_no,\n",
    "    universe_id = universe_id,\n",
    "    universe = universe,\n",
    "    output_dir=output_dir,\n",
    ")"
   ]
  },
  {
   "cell_type": "code",
   "execution_count": 8,
   "id": "2a6381cf",
   "metadata": {
    "execution": {
     "iopub.execute_input": "2025-08-19T18:42:31.901928Z",
     "iopub.status.busy": "2025-08-19T18:42:31.900921Z",
     "iopub.status.idle": "2025-08-19T18:42:31.907395Z",
     "shell.execute_reply": "2025-08-19T18:42:31.906347Z"
    },
    "papermill": {
     "duration": 0.018047,
     "end_time": "2025-08-19T18:42:31.908858",
     "exception": false,
     "start_time": "2025-08-19T18:42:31.890811",
     "status": "completed"
    },
    "tags": []
   },
   "outputs": [
    {
     "name": "stdout",
     "output_type": "stream",
     "text": [
      "Using Seed: 2023\n"
     ]
    }
   ],
   "source": [
    "import numpy as np\n",
    "parsed_seed = int(seed)\n",
    "np.random.seed(parsed_seed)\n",
    "print(f\"Using Seed: {parsed_seed}\")"
   ]
  },
  {
   "cell_type": "markdown",
   "id": "b6e958b4",
   "metadata": {
    "papermill": {
     "duration": 0.009058,
     "end_time": "2025-08-19T18:42:31.927614",
     "exception": false,
     "start_time": "2025-08-19T18:42:31.918556",
     "status": "completed"
    },
    "tags": []
   },
   "source": [
    "# Loading Data"
   ]
  },
  {
   "cell_type": "code",
   "execution_count": 9,
   "id": "98701482",
   "metadata": {
    "execution": {
     "iopub.execute_input": "2025-08-19T18:42:31.948276Z",
     "iopub.status.busy": "2025-08-19T18:42:31.946918Z",
     "iopub.status.idle": "2025-08-19T18:42:42.713269Z",
     "shell.execute_reply": "2025-08-19T18:42:42.712229Z"
    },
    "papermill": {
     "duration": 10.778121,
     "end_time": "2025-08-19T18:42:42.714548",
     "exception": false,
     "start_time": "2025-08-19T18:42:31.936427",
     "status": "completed"
    },
    "tags": []
   },
   "outputs": [
    {
     "name": "stdout",
     "output_type": "stream",
     "text": [
      "Loading SIAB data from cache: data/siab_cached.csv.gz\n"
     ]
    },
    {
     "name": "stdout",
     "output_type": "stream",
     "text": [
      "(643690, 164)\n"
     ]
    }
   ],
   "source": [
    "from pathlib import Path\n",
    "import pandas as pd\n",
    "\n",
    "# File paths\n",
    "raw_file = Path(\"data/raw/siab.csv\")\n",
    "cache_file = Path(\"data/siab_cached.csv.gz\")\n",
    "\n",
    "# Ensure cache directory exists\n",
    "cache_file.parent.mkdir(parents=True, exist_ok=True)\n",
    "\n",
    "# Load with simple caching\n",
    "if cache_file.exists():\n",
    "    print(f\"Loading SIAB data from cache: {cache_file}\")\n",
    "    siab = pd.read_csv(cache_file, compression='gzip')\n",
    "else:\n",
    "    print(f\"Cache not found. Reading raw SIAB data: {raw_file}\")\n",
    "    siab = pd.read_csv(raw_file)\n",
    "    siab.to_csv(cache_file, index=False, compression='gzip')\n",
    "    print(f\"Cached SIAB data to: {cache_file}\")\n",
    "\n",
    "print(siab.shape)"
   ]
  },
  {
   "cell_type": "code",
   "execution_count": 10,
   "id": "058d2abb",
   "metadata": {
    "execution": {
     "iopub.execute_input": "2025-08-19T18:42:42.747282Z",
     "iopub.status.busy": "2025-08-19T18:42:42.745928Z",
     "iopub.status.idle": "2025-08-19T18:42:42.974739Z",
     "shell.execute_reply": "2025-08-19T18:42:42.974041Z"
    },
    "papermill": {
     "duration": 0.244275,
     "end_time": "2025-08-19T18:42:42.975969",
     "exception": false,
     "start_time": "2025-08-19T18:42:42.731694",
     "status": "completed"
    },
    "tags": []
   },
   "outputs": [
    {
     "data": {
      "text/html": [
       "<div>\n",
       "<style scoped>\n",
       "    .dataframe tbody tr th:only-of-type {\n",
       "        vertical-align: middle;\n",
       "    }\n",
       "\n",
       "    .dataframe tbody tr th {\n",
       "        vertical-align: top;\n",
       "    }\n",
       "\n",
       "    .dataframe thead th {\n",
       "        text-align: right;\n",
       "    }\n",
       "</style>\n",
       "<table border=\"1\" class=\"dataframe\">\n",
       "  <thead>\n",
       "    <tr style=\"text-align: right;\">\n",
       "      <th></th>\n",
       "      <th>persnr</th>\n",
       "      <th>year</th>\n",
       "      <th>nrEntry</th>\n",
       "      <th>ltue</th>\n",
       "      <th>employed_before</th>\n",
       "      <th>receipt_leh_before</th>\n",
       "      <th>receipt_lhg_before</th>\n",
       "      <th>se_before</th>\n",
       "      <th>ASU_notue_seeking_before</th>\n",
       "      <th>ASU_other_before</th>\n",
       "      <th>...</th>\n",
       "      <th>minijob_tot_dur_byage</th>\n",
       "      <th>ft_tot_dur_byage</th>\n",
       "      <th>befrist_tot_dur_byage</th>\n",
       "      <th>leih_tot_dur_byage</th>\n",
       "      <th>LHG_tot_dur_byage</th>\n",
       "      <th>LEH_tot_dur_byage</th>\n",
       "      <th>almp_tot_dur_byage</th>\n",
       "      <th>almp_aw_tot_dur_byage</th>\n",
       "      <th>se_tot_dur_byage</th>\n",
       "      <th>seeking1_tot_dur_byage</th>\n",
       "    </tr>\n",
       "  </thead>\n",
       "  <tbody>\n",
       "    <tr>\n",
       "      <th>0</th>\n",
       "      <td>7</td>\n",
       "      <td>2015</td>\n",
       "      <td>1</td>\n",
       "      <td>0</td>\n",
       "      <td>1</td>\n",
       "      <td>0</td>\n",
       "      <td>0</td>\n",
       "      <td>0</td>\n",
       "      <td>1</td>\n",
       "      <td>0</td>\n",
       "      <td>...</td>\n",
       "      <td>0.000000</td>\n",
       "      <td>0.000000</td>\n",
       "      <td>15.043478</td>\n",
       "      <td>0.000000</td>\n",
       "      <td>0.000000</td>\n",
       "      <td>0.000000</td>\n",
       "      <td>0.000000</td>\n",
       "      <td>0.000000</td>\n",
       "      <td>0.000000</td>\n",
       "      <td>0.000000</td>\n",
       "    </tr>\n",
       "    <tr>\n",
       "      <th>1</th>\n",
       "      <td>18</td>\n",
       "      <td>2010</td>\n",
       "      <td>1</td>\n",
       "      <td>1</td>\n",
       "      <td>0</td>\n",
       "      <td>0</td>\n",
       "      <td>0</td>\n",
       "      <td>0</td>\n",
       "      <td>0</td>\n",
       "      <td>0</td>\n",
       "      <td>...</td>\n",
       "      <td>0.000000</td>\n",
       "      <td>0.000000</td>\n",
       "      <td>0.000000</td>\n",
       "      <td>0.000000</td>\n",
       "      <td>0.000000</td>\n",
       "      <td>0.000000</td>\n",
       "      <td>0.000000</td>\n",
       "      <td>0.000000</td>\n",
       "      <td>0.000000</td>\n",
       "      <td>0.000000</td>\n",
       "    </tr>\n",
       "    <tr>\n",
       "      <th>2</th>\n",
       "      <td>18</td>\n",
       "      <td>2011</td>\n",
       "      <td>2</td>\n",
       "      <td>0</td>\n",
       "      <td>1</td>\n",
       "      <td>0</td>\n",
       "      <td>1</td>\n",
       "      <td>0</td>\n",
       "      <td>1</td>\n",
       "      <td>0</td>\n",
       "      <td>...</td>\n",
       "      <td>2.714286</td>\n",
       "      <td>2.714286</td>\n",
       "      <td>0.000000</td>\n",
       "      <td>0.000000</td>\n",
       "      <td>10.775510</td>\n",
       "      <td>0.000000</td>\n",
       "      <td>8.367347</td>\n",
       "      <td>0.000000</td>\n",
       "      <td>0.000000</td>\n",
       "      <td>9.836735</td>\n",
       "    </tr>\n",
       "    <tr>\n",
       "      <th>3</th>\n",
       "      <td>18</td>\n",
       "      <td>2012</td>\n",
       "      <td>3</td>\n",
       "      <td>0</td>\n",
       "      <td>1</td>\n",
       "      <td>0</td>\n",
       "      <td>1</td>\n",
       "      <td>0</td>\n",
       "      <td>1</td>\n",
       "      <td>0</td>\n",
       "      <td>...</td>\n",
       "      <td>4.200000</td>\n",
       "      <td>4.200000</td>\n",
       "      <td>0.000000</td>\n",
       "      <td>0.000000</td>\n",
       "      <td>12.100000</td>\n",
       "      <td>0.000000</td>\n",
       "      <td>9.400000</td>\n",
       "      <td>0.000000</td>\n",
       "      <td>0.000000</td>\n",
       "      <td>9.960000</td>\n",
       "    </tr>\n",
       "    <tr>\n",
       "      <th>4</th>\n",
       "      <td>18</td>\n",
       "      <td>2012</td>\n",
       "      <td>4</td>\n",
       "      <td>0</td>\n",
       "      <td>1</td>\n",
       "      <td>0</td>\n",
       "      <td>1</td>\n",
       "      <td>0</td>\n",
       "      <td>1</td>\n",
       "      <td>0</td>\n",
       "      <td>...</td>\n",
       "      <td>5.460000</td>\n",
       "      <td>5.460000</td>\n",
       "      <td>0.000000</td>\n",
       "      <td>0.000000</td>\n",
       "      <td>13.360000</td>\n",
       "      <td>0.000000</td>\n",
       "      <td>10.320000</td>\n",
       "      <td>0.000000</td>\n",
       "      <td>0.000000</td>\n",
       "      <td>10.280000</td>\n",
       "    </tr>\n",
       "    <tr>\n",
       "      <th>...</th>\n",
       "      <td>...</td>\n",
       "      <td>...</td>\n",
       "      <td>...</td>\n",
       "      <td>...</td>\n",
       "      <td>...</td>\n",
       "      <td>...</td>\n",
       "      <td>...</td>\n",
       "      <td>...</td>\n",
       "      <td>...</td>\n",
       "      <td>...</td>\n",
       "      <td>...</td>\n",
       "      <td>...</td>\n",
       "      <td>...</td>\n",
       "      <td>...</td>\n",
       "      <td>...</td>\n",
       "      <td>...</td>\n",
       "      <td>...</td>\n",
       "      <td>...</td>\n",
       "      <td>...</td>\n",
       "      <td>...</td>\n",
       "      <td>...</td>\n",
       "    </tr>\n",
       "    <tr>\n",
       "      <th>643685</th>\n",
       "      <td>1827860</td>\n",
       "      <td>2013</td>\n",
       "      <td>1</td>\n",
       "      <td>0</td>\n",
       "      <td>0</td>\n",
       "      <td>0</td>\n",
       "      <td>1</td>\n",
       "      <td>0</td>\n",
       "      <td>0</td>\n",
       "      <td>1</td>\n",
       "      <td>...</td>\n",
       "      <td>0.000000</td>\n",
       "      <td>0.000000</td>\n",
       "      <td>0.000000</td>\n",
       "      <td>0.000000</td>\n",
       "      <td>0.612903</td>\n",
       "      <td>0.000000</td>\n",
       "      <td>0.000000</td>\n",
       "      <td>0.000000</td>\n",
       "      <td>0.000000</td>\n",
       "      <td>0.000000</td>\n",
       "    </tr>\n",
       "    <tr>\n",
       "      <th>643686</th>\n",
       "      <td>1827860</td>\n",
       "      <td>2015</td>\n",
       "      <td>2</td>\n",
       "      <td>1</td>\n",
       "      <td>0</td>\n",
       "      <td>0</td>\n",
       "      <td>1</td>\n",
       "      <td>0</td>\n",
       "      <td>1</td>\n",
       "      <td>0</td>\n",
       "      <td>...</td>\n",
       "      <td>0.000000</td>\n",
       "      <td>0.000000</td>\n",
       "      <td>0.212121</td>\n",
       "      <td>0.212121</td>\n",
       "      <td>17.363636</td>\n",
       "      <td>0.000000</td>\n",
       "      <td>8.909091</td>\n",
       "      <td>0.000000</td>\n",
       "      <td>0.000000</td>\n",
       "      <td>7.121212</td>\n",
       "    </tr>\n",
       "    <tr>\n",
       "      <th>643687</th>\n",
       "      <td>1827860</td>\n",
       "      <td>2016</td>\n",
       "      <td>3</td>\n",
       "      <td>1</td>\n",
       "      <td>0</td>\n",
       "      <td>0</td>\n",
       "      <td>1</td>\n",
       "      <td>1</td>\n",
       "      <td>0</td>\n",
       "      <td>1</td>\n",
       "      <td>...</td>\n",
       "      <td>0.000000</td>\n",
       "      <td>0.000000</td>\n",
       "      <td>0.294118</td>\n",
       "      <td>0.205882</td>\n",
       "      <td>34.705882</td>\n",
       "      <td>0.000000</td>\n",
       "      <td>10.352941</td>\n",
       "      <td>1.705882</td>\n",
       "      <td>1.705882</td>\n",
       "      <td>23.911765</td>\n",
       "    </tr>\n",
       "    <tr>\n",
       "      <th>643688</th>\n",
       "      <td>1827869</td>\n",
       "      <td>2013</td>\n",
       "      <td>1</td>\n",
       "      <td>1</td>\n",
       "      <td>1</td>\n",
       "      <td>0</td>\n",
       "      <td>0</td>\n",
       "      <td>0</td>\n",
       "      <td>1</td>\n",
       "      <td>0</td>\n",
       "      <td>...</td>\n",
       "      <td>0.000000</td>\n",
       "      <td>0.000000</td>\n",
       "      <td>0.000000</td>\n",
       "      <td>0.000000</td>\n",
       "      <td>0.000000</td>\n",
       "      <td>0.525424</td>\n",
       "      <td>0.000000</td>\n",
       "      <td>0.000000</td>\n",
       "      <td>0.000000</td>\n",
       "      <td>0.000000</td>\n",
       "    </tr>\n",
       "    <tr>\n",
       "      <th>643689</th>\n",
       "      <td>1827869</td>\n",
       "      <td>2014</td>\n",
       "      <td>2</td>\n",
       "      <td>0</td>\n",
       "      <td>0</td>\n",
       "      <td>1</td>\n",
       "      <td>0</td>\n",
       "      <td>0</td>\n",
       "      <td>1</td>\n",
       "      <td>0</td>\n",
       "      <td>...</td>\n",
       "      <td>0.000000</td>\n",
       "      <td>0.666667</td>\n",
       "      <td>0.666667</td>\n",
       "      <td>0.000000</td>\n",
       "      <td>0.000000</td>\n",
       "      <td>8.950000</td>\n",
       "      <td>1.033333</td>\n",
       "      <td>0.083333</td>\n",
       "      <td>0.083333</td>\n",
       "      <td>8.133333</td>\n",
       "    </tr>\n",
       "  </tbody>\n",
       "</table>\n",
       "<p>643690 rows × 164 columns</p>\n",
       "</div>"
      ],
      "text/plain": [
       "         persnr  year  nrEntry  ltue  employed_before  receipt_leh_before  \\\n",
       "0             7  2015        1     0                1                   0   \n",
       "1            18  2010        1     1                0                   0   \n",
       "2            18  2011        2     0                1                   0   \n",
       "3            18  2012        3     0                1                   0   \n",
       "4            18  2012        4     0                1                   0   \n",
       "...         ...   ...      ...   ...              ...                 ...   \n",
       "643685  1827860  2013        1     0                0                   0   \n",
       "643686  1827860  2015        2     1                0                   0   \n",
       "643687  1827860  2016        3     1                0                   0   \n",
       "643688  1827869  2013        1     1                1                   0   \n",
       "643689  1827869  2014        2     0                0                   1   \n",
       "\n",
       "        receipt_lhg_before  se_before  ASU_notue_seeking_before  \\\n",
       "0                        0          0                         1   \n",
       "1                        0          0                         0   \n",
       "2                        1          0                         1   \n",
       "3                        1          0                         1   \n",
       "4                        1          0                         1   \n",
       "...                    ...        ...                       ...   \n",
       "643685                   1          0                         0   \n",
       "643686                   1          0                         1   \n",
       "643687                   1          1                         0   \n",
       "643688                   0          0                         1   \n",
       "643689                   0          0                         1   \n",
       "\n",
       "        ASU_other_before  ...  minijob_tot_dur_byage  ft_tot_dur_byage  \\\n",
       "0                      0  ...               0.000000          0.000000   \n",
       "1                      0  ...               0.000000          0.000000   \n",
       "2                      0  ...               2.714286          2.714286   \n",
       "3                      0  ...               4.200000          4.200000   \n",
       "4                      0  ...               5.460000          5.460000   \n",
       "...                  ...  ...                    ...               ...   \n",
       "643685                 1  ...               0.000000          0.000000   \n",
       "643686                 0  ...               0.000000          0.000000   \n",
       "643687                 1  ...               0.000000          0.000000   \n",
       "643688                 0  ...               0.000000          0.000000   \n",
       "643689                 0  ...               0.000000          0.666667   \n",
       "\n",
       "        befrist_tot_dur_byage  leih_tot_dur_byage  LHG_tot_dur_byage  \\\n",
       "0                   15.043478            0.000000           0.000000   \n",
       "1                    0.000000            0.000000           0.000000   \n",
       "2                    0.000000            0.000000          10.775510   \n",
       "3                    0.000000            0.000000          12.100000   \n",
       "4                    0.000000            0.000000          13.360000   \n",
       "...                       ...                 ...                ...   \n",
       "643685               0.000000            0.000000           0.612903   \n",
       "643686               0.212121            0.212121          17.363636   \n",
       "643687               0.294118            0.205882          34.705882   \n",
       "643688               0.000000            0.000000           0.000000   \n",
       "643689               0.666667            0.000000           0.000000   \n",
       "\n",
       "        LEH_tot_dur_byage  almp_tot_dur_byage  almp_aw_tot_dur_byage  \\\n",
       "0                0.000000            0.000000               0.000000   \n",
       "1                0.000000            0.000000               0.000000   \n",
       "2                0.000000            8.367347               0.000000   \n",
       "3                0.000000            9.400000               0.000000   \n",
       "4                0.000000           10.320000               0.000000   \n",
       "...                   ...                 ...                    ...   \n",
       "643685           0.000000            0.000000               0.000000   \n",
       "643686           0.000000            8.909091               0.000000   \n",
       "643687           0.000000           10.352941               1.705882   \n",
       "643688           0.525424            0.000000               0.000000   \n",
       "643689           8.950000            1.033333               0.083333   \n",
       "\n",
       "        se_tot_dur_byage  seeking1_tot_dur_byage  \n",
       "0               0.000000                0.000000  \n",
       "1               0.000000                0.000000  \n",
       "2               0.000000                9.836735  \n",
       "3               0.000000                9.960000  \n",
       "4               0.000000               10.280000  \n",
       "...                  ...                     ...  \n",
       "643685          0.000000                0.000000  \n",
       "643686          0.000000                7.121212  \n",
       "643687          1.705882               23.911765  \n",
       "643688          0.000000                0.000000  \n",
       "643689          0.083333                8.133333  \n",
       "\n",
       "[643690 rows x 164 columns]"
      ]
     },
     "execution_count": 10,
     "metadata": {},
     "output_type": "execute_result"
    }
   ],
   "source": [
    "siab"
   ]
  },
  {
   "cell_type": "markdown",
   "id": "1f87e805",
   "metadata": {
    "papermill": {
     "duration": 0.015406,
     "end_time": "2025-08-19T18:42:43.005199",
     "exception": false,
     "start_time": "2025-08-19T18:42:42.989793",
     "status": "completed"
    },
    "tags": []
   },
   "source": [
    "# Splitting Data and Setting Training Data Size"
   ]
  },
  {
   "cell_type": "code",
   "execution_count": 11,
   "id": "910ae358",
   "metadata": {
    "execution": {
     "iopub.execute_input": "2025-08-19T18:42:43.047797Z",
     "iopub.status.busy": "2025-08-19T18:42:43.046620Z",
     "iopub.status.idle": "2025-08-19T18:42:44.257495Z",
     "shell.execute_reply": "2025-08-19T18:42:44.255955Z"
    },
    "papermill": {
     "duration": 1.228531,
     "end_time": "2025-08-19T18:42:44.259457",
     "exception": false,
     "start_time": "2025-08-19T18:42:43.030926",
     "status": "completed"
    },
    "tags": []
   },
   "outputs": [],
   "source": [
    "from fairness_multiverse.universe import sample_by_year_size\n",
    "\n",
    "siab_train = sample_by_year_size(siab,\n",
    "                               training_year=universe[\"training_year\"],\n",
    "                               training_size=universe[\"training_size\"])"
   ]
  },
  {
   "cell_type": "code",
   "execution_count": 12,
   "id": "919c8ff5",
   "metadata": {
    "execution": {
     "iopub.execute_input": "2025-08-19T18:42:44.284751Z",
     "iopub.status.busy": "2025-08-19T18:42:44.283447Z",
     "iopub.status.idle": "2025-08-19T18:42:44.298294Z",
     "shell.execute_reply": "2025-08-19T18:42:44.296543Z"
    },
    "papermill": {
     "duration": 0.033801,
     "end_time": "2025-08-19T18:42:44.303562",
     "exception": false,
     "start_time": "2025-08-19T18:42:44.269761",
     "status": "completed"
    },
    "tags": []
   },
   "outputs": [
    {
     "data": {
      "text/plain": [
       "(5000, 164)"
      ]
     },
     "execution_count": 12,
     "metadata": {},
     "output_type": "execute_result"
    }
   ],
   "source": [
    "siab_train.shape"
   ]
  },
  {
   "cell_type": "code",
   "execution_count": 13,
   "id": "feb13bf4",
   "metadata": {
    "execution": {
     "iopub.execute_input": "2025-08-19T18:42:44.335282Z",
     "iopub.status.busy": "2025-08-19T18:42:44.333866Z",
     "iopub.status.idle": "2025-08-19T18:42:44.351064Z",
     "shell.execute_reply": "2025-08-19T18:42:44.349915Z"
    },
    "papermill": {
     "duration": 0.032104,
     "end_time": "2025-08-19T18:42:44.352999",
     "exception": false,
     "start_time": "2025-08-19T18:42:44.320895",
     "status": "completed"
    },
    "tags": []
   },
   "outputs": [
    {
     "data": {
      "text/plain": [
       "year\n",
       "2010    1000\n",
       "2011    1000\n",
       "2012    1000\n",
       "2013    1000\n",
       "2014    1000\n",
       "dtype: int64"
      ]
     },
     "metadata": {},
     "output_type": "display_data"
    }
   ],
   "source": [
    "display(siab_train.groupby(\"year\").size())"
   ]
  },
  {
   "cell_type": "code",
   "execution_count": 14,
   "id": "0997782f",
   "metadata": {
    "execution": {
     "iopub.execute_input": "2025-08-19T18:42:44.382752Z",
     "iopub.status.busy": "2025-08-19T18:42:44.381440Z",
     "iopub.status.idle": "2025-08-19T18:42:44.698806Z",
     "shell.execute_reply": "2025-08-19T18:42:44.696612Z"
    },
    "papermill": {
     "duration": 0.334559,
     "end_time": "2025-08-19T18:42:44.702857",
     "exception": false,
     "start_time": "2025-08-19T18:42:44.368298",
     "status": "completed"
    },
    "tags": []
   },
   "outputs": [],
   "source": [
    "#siab_train = siab_s[siab_s.year < 2015]\n",
    "siab_calib = siab[siab.year == 2015]\n",
    "siab_test = siab[siab.year == 2016]"
   ]
  },
  {
   "cell_type": "code",
   "execution_count": 15,
   "id": "2c1e4012",
   "metadata": {
    "execution": {
     "iopub.execute_input": "2025-08-19T18:42:44.750704Z",
     "iopub.status.busy": "2025-08-19T18:42:44.749375Z",
     "iopub.status.idle": "2025-08-19T18:42:44.757097Z",
     "shell.execute_reply": "2025-08-19T18:42:44.755792Z"
    },
    "papermill": {
     "duration": 0.027661,
     "end_time": "2025-08-19T18:42:44.758769",
     "exception": false,
     "start_time": "2025-08-19T18:42:44.731108",
     "status": "completed"
    },
    "tags": []
   },
   "outputs": [],
   "source": [
    "#siab_calib.shape"
   ]
  },
  {
   "cell_type": "code",
   "execution_count": 16,
   "id": "f66b54ca",
   "metadata": {
    "execution": {
     "iopub.execute_input": "2025-08-19T18:42:44.783680Z",
     "iopub.status.busy": "2025-08-19T18:42:44.781946Z",
     "iopub.status.idle": "2025-08-19T18:42:44.789459Z",
     "shell.execute_reply": "2025-08-19T18:42:44.788148Z"
    },
    "papermill": {
     "duration": 0.021079,
     "end_time": "2025-08-19T18:42:44.791134",
     "exception": false,
     "start_time": "2025-08-19T18:42:44.770055",
     "status": "completed"
    },
    "tags": []
   },
   "outputs": [],
   "source": [
    "#siab_test.shape"
   ]
  },
  {
   "cell_type": "code",
   "execution_count": 17,
   "id": "27e4384d",
   "metadata": {
    "execution": {
     "iopub.execute_input": "2025-08-19T18:42:44.814965Z",
     "iopub.status.busy": "2025-08-19T18:42:44.813830Z",
     "iopub.status.idle": "2025-08-19T18:42:44.837582Z",
     "shell.execute_reply": "2025-08-19T18:42:44.835652Z"
    },
    "papermill": {
     "duration": 0.039196,
     "end_time": "2025-08-19T18:42:44.841292",
     "exception": false,
     "start_time": "2025-08-19T18:42:44.802096",
     "status": "completed"
    },
    "tags": []
   },
   "outputs": [],
   "source": [
    "X_train = siab_train.iloc[:,4:164]\n",
    "y_train = siab_train.iloc[:, [3]]"
   ]
  },
  {
   "cell_type": "code",
   "execution_count": 18,
   "id": "08ee8389",
   "metadata": {
    "execution": {
     "iopub.execute_input": "2025-08-19T18:42:44.878101Z",
     "iopub.status.busy": "2025-08-19T18:42:44.876779Z",
     "iopub.status.idle": "2025-08-19T18:42:45.003125Z",
     "shell.execute_reply": "2025-08-19T18:42:45.001650Z"
    },
    "papermill": {
     "duration": 0.14336,
     "end_time": "2025-08-19T18:42:45.006812",
     "exception": false,
     "start_time": "2025-08-19T18:42:44.863452",
     "status": "completed"
    },
    "tags": []
   },
   "outputs": [],
   "source": [
    "X_calib = siab_calib.iloc[:,4:164]\n",
    "y_calib = siab_calib.iloc[:, [3]]"
   ]
  },
  {
   "cell_type": "code",
   "execution_count": 19,
   "id": "b7ff42e0",
   "metadata": {
    "execution": {
     "iopub.execute_input": "2025-08-19T18:42:45.041087Z",
     "iopub.status.busy": "2025-08-19T18:42:45.040450Z",
     "iopub.status.idle": "2025-08-19T18:42:45.112509Z",
     "shell.execute_reply": "2025-08-19T18:42:45.111026Z"
    },
    "papermill": {
     "duration": 0.090043,
     "end_time": "2025-08-19T18:42:45.117586",
     "exception": false,
     "start_time": "2025-08-19T18:42:45.027543",
     "status": "completed"
    },
    "tags": []
   },
   "outputs": [],
   "source": [
    "X_test = siab_test.iloc[:,4:164]\n",
    "y_true = siab_test.iloc[:, [3]]"
   ]
  },
  {
   "cell_type": "code",
   "execution_count": 20,
   "id": "0275101e",
   "metadata": {
    "execution": {
     "iopub.execute_input": "2025-08-19T18:42:45.151773Z",
     "iopub.status.busy": "2025-08-19T18:42:45.150890Z",
     "iopub.status.idle": "2025-08-19T18:42:45.279738Z",
     "shell.execute_reply": "2025-08-19T18:42:45.279069Z"
    },
    "papermill": {
     "duration": 0.144115,
     "end_time": "2025-08-19T18:42:45.281868",
     "exception": false,
     "start_time": "2025-08-19T18:42:45.137753",
     "status": "completed"
    },
    "tags": []
   },
   "outputs": [],
   "source": [
    "# Auxiliary data needed downstream in the pipeline\n",
    "\n",
    "org_train = X_train.copy()\n",
    "org_test = X_test.copy()\n",
    "org_calib = X_calib.copy()"
   ]
  },
  {
   "cell_type": "markdown",
   "id": "b461e618",
   "metadata": {
    "papermill": {
     "duration": 0.020653,
     "end_time": "2025-08-19T18:42:45.337482",
     "exception": false,
     "start_time": "2025-08-19T18:42:45.316829",
     "status": "completed"
    },
    "tags": []
   },
   "source": [
    "# Preprocessing Data"
   ]
  },
  {
   "cell_type": "code",
   "execution_count": 21,
   "id": "78e74c4b",
   "metadata": {
    "execution": {
     "iopub.execute_input": "2025-08-19T18:42:45.360844Z",
     "iopub.status.busy": "2025-08-19T18:42:45.359792Z",
     "iopub.status.idle": "2025-08-19T18:42:45.369733Z",
     "shell.execute_reply": "2025-08-19T18:42:45.368073Z"
    },
    "papermill": {
     "duration": 0.023407,
     "end_time": "2025-08-19T18:42:45.371309",
     "exception": false,
     "start_time": "2025-08-19T18:42:45.347902",
     "status": "completed"
    },
    "tags": []
   },
   "outputs": [],
   "source": [
    "# EXCLUDE PROTECTED FEATURES\n",
    "# --------------------------\n",
    "\n",
    "excluded_features = universe[\"exclude_features\"].split(\"-\")\n",
    "excluded_features_dictionary = {\n",
    "    \"nationality\": [\"maxdeutsch1\", \"maxdeutsch.Missing.\"],\n",
    "    \"sex\": [\"frau1\"],\n",
    "    \"age\": [\"age\"],\n",
    "}"
   ]
  },
  {
   "cell_type": "code",
   "execution_count": 22,
   "id": "f8e63555",
   "metadata": {
    "execution": {
     "iopub.execute_input": "2025-08-19T18:42:45.398351Z",
     "iopub.status.busy": "2025-08-19T18:42:45.397220Z",
     "iopub.status.idle": "2025-08-19T18:42:45.406384Z",
     "shell.execute_reply": "2025-08-19T18:42:45.404945Z"
    },
    "papermill": {
     "duration": 0.023315,
     "end_time": "2025-08-19T18:42:45.408108",
     "exception": false,
     "start_time": "2025-08-19T18:42:45.384793",
     "status": "completed"
    },
    "tags": []
   },
   "outputs": [],
   "source": [
    "excluded_features_columns = [\n",
    "    excluded_features_dictionary[f] for f in excluded_features if len(f) > 0 and f != \"none\"\n",
    "]"
   ]
  },
  {
   "cell_type": "code",
   "execution_count": 23,
   "id": "da781f7c",
   "metadata": {
    "execution": {
     "iopub.execute_input": "2025-08-19T18:42:45.435906Z",
     "iopub.status.busy": "2025-08-19T18:42:45.434748Z",
     "iopub.status.idle": "2025-08-19T18:42:45.443430Z",
     "shell.execute_reply": "2025-08-19T18:42:45.441810Z"
    },
    "papermill": {
     "duration": 0.022642,
     "end_time": "2025-08-19T18:42:45.445086",
     "exception": false,
     "start_time": "2025-08-19T18:42:45.422444",
     "status": "completed"
    },
    "tags": []
   },
   "outputs": [],
   "source": [
    "from fairness_multiverse.universe import flatten_once\n",
    "\n",
    "excluded_features_columns = flatten_once(excluded_features_columns)"
   ]
  },
  {
   "cell_type": "code",
   "execution_count": 24,
   "id": "37fef0f0",
   "metadata": {
    "execution": {
     "iopub.execute_input": "2025-08-19T18:42:45.472394Z",
     "iopub.status.busy": "2025-08-19T18:42:45.471240Z",
     "iopub.status.idle": "2025-08-19T18:42:45.492901Z",
     "shell.execute_reply": "2025-08-19T18:42:45.491807Z"
    },
    "papermill": {
     "duration": 0.035826,
     "end_time": "2025-08-19T18:42:45.494303",
     "exception": false,
     "start_time": "2025-08-19T18:42:45.458477",
     "status": "completed"
    },
    "tags": []
   },
   "outputs": [
    {
     "name": "stdout",
     "output_type": "stream",
     "text": [
      "Dropping features: ['age']\n"
     ]
    }
   ],
   "source": [
    "if len(excluded_features_columns) > 0:\n",
    "    print(f\"Dropping features: {excluded_features_columns}\")\n",
    "    X_train.drop(excluded_features_columns, axis=1, inplace=True)"
   ]
  },
  {
   "cell_type": "code",
   "execution_count": 25,
   "id": "d029e3e9",
   "metadata": {
    "execution": {
     "iopub.execute_input": "2025-08-19T18:42:45.525792Z",
     "iopub.status.busy": "2025-08-19T18:42:45.524551Z",
     "iopub.status.idle": "2025-08-19T18:42:45.590465Z",
     "shell.execute_reply": "2025-08-19T18:42:45.589774Z"
    },
    "papermill": {
     "duration": 0.081222,
     "end_time": "2025-08-19T18:42:45.592875",
     "exception": false,
     "start_time": "2025-08-19T18:42:45.511653",
     "status": "completed"
    },
    "tags": []
   },
   "outputs": [
    {
     "name": "stdout",
     "output_type": "stream",
     "text": [
      "Dropping features: ['age']\n"
     ]
    }
   ],
   "source": [
    "if len(excluded_features_columns) > 0:\n",
    "    print(f\"Dropping features: {excluded_features_columns}\")\n",
    "    X_test.drop(excluded_features_columns, axis=1, inplace=True)"
   ]
  },
  {
   "cell_type": "code",
   "execution_count": 26,
   "id": "01d571f0",
   "metadata": {
    "execution": {
     "iopub.execute_input": "2025-08-19T18:42:45.633860Z",
     "iopub.status.busy": "2025-08-19T18:42:45.632687Z",
     "iopub.status.idle": "2025-08-19T18:42:45.688685Z",
     "shell.execute_reply": "2025-08-19T18:42:45.687996Z"
    },
    "papermill": {
     "duration": 0.073146,
     "end_time": "2025-08-19T18:42:45.691242",
     "exception": false,
     "start_time": "2025-08-19T18:42:45.618096",
     "status": "completed"
    },
    "tags": []
   },
   "outputs": [
    {
     "name": "stdout",
     "output_type": "stream",
     "text": [
      "Dropping features: ['age']\n"
     ]
    }
   ],
   "source": [
    "if len(excluded_features_columns) > 0:\n",
    "    print(f\"Dropping features: {excluded_features_columns}\")\n",
    "    X_calib.drop(excluded_features_columns, axis=1, inplace=True)"
   ]
  },
  {
   "cell_type": "code",
   "execution_count": 27,
   "id": "3037356e",
   "metadata": {
    "execution": {
     "iopub.execute_input": "2025-08-19T18:42:45.732085Z",
     "iopub.status.busy": "2025-08-19T18:42:45.730601Z",
     "iopub.status.idle": "2025-08-19T18:42:45.739275Z",
     "shell.execute_reply": "2025-08-19T18:42:45.737762Z"
    },
    "papermill": {
     "duration": 0.024331,
     "end_time": "2025-08-19T18:42:45.740853",
     "exception": false,
     "start_time": "2025-08-19T18:42:45.716522",
     "status": "completed"
    },
    "tags": []
   },
   "outputs": [],
   "source": [
    "# EXCLUDE CERTAIN SUBGROUPS\n",
    "# -------------------------\n",
    "\n",
    "mode = universe.get(\"exclude_subgroups\", \"keep-all\") # Defaults to \"keep-all\" if the key is missing."
   ]
  },
  {
   "cell_type": "code",
   "execution_count": 28,
   "id": "9d1e63fd",
   "metadata": {
    "execution": {
     "iopub.execute_input": "2025-08-19T18:42:45.769321Z",
     "iopub.status.busy": "2025-08-19T18:42:45.768120Z",
     "iopub.status.idle": "2025-08-19T18:42:45.780058Z",
     "shell.execute_reply": "2025-08-19T18:42:45.778808Z"
    },
    "papermill": {
     "duration": 0.026618,
     "end_time": "2025-08-19T18:42:45.781598",
     "exception": false,
     "start_time": "2025-08-19T18:42:45.754980",
     "status": "completed"
    },
    "tags": []
   },
   "outputs": [],
   "source": [
    "if mode == \"keep-all\":\n",
    "    keep_mask = pd.Series(True, index=org_train.index)\n",
    "\n",
    "elif mode == \"drop-non-german\":\n",
    "    keep_mask = (org_train[\"maxdeutsch1\"] == 1) & (org_train[\"maxdeutsch.Missing.\"] == 0)\n",
    "\n",
    "else:\n",
    "    raise ValueError(f\"Unsupported mode for exclude_subgroups: {mode}\")"
   ]
  },
  {
   "cell_type": "code",
   "execution_count": 29,
   "id": "d3b65474",
   "metadata": {
    "execution": {
     "iopub.execute_input": "2025-08-19T18:42:45.810522Z",
     "iopub.status.busy": "2025-08-19T18:42:45.809096Z",
     "iopub.status.idle": "2025-08-19T18:42:45.820964Z",
     "shell.execute_reply": "2025-08-19T18:42:45.819753Z"
    },
    "papermill": {
     "duration": 0.025998,
     "end_time": "2025-08-19T18:42:45.822384",
     "exception": false,
     "start_time": "2025-08-19T18:42:45.796386",
     "status": "completed"
    },
    "tags": []
   },
   "outputs": [
    {
     "name": "stdout",
     "output_type": "stream",
     "text": [
      "Dropping 657 rows (13.14%) where mode='drop-non-german'\n"
     ]
    }
   ],
   "source": [
    "n_drop = (~keep_mask).sum() # Calculates how many rows are set to be dropped\n",
    "if n_drop > 0:\n",
    "    pct = n_drop / len(keep_mask) * 100\n",
    "    print(f\"Dropping {n_drop} rows ({pct:.2f}%) where mode='{mode}'\")"
   ]
  },
  {
   "cell_type": "code",
   "execution_count": 30,
   "id": "f44389b3",
   "metadata": {
    "execution": {
     "iopub.execute_input": "2025-08-19T18:42:45.850897Z",
     "iopub.status.busy": "2025-08-19T18:42:45.849909Z",
     "iopub.status.idle": "2025-08-19T18:42:45.866534Z",
     "shell.execute_reply": "2025-08-19T18:42:45.865375Z"
    },
    "papermill": {
     "duration": 0.030626,
     "end_time": "2025-08-19T18:42:45.868096",
     "exception": false,
     "start_time": "2025-08-19T18:42:45.837470",
     "status": "completed"
    },
    "tags": []
   },
   "outputs": [],
   "source": [
    "X_train = X_train[keep_mask]"
   ]
  },
  {
   "cell_type": "code",
   "execution_count": 31,
   "id": "ceca8c2a",
   "metadata": {
    "execution": {
     "iopub.execute_input": "2025-08-19T18:42:45.900122Z",
     "iopub.status.busy": "2025-08-19T18:42:45.899110Z",
     "iopub.status.idle": "2025-08-19T18:42:45.908610Z",
     "shell.execute_reply": "2025-08-19T18:42:45.906994Z"
    },
    "papermill": {
     "duration": 0.024674,
     "end_time": "2025-08-19T18:42:45.910348",
     "exception": false,
     "start_time": "2025-08-19T18:42:45.885674",
     "status": "completed"
    },
    "tags": []
   },
   "outputs": [],
   "source": [
    "y_train = y_train[keep_mask]"
   ]
  },
  {
   "cell_type": "markdown",
   "id": "04d31e2f",
   "metadata": {
    "papermill": {
     "duration": 0.010903,
     "end_time": "2025-08-19T18:42:45.935136",
     "exception": false,
     "start_time": "2025-08-19T18:42:45.924233",
     "status": "completed"
    },
    "tags": []
   },
   "source": [
    "# Model Training"
   ]
  },
  {
   "cell_type": "code",
   "execution_count": 32,
   "id": "db991733",
   "metadata": {
    "execution": {
     "iopub.execute_input": "2025-08-19T18:42:45.960052Z",
     "iopub.status.busy": "2025-08-19T18:42:45.958985Z",
     "iopub.status.idle": "2025-08-19T18:42:46.070631Z",
     "shell.execute_reply": "2025-08-19T18:42:46.069966Z"
    },
    "papermill": {
     "duration": 0.126284,
     "end_time": "2025-08-19T18:42:46.072189",
     "exception": false,
     "start_time": "2025-08-19T18:42:45.945905",
     "status": "completed"
    },
    "tags": []
   },
   "outputs": [],
   "source": [
    "from sklearn.linear_model import LogisticRegression\n",
    "from sklearn.ensemble import GradientBoostingClassifier, RandomForestClassifier\n",
    "\n",
    "if (universe[\"model\"] == \"logreg\"):\n",
    "    model = LogisticRegression() #penalty=\"none\", solver=\"newton-cg\", max_iter=1)\n",
    "elif (universe[\"model\"] == \"penalized_logreg\"):\n",
    "    model = LogisticRegression(penalty=\"l2\", C=0.1) #, solver=\"newton-cg\", max_iter=1)\n",
    "elif (universe[\"model\"] == \"rf\"):\n",
    "    model = RandomForestClassifier() # n_estimators=100, n_jobs=-1\n",
    "elif (universe[\"model\"] == \"gbm\"):\n",
    "    model = GradientBoostingClassifier()\n",
    "elif (universe[\"model\"] == \"elasticnet\"):\n",
    "    model = LogisticRegression(penalty = 'elasticnet', solver = 'saga', l1_ratio = 0.5) # max_iter=5000\n",
    "else:\n",
    "    raise \"Unsupported universe.model\""
   ]
  },
  {
   "cell_type": "code",
   "execution_count": 33,
   "id": "a4b5cd25",
   "metadata": {
    "execution": {
     "iopub.execute_input": "2025-08-19T18:42:46.098099Z",
     "iopub.status.busy": "2025-08-19T18:42:46.097294Z",
     "iopub.status.idle": "2025-08-19T18:42:46.104393Z",
     "shell.execute_reply": "2025-08-19T18:42:46.103270Z"
    },
    "papermill": {
     "duration": 0.021812,
     "end_time": "2025-08-19T18:42:46.105922",
     "exception": false,
     "start_time": "2025-08-19T18:42:46.084110",
     "status": "completed"
    },
    "tags": []
   },
   "outputs": [],
   "source": [
    "from sklearn.pipeline import Pipeline\n",
    "from sklearn.preprocessing import StandardScaler\n",
    "\n",
    "model = Pipeline([\n",
    "    #(\"continuous_processor\", continuous_processor),\n",
    "    #(\"categorical_preprocessor\", categorical_preprocessor),\n",
    "    (\"scale\", StandardScaler() if universe[\"scale\"] == \"scale\" else None), \n",
    "    (\"model\", model),\n",
    "])"
   ]
  },
  {
   "cell_type": "code",
   "execution_count": 34,
   "id": "283a904d",
   "metadata": {
    "execution": {
     "iopub.execute_input": "2025-08-19T18:42:46.132813Z",
     "iopub.status.busy": "2025-08-19T18:42:46.131650Z",
     "iopub.status.idle": "2025-08-19T18:42:47.347694Z",
     "shell.execute_reply": "2025-08-19T18:42:47.343382Z"
    },
    "papermill": {
     "duration": 1.231321,
     "end_time": "2025-08-19T18:42:47.349730",
     "exception": false,
     "start_time": "2025-08-19T18:42:46.118409",
     "status": "completed"
    },
    "tags": []
   },
   "outputs": [
    {
     "data": {
      "text/html": [
       "<style>#sk-container-id-1 {color: black;background-color: white;}#sk-container-id-1 pre{padding: 0;}#sk-container-id-1 div.sk-toggleable {background-color: white;}#sk-container-id-1 label.sk-toggleable__label {cursor: pointer;display: block;width: 100%;margin-bottom: 0;padding: 0.3em;box-sizing: border-box;text-align: center;}#sk-container-id-1 label.sk-toggleable__label-arrow:before {content: \"▸\";float: left;margin-right: 0.25em;color: #696969;}#sk-container-id-1 label.sk-toggleable__label-arrow:hover:before {color: black;}#sk-container-id-1 div.sk-estimator:hover label.sk-toggleable__label-arrow:before {color: black;}#sk-container-id-1 div.sk-toggleable__content {max-height: 0;max-width: 0;overflow: hidden;text-align: left;background-color: #f0f8ff;}#sk-container-id-1 div.sk-toggleable__content pre {margin: 0.2em;color: black;border-radius: 0.25em;background-color: #f0f8ff;}#sk-container-id-1 input.sk-toggleable__control:checked~div.sk-toggleable__content {max-height: 200px;max-width: 100%;overflow: auto;}#sk-container-id-1 input.sk-toggleable__control:checked~label.sk-toggleable__label-arrow:before {content: \"▾\";}#sk-container-id-1 div.sk-estimator input.sk-toggleable__control:checked~label.sk-toggleable__label {background-color: #d4ebff;}#sk-container-id-1 div.sk-label input.sk-toggleable__control:checked~label.sk-toggleable__label {background-color: #d4ebff;}#sk-container-id-1 input.sk-hidden--visually {border: 0;clip: rect(1px 1px 1px 1px);clip: rect(1px, 1px, 1px, 1px);height: 1px;margin: -1px;overflow: hidden;padding: 0;position: absolute;width: 1px;}#sk-container-id-1 div.sk-estimator {font-family: monospace;background-color: #f0f8ff;border: 1px dotted black;border-radius: 0.25em;box-sizing: border-box;margin-bottom: 0.5em;}#sk-container-id-1 div.sk-estimator:hover {background-color: #d4ebff;}#sk-container-id-1 div.sk-parallel-item::after {content: \"\";width: 100%;border-bottom: 1px solid gray;flex-grow: 1;}#sk-container-id-1 div.sk-label:hover label.sk-toggleable__label {background-color: #d4ebff;}#sk-container-id-1 div.sk-serial::before {content: \"\";position: absolute;border-left: 1px solid gray;box-sizing: border-box;top: 0;bottom: 0;left: 50%;z-index: 0;}#sk-container-id-1 div.sk-serial {display: flex;flex-direction: column;align-items: center;background-color: white;padding-right: 0.2em;padding-left: 0.2em;position: relative;}#sk-container-id-1 div.sk-item {position: relative;z-index: 1;}#sk-container-id-1 div.sk-parallel {display: flex;align-items: stretch;justify-content: center;background-color: white;position: relative;}#sk-container-id-1 div.sk-item::before, #sk-container-id-1 div.sk-parallel-item::before {content: \"\";position: absolute;border-left: 1px solid gray;box-sizing: border-box;top: 0;bottom: 0;left: 50%;z-index: -1;}#sk-container-id-1 div.sk-parallel-item {display: flex;flex-direction: column;z-index: 1;position: relative;background-color: white;}#sk-container-id-1 div.sk-parallel-item:first-child::after {align-self: flex-end;width: 50%;}#sk-container-id-1 div.sk-parallel-item:last-child::after {align-self: flex-start;width: 50%;}#sk-container-id-1 div.sk-parallel-item:only-child::after {width: 0;}#sk-container-id-1 div.sk-dashed-wrapped {border: 1px dashed gray;margin: 0 0.4em 0.5em 0.4em;box-sizing: border-box;padding-bottom: 0.4em;background-color: white;}#sk-container-id-1 div.sk-label label {font-family: monospace;font-weight: bold;display: inline-block;line-height: 1.2em;}#sk-container-id-1 div.sk-label-container {text-align: center;}#sk-container-id-1 div.sk-container {/* jupyter's `normalize.less` sets `[hidden] { display: none; }` but bootstrap.min.css set `[hidden] { display: none !important; }` so we also need the `!important` here to be able to override the default hidden behavior on the sphinx rendered scikit-learn.org. See: https://github.com/scikit-learn/scikit-learn/issues/21755 */display: inline-block !important;position: relative;}#sk-container-id-1 div.sk-text-repr-fallback {display: none;}</style><div id=\"sk-container-id-1\" class=\"sk-top-container\"><div class=\"sk-text-repr-fallback\"><pre>Pipeline(steps=[(&#x27;scale&#x27;, StandardScaler()),\n",
       "                (&#x27;model&#x27;, RandomForestClassifier())])</pre><b>In a Jupyter environment, please rerun this cell to show the HTML representation or trust the notebook. <br />On GitHub, the HTML representation is unable to render, please try loading this page with nbviewer.org.</b></div><div class=\"sk-container\" hidden><div class=\"sk-item sk-dashed-wrapped\"><div class=\"sk-label-container\"><div class=\"sk-label sk-toggleable\"><input class=\"sk-toggleable__control sk-hidden--visually\" id=\"sk-estimator-id-1\" type=\"checkbox\" ><label for=\"sk-estimator-id-1\" class=\"sk-toggleable__label sk-toggleable__label-arrow\">Pipeline</label><div class=\"sk-toggleable__content\"><pre>Pipeline(steps=[(&#x27;scale&#x27;, StandardScaler()),\n",
       "                (&#x27;model&#x27;, RandomForestClassifier())])</pre></div></div></div><div class=\"sk-serial\"><div class=\"sk-item\"><div class=\"sk-estimator sk-toggleable\"><input class=\"sk-toggleable__control sk-hidden--visually\" id=\"sk-estimator-id-2\" type=\"checkbox\" ><label for=\"sk-estimator-id-2\" class=\"sk-toggleable__label sk-toggleable__label-arrow\">StandardScaler</label><div class=\"sk-toggleable__content\"><pre>StandardScaler()</pre></div></div></div><div class=\"sk-item\"><div class=\"sk-estimator sk-toggleable\"><input class=\"sk-toggleable__control sk-hidden--visually\" id=\"sk-estimator-id-3\" type=\"checkbox\" ><label for=\"sk-estimator-id-3\" class=\"sk-toggleable__label sk-toggleable__label-arrow\">RandomForestClassifier</label><div class=\"sk-toggleable__content\"><pre>RandomForestClassifier()</pre></div></div></div></div></div></div></div>"
      ],
      "text/plain": [
       "Pipeline(steps=[('scale', StandardScaler()),\n",
       "                ('model', RandomForestClassifier())])"
      ]
     },
     "execution_count": 34,
     "metadata": {},
     "output_type": "execute_result"
    }
   ],
   "source": [
    "model.fit(X_train, y_train.values.ravel())"
   ]
  },
  {
   "cell_type": "code",
   "execution_count": 35,
   "id": "6e15e313",
   "metadata": {
    "execution": {
     "iopub.execute_input": "2025-08-19T18:42:47.378689Z",
     "iopub.status.busy": "2025-08-19T18:42:47.377190Z",
     "iopub.status.idle": "2025-08-19T18:42:49.508055Z",
     "shell.execute_reply": "2025-08-19T18:42:49.506590Z"
    },
    "papermill": {
     "duration": 2.146968,
     "end_time": "2025-08-19T18:42:49.509768",
     "exception": false,
     "start_time": "2025-08-19T18:42:47.362800",
     "status": "completed"
    },
    "tags": []
   },
   "outputs": [
    {
     "data": {
      "text/plain": [
       "0.8646081819195185"
      ]
     },
     "execution_count": 35,
     "metadata": {},
     "output_type": "execute_result"
    }
   ],
   "source": [
    "from fairness_multiverse.universe import predict_w_threshold\n",
    "\n",
    "probs_test = model.predict_proba(X_test)\n",
    "\n",
    "'''\n",
    "Below code returns a boolean array (or binary 0/1 array depending on how it’s used) where each element \n",
    "is True if the probability of class 1 is greater than or equal to the threshold, and False otherwise.\n",
    "'''\n",
    "y_pred_default = predict_w_threshold(probs_test, 0.5)\n",
    "\n",
    "from sklearn.metrics import accuracy_score\n",
    "\n",
    "# Naive prediction\n",
    "accuracy_score(y_true = y_true, y_pred = y_pred_default)"
   ]
  },
  {
   "cell_type": "code",
   "execution_count": 36,
   "id": "6f14067c",
   "metadata": {
    "execution": {
     "iopub.execute_input": "2025-08-19T18:42:49.558494Z",
     "iopub.status.busy": "2025-08-19T18:42:49.557799Z",
     "iopub.status.idle": "2025-08-19T18:42:51.472609Z",
     "shell.execute_reply": "2025-08-19T18:42:51.470531Z"
    },
    "papermill": {
     "duration": 1.952584,
     "end_time": "2025-08-19T18:42:51.474353",
     "exception": false,
     "start_time": "2025-08-19T18:42:49.521769",
     "status": "completed"
    },
    "tags": []
   },
   "outputs": [
    {
     "data": {
      "text/plain": [
       "array([0, 0, 0, ..., 0, 0, 0])"
      ]
     },
     "execution_count": 36,
     "metadata": {},
     "output_type": "execute_result"
    }
   ],
   "source": [
    "model.predict(X_test)"
   ]
  },
  {
   "cell_type": "markdown",
   "id": "3759920c",
   "metadata": {
    "papermill": {
     "duration": 0.011353,
     "end_time": "2025-08-19T18:42:51.499288",
     "exception": false,
     "start_time": "2025-08-19T18:42:51.487935",
     "status": "completed"
    },
    "tags": []
   },
   "source": [
    "# Conformal Prediction"
   ]
  },
  {
   "cell_type": "code",
   "execution_count": 37,
   "id": "14b27f59",
   "metadata": {
    "execution": {
     "iopub.execute_input": "2025-08-19T18:42:51.527708Z",
     "iopub.status.busy": "2025-08-19T18:42:51.526107Z",
     "iopub.status.idle": "2025-08-19T18:42:51.537348Z",
     "shell.execute_reply": "2025-08-19T18:42:51.536143Z"
    },
    "papermill": {
     "duration": 0.027961,
     "end_time": "2025-08-19T18:42:51.538730",
     "exception": false,
     "start_time": "2025-08-19T18:42:51.510769",
     "status": "completed"
    },
    "tags": []
   },
   "outputs": [],
   "source": [
    "# Miscoverage level for conformal prediction (10% allowed error rate => 90% target coverage)\n",
    "alpha = 0.1"
   ]
  },
  {
   "cell_type": "code",
   "execution_count": 38,
   "id": "59102472",
   "metadata": {
    "execution": {
     "iopub.execute_input": "2025-08-19T18:42:51.563434Z",
     "iopub.status.busy": "2025-08-19T18:42:51.562421Z",
     "iopub.status.idle": "2025-08-19T18:42:53.369236Z",
     "shell.execute_reply": "2025-08-19T18:42:53.367987Z"
    },
    "papermill": {
     "duration": 1.821158,
     "end_time": "2025-08-19T18:42:53.371112",
     "exception": false,
     "start_time": "2025-08-19T18:42:51.549954",
     "status": "completed"
    },
    "tags": []
   },
   "outputs": [],
   "source": [
    "probs_calib = model.predict_proba(X_calib)"
   ]
  },
  {
   "cell_type": "code",
   "execution_count": 39,
   "id": "a792d4dd",
   "metadata": {
    "execution": {
     "iopub.execute_input": "2025-08-19T18:42:53.407026Z",
     "iopub.status.busy": "2025-08-19T18:42:53.406519Z",
     "iopub.status.idle": "2025-08-19T18:42:53.413245Z",
     "shell.execute_reply": "2025-08-19T18:42:53.412571Z"
    },
    "papermill": {
     "duration": 0.027078,
     "end_time": "2025-08-19T18:42:53.414534",
     "exception": false,
     "start_time": "2025-08-19T18:42:53.387456",
     "status": "completed"
    },
    "tags": []
   },
   "outputs": [],
   "source": [
    "y_calib = y_calib.values.ravel().astype(int)"
   ]
  },
  {
   "cell_type": "code",
   "execution_count": 40,
   "id": "650fd033",
   "metadata": {
    "execution": {
     "iopub.execute_input": "2025-08-19T18:42:53.438235Z",
     "iopub.status.busy": "2025-08-19T18:42:53.437892Z",
     "iopub.status.idle": "2025-08-19T18:42:53.445394Z",
     "shell.execute_reply": "2025-08-19T18:42:53.444687Z"
    },
    "papermill": {
     "duration": 0.020866,
     "end_time": "2025-08-19T18:42:53.446768",
     "exception": false,
     "start_time": "2025-08-19T18:42:53.425902",
     "status": "completed"
    },
    "tags": []
   },
   "outputs": [],
   "source": [
    "from fairness_multiverse.conformal import compute_nc_scores\n",
    "\n",
    "# Compute nonconformity scores on calibration set (1 - probability of true class)\n",
    "nc_scores = compute_nc_scores(probs_calib, y_calib)"
   ]
  },
  {
   "cell_type": "code",
   "execution_count": 41,
   "id": "28ada44c",
   "metadata": {
    "execution": {
     "iopub.execute_input": "2025-08-19T18:42:53.478033Z",
     "iopub.status.busy": "2025-08-19T18:42:53.477239Z",
     "iopub.status.idle": "2025-08-19T18:42:53.485907Z",
     "shell.execute_reply": "2025-08-19T18:42:53.484887Z"
    },
    "papermill": {
     "duration": 0.028276,
     "end_time": "2025-08-19T18:42:53.492421",
     "exception": false,
     "start_time": "2025-08-19T18:42:53.464145",
     "status": "completed"
    },
    "tags": []
   },
   "outputs": [],
   "source": [
    "from fairness_multiverse.conformal import find_threshold\n",
    "\n",
    "# Find conformal threshold q_hat for the given alpha (split conformal method)\n",
    "q_hat = find_threshold(nc_scores, alpha)"
   ]
  },
  {
   "cell_type": "code",
   "execution_count": 42,
   "id": "df56469e",
   "metadata": {
    "execution": {
     "iopub.execute_input": "2025-08-19T18:42:53.538390Z",
     "iopub.status.busy": "2025-08-19T18:42:53.537208Z",
     "iopub.status.idle": "2025-08-19T18:42:53.547806Z",
     "shell.execute_reply": "2025-08-19T18:42:53.546524Z"
    },
    "papermill": {
     "duration": 0.032529,
     "end_time": "2025-08-19T18:42:53.551227",
     "exception": false,
     "start_time": "2025-08-19T18:42:53.518698",
     "status": "completed"
    },
    "tags": []
   },
   "outputs": [
    {
     "data": {
      "text/plain": [
       "0.6699999999999999"
      ]
     },
     "execution_count": 42,
     "metadata": {},
     "output_type": "execute_result"
    }
   ],
   "source": [
    "q_hat"
   ]
  },
  {
   "cell_type": "code",
   "execution_count": 43,
   "id": "aa1f5faa",
   "metadata": {
    "execution": {
     "iopub.execute_input": "2025-08-19T18:42:53.587110Z",
     "iopub.status.busy": "2025-08-19T18:42:53.586010Z",
     "iopub.status.idle": "2025-08-19T18:42:55.819396Z",
     "shell.execute_reply": "2025-08-19T18:42:55.818575Z"
    },
    "papermill": {
     "duration": 2.248194,
     "end_time": "2025-08-19T18:42:55.821118",
     "exception": false,
     "start_time": "2025-08-19T18:42:53.572924",
     "status": "completed"
    },
    "tags": []
   },
   "outputs": [],
   "source": [
    "from fairness_multiverse.conformal import predict_conformal_sets\n",
    "\n",
    "# Generate prediction sets for each test example\n",
    "pred_sets = predict_conformal_sets(model, X_test, q_hat)"
   ]
  },
  {
   "cell_type": "code",
   "execution_count": 44,
   "id": "97f67a6b",
   "metadata": {
    "execution": {
     "iopub.execute_input": "2025-08-19T18:42:55.869299Z",
     "iopub.status.busy": "2025-08-19T18:42:55.868880Z",
     "iopub.status.idle": "2025-08-19T18:42:55.873807Z",
     "shell.execute_reply": "2025-08-19T18:42:55.872981Z"
    },
    "papermill": {
     "duration": 0.028627,
     "end_time": "2025-08-19T18:42:55.875301",
     "exception": false,
     "start_time": "2025-08-19T18:42:55.846674",
     "status": "completed"
    },
    "tags": []
   },
   "outputs": [],
   "source": [
    "y_true = y_true.squeeze()"
   ]
  },
  {
   "cell_type": "code",
   "execution_count": 45,
   "id": "e700e9a7",
   "metadata": {
    "execution": {
     "iopub.execute_input": "2025-08-19T18:42:55.900030Z",
     "iopub.status.busy": "2025-08-19T18:42:55.899670Z",
     "iopub.status.idle": "2025-08-19T18:42:56.376840Z",
     "shell.execute_reply": "2025-08-19T18:42:56.375981Z"
    },
    "papermill": {
     "duration": 0.491393,
     "end_time": "2025-08-19T18:42:56.378711",
     "exception": false,
     "start_time": "2025-08-19T18:42:55.887318",
     "status": "completed"
    },
    "tags": []
   },
   "outputs": [],
   "source": [
    "from fairness_multiverse.conformal import evaluate_sets\n",
    "\n",
    "# Evaluate coverage and average set size on test data\n",
    "metrics = evaluate_sets(pred_sets, y_true)"
   ]
  },
  {
   "cell_type": "markdown",
   "id": "efbacec0",
   "metadata": {
    "papermill": {
     "duration": 0.029276,
     "end_time": "2025-08-19T18:42:56.427920",
     "exception": false,
     "start_time": "2025-08-19T18:42:56.398644",
     "status": "completed"
    },
    "tags": []
   },
   "source": [
    "# CP Metrics"
   ]
  },
  {
   "cell_type": "code",
   "execution_count": 46,
   "id": "9de55fb1",
   "metadata": {
    "execution": {
     "iopub.execute_input": "2025-08-19T18:42:56.461721Z",
     "iopub.status.busy": "2025-08-19T18:42:56.454904Z",
     "iopub.status.idle": "2025-08-19T18:42:56.469878Z",
     "shell.execute_reply": "2025-08-19T18:42:56.468885Z"
    },
    "papermill": {
     "duration": 0.032204,
     "end_time": "2025-08-19T18:42:56.473181",
     "exception": false,
     "start_time": "2025-08-19T18:42:56.440977",
     "status": "completed"
    },
    "tags": []
   },
   "outputs": [
    {
     "data": {
      "text/plain": [
       "{'coverage': 0.9120610857206555, 'avg_size': 1.1486790770259725}"
      ]
     },
     "execution_count": 46,
     "metadata": {},
     "output_type": "execute_result"
    }
   ],
   "source": [
    "metrics"
   ]
  },
  {
   "cell_type": "code",
   "execution_count": 47,
   "id": "64c340a1",
   "metadata": {
    "execution": {
     "iopub.execute_input": "2025-08-19T18:42:56.501060Z",
     "iopub.status.busy": "2025-08-19T18:42:56.498155Z",
     "iopub.status.idle": "2025-08-19T18:42:56.506782Z",
     "shell.execute_reply": "2025-08-19T18:42:56.505781Z"
    },
    "papermill": {
     "duration": 0.023178,
     "end_time": "2025-08-19T18:42:56.508243",
     "exception": false,
     "start_time": "2025-08-19T18:42:56.485065",
     "status": "completed"
    },
    "tags": []
   },
   "outputs": [],
   "source": [
    "example_universe = universe.copy()\n",
    "universe_training_year = example_universe.get(\"training_year\")\n",
    "universe_training_size = example_universe.get(\"training_size\")\n",
    "universe_scale = example_universe.get(\"scale\")\n",
    "universe_model = example_universe.get(\"model\")\n",
    "universe_exclude_features = example_universe.get(\"exclude_features\")\n",
    "universe_exclude_subgroups = example_universe.get(\"exclude_subgroups\")"
   ]
  },
  {
   "cell_type": "code",
   "execution_count": 48,
   "id": "dbb53cb4",
   "metadata": {
    "execution": {
     "iopub.execute_input": "2025-08-19T18:42:56.541132Z",
     "iopub.status.busy": "2025-08-19T18:42:56.540402Z",
     "iopub.status.idle": "2025-08-19T18:42:56.548135Z",
     "shell.execute_reply": "2025-08-19T18:42:56.547248Z"
    },
    "papermill": {
     "duration": 0.027291,
     "end_time": "2025-08-19T18:42:56.549785",
     "exception": false,
     "start_time": "2025-08-19T18:42:56.522494",
     "status": "completed"
    },
    "tags": []
   },
   "outputs": [],
   "source": [
    "cp_metrics_dict = {\n",
    "    \"universe_id\": [universe_id],\n",
    "    \"universe_training_year\": [universe_training_year],\n",
    "    \"universe_training_size\": [universe_training_size],\n",
    "    \"universe_scale\": [universe_scale],\n",
    "    \"universe_model\": [universe_model],\n",
    "    \"universe_exclude_features\": [universe_exclude_features],\n",
    "    \"universe_exclude_subgroups\": [universe_exclude_subgroups],\n",
    "    \"q_hat\": [q_hat],\n",
    "    \"coverage\": [metrics[\"coverage\"]],\n",
    "    \"avg_size\": [metrics[\"avg_size\"]],\n",
    "}"
   ]
  },
  {
   "cell_type": "code",
   "execution_count": 49,
   "id": "0d70d4b2",
   "metadata": {
    "execution": {
     "iopub.execute_input": "2025-08-19T18:42:56.583911Z",
     "iopub.status.busy": "2025-08-19T18:42:56.583241Z",
     "iopub.status.idle": "2025-08-19T18:42:56.596528Z",
     "shell.execute_reply": "2025-08-19T18:42:56.595603Z"
    },
    "papermill": {
     "duration": 0.028259,
     "end_time": "2025-08-19T18:42:56.597957",
     "exception": false,
     "start_time": "2025-08-19T18:42:56.569698",
     "status": "completed"
    },
    "tags": []
   },
   "outputs": [],
   "source": [
    "cp_metrics_df = pd.DataFrame(cp_metrics_dict)"
   ]
  },
  {
   "cell_type": "code",
   "execution_count": 50,
   "id": "b494403c",
   "metadata": {
    "execution": {
     "iopub.execute_input": "2025-08-19T18:42:56.629909Z",
     "iopub.status.busy": "2025-08-19T18:42:56.629228Z",
     "iopub.status.idle": "2025-08-19T18:42:56.652317Z",
     "shell.execute_reply": "2025-08-19T18:42:56.651449Z"
    },
    "papermill": {
     "duration": 0.058463,
     "end_time": "2025-08-19T18:42:56.670107",
     "exception": false,
     "start_time": "2025-08-19T18:42:56.611644",
     "status": "completed"
    },
    "tags": []
   },
   "outputs": [
    {
     "data": {
      "text/html": [
       "<div>\n",
       "<style scoped>\n",
       "    .dataframe tbody tr th:only-of-type {\n",
       "        vertical-align: middle;\n",
       "    }\n",
       "\n",
       "    .dataframe tbody tr th {\n",
       "        vertical-align: top;\n",
       "    }\n",
       "\n",
       "    .dataframe thead th {\n",
       "        text-align: right;\n",
       "    }\n",
       "</style>\n",
       "<table border=\"1\" class=\"dataframe\">\n",
       "  <thead>\n",
       "    <tr style=\"text-align: right;\">\n",
       "      <th></th>\n",
       "      <th>universe_id</th>\n",
       "      <th>universe_training_year</th>\n",
       "      <th>universe_training_size</th>\n",
       "      <th>universe_scale</th>\n",
       "      <th>universe_model</th>\n",
       "      <th>universe_exclude_features</th>\n",
       "      <th>universe_exclude_subgroups</th>\n",
       "      <th>q_hat</th>\n",
       "      <th>coverage</th>\n",
       "      <th>avg_size</th>\n",
       "    </tr>\n",
       "  </thead>\n",
       "  <tbody>\n",
       "    <tr>\n",
       "      <th>0</th>\n",
       "      <td>13e7cddc02b768f910388562d8f395a7</td>\n",
       "      <td>2010_14</td>\n",
       "      <td>5k</td>\n",
       "      <td>scale</td>\n",
       "      <td>rf</td>\n",
       "      <td>age</td>\n",
       "      <td>drop-non-german</td>\n",
       "      <td>0.67</td>\n",
       "      <td>0.912061</td>\n",
       "      <td>1.148679</td>\n",
       "    </tr>\n",
       "  </tbody>\n",
       "</table>\n",
       "</div>"
      ],
      "text/plain": [
       "                        universe_id universe_training_year  \\\n",
       "0  13e7cddc02b768f910388562d8f395a7                2010_14   \n",
       "\n",
       "  universe_training_size universe_scale universe_model  \\\n",
       "0                     5k          scale             rf   \n",
       "\n",
       "  universe_exclude_features universe_exclude_subgroups  q_hat  coverage  \\\n",
       "0                       age            drop-non-german   0.67  0.912061   \n",
       "\n",
       "   avg_size  \n",
       "0  1.148679  "
      ]
     },
     "execution_count": 50,
     "metadata": {},
     "output_type": "execute_result"
    }
   ],
   "source": [
    "cp_metrics_df"
   ]
  },
  {
   "cell_type": "markdown",
   "id": "ed608b0b",
   "metadata": {
    "papermill": {
     "duration": 0.011813,
     "end_time": "2025-08-19T18:42:56.694142",
     "exception": false,
     "start_time": "2025-08-19T18:42:56.682329",
     "status": "completed"
    },
    "tags": []
   },
   "source": [
    "Conditional coverage & looking at subgroups"
   ]
  },
  {
   "cell_type": "code",
   "execution_count": 51,
   "id": "8968c366",
   "metadata": {
    "execution": {
     "iopub.execute_input": "2025-08-19T18:42:56.720470Z",
     "iopub.status.busy": "2025-08-19T18:42:56.719779Z",
     "iopub.status.idle": "2025-08-19T18:42:57.009447Z",
     "shell.execute_reply": "2025-08-19T18:42:57.008598Z"
    },
    "papermill": {
     "duration": 0.304922,
     "end_time": "2025-08-19T18:42:57.011004",
     "exception": false,
     "start_time": "2025-08-19T18:42:56.706082",
     "status": "completed"
    },
    "tags": []
   },
   "outputs": [],
   "source": [
    "from fairness_multiverse.conformal import build_cp_groups\n",
    "\n",
    "cp_groups_df = build_cp_groups(pred_sets, y_true, X_test.index, org_test)"
   ]
  },
  {
   "cell_type": "code",
   "execution_count": 52,
   "id": "292ddabf",
   "metadata": {
    "execution": {
     "iopub.execute_input": "2025-08-19T18:42:57.058878Z",
     "iopub.status.busy": "2025-08-19T18:42:57.058473Z",
     "iopub.status.idle": "2025-08-19T18:42:57.898671Z",
     "shell.execute_reply": "2025-08-19T18:42:57.897922Z"
    },
    "papermill": {
     "duration": 0.866891,
     "end_time": "2025-08-19T18:42:57.900329",
     "exception": false,
     "start_time": "2025-08-19T18:42:57.033438",
     "status": "completed"
    },
    "tags": []
   },
   "outputs": [],
   "source": [
    "# Define covered = 1 if true_label is in the predicted set\n",
    "cp_groups_df['covered'] = cp_groups_df.apply(\n",
    "    lambda r: int(r['true_label'] in r['pred_set']),\n",
    "    axis=1\n",
    ")"
   ]
  },
  {
   "cell_type": "code",
   "execution_count": 53,
   "id": "3a261692",
   "metadata": {
    "execution": {
     "iopub.execute_input": "2025-08-19T18:42:57.929262Z",
     "iopub.status.busy": "2025-08-19T18:42:57.928102Z",
     "iopub.status.idle": "2025-08-19T18:42:57.948617Z",
     "shell.execute_reply": "2025-08-19T18:42:57.947644Z"
    },
    "papermill": {
     "duration": 0.047035,
     "end_time": "2025-08-19T18:42:57.960519",
     "exception": false,
     "start_time": "2025-08-19T18:42:57.913484",
     "status": "completed"
    },
    "tags": []
   },
   "outputs": [],
   "source": [
    "subgroups = ['frau1','nongerman','nongerman_male','nongerman_female']\n",
    "\n",
    "# Conditional coverage for subgroup==1\n",
    "cond_coverage = {\n",
    "    g: cp_groups_df.loc[cp_groups_df[g]==1, 'covered'].mean()\n",
    "    for g in subgroups\n",
    "}"
   ]
  },
  {
   "cell_type": "code",
   "execution_count": 54,
   "id": "894fd600",
   "metadata": {
    "execution": {
     "iopub.execute_input": "2025-08-19T18:42:58.018795Z",
     "iopub.status.busy": "2025-08-19T18:42:58.018258Z",
     "iopub.status.idle": "2025-08-19T18:42:58.023990Z",
     "shell.execute_reply": "2025-08-19T18:42:58.023251Z"
    },
    "papermill": {
     "duration": 0.033567,
     "end_time": "2025-08-19T18:42:58.025409",
     "exception": false,
     "start_time": "2025-08-19T18:42:57.991842",
     "status": "completed"
    },
    "tags": []
   },
   "outputs": [
    {
     "data": {
      "text/plain": [
       "{'frau1': 0.9128723547647931,\n",
       " 'nongerman': 0.8954696008533094,\n",
       " 'nongerman_male': 0.9036296496442403,\n",
       " 'nongerman_female': 0.8819672131147541}"
      ]
     },
     "execution_count": 54,
     "metadata": {},
     "output_type": "execute_result"
    }
   ],
   "source": [
    "cond_coverage"
   ]
  },
  {
   "cell_type": "code",
   "execution_count": 55,
   "id": "942895c7",
   "metadata": {
    "execution": {
     "iopub.execute_input": "2025-08-19T18:42:58.052967Z",
     "iopub.status.busy": "2025-08-19T18:42:58.052653Z",
     "iopub.status.idle": "2025-08-19T18:42:58.058403Z",
     "shell.execute_reply": "2025-08-19T18:42:58.057718Z"
    },
    "papermill": {
     "duration": 0.022023,
     "end_time": "2025-08-19T18:42:58.059619",
     "exception": false,
     "start_time": "2025-08-19T18:42:58.037596",
     "status": "completed"
    },
    "tags": []
   },
   "outputs": [],
   "source": [
    "for subgroup, cov in cond_coverage.items():\n",
    "    cp_metrics_df[f\"cov_{subgroup}\"] = cov"
   ]
  },
  {
   "cell_type": "code",
   "execution_count": 56,
   "id": "3970120f",
   "metadata": {
    "execution": {
     "iopub.execute_input": "2025-08-19T18:42:58.091138Z",
     "iopub.status.busy": "2025-08-19T18:42:58.090799Z",
     "iopub.status.idle": "2025-08-19T18:42:58.115444Z",
     "shell.execute_reply": "2025-08-19T18:42:58.114497Z"
    },
    "papermill": {
     "duration": 0.039951,
     "end_time": "2025-08-19T18:42:58.117740",
     "exception": false,
     "start_time": "2025-08-19T18:42:58.077789",
     "status": "completed"
    },
    "tags": []
   },
   "outputs": [
    {
     "data": {
      "text/html": [
       "<div>\n",
       "<style scoped>\n",
       "    .dataframe tbody tr th:only-of-type {\n",
       "        vertical-align: middle;\n",
       "    }\n",
       "\n",
       "    .dataframe tbody tr th {\n",
       "        vertical-align: top;\n",
       "    }\n",
       "\n",
       "    .dataframe thead th {\n",
       "        text-align: right;\n",
       "    }\n",
       "</style>\n",
       "<table border=\"1\" class=\"dataframe\">\n",
       "  <thead>\n",
       "    <tr style=\"text-align: right;\">\n",
       "      <th></th>\n",
       "      <th>universe_id</th>\n",
       "      <th>universe_training_year</th>\n",
       "      <th>universe_training_size</th>\n",
       "      <th>universe_scale</th>\n",
       "      <th>universe_model</th>\n",
       "      <th>universe_exclude_features</th>\n",
       "      <th>universe_exclude_subgroups</th>\n",
       "      <th>q_hat</th>\n",
       "      <th>coverage</th>\n",
       "      <th>avg_size</th>\n",
       "      <th>cov_frau1</th>\n",
       "      <th>cov_nongerman</th>\n",
       "      <th>cov_nongerman_male</th>\n",
       "      <th>cov_nongerman_female</th>\n",
       "    </tr>\n",
       "  </thead>\n",
       "  <tbody>\n",
       "    <tr>\n",
       "      <th>0</th>\n",
       "      <td>13e7cddc02b768f910388562d8f395a7</td>\n",
       "      <td>2010_14</td>\n",
       "      <td>5k</td>\n",
       "      <td>scale</td>\n",
       "      <td>rf</td>\n",
       "      <td>age</td>\n",
       "      <td>drop-non-german</td>\n",
       "      <td>0.67</td>\n",
       "      <td>0.912061</td>\n",
       "      <td>1.148679</td>\n",
       "      <td>0.912872</td>\n",
       "      <td>0.89547</td>\n",
       "      <td>0.90363</td>\n",
       "      <td>0.881967</td>\n",
       "    </tr>\n",
       "  </tbody>\n",
       "</table>\n",
       "</div>"
      ],
      "text/plain": [
       "                        universe_id universe_training_year  \\\n",
       "0  13e7cddc02b768f910388562d8f395a7                2010_14   \n",
       "\n",
       "  universe_training_size universe_scale universe_model  \\\n",
       "0                     5k          scale             rf   \n",
       "\n",
       "  universe_exclude_features universe_exclude_subgroups  q_hat  coverage  \\\n",
       "0                       age            drop-non-german   0.67  0.912061   \n",
       "\n",
       "   avg_size  cov_frau1  cov_nongerman  cov_nongerman_male  \\\n",
       "0  1.148679   0.912872        0.89547             0.90363   \n",
       "\n",
       "   cov_nongerman_female  \n",
       "0              0.881967  "
      ]
     },
     "execution_count": 56,
     "metadata": {},
     "output_type": "execute_result"
    }
   ],
   "source": [
    "cp_metrics_df"
   ]
  },
  {
   "cell_type": "markdown",
   "id": "3fc519cc",
   "metadata": {
    "papermill": {
     "duration": 0.013303,
     "end_time": "2025-08-19T18:42:58.160766",
     "exception": false,
     "start_time": "2025-08-19T18:42:58.147463",
     "status": "completed"
    },
    "tags": []
   },
   "source": [
    "# (Fairness) Metrics"
   ]
  },
  {
   "cell_type": "code",
   "execution_count": 57,
   "id": "a2e5e155",
   "metadata": {
    "execution": {
     "iopub.execute_input": "2025-08-19T18:42:58.188797Z",
     "iopub.status.busy": "2025-08-19T18:42:58.187616Z",
     "iopub.status.idle": "2025-08-19T18:42:58.225297Z",
     "shell.execute_reply": "2025-08-19T18:42:58.223735Z"
    },
    "papermill": {
     "duration": 0.054827,
     "end_time": "2025-08-19T18:42:58.228183",
     "exception": false,
     "start_time": "2025-08-19T18:42:58.173356",
     "status": "completed"
    },
    "tags": []
   },
   "outputs": [],
   "source": [
    "colname_to_bin = \"maxdeutsch1\"\n",
    "majority_value = org_train[colname_to_bin].mode()[0]\n",
    "\n",
    "org_test[\"majmin\"] = np.where(org_test[colname_to_bin] == majority_value, \"majority\", \"minority\")"
   ]
  },
  {
   "cell_type": "code",
   "execution_count": 58,
   "id": "17e3e4d5",
   "metadata": {
    "execution": {
     "iopub.execute_input": "2025-08-19T18:42:58.273741Z",
     "iopub.status.busy": "2025-08-19T18:42:58.273227Z",
     "iopub.status.idle": "2025-08-19T18:43:00.039032Z",
     "shell.execute_reply": "2025-08-19T18:43:00.037913Z"
    },
    "papermill": {
     "duration": 1.782014,
     "end_time": "2025-08-19T18:43:00.040794",
     "exception": false,
     "start_time": "2025-08-19T18:42:58.258780",
     "status": "completed"
    },
    "tags": []
   },
   "outputs": [],
   "source": [
    "example_universe = universe.copy()\n",
    "example_universe[\"cutoff\"] = example_universe[\"cutoff\"][0]\n",
    "example_universe[\"eval_fairness_grouping\"] = example_universe[\"eval_fairness_grouping\"][0]\n",
    "fairness_dict, metric_frame = universe_analysis.compute_metrics(\n",
    "    example_universe,\n",
    "    y_pred_prob=probs_test,\n",
    "    y_test=y_true,\n",
    "    org_test=org_test,\n",
    ")"
   ]
  },
  {
   "cell_type": "markdown",
   "id": "1fb7a0e9",
   "metadata": {
    "papermill": {
     "duration": 0.012198,
     "end_time": "2025-08-19T18:43:00.066254",
     "exception": false,
     "start_time": "2025-08-19T18:43:00.054056",
     "status": "completed"
    },
    "tags": []
   },
   "source": [
    "# Overall"
   ]
  },
  {
   "cell_type": "markdown",
   "id": "be1784b1",
   "metadata": {
    "papermill": {
     "duration": 0.011958,
     "end_time": "2025-08-19T18:43:00.090527",
     "exception": false,
     "start_time": "2025-08-19T18:43:00.078569",
     "status": "completed"
    },
    "tags": []
   },
   "source": [
    "Main fairness target: Equalized Odds. Seems to be a better fit than equal opportunity, since we're not only interested in Y = 1. Seems to be a better fit than demographic parity, since we also care about accuracy, not just equal distribution of preds.\n",
    "\n",
    "Pick column for computation of fairness metrics\n",
    "\n",
    "Performance\n",
    "Overall performance measures, most interesting in relation to the measures split by group below"
   ]
  },
  {
   "cell_type": "code",
   "execution_count": 59,
   "id": "b7672bee",
   "metadata": {
    "execution": {
     "iopub.execute_input": "2025-08-19T18:43:00.115880Z",
     "iopub.status.busy": "2025-08-19T18:43:00.115583Z",
     "iopub.status.idle": "2025-08-19T18:43:00.123200Z",
     "shell.execute_reply": "2025-08-19T18:43:00.122452Z"
    },
    "papermill": {
     "duration": 0.021921,
     "end_time": "2025-08-19T18:43:00.124388",
     "exception": false,
     "start_time": "2025-08-19T18:43:00.102467",
     "status": "completed"
    },
    "tags": []
   },
   "outputs": [
    {
     "data": {
      "text/plain": [
       "accuracy                   0.192955\n",
       "balanced accuracy          0.527796\n",
       "f1                         0.237204\n",
       "precision                  0.134966\n",
       "false positive rate        0.922598\n",
       "false negative rate        0.021811\n",
       "selection rate             0.929729\n",
       "count                  89710.000000\n",
       "dtype: float64"
      ]
     },
     "execution_count": 59,
     "metadata": {},
     "output_type": "execute_result"
    }
   ],
   "source": [
    "metric_frame.overall"
   ]
  },
  {
   "cell_type": "markdown",
   "id": "d93333c9",
   "metadata": {
    "papermill": {
     "duration": 0.012107,
     "end_time": "2025-08-19T18:43:00.148952",
     "exception": false,
     "start_time": "2025-08-19T18:43:00.136845",
     "status": "completed"
    },
    "tags": []
   },
   "source": [
    "By Group"
   ]
  },
  {
   "cell_type": "code",
   "execution_count": 60,
   "id": "52256966",
   "metadata": {
    "execution": {
     "iopub.execute_input": "2025-08-19T18:43:00.174642Z",
     "iopub.status.busy": "2025-08-19T18:43:00.174153Z",
     "iopub.status.idle": "2025-08-19T18:43:00.187228Z",
     "shell.execute_reply": "2025-08-19T18:43:00.186419Z"
    },
    "papermill": {
     "duration": 0.02778,
     "end_time": "2025-08-19T18:43:00.188923",
     "exception": false,
     "start_time": "2025-08-19T18:43:00.161143",
     "status": "completed"
    },
    "tags": []
   },
   "outputs": [
    {
     "data": {
      "text/html": [
       "<div>\n",
       "<style scoped>\n",
       "    .dataframe tbody tr th:only-of-type {\n",
       "        vertical-align: middle;\n",
       "    }\n",
       "\n",
       "    .dataframe tbody tr th {\n",
       "        vertical-align: top;\n",
       "    }\n",
       "\n",
       "    .dataframe thead th {\n",
       "        text-align: right;\n",
       "    }\n",
       "</style>\n",
       "<table border=\"1\" class=\"dataframe\">\n",
       "  <thead>\n",
       "    <tr style=\"text-align: right;\">\n",
       "      <th></th>\n",
       "      <th>accuracy</th>\n",
       "      <th>balanced accuracy</th>\n",
       "      <th>f1</th>\n",
       "      <th>precision</th>\n",
       "      <th>false positive rate</th>\n",
       "      <th>false negative rate</th>\n",
       "      <th>selection rate</th>\n",
       "      <th>count</th>\n",
       "    </tr>\n",
       "    <tr>\n",
       "      <th>majmin</th>\n",
       "      <th></th>\n",
       "      <th></th>\n",
       "      <th></th>\n",
       "      <th></th>\n",
       "      <th></th>\n",
       "      <th></th>\n",
       "      <th></th>\n",
       "      <th></th>\n",
       "    </tr>\n",
       "  </thead>\n",
       "  <tbody>\n",
       "    <tr>\n",
       "      <th>majority</th>\n",
       "      <td>0.189244</td>\n",
       "      <td>0.528958</td>\n",
       "      <td>0.244103</td>\n",
       "      <td>0.139201</td>\n",
       "      <td>0.932784</td>\n",
       "      <td>0.009300</td>\n",
       "      <td>0.940437</td>\n",
       "      <td>69170.0</td>\n",
       "    </tr>\n",
       "    <tr>\n",
       "      <th>minority</th>\n",
       "      <td>0.205453</td>\n",
       "      <td>0.520474</td>\n",
       "      <td>0.212507</td>\n",
       "      <td>0.119961</td>\n",
       "      <td>0.888950</td>\n",
       "      <td>0.070101</td>\n",
       "      <td>0.893671</td>\n",
       "      <td>20540.0</td>\n",
       "    </tr>\n",
       "  </tbody>\n",
       "</table>\n",
       "</div>"
      ],
      "text/plain": [
       "          accuracy  balanced accuracy        f1  precision  \\\n",
       "majmin                                                       \n",
       "majority  0.189244           0.528958  0.244103   0.139201   \n",
       "minority  0.205453           0.520474  0.212507   0.119961   \n",
       "\n",
       "          false positive rate  false negative rate  selection rate    count  \n",
       "majmin                                                                       \n",
       "majority             0.932784             0.009300        0.940437  69170.0  \n",
       "minority             0.888950             0.070101        0.893671  20540.0  "
      ]
     },
     "execution_count": 60,
     "metadata": {},
     "output_type": "execute_result"
    }
   ],
   "source": [
    "metric_frame.by_group"
   ]
  },
  {
   "cell_type": "code",
   "execution_count": 61,
   "id": "6e6c20ae",
   "metadata": {
    "execution": {
     "iopub.execute_input": "2025-08-19T18:43:00.219345Z",
     "iopub.status.busy": "2025-08-19T18:43:00.218705Z",
     "iopub.status.idle": "2025-08-19T18:43:02.137992Z",
     "shell.execute_reply": "2025-08-19T18:43:02.136805Z"
    },
    "papermill": {
     "duration": 1.934902,
     "end_time": "2025-08-19T18:43:02.139583",
     "exception": false,
     "start_time": "2025-08-19T18:43:00.204681",
     "status": "completed"
    },
    "tags": []
   },
   "outputs": [
    {
     "data": {
      "text/plain": [
       "array([[<Axes: title={'center': 'accuracy'}, xlabel='majmin'>,\n",
       "        <Axes: title={'center': 'balanced accuracy'}, xlabel='majmin'>,\n",
       "        <Axes: title={'center': 'f1'}, xlabel='majmin'>],\n",
       "       [<Axes: title={'center': 'precision'}, xlabel='majmin'>,\n",
       "        <Axes: title={'center': 'false positive rate'}, xlabel='majmin'>,\n",
       "        <Axes: title={'center': 'false negative rate'}, xlabel='majmin'>],\n",
       "       [<Axes: title={'center': 'selection rate'}, xlabel='majmin'>,\n",
       "        <Axes: title={'center': 'count'}, xlabel='majmin'>,\n",
       "        <Axes: xlabel='majmin'>]], dtype=object)"
      ]
     },
     "execution_count": 61,
     "metadata": {},
     "output_type": "execute_result"
    },
    {
     "data": {
      "image/png": "[encoded data removed]",
      "text/plain": [
       "<Figure size 1200x800 with 9 Axes>"
      ]
     },
     "metadata": {},
     "output_type": "display_data"
    }
   ],
   "source": [
    "# In a graphic\n",
    "metric_frame.by_group.plot.bar(\n",
    "    subplots=True,\n",
    "    layout=[3, 3],\n",
    "    legend=False,\n",
    "    figsize=[12, 8],\n",
    "    title=\"Show all metrics\",\n",
    ")"
   ]
  },
  {
   "cell_type": "markdown",
   "id": "b2e433ae",
   "metadata": {
    "papermill": {
     "duration": 0.017116,
     "end_time": "2025-08-19T18:43:02.175807",
     "exception": false,
     "start_time": "2025-08-19T18:43:02.158691",
     "status": "completed"
    },
    "tags": []
   },
   "source": [
    "# Final Output"
   ]
  },
  {
   "cell_type": "code",
   "execution_count": 62,
   "id": "3871301e",
   "metadata": {
    "execution": {
     "iopub.execute_input": "2025-08-19T18:43:02.209938Z",
     "iopub.status.busy": "2025-08-19T18:43:02.207082Z",
     "iopub.status.idle": "2025-08-19T18:43:02.226758Z",
     "shell.execute_reply": "2025-08-19T18:43:02.225707Z"
    },
    "papermill": {
     "duration": 0.038906,
     "end_time": "2025-08-19T18:43:02.228781",
     "exception": false,
     "start_time": "2025-08-19T18:43:02.189875",
     "status": "completed"
    },
    "tags": []
   },
   "outputs": [
    {
     "data": {
      "text/plain": [
       "4"
      ]
     },
     "execution_count": 62,
     "metadata": {},
     "output_type": "execute_result"
    }
   ],
   "source": [
    "sub_universes = universe_analysis.generate_sub_universes()\n",
    "len(sub_universes)"
   ]
  },
  {
   "cell_type": "code",
   "execution_count": 63,
   "id": "d9cfdaca",
   "metadata": {
    "execution": {
     "iopub.execute_input": "2025-08-19T18:43:02.272313Z",
     "iopub.status.busy": "2025-08-19T18:43:02.271256Z",
     "iopub.status.idle": "2025-08-19T18:43:02.322081Z",
     "shell.execute_reply": "2025-08-19T18:43:02.320315Z"
    },
    "papermill": {
     "duration": 0.070243,
     "end_time": "2025-08-19T18:43:02.325140",
     "exception": false,
     "start_time": "2025-08-19T18:43:02.254897",
     "status": "completed"
    },
    "tags": []
   },
   "outputs": [],
   "source": [
    "def filter_sub_universe_data(sub_universe, org_test):\n",
    "    # Keep all rows — no filtering\n",
    "    keep_rows_mask = np.ones(org_test.shape[0], dtype=bool)\n",
    "\n",
    "    print(f\"[INFO] Keeping all rows: {keep_rows_mask.sum()} rows retained.\")\n",
    "    return keep_rows_mask"
   ]
  },
  {
   "cell_type": "code",
   "execution_count": 64,
   "id": "2bc31ac1",
   "metadata": {
    "execution": {
     "iopub.execute_input": "2025-08-19T18:43:02.370813Z",
     "iopub.status.busy": "2025-08-19T18:43:02.369812Z",
     "iopub.status.idle": "2025-08-19T18:43:09.052219Z",
     "shell.execute_reply": "2025-08-19T18:43:09.051247Z"
    },
    "papermill": {
     "duration": 6.699439,
     "end_time": "2025-08-19T18:43:09.053480",
     "exception": false,
     "start_time": "2025-08-19T18:43:02.354041",
     "status": "completed"
    },
    "tags": []
   },
   "outputs": [
    {
     "name": "stdout",
     "output_type": "stream",
     "text": [
      "Stopping execution_time clock.\n",
      "[INFO] Keeping all rows: 89710 rows retained.\n"
     ]
    },
    {
     "name": "stdout",
     "output_type": "stream",
     "text": [
      "[INFO] Keeping all rows: 89710 rows retained.\n"
     ]
    },
    {
     "name": "stdout",
     "output_type": "stream",
     "text": [
      "[INFO] Keeping all rows: 89710 rows retained.\n"
     ]
    },
    {
     "name": "stdout",
     "output_type": "stream",
     "text": [
      "[INFO] Keeping all rows: 89710 rows retained.\n"
     ]
    },
    {
     "data": {
      "text/html": [
       "<div>\n",
       "<style scoped>\n",
       "    .dataframe tbody tr th:only-of-type {\n",
       "        vertical-align: middle;\n",
       "    }\n",
       "\n",
       "    .dataframe tbody tr th {\n",
       "        vertical-align: top;\n",
       "    }\n",
       "\n",
       "    .dataframe thead th {\n",
       "        text-align: right;\n",
       "    }\n",
       "</style>\n",
       "<table border=\"1\" class=\"dataframe\">\n",
       "  <thead>\n",
       "    <tr style=\"text-align: right;\">\n",
       "      <th></th>\n",
       "      <th>run_no</th>\n",
       "      <th>universe_id</th>\n",
       "      <th>universe_settings</th>\n",
       "      <th>execution_time</th>\n",
       "      <th>test_size_n</th>\n",
       "      <th>test_size_frac</th>\n",
       "      <th>fair_main_equalized_odds_difference</th>\n",
       "      <th>fair_main_equalized_odds_ratio</th>\n",
       "      <th>fair_main_demographic_parity_difference</th>\n",
       "      <th>fair_main_demographic_parity_ratio</th>\n",
       "      <th>...</th>\n",
       "      <th>perf_grp_precision_0</th>\n",
       "      <th>perf_grp_precision_1</th>\n",
       "      <th>perf_grp_false positive rate_0</th>\n",
       "      <th>perf_grp_false positive rate_1</th>\n",
       "      <th>perf_grp_false negative rate_0</th>\n",
       "      <th>perf_grp_false negative rate_1</th>\n",
       "      <th>perf_grp_selection rate_0</th>\n",
       "      <th>perf_grp_selection rate_1</th>\n",
       "      <th>perf_grp_count_0</th>\n",
       "      <th>perf_grp_count_1</th>\n",
       "    </tr>\n",
       "  </thead>\n",
       "  <tbody>\n",
       "    <tr>\n",
       "      <th>0</th>\n",
       "      <td>3</td>\n",
       "      <td>13e7cddc02b768f910388562d8f395a7</td>\n",
       "      <td>{\"cutoff\": \"quantile_0.1\", \"eval_fairness_grou...</td>\n",
       "      <td>30.542417</td>\n",
       "      <td>89710</td>\n",
       "      <td>1.0</td>\n",
       "      <td>0.060802</td>\n",
       "      <td>0.938628</td>\n",
       "      <td>0.046766</td>\n",
       "      <td>0.950272</td>\n",
       "      <td>...</td>\n",
       "      <td>NaN</td>\n",
       "      <td>NaN</td>\n",
       "      <td>NaN</td>\n",
       "      <td>NaN</td>\n",
       "      <td>NaN</td>\n",
       "      <td>NaN</td>\n",
       "      <td>NaN</td>\n",
       "      <td>NaN</td>\n",
       "      <td>NaN</td>\n",
       "      <td>NaN</td>\n",
       "    </tr>\n",
       "    <tr>\n",
       "      <th>0</th>\n",
       "      <td>3</td>\n",
       "      <td>13e7cddc02b768f910388562d8f395a7</td>\n",
       "      <td>{\"cutoff\": \"quantile_0.1\", \"eval_fairness_grou...</td>\n",
       "      <td>30.542417</td>\n",
       "      <td>89710</td>\n",
       "      <td>1.0</td>\n",
       "      <td>0.060802</td>\n",
       "      <td>0.938628</td>\n",
       "      <td>0.046766</td>\n",
       "      <td>0.950272</td>\n",
       "      <td>...</td>\n",
       "      <td>0.119961</td>\n",
       "      <td>0.139201</td>\n",
       "      <td>0.888950</td>\n",
       "      <td>0.932784</td>\n",
       "      <td>0.070101</td>\n",
       "      <td>0.009300</td>\n",
       "      <td>0.893671</td>\n",
       "      <td>0.940437</td>\n",
       "      <td>20540.0</td>\n",
       "      <td>69170.0</td>\n",
       "    </tr>\n",
       "    <tr>\n",
       "      <th>0</th>\n",
       "      <td>3</td>\n",
       "      <td>13e7cddc02b768f910388562d8f395a7</td>\n",
       "      <td>{\"cutoff\": \"quantile_0.25\", \"eval_fairness_gro...</td>\n",
       "      <td>30.542417</td>\n",
       "      <td>89710</td>\n",
       "      <td>1.0</td>\n",
       "      <td>0.126564</td>\n",
       "      <td>0.867370</td>\n",
       "      <td>0.066366</td>\n",
       "      <td>0.916719</td>\n",
       "      <td>...</td>\n",
       "      <td>NaN</td>\n",
       "      <td>NaN</td>\n",
       "      <td>NaN</td>\n",
       "      <td>NaN</td>\n",
       "      <td>NaN</td>\n",
       "      <td>NaN</td>\n",
       "      <td>NaN</td>\n",
       "      <td>NaN</td>\n",
       "      <td>NaN</td>\n",
       "      <td>NaN</td>\n",
       "    </tr>\n",
       "    <tr>\n",
       "      <th>0</th>\n",
       "      <td>3</td>\n",
       "      <td>13e7cddc02b768f910388562d8f395a7</td>\n",
       "      <td>{\"cutoff\": \"quantile_0.25\", \"eval_fairness_gro...</td>\n",
       "      <td>30.542417</td>\n",
       "      <td>89710</td>\n",
       "      <td>1.0</td>\n",
       "      <td>0.126564</td>\n",
       "      <td>0.867370</td>\n",
       "      <td>0.066366</td>\n",
       "      <td>0.916719</td>\n",
       "      <td>...</td>\n",
       "      <td>0.130623</td>\n",
       "      <td>0.158234</td>\n",
       "      <td>0.717863</td>\n",
       "      <td>0.772930</td>\n",
       "      <td>0.172297</td>\n",
       "      <td>0.045733</td>\n",
       "      <td>0.730526</td>\n",
       "      <td>0.796892</td>\n",
       "      <td>20540.0</td>\n",
       "      <td>69170.0</td>\n",
       "    </tr>\n",
       "  </tbody>\n",
       "</table>\n",
       "<p>4 rows × 50 columns</p>\n",
       "</div>"
      ],
      "text/plain": [
       "  run_no                       universe_id  \\\n",
       "0      3  13e7cddc02b768f910388562d8f395a7   \n",
       "0      3  13e7cddc02b768f910388562d8f395a7   \n",
       "0      3  13e7cddc02b768f910388562d8f395a7   \n",
       "0      3  13e7cddc02b768f910388562d8f395a7   \n",
       "\n",
       "                                   universe_settings  execution_time  \\\n",
       "0  {\"cutoff\": \"quantile_0.1\", \"eval_fairness_grou...       30.542417   \n",
       "0  {\"cutoff\": \"quantile_0.1\", \"eval_fairness_grou...       30.542417   \n",
       "0  {\"cutoff\": \"quantile_0.25\", \"eval_fairness_gro...       30.542417   \n",
       "0  {\"cutoff\": \"quantile_0.25\", \"eval_fairness_gro...       30.542417   \n",
       "\n",
       "   test_size_n  test_size_frac  fair_main_equalized_odds_difference  \\\n",
       "0        89710             1.0                             0.060802   \n",
       "0        89710             1.0                             0.060802   \n",
       "0        89710             1.0                             0.126564   \n",
       "0        89710             1.0                             0.126564   \n",
       "\n",
       "   fair_main_equalized_odds_ratio  fair_main_demographic_parity_difference  \\\n",
       "0                        0.938628                                 0.046766   \n",
       "0                        0.938628                                 0.046766   \n",
       "0                        0.867370                                 0.066366   \n",
       "0                        0.867370                                 0.066366   \n",
       "\n",
       "   fair_main_demographic_parity_ratio  ...  perf_grp_precision_0  \\\n",
       "0                            0.950272  ...                   NaN   \n",
       "0                            0.950272  ...              0.119961   \n",
       "0                            0.916719  ...                   NaN   \n",
       "0                            0.916719  ...              0.130623   \n",
       "\n",
       "   perf_grp_precision_1  perf_grp_false positive rate_0  \\\n",
       "0                   NaN                             NaN   \n",
       "0              0.139201                        0.888950   \n",
       "0                   NaN                             NaN   \n",
       "0              0.158234                        0.717863   \n",
       "\n",
       "   perf_grp_false positive rate_1  perf_grp_false negative rate_0  \\\n",
       "0                             NaN                             NaN   \n",
       "0                        0.932784                        0.070101   \n",
       "0                             NaN                             NaN   \n",
       "0                        0.772930                        0.172297   \n",
       "\n",
       "   perf_grp_false negative rate_1  perf_grp_selection rate_0  \\\n",
       "0                             NaN                        NaN   \n",
       "0                        0.009300                   0.893671   \n",
       "0                             NaN                        NaN   \n",
       "0                        0.045733                   0.730526   \n",
       "\n",
       "   perf_grp_selection rate_1  perf_grp_count_0  perf_grp_count_1  \n",
       "0                        NaN               NaN               NaN  \n",
       "0                   0.940437           20540.0           69170.0  \n",
       "0                        NaN               NaN               NaN  \n",
       "0                   0.796892           20540.0           69170.0  \n",
       "\n",
       "[4 rows x 50 columns]"
      ]
     },
     "execution_count": 64,
     "metadata": {},
     "output_type": "execute_result"
    }
   ],
   "source": [
    "final_output = universe_analysis.generate_final_output(\n",
    "    y_pred_prob=probs_test,\n",
    "    y_test=y_true,\n",
    "    org_test=org_test,\n",
    "    filter_data=filter_sub_universe_data,\n",
    "    cp_metrics_df=cp_metrics_df,\n",
    "    save=True,\n",
    ")\n",
    "final_output"
   ]
  },
  {
   "cell_type": "code",
   "execution_count": null,
   "id": "8b80a1ff",
   "metadata": {
    "papermill": {
     "duration": 0.014208,
     "end_time": "2025-08-19T18:43:09.086001",
     "exception": false,
     "start_time": "2025-08-19T18:43:09.071793",
     "status": "completed"
    },
    "tags": []
   },
   "outputs": [],
   "source": []
  },
  {
   "cell_type": "code",
   "execution_count": null,
   "id": "275c9fad",
   "metadata": {
    "papermill": {
     "duration": 0.014067,
     "end_time": "2025-08-19T18:43:09.114111",
     "exception": false,
     "start_time": "2025-08-19T18:43:09.100044",
     "status": "completed"
    },
    "tags": []
   },
   "outputs": [],
   "source": []
  }
 ],
 "metadata": {
  "celltoolbar": "Tags",
  "kernelspec": {
   "display_name": "Python (CMA Fairness)",
   "language": "python",
   "name": "cma_fair_env"
  },
  "language_info": {
   "codemirror_mode": {
    "name": "ipython",
    "version": 3
   },
   "file_extension": ".py",
   "mimetype": "text/x-python",
   "name": "python",
   "nbconvert_exporter": "python",
   "pygments_lexer": "ipython3",
   "version": "3.10.12"
  },
  "papermill": {
   "default_parameters": {},
   "duration": 41.155218,
   "end_time": "2025-08-19T18:43:09.951845",
   "environment_variables": {},
   "exception": null,
   "input_path": "universe_analysis.ipynb",
   "output_path": "output/runs/3/notebooks/m_3-13e7cddc02b768f910388562d8f395a7.ipynb",
   "parameters": {
    "output_dir": "output",
    "run_no": "3",
    "seed": "2023",
    "universe": "{\"cutoff\": [\"quantile_0.1\", \"quantile_0.25\"], \"eval_fairness_grouping\": [\"majority-minority\", \"nationality-all\"], \"exclude_features\": \"age\", \"exclude_subgroups\": \"drop-non-german\", \"model\": \"rf\", \"scale\": \"scale\", \"training_size\": \"5k\", \"training_year\": \"2010_14\"}",
    "universe_id": "13e7cddc02b768f910388562d8f395a7"
   },
   "start_time": "2025-08-19T18:42:28.796627",
   "version": "2.6.0"
  }
 },
 "nbformat": 4,
 "nbformat_minor": 5
}