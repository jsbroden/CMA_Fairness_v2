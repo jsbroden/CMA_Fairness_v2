{
 "cells": [
  {
   "cell_type": "markdown",
   "id": "ef23dbb3",
   "metadata": {
    "papermill": {
     "duration": 0.022306,
     "end_time": "2025-08-19T18:30:46.177213",
     "exception": false,
     "start_time": "2025-08-19T18:30:46.154907",
     "status": "completed"
    },
    "tags": []
   },
   "source": [
    "# Setup"
   ]
  },
  {
   "cell_type": "code",
   "execution_count": 1,
   "id": "0bc8e7dc",
   "metadata": {
    "execution": {
     "iopub.execute_input": "2025-08-19T18:30:46.201233Z",
     "iopub.status.busy": "2025-08-19T18:30:46.199804Z",
     "iopub.status.idle": "2025-08-19T18:30:46.217964Z",
     "shell.execute_reply": "2025-08-19T18:30:46.217015Z"
    },
    "papermill": {
     "duration": 0.03043,
     "end_time": "2025-08-19T18:30:46.219898",
     "exception": false,
     "start_time": "2025-08-19T18:30:46.189468",
     "status": "completed"
    },
    "tags": []
   },
   "outputs": [
    {
     "name": "stdout",
     "output_type": "stream",
     "text": [
      "/dss/dsshome1/0C/ra93lal2/cma/CMA_Fairness_v2\n"
     ]
    },
    {
     "name": "stderr",
     "output_type": "stream",
     "text": [
      "/dss/dsshome1/0C/ra93lal2/.local/share/virtualenvs/CMA_Fairness_v2-3j10GkSs/lib/python3.10/site-packages/IPython/core/magics/osm.py:393: UserWarning: This is now an optional IPython functionality, using bookmarks requires you to install the `pickleshare` library.\n",
      "  bkms = self.shell.db.get('bookmarks', {})\n",
      "/dss/dsshome1/0C/ra93lal2/.local/share/virtualenvs/CMA_Fairness_v2-3j10GkSs/lib/python3.10/site-packages/IPython/core/magics/osm.py:417: UserWarning: This is now an optional IPython functionality, setting dhist requires you to install the `pickleshare` library.\n",
      "  self.shell.db['dhist'] = compress_dhist(dhist)[-100:]\n"
     ]
    }
   ],
   "source": [
    "%cd ~/cma/CMA_Fairness_v2"
   ]
  },
  {
   "cell_type": "markdown",
   "id": "9d235661",
   "metadata": {
    "papermill": {
     "duration": 0.009835,
     "end_time": "2025-08-19T18:30:46.244184",
     "exception": false,
     "start_time": "2025-08-19T18:30:46.234349",
     "status": "completed"
    },
    "tags": []
   },
   "source": [
    "The following cell holds the definition of our parameters, these values can be overriden by rendering the with e.g. the following command:\n",
    "\n",
    "papermill -p alpha 0.2 -p ratio 0.3 universe_analysis.ipynb output/test_run.ipynb"
   ]
  },
  {
   "cell_type": "code",
   "execution_count": 2,
   "id": "4a789d8e",
   "metadata": {
    "execution": {
     "iopub.execute_input": "2025-08-19T18:30:46.265013Z",
     "iopub.status.busy": "2025-08-19T18:30:46.263559Z",
     "iopub.status.idle": "2025-08-19T18:30:46.270964Z",
     "shell.execute_reply": "2025-08-19T18:30:46.269797Z"
    },
    "papermill": {
     "duration": 0.019243,
     "end_time": "2025-08-19T18:30:46.272465",
     "exception": false,
     "start_time": "2025-08-19T18:30:46.253222",
     "status": "completed"
    },
    "tags": []
   },
   "outputs": [
    {
     "name": "stdout",
     "output_type": "stream",
     "text": [
      "Current working directory: /dss/dsshome1/0C/ra93lal2/cma/CMA_Fairness_v2\n"
     ]
    }
   ],
   "source": [
    "import os\n",
    "print(\"Current working directory:\", os.getcwd())"
   ]
  },
  {
   "cell_type": "code",
   "execution_count": 3,
   "id": "4132aaed",
   "metadata": {
    "execution": {
     "iopub.execute_input": "2025-08-19T18:30:46.293242Z",
     "iopub.status.busy": "2025-08-19T18:30:46.292122Z",
     "iopub.status.idle": "2025-08-19T18:30:46.301031Z",
     "shell.execute_reply": "2025-08-19T18:30:46.299898Z"
    },
    "papermill": {
     "duration": 0.020648,
     "end_time": "2025-08-19T18:30:46.302535",
     "exception": false,
     "start_time": "2025-08-19T18:30:46.281887",
     "status": "completed"
    },
    "tags": [
     "parameters"
    ]
   },
   "outputs": [],
   "source": [
    "run_no = 0\n",
    "universe_id = \"test\"\n",
    "universe = {\n",
    "    \"training_size\": \"5k\", # \"25k\", \"5k\", \"1k\"\n",
    "    \"training_year\": \"2012_14\", # \"2014\", \"2012_14\", \"2010_14\"\n",
    "    \"scale\": \"scale\", # \"scale\", \"do-not-scale\",\n",
    "    \"model\": \"elasticnet\", # \"logreg\", \"penalized_logreg\", \"rf\", \"gbm\", \"elasticnet\"\n",
    "    \"cutoff\": [\"quantile_0.15\", \"quantile_0.30\"],\n",
    "    \"exclude_features\": \"age\", # \"none\", \"nationality\", \"sex\", \"nationality-sex\", \"age\"\n",
    "    \"exclude_subgroups\": \"drop-non-german\", # \"keep-all\", \"drop-non-german\"\n",
    "    \"eval_fairness_grouping\": [\"majority-minority\", \"nationality-all\"]\n",
    "}\n",
    "\n",
    "output_dir=\"./output\"\n",
    "seed=0"
   ]
  },
  {
   "cell_type": "code",
   "execution_count": 4,
   "id": "204b38eb",
   "metadata": {
    "execution": {
     "iopub.execute_input": "2025-08-19T18:30:46.326885Z",
     "iopub.status.busy": "2025-08-19T18:30:46.325644Z",
     "iopub.status.idle": "2025-08-19T18:30:46.332978Z",
     "shell.execute_reply": "2025-08-19T18:30:46.331729Z"
    },
    "papermill": {
     "duration": 0.021465,
     "end_time": "2025-08-19T18:30:46.336082",
     "exception": false,
     "start_time": "2025-08-19T18:30:46.314617",
     "status": "completed"
    },
    "tags": [
     "injected-parameters"
    ]
   },
   "outputs": [],
   "source": [
    "# Parameters\n",
    "universe_id = \"c6f6383279b91dcae6dd57748ac206f0\"\n",
    "run_no = \"3\"\n",
    "universe = \"{\\\"cutoff\\\": [\\\"quantile_0.1\\\", \\\"quantile_0.25\\\"], \\\"eval_fairness_grouping\\\": [\\\"majority-minority\\\", \\\"nationality-all\\\"], \\\"exclude_features\\\": \\\"age\\\", \\\"exclude_subgroups\\\": \\\"keep-all\\\", \\\"model\\\": \\\"elasticnet\\\", \\\"scale\\\": \\\"do-not-scale\\\", \\\"training_size\\\": \\\"5k\\\", \\\"training_year\\\": \\\"2014\\\"}\"\n",
    "output_dir = \"output\"\n",
    "seed = \"2023\"\n"
   ]
  },
  {
   "cell_type": "code",
   "execution_count": 5,
   "id": "a5d7941f",
   "metadata": {
    "execution": {
     "iopub.execute_input": "2025-08-19T18:30:46.362879Z",
     "iopub.status.busy": "2025-08-19T18:30:46.362438Z",
     "iopub.status.idle": "2025-08-19T18:30:46.366310Z",
     "shell.execute_reply": "2025-08-19T18:30:46.365609Z"
    },
    "papermill": {
     "duration": 0.015412,
     "end_time": "2025-08-19T18:30:46.367713",
     "exception": false,
     "start_time": "2025-08-19T18:30:46.352301",
     "status": "completed"
    },
    "tags": []
   },
   "outputs": [],
   "source": [
    "import json\n",
    "if isinstance(universe, str):\n",
    "    universe = json.loads(universe)"
   ]
  },
  {
   "cell_type": "code",
   "execution_count": 6,
   "id": "7076ccb1",
   "metadata": {
    "execution": {
     "iopub.execute_input": "2025-08-19T18:30:46.387506Z",
     "iopub.status.busy": "2025-08-19T18:30:46.387088Z",
     "iopub.status.idle": "2025-08-19T18:30:46.421129Z",
     "shell.execute_reply": "2025-08-19T18:30:46.420414Z"
    },
    "papermill": {
     "duration": 0.045439,
     "end_time": "2025-08-19T18:30:46.422423",
     "exception": false,
     "start_time": "2025-08-19T18:30:46.376984",
     "status": "completed"
    },
    "tags": []
   },
   "outputs": [],
   "source": [
    "# Auto-reload the custom package\n",
    "%load_ext autoreload\n",
    "%autoreload 1\n",
    "%aimport fairness_multiverse"
   ]
  },
  {
   "cell_type": "code",
   "execution_count": 7,
   "id": "94c8eb93",
   "metadata": {
    "execution": {
     "iopub.execute_input": "2025-08-19T18:30:46.443312Z",
     "iopub.status.busy": "2025-08-19T18:30:46.442348Z",
     "iopub.status.idle": "2025-08-19T18:30:48.016031Z",
     "shell.execute_reply": "2025-08-19T18:30:48.014289Z"
    },
    "papermill": {
     "duration": 1.585609,
     "end_time": "2025-08-19T18:30:48.018104",
     "exception": false,
     "start_time": "2025-08-19T18:30:46.432495",
     "status": "completed"
    },
    "tags": []
   },
   "outputs": [],
   "source": [
    "from fairness_multiverse.universe import UniverseAnalysis\n",
    "\n",
    "universe_analysis = UniverseAnalysis(\n",
    "    run_no = run_no,\n",
    "    universe_id = universe_id,\n",
    "    universe = universe,\n",
    "    output_dir=output_dir,\n",
    ")"
   ]
  },
  {
   "cell_type": "code",
   "execution_count": 8,
   "id": "2a6381cf",
   "metadata": {
    "execution": {
     "iopub.execute_input": "2025-08-19T18:30:48.039447Z",
     "iopub.status.busy": "2025-08-19T18:30:48.039069Z",
     "iopub.status.idle": "2025-08-19T18:30:48.046133Z",
     "shell.execute_reply": "2025-08-19T18:30:48.045155Z"
    },
    "papermill": {
     "duration": 0.019396,
     "end_time": "2025-08-19T18:30:48.047627",
     "exception": false,
     "start_time": "2025-08-19T18:30:48.028231",
     "status": "completed"
    },
    "tags": []
   },
   "outputs": [
    {
     "name": "stdout",
     "output_type": "stream",
     "text": [
      "Using Seed: 2023\n"
     ]
    }
   ],
   "source": [
    "import numpy as np\n",
    "parsed_seed = int(seed)\n",
    "np.random.seed(parsed_seed)\n",
    "print(f\"Using Seed: {parsed_seed}\")"
   ]
  },
  {
   "cell_type": "markdown",
   "id": "b6e958b4",
   "metadata": {
    "papermill": {
     "duration": 0.009161,
     "end_time": "2025-08-19T18:30:48.066561",
     "exception": false,
     "start_time": "2025-08-19T18:30:48.057400",
     "status": "completed"
    },
    "tags": []
   },
   "source": [
    "# Loading Data"
   ]
  },
  {
   "cell_type": "code",
   "execution_count": 9,
   "id": "98701482",
   "metadata": {
    "execution": {
     "iopub.execute_input": "2025-08-19T18:30:48.087408Z",
     "iopub.status.busy": "2025-08-19T18:30:48.086779Z",
     "iopub.status.idle": "2025-08-19T18:30:58.710910Z",
     "shell.execute_reply": "2025-08-19T18:30:58.709363Z"
    },
    "papermill": {
     "duration": 10.636633,
     "end_time": "2025-08-19T18:30:58.712388",
     "exception": false,
     "start_time": "2025-08-19T18:30:48.075755",
     "status": "completed"
    },
    "tags": []
   },
   "outputs": [
    {
     "name": "stdout",
     "output_type": "stream",
     "text": [
      "Loading SIAB data from cache: data/siab_cached.csv.gz\n"
     ]
    },
    {
     "name": "stdout",
     "output_type": "stream",
     "text": [
      "(643690, 164)\n"
     ]
    }
   ],
   "source": [
    "from pathlib import Path\n",
    "import pandas as pd\n",
    "\n",
    "# File paths\n",
    "raw_file = Path(\"data/raw/siab.csv\")\n",
    "cache_file = Path(\"data/siab_cached.csv.gz\")\n",
    "\n",
    "# Ensure cache directory exists\n",
    "cache_file.parent.mkdir(parents=True, exist_ok=True)\n",
    "\n",
    "# Load with simple caching\n",
    "if cache_file.exists():\n",
    "    print(f\"Loading SIAB data from cache: {cache_file}\")\n",
    "    siab = pd.read_csv(cache_file, compression='gzip')\n",
    "else:\n",
    "    print(f\"Cache not found. Reading raw SIAB data: {raw_file}\")\n",
    "    siab = pd.read_csv(raw_file)\n",
    "    siab.to_csv(cache_file, index=False, compression='gzip')\n",
    "    print(f\"Cached SIAB data to: {cache_file}\")\n",
    "\n",
    "print(siab.shape)"
   ]
  },
  {
   "cell_type": "code",
   "execution_count": 10,
   "id": "058d2abb",
   "metadata": {
    "execution": {
     "iopub.execute_input": "2025-08-19T18:30:58.752028Z",
     "iopub.status.busy": "2025-08-19T18:30:58.750916Z",
     "iopub.status.idle": "2025-08-19T18:30:58.964677Z",
     "shell.execute_reply": "2025-08-19T18:30:58.963914Z"
    },
    "papermill": {
     "duration": 0.230065,
     "end_time": "2025-08-19T18:30:58.965938",
     "exception": false,
     "start_time": "2025-08-19T18:30:58.735873",
     "status": "completed"
    },
    "tags": []
   },
   "outputs": [
    {
     "data": {
      "text/html": [
       "<div>\n",
       "<style scoped>\n",
       "    .dataframe tbody tr th:only-of-type {\n",
       "        vertical-align: middle;\n",
       "    }\n",
       "\n",
       "    .dataframe tbody tr th {\n",
       "        vertical-align: top;\n",
       "    }\n",
       "\n",
       "    .dataframe thead th {\n",
       "        text-align: right;\n",
       "    }\n",
       "</style>\n",
       "<table border=\"1\" class=\"dataframe\">\n",
       "  <thead>\n",
       "    <tr style=\"text-align: right;\">\n",
       "      <th></th>\n",
       "      <th>persnr</th>\n",
       "      <th>year</th>\n",
       "      <th>nrEntry</th>\n",
       "      <th>ltue</th>\n",
       "      <th>employed_before</th>\n",
       "      <th>receipt_leh_before</th>\n",
       "      <th>receipt_lhg_before</th>\n",
       "      <th>se_before</th>\n",
       "      <th>ASU_notue_seeking_before</th>\n",
       "      <th>ASU_other_before</th>\n",
       "      <th>...</th>\n",
       "      <th>minijob_tot_dur_byage</th>\n",
       "      <th>ft_tot_dur_byage</th>\n",
       "      <th>befrist_tot_dur_byage</th>\n",
       "      <th>leih_tot_dur_byage</th>\n",
       "      <th>LHG_tot_dur_byage</th>\n",
       "      <th>LEH_tot_dur_byage</th>\n",
       "      <th>almp_tot_dur_byage</th>\n",
       "      <th>almp_aw_tot_dur_byage</th>\n",
       "      <th>se_tot_dur_byage</th>\n",
       "      <th>seeking1_tot_dur_byage</th>\n",
       "    </tr>\n",
       "  </thead>\n",
       "  <tbody>\n",
       "    <tr>\n",
       "      <th>0</th>\n",
       "      <td>7</td>\n",
       "      <td>2015</td>\n",
       "      <td>1</td>\n",
       "      <td>0</td>\n",
       "      <td>1</td>\n",
       "      <td>0</td>\n",
       "      <td>0</td>\n",
       "      <td>0</td>\n",
       "      <td>1</td>\n",
       "      <td>0</td>\n",
       "      <td>...</td>\n",
       "      <td>0.000000</td>\n",
       "      <td>0.000000</td>\n",
       "      <td>15.043478</td>\n",
       "      <td>0.000000</td>\n",
       "      <td>0.000000</td>\n",
       "      <td>0.000000</td>\n",
       "      <td>0.000000</td>\n",
       "      <td>0.000000</td>\n",
       "      <td>0.000000</td>\n",
       "      <td>0.000000</td>\n",
       "    </tr>\n",
       "    <tr>\n",
       "      <th>1</th>\n",
       "      <td>18</td>\n",
       "      <td>2010</td>\n",
       "      <td>1</td>\n",
       "      <td>1</td>\n",
       "      <td>0</td>\n",
       "      <td>0</td>\n",
       "      <td>0</td>\n",
       "      <td>0</td>\n",
       "      <td>0</td>\n",
       "      <td>0</td>\n",
       "      <td>...</td>\n",
       "      <td>0.000000</td>\n",
       "      <td>0.000000</td>\n",
       "      <td>0.000000</td>\n",
       "      <td>0.000000</td>\n",
       "      <td>0.000000</td>\n",
       "      <td>0.000000</td>\n",
       "      <td>0.000000</td>\n",
       "      <td>0.000000</td>\n",
       "      <td>0.000000</td>\n",
       "      <td>0.000000</td>\n",
       "    </tr>\n",
       "    <tr>\n",
       "      <th>2</th>\n",
       "      <td>18</td>\n",
       "      <td>2011</td>\n",
       "      <td>2</td>\n",
       "      <td>0</td>\n",
       "      <td>1</td>\n",
       "      <td>0</td>\n",
       "      <td>1</td>\n",
       "      <td>0</td>\n",
       "      <td>1</td>\n",
       "      <td>0</td>\n",
       "      <td>...</td>\n",
       "      <td>2.714286</td>\n",
       "      <td>2.714286</td>\n",
       "      <td>0.000000</td>\n",
       "      <td>0.000000</td>\n",
       "      <td>10.775510</td>\n",
       "      <td>0.000000</td>\n",
       "      <td>8.367347</td>\n",
       "      <td>0.000000</td>\n",
       "      <td>0.000000</td>\n",
       "      <td>9.836735</td>\n",
       "    </tr>\n",
       "    <tr>\n",
       "      <th>3</th>\n",
       "      <td>18</td>\n",
       "      <td>2012</td>\n",
       "      <td>3</td>\n",
       "      <td>0</td>\n",
       "      <td>1</td>\n",
       "      <td>0</td>\n",
       "      <td>1</td>\n",
       "      <td>0</td>\n",
       "      <td>1</td>\n",
       "      <td>0</td>\n",
       "      <td>...</td>\n",
       "      <td>4.200000</td>\n",
       "      <td>4.200000</td>\n",
       "      <td>0.000000</td>\n",
       "      <td>0.000000</td>\n",
       "      <td>12.100000</td>\n",
       "      <td>0.000000</td>\n",
       "      <td>9.400000</td>\n",
       "      <td>0.000000</td>\n",
       "      <td>0.000000</td>\n",
       "      <td>9.960000</td>\n",
       "    </tr>\n",
       "    <tr>\n",
       "      <th>4</th>\n",
       "      <td>18</td>\n",
       "      <td>2012</td>\n",
       "      <td>4</td>\n",
       "      <td>0</td>\n",
       "      <td>1</td>\n",
       "      <td>0</td>\n",
       "      <td>1</td>\n",
       "      <td>0</td>\n",
       "      <td>1</td>\n",
       "      <td>0</td>\n",
       "      <td>...</td>\n",
       "      <td>5.460000</td>\n",
       "      <td>5.460000</td>\n",
       "      <td>0.000000</td>\n",
       "      <td>0.000000</td>\n",
       "      <td>13.360000</td>\n",
       "      <td>0.000000</td>\n",
       "      <td>10.320000</td>\n",
       "      <td>0.000000</td>\n",
       "      <td>0.000000</td>\n",
       "      <td>10.280000</td>\n",
       "    </tr>\n",
       "    <tr>\n",
       "      <th>...</th>\n",
       "      <td>...</td>\n",
       "      <td>...</td>\n",
       "      <td>...</td>\n",
       "      <td>...</td>\n",
       "      <td>...</td>\n",
       "      <td>...</td>\n",
       "      <td>...</td>\n",
       "      <td>...</td>\n",
       "      <td>...</td>\n",
       "      <td>...</td>\n",
       "      <td>...</td>\n",
       "      <td>...</td>\n",
       "      <td>...</td>\n",
       "      <td>...</td>\n",
       "      <td>...</td>\n",
       "      <td>...</td>\n",
       "      <td>...</td>\n",
       "      <td>...</td>\n",
       "      <td>...</td>\n",
       "      <td>...</td>\n",
       "      <td>...</td>\n",
       "    </tr>\n",
       "    <tr>\n",
       "      <th>643685</th>\n",
       "      <td>1827860</td>\n",
       "      <td>2013</td>\n",
       "      <td>1</td>\n",
       "      <td>0</td>\n",
       "      <td>0</td>\n",
       "      <td>0</td>\n",
       "      <td>1</td>\n",
       "      <td>0</td>\n",
       "      <td>0</td>\n",
       "      <td>1</td>\n",
       "      <td>...</td>\n",
       "      <td>0.000000</td>\n",
       "      <td>0.000000</td>\n",
       "      <td>0.000000</td>\n",
       "      <td>0.000000</td>\n",
       "      <td>0.612903</td>\n",
       "      <td>0.000000</td>\n",
       "      <td>0.000000</td>\n",
       "      <td>0.000000</td>\n",
       "      <td>0.000000</td>\n",
       "      <td>0.000000</td>\n",
       "    </tr>\n",
       "    <tr>\n",
       "      <th>643686</th>\n",
       "      <td>1827860</td>\n",
       "      <td>2015</td>\n",
       "      <td>2</td>\n",
       "      <td>1</td>\n",
       "      <td>0</td>\n",
       "      <td>0</td>\n",
       "      <td>1</td>\n",
       "      <td>0</td>\n",
       "      <td>1</td>\n",
       "      <td>0</td>\n",
       "      <td>...</td>\n",
       "      <td>0.000000</td>\n",
       "      <td>0.000000</td>\n",
       "      <td>0.212121</td>\n",
       "      <td>0.212121</td>\n",
       "      <td>17.363636</td>\n",
       "      <td>0.000000</td>\n",
       "      <td>8.909091</td>\n",
       "      <td>0.000000</td>\n",
       "      <td>0.000000</td>\n",
       "      <td>7.121212</td>\n",
       "    </tr>\n",
       "    <tr>\n",
       "      <th>643687</th>\n",
       "      <td>1827860</td>\n",
       "      <td>2016</td>\n",
       "      <td>3</td>\n",
       "      <td>1</td>\n",
       "      <td>0</td>\n",
       "      <td>0</td>\n",
       "      <td>1</td>\n",
       "      <td>1</td>\n",
       "      <td>0</td>\n",
       "      <td>1</td>\n",
       "      <td>...</td>\n",
       "      <td>0.000000</td>\n",
       "      <td>0.000000</td>\n",
       "      <td>0.294118</td>\n",
       "      <td>0.205882</td>\n",
       "      <td>34.705882</td>\n",
       "      <td>0.000000</td>\n",
       "      <td>10.352941</td>\n",
       "      <td>1.705882</td>\n",
       "      <td>1.705882</td>\n",
       "      <td>23.911765</td>\n",
       "    </tr>\n",
       "    <tr>\n",
       "      <th>643688</th>\n",
       "      <td>1827869</td>\n",
       "      <td>2013</td>\n",
       "      <td>1</td>\n",
       "      <td>1</td>\n",
       "      <td>1</td>\n",
       "      <td>0</td>\n",
       "      <td>0</td>\n",
       "      <td>0</td>\n",
       "      <td>1</td>\n",
       "      <td>0</td>\n",
       "      <td>...</td>\n",
       "      <td>0.000000</td>\n",
       "      <td>0.000000</td>\n",
       "      <td>0.000000</td>\n",
       "      <td>0.000000</td>\n",
       "      <td>0.000000</td>\n",
       "      <td>0.525424</td>\n",
       "      <td>0.000000</td>\n",
       "      <td>0.000000</td>\n",
       "      <td>0.000000</td>\n",
       "      <td>0.000000</td>\n",
       "    </tr>\n",
       "    <tr>\n",
       "      <th>643689</th>\n",
       "      <td>1827869</td>\n",
       "      <td>2014</td>\n",
       "      <td>2</td>\n",
       "      <td>0</td>\n",
       "      <td>0</td>\n",
       "      <td>1</td>\n",
       "      <td>0</td>\n",
       "      <td>0</td>\n",
       "      <td>1</td>\n",
       "      <td>0</td>\n",
       "      <td>...</td>\n",
       "      <td>0.000000</td>\n",
       "      <td>0.666667</td>\n",
       "      <td>0.666667</td>\n",
       "      <td>0.000000</td>\n",
       "      <td>0.000000</td>\n",
       "      <td>8.950000</td>\n",
       "      <td>1.033333</td>\n",
       "      <td>0.083333</td>\n",
       "      <td>0.083333</td>\n",
       "      <td>8.133333</td>\n",
       "    </tr>\n",
       "  </tbody>\n",
       "</table>\n",
       "<p>643690 rows × 164 columns</p>\n",
       "</div>"
      ],
      "text/plain": [
       "         persnr  year  nrEntry  ltue  employed_before  receipt_leh_before  \\\n",
       "0             7  2015        1     0                1                   0   \n",
       "1            18  2010        1     1                0                   0   \n",
       "2            18  2011        2     0                1                   0   \n",
       "3            18  2012        3     0                1                   0   \n",
       "4            18  2012        4     0                1                   0   \n",
       "...         ...   ...      ...   ...              ...                 ...   \n",
       "643685  1827860  2013        1     0                0                   0   \n",
       "643686  1827860  2015        2     1                0                   0   \n",
       "643687  1827860  2016        3     1                0                   0   \n",
       "643688  1827869  2013        1     1                1                   0   \n",
       "643689  1827869  2014        2     0                0                   1   \n",
       "\n",
       "        receipt_lhg_before  se_before  ASU_notue_seeking_before  \\\n",
       "0                        0          0                         1   \n",
       "1                        0          0                         0   \n",
       "2                        1          0                         1   \n",
       "3                        1          0                         1   \n",
       "4                        1          0                         1   \n",
       "...                    ...        ...                       ...   \n",
       "643685                   1          0                         0   \n",
       "643686                   1          0                         1   \n",
       "643687                   1          1                         0   \n",
       "643688                   0          0                         1   \n",
       "643689                   0          0                         1   \n",
       "\n",
       "        ASU_other_before  ...  minijob_tot_dur_byage  ft_tot_dur_byage  \\\n",
       "0                      0  ...               0.000000          0.000000   \n",
       "1                      0  ...               0.000000          0.000000   \n",
       "2                      0  ...               2.714286          2.714286   \n",
       "3                      0  ...               4.200000          4.200000   \n",
       "4                      0  ...               5.460000          5.460000   \n",
       "...                  ...  ...                    ...               ...   \n",
       "643685                 1  ...               0.000000          0.000000   \n",
       "643686                 0  ...               0.000000          0.000000   \n",
       "643687                 1  ...               0.000000          0.000000   \n",
       "643688                 0  ...               0.000000          0.000000   \n",
       "643689                 0  ...               0.000000          0.666667   \n",
       "\n",
       "        befrist_tot_dur_byage  leih_tot_dur_byage  LHG_tot_dur_byage  \\\n",
       "0                   15.043478            0.000000           0.000000   \n",
       "1                    0.000000            0.000000           0.000000   \n",
       "2                    0.000000            0.000000          10.775510   \n",
       "3                    0.000000            0.000000          12.100000   \n",
       "4                    0.000000            0.000000          13.360000   \n",
       "...                       ...                 ...                ...   \n",
       "643685               0.000000            0.000000           0.612903   \n",
       "643686               0.212121            0.212121          17.363636   \n",
       "643687               0.294118            0.205882          34.705882   \n",
       "643688               0.000000            0.000000           0.000000   \n",
       "643689               0.666667            0.000000           0.000000   \n",
       "\n",
       "        LEH_tot_dur_byage  almp_tot_dur_byage  almp_aw_tot_dur_byage  \\\n",
       "0                0.000000            0.000000               0.000000   \n",
       "1                0.000000            0.000000               0.000000   \n",
       "2                0.000000            8.367347               0.000000   \n",
       "3                0.000000            9.400000               0.000000   \n",
       "4                0.000000           10.320000               0.000000   \n",
       "...                   ...                 ...                    ...   \n",
       "643685           0.000000            0.000000               0.000000   \n",
       "643686           0.000000            8.909091               0.000000   \n",
       "643687           0.000000           10.352941               1.705882   \n",
       "643688           0.525424            0.000000               0.000000   \n",
       "643689           8.950000            1.033333               0.083333   \n",
       "\n",
       "        se_tot_dur_byage  seeking1_tot_dur_byage  \n",
       "0               0.000000                0.000000  \n",
       "1               0.000000                0.000000  \n",
       "2               0.000000                9.836735  \n",
       "3               0.000000                9.960000  \n",
       "4               0.000000               10.280000  \n",
       "...                  ...                     ...  \n",
       "643685          0.000000                0.000000  \n",
       "643686          0.000000                7.121212  \n",
       "643687          1.705882               23.911765  \n",
       "643688          0.000000                0.000000  \n",
       "643689          0.083333                8.133333  \n",
       "\n",
       "[643690 rows x 164 columns]"
      ]
     },
     "execution_count": 10,
     "metadata": {},
     "output_type": "execute_result"
    }
   ],
   "source": [
    "siab"
   ]
  },
  {
   "cell_type": "markdown",
   "id": "1f87e805",
   "metadata": {
    "papermill": {
     "duration": 0.009912,
     "end_time": "2025-08-19T18:30:58.986515",
     "exception": false,
     "start_time": "2025-08-19T18:30:58.976603",
     "status": "completed"
    },
    "tags": []
   },
   "source": [
    "# Splitting Data and Setting Training Data Size"
   ]
  },
  {
   "cell_type": "code",
   "execution_count": 11,
   "id": "910ae358",
   "metadata": {
    "execution": {
     "iopub.execute_input": "2025-08-19T18:30:59.009352Z",
     "iopub.status.busy": "2025-08-19T18:30:59.008304Z",
     "iopub.status.idle": "2025-08-19T18:30:59.283778Z",
     "shell.execute_reply": "2025-08-19T18:30:59.283085Z"
    },
    "papermill": {
     "duration": 0.288587,
     "end_time": "2025-08-19T18:30:59.285345",
     "exception": false,
     "start_time": "2025-08-19T18:30:58.996758",
     "status": "completed"
    },
    "tags": []
   },
   "outputs": [],
   "source": [
    "from fairness_multiverse.universe import sample_by_year_size\n",
    "\n",
    "siab_train = sample_by_year_size(siab,\n",
    "                               training_year=universe[\"training_year\"],\n",
    "                               training_size=universe[\"training_size\"])"
   ]
  },
  {
   "cell_type": "code",
   "execution_count": 12,
   "id": "919c8ff5",
   "metadata": {
    "execution": {
     "iopub.execute_input": "2025-08-19T18:30:59.308023Z",
     "iopub.status.busy": "2025-08-19T18:30:59.306932Z",
     "iopub.status.idle": "2025-08-19T18:30:59.319806Z",
     "shell.execute_reply": "2025-08-19T18:30:59.318304Z"
    },
    "papermill": {
     "duration": 0.030486,
     "end_time": "2025-08-19T18:30:59.326268",
     "exception": false,
     "start_time": "2025-08-19T18:30:59.295782",
     "status": "completed"
    },
    "tags": []
   },
   "outputs": [
    {
     "data": {
      "text/plain": [
       "(5000, 164)"
      ]
     },
     "execution_count": 12,
     "metadata": {},
     "output_type": "execute_result"
    }
   ],
   "source": [
    "siab_train.shape"
   ]
  },
  {
   "cell_type": "code",
   "execution_count": 13,
   "id": "feb13bf4",
   "metadata": {
    "execution": {
     "iopub.execute_input": "2025-08-19T18:30:59.353167Z",
     "iopub.status.busy": "2025-08-19T18:30:59.352810Z",
     "iopub.status.idle": "2025-08-19T18:30:59.361750Z",
     "shell.execute_reply": "2025-08-19T18:30:59.360963Z"
    },
    "papermill": {
     "duration": 0.0245,
     "end_time": "2025-08-19T18:30:59.366245",
     "exception": false,
     "start_time": "2025-08-19T18:30:59.341745",
     "status": "completed"
    },
    "tags": []
   },
   "outputs": [
    {
     "data": {
      "text/plain": [
       "year\n",
       "2014    5000\n",
       "dtype: int64"
      ]
     },
     "metadata": {},
     "output_type": "display_data"
    }
   ],
   "source": [
    "display(siab_train.groupby(\"year\").size())"
   ]
  },
  {
   "cell_type": "code",
   "execution_count": 14,
   "id": "0997782f",
   "metadata": {
    "execution": {
     "iopub.execute_input": "2025-08-19T18:30:59.394995Z",
     "iopub.status.busy": "2025-08-19T18:30:59.394612Z",
     "iopub.status.idle": "2025-08-19T18:30:59.651460Z",
     "shell.execute_reply": "2025-08-19T18:30:59.650273Z"
    },
    "papermill": {
     "duration": 0.271859,
     "end_time": "2025-08-19T18:30:59.654250",
     "exception": false,
     "start_time": "2025-08-19T18:30:59.382391",
     "status": "completed"
    },
    "tags": []
   },
   "outputs": [],
   "source": [
    "#siab_train = siab_s[siab_s.year < 2015]\n",
    "siab_calib = siab[siab.year == 2015]\n",
    "siab_test = siab[siab.year == 2016]"
   ]
  },
  {
   "cell_type": "code",
   "execution_count": 15,
   "id": "2c1e4012",
   "metadata": {
    "execution": {
     "iopub.execute_input": "2025-08-19T18:30:59.691074Z",
     "iopub.status.busy": "2025-08-19T18:30:59.690202Z",
     "iopub.status.idle": "2025-08-19T18:30:59.697236Z",
     "shell.execute_reply": "2025-08-19T18:30:59.696035Z"
    },
    "papermill": {
     "duration": 0.022319,
     "end_time": "2025-08-19T18:30:59.698850",
     "exception": false,
     "start_time": "2025-08-19T18:30:59.676531",
     "status": "completed"
    },
    "tags": []
   },
   "outputs": [],
   "source": [
    "#siab_calib.shape"
   ]
  },
  {
   "cell_type": "code",
   "execution_count": 16,
   "id": "f66b54ca",
   "metadata": {
    "execution": {
     "iopub.execute_input": "2025-08-19T18:30:59.721567Z",
     "iopub.status.busy": "2025-08-19T18:30:59.720395Z",
     "iopub.status.idle": "2025-08-19T18:30:59.727530Z",
     "shell.execute_reply": "2025-08-19T18:30:59.726382Z"
    },
    "papermill": {
     "duration": 0.02023,
     "end_time": "2025-08-19T18:30:59.729092",
     "exception": false,
     "start_time": "2025-08-19T18:30:59.708862",
     "status": "completed"
    },
    "tags": []
   },
   "outputs": [],
   "source": [
    "#siab_test.shape"
   ]
  },
  {
   "cell_type": "code",
   "execution_count": 17,
   "id": "27e4384d",
   "metadata": {
    "execution": {
     "iopub.execute_input": "2025-08-19T18:30:59.751230Z",
     "iopub.status.busy": "2025-08-19T18:30:59.750352Z",
     "iopub.status.idle": "2025-08-19T18:30:59.763437Z",
     "shell.execute_reply": "2025-08-19T18:30:59.762272Z"
    },
    "papermill": {
     "duration": 0.026007,
     "end_time": "2025-08-19T18:30:59.765060",
     "exception": false,
     "start_time": "2025-08-19T18:30:59.739053",
     "status": "completed"
    },
    "tags": []
   },
   "outputs": [],
   "source": [
    "X_train = siab_train.iloc[:,4:164]\n",
    "y_train = siab_train.iloc[:, [3]]"
   ]
  },
  {
   "cell_type": "code",
   "execution_count": 18,
   "id": "08ee8389",
   "metadata": {
    "execution": {
     "iopub.execute_input": "2025-08-19T18:30:59.794836Z",
     "iopub.status.busy": "2025-08-19T18:30:59.793807Z",
     "iopub.status.idle": "2025-08-19T18:30:59.857067Z",
     "shell.execute_reply": "2025-08-19T18:30:59.855703Z"
    },
    "papermill": {
     "duration": 0.079914,
     "end_time": "2025-08-19T18:30:59.860533",
     "exception": false,
     "start_time": "2025-08-19T18:30:59.780619",
     "status": "completed"
    },
    "tags": []
   },
   "outputs": [],
   "source": [
    "X_calib = siab_calib.iloc[:,4:164]\n",
    "y_calib = siab_calib.iloc[:, [3]]"
   ]
  },
  {
   "cell_type": "code",
   "execution_count": 19,
   "id": "b7ff42e0",
   "metadata": {
    "execution": {
     "iopub.execute_input": "2025-08-19T18:30:59.895519Z",
     "iopub.status.busy": "2025-08-19T18:30:59.894685Z",
     "iopub.status.idle": "2025-08-19T18:30:59.955305Z",
     "shell.execute_reply": "2025-08-19T18:30:59.954060Z"
    },
    "papermill": {
     "duration": 0.076622,
     "end_time": "2025-08-19T18:30:59.958260",
     "exception": false,
     "start_time": "2025-08-19T18:30:59.881638",
     "status": "completed"
    },
    "tags": []
   },
   "outputs": [],
   "source": [
    "X_test = siab_test.iloc[:,4:164]\n",
    "y_true = siab_test.iloc[:, [3]]"
   ]
  },
  {
   "cell_type": "code",
   "execution_count": 20,
   "id": "0275101e",
   "metadata": {
    "execution": {
     "iopub.execute_input": "2025-08-19T18:30:59.994188Z",
     "iopub.status.busy": "2025-08-19T18:30:59.993193Z",
     "iopub.status.idle": "2025-08-19T18:31:00.112704Z",
     "shell.execute_reply": "2025-08-19T18:31:00.111586Z"
    },
    "papermill": {
     "duration": 0.135575,
     "end_time": "2025-08-19T18:31:00.115412",
     "exception": false,
     "start_time": "2025-08-19T18:30:59.979837",
     "status": "completed"
    },
    "tags": []
   },
   "outputs": [],
   "source": [
    "# Auxiliary data needed downstream in the pipeline\n",
    "\n",
    "org_train = X_train.copy()\n",
    "org_test = X_test.copy()\n",
    "org_calib = X_calib.copy()"
   ]
  },
  {
   "cell_type": "markdown",
   "id": "b461e618",
   "metadata": {
    "papermill": {
     "duration": 0.01226,
     "end_time": "2025-08-19T18:31:00.152293",
     "exception": false,
     "start_time": "2025-08-19T18:31:00.140033",
     "status": "completed"
    },
    "tags": []
   },
   "source": [
    "# Preprocessing Data"
   ]
  },
  {
   "cell_type": "code",
   "execution_count": 21,
   "id": "78e74c4b",
   "metadata": {
    "execution": {
     "iopub.execute_input": "2025-08-19T18:31:00.175067Z",
     "iopub.status.busy": "2025-08-19T18:31:00.173964Z",
     "iopub.status.idle": "2025-08-19T18:31:00.183478Z",
     "shell.execute_reply": "2025-08-19T18:31:00.182260Z"
    },
    "papermill": {
     "duration": 0.022878,
     "end_time": "2025-08-19T18:31:00.185141",
     "exception": false,
     "start_time": "2025-08-19T18:31:00.162263",
     "status": "completed"
    },
    "tags": []
   },
   "outputs": [],
   "source": [
    "# EXCLUDE PROTECTED FEATURES\n",
    "# --------------------------\n",
    "\n",
    "excluded_features = universe[\"exclude_features\"].split(\"-\")\n",
    "excluded_features_dictionary = {\n",
    "    \"nationality\": [\"maxdeutsch1\", \"maxdeutsch.Missing.\"],\n",
    "    \"sex\": [\"frau1\"],\n",
    "    \"age\": [\"age\"],\n",
    "}"
   ]
  },
  {
   "cell_type": "code",
   "execution_count": 22,
   "id": "f8e63555",
   "metadata": {
    "execution": {
     "iopub.execute_input": "2025-08-19T18:31:00.209981Z",
     "iopub.status.busy": "2025-08-19T18:31:00.209026Z",
     "iopub.status.idle": "2025-08-19T18:31:00.219802Z",
     "shell.execute_reply": "2025-08-19T18:31:00.215814Z"
    },
    "papermill": {
     "duration": 0.025103,
     "end_time": "2025-08-19T18:31:00.222168",
     "exception": false,
     "start_time": "2025-08-19T18:31:00.197065",
     "status": "completed"
    },
    "tags": []
   },
   "outputs": [],
   "source": [
    "excluded_features_columns = [\n",
    "    excluded_features_dictionary[f] for f in excluded_features if len(f) > 0 and f != \"none\"\n",
    "]"
   ]
  },
  {
   "cell_type": "code",
   "execution_count": 23,
   "id": "da781f7c",
   "metadata": {
    "execution": {
     "iopub.execute_input": "2025-08-19T18:31:00.251554Z",
     "iopub.status.busy": "2025-08-19T18:31:00.249802Z",
     "iopub.status.idle": "2025-08-19T18:31:00.262680Z",
     "shell.execute_reply": "2025-08-19T18:31:00.261574Z"
    },
    "papermill": {
     "duration": 0.028057,
     "end_time": "2025-08-19T18:31:00.264434",
     "exception": false,
     "start_time": "2025-08-19T18:31:00.236377",
     "status": "completed"
    },
    "tags": []
   },
   "outputs": [],
   "source": [
    "from fairness_multiverse.universe import flatten_once\n",
    "\n",
    "excluded_features_columns = flatten_once(excluded_features_columns)"
   ]
  },
  {
   "cell_type": "code",
   "execution_count": 24,
   "id": "37fef0f0",
   "metadata": {
    "execution": {
     "iopub.execute_input": "2025-08-19T18:31:00.290631Z",
     "iopub.status.busy": "2025-08-19T18:31:00.289735Z",
     "iopub.status.idle": "2025-08-19T18:31:00.310068Z",
     "shell.execute_reply": "2025-08-19T18:31:00.308934Z"
    },
    "papermill": {
     "duration": 0.035803,
     "end_time": "2025-08-19T18:31:00.313313",
     "exception": false,
     "start_time": "2025-08-19T18:31:00.277510",
     "status": "completed"
    },
    "tags": []
   },
   "outputs": [
    {
     "name": "stdout",
     "output_type": "stream",
     "text": [
      "Dropping features: ['age']\n"
     ]
    }
   ],
   "source": [
    "if len(excluded_features_columns) > 0:\n",
    "    print(f\"Dropping features: {excluded_features_columns}\")\n",
    "    X_train.drop(excluded_features_columns, axis=1, inplace=True)"
   ]
  },
  {
   "cell_type": "code",
   "execution_count": 25,
   "id": "d029e3e9",
   "metadata": {
    "execution": {
     "iopub.execute_input": "2025-08-19T18:31:00.343271Z",
     "iopub.status.busy": "2025-08-19T18:31:00.342219Z",
     "iopub.status.idle": "2025-08-19T18:31:00.405324Z",
     "shell.execute_reply": "2025-08-19T18:31:00.404151Z"
    },
    "papermill": {
     "duration": 0.082453,
     "end_time": "2025-08-19T18:31:00.412626",
     "exception": false,
     "start_time": "2025-08-19T18:31:00.330173",
     "status": "completed"
    },
    "tags": []
   },
   "outputs": [
    {
     "name": "stdout",
     "output_type": "stream",
     "text": [
      "Dropping features: ['age']\n"
     ]
    }
   ],
   "source": [
    "if len(excluded_features_columns) > 0:\n",
    "    print(f\"Dropping features: {excluded_features_columns}\")\n",
    "    X_test.drop(excluded_features_columns, axis=1, inplace=True)"
   ]
  },
  {
   "cell_type": "code",
   "execution_count": 26,
   "id": "01d571f0",
   "metadata": {
    "execution": {
     "iopub.execute_input": "2025-08-19T18:31:00.446529Z",
     "iopub.status.busy": "2025-08-19T18:31:00.445538Z",
     "iopub.status.idle": "2025-08-19T18:31:00.503427Z",
     "shell.execute_reply": "2025-08-19T18:31:00.502289Z"
    },
    "papermill": {
     "duration": 0.074227,
     "end_time": "2025-08-19T18:31:00.507455",
     "exception": false,
     "start_time": "2025-08-19T18:31:00.433228",
     "status": "completed"
    },
    "tags": []
   },
   "outputs": [
    {
     "name": "stdout",
     "output_type": "stream",
     "text": [
      "Dropping features: ['age']\n"
     ]
    }
   ],
   "source": [
    "if len(excluded_features_columns) > 0:\n",
    "    print(f\"Dropping features: {excluded_features_columns}\")\n",
    "    X_calib.drop(excluded_features_columns, axis=1, inplace=True)"
   ]
  },
  {
   "cell_type": "code",
   "execution_count": 27,
   "id": "3037356e",
   "metadata": {
    "execution": {
     "iopub.execute_input": "2025-08-19T18:31:00.544373Z",
     "iopub.status.busy": "2025-08-19T18:31:00.543373Z",
     "iopub.status.idle": "2025-08-19T18:31:00.551971Z",
     "shell.execute_reply": "2025-08-19T18:31:00.550784Z"
    },
    "papermill": {
     "duration": 0.022731,
     "end_time": "2025-08-19T18:31:00.553669",
     "exception": false,
     "start_time": "2025-08-19T18:31:00.530938",
     "status": "completed"
    },
    "tags": []
   },
   "outputs": [],
   "source": [
    "# EXCLUDE CERTAIN SUBGROUPS\n",
    "# -------------------------\n",
    "\n",
    "mode = universe.get(\"exclude_subgroups\", \"keep-all\") # Defaults to \"keep-all\" if the key is missing."
   ]
  },
  {
   "cell_type": "code",
   "execution_count": 28,
   "id": "9d1e63fd",
   "metadata": {
    "execution": {
     "iopub.execute_input": "2025-08-19T18:31:00.580356Z",
     "iopub.status.busy": "2025-08-19T18:31:00.579461Z",
     "iopub.status.idle": "2025-08-19T18:31:00.590196Z",
     "shell.execute_reply": "2025-08-19T18:31:00.588993Z"
    },
    "papermill": {
     "duration": 0.025278,
     "end_time": "2025-08-19T18:31:00.591820",
     "exception": false,
     "start_time": "2025-08-19T18:31:00.566542",
     "status": "completed"
    },
    "tags": []
   },
   "outputs": [],
   "source": [
    "if mode == \"keep-all\":\n",
    "    keep_mask = pd.Series(True, index=org_train.index)\n",
    "\n",
    "elif mode == \"drop-non-german\":\n",
    "    keep_mask = (org_train[\"maxdeutsch1\"] == 1) & (org_train[\"maxdeutsch.Missing.\"] == 0)\n",
    "\n",
    "else:\n",
    "    raise ValueError(f\"Unsupported mode for exclude_subgroups: {mode}\")"
   ]
  },
  {
   "cell_type": "code",
   "execution_count": 29,
   "id": "d3b65474",
   "metadata": {
    "execution": {
     "iopub.execute_input": "2025-08-19T18:31:00.617987Z",
     "iopub.status.busy": "2025-08-19T18:31:00.617099Z",
     "iopub.status.idle": "2025-08-19T18:31:00.626803Z",
     "shell.execute_reply": "2025-08-19T18:31:00.625547Z"
    },
    "papermill": {
     "duration": 0.023338,
     "end_time": "2025-08-19T18:31:00.628516",
     "exception": false,
     "start_time": "2025-08-19T18:31:00.605178",
     "status": "completed"
    },
    "tags": []
   },
   "outputs": [],
   "source": [
    "n_drop = (~keep_mask).sum() # Calculates how many rows are set to be dropped\n",
    "if n_drop > 0:\n",
    "    pct = n_drop / len(keep_mask) * 100\n",
    "    print(f\"Dropping {n_drop} rows ({pct:.2f}%) where mode='{mode}'\")"
   ]
  },
  {
   "cell_type": "code",
   "execution_count": 30,
   "id": "f44389b3",
   "metadata": {
    "execution": {
     "iopub.execute_input": "2025-08-19T18:31:00.654999Z",
     "iopub.status.busy": "2025-08-19T18:31:00.654071Z",
     "iopub.status.idle": "2025-08-19T18:31:00.665500Z",
     "shell.execute_reply": "2025-08-19T18:31:00.664455Z"
    },
    "papermill": {
     "duration": 0.025191,
     "end_time": "2025-08-19T18:31:00.667171",
     "exception": false,
     "start_time": "2025-08-19T18:31:00.641980",
     "status": "completed"
    },
    "tags": []
   },
   "outputs": [],
   "source": [
    "X_train = X_train[keep_mask]"
   ]
  },
  {
   "cell_type": "code",
   "execution_count": 31,
   "id": "ceca8c2a",
   "metadata": {
    "execution": {
     "iopub.execute_input": "2025-08-19T18:31:00.693256Z",
     "iopub.status.busy": "2025-08-19T18:31:00.692170Z",
     "iopub.status.idle": "2025-08-19T18:31:00.700291Z",
     "shell.execute_reply": "2025-08-19T18:31:00.699156Z"
    },
    "papermill": {
     "duration": 0.021978,
     "end_time": "2025-08-19T18:31:00.701865",
     "exception": false,
     "start_time": "2025-08-19T18:31:00.679887",
     "status": "completed"
    },
    "tags": []
   },
   "outputs": [],
   "source": [
    "y_train = y_train[keep_mask]"
   ]
  },
  {
   "cell_type": "markdown",
   "id": "04d31e2f",
   "metadata": {
    "papermill": {
     "duration": 0.010422,
     "end_time": "2025-08-19T18:31:00.724515",
     "exception": false,
     "start_time": "2025-08-19T18:31:00.714093",
     "status": "completed"
    },
    "tags": []
   },
   "source": [
    "# Model Training"
   ]
  },
  {
   "cell_type": "code",
   "execution_count": 32,
   "id": "db991733",
   "metadata": {
    "execution": {
     "iopub.execute_input": "2025-08-19T18:31:00.747802Z",
     "iopub.status.busy": "2025-08-19T18:31:00.746709Z",
     "iopub.status.idle": "2025-08-19T18:31:00.860342Z",
     "shell.execute_reply": "2025-08-19T18:31:00.859166Z"
    },
    "papermill": {
     "duration": 0.128555,
     "end_time": "2025-08-19T18:31:00.863367",
     "exception": false,
     "start_time": "2025-08-19T18:31:00.734812",
     "status": "completed"
    },
    "tags": []
   },
   "outputs": [],
   "source": [
    "from sklearn.linear_model import LogisticRegression\n",
    "from sklearn.ensemble import GradientBoostingClassifier, RandomForestClassifier\n",
    "\n",
    "if (universe[\"model\"] == \"logreg\"):\n",
    "    model = LogisticRegression() #penalty=\"none\", solver=\"newton-cg\", max_iter=1)\n",
    "elif (universe[\"model\"] == \"penalized_logreg\"):\n",
    "    model = LogisticRegression(penalty=\"l2\", C=0.1) #, solver=\"newton-cg\", max_iter=1)\n",
    "elif (universe[\"model\"] == \"rf\"):\n",
    "    model = RandomForestClassifier() # n_estimators=100, n_jobs=-1\n",
    "elif (universe[\"model\"] == \"gbm\"):\n",
    "    model = GradientBoostingClassifier()\n",
    "elif (universe[\"model\"] == \"elasticnet\"):\n",
    "    model = LogisticRegression(penalty = 'elasticnet', solver = 'saga', l1_ratio = 0.5) # max_iter=5000\n",
    "else:\n",
    "    raise \"Unsupported universe.model\""
   ]
  },
  {
   "cell_type": "code",
   "execution_count": 33,
   "id": "a4b5cd25",
   "metadata": {
    "execution": {
     "iopub.execute_input": "2025-08-19T18:31:00.903697Z",
     "iopub.status.busy": "2025-08-19T18:31:00.902754Z",
     "iopub.status.idle": "2025-08-19T18:31:00.911737Z",
     "shell.execute_reply": "2025-08-19T18:31:00.910561Z"
    },
    "papermill": {
     "duration": 0.024841,
     "end_time": "2025-08-19T18:31:00.913350",
     "exception": false,
     "start_time": "2025-08-19T18:31:00.888509",
     "status": "completed"
    },
    "tags": []
   },
   "outputs": [],
   "source": [
    "from sklearn.pipeline import Pipeline\n",
    "from sklearn.preprocessing import StandardScaler\n",
    "\n",
    "model = Pipeline([\n",
    "    #(\"continuous_processor\", continuous_processor),\n",
    "    #(\"categorical_preprocessor\", categorical_preprocessor),\n",
    "    (\"scale\", StandardScaler() if universe[\"scale\"] == \"scale\" else None), \n",
    "    (\"model\", model),\n",
    "])"
   ]
  },
  {
   "cell_type": "code",
   "execution_count": 34,
   "id": "283a904d",
   "metadata": {
    "execution": {
     "iopub.execute_input": "2025-08-19T18:31:00.938020Z",
     "iopub.status.busy": "2025-08-19T18:31:00.937334Z",
     "iopub.status.idle": "2025-08-19T18:31:02.188257Z",
     "shell.execute_reply": "2025-08-19T18:31:02.187133Z"
    },
    "papermill": {
     "duration": 1.265924,
     "end_time": "2025-08-19T18:31:02.190828",
     "exception": false,
     "start_time": "2025-08-19T18:31:00.924904",
     "status": "completed"
    },
    "tags": []
   },
   "outputs": [
    {
     "name": "stderr",
     "output_type": "stream",
     "text": [
      "/dss/dsshome1/0C/ra93lal2/.local/share/virtualenvs/CMA_Fairness_v2-3j10GkSs/lib/python3.10/site-packages/sklearn/linear_model/_sag.py:350: ConvergenceWarning: The max_iter was reached which means the coef_ did not converge\n",
      "  warnings.warn(\n"
     ]
    },
    {
     "data": {
      "text/html": [
       "<style>#sk-container-id-1 {color: black;background-color: white;}#sk-container-id-1 pre{padding: 0;}#sk-container-id-1 div.sk-toggleable {background-color: white;}#sk-container-id-1 label.sk-toggleable__label {cursor: pointer;display: block;width: 100%;margin-bottom: 0;padding: 0.3em;box-sizing: border-box;text-align: center;}#sk-container-id-1 label.sk-toggleable__label-arrow:before {content: \"▸\";float: left;margin-right: 0.25em;color: #696969;}#sk-container-id-1 label.sk-toggleable__label-arrow:hover:before {color: black;}#sk-container-id-1 div.sk-estimator:hover label.sk-toggleable__label-arrow:before {color: black;}#sk-container-id-1 div.sk-toggleable__content {max-height: 0;max-width: 0;overflow: hidden;text-align: left;background-color: #f0f8ff;}#sk-container-id-1 div.sk-toggleable__content pre {margin: 0.2em;color: black;border-radius: 0.25em;background-color: #f0f8ff;}#sk-container-id-1 input.sk-toggleable__control:checked~div.sk-toggleable__content {max-height: 200px;max-width: 100%;overflow: auto;}#sk-container-id-1 input.sk-toggleable__control:checked~label.sk-toggleable__label-arrow:before {content: \"▾\";}#sk-container-id-1 div.sk-estimator input.sk-toggleable__control:checked~label.sk-toggleable__label {background-color: #d4ebff;}#sk-container-id-1 div.sk-label input.sk-toggleable__control:checked~label.sk-toggleable__label {background-color: #d4ebff;}#sk-container-id-1 input.sk-hidden--visually {border: 0;clip: rect(1px 1px 1px 1px);clip: rect(1px, 1px, 1px, 1px);height: 1px;margin: -1px;overflow: hidden;padding: 0;position: absolute;width: 1px;}#sk-container-id-1 div.sk-estimator {font-family: monospace;background-color: #f0f8ff;border: 1px dotted black;border-radius: 0.25em;box-sizing: border-box;margin-bottom: 0.5em;}#sk-container-id-1 div.sk-estimator:hover {background-color: #d4ebff;}#sk-container-id-1 div.sk-parallel-item::after {content: \"\";width: 100%;border-bottom: 1px solid gray;flex-grow: 1;}#sk-container-id-1 div.sk-label:hover label.sk-toggleable__label {background-color: #d4ebff;}#sk-container-id-1 div.sk-serial::before {content: \"\";position: absolute;border-left: 1px solid gray;box-sizing: border-box;top: 0;bottom: 0;left: 50%;z-index: 0;}#sk-container-id-1 div.sk-serial {display: flex;flex-direction: column;align-items: center;background-color: white;padding-right: 0.2em;padding-left: 0.2em;position: relative;}#sk-container-id-1 div.sk-item {position: relative;z-index: 1;}#sk-container-id-1 div.sk-parallel {display: flex;align-items: stretch;justify-content: center;background-color: white;position: relative;}#sk-container-id-1 div.sk-item::before, #sk-container-id-1 div.sk-parallel-item::before {content: \"\";position: absolute;border-left: 1px solid gray;box-sizing: border-box;top: 0;bottom: 0;left: 50%;z-index: -1;}#sk-container-id-1 div.sk-parallel-item {display: flex;flex-direction: column;z-index: 1;position: relative;background-color: white;}#sk-container-id-1 div.sk-parallel-item:first-child::after {align-self: flex-end;width: 50%;}#sk-container-id-1 div.sk-parallel-item:last-child::after {align-self: flex-start;width: 50%;}#sk-container-id-1 div.sk-parallel-item:only-child::after {width: 0;}#sk-container-id-1 div.sk-dashed-wrapped {border: 1px dashed gray;margin: 0 0.4em 0.5em 0.4em;box-sizing: border-box;padding-bottom: 0.4em;background-color: white;}#sk-container-id-1 div.sk-label label {font-family: monospace;font-weight: bold;display: inline-block;line-height: 1.2em;}#sk-container-id-1 div.sk-label-container {text-align: center;}#sk-container-id-1 div.sk-container {/* jupyter's `normalize.less` sets `[hidden] { display: none; }` but bootstrap.min.css set `[hidden] { display: none !important; }` so we also need the `!important` here to be able to override the default hidden behavior on the sphinx rendered scikit-learn.org. See: https://github.com/scikit-learn/scikit-learn/issues/21755 */display: inline-block !important;position: relative;}#sk-container-id-1 div.sk-text-repr-fallback {display: none;}</style><div id=\"sk-container-id-1\" class=\"sk-top-container\"><div class=\"sk-text-repr-fallback\"><pre>Pipeline(steps=[(&#x27;scale&#x27;, None),\n",
       "                (&#x27;model&#x27;,\n",
       "                 LogisticRegression(l1_ratio=0.5, penalty=&#x27;elasticnet&#x27;,\n",
       "                                    solver=&#x27;saga&#x27;))])</pre><b>In a Jupyter environment, please rerun this cell to show the HTML representation or trust the notebook. <br />On GitHub, the HTML representation is unable to render, please try loading this page with nbviewer.org.</b></div><div class=\"sk-container\" hidden><div class=\"sk-item sk-dashed-wrapped\"><div class=\"sk-label-container\"><div class=\"sk-label sk-toggleable\"><input class=\"sk-toggleable__control sk-hidden--visually\" id=\"sk-estimator-id-1\" type=\"checkbox\" ><label for=\"sk-estimator-id-1\" class=\"sk-toggleable__label sk-toggleable__label-arrow\">Pipeline</label><div class=\"sk-toggleable__content\"><pre>Pipeline(steps=[(&#x27;scale&#x27;, None),\n",
       "                (&#x27;model&#x27;,\n",
       "                 LogisticRegression(l1_ratio=0.5, penalty=&#x27;elasticnet&#x27;,\n",
       "                                    solver=&#x27;saga&#x27;))])</pre></div></div></div><div class=\"sk-serial\"><div class=\"sk-item\"><div class=\"sk-estimator sk-toggleable\"><input class=\"sk-toggleable__control sk-hidden--visually\" id=\"sk-estimator-id-2\" type=\"checkbox\" ><label for=\"sk-estimator-id-2\" class=\"sk-toggleable__label sk-toggleable__label-arrow\">None</label><div class=\"sk-toggleable__content\"><pre>None</pre></div></div></div><div class=\"sk-item\"><div class=\"sk-estimator sk-toggleable\"><input class=\"sk-toggleable__control sk-hidden--visually\" id=\"sk-estimator-id-3\" type=\"checkbox\" ><label for=\"sk-estimator-id-3\" class=\"sk-toggleable__label sk-toggleable__label-arrow\">LogisticRegression</label><div class=\"sk-toggleable__content\"><pre>LogisticRegression(l1_ratio=0.5, penalty=&#x27;elasticnet&#x27;, solver=&#x27;saga&#x27;)</pre></div></div></div></div></div></div></div>"
      ],
      "text/plain": [
       "Pipeline(steps=[('scale', None),\n",
       "                ('model',\n",
       "                 LogisticRegression(l1_ratio=0.5, penalty='elasticnet',\n",
       "                                    solver='saga'))])"
      ]
     },
     "execution_count": 34,
     "metadata": {},
     "output_type": "execute_result"
    }
   ],
   "source": [
    "model.fit(X_train, y_train.values.ravel())"
   ]
  },
  {
   "cell_type": "code",
   "execution_count": 35,
   "id": "6e15e313",
   "metadata": {
    "execution": {
     "iopub.execute_input": "2025-08-19T18:31:02.224751Z",
     "iopub.status.busy": "2025-08-19T18:31:02.223264Z",
     "iopub.status.idle": "2025-08-19T18:31:02.338083Z",
     "shell.execute_reply": "2025-08-19T18:31:02.337043Z"
    },
    "papermill": {
     "duration": 0.132185,
     "end_time": "2025-08-19T18:31:02.342672",
     "exception": false,
     "start_time": "2025-08-19T18:31:02.210487",
     "status": "completed"
    },
    "tags": []
   },
   "outputs": [
    {
     "data": {
      "text/plain": [
       "0.8635603611637499"
      ]
     },
     "execution_count": 35,
     "metadata": {},
     "output_type": "execute_result"
    }
   ],
   "source": [
    "from fairness_multiverse.universe import predict_w_threshold\n",
    "\n",
    "probs_test = model.predict_proba(X_test)\n",
    "\n",
    "'''\n",
    "Below code returns a boolean array (or binary 0/1 array depending on how it’s used) where each element \n",
    "is True if the probability of class 1 is greater than or equal to the threshold, and False otherwise.\n",
    "'''\n",
    "y_pred_default = predict_w_threshold(probs_test, 0.5)\n",
    "\n",
    "from sklearn.metrics import accuracy_score\n",
    "\n",
    "# Naive prediction\n",
    "accuracy_score(y_true = y_true, y_pred = y_pred_default)"
   ]
  },
  {
   "cell_type": "code",
   "execution_count": 36,
   "id": "6f14067c",
   "metadata": {
    "execution": {
     "iopub.execute_input": "2025-08-19T18:31:02.382151Z",
     "iopub.status.busy": "2025-08-19T18:31:02.381095Z",
     "iopub.status.idle": "2025-08-19T18:31:02.477678Z",
     "shell.execute_reply": "2025-08-19T18:31:02.476716Z"
    },
    "papermill": {
     "duration": 0.115171,
     "end_time": "2025-08-19T18:31:02.482185",
     "exception": false,
     "start_time": "2025-08-19T18:31:02.367014",
     "status": "completed"
    },
    "tags": []
   },
   "outputs": [
    {
     "data": {
      "text/plain": [
       "array([0, 0, 0, ..., 0, 0, 0])"
      ]
     },
     "execution_count": 36,
     "metadata": {},
     "output_type": "execute_result"
    }
   ],
   "source": [
    "model.predict(X_test)"
   ]
  },
  {
   "cell_type": "markdown",
   "id": "3759920c",
   "metadata": {
    "papermill": {
     "duration": 0.012221,
     "end_time": "2025-08-19T18:31:02.517024",
     "exception": false,
     "start_time": "2025-08-19T18:31:02.504803",
     "status": "completed"
    },
    "tags": []
   },
   "source": [
    "# Conformal Prediction"
   ]
  },
  {
   "cell_type": "code",
   "execution_count": 37,
   "id": "14b27f59",
   "metadata": {
    "execution": {
     "iopub.execute_input": "2025-08-19T18:31:02.541568Z",
     "iopub.status.busy": "2025-08-19T18:31:02.540565Z",
     "iopub.status.idle": "2025-08-19T18:31:02.547959Z",
     "shell.execute_reply": "2025-08-19T18:31:02.546778Z"
    },
    "papermill": {
     "duration": 0.021619,
     "end_time": "2025-08-19T18:31:02.549571",
     "exception": false,
     "start_time": "2025-08-19T18:31:02.527952",
     "status": "completed"
    },
    "tags": []
   },
   "outputs": [],
   "source": [
    "# Miscoverage level for conformal prediction (10% allowed error rate => 90% target coverage)\n",
    "alpha = 0.1"
   ]
  },
  {
   "cell_type": "code",
   "execution_count": 38,
   "id": "59102472",
   "metadata": {
    "execution": {
     "iopub.execute_input": "2025-08-19T18:31:02.574467Z",
     "iopub.status.busy": "2025-08-19T18:31:02.573378Z",
     "iopub.status.idle": "2025-08-19T18:31:02.673043Z",
     "shell.execute_reply": "2025-08-19T18:31:02.671886Z"
    },
    "papermill": {
     "duration": 0.115065,
     "end_time": "2025-08-19T18:31:02.675787",
     "exception": false,
     "start_time": "2025-08-19T18:31:02.560722",
     "status": "completed"
    },
    "tags": []
   },
   "outputs": [],
   "source": [
    "probs_calib = model.predict_proba(X_calib)"
   ]
  },
  {
   "cell_type": "code",
   "execution_count": 39,
   "id": "a792d4dd",
   "metadata": {
    "execution": {
     "iopub.execute_input": "2025-08-19T18:31:02.715349Z",
     "iopub.status.busy": "2025-08-19T18:31:02.714348Z",
     "iopub.status.idle": "2025-08-19T18:31:02.722991Z",
     "shell.execute_reply": "2025-08-19T18:31:02.721839Z"
    },
    "papermill": {
     "duration": 0.024323,
     "end_time": "2025-08-19T18:31:02.724527",
     "exception": false,
     "start_time": "2025-08-19T18:31:02.700204",
     "status": "completed"
    },
    "tags": []
   },
   "outputs": [],
   "source": [
    "y_calib = y_calib.values.ravel().astype(int)"
   ]
  },
  {
   "cell_type": "code",
   "execution_count": 40,
   "id": "650fd033",
   "metadata": {
    "execution": {
     "iopub.execute_input": "2025-08-19T18:31:02.751175Z",
     "iopub.status.busy": "2025-08-19T18:31:02.750195Z",
     "iopub.status.idle": "2025-08-19T18:31:02.761761Z",
     "shell.execute_reply": "2025-08-19T18:31:02.760568Z"
    },
    "papermill": {
     "duration": 0.025876,
     "end_time": "2025-08-19T18:31:02.763539",
     "exception": false,
     "start_time": "2025-08-19T18:31:02.737663",
     "status": "completed"
    },
    "tags": []
   },
   "outputs": [],
   "source": [
    "from fairness_multiverse.conformal import compute_nc_scores\n",
    "\n",
    "# Compute nonconformity scores on calibration set (1 - probability of true class)\n",
    "nc_scores = compute_nc_scores(probs_calib, y_calib)"
   ]
  },
  {
   "cell_type": "code",
   "execution_count": 41,
   "id": "28ada44c",
   "metadata": {
    "execution": {
     "iopub.execute_input": "2025-08-19T18:31:02.793709Z",
     "iopub.status.busy": "2025-08-19T18:31:02.792795Z",
     "iopub.status.idle": "2025-08-19T18:31:02.802924Z",
     "shell.execute_reply": "2025-08-19T18:31:02.801776Z"
    },
    "papermill": {
     "duration": 0.025009,
     "end_time": "2025-08-19T18:31:02.804460",
     "exception": false,
     "start_time": "2025-08-19T18:31:02.779451",
     "status": "completed"
    },
    "tags": []
   },
   "outputs": [],
   "source": [
    "from fairness_multiverse.conformal import find_threshold\n",
    "\n",
    "# Find conformal threshold q_hat for the given alpha (split conformal method)\n",
    "q_hat = find_threshold(nc_scores, alpha)"
   ]
  },
  {
   "cell_type": "code",
   "execution_count": 42,
   "id": "df56469e",
   "metadata": {
    "execution": {
     "iopub.execute_input": "2025-08-19T18:31:02.832079Z",
     "iopub.status.busy": "2025-08-19T18:31:02.830987Z",
     "iopub.status.idle": "2025-08-19T18:31:02.841393Z",
     "shell.execute_reply": "2025-08-19T18:31:02.840199Z"
    },
    "papermill": {
     "duration": 0.024888,
     "end_time": "2025-08-19T18:31:02.843125",
     "exception": false,
     "start_time": "2025-08-19T18:31:02.818237",
     "status": "completed"
    },
    "tags": []
   },
   "outputs": [
    {
     "data": {
      "text/plain": [
       "0.6436723459186957"
      ]
     },
     "execution_count": 42,
     "metadata": {},
     "output_type": "execute_result"
    }
   ],
   "source": [
    "q_hat"
   ]
  },
  {
   "cell_type": "code",
   "execution_count": 43,
   "id": "aa1f5faa",
   "metadata": {
    "execution": {
     "iopub.execute_input": "2025-08-19T18:31:02.869761Z",
     "iopub.status.busy": "2025-08-19T18:31:02.868814Z",
     "iopub.status.idle": "2025-08-19T18:31:03.458552Z",
     "shell.execute_reply": "2025-08-19T18:31:03.457480Z"
    },
    "papermill": {
     "duration": 0.606084,
     "end_time": "2025-08-19T18:31:03.461940",
     "exception": false,
     "start_time": "2025-08-19T18:31:02.855856",
     "status": "completed"
    },
    "tags": []
   },
   "outputs": [],
   "source": [
    "from fairness_multiverse.conformal import predict_conformal_sets\n",
    "\n",
    "# Generate prediction sets for each test example\n",
    "pred_sets = predict_conformal_sets(model, X_test, q_hat)"
   ]
  },
  {
   "cell_type": "code",
   "execution_count": 44,
   "id": "97f67a6b",
   "metadata": {
    "execution": {
     "iopub.execute_input": "2025-08-19T18:31:03.503623Z",
     "iopub.status.busy": "2025-08-19T18:31:03.502471Z",
     "iopub.status.idle": "2025-08-19T18:31:03.510331Z",
     "shell.execute_reply": "2025-08-19T18:31:03.509168Z"
    },
    "papermill": {
     "duration": 0.024297,
     "end_time": "2025-08-19T18:31:03.511934",
     "exception": false,
     "start_time": "2025-08-19T18:31:03.487637",
     "status": "completed"
    },
    "tags": []
   },
   "outputs": [],
   "source": [
    "y_true = y_true.squeeze()"
   ]
  },
  {
   "cell_type": "code",
   "execution_count": 45,
   "id": "e700e9a7",
   "metadata": {
    "execution": {
     "iopub.execute_input": "2025-08-19T18:31:03.560743Z",
     "iopub.status.busy": "2025-08-19T18:31:03.560306Z",
     "iopub.status.idle": "2025-08-19T18:31:04.034223Z",
     "shell.execute_reply": "2025-08-19T18:31:04.033447Z"
    },
    "papermill": {
     "duration": 0.4914,
     "end_time": "2025-08-19T18:31:04.035921",
     "exception": false,
     "start_time": "2025-08-19T18:31:03.544521",
     "status": "completed"
    },
    "tags": []
   },
   "outputs": [],
   "source": [
    "from fairness_multiverse.conformal import evaluate_sets\n",
    "\n",
    "# Evaluate coverage and average set size on test data\n",
    "metrics = evaluate_sets(pred_sets, y_true)"
   ]
  },
  {
   "cell_type": "markdown",
   "id": "efbacec0",
   "metadata": {
    "papermill": {
     "duration": 0.011553,
     "end_time": "2025-08-19T18:31:04.059579",
     "exception": false,
     "start_time": "2025-08-19T18:31:04.048026",
     "status": "completed"
    },
    "tags": []
   },
   "source": [
    "# CP Metrics"
   ]
  },
  {
   "cell_type": "code",
   "execution_count": 46,
   "id": "9de55fb1",
   "metadata": {
    "execution": {
     "iopub.execute_input": "2025-08-19T18:31:04.084168Z",
     "iopub.status.busy": "2025-08-19T18:31:04.083742Z",
     "iopub.status.idle": "2025-08-19T18:31:04.089402Z",
     "shell.execute_reply": "2025-08-19T18:31:04.088707Z"
    },
    "papermill": {
     "duration": 0.019951,
     "end_time": "2025-08-19T18:31:04.090990",
     "exception": false,
     "start_time": "2025-08-19T18:31:04.071039",
     "status": "completed"
    },
    "tags": []
   },
   "outputs": [
    {
     "data": {
      "text/plain": [
       "{'coverage': 0.9119496154274885, 'avg_size': 1.2689443763237098}"
      ]
     },
     "execution_count": 46,
     "metadata": {},
     "output_type": "execute_result"
    }
   ],
   "source": [
    "metrics"
   ]
  },
  {
   "cell_type": "code",
   "execution_count": 47,
   "id": "64c340a1",
   "metadata": {
    "execution": {
     "iopub.execute_input": "2025-08-19T18:31:04.115666Z",
     "iopub.status.busy": "2025-08-19T18:31:04.115256Z",
     "iopub.status.idle": "2025-08-19T18:31:04.120277Z",
     "shell.execute_reply": "2025-08-19T18:31:04.119600Z"
    },
    "papermill": {
     "duration": 0.035342,
     "end_time": "2025-08-19T18:31:04.138021",
     "exception": false,
     "start_time": "2025-08-19T18:31:04.102679",
     "status": "completed"
    },
    "tags": []
   },
   "outputs": [],
   "source": [
    "example_universe = universe.copy()\n",
    "universe_training_year = example_universe.get(\"training_year\")\n",
    "universe_training_size = example_universe.get(\"training_size\")\n",
    "universe_scale = example_universe.get(\"scale\")\n",
    "universe_model = example_universe.get(\"model\")\n",
    "universe_exclude_features = example_universe.get(\"exclude_features\")\n",
    "universe_exclude_subgroups = example_universe.get(\"exclude_subgroups\")"
   ]
  },
  {
   "cell_type": "code",
   "execution_count": 48,
   "id": "dbb53cb4",
   "metadata": {
    "execution": {
     "iopub.execute_input": "2025-08-19T18:31:04.176255Z",
     "iopub.status.busy": "2025-08-19T18:31:04.175071Z",
     "iopub.status.idle": "2025-08-19T18:31:04.187848Z",
     "shell.execute_reply": "2025-08-19T18:31:04.186312Z"
    },
    "papermill": {
     "duration": 0.030075,
     "end_time": "2025-08-19T18:31:04.189791",
     "exception": false,
     "start_time": "2025-08-19T18:31:04.159716",
     "status": "completed"
    },
    "tags": []
   },
   "outputs": [],
   "source": [
    "cp_metrics_dict = {\n",
    "    \"universe_id\": [universe_id],\n",
    "    \"universe_training_year\": [universe_training_year],\n",
    "    \"universe_training_size\": [universe_training_size],\n",
    "    \"universe_scale\": [universe_scale],\n",
    "    \"universe_model\": [universe_model],\n",
    "    \"universe_exclude_features\": [universe_exclude_features],\n",
    "    \"universe_exclude_subgroups\": [universe_exclude_subgroups],\n",
    "    \"q_hat\": [q_hat],\n",
    "    \"coverage\": [metrics[\"coverage\"]],\n",
    "    \"avg_size\": [metrics[\"avg_size\"]],\n",
    "}"
   ]
  },
  {
   "cell_type": "code",
   "execution_count": 49,
   "id": "0d70d4b2",
   "metadata": {
    "execution": {
     "iopub.execute_input": "2025-08-19T18:31:04.219273Z",
     "iopub.status.busy": "2025-08-19T18:31:04.218642Z",
     "iopub.status.idle": "2025-08-19T18:31:04.225675Z",
     "shell.execute_reply": "2025-08-19T18:31:04.224915Z"
    },
    "papermill": {
     "duration": 0.022224,
     "end_time": "2025-08-19T18:31:04.226971",
     "exception": false,
     "start_time": "2025-08-19T18:31:04.204747",
     "status": "completed"
    },
    "tags": []
   },
   "outputs": [],
   "source": [
    "cp_metrics_df = pd.DataFrame(cp_metrics_dict)"
   ]
  },
  {
   "cell_type": "code",
   "execution_count": 50,
   "id": "b494403c",
   "metadata": {
    "execution": {
     "iopub.execute_input": "2025-08-19T18:31:04.268200Z",
     "iopub.status.busy": "2025-08-19T18:31:04.267217Z",
     "iopub.status.idle": "2025-08-19T18:31:04.289005Z",
     "shell.execute_reply": "2025-08-19T18:31:04.287980Z"
    },
    "papermill": {
     "duration": 0.038059,
     "end_time": "2025-08-19T18:31:04.290485",
     "exception": false,
     "start_time": "2025-08-19T18:31:04.252426",
     "status": "completed"
    },
    "tags": []
   },
   "outputs": [
    {
     "data": {
      "text/html": [
       "<div>\n",
       "<style scoped>\n",
       "    .dataframe tbody tr th:only-of-type {\n",
       "        vertical-align: middle;\n",
       "    }\n",
       "\n",
       "    .dataframe tbody tr th {\n",
       "        vertical-align: top;\n",
       "    }\n",
       "\n",
       "    .dataframe thead th {\n",
       "        text-align: right;\n",
       "    }\n",
       "</style>\n",
       "<table border=\"1\" class=\"dataframe\">\n",
       "  <thead>\n",
       "    <tr style=\"text-align: right;\">\n",
       "      <th></th>\n",
       "      <th>universe_id</th>\n",
       "      <th>universe_training_year</th>\n",
       "      <th>universe_training_size</th>\n",
       "      <th>universe_scale</th>\n",
       "      <th>universe_model</th>\n",
       "      <th>universe_exclude_features</th>\n",
       "      <th>universe_exclude_subgroups</th>\n",
       "      <th>q_hat</th>\n",
       "      <th>coverage</th>\n",
       "      <th>avg_size</th>\n",
       "    </tr>\n",
       "  </thead>\n",
       "  <tbody>\n",
       "    <tr>\n",
       "      <th>0</th>\n",
       "      <td>c6f6383279b91dcae6dd57748ac206f0</td>\n",
       "      <td>2014</td>\n",
       "      <td>5k</td>\n",
       "      <td>do-not-scale</td>\n",
       "      <td>elasticnet</td>\n",
       "      <td>age</td>\n",
       "      <td>keep-all</td>\n",
       "      <td>0.643672</td>\n",
       "      <td>0.91195</td>\n",
       "      <td>1.268944</td>\n",
       "    </tr>\n",
       "  </tbody>\n",
       "</table>\n",
       "</div>"
      ],
      "text/plain": [
       "                        universe_id universe_training_year  \\\n",
       "0  c6f6383279b91dcae6dd57748ac206f0                   2014   \n",
       "\n",
       "  universe_training_size universe_scale universe_model  \\\n",
       "0                     5k   do-not-scale     elasticnet   \n",
       "\n",
       "  universe_exclude_features universe_exclude_subgroups     q_hat  coverage  \\\n",
       "0                       age                   keep-all  0.643672   0.91195   \n",
       "\n",
       "   avg_size  \n",
       "0  1.268944  "
      ]
     },
     "execution_count": 50,
     "metadata": {},
     "output_type": "execute_result"
    }
   ],
   "source": [
    "cp_metrics_df"
   ]
  },
  {
   "cell_type": "markdown",
   "id": "ed608b0b",
   "metadata": {
    "papermill": {
     "duration": 0.01229,
     "end_time": "2025-08-19T18:31:04.316495",
     "exception": false,
     "start_time": "2025-08-19T18:31:04.304205",
     "status": "completed"
    },
    "tags": []
   },
   "source": [
    "Conditional coverage & looking at subgroups"
   ]
  },
  {
   "cell_type": "code",
   "execution_count": 51,
   "id": "8968c366",
   "metadata": {
    "execution": {
     "iopub.execute_input": "2025-08-19T18:31:04.342968Z",
     "iopub.status.busy": "2025-08-19T18:31:04.342408Z",
     "iopub.status.idle": "2025-08-19T18:31:04.584381Z",
     "shell.execute_reply": "2025-08-19T18:31:04.583680Z"
    },
    "papermill": {
     "duration": 0.257062,
     "end_time": "2025-08-19T18:31:04.585842",
     "exception": false,
     "start_time": "2025-08-19T18:31:04.328780",
     "status": "completed"
    },
    "tags": []
   },
   "outputs": [],
   "source": [
    "from fairness_multiverse.conformal import build_cp_groups\n",
    "\n",
    "cp_groups_df = build_cp_groups(pred_sets, y_true, X_test.index, org_test)"
   ]
  },
  {
   "cell_type": "code",
   "execution_count": 52,
   "id": "292ddabf",
   "metadata": {
    "execution": {
     "iopub.execute_input": "2025-08-19T18:31:04.622003Z",
     "iopub.status.busy": "2025-08-19T18:31:04.621576Z",
     "iopub.status.idle": "2025-08-19T18:31:05.451160Z",
     "shell.execute_reply": "2025-08-19T18:31:05.449999Z"
    },
    "papermill": {
     "duration": 0.851612,
     "end_time": "2025-08-19T18:31:05.452958",
     "exception": false,
     "start_time": "2025-08-19T18:31:04.601346",
     "status": "completed"
    },
    "tags": []
   },
   "outputs": [],
   "source": [
    "# Define covered = 1 if true_label is in the predicted set\n",
    "cp_groups_df['covered'] = cp_groups_df.apply(\n",
    "    lambda r: int(r['true_label'] in r['pred_set']),\n",
    "    axis=1\n",
    ")"
   ]
  },
  {
   "cell_type": "code",
   "execution_count": 53,
   "id": "3a261692",
   "metadata": {
    "execution": {
     "iopub.execute_input": "2025-08-19T18:31:05.481650Z",
     "iopub.status.busy": "2025-08-19T18:31:05.481169Z",
     "iopub.status.idle": "2025-08-19T18:31:05.492089Z",
     "shell.execute_reply": "2025-08-19T18:31:05.491471Z"
    },
    "papermill": {
     "duration": 0.026213,
     "end_time": "2025-08-19T18:31:05.493340",
     "exception": false,
     "start_time": "2025-08-19T18:31:05.467127",
     "status": "completed"
    },
    "tags": []
   },
   "outputs": [],
   "source": [
    "subgroups = ['frau1','nongerman','nongerman_male','nongerman_female']\n",
    "\n",
    "# Conditional coverage for subgroup==1\n",
    "cond_coverage = {\n",
    "    g: cp_groups_df.loc[cp_groups_df[g]==1, 'covered'].mean()\n",
    "    for g in subgroups\n",
    "}"
   ]
  },
  {
   "cell_type": "code",
   "execution_count": 54,
   "id": "894fd600",
   "metadata": {
    "execution": {
     "iopub.execute_input": "2025-08-19T18:31:05.524101Z",
     "iopub.status.busy": "2025-08-19T18:31:05.522936Z",
     "iopub.status.idle": "2025-08-19T18:31:05.539039Z",
     "shell.execute_reply": "2025-08-19T18:31:05.537435Z"
    },
    "papermill": {
     "duration": 0.031298,
     "end_time": "2025-08-19T18:31:05.540715",
     "exception": false,
     "start_time": "2025-08-19T18:31:05.509417",
     "status": "completed"
    },
    "tags": []
   },
   "outputs": [
    {
     "data": {
      "text/plain": [
       "{'frau1': 0.9080738644022105,\n",
       " 'nongerman': 0.9617694941896368,\n",
       " 'nongerman_male': 0.9712690263892642,\n",
       " 'nongerman_female': 0.9460506706408346}"
      ]
     },
     "execution_count": 54,
     "metadata": {},
     "output_type": "execute_result"
    }
   ],
   "source": [
    "cond_coverage"
   ]
  },
  {
   "cell_type": "code",
   "execution_count": 55,
   "id": "942895c7",
   "metadata": {
    "execution": {
     "iopub.execute_input": "2025-08-19T18:31:05.595017Z",
     "iopub.status.busy": "2025-08-19T18:31:05.594516Z",
     "iopub.status.idle": "2025-08-19T18:31:05.600814Z",
     "shell.execute_reply": "2025-08-19T18:31:05.600183Z"
    },
    "papermill": {
     "duration": 0.037867,
     "end_time": "2025-08-19T18:31:05.602609",
     "exception": false,
     "start_time": "2025-08-19T18:31:05.564742",
     "status": "completed"
    },
    "tags": []
   },
   "outputs": [],
   "source": [
    "for subgroup, cov in cond_coverage.items():\n",
    "    cp_metrics_df[f\"cov_{subgroup}\"] = cov"
   ]
  },
  {
   "cell_type": "code",
   "execution_count": 56,
   "id": "3970120f",
   "metadata": {
    "execution": {
     "iopub.execute_input": "2025-08-19T18:31:05.629268Z",
     "iopub.status.busy": "2025-08-19T18:31:05.628904Z",
     "iopub.status.idle": "2025-08-19T18:31:05.642958Z",
     "shell.execute_reply": "2025-08-19T18:31:05.642287Z"
    },
    "papermill": {
     "duration": 0.028951,
     "end_time": "2025-08-19T18:31:05.644379",
     "exception": false,
     "start_time": "2025-08-19T18:31:05.615428",
     "status": "completed"
    },
    "tags": []
   },
   "outputs": [
    {
     "data": {
      "text/html": [
       "<div>\n",
       "<style scoped>\n",
       "    .dataframe tbody tr th:only-of-type {\n",
       "        vertical-align: middle;\n",
       "    }\n",
       "\n",
       "    .dataframe tbody tr th {\n",
       "        vertical-align: top;\n",
       "    }\n",
       "\n",
       "    .dataframe thead th {\n",
       "        text-align: right;\n",
       "    }\n",
       "</style>\n",
       "<table border=\"1\" class=\"dataframe\">\n",
       "  <thead>\n",
       "    <tr style=\"text-align: right;\">\n",
       "      <th></th>\n",
       "      <th>universe_id</th>\n",
       "      <th>universe_training_year</th>\n",
       "      <th>universe_training_size</th>\n",
       "      <th>universe_scale</th>\n",
       "      <th>universe_model</th>\n",
       "      <th>universe_exclude_features</th>\n",
       "      <th>universe_exclude_subgroups</th>\n",
       "      <th>q_hat</th>\n",
       "      <th>coverage</th>\n",
       "      <th>avg_size</th>\n",
       "      <th>cov_frau1</th>\n",
       "      <th>cov_nongerman</th>\n",
       "      <th>cov_nongerman_male</th>\n",
       "      <th>cov_nongerman_female</th>\n",
       "    </tr>\n",
       "  </thead>\n",
       "  <tbody>\n",
       "    <tr>\n",
       "      <th>0</th>\n",
       "      <td>c6f6383279b91dcae6dd57748ac206f0</td>\n",
       "      <td>2014</td>\n",
       "      <td>5k</td>\n",
       "      <td>do-not-scale</td>\n",
       "      <td>elasticnet</td>\n",
       "      <td>age</td>\n",
       "      <td>keep-all</td>\n",
       "      <td>0.643672</td>\n",
       "      <td>0.91195</td>\n",
       "      <td>1.268944</td>\n",
       "      <td>0.908074</td>\n",
       "      <td>0.961769</td>\n",
       "      <td>0.971269</td>\n",
       "      <td>0.946051</td>\n",
       "    </tr>\n",
       "  </tbody>\n",
       "</table>\n",
       "</div>"
      ],
      "text/plain": [
       "                        universe_id universe_training_year  \\\n",
       "0  c6f6383279b91dcae6dd57748ac206f0                   2014   \n",
       "\n",
       "  universe_training_size universe_scale universe_model  \\\n",
       "0                     5k   do-not-scale     elasticnet   \n",
       "\n",
       "  universe_exclude_features universe_exclude_subgroups     q_hat  coverage  \\\n",
       "0                       age                   keep-all  0.643672   0.91195   \n",
       "\n",
       "   avg_size  cov_frau1  cov_nongerman  cov_nongerman_male  \\\n",
       "0  1.268944   0.908074       0.961769            0.971269   \n",
       "\n",
       "   cov_nongerman_female  \n",
       "0              0.946051  "
      ]
     },
     "execution_count": 56,
     "metadata": {},
     "output_type": "execute_result"
    }
   ],
   "source": [
    "cp_metrics_df"
   ]
  },
  {
   "cell_type": "markdown",
   "id": "3fc519cc",
   "metadata": {
    "papermill": {
     "duration": 0.012272,
     "end_time": "2025-08-19T18:31:05.670333",
     "exception": false,
     "start_time": "2025-08-19T18:31:05.658061",
     "status": "completed"
    },
    "tags": []
   },
   "source": [
    "# (Fairness) Metrics"
   ]
  },
  {
   "cell_type": "code",
   "execution_count": 57,
   "id": "a2e5e155",
   "metadata": {
    "execution": {
     "iopub.execute_input": "2025-08-19T18:31:05.698837Z",
     "iopub.status.busy": "2025-08-19T18:31:05.698430Z",
     "iopub.status.idle": "2025-08-19T18:31:05.713607Z",
     "shell.execute_reply": "2025-08-19T18:31:05.711893Z"
    },
    "papermill": {
     "duration": 0.030916,
     "end_time": "2025-08-19T18:31:05.715096",
     "exception": false,
     "start_time": "2025-08-19T18:31:05.684180",
     "status": "completed"
    },
    "tags": []
   },
   "outputs": [],
   "source": [
    "colname_to_bin = \"maxdeutsch1\"\n",
    "majority_value = org_train[colname_to_bin].mode()[0]\n",
    "\n",
    "org_test[\"majmin\"] = np.where(org_test[colname_to_bin] == majority_value, \"majority\", \"minority\")"
   ]
  },
  {
   "cell_type": "code",
   "execution_count": 58,
   "id": "17e3e4d5",
   "metadata": {
    "execution": {
     "iopub.execute_input": "2025-08-19T18:31:05.752700Z",
     "iopub.status.busy": "2025-08-19T18:31:05.751914Z",
     "iopub.status.idle": "2025-08-19T18:31:07.486224Z",
     "shell.execute_reply": "2025-08-19T18:31:07.485098Z"
    },
    "papermill": {
     "duration": 1.75249,
     "end_time": "2025-08-19T18:31:07.487815",
     "exception": false,
     "start_time": "2025-08-19T18:31:05.735325",
     "status": "completed"
    },
    "tags": []
   },
   "outputs": [],
   "source": [
    "example_universe = universe.copy()\n",
    "example_universe[\"cutoff\"] = example_universe[\"cutoff\"][0]\n",
    "example_universe[\"eval_fairness_grouping\"] = example_universe[\"eval_fairness_grouping\"][0]\n",
    "fairness_dict, metric_frame = universe_analysis.compute_metrics(\n",
    "    example_universe,\n",
    "    y_pred_prob=probs_test,\n",
    "    y_test=y_true,\n",
    "    org_test=org_test,\n",
    ")"
   ]
  },
  {
   "cell_type": "markdown",
   "id": "1fb7a0e9",
   "metadata": {
    "papermill": {
     "duration": 0.013139,
     "end_time": "2025-08-19T18:31:07.517787",
     "exception": false,
     "start_time": "2025-08-19T18:31:07.504648",
     "status": "completed"
    },
    "tags": []
   },
   "source": [
    "# Overall"
   ]
  },
  {
   "cell_type": "markdown",
   "id": "be1784b1",
   "metadata": {
    "papermill": {
     "duration": 0.01423,
     "end_time": "2025-08-19T18:31:07.548192",
     "exception": false,
     "start_time": "2025-08-19T18:31:07.533962",
     "status": "completed"
    },
    "tags": []
   },
   "source": [
    "Main fairness target: Equalized Odds. Seems to be a better fit than equal opportunity, since we're not only interested in Y = 1. Seems to be a better fit than demographic parity, since we also care about accuracy, not just equal distribution of preds.\n",
    "\n",
    "Pick column for computation of fairness metrics\n",
    "\n",
    "Performance\n",
    "Overall performance measures, most interesting in relation to the measures split by group below"
   ]
  },
  {
   "cell_type": "code",
   "execution_count": 59,
   "id": "b7672bee",
   "metadata": {
    "execution": {
     "iopub.execute_input": "2025-08-19T18:31:07.580829Z",
     "iopub.status.busy": "2025-08-19T18:31:07.579294Z",
     "iopub.status.idle": "2025-08-19T18:31:07.595932Z",
     "shell.execute_reply": "2025-08-19T18:31:07.594595Z"
    },
    "papermill": {
     "duration": 0.033957,
     "end_time": "2025-08-19T18:31:07.597763",
     "exception": false,
     "start_time": "2025-08-19T18:31:07.563806",
     "status": "completed"
    },
    "tags": []
   },
   "outputs": [
    {
     "data": {
      "text/plain": [
       "accuracy                   0.213298\n",
       "balanced accuracy          0.523864\n",
       "f1                         0.234934\n",
       "precision                  0.134210\n",
       "false positive rate        0.893877\n",
       "false negative rate        0.058394\n",
       "selection rate             0.900000\n",
       "count                  89710.000000\n",
       "dtype: float64"
      ]
     },
     "execution_count": 59,
     "metadata": {},
     "output_type": "execute_result"
    }
   ],
   "source": [
    "metric_frame.overall"
   ]
  },
  {
   "cell_type": "markdown",
   "id": "d93333c9",
   "metadata": {
    "papermill": {
     "duration": 0.013101,
     "end_time": "2025-08-19T18:31:07.628808",
     "exception": false,
     "start_time": "2025-08-19T18:31:07.615707",
     "status": "completed"
    },
    "tags": []
   },
   "source": [
    "By Group"
   ]
  },
  {
   "cell_type": "code",
   "execution_count": 60,
   "id": "52256966",
   "metadata": {
    "execution": {
     "iopub.execute_input": "2025-08-19T18:31:07.663059Z",
     "iopub.status.busy": "2025-08-19T18:31:07.661736Z",
     "iopub.status.idle": "2025-08-19T18:31:07.684134Z",
     "shell.execute_reply": "2025-08-19T18:31:07.683278Z"
    },
    "papermill": {
     "duration": 0.041009,
     "end_time": "2025-08-19T18:31:07.685684",
     "exception": false,
     "start_time": "2025-08-19T18:31:07.644675",
     "status": "completed"
    },
    "tags": []
   },
   "outputs": [
    {
     "data": {
      "text/html": [
       "<div>\n",
       "<style scoped>\n",
       "    .dataframe tbody tr th:only-of-type {\n",
       "        vertical-align: middle;\n",
       "    }\n",
       "\n",
       "    .dataframe tbody tr th {\n",
       "        vertical-align: top;\n",
       "    }\n",
       "\n",
       "    .dataframe thead th {\n",
       "        text-align: right;\n",
       "    }\n",
       "</style>\n",
       "<table border=\"1\" class=\"dataframe\">\n",
       "  <thead>\n",
       "    <tr style=\"text-align: right;\">\n",
       "      <th></th>\n",
       "      <th>accuracy</th>\n",
       "      <th>balanced accuracy</th>\n",
       "      <th>f1</th>\n",
       "      <th>precision</th>\n",
       "      <th>false positive rate</th>\n",
       "      <th>false negative rate</th>\n",
       "      <th>selection rate</th>\n",
       "      <th>count</th>\n",
       "    </tr>\n",
       "    <tr>\n",
       "      <th>majmin</th>\n",
       "      <th></th>\n",
       "      <th></th>\n",
       "      <th></th>\n",
       "      <th></th>\n",
       "      <th></th>\n",
       "      <th></th>\n",
       "      <th></th>\n",
       "      <th></th>\n",
       "    </tr>\n",
       "  </thead>\n",
       "  <tbody>\n",
       "    <tr>\n",
       "      <th>majority</th>\n",
       "      <td>0.233714</td>\n",
       "      <td>0.530139</td>\n",
       "      <td>0.243448</td>\n",
       "      <td>0.139987</td>\n",
       "      <td>0.872764</td>\n",
       "      <td>0.066958</td>\n",
       "      <td>0.880729</td>\n",
       "      <td>69170.0</td>\n",
       "    </tr>\n",
       "    <tr>\n",
       "      <th>minority</th>\n",
       "      <td>0.144547</td>\n",
       "      <td>0.505518</td>\n",
       "      <td>0.208050</td>\n",
       "      <td>0.116454</td>\n",
       "      <td>0.963625</td>\n",
       "      <td>0.025338</td>\n",
       "      <td>0.964898</td>\n",
       "      <td>20540.0</td>\n",
       "    </tr>\n",
       "  </tbody>\n",
       "</table>\n",
       "</div>"
      ],
      "text/plain": [
       "          accuracy  balanced accuracy        f1  precision  \\\n",
       "majmin                                                       \n",
       "majority  0.233714           0.530139  0.243448   0.139987   \n",
       "minority  0.144547           0.505518  0.208050   0.116454   \n",
       "\n",
       "          false positive rate  false negative rate  selection rate    count  \n",
       "majmin                                                                       \n",
       "majority             0.872764             0.066958        0.880729  69170.0  \n",
       "minority             0.963625             0.025338        0.964898  20540.0  "
      ]
     },
     "execution_count": 60,
     "metadata": {},
     "output_type": "execute_result"
    }
   ],
   "source": [
    "metric_frame.by_group"
   ]
  },
  {
   "cell_type": "code",
   "execution_count": 61,
   "id": "6e6c20ae",
   "metadata": {
    "execution": {
     "iopub.execute_input": "2025-08-19T18:31:07.721112Z",
     "iopub.status.busy": "2025-08-19T18:31:07.719830Z",
     "iopub.status.idle": "2025-08-19T18:31:09.672301Z",
     "shell.execute_reply": "2025-08-19T18:31:09.671160Z"
    },
    "papermill": {
     "duration": 1.968941,
     "end_time": "2025-08-19T18:31:09.674034",
     "exception": false,
     "start_time": "2025-08-19T18:31:07.705093",
     "status": "completed"
    },
    "tags": []
   },
   "outputs": [
    {
     "data": {
      "text/plain": [
       "array([[<Axes: title={'center': 'accuracy'}, xlabel='majmin'>,\n",
       "        <Axes: title={'center': 'balanced accuracy'}, xlabel='majmin'>,\n",
       "        <Axes: title={'center': 'f1'}, xlabel='majmin'>],\n",
       "       [<Axes: title={'center': 'precision'}, xlabel='majmin'>,\n",
       "        <Axes: title={'center': 'false positive rate'}, xlabel='majmin'>,\n",
       "        <Axes: title={'center': 'false negative rate'}, xlabel='majmin'>],\n",
       "       [<Axes: title={'center': 'selection rate'}, xlabel='majmin'>,\n",
       "        <Axes: title={'center': 'count'}, xlabel='majmin'>,\n",
       "        <Axes: xlabel='majmin'>]], dtype=object)"
      ]
     },
     "execution_count": 61,
     "metadata": {},
     "output_type": "execute_result"
    },
    {
     "data": {
      "image/png": "[encoded data removed]",
      "text/plain": [
       "<Figure size 1200x800 with 9 Axes>"
      ]
     },
     "metadata": {},
     "output_type": "display_data"
    }
   ],
   "source": [
    "# In a graphic\n",
    "metric_frame.by_group.plot.bar(\n",
    "    subplots=True,\n",
    "    layout=[3, 3],\n",
    "    legend=False,\n",
    "    figsize=[12, 8],\n",
    "    title=\"Show all metrics\",\n",
    ")"
   ]
  },
  {
   "cell_type": "markdown",
   "id": "b2e433ae",
   "metadata": {
    "papermill": {
     "duration": 0.013874,
     "end_time": "2025-08-19T18:31:09.704405",
     "exception": false,
     "start_time": "2025-08-19T18:31:09.690531",
     "status": "completed"
    },
    "tags": []
   },
   "source": [
    "# Final Output"
   ]
  },
  {
   "cell_type": "code",
   "execution_count": 62,
   "id": "3871301e",
   "metadata": {
    "execution": {
     "iopub.execute_input": "2025-08-19T18:31:09.736963Z",
     "iopub.status.busy": "2025-08-19T18:31:09.734725Z",
     "iopub.status.idle": "2025-08-19T18:31:09.754988Z",
     "shell.execute_reply": "2025-08-19T18:31:09.754253Z"
    },
    "papermill": {
     "duration": 0.038462,
     "end_time": "2025-08-19T18:31:09.756712",
     "exception": false,
     "start_time": "2025-08-19T18:31:09.718250",
     "status": "completed"
    },
    "tags": []
   },
   "outputs": [
    {
     "data": {
      "text/plain": [
       "4"
      ]
     },
     "execution_count": 62,
     "metadata": {},
     "output_type": "execute_result"
    }
   ],
   "source": [
    "sub_universes = universe_analysis.generate_sub_universes()\n",
    "len(sub_universes)"
   ]
  },
  {
   "cell_type": "code",
   "execution_count": 63,
   "id": "d9cfdaca",
   "metadata": {
    "execution": {
     "iopub.execute_input": "2025-08-19T18:31:09.795297Z",
     "iopub.status.busy": "2025-08-19T18:31:09.794210Z",
     "iopub.status.idle": "2025-08-19T18:31:09.807287Z",
     "shell.execute_reply": "2025-08-19T18:31:09.805906Z"
    },
    "papermill": {
     "duration": 0.030765,
     "end_time": "2025-08-19T18:31:09.808994",
     "exception": false,
     "start_time": "2025-08-19T18:31:09.778229",
     "status": "completed"
    },
    "tags": []
   },
   "outputs": [],
   "source": [
    "def filter_sub_universe_data(sub_universe, org_test):\n",
    "    # Keep all rows — no filtering\n",
    "    keep_rows_mask = np.ones(org_test.shape[0], dtype=bool)\n",
    "\n",
    "    print(f\"[INFO] Keeping all rows: {keep_rows_mask.sum()} rows retained.\")\n",
    "    return keep_rows_mask"
   ]
  },
  {
   "cell_type": "code",
   "execution_count": 64,
   "id": "2bc31ac1",
   "metadata": {
    "execution": {
     "iopub.execute_input": "2025-08-19T18:31:09.843206Z",
     "iopub.status.busy": "2025-08-19T18:31:09.842217Z",
     "iopub.status.idle": "2025-08-19T18:31:16.801060Z",
     "shell.execute_reply": "2025-08-19T18:31:16.800020Z"
    },
    "papermill": {
     "duration": 6.975688,
     "end_time": "2025-08-19T18:31:16.802517",
     "exception": false,
     "start_time": "2025-08-19T18:31:09.826829",
     "status": "completed"
    },
    "tags": []
   },
   "outputs": [
    {
     "name": "stdout",
     "output_type": "stream",
     "text": [
      "Stopping execution_time clock.\n",
      "[INFO] Keeping all rows: 89710 rows retained.\n"
     ]
    },
    {
     "name": "stdout",
     "output_type": "stream",
     "text": [
      "[INFO] Keeping all rows: 89710 rows retained.\n"
     ]
    },
    {
     "name": "stdout",
     "output_type": "stream",
     "text": [
      "[INFO] Keeping all rows: 89710 rows retained.\n"
     ]
    },
    {
     "name": "stdout",
     "output_type": "stream",
     "text": [
      "[INFO] Keeping all rows: 89710 rows retained.\n"
     ]
    },
    {
     "data": {
      "text/html": [
       "<div>\n",
       "<style scoped>\n",
       "    .dataframe tbody tr th:only-of-type {\n",
       "        vertical-align: middle;\n",
       "    }\n",
       "\n",
       "    .dataframe tbody tr th {\n",
       "        vertical-align: top;\n",
       "    }\n",
       "\n",
       "    .dataframe thead th {\n",
       "        text-align: right;\n",
       "    }\n",
       "</style>\n",
       "<table border=\"1\" class=\"dataframe\">\n",
       "  <thead>\n",
       "    <tr style=\"text-align: right;\">\n",
       "      <th></th>\n",
       "      <th>run_no</th>\n",
       "      <th>universe_id</th>\n",
       "      <th>universe_settings</th>\n",
       "      <th>execution_time</th>\n",
       "      <th>test_size_n</th>\n",
       "      <th>test_size_frac</th>\n",
       "      <th>fair_main_equalized_odds_difference</th>\n",
       "      <th>fair_main_equalized_odds_ratio</th>\n",
       "      <th>fair_main_demographic_parity_difference</th>\n",
       "      <th>fair_main_demographic_parity_ratio</th>\n",
       "      <th>...</th>\n",
       "      <th>perf_grp_precision_0</th>\n",
       "      <th>perf_grp_precision_1</th>\n",
       "      <th>perf_grp_false positive rate_0</th>\n",
       "      <th>perf_grp_false positive rate_1</th>\n",
       "      <th>perf_grp_false negative rate_0</th>\n",
       "      <th>perf_grp_false negative rate_1</th>\n",
       "      <th>perf_grp_selection rate_0</th>\n",
       "      <th>perf_grp_selection rate_1</th>\n",
       "      <th>perf_grp_count_0</th>\n",
       "      <th>perf_grp_count_1</th>\n",
       "    </tr>\n",
       "  </thead>\n",
       "  <tbody>\n",
       "    <tr>\n",
       "      <th>0</th>\n",
       "      <td>3</td>\n",
       "      <td>c6f6383279b91dcae6dd57748ac206f0</td>\n",
       "      <td>{\"cutoff\": \"quantile_0.1\", \"eval_fairness_grou...</td>\n",
       "      <td>21.901304</td>\n",
       "      <td>89710</td>\n",
       "      <td>1.0</td>\n",
       "      <td>0.090862</td>\n",
       "      <td>0.905708</td>\n",
       "      <td>0.084169</td>\n",
       "      <td>0.912769</td>\n",
       "      <td>...</td>\n",
       "      <td>NaN</td>\n",
       "      <td>NaN</td>\n",
       "      <td>NaN</td>\n",
       "      <td>NaN</td>\n",
       "      <td>NaN</td>\n",
       "      <td>NaN</td>\n",
       "      <td>NaN</td>\n",
       "      <td>NaN</td>\n",
       "      <td>NaN</td>\n",
       "      <td>NaN</td>\n",
       "    </tr>\n",
       "    <tr>\n",
       "      <th>0</th>\n",
       "      <td>3</td>\n",
       "      <td>c6f6383279b91dcae6dd57748ac206f0</td>\n",
       "      <td>{\"cutoff\": \"quantile_0.1\", \"eval_fairness_grou...</td>\n",
       "      <td>21.901304</td>\n",
       "      <td>89710</td>\n",
       "      <td>1.0</td>\n",
       "      <td>0.090862</td>\n",
       "      <td>0.905708</td>\n",
       "      <td>0.084169</td>\n",
       "      <td>0.912769</td>\n",
       "      <td>...</td>\n",
       "      <td>0.116454</td>\n",
       "      <td>0.139987</td>\n",
       "      <td>0.963625</td>\n",
       "      <td>0.872764</td>\n",
       "      <td>0.025338</td>\n",
       "      <td>0.066958</td>\n",
       "      <td>0.964898</td>\n",
       "      <td>0.880729</td>\n",
       "      <td>20540.0</td>\n",
       "      <td>69170.0</td>\n",
       "    </tr>\n",
       "    <tr>\n",
       "      <th>0</th>\n",
       "      <td>3</td>\n",
       "      <td>c6f6383279b91dcae6dd57748ac206f0</td>\n",
       "      <td>{\"cutoff\": \"quantile_0.25\", \"eval_fairness_gro...</td>\n",
       "      <td>21.901304</td>\n",
       "      <td>89710</td>\n",
       "      <td>1.0</td>\n",
       "      <td>0.221516</td>\n",
       "      <td>0.755889</td>\n",
       "      <td>0.207052</td>\n",
       "      <td>0.772380</td>\n",
       "      <td>...</td>\n",
       "      <td>NaN</td>\n",
       "      <td>NaN</td>\n",
       "      <td>NaN</td>\n",
       "      <td>NaN</td>\n",
       "      <td>NaN</td>\n",
       "      <td>NaN</td>\n",
       "      <td>NaN</td>\n",
       "      <td>NaN</td>\n",
       "      <td>NaN</td>\n",
       "      <td>NaN</td>\n",
       "    </tr>\n",
       "    <tr>\n",
       "      <th>0</th>\n",
       "      <td>3</td>\n",
       "      <td>c6f6383279b91dcae6dd57748ac206f0</td>\n",
       "      <td>{\"cutoff\": \"quantile_0.25\", \"eval_fairness_gro...</td>\n",
       "      <td>21.901304</td>\n",
       "      <td>89710</td>\n",
       "      <td>1.0</td>\n",
       "      <td>0.221516</td>\n",
       "      <td>0.755889</td>\n",
       "      <td>0.207052</td>\n",
       "      <td>0.772380</td>\n",
       "      <td>...</td>\n",
       "      <td>0.117427</td>\n",
       "      <td>0.152722</td>\n",
       "      <td>0.907440</td>\n",
       "      <td>0.685924</td>\n",
       "      <td>0.073480</td>\n",
       "      <td>0.187965</td>\n",
       "      <td>0.909640</td>\n",
       "      <td>0.702588</td>\n",
       "      <td>20540.0</td>\n",
       "      <td>69170.0</td>\n",
       "    </tr>\n",
       "  </tbody>\n",
       "</table>\n",
       "<p>4 rows × 50 columns</p>\n",
       "</div>"
      ],
      "text/plain": [
       "  run_no                       universe_id  \\\n",
       "0      3  c6f6383279b91dcae6dd57748ac206f0   \n",
       "0      3  c6f6383279b91dcae6dd57748ac206f0   \n",
       "0      3  c6f6383279b91dcae6dd57748ac206f0   \n",
       "0      3  c6f6383279b91dcae6dd57748ac206f0   \n",
       "\n",
       "                                   universe_settings  execution_time  \\\n",
       "0  {\"cutoff\": \"quantile_0.1\", \"eval_fairness_grou...       21.901304   \n",
       "0  {\"cutoff\": \"quantile_0.1\", \"eval_fairness_grou...       21.901304   \n",
       "0  {\"cutoff\": \"quantile_0.25\", \"eval_fairness_gro...       21.901304   \n",
       "0  {\"cutoff\": \"quantile_0.25\", \"eval_fairness_gro...       21.901304   \n",
       "\n",
       "   test_size_n  test_size_frac  fair_main_equalized_odds_difference  \\\n",
       "0        89710             1.0                             0.090862   \n",
       "0        89710             1.0                             0.090862   \n",
       "0        89710             1.0                             0.221516   \n",
       "0        89710             1.0                             0.221516   \n",
       "\n",
       "   fair_main_equalized_odds_ratio  fair_main_demographic_parity_difference  \\\n",
       "0                        0.905708                                 0.084169   \n",
       "0                        0.905708                                 0.084169   \n",
       "0                        0.755889                                 0.207052   \n",
       "0                        0.755889                                 0.207052   \n",
       "\n",
       "   fair_main_demographic_parity_ratio  ...  perf_grp_precision_0  \\\n",
       "0                            0.912769  ...                   NaN   \n",
       "0                            0.912769  ...              0.116454   \n",
       "0                            0.772380  ...                   NaN   \n",
       "0                            0.772380  ...              0.117427   \n",
       "\n",
       "   perf_grp_precision_1  perf_grp_false positive rate_0  \\\n",
       "0                   NaN                             NaN   \n",
       "0              0.139987                        0.963625   \n",
       "0                   NaN                             NaN   \n",
       "0              0.152722                        0.907440   \n",
       "\n",
       "   perf_grp_false positive rate_1  perf_grp_false negative rate_0  \\\n",
       "0                             NaN                             NaN   \n",
       "0                        0.872764                        0.025338   \n",
       "0                             NaN                             NaN   \n",
       "0                        0.685924                        0.073480   \n",
       "\n",
       "   perf_grp_false negative rate_1  perf_grp_selection rate_0  \\\n",
       "0                             NaN                        NaN   \n",
       "0                        0.066958                   0.964898   \n",
       "0                             NaN                        NaN   \n",
       "0                        0.187965                   0.909640   \n",
       "\n",
       "   perf_grp_selection rate_1  perf_grp_count_0  perf_grp_count_1  \n",
       "0                        NaN               NaN               NaN  \n",
       "0                   0.880729           20540.0           69170.0  \n",
       "0                        NaN               NaN               NaN  \n",
       "0                   0.702588           20540.0           69170.0  \n",
       "\n",
       "[4 rows x 50 columns]"
      ]
     },
     "execution_count": 64,
     "metadata": {},
     "output_type": "execute_result"
    }
   ],
   "source": [
    "final_output = universe_analysis.generate_final_output(\n",
    "    y_pred_prob=probs_test,\n",
    "    y_test=y_true,\n",
    "    org_test=org_test,\n",
    "    filter_data=filter_sub_universe_data,\n",
    "    cp_metrics_df=cp_metrics_df,\n",
    "    save=True,\n",
    ")\n",
    "final_output"
   ]
  },
  {
   "cell_type": "code",
   "execution_count": null,
   "id": "8b80a1ff",
   "metadata": {
    "papermill": {
     "duration": 0.015031,
     "end_time": "2025-08-19T18:31:16.838438",
     "exception": false,
     "start_time": "2025-08-19T18:31:16.823407",
     "status": "completed"
    },
    "tags": []
   },
   "outputs": [],
   "source": []
  },
  {
   "cell_type": "code",
   "execution_count": null,
   "id": "275c9fad",
   "metadata": {
    "papermill": {
     "duration": 0.014565,
     "end_time": "2025-08-19T18:31:16.867758",
     "exception": false,
     "start_time": "2025-08-19T18:31:16.853193",
     "status": "completed"
    },
    "tags": []
   },
   "outputs": [],
   "source": []
  }
 ],
 "metadata": {
  "celltoolbar": "Tags",
  "kernelspec": {
   "display_name": "Python (CMA Fairness)",
   "language": "python",
   "name": "cma_fair_env"
  },
  "language_info": {
   "codemirror_mode": {
    "name": "ipython",
    "version": 3
   },
   "file_extension": ".py",
   "mimetype": "text/x-python",
   "name": "python",
   "nbconvert_exporter": "python",
   "pygments_lexer": "ipython3",
   "version": "3.10.12"
  },
  "papermill": {
   "default_parameters": {},
   "duration": 32.504219,
   "end_time": "2025-08-19T18:31:17.703312",
   "environment_variables": {},
   "exception": null,
   "input_path": "universe_analysis.ipynb",
   "output_path": "output/runs/3/notebooks/m_3-c6f6383279b91dcae6dd57748ac206f0.ipynb",
   "parameters": {
    "output_dir": "output",
    "run_no": "3",
    "seed": "2023",
    "universe": "{\"cutoff\": [\"quantile_0.1\", \"quantile_0.25\"], \"eval_fairness_grouping\": [\"majority-minority\", \"nationality-all\"], \"exclude_features\": \"age\", \"exclude_subgroups\": \"keep-all\", \"model\": \"elasticnet\", \"scale\": \"do-not-scale\", \"training_size\": \"5k\", \"training_year\": \"2014\"}",
    "universe_id": "c6f6383279b91dcae6dd57748ac206f0"
   },
   "start_time": "2025-08-19T18:30:45.199093",
   "version": "2.6.0"
  }
 },
 "nbformat": 4,
 "nbformat_minor": 5
}