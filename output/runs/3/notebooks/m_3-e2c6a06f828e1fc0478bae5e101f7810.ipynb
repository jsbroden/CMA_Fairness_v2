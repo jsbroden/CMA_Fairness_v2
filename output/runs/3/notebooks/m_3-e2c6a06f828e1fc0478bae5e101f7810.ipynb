{
 "cells": [
  {
   "cell_type": "markdown",
   "id": "ef23dbb3",
   "metadata": {
    "papermill": {
     "duration": 0.010008,
     "end_time": "2025-08-19T18:31:56.611505",
     "exception": false,
     "start_time": "2025-08-19T18:31:56.601497",
     "status": "completed"
    },
    "tags": []
   },
   "source": [
    "# Setup"
   ]
  },
  {
   "cell_type": "code",
   "execution_count": 1,
   "id": "0bc8e7dc",
   "metadata": {
    "execution": {
     "iopub.execute_input": "2025-08-19T18:31:56.632843Z",
     "iopub.status.busy": "2025-08-19T18:31:56.631225Z",
     "iopub.status.idle": "2025-08-19T18:31:56.664229Z",
     "shell.execute_reply": "2025-08-19T18:31:56.663362Z"
    },
    "papermill": {
     "duration": 0.057778,
     "end_time": "2025-08-19T18:31:56.677920",
     "exception": false,
     "start_time": "2025-08-19T18:31:56.620142",
     "status": "completed"
    },
    "tags": []
   },
   "outputs": [
    {
     "name": "stdout",
     "output_type": "stream",
     "text": [
      "/dss/dsshome1/0C/ra93lal2/cma/CMA_Fairness_v2\n"
     ]
    },
    {
     "name": "stderr",
     "output_type": "stream",
     "text": [
      "/dss/dsshome1/0C/ra93lal2/.local/share/virtualenvs/CMA_Fairness_v2-3j10GkSs/lib/python3.10/site-packages/IPython/core/magics/osm.py:393: UserWarning: This is now an optional IPython functionality, using bookmarks requires you to install the `pickleshare` library.\n",
      "  bkms = self.shell.db.get('bookmarks', {})\n",
      "/dss/dsshome1/0C/ra93lal2/.local/share/virtualenvs/CMA_Fairness_v2-3j10GkSs/lib/python3.10/site-packages/IPython/core/magics/osm.py:417: UserWarning: This is now an optional IPython functionality, setting dhist requires you to install the `pickleshare` library.\n",
      "  self.shell.db['dhist'] = compress_dhist(dhist)[-100:]\n"
     ]
    }
   ],
   "source": [
    "%cd ~/cma/CMA_Fairness_v2"
   ]
  },
  {
   "cell_type": "markdown",
   "id": "9d235661",
   "metadata": {
    "papermill": {
     "duration": 0.015588,
     "end_time": "2025-08-19T18:31:56.714603",
     "exception": false,
     "start_time": "2025-08-19T18:31:56.699015",
     "status": "completed"
    },
    "tags": []
   },
   "source": [
    "The following cell holds the definition of our parameters, these values can be overriden by rendering the with e.g. the following command:\n",
    "\n",
    "papermill -p alpha 0.2 -p ratio 0.3 universe_analysis.ipynb output/test_run.ipynb"
   ]
  },
  {
   "cell_type": "code",
   "execution_count": 2,
   "id": "4a789d8e",
   "metadata": {
    "execution": {
     "iopub.execute_input": "2025-08-19T18:31:56.740734Z",
     "iopub.status.busy": "2025-08-19T18:31:56.736500Z",
     "iopub.status.idle": "2025-08-19T18:31:56.744843Z",
     "shell.execute_reply": "2025-08-19T18:31:56.744065Z"
    },
    "papermill": {
     "duration": 0.021874,
     "end_time": "2025-08-19T18:31:56.746035",
     "exception": false,
     "start_time": "2025-08-19T18:31:56.724161",
     "status": "completed"
    },
    "tags": []
   },
   "outputs": [
    {
     "name": "stdout",
     "output_type": "stream",
     "text": [
      "Current working directory: /dss/dsshome1/0C/ra93lal2/cma/CMA_Fairness_v2\n"
     ]
    }
   ],
   "source": [
    "import os\n",
    "print(\"Current working directory:\", os.getcwd())"
   ]
  },
  {
   "cell_type": "code",
   "execution_count": 3,
   "id": "4132aaed",
   "metadata": {
    "execution": {
     "iopub.execute_input": "2025-08-19T18:31:56.766923Z",
     "iopub.status.busy": "2025-08-19T18:31:56.765893Z",
     "iopub.status.idle": "2025-08-19T18:31:56.889850Z",
     "shell.execute_reply": "2025-08-19T18:31:56.888584Z"
    },
    "papermill": {
     "duration": 0.136053,
     "end_time": "2025-08-19T18:31:56.891776",
     "exception": false,
     "start_time": "2025-08-19T18:31:56.755723",
     "status": "completed"
    },
    "tags": [
     "parameters"
    ]
   },
   "outputs": [],
   "source": [
    "run_no = 0\n",
    "universe_id = \"test\"\n",
    "universe = {\n",
    "    \"training_size\": \"5k\", # \"25k\", \"5k\", \"1k\"\n",
    "    \"training_year\": \"2012_14\", # \"2014\", \"2012_14\", \"2010_14\"\n",
    "    \"scale\": \"scale\", # \"scale\", \"do-not-scale\",\n",
    "    \"model\": \"elasticnet\", # \"logreg\", \"penalized_logreg\", \"rf\", \"gbm\", \"elasticnet\"\n",
    "    \"cutoff\": [\"quantile_0.15\", \"quantile_0.30\"],\n",
    "    \"exclude_features\": \"age\", # \"none\", \"nationality\", \"sex\", \"nationality-sex\", \"age\"\n",
    "    \"exclude_subgroups\": \"drop-non-german\", # \"keep-all\", \"drop-non-german\"\n",
    "    \"eval_fairness_grouping\": [\"majority-minority\", \"nationality-all\"]\n",
    "}\n",
    "\n",
    "output_dir=\"./output\"\n",
    "seed=0"
   ]
  },
  {
   "cell_type": "code",
   "execution_count": 4,
   "id": "51cd3b54",
   "metadata": {
    "execution": {
     "iopub.execute_input": "2025-08-19T18:31:56.913446Z",
     "iopub.status.busy": "2025-08-19T18:31:56.913000Z",
     "iopub.status.idle": "2025-08-19T18:31:56.918409Z",
     "shell.execute_reply": "2025-08-19T18:31:56.917496Z"
    },
    "papermill": {
     "duration": 0.018146,
     "end_time": "2025-08-19T18:31:56.920922",
     "exception": false,
     "start_time": "2025-08-19T18:31:56.902776",
     "status": "completed"
    },
    "tags": [
     "injected-parameters"
    ]
   },
   "outputs": [],
   "source": [
    "# Parameters\n",
    "universe_id = \"e2c6a06f828e1fc0478bae5e101f7810\"\n",
    "run_no = \"3\"\n",
    "universe = \"{\\\"cutoff\\\": [\\\"quantile_0.1\\\", \\\"quantile_0.25\\\"], \\\"eval_fairness_grouping\\\": [\\\"majority-minority\\\", \\\"nationality-all\\\"], \\\"exclude_features\\\": \\\"sex\\\", \\\"exclude_subgroups\\\": \\\"keep-all\\\", \\\"model\\\": \\\"penalized_logreg\\\", \\\"scale\\\": \\\"scale\\\", \\\"training_size\\\": \\\"5k\\\", \\\"training_year\\\": \\\"2012_14\\\"}\"\n",
    "output_dir = \"output\"\n",
    "seed = \"2023\"\n"
   ]
  },
  {
   "cell_type": "code",
   "execution_count": 5,
   "id": "a5d7941f",
   "metadata": {
    "execution": {
     "iopub.execute_input": "2025-08-19T18:31:56.976517Z",
     "iopub.status.busy": "2025-08-19T18:31:56.975555Z",
     "iopub.status.idle": "2025-08-19T18:31:56.980565Z",
     "shell.execute_reply": "2025-08-19T18:31:56.979540Z"
    },
    "papermill": {
     "duration": 0.017758,
     "end_time": "2025-08-19T18:31:56.981710",
     "exception": false,
     "start_time": "2025-08-19T18:31:56.963952",
     "status": "completed"
    },
    "tags": []
   },
   "outputs": [],
   "source": [
    "import json\n",
    "if isinstance(universe, str):\n",
    "    universe = json.loads(universe)"
   ]
  },
  {
   "cell_type": "code",
   "execution_count": 6,
   "id": "7076ccb1",
   "metadata": {
    "execution": {
     "iopub.execute_input": "2025-08-19T18:31:57.002864Z",
     "iopub.status.busy": "2025-08-19T18:31:57.002302Z",
     "iopub.status.idle": "2025-08-19T18:31:57.043491Z",
     "shell.execute_reply": "2025-08-19T18:31:57.042563Z"
    },
    "papermill": {
     "duration": 0.053523,
     "end_time": "2025-08-19T18:31:57.045124",
     "exception": false,
     "start_time": "2025-08-19T18:31:56.991601",
     "status": "completed"
    },
    "tags": []
   },
   "outputs": [],
   "source": [
    "# Auto-reload the custom package\n",
    "%load_ext autoreload\n",
    "%autoreload 1\n",
    "%aimport fairness_multiverse"
   ]
  },
  {
   "cell_type": "code",
   "execution_count": 7,
   "id": "94c8eb93",
   "metadata": {
    "execution": {
     "iopub.execute_input": "2025-08-19T18:31:57.066393Z",
     "iopub.status.busy": "2025-08-19T18:31:57.065450Z",
     "iopub.status.idle": "2025-08-19T18:31:58.813111Z",
     "shell.execute_reply": "2025-08-19T18:31:58.812128Z"
    },
    "papermill": {
     "duration": 1.759907,
     "end_time": "2025-08-19T18:31:58.814789",
     "exception": false,
     "start_time": "2025-08-19T18:31:57.054882",
     "status": "completed"
    },
    "tags": []
   },
   "outputs": [],
   "source": [
    "from fairness_multiverse.universe import UniverseAnalysis\n",
    "\n",
    "universe_analysis = UniverseAnalysis(\n",
    "    run_no = run_no,\n",
    "    universe_id = universe_id,\n",
    "    universe = universe,\n",
    "    output_dir=output_dir,\n",
    ")"
   ]
  },
  {
   "cell_type": "code",
   "execution_count": 8,
   "id": "2a6381cf",
   "metadata": {
    "execution": {
     "iopub.execute_input": "2025-08-19T18:31:58.834995Z",
     "iopub.status.busy": "2025-08-19T18:31:58.834659Z",
     "iopub.status.idle": "2025-08-19T18:31:58.840049Z",
     "shell.execute_reply": "2025-08-19T18:31:58.839373Z"
    },
    "papermill": {
     "duration": 0.017144,
     "end_time": "2025-08-19T18:31:58.841425",
     "exception": false,
     "start_time": "2025-08-19T18:31:58.824281",
     "status": "completed"
    },
    "tags": []
   },
   "outputs": [
    {
     "name": "stdout",
     "output_type": "stream",
     "text": [
      "Using Seed: 2023\n"
     ]
    }
   ],
   "source": [
    "import numpy as np\n",
    "parsed_seed = int(seed)\n",
    "np.random.seed(parsed_seed)\n",
    "print(f\"Using Seed: {parsed_seed}\")"
   ]
  },
  {
   "cell_type": "markdown",
   "id": "b6e958b4",
   "metadata": {
    "papermill": {
     "duration": 0.009177,
     "end_time": "2025-08-19T18:31:58.859797",
     "exception": false,
     "start_time": "2025-08-19T18:31:58.850620",
     "status": "completed"
    },
    "tags": []
   },
   "source": [
    "# Loading Data"
   ]
  },
  {
   "cell_type": "code",
   "execution_count": 9,
   "id": "98701482",
   "metadata": {
    "execution": {
     "iopub.execute_input": "2025-08-19T18:31:58.879766Z",
     "iopub.status.busy": "2025-08-19T18:31:58.879413Z",
     "iopub.status.idle": "2025-08-19T18:32:09.456394Z",
     "shell.execute_reply": "2025-08-19T18:32:09.454853Z"
    },
    "papermill": {
     "duration": 10.590074,
     "end_time": "2025-08-19T18:32:09.459063",
     "exception": false,
     "start_time": "2025-08-19T18:31:58.868989",
     "status": "completed"
    },
    "tags": []
   },
   "outputs": [
    {
     "name": "stdout",
     "output_type": "stream",
     "text": [
      "Loading SIAB data from cache: data/siab_cached.csv.gz\n"
     ]
    },
    {
     "name": "stdout",
     "output_type": "stream",
     "text": [
      "(643690, 164)\n"
     ]
    }
   ],
   "source": [
    "from pathlib import Path\n",
    "import pandas as pd\n",
    "\n",
    "# File paths\n",
    "raw_file = Path(\"data/raw/siab.csv\")\n",
    "cache_file = Path(\"data/siab_cached.csv.gz\")\n",
    "\n",
    "# Ensure cache directory exists\n",
    "cache_file.parent.mkdir(parents=True, exist_ok=True)\n",
    "\n",
    "# Load with simple caching\n",
    "if cache_file.exists():\n",
    "    print(f\"Loading SIAB data from cache: {cache_file}\")\n",
    "    siab = pd.read_csv(cache_file, compression='gzip')\n",
    "else:\n",
    "    print(f\"Cache not found. Reading raw SIAB data: {raw_file}\")\n",
    "    siab = pd.read_csv(raw_file)\n",
    "    siab.to_csv(cache_file, index=False, compression='gzip')\n",
    "    print(f\"Cached SIAB data to: {cache_file}\")\n",
    "\n",
    "print(siab.shape)"
   ]
  },
  {
   "cell_type": "code",
   "execution_count": 10,
   "id": "058d2abb",
   "metadata": {
    "execution": {
     "iopub.execute_input": "2025-08-19T18:32:09.502454Z",
     "iopub.status.busy": "2025-08-19T18:32:09.501061Z",
     "iopub.status.idle": "2025-08-19T18:32:09.667810Z",
     "shell.execute_reply": "2025-08-19T18:32:09.666394Z"
    },
    "papermill": {
     "duration": 0.188993,
     "end_time": "2025-08-19T18:32:09.672450",
     "exception": false,
     "start_time": "2025-08-19T18:32:09.483457",
     "status": "completed"
    },
    "tags": []
   },
   "outputs": [
    {
     "data": {
      "text/html": [
       "<div>\n",
       "<style scoped>\n",
       "    .dataframe tbody tr th:only-of-type {\n",
       "        vertical-align: middle;\n",
       "    }\n",
       "\n",
       "    .dataframe tbody tr th {\n",
       "        vertical-align: top;\n",
       "    }\n",
       "\n",
       "    .dataframe thead th {\n",
       "        text-align: right;\n",
       "    }\n",
       "</style>\n",
       "<table border=\"1\" class=\"dataframe\">\n",
       "  <thead>\n",
       "    <tr style=\"text-align: right;\">\n",
       "      <th></th>\n",
       "      <th>persnr</th>\n",
       "      <th>year</th>\n",
       "      <th>nrEntry</th>\n",
       "      <th>ltue</th>\n",
       "      <th>employed_before</th>\n",
       "      <th>receipt_leh_before</th>\n",
       "      <th>receipt_lhg_before</th>\n",
       "      <th>se_before</th>\n",
       "      <th>ASU_notue_seeking_before</th>\n",
       "      <th>ASU_other_before</th>\n",
       "      <th>...</th>\n",
       "      <th>minijob_tot_dur_byage</th>\n",
       "      <th>ft_tot_dur_byage</th>\n",
       "      <th>befrist_tot_dur_byage</th>\n",
       "      <th>leih_tot_dur_byage</th>\n",
       "      <th>LHG_tot_dur_byage</th>\n",
       "      <th>LEH_tot_dur_byage</th>\n",
       "      <th>almp_tot_dur_byage</th>\n",
       "      <th>almp_aw_tot_dur_byage</th>\n",
       "      <th>se_tot_dur_byage</th>\n",
       "      <th>seeking1_tot_dur_byage</th>\n",
       "    </tr>\n",
       "  </thead>\n",
       "  <tbody>\n",
       "    <tr>\n",
       "      <th>0</th>\n",
       "      <td>7</td>\n",
       "      <td>2015</td>\n",
       "      <td>1</td>\n",
       "      <td>0</td>\n",
       "      <td>1</td>\n",
       "      <td>0</td>\n",
       "      <td>0</td>\n",
       "      <td>0</td>\n",
       "      <td>1</td>\n",
       "      <td>0</td>\n",
       "      <td>...</td>\n",
       "      <td>0.000000</td>\n",
       "      <td>0.000000</td>\n",
       "      <td>15.043478</td>\n",
       "      <td>0.000000</td>\n",
       "      <td>0.000000</td>\n",
       "      <td>0.000000</td>\n",
       "      <td>0.000000</td>\n",
       "      <td>0.000000</td>\n",
       "      <td>0.000000</td>\n",
       "      <td>0.000000</td>\n",
       "    </tr>\n",
       "    <tr>\n",
       "      <th>1</th>\n",
       "      <td>18</td>\n",
       "      <td>2010</td>\n",
       "      <td>1</td>\n",
       "      <td>1</td>\n",
       "      <td>0</td>\n",
       "      <td>0</td>\n",
       "      <td>0</td>\n",
       "      <td>0</td>\n",
       "      <td>0</td>\n",
       "      <td>0</td>\n",
       "      <td>...</td>\n",
       "      <td>0.000000</td>\n",
       "      <td>0.000000</td>\n",
       "      <td>0.000000</td>\n",
       "      <td>0.000000</td>\n",
       "      <td>0.000000</td>\n",
       "      <td>0.000000</td>\n",
       "      <td>0.000000</td>\n",
       "      <td>0.000000</td>\n",
       "      <td>0.000000</td>\n",
       "      <td>0.000000</td>\n",
       "    </tr>\n",
       "    <tr>\n",
       "      <th>2</th>\n",
       "      <td>18</td>\n",
       "      <td>2011</td>\n",
       "      <td>2</td>\n",
       "      <td>0</td>\n",
       "      <td>1</td>\n",
       "      <td>0</td>\n",
       "      <td>1</td>\n",
       "      <td>0</td>\n",
       "      <td>1</td>\n",
       "      <td>0</td>\n",
       "      <td>...</td>\n",
       "      <td>2.714286</td>\n",
       "      <td>2.714286</td>\n",
       "      <td>0.000000</td>\n",
       "      <td>0.000000</td>\n",
       "      <td>10.775510</td>\n",
       "      <td>0.000000</td>\n",
       "      <td>8.367347</td>\n",
       "      <td>0.000000</td>\n",
       "      <td>0.000000</td>\n",
       "      <td>9.836735</td>\n",
       "    </tr>\n",
       "    <tr>\n",
       "      <th>3</th>\n",
       "      <td>18</td>\n",
       "      <td>2012</td>\n",
       "      <td>3</td>\n",
       "      <td>0</td>\n",
       "      <td>1</td>\n",
       "      <td>0</td>\n",
       "      <td>1</td>\n",
       "      <td>0</td>\n",
       "      <td>1</td>\n",
       "      <td>0</td>\n",
       "      <td>...</td>\n",
       "      <td>4.200000</td>\n",
       "      <td>4.200000</td>\n",
       "      <td>0.000000</td>\n",
       "      <td>0.000000</td>\n",
       "      <td>12.100000</td>\n",
       "      <td>0.000000</td>\n",
       "      <td>9.400000</td>\n",
       "      <td>0.000000</td>\n",
       "      <td>0.000000</td>\n",
       "      <td>9.960000</td>\n",
       "    </tr>\n",
       "    <tr>\n",
       "      <th>4</th>\n",
       "      <td>18</td>\n",
       "      <td>2012</td>\n",
       "      <td>4</td>\n",
       "      <td>0</td>\n",
       "      <td>1</td>\n",
       "      <td>0</td>\n",
       "      <td>1</td>\n",
       "      <td>0</td>\n",
       "      <td>1</td>\n",
       "      <td>0</td>\n",
       "      <td>...</td>\n",
       "      <td>5.460000</td>\n",
       "      <td>5.460000</td>\n",
       "      <td>0.000000</td>\n",
       "      <td>0.000000</td>\n",
       "      <td>13.360000</td>\n",
       "      <td>0.000000</td>\n",
       "      <td>10.320000</td>\n",
       "      <td>0.000000</td>\n",
       "      <td>0.000000</td>\n",
       "      <td>10.280000</td>\n",
       "    </tr>\n",
       "    <tr>\n",
       "      <th>...</th>\n",
       "      <td>...</td>\n",
       "      <td>...</td>\n",
       "      <td>...</td>\n",
       "      <td>...</td>\n",
       "      <td>...</td>\n",
       "      <td>...</td>\n",
       "      <td>...</td>\n",
       "      <td>...</td>\n",
       "      <td>...</td>\n",
       "      <td>...</td>\n",
       "      <td>...</td>\n",
       "      <td>...</td>\n",
       "      <td>...</td>\n",
       "      <td>...</td>\n",
       "      <td>...</td>\n",
       "      <td>...</td>\n",
       "      <td>...</td>\n",
       "      <td>...</td>\n",
       "      <td>...</td>\n",
       "      <td>...</td>\n",
       "      <td>...</td>\n",
       "    </tr>\n",
       "    <tr>\n",
       "      <th>643685</th>\n",
       "      <td>1827860</td>\n",
       "      <td>2013</td>\n",
       "      <td>1</td>\n",
       "      <td>0</td>\n",
       "      <td>0</td>\n",
       "      <td>0</td>\n",
       "      <td>1</td>\n",
       "      <td>0</td>\n",
       "      <td>0</td>\n",
       "      <td>1</td>\n",
       "      <td>...</td>\n",
       "      <td>0.000000</td>\n",
       "      <td>0.000000</td>\n",
       "      <td>0.000000</td>\n",
       "      <td>0.000000</td>\n",
       "      <td>0.612903</td>\n",
       "      <td>0.000000</td>\n",
       "      <td>0.000000</td>\n",
       "      <td>0.000000</td>\n",
       "      <td>0.000000</td>\n",
       "      <td>0.000000</td>\n",
       "    </tr>\n",
       "    <tr>\n",
       "      <th>643686</th>\n",
       "      <td>1827860</td>\n",
       "      <td>2015</td>\n",
       "      <td>2</td>\n",
       "      <td>1</td>\n",
       "      <td>0</td>\n",
       "      <td>0</td>\n",
       "      <td>1</td>\n",
       "      <td>0</td>\n",
       "      <td>1</td>\n",
       "      <td>0</td>\n",
       "      <td>...</td>\n",
       "      <td>0.000000</td>\n",
       "      <td>0.000000</td>\n",
       "      <td>0.212121</td>\n",
       "      <td>0.212121</td>\n",
       "      <td>17.363636</td>\n",
       "      <td>0.000000</td>\n",
       "      <td>8.909091</td>\n",
       "      <td>0.000000</td>\n",
       "      <td>0.000000</td>\n",
       "      <td>7.121212</td>\n",
       "    </tr>\n",
       "    <tr>\n",
       "      <th>643687</th>\n",
       "      <td>1827860</td>\n",
       "      <td>2016</td>\n",
       "      <td>3</td>\n",
       "      <td>1</td>\n",
       "      <td>0</td>\n",
       "      <td>0</td>\n",
       "      <td>1</td>\n",
       "      <td>1</td>\n",
       "      <td>0</td>\n",
       "      <td>1</td>\n",
       "      <td>...</td>\n",
       "      <td>0.000000</td>\n",
       "      <td>0.000000</td>\n",
       "      <td>0.294118</td>\n",
       "      <td>0.205882</td>\n",
       "      <td>34.705882</td>\n",
       "      <td>0.000000</td>\n",
       "      <td>10.352941</td>\n",
       "      <td>1.705882</td>\n",
       "      <td>1.705882</td>\n",
       "      <td>23.911765</td>\n",
       "    </tr>\n",
       "    <tr>\n",
       "      <th>643688</th>\n",
       "      <td>1827869</td>\n",
       "      <td>2013</td>\n",
       "      <td>1</td>\n",
       "      <td>1</td>\n",
       "      <td>1</td>\n",
       "      <td>0</td>\n",
       "      <td>0</td>\n",
       "      <td>0</td>\n",
       "      <td>1</td>\n",
       "      <td>0</td>\n",
       "      <td>...</td>\n",
       "      <td>0.000000</td>\n",
       "      <td>0.000000</td>\n",
       "      <td>0.000000</td>\n",
       "      <td>0.000000</td>\n",
       "      <td>0.000000</td>\n",
       "      <td>0.525424</td>\n",
       "      <td>0.000000</td>\n",
       "      <td>0.000000</td>\n",
       "      <td>0.000000</td>\n",
       "      <td>0.000000</td>\n",
       "    </tr>\n",
       "    <tr>\n",
       "      <th>643689</th>\n",
       "      <td>1827869</td>\n",
       "      <td>2014</td>\n",
       "      <td>2</td>\n",
       "      <td>0</td>\n",
       "      <td>0</td>\n",
       "      <td>1</td>\n",
       "      <td>0</td>\n",
       "      <td>0</td>\n",
       "      <td>1</td>\n",
       "      <td>0</td>\n",
       "      <td>...</td>\n",
       "      <td>0.000000</td>\n",
       "      <td>0.666667</td>\n",
       "      <td>0.666667</td>\n",
       "      <td>0.000000</td>\n",
       "      <td>0.000000</td>\n",
       "      <td>8.950000</td>\n",
       "      <td>1.033333</td>\n",
       "      <td>0.083333</td>\n",
       "      <td>0.083333</td>\n",
       "      <td>8.133333</td>\n",
       "    </tr>\n",
       "  </tbody>\n",
       "</table>\n",
       "<p>643690 rows × 164 columns</p>\n",
       "</div>"
      ],
      "text/plain": [
       "         persnr  year  nrEntry  ltue  employed_before  receipt_leh_before  \\\n",
       "0             7  2015        1     0                1                   0   \n",
       "1            18  2010        1     1                0                   0   \n",
       "2            18  2011        2     0                1                   0   \n",
       "3            18  2012        3     0                1                   0   \n",
       "4            18  2012        4     0                1                   0   \n",
       "...         ...   ...      ...   ...              ...                 ...   \n",
       "643685  1827860  2013        1     0                0                   0   \n",
       "643686  1827860  2015        2     1                0                   0   \n",
       "643687  1827860  2016        3     1                0                   0   \n",
       "643688  1827869  2013        1     1                1                   0   \n",
       "643689  1827869  2014        2     0                0                   1   \n",
       "\n",
       "        receipt_lhg_before  se_before  ASU_notue_seeking_before  \\\n",
       "0                        0          0                         1   \n",
       "1                        0          0                         0   \n",
       "2                        1          0                         1   \n",
       "3                        1          0                         1   \n",
       "4                        1          0                         1   \n",
       "...                    ...        ...                       ...   \n",
       "643685                   1          0                         0   \n",
       "643686                   1          0                         1   \n",
       "643687                   1          1                         0   \n",
       "643688                   0          0                         1   \n",
       "643689                   0          0                         1   \n",
       "\n",
       "        ASU_other_before  ...  minijob_tot_dur_byage  ft_tot_dur_byage  \\\n",
       "0                      0  ...               0.000000          0.000000   \n",
       "1                      0  ...               0.000000          0.000000   \n",
       "2                      0  ...               2.714286          2.714286   \n",
       "3                      0  ...               4.200000          4.200000   \n",
       "4                      0  ...               5.460000          5.460000   \n",
       "...                  ...  ...                    ...               ...   \n",
       "643685                 1  ...               0.000000          0.000000   \n",
       "643686                 0  ...               0.000000          0.000000   \n",
       "643687                 1  ...               0.000000          0.000000   \n",
       "643688                 0  ...               0.000000          0.000000   \n",
       "643689                 0  ...               0.000000          0.666667   \n",
       "\n",
       "        befrist_tot_dur_byage  leih_tot_dur_byage  LHG_tot_dur_byage  \\\n",
       "0                   15.043478            0.000000           0.000000   \n",
       "1                    0.000000            0.000000           0.000000   \n",
       "2                    0.000000            0.000000          10.775510   \n",
       "3                    0.000000            0.000000          12.100000   \n",
       "4                    0.000000            0.000000          13.360000   \n",
       "...                       ...                 ...                ...   \n",
       "643685               0.000000            0.000000           0.612903   \n",
       "643686               0.212121            0.212121          17.363636   \n",
       "643687               0.294118            0.205882          34.705882   \n",
       "643688               0.000000            0.000000           0.000000   \n",
       "643689               0.666667            0.000000           0.000000   \n",
       "\n",
       "        LEH_tot_dur_byage  almp_tot_dur_byage  almp_aw_tot_dur_byage  \\\n",
       "0                0.000000            0.000000               0.000000   \n",
       "1                0.000000            0.000000               0.000000   \n",
       "2                0.000000            8.367347               0.000000   \n",
       "3                0.000000            9.400000               0.000000   \n",
       "4                0.000000           10.320000               0.000000   \n",
       "...                   ...                 ...                    ...   \n",
       "643685           0.000000            0.000000               0.000000   \n",
       "643686           0.000000            8.909091               0.000000   \n",
       "643687           0.000000           10.352941               1.705882   \n",
       "643688           0.525424            0.000000               0.000000   \n",
       "643689           8.950000            1.033333               0.083333   \n",
       "\n",
       "        se_tot_dur_byage  seeking1_tot_dur_byage  \n",
       "0               0.000000                0.000000  \n",
       "1               0.000000                0.000000  \n",
       "2               0.000000                9.836735  \n",
       "3               0.000000                9.960000  \n",
       "4               0.000000               10.280000  \n",
       "...                  ...                     ...  \n",
       "643685          0.000000                0.000000  \n",
       "643686          0.000000                7.121212  \n",
       "643687          1.705882               23.911765  \n",
       "643688          0.000000                0.000000  \n",
       "643689          0.083333                8.133333  \n",
       "\n",
       "[643690 rows x 164 columns]"
      ]
     },
     "execution_count": 10,
     "metadata": {},
     "output_type": "execute_result"
    }
   ],
   "source": [
    "siab"
   ]
  },
  {
   "cell_type": "markdown",
   "id": "1f87e805",
   "metadata": {
    "papermill": {
     "duration": 0.01131,
     "end_time": "2025-08-19T18:32:09.704167",
     "exception": false,
     "start_time": "2025-08-19T18:32:09.692857",
     "status": "completed"
    },
    "tags": []
   },
   "source": [
    "# Splitting Data and Setting Training Data Size"
   ]
  },
  {
   "cell_type": "code",
   "execution_count": 11,
   "id": "910ae358",
   "metadata": {
    "execution": {
     "iopub.execute_input": "2025-08-19T18:32:09.727569Z",
     "iopub.status.busy": "2025-08-19T18:32:09.726342Z",
     "iopub.status.idle": "2025-08-19T18:32:10.496036Z",
     "shell.execute_reply": "2025-08-19T18:32:10.494376Z"
    },
    "papermill": {
     "duration": 0.783657,
     "end_time": "2025-08-19T18:32:10.498086",
     "exception": false,
     "start_time": "2025-08-19T18:32:09.714429",
     "status": "completed"
    },
    "tags": []
   },
   "outputs": [],
   "source": [
    "from fairness_multiverse.universe import sample_by_year_size\n",
    "\n",
    "siab_train = sample_by_year_size(siab,\n",
    "                               training_year=universe[\"training_year\"],\n",
    "                               training_size=universe[\"training_size\"])"
   ]
  },
  {
   "cell_type": "code",
   "execution_count": 12,
   "id": "919c8ff5",
   "metadata": {
    "execution": {
     "iopub.execute_input": "2025-08-19T18:32:10.531330Z",
     "iopub.status.busy": "2025-08-19T18:32:10.529523Z",
     "iopub.status.idle": "2025-08-19T18:32:10.540447Z",
     "shell.execute_reply": "2025-08-19T18:32:10.539268Z"
    },
    "papermill": {
     "duration": 0.025447,
     "end_time": "2025-08-19T18:32:10.542118",
     "exception": false,
     "start_time": "2025-08-19T18:32:10.516671",
     "status": "completed"
    },
    "tags": []
   },
   "outputs": [
    {
     "data": {
      "text/plain": [
       "(5000, 164)"
      ]
     },
     "execution_count": 12,
     "metadata": {},
     "output_type": "execute_result"
    }
   ],
   "source": [
    "siab_train.shape"
   ]
  },
  {
   "cell_type": "code",
   "execution_count": 13,
   "id": "feb13bf4",
   "metadata": {
    "execution": {
     "iopub.execute_input": "2025-08-19T18:32:10.566355Z",
     "iopub.status.busy": "2025-08-19T18:32:10.564463Z",
     "iopub.status.idle": "2025-08-19T18:32:10.589571Z",
     "shell.execute_reply": "2025-08-19T18:32:10.588409Z"
    },
    "papermill": {
     "duration": 0.039456,
     "end_time": "2025-08-19T18:32:10.592355",
     "exception": false,
     "start_time": "2025-08-19T18:32:10.552899",
     "status": "completed"
    },
    "tags": []
   },
   "outputs": [
    {
     "data": {
      "text/plain": [
       "year\n",
       "2012    1667\n",
       "2013    1667\n",
       "2014    1666\n",
       "dtype: int64"
      ]
     },
     "metadata": {},
     "output_type": "display_data"
    }
   ],
   "source": [
    "display(siab_train.groupby(\"year\").size())"
   ]
  },
  {
   "cell_type": "code",
   "execution_count": 14,
   "id": "0997782f",
   "metadata": {
    "execution": {
     "iopub.execute_input": "2025-08-19T18:32:10.627638Z",
     "iopub.status.busy": "2025-08-19T18:32:10.626737Z",
     "iopub.status.idle": "2025-08-19T18:32:10.983676Z",
     "shell.execute_reply": "2025-08-19T18:32:10.982415Z"
    },
    "papermill": {
     "duration": 0.373771,
     "end_time": "2025-08-19T18:32:10.987130",
     "exception": false,
     "start_time": "2025-08-19T18:32:10.613359",
     "status": "completed"
    },
    "tags": []
   },
   "outputs": [],
   "source": [
    "#siab_train = siab_s[siab_s.year < 2015]\n",
    "siab_calib = siab[siab.year == 2015]\n",
    "siab_test = siab[siab.year == 2016]"
   ]
  },
  {
   "cell_type": "code",
   "execution_count": 15,
   "id": "2c1e4012",
   "metadata": {
    "execution": {
     "iopub.execute_input": "2025-08-19T18:32:11.027323Z",
     "iopub.status.busy": "2025-08-19T18:32:11.025980Z",
     "iopub.status.idle": "2025-08-19T18:32:11.035168Z",
     "shell.execute_reply": "2025-08-19T18:32:11.033763Z"
    },
    "papermill": {
     "duration": 0.025675,
     "end_time": "2025-08-19T18:32:11.036962",
     "exception": false,
     "start_time": "2025-08-19T18:32:11.011287",
     "status": "completed"
    },
    "tags": []
   },
   "outputs": [],
   "source": [
    "#siab_calib.shape"
   ]
  },
  {
   "cell_type": "code",
   "execution_count": 16,
   "id": "f66b54ca",
   "metadata": {
    "execution": {
     "iopub.execute_input": "2025-08-19T18:32:11.063009Z",
     "iopub.status.busy": "2025-08-19T18:32:11.061710Z",
     "iopub.status.idle": "2025-08-19T18:32:11.087909Z",
     "shell.execute_reply": "2025-08-19T18:32:11.086345Z"
    },
    "papermill": {
     "duration": 0.041109,
     "end_time": "2025-08-19T18:32:11.090392",
     "exception": false,
     "start_time": "2025-08-19T18:32:11.049283",
     "status": "completed"
    },
    "tags": []
   },
   "outputs": [],
   "source": [
    "#siab_test.shape"
   ]
  },
  {
   "cell_type": "code",
   "execution_count": 17,
   "id": "27e4384d",
   "metadata": {
    "execution": {
     "iopub.execute_input": "2025-08-19T18:32:11.121857Z",
     "iopub.status.busy": "2025-08-19T18:32:11.120339Z",
     "iopub.status.idle": "2025-08-19T18:32:11.182567Z",
     "shell.execute_reply": "2025-08-19T18:32:11.180721Z"
    },
    "papermill": {
     "duration": 0.07837,
     "end_time": "2025-08-19T18:32:11.186011",
     "exception": false,
     "start_time": "2025-08-19T18:32:11.107641",
     "status": "completed"
    },
    "tags": []
   },
   "outputs": [],
   "source": [
    "X_train = siab_train.iloc[:,4:164]\n",
    "y_train = siab_train.iloc[:, [3]]"
   ]
  },
  {
   "cell_type": "code",
   "execution_count": 18,
   "id": "08ee8389",
   "metadata": {
    "execution": {
     "iopub.execute_input": "2025-08-19T18:32:11.237449Z",
     "iopub.status.busy": "2025-08-19T18:32:11.236337Z",
     "iopub.status.idle": "2025-08-19T18:32:11.299206Z",
     "shell.execute_reply": "2025-08-19T18:32:11.298230Z"
    },
    "papermill": {
     "duration": 0.08331,
     "end_time": "2025-08-19T18:32:11.300628",
     "exception": false,
     "start_time": "2025-08-19T18:32:11.217318",
     "status": "completed"
    },
    "tags": []
   },
   "outputs": [],
   "source": [
    "X_calib = siab_calib.iloc[:,4:164]\n",
    "y_calib = siab_calib.iloc[:, [3]]"
   ]
  },
  {
   "cell_type": "code",
   "execution_count": 19,
   "id": "b7ff42e0",
   "metadata": {
    "execution": {
     "iopub.execute_input": "2025-08-19T18:32:11.327531Z",
     "iopub.status.busy": "2025-08-19T18:32:11.327008Z",
     "iopub.status.idle": "2025-08-19T18:32:11.394543Z",
     "shell.execute_reply": "2025-08-19T18:32:11.393215Z"
    },
    "papermill": {
     "duration": 0.085836,
     "end_time": "2025-08-19T18:32:11.397193",
     "exception": false,
     "start_time": "2025-08-19T18:32:11.311357",
     "status": "completed"
    },
    "tags": []
   },
   "outputs": [],
   "source": [
    "X_test = siab_test.iloc[:,4:164]\n",
    "y_true = siab_test.iloc[:, [3]]"
   ]
  },
  {
   "cell_type": "code",
   "execution_count": 20,
   "id": "0275101e",
   "metadata": {
    "execution": {
     "iopub.execute_input": "2025-08-19T18:32:11.429900Z",
     "iopub.status.busy": "2025-08-19T18:32:11.428388Z",
     "iopub.status.idle": "2025-08-19T18:32:11.576441Z",
     "shell.execute_reply": "2025-08-19T18:32:11.574946Z"
    },
    "papermill": {
     "duration": 0.167252,
     "end_time": "2025-08-19T18:32:11.582102",
     "exception": false,
     "start_time": "2025-08-19T18:32:11.414850",
     "status": "completed"
    },
    "tags": []
   },
   "outputs": [],
   "source": [
    "# Auxiliary data needed downstream in the pipeline\n",
    "\n",
    "org_train = X_train.copy()\n",
    "org_test = X_test.copy()\n",
    "org_calib = X_calib.copy()"
   ]
  },
  {
   "cell_type": "markdown",
   "id": "b461e618",
   "metadata": {
    "papermill": {
     "duration": 0.010944,
     "end_time": "2025-08-19T18:32:11.611387",
     "exception": false,
     "start_time": "2025-08-19T18:32:11.600443",
     "status": "completed"
    },
    "tags": []
   },
   "source": [
    "# Preprocessing Data"
   ]
  },
  {
   "cell_type": "code",
   "execution_count": 21,
   "id": "78e74c4b",
   "metadata": {
    "execution": {
     "iopub.execute_input": "2025-08-19T18:32:11.658770Z",
     "iopub.status.busy": "2025-08-19T18:32:11.657534Z",
     "iopub.status.idle": "2025-08-19T18:32:11.664338Z",
     "shell.execute_reply": "2025-08-19T18:32:11.663550Z"
    },
    "papermill": {
     "duration": 0.033039,
     "end_time": "2025-08-19T18:32:11.666771",
     "exception": false,
     "start_time": "2025-08-19T18:32:11.633732",
     "status": "completed"
    },
    "tags": []
   },
   "outputs": [],
   "source": [
    "# EXCLUDE PROTECTED FEATURES\n",
    "# --------------------------\n",
    "\n",
    "excluded_features = universe[\"exclude_features\"].split(\"-\")\n",
    "excluded_features_dictionary = {\n",
    "    \"nationality\": [\"maxdeutsch1\", \"maxdeutsch.Missing.\"],\n",
    "    \"sex\": [\"frau1\"],\n",
    "    \"age\": [\"age\"],\n",
    "}"
   ]
  },
  {
   "cell_type": "code",
   "execution_count": 22,
   "id": "f8e63555",
   "metadata": {
    "execution": {
     "iopub.execute_input": "2025-08-19T18:32:11.698128Z",
     "iopub.status.busy": "2025-08-19T18:32:11.696995Z",
     "iopub.status.idle": "2025-08-19T18:32:11.711963Z",
     "shell.execute_reply": "2025-08-19T18:32:11.709064Z"
    },
    "papermill": {
     "duration": 0.029867,
     "end_time": "2025-08-19T18:32:11.713959",
     "exception": false,
     "start_time": "2025-08-19T18:32:11.684092",
     "status": "completed"
    },
    "tags": []
   },
   "outputs": [],
   "source": [
    "excluded_features_columns = [\n",
    "    excluded_features_dictionary[f] for f in excluded_features if len(f) > 0 and f != \"none\"\n",
    "]"
   ]
  },
  {
   "cell_type": "code",
   "execution_count": 23,
   "id": "da781f7c",
   "metadata": {
    "execution": {
     "iopub.execute_input": "2025-08-19T18:32:11.748406Z",
     "iopub.status.busy": "2025-08-19T18:32:11.745311Z",
     "iopub.status.idle": "2025-08-19T18:32:11.760172Z",
     "shell.execute_reply": "2025-08-19T18:32:11.759016Z"
    },
    "papermill": {
     "duration": 0.030117,
     "end_time": "2025-08-19T18:32:11.762620",
     "exception": false,
     "start_time": "2025-08-19T18:32:11.732503",
     "status": "completed"
    },
    "tags": []
   },
   "outputs": [],
   "source": [
    "from fairness_multiverse.universe import flatten_once\n",
    "\n",
    "excluded_features_columns = flatten_once(excluded_features_columns)"
   ]
  },
  {
   "cell_type": "code",
   "execution_count": 24,
   "id": "37fef0f0",
   "metadata": {
    "execution": {
     "iopub.execute_input": "2025-08-19T18:32:11.807427Z",
     "iopub.status.busy": "2025-08-19T18:32:11.806915Z",
     "iopub.status.idle": "2025-08-19T18:32:11.825547Z",
     "shell.execute_reply": "2025-08-19T18:32:11.824519Z"
    },
    "papermill": {
     "duration": 0.049121,
     "end_time": "2025-08-19T18:32:11.836833",
     "exception": false,
     "start_time": "2025-08-19T18:32:11.787712",
     "status": "completed"
    },
    "tags": []
   },
   "outputs": [
    {
     "name": "stdout",
     "output_type": "stream",
     "text": [
      "Dropping features: ['frau1']\n"
     ]
    }
   ],
   "source": [
    "if len(excluded_features_columns) > 0:\n",
    "    print(f\"Dropping features: {excluded_features_columns}\")\n",
    "    X_train.drop(excluded_features_columns, axis=1, inplace=True)"
   ]
  },
  {
   "cell_type": "code",
   "execution_count": 25,
   "id": "d029e3e9",
   "metadata": {
    "execution": {
     "iopub.execute_input": "2025-08-19T18:32:11.862802Z",
     "iopub.status.busy": "2025-08-19T18:32:11.862336Z",
     "iopub.status.idle": "2025-08-19T18:32:11.948738Z",
     "shell.execute_reply": "2025-08-19T18:32:11.947648Z"
    },
    "papermill": {
     "duration": 0.099176,
     "end_time": "2025-08-19T18:32:11.950183",
     "exception": false,
     "start_time": "2025-08-19T18:32:11.851007",
     "status": "completed"
    },
    "tags": []
   },
   "outputs": [
    {
     "name": "stdout",
     "output_type": "stream",
     "text": [
      "Dropping features: ['frau1']\n"
     ]
    }
   ],
   "source": [
    "if len(excluded_features_columns) > 0:\n",
    "    print(f\"Dropping features: {excluded_features_columns}\")\n",
    "    X_test.drop(excluded_features_columns, axis=1, inplace=True)"
   ]
  },
  {
   "cell_type": "code",
   "execution_count": 26,
   "id": "01d571f0",
   "metadata": {
    "execution": {
     "iopub.execute_input": "2025-08-19T18:32:11.976359Z",
     "iopub.status.busy": "2025-08-19T18:32:11.975609Z",
     "iopub.status.idle": "2025-08-19T18:32:12.058160Z",
     "shell.execute_reply": "2025-08-19T18:32:12.056801Z"
    },
    "papermill": {
     "duration": 0.096966,
     "end_time": "2025-08-19T18:32:12.060048",
     "exception": false,
     "start_time": "2025-08-19T18:32:11.963082",
     "status": "completed"
    },
    "tags": []
   },
   "outputs": [
    {
     "name": "stdout",
     "output_type": "stream",
     "text": [
      "Dropping features: ['frau1']\n"
     ]
    }
   ],
   "source": [
    "if len(excluded_features_columns) > 0:\n",
    "    print(f\"Dropping features: {excluded_features_columns}\")\n",
    "    X_calib.drop(excluded_features_columns, axis=1, inplace=True)"
   ]
  },
  {
   "cell_type": "code",
   "execution_count": 27,
   "id": "3037356e",
   "metadata": {
    "execution": {
     "iopub.execute_input": "2025-08-19T18:32:12.109819Z",
     "iopub.status.busy": "2025-08-19T18:32:12.109293Z",
     "iopub.status.idle": "2025-08-19T18:32:12.116789Z",
     "shell.execute_reply": "2025-08-19T18:32:12.115887Z"
    },
    "papermill": {
     "duration": 0.037298,
     "end_time": "2025-08-19T18:32:12.118825",
     "exception": false,
     "start_time": "2025-08-19T18:32:12.081527",
     "status": "completed"
    },
    "tags": []
   },
   "outputs": [],
   "source": [
    "# EXCLUDE CERTAIN SUBGROUPS\n",
    "# -------------------------\n",
    "\n",
    "mode = universe.get(\"exclude_subgroups\", \"keep-all\") # Defaults to \"keep-all\" if the key is missing."
   ]
  },
  {
   "cell_type": "code",
   "execution_count": 28,
   "id": "9d1e63fd",
   "metadata": {
    "execution": {
     "iopub.execute_input": "2025-08-19T18:32:12.151427Z",
     "iopub.status.busy": "2025-08-19T18:32:12.150024Z",
     "iopub.status.idle": "2025-08-19T18:32:12.159373Z",
     "shell.execute_reply": "2025-08-19T18:32:12.158464Z"
    },
    "papermill": {
     "duration": 0.02552,
     "end_time": "2025-08-19T18:32:12.160827",
     "exception": false,
     "start_time": "2025-08-19T18:32:12.135307",
     "status": "completed"
    },
    "tags": []
   },
   "outputs": [],
   "source": [
    "if mode == \"keep-all\":\n",
    "    keep_mask = pd.Series(True, index=org_train.index)\n",
    "\n",
    "elif mode == \"drop-non-german\":\n",
    "    keep_mask = (org_train[\"maxdeutsch1\"] == 1) & (org_train[\"maxdeutsch.Missing.\"] == 0)\n",
    "\n",
    "else:\n",
    "    raise ValueError(f\"Unsupported mode for exclude_subgroups: {mode}\")"
   ]
  },
  {
   "cell_type": "code",
   "execution_count": 29,
   "id": "d3b65474",
   "metadata": {
    "execution": {
     "iopub.execute_input": "2025-08-19T18:32:12.191991Z",
     "iopub.status.busy": "2025-08-19T18:32:12.190586Z",
     "iopub.status.idle": "2025-08-19T18:32:12.202748Z",
     "shell.execute_reply": "2025-08-19T18:32:12.201656Z"
    },
    "papermill": {
     "duration": 0.027011,
     "end_time": "2025-08-19T18:32:12.204920",
     "exception": false,
     "start_time": "2025-08-19T18:32:12.177909",
     "status": "completed"
    },
    "tags": []
   },
   "outputs": [],
   "source": [
    "n_drop = (~keep_mask).sum() # Calculates how many rows are set to be dropped\n",
    "if n_drop > 0:\n",
    "    pct = n_drop / len(keep_mask) * 100\n",
    "    print(f\"Dropping {n_drop} rows ({pct:.2f}%) where mode='{mode}'\")"
   ]
  },
  {
   "cell_type": "code",
   "execution_count": 30,
   "id": "f44389b3",
   "metadata": {
    "execution": {
     "iopub.execute_input": "2025-08-19T18:32:12.231157Z",
     "iopub.status.busy": "2025-08-19T18:32:12.229997Z",
     "iopub.status.idle": "2025-08-19T18:32:12.255855Z",
     "shell.execute_reply": "2025-08-19T18:32:12.254677Z"
    },
    "papermill": {
     "duration": 0.040563,
     "end_time": "2025-08-19T18:32:12.258649",
     "exception": false,
     "start_time": "2025-08-19T18:32:12.218086",
     "status": "completed"
    },
    "tags": []
   },
   "outputs": [],
   "source": [
    "X_train = X_train[keep_mask]"
   ]
  },
  {
   "cell_type": "code",
   "execution_count": 31,
   "id": "ceca8c2a",
   "metadata": {
    "execution": {
     "iopub.execute_input": "2025-08-19T18:32:12.316214Z",
     "iopub.status.busy": "2025-08-19T18:32:12.315324Z",
     "iopub.status.idle": "2025-08-19T18:32:12.330801Z",
     "shell.execute_reply": "2025-08-19T18:32:12.329738Z"
    },
    "papermill": {
     "duration": 0.046795,
     "end_time": "2025-08-19T18:32:12.332881",
     "exception": false,
     "start_time": "2025-08-19T18:32:12.286086",
     "status": "completed"
    },
    "tags": []
   },
   "outputs": [],
   "source": [
    "y_train = y_train[keep_mask]"
   ]
  },
  {
   "cell_type": "markdown",
   "id": "04d31e2f",
   "metadata": {
    "papermill": {
     "duration": 0.013191,
     "end_time": "2025-08-19T18:32:12.365074",
     "exception": false,
     "start_time": "2025-08-19T18:32:12.351883",
     "status": "completed"
    },
    "tags": []
   },
   "source": [
    "# Model Training"
   ]
  },
  {
   "cell_type": "code",
   "execution_count": 32,
   "id": "db991733",
   "metadata": {
    "execution": {
     "iopub.execute_input": "2025-08-19T18:32:12.395118Z",
     "iopub.status.busy": "2025-08-19T18:32:12.394302Z",
     "iopub.status.idle": "2025-08-19T18:32:12.493939Z",
     "shell.execute_reply": "2025-08-19T18:32:12.492893Z"
    },
    "papermill": {
     "duration": 0.119493,
     "end_time": "2025-08-19T18:32:12.497142",
     "exception": false,
     "start_time": "2025-08-19T18:32:12.377649",
     "status": "completed"
    },
    "tags": []
   },
   "outputs": [],
   "source": [
    "from sklearn.linear_model import LogisticRegression\n",
    "from sklearn.ensemble import GradientBoostingClassifier, RandomForestClassifier\n",
    "\n",
    "if (universe[\"model\"] == \"logreg\"):\n",
    "    model = LogisticRegression() #penalty=\"none\", solver=\"newton-cg\", max_iter=1)\n",
    "elif (universe[\"model\"] == \"penalized_logreg\"):\n",
    "    model = LogisticRegression(penalty=\"l2\", C=0.1) #, solver=\"newton-cg\", max_iter=1)\n",
    "elif (universe[\"model\"] == \"rf\"):\n",
    "    model = RandomForestClassifier() # n_estimators=100, n_jobs=-1\n",
    "elif (universe[\"model\"] == \"gbm\"):\n",
    "    model = GradientBoostingClassifier()\n",
    "elif (universe[\"model\"] == \"elasticnet\"):\n",
    "    model = LogisticRegression(penalty = 'elasticnet', solver = 'saga', l1_ratio = 0.5) # max_iter=5000\n",
    "else:\n",
    "    raise \"Unsupported universe.model\""
   ]
  },
  {
   "cell_type": "code",
   "execution_count": 33,
   "id": "a4b5cd25",
   "metadata": {
    "execution": {
     "iopub.execute_input": "2025-08-19T18:32:12.543659Z",
     "iopub.status.busy": "2025-08-19T18:32:12.542131Z",
     "iopub.status.idle": "2025-08-19T18:32:12.553213Z",
     "shell.execute_reply": "2025-08-19T18:32:12.552277Z"
    },
    "papermill": {
     "duration": 0.03291,
     "end_time": "2025-08-19T18:32:12.556214",
     "exception": false,
     "start_time": "2025-08-19T18:32:12.523304",
     "status": "completed"
    },
    "tags": []
   },
   "outputs": [],
   "source": [
    "from sklearn.pipeline import Pipeline\n",
    "from sklearn.preprocessing import StandardScaler\n",
    "\n",
    "model = Pipeline([\n",
    "    #(\"continuous_processor\", continuous_processor),\n",
    "    #(\"categorical_preprocessor\", categorical_preprocessor),\n",
    "    (\"scale\", StandardScaler() if universe[\"scale\"] == \"scale\" else None), \n",
    "    (\"model\", model),\n",
    "])"
   ]
  },
  {
   "cell_type": "code",
   "execution_count": 34,
   "id": "283a904d",
   "metadata": {
    "execution": {
     "iopub.execute_input": "2025-08-19T18:32:12.591490Z",
     "iopub.status.busy": "2025-08-19T18:32:12.590892Z",
     "iopub.status.idle": "2025-08-19T18:32:12.954380Z",
     "shell.execute_reply": "2025-08-19T18:32:12.953378Z"
    },
    "papermill": {
     "duration": 0.377352,
     "end_time": "2025-08-19T18:32:12.955867",
     "exception": false,
     "start_time": "2025-08-19T18:32:12.578515",
     "status": "completed"
    },
    "tags": []
   },
   "outputs": [
    {
     "data": {
      "text/html": [
       "<style>#sk-container-id-1 {color: black;background-color: white;}#sk-container-id-1 pre{padding: 0;}#sk-container-id-1 div.sk-toggleable {background-color: white;}#sk-container-id-1 label.sk-toggleable__label {cursor: pointer;display: block;width: 100%;margin-bottom: 0;padding: 0.3em;box-sizing: border-box;text-align: center;}#sk-container-id-1 label.sk-toggleable__label-arrow:before {content: \"▸\";float: left;margin-right: 0.25em;color: #696969;}#sk-container-id-1 label.sk-toggleable__label-arrow:hover:before {color: black;}#sk-container-id-1 div.sk-estimator:hover label.sk-toggleable__label-arrow:before {color: black;}#sk-container-id-1 div.sk-toggleable__content {max-height: 0;max-width: 0;overflow: hidden;text-align: left;background-color: #f0f8ff;}#sk-container-id-1 div.sk-toggleable__content pre {margin: 0.2em;color: black;border-radius: 0.25em;background-color: #f0f8ff;}#sk-container-id-1 input.sk-toggleable__control:checked~div.sk-toggleable__content {max-height: 200px;max-width: 100%;overflow: auto;}#sk-container-id-1 input.sk-toggleable__control:checked~label.sk-toggleable__label-arrow:before {content: \"▾\";}#sk-container-id-1 div.sk-estimator input.sk-toggleable__control:checked~label.sk-toggleable__label {background-color: #d4ebff;}#sk-container-id-1 div.sk-label input.sk-toggleable__control:checked~label.sk-toggleable__label {background-color: #d4ebff;}#sk-container-id-1 input.sk-hidden--visually {border: 0;clip: rect(1px 1px 1px 1px);clip: rect(1px, 1px, 1px, 1px);height: 1px;margin: -1px;overflow: hidden;padding: 0;position: absolute;width: 1px;}#sk-container-id-1 div.sk-estimator {font-family: monospace;background-color: #f0f8ff;border: 1px dotted black;border-radius: 0.25em;box-sizing: border-box;margin-bottom: 0.5em;}#sk-container-id-1 div.sk-estimator:hover {background-color: #d4ebff;}#sk-container-id-1 div.sk-parallel-item::after {content: \"\";width: 100%;border-bottom: 1px solid gray;flex-grow: 1;}#sk-container-id-1 div.sk-label:hover label.sk-toggleable__label {background-color: #d4ebff;}#sk-container-id-1 div.sk-serial::before {content: \"\";position: absolute;border-left: 1px solid gray;box-sizing: border-box;top: 0;bottom: 0;left: 50%;z-index: 0;}#sk-container-id-1 div.sk-serial {display: flex;flex-direction: column;align-items: center;background-color: white;padding-right: 0.2em;padding-left: 0.2em;position: relative;}#sk-container-id-1 div.sk-item {position: relative;z-index: 1;}#sk-container-id-1 div.sk-parallel {display: flex;align-items: stretch;justify-content: center;background-color: white;position: relative;}#sk-container-id-1 div.sk-item::before, #sk-container-id-1 div.sk-parallel-item::before {content: \"\";position: absolute;border-left: 1px solid gray;box-sizing: border-box;top: 0;bottom: 0;left: 50%;z-index: -1;}#sk-container-id-1 div.sk-parallel-item {display: flex;flex-direction: column;z-index: 1;position: relative;background-color: white;}#sk-container-id-1 div.sk-parallel-item:first-child::after {align-self: flex-end;width: 50%;}#sk-container-id-1 div.sk-parallel-item:last-child::after {align-self: flex-start;width: 50%;}#sk-container-id-1 div.sk-parallel-item:only-child::after {width: 0;}#sk-container-id-1 div.sk-dashed-wrapped {border: 1px dashed gray;margin: 0 0.4em 0.5em 0.4em;box-sizing: border-box;padding-bottom: 0.4em;background-color: white;}#sk-container-id-1 div.sk-label label {font-family: monospace;font-weight: bold;display: inline-block;line-height: 1.2em;}#sk-container-id-1 div.sk-label-container {text-align: center;}#sk-container-id-1 div.sk-container {/* jupyter's `normalize.less` sets `[hidden] { display: none; }` but bootstrap.min.css set `[hidden] { display: none !important; }` so we also need the `!important` here to be able to override the default hidden behavior on the sphinx rendered scikit-learn.org. See: https://github.com/scikit-learn/scikit-learn/issues/21755 */display: inline-block !important;position: relative;}#sk-container-id-1 div.sk-text-repr-fallback {display: none;}</style><div id=\"sk-container-id-1\" class=\"sk-top-container\"><div class=\"sk-text-repr-fallback\"><pre>Pipeline(steps=[(&#x27;scale&#x27;, StandardScaler()),\n",
       "                (&#x27;model&#x27;, LogisticRegression(C=0.1))])</pre><b>In a Jupyter environment, please rerun this cell to show the HTML representation or trust the notebook. <br />On GitHub, the HTML representation is unable to render, please try loading this page with nbviewer.org.</b></div><div class=\"sk-container\" hidden><div class=\"sk-item sk-dashed-wrapped\"><div class=\"sk-label-container\"><div class=\"sk-label sk-toggleable\"><input class=\"sk-toggleable__control sk-hidden--visually\" id=\"sk-estimator-id-1\" type=\"checkbox\" ><label for=\"sk-estimator-id-1\" class=\"sk-toggleable__label sk-toggleable__label-arrow\">Pipeline</label><div class=\"sk-toggleable__content\"><pre>Pipeline(steps=[(&#x27;scale&#x27;, StandardScaler()),\n",
       "                (&#x27;model&#x27;, LogisticRegression(C=0.1))])</pre></div></div></div><div class=\"sk-serial\"><div class=\"sk-item\"><div class=\"sk-estimator sk-toggleable\"><input class=\"sk-toggleable__control sk-hidden--visually\" id=\"sk-estimator-id-2\" type=\"checkbox\" ><label for=\"sk-estimator-id-2\" class=\"sk-toggleable__label sk-toggleable__label-arrow\">StandardScaler</label><div class=\"sk-toggleable__content\"><pre>StandardScaler()</pre></div></div></div><div class=\"sk-item\"><div class=\"sk-estimator sk-toggleable\"><input class=\"sk-toggleable__control sk-hidden--visually\" id=\"sk-estimator-id-3\" type=\"checkbox\" ><label for=\"sk-estimator-id-3\" class=\"sk-toggleable__label sk-toggleable__label-arrow\">LogisticRegression</label><div class=\"sk-toggleable__content\"><pre>LogisticRegression(C=0.1)</pre></div></div></div></div></div></div></div>"
      ],
      "text/plain": [
       "Pipeline(steps=[('scale', StandardScaler()),\n",
       "                ('model', LogisticRegression(C=0.1))])"
      ]
     },
     "execution_count": 34,
     "metadata": {},
     "output_type": "execute_result"
    }
   ],
   "source": [
    "model.fit(X_train, y_train.values.ravel())"
   ]
  },
  {
   "cell_type": "code",
   "execution_count": 35,
   "id": "6e15e313",
   "metadata": {
    "execution": {
     "iopub.execute_input": "2025-08-19T18:32:12.985331Z",
     "iopub.status.busy": "2025-08-19T18:32:12.984866Z",
     "iopub.status.idle": "2025-08-19T18:32:13.178016Z",
     "shell.execute_reply": "2025-08-19T18:32:13.177232Z"
    },
    "papermill": {
     "duration": 0.207443,
     "end_time": "2025-08-19T18:32:13.179554",
     "exception": false,
     "start_time": "2025-08-19T18:32:12.972111",
     "status": "completed"
    },
    "tags": []
   },
   "outputs": [
    {
     "data": {
      "text/plain": [
       "0.8574740831568387"
      ]
     },
     "execution_count": 35,
     "metadata": {},
     "output_type": "execute_result"
    }
   ],
   "source": [
    "from fairness_multiverse.universe import predict_w_threshold\n",
    "\n",
    "probs_test = model.predict_proba(X_test)\n",
    "\n",
    "'''\n",
    "Below code returns a boolean array (or binary 0/1 array depending on how it’s used) where each element \n",
    "is True if the probability of class 1 is greater than or equal to the threshold, and False otherwise.\n",
    "'''\n",
    "y_pred_default = predict_w_threshold(probs_test, 0.5)\n",
    "\n",
    "from sklearn.metrics import accuracy_score\n",
    "\n",
    "# Naive prediction\n",
    "accuracy_score(y_true = y_true, y_pred = y_pred_default)"
   ]
  },
  {
   "cell_type": "code",
   "execution_count": 36,
   "id": "6f14067c",
   "metadata": {
    "execution": {
     "iopub.execute_input": "2025-08-19T18:32:13.226160Z",
     "iopub.status.busy": "2025-08-19T18:32:13.206115Z",
     "iopub.status.idle": "2025-08-19T18:32:13.409303Z",
     "shell.execute_reply": "2025-08-19T18:32:13.408272Z"
    },
    "papermill": {
     "duration": 0.2186,
     "end_time": "2025-08-19T18:32:13.411028",
     "exception": false,
     "start_time": "2025-08-19T18:32:13.192428",
     "status": "completed"
    },
    "tags": []
   },
   "outputs": [
    {
     "data": {
      "text/plain": [
       "array([0, 0, 0, ..., 0, 0, 0])"
      ]
     },
     "execution_count": 36,
     "metadata": {},
     "output_type": "execute_result"
    }
   ],
   "source": [
    "model.predict(X_test)"
   ]
  },
  {
   "cell_type": "markdown",
   "id": "3759920c",
   "metadata": {
    "papermill": {
     "duration": 0.016313,
     "end_time": "2025-08-19T18:32:13.446220",
     "exception": false,
     "start_time": "2025-08-19T18:32:13.429907",
     "status": "completed"
    },
    "tags": []
   },
   "source": [
    "# Conformal Prediction"
   ]
  },
  {
   "cell_type": "code",
   "execution_count": 37,
   "id": "14b27f59",
   "metadata": {
    "execution": {
     "iopub.execute_input": "2025-08-19T18:32:13.499980Z",
     "iopub.status.busy": "2025-08-19T18:32:13.499139Z",
     "iopub.status.idle": "2025-08-19T18:32:13.506243Z",
     "shell.execute_reply": "2025-08-19T18:32:13.505085Z"
    },
    "papermill": {
     "duration": 0.038299,
     "end_time": "2025-08-19T18:32:13.508273",
     "exception": false,
     "start_time": "2025-08-19T18:32:13.469974",
     "status": "completed"
    },
    "tags": []
   },
   "outputs": [],
   "source": [
    "# Miscoverage level for conformal prediction (10% allowed error rate => 90% target coverage)\n",
    "alpha = 0.1"
   ]
  },
  {
   "cell_type": "code",
   "execution_count": 38,
   "id": "59102472",
   "metadata": {
    "execution": {
     "iopub.execute_input": "2025-08-19T18:32:13.540567Z",
     "iopub.status.busy": "2025-08-19T18:32:13.539086Z",
     "iopub.status.idle": "2025-08-19T18:32:13.737826Z",
     "shell.execute_reply": "2025-08-19T18:32:13.736516Z"
    },
    "papermill": {
     "duration": 0.214496,
     "end_time": "2025-08-19T18:32:13.739533",
     "exception": false,
     "start_time": "2025-08-19T18:32:13.525037",
     "status": "completed"
    },
    "tags": []
   },
   "outputs": [],
   "source": [
    "probs_calib = model.predict_proba(X_calib)"
   ]
  },
  {
   "cell_type": "code",
   "execution_count": 39,
   "id": "a792d4dd",
   "metadata": {
    "execution": {
     "iopub.execute_input": "2025-08-19T18:32:13.767390Z",
     "iopub.status.busy": "2025-08-19T18:32:13.766816Z",
     "iopub.status.idle": "2025-08-19T18:32:13.774088Z",
     "shell.execute_reply": "2025-08-19T18:32:13.772713Z"
    },
    "papermill": {
     "duration": 0.022726,
     "end_time": "2025-08-19T18:32:13.775373",
     "exception": false,
     "start_time": "2025-08-19T18:32:13.752647",
     "status": "completed"
    },
    "tags": []
   },
   "outputs": [],
   "source": [
    "y_calib = y_calib.values.ravel().astype(int)"
   ]
  },
  {
   "cell_type": "code",
   "execution_count": 40,
   "id": "650fd033",
   "metadata": {
    "execution": {
     "iopub.execute_input": "2025-08-19T18:32:13.802501Z",
     "iopub.status.busy": "2025-08-19T18:32:13.802081Z",
     "iopub.status.idle": "2025-08-19T18:32:13.808596Z",
     "shell.execute_reply": "2025-08-19T18:32:13.807917Z"
    },
    "papermill": {
     "duration": 0.02025,
     "end_time": "2025-08-19T18:32:13.809802",
     "exception": false,
     "start_time": "2025-08-19T18:32:13.789552",
     "status": "completed"
    },
    "tags": []
   },
   "outputs": [],
   "source": [
    "from fairness_multiverse.conformal import compute_nc_scores\n",
    "\n",
    "# Compute nonconformity scores on calibration set (1 - probability of true class)\n",
    "nc_scores = compute_nc_scores(probs_calib, y_calib)"
   ]
  },
  {
   "cell_type": "code",
   "execution_count": 41,
   "id": "28ada44c",
   "metadata": {
    "execution": {
     "iopub.execute_input": "2025-08-19T18:32:13.841965Z",
     "iopub.status.busy": "2025-08-19T18:32:13.841411Z",
     "iopub.status.idle": "2025-08-19T18:32:13.851950Z",
     "shell.execute_reply": "2025-08-19T18:32:13.850928Z"
    },
    "papermill": {
     "duration": 0.030316,
     "end_time": "2025-08-19T18:32:13.853241",
     "exception": false,
     "start_time": "2025-08-19T18:32:13.822925",
     "status": "completed"
    },
    "tags": []
   },
   "outputs": [],
   "source": [
    "from fairness_multiverse.conformal import find_threshold\n",
    "\n",
    "# Find conformal threshold q_hat for the given alpha (split conformal method)\n",
    "q_hat = find_threshold(nc_scores, alpha)"
   ]
  },
  {
   "cell_type": "code",
   "execution_count": 42,
   "id": "df56469e",
   "metadata": {
    "execution": {
     "iopub.execute_input": "2025-08-19T18:32:13.885601Z",
     "iopub.status.busy": "2025-08-19T18:32:13.885085Z",
     "iopub.status.idle": "2025-08-19T18:32:13.891677Z",
     "shell.execute_reply": "2025-08-19T18:32:13.890920Z"
    },
    "papermill": {
     "duration": 0.021505,
     "end_time": "2025-08-19T18:32:13.893031",
     "exception": false,
     "start_time": "2025-08-19T18:32:13.871526",
     "status": "completed"
    },
    "tags": []
   },
   "outputs": [
    {
     "data": {
      "text/plain": [
       "0.6847627076259293"
      ]
     },
     "execution_count": 42,
     "metadata": {},
     "output_type": "execute_result"
    }
   ],
   "source": [
    "q_hat"
   ]
  },
  {
   "cell_type": "code",
   "execution_count": 43,
   "id": "aa1f5faa",
   "metadata": {
    "execution": {
     "iopub.execute_input": "2025-08-19T18:32:13.922290Z",
     "iopub.status.busy": "2025-08-19T18:32:13.921752Z",
     "iopub.status.idle": "2025-08-19T18:32:14.651511Z",
     "shell.execute_reply": "2025-08-19T18:32:14.650547Z"
    },
    "papermill": {
     "duration": 0.746493,
     "end_time": "2025-08-19T18:32:14.654229",
     "exception": false,
     "start_time": "2025-08-19T18:32:13.907736",
     "status": "completed"
    },
    "tags": []
   },
   "outputs": [],
   "source": [
    "from fairness_multiverse.conformal import predict_conformal_sets\n",
    "\n",
    "# Generate prediction sets for each test example\n",
    "pred_sets = predict_conformal_sets(model, X_test, q_hat)"
   ]
  },
  {
   "cell_type": "code",
   "execution_count": 44,
   "id": "97f67a6b",
   "metadata": {
    "execution": {
     "iopub.execute_input": "2025-08-19T18:32:14.696098Z",
     "iopub.status.busy": "2025-08-19T18:32:14.694784Z",
     "iopub.status.idle": "2025-08-19T18:32:14.705904Z",
     "shell.execute_reply": "2025-08-19T18:32:14.704152Z"
    },
    "papermill": {
     "duration": 0.027201,
     "end_time": "2025-08-19T18:32:14.707614",
     "exception": false,
     "start_time": "2025-08-19T18:32:14.680413",
     "status": "completed"
    },
    "tags": []
   },
   "outputs": [],
   "source": [
    "y_true = y_true.squeeze()"
   ]
  },
  {
   "cell_type": "code",
   "execution_count": 45,
   "id": "e700e9a7",
   "metadata": {
    "execution": {
     "iopub.execute_input": "2025-08-19T18:32:14.737944Z",
     "iopub.status.busy": "2025-08-19T18:32:14.736456Z",
     "iopub.status.idle": "2025-08-19T18:32:15.259040Z",
     "shell.execute_reply": "2025-08-19T18:32:15.257779Z"
    },
    "papermill": {
     "duration": 0.538131,
     "end_time": "2025-08-19T18:32:15.260763",
     "exception": false,
     "start_time": "2025-08-19T18:32:14.722632",
     "status": "completed"
    },
    "tags": []
   },
   "outputs": [],
   "source": [
    "from fairness_multiverse.conformal import evaluate_sets\n",
    "\n",
    "# Evaluate coverage and average set size on test data\n",
    "metrics = evaluate_sets(pred_sets, y_true)"
   ]
  },
  {
   "cell_type": "markdown",
   "id": "efbacec0",
   "metadata": {
    "papermill": {
     "duration": 0.012184,
     "end_time": "2025-08-19T18:32:15.286602",
     "exception": false,
     "start_time": "2025-08-19T18:32:15.274418",
     "status": "completed"
    },
    "tags": []
   },
   "source": [
    "# CP Metrics"
   ]
  },
  {
   "cell_type": "code",
   "execution_count": 46,
   "id": "9de55fb1",
   "metadata": {
    "execution": {
     "iopub.execute_input": "2025-08-19T18:32:15.318582Z",
     "iopub.status.busy": "2025-08-19T18:32:15.316210Z",
     "iopub.status.idle": "2025-08-19T18:32:15.330968Z",
     "shell.execute_reply": "2025-08-19T18:32:15.329806Z"
    },
    "papermill": {
     "duration": 0.034042,
     "end_time": "2025-08-19T18:32:15.332831",
     "exception": false,
     "start_time": "2025-08-19T18:32:15.298789",
     "status": "completed"
    },
    "tags": []
   },
   "outputs": [
    {
     "data": {
      "text/plain": [
       "{'coverage': 0.9111247352580537, 'avg_size': 1.1366402853639506}"
      ]
     },
     "execution_count": 46,
     "metadata": {},
     "output_type": "execute_result"
    }
   ],
   "source": [
    "metrics"
   ]
  },
  {
   "cell_type": "code",
   "execution_count": 47,
   "id": "64c340a1",
   "metadata": {
    "execution": {
     "iopub.execute_input": "2025-08-19T18:32:15.366767Z",
     "iopub.status.busy": "2025-08-19T18:32:15.365678Z",
     "iopub.status.idle": "2025-08-19T18:32:15.376881Z",
     "shell.execute_reply": "2025-08-19T18:32:15.375698Z"
    },
    "papermill": {
     "duration": 0.026436,
     "end_time": "2025-08-19T18:32:15.378366",
     "exception": false,
     "start_time": "2025-08-19T18:32:15.351930",
     "status": "completed"
    },
    "tags": []
   },
   "outputs": [],
   "source": [
    "example_universe = universe.copy()\n",
    "universe_training_year = example_universe.get(\"training_year\")\n",
    "universe_training_size = example_universe.get(\"training_size\")\n",
    "universe_scale = example_universe.get(\"scale\")\n",
    "universe_model = example_universe.get(\"model\")\n",
    "universe_exclude_features = example_universe.get(\"exclude_features\")\n",
    "universe_exclude_subgroups = example_universe.get(\"exclude_subgroups\")"
   ]
  },
  {
   "cell_type": "code",
   "execution_count": 48,
   "id": "dbb53cb4",
   "metadata": {
    "execution": {
     "iopub.execute_input": "2025-08-19T18:32:15.410696Z",
     "iopub.status.busy": "2025-08-19T18:32:15.409369Z",
     "iopub.status.idle": "2025-08-19T18:32:15.420538Z",
     "shell.execute_reply": "2025-08-19T18:32:15.418725Z"
    },
    "papermill": {
     "duration": 0.026912,
     "end_time": "2025-08-19T18:32:15.422236",
     "exception": false,
     "start_time": "2025-08-19T18:32:15.395324",
     "status": "completed"
    },
    "tags": []
   },
   "outputs": [],
   "source": [
    "cp_metrics_dict = {\n",
    "    \"universe_id\": [universe_id],\n",
    "    \"universe_training_year\": [universe_training_year],\n",
    "    \"universe_training_size\": [universe_training_size],\n",
    "    \"universe_scale\": [universe_scale],\n",
    "    \"universe_model\": [universe_model],\n",
    "    \"universe_exclude_features\": [universe_exclude_features],\n",
    "    \"universe_exclude_subgroups\": [universe_exclude_subgroups],\n",
    "    \"q_hat\": [q_hat],\n",
    "    \"coverage\": [metrics[\"coverage\"]],\n",
    "    \"avg_size\": [metrics[\"avg_size\"]],\n",
    "}"
   ]
  },
  {
   "cell_type": "code",
   "execution_count": 49,
   "id": "0d70d4b2",
   "metadata": {
    "execution": {
     "iopub.execute_input": "2025-08-19T18:32:15.452208Z",
     "iopub.status.busy": "2025-08-19T18:32:15.451136Z",
     "iopub.status.idle": "2025-08-19T18:32:15.464270Z",
     "shell.execute_reply": "2025-08-19T18:32:15.462693Z"
    },
    "papermill": {
     "duration": 0.028991,
     "end_time": "2025-08-19T18:32:15.466173",
     "exception": false,
     "start_time": "2025-08-19T18:32:15.437182",
     "status": "completed"
    },
    "tags": []
   },
   "outputs": [],
   "source": [
    "cp_metrics_df = pd.DataFrame(cp_metrics_dict)"
   ]
  },
  {
   "cell_type": "code",
   "execution_count": 50,
   "id": "b494403c",
   "metadata": {
    "execution": {
     "iopub.execute_input": "2025-08-19T18:32:15.497783Z",
     "iopub.status.busy": "2025-08-19T18:32:15.496693Z",
     "iopub.status.idle": "2025-08-19T18:32:15.520167Z",
     "shell.execute_reply": "2025-08-19T18:32:15.519368Z"
    },
    "papermill": {
     "duration": 0.038801,
     "end_time": "2025-08-19T18:32:15.521805",
     "exception": false,
     "start_time": "2025-08-19T18:32:15.483004",
     "status": "completed"
    },
    "tags": []
   },
   "outputs": [
    {
     "data": {
      "text/html": [
       "<div>\n",
       "<style scoped>\n",
       "    .dataframe tbody tr th:only-of-type {\n",
       "        vertical-align: middle;\n",
       "    }\n",
       "\n",
       "    .dataframe tbody tr th {\n",
       "        vertical-align: top;\n",
       "    }\n",
       "\n",
       "    .dataframe thead th {\n",
       "        text-align: right;\n",
       "    }\n",
       "</style>\n",
       "<table border=\"1\" class=\"dataframe\">\n",
       "  <thead>\n",
       "    <tr style=\"text-align: right;\">\n",
       "      <th></th>\n",
       "      <th>universe_id</th>\n",
       "      <th>universe_training_year</th>\n",
       "      <th>universe_training_size</th>\n",
       "      <th>universe_scale</th>\n",
       "      <th>universe_model</th>\n",
       "      <th>universe_exclude_features</th>\n",
       "      <th>universe_exclude_subgroups</th>\n",
       "      <th>q_hat</th>\n",
       "      <th>coverage</th>\n",
       "      <th>avg_size</th>\n",
       "    </tr>\n",
       "  </thead>\n",
       "  <tbody>\n",
       "    <tr>\n",
       "      <th>0</th>\n",
       "      <td>e2c6a06f828e1fc0478bae5e101f7810</td>\n",
       "      <td>2012_14</td>\n",
       "      <td>5k</td>\n",
       "      <td>scale</td>\n",
       "      <td>penalized_logreg</td>\n",
       "      <td>sex</td>\n",
       "      <td>keep-all</td>\n",
       "      <td>0.684763</td>\n",
       "      <td>0.911125</td>\n",
       "      <td>1.13664</td>\n",
       "    </tr>\n",
       "  </tbody>\n",
       "</table>\n",
       "</div>"
      ],
      "text/plain": [
       "                        universe_id universe_training_year  \\\n",
       "0  e2c6a06f828e1fc0478bae5e101f7810                2012_14   \n",
       "\n",
       "  universe_training_size universe_scale    universe_model  \\\n",
       "0                     5k          scale  penalized_logreg   \n",
       "\n",
       "  universe_exclude_features universe_exclude_subgroups     q_hat  coverage  \\\n",
       "0                       sex                   keep-all  0.684763  0.911125   \n",
       "\n",
       "   avg_size  \n",
       "0   1.13664  "
      ]
     },
     "execution_count": 50,
     "metadata": {},
     "output_type": "execute_result"
    }
   ],
   "source": [
    "cp_metrics_df"
   ]
  },
  {
   "cell_type": "markdown",
   "id": "ed608b0b",
   "metadata": {
    "papermill": {
     "duration": 0.021449,
     "end_time": "2025-08-19T18:32:15.564982",
     "exception": false,
     "start_time": "2025-08-19T18:32:15.543533",
     "status": "completed"
    },
    "tags": []
   },
   "source": [
    "Conditional coverage & looking at subgroups"
   ]
  },
  {
   "cell_type": "code",
   "execution_count": 51,
   "id": "8968c366",
   "metadata": {
    "execution": {
     "iopub.execute_input": "2025-08-19T18:32:15.605177Z",
     "iopub.status.busy": "2025-08-19T18:32:15.604050Z",
     "iopub.status.idle": "2025-08-19T18:32:15.905029Z",
     "shell.execute_reply": "2025-08-19T18:32:15.904312Z"
    },
    "papermill": {
     "duration": 0.320696,
     "end_time": "2025-08-19T18:32:15.907791",
     "exception": false,
     "start_time": "2025-08-19T18:32:15.587095",
     "status": "completed"
    },
    "tags": []
   },
   "outputs": [],
   "source": [
    "from fairness_multiverse.conformal import build_cp_groups\n",
    "\n",
    "cp_groups_df = build_cp_groups(pred_sets, y_true, X_test.index, org_test)"
   ]
  },
  {
   "cell_type": "code",
   "execution_count": 52,
   "id": "292ddabf",
   "metadata": {
    "execution": {
     "iopub.execute_input": "2025-08-19T18:32:15.937060Z",
     "iopub.status.busy": "2025-08-19T18:32:15.935960Z",
     "iopub.status.idle": "2025-08-19T18:32:16.796228Z",
     "shell.execute_reply": "2025-08-19T18:32:16.794657Z"
    },
    "papermill": {
     "duration": 0.875903,
     "end_time": "2025-08-19T18:32:16.798121",
     "exception": false,
     "start_time": "2025-08-19T18:32:15.922218",
     "status": "completed"
    },
    "tags": []
   },
   "outputs": [],
   "source": [
    "# Define covered = 1 if true_label is in the predicted set\n",
    "cp_groups_df['covered'] = cp_groups_df.apply(\n",
    "    lambda r: int(r['true_label'] in r['pred_set']),\n",
    "    axis=1\n",
    ")"
   ]
  },
  {
   "cell_type": "code",
   "execution_count": 53,
   "id": "3a261692",
   "metadata": {
    "execution": {
     "iopub.execute_input": "2025-08-19T18:32:16.860683Z",
     "iopub.status.busy": "2025-08-19T18:32:16.859286Z",
     "iopub.status.idle": "2025-08-19T18:32:16.881415Z",
     "shell.execute_reply": "2025-08-19T18:32:16.880528Z"
    },
    "papermill": {
     "duration": 0.053949,
     "end_time": "2025-08-19T18:32:16.882819",
     "exception": false,
     "start_time": "2025-08-19T18:32:16.828870",
     "status": "completed"
    },
    "tags": []
   },
   "outputs": [],
   "source": [
    "subgroups = ['frau1','nongerman','nongerman_male','nongerman_female']\n",
    "\n",
    "# Conditional coverage for subgroup==1\n",
    "cond_coverage = {\n",
    "    g: cp_groups_df.loc[cp_groups_df[g]==1, 'covered'].mean()\n",
    "    for g in subgroups\n",
    "}"
   ]
  },
  {
   "cell_type": "code",
   "execution_count": 54,
   "id": "894fd600",
   "metadata": {
    "execution": {
     "iopub.execute_input": "2025-08-19T18:32:16.914652Z",
     "iopub.status.busy": "2025-08-19T18:32:16.913778Z",
     "iopub.status.idle": "2025-08-19T18:32:16.924344Z",
     "shell.execute_reply": "2025-08-19T18:32:16.923332Z"
    },
    "papermill": {
     "duration": 0.029214,
     "end_time": "2025-08-19T18:32:16.925789",
     "exception": false,
     "start_time": "2025-08-19T18:32:16.896575",
     "status": "completed"
    },
    "tags": []
   },
   "outputs": [
    {
     "data": {
      "text/plain": [
       "{'frau1': 0.9082895268904165,\n",
       " 'nongerman': 0.9128164823443552,\n",
       " 'nongerman_male': 0.9281275330991624,\n",
       " 'nongerman_female': 0.8874813710879285}"
      ]
     },
     "execution_count": 54,
     "metadata": {},
     "output_type": "execute_result"
    }
   ],
   "source": [
    "cond_coverage"
   ]
  },
  {
   "cell_type": "code",
   "execution_count": 55,
   "id": "942895c7",
   "metadata": {
    "execution": {
     "iopub.execute_input": "2025-08-19T18:32:16.955580Z",
     "iopub.status.busy": "2025-08-19T18:32:16.954729Z",
     "iopub.status.idle": "2025-08-19T18:32:16.966893Z",
     "shell.execute_reply": "2025-08-19T18:32:16.965394Z"
    },
    "papermill": {
     "duration": 0.027857,
     "end_time": "2025-08-19T18:32:16.968965",
     "exception": false,
     "start_time": "2025-08-19T18:32:16.941108",
     "status": "completed"
    },
    "tags": []
   },
   "outputs": [],
   "source": [
    "for subgroup, cov in cond_coverage.items():\n",
    "    cp_metrics_df[f\"cov_{subgroup}\"] = cov"
   ]
  },
  {
   "cell_type": "code",
   "execution_count": 56,
   "id": "3970120f",
   "metadata": {
    "execution": {
     "iopub.execute_input": "2025-08-19T18:32:16.998710Z",
     "iopub.status.busy": "2025-08-19T18:32:16.997750Z",
     "iopub.status.idle": "2025-08-19T18:32:17.026245Z",
     "shell.execute_reply": "2025-08-19T18:32:17.025418Z"
    },
    "papermill": {
     "duration": 0.043151,
     "end_time": "2025-08-19T18:32:17.027786",
     "exception": false,
     "start_time": "2025-08-19T18:32:16.984635",
     "status": "completed"
    },
    "tags": []
   },
   "outputs": [
    {
     "data": {
      "text/html": [
       "<div>\n",
       "<style scoped>\n",
       "    .dataframe tbody tr th:only-of-type {\n",
       "        vertical-align: middle;\n",
       "    }\n",
       "\n",
       "    .dataframe tbody tr th {\n",
       "        vertical-align: top;\n",
       "    }\n",
       "\n",
       "    .dataframe thead th {\n",
       "        text-align: right;\n",
       "    }\n",
       "</style>\n",
       "<table border=\"1\" class=\"dataframe\">\n",
       "  <thead>\n",
       "    <tr style=\"text-align: right;\">\n",
       "      <th></th>\n",
       "      <th>universe_id</th>\n",
       "      <th>universe_training_year</th>\n",
       "      <th>universe_training_size</th>\n",
       "      <th>universe_scale</th>\n",
       "      <th>universe_model</th>\n",
       "      <th>universe_exclude_features</th>\n",
       "      <th>universe_exclude_subgroups</th>\n",
       "      <th>q_hat</th>\n",
       "      <th>coverage</th>\n",
       "      <th>avg_size</th>\n",
       "      <th>cov_frau1</th>\n",
       "      <th>cov_nongerman</th>\n",
       "      <th>cov_nongerman_male</th>\n",
       "      <th>cov_nongerman_female</th>\n",
       "    </tr>\n",
       "  </thead>\n",
       "  <tbody>\n",
       "    <tr>\n",
       "      <th>0</th>\n",
       "      <td>e2c6a06f828e1fc0478bae5e101f7810</td>\n",
       "      <td>2012_14</td>\n",
       "      <td>5k</td>\n",
       "      <td>scale</td>\n",
       "      <td>penalized_logreg</td>\n",
       "      <td>sex</td>\n",
       "      <td>keep-all</td>\n",
       "      <td>0.684763</td>\n",
       "      <td>0.911125</td>\n",
       "      <td>1.13664</td>\n",
       "      <td>0.90829</td>\n",
       "      <td>0.912816</td>\n",
       "      <td>0.928128</td>\n",
       "      <td>0.887481</td>\n",
       "    </tr>\n",
       "  </tbody>\n",
       "</table>\n",
       "</div>"
      ],
      "text/plain": [
       "                        universe_id universe_training_year  \\\n",
       "0  e2c6a06f828e1fc0478bae5e101f7810                2012_14   \n",
       "\n",
       "  universe_training_size universe_scale    universe_model  \\\n",
       "0                     5k          scale  penalized_logreg   \n",
       "\n",
       "  universe_exclude_features universe_exclude_subgroups     q_hat  coverage  \\\n",
       "0                       sex                   keep-all  0.684763  0.911125   \n",
       "\n",
       "   avg_size  cov_frau1  cov_nongerman  cov_nongerman_male  \\\n",
       "0   1.13664    0.90829       0.912816            0.928128   \n",
       "\n",
       "   cov_nongerman_female  \n",
       "0              0.887481  "
      ]
     },
     "execution_count": 56,
     "metadata": {},
     "output_type": "execute_result"
    }
   ],
   "source": [
    "cp_metrics_df"
   ]
  },
  {
   "cell_type": "markdown",
   "id": "3fc519cc",
   "metadata": {
    "papermill": {
     "duration": 0.011905,
     "end_time": "2025-08-19T18:32:17.052244",
     "exception": false,
     "start_time": "2025-08-19T18:32:17.040339",
     "status": "completed"
    },
    "tags": []
   },
   "source": [
    "# (Fairness) Metrics"
   ]
  },
  {
   "cell_type": "code",
   "execution_count": 57,
   "id": "a2e5e155",
   "metadata": {
    "execution": {
     "iopub.execute_input": "2025-08-19T18:32:17.091905Z",
     "iopub.status.busy": "2025-08-19T18:32:17.090932Z",
     "iopub.status.idle": "2025-08-19T18:32:17.124251Z",
     "shell.execute_reply": "2025-08-19T18:32:17.122871Z"
    },
    "papermill": {
     "duration": 0.063095,
     "end_time": "2025-08-19T18:32:17.127175",
     "exception": false,
     "start_time": "2025-08-19T18:32:17.064080",
     "status": "completed"
    },
    "tags": []
   },
   "outputs": [],
   "source": [
    "colname_to_bin = \"maxdeutsch1\"\n",
    "majority_value = org_train[colname_to_bin].mode()[0]\n",
    "\n",
    "org_test[\"majmin\"] = np.where(org_test[colname_to_bin] == majority_value, \"majority\", \"minority\")"
   ]
  },
  {
   "cell_type": "code",
   "execution_count": 58,
   "id": "17e3e4d5",
   "metadata": {
    "execution": {
     "iopub.execute_input": "2025-08-19T18:32:17.180266Z",
     "iopub.status.busy": "2025-08-19T18:32:17.179523Z",
     "iopub.status.idle": "2025-08-19T18:32:18.905368Z",
     "shell.execute_reply": "2025-08-19T18:32:18.903896Z"
    },
    "papermill": {
     "duration": 1.757616,
     "end_time": "2025-08-19T18:32:18.907059",
     "exception": false,
     "start_time": "2025-08-19T18:32:17.149443",
     "status": "completed"
    },
    "tags": []
   },
   "outputs": [],
   "source": [
    "example_universe = universe.copy()\n",
    "example_universe[\"cutoff\"] = example_universe[\"cutoff\"][0]\n",
    "example_universe[\"eval_fairness_grouping\"] = example_universe[\"eval_fairness_grouping\"][0]\n",
    "fairness_dict, metric_frame = universe_analysis.compute_metrics(\n",
    "    example_universe,\n",
    "    y_pred_prob=probs_test,\n",
    "    y_test=y_true,\n",
    "    org_test=org_test,\n",
    ")"
   ]
  },
  {
   "cell_type": "markdown",
   "id": "1fb7a0e9",
   "metadata": {
    "papermill": {
     "duration": 0.012155,
     "end_time": "2025-08-19T18:32:18.932296",
     "exception": false,
     "start_time": "2025-08-19T18:32:18.920141",
     "status": "completed"
    },
    "tags": []
   },
   "source": [
    "# Overall"
   ]
  },
  {
   "cell_type": "markdown",
   "id": "be1784b1",
   "metadata": {
    "papermill": {
     "duration": 0.011834,
     "end_time": "2025-08-19T18:32:18.956222",
     "exception": false,
     "start_time": "2025-08-19T18:32:18.944388",
     "status": "completed"
    },
    "tags": []
   },
   "source": [
    "Main fairness target: Equalized Odds. Seems to be a better fit than equal opportunity, since we're not only interested in Y = 1. Seems to be a better fit than demographic parity, since we also care about accuracy, not just equal distribution of preds.\n",
    "\n",
    "Pick column for computation of fairness metrics\n",
    "\n",
    "Performance\n",
    "Overall performance measures, most interesting in relation to the measures split by group below"
   ]
  },
  {
   "cell_type": "code",
   "execution_count": 59,
   "id": "b7672bee",
   "metadata": {
    "execution": {
     "iopub.execute_input": "2025-08-19T18:32:18.983557Z",
     "iopub.status.busy": "2025-08-19T18:32:18.982328Z",
     "iopub.status.idle": "2025-08-19T18:32:18.998792Z",
     "shell.execute_reply": "2025-08-19T18:32:18.997688Z"
    },
    "papermill": {
     "duration": 0.032156,
     "end_time": "2025-08-19T18:32:19.000244",
     "exception": false,
     "start_time": "2025-08-19T18:32:18.968088",
     "status": "completed"
    },
    "tags": []
   },
   "outputs": [
    {
     "data": {
      "text/plain": [
       "accuracy                   0.224044\n",
       "balanced accuracy          0.547888\n",
       "f1                         0.245385\n",
       "precision                  0.140180\n",
       "false positive rate        0.887714\n",
       "false negative rate        0.016510\n",
       "selection rate             0.900000\n",
       "count                  89710.000000\n",
       "dtype: float64"
      ]
     },
     "execution_count": 59,
     "metadata": {},
     "output_type": "execute_result"
    }
   ],
   "source": [
    "metric_frame.overall"
   ]
  },
  {
   "cell_type": "markdown",
   "id": "d93333c9",
   "metadata": {
    "papermill": {
     "duration": 0.012812,
     "end_time": "2025-08-19T18:32:19.030790",
     "exception": false,
     "start_time": "2025-08-19T18:32:19.017978",
     "status": "completed"
    },
    "tags": []
   },
   "source": [
    "By Group"
   ]
  },
  {
   "cell_type": "code",
   "execution_count": 60,
   "id": "52256966",
   "metadata": {
    "execution": {
     "iopub.execute_input": "2025-08-19T18:32:19.057476Z",
     "iopub.status.busy": "2025-08-19T18:32:19.056291Z",
     "iopub.status.idle": "2025-08-19T18:32:19.082976Z",
     "shell.execute_reply": "2025-08-19T18:32:19.082139Z"
    },
    "papermill": {
     "duration": 0.04178,
     "end_time": "2025-08-19T18:32:19.084558",
     "exception": false,
     "start_time": "2025-08-19T18:32:19.042778",
     "status": "completed"
    },
    "tags": []
   },
   "outputs": [
    {
     "data": {
      "text/html": [
       "<div>\n",
       "<style scoped>\n",
       "    .dataframe tbody tr th:only-of-type {\n",
       "        vertical-align: middle;\n",
       "    }\n",
       "\n",
       "    .dataframe tbody tr th {\n",
       "        vertical-align: top;\n",
       "    }\n",
       "\n",
       "    .dataframe thead th {\n",
       "        text-align: right;\n",
       "    }\n",
       "</style>\n",
       "<table border=\"1\" class=\"dataframe\">\n",
       "  <thead>\n",
       "    <tr style=\"text-align: right;\">\n",
       "      <th></th>\n",
       "      <th>accuracy</th>\n",
       "      <th>balanced accuracy</th>\n",
       "      <th>f1</th>\n",
       "      <th>precision</th>\n",
       "      <th>false positive rate</th>\n",
       "      <th>false negative rate</th>\n",
       "      <th>selection rate</th>\n",
       "      <th>count</th>\n",
       "    </tr>\n",
       "    <tr>\n",
       "      <th>majmin</th>\n",
       "      <th></th>\n",
       "      <th></th>\n",
       "      <th></th>\n",
       "      <th></th>\n",
       "      <th></th>\n",
       "      <th></th>\n",
       "      <th></th>\n",
       "      <th></th>\n",
       "    </tr>\n",
       "  </thead>\n",
       "  <tbody>\n",
       "    <tr>\n",
       "      <th>majority</th>\n",
       "      <td>0.247940</td>\n",
       "      <td>0.558740</td>\n",
       "      <td>0.256390</td>\n",
       "      <td>0.147461</td>\n",
       "      <td>0.863701</td>\n",
       "      <td>0.018818</td>\n",
       "      <td>0.879225</td>\n",
       "      <td>69170.0</td>\n",
       "    </tr>\n",
       "    <tr>\n",
       "      <th>minority</th>\n",
       "      <td>0.143574</td>\n",
       "      <td>0.512681</td>\n",
       "      <td>0.210847</td>\n",
       "      <td>0.117954</td>\n",
       "      <td>0.967037</td>\n",
       "      <td>0.007601</td>\n",
       "      <td>0.969961</td>\n",
       "      <td>20540.0</td>\n",
       "    </tr>\n",
       "  </tbody>\n",
       "</table>\n",
       "</div>"
      ],
      "text/plain": [
       "          accuracy  balanced accuracy        f1  precision  \\\n",
       "majmin                                                       \n",
       "majority  0.247940           0.558740  0.256390   0.147461   \n",
       "minority  0.143574           0.512681  0.210847   0.117954   \n",
       "\n",
       "          false positive rate  false negative rate  selection rate    count  \n",
       "majmin                                                                       \n",
       "majority             0.863701             0.018818        0.879225  69170.0  \n",
       "minority             0.967037             0.007601        0.969961  20540.0  "
      ]
     },
     "execution_count": 60,
     "metadata": {},
     "output_type": "execute_result"
    }
   ],
   "source": [
    "metric_frame.by_group"
   ]
  },
  {
   "cell_type": "code",
   "execution_count": 61,
   "id": "6e6c20ae",
   "metadata": {
    "execution": {
     "iopub.execute_input": "2025-08-19T18:32:19.124319Z",
     "iopub.status.busy": "2025-08-19T18:32:19.123422Z",
     "iopub.status.idle": "2025-08-19T18:32:20.872082Z",
     "shell.execute_reply": "2025-08-19T18:32:20.871232Z"
    },
    "papermill": {
     "duration": 1.764706,
     "end_time": "2025-08-19T18:32:20.873359",
     "exception": false,
     "start_time": "2025-08-19T18:32:19.108653",
     "status": "completed"
    },
    "tags": []
   },
   "outputs": [
    {
     "data": {
      "text/plain": [
       "array([[<Axes: title={'center': 'accuracy'}, xlabel='majmin'>,\n",
       "        <Axes: title={'center': 'balanced accuracy'}, xlabel='majmin'>,\n",
       "        <Axes: title={'center': 'f1'}, xlabel='majmin'>],\n",
       "       [<Axes: title={'center': 'precision'}, xlabel='majmin'>,\n",
       "        <Axes: title={'center': 'false positive rate'}, xlabel='majmin'>,\n",
       "        <Axes: title={'center': 'false negative rate'}, xlabel='majmin'>],\n",
       "       [<Axes: title={'center': 'selection rate'}, xlabel='majmin'>,\n",
       "        <Axes: title={'center': 'count'}, xlabel='majmin'>,\n",
       "        <Axes: xlabel='majmin'>]], dtype=object)"
      ]
     },
     "execution_count": 61,
     "metadata": {},
     "output_type": "execute_result"
    },
    {
     "data": {
      "image/png": "[encoded data removed]",
      "text/plain": [
       "<Figure size 1200x800 with 9 Axes>"
      ]
     },
     "metadata": {},
     "output_type": "display_data"
    }
   ],
   "source": [
    "# In a graphic\n",
    "metric_frame.by_group.plot.bar(\n",
    "    subplots=True,\n",
    "    layout=[3, 3],\n",
    "    legend=False,\n",
    "    figsize=[12, 8],\n",
    "    title=\"Show all metrics\",\n",
    ")"
   ]
  },
  {
   "cell_type": "markdown",
   "id": "b2e433ae",
   "metadata": {
    "papermill": {
     "duration": 0.021628,
     "end_time": "2025-08-19T18:32:20.924838",
     "exception": false,
     "start_time": "2025-08-19T18:32:20.903210",
     "status": "completed"
    },
    "tags": []
   },
   "source": [
    "# Final Output"
   ]
  },
  {
   "cell_type": "code",
   "execution_count": 62,
   "id": "3871301e",
   "metadata": {
    "execution": {
     "iopub.execute_input": "2025-08-19T18:32:20.955771Z",
     "iopub.status.busy": "2025-08-19T18:32:20.953706Z",
     "iopub.status.idle": "2025-08-19T18:32:20.974338Z",
     "shell.execute_reply": "2025-08-19T18:32:20.973468Z"
    },
    "papermill": {
     "duration": 0.037378,
     "end_time": "2025-08-19T18:32:20.975503",
     "exception": false,
     "start_time": "2025-08-19T18:32:20.938125",
     "status": "completed"
    },
    "tags": []
   },
   "outputs": [
    {
     "data": {
      "text/plain": [
       "4"
      ]
     },
     "execution_count": 62,
     "metadata": {},
     "output_type": "execute_result"
    }
   ],
   "source": [
    "sub_universes = universe_analysis.generate_sub_universes()\n",
    "len(sub_universes)"
   ]
  },
  {
   "cell_type": "code",
   "execution_count": 63,
   "id": "d9cfdaca",
   "metadata": {
    "execution": {
     "iopub.execute_input": "2025-08-19T18:32:21.004046Z",
     "iopub.status.busy": "2025-08-19T18:32:21.003683Z",
     "iopub.status.idle": "2025-08-19T18:32:21.017463Z",
     "shell.execute_reply": "2025-08-19T18:32:21.016680Z"
    },
    "papermill": {
     "duration": 0.029699,
     "end_time": "2025-08-19T18:32:21.018860",
     "exception": false,
     "start_time": "2025-08-19T18:32:20.989161",
     "status": "completed"
    },
    "tags": []
   },
   "outputs": [],
   "source": [
    "def filter_sub_universe_data(sub_universe, org_test):\n",
    "    # Keep all rows — no filtering\n",
    "    keep_rows_mask = np.ones(org_test.shape[0], dtype=bool)\n",
    "\n",
    "    print(f\"[INFO] Keeping all rows: {keep_rows_mask.sum()} rows retained.\")\n",
    "    return keep_rows_mask"
   ]
  },
  {
   "cell_type": "code",
   "execution_count": 64,
   "id": "2bc31ac1",
   "metadata": {
    "execution": {
     "iopub.execute_input": "2025-08-19T18:32:21.054514Z",
     "iopub.status.busy": "2025-08-19T18:32:21.054093Z",
     "iopub.status.idle": "2025-08-19T18:32:27.638367Z",
     "shell.execute_reply": "2025-08-19T18:32:27.637408Z"
    },
    "papermill": {
     "duration": 6.603325,
     "end_time": "2025-08-19T18:32:27.642125",
     "exception": false,
     "start_time": "2025-08-19T18:32:21.038800",
     "status": "completed"
    },
    "tags": []
   },
   "outputs": [
    {
     "name": "stdout",
     "output_type": "stream",
     "text": [
      "Stopping execution_time clock.\n",
      "[INFO] Keeping all rows: 89710 rows retained.\n"
     ]
    },
    {
     "name": "stdout",
     "output_type": "stream",
     "text": [
      "[INFO] Keeping all rows: 89710 rows retained.\n"
     ]
    },
    {
     "name": "stdout",
     "output_type": "stream",
     "text": [
      "[INFO] Keeping all rows: 89710 rows retained.\n"
     ]
    },
    {
     "name": "stdout",
     "output_type": "stream",
     "text": [
      "[INFO] Keeping all rows: 89710 rows retained.\n"
     ]
    },
    {
     "data": {
      "text/html": [
       "<div>\n",
       "<style scoped>\n",
       "    .dataframe tbody tr th:only-of-type {\n",
       "        vertical-align: middle;\n",
       "    }\n",
       "\n",
       "    .dataframe tbody tr th {\n",
       "        vertical-align: top;\n",
       "    }\n",
       "\n",
       "    .dataframe thead th {\n",
       "        text-align: right;\n",
       "    }\n",
       "</style>\n",
       "<table border=\"1\" class=\"dataframe\">\n",
       "  <thead>\n",
       "    <tr style=\"text-align: right;\">\n",
       "      <th></th>\n",
       "      <th>run_no</th>\n",
       "      <th>universe_id</th>\n",
       "      <th>universe_settings</th>\n",
       "      <th>execution_time</th>\n",
       "      <th>test_size_n</th>\n",
       "      <th>test_size_frac</th>\n",
       "      <th>fair_main_equalized_odds_difference</th>\n",
       "      <th>fair_main_equalized_odds_ratio</th>\n",
       "      <th>fair_main_demographic_parity_difference</th>\n",
       "      <th>fair_main_demographic_parity_ratio</th>\n",
       "      <th>...</th>\n",
       "      <th>perf_grp_precision_0</th>\n",
       "      <th>perf_grp_precision_1</th>\n",
       "      <th>perf_grp_false positive rate_0</th>\n",
       "      <th>perf_grp_false positive rate_1</th>\n",
       "      <th>perf_grp_false negative rate_0</th>\n",
       "      <th>perf_grp_false negative rate_1</th>\n",
       "      <th>perf_grp_selection rate_0</th>\n",
       "      <th>perf_grp_selection rate_1</th>\n",
       "      <th>perf_grp_count_0</th>\n",
       "      <th>perf_grp_count_1</th>\n",
       "    </tr>\n",
       "  </thead>\n",
       "  <tbody>\n",
       "    <tr>\n",
       "      <th>0</th>\n",
       "      <td>3</td>\n",
       "      <td>e2c6a06f828e1fc0478bae5e101f7810</td>\n",
       "      <td>{\"cutoff\": \"quantile_0.1\", \"eval_fairness_grou...</td>\n",
       "      <td>22.295379</td>\n",
       "      <td>89710</td>\n",
       "      <td>1.0</td>\n",
       "      <td>0.103336</td>\n",
       "      <td>0.893142</td>\n",
       "      <td>0.090736</td>\n",
       "      <td>0.906454</td>\n",
       "      <td>...</td>\n",
       "      <td>NaN</td>\n",
       "      <td>NaN</td>\n",
       "      <td>NaN</td>\n",
       "      <td>NaN</td>\n",
       "      <td>NaN</td>\n",
       "      <td>NaN</td>\n",
       "      <td>NaN</td>\n",
       "      <td>NaN</td>\n",
       "      <td>NaN</td>\n",
       "      <td>NaN</td>\n",
       "    </tr>\n",
       "    <tr>\n",
       "      <th>0</th>\n",
       "      <td>3</td>\n",
       "      <td>e2c6a06f828e1fc0478bae5e101f7810</td>\n",
       "      <td>{\"cutoff\": \"quantile_0.1\", \"eval_fairness_grou...</td>\n",
       "      <td>22.295379</td>\n",
       "      <td>89710</td>\n",
       "      <td>1.0</td>\n",
       "      <td>0.103336</td>\n",
       "      <td>0.893142</td>\n",
       "      <td>0.090736</td>\n",
       "      <td>0.906454</td>\n",
       "      <td>...</td>\n",
       "      <td>0.117954</td>\n",
       "      <td>0.147461</td>\n",
       "      <td>0.967037</td>\n",
       "      <td>0.863701</td>\n",
       "      <td>0.007601</td>\n",
       "      <td>0.018818</td>\n",
       "      <td>0.969961</td>\n",
       "      <td>0.879225</td>\n",
       "      <td>20540.0</td>\n",
       "      <td>69170.0</td>\n",
       "    </tr>\n",
       "    <tr>\n",
       "      <th>0</th>\n",
       "      <td>3</td>\n",
       "      <td>e2c6a06f828e1fc0478bae5e101f7810</td>\n",
       "      <td>{\"cutoff\": \"quantile_0.25\", \"eval_fairness_gro...</td>\n",
       "      <td>22.295379</td>\n",
       "      <td>89710</td>\n",
       "      <td>1.0</td>\n",
       "      <td>0.193064</td>\n",
       "      <td>0.778247</td>\n",
       "      <td>0.170303</td>\n",
       "      <td>0.806761</td>\n",
       "      <td>...</td>\n",
       "      <td>NaN</td>\n",
       "      <td>NaN</td>\n",
       "      <td>NaN</td>\n",
       "      <td>NaN</td>\n",
       "      <td>NaN</td>\n",
       "      <td>NaN</td>\n",
       "      <td>NaN</td>\n",
       "      <td>NaN</td>\n",
       "      <td>NaN</td>\n",
       "      <td>NaN</td>\n",
       "    </tr>\n",
       "    <tr>\n",
       "      <th>0</th>\n",
       "      <td>3</td>\n",
       "      <td>e2c6a06f828e1fc0478bae5e101f7810</td>\n",
       "      <td>{\"cutoff\": \"quantile_0.25\", \"eval_fairness_gro...</td>\n",
       "      <td>22.295379</td>\n",
       "      <td>89710</td>\n",
       "      <td>1.0</td>\n",
       "      <td>0.193064</td>\n",
       "      <td>0.778247</td>\n",
       "      <td>0.170303</td>\n",
       "      <td>0.806761</td>\n",
       "      <td>...</td>\n",
       "      <td>0.126008</td>\n",
       "      <td>0.172956</td>\n",
       "      <td>0.870625</td>\n",
       "      <td>0.677561</td>\n",
       "      <td>0.036740</td>\n",
       "      <td>0.069365</td>\n",
       "      <td>0.881305</td>\n",
       "      <td>0.711002</td>\n",
       "      <td>20540.0</td>\n",
       "      <td>69170.0</td>\n",
       "    </tr>\n",
       "  </tbody>\n",
       "</table>\n",
       "<p>4 rows × 50 columns</p>\n",
       "</div>"
      ],
      "text/plain": [
       "  run_no                       universe_id  \\\n",
       "0      3  e2c6a06f828e1fc0478bae5e101f7810   \n",
       "0      3  e2c6a06f828e1fc0478bae5e101f7810   \n",
       "0      3  e2c6a06f828e1fc0478bae5e101f7810   \n",
       "0      3  e2c6a06f828e1fc0478bae5e101f7810   \n",
       "\n",
       "                                   universe_settings  execution_time  \\\n",
       "0  {\"cutoff\": \"quantile_0.1\", \"eval_fairness_grou...       22.295379   \n",
       "0  {\"cutoff\": \"quantile_0.1\", \"eval_fairness_grou...       22.295379   \n",
       "0  {\"cutoff\": \"quantile_0.25\", \"eval_fairness_gro...       22.295379   \n",
       "0  {\"cutoff\": \"quantile_0.25\", \"eval_fairness_gro...       22.295379   \n",
       "\n",
       "   test_size_n  test_size_frac  fair_main_equalized_odds_difference  \\\n",
       "0        89710             1.0                             0.103336   \n",
       "0        89710             1.0                             0.103336   \n",
       "0        89710             1.0                             0.193064   \n",
       "0        89710             1.0                             0.193064   \n",
       "\n",
       "   fair_main_equalized_odds_ratio  fair_main_demographic_parity_difference  \\\n",
       "0                        0.893142                                 0.090736   \n",
       "0                        0.893142                                 0.090736   \n",
       "0                        0.778247                                 0.170303   \n",
       "0                        0.778247                                 0.170303   \n",
       "\n",
       "   fair_main_demographic_parity_ratio  ...  perf_grp_precision_0  \\\n",
       "0                            0.906454  ...                   NaN   \n",
       "0                            0.906454  ...              0.117954   \n",
       "0                            0.806761  ...                   NaN   \n",
       "0                            0.806761  ...              0.126008   \n",
       "\n",
       "   perf_grp_precision_1  perf_grp_false positive rate_0  \\\n",
       "0                   NaN                             NaN   \n",
       "0              0.147461                        0.967037   \n",
       "0                   NaN                             NaN   \n",
       "0              0.172956                        0.870625   \n",
       "\n",
       "   perf_grp_false positive rate_1  perf_grp_false negative rate_0  \\\n",
       "0                             NaN                             NaN   \n",
       "0                        0.863701                        0.007601   \n",
       "0                             NaN                             NaN   \n",
       "0                        0.677561                        0.036740   \n",
       "\n",
       "   perf_grp_false negative rate_1  perf_grp_selection rate_0  \\\n",
       "0                             NaN                        NaN   \n",
       "0                        0.018818                   0.969961   \n",
       "0                             NaN                        NaN   \n",
       "0                        0.069365                   0.881305   \n",
       "\n",
       "   perf_grp_selection rate_1  perf_grp_count_0  perf_grp_count_1  \n",
       "0                        NaN               NaN               NaN  \n",
       "0                   0.879225           20540.0           69170.0  \n",
       "0                        NaN               NaN               NaN  \n",
       "0                   0.711002           20540.0           69170.0  \n",
       "\n",
       "[4 rows x 50 columns]"
      ]
     },
     "execution_count": 64,
     "metadata": {},
     "output_type": "execute_result"
    }
   ],
   "source": [
    "final_output = universe_analysis.generate_final_output(\n",
    "    y_pred_prob=probs_test,\n",
    "    y_test=y_true,\n",
    "    org_test=org_test,\n",
    "    filter_data=filter_sub_universe_data,\n",
    "    cp_metrics_df=cp_metrics_df,\n",
    "    save=True,\n",
    ")\n",
    "final_output"
   ]
  },
  {
   "cell_type": "code",
   "execution_count": null,
   "id": "8b80a1ff",
   "metadata": {
    "papermill": {
     "duration": 0.014015,
     "end_time": "2025-08-19T18:32:27.686279",
     "exception": false,
     "start_time": "2025-08-19T18:32:27.672264",
     "status": "completed"
    },
    "tags": []
   },
   "outputs": [],
   "source": []
  },
  {
   "cell_type": "code",
   "execution_count": null,
   "id": "275c9fad",
   "metadata": {
    "papermill": {
     "duration": 0.013737,
     "end_time": "2025-08-19T18:32:27.714096",
     "exception": false,
     "start_time": "2025-08-19T18:32:27.700359",
     "status": "completed"
    },
    "tags": []
   },
   "outputs": [],
   "source": []
  }
 ],
 "metadata": {
  "celltoolbar": "Tags",
  "kernelspec": {
   "display_name": "Python (CMA Fairness)",
   "language": "python",
   "name": "cma_fair_env"
  },
  "language_info": {
   "codemirror_mode": {
    "name": "ipython",
    "version": 3
   },
   "file_extension": ".py",
   "mimetype": "text/x-python",
   "name": "python",
   "nbconvert_exporter": "python",
   "pygments_lexer": "ipython3",
   "version": "3.10.12"
  },
  "papermill": {
   "default_parameters": {},
   "duration": 33.308649,
   "end_time": "2025-08-19T18:32:28.565686",
   "environment_variables": {},
   "exception": null,
   "input_path": "universe_analysis.ipynb",
   "output_path": "output/runs/3/notebooks/m_3-e2c6a06f828e1fc0478bae5e101f7810.ipynb",
   "parameters": {
    "output_dir": "output",
    "run_no": "3",
    "seed": "2023",
    "universe": "{\"cutoff\": [\"quantile_0.1\", \"quantile_0.25\"], \"eval_fairness_grouping\": [\"majority-minority\", \"nationality-all\"], \"exclude_features\": \"sex\", \"exclude_subgroups\": \"keep-all\", \"model\": \"penalized_logreg\", \"scale\": \"scale\", \"training_size\": \"5k\", \"training_year\": \"2012_14\"}",
    "universe_id": "e2c6a06f828e1fc0478bae5e101f7810"
   },
   "start_time": "2025-08-19T18:31:55.257037",
   "version": "2.6.0"
  }
 },
 "nbformat": 4,
 "nbformat_minor": 5
}