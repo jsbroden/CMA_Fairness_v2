{
 "cells": [
  {
   "cell_type": "markdown",
   "id": "ef23dbb3",
   "metadata": {
    "papermill": {
     "duration": 0.022976,
     "end_time": "2025-08-19T18:51:00.532418",
     "exception": false,
     "start_time": "2025-08-19T18:51:00.509442",
     "status": "completed"
    },
    "tags": []
   },
   "source": [
    "# Setup"
   ]
  },
  {
   "cell_type": "code",
   "execution_count": 1,
   "id": "0bc8e7dc",
   "metadata": {
    "execution": {
     "iopub.execute_input": "2025-08-19T18:51:00.555469Z",
     "iopub.status.busy": "2025-08-19T18:51:00.555148Z",
     "iopub.status.idle": "2025-08-19T18:51:00.564336Z",
     "shell.execute_reply": "2025-08-19T18:51:00.563792Z"
    },
    "papermill": {
     "duration": 0.022816,
     "end_time": "2025-08-19T18:51:00.567865",
     "exception": false,
     "start_time": "2025-08-19T18:51:00.545049",
     "status": "completed"
    },
    "tags": []
   },
   "outputs": [
    {
     "name": "stdout",
     "output_type": "stream",
     "text": [
      "/dss/dsshome1/0C/ra93lal2/cma/CMA_Fairness_v2\n"
     ]
    },
    {
     "name": "stderr",
     "output_type": "stream",
     "text": [
      "/dss/dsshome1/0C/ra93lal2/.local/share/virtualenvs/CMA_Fairness_v2-3j10GkSs/lib/python3.10/site-packages/IPython/core/magics/osm.py:393: UserWarning: This is now an optional IPython functionality, using bookmarks requires you to install the `pickleshare` library.\n",
      "  bkms = self.shell.db.get('bookmarks', {})\n",
      "/dss/dsshome1/0C/ra93lal2/.local/share/virtualenvs/CMA_Fairness_v2-3j10GkSs/lib/python3.10/site-packages/IPython/core/magics/osm.py:417: UserWarning: This is now an optional IPython functionality, setting dhist requires you to install the `pickleshare` library.\n",
      "  self.shell.db['dhist'] = compress_dhist(dhist)[-100:]\n"
     ]
    }
   ],
   "source": [
    "%cd ~/cma/CMA_Fairness_v2"
   ]
  },
  {
   "cell_type": "markdown",
   "id": "9d235661",
   "metadata": {
    "papermill": {
     "duration": 0.011223,
     "end_time": "2025-08-19T18:51:00.603062",
     "exception": false,
     "start_time": "2025-08-19T18:51:00.591839",
     "status": "completed"
    },
    "tags": []
   },
   "source": [
    "The following cell holds the definition of our parameters, these values can be overriden by rendering the with e.g. the following command:\n",
    "\n",
    "papermill -p alpha 0.2 -p ratio 0.3 universe_analysis.ipynb output/test_run.ipynb"
   ]
  },
  {
   "cell_type": "code",
   "execution_count": 2,
   "id": "4a789d8e",
   "metadata": {
    "execution": {
     "iopub.execute_input": "2025-08-19T18:51:00.712729Z",
     "iopub.status.busy": "2025-08-19T18:51:00.712383Z",
     "iopub.status.idle": "2025-08-19T18:51:00.719167Z",
     "shell.execute_reply": "2025-08-19T18:51:00.716918Z"
    },
    "papermill": {
     "duration": 0.019217,
     "end_time": "2025-08-19T18:51:00.721470",
     "exception": false,
     "start_time": "2025-08-19T18:51:00.702253",
     "status": "completed"
    },
    "tags": []
   },
   "outputs": [
    {
     "name": "stdout",
     "output_type": "stream",
     "text": [
      "Current working directory: /dss/dsshome1/0C/ra93lal2/cma/CMA_Fairness_v2\n"
     ]
    }
   ],
   "source": [
    "import os\n",
    "print(\"Current working directory:\", os.getcwd())"
   ]
  },
  {
   "cell_type": "code",
   "execution_count": 3,
   "id": "4132aaed",
   "metadata": {
    "execution": {
     "iopub.execute_input": "2025-08-19T18:51:00.742919Z",
     "iopub.status.busy": "2025-08-19T18:51:00.741473Z",
     "iopub.status.idle": "2025-08-19T18:51:00.755489Z",
     "shell.execute_reply": "2025-08-19T18:51:00.752630Z"
    },
    "papermill": {
     "duration": 0.027396,
     "end_time": "2025-08-19T18:51:00.758150",
     "exception": false,
     "start_time": "2025-08-19T18:51:00.730754",
     "status": "completed"
    },
    "tags": [
     "parameters"
    ]
   },
   "outputs": [],
   "source": [
    "run_no = 0\n",
    "universe_id = \"test\"\n",
    "universe = {\n",
    "    \"training_size\": \"5k\", # \"25k\", \"5k\", \"1k\"\n",
    "    \"training_year\": \"2012_14\", # \"2014\", \"2012_14\", \"2010_14\"\n",
    "    \"scale\": \"scale\", # \"scale\", \"do-not-scale\",\n",
    "    \"model\": \"elasticnet\", # \"logreg\", \"penalized_logreg\", \"rf\", \"gbm\", \"elasticnet\"\n",
    "    \"cutoff\": [\"quantile_0.15\", \"quantile_0.30\"],\n",
    "    \"exclude_features\": \"age\", # \"none\", \"nationality\", \"sex\", \"nationality-sex\", \"age\"\n",
    "    \"exclude_subgroups\": \"drop-non-german\", # \"keep-all\", \"drop-non-german\"\n",
    "    \"eval_fairness_grouping\": [\"majority-minority\", \"nationality-all\"]\n",
    "}\n",
    "\n",
    "output_dir=\"./output\"\n",
    "seed=0"
   ]
  },
  {
   "cell_type": "code",
   "execution_count": 4,
   "id": "8686af9a",
   "metadata": {
    "execution": {
     "iopub.execute_input": "2025-08-19T18:51:00.784500Z",
     "iopub.status.busy": "2025-08-19T18:51:00.782285Z",
     "iopub.status.idle": "2025-08-19T18:51:00.814399Z",
     "shell.execute_reply": "2025-08-19T18:51:00.811987Z"
    },
    "papermill": {
     "duration": 0.047196,
     "end_time": "2025-08-19T18:51:00.818161",
     "exception": false,
     "start_time": "2025-08-19T18:51:00.770965",
     "status": "completed"
    },
    "tags": [
     "injected-parameters"
    ]
   },
   "outputs": [],
   "source": [
    "# Parameters\n",
    "universe_id = \"68084ed931fa51aa4436dfa868b8e460\"\n",
    "run_no = \"3\"\n",
    "universe = \"{\\\"cutoff\\\": [\\\"quantile_0.1\\\", \\\"quantile_0.25\\\"], \\\"eval_fairness_grouping\\\": [\\\"majority-minority\\\", \\\"nationality-all\\\"], \\\"exclude_features\\\": \\\"none\\\", \\\"exclude_subgroups\\\": \\\"drop-non-german\\\", \\\"model\\\": \\\"gbm\\\", \\\"scale\\\": \\\"scale\\\", \\\"training_size\\\": \\\"1k\\\", \\\"training_year\\\": \\\"2014\\\"}\"\n",
    "output_dir = \"output\"\n",
    "seed = \"2023\"\n"
   ]
  },
  {
   "cell_type": "code",
   "execution_count": 5,
   "id": "a5d7941f",
   "metadata": {
    "execution": {
     "iopub.execute_input": "2025-08-19T18:51:00.851901Z",
     "iopub.status.busy": "2025-08-19T18:51:00.851581Z",
     "iopub.status.idle": "2025-08-19T18:51:00.856613Z",
     "shell.execute_reply": "2025-08-19T18:51:00.855767Z"
    },
    "papermill": {
     "duration": 0.018606,
     "end_time": "2025-08-19T18:51:00.858016",
     "exception": false,
     "start_time": "2025-08-19T18:51:00.839410",
     "status": "completed"
    },
    "tags": []
   },
   "outputs": [],
   "source": [
    "import json\n",
    "if isinstance(universe, str):\n",
    "    universe = json.loads(universe)"
   ]
  },
  {
   "cell_type": "code",
   "execution_count": 6,
   "id": "7076ccb1",
   "metadata": {
    "execution": {
     "iopub.execute_input": "2025-08-19T18:51:00.877814Z",
     "iopub.status.busy": "2025-08-19T18:51:00.877509Z",
     "iopub.status.idle": "2025-08-19T18:51:00.934004Z",
     "shell.execute_reply": "2025-08-19T18:51:00.932688Z"
    },
    "papermill": {
     "duration": 0.073699,
     "end_time": "2025-08-19T18:51:00.940909",
     "exception": false,
     "start_time": "2025-08-19T18:51:00.867210",
     "status": "completed"
    },
    "tags": []
   },
   "outputs": [],
   "source": [
    "# Auto-reload the custom package\n",
    "%load_ext autoreload\n",
    "%autoreload 1\n",
    "%aimport fairness_multiverse"
   ]
  },
  {
   "cell_type": "code",
   "execution_count": 7,
   "id": "94c8eb93",
   "metadata": {
    "execution": {
     "iopub.execute_input": "2025-08-19T18:51:00.970247Z",
     "iopub.status.busy": "2025-08-19T18:51:00.969931Z",
     "iopub.status.idle": "2025-08-19T18:51:02.663530Z",
     "shell.execute_reply": "2025-08-19T18:51:02.662595Z"
    },
    "papermill": {
     "duration": 1.707809,
     "end_time": "2025-08-19T18:51:02.665048",
     "exception": false,
     "start_time": "2025-08-19T18:51:00.957239",
     "status": "completed"
    },
    "tags": []
   },
   "outputs": [],
   "source": [
    "from fairness_multiverse.universe import UniverseAnalysis\n",
    "\n",
    "universe_analysis = UniverseAnalysis(\n",
    "    run_no = run_no,\n",
    "    universe_id = universe_id,\n",
    "    universe = universe,\n",
    "    output_dir=output_dir,\n",
    ")"
   ]
  },
  {
   "cell_type": "code",
   "execution_count": 8,
   "id": "2a6381cf",
   "metadata": {
    "execution": {
     "iopub.execute_input": "2025-08-19T18:51:02.684866Z",
     "iopub.status.busy": "2025-08-19T18:51:02.684398Z",
     "iopub.status.idle": "2025-08-19T18:51:02.689768Z",
     "shell.execute_reply": "2025-08-19T18:51:02.689183Z"
    },
    "papermill": {
     "duration": 0.016294,
     "end_time": "2025-08-19T18:51:02.690754",
     "exception": false,
     "start_time": "2025-08-19T18:51:02.674460",
     "status": "completed"
    },
    "tags": []
   },
   "outputs": [
    {
     "name": "stdout",
     "output_type": "stream",
     "text": [
      "Using Seed: 2023\n"
     ]
    }
   ],
   "source": [
    "import numpy as np\n",
    "parsed_seed = int(seed)\n",
    "np.random.seed(parsed_seed)\n",
    "print(f\"Using Seed: {parsed_seed}\")"
   ]
  },
  {
   "cell_type": "markdown",
   "id": "b6e958b4",
   "metadata": {
    "papermill": {
     "duration": 0.009195,
     "end_time": "2025-08-19T18:51:02.709269",
     "exception": false,
     "start_time": "2025-08-19T18:51:02.700074",
     "status": "completed"
    },
    "tags": []
   },
   "source": [
    "# Loading Data"
   ]
  },
  {
   "cell_type": "code",
   "execution_count": 9,
   "id": "98701482",
   "metadata": {
    "execution": {
     "iopub.execute_input": "2025-08-19T18:51:02.728676Z",
     "iopub.status.busy": "2025-08-19T18:51:02.728232Z",
     "iopub.status.idle": "2025-08-19T18:51:13.184699Z",
     "shell.execute_reply": "2025-08-19T18:51:13.183257Z"
    },
    "papermill": {
     "duration": 10.46795,
     "end_time": "2025-08-19T18:51:13.186207",
     "exception": false,
     "start_time": "2025-08-19T18:51:02.718257",
     "status": "completed"
    },
    "tags": []
   },
   "outputs": [
    {
     "name": "stdout",
     "output_type": "stream",
     "text": [
      "Loading SIAB data from cache: data/siab_cached.csv.gz\n"
     ]
    },
    {
     "name": "stdout",
     "output_type": "stream",
     "text": [
      "(643690, 164)\n"
     ]
    }
   ],
   "source": [
    "from pathlib import Path\n",
    "import pandas as pd\n",
    "\n",
    "# File paths\n",
    "raw_file = Path(\"data/raw/siab.csv\")\n",
    "cache_file = Path(\"data/siab_cached.csv.gz\")\n",
    "\n",
    "# Ensure cache directory exists\n",
    "cache_file.parent.mkdir(parents=True, exist_ok=True)\n",
    "\n",
    "# Load with simple caching\n",
    "if cache_file.exists():\n",
    "    print(f\"Loading SIAB data from cache: {cache_file}\")\n",
    "    siab = pd.read_csv(cache_file, compression='gzip')\n",
    "else:\n",
    "    print(f\"Cache not found. Reading raw SIAB data: {raw_file}\")\n",
    "    siab = pd.read_csv(raw_file)\n",
    "    siab.to_csv(cache_file, index=False, compression='gzip')\n",
    "    print(f\"Cached SIAB data to: {cache_file}\")\n",
    "\n",
    "print(siab.shape)"
   ]
  },
  {
   "cell_type": "code",
   "execution_count": 10,
   "id": "058d2abb",
   "metadata": {
    "execution": {
     "iopub.execute_input": "2025-08-19T18:51:13.210253Z",
     "iopub.status.busy": "2025-08-19T18:51:13.209912Z",
     "iopub.status.idle": "2025-08-19T18:51:13.459966Z",
     "shell.execute_reply": "2025-08-19T18:51:13.459012Z"
    },
    "papermill": {
     "duration": 0.26256,
     "end_time": "2025-08-19T18:51:13.461365",
     "exception": false,
     "start_time": "2025-08-19T18:51:13.198805",
     "status": "completed"
    },
    "tags": []
   },
   "outputs": [
    {
     "data": {
      "text/html": [
       "<div>\n",
       "<style scoped>\n",
       "    .dataframe tbody tr th:only-of-type {\n",
       "        vertical-align: middle;\n",
       "    }\n",
       "\n",
       "    .dataframe tbody tr th {\n",
       "        vertical-align: top;\n",
       "    }\n",
       "\n",
       "    .dataframe thead th {\n",
       "        text-align: right;\n",
       "    }\n",
       "</style>\n",
       "<table border=\"1\" class=\"dataframe\">\n",
       "  <thead>\n",
       "    <tr style=\"text-align: right;\">\n",
       "      <th></th>\n",
       "      <th>persnr</th>\n",
       "      <th>year</th>\n",
       "      <th>nrEntry</th>\n",
       "      <th>ltue</th>\n",
       "      <th>employed_before</th>\n",
       "      <th>receipt_leh_before</th>\n",
       "      <th>receipt_lhg_before</th>\n",
       "      <th>se_before</th>\n",
       "      <th>ASU_notue_seeking_before</th>\n",
       "      <th>ASU_other_before</th>\n",
       "      <th>...</th>\n",
       "      <th>minijob_tot_dur_byage</th>\n",
       "      <th>ft_tot_dur_byage</th>\n",
       "      <th>befrist_tot_dur_byage</th>\n",
       "      <th>leih_tot_dur_byage</th>\n",
       "      <th>LHG_tot_dur_byage</th>\n",
       "      <th>LEH_tot_dur_byage</th>\n",
       "      <th>almp_tot_dur_byage</th>\n",
       "      <th>almp_aw_tot_dur_byage</th>\n",
       "      <th>se_tot_dur_byage</th>\n",
       "      <th>seeking1_tot_dur_byage</th>\n",
       "    </tr>\n",
       "  </thead>\n",
       "  <tbody>\n",
       "    <tr>\n",
       "      <th>0</th>\n",
       "      <td>7</td>\n",
       "      <td>2015</td>\n",
       "      <td>1</td>\n",
       "      <td>0</td>\n",
       "      <td>1</td>\n",
       "      <td>0</td>\n",
       "      <td>0</td>\n",
       "      <td>0</td>\n",
       "      <td>1</td>\n",
       "      <td>0</td>\n",
       "      <td>...</td>\n",
       "      <td>0.000000</td>\n",
       "      <td>0.000000</td>\n",
       "      <td>15.043478</td>\n",
       "      <td>0.000000</td>\n",
       "      <td>0.000000</td>\n",
       "      <td>0.000000</td>\n",
       "      <td>0.000000</td>\n",
       "      <td>0.000000</td>\n",
       "      <td>0.000000</td>\n",
       "      <td>0.000000</td>\n",
       "    </tr>\n",
       "    <tr>\n",
       "      <th>1</th>\n",
       "      <td>18</td>\n",
       "      <td>2010</td>\n",
       "      <td>1</td>\n",
       "      <td>1</td>\n",
       "      <td>0</td>\n",
       "      <td>0</td>\n",
       "      <td>0</td>\n",
       "      <td>0</td>\n",
       "      <td>0</td>\n",
       "      <td>0</td>\n",
       "      <td>...</td>\n",
       "      <td>0.000000</td>\n",
       "      <td>0.000000</td>\n",
       "      <td>0.000000</td>\n",
       "      <td>0.000000</td>\n",
       "      <td>0.000000</td>\n",
       "      <td>0.000000</td>\n",
       "      <td>0.000000</td>\n",
       "      <td>0.000000</td>\n",
       "      <td>0.000000</td>\n",
       "      <td>0.000000</td>\n",
       "    </tr>\n",
       "    <tr>\n",
       "      <th>2</th>\n",
       "      <td>18</td>\n",
       "      <td>2011</td>\n",
       "      <td>2</td>\n",
       "      <td>0</td>\n",
       "      <td>1</td>\n",
       "      <td>0</td>\n",
       "      <td>1</td>\n",
       "      <td>0</td>\n",
       "      <td>1</td>\n",
       "      <td>0</td>\n",
       "      <td>...</td>\n",
       "      <td>2.714286</td>\n",
       "      <td>2.714286</td>\n",
       "      <td>0.000000</td>\n",
       "      <td>0.000000</td>\n",
       "      <td>10.775510</td>\n",
       "      <td>0.000000</td>\n",
       "      <td>8.367347</td>\n",
       "      <td>0.000000</td>\n",
       "      <td>0.000000</td>\n",
       "      <td>9.836735</td>\n",
       "    </tr>\n",
       "    <tr>\n",
       "      <th>3</th>\n",
       "      <td>18</td>\n",
       "      <td>2012</td>\n",
       "      <td>3</td>\n",
       "      <td>0</td>\n",
       "      <td>1</td>\n",
       "      <td>0</td>\n",
       "      <td>1</td>\n",
       "      <td>0</td>\n",
       "      <td>1</td>\n",
       "      <td>0</td>\n",
       "      <td>...</td>\n",
       "      <td>4.200000</td>\n",
       "      <td>4.200000</td>\n",
       "      <td>0.000000</td>\n",
       "      <td>0.000000</td>\n",
       "      <td>12.100000</td>\n",
       "      <td>0.000000</td>\n",
       "      <td>9.400000</td>\n",
       "      <td>0.000000</td>\n",
       "      <td>0.000000</td>\n",
       "      <td>9.960000</td>\n",
       "    </tr>\n",
       "    <tr>\n",
       "      <th>4</th>\n",
       "      <td>18</td>\n",
       "      <td>2012</td>\n",
       "      <td>4</td>\n",
       "      <td>0</td>\n",
       "      <td>1</td>\n",
       "      <td>0</td>\n",
       "      <td>1</td>\n",
       "      <td>0</td>\n",
       "      <td>1</td>\n",
       "      <td>0</td>\n",
       "      <td>...</td>\n",
       "      <td>5.460000</td>\n",
       "      <td>5.460000</td>\n",
       "      <td>0.000000</td>\n",
       "      <td>0.000000</td>\n",
       "      <td>13.360000</td>\n",
       "      <td>0.000000</td>\n",
       "      <td>10.320000</td>\n",
       "      <td>0.000000</td>\n",
       "      <td>0.000000</td>\n",
       "      <td>10.280000</td>\n",
       "    </tr>\n",
       "    <tr>\n",
       "      <th>...</th>\n",
       "      <td>...</td>\n",
       "      <td>...</td>\n",
       "      <td>...</td>\n",
       "      <td>...</td>\n",
       "      <td>...</td>\n",
       "      <td>...</td>\n",
       "      <td>...</td>\n",
       "      <td>...</td>\n",
       "      <td>...</td>\n",
       "      <td>...</td>\n",
       "      <td>...</td>\n",
       "      <td>...</td>\n",
       "      <td>...</td>\n",
       "      <td>...</td>\n",
       "      <td>...</td>\n",
       "      <td>...</td>\n",
       "      <td>...</td>\n",
       "      <td>...</td>\n",
       "      <td>...</td>\n",
       "      <td>...</td>\n",
       "      <td>...</td>\n",
       "    </tr>\n",
       "    <tr>\n",
       "      <th>643685</th>\n",
       "      <td>1827860</td>\n",
       "      <td>2013</td>\n",
       "      <td>1</td>\n",
       "      <td>0</td>\n",
       "      <td>0</td>\n",
       "      <td>0</td>\n",
       "      <td>1</td>\n",
       "      <td>0</td>\n",
       "      <td>0</td>\n",
       "      <td>1</td>\n",
       "      <td>...</td>\n",
       "      <td>0.000000</td>\n",
       "      <td>0.000000</td>\n",
       "      <td>0.000000</td>\n",
       "      <td>0.000000</td>\n",
       "      <td>0.612903</td>\n",
       "      <td>0.000000</td>\n",
       "      <td>0.000000</td>\n",
       "      <td>0.000000</td>\n",
       "      <td>0.000000</td>\n",
       "      <td>0.000000</td>\n",
       "    </tr>\n",
       "    <tr>\n",
       "      <th>643686</th>\n",
       "      <td>1827860</td>\n",
       "      <td>2015</td>\n",
       "      <td>2</td>\n",
       "      <td>1</td>\n",
       "      <td>0</td>\n",
       "      <td>0</td>\n",
       "      <td>1</td>\n",
       "      <td>0</td>\n",
       "      <td>1</td>\n",
       "      <td>0</td>\n",
       "      <td>...</td>\n",
       "      <td>0.000000</td>\n",
       "      <td>0.000000</td>\n",
       "      <td>0.212121</td>\n",
       "      <td>0.212121</td>\n",
       "      <td>17.363636</td>\n",
       "      <td>0.000000</td>\n",
       "      <td>8.909091</td>\n",
       "      <td>0.000000</td>\n",
       "      <td>0.000000</td>\n",
       "      <td>7.121212</td>\n",
       "    </tr>\n",
       "    <tr>\n",
       "      <th>643687</th>\n",
       "      <td>1827860</td>\n",
       "      <td>2016</td>\n",
       "      <td>3</td>\n",
       "      <td>1</td>\n",
       "      <td>0</td>\n",
       "      <td>0</td>\n",
       "      <td>1</td>\n",
       "      <td>1</td>\n",
       "      <td>0</td>\n",
       "      <td>1</td>\n",
       "      <td>...</td>\n",
       "      <td>0.000000</td>\n",
       "      <td>0.000000</td>\n",
       "      <td>0.294118</td>\n",
       "      <td>0.205882</td>\n",
       "      <td>34.705882</td>\n",
       "      <td>0.000000</td>\n",
       "      <td>10.352941</td>\n",
       "      <td>1.705882</td>\n",
       "      <td>1.705882</td>\n",
       "      <td>23.911765</td>\n",
       "    </tr>\n",
       "    <tr>\n",
       "      <th>643688</th>\n",
       "      <td>1827869</td>\n",
       "      <td>2013</td>\n",
       "      <td>1</td>\n",
       "      <td>1</td>\n",
       "      <td>1</td>\n",
       "      <td>0</td>\n",
       "      <td>0</td>\n",
       "      <td>0</td>\n",
       "      <td>1</td>\n",
       "      <td>0</td>\n",
       "      <td>...</td>\n",
       "      <td>0.000000</td>\n",
       "      <td>0.000000</td>\n",
       "      <td>0.000000</td>\n",
       "      <td>0.000000</td>\n",
       "      <td>0.000000</td>\n",
       "      <td>0.525424</td>\n",
       "      <td>0.000000</td>\n",
       "      <td>0.000000</td>\n",
       "      <td>0.000000</td>\n",
       "      <td>0.000000</td>\n",
       "    </tr>\n",
       "    <tr>\n",
       "      <th>643689</th>\n",
       "      <td>1827869</td>\n",
       "      <td>2014</td>\n",
       "      <td>2</td>\n",
       "      <td>0</td>\n",
       "      <td>0</td>\n",
       "      <td>1</td>\n",
       "      <td>0</td>\n",
       "      <td>0</td>\n",
       "      <td>1</td>\n",
       "      <td>0</td>\n",
       "      <td>...</td>\n",
       "      <td>0.000000</td>\n",
       "      <td>0.666667</td>\n",
       "      <td>0.666667</td>\n",
       "      <td>0.000000</td>\n",
       "      <td>0.000000</td>\n",
       "      <td>8.950000</td>\n",
       "      <td>1.033333</td>\n",
       "      <td>0.083333</td>\n",
       "      <td>0.083333</td>\n",
       "      <td>8.133333</td>\n",
       "    </tr>\n",
       "  </tbody>\n",
       "</table>\n",
       "<p>643690 rows × 164 columns</p>\n",
       "</div>"
      ],
      "text/plain": [
       "         persnr  year  nrEntry  ltue  employed_before  receipt_leh_before  \\\n",
       "0             7  2015        1     0                1                   0   \n",
       "1            18  2010        1     1                0                   0   \n",
       "2            18  2011        2     0                1                   0   \n",
       "3            18  2012        3     0                1                   0   \n",
       "4            18  2012        4     0                1                   0   \n",
       "...         ...   ...      ...   ...              ...                 ...   \n",
       "643685  1827860  2013        1     0                0                   0   \n",
       "643686  1827860  2015        2     1                0                   0   \n",
       "643687  1827860  2016        3     1                0                   0   \n",
       "643688  1827869  2013        1     1                1                   0   \n",
       "643689  1827869  2014        2     0                0                   1   \n",
       "\n",
       "        receipt_lhg_before  se_before  ASU_notue_seeking_before  \\\n",
       "0                        0          0                         1   \n",
       "1                        0          0                         0   \n",
       "2                        1          0                         1   \n",
       "3                        1          0                         1   \n",
       "4                        1          0                         1   \n",
       "...                    ...        ...                       ...   \n",
       "643685                   1          0                         0   \n",
       "643686                   1          0                         1   \n",
       "643687                   1          1                         0   \n",
       "643688                   0          0                         1   \n",
       "643689                   0          0                         1   \n",
       "\n",
       "        ASU_other_before  ...  minijob_tot_dur_byage  ft_tot_dur_byage  \\\n",
       "0                      0  ...               0.000000          0.000000   \n",
       "1                      0  ...               0.000000          0.000000   \n",
       "2                      0  ...               2.714286          2.714286   \n",
       "3                      0  ...               4.200000          4.200000   \n",
       "4                      0  ...               5.460000          5.460000   \n",
       "...                  ...  ...                    ...               ...   \n",
       "643685                 1  ...               0.000000          0.000000   \n",
       "643686                 0  ...               0.000000          0.000000   \n",
       "643687                 1  ...               0.000000          0.000000   \n",
       "643688                 0  ...               0.000000          0.000000   \n",
       "643689                 0  ...               0.000000          0.666667   \n",
       "\n",
       "        befrist_tot_dur_byage  leih_tot_dur_byage  LHG_tot_dur_byage  \\\n",
       "0                   15.043478            0.000000           0.000000   \n",
       "1                    0.000000            0.000000           0.000000   \n",
       "2                    0.000000            0.000000          10.775510   \n",
       "3                    0.000000            0.000000          12.100000   \n",
       "4                    0.000000            0.000000          13.360000   \n",
       "...                       ...                 ...                ...   \n",
       "643685               0.000000            0.000000           0.612903   \n",
       "643686               0.212121            0.212121          17.363636   \n",
       "643687               0.294118            0.205882          34.705882   \n",
       "643688               0.000000            0.000000           0.000000   \n",
       "643689               0.666667            0.000000           0.000000   \n",
       "\n",
       "        LEH_tot_dur_byage  almp_tot_dur_byage  almp_aw_tot_dur_byage  \\\n",
       "0                0.000000            0.000000               0.000000   \n",
       "1                0.000000            0.000000               0.000000   \n",
       "2                0.000000            8.367347               0.000000   \n",
       "3                0.000000            9.400000               0.000000   \n",
       "4                0.000000           10.320000               0.000000   \n",
       "...                   ...                 ...                    ...   \n",
       "643685           0.000000            0.000000               0.000000   \n",
       "643686           0.000000            8.909091               0.000000   \n",
       "643687           0.000000           10.352941               1.705882   \n",
       "643688           0.525424            0.000000               0.000000   \n",
       "643689           8.950000            1.033333               0.083333   \n",
       "\n",
       "        se_tot_dur_byage  seeking1_tot_dur_byage  \n",
       "0               0.000000                0.000000  \n",
       "1               0.000000                0.000000  \n",
       "2               0.000000                9.836735  \n",
       "3               0.000000                9.960000  \n",
       "4               0.000000               10.280000  \n",
       "...                  ...                     ...  \n",
       "643685          0.000000                0.000000  \n",
       "643686          0.000000                7.121212  \n",
       "643687          1.705882               23.911765  \n",
       "643688          0.000000                0.000000  \n",
       "643689          0.083333                8.133333  \n",
       "\n",
       "[643690 rows x 164 columns]"
      ]
     },
     "execution_count": 10,
     "metadata": {},
     "output_type": "execute_result"
    }
   ],
   "source": [
    "siab"
   ]
  },
  {
   "cell_type": "markdown",
   "id": "1f87e805",
   "metadata": {
    "papermill": {
     "duration": 0.018312,
     "end_time": "2025-08-19T18:51:13.495223",
     "exception": false,
     "start_time": "2025-08-19T18:51:13.476911",
     "status": "completed"
    },
    "tags": []
   },
   "source": [
    "# Splitting Data and Setting Training Data Size"
   ]
  },
  {
   "cell_type": "code",
   "execution_count": 11,
   "id": "910ae358",
   "metadata": {
    "execution": {
     "iopub.execute_input": "2025-08-19T18:51:13.519001Z",
     "iopub.status.busy": "2025-08-19T18:51:13.518529Z",
     "iopub.status.idle": "2025-08-19T18:51:13.744818Z",
     "shell.execute_reply": "2025-08-19T18:51:13.743840Z"
    },
    "papermill": {
     "duration": 0.239869,
     "end_time": "2025-08-19T18:51:13.746505",
     "exception": false,
     "start_time": "2025-08-19T18:51:13.506636",
     "status": "completed"
    },
    "tags": []
   },
   "outputs": [],
   "source": [
    "from fairness_multiverse.universe import sample_by_year_size\n",
    "\n",
    "siab_train = sample_by_year_size(siab,\n",
    "                               training_year=universe[\"training_year\"],\n",
    "                               training_size=universe[\"training_size\"])"
   ]
  },
  {
   "cell_type": "code",
   "execution_count": 12,
   "id": "919c8ff5",
   "metadata": {
    "execution": {
     "iopub.execute_input": "2025-08-19T18:51:13.768805Z",
     "iopub.status.busy": "2025-08-19T18:51:13.768337Z",
     "iopub.status.idle": "2025-08-19T18:51:13.774725Z",
     "shell.execute_reply": "2025-08-19T18:51:13.773854Z"
    },
    "papermill": {
     "duration": 0.024724,
     "end_time": "2025-08-19T18:51:13.781859",
     "exception": false,
     "start_time": "2025-08-19T18:51:13.757135",
     "status": "completed"
    },
    "tags": []
   },
   "outputs": [
    {
     "data": {
      "text/plain": [
       "(1000, 164)"
      ]
     },
     "execution_count": 12,
     "metadata": {},
     "output_type": "execute_result"
    }
   ],
   "source": [
    "siab_train.shape"
   ]
  },
  {
   "cell_type": "code",
   "execution_count": 13,
   "id": "feb13bf4",
   "metadata": {
    "execution": {
     "iopub.execute_input": "2025-08-19T18:51:13.805716Z",
     "iopub.status.busy": "2025-08-19T18:51:13.804685Z",
     "iopub.status.idle": "2025-08-19T18:51:13.817796Z",
     "shell.execute_reply": "2025-08-19T18:51:13.816465Z"
    },
    "papermill": {
     "duration": 0.026808,
     "end_time": "2025-08-19T18:51:13.819677",
     "exception": false,
     "start_time": "2025-08-19T18:51:13.792869",
     "status": "completed"
    },
    "tags": []
   },
   "outputs": [
    {
     "data": {
      "text/plain": [
       "year\n",
       "2014    1000\n",
       "dtype: int64"
      ]
     },
     "metadata": {},
     "output_type": "display_data"
    }
   ],
   "source": [
    "display(siab_train.groupby(\"year\").size())"
   ]
  },
  {
   "cell_type": "code",
   "execution_count": 14,
   "id": "0997782f",
   "metadata": {
    "execution": {
     "iopub.execute_input": "2025-08-19T18:51:13.846597Z",
     "iopub.status.busy": "2025-08-19T18:51:13.845516Z",
     "iopub.status.idle": "2025-08-19T18:51:14.096742Z",
     "shell.execute_reply": "2025-08-19T18:51:14.094635Z"
    },
    "papermill": {
     "duration": 0.267908,
     "end_time": "2025-08-19T18:51:14.100667",
     "exception": false,
     "start_time": "2025-08-19T18:51:13.832759",
     "status": "completed"
    },
    "tags": []
   },
   "outputs": [],
   "source": [
    "#siab_train = siab_s[siab_s.year < 2015]\n",
    "siab_calib = siab[siab.year == 2015]\n",
    "siab_test = siab[siab.year == 2016]"
   ]
  },
  {
   "cell_type": "code",
   "execution_count": 15,
   "id": "2c1e4012",
   "metadata": {
    "execution": {
     "iopub.execute_input": "2025-08-19T18:51:14.143364Z",
     "iopub.status.busy": "2025-08-19T18:51:14.141927Z",
     "iopub.status.idle": "2025-08-19T18:51:14.153150Z",
     "shell.execute_reply": "2025-08-19T18:51:14.151806Z"
    },
    "papermill": {
     "duration": 0.031861,
     "end_time": "2025-08-19T18:51:14.155144",
     "exception": false,
     "start_time": "2025-08-19T18:51:14.123283",
     "status": "completed"
    },
    "tags": []
   },
   "outputs": [],
   "source": [
    "#siab_calib.shape"
   ]
  },
  {
   "cell_type": "code",
   "execution_count": 16,
   "id": "f66b54ca",
   "metadata": {
    "execution": {
     "iopub.execute_input": "2025-08-19T18:51:14.192953Z",
     "iopub.status.busy": "2025-08-19T18:51:14.191584Z",
     "iopub.status.idle": "2025-08-19T18:51:14.199901Z",
     "shell.execute_reply": "2025-08-19T18:51:14.198168Z"
    },
    "papermill": {
     "duration": 0.024816,
     "end_time": "2025-08-19T18:51:14.202775",
     "exception": false,
     "start_time": "2025-08-19T18:51:14.177959",
     "status": "completed"
    },
    "tags": []
   },
   "outputs": [],
   "source": [
    "#siab_test.shape"
   ]
  },
  {
   "cell_type": "code",
   "execution_count": 17,
   "id": "27e4384d",
   "metadata": {
    "execution": {
     "iopub.execute_input": "2025-08-19T18:51:14.240921Z",
     "iopub.status.busy": "2025-08-19T18:51:14.229507Z",
     "iopub.status.idle": "2025-08-19T18:51:14.247952Z",
     "shell.execute_reply": "2025-08-19T18:51:14.246837Z"
    },
    "papermill": {
     "duration": 0.034127,
     "end_time": "2025-08-19T18:51:14.249711",
     "exception": false,
     "start_time": "2025-08-19T18:51:14.215584",
     "status": "completed"
    },
    "tags": []
   },
   "outputs": [],
   "source": [
    "X_train = siab_train.iloc[:,4:164]\n",
    "y_train = siab_train.iloc[:, [3]]"
   ]
  },
  {
   "cell_type": "code",
   "execution_count": 18,
   "id": "08ee8389",
   "metadata": {
    "execution": {
     "iopub.execute_input": "2025-08-19T18:51:14.281860Z",
     "iopub.status.busy": "2025-08-19T18:51:14.281430Z",
     "iopub.status.idle": "2025-08-19T18:51:14.335437Z",
     "shell.execute_reply": "2025-08-19T18:51:14.334430Z"
    },
    "papermill": {
     "duration": 0.068451,
     "end_time": "2025-08-19T18:51:14.337123",
     "exception": false,
     "start_time": "2025-08-19T18:51:14.268672",
     "status": "completed"
    },
    "tags": []
   },
   "outputs": [],
   "source": [
    "X_calib = siab_calib.iloc[:,4:164]\n",
    "y_calib = siab_calib.iloc[:, [3]]"
   ]
  },
  {
   "cell_type": "code",
   "execution_count": 19,
   "id": "b7ff42e0",
   "metadata": {
    "execution": {
     "iopub.execute_input": "2025-08-19T18:51:14.363361Z",
     "iopub.status.busy": "2025-08-19T18:51:14.362291Z",
     "iopub.status.idle": "2025-08-19T18:51:14.449774Z",
     "shell.execute_reply": "2025-08-19T18:51:14.448266Z"
    },
    "papermill": {
     "duration": 0.101176,
     "end_time": "2025-08-19T18:51:14.451427",
     "exception": false,
     "start_time": "2025-08-19T18:51:14.350251",
     "status": "completed"
    },
    "tags": []
   },
   "outputs": [],
   "source": [
    "X_test = siab_test.iloc[:,4:164]\n",
    "y_true = siab_test.iloc[:, [3]]"
   ]
  },
  {
   "cell_type": "code",
   "execution_count": 20,
   "id": "0275101e",
   "metadata": {
    "execution": {
     "iopub.execute_input": "2025-08-19T18:51:14.489334Z",
     "iopub.status.busy": "2025-08-19T18:51:14.488894Z",
     "iopub.status.idle": "2025-08-19T18:51:14.608140Z",
     "shell.execute_reply": "2025-08-19T18:51:14.607226Z"
    },
    "papermill": {
     "duration": 0.146774,
     "end_time": "2025-08-19T18:51:14.611110",
     "exception": false,
     "start_time": "2025-08-19T18:51:14.464336",
     "status": "completed"
    },
    "tags": []
   },
   "outputs": [],
   "source": [
    "# Auxiliary data needed downstream in the pipeline\n",
    "\n",
    "org_train = X_train.copy()\n",
    "org_test = X_test.copy()\n",
    "org_calib = X_calib.copy()"
   ]
  },
  {
   "cell_type": "markdown",
   "id": "b461e618",
   "metadata": {
    "papermill": {
     "duration": 0.012663,
     "end_time": "2025-08-19T18:51:14.648664",
     "exception": false,
     "start_time": "2025-08-19T18:51:14.636001",
     "status": "completed"
    },
    "tags": []
   },
   "source": [
    "# Preprocessing Data"
   ]
  },
  {
   "cell_type": "code",
   "execution_count": 21,
   "id": "78e74c4b",
   "metadata": {
    "execution": {
     "iopub.execute_input": "2025-08-19T18:51:14.675245Z",
     "iopub.status.busy": "2025-08-19T18:51:14.670595Z",
     "iopub.status.idle": "2025-08-19T18:51:14.682935Z",
     "shell.execute_reply": "2025-08-19T18:51:14.681880Z"
    },
    "papermill": {
     "duration": 0.025999,
     "end_time": "2025-08-19T18:51:14.684967",
     "exception": false,
     "start_time": "2025-08-19T18:51:14.658968",
     "status": "completed"
    },
    "tags": []
   },
   "outputs": [],
   "source": [
    "# EXCLUDE PROTECTED FEATURES\n",
    "# --------------------------\n",
    "\n",
    "excluded_features = universe[\"exclude_features\"].split(\"-\")\n",
    "excluded_features_dictionary = {\n",
    "    \"nationality\": [\"maxdeutsch1\", \"maxdeutsch.Missing.\"],\n",
    "    \"sex\": [\"frau1\"],\n",
    "    \"age\": [\"age\"],\n",
    "}"
   ]
  },
  {
   "cell_type": "code",
   "execution_count": 22,
   "id": "f8e63555",
   "metadata": {
    "execution": {
     "iopub.execute_input": "2025-08-19T18:51:14.708892Z",
     "iopub.status.busy": "2025-08-19T18:51:14.708537Z",
     "iopub.status.idle": "2025-08-19T18:51:14.713428Z",
     "shell.execute_reply": "2025-08-19T18:51:14.712679Z"
    },
    "papermill": {
     "duration": 0.01725,
     "end_time": "2025-08-19T18:51:14.714616",
     "exception": false,
     "start_time": "2025-08-19T18:51:14.697366",
     "status": "completed"
    },
    "tags": []
   },
   "outputs": [],
   "source": [
    "excluded_features_columns = [\n",
    "    excluded_features_dictionary[f] for f in excluded_features if len(f) > 0 and f != \"none\"\n",
    "]"
   ]
  },
  {
   "cell_type": "code",
   "execution_count": 23,
   "id": "da781f7c",
   "metadata": {
    "execution": {
     "iopub.execute_input": "2025-08-19T18:51:14.737730Z",
     "iopub.status.busy": "2025-08-19T18:51:14.737206Z",
     "iopub.status.idle": "2025-08-19T18:51:14.743592Z",
     "shell.execute_reply": "2025-08-19T18:51:14.742269Z"
    },
    "papermill": {
     "duration": 0.019216,
     "end_time": "2025-08-19T18:51:14.745057",
     "exception": false,
     "start_time": "2025-08-19T18:51:14.725841",
     "status": "completed"
    },
    "tags": []
   },
   "outputs": [],
   "source": [
    "from fairness_multiverse.universe import flatten_once\n",
    "\n",
    "excluded_features_columns = flatten_once(excluded_features_columns)"
   ]
  },
  {
   "cell_type": "code",
   "execution_count": 24,
   "id": "37fef0f0",
   "metadata": {
    "execution": {
     "iopub.execute_input": "2025-08-19T18:51:14.773179Z",
     "iopub.status.busy": "2025-08-19T18:51:14.771913Z",
     "iopub.status.idle": "2025-08-19T18:51:14.780164Z",
     "shell.execute_reply": "2025-08-19T18:51:14.778996Z"
    },
    "papermill": {
     "duration": 0.021912,
     "end_time": "2025-08-19T18:51:14.781890",
     "exception": false,
     "start_time": "2025-08-19T18:51:14.759978",
     "status": "completed"
    },
    "tags": []
   },
   "outputs": [],
   "source": [
    "if len(excluded_features_columns) > 0:\n",
    "    print(f\"Dropping features: {excluded_features_columns}\")\n",
    "    X_train.drop(excluded_features_columns, axis=1, inplace=True)"
   ]
  },
  {
   "cell_type": "code",
   "execution_count": 25,
   "id": "d029e3e9",
   "metadata": {
    "execution": {
     "iopub.execute_input": "2025-08-19T18:51:14.806776Z",
     "iopub.status.busy": "2025-08-19T18:51:14.805634Z",
     "iopub.status.idle": "2025-08-19T18:51:14.813892Z",
     "shell.execute_reply": "2025-08-19T18:51:14.812585Z"
    },
    "papermill": {
     "duration": 0.021678,
     "end_time": "2025-08-19T18:51:14.815531",
     "exception": false,
     "start_time": "2025-08-19T18:51:14.793853",
     "status": "completed"
    },
    "tags": []
   },
   "outputs": [],
   "source": [
    "if len(excluded_features_columns) > 0:\n",
    "    print(f\"Dropping features: {excluded_features_columns}\")\n",
    "    X_test.drop(excluded_features_columns, axis=1, inplace=True)"
   ]
  },
  {
   "cell_type": "code",
   "execution_count": 26,
   "id": "01d571f0",
   "metadata": {
    "execution": {
     "iopub.execute_input": "2025-08-19T18:51:14.840704Z",
     "iopub.status.busy": "2025-08-19T18:51:14.839491Z",
     "iopub.status.idle": "2025-08-19T18:51:14.960614Z",
     "shell.execute_reply": "2025-08-19T18:51:14.959216Z"
    },
    "papermill": {
     "duration": 0.136856,
     "end_time": "2025-08-19T18:51:14.964208",
     "exception": false,
     "start_time": "2025-08-19T18:51:14.827352",
     "status": "completed"
    },
    "tags": []
   },
   "outputs": [],
   "source": [
    "if len(excluded_features_columns) > 0:\n",
    "    print(f\"Dropping features: {excluded_features_columns}\")\n",
    "    X_calib.drop(excluded_features_columns, axis=1, inplace=True)"
   ]
  },
  {
   "cell_type": "code",
   "execution_count": 27,
   "id": "3037356e",
   "metadata": {
    "execution": {
     "iopub.execute_input": "2025-08-19T18:51:15.004333Z",
     "iopub.status.busy": "2025-08-19T18:51:15.003082Z",
     "iopub.status.idle": "2025-08-19T18:51:15.011297Z",
     "shell.execute_reply": "2025-08-19T18:51:15.009839Z"
    },
    "papermill": {
     "duration": 0.02321,
     "end_time": "2025-08-19T18:51:15.013083",
     "exception": false,
     "start_time": "2025-08-19T18:51:14.989873",
     "status": "completed"
    },
    "tags": []
   },
   "outputs": [],
   "source": [
    "# EXCLUDE CERTAIN SUBGROUPS\n",
    "# -------------------------\n",
    "\n",
    "mode = universe.get(\"exclude_subgroups\", \"keep-all\") # Defaults to \"keep-all\" if the key is missing."
   ]
  },
  {
   "cell_type": "code",
   "execution_count": 28,
   "id": "9d1e63fd",
   "metadata": {
    "execution": {
     "iopub.execute_input": "2025-08-19T18:51:15.044248Z",
     "iopub.status.busy": "2025-08-19T18:51:15.043083Z",
     "iopub.status.idle": "2025-08-19T18:51:15.054278Z",
     "shell.execute_reply": "2025-08-19T18:51:15.053310Z"
    },
    "papermill": {
     "duration": 0.030111,
     "end_time": "2025-08-19T18:51:15.057626",
     "exception": false,
     "start_time": "2025-08-19T18:51:15.027515",
     "status": "completed"
    },
    "tags": []
   },
   "outputs": [],
   "source": [
    "if mode == \"keep-all\":\n",
    "    keep_mask = pd.Series(True, index=org_train.index)\n",
    "\n",
    "elif mode == \"drop-non-german\":\n",
    "    keep_mask = (org_train[\"maxdeutsch1\"] == 1) & (org_train[\"maxdeutsch.Missing.\"] == 0)\n",
    "\n",
    "else:\n",
    "    raise ValueError(f\"Unsupported mode for exclude_subgroups: {mode}\")"
   ]
  },
  {
   "cell_type": "code",
   "execution_count": 29,
   "id": "d3b65474",
   "metadata": {
    "execution": {
     "iopub.execute_input": "2025-08-19T18:51:15.084729Z",
     "iopub.status.busy": "2025-08-19T18:51:15.084159Z",
     "iopub.status.idle": "2025-08-19T18:51:15.090871Z",
     "shell.execute_reply": "2025-08-19T18:51:15.090043Z"
    },
    "papermill": {
     "duration": 0.019623,
     "end_time": "2025-08-19T18:51:15.092304",
     "exception": false,
     "start_time": "2025-08-19T18:51:15.072681",
     "status": "completed"
    },
    "tags": []
   },
   "outputs": [
    {
     "name": "stdout",
     "output_type": "stream",
     "text": [
      "Dropping 147 rows (14.70%) where mode='drop-non-german'\n"
     ]
    }
   ],
   "source": [
    "n_drop = (~keep_mask).sum() # Calculates how many rows are set to be dropped\n",
    "if n_drop > 0:\n",
    "    pct = n_drop / len(keep_mask) * 100\n",
    "    print(f\"Dropping {n_drop} rows ({pct:.2f}%) where mode='{mode}'\")"
   ]
  },
  {
   "cell_type": "code",
   "execution_count": 30,
   "id": "f44389b3",
   "metadata": {
    "execution": {
     "iopub.execute_input": "2025-08-19T18:51:15.127532Z",
     "iopub.status.busy": "2025-08-19T18:51:15.126114Z",
     "iopub.status.idle": "2025-08-19T18:51:15.139344Z",
     "shell.execute_reply": "2025-08-19T18:51:15.138175Z"
    },
    "papermill": {
     "duration": 0.028647,
     "end_time": "2025-08-19T18:51:15.140863",
     "exception": false,
     "start_time": "2025-08-19T18:51:15.112216",
     "status": "completed"
    },
    "tags": []
   },
   "outputs": [],
   "source": [
    "X_train = X_train[keep_mask]"
   ]
  },
  {
   "cell_type": "code",
   "execution_count": 31,
   "id": "ceca8c2a",
   "metadata": {
    "execution": {
     "iopub.execute_input": "2025-08-19T18:51:15.165468Z",
     "iopub.status.busy": "2025-08-19T18:51:15.164117Z",
     "iopub.status.idle": "2025-08-19T18:51:15.172570Z",
     "shell.execute_reply": "2025-08-19T18:51:15.171279Z"
    },
    "papermill": {
     "duration": 0.022418,
     "end_time": "2025-08-19T18:51:15.174099",
     "exception": false,
     "start_time": "2025-08-19T18:51:15.151681",
     "status": "completed"
    },
    "tags": []
   },
   "outputs": [],
   "source": [
    "y_train = y_train[keep_mask]"
   ]
  },
  {
   "cell_type": "markdown",
   "id": "04d31e2f",
   "metadata": {
    "papermill": {
     "duration": 0.010872,
     "end_time": "2025-08-19T18:51:15.197984",
     "exception": false,
     "start_time": "2025-08-19T18:51:15.187112",
     "status": "completed"
    },
    "tags": []
   },
   "source": [
    "# Model Training"
   ]
  },
  {
   "cell_type": "code",
   "execution_count": 32,
   "id": "db991733",
   "metadata": {
    "execution": {
     "iopub.execute_input": "2025-08-19T18:51:15.221586Z",
     "iopub.status.busy": "2025-08-19T18:51:15.220732Z",
     "iopub.status.idle": "2025-08-19T18:51:15.333776Z",
     "shell.execute_reply": "2025-08-19T18:51:15.332792Z"
    },
    "papermill": {
     "duration": 0.126972,
     "end_time": "2025-08-19T18:51:15.335637",
     "exception": false,
     "start_time": "2025-08-19T18:51:15.208665",
     "status": "completed"
    },
    "tags": []
   },
   "outputs": [],
   "source": [
    "from sklearn.linear_model import LogisticRegression\n",
    "from sklearn.ensemble import GradientBoostingClassifier, RandomForestClassifier\n",
    "\n",
    "if (universe[\"model\"] == \"logreg\"):\n",
    "    model = LogisticRegression() #penalty=\"none\", solver=\"newton-cg\", max_iter=1)\n",
    "elif (universe[\"model\"] == \"penalized_logreg\"):\n",
    "    model = LogisticRegression(penalty=\"l2\", C=0.1) #, solver=\"newton-cg\", max_iter=1)\n",
    "elif (universe[\"model\"] == \"rf\"):\n",
    "    model = RandomForestClassifier() # n_estimators=100, n_jobs=-1\n",
    "elif (universe[\"model\"] == \"gbm\"):\n",
    "    model = GradientBoostingClassifier()\n",
    "elif (universe[\"model\"] == \"elasticnet\"):\n",
    "    model = LogisticRegression(penalty = 'elasticnet', solver = 'saga', l1_ratio = 0.5) # max_iter=5000\n",
    "else:\n",
    "    raise \"Unsupported universe.model\""
   ]
  },
  {
   "cell_type": "code",
   "execution_count": 33,
   "id": "a4b5cd25",
   "metadata": {
    "execution": {
     "iopub.execute_input": "2025-08-19T18:51:15.362119Z",
     "iopub.status.busy": "2025-08-19T18:51:15.360965Z",
     "iopub.status.idle": "2025-08-19T18:51:15.369824Z",
     "shell.execute_reply": "2025-08-19T18:51:15.368738Z"
    },
    "papermill": {
     "duration": 0.02459,
     "end_time": "2025-08-19T18:51:15.373017",
     "exception": false,
     "start_time": "2025-08-19T18:51:15.348427",
     "status": "completed"
    },
    "tags": []
   },
   "outputs": [],
   "source": [
    "from sklearn.pipeline import Pipeline\n",
    "from sklearn.preprocessing import StandardScaler\n",
    "\n",
    "model = Pipeline([\n",
    "    #(\"continuous_processor\", continuous_processor),\n",
    "    #(\"categorical_preprocessor\", categorical_preprocessor),\n",
    "    (\"scale\", StandardScaler() if universe[\"scale\"] == \"scale\" else None), \n",
    "    (\"model\", model),\n",
    "])"
   ]
  },
  {
   "cell_type": "code",
   "execution_count": 34,
   "id": "283a904d",
   "metadata": {
    "execution": {
     "iopub.execute_input": "2025-08-19T18:51:15.396793Z",
     "iopub.status.busy": "2025-08-19T18:51:15.396130Z",
     "iopub.status.idle": "2025-08-19T18:51:16.292818Z",
     "shell.execute_reply": "2025-08-19T18:51:16.291599Z"
    },
    "papermill": {
     "duration": 0.909955,
     "end_time": "2025-08-19T18:51:16.294332",
     "exception": false,
     "start_time": "2025-08-19T18:51:15.384377",
     "status": "completed"
    },
    "tags": []
   },
   "outputs": [
    {
     "data": {
      "text/html": [
       "<style>#sk-container-id-1 {color: black;background-color: white;}#sk-container-id-1 pre{padding: 0;}#sk-container-id-1 div.sk-toggleable {background-color: white;}#sk-container-id-1 label.sk-toggleable__label {cursor: pointer;display: block;width: 100%;margin-bottom: 0;padding: 0.3em;box-sizing: border-box;text-align: center;}#sk-container-id-1 label.sk-toggleable__label-arrow:before {content: \"▸\";float: left;margin-right: 0.25em;color: #696969;}#sk-container-id-1 label.sk-toggleable__label-arrow:hover:before {color: black;}#sk-container-id-1 div.sk-estimator:hover label.sk-toggleable__label-arrow:before {color: black;}#sk-container-id-1 div.sk-toggleable__content {max-height: 0;max-width: 0;overflow: hidden;text-align: left;background-color: #f0f8ff;}#sk-container-id-1 div.sk-toggleable__content pre {margin: 0.2em;color: black;border-radius: 0.25em;background-color: #f0f8ff;}#sk-container-id-1 input.sk-toggleable__control:checked~div.sk-toggleable__content {max-height: 200px;max-width: 100%;overflow: auto;}#sk-container-id-1 input.sk-toggleable__control:checked~label.sk-toggleable__label-arrow:before {content: \"▾\";}#sk-container-id-1 div.sk-estimator input.sk-toggleable__control:checked~label.sk-toggleable__label {background-color: #d4ebff;}#sk-container-id-1 div.sk-label input.sk-toggleable__control:checked~label.sk-toggleable__label {background-color: #d4ebff;}#sk-container-id-1 input.sk-hidden--visually {border: 0;clip: rect(1px 1px 1px 1px);clip: rect(1px, 1px, 1px, 1px);height: 1px;margin: -1px;overflow: hidden;padding: 0;position: absolute;width: 1px;}#sk-container-id-1 div.sk-estimator {font-family: monospace;background-color: #f0f8ff;border: 1px dotted black;border-radius: 0.25em;box-sizing: border-box;margin-bottom: 0.5em;}#sk-container-id-1 div.sk-estimator:hover {background-color: #d4ebff;}#sk-container-id-1 div.sk-parallel-item::after {content: \"\";width: 100%;border-bottom: 1px solid gray;flex-grow: 1;}#sk-container-id-1 div.sk-label:hover label.sk-toggleable__label {background-color: #d4ebff;}#sk-container-id-1 div.sk-serial::before {content: \"\";position: absolute;border-left: 1px solid gray;box-sizing: border-box;top: 0;bottom: 0;left: 50%;z-index: 0;}#sk-container-id-1 div.sk-serial {display: flex;flex-direction: column;align-items: center;background-color: white;padding-right: 0.2em;padding-left: 0.2em;position: relative;}#sk-container-id-1 div.sk-item {position: relative;z-index: 1;}#sk-container-id-1 div.sk-parallel {display: flex;align-items: stretch;justify-content: center;background-color: white;position: relative;}#sk-container-id-1 div.sk-item::before, #sk-container-id-1 div.sk-parallel-item::before {content: \"\";position: absolute;border-left: 1px solid gray;box-sizing: border-box;top: 0;bottom: 0;left: 50%;z-index: -1;}#sk-container-id-1 div.sk-parallel-item {display: flex;flex-direction: column;z-index: 1;position: relative;background-color: white;}#sk-container-id-1 div.sk-parallel-item:first-child::after {align-self: flex-end;width: 50%;}#sk-container-id-1 div.sk-parallel-item:last-child::after {align-self: flex-start;width: 50%;}#sk-container-id-1 div.sk-parallel-item:only-child::after {width: 0;}#sk-container-id-1 div.sk-dashed-wrapped {border: 1px dashed gray;margin: 0 0.4em 0.5em 0.4em;box-sizing: border-box;padding-bottom: 0.4em;background-color: white;}#sk-container-id-1 div.sk-label label {font-family: monospace;font-weight: bold;display: inline-block;line-height: 1.2em;}#sk-container-id-1 div.sk-label-container {text-align: center;}#sk-container-id-1 div.sk-container {/* jupyter's `normalize.less` sets `[hidden] { display: none; }` but bootstrap.min.css set `[hidden] { display: none !important; }` so we also need the `!important` here to be able to override the default hidden behavior on the sphinx rendered scikit-learn.org. See: https://github.com/scikit-learn/scikit-learn/issues/21755 */display: inline-block !important;position: relative;}#sk-container-id-1 div.sk-text-repr-fallback {display: none;}</style><div id=\"sk-container-id-1\" class=\"sk-top-container\"><div class=\"sk-text-repr-fallback\"><pre>Pipeline(steps=[(&#x27;scale&#x27;, StandardScaler()),\n",
       "                (&#x27;model&#x27;, GradientBoostingClassifier())])</pre><b>In a Jupyter environment, please rerun this cell to show the HTML representation or trust the notebook. <br />On GitHub, the HTML representation is unable to render, please try loading this page with nbviewer.org.</b></div><div class=\"sk-container\" hidden><div class=\"sk-item sk-dashed-wrapped\"><div class=\"sk-label-container\"><div class=\"sk-label sk-toggleable\"><input class=\"sk-toggleable__control sk-hidden--visually\" id=\"sk-estimator-id-1\" type=\"checkbox\" ><label for=\"sk-estimator-id-1\" class=\"sk-toggleable__label sk-toggleable__label-arrow\">Pipeline</label><div class=\"sk-toggleable__content\"><pre>Pipeline(steps=[(&#x27;scale&#x27;, StandardScaler()),\n",
       "                (&#x27;model&#x27;, GradientBoostingClassifier())])</pre></div></div></div><div class=\"sk-serial\"><div class=\"sk-item\"><div class=\"sk-estimator sk-toggleable\"><input class=\"sk-toggleable__control sk-hidden--visually\" id=\"sk-estimator-id-2\" type=\"checkbox\" ><label for=\"sk-estimator-id-2\" class=\"sk-toggleable__label sk-toggleable__label-arrow\">StandardScaler</label><div class=\"sk-toggleable__content\"><pre>StandardScaler()</pre></div></div></div><div class=\"sk-item\"><div class=\"sk-estimator sk-toggleable\"><input class=\"sk-toggleable__control sk-hidden--visually\" id=\"sk-estimator-id-3\" type=\"checkbox\" ><label for=\"sk-estimator-id-3\" class=\"sk-toggleable__label sk-toggleable__label-arrow\">GradientBoostingClassifier</label><div class=\"sk-toggleable__content\"><pre>GradientBoostingClassifier()</pre></div></div></div></div></div></div></div>"
      ],
      "text/plain": [
       "Pipeline(steps=[('scale', StandardScaler()),\n",
       "                ('model', GradientBoostingClassifier())])"
      ]
     },
     "execution_count": 34,
     "metadata": {},
     "output_type": "execute_result"
    }
   ],
   "source": [
    "model.fit(X_train, y_train.values.ravel())"
   ]
  },
  {
   "cell_type": "code",
   "execution_count": 35,
   "id": "6e15e313",
   "metadata": {
    "execution": {
     "iopub.execute_input": "2025-08-19T18:51:16.333510Z",
     "iopub.status.busy": "2025-08-19T18:51:16.332859Z",
     "iopub.status.idle": "2025-08-19T18:51:17.016800Z",
     "shell.execute_reply": "2025-08-19T18:51:17.015769Z"
    },
    "papermill": {
     "duration": 0.701277,
     "end_time": "2025-08-19T18:51:17.018270",
     "exception": false,
     "start_time": "2025-08-19T18:51:16.316993",
     "status": "completed"
    },
    "tags": []
   },
   "outputs": [
    {
     "data": {
      "text/plain": [
       "0.8482443428826217"
      ]
     },
     "execution_count": 35,
     "metadata": {},
     "output_type": "execute_result"
    }
   ],
   "source": [
    "from fairness_multiverse.universe import predict_w_threshold\n",
    "\n",
    "probs_test = model.predict_proba(X_test)\n",
    "\n",
    "'''\n",
    "Below code returns a boolean array (or binary 0/1 array depending on how it’s used) where each element \n",
    "is True if the probability of class 1 is greater than or equal to the threshold, and False otherwise.\n",
    "'''\n",
    "y_pred_default = predict_w_threshold(probs_test, 0.5)\n",
    "\n",
    "from sklearn.metrics import accuracy_score\n",
    "\n",
    "# Naive prediction\n",
    "accuracy_score(y_true = y_true, y_pred = y_pred_default)"
   ]
  },
  {
   "cell_type": "code",
   "execution_count": 36,
   "id": "6f14067c",
   "metadata": {
    "execution": {
     "iopub.execute_input": "2025-08-19T18:51:17.043133Z",
     "iopub.status.busy": "2025-08-19T18:51:17.042031Z",
     "iopub.status.idle": "2025-08-19T18:51:17.662883Z",
     "shell.execute_reply": "2025-08-19T18:51:17.659834Z"
    },
    "papermill": {
     "duration": 0.635113,
     "end_time": "2025-08-19T18:51:17.664867",
     "exception": false,
     "start_time": "2025-08-19T18:51:17.029754",
     "status": "completed"
    },
    "tags": []
   },
   "outputs": [
    {
     "data": {
      "text/plain": [
       "array([0, 0, 0, ..., 0, 0, 0])"
      ]
     },
     "execution_count": 36,
     "metadata": {},
     "output_type": "execute_result"
    }
   ],
   "source": [
    "model.predict(X_test)"
   ]
  },
  {
   "cell_type": "markdown",
   "id": "3759920c",
   "metadata": {
    "papermill": {
     "duration": 0.010921,
     "end_time": "2025-08-19T18:51:17.688891",
     "exception": false,
     "start_time": "2025-08-19T18:51:17.677970",
     "status": "completed"
    },
    "tags": []
   },
   "source": [
    "# Conformal Prediction"
   ]
  },
  {
   "cell_type": "code",
   "execution_count": 37,
   "id": "14b27f59",
   "metadata": {
    "execution": {
     "iopub.execute_input": "2025-08-19T18:51:17.715501Z",
     "iopub.status.busy": "2025-08-19T18:51:17.713569Z",
     "iopub.status.idle": "2025-08-19T18:51:17.729844Z",
     "shell.execute_reply": "2025-08-19T18:51:17.728711Z"
    },
    "papermill": {
     "duration": 0.032067,
     "end_time": "2025-08-19T18:51:17.731663",
     "exception": false,
     "start_time": "2025-08-19T18:51:17.699596",
     "status": "completed"
    },
    "tags": []
   },
   "outputs": [],
   "source": [
    "# Miscoverage level for conformal prediction (10% allowed error rate => 90% target coverage)\n",
    "alpha = 0.1"
   ]
  },
  {
   "cell_type": "code",
   "execution_count": 38,
   "id": "59102472",
   "metadata": {
    "execution": {
     "iopub.execute_input": "2025-08-19T18:51:17.762669Z",
     "iopub.status.busy": "2025-08-19T18:51:17.761445Z",
     "iopub.status.idle": "2025-08-19T18:51:18.341021Z",
     "shell.execute_reply": "2025-08-19T18:51:18.340110Z"
    },
    "papermill": {
     "duration": 0.594011,
     "end_time": "2025-08-19T18:51:18.342468",
     "exception": false,
     "start_time": "2025-08-19T18:51:17.748457",
     "status": "completed"
    },
    "tags": []
   },
   "outputs": [],
   "source": [
    "probs_calib = model.predict_proba(X_calib)"
   ]
  },
  {
   "cell_type": "code",
   "execution_count": 39,
   "id": "a792d4dd",
   "metadata": {
    "execution": {
     "iopub.execute_input": "2025-08-19T18:51:18.367526Z",
     "iopub.status.busy": "2025-08-19T18:51:18.366742Z",
     "iopub.status.idle": "2025-08-19T18:51:18.374128Z",
     "shell.execute_reply": "2025-08-19T18:51:18.373169Z"
    },
    "papermill": {
     "duration": 0.02121,
     "end_time": "2025-08-19T18:51:18.375361",
     "exception": false,
     "start_time": "2025-08-19T18:51:18.354151",
     "status": "completed"
    },
    "tags": []
   },
   "outputs": [],
   "source": [
    "y_calib = y_calib.values.ravel().astype(int)"
   ]
  },
  {
   "cell_type": "code",
   "execution_count": 40,
   "id": "650fd033",
   "metadata": {
    "execution": {
     "iopub.execute_input": "2025-08-19T18:51:18.403861Z",
     "iopub.status.busy": "2025-08-19T18:51:18.402672Z",
     "iopub.status.idle": "2025-08-19T18:51:18.416238Z",
     "shell.execute_reply": "2025-08-19T18:51:18.414809Z"
    },
    "papermill": {
     "duration": 0.027823,
     "end_time": "2025-08-19T18:51:18.417818",
     "exception": false,
     "start_time": "2025-08-19T18:51:18.389995",
     "status": "completed"
    },
    "tags": []
   },
   "outputs": [],
   "source": [
    "from fairness_multiverse.conformal import compute_nc_scores\n",
    "\n",
    "# Compute nonconformity scores on calibration set (1 - probability of true class)\n",
    "nc_scores = compute_nc_scores(probs_calib, y_calib)"
   ]
  },
  {
   "cell_type": "code",
   "execution_count": 41,
   "id": "28ada44c",
   "metadata": {
    "execution": {
     "iopub.execute_input": "2025-08-19T18:51:18.445831Z",
     "iopub.status.busy": "2025-08-19T18:51:18.444881Z",
     "iopub.status.idle": "2025-08-19T18:51:18.456439Z",
     "shell.execute_reply": "2025-08-19T18:51:18.454934Z"
    },
    "papermill": {
     "duration": 0.025919,
     "end_time": "2025-08-19T18:51:18.457965",
     "exception": false,
     "start_time": "2025-08-19T18:51:18.432046",
     "status": "completed"
    },
    "tags": []
   },
   "outputs": [],
   "source": [
    "from fairness_multiverse.conformal import find_threshold\n",
    "\n",
    "# Find conformal threshold q_hat for the given alpha (split conformal method)\n",
    "q_hat = find_threshold(nc_scores, alpha)"
   ]
  },
  {
   "cell_type": "code",
   "execution_count": 42,
   "id": "df56469e",
   "metadata": {
    "execution": {
     "iopub.execute_input": "2025-08-19T18:51:18.486114Z",
     "iopub.status.busy": "2025-08-19T18:51:18.485157Z",
     "iopub.status.idle": "2025-08-19T18:51:18.497212Z",
     "shell.execute_reply": "2025-08-19T18:51:18.495708Z"
    },
    "papermill": {
     "duration": 0.026597,
     "end_time": "2025-08-19T18:51:18.498659",
     "exception": false,
     "start_time": "2025-08-19T18:51:18.472062",
     "status": "completed"
    },
    "tags": []
   },
   "outputs": [
    {
     "data": {
      "text/plain": [
       "0.7581141932575634"
      ]
     },
     "execution_count": 42,
     "metadata": {},
     "output_type": "execute_result"
    }
   ],
   "source": [
    "q_hat"
   ]
  },
  {
   "cell_type": "code",
   "execution_count": 43,
   "id": "aa1f5faa",
   "metadata": {
    "execution": {
     "iopub.execute_input": "2025-08-19T18:51:18.526369Z",
     "iopub.status.busy": "2025-08-19T18:51:18.525426Z",
     "iopub.status.idle": "2025-08-19T18:51:19.600025Z",
     "shell.execute_reply": "2025-08-19T18:51:19.599191Z"
    },
    "papermill": {
     "duration": 1.088723,
     "end_time": "2025-08-19T18:51:19.601416",
     "exception": false,
     "start_time": "2025-08-19T18:51:18.512693",
     "status": "completed"
    },
    "tags": []
   },
   "outputs": [],
   "source": [
    "from fairness_multiverse.conformal import predict_conformal_sets\n",
    "\n",
    "# Generate prediction sets for each test example\n",
    "pred_sets = predict_conformal_sets(model, X_test, q_hat)"
   ]
  },
  {
   "cell_type": "code",
   "execution_count": 44,
   "id": "97f67a6b",
   "metadata": {
    "execution": {
     "iopub.execute_input": "2025-08-19T18:51:19.638233Z",
     "iopub.status.busy": "2025-08-19T18:51:19.637489Z",
     "iopub.status.idle": "2025-08-19T18:51:19.643293Z",
     "shell.execute_reply": "2025-08-19T18:51:19.642600Z"
    },
    "papermill": {
     "duration": 0.03162,
     "end_time": "2025-08-19T18:51:19.644964",
     "exception": false,
     "start_time": "2025-08-19T18:51:19.613344",
     "status": "completed"
    },
    "tags": []
   },
   "outputs": [],
   "source": [
    "y_true = y_true.squeeze()"
   ]
  },
  {
   "cell_type": "code",
   "execution_count": 45,
   "id": "e700e9a7",
   "metadata": {
    "execution": {
     "iopub.execute_input": "2025-08-19T18:51:19.671785Z",
     "iopub.status.busy": "2025-08-19T18:51:19.670519Z",
     "iopub.status.idle": "2025-08-19T18:51:20.169903Z",
     "shell.execute_reply": "2025-08-19T18:51:20.168844Z"
    },
    "papermill": {
     "duration": 0.514397,
     "end_time": "2025-08-19T18:51:20.172696",
     "exception": false,
     "start_time": "2025-08-19T18:51:19.658299",
     "status": "completed"
    },
    "tags": []
   },
   "outputs": [],
   "source": [
    "from fairness_multiverse.conformal import evaluate_sets\n",
    "\n",
    "# Evaluate coverage and average set size on test data\n",
    "metrics = evaluate_sets(pred_sets, y_true)"
   ]
  },
  {
   "cell_type": "markdown",
   "id": "efbacec0",
   "metadata": {
    "papermill": {
     "duration": 0.012848,
     "end_time": "2025-08-19T18:51:20.211386",
     "exception": false,
     "start_time": "2025-08-19T18:51:20.198538",
     "status": "completed"
    },
    "tags": []
   },
   "source": [
    "# CP Metrics"
   ]
  },
  {
   "cell_type": "code",
   "execution_count": 46,
   "id": "9de55fb1",
   "metadata": {
    "execution": {
     "iopub.execute_input": "2025-08-19T18:51:20.236895Z",
     "iopub.status.busy": "2025-08-19T18:51:20.235451Z",
     "iopub.status.idle": "2025-08-19T18:51:20.248834Z",
     "shell.execute_reply": "2025-08-19T18:51:20.247631Z"
    },
    "papermill": {
     "duration": 0.028036,
     "end_time": "2025-08-19T18:51:20.250426",
     "exception": false,
     "start_time": "2025-08-19T18:51:20.222390",
     "status": "completed"
    },
    "tags": []
   },
   "outputs": [
    {
     "data": {
      "text/plain": [
       "{'coverage': 0.909263181362167, 'avg_size': 1.1591684316129751}"
      ]
     },
     "execution_count": 46,
     "metadata": {},
     "output_type": "execute_result"
    }
   ],
   "source": [
    "metrics"
   ]
  },
  {
   "cell_type": "code",
   "execution_count": 47,
   "id": "64c340a1",
   "metadata": {
    "execution": {
     "iopub.execute_input": "2025-08-19T18:51:20.279881Z",
     "iopub.status.busy": "2025-08-19T18:51:20.278916Z",
     "iopub.status.idle": "2025-08-19T18:51:20.290637Z",
     "shell.execute_reply": "2025-08-19T18:51:20.288541Z"
    },
    "papermill": {
     "duration": 0.038068,
     "end_time": "2025-08-19T18:51:20.304333",
     "exception": false,
     "start_time": "2025-08-19T18:51:20.266265",
     "status": "completed"
    },
    "tags": []
   },
   "outputs": [],
   "source": [
    "example_universe = universe.copy()\n",
    "universe_training_year = example_universe.get(\"training_year\")\n",
    "universe_training_size = example_universe.get(\"training_size\")\n",
    "universe_scale = example_universe.get(\"scale\")\n",
    "universe_model = example_universe.get(\"model\")\n",
    "universe_exclude_features = example_universe.get(\"exclude_features\")\n",
    "universe_exclude_subgroups = example_universe.get(\"exclude_subgroups\")"
   ]
  },
  {
   "cell_type": "code",
   "execution_count": 48,
   "id": "dbb53cb4",
   "metadata": {
    "execution": {
     "iopub.execute_input": "2025-08-19T18:51:20.329861Z",
     "iopub.status.busy": "2025-08-19T18:51:20.328977Z",
     "iopub.status.idle": "2025-08-19T18:51:20.337844Z",
     "shell.execute_reply": "2025-08-19T18:51:20.336848Z"
    },
    "papermill": {
     "duration": 0.023383,
     "end_time": "2025-08-19T18:51:20.339309",
     "exception": false,
     "start_time": "2025-08-19T18:51:20.315926",
     "status": "completed"
    },
    "tags": []
   },
   "outputs": [],
   "source": [
    "cp_metrics_dict = {\n",
    "    \"universe_id\": [universe_id],\n",
    "    \"universe_training_year\": [universe_training_year],\n",
    "    \"universe_training_size\": [universe_training_size],\n",
    "    \"universe_scale\": [universe_scale],\n",
    "    \"universe_model\": [universe_model],\n",
    "    \"universe_exclude_features\": [universe_exclude_features],\n",
    "    \"universe_exclude_subgroups\": [universe_exclude_subgroups],\n",
    "    \"q_hat\": [q_hat],\n",
    "    \"coverage\": [metrics[\"coverage\"]],\n",
    "    \"avg_size\": [metrics[\"avg_size\"]],\n",
    "}"
   ]
  },
  {
   "cell_type": "code",
   "execution_count": 49,
   "id": "0d70d4b2",
   "metadata": {
    "execution": {
     "iopub.execute_input": "2025-08-19T18:51:20.365951Z",
     "iopub.status.busy": "2025-08-19T18:51:20.365606Z",
     "iopub.status.idle": "2025-08-19T18:51:20.371025Z",
     "shell.execute_reply": "2025-08-19T18:51:20.370369Z"
    },
    "papermill": {
     "duration": 0.019022,
     "end_time": "2025-08-19T18:51:20.372200",
     "exception": false,
     "start_time": "2025-08-19T18:51:20.353178",
     "status": "completed"
    },
    "tags": []
   },
   "outputs": [],
   "source": [
    "cp_metrics_df = pd.DataFrame(cp_metrics_dict)"
   ]
  },
  {
   "cell_type": "code",
   "execution_count": 50,
   "id": "b494403c",
   "metadata": {
    "execution": {
     "iopub.execute_input": "2025-08-19T18:51:20.400635Z",
     "iopub.status.busy": "2025-08-19T18:51:20.400337Z",
     "iopub.status.idle": "2025-08-19T18:51:20.414693Z",
     "shell.execute_reply": "2025-08-19T18:51:20.413390Z"
    },
    "papermill": {
     "duration": 0.032069,
     "end_time": "2025-08-19T18:51:20.416138",
     "exception": false,
     "start_time": "2025-08-19T18:51:20.384069",
     "status": "completed"
    },
    "tags": []
   },
   "outputs": [
    {
     "data": {
      "text/html": [
       "<div>\n",
       "<style scoped>\n",
       "    .dataframe tbody tr th:only-of-type {\n",
       "        vertical-align: middle;\n",
       "    }\n",
       "\n",
       "    .dataframe tbody tr th {\n",
       "        vertical-align: top;\n",
       "    }\n",
       "\n",
       "    .dataframe thead th {\n",
       "        text-align: right;\n",
       "    }\n",
       "</style>\n",
       "<table border=\"1\" class=\"dataframe\">\n",
       "  <thead>\n",
       "    <tr style=\"text-align: right;\">\n",
       "      <th></th>\n",
       "      <th>universe_id</th>\n",
       "      <th>universe_training_year</th>\n",
       "      <th>universe_training_size</th>\n",
       "      <th>universe_scale</th>\n",
       "      <th>universe_model</th>\n",
       "      <th>universe_exclude_features</th>\n",
       "      <th>universe_exclude_subgroups</th>\n",
       "      <th>q_hat</th>\n",
       "      <th>coverage</th>\n",
       "      <th>avg_size</th>\n",
       "    </tr>\n",
       "  </thead>\n",
       "  <tbody>\n",
       "    <tr>\n",
       "      <th>0</th>\n",
       "      <td>68084ed931fa51aa4436dfa868b8e460</td>\n",
       "      <td>2014</td>\n",
       "      <td>1k</td>\n",
       "      <td>scale</td>\n",
       "      <td>gbm</td>\n",
       "      <td>none</td>\n",
       "      <td>drop-non-german</td>\n",
       "      <td>0.758114</td>\n",
       "      <td>0.909263</td>\n",
       "      <td>1.159168</td>\n",
       "    </tr>\n",
       "  </tbody>\n",
       "</table>\n",
       "</div>"
      ],
      "text/plain": [
       "                        universe_id universe_training_year  \\\n",
       "0  68084ed931fa51aa4436dfa868b8e460                   2014   \n",
       "\n",
       "  universe_training_size universe_scale universe_model  \\\n",
       "0                     1k          scale            gbm   \n",
       "\n",
       "  universe_exclude_features universe_exclude_subgroups     q_hat  coverage  \\\n",
       "0                      none            drop-non-german  0.758114  0.909263   \n",
       "\n",
       "   avg_size  \n",
       "0  1.159168  "
      ]
     },
     "execution_count": 50,
     "metadata": {},
     "output_type": "execute_result"
    }
   ],
   "source": [
    "cp_metrics_df"
   ]
  },
  {
   "cell_type": "markdown",
   "id": "ed608b0b",
   "metadata": {
    "papermill": {
     "duration": 0.011661,
     "end_time": "2025-08-19T18:51:20.444359",
     "exception": false,
     "start_time": "2025-08-19T18:51:20.432698",
     "status": "completed"
    },
    "tags": []
   },
   "source": [
    "Conditional coverage & looking at subgroups"
   ]
  },
  {
   "cell_type": "code",
   "execution_count": 51,
   "id": "8968c366",
   "metadata": {
    "execution": {
     "iopub.execute_input": "2025-08-19T18:51:20.469256Z",
     "iopub.status.busy": "2025-08-19T18:51:20.468847Z",
     "iopub.status.idle": "2025-08-19T18:51:20.758643Z",
     "shell.execute_reply": "2025-08-19T18:51:20.757838Z"
    },
    "papermill": {
     "duration": 0.305156,
     "end_time": "2025-08-19T18:51:20.761586",
     "exception": false,
     "start_time": "2025-08-19T18:51:20.456430",
     "status": "completed"
    },
    "tags": []
   },
   "outputs": [],
   "source": [
    "from fairness_multiverse.conformal import build_cp_groups\n",
    "\n",
    "cp_groups_df = build_cp_groups(pred_sets, y_true, X_test.index, org_test)"
   ]
  },
  {
   "cell_type": "code",
   "execution_count": 52,
   "id": "292ddabf",
   "metadata": {
    "execution": {
     "iopub.execute_input": "2025-08-19T18:51:20.802534Z",
     "iopub.status.busy": "2025-08-19T18:51:20.801459Z",
     "iopub.status.idle": "2025-08-19T18:51:21.690479Z",
     "shell.execute_reply": "2025-08-19T18:51:21.689333Z"
    },
    "papermill": {
     "duration": 0.905176,
     "end_time": "2025-08-19T18:51:21.692157",
     "exception": false,
     "start_time": "2025-08-19T18:51:20.786981",
     "status": "completed"
    },
    "tags": []
   },
   "outputs": [],
   "source": [
    "# Define covered = 1 if true_label is in the predicted set\n",
    "cp_groups_df['covered'] = cp_groups_df.apply(\n",
    "    lambda r: int(r['true_label'] in r['pred_set']),\n",
    "    axis=1\n",
    ")"
   ]
  },
  {
   "cell_type": "code",
   "execution_count": 53,
   "id": "3a261692",
   "metadata": {
    "execution": {
     "iopub.execute_input": "2025-08-19T18:51:21.717971Z",
     "iopub.status.busy": "2025-08-19T18:51:21.717638Z",
     "iopub.status.idle": "2025-08-19T18:51:21.731088Z",
     "shell.execute_reply": "2025-08-19T18:51:21.729886Z"
    },
    "papermill": {
     "duration": 0.029787,
     "end_time": "2025-08-19T18:51:21.734462",
     "exception": false,
     "start_time": "2025-08-19T18:51:21.704675",
     "status": "completed"
    },
    "tags": []
   },
   "outputs": [],
   "source": [
    "subgroups = ['frau1','nongerman','nongerman_male','nongerman_female']\n",
    "\n",
    "# Conditional coverage for subgroup==1\n",
    "cond_coverage = {\n",
    "    g: cp_groups_df.loc[cp_groups_df[g]==1, 'covered'].mean()\n",
    "    for g in subgroups\n",
    "}"
   ]
  },
  {
   "cell_type": "code",
   "execution_count": 54,
   "id": "894fd600",
   "metadata": {
    "execution": {
     "iopub.execute_input": "2025-08-19T18:51:21.777410Z",
     "iopub.status.busy": "2025-08-19T18:51:21.776195Z",
     "iopub.status.idle": "2025-08-19T18:51:21.789608Z",
     "shell.execute_reply": "2025-08-19T18:51:21.787937Z"
    },
    "papermill": {
     "duration": 0.030841,
     "end_time": "2025-08-19T18:51:21.791347",
     "exception": false,
     "start_time": "2025-08-19T18:51:21.760506",
     "status": "completed"
    },
    "tags": []
   },
   "outputs": [
    {
     "data": {
      "text/plain": [
       "{'frau1': 0.907912117536056,\n",
       " 'nongerman': 0.9078201313647336,\n",
       " 'nongerman_male': 0.9237143114473566,\n",
       " 'nongerman_female': 0.8815201192250373}"
      ]
     },
     "execution_count": 54,
     "metadata": {},
     "output_type": "execute_result"
    }
   ],
   "source": [
    "cond_coverage"
   ]
  },
  {
   "cell_type": "code",
   "execution_count": 55,
   "id": "942895c7",
   "metadata": {
    "execution": {
     "iopub.execute_input": "2025-08-19T18:51:21.826015Z",
     "iopub.status.busy": "2025-08-19T18:51:21.824900Z",
     "iopub.status.idle": "2025-08-19T18:51:21.837741Z",
     "shell.execute_reply": "2025-08-19T18:51:21.836186Z"
    },
    "papermill": {
     "duration": 0.030937,
     "end_time": "2025-08-19T18:51:21.840744",
     "exception": false,
     "start_time": "2025-08-19T18:51:21.809807",
     "status": "completed"
    },
    "tags": []
   },
   "outputs": [],
   "source": [
    "for subgroup, cov in cond_coverage.items():\n",
    "    cp_metrics_df[f\"cov_{subgroup}\"] = cov"
   ]
  },
  {
   "cell_type": "code",
   "execution_count": 56,
   "id": "3970120f",
   "metadata": {
    "execution": {
     "iopub.execute_input": "2025-08-19T18:51:21.872594Z",
     "iopub.status.busy": "2025-08-19T18:51:21.872264Z",
     "iopub.status.idle": "2025-08-19T18:51:21.887189Z",
     "shell.execute_reply": "2025-08-19T18:51:21.886422Z"
    },
    "papermill": {
     "duration": 0.030027,
     "end_time": "2025-08-19T18:51:21.889040",
     "exception": false,
     "start_time": "2025-08-19T18:51:21.859013",
     "status": "completed"
    },
    "tags": []
   },
   "outputs": [
    {
     "data": {
      "text/html": [
       "<div>\n",
       "<style scoped>\n",
       "    .dataframe tbody tr th:only-of-type {\n",
       "        vertical-align: middle;\n",
       "    }\n",
       "\n",
       "    .dataframe tbody tr th {\n",
       "        vertical-align: top;\n",
       "    }\n",
       "\n",
       "    .dataframe thead th {\n",
       "        text-align: right;\n",
       "    }\n",
       "</style>\n",
       "<table border=\"1\" class=\"dataframe\">\n",
       "  <thead>\n",
       "    <tr style=\"text-align: right;\">\n",
       "      <th></th>\n",
       "      <th>universe_id</th>\n",
       "      <th>universe_training_year</th>\n",
       "      <th>universe_training_size</th>\n",
       "      <th>universe_scale</th>\n",
       "      <th>universe_model</th>\n",
       "      <th>universe_exclude_features</th>\n",
       "      <th>universe_exclude_subgroups</th>\n",
       "      <th>q_hat</th>\n",
       "      <th>coverage</th>\n",
       "      <th>avg_size</th>\n",
       "      <th>cov_frau1</th>\n",
       "      <th>cov_nongerman</th>\n",
       "      <th>cov_nongerman_male</th>\n",
       "      <th>cov_nongerman_female</th>\n",
       "    </tr>\n",
       "  </thead>\n",
       "  <tbody>\n",
       "    <tr>\n",
       "      <th>0</th>\n",
       "      <td>68084ed931fa51aa4436dfa868b8e460</td>\n",
       "      <td>2014</td>\n",
       "      <td>1k</td>\n",
       "      <td>scale</td>\n",
       "      <td>gbm</td>\n",
       "      <td>none</td>\n",
       "      <td>drop-non-german</td>\n",
       "      <td>0.758114</td>\n",
       "      <td>0.909263</td>\n",
       "      <td>1.159168</td>\n",
       "      <td>0.907912</td>\n",
       "      <td>0.90782</td>\n",
       "      <td>0.923714</td>\n",
       "      <td>0.88152</td>\n",
       "    </tr>\n",
       "  </tbody>\n",
       "</table>\n",
       "</div>"
      ],
      "text/plain": [
       "                        universe_id universe_training_year  \\\n",
       "0  68084ed931fa51aa4436dfa868b8e460                   2014   \n",
       "\n",
       "  universe_training_size universe_scale universe_model  \\\n",
       "0                     1k          scale            gbm   \n",
       "\n",
       "  universe_exclude_features universe_exclude_subgroups     q_hat  coverage  \\\n",
       "0                      none            drop-non-german  0.758114  0.909263   \n",
       "\n",
       "   avg_size  cov_frau1  cov_nongerman  cov_nongerman_male  \\\n",
       "0  1.159168   0.907912        0.90782            0.923714   \n",
       "\n",
       "   cov_nongerman_female  \n",
       "0               0.88152  "
      ]
     },
     "execution_count": 56,
     "metadata": {},
     "output_type": "execute_result"
    }
   ],
   "source": [
    "cp_metrics_df"
   ]
  },
  {
   "cell_type": "markdown",
   "id": "3fc519cc",
   "metadata": {
    "papermill": {
     "duration": 0.016127,
     "end_time": "2025-08-19T18:51:21.925070",
     "exception": false,
     "start_time": "2025-08-19T18:51:21.908943",
     "status": "completed"
    },
    "tags": []
   },
   "source": [
    "# (Fairness) Metrics"
   ]
  },
  {
   "cell_type": "code",
   "execution_count": 57,
   "id": "a2e5e155",
   "metadata": {
    "execution": {
     "iopub.execute_input": "2025-08-19T18:51:21.974292Z",
     "iopub.status.busy": "2025-08-19T18:51:21.973968Z",
     "iopub.status.idle": "2025-08-19T18:51:21.989104Z",
     "shell.execute_reply": "2025-08-19T18:51:21.988288Z"
    },
    "papermill": {
     "duration": 0.033885,
     "end_time": "2025-08-19T18:51:21.991442",
     "exception": false,
     "start_time": "2025-08-19T18:51:21.957557",
     "status": "completed"
    },
    "tags": []
   },
   "outputs": [],
   "source": [
    "colname_to_bin = \"maxdeutsch1\"\n",
    "majority_value = org_train[colname_to_bin].mode()[0]\n",
    "\n",
    "org_test[\"majmin\"] = np.where(org_test[colname_to_bin] == majority_value, \"majority\", \"minority\")"
   ]
  },
  {
   "cell_type": "code",
   "execution_count": 58,
   "id": "17e3e4d5",
   "metadata": {
    "execution": {
     "iopub.execute_input": "2025-08-19T18:51:22.034777Z",
     "iopub.status.busy": "2025-08-19T18:51:22.033347Z",
     "iopub.status.idle": "2025-08-19T18:51:23.761866Z",
     "shell.execute_reply": "2025-08-19T18:51:23.760521Z"
    },
    "papermill": {
     "duration": 1.745364,
     "end_time": "2025-08-19T18:51:23.763545",
     "exception": false,
     "start_time": "2025-08-19T18:51:22.018181",
     "status": "completed"
    },
    "tags": []
   },
   "outputs": [],
   "source": [
    "example_universe = universe.copy()\n",
    "example_universe[\"cutoff\"] = example_universe[\"cutoff\"][0]\n",
    "example_universe[\"eval_fairness_grouping\"] = example_universe[\"eval_fairness_grouping\"][0]\n",
    "fairness_dict, metric_frame = universe_analysis.compute_metrics(\n",
    "    example_universe,\n",
    "    y_pred_prob=probs_test,\n",
    "    y_test=y_true,\n",
    "    org_test=org_test,\n",
    ")"
   ]
  },
  {
   "cell_type": "markdown",
   "id": "1fb7a0e9",
   "metadata": {
    "papermill": {
     "duration": 0.011972,
     "end_time": "2025-08-19T18:51:23.788184",
     "exception": false,
     "start_time": "2025-08-19T18:51:23.776212",
     "status": "completed"
    },
    "tags": []
   },
   "source": [
    "# Overall"
   ]
  },
  {
   "cell_type": "markdown",
   "id": "be1784b1",
   "metadata": {
    "papermill": {
     "duration": 0.011896,
     "end_time": "2025-08-19T18:51:23.812010",
     "exception": false,
     "start_time": "2025-08-19T18:51:23.800114",
     "status": "completed"
    },
    "tags": []
   },
   "source": [
    "Main fairness target: Equalized Odds. Seems to be a better fit than equal opportunity, since we're not only interested in Y = 1. Seems to be a better fit than demographic parity, since we also care about accuracy, not just equal distribution of preds.\n",
    "\n",
    "Pick column for computation of fairness metrics\n",
    "\n",
    "Performance\n",
    "Overall performance measures, most interesting in relation to the measures split by group below"
   ]
  },
  {
   "cell_type": "code",
   "execution_count": 59,
   "id": "b7672bee",
   "metadata": {
    "execution": {
     "iopub.execute_input": "2025-08-19T18:51:23.839749Z",
     "iopub.status.busy": "2025-08-19T18:51:23.838393Z",
     "iopub.status.idle": "2025-08-19T18:51:23.853840Z",
     "shell.execute_reply": "2025-08-19T18:51:23.852409Z"
    },
    "papermill": {
     "duration": 0.031618,
     "end_time": "2025-08-19T18:51:23.855572",
     "exception": false,
     "start_time": "2025-08-19T18:51:23.823954",
     "status": "completed"
    },
    "tags": []
   },
   "outputs": [
    {
     "data": {
      "text/plain": [
       "accuracy                   0.221101\n",
       "balanced accuracy          0.541309\n",
       "f1                         0.242523\n",
       "precision                  0.138545\n",
       "false positive rate        0.889402\n",
       "false negative rate        0.027981\n",
       "selection rate             0.900000\n",
       "count                  89710.000000\n",
       "dtype: float64"
      ]
     },
     "execution_count": 59,
     "metadata": {},
     "output_type": "execute_result"
    }
   ],
   "source": [
    "metric_frame.overall"
   ]
  },
  {
   "cell_type": "markdown",
   "id": "d93333c9",
   "metadata": {
    "papermill": {
     "duration": 0.012648,
     "end_time": "2025-08-19T18:51:23.884924",
     "exception": false,
     "start_time": "2025-08-19T18:51:23.872276",
     "status": "completed"
    },
    "tags": []
   },
   "source": [
    "By Group"
   ]
  },
  {
   "cell_type": "code",
   "execution_count": 60,
   "id": "52256966",
   "metadata": {
    "execution": {
     "iopub.execute_input": "2025-08-19T18:51:23.913120Z",
     "iopub.status.busy": "2025-08-19T18:51:23.911754Z",
     "iopub.status.idle": "2025-08-19T18:51:23.934182Z",
     "shell.execute_reply": "2025-08-19T18:51:23.933061Z"
    },
    "papermill": {
     "duration": 0.040036,
     "end_time": "2025-08-19T18:51:23.937105",
     "exception": false,
     "start_time": "2025-08-19T18:51:23.897069",
     "status": "completed"
    },
    "tags": []
   },
   "outputs": [
    {
     "data": {
      "text/html": [
       "<div>\n",
       "<style scoped>\n",
       "    .dataframe tbody tr th:only-of-type {\n",
       "        vertical-align: middle;\n",
       "    }\n",
       "\n",
       "    .dataframe tbody tr th {\n",
       "        vertical-align: top;\n",
       "    }\n",
       "\n",
       "    .dataframe thead th {\n",
       "        text-align: right;\n",
       "    }\n",
       "</style>\n",
       "<table border=\"1\" class=\"dataframe\">\n",
       "  <thead>\n",
       "    <tr style=\"text-align: right;\">\n",
       "      <th></th>\n",
       "      <th>accuracy</th>\n",
       "      <th>balanced accuracy</th>\n",
       "      <th>f1</th>\n",
       "      <th>precision</th>\n",
       "      <th>false positive rate</th>\n",
       "      <th>false negative rate</th>\n",
       "      <th>selection rate</th>\n",
       "      <th>count</th>\n",
       "    </tr>\n",
       "    <tr>\n",
       "      <th>majmin</th>\n",
       "      <th></th>\n",
       "      <th></th>\n",
       "      <th></th>\n",
       "      <th></th>\n",
       "      <th></th>\n",
       "      <th></th>\n",
       "      <th></th>\n",
       "      <th></th>\n",
       "    </tr>\n",
       "  </thead>\n",
       "  <tbody>\n",
       "    <tr>\n",
       "      <th>majority</th>\n",
       "      <td>0.240379</td>\n",
       "      <td>0.549097</td>\n",
       "      <td>0.252068</td>\n",
       "      <td>0.144884</td>\n",
       "      <td>0.870515</td>\n",
       "      <td>0.031291</td>\n",
       "      <td>0.883490</td>\n",
       "      <td>69170.0</td>\n",
       "    </tr>\n",
       "    <tr>\n",
       "      <th>minority</th>\n",
       "      <td>0.156183</td>\n",
       "      <td>0.516502</td>\n",
       "      <td>0.212039</td>\n",
       "      <td>0.118810</td>\n",
       "      <td>0.951794</td>\n",
       "      <td>0.015203</td>\n",
       "      <td>0.955599</td>\n",
       "      <td>20540.0</td>\n",
       "    </tr>\n",
       "  </tbody>\n",
       "</table>\n",
       "</div>"
      ],
      "text/plain": [
       "          accuracy  balanced accuracy        f1  precision  \\\n",
       "majmin                                                       \n",
       "majority  0.240379           0.549097  0.252068   0.144884   \n",
       "minority  0.156183           0.516502  0.212039   0.118810   \n",
       "\n",
       "          false positive rate  false negative rate  selection rate    count  \n",
       "majmin                                                                       \n",
       "majority             0.870515             0.031291        0.883490  69170.0  \n",
       "minority             0.951794             0.015203        0.955599  20540.0  "
      ]
     },
     "execution_count": 60,
     "metadata": {},
     "output_type": "execute_result"
    }
   ],
   "source": [
    "metric_frame.by_group"
   ]
  },
  {
   "cell_type": "code",
   "execution_count": 61,
   "id": "6e6c20ae",
   "metadata": {
    "execution": {
     "iopub.execute_input": "2025-08-19T18:51:23.971460Z",
     "iopub.status.busy": "2025-08-19T18:51:23.970626Z",
     "iopub.status.idle": "2025-08-19T18:51:25.768626Z",
     "shell.execute_reply": "2025-08-19T18:51:25.767334Z"
    },
    "papermill": {
     "duration": 1.813066,
     "end_time": "2025-08-19T18:51:25.770015",
     "exception": false,
     "start_time": "2025-08-19T18:51:23.956949",
     "status": "completed"
    },
    "tags": []
   },
   "outputs": [
    {
     "data": {
      "text/plain": [
       "array([[<Axes: title={'center': 'accuracy'}, xlabel='majmin'>,\n",
       "        <Axes: title={'center': 'balanced accuracy'}, xlabel='majmin'>,\n",
       "        <Axes: title={'center': 'f1'}, xlabel='majmin'>],\n",
       "       [<Axes: title={'center': 'precision'}, xlabel='majmin'>,\n",
       "        <Axes: title={'center': 'false positive rate'}, xlabel='majmin'>,\n",
       "        <Axes: title={'center': 'false negative rate'}, xlabel='majmin'>],\n",
       "       [<Axes: title={'center': 'selection rate'}, xlabel='majmin'>,\n",
       "        <Axes: title={'center': 'count'}, xlabel='majmin'>,\n",
       "        <Axes: xlabel='majmin'>]], dtype=object)"
      ]
     },
     "execution_count": 61,
     "metadata": {},
     "output_type": "execute_result"
    },
    {
     "data": {
      "image/png": "[encoded data removed]",
      "text/plain": [
       "<Figure size 1200x800 with 9 Axes>"
      ]
     },
     "metadata": {},
     "output_type": "display_data"
    }
   ],
   "source": [
    "# In a graphic\n",
    "metric_frame.by_group.plot.bar(\n",
    "    subplots=True,\n",
    "    layout=[3, 3],\n",
    "    legend=False,\n",
    "    figsize=[12, 8],\n",
    "    title=\"Show all metrics\",\n",
    ")"
   ]
  },
  {
   "cell_type": "markdown",
   "id": "b2e433ae",
   "metadata": {
    "papermill": {
     "duration": 0.013661,
     "end_time": "2025-08-19T18:51:25.798162",
     "exception": false,
     "start_time": "2025-08-19T18:51:25.784501",
     "status": "completed"
    },
    "tags": []
   },
   "source": [
    "# Final Output"
   ]
  },
  {
   "cell_type": "code",
   "execution_count": 62,
   "id": "3871301e",
   "metadata": {
    "execution": {
     "iopub.execute_input": "2025-08-19T18:51:25.828346Z",
     "iopub.status.busy": "2025-08-19T18:51:25.827202Z",
     "iopub.status.idle": "2025-08-19T18:51:25.834235Z",
     "shell.execute_reply": "2025-08-19T18:51:25.833609Z"
    },
    "papermill": {
     "duration": 0.023679,
     "end_time": "2025-08-19T18:51:25.835564",
     "exception": false,
     "start_time": "2025-08-19T18:51:25.811885",
     "status": "completed"
    },
    "tags": []
   },
   "outputs": [
    {
     "data": {
      "text/plain": [
       "4"
      ]
     },
     "execution_count": 62,
     "metadata": {},
     "output_type": "execute_result"
    }
   ],
   "source": [
    "sub_universes = universe_analysis.generate_sub_universes()\n",
    "len(sub_universes)"
   ]
  },
  {
   "cell_type": "code",
   "execution_count": 63,
   "id": "d9cfdaca",
   "metadata": {
    "execution": {
     "iopub.execute_input": "2025-08-19T18:51:25.866598Z",
     "iopub.status.busy": "2025-08-19T18:51:25.865666Z",
     "iopub.status.idle": "2025-08-19T18:51:25.874509Z",
     "shell.execute_reply": "2025-08-19T18:51:25.873049Z"
    },
    "papermill": {
     "duration": 0.025116,
     "end_time": "2025-08-19T18:51:25.876146",
     "exception": false,
     "start_time": "2025-08-19T18:51:25.851030",
     "status": "completed"
    },
    "tags": []
   },
   "outputs": [],
   "source": [
    "def filter_sub_universe_data(sub_universe, org_test):\n",
    "    # Keep all rows — no filtering\n",
    "    keep_rows_mask = np.ones(org_test.shape[0], dtype=bool)\n",
    "\n",
    "    print(f\"[INFO] Keeping all rows: {keep_rows_mask.sum()} rows retained.\")\n",
    "    return keep_rows_mask"
   ]
  },
  {
   "cell_type": "code",
   "execution_count": 64,
   "id": "2bc31ac1",
   "metadata": {
    "execution": {
     "iopub.execute_input": "2025-08-19T18:51:25.910535Z",
     "iopub.status.busy": "2025-08-19T18:51:25.909090Z",
     "iopub.status.idle": "2025-08-19T18:51:32.780742Z",
     "shell.execute_reply": "2025-08-19T18:51:32.779660Z"
    },
    "papermill": {
     "duration": 6.888025,
     "end_time": "2025-08-19T18:51:32.782091",
     "exception": false,
     "start_time": "2025-08-19T18:51:25.894066",
     "status": "completed"
    },
    "tags": []
   },
   "outputs": [
    {
     "name": "stdout",
     "output_type": "stream",
     "text": [
      "Stopping execution_time clock.\n",
      "[INFO] Keeping all rows: 89710 rows retained.\n"
     ]
    },
    {
     "name": "stdout",
     "output_type": "stream",
     "text": [
      "[INFO] Keeping all rows: 89710 rows retained.\n"
     ]
    },
    {
     "name": "stdout",
     "output_type": "stream",
     "text": [
      "[INFO] Keeping all rows: 89710 rows retained.\n"
     ]
    },
    {
     "name": "stdout",
     "output_type": "stream",
     "text": [
      "[INFO] Keeping all rows: 89710 rows retained.\n"
     ]
    },
    {
     "data": {
      "text/html": [
       "<div>\n",
       "<style scoped>\n",
       "    .dataframe tbody tr th:only-of-type {\n",
       "        vertical-align: middle;\n",
       "    }\n",
       "\n",
       "    .dataframe tbody tr th {\n",
       "        vertical-align: top;\n",
       "    }\n",
       "\n",
       "    .dataframe thead th {\n",
       "        text-align: right;\n",
       "    }\n",
       "</style>\n",
       "<table border=\"1\" class=\"dataframe\">\n",
       "  <thead>\n",
       "    <tr style=\"text-align: right;\">\n",
       "      <th></th>\n",
       "      <th>run_no</th>\n",
       "      <th>universe_id</th>\n",
       "      <th>universe_settings</th>\n",
       "      <th>execution_time</th>\n",
       "      <th>test_size_n</th>\n",
       "      <th>test_size_frac</th>\n",
       "      <th>fair_main_equalized_odds_difference</th>\n",
       "      <th>fair_main_equalized_odds_ratio</th>\n",
       "      <th>fair_main_demographic_parity_difference</th>\n",
       "      <th>fair_main_demographic_parity_ratio</th>\n",
       "      <th>...</th>\n",
       "      <th>perf_grp_precision_0</th>\n",
       "      <th>perf_grp_precision_1</th>\n",
       "      <th>perf_grp_false positive rate_0</th>\n",
       "      <th>perf_grp_false positive rate_1</th>\n",
       "      <th>perf_grp_false negative rate_0</th>\n",
       "      <th>perf_grp_false negative rate_1</th>\n",
       "      <th>perf_grp_selection rate_0</th>\n",
       "      <th>perf_grp_selection rate_1</th>\n",
       "      <th>perf_grp_count_0</th>\n",
       "      <th>perf_grp_count_1</th>\n",
       "    </tr>\n",
       "  </thead>\n",
       "  <tbody>\n",
       "    <tr>\n",
       "      <th>0</th>\n",
       "      <td>3</td>\n",
       "      <td>68084ed931fa51aa4436dfa868b8e460</td>\n",
       "      <td>{\"cutoff\": \"quantile_0.1\", \"eval_fairness_grou...</td>\n",
       "      <td>23.298862</td>\n",
       "      <td>89710</td>\n",
       "      <td>1.0</td>\n",
       "      <td>0.081279</td>\n",
       "      <td>0.914604</td>\n",
       "      <td>0.072109</td>\n",
       "      <td>0.924541</td>\n",
       "      <td>...</td>\n",
       "      <td>NaN</td>\n",
       "      <td>NaN</td>\n",
       "      <td>NaN</td>\n",
       "      <td>NaN</td>\n",
       "      <td>NaN</td>\n",
       "      <td>NaN</td>\n",
       "      <td>NaN</td>\n",
       "      <td>NaN</td>\n",
       "      <td>NaN</td>\n",
       "      <td>NaN</td>\n",
       "    </tr>\n",
       "    <tr>\n",
       "      <th>0</th>\n",
       "      <td>3</td>\n",
       "      <td>68084ed931fa51aa4436dfa868b8e460</td>\n",
       "      <td>{\"cutoff\": \"quantile_0.1\", \"eval_fairness_grou...</td>\n",
       "      <td>23.298862</td>\n",
       "      <td>89710</td>\n",
       "      <td>1.0</td>\n",
       "      <td>0.081279</td>\n",
       "      <td>0.914604</td>\n",
       "      <td>0.072109</td>\n",
       "      <td>0.924541</td>\n",
       "      <td>...</td>\n",
       "      <td>0.118810</td>\n",
       "      <td>0.144884</td>\n",
       "      <td>0.951794</td>\n",
       "      <td>0.870515</td>\n",
       "      <td>0.015203</td>\n",
       "      <td>0.031291</td>\n",
       "      <td>0.955599</td>\n",
       "      <td>0.883490</td>\n",
       "      <td>20540.0</td>\n",
       "      <td>69170.0</td>\n",
       "    </tr>\n",
       "    <tr>\n",
       "      <th>0</th>\n",
       "      <td>3</td>\n",
       "      <td>68084ed931fa51aa4436dfa868b8e460</td>\n",
       "      <td>{\"cutoff\": \"quantile_0.25\", \"eval_fairness_gro...</td>\n",
       "      <td>23.298862</td>\n",
       "      <td>89710</td>\n",
       "      <td>1.0</td>\n",
       "      <td>0.177368</td>\n",
       "      <td>0.794640</td>\n",
       "      <td>0.158247</td>\n",
       "      <td>0.818809</td>\n",
       "      <td>...</td>\n",
       "      <td>NaN</td>\n",
       "      <td>NaN</td>\n",
       "      <td>NaN</td>\n",
       "      <td>NaN</td>\n",
       "      <td>NaN</td>\n",
       "      <td>NaN</td>\n",
       "      <td>NaN</td>\n",
       "      <td>NaN</td>\n",
       "      <td>NaN</td>\n",
       "      <td>NaN</td>\n",
       "    </tr>\n",
       "    <tr>\n",
       "      <th>0</th>\n",
       "      <td>3</td>\n",
       "      <td>68084ed931fa51aa4436dfa868b8e460</td>\n",
       "      <td>{\"cutoff\": \"quantile_0.25\", \"eval_fairness_gro...</td>\n",
       "      <td>23.298862</td>\n",
       "      <td>89710</td>\n",
       "      <td>1.0</td>\n",
       "      <td>0.177368</td>\n",
       "      <td>0.794640</td>\n",
       "      <td>0.158247</td>\n",
       "      <td>0.818809</td>\n",
       "      <td>...</td>\n",
       "      <td>0.125091</td>\n",
       "      <td>0.167088</td>\n",
       "      <td>0.863691</td>\n",
       "      <td>0.686324</td>\n",
       "      <td>0.052365</td>\n",
       "      <td>0.095733</td>\n",
       "      <td>0.873369</td>\n",
       "      <td>0.715122</td>\n",
       "      <td>20540.0</td>\n",
       "      <td>69170.0</td>\n",
       "    </tr>\n",
       "  </tbody>\n",
       "</table>\n",
       "<p>4 rows × 50 columns</p>\n",
       "</div>"
      ],
      "text/plain": [
       "  run_no                       universe_id  \\\n",
       "0      3  68084ed931fa51aa4436dfa868b8e460   \n",
       "0      3  68084ed931fa51aa4436dfa868b8e460   \n",
       "0      3  68084ed931fa51aa4436dfa868b8e460   \n",
       "0      3  68084ed931fa51aa4436dfa868b8e460   \n",
       "\n",
       "                                   universe_settings  execution_time  \\\n",
       "0  {\"cutoff\": \"quantile_0.1\", \"eval_fairness_grou...       23.298862   \n",
       "0  {\"cutoff\": \"quantile_0.1\", \"eval_fairness_grou...       23.298862   \n",
       "0  {\"cutoff\": \"quantile_0.25\", \"eval_fairness_gro...       23.298862   \n",
       "0  {\"cutoff\": \"quantile_0.25\", \"eval_fairness_gro...       23.298862   \n",
       "\n",
       "   test_size_n  test_size_frac  fair_main_equalized_odds_difference  \\\n",
       "0        89710             1.0                             0.081279   \n",
       "0        89710             1.0                             0.081279   \n",
       "0        89710             1.0                             0.177368   \n",
       "0        89710             1.0                             0.177368   \n",
       "\n",
       "   fair_main_equalized_odds_ratio  fair_main_demographic_parity_difference  \\\n",
       "0                        0.914604                                 0.072109   \n",
       "0                        0.914604                                 0.072109   \n",
       "0                        0.794640                                 0.158247   \n",
       "0                        0.794640                                 0.158247   \n",
       "\n",
       "   fair_main_demographic_parity_ratio  ...  perf_grp_precision_0  \\\n",
       "0                            0.924541  ...                   NaN   \n",
       "0                            0.924541  ...              0.118810   \n",
       "0                            0.818809  ...                   NaN   \n",
       "0                            0.818809  ...              0.125091   \n",
       "\n",
       "   perf_grp_precision_1  perf_grp_false positive rate_0  \\\n",
       "0                   NaN                             NaN   \n",
       "0              0.144884                        0.951794   \n",
       "0                   NaN                             NaN   \n",
       "0              0.167088                        0.863691   \n",
       "\n",
       "   perf_grp_false positive rate_1  perf_grp_false negative rate_0  \\\n",
       "0                             NaN                             NaN   \n",
       "0                        0.870515                        0.015203   \n",
       "0                             NaN                             NaN   \n",
       "0                        0.686324                        0.052365   \n",
       "\n",
       "   perf_grp_false negative rate_1  perf_grp_selection rate_0  \\\n",
       "0                             NaN                        NaN   \n",
       "0                        0.031291                   0.955599   \n",
       "0                             NaN                        NaN   \n",
       "0                        0.095733                   0.873369   \n",
       "\n",
       "   perf_grp_selection rate_1  perf_grp_count_0  perf_grp_count_1  \n",
       "0                        NaN               NaN               NaN  \n",
       "0                   0.883490           20540.0           69170.0  \n",
       "0                        NaN               NaN               NaN  \n",
       "0                   0.715122           20540.0           69170.0  \n",
       "\n",
       "[4 rows x 50 columns]"
      ]
     },
     "execution_count": 64,
     "metadata": {},
     "output_type": "execute_result"
    }
   ],
   "source": [
    "final_output = universe_analysis.generate_final_output(\n",
    "    y_pred_prob=probs_test,\n",
    "    y_test=y_true,\n",
    "    org_test=org_test,\n",
    "    filter_data=filter_sub_universe_data,\n",
    "    cp_metrics_df=cp_metrics_df,\n",
    "    save=True,\n",
    ")\n",
    "final_output"
   ]
  },
  {
   "cell_type": "code",
   "execution_count": null,
   "id": "8b80a1ff",
   "metadata": {
    "papermill": {
     "duration": 0.030398,
     "end_time": "2025-08-19T18:51:32.829853",
     "exception": false,
     "start_time": "2025-08-19T18:51:32.799455",
     "status": "completed"
    },
    "tags": []
   },
   "outputs": [],
   "source": []
  },
  {
   "cell_type": "code",
   "execution_count": null,
   "id": "275c9fad",
   "metadata": {
    "papermill": {
     "duration": 0.014351,
     "end_time": "2025-08-19T18:51:32.860764",
     "exception": false,
     "start_time": "2025-08-19T18:51:32.846413",
     "status": "completed"
    },
    "tags": []
   },
   "outputs": [],
   "source": []
  }
 ],
 "metadata": {
  "celltoolbar": "Tags",
  "kernelspec": {
   "display_name": "Python (CMA Fairness)",
   "language": "python",
   "name": "cma_fair_env"
  },
  "language_info": {
   "codemirror_mode": {
    "name": "ipython",
    "version": 3
   },
   "file_extension": ".py",
   "mimetype": "text/x-python",
   "name": "python",
   "nbconvert_exporter": "python",
   "pygments_lexer": "ipython3",
   "version": "3.10.12"
  },
  "papermill": {
   "default_parameters": {},
   "duration": 34.287467,
   "end_time": "2025-08-19T18:51:33.804005",
   "environment_variables": {},
   "exception": null,
   "input_path": "universe_analysis.ipynb",
   "output_path": "output/runs/3/notebooks/m_3-68084ed931fa51aa4436dfa868b8e460.ipynb",
   "parameters": {
    "output_dir": "output",
    "run_no": "3",
    "seed": "2023",
    "universe": "{\"cutoff\": [\"quantile_0.1\", \"quantile_0.25\"], \"eval_fairness_grouping\": [\"majority-minority\", \"nationality-all\"], \"exclude_features\": \"none\", \"exclude_subgroups\": \"drop-non-german\", \"model\": \"gbm\", \"scale\": \"scale\", \"training_size\": \"1k\", \"training_year\": \"2014\"}",
    "universe_id": "68084ed931fa51aa4436dfa868b8e460"
   },
   "start_time": "2025-08-19T18:50:59.516538",
   "version": "2.6.0"
  }
 },
 "nbformat": 4,
 "nbformat_minor": 5
}