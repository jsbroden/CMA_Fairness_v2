{
 "cells": [
  {
   "cell_type": "markdown",
   "id": "ef23dbb3",
   "metadata": {
    "papermill": {
     "duration": 0.018108,
     "end_time": "2025-08-19T19:08:27.608862",
     "exception": false,
     "start_time": "2025-08-19T19:08:27.590754",
     "status": "completed"
    },
    "tags": []
   },
   "source": [
    "# Setup"
   ]
  },
  {
   "cell_type": "code",
   "execution_count": 1,
   "id": "0bc8e7dc",
   "metadata": {
    "execution": {
     "iopub.execute_input": "2025-08-19T19:08:27.634005Z",
     "iopub.status.busy": "2025-08-19T19:08:27.633703Z",
     "iopub.status.idle": "2025-08-19T19:08:27.642249Z",
     "shell.execute_reply": "2025-08-19T19:08:27.641724Z"
    },
    "papermill": {
     "duration": 0.026015,
     "end_time": "2025-08-19T19:08:27.643655",
     "exception": false,
     "start_time": "2025-08-19T19:08:27.617640",
     "status": "completed"
    },
    "tags": []
   },
   "outputs": [
    {
     "name": "stdout",
     "output_type": "stream",
     "text": [
      "/dss/dsshome1/0C/ra93lal2/cma/CMA_Fairness_v2\n"
     ]
    },
    {
     "name": "stderr",
     "output_type": "stream",
     "text": [
      "/dss/dsshome1/0C/ra93lal2/.local/share/virtualenvs/CMA_Fairness_v2-3j10GkSs/lib/python3.10/site-packages/IPython/core/magics/osm.py:393: UserWarning: This is now an optional IPython functionality, using bookmarks requires you to install the `pickleshare` library.\n",
      "  bkms = self.shell.db.get('bookmarks', {})\n",
      "/dss/dsshome1/0C/ra93lal2/.local/share/virtualenvs/CMA_Fairness_v2-3j10GkSs/lib/python3.10/site-packages/IPython/core/magics/osm.py:417: UserWarning: This is now an optional IPython functionality, setting dhist requires you to install the `pickleshare` library.\n",
      "  self.shell.db['dhist'] = compress_dhist(dhist)[-100:]\n"
     ]
    }
   ],
   "source": [
    "%cd ~/cma/CMA_Fairness_v2"
   ]
  },
  {
   "cell_type": "markdown",
   "id": "9d235661",
   "metadata": {
    "papermill": {
     "duration": 0.009746,
     "end_time": "2025-08-19T19:08:27.663353",
     "exception": false,
     "start_time": "2025-08-19T19:08:27.653607",
     "status": "completed"
    },
    "tags": []
   },
   "source": [
    "The following cell holds the definition of our parameters, these values can be overriden by rendering the with e.g. the following command:\n",
    "\n",
    "papermill -p alpha 0.2 -p ratio 0.3 universe_analysis.ipynb output/test_run.ipynb"
   ]
  },
  {
   "cell_type": "code",
   "execution_count": 2,
   "id": "4a789d8e",
   "metadata": {
    "execution": {
     "iopub.execute_input": "2025-08-19T19:08:27.684579Z",
     "iopub.status.busy": "2025-08-19T19:08:27.684028Z",
     "iopub.status.idle": "2025-08-19T19:08:27.688955Z",
     "shell.execute_reply": "2025-08-19T19:08:27.687670Z"
    },
    "papermill": {
     "duration": 0.016377,
     "end_time": "2025-08-19T19:08:27.690131",
     "exception": false,
     "start_time": "2025-08-19T19:08:27.673754",
     "status": "completed"
    },
    "tags": []
   },
   "outputs": [
    {
     "name": "stdout",
     "output_type": "stream",
     "text": [
      "Current working directory: /dss/dsshome1/0C/ra93lal2/cma/CMA_Fairness_v2\n"
     ]
    }
   ],
   "source": [
    "import os\n",
    "print(\"Current working directory:\", os.getcwd())"
   ]
  },
  {
   "cell_type": "code",
   "execution_count": 3,
   "id": "4132aaed",
   "metadata": {
    "execution": {
     "iopub.execute_input": "2025-08-19T19:08:27.711420Z",
     "iopub.status.busy": "2025-08-19T19:08:27.710363Z",
     "iopub.status.idle": "2025-08-19T19:08:27.719583Z",
     "shell.execute_reply": "2025-08-19T19:08:27.718307Z"
    },
    "papermill": {
     "duration": 0.022163,
     "end_time": "2025-08-19T19:08:27.721035",
     "exception": false,
     "start_time": "2025-08-19T19:08:27.698872",
     "status": "completed"
    },
    "tags": [
     "parameters"
    ]
   },
   "outputs": [],
   "source": [
    "run_no = 0\n",
    "universe_id = \"test\"\n",
    "universe = {\n",
    "    \"training_size\": \"5k\", # \"25k\", \"5k\", \"1k\"\n",
    "    \"training_year\": \"2012_14\", # \"2014\", \"2012_14\", \"2010_14\"\n",
    "    \"scale\": \"scale\", # \"scale\", \"do-not-scale\",\n",
    "    \"model\": \"elasticnet\", # \"logreg\", \"penalized_logreg\", \"rf\", \"gbm\", \"elasticnet\"\n",
    "    \"cutoff\": [\"quantile_0.15\", \"quantile_0.30\"],\n",
    "    \"exclude_features\": \"age\", # \"none\", \"nationality\", \"sex\", \"nationality-sex\", \"age\"\n",
    "    \"exclude_subgroups\": \"drop-non-german\", # \"keep-all\", \"drop-non-german\"\n",
    "    \"eval_fairness_grouping\": [\"majority-minority\", \"nationality-all\"]\n",
    "}\n",
    "\n",
    "output_dir=\"./output\"\n",
    "seed=0"
   ]
  },
  {
   "cell_type": "code",
   "execution_count": 4,
   "id": "1f3eb5a8",
   "metadata": {
    "execution": {
     "iopub.execute_input": "2025-08-19T19:08:27.747295Z",
     "iopub.status.busy": "2025-08-19T19:08:27.746432Z",
     "iopub.status.idle": "2025-08-19T19:08:27.760761Z",
     "shell.execute_reply": "2025-08-19T19:08:27.760103Z"
    },
    "papermill": {
     "duration": 0.026772,
     "end_time": "2025-08-19T19:08:27.762075",
     "exception": false,
     "start_time": "2025-08-19T19:08:27.735303",
     "status": "completed"
    },
    "tags": [
     "injected-parameters"
    ]
   },
   "outputs": [],
   "source": [
    "# Parameters\n",
    "universe_id = \"a6ecc213a6e51373e086491b750a29cd\"\n",
    "run_no = \"3\"\n",
    "universe = \"{\\\"cutoff\\\": [\\\"quantile_0.1\\\", \\\"quantile_0.25\\\"], \\\"eval_fairness_grouping\\\": [\\\"majority-minority\\\", \\\"nationality-all\\\"], \\\"exclude_features\\\": \\\"age\\\", \\\"exclude_subgroups\\\": \\\"drop-non-german\\\", \\\"model\\\": \\\"elasticnet\\\", \\\"scale\\\": \\\"scale\\\", \\\"training_size\\\": \\\"1k\\\", \\\"training_year\\\": \\\"2010_14\\\"}\"\n",
    "output_dir = \"output\"\n",
    "seed = \"2023\"\n"
   ]
  },
  {
   "cell_type": "code",
   "execution_count": 5,
   "id": "a5d7941f",
   "metadata": {
    "execution": {
     "iopub.execute_input": "2025-08-19T19:08:27.789897Z",
     "iopub.status.busy": "2025-08-19T19:08:27.788983Z",
     "iopub.status.idle": "2025-08-19T19:08:27.795410Z",
     "shell.execute_reply": "2025-08-19T19:08:27.794107Z"
    },
    "papermill": {
     "duration": 0.020349,
     "end_time": "2025-08-19T19:08:27.796699",
     "exception": false,
     "start_time": "2025-08-19T19:08:27.776350",
     "status": "completed"
    },
    "tags": []
   },
   "outputs": [],
   "source": [
    "import json\n",
    "if isinstance(universe, str):\n",
    "    universe = json.loads(universe)"
   ]
  },
  {
   "cell_type": "code",
   "execution_count": 6,
   "id": "7076ccb1",
   "metadata": {
    "execution": {
     "iopub.execute_input": "2025-08-19T19:08:27.820415Z",
     "iopub.status.busy": "2025-08-19T19:08:27.819411Z",
     "iopub.status.idle": "2025-08-19T19:08:28.087015Z",
     "shell.execute_reply": "2025-08-19T19:08:28.086124Z"
    },
    "papermill": {
     "duration": 0.282388,
     "end_time": "2025-08-19T19:08:28.090089",
     "exception": false,
     "start_time": "2025-08-19T19:08:27.807701",
     "status": "completed"
    },
    "tags": []
   },
   "outputs": [],
   "source": [
    "# Auto-reload the custom package\n",
    "%load_ext autoreload\n",
    "%autoreload 1\n",
    "%aimport fairness_multiverse"
   ]
  },
  {
   "cell_type": "code",
   "execution_count": 7,
   "id": "94c8eb93",
   "metadata": {
    "execution": {
     "iopub.execute_input": "2025-08-19T19:08:28.111403Z",
     "iopub.status.busy": "2025-08-19T19:08:28.111083Z",
     "iopub.status.idle": "2025-08-19T19:08:29.641886Z",
     "shell.execute_reply": "2025-08-19T19:08:29.641135Z"
    },
    "papermill": {
     "duration": 1.544386,
     "end_time": "2025-08-19T19:08:29.643660",
     "exception": false,
     "start_time": "2025-08-19T19:08:28.099274",
     "status": "completed"
    },
    "tags": []
   },
   "outputs": [],
   "source": [
    "from fairness_multiverse.universe import UniverseAnalysis\n",
    "\n",
    "universe_analysis = UniverseAnalysis(\n",
    "    run_no = run_no,\n",
    "    universe_id = universe_id,\n",
    "    universe = universe,\n",
    "    output_dir=output_dir,\n",
    ")"
   ]
  },
  {
   "cell_type": "code",
   "execution_count": 8,
   "id": "2a6381cf",
   "metadata": {
    "execution": {
     "iopub.execute_input": "2025-08-19T19:08:29.663526Z",
     "iopub.status.busy": "2025-08-19T19:08:29.662982Z",
     "iopub.status.idle": "2025-08-19T19:08:29.668051Z",
     "shell.execute_reply": "2025-08-19T19:08:29.667375Z"
    },
    "papermill": {
     "duration": 0.016705,
     "end_time": "2025-08-19T19:08:29.669590",
     "exception": false,
     "start_time": "2025-08-19T19:08:29.652885",
     "status": "completed"
    },
    "tags": []
   },
   "outputs": [
    {
     "name": "stdout",
     "output_type": "stream",
     "text": [
      "Using Seed: 2023\n"
     ]
    }
   ],
   "source": [
    "import numpy as np\n",
    "parsed_seed = int(seed)\n",
    "np.random.seed(parsed_seed)\n",
    "print(f\"Using Seed: {parsed_seed}\")"
   ]
  },
  {
   "cell_type": "markdown",
   "id": "b6e958b4",
   "metadata": {
    "papermill": {
     "duration": 0.009327,
     "end_time": "2025-08-19T19:08:29.687873",
     "exception": false,
     "start_time": "2025-08-19T19:08:29.678546",
     "status": "completed"
    },
    "tags": []
   },
   "source": [
    "# Loading Data"
   ]
  },
  {
   "cell_type": "code",
   "execution_count": 9,
   "id": "98701482",
   "metadata": {
    "execution": {
     "iopub.execute_input": "2025-08-19T19:08:29.706852Z",
     "iopub.status.busy": "2025-08-19T19:08:29.706481Z",
     "iopub.status.idle": "2025-08-19T19:08:39.731904Z",
     "shell.execute_reply": "2025-08-19T19:08:39.730421Z"
    },
    "papermill": {
     "duration": 10.037969,
     "end_time": "2025-08-19T19:08:39.734637",
     "exception": false,
     "start_time": "2025-08-19T19:08:29.696668",
     "status": "completed"
    },
    "tags": []
   },
   "outputs": [
    {
     "name": "stdout",
     "output_type": "stream",
     "text": [
      "Loading SIAB data from cache: data/siab_cached.csv.gz\n"
     ]
    },
    {
     "name": "stdout",
     "output_type": "stream",
     "text": [
      "(643690, 164)\n"
     ]
    }
   ],
   "source": [
    "from pathlib import Path\n",
    "import pandas as pd\n",
    "\n",
    "# File paths\n",
    "raw_file = Path(\"data/raw/siab.csv\")\n",
    "cache_file = Path(\"data/siab_cached.csv.gz\")\n",
    "\n",
    "# Ensure cache directory exists\n",
    "cache_file.parent.mkdir(parents=True, exist_ok=True)\n",
    "\n",
    "# Load with simple caching\n",
    "if cache_file.exists():\n",
    "    print(f\"Loading SIAB data from cache: {cache_file}\")\n",
    "    siab = pd.read_csv(cache_file, compression='gzip')\n",
    "else:\n",
    "    print(f\"Cache not found. Reading raw SIAB data: {raw_file}\")\n",
    "    siab = pd.read_csv(raw_file)\n",
    "    siab.to_csv(cache_file, index=False, compression='gzip')\n",
    "    print(f\"Cached SIAB data to: {cache_file}\")\n",
    "\n",
    "print(siab.shape)"
   ]
  },
  {
   "cell_type": "code",
   "execution_count": 10,
   "id": "058d2abb",
   "metadata": {
    "execution": {
     "iopub.execute_input": "2025-08-19T19:08:39.782905Z",
     "iopub.status.busy": "2025-08-19T19:08:39.782381Z",
     "iopub.status.idle": "2025-08-19T19:08:39.981320Z",
     "shell.execute_reply": "2025-08-19T19:08:39.980525Z"
    },
    "papermill": {
     "duration": 0.221932,
     "end_time": "2025-08-19T19:08:39.982790",
     "exception": false,
     "start_time": "2025-08-19T19:08:39.760858",
     "status": "completed"
    },
    "tags": []
   },
   "outputs": [
    {
     "data": {
      "text/html": [
       "<div>\n",
       "<style scoped>\n",
       "    .dataframe tbody tr th:only-of-type {\n",
       "        vertical-align: middle;\n",
       "    }\n",
       "\n",
       "    .dataframe tbody tr th {\n",
       "        vertical-align: top;\n",
       "    }\n",
       "\n",
       "    .dataframe thead th {\n",
       "        text-align: right;\n",
       "    }\n",
       "</style>\n",
       "<table border=\"1\" class=\"dataframe\">\n",
       "  <thead>\n",
       "    <tr style=\"text-align: right;\">\n",
       "      <th></th>\n",
       "      <th>persnr</th>\n",
       "      <th>year</th>\n",
       "      <th>nrEntry</th>\n",
       "      <th>ltue</th>\n",
       "      <th>employed_before</th>\n",
       "      <th>receipt_leh_before</th>\n",
       "      <th>receipt_lhg_before</th>\n",
       "      <th>se_before</th>\n",
       "      <th>ASU_notue_seeking_before</th>\n",
       "      <th>ASU_other_before</th>\n",
       "      <th>...</th>\n",
       "      <th>minijob_tot_dur_byage</th>\n",
       "      <th>ft_tot_dur_byage</th>\n",
       "      <th>befrist_tot_dur_byage</th>\n",
       "      <th>leih_tot_dur_byage</th>\n",
       "      <th>LHG_tot_dur_byage</th>\n",
       "      <th>LEH_tot_dur_byage</th>\n",
       "      <th>almp_tot_dur_byage</th>\n",
       "      <th>almp_aw_tot_dur_byage</th>\n",
       "      <th>se_tot_dur_byage</th>\n",
       "      <th>seeking1_tot_dur_byage</th>\n",
       "    </tr>\n",
       "  </thead>\n",
       "  <tbody>\n",
       "    <tr>\n",
       "      <th>0</th>\n",
       "      <td>7</td>\n",
       "      <td>2015</td>\n",
       "      <td>1</td>\n",
       "      <td>0</td>\n",
       "      <td>1</td>\n",
       "      <td>0</td>\n",
       "      <td>0</td>\n",
       "      <td>0</td>\n",
       "      <td>1</td>\n",
       "      <td>0</td>\n",
       "      <td>...</td>\n",
       "      <td>0.000000</td>\n",
       "      <td>0.000000</td>\n",
       "      <td>15.043478</td>\n",
       "      <td>0.000000</td>\n",
       "      <td>0.000000</td>\n",
       "      <td>0.000000</td>\n",
       "      <td>0.000000</td>\n",
       "      <td>0.000000</td>\n",
       "      <td>0.000000</td>\n",
       "      <td>0.000000</td>\n",
       "    </tr>\n",
       "    <tr>\n",
       "      <th>1</th>\n",
       "      <td>18</td>\n",
       "      <td>2010</td>\n",
       "      <td>1</td>\n",
       "      <td>1</td>\n",
       "      <td>0</td>\n",
       "      <td>0</td>\n",
       "      <td>0</td>\n",
       "      <td>0</td>\n",
       "      <td>0</td>\n",
       "      <td>0</td>\n",
       "      <td>...</td>\n",
       "      <td>0.000000</td>\n",
       "      <td>0.000000</td>\n",
       "      <td>0.000000</td>\n",
       "      <td>0.000000</td>\n",
       "      <td>0.000000</td>\n",
       "      <td>0.000000</td>\n",
       "      <td>0.000000</td>\n",
       "      <td>0.000000</td>\n",
       "      <td>0.000000</td>\n",
       "      <td>0.000000</td>\n",
       "    </tr>\n",
       "    <tr>\n",
       "      <th>2</th>\n",
       "      <td>18</td>\n",
       "      <td>2011</td>\n",
       "      <td>2</td>\n",
       "      <td>0</td>\n",
       "      <td>1</td>\n",
       "      <td>0</td>\n",
       "      <td>1</td>\n",
       "      <td>0</td>\n",
       "      <td>1</td>\n",
       "      <td>0</td>\n",
       "      <td>...</td>\n",
       "      <td>2.714286</td>\n",
       "      <td>2.714286</td>\n",
       "      <td>0.000000</td>\n",
       "      <td>0.000000</td>\n",
       "      <td>10.775510</td>\n",
       "      <td>0.000000</td>\n",
       "      <td>8.367347</td>\n",
       "      <td>0.000000</td>\n",
       "      <td>0.000000</td>\n",
       "      <td>9.836735</td>\n",
       "    </tr>\n",
       "    <tr>\n",
       "      <th>3</th>\n",
       "      <td>18</td>\n",
       "      <td>2012</td>\n",
       "      <td>3</td>\n",
       "      <td>0</td>\n",
       "      <td>1</td>\n",
       "      <td>0</td>\n",
       "      <td>1</td>\n",
       "      <td>0</td>\n",
       "      <td>1</td>\n",
       "      <td>0</td>\n",
       "      <td>...</td>\n",
       "      <td>4.200000</td>\n",
       "      <td>4.200000</td>\n",
       "      <td>0.000000</td>\n",
       "      <td>0.000000</td>\n",
       "      <td>12.100000</td>\n",
       "      <td>0.000000</td>\n",
       "      <td>9.400000</td>\n",
       "      <td>0.000000</td>\n",
       "      <td>0.000000</td>\n",
       "      <td>9.960000</td>\n",
       "    </tr>\n",
       "    <tr>\n",
       "      <th>4</th>\n",
       "      <td>18</td>\n",
       "      <td>2012</td>\n",
       "      <td>4</td>\n",
       "      <td>0</td>\n",
       "      <td>1</td>\n",
       "      <td>0</td>\n",
       "      <td>1</td>\n",
       "      <td>0</td>\n",
       "      <td>1</td>\n",
       "      <td>0</td>\n",
       "      <td>...</td>\n",
       "      <td>5.460000</td>\n",
       "      <td>5.460000</td>\n",
       "      <td>0.000000</td>\n",
       "      <td>0.000000</td>\n",
       "      <td>13.360000</td>\n",
       "      <td>0.000000</td>\n",
       "      <td>10.320000</td>\n",
       "      <td>0.000000</td>\n",
       "      <td>0.000000</td>\n",
       "      <td>10.280000</td>\n",
       "    </tr>\n",
       "    <tr>\n",
       "      <th>...</th>\n",
       "      <td>...</td>\n",
       "      <td>...</td>\n",
       "      <td>...</td>\n",
       "      <td>...</td>\n",
       "      <td>...</td>\n",
       "      <td>...</td>\n",
       "      <td>...</td>\n",
       "      <td>...</td>\n",
       "      <td>...</td>\n",
       "      <td>...</td>\n",
       "      <td>...</td>\n",
       "      <td>...</td>\n",
       "      <td>...</td>\n",
       "      <td>...</td>\n",
       "      <td>...</td>\n",
       "      <td>...</td>\n",
       "      <td>...</td>\n",
       "      <td>...</td>\n",
       "      <td>...</td>\n",
       "      <td>...</td>\n",
       "      <td>...</td>\n",
       "    </tr>\n",
       "    <tr>\n",
       "      <th>643685</th>\n",
       "      <td>1827860</td>\n",
       "      <td>2013</td>\n",
       "      <td>1</td>\n",
       "      <td>0</td>\n",
       "      <td>0</td>\n",
       "      <td>0</td>\n",
       "      <td>1</td>\n",
       "      <td>0</td>\n",
       "      <td>0</td>\n",
       "      <td>1</td>\n",
       "      <td>...</td>\n",
       "      <td>0.000000</td>\n",
       "      <td>0.000000</td>\n",
       "      <td>0.000000</td>\n",
       "      <td>0.000000</td>\n",
       "      <td>0.612903</td>\n",
       "      <td>0.000000</td>\n",
       "      <td>0.000000</td>\n",
       "      <td>0.000000</td>\n",
       "      <td>0.000000</td>\n",
       "      <td>0.000000</td>\n",
       "    </tr>\n",
       "    <tr>\n",
       "      <th>643686</th>\n",
       "      <td>1827860</td>\n",
       "      <td>2015</td>\n",
       "      <td>2</td>\n",
       "      <td>1</td>\n",
       "      <td>0</td>\n",
       "      <td>0</td>\n",
       "      <td>1</td>\n",
       "      <td>0</td>\n",
       "      <td>1</td>\n",
       "      <td>0</td>\n",
       "      <td>...</td>\n",
       "      <td>0.000000</td>\n",
       "      <td>0.000000</td>\n",
       "      <td>0.212121</td>\n",
       "      <td>0.212121</td>\n",
       "      <td>17.363636</td>\n",
       "      <td>0.000000</td>\n",
       "      <td>8.909091</td>\n",
       "      <td>0.000000</td>\n",
       "      <td>0.000000</td>\n",
       "      <td>7.121212</td>\n",
       "    </tr>\n",
       "    <tr>\n",
       "      <th>643687</th>\n",
       "      <td>1827860</td>\n",
       "      <td>2016</td>\n",
       "      <td>3</td>\n",
       "      <td>1</td>\n",
       "      <td>0</td>\n",
       "      <td>0</td>\n",
       "      <td>1</td>\n",
       "      <td>1</td>\n",
       "      <td>0</td>\n",
       "      <td>1</td>\n",
       "      <td>...</td>\n",
       "      <td>0.000000</td>\n",
       "      <td>0.000000</td>\n",
       "      <td>0.294118</td>\n",
       "      <td>0.205882</td>\n",
       "      <td>34.705882</td>\n",
       "      <td>0.000000</td>\n",
       "      <td>10.352941</td>\n",
       "      <td>1.705882</td>\n",
       "      <td>1.705882</td>\n",
       "      <td>23.911765</td>\n",
       "    </tr>\n",
       "    <tr>\n",
       "      <th>643688</th>\n",
       "      <td>1827869</td>\n",
       "      <td>2013</td>\n",
       "      <td>1</td>\n",
       "      <td>1</td>\n",
       "      <td>1</td>\n",
       "      <td>0</td>\n",
       "      <td>0</td>\n",
       "      <td>0</td>\n",
       "      <td>1</td>\n",
       "      <td>0</td>\n",
       "      <td>...</td>\n",
       "      <td>0.000000</td>\n",
       "      <td>0.000000</td>\n",
       "      <td>0.000000</td>\n",
       "      <td>0.000000</td>\n",
       "      <td>0.000000</td>\n",
       "      <td>0.525424</td>\n",
       "      <td>0.000000</td>\n",
       "      <td>0.000000</td>\n",
       "      <td>0.000000</td>\n",
       "      <td>0.000000</td>\n",
       "    </tr>\n",
       "    <tr>\n",
       "      <th>643689</th>\n",
       "      <td>1827869</td>\n",
       "      <td>2014</td>\n",
       "      <td>2</td>\n",
       "      <td>0</td>\n",
       "      <td>0</td>\n",
       "      <td>1</td>\n",
       "      <td>0</td>\n",
       "      <td>0</td>\n",
       "      <td>1</td>\n",
       "      <td>0</td>\n",
       "      <td>...</td>\n",
       "      <td>0.000000</td>\n",
       "      <td>0.666667</td>\n",
       "      <td>0.666667</td>\n",
       "      <td>0.000000</td>\n",
       "      <td>0.000000</td>\n",
       "      <td>8.950000</td>\n",
       "      <td>1.033333</td>\n",
       "      <td>0.083333</td>\n",
       "      <td>0.083333</td>\n",
       "      <td>8.133333</td>\n",
       "    </tr>\n",
       "  </tbody>\n",
       "</table>\n",
       "<p>643690 rows × 164 columns</p>\n",
       "</div>"
      ],
      "text/plain": [
       "         persnr  year  nrEntry  ltue  employed_before  receipt_leh_before  \\\n",
       "0             7  2015        1     0                1                   0   \n",
       "1            18  2010        1     1                0                   0   \n",
       "2            18  2011        2     0                1                   0   \n",
       "3            18  2012        3     0                1                   0   \n",
       "4            18  2012        4     0                1                   0   \n",
       "...         ...   ...      ...   ...              ...                 ...   \n",
       "643685  1827860  2013        1     0                0                   0   \n",
       "643686  1827860  2015        2     1                0                   0   \n",
       "643687  1827860  2016        3     1                0                   0   \n",
       "643688  1827869  2013        1     1                1                   0   \n",
       "643689  1827869  2014        2     0                0                   1   \n",
       "\n",
       "        receipt_lhg_before  se_before  ASU_notue_seeking_before  \\\n",
       "0                        0          0                         1   \n",
       "1                        0          0                         0   \n",
       "2                        1          0                         1   \n",
       "3                        1          0                         1   \n",
       "4                        1          0                         1   \n",
       "...                    ...        ...                       ...   \n",
       "643685                   1          0                         0   \n",
       "643686                   1          0                         1   \n",
       "643687                   1          1                         0   \n",
       "643688                   0          0                         1   \n",
       "643689                   0          0                         1   \n",
       "\n",
       "        ASU_other_before  ...  minijob_tot_dur_byage  ft_tot_dur_byage  \\\n",
       "0                      0  ...               0.000000          0.000000   \n",
       "1                      0  ...               0.000000          0.000000   \n",
       "2                      0  ...               2.714286          2.714286   \n",
       "3                      0  ...               4.200000          4.200000   \n",
       "4                      0  ...               5.460000          5.460000   \n",
       "...                  ...  ...                    ...               ...   \n",
       "643685                 1  ...               0.000000          0.000000   \n",
       "643686                 0  ...               0.000000          0.000000   \n",
       "643687                 1  ...               0.000000          0.000000   \n",
       "643688                 0  ...               0.000000          0.000000   \n",
       "643689                 0  ...               0.000000          0.666667   \n",
       "\n",
       "        befrist_tot_dur_byage  leih_tot_dur_byage  LHG_tot_dur_byage  \\\n",
       "0                   15.043478            0.000000           0.000000   \n",
       "1                    0.000000            0.000000           0.000000   \n",
       "2                    0.000000            0.000000          10.775510   \n",
       "3                    0.000000            0.000000          12.100000   \n",
       "4                    0.000000            0.000000          13.360000   \n",
       "...                       ...                 ...                ...   \n",
       "643685               0.000000            0.000000           0.612903   \n",
       "643686               0.212121            0.212121          17.363636   \n",
       "643687               0.294118            0.205882          34.705882   \n",
       "643688               0.000000            0.000000           0.000000   \n",
       "643689               0.666667            0.000000           0.000000   \n",
       "\n",
       "        LEH_tot_dur_byage  almp_tot_dur_byage  almp_aw_tot_dur_byage  \\\n",
       "0                0.000000            0.000000               0.000000   \n",
       "1                0.000000            0.000000               0.000000   \n",
       "2                0.000000            8.367347               0.000000   \n",
       "3                0.000000            9.400000               0.000000   \n",
       "4                0.000000           10.320000               0.000000   \n",
       "...                   ...                 ...                    ...   \n",
       "643685           0.000000            0.000000               0.000000   \n",
       "643686           0.000000            8.909091               0.000000   \n",
       "643687           0.000000           10.352941               1.705882   \n",
       "643688           0.525424            0.000000               0.000000   \n",
       "643689           8.950000            1.033333               0.083333   \n",
       "\n",
       "        se_tot_dur_byage  seeking1_tot_dur_byage  \n",
       "0               0.000000                0.000000  \n",
       "1               0.000000                0.000000  \n",
       "2               0.000000                9.836735  \n",
       "3               0.000000                9.960000  \n",
       "4               0.000000               10.280000  \n",
       "...                  ...                     ...  \n",
       "643685          0.000000                0.000000  \n",
       "643686          0.000000                7.121212  \n",
       "643687          1.705882               23.911765  \n",
       "643688          0.000000                0.000000  \n",
       "643689          0.083333                8.133333  \n",
       "\n",
       "[643690 rows x 164 columns]"
      ]
     },
     "execution_count": 10,
     "metadata": {},
     "output_type": "execute_result"
    }
   ],
   "source": [
    "siab"
   ]
  },
  {
   "cell_type": "markdown",
   "id": "1f87e805",
   "metadata": {
    "papermill": {
     "duration": 0.027367,
     "end_time": "2025-08-19T19:08:40.020938",
     "exception": false,
     "start_time": "2025-08-19T19:08:39.993571",
     "status": "completed"
    },
    "tags": []
   },
   "source": [
    "# Splitting Data and Setting Training Data Size"
   ]
  },
  {
   "cell_type": "code",
   "execution_count": 11,
   "id": "910ae358",
   "metadata": {
    "execution": {
     "iopub.execute_input": "2025-08-19T19:08:40.063427Z",
     "iopub.status.busy": "2025-08-19T19:08:40.062449Z",
     "iopub.status.idle": "2025-08-19T19:08:41.122484Z",
     "shell.execute_reply": "2025-08-19T19:08:41.121736Z"
    },
    "papermill": {
     "duration": 1.084421,
     "end_time": "2025-08-19T19:08:41.124642",
     "exception": false,
     "start_time": "2025-08-19T19:08:40.040221",
     "status": "completed"
    },
    "tags": []
   },
   "outputs": [],
   "source": [
    "from fairness_multiverse.universe import sample_by_year_size\n",
    "\n",
    "siab_train = sample_by_year_size(siab,\n",
    "                               training_year=universe[\"training_year\"],\n",
    "                               training_size=universe[\"training_size\"])"
   ]
  },
  {
   "cell_type": "code",
   "execution_count": 12,
   "id": "919c8ff5",
   "metadata": {
    "execution": {
     "iopub.execute_input": "2025-08-19T19:08:41.158162Z",
     "iopub.status.busy": "2025-08-19T19:08:41.157341Z",
     "iopub.status.idle": "2025-08-19T19:08:41.167873Z",
     "shell.execute_reply": "2025-08-19T19:08:41.166412Z"
    },
    "papermill": {
     "duration": 0.032135,
     "end_time": "2025-08-19T19:08:41.170441",
     "exception": false,
     "start_time": "2025-08-19T19:08:41.138306",
     "status": "completed"
    },
    "tags": []
   },
   "outputs": [
    {
     "data": {
      "text/plain": [
       "(1000, 164)"
      ]
     },
     "execution_count": 12,
     "metadata": {},
     "output_type": "execute_result"
    }
   ],
   "source": [
    "siab_train.shape"
   ]
  },
  {
   "cell_type": "code",
   "execution_count": 13,
   "id": "feb13bf4",
   "metadata": {
    "execution": {
     "iopub.execute_input": "2025-08-19T19:08:41.204995Z",
     "iopub.status.busy": "2025-08-19T19:08:41.201163Z",
     "iopub.status.idle": "2025-08-19T19:08:41.237675Z",
     "shell.execute_reply": "2025-08-19T19:08:41.236676Z"
    },
    "papermill": {
     "duration": 0.056078,
     "end_time": "2025-08-19T19:08:41.239274",
     "exception": false,
     "start_time": "2025-08-19T19:08:41.183196",
     "status": "completed"
    },
    "tags": []
   },
   "outputs": [
    {
     "data": {
      "text/plain": [
       "year\n",
       "2010    200\n",
       "2011    200\n",
       "2012    200\n",
       "2013    200\n",
       "2014    200\n",
       "dtype: int64"
      ]
     },
     "metadata": {},
     "output_type": "display_data"
    }
   ],
   "source": [
    "display(siab_train.groupby(\"year\").size())"
   ]
  },
  {
   "cell_type": "code",
   "execution_count": 14,
   "id": "0997782f",
   "metadata": {
    "execution": {
     "iopub.execute_input": "2025-08-19T19:08:41.278907Z",
     "iopub.status.busy": "2025-08-19T19:08:41.274674Z",
     "iopub.status.idle": "2025-08-19T19:08:41.575419Z",
     "shell.execute_reply": "2025-08-19T19:08:41.574620Z"
    },
    "papermill": {
     "duration": 0.324809,
     "end_time": "2025-08-19T19:08:41.577185",
     "exception": false,
     "start_time": "2025-08-19T19:08:41.252376",
     "status": "completed"
    },
    "tags": []
   },
   "outputs": [],
   "source": [
    "#siab_train = siab_s[siab_s.year < 2015]\n",
    "siab_calib = siab[siab.year == 2015]\n",
    "siab_test = siab[siab.year == 2016]"
   ]
  },
  {
   "cell_type": "code",
   "execution_count": 15,
   "id": "2c1e4012",
   "metadata": {
    "execution": {
     "iopub.execute_input": "2025-08-19T19:08:41.602512Z",
     "iopub.status.busy": "2025-08-19T19:08:41.601401Z",
     "iopub.status.idle": "2025-08-19T19:08:41.611785Z",
     "shell.execute_reply": "2025-08-19T19:08:41.608942Z"
    },
    "papermill": {
     "duration": 0.026158,
     "end_time": "2025-08-19T19:08:41.614368",
     "exception": false,
     "start_time": "2025-08-19T19:08:41.588210",
     "status": "completed"
    },
    "tags": []
   },
   "outputs": [],
   "source": [
    "#siab_calib.shape"
   ]
  },
  {
   "cell_type": "code",
   "execution_count": 16,
   "id": "f66b54ca",
   "metadata": {
    "execution": {
     "iopub.execute_input": "2025-08-19T19:08:41.671479Z",
     "iopub.status.busy": "2025-08-19T19:08:41.671071Z",
     "iopub.status.idle": "2025-08-19T19:08:41.675197Z",
     "shell.execute_reply": "2025-08-19T19:08:41.674465Z"
    },
    "papermill": {
     "duration": 0.020514,
     "end_time": "2025-08-19T19:08:41.676726",
     "exception": false,
     "start_time": "2025-08-19T19:08:41.656212",
     "status": "completed"
    },
    "tags": []
   },
   "outputs": [],
   "source": [
    "#siab_test.shape"
   ]
  },
  {
   "cell_type": "code",
   "execution_count": 17,
   "id": "27e4384d",
   "metadata": {
    "execution": {
     "iopub.execute_input": "2025-08-19T19:08:41.714139Z",
     "iopub.status.busy": "2025-08-19T19:08:41.713732Z",
     "iopub.status.idle": "2025-08-19T19:08:41.719637Z",
     "shell.execute_reply": "2025-08-19T19:08:41.718824Z"
    },
    "papermill": {
     "duration": 0.034301,
     "end_time": "2025-08-19T19:08:41.721222",
     "exception": false,
     "start_time": "2025-08-19T19:08:41.686921",
     "status": "completed"
    },
    "tags": []
   },
   "outputs": [],
   "source": [
    "X_train = siab_train.iloc[:,4:164]\n",
    "y_train = siab_train.iloc[:, [3]]"
   ]
  },
  {
   "cell_type": "code",
   "execution_count": 18,
   "id": "08ee8389",
   "metadata": {
    "execution": {
     "iopub.execute_input": "2025-08-19T19:08:41.744583Z",
     "iopub.status.busy": "2025-08-19T19:08:41.744179Z",
     "iopub.status.idle": "2025-08-19T19:08:41.799059Z",
     "shell.execute_reply": "2025-08-19T19:08:41.798269Z"
    },
    "papermill": {
     "duration": 0.067752,
     "end_time": "2025-08-19T19:08:41.800607",
     "exception": false,
     "start_time": "2025-08-19T19:08:41.732855",
     "status": "completed"
    },
    "tags": []
   },
   "outputs": [],
   "source": [
    "X_calib = siab_calib.iloc[:,4:164]\n",
    "y_calib = siab_calib.iloc[:, [3]]"
   ]
  },
  {
   "cell_type": "code",
   "execution_count": 19,
   "id": "b7ff42e0",
   "metadata": {
    "execution": {
     "iopub.execute_input": "2025-08-19T19:08:41.823650Z",
     "iopub.status.busy": "2025-08-19T19:08:41.823271Z",
     "iopub.status.idle": "2025-08-19T19:08:41.887251Z",
     "shell.execute_reply": "2025-08-19T19:08:41.886326Z"
    },
    "papermill": {
     "duration": 0.077055,
     "end_time": "2025-08-19T19:08:41.888959",
     "exception": false,
     "start_time": "2025-08-19T19:08:41.811904",
     "status": "completed"
    },
    "tags": []
   },
   "outputs": [],
   "source": [
    "X_test = siab_test.iloc[:,4:164]\n",
    "y_true = siab_test.iloc[:, [3]]"
   ]
  },
  {
   "cell_type": "code",
   "execution_count": 20,
   "id": "0275101e",
   "metadata": {
    "execution": {
     "iopub.execute_input": "2025-08-19T19:08:41.913179Z",
     "iopub.status.busy": "2025-08-19T19:08:41.912638Z",
     "iopub.status.idle": "2025-08-19T19:08:42.019916Z",
     "shell.execute_reply": "2025-08-19T19:08:42.019119Z"
    },
    "papermill": {
     "duration": 0.120368,
     "end_time": "2025-08-19T19:08:42.021705",
     "exception": false,
     "start_time": "2025-08-19T19:08:41.901337",
     "status": "completed"
    },
    "tags": []
   },
   "outputs": [],
   "source": [
    "# Auxiliary data needed downstream in the pipeline\n",
    "\n",
    "org_train = X_train.copy()\n",
    "org_test = X_test.copy()\n",
    "org_calib = X_calib.copy()"
   ]
  },
  {
   "cell_type": "markdown",
   "id": "b461e618",
   "metadata": {
    "papermill": {
     "duration": 0.010138,
     "end_time": "2025-08-19T19:08:42.042352",
     "exception": false,
     "start_time": "2025-08-19T19:08:42.032214",
     "status": "completed"
    },
    "tags": []
   },
   "source": [
    "# Preprocessing Data"
   ]
  },
  {
   "cell_type": "code",
   "execution_count": 21,
   "id": "78e74c4b",
   "metadata": {
    "execution": {
     "iopub.execute_input": "2025-08-19T19:08:42.064205Z",
     "iopub.status.busy": "2025-08-19T19:08:42.063786Z",
     "iopub.status.idle": "2025-08-19T19:08:42.068461Z",
     "shell.execute_reply": "2025-08-19T19:08:42.067766Z"
    },
    "papermill": {
     "duration": 0.019478,
     "end_time": "2025-08-19T19:08:42.071979",
     "exception": false,
     "start_time": "2025-08-19T19:08:42.052501",
     "status": "completed"
    },
    "tags": []
   },
   "outputs": [],
   "source": [
    "# EXCLUDE PROTECTED FEATURES\n",
    "# --------------------------\n",
    "\n",
    "excluded_features = universe[\"exclude_features\"].split(\"-\")\n",
    "excluded_features_dictionary = {\n",
    "    \"nationality\": [\"maxdeutsch1\", \"maxdeutsch.Missing.\"],\n",
    "    \"sex\": [\"frau1\"],\n",
    "    \"age\": [\"age\"],\n",
    "}"
   ]
  },
  {
   "cell_type": "code",
   "execution_count": 22,
   "id": "f8e63555",
   "metadata": {
    "execution": {
     "iopub.execute_input": "2025-08-19T19:08:42.107205Z",
     "iopub.status.busy": "2025-08-19T19:08:42.106188Z",
     "iopub.status.idle": "2025-08-19T19:08:42.113660Z",
     "shell.execute_reply": "2025-08-19T19:08:42.112426Z"
    },
    "papermill": {
     "duration": 0.02221,
     "end_time": "2025-08-19T19:08:42.115124",
     "exception": false,
     "start_time": "2025-08-19T19:08:42.092914",
     "status": "completed"
    },
    "tags": []
   },
   "outputs": [],
   "source": [
    "excluded_features_columns = [\n",
    "    excluded_features_dictionary[f] for f in excluded_features if len(f) > 0 and f != \"none\"\n",
    "]"
   ]
  },
  {
   "cell_type": "code",
   "execution_count": 23,
   "id": "da781f7c",
   "metadata": {
    "execution": {
     "iopub.execute_input": "2025-08-19T19:08:42.141146Z",
     "iopub.status.busy": "2025-08-19T19:08:42.140023Z",
     "iopub.status.idle": "2025-08-19T19:08:42.147237Z",
     "shell.execute_reply": "2025-08-19T19:08:42.146040Z"
    },
    "papermill": {
     "duration": 0.021232,
     "end_time": "2025-08-19T19:08:42.148824",
     "exception": false,
     "start_time": "2025-08-19T19:08:42.127592",
     "status": "completed"
    },
    "tags": []
   },
   "outputs": [],
   "source": [
    "from fairness_multiverse.universe import flatten_once\n",
    "\n",
    "excluded_features_columns = flatten_once(excluded_features_columns)"
   ]
  },
  {
   "cell_type": "code",
   "execution_count": 24,
   "id": "37fef0f0",
   "metadata": {
    "execution": {
     "iopub.execute_input": "2025-08-19T19:08:42.182877Z",
     "iopub.status.busy": "2025-08-19T19:08:42.181816Z",
     "iopub.status.idle": "2025-08-19T19:08:42.192880Z",
     "shell.execute_reply": "2025-08-19T19:08:42.191746Z"
    },
    "papermill": {
     "duration": 0.030277,
     "end_time": "2025-08-19T19:08:42.195302",
     "exception": false,
     "start_time": "2025-08-19T19:08:42.165025",
     "status": "completed"
    },
    "tags": []
   },
   "outputs": [
    {
     "name": "stdout",
     "output_type": "stream",
     "text": [
      "Dropping features: ['age']\n"
     ]
    }
   ],
   "source": [
    "if len(excluded_features_columns) > 0:\n",
    "    print(f\"Dropping features: {excluded_features_columns}\")\n",
    "    X_train.drop(excluded_features_columns, axis=1, inplace=True)"
   ]
  },
  {
   "cell_type": "code",
   "execution_count": 25,
   "id": "d029e3e9",
   "metadata": {
    "execution": {
     "iopub.execute_input": "2025-08-19T19:08:42.237167Z",
     "iopub.status.busy": "2025-08-19T19:08:42.236016Z",
     "iopub.status.idle": "2025-08-19T19:08:42.295272Z",
     "shell.execute_reply": "2025-08-19T19:08:42.294493Z"
    },
    "papermill": {
     "duration": 0.08469,
     "end_time": "2025-08-19T19:08:42.296759",
     "exception": false,
     "start_time": "2025-08-19T19:08:42.212069",
     "status": "completed"
    },
    "tags": []
   },
   "outputs": [
    {
     "name": "stdout",
     "output_type": "stream",
     "text": [
      "Dropping features: ['age']\n"
     ]
    }
   ],
   "source": [
    "if len(excluded_features_columns) > 0:\n",
    "    print(f\"Dropping features: {excluded_features_columns}\")\n",
    "    X_test.drop(excluded_features_columns, axis=1, inplace=True)"
   ]
  },
  {
   "cell_type": "code",
   "execution_count": 26,
   "id": "01d571f0",
   "metadata": {
    "execution": {
     "iopub.execute_input": "2025-08-19T19:08:42.325262Z",
     "iopub.status.busy": "2025-08-19T19:08:42.324262Z",
     "iopub.status.idle": "2025-08-19T19:08:42.380062Z",
     "shell.execute_reply": "2025-08-19T19:08:42.379215Z"
    },
    "papermill": {
     "duration": 0.074258,
     "end_time": "2025-08-19T19:08:42.382782",
     "exception": false,
     "start_time": "2025-08-19T19:08:42.308524",
     "status": "completed"
    },
    "tags": []
   },
   "outputs": [
    {
     "name": "stdout",
     "output_type": "stream",
     "text": [
      "Dropping features: ['age']\n"
     ]
    }
   ],
   "source": [
    "if len(excluded_features_columns) > 0:\n",
    "    print(f\"Dropping features: {excluded_features_columns}\")\n",
    "    X_calib.drop(excluded_features_columns, axis=1, inplace=True)"
   ]
  },
  {
   "cell_type": "code",
   "execution_count": 27,
   "id": "3037356e",
   "metadata": {
    "execution": {
     "iopub.execute_input": "2025-08-19T19:08:42.422972Z",
     "iopub.status.busy": "2025-08-19T19:08:42.422566Z",
     "iopub.status.idle": "2025-08-19T19:08:42.615085Z",
     "shell.execute_reply": "2025-08-19T19:08:42.614070Z"
    },
    "papermill": {
     "duration": 0.209479,
     "end_time": "2025-08-19T19:08:42.616862",
     "exception": false,
     "start_time": "2025-08-19T19:08:42.407383",
     "status": "completed"
    },
    "tags": []
   },
   "outputs": [],
   "source": [
    "# EXCLUDE CERTAIN SUBGROUPS\n",
    "# -------------------------\n",
    "\n",
    "mode = universe.get(\"exclude_subgroups\", \"keep-all\") # Defaults to \"keep-all\" if the key is missing."
   ]
  },
  {
   "cell_type": "code",
   "execution_count": 28,
   "id": "9d1e63fd",
   "metadata": {
    "execution": {
     "iopub.execute_input": "2025-08-19T19:08:42.639385Z",
     "iopub.status.busy": "2025-08-19T19:08:42.638993Z",
     "iopub.status.idle": "2025-08-19T19:08:42.645264Z",
     "shell.execute_reply": "2025-08-19T19:08:42.644170Z"
    },
    "papermill": {
     "duration": 0.018942,
     "end_time": "2025-08-19T19:08:42.646525",
     "exception": false,
     "start_time": "2025-08-19T19:08:42.627583",
     "status": "completed"
    },
    "tags": []
   },
   "outputs": [],
   "source": [
    "if mode == \"keep-all\":\n",
    "    keep_mask = pd.Series(True, index=org_train.index)\n",
    "\n",
    "elif mode == \"drop-non-german\":\n",
    "    keep_mask = (org_train[\"maxdeutsch1\"] == 1) & (org_train[\"maxdeutsch.Missing.\"] == 0)\n",
    "\n",
    "else:\n",
    "    raise ValueError(f\"Unsupported mode for exclude_subgroups: {mode}\")"
   ]
  },
  {
   "cell_type": "code",
   "execution_count": 29,
   "id": "d3b65474",
   "metadata": {
    "execution": {
     "iopub.execute_input": "2025-08-19T19:08:42.670953Z",
     "iopub.status.busy": "2025-08-19T19:08:42.670038Z",
     "iopub.status.idle": "2025-08-19T19:08:42.677576Z",
     "shell.execute_reply": "2025-08-19T19:08:42.676596Z"
    },
    "papermill": {
     "duration": 0.021199,
     "end_time": "2025-08-19T19:08:42.679008",
     "exception": false,
     "start_time": "2025-08-19T19:08:42.657809",
     "status": "completed"
    },
    "tags": []
   },
   "outputs": [
    {
     "name": "stdout",
     "output_type": "stream",
     "text": [
      "Dropping 131 rows (13.10%) where mode='drop-non-german'\n"
     ]
    }
   ],
   "source": [
    "n_drop = (~keep_mask).sum() # Calculates how many rows are set to be dropped\n",
    "if n_drop > 0:\n",
    "    pct = n_drop / len(keep_mask) * 100\n",
    "    print(f\"Dropping {n_drop} rows ({pct:.2f}%) where mode='{mode}'\")"
   ]
  },
  {
   "cell_type": "code",
   "execution_count": 30,
   "id": "f44389b3",
   "metadata": {
    "execution": {
     "iopub.execute_input": "2025-08-19T19:08:42.705109Z",
     "iopub.status.busy": "2025-08-19T19:08:42.703913Z",
     "iopub.status.idle": "2025-08-19T19:08:42.712640Z",
     "shell.execute_reply": "2025-08-19T19:08:42.711349Z"
    },
    "papermill": {
     "duration": 0.022548,
     "end_time": "2025-08-19T19:08:42.714038",
     "exception": false,
     "start_time": "2025-08-19T19:08:42.691490",
     "status": "completed"
    },
    "tags": []
   },
   "outputs": [],
   "source": [
    "X_train = X_train[keep_mask]"
   ]
  },
  {
   "cell_type": "code",
   "execution_count": 31,
   "id": "ceca8c2a",
   "metadata": {
    "execution": {
     "iopub.execute_input": "2025-08-19T19:08:42.740819Z",
     "iopub.status.busy": "2025-08-19T19:08:42.739600Z",
     "iopub.status.idle": "2025-08-19T19:08:42.747591Z",
     "shell.execute_reply": "2025-08-19T19:08:42.746430Z"
    },
    "papermill": {
     "duration": 0.021848,
     "end_time": "2025-08-19T19:08:42.749216",
     "exception": false,
     "start_time": "2025-08-19T19:08:42.727368",
     "status": "completed"
    },
    "tags": []
   },
   "outputs": [],
   "source": [
    "y_train = y_train[keep_mask]"
   ]
  },
  {
   "cell_type": "markdown",
   "id": "04d31e2f",
   "metadata": {
    "papermill": {
     "duration": 0.011267,
     "end_time": "2025-08-19T19:08:42.774066",
     "exception": false,
     "start_time": "2025-08-19T19:08:42.762799",
     "status": "completed"
    },
    "tags": []
   },
   "source": [
    "# Model Training"
   ]
  },
  {
   "cell_type": "code",
   "execution_count": 32,
   "id": "db991733",
   "metadata": {
    "execution": {
     "iopub.execute_input": "2025-08-19T19:08:42.798500Z",
     "iopub.status.busy": "2025-08-19T19:08:42.797375Z",
     "iopub.status.idle": "2025-08-19T19:08:42.902790Z",
     "shell.execute_reply": "2025-08-19T19:08:42.902011Z"
    },
    "papermill": {
     "duration": 0.120896,
     "end_time": "2025-08-19T19:08:42.905666",
     "exception": false,
     "start_time": "2025-08-19T19:08:42.784770",
     "status": "completed"
    },
    "tags": []
   },
   "outputs": [],
   "source": [
    "from sklearn.linear_model import LogisticRegression\n",
    "from sklearn.ensemble import GradientBoostingClassifier, RandomForestClassifier\n",
    "\n",
    "if (universe[\"model\"] == \"logreg\"):\n",
    "    model = LogisticRegression() #penalty=\"none\", solver=\"newton-cg\", max_iter=1)\n",
    "elif (universe[\"model\"] == \"penalized_logreg\"):\n",
    "    model = LogisticRegression(penalty=\"l2\", C=0.1) #, solver=\"newton-cg\", max_iter=1)\n",
    "elif (universe[\"model\"] == \"rf\"):\n",
    "    model = RandomForestClassifier() # n_estimators=100, n_jobs=-1\n",
    "elif (universe[\"model\"] == \"gbm\"):\n",
    "    model = GradientBoostingClassifier()\n",
    "elif (universe[\"model\"] == \"elasticnet\"):\n",
    "    model = LogisticRegression(penalty = 'elasticnet', solver = 'saga', l1_ratio = 0.5) # max_iter=5000\n",
    "else:\n",
    "    raise \"Unsupported universe.model\""
   ]
  },
  {
   "cell_type": "code",
   "execution_count": 33,
   "id": "a4b5cd25",
   "metadata": {
    "execution": {
     "iopub.execute_input": "2025-08-19T19:08:42.946672Z",
     "iopub.status.busy": "2025-08-19T19:08:42.945610Z",
     "iopub.status.idle": "2025-08-19T19:08:42.954293Z",
     "shell.execute_reply": "2025-08-19T19:08:42.952987Z"
    },
    "papermill": {
     "duration": 0.024554,
     "end_time": "2025-08-19T19:08:42.955728",
     "exception": false,
     "start_time": "2025-08-19T19:08:42.931174",
     "status": "completed"
    },
    "tags": []
   },
   "outputs": [],
   "source": [
    "from sklearn.pipeline import Pipeline\n",
    "from sklearn.preprocessing import StandardScaler\n",
    "\n",
    "model = Pipeline([\n",
    "    #(\"continuous_processor\", continuous_processor),\n",
    "    #(\"categorical_preprocessor\", categorical_preprocessor),\n",
    "    (\"scale\", StandardScaler() if universe[\"scale\"] == \"scale\" else None), \n",
    "    (\"model\", model),\n",
    "])"
   ]
  },
  {
   "cell_type": "code",
   "execution_count": 34,
   "id": "283a904d",
   "metadata": {
    "execution": {
     "iopub.execute_input": "2025-08-19T19:08:42.982339Z",
     "iopub.status.busy": "2025-08-19T19:08:42.981121Z",
     "iopub.status.idle": "2025-08-19T19:08:43.213547Z",
     "shell.execute_reply": "2025-08-19T19:08:43.212781Z"
    },
    "papermill": {
     "duration": 0.250885,
     "end_time": "2025-08-19T19:08:43.219152",
     "exception": false,
     "start_time": "2025-08-19T19:08:42.968267",
     "status": "completed"
    },
    "tags": []
   },
   "outputs": [
    {
     "name": "stderr",
     "output_type": "stream",
     "text": [
      "/dss/dsshome1/0C/ra93lal2/.local/share/virtualenvs/CMA_Fairness_v2-3j10GkSs/lib/python3.10/site-packages/sklearn/linear_model/_sag.py:350: ConvergenceWarning: The max_iter was reached which means the coef_ did not converge\n",
      "  warnings.warn(\n"
     ]
    },
    {
     "data": {
      "text/html": [
       "<style>#sk-container-id-1 {color: black;background-color: white;}#sk-container-id-1 pre{padding: 0;}#sk-container-id-1 div.sk-toggleable {background-color: white;}#sk-container-id-1 label.sk-toggleable__label {cursor: pointer;display: block;width: 100%;margin-bottom: 0;padding: 0.3em;box-sizing: border-box;text-align: center;}#sk-container-id-1 label.sk-toggleable__label-arrow:before {content: \"▸\";float: left;margin-right: 0.25em;color: #696969;}#sk-container-id-1 label.sk-toggleable__label-arrow:hover:before {color: black;}#sk-container-id-1 div.sk-estimator:hover label.sk-toggleable__label-arrow:before {color: black;}#sk-container-id-1 div.sk-toggleable__content {max-height: 0;max-width: 0;overflow: hidden;text-align: left;background-color: #f0f8ff;}#sk-container-id-1 div.sk-toggleable__content pre {margin: 0.2em;color: black;border-radius: 0.25em;background-color: #f0f8ff;}#sk-container-id-1 input.sk-toggleable__control:checked~div.sk-toggleable__content {max-height: 200px;max-width: 100%;overflow: auto;}#sk-container-id-1 input.sk-toggleable__control:checked~label.sk-toggleable__label-arrow:before {content: \"▾\";}#sk-container-id-1 div.sk-estimator input.sk-toggleable__control:checked~label.sk-toggleable__label {background-color: #d4ebff;}#sk-container-id-1 div.sk-label input.sk-toggleable__control:checked~label.sk-toggleable__label {background-color: #d4ebff;}#sk-container-id-1 input.sk-hidden--visually {border: 0;clip: rect(1px 1px 1px 1px);clip: rect(1px, 1px, 1px, 1px);height: 1px;margin: -1px;overflow: hidden;padding: 0;position: absolute;width: 1px;}#sk-container-id-1 div.sk-estimator {font-family: monospace;background-color: #f0f8ff;border: 1px dotted black;border-radius: 0.25em;box-sizing: border-box;margin-bottom: 0.5em;}#sk-container-id-1 div.sk-estimator:hover {background-color: #d4ebff;}#sk-container-id-1 div.sk-parallel-item::after {content: \"\";width: 100%;border-bottom: 1px solid gray;flex-grow: 1;}#sk-container-id-1 div.sk-label:hover label.sk-toggleable__label {background-color: #d4ebff;}#sk-container-id-1 div.sk-serial::before {content: \"\";position: absolute;border-left: 1px solid gray;box-sizing: border-box;top: 0;bottom: 0;left: 50%;z-index: 0;}#sk-container-id-1 div.sk-serial {display: flex;flex-direction: column;align-items: center;background-color: white;padding-right: 0.2em;padding-left: 0.2em;position: relative;}#sk-container-id-1 div.sk-item {position: relative;z-index: 1;}#sk-container-id-1 div.sk-parallel {display: flex;align-items: stretch;justify-content: center;background-color: white;position: relative;}#sk-container-id-1 div.sk-item::before, #sk-container-id-1 div.sk-parallel-item::before {content: \"\";position: absolute;border-left: 1px solid gray;box-sizing: border-box;top: 0;bottom: 0;left: 50%;z-index: -1;}#sk-container-id-1 div.sk-parallel-item {display: flex;flex-direction: column;z-index: 1;position: relative;background-color: white;}#sk-container-id-1 div.sk-parallel-item:first-child::after {align-self: flex-end;width: 50%;}#sk-container-id-1 div.sk-parallel-item:last-child::after {align-self: flex-start;width: 50%;}#sk-container-id-1 div.sk-parallel-item:only-child::after {width: 0;}#sk-container-id-1 div.sk-dashed-wrapped {border: 1px dashed gray;margin: 0 0.4em 0.5em 0.4em;box-sizing: border-box;padding-bottom: 0.4em;background-color: white;}#sk-container-id-1 div.sk-label label {font-family: monospace;font-weight: bold;display: inline-block;line-height: 1.2em;}#sk-container-id-1 div.sk-label-container {text-align: center;}#sk-container-id-1 div.sk-container {/* jupyter's `normalize.less` sets `[hidden] { display: none; }` but bootstrap.min.css set `[hidden] { display: none !important; }` so we also need the `!important` here to be able to override the default hidden behavior on the sphinx rendered scikit-learn.org. See: https://github.com/scikit-learn/scikit-learn/issues/21755 */display: inline-block !important;position: relative;}#sk-container-id-1 div.sk-text-repr-fallback {display: none;}</style><div id=\"sk-container-id-1\" class=\"sk-top-container\"><div class=\"sk-text-repr-fallback\"><pre>Pipeline(steps=[(&#x27;scale&#x27;, StandardScaler()),\n",
       "                (&#x27;model&#x27;,\n",
       "                 LogisticRegression(l1_ratio=0.5, penalty=&#x27;elasticnet&#x27;,\n",
       "                                    solver=&#x27;saga&#x27;))])</pre><b>In a Jupyter environment, please rerun this cell to show the HTML representation or trust the notebook. <br />On GitHub, the HTML representation is unable to render, please try loading this page with nbviewer.org.</b></div><div class=\"sk-container\" hidden><div class=\"sk-item sk-dashed-wrapped\"><div class=\"sk-label-container\"><div class=\"sk-label sk-toggleable\"><input class=\"sk-toggleable__control sk-hidden--visually\" id=\"sk-estimator-id-1\" type=\"checkbox\" ><label for=\"sk-estimator-id-1\" class=\"sk-toggleable__label sk-toggleable__label-arrow\">Pipeline</label><div class=\"sk-toggleable__content\"><pre>Pipeline(steps=[(&#x27;scale&#x27;, StandardScaler()),\n",
       "                (&#x27;model&#x27;,\n",
       "                 LogisticRegression(l1_ratio=0.5, penalty=&#x27;elasticnet&#x27;,\n",
       "                                    solver=&#x27;saga&#x27;))])</pre></div></div></div><div class=\"sk-serial\"><div class=\"sk-item\"><div class=\"sk-estimator sk-toggleable\"><input class=\"sk-toggleable__control sk-hidden--visually\" id=\"sk-estimator-id-2\" type=\"checkbox\" ><label for=\"sk-estimator-id-2\" class=\"sk-toggleable__label sk-toggleable__label-arrow\">StandardScaler</label><div class=\"sk-toggleable__content\"><pre>StandardScaler()</pre></div></div></div><div class=\"sk-item\"><div class=\"sk-estimator sk-toggleable\"><input class=\"sk-toggleable__control sk-hidden--visually\" id=\"sk-estimator-id-3\" type=\"checkbox\" ><label for=\"sk-estimator-id-3\" class=\"sk-toggleable__label sk-toggleable__label-arrow\">LogisticRegression</label><div class=\"sk-toggleable__content\"><pre>LogisticRegression(l1_ratio=0.5, penalty=&#x27;elasticnet&#x27;, solver=&#x27;saga&#x27;)</pre></div></div></div></div></div></div></div>"
      ],
      "text/plain": [
       "Pipeline(steps=[('scale', StandardScaler()),\n",
       "                ('model',\n",
       "                 LogisticRegression(l1_ratio=0.5, penalty='elasticnet',\n",
       "                                    solver='saga'))])"
      ]
     },
     "execution_count": 34,
     "metadata": {},
     "output_type": "execute_result"
    }
   ],
   "source": [
    "model.fit(X_train, y_train.values.ravel())"
   ]
  },
  {
   "cell_type": "code",
   "execution_count": 35,
   "id": "6e15e313",
   "metadata": {
    "execution": {
     "iopub.execute_input": "2025-08-19T19:08:43.255931Z",
     "iopub.status.busy": "2025-08-19T19:08:43.254568Z",
     "iopub.status.idle": "2025-08-19T19:08:43.450669Z",
     "shell.execute_reply": "2025-08-19T19:08:43.449554Z"
    },
    "papermill": {
     "duration": 0.210754,
     "end_time": "2025-08-19T19:08:43.451917",
     "exception": false,
     "start_time": "2025-08-19T19:08:43.241163",
     "status": "completed"
    },
    "tags": []
   },
   "outputs": [
    {
     "data": {
      "text/plain": [
       "0.8335637052725449"
      ]
     },
     "execution_count": 35,
     "metadata": {},
     "output_type": "execute_result"
    }
   ],
   "source": [
    "from fairness_multiverse.universe import predict_w_threshold\n",
    "\n",
    "probs_test = model.predict_proba(X_test)\n",
    "\n",
    "'''\n",
    "Below code returns a boolean array (or binary 0/1 array depending on how it’s used) where each element \n",
    "is True if the probability of class 1 is greater than or equal to the threshold, and False otherwise.\n",
    "'''\n",
    "y_pred_default = predict_w_threshold(probs_test, 0.5)\n",
    "\n",
    "from sklearn.metrics import accuracy_score\n",
    "\n",
    "# Naive prediction\n",
    "accuracy_score(y_true = y_true, y_pred = y_pred_default)"
   ]
  },
  {
   "cell_type": "code",
   "execution_count": 36,
   "id": "6f14067c",
   "metadata": {
    "execution": {
     "iopub.execute_input": "2025-08-19T19:08:43.490496Z",
     "iopub.status.busy": "2025-08-19T19:08:43.489522Z",
     "iopub.status.idle": "2025-08-19T19:08:43.678864Z",
     "shell.execute_reply": "2025-08-19T19:08:43.677892Z"
    },
    "papermill": {
     "duration": 0.216118,
     "end_time": "2025-08-19T19:08:43.680662",
     "exception": false,
     "start_time": "2025-08-19T19:08:43.464544",
     "status": "completed"
    },
    "tags": []
   },
   "outputs": [
    {
     "data": {
      "text/plain": [
       "array([0, 0, 0, ..., 0, 0, 0])"
      ]
     },
     "execution_count": 36,
     "metadata": {},
     "output_type": "execute_result"
    }
   ],
   "source": [
    "model.predict(X_test)"
   ]
  },
  {
   "cell_type": "markdown",
   "id": "3759920c",
   "metadata": {
    "papermill": {
     "duration": 0.011514,
     "end_time": "2025-08-19T19:08:43.707763",
     "exception": false,
     "start_time": "2025-08-19T19:08:43.696249",
     "status": "completed"
    },
    "tags": []
   },
   "source": [
    "# Conformal Prediction"
   ]
  },
  {
   "cell_type": "code",
   "execution_count": 37,
   "id": "14b27f59",
   "metadata": {
    "execution": {
     "iopub.execute_input": "2025-08-19T19:08:43.731301Z",
     "iopub.status.busy": "2025-08-19T19:08:43.730899Z",
     "iopub.status.idle": "2025-08-19T19:08:43.735034Z",
     "shell.execute_reply": "2025-08-19T19:08:43.734322Z"
    },
    "papermill": {
     "duration": 0.017287,
     "end_time": "2025-08-19T19:08:43.736171",
     "exception": false,
     "start_time": "2025-08-19T19:08:43.718884",
     "status": "completed"
    },
    "tags": []
   },
   "outputs": [],
   "source": [
    "# Miscoverage level for conformal prediction (10% allowed error rate => 90% target coverage)\n",
    "alpha = 0.1"
   ]
  },
  {
   "cell_type": "code",
   "execution_count": 38,
   "id": "59102472",
   "metadata": {
    "execution": {
     "iopub.execute_input": "2025-08-19T19:08:43.759740Z",
     "iopub.status.busy": "2025-08-19T19:08:43.759351Z",
     "iopub.status.idle": "2025-08-19T19:08:43.928315Z",
     "shell.execute_reply": "2025-08-19T19:08:43.927528Z"
    },
    "papermill": {
     "duration": 0.182492,
     "end_time": "2025-08-19T19:08:43.929830",
     "exception": false,
     "start_time": "2025-08-19T19:08:43.747338",
     "status": "completed"
    },
    "tags": []
   },
   "outputs": [],
   "source": [
    "probs_calib = model.predict_proba(X_calib)"
   ]
  },
  {
   "cell_type": "code",
   "execution_count": 39,
   "id": "a792d4dd",
   "metadata": {
    "execution": {
     "iopub.execute_input": "2025-08-19T19:08:43.961640Z",
     "iopub.status.busy": "2025-08-19T19:08:43.957394Z",
     "iopub.status.idle": "2025-08-19T19:08:43.966439Z",
     "shell.execute_reply": "2025-08-19T19:08:43.965584Z"
    },
    "papermill": {
     "duration": 0.027876,
     "end_time": "2025-08-19T19:08:43.969236",
     "exception": false,
     "start_time": "2025-08-19T19:08:43.941360",
     "status": "completed"
    },
    "tags": []
   },
   "outputs": [],
   "source": [
    "y_calib = y_calib.values.ravel().astype(int)"
   ]
  },
  {
   "cell_type": "code",
   "execution_count": 40,
   "id": "650fd033",
   "metadata": {
    "execution": {
     "iopub.execute_input": "2025-08-19T19:08:43.994620Z",
     "iopub.status.busy": "2025-08-19T19:08:43.994215Z",
     "iopub.status.idle": "2025-08-19T19:08:44.000257Z",
     "shell.execute_reply": "2025-08-19T19:08:43.999596Z"
    },
    "papermill": {
     "duration": 0.019777,
     "end_time": "2025-08-19T19:08:44.001586",
     "exception": false,
     "start_time": "2025-08-19T19:08:43.981809",
     "status": "completed"
    },
    "tags": []
   },
   "outputs": [],
   "source": [
    "from fairness_multiverse.conformal import compute_nc_scores\n",
    "\n",
    "# Compute nonconformity scores on calibration set (1 - probability of true class)\n",
    "nc_scores = compute_nc_scores(probs_calib, y_calib)"
   ]
  },
  {
   "cell_type": "code",
   "execution_count": 41,
   "id": "28ada44c",
   "metadata": {
    "execution": {
     "iopub.execute_input": "2025-08-19T19:08:44.025643Z",
     "iopub.status.busy": "2025-08-19T19:08:44.025245Z",
     "iopub.status.idle": "2025-08-19T19:08:44.030510Z",
     "shell.execute_reply": "2025-08-19T19:08:44.029762Z"
    },
    "papermill": {
     "duration": 0.018799,
     "end_time": "2025-08-19T19:08:44.031797",
     "exception": false,
     "start_time": "2025-08-19T19:08:44.012998",
     "status": "completed"
    },
    "tags": []
   },
   "outputs": [],
   "source": [
    "from fairness_multiverse.conformal import find_threshold\n",
    "\n",
    "# Find conformal threshold q_hat for the given alpha (split conformal method)\n",
    "q_hat = find_threshold(nc_scores, alpha)"
   ]
  },
  {
   "cell_type": "code",
   "execution_count": 42,
   "id": "df56469e",
   "metadata": {
    "execution": {
     "iopub.execute_input": "2025-08-19T19:08:44.056853Z",
     "iopub.status.busy": "2025-08-19T19:08:44.056372Z",
     "iopub.status.idle": "2025-08-19T19:08:44.062101Z",
     "shell.execute_reply": "2025-08-19T19:08:44.061379Z"
    },
    "papermill": {
     "duration": 0.020046,
     "end_time": "2025-08-19T19:08:44.063343",
     "exception": false,
     "start_time": "2025-08-19T19:08:44.043297",
     "status": "completed"
    },
    "tags": []
   },
   "outputs": [
    {
     "data": {
      "text/plain": [
       "0.7573610545043631"
      ]
     },
     "execution_count": 42,
     "metadata": {},
     "output_type": "execute_result"
    }
   ],
   "source": [
    "q_hat"
   ]
  },
  {
   "cell_type": "code",
   "execution_count": 43,
   "id": "aa1f5faa",
   "metadata": {
    "execution": {
     "iopub.execute_input": "2025-08-19T19:08:44.087979Z",
     "iopub.status.busy": "2025-08-19T19:08:44.087328Z",
     "iopub.status.idle": "2025-08-19T19:08:44.694806Z",
     "shell.execute_reply": "2025-08-19T19:08:44.693670Z"
    },
    "papermill": {
     "duration": 0.621777,
     "end_time": "2025-08-19T19:08:44.696606",
     "exception": false,
     "start_time": "2025-08-19T19:08:44.074829",
     "status": "completed"
    },
    "tags": []
   },
   "outputs": [],
   "source": [
    "from fairness_multiverse.conformal import predict_conformal_sets\n",
    "\n",
    "# Generate prediction sets for each test example\n",
    "pred_sets = predict_conformal_sets(model, X_test, q_hat)"
   ]
  },
  {
   "cell_type": "code",
   "execution_count": 44,
   "id": "97f67a6b",
   "metadata": {
    "execution": {
     "iopub.execute_input": "2025-08-19T19:08:44.722776Z",
     "iopub.status.busy": "2025-08-19T19:08:44.721721Z",
     "iopub.status.idle": "2025-08-19T19:08:44.731372Z",
     "shell.execute_reply": "2025-08-19T19:08:44.730257Z"
    },
    "papermill": {
     "duration": 0.024505,
     "end_time": "2025-08-19T19:08:44.732990",
     "exception": false,
     "start_time": "2025-08-19T19:08:44.708485",
     "status": "completed"
    },
    "tags": []
   },
   "outputs": [],
   "source": [
    "y_true = y_true.squeeze()"
   ]
  },
  {
   "cell_type": "code",
   "execution_count": 45,
   "id": "e700e9a7",
   "metadata": {
    "execution": {
     "iopub.execute_input": "2025-08-19T19:08:44.761579Z",
     "iopub.status.busy": "2025-08-19T19:08:44.760588Z",
     "iopub.status.idle": "2025-08-19T19:08:45.260161Z",
     "shell.execute_reply": "2025-08-19T19:08:45.259256Z"
    },
    "papermill": {
     "duration": 0.514434,
     "end_time": "2025-08-19T19:08:45.261652",
     "exception": false,
     "start_time": "2025-08-19T19:08:44.747218",
     "status": "completed"
    },
    "tags": []
   },
   "outputs": [],
   "source": [
    "from fairness_multiverse.conformal import evaluate_sets\n",
    "\n",
    "# Evaluate coverage and average set size on test data\n",
    "metrics = evaluate_sets(pred_sets, y_true)"
   ]
  },
  {
   "cell_type": "markdown",
   "id": "efbacec0",
   "metadata": {
    "papermill": {
     "duration": 0.01182,
     "end_time": "2025-08-19T19:08:45.287929",
     "exception": false,
     "start_time": "2025-08-19T19:08:45.276109",
     "status": "completed"
    },
    "tags": []
   },
   "source": [
    "# CP Metrics"
   ]
  },
  {
   "cell_type": "code",
   "execution_count": 46,
   "id": "9de55fb1",
   "metadata": {
    "execution": {
     "iopub.execute_input": "2025-08-19T19:08:45.312913Z",
     "iopub.status.busy": "2025-08-19T19:08:45.312501Z",
     "iopub.status.idle": "2025-08-19T19:08:45.318567Z",
     "shell.execute_reply": "2025-08-19T19:08:45.317841Z"
    },
    "papermill": {
     "duration": 0.020087,
     "end_time": "2025-08-19T19:08:45.319741",
     "exception": false,
     "start_time": "2025-08-19T19:08:45.299654",
     "status": "completed"
    },
    "tags": []
   },
   "outputs": [
    {
     "data": {
      "text/plain": [
       "{'coverage': 0.9104336194404191, 'avg_size': 1.206197748300078}"
      ]
     },
     "execution_count": 46,
     "metadata": {},
     "output_type": "execute_result"
    }
   ],
   "source": [
    "metrics"
   ]
  },
  {
   "cell_type": "code",
   "execution_count": 47,
   "id": "64c340a1",
   "metadata": {
    "execution": {
     "iopub.execute_input": "2025-08-19T19:08:45.345616Z",
     "iopub.status.busy": "2025-08-19T19:08:45.345204Z",
     "iopub.status.idle": "2025-08-19T19:08:45.351374Z",
     "shell.execute_reply": "2025-08-19T19:08:45.350633Z"
    },
    "papermill": {
     "duration": 0.020897,
     "end_time": "2025-08-19T19:08:45.352693",
     "exception": false,
     "start_time": "2025-08-19T19:08:45.331796",
     "status": "completed"
    },
    "tags": []
   },
   "outputs": [],
   "source": [
    "example_universe = universe.copy()\n",
    "universe_training_year = example_universe.get(\"training_year\")\n",
    "universe_training_size = example_universe.get(\"training_size\")\n",
    "universe_scale = example_universe.get(\"scale\")\n",
    "universe_model = example_universe.get(\"model\")\n",
    "universe_exclude_features = example_universe.get(\"exclude_features\")\n",
    "universe_exclude_subgroups = example_universe.get(\"exclude_subgroups\")"
   ]
  },
  {
   "cell_type": "code",
   "execution_count": 48,
   "id": "dbb53cb4",
   "metadata": {
    "execution": {
     "iopub.execute_input": "2025-08-19T19:08:45.387044Z",
     "iopub.status.busy": "2025-08-19T19:08:45.386607Z",
     "iopub.status.idle": "2025-08-19T19:08:45.392265Z",
     "shell.execute_reply": "2025-08-19T19:08:45.391559Z"
    },
    "papermill": {
     "duration": 0.026049,
     "end_time": "2025-08-19T19:08:45.398757",
     "exception": false,
     "start_time": "2025-08-19T19:08:45.372708",
     "status": "completed"
    },
    "tags": []
   },
   "outputs": [],
   "source": [
    "cp_metrics_dict = {\n",
    "    \"universe_id\": [universe_id],\n",
    "    \"universe_training_year\": [universe_training_year],\n",
    "    \"universe_training_size\": [universe_training_size],\n",
    "    \"universe_scale\": [universe_scale],\n",
    "    \"universe_model\": [universe_model],\n",
    "    \"universe_exclude_features\": [universe_exclude_features],\n",
    "    \"universe_exclude_subgroups\": [universe_exclude_subgroups],\n",
    "    \"q_hat\": [q_hat],\n",
    "    \"coverage\": [metrics[\"coverage\"]],\n",
    "    \"avg_size\": [metrics[\"avg_size\"]],\n",
    "}"
   ]
  },
  {
   "cell_type": "code",
   "execution_count": 49,
   "id": "0d70d4b2",
   "metadata": {
    "execution": {
     "iopub.execute_input": "2025-08-19T19:08:45.431594Z",
     "iopub.status.busy": "2025-08-19T19:08:45.430677Z",
     "iopub.status.idle": "2025-08-19T19:08:45.440830Z",
     "shell.execute_reply": "2025-08-19T19:08:45.439917Z"
    },
    "papermill": {
     "duration": 0.02535,
     "end_time": "2025-08-19T19:08:45.442302",
     "exception": false,
     "start_time": "2025-08-19T19:08:45.416952",
     "status": "completed"
    },
    "tags": []
   },
   "outputs": [],
   "source": [
    "cp_metrics_df = pd.DataFrame(cp_metrics_dict)"
   ]
  },
  {
   "cell_type": "code",
   "execution_count": 50,
   "id": "b494403c",
   "metadata": {
    "execution": {
     "iopub.execute_input": "2025-08-19T19:08:45.470824Z",
     "iopub.status.busy": "2025-08-19T19:08:45.470417Z",
     "iopub.status.idle": "2025-08-19T19:08:45.483414Z",
     "shell.execute_reply": "2025-08-19T19:08:45.482638Z"
    },
    "papermill": {
     "duration": 0.027772,
     "end_time": "2025-08-19T19:08:45.484812",
     "exception": false,
     "start_time": "2025-08-19T19:08:45.457040",
     "status": "completed"
    },
    "tags": []
   },
   "outputs": [
    {
     "data": {
      "text/html": [
       "<div>\n",
       "<style scoped>\n",
       "    .dataframe tbody tr th:only-of-type {\n",
       "        vertical-align: middle;\n",
       "    }\n",
       "\n",
       "    .dataframe tbody tr th {\n",
       "        vertical-align: top;\n",
       "    }\n",
       "\n",
       "    .dataframe thead th {\n",
       "        text-align: right;\n",
       "    }\n",
       "</style>\n",
       "<table border=\"1\" class=\"dataframe\">\n",
       "  <thead>\n",
       "    <tr style=\"text-align: right;\">\n",
       "      <th></th>\n",
       "      <th>universe_id</th>\n",
       "      <th>universe_training_year</th>\n",
       "      <th>universe_training_size</th>\n",
       "      <th>universe_scale</th>\n",
       "      <th>universe_model</th>\n",
       "      <th>universe_exclude_features</th>\n",
       "      <th>universe_exclude_subgroups</th>\n",
       "      <th>q_hat</th>\n",
       "      <th>coverage</th>\n",
       "      <th>avg_size</th>\n",
       "    </tr>\n",
       "  </thead>\n",
       "  <tbody>\n",
       "    <tr>\n",
       "      <th>0</th>\n",
       "      <td>a6ecc213a6e51373e086491b750a29cd</td>\n",
       "      <td>2010_14</td>\n",
       "      <td>1k</td>\n",
       "      <td>scale</td>\n",
       "      <td>elasticnet</td>\n",
       "      <td>age</td>\n",
       "      <td>drop-non-german</td>\n",
       "      <td>0.757361</td>\n",
       "      <td>0.910434</td>\n",
       "      <td>1.206198</td>\n",
       "    </tr>\n",
       "  </tbody>\n",
       "</table>\n",
       "</div>"
      ],
      "text/plain": [
       "                        universe_id universe_training_year  \\\n",
       "0  a6ecc213a6e51373e086491b750a29cd                2010_14   \n",
       "\n",
       "  universe_training_size universe_scale universe_model  \\\n",
       "0                     1k          scale     elasticnet   \n",
       "\n",
       "  universe_exclude_features universe_exclude_subgroups     q_hat  coverage  \\\n",
       "0                       age            drop-non-german  0.757361  0.910434   \n",
       "\n",
       "   avg_size  \n",
       "0  1.206198  "
      ]
     },
     "execution_count": 50,
     "metadata": {},
     "output_type": "execute_result"
    }
   ],
   "source": [
    "cp_metrics_df"
   ]
  },
  {
   "cell_type": "markdown",
   "id": "ed608b0b",
   "metadata": {
    "papermill": {
     "duration": 0.012458,
     "end_time": "2025-08-19T19:08:45.512746",
     "exception": false,
     "start_time": "2025-08-19T19:08:45.500288",
     "status": "completed"
    },
    "tags": []
   },
   "source": [
    "Conditional coverage & looking at subgroups"
   ]
  },
  {
   "cell_type": "code",
   "execution_count": 51,
   "id": "8968c366",
   "metadata": {
    "execution": {
     "iopub.execute_input": "2025-08-19T19:08:45.538748Z",
     "iopub.status.busy": "2025-08-19T19:08:45.538336Z",
     "iopub.status.idle": "2025-08-19T19:08:45.832221Z",
     "shell.execute_reply": "2025-08-19T19:08:45.831092Z"
    },
    "papermill": {
     "duration": 0.308776,
     "end_time": "2025-08-19T19:08:45.833778",
     "exception": false,
     "start_time": "2025-08-19T19:08:45.525002",
     "status": "completed"
    },
    "tags": []
   },
   "outputs": [],
   "source": [
    "from fairness_multiverse.conformal import build_cp_groups\n",
    "\n",
    "cp_groups_df = build_cp_groups(pred_sets, y_true, X_test.index, org_test)"
   ]
  },
  {
   "cell_type": "code",
   "execution_count": 52,
   "id": "292ddabf",
   "metadata": {
    "execution": {
     "iopub.execute_input": "2025-08-19T19:08:45.870009Z",
     "iopub.status.busy": "2025-08-19T19:08:45.868112Z",
     "iopub.status.idle": "2025-08-19T19:08:46.722945Z",
     "shell.execute_reply": "2025-08-19T19:08:46.721734Z"
    },
    "papermill": {
     "duration": 0.871071,
     "end_time": "2025-08-19T19:08:46.724567",
     "exception": false,
     "start_time": "2025-08-19T19:08:45.853496",
     "status": "completed"
    },
    "tags": []
   },
   "outputs": [],
   "source": [
    "# Define covered = 1 if true_label is in the predicted set\n",
    "cp_groups_df['covered'] = cp_groups_df.apply(\n",
    "    lambda r: int(r['true_label'] in r['pred_set']),\n",
    "    axis=1\n",
    ")"
   ]
  },
  {
   "cell_type": "code",
   "execution_count": 53,
   "id": "3a261692",
   "metadata": {
    "execution": {
     "iopub.execute_input": "2025-08-19T19:08:46.755179Z",
     "iopub.status.busy": "2025-08-19T19:08:46.754145Z",
     "iopub.status.idle": "2025-08-19T19:08:46.774738Z",
     "shell.execute_reply": "2025-08-19T19:08:46.773772Z"
    },
    "papermill": {
     "duration": 0.041434,
     "end_time": "2025-08-19T19:08:46.781616",
     "exception": false,
     "start_time": "2025-08-19T19:08:46.740182",
     "status": "completed"
    },
    "tags": []
   },
   "outputs": [],
   "source": [
    "subgroups = ['frau1','nongerman','nongerman_male','nongerman_female']\n",
    "\n",
    "# Conditional coverage for subgroup==1\n",
    "cond_coverage = {\n",
    "    g: cp_groups_df.loc[cp_groups_df[g]==1, 'covered'].mean()\n",
    "    for g in subgroups\n",
    "}"
   ]
  },
  {
   "cell_type": "code",
   "execution_count": 54,
   "id": "894fd600",
   "metadata": {
    "execution": {
     "iopub.execute_input": "2025-08-19T19:08:46.833938Z",
     "iopub.status.busy": "2025-08-19T19:08:46.833446Z",
     "iopub.status.idle": "2025-08-19T19:08:46.840072Z",
     "shell.execute_reply": "2025-08-19T19:08:46.839367Z"
    },
    "papermill": {
     "duration": 0.036068,
     "end_time": "2025-08-19T19:08:46.843444",
     "exception": false,
     "start_time": "2025-08-19T19:08:46.807376",
     "status": "completed"
    },
    "tags": []
   },
   "outputs": [
    {
     "data": {
      "text/plain": [
       "{'frau1': 0.9103113627173474,\n",
       " 'nongerman': 0.9097288497164991,\n",
       " 'nongerman_male': 0.9256056921552733,\n",
       " 'nongerman_female': 0.8834575260804769}"
      ]
     },
     "execution_count": 54,
     "metadata": {},
     "output_type": "execute_result"
    }
   ],
   "source": [
    "cond_coverage"
   ]
  },
  {
   "cell_type": "code",
   "execution_count": 55,
   "id": "942895c7",
   "metadata": {
    "execution": {
     "iopub.execute_input": "2025-08-19T19:08:46.904190Z",
     "iopub.status.busy": "2025-08-19T19:08:46.903742Z",
     "iopub.status.idle": "2025-08-19T19:08:46.910586Z",
     "shell.execute_reply": "2025-08-19T19:08:46.909806Z"
    },
    "papermill": {
     "duration": 0.035656,
     "end_time": "2025-08-19T19:08:46.912394",
     "exception": false,
     "start_time": "2025-08-19T19:08:46.876738",
     "status": "completed"
    },
    "tags": []
   },
   "outputs": [],
   "source": [
    "for subgroup, cov in cond_coverage.items():\n",
    "    cp_metrics_df[f\"cov_{subgroup}\"] = cov"
   ]
  },
  {
   "cell_type": "code",
   "execution_count": 56,
   "id": "3970120f",
   "metadata": {
    "execution": {
     "iopub.execute_input": "2025-08-19T19:08:46.939707Z",
     "iopub.status.busy": "2025-08-19T19:08:46.939285Z",
     "iopub.status.idle": "2025-08-19T19:08:46.954043Z",
     "shell.execute_reply": "2025-08-19T19:08:46.953232Z"
    },
    "papermill": {
     "duration": 0.036973,
     "end_time": "2025-08-19T19:08:46.962323",
     "exception": false,
     "start_time": "2025-08-19T19:08:46.925350",
     "status": "completed"
    },
    "tags": []
   },
   "outputs": [
    {
     "data": {
      "text/html": [
       "<div>\n",
       "<style scoped>\n",
       "    .dataframe tbody tr th:only-of-type {\n",
       "        vertical-align: middle;\n",
       "    }\n",
       "\n",
       "    .dataframe tbody tr th {\n",
       "        vertical-align: top;\n",
       "    }\n",
       "\n",
       "    .dataframe thead th {\n",
       "        text-align: right;\n",
       "    }\n",
       "</style>\n",
       "<table border=\"1\" class=\"dataframe\">\n",
       "  <thead>\n",
       "    <tr style=\"text-align: right;\">\n",
       "      <th></th>\n",
       "      <th>universe_id</th>\n",
       "      <th>universe_training_year</th>\n",
       "      <th>universe_training_size</th>\n",
       "      <th>universe_scale</th>\n",
       "      <th>universe_model</th>\n",
       "      <th>universe_exclude_features</th>\n",
       "      <th>universe_exclude_subgroups</th>\n",
       "      <th>q_hat</th>\n",
       "      <th>coverage</th>\n",
       "      <th>avg_size</th>\n",
       "      <th>cov_frau1</th>\n",
       "      <th>cov_nongerman</th>\n",
       "      <th>cov_nongerman_male</th>\n",
       "      <th>cov_nongerman_female</th>\n",
       "    </tr>\n",
       "  </thead>\n",
       "  <tbody>\n",
       "    <tr>\n",
       "      <th>0</th>\n",
       "      <td>a6ecc213a6e51373e086491b750a29cd</td>\n",
       "      <td>2010_14</td>\n",
       "      <td>1k</td>\n",
       "      <td>scale</td>\n",
       "      <td>elasticnet</td>\n",
       "      <td>age</td>\n",
       "      <td>drop-non-german</td>\n",
       "      <td>0.757361</td>\n",
       "      <td>0.910434</td>\n",
       "      <td>1.206198</td>\n",
       "      <td>0.910311</td>\n",
       "      <td>0.909729</td>\n",
       "      <td>0.925606</td>\n",
       "      <td>0.883458</td>\n",
       "    </tr>\n",
       "  </tbody>\n",
       "</table>\n",
       "</div>"
      ],
      "text/plain": [
       "                        universe_id universe_training_year  \\\n",
       "0  a6ecc213a6e51373e086491b750a29cd                2010_14   \n",
       "\n",
       "  universe_training_size universe_scale universe_model  \\\n",
       "0                     1k          scale     elasticnet   \n",
       "\n",
       "  universe_exclude_features universe_exclude_subgroups     q_hat  coverage  \\\n",
       "0                       age            drop-non-german  0.757361  0.910434   \n",
       "\n",
       "   avg_size  cov_frau1  cov_nongerman  cov_nongerman_male  \\\n",
       "0  1.206198   0.910311       0.909729            0.925606   \n",
       "\n",
       "   cov_nongerman_female  \n",
       "0              0.883458  "
      ]
     },
     "execution_count": 56,
     "metadata": {},
     "output_type": "execute_result"
    }
   ],
   "source": [
    "cp_metrics_df"
   ]
  },
  {
   "cell_type": "markdown",
   "id": "3fc519cc",
   "metadata": {
    "papermill": {
     "duration": 0.012917,
     "end_time": "2025-08-19T19:08:46.997448",
     "exception": false,
     "start_time": "2025-08-19T19:08:46.984531",
     "status": "completed"
    },
    "tags": []
   },
   "source": [
    "# (Fairness) Metrics"
   ]
  },
  {
   "cell_type": "code",
   "execution_count": 57,
   "id": "a2e5e155",
   "metadata": {
    "execution": {
     "iopub.execute_input": "2025-08-19T19:08:47.025979Z",
     "iopub.status.busy": "2025-08-19T19:08:47.024377Z",
     "iopub.status.idle": "2025-08-19T19:08:47.054770Z",
     "shell.execute_reply": "2025-08-19T19:08:47.053734Z"
    },
    "papermill": {
     "duration": 0.047208,
     "end_time": "2025-08-19T19:08:47.057120",
     "exception": false,
     "start_time": "2025-08-19T19:08:47.009912",
     "status": "completed"
    },
    "tags": []
   },
   "outputs": [],
   "source": [
    "colname_to_bin = \"maxdeutsch1\"\n",
    "majority_value = org_train[colname_to_bin].mode()[0]\n",
    "\n",
    "org_test[\"majmin\"] = np.where(org_test[colname_to_bin] == majority_value, \"majority\", \"minority\")"
   ]
  },
  {
   "cell_type": "code",
   "execution_count": 58,
   "id": "17e3e4d5",
   "metadata": {
    "execution": {
     "iopub.execute_input": "2025-08-19T19:08:47.098105Z",
     "iopub.status.busy": "2025-08-19T19:08:47.096562Z",
     "iopub.status.idle": "2025-08-19T19:08:48.863628Z",
     "shell.execute_reply": "2025-08-19T19:08:48.862384Z"
    },
    "papermill": {
     "duration": 1.784873,
     "end_time": "2025-08-19T19:08:48.865515",
     "exception": false,
     "start_time": "2025-08-19T19:08:47.080642",
     "status": "completed"
    },
    "tags": []
   },
   "outputs": [],
   "source": [
    "example_universe = universe.copy()\n",
    "example_universe[\"cutoff\"] = example_universe[\"cutoff\"][0]\n",
    "example_universe[\"eval_fairness_grouping\"] = example_universe[\"eval_fairness_grouping\"][0]\n",
    "fairness_dict, metric_frame = universe_analysis.compute_metrics(\n",
    "    example_universe,\n",
    "    y_pred_prob=probs_test,\n",
    "    y_test=y_true,\n",
    "    org_test=org_test,\n",
    ")"
   ]
  },
  {
   "cell_type": "markdown",
   "id": "1fb7a0e9",
   "metadata": {
    "papermill": {
     "duration": 0.012645,
     "end_time": "2025-08-19T19:08:48.894695",
     "exception": false,
     "start_time": "2025-08-19T19:08:48.882050",
     "status": "completed"
    },
    "tags": []
   },
   "source": [
    "# Overall"
   ]
  },
  {
   "cell_type": "markdown",
   "id": "be1784b1",
   "metadata": {
    "papermill": {
     "duration": 0.012386,
     "end_time": "2025-08-19T19:08:48.919369",
     "exception": false,
     "start_time": "2025-08-19T19:08:48.906983",
     "status": "completed"
    },
    "tags": []
   },
   "source": [
    "Main fairness target: Equalized Odds. Seems to be a better fit than equal opportunity, since we're not only interested in Y = 1. Seems to be a better fit than demographic parity, since we also care about accuracy, not just equal distribution of preds.\n",
    "\n",
    "Pick column for computation of fairness metrics\n",
    "\n",
    "Performance\n",
    "Overall performance measures, most interesting in relation to the measures split by group below"
   ]
  },
  {
   "cell_type": "code",
   "execution_count": 59,
   "id": "b7672bee",
   "metadata": {
    "execution": {
     "iopub.execute_input": "2025-08-19T19:08:48.945565Z",
     "iopub.status.busy": "2025-08-19T19:08:48.945110Z",
     "iopub.status.idle": "2025-08-19T19:08:48.953112Z",
     "shell.execute_reply": "2025-08-19T19:08:48.952347Z"
    },
    "papermill": {
     "duration": 0.022736,
     "end_time": "2025-08-19T19:08:48.954363",
     "exception": false,
     "start_time": "2025-08-19T19:08:48.931627",
     "status": "completed"
    },
    "tags": []
   },
   "outputs": [
    {
     "data": {
      "text/plain": [
       "accuracy                   0.218627\n",
       "balanced accuracy          0.535776\n",
       "f1                         0.240116\n",
       "precision                  0.137170\n",
       "false positive rate        0.890821\n",
       "false negative rate        0.037626\n",
       "selection rate             0.900000\n",
       "count                  89710.000000\n",
       "dtype: float64"
      ]
     },
     "execution_count": 59,
     "metadata": {},
     "output_type": "execute_result"
    }
   ],
   "source": [
    "metric_frame.overall"
   ]
  },
  {
   "cell_type": "markdown",
   "id": "d93333c9",
   "metadata": {
    "papermill": {
     "duration": 0.012532,
     "end_time": "2025-08-19T19:08:48.980090",
     "exception": false,
     "start_time": "2025-08-19T19:08:48.967558",
     "status": "completed"
    },
    "tags": []
   },
   "source": [
    "By Group"
   ]
  },
  {
   "cell_type": "code",
   "execution_count": 60,
   "id": "52256966",
   "metadata": {
    "execution": {
     "iopub.execute_input": "2025-08-19T19:08:49.008289Z",
     "iopub.status.busy": "2025-08-19T19:08:49.006919Z",
     "iopub.status.idle": "2025-08-19T19:08:49.039745Z",
     "shell.execute_reply": "2025-08-19T19:08:49.037782Z"
    },
    "papermill": {
     "duration": 0.049645,
     "end_time": "2025-08-19T19:08:49.042170",
     "exception": false,
     "start_time": "2025-08-19T19:08:48.992525",
     "status": "completed"
    },
    "tags": []
   },
   "outputs": [
    {
     "data": {
      "text/html": [
       "<div>\n",
       "<style scoped>\n",
       "    .dataframe tbody tr th:only-of-type {\n",
       "        vertical-align: middle;\n",
       "    }\n",
       "\n",
       "    .dataframe tbody tr th {\n",
       "        vertical-align: top;\n",
       "    }\n",
       "\n",
       "    .dataframe thead th {\n",
       "        text-align: right;\n",
       "    }\n",
       "</style>\n",
       "<table border=\"1\" class=\"dataframe\">\n",
       "  <thead>\n",
       "    <tr style=\"text-align: right;\">\n",
       "      <th></th>\n",
       "      <th>accuracy</th>\n",
       "      <th>balanced accuracy</th>\n",
       "      <th>f1</th>\n",
       "      <th>precision</th>\n",
       "      <th>false positive rate</th>\n",
       "      <th>false negative rate</th>\n",
       "      <th>selection rate</th>\n",
       "      <th>count</th>\n",
       "    </tr>\n",
       "    <tr>\n",
       "      <th>majmin</th>\n",
       "      <th></th>\n",
       "      <th></th>\n",
       "      <th></th>\n",
       "      <th></th>\n",
       "      <th></th>\n",
       "      <th></th>\n",
       "      <th></th>\n",
       "      <th></th>\n",
       "    </tr>\n",
       "  </thead>\n",
       "  <tbody>\n",
       "    <tr>\n",
       "      <th>majority</th>\n",
       "      <td>0.231039</td>\n",
       "      <td>0.539728</td>\n",
       "      <td>0.247946</td>\n",
       "      <td>0.142372</td>\n",
       "      <td>0.879843</td>\n",
       "      <td>0.04070</td>\n",
       "      <td>0.890343</td>\n",
       "      <td>69170.0</td>\n",
       "    </tr>\n",
       "    <tr>\n",
       "      <th>minority</th>\n",
       "      <td>0.176826</td>\n",
       "      <td>0.523577</td>\n",
       "      <td>0.214385</td>\n",
       "      <td>0.120445</td>\n",
       "      <td>0.927086</td>\n",
       "      <td>0.02576</td>\n",
       "      <td>0.932522</td>\n",
       "      <td>20540.0</td>\n",
       "    </tr>\n",
       "  </tbody>\n",
       "</table>\n",
       "</div>"
      ],
      "text/plain": [
       "          accuracy  balanced accuracy        f1  precision  \\\n",
       "majmin                                                       \n",
       "majority  0.231039           0.539728  0.247946   0.142372   \n",
       "minority  0.176826           0.523577  0.214385   0.120445   \n",
       "\n",
       "          false positive rate  false negative rate  selection rate    count  \n",
       "majmin                                                                       \n",
       "majority             0.879843              0.04070        0.890343  69170.0  \n",
       "minority             0.927086              0.02576        0.932522  20540.0  "
      ]
     },
     "execution_count": 60,
     "metadata": {},
     "output_type": "execute_result"
    }
   ],
   "source": [
    "metric_frame.by_group"
   ]
  },
  {
   "cell_type": "code",
   "execution_count": 61,
   "id": "6e6c20ae",
   "metadata": {
    "execution": {
     "iopub.execute_input": "2025-08-19T19:08:49.097534Z",
     "iopub.status.busy": "2025-08-19T19:08:49.096912Z",
     "iopub.status.idle": "2025-08-19T19:08:51.154283Z",
     "shell.execute_reply": "2025-08-19T19:08:51.152578Z"
    },
    "papermill": {
     "duration": 2.082875,
     "end_time": "2025-08-19T19:08:51.156843",
     "exception": false,
     "start_time": "2025-08-19T19:08:49.073968",
     "status": "completed"
    },
    "tags": []
   },
   "outputs": [
    {
     "data": {
      "text/plain": [
       "array([[<Axes: title={'center': 'accuracy'}, xlabel='majmin'>,\n",
       "        <Axes: title={'center': 'balanced accuracy'}, xlabel='majmin'>,\n",
       "        <Axes: title={'center': 'f1'}, xlabel='majmin'>],\n",
       "       [<Axes: title={'center': 'precision'}, xlabel='majmin'>,\n",
       "        <Axes: title={'center': 'false positive rate'}, xlabel='majmin'>,\n",
       "        <Axes: title={'center': 'false negative rate'}, xlabel='majmin'>],\n",
       "       [<Axes: title={'center': 'selection rate'}, xlabel='majmin'>,\n",
       "        <Axes: title={'center': 'count'}, xlabel='majmin'>,\n",
       "        <Axes: xlabel='majmin'>]], dtype=object)"
      ]
     },
     "execution_count": 61,
     "metadata": {},
     "output_type": "execute_result"
    },
    {
     "data": {
      "image/png": "[encoded data removed]",
      "text/plain": [
       "<Figure size 1200x800 with 9 Axes>"
      ]
     },
     "metadata": {},
     "output_type": "display_data"
    }
   ],
   "source": [
    "# In a graphic\n",
    "metric_frame.by_group.plot.bar(\n",
    "    subplots=True,\n",
    "    layout=[3, 3],\n",
    "    legend=False,\n",
    "    figsize=[12, 8],\n",
    "    title=\"Show all metrics\",\n",
    ")"
   ]
  },
  {
   "cell_type": "markdown",
   "id": "b2e433ae",
   "metadata": {
    "papermill": {
     "duration": 0.014333,
     "end_time": "2025-08-19T19:08:51.189756",
     "exception": false,
     "start_time": "2025-08-19T19:08:51.175423",
     "status": "completed"
    },
    "tags": []
   },
   "source": [
    "# Final Output"
   ]
  },
  {
   "cell_type": "code",
   "execution_count": 62,
   "id": "3871301e",
   "metadata": {
    "execution": {
     "iopub.execute_input": "2025-08-19T19:08:51.220688Z",
     "iopub.status.busy": "2025-08-19T19:08:51.219631Z",
     "iopub.status.idle": "2025-08-19T19:08:51.231447Z",
     "shell.execute_reply": "2025-08-19T19:08:51.230666Z"
    },
    "papermill": {
     "duration": 0.029362,
     "end_time": "2025-08-19T19:08:51.233213",
     "exception": false,
     "start_time": "2025-08-19T19:08:51.203851",
     "status": "completed"
    },
    "tags": []
   },
   "outputs": [
    {
     "data": {
      "text/plain": [
       "4"
      ]
     },
     "execution_count": 62,
     "metadata": {},
     "output_type": "execute_result"
    }
   ],
   "source": [
    "sub_universes = universe_analysis.generate_sub_universes()\n",
    "len(sub_universes)"
   ]
  },
  {
   "cell_type": "code",
   "execution_count": 63,
   "id": "d9cfdaca",
   "metadata": {
    "execution": {
     "iopub.execute_input": "2025-08-19T19:08:51.265903Z",
     "iopub.status.busy": "2025-08-19T19:08:51.265407Z",
     "iopub.status.idle": "2025-08-19T19:08:51.286739Z",
     "shell.execute_reply": "2025-08-19T19:08:51.285274Z"
    },
    "papermill": {
     "duration": 0.040878,
     "end_time": "2025-08-19T19:08:51.288900",
     "exception": false,
     "start_time": "2025-08-19T19:08:51.248022",
     "status": "completed"
    },
    "tags": []
   },
   "outputs": [],
   "source": [
    "def filter_sub_universe_data(sub_universe, org_test):\n",
    "    # Keep all rows — no filtering\n",
    "    keep_rows_mask = np.ones(org_test.shape[0], dtype=bool)\n",
    "\n",
    "    print(f\"[INFO] Keeping all rows: {keep_rows_mask.sum()} rows retained.\")\n",
    "    return keep_rows_mask"
   ]
  },
  {
   "cell_type": "code",
   "execution_count": 64,
   "id": "2bc31ac1",
   "metadata": {
    "execution": {
     "iopub.execute_input": "2025-08-19T19:08:51.339562Z",
     "iopub.status.busy": "2025-08-19T19:08:51.339048Z",
     "iopub.status.idle": "2025-08-19T19:08:58.483201Z",
     "shell.execute_reply": "2025-08-19T19:08:58.482222Z"
    },
    "papermill": {
     "duration": 7.168852,
     "end_time": "2025-08-19T19:08:58.484544",
     "exception": false,
     "start_time": "2025-08-19T19:08:51.315692",
     "status": "completed"
    },
    "tags": []
   },
   "outputs": [
    {
     "name": "stdout",
     "output_type": "stream",
     "text": [
      "Stopping execution_time clock.\n",
      "[INFO] Keeping all rows: 89710 rows retained.\n"
     ]
    },
    {
     "name": "stdout",
     "output_type": "stream",
     "text": [
      "[INFO] Keeping all rows: 89710 rows retained.\n"
     ]
    },
    {
     "name": "stdout",
     "output_type": "stream",
     "text": [
      "[INFO] Keeping all rows: 89710 rows retained.\n"
     ]
    },
    {
     "name": "stdout",
     "output_type": "stream",
     "text": [
      "[INFO] Keeping all rows: 89710 rows retained.\n"
     ]
    },
    {
     "data": {
      "text/html": [
       "<div>\n",
       "<style scoped>\n",
       "    .dataframe tbody tr th:only-of-type {\n",
       "        vertical-align: middle;\n",
       "    }\n",
       "\n",
       "    .dataframe tbody tr th {\n",
       "        vertical-align: top;\n",
       "    }\n",
       "\n",
       "    .dataframe thead th {\n",
       "        text-align: right;\n",
       "    }\n",
       "</style>\n",
       "<table border=\"1\" class=\"dataframe\">\n",
       "  <thead>\n",
       "    <tr style=\"text-align: right;\">\n",
       "      <th></th>\n",
       "      <th>run_no</th>\n",
       "      <th>universe_id</th>\n",
       "      <th>universe_settings</th>\n",
       "      <th>execution_time</th>\n",
       "      <th>test_size_n</th>\n",
       "      <th>test_size_frac</th>\n",
       "      <th>fair_main_equalized_odds_difference</th>\n",
       "      <th>fair_main_equalized_odds_ratio</th>\n",
       "      <th>fair_main_demographic_parity_difference</th>\n",
       "      <th>fair_main_demographic_parity_ratio</th>\n",
       "      <th>...</th>\n",
       "      <th>perf_grp_precision_0</th>\n",
       "      <th>perf_grp_precision_1</th>\n",
       "      <th>perf_grp_false positive rate_0</th>\n",
       "      <th>perf_grp_false positive rate_1</th>\n",
       "      <th>perf_grp_false negative rate_0</th>\n",
       "      <th>perf_grp_false negative rate_1</th>\n",
       "      <th>perf_grp_selection rate_0</th>\n",
       "      <th>perf_grp_selection rate_1</th>\n",
       "      <th>perf_grp_count_0</th>\n",
       "      <th>perf_grp_count_1</th>\n",
       "    </tr>\n",
       "  </thead>\n",
       "  <tbody>\n",
       "    <tr>\n",
       "      <th>0</th>\n",
       "      <td>3</td>\n",
       "      <td>a6ecc213a6e51373e086491b750a29cd</td>\n",
       "      <td>{\"cutoff\": \"quantile_0.1\", \"eval_fairness_grou...</td>\n",
       "      <td>21.744823</td>\n",
       "      <td>89710</td>\n",
       "      <td>1.0</td>\n",
       "      <td>0.047242</td>\n",
       "      <td>0.949042</td>\n",
       "      <td>0.042179</td>\n",
       "      <td>0.954769</td>\n",
       "      <td>...</td>\n",
       "      <td>NaN</td>\n",
       "      <td>NaN</td>\n",
       "      <td>NaN</td>\n",
       "      <td>NaN</td>\n",
       "      <td>NaN</td>\n",
       "      <td>NaN</td>\n",
       "      <td>NaN</td>\n",
       "      <td>NaN</td>\n",
       "      <td>NaN</td>\n",
       "      <td>NaN</td>\n",
       "    </tr>\n",
       "    <tr>\n",
       "      <th>0</th>\n",
       "      <td>3</td>\n",
       "      <td>a6ecc213a6e51373e086491b750a29cd</td>\n",
       "      <td>{\"cutoff\": \"quantile_0.1\", \"eval_fairness_grou...</td>\n",
       "      <td>21.744823</td>\n",
       "      <td>89710</td>\n",
       "      <td>1.0</td>\n",
       "      <td>0.047242</td>\n",
       "      <td>0.949042</td>\n",
       "      <td>0.042179</td>\n",
       "      <td>0.954769</td>\n",
       "      <td>...</td>\n",
       "      <td>0.120445</td>\n",
       "      <td>0.142372</td>\n",
       "      <td>0.927086</td>\n",
       "      <td>0.879843</td>\n",
       "      <td>0.025760</td>\n",
       "      <td>0.040700</td>\n",
       "      <td>0.932522</td>\n",
       "      <td>0.890343</td>\n",
       "      <td>20540.0</td>\n",
       "      <td>69170.0</td>\n",
       "    </tr>\n",
       "    <tr>\n",
       "      <th>0</th>\n",
       "      <td>3</td>\n",
       "      <td>a6ecc213a6e51373e086491b750a29cd</td>\n",
       "      <td>{\"cutoff\": \"quantile_0.25\", \"eval_fairness_gro...</td>\n",
       "      <td>21.744823</td>\n",
       "      <td>89710</td>\n",
       "      <td>1.0</td>\n",
       "      <td>0.130174</td>\n",
       "      <td>0.843052</td>\n",
       "      <td>0.117389</td>\n",
       "      <td>0.860335</td>\n",
       "      <td>...</td>\n",
       "      <td>NaN</td>\n",
       "      <td>NaN</td>\n",
       "      <td>NaN</td>\n",
       "      <td>NaN</td>\n",
       "      <td>NaN</td>\n",
       "      <td>NaN</td>\n",
       "      <td>NaN</td>\n",
       "      <td>NaN</td>\n",
       "      <td>NaN</td>\n",
       "      <td>NaN</td>\n",
       "    </tr>\n",
       "    <tr>\n",
       "      <th>0</th>\n",
       "      <td>3</td>\n",
       "      <td>a6ecc213a6e51373e086491b750a29cd</td>\n",
       "      <td>{\"cutoff\": \"quantile_0.25\", \"eval_fairness_gro...</td>\n",
       "      <td>21.744823</td>\n",
       "      <td>89710</td>\n",
       "      <td>1.0</td>\n",
       "      <td>0.130174</td>\n",
       "      <td>0.843052</td>\n",
       "      <td>0.117389</td>\n",
       "      <td>0.860335</td>\n",
       "      <td>...</td>\n",
       "      <td>0.126969</td>\n",
       "      <td>0.160802</td>\n",
       "      <td>0.829408</td>\n",
       "      <td>0.699234</td>\n",
       "      <td>0.074324</td>\n",
       "      <td>0.120022</td>\n",
       "      <td>0.840506</td>\n",
       "      <td>0.723117</td>\n",
       "      <td>20540.0</td>\n",
       "      <td>69170.0</td>\n",
       "    </tr>\n",
       "  </tbody>\n",
       "</table>\n",
       "<p>4 rows × 50 columns</p>\n",
       "</div>"
      ],
      "text/plain": [
       "  run_no                       universe_id  \\\n",
       "0      3  a6ecc213a6e51373e086491b750a29cd   \n",
       "0      3  a6ecc213a6e51373e086491b750a29cd   \n",
       "0      3  a6ecc213a6e51373e086491b750a29cd   \n",
       "0      3  a6ecc213a6e51373e086491b750a29cd   \n",
       "\n",
       "                                   universe_settings  execution_time  \\\n",
       "0  {\"cutoff\": \"quantile_0.1\", \"eval_fairness_grou...       21.744823   \n",
       "0  {\"cutoff\": \"quantile_0.1\", \"eval_fairness_grou...       21.744823   \n",
       "0  {\"cutoff\": \"quantile_0.25\", \"eval_fairness_gro...       21.744823   \n",
       "0  {\"cutoff\": \"quantile_0.25\", \"eval_fairness_gro...       21.744823   \n",
       "\n",
       "   test_size_n  test_size_frac  fair_main_equalized_odds_difference  \\\n",
       "0        89710             1.0                             0.047242   \n",
       "0        89710             1.0                             0.047242   \n",
       "0        89710             1.0                             0.130174   \n",
       "0        89710             1.0                             0.130174   \n",
       "\n",
       "   fair_main_equalized_odds_ratio  fair_main_demographic_parity_difference  \\\n",
       "0                        0.949042                                 0.042179   \n",
       "0                        0.949042                                 0.042179   \n",
       "0                        0.843052                                 0.117389   \n",
       "0                        0.843052                                 0.117389   \n",
       "\n",
       "   fair_main_demographic_parity_ratio  ...  perf_grp_precision_0  \\\n",
       "0                            0.954769  ...                   NaN   \n",
       "0                            0.954769  ...              0.120445   \n",
       "0                            0.860335  ...                   NaN   \n",
       "0                            0.860335  ...              0.126969   \n",
       "\n",
       "   perf_grp_precision_1  perf_grp_false positive rate_0  \\\n",
       "0                   NaN                             NaN   \n",
       "0              0.142372                        0.927086   \n",
       "0                   NaN                             NaN   \n",
       "0              0.160802                        0.829408   \n",
       "\n",
       "   perf_grp_false positive rate_1  perf_grp_false negative rate_0  \\\n",
       "0                             NaN                             NaN   \n",
       "0                        0.879843                        0.025760   \n",
       "0                             NaN                             NaN   \n",
       "0                        0.699234                        0.074324   \n",
       "\n",
       "   perf_grp_false negative rate_1  perf_grp_selection rate_0  \\\n",
       "0                             NaN                        NaN   \n",
       "0                        0.040700                   0.932522   \n",
       "0                             NaN                        NaN   \n",
       "0                        0.120022                   0.840506   \n",
       "\n",
       "   perf_grp_selection rate_1  perf_grp_count_0  perf_grp_count_1  \n",
       "0                        NaN               NaN               NaN  \n",
       "0                   0.890343           20540.0           69170.0  \n",
       "0                        NaN               NaN               NaN  \n",
       "0                   0.723117           20540.0           69170.0  \n",
       "\n",
       "[4 rows x 50 columns]"
      ]
     },
     "execution_count": 64,
     "metadata": {},
     "output_type": "execute_result"
    }
   ],
   "source": [
    "final_output = universe_analysis.generate_final_output(\n",
    "    y_pred_prob=probs_test,\n",
    "    y_test=y_true,\n",
    "    org_test=org_test,\n",
    "    filter_data=filter_sub_universe_data,\n",
    "    cp_metrics_df=cp_metrics_df,\n",
    "    save=True,\n",
    ")\n",
    "final_output"
   ]
  },
  {
   "cell_type": "code",
   "execution_count": null,
   "id": "8b80a1ff",
   "metadata": {
    "papermill": {
     "duration": 0.02401,
     "end_time": "2025-08-19T19:08:58.553787",
     "exception": false,
     "start_time": "2025-08-19T19:08:58.529777",
     "status": "completed"
    },
    "tags": []
   },
   "outputs": [],
   "source": []
  },
  {
   "cell_type": "code",
   "execution_count": null,
   "id": "275c9fad",
   "metadata": {
    "papermill": {
     "duration": 0.01621,
     "end_time": "2025-08-19T19:08:58.586318",
     "exception": false,
     "start_time": "2025-08-19T19:08:58.570108",
     "status": "completed"
    },
    "tags": []
   },
   "outputs": [],
   "source": []
  }
 ],
 "metadata": {
  "celltoolbar": "Tags",
  "kernelspec": {
   "display_name": "Python (CMA Fairness)",
   "language": "python",
   "name": "cma_fair_env"
  },
  "language_info": {
   "codemirror_mode": {
    "name": "ipython",
    "version": 3
   },
   "file_extension": ".py",
   "mimetype": "text/x-python",
   "name": "python",
   "nbconvert_exporter": "python",
   "pygments_lexer": "ipython3",
   "version": "3.10.12"
  },
  "papermill": {
   "default_parameters": {},
   "duration": 32.801799,
   "end_time": "2025-08-19T19:08:59.425574",
   "environment_variables": {},
   "exception": null,
   "input_path": "universe_analysis.ipynb",
   "output_path": "output/runs/3/notebooks/m_3-a6ecc213a6e51373e086491b750a29cd.ipynb",
   "parameters": {
    "output_dir": "output",
    "run_no": "3",
    "seed": "2023",
    "universe": "{\"cutoff\": [\"quantile_0.1\", \"quantile_0.25\"], \"eval_fairness_grouping\": [\"majority-minority\", \"nationality-all\"], \"exclude_features\": \"age\", \"exclude_subgroups\": \"drop-non-german\", \"model\": \"elasticnet\", \"scale\": \"scale\", \"training_size\": \"1k\", \"training_year\": \"2010_14\"}",
    "universe_id": "a6ecc213a6e51373e086491b750a29cd"
   },
   "start_time": "2025-08-19T19:08:26.623775",
   "version": "2.6.0"
  }
 },
 "nbformat": 4,
 "nbformat_minor": 5
}