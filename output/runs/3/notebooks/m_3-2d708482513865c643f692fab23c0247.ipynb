{
 "cells": [
  {
   "cell_type": "markdown",
   "id": "ef23dbb3",
   "metadata": {
    "papermill": {
     "duration": 0.009448,
     "end_time": "2025-08-19T18:45:13.807707",
     "exception": false,
     "start_time": "2025-08-19T18:45:13.798259",
     "status": "completed"
    },
    "tags": []
   },
   "source": [
    "# Setup"
   ]
  },
  {
   "cell_type": "code",
   "execution_count": 1,
   "id": "0bc8e7dc",
   "metadata": {
    "execution": {
     "iopub.execute_input": "2025-08-19T18:45:13.827235Z",
     "iopub.status.busy": "2025-08-19T18:45:13.826750Z",
     "iopub.status.idle": "2025-08-19T18:45:13.837472Z",
     "shell.execute_reply": "2025-08-19T18:45:13.836713Z"
    },
    "papermill": {
     "duration": 0.021861,
     "end_time": "2025-08-19T18:45:13.838618",
     "exception": false,
     "start_time": "2025-08-19T18:45:13.816757",
     "status": "completed"
    },
    "tags": []
   },
   "outputs": [
    {
     "name": "stdout",
     "output_type": "stream",
     "text": [
      "/dss/dsshome1/0C/ra93lal2/cma/CMA_Fairness_v2\n"
     ]
    },
    {
     "name": "stderr",
     "output_type": "stream",
     "text": [
      "/dss/dsshome1/0C/ra93lal2/.local/share/virtualenvs/CMA_Fairness_v2-3j10GkSs/lib/python3.10/site-packages/IPython/core/magics/osm.py:393: UserWarning: This is now an optional IPython functionality, using bookmarks requires you to install the `pickleshare` library.\n",
      "  bkms = self.shell.db.get('bookmarks', {})\n",
      "/dss/dsshome1/0C/ra93lal2/.local/share/virtualenvs/CMA_Fairness_v2-3j10GkSs/lib/python3.10/site-packages/IPython/core/magics/osm.py:417: UserWarning: This is now an optional IPython functionality, setting dhist requires you to install the `pickleshare` library.\n",
      "  self.shell.db['dhist'] = compress_dhist(dhist)[-100:]\n"
     ]
    }
   ],
   "source": [
    "%cd ~/cma/CMA_Fairness_v2"
   ]
  },
  {
   "cell_type": "markdown",
   "id": "9d235661",
   "metadata": {
    "papermill": {
     "duration": 0.01684,
     "end_time": "2025-08-19T18:45:13.867666",
     "exception": false,
     "start_time": "2025-08-19T18:45:13.850826",
     "status": "completed"
    },
    "tags": []
   },
   "source": [
    "The following cell holds the definition of our parameters, these values can be overriden by rendering the with e.g. the following command:\n",
    "\n",
    "papermill -p alpha 0.2 -p ratio 0.3 universe_analysis.ipynb output/test_run.ipynb"
   ]
  },
  {
   "cell_type": "code",
   "execution_count": 2,
   "id": "4a789d8e",
   "metadata": {
    "execution": {
     "iopub.execute_input": "2025-08-19T18:45:13.889555Z",
     "iopub.status.busy": "2025-08-19T18:45:13.889163Z",
     "iopub.status.idle": "2025-08-19T18:45:13.893383Z",
     "shell.execute_reply": "2025-08-19T18:45:13.892594Z"
    },
    "papermill": {
     "duration": 0.015832,
     "end_time": "2025-08-19T18:45:13.894524",
     "exception": false,
     "start_time": "2025-08-19T18:45:13.878692",
     "status": "completed"
    },
    "tags": []
   },
   "outputs": [
    {
     "name": "stdout",
     "output_type": "stream",
     "text": [
      "Current working directory: /dss/dsshome1/0C/ra93lal2/cma/CMA_Fairness_v2\n"
     ]
    }
   ],
   "source": [
    "import os\n",
    "print(\"Current working directory:\", os.getcwd())"
   ]
  },
  {
   "cell_type": "code",
   "execution_count": 3,
   "id": "4132aaed",
   "metadata": {
    "execution": {
     "iopub.execute_input": "2025-08-19T18:45:13.916033Z",
     "iopub.status.busy": "2025-08-19T18:45:13.915780Z",
     "iopub.status.idle": "2025-08-19T18:45:13.920326Z",
     "shell.execute_reply": "2025-08-19T18:45:13.919595Z"
    },
    "papermill": {
     "duration": 0.0174,
     "end_time": "2025-08-19T18:45:13.921568",
     "exception": false,
     "start_time": "2025-08-19T18:45:13.904168",
     "status": "completed"
    },
    "tags": [
     "parameters"
    ]
   },
   "outputs": [],
   "source": [
    "run_no = 0\n",
    "universe_id = \"test\"\n",
    "universe = {\n",
    "    \"training_size\": \"5k\", # \"25k\", \"5k\", \"1k\"\n",
    "    \"training_year\": \"2012_14\", # \"2014\", \"2012_14\", \"2010_14\"\n",
    "    \"scale\": \"scale\", # \"scale\", \"do-not-scale\",\n",
    "    \"model\": \"elasticnet\", # \"logreg\", \"penalized_logreg\", \"rf\", \"gbm\", \"elasticnet\"\n",
    "    \"cutoff\": [\"quantile_0.15\", \"quantile_0.30\"],\n",
    "    \"exclude_features\": \"age\", # \"none\", \"nationality\", \"sex\", \"nationality-sex\", \"age\"\n",
    "    \"exclude_subgroups\": \"drop-non-german\", # \"keep-all\", \"drop-non-german\"\n",
    "    \"eval_fairness_grouping\": [\"majority-minority\", \"nationality-all\"]\n",
    "}\n",
    "\n",
    "output_dir=\"./output\"\n",
    "seed=0"
   ]
  },
  {
   "cell_type": "code",
   "execution_count": 4,
   "id": "73013434",
   "metadata": {
    "execution": {
     "iopub.execute_input": "2025-08-19T18:45:13.944077Z",
     "iopub.status.busy": "2025-08-19T18:45:13.943782Z",
     "iopub.status.idle": "2025-08-19T18:45:13.954132Z",
     "shell.execute_reply": "2025-08-19T18:45:13.953228Z"
    },
    "papermill": {
     "duration": 0.022979,
     "end_time": "2025-08-19T18:45:13.955701",
     "exception": false,
     "start_time": "2025-08-19T18:45:13.932722",
     "status": "completed"
    },
    "tags": [
     "injected-parameters"
    ]
   },
   "outputs": [],
   "source": [
    "# Parameters\n",
    "universe_id = \"2d708482513865c643f692fab23c0247\"\n",
    "run_no = \"3\"\n",
    "universe = \"{\\\"cutoff\\\": [\\\"quantile_0.1\\\", \\\"quantile_0.25\\\"], \\\"eval_fairness_grouping\\\": [\\\"majority-minority\\\", \\\"nationality-all\\\"], \\\"exclude_features\\\": \\\"none\\\", \\\"exclude_subgroups\\\": \\\"drop-non-german\\\", \\\"model\\\": \\\"penalized_logreg\\\", \\\"scale\\\": \\\"do-not-scale\\\", \\\"training_size\\\": \\\"5k\\\", \\\"training_year\\\": \\\"2010_14\\\"}\"\n",
    "output_dir = \"output\"\n",
    "seed = \"2023\"\n"
   ]
  },
  {
   "cell_type": "code",
   "execution_count": 5,
   "id": "a5d7941f",
   "metadata": {
    "execution": {
     "iopub.execute_input": "2025-08-19T18:45:13.983303Z",
     "iopub.status.busy": "2025-08-19T18:45:13.982410Z",
     "iopub.status.idle": "2025-08-19T18:45:13.991449Z",
     "shell.execute_reply": "2025-08-19T18:45:13.989345Z"
    },
    "papermill": {
     "duration": 0.02134,
     "end_time": "2025-08-19T18:45:13.992989",
     "exception": false,
     "start_time": "2025-08-19T18:45:13.971649",
     "status": "completed"
    },
    "tags": []
   },
   "outputs": [],
   "source": [
    "import json\n",
    "if isinstance(universe, str):\n",
    "    universe = json.loads(universe)"
   ]
  },
  {
   "cell_type": "code",
   "execution_count": 6,
   "id": "7076ccb1",
   "metadata": {
    "execution": {
     "iopub.execute_input": "2025-08-19T18:45:14.012239Z",
     "iopub.status.busy": "2025-08-19T18:45:14.011861Z",
     "iopub.status.idle": "2025-08-19T18:45:14.055417Z",
     "shell.execute_reply": "2025-08-19T18:45:14.053224Z"
    },
    "papermill": {
     "duration": 0.059848,
     "end_time": "2025-08-19T18:45:14.061921",
     "exception": false,
     "start_time": "2025-08-19T18:45:14.002073",
     "status": "completed"
    },
    "tags": []
   },
   "outputs": [],
   "source": [
    "# Auto-reload the custom package\n",
    "%load_ext autoreload\n",
    "%autoreload 1\n",
    "%aimport fairness_multiverse"
   ]
  },
  {
   "cell_type": "code",
   "execution_count": 7,
   "id": "94c8eb93",
   "metadata": {
    "execution": {
     "iopub.execute_input": "2025-08-19T18:45:14.096218Z",
     "iopub.status.busy": "2025-08-19T18:45:14.094473Z",
     "iopub.status.idle": "2025-08-19T18:45:15.743362Z",
     "shell.execute_reply": "2025-08-19T18:45:15.742643Z"
    },
    "papermill": {
     "duration": 1.664609,
     "end_time": "2025-08-19T18:45:15.746343",
     "exception": false,
     "start_time": "2025-08-19T18:45:14.081734",
     "status": "completed"
    },
    "tags": []
   },
   "outputs": [],
   "source": [
    "from fairness_multiverse.universe import UniverseAnalysis\n",
    "\n",
    "universe_analysis = UniverseAnalysis(\n",
    "    run_no = run_no,\n",
    "    universe_id = universe_id,\n",
    "    universe = universe,\n",
    "    output_dir=output_dir,\n",
    ")"
   ]
  },
  {
   "cell_type": "code",
   "execution_count": 8,
   "id": "2a6381cf",
   "metadata": {
    "execution": {
     "iopub.execute_input": "2025-08-19T18:45:15.789186Z",
     "iopub.status.busy": "2025-08-19T18:45:15.787866Z",
     "iopub.status.idle": "2025-08-19T18:45:15.800729Z",
     "shell.execute_reply": "2025-08-19T18:45:15.799057Z"
    },
    "papermill": {
     "duration": 0.029861,
     "end_time": "2025-08-19T18:45:15.802747",
     "exception": false,
     "start_time": "2025-08-19T18:45:15.772886",
     "status": "completed"
    },
    "tags": []
   },
   "outputs": [
    {
     "name": "stdout",
     "output_type": "stream",
     "text": [
      "Using Seed: 2023\n"
     ]
    }
   ],
   "source": [
    "import numpy as np\n",
    "parsed_seed = int(seed)\n",
    "np.random.seed(parsed_seed)\n",
    "print(f\"Using Seed: {parsed_seed}\")"
   ]
  },
  {
   "cell_type": "markdown",
   "id": "b6e958b4",
   "metadata": {
    "papermill": {
     "duration": 0.009268,
     "end_time": "2025-08-19T18:45:15.822571",
     "exception": false,
     "start_time": "2025-08-19T18:45:15.813303",
     "status": "completed"
    },
    "tags": []
   },
   "source": [
    "# Loading Data"
   ]
  },
  {
   "cell_type": "code",
   "execution_count": 9,
   "id": "98701482",
   "metadata": {
    "execution": {
     "iopub.execute_input": "2025-08-19T18:45:15.845988Z",
     "iopub.status.busy": "2025-08-19T18:45:15.844383Z",
     "iopub.status.idle": "2025-08-19T18:45:25.776597Z",
     "shell.execute_reply": "2025-08-19T18:45:25.775634Z"
    },
    "papermill": {
     "duration": 9.945971,
     "end_time": "2025-08-19T18:45:25.778031",
     "exception": false,
     "start_time": "2025-08-19T18:45:15.832060",
     "status": "completed"
    },
    "tags": []
   },
   "outputs": [
    {
     "name": "stdout",
     "output_type": "stream",
     "text": [
      "Loading SIAB data from cache: data/siab_cached.csv.gz\n"
     ]
    },
    {
     "name": "stdout",
     "output_type": "stream",
     "text": [
      "(643690, 164)\n"
     ]
    }
   ],
   "source": [
    "from pathlib import Path\n",
    "import pandas as pd\n",
    "\n",
    "# File paths\n",
    "raw_file = Path(\"data/raw/siab.csv\")\n",
    "cache_file = Path(\"data/siab_cached.csv.gz\")\n",
    "\n",
    "# Ensure cache directory exists\n",
    "cache_file.parent.mkdir(parents=True, exist_ok=True)\n",
    "\n",
    "# Load with simple caching\n",
    "if cache_file.exists():\n",
    "    print(f\"Loading SIAB data from cache: {cache_file}\")\n",
    "    siab = pd.read_csv(cache_file, compression='gzip')\n",
    "else:\n",
    "    print(f\"Cache not found. Reading raw SIAB data: {raw_file}\")\n",
    "    siab = pd.read_csv(raw_file)\n",
    "    siab.to_csv(cache_file, index=False, compression='gzip')\n",
    "    print(f\"Cached SIAB data to: {cache_file}\")\n",
    "\n",
    "print(siab.shape)"
   ]
  },
  {
   "cell_type": "code",
   "execution_count": 10,
   "id": "058d2abb",
   "metadata": {
    "execution": {
     "iopub.execute_input": "2025-08-19T18:45:25.803969Z",
     "iopub.status.busy": "2025-08-19T18:45:25.802754Z",
     "iopub.status.idle": "2025-08-19T18:45:25.945909Z",
     "shell.execute_reply": "2025-08-19T18:45:25.945191Z"
    },
    "papermill": {
     "duration": 0.156948,
     "end_time": "2025-08-19T18:45:25.948658",
     "exception": false,
     "start_time": "2025-08-19T18:45:25.791710",
     "status": "completed"
    },
    "tags": []
   },
   "outputs": [
    {
     "data": {
      "text/html": [
       "<div>\n",
       "<style scoped>\n",
       "    .dataframe tbody tr th:only-of-type {\n",
       "        vertical-align: middle;\n",
       "    }\n",
       "\n",
       "    .dataframe tbody tr th {\n",
       "        vertical-align: top;\n",
       "    }\n",
       "\n",
       "    .dataframe thead th {\n",
       "        text-align: right;\n",
       "    }\n",
       "</style>\n",
       "<table border=\"1\" class=\"dataframe\">\n",
       "  <thead>\n",
       "    <tr style=\"text-align: right;\">\n",
       "      <th></th>\n",
       "      <th>persnr</th>\n",
       "      <th>year</th>\n",
       "      <th>nrEntry</th>\n",
       "      <th>ltue</th>\n",
       "      <th>employed_before</th>\n",
       "      <th>receipt_leh_before</th>\n",
       "      <th>receipt_lhg_before</th>\n",
       "      <th>se_before</th>\n",
       "      <th>ASU_notue_seeking_before</th>\n",
       "      <th>ASU_other_before</th>\n",
       "      <th>...</th>\n",
       "      <th>minijob_tot_dur_byage</th>\n",
       "      <th>ft_tot_dur_byage</th>\n",
       "      <th>befrist_tot_dur_byage</th>\n",
       "      <th>leih_tot_dur_byage</th>\n",
       "      <th>LHG_tot_dur_byage</th>\n",
       "      <th>LEH_tot_dur_byage</th>\n",
       "      <th>almp_tot_dur_byage</th>\n",
       "      <th>almp_aw_tot_dur_byage</th>\n",
       "      <th>se_tot_dur_byage</th>\n",
       "      <th>seeking1_tot_dur_byage</th>\n",
       "    </tr>\n",
       "  </thead>\n",
       "  <tbody>\n",
       "    <tr>\n",
       "      <th>0</th>\n",
       "      <td>7</td>\n",
       "      <td>2015</td>\n",
       "      <td>1</td>\n",
       "      <td>0</td>\n",
       "      <td>1</td>\n",
       "      <td>0</td>\n",
       "      <td>0</td>\n",
       "      <td>0</td>\n",
       "      <td>1</td>\n",
       "      <td>0</td>\n",
       "      <td>...</td>\n",
       "      <td>0.000000</td>\n",
       "      <td>0.000000</td>\n",
       "      <td>15.043478</td>\n",
       "      <td>0.000000</td>\n",
       "      <td>0.000000</td>\n",
       "      <td>0.000000</td>\n",
       "      <td>0.000000</td>\n",
       "      <td>0.000000</td>\n",
       "      <td>0.000000</td>\n",
       "      <td>0.000000</td>\n",
       "    </tr>\n",
       "    <tr>\n",
       "      <th>1</th>\n",
       "      <td>18</td>\n",
       "      <td>2010</td>\n",
       "      <td>1</td>\n",
       "      <td>1</td>\n",
       "      <td>0</td>\n",
       "      <td>0</td>\n",
       "      <td>0</td>\n",
       "      <td>0</td>\n",
       "      <td>0</td>\n",
       "      <td>0</td>\n",
       "      <td>...</td>\n",
       "      <td>0.000000</td>\n",
       "      <td>0.000000</td>\n",
       "      <td>0.000000</td>\n",
       "      <td>0.000000</td>\n",
       "      <td>0.000000</td>\n",
       "      <td>0.000000</td>\n",
       "      <td>0.000000</td>\n",
       "      <td>0.000000</td>\n",
       "      <td>0.000000</td>\n",
       "      <td>0.000000</td>\n",
       "    </tr>\n",
       "    <tr>\n",
       "      <th>2</th>\n",
       "      <td>18</td>\n",
       "      <td>2011</td>\n",
       "      <td>2</td>\n",
       "      <td>0</td>\n",
       "      <td>1</td>\n",
       "      <td>0</td>\n",
       "      <td>1</td>\n",
       "      <td>0</td>\n",
       "      <td>1</td>\n",
       "      <td>0</td>\n",
       "      <td>...</td>\n",
       "      <td>2.714286</td>\n",
       "      <td>2.714286</td>\n",
       "      <td>0.000000</td>\n",
       "      <td>0.000000</td>\n",
       "      <td>10.775510</td>\n",
       "      <td>0.000000</td>\n",
       "      <td>8.367347</td>\n",
       "      <td>0.000000</td>\n",
       "      <td>0.000000</td>\n",
       "      <td>9.836735</td>\n",
       "    </tr>\n",
       "    <tr>\n",
       "      <th>3</th>\n",
       "      <td>18</td>\n",
       "      <td>2012</td>\n",
       "      <td>3</td>\n",
       "      <td>0</td>\n",
       "      <td>1</td>\n",
       "      <td>0</td>\n",
       "      <td>1</td>\n",
       "      <td>0</td>\n",
       "      <td>1</td>\n",
       "      <td>0</td>\n",
       "      <td>...</td>\n",
       "      <td>4.200000</td>\n",
       "      <td>4.200000</td>\n",
       "      <td>0.000000</td>\n",
       "      <td>0.000000</td>\n",
       "      <td>12.100000</td>\n",
       "      <td>0.000000</td>\n",
       "      <td>9.400000</td>\n",
       "      <td>0.000000</td>\n",
       "      <td>0.000000</td>\n",
       "      <td>9.960000</td>\n",
       "    </tr>\n",
       "    <tr>\n",
       "      <th>4</th>\n",
       "      <td>18</td>\n",
       "      <td>2012</td>\n",
       "      <td>4</td>\n",
       "      <td>0</td>\n",
       "      <td>1</td>\n",
       "      <td>0</td>\n",
       "      <td>1</td>\n",
       "      <td>0</td>\n",
       "      <td>1</td>\n",
       "      <td>0</td>\n",
       "      <td>...</td>\n",
       "      <td>5.460000</td>\n",
       "      <td>5.460000</td>\n",
       "      <td>0.000000</td>\n",
       "      <td>0.000000</td>\n",
       "      <td>13.360000</td>\n",
       "      <td>0.000000</td>\n",
       "      <td>10.320000</td>\n",
       "      <td>0.000000</td>\n",
       "      <td>0.000000</td>\n",
       "      <td>10.280000</td>\n",
       "    </tr>\n",
       "    <tr>\n",
       "      <th>...</th>\n",
       "      <td>...</td>\n",
       "      <td>...</td>\n",
       "      <td>...</td>\n",
       "      <td>...</td>\n",
       "      <td>...</td>\n",
       "      <td>...</td>\n",
       "      <td>...</td>\n",
       "      <td>...</td>\n",
       "      <td>...</td>\n",
       "      <td>...</td>\n",
       "      <td>...</td>\n",
       "      <td>...</td>\n",
       "      <td>...</td>\n",
       "      <td>...</td>\n",
       "      <td>...</td>\n",
       "      <td>...</td>\n",
       "      <td>...</td>\n",
       "      <td>...</td>\n",
       "      <td>...</td>\n",
       "      <td>...</td>\n",
       "      <td>...</td>\n",
       "    </tr>\n",
       "    <tr>\n",
       "      <th>643685</th>\n",
       "      <td>1827860</td>\n",
       "      <td>2013</td>\n",
       "      <td>1</td>\n",
       "      <td>0</td>\n",
       "      <td>0</td>\n",
       "      <td>0</td>\n",
       "      <td>1</td>\n",
       "      <td>0</td>\n",
       "      <td>0</td>\n",
       "      <td>1</td>\n",
       "      <td>...</td>\n",
       "      <td>0.000000</td>\n",
       "      <td>0.000000</td>\n",
       "      <td>0.000000</td>\n",
       "      <td>0.000000</td>\n",
       "      <td>0.612903</td>\n",
       "      <td>0.000000</td>\n",
       "      <td>0.000000</td>\n",
       "      <td>0.000000</td>\n",
       "      <td>0.000000</td>\n",
       "      <td>0.000000</td>\n",
       "    </tr>\n",
       "    <tr>\n",
       "      <th>643686</th>\n",
       "      <td>1827860</td>\n",
       "      <td>2015</td>\n",
       "      <td>2</td>\n",
       "      <td>1</td>\n",
       "      <td>0</td>\n",
       "      <td>0</td>\n",
       "      <td>1</td>\n",
       "      <td>0</td>\n",
       "      <td>1</td>\n",
       "      <td>0</td>\n",
       "      <td>...</td>\n",
       "      <td>0.000000</td>\n",
       "      <td>0.000000</td>\n",
       "      <td>0.212121</td>\n",
       "      <td>0.212121</td>\n",
       "      <td>17.363636</td>\n",
       "      <td>0.000000</td>\n",
       "      <td>8.909091</td>\n",
       "      <td>0.000000</td>\n",
       "      <td>0.000000</td>\n",
       "      <td>7.121212</td>\n",
       "    </tr>\n",
       "    <tr>\n",
       "      <th>643687</th>\n",
       "      <td>1827860</td>\n",
       "      <td>2016</td>\n",
       "      <td>3</td>\n",
       "      <td>1</td>\n",
       "      <td>0</td>\n",
       "      <td>0</td>\n",
       "      <td>1</td>\n",
       "      <td>1</td>\n",
       "      <td>0</td>\n",
       "      <td>1</td>\n",
       "      <td>...</td>\n",
       "      <td>0.000000</td>\n",
       "      <td>0.000000</td>\n",
       "      <td>0.294118</td>\n",
       "      <td>0.205882</td>\n",
       "      <td>34.705882</td>\n",
       "      <td>0.000000</td>\n",
       "      <td>10.352941</td>\n",
       "      <td>1.705882</td>\n",
       "      <td>1.705882</td>\n",
       "      <td>23.911765</td>\n",
       "    </tr>\n",
       "    <tr>\n",
       "      <th>643688</th>\n",
       "      <td>1827869</td>\n",
       "      <td>2013</td>\n",
       "      <td>1</td>\n",
       "      <td>1</td>\n",
       "      <td>1</td>\n",
       "      <td>0</td>\n",
       "      <td>0</td>\n",
       "      <td>0</td>\n",
       "      <td>1</td>\n",
       "      <td>0</td>\n",
       "      <td>...</td>\n",
       "      <td>0.000000</td>\n",
       "      <td>0.000000</td>\n",
       "      <td>0.000000</td>\n",
       "      <td>0.000000</td>\n",
       "      <td>0.000000</td>\n",
       "      <td>0.525424</td>\n",
       "      <td>0.000000</td>\n",
       "      <td>0.000000</td>\n",
       "      <td>0.000000</td>\n",
       "      <td>0.000000</td>\n",
       "    </tr>\n",
       "    <tr>\n",
       "      <th>643689</th>\n",
       "      <td>1827869</td>\n",
       "      <td>2014</td>\n",
       "      <td>2</td>\n",
       "      <td>0</td>\n",
       "      <td>0</td>\n",
       "      <td>1</td>\n",
       "      <td>0</td>\n",
       "      <td>0</td>\n",
       "      <td>1</td>\n",
       "      <td>0</td>\n",
       "      <td>...</td>\n",
       "      <td>0.000000</td>\n",
       "      <td>0.666667</td>\n",
       "      <td>0.666667</td>\n",
       "      <td>0.000000</td>\n",
       "      <td>0.000000</td>\n",
       "      <td>8.950000</td>\n",
       "      <td>1.033333</td>\n",
       "      <td>0.083333</td>\n",
       "      <td>0.083333</td>\n",
       "      <td>8.133333</td>\n",
       "    </tr>\n",
       "  </tbody>\n",
       "</table>\n",
       "<p>643690 rows × 164 columns</p>\n",
       "</div>"
      ],
      "text/plain": [
       "         persnr  year  nrEntry  ltue  employed_before  receipt_leh_before  \\\n",
       "0             7  2015        1     0                1                   0   \n",
       "1            18  2010        1     1                0                   0   \n",
       "2            18  2011        2     0                1                   0   \n",
       "3            18  2012        3     0                1                   0   \n",
       "4            18  2012        4     0                1                   0   \n",
       "...         ...   ...      ...   ...              ...                 ...   \n",
       "643685  1827860  2013        1     0                0                   0   \n",
       "643686  1827860  2015        2     1                0                   0   \n",
       "643687  1827860  2016        3     1                0                   0   \n",
       "643688  1827869  2013        1     1                1                   0   \n",
       "643689  1827869  2014        2     0                0                   1   \n",
       "\n",
       "        receipt_lhg_before  se_before  ASU_notue_seeking_before  \\\n",
       "0                        0          0                         1   \n",
       "1                        0          0                         0   \n",
       "2                        1          0                         1   \n",
       "3                        1          0                         1   \n",
       "4                        1          0                         1   \n",
       "...                    ...        ...                       ...   \n",
       "643685                   1          0                         0   \n",
       "643686                   1          0                         1   \n",
       "643687                   1          1                         0   \n",
       "643688                   0          0                         1   \n",
       "643689                   0          0                         1   \n",
       "\n",
       "        ASU_other_before  ...  minijob_tot_dur_byage  ft_tot_dur_byage  \\\n",
       "0                      0  ...               0.000000          0.000000   \n",
       "1                      0  ...               0.000000          0.000000   \n",
       "2                      0  ...               2.714286          2.714286   \n",
       "3                      0  ...               4.200000          4.200000   \n",
       "4                      0  ...               5.460000          5.460000   \n",
       "...                  ...  ...                    ...               ...   \n",
       "643685                 1  ...               0.000000          0.000000   \n",
       "643686                 0  ...               0.000000          0.000000   \n",
       "643687                 1  ...               0.000000          0.000000   \n",
       "643688                 0  ...               0.000000          0.000000   \n",
       "643689                 0  ...               0.000000          0.666667   \n",
       "\n",
       "        befrist_tot_dur_byage  leih_tot_dur_byage  LHG_tot_dur_byage  \\\n",
       "0                   15.043478            0.000000           0.000000   \n",
       "1                    0.000000            0.000000           0.000000   \n",
       "2                    0.000000            0.000000          10.775510   \n",
       "3                    0.000000            0.000000          12.100000   \n",
       "4                    0.000000            0.000000          13.360000   \n",
       "...                       ...                 ...                ...   \n",
       "643685               0.000000            0.000000           0.612903   \n",
       "643686               0.212121            0.212121          17.363636   \n",
       "643687               0.294118            0.205882          34.705882   \n",
       "643688               0.000000            0.000000           0.000000   \n",
       "643689               0.666667            0.000000           0.000000   \n",
       "\n",
       "        LEH_tot_dur_byage  almp_tot_dur_byage  almp_aw_tot_dur_byage  \\\n",
       "0                0.000000            0.000000               0.000000   \n",
       "1                0.000000            0.000000               0.000000   \n",
       "2                0.000000            8.367347               0.000000   \n",
       "3                0.000000            9.400000               0.000000   \n",
       "4                0.000000           10.320000               0.000000   \n",
       "...                   ...                 ...                    ...   \n",
       "643685           0.000000            0.000000               0.000000   \n",
       "643686           0.000000            8.909091               0.000000   \n",
       "643687           0.000000           10.352941               1.705882   \n",
       "643688           0.525424            0.000000               0.000000   \n",
       "643689           8.950000            1.033333               0.083333   \n",
       "\n",
       "        se_tot_dur_byage  seeking1_tot_dur_byage  \n",
       "0               0.000000                0.000000  \n",
       "1               0.000000                0.000000  \n",
       "2               0.000000                9.836735  \n",
       "3               0.000000                9.960000  \n",
       "4               0.000000               10.280000  \n",
       "...                  ...                     ...  \n",
       "643685          0.000000                0.000000  \n",
       "643686          0.000000                7.121212  \n",
       "643687          1.705882               23.911765  \n",
       "643688          0.000000                0.000000  \n",
       "643689          0.083333                8.133333  \n",
       "\n",
       "[643690 rows x 164 columns]"
      ]
     },
     "execution_count": 10,
     "metadata": {},
     "output_type": "execute_result"
    }
   ],
   "source": [
    "siab"
   ]
  },
  {
   "cell_type": "markdown",
   "id": "1f87e805",
   "metadata": {
    "papermill": {
     "duration": 0.012237,
     "end_time": "2025-08-19T18:45:25.984612",
     "exception": false,
     "start_time": "2025-08-19T18:45:25.972375",
     "status": "completed"
    },
    "tags": []
   },
   "source": [
    "# Splitting Data and Setting Training Data Size"
   ]
  },
  {
   "cell_type": "code",
   "execution_count": 11,
   "id": "910ae358",
   "metadata": {
    "execution": {
     "iopub.execute_input": "2025-08-19T18:45:26.007136Z",
     "iopub.status.busy": "2025-08-19T18:45:26.005824Z",
     "iopub.status.idle": "2025-08-19T18:45:27.077579Z",
     "shell.execute_reply": "2025-08-19T18:45:27.076902Z"
    },
    "papermill": {
     "duration": 1.084885,
     "end_time": "2025-08-19T18:45:27.079207",
     "exception": false,
     "start_time": "2025-08-19T18:45:25.994322",
     "status": "completed"
    },
    "tags": []
   },
   "outputs": [],
   "source": [
    "from fairness_multiverse.universe import sample_by_year_size\n",
    "\n",
    "siab_train = sample_by_year_size(siab,\n",
    "                               training_year=universe[\"training_year\"],\n",
    "                               training_size=universe[\"training_size\"])"
   ]
  },
  {
   "cell_type": "code",
   "execution_count": 12,
   "id": "919c8ff5",
   "metadata": {
    "execution": {
     "iopub.execute_input": "2025-08-19T18:45:27.106320Z",
     "iopub.status.busy": "2025-08-19T18:45:27.105935Z",
     "iopub.status.idle": "2025-08-19T18:45:27.111080Z",
     "shell.execute_reply": "2025-08-19T18:45:27.110495Z"
    },
    "papermill": {
     "duration": 0.020056,
     "end_time": "2025-08-19T18:45:27.112941",
     "exception": false,
     "start_time": "2025-08-19T18:45:27.092885",
     "status": "completed"
    },
    "tags": []
   },
   "outputs": [
    {
     "data": {
      "text/plain": [
       "(5000, 164)"
      ]
     },
     "execution_count": 12,
     "metadata": {},
     "output_type": "execute_result"
    }
   ],
   "source": [
    "siab_train.shape"
   ]
  },
  {
   "cell_type": "code",
   "execution_count": 13,
   "id": "feb13bf4",
   "metadata": {
    "execution": {
     "iopub.execute_input": "2025-08-19T18:45:27.148940Z",
     "iopub.status.busy": "2025-08-19T18:45:27.148216Z",
     "iopub.status.idle": "2025-08-19T18:45:27.163291Z",
     "shell.execute_reply": "2025-08-19T18:45:27.162080Z"
    },
    "papermill": {
     "duration": 0.029115,
     "end_time": "2025-08-19T18:45:27.164846",
     "exception": false,
     "start_time": "2025-08-19T18:45:27.135731",
     "status": "completed"
    },
    "tags": []
   },
   "outputs": [
    {
     "data": {
      "text/plain": [
       "year\n",
       "2010    1000\n",
       "2011    1000\n",
       "2012    1000\n",
       "2013    1000\n",
       "2014    1000\n",
       "dtype: int64"
      ]
     },
     "metadata": {},
     "output_type": "display_data"
    }
   ],
   "source": [
    "display(siab_train.groupby(\"year\").size())"
   ]
  },
  {
   "cell_type": "code",
   "execution_count": 14,
   "id": "0997782f",
   "metadata": {
    "execution": {
     "iopub.execute_input": "2025-08-19T18:45:27.190076Z",
     "iopub.status.busy": "2025-08-19T18:45:27.188958Z",
     "iopub.status.idle": "2025-08-19T18:45:27.458525Z",
     "shell.execute_reply": "2025-08-19T18:45:27.457870Z"
    },
    "papermill": {
     "duration": 0.282653,
     "end_time": "2025-08-19T18:45:27.459916",
     "exception": false,
     "start_time": "2025-08-19T18:45:27.177263",
     "status": "completed"
    },
    "tags": []
   },
   "outputs": [],
   "source": [
    "#siab_train = siab_s[siab_s.year < 2015]\n",
    "siab_calib = siab[siab.year == 2015]\n",
    "siab_test = siab[siab.year == 2016]"
   ]
  },
  {
   "cell_type": "code",
   "execution_count": 15,
   "id": "2c1e4012",
   "metadata": {
    "execution": {
     "iopub.execute_input": "2025-08-19T18:45:27.493206Z",
     "iopub.status.busy": "2025-08-19T18:45:27.492077Z",
     "iopub.status.idle": "2025-08-19T18:45:27.498679Z",
     "shell.execute_reply": "2025-08-19T18:45:27.497325Z"
    },
    "papermill": {
     "duration": 0.02508,
     "end_time": "2025-08-19T18:45:27.500143",
     "exception": false,
     "start_time": "2025-08-19T18:45:27.475063",
     "status": "completed"
    },
    "tags": []
   },
   "outputs": [],
   "source": [
    "#siab_calib.shape"
   ]
  },
  {
   "cell_type": "code",
   "execution_count": 16,
   "id": "f66b54ca",
   "metadata": {
    "execution": {
     "iopub.execute_input": "2025-08-19T18:45:27.525830Z",
     "iopub.status.busy": "2025-08-19T18:45:27.524229Z",
     "iopub.status.idle": "2025-08-19T18:45:27.532308Z",
     "shell.execute_reply": "2025-08-19T18:45:27.530703Z"
    },
    "papermill": {
     "duration": 0.023151,
     "end_time": "2025-08-19T18:45:27.533916",
     "exception": false,
     "start_time": "2025-08-19T18:45:27.510765",
     "status": "completed"
    },
    "tags": []
   },
   "outputs": [],
   "source": [
    "#siab_test.shape"
   ]
  },
  {
   "cell_type": "code",
   "execution_count": 17,
   "id": "27e4384d",
   "metadata": {
    "execution": {
     "iopub.execute_input": "2025-08-19T18:45:27.568718Z",
     "iopub.status.busy": "2025-08-19T18:45:27.567448Z",
     "iopub.status.idle": "2025-08-19T18:45:27.581180Z",
     "shell.execute_reply": "2025-08-19T18:45:27.579650Z"
    },
    "papermill": {
     "duration": 0.027945,
     "end_time": "2025-08-19T18:45:27.583270",
     "exception": false,
     "start_time": "2025-08-19T18:45:27.555325",
     "status": "completed"
    },
    "tags": []
   },
   "outputs": [],
   "source": [
    "X_train = siab_train.iloc[:,4:164]\n",
    "y_train = siab_train.iloc[:, [3]]"
   ]
  },
  {
   "cell_type": "code",
   "execution_count": 18,
   "id": "08ee8389",
   "metadata": {
    "execution": {
     "iopub.execute_input": "2025-08-19T18:45:27.613410Z",
     "iopub.status.busy": "2025-08-19T18:45:27.611882Z",
     "iopub.status.idle": "2025-08-19T18:45:27.668965Z",
     "shell.execute_reply": "2025-08-19T18:45:27.668279Z"
    },
    "papermill": {
     "duration": 0.073,
     "end_time": "2025-08-19T18:45:27.671696",
     "exception": false,
     "start_time": "2025-08-19T18:45:27.598696",
     "status": "completed"
    },
    "tags": []
   },
   "outputs": [],
   "source": [
    "X_calib = siab_calib.iloc[:,4:164]\n",
    "y_calib = siab_calib.iloc[:, [3]]"
   ]
  },
  {
   "cell_type": "code",
   "execution_count": 19,
   "id": "b7ff42e0",
   "metadata": {
    "execution": {
     "iopub.execute_input": "2025-08-19T18:45:27.742828Z",
     "iopub.status.busy": "2025-08-19T18:45:27.741665Z",
     "iopub.status.idle": "2025-08-19T18:45:27.799023Z",
     "shell.execute_reply": "2025-08-19T18:45:27.798240Z"
    },
    "papermill": {
     "duration": 0.081674,
     "end_time": "2025-08-19T18:45:27.801723",
     "exception": false,
     "start_time": "2025-08-19T18:45:27.720049",
     "status": "completed"
    },
    "tags": []
   },
   "outputs": [],
   "source": [
    "X_test = siab_test.iloc[:,4:164]\n",
    "y_true = siab_test.iloc[:, [3]]"
   ]
  },
  {
   "cell_type": "code",
   "execution_count": 20,
   "id": "0275101e",
   "metadata": {
    "execution": {
     "iopub.execute_input": "2025-08-19T18:45:27.839866Z",
     "iopub.status.busy": "2025-08-19T18:45:27.838807Z",
     "iopub.status.idle": "2025-08-19T18:45:27.947487Z",
     "shell.execute_reply": "2025-08-19T18:45:27.946826Z"
    },
    "papermill": {
     "duration": 0.124042,
     "end_time": "2025-08-19T18:45:27.950284",
     "exception": false,
     "start_time": "2025-08-19T18:45:27.826242",
     "status": "completed"
    },
    "tags": []
   },
   "outputs": [],
   "source": [
    "# Auxiliary data needed downstream in the pipeline\n",
    "\n",
    "org_train = X_train.copy()\n",
    "org_test = X_test.copy()\n",
    "org_calib = X_calib.copy()"
   ]
  },
  {
   "cell_type": "markdown",
   "id": "b461e618",
   "metadata": {
    "papermill": {
     "duration": 0.011531,
     "end_time": "2025-08-19T18:45:27.973498",
     "exception": false,
     "start_time": "2025-08-19T18:45:27.961967",
     "status": "completed"
    },
    "tags": []
   },
   "source": [
    "# Preprocessing Data"
   ]
  },
  {
   "cell_type": "code",
   "execution_count": 21,
   "id": "78e74c4b",
   "metadata": {
    "execution": {
     "iopub.execute_input": "2025-08-19T18:45:27.996708Z",
     "iopub.status.busy": "2025-08-19T18:45:27.995679Z",
     "iopub.status.idle": "2025-08-19T18:45:28.005399Z",
     "shell.execute_reply": "2025-08-19T18:45:28.003738Z"
    },
    "papermill": {
     "duration": 0.02305,
     "end_time": "2025-08-19T18:45:28.007093",
     "exception": false,
     "start_time": "2025-08-19T18:45:27.984043",
     "status": "completed"
    },
    "tags": []
   },
   "outputs": [],
   "source": [
    "# EXCLUDE PROTECTED FEATURES\n",
    "# --------------------------\n",
    "\n",
    "excluded_features = universe[\"exclude_features\"].split(\"-\")\n",
    "excluded_features_dictionary = {\n",
    "    \"nationality\": [\"maxdeutsch1\", \"maxdeutsch.Missing.\"],\n",
    "    \"sex\": [\"frau1\"],\n",
    "    \"age\": [\"age\"],\n",
    "}"
   ]
  },
  {
   "cell_type": "code",
   "execution_count": 22,
   "id": "f8e63555",
   "metadata": {
    "execution": {
     "iopub.execute_input": "2025-08-19T18:45:28.034962Z",
     "iopub.status.busy": "2025-08-19T18:45:28.033957Z",
     "iopub.status.idle": "2025-08-19T18:45:28.043143Z",
     "shell.execute_reply": "2025-08-19T18:45:28.041450Z"
    },
    "papermill": {
     "duration": 0.023734,
     "end_time": "2025-08-19T18:45:28.045111",
     "exception": false,
     "start_time": "2025-08-19T18:45:28.021377",
     "status": "completed"
    },
    "tags": []
   },
   "outputs": [],
   "source": [
    "excluded_features_columns = [\n",
    "    excluded_features_dictionary[f] for f in excluded_features if len(f) > 0 and f != \"none\"\n",
    "]"
   ]
  },
  {
   "cell_type": "code",
   "execution_count": 23,
   "id": "da781f7c",
   "metadata": {
    "execution": {
     "iopub.execute_input": "2025-08-19T18:45:28.073155Z",
     "iopub.status.busy": "2025-08-19T18:45:28.071810Z",
     "iopub.status.idle": "2025-08-19T18:45:28.080807Z",
     "shell.execute_reply": "2025-08-19T18:45:28.079282Z"
    },
    "papermill": {
     "duration": 0.02324,
     "end_time": "2025-08-19T18:45:28.082279",
     "exception": false,
     "start_time": "2025-08-19T18:45:28.059039",
     "status": "completed"
    },
    "tags": []
   },
   "outputs": [],
   "source": [
    "from fairness_multiverse.universe import flatten_once\n",
    "\n",
    "excluded_features_columns = flatten_once(excluded_features_columns)"
   ]
  },
  {
   "cell_type": "code",
   "execution_count": 24,
   "id": "37fef0f0",
   "metadata": {
    "execution": {
     "iopub.execute_input": "2025-08-19T18:45:28.108836Z",
     "iopub.status.busy": "2025-08-19T18:45:28.107494Z",
     "iopub.status.idle": "2025-08-19T18:45:28.117182Z",
     "shell.execute_reply": "2025-08-19T18:45:28.115467Z"
    },
    "papermill": {
     "duration": 0.02335,
     "end_time": "2025-08-19T18:45:28.118929",
     "exception": false,
     "start_time": "2025-08-19T18:45:28.095579",
     "status": "completed"
    },
    "tags": []
   },
   "outputs": [],
   "source": [
    "if len(excluded_features_columns) > 0:\n",
    "    print(f\"Dropping features: {excluded_features_columns}\")\n",
    "    X_train.drop(excluded_features_columns, axis=1, inplace=True)"
   ]
  },
  {
   "cell_type": "code",
   "execution_count": 25,
   "id": "d029e3e9",
   "metadata": {
    "execution": {
     "iopub.execute_input": "2025-08-19T18:45:28.150058Z",
     "iopub.status.busy": "2025-08-19T18:45:28.148884Z",
     "iopub.status.idle": "2025-08-19T18:45:28.158261Z",
     "shell.execute_reply": "2025-08-19T18:45:28.156638Z"
    },
    "papermill": {
     "duration": 0.026752,
     "end_time": "2025-08-19T18:45:28.160094",
     "exception": false,
     "start_time": "2025-08-19T18:45:28.133342",
     "status": "completed"
    },
    "tags": []
   },
   "outputs": [],
   "source": [
    "if len(excluded_features_columns) > 0:\n",
    "    print(f\"Dropping features: {excluded_features_columns}\")\n",
    "    X_test.drop(excluded_features_columns, axis=1, inplace=True)"
   ]
  },
  {
   "cell_type": "code",
   "execution_count": 26,
   "id": "01d571f0",
   "metadata": {
    "execution": {
     "iopub.execute_input": "2025-08-19T18:45:28.188312Z",
     "iopub.status.busy": "2025-08-19T18:45:28.186738Z",
     "iopub.status.idle": "2025-08-19T18:45:28.196166Z",
     "shell.execute_reply": "2025-08-19T18:45:28.194553Z"
    },
    "papermill": {
     "duration": 0.023469,
     "end_time": "2025-08-19T18:45:28.197972",
     "exception": false,
     "start_time": "2025-08-19T18:45:28.174503",
     "status": "completed"
    },
    "tags": []
   },
   "outputs": [],
   "source": [
    "if len(excluded_features_columns) > 0:\n",
    "    print(f\"Dropping features: {excluded_features_columns}\")\n",
    "    X_calib.drop(excluded_features_columns, axis=1, inplace=True)"
   ]
  },
  {
   "cell_type": "code",
   "execution_count": 27,
   "id": "3037356e",
   "metadata": {
    "execution": {
     "iopub.execute_input": "2025-08-19T18:45:28.224952Z",
     "iopub.status.busy": "2025-08-19T18:45:28.223361Z",
     "iopub.status.idle": "2025-08-19T18:45:28.232021Z",
     "shell.execute_reply": "2025-08-19T18:45:28.230423Z"
    },
    "papermill": {
     "duration": 0.022511,
     "end_time": "2025-08-19T18:45:28.233467",
     "exception": false,
     "start_time": "2025-08-19T18:45:28.210956",
     "status": "completed"
    },
    "tags": []
   },
   "outputs": [],
   "source": [
    "# EXCLUDE CERTAIN SUBGROUPS\n",
    "# -------------------------\n",
    "\n",
    "mode = universe.get(\"exclude_subgroups\", \"keep-all\") # Defaults to \"keep-all\" if the key is missing."
   ]
  },
  {
   "cell_type": "code",
   "execution_count": 28,
   "id": "9d1e63fd",
   "metadata": {
    "execution": {
     "iopub.execute_input": "2025-08-19T18:45:28.272432Z",
     "iopub.status.busy": "2025-08-19T18:45:28.270831Z",
     "iopub.status.idle": "2025-08-19T18:45:28.282790Z",
     "shell.execute_reply": "2025-08-19T18:45:28.281607Z"
    },
    "papermill": {
     "duration": 0.028736,
     "end_time": "2025-08-19T18:45:28.284238",
     "exception": false,
     "start_time": "2025-08-19T18:45:28.255502",
     "status": "completed"
    },
    "tags": []
   },
   "outputs": [],
   "source": [
    "if mode == \"keep-all\":\n",
    "    keep_mask = pd.Series(True, index=org_train.index)\n",
    "\n",
    "elif mode == \"drop-non-german\":\n",
    "    keep_mask = (org_train[\"maxdeutsch1\"] == 1) & (org_train[\"maxdeutsch.Missing.\"] == 0)\n",
    "\n",
    "else:\n",
    "    raise ValueError(f\"Unsupported mode for exclude_subgroups: {mode}\")"
   ]
  },
  {
   "cell_type": "code",
   "execution_count": 29,
   "id": "d3b65474",
   "metadata": {
    "execution": {
     "iopub.execute_input": "2025-08-19T18:45:28.313238Z",
     "iopub.status.busy": "2025-08-19T18:45:28.311647Z",
     "iopub.status.idle": "2025-08-19T18:45:28.323729Z",
     "shell.execute_reply": "2025-08-19T18:45:28.322312Z"
    },
    "papermill": {
     "duration": 0.026074,
     "end_time": "2025-08-19T18:45:28.325080",
     "exception": false,
     "start_time": "2025-08-19T18:45:28.299006",
     "status": "completed"
    },
    "tags": []
   },
   "outputs": [
    {
     "name": "stdout",
     "output_type": "stream",
     "text": [
      "Dropping 657 rows (13.14%) where mode='drop-non-german'\n"
     ]
    }
   ],
   "source": [
    "n_drop = (~keep_mask).sum() # Calculates how many rows are set to be dropped\n",
    "if n_drop > 0:\n",
    "    pct = n_drop / len(keep_mask) * 100\n",
    "    print(f\"Dropping {n_drop} rows ({pct:.2f}%) where mode='{mode}'\")"
   ]
  },
  {
   "cell_type": "code",
   "execution_count": 30,
   "id": "f44389b3",
   "metadata": {
    "execution": {
     "iopub.execute_input": "2025-08-19T18:45:28.353673Z",
     "iopub.status.busy": "2025-08-19T18:45:28.352153Z",
     "iopub.status.idle": "2025-08-19T18:45:28.364462Z",
     "shell.execute_reply": "2025-08-19T18:45:28.363293Z"
    },
    "papermill": {
     "duration": 0.026228,
     "end_time": "2025-08-19T18:45:28.365869",
     "exception": false,
     "start_time": "2025-08-19T18:45:28.339641",
     "status": "completed"
    },
    "tags": []
   },
   "outputs": [],
   "source": [
    "X_train = X_train[keep_mask]"
   ]
  },
  {
   "cell_type": "code",
   "execution_count": 31,
   "id": "ceca8c2a",
   "metadata": {
    "execution": {
     "iopub.execute_input": "2025-08-19T18:45:28.393891Z",
     "iopub.status.busy": "2025-08-19T18:45:28.392974Z",
     "iopub.status.idle": "2025-08-19T18:45:28.402187Z",
     "shell.execute_reply": "2025-08-19T18:45:28.400623Z"
    },
    "papermill": {
     "duration": 0.023306,
     "end_time": "2025-08-19T18:45:28.403715",
     "exception": false,
     "start_time": "2025-08-19T18:45:28.380409",
     "status": "completed"
    },
    "tags": []
   },
   "outputs": [],
   "source": [
    "y_train = y_train[keep_mask]"
   ]
  },
  {
   "cell_type": "markdown",
   "id": "04d31e2f",
   "metadata": {
    "papermill": {
     "duration": 0.01102,
     "end_time": "2025-08-19T18:45:28.427813",
     "exception": false,
     "start_time": "2025-08-19T18:45:28.416793",
     "status": "completed"
    },
    "tags": []
   },
   "source": [
    "# Model Training"
   ]
  },
  {
   "cell_type": "code",
   "execution_count": 32,
   "id": "db991733",
   "metadata": {
    "execution": {
     "iopub.execute_input": "2025-08-19T18:45:28.451625Z",
     "iopub.status.busy": "2025-08-19T18:45:28.450688Z",
     "iopub.status.idle": "2025-08-19T18:45:28.554160Z",
     "shell.execute_reply": "2025-08-19T18:45:28.553519Z"
    },
    "papermill": {
     "duration": 0.118329,
     "end_time": "2025-08-19T18:45:28.556927",
     "exception": false,
     "start_time": "2025-08-19T18:45:28.438598",
     "status": "completed"
    },
    "tags": []
   },
   "outputs": [],
   "source": [
    "from sklearn.linear_model import LogisticRegression\n",
    "from sklearn.ensemble import GradientBoostingClassifier, RandomForestClassifier\n",
    "\n",
    "if (universe[\"model\"] == \"logreg\"):\n",
    "    model = LogisticRegression() #penalty=\"none\", solver=\"newton-cg\", max_iter=1)\n",
    "elif (universe[\"model\"] == \"penalized_logreg\"):\n",
    "    model = LogisticRegression(penalty=\"l2\", C=0.1) #, solver=\"newton-cg\", max_iter=1)\n",
    "elif (universe[\"model\"] == \"rf\"):\n",
    "    model = RandomForestClassifier() # n_estimators=100, n_jobs=-1\n",
    "elif (universe[\"model\"] == \"gbm\"):\n",
    "    model = GradientBoostingClassifier()\n",
    "elif (universe[\"model\"] == \"elasticnet\"):\n",
    "    model = LogisticRegression(penalty = 'elasticnet', solver = 'saga', l1_ratio = 0.5) # max_iter=5000\n",
    "else:\n",
    "    raise \"Unsupported universe.model\""
   ]
  },
  {
   "cell_type": "code",
   "execution_count": 33,
   "id": "a4b5cd25",
   "metadata": {
    "execution": {
     "iopub.execute_input": "2025-08-19T18:45:28.598506Z",
     "iopub.status.busy": "2025-08-19T18:45:28.596709Z",
     "iopub.status.idle": "2025-08-19T18:45:28.607029Z",
     "shell.execute_reply": "2025-08-19T18:45:28.605761Z"
    },
    "papermill": {
     "duration": 0.026642,
     "end_time": "2025-08-19T18:45:28.608778",
     "exception": false,
     "start_time": "2025-08-19T18:45:28.582136",
     "status": "completed"
    },
    "tags": []
   },
   "outputs": [],
   "source": [
    "from sklearn.pipeline import Pipeline\n",
    "from sklearn.preprocessing import StandardScaler\n",
    "\n",
    "model = Pipeline([\n",
    "    #(\"continuous_processor\", continuous_processor),\n",
    "    #(\"categorical_preprocessor\", categorical_preprocessor),\n",
    "    (\"scale\", StandardScaler() if universe[\"scale\"] == \"scale\" else None), \n",
    "    (\"model\", model),\n",
    "])"
   ]
  },
  {
   "cell_type": "code",
   "execution_count": 34,
   "id": "283a904d",
   "metadata": {
    "execution": {
     "iopub.execute_input": "2025-08-19T18:45:28.635654Z",
     "iopub.status.busy": "2025-08-19T18:45:28.634117Z",
     "iopub.status.idle": "2025-08-19T18:45:28.770054Z",
     "shell.execute_reply": "2025-08-19T18:45:28.769463Z"
    },
    "papermill": {
     "duration": 0.152361,
     "end_time": "2025-08-19T18:45:28.773843",
     "exception": false,
     "start_time": "2025-08-19T18:45:28.621482",
     "status": "completed"
    },
    "tags": []
   },
   "outputs": [
    {
     "name": "stderr",
     "output_type": "stream",
     "text": [
      "/dss/dsshome1/0C/ra93lal2/.local/share/virtualenvs/CMA_Fairness_v2-3j10GkSs/lib/python3.10/site-packages/sklearn/linear_model/_logistic.py:444: ConvergenceWarning: lbfgs failed to converge (status=1):\n",
      "STOP: TOTAL NO. of ITERATIONS REACHED LIMIT.\n",
      "\n",
      "Increase the number of iterations (max_iter) or scale the data as shown in:\n",
      "    https://scikit-learn.org/stable/modules/preprocessing.html\n",
      "Please also refer to the documentation for alternative solver options:\n",
      "    https://scikit-learn.org/stable/modules/linear_model.html#logistic-regression\n",
      "  n_iter_i = _check_optimize_result(\n"
     ]
    },
    {
     "data": {
      "text/html": [
       "<style>#sk-container-id-1 {color: black;background-color: white;}#sk-container-id-1 pre{padding: 0;}#sk-container-id-1 div.sk-toggleable {background-color: white;}#sk-container-id-1 label.sk-toggleable__label {cursor: pointer;display: block;width: 100%;margin-bottom: 0;padding: 0.3em;box-sizing: border-box;text-align: center;}#sk-container-id-1 label.sk-toggleable__label-arrow:before {content: \"▸\";float: left;margin-right: 0.25em;color: #696969;}#sk-container-id-1 label.sk-toggleable__label-arrow:hover:before {color: black;}#sk-container-id-1 div.sk-estimator:hover label.sk-toggleable__label-arrow:before {color: black;}#sk-container-id-1 div.sk-toggleable__content {max-height: 0;max-width: 0;overflow: hidden;text-align: left;background-color: #f0f8ff;}#sk-container-id-1 div.sk-toggleable__content pre {margin: 0.2em;color: black;border-radius: 0.25em;background-color: #f0f8ff;}#sk-container-id-1 input.sk-toggleable__control:checked~div.sk-toggleable__content {max-height: 200px;max-width: 100%;overflow: auto;}#sk-container-id-1 input.sk-toggleable__control:checked~label.sk-toggleable__label-arrow:before {content: \"▾\";}#sk-container-id-1 div.sk-estimator input.sk-toggleable__control:checked~label.sk-toggleable__label {background-color: #d4ebff;}#sk-container-id-1 div.sk-label input.sk-toggleable__control:checked~label.sk-toggleable__label {background-color: #d4ebff;}#sk-container-id-1 input.sk-hidden--visually {border: 0;clip: rect(1px 1px 1px 1px);clip: rect(1px, 1px, 1px, 1px);height: 1px;margin: -1px;overflow: hidden;padding: 0;position: absolute;width: 1px;}#sk-container-id-1 div.sk-estimator {font-family: monospace;background-color: #f0f8ff;border: 1px dotted black;border-radius: 0.25em;box-sizing: border-box;margin-bottom: 0.5em;}#sk-container-id-1 div.sk-estimator:hover {background-color: #d4ebff;}#sk-container-id-1 div.sk-parallel-item::after {content: \"\";width: 100%;border-bottom: 1px solid gray;flex-grow: 1;}#sk-container-id-1 div.sk-label:hover label.sk-toggleable__label {background-color: #d4ebff;}#sk-container-id-1 div.sk-serial::before {content: \"\";position: absolute;border-left: 1px solid gray;box-sizing: border-box;top: 0;bottom: 0;left: 50%;z-index: 0;}#sk-container-id-1 div.sk-serial {display: flex;flex-direction: column;align-items: center;background-color: white;padding-right: 0.2em;padding-left: 0.2em;position: relative;}#sk-container-id-1 div.sk-item {position: relative;z-index: 1;}#sk-container-id-1 div.sk-parallel {display: flex;align-items: stretch;justify-content: center;background-color: white;position: relative;}#sk-container-id-1 div.sk-item::before, #sk-container-id-1 div.sk-parallel-item::before {content: \"\";position: absolute;border-left: 1px solid gray;box-sizing: border-box;top: 0;bottom: 0;left: 50%;z-index: -1;}#sk-container-id-1 div.sk-parallel-item {display: flex;flex-direction: column;z-index: 1;position: relative;background-color: white;}#sk-container-id-1 div.sk-parallel-item:first-child::after {align-self: flex-end;width: 50%;}#sk-container-id-1 div.sk-parallel-item:last-child::after {align-self: flex-start;width: 50%;}#sk-container-id-1 div.sk-parallel-item:only-child::after {width: 0;}#sk-container-id-1 div.sk-dashed-wrapped {border: 1px dashed gray;margin: 0 0.4em 0.5em 0.4em;box-sizing: border-box;padding-bottom: 0.4em;background-color: white;}#sk-container-id-1 div.sk-label label {font-family: monospace;font-weight: bold;display: inline-block;line-height: 1.2em;}#sk-container-id-1 div.sk-label-container {text-align: center;}#sk-container-id-1 div.sk-container {/* jupyter's `normalize.less` sets `[hidden] { display: none; }` but bootstrap.min.css set `[hidden] { display: none !important; }` so we also need the `!important` here to be able to override the default hidden behavior on the sphinx rendered scikit-learn.org. See: https://github.com/scikit-learn/scikit-learn/issues/21755 */display: inline-block !important;position: relative;}#sk-container-id-1 div.sk-text-repr-fallback {display: none;}</style><div id=\"sk-container-id-1\" class=\"sk-top-container\"><div class=\"sk-text-repr-fallback\"><pre>Pipeline(steps=[(&#x27;scale&#x27;, None), (&#x27;model&#x27;, LogisticRegression(C=0.1))])</pre><b>In a Jupyter environment, please rerun this cell to show the HTML representation or trust the notebook. <br />On GitHub, the HTML representation is unable to render, please try loading this page with nbviewer.org.</b></div><div class=\"sk-container\" hidden><div class=\"sk-item sk-dashed-wrapped\"><div class=\"sk-label-container\"><div class=\"sk-label sk-toggleable\"><input class=\"sk-toggleable__control sk-hidden--visually\" id=\"sk-estimator-id-1\" type=\"checkbox\" ><label for=\"sk-estimator-id-1\" class=\"sk-toggleable__label sk-toggleable__label-arrow\">Pipeline</label><div class=\"sk-toggleable__content\"><pre>Pipeline(steps=[(&#x27;scale&#x27;, None), (&#x27;model&#x27;, LogisticRegression(C=0.1))])</pre></div></div></div><div class=\"sk-serial\"><div class=\"sk-item\"><div class=\"sk-estimator sk-toggleable\"><input class=\"sk-toggleable__control sk-hidden--visually\" id=\"sk-estimator-id-2\" type=\"checkbox\" ><label for=\"sk-estimator-id-2\" class=\"sk-toggleable__label sk-toggleable__label-arrow\">None</label><div class=\"sk-toggleable__content\"><pre>None</pre></div></div></div><div class=\"sk-item\"><div class=\"sk-estimator sk-toggleable\"><input class=\"sk-toggleable__control sk-hidden--visually\" id=\"sk-estimator-id-3\" type=\"checkbox\" ><label for=\"sk-estimator-id-3\" class=\"sk-toggleable__label sk-toggleable__label-arrow\">LogisticRegression</label><div class=\"sk-toggleable__content\"><pre>LogisticRegression(C=0.1)</pre></div></div></div></div></div></div></div>"
      ],
      "text/plain": [
       "Pipeline(steps=[('scale', None), ('model', LogisticRegression(C=0.1))])"
      ]
     },
     "execution_count": 34,
     "metadata": {},
     "output_type": "execute_result"
    }
   ],
   "source": [
    "model.fit(X_train, y_train.values.ravel())"
   ]
  },
  {
   "cell_type": "code",
   "execution_count": 35,
   "id": "6e15e313",
   "metadata": {
    "execution": {
     "iopub.execute_input": "2025-08-19T18:45:28.812028Z",
     "iopub.status.busy": "2025-08-19T18:45:28.810836Z",
     "iopub.status.idle": "2025-08-19T18:45:28.916189Z",
     "shell.execute_reply": "2025-08-19T18:45:28.915577Z"
    },
    "papermill": {
     "duration": 0.120969,
     "end_time": "2025-08-19T18:45:28.917758",
     "exception": false,
     "start_time": "2025-08-19T18:45:28.796789",
     "status": "completed"
    },
    "tags": []
   },
   "outputs": [
    {
     "data": {
      "text/plain": [
       "0.8599821647530933"
      ]
     },
     "execution_count": 35,
     "metadata": {},
     "output_type": "execute_result"
    }
   ],
   "source": [
    "from fairness_multiverse.universe import predict_w_threshold\n",
    "\n",
    "probs_test = model.predict_proba(X_test)\n",
    "\n",
    "'''\n",
    "Below code returns a boolean array (or binary 0/1 array depending on how it’s used) where each element \n",
    "is True if the probability of class 1 is greater than or equal to the threshold, and False otherwise.\n",
    "'''\n",
    "y_pred_default = predict_w_threshold(probs_test, 0.5)\n",
    "\n",
    "from sklearn.metrics import accuracy_score\n",
    "\n",
    "# Naive prediction\n",
    "accuracy_score(y_true = y_true, y_pred = y_pred_default)"
   ]
  },
  {
   "cell_type": "code",
   "execution_count": 36,
   "id": "6f14067c",
   "metadata": {
    "execution": {
     "iopub.execute_input": "2025-08-19T18:45:28.948409Z",
     "iopub.status.busy": "2025-08-19T18:45:28.947369Z",
     "iopub.status.idle": "2025-08-19T18:45:29.037980Z",
     "shell.execute_reply": "2025-08-19T18:45:29.037282Z"
    },
    "papermill": {
     "duration": 0.105175,
     "end_time": "2025-08-19T18:45:29.040436",
     "exception": false,
     "start_time": "2025-08-19T18:45:28.935261",
     "status": "completed"
    },
    "tags": []
   },
   "outputs": [
    {
     "data": {
      "text/plain": [
       "array([0, 0, 0, ..., 0, 0, 0])"
      ]
     },
     "execution_count": 36,
     "metadata": {},
     "output_type": "execute_result"
    }
   ],
   "source": [
    "model.predict(X_test)"
   ]
  },
  {
   "cell_type": "markdown",
   "id": "3759920c",
   "metadata": {
    "papermill": {
     "duration": 0.012483,
     "end_time": "2025-08-19T18:45:29.076152",
     "exception": false,
     "start_time": "2025-08-19T18:45:29.063669",
     "status": "completed"
    },
    "tags": []
   },
   "source": [
    "# Conformal Prediction"
   ]
  },
  {
   "cell_type": "code",
   "execution_count": 37,
   "id": "14b27f59",
   "metadata": {
    "execution": {
     "iopub.execute_input": "2025-08-19T18:45:29.100265Z",
     "iopub.status.busy": "2025-08-19T18:45:29.099575Z",
     "iopub.status.idle": "2025-08-19T18:45:29.104581Z",
     "shell.execute_reply": "2025-08-19T18:45:29.103794Z"
    },
    "papermill": {
     "duration": 0.018457,
     "end_time": "2025-08-19T18:45:29.105723",
     "exception": false,
     "start_time": "2025-08-19T18:45:29.087266",
     "status": "completed"
    },
    "tags": []
   },
   "outputs": [],
   "source": [
    "# Miscoverage level for conformal prediction (10% allowed error rate => 90% target coverage)\n",
    "alpha = 0.1"
   ]
  },
  {
   "cell_type": "code",
   "execution_count": 38,
   "id": "59102472",
   "metadata": {
    "execution": {
     "iopub.execute_input": "2025-08-19T18:45:29.131379Z",
     "iopub.status.busy": "2025-08-19T18:45:29.130478Z",
     "iopub.status.idle": "2025-08-19T18:45:29.221555Z",
     "shell.execute_reply": "2025-08-19T18:45:29.220824Z"
    },
    "papermill": {
     "duration": 0.104596,
     "end_time": "2025-08-19T18:45:29.222938",
     "exception": false,
     "start_time": "2025-08-19T18:45:29.118342",
     "status": "completed"
    },
    "tags": []
   },
   "outputs": [],
   "source": [
    "probs_calib = model.predict_proba(X_calib)"
   ]
  },
  {
   "cell_type": "code",
   "execution_count": 39,
   "id": "a792d4dd",
   "metadata": {
    "execution": {
     "iopub.execute_input": "2025-08-19T18:45:29.249306Z",
     "iopub.status.busy": "2025-08-19T18:45:29.248303Z",
     "iopub.status.idle": "2025-08-19T18:45:29.257295Z",
     "shell.execute_reply": "2025-08-19T18:45:29.254052Z"
    },
    "papermill": {
     "duration": 0.023259,
     "end_time": "2025-08-19T18:45:29.258890",
     "exception": false,
     "start_time": "2025-08-19T18:45:29.235631",
     "status": "completed"
    },
    "tags": []
   },
   "outputs": [],
   "source": [
    "y_calib = y_calib.values.ravel().astype(int)"
   ]
  },
  {
   "cell_type": "code",
   "execution_count": 40,
   "id": "650fd033",
   "metadata": {
    "execution": {
     "iopub.execute_input": "2025-08-19T18:45:29.296043Z",
     "iopub.status.busy": "2025-08-19T18:45:29.291237Z",
     "iopub.status.idle": "2025-08-19T18:45:29.308951Z",
     "shell.execute_reply": "2025-08-19T18:45:29.307771Z"
    },
    "papermill": {
     "duration": 0.037289,
     "end_time": "2025-08-19T18:45:29.310950",
     "exception": false,
     "start_time": "2025-08-19T18:45:29.273661",
     "status": "completed"
    },
    "tags": []
   },
   "outputs": [],
   "source": [
    "from fairness_multiverse.conformal import compute_nc_scores\n",
    "\n",
    "# Compute nonconformity scores on calibration set (1 - probability of true class)\n",
    "nc_scores = compute_nc_scores(probs_calib, y_calib)"
   ]
  },
  {
   "cell_type": "code",
   "execution_count": 41,
   "id": "28ada44c",
   "metadata": {
    "execution": {
     "iopub.execute_input": "2025-08-19T18:45:29.344215Z",
     "iopub.status.busy": "2025-08-19T18:45:29.341862Z",
     "iopub.status.idle": "2025-08-19T18:45:29.353560Z",
     "shell.execute_reply": "2025-08-19T18:45:29.351982Z"
    },
    "papermill": {
     "duration": 0.0262,
     "end_time": "2025-08-19T18:45:29.354986",
     "exception": false,
     "start_time": "2025-08-19T18:45:29.328786",
     "status": "completed"
    },
    "tags": []
   },
   "outputs": [],
   "source": [
    "from fairness_multiverse.conformal import find_threshold\n",
    "\n",
    "# Find conformal threshold q_hat for the given alpha (split conformal method)\n",
    "q_hat = find_threshold(nc_scores, alpha)"
   ]
  },
  {
   "cell_type": "code",
   "execution_count": 42,
   "id": "df56469e",
   "metadata": {
    "execution": {
     "iopub.execute_input": "2025-08-19T18:45:29.382877Z",
     "iopub.status.busy": "2025-08-19T18:45:29.381382Z",
     "iopub.status.idle": "2025-08-19T18:45:29.393255Z",
     "shell.execute_reply": "2025-08-19T18:45:29.391606Z"
    },
    "papermill": {
     "duration": 0.031251,
     "end_time": "2025-08-19T18:45:29.398863",
     "exception": false,
     "start_time": "2025-08-19T18:45:29.367612",
     "status": "completed"
    },
    "tags": []
   },
   "outputs": [
    {
     "data": {
      "text/plain": [
       "0.6670233850306287"
      ]
     },
     "execution_count": 42,
     "metadata": {},
     "output_type": "execute_result"
    }
   ],
   "source": [
    "q_hat"
   ]
  },
  {
   "cell_type": "code",
   "execution_count": 43,
   "id": "aa1f5faa",
   "metadata": {
    "execution": {
     "iopub.execute_input": "2025-08-19T18:45:29.444897Z",
     "iopub.status.busy": "2025-08-19T18:45:29.438750Z",
     "iopub.status.idle": "2025-08-19T18:45:29.991730Z",
     "shell.execute_reply": "2025-08-19T18:45:29.990928Z"
    },
    "papermill": {
     "duration": 0.571296,
     "end_time": "2025-08-19T18:45:29.993385",
     "exception": false,
     "start_time": "2025-08-19T18:45:29.422089",
     "status": "completed"
    },
    "tags": []
   },
   "outputs": [],
   "source": [
    "from fairness_multiverse.conformal import predict_conformal_sets\n",
    "\n",
    "# Generate prediction sets for each test example\n",
    "pred_sets = predict_conformal_sets(model, X_test, q_hat)"
   ]
  },
  {
   "cell_type": "code",
   "execution_count": 44,
   "id": "97f67a6b",
   "metadata": {
    "execution": {
     "iopub.execute_input": "2025-08-19T18:45:30.046114Z",
     "iopub.status.busy": "2025-08-19T18:45:30.044424Z",
     "iopub.status.idle": "2025-08-19T18:45:30.054160Z",
     "shell.execute_reply": "2025-08-19T18:45:30.052572Z"
    },
    "papermill": {
     "duration": 0.037962,
     "end_time": "2025-08-19T18:45:30.055674",
     "exception": false,
     "start_time": "2025-08-19T18:45:30.017712",
     "status": "completed"
    },
    "tags": []
   },
   "outputs": [],
   "source": [
    "y_true = y_true.squeeze()"
   ]
  },
  {
   "cell_type": "code",
   "execution_count": 45,
   "id": "e700e9a7",
   "metadata": {
    "execution": {
     "iopub.execute_input": "2025-08-19T18:45:30.087273Z",
     "iopub.status.busy": "2025-08-19T18:45:30.085978Z",
     "iopub.status.idle": "2025-08-19T18:45:30.652417Z",
     "shell.execute_reply": "2025-08-19T18:45:30.651262Z"
    },
    "papermill": {
     "duration": 0.581783,
     "end_time": "2025-08-19T18:45:30.654157",
     "exception": false,
     "start_time": "2025-08-19T18:45:30.072374",
     "status": "completed"
    },
    "tags": []
   },
   "outputs": [],
   "source": [
    "from fairness_multiverse.conformal import evaluate_sets\n",
    "\n",
    "# Evaluate coverage and average set size on test data\n",
    "metrics = evaluate_sets(pred_sets, y_true)"
   ]
  },
  {
   "cell_type": "markdown",
   "id": "efbacec0",
   "metadata": {
    "papermill": {
     "duration": 0.011561,
     "end_time": "2025-08-19T18:45:30.677994",
     "exception": false,
     "start_time": "2025-08-19T18:45:30.666433",
     "status": "completed"
    },
    "tags": []
   },
   "source": [
    "# CP Metrics"
   ]
  },
  {
   "cell_type": "code",
   "execution_count": 46,
   "id": "9de55fb1",
   "metadata": {
    "execution": {
     "iopub.execute_input": "2025-08-19T18:45:30.702517Z",
     "iopub.status.busy": "2025-08-19T18:45:30.702080Z",
     "iopub.status.idle": "2025-08-19T18:45:30.708838Z",
     "shell.execute_reply": "2025-08-19T18:45:30.707715Z"
    },
    "papermill": {
     "duration": 0.02481,
     "end_time": "2025-08-19T18:45:30.714408",
     "exception": false,
     "start_time": "2025-08-19T18:45:30.689598",
     "status": "completed"
    },
    "tags": []
   },
   "outputs": [
    {
     "data": {
      "text/plain": [
       "{'coverage': 0.9133207000334411, 'avg_size': 1.2172556013822315}"
      ]
     },
     "execution_count": 46,
     "metadata": {},
     "output_type": "execute_result"
    }
   ],
   "source": [
    "metrics"
   ]
  },
  {
   "cell_type": "code",
   "execution_count": 47,
   "id": "64c340a1",
   "metadata": {
    "execution": {
     "iopub.execute_input": "2025-08-19T18:45:30.752551Z",
     "iopub.status.busy": "2025-08-19T18:45:30.752151Z",
     "iopub.status.idle": "2025-08-19T18:45:30.757273Z",
     "shell.execute_reply": "2025-08-19T18:45:30.756304Z"
    },
    "papermill": {
     "duration": 0.019592,
     "end_time": "2025-08-19T18:45:30.758480",
     "exception": false,
     "start_time": "2025-08-19T18:45:30.738888",
     "status": "completed"
    },
    "tags": []
   },
   "outputs": [],
   "source": [
    "example_universe = universe.copy()\n",
    "universe_training_year = example_universe.get(\"training_year\")\n",
    "universe_training_size = example_universe.get(\"training_size\")\n",
    "universe_scale = example_universe.get(\"scale\")\n",
    "universe_model = example_universe.get(\"model\")\n",
    "universe_exclude_features = example_universe.get(\"exclude_features\")\n",
    "universe_exclude_subgroups = example_universe.get(\"exclude_subgroups\")"
   ]
  },
  {
   "cell_type": "code",
   "execution_count": 48,
   "id": "dbb53cb4",
   "metadata": {
    "execution": {
     "iopub.execute_input": "2025-08-19T18:45:30.784043Z",
     "iopub.status.busy": "2025-08-19T18:45:30.783760Z",
     "iopub.status.idle": "2025-08-19T18:45:30.789558Z",
     "shell.execute_reply": "2025-08-19T18:45:30.788519Z"
    },
    "papermill": {
     "duration": 0.02029,
     "end_time": "2025-08-19T18:45:30.791084",
     "exception": false,
     "start_time": "2025-08-19T18:45:30.770794",
     "status": "completed"
    },
    "tags": []
   },
   "outputs": [],
   "source": [
    "cp_metrics_dict = {\n",
    "    \"universe_id\": [universe_id],\n",
    "    \"universe_training_year\": [universe_training_year],\n",
    "    \"universe_training_size\": [universe_training_size],\n",
    "    \"universe_scale\": [universe_scale],\n",
    "    \"universe_model\": [universe_model],\n",
    "    \"universe_exclude_features\": [universe_exclude_features],\n",
    "    \"universe_exclude_subgroups\": [universe_exclude_subgroups],\n",
    "    \"q_hat\": [q_hat],\n",
    "    \"coverage\": [metrics[\"coverage\"]],\n",
    "    \"avg_size\": [metrics[\"avg_size\"]],\n",
    "}"
   ]
  },
  {
   "cell_type": "code",
   "execution_count": 49,
   "id": "0d70d4b2",
   "metadata": {
    "execution": {
     "iopub.execute_input": "2025-08-19T18:45:30.833450Z",
     "iopub.status.busy": "2025-08-19T18:45:30.832445Z",
     "iopub.status.idle": "2025-08-19T18:45:30.887543Z",
     "shell.execute_reply": "2025-08-19T18:45:30.885931Z"
    },
    "papermill": {
     "duration": 0.076844,
     "end_time": "2025-08-19T18:45:30.890226",
     "exception": false,
     "start_time": "2025-08-19T18:45:30.813382",
     "status": "completed"
    },
    "tags": []
   },
   "outputs": [],
   "source": [
    "cp_metrics_df = pd.DataFrame(cp_metrics_dict)"
   ]
  },
  {
   "cell_type": "code",
   "execution_count": 50,
   "id": "b494403c",
   "metadata": {
    "execution": {
     "iopub.execute_input": "2025-08-19T18:45:30.927244Z",
     "iopub.status.busy": "2025-08-19T18:45:30.925932Z",
     "iopub.status.idle": "2025-08-19T18:45:30.942333Z",
     "shell.execute_reply": "2025-08-19T18:45:30.941610Z"
    },
    "papermill": {
     "duration": 0.031962,
     "end_time": "2025-08-19T18:45:30.943669",
     "exception": false,
     "start_time": "2025-08-19T18:45:30.911707",
     "status": "completed"
    },
    "tags": []
   },
   "outputs": [
    {
     "data": {
      "text/html": [
       "<div>\n",
       "<style scoped>\n",
       "    .dataframe tbody tr th:only-of-type {\n",
       "        vertical-align: middle;\n",
       "    }\n",
       "\n",
       "    .dataframe tbody tr th {\n",
       "        vertical-align: top;\n",
       "    }\n",
       "\n",
       "    .dataframe thead th {\n",
       "        text-align: right;\n",
       "    }\n",
       "</style>\n",
       "<table border=\"1\" class=\"dataframe\">\n",
       "  <thead>\n",
       "    <tr style=\"text-align: right;\">\n",
       "      <th></th>\n",
       "      <th>universe_id</th>\n",
       "      <th>universe_training_year</th>\n",
       "      <th>universe_training_size</th>\n",
       "      <th>universe_scale</th>\n",
       "      <th>universe_model</th>\n",
       "      <th>universe_exclude_features</th>\n",
       "      <th>universe_exclude_subgroups</th>\n",
       "      <th>q_hat</th>\n",
       "      <th>coverage</th>\n",
       "      <th>avg_size</th>\n",
       "    </tr>\n",
       "  </thead>\n",
       "  <tbody>\n",
       "    <tr>\n",
       "      <th>0</th>\n",
       "      <td>2d708482513865c643f692fab23c0247</td>\n",
       "      <td>2010_14</td>\n",
       "      <td>5k</td>\n",
       "      <td>do-not-scale</td>\n",
       "      <td>penalized_logreg</td>\n",
       "      <td>none</td>\n",
       "      <td>drop-non-german</td>\n",
       "      <td>0.667023</td>\n",
       "      <td>0.913321</td>\n",
       "      <td>1.217256</td>\n",
       "    </tr>\n",
       "  </tbody>\n",
       "</table>\n",
       "</div>"
      ],
      "text/plain": [
       "                        universe_id universe_training_year  \\\n",
       "0  2d708482513865c643f692fab23c0247                2010_14   \n",
       "\n",
       "  universe_training_size universe_scale    universe_model  \\\n",
       "0                     5k   do-not-scale  penalized_logreg   \n",
       "\n",
       "  universe_exclude_features universe_exclude_subgroups     q_hat  coverage  \\\n",
       "0                      none            drop-non-german  0.667023  0.913321   \n",
       "\n",
       "   avg_size  \n",
       "0  1.217256  "
      ]
     },
     "execution_count": 50,
     "metadata": {},
     "output_type": "execute_result"
    }
   ],
   "source": [
    "cp_metrics_df"
   ]
  },
  {
   "cell_type": "markdown",
   "id": "ed608b0b",
   "metadata": {
    "papermill": {
     "duration": 0.011914,
     "end_time": "2025-08-19T18:45:30.967694",
     "exception": false,
     "start_time": "2025-08-19T18:45:30.955780",
     "status": "completed"
    },
    "tags": []
   },
   "source": [
    "Conditional coverage & looking at subgroups"
   ]
  },
  {
   "cell_type": "code",
   "execution_count": 51,
   "id": "8968c366",
   "metadata": {
    "execution": {
     "iopub.execute_input": "2025-08-19T18:45:30.999371Z",
     "iopub.status.busy": "2025-08-19T18:45:30.997282Z",
     "iopub.status.idle": "2025-08-19T18:45:31.223901Z",
     "shell.execute_reply": "2025-08-19T18:45:31.223133Z"
    },
    "papermill": {
     "duration": 0.246186,
     "end_time": "2025-08-19T18:45:31.225590",
     "exception": false,
     "start_time": "2025-08-19T18:45:30.979404",
     "status": "completed"
    },
    "tags": []
   },
   "outputs": [],
   "source": [
    "from fairness_multiverse.conformal import build_cp_groups\n",
    "\n",
    "cp_groups_df = build_cp_groups(pred_sets, y_true, X_test.index, org_test)"
   ]
  },
  {
   "cell_type": "code",
   "execution_count": 52,
   "id": "292ddabf",
   "metadata": {
    "execution": {
     "iopub.execute_input": "2025-08-19T18:45:31.276705Z",
     "iopub.status.busy": "2025-08-19T18:45:31.275968Z",
     "iopub.status.idle": "2025-08-19T18:45:32.125793Z",
     "shell.execute_reply": "2025-08-19T18:45:32.124927Z"
    },
    "papermill": {
     "duration": 0.881706,
     "end_time": "2025-08-19T18:45:32.127404",
     "exception": false,
     "start_time": "2025-08-19T18:45:31.245698",
     "status": "completed"
    },
    "tags": []
   },
   "outputs": [],
   "source": [
    "# Define covered = 1 if true_label is in the predicted set\n",
    "cp_groups_df['covered'] = cp_groups_df.apply(\n",
    "    lambda r: int(r['true_label'] in r['pred_set']),\n",
    "    axis=1\n",
    ")"
   ]
  },
  {
   "cell_type": "code",
   "execution_count": 53,
   "id": "3a261692",
   "metadata": {
    "execution": {
     "iopub.execute_input": "2025-08-19T18:45:32.156510Z",
     "iopub.status.busy": "2025-08-19T18:45:32.155917Z",
     "iopub.status.idle": "2025-08-19T18:45:32.177176Z",
     "shell.execute_reply": "2025-08-19T18:45:32.176255Z"
    },
    "papermill": {
     "duration": 0.038443,
     "end_time": "2025-08-19T18:45:32.178681",
     "exception": false,
     "start_time": "2025-08-19T18:45:32.140238",
     "status": "completed"
    },
    "tags": []
   },
   "outputs": [],
   "source": [
    "subgroups = ['frau1','nongerman','nongerman_male','nongerman_female']\n",
    "\n",
    "# Conditional coverage for subgroup==1\n",
    "cond_coverage = {\n",
    "    g: cp_groups_df.loc[cp_groups_df[g]==1, 'covered'].mean()\n",
    "    for g in subgroups\n",
    "}"
   ]
  },
  {
   "cell_type": "code",
   "execution_count": 54,
   "id": "894fd600",
   "metadata": {
    "execution": {
     "iopub.execute_input": "2025-08-19T18:45:32.213861Z",
     "iopub.status.busy": "2025-08-19T18:45:32.213394Z",
     "iopub.status.idle": "2025-08-19T18:45:32.221421Z",
     "shell.execute_reply": "2025-08-19T18:45:32.220523Z"
    },
    "papermill": {
     "duration": 0.023875,
     "end_time": "2025-08-19T18:45:32.222889",
     "exception": false,
     "start_time": "2025-08-19T18:45:32.199014",
     "status": "completed"
    },
    "tags": []
   },
   "outputs": [
    {
     "data": {
      "text/plain": [
       "{'frau1': 0.9143280765601833,\n",
       " 'nongerman': 0.9394824004940212,\n",
       " 'nongerman_male': 0.9493830496262271,\n",
       " 'nongerman_female': 0.9230998509687034}"
      ]
     },
     "execution_count": 54,
     "metadata": {},
     "output_type": "execute_result"
    }
   ],
   "source": [
    "cond_coverage"
   ]
  },
  {
   "cell_type": "code",
   "execution_count": 55,
   "id": "942895c7",
   "metadata": {
    "execution": {
     "iopub.execute_input": "2025-08-19T18:45:32.251115Z",
     "iopub.status.busy": "2025-08-19T18:45:32.250529Z",
     "iopub.status.idle": "2025-08-19T18:45:32.263209Z",
     "shell.execute_reply": "2025-08-19T18:45:32.261903Z"
    },
    "papermill": {
     "duration": 0.027938,
     "end_time": "2025-08-19T18:45:32.265046",
     "exception": false,
     "start_time": "2025-08-19T18:45:32.237108",
     "status": "completed"
    },
    "tags": []
   },
   "outputs": [],
   "source": [
    "for subgroup, cov in cond_coverage.items():\n",
    "    cp_metrics_df[f\"cov_{subgroup}\"] = cov"
   ]
  },
  {
   "cell_type": "code",
   "execution_count": 56,
   "id": "3970120f",
   "metadata": {
    "execution": {
     "iopub.execute_input": "2025-08-19T18:45:32.295214Z",
     "iopub.status.busy": "2025-08-19T18:45:32.294416Z",
     "iopub.status.idle": "2025-08-19T18:45:32.342004Z",
     "shell.execute_reply": "2025-08-19T18:45:32.340934Z"
    },
    "papermill": {
     "duration": 0.065479,
     "end_time": "2025-08-19T18:45:32.345389",
     "exception": false,
     "start_time": "2025-08-19T18:45:32.279910",
     "status": "completed"
    },
    "tags": []
   },
   "outputs": [
    {
     "data": {
      "text/html": [
       "<div>\n",
       "<style scoped>\n",
       "    .dataframe tbody tr th:only-of-type {\n",
       "        vertical-align: middle;\n",
       "    }\n",
       "\n",
       "    .dataframe tbody tr th {\n",
       "        vertical-align: top;\n",
       "    }\n",
       "\n",
       "    .dataframe thead th {\n",
       "        text-align: right;\n",
       "    }\n",
       "</style>\n",
       "<table border=\"1\" class=\"dataframe\">\n",
       "  <thead>\n",
       "    <tr style=\"text-align: right;\">\n",
       "      <th></th>\n",
       "      <th>universe_id</th>\n",
       "      <th>universe_training_year</th>\n",
       "      <th>universe_training_size</th>\n",
       "      <th>universe_scale</th>\n",
       "      <th>universe_model</th>\n",
       "      <th>universe_exclude_features</th>\n",
       "      <th>universe_exclude_subgroups</th>\n",
       "      <th>q_hat</th>\n",
       "      <th>coverage</th>\n",
       "      <th>avg_size</th>\n",
       "      <th>cov_frau1</th>\n",
       "      <th>cov_nongerman</th>\n",
       "      <th>cov_nongerman_male</th>\n",
       "      <th>cov_nongerman_female</th>\n",
       "    </tr>\n",
       "  </thead>\n",
       "  <tbody>\n",
       "    <tr>\n",
       "      <th>0</th>\n",
       "      <td>2d708482513865c643f692fab23c0247</td>\n",
       "      <td>2010_14</td>\n",
       "      <td>5k</td>\n",
       "      <td>do-not-scale</td>\n",
       "      <td>penalized_logreg</td>\n",
       "      <td>none</td>\n",
       "      <td>drop-non-german</td>\n",
       "      <td>0.667023</td>\n",
       "      <td>0.913321</td>\n",
       "      <td>1.217256</td>\n",
       "      <td>0.914328</td>\n",
       "      <td>0.939482</td>\n",
       "      <td>0.949383</td>\n",
       "      <td>0.9231</td>\n",
       "    </tr>\n",
       "  </tbody>\n",
       "</table>\n",
       "</div>"
      ],
      "text/plain": [
       "                        universe_id universe_training_year  \\\n",
       "0  2d708482513865c643f692fab23c0247                2010_14   \n",
       "\n",
       "  universe_training_size universe_scale    universe_model  \\\n",
       "0                     5k   do-not-scale  penalized_logreg   \n",
       "\n",
       "  universe_exclude_features universe_exclude_subgroups     q_hat  coverage  \\\n",
       "0                      none            drop-non-german  0.667023  0.913321   \n",
       "\n",
       "   avg_size  cov_frau1  cov_nongerman  cov_nongerman_male  \\\n",
       "0  1.217256   0.914328       0.939482            0.949383   \n",
       "\n",
       "   cov_nongerman_female  \n",
       "0                0.9231  "
      ]
     },
     "execution_count": 56,
     "metadata": {},
     "output_type": "execute_result"
    }
   ],
   "source": [
    "cp_metrics_df"
   ]
  },
  {
   "cell_type": "markdown",
   "id": "3fc519cc",
   "metadata": {
    "papermill": {
     "duration": 0.013549,
     "end_time": "2025-08-19T18:45:32.384913",
     "exception": false,
     "start_time": "2025-08-19T18:45:32.371364",
     "status": "completed"
    },
    "tags": []
   },
   "source": [
    "# (Fairness) Metrics"
   ]
  },
  {
   "cell_type": "code",
   "execution_count": 57,
   "id": "a2e5e155",
   "metadata": {
    "execution": {
     "iopub.execute_input": "2025-08-19T18:45:32.411315Z",
     "iopub.status.busy": "2025-08-19T18:45:32.410504Z",
     "iopub.status.idle": "2025-08-19T18:45:32.440097Z",
     "shell.execute_reply": "2025-08-19T18:45:32.439178Z"
    },
    "papermill": {
     "duration": 0.044788,
     "end_time": "2025-08-19T18:45:32.441620",
     "exception": false,
     "start_time": "2025-08-19T18:45:32.396832",
     "status": "completed"
    },
    "tags": []
   },
   "outputs": [],
   "source": [
    "colname_to_bin = \"maxdeutsch1\"\n",
    "majority_value = org_train[colname_to_bin].mode()[0]\n",
    "\n",
    "org_test[\"majmin\"] = np.where(org_test[colname_to_bin] == majority_value, \"majority\", \"minority\")"
   ]
  },
  {
   "cell_type": "code",
   "execution_count": 58,
   "id": "17e3e4d5",
   "metadata": {
    "execution": {
     "iopub.execute_input": "2025-08-19T18:45:32.468869Z",
     "iopub.status.busy": "2025-08-19T18:45:32.468360Z",
     "iopub.status.idle": "2025-08-19T18:45:34.174645Z",
     "shell.execute_reply": "2025-08-19T18:45:34.173830Z"
    },
    "papermill": {
     "duration": 1.721984,
     "end_time": "2025-08-19T18:45:34.176589",
     "exception": false,
     "start_time": "2025-08-19T18:45:32.454605",
     "status": "completed"
    },
    "tags": []
   },
   "outputs": [],
   "source": [
    "example_universe = universe.copy()\n",
    "example_universe[\"cutoff\"] = example_universe[\"cutoff\"][0]\n",
    "example_universe[\"eval_fairness_grouping\"] = example_universe[\"eval_fairness_grouping\"][0]\n",
    "fairness_dict, metric_frame = universe_analysis.compute_metrics(\n",
    "    example_universe,\n",
    "    y_pred_prob=probs_test,\n",
    "    y_test=y_true,\n",
    "    org_test=org_test,\n",
    ")"
   ]
  },
  {
   "cell_type": "markdown",
   "id": "1fb7a0e9",
   "metadata": {
    "papermill": {
     "duration": 0.012262,
     "end_time": "2025-08-19T18:45:34.202383",
     "exception": false,
     "start_time": "2025-08-19T18:45:34.190121",
     "status": "completed"
    },
    "tags": []
   },
   "source": [
    "# Overall"
   ]
  },
  {
   "cell_type": "markdown",
   "id": "be1784b1",
   "metadata": {
    "papermill": {
     "duration": 0.011956,
     "end_time": "2025-08-19T18:45:34.226312",
     "exception": false,
     "start_time": "2025-08-19T18:45:34.214356",
     "status": "completed"
    },
    "tags": []
   },
   "source": [
    "Main fairness target: Equalized Odds. Seems to be a better fit than equal opportunity, since we're not only interested in Y = 1. Seems to be a better fit than demographic parity, since we also care about accuracy, not just equal distribution of preds.\n",
    "\n",
    "Pick column for computation of fairness metrics\n",
    "\n",
    "Performance\n",
    "Overall performance measures, most interesting in relation to the measures split by group below"
   ]
  },
  {
   "cell_type": "code",
   "execution_count": 59,
   "id": "b7672bee",
   "metadata": {
    "execution": {
     "iopub.execute_input": "2025-08-19T18:45:34.251769Z",
     "iopub.status.busy": "2025-08-19T18:45:34.251373Z",
     "iopub.status.idle": "2025-08-19T18:45:34.259185Z",
     "shell.execute_reply": "2025-08-19T18:45:34.258330Z"
    },
    "papermill": {
     "duration": 0.023179,
     "end_time": "2025-08-19T18:45:34.261534",
     "exception": false,
     "start_time": "2025-08-19T18:45:34.238355",
     "status": "completed"
    },
    "tags": []
   },
   "outputs": [
    {
     "data": {
      "text/plain": [
       "accuracy                   0.218917\n",
       "balanced accuracy          0.536424\n",
       "f1                         0.240398\n",
       "precision                  0.137331\n",
       "false positive rate        0.890655\n",
       "false negative rate        0.036496\n",
       "selection rate             0.900000\n",
       "count                  89710.000000\n",
       "dtype: float64"
      ]
     },
     "execution_count": 59,
     "metadata": {},
     "output_type": "execute_result"
    }
   ],
   "source": [
    "metric_frame.overall"
   ]
  },
  {
   "cell_type": "markdown",
   "id": "d93333c9",
   "metadata": {
    "papermill": {
     "duration": 0.012188,
     "end_time": "2025-08-19T18:45:34.287804",
     "exception": false,
     "start_time": "2025-08-19T18:45:34.275616",
     "status": "completed"
    },
    "tags": []
   },
   "source": [
    "By Group"
   ]
  },
  {
   "cell_type": "code",
   "execution_count": 60,
   "id": "52256966",
   "metadata": {
    "execution": {
     "iopub.execute_input": "2025-08-19T18:45:34.313555Z",
     "iopub.status.busy": "2025-08-19T18:45:34.313184Z",
     "iopub.status.idle": "2025-08-19T18:45:34.327084Z",
     "shell.execute_reply": "2025-08-19T18:45:34.326269Z"
    },
    "papermill": {
     "duration": 0.028627,
     "end_time": "2025-08-19T18:45:34.328624",
     "exception": false,
     "start_time": "2025-08-19T18:45:34.299997",
     "status": "completed"
    },
    "tags": []
   },
   "outputs": [
    {
     "data": {
      "text/html": [
       "<div>\n",
       "<style scoped>\n",
       "    .dataframe tbody tr th:only-of-type {\n",
       "        vertical-align: middle;\n",
       "    }\n",
       "\n",
       "    .dataframe tbody tr th {\n",
       "        vertical-align: top;\n",
       "    }\n",
       "\n",
       "    .dataframe thead th {\n",
       "        text-align: right;\n",
       "    }\n",
       "</style>\n",
       "<table border=\"1\" class=\"dataframe\">\n",
       "  <thead>\n",
       "    <tr style=\"text-align: right;\">\n",
       "      <th></th>\n",
       "      <th>accuracy</th>\n",
       "      <th>balanced accuracy</th>\n",
       "      <th>f1</th>\n",
       "      <th>precision</th>\n",
       "      <th>false positive rate</th>\n",
       "      <th>false negative rate</th>\n",
       "      <th>selection rate</th>\n",
       "      <th>count</th>\n",
       "    </tr>\n",
       "    <tr>\n",
       "      <th>majmin</th>\n",
       "      <th></th>\n",
       "      <th></th>\n",
       "      <th></th>\n",
       "      <th></th>\n",
       "      <th></th>\n",
       "      <th></th>\n",
       "      <th></th>\n",
       "      <th></th>\n",
       "    </tr>\n",
       "  </thead>\n",
       "  <tbody>\n",
       "    <tr>\n",
       "      <th>majority</th>\n",
       "      <td>0.240668</td>\n",
       "      <td>0.544904</td>\n",
       "      <td>0.250132</td>\n",
       "      <td>0.143835</td>\n",
       "      <td>0.868616</td>\n",
       "      <td>0.041575</td>\n",
       "      <td>0.880483</td>\n",
       "      <td>69170.0</td>\n",
       "    </tr>\n",
       "    <tr>\n",
       "      <th>minority</th>\n",
       "      <td>0.145667</td>\n",
       "      <td>0.509824</td>\n",
       "      <td>0.209692</td>\n",
       "      <td>0.117362</td>\n",
       "      <td>0.963460</td>\n",
       "      <td>0.016892</td>\n",
       "      <td>0.965725</td>\n",
       "      <td>20540.0</td>\n",
       "    </tr>\n",
       "  </tbody>\n",
       "</table>\n",
       "</div>"
      ],
      "text/plain": [
       "          accuracy  balanced accuracy        f1  precision  \\\n",
       "majmin                                                       \n",
       "majority  0.240668           0.544904  0.250132   0.143835   \n",
       "minority  0.145667           0.509824  0.209692   0.117362   \n",
       "\n",
       "          false positive rate  false negative rate  selection rate    count  \n",
       "majmin                                                                       \n",
       "majority             0.868616             0.041575        0.880483  69170.0  \n",
       "minority             0.963460             0.016892        0.965725  20540.0  "
      ]
     },
     "execution_count": 60,
     "metadata": {},
     "output_type": "execute_result"
    }
   ],
   "source": [
    "metric_frame.by_group"
   ]
  },
  {
   "cell_type": "code",
   "execution_count": 61,
   "id": "6e6c20ae",
   "metadata": {
    "execution": {
     "iopub.execute_input": "2025-08-19T18:45:34.356801Z",
     "iopub.status.busy": "2025-08-19T18:45:34.356441Z",
     "iopub.status.idle": "2025-08-19T18:45:36.046480Z",
     "shell.execute_reply": "2025-08-19T18:45:36.045456Z"
    },
    "papermill": {
     "duration": 1.704518,
     "end_time": "2025-08-19T18:45:36.047739",
     "exception": false,
     "start_time": "2025-08-19T18:45:34.343221",
     "status": "completed"
    },
    "tags": []
   },
   "outputs": [
    {
     "data": {
      "text/plain": [
       "array([[<Axes: title={'center': 'accuracy'}, xlabel='majmin'>,\n",
       "        <Axes: title={'center': 'balanced accuracy'}, xlabel='majmin'>,\n",
       "        <Axes: title={'center': 'f1'}, xlabel='majmin'>],\n",
       "       [<Axes: title={'center': 'precision'}, xlabel='majmin'>,\n",
       "        <Axes: title={'center': 'false positive rate'}, xlabel='majmin'>,\n",
       "        <Axes: title={'center': 'false negative rate'}, xlabel='majmin'>],\n",
       "       [<Axes: title={'center': 'selection rate'}, xlabel='majmin'>,\n",
       "        <Axes: title={'center': 'count'}, xlabel='majmin'>,\n",
       "        <Axes: xlabel='majmin'>]], dtype=object)"
      ]
     },
     "execution_count": 61,
     "metadata": {},
     "output_type": "execute_result"
    },
    {
     "data": {
      "image/png": "[encoded data removed]",
      "text/plain": [
       "<Figure size 1200x800 with 9 Axes>"
      ]
     },
     "metadata": {},
     "output_type": "display_data"
    }
   ],
   "source": [
    "# In a graphic\n",
    "metric_frame.by_group.plot.bar(\n",
    "    subplots=True,\n",
    "    layout=[3, 3],\n",
    "    legend=False,\n",
    "    figsize=[12, 8],\n",
    "    title=\"Show all metrics\",\n",
    ")"
   ]
  },
  {
   "cell_type": "markdown",
   "id": "b2e433ae",
   "metadata": {
    "papermill": {
     "duration": 0.013516,
     "end_time": "2025-08-19T18:45:36.076542",
     "exception": false,
     "start_time": "2025-08-19T18:45:36.063026",
     "status": "completed"
    },
    "tags": []
   },
   "source": [
    "# Final Output"
   ]
  },
  {
   "cell_type": "code",
   "execution_count": 62,
   "id": "3871301e",
   "metadata": {
    "execution": {
     "iopub.execute_input": "2025-08-19T18:45:36.106696Z",
     "iopub.status.busy": "2025-08-19T18:45:36.105328Z",
     "iopub.status.idle": "2025-08-19T18:45:36.117228Z",
     "shell.execute_reply": "2025-08-19T18:45:36.115961Z"
    },
    "papermill": {
     "duration": 0.028685,
     "end_time": "2025-08-19T18:45:36.118778",
     "exception": false,
     "start_time": "2025-08-19T18:45:36.090093",
     "status": "completed"
    },
    "tags": []
   },
   "outputs": [
    {
     "data": {
      "text/plain": [
       "4"
      ]
     },
     "execution_count": 62,
     "metadata": {},
     "output_type": "execute_result"
    }
   ],
   "source": [
    "sub_universes = universe_analysis.generate_sub_universes()\n",
    "len(sub_universes)"
   ]
  },
  {
   "cell_type": "code",
   "execution_count": 63,
   "id": "d9cfdaca",
   "metadata": {
    "execution": {
     "iopub.execute_input": "2025-08-19T18:45:36.155491Z",
     "iopub.status.busy": "2025-08-19T18:45:36.154383Z",
     "iopub.status.idle": "2025-08-19T18:45:36.163229Z",
     "shell.execute_reply": "2025-08-19T18:45:36.162109Z"
    },
    "papermill": {
     "duration": 0.02636,
     "end_time": "2025-08-19T18:45:36.164972",
     "exception": false,
     "start_time": "2025-08-19T18:45:36.138612",
     "status": "completed"
    },
    "tags": []
   },
   "outputs": [],
   "source": [
    "def filter_sub_universe_data(sub_universe, org_test):\n",
    "    # Keep all rows — no filtering\n",
    "    keep_rows_mask = np.ones(org_test.shape[0], dtype=bool)\n",
    "\n",
    "    print(f\"[INFO] Keeping all rows: {keep_rows_mask.sum()} rows retained.\")\n",
    "    return keep_rows_mask"
   ]
  },
  {
   "cell_type": "code",
   "execution_count": 64,
   "id": "2bc31ac1",
   "metadata": {
    "execution": {
     "iopub.execute_input": "2025-08-19T18:45:36.199724Z",
     "iopub.status.busy": "2025-08-19T18:45:36.198304Z",
     "iopub.status.idle": "2025-08-19T18:45:42.839613Z",
     "shell.execute_reply": "2025-08-19T18:45:42.838502Z"
    },
    "papermill": {
     "duration": 6.657893,
     "end_time": "2025-08-19T18:45:42.841054",
     "exception": false,
     "start_time": "2025-08-19T18:45:36.183161",
     "status": "completed"
    },
    "tags": []
   },
   "outputs": [
    {
     "name": "stdout",
     "output_type": "stream",
     "text": [
      "Stopping execution_time clock.\n",
      "[INFO] Keeping all rows: 89710 rows retained.\n"
     ]
    },
    {
     "name": "stdout",
     "output_type": "stream",
     "text": [
      "[INFO] Keeping all rows: 89710 rows retained.\n"
     ]
    },
    {
     "name": "stdout",
     "output_type": "stream",
     "text": [
      "[INFO] Keeping all rows: 89710 rows retained.\n"
     ]
    },
    {
     "name": "stdout",
     "output_type": "stream",
     "text": [
      "[INFO] Keeping all rows: 89710 rows retained.\n"
     ]
    },
    {
     "data": {
      "text/html": [
       "<div>\n",
       "<style scoped>\n",
       "    .dataframe tbody tr th:only-of-type {\n",
       "        vertical-align: middle;\n",
       "    }\n",
       "\n",
       "    .dataframe tbody tr th {\n",
       "        vertical-align: top;\n",
       "    }\n",
       "\n",
       "    .dataframe thead th {\n",
       "        text-align: right;\n",
       "    }\n",
       "</style>\n",
       "<table border=\"1\" class=\"dataframe\">\n",
       "  <thead>\n",
       "    <tr style=\"text-align: right;\">\n",
       "      <th></th>\n",
       "      <th>run_no</th>\n",
       "      <th>universe_id</th>\n",
       "      <th>universe_settings</th>\n",
       "      <th>execution_time</th>\n",
       "      <th>test_size_n</th>\n",
       "      <th>test_size_frac</th>\n",
       "      <th>fair_main_equalized_odds_difference</th>\n",
       "      <th>fair_main_equalized_odds_ratio</th>\n",
       "      <th>fair_main_demographic_parity_difference</th>\n",
       "      <th>fair_main_demographic_parity_ratio</th>\n",
       "      <th>...</th>\n",
       "      <th>perf_grp_precision_0</th>\n",
       "      <th>perf_grp_precision_1</th>\n",
       "      <th>perf_grp_false positive rate_0</th>\n",
       "      <th>perf_grp_false positive rate_1</th>\n",
       "      <th>perf_grp_false negative rate_0</th>\n",
       "      <th>perf_grp_false negative rate_1</th>\n",
       "      <th>perf_grp_selection rate_0</th>\n",
       "      <th>perf_grp_selection rate_1</th>\n",
       "      <th>perf_grp_count_0</th>\n",
       "      <th>perf_grp_count_1</th>\n",
       "    </tr>\n",
       "  </thead>\n",
       "  <tbody>\n",
       "    <tr>\n",
       "      <th>0</th>\n",
       "      <td>3</td>\n",
       "      <td>2d708482513865c643f692fab23c0247</td>\n",
       "      <td>{\"cutoff\": \"quantile_0.1\", \"eval_fairness_grou...</td>\n",
       "      <td>20.506773</td>\n",
       "      <td>89710</td>\n",
       "      <td>1.0</td>\n",
       "      <td>0.094845</td>\n",
       "      <td>0.901558</td>\n",
       "      <td>0.085243</td>\n",
       "      <td>0.911732</td>\n",
       "      <td>...</td>\n",
       "      <td>NaN</td>\n",
       "      <td>NaN</td>\n",
       "      <td>NaN</td>\n",
       "      <td>NaN</td>\n",
       "      <td>NaN</td>\n",
       "      <td>NaN</td>\n",
       "      <td>NaN</td>\n",
       "      <td>NaN</td>\n",
       "      <td>NaN</td>\n",
       "      <td>NaN</td>\n",
       "    </tr>\n",
       "    <tr>\n",
       "      <th>0</th>\n",
       "      <td>3</td>\n",
       "      <td>2d708482513865c643f692fab23c0247</td>\n",
       "      <td>{\"cutoff\": \"quantile_0.1\", \"eval_fairness_grou...</td>\n",
       "      <td>20.506773</td>\n",
       "      <td>89710</td>\n",
       "      <td>1.0</td>\n",
       "      <td>0.094845</td>\n",
       "      <td>0.901558</td>\n",
       "      <td>0.085243</td>\n",
       "      <td>0.911732</td>\n",
       "      <td>...</td>\n",
       "      <td>0.117362</td>\n",
       "      <td>0.143835</td>\n",
       "      <td>0.963460</td>\n",
       "      <td>0.868616</td>\n",
       "      <td>0.016892</td>\n",
       "      <td>0.041575</td>\n",
       "      <td>0.965725</td>\n",
       "      <td>0.880483</td>\n",
       "      <td>20540.0</td>\n",
       "      <td>69170.0</td>\n",
       "    </tr>\n",
       "    <tr>\n",
       "      <th>0</th>\n",
       "      <td>3</td>\n",
       "      <td>2d708482513865c643f692fab23c0247</td>\n",
       "      <td>{\"cutoff\": \"quantile_0.25\", \"eval_fairness_gro...</td>\n",
       "      <td>20.506773</td>\n",
       "      <td>89710</td>\n",
       "      <td>1.0</td>\n",
       "      <td>0.215411</td>\n",
       "      <td>0.759614</td>\n",
       "      <td>0.196823</td>\n",
       "      <td>0.781733</td>\n",
       "      <td>...</td>\n",
       "      <td>NaN</td>\n",
       "      <td>NaN</td>\n",
       "      <td>NaN</td>\n",
       "      <td>NaN</td>\n",
       "      <td>NaN</td>\n",
       "      <td>NaN</td>\n",
       "      <td>NaN</td>\n",
       "      <td>NaN</td>\n",
       "      <td>NaN</td>\n",
       "      <td>NaN</td>\n",
       "    </tr>\n",
       "    <tr>\n",
       "      <th>0</th>\n",
       "      <td>3</td>\n",
       "      <td>2d708482513865c643f692fab23c0247</td>\n",
       "      <td>{\"cutoff\": \"quantile_0.25\", \"eval_fairness_gro...</td>\n",
       "      <td>20.506773</td>\n",
       "      <td>89710</td>\n",
       "      <td>1.0</td>\n",
       "      <td>0.215411</td>\n",
       "      <td>0.759614</td>\n",
       "      <td>0.196823</td>\n",
       "      <td>0.781733</td>\n",
       "      <td>...</td>\n",
       "      <td>0.120829</td>\n",
       "      <td>0.161977</td>\n",
       "      <td>0.896104</td>\n",
       "      <td>0.680693</td>\n",
       "      <td>0.054899</td>\n",
       "      <td>0.135886</td>\n",
       "      <td>0.901753</td>\n",
       "      <td>0.704930</td>\n",
       "      <td>20540.0</td>\n",
       "      <td>69170.0</td>\n",
       "    </tr>\n",
       "  </tbody>\n",
       "</table>\n",
       "<p>4 rows × 50 columns</p>\n",
       "</div>"
      ],
      "text/plain": [
       "  run_no                       universe_id  \\\n",
       "0      3  2d708482513865c643f692fab23c0247   \n",
       "0      3  2d708482513865c643f692fab23c0247   \n",
       "0      3  2d708482513865c643f692fab23c0247   \n",
       "0      3  2d708482513865c643f692fab23c0247   \n",
       "\n",
       "                                   universe_settings  execution_time  \\\n",
       "0  {\"cutoff\": \"quantile_0.1\", \"eval_fairness_grou...       20.506773   \n",
       "0  {\"cutoff\": \"quantile_0.1\", \"eval_fairness_grou...       20.506773   \n",
       "0  {\"cutoff\": \"quantile_0.25\", \"eval_fairness_gro...       20.506773   \n",
       "0  {\"cutoff\": \"quantile_0.25\", \"eval_fairness_gro...       20.506773   \n",
       "\n",
       "   test_size_n  test_size_frac  fair_main_equalized_odds_difference  \\\n",
       "0        89710             1.0                             0.094845   \n",
       "0        89710             1.0                             0.094845   \n",
       "0        89710             1.0                             0.215411   \n",
       "0        89710             1.0                             0.215411   \n",
       "\n",
       "   fair_main_equalized_odds_ratio  fair_main_demographic_parity_difference  \\\n",
       "0                        0.901558                                 0.085243   \n",
       "0                        0.901558                                 0.085243   \n",
       "0                        0.759614                                 0.196823   \n",
       "0                        0.759614                                 0.196823   \n",
       "\n",
       "   fair_main_demographic_parity_ratio  ...  perf_grp_precision_0  \\\n",
       "0                            0.911732  ...                   NaN   \n",
       "0                            0.911732  ...              0.117362   \n",
       "0                            0.781733  ...                   NaN   \n",
       "0                            0.781733  ...              0.120829   \n",
       "\n",
       "   perf_grp_precision_1  perf_grp_false positive rate_0  \\\n",
       "0                   NaN                             NaN   \n",
       "0              0.143835                        0.963460   \n",
       "0                   NaN                             NaN   \n",
       "0              0.161977                        0.896104   \n",
       "\n",
       "   perf_grp_false positive rate_1  perf_grp_false negative rate_0  \\\n",
       "0                             NaN                             NaN   \n",
       "0                        0.868616                        0.016892   \n",
       "0                             NaN                             NaN   \n",
       "0                        0.680693                        0.054899   \n",
       "\n",
       "   perf_grp_false negative rate_1  perf_grp_selection rate_0  \\\n",
       "0                             NaN                        NaN   \n",
       "0                        0.041575                   0.965725   \n",
       "0                             NaN                        NaN   \n",
       "0                        0.135886                   0.901753   \n",
       "\n",
       "   perf_grp_selection rate_1  perf_grp_count_0  perf_grp_count_1  \n",
       "0                        NaN               NaN               NaN  \n",
       "0                   0.880483           20540.0           69170.0  \n",
       "0                        NaN               NaN               NaN  \n",
       "0                   0.704930           20540.0           69170.0  \n",
       "\n",
       "[4 rows x 50 columns]"
      ]
     },
     "execution_count": 64,
     "metadata": {},
     "output_type": "execute_result"
    }
   ],
   "source": [
    "final_output = universe_analysis.generate_final_output(\n",
    "    y_pred_prob=probs_test,\n",
    "    y_test=y_true,\n",
    "    org_test=org_test,\n",
    "    filter_data=filter_sub_universe_data,\n",
    "    cp_metrics_df=cp_metrics_df,\n",
    "    save=True,\n",
    ")\n",
    "final_output"
   ]
  },
  {
   "cell_type": "code",
   "execution_count": null,
   "id": "8b80a1ff",
   "metadata": {
    "papermill": {
     "duration": 0.014249,
     "end_time": "2025-08-19T18:45:42.873636",
     "exception": false,
     "start_time": "2025-08-19T18:45:42.859387",
     "status": "completed"
    },
    "tags": []
   },
   "outputs": [],
   "source": []
  },
  {
   "cell_type": "code",
   "execution_count": null,
   "id": "275c9fad",
   "metadata": {
    "papermill": {
     "duration": 0.029523,
     "end_time": "2025-08-19T18:45:42.917097",
     "exception": false,
     "start_time": "2025-08-19T18:45:42.887574",
     "status": "completed"
    },
    "tags": []
   },
   "outputs": [],
   "source": []
  }
 ],
 "metadata": {
  "celltoolbar": "Tags",
  "kernelspec": {
   "display_name": "Python (CMA Fairness)",
   "language": "python",
   "name": "cma_fair_env"
  },
  "language_info": {
   "codemirror_mode": {
    "name": "ipython",
    "version": 3
   },
   "file_extension": ".py",
   "mimetype": "text/x-python",
   "name": "python",
   "nbconvert_exporter": "python",
   "pygments_lexer": "ipython3",
   "version": "3.10.12"
  },
  "papermill": {
   "default_parameters": {},
   "duration": 31.216791,
   "end_time": "2025-08-19T18:45:43.872171",
   "environment_variables": {},
   "exception": null,
   "input_path": "universe_analysis.ipynb",
   "output_path": "output/runs/3/notebooks/m_3-2d708482513865c643f692fab23c0247.ipynb",
   "parameters": {
    "output_dir": "output",
    "run_no": "3",
    "seed": "2023",
    "universe": "{\"cutoff\": [\"quantile_0.1\", \"quantile_0.25\"], \"eval_fairness_grouping\": [\"majority-minority\", \"nationality-all\"], \"exclude_features\": \"none\", \"exclude_subgroups\": \"drop-non-german\", \"model\": \"penalized_logreg\", \"scale\": \"do-not-scale\", \"training_size\": \"5k\", \"training_year\": \"2010_14\"}",
    "universe_id": "2d708482513865c643f692fab23c0247"
   },
   "start_time": "2025-08-19T18:45:12.655380",
   "version": "2.6.0"
  }
 },
 "nbformat": 4,
 "nbformat_minor": 5
}