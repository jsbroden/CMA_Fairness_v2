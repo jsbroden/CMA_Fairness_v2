{
 "cells": [
  {
   "cell_type": "markdown",
   "id": "ef23dbb3",
   "metadata": {
    "papermill": {
     "duration": 0.011203,
     "end_time": "2025-08-19T18:22:31.700073",
     "exception": false,
     "start_time": "2025-08-19T18:22:31.688870",
     "status": "completed"
    },
    "tags": []
   },
   "source": [
    "# Setup"
   ]
  },
  {
   "cell_type": "code",
   "execution_count": 1,
   "id": "0bc8e7dc",
   "metadata": {
    "execution": {
     "iopub.execute_input": "2025-08-19T18:22:31.721992Z",
     "iopub.status.busy": "2025-08-19T18:22:31.721078Z",
     "iopub.status.idle": "2025-08-19T18:22:31.733306Z",
     "shell.execute_reply": "2025-08-19T18:22:31.732585Z"
    },
    "papermill": {
     "duration": 0.024795,
     "end_time": "2025-08-19T18:22:31.734797",
     "exception": false,
     "start_time": "2025-08-19T18:22:31.710002",
     "status": "completed"
    },
    "tags": []
   },
   "outputs": [
    {
     "name": "stdout",
     "output_type": "stream",
     "text": [
      "/dss/dsshome1/0C/ra93lal2/cma/CMA_Fairness_v2\n"
     ]
    },
    {
     "name": "stderr",
     "output_type": "stream",
     "text": [
      "/dss/dsshome1/0C/ra93lal2/.local/share/virtualenvs/CMA_Fairness_v2-3j10GkSs/lib/python3.10/site-packages/IPython/core/magics/osm.py:393: UserWarning: This is now an optional IPython functionality, using bookmarks requires you to install the `pickleshare` library.\n",
      "  bkms = self.shell.db.get('bookmarks', {})\n",
      "/dss/dsshome1/0C/ra93lal2/.local/share/virtualenvs/CMA_Fairness_v2-3j10GkSs/lib/python3.10/site-packages/IPython/core/magics/osm.py:417: UserWarning: This is now an optional IPython functionality, setting dhist requires you to install the `pickleshare` library.\n",
      "  self.shell.db['dhist'] = compress_dhist(dhist)[-100:]\n"
     ]
    }
   ],
   "source": [
    "%cd ~/cma/CMA_Fairness_v2"
   ]
  },
  {
   "cell_type": "markdown",
   "id": "9d235661",
   "metadata": {
    "papermill": {
     "duration": 0.009408,
     "end_time": "2025-08-19T18:22:31.753859",
     "exception": false,
     "start_time": "2025-08-19T18:22:31.744451",
     "status": "completed"
    },
    "tags": []
   },
   "source": [
    "The following cell holds the definition of our parameters, these values can be overriden by rendering the with e.g. the following command:\n",
    "\n",
    "papermill -p alpha 0.2 -p ratio 0.3 universe_analysis.ipynb output/test_run.ipynb"
   ]
  },
  {
   "cell_type": "code",
   "execution_count": 2,
   "id": "4a789d8e",
   "metadata": {
    "execution": {
     "iopub.execute_input": "2025-08-19T18:22:31.853969Z",
     "iopub.status.busy": "2025-08-19T18:22:31.852683Z",
     "iopub.status.idle": "2025-08-19T18:22:31.858376Z",
     "shell.execute_reply": "2025-08-19T18:22:31.857599Z"
    },
    "papermill": {
     "duration": 0.098404,
     "end_time": "2025-08-19T18:22:31.862999",
     "exception": false,
     "start_time": "2025-08-19T18:22:31.764595",
     "status": "completed"
    },
    "tags": []
   },
   "outputs": [
    {
     "name": "stdout",
     "output_type": "stream",
     "text": [
      "Current working directory: /dss/dsshome1/0C/ra93lal2/cma/CMA_Fairness_v2\n"
     ]
    }
   ],
   "source": [
    "import os\n",
    "print(\"Current working directory:\", os.getcwd())"
   ]
  },
  {
   "cell_type": "code",
   "execution_count": 3,
   "id": "4132aaed",
   "metadata": {
    "execution": {
     "iopub.execute_input": "2025-08-19T18:22:31.895241Z",
     "iopub.status.busy": "2025-08-19T18:22:31.894234Z",
     "iopub.status.idle": "2025-08-19T18:22:31.899691Z",
     "shell.execute_reply": "2025-08-19T18:22:31.898989Z"
    },
    "papermill": {
     "duration": 0.01828,
     "end_time": "2025-08-19T18:22:31.900953",
     "exception": false,
     "start_time": "2025-08-19T18:22:31.882673",
     "status": "completed"
    },
    "tags": [
     "parameters"
    ]
   },
   "outputs": [],
   "source": [
    "run_no = 0\n",
    "universe_id = \"test\"\n",
    "universe = {\n",
    "    \"training_size\": \"5k\", # \"25k\", \"5k\", \"1k\"\n",
    "    \"training_year\": \"2012_14\", # \"2014\", \"2012_14\", \"2010_14\"\n",
    "    \"scale\": \"scale\", # \"scale\", \"do-not-scale\",\n",
    "    \"model\": \"elasticnet\", # \"logreg\", \"penalized_logreg\", \"rf\", \"gbm\", \"elasticnet\"\n",
    "    \"cutoff\": [\"quantile_0.15\", \"quantile_0.30\"],\n",
    "    \"exclude_features\": \"age\", # \"none\", \"nationality\", \"sex\", \"nationality-sex\", \"age\"\n",
    "    \"exclude_subgroups\": \"drop-non-german\", # \"keep-all\", \"drop-non-german\"\n",
    "    \"eval_fairness_grouping\": [\"majority-minority\", \"nationality-all\"]\n",
    "}\n",
    "\n",
    "output_dir=\"./output\"\n",
    "seed=0"
   ]
  },
  {
   "cell_type": "code",
   "execution_count": 4,
   "id": "1dac8f91",
   "metadata": {
    "execution": {
     "iopub.execute_input": "2025-08-19T18:22:31.923004Z",
     "iopub.status.busy": "2025-08-19T18:22:31.921534Z",
     "iopub.status.idle": "2025-08-19T18:22:31.929600Z",
     "shell.execute_reply": "2025-08-19T18:22:31.927994Z"
    },
    "papermill": {
     "duration": 0.024779,
     "end_time": "2025-08-19T18:22:31.935682",
     "exception": false,
     "start_time": "2025-08-19T18:22:31.910903",
     "status": "completed"
    },
    "tags": [
     "injected-parameters"
    ]
   },
   "outputs": [],
   "source": [
    "# Parameters\n",
    "universe_id = \"7d59360e7ee2c85ba71c047688239394\"\n",
    "run_no = \"3\"\n",
    "universe = \"{\\\"cutoff\\\": [\\\"quantile_0.1\\\", \\\"quantile_0.25\\\"], \\\"eval_fairness_grouping\\\": [\\\"majority-minority\\\", \\\"nationality-all\\\"], \\\"exclude_features\\\": \\\"age\\\", \\\"exclude_subgroups\\\": \\\"drop-non-german\\\", \\\"model\\\": \\\"elasticnet\\\", \\\"scale\\\": \\\"do-not-scale\\\", \\\"training_size\\\": \\\"25k\\\", \\\"training_year\\\": \\\"2010_14\\\"}\"\n",
    "output_dir = \"output\"\n",
    "seed = \"2023\"\n"
   ]
  },
  {
   "cell_type": "code",
   "execution_count": 5,
   "id": "a5d7941f",
   "metadata": {
    "execution": {
     "iopub.execute_input": "2025-08-19T18:22:31.973388Z",
     "iopub.status.busy": "2025-08-19T18:22:31.970966Z",
     "iopub.status.idle": "2025-08-19T18:22:31.983340Z",
     "shell.execute_reply": "2025-08-19T18:22:31.982126Z"
    },
    "papermill": {
     "duration": 0.026543,
     "end_time": "2025-08-19T18:22:31.986367",
     "exception": false,
     "start_time": "2025-08-19T18:22:31.959824",
     "status": "completed"
    },
    "tags": []
   },
   "outputs": [],
   "source": [
    "import json\n",
    "if isinstance(universe, str):\n",
    "    universe = json.loads(universe)"
   ]
  },
  {
   "cell_type": "code",
   "execution_count": 6,
   "id": "7076ccb1",
   "metadata": {
    "execution": {
     "iopub.execute_input": "2025-08-19T18:22:32.009610Z",
     "iopub.status.busy": "2025-08-19T18:22:32.009208Z",
     "iopub.status.idle": "2025-08-19T18:22:32.042810Z",
     "shell.execute_reply": "2025-08-19T18:22:32.042212Z"
    },
    "papermill": {
     "duration": 0.046091,
     "end_time": "2025-08-19T18:22:32.045383",
     "exception": false,
     "start_time": "2025-08-19T18:22:31.999292",
     "status": "completed"
    },
    "tags": []
   },
   "outputs": [],
   "source": [
    "# Auto-reload the custom package\n",
    "%load_ext autoreload\n",
    "%autoreload 1\n",
    "%aimport fairness_multiverse"
   ]
  },
  {
   "cell_type": "code",
   "execution_count": 7,
   "id": "94c8eb93",
   "metadata": {
    "execution": {
     "iopub.execute_input": "2025-08-19T18:22:32.082683Z",
     "iopub.status.busy": "2025-08-19T18:22:32.081677Z",
     "iopub.status.idle": "2025-08-19T18:22:33.718584Z",
     "shell.execute_reply": "2025-08-19T18:22:33.717628Z"
    },
    "papermill": {
     "duration": 1.652673,
     "end_time": "2025-08-19T18:22:33.720277",
     "exception": false,
     "start_time": "2025-08-19T18:22:32.067604",
     "status": "completed"
    },
    "tags": []
   },
   "outputs": [],
   "source": [
    "from fairness_multiverse.universe import UniverseAnalysis\n",
    "\n",
    "universe_analysis = UniverseAnalysis(\n",
    "    run_no = run_no,\n",
    "    universe_id = universe_id,\n",
    "    universe = universe,\n",
    "    output_dir=output_dir,\n",
    ")"
   ]
  },
  {
   "cell_type": "code",
   "execution_count": 8,
   "id": "2a6381cf",
   "metadata": {
    "execution": {
     "iopub.execute_input": "2025-08-19T18:22:33.750925Z",
     "iopub.status.busy": "2025-08-19T18:22:33.750336Z",
     "iopub.status.idle": "2025-08-19T18:22:33.758199Z",
     "shell.execute_reply": "2025-08-19T18:22:33.757051Z"
    },
    "papermill": {
     "duration": 0.028017,
     "end_time": "2025-08-19T18:22:33.760397",
     "exception": false,
     "start_time": "2025-08-19T18:22:33.732380",
     "status": "completed"
    },
    "tags": []
   },
   "outputs": [
    {
     "name": "stdout",
     "output_type": "stream",
     "text": [
      "Using Seed: 2023\n"
     ]
    }
   ],
   "source": [
    "import numpy as np\n",
    "parsed_seed = int(seed)\n",
    "np.random.seed(parsed_seed)\n",
    "print(f\"Using Seed: {parsed_seed}\")"
   ]
  },
  {
   "cell_type": "markdown",
   "id": "b6e958b4",
   "metadata": {
    "papermill": {
     "duration": 0.011135,
     "end_time": "2025-08-19T18:22:33.789747",
     "exception": false,
     "start_time": "2025-08-19T18:22:33.778612",
     "status": "completed"
    },
    "tags": []
   },
   "source": [
    "# Loading Data"
   ]
  },
  {
   "cell_type": "code",
   "execution_count": 9,
   "id": "98701482",
   "metadata": {
    "execution": {
     "iopub.execute_input": "2025-08-19T18:22:33.822111Z",
     "iopub.status.busy": "2025-08-19T18:22:33.821410Z",
     "iopub.status.idle": "2025-08-19T18:22:43.652380Z",
     "shell.execute_reply": "2025-08-19T18:22:43.651076Z"
    },
    "papermill": {
     "duration": 9.844448,
     "end_time": "2025-08-19T18:22:43.654542",
     "exception": false,
     "start_time": "2025-08-19T18:22:33.810094",
     "status": "completed"
    },
    "tags": []
   },
   "outputs": [
    {
     "name": "stdout",
     "output_type": "stream",
     "text": [
      "Loading SIAB data from cache: data/siab_cached.csv.gz\n"
     ]
    },
    {
     "name": "stdout",
     "output_type": "stream",
     "text": [
      "(643690, 164)\n"
     ]
    }
   ],
   "source": [
    "from pathlib import Path\n",
    "import pandas as pd\n",
    "\n",
    "# File paths\n",
    "raw_file = Path(\"data/raw/siab.csv\")\n",
    "cache_file = Path(\"data/siab_cached.csv.gz\")\n",
    "\n",
    "# Ensure cache directory exists\n",
    "cache_file.parent.mkdir(parents=True, exist_ok=True)\n",
    "\n",
    "# Load with simple caching\n",
    "if cache_file.exists():\n",
    "    print(f\"Loading SIAB data from cache: {cache_file}\")\n",
    "    siab = pd.read_csv(cache_file, compression='gzip')\n",
    "else:\n",
    "    print(f\"Cache not found. Reading raw SIAB data: {raw_file}\")\n",
    "    siab = pd.read_csv(raw_file)\n",
    "    siab.to_csv(cache_file, index=False, compression='gzip')\n",
    "    print(f\"Cached SIAB data to: {cache_file}\")\n",
    "\n",
    "print(siab.shape)"
   ]
  },
  {
   "cell_type": "code",
   "execution_count": 10,
   "id": "058d2abb",
   "metadata": {
    "execution": {
     "iopub.execute_input": "2025-08-19T18:22:43.679699Z",
     "iopub.status.busy": "2025-08-19T18:22:43.678629Z",
     "iopub.status.idle": "2025-08-19T18:22:43.828250Z",
     "shell.execute_reply": "2025-08-19T18:22:43.827079Z"
    },
    "papermill": {
     "duration": 0.162116,
     "end_time": "2025-08-19T18:22:43.829632",
     "exception": false,
     "start_time": "2025-08-19T18:22:43.667516",
     "status": "completed"
    },
    "tags": []
   },
   "outputs": [
    {
     "data": {
      "text/html": [
       "<div>\n",
       "<style scoped>\n",
       "    .dataframe tbody tr th:only-of-type {\n",
       "        vertical-align: middle;\n",
       "    }\n",
       "\n",
       "    .dataframe tbody tr th {\n",
       "        vertical-align: top;\n",
       "    }\n",
       "\n",
       "    .dataframe thead th {\n",
       "        text-align: right;\n",
       "    }\n",
       "</style>\n",
       "<table border=\"1\" class=\"dataframe\">\n",
       "  <thead>\n",
       "    <tr style=\"text-align: right;\">\n",
       "      <th></th>\n",
       "      <th>persnr</th>\n",
       "      <th>year</th>\n",
       "      <th>nrEntry</th>\n",
       "      <th>ltue</th>\n",
       "      <th>employed_before</th>\n",
       "      <th>receipt_leh_before</th>\n",
       "      <th>receipt_lhg_before</th>\n",
       "      <th>se_before</th>\n",
       "      <th>ASU_notue_seeking_before</th>\n",
       "      <th>ASU_other_before</th>\n",
       "      <th>...</th>\n",
       "      <th>minijob_tot_dur_byage</th>\n",
       "      <th>ft_tot_dur_byage</th>\n",
       "      <th>befrist_tot_dur_byage</th>\n",
       "      <th>leih_tot_dur_byage</th>\n",
       "      <th>LHG_tot_dur_byage</th>\n",
       "      <th>LEH_tot_dur_byage</th>\n",
       "      <th>almp_tot_dur_byage</th>\n",
       "      <th>almp_aw_tot_dur_byage</th>\n",
       "      <th>se_tot_dur_byage</th>\n",
       "      <th>seeking1_tot_dur_byage</th>\n",
       "    </tr>\n",
       "  </thead>\n",
       "  <tbody>\n",
       "    <tr>\n",
       "      <th>0</th>\n",
       "      <td>7</td>\n",
       "      <td>2015</td>\n",
       "      <td>1</td>\n",
       "      <td>0</td>\n",
       "      <td>1</td>\n",
       "      <td>0</td>\n",
       "      <td>0</td>\n",
       "      <td>0</td>\n",
       "      <td>1</td>\n",
       "      <td>0</td>\n",
       "      <td>...</td>\n",
       "      <td>0.000000</td>\n",
       "      <td>0.000000</td>\n",
       "      <td>15.043478</td>\n",
       "      <td>0.000000</td>\n",
       "      <td>0.000000</td>\n",
       "      <td>0.000000</td>\n",
       "      <td>0.000000</td>\n",
       "      <td>0.000000</td>\n",
       "      <td>0.000000</td>\n",
       "      <td>0.000000</td>\n",
       "    </tr>\n",
       "    <tr>\n",
       "      <th>1</th>\n",
       "      <td>18</td>\n",
       "      <td>2010</td>\n",
       "      <td>1</td>\n",
       "      <td>1</td>\n",
       "      <td>0</td>\n",
       "      <td>0</td>\n",
       "      <td>0</td>\n",
       "      <td>0</td>\n",
       "      <td>0</td>\n",
       "      <td>0</td>\n",
       "      <td>...</td>\n",
       "      <td>0.000000</td>\n",
       "      <td>0.000000</td>\n",
       "      <td>0.000000</td>\n",
       "      <td>0.000000</td>\n",
       "      <td>0.000000</td>\n",
       "      <td>0.000000</td>\n",
       "      <td>0.000000</td>\n",
       "      <td>0.000000</td>\n",
       "      <td>0.000000</td>\n",
       "      <td>0.000000</td>\n",
       "    </tr>\n",
       "    <tr>\n",
       "      <th>2</th>\n",
       "      <td>18</td>\n",
       "      <td>2011</td>\n",
       "      <td>2</td>\n",
       "      <td>0</td>\n",
       "      <td>1</td>\n",
       "      <td>0</td>\n",
       "      <td>1</td>\n",
       "      <td>0</td>\n",
       "      <td>1</td>\n",
       "      <td>0</td>\n",
       "      <td>...</td>\n",
       "      <td>2.714286</td>\n",
       "      <td>2.714286</td>\n",
       "      <td>0.000000</td>\n",
       "      <td>0.000000</td>\n",
       "      <td>10.775510</td>\n",
       "      <td>0.000000</td>\n",
       "      <td>8.367347</td>\n",
       "      <td>0.000000</td>\n",
       "      <td>0.000000</td>\n",
       "      <td>9.836735</td>\n",
       "    </tr>\n",
       "    <tr>\n",
       "      <th>3</th>\n",
       "      <td>18</td>\n",
       "      <td>2012</td>\n",
       "      <td>3</td>\n",
       "      <td>0</td>\n",
       "      <td>1</td>\n",
       "      <td>0</td>\n",
       "      <td>1</td>\n",
       "      <td>0</td>\n",
       "      <td>1</td>\n",
       "      <td>0</td>\n",
       "      <td>...</td>\n",
       "      <td>4.200000</td>\n",
       "      <td>4.200000</td>\n",
       "      <td>0.000000</td>\n",
       "      <td>0.000000</td>\n",
       "      <td>12.100000</td>\n",
       "      <td>0.000000</td>\n",
       "      <td>9.400000</td>\n",
       "      <td>0.000000</td>\n",
       "      <td>0.000000</td>\n",
       "      <td>9.960000</td>\n",
       "    </tr>\n",
       "    <tr>\n",
       "      <th>4</th>\n",
       "      <td>18</td>\n",
       "      <td>2012</td>\n",
       "      <td>4</td>\n",
       "      <td>0</td>\n",
       "      <td>1</td>\n",
       "      <td>0</td>\n",
       "      <td>1</td>\n",
       "      <td>0</td>\n",
       "      <td>1</td>\n",
       "      <td>0</td>\n",
       "      <td>...</td>\n",
       "      <td>5.460000</td>\n",
       "      <td>5.460000</td>\n",
       "      <td>0.000000</td>\n",
       "      <td>0.000000</td>\n",
       "      <td>13.360000</td>\n",
       "      <td>0.000000</td>\n",
       "      <td>10.320000</td>\n",
       "      <td>0.000000</td>\n",
       "      <td>0.000000</td>\n",
       "      <td>10.280000</td>\n",
       "    </tr>\n",
       "    <tr>\n",
       "      <th>...</th>\n",
       "      <td>...</td>\n",
       "      <td>...</td>\n",
       "      <td>...</td>\n",
       "      <td>...</td>\n",
       "      <td>...</td>\n",
       "      <td>...</td>\n",
       "      <td>...</td>\n",
       "      <td>...</td>\n",
       "      <td>...</td>\n",
       "      <td>...</td>\n",
       "      <td>...</td>\n",
       "      <td>...</td>\n",
       "      <td>...</td>\n",
       "      <td>...</td>\n",
       "      <td>...</td>\n",
       "      <td>...</td>\n",
       "      <td>...</td>\n",
       "      <td>...</td>\n",
       "      <td>...</td>\n",
       "      <td>...</td>\n",
       "      <td>...</td>\n",
       "    </tr>\n",
       "    <tr>\n",
       "      <th>643685</th>\n",
       "      <td>1827860</td>\n",
       "      <td>2013</td>\n",
       "      <td>1</td>\n",
       "      <td>0</td>\n",
       "      <td>0</td>\n",
       "      <td>0</td>\n",
       "      <td>1</td>\n",
       "      <td>0</td>\n",
       "      <td>0</td>\n",
       "      <td>1</td>\n",
       "      <td>...</td>\n",
       "      <td>0.000000</td>\n",
       "      <td>0.000000</td>\n",
       "      <td>0.000000</td>\n",
       "      <td>0.000000</td>\n",
       "      <td>0.612903</td>\n",
       "      <td>0.000000</td>\n",
       "      <td>0.000000</td>\n",
       "      <td>0.000000</td>\n",
       "      <td>0.000000</td>\n",
       "      <td>0.000000</td>\n",
       "    </tr>\n",
       "    <tr>\n",
       "      <th>643686</th>\n",
       "      <td>1827860</td>\n",
       "      <td>2015</td>\n",
       "      <td>2</td>\n",
       "      <td>1</td>\n",
       "      <td>0</td>\n",
       "      <td>0</td>\n",
       "      <td>1</td>\n",
       "      <td>0</td>\n",
       "      <td>1</td>\n",
       "      <td>0</td>\n",
       "      <td>...</td>\n",
       "      <td>0.000000</td>\n",
       "      <td>0.000000</td>\n",
       "      <td>0.212121</td>\n",
       "      <td>0.212121</td>\n",
       "      <td>17.363636</td>\n",
       "      <td>0.000000</td>\n",
       "      <td>8.909091</td>\n",
       "      <td>0.000000</td>\n",
       "      <td>0.000000</td>\n",
       "      <td>7.121212</td>\n",
       "    </tr>\n",
       "    <tr>\n",
       "      <th>643687</th>\n",
       "      <td>1827860</td>\n",
       "      <td>2016</td>\n",
       "      <td>3</td>\n",
       "      <td>1</td>\n",
       "      <td>0</td>\n",
       "      <td>0</td>\n",
       "      <td>1</td>\n",
       "      <td>1</td>\n",
       "      <td>0</td>\n",
       "      <td>1</td>\n",
       "      <td>...</td>\n",
       "      <td>0.000000</td>\n",
       "      <td>0.000000</td>\n",
       "      <td>0.294118</td>\n",
       "      <td>0.205882</td>\n",
       "      <td>34.705882</td>\n",
       "      <td>0.000000</td>\n",
       "      <td>10.352941</td>\n",
       "      <td>1.705882</td>\n",
       "      <td>1.705882</td>\n",
       "      <td>23.911765</td>\n",
       "    </tr>\n",
       "    <tr>\n",
       "      <th>643688</th>\n",
       "      <td>1827869</td>\n",
       "      <td>2013</td>\n",
       "      <td>1</td>\n",
       "      <td>1</td>\n",
       "      <td>1</td>\n",
       "      <td>0</td>\n",
       "      <td>0</td>\n",
       "      <td>0</td>\n",
       "      <td>1</td>\n",
       "      <td>0</td>\n",
       "      <td>...</td>\n",
       "      <td>0.000000</td>\n",
       "      <td>0.000000</td>\n",
       "      <td>0.000000</td>\n",
       "      <td>0.000000</td>\n",
       "      <td>0.000000</td>\n",
       "      <td>0.525424</td>\n",
       "      <td>0.000000</td>\n",
       "      <td>0.000000</td>\n",
       "      <td>0.000000</td>\n",
       "      <td>0.000000</td>\n",
       "    </tr>\n",
       "    <tr>\n",
       "      <th>643689</th>\n",
       "      <td>1827869</td>\n",
       "      <td>2014</td>\n",
       "      <td>2</td>\n",
       "      <td>0</td>\n",
       "      <td>0</td>\n",
       "      <td>1</td>\n",
       "      <td>0</td>\n",
       "      <td>0</td>\n",
       "      <td>1</td>\n",
       "      <td>0</td>\n",
       "      <td>...</td>\n",
       "      <td>0.000000</td>\n",
       "      <td>0.666667</td>\n",
       "      <td>0.666667</td>\n",
       "      <td>0.000000</td>\n",
       "      <td>0.000000</td>\n",
       "      <td>8.950000</td>\n",
       "      <td>1.033333</td>\n",
       "      <td>0.083333</td>\n",
       "      <td>0.083333</td>\n",
       "      <td>8.133333</td>\n",
       "    </tr>\n",
       "  </tbody>\n",
       "</table>\n",
       "<p>643690 rows × 164 columns</p>\n",
       "</div>"
      ],
      "text/plain": [
       "         persnr  year  nrEntry  ltue  employed_before  receipt_leh_before  \\\n",
       "0             7  2015        1     0                1                   0   \n",
       "1            18  2010        1     1                0                   0   \n",
       "2            18  2011        2     0                1                   0   \n",
       "3            18  2012        3     0                1                   0   \n",
       "4            18  2012        4     0                1                   0   \n",
       "...         ...   ...      ...   ...              ...                 ...   \n",
       "643685  1827860  2013        1     0                0                   0   \n",
       "643686  1827860  2015        2     1                0                   0   \n",
       "643687  1827860  2016        3     1                0                   0   \n",
       "643688  1827869  2013        1     1                1                   0   \n",
       "643689  1827869  2014        2     0                0                   1   \n",
       "\n",
       "        receipt_lhg_before  se_before  ASU_notue_seeking_before  \\\n",
       "0                        0          0                         1   \n",
       "1                        0          0                         0   \n",
       "2                        1          0                         1   \n",
       "3                        1          0                         1   \n",
       "4                        1          0                         1   \n",
       "...                    ...        ...                       ...   \n",
       "643685                   1          0                         0   \n",
       "643686                   1          0                         1   \n",
       "643687                   1          1                         0   \n",
       "643688                   0          0                         1   \n",
       "643689                   0          0                         1   \n",
       "\n",
       "        ASU_other_before  ...  minijob_tot_dur_byage  ft_tot_dur_byage  \\\n",
       "0                      0  ...               0.000000          0.000000   \n",
       "1                      0  ...               0.000000          0.000000   \n",
       "2                      0  ...               2.714286          2.714286   \n",
       "3                      0  ...               4.200000          4.200000   \n",
       "4                      0  ...               5.460000          5.460000   \n",
       "...                  ...  ...                    ...               ...   \n",
       "643685                 1  ...               0.000000          0.000000   \n",
       "643686                 0  ...               0.000000          0.000000   \n",
       "643687                 1  ...               0.000000          0.000000   \n",
       "643688                 0  ...               0.000000          0.000000   \n",
       "643689                 0  ...               0.000000          0.666667   \n",
       "\n",
       "        befrist_tot_dur_byage  leih_tot_dur_byage  LHG_tot_dur_byage  \\\n",
       "0                   15.043478            0.000000           0.000000   \n",
       "1                    0.000000            0.000000           0.000000   \n",
       "2                    0.000000            0.000000          10.775510   \n",
       "3                    0.000000            0.000000          12.100000   \n",
       "4                    0.000000            0.000000          13.360000   \n",
       "...                       ...                 ...                ...   \n",
       "643685               0.000000            0.000000           0.612903   \n",
       "643686               0.212121            0.212121          17.363636   \n",
       "643687               0.294118            0.205882          34.705882   \n",
       "643688               0.000000            0.000000           0.000000   \n",
       "643689               0.666667            0.000000           0.000000   \n",
       "\n",
       "        LEH_tot_dur_byage  almp_tot_dur_byage  almp_aw_tot_dur_byage  \\\n",
       "0                0.000000            0.000000               0.000000   \n",
       "1                0.000000            0.000000               0.000000   \n",
       "2                0.000000            8.367347               0.000000   \n",
       "3                0.000000            9.400000               0.000000   \n",
       "4                0.000000           10.320000               0.000000   \n",
       "...                   ...                 ...                    ...   \n",
       "643685           0.000000            0.000000               0.000000   \n",
       "643686           0.000000            8.909091               0.000000   \n",
       "643687           0.000000           10.352941               1.705882   \n",
       "643688           0.525424            0.000000               0.000000   \n",
       "643689           8.950000            1.033333               0.083333   \n",
       "\n",
       "        se_tot_dur_byage  seeking1_tot_dur_byage  \n",
       "0               0.000000                0.000000  \n",
       "1               0.000000                0.000000  \n",
       "2               0.000000                9.836735  \n",
       "3               0.000000                9.960000  \n",
       "4               0.000000               10.280000  \n",
       "...                  ...                     ...  \n",
       "643685          0.000000                0.000000  \n",
       "643686          0.000000                7.121212  \n",
       "643687          1.705882               23.911765  \n",
       "643688          0.000000                0.000000  \n",
       "643689          0.083333                8.133333  \n",
       "\n",
       "[643690 rows x 164 columns]"
      ]
     },
     "execution_count": 10,
     "metadata": {},
     "output_type": "execute_result"
    }
   ],
   "source": [
    "siab"
   ]
  },
  {
   "cell_type": "markdown",
   "id": "1f87e805",
   "metadata": {
    "papermill": {
     "duration": 0.009824,
     "end_time": "2025-08-19T18:22:43.850242",
     "exception": false,
     "start_time": "2025-08-19T18:22:43.840418",
     "status": "completed"
    },
    "tags": []
   },
   "source": [
    "# Splitting Data and Setting Training Data Size"
   ]
  },
  {
   "cell_type": "code",
   "execution_count": 11,
   "id": "910ae358",
   "metadata": {
    "execution": {
     "iopub.execute_input": "2025-08-19T18:22:43.872415Z",
     "iopub.status.busy": "2025-08-19T18:22:43.871243Z",
     "iopub.status.idle": "2025-08-19T18:22:45.031059Z",
     "shell.execute_reply": "2025-08-19T18:22:45.030247Z"
    },
    "papermill": {
     "duration": 1.172846,
     "end_time": "2025-08-19T18:22:45.032796",
     "exception": false,
     "start_time": "2025-08-19T18:22:43.859950",
     "status": "completed"
    },
    "tags": []
   },
   "outputs": [],
   "source": [
    "from fairness_multiverse.universe import sample_by_year_size\n",
    "\n",
    "siab_train = sample_by_year_size(siab,\n",
    "                               training_year=universe[\"training_year\"],\n",
    "                               training_size=universe[\"training_size\"])"
   ]
  },
  {
   "cell_type": "code",
   "execution_count": 12,
   "id": "919c8ff5",
   "metadata": {
    "execution": {
     "iopub.execute_input": "2025-08-19T18:22:45.084379Z",
     "iopub.status.busy": "2025-08-19T18:22:45.082871Z",
     "iopub.status.idle": "2025-08-19T18:22:45.093448Z",
     "shell.execute_reply": "2025-08-19T18:22:45.092163Z"
    },
    "papermill": {
     "duration": 0.038004,
     "end_time": "2025-08-19T18:22:45.095189",
     "exception": false,
     "start_time": "2025-08-19T18:22:45.057185",
     "status": "completed"
    },
    "tags": []
   },
   "outputs": [
    {
     "data": {
      "text/plain": [
       "(25000, 164)"
      ]
     },
     "execution_count": 12,
     "metadata": {},
     "output_type": "execute_result"
    }
   ],
   "source": [
    "siab_train.shape"
   ]
  },
  {
   "cell_type": "code",
   "execution_count": 13,
   "id": "feb13bf4",
   "metadata": {
    "execution": {
     "iopub.execute_input": "2025-08-19T18:22:45.118872Z",
     "iopub.status.busy": "2025-08-19T18:22:45.117489Z",
     "iopub.status.idle": "2025-08-19T18:22:45.131803Z",
     "shell.execute_reply": "2025-08-19T18:22:45.130738Z"
    },
    "papermill": {
     "duration": 0.027494,
     "end_time": "2025-08-19T18:22:45.133420",
     "exception": false,
     "start_time": "2025-08-19T18:22:45.105926",
     "status": "completed"
    },
    "tags": []
   },
   "outputs": [
    {
     "data": {
      "text/plain": [
       "year\n",
       "2010    5000\n",
       "2011    5000\n",
       "2012    5000\n",
       "2013    5000\n",
       "2014    5000\n",
       "dtype: int64"
      ]
     },
     "metadata": {},
     "output_type": "display_data"
    }
   ],
   "source": [
    "display(siab_train.groupby(\"year\").size())"
   ]
  },
  {
   "cell_type": "code",
   "execution_count": 14,
   "id": "0997782f",
   "metadata": {
    "execution": {
     "iopub.execute_input": "2025-08-19T18:22:45.164096Z",
     "iopub.status.busy": "2025-08-19T18:22:45.162712Z",
     "iopub.status.idle": "2025-08-19T18:22:45.438773Z",
     "shell.execute_reply": "2025-08-19T18:22:45.437963Z"
    },
    "papermill": {
     "duration": 0.292048,
     "end_time": "2025-08-19T18:22:45.441731",
     "exception": false,
     "start_time": "2025-08-19T18:22:45.149683",
     "status": "completed"
    },
    "tags": []
   },
   "outputs": [],
   "source": [
    "#siab_train = siab_s[siab_s.year < 2015]\n",
    "siab_calib = siab[siab.year == 2015]\n",
    "siab_test = siab[siab.year == 2016]"
   ]
  },
  {
   "cell_type": "code",
   "execution_count": 15,
   "id": "2c1e4012",
   "metadata": {
    "execution": {
     "iopub.execute_input": "2025-08-19T18:22:45.481638Z",
     "iopub.status.busy": "2025-08-19T18:22:45.480626Z",
     "iopub.status.idle": "2025-08-19T18:22:45.487261Z",
     "shell.execute_reply": "2025-08-19T18:22:45.486011Z"
    },
    "papermill": {
     "duration": 0.022818,
     "end_time": "2025-08-19T18:22:45.489000",
     "exception": false,
     "start_time": "2025-08-19T18:22:45.466182",
     "status": "completed"
    },
    "tags": []
   },
   "outputs": [],
   "source": [
    "#siab_calib.shape"
   ]
  },
  {
   "cell_type": "code",
   "execution_count": 16,
   "id": "f66b54ca",
   "metadata": {
    "execution": {
     "iopub.execute_input": "2025-08-19T18:22:45.514458Z",
     "iopub.status.busy": "2025-08-19T18:22:45.513350Z",
     "iopub.status.idle": "2025-08-19T18:22:45.520063Z",
     "shell.execute_reply": "2025-08-19T18:22:45.518812Z"
    },
    "papermill": {
     "duration": 0.019749,
     "end_time": "2025-08-19T18:22:45.521397",
     "exception": false,
     "start_time": "2025-08-19T18:22:45.501648",
     "status": "completed"
    },
    "tags": []
   },
   "outputs": [],
   "source": [
    "#siab_test.shape"
   ]
  },
  {
   "cell_type": "code",
   "execution_count": 17,
   "id": "27e4384d",
   "metadata": {
    "execution": {
     "iopub.execute_input": "2025-08-19T18:22:45.549003Z",
     "iopub.status.busy": "2025-08-19T18:22:45.545219Z",
     "iopub.status.idle": "2025-08-19T18:22:45.561419Z",
     "shell.execute_reply": "2025-08-19T18:22:45.560670Z"
    },
    "papermill": {
     "duration": 0.030694,
     "end_time": "2025-08-19T18:22:45.563019",
     "exception": false,
     "start_time": "2025-08-19T18:22:45.532325",
     "status": "completed"
    },
    "tags": []
   },
   "outputs": [],
   "source": [
    "X_train = siab_train.iloc[:,4:164]\n",
    "y_train = siab_train.iloc[:, [3]]"
   ]
  },
  {
   "cell_type": "code",
   "execution_count": 18,
   "id": "08ee8389",
   "metadata": {
    "execution": {
     "iopub.execute_input": "2025-08-19T18:22:45.592840Z",
     "iopub.status.busy": "2025-08-19T18:22:45.592380Z",
     "iopub.status.idle": "2025-08-19T18:22:45.660126Z",
     "shell.execute_reply": "2025-08-19T18:22:45.659055Z"
    },
    "papermill": {
     "duration": 0.082334,
     "end_time": "2025-08-19T18:22:45.661735",
     "exception": false,
     "start_time": "2025-08-19T18:22:45.579401",
     "status": "completed"
    },
    "tags": []
   },
   "outputs": [],
   "source": [
    "X_calib = siab_calib.iloc[:,4:164]\n",
    "y_calib = siab_calib.iloc[:, [3]]"
   ]
  },
  {
   "cell_type": "code",
   "execution_count": 19,
   "id": "b7ff42e0",
   "metadata": {
    "execution": {
     "iopub.execute_input": "2025-08-19T18:22:45.686610Z",
     "iopub.status.busy": "2025-08-19T18:22:45.686168Z",
     "iopub.status.idle": "2025-08-19T18:22:45.744733Z",
     "shell.execute_reply": "2025-08-19T18:22:45.743919Z"
    },
    "papermill": {
     "duration": 0.072581,
     "end_time": "2025-08-19T18:22:45.746321",
     "exception": false,
     "start_time": "2025-08-19T18:22:45.673740",
     "status": "completed"
    },
    "tags": []
   },
   "outputs": [],
   "source": [
    "X_test = siab_test.iloc[:,4:164]\n",
    "y_true = siab_test.iloc[:, [3]]"
   ]
  },
  {
   "cell_type": "code",
   "execution_count": 20,
   "id": "0275101e",
   "metadata": {
    "execution": {
     "iopub.execute_input": "2025-08-19T18:22:45.770719Z",
     "iopub.status.busy": "2025-08-19T18:22:45.770433Z",
     "iopub.status.idle": "2025-08-19T18:22:45.888051Z",
     "shell.execute_reply": "2025-08-19T18:22:45.887189Z"
    },
    "papermill": {
     "duration": 0.132035,
     "end_time": "2025-08-19T18:22:45.890921",
     "exception": false,
     "start_time": "2025-08-19T18:22:45.758886",
     "status": "completed"
    },
    "tags": []
   },
   "outputs": [],
   "source": [
    "# Auxiliary data needed downstream in the pipeline\n",
    "\n",
    "org_train = X_train.copy()\n",
    "org_test = X_test.copy()\n",
    "org_calib = X_calib.copy()"
   ]
  },
  {
   "cell_type": "markdown",
   "id": "b461e618",
   "metadata": {
    "papermill": {
     "duration": 0.020522,
     "end_time": "2025-08-19T18:22:45.936603",
     "exception": false,
     "start_time": "2025-08-19T18:22:45.916081",
     "status": "completed"
    },
    "tags": []
   },
   "source": [
    "# Preprocessing Data"
   ]
  },
  {
   "cell_type": "code",
   "execution_count": 21,
   "id": "78e74c4b",
   "metadata": {
    "execution": {
     "iopub.execute_input": "2025-08-19T18:22:45.969429Z",
     "iopub.status.busy": "2025-08-19T18:22:45.968450Z",
     "iopub.status.idle": "2025-08-19T18:22:45.979888Z",
     "shell.execute_reply": "2025-08-19T18:22:45.978698Z"
    },
    "papermill": {
     "duration": 0.033012,
     "end_time": "2025-08-19T18:22:45.981861",
     "exception": false,
     "start_time": "2025-08-19T18:22:45.948849",
     "status": "completed"
    },
    "tags": []
   },
   "outputs": [],
   "source": [
    "# EXCLUDE PROTECTED FEATURES\n",
    "# --------------------------\n",
    "\n",
    "excluded_features = universe[\"exclude_features\"].split(\"-\")\n",
    "excluded_features_dictionary = {\n",
    "    \"nationality\": [\"maxdeutsch1\", \"maxdeutsch.Missing.\"],\n",
    "    \"sex\": [\"frau1\"],\n",
    "    \"age\": [\"age\"],\n",
    "}"
   ]
  },
  {
   "cell_type": "code",
   "execution_count": 22,
   "id": "f8e63555",
   "metadata": {
    "execution": {
     "iopub.execute_input": "2025-08-19T18:22:46.009984Z",
     "iopub.status.busy": "2025-08-19T18:22:46.008651Z",
     "iopub.status.idle": "2025-08-19T18:22:46.017494Z",
     "shell.execute_reply": "2025-08-19T18:22:46.016086Z"
    },
    "papermill": {
     "duration": 0.023053,
     "end_time": "2025-08-19T18:22:46.019402",
     "exception": false,
     "start_time": "2025-08-19T18:22:45.996349",
     "status": "completed"
    },
    "tags": []
   },
   "outputs": [],
   "source": [
    "excluded_features_columns = [\n",
    "    excluded_features_dictionary[f] for f in excluded_features if len(f) > 0 and f != \"none\"\n",
    "]"
   ]
  },
  {
   "cell_type": "code",
   "execution_count": 23,
   "id": "da781f7c",
   "metadata": {
    "execution": {
     "iopub.execute_input": "2025-08-19T18:22:46.044971Z",
     "iopub.status.busy": "2025-08-19T18:22:46.044074Z",
     "iopub.status.idle": "2025-08-19T18:22:46.054103Z",
     "shell.execute_reply": "2025-08-19T18:22:46.051960Z"
    },
    "papermill": {
     "duration": 0.023971,
     "end_time": "2025-08-19T18:22:46.056063",
     "exception": false,
     "start_time": "2025-08-19T18:22:46.032092",
     "status": "completed"
    },
    "tags": []
   },
   "outputs": [],
   "source": [
    "from fairness_multiverse.universe import flatten_once\n",
    "\n",
    "excluded_features_columns = flatten_once(excluded_features_columns)"
   ]
  },
  {
   "cell_type": "code",
   "execution_count": 24,
   "id": "37fef0f0",
   "metadata": {
    "execution": {
     "iopub.execute_input": "2025-08-19T18:22:46.081578Z",
     "iopub.status.busy": "2025-08-19T18:22:46.080403Z",
     "iopub.status.idle": "2025-08-19T18:22:46.102167Z",
     "shell.execute_reply": "2025-08-19T18:22:46.101126Z"
    },
    "papermill": {
     "duration": 0.036747,
     "end_time": "2025-08-19T18:22:46.105168",
     "exception": false,
     "start_time": "2025-08-19T18:22:46.068421",
     "status": "completed"
    },
    "tags": []
   },
   "outputs": [
    {
     "name": "stdout",
     "output_type": "stream",
     "text": [
      "Dropping features: ['age']\n"
     ]
    }
   ],
   "source": [
    "if len(excluded_features_columns) > 0:\n",
    "    print(f\"Dropping features: {excluded_features_columns}\")\n",
    "    X_train.drop(excluded_features_columns, axis=1, inplace=True)"
   ]
  },
  {
   "cell_type": "code",
   "execution_count": 25,
   "id": "d029e3e9",
   "metadata": {
    "execution": {
     "iopub.execute_input": "2025-08-19T18:22:46.138035Z",
     "iopub.status.busy": "2025-08-19T18:22:46.135950Z",
     "iopub.status.idle": "2025-08-19T18:22:46.205044Z",
     "shell.execute_reply": "2025-08-19T18:22:46.204294Z"
    },
    "papermill": {
     "duration": 0.084186,
     "end_time": "2025-08-19T18:22:46.207738",
     "exception": false,
     "start_time": "2025-08-19T18:22:46.123552",
     "status": "completed"
    },
    "tags": []
   },
   "outputs": [
    {
     "name": "stdout",
     "output_type": "stream",
     "text": [
      "Dropping features: ['age']\n"
     ]
    }
   ],
   "source": [
    "if len(excluded_features_columns) > 0:\n",
    "    print(f\"Dropping features: {excluded_features_columns}\")\n",
    "    X_test.drop(excluded_features_columns, axis=1, inplace=True)"
   ]
  },
  {
   "cell_type": "code",
   "execution_count": 26,
   "id": "01d571f0",
   "metadata": {
    "execution": {
     "iopub.execute_input": "2025-08-19T18:22:46.248620Z",
     "iopub.status.busy": "2025-08-19T18:22:46.247675Z",
     "iopub.status.idle": "2025-08-19T18:22:46.309989Z",
     "shell.execute_reply": "2025-08-19T18:22:46.308643Z"
    },
    "papermill": {
     "duration": 0.080595,
     "end_time": "2025-08-19T18:22:46.314217",
     "exception": false,
     "start_time": "2025-08-19T18:22:46.233622",
     "status": "completed"
    },
    "tags": []
   },
   "outputs": [
    {
     "name": "stdout",
     "output_type": "stream",
     "text": [
      "Dropping features: ['age']\n"
     ]
    }
   ],
   "source": [
    "if len(excluded_features_columns) > 0:\n",
    "    print(f\"Dropping features: {excluded_features_columns}\")\n",
    "    X_calib.drop(excluded_features_columns, axis=1, inplace=True)"
   ]
  },
  {
   "cell_type": "code",
   "execution_count": 27,
   "id": "3037356e",
   "metadata": {
    "execution": {
     "iopub.execute_input": "2025-08-19T18:22:46.351220Z",
     "iopub.status.busy": "2025-08-19T18:22:46.350217Z",
     "iopub.status.idle": "2025-08-19T18:22:46.358883Z",
     "shell.execute_reply": "2025-08-19T18:22:46.356316Z"
    },
    "papermill": {
     "duration": 0.025095,
     "end_time": "2025-08-19T18:22:46.361562",
     "exception": false,
     "start_time": "2025-08-19T18:22:46.336467",
     "status": "completed"
    },
    "tags": []
   },
   "outputs": [],
   "source": [
    "# EXCLUDE CERTAIN SUBGROUPS\n",
    "# -------------------------\n",
    "\n",
    "mode = universe.get(\"exclude_subgroups\", \"keep-all\") # Defaults to \"keep-all\" if the key is missing."
   ]
  },
  {
   "cell_type": "code",
   "execution_count": 28,
   "id": "9d1e63fd",
   "metadata": {
    "execution": {
     "iopub.execute_input": "2025-08-19T18:22:46.389657Z",
     "iopub.status.busy": "2025-08-19T18:22:46.388681Z",
     "iopub.status.idle": "2025-08-19T18:22:46.399157Z",
     "shell.execute_reply": "2025-08-19T18:22:46.397944Z"
    },
    "papermill": {
     "duration": 0.025254,
     "end_time": "2025-08-19T18:22:46.400614",
     "exception": false,
     "start_time": "2025-08-19T18:22:46.375360",
     "status": "completed"
    },
    "tags": []
   },
   "outputs": [],
   "source": [
    "if mode == \"keep-all\":\n",
    "    keep_mask = pd.Series(True, index=org_train.index)\n",
    "\n",
    "elif mode == \"drop-non-german\":\n",
    "    keep_mask = (org_train[\"maxdeutsch1\"] == 1) & (org_train[\"maxdeutsch.Missing.\"] == 0)\n",
    "\n",
    "else:\n",
    "    raise ValueError(f\"Unsupported mode for exclude_subgroups: {mode}\")"
   ]
  },
  {
   "cell_type": "code",
   "execution_count": 29,
   "id": "d3b65474",
   "metadata": {
    "execution": {
     "iopub.execute_input": "2025-08-19T18:22:46.427674Z",
     "iopub.status.busy": "2025-08-19T18:22:46.426481Z",
     "iopub.status.idle": "2025-08-19T18:22:46.436570Z",
     "shell.execute_reply": "2025-08-19T18:22:46.435196Z"
    },
    "papermill": {
     "duration": 0.024041,
     "end_time": "2025-08-19T18:22:46.438148",
     "exception": false,
     "start_time": "2025-08-19T18:22:46.414107",
     "status": "completed"
    },
    "tags": []
   },
   "outputs": [
    {
     "name": "stdout",
     "output_type": "stream",
     "text": [
      "Dropping 3312 rows (13.25%) where mode='drop-non-german'\n"
     ]
    }
   ],
   "source": [
    "n_drop = (~keep_mask).sum() # Calculates how many rows are set to be dropped\n",
    "if n_drop > 0:\n",
    "    pct = n_drop / len(keep_mask) * 100\n",
    "    print(f\"Dropping {n_drop} rows ({pct:.2f}%) where mode='{mode}'\")"
   ]
  },
  {
   "cell_type": "code",
   "execution_count": 30,
   "id": "f44389b3",
   "metadata": {
    "execution": {
     "iopub.execute_input": "2025-08-19T18:22:46.462666Z",
     "iopub.status.busy": "2025-08-19T18:22:46.461695Z",
     "iopub.status.idle": "2025-08-19T18:22:46.481379Z",
     "shell.execute_reply": "2025-08-19T18:22:46.480002Z"
    },
    "papermill": {
     "duration": 0.034134,
     "end_time": "2025-08-19T18:22:46.483418",
     "exception": false,
     "start_time": "2025-08-19T18:22:46.449284",
     "status": "completed"
    },
    "tags": []
   },
   "outputs": [],
   "source": [
    "X_train = X_train[keep_mask]"
   ]
  },
  {
   "cell_type": "code",
   "execution_count": 31,
   "id": "ceca8c2a",
   "metadata": {
    "execution": {
     "iopub.execute_input": "2025-08-19T18:22:46.514038Z",
     "iopub.status.busy": "2025-08-19T18:22:46.512862Z",
     "iopub.status.idle": "2025-08-19T18:22:46.522952Z",
     "shell.execute_reply": "2025-08-19T18:22:46.521494Z"
    },
    "papermill": {
     "duration": 0.024787,
     "end_time": "2025-08-19T18:22:46.524846",
     "exception": false,
     "start_time": "2025-08-19T18:22:46.500059",
     "status": "completed"
    },
    "tags": []
   },
   "outputs": [],
   "source": [
    "y_train = y_train[keep_mask]"
   ]
  },
  {
   "cell_type": "markdown",
   "id": "04d31e2f",
   "metadata": {
    "papermill": {
     "duration": 0.010955,
     "end_time": "2025-08-19T18:22:46.549107",
     "exception": false,
     "start_time": "2025-08-19T18:22:46.538152",
     "status": "completed"
    },
    "tags": []
   },
   "source": [
    "# Model Training"
   ]
  },
  {
   "cell_type": "code",
   "execution_count": 32,
   "id": "db991733",
   "metadata": {
    "execution": {
     "iopub.execute_input": "2025-08-19T18:22:46.573408Z",
     "iopub.status.busy": "2025-08-19T18:22:46.572220Z",
     "iopub.status.idle": "2025-08-19T18:22:46.695635Z",
     "shell.execute_reply": "2025-08-19T18:22:46.694869Z"
    },
    "papermill": {
     "duration": 0.137411,
     "end_time": "2025-08-19T18:22:46.697204",
     "exception": false,
     "start_time": "2025-08-19T18:22:46.559793",
     "status": "completed"
    },
    "tags": []
   },
   "outputs": [],
   "source": [
    "from sklearn.linear_model import LogisticRegression\n",
    "from sklearn.ensemble import GradientBoostingClassifier, RandomForestClassifier\n",
    "\n",
    "if (universe[\"model\"] == \"logreg\"):\n",
    "    model = LogisticRegression() #penalty=\"none\", solver=\"newton-cg\", max_iter=1)\n",
    "elif (universe[\"model\"] == \"penalized_logreg\"):\n",
    "    model = LogisticRegression(penalty=\"l2\", C=0.1) #, solver=\"newton-cg\", max_iter=1)\n",
    "elif (universe[\"model\"] == \"rf\"):\n",
    "    model = RandomForestClassifier() # n_estimators=100, n_jobs=-1\n",
    "elif (universe[\"model\"] == \"gbm\"):\n",
    "    model = GradientBoostingClassifier()\n",
    "elif (universe[\"model\"] == \"elasticnet\"):\n",
    "    model = LogisticRegression(penalty = 'elasticnet', solver = 'saga', l1_ratio = 0.5) # max_iter=5000\n",
    "else:\n",
    "    raise \"Unsupported universe.model\""
   ]
  },
  {
   "cell_type": "code",
   "execution_count": 33,
   "id": "a4b5cd25",
   "metadata": {
    "execution": {
     "iopub.execute_input": "2025-08-19T18:22:46.723052Z",
     "iopub.status.busy": "2025-08-19T18:22:46.722527Z",
     "iopub.status.idle": "2025-08-19T18:22:46.729115Z",
     "shell.execute_reply": "2025-08-19T18:22:46.728366Z"
    },
    "papermill": {
     "duration": 0.021055,
     "end_time": "2025-08-19T18:22:46.730404",
     "exception": false,
     "start_time": "2025-08-19T18:22:46.709349",
     "status": "completed"
    },
    "tags": []
   },
   "outputs": [],
   "source": [
    "from sklearn.pipeline import Pipeline\n",
    "from sklearn.preprocessing import StandardScaler\n",
    "\n",
    "model = Pipeline([\n",
    "    #(\"continuous_processor\", continuous_processor),\n",
    "    #(\"categorical_preprocessor\", categorical_preprocessor),\n",
    "    (\"scale\", StandardScaler() if universe[\"scale\"] == \"scale\" else None), \n",
    "    (\"model\", model),\n",
    "])"
   ]
  },
  {
   "cell_type": "code",
   "execution_count": 34,
   "id": "283a904d",
   "metadata": {
    "execution": {
     "iopub.execute_input": "2025-08-19T18:22:46.755166Z",
     "iopub.status.busy": "2025-08-19T18:22:46.754456Z",
     "iopub.status.idle": "2025-08-19T18:22:52.728772Z",
     "shell.execute_reply": "2025-08-19T18:22:52.727852Z"
    },
    "papermill": {
     "duration": 5.988323,
     "end_time": "2025-08-19T18:22:52.730061",
     "exception": false,
     "start_time": "2025-08-19T18:22:46.741738",
     "status": "completed"
    },
    "tags": []
   },
   "outputs": [
    {
     "name": "stderr",
     "output_type": "stream",
     "text": [
      "/dss/dsshome1/0C/ra93lal2/.local/share/virtualenvs/CMA_Fairness_v2-3j10GkSs/lib/python3.10/site-packages/sklearn/linear_model/_sag.py:350: ConvergenceWarning: The max_iter was reached which means the coef_ did not converge\n",
      "  warnings.warn(\n"
     ]
    },
    {
     "data": {
      "text/html": [
       "<style>#sk-container-id-1 {color: black;background-color: white;}#sk-container-id-1 pre{padding: 0;}#sk-container-id-1 div.sk-toggleable {background-color: white;}#sk-container-id-1 label.sk-toggleable__label {cursor: pointer;display: block;width: 100%;margin-bottom: 0;padding: 0.3em;box-sizing: border-box;text-align: center;}#sk-container-id-1 label.sk-toggleable__label-arrow:before {content: \"▸\";float: left;margin-right: 0.25em;color: #696969;}#sk-container-id-1 label.sk-toggleable__label-arrow:hover:before {color: black;}#sk-container-id-1 div.sk-estimator:hover label.sk-toggleable__label-arrow:before {color: black;}#sk-container-id-1 div.sk-toggleable__content {max-height: 0;max-width: 0;overflow: hidden;text-align: left;background-color: #f0f8ff;}#sk-container-id-1 div.sk-toggleable__content pre {margin: 0.2em;color: black;border-radius: 0.25em;background-color: #f0f8ff;}#sk-container-id-1 input.sk-toggleable__control:checked~div.sk-toggleable__content {max-height: 200px;max-width: 100%;overflow: auto;}#sk-container-id-1 input.sk-toggleable__control:checked~label.sk-toggleable__label-arrow:before {content: \"▾\";}#sk-container-id-1 div.sk-estimator input.sk-toggleable__control:checked~label.sk-toggleable__label {background-color: #d4ebff;}#sk-container-id-1 div.sk-label input.sk-toggleable__control:checked~label.sk-toggleable__label {background-color: #d4ebff;}#sk-container-id-1 input.sk-hidden--visually {border: 0;clip: rect(1px 1px 1px 1px);clip: rect(1px, 1px, 1px, 1px);height: 1px;margin: -1px;overflow: hidden;padding: 0;position: absolute;width: 1px;}#sk-container-id-1 div.sk-estimator {font-family: monospace;background-color: #f0f8ff;border: 1px dotted black;border-radius: 0.25em;box-sizing: border-box;margin-bottom: 0.5em;}#sk-container-id-1 div.sk-estimator:hover {background-color: #d4ebff;}#sk-container-id-1 div.sk-parallel-item::after {content: \"\";width: 100%;border-bottom: 1px solid gray;flex-grow: 1;}#sk-container-id-1 div.sk-label:hover label.sk-toggleable__label {background-color: #d4ebff;}#sk-container-id-1 div.sk-serial::before {content: \"\";position: absolute;border-left: 1px solid gray;box-sizing: border-box;top: 0;bottom: 0;left: 50%;z-index: 0;}#sk-container-id-1 div.sk-serial {display: flex;flex-direction: column;align-items: center;background-color: white;padding-right: 0.2em;padding-left: 0.2em;position: relative;}#sk-container-id-1 div.sk-item {position: relative;z-index: 1;}#sk-container-id-1 div.sk-parallel {display: flex;align-items: stretch;justify-content: center;background-color: white;position: relative;}#sk-container-id-1 div.sk-item::before, #sk-container-id-1 div.sk-parallel-item::before {content: \"\";position: absolute;border-left: 1px solid gray;box-sizing: border-box;top: 0;bottom: 0;left: 50%;z-index: -1;}#sk-container-id-1 div.sk-parallel-item {display: flex;flex-direction: column;z-index: 1;position: relative;background-color: white;}#sk-container-id-1 div.sk-parallel-item:first-child::after {align-self: flex-end;width: 50%;}#sk-container-id-1 div.sk-parallel-item:last-child::after {align-self: flex-start;width: 50%;}#sk-container-id-1 div.sk-parallel-item:only-child::after {width: 0;}#sk-container-id-1 div.sk-dashed-wrapped {border: 1px dashed gray;margin: 0 0.4em 0.5em 0.4em;box-sizing: border-box;padding-bottom: 0.4em;background-color: white;}#sk-container-id-1 div.sk-label label {font-family: monospace;font-weight: bold;display: inline-block;line-height: 1.2em;}#sk-container-id-1 div.sk-label-container {text-align: center;}#sk-container-id-1 div.sk-container {/* jupyter's `normalize.less` sets `[hidden] { display: none; }` but bootstrap.min.css set `[hidden] { display: none !important; }` so we also need the `!important` here to be able to override the default hidden behavior on the sphinx rendered scikit-learn.org. See: https://github.com/scikit-learn/scikit-learn/issues/21755 */display: inline-block !important;position: relative;}#sk-container-id-1 div.sk-text-repr-fallback {display: none;}</style><div id=\"sk-container-id-1\" class=\"sk-top-container\"><div class=\"sk-text-repr-fallback\"><pre>Pipeline(steps=[(&#x27;scale&#x27;, None),\n",
       "                (&#x27;model&#x27;,\n",
       "                 LogisticRegression(l1_ratio=0.5, penalty=&#x27;elasticnet&#x27;,\n",
       "                                    solver=&#x27;saga&#x27;))])</pre><b>In a Jupyter environment, please rerun this cell to show the HTML representation or trust the notebook. <br />On GitHub, the HTML representation is unable to render, please try loading this page with nbviewer.org.</b></div><div class=\"sk-container\" hidden><div class=\"sk-item sk-dashed-wrapped\"><div class=\"sk-label-container\"><div class=\"sk-label sk-toggleable\"><input class=\"sk-toggleable__control sk-hidden--visually\" id=\"sk-estimator-id-1\" type=\"checkbox\" ><label for=\"sk-estimator-id-1\" class=\"sk-toggleable__label sk-toggleable__label-arrow\">Pipeline</label><div class=\"sk-toggleable__content\"><pre>Pipeline(steps=[(&#x27;scale&#x27;, None),\n",
       "                (&#x27;model&#x27;,\n",
       "                 LogisticRegression(l1_ratio=0.5, penalty=&#x27;elasticnet&#x27;,\n",
       "                                    solver=&#x27;saga&#x27;))])</pre></div></div></div><div class=\"sk-serial\"><div class=\"sk-item\"><div class=\"sk-estimator sk-toggleable\"><input class=\"sk-toggleable__control sk-hidden--visually\" id=\"sk-estimator-id-2\" type=\"checkbox\" ><label for=\"sk-estimator-id-2\" class=\"sk-toggleable__label sk-toggleable__label-arrow\">None</label><div class=\"sk-toggleable__content\"><pre>None</pre></div></div></div><div class=\"sk-item\"><div class=\"sk-estimator sk-toggleable\"><input class=\"sk-toggleable__control sk-hidden--visually\" id=\"sk-estimator-id-3\" type=\"checkbox\" ><label for=\"sk-estimator-id-3\" class=\"sk-toggleable__label sk-toggleable__label-arrow\">LogisticRegression</label><div class=\"sk-toggleable__content\"><pre>LogisticRegression(l1_ratio=0.5, penalty=&#x27;elasticnet&#x27;, solver=&#x27;saga&#x27;)</pre></div></div></div></div></div></div></div>"
      ],
      "text/plain": [
       "Pipeline(steps=[('scale', None),\n",
       "                ('model',\n",
       "                 LogisticRegression(l1_ratio=0.5, penalty='elasticnet',\n",
       "                                    solver='saga'))])"
      ]
     },
     "execution_count": 34,
     "metadata": {},
     "output_type": "execute_result"
    }
   ],
   "source": [
    "model.fit(X_train, y_train.values.ravel())"
   ]
  },
  {
   "cell_type": "code",
   "execution_count": 35,
   "id": "6e15e313",
   "metadata": {
    "execution": {
     "iopub.execute_input": "2025-08-19T18:22:52.771729Z",
     "iopub.status.busy": "2025-08-19T18:22:52.768689Z",
     "iopub.status.idle": "2025-08-19T18:22:52.885951Z",
     "shell.execute_reply": "2025-08-19T18:22:52.885339Z"
    },
    "papermill": {
     "duration": 0.137144,
     "end_time": "2025-08-19T18:22:52.887327",
     "exception": false,
     "start_time": "2025-08-19T18:22:52.750183",
     "status": "completed"
    },
    "tags": []
   },
   "outputs": [
    {
     "data": {
      "text/plain": [
       "0.8636606844276"
      ]
     },
     "execution_count": 35,
     "metadata": {},
     "output_type": "execute_result"
    }
   ],
   "source": [
    "from fairness_multiverse.universe import predict_w_threshold\n",
    "\n",
    "probs_test = model.predict_proba(X_test)\n",
    "\n",
    "'''\n",
    "Below code returns a boolean array (or binary 0/1 array depending on how it’s used) where each element \n",
    "is True if the probability of class 1 is greater than or equal to the threshold, and False otherwise.\n",
    "'''\n",
    "y_pred_default = predict_w_threshold(probs_test, 0.5)\n",
    "\n",
    "from sklearn.metrics import accuracy_score\n",
    "\n",
    "# Naive prediction\n",
    "accuracy_score(y_true = y_true, y_pred = y_pred_default)"
   ]
  },
  {
   "cell_type": "code",
   "execution_count": 36,
   "id": "6f14067c",
   "metadata": {
    "execution": {
     "iopub.execute_input": "2025-08-19T18:22:52.920793Z",
     "iopub.status.busy": "2025-08-19T18:22:52.915825Z",
     "iopub.status.idle": "2025-08-19T18:22:53.022406Z",
     "shell.execute_reply": "2025-08-19T18:22:53.021186Z"
    },
    "papermill": {
     "duration": 0.124483,
     "end_time": "2025-08-19T18:22:53.026854",
     "exception": false,
     "start_time": "2025-08-19T18:22:52.902371",
     "status": "completed"
    },
    "tags": []
   },
   "outputs": [
    {
     "data": {
      "text/plain": [
       "array([0, 0, 0, ..., 0, 0, 0])"
      ]
     },
     "execution_count": 36,
     "metadata": {},
     "output_type": "execute_result"
    }
   ],
   "source": [
    "model.predict(X_test)"
   ]
  },
  {
   "cell_type": "markdown",
   "id": "3759920c",
   "metadata": {
    "papermill": {
     "duration": 0.0124,
     "end_time": "2025-08-19T18:22:53.062549",
     "exception": false,
     "start_time": "2025-08-19T18:22:53.050149",
     "status": "completed"
    },
    "tags": []
   },
   "source": [
    "# Conformal Prediction"
   ]
  },
  {
   "cell_type": "code",
   "execution_count": 37,
   "id": "14b27f59",
   "metadata": {
    "execution": {
     "iopub.execute_input": "2025-08-19T18:22:53.091064Z",
     "iopub.status.busy": "2025-08-19T18:22:53.090397Z",
     "iopub.status.idle": "2025-08-19T18:22:53.096215Z",
     "shell.execute_reply": "2025-08-19T18:22:53.095162Z"
    },
    "papermill": {
     "duration": 0.020611,
     "end_time": "2025-08-19T18:22:53.097520",
     "exception": false,
     "start_time": "2025-08-19T18:22:53.076909",
     "status": "completed"
    },
    "tags": []
   },
   "outputs": [],
   "source": [
    "# Miscoverage level for conformal prediction (10% allowed error rate => 90% target coverage)\n",
    "alpha = 0.1"
   ]
  },
  {
   "cell_type": "code",
   "execution_count": 38,
   "id": "59102472",
   "metadata": {
    "execution": {
     "iopub.execute_input": "2025-08-19T18:22:53.121921Z",
     "iopub.status.busy": "2025-08-19T18:22:53.121540Z",
     "iopub.status.idle": "2025-08-19T18:22:53.209246Z",
     "shell.execute_reply": "2025-08-19T18:22:53.208133Z"
    },
    "papermill": {
     "duration": 0.103351,
     "end_time": "2025-08-19T18:22:53.212548",
     "exception": false,
     "start_time": "2025-08-19T18:22:53.109197",
     "status": "completed"
    },
    "tags": []
   },
   "outputs": [],
   "source": [
    "probs_calib = model.predict_proba(X_calib)"
   ]
  },
  {
   "cell_type": "code",
   "execution_count": 39,
   "id": "a792d4dd",
   "metadata": {
    "execution": {
     "iopub.execute_input": "2025-08-19T18:22:53.253349Z",
     "iopub.status.busy": "2025-08-19T18:22:53.252457Z",
     "iopub.status.idle": "2025-08-19T18:22:53.260578Z",
     "shell.execute_reply": "2025-08-19T18:22:53.259251Z"
    },
    "papermill": {
     "duration": 0.024144,
     "end_time": "2025-08-19T18:22:53.261997",
     "exception": false,
     "start_time": "2025-08-19T18:22:53.237853",
     "status": "completed"
    },
    "tags": []
   },
   "outputs": [],
   "source": [
    "y_calib = y_calib.values.ravel().astype(int)"
   ]
  },
  {
   "cell_type": "code",
   "execution_count": 40,
   "id": "650fd033",
   "metadata": {
    "execution": {
     "iopub.execute_input": "2025-08-19T18:22:53.290133Z",
     "iopub.status.busy": "2025-08-19T18:22:53.289353Z",
     "iopub.status.idle": "2025-08-19T18:22:53.301411Z",
     "shell.execute_reply": "2025-08-19T18:22:53.300187Z"
    },
    "papermill": {
     "duration": 0.02657,
     "end_time": "2025-08-19T18:22:53.302760",
     "exception": false,
     "start_time": "2025-08-19T18:22:53.276190",
     "status": "completed"
    },
    "tags": []
   },
   "outputs": [],
   "source": [
    "from fairness_multiverse.conformal import compute_nc_scores\n",
    "\n",
    "# Compute nonconformity scores on calibration set (1 - probability of true class)\n",
    "nc_scores = compute_nc_scores(probs_calib, y_calib)"
   ]
  },
  {
   "cell_type": "code",
   "execution_count": 41,
   "id": "28ada44c",
   "metadata": {
    "execution": {
     "iopub.execute_input": "2025-08-19T18:22:53.331752Z",
     "iopub.status.busy": "2025-08-19T18:22:53.330762Z",
     "iopub.status.idle": "2025-08-19T18:22:53.340839Z",
     "shell.execute_reply": "2025-08-19T18:22:53.339628Z"
    },
    "papermill": {
     "duration": 0.024476,
     "end_time": "2025-08-19T18:22:53.342297",
     "exception": false,
     "start_time": "2025-08-19T18:22:53.317821",
     "status": "completed"
    },
    "tags": []
   },
   "outputs": [],
   "source": [
    "from fairness_multiverse.conformal import find_threshold\n",
    "\n",
    "# Find conformal threshold q_hat for the given alpha (split conformal method)\n",
    "q_hat = find_threshold(nc_scores, alpha)"
   ]
  },
  {
   "cell_type": "code",
   "execution_count": 42,
   "id": "df56469e",
   "metadata": {
    "execution": {
     "iopub.execute_input": "2025-08-19T18:22:53.370528Z",
     "iopub.status.busy": "2025-08-19T18:22:53.369534Z",
     "iopub.status.idle": "2025-08-19T18:22:53.379134Z",
     "shell.execute_reply": "2025-08-19T18:22:53.377922Z"
    },
    "papermill": {
     "duration": 0.024067,
     "end_time": "2025-08-19T18:22:53.380599",
     "exception": false,
     "start_time": "2025-08-19T18:22:53.356532",
     "status": "completed"
    },
    "tags": []
   },
   "outputs": [
    {
     "data": {
      "text/plain": [
       "0.6686066168345117"
      ]
     },
     "execution_count": 42,
     "metadata": {},
     "output_type": "execute_result"
    }
   ],
   "source": [
    "q_hat"
   ]
  },
  {
   "cell_type": "code",
   "execution_count": 43,
   "id": "aa1f5faa",
   "metadata": {
    "execution": {
     "iopub.execute_input": "2025-08-19T18:22:53.406634Z",
     "iopub.status.busy": "2025-08-19T18:22:53.405648Z",
     "iopub.status.idle": "2025-08-19T18:22:53.944970Z",
     "shell.execute_reply": "2025-08-19T18:22:53.944158Z"
    },
    "papermill": {
     "duration": 0.553869,
     "end_time": "2025-08-19T18:22:53.946500",
     "exception": false,
     "start_time": "2025-08-19T18:22:53.392631",
     "status": "completed"
    },
    "tags": []
   },
   "outputs": [],
   "source": [
    "from fairness_multiverse.conformal import predict_conformal_sets\n",
    "\n",
    "# Generate prediction sets for each test example\n",
    "pred_sets = predict_conformal_sets(model, X_test, q_hat)"
   ]
  },
  {
   "cell_type": "code",
   "execution_count": 44,
   "id": "97f67a6b",
   "metadata": {
    "execution": {
     "iopub.execute_input": "2025-08-19T18:22:53.972369Z",
     "iopub.status.busy": "2025-08-19T18:22:53.972079Z",
     "iopub.status.idle": "2025-08-19T18:22:53.976429Z",
     "shell.execute_reply": "2025-08-19T18:22:53.975834Z"
    },
    "papermill": {
     "duration": 0.018702,
     "end_time": "2025-08-19T18:22:53.977950",
     "exception": false,
     "start_time": "2025-08-19T18:22:53.959248",
     "status": "completed"
    },
    "tags": []
   },
   "outputs": [],
   "source": [
    "y_true = y_true.squeeze()"
   ]
  },
  {
   "cell_type": "code",
   "execution_count": 45,
   "id": "e700e9a7",
   "metadata": {
    "execution": {
     "iopub.execute_input": "2025-08-19T18:22:54.002499Z",
     "iopub.status.busy": "2025-08-19T18:22:54.002244Z",
     "iopub.status.idle": "2025-08-19T18:22:54.491286Z",
     "shell.execute_reply": "2025-08-19T18:22:54.490590Z"
    },
    "papermill": {
     "duration": 0.50314,
     "end_time": "2025-08-19T18:22:54.492880",
     "exception": false,
     "start_time": "2025-08-19T18:22:53.989740",
     "status": "completed"
    },
    "tags": []
   },
   "outputs": [],
   "source": [
    "from fairness_multiverse.conformal import evaluate_sets\n",
    "\n",
    "# Evaluate coverage and average set size on test data\n",
    "metrics = evaluate_sets(pred_sets, y_true)"
   ]
  },
  {
   "cell_type": "markdown",
   "id": "efbacec0",
   "metadata": {
    "papermill": {
     "duration": 0.011847,
     "end_time": "2025-08-19T18:22:54.517511",
     "exception": false,
     "start_time": "2025-08-19T18:22:54.505664",
     "status": "completed"
    },
    "tags": []
   },
   "source": [
    "# CP Metrics"
   ]
  },
  {
   "cell_type": "code",
   "execution_count": 46,
   "id": "9de55fb1",
   "metadata": {
    "execution": {
     "iopub.execute_input": "2025-08-19T18:22:54.543374Z",
     "iopub.status.busy": "2025-08-19T18:22:54.542405Z",
     "iopub.status.idle": "2025-08-19T18:22:54.552062Z",
     "shell.execute_reply": "2025-08-19T18:22:54.550832Z"
    },
    "papermill": {
     "duration": 0.024484,
     "end_time": "2025-08-19T18:22:54.553578",
     "exception": false,
     "start_time": "2025-08-19T18:22:54.529094",
     "status": "completed"
    },
    "tags": []
   },
   "outputs": [
    {
     "data": {
      "text/plain": [
       "{'coverage': 0.9140118158510757, 'avg_size': 1.2633262735480995}"
      ]
     },
     "execution_count": 46,
     "metadata": {},
     "output_type": "execute_result"
    }
   ],
   "source": [
    "metrics"
   ]
  },
  {
   "cell_type": "code",
   "execution_count": 47,
   "id": "64c340a1",
   "metadata": {
    "execution": {
     "iopub.execute_input": "2025-08-19T18:22:54.579486Z",
     "iopub.status.busy": "2025-08-19T18:22:54.578672Z",
     "iopub.status.idle": "2025-08-19T18:22:54.597379Z",
     "shell.execute_reply": "2025-08-19T18:22:54.591497Z"
    },
    "papermill": {
     "duration": 0.033943,
     "end_time": "2025-08-19T18:22:54.599565",
     "exception": false,
     "start_time": "2025-08-19T18:22:54.565622",
     "status": "completed"
    },
    "tags": []
   },
   "outputs": [],
   "source": [
    "example_universe = universe.copy()\n",
    "universe_training_year = example_universe.get(\"training_year\")\n",
    "universe_training_size = example_universe.get(\"training_size\")\n",
    "universe_scale = example_universe.get(\"scale\")\n",
    "universe_model = example_universe.get(\"model\")\n",
    "universe_exclude_features = example_universe.get(\"exclude_features\")\n",
    "universe_exclude_subgroups = example_universe.get(\"exclude_subgroups\")"
   ]
  },
  {
   "cell_type": "code",
   "execution_count": 48,
   "id": "dbb53cb4",
   "metadata": {
    "execution": {
     "iopub.execute_input": "2025-08-19T18:22:54.631651Z",
     "iopub.status.busy": "2025-08-19T18:22:54.631301Z",
     "iopub.status.idle": "2025-08-19T18:22:54.636040Z",
     "shell.execute_reply": "2025-08-19T18:22:54.635302Z"
    },
    "papermill": {
     "duration": 0.019078,
     "end_time": "2025-08-19T18:22:54.637304",
     "exception": false,
     "start_time": "2025-08-19T18:22:54.618226",
     "status": "completed"
    },
    "tags": []
   },
   "outputs": [],
   "source": [
    "cp_metrics_dict = {\n",
    "    \"universe_id\": [universe_id],\n",
    "    \"universe_training_year\": [universe_training_year],\n",
    "    \"universe_training_size\": [universe_training_size],\n",
    "    \"universe_scale\": [universe_scale],\n",
    "    \"universe_model\": [universe_model],\n",
    "    \"universe_exclude_features\": [universe_exclude_features],\n",
    "    \"universe_exclude_subgroups\": [universe_exclude_subgroups],\n",
    "    \"q_hat\": [q_hat],\n",
    "    \"coverage\": [metrics[\"coverage\"]],\n",
    "    \"avg_size\": [metrics[\"avg_size\"]],\n",
    "}"
   ]
  },
  {
   "cell_type": "code",
   "execution_count": 49,
   "id": "0d70d4b2",
   "metadata": {
    "execution": {
     "iopub.execute_input": "2025-08-19T18:22:54.662307Z",
     "iopub.status.busy": "2025-08-19T18:22:54.661947Z",
     "iopub.status.idle": "2025-08-19T18:22:54.666912Z",
     "shell.execute_reply": "2025-08-19T18:22:54.666200Z"
    },
    "papermill": {
     "duration": 0.018939,
     "end_time": "2025-08-19T18:22:54.668174",
     "exception": false,
     "start_time": "2025-08-19T18:22:54.649235",
     "status": "completed"
    },
    "tags": []
   },
   "outputs": [],
   "source": [
    "cp_metrics_df = pd.DataFrame(cp_metrics_dict)"
   ]
  },
  {
   "cell_type": "code",
   "execution_count": 50,
   "id": "b494403c",
   "metadata": {
    "execution": {
     "iopub.execute_input": "2025-08-19T18:22:54.698443Z",
     "iopub.status.busy": "2025-08-19T18:22:54.697794Z",
     "iopub.status.idle": "2025-08-19T18:22:54.714278Z",
     "shell.execute_reply": "2025-08-19T18:22:54.713369Z"
    },
    "papermill": {
     "duration": 0.035669,
     "end_time": "2025-08-19T18:22:54.716006",
     "exception": false,
     "start_time": "2025-08-19T18:22:54.680337",
     "status": "completed"
    },
    "tags": []
   },
   "outputs": [
    {
     "data": {
      "text/html": [
       "<div>\n",
       "<style scoped>\n",
       "    .dataframe tbody tr th:only-of-type {\n",
       "        vertical-align: middle;\n",
       "    }\n",
       "\n",
       "    .dataframe tbody tr th {\n",
       "        vertical-align: top;\n",
       "    }\n",
       "\n",
       "    .dataframe thead th {\n",
       "        text-align: right;\n",
       "    }\n",
       "</style>\n",
       "<table border=\"1\" class=\"dataframe\">\n",
       "  <thead>\n",
       "    <tr style=\"text-align: right;\">\n",
       "      <th></th>\n",
       "      <th>universe_id</th>\n",
       "      <th>universe_training_year</th>\n",
       "      <th>universe_training_size</th>\n",
       "      <th>universe_scale</th>\n",
       "      <th>universe_model</th>\n",
       "      <th>universe_exclude_features</th>\n",
       "      <th>universe_exclude_subgroups</th>\n",
       "      <th>q_hat</th>\n",
       "      <th>coverage</th>\n",
       "      <th>avg_size</th>\n",
       "    </tr>\n",
       "  </thead>\n",
       "  <tbody>\n",
       "    <tr>\n",
       "      <th>0</th>\n",
       "      <td>7d59360e7ee2c85ba71c047688239394</td>\n",
       "      <td>2010_14</td>\n",
       "      <td>25k</td>\n",
       "      <td>do-not-scale</td>\n",
       "      <td>elasticnet</td>\n",
       "      <td>age</td>\n",
       "      <td>drop-non-german</td>\n",
       "      <td>0.668607</td>\n",
       "      <td>0.914012</td>\n",
       "      <td>1.263326</td>\n",
       "    </tr>\n",
       "  </tbody>\n",
       "</table>\n",
       "</div>"
      ],
      "text/plain": [
       "                        universe_id universe_training_year  \\\n",
       "0  7d59360e7ee2c85ba71c047688239394                2010_14   \n",
       "\n",
       "  universe_training_size universe_scale universe_model  \\\n",
       "0                    25k   do-not-scale     elasticnet   \n",
       "\n",
       "  universe_exclude_features universe_exclude_subgroups     q_hat  coverage  \\\n",
       "0                       age            drop-non-german  0.668607  0.914012   \n",
       "\n",
       "   avg_size  \n",
       "0  1.263326  "
      ]
     },
     "execution_count": 50,
     "metadata": {},
     "output_type": "execute_result"
    }
   ],
   "source": [
    "cp_metrics_df"
   ]
  },
  {
   "cell_type": "markdown",
   "id": "ed608b0b",
   "metadata": {
    "papermill": {
     "duration": 0.012068,
     "end_time": "2025-08-19T18:22:54.740709",
     "exception": false,
     "start_time": "2025-08-19T18:22:54.728641",
     "status": "completed"
    },
    "tags": []
   },
   "source": [
    "Conditional coverage & looking at subgroups"
   ]
  },
  {
   "cell_type": "code",
   "execution_count": 51,
   "id": "8968c366",
   "metadata": {
    "execution": {
     "iopub.execute_input": "2025-08-19T18:22:54.770658Z",
     "iopub.status.busy": "2025-08-19T18:22:54.770032Z",
     "iopub.status.idle": "2025-08-19T18:22:55.027358Z",
     "shell.execute_reply": "2025-08-19T18:22:55.025855Z"
    },
    "papermill": {
     "duration": 0.273954,
     "end_time": "2025-08-19T18:22:55.030707",
     "exception": false,
     "start_time": "2025-08-19T18:22:54.756753",
     "status": "completed"
    },
    "tags": []
   },
   "outputs": [],
   "source": [
    "from fairness_multiverse.conformal import build_cp_groups\n",
    "\n",
    "cp_groups_df = build_cp_groups(pred_sets, y_true, X_test.index, org_test)"
   ]
  },
  {
   "cell_type": "code",
   "execution_count": 52,
   "id": "292ddabf",
   "metadata": {
    "execution": {
     "iopub.execute_input": "2025-08-19T18:22:55.086774Z",
     "iopub.status.busy": "2025-08-19T18:22:55.085773Z",
     "iopub.status.idle": "2025-08-19T18:22:55.973292Z",
     "shell.execute_reply": "2025-08-19T18:22:55.972096Z"
    },
    "papermill": {
     "duration": 0.909034,
     "end_time": "2025-08-19T18:22:55.975134",
     "exception": false,
     "start_time": "2025-08-19T18:22:55.066100",
     "status": "completed"
    },
    "tags": []
   },
   "outputs": [],
   "source": [
    "# Define covered = 1 if true_label is in the predicted set\n",
    "cp_groups_df['covered'] = cp_groups_df.apply(\n",
    "    lambda r: int(r['true_label'] in r['pred_set']),\n",
    "    axis=1\n",
    ")"
   ]
  },
  {
   "cell_type": "code",
   "execution_count": 53,
   "id": "3a261692",
   "metadata": {
    "execution": {
     "iopub.execute_input": "2025-08-19T18:22:56.004856Z",
     "iopub.status.busy": "2025-08-19T18:22:56.003799Z",
     "iopub.status.idle": "2025-08-19T18:22:56.029001Z",
     "shell.execute_reply": "2025-08-19T18:22:56.027964Z"
    },
    "papermill": {
     "duration": 0.042392,
     "end_time": "2025-08-19T18:22:56.031313",
     "exception": false,
     "start_time": "2025-08-19T18:22:55.988921",
     "status": "completed"
    },
    "tags": []
   },
   "outputs": [],
   "source": [
    "subgroups = ['frau1','nongerman','nongerman_male','nongerman_female']\n",
    "\n",
    "# Conditional coverage for subgroup==1\n",
    "cond_coverage = {\n",
    "    g: cp_groups_df.loc[cp_groups_df[g]==1, 'covered'].mean()\n",
    "    for g in subgroups\n",
    "}"
   ]
  },
  {
   "cell_type": "code",
   "execution_count": 54,
   "id": "894fd600",
   "metadata": {
    "execution": {
     "iopub.execute_input": "2025-08-19T18:22:56.070321Z",
     "iopub.status.busy": "2025-08-19T18:22:56.069445Z",
     "iopub.status.idle": "2025-08-19T18:22:56.081898Z",
     "shell.execute_reply": "2025-08-19T18:22:56.080389Z"
    },
    "papermill": {
     "duration": 0.029029,
     "end_time": "2025-08-19T18:22:56.083563",
     "exception": false,
     "start_time": "2025-08-19T18:22:56.054534",
     "status": "completed"
    },
    "tags": []
   },
   "outputs": [
    {
     "data": {
      "text/plain": [
       "{'frau1': 0.913303679741205,\n",
       " 'nongerman': 0.9653062370179083,\n",
       " 'nongerman_male': 0.9715392236332523,\n",
       " 'nongerman_female': 0.9549925484351713}"
      ]
     },
     "execution_count": 54,
     "metadata": {},
     "output_type": "execute_result"
    }
   ],
   "source": [
    "cond_coverage"
   ]
  },
  {
   "cell_type": "code",
   "execution_count": 55,
   "id": "942895c7",
   "metadata": {
    "execution": {
     "iopub.execute_input": "2025-08-19T18:22:56.114297Z",
     "iopub.status.busy": "2025-08-19T18:22:56.113343Z",
     "iopub.status.idle": "2025-08-19T18:22:56.130981Z",
     "shell.execute_reply": "2025-08-19T18:22:56.128382Z"
    },
    "papermill": {
     "duration": 0.035335,
     "end_time": "2025-08-19T18:22:56.134569",
     "exception": false,
     "start_time": "2025-08-19T18:22:56.099234",
     "status": "completed"
    },
    "tags": []
   },
   "outputs": [],
   "source": [
    "for subgroup, cov in cond_coverage.items():\n",
    "    cp_metrics_df[f\"cov_{subgroup}\"] = cov"
   ]
  },
  {
   "cell_type": "code",
   "execution_count": 56,
   "id": "3970120f",
   "metadata": {
    "execution": {
     "iopub.execute_input": "2025-08-19T18:22:56.176510Z",
     "iopub.status.busy": "2025-08-19T18:22:56.175496Z",
     "iopub.status.idle": "2025-08-19T18:22:56.208090Z",
     "shell.execute_reply": "2025-08-19T18:22:56.206890Z"
    },
    "papermill": {
     "duration": 0.051351,
     "end_time": "2025-08-19T18:22:56.211764",
     "exception": false,
     "start_time": "2025-08-19T18:22:56.160413",
     "status": "completed"
    },
    "tags": []
   },
   "outputs": [
    {
     "data": {
      "text/html": [
       "<div>\n",
       "<style scoped>\n",
       "    .dataframe tbody tr th:only-of-type {\n",
       "        vertical-align: middle;\n",
       "    }\n",
       "\n",
       "    .dataframe tbody tr th {\n",
       "        vertical-align: top;\n",
       "    }\n",
       "\n",
       "    .dataframe thead th {\n",
       "        text-align: right;\n",
       "    }\n",
       "</style>\n",
       "<table border=\"1\" class=\"dataframe\">\n",
       "  <thead>\n",
       "    <tr style=\"text-align: right;\">\n",
       "      <th></th>\n",
       "      <th>universe_id</th>\n",
       "      <th>universe_training_year</th>\n",
       "      <th>universe_training_size</th>\n",
       "      <th>universe_scale</th>\n",
       "      <th>universe_model</th>\n",
       "      <th>universe_exclude_features</th>\n",
       "      <th>universe_exclude_subgroups</th>\n",
       "      <th>q_hat</th>\n",
       "      <th>coverage</th>\n",
       "      <th>avg_size</th>\n",
       "      <th>cov_frau1</th>\n",
       "      <th>cov_nongerman</th>\n",
       "      <th>cov_nongerman_male</th>\n",
       "      <th>cov_nongerman_female</th>\n",
       "    </tr>\n",
       "  </thead>\n",
       "  <tbody>\n",
       "    <tr>\n",
       "      <th>0</th>\n",
       "      <td>7d59360e7ee2c85ba71c047688239394</td>\n",
       "      <td>2010_14</td>\n",
       "      <td>25k</td>\n",
       "      <td>do-not-scale</td>\n",
       "      <td>elasticnet</td>\n",
       "      <td>age</td>\n",
       "      <td>drop-non-german</td>\n",
       "      <td>0.668607</td>\n",
       "      <td>0.914012</td>\n",
       "      <td>1.263326</td>\n",
       "      <td>0.913304</td>\n",
       "      <td>0.965306</td>\n",
       "      <td>0.971539</td>\n",
       "      <td>0.954993</td>\n",
       "    </tr>\n",
       "  </tbody>\n",
       "</table>\n",
       "</div>"
      ],
      "text/plain": [
       "                        universe_id universe_training_year  \\\n",
       "0  7d59360e7ee2c85ba71c047688239394                2010_14   \n",
       "\n",
       "  universe_training_size universe_scale universe_model  \\\n",
       "0                    25k   do-not-scale     elasticnet   \n",
       "\n",
       "  universe_exclude_features universe_exclude_subgroups     q_hat  coverage  \\\n",
       "0                       age            drop-non-german  0.668607  0.914012   \n",
       "\n",
       "   avg_size  cov_frau1  cov_nongerman  cov_nongerman_male  \\\n",
       "0  1.263326   0.913304       0.965306            0.971539   \n",
       "\n",
       "   cov_nongerman_female  \n",
       "0              0.954993  "
      ]
     },
     "execution_count": 56,
     "metadata": {},
     "output_type": "execute_result"
    }
   ],
   "source": [
    "cp_metrics_df"
   ]
  },
  {
   "cell_type": "markdown",
   "id": "3fc519cc",
   "metadata": {
    "papermill": {
     "duration": 0.012898,
     "end_time": "2025-08-19T18:22:56.247312",
     "exception": false,
     "start_time": "2025-08-19T18:22:56.234414",
     "status": "completed"
    },
    "tags": []
   },
   "source": [
    "# (Fairness) Metrics"
   ]
  },
  {
   "cell_type": "code",
   "execution_count": 57,
   "id": "a2e5e155",
   "metadata": {
    "execution": {
     "iopub.execute_input": "2025-08-19T18:22:56.274790Z",
     "iopub.status.busy": "2025-08-19T18:22:56.273848Z",
     "iopub.status.idle": "2025-08-19T18:22:56.306236Z",
     "shell.execute_reply": "2025-08-19T18:22:56.305291Z"
    },
    "papermill": {
     "duration": 0.049337,
     "end_time": "2025-08-19T18:22:56.309086",
     "exception": false,
     "start_time": "2025-08-19T18:22:56.259749",
     "status": "completed"
    },
    "tags": []
   },
   "outputs": [],
   "source": [
    "colname_to_bin = \"maxdeutsch1\"\n",
    "majority_value = org_train[colname_to_bin].mode()[0]\n",
    "\n",
    "org_test[\"majmin\"] = np.where(org_test[colname_to_bin] == majority_value, \"majority\", \"minority\")"
   ]
  },
  {
   "cell_type": "code",
   "execution_count": 58,
   "id": "17e3e4d5",
   "metadata": {
    "execution": {
     "iopub.execute_input": "2025-08-19T18:22:56.349452Z",
     "iopub.status.busy": "2025-08-19T18:22:56.348444Z",
     "iopub.status.idle": "2025-08-19T18:22:58.154831Z",
     "shell.execute_reply": "2025-08-19T18:22:58.153425Z"
    },
    "papermill": {
     "duration": 1.822831,
     "end_time": "2025-08-19T18:22:58.156534",
     "exception": false,
     "start_time": "2025-08-19T18:22:56.333703",
     "status": "completed"
    },
    "tags": []
   },
   "outputs": [],
   "source": [
    "example_universe = universe.copy()\n",
    "example_universe[\"cutoff\"] = example_universe[\"cutoff\"][0]\n",
    "example_universe[\"eval_fairness_grouping\"] = example_universe[\"eval_fairness_grouping\"][0]\n",
    "fairness_dict, metric_frame = universe_analysis.compute_metrics(\n",
    "    example_universe,\n",
    "    y_pred_prob=probs_test,\n",
    "    y_test=y_true,\n",
    "    org_test=org_test,\n",
    ")"
   ]
  },
  {
   "cell_type": "markdown",
   "id": "1fb7a0e9",
   "metadata": {
    "papermill": {
     "duration": 0.014313,
     "end_time": "2025-08-19T18:22:58.186062",
     "exception": false,
     "start_time": "2025-08-19T18:22:58.171749",
     "status": "completed"
    },
    "tags": []
   },
   "source": [
    "# Overall"
   ]
  },
  {
   "cell_type": "markdown",
   "id": "be1784b1",
   "metadata": {
    "papermill": {
     "duration": 0.01264,
     "end_time": "2025-08-19T18:22:58.211635",
     "exception": false,
     "start_time": "2025-08-19T18:22:58.198995",
     "status": "completed"
    },
    "tags": []
   },
   "source": [
    "Main fairness target: Equalized Odds. Seems to be a better fit than equal opportunity, since we're not only interested in Y = 1. Seems to be a better fit than demographic parity, since we also care about accuracy, not just equal distribution of preds.\n",
    "\n",
    "Pick column for computation of fairness metrics\n",
    "\n",
    "Performance\n",
    "Overall performance measures, most interesting in relation to the measures split by group below"
   ]
  },
  {
   "cell_type": "code",
   "execution_count": 59,
   "id": "b7672bee",
   "metadata": {
    "execution": {
     "iopub.execute_input": "2025-08-19T18:22:58.238736Z",
     "iopub.status.busy": "2025-08-19T18:22:58.238195Z",
     "iopub.status.idle": "2025-08-19T18:22:58.248183Z",
     "shell.execute_reply": "2025-08-19T18:22:58.247389Z"
    },
    "papermill": {
     "duration": 0.025413,
     "end_time": "2025-08-19T18:22:58.249681",
     "exception": false,
     "start_time": "2025-08-19T18:22:58.224268",
     "status": "completed"
    },
    "tags": []
   },
   "outputs": [
    {
     "data": {
      "text/plain": [
       "accuracy                   0.215238\n",
       "balanced accuracy          0.528200\n",
       "f1                         0.236821\n",
       "precision                  0.135288\n",
       "false positive rate        0.892765\n",
       "false negative rate        0.050834\n",
       "selection rate             0.900000\n",
       "count                  89710.000000\n",
       "dtype: float64"
      ]
     },
     "execution_count": 59,
     "metadata": {},
     "output_type": "execute_result"
    }
   ],
   "source": [
    "metric_frame.overall"
   ]
  },
  {
   "cell_type": "markdown",
   "id": "d93333c9",
   "metadata": {
    "papermill": {
     "duration": 0.012831,
     "end_time": "2025-08-19T18:22:58.276408",
     "exception": false,
     "start_time": "2025-08-19T18:22:58.263577",
     "status": "completed"
    },
    "tags": []
   },
   "source": [
    "By Group"
   ]
  },
  {
   "cell_type": "code",
   "execution_count": 60,
   "id": "52256966",
   "metadata": {
    "execution": {
     "iopub.execute_input": "2025-08-19T18:22:58.304839Z",
     "iopub.status.busy": "2025-08-19T18:22:58.303989Z",
     "iopub.status.idle": "2025-08-19T18:22:58.336717Z",
     "shell.execute_reply": "2025-08-19T18:22:58.331099Z"
    },
    "papermill": {
     "duration": 0.049292,
     "end_time": "2025-08-19T18:22:58.338285",
     "exception": false,
     "start_time": "2025-08-19T18:22:58.288993",
     "status": "completed"
    },
    "tags": []
   },
   "outputs": [
    {
     "data": {
      "text/html": [
       "<div>\n",
       "<style scoped>\n",
       "    .dataframe tbody tr th:only-of-type {\n",
       "        vertical-align: middle;\n",
       "    }\n",
       "\n",
       "    .dataframe tbody tr th {\n",
       "        vertical-align: top;\n",
       "    }\n",
       "\n",
       "    .dataframe thead th {\n",
       "        text-align: right;\n",
       "    }\n",
       "</style>\n",
       "<table border=\"1\" class=\"dataframe\">\n",
       "  <thead>\n",
       "    <tr style=\"text-align: right;\">\n",
       "      <th></th>\n",
       "      <th>accuracy</th>\n",
       "      <th>balanced accuracy</th>\n",
       "      <th>f1</th>\n",
       "      <th>precision</th>\n",
       "      <th>false positive rate</th>\n",
       "      <th>false negative rate</th>\n",
       "      <th>selection rate</th>\n",
       "      <th>count</th>\n",
       "    </tr>\n",
       "    <tr>\n",
       "      <th>majmin</th>\n",
       "      <th></th>\n",
       "      <th></th>\n",
       "      <th></th>\n",
       "      <th></th>\n",
       "      <th></th>\n",
       "      <th></th>\n",
       "      <th></th>\n",
       "      <th></th>\n",
       "    </tr>\n",
       "  </thead>\n",
       "  <tbody>\n",
       "    <tr>\n",
       "      <th>majority</th>\n",
       "      <td>0.236750</td>\n",
       "      <td>0.535274</td>\n",
       "      <td>0.245757</td>\n",
       "      <td>0.141334</td>\n",
       "      <td>0.870481</td>\n",
       "      <td>0.058972</td>\n",
       "      <td>0.879803</td>\n",
       "      <td>69170.0</td>\n",
       "    </tr>\n",
       "    <tr>\n",
       "      <th>minority</th>\n",
       "      <td>0.142795</td>\n",
       "      <td>0.507099</td>\n",
       "      <td>0.208710</td>\n",
       "      <td>0.116783</td>\n",
       "      <td>0.966377</td>\n",
       "      <td>0.019426</td>\n",
       "      <td>0.968014</td>\n",
       "      <td>20540.0</td>\n",
       "    </tr>\n",
       "  </tbody>\n",
       "</table>\n",
       "</div>"
      ],
      "text/plain": [
       "          accuracy  balanced accuracy        f1  precision  \\\n",
       "majmin                                                       \n",
       "majority  0.236750           0.535274  0.245757   0.141334   \n",
       "minority  0.142795           0.507099  0.208710   0.116783   \n",
       "\n",
       "          false positive rate  false negative rate  selection rate    count  \n",
       "majmin                                                                       \n",
       "majority             0.870481             0.058972        0.879803  69170.0  \n",
       "minority             0.966377             0.019426        0.968014  20540.0  "
      ]
     },
     "execution_count": 60,
     "metadata": {},
     "output_type": "execute_result"
    }
   ],
   "source": [
    "metric_frame.by_group"
   ]
  },
  {
   "cell_type": "code",
   "execution_count": 61,
   "id": "6e6c20ae",
   "metadata": {
    "execution": {
     "iopub.execute_input": "2025-08-19T18:22:58.395263Z",
     "iopub.status.busy": "2025-08-19T18:22:58.394761Z",
     "iopub.status.idle": "2025-08-19T18:23:00.350545Z",
     "shell.execute_reply": "2025-08-19T18:23:00.349292Z"
    },
    "papermill": {
     "duration": 1.994393,
     "end_time": "2025-08-19T18:23:00.352280",
     "exception": false,
     "start_time": "2025-08-19T18:22:58.357887",
     "status": "completed"
    },
    "tags": []
   },
   "outputs": [
    {
     "data": {
      "text/plain": [
       "array([[<Axes: title={'center': 'accuracy'}, xlabel='majmin'>,\n",
       "        <Axes: title={'center': 'balanced accuracy'}, xlabel='majmin'>,\n",
       "        <Axes: title={'center': 'f1'}, xlabel='majmin'>],\n",
       "       [<Axes: title={'center': 'precision'}, xlabel='majmin'>,\n",
       "        <Axes: title={'center': 'false positive rate'}, xlabel='majmin'>,\n",
       "        <Axes: title={'center': 'false negative rate'}, xlabel='majmin'>],\n",
       "       [<Axes: title={'center': 'selection rate'}, xlabel='majmin'>,\n",
       "        <Axes: title={'center': 'count'}, xlabel='majmin'>,\n",
       "        <Axes: xlabel='majmin'>]], dtype=object)"
      ]
     },
     "execution_count": 61,
     "metadata": {},
     "output_type": "execute_result"
    },
    {
     "data": {
      "image/png": "[encoded data removed]",
      "text/plain": [
       "<Figure size 1200x800 with 9 Axes>"
      ]
     },
     "metadata": {},
     "output_type": "display_data"
    }
   ],
   "source": [
    "# In a graphic\n",
    "metric_frame.by_group.plot.bar(\n",
    "    subplots=True,\n",
    "    layout=[3, 3],\n",
    "    legend=False,\n",
    "    figsize=[12, 8],\n",
    "    title=\"Show all metrics\",\n",
    ")"
   ]
  },
  {
   "cell_type": "markdown",
   "id": "b2e433ae",
   "metadata": {
    "papermill": {
     "duration": 0.014289,
     "end_time": "2025-08-19T18:23:00.385140",
     "exception": false,
     "start_time": "2025-08-19T18:23:00.370851",
     "status": "completed"
    },
    "tags": []
   },
   "source": [
    "# Final Output"
   ]
  },
  {
   "cell_type": "code",
   "execution_count": 62,
   "id": "3871301e",
   "metadata": {
    "execution": {
     "iopub.execute_input": "2025-08-19T18:23:00.421213Z",
     "iopub.status.busy": "2025-08-19T18:23:00.417450Z",
     "iopub.status.idle": "2025-08-19T18:23:00.440255Z",
     "shell.execute_reply": "2025-08-19T18:23:00.439415Z"
    },
    "papermill": {
     "duration": 0.041645,
     "end_time": "2025-08-19T18:23:00.441776",
     "exception": false,
     "start_time": "2025-08-19T18:23:00.400131",
     "status": "completed"
    },
    "tags": []
   },
   "outputs": [
    {
     "data": {
      "text/plain": [
       "4"
      ]
     },
     "execution_count": 62,
     "metadata": {},
     "output_type": "execute_result"
    }
   ],
   "source": [
    "sub_universes = universe_analysis.generate_sub_universes()\n",
    "len(sub_universes)"
   ]
  },
  {
   "cell_type": "code",
   "execution_count": 63,
   "id": "d9cfdaca",
   "metadata": {
    "execution": {
     "iopub.execute_input": "2025-08-19T18:23:00.479433Z",
     "iopub.status.busy": "2025-08-19T18:23:00.476542Z",
     "iopub.status.idle": "2025-08-19T18:23:00.491580Z",
     "shell.execute_reply": "2025-08-19T18:23:00.490666Z"
    },
    "papermill": {
     "duration": 0.034631,
     "end_time": "2025-08-19T18:23:00.493161",
     "exception": false,
     "start_time": "2025-08-19T18:23:00.458530",
     "status": "completed"
    },
    "tags": []
   },
   "outputs": [],
   "source": [
    "def filter_sub_universe_data(sub_universe, org_test):\n",
    "    # Keep all rows — no filtering\n",
    "    keep_rows_mask = np.ones(org_test.shape[0], dtype=bool)\n",
    "\n",
    "    print(f\"[INFO] Keeping all rows: {keep_rows_mask.sum()} rows retained.\")\n",
    "    return keep_rows_mask"
   ]
  },
  {
   "cell_type": "code",
   "execution_count": 64,
   "id": "2bc31ac1",
   "metadata": {
    "execution": {
     "iopub.execute_input": "2025-08-19T18:23:00.531781Z",
     "iopub.status.busy": "2025-08-19T18:23:00.530768Z",
     "iopub.status.idle": "2025-08-19T18:23:07.348743Z",
     "shell.execute_reply": "2025-08-19T18:23:07.347700Z"
    },
    "papermill": {
     "duration": 6.837511,
     "end_time": "2025-08-19T18:23:07.350112",
     "exception": false,
     "start_time": "2025-08-19T18:23:00.512601",
     "status": "completed"
    },
    "tags": []
   },
   "outputs": [
    {
     "name": "stdout",
     "output_type": "stream",
     "text": [
      "Stopping execution_time clock.\n",
      "[INFO] Keeping all rows: 89710 rows retained.\n"
     ]
    },
    {
     "name": "stdout",
     "output_type": "stream",
     "text": [
      "[INFO] Keeping all rows: 89710 rows retained.\n"
     ]
    },
    {
     "name": "stdout",
     "output_type": "stream",
     "text": [
      "[INFO] Keeping all rows: 89710 rows retained.\n"
     ]
    },
    {
     "name": "stdout",
     "output_type": "stream",
     "text": [
      "[INFO] Keeping all rows: 89710 rows retained.\n"
     ]
    },
    {
     "data": {
      "text/html": [
       "<div>\n",
       "<style scoped>\n",
       "    .dataframe tbody tr th:only-of-type {\n",
       "        vertical-align: middle;\n",
       "    }\n",
       "\n",
       "    .dataframe tbody tr th {\n",
       "        vertical-align: top;\n",
       "    }\n",
       "\n",
       "    .dataframe thead th {\n",
       "        text-align: right;\n",
       "    }\n",
       "</style>\n",
       "<table border=\"1\" class=\"dataframe\">\n",
       "  <thead>\n",
       "    <tr style=\"text-align: right;\">\n",
       "      <th></th>\n",
       "      <th>run_no</th>\n",
       "      <th>universe_id</th>\n",
       "      <th>universe_settings</th>\n",
       "      <th>execution_time</th>\n",
       "      <th>test_size_n</th>\n",
       "      <th>test_size_frac</th>\n",
       "      <th>fair_main_equalized_odds_difference</th>\n",
       "      <th>fair_main_equalized_odds_ratio</th>\n",
       "      <th>fair_main_demographic_parity_difference</th>\n",
       "      <th>fair_main_demographic_parity_ratio</th>\n",
       "      <th>...</th>\n",
       "      <th>perf_grp_precision_0</th>\n",
       "      <th>perf_grp_precision_1</th>\n",
       "      <th>perf_grp_false positive rate_0</th>\n",
       "      <th>perf_grp_false positive rate_1</th>\n",
       "      <th>perf_grp_false negative rate_0</th>\n",
       "      <th>perf_grp_false negative rate_1</th>\n",
       "      <th>perf_grp_selection rate_0</th>\n",
       "      <th>perf_grp_selection rate_1</th>\n",
       "      <th>perf_grp_count_0</th>\n",
       "      <th>perf_grp_count_1</th>\n",
       "    </tr>\n",
       "  </thead>\n",
       "  <tbody>\n",
       "    <tr>\n",
       "      <th>0</th>\n",
       "      <td>3</td>\n",
       "      <td>7d59360e7ee2c85ba71c047688239394</td>\n",
       "      <td>{\"cutoff\": \"quantile_0.1\", \"eval_fairness_grou...</td>\n",
       "      <td>26.865695</td>\n",
       "      <td>89710</td>\n",
       "      <td>1.0</td>\n",
       "      <td>0.095895</td>\n",
       "      <td>0.900768</td>\n",
       "      <td>0.088210</td>\n",
       "      <td>0.908875</td>\n",
       "      <td>...</td>\n",
       "      <td>NaN</td>\n",
       "      <td>NaN</td>\n",
       "      <td>NaN</td>\n",
       "      <td>NaN</td>\n",
       "      <td>NaN</td>\n",
       "      <td>NaN</td>\n",
       "      <td>NaN</td>\n",
       "      <td>NaN</td>\n",
       "      <td>NaN</td>\n",
       "      <td>NaN</td>\n",
       "    </tr>\n",
       "    <tr>\n",
       "      <th>0</th>\n",
       "      <td>3</td>\n",
       "      <td>7d59360e7ee2c85ba71c047688239394</td>\n",
       "      <td>{\"cutoff\": \"quantile_0.1\", \"eval_fairness_grou...</td>\n",
       "      <td>26.865695</td>\n",
       "      <td>89710</td>\n",
       "      <td>1.0</td>\n",
       "      <td>0.095895</td>\n",
       "      <td>0.900768</td>\n",
       "      <td>0.088210</td>\n",
       "      <td>0.908875</td>\n",
       "      <td>...</td>\n",
       "      <td>0.116783</td>\n",
       "      <td>0.141334</td>\n",
       "      <td>0.966377</td>\n",
       "      <td>0.870481</td>\n",
       "      <td>0.019426</td>\n",
       "      <td>0.058972</td>\n",
       "      <td>0.968014</td>\n",
       "      <td>0.879803</td>\n",
       "      <td>20540.0</td>\n",
       "      <td>69170.0</td>\n",
       "    </tr>\n",
       "    <tr>\n",
       "      <th>0</th>\n",
       "      <td>3</td>\n",
       "      <td>7d59360e7ee2c85ba71c047688239394</td>\n",
       "      <td>{\"cutoff\": \"quantile_0.25\", \"eval_fairness_gro...</td>\n",
       "      <td>26.865695</td>\n",
       "      <td>89710</td>\n",
       "      <td>1.0</td>\n",
       "      <td>0.233722</td>\n",
       "      <td>0.744314</td>\n",
       "      <td>0.217218</td>\n",
       "      <td>0.763245</td>\n",
       "      <td>...</td>\n",
       "      <td>NaN</td>\n",
       "      <td>NaN</td>\n",
       "      <td>NaN</td>\n",
       "      <td>NaN</td>\n",
       "      <td>NaN</td>\n",
       "      <td>NaN</td>\n",
       "      <td>NaN</td>\n",
       "      <td>NaN</td>\n",
       "      <td>NaN</td>\n",
       "      <td>NaN</td>\n",
       "    </tr>\n",
       "    <tr>\n",
       "      <th>0</th>\n",
       "      <td>3</td>\n",
       "      <td>7d59360e7ee2c85ba71c047688239394</td>\n",
       "      <td>{\"cutoff\": \"quantile_0.25\", \"eval_fairness_gro...</td>\n",
       "      <td>26.865695</td>\n",
       "      <td>89710</td>\n",
       "      <td>1.0</td>\n",
       "      <td>0.233722</td>\n",
       "      <td>0.744314</td>\n",
       "      <td>0.217218</td>\n",
       "      <td>0.763245</td>\n",
       "      <td>...</td>\n",
       "      <td>0.118546</td>\n",
       "      <td>0.156781</td>\n",
       "      <td>0.914099</td>\n",
       "      <td>0.680376</td>\n",
       "      <td>0.056588</td>\n",
       "      <td>0.169147</td>\n",
       "      <td>0.917478</td>\n",
       "      <td>0.700260</td>\n",
       "      <td>20540.0</td>\n",
       "      <td>69170.0</td>\n",
       "    </tr>\n",
       "  </tbody>\n",
       "</table>\n",
       "<p>4 rows × 50 columns</p>\n",
       "</div>"
      ],
      "text/plain": [
       "  run_no                       universe_id  \\\n",
       "0      3  7d59360e7ee2c85ba71c047688239394   \n",
       "0      3  7d59360e7ee2c85ba71c047688239394   \n",
       "0      3  7d59360e7ee2c85ba71c047688239394   \n",
       "0      3  7d59360e7ee2c85ba71c047688239394   \n",
       "\n",
       "                                   universe_settings  execution_time  \\\n",
       "0  {\"cutoff\": \"quantile_0.1\", \"eval_fairness_grou...       26.865695   \n",
       "0  {\"cutoff\": \"quantile_0.1\", \"eval_fairness_grou...       26.865695   \n",
       "0  {\"cutoff\": \"quantile_0.25\", \"eval_fairness_gro...       26.865695   \n",
       "0  {\"cutoff\": \"quantile_0.25\", \"eval_fairness_gro...       26.865695   \n",
       "\n",
       "   test_size_n  test_size_frac  fair_main_equalized_odds_difference  \\\n",
       "0        89710             1.0                             0.095895   \n",
       "0        89710             1.0                             0.095895   \n",
       "0        89710             1.0                             0.233722   \n",
       "0        89710             1.0                             0.233722   \n",
       "\n",
       "   fair_main_equalized_odds_ratio  fair_main_demographic_parity_difference  \\\n",
       "0                        0.900768                                 0.088210   \n",
       "0                        0.900768                                 0.088210   \n",
       "0                        0.744314                                 0.217218   \n",
       "0                        0.744314                                 0.217218   \n",
       "\n",
       "   fair_main_demographic_parity_ratio  ...  perf_grp_precision_0  \\\n",
       "0                            0.908875  ...                   NaN   \n",
       "0                            0.908875  ...              0.116783   \n",
       "0                            0.763245  ...                   NaN   \n",
       "0                            0.763245  ...              0.118546   \n",
       "\n",
       "   perf_grp_precision_1  perf_grp_false positive rate_0  \\\n",
       "0                   NaN                             NaN   \n",
       "0              0.141334                        0.966377   \n",
       "0                   NaN                             NaN   \n",
       "0              0.156781                        0.914099   \n",
       "\n",
       "   perf_grp_false positive rate_1  perf_grp_false negative rate_0  \\\n",
       "0                             NaN                             NaN   \n",
       "0                        0.870481                        0.019426   \n",
       "0                             NaN                             NaN   \n",
       "0                        0.680376                        0.056588   \n",
       "\n",
       "   perf_grp_false negative rate_1  perf_grp_selection rate_0  \\\n",
       "0                             NaN                        NaN   \n",
       "0                        0.058972                   0.968014   \n",
       "0                             NaN                        NaN   \n",
       "0                        0.169147                   0.917478   \n",
       "\n",
       "   perf_grp_selection rate_1  perf_grp_count_0  perf_grp_count_1  \n",
       "0                        NaN               NaN               NaN  \n",
       "0                   0.879803           20540.0           69170.0  \n",
       "0                        NaN               NaN               NaN  \n",
       "0                   0.700260           20540.0           69170.0  \n",
       "\n",
       "[4 rows x 50 columns]"
      ]
     },
     "execution_count": 64,
     "metadata": {},
     "output_type": "execute_result"
    }
   ],
   "source": [
    "final_output = universe_analysis.generate_final_output(\n",
    "    y_pred_prob=probs_test,\n",
    "    y_test=y_true,\n",
    "    org_test=org_test,\n",
    "    filter_data=filter_sub_universe_data,\n",
    "    cp_metrics_df=cp_metrics_df,\n",
    "    save=True,\n",
    ")\n",
    "final_output"
   ]
  },
  {
   "cell_type": "code",
   "execution_count": null,
   "id": "8b80a1ff",
   "metadata": {
    "papermill": {
     "duration": 0.014743,
     "end_time": "2025-08-19T18:23:07.382699",
     "exception": false,
     "start_time": "2025-08-19T18:23:07.367956",
     "status": "completed"
    },
    "tags": []
   },
   "outputs": [],
   "source": []
  },
  {
   "cell_type": "code",
   "execution_count": null,
   "id": "275c9fad",
   "metadata": {
    "papermill": {
     "duration": 0.014779,
     "end_time": "2025-08-19T18:23:07.412992",
     "exception": false,
     "start_time": "2025-08-19T18:23:07.398213",
     "status": "completed"
    },
    "tags": []
   },
   "outputs": [],
   "source": []
  }
 ],
 "metadata": {
  "celltoolbar": "Tags",
  "kernelspec": {
   "display_name": "Python (CMA Fairness)",
   "language": "python",
   "name": "cma_fair_env"
  },
  "language_info": {
   "codemirror_mode": {
    "name": "ipython",
    "version": 3
   },
   "file_extension": ".py",
   "mimetype": "text/x-python",
   "name": "python",
   "nbconvert_exporter": "python",
   "pygments_lexer": "ipython3",
   "version": "3.10.12"
  },
  "papermill": {
   "default_parameters": {},
   "duration": 37.54262,
   "end_time": "2025-08-19T18:23:08.250843",
   "environment_variables": {},
   "exception": null,
   "input_path": "universe_analysis.ipynb",
   "output_path": "output/runs/3/notebooks/m_3-7d59360e7ee2c85ba71c047688239394.ipynb",
   "parameters": {
    "output_dir": "output",
    "run_no": "3",
    "seed": "2023",
    "universe": "{\"cutoff\": [\"quantile_0.1\", \"quantile_0.25\"], \"eval_fairness_grouping\": [\"majority-minority\", \"nationality-all\"], \"exclude_features\": \"age\", \"exclude_subgroups\": \"drop-non-german\", \"model\": \"elasticnet\", \"scale\": \"do-not-scale\", \"training_size\": \"25k\", \"training_year\": \"2010_14\"}",
    "universe_id": "7d59360e7ee2c85ba71c047688239394"
   },
   "start_time": "2025-08-19T18:22:30.708223",
   "version": "2.6.0"
  }
 },
 "nbformat": 4,
 "nbformat_minor": 5
}