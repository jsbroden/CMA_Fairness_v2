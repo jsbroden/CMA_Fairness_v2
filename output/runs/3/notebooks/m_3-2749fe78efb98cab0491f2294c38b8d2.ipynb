{
 "cells": [
  {
   "cell_type": "markdown",
   "id": "ef23dbb3",
   "metadata": {
    "papermill": {
     "duration": 0.011025,
     "end_time": "2025-08-19T18:58:24.214227",
     "exception": false,
     "start_time": "2025-08-19T18:58:24.203202",
     "status": "completed"
    },
    "tags": []
   },
   "source": [
    "# Setup"
   ]
  },
  {
   "cell_type": "code",
   "execution_count": 1,
   "id": "0bc8e7dc",
   "metadata": {
    "execution": {
     "iopub.execute_input": "2025-08-19T18:58:24.236717Z",
     "iopub.status.busy": "2025-08-19T18:58:24.235929Z",
     "iopub.status.idle": "2025-08-19T18:58:24.262282Z",
     "shell.execute_reply": "2025-08-19T18:58:24.260159Z"
    },
    "papermill": {
     "duration": 0.039291,
     "end_time": "2025-08-19T18:58:24.264258",
     "exception": false,
     "start_time": "2025-08-19T18:58:24.224967",
     "status": "completed"
    },
    "tags": []
   },
   "outputs": [
    {
     "name": "stdout",
     "output_type": "stream",
     "text": [
      "/dss/dsshome1/0C/ra93lal2/cma/CMA_Fairness_v2\n"
     ]
    },
    {
     "name": "stderr",
     "output_type": "stream",
     "text": [
      "/dss/dsshome1/0C/ra93lal2/.local/share/virtualenvs/CMA_Fairness_v2-3j10GkSs/lib/python3.10/site-packages/IPython/core/magics/osm.py:393: UserWarning: This is now an optional IPython functionality, using bookmarks requires you to install the `pickleshare` library.\n",
      "  bkms = self.shell.db.get('bookmarks', {})\n",
      "/dss/dsshome1/0C/ra93lal2/.local/share/virtualenvs/CMA_Fairness_v2-3j10GkSs/lib/python3.10/site-packages/IPython/core/magics/osm.py:417: UserWarning: This is now an optional IPython functionality, setting dhist requires you to install the `pickleshare` library.\n",
      "  self.shell.db['dhist'] = compress_dhist(dhist)[-100:]\n"
     ]
    }
   ],
   "source": [
    "%cd ~/cma/CMA_Fairness_v2"
   ]
  },
  {
   "cell_type": "markdown",
   "id": "9d235661",
   "metadata": {
    "papermill": {
     "duration": 0.010891,
     "end_time": "2025-08-19T18:58:24.291403",
     "exception": false,
     "start_time": "2025-08-19T18:58:24.280512",
     "status": "completed"
    },
    "tags": []
   },
   "source": [
    "The following cell holds the definition of our parameters, these values can be overriden by rendering the with e.g. the following command:\n",
    "\n",
    "papermill -p alpha 0.2 -p ratio 0.3 universe_analysis.ipynb output/test_run.ipynb"
   ]
  },
  {
   "cell_type": "code",
   "execution_count": 2,
   "id": "4a789d8e",
   "metadata": {
    "execution": {
     "iopub.execute_input": "2025-08-19T18:58:24.312137Z",
     "iopub.status.busy": "2025-08-19T18:58:24.311035Z",
     "iopub.status.idle": "2025-08-19T18:58:24.319217Z",
     "shell.execute_reply": "2025-08-19T18:58:24.317716Z"
    },
    "papermill": {
     "duration": 0.020593,
     "end_time": "2025-08-19T18:58:24.320918",
     "exception": false,
     "start_time": "2025-08-19T18:58:24.300325",
     "status": "completed"
    },
    "tags": []
   },
   "outputs": [
    {
     "name": "stdout",
     "output_type": "stream",
     "text": [
      "Current working directory: /dss/dsshome1/0C/ra93lal2/cma/CMA_Fairness_v2\n"
     ]
    }
   ],
   "source": [
    "import os\n",
    "print(\"Current working directory:\", os.getcwd())"
   ]
  },
  {
   "cell_type": "code",
   "execution_count": 3,
   "id": "4132aaed",
   "metadata": {
    "execution": {
     "iopub.execute_input": "2025-08-19T18:58:24.344848Z",
     "iopub.status.busy": "2025-08-19T18:58:24.343818Z",
     "iopub.status.idle": "2025-08-19T18:58:24.354140Z",
     "shell.execute_reply": "2025-08-19T18:58:24.352444Z"
    },
    "papermill": {
     "duration": 0.023041,
     "end_time": "2025-08-19T18:58:24.355619",
     "exception": false,
     "start_time": "2025-08-19T18:58:24.332578",
     "status": "completed"
    },
    "tags": [
     "parameters"
    ]
   },
   "outputs": [],
   "source": [
    "run_no = 0\n",
    "universe_id = \"test\"\n",
    "universe = {\n",
    "    \"training_size\": \"5k\", # \"25k\", \"5k\", \"1k\"\n",
    "    \"training_year\": \"2012_14\", # \"2014\", \"2012_14\", \"2010_14\"\n",
    "    \"scale\": \"scale\", # \"scale\", \"do-not-scale\",\n",
    "    \"model\": \"elasticnet\", # \"logreg\", \"penalized_logreg\", \"rf\", \"gbm\", \"elasticnet\"\n",
    "    \"cutoff\": [\"quantile_0.15\", \"quantile_0.30\"],\n",
    "    \"exclude_features\": \"age\", # \"none\", \"nationality\", \"sex\", \"nationality-sex\", \"age\"\n",
    "    \"exclude_subgroups\": \"drop-non-german\", # \"keep-all\", \"drop-non-german\"\n",
    "    \"eval_fairness_grouping\": [\"majority-minority\", \"nationality-all\"]\n",
    "}\n",
    "\n",
    "output_dir=\"./output\"\n",
    "seed=0"
   ]
  },
  {
   "cell_type": "code",
   "execution_count": 4,
   "id": "8bdcff18",
   "metadata": {
    "execution": {
     "iopub.execute_input": "2025-08-19T18:58:24.384204Z",
     "iopub.status.busy": "2025-08-19T18:58:24.380158Z",
     "iopub.status.idle": "2025-08-19T18:58:24.388146Z",
     "shell.execute_reply": "2025-08-19T18:58:24.387411Z"
    },
    "papermill": {
     "duration": 0.021362,
     "end_time": "2025-08-19T18:58:24.389372",
     "exception": false,
     "start_time": "2025-08-19T18:58:24.368010",
     "status": "completed"
    },
    "tags": [
     "injected-parameters"
    ]
   },
   "outputs": [],
   "source": [
    "# Parameters\n",
    "universe_id = \"2749fe78efb98cab0491f2294c38b8d2\"\n",
    "run_no = \"3\"\n",
    "universe = \"{\\\"cutoff\\\": [\\\"quantile_0.1\\\", \\\"quantile_0.25\\\"], \\\"eval_fairness_grouping\\\": [\\\"majority-minority\\\", \\\"nationality-all\\\"], \\\"exclude_features\\\": \\\"sex\\\", \\\"exclude_subgroups\\\": \\\"keep-all\\\", \\\"model\\\": \\\"rf\\\", \\\"scale\\\": \\\"scale\\\", \\\"training_size\\\": \\\"1k\\\", \\\"training_year\\\": \\\"2012_14\\\"}\"\n",
    "output_dir = \"output\"\n",
    "seed = \"2023\"\n"
   ]
  },
  {
   "cell_type": "code",
   "execution_count": 5,
   "id": "a5d7941f",
   "metadata": {
    "execution": {
     "iopub.execute_input": "2025-08-19T18:58:24.412383Z",
     "iopub.status.busy": "2025-08-19T18:58:24.411526Z",
     "iopub.status.idle": "2025-08-19T18:58:24.480910Z",
     "shell.execute_reply": "2025-08-19T18:58:24.480163Z"
    },
    "papermill": {
     "duration": 0.085704,
     "end_time": "2025-08-19T18:58:24.486672",
     "exception": false,
     "start_time": "2025-08-19T18:58:24.400968",
     "status": "completed"
    },
    "tags": []
   },
   "outputs": [],
   "source": [
    "import json\n",
    "if isinstance(universe, str):\n",
    "    universe = json.loads(universe)"
   ]
  },
  {
   "cell_type": "code",
   "execution_count": 6,
   "id": "7076ccb1",
   "metadata": {
    "execution": {
     "iopub.execute_input": "2025-08-19T18:58:24.523891Z",
     "iopub.status.busy": "2025-08-19T18:58:24.523570Z",
     "iopub.status.idle": "2025-08-19T18:58:24.560629Z",
     "shell.execute_reply": "2025-08-19T18:58:24.559415Z"
    },
    "papermill": {
     "duration": 0.052792,
     "end_time": "2025-08-19T18:58:24.562992",
     "exception": false,
     "start_time": "2025-08-19T18:58:24.510200",
     "status": "completed"
    },
    "tags": []
   },
   "outputs": [],
   "source": [
    "# Auto-reload the custom package\n",
    "%load_ext autoreload\n",
    "%autoreload 1\n",
    "%aimport fairness_multiverse"
   ]
  },
  {
   "cell_type": "code",
   "execution_count": 7,
   "id": "94c8eb93",
   "metadata": {
    "execution": {
     "iopub.execute_input": "2025-08-19T18:58:24.596107Z",
     "iopub.status.busy": "2025-08-19T18:58:24.595158Z",
     "iopub.status.idle": "2025-08-19T18:58:26.202291Z",
     "shell.execute_reply": "2025-08-19T18:58:26.201034Z"
    },
    "papermill": {
     "duration": 1.621834,
     "end_time": "2025-08-19T18:58:26.204007",
     "exception": false,
     "start_time": "2025-08-19T18:58:24.582173",
     "status": "completed"
    },
    "tags": []
   },
   "outputs": [],
   "source": [
    "from fairness_multiverse.universe import UniverseAnalysis\n",
    "\n",
    "universe_analysis = UniverseAnalysis(\n",
    "    run_no = run_no,\n",
    "    universe_id = universe_id,\n",
    "    universe = universe,\n",
    "    output_dir=output_dir,\n",
    ")"
   ]
  },
  {
   "cell_type": "code",
   "execution_count": 8,
   "id": "2a6381cf",
   "metadata": {
    "execution": {
     "iopub.execute_input": "2025-08-19T18:58:26.236936Z",
     "iopub.status.busy": "2025-08-19T18:58:26.235416Z",
     "iopub.status.idle": "2025-08-19T18:58:26.249520Z",
     "shell.execute_reply": "2025-08-19T18:58:26.248075Z"
    },
    "papermill": {
     "duration": 0.035451,
     "end_time": "2025-08-19T18:58:26.252699",
     "exception": false,
     "start_time": "2025-08-19T18:58:26.217248",
     "status": "completed"
    },
    "tags": []
   },
   "outputs": [
    {
     "name": "stdout",
     "output_type": "stream",
     "text": [
      "Using Seed: 2023\n"
     ]
    }
   ],
   "source": [
    "import numpy as np\n",
    "parsed_seed = int(seed)\n",
    "np.random.seed(parsed_seed)\n",
    "print(f\"Using Seed: {parsed_seed}\")"
   ]
  },
  {
   "cell_type": "markdown",
   "id": "b6e958b4",
   "metadata": {
    "papermill": {
     "duration": 0.009626,
     "end_time": "2025-08-19T18:58:26.278239",
     "exception": false,
     "start_time": "2025-08-19T18:58:26.268613",
     "status": "completed"
    },
    "tags": []
   },
   "source": [
    "# Loading Data"
   ]
  },
  {
   "cell_type": "code",
   "execution_count": 9,
   "id": "98701482",
   "metadata": {
    "execution": {
     "iopub.execute_input": "2025-08-19T18:58:26.299192Z",
     "iopub.status.busy": "2025-08-19T18:58:26.298714Z",
     "iopub.status.idle": "2025-08-19T18:58:36.391889Z",
     "shell.execute_reply": "2025-08-19T18:58:36.390520Z"
    },
    "papermill": {
     "duration": 10.105047,
     "end_time": "2025-08-19T18:58:36.393382",
     "exception": false,
     "start_time": "2025-08-19T18:58:26.288335",
     "status": "completed"
    },
    "tags": []
   },
   "outputs": [
    {
     "name": "stdout",
     "output_type": "stream",
     "text": [
      "Loading SIAB data from cache: data/siab_cached.csv.gz\n"
     ]
    },
    {
     "name": "stdout",
     "output_type": "stream",
     "text": [
      "(643690, 164)\n"
     ]
    }
   ],
   "source": [
    "from pathlib import Path\n",
    "import pandas as pd\n",
    "\n",
    "# File paths\n",
    "raw_file = Path(\"data/raw/siab.csv\")\n",
    "cache_file = Path(\"data/siab_cached.csv.gz\")\n",
    "\n",
    "# Ensure cache directory exists\n",
    "cache_file.parent.mkdir(parents=True, exist_ok=True)\n",
    "\n",
    "# Load with simple caching\n",
    "if cache_file.exists():\n",
    "    print(f\"Loading SIAB data from cache: {cache_file}\")\n",
    "    siab = pd.read_csv(cache_file, compression='gzip')\n",
    "else:\n",
    "    print(f\"Cache not found. Reading raw SIAB data: {raw_file}\")\n",
    "    siab = pd.read_csv(raw_file)\n",
    "    siab.to_csv(cache_file, index=False, compression='gzip')\n",
    "    print(f\"Cached SIAB data to: {cache_file}\")\n",
    "\n",
    "print(siab.shape)"
   ]
  },
  {
   "cell_type": "code",
   "execution_count": 10,
   "id": "058d2abb",
   "metadata": {
    "execution": {
     "iopub.execute_input": "2025-08-19T18:58:36.423252Z",
     "iopub.status.busy": "2025-08-19T18:58:36.422870Z",
     "iopub.status.idle": "2025-08-19T18:58:36.632985Z",
     "shell.execute_reply": "2025-08-19T18:58:36.631701Z"
    },
    "papermill": {
     "duration": 0.226703,
     "end_time": "2025-08-19T18:58:36.634343",
     "exception": false,
     "start_time": "2025-08-19T18:58:36.407640",
     "status": "completed"
    },
    "tags": []
   },
   "outputs": [
    {
     "data": {
      "text/html": [
       "<div>\n",
       "<style scoped>\n",
       "    .dataframe tbody tr th:only-of-type {\n",
       "        vertical-align: middle;\n",
       "    }\n",
       "\n",
       "    .dataframe tbody tr th {\n",
       "        vertical-align: top;\n",
       "    }\n",
       "\n",
       "    .dataframe thead th {\n",
       "        text-align: right;\n",
       "    }\n",
       "</style>\n",
       "<table border=\"1\" class=\"dataframe\">\n",
       "  <thead>\n",
       "    <tr style=\"text-align: right;\">\n",
       "      <th></th>\n",
       "      <th>persnr</th>\n",
       "      <th>year</th>\n",
       "      <th>nrEntry</th>\n",
       "      <th>ltue</th>\n",
       "      <th>employed_before</th>\n",
       "      <th>receipt_leh_before</th>\n",
       "      <th>receipt_lhg_before</th>\n",
       "      <th>se_before</th>\n",
       "      <th>ASU_notue_seeking_before</th>\n",
       "      <th>ASU_other_before</th>\n",
       "      <th>...</th>\n",
       "      <th>minijob_tot_dur_byage</th>\n",
       "      <th>ft_tot_dur_byage</th>\n",
       "      <th>befrist_tot_dur_byage</th>\n",
       "      <th>leih_tot_dur_byage</th>\n",
       "      <th>LHG_tot_dur_byage</th>\n",
       "      <th>LEH_tot_dur_byage</th>\n",
       "      <th>almp_tot_dur_byage</th>\n",
       "      <th>almp_aw_tot_dur_byage</th>\n",
       "      <th>se_tot_dur_byage</th>\n",
       "      <th>seeking1_tot_dur_byage</th>\n",
       "    </tr>\n",
       "  </thead>\n",
       "  <tbody>\n",
       "    <tr>\n",
       "      <th>0</th>\n",
       "      <td>7</td>\n",
       "      <td>2015</td>\n",
       "      <td>1</td>\n",
       "      <td>0</td>\n",
       "      <td>1</td>\n",
       "      <td>0</td>\n",
       "      <td>0</td>\n",
       "      <td>0</td>\n",
       "      <td>1</td>\n",
       "      <td>0</td>\n",
       "      <td>...</td>\n",
       "      <td>0.000000</td>\n",
       "      <td>0.000000</td>\n",
       "      <td>15.043478</td>\n",
       "      <td>0.000000</td>\n",
       "      <td>0.000000</td>\n",
       "      <td>0.000000</td>\n",
       "      <td>0.000000</td>\n",
       "      <td>0.000000</td>\n",
       "      <td>0.000000</td>\n",
       "      <td>0.000000</td>\n",
       "    </tr>\n",
       "    <tr>\n",
       "      <th>1</th>\n",
       "      <td>18</td>\n",
       "      <td>2010</td>\n",
       "      <td>1</td>\n",
       "      <td>1</td>\n",
       "      <td>0</td>\n",
       "      <td>0</td>\n",
       "      <td>0</td>\n",
       "      <td>0</td>\n",
       "      <td>0</td>\n",
       "      <td>0</td>\n",
       "      <td>...</td>\n",
       "      <td>0.000000</td>\n",
       "      <td>0.000000</td>\n",
       "      <td>0.000000</td>\n",
       "      <td>0.000000</td>\n",
       "      <td>0.000000</td>\n",
       "      <td>0.000000</td>\n",
       "      <td>0.000000</td>\n",
       "      <td>0.000000</td>\n",
       "      <td>0.000000</td>\n",
       "      <td>0.000000</td>\n",
       "    </tr>\n",
       "    <tr>\n",
       "      <th>2</th>\n",
       "      <td>18</td>\n",
       "      <td>2011</td>\n",
       "      <td>2</td>\n",
       "      <td>0</td>\n",
       "      <td>1</td>\n",
       "      <td>0</td>\n",
       "      <td>1</td>\n",
       "      <td>0</td>\n",
       "      <td>1</td>\n",
       "      <td>0</td>\n",
       "      <td>...</td>\n",
       "      <td>2.714286</td>\n",
       "      <td>2.714286</td>\n",
       "      <td>0.000000</td>\n",
       "      <td>0.000000</td>\n",
       "      <td>10.775510</td>\n",
       "      <td>0.000000</td>\n",
       "      <td>8.367347</td>\n",
       "      <td>0.000000</td>\n",
       "      <td>0.000000</td>\n",
       "      <td>9.836735</td>\n",
       "    </tr>\n",
       "    <tr>\n",
       "      <th>3</th>\n",
       "      <td>18</td>\n",
       "      <td>2012</td>\n",
       "      <td>3</td>\n",
       "      <td>0</td>\n",
       "      <td>1</td>\n",
       "      <td>0</td>\n",
       "      <td>1</td>\n",
       "      <td>0</td>\n",
       "      <td>1</td>\n",
       "      <td>0</td>\n",
       "      <td>...</td>\n",
       "      <td>4.200000</td>\n",
       "      <td>4.200000</td>\n",
       "      <td>0.000000</td>\n",
       "      <td>0.000000</td>\n",
       "      <td>12.100000</td>\n",
       "      <td>0.000000</td>\n",
       "      <td>9.400000</td>\n",
       "      <td>0.000000</td>\n",
       "      <td>0.000000</td>\n",
       "      <td>9.960000</td>\n",
       "    </tr>\n",
       "    <tr>\n",
       "      <th>4</th>\n",
       "      <td>18</td>\n",
       "      <td>2012</td>\n",
       "      <td>4</td>\n",
       "      <td>0</td>\n",
       "      <td>1</td>\n",
       "      <td>0</td>\n",
       "      <td>1</td>\n",
       "      <td>0</td>\n",
       "      <td>1</td>\n",
       "      <td>0</td>\n",
       "      <td>...</td>\n",
       "      <td>5.460000</td>\n",
       "      <td>5.460000</td>\n",
       "      <td>0.000000</td>\n",
       "      <td>0.000000</td>\n",
       "      <td>13.360000</td>\n",
       "      <td>0.000000</td>\n",
       "      <td>10.320000</td>\n",
       "      <td>0.000000</td>\n",
       "      <td>0.000000</td>\n",
       "      <td>10.280000</td>\n",
       "    </tr>\n",
       "    <tr>\n",
       "      <th>...</th>\n",
       "      <td>...</td>\n",
       "      <td>...</td>\n",
       "      <td>...</td>\n",
       "      <td>...</td>\n",
       "      <td>...</td>\n",
       "      <td>...</td>\n",
       "      <td>...</td>\n",
       "      <td>...</td>\n",
       "      <td>...</td>\n",
       "      <td>...</td>\n",
       "      <td>...</td>\n",
       "      <td>...</td>\n",
       "      <td>...</td>\n",
       "      <td>...</td>\n",
       "      <td>...</td>\n",
       "      <td>...</td>\n",
       "      <td>...</td>\n",
       "      <td>...</td>\n",
       "      <td>...</td>\n",
       "      <td>...</td>\n",
       "      <td>...</td>\n",
       "    </tr>\n",
       "    <tr>\n",
       "      <th>643685</th>\n",
       "      <td>1827860</td>\n",
       "      <td>2013</td>\n",
       "      <td>1</td>\n",
       "      <td>0</td>\n",
       "      <td>0</td>\n",
       "      <td>0</td>\n",
       "      <td>1</td>\n",
       "      <td>0</td>\n",
       "      <td>0</td>\n",
       "      <td>1</td>\n",
       "      <td>...</td>\n",
       "      <td>0.000000</td>\n",
       "      <td>0.000000</td>\n",
       "      <td>0.000000</td>\n",
       "      <td>0.000000</td>\n",
       "      <td>0.612903</td>\n",
       "      <td>0.000000</td>\n",
       "      <td>0.000000</td>\n",
       "      <td>0.000000</td>\n",
       "      <td>0.000000</td>\n",
       "      <td>0.000000</td>\n",
       "    </tr>\n",
       "    <tr>\n",
       "      <th>643686</th>\n",
       "      <td>1827860</td>\n",
       "      <td>2015</td>\n",
       "      <td>2</td>\n",
       "      <td>1</td>\n",
       "      <td>0</td>\n",
       "      <td>0</td>\n",
       "      <td>1</td>\n",
       "      <td>0</td>\n",
       "      <td>1</td>\n",
       "      <td>0</td>\n",
       "      <td>...</td>\n",
       "      <td>0.000000</td>\n",
       "      <td>0.000000</td>\n",
       "      <td>0.212121</td>\n",
       "      <td>0.212121</td>\n",
       "      <td>17.363636</td>\n",
       "      <td>0.000000</td>\n",
       "      <td>8.909091</td>\n",
       "      <td>0.000000</td>\n",
       "      <td>0.000000</td>\n",
       "      <td>7.121212</td>\n",
       "    </tr>\n",
       "    <tr>\n",
       "      <th>643687</th>\n",
       "      <td>1827860</td>\n",
       "      <td>2016</td>\n",
       "      <td>3</td>\n",
       "      <td>1</td>\n",
       "      <td>0</td>\n",
       "      <td>0</td>\n",
       "      <td>1</td>\n",
       "      <td>1</td>\n",
       "      <td>0</td>\n",
       "      <td>1</td>\n",
       "      <td>...</td>\n",
       "      <td>0.000000</td>\n",
       "      <td>0.000000</td>\n",
       "      <td>0.294118</td>\n",
       "      <td>0.205882</td>\n",
       "      <td>34.705882</td>\n",
       "      <td>0.000000</td>\n",
       "      <td>10.352941</td>\n",
       "      <td>1.705882</td>\n",
       "      <td>1.705882</td>\n",
       "      <td>23.911765</td>\n",
       "    </tr>\n",
       "    <tr>\n",
       "      <th>643688</th>\n",
       "      <td>1827869</td>\n",
       "      <td>2013</td>\n",
       "      <td>1</td>\n",
       "      <td>1</td>\n",
       "      <td>1</td>\n",
       "      <td>0</td>\n",
       "      <td>0</td>\n",
       "      <td>0</td>\n",
       "      <td>1</td>\n",
       "      <td>0</td>\n",
       "      <td>...</td>\n",
       "      <td>0.000000</td>\n",
       "      <td>0.000000</td>\n",
       "      <td>0.000000</td>\n",
       "      <td>0.000000</td>\n",
       "      <td>0.000000</td>\n",
       "      <td>0.525424</td>\n",
       "      <td>0.000000</td>\n",
       "      <td>0.000000</td>\n",
       "      <td>0.000000</td>\n",
       "      <td>0.000000</td>\n",
       "    </tr>\n",
       "    <tr>\n",
       "      <th>643689</th>\n",
       "      <td>1827869</td>\n",
       "      <td>2014</td>\n",
       "      <td>2</td>\n",
       "      <td>0</td>\n",
       "      <td>0</td>\n",
       "      <td>1</td>\n",
       "      <td>0</td>\n",
       "      <td>0</td>\n",
       "      <td>1</td>\n",
       "      <td>0</td>\n",
       "      <td>...</td>\n",
       "      <td>0.000000</td>\n",
       "      <td>0.666667</td>\n",
       "      <td>0.666667</td>\n",
       "      <td>0.000000</td>\n",
       "      <td>0.000000</td>\n",
       "      <td>8.950000</td>\n",
       "      <td>1.033333</td>\n",
       "      <td>0.083333</td>\n",
       "      <td>0.083333</td>\n",
       "      <td>8.133333</td>\n",
       "    </tr>\n",
       "  </tbody>\n",
       "</table>\n",
       "<p>643690 rows × 164 columns</p>\n",
       "</div>"
      ],
      "text/plain": [
       "         persnr  year  nrEntry  ltue  employed_before  receipt_leh_before  \\\n",
       "0             7  2015        1     0                1                   0   \n",
       "1            18  2010        1     1                0                   0   \n",
       "2            18  2011        2     0                1                   0   \n",
       "3            18  2012        3     0                1                   0   \n",
       "4            18  2012        4     0                1                   0   \n",
       "...         ...   ...      ...   ...              ...                 ...   \n",
       "643685  1827860  2013        1     0                0                   0   \n",
       "643686  1827860  2015        2     1                0                   0   \n",
       "643687  1827860  2016        3     1                0                   0   \n",
       "643688  1827869  2013        1     1                1                   0   \n",
       "643689  1827869  2014        2     0                0                   1   \n",
       "\n",
       "        receipt_lhg_before  se_before  ASU_notue_seeking_before  \\\n",
       "0                        0          0                         1   \n",
       "1                        0          0                         0   \n",
       "2                        1          0                         1   \n",
       "3                        1          0                         1   \n",
       "4                        1          0                         1   \n",
       "...                    ...        ...                       ...   \n",
       "643685                   1          0                         0   \n",
       "643686                   1          0                         1   \n",
       "643687                   1          1                         0   \n",
       "643688                   0          0                         1   \n",
       "643689                   0          0                         1   \n",
       "\n",
       "        ASU_other_before  ...  minijob_tot_dur_byage  ft_tot_dur_byage  \\\n",
       "0                      0  ...               0.000000          0.000000   \n",
       "1                      0  ...               0.000000          0.000000   \n",
       "2                      0  ...               2.714286          2.714286   \n",
       "3                      0  ...               4.200000          4.200000   \n",
       "4                      0  ...               5.460000          5.460000   \n",
       "...                  ...  ...                    ...               ...   \n",
       "643685                 1  ...               0.000000          0.000000   \n",
       "643686                 0  ...               0.000000          0.000000   \n",
       "643687                 1  ...               0.000000          0.000000   \n",
       "643688                 0  ...               0.000000          0.000000   \n",
       "643689                 0  ...               0.000000          0.666667   \n",
       "\n",
       "        befrist_tot_dur_byage  leih_tot_dur_byage  LHG_tot_dur_byage  \\\n",
       "0                   15.043478            0.000000           0.000000   \n",
       "1                    0.000000            0.000000           0.000000   \n",
       "2                    0.000000            0.000000          10.775510   \n",
       "3                    0.000000            0.000000          12.100000   \n",
       "4                    0.000000            0.000000          13.360000   \n",
       "...                       ...                 ...                ...   \n",
       "643685               0.000000            0.000000           0.612903   \n",
       "643686               0.212121            0.212121          17.363636   \n",
       "643687               0.294118            0.205882          34.705882   \n",
       "643688               0.000000            0.000000           0.000000   \n",
       "643689               0.666667            0.000000           0.000000   \n",
       "\n",
       "        LEH_tot_dur_byage  almp_tot_dur_byage  almp_aw_tot_dur_byage  \\\n",
       "0                0.000000            0.000000               0.000000   \n",
       "1                0.000000            0.000000               0.000000   \n",
       "2                0.000000            8.367347               0.000000   \n",
       "3                0.000000            9.400000               0.000000   \n",
       "4                0.000000           10.320000               0.000000   \n",
       "...                   ...                 ...                    ...   \n",
       "643685           0.000000            0.000000               0.000000   \n",
       "643686           0.000000            8.909091               0.000000   \n",
       "643687           0.000000           10.352941               1.705882   \n",
       "643688           0.525424            0.000000               0.000000   \n",
       "643689           8.950000            1.033333               0.083333   \n",
       "\n",
       "        se_tot_dur_byage  seeking1_tot_dur_byage  \n",
       "0               0.000000                0.000000  \n",
       "1               0.000000                0.000000  \n",
       "2               0.000000                9.836735  \n",
       "3               0.000000                9.960000  \n",
       "4               0.000000               10.280000  \n",
       "...                  ...                     ...  \n",
       "643685          0.000000                0.000000  \n",
       "643686          0.000000                7.121212  \n",
       "643687          1.705882               23.911765  \n",
       "643688          0.000000                0.000000  \n",
       "643689          0.083333                8.133333  \n",
       "\n",
       "[643690 rows x 164 columns]"
      ]
     },
     "execution_count": 10,
     "metadata": {},
     "output_type": "execute_result"
    }
   ],
   "source": [
    "siab"
   ]
  },
  {
   "cell_type": "markdown",
   "id": "1f87e805",
   "metadata": {
    "papermill": {
     "duration": 0.013079,
     "end_time": "2025-08-19T18:58:36.657900",
     "exception": false,
     "start_time": "2025-08-19T18:58:36.644821",
     "status": "completed"
    },
    "tags": []
   },
   "source": [
    "# Splitting Data and Setting Training Data Size"
   ]
  },
  {
   "cell_type": "code",
   "execution_count": 11,
   "id": "910ae358",
   "metadata": {
    "execution": {
     "iopub.execute_input": "2025-08-19T18:58:36.680772Z",
     "iopub.status.busy": "2025-08-19T18:58:36.680343Z",
     "iopub.status.idle": "2025-08-19T18:58:37.363380Z",
     "shell.execute_reply": "2025-08-19T18:58:37.362269Z"
    },
    "papermill": {
     "duration": 0.696539,
     "end_time": "2025-08-19T18:58:37.365053",
     "exception": false,
     "start_time": "2025-08-19T18:58:36.668514",
     "status": "completed"
    },
    "tags": []
   },
   "outputs": [],
   "source": [
    "from fairness_multiverse.universe import sample_by_year_size\n",
    "\n",
    "siab_train = sample_by_year_size(siab,\n",
    "                               training_year=universe[\"training_year\"],\n",
    "                               training_size=universe[\"training_size\"])"
   ]
  },
  {
   "cell_type": "code",
   "execution_count": 12,
   "id": "919c8ff5",
   "metadata": {
    "execution": {
     "iopub.execute_input": "2025-08-19T18:58:37.412216Z",
     "iopub.status.busy": "2025-08-19T18:58:37.410996Z",
     "iopub.status.idle": "2025-08-19T18:58:37.423955Z",
     "shell.execute_reply": "2025-08-19T18:58:37.422263Z"
    },
    "papermill": {
     "duration": 0.036539,
     "end_time": "2025-08-19T18:58:37.425630",
     "exception": false,
     "start_time": "2025-08-19T18:58:37.389091",
     "status": "completed"
    },
    "tags": []
   },
   "outputs": [
    {
     "data": {
      "text/plain": [
       "(1000, 164)"
      ]
     },
     "execution_count": 12,
     "metadata": {},
     "output_type": "execute_result"
    }
   ],
   "source": [
    "siab_train.shape"
   ]
  },
  {
   "cell_type": "code",
   "execution_count": 13,
   "id": "feb13bf4",
   "metadata": {
    "execution": {
     "iopub.execute_input": "2025-08-19T18:58:37.471934Z",
     "iopub.status.busy": "2025-08-19T18:58:37.470744Z",
     "iopub.status.idle": "2025-08-19T18:58:37.487127Z",
     "shell.execute_reply": "2025-08-19T18:58:37.485697Z"
    },
    "papermill": {
     "duration": 0.042548,
     "end_time": "2025-08-19T18:58:37.488678",
     "exception": false,
     "start_time": "2025-08-19T18:58:37.446130",
     "status": "completed"
    },
    "tags": []
   },
   "outputs": [
    {
     "data": {
      "text/plain": [
       "year\n",
       "2012    334\n",
       "2013    333\n",
       "2014    333\n",
       "dtype: int64"
      ]
     },
     "metadata": {},
     "output_type": "display_data"
    }
   ],
   "source": [
    "display(siab_train.groupby(\"year\").size())"
   ]
  },
  {
   "cell_type": "code",
   "execution_count": 14,
   "id": "0997782f",
   "metadata": {
    "execution": {
     "iopub.execute_input": "2025-08-19T18:58:37.547546Z",
     "iopub.status.busy": "2025-08-19T18:58:37.546814Z",
     "iopub.status.idle": "2025-08-19T18:58:37.872620Z",
     "shell.execute_reply": "2025-08-19T18:58:37.871252Z"
    },
    "papermill": {
     "duration": 0.349341,
     "end_time": "2025-08-19T18:58:37.874215",
     "exception": false,
     "start_time": "2025-08-19T18:58:37.524874",
     "status": "completed"
    },
    "tags": []
   },
   "outputs": [],
   "source": [
    "#siab_train = siab_s[siab_s.year < 2015]\n",
    "siab_calib = siab[siab.year == 2015]\n",
    "siab_test = siab[siab.year == 2016]"
   ]
  },
  {
   "cell_type": "code",
   "execution_count": 15,
   "id": "2c1e4012",
   "metadata": {
    "execution": {
     "iopub.execute_input": "2025-08-19T18:58:37.912769Z",
     "iopub.status.busy": "2025-08-19T18:58:37.912271Z",
     "iopub.status.idle": "2025-08-19T18:58:37.918959Z",
     "shell.execute_reply": "2025-08-19T18:58:37.918215Z"
    },
    "papermill": {
     "duration": 0.029589,
     "end_time": "2025-08-19T18:58:37.923436",
     "exception": false,
     "start_time": "2025-08-19T18:58:37.893847",
     "status": "completed"
    },
    "tags": []
   },
   "outputs": [],
   "source": [
    "#siab_calib.shape"
   ]
  },
  {
   "cell_type": "code",
   "execution_count": 16,
   "id": "f66b54ca",
   "metadata": {
    "execution": {
     "iopub.execute_input": "2025-08-19T18:58:37.960071Z",
     "iopub.status.busy": "2025-08-19T18:58:37.958693Z",
     "iopub.status.idle": "2025-08-19T18:58:37.965887Z",
     "shell.execute_reply": "2025-08-19T18:58:37.964655Z"
    },
    "papermill": {
     "duration": 0.022194,
     "end_time": "2025-08-19T18:58:37.967283",
     "exception": false,
     "start_time": "2025-08-19T18:58:37.945089",
     "status": "completed"
    },
    "tags": []
   },
   "outputs": [],
   "source": [
    "#siab_test.shape"
   ]
  },
  {
   "cell_type": "code",
   "execution_count": 17,
   "id": "27e4384d",
   "metadata": {
    "execution": {
     "iopub.execute_input": "2025-08-19T18:58:37.992865Z",
     "iopub.status.busy": "2025-08-19T18:58:37.991421Z",
     "iopub.status.idle": "2025-08-19T18:58:38.003962Z",
     "shell.execute_reply": "2025-08-19T18:58:38.002409Z"
    },
    "papermill": {
     "duration": 0.026286,
     "end_time": "2025-08-19T18:58:38.005903",
     "exception": false,
     "start_time": "2025-08-19T18:58:37.979617",
     "status": "completed"
    },
    "tags": []
   },
   "outputs": [],
   "source": [
    "X_train = siab_train.iloc[:,4:164]\n",
    "y_train = siab_train.iloc[:, [3]]"
   ]
  },
  {
   "cell_type": "code",
   "execution_count": 18,
   "id": "08ee8389",
   "metadata": {
    "execution": {
     "iopub.execute_input": "2025-08-19T18:58:38.032628Z",
     "iopub.status.busy": "2025-08-19T18:58:38.031549Z",
     "iopub.status.idle": "2025-08-19T18:58:38.104746Z",
     "shell.execute_reply": "2025-08-19T18:58:38.103208Z"
    },
    "papermill": {
     "duration": 0.089009,
     "end_time": "2025-08-19T18:58:38.108348",
     "exception": false,
     "start_time": "2025-08-19T18:58:38.019339",
     "status": "completed"
    },
    "tags": []
   },
   "outputs": [],
   "source": [
    "X_calib = siab_calib.iloc[:,4:164]\n",
    "y_calib = siab_calib.iloc[:, [3]]"
   ]
  },
  {
   "cell_type": "code",
   "execution_count": 19,
   "id": "b7ff42e0",
   "metadata": {
    "execution": {
     "iopub.execute_input": "2025-08-19T18:58:38.142676Z",
     "iopub.status.busy": "2025-08-19T18:58:38.141618Z",
     "iopub.status.idle": "2025-08-19T18:58:38.263911Z",
     "shell.execute_reply": "2025-08-19T18:58:38.263142Z"
    },
    "papermill": {
     "duration": 0.138128,
     "end_time": "2025-08-19T18:58:38.267111",
     "exception": false,
     "start_time": "2025-08-19T18:58:38.128983",
     "status": "completed"
    },
    "tags": []
   },
   "outputs": [],
   "source": [
    "X_test = siab_test.iloc[:,4:164]\n",
    "y_true = siab_test.iloc[:, [3]]"
   ]
  },
  {
   "cell_type": "code",
   "execution_count": 20,
   "id": "0275101e",
   "metadata": {
    "execution": {
     "iopub.execute_input": "2025-08-19T18:58:38.310542Z",
     "iopub.status.busy": "2025-08-19T18:58:38.309079Z",
     "iopub.status.idle": "2025-08-19T18:58:38.430477Z",
     "shell.execute_reply": "2025-08-19T18:58:38.429801Z"
    },
    "papermill": {
     "duration": 0.137525,
     "end_time": "2025-08-19T18:58:38.432208",
     "exception": false,
     "start_time": "2025-08-19T18:58:38.294683",
     "status": "completed"
    },
    "tags": []
   },
   "outputs": [],
   "source": [
    "# Auxiliary data needed downstream in the pipeline\n",
    "\n",
    "org_train = X_train.copy()\n",
    "org_test = X_test.copy()\n",
    "org_calib = X_calib.copy()"
   ]
  },
  {
   "cell_type": "markdown",
   "id": "b461e618",
   "metadata": {
    "papermill": {
     "duration": 0.011358,
     "end_time": "2025-08-19T18:58:38.460305",
     "exception": false,
     "start_time": "2025-08-19T18:58:38.448947",
     "status": "completed"
    },
    "tags": []
   },
   "source": [
    "# Preprocessing Data"
   ]
  },
  {
   "cell_type": "code",
   "execution_count": 21,
   "id": "78e74c4b",
   "metadata": {
    "execution": {
     "iopub.execute_input": "2025-08-19T18:58:38.483287Z",
     "iopub.status.busy": "2025-08-19T18:58:38.482350Z",
     "iopub.status.idle": "2025-08-19T18:58:38.489519Z",
     "shell.execute_reply": "2025-08-19T18:58:38.488404Z"
    },
    "papermill": {
     "duration": 0.020238,
     "end_time": "2025-08-19T18:58:38.490882",
     "exception": false,
     "start_time": "2025-08-19T18:58:38.470644",
     "status": "completed"
    },
    "tags": []
   },
   "outputs": [],
   "source": [
    "# EXCLUDE PROTECTED FEATURES\n",
    "# --------------------------\n",
    "\n",
    "excluded_features = universe[\"exclude_features\"].split(\"-\")\n",
    "excluded_features_dictionary = {\n",
    "    \"nationality\": [\"maxdeutsch1\", \"maxdeutsch.Missing.\"],\n",
    "    \"sex\": [\"frau1\"],\n",
    "    \"age\": [\"age\"],\n",
    "}"
   ]
  },
  {
   "cell_type": "code",
   "execution_count": 22,
   "id": "f8e63555",
   "metadata": {
    "execution": {
     "iopub.execute_input": "2025-08-19T18:58:38.518306Z",
     "iopub.status.busy": "2025-08-19T18:58:38.516990Z",
     "iopub.status.idle": "2025-08-19T18:58:38.528023Z",
     "shell.execute_reply": "2025-08-19T18:58:38.526828Z"
    },
    "papermill": {
     "duration": 0.025826,
     "end_time": "2025-08-19T18:58:38.529683",
     "exception": false,
     "start_time": "2025-08-19T18:58:38.503857",
     "status": "completed"
    },
    "tags": []
   },
   "outputs": [],
   "source": [
    "excluded_features_columns = [\n",
    "    excluded_features_dictionary[f] for f in excluded_features if len(f) > 0 and f != \"none\"\n",
    "]"
   ]
  },
  {
   "cell_type": "code",
   "execution_count": 23,
   "id": "da781f7c",
   "metadata": {
    "execution": {
     "iopub.execute_input": "2025-08-19T18:58:38.558629Z",
     "iopub.status.busy": "2025-08-19T18:58:38.557357Z",
     "iopub.status.idle": "2025-08-19T18:58:38.565169Z",
     "shell.execute_reply": "2025-08-19T18:58:38.563833Z"
    },
    "papermill": {
     "duration": 0.02259,
     "end_time": "2025-08-19T18:58:38.566720",
     "exception": false,
     "start_time": "2025-08-19T18:58:38.544130",
     "status": "completed"
    },
    "tags": []
   },
   "outputs": [],
   "source": [
    "from fairness_multiverse.universe import flatten_once\n",
    "\n",
    "excluded_features_columns = flatten_once(excluded_features_columns)"
   ]
  },
  {
   "cell_type": "code",
   "execution_count": 24,
   "id": "37fef0f0",
   "metadata": {
    "execution": {
     "iopub.execute_input": "2025-08-19T18:58:38.593126Z",
     "iopub.status.busy": "2025-08-19T18:58:38.592065Z",
     "iopub.status.idle": "2025-08-19T18:58:38.642623Z",
     "shell.execute_reply": "2025-08-19T18:58:38.641349Z"
    },
    "papermill": {
     "duration": 0.065927,
     "end_time": "2025-08-19T18:58:38.645611",
     "exception": false,
     "start_time": "2025-08-19T18:58:38.579684",
     "status": "completed"
    },
    "tags": []
   },
   "outputs": [
    {
     "name": "stdout",
     "output_type": "stream",
     "text": [
      "Dropping features: ['frau1']\n"
     ]
    }
   ],
   "source": [
    "if len(excluded_features_columns) > 0:\n",
    "    print(f\"Dropping features: {excluded_features_columns}\")\n",
    "    X_train.drop(excluded_features_columns, axis=1, inplace=True)"
   ]
  },
  {
   "cell_type": "code",
   "execution_count": 25,
   "id": "d029e3e9",
   "metadata": {
    "execution": {
     "iopub.execute_input": "2025-08-19T18:58:38.687746Z",
     "iopub.status.busy": "2025-08-19T18:58:38.686543Z",
     "iopub.status.idle": "2025-08-19T18:58:38.775086Z",
     "shell.execute_reply": "2025-08-19T18:58:38.774477Z"
    },
    "papermill": {
     "duration": 0.107637,
     "end_time": "2025-08-19T18:58:38.779340",
     "exception": false,
     "start_time": "2025-08-19T18:58:38.671703",
     "status": "completed"
    },
    "tags": []
   },
   "outputs": [
    {
     "name": "stdout",
     "output_type": "stream",
     "text": [
      "Dropping features: ['frau1']\n"
     ]
    }
   ],
   "source": [
    "if len(excluded_features_columns) > 0:\n",
    "    print(f\"Dropping features: {excluded_features_columns}\")\n",
    "    X_test.drop(excluded_features_columns, axis=1, inplace=True)"
   ]
  },
  {
   "cell_type": "code",
   "execution_count": 26,
   "id": "01d571f0",
   "metadata": {
    "execution": {
     "iopub.execute_input": "2025-08-19T18:58:38.817401Z",
     "iopub.status.busy": "2025-08-19T18:58:38.815670Z",
     "iopub.status.idle": "2025-08-19T18:58:38.893365Z",
     "shell.execute_reply": "2025-08-19T18:58:38.892547Z"
    },
    "papermill": {
     "duration": 0.094083,
     "end_time": "2025-08-19T18:58:38.895959",
     "exception": false,
     "start_time": "2025-08-19T18:58:38.801876",
     "status": "completed"
    },
    "tags": []
   },
   "outputs": [
    {
     "name": "stdout",
     "output_type": "stream",
     "text": [
      "Dropping features: ['frau1']\n"
     ]
    }
   ],
   "source": [
    "if len(excluded_features_columns) > 0:\n",
    "    print(f\"Dropping features: {excluded_features_columns}\")\n",
    "    X_calib.drop(excluded_features_columns, axis=1, inplace=True)"
   ]
  },
  {
   "cell_type": "code",
   "execution_count": 27,
   "id": "3037356e",
   "metadata": {
    "execution": {
     "iopub.execute_input": "2025-08-19T18:58:38.938714Z",
     "iopub.status.busy": "2025-08-19T18:58:38.938148Z",
     "iopub.status.idle": "2025-08-19T18:58:38.942832Z",
     "shell.execute_reply": "2025-08-19T18:58:38.942243Z"
    },
    "papermill": {
     "duration": 0.027254,
     "end_time": "2025-08-19T18:58:38.947004",
     "exception": false,
     "start_time": "2025-08-19T18:58:38.919750",
     "status": "completed"
    },
    "tags": []
   },
   "outputs": [],
   "source": [
    "# EXCLUDE CERTAIN SUBGROUPS\n",
    "# -------------------------\n",
    "\n",
    "mode = universe.get(\"exclude_subgroups\", \"keep-all\") # Defaults to \"keep-all\" if the key is missing."
   ]
  },
  {
   "cell_type": "code",
   "execution_count": 28,
   "id": "9d1e63fd",
   "metadata": {
    "execution": {
     "iopub.execute_input": "2025-08-19T18:58:38.985344Z",
     "iopub.status.busy": "2025-08-19T18:58:38.984685Z",
     "iopub.status.idle": "2025-08-19T18:58:38.993253Z",
     "shell.execute_reply": "2025-08-19T18:58:38.992034Z"
    },
    "papermill": {
     "duration": 0.033025,
     "end_time": "2025-08-19T18:58:38.994646",
     "exception": false,
     "start_time": "2025-08-19T18:58:38.961621",
     "status": "completed"
    },
    "tags": []
   },
   "outputs": [],
   "source": [
    "if mode == \"keep-all\":\n",
    "    keep_mask = pd.Series(True, index=org_train.index)\n",
    "\n",
    "elif mode == \"drop-non-german\":\n",
    "    keep_mask = (org_train[\"maxdeutsch1\"] == 1) & (org_train[\"maxdeutsch.Missing.\"] == 0)\n",
    "\n",
    "else:\n",
    "    raise ValueError(f\"Unsupported mode for exclude_subgroups: {mode}\")"
   ]
  },
  {
   "cell_type": "code",
   "execution_count": 29,
   "id": "d3b65474",
   "metadata": {
    "execution": {
     "iopub.execute_input": "2025-08-19T18:58:39.052065Z",
     "iopub.status.busy": "2025-08-19T18:58:39.051446Z",
     "iopub.status.idle": "2025-08-19T18:58:39.058064Z",
     "shell.execute_reply": "2025-08-19T18:58:39.057421Z"
    },
    "papermill": {
     "duration": 0.032377,
     "end_time": "2025-08-19T18:58:39.059515",
     "exception": false,
     "start_time": "2025-08-19T18:58:39.027138",
     "status": "completed"
    },
    "tags": []
   },
   "outputs": [],
   "source": [
    "n_drop = (~keep_mask).sum() # Calculates how many rows are set to be dropped\n",
    "if n_drop > 0:\n",
    "    pct = n_drop / len(keep_mask) * 100\n",
    "    print(f\"Dropping {n_drop} rows ({pct:.2f}%) where mode='{mode}'\")"
   ]
  },
  {
   "cell_type": "code",
   "execution_count": 30,
   "id": "f44389b3",
   "metadata": {
    "execution": {
     "iopub.execute_input": "2025-08-19T18:58:39.083197Z",
     "iopub.status.busy": "2025-08-19T18:58:39.082725Z",
     "iopub.status.idle": "2025-08-19T18:58:39.090957Z",
     "shell.execute_reply": "2025-08-19T18:58:39.090307Z"
    },
    "papermill": {
     "duration": 0.023416,
     "end_time": "2025-08-19T18:58:39.093992",
     "exception": false,
     "start_time": "2025-08-19T18:58:39.070576",
     "status": "completed"
    },
    "tags": []
   },
   "outputs": [],
   "source": [
    "X_train = X_train[keep_mask]"
   ]
  },
  {
   "cell_type": "code",
   "execution_count": 31,
   "id": "ceca8c2a",
   "metadata": {
    "execution": {
     "iopub.execute_input": "2025-08-19T18:58:39.118051Z",
     "iopub.status.busy": "2025-08-19T18:58:39.117576Z",
     "iopub.status.idle": "2025-08-19T18:58:39.122742Z",
     "shell.execute_reply": "2025-08-19T18:58:39.122088Z"
    },
    "papermill": {
     "duration": 0.018622,
     "end_time": "2025-08-19T18:58:39.124164",
     "exception": false,
     "start_time": "2025-08-19T18:58:39.105542",
     "status": "completed"
    },
    "tags": []
   },
   "outputs": [],
   "source": [
    "y_train = y_train[keep_mask]"
   ]
  },
  {
   "cell_type": "markdown",
   "id": "04d31e2f",
   "metadata": {
    "papermill": {
     "duration": 0.010633,
     "end_time": "2025-08-19T18:58:39.145819",
     "exception": false,
     "start_time": "2025-08-19T18:58:39.135186",
     "status": "completed"
    },
    "tags": []
   },
   "source": [
    "# Model Training"
   ]
  },
  {
   "cell_type": "code",
   "execution_count": 32,
   "id": "db991733",
   "metadata": {
    "execution": {
     "iopub.execute_input": "2025-08-19T18:58:39.168386Z",
     "iopub.status.busy": "2025-08-19T18:58:39.167927Z",
     "iopub.status.idle": "2025-08-19T18:58:39.260238Z",
     "shell.execute_reply": "2025-08-19T18:58:39.259497Z"
    },
    "papermill": {
     "duration": 0.105724,
     "end_time": "2025-08-19T18:58:39.262066",
     "exception": false,
     "start_time": "2025-08-19T18:58:39.156342",
     "status": "completed"
    },
    "tags": []
   },
   "outputs": [],
   "source": [
    "from sklearn.linear_model import LogisticRegression\n",
    "from sklearn.ensemble import GradientBoostingClassifier, RandomForestClassifier\n",
    "\n",
    "if (universe[\"model\"] == \"logreg\"):\n",
    "    model = LogisticRegression() #penalty=\"none\", solver=\"newton-cg\", max_iter=1)\n",
    "elif (universe[\"model\"] == \"penalized_logreg\"):\n",
    "    model = LogisticRegression(penalty=\"l2\", C=0.1) #, solver=\"newton-cg\", max_iter=1)\n",
    "elif (universe[\"model\"] == \"rf\"):\n",
    "    model = RandomForestClassifier() # n_estimators=100, n_jobs=-1\n",
    "elif (universe[\"model\"] == \"gbm\"):\n",
    "    model = GradientBoostingClassifier()\n",
    "elif (universe[\"model\"] == \"elasticnet\"):\n",
    "    model = LogisticRegression(penalty = 'elasticnet', solver = 'saga', l1_ratio = 0.5) # max_iter=5000\n",
    "else:\n",
    "    raise \"Unsupported universe.model\""
   ]
  },
  {
   "cell_type": "code",
   "execution_count": 33,
   "id": "a4b5cd25",
   "metadata": {
    "execution": {
     "iopub.execute_input": "2025-08-19T18:58:39.286596Z",
     "iopub.status.busy": "2025-08-19T18:58:39.285515Z",
     "iopub.status.idle": "2025-08-19T18:58:39.291583Z",
     "shell.execute_reply": "2025-08-19T18:58:39.290870Z"
    },
    "papermill": {
     "duration": 0.019365,
     "end_time": "2025-08-19T18:58:39.292743",
     "exception": false,
     "start_time": "2025-08-19T18:58:39.273378",
     "status": "completed"
    },
    "tags": []
   },
   "outputs": [],
   "source": [
    "from sklearn.pipeline import Pipeline\n",
    "from sklearn.preprocessing import StandardScaler\n",
    "\n",
    "model = Pipeline([\n",
    "    #(\"continuous_processor\", continuous_processor),\n",
    "    #(\"categorical_preprocessor\", categorical_preprocessor),\n",
    "    (\"scale\", StandardScaler() if universe[\"scale\"] == \"scale\" else None), \n",
    "    (\"model\", model),\n",
    "])"
   ]
  },
  {
   "cell_type": "code",
   "execution_count": 34,
   "id": "283a904d",
   "metadata": {
    "execution": {
     "iopub.execute_input": "2025-08-19T18:58:39.316498Z",
     "iopub.status.busy": "2025-08-19T18:58:39.315572Z",
     "iopub.status.idle": "2025-08-19T18:58:39.644757Z",
     "shell.execute_reply": "2025-08-19T18:58:39.643984Z"
    },
    "papermill": {
     "duration": 0.342313,
     "end_time": "2025-08-19T18:58:39.646024",
     "exception": false,
     "start_time": "2025-08-19T18:58:39.303711",
     "status": "completed"
    },
    "tags": []
   },
   "outputs": [
    {
     "data": {
      "text/html": [
       "<style>#sk-container-id-1 {color: black;background-color: white;}#sk-container-id-1 pre{padding: 0;}#sk-container-id-1 div.sk-toggleable {background-color: white;}#sk-container-id-1 label.sk-toggleable__label {cursor: pointer;display: block;width: 100%;margin-bottom: 0;padding: 0.3em;box-sizing: border-box;text-align: center;}#sk-container-id-1 label.sk-toggleable__label-arrow:before {content: \"▸\";float: left;margin-right: 0.25em;color: #696969;}#sk-container-id-1 label.sk-toggleable__label-arrow:hover:before {color: black;}#sk-container-id-1 div.sk-estimator:hover label.sk-toggleable__label-arrow:before {color: black;}#sk-container-id-1 div.sk-toggleable__content {max-height: 0;max-width: 0;overflow: hidden;text-align: left;background-color: #f0f8ff;}#sk-container-id-1 div.sk-toggleable__content pre {margin: 0.2em;color: black;border-radius: 0.25em;background-color: #f0f8ff;}#sk-container-id-1 input.sk-toggleable__control:checked~div.sk-toggleable__content {max-height: 200px;max-width: 100%;overflow: auto;}#sk-container-id-1 input.sk-toggleable__control:checked~label.sk-toggleable__label-arrow:before {content: \"▾\";}#sk-container-id-1 div.sk-estimator input.sk-toggleable__control:checked~label.sk-toggleable__label {background-color: #d4ebff;}#sk-container-id-1 div.sk-label input.sk-toggleable__control:checked~label.sk-toggleable__label {background-color: #d4ebff;}#sk-container-id-1 input.sk-hidden--visually {border: 0;clip: rect(1px 1px 1px 1px);clip: rect(1px, 1px, 1px, 1px);height: 1px;margin: -1px;overflow: hidden;padding: 0;position: absolute;width: 1px;}#sk-container-id-1 div.sk-estimator {font-family: monospace;background-color: #f0f8ff;border: 1px dotted black;border-radius: 0.25em;box-sizing: border-box;margin-bottom: 0.5em;}#sk-container-id-1 div.sk-estimator:hover {background-color: #d4ebff;}#sk-container-id-1 div.sk-parallel-item::after {content: \"\";width: 100%;border-bottom: 1px solid gray;flex-grow: 1;}#sk-container-id-1 div.sk-label:hover label.sk-toggleable__label {background-color: #d4ebff;}#sk-container-id-1 div.sk-serial::before {content: \"\";position: absolute;border-left: 1px solid gray;box-sizing: border-box;top: 0;bottom: 0;left: 50%;z-index: 0;}#sk-container-id-1 div.sk-serial {display: flex;flex-direction: column;align-items: center;background-color: white;padding-right: 0.2em;padding-left: 0.2em;position: relative;}#sk-container-id-1 div.sk-item {position: relative;z-index: 1;}#sk-container-id-1 div.sk-parallel {display: flex;align-items: stretch;justify-content: center;background-color: white;position: relative;}#sk-container-id-1 div.sk-item::before, #sk-container-id-1 div.sk-parallel-item::before {content: \"\";position: absolute;border-left: 1px solid gray;box-sizing: border-box;top: 0;bottom: 0;left: 50%;z-index: -1;}#sk-container-id-1 div.sk-parallel-item {display: flex;flex-direction: column;z-index: 1;position: relative;background-color: white;}#sk-container-id-1 div.sk-parallel-item:first-child::after {align-self: flex-end;width: 50%;}#sk-container-id-1 div.sk-parallel-item:last-child::after {align-self: flex-start;width: 50%;}#sk-container-id-1 div.sk-parallel-item:only-child::after {width: 0;}#sk-container-id-1 div.sk-dashed-wrapped {border: 1px dashed gray;margin: 0 0.4em 0.5em 0.4em;box-sizing: border-box;padding-bottom: 0.4em;background-color: white;}#sk-container-id-1 div.sk-label label {font-family: monospace;font-weight: bold;display: inline-block;line-height: 1.2em;}#sk-container-id-1 div.sk-label-container {text-align: center;}#sk-container-id-1 div.sk-container {/* jupyter's `normalize.less` sets `[hidden] { display: none; }` but bootstrap.min.css set `[hidden] { display: none !important; }` so we also need the `!important` here to be able to override the default hidden behavior on the sphinx rendered scikit-learn.org. See: https://github.com/scikit-learn/scikit-learn/issues/21755 */display: inline-block !important;position: relative;}#sk-container-id-1 div.sk-text-repr-fallback {display: none;}</style><div id=\"sk-container-id-1\" class=\"sk-top-container\"><div class=\"sk-text-repr-fallback\"><pre>Pipeline(steps=[(&#x27;scale&#x27;, StandardScaler()),\n",
       "                (&#x27;model&#x27;, RandomForestClassifier())])</pre><b>In a Jupyter environment, please rerun this cell to show the HTML representation or trust the notebook. <br />On GitHub, the HTML representation is unable to render, please try loading this page with nbviewer.org.</b></div><div class=\"sk-container\" hidden><div class=\"sk-item sk-dashed-wrapped\"><div class=\"sk-label-container\"><div class=\"sk-label sk-toggleable\"><input class=\"sk-toggleable__control sk-hidden--visually\" id=\"sk-estimator-id-1\" type=\"checkbox\" ><label for=\"sk-estimator-id-1\" class=\"sk-toggleable__label sk-toggleable__label-arrow\">Pipeline</label><div class=\"sk-toggleable__content\"><pre>Pipeline(steps=[(&#x27;scale&#x27;, StandardScaler()),\n",
       "                (&#x27;model&#x27;, RandomForestClassifier())])</pre></div></div></div><div class=\"sk-serial\"><div class=\"sk-item\"><div class=\"sk-estimator sk-toggleable\"><input class=\"sk-toggleable__control sk-hidden--visually\" id=\"sk-estimator-id-2\" type=\"checkbox\" ><label for=\"sk-estimator-id-2\" class=\"sk-toggleable__label sk-toggleable__label-arrow\">StandardScaler</label><div class=\"sk-toggleable__content\"><pre>StandardScaler()</pre></div></div></div><div class=\"sk-item\"><div class=\"sk-estimator sk-toggleable\"><input class=\"sk-toggleable__control sk-hidden--visually\" id=\"sk-estimator-id-3\" type=\"checkbox\" ><label for=\"sk-estimator-id-3\" class=\"sk-toggleable__label sk-toggleable__label-arrow\">RandomForestClassifier</label><div class=\"sk-toggleable__content\"><pre>RandomForestClassifier()</pre></div></div></div></div></div></div></div>"
      ],
      "text/plain": [
       "Pipeline(steps=[('scale', StandardScaler()),\n",
       "                ('model', RandomForestClassifier())])"
      ]
     },
     "execution_count": 34,
     "metadata": {},
     "output_type": "execute_result"
    }
   ],
   "source": [
    "model.fit(X_train, y_train.values.ravel())"
   ]
  },
  {
   "cell_type": "code",
   "execution_count": 35,
   "id": "6e15e313",
   "metadata": {
    "execution": {
     "iopub.execute_input": "2025-08-19T18:58:39.685302Z",
     "iopub.status.busy": "2025-08-19T18:58:39.683999Z",
     "iopub.status.idle": "2025-08-19T18:58:41.167119Z",
     "shell.execute_reply": "2025-08-19T18:58:41.166118Z"
    },
    "papermill": {
     "duration": 1.503189,
     "end_time": "2025-08-19T18:58:41.168529",
     "exception": false,
     "start_time": "2025-08-19T18:58:39.665340",
     "status": "completed"
    },
    "tags": []
   },
   "outputs": [
    {
     "data": {
      "text/plain": [
       "0.8626685988184148"
      ]
     },
     "execution_count": 35,
     "metadata": {},
     "output_type": "execute_result"
    }
   ],
   "source": [
    "from fairness_multiverse.universe import predict_w_threshold\n",
    "\n",
    "probs_test = model.predict_proba(X_test)\n",
    "\n",
    "'''\n",
    "Below code returns a boolean array (or binary 0/1 array depending on how it’s used) where each element \n",
    "is True if the probability of class 1 is greater than or equal to the threshold, and False otherwise.\n",
    "'''\n",
    "y_pred_default = predict_w_threshold(probs_test, 0.5)\n",
    "\n",
    "from sklearn.metrics import accuracy_score\n",
    "\n",
    "# Naive prediction\n",
    "accuracy_score(y_true = y_true, y_pred = y_pred_default)"
   ]
  },
  {
   "cell_type": "code",
   "execution_count": 36,
   "id": "6f14067c",
   "metadata": {
    "execution": {
     "iopub.execute_input": "2025-08-19T18:58:41.211515Z",
     "iopub.status.busy": "2025-08-19T18:58:41.209937Z",
     "iopub.status.idle": "2025-08-19T18:58:42.682430Z",
     "shell.execute_reply": "2025-08-19T18:58:42.681095Z"
    },
    "papermill": {
     "duration": 1.502687,
     "end_time": "2025-08-19T18:58:42.684380",
     "exception": false,
     "start_time": "2025-08-19T18:58:41.181693",
     "status": "completed"
    },
    "tags": []
   },
   "outputs": [
    {
     "data": {
      "text/plain": [
       "array([0, 0, 0, ..., 0, 0, 0])"
      ]
     },
     "execution_count": 36,
     "metadata": {},
     "output_type": "execute_result"
    }
   ],
   "source": [
    "model.predict(X_test)"
   ]
  },
  {
   "cell_type": "markdown",
   "id": "3759920c",
   "metadata": {
    "papermill": {
     "duration": 0.026153,
     "end_time": "2025-08-19T18:58:42.735086",
     "exception": false,
     "start_time": "2025-08-19T18:58:42.708933",
     "status": "completed"
    },
    "tags": []
   },
   "source": [
    "# Conformal Prediction"
   ]
  },
  {
   "cell_type": "code",
   "execution_count": 37,
   "id": "14b27f59",
   "metadata": {
    "execution": {
     "iopub.execute_input": "2025-08-19T18:58:42.764106Z",
     "iopub.status.busy": "2025-08-19T18:58:42.761977Z",
     "iopub.status.idle": "2025-08-19T18:58:42.771902Z",
     "shell.execute_reply": "2025-08-19T18:58:42.770659Z"
    },
    "papermill": {
     "duration": 0.025542,
     "end_time": "2025-08-19T18:58:42.773630",
     "exception": false,
     "start_time": "2025-08-19T18:58:42.748088",
     "status": "completed"
    },
    "tags": []
   },
   "outputs": [],
   "source": [
    "# Miscoverage level for conformal prediction (10% allowed error rate => 90% target coverage)\n",
    "alpha = 0.1"
   ]
  },
  {
   "cell_type": "code",
   "execution_count": 38,
   "id": "59102472",
   "metadata": {
    "execution": {
     "iopub.execute_input": "2025-08-19T18:58:42.804173Z",
     "iopub.status.busy": "2025-08-19T18:58:42.802291Z",
     "iopub.status.idle": "2025-08-19T18:58:44.208366Z",
     "shell.execute_reply": "2025-08-19T18:58:44.207083Z"
    },
    "papermill": {
     "duration": 1.42246,
     "end_time": "2025-08-19T18:58:44.211467",
     "exception": false,
     "start_time": "2025-08-19T18:58:42.789007",
     "status": "completed"
    },
    "tags": []
   },
   "outputs": [],
   "source": [
    "probs_calib = model.predict_proba(X_calib)"
   ]
  },
  {
   "cell_type": "code",
   "execution_count": 39,
   "id": "a792d4dd",
   "metadata": {
    "execution": {
     "iopub.execute_input": "2025-08-19T18:58:44.260038Z",
     "iopub.status.busy": "2025-08-19T18:58:44.258610Z",
     "iopub.status.idle": "2025-08-19T18:58:44.272010Z",
     "shell.execute_reply": "2025-08-19T18:58:44.270372Z"
    },
    "papermill": {
     "duration": 0.031249,
     "end_time": "2025-08-19T18:58:44.273574",
     "exception": false,
     "start_time": "2025-08-19T18:58:44.242325",
     "status": "completed"
    },
    "tags": []
   },
   "outputs": [],
   "source": [
    "y_calib = y_calib.values.ravel().astype(int)"
   ]
  },
  {
   "cell_type": "code",
   "execution_count": 40,
   "id": "650fd033",
   "metadata": {
    "execution": {
     "iopub.execute_input": "2025-08-19T18:58:44.307268Z",
     "iopub.status.busy": "2025-08-19T18:58:44.305834Z",
     "iopub.status.idle": "2025-08-19T18:58:44.325693Z",
     "shell.execute_reply": "2025-08-19T18:58:44.324287Z"
    },
    "papermill": {
     "duration": 0.035605,
     "end_time": "2025-08-19T18:58:44.327349",
     "exception": false,
     "start_time": "2025-08-19T18:58:44.291744",
     "status": "completed"
    },
    "tags": []
   },
   "outputs": [],
   "source": [
    "from fairness_multiverse.conformal import compute_nc_scores\n",
    "\n",
    "# Compute nonconformity scores on calibration set (1 - probability of true class)\n",
    "nc_scores = compute_nc_scores(probs_calib, y_calib)"
   ]
  },
  {
   "cell_type": "code",
   "execution_count": 41,
   "id": "28ada44c",
   "metadata": {
    "execution": {
     "iopub.execute_input": "2025-08-19T18:58:44.373097Z",
     "iopub.status.busy": "2025-08-19T18:58:44.370431Z",
     "iopub.status.idle": "2025-08-19T18:58:44.386102Z",
     "shell.execute_reply": "2025-08-19T18:58:44.385071Z"
    },
    "papermill": {
     "duration": 0.043157,
     "end_time": "2025-08-19T18:58:44.388333",
     "exception": false,
     "start_time": "2025-08-19T18:58:44.345176",
     "status": "completed"
    },
    "tags": []
   },
   "outputs": [],
   "source": [
    "from fairness_multiverse.conformal import find_threshold\n",
    "\n",
    "# Find conformal threshold q_hat for the given alpha (split conformal method)\n",
    "q_hat = find_threshold(nc_scores, alpha)"
   ]
  },
  {
   "cell_type": "code",
   "execution_count": 42,
   "id": "df56469e",
   "metadata": {
    "execution": {
     "iopub.execute_input": "2025-08-19T18:58:44.426476Z",
     "iopub.status.busy": "2025-08-19T18:58:44.426000Z",
     "iopub.status.idle": "2025-08-19T18:58:44.432063Z",
     "shell.execute_reply": "2025-08-19T18:58:44.431396Z"
    },
    "papermill": {
     "duration": 0.0257,
     "end_time": "2025-08-19T18:58:44.435309",
     "exception": false,
     "start_time": "2025-08-19T18:58:44.409609",
     "status": "completed"
    },
    "tags": []
   },
   "outputs": [
    {
     "data": {
      "text/plain": [
       "0.6699999999999999"
      ]
     },
     "execution_count": 42,
     "metadata": {},
     "output_type": "execute_result"
    }
   ],
   "source": [
    "q_hat"
   ]
  },
  {
   "cell_type": "code",
   "execution_count": 43,
   "id": "aa1f5faa",
   "metadata": {
    "execution": {
     "iopub.execute_input": "2025-08-19T18:58:44.462375Z",
     "iopub.status.busy": "2025-08-19T18:58:44.461911Z",
     "iopub.status.idle": "2025-08-19T18:58:46.373458Z",
     "shell.execute_reply": "2025-08-19T18:58:46.372704Z"
    },
    "papermill": {
     "duration": 1.926845,
     "end_time": "2025-08-19T18:58:46.374994",
     "exception": false,
     "start_time": "2025-08-19T18:58:44.448149",
     "status": "completed"
    },
    "tags": []
   },
   "outputs": [],
   "source": [
    "from fairness_multiverse.conformal import predict_conformal_sets\n",
    "\n",
    "# Generate prediction sets for each test example\n",
    "pred_sets = predict_conformal_sets(model, X_test, q_hat)"
   ]
  },
  {
   "cell_type": "code",
   "execution_count": 44,
   "id": "97f67a6b",
   "metadata": {
    "execution": {
     "iopub.execute_input": "2025-08-19T18:58:46.401894Z",
     "iopub.status.busy": "2025-08-19T18:58:46.401365Z",
     "iopub.status.idle": "2025-08-19T18:58:46.406086Z",
     "shell.execute_reply": "2025-08-19T18:58:46.405426Z"
    },
    "papermill": {
     "duration": 0.03145,
     "end_time": "2025-08-19T18:58:46.419901",
     "exception": false,
     "start_time": "2025-08-19T18:58:46.388451",
     "status": "completed"
    },
    "tags": []
   },
   "outputs": [],
   "source": [
    "y_true = y_true.squeeze()"
   ]
  },
  {
   "cell_type": "code",
   "execution_count": 45,
   "id": "e700e9a7",
   "metadata": {
    "execution": {
     "iopub.execute_input": "2025-08-19T18:58:46.448351Z",
     "iopub.status.busy": "2025-08-19T18:58:46.447896Z",
     "iopub.status.idle": "2025-08-19T18:58:47.032848Z",
     "shell.execute_reply": "2025-08-19T18:58:47.031689Z"
    },
    "papermill": {
     "duration": 0.601104,
     "end_time": "2025-08-19T18:58:47.034556",
     "exception": false,
     "start_time": "2025-08-19T18:58:46.433452",
     "status": "completed"
    },
    "tags": []
   },
   "outputs": [],
   "source": [
    "from fairness_multiverse.conformal import evaluate_sets\n",
    "\n",
    "# Evaluate coverage and average set size on test data\n",
    "metrics = evaluate_sets(pred_sets, y_true)"
   ]
  },
  {
   "cell_type": "markdown",
   "id": "efbacec0",
   "metadata": {
    "papermill": {
     "duration": 0.017964,
     "end_time": "2025-08-19T18:58:47.067283",
     "exception": false,
     "start_time": "2025-08-19T18:58:47.049319",
     "status": "completed"
    },
    "tags": []
   },
   "source": [
    "# CP Metrics"
   ]
  },
  {
   "cell_type": "code",
   "execution_count": 46,
   "id": "9de55fb1",
   "metadata": {
    "execution": {
     "iopub.execute_input": "2025-08-19T18:58:47.093558Z",
     "iopub.status.busy": "2025-08-19T18:58:47.092730Z",
     "iopub.status.idle": "2025-08-19T18:58:47.099140Z",
     "shell.execute_reply": "2025-08-19T18:58:47.098443Z"
    },
    "papermill": {
     "duration": 0.021824,
     "end_time": "2025-08-19T18:58:47.101354",
     "exception": false,
     "start_time": "2025-08-19T18:58:47.079530",
     "status": "completed"
    },
    "tags": []
   },
   "outputs": [
    {
     "data": {
      "text/plain": [
       "{'coverage': 0.9161520454798796, 'avg_size': 1.1550997659123843}"
      ]
     },
     "execution_count": 46,
     "metadata": {},
     "output_type": "execute_result"
    }
   ],
   "source": [
    "metrics"
   ]
  },
  {
   "cell_type": "code",
   "execution_count": 47,
   "id": "64c340a1",
   "metadata": {
    "execution": {
     "iopub.execute_input": "2025-08-19T18:58:47.127434Z",
     "iopub.status.busy": "2025-08-19T18:58:47.126993Z",
     "iopub.status.idle": "2025-08-19T18:58:47.132018Z",
     "shell.execute_reply": "2025-08-19T18:58:47.131412Z"
    },
    "papermill": {
     "duration": 0.019221,
     "end_time": "2025-08-19T18:58:47.133426",
     "exception": false,
     "start_time": "2025-08-19T18:58:47.114205",
     "status": "completed"
    },
    "tags": []
   },
   "outputs": [],
   "source": [
    "example_universe = universe.copy()\n",
    "universe_training_year = example_universe.get(\"training_year\")\n",
    "universe_training_size = example_universe.get(\"training_size\")\n",
    "universe_scale = example_universe.get(\"scale\")\n",
    "universe_model = example_universe.get(\"model\")\n",
    "universe_exclude_features = example_universe.get(\"exclude_features\")\n",
    "universe_exclude_subgroups = example_universe.get(\"exclude_subgroups\")"
   ]
  },
  {
   "cell_type": "code",
   "execution_count": 48,
   "id": "dbb53cb4",
   "metadata": {
    "execution": {
     "iopub.execute_input": "2025-08-19T18:58:47.158054Z",
     "iopub.status.busy": "2025-08-19T18:58:47.157627Z",
     "iopub.status.idle": "2025-08-19T18:58:47.165540Z",
     "shell.execute_reply": "2025-08-19T18:58:47.164972Z"
    },
    "papermill": {
     "duration": 0.021572,
     "end_time": "2025-08-19T18:58:47.166724",
     "exception": false,
     "start_time": "2025-08-19T18:58:47.145152",
     "status": "completed"
    },
    "tags": []
   },
   "outputs": [],
   "source": [
    "cp_metrics_dict = {\n",
    "    \"universe_id\": [universe_id],\n",
    "    \"universe_training_year\": [universe_training_year],\n",
    "    \"universe_training_size\": [universe_training_size],\n",
    "    \"universe_scale\": [universe_scale],\n",
    "    \"universe_model\": [universe_model],\n",
    "    \"universe_exclude_features\": [universe_exclude_features],\n",
    "    \"universe_exclude_subgroups\": [universe_exclude_subgroups],\n",
    "    \"q_hat\": [q_hat],\n",
    "    \"coverage\": [metrics[\"coverage\"]],\n",
    "    \"avg_size\": [metrics[\"avg_size\"]],\n",
    "}"
   ]
  },
  {
   "cell_type": "code",
   "execution_count": 49,
   "id": "0d70d4b2",
   "metadata": {
    "execution": {
     "iopub.execute_input": "2025-08-19T18:58:47.191344Z",
     "iopub.status.busy": "2025-08-19T18:58:47.190917Z",
     "iopub.status.idle": "2025-08-19T18:58:47.196676Z",
     "shell.execute_reply": "2025-08-19T18:58:47.196038Z"
    },
    "papermill": {
     "duration": 0.01964,
     "end_time": "2025-08-19T18:58:47.198023",
     "exception": false,
     "start_time": "2025-08-19T18:58:47.178383",
     "status": "completed"
    },
    "tags": []
   },
   "outputs": [],
   "source": [
    "cp_metrics_df = pd.DataFrame(cp_metrics_dict)"
   ]
  },
  {
   "cell_type": "code",
   "execution_count": 50,
   "id": "b494403c",
   "metadata": {
    "execution": {
     "iopub.execute_input": "2025-08-19T18:58:47.222802Z",
     "iopub.status.busy": "2025-08-19T18:58:47.222382Z",
     "iopub.status.idle": "2025-08-19T18:58:47.236878Z",
     "shell.execute_reply": "2025-08-19T18:58:47.236157Z"
    },
    "papermill": {
     "duration": 0.028345,
     "end_time": "2025-08-19T18:58:47.238220",
     "exception": false,
     "start_time": "2025-08-19T18:58:47.209875",
     "status": "completed"
    },
    "tags": []
   },
   "outputs": [
    {
     "data": {
      "text/html": [
       "<div>\n",
       "<style scoped>\n",
       "    .dataframe tbody tr th:only-of-type {\n",
       "        vertical-align: middle;\n",
       "    }\n",
       "\n",
       "    .dataframe tbody tr th {\n",
       "        vertical-align: top;\n",
       "    }\n",
       "\n",
       "    .dataframe thead th {\n",
       "        text-align: right;\n",
       "    }\n",
       "</style>\n",
       "<table border=\"1\" class=\"dataframe\">\n",
       "  <thead>\n",
       "    <tr style=\"text-align: right;\">\n",
       "      <th></th>\n",
       "      <th>universe_id</th>\n",
       "      <th>universe_training_year</th>\n",
       "      <th>universe_training_size</th>\n",
       "      <th>universe_scale</th>\n",
       "      <th>universe_model</th>\n",
       "      <th>universe_exclude_features</th>\n",
       "      <th>universe_exclude_subgroups</th>\n",
       "      <th>q_hat</th>\n",
       "      <th>coverage</th>\n",
       "      <th>avg_size</th>\n",
       "    </tr>\n",
       "  </thead>\n",
       "  <tbody>\n",
       "    <tr>\n",
       "      <th>0</th>\n",
       "      <td>2749fe78efb98cab0491f2294c38b8d2</td>\n",
       "      <td>2012_14</td>\n",
       "      <td>1k</td>\n",
       "      <td>scale</td>\n",
       "      <td>rf</td>\n",
       "      <td>sex</td>\n",
       "      <td>keep-all</td>\n",
       "      <td>0.67</td>\n",
       "      <td>0.916152</td>\n",
       "      <td>1.1551</td>\n",
       "    </tr>\n",
       "  </tbody>\n",
       "</table>\n",
       "</div>"
      ],
      "text/plain": [
       "                        universe_id universe_training_year  \\\n",
       "0  2749fe78efb98cab0491f2294c38b8d2                2012_14   \n",
       "\n",
       "  universe_training_size universe_scale universe_model  \\\n",
       "0                     1k          scale             rf   \n",
       "\n",
       "  universe_exclude_features universe_exclude_subgroups  q_hat  coverage  \\\n",
       "0                       sex                   keep-all   0.67  0.916152   \n",
       "\n",
       "   avg_size  \n",
       "0    1.1551  "
      ]
     },
     "execution_count": 50,
     "metadata": {},
     "output_type": "execute_result"
    }
   ],
   "source": [
    "cp_metrics_df"
   ]
  },
  {
   "cell_type": "markdown",
   "id": "ed608b0b",
   "metadata": {
    "papermill": {
     "duration": 0.01186,
     "end_time": "2025-08-19T18:58:47.263959",
     "exception": false,
     "start_time": "2025-08-19T18:58:47.252099",
     "status": "completed"
    },
    "tags": []
   },
   "source": [
    "Conditional coverage & looking at subgroups"
   ]
  },
  {
   "cell_type": "code",
   "execution_count": 51,
   "id": "8968c366",
   "metadata": {
    "execution": {
     "iopub.execute_input": "2025-08-19T18:58:47.289048Z",
     "iopub.status.busy": "2025-08-19T18:58:47.288580Z",
     "iopub.status.idle": "2025-08-19T18:58:47.532604Z",
     "shell.execute_reply": "2025-08-19T18:58:47.531887Z"
    },
    "papermill": {
     "duration": 0.25951,
     "end_time": "2025-08-19T18:58:47.535280",
     "exception": false,
     "start_time": "2025-08-19T18:58:47.275770",
     "status": "completed"
    },
    "tags": []
   },
   "outputs": [],
   "source": [
    "from fairness_multiverse.conformal import build_cp_groups\n",
    "\n",
    "cp_groups_df = build_cp_groups(pred_sets, y_true, X_test.index, org_test)"
   ]
  },
  {
   "cell_type": "code",
   "execution_count": 52,
   "id": "292ddabf",
   "metadata": {
    "execution": {
     "iopub.execute_input": "2025-08-19T18:58:47.591025Z",
     "iopub.status.busy": "2025-08-19T18:58:47.590662Z",
     "iopub.status.idle": "2025-08-19T18:58:48.428119Z",
     "shell.execute_reply": "2025-08-19T18:58:48.427310Z"
    },
    "papermill": {
     "duration": 0.864223,
     "end_time": "2025-08-19T18:58:48.429637",
     "exception": false,
     "start_time": "2025-08-19T18:58:47.565414",
     "status": "completed"
    },
    "tags": []
   },
   "outputs": [],
   "source": [
    "# Define covered = 1 if true_label is in the predicted set\n",
    "cp_groups_df['covered'] = cp_groups_df.apply(\n",
    "    lambda r: int(r['true_label'] in r['pred_set']),\n",
    "    axis=1\n",
    ")"
   ]
  },
  {
   "cell_type": "code",
   "execution_count": 53,
   "id": "3a261692",
   "metadata": {
    "execution": {
     "iopub.execute_input": "2025-08-19T18:58:48.456767Z",
     "iopub.status.busy": "2025-08-19T18:58:48.455881Z",
     "iopub.status.idle": "2025-08-19T18:58:48.472705Z",
     "shell.execute_reply": "2025-08-19T18:58:48.471647Z"
    },
    "papermill": {
     "duration": 0.032703,
     "end_time": "2025-08-19T18:58:48.475281",
     "exception": false,
     "start_time": "2025-08-19T18:58:48.442578",
     "status": "completed"
    },
    "tags": []
   },
   "outputs": [],
   "source": [
    "subgroups = ['frau1','nongerman','nongerman_male','nongerman_female']\n",
    "\n",
    "# Conditional coverage for subgroup==1\n",
    "cond_coverage = {\n",
    "    g: cp_groups_df.loc[cp_groups_df[g]==1, 'covered'].mean()\n",
    "    for g in subgroups\n",
    "}"
   ]
  },
  {
   "cell_type": "code",
   "execution_count": 54,
   "id": "894fd600",
   "metadata": {
    "execution": {
     "iopub.execute_input": "2025-08-19T18:58:48.509958Z",
     "iopub.status.busy": "2025-08-19T18:58:48.508438Z",
     "iopub.status.idle": "2025-08-19T18:58:48.520749Z",
     "shell.execute_reply": "2025-08-19T18:58:48.519065Z"
    },
    "papermill": {
     "duration": 0.028613,
     "end_time": "2025-08-19T18:58:48.522487",
     "exception": false,
     "start_time": "2025-08-19T18:58:48.493874",
     "status": "completed"
    },
    "tags": []
   },
   "outputs": [
    {
     "data": {
      "text/plain": [
       "{'frau1': 0.914786359347621,\n",
       " 'nongerman': 0.9094481558412395,\n",
       " 'nongerman_male': 0.9252454291632892,\n",
       " 'nongerman_female': 0.8833084947839046}"
      ]
     },
     "execution_count": 54,
     "metadata": {},
     "output_type": "execute_result"
    }
   ],
   "source": [
    "cond_coverage"
   ]
  },
  {
   "cell_type": "code",
   "execution_count": 55,
   "id": "942895c7",
   "metadata": {
    "execution": {
     "iopub.execute_input": "2025-08-19T18:58:48.553947Z",
     "iopub.status.busy": "2025-08-19T18:58:48.552560Z",
     "iopub.status.idle": "2025-08-19T18:58:48.564902Z",
     "shell.execute_reply": "2025-08-19T18:58:48.563447Z"
    },
    "papermill": {
     "duration": 0.027803,
     "end_time": "2025-08-19T18:58:48.566667",
     "exception": false,
     "start_time": "2025-08-19T18:58:48.538864",
     "status": "completed"
    },
    "tags": []
   },
   "outputs": [],
   "source": [
    "for subgroup, cov in cond_coverage.items():\n",
    "    cp_metrics_df[f\"cov_{subgroup}\"] = cov"
   ]
  },
  {
   "cell_type": "code",
   "execution_count": 56,
   "id": "3970120f",
   "metadata": {
    "execution": {
     "iopub.execute_input": "2025-08-19T18:58:48.603035Z",
     "iopub.status.busy": "2025-08-19T18:58:48.596182Z",
     "iopub.status.idle": "2025-08-19T18:58:48.623200Z",
     "shell.execute_reply": "2025-08-19T18:58:48.622332Z"
    },
    "papermill": {
     "duration": 0.043579,
     "end_time": "2025-08-19T18:58:48.625650",
     "exception": false,
     "start_time": "2025-08-19T18:58:48.582071",
     "status": "completed"
    },
    "tags": []
   },
   "outputs": [
    {
     "data": {
      "text/html": [
       "<div>\n",
       "<style scoped>\n",
       "    .dataframe tbody tr th:only-of-type {\n",
       "        vertical-align: middle;\n",
       "    }\n",
       "\n",
       "    .dataframe tbody tr th {\n",
       "        vertical-align: top;\n",
       "    }\n",
       "\n",
       "    .dataframe thead th {\n",
       "        text-align: right;\n",
       "    }\n",
       "</style>\n",
       "<table border=\"1\" class=\"dataframe\">\n",
       "  <thead>\n",
       "    <tr style=\"text-align: right;\">\n",
       "      <th></th>\n",
       "      <th>universe_id</th>\n",
       "      <th>universe_training_year</th>\n",
       "      <th>universe_training_size</th>\n",
       "      <th>universe_scale</th>\n",
       "      <th>universe_model</th>\n",
       "      <th>universe_exclude_features</th>\n",
       "      <th>universe_exclude_subgroups</th>\n",
       "      <th>q_hat</th>\n",
       "      <th>coverage</th>\n",
       "      <th>avg_size</th>\n",
       "      <th>cov_frau1</th>\n",
       "      <th>cov_nongerman</th>\n",
       "      <th>cov_nongerman_male</th>\n",
       "      <th>cov_nongerman_female</th>\n",
       "    </tr>\n",
       "  </thead>\n",
       "  <tbody>\n",
       "    <tr>\n",
       "      <th>0</th>\n",
       "      <td>2749fe78efb98cab0491f2294c38b8d2</td>\n",
       "      <td>2012_14</td>\n",
       "      <td>1k</td>\n",
       "      <td>scale</td>\n",
       "      <td>rf</td>\n",
       "      <td>sex</td>\n",
       "      <td>keep-all</td>\n",
       "      <td>0.67</td>\n",
       "      <td>0.916152</td>\n",
       "      <td>1.1551</td>\n",
       "      <td>0.914786</td>\n",
       "      <td>0.909448</td>\n",
       "      <td>0.925245</td>\n",
       "      <td>0.883308</td>\n",
       "    </tr>\n",
       "  </tbody>\n",
       "</table>\n",
       "</div>"
      ],
      "text/plain": [
       "                        universe_id universe_training_year  \\\n",
       "0  2749fe78efb98cab0491f2294c38b8d2                2012_14   \n",
       "\n",
       "  universe_training_size universe_scale universe_model  \\\n",
       "0                     1k          scale             rf   \n",
       "\n",
       "  universe_exclude_features universe_exclude_subgroups  q_hat  coverage  \\\n",
       "0                       sex                   keep-all   0.67  0.916152   \n",
       "\n",
       "   avg_size  cov_frau1  cov_nongerman  cov_nongerman_male  \\\n",
       "0    1.1551   0.914786       0.909448            0.925245   \n",
       "\n",
       "   cov_nongerman_female  \n",
       "0              0.883308  "
      ]
     },
     "execution_count": 56,
     "metadata": {},
     "output_type": "execute_result"
    }
   ],
   "source": [
    "cp_metrics_df"
   ]
  },
  {
   "cell_type": "markdown",
   "id": "3fc519cc",
   "metadata": {
    "papermill": {
     "duration": 0.012936,
     "end_time": "2025-08-19T18:58:48.662019",
     "exception": false,
     "start_time": "2025-08-19T18:58:48.649083",
     "status": "completed"
    },
    "tags": []
   },
   "source": [
    "# (Fairness) Metrics"
   ]
  },
  {
   "cell_type": "code",
   "execution_count": 57,
   "id": "a2e5e155",
   "metadata": {
    "execution": {
     "iopub.execute_input": "2025-08-19T18:58:48.688462Z",
     "iopub.status.busy": "2025-08-19T18:58:48.687619Z",
     "iopub.status.idle": "2025-08-19T18:58:48.718114Z",
     "shell.execute_reply": "2025-08-19T18:58:48.717466Z"
    },
    "papermill": {
     "duration": 0.046201,
     "end_time": "2025-08-19T18:58:48.720380",
     "exception": false,
     "start_time": "2025-08-19T18:58:48.674179",
     "status": "completed"
    },
    "tags": []
   },
   "outputs": [],
   "source": [
    "colname_to_bin = \"maxdeutsch1\"\n",
    "majority_value = org_train[colname_to_bin].mode()[0]\n",
    "\n",
    "org_test[\"majmin\"] = np.where(org_test[colname_to_bin] == majority_value, \"majority\", \"minority\")"
   ]
  },
  {
   "cell_type": "code",
   "execution_count": 58,
   "id": "17e3e4d5",
   "metadata": {
    "execution": {
     "iopub.execute_input": "2025-08-19T18:58:48.779028Z",
     "iopub.status.busy": "2025-08-19T18:58:48.778541Z",
     "iopub.status.idle": "2025-08-19T18:58:50.459011Z",
     "shell.execute_reply": "2025-08-19T18:58:50.457874Z"
    },
    "papermill": {
     "duration": 1.696494,
     "end_time": "2025-08-19T18:58:50.460491",
     "exception": false,
     "start_time": "2025-08-19T18:58:48.763997",
     "status": "completed"
    },
    "tags": []
   },
   "outputs": [],
   "source": [
    "example_universe = universe.copy()\n",
    "example_universe[\"cutoff\"] = example_universe[\"cutoff\"][0]\n",
    "example_universe[\"eval_fairness_grouping\"] = example_universe[\"eval_fairness_grouping\"][0]\n",
    "fairness_dict, metric_frame = universe_analysis.compute_metrics(\n",
    "    example_universe,\n",
    "    y_pred_prob=probs_test,\n",
    "    y_test=y_true,\n",
    "    org_test=org_test,\n",
    ")"
   ]
  },
  {
   "cell_type": "markdown",
   "id": "1fb7a0e9",
   "metadata": {
    "papermill": {
     "duration": 0.012799,
     "end_time": "2025-08-19T18:58:50.486556",
     "exception": false,
     "start_time": "2025-08-19T18:58:50.473757",
     "status": "completed"
    },
    "tags": []
   },
   "source": [
    "# Overall"
   ]
  },
  {
   "cell_type": "markdown",
   "id": "be1784b1",
   "metadata": {
    "papermill": {
     "duration": 0.012412,
     "end_time": "2025-08-19T18:58:50.511326",
     "exception": false,
     "start_time": "2025-08-19T18:58:50.498914",
     "status": "completed"
    },
    "tags": []
   },
   "source": [
    "Main fairness target: Equalized Odds. Seems to be a better fit than equal opportunity, since we're not only interested in Y = 1. Seems to be a better fit than demographic parity, since we also care about accuracy, not just equal distribution of preds.\n",
    "\n",
    "Pick column for computation of fairness metrics\n",
    "\n",
    "Performance\n",
    "Overall performance measures, most interesting in relation to the measures split by group below"
   ]
  },
  {
   "cell_type": "code",
   "execution_count": 59,
   "id": "b7672bee",
   "metadata": {
    "execution": {
     "iopub.execute_input": "2025-08-19T18:58:50.539596Z",
     "iopub.status.busy": "2025-08-19T18:58:50.538403Z",
     "iopub.status.idle": "2025-08-19T18:58:50.554169Z",
     "shell.execute_reply": "2025-08-19T18:58:50.552848Z"
    },
    "papermill": {
     "duration": 0.031958,
     "end_time": "2025-08-19T18:58:50.555809",
     "exception": false,
     "start_time": "2025-08-19T18:58:50.523851",
     "status": "completed"
    },
    "tags": []
   },
   "outputs": [
    {
     "data": {
      "text/plain": [
       "accuracy                   0.204225\n",
       "balanced accuracy          0.533111\n",
       "f1                         0.239256\n",
       "precision                  0.136349\n",
       "false positive rate        0.909273\n",
       "false negative rate        0.024505\n",
       "selection rate             0.917768\n",
       "count                  89710.000000\n",
       "dtype: float64"
      ]
     },
     "execution_count": 59,
     "metadata": {},
     "output_type": "execute_result"
    }
   ],
   "source": [
    "metric_frame.overall"
   ]
  },
  {
   "cell_type": "markdown",
   "id": "d93333c9",
   "metadata": {
    "papermill": {
     "duration": 0.01241,
     "end_time": "2025-08-19T18:58:50.581223",
     "exception": false,
     "start_time": "2025-08-19T18:58:50.568813",
     "status": "completed"
    },
    "tags": []
   },
   "source": [
    "By Group"
   ]
  },
  {
   "cell_type": "code",
   "execution_count": 60,
   "id": "52256966",
   "metadata": {
    "execution": {
     "iopub.execute_input": "2025-08-19T18:58:50.609202Z",
     "iopub.status.busy": "2025-08-19T18:58:50.607903Z",
     "iopub.status.idle": "2025-08-19T18:58:50.629570Z",
     "shell.execute_reply": "2025-08-19T18:58:50.628732Z"
    },
    "papermill": {
     "duration": 0.037576,
     "end_time": "2025-08-19T18:58:50.631188",
     "exception": false,
     "start_time": "2025-08-19T18:58:50.593612",
     "status": "completed"
    },
    "tags": []
   },
   "outputs": [
    {
     "data": {
      "text/html": [
       "<div>\n",
       "<style scoped>\n",
       "    .dataframe tbody tr th:only-of-type {\n",
       "        vertical-align: middle;\n",
       "    }\n",
       "\n",
       "    .dataframe tbody tr th {\n",
       "        vertical-align: top;\n",
       "    }\n",
       "\n",
       "    .dataframe thead th {\n",
       "        text-align: right;\n",
       "    }\n",
       "</style>\n",
       "<table border=\"1\" class=\"dataframe\">\n",
       "  <thead>\n",
       "    <tr style=\"text-align: right;\">\n",
       "      <th></th>\n",
       "      <th>accuracy</th>\n",
       "      <th>balanced accuracy</th>\n",
       "      <th>f1</th>\n",
       "      <th>precision</th>\n",
       "      <th>false positive rate</th>\n",
       "      <th>false negative rate</th>\n",
       "      <th>selection rate</th>\n",
       "      <th>count</th>\n",
       "    </tr>\n",
       "    <tr>\n",
       "      <th>majmin</th>\n",
       "      <th></th>\n",
       "      <th></th>\n",
       "      <th></th>\n",
       "      <th></th>\n",
       "      <th></th>\n",
       "      <th></th>\n",
       "      <th></th>\n",
       "      <th></th>\n",
       "    </tr>\n",
       "  </thead>\n",
       "  <tbody>\n",
       "    <tr>\n",
       "      <th>majority</th>\n",
       "      <td>0.209975</td>\n",
       "      <td>0.538815</td>\n",
       "      <td>0.247984</td>\n",
       "      <td>0.141832</td>\n",
       "      <td>0.908146</td>\n",
       "      <td>0.014223</td>\n",
       "      <td>0.918404</td>\n",
       "      <td>69170.0</td>\n",
       "    </tr>\n",
       "    <tr>\n",
       "      <th>minority</th>\n",
       "      <td>0.184859</td>\n",
       "      <td>0.511406</td>\n",
       "      <td>0.209303</td>\n",
       "      <td>0.117828</td>\n",
       "      <td>0.912998</td>\n",
       "      <td>0.064189</td>\n",
       "      <td>0.915628</td>\n",
       "      <td>20540.0</td>\n",
       "    </tr>\n",
       "  </tbody>\n",
       "</table>\n",
       "</div>"
      ],
      "text/plain": [
       "          accuracy  balanced accuracy        f1  precision  \\\n",
       "majmin                                                       \n",
       "majority  0.209975           0.538815  0.247984   0.141832   \n",
       "minority  0.184859           0.511406  0.209303   0.117828   \n",
       "\n",
       "          false positive rate  false negative rate  selection rate    count  \n",
       "majmin                                                                       \n",
       "majority             0.908146             0.014223        0.918404  69170.0  \n",
       "minority             0.912998             0.064189        0.915628  20540.0  "
      ]
     },
     "execution_count": 60,
     "metadata": {},
     "output_type": "execute_result"
    }
   ],
   "source": [
    "metric_frame.by_group"
   ]
  },
  {
   "cell_type": "code",
   "execution_count": 61,
   "id": "6e6c20ae",
   "metadata": {
    "execution": {
     "iopub.execute_input": "2025-08-19T18:58:50.667604Z",
     "iopub.status.busy": "2025-08-19T18:58:50.666040Z",
     "iopub.status.idle": "2025-08-19T18:58:52.431787Z",
     "shell.execute_reply": "2025-08-19T18:58:52.430963Z"
    },
    "papermill": {
     "duration": 1.782315,
     "end_time": "2025-08-19T18:58:52.433336",
     "exception": false,
     "start_time": "2025-08-19T18:58:50.651021",
     "status": "completed"
    },
    "tags": []
   },
   "outputs": [
    {
     "data": {
      "text/plain": [
       "array([[<Axes: title={'center': 'accuracy'}, xlabel='majmin'>,\n",
       "        <Axes: title={'center': 'balanced accuracy'}, xlabel='majmin'>,\n",
       "        <Axes: title={'center': 'f1'}, xlabel='majmin'>],\n",
       "       [<Axes: title={'center': 'precision'}, xlabel='majmin'>,\n",
       "        <Axes: title={'center': 'false positive rate'}, xlabel='majmin'>,\n",
       "        <Axes: title={'center': 'false negative rate'}, xlabel='majmin'>],\n",
       "       [<Axes: title={'center': 'selection rate'}, xlabel='majmin'>,\n",
       "        <Axes: title={'center': 'count'}, xlabel='majmin'>,\n",
       "        <Axes: xlabel='majmin'>]], dtype=object)"
      ]
     },
     "execution_count": 61,
     "metadata": {},
     "output_type": "execute_result"
    },
    {
     "data": {
      "image/png": "[encoded data removed]",
      "text/plain": [
       "<Figure size 1200x800 with 9 Axes>"
      ]
     },
     "metadata": {},
     "output_type": "display_data"
    }
   ],
   "source": [
    "# In a graphic\n",
    "metric_frame.by_group.plot.bar(\n",
    "    subplots=True,\n",
    "    layout=[3, 3],\n",
    "    legend=False,\n",
    "    figsize=[12, 8],\n",
    "    title=\"Show all metrics\",\n",
    ")"
   ]
  },
  {
   "cell_type": "markdown",
   "id": "b2e433ae",
   "metadata": {
    "papermill": {
     "duration": 0.014185,
     "end_time": "2025-08-19T18:58:52.480586",
     "exception": false,
     "start_time": "2025-08-19T18:58:52.466401",
     "status": "completed"
    },
    "tags": []
   },
   "source": [
    "# Final Output"
   ]
  },
  {
   "cell_type": "code",
   "execution_count": 62,
   "id": "3871301e",
   "metadata": {
    "execution": {
     "iopub.execute_input": "2025-08-19T18:58:52.510435Z",
     "iopub.status.busy": "2025-08-19T18:58:52.509586Z",
     "iopub.status.idle": "2025-08-19T18:58:52.517709Z",
     "shell.execute_reply": "2025-08-19T18:58:52.516928Z"
    },
    "papermill": {
     "duration": 0.024625,
     "end_time": "2025-08-19T18:58:52.519025",
     "exception": false,
     "start_time": "2025-08-19T18:58:52.494400",
     "status": "completed"
    },
    "tags": []
   },
   "outputs": [
    {
     "data": {
      "text/plain": [
       "4"
      ]
     },
     "execution_count": 62,
     "metadata": {},
     "output_type": "execute_result"
    }
   ],
   "source": [
    "sub_universes = universe_analysis.generate_sub_universes()\n",
    "len(sub_universes)"
   ]
  },
  {
   "cell_type": "code",
   "execution_count": 63,
   "id": "d9cfdaca",
   "metadata": {
    "execution": {
     "iopub.execute_input": "2025-08-19T18:58:52.549990Z",
     "iopub.status.busy": "2025-08-19T18:58:52.549566Z",
     "iopub.status.idle": "2025-08-19T18:58:52.564928Z",
     "shell.execute_reply": "2025-08-19T18:58:52.564157Z"
    },
    "papermill": {
     "duration": 0.031774,
     "end_time": "2025-08-19T18:58:52.566387",
     "exception": false,
     "start_time": "2025-08-19T18:58:52.534613",
     "status": "completed"
    },
    "tags": []
   },
   "outputs": [],
   "source": [
    "def filter_sub_universe_data(sub_universe, org_test):\n",
    "    # Keep all rows — no filtering\n",
    "    keep_rows_mask = np.ones(org_test.shape[0], dtype=bool)\n",
    "\n",
    "    print(f\"[INFO] Keeping all rows: {keep_rows_mask.sum()} rows retained.\")\n",
    "    return keep_rows_mask"
   ]
  },
  {
   "cell_type": "code",
   "execution_count": 64,
   "id": "2bc31ac1",
   "metadata": {
    "execution": {
     "iopub.execute_input": "2025-08-19T18:58:52.602918Z",
     "iopub.status.busy": "2025-08-19T18:58:52.602473Z",
     "iopub.status.idle": "2025-08-19T18:58:59.195660Z",
     "shell.execute_reply": "2025-08-19T18:58:59.194569Z"
    },
    "papermill": {
     "duration": 6.612191,
     "end_time": "2025-08-19T18:58:59.199655",
     "exception": false,
     "start_time": "2025-08-19T18:58:52.587464",
     "status": "completed"
    },
    "tags": []
   },
   "outputs": [
    {
     "name": "stdout",
     "output_type": "stream",
     "text": [
      "Stopping execution_time clock.\n",
      "[INFO] Keeping all rows: 89710 rows retained.\n"
     ]
    },
    {
     "name": "stdout",
     "output_type": "stream",
     "text": [
      "[INFO] Keeping all rows: 89710 rows retained.\n"
     ]
    },
    {
     "name": "stdout",
     "output_type": "stream",
     "text": [
      "[INFO] Keeping all rows: 89710 rows retained.\n"
     ]
    },
    {
     "name": "stdout",
     "output_type": "stream",
     "text": [
      "[INFO] Keeping all rows: 89710 rows retained.\n"
     ]
    },
    {
     "data": {
      "text/html": [
       "<div>\n",
       "<style scoped>\n",
       "    .dataframe tbody tr th:only-of-type {\n",
       "        vertical-align: middle;\n",
       "    }\n",
       "\n",
       "    .dataframe tbody tr th {\n",
       "        vertical-align: top;\n",
       "    }\n",
       "\n",
       "    .dataframe thead th {\n",
       "        text-align: right;\n",
       "    }\n",
       "</style>\n",
       "<table border=\"1\" class=\"dataframe\">\n",
       "  <thead>\n",
       "    <tr style=\"text-align: right;\">\n",
       "      <th></th>\n",
       "      <th>run_no</th>\n",
       "      <th>universe_id</th>\n",
       "      <th>universe_settings</th>\n",
       "      <th>execution_time</th>\n",
       "      <th>test_size_n</th>\n",
       "      <th>test_size_frac</th>\n",
       "      <th>fair_main_equalized_odds_difference</th>\n",
       "      <th>fair_main_equalized_odds_ratio</th>\n",
       "      <th>fair_main_demographic_parity_difference</th>\n",
       "      <th>fair_main_demographic_parity_ratio</th>\n",
       "      <th>...</th>\n",
       "      <th>perf_grp_precision_0</th>\n",
       "      <th>perf_grp_precision_1</th>\n",
       "      <th>perf_grp_false positive rate_0</th>\n",
       "      <th>perf_grp_false positive rate_1</th>\n",
       "      <th>perf_grp_false negative rate_0</th>\n",
       "      <th>perf_grp_false negative rate_1</th>\n",
       "      <th>perf_grp_selection rate_0</th>\n",
       "      <th>perf_grp_selection rate_1</th>\n",
       "      <th>perf_grp_count_0</th>\n",
       "      <th>perf_grp_count_1</th>\n",
       "    </tr>\n",
       "  </thead>\n",
       "  <tbody>\n",
       "    <tr>\n",
       "      <th>0</th>\n",
       "      <td>3</td>\n",
       "      <td>2749fe78efb98cab0491f2294c38b8d2</td>\n",
       "      <td>{\"cutoff\": \"quantile_0.1\", \"eval_fairness_grou...</td>\n",
       "      <td>26.465159</td>\n",
       "      <td>89710</td>\n",
       "      <td>1.0</td>\n",
       "      <td>0.049966</td>\n",
       "      <td>0.949313</td>\n",
       "      <td>0.002776</td>\n",
       "      <td>0.996977</td>\n",
       "      <td>...</td>\n",
       "      <td>NaN</td>\n",
       "      <td>NaN</td>\n",
       "      <td>NaN</td>\n",
       "      <td>NaN</td>\n",
       "      <td>NaN</td>\n",
       "      <td>NaN</td>\n",
       "      <td>NaN</td>\n",
       "      <td>NaN</td>\n",
       "      <td>NaN</td>\n",
       "      <td>NaN</td>\n",
       "    </tr>\n",
       "    <tr>\n",
       "      <th>0</th>\n",
       "      <td>3</td>\n",
       "      <td>2749fe78efb98cab0491f2294c38b8d2</td>\n",
       "      <td>{\"cutoff\": \"quantile_0.1\", \"eval_fairness_grou...</td>\n",
       "      <td>26.465159</td>\n",
       "      <td>89710</td>\n",
       "      <td>1.0</td>\n",
       "      <td>0.049966</td>\n",
       "      <td>0.949313</td>\n",
       "      <td>0.002776</td>\n",
       "      <td>0.996977</td>\n",
       "      <td>...</td>\n",
       "      <td>0.117828</td>\n",
       "      <td>0.141832</td>\n",
       "      <td>0.912998</td>\n",
       "      <td>0.908146</td>\n",
       "      <td>0.064189</td>\n",
       "      <td>0.014223</td>\n",
       "      <td>0.915628</td>\n",
       "      <td>0.918404</td>\n",
       "      <td>20540.0</td>\n",
       "      <td>69170.0</td>\n",
       "    </tr>\n",
       "    <tr>\n",
       "      <th>0</th>\n",
       "      <td>3</td>\n",
       "      <td>2749fe78efb98cab0491f2294c38b8d2</td>\n",
       "      <td>{\"cutoff\": \"quantile_0.25\", \"eval_fairness_gro...</td>\n",
       "      <td>26.465159</td>\n",
       "      <td>89710</td>\n",
       "      <td>1.0</td>\n",
       "      <td>0.118568</td>\n",
       "      <td>0.873457</td>\n",
       "      <td>0.029253</td>\n",
       "      <td>0.961580</td>\n",
       "      <td>...</td>\n",
       "      <td>NaN</td>\n",
       "      <td>NaN</td>\n",
       "      <td>NaN</td>\n",
       "      <td>NaN</td>\n",
       "      <td>NaN</td>\n",
       "      <td>NaN</td>\n",
       "      <td>NaN</td>\n",
       "      <td>NaN</td>\n",
       "      <td>NaN</td>\n",
       "      <td>NaN</td>\n",
       "    </tr>\n",
       "    <tr>\n",
       "      <th>0</th>\n",
       "      <td>3</td>\n",
       "      <td>2749fe78efb98cab0491f2294c38b8d2</td>\n",
       "      <td>{\"cutoff\": \"quantile_0.25\", \"eval_fairness_gro...</td>\n",
       "      <td>26.465159</td>\n",
       "      <td>89710</td>\n",
       "      <td>1.0</td>\n",
       "      <td>0.118568</td>\n",
       "      <td>0.873457</td>\n",
       "      <td>0.029253</td>\n",
       "      <td>0.961580</td>\n",
       "      <td>...</td>\n",
       "      <td>0.128874</td>\n",
       "      <td>0.162613</td>\n",
       "      <td>0.720889</td>\n",
       "      <td>0.734649</td>\n",
       "      <td>0.181588</td>\n",
       "      <td>0.063020</td>\n",
       "      <td>0.732132</td>\n",
       "      <td>0.761385</td>\n",
       "      <td>20540.0</td>\n",
       "      <td>69170.0</td>\n",
       "    </tr>\n",
       "  </tbody>\n",
       "</table>\n",
       "<p>4 rows × 50 columns</p>\n",
       "</div>"
      ],
      "text/plain": [
       "  run_no                       universe_id  \\\n",
       "0      3  2749fe78efb98cab0491f2294c38b8d2   \n",
       "0      3  2749fe78efb98cab0491f2294c38b8d2   \n",
       "0      3  2749fe78efb98cab0491f2294c38b8d2   \n",
       "0      3  2749fe78efb98cab0491f2294c38b8d2   \n",
       "\n",
       "                                   universe_settings  execution_time  \\\n",
       "0  {\"cutoff\": \"quantile_0.1\", \"eval_fairness_grou...       26.465159   \n",
       "0  {\"cutoff\": \"quantile_0.1\", \"eval_fairness_grou...       26.465159   \n",
       "0  {\"cutoff\": \"quantile_0.25\", \"eval_fairness_gro...       26.465159   \n",
       "0  {\"cutoff\": \"quantile_0.25\", \"eval_fairness_gro...       26.465159   \n",
       "\n",
       "   test_size_n  test_size_frac  fair_main_equalized_odds_difference  \\\n",
       "0        89710             1.0                             0.049966   \n",
       "0        89710             1.0                             0.049966   \n",
       "0        89710             1.0                             0.118568   \n",
       "0        89710             1.0                             0.118568   \n",
       "\n",
       "   fair_main_equalized_odds_ratio  fair_main_demographic_parity_difference  \\\n",
       "0                        0.949313                                 0.002776   \n",
       "0                        0.949313                                 0.002776   \n",
       "0                        0.873457                                 0.029253   \n",
       "0                        0.873457                                 0.029253   \n",
       "\n",
       "   fair_main_demographic_parity_ratio  ...  perf_grp_precision_0  \\\n",
       "0                            0.996977  ...                   NaN   \n",
       "0                            0.996977  ...              0.117828   \n",
       "0                            0.961580  ...                   NaN   \n",
       "0                            0.961580  ...              0.128874   \n",
       "\n",
       "   perf_grp_precision_1  perf_grp_false positive rate_0  \\\n",
       "0                   NaN                             NaN   \n",
       "0              0.141832                        0.912998   \n",
       "0                   NaN                             NaN   \n",
       "0              0.162613                        0.720889   \n",
       "\n",
       "   perf_grp_false positive rate_1  perf_grp_false negative rate_0  \\\n",
       "0                             NaN                             NaN   \n",
       "0                        0.908146                        0.064189   \n",
       "0                             NaN                             NaN   \n",
       "0                        0.734649                        0.181588   \n",
       "\n",
       "   perf_grp_false negative rate_1  perf_grp_selection rate_0  \\\n",
       "0                             NaN                        NaN   \n",
       "0                        0.014223                   0.915628   \n",
       "0                             NaN                        NaN   \n",
       "0                        0.063020                   0.732132   \n",
       "\n",
       "   perf_grp_selection rate_1  perf_grp_count_0  perf_grp_count_1  \n",
       "0                        NaN               NaN               NaN  \n",
       "0                   0.918404           20540.0           69170.0  \n",
       "0                        NaN               NaN               NaN  \n",
       "0                   0.761385           20540.0           69170.0  \n",
       "\n",
       "[4 rows x 50 columns]"
      ]
     },
     "execution_count": 64,
     "metadata": {},
     "output_type": "execute_result"
    }
   ],
   "source": [
    "final_output = universe_analysis.generate_final_output(\n",
    "    y_pred_prob=probs_test,\n",
    "    y_test=y_true,\n",
    "    org_test=org_test,\n",
    "    filter_data=filter_sub_universe_data,\n",
    "    cp_metrics_df=cp_metrics_df,\n",
    "    save=True,\n",
    ")\n",
    "final_output"
   ]
  },
  {
   "cell_type": "code",
   "execution_count": null,
   "id": "8b80a1ff",
   "metadata": {
    "papermill": {
     "duration": 0.015638,
     "end_time": "2025-08-19T18:58:59.233475",
     "exception": false,
     "start_time": "2025-08-19T18:58:59.217837",
     "status": "completed"
    },
    "tags": []
   },
   "outputs": [],
   "source": []
  },
  {
   "cell_type": "code",
   "execution_count": null,
   "id": "275c9fad",
   "metadata": {
    "papermill": {
     "duration": 0.021402,
     "end_time": "2025-08-19T18:58:59.270319",
     "exception": false,
     "start_time": "2025-08-19T18:58:59.248917",
     "status": "completed"
    },
    "tags": []
   },
   "outputs": [],
   "source": []
  }
 ],
 "metadata": {
  "celltoolbar": "Tags",
  "kernelspec": {
   "display_name": "Python (CMA Fairness)",
   "language": "python",
   "name": "cma_fair_env"
  },
  "language_info": {
   "codemirror_mode": {
    "name": "ipython",
    "version": 3
   },
   "file_extension": ".py",
   "mimetype": "text/x-python",
   "name": "python",
   "nbconvert_exporter": "python",
   "pygments_lexer": "ipython3",
   "version": "3.10.12"
  },
  "papermill": {
   "default_parameters": {},
   "duration": 37.35093,
   "end_time": "2025-08-19T18:59:00.411332",
   "environment_variables": {},
   "exception": null,
   "input_path": "universe_analysis.ipynb",
   "output_path": "output/runs/3/notebooks/m_3-2749fe78efb98cab0491f2294c38b8d2.ipynb",
   "parameters": {
    "output_dir": "output",
    "run_no": "3",
    "seed": "2023",
    "universe": "{\"cutoff\": [\"quantile_0.1\", \"quantile_0.25\"], \"eval_fairness_grouping\": [\"majority-minority\", \"nationality-all\"], \"exclude_features\": \"sex\", \"exclude_subgroups\": \"keep-all\", \"model\": \"rf\", \"scale\": \"scale\", \"training_size\": \"1k\", \"training_year\": \"2012_14\"}",
    "universe_id": "2749fe78efb98cab0491f2294c38b8d2"
   },
   "start_time": "2025-08-19T18:58:23.060402",
   "version": "2.6.0"
  }
 },
 "nbformat": 4,
 "nbformat_minor": 5
}