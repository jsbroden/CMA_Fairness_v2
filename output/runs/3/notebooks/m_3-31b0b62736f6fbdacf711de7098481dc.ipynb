{
 "cells": [
  {
   "cell_type": "markdown",
   "id": "ef23dbb3",
   "metadata": {
    "papermill": {
     "duration": 0.01808,
     "end_time": "2025-08-19T19:01:46.486091",
     "exception": false,
     "start_time": "2025-08-19T19:01:46.468011",
     "status": "completed"
    },
    "tags": []
   },
   "source": [
    "# Setup"
   ]
  },
  {
   "cell_type": "code",
   "execution_count": 1,
   "id": "0bc8e7dc",
   "metadata": {
    "execution": {
     "iopub.execute_input": "2025-08-19T19:01:46.524027Z",
     "iopub.status.busy": "2025-08-19T19:01:46.523585Z",
     "iopub.status.idle": "2025-08-19T19:01:46.534083Z",
     "shell.execute_reply": "2025-08-19T19:01:46.533314Z"
    },
    "papermill": {
     "duration": 0.026674,
     "end_time": "2025-08-19T19:01:46.536252",
     "exception": false,
     "start_time": "2025-08-19T19:01:46.509578",
     "status": "completed"
    },
    "tags": []
   },
   "outputs": [
    {
     "name": "stdout",
     "output_type": "stream",
     "text": [
      "/dss/dsshome1/0C/ra93lal2/cma/CMA_Fairness_v2\n"
     ]
    },
    {
     "name": "stderr",
     "output_type": "stream",
     "text": [
      "/dss/dsshome1/0C/ra93lal2/.local/share/virtualenvs/CMA_Fairness_v2-3j10GkSs/lib/python3.10/site-packages/IPython/core/magics/osm.py:393: UserWarning: This is now an optional IPython functionality, using bookmarks requires you to install the `pickleshare` library.\n",
      "  bkms = self.shell.db.get('bookmarks', {})\n",
      "/dss/dsshome1/0C/ra93lal2/.local/share/virtualenvs/CMA_Fairness_v2-3j10GkSs/lib/python3.10/site-packages/IPython/core/magics/osm.py:417: UserWarning: This is now an optional IPython functionality, setting dhist requires you to install the `pickleshare` library.\n",
      "  self.shell.db['dhist'] = compress_dhist(dhist)[-100:]\n"
     ]
    }
   ],
   "source": [
    "%cd ~/cma/CMA_Fairness_v2"
   ]
  },
  {
   "cell_type": "markdown",
   "id": "9d235661",
   "metadata": {
    "papermill": {
     "duration": 0.009335,
     "end_time": "2025-08-19T19:01:46.556554",
     "exception": false,
     "start_time": "2025-08-19T19:01:46.547219",
     "status": "completed"
    },
    "tags": []
   },
   "source": [
    "The following cell holds the definition of our parameters, these values can be overriden by rendering the with e.g. the following command:\n",
    "\n",
    "papermill -p alpha 0.2 -p ratio 0.3 universe_analysis.ipynb output/test_run.ipynb"
   ]
  },
  {
   "cell_type": "code",
   "execution_count": 2,
   "id": "4a789d8e",
   "metadata": {
    "execution": {
     "iopub.execute_input": "2025-08-19T19:01:46.577541Z",
     "iopub.status.busy": "2025-08-19T19:01:46.577096Z",
     "iopub.status.idle": "2025-08-19T19:01:46.582131Z",
     "shell.execute_reply": "2025-08-19T19:01:46.581392Z"
    },
    "papermill": {
     "duration": 0.017683,
     "end_time": "2025-08-19T19:01:46.583632",
     "exception": false,
     "start_time": "2025-08-19T19:01:46.565949",
     "status": "completed"
    },
    "tags": []
   },
   "outputs": [
    {
     "name": "stdout",
     "output_type": "stream",
     "text": [
      "Current working directory: /dss/dsshome1/0C/ra93lal2/cma/CMA_Fairness_v2\n"
     ]
    }
   ],
   "source": [
    "import os\n",
    "print(\"Current working directory:\", os.getcwd())"
   ]
  },
  {
   "cell_type": "code",
   "execution_count": 3,
   "id": "4132aaed",
   "metadata": {
    "execution": {
     "iopub.execute_input": "2025-08-19T19:01:46.603196Z",
     "iopub.status.busy": "2025-08-19T19:01:46.602833Z",
     "iopub.status.idle": "2025-08-19T19:01:46.613245Z",
     "shell.execute_reply": "2025-08-19T19:01:46.612535Z"
    },
    "papermill": {
     "duration": 0.021694,
     "end_time": "2025-08-19T19:01:46.614539",
     "exception": false,
     "start_time": "2025-08-19T19:01:46.592845",
     "status": "completed"
    },
    "tags": [
     "parameters"
    ]
   },
   "outputs": [],
   "source": [
    "run_no = 0\n",
    "universe_id = \"test\"\n",
    "universe = {\n",
    "    \"training_size\": \"5k\", # \"25k\", \"5k\", \"1k\"\n",
    "    \"training_year\": \"2012_14\", # \"2014\", \"2012_14\", \"2010_14\"\n",
    "    \"scale\": \"scale\", # \"scale\", \"do-not-scale\",\n",
    "    \"model\": \"elasticnet\", # \"logreg\", \"penalized_logreg\", \"rf\", \"gbm\", \"elasticnet\"\n",
    "    \"cutoff\": [\"quantile_0.15\", \"quantile_0.30\"],\n",
    "    \"exclude_features\": \"age\", # \"none\", \"nationality\", \"sex\", \"nationality-sex\", \"age\"\n",
    "    \"exclude_subgroups\": \"drop-non-german\", # \"keep-all\", \"drop-non-german\"\n",
    "    \"eval_fairness_grouping\": [\"majority-minority\", \"nationality-all\"]\n",
    "}\n",
    "\n",
    "output_dir=\"./output\"\n",
    "seed=0"
   ]
  },
  {
   "cell_type": "code",
   "execution_count": 4,
   "id": "0f4f758b",
   "metadata": {
    "execution": {
     "iopub.execute_input": "2025-08-19T19:01:46.637616Z",
     "iopub.status.busy": "2025-08-19T19:01:46.637217Z",
     "iopub.status.idle": "2025-08-19T19:01:46.642137Z",
     "shell.execute_reply": "2025-08-19T19:01:46.641412Z"
    },
    "papermill": {
     "duration": 0.016404,
     "end_time": "2025-08-19T19:01:46.643294",
     "exception": false,
     "start_time": "2025-08-19T19:01:46.626890",
     "status": "completed"
    },
    "tags": [
     "injected-parameters"
    ]
   },
   "outputs": [],
   "source": [
    "# Parameters\n",
    "universe_id = \"31b0b62736f6fbdacf711de7098481dc\"\n",
    "run_no = \"3\"\n",
    "universe = \"{\\\"cutoff\\\": [\\\"quantile_0.1\\\", \\\"quantile_0.25\\\"], \\\"eval_fairness_grouping\\\": [\\\"majority-minority\\\", \\\"nationality-all\\\"], \\\"exclude_features\\\": \\\"nationality-sex\\\", \\\"exclude_subgroups\\\": \\\"keep-all\\\", \\\"model\\\": \\\"penalized_logreg\\\", \\\"scale\\\": \\\"do-not-scale\\\", \\\"training_size\\\": \\\"1k\\\", \\\"training_year\\\": \\\"2012_14\\\"}\"\n",
    "output_dir = \"output\"\n",
    "seed = \"2023\"\n"
   ]
  },
  {
   "cell_type": "code",
   "execution_count": 5,
   "id": "a5d7941f",
   "metadata": {
    "execution": {
     "iopub.execute_input": "2025-08-19T19:01:46.688787Z",
     "iopub.status.busy": "2025-08-19T19:01:46.688348Z",
     "iopub.status.idle": "2025-08-19T19:01:46.692511Z",
     "shell.execute_reply": "2025-08-19T19:01:46.691757Z"
    },
    "papermill": {
     "duration": 0.049593,
     "end_time": "2025-08-19T19:01:46.704673",
     "exception": false,
     "start_time": "2025-08-19T19:01:46.655080",
     "status": "completed"
    },
    "tags": []
   },
   "outputs": [],
   "source": [
    "import json\n",
    "if isinstance(universe, str):\n",
    "    universe = json.loads(universe)"
   ]
  },
  {
   "cell_type": "code",
   "execution_count": 6,
   "id": "7076ccb1",
   "metadata": {
    "execution": {
     "iopub.execute_input": "2025-08-19T19:01:46.740181Z",
     "iopub.status.busy": "2025-08-19T19:01:46.739766Z",
     "iopub.status.idle": "2025-08-19T19:01:46.808679Z",
     "shell.execute_reply": "2025-08-19T19:01:46.807463Z"
    },
    "papermill": {
     "duration": 0.083424,
     "end_time": "2025-08-19T19:01:46.810418",
     "exception": false,
     "start_time": "2025-08-19T19:01:46.726994",
     "status": "completed"
    },
    "tags": []
   },
   "outputs": [],
   "source": [
    "# Auto-reload the custom package\n",
    "%load_ext autoreload\n",
    "%autoreload 1\n",
    "%aimport fairness_multiverse"
   ]
  },
  {
   "cell_type": "code",
   "execution_count": 7,
   "id": "94c8eb93",
   "metadata": {
    "execution": {
     "iopub.execute_input": "2025-08-19T19:01:46.835250Z",
     "iopub.status.busy": "2025-08-19T19:01:46.834076Z",
     "iopub.status.idle": "2025-08-19T19:01:48.515433Z",
     "shell.execute_reply": "2025-08-19T19:01:48.514684Z"
    },
    "papermill": {
     "duration": 1.695304,
     "end_time": "2025-08-19T19:01:48.517590",
     "exception": false,
     "start_time": "2025-08-19T19:01:46.822286",
     "status": "completed"
    },
    "tags": []
   },
   "outputs": [],
   "source": [
    "from fairness_multiverse.universe import UniverseAnalysis\n",
    "\n",
    "universe_analysis = UniverseAnalysis(\n",
    "    run_no = run_no,\n",
    "    universe_id = universe_id,\n",
    "    universe = universe,\n",
    "    output_dir=output_dir,\n",
    ")"
   ]
  },
  {
   "cell_type": "code",
   "execution_count": 8,
   "id": "2a6381cf",
   "metadata": {
    "execution": {
     "iopub.execute_input": "2025-08-19T19:01:48.563084Z",
     "iopub.status.busy": "2025-08-19T19:01:48.562195Z",
     "iopub.status.idle": "2025-08-19T19:01:48.575125Z",
     "shell.execute_reply": "2025-08-19T19:01:48.571976Z"
    },
    "papermill": {
     "duration": 0.03544,
     "end_time": "2025-08-19T19:01:48.576837",
     "exception": false,
     "start_time": "2025-08-19T19:01:48.541397",
     "status": "completed"
    },
    "tags": []
   },
   "outputs": [
    {
     "name": "stdout",
     "output_type": "stream",
     "text": [
      "Using Seed: 2023\n"
     ]
    }
   ],
   "source": [
    "import numpy as np\n",
    "parsed_seed = int(seed)\n",
    "np.random.seed(parsed_seed)\n",
    "print(f\"Using Seed: {parsed_seed}\")"
   ]
  },
  {
   "cell_type": "markdown",
   "id": "b6e958b4",
   "metadata": {
    "papermill": {
     "duration": 0.012409,
     "end_time": "2025-08-19T19:01:48.599234",
     "exception": false,
     "start_time": "2025-08-19T19:01:48.586825",
     "status": "completed"
    },
    "tags": []
   },
   "source": [
    "# Loading Data"
   ]
  },
  {
   "cell_type": "code",
   "execution_count": 9,
   "id": "98701482",
   "metadata": {
    "execution": {
     "iopub.execute_input": "2025-08-19T19:01:48.628100Z",
     "iopub.status.busy": "2025-08-19T19:01:48.624779Z",
     "iopub.status.idle": "2025-08-19T19:01:58.636816Z",
     "shell.execute_reply": "2025-08-19T19:01:58.635878Z"
    },
    "papermill": {
     "duration": 10.025369,
     "end_time": "2025-08-19T19:01:58.638179",
     "exception": false,
     "start_time": "2025-08-19T19:01:48.612810",
     "status": "completed"
    },
    "tags": []
   },
   "outputs": [
    {
     "name": "stdout",
     "output_type": "stream",
     "text": [
      "Loading SIAB data from cache: data/siab_cached.csv.gz\n"
     ]
    },
    {
     "name": "stdout",
     "output_type": "stream",
     "text": [
      "(643690, 164)\n"
     ]
    }
   ],
   "source": [
    "from pathlib import Path\n",
    "import pandas as pd\n",
    "\n",
    "# File paths\n",
    "raw_file = Path(\"data/raw/siab.csv\")\n",
    "cache_file = Path(\"data/siab_cached.csv.gz\")\n",
    "\n",
    "# Ensure cache directory exists\n",
    "cache_file.parent.mkdir(parents=True, exist_ok=True)\n",
    "\n",
    "# Load with simple caching\n",
    "if cache_file.exists():\n",
    "    print(f\"Loading SIAB data from cache: {cache_file}\")\n",
    "    siab = pd.read_csv(cache_file, compression='gzip')\n",
    "else:\n",
    "    print(f\"Cache not found. Reading raw SIAB data: {raw_file}\")\n",
    "    siab = pd.read_csv(raw_file)\n",
    "    siab.to_csv(cache_file, index=False, compression='gzip')\n",
    "    print(f\"Cached SIAB data to: {cache_file}\")\n",
    "\n",
    "print(siab.shape)"
   ]
  },
  {
   "cell_type": "code",
   "execution_count": 10,
   "id": "058d2abb",
   "metadata": {
    "execution": {
     "iopub.execute_input": "2025-08-19T19:01:58.683036Z",
     "iopub.status.busy": "2025-08-19T19:01:58.681610Z",
     "iopub.status.idle": "2025-08-19T19:01:58.841853Z",
     "shell.execute_reply": "2025-08-19T19:01:58.840719Z"
    },
    "papermill": {
     "duration": 0.18702,
     "end_time": "2025-08-19T19:01:58.847272",
     "exception": false,
     "start_time": "2025-08-19T19:01:58.660252",
     "status": "completed"
    },
    "tags": []
   },
   "outputs": [
    {
     "data": {
      "text/html": [
       "<div>\n",
       "<style scoped>\n",
       "    .dataframe tbody tr th:only-of-type {\n",
       "        vertical-align: middle;\n",
       "    }\n",
       "\n",
       "    .dataframe tbody tr th {\n",
       "        vertical-align: top;\n",
       "    }\n",
       "\n",
       "    .dataframe thead th {\n",
       "        text-align: right;\n",
       "    }\n",
       "</style>\n",
       "<table border=\"1\" class=\"dataframe\">\n",
       "  <thead>\n",
       "    <tr style=\"text-align: right;\">\n",
       "      <th></th>\n",
       "      <th>persnr</th>\n",
       "      <th>year</th>\n",
       "      <th>nrEntry</th>\n",
       "      <th>ltue</th>\n",
       "      <th>employed_before</th>\n",
       "      <th>receipt_leh_before</th>\n",
       "      <th>receipt_lhg_before</th>\n",
       "      <th>se_before</th>\n",
       "      <th>ASU_notue_seeking_before</th>\n",
       "      <th>ASU_other_before</th>\n",
       "      <th>...</th>\n",
       "      <th>minijob_tot_dur_byage</th>\n",
       "      <th>ft_tot_dur_byage</th>\n",
       "      <th>befrist_tot_dur_byage</th>\n",
       "      <th>leih_tot_dur_byage</th>\n",
       "      <th>LHG_tot_dur_byage</th>\n",
       "      <th>LEH_tot_dur_byage</th>\n",
       "      <th>almp_tot_dur_byage</th>\n",
       "      <th>almp_aw_tot_dur_byage</th>\n",
       "      <th>se_tot_dur_byage</th>\n",
       "      <th>seeking1_tot_dur_byage</th>\n",
       "    </tr>\n",
       "  </thead>\n",
       "  <tbody>\n",
       "    <tr>\n",
       "      <th>0</th>\n",
       "      <td>7</td>\n",
       "      <td>2015</td>\n",
       "      <td>1</td>\n",
       "      <td>0</td>\n",
       "      <td>1</td>\n",
       "      <td>0</td>\n",
       "      <td>0</td>\n",
       "      <td>0</td>\n",
       "      <td>1</td>\n",
       "      <td>0</td>\n",
       "      <td>...</td>\n",
       "      <td>0.000000</td>\n",
       "      <td>0.000000</td>\n",
       "      <td>15.043478</td>\n",
       "      <td>0.000000</td>\n",
       "      <td>0.000000</td>\n",
       "      <td>0.000000</td>\n",
       "      <td>0.000000</td>\n",
       "      <td>0.000000</td>\n",
       "      <td>0.000000</td>\n",
       "      <td>0.000000</td>\n",
       "    </tr>\n",
       "    <tr>\n",
       "      <th>1</th>\n",
       "      <td>18</td>\n",
       "      <td>2010</td>\n",
       "      <td>1</td>\n",
       "      <td>1</td>\n",
       "      <td>0</td>\n",
       "      <td>0</td>\n",
       "      <td>0</td>\n",
       "      <td>0</td>\n",
       "      <td>0</td>\n",
       "      <td>0</td>\n",
       "      <td>...</td>\n",
       "      <td>0.000000</td>\n",
       "      <td>0.000000</td>\n",
       "      <td>0.000000</td>\n",
       "      <td>0.000000</td>\n",
       "      <td>0.000000</td>\n",
       "      <td>0.000000</td>\n",
       "      <td>0.000000</td>\n",
       "      <td>0.000000</td>\n",
       "      <td>0.000000</td>\n",
       "      <td>0.000000</td>\n",
       "    </tr>\n",
       "    <tr>\n",
       "      <th>2</th>\n",
       "      <td>18</td>\n",
       "      <td>2011</td>\n",
       "      <td>2</td>\n",
       "      <td>0</td>\n",
       "      <td>1</td>\n",
       "      <td>0</td>\n",
       "      <td>1</td>\n",
       "      <td>0</td>\n",
       "      <td>1</td>\n",
       "      <td>0</td>\n",
       "      <td>...</td>\n",
       "      <td>2.714286</td>\n",
       "      <td>2.714286</td>\n",
       "      <td>0.000000</td>\n",
       "      <td>0.000000</td>\n",
       "      <td>10.775510</td>\n",
       "      <td>0.000000</td>\n",
       "      <td>8.367347</td>\n",
       "      <td>0.000000</td>\n",
       "      <td>0.000000</td>\n",
       "      <td>9.836735</td>\n",
       "    </tr>\n",
       "    <tr>\n",
       "      <th>3</th>\n",
       "      <td>18</td>\n",
       "      <td>2012</td>\n",
       "      <td>3</td>\n",
       "      <td>0</td>\n",
       "      <td>1</td>\n",
       "      <td>0</td>\n",
       "      <td>1</td>\n",
       "      <td>0</td>\n",
       "      <td>1</td>\n",
       "      <td>0</td>\n",
       "      <td>...</td>\n",
       "      <td>4.200000</td>\n",
       "      <td>4.200000</td>\n",
       "      <td>0.000000</td>\n",
       "      <td>0.000000</td>\n",
       "      <td>12.100000</td>\n",
       "      <td>0.000000</td>\n",
       "      <td>9.400000</td>\n",
       "      <td>0.000000</td>\n",
       "      <td>0.000000</td>\n",
       "      <td>9.960000</td>\n",
       "    </tr>\n",
       "    <tr>\n",
       "      <th>4</th>\n",
       "      <td>18</td>\n",
       "      <td>2012</td>\n",
       "      <td>4</td>\n",
       "      <td>0</td>\n",
       "      <td>1</td>\n",
       "      <td>0</td>\n",
       "      <td>1</td>\n",
       "      <td>0</td>\n",
       "      <td>1</td>\n",
       "      <td>0</td>\n",
       "      <td>...</td>\n",
       "      <td>5.460000</td>\n",
       "      <td>5.460000</td>\n",
       "      <td>0.000000</td>\n",
       "      <td>0.000000</td>\n",
       "      <td>13.360000</td>\n",
       "      <td>0.000000</td>\n",
       "      <td>10.320000</td>\n",
       "      <td>0.000000</td>\n",
       "      <td>0.000000</td>\n",
       "      <td>10.280000</td>\n",
       "    </tr>\n",
       "    <tr>\n",
       "      <th>...</th>\n",
       "      <td>...</td>\n",
       "      <td>...</td>\n",
       "      <td>...</td>\n",
       "      <td>...</td>\n",
       "      <td>...</td>\n",
       "      <td>...</td>\n",
       "      <td>...</td>\n",
       "      <td>...</td>\n",
       "      <td>...</td>\n",
       "      <td>...</td>\n",
       "      <td>...</td>\n",
       "      <td>...</td>\n",
       "      <td>...</td>\n",
       "      <td>...</td>\n",
       "      <td>...</td>\n",
       "      <td>...</td>\n",
       "      <td>...</td>\n",
       "      <td>...</td>\n",
       "      <td>...</td>\n",
       "      <td>...</td>\n",
       "      <td>...</td>\n",
       "    </tr>\n",
       "    <tr>\n",
       "      <th>643685</th>\n",
       "      <td>1827860</td>\n",
       "      <td>2013</td>\n",
       "      <td>1</td>\n",
       "      <td>0</td>\n",
       "      <td>0</td>\n",
       "      <td>0</td>\n",
       "      <td>1</td>\n",
       "      <td>0</td>\n",
       "      <td>0</td>\n",
       "      <td>1</td>\n",
       "      <td>...</td>\n",
       "      <td>0.000000</td>\n",
       "      <td>0.000000</td>\n",
       "      <td>0.000000</td>\n",
       "      <td>0.000000</td>\n",
       "      <td>0.612903</td>\n",
       "      <td>0.000000</td>\n",
       "      <td>0.000000</td>\n",
       "      <td>0.000000</td>\n",
       "      <td>0.000000</td>\n",
       "      <td>0.000000</td>\n",
       "    </tr>\n",
       "    <tr>\n",
       "      <th>643686</th>\n",
       "      <td>1827860</td>\n",
       "      <td>2015</td>\n",
       "      <td>2</td>\n",
       "      <td>1</td>\n",
       "      <td>0</td>\n",
       "      <td>0</td>\n",
       "      <td>1</td>\n",
       "      <td>0</td>\n",
       "      <td>1</td>\n",
       "      <td>0</td>\n",
       "      <td>...</td>\n",
       "      <td>0.000000</td>\n",
       "      <td>0.000000</td>\n",
       "      <td>0.212121</td>\n",
       "      <td>0.212121</td>\n",
       "      <td>17.363636</td>\n",
       "      <td>0.000000</td>\n",
       "      <td>8.909091</td>\n",
       "      <td>0.000000</td>\n",
       "      <td>0.000000</td>\n",
       "      <td>7.121212</td>\n",
       "    </tr>\n",
       "    <tr>\n",
       "      <th>643687</th>\n",
       "      <td>1827860</td>\n",
       "      <td>2016</td>\n",
       "      <td>3</td>\n",
       "      <td>1</td>\n",
       "      <td>0</td>\n",
       "      <td>0</td>\n",
       "      <td>1</td>\n",
       "      <td>1</td>\n",
       "      <td>0</td>\n",
       "      <td>1</td>\n",
       "      <td>...</td>\n",
       "      <td>0.000000</td>\n",
       "      <td>0.000000</td>\n",
       "      <td>0.294118</td>\n",
       "      <td>0.205882</td>\n",
       "      <td>34.705882</td>\n",
       "      <td>0.000000</td>\n",
       "      <td>10.352941</td>\n",
       "      <td>1.705882</td>\n",
       "      <td>1.705882</td>\n",
       "      <td>23.911765</td>\n",
       "    </tr>\n",
       "    <tr>\n",
       "      <th>643688</th>\n",
       "      <td>1827869</td>\n",
       "      <td>2013</td>\n",
       "      <td>1</td>\n",
       "      <td>1</td>\n",
       "      <td>1</td>\n",
       "      <td>0</td>\n",
       "      <td>0</td>\n",
       "      <td>0</td>\n",
       "      <td>1</td>\n",
       "      <td>0</td>\n",
       "      <td>...</td>\n",
       "      <td>0.000000</td>\n",
       "      <td>0.000000</td>\n",
       "      <td>0.000000</td>\n",
       "      <td>0.000000</td>\n",
       "      <td>0.000000</td>\n",
       "      <td>0.525424</td>\n",
       "      <td>0.000000</td>\n",
       "      <td>0.000000</td>\n",
       "      <td>0.000000</td>\n",
       "      <td>0.000000</td>\n",
       "    </tr>\n",
       "    <tr>\n",
       "      <th>643689</th>\n",
       "      <td>1827869</td>\n",
       "      <td>2014</td>\n",
       "      <td>2</td>\n",
       "      <td>0</td>\n",
       "      <td>0</td>\n",
       "      <td>1</td>\n",
       "      <td>0</td>\n",
       "      <td>0</td>\n",
       "      <td>1</td>\n",
       "      <td>0</td>\n",
       "      <td>...</td>\n",
       "      <td>0.000000</td>\n",
       "      <td>0.666667</td>\n",
       "      <td>0.666667</td>\n",
       "      <td>0.000000</td>\n",
       "      <td>0.000000</td>\n",
       "      <td>8.950000</td>\n",
       "      <td>1.033333</td>\n",
       "      <td>0.083333</td>\n",
       "      <td>0.083333</td>\n",
       "      <td>8.133333</td>\n",
       "    </tr>\n",
       "  </tbody>\n",
       "</table>\n",
       "<p>643690 rows × 164 columns</p>\n",
       "</div>"
      ],
      "text/plain": [
       "         persnr  year  nrEntry  ltue  employed_before  receipt_leh_before  \\\n",
       "0             7  2015        1     0                1                   0   \n",
       "1            18  2010        1     1                0                   0   \n",
       "2            18  2011        2     0                1                   0   \n",
       "3            18  2012        3     0                1                   0   \n",
       "4            18  2012        4     0                1                   0   \n",
       "...         ...   ...      ...   ...              ...                 ...   \n",
       "643685  1827860  2013        1     0                0                   0   \n",
       "643686  1827860  2015        2     1                0                   0   \n",
       "643687  1827860  2016        3     1                0                   0   \n",
       "643688  1827869  2013        1     1                1                   0   \n",
       "643689  1827869  2014        2     0                0                   1   \n",
       "\n",
       "        receipt_lhg_before  se_before  ASU_notue_seeking_before  \\\n",
       "0                        0          0                         1   \n",
       "1                        0          0                         0   \n",
       "2                        1          0                         1   \n",
       "3                        1          0                         1   \n",
       "4                        1          0                         1   \n",
       "...                    ...        ...                       ...   \n",
       "643685                   1          0                         0   \n",
       "643686                   1          0                         1   \n",
       "643687                   1          1                         0   \n",
       "643688                   0          0                         1   \n",
       "643689                   0          0                         1   \n",
       "\n",
       "        ASU_other_before  ...  minijob_tot_dur_byage  ft_tot_dur_byage  \\\n",
       "0                      0  ...               0.000000          0.000000   \n",
       "1                      0  ...               0.000000          0.000000   \n",
       "2                      0  ...               2.714286          2.714286   \n",
       "3                      0  ...               4.200000          4.200000   \n",
       "4                      0  ...               5.460000          5.460000   \n",
       "...                  ...  ...                    ...               ...   \n",
       "643685                 1  ...               0.000000          0.000000   \n",
       "643686                 0  ...               0.000000          0.000000   \n",
       "643687                 1  ...               0.000000          0.000000   \n",
       "643688                 0  ...               0.000000          0.000000   \n",
       "643689                 0  ...               0.000000          0.666667   \n",
       "\n",
       "        befrist_tot_dur_byage  leih_tot_dur_byage  LHG_tot_dur_byage  \\\n",
       "0                   15.043478            0.000000           0.000000   \n",
       "1                    0.000000            0.000000           0.000000   \n",
       "2                    0.000000            0.000000          10.775510   \n",
       "3                    0.000000            0.000000          12.100000   \n",
       "4                    0.000000            0.000000          13.360000   \n",
       "...                       ...                 ...                ...   \n",
       "643685               0.000000            0.000000           0.612903   \n",
       "643686               0.212121            0.212121          17.363636   \n",
       "643687               0.294118            0.205882          34.705882   \n",
       "643688               0.000000            0.000000           0.000000   \n",
       "643689               0.666667            0.000000           0.000000   \n",
       "\n",
       "        LEH_tot_dur_byage  almp_tot_dur_byage  almp_aw_tot_dur_byage  \\\n",
       "0                0.000000            0.000000               0.000000   \n",
       "1                0.000000            0.000000               0.000000   \n",
       "2                0.000000            8.367347               0.000000   \n",
       "3                0.000000            9.400000               0.000000   \n",
       "4                0.000000           10.320000               0.000000   \n",
       "...                   ...                 ...                    ...   \n",
       "643685           0.000000            0.000000               0.000000   \n",
       "643686           0.000000            8.909091               0.000000   \n",
       "643687           0.000000           10.352941               1.705882   \n",
       "643688           0.525424            0.000000               0.000000   \n",
       "643689           8.950000            1.033333               0.083333   \n",
       "\n",
       "        se_tot_dur_byage  seeking1_tot_dur_byage  \n",
       "0               0.000000                0.000000  \n",
       "1               0.000000                0.000000  \n",
       "2               0.000000                9.836735  \n",
       "3               0.000000                9.960000  \n",
       "4               0.000000               10.280000  \n",
       "...                  ...                     ...  \n",
       "643685          0.000000                0.000000  \n",
       "643686          0.000000                7.121212  \n",
       "643687          1.705882               23.911765  \n",
       "643688          0.000000                0.000000  \n",
       "643689          0.083333                8.133333  \n",
       "\n",
       "[643690 rows x 164 columns]"
      ]
     },
     "execution_count": 10,
     "metadata": {},
     "output_type": "execute_result"
    }
   ],
   "source": [
    "siab"
   ]
  },
  {
   "cell_type": "markdown",
   "id": "1f87e805",
   "metadata": {
    "papermill": {
     "duration": 0.010612,
     "end_time": "2025-08-19T19:01:58.876963",
     "exception": false,
     "start_time": "2025-08-19T19:01:58.866351",
     "status": "completed"
    },
    "tags": []
   },
   "source": [
    "# Splitting Data and Setting Training Data Size"
   ]
  },
  {
   "cell_type": "code",
   "execution_count": 11,
   "id": "910ae358",
   "metadata": {
    "execution": {
     "iopub.execute_input": "2025-08-19T19:01:58.899390Z",
     "iopub.status.busy": "2025-08-19T19:01:58.898211Z",
     "iopub.status.idle": "2025-08-19T19:01:59.544278Z",
     "shell.execute_reply": "2025-08-19T19:01:59.543600Z"
    },
    "papermill": {
     "duration": 0.658962,
     "end_time": "2025-08-19T19:01:59.545787",
     "exception": false,
     "start_time": "2025-08-19T19:01:58.886825",
     "status": "completed"
    },
    "tags": []
   },
   "outputs": [],
   "source": [
    "from fairness_multiverse.universe import sample_by_year_size\n",
    "\n",
    "siab_train = sample_by_year_size(siab,\n",
    "                               training_year=universe[\"training_year\"],\n",
    "                               training_size=universe[\"training_size\"])"
   ]
  },
  {
   "cell_type": "code",
   "execution_count": 12,
   "id": "919c8ff5",
   "metadata": {
    "execution": {
     "iopub.execute_input": "2025-08-19T19:01:59.569333Z",
     "iopub.status.busy": "2025-08-19T19:01:59.568869Z",
     "iopub.status.idle": "2025-08-19T19:01:59.574318Z",
     "shell.execute_reply": "2025-08-19T19:01:59.573705Z"
    },
    "papermill": {
     "duration": 0.019294,
     "end_time": "2025-08-19T19:01:59.577042",
     "exception": false,
     "start_time": "2025-08-19T19:01:59.557748",
     "status": "completed"
    },
    "tags": []
   },
   "outputs": [
    {
     "data": {
      "text/plain": [
       "(1000, 164)"
      ]
     },
     "execution_count": 12,
     "metadata": {},
     "output_type": "execute_result"
    }
   ],
   "source": [
    "siab_train.shape"
   ]
  },
  {
   "cell_type": "code",
   "execution_count": 13,
   "id": "feb13bf4",
   "metadata": {
    "execution": {
     "iopub.execute_input": "2025-08-19T19:01:59.599013Z",
     "iopub.status.busy": "2025-08-19T19:01:59.598549Z",
     "iopub.status.idle": "2025-08-19T19:01:59.605726Z",
     "shell.execute_reply": "2025-08-19T19:01:59.605109Z"
    },
    "papermill": {
     "duration": 0.020639,
     "end_time": "2025-08-19T19:01:59.608124",
     "exception": false,
     "start_time": "2025-08-19T19:01:59.587485",
     "status": "completed"
    },
    "tags": []
   },
   "outputs": [
    {
     "data": {
      "text/plain": [
       "year\n",
       "2012    334\n",
       "2013    333\n",
       "2014    333\n",
       "dtype: int64"
      ]
     },
     "metadata": {},
     "output_type": "display_data"
    }
   ],
   "source": [
    "display(siab_train.groupby(\"year\").size())"
   ]
  },
  {
   "cell_type": "code",
   "execution_count": 14,
   "id": "0997782f",
   "metadata": {
    "execution": {
     "iopub.execute_input": "2025-08-19T19:01:59.630599Z",
     "iopub.status.busy": "2025-08-19T19:01:59.630131Z",
     "iopub.status.idle": "2025-08-19T19:01:59.883317Z",
     "shell.execute_reply": "2025-08-19T19:01:59.882599Z"
    },
    "papermill": {
     "duration": 0.266167,
     "end_time": "2025-08-19T19:01:59.884871",
     "exception": false,
     "start_time": "2025-08-19T19:01:59.618704",
     "status": "completed"
    },
    "tags": []
   },
   "outputs": [],
   "source": [
    "#siab_train = siab_s[siab_s.year < 2015]\n",
    "siab_calib = siab[siab.year == 2015]\n",
    "siab_test = siab[siab.year == 2016]"
   ]
  },
  {
   "cell_type": "code",
   "execution_count": 15,
   "id": "2c1e4012",
   "metadata": {
    "execution": {
     "iopub.execute_input": "2025-08-19T19:01:59.908217Z",
     "iopub.status.busy": "2025-08-19T19:01:59.907742Z",
     "iopub.status.idle": "2025-08-19T19:01:59.911923Z",
     "shell.execute_reply": "2025-08-19T19:01:59.911302Z"
    },
    "papermill": {
     "duration": 0.017463,
     "end_time": "2025-08-19T19:01:59.913422",
     "exception": false,
     "start_time": "2025-08-19T19:01:59.895959",
     "status": "completed"
    },
    "tags": []
   },
   "outputs": [],
   "source": [
    "#siab_calib.shape"
   ]
  },
  {
   "cell_type": "code",
   "execution_count": 16,
   "id": "f66b54ca",
   "metadata": {
    "execution": {
     "iopub.execute_input": "2025-08-19T19:01:59.935766Z",
     "iopub.status.busy": "2025-08-19T19:01:59.935306Z",
     "iopub.status.idle": "2025-08-19T19:01:59.939412Z",
     "shell.execute_reply": "2025-08-19T19:01:59.938744Z"
    },
    "papermill": {
     "duration": 0.016848,
     "end_time": "2025-08-19T19:01:59.940903",
     "exception": false,
     "start_time": "2025-08-19T19:01:59.924055",
     "status": "completed"
    },
    "tags": []
   },
   "outputs": [],
   "source": [
    "#siab_test.shape"
   ]
  },
  {
   "cell_type": "code",
   "execution_count": 17,
   "id": "27e4384d",
   "metadata": {
    "execution": {
     "iopub.execute_input": "2025-08-19T19:01:59.963248Z",
     "iopub.status.busy": "2025-08-19T19:01:59.962784Z",
     "iopub.status.idle": "2025-08-19T19:01:59.968712Z",
     "shell.execute_reply": "2025-08-19T19:01:59.967948Z"
    },
    "papermill": {
     "duration": 0.019211,
     "end_time": "2025-08-19T19:01:59.970600",
     "exception": false,
     "start_time": "2025-08-19T19:01:59.951389",
     "status": "completed"
    },
    "tags": []
   },
   "outputs": [],
   "source": [
    "X_train = siab_train.iloc[:,4:164]\n",
    "y_train = siab_train.iloc[:, [3]]"
   ]
  },
  {
   "cell_type": "code",
   "execution_count": 18,
   "id": "08ee8389",
   "metadata": {
    "execution": {
     "iopub.execute_input": "2025-08-19T19:01:59.995140Z",
     "iopub.status.busy": "2025-08-19T19:01:59.994654Z",
     "iopub.status.idle": "2025-08-19T19:02:00.043549Z",
     "shell.execute_reply": "2025-08-19T19:02:00.042903Z"
    },
    "papermill": {
     "duration": 0.062426,
     "end_time": "2025-08-19T19:02:00.045001",
     "exception": false,
     "start_time": "2025-08-19T19:01:59.982575",
     "status": "completed"
    },
    "tags": []
   },
   "outputs": [],
   "source": [
    "X_calib = siab_calib.iloc[:,4:164]\n",
    "y_calib = siab_calib.iloc[:, [3]]"
   ]
  },
  {
   "cell_type": "code",
   "execution_count": 19,
   "id": "b7ff42e0",
   "metadata": {
    "execution": {
     "iopub.execute_input": "2025-08-19T19:02:00.068425Z",
     "iopub.status.busy": "2025-08-19T19:02:00.067961Z",
     "iopub.status.idle": "2025-08-19T19:02:00.120422Z",
     "shell.execute_reply": "2025-08-19T19:02:00.119775Z"
    },
    "papermill": {
     "duration": 0.065737,
     "end_time": "2025-08-19T19:02:00.121843",
     "exception": false,
     "start_time": "2025-08-19T19:02:00.056106",
     "status": "completed"
    },
    "tags": []
   },
   "outputs": [],
   "source": [
    "X_test = siab_test.iloc[:,4:164]\n",
    "y_true = siab_test.iloc[:, [3]]"
   ]
  },
  {
   "cell_type": "code",
   "execution_count": 20,
   "id": "0275101e",
   "metadata": {
    "execution": {
     "iopub.execute_input": "2025-08-19T19:02:00.145051Z",
     "iopub.status.busy": "2025-08-19T19:02:00.144596Z",
     "iopub.status.idle": "2025-08-19T19:02:00.243975Z",
     "shell.execute_reply": "2025-08-19T19:02:00.243295Z"
    },
    "papermill": {
     "duration": 0.112767,
     "end_time": "2025-08-19T19:02:00.245689",
     "exception": false,
     "start_time": "2025-08-19T19:02:00.132922",
     "status": "completed"
    },
    "tags": []
   },
   "outputs": [],
   "source": [
    "# Auxiliary data needed downstream in the pipeline\n",
    "\n",
    "org_train = X_train.copy()\n",
    "org_test = X_test.copy()\n",
    "org_calib = X_calib.copy()"
   ]
  },
  {
   "cell_type": "markdown",
   "id": "b461e618",
   "metadata": {
    "papermill": {
     "duration": 0.010878,
     "end_time": "2025-08-19T19:02:00.267794",
     "exception": false,
     "start_time": "2025-08-19T19:02:00.256916",
     "status": "completed"
    },
    "tags": []
   },
   "source": [
    "# Preprocessing Data"
   ]
  },
  {
   "cell_type": "code",
   "execution_count": 21,
   "id": "78e74c4b",
   "metadata": {
    "execution": {
     "iopub.execute_input": "2025-08-19T19:02:00.300080Z",
     "iopub.status.busy": "2025-08-19T19:02:00.299592Z",
     "iopub.status.idle": "2025-08-19T19:02:00.304536Z",
     "shell.execute_reply": "2025-08-19T19:02:00.303811Z"
    },
    "papermill": {
     "duration": 0.029687,
     "end_time": "2025-08-19T19:02:00.307921",
     "exception": false,
     "start_time": "2025-08-19T19:02:00.278234",
     "status": "completed"
    },
    "tags": []
   },
   "outputs": [],
   "source": [
    "# EXCLUDE PROTECTED FEATURES\n",
    "# --------------------------\n",
    "\n",
    "excluded_features = universe[\"exclude_features\"].split(\"-\")\n",
    "excluded_features_dictionary = {\n",
    "    \"nationality\": [\"maxdeutsch1\", \"maxdeutsch.Missing.\"],\n",
    "    \"sex\": [\"frau1\"],\n",
    "    \"age\": [\"age\"],\n",
    "}"
   ]
  },
  {
   "cell_type": "code",
   "execution_count": 22,
   "id": "f8e63555",
   "metadata": {
    "execution": {
     "iopub.execute_input": "2025-08-19T19:02:00.332262Z",
     "iopub.status.busy": "2025-08-19T19:02:00.331803Z",
     "iopub.status.idle": "2025-08-19T19:02:00.336303Z",
     "shell.execute_reply": "2025-08-19T19:02:00.335680Z"
    },
    "papermill": {
     "duration": 0.017485,
     "end_time": "2025-08-19T19:02:00.337927",
     "exception": false,
     "start_time": "2025-08-19T19:02:00.320442",
     "status": "completed"
    },
    "tags": []
   },
   "outputs": [],
   "source": [
    "excluded_features_columns = [\n",
    "    excluded_features_dictionary[f] for f in excluded_features if len(f) > 0 and f != \"none\"\n",
    "]"
   ]
  },
  {
   "cell_type": "code",
   "execution_count": 23,
   "id": "da781f7c",
   "metadata": {
    "execution": {
     "iopub.execute_input": "2025-08-19T19:02:00.360427Z",
     "iopub.status.busy": "2025-08-19T19:02:00.359951Z",
     "iopub.status.idle": "2025-08-19T19:02:00.364360Z",
     "shell.execute_reply": "2025-08-19T19:02:00.363745Z"
    },
    "papermill": {
     "duration": 0.01732,
     "end_time": "2025-08-19T19:02:00.365887",
     "exception": false,
     "start_time": "2025-08-19T19:02:00.348567",
     "status": "completed"
    },
    "tags": []
   },
   "outputs": [],
   "source": [
    "from fairness_multiverse.universe import flatten_once\n",
    "\n",
    "excluded_features_columns = flatten_once(excluded_features_columns)"
   ]
  },
  {
   "cell_type": "code",
   "execution_count": 24,
   "id": "37fef0f0",
   "metadata": {
    "execution": {
     "iopub.execute_input": "2025-08-19T19:02:00.388221Z",
     "iopub.status.busy": "2025-08-19T19:02:00.387774Z",
     "iopub.status.idle": "2025-08-19T19:02:00.394192Z",
     "shell.execute_reply": "2025-08-19T19:02:00.393497Z"
    },
    "papermill": {
     "duration": 0.022004,
     "end_time": "2025-08-19T19:02:00.398448",
     "exception": false,
     "start_time": "2025-08-19T19:02:00.376444",
     "status": "completed"
    },
    "tags": []
   },
   "outputs": [
    {
     "name": "stdout",
     "output_type": "stream",
     "text": [
      "Dropping features: ['maxdeutsch1', 'maxdeutsch.Missing.', 'frau1']\n"
     ]
    }
   ],
   "source": [
    "if len(excluded_features_columns) > 0:\n",
    "    print(f\"Dropping features: {excluded_features_columns}\")\n",
    "    X_train.drop(excluded_features_columns, axis=1, inplace=True)"
   ]
  },
  {
   "cell_type": "code",
   "execution_count": 25,
   "id": "d029e3e9",
   "metadata": {
    "execution": {
     "iopub.execute_input": "2025-08-19T19:02:00.423361Z",
     "iopub.status.busy": "2025-08-19T19:02:00.422891Z",
     "iopub.status.idle": "2025-08-19T19:02:00.475236Z",
     "shell.execute_reply": "2025-08-19T19:02:00.474611Z"
    },
    "papermill": {
     "duration": 0.065349,
     "end_time": "2025-08-19T19:02:00.476518",
     "exception": false,
     "start_time": "2025-08-19T19:02:00.411169",
     "status": "completed"
    },
    "tags": []
   },
   "outputs": [
    {
     "name": "stdout",
     "output_type": "stream",
     "text": [
      "Dropping features: ['maxdeutsch1', 'maxdeutsch.Missing.', 'frau1']\n"
     ]
    }
   ],
   "source": [
    "if len(excluded_features_columns) > 0:\n",
    "    print(f\"Dropping features: {excluded_features_columns}\")\n",
    "    X_test.drop(excluded_features_columns, axis=1, inplace=True)"
   ]
  },
  {
   "cell_type": "code",
   "execution_count": 26,
   "id": "01d571f0",
   "metadata": {
    "execution": {
     "iopub.execute_input": "2025-08-19T19:02:00.499902Z",
     "iopub.status.busy": "2025-08-19T19:02:00.499441Z",
     "iopub.status.idle": "2025-08-19T19:02:00.548668Z",
     "shell.execute_reply": "2025-08-19T19:02:00.548000Z"
    },
    "papermill": {
     "duration": 0.06217,
     "end_time": "2025-08-19T19:02:00.549931",
     "exception": false,
     "start_time": "2025-08-19T19:02:00.487761",
     "status": "completed"
    },
    "tags": []
   },
   "outputs": [
    {
     "name": "stdout",
     "output_type": "stream",
     "text": [
      "Dropping features: ['maxdeutsch1', 'maxdeutsch.Missing.', 'frau1']\n"
     ]
    }
   ],
   "source": [
    "if len(excluded_features_columns) > 0:\n",
    "    print(f\"Dropping features: {excluded_features_columns}\")\n",
    "    X_calib.drop(excluded_features_columns, axis=1, inplace=True)"
   ]
  },
  {
   "cell_type": "code",
   "execution_count": 27,
   "id": "3037356e",
   "metadata": {
    "execution": {
     "iopub.execute_input": "2025-08-19T19:02:00.573528Z",
     "iopub.status.busy": "2025-08-19T19:02:00.573069Z",
     "iopub.status.idle": "2025-08-19T19:02:00.577369Z",
     "shell.execute_reply": "2025-08-19T19:02:00.576756Z"
    },
    "papermill": {
     "duration": 0.017374,
     "end_time": "2025-08-19T19:02:00.578713",
     "exception": false,
     "start_time": "2025-08-19T19:02:00.561339",
     "status": "completed"
    },
    "tags": []
   },
   "outputs": [],
   "source": [
    "# EXCLUDE CERTAIN SUBGROUPS\n",
    "# -------------------------\n",
    "\n",
    "mode = universe.get(\"exclude_subgroups\", \"keep-all\") # Defaults to \"keep-all\" if the key is missing."
   ]
  },
  {
   "cell_type": "code",
   "execution_count": 28,
   "id": "9d1e63fd",
   "metadata": {
    "execution": {
     "iopub.execute_input": "2025-08-19T19:02:00.602152Z",
     "iopub.status.busy": "2025-08-19T19:02:00.601692Z",
     "iopub.status.idle": "2025-08-19T19:02:00.607081Z",
     "shell.execute_reply": "2025-08-19T19:02:00.606429Z"
    },
    "papermill": {
     "duration": 0.018799,
     "end_time": "2025-08-19T19:02:00.608511",
     "exception": false,
     "start_time": "2025-08-19T19:02:00.589712",
     "status": "completed"
    },
    "tags": []
   },
   "outputs": [],
   "source": [
    "if mode == \"keep-all\":\n",
    "    keep_mask = pd.Series(True, index=org_train.index)\n",
    "\n",
    "elif mode == \"drop-non-german\":\n",
    "    keep_mask = (org_train[\"maxdeutsch1\"] == 1) & (org_train[\"maxdeutsch.Missing.\"] == 0)\n",
    "\n",
    "else:\n",
    "    raise ValueError(f\"Unsupported mode for exclude_subgroups: {mode}\")"
   ]
  },
  {
   "cell_type": "code",
   "execution_count": 29,
   "id": "d3b65474",
   "metadata": {
    "execution": {
     "iopub.execute_input": "2025-08-19T19:02:00.632198Z",
     "iopub.status.busy": "2025-08-19T19:02:00.631715Z",
     "iopub.status.idle": "2025-08-19T19:02:00.636945Z",
     "shell.execute_reply": "2025-08-19T19:02:00.636248Z"
    },
    "papermill": {
     "duration": 0.018563,
     "end_time": "2025-08-19T19:02:00.638341",
     "exception": false,
     "start_time": "2025-08-19T19:02:00.619778",
     "status": "completed"
    },
    "tags": []
   },
   "outputs": [],
   "source": [
    "n_drop = (~keep_mask).sum() # Calculates how many rows are set to be dropped\n",
    "if n_drop > 0:\n",
    "    pct = n_drop / len(keep_mask) * 100\n",
    "    print(f\"Dropping {n_drop} rows ({pct:.2f}%) where mode='{mode}'\")"
   ]
  },
  {
   "cell_type": "code",
   "execution_count": 30,
   "id": "f44389b3",
   "metadata": {
    "execution": {
     "iopub.execute_input": "2025-08-19T19:02:00.661623Z",
     "iopub.status.busy": "2025-08-19T19:02:00.661159Z",
     "iopub.status.idle": "2025-08-19T19:02:00.666541Z",
     "shell.execute_reply": "2025-08-19T19:02:00.665893Z"
    },
    "papermill": {
     "duration": 0.018756,
     "end_time": "2025-08-19T19:02:00.668076",
     "exception": false,
     "start_time": "2025-08-19T19:02:00.649320",
     "status": "completed"
    },
    "tags": []
   },
   "outputs": [],
   "source": [
    "X_train = X_train[keep_mask]"
   ]
  },
  {
   "cell_type": "code",
   "execution_count": 31,
   "id": "ceca8c2a",
   "metadata": {
    "execution": {
     "iopub.execute_input": "2025-08-19T19:02:00.691634Z",
     "iopub.status.busy": "2025-08-19T19:02:00.691163Z",
     "iopub.status.idle": "2025-08-19T19:02:00.695990Z",
     "shell.execute_reply": "2025-08-19T19:02:00.695355Z"
    },
    "papermill": {
     "duration": 0.018262,
     "end_time": "2025-08-19T19:02:00.697566",
     "exception": false,
     "start_time": "2025-08-19T19:02:00.679304",
     "status": "completed"
    },
    "tags": []
   },
   "outputs": [],
   "source": [
    "y_train = y_train[keep_mask]"
   ]
  },
  {
   "cell_type": "markdown",
   "id": "04d31e2f",
   "metadata": {
    "papermill": {
     "duration": 0.010804,
     "end_time": "2025-08-19T19:02:00.719534",
     "exception": false,
     "start_time": "2025-08-19T19:02:00.708730",
     "status": "completed"
    },
    "tags": []
   },
   "source": [
    "# Model Training"
   ]
  },
  {
   "cell_type": "code",
   "execution_count": 32,
   "id": "db991733",
   "metadata": {
    "execution": {
     "iopub.execute_input": "2025-08-19T19:02:00.742630Z",
     "iopub.status.busy": "2025-08-19T19:02:00.742155Z",
     "iopub.status.idle": "2025-08-19T19:02:00.831144Z",
     "shell.execute_reply": "2025-08-19T19:02:00.830460Z"
    },
    "papermill": {
     "duration": 0.102138,
     "end_time": "2025-08-19T19:02:00.832507",
     "exception": false,
     "start_time": "2025-08-19T19:02:00.730369",
     "status": "completed"
    },
    "tags": []
   },
   "outputs": [],
   "source": [
    "from sklearn.linear_model import LogisticRegression\n",
    "from sklearn.ensemble import GradientBoostingClassifier, RandomForestClassifier\n",
    "\n",
    "if (universe[\"model\"] == \"logreg\"):\n",
    "    model = LogisticRegression() #penalty=\"none\", solver=\"newton-cg\", max_iter=1)\n",
    "elif (universe[\"model\"] == \"penalized_logreg\"):\n",
    "    model = LogisticRegression(penalty=\"l2\", C=0.1) #, solver=\"newton-cg\", max_iter=1)\n",
    "elif (universe[\"model\"] == \"rf\"):\n",
    "    model = RandomForestClassifier() # n_estimators=100, n_jobs=-1\n",
    "elif (universe[\"model\"] == \"gbm\"):\n",
    "    model = GradientBoostingClassifier()\n",
    "elif (universe[\"model\"] == \"elasticnet\"):\n",
    "    model = LogisticRegression(penalty = 'elasticnet', solver = 'saga', l1_ratio = 0.5) # max_iter=5000\n",
    "else:\n",
    "    raise \"Unsupported universe.model\""
   ]
  },
  {
   "cell_type": "code",
   "execution_count": 33,
   "id": "a4b5cd25",
   "metadata": {
    "execution": {
     "iopub.execute_input": "2025-08-19T19:02:00.856627Z",
     "iopub.status.busy": "2025-08-19T19:02:00.856111Z",
     "iopub.status.idle": "2025-08-19T19:02:00.861078Z",
     "shell.execute_reply": "2025-08-19T19:02:00.860436Z"
    },
    "papermill": {
     "duration": 0.018663,
     "end_time": "2025-08-19T19:02:00.862483",
     "exception": false,
     "start_time": "2025-08-19T19:02:00.843820",
     "status": "completed"
    },
    "tags": []
   },
   "outputs": [],
   "source": [
    "from sklearn.pipeline import Pipeline\n",
    "from sklearn.preprocessing import StandardScaler\n",
    "\n",
    "model = Pipeline([\n",
    "    #(\"continuous_processor\", continuous_processor),\n",
    "    #(\"categorical_preprocessor\", categorical_preprocessor),\n",
    "    (\"scale\", StandardScaler() if universe[\"scale\"] == \"scale\" else None), \n",
    "    (\"model\", model),\n",
    "])"
   ]
  },
  {
   "cell_type": "code",
   "execution_count": 34,
   "id": "283a904d",
   "metadata": {
    "execution": {
     "iopub.execute_input": "2025-08-19T19:02:00.885973Z",
     "iopub.status.busy": "2025-08-19T19:02:00.885483Z",
     "iopub.status.idle": "2025-08-19T19:02:00.943596Z",
     "shell.execute_reply": "2025-08-19T19:02:00.943006Z"
    },
    "papermill": {
     "duration": 0.071174,
     "end_time": "2025-08-19T19:02:00.944843",
     "exception": false,
     "start_time": "2025-08-19T19:02:00.873669",
     "status": "completed"
    },
    "tags": []
   },
   "outputs": [
    {
     "name": "stderr",
     "output_type": "stream",
     "text": [
      "/dss/dsshome1/0C/ra93lal2/.local/share/virtualenvs/CMA_Fairness_v2-3j10GkSs/lib/python3.10/site-packages/sklearn/linear_model/_logistic.py:444: ConvergenceWarning: lbfgs failed to converge (status=1):\n",
      "STOP: TOTAL NO. of ITERATIONS REACHED LIMIT.\n",
      "\n",
      "Increase the number of iterations (max_iter) or scale the data as shown in:\n",
      "    https://scikit-learn.org/stable/modules/preprocessing.html\n",
      "Please also refer to the documentation for alternative solver options:\n",
      "    https://scikit-learn.org/stable/modules/linear_model.html#logistic-regression\n",
      "  n_iter_i = _check_optimize_result(\n"
     ]
    },
    {
     "data": {
      "text/html": [
       "<style>#sk-container-id-1 {color: black;background-color: white;}#sk-container-id-1 pre{padding: 0;}#sk-container-id-1 div.sk-toggleable {background-color: white;}#sk-container-id-1 label.sk-toggleable__label {cursor: pointer;display: block;width: 100%;margin-bottom: 0;padding: 0.3em;box-sizing: border-box;text-align: center;}#sk-container-id-1 label.sk-toggleable__label-arrow:before {content: \"▸\";float: left;margin-right: 0.25em;color: #696969;}#sk-container-id-1 label.sk-toggleable__label-arrow:hover:before {color: black;}#sk-container-id-1 div.sk-estimator:hover label.sk-toggleable__label-arrow:before {color: black;}#sk-container-id-1 div.sk-toggleable__content {max-height: 0;max-width: 0;overflow: hidden;text-align: left;background-color: #f0f8ff;}#sk-container-id-1 div.sk-toggleable__content pre {margin: 0.2em;color: black;border-radius: 0.25em;background-color: #f0f8ff;}#sk-container-id-1 input.sk-toggleable__control:checked~div.sk-toggleable__content {max-height: 200px;max-width: 100%;overflow: auto;}#sk-container-id-1 input.sk-toggleable__control:checked~label.sk-toggleable__label-arrow:before {content: \"▾\";}#sk-container-id-1 div.sk-estimator input.sk-toggleable__control:checked~label.sk-toggleable__label {background-color: #d4ebff;}#sk-container-id-1 div.sk-label input.sk-toggleable__control:checked~label.sk-toggleable__label {background-color: #d4ebff;}#sk-container-id-1 input.sk-hidden--visually {border: 0;clip: rect(1px 1px 1px 1px);clip: rect(1px, 1px, 1px, 1px);height: 1px;margin: -1px;overflow: hidden;padding: 0;position: absolute;width: 1px;}#sk-container-id-1 div.sk-estimator {font-family: monospace;background-color: #f0f8ff;border: 1px dotted black;border-radius: 0.25em;box-sizing: border-box;margin-bottom: 0.5em;}#sk-container-id-1 div.sk-estimator:hover {background-color: #d4ebff;}#sk-container-id-1 div.sk-parallel-item::after {content: \"\";width: 100%;border-bottom: 1px solid gray;flex-grow: 1;}#sk-container-id-1 div.sk-label:hover label.sk-toggleable__label {background-color: #d4ebff;}#sk-container-id-1 div.sk-serial::before {content: \"\";position: absolute;border-left: 1px solid gray;box-sizing: border-box;top: 0;bottom: 0;left: 50%;z-index: 0;}#sk-container-id-1 div.sk-serial {display: flex;flex-direction: column;align-items: center;background-color: white;padding-right: 0.2em;padding-left: 0.2em;position: relative;}#sk-container-id-1 div.sk-item {position: relative;z-index: 1;}#sk-container-id-1 div.sk-parallel {display: flex;align-items: stretch;justify-content: center;background-color: white;position: relative;}#sk-container-id-1 div.sk-item::before, #sk-container-id-1 div.sk-parallel-item::before {content: \"\";position: absolute;border-left: 1px solid gray;box-sizing: border-box;top: 0;bottom: 0;left: 50%;z-index: -1;}#sk-container-id-1 div.sk-parallel-item {display: flex;flex-direction: column;z-index: 1;position: relative;background-color: white;}#sk-container-id-1 div.sk-parallel-item:first-child::after {align-self: flex-end;width: 50%;}#sk-container-id-1 div.sk-parallel-item:last-child::after {align-self: flex-start;width: 50%;}#sk-container-id-1 div.sk-parallel-item:only-child::after {width: 0;}#sk-container-id-1 div.sk-dashed-wrapped {border: 1px dashed gray;margin: 0 0.4em 0.5em 0.4em;box-sizing: border-box;padding-bottom: 0.4em;background-color: white;}#sk-container-id-1 div.sk-label label {font-family: monospace;font-weight: bold;display: inline-block;line-height: 1.2em;}#sk-container-id-1 div.sk-label-container {text-align: center;}#sk-container-id-1 div.sk-container {/* jupyter's `normalize.less` sets `[hidden] { display: none; }` but bootstrap.min.css set `[hidden] { display: none !important; }` so we also need the `!important` here to be able to override the default hidden behavior on the sphinx rendered scikit-learn.org. See: https://github.com/scikit-learn/scikit-learn/issues/21755 */display: inline-block !important;position: relative;}#sk-container-id-1 div.sk-text-repr-fallback {display: none;}</style><div id=\"sk-container-id-1\" class=\"sk-top-container\"><div class=\"sk-text-repr-fallback\"><pre>Pipeline(steps=[(&#x27;scale&#x27;, None), (&#x27;model&#x27;, LogisticRegression(C=0.1))])</pre><b>In a Jupyter environment, please rerun this cell to show the HTML representation or trust the notebook. <br />On GitHub, the HTML representation is unable to render, please try loading this page with nbviewer.org.</b></div><div class=\"sk-container\" hidden><div class=\"sk-item sk-dashed-wrapped\"><div class=\"sk-label-container\"><div class=\"sk-label sk-toggleable\"><input class=\"sk-toggleable__control sk-hidden--visually\" id=\"sk-estimator-id-1\" type=\"checkbox\" ><label for=\"sk-estimator-id-1\" class=\"sk-toggleable__label sk-toggleable__label-arrow\">Pipeline</label><div class=\"sk-toggleable__content\"><pre>Pipeline(steps=[(&#x27;scale&#x27;, None), (&#x27;model&#x27;, LogisticRegression(C=0.1))])</pre></div></div></div><div class=\"sk-serial\"><div class=\"sk-item\"><div class=\"sk-estimator sk-toggleable\"><input class=\"sk-toggleable__control sk-hidden--visually\" id=\"sk-estimator-id-2\" type=\"checkbox\" ><label for=\"sk-estimator-id-2\" class=\"sk-toggleable__label sk-toggleable__label-arrow\">None</label><div class=\"sk-toggleable__content\"><pre>None</pre></div></div></div><div class=\"sk-item\"><div class=\"sk-estimator sk-toggleable\"><input class=\"sk-toggleable__control sk-hidden--visually\" id=\"sk-estimator-id-3\" type=\"checkbox\" ><label for=\"sk-estimator-id-3\" class=\"sk-toggleable__label sk-toggleable__label-arrow\">LogisticRegression</label><div class=\"sk-toggleable__content\"><pre>LogisticRegression(C=0.1)</pre></div></div></div></div></div></div></div>"
      ],
      "text/plain": [
       "Pipeline(steps=[('scale', None), ('model', LogisticRegression(C=0.1))])"
      ]
     },
     "execution_count": 34,
     "metadata": {},
     "output_type": "execute_result"
    }
   ],
   "source": [
    "model.fit(X_train, y_train.values.ravel())"
   ]
  },
  {
   "cell_type": "code",
   "execution_count": 35,
   "id": "6e15e313",
   "metadata": {
    "execution": {
     "iopub.execute_input": "2025-08-19T19:02:00.969273Z",
     "iopub.status.busy": "2025-08-19T19:02:00.968793Z",
     "iopub.status.idle": "2025-08-19T19:02:01.062014Z",
     "shell.execute_reply": "2025-08-19T19:02:01.061361Z"
    },
    "papermill": {
     "duration": 0.106547,
     "end_time": "2025-08-19T19:02:01.063187",
     "exception": false,
     "start_time": "2025-08-19T19:02:00.956640",
     "status": "completed"
    },
    "tags": []
   },
   "outputs": [
    {
     "data": {
      "text/plain": [
       "0.8617433953851299"
      ]
     },
     "execution_count": 35,
     "metadata": {},
     "output_type": "execute_result"
    }
   ],
   "source": [
    "from fairness_multiverse.universe import predict_w_threshold\n",
    "\n",
    "probs_test = model.predict_proba(X_test)\n",
    "\n",
    "'''\n",
    "Below code returns a boolean array (or binary 0/1 array depending on how it’s used) where each element \n",
    "is True if the probability of class 1 is greater than or equal to the threshold, and False otherwise.\n",
    "'''\n",
    "y_pred_default = predict_w_threshold(probs_test, 0.5)\n",
    "\n",
    "from sklearn.metrics import accuracy_score\n",
    "\n",
    "# Naive prediction\n",
    "accuracy_score(y_true = y_true, y_pred = y_pred_default)"
   ]
  },
  {
   "cell_type": "code",
   "execution_count": 36,
   "id": "6f14067c",
   "metadata": {
    "execution": {
     "iopub.execute_input": "2025-08-19T19:02:01.087984Z",
     "iopub.status.busy": "2025-08-19T19:02:01.087516Z",
     "iopub.status.idle": "2025-08-19T19:02:01.172848Z",
     "shell.execute_reply": "2025-08-19T19:02:01.172123Z"
    },
    "papermill": {
     "duration": 0.099097,
     "end_time": "2025-08-19T19:02:01.174341",
     "exception": false,
     "start_time": "2025-08-19T19:02:01.075244",
     "status": "completed"
    },
    "tags": []
   },
   "outputs": [
    {
     "data": {
      "text/plain": [
       "array([0, 0, 0, ..., 0, 0, 0])"
      ]
     },
     "execution_count": 36,
     "metadata": {},
     "output_type": "execute_result"
    }
   ],
   "source": [
    "model.predict(X_test)"
   ]
  },
  {
   "cell_type": "markdown",
   "id": "3759920c",
   "metadata": {
    "papermill": {
     "duration": 0.01135,
     "end_time": "2025-08-19T19:02:01.199318",
     "exception": false,
     "start_time": "2025-08-19T19:02:01.187968",
     "status": "completed"
    },
    "tags": []
   },
   "source": [
    "# Conformal Prediction"
   ]
  },
  {
   "cell_type": "code",
   "execution_count": 37,
   "id": "14b27f59",
   "metadata": {
    "execution": {
     "iopub.execute_input": "2025-08-19T19:02:01.226038Z",
     "iopub.status.busy": "2025-08-19T19:02:01.225570Z",
     "iopub.status.idle": "2025-08-19T19:02:01.229743Z",
     "shell.execute_reply": "2025-08-19T19:02:01.229114Z"
    },
    "papermill": {
     "duration": 0.019258,
     "end_time": "2025-08-19T19:02:01.230947",
     "exception": false,
     "start_time": "2025-08-19T19:02:01.211689",
     "status": "completed"
    },
    "tags": []
   },
   "outputs": [],
   "source": [
    "# Miscoverage level for conformal prediction (10% allowed error rate => 90% target coverage)\n",
    "alpha = 0.1"
   ]
  },
  {
   "cell_type": "code",
   "execution_count": 38,
   "id": "59102472",
   "metadata": {
    "execution": {
     "iopub.execute_input": "2025-08-19T19:02:01.259421Z",
     "iopub.status.busy": "2025-08-19T19:02:01.258237Z",
     "iopub.status.idle": "2025-08-19T19:02:01.346761Z",
     "shell.execute_reply": "2025-08-19T19:02:01.345911Z"
    },
    "papermill": {
     "duration": 0.103572,
     "end_time": "2025-08-19T19:02:01.349377",
     "exception": false,
     "start_time": "2025-08-19T19:02:01.245805",
     "status": "completed"
    },
    "tags": []
   },
   "outputs": [],
   "source": [
    "probs_calib = model.predict_proba(X_calib)"
   ]
  },
  {
   "cell_type": "code",
   "execution_count": 39,
   "id": "a792d4dd",
   "metadata": {
    "execution": {
     "iopub.execute_input": "2025-08-19T19:02:01.392124Z",
     "iopub.status.busy": "2025-08-19T19:02:01.390965Z",
     "iopub.status.idle": "2025-08-19T19:02:01.400994Z",
     "shell.execute_reply": "2025-08-19T19:02:01.399356Z"
    },
    "papermill": {
     "duration": 0.026687,
     "end_time": "2025-08-19T19:02:01.402509",
     "exception": false,
     "start_time": "2025-08-19T19:02:01.375822",
     "status": "completed"
    },
    "tags": []
   },
   "outputs": [],
   "source": [
    "y_calib = y_calib.values.ravel().astype(int)"
   ]
  },
  {
   "cell_type": "code",
   "execution_count": 40,
   "id": "650fd033",
   "metadata": {
    "execution": {
     "iopub.execute_input": "2025-08-19T19:02:01.431446Z",
     "iopub.status.busy": "2025-08-19T19:02:01.430245Z",
     "iopub.status.idle": "2025-08-19T19:02:01.443150Z",
     "shell.execute_reply": "2025-08-19T19:02:01.441372Z"
    },
    "papermill": {
     "duration": 0.027807,
     "end_time": "2025-08-19T19:02:01.444809",
     "exception": false,
     "start_time": "2025-08-19T19:02:01.417002",
     "status": "completed"
    },
    "tags": []
   },
   "outputs": [],
   "source": [
    "from fairness_multiverse.conformal import compute_nc_scores\n",
    "\n",
    "# Compute nonconformity scores on calibration set (1 - probability of true class)\n",
    "nc_scores = compute_nc_scores(probs_calib, y_calib)"
   ]
  },
  {
   "cell_type": "code",
   "execution_count": 41,
   "id": "28ada44c",
   "metadata": {
    "execution": {
     "iopub.execute_input": "2025-08-19T19:02:01.474742Z",
     "iopub.status.busy": "2025-08-19T19:02:01.473581Z",
     "iopub.status.idle": "2025-08-19T19:02:01.484213Z",
     "shell.execute_reply": "2025-08-19T19:02:01.482786Z"
    },
    "papermill": {
     "duration": 0.026474,
     "end_time": "2025-08-19T19:02:01.485771",
     "exception": false,
     "start_time": "2025-08-19T19:02:01.459297",
     "status": "completed"
    },
    "tags": []
   },
   "outputs": [],
   "source": [
    "from fairness_multiverse.conformal import find_threshold\n",
    "\n",
    "# Find conformal threshold q_hat for the given alpha (split conformal method)\n",
    "q_hat = find_threshold(nc_scores, alpha)"
   ]
  },
  {
   "cell_type": "code",
   "execution_count": 42,
   "id": "df56469e",
   "metadata": {
    "execution": {
     "iopub.execute_input": "2025-08-19T19:02:01.515911Z",
     "iopub.status.busy": "2025-08-19T19:02:01.514712Z",
     "iopub.status.idle": "2025-08-19T19:02:01.526282Z",
     "shell.execute_reply": "2025-08-19T19:02:01.525079Z"
    },
    "papermill": {
     "duration": 0.027151,
     "end_time": "2025-08-19T19:02:01.527817",
     "exception": false,
     "start_time": "2025-08-19T19:02:01.500666",
     "status": "completed"
    },
    "tags": []
   },
   "outputs": [
    {
     "data": {
      "text/plain": [
       "0.7015254233674935"
      ]
     },
     "execution_count": 42,
     "metadata": {},
     "output_type": "execute_result"
    }
   ],
   "source": [
    "q_hat"
   ]
  },
  {
   "cell_type": "code",
   "execution_count": 43,
   "id": "aa1f5faa",
   "metadata": {
    "execution": {
     "iopub.execute_input": "2025-08-19T19:02:01.558479Z",
     "iopub.status.busy": "2025-08-19T19:02:01.557295Z",
     "iopub.status.idle": "2025-08-19T19:02:02.087288Z",
     "shell.execute_reply": "2025-08-19T19:02:02.086583Z"
    },
    "papermill": {
     "duration": 0.545095,
     "end_time": "2025-08-19T19:02:02.088680",
     "exception": false,
     "start_time": "2025-08-19T19:02:01.543585",
     "status": "completed"
    },
    "tags": []
   },
   "outputs": [],
   "source": [
    "from fairness_multiverse.conformal import predict_conformal_sets\n",
    "\n",
    "# Generate prediction sets for each test example\n",
    "pred_sets = predict_conformal_sets(model, X_test, q_hat)"
   ]
  },
  {
   "cell_type": "code",
   "execution_count": 44,
   "id": "97f67a6b",
   "metadata": {
    "execution": {
     "iopub.execute_input": "2025-08-19T19:02:02.115183Z",
     "iopub.status.busy": "2025-08-19T19:02:02.113895Z",
     "iopub.status.idle": "2025-08-19T19:02:02.120288Z",
     "shell.execute_reply": "2025-08-19T19:02:02.119319Z"
    },
    "papermill": {
     "duration": 0.020781,
     "end_time": "2025-08-19T19:02:02.121691",
     "exception": false,
     "start_time": "2025-08-19T19:02:02.100910",
     "status": "completed"
    },
    "tags": []
   },
   "outputs": [],
   "source": [
    "y_true = y_true.squeeze()"
   ]
  },
  {
   "cell_type": "code",
   "execution_count": 45,
   "id": "e700e9a7",
   "metadata": {
    "execution": {
     "iopub.execute_input": "2025-08-19T19:02:02.150502Z",
     "iopub.status.busy": "2025-08-19T19:02:02.149336Z",
     "iopub.status.idle": "2025-08-19T19:02:02.667346Z",
     "shell.execute_reply": "2025-08-19T19:02:02.666672Z"
    },
    "papermill": {
     "duration": 0.534433,
     "end_time": "2025-08-19T19:02:02.670146",
     "exception": false,
     "start_time": "2025-08-19T19:02:02.135713",
     "status": "completed"
    },
    "tags": []
   },
   "outputs": [],
   "source": [
    "from fairness_multiverse.conformal import evaluate_sets\n",
    "\n",
    "# Evaluate coverage and average set size on test data\n",
    "metrics = evaluate_sets(pred_sets, y_true)"
   ]
  },
  {
   "cell_type": "markdown",
   "id": "efbacec0",
   "metadata": {
    "papermill": {
     "duration": 0.011937,
     "end_time": "2025-08-19T19:02:02.695753",
     "exception": false,
     "start_time": "2025-08-19T19:02:02.683816",
     "status": "completed"
    },
    "tags": []
   },
   "source": [
    "# CP Metrics"
   ]
  },
  {
   "cell_type": "code",
   "execution_count": 46,
   "id": "9de55fb1",
   "metadata": {
    "execution": {
     "iopub.execute_input": "2025-08-19T19:02:02.719963Z",
     "iopub.status.busy": "2025-08-19T19:02:02.719492Z",
     "iopub.status.idle": "2025-08-19T19:02:02.725603Z",
     "shell.execute_reply": "2025-08-19T19:02:02.724805Z"
    },
    "papermill": {
     "duration": 0.020153,
     "end_time": "2025-08-19T19:02:02.727327",
     "exception": false,
     "start_time": "2025-08-19T19:02:02.707174",
     "status": "completed"
    },
    "tags": []
   },
   "outputs": [
    {
     "data": {
      "text/plain": [
       "{'coverage': 0.9117043807825215, 'avg_size': 1.2051387805149927}"
      ]
     },
     "execution_count": 46,
     "metadata": {},
     "output_type": "execute_result"
    }
   ],
   "source": [
    "metrics"
   ]
  },
  {
   "cell_type": "code",
   "execution_count": 47,
   "id": "64c340a1",
   "metadata": {
    "execution": {
     "iopub.execute_input": "2025-08-19T19:02:02.754231Z",
     "iopub.status.busy": "2025-08-19T19:02:02.753772Z",
     "iopub.status.idle": "2025-08-19T19:02:02.760061Z",
     "shell.execute_reply": "2025-08-19T19:02:02.759231Z"
    },
    "papermill": {
     "duration": 0.022614,
     "end_time": "2025-08-19T19:02:02.761671",
     "exception": false,
     "start_time": "2025-08-19T19:02:02.739057",
     "status": "completed"
    },
    "tags": []
   },
   "outputs": [],
   "source": [
    "example_universe = universe.copy()\n",
    "universe_training_year = example_universe.get(\"training_year\")\n",
    "universe_training_size = example_universe.get(\"training_size\")\n",
    "universe_scale = example_universe.get(\"scale\")\n",
    "universe_model = example_universe.get(\"model\")\n",
    "universe_exclude_features = example_universe.get(\"exclude_features\")\n",
    "universe_exclude_subgroups = example_universe.get(\"exclude_subgroups\")"
   ]
  },
  {
   "cell_type": "code",
   "execution_count": 48,
   "id": "dbb53cb4",
   "metadata": {
    "execution": {
     "iopub.execute_input": "2025-08-19T19:02:02.787105Z",
     "iopub.status.busy": "2025-08-19T19:02:02.786634Z",
     "iopub.status.idle": "2025-08-19T19:02:02.793855Z",
     "shell.execute_reply": "2025-08-19T19:02:02.792429Z"
    },
    "papermill": {
     "duration": 0.02136,
     "end_time": "2025-08-19T19:02:02.795208",
     "exception": false,
     "start_time": "2025-08-19T19:02:02.773848",
     "status": "completed"
    },
    "tags": []
   },
   "outputs": [],
   "source": [
    "cp_metrics_dict = {\n",
    "    \"universe_id\": [universe_id],\n",
    "    \"universe_training_year\": [universe_training_year],\n",
    "    \"universe_training_size\": [universe_training_size],\n",
    "    \"universe_scale\": [universe_scale],\n",
    "    \"universe_model\": [universe_model],\n",
    "    \"universe_exclude_features\": [universe_exclude_features],\n",
    "    \"universe_exclude_subgroups\": [universe_exclude_subgroups],\n",
    "    \"q_hat\": [q_hat],\n",
    "    \"coverage\": [metrics[\"coverage\"]],\n",
    "    \"avg_size\": [metrics[\"avg_size\"]],\n",
    "}"
   ]
  },
  {
   "cell_type": "code",
   "execution_count": 49,
   "id": "0d70d4b2",
   "metadata": {
    "execution": {
     "iopub.execute_input": "2025-08-19T19:02:02.821964Z",
     "iopub.status.busy": "2025-08-19T19:02:02.821502Z",
     "iopub.status.idle": "2025-08-19T19:02:02.827228Z",
     "shell.execute_reply": "2025-08-19T19:02:02.826383Z"
    },
    "papermill": {
     "duration": 0.021155,
     "end_time": "2025-08-19T19:02:02.828832",
     "exception": false,
     "start_time": "2025-08-19T19:02:02.807677",
     "status": "completed"
    },
    "tags": []
   },
   "outputs": [],
   "source": [
    "cp_metrics_df = pd.DataFrame(cp_metrics_dict)"
   ]
  },
  {
   "cell_type": "code",
   "execution_count": 50,
   "id": "b494403c",
   "metadata": {
    "execution": {
     "iopub.execute_input": "2025-08-19T19:02:02.855359Z",
     "iopub.status.busy": "2025-08-19T19:02:02.854649Z",
     "iopub.status.idle": "2025-08-19T19:02:02.867090Z",
     "shell.execute_reply": "2025-08-19T19:02:02.866205Z"
    },
    "papermill": {
     "duration": 0.028221,
     "end_time": "2025-08-19T19:02:02.869561",
     "exception": false,
     "start_time": "2025-08-19T19:02:02.841340",
     "status": "completed"
    },
    "tags": []
   },
   "outputs": [
    {
     "data": {
      "text/html": [
       "<div>\n",
       "<style scoped>\n",
       "    .dataframe tbody tr th:only-of-type {\n",
       "        vertical-align: middle;\n",
       "    }\n",
       "\n",
       "    .dataframe tbody tr th {\n",
       "        vertical-align: top;\n",
       "    }\n",
       "\n",
       "    .dataframe thead th {\n",
       "        text-align: right;\n",
       "    }\n",
       "</style>\n",
       "<table border=\"1\" class=\"dataframe\">\n",
       "  <thead>\n",
       "    <tr style=\"text-align: right;\">\n",
       "      <th></th>\n",
       "      <th>universe_id</th>\n",
       "      <th>universe_training_year</th>\n",
       "      <th>universe_training_size</th>\n",
       "      <th>universe_scale</th>\n",
       "      <th>universe_model</th>\n",
       "      <th>universe_exclude_features</th>\n",
       "      <th>universe_exclude_subgroups</th>\n",
       "      <th>q_hat</th>\n",
       "      <th>coverage</th>\n",
       "      <th>avg_size</th>\n",
       "    </tr>\n",
       "  </thead>\n",
       "  <tbody>\n",
       "    <tr>\n",
       "      <th>0</th>\n",
       "      <td>31b0b62736f6fbdacf711de7098481dc</td>\n",
       "      <td>2012_14</td>\n",
       "      <td>1k</td>\n",
       "      <td>do-not-scale</td>\n",
       "      <td>penalized_logreg</td>\n",
       "      <td>nationality-sex</td>\n",
       "      <td>keep-all</td>\n",
       "      <td>0.701525</td>\n",
       "      <td>0.911704</td>\n",
       "      <td>1.205139</td>\n",
       "    </tr>\n",
       "  </tbody>\n",
       "</table>\n",
       "</div>"
      ],
      "text/plain": [
       "                        universe_id universe_training_year  \\\n",
       "0  31b0b62736f6fbdacf711de7098481dc                2012_14   \n",
       "\n",
       "  universe_training_size universe_scale    universe_model  \\\n",
       "0                     1k   do-not-scale  penalized_logreg   \n",
       "\n",
       "  universe_exclude_features universe_exclude_subgroups     q_hat  coverage  \\\n",
       "0           nationality-sex                   keep-all  0.701525  0.911704   \n",
       "\n",
       "   avg_size  \n",
       "0  1.205139  "
      ]
     },
     "execution_count": 50,
     "metadata": {},
     "output_type": "execute_result"
    }
   ],
   "source": [
    "cp_metrics_df"
   ]
  },
  {
   "cell_type": "markdown",
   "id": "ed608b0b",
   "metadata": {
    "papermill": {
     "duration": 0.012657,
     "end_time": "2025-08-19T19:02:02.904385",
     "exception": false,
     "start_time": "2025-08-19T19:02:02.891728",
     "status": "completed"
    },
    "tags": []
   },
   "source": [
    "Conditional coverage & looking at subgroups"
   ]
  },
  {
   "cell_type": "code",
   "execution_count": 51,
   "id": "8968c366",
   "metadata": {
    "execution": {
     "iopub.execute_input": "2025-08-19T19:02:02.940633Z",
     "iopub.status.busy": "2025-08-19T19:02:02.939499Z",
     "iopub.status.idle": "2025-08-19T19:02:03.198459Z",
     "shell.execute_reply": "2025-08-19T19:02:03.197493Z"
    },
    "papermill": {
     "duration": 0.274662,
     "end_time": "2025-08-19T19:02:03.200073",
     "exception": false,
     "start_time": "2025-08-19T19:02:02.925411",
     "status": "completed"
    },
    "tags": []
   },
   "outputs": [],
   "source": [
    "from fairness_multiverse.conformal import build_cp_groups\n",
    "\n",
    "cp_groups_df = build_cp_groups(pred_sets, y_true, X_test.index, org_test)"
   ]
  },
  {
   "cell_type": "code",
   "execution_count": 52,
   "id": "292ddabf",
   "metadata": {
    "execution": {
     "iopub.execute_input": "2025-08-19T19:02:03.241309Z",
     "iopub.status.busy": "2025-08-19T19:02:03.240798Z",
     "iopub.status.idle": "2025-08-19T19:02:04.146736Z",
     "shell.execute_reply": "2025-08-19T19:02:04.136054Z"
    },
    "papermill": {
     "duration": 0.933332,
     "end_time": "2025-08-19T19:02:04.148225",
     "exception": false,
     "start_time": "2025-08-19T19:02:03.214893",
     "status": "completed"
    },
    "tags": []
   },
   "outputs": [],
   "source": [
    "# Define covered = 1 if true_label is in the predicted set\n",
    "cp_groups_df['covered'] = cp_groups_df.apply(\n",
    "    lambda r: int(r['true_label'] in r['pred_set']),\n",
    "    axis=1\n",
    ")"
   ]
  },
  {
   "cell_type": "code",
   "execution_count": 53,
   "id": "3a261692",
   "metadata": {
    "execution": {
     "iopub.execute_input": "2025-08-19T19:02:04.175904Z",
     "iopub.status.busy": "2025-08-19T19:02:04.175403Z",
     "iopub.status.idle": "2025-08-19T19:02:04.188161Z",
     "shell.execute_reply": "2025-08-19T19:02:04.187097Z"
    },
    "papermill": {
     "duration": 0.029122,
     "end_time": "2025-08-19T19:02:04.190761",
     "exception": false,
     "start_time": "2025-08-19T19:02:04.161639",
     "status": "completed"
    },
    "tags": []
   },
   "outputs": [],
   "source": [
    "subgroups = ['frau1','nongerman','nongerman_male','nongerman_female']\n",
    "\n",
    "# Conditional coverage for subgroup==1\n",
    "cond_coverage = {\n",
    "    g: cp_groups_df.loc[cp_groups_df[g]==1, 'covered'].mean()\n",
    "    for g in subgroups\n",
    "}"
   ]
  },
  {
   "cell_type": "code",
   "execution_count": 54,
   "id": "894fd600",
   "metadata": {
    "execution": {
     "iopub.execute_input": "2025-08-19T19:02:04.236550Z",
     "iopub.status.busy": "2025-08-19T19:02:04.234350Z",
     "iopub.status.idle": "2025-08-19T19:02:04.248149Z",
     "shell.execute_reply": "2025-08-19T19:02:04.246566Z"
    },
    "papermill": {
     "duration": 0.031718,
     "end_time": "2025-08-19T19:02:04.249962",
     "exception": false,
     "start_time": "2025-08-19T19:02:04.218244",
     "status": "completed"
    },
    "tags": []
   },
   "outputs": [
    {
     "data": {
      "text/plain": [
       "{'frau1': 0.9096643752527295,\n",
       " 'nongerman': 0.9285914781339472,\n",
       " 'nongerman_male': 0.9422678555345402,\n",
       " 'nongerman_female': 0.9059612518628912}"
      ]
     },
     "execution_count": 54,
     "metadata": {},
     "output_type": "execute_result"
    }
   ],
   "source": [
    "cond_coverage"
   ]
  },
  {
   "cell_type": "code",
   "execution_count": 55,
   "id": "942895c7",
   "metadata": {
    "execution": {
     "iopub.execute_input": "2025-08-19T19:02:04.288260Z",
     "iopub.status.busy": "2025-08-19T19:02:04.286752Z",
     "iopub.status.idle": "2025-08-19T19:02:04.304872Z",
     "shell.execute_reply": "2025-08-19T19:02:04.302304Z"
    },
    "papermill": {
     "duration": 0.035742,
     "end_time": "2025-08-19T19:02:04.307448",
     "exception": false,
     "start_time": "2025-08-19T19:02:04.271706",
     "status": "completed"
    },
    "tags": []
   },
   "outputs": [],
   "source": [
    "for subgroup, cov in cond_coverage.items():\n",
    "    cp_metrics_df[f\"cov_{subgroup}\"] = cov"
   ]
  },
  {
   "cell_type": "code",
   "execution_count": 56,
   "id": "3970120f",
   "metadata": {
    "execution": {
     "iopub.execute_input": "2025-08-19T19:02:04.344987Z",
     "iopub.status.busy": "2025-08-19T19:02:04.342499Z",
     "iopub.status.idle": "2025-08-19T19:02:04.369277Z",
     "shell.execute_reply": "2025-08-19T19:02:04.368461Z"
    },
    "papermill": {
     "duration": 0.043294,
     "end_time": "2025-08-19T19:02:04.370433",
     "exception": false,
     "start_time": "2025-08-19T19:02:04.327139",
     "status": "completed"
    },
    "tags": []
   },
   "outputs": [
    {
     "data": {
      "text/html": [
       "<div>\n",
       "<style scoped>\n",
       "    .dataframe tbody tr th:only-of-type {\n",
       "        vertical-align: middle;\n",
       "    }\n",
       "\n",
       "    .dataframe tbody tr th {\n",
       "        vertical-align: top;\n",
       "    }\n",
       "\n",
       "    .dataframe thead th {\n",
       "        text-align: right;\n",
       "    }\n",
       "</style>\n",
       "<table border=\"1\" class=\"dataframe\">\n",
       "  <thead>\n",
       "    <tr style=\"text-align: right;\">\n",
       "      <th></th>\n",
       "      <th>universe_id</th>\n",
       "      <th>universe_training_year</th>\n",
       "      <th>universe_training_size</th>\n",
       "      <th>universe_scale</th>\n",
       "      <th>universe_model</th>\n",
       "      <th>universe_exclude_features</th>\n",
       "      <th>universe_exclude_subgroups</th>\n",
       "      <th>q_hat</th>\n",
       "      <th>coverage</th>\n",
       "      <th>avg_size</th>\n",
       "      <th>cov_frau1</th>\n",
       "      <th>cov_nongerman</th>\n",
       "      <th>cov_nongerman_male</th>\n",
       "      <th>cov_nongerman_female</th>\n",
       "    </tr>\n",
       "  </thead>\n",
       "  <tbody>\n",
       "    <tr>\n",
       "      <th>0</th>\n",
       "      <td>31b0b62736f6fbdacf711de7098481dc</td>\n",
       "      <td>2012_14</td>\n",
       "      <td>1k</td>\n",
       "      <td>do-not-scale</td>\n",
       "      <td>penalized_logreg</td>\n",
       "      <td>nationality-sex</td>\n",
       "      <td>keep-all</td>\n",
       "      <td>0.701525</td>\n",
       "      <td>0.911704</td>\n",
       "      <td>1.205139</td>\n",
       "      <td>0.909664</td>\n",
       "      <td>0.928591</td>\n",
       "      <td>0.942268</td>\n",
       "      <td>0.905961</td>\n",
       "    </tr>\n",
       "  </tbody>\n",
       "</table>\n",
       "</div>"
      ],
      "text/plain": [
       "                        universe_id universe_training_year  \\\n",
       "0  31b0b62736f6fbdacf711de7098481dc                2012_14   \n",
       "\n",
       "  universe_training_size universe_scale    universe_model  \\\n",
       "0                     1k   do-not-scale  penalized_logreg   \n",
       "\n",
       "  universe_exclude_features universe_exclude_subgroups     q_hat  coverage  \\\n",
       "0           nationality-sex                   keep-all  0.701525  0.911704   \n",
       "\n",
       "   avg_size  cov_frau1  cov_nongerman  cov_nongerman_male  \\\n",
       "0  1.205139   0.909664       0.928591            0.942268   \n",
       "\n",
       "   cov_nongerman_female  \n",
       "0              0.905961  "
      ]
     },
     "execution_count": 56,
     "metadata": {},
     "output_type": "execute_result"
    }
   ],
   "source": [
    "cp_metrics_df"
   ]
  },
  {
   "cell_type": "markdown",
   "id": "3fc519cc",
   "metadata": {
    "papermill": {
     "duration": 0.016022,
     "end_time": "2025-08-19T19:02:04.402042",
     "exception": false,
     "start_time": "2025-08-19T19:02:04.386020",
     "status": "completed"
    },
    "tags": []
   },
   "source": [
    "# (Fairness) Metrics"
   ]
  },
  {
   "cell_type": "code",
   "execution_count": 57,
   "id": "a2e5e155",
   "metadata": {
    "execution": {
     "iopub.execute_input": "2025-08-19T19:02:04.429222Z",
     "iopub.status.busy": "2025-08-19T19:02:04.428544Z",
     "iopub.status.idle": "2025-08-19T19:02:04.448189Z",
     "shell.execute_reply": "2025-08-19T19:02:04.447533Z"
    },
    "papermill": {
     "duration": 0.035083,
     "end_time": "2025-08-19T19:02:04.450057",
     "exception": false,
     "start_time": "2025-08-19T19:02:04.414974",
     "status": "completed"
    },
    "tags": []
   },
   "outputs": [],
   "source": [
    "colname_to_bin = \"maxdeutsch1\"\n",
    "majority_value = org_train[colname_to_bin].mode()[0]\n",
    "\n",
    "org_test[\"majmin\"] = np.where(org_test[colname_to_bin] == majority_value, \"majority\", \"minority\")"
   ]
  },
  {
   "cell_type": "code",
   "execution_count": 58,
   "id": "17e3e4d5",
   "metadata": {
    "execution": {
     "iopub.execute_input": "2025-08-19T19:02:04.494602Z",
     "iopub.status.busy": "2025-08-19T19:02:04.493305Z",
     "iopub.status.idle": "2025-08-19T19:02:06.238007Z",
     "shell.execute_reply": "2025-08-19T19:02:06.236766Z"
    },
    "papermill": {
     "duration": 1.76998,
     "end_time": "2025-08-19T19:02:06.239669",
     "exception": false,
     "start_time": "2025-08-19T19:02:04.469689",
     "status": "completed"
    },
    "tags": []
   },
   "outputs": [],
   "source": [
    "example_universe = universe.copy()\n",
    "example_universe[\"cutoff\"] = example_universe[\"cutoff\"][0]\n",
    "example_universe[\"eval_fairness_grouping\"] = example_universe[\"eval_fairness_grouping\"][0]\n",
    "fairness_dict, metric_frame = universe_analysis.compute_metrics(\n",
    "    example_universe,\n",
    "    y_pred_prob=probs_test,\n",
    "    y_test=y_true,\n",
    "    org_test=org_test,\n",
    ")"
   ]
  },
  {
   "cell_type": "markdown",
   "id": "1fb7a0e9",
   "metadata": {
    "papermill": {
     "duration": 0.012539,
     "end_time": "2025-08-19T19:02:06.267133",
     "exception": false,
     "start_time": "2025-08-19T19:02:06.254594",
     "status": "completed"
    },
    "tags": []
   },
   "source": [
    "# Overall"
   ]
  },
  {
   "cell_type": "markdown",
   "id": "be1784b1",
   "metadata": {
    "papermill": {
     "duration": 0.012232,
     "end_time": "2025-08-19T19:02:06.291784",
     "exception": false,
     "start_time": "2025-08-19T19:02:06.279552",
     "status": "completed"
    },
    "tags": []
   },
   "source": [
    "Main fairness target: Equalized Odds. Seems to be a better fit than equal opportunity, since we're not only interested in Y = 1. Seems to be a better fit than demographic parity, since we also care about accuracy, not just equal distribution of preds.\n",
    "\n",
    "Pick column for computation of fairness metrics\n",
    "\n",
    "Performance\n",
    "Overall performance measures, most interesting in relation to the measures split by group below"
   ]
  },
  {
   "cell_type": "code",
   "execution_count": 59,
   "id": "b7672bee",
   "metadata": {
    "execution": {
     "iopub.execute_input": "2025-08-19T19:02:06.318639Z",
     "iopub.status.busy": "2025-08-19T19:02:06.318121Z",
     "iopub.status.idle": "2025-08-19T19:02:06.327072Z",
     "shell.execute_reply": "2025-08-19T19:02:06.326374Z"
    },
    "papermill": {
     "duration": 0.025453,
     "end_time": "2025-08-19T19:02:06.329599",
     "exception": false,
     "start_time": "2025-08-19T19:02:06.304146",
     "status": "completed"
    },
    "tags": []
   },
   "outputs": [
    {
     "data": {
      "text/plain": [
       "accuracy                   0.214837\n",
       "balanced accuracy          0.527303\n",
       "f1                         0.236430\n",
       "precision                  0.135065\n",
       "false positive rate        0.892995\n",
       "false negative rate        0.052398\n",
       "selection rate             0.900000\n",
       "count                  89710.000000\n",
       "dtype: float64"
      ]
     },
     "execution_count": 59,
     "metadata": {},
     "output_type": "execute_result"
    }
   ],
   "source": [
    "metric_frame.overall"
   ]
  },
  {
   "cell_type": "markdown",
   "id": "d93333c9",
   "metadata": {
    "papermill": {
     "duration": 0.028285,
     "end_time": "2025-08-19T19:02:06.396827",
     "exception": false,
     "start_time": "2025-08-19T19:02:06.368542",
     "status": "completed"
    },
    "tags": []
   },
   "source": [
    "By Group"
   ]
  },
  {
   "cell_type": "code",
   "execution_count": 60,
   "id": "52256966",
   "metadata": {
    "execution": {
     "iopub.execute_input": "2025-08-19T19:02:06.424717Z",
     "iopub.status.busy": "2025-08-19T19:02:06.424204Z",
     "iopub.status.idle": "2025-08-19T19:02:06.439450Z",
     "shell.execute_reply": "2025-08-19T19:02:06.438532Z"
    },
    "papermill": {
     "duration": 0.030403,
     "end_time": "2025-08-19T19:02:06.440970",
     "exception": false,
     "start_time": "2025-08-19T19:02:06.410567",
     "status": "completed"
    },
    "tags": []
   },
   "outputs": [
    {
     "data": {
      "text/html": [
       "<div>\n",
       "<style scoped>\n",
       "    .dataframe tbody tr th:only-of-type {\n",
       "        vertical-align: middle;\n",
       "    }\n",
       "\n",
       "    .dataframe tbody tr th {\n",
       "        vertical-align: top;\n",
       "    }\n",
       "\n",
       "    .dataframe thead th {\n",
       "        text-align: right;\n",
       "    }\n",
       "</style>\n",
       "<table border=\"1\" class=\"dataframe\">\n",
       "  <thead>\n",
       "    <tr style=\"text-align: right;\">\n",
       "      <th></th>\n",
       "      <th>accuracy</th>\n",
       "      <th>balanced accuracy</th>\n",
       "      <th>f1</th>\n",
       "      <th>precision</th>\n",
       "      <th>false positive rate</th>\n",
       "      <th>false negative rate</th>\n",
       "      <th>selection rate</th>\n",
       "      <th>count</th>\n",
       "    </tr>\n",
       "    <tr>\n",
       "      <th>majmin</th>\n",
       "      <th></th>\n",
       "      <th></th>\n",
       "      <th></th>\n",
       "      <th></th>\n",
       "      <th></th>\n",
       "      <th></th>\n",
       "      <th></th>\n",
       "      <th></th>\n",
       "    </tr>\n",
       "  </thead>\n",
       "  <tbody>\n",
       "    <tr>\n",
       "      <th>majority</th>\n",
       "      <td>0.235926</td>\n",
       "      <td>0.533547</td>\n",
       "      <td>0.244975</td>\n",
       "      <td>0.140883</td>\n",
       "      <td>0.870981</td>\n",
       "      <td>0.061926</td>\n",
       "      <td>0.879847</td>\n",
       "      <td>69170.0</td>\n",
       "    </tr>\n",
       "    <tr>\n",
       "      <th>minority</th>\n",
       "      <td>0.143817</td>\n",
       "      <td>0.509329</td>\n",
       "      <td>0.209547</td>\n",
       "      <td>0.117254</td>\n",
       "      <td>0.965716</td>\n",
       "      <td>0.015625</td>\n",
       "      <td>0.967868</td>\n",
       "      <td>20540.0</td>\n",
       "    </tr>\n",
       "  </tbody>\n",
       "</table>\n",
       "</div>"
      ],
      "text/plain": [
       "          accuracy  balanced accuracy        f1  precision  \\\n",
       "majmin                                                       \n",
       "majority  0.235926           0.533547  0.244975   0.140883   \n",
       "minority  0.143817           0.509329  0.209547   0.117254   \n",
       "\n",
       "          false positive rate  false negative rate  selection rate    count  \n",
       "majmin                                                                       \n",
       "majority             0.870981             0.061926        0.879847  69170.0  \n",
       "minority             0.965716             0.015625        0.967868  20540.0  "
      ]
     },
     "execution_count": 60,
     "metadata": {},
     "output_type": "execute_result"
    }
   ],
   "source": [
    "metric_frame.by_group"
   ]
  },
  {
   "cell_type": "code",
   "execution_count": 61,
   "id": "6e6c20ae",
   "metadata": {
    "execution": {
     "iopub.execute_input": "2025-08-19T19:02:06.474259Z",
     "iopub.status.busy": "2025-08-19T19:02:06.472459Z",
     "iopub.status.idle": "2025-08-19T19:02:08.413887Z",
     "shell.execute_reply": "2025-08-19T19:02:08.412942Z"
    },
    "papermill": {
     "duration": 1.959391,
     "end_time": "2025-08-19T19:02:08.415460",
     "exception": false,
     "start_time": "2025-08-19T19:02:06.456069",
     "status": "completed"
    },
    "tags": []
   },
   "outputs": [
    {
     "data": {
      "text/plain": [
       "array([[<Axes: title={'center': 'accuracy'}, xlabel='majmin'>,\n",
       "        <Axes: title={'center': 'balanced accuracy'}, xlabel='majmin'>,\n",
       "        <Axes: title={'center': 'f1'}, xlabel='majmin'>],\n",
       "       [<Axes: title={'center': 'precision'}, xlabel='majmin'>,\n",
       "        <Axes: title={'center': 'false positive rate'}, xlabel='majmin'>,\n",
       "        <Axes: title={'center': 'false negative rate'}, xlabel='majmin'>],\n",
       "       [<Axes: title={'center': 'selection rate'}, xlabel='majmin'>,\n",
       "        <Axes: title={'center': 'count'}, xlabel='majmin'>,\n",
       "        <Axes: xlabel='majmin'>]], dtype=object)"
      ]
     },
     "execution_count": 61,
     "metadata": {},
     "output_type": "execute_result"
    },
    {
     "data": {
      "image/png": "[encoded data removed]",
      "text/plain": [
       "<Figure size 1200x800 with 9 Axes>"
      ]
     },
     "metadata": {},
     "output_type": "display_data"
    }
   ],
   "source": [
    "# In a graphic\n",
    "metric_frame.by_group.plot.bar(\n",
    "    subplots=True,\n",
    "    layout=[3, 3],\n",
    "    legend=False,\n",
    "    figsize=[12, 8],\n",
    "    title=\"Show all metrics\",\n",
    ")"
   ]
  },
  {
   "cell_type": "markdown",
   "id": "b2e433ae",
   "metadata": {
    "papermill": {
     "duration": 0.024382,
     "end_time": "2025-08-19T19:02:08.456777",
     "exception": false,
     "start_time": "2025-08-19T19:02:08.432395",
     "status": "completed"
    },
    "tags": []
   },
   "source": [
    "# Final Output"
   ]
  },
  {
   "cell_type": "code",
   "execution_count": 62,
   "id": "3871301e",
   "metadata": {
    "execution": {
     "iopub.execute_input": "2025-08-19T19:02:08.492656Z",
     "iopub.status.busy": "2025-08-19T19:02:08.491714Z",
     "iopub.status.idle": "2025-08-19T19:02:08.501525Z",
     "shell.execute_reply": "2025-08-19T19:02:08.500861Z"
    },
    "papermill": {
     "duration": 0.02669,
     "end_time": "2025-08-19T19:02:08.502963",
     "exception": false,
     "start_time": "2025-08-19T19:02:08.476273",
     "status": "completed"
    },
    "tags": []
   },
   "outputs": [
    {
     "data": {
      "text/plain": [
       "4"
      ]
     },
     "execution_count": 62,
     "metadata": {},
     "output_type": "execute_result"
    }
   ],
   "source": [
    "sub_universes = universe_analysis.generate_sub_universes()\n",
    "len(sub_universes)"
   ]
  },
  {
   "cell_type": "code",
   "execution_count": 63,
   "id": "d9cfdaca",
   "metadata": {
    "execution": {
     "iopub.execute_input": "2025-08-19T19:02:08.532112Z",
     "iopub.status.busy": "2025-08-19T19:02:08.531687Z",
     "iopub.status.idle": "2025-08-19T19:02:08.551193Z",
     "shell.execute_reply": "2025-08-19T19:02:08.550363Z"
    },
    "papermill": {
     "duration": 0.035844,
     "end_time": "2025-08-19T19:02:08.552899",
     "exception": false,
     "start_time": "2025-08-19T19:02:08.517055",
     "status": "completed"
    },
    "tags": []
   },
   "outputs": [],
   "source": [
    "def filter_sub_universe_data(sub_universe, org_test):\n",
    "    # Keep all rows — no filtering\n",
    "    keep_rows_mask = np.ones(org_test.shape[0], dtype=bool)\n",
    "\n",
    "    print(f\"[INFO] Keeping all rows: {keep_rows_mask.sum()} rows retained.\")\n",
    "    return keep_rows_mask"
   ]
  },
  {
   "cell_type": "code",
   "execution_count": 64,
   "id": "2bc31ac1",
   "metadata": {
    "execution": {
     "iopub.execute_input": "2025-08-19T19:02:08.589308Z",
     "iopub.status.busy": "2025-08-19T19:02:08.588085Z",
     "iopub.status.idle": "2025-08-19T19:02:15.465913Z",
     "shell.execute_reply": "2025-08-19T19:02:15.464937Z"
    },
    "papermill": {
     "duration": 6.89709,
     "end_time": "2025-08-19T19:02:15.468533",
     "exception": false,
     "start_time": "2025-08-19T19:02:08.571443",
     "status": "completed"
    },
    "tags": []
   },
   "outputs": [
    {
     "name": "stdout",
     "output_type": "stream",
     "text": [
      "Stopping execution_time clock.\n",
      "[INFO] Keeping all rows: 89710 rows retained.\n"
     ]
    },
    {
     "name": "stdout",
     "output_type": "stream",
     "text": [
      "[INFO] Keeping all rows: 89710 rows retained.\n"
     ]
    },
    {
     "name": "stdout",
     "output_type": "stream",
     "text": [
      "[INFO] Keeping all rows: 89710 rows retained.\n"
     ]
    },
    {
     "name": "stdout",
     "output_type": "stream",
     "text": [
      "[INFO] Keeping all rows: 89710 rows retained.\n"
     ]
    },
    {
     "data": {
      "text/html": [
       "<div>\n",
       "<style scoped>\n",
       "    .dataframe tbody tr th:only-of-type {\n",
       "        vertical-align: middle;\n",
       "    }\n",
       "\n",
       "    .dataframe tbody tr th {\n",
       "        vertical-align: top;\n",
       "    }\n",
       "\n",
       "    .dataframe thead th {\n",
       "        text-align: right;\n",
       "    }\n",
       "</style>\n",
       "<table border=\"1\" class=\"dataframe\">\n",
       "  <thead>\n",
       "    <tr style=\"text-align: right;\">\n",
       "      <th></th>\n",
       "      <th>run_no</th>\n",
       "      <th>universe_id</th>\n",
       "      <th>universe_settings</th>\n",
       "      <th>execution_time</th>\n",
       "      <th>test_size_n</th>\n",
       "      <th>test_size_frac</th>\n",
       "      <th>fair_main_equalized_odds_difference</th>\n",
       "      <th>fair_main_equalized_odds_ratio</th>\n",
       "      <th>fair_main_demographic_parity_difference</th>\n",
       "      <th>fair_main_demographic_parity_ratio</th>\n",
       "      <th>...</th>\n",
       "      <th>perf_grp_precision_0</th>\n",
       "      <th>perf_grp_precision_1</th>\n",
       "      <th>perf_grp_false positive rate_0</th>\n",
       "      <th>perf_grp_false positive rate_1</th>\n",
       "      <th>perf_grp_false negative rate_0</th>\n",
       "      <th>perf_grp_false negative rate_1</th>\n",
       "      <th>perf_grp_selection rate_0</th>\n",
       "      <th>perf_grp_selection rate_1</th>\n",
       "      <th>perf_grp_count_0</th>\n",
       "      <th>perf_grp_count_1</th>\n",
       "    </tr>\n",
       "  </thead>\n",
       "  <tbody>\n",
       "    <tr>\n",
       "      <th>0</th>\n",
       "      <td>3</td>\n",
       "      <td>31b0b62736f6fbdacf711de7098481dc</td>\n",
       "      <td>{\"cutoff\": \"quantile_0.1\", \"eval_fairness_grou...</td>\n",
       "      <td>20.156631</td>\n",
       "      <td>89710</td>\n",
       "      <td>1.0</td>\n",
       "      <td>0.094735</td>\n",
       "      <td>0.901902</td>\n",
       "      <td>0.088021</td>\n",
       "      <td>0.909057</td>\n",
       "      <td>...</td>\n",
       "      <td>NaN</td>\n",
       "      <td>NaN</td>\n",
       "      <td>NaN</td>\n",
       "      <td>NaN</td>\n",
       "      <td>NaN</td>\n",
       "      <td>NaN</td>\n",
       "      <td>NaN</td>\n",
       "      <td>NaN</td>\n",
       "      <td>NaN</td>\n",
       "      <td>NaN</td>\n",
       "    </tr>\n",
       "    <tr>\n",
       "      <th>0</th>\n",
       "      <td>3</td>\n",
       "      <td>31b0b62736f6fbdacf711de7098481dc</td>\n",
       "      <td>{\"cutoff\": \"quantile_0.1\", \"eval_fairness_grou...</td>\n",
       "      <td>20.156631</td>\n",
       "      <td>89710</td>\n",
       "      <td>1.0</td>\n",
       "      <td>0.094735</td>\n",
       "      <td>0.901902</td>\n",
       "      <td>0.088021</td>\n",
       "      <td>0.909057</td>\n",
       "      <td>...</td>\n",
       "      <td>0.117254</td>\n",
       "      <td>0.140883</td>\n",
       "      <td>0.965716</td>\n",
       "      <td>0.870981</td>\n",
       "      <td>0.015625</td>\n",
       "      <td>0.061926</td>\n",
       "      <td>0.967868</td>\n",
       "      <td>0.879847</td>\n",
       "      <td>20540.0</td>\n",
       "      <td>69170.0</td>\n",
       "    </tr>\n",
       "    <tr>\n",
       "      <th>0</th>\n",
       "      <td>3</td>\n",
       "      <td>31b0b62736f6fbdacf711de7098481dc</td>\n",
       "      <td>{\"cutoff\": \"quantile_0.25\", \"eval_fairness_gro...</td>\n",
       "      <td>20.156631</td>\n",
       "      <td>89710</td>\n",
       "      <td>1.0</td>\n",
       "      <td>0.214651</td>\n",
       "      <td>0.760917</td>\n",
       "      <td>0.198907</td>\n",
       "      <td>0.779815</td>\n",
       "      <td>...</td>\n",
       "      <td>NaN</td>\n",
       "      <td>NaN</td>\n",
       "      <td>NaN</td>\n",
       "      <td>NaN</td>\n",
       "      <td>NaN</td>\n",
       "      <td>NaN</td>\n",
       "      <td>NaN</td>\n",
       "      <td>NaN</td>\n",
       "      <td>NaN</td>\n",
       "      <td>NaN</td>\n",
       "    </tr>\n",
       "    <tr>\n",
       "      <th>0</th>\n",
       "      <td>3</td>\n",
       "      <td>31b0b62736f6fbdacf711de7098481dc</td>\n",
       "      <td>{\"cutoff\": \"quantile_0.25\", \"eval_fairness_gro...</td>\n",
       "      <td>20.156631</td>\n",
       "      <td>89710</td>\n",
       "      <td>1.0</td>\n",
       "      <td>0.214651</td>\n",
       "      <td>0.760917</td>\n",
       "      <td>0.198907</td>\n",
       "      <td>0.779815</td>\n",
       "      <td>...</td>\n",
       "      <td>0.120722</td>\n",
       "      <td>0.158372</td>\n",
       "      <td>0.897810</td>\n",
       "      <td>0.683158</td>\n",
       "      <td>0.054054</td>\n",
       "      <td>0.155689</td>\n",
       "      <td>0.903359</td>\n",
       "      <td>0.704453</td>\n",
       "      <td>20540.0</td>\n",
       "      <td>69170.0</td>\n",
       "    </tr>\n",
       "  </tbody>\n",
       "</table>\n",
       "<p>4 rows × 50 columns</p>\n",
       "</div>"
      ],
      "text/plain": [
       "  run_no                       universe_id  \\\n",
       "0      3  31b0b62736f6fbdacf711de7098481dc   \n",
       "0      3  31b0b62736f6fbdacf711de7098481dc   \n",
       "0      3  31b0b62736f6fbdacf711de7098481dc   \n",
       "0      3  31b0b62736f6fbdacf711de7098481dc   \n",
       "\n",
       "                                   universe_settings  execution_time  \\\n",
       "0  {\"cutoff\": \"quantile_0.1\", \"eval_fairness_grou...       20.156631   \n",
       "0  {\"cutoff\": \"quantile_0.1\", \"eval_fairness_grou...       20.156631   \n",
       "0  {\"cutoff\": \"quantile_0.25\", \"eval_fairness_gro...       20.156631   \n",
       "0  {\"cutoff\": \"quantile_0.25\", \"eval_fairness_gro...       20.156631   \n",
       "\n",
       "   test_size_n  test_size_frac  fair_main_equalized_odds_difference  \\\n",
       "0        89710             1.0                             0.094735   \n",
       "0        89710             1.0                             0.094735   \n",
       "0        89710             1.0                             0.214651   \n",
       "0        89710             1.0                             0.214651   \n",
       "\n",
       "   fair_main_equalized_odds_ratio  fair_main_demographic_parity_difference  \\\n",
       "0                        0.901902                                 0.088021   \n",
       "0                        0.901902                                 0.088021   \n",
       "0                        0.760917                                 0.198907   \n",
       "0                        0.760917                                 0.198907   \n",
       "\n",
       "   fair_main_demographic_parity_ratio  ...  perf_grp_precision_0  \\\n",
       "0                            0.909057  ...                   NaN   \n",
       "0                            0.909057  ...              0.117254   \n",
       "0                            0.779815  ...                   NaN   \n",
       "0                            0.779815  ...              0.120722   \n",
       "\n",
       "   perf_grp_precision_1  perf_grp_false positive rate_0  \\\n",
       "0                   NaN                             NaN   \n",
       "0              0.140883                        0.965716   \n",
       "0                   NaN                             NaN   \n",
       "0              0.158372                        0.897810   \n",
       "\n",
       "   perf_grp_false positive rate_1  perf_grp_false negative rate_0  \\\n",
       "0                             NaN                             NaN   \n",
       "0                        0.870981                        0.015625   \n",
       "0                             NaN                             NaN   \n",
       "0                        0.683158                        0.054054   \n",
       "\n",
       "   perf_grp_false negative rate_1  perf_grp_selection rate_0  \\\n",
       "0                             NaN                        NaN   \n",
       "0                        0.061926                   0.967868   \n",
       "0                             NaN                        NaN   \n",
       "0                        0.155689                   0.903359   \n",
       "\n",
       "   perf_grp_selection rate_1  perf_grp_count_0  perf_grp_count_1  \n",
       "0                        NaN               NaN               NaN  \n",
       "0                   0.879847           20540.0           69170.0  \n",
       "0                        NaN               NaN               NaN  \n",
       "0                   0.704453           20540.0           69170.0  \n",
       "\n",
       "[4 rows x 50 columns]"
      ]
     },
     "execution_count": 64,
     "metadata": {},
     "output_type": "execute_result"
    }
   ],
   "source": [
    "final_output = universe_analysis.generate_final_output(\n",
    "    y_pred_prob=probs_test,\n",
    "    y_test=y_true,\n",
    "    org_test=org_test,\n",
    "    filter_data=filter_sub_universe_data,\n",
    "    cp_metrics_df=cp_metrics_df,\n",
    "    save=True,\n",
    ")\n",
    "final_output"
   ]
  },
  {
   "cell_type": "code",
   "execution_count": null,
   "id": "8b80a1ff",
   "metadata": {
    "papermill": {
     "duration": 0.014754,
     "end_time": "2025-08-19T19:02:15.515674",
     "exception": false,
     "start_time": "2025-08-19T19:02:15.500920",
     "status": "completed"
    },
    "tags": []
   },
   "outputs": [],
   "source": []
  },
  {
   "cell_type": "code",
   "execution_count": null,
   "id": "275c9fad",
   "metadata": {
    "papermill": {
     "duration": 0.014306,
     "end_time": "2025-08-19T19:02:15.544457",
     "exception": false,
     "start_time": "2025-08-19T19:02:15.530151",
     "status": "completed"
    },
    "tags": []
   },
   "outputs": [],
   "source": []
  }
 ],
 "metadata": {
  "celltoolbar": "Tags",
  "kernelspec": {
   "display_name": "Python (CMA Fairness)",
   "language": "python",
   "name": "cma_fair_env"
  },
  "language_info": {
   "codemirror_mode": {
    "name": "ipython",
    "version": 3
   },
   "file_extension": ".py",
   "mimetype": "text/x-python",
   "name": "python",
   "nbconvert_exporter": "python",
   "pygments_lexer": "ipython3",
   "version": "3.10.12"
  },
  "papermill": {
   "default_parameters": {},
   "duration": 30.860436,
   "end_time": "2025-08-19T19:02:16.384707",
   "environment_variables": {},
   "exception": null,
   "input_path": "universe_analysis.ipynb",
   "output_path": "output/runs/3/notebooks/m_3-31b0b62736f6fbdacf711de7098481dc.ipynb",
   "parameters": {
    "output_dir": "output",
    "run_no": "3",
    "seed": "2023",
    "universe": "{\"cutoff\": [\"quantile_0.1\", \"quantile_0.25\"], \"eval_fairness_grouping\": [\"majority-minority\", \"nationality-all\"], \"exclude_features\": \"nationality-sex\", \"exclude_subgroups\": \"keep-all\", \"model\": \"penalized_logreg\", \"scale\": \"do-not-scale\", \"training_size\": \"1k\", \"training_year\": \"2012_14\"}",
    "universe_id": "31b0b62736f6fbdacf711de7098481dc"
   },
   "start_time": "2025-08-19T19:01:45.524271",
   "version": "2.6.0"
  }
 },
 "nbformat": 4,
 "nbformat_minor": 5
}