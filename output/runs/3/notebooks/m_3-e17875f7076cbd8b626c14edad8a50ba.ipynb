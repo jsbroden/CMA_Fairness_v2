{
 "cells": [
  {
   "cell_type": "markdown",
   "id": "ef23dbb3",
   "metadata": {
    "papermill": {
     "duration": 0.008912,
     "end_time": "2025-08-19T18:16:49.891747",
     "exception": false,
     "start_time": "2025-08-19T18:16:49.882835",
     "status": "completed"
    },
    "tags": []
   },
   "source": [
    "# Setup"
   ]
  },
  {
   "cell_type": "code",
   "execution_count": 1,
   "id": "0bc8e7dc",
   "metadata": {
    "execution": {
     "iopub.execute_input": "2025-08-19T18:16:49.911658Z",
     "iopub.status.busy": "2025-08-19T18:16:49.910148Z",
     "iopub.status.idle": "2025-08-19T18:16:49.931221Z",
     "shell.execute_reply": "2025-08-19T18:16:49.930189Z"
    },
    "papermill": {
     "duration": 0.032571,
     "end_time": "2025-08-19T18:16:49.932770",
     "exception": false,
     "start_time": "2025-08-19T18:16:49.900199",
     "status": "completed"
    },
    "tags": []
   },
   "outputs": [
    {
     "name": "stdout",
     "output_type": "stream",
     "text": [
      "/dss/dsshome1/0C/ra93lal2/cma/CMA_Fairness_v2\n"
     ]
    },
    {
     "name": "stderr",
     "output_type": "stream",
     "text": [
      "/dss/dsshome1/0C/ra93lal2/.local/share/virtualenvs/CMA_Fairness_v2-3j10GkSs/lib/python3.10/site-packages/IPython/core/magics/osm.py:393: UserWarning: This is now an optional IPython functionality, using bookmarks requires you to install the `pickleshare` library.\n",
      "  bkms = self.shell.db.get('bookmarks', {})\n",
      "/dss/dsshome1/0C/ra93lal2/.local/share/virtualenvs/CMA_Fairness_v2-3j10GkSs/lib/python3.10/site-packages/IPython/core/magics/osm.py:417: UserWarning: This is now an optional IPython functionality, setting dhist requires you to install the `pickleshare` library.\n",
      "  self.shell.db['dhist'] = compress_dhist(dhist)[-100:]\n"
     ]
    }
   ],
   "source": [
    "%cd ~/cma/CMA_Fairness_v2"
   ]
  },
  {
   "cell_type": "markdown",
   "id": "9d235661",
   "metadata": {
    "papermill": {
     "duration": 0.010249,
     "end_time": "2025-08-19T18:16:49.957587",
     "exception": false,
     "start_time": "2025-08-19T18:16:49.947338",
     "status": "completed"
    },
    "tags": []
   },
   "source": [
    "The following cell holds the definition of our parameters, these values can be overriden by rendering the with e.g. the following command:\n",
    "\n",
    "papermill -p alpha 0.2 -p ratio 0.3 universe_analysis.ipynb output/test_run.ipynb"
   ]
  },
  {
   "cell_type": "code",
   "execution_count": 2,
   "id": "4a789d8e",
   "metadata": {
    "execution": {
     "iopub.execute_input": "2025-08-19T18:16:49.977529Z",
     "iopub.status.busy": "2025-08-19T18:16:49.976153Z",
     "iopub.status.idle": "2025-08-19T18:16:49.985520Z",
     "shell.execute_reply": "2025-08-19T18:16:49.983464Z"
    },
    "papermill": {
     "duration": 0.020878,
     "end_time": "2025-08-19T18:16:49.986937",
     "exception": false,
     "start_time": "2025-08-19T18:16:49.966059",
     "status": "completed"
    },
    "tags": []
   },
   "outputs": [
    {
     "name": "stdout",
     "output_type": "stream",
     "text": [
      "Current working directory: /dss/dsshome1/0C/ra93lal2/cma/CMA_Fairness_v2\n"
     ]
    }
   ],
   "source": [
    "import os\n",
    "print(\"Current working directory:\", os.getcwd())"
   ]
  },
  {
   "cell_type": "code",
   "execution_count": 3,
   "id": "4132aaed",
   "metadata": {
    "execution": {
     "iopub.execute_input": "2025-08-19T18:16:50.009485Z",
     "iopub.status.busy": "2025-08-19T18:16:50.008190Z",
     "iopub.status.idle": "2025-08-19T18:16:50.017951Z",
     "shell.execute_reply": "2025-08-19T18:16:50.016522Z"
    },
    "papermill": {
     "duration": 0.021232,
     "end_time": "2025-08-19T18:16:50.019371",
     "exception": false,
     "start_time": "2025-08-19T18:16:49.998139",
     "status": "completed"
    },
    "tags": [
     "parameters"
    ]
   },
   "outputs": [],
   "source": [
    "run_no = 0\n",
    "universe_id = \"test\"\n",
    "universe = {\n",
    "    \"training_size\": \"5k\", # \"25k\", \"5k\", \"1k\"\n",
    "    \"training_year\": \"2012_14\", # \"2014\", \"2012_14\", \"2010_14\"\n",
    "    \"scale\": \"scale\", # \"scale\", \"do-not-scale\",\n",
    "    \"model\": \"elasticnet\", # \"logreg\", \"penalized_logreg\", \"rf\", \"gbm\", \"elasticnet\"\n",
    "    \"cutoff\": [\"quantile_0.15\", \"quantile_0.30\"],\n",
    "    \"exclude_features\": \"age\", # \"none\", \"nationality\", \"sex\", \"nationality-sex\", \"age\"\n",
    "    \"exclude_subgroups\": \"drop-non-german\", # \"keep-all\", \"drop-non-german\"\n",
    "    \"eval_fairness_grouping\": [\"majority-minority\", \"nationality-all\"]\n",
    "}\n",
    "\n",
    "output_dir=\"./output\"\n",
    "seed=0"
   ]
  },
  {
   "cell_type": "code",
   "execution_count": 4,
   "id": "84dd2a8e",
   "metadata": {
    "execution": {
     "iopub.execute_input": "2025-08-19T18:16:50.042912Z",
     "iopub.status.busy": "2025-08-19T18:16:50.041840Z",
     "iopub.status.idle": "2025-08-19T18:16:50.050165Z",
     "shell.execute_reply": "2025-08-19T18:16:50.048614Z"
    },
    "papermill": {
     "duration": 0.021194,
     "end_time": "2025-08-19T18:16:50.051784",
     "exception": false,
     "start_time": "2025-08-19T18:16:50.030590",
     "status": "completed"
    },
    "tags": [
     "injected-parameters"
    ]
   },
   "outputs": [],
   "source": [
    "# Parameters\n",
    "universe_id = \"e17875f7076cbd8b626c14edad8a50ba\"\n",
    "run_no = \"3\"\n",
    "universe = \"{\\\"cutoff\\\": [\\\"quantile_0.1\\\", \\\"quantile_0.25\\\"], \\\"eval_fairness_grouping\\\": [\\\"majority-minority\\\", \\\"nationality-all\\\"], \\\"exclude_features\\\": \\\"nationality\\\", \\\"exclude_subgroups\\\": \\\"keep-all\\\", \\\"model\\\": \\\"elasticnet\\\", \\\"scale\\\": \\\"scale\\\", \\\"training_size\\\": \\\"25k\\\", \\\"training_year\\\": \\\"2010_14\\\"}\"\n",
    "output_dir = \"output\"\n",
    "seed = \"2023\"\n"
   ]
  },
  {
   "cell_type": "code",
   "execution_count": 5,
   "id": "a5d7941f",
   "metadata": {
    "execution": {
     "iopub.execute_input": "2025-08-19T18:16:50.075203Z",
     "iopub.status.busy": "2025-08-19T18:16:50.073867Z",
     "iopub.status.idle": "2025-08-19T18:16:50.081807Z",
     "shell.execute_reply": "2025-08-19T18:16:50.080194Z"
    },
    "papermill": {
     "duration": 0.020584,
     "end_time": "2025-08-19T18:16:50.083353",
     "exception": false,
     "start_time": "2025-08-19T18:16:50.062769",
     "status": "completed"
    },
    "tags": []
   },
   "outputs": [],
   "source": [
    "import json\n",
    "if isinstance(universe, str):\n",
    "    universe = json.loads(universe)"
   ]
  },
  {
   "cell_type": "code",
   "execution_count": 6,
   "id": "7076ccb1",
   "metadata": {
    "execution": {
     "iopub.execute_input": "2025-08-19T18:16:50.104998Z",
     "iopub.status.busy": "2025-08-19T18:16:50.103854Z",
     "iopub.status.idle": "2025-08-19T18:16:50.158079Z",
     "shell.execute_reply": "2025-08-19T18:16:50.157486Z"
    },
    "papermill": {
     "duration": 0.067338,
     "end_time": "2025-08-19T18:16:50.160247",
     "exception": false,
     "start_time": "2025-08-19T18:16:50.092909",
     "status": "completed"
    },
    "tags": []
   },
   "outputs": [],
   "source": [
    "# Auto-reload the custom package\n",
    "%load_ext autoreload\n",
    "%autoreload 1\n",
    "%aimport fairness_multiverse"
   ]
  },
  {
   "cell_type": "code",
   "execution_count": 7,
   "id": "94c8eb93",
   "metadata": {
    "execution": {
     "iopub.execute_input": "2025-08-19T18:16:50.190734Z",
     "iopub.status.busy": "2025-08-19T18:16:50.189251Z",
     "iopub.status.idle": "2025-08-19T18:16:51.653999Z",
     "shell.execute_reply": "2025-08-19T18:16:51.652978Z"
    },
    "papermill": {
     "duration": 1.479806,
     "end_time": "2025-08-19T18:16:51.655851",
     "exception": false,
     "start_time": "2025-08-19T18:16:50.176045",
     "status": "completed"
    },
    "tags": []
   },
   "outputs": [],
   "source": [
    "from fairness_multiverse.universe import UniverseAnalysis\n",
    "\n",
    "universe_analysis = UniverseAnalysis(\n",
    "    run_no = run_no,\n",
    "    universe_id = universe_id,\n",
    "    universe = universe,\n",
    "    output_dir=output_dir,\n",
    ")"
   ]
  },
  {
   "cell_type": "code",
   "execution_count": 8,
   "id": "2a6381cf",
   "metadata": {
    "execution": {
     "iopub.execute_input": "2025-08-19T18:16:51.677853Z",
     "iopub.status.busy": "2025-08-19T18:16:51.676585Z",
     "iopub.status.idle": "2025-08-19T18:16:51.687834Z",
     "shell.execute_reply": "2025-08-19T18:16:51.686747Z"
    },
    "papermill": {
     "duration": 0.023963,
     "end_time": "2025-08-19T18:16:51.689330",
     "exception": false,
     "start_time": "2025-08-19T18:16:51.665367",
     "status": "completed"
    },
    "tags": []
   },
   "outputs": [
    {
     "name": "stdout",
     "output_type": "stream",
     "text": [
      "Using Seed: 2023\n"
     ]
    }
   ],
   "source": [
    "import numpy as np\n",
    "parsed_seed = int(seed)\n",
    "np.random.seed(parsed_seed)\n",
    "print(f\"Using Seed: {parsed_seed}\")"
   ]
  },
  {
   "cell_type": "markdown",
   "id": "b6e958b4",
   "metadata": {
    "papermill": {
     "duration": 0.009596,
     "end_time": "2025-08-19T18:16:51.711401",
     "exception": false,
     "start_time": "2025-08-19T18:16:51.701805",
     "status": "completed"
    },
    "tags": []
   },
   "source": [
    "# Loading Data"
   ]
  },
  {
   "cell_type": "code",
   "execution_count": 9,
   "id": "98701482",
   "metadata": {
    "execution": {
     "iopub.execute_input": "2025-08-19T18:16:51.731795Z",
     "iopub.status.busy": "2025-08-19T18:16:51.730745Z",
     "iopub.status.idle": "2025-08-19T18:17:02.026302Z",
     "shell.execute_reply": "2025-08-19T18:17:02.025143Z"
    },
    "papermill": {
     "duration": 10.308145,
     "end_time": "2025-08-19T18:17:02.028401",
     "exception": false,
     "start_time": "2025-08-19T18:16:51.720256",
     "status": "completed"
    },
    "tags": []
   },
   "outputs": [
    {
     "name": "stdout",
     "output_type": "stream",
     "text": [
      "Loading SIAB data from cache: data/siab_cached.csv.gz\n"
     ]
    },
    {
     "name": "stdout",
     "output_type": "stream",
     "text": [
      "(643690, 164)\n"
     ]
    }
   ],
   "source": [
    "from pathlib import Path\n",
    "import pandas as pd\n",
    "\n",
    "# File paths\n",
    "raw_file = Path(\"data/raw/siab.csv\")\n",
    "cache_file = Path(\"data/siab_cached.csv.gz\")\n",
    "\n",
    "# Ensure cache directory exists\n",
    "cache_file.parent.mkdir(parents=True, exist_ok=True)\n",
    "\n",
    "# Load with simple caching\n",
    "if cache_file.exists():\n",
    "    print(f\"Loading SIAB data from cache: {cache_file}\")\n",
    "    siab = pd.read_csv(cache_file, compression='gzip')\n",
    "else:\n",
    "    print(f\"Cache not found. Reading raw SIAB data: {raw_file}\")\n",
    "    siab = pd.read_csv(raw_file)\n",
    "    siab.to_csv(cache_file, index=False, compression='gzip')\n",
    "    print(f\"Cached SIAB data to: {cache_file}\")\n",
    "\n",
    "print(siab.shape)"
   ]
  },
  {
   "cell_type": "code",
   "execution_count": 10,
   "id": "058d2abb",
   "metadata": {
    "execution": {
     "iopub.execute_input": "2025-08-19T18:17:02.052059Z",
     "iopub.status.busy": "2025-08-19T18:17:02.051529Z",
     "iopub.status.idle": "2025-08-19T18:17:02.232666Z",
     "shell.execute_reply": "2025-08-19T18:17:02.231788Z"
    },
    "papermill": {
     "duration": 0.193324,
     "end_time": "2025-08-19T18:17:02.234256",
     "exception": false,
     "start_time": "2025-08-19T18:17:02.040932",
     "status": "completed"
    },
    "tags": []
   },
   "outputs": [
    {
     "data": {
      "text/html": [
       "<div>\n",
       "<style scoped>\n",
       "    .dataframe tbody tr th:only-of-type {\n",
       "        vertical-align: middle;\n",
       "    }\n",
       "\n",
       "    .dataframe tbody tr th {\n",
       "        vertical-align: top;\n",
       "    }\n",
       "\n",
       "    .dataframe thead th {\n",
       "        text-align: right;\n",
       "    }\n",
       "</style>\n",
       "<table border=\"1\" class=\"dataframe\">\n",
       "  <thead>\n",
       "    <tr style=\"text-align: right;\">\n",
       "      <th></th>\n",
       "      <th>persnr</th>\n",
       "      <th>year</th>\n",
       "      <th>nrEntry</th>\n",
       "      <th>ltue</th>\n",
       "      <th>employed_before</th>\n",
       "      <th>receipt_leh_before</th>\n",
       "      <th>receipt_lhg_before</th>\n",
       "      <th>se_before</th>\n",
       "      <th>ASU_notue_seeking_before</th>\n",
       "      <th>ASU_other_before</th>\n",
       "      <th>...</th>\n",
       "      <th>minijob_tot_dur_byage</th>\n",
       "      <th>ft_tot_dur_byage</th>\n",
       "      <th>befrist_tot_dur_byage</th>\n",
       "      <th>leih_tot_dur_byage</th>\n",
       "      <th>LHG_tot_dur_byage</th>\n",
       "      <th>LEH_tot_dur_byage</th>\n",
       "      <th>almp_tot_dur_byage</th>\n",
       "      <th>almp_aw_tot_dur_byage</th>\n",
       "      <th>se_tot_dur_byage</th>\n",
       "      <th>seeking1_tot_dur_byage</th>\n",
       "    </tr>\n",
       "  </thead>\n",
       "  <tbody>\n",
       "    <tr>\n",
       "      <th>0</th>\n",
       "      <td>7</td>\n",
       "      <td>2015</td>\n",
       "      <td>1</td>\n",
       "      <td>0</td>\n",
       "      <td>1</td>\n",
       "      <td>0</td>\n",
       "      <td>0</td>\n",
       "      <td>0</td>\n",
       "      <td>1</td>\n",
       "      <td>0</td>\n",
       "      <td>...</td>\n",
       "      <td>0.000000</td>\n",
       "      <td>0.000000</td>\n",
       "      <td>15.043478</td>\n",
       "      <td>0.000000</td>\n",
       "      <td>0.000000</td>\n",
       "      <td>0.000000</td>\n",
       "      <td>0.000000</td>\n",
       "      <td>0.000000</td>\n",
       "      <td>0.000000</td>\n",
       "      <td>0.000000</td>\n",
       "    </tr>\n",
       "    <tr>\n",
       "      <th>1</th>\n",
       "      <td>18</td>\n",
       "      <td>2010</td>\n",
       "      <td>1</td>\n",
       "      <td>1</td>\n",
       "      <td>0</td>\n",
       "      <td>0</td>\n",
       "      <td>0</td>\n",
       "      <td>0</td>\n",
       "      <td>0</td>\n",
       "      <td>0</td>\n",
       "      <td>...</td>\n",
       "      <td>0.000000</td>\n",
       "      <td>0.000000</td>\n",
       "      <td>0.000000</td>\n",
       "      <td>0.000000</td>\n",
       "      <td>0.000000</td>\n",
       "      <td>0.000000</td>\n",
       "      <td>0.000000</td>\n",
       "      <td>0.000000</td>\n",
       "      <td>0.000000</td>\n",
       "      <td>0.000000</td>\n",
       "    </tr>\n",
       "    <tr>\n",
       "      <th>2</th>\n",
       "      <td>18</td>\n",
       "      <td>2011</td>\n",
       "      <td>2</td>\n",
       "      <td>0</td>\n",
       "      <td>1</td>\n",
       "      <td>0</td>\n",
       "      <td>1</td>\n",
       "      <td>0</td>\n",
       "      <td>1</td>\n",
       "      <td>0</td>\n",
       "      <td>...</td>\n",
       "      <td>2.714286</td>\n",
       "      <td>2.714286</td>\n",
       "      <td>0.000000</td>\n",
       "      <td>0.000000</td>\n",
       "      <td>10.775510</td>\n",
       "      <td>0.000000</td>\n",
       "      <td>8.367347</td>\n",
       "      <td>0.000000</td>\n",
       "      <td>0.000000</td>\n",
       "      <td>9.836735</td>\n",
       "    </tr>\n",
       "    <tr>\n",
       "      <th>3</th>\n",
       "      <td>18</td>\n",
       "      <td>2012</td>\n",
       "      <td>3</td>\n",
       "      <td>0</td>\n",
       "      <td>1</td>\n",
       "      <td>0</td>\n",
       "      <td>1</td>\n",
       "      <td>0</td>\n",
       "      <td>1</td>\n",
       "      <td>0</td>\n",
       "      <td>...</td>\n",
       "      <td>4.200000</td>\n",
       "      <td>4.200000</td>\n",
       "      <td>0.000000</td>\n",
       "      <td>0.000000</td>\n",
       "      <td>12.100000</td>\n",
       "      <td>0.000000</td>\n",
       "      <td>9.400000</td>\n",
       "      <td>0.000000</td>\n",
       "      <td>0.000000</td>\n",
       "      <td>9.960000</td>\n",
       "    </tr>\n",
       "    <tr>\n",
       "      <th>4</th>\n",
       "      <td>18</td>\n",
       "      <td>2012</td>\n",
       "      <td>4</td>\n",
       "      <td>0</td>\n",
       "      <td>1</td>\n",
       "      <td>0</td>\n",
       "      <td>1</td>\n",
       "      <td>0</td>\n",
       "      <td>1</td>\n",
       "      <td>0</td>\n",
       "      <td>...</td>\n",
       "      <td>5.460000</td>\n",
       "      <td>5.460000</td>\n",
       "      <td>0.000000</td>\n",
       "      <td>0.000000</td>\n",
       "      <td>13.360000</td>\n",
       "      <td>0.000000</td>\n",
       "      <td>10.320000</td>\n",
       "      <td>0.000000</td>\n",
       "      <td>0.000000</td>\n",
       "      <td>10.280000</td>\n",
       "    </tr>\n",
       "    <tr>\n",
       "      <th>...</th>\n",
       "      <td>...</td>\n",
       "      <td>...</td>\n",
       "      <td>...</td>\n",
       "      <td>...</td>\n",
       "      <td>...</td>\n",
       "      <td>...</td>\n",
       "      <td>...</td>\n",
       "      <td>...</td>\n",
       "      <td>...</td>\n",
       "      <td>...</td>\n",
       "      <td>...</td>\n",
       "      <td>...</td>\n",
       "      <td>...</td>\n",
       "      <td>...</td>\n",
       "      <td>...</td>\n",
       "      <td>...</td>\n",
       "      <td>...</td>\n",
       "      <td>...</td>\n",
       "      <td>...</td>\n",
       "      <td>...</td>\n",
       "      <td>...</td>\n",
       "    </tr>\n",
       "    <tr>\n",
       "      <th>643685</th>\n",
       "      <td>1827860</td>\n",
       "      <td>2013</td>\n",
       "      <td>1</td>\n",
       "      <td>0</td>\n",
       "      <td>0</td>\n",
       "      <td>0</td>\n",
       "      <td>1</td>\n",
       "      <td>0</td>\n",
       "      <td>0</td>\n",
       "      <td>1</td>\n",
       "      <td>...</td>\n",
       "      <td>0.000000</td>\n",
       "      <td>0.000000</td>\n",
       "      <td>0.000000</td>\n",
       "      <td>0.000000</td>\n",
       "      <td>0.612903</td>\n",
       "      <td>0.000000</td>\n",
       "      <td>0.000000</td>\n",
       "      <td>0.000000</td>\n",
       "      <td>0.000000</td>\n",
       "      <td>0.000000</td>\n",
       "    </tr>\n",
       "    <tr>\n",
       "      <th>643686</th>\n",
       "      <td>1827860</td>\n",
       "      <td>2015</td>\n",
       "      <td>2</td>\n",
       "      <td>1</td>\n",
       "      <td>0</td>\n",
       "      <td>0</td>\n",
       "      <td>1</td>\n",
       "      <td>0</td>\n",
       "      <td>1</td>\n",
       "      <td>0</td>\n",
       "      <td>...</td>\n",
       "      <td>0.000000</td>\n",
       "      <td>0.000000</td>\n",
       "      <td>0.212121</td>\n",
       "      <td>0.212121</td>\n",
       "      <td>17.363636</td>\n",
       "      <td>0.000000</td>\n",
       "      <td>8.909091</td>\n",
       "      <td>0.000000</td>\n",
       "      <td>0.000000</td>\n",
       "      <td>7.121212</td>\n",
       "    </tr>\n",
       "    <tr>\n",
       "      <th>643687</th>\n",
       "      <td>1827860</td>\n",
       "      <td>2016</td>\n",
       "      <td>3</td>\n",
       "      <td>1</td>\n",
       "      <td>0</td>\n",
       "      <td>0</td>\n",
       "      <td>1</td>\n",
       "      <td>1</td>\n",
       "      <td>0</td>\n",
       "      <td>1</td>\n",
       "      <td>...</td>\n",
       "      <td>0.000000</td>\n",
       "      <td>0.000000</td>\n",
       "      <td>0.294118</td>\n",
       "      <td>0.205882</td>\n",
       "      <td>34.705882</td>\n",
       "      <td>0.000000</td>\n",
       "      <td>10.352941</td>\n",
       "      <td>1.705882</td>\n",
       "      <td>1.705882</td>\n",
       "      <td>23.911765</td>\n",
       "    </tr>\n",
       "    <tr>\n",
       "      <th>643688</th>\n",
       "      <td>1827869</td>\n",
       "      <td>2013</td>\n",
       "      <td>1</td>\n",
       "      <td>1</td>\n",
       "      <td>1</td>\n",
       "      <td>0</td>\n",
       "      <td>0</td>\n",
       "      <td>0</td>\n",
       "      <td>1</td>\n",
       "      <td>0</td>\n",
       "      <td>...</td>\n",
       "      <td>0.000000</td>\n",
       "      <td>0.000000</td>\n",
       "      <td>0.000000</td>\n",
       "      <td>0.000000</td>\n",
       "      <td>0.000000</td>\n",
       "      <td>0.525424</td>\n",
       "      <td>0.000000</td>\n",
       "      <td>0.000000</td>\n",
       "      <td>0.000000</td>\n",
       "      <td>0.000000</td>\n",
       "    </tr>\n",
       "    <tr>\n",
       "      <th>643689</th>\n",
       "      <td>1827869</td>\n",
       "      <td>2014</td>\n",
       "      <td>2</td>\n",
       "      <td>0</td>\n",
       "      <td>0</td>\n",
       "      <td>1</td>\n",
       "      <td>0</td>\n",
       "      <td>0</td>\n",
       "      <td>1</td>\n",
       "      <td>0</td>\n",
       "      <td>...</td>\n",
       "      <td>0.000000</td>\n",
       "      <td>0.666667</td>\n",
       "      <td>0.666667</td>\n",
       "      <td>0.000000</td>\n",
       "      <td>0.000000</td>\n",
       "      <td>8.950000</td>\n",
       "      <td>1.033333</td>\n",
       "      <td>0.083333</td>\n",
       "      <td>0.083333</td>\n",
       "      <td>8.133333</td>\n",
       "    </tr>\n",
       "  </tbody>\n",
       "</table>\n",
       "<p>643690 rows × 164 columns</p>\n",
       "</div>"
      ],
      "text/plain": [
       "         persnr  year  nrEntry  ltue  employed_before  receipt_leh_before  \\\n",
       "0             7  2015        1     0                1                   0   \n",
       "1            18  2010        1     1                0                   0   \n",
       "2            18  2011        2     0                1                   0   \n",
       "3            18  2012        3     0                1                   0   \n",
       "4            18  2012        4     0                1                   0   \n",
       "...         ...   ...      ...   ...              ...                 ...   \n",
       "643685  1827860  2013        1     0                0                   0   \n",
       "643686  1827860  2015        2     1                0                   0   \n",
       "643687  1827860  2016        3     1                0                   0   \n",
       "643688  1827869  2013        1     1                1                   0   \n",
       "643689  1827869  2014        2     0                0                   1   \n",
       "\n",
       "        receipt_lhg_before  se_before  ASU_notue_seeking_before  \\\n",
       "0                        0          0                         1   \n",
       "1                        0          0                         0   \n",
       "2                        1          0                         1   \n",
       "3                        1          0                         1   \n",
       "4                        1          0                         1   \n",
       "...                    ...        ...                       ...   \n",
       "643685                   1          0                         0   \n",
       "643686                   1          0                         1   \n",
       "643687                   1          1                         0   \n",
       "643688                   0          0                         1   \n",
       "643689                   0          0                         1   \n",
       "\n",
       "        ASU_other_before  ...  minijob_tot_dur_byage  ft_tot_dur_byage  \\\n",
       "0                      0  ...               0.000000          0.000000   \n",
       "1                      0  ...               0.000000          0.000000   \n",
       "2                      0  ...               2.714286          2.714286   \n",
       "3                      0  ...               4.200000          4.200000   \n",
       "4                      0  ...               5.460000          5.460000   \n",
       "...                  ...  ...                    ...               ...   \n",
       "643685                 1  ...               0.000000          0.000000   \n",
       "643686                 0  ...               0.000000          0.000000   \n",
       "643687                 1  ...               0.000000          0.000000   \n",
       "643688                 0  ...               0.000000          0.000000   \n",
       "643689                 0  ...               0.000000          0.666667   \n",
       "\n",
       "        befrist_tot_dur_byage  leih_tot_dur_byage  LHG_tot_dur_byage  \\\n",
       "0                   15.043478            0.000000           0.000000   \n",
       "1                    0.000000            0.000000           0.000000   \n",
       "2                    0.000000            0.000000          10.775510   \n",
       "3                    0.000000            0.000000          12.100000   \n",
       "4                    0.000000            0.000000          13.360000   \n",
       "...                       ...                 ...                ...   \n",
       "643685               0.000000            0.000000           0.612903   \n",
       "643686               0.212121            0.212121          17.363636   \n",
       "643687               0.294118            0.205882          34.705882   \n",
       "643688               0.000000            0.000000           0.000000   \n",
       "643689               0.666667            0.000000           0.000000   \n",
       "\n",
       "        LEH_tot_dur_byage  almp_tot_dur_byage  almp_aw_tot_dur_byage  \\\n",
       "0                0.000000            0.000000               0.000000   \n",
       "1                0.000000            0.000000               0.000000   \n",
       "2                0.000000            8.367347               0.000000   \n",
       "3                0.000000            9.400000               0.000000   \n",
       "4                0.000000           10.320000               0.000000   \n",
       "...                   ...                 ...                    ...   \n",
       "643685           0.000000            0.000000               0.000000   \n",
       "643686           0.000000            8.909091               0.000000   \n",
       "643687           0.000000           10.352941               1.705882   \n",
       "643688           0.525424            0.000000               0.000000   \n",
       "643689           8.950000            1.033333               0.083333   \n",
       "\n",
       "        se_tot_dur_byage  seeking1_tot_dur_byage  \n",
       "0               0.000000                0.000000  \n",
       "1               0.000000                0.000000  \n",
       "2               0.000000                9.836735  \n",
       "3               0.000000                9.960000  \n",
       "4               0.000000               10.280000  \n",
       "...                  ...                     ...  \n",
       "643685          0.000000                0.000000  \n",
       "643686          0.000000                7.121212  \n",
       "643687          1.705882               23.911765  \n",
       "643688          0.000000                0.000000  \n",
       "643689          0.083333                8.133333  \n",
       "\n",
       "[643690 rows x 164 columns]"
      ]
     },
     "execution_count": 10,
     "metadata": {},
     "output_type": "execute_result"
    }
   ],
   "source": [
    "siab"
   ]
  },
  {
   "cell_type": "markdown",
   "id": "1f87e805",
   "metadata": {
    "papermill": {
     "duration": 0.00997,
     "end_time": "2025-08-19T18:17:02.256079",
     "exception": false,
     "start_time": "2025-08-19T18:17:02.246109",
     "status": "completed"
    },
    "tags": []
   },
   "source": [
    "# Splitting Data and Setting Training Data Size"
   ]
  },
  {
   "cell_type": "code",
   "execution_count": 11,
   "id": "910ae358",
   "metadata": {
    "execution": {
     "iopub.execute_input": "2025-08-19T18:17:02.277556Z",
     "iopub.status.busy": "2025-08-19T18:17:02.277127Z",
     "iopub.status.idle": "2025-08-19T18:17:03.518056Z",
     "shell.execute_reply": "2025-08-19T18:17:03.517324Z"
    },
    "papermill": {
     "duration": 1.253741,
     "end_time": "2025-08-19T18:17:03.519800",
     "exception": false,
     "start_time": "2025-08-19T18:17:02.266059",
     "status": "completed"
    },
    "tags": []
   },
   "outputs": [],
   "source": [
    "from fairness_multiverse.universe import sample_by_year_size\n",
    "\n",
    "siab_train = sample_by_year_size(siab,\n",
    "                               training_year=universe[\"training_year\"],\n",
    "                               training_size=universe[\"training_size\"])"
   ]
  },
  {
   "cell_type": "code",
   "execution_count": 12,
   "id": "919c8ff5",
   "metadata": {
    "execution": {
     "iopub.execute_input": "2025-08-19T18:17:03.542352Z",
     "iopub.status.busy": "2025-08-19T18:17:03.541872Z",
     "iopub.status.idle": "2025-08-19T18:17:03.548275Z",
     "shell.execute_reply": "2025-08-19T18:17:03.547421Z"
    },
    "papermill": {
     "duration": 0.019625,
     "end_time": "2025-08-19T18:17:03.549539",
     "exception": false,
     "start_time": "2025-08-19T18:17:03.529914",
     "status": "completed"
    },
    "tags": []
   },
   "outputs": [
    {
     "data": {
      "text/plain": [
       "(25000, 164)"
      ]
     },
     "execution_count": 12,
     "metadata": {},
     "output_type": "execute_result"
    }
   ],
   "source": [
    "siab_train.shape"
   ]
  },
  {
   "cell_type": "code",
   "execution_count": 13,
   "id": "feb13bf4",
   "metadata": {
    "execution": {
     "iopub.execute_input": "2025-08-19T18:17:03.596309Z",
     "iopub.status.busy": "2025-08-19T18:17:03.595928Z",
     "iopub.status.idle": "2025-08-19T18:17:03.605040Z",
     "shell.execute_reply": "2025-08-19T18:17:03.604346Z"
    },
    "papermill": {
     "duration": 0.043937,
     "end_time": "2025-08-19T18:17:03.607799",
     "exception": false,
     "start_time": "2025-08-19T18:17:03.563862",
     "status": "completed"
    },
    "tags": []
   },
   "outputs": [
    {
     "data": {
      "text/plain": [
       "year\n",
       "2010    5000\n",
       "2011    5000\n",
       "2012    5000\n",
       "2013    5000\n",
       "2014    5000\n",
       "dtype: int64"
      ]
     },
     "metadata": {},
     "output_type": "display_data"
    }
   ],
   "source": [
    "display(siab_train.groupby(\"year\").size())"
   ]
  },
  {
   "cell_type": "code",
   "execution_count": 14,
   "id": "0997782f",
   "metadata": {
    "execution": {
     "iopub.execute_input": "2025-08-19T18:17:03.640367Z",
     "iopub.status.busy": "2025-08-19T18:17:03.639781Z",
     "iopub.status.idle": "2025-08-19T18:17:04.001597Z",
     "shell.execute_reply": "2025-08-19T18:17:04.000651Z"
    },
    "papermill": {
     "duration": 0.376927,
     "end_time": "2025-08-19T18:17:04.003876",
     "exception": false,
     "start_time": "2025-08-19T18:17:03.626949",
     "status": "completed"
    },
    "tags": []
   },
   "outputs": [],
   "source": [
    "#siab_train = siab_s[siab_s.year < 2015]\n",
    "siab_calib = siab[siab.year == 2015]\n",
    "siab_test = siab[siab.year == 2016]"
   ]
  },
  {
   "cell_type": "code",
   "execution_count": 15,
   "id": "2c1e4012",
   "metadata": {
    "execution": {
     "iopub.execute_input": "2025-08-19T18:17:04.041905Z",
     "iopub.status.busy": "2025-08-19T18:17:04.041518Z",
     "iopub.status.idle": "2025-08-19T18:17:04.047408Z",
     "shell.execute_reply": "2025-08-19T18:17:04.046527Z"
    },
    "papermill": {
     "duration": 0.025871,
     "end_time": "2025-08-19T18:17:04.048743",
     "exception": false,
     "start_time": "2025-08-19T18:17:04.022872",
     "status": "completed"
    },
    "tags": []
   },
   "outputs": [],
   "source": [
    "#siab_calib.shape"
   ]
  },
  {
   "cell_type": "code",
   "execution_count": 16,
   "id": "f66b54ca",
   "metadata": {
    "execution": {
     "iopub.execute_input": "2025-08-19T18:17:04.071607Z",
     "iopub.status.busy": "2025-08-19T18:17:04.071086Z",
     "iopub.status.idle": "2025-08-19T18:17:04.076334Z",
     "shell.execute_reply": "2025-08-19T18:17:04.075423Z"
    },
    "papermill": {
     "duration": 0.017908,
     "end_time": "2025-08-19T18:17:04.077595",
     "exception": false,
     "start_time": "2025-08-19T18:17:04.059687",
     "status": "completed"
    },
    "tags": []
   },
   "outputs": [],
   "source": [
    "#siab_test.shape"
   ]
  },
  {
   "cell_type": "code",
   "execution_count": 17,
   "id": "27e4384d",
   "metadata": {
    "execution": {
     "iopub.execute_input": "2025-08-19T18:17:04.105836Z",
     "iopub.status.busy": "2025-08-19T18:17:04.105456Z",
     "iopub.status.idle": "2025-08-19T18:17:04.134866Z",
     "shell.execute_reply": "2025-08-19T18:17:04.134109Z"
    },
    "papermill": {
     "duration": 0.047284,
     "end_time": "2025-08-19T18:17:04.136281",
     "exception": false,
     "start_time": "2025-08-19T18:17:04.088997",
     "status": "completed"
    },
    "tags": []
   },
   "outputs": [],
   "source": [
    "X_train = siab_train.iloc[:,4:164]\n",
    "y_train = siab_train.iloc[:, [3]]"
   ]
  },
  {
   "cell_type": "code",
   "execution_count": 18,
   "id": "08ee8389",
   "metadata": {
    "execution": {
     "iopub.execute_input": "2025-08-19T18:17:04.174850Z",
     "iopub.status.busy": "2025-08-19T18:17:04.173764Z",
     "iopub.status.idle": "2025-08-19T18:17:04.237173Z",
     "shell.execute_reply": "2025-08-19T18:17:04.236383Z"
    },
    "papermill": {
     "duration": 0.077993,
     "end_time": "2025-08-19T18:17:04.239628",
     "exception": false,
     "start_time": "2025-08-19T18:17:04.161635",
     "status": "completed"
    },
    "tags": []
   },
   "outputs": [],
   "source": [
    "X_calib = siab_calib.iloc[:,4:164]\n",
    "y_calib = siab_calib.iloc[:, [3]]"
   ]
  },
  {
   "cell_type": "code",
   "execution_count": 19,
   "id": "b7ff42e0",
   "metadata": {
    "execution": {
     "iopub.execute_input": "2025-08-19T18:17:04.288221Z",
     "iopub.status.busy": "2025-08-19T18:17:04.287061Z",
     "iopub.status.idle": "2025-08-19T18:17:04.351376Z",
     "shell.execute_reply": "2025-08-19T18:17:04.350576Z"
    },
    "papermill": {
     "duration": 0.090173,
     "end_time": "2025-08-19T18:17:04.354199",
     "exception": false,
     "start_time": "2025-08-19T18:17:04.264026",
     "status": "completed"
    },
    "tags": []
   },
   "outputs": [],
   "source": [
    "X_test = siab_test.iloc[:,4:164]\n",
    "y_true = siab_test.iloc[:, [3]]"
   ]
  },
  {
   "cell_type": "code",
   "execution_count": 20,
   "id": "0275101e",
   "metadata": {
    "execution": {
     "iopub.execute_input": "2025-08-19T18:17:04.395586Z",
     "iopub.status.busy": "2025-08-19T18:17:04.394256Z",
     "iopub.status.idle": "2025-08-19T18:17:04.524769Z",
     "shell.execute_reply": "2025-08-19T18:17:04.524023Z"
    },
    "papermill": {
     "duration": 0.146858,
     "end_time": "2025-08-19T18:17:04.526320",
     "exception": false,
     "start_time": "2025-08-19T18:17:04.379462",
     "status": "completed"
    },
    "tags": []
   },
   "outputs": [],
   "source": [
    "# Auxiliary data needed downstream in the pipeline\n",
    "\n",
    "org_train = X_train.copy()\n",
    "org_test = X_test.copy()\n",
    "org_calib = X_calib.copy()"
   ]
  },
  {
   "cell_type": "markdown",
   "id": "b461e618",
   "metadata": {
    "papermill": {
     "duration": 0.024607,
     "end_time": "2025-08-19T18:17:04.570178",
     "exception": false,
     "start_time": "2025-08-19T18:17:04.545571",
     "status": "completed"
    },
    "tags": []
   },
   "source": [
    "# Preprocessing Data"
   ]
  },
  {
   "cell_type": "code",
   "execution_count": 21,
   "id": "78e74c4b",
   "metadata": {
    "execution": {
     "iopub.execute_input": "2025-08-19T18:17:04.596619Z",
     "iopub.status.busy": "2025-08-19T18:17:04.595220Z",
     "iopub.status.idle": "2025-08-19T18:17:04.605130Z",
     "shell.execute_reply": "2025-08-19T18:17:04.603682Z"
    },
    "papermill": {
     "duration": 0.023081,
     "end_time": "2025-08-19T18:17:04.606607",
     "exception": false,
     "start_time": "2025-08-19T18:17:04.583526",
     "status": "completed"
    },
    "tags": []
   },
   "outputs": [],
   "source": [
    "# EXCLUDE PROTECTED FEATURES\n",
    "# --------------------------\n",
    "\n",
    "excluded_features = universe[\"exclude_features\"].split(\"-\")\n",
    "excluded_features_dictionary = {\n",
    "    \"nationality\": [\"maxdeutsch1\", \"maxdeutsch.Missing.\"],\n",
    "    \"sex\": [\"frau1\"],\n",
    "    \"age\": [\"age\"],\n",
    "}"
   ]
  },
  {
   "cell_type": "code",
   "execution_count": 22,
   "id": "f8e63555",
   "metadata": {
    "execution": {
     "iopub.execute_input": "2025-08-19T18:17:04.633530Z",
     "iopub.status.busy": "2025-08-19T18:17:04.632439Z",
     "iopub.status.idle": "2025-08-19T18:17:04.642128Z",
     "shell.execute_reply": "2025-08-19T18:17:04.640550Z"
    },
    "papermill": {
     "duration": 0.023711,
     "end_time": "2025-08-19T18:17:04.643636",
     "exception": false,
     "start_time": "2025-08-19T18:17:04.619925",
     "status": "completed"
    },
    "tags": []
   },
   "outputs": [],
   "source": [
    "excluded_features_columns = [\n",
    "    excluded_features_dictionary[f] for f in excluded_features if len(f) > 0 and f != \"none\"\n",
    "]"
   ]
  },
  {
   "cell_type": "code",
   "execution_count": 23,
   "id": "da781f7c",
   "metadata": {
    "execution": {
     "iopub.execute_input": "2025-08-19T18:17:04.693392Z",
     "iopub.status.busy": "2025-08-19T18:17:04.690318Z",
     "iopub.status.idle": "2025-08-19T18:17:04.701110Z",
     "shell.execute_reply": "2025-08-19T18:17:04.699188Z"
    },
    "papermill": {
     "duration": 0.047259,
     "end_time": "2025-08-19T18:17:04.703882",
     "exception": false,
     "start_time": "2025-08-19T18:17:04.656623",
     "status": "completed"
    },
    "tags": []
   },
   "outputs": [],
   "source": [
    "from fairness_multiverse.universe import flatten_once\n",
    "\n",
    "excluded_features_columns = flatten_once(excluded_features_columns)"
   ]
  },
  {
   "cell_type": "code",
   "execution_count": 24,
   "id": "37fef0f0",
   "metadata": {
    "execution": {
     "iopub.execute_input": "2025-08-19T18:17:04.744002Z",
     "iopub.status.busy": "2025-08-19T18:17:04.743260Z",
     "iopub.status.idle": "2025-08-19T18:17:04.784977Z",
     "shell.execute_reply": "2025-08-19T18:17:04.784200Z"
    },
    "papermill": {
     "duration": 0.058654,
     "end_time": "2025-08-19T18:17:04.787524",
     "exception": false,
     "start_time": "2025-08-19T18:17:04.728870",
     "status": "completed"
    },
    "tags": []
   },
   "outputs": [
    {
     "name": "stdout",
     "output_type": "stream",
     "text": [
      "Dropping features: ['maxdeutsch1', 'maxdeutsch.Missing.']\n"
     ]
    }
   ],
   "source": [
    "if len(excluded_features_columns) > 0:\n",
    "    print(f\"Dropping features: {excluded_features_columns}\")\n",
    "    X_train.drop(excluded_features_columns, axis=1, inplace=True)"
   ]
  },
  {
   "cell_type": "code",
   "execution_count": 25,
   "id": "d029e3e9",
   "metadata": {
    "execution": {
     "iopub.execute_input": "2025-08-19T18:17:04.828236Z",
     "iopub.status.busy": "2025-08-19T18:17:04.826684Z",
     "iopub.status.idle": "2025-08-19T18:17:04.889205Z",
     "shell.execute_reply": "2025-08-19T18:17:04.888499Z"
    },
    "papermill": {
     "duration": 0.077803,
     "end_time": "2025-08-19T18:17:04.890438",
     "exception": false,
     "start_time": "2025-08-19T18:17:04.812635",
     "status": "completed"
    },
    "tags": []
   },
   "outputs": [
    {
     "name": "stdout",
     "output_type": "stream",
     "text": [
      "Dropping features: ['maxdeutsch1', 'maxdeutsch.Missing.']\n"
     ]
    }
   ],
   "source": [
    "if len(excluded_features_columns) > 0:\n",
    "    print(f\"Dropping features: {excluded_features_columns}\")\n",
    "    X_test.drop(excluded_features_columns, axis=1, inplace=True)"
   ]
  },
  {
   "cell_type": "code",
   "execution_count": 26,
   "id": "01d571f0",
   "metadata": {
    "execution": {
     "iopub.execute_input": "2025-08-19T18:17:04.926502Z",
     "iopub.status.busy": "2025-08-19T18:17:04.925075Z",
     "iopub.status.idle": "2025-08-19T18:17:04.981421Z",
     "shell.execute_reply": "2025-08-19T18:17:04.980616Z"
    },
    "papermill": {
     "duration": 0.08116,
     "end_time": "2025-08-19T18:17:04.989503",
     "exception": false,
     "start_time": "2025-08-19T18:17:04.908343",
     "status": "completed"
    },
    "tags": []
   },
   "outputs": [
    {
     "name": "stdout",
     "output_type": "stream",
     "text": [
      "Dropping features: ['maxdeutsch1', 'maxdeutsch.Missing.']\n"
     ]
    }
   ],
   "source": [
    "if len(excluded_features_columns) > 0:\n",
    "    print(f\"Dropping features: {excluded_features_columns}\")\n",
    "    X_calib.drop(excluded_features_columns, axis=1, inplace=True)"
   ]
  },
  {
   "cell_type": "code",
   "execution_count": 27,
   "id": "3037356e",
   "metadata": {
    "execution": {
     "iopub.execute_input": "2025-08-19T18:17:05.025294Z",
     "iopub.status.busy": "2025-08-19T18:17:05.023853Z",
     "iopub.status.idle": "2025-08-19T18:17:05.031083Z",
     "shell.execute_reply": "2025-08-19T18:17:05.030249Z"
    },
    "papermill": {
     "duration": 0.021672,
     "end_time": "2025-08-19T18:17:05.032832",
     "exception": false,
     "start_time": "2025-08-19T18:17:05.011160",
     "status": "completed"
    },
    "tags": []
   },
   "outputs": [],
   "source": [
    "# EXCLUDE CERTAIN SUBGROUPS\n",
    "# -------------------------\n",
    "\n",
    "mode = universe.get(\"exclude_subgroups\", \"keep-all\") # Defaults to \"keep-all\" if the key is missing."
   ]
  },
  {
   "cell_type": "code",
   "execution_count": 28,
   "id": "9d1e63fd",
   "metadata": {
    "execution": {
     "iopub.execute_input": "2025-08-19T18:17:05.057642Z",
     "iopub.status.busy": "2025-08-19T18:17:05.057164Z",
     "iopub.status.idle": "2025-08-19T18:17:05.066478Z",
     "shell.execute_reply": "2025-08-19T18:17:05.064939Z"
    },
    "papermill": {
     "duration": 0.02289,
     "end_time": "2025-08-19T18:17:05.068119",
     "exception": false,
     "start_time": "2025-08-19T18:17:05.045229",
     "status": "completed"
    },
    "tags": []
   },
   "outputs": [],
   "source": [
    "if mode == \"keep-all\":\n",
    "    keep_mask = pd.Series(True, index=org_train.index)\n",
    "\n",
    "elif mode == \"drop-non-german\":\n",
    "    keep_mask = (org_train[\"maxdeutsch1\"] == 1) & (org_train[\"maxdeutsch.Missing.\"] == 0)\n",
    "\n",
    "else:\n",
    "    raise ValueError(f\"Unsupported mode for exclude_subgroups: {mode}\")"
   ]
  },
  {
   "cell_type": "code",
   "execution_count": 29,
   "id": "d3b65474",
   "metadata": {
    "execution": {
     "iopub.execute_input": "2025-08-19T18:17:05.093854Z",
     "iopub.status.busy": "2025-08-19T18:17:05.092721Z",
     "iopub.status.idle": "2025-08-19T18:17:05.103415Z",
     "shell.execute_reply": "2025-08-19T18:17:05.101799Z"
    },
    "papermill": {
     "duration": 0.025343,
     "end_time": "2025-08-19T18:17:05.105629",
     "exception": false,
     "start_time": "2025-08-19T18:17:05.080286",
     "status": "completed"
    },
    "tags": []
   },
   "outputs": [],
   "source": [
    "n_drop = (~keep_mask).sum() # Calculates how many rows are set to be dropped\n",
    "if n_drop > 0:\n",
    "    pct = n_drop / len(keep_mask) * 100\n",
    "    print(f\"Dropping {n_drop} rows ({pct:.2f}%) where mode='{mode}'\")"
   ]
  },
  {
   "cell_type": "code",
   "execution_count": 30,
   "id": "f44389b3",
   "metadata": {
    "execution": {
     "iopub.execute_input": "2025-08-19T18:17:05.133769Z",
     "iopub.status.busy": "2025-08-19T18:17:05.132623Z",
     "iopub.status.idle": "2025-08-19T18:17:05.153766Z",
     "shell.execute_reply": "2025-08-19T18:17:05.152650Z"
    },
    "papermill": {
     "duration": 0.036356,
     "end_time": "2025-08-19T18:17:05.155974",
     "exception": false,
     "start_time": "2025-08-19T18:17:05.119618",
     "status": "completed"
    },
    "tags": []
   },
   "outputs": [],
   "source": [
    "X_train = X_train[keep_mask]"
   ]
  },
  {
   "cell_type": "code",
   "execution_count": 31,
   "id": "ceca8c2a",
   "metadata": {
    "execution": {
     "iopub.execute_input": "2025-08-19T18:17:05.188261Z",
     "iopub.status.busy": "2025-08-19T18:17:05.187105Z",
     "iopub.status.idle": "2025-08-19T18:17:05.197832Z",
     "shell.execute_reply": "2025-08-19T18:17:05.196230Z"
    },
    "papermill": {
     "duration": 0.025479,
     "end_time": "2025-08-19T18:17:05.199791",
     "exception": false,
     "start_time": "2025-08-19T18:17:05.174312",
     "status": "completed"
    },
    "tags": []
   },
   "outputs": [],
   "source": [
    "y_train = y_train[keep_mask]"
   ]
  },
  {
   "cell_type": "markdown",
   "id": "04d31e2f",
   "metadata": {
    "papermill": {
     "duration": 0.01152,
     "end_time": "2025-08-19T18:17:05.228001",
     "exception": false,
     "start_time": "2025-08-19T18:17:05.216481",
     "status": "completed"
    },
    "tags": []
   },
   "source": [
    "# Model Training"
   ]
  },
  {
   "cell_type": "code",
   "execution_count": 32,
   "id": "db991733",
   "metadata": {
    "execution": {
     "iopub.execute_input": "2025-08-19T18:17:05.253635Z",
     "iopub.status.busy": "2025-08-19T18:17:05.252445Z",
     "iopub.status.idle": "2025-08-19T18:17:05.360228Z",
     "shell.execute_reply": "2025-08-19T18:17:05.359468Z"
    },
    "papermill": {
     "duration": 0.123571,
     "end_time": "2025-08-19T18:17:05.363113",
     "exception": false,
     "start_time": "2025-08-19T18:17:05.239542",
     "status": "completed"
    },
    "tags": []
   },
   "outputs": [],
   "source": [
    "from sklearn.linear_model import LogisticRegression\n",
    "from sklearn.ensemble import GradientBoostingClassifier, RandomForestClassifier\n",
    "\n",
    "if (universe[\"model\"] == \"logreg\"):\n",
    "    model = LogisticRegression() #penalty=\"none\", solver=\"newton-cg\", max_iter=1)\n",
    "elif (universe[\"model\"] == \"penalized_logreg\"):\n",
    "    model = LogisticRegression(penalty=\"l2\", C=0.1) #, solver=\"newton-cg\", max_iter=1)\n",
    "elif (universe[\"model\"] == \"rf\"):\n",
    "    model = RandomForestClassifier() # n_estimators=100, n_jobs=-1\n",
    "elif (universe[\"model\"] == \"gbm\"):\n",
    "    model = GradientBoostingClassifier()\n",
    "elif (universe[\"model\"] == \"elasticnet\"):\n",
    "    model = LogisticRegression(penalty = 'elasticnet', solver = 'saga', l1_ratio = 0.5) # max_iter=5000\n",
    "else:\n",
    "    raise \"Unsupported universe.model\""
   ]
  },
  {
   "cell_type": "code",
   "execution_count": 33,
   "id": "a4b5cd25",
   "metadata": {
    "execution": {
     "iopub.execute_input": "2025-08-19T18:17:05.406122Z",
     "iopub.status.busy": "2025-08-19T18:17:05.404661Z",
     "iopub.status.idle": "2025-08-19T18:17:05.414679Z",
     "shell.execute_reply": "2025-08-19T18:17:05.413281Z"
    },
    "papermill": {
     "duration": 0.025803,
     "end_time": "2025-08-19T18:17:05.416143",
     "exception": false,
     "start_time": "2025-08-19T18:17:05.390340",
     "status": "completed"
    },
    "tags": []
   },
   "outputs": [],
   "source": [
    "from sklearn.pipeline import Pipeline\n",
    "from sklearn.preprocessing import StandardScaler\n",
    "\n",
    "model = Pipeline([\n",
    "    #(\"continuous_processor\", continuous_processor),\n",
    "    #(\"categorical_preprocessor\", categorical_preprocessor),\n",
    "    (\"scale\", StandardScaler() if universe[\"scale\"] == \"scale\" else None), \n",
    "    (\"model\", model),\n",
    "])"
   ]
  },
  {
   "cell_type": "code",
   "execution_count": 34,
   "id": "283a904d",
   "metadata": {
    "execution": {
     "iopub.execute_input": "2025-08-19T18:17:05.445238Z",
     "iopub.status.busy": "2025-08-19T18:17:05.444083Z",
     "iopub.status.idle": "2025-08-19T18:17:12.343187Z",
     "shell.execute_reply": "2025-08-19T18:17:12.342411Z"
    },
    "papermill": {
     "duration": 6.912964,
     "end_time": "2025-08-19T18:17:12.344348",
     "exception": false,
     "start_time": "2025-08-19T18:17:05.431384",
     "status": "completed"
    },
    "tags": []
   },
   "outputs": [
    {
     "name": "stderr",
     "output_type": "stream",
     "text": [
      "/dss/dsshome1/0C/ra93lal2/.local/share/virtualenvs/CMA_Fairness_v2-3j10GkSs/lib/python3.10/site-packages/sklearn/linear_model/_sag.py:350: ConvergenceWarning: The max_iter was reached which means the coef_ did not converge\n",
      "  warnings.warn(\n"
     ]
    },
    {
     "data": {
      "text/html": [
       "<style>#sk-container-id-1 {color: black;background-color: white;}#sk-container-id-1 pre{padding: 0;}#sk-container-id-1 div.sk-toggleable {background-color: white;}#sk-container-id-1 label.sk-toggleable__label {cursor: pointer;display: block;width: 100%;margin-bottom: 0;padding: 0.3em;box-sizing: border-box;text-align: center;}#sk-container-id-1 label.sk-toggleable__label-arrow:before {content: \"▸\";float: left;margin-right: 0.25em;color: #696969;}#sk-container-id-1 label.sk-toggleable__label-arrow:hover:before {color: black;}#sk-container-id-1 div.sk-estimator:hover label.sk-toggleable__label-arrow:before {color: black;}#sk-container-id-1 div.sk-toggleable__content {max-height: 0;max-width: 0;overflow: hidden;text-align: left;background-color: #f0f8ff;}#sk-container-id-1 div.sk-toggleable__content pre {margin: 0.2em;color: black;border-radius: 0.25em;background-color: #f0f8ff;}#sk-container-id-1 input.sk-toggleable__control:checked~div.sk-toggleable__content {max-height: 200px;max-width: 100%;overflow: auto;}#sk-container-id-1 input.sk-toggleable__control:checked~label.sk-toggleable__label-arrow:before {content: \"▾\";}#sk-container-id-1 div.sk-estimator input.sk-toggleable__control:checked~label.sk-toggleable__label {background-color: #d4ebff;}#sk-container-id-1 div.sk-label input.sk-toggleable__control:checked~label.sk-toggleable__label {background-color: #d4ebff;}#sk-container-id-1 input.sk-hidden--visually {border: 0;clip: rect(1px 1px 1px 1px);clip: rect(1px, 1px, 1px, 1px);height: 1px;margin: -1px;overflow: hidden;padding: 0;position: absolute;width: 1px;}#sk-container-id-1 div.sk-estimator {font-family: monospace;background-color: #f0f8ff;border: 1px dotted black;border-radius: 0.25em;box-sizing: border-box;margin-bottom: 0.5em;}#sk-container-id-1 div.sk-estimator:hover {background-color: #d4ebff;}#sk-container-id-1 div.sk-parallel-item::after {content: \"\";width: 100%;border-bottom: 1px solid gray;flex-grow: 1;}#sk-container-id-1 div.sk-label:hover label.sk-toggleable__label {background-color: #d4ebff;}#sk-container-id-1 div.sk-serial::before {content: \"\";position: absolute;border-left: 1px solid gray;box-sizing: border-box;top: 0;bottom: 0;left: 50%;z-index: 0;}#sk-container-id-1 div.sk-serial {display: flex;flex-direction: column;align-items: center;background-color: white;padding-right: 0.2em;padding-left: 0.2em;position: relative;}#sk-container-id-1 div.sk-item {position: relative;z-index: 1;}#sk-container-id-1 div.sk-parallel {display: flex;align-items: stretch;justify-content: center;background-color: white;position: relative;}#sk-container-id-1 div.sk-item::before, #sk-container-id-1 div.sk-parallel-item::before {content: \"\";position: absolute;border-left: 1px solid gray;box-sizing: border-box;top: 0;bottom: 0;left: 50%;z-index: -1;}#sk-container-id-1 div.sk-parallel-item {display: flex;flex-direction: column;z-index: 1;position: relative;background-color: white;}#sk-container-id-1 div.sk-parallel-item:first-child::after {align-self: flex-end;width: 50%;}#sk-container-id-1 div.sk-parallel-item:last-child::after {align-self: flex-start;width: 50%;}#sk-container-id-1 div.sk-parallel-item:only-child::after {width: 0;}#sk-container-id-1 div.sk-dashed-wrapped {border: 1px dashed gray;margin: 0 0.4em 0.5em 0.4em;box-sizing: border-box;padding-bottom: 0.4em;background-color: white;}#sk-container-id-1 div.sk-label label {font-family: monospace;font-weight: bold;display: inline-block;line-height: 1.2em;}#sk-container-id-1 div.sk-label-container {text-align: center;}#sk-container-id-1 div.sk-container {/* jupyter's `normalize.less` sets `[hidden] { display: none; }` but bootstrap.min.css set `[hidden] { display: none !important; }` so we also need the `!important` here to be able to override the default hidden behavior on the sphinx rendered scikit-learn.org. See: https://github.com/scikit-learn/scikit-learn/issues/21755 */display: inline-block !important;position: relative;}#sk-container-id-1 div.sk-text-repr-fallback {display: none;}</style><div id=\"sk-container-id-1\" class=\"sk-top-container\"><div class=\"sk-text-repr-fallback\"><pre>Pipeline(steps=[(&#x27;scale&#x27;, StandardScaler()),\n",
       "                (&#x27;model&#x27;,\n",
       "                 LogisticRegression(l1_ratio=0.5, penalty=&#x27;elasticnet&#x27;,\n",
       "                                    solver=&#x27;saga&#x27;))])</pre><b>In a Jupyter environment, please rerun this cell to show the HTML representation or trust the notebook. <br />On GitHub, the HTML representation is unable to render, please try loading this page with nbviewer.org.</b></div><div class=\"sk-container\" hidden><div class=\"sk-item sk-dashed-wrapped\"><div class=\"sk-label-container\"><div class=\"sk-label sk-toggleable\"><input class=\"sk-toggleable__control sk-hidden--visually\" id=\"sk-estimator-id-1\" type=\"checkbox\" ><label for=\"sk-estimator-id-1\" class=\"sk-toggleable__label sk-toggleable__label-arrow\">Pipeline</label><div class=\"sk-toggleable__content\"><pre>Pipeline(steps=[(&#x27;scale&#x27;, StandardScaler()),\n",
       "                (&#x27;model&#x27;,\n",
       "                 LogisticRegression(l1_ratio=0.5, penalty=&#x27;elasticnet&#x27;,\n",
       "                                    solver=&#x27;saga&#x27;))])</pre></div></div></div><div class=\"sk-serial\"><div class=\"sk-item\"><div class=\"sk-estimator sk-toggleable\"><input class=\"sk-toggleable__control sk-hidden--visually\" id=\"sk-estimator-id-2\" type=\"checkbox\" ><label for=\"sk-estimator-id-2\" class=\"sk-toggleable__label sk-toggleable__label-arrow\">StandardScaler</label><div class=\"sk-toggleable__content\"><pre>StandardScaler()</pre></div></div></div><div class=\"sk-item\"><div class=\"sk-estimator sk-toggleable\"><input class=\"sk-toggleable__control sk-hidden--visually\" id=\"sk-estimator-id-3\" type=\"checkbox\" ><label for=\"sk-estimator-id-3\" class=\"sk-toggleable__label sk-toggleable__label-arrow\">LogisticRegression</label><div class=\"sk-toggleable__content\"><pre>LogisticRegression(l1_ratio=0.5, penalty=&#x27;elasticnet&#x27;, solver=&#x27;saga&#x27;)</pre></div></div></div></div></div></div></div>"
      ],
      "text/plain": [
       "Pipeline(steps=[('scale', StandardScaler()),\n",
       "                ('model',\n",
       "                 LogisticRegression(l1_ratio=0.5, penalty='elasticnet',\n",
       "                                    solver='saga'))])"
      ]
     },
     "execution_count": 34,
     "metadata": {},
     "output_type": "execute_result"
    }
   ],
   "source": [
    "model.fit(X_train, y_train.values.ravel())"
   ]
  },
  {
   "cell_type": "code",
   "execution_count": 35,
   "id": "6e15e313",
   "metadata": {
    "execution": {
     "iopub.execute_input": "2025-08-19T18:17:12.372861Z",
     "iopub.status.busy": "2025-08-19T18:17:12.371710Z",
     "iopub.status.idle": "2025-08-19T18:17:12.578073Z",
     "shell.execute_reply": "2025-08-19T18:17:12.577215Z"
    },
    "papermill": {
     "duration": 0.221882,
     "end_time": "2025-08-19T18:17:12.580577",
     "exception": false,
     "start_time": "2025-08-19T18:17:12.358695",
     "status": "completed"
    },
    "tags": []
   },
   "outputs": [
    {
     "data": {
      "text/plain": [
       "0.8602051053394271"
      ]
     },
     "execution_count": 35,
     "metadata": {},
     "output_type": "execute_result"
    }
   ],
   "source": [
    "from fairness_multiverse.universe import predict_w_threshold\n",
    "\n",
    "probs_test = model.predict_proba(X_test)\n",
    "\n",
    "'''\n",
    "Below code returns a boolean array (or binary 0/1 array depending on how it’s used) where each element \n",
    "is True if the probability of class 1 is greater than or equal to the threshold, and False otherwise.\n",
    "'''\n",
    "y_pred_default = predict_w_threshold(probs_test, 0.5)\n",
    "\n",
    "from sklearn.metrics import accuracy_score\n",
    "\n",
    "# Naive prediction\n",
    "accuracy_score(y_true = y_true, y_pred = y_pred_default)"
   ]
  },
  {
   "cell_type": "code",
   "execution_count": 36,
   "id": "6f14067c",
   "metadata": {
    "execution": {
     "iopub.execute_input": "2025-08-19T18:17:12.621650Z",
     "iopub.status.busy": "2025-08-19T18:17:12.620405Z",
     "iopub.status.idle": "2025-08-19T18:17:12.804675Z",
     "shell.execute_reply": "2025-08-19T18:17:12.803940Z"
    },
    "papermill": {
     "duration": 0.20098,
     "end_time": "2025-08-19T18:17:12.807003",
     "exception": false,
     "start_time": "2025-08-19T18:17:12.606023",
     "status": "completed"
    },
    "tags": []
   },
   "outputs": [
    {
     "data": {
      "text/plain": [
       "array([0, 0, 0, ..., 0, 0, 0])"
      ]
     },
     "execution_count": 36,
     "metadata": {},
     "output_type": "execute_result"
    }
   ],
   "source": [
    "model.predict(X_test)"
   ]
  },
  {
   "cell_type": "markdown",
   "id": "3759920c",
   "metadata": {
    "papermill": {
     "duration": 0.012254,
     "end_time": "2025-08-19T18:17:12.842497",
     "exception": false,
     "start_time": "2025-08-19T18:17:12.830243",
     "status": "completed"
    },
    "tags": []
   },
   "source": [
    "# Conformal Prediction"
   ]
  },
  {
   "cell_type": "code",
   "execution_count": 37,
   "id": "14b27f59",
   "metadata": {
    "execution": {
     "iopub.execute_input": "2025-08-19T18:17:12.867551Z",
     "iopub.status.busy": "2025-08-19T18:17:12.866379Z",
     "iopub.status.idle": "2025-08-19T18:17:12.874640Z",
     "shell.execute_reply": "2025-08-19T18:17:12.873097Z"
    },
    "papermill": {
     "duration": 0.027267,
     "end_time": "2025-08-19T18:17:12.880957",
     "exception": false,
     "start_time": "2025-08-19T18:17:12.853690",
     "status": "completed"
    },
    "tags": []
   },
   "outputs": [],
   "source": [
    "# Miscoverage level for conformal prediction (10% allowed error rate => 90% target coverage)\n",
    "alpha = 0.1"
   ]
  },
  {
   "cell_type": "code",
   "execution_count": 38,
   "id": "59102472",
   "metadata": {
    "execution": {
     "iopub.execute_input": "2025-08-19T18:17:12.916191Z",
     "iopub.status.busy": "2025-08-19T18:17:12.912443Z",
     "iopub.status.idle": "2025-08-19T18:17:13.102571Z",
     "shell.execute_reply": "2025-08-19T18:17:13.101790Z"
    },
    "papermill": {
     "duration": 0.205571,
     "end_time": "2025-08-19T18:17:13.104126",
     "exception": false,
     "start_time": "2025-08-19T18:17:12.898555",
     "status": "completed"
    },
    "tags": []
   },
   "outputs": [],
   "source": [
    "probs_calib = model.predict_proba(X_calib)"
   ]
  },
  {
   "cell_type": "code",
   "execution_count": 39,
   "id": "a792d4dd",
   "metadata": {
    "execution": {
     "iopub.execute_input": "2025-08-19T18:17:13.129719Z",
     "iopub.status.busy": "2025-08-19T18:17:13.129407Z",
     "iopub.status.idle": "2025-08-19T18:17:13.142554Z",
     "shell.execute_reply": "2025-08-19T18:17:13.141787Z"
    },
    "papermill": {
     "duration": 0.028317,
     "end_time": "2025-08-19T18:17:13.145252",
     "exception": false,
     "start_time": "2025-08-19T18:17:13.116935",
     "status": "completed"
    },
    "tags": []
   },
   "outputs": [],
   "source": [
    "y_calib = y_calib.values.ravel().astype(int)"
   ]
  },
  {
   "cell_type": "code",
   "execution_count": 40,
   "id": "650fd033",
   "metadata": {
    "execution": {
     "iopub.execute_input": "2025-08-19T18:17:13.184220Z",
     "iopub.status.busy": "2025-08-19T18:17:13.182724Z",
     "iopub.status.idle": "2025-08-19T18:17:13.198163Z",
     "shell.execute_reply": "2025-08-19T18:17:13.196747Z"
    },
    "papermill": {
     "duration": 0.032529,
     "end_time": "2025-08-19T18:17:13.200038",
     "exception": false,
     "start_time": "2025-08-19T18:17:13.167509",
     "status": "completed"
    },
    "tags": []
   },
   "outputs": [],
   "source": [
    "from fairness_multiverse.conformal import compute_nc_scores\n",
    "\n",
    "# Compute nonconformity scores on calibration set (1 - probability of true class)\n",
    "nc_scores = compute_nc_scores(probs_calib, y_calib)"
   ]
  },
  {
   "cell_type": "code",
   "execution_count": 41,
   "id": "28ada44c",
   "metadata": {
    "execution": {
     "iopub.execute_input": "2025-08-19T18:17:13.232296Z",
     "iopub.status.busy": "2025-08-19T18:17:13.230824Z",
     "iopub.status.idle": "2025-08-19T18:17:13.243916Z",
     "shell.execute_reply": "2025-08-19T18:17:13.242827Z"
    },
    "papermill": {
     "duration": 0.028775,
     "end_time": "2025-08-19T18:17:13.245586",
     "exception": false,
     "start_time": "2025-08-19T18:17:13.216811",
     "status": "completed"
    },
    "tags": []
   },
   "outputs": [],
   "source": [
    "from fairness_multiverse.conformal import find_threshold\n",
    "\n",
    "# Find conformal threshold q_hat for the given alpha (split conformal method)\n",
    "q_hat = find_threshold(nc_scores, alpha)"
   ]
  },
  {
   "cell_type": "code",
   "execution_count": 42,
   "id": "df56469e",
   "metadata": {
    "execution": {
     "iopub.execute_input": "2025-08-19T18:17:13.281932Z",
     "iopub.status.busy": "2025-08-19T18:17:13.279025Z",
     "iopub.status.idle": "2025-08-19T18:17:13.290425Z",
     "shell.execute_reply": "2025-08-19T18:17:13.289314Z"
    },
    "papermill": {
     "duration": 0.028978,
     "end_time": "2025-08-19T18:17:13.292177",
     "exception": false,
     "start_time": "2025-08-19T18:17:13.263199",
     "status": "completed"
    },
    "tags": []
   },
   "outputs": [
    {
     "data": {
      "text/plain": [
       "0.6596498550115779"
      ]
     },
     "execution_count": 42,
     "metadata": {},
     "output_type": "execute_result"
    }
   ],
   "source": [
    "q_hat"
   ]
  },
  {
   "cell_type": "code",
   "execution_count": 43,
   "id": "aa1f5faa",
   "metadata": {
    "execution": {
     "iopub.execute_input": "2025-08-19T18:17:13.319775Z",
     "iopub.status.busy": "2025-08-19T18:17:13.318808Z",
     "iopub.status.idle": "2025-08-19T18:17:13.926219Z",
     "shell.execute_reply": "2025-08-19T18:17:13.925446Z"
    },
    "papermill": {
     "duration": 0.622161,
     "end_time": "2025-08-19T18:17:13.927792",
     "exception": false,
     "start_time": "2025-08-19T18:17:13.305631",
     "status": "completed"
    },
    "tags": []
   },
   "outputs": [],
   "source": [
    "from fairness_multiverse.conformal import predict_conformal_sets\n",
    "\n",
    "# Generate prediction sets for each test example\n",
    "pred_sets = predict_conformal_sets(model, X_test, q_hat)"
   ]
  },
  {
   "cell_type": "code",
   "execution_count": 44,
   "id": "97f67a6b",
   "metadata": {
    "execution": {
     "iopub.execute_input": "2025-08-19T18:17:13.959504Z",
     "iopub.status.busy": "2025-08-19T18:17:13.958134Z",
     "iopub.status.idle": "2025-08-19T18:17:13.966203Z",
     "shell.execute_reply": "2025-08-19T18:17:13.965139Z"
    },
    "papermill": {
     "duration": 0.023654,
     "end_time": "2025-08-19T18:17:13.967831",
     "exception": false,
     "start_time": "2025-08-19T18:17:13.944177",
     "status": "completed"
    },
    "tags": []
   },
   "outputs": [],
   "source": [
    "y_true = y_true.squeeze()"
   ]
  },
  {
   "cell_type": "code",
   "execution_count": 45,
   "id": "e700e9a7",
   "metadata": {
    "execution": {
     "iopub.execute_input": "2025-08-19T18:17:13.995506Z",
     "iopub.status.busy": "2025-08-19T18:17:13.994559Z",
     "iopub.status.idle": "2025-08-19T18:17:14.489598Z",
     "shell.execute_reply": "2025-08-19T18:17:14.488833Z"
    },
    "papermill": {
     "duration": 0.510045,
     "end_time": "2025-08-19T18:17:14.491132",
     "exception": false,
     "start_time": "2025-08-19T18:17:13.981087",
     "status": "completed"
    },
    "tags": []
   },
   "outputs": [],
   "source": [
    "from fairness_multiverse.conformal import evaluate_sets\n",
    "\n",
    "# Evaluate coverage and average set size on test data\n",
    "metrics = evaluate_sets(pred_sets, y_true)"
   ]
  },
  {
   "cell_type": "markdown",
   "id": "efbacec0",
   "metadata": {
    "papermill": {
     "duration": 0.027172,
     "end_time": "2025-08-19T18:17:14.532700",
     "exception": false,
     "start_time": "2025-08-19T18:17:14.505528",
     "status": "completed"
    },
    "tags": []
   },
   "source": [
    "# CP Metrics"
   ]
  },
  {
   "cell_type": "code",
   "execution_count": 46,
   "id": "9de55fb1",
   "metadata": {
    "execution": {
     "iopub.execute_input": "2025-08-19T18:17:14.561577Z",
     "iopub.status.busy": "2025-08-19T18:17:14.560266Z",
     "iopub.status.idle": "2025-08-19T18:17:14.570112Z",
     "shell.execute_reply": "2025-08-19T18:17:14.568901Z"
    },
    "papermill": {
     "duration": 0.025263,
     "end_time": "2025-08-19T18:17:14.571744",
     "exception": false,
     "start_time": "2025-08-19T18:17:14.546481",
     "status": "completed"
    },
    "tags": []
   },
   "outputs": [
    {
     "data": {
      "text/plain": [
       "{'coverage': 0.9103890313231524, 'avg_size': 1.1250696689332293}"
      ]
     },
     "execution_count": 46,
     "metadata": {},
     "output_type": "execute_result"
    }
   ],
   "source": [
    "metrics"
   ]
  },
  {
   "cell_type": "code",
   "execution_count": 47,
   "id": "64c340a1",
   "metadata": {
    "execution": {
     "iopub.execute_input": "2025-08-19T18:17:14.602212Z",
     "iopub.status.busy": "2025-08-19T18:17:14.600891Z",
     "iopub.status.idle": "2025-08-19T18:17:14.610633Z",
     "shell.execute_reply": "2025-08-19T18:17:14.609448Z"
    },
    "papermill": {
     "duration": 0.025618,
     "end_time": "2025-08-19T18:17:14.612336",
     "exception": false,
     "start_time": "2025-08-19T18:17:14.586718",
     "status": "completed"
    },
    "tags": []
   },
   "outputs": [],
   "source": [
    "example_universe = universe.copy()\n",
    "universe_training_year = example_universe.get(\"training_year\")\n",
    "universe_training_size = example_universe.get(\"training_size\")\n",
    "universe_scale = example_universe.get(\"scale\")\n",
    "universe_model = example_universe.get(\"model\")\n",
    "universe_exclude_features = example_universe.get(\"exclude_features\")\n",
    "universe_exclude_subgroups = example_universe.get(\"exclude_subgroups\")"
   ]
  },
  {
   "cell_type": "code",
   "execution_count": 48,
   "id": "dbb53cb4",
   "metadata": {
    "execution": {
     "iopub.execute_input": "2025-08-19T18:17:14.643083Z",
     "iopub.status.busy": "2025-08-19T18:17:14.641941Z",
     "iopub.status.idle": "2025-08-19T18:17:14.651530Z",
     "shell.execute_reply": "2025-08-19T18:17:14.650301Z"
    },
    "papermill": {
     "duration": 0.025592,
     "end_time": "2025-08-19T18:17:14.653178",
     "exception": false,
     "start_time": "2025-08-19T18:17:14.627586",
     "status": "completed"
    },
    "tags": []
   },
   "outputs": [],
   "source": [
    "cp_metrics_dict = {\n",
    "    \"universe_id\": [universe_id],\n",
    "    \"universe_training_year\": [universe_training_year],\n",
    "    \"universe_training_size\": [universe_training_size],\n",
    "    \"universe_scale\": [universe_scale],\n",
    "    \"universe_model\": [universe_model],\n",
    "    \"universe_exclude_features\": [universe_exclude_features],\n",
    "    \"universe_exclude_subgroups\": [universe_exclude_subgroups],\n",
    "    \"q_hat\": [q_hat],\n",
    "    \"coverage\": [metrics[\"coverage\"]],\n",
    "    \"avg_size\": [metrics[\"avg_size\"]],\n",
    "}"
   ]
  },
  {
   "cell_type": "code",
   "execution_count": 49,
   "id": "0d70d4b2",
   "metadata": {
    "execution": {
     "iopub.execute_input": "2025-08-19T18:17:14.684085Z",
     "iopub.status.busy": "2025-08-19T18:17:14.682912Z",
     "iopub.status.idle": "2025-08-19T18:17:14.692511Z",
     "shell.execute_reply": "2025-08-19T18:17:14.691092Z"
    },
    "papermill": {
     "duration": 0.025583,
     "end_time": "2025-08-19T18:17:14.694249",
     "exception": false,
     "start_time": "2025-08-19T18:17:14.668666",
     "status": "completed"
    },
    "tags": []
   },
   "outputs": [],
   "source": [
    "cp_metrics_df = pd.DataFrame(cp_metrics_dict)"
   ]
  },
  {
   "cell_type": "code",
   "execution_count": 50,
   "id": "b494403c",
   "metadata": {
    "execution": {
     "iopub.execute_input": "2025-08-19T18:17:14.725595Z",
     "iopub.status.busy": "2025-08-19T18:17:14.724442Z",
     "iopub.status.idle": "2025-08-19T18:17:14.746703Z",
     "shell.execute_reply": "2025-08-19T18:17:14.745886Z"
    },
    "papermill": {
     "duration": 0.038245,
     "end_time": "2025-08-19T18:17:14.748421",
     "exception": false,
     "start_time": "2025-08-19T18:17:14.710176",
     "status": "completed"
    },
    "tags": []
   },
   "outputs": [
    {
     "data": {
      "text/html": [
       "<div>\n",
       "<style scoped>\n",
       "    .dataframe tbody tr th:only-of-type {\n",
       "        vertical-align: middle;\n",
       "    }\n",
       "\n",
       "    .dataframe tbody tr th {\n",
       "        vertical-align: top;\n",
       "    }\n",
       "\n",
       "    .dataframe thead th {\n",
       "        text-align: right;\n",
       "    }\n",
       "</style>\n",
       "<table border=\"1\" class=\"dataframe\">\n",
       "  <thead>\n",
       "    <tr style=\"text-align: right;\">\n",
       "      <th></th>\n",
       "      <th>universe_id</th>\n",
       "      <th>universe_training_year</th>\n",
       "      <th>universe_training_size</th>\n",
       "      <th>universe_scale</th>\n",
       "      <th>universe_model</th>\n",
       "      <th>universe_exclude_features</th>\n",
       "      <th>universe_exclude_subgroups</th>\n",
       "      <th>q_hat</th>\n",
       "      <th>coverage</th>\n",
       "      <th>avg_size</th>\n",
       "    </tr>\n",
       "  </thead>\n",
       "  <tbody>\n",
       "    <tr>\n",
       "      <th>0</th>\n",
       "      <td>e17875f7076cbd8b626c14edad8a50ba</td>\n",
       "      <td>2010_14</td>\n",
       "      <td>25k</td>\n",
       "      <td>scale</td>\n",
       "      <td>elasticnet</td>\n",
       "      <td>nationality</td>\n",
       "      <td>keep-all</td>\n",
       "      <td>0.65965</td>\n",
       "      <td>0.910389</td>\n",
       "      <td>1.12507</td>\n",
       "    </tr>\n",
       "  </tbody>\n",
       "</table>\n",
       "</div>"
      ],
      "text/plain": [
       "                        universe_id universe_training_year  \\\n",
       "0  e17875f7076cbd8b626c14edad8a50ba                2010_14   \n",
       "\n",
       "  universe_training_size universe_scale universe_model  \\\n",
       "0                    25k          scale     elasticnet   \n",
       "\n",
       "  universe_exclude_features universe_exclude_subgroups    q_hat  coverage  \\\n",
       "0               nationality                   keep-all  0.65965  0.910389   \n",
       "\n",
       "   avg_size  \n",
       "0   1.12507  "
      ]
     },
     "execution_count": 50,
     "metadata": {},
     "output_type": "execute_result"
    }
   ],
   "source": [
    "cp_metrics_df"
   ]
  },
  {
   "cell_type": "markdown",
   "id": "ed608b0b",
   "metadata": {
    "papermill": {
     "duration": 0.012675,
     "end_time": "2025-08-19T18:17:14.781894",
     "exception": false,
     "start_time": "2025-08-19T18:17:14.769219",
     "status": "completed"
    },
    "tags": []
   },
   "source": [
    "Conditional coverage & looking at subgroups"
   ]
  },
  {
   "cell_type": "code",
   "execution_count": 51,
   "id": "8968c366",
   "metadata": {
    "execution": {
     "iopub.execute_input": "2025-08-19T18:17:14.808231Z",
     "iopub.status.busy": "2025-08-19T18:17:14.807092Z",
     "iopub.status.idle": "2025-08-19T18:17:15.083153Z",
     "shell.execute_reply": "2025-08-19T18:17:15.082315Z"
    },
    "papermill": {
     "duration": 0.291093,
     "end_time": "2025-08-19T18:17:15.084767",
     "exception": false,
     "start_time": "2025-08-19T18:17:14.793674",
     "status": "completed"
    },
    "tags": []
   },
   "outputs": [],
   "source": [
    "from fairness_multiverse.conformal import build_cp_groups\n",
    "\n",
    "cp_groups_df = build_cp_groups(pred_sets, y_true, X_test.index, org_test)"
   ]
  },
  {
   "cell_type": "code",
   "execution_count": 52,
   "id": "292ddabf",
   "metadata": {
    "execution": {
     "iopub.execute_input": "2025-08-19T18:17:15.111464Z",
     "iopub.status.busy": "2025-08-19T18:17:15.110502Z",
     "iopub.status.idle": "2025-08-19T18:17:15.949068Z",
     "shell.execute_reply": "2025-08-19T18:17:15.948177Z"
    },
    "papermill": {
     "duration": 0.853386,
     "end_time": "2025-08-19T18:17:15.950565",
     "exception": false,
     "start_time": "2025-08-19T18:17:15.097179",
     "status": "completed"
    },
    "tags": []
   },
   "outputs": [],
   "source": [
    "# Define covered = 1 if true_label is in the predicted set\n",
    "cp_groups_df['covered'] = cp_groups_df.apply(\n",
    "    lambda r: int(r['true_label'] in r['pred_set']),\n",
    "    axis=1\n",
    ")"
   ]
  },
  {
   "cell_type": "code",
   "execution_count": 53,
   "id": "3a261692",
   "metadata": {
    "execution": {
     "iopub.execute_input": "2025-08-19T18:17:15.985231Z",
     "iopub.status.busy": "2025-08-19T18:17:15.980412Z",
     "iopub.status.idle": "2025-08-19T18:17:15.996012Z",
     "shell.execute_reply": "2025-08-19T18:17:15.995287Z"
    },
    "papermill": {
     "duration": 0.034166,
     "end_time": "2025-08-19T18:17:15.997250",
     "exception": false,
     "start_time": "2025-08-19T18:17:15.963084",
     "status": "completed"
    },
    "tags": []
   },
   "outputs": [],
   "source": [
    "subgroups = ['frau1','nongerman','nongerman_male','nongerman_female']\n",
    "\n",
    "# Conditional coverage for subgroup==1\n",
    "cond_coverage = {\n",
    "    g: cp_groups_df.loc[cp_groups_df[g]==1, 'covered'].mean()\n",
    "    for g in subgroups\n",
    "}"
   ]
  },
  {
   "cell_type": "code",
   "execution_count": 54,
   "id": "894fd600",
   "metadata": {
    "execution": {
     "iopub.execute_input": "2025-08-19T18:17:16.036926Z",
     "iopub.status.busy": "2025-08-19T18:17:16.034843Z",
     "iopub.status.idle": "2025-08-19T18:17:16.044207Z",
     "shell.execute_reply": "2025-08-19T18:17:16.043365Z"
    },
    "papermill": {
     "duration": 0.027848,
     "end_time": "2025-08-19T18:17:16.045635",
     "exception": false,
     "start_time": "2025-08-19T18:17:16.017787",
     "status": "completed"
    },
    "tags": []
   },
   "outputs": [
    {
     "data": {
      "text/plain": [
       "{'frau1': 0.909179134654266,\n",
       " 'nongerman': 0.9123673721439398,\n",
       " 'nongerman_male': 0.9283076645951545,\n",
       " 'nongerman_female': 0.8859910581222057}"
      ]
     },
     "execution_count": 54,
     "metadata": {},
     "output_type": "execute_result"
    }
   ],
   "source": [
    "cond_coverage"
   ]
  },
  {
   "cell_type": "code",
   "execution_count": 55,
   "id": "942895c7",
   "metadata": {
    "execution": {
     "iopub.execute_input": "2025-08-19T18:17:16.072664Z",
     "iopub.status.busy": "2025-08-19T18:17:16.072287Z",
     "iopub.status.idle": "2025-08-19T18:17:16.113653Z",
     "shell.execute_reply": "2025-08-19T18:17:16.112179Z"
    },
    "papermill": {
     "duration": 0.05855,
     "end_time": "2025-08-19T18:17:16.116734",
     "exception": false,
     "start_time": "2025-08-19T18:17:16.058184",
     "status": "completed"
    },
    "tags": []
   },
   "outputs": [],
   "source": [
    "for subgroup, cov in cond_coverage.items():\n",
    "    cp_metrics_df[f\"cov_{subgroup}\"] = cov"
   ]
  },
  {
   "cell_type": "code",
   "execution_count": 56,
   "id": "3970120f",
   "metadata": {
    "execution": {
     "iopub.execute_input": "2025-08-19T18:17:16.152768Z",
     "iopub.status.busy": "2025-08-19T18:17:16.152361Z",
     "iopub.status.idle": "2025-08-19T18:17:16.171089Z",
     "shell.execute_reply": "2025-08-19T18:17:16.170158Z"
    },
    "papermill": {
     "duration": 0.035004,
     "end_time": "2025-08-19T18:17:16.172758",
     "exception": false,
     "start_time": "2025-08-19T18:17:16.137754",
     "status": "completed"
    },
    "tags": []
   },
   "outputs": [
    {
     "data": {
      "text/html": [
       "<div>\n",
       "<style scoped>\n",
       "    .dataframe tbody tr th:only-of-type {\n",
       "        vertical-align: middle;\n",
       "    }\n",
       "\n",
       "    .dataframe tbody tr th {\n",
       "        vertical-align: top;\n",
       "    }\n",
       "\n",
       "    .dataframe thead th {\n",
       "        text-align: right;\n",
       "    }\n",
       "</style>\n",
       "<table border=\"1\" class=\"dataframe\">\n",
       "  <thead>\n",
       "    <tr style=\"text-align: right;\">\n",
       "      <th></th>\n",
       "      <th>universe_id</th>\n",
       "      <th>universe_training_year</th>\n",
       "      <th>universe_training_size</th>\n",
       "      <th>universe_scale</th>\n",
       "      <th>universe_model</th>\n",
       "      <th>universe_exclude_features</th>\n",
       "      <th>universe_exclude_subgroups</th>\n",
       "      <th>q_hat</th>\n",
       "      <th>coverage</th>\n",
       "      <th>avg_size</th>\n",
       "      <th>cov_frau1</th>\n",
       "      <th>cov_nongerman</th>\n",
       "      <th>cov_nongerman_male</th>\n",
       "      <th>cov_nongerman_female</th>\n",
       "    </tr>\n",
       "  </thead>\n",
       "  <tbody>\n",
       "    <tr>\n",
       "      <th>0</th>\n",
       "      <td>e17875f7076cbd8b626c14edad8a50ba</td>\n",
       "      <td>2010_14</td>\n",
       "      <td>25k</td>\n",
       "      <td>scale</td>\n",
       "      <td>elasticnet</td>\n",
       "      <td>nationality</td>\n",
       "      <td>keep-all</td>\n",
       "      <td>0.65965</td>\n",
       "      <td>0.910389</td>\n",
       "      <td>1.12507</td>\n",
       "      <td>0.909179</td>\n",
       "      <td>0.912367</td>\n",
       "      <td>0.928308</td>\n",
       "      <td>0.885991</td>\n",
       "    </tr>\n",
       "  </tbody>\n",
       "</table>\n",
       "</div>"
      ],
      "text/plain": [
       "                        universe_id universe_training_year  \\\n",
       "0  e17875f7076cbd8b626c14edad8a50ba                2010_14   \n",
       "\n",
       "  universe_training_size universe_scale universe_model  \\\n",
       "0                    25k          scale     elasticnet   \n",
       "\n",
       "  universe_exclude_features universe_exclude_subgroups    q_hat  coverage  \\\n",
       "0               nationality                   keep-all  0.65965  0.910389   \n",
       "\n",
       "   avg_size  cov_frau1  cov_nongerman  cov_nongerman_male  \\\n",
       "0   1.12507   0.909179       0.912367            0.928308   \n",
       "\n",
       "   cov_nongerman_female  \n",
       "0              0.885991  "
      ]
     },
     "execution_count": 56,
     "metadata": {},
     "output_type": "execute_result"
    }
   ],
   "source": [
    "cp_metrics_df"
   ]
  },
  {
   "cell_type": "markdown",
   "id": "3fc519cc",
   "metadata": {
    "papermill": {
     "duration": 0.012804,
     "end_time": "2025-08-19T18:17:16.201190",
     "exception": false,
     "start_time": "2025-08-19T18:17:16.188386",
     "status": "completed"
    },
    "tags": []
   },
   "source": [
    "# (Fairness) Metrics"
   ]
  },
  {
   "cell_type": "code",
   "execution_count": 57,
   "id": "a2e5e155",
   "metadata": {
    "execution": {
     "iopub.execute_input": "2025-08-19T18:17:16.228387Z",
     "iopub.status.busy": "2025-08-19T18:17:16.228007Z",
     "iopub.status.idle": "2025-08-19T18:17:16.247149Z",
     "shell.execute_reply": "2025-08-19T18:17:16.246241Z"
    },
    "papermill": {
     "duration": 0.056965,
     "end_time": "2025-08-19T18:17:16.270915",
     "exception": false,
     "start_time": "2025-08-19T18:17:16.213950",
     "status": "completed"
    },
    "tags": []
   },
   "outputs": [],
   "source": [
    "colname_to_bin = \"maxdeutsch1\"\n",
    "majority_value = org_train[colname_to_bin].mode()[0]\n",
    "\n",
    "org_test[\"majmin\"] = np.where(org_test[colname_to_bin] == majority_value, \"majority\", \"minority\")"
   ]
  },
  {
   "cell_type": "code",
   "execution_count": 58,
   "id": "17e3e4d5",
   "metadata": {
    "execution": {
     "iopub.execute_input": "2025-08-19T18:17:16.312056Z",
     "iopub.status.busy": "2025-08-19T18:17:16.309666Z",
     "iopub.status.idle": "2025-08-19T18:17:18.128282Z",
     "shell.execute_reply": "2025-08-19T18:17:18.127028Z"
    },
    "papermill": {
     "duration": 1.835129,
     "end_time": "2025-08-19T18:17:18.130036",
     "exception": false,
     "start_time": "2025-08-19T18:17:16.294907",
     "status": "completed"
    },
    "tags": []
   },
   "outputs": [],
   "source": [
    "example_universe = universe.copy()\n",
    "example_universe[\"cutoff\"] = example_universe[\"cutoff\"][0]\n",
    "example_universe[\"eval_fairness_grouping\"] = example_universe[\"eval_fairness_grouping\"][0]\n",
    "fairness_dict, metric_frame = universe_analysis.compute_metrics(\n",
    "    example_universe,\n",
    "    y_pred_prob=probs_test,\n",
    "    y_test=y_true,\n",
    "    org_test=org_test,\n",
    ")"
   ]
  },
  {
   "cell_type": "markdown",
   "id": "1fb7a0e9",
   "metadata": {
    "papermill": {
     "duration": 0.012576,
     "end_time": "2025-08-19T18:17:18.155754",
     "exception": false,
     "start_time": "2025-08-19T18:17:18.143178",
     "status": "completed"
    },
    "tags": []
   },
   "source": [
    "# Overall"
   ]
  },
  {
   "cell_type": "markdown",
   "id": "be1784b1",
   "metadata": {
    "papermill": {
     "duration": 0.012449,
     "end_time": "2025-08-19T18:17:18.180716",
     "exception": false,
     "start_time": "2025-08-19T18:17:18.168267",
     "status": "completed"
    },
    "tags": []
   },
   "source": [
    "Main fairness target: Equalized Odds. Seems to be a better fit than equal opportunity, since we're not only interested in Y = 1. Seems to be a better fit than demographic parity, since we also care about accuracy, not just equal distribution of preds.\n",
    "\n",
    "Pick column for computation of fairness metrics\n",
    "\n",
    "Performance\n",
    "Overall performance measures, most interesting in relation to the measures split by group below"
   ]
  },
  {
   "cell_type": "code",
   "execution_count": 59,
   "id": "b7672bee",
   "metadata": {
    "execution": {
     "iopub.execute_input": "2025-08-19T18:17:18.207382Z",
     "iopub.status.busy": "2025-08-19T18:17:18.207021Z",
     "iopub.status.idle": "2025-08-19T18:17:18.215466Z",
     "shell.execute_reply": "2025-08-19T18:17:18.214740Z"
    },
    "papermill": {
     "duration": 0.025654,
     "end_time": "2025-08-19T18:17:18.218747",
     "exception": false,
     "start_time": "2025-08-19T18:17:18.193093",
     "status": "completed"
    },
    "tags": []
   },
   "outputs": [
    {
     "data": {
      "text/plain": [
       "accuracy                   0.225605\n",
       "balanced accuracy          0.551377\n",
       "f1                         0.246902\n",
       "precision                  0.141047\n",
       "false positive rate        0.886819\n",
       "false negative rate        0.010428\n",
       "selection rate             0.900000\n",
       "count                  89710.000000\n",
       "dtype: float64"
      ]
     },
     "execution_count": 59,
     "metadata": {},
     "output_type": "execute_result"
    }
   ],
   "source": [
    "metric_frame.overall"
   ]
  },
  {
   "cell_type": "markdown",
   "id": "d93333c9",
   "metadata": {
    "papermill": {
     "duration": 0.021855,
     "end_time": "2025-08-19T18:17:18.266001",
     "exception": false,
     "start_time": "2025-08-19T18:17:18.244146",
     "status": "completed"
    },
    "tags": []
   },
   "source": [
    "By Group"
   ]
  },
  {
   "cell_type": "code",
   "execution_count": 60,
   "id": "52256966",
   "metadata": {
    "execution": {
     "iopub.execute_input": "2025-08-19T18:17:18.295089Z",
     "iopub.status.busy": "2025-08-19T18:17:18.294369Z",
     "iopub.status.idle": "2025-08-19T18:17:18.316535Z",
     "shell.execute_reply": "2025-08-19T18:17:18.315673Z"
    },
    "papermill": {
     "duration": 0.039075,
     "end_time": "2025-08-19T18:17:18.318091",
     "exception": false,
     "start_time": "2025-08-19T18:17:18.279016",
     "status": "completed"
    },
    "tags": []
   },
   "outputs": [
    {
     "data": {
      "text/html": [
       "<div>\n",
       "<style scoped>\n",
       "    .dataframe tbody tr th:only-of-type {\n",
       "        vertical-align: middle;\n",
       "    }\n",
       "\n",
       "    .dataframe tbody tr th {\n",
       "        vertical-align: top;\n",
       "    }\n",
       "\n",
       "    .dataframe thead th {\n",
       "        text-align: right;\n",
       "    }\n",
       "</style>\n",
       "<table border=\"1\" class=\"dataframe\">\n",
       "  <thead>\n",
       "    <tr style=\"text-align: right;\">\n",
       "      <th></th>\n",
       "      <th>accuracy</th>\n",
       "      <th>balanced accuracy</th>\n",
       "      <th>f1</th>\n",
       "      <th>precision</th>\n",
       "      <th>false positive rate</th>\n",
       "      <th>false negative rate</th>\n",
       "      <th>selection rate</th>\n",
       "      <th>count</th>\n",
       "    </tr>\n",
       "    <tr>\n",
       "      <th>majmin</th>\n",
       "      <th></th>\n",
       "      <th></th>\n",
       "      <th></th>\n",
       "      <th></th>\n",
       "      <th></th>\n",
       "      <th></th>\n",
       "      <th></th>\n",
       "      <th></th>\n",
       "    </tr>\n",
       "  </thead>\n",
       "  <tbody>\n",
       "    <tr>\n",
       "      <th>majority</th>\n",
       "      <td>0.246798</td>\n",
       "      <td>0.561421</td>\n",
       "      <td>0.257627</td>\n",
       "      <td>0.148102</td>\n",
       "      <td>0.866217</td>\n",
       "      <td>0.010941</td>\n",
       "      <td>0.882449</td>\n",
       "      <td>69170.0</td>\n",
       "    </tr>\n",
       "    <tr>\n",
       "      <th>minority</th>\n",
       "      <td>0.154236</td>\n",
       "      <td>0.518339</td>\n",
       "      <td>0.212797</td>\n",
       "      <td>0.119188</td>\n",
       "      <td>0.954876</td>\n",
       "      <td>0.008446</td>\n",
       "      <td>0.959104</td>\n",
       "      <td>20540.0</td>\n",
       "    </tr>\n",
       "  </tbody>\n",
       "</table>\n",
       "</div>"
      ],
      "text/plain": [
       "          accuracy  balanced accuracy        f1  precision  \\\n",
       "majmin                                                       \n",
       "majority  0.246798           0.561421  0.257627   0.148102   \n",
       "minority  0.154236           0.518339  0.212797   0.119188   \n",
       "\n",
       "          false positive rate  false negative rate  selection rate    count  \n",
       "majmin                                                                       \n",
       "majority             0.866217             0.010941        0.882449  69170.0  \n",
       "minority             0.954876             0.008446        0.959104  20540.0  "
      ]
     },
     "execution_count": 60,
     "metadata": {},
     "output_type": "execute_result"
    }
   ],
   "source": [
    "metric_frame.by_group"
   ]
  },
  {
   "cell_type": "code",
   "execution_count": 61,
   "id": "6e6c20ae",
   "metadata": {
    "execution": {
     "iopub.execute_input": "2025-08-19T18:17:18.363602Z",
     "iopub.status.busy": "2025-08-19T18:17:18.362889Z",
     "iopub.status.idle": "2025-08-19T18:17:20.312944Z",
     "shell.execute_reply": "2025-08-19T18:17:20.311911Z"
    },
    "papermill": {
     "duration": 1.976005,
     "end_time": "2025-08-19T18:17:20.314258",
     "exception": false,
     "start_time": "2025-08-19T18:17:18.338253",
     "status": "completed"
    },
    "tags": []
   },
   "outputs": [
    {
     "data": {
      "text/plain": [
       "array([[<Axes: title={'center': 'accuracy'}, xlabel='majmin'>,\n",
       "        <Axes: title={'center': 'balanced accuracy'}, xlabel='majmin'>,\n",
       "        <Axes: title={'center': 'f1'}, xlabel='majmin'>],\n",
       "       [<Axes: title={'center': 'precision'}, xlabel='majmin'>,\n",
       "        <Axes: title={'center': 'false positive rate'}, xlabel='majmin'>,\n",
       "        <Axes: title={'center': 'false negative rate'}, xlabel='majmin'>],\n",
       "       [<Axes: title={'center': 'selection rate'}, xlabel='majmin'>,\n",
       "        <Axes: title={'center': 'count'}, xlabel='majmin'>,\n",
       "        <Axes: xlabel='majmin'>]], dtype=object)"
      ]
     },
     "execution_count": 61,
     "metadata": {},
     "output_type": "execute_result"
    },
    {
     "data": {
      "image/png": "[encoded data removed]",
      "text/plain": [
       "<Figure size 1200x800 with 9 Axes>"
      ]
     },
     "metadata": {},
     "output_type": "display_data"
    }
   ],
   "source": [
    "# In a graphic\n",
    "metric_frame.by_group.plot.bar(\n",
    "    subplots=True,\n",
    "    layout=[3, 3],\n",
    "    legend=False,\n",
    "    figsize=[12, 8],\n",
    "    title=\"Show all metrics\",\n",
    ")"
   ]
  },
  {
   "cell_type": "markdown",
   "id": "b2e433ae",
   "metadata": {
    "papermill": {
     "duration": 0.014494,
     "end_time": "2025-08-19T18:17:20.347349",
     "exception": false,
     "start_time": "2025-08-19T18:17:20.332855",
     "status": "completed"
    },
    "tags": []
   },
   "source": [
    "# Final Output"
   ]
  },
  {
   "cell_type": "code",
   "execution_count": 62,
   "id": "3871301e",
   "metadata": {
    "execution": {
     "iopub.execute_input": "2025-08-19T18:17:20.377694Z",
     "iopub.status.busy": "2025-08-19T18:17:20.376824Z",
     "iopub.status.idle": "2025-08-19T18:17:20.388736Z",
     "shell.execute_reply": "2025-08-19T18:17:20.387651Z"
    },
    "papermill": {
     "duration": 0.028749,
     "end_time": "2025-08-19T18:17:20.390236",
     "exception": false,
     "start_time": "2025-08-19T18:17:20.361487",
     "status": "completed"
    },
    "tags": []
   },
   "outputs": [
    {
     "data": {
      "text/plain": [
       "4"
      ]
     },
     "execution_count": 62,
     "metadata": {},
     "output_type": "execute_result"
    }
   ],
   "source": [
    "sub_universes = universe_analysis.generate_sub_universes()\n",
    "len(sub_universes)"
   ]
  },
  {
   "cell_type": "code",
   "execution_count": 63,
   "id": "d9cfdaca",
   "metadata": {
    "execution": {
     "iopub.execute_input": "2025-08-19T18:17:20.423699Z",
     "iopub.status.busy": "2025-08-19T18:17:20.423251Z",
     "iopub.status.idle": "2025-08-19T18:17:20.440880Z",
     "shell.execute_reply": "2025-08-19T18:17:20.439824Z"
    },
    "papermill": {
     "duration": 0.034996,
     "end_time": "2025-08-19T18:17:20.442697",
     "exception": false,
     "start_time": "2025-08-19T18:17:20.407701",
     "status": "completed"
    },
    "tags": []
   },
   "outputs": [],
   "source": [
    "def filter_sub_universe_data(sub_universe, org_test):\n",
    "    # Keep all rows — no filtering\n",
    "    keep_rows_mask = np.ones(org_test.shape[0], dtype=bool)\n",
    "\n",
    "    print(f\"[INFO] Keeping all rows: {keep_rows_mask.sum()} rows retained.\")\n",
    "    return keep_rows_mask"
   ]
  },
  {
   "cell_type": "code",
   "execution_count": 64,
   "id": "2bc31ac1",
   "metadata": {
    "execution": {
     "iopub.execute_input": "2025-08-19T18:17:20.479919Z",
     "iopub.status.busy": "2025-08-19T18:17:20.479494Z",
     "iopub.status.idle": "2025-08-19T18:17:27.562298Z",
     "shell.execute_reply": "2025-08-19T18:17:27.561331Z"
    },
    "papermill": {
     "duration": 7.100013,
     "end_time": "2025-08-19T18:17:27.563739",
     "exception": false,
     "start_time": "2025-08-19T18:17:20.463726",
     "status": "completed"
    },
    "tags": []
   },
   "outputs": [
    {
     "name": "stdout",
     "output_type": "stream",
     "text": [
      "Stopping execution_time clock.\n",
      "[INFO] Keeping all rows: 89710 rows retained.\n"
     ]
    },
    {
     "name": "stdout",
     "output_type": "stream",
     "text": [
      "[INFO] Keeping all rows: 89710 rows retained.\n"
     ]
    },
    {
     "name": "stdout",
     "output_type": "stream",
     "text": [
      "[INFO] Keeping all rows: 89710 rows retained.\n"
     ]
    },
    {
     "name": "stdout",
     "output_type": "stream",
     "text": [
      "[INFO] Keeping all rows: 89710 rows retained.\n"
     ]
    },
    {
     "data": {
      "text/html": [
       "<div>\n",
       "<style scoped>\n",
       "    .dataframe tbody tr th:only-of-type {\n",
       "        vertical-align: middle;\n",
       "    }\n",
       "\n",
       "    .dataframe tbody tr th {\n",
       "        vertical-align: top;\n",
       "    }\n",
       "\n",
       "    .dataframe thead th {\n",
       "        text-align: right;\n",
       "    }\n",
       "</style>\n",
       "<table border=\"1\" class=\"dataframe\">\n",
       "  <thead>\n",
       "    <tr style=\"text-align: right;\">\n",
       "      <th></th>\n",
       "      <th>run_no</th>\n",
       "      <th>universe_id</th>\n",
       "      <th>universe_settings</th>\n",
       "      <th>execution_time</th>\n",
       "      <th>test_size_n</th>\n",
       "      <th>test_size_frac</th>\n",
       "      <th>fair_main_equalized_odds_difference</th>\n",
       "      <th>fair_main_equalized_odds_ratio</th>\n",
       "      <th>fair_main_demographic_parity_difference</th>\n",
       "      <th>fair_main_demographic_parity_ratio</th>\n",
       "      <th>...</th>\n",
       "      <th>perf_grp_precision_0</th>\n",
       "      <th>perf_grp_precision_1</th>\n",
       "      <th>perf_grp_false positive rate_0</th>\n",
       "      <th>perf_grp_false positive rate_1</th>\n",
       "      <th>perf_grp_false negative rate_0</th>\n",
       "      <th>perf_grp_false negative rate_1</th>\n",
       "      <th>perf_grp_selection rate_0</th>\n",
       "      <th>perf_grp_selection rate_1</th>\n",
       "      <th>perf_grp_count_0</th>\n",
       "      <th>perf_grp_count_1</th>\n",
       "    </tr>\n",
       "  </thead>\n",
       "  <tbody>\n",
       "    <tr>\n",
       "      <th>0</th>\n",
       "      <td>3</td>\n",
       "      <td>e17875f7076cbd8b626c14edad8a50ba</td>\n",
       "      <td>{\"cutoff\": \"quantile_0.1\", \"eval_fairness_grou...</td>\n",
       "      <td>28.879387</td>\n",
       "      <td>89710</td>\n",
       "      <td>1.0</td>\n",
       "      <td>0.088659</td>\n",
       "      <td>0.907152</td>\n",
       "      <td>0.076655</td>\n",
       "      <td>0.920076</td>\n",
       "      <td>...</td>\n",
       "      <td>NaN</td>\n",
       "      <td>NaN</td>\n",
       "      <td>NaN</td>\n",
       "      <td>NaN</td>\n",
       "      <td>NaN</td>\n",
       "      <td>NaN</td>\n",
       "      <td>NaN</td>\n",
       "      <td>NaN</td>\n",
       "      <td>NaN</td>\n",
       "      <td>NaN</td>\n",
       "    </tr>\n",
       "    <tr>\n",
       "      <th>0</th>\n",
       "      <td>3</td>\n",
       "      <td>e17875f7076cbd8b626c14edad8a50ba</td>\n",
       "      <td>{\"cutoff\": \"quantile_0.1\", \"eval_fairness_grou...</td>\n",
       "      <td>28.879387</td>\n",
       "      <td>89710</td>\n",
       "      <td>1.0</td>\n",
       "      <td>0.088659</td>\n",
       "      <td>0.907152</td>\n",
       "      <td>0.076655</td>\n",
       "      <td>0.920076</td>\n",
       "      <td>...</td>\n",
       "      <td>0.119188</td>\n",
       "      <td>0.148102</td>\n",
       "      <td>0.954876</td>\n",
       "      <td>0.866217</td>\n",
       "      <td>0.008446</td>\n",
       "      <td>0.010941</td>\n",
       "      <td>0.959104</td>\n",
       "      <td>0.882449</td>\n",
       "      <td>20540.0</td>\n",
       "      <td>69170.0</td>\n",
       "    </tr>\n",
       "    <tr>\n",
       "      <th>0</th>\n",
       "      <td>3</td>\n",
       "      <td>e17875f7076cbd8b626c14edad8a50ba</td>\n",
       "      <td>{\"cutoff\": \"quantile_0.25\", \"eval_fairness_gro...</td>\n",
       "      <td>28.879387</td>\n",
       "      <td>89710</td>\n",
       "      <td>1.0</td>\n",
       "      <td>0.158380</td>\n",
       "      <td>0.811890</td>\n",
       "      <td>0.137153</td>\n",
       "      <td>0.839727</td>\n",
       "      <td>...</td>\n",
       "      <td>NaN</td>\n",
       "      <td>NaN</td>\n",
       "      <td>NaN</td>\n",
       "      <td>NaN</td>\n",
       "      <td>NaN</td>\n",
       "      <td>NaN</td>\n",
       "      <td>NaN</td>\n",
       "      <td>NaN</td>\n",
       "      <td>NaN</td>\n",
       "      <td>NaN</td>\n",
       "    </tr>\n",
       "    <tr>\n",
       "      <th>0</th>\n",
       "      <td>3</td>\n",
       "      <td>e17875f7076cbd8b626c14edad8a50ba</td>\n",
       "      <td>{\"cutoff\": \"quantile_0.25\", \"eval_fairness_gro...</td>\n",
       "      <td>28.879387</td>\n",
       "      <td>89710</td>\n",
       "      <td>1.0</td>\n",
       "      <td>0.158380</td>\n",
       "      <td>0.811890</td>\n",
       "      <td>0.137153</td>\n",
       "      <td>0.839727</td>\n",
       "      <td>...</td>\n",
       "      <td>0.129544</td>\n",
       "      <td>0.174429</td>\n",
       "      <td>0.841955</td>\n",
       "      <td>0.683575</td>\n",
       "      <td>0.038429</td>\n",
       "      <td>0.051422</td>\n",
       "      <td>0.855745</td>\n",
       "      <td>0.718592</td>\n",
       "      <td>20540.0</td>\n",
       "      <td>69170.0</td>\n",
       "    </tr>\n",
       "  </tbody>\n",
       "</table>\n",
       "<p>4 rows × 50 columns</p>\n",
       "</div>"
      ],
      "text/plain": [
       "  run_no                       universe_id  \\\n",
       "0      3  e17875f7076cbd8b626c14edad8a50ba   \n",
       "0      3  e17875f7076cbd8b626c14edad8a50ba   \n",
       "0      3  e17875f7076cbd8b626c14edad8a50ba   \n",
       "0      3  e17875f7076cbd8b626c14edad8a50ba   \n",
       "\n",
       "                                   universe_settings  execution_time  \\\n",
       "0  {\"cutoff\": \"quantile_0.1\", \"eval_fairness_grou...       28.879387   \n",
       "0  {\"cutoff\": \"quantile_0.1\", \"eval_fairness_grou...       28.879387   \n",
       "0  {\"cutoff\": \"quantile_0.25\", \"eval_fairness_gro...       28.879387   \n",
       "0  {\"cutoff\": \"quantile_0.25\", \"eval_fairness_gro...       28.879387   \n",
       "\n",
       "   test_size_n  test_size_frac  fair_main_equalized_odds_difference  \\\n",
       "0        89710             1.0                             0.088659   \n",
       "0        89710             1.0                             0.088659   \n",
       "0        89710             1.0                             0.158380   \n",
       "0        89710             1.0                             0.158380   \n",
       "\n",
       "   fair_main_equalized_odds_ratio  fair_main_demographic_parity_difference  \\\n",
       "0                        0.907152                                 0.076655   \n",
       "0                        0.907152                                 0.076655   \n",
       "0                        0.811890                                 0.137153   \n",
       "0                        0.811890                                 0.137153   \n",
       "\n",
       "   fair_main_demographic_parity_ratio  ...  perf_grp_precision_0  \\\n",
       "0                            0.920076  ...                   NaN   \n",
       "0                            0.920076  ...              0.119188   \n",
       "0                            0.839727  ...                   NaN   \n",
       "0                            0.839727  ...              0.129544   \n",
       "\n",
       "   perf_grp_precision_1  perf_grp_false positive rate_0  \\\n",
       "0                   NaN                             NaN   \n",
       "0              0.148102                        0.954876   \n",
       "0                   NaN                             NaN   \n",
       "0              0.174429                        0.841955   \n",
       "\n",
       "   perf_grp_false positive rate_1  perf_grp_false negative rate_0  \\\n",
       "0                             NaN                             NaN   \n",
       "0                        0.866217                        0.008446   \n",
       "0                             NaN                             NaN   \n",
       "0                        0.683575                        0.038429   \n",
       "\n",
       "   perf_grp_false negative rate_1  perf_grp_selection rate_0  \\\n",
       "0                             NaN                        NaN   \n",
       "0                        0.010941                   0.959104   \n",
       "0                             NaN                        NaN   \n",
       "0                        0.051422                   0.855745   \n",
       "\n",
       "   perf_grp_selection rate_1  perf_grp_count_0  perf_grp_count_1  \n",
       "0                        NaN               NaN               NaN  \n",
       "0                   0.882449           20540.0           69170.0  \n",
       "0                        NaN               NaN               NaN  \n",
       "0                   0.718592           20540.0           69170.0  \n",
       "\n",
       "[4 rows x 50 columns]"
      ]
     },
     "execution_count": 64,
     "metadata": {},
     "output_type": "execute_result"
    }
   ],
   "source": [
    "final_output = universe_analysis.generate_final_output(\n",
    "    y_pred_prob=probs_test,\n",
    "    y_test=y_true,\n",
    "    org_test=org_test,\n",
    "    filter_data=filter_sub_universe_data,\n",
    "    cp_metrics_df=cp_metrics_df,\n",
    "    save=True,\n",
    ")\n",
    "final_output"
   ]
  },
  {
   "cell_type": "code",
   "execution_count": null,
   "id": "8b80a1ff",
   "metadata": {
    "papermill": {
     "duration": 0.032608,
     "end_time": "2025-08-19T18:17:27.626136",
     "exception": false,
     "start_time": "2025-08-19T18:17:27.593528",
     "status": "completed"
    },
    "tags": []
   },
   "outputs": [],
   "source": []
  },
  {
   "cell_type": "code",
   "execution_count": null,
   "id": "275c9fad",
   "metadata": {
    "papermill": {
     "duration": 0.015762,
     "end_time": "2025-08-19T18:17:27.658118",
     "exception": false,
     "start_time": "2025-08-19T18:17:27.642356",
     "status": "completed"
    },
    "tags": []
   },
   "outputs": [],
   "source": []
  }
 ],
 "metadata": {
  "celltoolbar": "Tags",
  "kernelspec": {
   "display_name": "Python (CMA Fairness)",
   "language": "python",
   "name": "cma_fair_env"
  },
  "language_info": {
   "codemirror_mode": {
    "name": "ipython",
    "version": 3
   },
   "file_extension": ".py",
   "mimetype": "text/x-python",
   "name": "python",
   "nbconvert_exporter": "python",
   "pygments_lexer": "ipython3",
   "version": "3.10.12"
  },
  "papermill": {
   "default_parameters": {},
   "duration": 39.721567,
   "end_time": "2025-08-19T18:17:28.600542",
   "environment_variables": {},
   "exception": null,
   "input_path": "universe_analysis.ipynb",
   "output_path": "output/runs/3/notebooks/m_3-e17875f7076cbd8b626c14edad8a50ba.ipynb",
   "parameters": {
    "output_dir": "output",
    "run_no": "3",
    "seed": "2023",
    "universe": "{\"cutoff\": [\"quantile_0.1\", \"quantile_0.25\"], \"eval_fairness_grouping\": [\"majority-minority\", \"nationality-all\"], \"exclude_features\": \"nationality\", \"exclude_subgroups\": \"keep-all\", \"model\": \"elasticnet\", \"scale\": \"scale\", \"training_size\": \"25k\", \"training_year\": \"2010_14\"}",
    "universe_id": "e17875f7076cbd8b626c14edad8a50ba"
   },
   "start_time": "2025-08-19T18:16:48.878975",
   "version": "2.6.0"
  }
 },
 "nbformat": 4,
 "nbformat_minor": 5
}