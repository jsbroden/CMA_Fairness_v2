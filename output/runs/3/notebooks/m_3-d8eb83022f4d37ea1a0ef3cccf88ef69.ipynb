{
 "cells": [
  {
   "cell_type": "markdown",
   "id": "ef23dbb3",
   "metadata": {
    "papermill": {
     "duration": 0.023914,
     "end_time": "2025-08-19T18:17:44.535868",
     "exception": false,
     "start_time": "2025-08-19T18:17:44.511954",
     "status": "completed"
    },
    "tags": []
   },
   "source": [
    "# Setup"
   ]
  },
  {
   "cell_type": "code",
   "execution_count": 1,
   "id": "0bc8e7dc",
   "metadata": {
    "execution": {
     "iopub.execute_input": "2025-08-19T18:17:44.560148Z",
     "iopub.status.busy": "2025-08-19T18:17:44.559841Z",
     "iopub.status.idle": "2025-08-19T18:17:44.571524Z",
     "shell.execute_reply": "2025-08-19T18:17:44.570604Z"
    },
    "papermill": {
     "duration": 0.029417,
     "end_time": "2025-08-19T18:17:44.578814",
     "exception": false,
     "start_time": "2025-08-19T18:17:44.549397",
     "status": "completed"
    },
    "tags": []
   },
   "outputs": [
    {
     "name": "stdout",
     "output_type": "stream",
     "text": [
      "/dss/dsshome1/0C/ra93lal2/cma/CMA_Fairness_v2\n"
     ]
    },
    {
     "name": "stderr",
     "output_type": "stream",
     "text": [
      "/dss/dsshome1/0C/ra93lal2/.local/share/virtualenvs/CMA_Fairness_v2-3j10GkSs/lib/python3.10/site-packages/IPython/core/magics/osm.py:393: UserWarning: This is now an optional IPython functionality, using bookmarks requires you to install the `pickleshare` library.\n",
      "  bkms = self.shell.db.get('bookmarks', {})\n",
      "/dss/dsshome1/0C/ra93lal2/.local/share/virtualenvs/CMA_Fairness_v2-3j10GkSs/lib/python3.10/site-packages/IPython/core/magics/osm.py:417: UserWarning: This is now an optional IPython functionality, setting dhist requires you to install the `pickleshare` library.\n",
      "  self.shell.db['dhist'] = compress_dhist(dhist)[-100:]\n"
     ]
    }
   ],
   "source": [
    "%cd ~/cma/CMA_Fairness_v2"
   ]
  },
  {
   "cell_type": "markdown",
   "id": "9d235661",
   "metadata": {
    "papermill": {
     "duration": 0.010058,
     "end_time": "2025-08-19T18:17:44.604829",
     "exception": false,
     "start_time": "2025-08-19T18:17:44.594771",
     "status": "completed"
    },
    "tags": []
   },
   "source": [
    "The following cell holds the definition of our parameters, these values can be overriden by rendering the with e.g. the following command:\n",
    "\n",
    "papermill -p alpha 0.2 -p ratio 0.3 universe_analysis.ipynb output/test_run.ipynb"
   ]
  },
  {
   "cell_type": "code",
   "execution_count": 2,
   "id": "4a789d8e",
   "metadata": {
    "execution": {
     "iopub.execute_input": "2025-08-19T18:17:44.624147Z",
     "iopub.status.busy": "2025-08-19T18:17:44.623682Z",
     "iopub.status.idle": "2025-08-19T18:17:44.628452Z",
     "shell.execute_reply": "2025-08-19T18:17:44.627539Z"
    },
    "papermill": {
     "duration": 0.016052,
     "end_time": "2025-08-19T18:17:44.629742",
     "exception": false,
     "start_time": "2025-08-19T18:17:44.613690",
     "status": "completed"
    },
    "tags": []
   },
   "outputs": [
    {
     "name": "stdout",
     "output_type": "stream",
     "text": [
      "Current working directory: /dss/dsshome1/0C/ra93lal2/cma/CMA_Fairness_v2\n"
     ]
    }
   ],
   "source": [
    "import os\n",
    "print(\"Current working directory:\", os.getcwd())"
   ]
  },
  {
   "cell_type": "code",
   "execution_count": 3,
   "id": "4132aaed",
   "metadata": {
    "execution": {
     "iopub.execute_input": "2025-08-19T18:17:44.649431Z",
     "iopub.status.busy": "2025-08-19T18:17:44.648851Z",
     "iopub.status.idle": "2025-08-19T18:17:44.658650Z",
     "shell.execute_reply": "2025-08-19T18:17:44.656228Z"
    },
    "papermill": {
     "duration": 0.020953,
     "end_time": "2025-08-19T18:17:44.659856",
     "exception": false,
     "start_time": "2025-08-19T18:17:44.638903",
     "status": "completed"
    },
    "tags": [
     "parameters"
    ]
   },
   "outputs": [],
   "source": [
    "run_no = 0\n",
    "universe_id = \"test\"\n",
    "universe = {\n",
    "    \"training_size\": \"5k\", # \"25k\", \"5k\", \"1k\"\n",
    "    \"training_year\": \"2012_14\", # \"2014\", \"2012_14\", \"2010_14\"\n",
    "    \"scale\": \"scale\", # \"scale\", \"do-not-scale\",\n",
    "    \"model\": \"elasticnet\", # \"logreg\", \"penalized_logreg\", \"rf\", \"gbm\", \"elasticnet\"\n",
    "    \"cutoff\": [\"quantile_0.15\", \"quantile_0.30\"],\n",
    "    \"exclude_features\": \"age\", # \"none\", \"nationality\", \"sex\", \"nationality-sex\", \"age\"\n",
    "    \"exclude_subgroups\": \"drop-non-german\", # \"keep-all\", \"drop-non-german\"\n",
    "    \"eval_fairness_grouping\": [\"majority-minority\", \"nationality-all\"]\n",
    "}\n",
    "\n",
    "output_dir=\"./output\"\n",
    "seed=0"
   ]
  },
  {
   "cell_type": "code",
   "execution_count": 4,
   "id": "3a607f00",
   "metadata": {
    "execution": {
     "iopub.execute_input": "2025-08-19T18:17:44.681996Z",
     "iopub.status.busy": "2025-08-19T18:17:44.681327Z",
     "iopub.status.idle": "2025-08-19T18:17:44.685472Z",
     "shell.execute_reply": "2025-08-19T18:17:44.684924Z"
    },
    "papermill": {
     "duration": 0.015185,
     "end_time": "2025-08-19T18:17:44.686509",
     "exception": false,
     "start_time": "2025-08-19T18:17:44.671324",
     "status": "completed"
    },
    "tags": [
     "injected-parameters"
    ]
   },
   "outputs": [],
   "source": [
    "# Parameters\n",
    "universe_id = \"d8eb83022f4d37ea1a0ef3cccf88ef69\"\n",
    "run_no = \"3\"\n",
    "universe = \"{\\\"cutoff\\\": [\\\"quantile_0.1\\\", \\\"quantile_0.25\\\"], \\\"eval_fairness_grouping\\\": [\\\"majority-minority\\\", \\\"nationality-all\\\"], \\\"exclude_features\\\": \\\"none\\\", \\\"exclude_subgroups\\\": \\\"drop-non-german\\\", \\\"model\\\": \\\"logreg\\\", \\\"scale\\\": \\\"do-not-scale\\\", \\\"training_size\\\": \\\"25k\\\", \\\"training_year\\\": \\\"2010_14\\\"}\"\n",
    "output_dir = \"output\"\n",
    "seed = \"2023\"\n"
   ]
  },
  {
   "cell_type": "code",
   "execution_count": 5,
   "id": "a5d7941f",
   "metadata": {
    "execution": {
     "iopub.execute_input": "2025-08-19T18:17:44.706267Z",
     "iopub.status.busy": "2025-08-19T18:17:44.705520Z",
     "iopub.status.idle": "2025-08-19T18:17:44.735946Z",
     "shell.execute_reply": "2025-08-19T18:17:44.733813Z"
    },
    "papermill": {
     "duration": 0.042785,
     "end_time": "2025-08-19T18:17:44.738157",
     "exception": false,
     "start_time": "2025-08-19T18:17:44.695372",
     "status": "completed"
    },
    "tags": []
   },
   "outputs": [],
   "source": [
    "import json\n",
    "if isinstance(universe, str):\n",
    "    universe = json.loads(universe)"
   ]
  },
  {
   "cell_type": "code",
   "execution_count": 6,
   "id": "7076ccb1",
   "metadata": {
    "execution": {
     "iopub.execute_input": "2025-08-19T18:17:44.774301Z",
     "iopub.status.busy": "2025-08-19T18:17:44.773075Z",
     "iopub.status.idle": "2025-08-19T18:17:44.821336Z",
     "shell.execute_reply": "2025-08-19T18:17:44.820709Z"
    },
    "papermill": {
     "duration": 0.065076,
     "end_time": "2025-08-19T18:17:44.823911",
     "exception": false,
     "start_time": "2025-08-19T18:17:44.758835",
     "status": "completed"
    },
    "tags": []
   },
   "outputs": [],
   "source": [
    "# Auto-reload the custom package\n",
    "%load_ext autoreload\n",
    "%autoreload 1\n",
    "%aimport fairness_multiverse"
   ]
  },
  {
   "cell_type": "code",
   "execution_count": 7,
   "id": "94c8eb93",
   "metadata": {
    "execution": {
     "iopub.execute_input": "2025-08-19T18:17:44.878078Z",
     "iopub.status.busy": "2025-08-19T18:17:44.876965Z",
     "iopub.status.idle": "2025-08-19T18:17:46.391354Z",
     "shell.execute_reply": "2025-08-19T18:17:46.390615Z"
    },
    "papermill": {
     "duration": 1.535641,
     "end_time": "2025-08-19T18:17:46.392799",
     "exception": false,
     "start_time": "2025-08-19T18:17:44.857158",
     "status": "completed"
    },
    "tags": []
   },
   "outputs": [],
   "source": [
    "from fairness_multiverse.universe import UniverseAnalysis\n",
    "\n",
    "universe_analysis = UniverseAnalysis(\n",
    "    run_no = run_no,\n",
    "    universe_id = universe_id,\n",
    "    universe = universe,\n",
    "    output_dir=output_dir,\n",
    ")"
   ]
  },
  {
   "cell_type": "code",
   "execution_count": 8,
   "id": "2a6381cf",
   "metadata": {
    "execution": {
     "iopub.execute_input": "2025-08-19T18:17:46.414011Z",
     "iopub.status.busy": "2025-08-19T18:17:46.412832Z",
     "iopub.status.idle": "2025-08-19T18:17:46.421327Z",
     "shell.execute_reply": "2025-08-19T18:17:46.420447Z"
    },
    "papermill": {
     "duration": 0.020329,
     "end_time": "2025-08-19T18:17:46.422728",
     "exception": false,
     "start_time": "2025-08-19T18:17:46.402399",
     "status": "completed"
    },
    "tags": []
   },
   "outputs": [
    {
     "name": "stdout",
     "output_type": "stream",
     "text": [
      "Using Seed: 2023\n"
     ]
    }
   ],
   "source": [
    "import numpy as np\n",
    "parsed_seed = int(seed)\n",
    "np.random.seed(parsed_seed)\n",
    "print(f\"Using Seed: {parsed_seed}\")"
   ]
  },
  {
   "cell_type": "markdown",
   "id": "b6e958b4",
   "metadata": {
    "papermill": {
     "duration": 0.008803,
     "end_time": "2025-08-19T18:17:46.441912",
     "exception": false,
     "start_time": "2025-08-19T18:17:46.433109",
     "status": "completed"
    },
    "tags": []
   },
   "source": [
    "# Loading Data"
   ]
  },
  {
   "cell_type": "code",
   "execution_count": 9,
   "id": "98701482",
   "metadata": {
    "execution": {
     "iopub.execute_input": "2025-08-19T18:17:46.462579Z",
     "iopub.status.busy": "2025-08-19T18:17:46.461164Z",
     "iopub.status.idle": "2025-08-19T18:17:56.835485Z",
     "shell.execute_reply": "2025-08-19T18:17:56.834467Z"
    },
    "papermill": {
     "duration": 10.386038,
     "end_time": "2025-08-19T18:17:56.836776",
     "exception": false,
     "start_time": "2025-08-19T18:17:46.450738",
     "status": "completed"
    },
    "tags": []
   },
   "outputs": [
    {
     "name": "stdout",
     "output_type": "stream",
     "text": [
      "Loading SIAB data from cache: data/siab_cached.csv.gz\n"
     ]
    },
    {
     "name": "stdout",
     "output_type": "stream",
     "text": [
      "(643690, 164)\n"
     ]
    }
   ],
   "source": [
    "from pathlib import Path\n",
    "import pandas as pd\n",
    "\n",
    "# File paths\n",
    "raw_file = Path(\"data/raw/siab.csv\")\n",
    "cache_file = Path(\"data/siab_cached.csv.gz\")\n",
    "\n",
    "# Ensure cache directory exists\n",
    "cache_file.parent.mkdir(parents=True, exist_ok=True)\n",
    "\n",
    "# Load with simple caching\n",
    "if cache_file.exists():\n",
    "    print(f\"Loading SIAB data from cache: {cache_file}\")\n",
    "    siab = pd.read_csv(cache_file, compression='gzip')\n",
    "else:\n",
    "    print(f\"Cache not found. Reading raw SIAB data: {raw_file}\")\n",
    "    siab = pd.read_csv(raw_file)\n",
    "    siab.to_csv(cache_file, index=False, compression='gzip')\n",
    "    print(f\"Cached SIAB data to: {cache_file}\")\n",
    "\n",
    "print(siab.shape)"
   ]
  },
  {
   "cell_type": "code",
   "execution_count": 10,
   "id": "058d2abb",
   "metadata": {
    "execution": {
     "iopub.execute_input": "2025-08-19T18:17:56.868539Z",
     "iopub.status.busy": "2025-08-19T18:17:56.867874Z",
     "iopub.status.idle": "2025-08-19T18:17:57.048139Z",
     "shell.execute_reply": "2025-08-19T18:17:57.047197Z"
    },
    "papermill": {
     "duration": 0.201233,
     "end_time": "2025-08-19T18:17:57.051698",
     "exception": false,
     "start_time": "2025-08-19T18:17:56.850465",
     "status": "completed"
    },
    "tags": []
   },
   "outputs": [
    {
     "data": {
      "text/html": [
       "<div>\n",
       "<style scoped>\n",
       "    .dataframe tbody tr th:only-of-type {\n",
       "        vertical-align: middle;\n",
       "    }\n",
       "\n",
       "    .dataframe tbody tr th {\n",
       "        vertical-align: top;\n",
       "    }\n",
       "\n",
       "    .dataframe thead th {\n",
       "        text-align: right;\n",
       "    }\n",
       "</style>\n",
       "<table border=\"1\" class=\"dataframe\">\n",
       "  <thead>\n",
       "    <tr style=\"text-align: right;\">\n",
       "      <th></th>\n",
       "      <th>persnr</th>\n",
       "      <th>year</th>\n",
       "      <th>nrEntry</th>\n",
       "      <th>ltue</th>\n",
       "      <th>employed_before</th>\n",
       "      <th>receipt_leh_before</th>\n",
       "      <th>receipt_lhg_before</th>\n",
       "      <th>se_before</th>\n",
       "      <th>ASU_notue_seeking_before</th>\n",
       "      <th>ASU_other_before</th>\n",
       "      <th>...</th>\n",
       "      <th>minijob_tot_dur_byage</th>\n",
       "      <th>ft_tot_dur_byage</th>\n",
       "      <th>befrist_tot_dur_byage</th>\n",
       "      <th>leih_tot_dur_byage</th>\n",
       "      <th>LHG_tot_dur_byage</th>\n",
       "      <th>LEH_tot_dur_byage</th>\n",
       "      <th>almp_tot_dur_byage</th>\n",
       "      <th>almp_aw_tot_dur_byage</th>\n",
       "      <th>se_tot_dur_byage</th>\n",
       "      <th>seeking1_tot_dur_byage</th>\n",
       "    </tr>\n",
       "  </thead>\n",
       "  <tbody>\n",
       "    <tr>\n",
       "      <th>0</th>\n",
       "      <td>7</td>\n",
       "      <td>2015</td>\n",
       "      <td>1</td>\n",
       "      <td>0</td>\n",
       "      <td>1</td>\n",
       "      <td>0</td>\n",
       "      <td>0</td>\n",
       "      <td>0</td>\n",
       "      <td>1</td>\n",
       "      <td>0</td>\n",
       "      <td>...</td>\n",
       "      <td>0.000000</td>\n",
       "      <td>0.000000</td>\n",
       "      <td>15.043478</td>\n",
       "      <td>0.000000</td>\n",
       "      <td>0.000000</td>\n",
       "      <td>0.000000</td>\n",
       "      <td>0.000000</td>\n",
       "      <td>0.000000</td>\n",
       "      <td>0.000000</td>\n",
       "      <td>0.000000</td>\n",
       "    </tr>\n",
       "    <tr>\n",
       "      <th>1</th>\n",
       "      <td>18</td>\n",
       "      <td>2010</td>\n",
       "      <td>1</td>\n",
       "      <td>1</td>\n",
       "      <td>0</td>\n",
       "      <td>0</td>\n",
       "      <td>0</td>\n",
       "      <td>0</td>\n",
       "      <td>0</td>\n",
       "      <td>0</td>\n",
       "      <td>...</td>\n",
       "      <td>0.000000</td>\n",
       "      <td>0.000000</td>\n",
       "      <td>0.000000</td>\n",
       "      <td>0.000000</td>\n",
       "      <td>0.000000</td>\n",
       "      <td>0.000000</td>\n",
       "      <td>0.000000</td>\n",
       "      <td>0.000000</td>\n",
       "      <td>0.000000</td>\n",
       "      <td>0.000000</td>\n",
       "    </tr>\n",
       "    <tr>\n",
       "      <th>2</th>\n",
       "      <td>18</td>\n",
       "      <td>2011</td>\n",
       "      <td>2</td>\n",
       "      <td>0</td>\n",
       "      <td>1</td>\n",
       "      <td>0</td>\n",
       "      <td>1</td>\n",
       "      <td>0</td>\n",
       "      <td>1</td>\n",
       "      <td>0</td>\n",
       "      <td>...</td>\n",
       "      <td>2.714286</td>\n",
       "      <td>2.714286</td>\n",
       "      <td>0.000000</td>\n",
       "      <td>0.000000</td>\n",
       "      <td>10.775510</td>\n",
       "      <td>0.000000</td>\n",
       "      <td>8.367347</td>\n",
       "      <td>0.000000</td>\n",
       "      <td>0.000000</td>\n",
       "      <td>9.836735</td>\n",
       "    </tr>\n",
       "    <tr>\n",
       "      <th>3</th>\n",
       "      <td>18</td>\n",
       "      <td>2012</td>\n",
       "      <td>3</td>\n",
       "      <td>0</td>\n",
       "      <td>1</td>\n",
       "      <td>0</td>\n",
       "      <td>1</td>\n",
       "      <td>0</td>\n",
       "      <td>1</td>\n",
       "      <td>0</td>\n",
       "      <td>...</td>\n",
       "      <td>4.200000</td>\n",
       "      <td>4.200000</td>\n",
       "      <td>0.000000</td>\n",
       "      <td>0.000000</td>\n",
       "      <td>12.100000</td>\n",
       "      <td>0.000000</td>\n",
       "      <td>9.400000</td>\n",
       "      <td>0.000000</td>\n",
       "      <td>0.000000</td>\n",
       "      <td>9.960000</td>\n",
       "    </tr>\n",
       "    <tr>\n",
       "      <th>4</th>\n",
       "      <td>18</td>\n",
       "      <td>2012</td>\n",
       "      <td>4</td>\n",
       "      <td>0</td>\n",
       "      <td>1</td>\n",
       "      <td>0</td>\n",
       "      <td>1</td>\n",
       "      <td>0</td>\n",
       "      <td>1</td>\n",
       "      <td>0</td>\n",
       "      <td>...</td>\n",
       "      <td>5.460000</td>\n",
       "      <td>5.460000</td>\n",
       "      <td>0.000000</td>\n",
       "      <td>0.000000</td>\n",
       "      <td>13.360000</td>\n",
       "      <td>0.000000</td>\n",
       "      <td>10.320000</td>\n",
       "      <td>0.000000</td>\n",
       "      <td>0.000000</td>\n",
       "      <td>10.280000</td>\n",
       "    </tr>\n",
       "    <tr>\n",
       "      <th>...</th>\n",
       "      <td>...</td>\n",
       "      <td>...</td>\n",
       "      <td>...</td>\n",
       "      <td>...</td>\n",
       "      <td>...</td>\n",
       "      <td>...</td>\n",
       "      <td>...</td>\n",
       "      <td>...</td>\n",
       "      <td>...</td>\n",
       "      <td>...</td>\n",
       "      <td>...</td>\n",
       "      <td>...</td>\n",
       "      <td>...</td>\n",
       "      <td>...</td>\n",
       "      <td>...</td>\n",
       "      <td>...</td>\n",
       "      <td>...</td>\n",
       "      <td>...</td>\n",
       "      <td>...</td>\n",
       "      <td>...</td>\n",
       "      <td>...</td>\n",
       "    </tr>\n",
       "    <tr>\n",
       "      <th>643685</th>\n",
       "      <td>1827860</td>\n",
       "      <td>2013</td>\n",
       "      <td>1</td>\n",
       "      <td>0</td>\n",
       "      <td>0</td>\n",
       "      <td>0</td>\n",
       "      <td>1</td>\n",
       "      <td>0</td>\n",
       "      <td>0</td>\n",
       "      <td>1</td>\n",
       "      <td>...</td>\n",
       "      <td>0.000000</td>\n",
       "      <td>0.000000</td>\n",
       "      <td>0.000000</td>\n",
       "      <td>0.000000</td>\n",
       "      <td>0.612903</td>\n",
       "      <td>0.000000</td>\n",
       "      <td>0.000000</td>\n",
       "      <td>0.000000</td>\n",
       "      <td>0.000000</td>\n",
       "      <td>0.000000</td>\n",
       "    </tr>\n",
       "    <tr>\n",
       "      <th>643686</th>\n",
       "      <td>1827860</td>\n",
       "      <td>2015</td>\n",
       "      <td>2</td>\n",
       "      <td>1</td>\n",
       "      <td>0</td>\n",
       "      <td>0</td>\n",
       "      <td>1</td>\n",
       "      <td>0</td>\n",
       "      <td>1</td>\n",
       "      <td>0</td>\n",
       "      <td>...</td>\n",
       "      <td>0.000000</td>\n",
       "      <td>0.000000</td>\n",
       "      <td>0.212121</td>\n",
       "      <td>0.212121</td>\n",
       "      <td>17.363636</td>\n",
       "      <td>0.000000</td>\n",
       "      <td>8.909091</td>\n",
       "      <td>0.000000</td>\n",
       "      <td>0.000000</td>\n",
       "      <td>7.121212</td>\n",
       "    </tr>\n",
       "    <tr>\n",
       "      <th>643687</th>\n",
       "      <td>1827860</td>\n",
       "      <td>2016</td>\n",
       "      <td>3</td>\n",
       "      <td>1</td>\n",
       "      <td>0</td>\n",
       "      <td>0</td>\n",
       "      <td>1</td>\n",
       "      <td>1</td>\n",
       "      <td>0</td>\n",
       "      <td>1</td>\n",
       "      <td>...</td>\n",
       "      <td>0.000000</td>\n",
       "      <td>0.000000</td>\n",
       "      <td>0.294118</td>\n",
       "      <td>0.205882</td>\n",
       "      <td>34.705882</td>\n",
       "      <td>0.000000</td>\n",
       "      <td>10.352941</td>\n",
       "      <td>1.705882</td>\n",
       "      <td>1.705882</td>\n",
       "      <td>23.911765</td>\n",
       "    </tr>\n",
       "    <tr>\n",
       "      <th>643688</th>\n",
       "      <td>1827869</td>\n",
       "      <td>2013</td>\n",
       "      <td>1</td>\n",
       "      <td>1</td>\n",
       "      <td>1</td>\n",
       "      <td>0</td>\n",
       "      <td>0</td>\n",
       "      <td>0</td>\n",
       "      <td>1</td>\n",
       "      <td>0</td>\n",
       "      <td>...</td>\n",
       "      <td>0.000000</td>\n",
       "      <td>0.000000</td>\n",
       "      <td>0.000000</td>\n",
       "      <td>0.000000</td>\n",
       "      <td>0.000000</td>\n",
       "      <td>0.525424</td>\n",
       "      <td>0.000000</td>\n",
       "      <td>0.000000</td>\n",
       "      <td>0.000000</td>\n",
       "      <td>0.000000</td>\n",
       "    </tr>\n",
       "    <tr>\n",
       "      <th>643689</th>\n",
       "      <td>1827869</td>\n",
       "      <td>2014</td>\n",
       "      <td>2</td>\n",
       "      <td>0</td>\n",
       "      <td>0</td>\n",
       "      <td>1</td>\n",
       "      <td>0</td>\n",
       "      <td>0</td>\n",
       "      <td>1</td>\n",
       "      <td>0</td>\n",
       "      <td>...</td>\n",
       "      <td>0.000000</td>\n",
       "      <td>0.666667</td>\n",
       "      <td>0.666667</td>\n",
       "      <td>0.000000</td>\n",
       "      <td>0.000000</td>\n",
       "      <td>8.950000</td>\n",
       "      <td>1.033333</td>\n",
       "      <td>0.083333</td>\n",
       "      <td>0.083333</td>\n",
       "      <td>8.133333</td>\n",
       "    </tr>\n",
       "  </tbody>\n",
       "</table>\n",
       "<p>643690 rows × 164 columns</p>\n",
       "</div>"
      ],
      "text/plain": [
       "         persnr  year  nrEntry  ltue  employed_before  receipt_leh_before  \\\n",
       "0             7  2015        1     0                1                   0   \n",
       "1            18  2010        1     1                0                   0   \n",
       "2            18  2011        2     0                1                   0   \n",
       "3            18  2012        3     0                1                   0   \n",
       "4            18  2012        4     0                1                   0   \n",
       "...         ...   ...      ...   ...              ...                 ...   \n",
       "643685  1827860  2013        1     0                0                   0   \n",
       "643686  1827860  2015        2     1                0                   0   \n",
       "643687  1827860  2016        3     1                0                   0   \n",
       "643688  1827869  2013        1     1                1                   0   \n",
       "643689  1827869  2014        2     0                0                   1   \n",
       "\n",
       "        receipt_lhg_before  se_before  ASU_notue_seeking_before  \\\n",
       "0                        0          0                         1   \n",
       "1                        0          0                         0   \n",
       "2                        1          0                         1   \n",
       "3                        1          0                         1   \n",
       "4                        1          0                         1   \n",
       "...                    ...        ...                       ...   \n",
       "643685                   1          0                         0   \n",
       "643686                   1          0                         1   \n",
       "643687                   1          1                         0   \n",
       "643688                   0          0                         1   \n",
       "643689                   0          0                         1   \n",
       "\n",
       "        ASU_other_before  ...  minijob_tot_dur_byage  ft_tot_dur_byage  \\\n",
       "0                      0  ...               0.000000          0.000000   \n",
       "1                      0  ...               0.000000          0.000000   \n",
       "2                      0  ...               2.714286          2.714286   \n",
       "3                      0  ...               4.200000          4.200000   \n",
       "4                      0  ...               5.460000          5.460000   \n",
       "...                  ...  ...                    ...               ...   \n",
       "643685                 1  ...               0.000000          0.000000   \n",
       "643686                 0  ...               0.000000          0.000000   \n",
       "643687                 1  ...               0.000000          0.000000   \n",
       "643688                 0  ...               0.000000          0.000000   \n",
       "643689                 0  ...               0.000000          0.666667   \n",
       "\n",
       "        befrist_tot_dur_byage  leih_tot_dur_byage  LHG_tot_dur_byage  \\\n",
       "0                   15.043478            0.000000           0.000000   \n",
       "1                    0.000000            0.000000           0.000000   \n",
       "2                    0.000000            0.000000          10.775510   \n",
       "3                    0.000000            0.000000          12.100000   \n",
       "4                    0.000000            0.000000          13.360000   \n",
       "...                       ...                 ...                ...   \n",
       "643685               0.000000            0.000000           0.612903   \n",
       "643686               0.212121            0.212121          17.363636   \n",
       "643687               0.294118            0.205882          34.705882   \n",
       "643688               0.000000            0.000000           0.000000   \n",
       "643689               0.666667            0.000000           0.000000   \n",
       "\n",
       "        LEH_tot_dur_byage  almp_tot_dur_byage  almp_aw_tot_dur_byage  \\\n",
       "0                0.000000            0.000000               0.000000   \n",
       "1                0.000000            0.000000               0.000000   \n",
       "2                0.000000            8.367347               0.000000   \n",
       "3                0.000000            9.400000               0.000000   \n",
       "4                0.000000           10.320000               0.000000   \n",
       "...                   ...                 ...                    ...   \n",
       "643685           0.000000            0.000000               0.000000   \n",
       "643686           0.000000            8.909091               0.000000   \n",
       "643687           0.000000           10.352941               1.705882   \n",
       "643688           0.525424            0.000000               0.000000   \n",
       "643689           8.950000            1.033333               0.083333   \n",
       "\n",
       "        se_tot_dur_byage  seeking1_tot_dur_byage  \n",
       "0               0.000000                0.000000  \n",
       "1               0.000000                0.000000  \n",
       "2               0.000000                9.836735  \n",
       "3               0.000000                9.960000  \n",
       "4               0.000000               10.280000  \n",
       "...                  ...                     ...  \n",
       "643685          0.000000                0.000000  \n",
       "643686          0.000000                7.121212  \n",
       "643687          1.705882               23.911765  \n",
       "643688          0.000000                0.000000  \n",
       "643689          0.083333                8.133333  \n",
       "\n",
       "[643690 rows x 164 columns]"
      ]
     },
     "execution_count": 10,
     "metadata": {},
     "output_type": "execute_result"
    }
   ],
   "source": [
    "siab"
   ]
  },
  {
   "cell_type": "markdown",
   "id": "1f87e805",
   "metadata": {
    "papermill": {
     "duration": 0.01227,
     "end_time": "2025-08-19T18:17:57.087373",
     "exception": false,
     "start_time": "2025-08-19T18:17:57.075103",
     "status": "completed"
    },
    "tags": []
   },
   "source": [
    "# Splitting Data and Setting Training Data Size"
   ]
  },
  {
   "cell_type": "code",
   "execution_count": 11,
   "id": "910ae358",
   "metadata": {
    "execution": {
     "iopub.execute_input": "2025-08-19T18:17:57.110456Z",
     "iopub.status.busy": "2025-08-19T18:17:57.108994Z",
     "iopub.status.idle": "2025-08-19T18:17:58.281896Z",
     "shell.execute_reply": "2025-08-19T18:17:58.281025Z"
    },
    "papermill": {
     "duration": 1.18654,
     "end_time": "2025-08-19T18:17:58.283658",
     "exception": false,
     "start_time": "2025-08-19T18:17:57.097118",
     "status": "completed"
    },
    "tags": []
   },
   "outputs": [],
   "source": [
    "from fairness_multiverse.universe import sample_by_year_size\n",
    "\n",
    "siab_train = sample_by_year_size(siab,\n",
    "                               training_year=universe[\"training_year\"],\n",
    "                               training_size=universe[\"training_size\"])"
   ]
  },
  {
   "cell_type": "code",
   "execution_count": 12,
   "id": "919c8ff5",
   "metadata": {
    "execution": {
     "iopub.execute_input": "2025-08-19T18:17:58.308753Z",
     "iopub.status.busy": "2025-08-19T18:17:58.308164Z",
     "iopub.status.idle": "2025-08-19T18:17:58.316144Z",
     "shell.execute_reply": "2025-08-19T18:17:58.315285Z"
    },
    "papermill": {
     "duration": 0.020721,
     "end_time": "2025-08-19T18:17:58.317635",
     "exception": false,
     "start_time": "2025-08-19T18:17:58.296914",
     "status": "completed"
    },
    "tags": []
   },
   "outputs": [
    {
     "data": {
      "text/plain": [
       "(25000, 164)"
      ]
     },
     "execution_count": 12,
     "metadata": {},
     "output_type": "execute_result"
    }
   ],
   "source": [
    "siab_train.shape"
   ]
  },
  {
   "cell_type": "code",
   "execution_count": 13,
   "id": "feb13bf4",
   "metadata": {
    "execution": {
     "iopub.execute_input": "2025-08-19T18:17:58.342900Z",
     "iopub.status.busy": "2025-08-19T18:17:58.341843Z",
     "iopub.status.idle": "2025-08-19T18:17:58.357137Z",
     "shell.execute_reply": "2025-08-19T18:17:58.356080Z"
    },
    "papermill": {
     "duration": 0.028482,
     "end_time": "2025-08-19T18:17:58.358666",
     "exception": false,
     "start_time": "2025-08-19T18:17:58.330184",
     "status": "completed"
    },
    "tags": []
   },
   "outputs": [
    {
     "data": {
      "text/plain": [
       "year\n",
       "2010    5000\n",
       "2011    5000\n",
       "2012    5000\n",
       "2013    5000\n",
       "2014    5000\n",
       "dtype: int64"
      ]
     },
     "metadata": {},
     "output_type": "display_data"
    }
   ],
   "source": [
    "display(siab_train.groupby(\"year\").size())"
   ]
  },
  {
   "cell_type": "code",
   "execution_count": 14,
   "id": "0997782f",
   "metadata": {
    "execution": {
     "iopub.execute_input": "2025-08-19T18:17:58.385165Z",
     "iopub.status.busy": "2025-08-19T18:17:58.383901Z",
     "iopub.status.idle": "2025-08-19T18:17:58.667693Z",
     "shell.execute_reply": "2025-08-19T18:17:58.666833Z"
    },
    "papermill": {
     "duration": 0.299135,
     "end_time": "2025-08-19T18:17:58.670734",
     "exception": false,
     "start_time": "2025-08-19T18:17:58.371599",
     "status": "completed"
    },
    "tags": []
   },
   "outputs": [],
   "source": [
    "#siab_train = siab_s[siab_s.year < 2015]\n",
    "siab_calib = siab[siab.year == 2015]\n",
    "siab_test = siab[siab.year == 2016]"
   ]
  },
  {
   "cell_type": "code",
   "execution_count": 15,
   "id": "2c1e4012",
   "metadata": {
    "execution": {
     "iopub.execute_input": "2025-08-19T18:17:58.707089Z",
     "iopub.status.busy": "2025-08-19T18:17:58.706638Z",
     "iopub.status.idle": "2025-08-19T18:17:58.710828Z",
     "shell.execute_reply": "2025-08-19T18:17:58.709987Z"
    },
    "papermill": {
     "duration": 0.01835,
     "end_time": "2025-08-19T18:17:58.712041",
     "exception": false,
     "start_time": "2025-08-19T18:17:58.693691",
     "status": "completed"
    },
    "tags": []
   },
   "outputs": [],
   "source": [
    "#siab_calib.shape"
   ]
  },
  {
   "cell_type": "code",
   "execution_count": 16,
   "id": "f66b54ca",
   "metadata": {
    "execution": {
     "iopub.execute_input": "2025-08-19T18:17:58.732989Z",
     "iopub.status.busy": "2025-08-19T18:17:58.732591Z",
     "iopub.status.idle": "2025-08-19T18:17:58.736373Z",
     "shell.execute_reply": "2025-08-19T18:17:58.735612Z"
    },
    "papermill": {
     "duration": 0.01581,
     "end_time": "2025-08-19T18:17:58.737737",
     "exception": false,
     "start_time": "2025-08-19T18:17:58.721927",
     "status": "completed"
    },
    "tags": []
   },
   "outputs": [],
   "source": [
    "#siab_test.shape"
   ]
  },
  {
   "cell_type": "code",
   "execution_count": 17,
   "id": "27e4384d",
   "metadata": {
    "execution": {
     "iopub.execute_input": "2025-08-19T18:17:58.758628Z",
     "iopub.status.busy": "2025-08-19T18:17:58.758248Z",
     "iopub.status.idle": "2025-08-19T18:17:58.787391Z",
     "shell.execute_reply": "2025-08-19T18:17:58.786471Z"
    },
    "papermill": {
     "duration": 0.059615,
     "end_time": "2025-08-19T18:17:58.807229",
     "exception": false,
     "start_time": "2025-08-19T18:17:58.747614",
     "status": "completed"
    },
    "tags": []
   },
   "outputs": [],
   "source": [
    "X_train = siab_train.iloc[:,4:164]\n",
    "y_train = siab_train.iloc[:, [3]]"
   ]
  },
  {
   "cell_type": "code",
   "execution_count": 18,
   "id": "08ee8389",
   "metadata": {
    "execution": {
     "iopub.execute_input": "2025-08-19T18:17:58.833706Z",
     "iopub.status.busy": "2025-08-19T18:17:58.832606Z",
     "iopub.status.idle": "2025-08-19T18:17:58.947158Z",
     "shell.execute_reply": "2025-08-19T18:17:58.946216Z"
    },
    "papermill": {
     "duration": 0.128293,
     "end_time": "2025-08-19T18:17:58.949227",
     "exception": false,
     "start_time": "2025-08-19T18:17:58.820934",
     "status": "completed"
    },
    "tags": []
   },
   "outputs": [],
   "source": [
    "X_calib = siab_calib.iloc[:,4:164]\n",
    "y_calib = siab_calib.iloc[:, [3]]"
   ]
  },
  {
   "cell_type": "code",
   "execution_count": 19,
   "id": "b7ff42e0",
   "metadata": {
    "execution": {
     "iopub.execute_input": "2025-08-19T18:17:58.979481Z",
     "iopub.status.busy": "2025-08-19T18:17:58.978481Z",
     "iopub.status.idle": "2025-08-19T18:17:59.040155Z",
     "shell.execute_reply": "2025-08-19T18:17:59.038938Z"
    },
    "papermill": {
     "duration": 0.078034,
     "end_time": "2025-08-19T18:17:59.043705",
     "exception": false,
     "start_time": "2025-08-19T18:17:58.965671",
     "status": "completed"
    },
    "tags": []
   },
   "outputs": [],
   "source": [
    "X_test = siab_test.iloc[:,4:164]\n",
    "y_true = siab_test.iloc[:, [3]]"
   ]
  },
  {
   "cell_type": "code",
   "execution_count": 20,
   "id": "0275101e",
   "metadata": {
    "execution": {
     "iopub.execute_input": "2025-08-19T18:17:59.083400Z",
     "iopub.status.busy": "2025-08-19T18:17:59.082187Z",
     "iopub.status.idle": "2025-08-19T18:17:59.216851Z",
     "shell.execute_reply": "2025-08-19T18:17:59.215799Z"
    },
    "papermill": {
     "duration": 0.152496,
     "end_time": "2025-08-19T18:17:59.220702",
     "exception": false,
     "start_time": "2025-08-19T18:17:59.068206",
     "status": "completed"
    },
    "tags": []
   },
   "outputs": [],
   "source": [
    "# Auxiliary data needed downstream in the pipeline\n",
    "\n",
    "org_train = X_train.copy()\n",
    "org_test = X_test.copy()\n",
    "org_calib = X_calib.copy()"
   ]
  },
  {
   "cell_type": "markdown",
   "id": "b461e618",
   "metadata": {
    "papermill": {
     "duration": 0.011633,
     "end_time": "2025-08-19T18:17:59.259095",
     "exception": false,
     "start_time": "2025-08-19T18:17:59.247462",
     "status": "completed"
    },
    "tags": []
   },
   "source": [
    "# Preprocessing Data"
   ]
  },
  {
   "cell_type": "code",
   "execution_count": 21,
   "id": "78e74c4b",
   "metadata": {
    "execution": {
     "iopub.execute_input": "2025-08-19T18:17:59.282133Z",
     "iopub.status.busy": "2025-08-19T18:17:59.280862Z",
     "iopub.status.idle": "2025-08-19T18:17:59.289068Z",
     "shell.execute_reply": "2025-08-19T18:17:59.288198Z"
    },
    "papermill": {
     "duration": 0.021388,
     "end_time": "2025-08-19T18:17:59.290461",
     "exception": false,
     "start_time": "2025-08-19T18:17:59.269073",
     "status": "completed"
    },
    "tags": []
   },
   "outputs": [],
   "source": [
    "# EXCLUDE PROTECTED FEATURES\n",
    "# --------------------------\n",
    "\n",
    "excluded_features = universe[\"exclude_features\"].split(\"-\")\n",
    "excluded_features_dictionary = {\n",
    "    \"nationality\": [\"maxdeutsch1\", \"maxdeutsch.Missing.\"],\n",
    "    \"sex\": [\"frau1\"],\n",
    "    \"age\": [\"age\"],\n",
    "}"
   ]
  },
  {
   "cell_type": "code",
   "execution_count": 22,
   "id": "f8e63555",
   "metadata": {
    "execution": {
     "iopub.execute_input": "2025-08-19T18:17:59.317422Z",
     "iopub.status.busy": "2025-08-19T18:17:59.316421Z",
     "iopub.status.idle": "2025-08-19T18:17:59.323998Z",
     "shell.execute_reply": "2025-08-19T18:17:59.322659Z"
    },
    "papermill": {
     "duration": 0.037452,
     "end_time": "2025-08-19T18:17:59.341237",
     "exception": false,
     "start_time": "2025-08-19T18:17:59.303785",
     "status": "completed"
    },
    "tags": []
   },
   "outputs": [],
   "source": [
    "excluded_features_columns = [\n",
    "    excluded_features_dictionary[f] for f in excluded_features if len(f) > 0 and f != \"none\"\n",
    "]"
   ]
  },
  {
   "cell_type": "code",
   "execution_count": 23,
   "id": "da781f7c",
   "metadata": {
    "execution": {
     "iopub.execute_input": "2025-08-19T18:17:59.364873Z",
     "iopub.status.busy": "2025-08-19T18:17:59.363856Z",
     "iopub.status.idle": "2025-08-19T18:17:59.375066Z",
     "shell.execute_reply": "2025-08-19T18:17:59.373210Z"
    },
    "papermill": {
     "duration": 0.024899,
     "end_time": "2025-08-19T18:17:59.376881",
     "exception": false,
     "start_time": "2025-08-19T18:17:59.351982",
     "status": "completed"
    },
    "tags": []
   },
   "outputs": [],
   "source": [
    "from fairness_multiverse.universe import flatten_once\n",
    "\n",
    "excluded_features_columns = flatten_once(excluded_features_columns)"
   ]
  },
  {
   "cell_type": "code",
   "execution_count": 24,
   "id": "37fef0f0",
   "metadata": {
    "execution": {
     "iopub.execute_input": "2025-08-19T18:17:59.402271Z",
     "iopub.status.busy": "2025-08-19T18:17:59.401899Z",
     "iopub.status.idle": "2025-08-19T18:17:59.406122Z",
     "shell.execute_reply": "2025-08-19T18:17:59.405566Z"
    },
    "papermill": {
     "duration": 0.016865,
     "end_time": "2025-08-19T18:17:59.407339",
     "exception": false,
     "start_time": "2025-08-19T18:17:59.390474",
     "status": "completed"
    },
    "tags": []
   },
   "outputs": [],
   "source": [
    "if len(excluded_features_columns) > 0:\n",
    "    print(f\"Dropping features: {excluded_features_columns}\")\n",
    "    X_train.drop(excluded_features_columns, axis=1, inplace=True)"
   ]
  },
  {
   "cell_type": "code",
   "execution_count": 25,
   "id": "d029e3e9",
   "metadata": {
    "execution": {
     "iopub.execute_input": "2025-08-19T18:17:59.431756Z",
     "iopub.status.busy": "2025-08-19T18:17:59.430785Z",
     "iopub.status.idle": "2025-08-19T18:17:59.436979Z",
     "shell.execute_reply": "2025-08-19T18:17:59.435892Z"
    },
    "papermill": {
     "duration": 0.02026,
     "end_time": "2025-08-19T18:17:59.438343",
     "exception": false,
     "start_time": "2025-08-19T18:17:59.418083",
     "status": "completed"
    },
    "tags": []
   },
   "outputs": [],
   "source": [
    "if len(excluded_features_columns) > 0:\n",
    "    print(f\"Dropping features: {excluded_features_columns}\")\n",
    "    X_test.drop(excluded_features_columns, axis=1, inplace=True)"
   ]
  },
  {
   "cell_type": "code",
   "execution_count": 26,
   "id": "01d571f0",
   "metadata": {
    "execution": {
     "iopub.execute_input": "2025-08-19T18:17:59.463093Z",
     "iopub.status.busy": "2025-08-19T18:17:59.461071Z",
     "iopub.status.idle": "2025-08-19T18:17:59.482738Z",
     "shell.execute_reply": "2025-08-19T18:17:59.481697Z"
    },
    "papermill": {
     "duration": 0.035292,
     "end_time": "2025-08-19T18:17:59.484444",
     "exception": false,
     "start_time": "2025-08-19T18:17:59.449152",
     "status": "completed"
    },
    "tags": []
   },
   "outputs": [],
   "source": [
    "if len(excluded_features_columns) > 0:\n",
    "    print(f\"Dropping features: {excluded_features_columns}\")\n",
    "    X_calib.drop(excluded_features_columns, axis=1, inplace=True)"
   ]
  },
  {
   "cell_type": "code",
   "execution_count": 27,
   "id": "3037356e",
   "metadata": {
    "execution": {
     "iopub.execute_input": "2025-08-19T18:17:59.525569Z",
     "iopub.status.busy": "2025-08-19T18:17:59.525184Z",
     "iopub.status.idle": "2025-08-19T18:17:59.529076Z",
     "shell.execute_reply": "2025-08-19T18:17:59.528515Z"
    },
    "papermill": {
     "duration": 0.027173,
     "end_time": "2025-08-19T18:17:59.532244",
     "exception": false,
     "start_time": "2025-08-19T18:17:59.505071",
     "status": "completed"
    },
    "tags": []
   },
   "outputs": [],
   "source": [
    "# EXCLUDE CERTAIN SUBGROUPS\n",
    "# -------------------------\n",
    "\n",
    "mode = universe.get(\"exclude_subgroups\", \"keep-all\") # Defaults to \"keep-all\" if the key is missing."
   ]
  },
  {
   "cell_type": "code",
   "execution_count": 28,
   "id": "9d1e63fd",
   "metadata": {
    "execution": {
     "iopub.execute_input": "2025-08-19T18:17:59.562142Z",
     "iopub.status.busy": "2025-08-19T18:17:59.561759Z",
     "iopub.status.idle": "2025-08-19T18:17:59.567215Z",
     "shell.execute_reply": "2025-08-19T18:17:59.566640Z"
    },
    "papermill": {
     "duration": 0.019567,
     "end_time": "2025-08-19T18:17:59.569192",
     "exception": false,
     "start_time": "2025-08-19T18:17:59.549625",
     "status": "completed"
    },
    "tags": []
   },
   "outputs": [],
   "source": [
    "if mode == \"keep-all\":\n",
    "    keep_mask = pd.Series(True, index=org_train.index)\n",
    "\n",
    "elif mode == \"drop-non-german\":\n",
    "    keep_mask = (org_train[\"maxdeutsch1\"] == 1) & (org_train[\"maxdeutsch.Missing.\"] == 0)\n",
    "\n",
    "else:\n",
    "    raise ValueError(f\"Unsupported mode for exclude_subgroups: {mode}\")"
   ]
  },
  {
   "cell_type": "code",
   "execution_count": 29,
   "id": "d3b65474",
   "metadata": {
    "execution": {
     "iopub.execute_input": "2025-08-19T18:17:59.592992Z",
     "iopub.status.busy": "2025-08-19T18:17:59.591985Z",
     "iopub.status.idle": "2025-08-19T18:17:59.600032Z",
     "shell.execute_reply": "2025-08-19T18:17:59.599079Z"
    },
    "papermill": {
     "duration": 0.021384,
     "end_time": "2025-08-19T18:17:59.601690",
     "exception": false,
     "start_time": "2025-08-19T18:17:59.580306",
     "status": "completed"
    },
    "tags": []
   },
   "outputs": [
    {
     "name": "stdout",
     "output_type": "stream",
     "text": [
      "Dropping 3312 rows (13.25%) where mode='drop-non-german'\n"
     ]
    }
   ],
   "source": [
    "n_drop = (~keep_mask).sum() # Calculates how many rows are set to be dropped\n",
    "if n_drop > 0:\n",
    "    pct = n_drop / len(keep_mask) * 100\n",
    "    print(f\"Dropping {n_drop} rows ({pct:.2f}%) where mode='{mode}'\")"
   ]
  },
  {
   "cell_type": "code",
   "execution_count": 30,
   "id": "f44389b3",
   "metadata": {
    "execution": {
     "iopub.execute_input": "2025-08-19T18:17:59.634018Z",
     "iopub.status.busy": "2025-08-19T18:17:59.627464Z",
     "iopub.status.idle": "2025-08-19T18:17:59.664410Z",
     "shell.execute_reply": "2025-08-19T18:17:59.663706Z"
    },
    "papermill": {
     "duration": 0.051892,
     "end_time": "2025-08-19T18:17:59.665785",
     "exception": false,
     "start_time": "2025-08-19T18:17:59.613893",
     "status": "completed"
    },
    "tags": []
   },
   "outputs": [],
   "source": [
    "X_train = X_train[keep_mask]"
   ]
  },
  {
   "cell_type": "code",
   "execution_count": 31,
   "id": "ceca8c2a",
   "metadata": {
    "execution": {
     "iopub.execute_input": "2025-08-19T18:17:59.690155Z",
     "iopub.status.busy": "2025-08-19T18:17:59.689457Z",
     "iopub.status.idle": "2025-08-19T18:17:59.697762Z",
     "shell.execute_reply": "2025-08-19T18:17:59.696670Z"
    },
    "papermill": {
     "duration": 0.022234,
     "end_time": "2025-08-19T18:17:59.699011",
     "exception": false,
     "start_time": "2025-08-19T18:17:59.676777",
     "status": "completed"
    },
    "tags": []
   },
   "outputs": [],
   "source": [
    "y_train = y_train[keep_mask]"
   ]
  },
  {
   "cell_type": "markdown",
   "id": "04d31e2f",
   "metadata": {
    "papermill": {
     "duration": 0.010787,
     "end_time": "2025-08-19T18:17:59.723242",
     "exception": false,
     "start_time": "2025-08-19T18:17:59.712455",
     "status": "completed"
    },
    "tags": []
   },
   "source": [
    "# Model Training"
   ]
  },
  {
   "cell_type": "code",
   "execution_count": 32,
   "id": "db991733",
   "metadata": {
    "execution": {
     "iopub.execute_input": "2025-08-19T18:17:59.747222Z",
     "iopub.status.busy": "2025-08-19T18:17:59.745999Z",
     "iopub.status.idle": "2025-08-19T18:17:59.852130Z",
     "shell.execute_reply": "2025-08-19T18:17:59.851464Z"
    },
    "papermill": {
     "duration": 0.121186,
     "end_time": "2025-08-19T18:17:59.854928",
     "exception": false,
     "start_time": "2025-08-19T18:17:59.733742",
     "status": "completed"
    },
    "tags": []
   },
   "outputs": [],
   "source": [
    "from sklearn.linear_model import LogisticRegression\n",
    "from sklearn.ensemble import GradientBoostingClassifier, RandomForestClassifier\n",
    "\n",
    "if (universe[\"model\"] == \"logreg\"):\n",
    "    model = LogisticRegression() #penalty=\"none\", solver=\"newton-cg\", max_iter=1)\n",
    "elif (universe[\"model\"] == \"penalized_logreg\"):\n",
    "    model = LogisticRegression(penalty=\"l2\", C=0.1) #, solver=\"newton-cg\", max_iter=1)\n",
    "elif (universe[\"model\"] == \"rf\"):\n",
    "    model = RandomForestClassifier() # n_estimators=100, n_jobs=-1\n",
    "elif (universe[\"model\"] == \"gbm\"):\n",
    "    model = GradientBoostingClassifier()\n",
    "elif (universe[\"model\"] == \"elasticnet\"):\n",
    "    model = LogisticRegression(penalty = 'elasticnet', solver = 'saga', l1_ratio = 0.5) # max_iter=5000\n",
    "else:\n",
    "    raise \"Unsupported universe.model\""
   ]
  },
  {
   "cell_type": "code",
   "execution_count": 33,
   "id": "a4b5cd25",
   "metadata": {
    "execution": {
     "iopub.execute_input": "2025-08-19T18:17:59.893036Z",
     "iopub.status.busy": "2025-08-19T18:17:59.892611Z",
     "iopub.status.idle": "2025-08-19T18:17:59.898731Z",
     "shell.execute_reply": "2025-08-19T18:17:59.898145Z"
    },
    "papermill": {
     "duration": 0.021043,
     "end_time": "2025-08-19T18:17:59.899866",
     "exception": false,
     "start_time": "2025-08-19T18:17:59.878823",
     "status": "completed"
    },
    "tags": []
   },
   "outputs": [],
   "source": [
    "from sklearn.pipeline import Pipeline\n",
    "from sklearn.preprocessing import StandardScaler\n",
    "\n",
    "model = Pipeline([\n",
    "    #(\"continuous_processor\", continuous_processor),\n",
    "    #(\"categorical_preprocessor\", categorical_preprocessor),\n",
    "    (\"scale\", StandardScaler() if universe[\"scale\"] == \"scale\" else None), \n",
    "    (\"model\", model),\n",
    "])"
   ]
  },
  {
   "cell_type": "code",
   "execution_count": 34,
   "id": "283a904d",
   "metadata": {
    "execution": {
     "iopub.execute_input": "2025-08-19T18:17:59.925371Z",
     "iopub.status.busy": "2025-08-19T18:17:59.924179Z",
     "iopub.status.idle": "2025-08-19T18:18:00.800056Z",
     "shell.execute_reply": "2025-08-19T18:18:00.799065Z"
    },
    "papermill": {
     "duration": 0.888683,
     "end_time": "2025-08-19T18:18:00.801396",
     "exception": false,
     "start_time": "2025-08-19T18:17:59.912713",
     "status": "completed"
    },
    "tags": []
   },
   "outputs": [
    {
     "name": "stderr",
     "output_type": "stream",
     "text": [
      "/dss/dsshome1/0C/ra93lal2/.local/share/virtualenvs/CMA_Fairness_v2-3j10GkSs/lib/python3.10/site-packages/sklearn/linear_model/_logistic.py:444: ConvergenceWarning: lbfgs failed to converge (status=1):\n",
      "STOP: TOTAL NO. of ITERATIONS REACHED LIMIT.\n",
      "\n",
      "Increase the number of iterations (max_iter) or scale the data as shown in:\n",
      "    https://scikit-learn.org/stable/modules/preprocessing.html\n",
      "Please also refer to the documentation for alternative solver options:\n",
      "    https://scikit-learn.org/stable/modules/linear_model.html#logistic-regression\n",
      "  n_iter_i = _check_optimize_result(\n"
     ]
    },
    {
     "data": {
      "text/html": [
       "<style>#sk-container-id-1 {color: black;background-color: white;}#sk-container-id-1 pre{padding: 0;}#sk-container-id-1 div.sk-toggleable {background-color: white;}#sk-container-id-1 label.sk-toggleable__label {cursor: pointer;display: block;width: 100%;margin-bottom: 0;padding: 0.3em;box-sizing: border-box;text-align: center;}#sk-container-id-1 label.sk-toggleable__label-arrow:before {content: \"▸\";float: left;margin-right: 0.25em;color: #696969;}#sk-container-id-1 label.sk-toggleable__label-arrow:hover:before {color: black;}#sk-container-id-1 div.sk-estimator:hover label.sk-toggleable__label-arrow:before {color: black;}#sk-container-id-1 div.sk-toggleable__content {max-height: 0;max-width: 0;overflow: hidden;text-align: left;background-color: #f0f8ff;}#sk-container-id-1 div.sk-toggleable__content pre {margin: 0.2em;color: black;border-radius: 0.25em;background-color: #f0f8ff;}#sk-container-id-1 input.sk-toggleable__control:checked~div.sk-toggleable__content {max-height: 200px;max-width: 100%;overflow: auto;}#sk-container-id-1 input.sk-toggleable__control:checked~label.sk-toggleable__label-arrow:before {content: \"▾\";}#sk-container-id-1 div.sk-estimator input.sk-toggleable__control:checked~label.sk-toggleable__label {background-color: #d4ebff;}#sk-container-id-1 div.sk-label input.sk-toggleable__control:checked~label.sk-toggleable__label {background-color: #d4ebff;}#sk-container-id-1 input.sk-hidden--visually {border: 0;clip: rect(1px 1px 1px 1px);clip: rect(1px, 1px, 1px, 1px);height: 1px;margin: -1px;overflow: hidden;padding: 0;position: absolute;width: 1px;}#sk-container-id-1 div.sk-estimator {font-family: monospace;background-color: #f0f8ff;border: 1px dotted black;border-radius: 0.25em;box-sizing: border-box;margin-bottom: 0.5em;}#sk-container-id-1 div.sk-estimator:hover {background-color: #d4ebff;}#sk-container-id-1 div.sk-parallel-item::after {content: \"\";width: 100%;border-bottom: 1px solid gray;flex-grow: 1;}#sk-container-id-1 div.sk-label:hover label.sk-toggleable__label {background-color: #d4ebff;}#sk-container-id-1 div.sk-serial::before {content: \"\";position: absolute;border-left: 1px solid gray;box-sizing: border-box;top: 0;bottom: 0;left: 50%;z-index: 0;}#sk-container-id-1 div.sk-serial {display: flex;flex-direction: column;align-items: center;background-color: white;padding-right: 0.2em;padding-left: 0.2em;position: relative;}#sk-container-id-1 div.sk-item {position: relative;z-index: 1;}#sk-container-id-1 div.sk-parallel {display: flex;align-items: stretch;justify-content: center;background-color: white;position: relative;}#sk-container-id-1 div.sk-item::before, #sk-container-id-1 div.sk-parallel-item::before {content: \"\";position: absolute;border-left: 1px solid gray;box-sizing: border-box;top: 0;bottom: 0;left: 50%;z-index: -1;}#sk-container-id-1 div.sk-parallel-item {display: flex;flex-direction: column;z-index: 1;position: relative;background-color: white;}#sk-container-id-1 div.sk-parallel-item:first-child::after {align-self: flex-end;width: 50%;}#sk-container-id-1 div.sk-parallel-item:last-child::after {align-self: flex-start;width: 50%;}#sk-container-id-1 div.sk-parallel-item:only-child::after {width: 0;}#sk-container-id-1 div.sk-dashed-wrapped {border: 1px dashed gray;margin: 0 0.4em 0.5em 0.4em;box-sizing: border-box;padding-bottom: 0.4em;background-color: white;}#sk-container-id-1 div.sk-label label {font-family: monospace;font-weight: bold;display: inline-block;line-height: 1.2em;}#sk-container-id-1 div.sk-label-container {text-align: center;}#sk-container-id-1 div.sk-container {/* jupyter's `normalize.less` sets `[hidden] { display: none; }` but bootstrap.min.css set `[hidden] { display: none !important; }` so we also need the `!important` here to be able to override the default hidden behavior on the sphinx rendered scikit-learn.org. See: https://github.com/scikit-learn/scikit-learn/issues/21755 */display: inline-block !important;position: relative;}#sk-container-id-1 div.sk-text-repr-fallback {display: none;}</style><div id=\"sk-container-id-1\" class=\"sk-top-container\"><div class=\"sk-text-repr-fallback\"><pre>Pipeline(steps=[(&#x27;scale&#x27;, None), (&#x27;model&#x27;, LogisticRegression())])</pre><b>In a Jupyter environment, please rerun this cell to show the HTML representation or trust the notebook. <br />On GitHub, the HTML representation is unable to render, please try loading this page with nbviewer.org.</b></div><div class=\"sk-container\" hidden><div class=\"sk-item sk-dashed-wrapped\"><div class=\"sk-label-container\"><div class=\"sk-label sk-toggleable\"><input class=\"sk-toggleable__control sk-hidden--visually\" id=\"sk-estimator-id-1\" type=\"checkbox\" ><label for=\"sk-estimator-id-1\" class=\"sk-toggleable__label sk-toggleable__label-arrow\">Pipeline</label><div class=\"sk-toggleable__content\"><pre>Pipeline(steps=[(&#x27;scale&#x27;, None), (&#x27;model&#x27;, LogisticRegression())])</pre></div></div></div><div class=\"sk-serial\"><div class=\"sk-item\"><div class=\"sk-estimator sk-toggleable\"><input class=\"sk-toggleable__control sk-hidden--visually\" id=\"sk-estimator-id-2\" type=\"checkbox\" ><label for=\"sk-estimator-id-2\" class=\"sk-toggleable__label sk-toggleable__label-arrow\">None</label><div class=\"sk-toggleable__content\"><pre>None</pre></div></div></div><div class=\"sk-item\"><div class=\"sk-estimator sk-toggleable\"><input class=\"sk-toggleable__control sk-hidden--visually\" id=\"sk-estimator-id-3\" type=\"checkbox\" ><label for=\"sk-estimator-id-3\" class=\"sk-toggleable__label sk-toggleable__label-arrow\">LogisticRegression</label><div class=\"sk-toggleable__content\"><pre>LogisticRegression()</pre></div></div></div></div></div></div></div>"
      ],
      "text/plain": [
       "Pipeline(steps=[('scale', None), ('model', LogisticRegression())])"
      ]
     },
     "execution_count": 34,
     "metadata": {},
     "output_type": "execute_result"
    }
   ],
   "source": [
    "model.fit(X_train, y_train.values.ravel())"
   ]
  },
  {
   "cell_type": "code",
   "execution_count": 35,
   "id": "6e15e313",
   "metadata": {
    "execution": {
     "iopub.execute_input": "2025-08-19T18:18:00.828172Z",
     "iopub.status.busy": "2025-08-19T18:18:00.826685Z",
     "iopub.status.idle": "2025-08-19T18:18:00.946558Z",
     "shell.execute_reply": "2025-08-19T18:18:00.945907Z"
    },
    "papermill": {
     "duration": 0.136072,
     "end_time": "2025-08-19T18:18:00.949581",
     "exception": false,
     "start_time": "2025-08-19T18:18:00.813509",
     "status": "completed"
    },
    "tags": []
   },
   "outputs": [
    {
     "data": {
      "text/plain": [
       "0.8590123732025415"
      ]
     },
     "execution_count": 35,
     "metadata": {},
     "output_type": "execute_result"
    }
   ],
   "source": [
    "from fairness_multiverse.universe import predict_w_threshold\n",
    "\n",
    "probs_test = model.predict_proba(X_test)\n",
    "\n",
    "'''\n",
    "Below code returns a boolean array (or binary 0/1 array depending on how it’s used) where each element \n",
    "is True if the probability of class 1 is greater than or equal to the threshold, and False otherwise.\n",
    "'''\n",
    "y_pred_default = predict_w_threshold(probs_test, 0.5)\n",
    "\n",
    "from sklearn.metrics import accuracy_score\n",
    "\n",
    "# Naive prediction\n",
    "accuracy_score(y_true = y_true, y_pred = y_pred_default)"
   ]
  },
  {
   "cell_type": "code",
   "execution_count": 36,
   "id": "6f14067c",
   "metadata": {
    "execution": {
     "iopub.execute_input": "2025-08-19T18:18:00.988583Z",
     "iopub.status.busy": "2025-08-19T18:18:00.987968Z",
     "iopub.status.idle": "2025-08-19T18:18:01.077254Z",
     "shell.execute_reply": "2025-08-19T18:18:01.076538Z"
    },
    "papermill": {
     "duration": 0.10563,
     "end_time": "2025-08-19T18:18:01.079549",
     "exception": false,
     "start_time": "2025-08-19T18:18:00.973919",
     "status": "completed"
    },
    "tags": []
   },
   "outputs": [
    {
     "data": {
      "text/plain": [
       "array([0, 0, 0, ..., 0, 0, 0])"
      ]
     },
     "execution_count": 36,
     "metadata": {},
     "output_type": "execute_result"
    }
   ],
   "source": [
    "model.predict(X_test)"
   ]
  },
  {
   "cell_type": "markdown",
   "id": "3759920c",
   "metadata": {
    "papermill": {
     "duration": 0.012199,
     "end_time": "2025-08-19T18:18:01.114699",
     "exception": false,
     "start_time": "2025-08-19T18:18:01.102500",
     "status": "completed"
    },
    "tags": []
   },
   "source": [
    "# Conformal Prediction"
   ]
  },
  {
   "cell_type": "code",
   "execution_count": 37,
   "id": "14b27f59",
   "metadata": {
    "execution": {
     "iopub.execute_input": "2025-08-19T18:18:01.139815Z",
     "iopub.status.busy": "2025-08-19T18:18:01.138654Z",
     "iopub.status.idle": "2025-08-19T18:18:01.146737Z",
     "shell.execute_reply": "2025-08-19T18:18:01.145087Z"
    },
    "papermill": {
     "duration": 0.022929,
     "end_time": "2025-08-19T18:18:01.148578",
     "exception": false,
     "start_time": "2025-08-19T18:18:01.125649",
     "status": "completed"
    },
    "tags": []
   },
   "outputs": [],
   "source": [
    "# Miscoverage level for conformal prediction (10% allowed error rate => 90% target coverage)\n",
    "alpha = 0.1"
   ]
  },
  {
   "cell_type": "code",
   "execution_count": 38,
   "id": "59102472",
   "metadata": {
    "execution": {
     "iopub.execute_input": "2025-08-19T18:18:01.177710Z",
     "iopub.status.busy": "2025-08-19T18:18:01.176577Z",
     "iopub.status.idle": "2025-08-19T18:18:01.283924Z",
     "shell.execute_reply": "2025-08-19T18:18:01.283104Z"
    },
    "papermill": {
     "duration": 0.123293,
     "end_time": "2025-08-19T18:18:01.286761",
     "exception": false,
     "start_time": "2025-08-19T18:18:01.163468",
     "status": "completed"
    },
    "tags": []
   },
   "outputs": [],
   "source": [
    "probs_calib = model.predict_proba(X_calib)"
   ]
  },
  {
   "cell_type": "code",
   "execution_count": 39,
   "id": "a792d4dd",
   "metadata": {
    "execution": {
     "iopub.execute_input": "2025-08-19T18:18:01.328298Z",
     "iopub.status.busy": "2025-08-19T18:18:01.327248Z",
     "iopub.status.idle": "2025-08-19T18:18:01.337548Z",
     "shell.execute_reply": "2025-08-19T18:18:01.335809Z"
    },
    "papermill": {
     "duration": 0.027525,
     "end_time": "2025-08-19T18:18:01.339800",
     "exception": false,
     "start_time": "2025-08-19T18:18:01.312275",
     "status": "completed"
    },
    "tags": []
   },
   "outputs": [],
   "source": [
    "y_calib = y_calib.values.ravel().astype(int)"
   ]
  },
  {
   "cell_type": "code",
   "execution_count": 40,
   "id": "650fd033",
   "metadata": {
    "execution": {
     "iopub.execute_input": "2025-08-19T18:18:01.368432Z",
     "iopub.status.busy": "2025-08-19T18:18:01.367225Z",
     "iopub.status.idle": "2025-08-19T18:18:01.378573Z",
     "shell.execute_reply": "2025-08-19T18:18:01.377308Z"
    },
    "papermill": {
     "duration": 0.027807,
     "end_time": "2025-08-19T18:18:01.381860",
     "exception": false,
     "start_time": "2025-08-19T18:18:01.354053",
     "status": "completed"
    },
    "tags": []
   },
   "outputs": [],
   "source": [
    "from fairness_multiverse.conformal import compute_nc_scores\n",
    "\n",
    "# Compute nonconformity scores on calibration set (1 - probability of true class)\n",
    "nc_scores = compute_nc_scores(probs_calib, y_calib)"
   ]
  },
  {
   "cell_type": "code",
   "execution_count": 41,
   "id": "28ada44c",
   "metadata": {
    "execution": {
     "iopub.execute_input": "2025-08-19T18:18:01.424407Z",
     "iopub.status.busy": "2025-08-19T18:18:01.423233Z",
     "iopub.status.idle": "2025-08-19T18:18:01.434495Z",
     "shell.execute_reply": "2025-08-19T18:18:01.433041Z"
    },
    "papermill": {
     "duration": 0.033907,
     "end_time": "2025-08-19T18:18:01.442146",
     "exception": false,
     "start_time": "2025-08-19T18:18:01.408239",
     "status": "completed"
    },
    "tags": []
   },
   "outputs": [],
   "source": [
    "from fairness_multiverse.conformal import find_threshold\n",
    "\n",
    "# Find conformal threshold q_hat for the given alpha (split conformal method)\n",
    "q_hat = find_threshold(nc_scores, alpha)"
   ]
  },
  {
   "cell_type": "code",
   "execution_count": 42,
   "id": "df56469e",
   "metadata": {
    "execution": {
     "iopub.execute_input": "2025-08-19T18:18:01.471635Z",
     "iopub.status.busy": "2025-08-19T18:18:01.470419Z",
     "iopub.status.idle": "2025-08-19T18:18:01.481859Z",
     "shell.execute_reply": "2025-08-19T18:18:01.480566Z"
    },
    "papermill": {
     "duration": 0.026562,
     "end_time": "2025-08-19T18:18:01.483367",
     "exception": false,
     "start_time": "2025-08-19T18:18:01.456805",
     "status": "completed"
    },
    "tags": []
   },
   "outputs": [
    {
     "data": {
      "text/plain": [
       "0.6679884689571761"
      ]
     },
     "execution_count": 42,
     "metadata": {},
     "output_type": "execute_result"
    }
   ],
   "source": [
    "q_hat"
   ]
  },
  {
   "cell_type": "code",
   "execution_count": 43,
   "id": "aa1f5faa",
   "metadata": {
    "execution": {
     "iopub.execute_input": "2025-08-19T18:18:01.531600Z",
     "iopub.status.busy": "2025-08-19T18:18:01.531247Z",
     "iopub.status.idle": "2025-08-19T18:18:02.166352Z",
     "shell.execute_reply": "2025-08-19T18:18:02.164824Z"
    },
    "papermill": {
     "duration": 0.656543,
     "end_time": "2025-08-19T18:18:02.168344",
     "exception": false,
     "start_time": "2025-08-19T18:18:01.511801",
     "status": "completed"
    },
    "tags": []
   },
   "outputs": [],
   "source": [
    "from fairness_multiverse.conformal import predict_conformal_sets\n",
    "\n",
    "# Generate prediction sets for each test example\n",
    "pred_sets = predict_conformal_sets(model, X_test, q_hat)"
   ]
  },
  {
   "cell_type": "code",
   "execution_count": 44,
   "id": "97f67a6b",
   "metadata": {
    "execution": {
     "iopub.execute_input": "2025-08-19T18:18:02.196868Z",
     "iopub.status.busy": "2025-08-19T18:18:02.193836Z",
     "iopub.status.idle": "2025-08-19T18:18:02.202025Z",
     "shell.execute_reply": "2025-08-19T18:18:02.201384Z"
    },
    "papermill": {
     "duration": 0.022929,
     "end_time": "2025-08-19T18:18:02.203324",
     "exception": false,
     "start_time": "2025-08-19T18:18:02.180395",
     "status": "completed"
    },
    "tags": []
   },
   "outputs": [],
   "source": [
    "y_true = y_true.squeeze()"
   ]
  },
  {
   "cell_type": "code",
   "execution_count": 45,
   "id": "e700e9a7",
   "metadata": {
    "execution": {
     "iopub.execute_input": "2025-08-19T18:18:02.231074Z",
     "iopub.status.busy": "2025-08-19T18:18:02.230088Z",
     "iopub.status.idle": "2025-08-19T18:18:02.740436Z",
     "shell.execute_reply": "2025-08-19T18:18:02.739043Z"
    },
    "papermill": {
     "duration": 0.525057,
     "end_time": "2025-08-19T18:18:02.742116",
     "exception": false,
     "start_time": "2025-08-19T18:18:02.217059",
     "status": "completed"
    },
    "tags": []
   },
   "outputs": [],
   "source": [
    "from fairness_multiverse.conformal import evaluate_sets\n",
    "\n",
    "# Evaluate coverage and average set size on test data\n",
    "metrics = evaluate_sets(pred_sets, y_true)"
   ]
  },
  {
   "cell_type": "markdown",
   "id": "efbacec0",
   "metadata": {
    "papermill": {
     "duration": 0.011509,
     "end_time": "2025-08-19T18:18:02.765747",
     "exception": false,
     "start_time": "2025-08-19T18:18:02.754238",
     "status": "completed"
    },
    "tags": []
   },
   "source": [
    "# CP Metrics"
   ]
  },
  {
   "cell_type": "code",
   "execution_count": 46,
   "id": "9de55fb1",
   "metadata": {
    "execution": {
     "iopub.execute_input": "2025-08-19T18:18:02.792433Z",
     "iopub.status.busy": "2025-08-19T18:18:02.792012Z",
     "iopub.status.idle": "2025-08-19T18:18:02.800009Z",
     "shell.execute_reply": "2025-08-19T18:18:02.799316Z"
    },
    "papermill": {
     "duration": 0.025952,
     "end_time": "2025-08-19T18:18:02.803747",
     "exception": false,
     "start_time": "2025-08-19T18:18:02.777795",
     "status": "completed"
    },
    "tags": []
   },
   "outputs": [
    {
     "data": {
      "text/plain": [
       "{'coverage': 0.9109463827889868, 'avg_size': 1.20911826998105}"
      ]
     },
     "execution_count": 46,
     "metadata": {},
     "output_type": "execute_result"
    }
   ],
   "source": [
    "metrics"
   ]
  },
  {
   "cell_type": "code",
   "execution_count": 47,
   "id": "64c340a1",
   "metadata": {
    "execution": {
     "iopub.execute_input": "2025-08-19T18:18:02.842998Z",
     "iopub.status.busy": "2025-08-19T18:18:02.841512Z",
     "iopub.status.idle": "2025-08-19T18:18:02.853906Z",
     "shell.execute_reply": "2025-08-19T18:18:02.851915Z"
    },
    "papermill": {
     "duration": 0.028961,
     "end_time": "2025-08-19T18:18:02.855758",
     "exception": false,
     "start_time": "2025-08-19T18:18:02.826797",
     "status": "completed"
    },
    "tags": []
   },
   "outputs": [],
   "source": [
    "example_universe = universe.copy()\n",
    "universe_training_year = example_universe.get(\"training_year\")\n",
    "universe_training_size = example_universe.get(\"training_size\")\n",
    "universe_scale = example_universe.get(\"scale\")\n",
    "universe_model = example_universe.get(\"model\")\n",
    "universe_exclude_features = example_universe.get(\"exclude_features\")\n",
    "universe_exclude_subgroups = example_universe.get(\"exclude_subgroups\")"
   ]
  },
  {
   "cell_type": "code",
   "execution_count": 48,
   "id": "dbb53cb4",
   "metadata": {
    "execution": {
     "iopub.execute_input": "2025-08-19T18:18:02.885386Z",
     "iopub.status.busy": "2025-08-19T18:18:02.884098Z",
     "iopub.status.idle": "2025-08-19T18:18:02.895957Z",
     "shell.execute_reply": "2025-08-19T18:18:02.894255Z"
    },
    "papermill": {
     "duration": 0.027336,
     "end_time": "2025-08-19T18:18:02.897633",
     "exception": false,
     "start_time": "2025-08-19T18:18:02.870297",
     "status": "completed"
    },
    "tags": []
   },
   "outputs": [],
   "source": [
    "cp_metrics_dict = {\n",
    "    \"universe_id\": [universe_id],\n",
    "    \"universe_training_year\": [universe_training_year],\n",
    "    \"universe_training_size\": [universe_training_size],\n",
    "    \"universe_scale\": [universe_scale],\n",
    "    \"universe_model\": [universe_model],\n",
    "    \"universe_exclude_features\": [universe_exclude_features],\n",
    "    \"universe_exclude_subgroups\": [universe_exclude_subgroups],\n",
    "    \"q_hat\": [q_hat],\n",
    "    \"coverage\": [metrics[\"coverage\"]],\n",
    "    \"avg_size\": [metrics[\"avg_size\"]],\n",
    "}"
   ]
  },
  {
   "cell_type": "code",
   "execution_count": 49,
   "id": "0d70d4b2",
   "metadata": {
    "execution": {
     "iopub.execute_input": "2025-08-19T18:18:02.928730Z",
     "iopub.status.busy": "2025-08-19T18:18:02.926906Z",
     "iopub.status.idle": "2025-08-19T18:18:02.939916Z",
     "shell.execute_reply": "2025-08-19T18:18:02.938499Z"
    },
    "papermill": {
     "duration": 0.028736,
     "end_time": "2025-08-19T18:18:02.941616",
     "exception": false,
     "start_time": "2025-08-19T18:18:02.912880",
     "status": "completed"
    },
    "tags": []
   },
   "outputs": [],
   "source": [
    "cp_metrics_df = pd.DataFrame(cp_metrics_dict)"
   ]
  },
  {
   "cell_type": "code",
   "execution_count": 50,
   "id": "b494403c",
   "metadata": {
    "execution": {
     "iopub.execute_input": "2025-08-19T18:18:02.976236Z",
     "iopub.status.busy": "2025-08-19T18:18:02.975011Z",
     "iopub.status.idle": "2025-08-19T18:18:02.999869Z",
     "shell.execute_reply": "2025-08-19T18:18:02.998914Z"
    },
    "papermill": {
     "duration": 0.041558,
     "end_time": "2025-08-19T18:18:03.001682",
     "exception": false,
     "start_time": "2025-08-19T18:18:02.960124",
     "status": "completed"
    },
    "tags": []
   },
   "outputs": [
    {
     "data": {
      "text/html": [
       "<div>\n",
       "<style scoped>\n",
       "    .dataframe tbody tr th:only-of-type {\n",
       "        vertical-align: middle;\n",
       "    }\n",
       "\n",
       "    .dataframe tbody tr th {\n",
       "        vertical-align: top;\n",
       "    }\n",
       "\n",
       "    .dataframe thead th {\n",
       "        text-align: right;\n",
       "    }\n",
       "</style>\n",
       "<table border=\"1\" class=\"dataframe\">\n",
       "  <thead>\n",
       "    <tr style=\"text-align: right;\">\n",
       "      <th></th>\n",
       "      <th>universe_id</th>\n",
       "      <th>universe_training_year</th>\n",
       "      <th>universe_training_size</th>\n",
       "      <th>universe_scale</th>\n",
       "      <th>universe_model</th>\n",
       "      <th>universe_exclude_features</th>\n",
       "      <th>universe_exclude_subgroups</th>\n",
       "      <th>q_hat</th>\n",
       "      <th>coverage</th>\n",
       "      <th>avg_size</th>\n",
       "    </tr>\n",
       "  </thead>\n",
       "  <tbody>\n",
       "    <tr>\n",
       "      <th>0</th>\n",
       "      <td>d8eb83022f4d37ea1a0ef3cccf88ef69</td>\n",
       "      <td>2010_14</td>\n",
       "      <td>25k</td>\n",
       "      <td>do-not-scale</td>\n",
       "      <td>logreg</td>\n",
       "      <td>none</td>\n",
       "      <td>drop-non-german</td>\n",
       "      <td>0.667988</td>\n",
       "      <td>0.910946</td>\n",
       "      <td>1.209118</td>\n",
       "    </tr>\n",
       "  </tbody>\n",
       "</table>\n",
       "</div>"
      ],
      "text/plain": [
       "                        universe_id universe_training_year  \\\n",
       "0  d8eb83022f4d37ea1a0ef3cccf88ef69                2010_14   \n",
       "\n",
       "  universe_training_size universe_scale universe_model  \\\n",
       "0                    25k   do-not-scale         logreg   \n",
       "\n",
       "  universe_exclude_features universe_exclude_subgroups     q_hat  coverage  \\\n",
       "0                      none            drop-non-german  0.667988  0.910946   \n",
       "\n",
       "   avg_size  \n",
       "0  1.209118  "
      ]
     },
     "execution_count": 50,
     "metadata": {},
     "output_type": "execute_result"
    }
   ],
   "source": [
    "cp_metrics_df"
   ]
  },
  {
   "cell_type": "markdown",
   "id": "ed608b0b",
   "metadata": {
    "papermill": {
     "duration": 0.012708,
     "end_time": "2025-08-19T18:18:03.033740",
     "exception": false,
     "start_time": "2025-08-19T18:18:03.021032",
     "status": "completed"
    },
    "tags": []
   },
   "source": [
    "Conditional coverage & looking at subgroups"
   ]
  },
  {
   "cell_type": "code",
   "execution_count": 51,
   "id": "8968c366",
   "metadata": {
    "execution": {
     "iopub.execute_input": "2025-08-19T18:18:03.061055Z",
     "iopub.status.busy": "2025-08-19T18:18:03.059537Z",
     "iopub.status.idle": "2025-08-19T18:18:03.350914Z",
     "shell.execute_reply": "2025-08-19T18:18:03.350198Z"
    },
    "papermill": {
     "duration": 0.308055,
     "end_time": "2025-08-19T18:18:03.353761",
     "exception": false,
     "start_time": "2025-08-19T18:18:03.045706",
     "status": "completed"
    },
    "tags": []
   },
   "outputs": [],
   "source": [
    "from fairness_multiverse.conformal import build_cp_groups\n",
    "\n",
    "cp_groups_df = build_cp_groups(pred_sets, y_true, X_test.index, org_test)"
   ]
  },
  {
   "cell_type": "code",
   "execution_count": 52,
   "id": "292ddabf",
   "metadata": {
    "execution": {
     "iopub.execute_input": "2025-08-19T18:18:03.397630Z",
     "iopub.status.busy": "2025-08-19T18:18:03.396372Z",
     "iopub.status.idle": "2025-08-19T18:18:04.307071Z",
     "shell.execute_reply": "2025-08-19T18:18:04.305654Z"
    },
    "papermill": {
     "duration": 0.928151,
     "end_time": "2025-08-19T18:18:04.308785",
     "exception": false,
     "start_time": "2025-08-19T18:18:03.380634",
     "status": "completed"
    },
    "tags": []
   },
   "outputs": [],
   "source": [
    "# Define covered = 1 if true_label is in the predicted set\n",
    "cp_groups_df['covered'] = cp_groups_df.apply(\n",
    "    lambda r: int(r['true_label'] in r['pred_set']),\n",
    "    axis=1\n",
    ")"
   ]
  },
  {
   "cell_type": "code",
   "execution_count": 53,
   "id": "3a261692",
   "metadata": {
    "execution": {
     "iopub.execute_input": "2025-08-19T18:18:04.341237Z",
     "iopub.status.busy": "2025-08-19T18:18:04.340631Z",
     "iopub.status.idle": "2025-08-19T18:18:04.354587Z",
     "shell.execute_reply": "2025-08-19T18:18:04.353527Z"
    },
    "papermill": {
     "duration": 0.047814,
     "end_time": "2025-08-19T18:18:04.369586",
     "exception": false,
     "start_time": "2025-08-19T18:18:04.321772",
     "status": "completed"
    },
    "tags": []
   },
   "outputs": [],
   "source": [
    "subgroups = ['frau1','nongerman','nongerman_male','nongerman_female']\n",
    "\n",
    "# Conditional coverage for subgroup==1\n",
    "cond_coverage = {\n",
    "    g: cp_groups_df.loc[cp_groups_df[g]==1, 'covered'].mean()\n",
    "    for g in subgroups\n",
    "}"
   ]
  },
  {
   "cell_type": "code",
   "execution_count": 54,
   "id": "894fd600",
   "metadata": {
    "execution": {
     "iopub.execute_input": "2025-08-19T18:18:04.399706Z",
     "iopub.status.busy": "2025-08-19T18:18:04.397329Z",
     "iopub.status.idle": "2025-08-19T18:18:04.406299Z",
     "shell.execute_reply": "2025-08-19T18:18:04.405387Z"
    },
    "papermill": {
     "duration": 0.02394,
     "end_time": "2025-08-19T18:18:04.407893",
     "exception": false,
     "start_time": "2025-08-19T18:18:04.383953",
     "status": "completed"
    },
    "tags": []
   },
   "outputs": [
    {
     "data": {
      "text/plain": [
       "{'frau1': 0.910661814260682,\n",
       " 'nongerman': 0.934879020939763,\n",
       " 'nongerman_male': 0.94659101143835,\n",
       " 'nongerman_female': 0.9154992548435171}"
      ]
     },
     "execution_count": 54,
     "metadata": {},
     "output_type": "execute_result"
    }
   ],
   "source": [
    "cond_coverage"
   ]
  },
  {
   "cell_type": "code",
   "execution_count": 55,
   "id": "942895c7",
   "metadata": {
    "execution": {
     "iopub.execute_input": "2025-08-19T18:18:04.435893Z",
     "iopub.status.busy": "2025-08-19T18:18:04.434956Z",
     "iopub.status.idle": "2025-08-19T18:18:04.447612Z",
     "shell.execute_reply": "2025-08-19T18:18:04.445584Z"
    },
    "papermill": {
     "duration": 0.02839,
     "end_time": "2025-08-19T18:18:04.449705",
     "exception": false,
     "start_time": "2025-08-19T18:18:04.421315",
     "status": "completed"
    },
    "tags": []
   },
   "outputs": [],
   "source": [
    "for subgroup, cov in cond_coverage.items():\n",
    "    cp_metrics_df[f\"cov_{subgroup}\"] = cov"
   ]
  },
  {
   "cell_type": "code",
   "execution_count": 56,
   "id": "3970120f",
   "metadata": {
    "execution": {
     "iopub.execute_input": "2025-08-19T18:18:04.491053Z",
     "iopub.status.busy": "2025-08-19T18:18:04.490549Z",
     "iopub.status.idle": "2025-08-19T18:18:04.511048Z",
     "shell.execute_reply": "2025-08-19T18:18:04.510283Z"
    },
    "papermill": {
     "duration": 0.0387,
     "end_time": "2025-08-19T18:18:04.512897",
     "exception": false,
     "start_time": "2025-08-19T18:18:04.474197",
     "status": "completed"
    },
    "tags": []
   },
   "outputs": [
    {
     "data": {
      "text/html": [
       "<div>\n",
       "<style scoped>\n",
       "    .dataframe tbody tr th:only-of-type {\n",
       "        vertical-align: middle;\n",
       "    }\n",
       "\n",
       "    .dataframe tbody tr th {\n",
       "        vertical-align: top;\n",
       "    }\n",
       "\n",
       "    .dataframe thead th {\n",
       "        text-align: right;\n",
       "    }\n",
       "</style>\n",
       "<table border=\"1\" class=\"dataframe\">\n",
       "  <thead>\n",
       "    <tr style=\"text-align: right;\">\n",
       "      <th></th>\n",
       "      <th>universe_id</th>\n",
       "      <th>universe_training_year</th>\n",
       "      <th>universe_training_size</th>\n",
       "      <th>universe_scale</th>\n",
       "      <th>universe_model</th>\n",
       "      <th>universe_exclude_features</th>\n",
       "      <th>universe_exclude_subgroups</th>\n",
       "      <th>q_hat</th>\n",
       "      <th>coverage</th>\n",
       "      <th>avg_size</th>\n",
       "      <th>cov_frau1</th>\n",
       "      <th>cov_nongerman</th>\n",
       "      <th>cov_nongerman_male</th>\n",
       "      <th>cov_nongerman_female</th>\n",
       "    </tr>\n",
       "  </thead>\n",
       "  <tbody>\n",
       "    <tr>\n",
       "      <th>0</th>\n",
       "      <td>d8eb83022f4d37ea1a0ef3cccf88ef69</td>\n",
       "      <td>2010_14</td>\n",
       "      <td>25k</td>\n",
       "      <td>do-not-scale</td>\n",
       "      <td>logreg</td>\n",
       "      <td>none</td>\n",
       "      <td>drop-non-german</td>\n",
       "      <td>0.667988</td>\n",
       "      <td>0.910946</td>\n",
       "      <td>1.209118</td>\n",
       "      <td>0.910662</td>\n",
       "      <td>0.934879</td>\n",
       "      <td>0.946591</td>\n",
       "      <td>0.915499</td>\n",
       "    </tr>\n",
       "  </tbody>\n",
       "</table>\n",
       "</div>"
      ],
      "text/plain": [
       "                        universe_id universe_training_year  \\\n",
       "0  d8eb83022f4d37ea1a0ef3cccf88ef69                2010_14   \n",
       "\n",
       "  universe_training_size universe_scale universe_model  \\\n",
       "0                    25k   do-not-scale         logreg   \n",
       "\n",
       "  universe_exclude_features universe_exclude_subgroups     q_hat  coverage  \\\n",
       "0                      none            drop-non-german  0.667988  0.910946   \n",
       "\n",
       "   avg_size  cov_frau1  cov_nongerman  cov_nongerman_male  \\\n",
       "0  1.209118   0.910662       0.934879            0.946591   \n",
       "\n",
       "   cov_nongerman_female  \n",
       "0              0.915499  "
      ]
     },
     "execution_count": 56,
     "metadata": {},
     "output_type": "execute_result"
    }
   ],
   "source": [
    "cp_metrics_df"
   ]
  },
  {
   "cell_type": "markdown",
   "id": "3fc519cc",
   "metadata": {
    "papermill": {
     "duration": 0.011948,
     "end_time": "2025-08-19T18:18:04.538113",
     "exception": false,
     "start_time": "2025-08-19T18:18:04.526165",
     "status": "completed"
    },
    "tags": []
   },
   "source": [
    "# (Fairness) Metrics"
   ]
  },
  {
   "cell_type": "code",
   "execution_count": 57,
   "id": "a2e5e155",
   "metadata": {
    "execution": {
     "iopub.execute_input": "2025-08-19T18:18:04.563397Z",
     "iopub.status.busy": "2025-08-19T18:18:04.562929Z",
     "iopub.status.idle": "2025-08-19T18:18:04.614309Z",
     "shell.execute_reply": "2025-08-19T18:18:04.613295Z"
    },
    "papermill": {
     "duration": 0.066131,
     "end_time": "2025-08-19T18:18:04.616165",
     "exception": false,
     "start_time": "2025-08-19T18:18:04.550034",
     "status": "completed"
    },
    "tags": []
   },
   "outputs": [],
   "source": [
    "colname_to_bin = \"maxdeutsch1\"\n",
    "majority_value = org_train[colname_to_bin].mode()[0]\n",
    "\n",
    "org_test[\"majmin\"] = np.where(org_test[colname_to_bin] == majority_value, \"majority\", \"minority\")"
   ]
  },
  {
   "cell_type": "code",
   "execution_count": 58,
   "id": "17e3e4d5",
   "metadata": {
    "execution": {
     "iopub.execute_input": "2025-08-19T18:18:04.646097Z",
     "iopub.status.busy": "2025-08-19T18:18:04.645797Z",
     "iopub.status.idle": "2025-08-19T18:18:06.394248Z",
     "shell.execute_reply": "2025-08-19T18:18:06.393085Z"
    },
    "papermill": {
     "duration": 1.766178,
     "end_time": "2025-08-19T18:18:06.397022",
     "exception": false,
     "start_time": "2025-08-19T18:18:04.630844",
     "status": "completed"
    },
    "tags": []
   },
   "outputs": [],
   "source": [
    "example_universe = universe.copy()\n",
    "example_universe[\"cutoff\"] = example_universe[\"cutoff\"][0]\n",
    "example_universe[\"eval_fairness_grouping\"] = example_universe[\"eval_fairness_grouping\"][0]\n",
    "fairness_dict, metric_frame = universe_analysis.compute_metrics(\n",
    "    example_universe,\n",
    "    y_pred_prob=probs_test,\n",
    "    y_test=y_true,\n",
    "    org_test=org_test,\n",
    ")"
   ]
  },
  {
   "cell_type": "markdown",
   "id": "1fb7a0e9",
   "metadata": {
    "papermill": {
     "duration": 0.012634,
     "end_time": "2025-08-19T18:18:06.429390",
     "exception": false,
     "start_time": "2025-08-19T18:18:06.416756",
     "status": "completed"
    },
    "tags": []
   },
   "source": [
    "# Overall"
   ]
  },
  {
   "cell_type": "markdown",
   "id": "be1784b1",
   "metadata": {
    "papermill": {
     "duration": 0.015377,
     "end_time": "2025-08-19T18:18:06.482374",
     "exception": false,
     "start_time": "2025-08-19T18:18:06.466997",
     "status": "completed"
    },
    "tags": []
   },
   "source": [
    "Main fairness target: Equalized Odds. Seems to be a better fit than equal opportunity, since we're not only interested in Y = 1. Seems to be a better fit than demographic parity, since we also care about accuracy, not just equal distribution of preds.\n",
    "\n",
    "Pick column for computation of fairness metrics\n",
    "\n",
    "Performance\n",
    "Overall performance measures, most interesting in relation to the measures split by group below"
   ]
  },
  {
   "cell_type": "code",
   "execution_count": 59,
   "id": "b7672bee",
   "metadata": {
    "execution": {
     "iopub.execute_input": "2025-08-19T18:18:06.511036Z",
     "iopub.status.busy": "2025-08-19T18:18:06.510460Z",
     "iopub.status.idle": "2025-08-19T18:18:06.520645Z",
     "shell.execute_reply": "2025-08-19T18:18:06.519718Z"
    },
    "papermill": {
     "duration": 0.028006,
     "end_time": "2025-08-19T18:18:06.522725",
     "exception": false,
     "start_time": "2025-08-19T18:18:06.494719",
     "status": "completed"
    },
    "tags": []
   },
   "outputs": [
    {
     "data": {
      "text/plain": [
       "accuracy                   0.217668\n",
       "balanced accuracy          0.533633\n",
       "f1                         0.239184\n",
       "precision                  0.136638\n",
       "false positive rate        0.891371\n",
       "false negative rate        0.041363\n",
       "selection rate             0.900000\n",
       "count                  89710.000000\n",
       "dtype: float64"
      ]
     },
     "execution_count": 59,
     "metadata": {},
     "output_type": "execute_result"
    }
   ],
   "source": [
    "metric_frame.overall"
   ]
  },
  {
   "cell_type": "markdown",
   "id": "d93333c9",
   "metadata": {
    "papermill": {
     "duration": 0.012955,
     "end_time": "2025-08-19T18:18:06.548298",
     "exception": false,
     "start_time": "2025-08-19T18:18:06.535343",
     "status": "completed"
    },
    "tags": []
   },
   "source": [
    "By Group"
   ]
  },
  {
   "cell_type": "code",
   "execution_count": 60,
   "id": "52256966",
   "metadata": {
    "execution": {
     "iopub.execute_input": "2025-08-19T18:18:06.578100Z",
     "iopub.status.busy": "2025-08-19T18:18:06.576888Z",
     "iopub.status.idle": "2025-08-19T18:18:06.599972Z",
     "shell.execute_reply": "2025-08-19T18:18:06.598933Z"
    },
    "papermill": {
     "duration": 0.039298,
     "end_time": "2025-08-19T18:18:06.601703",
     "exception": false,
     "start_time": "2025-08-19T18:18:06.562405",
     "status": "completed"
    },
    "tags": []
   },
   "outputs": [
    {
     "data": {
      "text/html": [
       "<div>\n",
       "<style scoped>\n",
       "    .dataframe tbody tr th:only-of-type {\n",
       "        vertical-align: middle;\n",
       "    }\n",
       "\n",
       "    .dataframe tbody tr th {\n",
       "        vertical-align: top;\n",
       "    }\n",
       "\n",
       "    .dataframe thead th {\n",
       "        text-align: right;\n",
       "    }\n",
       "</style>\n",
       "<table border=\"1\" class=\"dataframe\">\n",
       "  <thead>\n",
       "    <tr style=\"text-align: right;\">\n",
       "      <th></th>\n",
       "      <th>accuracy</th>\n",
       "      <th>balanced accuracy</th>\n",
       "      <th>f1</th>\n",
       "      <th>precision</th>\n",
       "      <th>false positive rate</th>\n",
       "      <th>false negative rate</th>\n",
       "      <th>selection rate</th>\n",
       "      <th>count</th>\n",
       "    </tr>\n",
       "    <tr>\n",
       "      <th>majmin</th>\n",
       "      <th></th>\n",
       "      <th></th>\n",
       "      <th></th>\n",
       "      <th></th>\n",
       "      <th></th>\n",
       "      <th></th>\n",
       "      <th></th>\n",
       "      <th></th>\n",
       "    </tr>\n",
       "  </thead>\n",
       "  <tbody>\n",
       "    <tr>\n",
       "      <th>majority</th>\n",
       "      <td>0.239338</td>\n",
       "      <td>0.541356</td>\n",
       "      <td>0.248518</td>\n",
       "      <td>0.142916</td>\n",
       "      <td>0.869149</td>\n",
       "      <td>0.048140</td>\n",
       "      <td>0.880078</td>\n",
       "      <td>69170.0</td>\n",
       "    </tr>\n",
       "    <tr>\n",
       "      <th>minority</th>\n",
       "      <td>0.144693</td>\n",
       "      <td>0.510008</td>\n",
       "      <td>0.209788</td>\n",
       "      <td>0.117398</td>\n",
       "      <td>0.964781</td>\n",
       "      <td>0.015203</td>\n",
       "      <td>0.967089</td>\n",
       "      <td>20540.0</td>\n",
       "    </tr>\n",
       "  </tbody>\n",
       "</table>\n",
       "</div>"
      ],
      "text/plain": [
       "          accuracy  balanced accuracy        f1  precision  \\\n",
       "majmin                                                       \n",
       "majority  0.239338           0.541356  0.248518   0.142916   \n",
       "minority  0.144693           0.510008  0.209788   0.117398   \n",
       "\n",
       "          false positive rate  false negative rate  selection rate    count  \n",
       "majmin                                                                       \n",
       "majority             0.869149             0.048140        0.880078  69170.0  \n",
       "minority             0.964781             0.015203        0.967089  20540.0  "
      ]
     },
     "execution_count": 60,
     "metadata": {},
     "output_type": "execute_result"
    }
   ],
   "source": [
    "metric_frame.by_group"
   ]
  },
  {
   "cell_type": "code",
   "execution_count": 61,
   "id": "6e6c20ae",
   "metadata": {
    "execution": {
     "iopub.execute_input": "2025-08-19T18:18:06.641022Z",
     "iopub.status.busy": "2025-08-19T18:18:06.640086Z",
     "iopub.status.idle": "2025-08-19T18:18:08.652200Z",
     "shell.execute_reply": "2025-08-19T18:18:08.651274Z"
    },
    "papermill": {
     "duration": 2.035259,
     "end_time": "2025-08-19T18:18:08.653877",
     "exception": false,
     "start_time": "2025-08-19T18:18:06.618618",
     "status": "completed"
    },
    "tags": []
   },
   "outputs": [
    {
     "data": {
      "text/plain": [
       "array([[<Axes: title={'center': 'accuracy'}, xlabel='majmin'>,\n",
       "        <Axes: title={'center': 'balanced accuracy'}, xlabel='majmin'>,\n",
       "        <Axes: title={'center': 'f1'}, xlabel='majmin'>],\n",
       "       [<Axes: title={'center': 'precision'}, xlabel='majmin'>,\n",
       "        <Axes: title={'center': 'false positive rate'}, xlabel='majmin'>,\n",
       "        <Axes: title={'center': 'false negative rate'}, xlabel='majmin'>],\n",
       "       [<Axes: title={'center': 'selection rate'}, xlabel='majmin'>,\n",
       "        <Axes: title={'center': 'count'}, xlabel='majmin'>,\n",
       "        <Axes: xlabel='majmin'>]], dtype=object)"
      ]
     },
     "execution_count": 61,
     "metadata": {},
     "output_type": "execute_result"
    },
    {
     "data": {
      "image/png": "[encoded data removed]",
      "text/plain": [
       "<Figure size 1200x800 with 9 Axes>"
      ]
     },
     "metadata": {},
     "output_type": "display_data"
    }
   ],
   "source": [
    "# In a graphic\n",
    "metric_frame.by_group.plot.bar(\n",
    "    subplots=True,\n",
    "    layout=[3, 3],\n",
    "    legend=False,\n",
    "    figsize=[12, 8],\n",
    "    title=\"Show all metrics\",\n",
    ")"
   ]
  },
  {
   "cell_type": "markdown",
   "id": "b2e433ae",
   "metadata": {
    "papermill": {
     "duration": 0.014834,
     "end_time": "2025-08-19T18:18:08.685911",
     "exception": false,
     "start_time": "2025-08-19T18:18:08.671077",
     "status": "completed"
    },
    "tags": []
   },
   "source": [
    "# Final Output"
   ]
  },
  {
   "cell_type": "code",
   "execution_count": 62,
   "id": "3871301e",
   "metadata": {
    "execution": {
     "iopub.execute_input": "2025-08-19T18:18:08.720635Z",
     "iopub.status.busy": "2025-08-19T18:18:08.717732Z",
     "iopub.status.idle": "2025-08-19T18:18:08.743286Z",
     "shell.execute_reply": "2025-08-19T18:18:08.741892Z"
    },
    "papermill": {
     "duration": 0.044225,
     "end_time": "2025-08-19T18:18:08.744979",
     "exception": false,
     "start_time": "2025-08-19T18:18:08.700754",
     "status": "completed"
    },
    "tags": []
   },
   "outputs": [
    {
     "data": {
      "text/plain": [
       "4"
      ]
     },
     "execution_count": 62,
     "metadata": {},
     "output_type": "execute_result"
    }
   ],
   "source": [
    "sub_universes = universe_analysis.generate_sub_universes()\n",
    "len(sub_universes)"
   ]
  },
  {
   "cell_type": "code",
   "execution_count": 63,
   "id": "d9cfdaca",
   "metadata": {
    "execution": {
     "iopub.execute_input": "2025-08-19T18:18:08.785677Z",
     "iopub.status.busy": "2025-08-19T18:18:08.785182Z",
     "iopub.status.idle": "2025-08-19T18:18:08.795464Z",
     "shell.execute_reply": "2025-08-19T18:18:08.792828Z"
    },
    "papermill": {
     "duration": 0.035657,
     "end_time": "2025-08-19T18:18:08.797395",
     "exception": false,
     "start_time": "2025-08-19T18:18:08.761738",
     "status": "completed"
    },
    "tags": []
   },
   "outputs": [],
   "source": [
    "def filter_sub_universe_data(sub_universe, org_test):\n",
    "    # Keep all rows — no filtering\n",
    "    keep_rows_mask = np.ones(org_test.shape[0], dtype=bool)\n",
    "\n",
    "    print(f\"[INFO] Keeping all rows: {keep_rows_mask.sum()} rows retained.\")\n",
    "    return keep_rows_mask"
   ]
  },
  {
   "cell_type": "code",
   "execution_count": 64,
   "id": "2bc31ac1",
   "metadata": {
    "execution": {
     "iopub.execute_input": "2025-08-19T18:18:08.838537Z",
     "iopub.status.busy": "2025-08-19T18:18:08.838036Z",
     "iopub.status.idle": "2025-08-19T18:18:15.778045Z",
     "shell.execute_reply": "2025-08-19T18:18:15.777053Z"
    },
    "papermill": {
     "duration": 6.961464,
     "end_time": "2025-08-19T18:18:15.782121",
     "exception": false,
     "start_time": "2025-08-19T18:18:08.820657",
     "status": "completed"
    },
    "tags": []
   },
   "outputs": [
    {
     "name": "stdout",
     "output_type": "stream",
     "text": [
      "Stopping execution_time clock.\n",
      "[INFO] Keeping all rows: 89710 rows retained.\n"
     ]
    },
    {
     "name": "stdout",
     "output_type": "stream",
     "text": [
      "[INFO] Keeping all rows: 89710 rows retained.\n"
     ]
    },
    {
     "name": "stdout",
     "output_type": "stream",
     "text": [
      "[INFO] Keeping all rows: 89710 rows retained.\n"
     ]
    },
    {
     "name": "stdout",
     "output_type": "stream",
     "text": [
      "[INFO] Keeping all rows: 89710 rows retained.\n"
     ]
    },
    {
     "data": {
      "text/html": [
       "<div>\n",
       "<style scoped>\n",
       "    .dataframe tbody tr th:only-of-type {\n",
       "        vertical-align: middle;\n",
       "    }\n",
       "\n",
       "    .dataframe tbody tr th {\n",
       "        vertical-align: top;\n",
       "    }\n",
       "\n",
       "    .dataframe thead th {\n",
       "        text-align: right;\n",
       "    }\n",
       "</style>\n",
       "<table border=\"1\" class=\"dataframe\">\n",
       "  <thead>\n",
       "    <tr style=\"text-align: right;\">\n",
       "      <th></th>\n",
       "      <th>run_no</th>\n",
       "      <th>universe_id</th>\n",
       "      <th>universe_settings</th>\n",
       "      <th>execution_time</th>\n",
       "      <th>test_size_n</th>\n",
       "      <th>test_size_frac</th>\n",
       "      <th>fair_main_equalized_odds_difference</th>\n",
       "      <th>fair_main_equalized_odds_ratio</th>\n",
       "      <th>fair_main_demographic_parity_difference</th>\n",
       "      <th>fair_main_demographic_parity_ratio</th>\n",
       "      <th>...</th>\n",
       "      <th>perf_grp_precision_0</th>\n",
       "      <th>perf_grp_precision_1</th>\n",
       "      <th>perf_grp_false positive rate_0</th>\n",
       "      <th>perf_grp_false positive rate_1</th>\n",
       "      <th>perf_grp_false negative rate_0</th>\n",
       "      <th>perf_grp_false negative rate_1</th>\n",
       "      <th>perf_grp_selection rate_0</th>\n",
       "      <th>perf_grp_selection rate_1</th>\n",
       "      <th>perf_grp_count_0</th>\n",
       "      <th>perf_grp_count_1</th>\n",
       "    </tr>\n",
       "  </thead>\n",
       "  <tbody>\n",
       "    <tr>\n",
       "      <th>0</th>\n",
       "      <td>3</td>\n",
       "      <td>d8eb83022f4d37ea1a0ef3cccf88ef69</td>\n",
       "      <td>{\"cutoff\": \"quantile_0.1\", \"eval_fairness_grou...</td>\n",
       "      <td>22.493926</td>\n",
       "      <td>89710</td>\n",
       "      <td>1.0</td>\n",
       "      <td>0.095632</td>\n",
       "      <td>0.900877</td>\n",
       "      <td>0.087011</td>\n",
       "      <td>0.910028</td>\n",
       "      <td>...</td>\n",
       "      <td>NaN</td>\n",
       "      <td>NaN</td>\n",
       "      <td>NaN</td>\n",
       "      <td>NaN</td>\n",
       "      <td>NaN</td>\n",
       "      <td>NaN</td>\n",
       "      <td>NaN</td>\n",
       "      <td>NaN</td>\n",
       "      <td>NaN</td>\n",
       "      <td>NaN</td>\n",
       "    </tr>\n",
       "    <tr>\n",
       "      <th>0</th>\n",
       "      <td>3</td>\n",
       "      <td>d8eb83022f4d37ea1a0ef3cccf88ef69</td>\n",
       "      <td>{\"cutoff\": \"quantile_0.1\", \"eval_fairness_grou...</td>\n",
       "      <td>22.493926</td>\n",
       "      <td>89710</td>\n",
       "      <td>1.0</td>\n",
       "      <td>0.095632</td>\n",
       "      <td>0.900877</td>\n",
       "      <td>0.087011</td>\n",
       "      <td>0.910028</td>\n",
       "      <td>...</td>\n",
       "      <td>0.117398</td>\n",
       "      <td>0.142916</td>\n",
       "      <td>0.964781</td>\n",
       "      <td>0.869149</td>\n",
       "      <td>0.015203</td>\n",
       "      <td>0.048140</td>\n",
       "      <td>0.967089</td>\n",
       "      <td>0.880078</td>\n",
       "      <td>20540.0</td>\n",
       "      <td>69170.0</td>\n",
       "    </tr>\n",
       "    <tr>\n",
       "      <th>0</th>\n",
       "      <td>3</td>\n",
       "      <td>d8eb83022f4d37ea1a0ef3cccf88ef69</td>\n",
       "      <td>{\"cutoff\": \"quantile_0.25\", \"eval_fairness_gro...</td>\n",
       "      <td>22.493926</td>\n",
       "      <td>89710</td>\n",
       "      <td>1.0</td>\n",
       "      <td>0.216536</td>\n",
       "      <td>0.758433</td>\n",
       "      <td>0.198149</td>\n",
       "      <td>0.780511</td>\n",
       "      <td>...</td>\n",
       "      <td>NaN</td>\n",
       "      <td>NaN</td>\n",
       "      <td>NaN</td>\n",
       "      <td>NaN</td>\n",
       "      <td>NaN</td>\n",
       "      <td>NaN</td>\n",
       "      <td>NaN</td>\n",
       "      <td>NaN</td>\n",
       "      <td>NaN</td>\n",
       "      <td>NaN</td>\n",
       "    </tr>\n",
       "    <tr>\n",
       "      <th>0</th>\n",
       "      <td>3</td>\n",
       "      <td>d8eb83022f4d37ea1a0ef3cccf88ef69</td>\n",
       "      <td>{\"cutoff\": \"quantile_0.25\", \"eval_fairness_gro...</td>\n",
       "      <td>22.493926</td>\n",
       "      <td>89710</td>\n",
       "      <td>1.0</td>\n",
       "      <td>0.216536</td>\n",
       "      <td>0.758433</td>\n",
       "      <td>0.198149</td>\n",
       "      <td>0.780511</td>\n",
       "      <td>...</td>\n",
       "      <td>0.121555</td>\n",
       "      <td>0.162662</td>\n",
       "      <td>0.896379</td>\n",
       "      <td>0.679843</td>\n",
       "      <td>0.048142</td>\n",
       "      <td>0.132604</td>\n",
       "      <td>0.902775</td>\n",
       "      <td>0.704626</td>\n",
       "      <td>20540.0</td>\n",
       "      <td>69170.0</td>\n",
       "    </tr>\n",
       "  </tbody>\n",
       "</table>\n",
       "<p>4 rows × 50 columns</p>\n",
       "</div>"
      ],
      "text/plain": [
       "  run_no                       universe_id  \\\n",
       "0      3  d8eb83022f4d37ea1a0ef3cccf88ef69   \n",
       "0      3  d8eb83022f4d37ea1a0ef3cccf88ef69   \n",
       "0      3  d8eb83022f4d37ea1a0ef3cccf88ef69   \n",
       "0      3  d8eb83022f4d37ea1a0ef3cccf88ef69   \n",
       "\n",
       "                                   universe_settings  execution_time  \\\n",
       "0  {\"cutoff\": \"quantile_0.1\", \"eval_fairness_grou...       22.493926   \n",
       "0  {\"cutoff\": \"quantile_0.1\", \"eval_fairness_grou...       22.493926   \n",
       "0  {\"cutoff\": \"quantile_0.25\", \"eval_fairness_gro...       22.493926   \n",
       "0  {\"cutoff\": \"quantile_0.25\", \"eval_fairness_gro...       22.493926   \n",
       "\n",
       "   test_size_n  test_size_frac  fair_main_equalized_odds_difference  \\\n",
       "0        89710             1.0                             0.095632   \n",
       "0        89710             1.0                             0.095632   \n",
       "0        89710             1.0                             0.216536   \n",
       "0        89710             1.0                             0.216536   \n",
       "\n",
       "   fair_main_equalized_odds_ratio  fair_main_demographic_parity_difference  \\\n",
       "0                        0.900877                                 0.087011   \n",
       "0                        0.900877                                 0.087011   \n",
       "0                        0.758433                                 0.198149   \n",
       "0                        0.758433                                 0.198149   \n",
       "\n",
       "   fair_main_demographic_parity_ratio  ...  perf_grp_precision_0  \\\n",
       "0                            0.910028  ...                   NaN   \n",
       "0                            0.910028  ...              0.117398   \n",
       "0                            0.780511  ...                   NaN   \n",
       "0                            0.780511  ...              0.121555   \n",
       "\n",
       "   perf_grp_precision_1  perf_grp_false positive rate_0  \\\n",
       "0                   NaN                             NaN   \n",
       "0              0.142916                        0.964781   \n",
       "0                   NaN                             NaN   \n",
       "0              0.162662                        0.896379   \n",
       "\n",
       "   perf_grp_false positive rate_1  perf_grp_false negative rate_0  \\\n",
       "0                             NaN                             NaN   \n",
       "0                        0.869149                        0.015203   \n",
       "0                             NaN                             NaN   \n",
       "0                        0.679843                        0.048142   \n",
       "\n",
       "   perf_grp_false negative rate_1  perf_grp_selection rate_0  \\\n",
       "0                             NaN                        NaN   \n",
       "0                        0.048140                   0.967089   \n",
       "0                             NaN                        NaN   \n",
       "0                        0.132604                   0.902775   \n",
       "\n",
       "   perf_grp_selection rate_1  perf_grp_count_0  perf_grp_count_1  \n",
       "0                        NaN               NaN               NaN  \n",
       "0                   0.880078           20540.0           69170.0  \n",
       "0                        NaN               NaN               NaN  \n",
       "0                   0.704626           20540.0           69170.0  \n",
       "\n",
       "[4 rows x 50 columns]"
      ]
     },
     "execution_count": 64,
     "metadata": {},
     "output_type": "execute_result"
    }
   ],
   "source": [
    "final_output = universe_analysis.generate_final_output(\n",
    "    y_pred_prob=probs_test,\n",
    "    y_test=y_true,\n",
    "    org_test=org_test,\n",
    "    filter_data=filter_sub_universe_data,\n",
    "    cp_metrics_df=cp_metrics_df,\n",
    "    save=True,\n",
    ")\n",
    "final_output"
   ]
  },
  {
   "cell_type": "code",
   "execution_count": null,
   "id": "8b80a1ff",
   "metadata": {
    "papermill": {
     "duration": 0.015975,
     "end_time": "2025-08-19T18:18:15.831945",
     "exception": false,
     "start_time": "2025-08-19T18:18:15.815970",
     "status": "completed"
    },
    "tags": []
   },
   "outputs": [],
   "source": []
  },
  {
   "cell_type": "code",
   "execution_count": null,
   "id": "275c9fad",
   "metadata": {
    "papermill": {
     "duration": 0.015441,
     "end_time": "2025-08-19T18:18:15.861701",
     "exception": false,
     "start_time": "2025-08-19T18:18:15.846260",
     "status": "completed"
    },
    "tags": []
   },
   "outputs": [],
   "source": []
  }
 ],
 "metadata": {
  "celltoolbar": "Tags",
  "kernelspec": {
   "display_name": "Python (CMA Fairness)",
   "language": "python",
   "name": "cma_fair_env"
  },
  "language_info": {
   "codemirror_mode": {
    "name": "ipython",
    "version": 3
   },
   "file_extension": ".py",
   "mimetype": "text/x-python",
   "name": "python",
   "nbconvert_exporter": "python",
   "pygments_lexer": "ipython3",
   "version": "3.10.12"
  },
  "papermill": {
   "default_parameters": {},
   "duration": 33.177731,
   "end_time": "2025-08-19T18:18:16.700019",
   "environment_variables": {},
   "exception": null,
   "input_path": "universe_analysis.ipynb",
   "output_path": "output/runs/3/notebooks/m_3-d8eb83022f4d37ea1a0ef3cccf88ef69.ipynb",
   "parameters": {
    "output_dir": "output",
    "run_no": "3",
    "seed": "2023",
    "universe": "{\"cutoff\": [\"quantile_0.1\", \"quantile_0.25\"], \"eval_fairness_grouping\": [\"majority-minority\", \"nationality-all\"], \"exclude_features\": \"none\", \"exclude_subgroups\": \"drop-non-german\", \"model\": \"logreg\", \"scale\": \"do-not-scale\", \"training_size\": \"25k\", \"training_year\": \"2010_14\"}",
    "universe_id": "d8eb83022f4d37ea1a0ef3cccf88ef69"
   },
   "start_time": "2025-08-19T18:17:43.522288",
   "version": "2.6.0"
  }
 },
 "nbformat": 4,
 "nbformat_minor": 5
}