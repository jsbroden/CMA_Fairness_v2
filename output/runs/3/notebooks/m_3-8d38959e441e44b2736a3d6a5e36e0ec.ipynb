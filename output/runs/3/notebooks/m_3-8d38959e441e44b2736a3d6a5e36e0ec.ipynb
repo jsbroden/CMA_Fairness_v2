{
 "cells": [
  {
   "cell_type": "markdown",
   "id": "ef23dbb3",
   "metadata": {
    "papermill": {
     "duration": 0.023536,
     "end_time": "2025-08-19T19:05:28.479118",
     "exception": false,
     "start_time": "2025-08-19T19:05:28.455582",
     "status": "completed"
    },
    "tags": []
   },
   "source": [
    "# Setup"
   ]
  },
  {
   "cell_type": "code",
   "execution_count": 1,
   "id": "0bc8e7dc",
   "metadata": {
    "execution": {
     "iopub.execute_input": "2025-08-19T19:05:28.501839Z",
     "iopub.status.busy": "2025-08-19T19:05:28.501467Z",
     "iopub.status.idle": "2025-08-19T19:05:28.519592Z",
     "shell.execute_reply": "2025-08-19T19:05:28.518248Z"
    },
    "papermill": {
     "duration": 0.030208,
     "end_time": "2025-08-19T19:05:28.521588",
     "exception": false,
     "start_time": "2025-08-19T19:05:28.491380",
     "status": "completed"
    },
    "tags": []
   },
   "outputs": [
    {
     "name": "stdout",
     "output_type": "stream",
     "text": [
      "/dss/dsshome1/0C/ra93lal2/cma/CMA_Fairness_v2\n"
     ]
    },
    {
     "name": "stderr",
     "output_type": "stream",
     "text": [
      "/dss/dsshome1/0C/ra93lal2/.local/share/virtualenvs/CMA_Fairness_v2-3j10GkSs/lib/python3.10/site-packages/IPython/core/magics/osm.py:393: UserWarning: This is now an optional IPython functionality, using bookmarks requires you to install the `pickleshare` library.\n",
      "  bkms = self.shell.db.get('bookmarks', {})\n",
      "/dss/dsshome1/0C/ra93lal2/.local/share/virtualenvs/CMA_Fairness_v2-3j10GkSs/lib/python3.10/site-packages/IPython/core/magics/osm.py:417: UserWarning: This is now an optional IPython functionality, setting dhist requires you to install the `pickleshare` library.\n",
      "  self.shell.db['dhist'] = compress_dhist(dhist)[-100:]\n"
     ]
    }
   ],
   "source": [
    "%cd ~/cma/CMA_Fairness_v2"
   ]
  },
  {
   "cell_type": "markdown",
   "id": "9d235661",
   "metadata": {
    "papermill": {
     "duration": 0.010014,
     "end_time": "2025-08-19T19:05:28.546167",
     "exception": false,
     "start_time": "2025-08-19T19:05:28.536153",
     "status": "completed"
    },
    "tags": []
   },
   "source": [
    "The following cell holds the definition of our parameters, these values can be overriden by rendering the with e.g. the following command:\n",
    "\n",
    "papermill -p alpha 0.2 -p ratio 0.3 universe_analysis.ipynb output/test_run.ipynb"
   ]
  },
  {
   "cell_type": "code",
   "execution_count": 2,
   "id": "4a789d8e",
   "metadata": {
    "execution": {
     "iopub.execute_input": "2025-08-19T19:05:28.567308Z",
     "iopub.status.busy": "2025-08-19T19:05:28.566579Z",
     "iopub.status.idle": "2025-08-19T19:05:28.574163Z",
     "shell.execute_reply": "2025-08-19T19:05:28.572790Z"
    },
    "papermill": {
     "duration": 0.020097,
     "end_time": "2025-08-19T19:05:28.575699",
     "exception": false,
     "start_time": "2025-08-19T19:05:28.555602",
     "status": "completed"
    },
    "tags": []
   },
   "outputs": [
    {
     "name": "stdout",
     "output_type": "stream",
     "text": [
      "Current working directory: /dss/dsshome1/0C/ra93lal2/cma/CMA_Fairness_v2\n"
     ]
    }
   ],
   "source": [
    "import os\n",
    "print(\"Current working directory:\", os.getcwd())"
   ]
  },
  {
   "cell_type": "code",
   "execution_count": 3,
   "id": "4132aaed",
   "metadata": {
    "execution": {
     "iopub.execute_input": "2025-08-19T19:05:28.597625Z",
     "iopub.status.busy": "2025-08-19T19:05:28.596918Z",
     "iopub.status.idle": "2025-08-19T19:05:28.606461Z",
     "shell.execute_reply": "2025-08-19T19:05:28.605104Z"
    },
    "papermill": {
     "duration": 0.022484,
     "end_time": "2025-08-19T19:05:28.608349",
     "exception": false,
     "start_time": "2025-08-19T19:05:28.585865",
     "status": "completed"
    },
    "tags": [
     "parameters"
    ]
   },
   "outputs": [],
   "source": [
    "run_no = 0\n",
    "universe_id = \"test\"\n",
    "universe = {\n",
    "    \"training_size\": \"5k\", # \"25k\", \"5k\", \"1k\"\n",
    "    \"training_year\": \"2012_14\", # \"2014\", \"2012_14\", \"2010_14\"\n",
    "    \"scale\": \"scale\", # \"scale\", \"do-not-scale\",\n",
    "    \"model\": \"elasticnet\", # \"logreg\", \"penalized_logreg\", \"rf\", \"gbm\", \"elasticnet\"\n",
    "    \"cutoff\": [\"quantile_0.15\", \"quantile_0.30\"],\n",
    "    \"exclude_features\": \"age\", # \"none\", \"nationality\", \"sex\", \"nationality-sex\", \"age\"\n",
    "    \"exclude_subgroups\": \"drop-non-german\", # \"keep-all\", \"drop-non-german\"\n",
    "    \"eval_fairness_grouping\": [\"majority-minority\", \"nationality-all\"]\n",
    "}\n",
    "\n",
    "output_dir=\"./output\"\n",
    "seed=0"
   ]
  },
  {
   "cell_type": "code",
   "execution_count": 4,
   "id": "838f9201",
   "metadata": {
    "execution": {
     "iopub.execute_input": "2025-08-19T19:05:28.632798Z",
     "iopub.status.busy": "2025-08-19T19:05:28.632074Z",
     "iopub.status.idle": "2025-08-19T19:05:28.649558Z",
     "shell.execute_reply": "2025-08-19T19:05:28.648505Z"
    },
    "papermill": {
     "duration": 0.030673,
     "end_time": "2025-08-19T19:05:28.651160",
     "exception": false,
     "start_time": "2025-08-19T19:05:28.620487",
     "status": "completed"
    },
    "tags": [
     "injected-parameters"
    ]
   },
   "outputs": [],
   "source": [
    "# Parameters\n",
    "universe_id = \"8d38959e441e44b2736a3d6a5e36e0ec\"\n",
    "run_no = \"3\"\n",
    "universe = \"{\\\"cutoff\\\": [\\\"quantile_0.1\\\", \\\"quantile_0.25\\\"], \\\"eval_fairness_grouping\\\": [\\\"majority-minority\\\", \\\"nationality-all\\\"], \\\"exclude_features\\\": \\\"nationality\\\", \\\"exclude_subgroups\\\": \\\"drop-non-german\\\", \\\"model\\\": \\\"penalized_logreg\\\", \\\"scale\\\": \\\"scale\\\", \\\"training_size\\\": \\\"1k\\\", \\\"training_year\\\": \\\"2010_14\\\"}\"\n",
    "output_dir = \"output\"\n",
    "seed = \"2023\"\n"
   ]
  },
  {
   "cell_type": "code",
   "execution_count": 5,
   "id": "a5d7941f",
   "metadata": {
    "execution": {
     "iopub.execute_input": "2025-08-19T19:05:28.685209Z",
     "iopub.status.busy": "2025-08-19T19:05:28.684743Z",
     "iopub.status.idle": "2025-08-19T19:05:28.689547Z",
     "shell.execute_reply": "2025-08-19T19:05:28.688656Z"
    },
    "papermill": {
     "duration": 0.03555,
     "end_time": "2025-08-19T19:05:28.699742",
     "exception": false,
     "start_time": "2025-08-19T19:05:28.664192",
     "status": "completed"
    },
    "tags": []
   },
   "outputs": [],
   "source": [
    "import json\n",
    "if isinstance(universe, str):\n",
    "    universe = json.loads(universe)"
   ]
  },
  {
   "cell_type": "code",
   "execution_count": 6,
   "id": "7076ccb1",
   "metadata": {
    "execution": {
     "iopub.execute_input": "2025-08-19T19:05:28.733042Z",
     "iopub.status.busy": "2025-08-19T19:05:28.732655Z",
     "iopub.status.idle": "2025-08-19T19:05:28.766714Z",
     "shell.execute_reply": "2025-08-19T19:05:28.765922Z"
    },
    "papermill": {
     "duration": 0.046438,
     "end_time": "2025-08-19T19:05:28.768307",
     "exception": false,
     "start_time": "2025-08-19T19:05:28.721869",
     "status": "completed"
    },
    "tags": []
   },
   "outputs": [],
   "source": [
    "# Auto-reload the custom package\n",
    "%load_ext autoreload\n",
    "%autoreload 1\n",
    "%aimport fairness_multiverse"
   ]
  },
  {
   "cell_type": "code",
   "execution_count": 7,
   "id": "94c8eb93",
   "metadata": {
    "execution": {
     "iopub.execute_input": "2025-08-19T19:05:28.790334Z",
     "iopub.status.busy": "2025-08-19T19:05:28.789184Z",
     "iopub.status.idle": "2025-08-19T19:05:30.367771Z",
     "shell.execute_reply": "2025-08-19T19:05:30.366434Z"
    },
    "papermill": {
     "duration": 1.591138,
     "end_time": "2025-08-19T19:05:30.369633",
     "exception": false,
     "start_time": "2025-08-19T19:05:28.778495",
     "status": "completed"
    },
    "tags": []
   },
   "outputs": [],
   "source": [
    "from fairness_multiverse.universe import UniverseAnalysis\n",
    "\n",
    "universe_analysis = UniverseAnalysis(\n",
    "    run_no = run_no,\n",
    "    universe_id = universe_id,\n",
    "    universe = universe,\n",
    "    output_dir=output_dir,\n",
    ")"
   ]
  },
  {
   "cell_type": "code",
   "execution_count": 8,
   "id": "2a6381cf",
   "metadata": {
    "execution": {
     "iopub.execute_input": "2025-08-19T19:05:30.395032Z",
     "iopub.status.busy": "2025-08-19T19:05:30.393833Z",
     "iopub.status.idle": "2025-08-19T19:05:30.401464Z",
     "shell.execute_reply": "2025-08-19T19:05:30.400881Z"
    },
    "papermill": {
     "duration": 0.02388,
     "end_time": "2025-08-19T19:05:30.403553",
     "exception": false,
     "start_time": "2025-08-19T19:05:30.379673",
     "status": "completed"
    },
    "tags": []
   },
   "outputs": [
    {
     "name": "stdout",
     "output_type": "stream",
     "text": [
      "Using Seed: 2023\n"
     ]
    }
   ],
   "source": [
    "import numpy as np\n",
    "parsed_seed = int(seed)\n",
    "np.random.seed(parsed_seed)\n",
    "print(f\"Using Seed: {parsed_seed}\")"
   ]
  },
  {
   "cell_type": "markdown",
   "id": "b6e958b4",
   "metadata": {
    "papermill": {
     "duration": 0.015337,
     "end_time": "2025-08-19T19:05:30.434742",
     "exception": false,
     "start_time": "2025-08-19T19:05:30.419405",
     "status": "completed"
    },
    "tags": []
   },
   "source": [
    "# Loading Data"
   ]
  },
  {
   "cell_type": "code",
   "execution_count": 9,
   "id": "98701482",
   "metadata": {
    "execution": {
     "iopub.execute_input": "2025-08-19T19:05:30.456101Z",
     "iopub.status.busy": "2025-08-19T19:05:30.455685Z",
     "iopub.status.idle": "2025-08-19T19:05:42.113039Z",
     "shell.execute_reply": "2025-08-19T19:05:42.111300Z"
    },
    "papermill": {
     "duration": 11.670184,
     "end_time": "2025-08-19T19:05:42.114703",
     "exception": false,
     "start_time": "2025-08-19T19:05:30.444519",
     "status": "completed"
    },
    "tags": []
   },
   "outputs": [
    {
     "name": "stdout",
     "output_type": "stream",
     "text": [
      "Loading SIAB data from cache: data/siab_cached.csv.gz\n"
     ]
    },
    {
     "name": "stdout",
     "output_type": "stream",
     "text": [
      "(643690, 164)\n"
     ]
    }
   ],
   "source": [
    "from pathlib import Path\n",
    "import pandas as pd\n",
    "\n",
    "# File paths\n",
    "raw_file = Path(\"data/raw/siab.csv\")\n",
    "cache_file = Path(\"data/siab_cached.csv.gz\")\n",
    "\n",
    "# Ensure cache directory exists\n",
    "cache_file.parent.mkdir(parents=True, exist_ok=True)\n",
    "\n",
    "# Load with simple caching\n",
    "if cache_file.exists():\n",
    "    print(f\"Loading SIAB data from cache: {cache_file}\")\n",
    "    siab = pd.read_csv(cache_file, compression='gzip')\n",
    "else:\n",
    "    print(f\"Cache not found. Reading raw SIAB data: {raw_file}\")\n",
    "    siab = pd.read_csv(raw_file)\n",
    "    siab.to_csv(cache_file, index=False, compression='gzip')\n",
    "    print(f\"Cached SIAB data to: {cache_file}\")\n",
    "\n",
    "print(siab.shape)"
   ]
  },
  {
   "cell_type": "code",
   "execution_count": 10,
   "id": "058d2abb",
   "metadata": {
    "execution": {
     "iopub.execute_input": "2025-08-19T19:05:42.141257Z",
     "iopub.status.busy": "2025-08-19T19:05:42.140086Z",
     "iopub.status.idle": "2025-08-19T19:05:42.412325Z",
     "shell.execute_reply": "2025-08-19T19:05:42.411550Z"
    },
    "papermill": {
     "duration": 0.289014,
     "end_time": "2025-08-19T19:05:42.416745",
     "exception": false,
     "start_time": "2025-08-19T19:05:42.127731",
     "status": "completed"
    },
    "tags": []
   },
   "outputs": [
    {
     "data": {
      "text/html": [
       "<div>\n",
       "<style scoped>\n",
       "    .dataframe tbody tr th:only-of-type {\n",
       "        vertical-align: middle;\n",
       "    }\n",
       "\n",
       "    .dataframe tbody tr th {\n",
       "        vertical-align: top;\n",
       "    }\n",
       "\n",
       "    .dataframe thead th {\n",
       "        text-align: right;\n",
       "    }\n",
       "</style>\n",
       "<table border=\"1\" class=\"dataframe\">\n",
       "  <thead>\n",
       "    <tr style=\"text-align: right;\">\n",
       "      <th></th>\n",
       "      <th>persnr</th>\n",
       "      <th>year</th>\n",
       "      <th>nrEntry</th>\n",
       "      <th>ltue</th>\n",
       "      <th>employed_before</th>\n",
       "      <th>receipt_leh_before</th>\n",
       "      <th>receipt_lhg_before</th>\n",
       "      <th>se_before</th>\n",
       "      <th>ASU_notue_seeking_before</th>\n",
       "      <th>ASU_other_before</th>\n",
       "      <th>...</th>\n",
       "      <th>minijob_tot_dur_byage</th>\n",
       "      <th>ft_tot_dur_byage</th>\n",
       "      <th>befrist_tot_dur_byage</th>\n",
       "      <th>leih_tot_dur_byage</th>\n",
       "      <th>LHG_tot_dur_byage</th>\n",
       "      <th>LEH_tot_dur_byage</th>\n",
       "      <th>almp_tot_dur_byage</th>\n",
       "      <th>almp_aw_tot_dur_byage</th>\n",
       "      <th>se_tot_dur_byage</th>\n",
       "      <th>seeking1_tot_dur_byage</th>\n",
       "    </tr>\n",
       "  </thead>\n",
       "  <tbody>\n",
       "    <tr>\n",
       "      <th>0</th>\n",
       "      <td>7</td>\n",
       "      <td>2015</td>\n",
       "      <td>1</td>\n",
       "      <td>0</td>\n",
       "      <td>1</td>\n",
       "      <td>0</td>\n",
       "      <td>0</td>\n",
       "      <td>0</td>\n",
       "      <td>1</td>\n",
       "      <td>0</td>\n",
       "      <td>...</td>\n",
       "      <td>0.000000</td>\n",
       "      <td>0.000000</td>\n",
       "      <td>15.043478</td>\n",
       "      <td>0.000000</td>\n",
       "      <td>0.000000</td>\n",
       "      <td>0.000000</td>\n",
       "      <td>0.000000</td>\n",
       "      <td>0.000000</td>\n",
       "      <td>0.000000</td>\n",
       "      <td>0.000000</td>\n",
       "    </tr>\n",
       "    <tr>\n",
       "      <th>1</th>\n",
       "      <td>18</td>\n",
       "      <td>2010</td>\n",
       "      <td>1</td>\n",
       "      <td>1</td>\n",
       "      <td>0</td>\n",
       "      <td>0</td>\n",
       "      <td>0</td>\n",
       "      <td>0</td>\n",
       "      <td>0</td>\n",
       "      <td>0</td>\n",
       "      <td>...</td>\n",
       "      <td>0.000000</td>\n",
       "      <td>0.000000</td>\n",
       "      <td>0.000000</td>\n",
       "      <td>0.000000</td>\n",
       "      <td>0.000000</td>\n",
       "      <td>0.000000</td>\n",
       "      <td>0.000000</td>\n",
       "      <td>0.000000</td>\n",
       "      <td>0.000000</td>\n",
       "      <td>0.000000</td>\n",
       "    </tr>\n",
       "    <tr>\n",
       "      <th>2</th>\n",
       "      <td>18</td>\n",
       "      <td>2011</td>\n",
       "      <td>2</td>\n",
       "      <td>0</td>\n",
       "      <td>1</td>\n",
       "      <td>0</td>\n",
       "      <td>1</td>\n",
       "      <td>0</td>\n",
       "      <td>1</td>\n",
       "      <td>0</td>\n",
       "      <td>...</td>\n",
       "      <td>2.714286</td>\n",
       "      <td>2.714286</td>\n",
       "      <td>0.000000</td>\n",
       "      <td>0.000000</td>\n",
       "      <td>10.775510</td>\n",
       "      <td>0.000000</td>\n",
       "      <td>8.367347</td>\n",
       "      <td>0.000000</td>\n",
       "      <td>0.000000</td>\n",
       "      <td>9.836735</td>\n",
       "    </tr>\n",
       "    <tr>\n",
       "      <th>3</th>\n",
       "      <td>18</td>\n",
       "      <td>2012</td>\n",
       "      <td>3</td>\n",
       "      <td>0</td>\n",
       "      <td>1</td>\n",
       "      <td>0</td>\n",
       "      <td>1</td>\n",
       "      <td>0</td>\n",
       "      <td>1</td>\n",
       "      <td>0</td>\n",
       "      <td>...</td>\n",
       "      <td>4.200000</td>\n",
       "      <td>4.200000</td>\n",
       "      <td>0.000000</td>\n",
       "      <td>0.000000</td>\n",
       "      <td>12.100000</td>\n",
       "      <td>0.000000</td>\n",
       "      <td>9.400000</td>\n",
       "      <td>0.000000</td>\n",
       "      <td>0.000000</td>\n",
       "      <td>9.960000</td>\n",
       "    </tr>\n",
       "    <tr>\n",
       "      <th>4</th>\n",
       "      <td>18</td>\n",
       "      <td>2012</td>\n",
       "      <td>4</td>\n",
       "      <td>0</td>\n",
       "      <td>1</td>\n",
       "      <td>0</td>\n",
       "      <td>1</td>\n",
       "      <td>0</td>\n",
       "      <td>1</td>\n",
       "      <td>0</td>\n",
       "      <td>...</td>\n",
       "      <td>5.460000</td>\n",
       "      <td>5.460000</td>\n",
       "      <td>0.000000</td>\n",
       "      <td>0.000000</td>\n",
       "      <td>13.360000</td>\n",
       "      <td>0.000000</td>\n",
       "      <td>10.320000</td>\n",
       "      <td>0.000000</td>\n",
       "      <td>0.000000</td>\n",
       "      <td>10.280000</td>\n",
       "    </tr>\n",
       "    <tr>\n",
       "      <th>...</th>\n",
       "      <td>...</td>\n",
       "      <td>...</td>\n",
       "      <td>...</td>\n",
       "      <td>...</td>\n",
       "      <td>...</td>\n",
       "      <td>...</td>\n",
       "      <td>...</td>\n",
       "      <td>...</td>\n",
       "      <td>...</td>\n",
       "      <td>...</td>\n",
       "      <td>...</td>\n",
       "      <td>...</td>\n",
       "      <td>...</td>\n",
       "      <td>...</td>\n",
       "      <td>...</td>\n",
       "      <td>...</td>\n",
       "      <td>...</td>\n",
       "      <td>...</td>\n",
       "      <td>...</td>\n",
       "      <td>...</td>\n",
       "      <td>...</td>\n",
       "    </tr>\n",
       "    <tr>\n",
       "      <th>643685</th>\n",
       "      <td>1827860</td>\n",
       "      <td>2013</td>\n",
       "      <td>1</td>\n",
       "      <td>0</td>\n",
       "      <td>0</td>\n",
       "      <td>0</td>\n",
       "      <td>1</td>\n",
       "      <td>0</td>\n",
       "      <td>0</td>\n",
       "      <td>1</td>\n",
       "      <td>...</td>\n",
       "      <td>0.000000</td>\n",
       "      <td>0.000000</td>\n",
       "      <td>0.000000</td>\n",
       "      <td>0.000000</td>\n",
       "      <td>0.612903</td>\n",
       "      <td>0.000000</td>\n",
       "      <td>0.000000</td>\n",
       "      <td>0.000000</td>\n",
       "      <td>0.000000</td>\n",
       "      <td>0.000000</td>\n",
       "    </tr>\n",
       "    <tr>\n",
       "      <th>643686</th>\n",
       "      <td>1827860</td>\n",
       "      <td>2015</td>\n",
       "      <td>2</td>\n",
       "      <td>1</td>\n",
       "      <td>0</td>\n",
       "      <td>0</td>\n",
       "      <td>1</td>\n",
       "      <td>0</td>\n",
       "      <td>1</td>\n",
       "      <td>0</td>\n",
       "      <td>...</td>\n",
       "      <td>0.000000</td>\n",
       "      <td>0.000000</td>\n",
       "      <td>0.212121</td>\n",
       "      <td>0.212121</td>\n",
       "      <td>17.363636</td>\n",
       "      <td>0.000000</td>\n",
       "      <td>8.909091</td>\n",
       "      <td>0.000000</td>\n",
       "      <td>0.000000</td>\n",
       "      <td>7.121212</td>\n",
       "    </tr>\n",
       "    <tr>\n",
       "      <th>643687</th>\n",
       "      <td>1827860</td>\n",
       "      <td>2016</td>\n",
       "      <td>3</td>\n",
       "      <td>1</td>\n",
       "      <td>0</td>\n",
       "      <td>0</td>\n",
       "      <td>1</td>\n",
       "      <td>1</td>\n",
       "      <td>0</td>\n",
       "      <td>1</td>\n",
       "      <td>...</td>\n",
       "      <td>0.000000</td>\n",
       "      <td>0.000000</td>\n",
       "      <td>0.294118</td>\n",
       "      <td>0.205882</td>\n",
       "      <td>34.705882</td>\n",
       "      <td>0.000000</td>\n",
       "      <td>10.352941</td>\n",
       "      <td>1.705882</td>\n",
       "      <td>1.705882</td>\n",
       "      <td>23.911765</td>\n",
       "    </tr>\n",
       "    <tr>\n",
       "      <th>643688</th>\n",
       "      <td>1827869</td>\n",
       "      <td>2013</td>\n",
       "      <td>1</td>\n",
       "      <td>1</td>\n",
       "      <td>1</td>\n",
       "      <td>0</td>\n",
       "      <td>0</td>\n",
       "      <td>0</td>\n",
       "      <td>1</td>\n",
       "      <td>0</td>\n",
       "      <td>...</td>\n",
       "      <td>0.000000</td>\n",
       "      <td>0.000000</td>\n",
       "      <td>0.000000</td>\n",
       "      <td>0.000000</td>\n",
       "      <td>0.000000</td>\n",
       "      <td>0.525424</td>\n",
       "      <td>0.000000</td>\n",
       "      <td>0.000000</td>\n",
       "      <td>0.000000</td>\n",
       "      <td>0.000000</td>\n",
       "    </tr>\n",
       "    <tr>\n",
       "      <th>643689</th>\n",
       "      <td>1827869</td>\n",
       "      <td>2014</td>\n",
       "      <td>2</td>\n",
       "      <td>0</td>\n",
       "      <td>0</td>\n",
       "      <td>1</td>\n",
       "      <td>0</td>\n",
       "      <td>0</td>\n",
       "      <td>1</td>\n",
       "      <td>0</td>\n",
       "      <td>...</td>\n",
       "      <td>0.000000</td>\n",
       "      <td>0.666667</td>\n",
       "      <td>0.666667</td>\n",
       "      <td>0.000000</td>\n",
       "      <td>0.000000</td>\n",
       "      <td>8.950000</td>\n",
       "      <td>1.033333</td>\n",
       "      <td>0.083333</td>\n",
       "      <td>0.083333</td>\n",
       "      <td>8.133333</td>\n",
       "    </tr>\n",
       "  </tbody>\n",
       "</table>\n",
       "<p>643690 rows × 164 columns</p>\n",
       "</div>"
      ],
      "text/plain": [
       "         persnr  year  nrEntry  ltue  employed_before  receipt_leh_before  \\\n",
       "0             7  2015        1     0                1                   0   \n",
       "1            18  2010        1     1                0                   0   \n",
       "2            18  2011        2     0                1                   0   \n",
       "3            18  2012        3     0                1                   0   \n",
       "4            18  2012        4     0                1                   0   \n",
       "...         ...   ...      ...   ...              ...                 ...   \n",
       "643685  1827860  2013        1     0                0                   0   \n",
       "643686  1827860  2015        2     1                0                   0   \n",
       "643687  1827860  2016        3     1                0                   0   \n",
       "643688  1827869  2013        1     1                1                   0   \n",
       "643689  1827869  2014        2     0                0                   1   \n",
       "\n",
       "        receipt_lhg_before  se_before  ASU_notue_seeking_before  \\\n",
       "0                        0          0                         1   \n",
       "1                        0          0                         0   \n",
       "2                        1          0                         1   \n",
       "3                        1          0                         1   \n",
       "4                        1          0                         1   \n",
       "...                    ...        ...                       ...   \n",
       "643685                   1          0                         0   \n",
       "643686                   1          0                         1   \n",
       "643687                   1          1                         0   \n",
       "643688                   0          0                         1   \n",
       "643689                   0          0                         1   \n",
       "\n",
       "        ASU_other_before  ...  minijob_tot_dur_byage  ft_tot_dur_byage  \\\n",
       "0                      0  ...               0.000000          0.000000   \n",
       "1                      0  ...               0.000000          0.000000   \n",
       "2                      0  ...               2.714286          2.714286   \n",
       "3                      0  ...               4.200000          4.200000   \n",
       "4                      0  ...               5.460000          5.460000   \n",
       "...                  ...  ...                    ...               ...   \n",
       "643685                 1  ...               0.000000          0.000000   \n",
       "643686                 0  ...               0.000000          0.000000   \n",
       "643687                 1  ...               0.000000          0.000000   \n",
       "643688                 0  ...               0.000000          0.000000   \n",
       "643689                 0  ...               0.000000          0.666667   \n",
       "\n",
       "        befrist_tot_dur_byage  leih_tot_dur_byage  LHG_tot_dur_byage  \\\n",
       "0                   15.043478            0.000000           0.000000   \n",
       "1                    0.000000            0.000000           0.000000   \n",
       "2                    0.000000            0.000000          10.775510   \n",
       "3                    0.000000            0.000000          12.100000   \n",
       "4                    0.000000            0.000000          13.360000   \n",
       "...                       ...                 ...                ...   \n",
       "643685               0.000000            0.000000           0.612903   \n",
       "643686               0.212121            0.212121          17.363636   \n",
       "643687               0.294118            0.205882          34.705882   \n",
       "643688               0.000000            0.000000           0.000000   \n",
       "643689               0.666667            0.000000           0.000000   \n",
       "\n",
       "        LEH_tot_dur_byage  almp_tot_dur_byage  almp_aw_tot_dur_byage  \\\n",
       "0                0.000000            0.000000               0.000000   \n",
       "1                0.000000            0.000000               0.000000   \n",
       "2                0.000000            8.367347               0.000000   \n",
       "3                0.000000            9.400000               0.000000   \n",
       "4                0.000000           10.320000               0.000000   \n",
       "...                   ...                 ...                    ...   \n",
       "643685           0.000000            0.000000               0.000000   \n",
       "643686           0.000000            8.909091               0.000000   \n",
       "643687           0.000000           10.352941               1.705882   \n",
       "643688           0.525424            0.000000               0.000000   \n",
       "643689           8.950000            1.033333               0.083333   \n",
       "\n",
       "        se_tot_dur_byage  seeking1_tot_dur_byage  \n",
       "0               0.000000                0.000000  \n",
       "1               0.000000                0.000000  \n",
       "2               0.000000                9.836735  \n",
       "3               0.000000                9.960000  \n",
       "4               0.000000               10.280000  \n",
       "...                  ...                     ...  \n",
       "643685          0.000000                0.000000  \n",
       "643686          0.000000                7.121212  \n",
       "643687          1.705882               23.911765  \n",
       "643688          0.000000                0.000000  \n",
       "643689          0.083333                8.133333  \n",
       "\n",
       "[643690 rows x 164 columns]"
      ]
     },
     "execution_count": 10,
     "metadata": {},
     "output_type": "execute_result"
    }
   ],
   "source": [
    "siab"
   ]
  },
  {
   "cell_type": "markdown",
   "id": "1f87e805",
   "metadata": {
    "papermill": {
     "duration": 0.012494,
     "end_time": "2025-08-19T19:05:42.449775",
     "exception": false,
     "start_time": "2025-08-19T19:05:42.437281",
     "status": "completed"
    },
    "tags": []
   },
   "source": [
    "# Splitting Data and Setting Training Data Size"
   ]
  },
  {
   "cell_type": "code",
   "execution_count": 11,
   "id": "910ae358",
   "metadata": {
    "execution": {
     "iopub.execute_input": "2025-08-19T19:05:42.487177Z",
     "iopub.status.busy": "2025-08-19T19:05:42.486719Z",
     "iopub.status.idle": "2025-08-19T19:05:43.606208Z",
     "shell.execute_reply": "2025-08-19T19:05:43.604427Z"
    },
    "papermill": {
     "duration": 1.135881,
     "end_time": "2025-08-19T19:05:43.607965",
     "exception": false,
     "start_time": "2025-08-19T19:05:42.472084",
     "status": "completed"
    },
    "tags": []
   },
   "outputs": [],
   "source": [
    "from fairness_multiverse.universe import sample_by_year_size\n",
    "\n",
    "siab_train = sample_by_year_size(siab,\n",
    "                               training_year=universe[\"training_year\"],\n",
    "                               training_size=universe[\"training_size\"])"
   ]
  },
  {
   "cell_type": "code",
   "execution_count": 12,
   "id": "919c8ff5",
   "metadata": {
    "execution": {
     "iopub.execute_input": "2025-08-19T19:05:43.634148Z",
     "iopub.status.busy": "2025-08-19T19:05:43.632794Z",
     "iopub.status.idle": "2025-08-19T19:05:43.648908Z",
     "shell.execute_reply": "2025-08-19T19:05:43.647315Z"
    },
    "papermill": {
     "duration": 0.031671,
     "end_time": "2025-08-19T19:05:43.650772",
     "exception": false,
     "start_time": "2025-08-19T19:05:43.619101",
     "status": "completed"
    },
    "tags": []
   },
   "outputs": [
    {
     "data": {
      "text/plain": [
       "(1000, 164)"
      ]
     },
     "execution_count": 12,
     "metadata": {},
     "output_type": "execute_result"
    }
   ],
   "source": [
    "siab_train.shape"
   ]
  },
  {
   "cell_type": "code",
   "execution_count": 13,
   "id": "feb13bf4",
   "metadata": {
    "execution": {
     "iopub.execute_input": "2025-08-19T19:05:43.682548Z",
     "iopub.status.busy": "2025-08-19T19:05:43.681482Z",
     "iopub.status.idle": "2025-08-19T19:05:43.703440Z",
     "shell.execute_reply": "2025-08-19T19:05:43.699983Z"
    },
    "papermill": {
     "duration": 0.037751,
     "end_time": "2025-08-19T19:05:43.705583",
     "exception": false,
     "start_time": "2025-08-19T19:05:43.667832",
     "status": "completed"
    },
    "tags": []
   },
   "outputs": [
    {
     "data": {
      "text/plain": [
       "year\n",
       "2010    200\n",
       "2011    200\n",
       "2012    200\n",
       "2013    200\n",
       "2014    200\n",
       "dtype: int64"
      ]
     },
     "metadata": {},
     "output_type": "display_data"
    }
   ],
   "source": [
    "display(siab_train.groupby(\"year\").size())"
   ]
  },
  {
   "cell_type": "code",
   "execution_count": 14,
   "id": "0997782f",
   "metadata": {
    "execution": {
     "iopub.execute_input": "2025-08-19T19:05:43.739121Z",
     "iopub.status.busy": "2025-08-19T19:05:43.738706Z",
     "iopub.status.idle": "2025-08-19T19:05:44.024308Z",
     "shell.execute_reply": "2025-08-19T19:05:44.023173Z"
    },
    "papermill": {
     "duration": 0.301225,
     "end_time": "2025-08-19T19:05:44.026229",
     "exception": false,
     "start_time": "2025-08-19T19:05:43.725004",
     "status": "completed"
    },
    "tags": []
   },
   "outputs": [],
   "source": [
    "#siab_train = siab_s[siab_s.year < 2015]\n",
    "siab_calib = siab[siab.year == 2015]\n",
    "siab_test = siab[siab.year == 2016]"
   ]
  },
  {
   "cell_type": "code",
   "execution_count": 15,
   "id": "2c1e4012",
   "metadata": {
    "execution": {
     "iopub.execute_input": "2025-08-19T19:05:44.049557Z",
     "iopub.status.busy": "2025-08-19T19:05:44.048808Z",
     "iopub.status.idle": "2025-08-19T19:05:44.066891Z",
     "shell.execute_reply": "2025-08-19T19:05:44.065553Z"
    },
    "papermill": {
     "duration": 0.031448,
     "end_time": "2025-08-19T19:05:44.068672",
     "exception": false,
     "start_time": "2025-08-19T19:05:44.037224",
     "status": "completed"
    },
    "tags": []
   },
   "outputs": [],
   "source": [
    "#siab_calib.shape"
   ]
  },
  {
   "cell_type": "code",
   "execution_count": 16,
   "id": "f66b54ca",
   "metadata": {
    "execution": {
     "iopub.execute_input": "2025-08-19T19:05:44.107724Z",
     "iopub.status.busy": "2025-08-19T19:05:44.107344Z",
     "iopub.status.idle": "2025-08-19T19:05:44.111933Z",
     "shell.execute_reply": "2025-08-19T19:05:44.111116Z"
    },
    "papermill": {
     "duration": 0.028342,
     "end_time": "2025-08-19T19:05:44.113355",
     "exception": false,
     "start_time": "2025-08-19T19:05:44.085013",
     "status": "completed"
    },
    "tags": []
   },
   "outputs": [],
   "source": [
    "#siab_test.shape"
   ]
  },
  {
   "cell_type": "code",
   "execution_count": 17,
   "id": "27e4384d",
   "metadata": {
    "execution": {
     "iopub.execute_input": "2025-08-19T19:05:44.135686Z",
     "iopub.status.busy": "2025-08-19T19:05:44.135304Z",
     "iopub.status.idle": "2025-08-19T19:05:44.142315Z",
     "shell.execute_reply": "2025-08-19T19:05:44.141293Z"
    },
    "papermill": {
     "duration": 0.019673,
     "end_time": "2025-08-19T19:05:44.143578",
     "exception": false,
     "start_time": "2025-08-19T19:05:44.123905",
     "status": "completed"
    },
    "tags": []
   },
   "outputs": [],
   "source": [
    "X_train = siab_train.iloc[:,4:164]\n",
    "y_train = siab_train.iloc[:, [3]]"
   ]
  },
  {
   "cell_type": "code",
   "execution_count": 18,
   "id": "08ee8389",
   "metadata": {
    "execution": {
     "iopub.execute_input": "2025-08-19T19:05:44.168205Z",
     "iopub.status.busy": "2025-08-19T19:05:44.167791Z",
     "iopub.status.idle": "2025-08-19T19:05:44.226155Z",
     "shell.execute_reply": "2025-08-19T19:05:44.225304Z"
    },
    "papermill": {
     "duration": 0.071166,
     "end_time": "2025-08-19T19:05:44.227652",
     "exception": false,
     "start_time": "2025-08-19T19:05:44.156486",
     "status": "completed"
    },
    "tags": []
   },
   "outputs": [],
   "source": [
    "X_calib = siab_calib.iloc[:,4:164]\n",
    "y_calib = siab_calib.iloc[:, [3]]"
   ]
  },
  {
   "cell_type": "code",
   "execution_count": 19,
   "id": "b7ff42e0",
   "metadata": {
    "execution": {
     "iopub.execute_input": "2025-08-19T19:05:44.258614Z",
     "iopub.status.busy": "2025-08-19T19:05:44.257479Z",
     "iopub.status.idle": "2025-08-19T19:05:44.325076Z",
     "shell.execute_reply": "2025-08-19T19:05:44.322749Z"
    },
    "papermill": {
     "duration": 0.084395,
     "end_time": "2025-08-19T19:05:44.328272",
     "exception": false,
     "start_time": "2025-08-19T19:05:44.243877",
     "status": "completed"
    },
    "tags": []
   },
   "outputs": [],
   "source": [
    "X_test = siab_test.iloc[:,4:164]\n",
    "y_true = siab_test.iloc[:, [3]]"
   ]
  },
  {
   "cell_type": "code",
   "execution_count": 20,
   "id": "0275101e",
   "metadata": {
    "execution": {
     "iopub.execute_input": "2025-08-19T19:05:44.374519Z",
     "iopub.status.busy": "2025-08-19T19:05:44.373153Z",
     "iopub.status.idle": "2025-08-19T19:05:44.501948Z",
     "shell.execute_reply": "2025-08-19T19:05:44.501036Z"
    },
    "papermill": {
     "duration": 0.145769,
     "end_time": "2025-08-19T19:05:44.504985",
     "exception": false,
     "start_time": "2025-08-19T19:05:44.359216",
     "status": "completed"
    },
    "tags": []
   },
   "outputs": [],
   "source": [
    "# Auxiliary data needed downstream in the pipeline\n",
    "\n",
    "org_train = X_train.copy()\n",
    "org_test = X_test.copy()\n",
    "org_calib = X_calib.copy()"
   ]
  },
  {
   "cell_type": "markdown",
   "id": "b461e618",
   "metadata": {
    "papermill": {
     "duration": 0.011748,
     "end_time": "2025-08-19T19:05:44.540712",
     "exception": false,
     "start_time": "2025-08-19T19:05:44.528964",
     "status": "completed"
    },
    "tags": []
   },
   "source": [
    "# Preprocessing Data"
   ]
  },
  {
   "cell_type": "code",
   "execution_count": 21,
   "id": "78e74c4b",
   "metadata": {
    "execution": {
     "iopub.execute_input": "2025-08-19T19:05:44.564668Z",
     "iopub.status.busy": "2025-08-19T19:05:44.563879Z",
     "iopub.status.idle": "2025-08-19T19:05:44.573352Z",
     "shell.execute_reply": "2025-08-19T19:05:44.572025Z"
    },
    "papermill": {
     "duration": 0.023923,
     "end_time": "2025-08-19T19:05:44.574913",
     "exception": false,
     "start_time": "2025-08-19T19:05:44.550990",
     "status": "completed"
    },
    "tags": []
   },
   "outputs": [],
   "source": [
    "# EXCLUDE PROTECTED FEATURES\n",
    "# --------------------------\n",
    "\n",
    "excluded_features = universe[\"exclude_features\"].split(\"-\")\n",
    "excluded_features_dictionary = {\n",
    "    \"nationality\": [\"maxdeutsch1\", \"maxdeutsch.Missing.\"],\n",
    "    \"sex\": [\"frau1\"],\n",
    "    \"age\": [\"age\"],\n",
    "}"
   ]
  },
  {
   "cell_type": "code",
   "execution_count": 22,
   "id": "f8e63555",
   "metadata": {
    "execution": {
     "iopub.execute_input": "2025-08-19T19:05:44.601888Z",
     "iopub.status.busy": "2025-08-19T19:05:44.600718Z",
     "iopub.status.idle": "2025-08-19T19:05:44.609045Z",
     "shell.execute_reply": "2025-08-19T19:05:44.607798Z"
    },
    "papermill": {
     "duration": 0.023701,
     "end_time": "2025-08-19T19:05:44.611731",
     "exception": false,
     "start_time": "2025-08-19T19:05:44.588030",
     "status": "completed"
    },
    "tags": []
   },
   "outputs": [],
   "source": [
    "excluded_features_columns = [\n",
    "    excluded_features_dictionary[f] for f in excluded_features if len(f) > 0 and f != \"none\"\n",
    "]"
   ]
  },
  {
   "cell_type": "code",
   "execution_count": 23,
   "id": "da781f7c",
   "metadata": {
    "execution": {
     "iopub.execute_input": "2025-08-19T19:05:44.650634Z",
     "iopub.status.busy": "2025-08-19T19:05:44.649443Z",
     "iopub.status.idle": "2025-08-19T19:05:44.657588Z",
     "shell.execute_reply": "2025-08-19T19:05:44.656310Z"
    },
    "papermill": {
     "duration": 0.023949,
     "end_time": "2025-08-19T19:05:44.659016",
     "exception": false,
     "start_time": "2025-08-19T19:05:44.635067",
     "status": "completed"
    },
    "tags": []
   },
   "outputs": [],
   "source": [
    "from fairness_multiverse.universe import flatten_once\n",
    "\n",
    "excluded_features_columns = flatten_once(excluded_features_columns)"
   ]
  },
  {
   "cell_type": "code",
   "execution_count": 24,
   "id": "37fef0f0",
   "metadata": {
    "execution": {
     "iopub.execute_input": "2025-08-19T19:05:44.689524Z",
     "iopub.status.busy": "2025-08-19T19:05:44.688332Z",
     "iopub.status.idle": "2025-08-19T19:05:44.703969Z",
     "shell.execute_reply": "2025-08-19T19:05:44.702968Z"
    },
    "papermill": {
     "duration": 0.031813,
     "end_time": "2025-08-19T19:05:44.705895",
     "exception": false,
     "start_time": "2025-08-19T19:05:44.674082",
     "status": "completed"
    },
    "tags": []
   },
   "outputs": [
    {
     "name": "stdout",
     "output_type": "stream",
     "text": [
      "Dropping features: ['maxdeutsch1', 'maxdeutsch.Missing.']\n"
     ]
    }
   ],
   "source": [
    "if len(excluded_features_columns) > 0:\n",
    "    print(f\"Dropping features: {excluded_features_columns}\")\n",
    "    X_train.drop(excluded_features_columns, axis=1, inplace=True)"
   ]
  },
  {
   "cell_type": "code",
   "execution_count": 25,
   "id": "d029e3e9",
   "metadata": {
    "execution": {
     "iopub.execute_input": "2025-08-19T19:05:44.735426Z",
     "iopub.status.busy": "2025-08-19T19:05:44.734288Z",
     "iopub.status.idle": "2025-08-19T19:05:44.807872Z",
     "shell.execute_reply": "2025-08-19T19:05:44.807105Z"
    },
    "papermill": {
     "duration": 0.088282,
     "end_time": "2025-08-19T19:05:44.809661",
     "exception": false,
     "start_time": "2025-08-19T19:05:44.721379",
     "status": "completed"
    },
    "tags": []
   },
   "outputs": [
    {
     "name": "stdout",
     "output_type": "stream",
     "text": [
      "Dropping features: ['maxdeutsch1', 'maxdeutsch.Missing.']\n"
     ]
    }
   ],
   "source": [
    "if len(excluded_features_columns) > 0:\n",
    "    print(f\"Dropping features: {excluded_features_columns}\")\n",
    "    X_test.drop(excluded_features_columns, axis=1, inplace=True)"
   ]
  },
  {
   "cell_type": "code",
   "execution_count": 26,
   "id": "01d571f0",
   "metadata": {
    "execution": {
     "iopub.execute_input": "2025-08-19T19:05:44.838466Z",
     "iopub.status.busy": "2025-08-19T19:05:44.837631Z",
     "iopub.status.idle": "2025-08-19T19:05:44.891332Z",
     "shell.execute_reply": "2025-08-19T19:05:44.890445Z"
    },
    "papermill": {
     "duration": 0.069085,
     "end_time": "2025-08-19T19:05:44.894246",
     "exception": false,
     "start_time": "2025-08-19T19:05:44.825161",
     "status": "completed"
    },
    "tags": []
   },
   "outputs": [
    {
     "name": "stdout",
     "output_type": "stream",
     "text": [
      "Dropping features: ['maxdeutsch1', 'maxdeutsch.Missing.']\n"
     ]
    }
   ],
   "source": [
    "if len(excluded_features_columns) > 0:\n",
    "    print(f\"Dropping features: {excluded_features_columns}\")\n",
    "    X_calib.drop(excluded_features_columns, axis=1, inplace=True)"
   ]
  },
  {
   "cell_type": "code",
   "execution_count": 27,
   "id": "3037356e",
   "metadata": {
    "execution": {
     "iopub.execute_input": "2025-08-19T19:05:44.935320Z",
     "iopub.status.busy": "2025-08-19T19:05:44.934113Z",
     "iopub.status.idle": "2025-08-19T19:05:44.941971Z",
     "shell.execute_reply": "2025-08-19T19:05:44.940428Z"
    },
    "papermill": {
     "duration": 0.02448,
     "end_time": "2025-08-19T19:05:44.943585",
     "exception": false,
     "start_time": "2025-08-19T19:05:44.919105",
     "status": "completed"
    },
    "tags": []
   },
   "outputs": [],
   "source": [
    "# EXCLUDE CERTAIN SUBGROUPS\n",
    "# -------------------------\n",
    "\n",
    "mode = universe.get(\"exclude_subgroups\", \"keep-all\") # Defaults to \"keep-all\" if the key is missing."
   ]
  },
  {
   "cell_type": "code",
   "execution_count": 28,
   "id": "9d1e63fd",
   "metadata": {
    "execution": {
     "iopub.execute_input": "2025-08-19T19:05:44.976024Z",
     "iopub.status.busy": "2025-08-19T19:05:44.971369Z",
     "iopub.status.idle": "2025-08-19T19:05:44.986753Z",
     "shell.execute_reply": "2025-08-19T19:05:44.985747Z"
    },
    "papermill": {
     "duration": 0.030851,
     "end_time": "2025-08-19T19:05:44.988694",
     "exception": false,
     "start_time": "2025-08-19T19:05:44.957843",
     "status": "completed"
    },
    "tags": []
   },
   "outputs": [],
   "source": [
    "if mode == \"keep-all\":\n",
    "    keep_mask = pd.Series(True, index=org_train.index)\n",
    "\n",
    "elif mode == \"drop-non-german\":\n",
    "    keep_mask = (org_train[\"maxdeutsch1\"] == 1) & (org_train[\"maxdeutsch.Missing.\"] == 0)\n",
    "\n",
    "else:\n",
    "    raise ValueError(f\"Unsupported mode for exclude_subgroups: {mode}\")"
   ]
  },
  {
   "cell_type": "code",
   "execution_count": 29,
   "id": "d3b65474",
   "metadata": {
    "execution": {
     "iopub.execute_input": "2025-08-19T19:05:45.020288Z",
     "iopub.status.busy": "2025-08-19T19:05:45.019119Z",
     "iopub.status.idle": "2025-08-19T19:05:45.039728Z",
     "shell.execute_reply": "2025-08-19T19:05:45.038693Z"
    },
    "papermill": {
     "duration": 0.036311,
     "end_time": "2025-08-19T19:05:45.041698",
     "exception": false,
     "start_time": "2025-08-19T19:05:45.005387",
     "status": "completed"
    },
    "tags": []
   },
   "outputs": [
    {
     "name": "stdout",
     "output_type": "stream",
     "text": [
      "Dropping 131 rows (13.10%) where mode='drop-non-german'\n"
     ]
    }
   ],
   "source": [
    "n_drop = (~keep_mask).sum() # Calculates how many rows are set to be dropped\n",
    "if n_drop > 0:\n",
    "    pct = n_drop / len(keep_mask) * 100\n",
    "    print(f\"Dropping {n_drop} rows ({pct:.2f}%) where mode='{mode}'\")"
   ]
  },
  {
   "cell_type": "code",
   "execution_count": 30,
   "id": "f44389b3",
   "metadata": {
    "execution": {
     "iopub.execute_input": "2025-08-19T19:05:45.073382Z",
     "iopub.status.busy": "2025-08-19T19:05:45.072989Z",
     "iopub.status.idle": "2025-08-19T19:05:45.078631Z",
     "shell.execute_reply": "2025-08-19T19:05:45.077825Z"
    },
    "papermill": {
     "duration": 0.020545,
     "end_time": "2025-08-19T19:05:45.080232",
     "exception": false,
     "start_time": "2025-08-19T19:05:45.059687",
     "status": "completed"
    },
    "tags": []
   },
   "outputs": [],
   "source": [
    "X_train = X_train[keep_mask]"
   ]
  },
  {
   "cell_type": "code",
   "execution_count": 31,
   "id": "ceca8c2a",
   "metadata": {
    "execution": {
     "iopub.execute_input": "2025-08-19T19:05:45.104957Z",
     "iopub.status.busy": "2025-08-19T19:05:45.104573Z",
     "iopub.status.idle": "2025-08-19T19:05:45.109477Z",
     "shell.execute_reply": "2025-08-19T19:05:45.108816Z"
    },
    "papermill": {
     "duration": 0.018961,
     "end_time": "2025-08-19T19:05:45.110777",
     "exception": false,
     "start_time": "2025-08-19T19:05:45.091816",
     "status": "completed"
    },
    "tags": []
   },
   "outputs": [],
   "source": [
    "y_train = y_train[keep_mask]"
   ]
  },
  {
   "cell_type": "markdown",
   "id": "04d31e2f",
   "metadata": {
    "papermill": {
     "duration": 0.011593,
     "end_time": "2025-08-19T19:05:45.134039",
     "exception": false,
     "start_time": "2025-08-19T19:05:45.122446",
     "status": "completed"
    },
    "tags": []
   },
   "source": [
    "# Model Training"
   ]
  },
  {
   "cell_type": "code",
   "execution_count": 32,
   "id": "db991733",
   "metadata": {
    "execution": {
     "iopub.execute_input": "2025-08-19T19:05:45.158242Z",
     "iopub.status.busy": "2025-08-19T19:05:45.157851Z",
     "iopub.status.idle": "2025-08-19T19:05:45.261674Z",
     "shell.execute_reply": "2025-08-19T19:05:45.260909Z"
    },
    "papermill": {
     "duration": 0.11893,
     "end_time": "2025-08-19T19:05:45.264274",
     "exception": false,
     "start_time": "2025-08-19T19:05:45.145344",
     "status": "completed"
    },
    "tags": []
   },
   "outputs": [],
   "source": [
    "from sklearn.linear_model import LogisticRegression\n",
    "from sklearn.ensemble import GradientBoostingClassifier, RandomForestClassifier\n",
    "\n",
    "if (universe[\"model\"] == \"logreg\"):\n",
    "    model = LogisticRegression() #penalty=\"none\", solver=\"newton-cg\", max_iter=1)\n",
    "elif (universe[\"model\"] == \"penalized_logreg\"):\n",
    "    model = LogisticRegression(penalty=\"l2\", C=0.1) #, solver=\"newton-cg\", max_iter=1)\n",
    "elif (universe[\"model\"] == \"rf\"):\n",
    "    model = RandomForestClassifier() # n_estimators=100, n_jobs=-1\n",
    "elif (universe[\"model\"] == \"gbm\"):\n",
    "    model = GradientBoostingClassifier()\n",
    "elif (universe[\"model\"] == \"elasticnet\"):\n",
    "    model = LogisticRegression(penalty = 'elasticnet', solver = 'saga', l1_ratio = 0.5) # max_iter=5000\n",
    "else:\n",
    "    raise \"Unsupported universe.model\""
   ]
  },
  {
   "cell_type": "code",
   "execution_count": 33,
   "id": "a4b5cd25",
   "metadata": {
    "execution": {
     "iopub.execute_input": "2025-08-19T19:05:45.307654Z",
     "iopub.status.busy": "2025-08-19T19:05:45.307237Z",
     "iopub.status.idle": "2025-08-19T19:05:45.312678Z",
     "shell.execute_reply": "2025-08-19T19:05:45.311880Z"
    },
    "papermill": {
     "duration": 0.020927,
     "end_time": "2025-08-19T19:05:45.314378",
     "exception": false,
     "start_time": "2025-08-19T19:05:45.293451",
     "status": "completed"
    },
    "tags": []
   },
   "outputs": [],
   "source": [
    "from sklearn.pipeline import Pipeline\n",
    "from sklearn.preprocessing import StandardScaler\n",
    "\n",
    "model = Pipeline([\n",
    "    #(\"continuous_processor\", continuous_processor),\n",
    "    #(\"categorical_preprocessor\", categorical_preprocessor),\n",
    "    (\"scale\", StandardScaler() if universe[\"scale\"] == \"scale\" else None), \n",
    "    (\"model\", model),\n",
    "])"
   ]
  },
  {
   "cell_type": "code",
   "execution_count": 34,
   "id": "283a904d",
   "metadata": {
    "execution": {
     "iopub.execute_input": "2025-08-19T19:05:45.339179Z",
     "iopub.status.busy": "2025-08-19T19:05:45.338123Z",
     "iopub.status.idle": "2025-08-19T19:05:45.385868Z",
     "shell.execute_reply": "2025-08-19T19:05:45.385170Z"
    },
    "papermill": {
     "duration": 0.061307,
     "end_time": "2025-08-19T19:05:45.387243",
     "exception": false,
     "start_time": "2025-08-19T19:05:45.325936",
     "status": "completed"
    },
    "tags": []
   },
   "outputs": [
    {
     "data": {
      "text/html": [
       "<style>#sk-container-id-1 {color: black;background-color: white;}#sk-container-id-1 pre{padding: 0;}#sk-container-id-1 div.sk-toggleable {background-color: white;}#sk-container-id-1 label.sk-toggleable__label {cursor: pointer;display: block;width: 100%;margin-bottom: 0;padding: 0.3em;box-sizing: border-box;text-align: center;}#sk-container-id-1 label.sk-toggleable__label-arrow:before {content: \"▸\";float: left;margin-right: 0.25em;color: #696969;}#sk-container-id-1 label.sk-toggleable__label-arrow:hover:before {color: black;}#sk-container-id-1 div.sk-estimator:hover label.sk-toggleable__label-arrow:before {color: black;}#sk-container-id-1 div.sk-toggleable__content {max-height: 0;max-width: 0;overflow: hidden;text-align: left;background-color: #f0f8ff;}#sk-container-id-1 div.sk-toggleable__content pre {margin: 0.2em;color: black;border-radius: 0.25em;background-color: #f0f8ff;}#sk-container-id-1 input.sk-toggleable__control:checked~div.sk-toggleable__content {max-height: 200px;max-width: 100%;overflow: auto;}#sk-container-id-1 input.sk-toggleable__control:checked~label.sk-toggleable__label-arrow:before {content: \"▾\";}#sk-container-id-1 div.sk-estimator input.sk-toggleable__control:checked~label.sk-toggleable__label {background-color: #d4ebff;}#sk-container-id-1 div.sk-label input.sk-toggleable__control:checked~label.sk-toggleable__label {background-color: #d4ebff;}#sk-container-id-1 input.sk-hidden--visually {border: 0;clip: rect(1px 1px 1px 1px);clip: rect(1px, 1px, 1px, 1px);height: 1px;margin: -1px;overflow: hidden;padding: 0;position: absolute;width: 1px;}#sk-container-id-1 div.sk-estimator {font-family: monospace;background-color: #f0f8ff;border: 1px dotted black;border-radius: 0.25em;box-sizing: border-box;margin-bottom: 0.5em;}#sk-container-id-1 div.sk-estimator:hover {background-color: #d4ebff;}#sk-container-id-1 div.sk-parallel-item::after {content: \"\";width: 100%;border-bottom: 1px solid gray;flex-grow: 1;}#sk-container-id-1 div.sk-label:hover label.sk-toggleable__label {background-color: #d4ebff;}#sk-container-id-1 div.sk-serial::before {content: \"\";position: absolute;border-left: 1px solid gray;box-sizing: border-box;top: 0;bottom: 0;left: 50%;z-index: 0;}#sk-container-id-1 div.sk-serial {display: flex;flex-direction: column;align-items: center;background-color: white;padding-right: 0.2em;padding-left: 0.2em;position: relative;}#sk-container-id-1 div.sk-item {position: relative;z-index: 1;}#sk-container-id-1 div.sk-parallel {display: flex;align-items: stretch;justify-content: center;background-color: white;position: relative;}#sk-container-id-1 div.sk-item::before, #sk-container-id-1 div.sk-parallel-item::before {content: \"\";position: absolute;border-left: 1px solid gray;box-sizing: border-box;top: 0;bottom: 0;left: 50%;z-index: -1;}#sk-container-id-1 div.sk-parallel-item {display: flex;flex-direction: column;z-index: 1;position: relative;background-color: white;}#sk-container-id-1 div.sk-parallel-item:first-child::after {align-self: flex-end;width: 50%;}#sk-container-id-1 div.sk-parallel-item:last-child::after {align-self: flex-start;width: 50%;}#sk-container-id-1 div.sk-parallel-item:only-child::after {width: 0;}#sk-container-id-1 div.sk-dashed-wrapped {border: 1px dashed gray;margin: 0 0.4em 0.5em 0.4em;box-sizing: border-box;padding-bottom: 0.4em;background-color: white;}#sk-container-id-1 div.sk-label label {font-family: monospace;font-weight: bold;display: inline-block;line-height: 1.2em;}#sk-container-id-1 div.sk-label-container {text-align: center;}#sk-container-id-1 div.sk-container {/* jupyter's `normalize.less` sets `[hidden] { display: none; }` but bootstrap.min.css set `[hidden] { display: none !important; }` so we also need the `!important` here to be able to override the default hidden behavior on the sphinx rendered scikit-learn.org. See: https://github.com/scikit-learn/scikit-learn/issues/21755 */display: inline-block !important;position: relative;}#sk-container-id-1 div.sk-text-repr-fallback {display: none;}</style><div id=\"sk-container-id-1\" class=\"sk-top-container\"><div class=\"sk-text-repr-fallback\"><pre>Pipeline(steps=[(&#x27;scale&#x27;, StandardScaler()),\n",
       "                (&#x27;model&#x27;, LogisticRegression(C=0.1))])</pre><b>In a Jupyter environment, please rerun this cell to show the HTML representation or trust the notebook. <br />On GitHub, the HTML representation is unable to render, please try loading this page with nbviewer.org.</b></div><div class=\"sk-container\" hidden><div class=\"sk-item sk-dashed-wrapped\"><div class=\"sk-label-container\"><div class=\"sk-label sk-toggleable\"><input class=\"sk-toggleable__control sk-hidden--visually\" id=\"sk-estimator-id-1\" type=\"checkbox\" ><label for=\"sk-estimator-id-1\" class=\"sk-toggleable__label sk-toggleable__label-arrow\">Pipeline</label><div class=\"sk-toggleable__content\"><pre>Pipeline(steps=[(&#x27;scale&#x27;, StandardScaler()),\n",
       "                (&#x27;model&#x27;, LogisticRegression(C=0.1))])</pre></div></div></div><div class=\"sk-serial\"><div class=\"sk-item\"><div class=\"sk-estimator sk-toggleable\"><input class=\"sk-toggleable__control sk-hidden--visually\" id=\"sk-estimator-id-2\" type=\"checkbox\" ><label for=\"sk-estimator-id-2\" class=\"sk-toggleable__label sk-toggleable__label-arrow\">StandardScaler</label><div class=\"sk-toggleable__content\"><pre>StandardScaler()</pre></div></div></div><div class=\"sk-item\"><div class=\"sk-estimator sk-toggleable\"><input class=\"sk-toggleable__control sk-hidden--visually\" id=\"sk-estimator-id-3\" type=\"checkbox\" ><label for=\"sk-estimator-id-3\" class=\"sk-toggleable__label sk-toggleable__label-arrow\">LogisticRegression</label><div class=\"sk-toggleable__content\"><pre>LogisticRegression(C=0.1)</pre></div></div></div></div></div></div></div>"
      ],
      "text/plain": [
       "Pipeline(steps=[('scale', StandardScaler()),\n",
       "                ('model', LogisticRegression(C=0.1))])"
      ]
     },
     "execution_count": 34,
     "metadata": {},
     "output_type": "execute_result"
    }
   ],
   "source": [
    "model.fit(X_train, y_train.values.ravel())"
   ]
  },
  {
   "cell_type": "code",
   "execution_count": 35,
   "id": "6e15e313",
   "metadata": {
    "execution": {
     "iopub.execute_input": "2025-08-19T19:05:45.413581Z",
     "iopub.status.busy": "2025-08-19T19:05:45.411572Z",
     "iopub.status.idle": "2025-08-19T19:05:45.603433Z",
     "shell.execute_reply": "2025-08-19T19:05:45.602729Z"
    },
    "papermill": {
     "duration": 0.207438,
     "end_time": "2025-08-19T19:05:45.606396",
     "exception": false,
     "start_time": "2025-08-19T19:05:45.398958",
     "status": "completed"
    },
    "tags": []
   },
   "outputs": [
    {
     "data": {
      "text/plain": [
       "0.8411882733251589"
      ]
     },
     "execution_count": 35,
     "metadata": {},
     "output_type": "execute_result"
    }
   ],
   "source": [
    "from fairness_multiverse.universe import predict_w_threshold\n",
    "\n",
    "probs_test = model.predict_proba(X_test)\n",
    "\n",
    "'''\n",
    "Below code returns a boolean array (or binary 0/1 array depending on how it’s used) where each element \n",
    "is True if the probability of class 1 is greater than or equal to the threshold, and False otherwise.\n",
    "'''\n",
    "y_pred_default = predict_w_threshold(probs_test, 0.5)\n",
    "\n",
    "from sklearn.metrics import accuracy_score\n",
    "\n",
    "# Naive prediction\n",
    "accuracy_score(y_true = y_true, y_pred = y_pred_default)"
   ]
  },
  {
   "cell_type": "code",
   "execution_count": 36,
   "id": "6f14067c",
   "metadata": {
    "execution": {
     "iopub.execute_input": "2025-08-19T19:05:45.646502Z",
     "iopub.status.busy": "2025-08-19T19:05:45.645211Z",
     "iopub.status.idle": "2025-08-19T19:05:45.832359Z",
     "shell.execute_reply": "2025-08-19T19:05:45.831603Z"
    },
    "papermill": {
     "duration": 0.204013,
     "end_time": "2025-08-19T19:05:45.835696",
     "exception": false,
     "start_time": "2025-08-19T19:05:45.631683",
     "status": "completed"
    },
    "tags": []
   },
   "outputs": [
    {
     "data": {
      "text/plain": [
       "array([0, 0, 0, ..., 0, 0, 0])"
      ]
     },
     "execution_count": 36,
     "metadata": {},
     "output_type": "execute_result"
    }
   ],
   "source": [
    "model.predict(X_test)"
   ]
  },
  {
   "cell_type": "markdown",
   "id": "3759920c",
   "metadata": {
    "papermill": {
     "duration": 0.011982,
     "end_time": "2025-08-19T19:05:45.867427",
     "exception": false,
     "start_time": "2025-08-19T19:05:45.855445",
     "status": "completed"
    },
    "tags": []
   },
   "source": [
    "# Conformal Prediction"
   ]
  },
  {
   "cell_type": "code",
   "execution_count": 37,
   "id": "14b27f59",
   "metadata": {
    "execution": {
     "iopub.execute_input": "2025-08-19T19:05:45.896605Z",
     "iopub.status.busy": "2025-08-19T19:05:45.895321Z",
     "iopub.status.idle": "2025-08-19T19:05:45.902561Z",
     "shell.execute_reply": "2025-08-19T19:05:45.901334Z"
    },
    "papermill": {
     "duration": 0.024812,
     "end_time": "2025-08-19T19:05:45.904043",
     "exception": false,
     "start_time": "2025-08-19T19:05:45.879231",
     "status": "completed"
    },
    "tags": []
   },
   "outputs": [],
   "source": [
    "# Miscoverage level for conformal prediction (10% allowed error rate => 90% target coverage)\n",
    "alpha = 0.1"
   ]
  },
  {
   "cell_type": "code",
   "execution_count": 38,
   "id": "59102472",
   "metadata": {
    "execution": {
     "iopub.execute_input": "2025-08-19T19:05:45.933444Z",
     "iopub.status.busy": "2025-08-19T19:05:45.932342Z",
     "iopub.status.idle": "2025-08-19T19:05:46.112127Z",
     "shell.execute_reply": "2025-08-19T19:05:46.111271Z"
    },
    "papermill": {
     "duration": 0.196112,
     "end_time": "2025-08-19T19:05:46.113772",
     "exception": false,
     "start_time": "2025-08-19T19:05:45.917660",
     "status": "completed"
    },
    "tags": []
   },
   "outputs": [],
   "source": [
    "probs_calib = model.predict_proba(X_calib)"
   ]
  },
  {
   "cell_type": "code",
   "execution_count": 39,
   "id": "a792d4dd",
   "metadata": {
    "execution": {
     "iopub.execute_input": "2025-08-19T19:05:46.165149Z",
     "iopub.status.busy": "2025-08-19T19:05:46.161765Z",
     "iopub.status.idle": "2025-08-19T19:05:46.185572Z",
     "shell.execute_reply": "2025-08-19T19:05:46.179961Z"
    },
    "papermill": {
     "duration": 0.056004,
     "end_time": "2025-08-19T19:05:46.187198",
     "exception": false,
     "start_time": "2025-08-19T19:05:46.131194",
     "status": "completed"
    },
    "tags": []
   },
   "outputs": [],
   "source": [
    "y_calib = y_calib.values.ravel().astype(int)"
   ]
  },
  {
   "cell_type": "code",
   "execution_count": 40,
   "id": "650fd033",
   "metadata": {
    "execution": {
     "iopub.execute_input": "2025-08-19T19:05:46.211718Z",
     "iopub.status.busy": "2025-08-19T19:05:46.211240Z",
     "iopub.status.idle": "2025-08-19T19:05:46.218400Z",
     "shell.execute_reply": "2025-08-19T19:05:46.217634Z"
    },
    "papermill": {
     "duration": 0.023186,
     "end_time": "2025-08-19T19:05:46.222165",
     "exception": false,
     "start_time": "2025-08-19T19:05:46.198979",
     "status": "completed"
    },
    "tags": []
   },
   "outputs": [],
   "source": [
    "from fairness_multiverse.conformal import compute_nc_scores\n",
    "\n",
    "# Compute nonconformity scores on calibration set (1 - probability of true class)\n",
    "nc_scores = compute_nc_scores(probs_calib, y_calib)"
   ]
  },
  {
   "cell_type": "code",
   "execution_count": 41,
   "id": "28ada44c",
   "metadata": {
    "execution": {
     "iopub.execute_input": "2025-08-19T19:05:46.282415Z",
     "iopub.status.busy": "2025-08-19T19:05:46.281693Z",
     "iopub.status.idle": "2025-08-19T19:05:46.292556Z",
     "shell.execute_reply": "2025-08-19T19:05:46.291298Z"
    },
    "papermill": {
     "duration": 0.050805,
     "end_time": "2025-08-19T19:05:46.294258",
     "exception": false,
     "start_time": "2025-08-19T19:05:46.243453",
     "status": "completed"
    },
    "tags": []
   },
   "outputs": [],
   "source": [
    "from fairness_multiverse.conformal import find_threshold\n",
    "\n",
    "# Find conformal threshold q_hat for the given alpha (split conformal method)\n",
    "q_hat = find_threshold(nc_scores, alpha)"
   ]
  },
  {
   "cell_type": "code",
   "execution_count": 42,
   "id": "df56469e",
   "metadata": {
    "execution": {
     "iopub.execute_input": "2025-08-19T19:05:46.324044Z",
     "iopub.status.busy": "2025-08-19T19:05:46.322961Z",
     "iopub.status.idle": "2025-08-19T19:05:46.332820Z",
     "shell.execute_reply": "2025-08-19T19:05:46.331548Z"
    },
    "papermill": {
     "duration": 0.02496,
     "end_time": "2025-08-19T19:05:46.334456",
     "exception": false,
     "start_time": "2025-08-19T19:05:46.309496",
     "status": "completed"
    },
    "tags": []
   },
   "outputs": [
    {
     "data": {
      "text/plain": [
       "0.7332865970354391"
      ]
     },
     "execution_count": 42,
     "metadata": {},
     "output_type": "execute_result"
    }
   ],
   "source": [
    "q_hat"
   ]
  },
  {
   "cell_type": "code",
   "execution_count": 43,
   "id": "aa1f5faa",
   "metadata": {
    "execution": {
     "iopub.execute_input": "2025-08-19T19:05:46.389194Z",
     "iopub.status.busy": "2025-08-19T19:05:46.386137Z",
     "iopub.status.idle": "2025-08-19T19:05:47.070751Z",
     "shell.execute_reply": "2025-08-19T19:05:47.069531Z"
    },
    "papermill": {
     "duration": 0.701524,
     "end_time": "2025-08-19T19:05:47.073069",
     "exception": false,
     "start_time": "2025-08-19T19:05:46.371545",
     "status": "completed"
    },
    "tags": []
   },
   "outputs": [],
   "source": [
    "from fairness_multiverse.conformal import predict_conformal_sets\n",
    "\n",
    "# Generate prediction sets for each test example\n",
    "pred_sets = predict_conformal_sets(model, X_test, q_hat)"
   ]
  },
  {
   "cell_type": "code",
   "execution_count": 44,
   "id": "97f67a6b",
   "metadata": {
    "execution": {
     "iopub.execute_input": "2025-08-19T19:05:47.115482Z",
     "iopub.status.busy": "2025-08-19T19:05:47.115101Z",
     "iopub.status.idle": "2025-08-19T19:05:47.122698Z",
     "shell.execute_reply": "2025-08-19T19:05:47.121438Z"
    },
    "papermill": {
     "duration": 0.022615,
     "end_time": "2025-08-19T19:05:47.124048",
     "exception": false,
     "start_time": "2025-08-19T19:05:47.101433",
     "status": "completed"
    },
    "tags": []
   },
   "outputs": [],
   "source": [
    "y_true = y_true.squeeze()"
   ]
  },
  {
   "cell_type": "code",
   "execution_count": 45,
   "id": "e700e9a7",
   "metadata": {
    "execution": {
     "iopub.execute_input": "2025-08-19T19:05:47.151647Z",
     "iopub.status.busy": "2025-08-19T19:05:47.150542Z",
     "iopub.status.idle": "2025-08-19T19:05:47.667536Z",
     "shell.execute_reply": "2025-08-19T19:05:47.666197Z"
    },
    "papermill": {
     "duration": 0.531943,
     "end_time": "2025-08-19T19:05:47.669288",
     "exception": false,
     "start_time": "2025-08-19T19:05:47.137345",
     "status": "completed"
    },
    "tags": []
   },
   "outputs": [],
   "source": [
    "from fairness_multiverse.conformal import evaluate_sets\n",
    "\n",
    "# Evaluate coverage and average set size on test data\n",
    "metrics = evaluate_sets(pred_sets, y_true)"
   ]
  },
  {
   "cell_type": "markdown",
   "id": "efbacec0",
   "metadata": {
    "papermill": {
     "duration": 0.011964,
     "end_time": "2025-08-19T19:05:47.697148",
     "exception": false,
     "start_time": "2025-08-19T19:05:47.685184",
     "status": "completed"
    },
    "tags": []
   },
   "source": [
    "# CP Metrics"
   ]
  },
  {
   "cell_type": "code",
   "execution_count": 46,
   "id": "9de55fb1",
   "metadata": {
    "execution": {
     "iopub.execute_input": "2025-08-19T19:05:47.722683Z",
     "iopub.status.busy": "2025-08-19T19:05:47.722296Z",
     "iopub.status.idle": "2025-08-19T19:05:47.729518Z",
     "shell.execute_reply": "2025-08-19T19:05:47.728880Z"
    },
    "papermill": {
     "duration": 0.021894,
     "end_time": "2025-08-19T19:05:47.730822",
     "exception": false,
     "start_time": "2025-08-19T19:05:47.708928",
     "status": "completed"
    },
    "tags": []
   },
   "outputs": [
    {
     "data": {
      "text/plain": [
       "{'coverage': 0.9105450897335859, 'avg_size': 1.1825214580314347}"
      ]
     },
     "execution_count": 46,
     "metadata": {},
     "output_type": "execute_result"
    }
   ],
   "source": [
    "metrics"
   ]
  },
  {
   "cell_type": "code",
   "execution_count": 47,
   "id": "64c340a1",
   "metadata": {
    "execution": {
     "iopub.execute_input": "2025-08-19T19:05:47.761303Z",
     "iopub.status.busy": "2025-08-19T19:05:47.760918Z",
     "iopub.status.idle": "2025-08-19T19:05:47.766179Z",
     "shell.execute_reply": "2025-08-19T19:05:47.765457Z"
    },
    "papermill": {
     "duration": 0.02136,
     "end_time": "2025-08-19T19:05:47.767629",
     "exception": false,
     "start_time": "2025-08-19T19:05:47.746269",
     "status": "completed"
    },
    "tags": []
   },
   "outputs": [],
   "source": [
    "example_universe = universe.copy()\n",
    "universe_training_year = example_universe.get(\"training_year\")\n",
    "universe_training_size = example_universe.get(\"training_size\")\n",
    "universe_scale = example_universe.get(\"scale\")\n",
    "universe_model = example_universe.get(\"model\")\n",
    "universe_exclude_features = example_universe.get(\"exclude_features\")\n",
    "universe_exclude_subgroups = example_universe.get(\"exclude_subgroups\")"
   ]
  },
  {
   "cell_type": "code",
   "execution_count": 48,
   "id": "dbb53cb4",
   "metadata": {
    "execution": {
     "iopub.execute_input": "2025-08-19T19:05:47.795045Z",
     "iopub.status.busy": "2025-08-19T19:05:47.794653Z",
     "iopub.status.idle": "2025-08-19T19:05:47.800378Z",
     "shell.execute_reply": "2025-08-19T19:05:47.799471Z"
    },
    "papermill": {
     "duration": 0.02073,
     "end_time": "2025-08-19T19:05:47.801766",
     "exception": false,
     "start_time": "2025-08-19T19:05:47.781036",
     "status": "completed"
    },
    "tags": []
   },
   "outputs": [],
   "source": [
    "cp_metrics_dict = {\n",
    "    \"universe_id\": [universe_id],\n",
    "    \"universe_training_year\": [universe_training_year],\n",
    "    \"universe_training_size\": [universe_training_size],\n",
    "    \"universe_scale\": [universe_scale],\n",
    "    \"universe_model\": [universe_model],\n",
    "    \"universe_exclude_features\": [universe_exclude_features],\n",
    "    \"universe_exclude_subgroups\": [universe_exclude_subgroups],\n",
    "    \"q_hat\": [q_hat],\n",
    "    \"coverage\": [metrics[\"coverage\"]],\n",
    "    \"avg_size\": [metrics[\"avg_size\"]],\n",
    "}"
   ]
  },
  {
   "cell_type": "code",
   "execution_count": 49,
   "id": "0d70d4b2",
   "metadata": {
    "execution": {
     "iopub.execute_input": "2025-08-19T19:05:47.830048Z",
     "iopub.status.busy": "2025-08-19T19:05:47.829465Z",
     "iopub.status.idle": "2025-08-19T19:05:47.837013Z",
     "shell.execute_reply": "2025-08-19T19:05:47.835965Z"
    },
    "papermill": {
     "duration": 0.022677,
     "end_time": "2025-08-19T19:05:47.838247",
     "exception": false,
     "start_time": "2025-08-19T19:05:47.815570",
     "status": "completed"
    },
    "tags": []
   },
   "outputs": [],
   "source": [
    "cp_metrics_df = pd.DataFrame(cp_metrics_dict)"
   ]
  },
  {
   "cell_type": "code",
   "execution_count": 50,
   "id": "b494403c",
   "metadata": {
    "execution": {
     "iopub.execute_input": "2025-08-19T19:05:47.866129Z",
     "iopub.status.busy": "2025-08-19T19:05:47.865414Z",
     "iopub.status.idle": "2025-08-19T19:05:47.884126Z",
     "shell.execute_reply": "2025-08-19T19:05:47.883360Z"
    },
    "papermill": {
     "duration": 0.034412,
     "end_time": "2025-08-19T19:05:47.885524",
     "exception": false,
     "start_time": "2025-08-19T19:05:47.851112",
     "status": "completed"
    },
    "tags": []
   },
   "outputs": [
    {
     "data": {
      "text/html": [
       "<div>\n",
       "<style scoped>\n",
       "    .dataframe tbody tr th:only-of-type {\n",
       "        vertical-align: middle;\n",
       "    }\n",
       "\n",
       "    .dataframe tbody tr th {\n",
       "        vertical-align: top;\n",
       "    }\n",
       "\n",
       "    .dataframe thead th {\n",
       "        text-align: right;\n",
       "    }\n",
       "</style>\n",
       "<table border=\"1\" class=\"dataframe\">\n",
       "  <thead>\n",
       "    <tr style=\"text-align: right;\">\n",
       "      <th></th>\n",
       "      <th>universe_id</th>\n",
       "      <th>universe_training_year</th>\n",
       "      <th>universe_training_size</th>\n",
       "      <th>universe_scale</th>\n",
       "      <th>universe_model</th>\n",
       "      <th>universe_exclude_features</th>\n",
       "      <th>universe_exclude_subgroups</th>\n",
       "      <th>q_hat</th>\n",
       "      <th>coverage</th>\n",
       "      <th>avg_size</th>\n",
       "    </tr>\n",
       "  </thead>\n",
       "  <tbody>\n",
       "    <tr>\n",
       "      <th>0</th>\n",
       "      <td>8d38959e441e44b2736a3d6a5e36e0ec</td>\n",
       "      <td>2010_14</td>\n",
       "      <td>1k</td>\n",
       "      <td>scale</td>\n",
       "      <td>penalized_logreg</td>\n",
       "      <td>nationality</td>\n",
       "      <td>drop-non-german</td>\n",
       "      <td>0.733287</td>\n",
       "      <td>0.910545</td>\n",
       "      <td>1.182521</td>\n",
       "    </tr>\n",
       "  </tbody>\n",
       "</table>\n",
       "</div>"
      ],
      "text/plain": [
       "                        universe_id universe_training_year  \\\n",
       "0  8d38959e441e44b2736a3d6a5e36e0ec                2010_14   \n",
       "\n",
       "  universe_training_size universe_scale    universe_model  \\\n",
       "0                     1k          scale  penalized_logreg   \n",
       "\n",
       "  universe_exclude_features universe_exclude_subgroups     q_hat  coverage  \\\n",
       "0               nationality            drop-non-german  0.733287  0.910545   \n",
       "\n",
       "   avg_size  \n",
       "0  1.182521  "
      ]
     },
     "execution_count": 50,
     "metadata": {},
     "output_type": "execute_result"
    }
   ],
   "source": [
    "cp_metrics_df"
   ]
  },
  {
   "cell_type": "markdown",
   "id": "ed608b0b",
   "metadata": {
    "papermill": {
     "duration": 0.015609,
     "end_time": "2025-08-19T19:05:47.920716",
     "exception": false,
     "start_time": "2025-08-19T19:05:47.905107",
     "status": "completed"
    },
    "tags": []
   },
   "source": [
    "Conditional coverage & looking at subgroups"
   ]
  },
  {
   "cell_type": "code",
   "execution_count": 51,
   "id": "8968c366",
   "metadata": {
    "execution": {
     "iopub.execute_input": "2025-08-19T19:05:47.949474Z",
     "iopub.status.busy": "2025-08-19T19:05:47.948678Z",
     "iopub.status.idle": "2025-08-19T19:05:48.225588Z",
     "shell.execute_reply": "2025-08-19T19:05:48.224778Z"
    },
    "papermill": {
     "duration": 0.292166,
     "end_time": "2025-08-19T19:05:48.227230",
     "exception": false,
     "start_time": "2025-08-19T19:05:47.935064",
     "status": "completed"
    },
    "tags": []
   },
   "outputs": [],
   "source": [
    "from fairness_multiverse.conformal import build_cp_groups\n",
    "\n",
    "cp_groups_df = build_cp_groups(pred_sets, y_true, X_test.index, org_test)"
   ]
  },
  {
   "cell_type": "code",
   "execution_count": 52,
   "id": "292ddabf",
   "metadata": {
    "execution": {
     "iopub.execute_input": "2025-08-19T19:05:48.255651Z",
     "iopub.status.busy": "2025-08-19T19:05:48.254776Z",
     "iopub.status.idle": "2025-08-19T19:05:49.128000Z",
     "shell.execute_reply": "2025-08-19T19:05:49.126740Z"
    },
    "papermill": {
     "duration": 0.889838,
     "end_time": "2025-08-19T19:05:49.131142",
     "exception": false,
     "start_time": "2025-08-19T19:05:48.241304",
     "status": "completed"
    },
    "tags": []
   },
   "outputs": [],
   "source": [
    "# Define covered = 1 if true_label is in the predicted set\n",
    "cp_groups_df['covered'] = cp_groups_df.apply(\n",
    "    lambda r: int(r['true_label'] in r['pred_set']),\n",
    "    axis=1\n",
    ")"
   ]
  },
  {
   "cell_type": "code",
   "execution_count": 53,
   "id": "3a261692",
   "metadata": {
    "execution": {
     "iopub.execute_input": "2025-08-19T19:05:49.173906Z",
     "iopub.status.busy": "2025-08-19T19:05:49.172981Z",
     "iopub.status.idle": "2025-08-19T19:05:49.186276Z",
     "shell.execute_reply": "2025-08-19T19:05:49.185476Z"
    },
    "papermill": {
     "duration": 0.028613,
     "end_time": "2025-08-19T19:05:49.187649",
     "exception": false,
     "start_time": "2025-08-19T19:05:49.159036",
     "status": "completed"
    },
    "tags": []
   },
   "outputs": [],
   "source": [
    "subgroups = ['frau1','nongerman','nongerman_male','nongerman_female']\n",
    "\n",
    "# Conditional coverage for subgroup==1\n",
    "cond_coverage = {\n",
    "    g: cp_groups_df.loc[cp_groups_df[g]==1, 'covered'].mean()\n",
    "    for g in subgroups\n",
    "}"
   ]
  },
  {
   "cell_type": "code",
   "execution_count": 54,
   "id": "894fd600",
   "metadata": {
    "execution": {
     "iopub.execute_input": "2025-08-19T19:05:49.229724Z",
     "iopub.status.busy": "2025-08-19T19:05:49.228651Z",
     "iopub.status.idle": "2025-08-19T19:05:49.238000Z",
     "shell.execute_reply": "2025-08-19T19:05:49.237061Z"
    },
    "papermill": {
     "duration": 0.028317,
     "end_time": "2025-08-19T19:05:49.239394",
     "exception": false,
     "start_time": "2025-08-19T19:05:49.211077",
     "status": "completed"
    },
    "tags": []
   },
   "outputs": [
    {
     "data": {
      "text/plain": [
       "{'frau1': 0.9105270252055533,\n",
       " 'nongerman': 0.9116937068433166,\n",
       " 'nongerman_male': 0.9263262181392417,\n",
       " 'nongerman_female': 0.8874813710879285}"
      ]
     },
     "execution_count": 54,
     "metadata": {},
     "output_type": "execute_result"
    }
   ],
   "source": [
    "cond_coverage"
   ]
  },
  {
   "cell_type": "code",
   "execution_count": 55,
   "id": "942895c7",
   "metadata": {
    "execution": {
     "iopub.execute_input": "2025-08-19T19:05:49.274404Z",
     "iopub.status.busy": "2025-08-19T19:05:49.273180Z",
     "iopub.status.idle": "2025-08-19T19:05:49.290496Z",
     "shell.execute_reply": "2025-08-19T19:05:49.289089Z"
    },
    "papermill": {
     "duration": 0.035382,
     "end_time": "2025-08-19T19:05:49.292743",
     "exception": false,
     "start_time": "2025-08-19T19:05:49.257361",
     "status": "completed"
    },
    "tags": []
   },
   "outputs": [],
   "source": [
    "for subgroup, cov in cond_coverage.items():\n",
    "    cp_metrics_df[f\"cov_{subgroup}\"] = cov"
   ]
  },
  {
   "cell_type": "code",
   "execution_count": 56,
   "id": "3970120f",
   "metadata": {
    "execution": {
     "iopub.execute_input": "2025-08-19T19:05:49.333492Z",
     "iopub.status.busy": "2025-08-19T19:05:49.332266Z",
     "iopub.status.idle": "2025-08-19T19:05:49.361528Z",
     "shell.execute_reply": "2025-08-19T19:05:49.360712Z"
    },
    "papermill": {
     "duration": 0.049674,
     "end_time": "2025-08-19T19:05:49.366007",
     "exception": false,
     "start_time": "2025-08-19T19:05:49.316333",
     "status": "completed"
    },
    "tags": []
   },
   "outputs": [
    {
     "data": {
      "text/html": [
       "<div>\n",
       "<style scoped>\n",
       "    .dataframe tbody tr th:only-of-type {\n",
       "        vertical-align: middle;\n",
       "    }\n",
       "\n",
       "    .dataframe tbody tr th {\n",
       "        vertical-align: top;\n",
       "    }\n",
       "\n",
       "    .dataframe thead th {\n",
       "        text-align: right;\n",
       "    }\n",
       "</style>\n",
       "<table border=\"1\" class=\"dataframe\">\n",
       "  <thead>\n",
       "    <tr style=\"text-align: right;\">\n",
       "      <th></th>\n",
       "      <th>universe_id</th>\n",
       "      <th>universe_training_year</th>\n",
       "      <th>universe_training_size</th>\n",
       "      <th>universe_scale</th>\n",
       "      <th>universe_model</th>\n",
       "      <th>universe_exclude_features</th>\n",
       "      <th>universe_exclude_subgroups</th>\n",
       "      <th>q_hat</th>\n",
       "      <th>coverage</th>\n",
       "      <th>avg_size</th>\n",
       "      <th>cov_frau1</th>\n",
       "      <th>cov_nongerman</th>\n",
       "      <th>cov_nongerman_male</th>\n",
       "      <th>cov_nongerman_female</th>\n",
       "    </tr>\n",
       "  </thead>\n",
       "  <tbody>\n",
       "    <tr>\n",
       "      <th>0</th>\n",
       "      <td>8d38959e441e44b2736a3d6a5e36e0ec</td>\n",
       "      <td>2010_14</td>\n",
       "      <td>1k</td>\n",
       "      <td>scale</td>\n",
       "      <td>penalized_logreg</td>\n",
       "      <td>nationality</td>\n",
       "      <td>drop-non-german</td>\n",
       "      <td>0.733287</td>\n",
       "      <td>0.910545</td>\n",
       "      <td>1.182521</td>\n",
       "      <td>0.910527</td>\n",
       "      <td>0.911694</td>\n",
       "      <td>0.926326</td>\n",
       "      <td>0.887481</td>\n",
       "    </tr>\n",
       "  </tbody>\n",
       "</table>\n",
       "</div>"
      ],
      "text/plain": [
       "                        universe_id universe_training_year  \\\n",
       "0  8d38959e441e44b2736a3d6a5e36e0ec                2010_14   \n",
       "\n",
       "  universe_training_size universe_scale    universe_model  \\\n",
       "0                     1k          scale  penalized_logreg   \n",
       "\n",
       "  universe_exclude_features universe_exclude_subgroups     q_hat  coverage  \\\n",
       "0               nationality            drop-non-german  0.733287  0.910545   \n",
       "\n",
       "   avg_size  cov_frau1  cov_nongerman  cov_nongerman_male  \\\n",
       "0  1.182521   0.910527       0.911694            0.926326   \n",
       "\n",
       "   cov_nongerman_female  \n",
       "0              0.887481  "
      ]
     },
     "execution_count": 56,
     "metadata": {},
     "output_type": "execute_result"
    }
   ],
   "source": [
    "cp_metrics_df"
   ]
  },
  {
   "cell_type": "markdown",
   "id": "3fc519cc",
   "metadata": {
    "papermill": {
     "duration": 0.017012,
     "end_time": "2025-08-19T19:05:49.406597",
     "exception": false,
     "start_time": "2025-08-19T19:05:49.389585",
     "status": "completed"
    },
    "tags": []
   },
   "source": [
    "# (Fairness) Metrics"
   ]
  },
  {
   "cell_type": "code",
   "execution_count": 57,
   "id": "a2e5e155",
   "metadata": {
    "execution": {
     "iopub.execute_input": "2025-08-19T19:05:49.436248Z",
     "iopub.status.busy": "2025-08-19T19:05:49.435822Z",
     "iopub.status.idle": "2025-08-19T19:05:49.450910Z",
     "shell.execute_reply": "2025-08-19T19:05:49.450108Z"
    },
    "papermill": {
     "duration": 0.030296,
     "end_time": "2025-08-19T19:05:49.452407",
     "exception": false,
     "start_time": "2025-08-19T19:05:49.422111",
     "status": "completed"
    },
    "tags": []
   },
   "outputs": [],
   "source": [
    "colname_to_bin = \"maxdeutsch1\"\n",
    "majority_value = org_train[colname_to_bin].mode()[0]\n",
    "\n",
    "org_test[\"majmin\"] = np.where(org_test[colname_to_bin] == majority_value, \"majority\", \"minority\")"
   ]
  },
  {
   "cell_type": "code",
   "execution_count": 58,
   "id": "17e3e4d5",
   "metadata": {
    "execution": {
     "iopub.execute_input": "2025-08-19T19:05:49.487327Z",
     "iopub.status.busy": "2025-08-19T19:05:49.486232Z",
     "iopub.status.idle": "2025-08-19T19:05:51.236485Z",
     "shell.execute_reply": "2025-08-19T19:05:51.235294Z"
    },
    "papermill": {
     "duration": 1.767385,
     "end_time": "2025-08-19T19:05:51.238203",
     "exception": false,
     "start_time": "2025-08-19T19:05:49.470818",
     "status": "completed"
    },
    "tags": []
   },
   "outputs": [],
   "source": [
    "example_universe = universe.copy()\n",
    "example_universe[\"cutoff\"] = example_universe[\"cutoff\"][0]\n",
    "example_universe[\"eval_fairness_grouping\"] = example_universe[\"eval_fairness_grouping\"][0]\n",
    "fairness_dict, metric_frame = universe_analysis.compute_metrics(\n",
    "    example_universe,\n",
    "    y_pred_prob=probs_test,\n",
    "    y_test=y_true,\n",
    "    org_test=org_test,\n",
    ")"
   ]
  },
  {
   "cell_type": "markdown",
   "id": "1fb7a0e9",
   "metadata": {
    "papermill": {
     "duration": 0.016979,
     "end_time": "2025-08-19T19:05:51.272107",
     "exception": false,
     "start_time": "2025-08-19T19:05:51.255128",
     "status": "completed"
    },
    "tags": []
   },
   "source": [
    "# Overall"
   ]
  },
  {
   "cell_type": "markdown",
   "id": "be1784b1",
   "metadata": {
    "papermill": {
     "duration": 0.039822,
     "end_time": "2025-08-19T19:05:51.324534",
     "exception": false,
     "start_time": "2025-08-19T19:05:51.284712",
     "status": "completed"
    },
    "tags": []
   },
   "source": [
    "Main fairness target: Equalized Odds. Seems to be a better fit than equal opportunity, since we're not only interested in Y = 1. Seems to be a better fit than demographic parity, since we also care about accuracy, not just equal distribution of preds.\n",
    "\n",
    "Pick column for computation of fairness metrics\n",
    "\n",
    "Performance\n",
    "Overall performance measures, most interesting in relation to the measures split by group below"
   ]
  },
  {
   "cell_type": "code",
   "execution_count": 59,
   "id": "b7672bee",
   "metadata": {
    "execution": {
     "iopub.execute_input": "2025-08-19T19:05:51.355065Z",
     "iopub.status.busy": "2025-08-19T19:05:51.354228Z",
     "iopub.status.idle": "2025-08-19T19:05:51.369958Z",
     "shell.execute_reply": "2025-08-19T19:05:51.368830Z"
    },
    "papermill": {
     "duration": 0.033623,
     "end_time": "2025-08-19T19:05:51.371499",
     "exception": false,
     "start_time": "2025-08-19T19:05:51.337876",
     "status": "completed"
    },
    "tags": []
   },
   "outputs": [
    {
     "data": {
      "text/plain": [
       "accuracy                   0.219875\n",
       "balanced accuracy          0.538568\n",
       "f1                         0.241330\n",
       "precision                  0.137864\n",
       "false positive rate        0.890105\n",
       "false negative rate        0.032760\n",
       "selection rate             0.900000\n",
       "count                  89710.000000\n",
       "dtype: float64"
      ]
     },
     "execution_count": 59,
     "metadata": {},
     "output_type": "execute_result"
    }
   ],
   "source": [
    "metric_frame.overall"
   ]
  },
  {
   "cell_type": "markdown",
   "id": "d93333c9",
   "metadata": {
    "papermill": {
     "duration": 0.012782,
     "end_time": "2025-08-19T19:05:51.401282",
     "exception": false,
     "start_time": "2025-08-19T19:05:51.388500",
     "status": "completed"
    },
    "tags": []
   },
   "source": [
    "By Group"
   ]
  },
  {
   "cell_type": "code",
   "execution_count": 60,
   "id": "52256966",
   "metadata": {
    "execution": {
     "iopub.execute_input": "2025-08-19T19:05:51.429231Z",
     "iopub.status.busy": "2025-08-19T19:05:51.428250Z",
     "iopub.status.idle": "2025-08-19T19:05:51.452318Z",
     "shell.execute_reply": "2025-08-19T19:05:51.451596Z"
    },
    "papermill": {
     "duration": 0.040122,
     "end_time": "2025-08-19T19:05:51.454188",
     "exception": false,
     "start_time": "2025-08-19T19:05:51.414066",
     "status": "completed"
    },
    "tags": []
   },
   "outputs": [
    {
     "data": {
      "text/html": [
       "<div>\n",
       "<style scoped>\n",
       "    .dataframe tbody tr th:only-of-type {\n",
       "        vertical-align: middle;\n",
       "    }\n",
       "\n",
       "    .dataframe tbody tr th {\n",
       "        vertical-align: top;\n",
       "    }\n",
       "\n",
       "    .dataframe thead th {\n",
       "        text-align: right;\n",
       "    }\n",
       "</style>\n",
       "<table border=\"1\" class=\"dataframe\">\n",
       "  <thead>\n",
       "    <tr style=\"text-align: right;\">\n",
       "      <th></th>\n",
       "      <th>accuracy</th>\n",
       "      <th>balanced accuracy</th>\n",
       "      <th>f1</th>\n",
       "      <th>precision</th>\n",
       "      <th>false positive rate</th>\n",
       "      <th>false negative rate</th>\n",
       "      <th>selection rate</th>\n",
       "      <th>count</th>\n",
       "    </tr>\n",
       "    <tr>\n",
       "      <th>majmin</th>\n",
       "      <th></th>\n",
       "      <th></th>\n",
       "      <th></th>\n",
       "      <th></th>\n",
       "      <th></th>\n",
       "      <th></th>\n",
       "      <th></th>\n",
       "      <th></th>\n",
       "    </tr>\n",
       "  </thead>\n",
       "  <tbody>\n",
       "    <tr>\n",
       "      <th>majority</th>\n",
       "      <td>0.234307</td>\n",
       "      <td>0.543651</td>\n",
       "      <td>0.249678</td>\n",
       "      <td>0.143408</td>\n",
       "      <td>0.876812</td>\n",
       "      <td>0.035886</td>\n",
       "      <td>0.888348</td>\n",
       "      <td>69170.0</td>\n",
       "    </tr>\n",
       "    <tr>\n",
       "      <th>minority</th>\n",
       "      <td>0.171276</td>\n",
       "      <td>0.522644</td>\n",
       "      <td>0.214127</td>\n",
       "      <td>0.120205</td>\n",
       "      <td>0.934019</td>\n",
       "      <td>0.020693</td>\n",
       "      <td>0.939241</td>\n",
       "      <td>20540.0</td>\n",
       "    </tr>\n",
       "  </tbody>\n",
       "</table>\n",
       "</div>"
      ],
      "text/plain": [
       "          accuracy  balanced accuracy        f1  precision  \\\n",
       "majmin                                                       \n",
       "majority  0.234307           0.543651  0.249678   0.143408   \n",
       "minority  0.171276           0.522644  0.214127   0.120205   \n",
       "\n",
       "          false positive rate  false negative rate  selection rate    count  \n",
       "majmin                                                                       \n",
       "majority             0.876812             0.035886        0.888348  69170.0  \n",
       "minority             0.934019             0.020693        0.939241  20540.0  "
      ]
     },
     "execution_count": 60,
     "metadata": {},
     "output_type": "execute_result"
    }
   ],
   "source": [
    "metric_frame.by_group"
   ]
  },
  {
   "cell_type": "code",
   "execution_count": 61,
   "id": "6e6c20ae",
   "metadata": {
    "execution": {
     "iopub.execute_input": "2025-08-19T19:05:51.495289Z",
     "iopub.status.busy": "2025-08-19T19:05:51.494639Z",
     "iopub.status.idle": "2025-08-19T19:05:53.349472Z",
     "shell.execute_reply": "2025-08-19T19:05:53.348106Z"
    },
    "papermill": {
     "duration": 1.871743,
     "end_time": "2025-08-19T19:05:53.350706",
     "exception": false,
     "start_time": "2025-08-19T19:05:51.478963",
     "status": "completed"
    },
    "tags": []
   },
   "outputs": [
    {
     "data": {
      "text/plain": [
       "array([[<Axes: title={'center': 'accuracy'}, xlabel='majmin'>,\n",
       "        <Axes: title={'center': 'balanced accuracy'}, xlabel='majmin'>,\n",
       "        <Axes: title={'center': 'f1'}, xlabel='majmin'>],\n",
       "       [<Axes: title={'center': 'precision'}, xlabel='majmin'>,\n",
       "        <Axes: title={'center': 'false positive rate'}, xlabel='majmin'>,\n",
       "        <Axes: title={'center': 'false negative rate'}, xlabel='majmin'>],\n",
       "       [<Axes: title={'center': 'selection rate'}, xlabel='majmin'>,\n",
       "        <Axes: title={'center': 'count'}, xlabel='majmin'>,\n",
       "        <Axes: xlabel='majmin'>]], dtype=object)"
      ]
     },
     "execution_count": 61,
     "metadata": {},
     "output_type": "execute_result"
    },
    {
     "data": {
      "image/png": "[encoded data removed]",
      "text/plain": [
       "<Figure size 1200x800 with 9 Axes>"
      ]
     },
     "metadata": {},
     "output_type": "display_data"
    }
   ],
   "source": [
    "# In a graphic\n",
    "metric_frame.by_group.plot.bar(\n",
    "    subplots=True,\n",
    "    layout=[3, 3],\n",
    "    legend=False,\n",
    "    figsize=[12, 8],\n",
    "    title=\"Show all metrics\",\n",
    ")"
   ]
  },
  {
   "cell_type": "markdown",
   "id": "b2e433ae",
   "metadata": {
    "papermill": {
     "duration": 0.013748,
     "end_time": "2025-08-19T19:05:53.381271",
     "exception": false,
     "start_time": "2025-08-19T19:05:53.367523",
     "status": "completed"
    },
    "tags": []
   },
   "source": [
    "# Final Output"
   ]
  },
  {
   "cell_type": "code",
   "execution_count": 62,
   "id": "3871301e",
   "metadata": {
    "execution": {
     "iopub.execute_input": "2025-08-19T19:05:53.413527Z",
     "iopub.status.busy": "2025-08-19T19:05:53.410990Z",
     "iopub.status.idle": "2025-08-19T19:05:53.421740Z",
     "shell.execute_reply": "2025-08-19T19:05:53.421039Z"
    },
    "papermill": {
     "duration": 0.028108,
     "end_time": "2025-08-19T19:05:53.423075",
     "exception": false,
     "start_time": "2025-08-19T19:05:53.394967",
     "status": "completed"
    },
    "tags": []
   },
   "outputs": [
    {
     "data": {
      "text/plain": [
       "4"
      ]
     },
     "execution_count": 62,
     "metadata": {},
     "output_type": "execute_result"
    }
   ],
   "source": [
    "sub_universes = universe_analysis.generate_sub_universes()\n",
    "len(sub_universes)"
   ]
  },
  {
   "cell_type": "code",
   "execution_count": 63,
   "id": "d9cfdaca",
   "metadata": {
    "execution": {
     "iopub.execute_input": "2025-08-19T19:05:53.456863Z",
     "iopub.status.busy": "2025-08-19T19:05:53.456224Z",
     "iopub.status.idle": "2025-08-19T19:05:53.464219Z",
     "shell.execute_reply": "2025-08-19T19:05:53.462937Z"
    },
    "papermill": {
     "duration": 0.025073,
     "end_time": "2025-08-19T19:05:53.465742",
     "exception": false,
     "start_time": "2025-08-19T19:05:53.440669",
     "status": "completed"
    },
    "tags": []
   },
   "outputs": [],
   "source": [
    "def filter_sub_universe_data(sub_universe, org_test):\n",
    "    # Keep all rows — no filtering\n",
    "    keep_rows_mask = np.ones(org_test.shape[0], dtype=bool)\n",
    "\n",
    "    print(f\"[INFO] Keeping all rows: {keep_rows_mask.sum()} rows retained.\")\n",
    "    return keep_rows_mask"
   ]
  },
  {
   "cell_type": "code",
   "execution_count": 64,
   "id": "2bc31ac1",
   "metadata": {
    "execution": {
     "iopub.execute_input": "2025-08-19T19:05:53.498689Z",
     "iopub.status.busy": "2025-08-19T19:05:53.497999Z",
     "iopub.status.idle": "2025-08-19T19:06:00.249470Z",
     "shell.execute_reply": "2025-08-19T19:06:00.248412Z"
    },
    "papermill": {
     "duration": 6.768582,
     "end_time": "2025-08-19T19:06:00.251006",
     "exception": false,
     "start_time": "2025-08-19T19:05:53.482424",
     "status": "completed"
    },
    "tags": []
   },
   "outputs": [
    {
     "name": "stdout",
     "output_type": "stream",
     "text": [
      "Stopping execution_time clock.\n",
      "[INFO] Keeping all rows: 89710 rows retained.\n"
     ]
    },
    {
     "name": "stdout",
     "output_type": "stream",
     "text": [
      "[INFO] Keeping all rows: 89710 rows retained.\n"
     ]
    },
    {
     "name": "stdout",
     "output_type": "stream",
     "text": [
      "[INFO] Keeping all rows: 89710 rows retained.\n"
     ]
    },
    {
     "name": "stdout",
     "output_type": "stream",
     "text": [
      "[INFO] Keeping all rows: 89710 rows retained.\n"
     ]
    },
    {
     "data": {
      "text/html": [
       "<div>\n",
       "<style scoped>\n",
       "    .dataframe tbody tr th:only-of-type {\n",
       "        vertical-align: middle;\n",
       "    }\n",
       "\n",
       "    .dataframe tbody tr th {\n",
       "        vertical-align: top;\n",
       "    }\n",
       "\n",
       "    .dataframe thead th {\n",
       "        text-align: right;\n",
       "    }\n",
       "</style>\n",
       "<table border=\"1\" class=\"dataframe\">\n",
       "  <thead>\n",
       "    <tr style=\"text-align: right;\">\n",
       "      <th></th>\n",
       "      <th>run_no</th>\n",
       "      <th>universe_id</th>\n",
       "      <th>universe_settings</th>\n",
       "      <th>execution_time</th>\n",
       "      <th>test_size_n</th>\n",
       "      <th>test_size_frac</th>\n",
       "      <th>fair_main_equalized_odds_difference</th>\n",
       "      <th>fair_main_equalized_odds_ratio</th>\n",
       "      <th>fair_main_demographic_parity_difference</th>\n",
       "      <th>fair_main_demographic_parity_ratio</th>\n",
       "      <th>...</th>\n",
       "      <th>perf_grp_precision_0</th>\n",
       "      <th>perf_grp_precision_1</th>\n",
       "      <th>perf_grp_false positive rate_0</th>\n",
       "      <th>perf_grp_false positive rate_1</th>\n",
       "      <th>perf_grp_false negative rate_0</th>\n",
       "      <th>perf_grp_false negative rate_1</th>\n",
       "      <th>perf_grp_selection rate_0</th>\n",
       "      <th>perf_grp_selection rate_1</th>\n",
       "      <th>perf_grp_count_0</th>\n",
       "      <th>perf_grp_count_1</th>\n",
       "    </tr>\n",
       "  </thead>\n",
       "  <tbody>\n",
       "    <tr>\n",
       "      <th>0</th>\n",
       "      <td>3</td>\n",
       "      <td>8d38959e441e44b2736a3d6a5e36e0ec</td>\n",
       "      <td>{\"cutoff\": \"quantile_0.1\", \"eval_fairness_grou...</td>\n",
       "      <td>23.221709</td>\n",
       "      <td>89710</td>\n",
       "      <td>1.0</td>\n",
       "      <td>0.057208</td>\n",
       "      <td>0.938751</td>\n",
       "      <td>0.050893</td>\n",
       "      <td>0.945815</td>\n",
       "      <td>...</td>\n",
       "      <td>NaN</td>\n",
       "      <td>NaN</td>\n",
       "      <td>NaN</td>\n",
       "      <td>NaN</td>\n",
       "      <td>NaN</td>\n",
       "      <td>NaN</td>\n",
       "      <td>NaN</td>\n",
       "      <td>NaN</td>\n",
       "      <td>NaN</td>\n",
       "      <td>NaN</td>\n",
       "    </tr>\n",
       "    <tr>\n",
       "      <th>0</th>\n",
       "      <td>3</td>\n",
       "      <td>8d38959e441e44b2736a3d6a5e36e0ec</td>\n",
       "      <td>{\"cutoff\": \"quantile_0.1\", \"eval_fairness_grou...</td>\n",
       "      <td>23.221709</td>\n",
       "      <td>89710</td>\n",
       "      <td>1.0</td>\n",
       "      <td>0.057208</td>\n",
       "      <td>0.938751</td>\n",
       "      <td>0.050893</td>\n",
       "      <td>0.945815</td>\n",
       "      <td>...</td>\n",
       "      <td>0.120205</td>\n",
       "      <td>0.143408</td>\n",
       "      <td>0.934019</td>\n",
       "      <td>0.876812</td>\n",
       "      <td>0.020693</td>\n",
       "      <td>0.035886</td>\n",
       "      <td>0.939241</td>\n",
       "      <td>0.888348</td>\n",
       "      <td>20540.0</td>\n",
       "      <td>69170.0</td>\n",
       "    </tr>\n",
       "    <tr>\n",
       "      <th>0</th>\n",
       "      <td>3</td>\n",
       "      <td>8d38959e441e44b2736a3d6a5e36e0ec</td>\n",
       "      <td>{\"cutoff\": \"quantile_0.25\", \"eval_fairness_gro...</td>\n",
       "      <td>23.221709</td>\n",
       "      <td>89710</td>\n",
       "      <td>1.0</td>\n",
       "      <td>0.141721</td>\n",
       "      <td>0.830580</td>\n",
       "      <td>0.126987</td>\n",
       "      <td>0.850235</td>\n",
       "      <td>...</td>\n",
       "      <td>NaN</td>\n",
       "      <td>NaN</td>\n",
       "      <td>NaN</td>\n",
       "      <td>NaN</td>\n",
       "      <td>NaN</td>\n",
       "      <td>NaN</td>\n",
       "      <td>NaN</td>\n",
       "      <td>NaN</td>\n",
       "      <td>NaN</td>\n",
       "      <td>NaN</td>\n",
       "    </tr>\n",
       "    <tr>\n",
       "      <th>0</th>\n",
       "      <td>3</td>\n",
       "      <td>8d38959e441e44b2736a3d6a5e36e0ec</td>\n",
       "      <td>{\"cutoff\": \"quantile_0.25\", \"eval_fairness_gro...</td>\n",
       "      <td>23.221709</td>\n",
       "      <td>89710</td>\n",
       "      <td>1.0</td>\n",
       "      <td>0.141721</td>\n",
       "      <td>0.830580</td>\n",
       "      <td>0.126987</td>\n",
       "      <td>0.850235</td>\n",
       "      <td>...</td>\n",
       "      <td>0.127182</td>\n",
       "      <td>0.163598</td>\n",
       "      <td>0.836507</td>\n",
       "      <td>0.694786</td>\n",
       "      <td>0.064611</td>\n",
       "      <td>0.107440</td>\n",
       "      <td>0.847907</td>\n",
       "      <td>0.720919</td>\n",
       "      <td>20540.0</td>\n",
       "      <td>69170.0</td>\n",
       "    </tr>\n",
       "  </tbody>\n",
       "</table>\n",
       "<p>4 rows × 50 columns</p>\n",
       "</div>"
      ],
      "text/plain": [
       "  run_no                       universe_id  \\\n",
       "0      3  8d38959e441e44b2736a3d6a5e36e0ec   \n",
       "0      3  8d38959e441e44b2736a3d6a5e36e0ec   \n",
       "0      3  8d38959e441e44b2736a3d6a5e36e0ec   \n",
       "0      3  8d38959e441e44b2736a3d6a5e36e0ec   \n",
       "\n",
       "                                   universe_settings  execution_time  \\\n",
       "0  {\"cutoff\": \"quantile_0.1\", \"eval_fairness_grou...       23.221709   \n",
       "0  {\"cutoff\": \"quantile_0.1\", \"eval_fairness_grou...       23.221709   \n",
       "0  {\"cutoff\": \"quantile_0.25\", \"eval_fairness_gro...       23.221709   \n",
       "0  {\"cutoff\": \"quantile_0.25\", \"eval_fairness_gro...       23.221709   \n",
       "\n",
       "   test_size_n  test_size_frac  fair_main_equalized_odds_difference  \\\n",
       "0        89710             1.0                             0.057208   \n",
       "0        89710             1.0                             0.057208   \n",
       "0        89710             1.0                             0.141721   \n",
       "0        89710             1.0                             0.141721   \n",
       "\n",
       "   fair_main_equalized_odds_ratio  fair_main_demographic_parity_difference  \\\n",
       "0                        0.938751                                 0.050893   \n",
       "0                        0.938751                                 0.050893   \n",
       "0                        0.830580                                 0.126987   \n",
       "0                        0.830580                                 0.126987   \n",
       "\n",
       "   fair_main_demographic_parity_ratio  ...  perf_grp_precision_0  \\\n",
       "0                            0.945815  ...                   NaN   \n",
       "0                            0.945815  ...              0.120205   \n",
       "0                            0.850235  ...                   NaN   \n",
       "0                            0.850235  ...              0.127182   \n",
       "\n",
       "   perf_grp_precision_1  perf_grp_false positive rate_0  \\\n",
       "0                   NaN                             NaN   \n",
       "0              0.143408                        0.934019   \n",
       "0                   NaN                             NaN   \n",
       "0              0.163598                        0.836507   \n",
       "\n",
       "   perf_grp_false positive rate_1  perf_grp_false negative rate_0  \\\n",
       "0                             NaN                             NaN   \n",
       "0                        0.876812                        0.020693   \n",
       "0                             NaN                             NaN   \n",
       "0                        0.694786                        0.064611   \n",
       "\n",
       "   perf_grp_false negative rate_1  perf_grp_selection rate_0  \\\n",
       "0                             NaN                        NaN   \n",
       "0                        0.035886                   0.939241   \n",
       "0                             NaN                        NaN   \n",
       "0                        0.107440                   0.847907   \n",
       "\n",
       "   perf_grp_selection rate_1  perf_grp_count_0  perf_grp_count_1  \n",
       "0                        NaN               NaN               NaN  \n",
       "0                   0.888348           20540.0           69170.0  \n",
       "0                        NaN               NaN               NaN  \n",
       "0                   0.720919           20540.0           69170.0  \n",
       "\n",
       "[4 rows x 50 columns]"
      ]
     },
     "execution_count": 64,
     "metadata": {},
     "output_type": "execute_result"
    }
   ],
   "source": [
    "final_output = universe_analysis.generate_final_output(\n",
    "    y_pred_prob=probs_test,\n",
    "    y_test=y_true,\n",
    "    org_test=org_test,\n",
    "    filter_data=filter_sub_universe_data,\n",
    "    cp_metrics_df=cp_metrics_df,\n",
    "    save=True,\n",
    ")\n",
    "final_output"
   ]
  },
  {
   "cell_type": "code",
   "execution_count": null,
   "id": "8b80a1ff",
   "metadata": {
    "papermill": {
     "duration": 0.014815,
     "end_time": "2025-08-19T19:06:00.283144",
     "exception": false,
     "start_time": "2025-08-19T19:06:00.268329",
     "status": "completed"
    },
    "tags": []
   },
   "outputs": [],
   "source": []
  },
  {
   "cell_type": "code",
   "execution_count": null,
   "id": "275c9fad",
   "metadata": {
    "papermill": {
     "duration": 0.014313,
     "end_time": "2025-08-19T19:06:00.312011",
     "exception": false,
     "start_time": "2025-08-19T19:06:00.297698",
     "status": "completed"
    },
    "tags": []
   },
   "outputs": [],
   "source": []
  }
 ],
 "metadata": {
  "celltoolbar": "Tags",
  "kernelspec": {
   "display_name": "Python (CMA Fairness)",
   "language": "python",
   "name": "cma_fair_env"
  },
  "language_info": {
   "codemirror_mode": {
    "name": "ipython",
    "version": 3
   },
   "file_extension": ".py",
   "mimetype": "text/x-python",
   "name": "python",
   "nbconvert_exporter": "python",
   "pygments_lexer": "ipython3",
   "version": "3.10.12"
  },
  "papermill": {
   "default_parameters": {},
   "duration": 33.830848,
   "end_time": "2025-08-19T19:06:01.252691",
   "environment_variables": {},
   "exception": null,
   "input_path": "universe_analysis.ipynb",
   "output_path": "output/runs/3/notebooks/m_3-8d38959e441e44b2736a3d6a5e36e0ec.ipynb",
   "parameters": {
    "output_dir": "output",
    "run_no": "3",
    "seed": "2023",
    "universe": "{\"cutoff\": [\"quantile_0.1\", \"quantile_0.25\"], \"eval_fairness_grouping\": [\"majority-minority\", \"nationality-all\"], \"exclude_features\": \"nationality\", \"exclude_subgroups\": \"drop-non-german\", \"model\": \"penalized_logreg\", \"scale\": \"scale\", \"training_size\": \"1k\", \"training_year\": \"2010_14\"}",
    "universe_id": "8d38959e441e44b2736a3d6a5e36e0ec"
   },
   "start_time": "2025-08-19T19:05:27.421843",
   "version": "2.6.0"
  }
 },
 "nbformat": 4,
 "nbformat_minor": 5
}