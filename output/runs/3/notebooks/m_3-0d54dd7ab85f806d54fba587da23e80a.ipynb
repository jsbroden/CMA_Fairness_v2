{
 "cells": [
  {
   "cell_type": "markdown",
   "id": "ef23dbb3",
   "metadata": {
    "papermill": {
     "duration": 0.009111,
     "end_time": "2025-08-19T18:49:32.233506",
     "exception": false,
     "start_time": "2025-08-19T18:49:32.224395",
     "status": "completed"
    },
    "tags": []
   },
   "source": [
    "# Setup"
   ]
  },
  {
   "cell_type": "code",
   "execution_count": 1,
   "id": "0bc8e7dc",
   "metadata": {
    "execution": {
     "iopub.execute_input": "2025-08-19T18:49:32.254145Z",
     "iopub.status.busy": "2025-08-19T18:49:32.252546Z",
     "iopub.status.idle": "2025-08-19T18:49:32.275179Z",
     "shell.execute_reply": "2025-08-19T18:49:32.274100Z"
    },
    "papermill": {
     "duration": 0.035055,
     "end_time": "2025-08-19T18:49:32.277058",
     "exception": false,
     "start_time": "2025-08-19T18:49:32.242003",
     "status": "completed"
    },
    "tags": []
   },
   "outputs": [
    {
     "name": "stdout",
     "output_type": "stream",
     "text": [
      "/dss/dsshome1/0C/ra93lal2/cma/CMA_Fairness_v2\n"
     ]
    },
    {
     "name": "stderr",
     "output_type": "stream",
     "text": [
      "/dss/dsshome1/0C/ra93lal2/.local/share/virtualenvs/CMA_Fairness_v2-3j10GkSs/lib/python3.10/site-packages/IPython/core/magics/osm.py:393: UserWarning: This is now an optional IPython functionality, using bookmarks requires you to install the `pickleshare` library.\n",
      "  bkms = self.shell.db.get('bookmarks', {})\n",
      "/dss/dsshome1/0C/ra93lal2/.local/share/virtualenvs/CMA_Fairness_v2-3j10GkSs/lib/python3.10/site-packages/IPython/core/magics/osm.py:417: UserWarning: This is now an optional IPython functionality, setting dhist requires you to install the `pickleshare` library.\n",
      "  self.shell.db['dhist'] = compress_dhist(dhist)[-100:]\n"
     ]
    }
   ],
   "source": [
    "%cd ~/cma/CMA_Fairness_v2"
   ]
  },
  {
   "cell_type": "markdown",
   "id": "9d235661",
   "metadata": {
    "papermill": {
     "duration": 0.010139,
     "end_time": "2025-08-19T18:49:32.302113",
     "exception": false,
     "start_time": "2025-08-19T18:49:32.291974",
     "status": "completed"
    },
    "tags": []
   },
   "source": [
    "The following cell holds the definition of our parameters, these values can be overriden by rendering the with e.g. the following command:\n",
    "\n",
    "papermill -p alpha 0.2 -p ratio 0.3 universe_analysis.ipynb output/test_run.ipynb"
   ]
  },
  {
   "cell_type": "code",
   "execution_count": 2,
   "id": "4a789d8e",
   "metadata": {
    "execution": {
     "iopub.execute_input": "2025-08-19T18:49:32.321756Z",
     "iopub.status.busy": "2025-08-19T18:49:32.321246Z",
     "iopub.status.idle": "2025-08-19T18:49:32.326651Z",
     "shell.execute_reply": "2025-08-19T18:49:32.325771Z"
    },
    "papermill": {
     "duration": 0.016955,
     "end_time": "2025-08-19T18:49:32.328104",
     "exception": false,
     "start_time": "2025-08-19T18:49:32.311149",
     "status": "completed"
    },
    "tags": []
   },
   "outputs": [
    {
     "name": "stdout",
     "output_type": "stream",
     "text": [
      "Current working directory: /dss/dsshome1/0C/ra93lal2/cma/CMA_Fairness_v2\n"
     ]
    }
   ],
   "source": [
    "import os\n",
    "print(\"Current working directory:\", os.getcwd())"
   ]
  },
  {
   "cell_type": "code",
   "execution_count": 3,
   "id": "4132aaed",
   "metadata": {
    "execution": {
     "iopub.execute_input": "2025-08-19T18:49:32.349219Z",
     "iopub.status.busy": "2025-08-19T18:49:32.348095Z",
     "iopub.status.idle": "2025-08-19T18:49:32.446817Z",
     "shell.execute_reply": "2025-08-19T18:49:32.445422Z"
    },
    "papermill": {
     "duration": 0.112602,
     "end_time": "2025-08-19T18:49:32.450023",
     "exception": false,
     "start_time": "2025-08-19T18:49:32.337421",
     "status": "completed"
    },
    "tags": [
     "parameters"
    ]
   },
   "outputs": [],
   "source": [
    "run_no = 0\n",
    "universe_id = \"test\"\n",
    "universe = {\n",
    "    \"training_size\": \"5k\", # \"25k\", \"5k\", \"1k\"\n",
    "    \"training_year\": \"2012_14\", # \"2014\", \"2012_14\", \"2010_14\"\n",
    "    \"scale\": \"scale\", # \"scale\", \"do-not-scale\",\n",
    "    \"model\": \"elasticnet\", # \"logreg\", \"penalized_logreg\", \"rf\", \"gbm\", \"elasticnet\"\n",
    "    \"cutoff\": [\"quantile_0.15\", \"quantile_0.30\"],\n",
    "    \"exclude_features\": \"age\", # \"none\", \"nationality\", \"sex\", \"nationality-sex\", \"age\"\n",
    "    \"exclude_subgroups\": \"drop-non-german\", # \"keep-all\", \"drop-non-german\"\n",
    "    \"eval_fairness_grouping\": [\"majority-minority\", \"nationality-all\"]\n",
    "}\n",
    "\n",
    "output_dir=\"./output\"\n",
    "seed=0"
   ]
  },
  {
   "cell_type": "code",
   "execution_count": 4,
   "id": "06f2ed34",
   "metadata": {
    "execution": {
     "iopub.execute_input": "2025-08-19T18:49:32.490329Z",
     "iopub.status.busy": "2025-08-19T18:49:32.488770Z",
     "iopub.status.idle": "2025-08-19T18:49:32.496455Z",
     "shell.execute_reply": "2025-08-19T18:49:32.495364Z"
    },
    "papermill": {
     "duration": 0.025484,
     "end_time": "2025-08-19T18:49:32.498130",
     "exception": false,
     "start_time": "2025-08-19T18:49:32.472646",
     "status": "completed"
    },
    "tags": [
     "injected-parameters"
    ]
   },
   "outputs": [],
   "source": [
    "# Parameters\n",
    "universe_id = \"0d54dd7ab85f806d54fba587da23e80a\"\n",
    "run_no = \"3\"\n",
    "universe = \"{\\\"cutoff\\\": [\\\"quantile_0.1\\\", \\\"quantile_0.25\\\"], \\\"eval_fairness_grouping\\\": [\\\"majority-minority\\\", \\\"nationality-all\\\"], \\\"exclude_features\\\": \\\"nationality\\\", \\\"exclude_subgroups\\\": \\\"keep-all\\\", \\\"model\\\": \\\"penalized_logreg\\\", \\\"scale\\\": \\\"scale\\\", \\\"training_size\\\": \\\"1k\\\", \\\"training_year\\\": \\\"2014\\\"}\"\n",
    "output_dir = \"output\"\n",
    "seed = \"2023\"\n"
   ]
  },
  {
   "cell_type": "code",
   "execution_count": 5,
   "id": "a5d7941f",
   "metadata": {
    "execution": {
     "iopub.execute_input": "2025-08-19T18:49:32.526450Z",
     "iopub.status.busy": "2025-08-19T18:49:32.524339Z",
     "iopub.status.idle": "2025-08-19T18:49:32.534711Z",
     "shell.execute_reply": "2025-08-19T18:49:32.532922Z"
    },
    "papermill": {
     "duration": 0.025398,
     "end_time": "2025-08-19T18:49:32.536229",
     "exception": false,
     "start_time": "2025-08-19T18:49:32.510831",
     "status": "completed"
    },
    "tags": []
   },
   "outputs": [],
   "source": [
    "import json\n",
    "if isinstance(universe, str):\n",
    "    universe = json.loads(universe)"
   ]
  },
  {
   "cell_type": "code",
   "execution_count": 6,
   "id": "7076ccb1",
   "metadata": {
    "execution": {
     "iopub.execute_input": "2025-08-19T18:49:32.566527Z",
     "iopub.status.busy": "2025-08-19T18:49:32.566209Z",
     "iopub.status.idle": "2025-08-19T18:49:32.634261Z",
     "shell.execute_reply": "2025-08-19T18:49:32.633017Z"
    },
    "papermill": {
     "duration": 0.091084,
     "end_time": "2025-08-19T18:49:32.637284",
     "exception": false,
     "start_time": "2025-08-19T18:49:32.546200",
     "status": "completed"
    },
    "tags": []
   },
   "outputs": [],
   "source": [
    "# Auto-reload the custom package\n",
    "%load_ext autoreload\n",
    "%autoreload 1\n",
    "%aimport fairness_multiverse"
   ]
  },
  {
   "cell_type": "code",
   "execution_count": 7,
   "id": "94c8eb93",
   "metadata": {
    "execution": {
     "iopub.execute_input": "2025-08-19T18:49:32.665821Z",
     "iopub.status.busy": "2025-08-19T18:49:32.664845Z",
     "iopub.status.idle": "2025-08-19T18:49:34.532292Z",
     "shell.execute_reply": "2025-08-19T18:49:34.531244Z"
    },
    "papermill": {
     "duration": 1.880917,
     "end_time": "2025-08-19T18:49:34.534497",
     "exception": false,
     "start_time": "2025-08-19T18:49:32.653580",
     "status": "completed"
    },
    "tags": []
   },
   "outputs": [],
   "source": [
    "from fairness_multiverse.universe import UniverseAnalysis\n",
    "\n",
    "universe_analysis = UniverseAnalysis(\n",
    "    run_no = run_no,\n",
    "    universe_id = universe_id,\n",
    "    universe = universe,\n",
    "    output_dir=output_dir,\n",
    ")"
   ]
  },
  {
   "cell_type": "code",
   "execution_count": 8,
   "id": "2a6381cf",
   "metadata": {
    "execution": {
     "iopub.execute_input": "2025-08-19T18:49:34.556244Z",
     "iopub.status.busy": "2025-08-19T18:49:34.555510Z",
     "iopub.status.idle": "2025-08-19T18:49:34.569477Z",
     "shell.execute_reply": "2025-08-19T18:49:34.568216Z"
    },
    "papermill": {
     "duration": 0.025855,
     "end_time": "2025-08-19T18:49:34.571163",
     "exception": false,
     "start_time": "2025-08-19T18:49:34.545308",
     "status": "completed"
    },
    "tags": []
   },
   "outputs": [
    {
     "name": "stdout",
     "output_type": "stream",
     "text": [
      "Using Seed: 2023\n"
     ]
    }
   ],
   "source": [
    "import numpy as np\n",
    "parsed_seed = int(seed)\n",
    "np.random.seed(parsed_seed)\n",
    "print(f\"Using Seed: {parsed_seed}\")"
   ]
  },
  {
   "cell_type": "markdown",
   "id": "b6e958b4",
   "metadata": {
    "papermill": {
     "duration": 0.028924,
     "end_time": "2025-08-19T18:49:34.612538",
     "exception": false,
     "start_time": "2025-08-19T18:49:34.583614",
     "status": "completed"
    },
    "tags": []
   },
   "source": [
    "# Loading Data"
   ]
  },
  {
   "cell_type": "code",
   "execution_count": 9,
   "id": "98701482",
   "metadata": {
    "execution": {
     "iopub.execute_input": "2025-08-19T18:49:34.645008Z",
     "iopub.status.busy": "2025-08-19T18:49:34.644627Z",
     "iopub.status.idle": "2025-08-19T18:49:45.341574Z",
     "shell.execute_reply": "2025-08-19T18:49:45.340516Z"
    },
    "papermill": {
     "duration": 10.710988,
     "end_time": "2025-08-19T18:49:45.343188",
     "exception": false,
     "start_time": "2025-08-19T18:49:34.632200",
     "status": "completed"
    },
    "tags": []
   },
   "outputs": [
    {
     "name": "stdout",
     "output_type": "stream",
     "text": [
      "Loading SIAB data from cache: data/siab_cached.csv.gz\n"
     ]
    },
    {
     "name": "stdout",
     "output_type": "stream",
     "text": [
      "(643690, 164)\n"
     ]
    }
   ],
   "source": [
    "from pathlib import Path\n",
    "import pandas as pd\n",
    "\n",
    "# File paths\n",
    "raw_file = Path(\"data/raw/siab.csv\")\n",
    "cache_file = Path(\"data/siab_cached.csv.gz\")\n",
    "\n",
    "# Ensure cache directory exists\n",
    "cache_file.parent.mkdir(parents=True, exist_ok=True)\n",
    "\n",
    "# Load with simple caching\n",
    "if cache_file.exists():\n",
    "    print(f\"Loading SIAB data from cache: {cache_file}\")\n",
    "    siab = pd.read_csv(cache_file, compression='gzip')\n",
    "else:\n",
    "    print(f\"Cache not found. Reading raw SIAB data: {raw_file}\")\n",
    "    siab = pd.read_csv(raw_file)\n",
    "    siab.to_csv(cache_file, index=False, compression='gzip')\n",
    "    print(f\"Cached SIAB data to: {cache_file}\")\n",
    "\n",
    "print(siab.shape)"
   ]
  },
  {
   "cell_type": "code",
   "execution_count": 10,
   "id": "058d2abb",
   "metadata": {
    "execution": {
     "iopub.execute_input": "2025-08-19T18:49:45.368144Z",
     "iopub.status.busy": "2025-08-19T18:49:45.366975Z",
     "iopub.status.idle": "2025-08-19T18:49:45.592618Z",
     "shell.execute_reply": "2025-08-19T18:49:45.591391Z"
    },
    "papermill": {
     "duration": 0.241959,
     "end_time": "2025-08-19T18:49:45.597353",
     "exception": false,
     "start_time": "2025-08-19T18:49:45.355394",
     "status": "completed"
    },
    "tags": []
   },
   "outputs": [
    {
     "data": {
      "text/html": [
       "<div>\n",
       "<style scoped>\n",
       "    .dataframe tbody tr th:only-of-type {\n",
       "        vertical-align: middle;\n",
       "    }\n",
       "\n",
       "    .dataframe tbody tr th {\n",
       "        vertical-align: top;\n",
       "    }\n",
       "\n",
       "    .dataframe thead th {\n",
       "        text-align: right;\n",
       "    }\n",
       "</style>\n",
       "<table border=\"1\" class=\"dataframe\">\n",
       "  <thead>\n",
       "    <tr style=\"text-align: right;\">\n",
       "      <th></th>\n",
       "      <th>persnr</th>\n",
       "      <th>year</th>\n",
       "      <th>nrEntry</th>\n",
       "      <th>ltue</th>\n",
       "      <th>employed_before</th>\n",
       "      <th>receipt_leh_before</th>\n",
       "      <th>receipt_lhg_before</th>\n",
       "      <th>se_before</th>\n",
       "      <th>ASU_notue_seeking_before</th>\n",
       "      <th>ASU_other_before</th>\n",
       "      <th>...</th>\n",
       "      <th>minijob_tot_dur_byage</th>\n",
       "      <th>ft_tot_dur_byage</th>\n",
       "      <th>befrist_tot_dur_byage</th>\n",
       "      <th>leih_tot_dur_byage</th>\n",
       "      <th>LHG_tot_dur_byage</th>\n",
       "      <th>LEH_tot_dur_byage</th>\n",
       "      <th>almp_tot_dur_byage</th>\n",
       "      <th>almp_aw_tot_dur_byage</th>\n",
       "      <th>se_tot_dur_byage</th>\n",
       "      <th>seeking1_tot_dur_byage</th>\n",
       "    </tr>\n",
       "  </thead>\n",
       "  <tbody>\n",
       "    <tr>\n",
       "      <th>0</th>\n",
       "      <td>7</td>\n",
       "      <td>2015</td>\n",
       "      <td>1</td>\n",
       "      <td>0</td>\n",
       "      <td>1</td>\n",
       "      <td>0</td>\n",
       "      <td>0</td>\n",
       "      <td>0</td>\n",
       "      <td>1</td>\n",
       "      <td>0</td>\n",
       "      <td>...</td>\n",
       "      <td>0.000000</td>\n",
       "      <td>0.000000</td>\n",
       "      <td>15.043478</td>\n",
       "      <td>0.000000</td>\n",
       "      <td>0.000000</td>\n",
       "      <td>0.000000</td>\n",
       "      <td>0.000000</td>\n",
       "      <td>0.000000</td>\n",
       "      <td>0.000000</td>\n",
       "      <td>0.000000</td>\n",
       "    </tr>\n",
       "    <tr>\n",
       "      <th>1</th>\n",
       "      <td>18</td>\n",
       "      <td>2010</td>\n",
       "      <td>1</td>\n",
       "      <td>1</td>\n",
       "      <td>0</td>\n",
       "      <td>0</td>\n",
       "      <td>0</td>\n",
       "      <td>0</td>\n",
       "      <td>0</td>\n",
       "      <td>0</td>\n",
       "      <td>...</td>\n",
       "      <td>0.000000</td>\n",
       "      <td>0.000000</td>\n",
       "      <td>0.000000</td>\n",
       "      <td>0.000000</td>\n",
       "      <td>0.000000</td>\n",
       "      <td>0.000000</td>\n",
       "      <td>0.000000</td>\n",
       "      <td>0.000000</td>\n",
       "      <td>0.000000</td>\n",
       "      <td>0.000000</td>\n",
       "    </tr>\n",
       "    <tr>\n",
       "      <th>2</th>\n",
       "      <td>18</td>\n",
       "      <td>2011</td>\n",
       "      <td>2</td>\n",
       "      <td>0</td>\n",
       "      <td>1</td>\n",
       "      <td>0</td>\n",
       "      <td>1</td>\n",
       "      <td>0</td>\n",
       "      <td>1</td>\n",
       "      <td>0</td>\n",
       "      <td>...</td>\n",
       "      <td>2.714286</td>\n",
       "      <td>2.714286</td>\n",
       "      <td>0.000000</td>\n",
       "      <td>0.000000</td>\n",
       "      <td>10.775510</td>\n",
       "      <td>0.000000</td>\n",
       "      <td>8.367347</td>\n",
       "      <td>0.000000</td>\n",
       "      <td>0.000000</td>\n",
       "      <td>9.836735</td>\n",
       "    </tr>\n",
       "    <tr>\n",
       "      <th>3</th>\n",
       "      <td>18</td>\n",
       "      <td>2012</td>\n",
       "      <td>3</td>\n",
       "      <td>0</td>\n",
       "      <td>1</td>\n",
       "      <td>0</td>\n",
       "      <td>1</td>\n",
       "      <td>0</td>\n",
       "      <td>1</td>\n",
       "      <td>0</td>\n",
       "      <td>...</td>\n",
       "      <td>4.200000</td>\n",
       "      <td>4.200000</td>\n",
       "      <td>0.000000</td>\n",
       "      <td>0.000000</td>\n",
       "      <td>12.100000</td>\n",
       "      <td>0.000000</td>\n",
       "      <td>9.400000</td>\n",
       "      <td>0.000000</td>\n",
       "      <td>0.000000</td>\n",
       "      <td>9.960000</td>\n",
       "    </tr>\n",
       "    <tr>\n",
       "      <th>4</th>\n",
       "      <td>18</td>\n",
       "      <td>2012</td>\n",
       "      <td>4</td>\n",
       "      <td>0</td>\n",
       "      <td>1</td>\n",
       "      <td>0</td>\n",
       "      <td>1</td>\n",
       "      <td>0</td>\n",
       "      <td>1</td>\n",
       "      <td>0</td>\n",
       "      <td>...</td>\n",
       "      <td>5.460000</td>\n",
       "      <td>5.460000</td>\n",
       "      <td>0.000000</td>\n",
       "      <td>0.000000</td>\n",
       "      <td>13.360000</td>\n",
       "      <td>0.000000</td>\n",
       "      <td>10.320000</td>\n",
       "      <td>0.000000</td>\n",
       "      <td>0.000000</td>\n",
       "      <td>10.280000</td>\n",
       "    </tr>\n",
       "    <tr>\n",
       "      <th>...</th>\n",
       "      <td>...</td>\n",
       "      <td>...</td>\n",
       "      <td>...</td>\n",
       "      <td>...</td>\n",
       "      <td>...</td>\n",
       "      <td>...</td>\n",
       "      <td>...</td>\n",
       "      <td>...</td>\n",
       "      <td>...</td>\n",
       "      <td>...</td>\n",
       "      <td>...</td>\n",
       "      <td>...</td>\n",
       "      <td>...</td>\n",
       "      <td>...</td>\n",
       "      <td>...</td>\n",
       "      <td>...</td>\n",
       "      <td>...</td>\n",
       "      <td>...</td>\n",
       "      <td>...</td>\n",
       "      <td>...</td>\n",
       "      <td>...</td>\n",
       "    </tr>\n",
       "    <tr>\n",
       "      <th>643685</th>\n",
       "      <td>1827860</td>\n",
       "      <td>2013</td>\n",
       "      <td>1</td>\n",
       "      <td>0</td>\n",
       "      <td>0</td>\n",
       "      <td>0</td>\n",
       "      <td>1</td>\n",
       "      <td>0</td>\n",
       "      <td>0</td>\n",
       "      <td>1</td>\n",
       "      <td>...</td>\n",
       "      <td>0.000000</td>\n",
       "      <td>0.000000</td>\n",
       "      <td>0.000000</td>\n",
       "      <td>0.000000</td>\n",
       "      <td>0.612903</td>\n",
       "      <td>0.000000</td>\n",
       "      <td>0.000000</td>\n",
       "      <td>0.000000</td>\n",
       "      <td>0.000000</td>\n",
       "      <td>0.000000</td>\n",
       "    </tr>\n",
       "    <tr>\n",
       "      <th>643686</th>\n",
       "      <td>1827860</td>\n",
       "      <td>2015</td>\n",
       "      <td>2</td>\n",
       "      <td>1</td>\n",
       "      <td>0</td>\n",
       "      <td>0</td>\n",
       "      <td>1</td>\n",
       "      <td>0</td>\n",
       "      <td>1</td>\n",
       "      <td>0</td>\n",
       "      <td>...</td>\n",
       "      <td>0.000000</td>\n",
       "      <td>0.000000</td>\n",
       "      <td>0.212121</td>\n",
       "      <td>0.212121</td>\n",
       "      <td>17.363636</td>\n",
       "      <td>0.000000</td>\n",
       "      <td>8.909091</td>\n",
       "      <td>0.000000</td>\n",
       "      <td>0.000000</td>\n",
       "      <td>7.121212</td>\n",
       "    </tr>\n",
       "    <tr>\n",
       "      <th>643687</th>\n",
       "      <td>1827860</td>\n",
       "      <td>2016</td>\n",
       "      <td>3</td>\n",
       "      <td>1</td>\n",
       "      <td>0</td>\n",
       "      <td>0</td>\n",
       "      <td>1</td>\n",
       "      <td>1</td>\n",
       "      <td>0</td>\n",
       "      <td>1</td>\n",
       "      <td>...</td>\n",
       "      <td>0.000000</td>\n",
       "      <td>0.000000</td>\n",
       "      <td>0.294118</td>\n",
       "      <td>0.205882</td>\n",
       "      <td>34.705882</td>\n",
       "      <td>0.000000</td>\n",
       "      <td>10.352941</td>\n",
       "      <td>1.705882</td>\n",
       "      <td>1.705882</td>\n",
       "      <td>23.911765</td>\n",
       "    </tr>\n",
       "    <tr>\n",
       "      <th>643688</th>\n",
       "      <td>1827869</td>\n",
       "      <td>2013</td>\n",
       "      <td>1</td>\n",
       "      <td>1</td>\n",
       "      <td>1</td>\n",
       "      <td>0</td>\n",
       "      <td>0</td>\n",
       "      <td>0</td>\n",
       "      <td>1</td>\n",
       "      <td>0</td>\n",
       "      <td>...</td>\n",
       "      <td>0.000000</td>\n",
       "      <td>0.000000</td>\n",
       "      <td>0.000000</td>\n",
       "      <td>0.000000</td>\n",
       "      <td>0.000000</td>\n",
       "      <td>0.525424</td>\n",
       "      <td>0.000000</td>\n",
       "      <td>0.000000</td>\n",
       "      <td>0.000000</td>\n",
       "      <td>0.000000</td>\n",
       "    </tr>\n",
       "    <tr>\n",
       "      <th>643689</th>\n",
       "      <td>1827869</td>\n",
       "      <td>2014</td>\n",
       "      <td>2</td>\n",
       "      <td>0</td>\n",
       "      <td>0</td>\n",
       "      <td>1</td>\n",
       "      <td>0</td>\n",
       "      <td>0</td>\n",
       "      <td>1</td>\n",
       "      <td>0</td>\n",
       "      <td>...</td>\n",
       "      <td>0.000000</td>\n",
       "      <td>0.666667</td>\n",
       "      <td>0.666667</td>\n",
       "      <td>0.000000</td>\n",
       "      <td>0.000000</td>\n",
       "      <td>8.950000</td>\n",
       "      <td>1.033333</td>\n",
       "      <td>0.083333</td>\n",
       "      <td>0.083333</td>\n",
       "      <td>8.133333</td>\n",
       "    </tr>\n",
       "  </tbody>\n",
       "</table>\n",
       "<p>643690 rows × 164 columns</p>\n",
       "</div>"
      ],
      "text/plain": [
       "         persnr  year  nrEntry  ltue  employed_before  receipt_leh_before  \\\n",
       "0             7  2015        1     0                1                   0   \n",
       "1            18  2010        1     1                0                   0   \n",
       "2            18  2011        2     0                1                   0   \n",
       "3            18  2012        3     0                1                   0   \n",
       "4            18  2012        4     0                1                   0   \n",
       "...         ...   ...      ...   ...              ...                 ...   \n",
       "643685  1827860  2013        1     0                0                   0   \n",
       "643686  1827860  2015        2     1                0                   0   \n",
       "643687  1827860  2016        3     1                0                   0   \n",
       "643688  1827869  2013        1     1                1                   0   \n",
       "643689  1827869  2014        2     0                0                   1   \n",
       "\n",
       "        receipt_lhg_before  se_before  ASU_notue_seeking_before  \\\n",
       "0                        0          0                         1   \n",
       "1                        0          0                         0   \n",
       "2                        1          0                         1   \n",
       "3                        1          0                         1   \n",
       "4                        1          0                         1   \n",
       "...                    ...        ...                       ...   \n",
       "643685                   1          0                         0   \n",
       "643686                   1          0                         1   \n",
       "643687                   1          1                         0   \n",
       "643688                   0          0                         1   \n",
       "643689                   0          0                         1   \n",
       "\n",
       "        ASU_other_before  ...  minijob_tot_dur_byage  ft_tot_dur_byage  \\\n",
       "0                      0  ...               0.000000          0.000000   \n",
       "1                      0  ...               0.000000          0.000000   \n",
       "2                      0  ...               2.714286          2.714286   \n",
       "3                      0  ...               4.200000          4.200000   \n",
       "4                      0  ...               5.460000          5.460000   \n",
       "...                  ...  ...                    ...               ...   \n",
       "643685                 1  ...               0.000000          0.000000   \n",
       "643686                 0  ...               0.000000          0.000000   \n",
       "643687                 1  ...               0.000000          0.000000   \n",
       "643688                 0  ...               0.000000          0.000000   \n",
       "643689                 0  ...               0.000000          0.666667   \n",
       "\n",
       "        befrist_tot_dur_byage  leih_tot_dur_byage  LHG_tot_dur_byage  \\\n",
       "0                   15.043478            0.000000           0.000000   \n",
       "1                    0.000000            0.000000           0.000000   \n",
       "2                    0.000000            0.000000          10.775510   \n",
       "3                    0.000000            0.000000          12.100000   \n",
       "4                    0.000000            0.000000          13.360000   \n",
       "...                       ...                 ...                ...   \n",
       "643685               0.000000            0.000000           0.612903   \n",
       "643686               0.212121            0.212121          17.363636   \n",
       "643687               0.294118            0.205882          34.705882   \n",
       "643688               0.000000            0.000000           0.000000   \n",
       "643689               0.666667            0.000000           0.000000   \n",
       "\n",
       "        LEH_tot_dur_byage  almp_tot_dur_byage  almp_aw_tot_dur_byage  \\\n",
       "0                0.000000            0.000000               0.000000   \n",
       "1                0.000000            0.000000               0.000000   \n",
       "2                0.000000            8.367347               0.000000   \n",
       "3                0.000000            9.400000               0.000000   \n",
       "4                0.000000           10.320000               0.000000   \n",
       "...                   ...                 ...                    ...   \n",
       "643685           0.000000            0.000000               0.000000   \n",
       "643686           0.000000            8.909091               0.000000   \n",
       "643687           0.000000           10.352941               1.705882   \n",
       "643688           0.525424            0.000000               0.000000   \n",
       "643689           8.950000            1.033333               0.083333   \n",
       "\n",
       "        se_tot_dur_byage  seeking1_tot_dur_byage  \n",
       "0               0.000000                0.000000  \n",
       "1               0.000000                0.000000  \n",
       "2               0.000000                9.836735  \n",
       "3               0.000000                9.960000  \n",
       "4               0.000000               10.280000  \n",
       "...                  ...                     ...  \n",
       "643685          0.000000                0.000000  \n",
       "643686          0.000000                7.121212  \n",
       "643687          1.705882               23.911765  \n",
       "643688          0.000000                0.000000  \n",
       "643689          0.083333                8.133333  \n",
       "\n",
       "[643690 rows x 164 columns]"
      ]
     },
     "execution_count": 10,
     "metadata": {},
     "output_type": "execute_result"
    }
   ],
   "source": [
    "siab"
   ]
  },
  {
   "cell_type": "markdown",
   "id": "1f87e805",
   "metadata": {
    "papermill": {
     "duration": 0.010389,
     "end_time": "2025-08-19T18:49:45.624827",
     "exception": false,
     "start_time": "2025-08-19T18:49:45.614438",
     "status": "completed"
    },
    "tags": []
   },
   "source": [
    "# Splitting Data and Setting Training Data Size"
   ]
  },
  {
   "cell_type": "code",
   "execution_count": 11,
   "id": "910ae358",
   "metadata": {
    "execution": {
     "iopub.execute_input": "2025-08-19T18:49:45.647868Z",
     "iopub.status.busy": "2025-08-19T18:49:45.646510Z",
     "iopub.status.idle": "2025-08-19T18:49:45.923421Z",
     "shell.execute_reply": "2025-08-19T18:49:45.922319Z"
    },
    "papermill": {
     "duration": 0.292746,
     "end_time": "2025-08-19T18:49:45.927138",
     "exception": false,
     "start_time": "2025-08-19T18:49:45.634392",
     "status": "completed"
    },
    "tags": []
   },
   "outputs": [],
   "source": [
    "from fairness_multiverse.universe import sample_by_year_size\n",
    "\n",
    "siab_train = sample_by_year_size(siab,\n",
    "                               training_year=universe[\"training_year\"],\n",
    "                               training_size=universe[\"training_size\"])"
   ]
  },
  {
   "cell_type": "code",
   "execution_count": 12,
   "id": "919c8ff5",
   "metadata": {
    "execution": {
     "iopub.execute_input": "2025-08-19T18:49:45.963548Z",
     "iopub.status.busy": "2025-08-19T18:49:45.962941Z",
     "iopub.status.idle": "2025-08-19T18:49:45.972036Z",
     "shell.execute_reply": "2025-08-19T18:49:45.970936Z"
    },
    "papermill": {
     "duration": 0.023971,
     "end_time": "2025-08-19T18:49:45.973517",
     "exception": false,
     "start_time": "2025-08-19T18:49:45.949546",
     "status": "completed"
    },
    "tags": []
   },
   "outputs": [
    {
     "data": {
      "text/plain": [
       "(1000, 164)"
      ]
     },
     "execution_count": 12,
     "metadata": {},
     "output_type": "execute_result"
    }
   ],
   "source": [
    "siab_train.shape"
   ]
  },
  {
   "cell_type": "code",
   "execution_count": 13,
   "id": "feb13bf4",
   "metadata": {
    "execution": {
     "iopub.execute_input": "2025-08-19T18:49:45.996219Z",
     "iopub.status.busy": "2025-08-19T18:49:45.995229Z",
     "iopub.status.idle": "2025-08-19T18:49:46.017264Z",
     "shell.execute_reply": "2025-08-19T18:49:46.016073Z"
    },
    "papermill": {
     "duration": 0.034803,
     "end_time": "2025-08-19T18:49:46.018886",
     "exception": false,
     "start_time": "2025-08-19T18:49:45.984083",
     "status": "completed"
    },
    "tags": []
   },
   "outputs": [
    {
     "data": {
      "text/plain": [
       "year\n",
       "2014    1000\n",
       "dtype: int64"
      ]
     },
     "metadata": {},
     "output_type": "display_data"
    }
   ],
   "source": [
    "display(siab_train.groupby(\"year\").size())"
   ]
  },
  {
   "cell_type": "code",
   "execution_count": 14,
   "id": "0997782f",
   "metadata": {
    "execution": {
     "iopub.execute_input": "2025-08-19T18:49:46.047844Z",
     "iopub.status.busy": "2025-08-19T18:49:46.046993Z",
     "iopub.status.idle": "2025-08-19T18:49:46.339548Z",
     "shell.execute_reply": "2025-08-19T18:49:46.338882Z"
    },
    "papermill": {
     "duration": 0.306161,
     "end_time": "2025-08-19T18:49:46.340989",
     "exception": false,
     "start_time": "2025-08-19T18:49:46.034828",
     "status": "completed"
    },
    "tags": []
   },
   "outputs": [],
   "source": [
    "#siab_train = siab_s[siab_s.year < 2015]\n",
    "siab_calib = siab[siab.year == 2015]\n",
    "siab_test = siab[siab.year == 2016]"
   ]
  },
  {
   "cell_type": "code",
   "execution_count": 15,
   "id": "2c1e4012",
   "metadata": {
    "execution": {
     "iopub.execute_input": "2025-08-19T18:49:46.363986Z",
     "iopub.status.busy": "2025-08-19T18:49:46.362904Z",
     "iopub.status.idle": "2025-08-19T18:49:46.373394Z",
     "shell.execute_reply": "2025-08-19T18:49:46.370458Z"
    },
    "papermill": {
     "duration": 0.023947,
     "end_time": "2025-08-19T18:49:46.375454",
     "exception": false,
     "start_time": "2025-08-19T18:49:46.351507",
     "status": "completed"
    },
    "tags": []
   },
   "outputs": [],
   "source": [
    "#siab_calib.shape"
   ]
  },
  {
   "cell_type": "code",
   "execution_count": 16,
   "id": "f66b54ca",
   "metadata": {
    "execution": {
     "iopub.execute_input": "2025-08-19T18:49:46.401250Z",
     "iopub.status.busy": "2025-08-19T18:49:46.400289Z",
     "iopub.status.idle": "2025-08-19T18:49:46.406694Z",
     "shell.execute_reply": "2025-08-19T18:49:46.405436Z"
    },
    "papermill": {
     "duration": 0.019775,
     "end_time": "2025-08-19T18:49:46.408029",
     "exception": false,
     "start_time": "2025-08-19T18:49:46.388254",
     "status": "completed"
    },
    "tags": []
   },
   "outputs": [],
   "source": [
    "#siab_test.shape"
   ]
  },
  {
   "cell_type": "code",
   "execution_count": 17,
   "id": "27e4384d",
   "metadata": {
    "execution": {
     "iopub.execute_input": "2025-08-19T18:49:46.434240Z",
     "iopub.status.busy": "2025-08-19T18:49:46.433257Z",
     "iopub.status.idle": "2025-08-19T18:49:46.444834Z",
     "shell.execute_reply": "2025-08-19T18:49:46.441469Z"
    },
    "papermill": {
     "duration": 0.03413,
     "end_time": "2025-08-19T18:49:46.455789",
     "exception": false,
     "start_time": "2025-08-19T18:49:46.421659",
     "status": "completed"
    },
    "tags": []
   },
   "outputs": [],
   "source": [
    "X_train = siab_train.iloc[:,4:164]\n",
    "y_train = siab_train.iloc[:, [3]]"
   ]
  },
  {
   "cell_type": "code",
   "execution_count": 18,
   "id": "08ee8389",
   "metadata": {
    "execution": {
     "iopub.execute_input": "2025-08-19T18:49:46.479158Z",
     "iopub.status.busy": "2025-08-19T18:49:46.478099Z",
     "iopub.status.idle": "2025-08-19T18:49:46.540976Z",
     "shell.execute_reply": "2025-08-19T18:49:46.539881Z"
    },
    "papermill": {
     "duration": 0.076723,
     "end_time": "2025-08-19T18:49:46.543152",
     "exception": false,
     "start_time": "2025-08-19T18:49:46.466429",
     "status": "completed"
    },
    "tags": []
   },
   "outputs": [],
   "source": [
    "X_calib = siab_calib.iloc[:,4:164]\n",
    "y_calib = siab_calib.iloc[:, [3]]"
   ]
  },
  {
   "cell_type": "code",
   "execution_count": 19,
   "id": "b7ff42e0",
   "metadata": {
    "execution": {
     "iopub.execute_input": "2025-08-19T18:49:46.569198Z",
     "iopub.status.busy": "2025-08-19T18:49:46.568208Z",
     "iopub.status.idle": "2025-08-19T18:49:46.626145Z",
     "shell.execute_reply": "2025-08-19T18:49:46.625329Z"
    },
    "papermill": {
     "duration": 0.071835,
     "end_time": "2025-08-19T18:49:46.628904",
     "exception": false,
     "start_time": "2025-08-19T18:49:46.557069",
     "status": "completed"
    },
    "tags": []
   },
   "outputs": [],
   "source": [
    "X_test = siab_test.iloc[:,4:164]\n",
    "y_true = siab_test.iloc[:, [3]]"
   ]
  },
  {
   "cell_type": "code",
   "execution_count": 20,
   "id": "0275101e",
   "metadata": {
    "execution": {
     "iopub.execute_input": "2025-08-19T18:49:46.668273Z",
     "iopub.status.busy": "2025-08-19T18:49:46.667106Z",
     "iopub.status.idle": "2025-08-19T18:49:46.779063Z",
     "shell.execute_reply": "2025-08-19T18:49:46.778253Z"
    },
    "papermill": {
     "duration": 0.129147,
     "end_time": "2025-08-19T18:49:46.782081",
     "exception": false,
     "start_time": "2025-08-19T18:49:46.652934",
     "status": "completed"
    },
    "tags": []
   },
   "outputs": [],
   "source": [
    "# Auxiliary data needed downstream in the pipeline\n",
    "\n",
    "org_train = X_train.copy()\n",
    "org_test = X_test.copy()\n",
    "org_calib = X_calib.copy()"
   ]
  },
  {
   "cell_type": "markdown",
   "id": "b461e618",
   "metadata": {
    "papermill": {
     "duration": 0.012457,
     "end_time": "2025-08-19T18:49:46.820875",
     "exception": false,
     "start_time": "2025-08-19T18:49:46.808418",
     "status": "completed"
    },
    "tags": []
   },
   "source": [
    "# Preprocessing Data"
   ]
  },
  {
   "cell_type": "code",
   "execution_count": 21,
   "id": "78e74c4b",
   "metadata": {
    "execution": {
     "iopub.execute_input": "2025-08-19T18:49:46.844020Z",
     "iopub.status.busy": "2025-08-19T18:49:46.842681Z",
     "iopub.status.idle": "2025-08-19T18:49:46.851750Z",
     "shell.execute_reply": "2025-08-19T18:49:46.850553Z"
    },
    "papermill": {
     "duration": 0.02212,
     "end_time": "2025-08-19T18:49:46.853094",
     "exception": false,
     "start_time": "2025-08-19T18:49:46.830974",
     "status": "completed"
    },
    "tags": []
   },
   "outputs": [],
   "source": [
    "# EXCLUDE PROTECTED FEATURES\n",
    "# --------------------------\n",
    "\n",
    "excluded_features = universe[\"exclude_features\"].split(\"-\")\n",
    "excluded_features_dictionary = {\n",
    "    \"nationality\": [\"maxdeutsch1\", \"maxdeutsch.Missing.\"],\n",
    "    \"sex\": [\"frau1\"],\n",
    "    \"age\": [\"age\"],\n",
    "}"
   ]
  },
  {
   "cell_type": "code",
   "execution_count": 22,
   "id": "f8e63555",
   "metadata": {
    "execution": {
     "iopub.execute_input": "2025-08-19T18:49:46.878204Z",
     "iopub.status.busy": "2025-08-19T18:49:46.877181Z",
     "iopub.status.idle": "2025-08-19T18:49:46.884952Z",
     "shell.execute_reply": "2025-08-19T18:49:46.883766Z"
    },
    "papermill": {
     "duration": 0.021303,
     "end_time": "2025-08-19T18:49:46.886355",
     "exception": false,
     "start_time": "2025-08-19T18:49:46.865052",
     "status": "completed"
    },
    "tags": []
   },
   "outputs": [],
   "source": [
    "excluded_features_columns = [\n",
    "    excluded_features_dictionary[f] for f in excluded_features if len(f) > 0 and f != \"none\"\n",
    "]"
   ]
  },
  {
   "cell_type": "code",
   "execution_count": 23,
   "id": "da781f7c",
   "metadata": {
    "execution": {
     "iopub.execute_input": "2025-08-19T18:49:46.911548Z",
     "iopub.status.busy": "2025-08-19T18:49:46.910650Z",
     "iopub.status.idle": "2025-08-19T18:49:46.917577Z",
     "shell.execute_reply": "2025-08-19T18:49:46.916337Z"
    },
    "papermill": {
     "duration": 0.020173,
     "end_time": "2025-08-19T18:49:46.919203",
     "exception": false,
     "start_time": "2025-08-19T18:49:46.899030",
     "status": "completed"
    },
    "tags": []
   },
   "outputs": [],
   "source": [
    "from fairness_multiverse.universe import flatten_once\n",
    "\n",
    "excluded_features_columns = flatten_once(excluded_features_columns)"
   ]
  },
  {
   "cell_type": "code",
   "execution_count": 24,
   "id": "37fef0f0",
   "metadata": {
    "execution": {
     "iopub.execute_input": "2025-08-19T18:49:46.943973Z",
     "iopub.status.busy": "2025-08-19T18:49:46.943157Z",
     "iopub.status.idle": "2025-08-19T18:49:46.954102Z",
     "shell.execute_reply": "2025-08-19T18:49:46.952770Z"
    },
    "papermill": {
     "duration": 0.023785,
     "end_time": "2025-08-19T18:49:46.955491",
     "exception": false,
     "start_time": "2025-08-19T18:49:46.931706",
     "status": "completed"
    },
    "tags": []
   },
   "outputs": [
    {
     "name": "stdout",
     "output_type": "stream",
     "text": [
      "Dropping features: ['maxdeutsch1', 'maxdeutsch.Missing.']\n"
     ]
    }
   ],
   "source": [
    "if len(excluded_features_columns) > 0:\n",
    "    print(f\"Dropping features: {excluded_features_columns}\")\n",
    "    X_train.drop(excluded_features_columns, axis=1, inplace=True)"
   ]
  },
  {
   "cell_type": "code",
   "execution_count": 25,
   "id": "d029e3e9",
   "metadata": {
    "execution": {
     "iopub.execute_input": "2025-08-19T18:49:46.979666Z",
     "iopub.status.busy": "2025-08-19T18:49:46.978665Z",
     "iopub.status.idle": "2025-08-19T18:49:47.040270Z",
     "shell.execute_reply": "2025-08-19T18:49:47.039044Z"
    },
    "papermill": {
     "duration": 0.078884,
     "end_time": "2025-08-19T18:49:47.045833",
     "exception": false,
     "start_time": "2025-08-19T18:49:46.966949",
     "status": "completed"
    },
    "tags": []
   },
   "outputs": [
    {
     "name": "stdout",
     "output_type": "stream",
     "text": [
      "Dropping features: ['maxdeutsch1', 'maxdeutsch.Missing.']\n"
     ]
    }
   ],
   "source": [
    "if len(excluded_features_columns) > 0:\n",
    "    print(f\"Dropping features: {excluded_features_columns}\")\n",
    "    X_test.drop(excluded_features_columns, axis=1, inplace=True)"
   ]
  },
  {
   "cell_type": "code",
   "execution_count": 26,
   "id": "01d571f0",
   "metadata": {
    "execution": {
     "iopub.execute_input": "2025-08-19T18:49:47.080378Z",
     "iopub.status.busy": "2025-08-19T18:49:47.079517Z",
     "iopub.status.idle": "2025-08-19T18:49:47.134674Z",
     "shell.execute_reply": "2025-08-19T18:49:47.133566Z"
    },
    "papermill": {
     "duration": 0.071664,
     "end_time": "2025-08-19T18:49:47.138585",
     "exception": false,
     "start_time": "2025-08-19T18:49:47.066921",
     "status": "completed"
    },
    "tags": []
   },
   "outputs": [
    {
     "name": "stdout",
     "output_type": "stream",
     "text": [
      "Dropping features: ['maxdeutsch1', 'maxdeutsch.Missing.']\n"
     ]
    }
   ],
   "source": [
    "if len(excluded_features_columns) > 0:\n",
    "    print(f\"Dropping features: {excluded_features_columns}\")\n",
    "    X_calib.drop(excluded_features_columns, axis=1, inplace=True)"
   ]
  },
  {
   "cell_type": "code",
   "execution_count": 27,
   "id": "3037356e",
   "metadata": {
    "execution": {
     "iopub.execute_input": "2025-08-19T18:49:47.173089Z",
     "iopub.status.busy": "2025-08-19T18:49:47.172078Z",
     "iopub.status.idle": "2025-08-19T18:49:47.178995Z",
     "shell.execute_reply": "2025-08-19T18:49:47.177824Z"
    },
    "papermill": {
     "duration": 0.020968,
     "end_time": "2025-08-19T18:49:47.180765",
     "exception": false,
     "start_time": "2025-08-19T18:49:47.159797",
     "status": "completed"
    },
    "tags": []
   },
   "outputs": [],
   "source": [
    "# EXCLUDE CERTAIN SUBGROUPS\n",
    "# -------------------------\n",
    "\n",
    "mode = universe.get(\"exclude_subgroups\", \"keep-all\") # Defaults to \"keep-all\" if the key is missing."
   ]
  },
  {
   "cell_type": "code",
   "execution_count": 28,
   "id": "9d1e63fd",
   "metadata": {
    "execution": {
     "iopub.execute_input": "2025-08-19T18:49:47.206384Z",
     "iopub.status.busy": "2025-08-19T18:49:47.205548Z",
     "iopub.status.idle": "2025-08-19T18:49:47.215189Z",
     "shell.execute_reply": "2025-08-19T18:49:47.213838Z"
    },
    "papermill": {
     "duration": 0.023215,
     "end_time": "2025-08-19T18:49:47.217021",
     "exception": false,
     "start_time": "2025-08-19T18:49:47.193806",
     "status": "completed"
    },
    "tags": []
   },
   "outputs": [],
   "source": [
    "if mode == \"keep-all\":\n",
    "    keep_mask = pd.Series(True, index=org_train.index)\n",
    "\n",
    "elif mode == \"drop-non-german\":\n",
    "    keep_mask = (org_train[\"maxdeutsch1\"] == 1) & (org_train[\"maxdeutsch.Missing.\"] == 0)\n",
    "\n",
    "else:\n",
    "    raise ValueError(f\"Unsupported mode for exclude_subgroups: {mode}\")"
   ]
  },
  {
   "cell_type": "code",
   "execution_count": 29,
   "id": "d3b65474",
   "metadata": {
    "execution": {
     "iopub.execute_input": "2025-08-19T18:49:47.242378Z",
     "iopub.status.busy": "2025-08-19T18:49:47.241573Z",
     "iopub.status.idle": "2025-08-19T18:49:47.250370Z",
     "shell.execute_reply": "2025-08-19T18:49:47.249180Z"
    },
    "papermill": {
     "duration": 0.022393,
     "end_time": "2025-08-19T18:49:47.252098",
     "exception": false,
     "start_time": "2025-08-19T18:49:47.229705",
     "status": "completed"
    },
    "tags": []
   },
   "outputs": [],
   "source": [
    "n_drop = (~keep_mask).sum() # Calculates how many rows are set to be dropped\n",
    "if n_drop > 0:\n",
    "    pct = n_drop / len(keep_mask) * 100\n",
    "    print(f\"Dropping {n_drop} rows ({pct:.2f}%) where mode='{mode}'\")"
   ]
  },
  {
   "cell_type": "code",
   "execution_count": 30,
   "id": "f44389b3",
   "metadata": {
    "execution": {
     "iopub.execute_input": "2025-08-19T18:49:47.278336Z",
     "iopub.status.busy": "2025-08-19T18:49:47.277552Z",
     "iopub.status.idle": "2025-08-19T18:49:47.286027Z",
     "shell.execute_reply": "2025-08-19T18:49:47.284789Z"
    },
    "papermill": {
     "duration": 0.022304,
     "end_time": "2025-08-19T18:49:47.287680",
     "exception": false,
     "start_time": "2025-08-19T18:49:47.265376",
     "status": "completed"
    },
    "tags": []
   },
   "outputs": [],
   "source": [
    "X_train = X_train[keep_mask]"
   ]
  },
  {
   "cell_type": "code",
   "execution_count": 31,
   "id": "ceca8c2a",
   "metadata": {
    "execution": {
     "iopub.execute_input": "2025-08-19T18:49:47.310929Z",
     "iopub.status.busy": "2025-08-19T18:49:47.310093Z",
     "iopub.status.idle": "2025-08-19T18:49:47.318017Z",
     "shell.execute_reply": "2025-08-19T18:49:47.316775Z"
    },
    "papermill": {
     "duration": 0.02137,
     "end_time": "2025-08-19T18:49:47.319698",
     "exception": false,
     "start_time": "2025-08-19T18:49:47.298328",
     "status": "completed"
    },
    "tags": []
   },
   "outputs": [],
   "source": [
    "y_train = y_train[keep_mask]"
   ]
  },
  {
   "cell_type": "markdown",
   "id": "04d31e2f",
   "metadata": {
    "papermill": {
     "duration": 0.010449,
     "end_time": "2025-08-19T18:49:47.341963",
     "exception": false,
     "start_time": "2025-08-19T18:49:47.331514",
     "status": "completed"
    },
    "tags": []
   },
   "source": [
    "# Model Training"
   ]
  },
  {
   "cell_type": "code",
   "execution_count": 32,
   "id": "db991733",
   "metadata": {
    "execution": {
     "iopub.execute_input": "2025-08-19T18:49:47.365556Z",
     "iopub.status.busy": "2025-08-19T18:49:47.364113Z",
     "iopub.status.idle": "2025-08-19T18:49:47.477644Z",
     "shell.execute_reply": "2025-08-19T18:49:47.476896Z"
    },
    "papermill": {
     "duration": 0.128376,
     "end_time": "2025-08-19T18:49:47.480660",
     "exception": false,
     "start_time": "2025-08-19T18:49:47.352284",
     "status": "completed"
    },
    "tags": []
   },
   "outputs": [],
   "source": [
    "from sklearn.linear_model import LogisticRegression\n",
    "from sklearn.ensemble import GradientBoostingClassifier, RandomForestClassifier\n",
    "\n",
    "if (universe[\"model\"] == \"logreg\"):\n",
    "    model = LogisticRegression() #penalty=\"none\", solver=\"newton-cg\", max_iter=1)\n",
    "elif (universe[\"model\"] == \"penalized_logreg\"):\n",
    "    model = LogisticRegression(penalty=\"l2\", C=0.1) #, solver=\"newton-cg\", max_iter=1)\n",
    "elif (universe[\"model\"] == \"rf\"):\n",
    "    model = RandomForestClassifier() # n_estimators=100, n_jobs=-1\n",
    "elif (universe[\"model\"] == \"gbm\"):\n",
    "    model = GradientBoostingClassifier()\n",
    "elif (universe[\"model\"] == \"elasticnet\"):\n",
    "    model = LogisticRegression(penalty = 'elasticnet', solver = 'saga', l1_ratio = 0.5) # max_iter=5000\n",
    "else:\n",
    "    raise \"Unsupported universe.model\""
   ]
  },
  {
   "cell_type": "code",
   "execution_count": 33,
   "id": "a4b5cd25",
   "metadata": {
    "execution": {
     "iopub.execute_input": "2025-08-19T18:49:47.521064Z",
     "iopub.status.busy": "2025-08-19T18:49:47.520109Z",
     "iopub.status.idle": "2025-08-19T18:49:47.530579Z",
     "shell.execute_reply": "2025-08-19T18:49:47.528778Z"
    },
    "papermill": {
     "duration": 0.027582,
     "end_time": "2025-08-19T18:49:47.533592",
     "exception": false,
     "start_time": "2025-08-19T18:49:47.506010",
     "status": "completed"
    },
    "tags": []
   },
   "outputs": [],
   "source": [
    "from sklearn.pipeline import Pipeline\n",
    "from sklearn.preprocessing import StandardScaler\n",
    "\n",
    "model = Pipeline([\n",
    "    #(\"continuous_processor\", continuous_processor),\n",
    "    #(\"categorical_preprocessor\", categorical_preprocessor),\n",
    "    (\"scale\", StandardScaler() if universe[\"scale\"] == \"scale\" else None), \n",
    "    (\"model\", model),\n",
    "])"
   ]
  },
  {
   "cell_type": "code",
   "execution_count": 34,
   "id": "283a904d",
   "metadata": {
    "execution": {
     "iopub.execute_input": "2025-08-19T18:49:47.574536Z",
     "iopub.status.busy": "2025-08-19T18:49:47.573255Z",
     "iopub.status.idle": "2025-08-19T18:49:47.631698Z",
     "shell.execute_reply": "2025-08-19T18:49:47.631030Z"
    },
    "papermill": {
     "duration": 0.075433,
     "end_time": "2025-08-19T18:49:47.634036",
     "exception": false,
     "start_time": "2025-08-19T18:49:47.558603",
     "status": "completed"
    },
    "tags": []
   },
   "outputs": [
    {
     "data": {
      "text/html": [
       "<style>#sk-container-id-1 {color: black;background-color: white;}#sk-container-id-1 pre{padding: 0;}#sk-container-id-1 div.sk-toggleable {background-color: white;}#sk-container-id-1 label.sk-toggleable__label {cursor: pointer;display: block;width: 100%;margin-bottom: 0;padding: 0.3em;box-sizing: border-box;text-align: center;}#sk-container-id-1 label.sk-toggleable__label-arrow:before {content: \"▸\";float: left;margin-right: 0.25em;color: #696969;}#sk-container-id-1 label.sk-toggleable__label-arrow:hover:before {color: black;}#sk-container-id-1 div.sk-estimator:hover label.sk-toggleable__label-arrow:before {color: black;}#sk-container-id-1 div.sk-toggleable__content {max-height: 0;max-width: 0;overflow: hidden;text-align: left;background-color: #f0f8ff;}#sk-container-id-1 div.sk-toggleable__content pre {margin: 0.2em;color: black;border-radius: 0.25em;background-color: #f0f8ff;}#sk-container-id-1 input.sk-toggleable__control:checked~div.sk-toggleable__content {max-height: 200px;max-width: 100%;overflow: auto;}#sk-container-id-1 input.sk-toggleable__control:checked~label.sk-toggleable__label-arrow:before {content: \"▾\";}#sk-container-id-1 div.sk-estimator input.sk-toggleable__control:checked~label.sk-toggleable__label {background-color: #d4ebff;}#sk-container-id-1 div.sk-label input.sk-toggleable__control:checked~label.sk-toggleable__label {background-color: #d4ebff;}#sk-container-id-1 input.sk-hidden--visually {border: 0;clip: rect(1px 1px 1px 1px);clip: rect(1px, 1px, 1px, 1px);height: 1px;margin: -1px;overflow: hidden;padding: 0;position: absolute;width: 1px;}#sk-container-id-1 div.sk-estimator {font-family: monospace;background-color: #f0f8ff;border: 1px dotted black;border-radius: 0.25em;box-sizing: border-box;margin-bottom: 0.5em;}#sk-container-id-1 div.sk-estimator:hover {background-color: #d4ebff;}#sk-container-id-1 div.sk-parallel-item::after {content: \"\";width: 100%;border-bottom: 1px solid gray;flex-grow: 1;}#sk-container-id-1 div.sk-label:hover label.sk-toggleable__label {background-color: #d4ebff;}#sk-container-id-1 div.sk-serial::before {content: \"\";position: absolute;border-left: 1px solid gray;box-sizing: border-box;top: 0;bottom: 0;left: 50%;z-index: 0;}#sk-container-id-1 div.sk-serial {display: flex;flex-direction: column;align-items: center;background-color: white;padding-right: 0.2em;padding-left: 0.2em;position: relative;}#sk-container-id-1 div.sk-item {position: relative;z-index: 1;}#sk-container-id-1 div.sk-parallel {display: flex;align-items: stretch;justify-content: center;background-color: white;position: relative;}#sk-container-id-1 div.sk-item::before, #sk-container-id-1 div.sk-parallel-item::before {content: \"\";position: absolute;border-left: 1px solid gray;box-sizing: border-box;top: 0;bottom: 0;left: 50%;z-index: -1;}#sk-container-id-1 div.sk-parallel-item {display: flex;flex-direction: column;z-index: 1;position: relative;background-color: white;}#sk-container-id-1 div.sk-parallel-item:first-child::after {align-self: flex-end;width: 50%;}#sk-container-id-1 div.sk-parallel-item:last-child::after {align-self: flex-start;width: 50%;}#sk-container-id-1 div.sk-parallel-item:only-child::after {width: 0;}#sk-container-id-1 div.sk-dashed-wrapped {border: 1px dashed gray;margin: 0 0.4em 0.5em 0.4em;box-sizing: border-box;padding-bottom: 0.4em;background-color: white;}#sk-container-id-1 div.sk-label label {font-family: monospace;font-weight: bold;display: inline-block;line-height: 1.2em;}#sk-container-id-1 div.sk-label-container {text-align: center;}#sk-container-id-1 div.sk-container {/* jupyter's `normalize.less` sets `[hidden] { display: none; }` but bootstrap.min.css set `[hidden] { display: none !important; }` so we also need the `!important` here to be able to override the default hidden behavior on the sphinx rendered scikit-learn.org. See: https://github.com/scikit-learn/scikit-learn/issues/21755 */display: inline-block !important;position: relative;}#sk-container-id-1 div.sk-text-repr-fallback {display: none;}</style><div id=\"sk-container-id-1\" class=\"sk-top-container\"><div class=\"sk-text-repr-fallback\"><pre>Pipeline(steps=[(&#x27;scale&#x27;, StandardScaler()),\n",
       "                (&#x27;model&#x27;, LogisticRegression(C=0.1))])</pre><b>In a Jupyter environment, please rerun this cell to show the HTML representation or trust the notebook. <br />On GitHub, the HTML representation is unable to render, please try loading this page with nbviewer.org.</b></div><div class=\"sk-container\" hidden><div class=\"sk-item sk-dashed-wrapped\"><div class=\"sk-label-container\"><div class=\"sk-label sk-toggleable\"><input class=\"sk-toggleable__control sk-hidden--visually\" id=\"sk-estimator-id-1\" type=\"checkbox\" ><label for=\"sk-estimator-id-1\" class=\"sk-toggleable__label sk-toggleable__label-arrow\">Pipeline</label><div class=\"sk-toggleable__content\"><pre>Pipeline(steps=[(&#x27;scale&#x27;, StandardScaler()),\n",
       "                (&#x27;model&#x27;, LogisticRegression(C=0.1))])</pre></div></div></div><div class=\"sk-serial\"><div class=\"sk-item\"><div class=\"sk-estimator sk-toggleable\"><input class=\"sk-toggleable__control sk-hidden--visually\" id=\"sk-estimator-id-2\" type=\"checkbox\" ><label for=\"sk-estimator-id-2\" class=\"sk-toggleable__label sk-toggleable__label-arrow\">StandardScaler</label><div class=\"sk-toggleable__content\"><pre>StandardScaler()</pre></div></div></div><div class=\"sk-item\"><div class=\"sk-estimator sk-toggleable\"><input class=\"sk-toggleable__control sk-hidden--visually\" id=\"sk-estimator-id-3\" type=\"checkbox\" ><label for=\"sk-estimator-id-3\" class=\"sk-toggleable__label sk-toggleable__label-arrow\">LogisticRegression</label><div class=\"sk-toggleable__content\"><pre>LogisticRegression(C=0.1)</pre></div></div></div></div></div></div></div>"
      ],
      "text/plain": [
       "Pipeline(steps=[('scale', StandardScaler()),\n",
       "                ('model', LogisticRegression(C=0.1))])"
      ]
     },
     "execution_count": 34,
     "metadata": {},
     "output_type": "execute_result"
    }
   ],
   "source": [
    "model.fit(X_train, y_train.values.ravel())"
   ]
  },
  {
   "cell_type": "code",
   "execution_count": 35,
   "id": "6e15e313",
   "metadata": {
    "execution": {
     "iopub.execute_input": "2025-08-19T18:49:47.673839Z",
     "iopub.status.busy": "2025-08-19T18:49:47.672740Z",
     "iopub.status.idle": "2025-08-19T18:49:47.868062Z",
     "shell.execute_reply": "2025-08-19T18:49:47.867285Z"
    },
    "papermill": {
     "duration": 0.211694,
     "end_time": "2025-08-19T18:49:47.870396",
     "exception": false,
     "start_time": "2025-08-19T18:49:47.658702",
     "status": "completed"
    },
    "tags": []
   },
   "outputs": [
    {
     "data": {
      "text/plain": [
       "0.8303868019172891"
      ]
     },
     "execution_count": 35,
     "metadata": {},
     "output_type": "execute_result"
    }
   ],
   "source": [
    "from fairness_multiverse.universe import predict_w_threshold\n",
    "\n",
    "probs_test = model.predict_proba(X_test)\n",
    "\n",
    "'''\n",
    "Below code returns a boolean array (or binary 0/1 array depending on how it’s used) where each element \n",
    "is True if the probability of class 1 is greater than or equal to the threshold, and False otherwise.\n",
    "'''\n",
    "y_pred_default = predict_w_threshold(probs_test, 0.5)\n",
    "\n",
    "from sklearn.metrics import accuracy_score\n",
    "\n",
    "# Naive prediction\n",
    "accuracy_score(y_true = y_true, y_pred = y_pred_default)"
   ]
  },
  {
   "cell_type": "code",
   "execution_count": 36,
   "id": "6f14067c",
   "metadata": {
    "execution": {
     "iopub.execute_input": "2025-08-19T18:49:47.914264Z",
     "iopub.status.busy": "2025-08-19T18:49:47.912688Z",
     "iopub.status.idle": "2025-08-19T18:49:48.099982Z",
     "shell.execute_reply": "2025-08-19T18:49:48.099208Z"
    },
    "papermill": {
     "duration": 0.203544,
     "end_time": "2025-08-19T18:49:48.101673",
     "exception": false,
     "start_time": "2025-08-19T18:49:47.898129",
     "status": "completed"
    },
    "tags": []
   },
   "outputs": [
    {
     "data": {
      "text/plain": [
       "array([0, 0, 0, ..., 0, 0, 0])"
      ]
     },
     "execution_count": 36,
     "metadata": {},
     "output_type": "execute_result"
    }
   ],
   "source": [
    "model.predict(X_test)"
   ]
  },
  {
   "cell_type": "markdown",
   "id": "3759920c",
   "metadata": {
    "papermill": {
     "duration": 0.016284,
     "end_time": "2025-08-19T18:49:48.137412",
     "exception": false,
     "start_time": "2025-08-19T18:49:48.121128",
     "status": "completed"
    },
    "tags": []
   },
   "source": [
    "# Conformal Prediction"
   ]
  },
  {
   "cell_type": "code",
   "execution_count": 37,
   "id": "14b27f59",
   "metadata": {
    "execution": {
     "iopub.execute_input": "2025-08-19T18:49:48.161921Z",
     "iopub.status.busy": "2025-08-19T18:49:48.161537Z",
     "iopub.status.idle": "2025-08-19T18:49:48.167378Z",
     "shell.execute_reply": "2025-08-19T18:49:48.166327Z"
    },
    "papermill": {
     "duration": 0.020516,
     "end_time": "2025-08-19T18:49:48.168846",
     "exception": false,
     "start_time": "2025-08-19T18:49:48.148330",
     "status": "completed"
    },
    "tags": []
   },
   "outputs": [],
   "source": [
    "# Miscoverage level for conformal prediction (10% allowed error rate => 90% target coverage)\n",
    "alpha = 0.1"
   ]
  },
  {
   "cell_type": "code",
   "execution_count": 38,
   "id": "59102472",
   "metadata": {
    "execution": {
     "iopub.execute_input": "2025-08-19T18:49:48.193680Z",
     "iopub.status.busy": "2025-08-19T18:49:48.192251Z",
     "iopub.status.idle": "2025-08-19T18:49:48.376503Z",
     "shell.execute_reply": "2025-08-19T18:49:48.375648Z"
    },
    "papermill": {
     "duration": 0.198182,
     "end_time": "2025-08-19T18:49:48.378213",
     "exception": false,
     "start_time": "2025-08-19T18:49:48.180031",
     "status": "completed"
    },
    "tags": []
   },
   "outputs": [],
   "source": [
    "probs_calib = model.predict_proba(X_calib)"
   ]
  },
  {
   "cell_type": "code",
   "execution_count": 39,
   "id": "a792d4dd",
   "metadata": {
    "execution": {
     "iopub.execute_input": "2025-08-19T18:49:48.405725Z",
     "iopub.status.busy": "2025-08-19T18:49:48.404258Z",
     "iopub.status.idle": "2025-08-19T18:49:48.415530Z",
     "shell.execute_reply": "2025-08-19T18:49:48.414166Z"
    },
    "papermill": {
     "duration": 0.025411,
     "end_time": "2025-08-19T18:49:48.416997",
     "exception": false,
     "start_time": "2025-08-19T18:49:48.391586",
     "status": "completed"
    },
    "tags": []
   },
   "outputs": [],
   "source": [
    "y_calib = y_calib.values.ravel().astype(int)"
   ]
  },
  {
   "cell_type": "code",
   "execution_count": 40,
   "id": "650fd033",
   "metadata": {
    "execution": {
     "iopub.execute_input": "2025-08-19T18:49:48.446523Z",
     "iopub.status.busy": "2025-08-19T18:49:48.445482Z",
     "iopub.status.idle": "2025-08-19T18:49:48.459223Z",
     "shell.execute_reply": "2025-08-19T18:49:48.457777Z"
    },
    "papermill": {
     "duration": 0.028048,
     "end_time": "2025-08-19T18:49:48.460719",
     "exception": false,
     "start_time": "2025-08-19T18:49:48.432671",
     "status": "completed"
    },
    "tags": []
   },
   "outputs": [],
   "source": [
    "from fairness_multiverse.conformal import compute_nc_scores\n",
    "\n",
    "# Compute nonconformity scores on calibration set (1 - probability of true class)\n",
    "nc_scores = compute_nc_scores(probs_calib, y_calib)"
   ]
  },
  {
   "cell_type": "code",
   "execution_count": 41,
   "id": "28ada44c",
   "metadata": {
    "execution": {
     "iopub.execute_input": "2025-08-19T18:49:48.493247Z",
     "iopub.status.busy": "2025-08-19T18:49:48.492249Z",
     "iopub.status.idle": "2025-08-19T18:49:48.499249Z",
     "shell.execute_reply": "2025-08-19T18:49:48.498397Z"
    },
    "papermill": {
     "duration": 0.021351,
     "end_time": "2025-08-19T18:49:48.500232",
     "exception": false,
     "start_time": "2025-08-19T18:49:48.478881",
     "status": "completed"
    },
    "tags": []
   },
   "outputs": [],
   "source": [
    "from fairness_multiverse.conformal import find_threshold\n",
    "\n",
    "# Find conformal threshold q_hat for the given alpha (split conformal method)\n",
    "q_hat = find_threshold(nc_scores, alpha)"
   ]
  },
  {
   "cell_type": "code",
   "execution_count": 42,
   "id": "df56469e",
   "metadata": {
    "execution": {
     "iopub.execute_input": "2025-08-19T18:49:48.528258Z",
     "iopub.status.busy": "2025-08-19T18:49:48.527151Z",
     "iopub.status.idle": "2025-08-19T18:49:48.535372Z",
     "shell.execute_reply": "2025-08-19T18:49:48.534195Z"
    },
    "papermill": {
     "duration": 0.022985,
     "end_time": "2025-08-19T18:49:48.536818",
     "exception": false,
     "start_time": "2025-08-19T18:49:48.513833",
     "status": "completed"
    },
    "tags": []
   },
   "outputs": [
    {
     "data": {
      "text/plain": [
       "0.7473661727998848"
      ]
     },
     "execution_count": 42,
     "metadata": {},
     "output_type": "execute_result"
    }
   ],
   "source": [
    "q_hat"
   ]
  },
  {
   "cell_type": "code",
   "execution_count": 43,
   "id": "aa1f5faa",
   "metadata": {
    "execution": {
     "iopub.execute_input": "2025-08-19T18:49:48.561966Z",
     "iopub.status.busy": "2025-08-19T18:49:48.561591Z",
     "iopub.status.idle": "2025-08-19T18:49:49.248072Z",
     "shell.execute_reply": "2025-08-19T18:49:49.247196Z"
    },
    "papermill": {
     "duration": 0.700907,
     "end_time": "2025-08-19T18:49:49.250254",
     "exception": false,
     "start_time": "2025-08-19T18:49:48.549347",
     "status": "completed"
    },
    "tags": []
   },
   "outputs": [],
   "source": [
    "from fairness_multiverse.conformal import predict_conformal_sets\n",
    "\n",
    "# Generate prediction sets for each test example\n",
    "pred_sets = predict_conformal_sets(model, X_test, q_hat)"
   ]
  },
  {
   "cell_type": "code",
   "execution_count": 44,
   "id": "97f67a6b",
   "metadata": {
    "execution": {
     "iopub.execute_input": "2025-08-19T18:49:49.276278Z",
     "iopub.status.busy": "2025-08-19T18:49:49.275963Z",
     "iopub.status.idle": "2025-08-19T18:49:49.283314Z",
     "shell.execute_reply": "2025-08-19T18:49:49.282132Z"
    },
    "papermill": {
     "duration": 0.022906,
     "end_time": "2025-08-19T18:49:49.285391",
     "exception": false,
     "start_time": "2025-08-19T18:49:49.262485",
     "status": "completed"
    },
    "tags": []
   },
   "outputs": [],
   "source": [
    "y_true = y_true.squeeze()"
   ]
  },
  {
   "cell_type": "code",
   "execution_count": 45,
   "id": "e700e9a7",
   "metadata": {
    "execution": {
     "iopub.execute_input": "2025-08-19T18:49:49.310166Z",
     "iopub.status.busy": "2025-08-19T18:49:49.309739Z",
     "iopub.status.idle": "2025-08-19T18:49:49.826613Z",
     "shell.execute_reply": "2025-08-19T18:49:49.823569Z"
    },
    "papermill": {
     "duration": 0.532513,
     "end_time": "2025-08-19T18:49:49.829798",
     "exception": false,
     "start_time": "2025-08-19T18:49:49.297285",
     "status": "completed"
    },
    "tags": []
   },
   "outputs": [],
   "source": [
    "from fairness_multiverse.conformal import evaluate_sets\n",
    "\n",
    "# Evaluate coverage and average set size on test data\n",
    "metrics = evaluate_sets(pred_sets, y_true)"
   ]
  },
  {
   "cell_type": "markdown",
   "id": "efbacec0",
   "metadata": {
    "papermill": {
     "duration": 0.011358,
     "end_time": "2025-08-19T18:49:49.853195",
     "exception": false,
     "start_time": "2025-08-19T18:49:49.841837",
     "status": "completed"
    },
    "tags": []
   },
   "source": [
    "# CP Metrics"
   ]
  },
  {
   "cell_type": "code",
   "execution_count": 46,
   "id": "9de55fb1",
   "metadata": {
    "execution": {
     "iopub.execute_input": "2025-08-19T18:49:49.884383Z",
     "iopub.status.busy": "2025-08-19T18:49:49.883889Z",
     "iopub.status.idle": "2025-08-19T18:49:49.891405Z",
     "shell.execute_reply": "2025-08-19T18:49:49.890386Z"
    },
    "papermill": {
     "duration": 0.026159,
     "end_time": "2025-08-19T18:49:49.894028",
     "exception": false,
     "start_time": "2025-08-19T18:49:49.867869",
     "status": "completed"
    },
    "tags": []
   },
   "outputs": [
    {
     "data": {
      "text/plain": [
       "{'coverage': 0.9077360383457809, 'avg_size': 1.202530375654888}"
      ]
     },
     "execution_count": 46,
     "metadata": {},
     "output_type": "execute_result"
    }
   ],
   "source": [
    "metrics"
   ]
  },
  {
   "cell_type": "code",
   "execution_count": 47,
   "id": "64c340a1",
   "metadata": {
    "execution": {
     "iopub.execute_input": "2025-08-19T18:49:49.918336Z",
     "iopub.status.busy": "2025-08-19T18:49:49.917950Z",
     "iopub.status.idle": "2025-08-19T18:49:49.923234Z",
     "shell.execute_reply": "2025-08-19T18:49:49.922494Z"
    },
    "papermill": {
     "duration": 0.018898,
     "end_time": "2025-08-19T18:49:49.924447",
     "exception": false,
     "start_time": "2025-08-19T18:49:49.905549",
     "status": "completed"
    },
    "tags": []
   },
   "outputs": [],
   "source": [
    "example_universe = universe.copy()\n",
    "universe_training_year = example_universe.get(\"training_year\")\n",
    "universe_training_size = example_universe.get(\"training_size\")\n",
    "universe_scale = example_universe.get(\"scale\")\n",
    "universe_model = example_universe.get(\"model\")\n",
    "universe_exclude_features = example_universe.get(\"exclude_features\")\n",
    "universe_exclude_subgroups = example_universe.get(\"exclude_subgroups\")"
   ]
  },
  {
   "cell_type": "code",
   "execution_count": 48,
   "id": "dbb53cb4",
   "metadata": {
    "execution": {
     "iopub.execute_input": "2025-08-19T18:49:49.948941Z",
     "iopub.status.busy": "2025-08-19T18:49:49.948578Z",
     "iopub.status.idle": "2025-08-19T18:49:49.953786Z",
     "shell.execute_reply": "2025-08-19T18:49:49.953116Z"
    },
    "papermill": {
     "duration": 0.021624,
     "end_time": "2025-08-19T18:49:49.957621",
     "exception": false,
     "start_time": "2025-08-19T18:49:49.935997",
     "status": "completed"
    },
    "tags": []
   },
   "outputs": [],
   "source": [
    "cp_metrics_dict = {\n",
    "    \"universe_id\": [universe_id],\n",
    "    \"universe_training_year\": [universe_training_year],\n",
    "    \"universe_training_size\": [universe_training_size],\n",
    "    \"universe_scale\": [universe_scale],\n",
    "    \"universe_model\": [universe_model],\n",
    "    \"universe_exclude_features\": [universe_exclude_features],\n",
    "    \"universe_exclude_subgroups\": [universe_exclude_subgroups],\n",
    "    \"q_hat\": [q_hat],\n",
    "    \"coverage\": [metrics[\"coverage\"]],\n",
    "    \"avg_size\": [metrics[\"avg_size\"]],\n",
    "}"
   ]
  },
  {
   "cell_type": "code",
   "execution_count": 49,
   "id": "0d70d4b2",
   "metadata": {
    "execution": {
     "iopub.execute_input": "2025-08-19T18:49:49.992385Z",
     "iopub.status.busy": "2025-08-19T18:49:49.992086Z",
     "iopub.status.idle": "2025-08-19T18:49:49.998802Z",
     "shell.execute_reply": "2025-08-19T18:49:49.998096Z"
    },
    "papermill": {
     "duration": 0.023484,
     "end_time": "2025-08-19T18:49:50.001681",
     "exception": false,
     "start_time": "2025-08-19T18:49:49.978197",
     "status": "completed"
    },
    "tags": []
   },
   "outputs": [],
   "source": [
    "cp_metrics_df = pd.DataFrame(cp_metrics_dict)"
   ]
  },
  {
   "cell_type": "code",
   "execution_count": 50,
   "id": "b494403c",
   "metadata": {
    "execution": {
     "iopub.execute_input": "2025-08-19T18:49:50.041719Z",
     "iopub.status.busy": "2025-08-19T18:49:50.040619Z",
     "iopub.status.idle": "2025-08-19T18:49:50.064510Z",
     "shell.execute_reply": "2025-08-19T18:49:50.063606Z"
    },
    "papermill": {
     "duration": 0.040782,
     "end_time": "2025-08-19T18:49:50.067181",
     "exception": false,
     "start_time": "2025-08-19T18:49:50.026399",
     "status": "completed"
    },
    "tags": []
   },
   "outputs": [
    {
     "data": {
      "text/html": [
       "<div>\n",
       "<style scoped>\n",
       "    .dataframe tbody tr th:only-of-type {\n",
       "        vertical-align: middle;\n",
       "    }\n",
       "\n",
       "    .dataframe tbody tr th {\n",
       "        vertical-align: top;\n",
       "    }\n",
       "\n",
       "    .dataframe thead th {\n",
       "        text-align: right;\n",
       "    }\n",
       "</style>\n",
       "<table border=\"1\" class=\"dataframe\">\n",
       "  <thead>\n",
       "    <tr style=\"text-align: right;\">\n",
       "      <th></th>\n",
       "      <th>universe_id</th>\n",
       "      <th>universe_training_year</th>\n",
       "      <th>universe_training_size</th>\n",
       "      <th>universe_scale</th>\n",
       "      <th>universe_model</th>\n",
       "      <th>universe_exclude_features</th>\n",
       "      <th>universe_exclude_subgroups</th>\n",
       "      <th>q_hat</th>\n",
       "      <th>coverage</th>\n",
       "      <th>avg_size</th>\n",
       "    </tr>\n",
       "  </thead>\n",
       "  <tbody>\n",
       "    <tr>\n",
       "      <th>0</th>\n",
       "      <td>0d54dd7ab85f806d54fba587da23e80a</td>\n",
       "      <td>2014</td>\n",
       "      <td>1k</td>\n",
       "      <td>scale</td>\n",
       "      <td>penalized_logreg</td>\n",
       "      <td>nationality</td>\n",
       "      <td>keep-all</td>\n",
       "      <td>0.747366</td>\n",
       "      <td>0.907736</td>\n",
       "      <td>1.20253</td>\n",
       "    </tr>\n",
       "  </tbody>\n",
       "</table>\n",
       "</div>"
      ],
      "text/plain": [
       "                        universe_id universe_training_year  \\\n",
       "0  0d54dd7ab85f806d54fba587da23e80a                   2014   \n",
       "\n",
       "  universe_training_size universe_scale    universe_model  \\\n",
       "0                     1k          scale  penalized_logreg   \n",
       "\n",
       "  universe_exclude_features universe_exclude_subgroups     q_hat  coverage  \\\n",
       "0               nationality                   keep-all  0.747366  0.907736   \n",
       "\n",
       "   avg_size  \n",
       "0   1.20253  "
      ]
     },
     "execution_count": 50,
     "metadata": {},
     "output_type": "execute_result"
    }
   ],
   "source": [
    "cp_metrics_df"
   ]
  },
  {
   "cell_type": "markdown",
   "id": "ed608b0b",
   "metadata": {
    "papermill": {
     "duration": 0.013075,
     "end_time": "2025-08-19T18:49:50.106692",
     "exception": false,
     "start_time": "2025-08-19T18:49:50.093617",
     "status": "completed"
    },
    "tags": []
   },
   "source": [
    "Conditional coverage & looking at subgroups"
   ]
  },
  {
   "cell_type": "code",
   "execution_count": 51,
   "id": "8968c366",
   "metadata": {
    "execution": {
     "iopub.execute_input": "2025-08-19T18:49:50.133265Z",
     "iopub.status.busy": "2025-08-19T18:49:50.132050Z",
     "iopub.status.idle": "2025-08-19T18:49:50.424183Z",
     "shell.execute_reply": "2025-08-19T18:49:50.423375Z"
    },
    "papermill": {
     "duration": 0.308441,
     "end_time": "2025-08-19T18:49:50.426960",
     "exception": false,
     "start_time": "2025-08-19T18:49:50.118519",
     "status": "completed"
    },
    "tags": []
   },
   "outputs": [],
   "source": [
    "from fairness_multiverse.conformal import build_cp_groups\n",
    "\n",
    "cp_groups_df = build_cp_groups(pred_sets, y_true, X_test.index, org_test)"
   ]
  },
  {
   "cell_type": "code",
   "execution_count": 52,
   "id": "292ddabf",
   "metadata": {
    "execution": {
     "iopub.execute_input": "2025-08-19T18:49:50.468596Z",
     "iopub.status.busy": "2025-08-19T18:49:50.467505Z",
     "iopub.status.idle": "2025-08-19T18:49:51.353581Z",
     "shell.execute_reply": "2025-08-19T18:49:51.352363Z"
    },
    "papermill": {
     "duration": 0.902091,
     "end_time": "2025-08-19T18:49:51.355165",
     "exception": false,
     "start_time": "2025-08-19T18:49:50.453074",
     "status": "completed"
    },
    "tags": []
   },
   "outputs": [],
   "source": [
    "# Define covered = 1 if true_label is in the predicted set\n",
    "cp_groups_df['covered'] = cp_groups_df.apply(\n",
    "    lambda r: int(r['true_label'] in r['pred_set']),\n",
    "    axis=1\n",
    ")"
   ]
  },
  {
   "cell_type": "code",
   "execution_count": 53,
   "id": "3a261692",
   "metadata": {
    "execution": {
     "iopub.execute_input": "2025-08-19T18:49:51.383849Z",
     "iopub.status.busy": "2025-08-19T18:49:51.382534Z",
     "iopub.status.idle": "2025-08-19T18:49:51.400692Z",
     "shell.execute_reply": "2025-08-19T18:49:51.399850Z"
    },
    "papermill": {
     "duration": 0.034483,
     "end_time": "2025-08-19T18:49:51.402082",
     "exception": false,
     "start_time": "2025-08-19T18:49:51.367599",
     "status": "completed"
    },
    "tags": []
   },
   "outputs": [],
   "source": [
    "subgroups = ['frau1','nongerman','nongerman_male','nongerman_female']\n",
    "\n",
    "# Conditional coverage for subgroup==1\n",
    "cond_coverage = {\n",
    "    g: cp_groups_df.loc[cp_groups_df[g]==1, 'covered'].mean()\n",
    "    for g in subgroups\n",
    "}"
   ]
  },
  {
   "cell_type": "code",
   "execution_count": 54,
   "id": "894fd600",
   "metadata": {
    "execution": {
     "iopub.execute_input": "2025-08-19T18:49:51.429836Z",
     "iopub.status.busy": "2025-08-19T18:49:51.428974Z",
     "iopub.status.idle": "2025-08-19T18:49:51.438209Z",
     "shell.execute_reply": "2025-08-19T18:49:51.437150Z"
    },
    "papermill": {
     "duration": 0.024232,
     "end_time": "2025-08-19T18:49:51.439514",
     "exception": false,
     "start_time": "2025-08-19T18:49:51.415282",
     "status": "completed"
    },
    "tags": []
   },
   "outputs": [
    {
     "data": {
      "text/plain": [
       "{'frau1': 0.9037336568270656,\n",
       " 'nongerman': 0.9072026048391624,\n",
       " 'nongerman_male': 0.9256957579032694,\n",
       " 'nongerman_female': 0.876602086438152}"
      ]
     },
     "execution_count": 54,
     "metadata": {},
     "output_type": "execute_result"
    }
   ],
   "source": [
    "cond_coverage"
   ]
  },
  {
   "cell_type": "code",
   "execution_count": 55,
   "id": "942895c7",
   "metadata": {
    "execution": {
     "iopub.execute_input": "2025-08-19T18:49:51.468734Z",
     "iopub.status.busy": "2025-08-19T18:49:51.467681Z",
     "iopub.status.idle": "2025-08-19T18:49:51.480440Z",
     "shell.execute_reply": "2025-08-19T18:49:51.479207Z"
    },
    "papermill": {
     "duration": 0.028466,
     "end_time": "2025-08-19T18:49:51.481838",
     "exception": false,
     "start_time": "2025-08-19T18:49:51.453372",
     "status": "completed"
    },
    "tags": []
   },
   "outputs": [],
   "source": [
    "for subgroup, cov in cond_coverage.items():\n",
    "    cp_metrics_df[f\"cov_{subgroup}\"] = cov"
   ]
  },
  {
   "cell_type": "code",
   "execution_count": 56,
   "id": "3970120f",
   "metadata": {
    "execution": {
     "iopub.execute_input": "2025-08-19T18:49:51.540084Z",
     "iopub.status.busy": "2025-08-19T18:49:51.539704Z",
     "iopub.status.idle": "2025-08-19T18:49:51.573205Z",
     "shell.execute_reply": "2025-08-19T18:49:51.571745Z"
    },
    "papermill": {
     "duration": 0.080919,
     "end_time": "2025-08-19T18:49:51.576459",
     "exception": false,
     "start_time": "2025-08-19T18:49:51.495540",
     "status": "completed"
    },
    "tags": []
   },
   "outputs": [
    {
     "data": {
      "text/html": [
       "<div>\n",
       "<style scoped>\n",
       "    .dataframe tbody tr th:only-of-type {\n",
       "        vertical-align: middle;\n",
       "    }\n",
       "\n",
       "    .dataframe tbody tr th {\n",
       "        vertical-align: top;\n",
       "    }\n",
       "\n",
       "    .dataframe thead th {\n",
       "        text-align: right;\n",
       "    }\n",
       "</style>\n",
       "<table border=\"1\" class=\"dataframe\">\n",
       "  <thead>\n",
       "    <tr style=\"text-align: right;\">\n",
       "      <th></th>\n",
       "      <th>universe_id</th>\n",
       "      <th>universe_training_year</th>\n",
       "      <th>universe_training_size</th>\n",
       "      <th>universe_scale</th>\n",
       "      <th>universe_model</th>\n",
       "      <th>universe_exclude_features</th>\n",
       "      <th>universe_exclude_subgroups</th>\n",
       "      <th>q_hat</th>\n",
       "      <th>coverage</th>\n",
       "      <th>avg_size</th>\n",
       "      <th>cov_frau1</th>\n",
       "      <th>cov_nongerman</th>\n",
       "      <th>cov_nongerman_male</th>\n",
       "      <th>cov_nongerman_female</th>\n",
       "    </tr>\n",
       "  </thead>\n",
       "  <tbody>\n",
       "    <tr>\n",
       "      <th>0</th>\n",
       "      <td>0d54dd7ab85f806d54fba587da23e80a</td>\n",
       "      <td>2014</td>\n",
       "      <td>1k</td>\n",
       "      <td>scale</td>\n",
       "      <td>penalized_logreg</td>\n",
       "      <td>nationality</td>\n",
       "      <td>keep-all</td>\n",
       "      <td>0.747366</td>\n",
       "      <td>0.907736</td>\n",
       "      <td>1.20253</td>\n",
       "      <td>0.903734</td>\n",
       "      <td>0.907203</td>\n",
       "      <td>0.925696</td>\n",
       "      <td>0.876602</td>\n",
       "    </tr>\n",
       "  </tbody>\n",
       "</table>\n",
       "</div>"
      ],
      "text/plain": [
       "                        universe_id universe_training_year  \\\n",
       "0  0d54dd7ab85f806d54fba587da23e80a                   2014   \n",
       "\n",
       "  universe_training_size universe_scale    universe_model  \\\n",
       "0                     1k          scale  penalized_logreg   \n",
       "\n",
       "  universe_exclude_features universe_exclude_subgroups     q_hat  coverage  \\\n",
       "0               nationality                   keep-all  0.747366  0.907736   \n",
       "\n",
       "   avg_size  cov_frau1  cov_nongerman  cov_nongerman_male  \\\n",
       "0   1.20253   0.903734       0.907203            0.925696   \n",
       "\n",
       "   cov_nongerman_female  \n",
       "0              0.876602  "
      ]
     },
     "execution_count": 56,
     "metadata": {},
     "output_type": "execute_result"
    }
   ],
   "source": [
    "cp_metrics_df"
   ]
  },
  {
   "cell_type": "markdown",
   "id": "3fc519cc",
   "metadata": {
    "papermill": {
     "duration": 0.012466,
     "end_time": "2025-08-19T18:49:51.611074",
     "exception": false,
     "start_time": "2025-08-19T18:49:51.598608",
     "status": "completed"
    },
    "tags": []
   },
   "source": [
    "# (Fairness) Metrics"
   ]
  },
  {
   "cell_type": "code",
   "execution_count": 57,
   "id": "a2e5e155",
   "metadata": {
    "execution": {
     "iopub.execute_input": "2025-08-19T18:49:51.638207Z",
     "iopub.status.busy": "2025-08-19T18:49:51.637378Z",
     "iopub.status.idle": "2025-08-19T18:49:51.661267Z",
     "shell.execute_reply": "2025-08-19T18:49:51.660491Z"
    },
    "papermill": {
     "duration": 0.03936,
     "end_time": "2025-08-19T18:49:51.663043",
     "exception": false,
     "start_time": "2025-08-19T18:49:51.623683",
     "status": "completed"
    },
    "tags": []
   },
   "outputs": [],
   "source": [
    "colname_to_bin = \"maxdeutsch1\"\n",
    "majority_value = org_train[colname_to_bin].mode()[0]\n",
    "\n",
    "org_test[\"majmin\"] = np.where(org_test[colname_to_bin] == majority_value, \"majority\", \"minority\")"
   ]
  },
  {
   "cell_type": "code",
   "execution_count": 58,
   "id": "17e3e4d5",
   "metadata": {
    "execution": {
     "iopub.execute_input": "2025-08-19T18:49:51.699544Z",
     "iopub.status.busy": "2025-08-19T18:49:51.698660Z",
     "iopub.status.idle": "2025-08-19T18:49:53.587467Z",
     "shell.execute_reply": "2025-08-19T18:49:53.586202Z"
    },
    "papermill": {
     "duration": 1.905033,
     "end_time": "2025-08-19T18:49:53.589285",
     "exception": false,
     "start_time": "2025-08-19T18:49:51.684252",
     "status": "completed"
    },
    "tags": []
   },
   "outputs": [],
   "source": [
    "example_universe = universe.copy()\n",
    "example_universe[\"cutoff\"] = example_universe[\"cutoff\"][0]\n",
    "example_universe[\"eval_fairness_grouping\"] = example_universe[\"eval_fairness_grouping\"][0]\n",
    "fairness_dict, metric_frame = universe_analysis.compute_metrics(\n",
    "    example_universe,\n",
    "    y_pred_prob=probs_test,\n",
    "    y_test=y_true,\n",
    "    org_test=org_test,\n",
    ")"
   ]
  },
  {
   "cell_type": "markdown",
   "id": "1fb7a0e9",
   "metadata": {
    "papermill": {
     "duration": 0.012295,
     "end_time": "2025-08-19T18:49:53.616211",
     "exception": false,
     "start_time": "2025-08-19T18:49:53.603916",
     "status": "completed"
    },
    "tags": []
   },
   "source": [
    "# Overall"
   ]
  },
  {
   "cell_type": "markdown",
   "id": "be1784b1",
   "metadata": {
    "papermill": {
     "duration": 0.012183,
     "end_time": "2025-08-19T18:49:53.640894",
     "exception": false,
     "start_time": "2025-08-19T18:49:53.628711",
     "status": "completed"
    },
    "tags": []
   },
   "source": [
    "Main fairness target: Equalized Odds. Seems to be a better fit than equal opportunity, since we're not only interested in Y = 1. Seems to be a better fit than demographic parity, since we also care about accuracy, not just equal distribution of preds.\n",
    "\n",
    "Pick column for computation of fairness metrics\n",
    "\n",
    "Performance\n",
    "Overall performance measures, most interesting in relation to the measures split by group below"
   ]
  },
  {
   "cell_type": "code",
   "execution_count": 59,
   "id": "b7672bee",
   "metadata": {
    "execution": {
     "iopub.execute_input": "2025-08-19T18:49:53.667518Z",
     "iopub.status.busy": "2025-08-19T18:49:53.667085Z",
     "iopub.status.idle": "2025-08-19T18:49:53.675995Z",
     "shell.execute_reply": "2025-08-19T18:49:53.675207Z"
    },
    "papermill": {
     "duration": 0.026497,
     "end_time": "2025-08-19T18:49:53.679508",
     "exception": false,
     "start_time": "2025-08-19T18:49:53.653011",
     "status": "completed"
    },
    "tags": []
   },
   "outputs": [
    {
     "data": {
      "text/plain": [
       "accuracy                   0.220410\n",
       "balanced accuracy          0.539764\n",
       "f1                         0.241851\n",
       "precision                  0.138161\n",
       "false positive rate        0.889798\n",
       "false negative rate        0.030674\n",
       "selection rate             0.900000\n",
       "count                  89710.000000\n",
       "dtype: float64"
      ]
     },
     "execution_count": 59,
     "metadata": {},
     "output_type": "execute_result"
    }
   ],
   "source": [
    "metric_frame.overall"
   ]
  },
  {
   "cell_type": "markdown",
   "id": "d93333c9",
   "metadata": {
    "papermill": {
     "duration": 0.01426,
     "end_time": "2025-08-19T18:49:53.717934",
     "exception": false,
     "start_time": "2025-08-19T18:49:53.703674",
     "status": "completed"
    },
    "tags": []
   },
   "source": [
    "By Group"
   ]
  },
  {
   "cell_type": "code",
   "execution_count": 60,
   "id": "52256966",
   "metadata": {
    "execution": {
     "iopub.execute_input": "2025-08-19T18:49:53.761307Z",
     "iopub.status.busy": "2025-08-19T18:49:53.760917Z",
     "iopub.status.idle": "2025-08-19T18:49:53.775713Z",
     "shell.execute_reply": "2025-08-19T18:49:53.774824Z"
    },
    "papermill": {
     "duration": 0.03145,
     "end_time": "2025-08-19T18:49:53.777409",
     "exception": false,
     "start_time": "2025-08-19T18:49:53.745959",
     "status": "completed"
    },
    "tags": []
   },
   "outputs": [
    {
     "data": {
      "text/html": [
       "<div>\n",
       "<style scoped>\n",
       "    .dataframe tbody tr th:only-of-type {\n",
       "        vertical-align: middle;\n",
       "    }\n",
       "\n",
       "    .dataframe tbody tr th {\n",
       "        vertical-align: top;\n",
       "    }\n",
       "\n",
       "    .dataframe thead th {\n",
       "        text-align: right;\n",
       "    }\n",
       "</style>\n",
       "<table border=\"1\" class=\"dataframe\">\n",
       "  <thead>\n",
       "    <tr style=\"text-align: right;\">\n",
       "      <th></th>\n",
       "      <th>accuracy</th>\n",
       "      <th>balanced accuracy</th>\n",
       "      <th>f1</th>\n",
       "      <th>precision</th>\n",
       "      <th>false positive rate</th>\n",
       "      <th>false negative rate</th>\n",
       "      <th>selection rate</th>\n",
       "      <th>count</th>\n",
       "    </tr>\n",
       "    <tr>\n",
       "      <th>majmin</th>\n",
       "      <th></th>\n",
       "      <th></th>\n",
       "      <th></th>\n",
       "      <th></th>\n",
       "      <th></th>\n",
       "      <th></th>\n",
       "      <th></th>\n",
       "      <th></th>\n",
       "    </tr>\n",
       "  </thead>\n",
       "  <tbody>\n",
       "    <tr>\n",
       "      <th>majority</th>\n",
       "      <td>0.240552</td>\n",
       "      <td>0.548223</td>\n",
       "      <td>0.251663</td>\n",
       "      <td>0.144668</td>\n",
       "      <td>0.869965</td>\n",
       "      <td>0.033589</td>\n",
       "      <td>0.882709</td>\n",
       "      <td>69170.0</td>\n",
       "    </tr>\n",
       "    <tr>\n",
       "      <th>minority</th>\n",
       "      <td>0.152580</td>\n",
       "      <td>0.512629</td>\n",
       "      <td>0.210612</td>\n",
       "      <td>0.117976</td>\n",
       "      <td>0.955316</td>\n",
       "      <td>0.019426</td>\n",
       "      <td>0.958228</td>\n",
       "      <td>20540.0</td>\n",
       "    </tr>\n",
       "  </tbody>\n",
       "</table>\n",
       "</div>"
      ],
      "text/plain": [
       "          accuracy  balanced accuracy        f1  precision  \\\n",
       "majmin                                                       \n",
       "majority  0.240552           0.548223  0.251663   0.144668   \n",
       "minority  0.152580           0.512629  0.210612   0.117976   \n",
       "\n",
       "          false positive rate  false negative rate  selection rate    count  \n",
       "majmin                                                                       \n",
       "majority             0.869965             0.033589        0.882709  69170.0  \n",
       "minority             0.955316             0.019426        0.958228  20540.0  "
      ]
     },
     "execution_count": 60,
     "metadata": {},
     "output_type": "execute_result"
    }
   ],
   "source": [
    "metric_frame.by_group"
   ]
  },
  {
   "cell_type": "code",
   "execution_count": 61,
   "id": "6e6c20ae",
   "metadata": {
    "execution": {
     "iopub.execute_input": "2025-08-19T18:49:53.806241Z",
     "iopub.status.busy": "2025-08-19T18:49:53.805868Z",
     "iopub.status.idle": "2025-08-19T18:49:55.634658Z",
     "shell.execute_reply": "2025-08-19T18:49:55.633772Z"
    },
    "papermill": {
     "duration": 1.843745,
     "end_time": "2025-08-19T18:49:55.635988",
     "exception": false,
     "start_time": "2025-08-19T18:49:53.792243",
     "status": "completed"
    },
    "tags": []
   },
   "outputs": [
    {
     "data": {
      "text/plain": [
       "array([[<Axes: title={'center': 'accuracy'}, xlabel='majmin'>,\n",
       "        <Axes: title={'center': 'balanced accuracy'}, xlabel='majmin'>,\n",
       "        <Axes: title={'center': 'f1'}, xlabel='majmin'>],\n",
       "       [<Axes: title={'center': 'precision'}, xlabel='majmin'>,\n",
       "        <Axes: title={'center': 'false positive rate'}, xlabel='majmin'>,\n",
       "        <Axes: title={'center': 'false negative rate'}, xlabel='majmin'>],\n",
       "       [<Axes: title={'center': 'selection rate'}, xlabel='majmin'>,\n",
       "        <Axes: title={'center': 'count'}, xlabel='majmin'>,\n",
       "        <Axes: xlabel='majmin'>]], dtype=object)"
      ]
     },
     "execution_count": 61,
     "metadata": {},
     "output_type": "execute_result"
    },
    {
     "data": {
      "image/png": "[encoded data removed]",
      "text/plain": [
       "<Figure size 1200x800 with 9 Axes>"
      ]
     },
     "metadata": {},
     "output_type": "display_data"
    }
   ],
   "source": [
    "# In a graphic\n",
    "metric_frame.by_group.plot.bar(\n",
    "    subplots=True,\n",
    "    layout=[3, 3],\n",
    "    legend=False,\n",
    "    figsize=[12, 8],\n",
    "    title=\"Show all metrics\",\n",
    ")"
   ]
  },
  {
   "cell_type": "markdown",
   "id": "b2e433ae",
   "metadata": {
    "papermill": {
     "duration": 0.013834,
     "end_time": "2025-08-19T18:49:55.665021",
     "exception": false,
     "start_time": "2025-08-19T18:49:55.651187",
     "status": "completed"
    },
    "tags": []
   },
   "source": [
    "# Final Output"
   ]
  },
  {
   "cell_type": "code",
   "execution_count": 62,
   "id": "3871301e",
   "metadata": {
    "execution": {
     "iopub.execute_input": "2025-08-19T18:49:55.694429Z",
     "iopub.status.busy": "2025-08-19T18:49:55.693621Z",
     "iopub.status.idle": "2025-08-19T18:49:55.702428Z",
     "shell.execute_reply": "2025-08-19T18:49:55.701849Z"
    },
    "papermill": {
     "duration": 0.034676,
     "end_time": "2025-08-19T18:49:55.713347",
     "exception": false,
     "start_time": "2025-08-19T18:49:55.678671",
     "status": "completed"
    },
    "tags": []
   },
   "outputs": [
    {
     "data": {
      "text/plain": [
       "4"
      ]
     },
     "execution_count": 62,
     "metadata": {},
     "output_type": "execute_result"
    }
   ],
   "source": [
    "sub_universes = universe_analysis.generate_sub_universes()\n",
    "len(sub_universes)"
   ]
  },
  {
   "cell_type": "code",
   "execution_count": 63,
   "id": "d9cfdaca",
   "metadata": {
    "execution": {
     "iopub.execute_input": "2025-08-19T18:49:55.744886Z",
     "iopub.status.busy": "2025-08-19T18:49:55.743914Z",
     "iopub.status.idle": "2025-08-19T18:49:55.754250Z",
     "shell.execute_reply": "2025-08-19T18:49:55.752610Z"
    },
    "papermill": {
     "duration": 0.027317,
     "end_time": "2025-08-19T18:49:55.755661",
     "exception": false,
     "start_time": "2025-08-19T18:49:55.728344",
     "status": "completed"
    },
    "tags": []
   },
   "outputs": [],
   "source": [
    "def filter_sub_universe_data(sub_universe, org_test):\n",
    "    # Keep all rows — no filtering\n",
    "    keep_rows_mask = np.ones(org_test.shape[0], dtype=bool)\n",
    "\n",
    "    print(f\"[INFO] Keeping all rows: {keep_rows_mask.sum()} rows retained.\")\n",
    "    return keep_rows_mask"
   ]
  },
  {
   "cell_type": "code",
   "execution_count": 64,
   "id": "2bc31ac1",
   "metadata": {
    "execution": {
     "iopub.execute_input": "2025-08-19T18:49:55.789766Z",
     "iopub.status.busy": "2025-08-19T18:49:55.788799Z",
     "iopub.status.idle": "2025-08-19T18:50:02.662243Z",
     "shell.execute_reply": "2025-08-19T18:50:02.660883Z"
    },
    "papermill": {
     "duration": 6.890847,
     "end_time": "2025-08-19T18:50:02.663681",
     "exception": false,
     "start_time": "2025-08-19T18:49:55.772834",
     "status": "completed"
    },
    "tags": []
   },
   "outputs": [
    {
     "name": "stdout",
     "output_type": "stream",
     "text": [
      "Stopping execution_time clock.\n",
      "[INFO] Keeping all rows: 89710 rows retained.\n"
     ]
    },
    {
     "name": "stdout",
     "output_type": "stream",
     "text": [
      "[INFO] Keeping all rows: 89710 rows retained.\n"
     ]
    },
    {
     "name": "stdout",
     "output_type": "stream",
     "text": [
      "[INFO] Keeping all rows: 89710 rows retained.\n"
     ]
    },
    {
     "name": "stdout",
     "output_type": "stream",
     "text": [
      "[INFO] Keeping all rows: 89710 rows retained.\n"
     ]
    },
    {
     "data": {
      "text/html": [
       "<div>\n",
       "<style scoped>\n",
       "    .dataframe tbody tr th:only-of-type {\n",
       "        vertical-align: middle;\n",
       "    }\n",
       "\n",
       "    .dataframe tbody tr th {\n",
       "        vertical-align: top;\n",
       "    }\n",
       "\n",
       "    .dataframe thead th {\n",
       "        text-align: right;\n",
       "    }\n",
       "</style>\n",
       "<table border=\"1\" class=\"dataframe\">\n",
       "  <thead>\n",
       "    <tr style=\"text-align: right;\">\n",
       "      <th></th>\n",
       "      <th>run_no</th>\n",
       "      <th>universe_id</th>\n",
       "      <th>universe_settings</th>\n",
       "      <th>execution_time</th>\n",
       "      <th>test_size_n</th>\n",
       "      <th>test_size_frac</th>\n",
       "      <th>fair_main_equalized_odds_difference</th>\n",
       "      <th>fair_main_equalized_odds_ratio</th>\n",
       "      <th>fair_main_demographic_parity_difference</th>\n",
       "      <th>fair_main_demographic_parity_ratio</th>\n",
       "      <th>...</th>\n",
       "      <th>perf_grp_precision_0</th>\n",
       "      <th>perf_grp_precision_1</th>\n",
       "      <th>perf_grp_false positive rate_0</th>\n",
       "      <th>perf_grp_false positive rate_1</th>\n",
       "      <th>perf_grp_false negative rate_0</th>\n",
       "      <th>perf_grp_false negative rate_1</th>\n",
       "      <th>perf_grp_selection rate_0</th>\n",
       "      <th>perf_grp_selection rate_1</th>\n",
       "      <th>perf_grp_count_0</th>\n",
       "      <th>perf_grp_count_1</th>\n",
       "    </tr>\n",
       "  </thead>\n",
       "  <tbody>\n",
       "    <tr>\n",
       "      <th>0</th>\n",
       "      <td>3</td>\n",
       "      <td>0d54dd7ab85f806d54fba587da23e80a</td>\n",
       "      <td>{\"cutoff\": \"quantile_0.1\", \"eval_fairness_grou...</td>\n",
       "      <td>21.309546</td>\n",
       "      <td>89710</td>\n",
       "      <td>1.0</td>\n",
       "      <td>0.085351</td>\n",
       "      <td>0.910657</td>\n",
       "      <td>0.075519</td>\n",
       "      <td>0.921189</td>\n",
       "      <td>...</td>\n",
       "      <td>NaN</td>\n",
       "      <td>NaN</td>\n",
       "      <td>NaN</td>\n",
       "      <td>NaN</td>\n",
       "      <td>NaN</td>\n",
       "      <td>NaN</td>\n",
       "      <td>NaN</td>\n",
       "      <td>NaN</td>\n",
       "      <td>NaN</td>\n",
       "      <td>NaN</td>\n",
       "    </tr>\n",
       "    <tr>\n",
       "      <th>0</th>\n",
       "      <td>3</td>\n",
       "      <td>0d54dd7ab85f806d54fba587da23e80a</td>\n",
       "      <td>{\"cutoff\": \"quantile_0.1\", \"eval_fairness_grou...</td>\n",
       "      <td>21.309546</td>\n",
       "      <td>89710</td>\n",
       "      <td>1.0</td>\n",
       "      <td>0.085351</td>\n",
       "      <td>0.910657</td>\n",
       "      <td>0.075519</td>\n",
       "      <td>0.921189</td>\n",
       "      <td>...</td>\n",
       "      <td>0.117976</td>\n",
       "      <td>0.144668</td>\n",
       "      <td>0.955316</td>\n",
       "      <td>0.869965</td>\n",
       "      <td>0.019426</td>\n",
       "      <td>0.033589</td>\n",
       "      <td>0.958228</td>\n",
       "      <td>0.882709</td>\n",
       "      <td>20540.0</td>\n",
       "      <td>69170.0</td>\n",
       "    </tr>\n",
       "    <tr>\n",
       "      <th>0</th>\n",
       "      <td>3</td>\n",
       "      <td>0d54dd7ab85f806d54fba587da23e80a</td>\n",
       "      <td>{\"cutoff\": \"quantile_0.25\", \"eval_fairness_gro...</td>\n",
       "      <td>21.309546</td>\n",
       "      <td>89710</td>\n",
       "      <td>1.0</td>\n",
       "      <td>0.098125</td>\n",
       "      <td>0.877876</td>\n",
       "      <td>0.085944</td>\n",
       "      <td>0.894710</td>\n",
       "      <td>...</td>\n",
       "      <td>NaN</td>\n",
       "      <td>NaN</td>\n",
       "      <td>NaN</td>\n",
       "      <td>NaN</td>\n",
       "      <td>NaN</td>\n",
       "      <td>NaN</td>\n",
       "      <td>NaN</td>\n",
       "      <td>NaN</td>\n",
       "      <td>NaN</td>\n",
       "      <td>NaN</td>\n",
       "    </tr>\n",
       "    <tr>\n",
       "      <th>0</th>\n",
       "      <td>3</td>\n",
       "      <td>0d54dd7ab85f806d54fba587da23e80a</td>\n",
       "      <td>{\"cutoff\": \"quantile_0.25\", \"eval_fairness_gro...</td>\n",
       "      <td>21.309546</td>\n",
       "      <td>89710</td>\n",
       "      <td>1.0</td>\n",
       "      <td>0.098125</td>\n",
       "      <td>0.877876</td>\n",
       "      <td>0.085944</td>\n",
       "      <td>0.894710</td>\n",
       "      <td>...</td>\n",
       "      <td>0.129130</td>\n",
       "      <td>0.161790</td>\n",
       "      <td>0.803489</td>\n",
       "      <td>0.705364</td>\n",
       "      <td>0.085726</td>\n",
       "      <td>0.105799</td>\n",
       "      <td>0.816261</td>\n",
       "      <td>0.730317</td>\n",
       "      <td>20540.0</td>\n",
       "      <td>69170.0</td>\n",
       "    </tr>\n",
       "  </tbody>\n",
       "</table>\n",
       "<p>4 rows × 50 columns</p>\n",
       "</div>"
      ],
      "text/plain": [
       "  run_no                       universe_id  \\\n",
       "0      3  0d54dd7ab85f806d54fba587da23e80a   \n",
       "0      3  0d54dd7ab85f806d54fba587da23e80a   \n",
       "0      3  0d54dd7ab85f806d54fba587da23e80a   \n",
       "0      3  0d54dd7ab85f806d54fba587da23e80a   \n",
       "\n",
       "                                   universe_settings  execution_time  \\\n",
       "0  {\"cutoff\": \"quantile_0.1\", \"eval_fairness_grou...       21.309546   \n",
       "0  {\"cutoff\": \"quantile_0.1\", \"eval_fairness_grou...       21.309546   \n",
       "0  {\"cutoff\": \"quantile_0.25\", \"eval_fairness_gro...       21.309546   \n",
       "0  {\"cutoff\": \"quantile_0.25\", \"eval_fairness_gro...       21.309546   \n",
       "\n",
       "   test_size_n  test_size_frac  fair_main_equalized_odds_difference  \\\n",
       "0        89710             1.0                             0.085351   \n",
       "0        89710             1.0                             0.085351   \n",
       "0        89710             1.0                             0.098125   \n",
       "0        89710             1.0                             0.098125   \n",
       "\n",
       "   fair_main_equalized_odds_ratio  fair_main_demographic_parity_difference  \\\n",
       "0                        0.910657                                 0.075519   \n",
       "0                        0.910657                                 0.075519   \n",
       "0                        0.877876                                 0.085944   \n",
       "0                        0.877876                                 0.085944   \n",
       "\n",
       "   fair_main_demographic_parity_ratio  ...  perf_grp_precision_0  \\\n",
       "0                            0.921189  ...                   NaN   \n",
       "0                            0.921189  ...              0.117976   \n",
       "0                            0.894710  ...                   NaN   \n",
       "0                            0.894710  ...              0.129130   \n",
       "\n",
       "   perf_grp_precision_1  perf_grp_false positive rate_0  \\\n",
       "0                   NaN                             NaN   \n",
       "0              0.144668                        0.955316   \n",
       "0                   NaN                             NaN   \n",
       "0              0.161790                        0.803489   \n",
       "\n",
       "   perf_grp_false positive rate_1  perf_grp_false negative rate_0  \\\n",
       "0                             NaN                             NaN   \n",
       "0                        0.869965                        0.019426   \n",
       "0                             NaN                             NaN   \n",
       "0                        0.705364                        0.085726   \n",
       "\n",
       "   perf_grp_false negative rate_1  perf_grp_selection rate_0  \\\n",
       "0                             NaN                        NaN   \n",
       "0                        0.033589                   0.958228   \n",
       "0                             NaN                        NaN   \n",
       "0                        0.105799                   0.816261   \n",
       "\n",
       "   perf_grp_selection rate_1  perf_grp_count_0  perf_grp_count_1  \n",
       "0                        NaN               NaN               NaN  \n",
       "0                   0.882709           20540.0           69170.0  \n",
       "0                        NaN               NaN               NaN  \n",
       "0                   0.730317           20540.0           69170.0  \n",
       "\n",
       "[4 rows x 50 columns]"
      ]
     },
     "execution_count": 64,
     "metadata": {},
     "output_type": "execute_result"
    }
   ],
   "source": [
    "final_output = universe_analysis.generate_final_output(\n",
    "    y_pred_prob=probs_test,\n",
    "    y_test=y_true,\n",
    "    org_test=org_test,\n",
    "    filter_data=filter_sub_universe_data,\n",
    "    cp_metrics_df=cp_metrics_df,\n",
    "    save=True,\n",
    ")\n",
    "final_output"
   ]
  },
  {
   "cell_type": "code",
   "execution_count": null,
   "id": "8b80a1ff",
   "metadata": {
    "papermill": {
     "duration": 0.015255,
     "end_time": "2025-08-19T18:50:02.697922",
     "exception": false,
     "start_time": "2025-08-19T18:50:02.682667",
     "status": "completed"
    },
    "tags": []
   },
   "outputs": [],
   "source": []
  },
  {
   "cell_type": "code",
   "execution_count": null,
   "id": "275c9fad",
   "metadata": {
    "papermill": {
     "duration": 0.014742,
     "end_time": "2025-08-19T18:50:02.727395",
     "exception": false,
     "start_time": "2025-08-19T18:50:02.712653",
     "status": "completed"
    },
    "tags": []
   },
   "outputs": [],
   "source": []
  }
 ],
 "metadata": {
  "celltoolbar": "Tags",
  "kernelspec": {
   "display_name": "Python (CMA Fairness)",
   "language": "python",
   "name": "cma_fair_env"
  },
  "language_info": {
   "codemirror_mode": {
    "name": "ipython",
    "version": 3
   },
   "file_extension": ".py",
   "mimetype": "text/x-python",
   "name": "python",
   "nbconvert_exporter": "python",
   "pygments_lexer": "ipython3",
   "version": "3.10.12"
  },
  "papermill": {
   "default_parameters": {},
   "duration": 32.341438,
   "end_time": "2025-08-19T18:50:03.574341",
   "environment_variables": {},
   "exception": null,
   "input_path": "universe_analysis.ipynb",
   "output_path": "output/runs/3/notebooks/m_3-0d54dd7ab85f806d54fba587da23e80a.ipynb",
   "parameters": {
    "output_dir": "output",
    "run_no": "3",
    "seed": "2023",
    "universe": "{\"cutoff\": [\"quantile_0.1\", \"quantile_0.25\"], \"eval_fairness_grouping\": [\"majority-minority\", \"nationality-all\"], \"exclude_features\": \"nationality\", \"exclude_subgroups\": \"keep-all\", \"model\": \"penalized_logreg\", \"scale\": \"scale\", \"training_size\": \"1k\", \"training_year\": \"2014\"}",
    "universe_id": "0d54dd7ab85f806d54fba587da23e80a"
   },
   "start_time": "2025-08-19T18:49:31.232903",
   "version": "2.6.0"
  }
 },
 "nbformat": 4,
 "nbformat_minor": 5
}