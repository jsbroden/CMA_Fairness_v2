{
 "cells": [
  {
   "cell_type": "markdown",
   "id": "ef23dbb3",
   "metadata": {
    "papermill": {
     "duration": 0.021865,
     "end_time": "2025-08-19T18:32:14.857202",
     "exception": false,
     "start_time": "2025-08-19T18:32:14.835337",
     "status": "completed"
    },
    "tags": []
   },
   "source": [
    "# Setup"
   ]
  },
  {
   "cell_type": "code",
   "execution_count": 1,
   "id": "0bc8e7dc",
   "metadata": {
    "execution": {
     "iopub.execute_input": "2025-08-19T18:32:14.879249Z",
     "iopub.status.busy": "2025-08-19T18:32:14.878915Z",
     "iopub.status.idle": "2025-08-19T18:32:14.892844Z",
     "shell.execute_reply": "2025-08-19T18:32:14.890827Z"
    },
    "papermill": {
     "duration": 0.025415,
     "end_time": "2025-08-19T18:32:14.894650",
     "exception": false,
     "start_time": "2025-08-19T18:32:14.869235",
     "status": "completed"
    },
    "tags": []
   },
   "outputs": [
    {
     "name": "stdout",
     "output_type": "stream",
     "text": [
      "/dss/dsshome1/0C/ra93lal2/cma/CMA_Fairness_v2\n"
     ]
    },
    {
     "name": "stderr",
     "output_type": "stream",
     "text": [
      "/dss/dsshome1/0C/ra93lal2/.local/share/virtualenvs/CMA_Fairness_v2-3j10GkSs/lib/python3.10/site-packages/IPython/core/magics/osm.py:393: UserWarning: This is now an optional IPython functionality, using bookmarks requires you to install the `pickleshare` library.\n",
      "  bkms = self.shell.db.get('bookmarks', {})\n",
      "/dss/dsshome1/0C/ra93lal2/.local/share/virtualenvs/CMA_Fairness_v2-3j10GkSs/lib/python3.10/site-packages/IPython/core/magics/osm.py:417: UserWarning: This is now an optional IPython functionality, setting dhist requires you to install the `pickleshare` library.\n",
      "  self.shell.db['dhist'] = compress_dhist(dhist)[-100:]\n"
     ]
    }
   ],
   "source": [
    "%cd ~/cma/CMA_Fairness_v2"
   ]
  },
  {
   "cell_type": "markdown",
   "id": "9d235661",
   "metadata": {
    "papermill": {
     "duration": 0.013772,
     "end_time": "2025-08-19T18:32:14.918223",
     "exception": false,
     "start_time": "2025-08-19T18:32:14.904451",
     "status": "completed"
    },
    "tags": []
   },
   "source": [
    "The following cell holds the definition of our parameters, these values can be overriden by rendering the with e.g. the following command:\n",
    "\n",
    "papermill -p alpha 0.2 -p ratio 0.3 universe_analysis.ipynb output/test_run.ipynb"
   ]
  },
  {
   "cell_type": "code",
   "execution_count": 2,
   "id": "4a789d8e",
   "metadata": {
    "execution": {
     "iopub.execute_input": "2025-08-19T18:32:14.954307Z",
     "iopub.status.busy": "2025-08-19T18:32:14.953916Z",
     "iopub.status.idle": "2025-08-19T18:32:14.963819Z",
     "shell.execute_reply": "2025-08-19T18:32:14.962104Z"
    },
    "papermill": {
     "duration": 0.030177,
     "end_time": "2025-08-19T18:32:14.970549",
     "exception": false,
     "start_time": "2025-08-19T18:32:14.940372",
     "status": "completed"
    },
    "tags": []
   },
   "outputs": [
    {
     "name": "stdout",
     "output_type": "stream",
     "text": [
      "Current working directory: /dss/dsshome1/0C/ra93lal2/cma/CMA_Fairness_v2\n"
     ]
    }
   ],
   "source": [
    "import os\n",
    "print(\"Current working directory:\", os.getcwd())"
   ]
  },
  {
   "cell_type": "code",
   "execution_count": 3,
   "id": "4132aaed",
   "metadata": {
    "execution": {
     "iopub.execute_input": "2025-08-19T18:32:14.994891Z",
     "iopub.status.busy": "2025-08-19T18:32:14.994533Z",
     "iopub.status.idle": "2025-08-19T18:32:14.998956Z",
     "shell.execute_reply": "2025-08-19T18:32:14.998276Z"
    },
    "papermill": {
     "duration": 0.01526,
     "end_time": "2025-08-19T18:32:15.000082",
     "exception": false,
     "start_time": "2025-08-19T18:32:14.984822",
     "status": "completed"
    },
    "tags": [
     "parameters"
    ]
   },
   "outputs": [],
   "source": [
    "run_no = 0\n",
    "universe_id = \"test\"\n",
    "universe = {\n",
    "    \"training_size\": \"5k\", # \"25k\", \"5k\", \"1k\"\n",
    "    \"training_year\": \"2012_14\", # \"2014\", \"2012_14\", \"2010_14\"\n",
    "    \"scale\": \"scale\", # \"scale\", \"do-not-scale\",\n",
    "    \"model\": \"elasticnet\", # \"logreg\", \"penalized_logreg\", \"rf\", \"gbm\", \"elasticnet\"\n",
    "    \"cutoff\": [\"quantile_0.15\", \"quantile_0.30\"],\n",
    "    \"exclude_features\": \"age\", # \"none\", \"nationality\", \"sex\", \"nationality-sex\", \"age\"\n",
    "    \"exclude_subgroups\": \"drop-non-german\", # \"keep-all\", \"drop-non-german\"\n",
    "    \"eval_fairness_grouping\": [\"majority-minority\", \"nationality-all\"]\n",
    "}\n",
    "\n",
    "output_dir=\"./output\"\n",
    "seed=0"
   ]
  },
  {
   "cell_type": "code",
   "execution_count": 4,
   "id": "29b2bbc1",
   "metadata": {
    "execution": {
     "iopub.execute_input": "2025-08-19T18:32:15.024265Z",
     "iopub.status.busy": "2025-08-19T18:32:15.023919Z",
     "iopub.status.idle": "2025-08-19T18:32:15.027852Z",
     "shell.execute_reply": "2025-08-19T18:32:15.027138Z"
    },
    "papermill": {
     "duration": 0.015288,
     "end_time": "2025-08-19T18:32:15.028832",
     "exception": false,
     "start_time": "2025-08-19T18:32:15.013544",
     "status": "completed"
    },
    "tags": [
     "injected-parameters"
    ]
   },
   "outputs": [],
   "source": [
    "# Parameters\n",
    "universe_id = \"7a521937c3f224121eaa8e1ba102d51e\"\n",
    "run_no = \"3\"\n",
    "universe = \"{\\\"cutoff\\\": [\\\"quantile_0.1\\\", \\\"quantile_0.25\\\"], \\\"eval_fairness_grouping\\\": [\\\"majority-minority\\\", \\\"nationality-all\\\"], \\\"exclude_features\\\": \\\"age\\\", \\\"exclude_subgroups\\\": \\\"keep-all\\\", \\\"model\\\": \\\"penalized_logreg\\\", \\\"scale\\\": \\\"scale\\\", \\\"training_size\\\": \\\"5k\\\", \\\"training_year\\\": \\\"2012_14\\\"}\"\n",
    "output_dir = \"output\"\n",
    "seed = \"2023\"\n"
   ]
  },
  {
   "cell_type": "code",
   "execution_count": 5,
   "id": "a5d7941f",
   "metadata": {
    "execution": {
     "iopub.execute_input": "2025-08-19T18:32:15.048509Z",
     "iopub.status.busy": "2025-08-19T18:32:15.048113Z",
     "iopub.status.idle": "2025-08-19T18:32:15.060790Z",
     "shell.execute_reply": "2025-08-19T18:32:15.059439Z"
    },
    "papermill": {
     "duration": 0.025251,
     "end_time": "2025-08-19T18:32:15.063042",
     "exception": false,
     "start_time": "2025-08-19T18:32:15.037791",
     "status": "completed"
    },
    "tags": []
   },
   "outputs": [],
   "source": [
    "import json\n",
    "if isinstance(universe, str):\n",
    "    universe = json.loads(universe)"
   ]
  },
  {
   "cell_type": "code",
   "execution_count": 6,
   "id": "7076ccb1",
   "metadata": {
    "execution": {
     "iopub.execute_input": "2025-08-19T18:32:15.087570Z",
     "iopub.status.busy": "2025-08-19T18:32:15.087310Z",
     "iopub.status.idle": "2025-08-19T18:32:15.197775Z",
     "shell.execute_reply": "2025-08-19T18:32:15.197056Z"
    },
    "papermill": {
     "duration": 0.122986,
     "end_time": "2025-08-19T18:32:15.199371",
     "exception": false,
     "start_time": "2025-08-19T18:32:15.076385",
     "status": "completed"
    },
    "tags": []
   },
   "outputs": [],
   "source": [
    "# Auto-reload the custom package\n",
    "%load_ext autoreload\n",
    "%autoreload 1\n",
    "%aimport fairness_multiverse"
   ]
  },
  {
   "cell_type": "code",
   "execution_count": 7,
   "id": "94c8eb93",
   "metadata": {
    "execution": {
     "iopub.execute_input": "2025-08-19T18:32:15.224823Z",
     "iopub.status.busy": "2025-08-19T18:32:15.224035Z",
     "iopub.status.idle": "2025-08-19T18:32:17.069386Z",
     "shell.execute_reply": "2025-08-19T18:32:17.068003Z"
    },
    "papermill": {
     "duration": 1.858363,
     "end_time": "2025-08-19T18:32:17.071326",
     "exception": false,
     "start_time": "2025-08-19T18:32:15.212963",
     "status": "completed"
    },
    "tags": []
   },
   "outputs": [],
   "source": [
    "from fairness_multiverse.universe import UniverseAnalysis\n",
    "\n",
    "universe_analysis = UniverseAnalysis(\n",
    "    run_no = run_no,\n",
    "    universe_id = universe_id,\n",
    "    universe = universe,\n",
    "    output_dir=output_dir,\n",
    ")"
   ]
  },
  {
   "cell_type": "code",
   "execution_count": 8,
   "id": "2a6381cf",
   "metadata": {
    "execution": {
     "iopub.execute_input": "2025-08-19T18:32:17.092503Z",
     "iopub.status.busy": "2025-08-19T18:32:17.092019Z",
     "iopub.status.idle": "2025-08-19T18:32:17.102519Z",
     "shell.execute_reply": "2025-08-19T18:32:17.101319Z"
    },
    "papermill": {
     "duration": 0.023291,
     "end_time": "2025-08-19T18:32:17.104412",
     "exception": false,
     "start_time": "2025-08-19T18:32:17.081121",
     "status": "completed"
    },
    "tags": []
   },
   "outputs": [
    {
     "name": "stdout",
     "output_type": "stream",
     "text": [
      "Using Seed: 2023\n"
     ]
    }
   ],
   "source": [
    "import numpy as np\n",
    "parsed_seed = int(seed)\n",
    "np.random.seed(parsed_seed)\n",
    "print(f\"Using Seed: {parsed_seed}\")"
   ]
  },
  {
   "cell_type": "markdown",
   "id": "b6e958b4",
   "metadata": {
    "papermill": {
     "duration": 0.019257,
     "end_time": "2025-08-19T18:32:17.156841",
     "exception": false,
     "start_time": "2025-08-19T18:32:17.137584",
     "status": "completed"
    },
    "tags": []
   },
   "source": [
    "# Loading Data"
   ]
  },
  {
   "cell_type": "code",
   "execution_count": 9,
   "id": "98701482",
   "metadata": {
    "execution": {
     "iopub.execute_input": "2025-08-19T18:32:17.228439Z",
     "iopub.status.busy": "2025-08-19T18:32:17.227256Z",
     "iopub.status.idle": "2025-08-19T18:32:27.935861Z",
     "shell.execute_reply": "2025-08-19T18:32:27.934537Z"
    },
    "papermill": {
     "duration": 10.759005,
     "end_time": "2025-08-19T18:32:27.939688",
     "exception": false,
     "start_time": "2025-08-19T18:32:17.180683",
     "status": "completed"
    },
    "tags": []
   },
   "outputs": [
    {
     "name": "stdout",
     "output_type": "stream",
     "text": [
      "Loading SIAB data from cache: data/siab_cached.csv.gz\n"
     ]
    },
    {
     "name": "stdout",
     "output_type": "stream",
     "text": [
      "(643690, 164)\n"
     ]
    }
   ],
   "source": [
    "from pathlib import Path\n",
    "import pandas as pd\n",
    "\n",
    "# File paths\n",
    "raw_file = Path(\"data/raw/siab.csv\")\n",
    "cache_file = Path(\"data/siab_cached.csv.gz\")\n",
    "\n",
    "# Ensure cache directory exists\n",
    "cache_file.parent.mkdir(parents=True, exist_ok=True)\n",
    "\n",
    "# Load with simple caching\n",
    "if cache_file.exists():\n",
    "    print(f\"Loading SIAB data from cache: {cache_file}\")\n",
    "    siab = pd.read_csv(cache_file, compression='gzip')\n",
    "else:\n",
    "    print(f\"Cache not found. Reading raw SIAB data: {raw_file}\")\n",
    "    siab = pd.read_csv(raw_file)\n",
    "    siab.to_csv(cache_file, index=False, compression='gzip')\n",
    "    print(f\"Cached SIAB data to: {cache_file}\")\n",
    "\n",
    "print(siab.shape)"
   ]
  },
  {
   "cell_type": "code",
   "execution_count": 10,
   "id": "058d2abb",
   "metadata": {
    "execution": {
     "iopub.execute_input": "2025-08-19T18:32:27.982319Z",
     "iopub.status.busy": "2025-08-19T18:32:27.980655Z",
     "iopub.status.idle": "2025-08-19T18:32:28.307637Z",
     "shell.execute_reply": "2025-08-19T18:32:28.306688Z"
    },
    "papermill": {
     "duration": 0.343681,
     "end_time": "2025-08-19T18:32:28.309200",
     "exception": false,
     "start_time": "2025-08-19T18:32:27.965519",
     "status": "completed"
    },
    "tags": []
   },
   "outputs": [
    {
     "data": {
      "text/html": [
       "<div>\n",
       "<style scoped>\n",
       "    .dataframe tbody tr th:only-of-type {\n",
       "        vertical-align: middle;\n",
       "    }\n",
       "\n",
       "    .dataframe tbody tr th {\n",
       "        vertical-align: top;\n",
       "    }\n",
       "\n",
       "    .dataframe thead th {\n",
       "        text-align: right;\n",
       "    }\n",
       "</style>\n",
       "<table border=\"1\" class=\"dataframe\">\n",
       "  <thead>\n",
       "    <tr style=\"text-align: right;\">\n",
       "      <th></th>\n",
       "      <th>persnr</th>\n",
       "      <th>year</th>\n",
       "      <th>nrEntry</th>\n",
       "      <th>ltue</th>\n",
       "      <th>employed_before</th>\n",
       "      <th>receipt_leh_before</th>\n",
       "      <th>receipt_lhg_before</th>\n",
       "      <th>se_before</th>\n",
       "      <th>ASU_notue_seeking_before</th>\n",
       "      <th>ASU_other_before</th>\n",
       "      <th>...</th>\n",
       "      <th>minijob_tot_dur_byage</th>\n",
       "      <th>ft_tot_dur_byage</th>\n",
       "      <th>befrist_tot_dur_byage</th>\n",
       "      <th>leih_tot_dur_byage</th>\n",
       "      <th>LHG_tot_dur_byage</th>\n",
       "      <th>LEH_tot_dur_byage</th>\n",
       "      <th>almp_tot_dur_byage</th>\n",
       "      <th>almp_aw_tot_dur_byage</th>\n",
       "      <th>se_tot_dur_byage</th>\n",
       "      <th>seeking1_tot_dur_byage</th>\n",
       "    </tr>\n",
       "  </thead>\n",
       "  <tbody>\n",
       "    <tr>\n",
       "      <th>0</th>\n",
       "      <td>7</td>\n",
       "      <td>2015</td>\n",
       "      <td>1</td>\n",
       "      <td>0</td>\n",
       "      <td>1</td>\n",
       "      <td>0</td>\n",
       "      <td>0</td>\n",
       "      <td>0</td>\n",
       "      <td>1</td>\n",
       "      <td>0</td>\n",
       "      <td>...</td>\n",
       "      <td>0.000000</td>\n",
       "      <td>0.000000</td>\n",
       "      <td>15.043478</td>\n",
       "      <td>0.000000</td>\n",
       "      <td>0.000000</td>\n",
       "      <td>0.000000</td>\n",
       "      <td>0.000000</td>\n",
       "      <td>0.000000</td>\n",
       "      <td>0.000000</td>\n",
       "      <td>0.000000</td>\n",
       "    </tr>\n",
       "    <tr>\n",
       "      <th>1</th>\n",
       "      <td>18</td>\n",
       "      <td>2010</td>\n",
       "      <td>1</td>\n",
       "      <td>1</td>\n",
       "      <td>0</td>\n",
       "      <td>0</td>\n",
       "      <td>0</td>\n",
       "      <td>0</td>\n",
       "      <td>0</td>\n",
       "      <td>0</td>\n",
       "      <td>...</td>\n",
       "      <td>0.000000</td>\n",
       "      <td>0.000000</td>\n",
       "      <td>0.000000</td>\n",
       "      <td>0.000000</td>\n",
       "      <td>0.000000</td>\n",
       "      <td>0.000000</td>\n",
       "      <td>0.000000</td>\n",
       "      <td>0.000000</td>\n",
       "      <td>0.000000</td>\n",
       "      <td>0.000000</td>\n",
       "    </tr>\n",
       "    <tr>\n",
       "      <th>2</th>\n",
       "      <td>18</td>\n",
       "      <td>2011</td>\n",
       "      <td>2</td>\n",
       "      <td>0</td>\n",
       "      <td>1</td>\n",
       "      <td>0</td>\n",
       "      <td>1</td>\n",
       "      <td>0</td>\n",
       "      <td>1</td>\n",
       "      <td>0</td>\n",
       "      <td>...</td>\n",
       "      <td>2.714286</td>\n",
       "      <td>2.714286</td>\n",
       "      <td>0.000000</td>\n",
       "      <td>0.000000</td>\n",
       "      <td>10.775510</td>\n",
       "      <td>0.000000</td>\n",
       "      <td>8.367347</td>\n",
       "      <td>0.000000</td>\n",
       "      <td>0.000000</td>\n",
       "      <td>9.836735</td>\n",
       "    </tr>\n",
       "    <tr>\n",
       "      <th>3</th>\n",
       "      <td>18</td>\n",
       "      <td>2012</td>\n",
       "      <td>3</td>\n",
       "      <td>0</td>\n",
       "      <td>1</td>\n",
       "      <td>0</td>\n",
       "      <td>1</td>\n",
       "      <td>0</td>\n",
       "      <td>1</td>\n",
       "      <td>0</td>\n",
       "      <td>...</td>\n",
       "      <td>4.200000</td>\n",
       "      <td>4.200000</td>\n",
       "      <td>0.000000</td>\n",
       "      <td>0.000000</td>\n",
       "      <td>12.100000</td>\n",
       "      <td>0.000000</td>\n",
       "      <td>9.400000</td>\n",
       "      <td>0.000000</td>\n",
       "      <td>0.000000</td>\n",
       "      <td>9.960000</td>\n",
       "    </tr>\n",
       "    <tr>\n",
       "      <th>4</th>\n",
       "      <td>18</td>\n",
       "      <td>2012</td>\n",
       "      <td>4</td>\n",
       "      <td>0</td>\n",
       "      <td>1</td>\n",
       "      <td>0</td>\n",
       "      <td>1</td>\n",
       "      <td>0</td>\n",
       "      <td>1</td>\n",
       "      <td>0</td>\n",
       "      <td>...</td>\n",
       "      <td>5.460000</td>\n",
       "      <td>5.460000</td>\n",
       "      <td>0.000000</td>\n",
       "      <td>0.000000</td>\n",
       "      <td>13.360000</td>\n",
       "      <td>0.000000</td>\n",
       "      <td>10.320000</td>\n",
       "      <td>0.000000</td>\n",
       "      <td>0.000000</td>\n",
       "      <td>10.280000</td>\n",
       "    </tr>\n",
       "    <tr>\n",
       "      <th>...</th>\n",
       "      <td>...</td>\n",
       "      <td>...</td>\n",
       "      <td>...</td>\n",
       "      <td>...</td>\n",
       "      <td>...</td>\n",
       "      <td>...</td>\n",
       "      <td>...</td>\n",
       "      <td>...</td>\n",
       "      <td>...</td>\n",
       "      <td>...</td>\n",
       "      <td>...</td>\n",
       "      <td>...</td>\n",
       "      <td>...</td>\n",
       "      <td>...</td>\n",
       "      <td>...</td>\n",
       "      <td>...</td>\n",
       "      <td>...</td>\n",
       "      <td>...</td>\n",
       "      <td>...</td>\n",
       "      <td>...</td>\n",
       "      <td>...</td>\n",
       "    </tr>\n",
       "    <tr>\n",
       "      <th>643685</th>\n",
       "      <td>1827860</td>\n",
       "      <td>2013</td>\n",
       "      <td>1</td>\n",
       "      <td>0</td>\n",
       "      <td>0</td>\n",
       "      <td>0</td>\n",
       "      <td>1</td>\n",
       "      <td>0</td>\n",
       "      <td>0</td>\n",
       "      <td>1</td>\n",
       "      <td>...</td>\n",
       "      <td>0.000000</td>\n",
       "      <td>0.000000</td>\n",
       "      <td>0.000000</td>\n",
       "      <td>0.000000</td>\n",
       "      <td>0.612903</td>\n",
       "      <td>0.000000</td>\n",
       "      <td>0.000000</td>\n",
       "      <td>0.000000</td>\n",
       "      <td>0.000000</td>\n",
       "      <td>0.000000</td>\n",
       "    </tr>\n",
       "    <tr>\n",
       "      <th>643686</th>\n",
       "      <td>1827860</td>\n",
       "      <td>2015</td>\n",
       "      <td>2</td>\n",
       "      <td>1</td>\n",
       "      <td>0</td>\n",
       "      <td>0</td>\n",
       "      <td>1</td>\n",
       "      <td>0</td>\n",
       "      <td>1</td>\n",
       "      <td>0</td>\n",
       "      <td>...</td>\n",
       "      <td>0.000000</td>\n",
       "      <td>0.000000</td>\n",
       "      <td>0.212121</td>\n",
       "      <td>0.212121</td>\n",
       "      <td>17.363636</td>\n",
       "      <td>0.000000</td>\n",
       "      <td>8.909091</td>\n",
       "      <td>0.000000</td>\n",
       "      <td>0.000000</td>\n",
       "      <td>7.121212</td>\n",
       "    </tr>\n",
       "    <tr>\n",
       "      <th>643687</th>\n",
       "      <td>1827860</td>\n",
       "      <td>2016</td>\n",
       "      <td>3</td>\n",
       "      <td>1</td>\n",
       "      <td>0</td>\n",
       "      <td>0</td>\n",
       "      <td>1</td>\n",
       "      <td>1</td>\n",
       "      <td>0</td>\n",
       "      <td>1</td>\n",
       "      <td>...</td>\n",
       "      <td>0.000000</td>\n",
       "      <td>0.000000</td>\n",
       "      <td>0.294118</td>\n",
       "      <td>0.205882</td>\n",
       "      <td>34.705882</td>\n",
       "      <td>0.000000</td>\n",
       "      <td>10.352941</td>\n",
       "      <td>1.705882</td>\n",
       "      <td>1.705882</td>\n",
       "      <td>23.911765</td>\n",
       "    </tr>\n",
       "    <tr>\n",
       "      <th>643688</th>\n",
       "      <td>1827869</td>\n",
       "      <td>2013</td>\n",
       "      <td>1</td>\n",
       "      <td>1</td>\n",
       "      <td>1</td>\n",
       "      <td>0</td>\n",
       "      <td>0</td>\n",
       "      <td>0</td>\n",
       "      <td>1</td>\n",
       "      <td>0</td>\n",
       "      <td>...</td>\n",
       "      <td>0.000000</td>\n",
       "      <td>0.000000</td>\n",
       "      <td>0.000000</td>\n",
       "      <td>0.000000</td>\n",
       "      <td>0.000000</td>\n",
       "      <td>0.525424</td>\n",
       "      <td>0.000000</td>\n",
       "      <td>0.000000</td>\n",
       "      <td>0.000000</td>\n",
       "      <td>0.000000</td>\n",
       "    </tr>\n",
       "    <tr>\n",
       "      <th>643689</th>\n",
       "      <td>1827869</td>\n",
       "      <td>2014</td>\n",
       "      <td>2</td>\n",
       "      <td>0</td>\n",
       "      <td>0</td>\n",
       "      <td>1</td>\n",
       "      <td>0</td>\n",
       "      <td>0</td>\n",
       "      <td>1</td>\n",
       "      <td>0</td>\n",
       "      <td>...</td>\n",
       "      <td>0.000000</td>\n",
       "      <td>0.666667</td>\n",
       "      <td>0.666667</td>\n",
       "      <td>0.000000</td>\n",
       "      <td>0.000000</td>\n",
       "      <td>8.950000</td>\n",
       "      <td>1.033333</td>\n",
       "      <td>0.083333</td>\n",
       "      <td>0.083333</td>\n",
       "      <td>8.133333</td>\n",
       "    </tr>\n",
       "  </tbody>\n",
       "</table>\n",
       "<p>643690 rows × 164 columns</p>\n",
       "</div>"
      ],
      "text/plain": [
       "         persnr  year  nrEntry  ltue  employed_before  receipt_leh_before  \\\n",
       "0             7  2015        1     0                1                   0   \n",
       "1            18  2010        1     1                0                   0   \n",
       "2            18  2011        2     0                1                   0   \n",
       "3            18  2012        3     0                1                   0   \n",
       "4            18  2012        4     0                1                   0   \n",
       "...         ...   ...      ...   ...              ...                 ...   \n",
       "643685  1827860  2013        1     0                0                   0   \n",
       "643686  1827860  2015        2     1                0                   0   \n",
       "643687  1827860  2016        3     1                0                   0   \n",
       "643688  1827869  2013        1     1                1                   0   \n",
       "643689  1827869  2014        2     0                0                   1   \n",
       "\n",
       "        receipt_lhg_before  se_before  ASU_notue_seeking_before  \\\n",
       "0                        0          0                         1   \n",
       "1                        0          0                         0   \n",
       "2                        1          0                         1   \n",
       "3                        1          0                         1   \n",
       "4                        1          0                         1   \n",
       "...                    ...        ...                       ...   \n",
       "643685                   1          0                         0   \n",
       "643686                   1          0                         1   \n",
       "643687                   1          1                         0   \n",
       "643688                   0          0                         1   \n",
       "643689                   0          0                         1   \n",
       "\n",
       "        ASU_other_before  ...  minijob_tot_dur_byage  ft_tot_dur_byage  \\\n",
       "0                      0  ...               0.000000          0.000000   \n",
       "1                      0  ...               0.000000          0.000000   \n",
       "2                      0  ...               2.714286          2.714286   \n",
       "3                      0  ...               4.200000          4.200000   \n",
       "4                      0  ...               5.460000          5.460000   \n",
       "...                  ...  ...                    ...               ...   \n",
       "643685                 1  ...               0.000000          0.000000   \n",
       "643686                 0  ...               0.000000          0.000000   \n",
       "643687                 1  ...               0.000000          0.000000   \n",
       "643688                 0  ...               0.000000          0.000000   \n",
       "643689                 0  ...               0.000000          0.666667   \n",
       "\n",
       "        befrist_tot_dur_byage  leih_tot_dur_byage  LHG_tot_dur_byage  \\\n",
       "0                   15.043478            0.000000           0.000000   \n",
       "1                    0.000000            0.000000           0.000000   \n",
       "2                    0.000000            0.000000          10.775510   \n",
       "3                    0.000000            0.000000          12.100000   \n",
       "4                    0.000000            0.000000          13.360000   \n",
       "...                       ...                 ...                ...   \n",
       "643685               0.000000            0.000000           0.612903   \n",
       "643686               0.212121            0.212121          17.363636   \n",
       "643687               0.294118            0.205882          34.705882   \n",
       "643688               0.000000            0.000000           0.000000   \n",
       "643689               0.666667            0.000000           0.000000   \n",
       "\n",
       "        LEH_tot_dur_byage  almp_tot_dur_byage  almp_aw_tot_dur_byage  \\\n",
       "0                0.000000            0.000000               0.000000   \n",
       "1                0.000000            0.000000               0.000000   \n",
       "2                0.000000            8.367347               0.000000   \n",
       "3                0.000000            9.400000               0.000000   \n",
       "4                0.000000           10.320000               0.000000   \n",
       "...                   ...                 ...                    ...   \n",
       "643685           0.000000            0.000000               0.000000   \n",
       "643686           0.000000            8.909091               0.000000   \n",
       "643687           0.000000           10.352941               1.705882   \n",
       "643688           0.525424            0.000000               0.000000   \n",
       "643689           8.950000            1.033333               0.083333   \n",
       "\n",
       "        se_tot_dur_byage  seeking1_tot_dur_byage  \n",
       "0               0.000000                0.000000  \n",
       "1               0.000000                0.000000  \n",
       "2               0.000000                9.836735  \n",
       "3               0.000000                9.960000  \n",
       "4               0.000000               10.280000  \n",
       "...                  ...                     ...  \n",
       "643685          0.000000                0.000000  \n",
       "643686          0.000000                7.121212  \n",
       "643687          1.705882               23.911765  \n",
       "643688          0.000000                0.000000  \n",
       "643689          0.083333                8.133333  \n",
       "\n",
       "[643690 rows x 164 columns]"
      ]
     },
     "execution_count": 10,
     "metadata": {},
     "output_type": "execute_result"
    }
   ],
   "source": [
    "siab"
   ]
  },
  {
   "cell_type": "markdown",
   "id": "1f87e805",
   "metadata": {
    "papermill": {
     "duration": 0.009739,
     "end_time": "2025-08-19T18:32:28.329245",
     "exception": false,
     "start_time": "2025-08-19T18:32:28.319506",
     "status": "completed"
    },
    "tags": []
   },
   "source": [
    "# Splitting Data and Setting Training Data Size"
   ]
  },
  {
   "cell_type": "code",
   "execution_count": 11,
   "id": "910ae358",
   "metadata": {
    "execution": {
     "iopub.execute_input": "2025-08-19T18:32:28.350357Z",
     "iopub.status.busy": "2025-08-19T18:32:28.349839Z",
     "iopub.status.idle": "2025-08-19T18:32:29.023907Z",
     "shell.execute_reply": "2025-08-19T18:32:29.022888Z"
    },
    "papermill": {
     "duration": 0.687381,
     "end_time": "2025-08-19T18:32:29.026398",
     "exception": false,
     "start_time": "2025-08-19T18:32:28.339017",
     "status": "completed"
    },
    "tags": []
   },
   "outputs": [],
   "source": [
    "from fairness_multiverse.universe import sample_by_year_size\n",
    "\n",
    "siab_train = sample_by_year_size(siab,\n",
    "                               training_year=universe[\"training_year\"],\n",
    "                               training_size=universe[\"training_size\"])"
   ]
  },
  {
   "cell_type": "code",
   "execution_count": 12,
   "id": "919c8ff5",
   "metadata": {
    "execution": {
     "iopub.execute_input": "2025-08-19T18:32:29.056730Z",
     "iopub.status.busy": "2025-08-19T18:32:29.055436Z",
     "iopub.status.idle": "2025-08-19T18:32:29.065889Z",
     "shell.execute_reply": "2025-08-19T18:32:29.064605Z"
    },
    "papermill": {
     "duration": 0.023989,
     "end_time": "2025-08-19T18:32:29.067497",
     "exception": false,
     "start_time": "2025-08-19T18:32:29.043508",
     "status": "completed"
    },
    "tags": []
   },
   "outputs": [
    {
     "data": {
      "text/plain": [
       "(5000, 164)"
      ]
     },
     "execution_count": 12,
     "metadata": {},
     "output_type": "execute_result"
    }
   ],
   "source": [
    "siab_train.shape"
   ]
  },
  {
   "cell_type": "code",
   "execution_count": 13,
   "id": "feb13bf4",
   "metadata": {
    "execution": {
     "iopub.execute_input": "2025-08-19T18:32:29.093471Z",
     "iopub.status.busy": "2025-08-19T18:32:29.092079Z",
     "iopub.status.idle": "2025-08-19T18:32:29.106724Z",
     "shell.execute_reply": "2025-08-19T18:32:29.105641Z"
    },
    "papermill": {
     "duration": 0.028229,
     "end_time": "2025-08-19T18:32:29.108584",
     "exception": false,
     "start_time": "2025-08-19T18:32:29.080355",
     "status": "completed"
    },
    "tags": []
   },
   "outputs": [
    {
     "data": {
      "text/plain": [
       "year\n",
       "2012    1667\n",
       "2013    1667\n",
       "2014    1666\n",
       "dtype: int64"
      ]
     },
     "metadata": {},
     "output_type": "display_data"
    }
   ],
   "source": [
    "display(siab_train.groupby(\"year\").size())"
   ]
  },
  {
   "cell_type": "code",
   "execution_count": 14,
   "id": "0997782f",
   "metadata": {
    "execution": {
     "iopub.execute_input": "2025-08-19T18:32:29.134380Z",
     "iopub.status.busy": "2025-08-19T18:32:29.133684Z",
     "iopub.status.idle": "2025-08-19T18:32:29.519780Z",
     "shell.execute_reply": "2025-08-19T18:32:29.518442Z"
    },
    "papermill": {
     "duration": 0.400017,
     "end_time": "2025-08-19T18:32:29.521636",
     "exception": false,
     "start_time": "2025-08-19T18:32:29.121619",
     "status": "completed"
    },
    "tags": []
   },
   "outputs": [],
   "source": [
    "#siab_train = siab_s[siab_s.year < 2015]\n",
    "siab_calib = siab[siab.year == 2015]\n",
    "siab_test = siab[siab.year == 2016]"
   ]
  },
  {
   "cell_type": "code",
   "execution_count": 15,
   "id": "2c1e4012",
   "metadata": {
    "execution": {
     "iopub.execute_input": "2025-08-19T18:32:29.549757Z",
     "iopub.status.busy": "2025-08-19T18:32:29.544076Z",
     "iopub.status.idle": "2025-08-19T18:32:29.559375Z",
     "shell.execute_reply": "2025-08-19T18:32:29.557792Z"
    },
    "papermill": {
     "duration": 0.033835,
     "end_time": "2025-08-19T18:32:29.566062",
     "exception": false,
     "start_time": "2025-08-19T18:32:29.532227",
     "status": "completed"
    },
    "tags": []
   },
   "outputs": [],
   "source": [
    "#siab_calib.shape"
   ]
  },
  {
   "cell_type": "code",
   "execution_count": 16,
   "id": "f66b54ca",
   "metadata": {
    "execution": {
     "iopub.execute_input": "2025-08-19T18:32:29.605038Z",
     "iopub.status.busy": "2025-08-19T18:32:29.604532Z",
     "iopub.status.idle": "2025-08-19T18:32:29.612908Z",
     "shell.execute_reply": "2025-08-19T18:32:29.612066Z"
    },
    "papermill": {
     "duration": 0.023876,
     "end_time": "2025-08-19T18:32:29.614367",
     "exception": false,
     "start_time": "2025-08-19T18:32:29.590491",
     "status": "completed"
    },
    "tags": []
   },
   "outputs": [],
   "source": [
    "#siab_test.shape"
   ]
  },
  {
   "cell_type": "code",
   "execution_count": 17,
   "id": "27e4384d",
   "metadata": {
    "execution": {
     "iopub.execute_input": "2025-08-19T18:32:29.640754Z",
     "iopub.status.busy": "2025-08-19T18:32:29.640457Z",
     "iopub.status.idle": "2025-08-19T18:32:29.655462Z",
     "shell.execute_reply": "2025-08-19T18:32:29.654216Z"
    },
    "papermill": {
     "duration": 0.028204,
     "end_time": "2025-08-19T18:32:29.657195",
     "exception": false,
     "start_time": "2025-08-19T18:32:29.628991",
     "status": "completed"
    },
    "tags": []
   },
   "outputs": [],
   "source": [
    "X_train = siab_train.iloc[:,4:164]\n",
    "y_train = siab_train.iloc[:, [3]]"
   ]
  },
  {
   "cell_type": "code",
   "execution_count": 18,
   "id": "08ee8389",
   "metadata": {
    "execution": {
     "iopub.execute_input": "2025-08-19T18:32:29.687653Z",
     "iopub.status.busy": "2025-08-19T18:32:29.687228Z",
     "iopub.status.idle": "2025-08-19T18:32:29.816412Z",
     "shell.execute_reply": "2025-08-19T18:32:29.815566Z"
    },
    "papermill": {
     "duration": 0.144614,
     "end_time": "2025-08-19T18:32:29.819041",
     "exception": false,
     "start_time": "2025-08-19T18:32:29.674427",
     "status": "completed"
    },
    "tags": []
   },
   "outputs": [],
   "source": [
    "X_calib = siab_calib.iloc[:,4:164]\n",
    "y_calib = siab_calib.iloc[:, [3]]"
   ]
  },
  {
   "cell_type": "code",
   "execution_count": 19,
   "id": "b7ff42e0",
   "metadata": {
    "execution": {
     "iopub.execute_input": "2025-08-19T18:32:29.867084Z",
     "iopub.status.busy": "2025-08-19T18:32:29.866372Z",
     "iopub.status.idle": "2025-08-19T18:32:29.933169Z",
     "shell.execute_reply": "2025-08-19T18:32:29.932246Z"
    },
    "papermill": {
     "duration": 0.082622,
     "end_time": "2025-08-19T18:32:29.936146",
     "exception": false,
     "start_time": "2025-08-19T18:32:29.853524",
     "status": "completed"
    },
    "tags": []
   },
   "outputs": [],
   "source": [
    "X_test = siab_test.iloc[:,4:164]\n",
    "y_true = siab_test.iloc[:, [3]]"
   ]
  },
  {
   "cell_type": "code",
   "execution_count": 20,
   "id": "0275101e",
   "metadata": {
    "execution": {
     "iopub.execute_input": "2025-08-19T18:32:29.977336Z",
     "iopub.status.busy": "2025-08-19T18:32:29.976623Z",
     "iopub.status.idle": "2025-08-19T18:32:30.106248Z",
     "shell.execute_reply": "2025-08-19T18:32:30.105473Z"
    },
    "papermill": {
     "duration": 0.148116,
     "end_time": "2025-08-19T18:32:30.109340",
     "exception": false,
     "start_time": "2025-08-19T18:32:29.961224",
     "status": "completed"
    },
    "tags": []
   },
   "outputs": [],
   "source": [
    "# Auxiliary data needed downstream in the pipeline\n",
    "\n",
    "org_train = X_train.copy()\n",
    "org_test = X_test.copy()\n",
    "org_calib = X_calib.copy()"
   ]
  },
  {
   "cell_type": "markdown",
   "id": "b461e618",
   "metadata": {
    "papermill": {
     "duration": 0.013213,
     "end_time": "2025-08-19T18:32:30.148129",
     "exception": false,
     "start_time": "2025-08-19T18:32:30.134916",
     "status": "completed"
    },
    "tags": []
   },
   "source": [
    "# Preprocessing Data"
   ]
  },
  {
   "cell_type": "code",
   "execution_count": 21,
   "id": "78e74c4b",
   "metadata": {
    "execution": {
     "iopub.execute_input": "2025-08-19T18:32:30.173273Z",
     "iopub.status.busy": "2025-08-19T18:32:30.172579Z",
     "iopub.status.idle": "2025-08-19T18:32:30.182697Z",
     "shell.execute_reply": "2025-08-19T18:32:30.180948Z"
    },
    "papermill": {
     "duration": 0.025985,
     "end_time": "2025-08-19T18:32:30.184744",
     "exception": false,
     "start_time": "2025-08-19T18:32:30.158759",
     "status": "completed"
    },
    "tags": []
   },
   "outputs": [],
   "source": [
    "# EXCLUDE PROTECTED FEATURES\n",
    "# --------------------------\n",
    "\n",
    "excluded_features = universe[\"exclude_features\"].split(\"-\")\n",
    "excluded_features_dictionary = {\n",
    "    \"nationality\": [\"maxdeutsch1\", \"maxdeutsch.Missing.\"],\n",
    "    \"sex\": [\"frau1\"],\n",
    "    \"age\": [\"age\"],\n",
    "}"
   ]
  },
  {
   "cell_type": "code",
   "execution_count": 22,
   "id": "f8e63555",
   "metadata": {
    "execution": {
     "iopub.execute_input": "2025-08-19T18:32:30.213609Z",
     "iopub.status.busy": "2025-08-19T18:32:30.212966Z",
     "iopub.status.idle": "2025-08-19T18:32:30.220951Z",
     "shell.execute_reply": "2025-08-19T18:32:30.219618Z"
    },
    "papermill": {
     "duration": 0.023587,
     "end_time": "2025-08-19T18:32:30.222543",
     "exception": false,
     "start_time": "2025-08-19T18:32:30.198956",
     "status": "completed"
    },
    "tags": []
   },
   "outputs": [],
   "source": [
    "excluded_features_columns = [\n",
    "    excluded_features_dictionary[f] for f in excluded_features if len(f) > 0 and f != \"none\"\n",
    "]"
   ]
  },
  {
   "cell_type": "code",
   "execution_count": 23,
   "id": "da781f7c",
   "metadata": {
    "execution": {
     "iopub.execute_input": "2025-08-19T18:32:30.247260Z",
     "iopub.status.busy": "2025-08-19T18:32:30.246571Z",
     "iopub.status.idle": "2025-08-19T18:32:30.254831Z",
     "shell.execute_reply": "2025-08-19T18:32:30.253162Z"
    },
    "papermill": {
     "duration": 0.023217,
     "end_time": "2025-08-19T18:32:30.256932",
     "exception": false,
     "start_time": "2025-08-19T18:32:30.233715",
     "status": "completed"
    },
    "tags": []
   },
   "outputs": [],
   "source": [
    "from fairness_multiverse.universe import flatten_once\n",
    "\n",
    "excluded_features_columns = flatten_once(excluded_features_columns)"
   ]
  },
  {
   "cell_type": "code",
   "execution_count": 24,
   "id": "37fef0f0",
   "metadata": {
    "execution": {
     "iopub.execute_input": "2025-08-19T18:32:30.281922Z",
     "iopub.status.busy": "2025-08-19T18:32:30.281583Z",
     "iopub.status.idle": "2025-08-19T18:32:30.305857Z",
     "shell.execute_reply": "2025-08-19T18:32:30.304959Z"
    },
    "papermill": {
     "duration": 0.037249,
     "end_time": "2025-08-19T18:32:30.307631",
     "exception": false,
     "start_time": "2025-08-19T18:32:30.270382",
     "status": "completed"
    },
    "tags": []
   },
   "outputs": [
    {
     "name": "stdout",
     "output_type": "stream",
     "text": [
      "Dropping features: ['age']\n"
     ]
    }
   ],
   "source": [
    "if len(excluded_features_columns) > 0:\n",
    "    print(f\"Dropping features: {excluded_features_columns}\")\n",
    "    X_train.drop(excluded_features_columns, axis=1, inplace=True)"
   ]
  },
  {
   "cell_type": "code",
   "execution_count": 25,
   "id": "d029e3e9",
   "metadata": {
    "execution": {
     "iopub.execute_input": "2025-08-19T18:32:30.338474Z",
     "iopub.status.busy": "2025-08-19T18:32:30.338043Z",
     "iopub.status.idle": "2025-08-19T18:32:30.397232Z",
     "shell.execute_reply": "2025-08-19T18:32:30.396353Z"
    },
    "papermill": {
     "duration": 0.073982,
     "end_time": "2025-08-19T18:32:30.399502",
     "exception": false,
     "start_time": "2025-08-19T18:32:30.325520",
     "status": "completed"
    },
    "tags": []
   },
   "outputs": [
    {
     "name": "stdout",
     "output_type": "stream",
     "text": [
      "Dropping features: ['age']\n"
     ]
    }
   ],
   "source": [
    "if len(excluded_features_columns) > 0:\n",
    "    print(f\"Dropping features: {excluded_features_columns}\")\n",
    "    X_test.drop(excluded_features_columns, axis=1, inplace=True)"
   ]
  },
  {
   "cell_type": "code",
   "execution_count": 26,
   "id": "01d571f0",
   "metadata": {
    "execution": {
     "iopub.execute_input": "2025-08-19T18:32:30.455638Z",
     "iopub.status.busy": "2025-08-19T18:32:30.454922Z",
     "iopub.status.idle": "2025-08-19T18:32:30.514494Z",
     "shell.execute_reply": "2025-08-19T18:32:30.513853Z"
    },
    "papermill": {
     "duration": 0.07901,
     "end_time": "2025-08-19T18:32:30.516051",
     "exception": false,
     "start_time": "2025-08-19T18:32:30.437041",
     "status": "completed"
    },
    "tags": []
   },
   "outputs": [
    {
     "name": "stdout",
     "output_type": "stream",
     "text": [
      "Dropping features: ['age']\n"
     ]
    }
   ],
   "source": [
    "if len(excluded_features_columns) > 0:\n",
    "    print(f\"Dropping features: {excluded_features_columns}\")\n",
    "    X_calib.drop(excluded_features_columns, axis=1, inplace=True)"
   ]
  },
  {
   "cell_type": "code",
   "execution_count": 27,
   "id": "3037356e",
   "metadata": {
    "execution": {
     "iopub.execute_input": "2025-08-19T18:32:30.544182Z",
     "iopub.status.busy": "2025-08-19T18:32:30.543745Z",
     "iopub.status.idle": "2025-08-19T18:32:30.549598Z",
     "shell.execute_reply": "2025-08-19T18:32:30.548500Z"
    },
    "papermill": {
     "duration": 0.021603,
     "end_time": "2025-08-19T18:32:30.551089",
     "exception": false,
     "start_time": "2025-08-19T18:32:30.529486",
     "status": "completed"
    },
    "tags": []
   },
   "outputs": [],
   "source": [
    "# EXCLUDE CERTAIN SUBGROUPS\n",
    "# -------------------------\n",
    "\n",
    "mode = universe.get(\"exclude_subgroups\", \"keep-all\") # Defaults to \"keep-all\" if the key is missing."
   ]
  },
  {
   "cell_type": "code",
   "execution_count": 28,
   "id": "9d1e63fd",
   "metadata": {
    "execution": {
     "iopub.execute_input": "2025-08-19T18:32:30.578606Z",
     "iopub.status.busy": "2025-08-19T18:32:30.577931Z",
     "iopub.status.idle": "2025-08-19T18:32:30.695535Z",
     "shell.execute_reply": "2025-08-19T18:32:30.694065Z"
    },
    "papermill": {
     "duration": 0.132508,
     "end_time": "2025-08-19T18:32:30.698027",
     "exception": false,
     "start_time": "2025-08-19T18:32:30.565519",
     "status": "completed"
    },
    "tags": []
   },
   "outputs": [],
   "source": [
    "if mode == \"keep-all\":\n",
    "    keep_mask = pd.Series(True, index=org_train.index)\n",
    "\n",
    "elif mode == \"drop-non-german\":\n",
    "    keep_mask = (org_train[\"maxdeutsch1\"] == 1) & (org_train[\"maxdeutsch.Missing.\"] == 0)\n",
    "\n",
    "else:\n",
    "    raise ValueError(f\"Unsupported mode for exclude_subgroups: {mode}\")"
   ]
  },
  {
   "cell_type": "code",
   "execution_count": 29,
   "id": "d3b65474",
   "metadata": {
    "execution": {
     "iopub.execute_input": "2025-08-19T18:32:30.752400Z",
     "iopub.status.busy": "2025-08-19T18:32:30.752029Z",
     "iopub.status.idle": "2025-08-19T18:32:30.758221Z",
     "shell.execute_reply": "2025-08-19T18:32:30.757401Z"
    },
    "papermill": {
     "duration": 0.03753,
     "end_time": "2025-08-19T18:32:30.760076",
     "exception": false,
     "start_time": "2025-08-19T18:32:30.722546",
     "status": "completed"
    },
    "tags": []
   },
   "outputs": [],
   "source": [
    "n_drop = (~keep_mask).sum() # Calculates how many rows are set to be dropped\n",
    "if n_drop > 0:\n",
    "    pct = n_drop / len(keep_mask) * 100\n",
    "    print(f\"Dropping {n_drop} rows ({pct:.2f}%) where mode='{mode}'\")"
   ]
  },
  {
   "cell_type": "code",
   "execution_count": 30,
   "id": "f44389b3",
   "metadata": {
    "execution": {
     "iopub.execute_input": "2025-08-19T18:32:30.786362Z",
     "iopub.status.busy": "2025-08-19T18:32:30.786085Z",
     "iopub.status.idle": "2025-08-19T18:32:30.795807Z",
     "shell.execute_reply": "2025-08-19T18:32:30.794998Z"
    },
    "papermill": {
     "duration": 0.026527,
     "end_time": "2025-08-19T18:32:30.797414",
     "exception": false,
     "start_time": "2025-08-19T18:32:30.770887",
     "status": "completed"
    },
    "tags": []
   },
   "outputs": [],
   "source": [
    "X_train = X_train[keep_mask]"
   ]
  },
  {
   "cell_type": "code",
   "execution_count": 31,
   "id": "ceca8c2a",
   "metadata": {
    "execution": {
     "iopub.execute_input": "2025-08-19T18:32:30.820497Z",
     "iopub.status.busy": "2025-08-19T18:32:30.820216Z",
     "iopub.status.idle": "2025-08-19T18:32:30.825213Z",
     "shell.execute_reply": "2025-08-19T18:32:30.824492Z"
    },
    "papermill": {
     "duration": 0.018398,
     "end_time": "2025-08-19T18:32:30.827215",
     "exception": false,
     "start_time": "2025-08-19T18:32:30.808817",
     "status": "completed"
    },
    "tags": []
   },
   "outputs": [],
   "source": [
    "y_train = y_train[keep_mask]"
   ]
  },
  {
   "cell_type": "markdown",
   "id": "04d31e2f",
   "metadata": {
    "papermill": {
     "duration": 0.012271,
     "end_time": "2025-08-19T18:32:30.858955",
     "exception": false,
     "start_time": "2025-08-19T18:32:30.846684",
     "status": "completed"
    },
    "tags": []
   },
   "source": [
    "# Model Training"
   ]
  },
  {
   "cell_type": "code",
   "execution_count": 32,
   "id": "db991733",
   "metadata": {
    "execution": {
     "iopub.execute_input": "2025-08-19T18:32:30.884647Z",
     "iopub.status.busy": "2025-08-19T18:32:30.884117Z",
     "iopub.status.idle": "2025-08-19T18:32:30.989725Z",
     "shell.execute_reply": "2025-08-19T18:32:30.988853Z"
    },
    "papermill": {
     "duration": 0.120527,
     "end_time": "2025-08-19T18:32:30.992619",
     "exception": false,
     "start_time": "2025-08-19T18:32:30.872092",
     "status": "completed"
    },
    "tags": []
   },
   "outputs": [],
   "source": [
    "from sklearn.linear_model import LogisticRegression\n",
    "from sklearn.ensemble import GradientBoostingClassifier, RandomForestClassifier\n",
    "\n",
    "if (universe[\"model\"] == \"logreg\"):\n",
    "    model = LogisticRegression() #penalty=\"none\", solver=\"newton-cg\", max_iter=1)\n",
    "elif (universe[\"model\"] == \"penalized_logreg\"):\n",
    "    model = LogisticRegression(penalty=\"l2\", C=0.1) #, solver=\"newton-cg\", max_iter=1)\n",
    "elif (universe[\"model\"] == \"rf\"):\n",
    "    model = RandomForestClassifier() # n_estimators=100, n_jobs=-1\n",
    "elif (universe[\"model\"] == \"gbm\"):\n",
    "    model = GradientBoostingClassifier()\n",
    "elif (universe[\"model\"] == \"elasticnet\"):\n",
    "    model = LogisticRegression(penalty = 'elasticnet', solver = 'saga', l1_ratio = 0.5) # max_iter=5000\n",
    "else:\n",
    "    raise \"Unsupported universe.model\""
   ]
  },
  {
   "cell_type": "code",
   "execution_count": 33,
   "id": "a4b5cd25",
   "metadata": {
    "execution": {
     "iopub.execute_input": "2025-08-19T18:32:31.035555Z",
     "iopub.status.busy": "2025-08-19T18:32:31.034392Z",
     "iopub.status.idle": "2025-08-19T18:32:31.044096Z",
     "shell.execute_reply": "2025-08-19T18:32:31.042649Z"
    },
    "papermill": {
     "duration": 0.028165,
     "end_time": "2025-08-19T18:32:31.045711",
     "exception": false,
     "start_time": "2025-08-19T18:32:31.017546",
     "status": "completed"
    },
    "tags": []
   },
   "outputs": [],
   "source": [
    "from sklearn.pipeline import Pipeline\n",
    "from sklearn.preprocessing import StandardScaler\n",
    "\n",
    "model = Pipeline([\n",
    "    #(\"continuous_processor\", continuous_processor),\n",
    "    #(\"categorical_preprocessor\", categorical_preprocessor),\n",
    "    (\"scale\", StandardScaler() if universe[\"scale\"] == \"scale\" else None), \n",
    "    (\"model\", model),\n",
    "])"
   ]
  },
  {
   "cell_type": "code",
   "execution_count": 34,
   "id": "283a904d",
   "metadata": {
    "execution": {
     "iopub.execute_input": "2025-08-19T18:32:31.073108Z",
     "iopub.status.busy": "2025-08-19T18:32:31.071925Z",
     "iopub.status.idle": "2025-08-19T18:32:31.218888Z",
     "shell.execute_reply": "2025-08-19T18:32:31.218182Z"
    },
    "papermill": {
     "duration": 0.160946,
     "end_time": "2025-08-19T18:32:31.220086",
     "exception": false,
     "start_time": "2025-08-19T18:32:31.059140",
     "status": "completed"
    },
    "tags": []
   },
   "outputs": [
    {
     "data": {
      "text/html": [
       "<style>#sk-container-id-1 {color: black;background-color: white;}#sk-container-id-1 pre{padding: 0;}#sk-container-id-1 div.sk-toggleable {background-color: white;}#sk-container-id-1 label.sk-toggleable__label {cursor: pointer;display: block;width: 100%;margin-bottom: 0;padding: 0.3em;box-sizing: border-box;text-align: center;}#sk-container-id-1 label.sk-toggleable__label-arrow:before {content: \"▸\";float: left;margin-right: 0.25em;color: #696969;}#sk-container-id-1 label.sk-toggleable__label-arrow:hover:before {color: black;}#sk-container-id-1 div.sk-estimator:hover label.sk-toggleable__label-arrow:before {color: black;}#sk-container-id-1 div.sk-toggleable__content {max-height: 0;max-width: 0;overflow: hidden;text-align: left;background-color: #f0f8ff;}#sk-container-id-1 div.sk-toggleable__content pre {margin: 0.2em;color: black;border-radius: 0.25em;background-color: #f0f8ff;}#sk-container-id-1 input.sk-toggleable__control:checked~div.sk-toggleable__content {max-height: 200px;max-width: 100%;overflow: auto;}#sk-container-id-1 input.sk-toggleable__control:checked~label.sk-toggleable__label-arrow:before {content: \"▾\";}#sk-container-id-1 div.sk-estimator input.sk-toggleable__control:checked~label.sk-toggleable__label {background-color: #d4ebff;}#sk-container-id-1 div.sk-label input.sk-toggleable__control:checked~label.sk-toggleable__label {background-color: #d4ebff;}#sk-container-id-1 input.sk-hidden--visually {border: 0;clip: rect(1px 1px 1px 1px);clip: rect(1px, 1px, 1px, 1px);height: 1px;margin: -1px;overflow: hidden;padding: 0;position: absolute;width: 1px;}#sk-container-id-1 div.sk-estimator {font-family: monospace;background-color: #f0f8ff;border: 1px dotted black;border-radius: 0.25em;box-sizing: border-box;margin-bottom: 0.5em;}#sk-container-id-1 div.sk-estimator:hover {background-color: #d4ebff;}#sk-container-id-1 div.sk-parallel-item::after {content: \"\";width: 100%;border-bottom: 1px solid gray;flex-grow: 1;}#sk-container-id-1 div.sk-label:hover label.sk-toggleable__label {background-color: #d4ebff;}#sk-container-id-1 div.sk-serial::before {content: \"\";position: absolute;border-left: 1px solid gray;box-sizing: border-box;top: 0;bottom: 0;left: 50%;z-index: 0;}#sk-container-id-1 div.sk-serial {display: flex;flex-direction: column;align-items: center;background-color: white;padding-right: 0.2em;padding-left: 0.2em;position: relative;}#sk-container-id-1 div.sk-item {position: relative;z-index: 1;}#sk-container-id-1 div.sk-parallel {display: flex;align-items: stretch;justify-content: center;background-color: white;position: relative;}#sk-container-id-1 div.sk-item::before, #sk-container-id-1 div.sk-parallel-item::before {content: \"\";position: absolute;border-left: 1px solid gray;box-sizing: border-box;top: 0;bottom: 0;left: 50%;z-index: -1;}#sk-container-id-1 div.sk-parallel-item {display: flex;flex-direction: column;z-index: 1;position: relative;background-color: white;}#sk-container-id-1 div.sk-parallel-item:first-child::after {align-self: flex-end;width: 50%;}#sk-container-id-1 div.sk-parallel-item:last-child::after {align-self: flex-start;width: 50%;}#sk-container-id-1 div.sk-parallel-item:only-child::after {width: 0;}#sk-container-id-1 div.sk-dashed-wrapped {border: 1px dashed gray;margin: 0 0.4em 0.5em 0.4em;box-sizing: border-box;padding-bottom: 0.4em;background-color: white;}#sk-container-id-1 div.sk-label label {font-family: monospace;font-weight: bold;display: inline-block;line-height: 1.2em;}#sk-container-id-1 div.sk-label-container {text-align: center;}#sk-container-id-1 div.sk-container {/* jupyter's `normalize.less` sets `[hidden] { display: none; }` but bootstrap.min.css set `[hidden] { display: none !important; }` so we also need the `!important` here to be able to override the default hidden behavior on the sphinx rendered scikit-learn.org. See: https://github.com/scikit-learn/scikit-learn/issues/21755 */display: inline-block !important;position: relative;}#sk-container-id-1 div.sk-text-repr-fallback {display: none;}</style><div id=\"sk-container-id-1\" class=\"sk-top-container\"><div class=\"sk-text-repr-fallback\"><pre>Pipeline(steps=[(&#x27;scale&#x27;, StandardScaler()),\n",
       "                (&#x27;model&#x27;, LogisticRegression(C=0.1))])</pre><b>In a Jupyter environment, please rerun this cell to show the HTML representation or trust the notebook. <br />On GitHub, the HTML representation is unable to render, please try loading this page with nbviewer.org.</b></div><div class=\"sk-container\" hidden><div class=\"sk-item sk-dashed-wrapped\"><div class=\"sk-label-container\"><div class=\"sk-label sk-toggleable\"><input class=\"sk-toggleable__control sk-hidden--visually\" id=\"sk-estimator-id-1\" type=\"checkbox\" ><label for=\"sk-estimator-id-1\" class=\"sk-toggleable__label sk-toggleable__label-arrow\">Pipeline</label><div class=\"sk-toggleable__content\"><pre>Pipeline(steps=[(&#x27;scale&#x27;, StandardScaler()),\n",
       "                (&#x27;model&#x27;, LogisticRegression(C=0.1))])</pre></div></div></div><div class=\"sk-serial\"><div class=\"sk-item\"><div class=\"sk-estimator sk-toggleable\"><input class=\"sk-toggleable__control sk-hidden--visually\" id=\"sk-estimator-id-2\" type=\"checkbox\" ><label for=\"sk-estimator-id-2\" class=\"sk-toggleable__label sk-toggleable__label-arrow\">StandardScaler</label><div class=\"sk-toggleable__content\"><pre>StandardScaler()</pre></div></div></div><div class=\"sk-item\"><div class=\"sk-estimator sk-toggleable\"><input class=\"sk-toggleable__control sk-hidden--visually\" id=\"sk-estimator-id-3\" type=\"checkbox\" ><label for=\"sk-estimator-id-3\" class=\"sk-toggleable__label sk-toggleable__label-arrow\">LogisticRegression</label><div class=\"sk-toggleable__content\"><pre>LogisticRegression(C=0.1)</pre></div></div></div></div></div></div></div>"
      ],
      "text/plain": [
       "Pipeline(steps=[('scale', StandardScaler()),\n",
       "                ('model', LogisticRegression(C=0.1))])"
      ]
     },
     "execution_count": 34,
     "metadata": {},
     "output_type": "execute_result"
    }
   ],
   "source": [
    "model.fit(X_train, y_train.values.ravel())"
   ]
  },
  {
   "cell_type": "code",
   "execution_count": 35,
   "id": "6e15e313",
   "metadata": {
    "execution": {
     "iopub.execute_input": "2025-08-19T18:32:31.251088Z",
     "iopub.status.busy": "2025-08-19T18:32:31.249675Z",
     "iopub.status.idle": "2025-08-19T18:32:31.445065Z",
     "shell.execute_reply": "2025-08-19T18:32:31.444305Z"
    },
    "papermill": {
     "duration": 0.214187,
     "end_time": "2025-08-19T18:32:31.448011",
     "exception": false,
     "start_time": "2025-08-19T18:32:31.233824",
     "status": "completed"
    },
    "tags": []
   },
   "outputs": [
    {
     "data": {
      "text/plain": [
       "0.8559469401404526"
      ]
     },
     "execution_count": 35,
     "metadata": {},
     "output_type": "execute_result"
    }
   ],
   "source": [
    "from fairness_multiverse.universe import predict_w_threshold\n",
    "\n",
    "probs_test = model.predict_proba(X_test)\n",
    "\n",
    "'''\n",
    "Below code returns a boolean array (or binary 0/1 array depending on how it’s used) where each element \n",
    "is True if the probability of class 1 is greater than or equal to the threshold, and False otherwise.\n",
    "'''\n",
    "y_pred_default = predict_w_threshold(probs_test, 0.5)\n",
    "\n",
    "from sklearn.metrics import accuracy_score\n",
    "\n",
    "# Naive prediction\n",
    "accuracy_score(y_true = y_true, y_pred = y_pred_default)"
   ]
  },
  {
   "cell_type": "code",
   "execution_count": 36,
   "id": "6f14067c",
   "metadata": {
    "execution": {
     "iopub.execute_input": "2025-08-19T18:32:31.487322Z",
     "iopub.status.busy": "2025-08-19T18:32:31.486191Z",
     "iopub.status.idle": "2025-08-19T18:32:31.677304Z",
     "shell.execute_reply": "2025-08-19T18:32:31.676237Z"
    },
    "papermill": {
     "duration": 0.206614,
     "end_time": "2025-08-19T18:32:31.678637",
     "exception": false,
     "start_time": "2025-08-19T18:32:31.472023",
     "status": "completed"
    },
    "tags": []
   },
   "outputs": [
    {
     "data": {
      "text/plain": [
       "array([0, 0, 0, ..., 0, 0, 0])"
      ]
     },
     "execution_count": 36,
     "metadata": {},
     "output_type": "execute_result"
    }
   ],
   "source": [
    "model.predict(X_test)"
   ]
  },
  {
   "cell_type": "markdown",
   "id": "3759920c",
   "metadata": {
    "papermill": {
     "duration": 0.020529,
     "end_time": "2025-08-19T18:32:31.711856",
     "exception": false,
     "start_time": "2025-08-19T18:32:31.691327",
     "status": "completed"
    },
    "tags": []
   },
   "source": [
    "# Conformal Prediction"
   ]
  },
  {
   "cell_type": "code",
   "execution_count": 37,
   "id": "14b27f59",
   "metadata": {
    "execution": {
     "iopub.execute_input": "2025-08-19T18:32:31.745674Z",
     "iopub.status.busy": "2025-08-19T18:32:31.744836Z",
     "iopub.status.idle": "2025-08-19T18:32:31.751885Z",
     "shell.execute_reply": "2025-08-19T18:32:31.751124Z"
    },
    "papermill": {
     "duration": 0.021996,
     "end_time": "2025-08-19T18:32:31.753239",
     "exception": false,
     "start_time": "2025-08-19T18:32:31.731243",
     "status": "completed"
    },
    "tags": []
   },
   "outputs": [],
   "source": [
    "# Miscoverage level for conformal prediction (10% allowed error rate => 90% target coverage)\n",
    "alpha = 0.1"
   ]
  },
  {
   "cell_type": "code",
   "execution_count": 38,
   "id": "59102472",
   "metadata": {
    "execution": {
     "iopub.execute_input": "2025-08-19T18:32:31.793502Z",
     "iopub.status.busy": "2025-08-19T18:32:31.792670Z",
     "iopub.status.idle": "2025-08-19T18:32:31.974170Z",
     "shell.execute_reply": "2025-08-19T18:32:31.973030Z"
    },
    "papermill": {
     "duration": 0.196451,
     "end_time": "2025-08-19T18:32:31.975716",
     "exception": false,
     "start_time": "2025-08-19T18:32:31.779265",
     "status": "completed"
    },
    "tags": []
   },
   "outputs": [],
   "source": [
    "probs_calib = model.predict_proba(X_calib)"
   ]
  },
  {
   "cell_type": "code",
   "execution_count": 39,
   "id": "a792d4dd",
   "metadata": {
    "execution": {
     "iopub.execute_input": "2025-08-19T18:32:32.002946Z",
     "iopub.status.busy": "2025-08-19T18:32:32.002246Z",
     "iopub.status.idle": "2025-08-19T18:32:32.008756Z",
     "shell.execute_reply": "2025-08-19T18:32:32.007989Z"
    },
    "papermill": {
     "duration": 0.020859,
     "end_time": "2025-08-19T18:32:32.010067",
     "exception": false,
     "start_time": "2025-08-19T18:32:31.989208",
     "status": "completed"
    },
    "tags": []
   },
   "outputs": [],
   "source": [
    "y_calib = y_calib.values.ravel().astype(int)"
   ]
  },
  {
   "cell_type": "code",
   "execution_count": 40,
   "id": "650fd033",
   "metadata": {
    "execution": {
     "iopub.execute_input": "2025-08-19T18:32:32.036910Z",
     "iopub.status.busy": "2025-08-19T18:32:32.035810Z",
     "iopub.status.idle": "2025-08-19T18:32:32.047341Z",
     "shell.execute_reply": "2025-08-19T18:32:32.046175Z"
    },
    "papermill": {
     "duration": 0.026672,
     "end_time": "2025-08-19T18:32:32.048982",
     "exception": false,
     "start_time": "2025-08-19T18:32:32.022310",
     "status": "completed"
    },
    "tags": []
   },
   "outputs": [],
   "source": [
    "from fairness_multiverse.conformal import compute_nc_scores\n",
    "\n",
    "# Compute nonconformity scores on calibration set (1 - probability of true class)\n",
    "nc_scores = compute_nc_scores(probs_calib, y_calib)"
   ]
  },
  {
   "cell_type": "code",
   "execution_count": 41,
   "id": "28ada44c",
   "metadata": {
    "execution": {
     "iopub.execute_input": "2025-08-19T18:32:32.081686Z",
     "iopub.status.busy": "2025-08-19T18:32:32.080578Z",
     "iopub.status.idle": "2025-08-19T18:32:32.092842Z",
     "shell.execute_reply": "2025-08-19T18:32:32.091206Z"
    },
    "papermill": {
     "duration": 0.028531,
     "end_time": "2025-08-19T18:32:32.094509",
     "exception": false,
     "start_time": "2025-08-19T18:32:32.065978",
     "status": "completed"
    },
    "tags": []
   },
   "outputs": [],
   "source": [
    "from fairness_multiverse.conformal import find_threshold\n",
    "\n",
    "# Find conformal threshold q_hat for the given alpha (split conformal method)\n",
    "q_hat = find_threshold(nc_scores, alpha)"
   ]
  },
  {
   "cell_type": "code",
   "execution_count": 42,
   "id": "df56469e",
   "metadata": {
    "execution": {
     "iopub.execute_input": "2025-08-19T18:32:32.120511Z",
     "iopub.status.busy": "2025-08-19T18:32:32.119472Z",
     "iopub.status.idle": "2025-08-19T18:32:32.134141Z",
     "shell.execute_reply": "2025-08-19T18:32:32.132656Z"
    },
    "papermill": {
     "duration": 0.029524,
     "end_time": "2025-08-19T18:32:32.136079",
     "exception": false,
     "start_time": "2025-08-19T18:32:32.106555",
     "status": "completed"
    },
    "tags": []
   },
   "outputs": [
    {
     "data": {
      "text/plain": [
       "0.691591513892422"
      ]
     },
     "execution_count": 42,
     "metadata": {},
     "output_type": "execute_result"
    }
   ],
   "source": [
    "q_hat"
   ]
  },
  {
   "cell_type": "code",
   "execution_count": 43,
   "id": "aa1f5faa",
   "metadata": {
    "execution": {
     "iopub.execute_input": "2025-08-19T18:32:32.166338Z",
     "iopub.status.busy": "2025-08-19T18:32:32.165173Z",
     "iopub.status.idle": "2025-08-19T18:32:32.890347Z",
     "shell.execute_reply": "2025-08-19T18:32:32.888667Z"
    },
    "papermill": {
     "duration": 0.740552,
     "end_time": "2025-08-19T18:32:32.892062",
     "exception": false,
     "start_time": "2025-08-19T18:32:32.151510",
     "status": "completed"
    },
    "tags": []
   },
   "outputs": [],
   "source": [
    "from fairness_multiverse.conformal import predict_conformal_sets\n",
    "\n",
    "# Generate prediction sets for each test example\n",
    "pred_sets = predict_conformal_sets(model, X_test, q_hat)"
   ]
  },
  {
   "cell_type": "code",
   "execution_count": 44,
   "id": "97f67a6b",
   "metadata": {
    "execution": {
     "iopub.execute_input": "2025-08-19T18:32:32.917233Z",
     "iopub.status.busy": "2025-08-19T18:32:32.916772Z",
     "iopub.status.idle": "2025-08-19T18:32:32.924805Z",
     "shell.execute_reply": "2025-08-19T18:32:32.923877Z"
    },
    "papermill": {
     "duration": 0.022974,
     "end_time": "2025-08-19T18:32:32.926971",
     "exception": false,
     "start_time": "2025-08-19T18:32:32.903997",
     "status": "completed"
    },
    "tags": []
   },
   "outputs": [],
   "source": [
    "y_true = y_true.squeeze()"
   ]
  },
  {
   "cell_type": "code",
   "execution_count": 45,
   "id": "e700e9a7",
   "metadata": {
    "execution": {
     "iopub.execute_input": "2025-08-19T18:32:32.952406Z",
     "iopub.status.busy": "2025-08-19T18:32:32.952028Z",
     "iopub.status.idle": "2025-08-19T18:32:33.443612Z",
     "shell.execute_reply": "2025-08-19T18:32:33.442455Z"
    },
    "papermill": {
     "duration": 0.505475,
     "end_time": "2025-08-19T18:32:33.445228",
     "exception": false,
     "start_time": "2025-08-19T18:32:32.939753",
     "status": "completed"
    },
    "tags": []
   },
   "outputs": [],
   "source": [
    "from fairness_multiverse.conformal import evaluate_sets\n",
    "\n",
    "# Evaluate coverage and average set size on test data\n",
    "metrics = evaluate_sets(pred_sets, y_true)"
   ]
  },
  {
   "cell_type": "markdown",
   "id": "efbacec0",
   "metadata": {
    "papermill": {
     "duration": 0.01209,
     "end_time": "2025-08-19T18:32:33.469309",
     "exception": false,
     "start_time": "2025-08-19T18:32:33.457219",
     "status": "completed"
    },
    "tags": []
   },
   "source": [
    "# CP Metrics"
   ]
  },
  {
   "cell_type": "code",
   "execution_count": 46,
   "id": "9de55fb1",
   "metadata": {
    "execution": {
     "iopub.execute_input": "2025-08-19T18:32:33.495091Z",
     "iopub.status.busy": "2025-08-19T18:32:33.493624Z",
     "iopub.status.idle": "2025-08-19T18:32:33.507618Z",
     "shell.execute_reply": "2025-08-19T18:32:33.505798Z"
    },
    "papermill": {
     "duration": 0.028596,
     "end_time": "2025-08-19T18:32:33.509255",
     "exception": false,
     "start_time": "2025-08-19T18:32:33.480659",
     "status": "completed"
    },
    "tags": []
   },
   "outputs": [
    {
     "data": {
      "text/plain": [
       "{'coverage': 0.9106008248801695, 'avg_size': 1.137264519005685}"
      ]
     },
     "execution_count": 46,
     "metadata": {},
     "output_type": "execute_result"
    }
   ],
   "source": [
    "metrics"
   ]
  },
  {
   "cell_type": "code",
   "execution_count": 47,
   "id": "64c340a1",
   "metadata": {
    "execution": {
     "iopub.execute_input": "2025-08-19T18:32:33.534661Z",
     "iopub.status.busy": "2025-08-19T18:32:33.534149Z",
     "iopub.status.idle": "2025-08-19T18:32:33.541613Z",
     "shell.execute_reply": "2025-08-19T18:32:33.540966Z"
    },
    "papermill": {
     "duration": 0.021473,
     "end_time": "2025-08-19T18:32:33.542840",
     "exception": false,
     "start_time": "2025-08-19T18:32:33.521367",
     "status": "completed"
    },
    "tags": []
   },
   "outputs": [],
   "source": [
    "example_universe = universe.copy()\n",
    "universe_training_year = example_universe.get(\"training_year\")\n",
    "universe_training_size = example_universe.get(\"training_size\")\n",
    "universe_scale = example_universe.get(\"scale\")\n",
    "universe_model = example_universe.get(\"model\")\n",
    "universe_exclude_features = example_universe.get(\"exclude_features\")\n",
    "universe_exclude_subgroups = example_universe.get(\"exclude_subgroups\")"
   ]
  },
  {
   "cell_type": "code",
   "execution_count": 48,
   "id": "dbb53cb4",
   "metadata": {
    "execution": {
     "iopub.execute_input": "2025-08-19T18:32:33.570053Z",
     "iopub.status.busy": "2025-08-19T18:32:33.569274Z",
     "iopub.status.idle": "2025-08-19T18:32:33.580623Z",
     "shell.execute_reply": "2025-08-19T18:32:33.578908Z"
    },
    "papermill": {
     "duration": 0.026734,
     "end_time": "2025-08-19T18:32:33.582977",
     "exception": false,
     "start_time": "2025-08-19T18:32:33.556243",
     "status": "completed"
    },
    "tags": []
   },
   "outputs": [],
   "source": [
    "cp_metrics_dict = {\n",
    "    \"universe_id\": [universe_id],\n",
    "    \"universe_training_year\": [universe_training_year],\n",
    "    \"universe_training_size\": [universe_training_size],\n",
    "    \"universe_scale\": [universe_scale],\n",
    "    \"universe_model\": [universe_model],\n",
    "    \"universe_exclude_features\": [universe_exclude_features],\n",
    "    \"universe_exclude_subgroups\": [universe_exclude_subgroups],\n",
    "    \"q_hat\": [q_hat],\n",
    "    \"coverage\": [metrics[\"coverage\"]],\n",
    "    \"avg_size\": [metrics[\"avg_size\"]],\n",
    "}"
   ]
  },
  {
   "cell_type": "code",
   "execution_count": 49,
   "id": "0d70d4b2",
   "metadata": {
    "execution": {
     "iopub.execute_input": "2025-08-19T18:32:33.615236Z",
     "iopub.status.busy": "2025-08-19T18:32:33.614820Z",
     "iopub.status.idle": "2025-08-19T18:32:33.620818Z",
     "shell.execute_reply": "2025-08-19T18:32:33.620200Z"
    },
    "papermill": {
     "duration": 0.021157,
     "end_time": "2025-08-19T18:32:33.623043",
     "exception": false,
     "start_time": "2025-08-19T18:32:33.601886",
     "status": "completed"
    },
    "tags": []
   },
   "outputs": [],
   "source": [
    "cp_metrics_df = pd.DataFrame(cp_metrics_dict)"
   ]
  },
  {
   "cell_type": "code",
   "execution_count": 50,
   "id": "b494403c",
   "metadata": {
    "execution": {
     "iopub.execute_input": "2025-08-19T18:32:33.664654Z",
     "iopub.status.busy": "2025-08-19T18:32:33.663317Z",
     "iopub.status.idle": "2025-08-19T18:32:33.688108Z",
     "shell.execute_reply": "2025-08-19T18:32:33.686937Z"
    },
    "papermill": {
     "duration": 0.041621,
     "end_time": "2025-08-19T18:32:33.690143",
     "exception": false,
     "start_time": "2025-08-19T18:32:33.648522",
     "status": "completed"
    },
    "tags": []
   },
   "outputs": [
    {
     "data": {
      "text/html": [
       "<div>\n",
       "<style scoped>\n",
       "    .dataframe tbody tr th:only-of-type {\n",
       "        vertical-align: middle;\n",
       "    }\n",
       "\n",
       "    .dataframe tbody tr th {\n",
       "        vertical-align: top;\n",
       "    }\n",
       "\n",
       "    .dataframe thead th {\n",
       "        text-align: right;\n",
       "    }\n",
       "</style>\n",
       "<table border=\"1\" class=\"dataframe\">\n",
       "  <thead>\n",
       "    <tr style=\"text-align: right;\">\n",
       "      <th></th>\n",
       "      <th>universe_id</th>\n",
       "      <th>universe_training_year</th>\n",
       "      <th>universe_training_size</th>\n",
       "      <th>universe_scale</th>\n",
       "      <th>universe_model</th>\n",
       "      <th>universe_exclude_features</th>\n",
       "      <th>universe_exclude_subgroups</th>\n",
       "      <th>q_hat</th>\n",
       "      <th>coverage</th>\n",
       "      <th>avg_size</th>\n",
       "    </tr>\n",
       "  </thead>\n",
       "  <tbody>\n",
       "    <tr>\n",
       "      <th>0</th>\n",
       "      <td>7a521937c3f224121eaa8e1ba102d51e</td>\n",
       "      <td>2012_14</td>\n",
       "      <td>5k</td>\n",
       "      <td>scale</td>\n",
       "      <td>penalized_logreg</td>\n",
       "      <td>age</td>\n",
       "      <td>keep-all</td>\n",
       "      <td>0.691592</td>\n",
       "      <td>0.910601</td>\n",
       "      <td>1.137265</td>\n",
       "    </tr>\n",
       "  </tbody>\n",
       "</table>\n",
       "</div>"
      ],
      "text/plain": [
       "                        universe_id universe_training_year  \\\n",
       "0  7a521937c3f224121eaa8e1ba102d51e                2012_14   \n",
       "\n",
       "  universe_training_size universe_scale    universe_model  \\\n",
       "0                     5k          scale  penalized_logreg   \n",
       "\n",
       "  universe_exclude_features universe_exclude_subgroups     q_hat  coverage  \\\n",
       "0                       age                   keep-all  0.691592  0.910601   \n",
       "\n",
       "   avg_size  \n",
       "0  1.137265  "
      ]
     },
     "execution_count": 50,
     "metadata": {},
     "output_type": "execute_result"
    }
   ],
   "source": [
    "cp_metrics_df"
   ]
  },
  {
   "cell_type": "markdown",
   "id": "ed608b0b",
   "metadata": {
    "papermill": {
     "duration": 0.013159,
     "end_time": "2025-08-19T18:32:33.727333",
     "exception": false,
     "start_time": "2025-08-19T18:32:33.714174",
     "status": "completed"
    },
    "tags": []
   },
   "source": [
    "Conditional coverage & looking at subgroups"
   ]
  },
  {
   "cell_type": "code",
   "execution_count": 51,
   "id": "8968c366",
   "metadata": {
    "execution": {
     "iopub.execute_input": "2025-08-19T18:32:33.754776Z",
     "iopub.status.busy": "2025-08-19T18:32:33.753699Z",
     "iopub.status.idle": "2025-08-19T18:32:34.021408Z",
     "shell.execute_reply": "2025-08-19T18:32:34.020602Z"
    },
    "papermill": {
     "duration": 0.284729,
     "end_time": "2025-08-19T18:32:34.024370",
     "exception": false,
     "start_time": "2025-08-19T18:32:33.739641",
     "status": "completed"
    },
    "tags": []
   },
   "outputs": [],
   "source": [
    "from fairness_multiverse.conformal import build_cp_groups\n",
    "\n",
    "cp_groups_df = build_cp_groups(pred_sets, y_true, X_test.index, org_test)"
   ]
  },
  {
   "cell_type": "code",
   "execution_count": 52,
   "id": "292ddabf",
   "metadata": {
    "execution": {
     "iopub.execute_input": "2025-08-19T18:32:34.067671Z",
     "iopub.status.busy": "2025-08-19T18:32:34.066513Z",
     "iopub.status.idle": "2025-08-19T18:32:34.937428Z",
     "shell.execute_reply": "2025-08-19T18:32:34.936655Z"
    },
    "papermill": {
     "duration": 0.889458,
     "end_time": "2025-08-19T18:32:34.940418",
     "exception": false,
     "start_time": "2025-08-19T18:32:34.050960",
     "status": "completed"
    },
    "tags": []
   },
   "outputs": [],
   "source": [
    "# Define covered = 1 if true_label is in the predicted set\n",
    "cp_groups_df['covered'] = cp_groups_df.apply(\n",
    "    lambda r: int(r['true_label'] in r['pred_set']),\n",
    "    axis=1\n",
    ")"
   ]
  },
  {
   "cell_type": "code",
   "execution_count": 53,
   "id": "3a261692",
   "metadata": {
    "execution": {
     "iopub.execute_input": "2025-08-19T18:32:34.984919Z",
     "iopub.status.busy": "2025-08-19T18:32:34.983678Z",
     "iopub.status.idle": "2025-08-19T18:32:35.001857Z",
     "shell.execute_reply": "2025-08-19T18:32:35.000824Z"
    },
    "papermill": {
     "duration": 0.03589,
     "end_time": "2025-08-19T18:32:35.003609",
     "exception": false,
     "start_time": "2025-08-19T18:32:34.967719",
     "status": "completed"
    },
    "tags": []
   },
   "outputs": [],
   "source": [
    "subgroups = ['frau1','nongerman','nongerman_male','nongerman_female']\n",
    "\n",
    "# Conditional coverage for subgroup==1\n",
    "cond_coverage = {\n",
    "    g: cp_groups_df.loc[cp_groups_df[g]==1, 'covered'].mean()\n",
    "    for g in subgroups\n",
    "}"
   ]
  },
  {
   "cell_type": "code",
   "execution_count": 54,
   "id": "894fd600",
   "metadata": {
    "execution": {
     "iopub.execute_input": "2025-08-19T18:32:35.039620Z",
     "iopub.status.busy": "2025-08-19T18:32:35.038415Z",
     "iopub.status.idle": "2025-08-19T18:32:35.048173Z",
     "shell.execute_reply": "2025-08-19T18:32:35.047054Z"
    },
    "papermill": {
     "duration": 0.02668,
     "end_time": "2025-08-19T18:32:35.049796",
     "exception": false,
     "start_time": "2025-08-19T18:32:35.023116",
     "status": "completed"
    },
    "tags": []
   },
   "outputs": [
    {
     "data": {
      "text/plain": [
       "{'frau1': 0.9056207035988678,\n",
       " 'nongerman': 0.911413012968057,\n",
       " 'nongerman_male': 0.9283076645951545,\n",
       " 'nongerman_female': 0.8834575260804769}"
      ]
     },
     "execution_count": 54,
     "metadata": {},
     "output_type": "execute_result"
    }
   ],
   "source": [
    "cond_coverage"
   ]
  },
  {
   "cell_type": "code",
   "execution_count": 55,
   "id": "942895c7",
   "metadata": {
    "execution": {
     "iopub.execute_input": "2025-08-19T18:32:35.081749Z",
     "iopub.status.busy": "2025-08-19T18:32:35.080533Z",
     "iopub.status.idle": "2025-08-19T18:32:35.092165Z",
     "shell.execute_reply": "2025-08-19T18:32:35.090868Z"
    },
    "papermill": {
     "duration": 0.028159,
     "end_time": "2025-08-19T18:32:35.093863",
     "exception": false,
     "start_time": "2025-08-19T18:32:35.065704",
     "status": "completed"
    },
    "tags": []
   },
   "outputs": [],
   "source": [
    "for subgroup, cov in cond_coverage.items():\n",
    "    cp_metrics_df[f\"cov_{subgroup}\"] = cov"
   ]
  },
  {
   "cell_type": "code",
   "execution_count": 56,
   "id": "3970120f",
   "metadata": {
    "execution": {
     "iopub.execute_input": "2025-08-19T18:32:35.127345Z",
     "iopub.status.busy": "2025-08-19T18:32:35.126225Z",
     "iopub.status.idle": "2025-08-19T18:32:35.150901Z",
     "shell.execute_reply": "2025-08-19T18:32:35.150084Z"
    },
    "papermill": {
     "duration": 0.04157,
     "end_time": "2025-08-19T18:32:35.152652",
     "exception": false,
     "start_time": "2025-08-19T18:32:35.111082",
     "status": "completed"
    },
    "tags": []
   },
   "outputs": [
    {
     "data": {
      "text/html": [
       "<div>\n",
       "<style scoped>\n",
       "    .dataframe tbody tr th:only-of-type {\n",
       "        vertical-align: middle;\n",
       "    }\n",
       "\n",
       "    .dataframe tbody tr th {\n",
       "        vertical-align: top;\n",
       "    }\n",
       "\n",
       "    .dataframe thead th {\n",
       "        text-align: right;\n",
       "    }\n",
       "</style>\n",
       "<table border=\"1\" class=\"dataframe\">\n",
       "  <thead>\n",
       "    <tr style=\"text-align: right;\">\n",
       "      <th></th>\n",
       "      <th>universe_id</th>\n",
       "      <th>universe_training_year</th>\n",
       "      <th>universe_training_size</th>\n",
       "      <th>universe_scale</th>\n",
       "      <th>universe_model</th>\n",
       "      <th>universe_exclude_features</th>\n",
       "      <th>universe_exclude_subgroups</th>\n",
       "      <th>q_hat</th>\n",
       "      <th>coverage</th>\n",
       "      <th>avg_size</th>\n",
       "      <th>cov_frau1</th>\n",
       "      <th>cov_nongerman</th>\n",
       "      <th>cov_nongerman_male</th>\n",
       "      <th>cov_nongerman_female</th>\n",
       "    </tr>\n",
       "  </thead>\n",
       "  <tbody>\n",
       "    <tr>\n",
       "      <th>0</th>\n",
       "      <td>7a521937c3f224121eaa8e1ba102d51e</td>\n",
       "      <td>2012_14</td>\n",
       "      <td>5k</td>\n",
       "      <td>scale</td>\n",
       "      <td>penalized_logreg</td>\n",
       "      <td>age</td>\n",
       "      <td>keep-all</td>\n",
       "      <td>0.691592</td>\n",
       "      <td>0.910601</td>\n",
       "      <td>1.137265</td>\n",
       "      <td>0.905621</td>\n",
       "      <td>0.911413</td>\n",
       "      <td>0.928308</td>\n",
       "      <td>0.883458</td>\n",
       "    </tr>\n",
       "  </tbody>\n",
       "</table>\n",
       "</div>"
      ],
      "text/plain": [
       "                        universe_id universe_training_year  \\\n",
       "0  7a521937c3f224121eaa8e1ba102d51e                2012_14   \n",
       "\n",
       "  universe_training_size universe_scale    universe_model  \\\n",
       "0                     5k          scale  penalized_logreg   \n",
       "\n",
       "  universe_exclude_features universe_exclude_subgroups     q_hat  coverage  \\\n",
       "0                       age                   keep-all  0.691592  0.910601   \n",
       "\n",
       "   avg_size  cov_frau1  cov_nongerman  cov_nongerman_male  \\\n",
       "0  1.137265   0.905621       0.911413            0.928308   \n",
       "\n",
       "   cov_nongerman_female  \n",
       "0              0.883458  "
      ]
     },
     "execution_count": 56,
     "metadata": {},
     "output_type": "execute_result"
    }
   ],
   "source": [
    "cp_metrics_df"
   ]
  },
  {
   "cell_type": "markdown",
   "id": "3fc519cc",
   "metadata": {
    "papermill": {
     "duration": 0.013367,
     "end_time": "2025-08-19T18:32:35.186521",
     "exception": false,
     "start_time": "2025-08-19T18:32:35.173154",
     "status": "completed"
    },
    "tags": []
   },
   "source": [
    "# (Fairness) Metrics"
   ]
  },
  {
   "cell_type": "code",
   "execution_count": 57,
   "id": "a2e5e155",
   "metadata": {
    "execution": {
     "iopub.execute_input": "2025-08-19T18:32:35.214544Z",
     "iopub.status.busy": "2025-08-19T18:32:35.213379Z",
     "iopub.status.idle": "2025-08-19T18:32:35.245106Z",
     "shell.execute_reply": "2025-08-19T18:32:35.244237Z"
    },
    "papermill": {
     "duration": 0.048094,
     "end_time": "2025-08-19T18:32:35.247239",
     "exception": false,
     "start_time": "2025-08-19T18:32:35.199145",
     "status": "completed"
    },
    "tags": []
   },
   "outputs": [],
   "source": [
    "colname_to_bin = \"maxdeutsch1\"\n",
    "majority_value = org_train[colname_to_bin].mode()[0]\n",
    "\n",
    "org_test[\"majmin\"] = np.where(org_test[colname_to_bin] == majority_value, \"majority\", \"minority\")"
   ]
  },
  {
   "cell_type": "code",
   "execution_count": 58,
   "id": "17e3e4d5",
   "metadata": {
    "execution": {
     "iopub.execute_input": "2025-08-19T18:32:35.308912Z",
     "iopub.status.busy": "2025-08-19T18:32:35.308448Z",
     "iopub.status.idle": "2025-08-19T18:32:36.998710Z",
     "shell.execute_reply": "2025-08-19T18:32:36.997953Z"
    },
    "papermill": {
     "duration": 1.715656,
     "end_time": "2025-08-19T18:32:37.000498",
     "exception": false,
     "start_time": "2025-08-19T18:32:35.284842",
     "status": "completed"
    },
    "tags": []
   },
   "outputs": [],
   "source": [
    "example_universe = universe.copy()\n",
    "example_universe[\"cutoff\"] = example_universe[\"cutoff\"][0]\n",
    "example_universe[\"eval_fairness_grouping\"] = example_universe[\"eval_fairness_grouping\"][0]\n",
    "fairness_dict, metric_frame = universe_analysis.compute_metrics(\n",
    "    example_universe,\n",
    "    y_pred_prob=probs_test,\n",
    "    y_test=y_true,\n",
    "    org_test=org_test,\n",
    ")"
   ]
  },
  {
   "cell_type": "markdown",
   "id": "1fb7a0e9",
   "metadata": {
    "papermill": {
     "duration": 0.012592,
     "end_time": "2025-08-19T18:32:37.029149",
     "exception": false,
     "start_time": "2025-08-19T18:32:37.016557",
     "status": "completed"
    },
    "tags": []
   },
   "source": [
    "# Overall"
   ]
  },
  {
   "cell_type": "markdown",
   "id": "be1784b1",
   "metadata": {
    "papermill": {
     "duration": 0.012196,
     "end_time": "2025-08-19T18:32:37.053699",
     "exception": false,
     "start_time": "2025-08-19T18:32:37.041503",
     "status": "completed"
    },
    "tags": []
   },
   "source": [
    "Main fairness target: Equalized Odds. Seems to be a better fit than equal opportunity, since we're not only interested in Y = 1. Seems to be a better fit than demographic parity, since we also care about accuracy, not just equal distribution of preds.\n",
    "\n",
    "Pick column for computation of fairness metrics\n",
    "\n",
    "Performance\n",
    "Overall performance measures, most interesting in relation to the measures split by group below"
   ]
  },
  {
   "cell_type": "code",
   "execution_count": 59,
   "id": "b7672bee",
   "metadata": {
    "execution": {
     "iopub.execute_input": "2025-08-19T18:32:37.080414Z",
     "iopub.status.busy": "2025-08-19T18:32:37.079808Z",
     "iopub.status.idle": "2025-08-19T18:32:37.087974Z",
     "shell.execute_reply": "2025-08-19T18:32:37.087080Z"
    },
    "papermill": {
     "duration": 0.024961,
     "end_time": "2025-08-19T18:32:37.090979",
     "exception": false,
     "start_time": "2025-08-19T18:32:37.066018",
     "status": "completed"
    },
    "tags": []
   },
   "outputs": [
    {
     "data": {
      "text/plain": [
       "accuracy                   0.223754\n",
       "balanced accuracy          0.547240\n",
       "f1                         0.245103\n",
       "precision                  0.140019\n",
       "false positive rate        0.887880\n",
       "false negative rate        0.017640\n",
       "selection rate             0.900000\n",
       "count                  89710.000000\n",
       "dtype: float64"
      ]
     },
     "execution_count": 59,
     "metadata": {},
     "output_type": "execute_result"
    }
   ],
   "source": [
    "metric_frame.overall"
   ]
  },
  {
   "cell_type": "markdown",
   "id": "d93333c9",
   "metadata": {
    "papermill": {
     "duration": 0.012554,
     "end_time": "2025-08-19T18:32:37.118312",
     "exception": false,
     "start_time": "2025-08-19T18:32:37.105758",
     "status": "completed"
    },
    "tags": []
   },
   "source": [
    "By Group"
   ]
  },
  {
   "cell_type": "code",
   "execution_count": 60,
   "id": "52256966",
   "metadata": {
    "execution": {
     "iopub.execute_input": "2025-08-19T18:32:37.144914Z",
     "iopub.status.busy": "2025-08-19T18:32:37.144432Z",
     "iopub.status.idle": "2025-08-19T18:32:37.156935Z",
     "shell.execute_reply": "2025-08-19T18:32:37.156057Z"
    },
    "papermill": {
     "duration": 0.027567,
     "end_time": "2025-08-19T18:32:37.158401",
     "exception": false,
     "start_time": "2025-08-19T18:32:37.130834",
     "status": "completed"
    },
    "tags": []
   },
   "outputs": [
    {
     "data": {
      "text/html": [
       "<div>\n",
       "<style scoped>\n",
       "    .dataframe tbody tr th:only-of-type {\n",
       "        vertical-align: middle;\n",
       "    }\n",
       "\n",
       "    .dataframe tbody tr th {\n",
       "        vertical-align: top;\n",
       "    }\n",
       "\n",
       "    .dataframe thead th {\n",
       "        text-align: right;\n",
       "    }\n",
       "</style>\n",
       "<table border=\"1\" class=\"dataframe\">\n",
       "  <thead>\n",
       "    <tr style=\"text-align: right;\">\n",
       "      <th></th>\n",
       "      <th>accuracy</th>\n",
       "      <th>balanced accuracy</th>\n",
       "      <th>f1</th>\n",
       "      <th>precision</th>\n",
       "      <th>false positive rate</th>\n",
       "      <th>false negative rate</th>\n",
       "      <th>selection rate</th>\n",
       "      <th>count</th>\n",
       "    </tr>\n",
       "    <tr>\n",
       "      <th>majmin</th>\n",
       "      <th></th>\n",
       "      <th></th>\n",
       "      <th></th>\n",
       "      <th></th>\n",
       "      <th></th>\n",
       "      <th></th>\n",
       "      <th></th>\n",
       "      <th></th>\n",
       "    </tr>\n",
       "  </thead>\n",
       "  <tbody>\n",
       "    <tr>\n",
       "      <th>majority</th>\n",
       "      <td>0.247824</td>\n",
       "      <td>0.557978</td>\n",
       "      <td>0.256041</td>\n",
       "      <td>0.147268</td>\n",
       "      <td>0.863585</td>\n",
       "      <td>0.020460</td>\n",
       "      <td>0.878907</td>\n",
       "      <td>69170.0</td>\n",
       "    </tr>\n",
       "    <tr>\n",
       "      <th>minority</th>\n",
       "      <td>0.142697</td>\n",
       "      <td>0.512553</td>\n",
       "      <td>0.210819</td>\n",
       "      <td>0.117924</td>\n",
       "      <td>0.968138</td>\n",
       "      <td>0.006757</td>\n",
       "      <td>0.971032</td>\n",
       "      <td>20540.0</td>\n",
       "    </tr>\n",
       "  </tbody>\n",
       "</table>\n",
       "</div>"
      ],
      "text/plain": [
       "          accuracy  balanced accuracy        f1  precision  \\\n",
       "majmin                                                       \n",
       "majority  0.247824           0.557978  0.256041   0.147268   \n",
       "minority  0.142697           0.512553  0.210819   0.117924   \n",
       "\n",
       "          false positive rate  false negative rate  selection rate    count  \n",
       "majmin                                                                       \n",
       "majority             0.863585             0.020460        0.878907  69170.0  \n",
       "minority             0.968138             0.006757        0.971032  20540.0  "
      ]
     },
     "execution_count": 60,
     "metadata": {},
     "output_type": "execute_result"
    }
   ],
   "source": [
    "metric_frame.by_group"
   ]
  },
  {
   "cell_type": "code",
   "execution_count": 61,
   "id": "6e6c20ae",
   "metadata": {
    "execution": {
     "iopub.execute_input": "2025-08-19T18:32:37.189055Z",
     "iopub.status.busy": "2025-08-19T18:32:37.188029Z",
     "iopub.status.idle": "2025-08-19T18:32:38.974776Z",
     "shell.execute_reply": "2025-08-19T18:32:38.974011Z"
    },
    "papermill": {
     "duration": 1.80594,
     "end_time": "2025-08-19T18:32:38.979878",
     "exception": false,
     "start_time": "2025-08-19T18:32:37.173938",
     "status": "completed"
    },
    "tags": []
   },
   "outputs": [
    {
     "data": {
      "text/plain": [
       "array([[<Axes: title={'center': 'accuracy'}, xlabel='majmin'>,\n",
       "        <Axes: title={'center': 'balanced accuracy'}, xlabel='majmin'>,\n",
       "        <Axes: title={'center': 'f1'}, xlabel='majmin'>],\n",
       "       [<Axes: title={'center': 'precision'}, xlabel='majmin'>,\n",
       "        <Axes: title={'center': 'false positive rate'}, xlabel='majmin'>,\n",
       "        <Axes: title={'center': 'false negative rate'}, xlabel='majmin'>],\n",
       "       [<Axes: title={'center': 'selection rate'}, xlabel='majmin'>,\n",
       "        <Axes: title={'center': 'count'}, xlabel='majmin'>,\n",
       "        <Axes: xlabel='majmin'>]], dtype=object)"
      ]
     },
     "execution_count": 61,
     "metadata": {},
     "output_type": "execute_result"
    },
    {
     "data": {
      "image/png": "[encoded data removed]",
      "text/plain": [
       "<Figure size 1200x800 with 9 Axes>"
      ]
     },
     "metadata": {},
     "output_type": "display_data"
    }
   ],
   "source": [
    "# In a graphic\n",
    "metric_frame.by_group.plot.bar(\n",
    "    subplots=True,\n",
    "    layout=[3, 3],\n",
    "    legend=False,\n",
    "    figsize=[12, 8],\n",
    "    title=\"Show all metrics\",\n",
    ")"
   ]
  },
  {
   "cell_type": "markdown",
   "id": "b2e433ae",
   "metadata": {
    "papermill": {
     "duration": 0.033181,
     "end_time": "2025-08-19T18:32:39.045927",
     "exception": false,
     "start_time": "2025-08-19T18:32:39.012746",
     "status": "completed"
    },
    "tags": []
   },
   "source": [
    "# Final Output"
   ]
  },
  {
   "cell_type": "code",
   "execution_count": 62,
   "id": "3871301e",
   "metadata": {
    "execution": {
     "iopub.execute_input": "2025-08-19T18:32:39.079721Z",
     "iopub.status.busy": "2025-08-19T18:32:39.079173Z",
     "iopub.status.idle": "2025-08-19T18:32:39.085416Z",
     "shell.execute_reply": "2025-08-19T18:32:39.084688Z"
    },
    "papermill": {
     "duration": 0.023114,
     "end_time": "2025-08-19T18:32:39.087132",
     "exception": false,
     "start_time": "2025-08-19T18:32:39.064018",
     "status": "completed"
    },
    "tags": []
   },
   "outputs": [
    {
     "data": {
      "text/plain": [
       "4"
      ]
     },
     "execution_count": 62,
     "metadata": {},
     "output_type": "execute_result"
    }
   ],
   "source": [
    "sub_universes = universe_analysis.generate_sub_universes()\n",
    "len(sub_universes)"
   ]
  },
  {
   "cell_type": "code",
   "execution_count": 63,
   "id": "d9cfdaca",
   "metadata": {
    "execution": {
     "iopub.execute_input": "2025-08-19T18:32:39.116923Z",
     "iopub.status.busy": "2025-08-19T18:32:39.116529Z",
     "iopub.status.idle": "2025-08-19T18:32:39.144899Z",
     "shell.execute_reply": "2025-08-19T18:32:39.143801Z"
    },
    "papermill": {
     "duration": 0.045478,
     "end_time": "2025-08-19T18:32:39.146951",
     "exception": false,
     "start_time": "2025-08-19T18:32:39.101473",
     "status": "completed"
    },
    "tags": []
   },
   "outputs": [],
   "source": [
    "def filter_sub_universe_data(sub_universe, org_test):\n",
    "    # Keep all rows — no filtering\n",
    "    keep_rows_mask = np.ones(org_test.shape[0], dtype=bool)\n",
    "\n",
    "    print(f\"[INFO] Keeping all rows: {keep_rows_mask.sum()} rows retained.\")\n",
    "    return keep_rows_mask"
   ]
  },
  {
   "cell_type": "code",
   "execution_count": 64,
   "id": "2bc31ac1",
   "metadata": {
    "execution": {
     "iopub.execute_input": "2025-08-19T18:32:39.187650Z",
     "iopub.status.busy": "2025-08-19T18:32:39.187169Z",
     "iopub.status.idle": "2025-08-19T18:32:46.270325Z",
     "shell.execute_reply": "2025-08-19T18:32:46.266870Z"
    },
    "papermill": {
     "duration": 7.101213,
     "end_time": "2025-08-19T18:32:46.273140",
     "exception": false,
     "start_time": "2025-08-19T18:32:39.171927",
     "status": "completed"
    },
    "tags": []
   },
   "outputs": [
    {
     "name": "stdout",
     "output_type": "stream",
     "text": [
      "Stopping execution_time clock.\n",
      "[INFO] Keeping all rows: 89710 rows retained.\n"
     ]
    },
    {
     "name": "stdout",
     "output_type": "stream",
     "text": [
      "[INFO] Keeping all rows: 89710 rows retained.\n"
     ]
    },
    {
     "name": "stdout",
     "output_type": "stream",
     "text": [
      "[INFO] Keeping all rows: 89710 rows retained.\n"
     ]
    },
    {
     "name": "stdout",
     "output_type": "stream",
     "text": [
      "[INFO] Keeping all rows: 89710 rows retained.\n"
     ]
    },
    {
     "data": {
      "text/html": [
       "<div>\n",
       "<style scoped>\n",
       "    .dataframe tbody tr th:only-of-type {\n",
       "        vertical-align: middle;\n",
       "    }\n",
       "\n",
       "    .dataframe tbody tr th {\n",
       "        vertical-align: top;\n",
       "    }\n",
       "\n",
       "    .dataframe thead th {\n",
       "        text-align: right;\n",
       "    }\n",
       "</style>\n",
       "<table border=\"1\" class=\"dataframe\">\n",
       "  <thead>\n",
       "    <tr style=\"text-align: right;\">\n",
       "      <th></th>\n",
       "      <th>run_no</th>\n",
       "      <th>universe_id</th>\n",
       "      <th>universe_settings</th>\n",
       "      <th>execution_time</th>\n",
       "      <th>test_size_n</th>\n",
       "      <th>test_size_frac</th>\n",
       "      <th>fair_main_equalized_odds_difference</th>\n",
       "      <th>fair_main_equalized_odds_ratio</th>\n",
       "      <th>fair_main_demographic_parity_difference</th>\n",
       "      <th>fair_main_demographic_parity_ratio</th>\n",
       "      <th>...</th>\n",
       "      <th>perf_grp_precision_0</th>\n",
       "      <th>perf_grp_precision_1</th>\n",
       "      <th>perf_grp_false positive rate_0</th>\n",
       "      <th>perf_grp_false positive rate_1</th>\n",
       "      <th>perf_grp_false negative rate_0</th>\n",
       "      <th>perf_grp_false negative rate_1</th>\n",
       "      <th>perf_grp_selection rate_0</th>\n",
       "      <th>perf_grp_selection rate_1</th>\n",
       "      <th>perf_grp_count_0</th>\n",
       "      <th>perf_grp_count_1</th>\n",
       "    </tr>\n",
       "  </thead>\n",
       "  <tbody>\n",
       "    <tr>\n",
       "      <th>0</th>\n",
       "      <td>3</td>\n",
       "      <td>7a521937c3f224121eaa8e1ba102d51e</td>\n",
       "      <td>{\"cutoff\": \"quantile_0.1\", \"eval_fairness_grou...</td>\n",
       "      <td>22.181441</td>\n",
       "      <td>89710</td>\n",
       "      <td>1.0</td>\n",
       "      <td>0.104553</td>\n",
       "      <td>0.892006</td>\n",
       "      <td>0.092125</td>\n",
       "      <td>0.905127</td>\n",
       "      <td>...</td>\n",
       "      <td>NaN</td>\n",
       "      <td>NaN</td>\n",
       "      <td>NaN</td>\n",
       "      <td>NaN</td>\n",
       "      <td>NaN</td>\n",
       "      <td>NaN</td>\n",
       "      <td>NaN</td>\n",
       "      <td>NaN</td>\n",
       "      <td>NaN</td>\n",
       "      <td>NaN</td>\n",
       "    </tr>\n",
       "    <tr>\n",
       "      <th>0</th>\n",
       "      <td>3</td>\n",
       "      <td>7a521937c3f224121eaa8e1ba102d51e</td>\n",
       "      <td>{\"cutoff\": \"quantile_0.1\", \"eval_fairness_grou...</td>\n",
       "      <td>22.181441</td>\n",
       "      <td>89710</td>\n",
       "      <td>1.0</td>\n",
       "      <td>0.104553</td>\n",
       "      <td>0.892006</td>\n",
       "      <td>0.092125</td>\n",
       "      <td>0.905127</td>\n",
       "      <td>...</td>\n",
       "      <td>0.117924</td>\n",
       "      <td>0.147268</td>\n",
       "      <td>0.968138</td>\n",
       "      <td>0.863585</td>\n",
       "      <td>0.006757</td>\n",
       "      <td>0.020460</td>\n",
       "      <td>0.971032</td>\n",
       "      <td>0.878907</td>\n",
       "      <td>20540.0</td>\n",
       "      <td>69170.0</td>\n",
       "    </tr>\n",
       "    <tr>\n",
       "      <th>0</th>\n",
       "      <td>3</td>\n",
       "      <td>7a521937c3f224121eaa8e1ba102d51e</td>\n",
       "      <td>{\"cutoff\": \"quantile_0.25\", \"eval_fairness_gro...</td>\n",
       "      <td>22.181441</td>\n",
       "      <td>89710</td>\n",
       "      <td>1.0</td>\n",
       "      <td>0.199041</td>\n",
       "      <td>0.772746</td>\n",
       "      <td>0.176428</td>\n",
       "      <td>0.800878</td>\n",
       "      <td>...</td>\n",
       "      <td>NaN</td>\n",
       "      <td>NaN</td>\n",
       "      <td>NaN</td>\n",
       "      <td>NaN</td>\n",
       "      <td>NaN</td>\n",
       "      <td>NaN</td>\n",
       "      <td>NaN</td>\n",
       "      <td>NaN</td>\n",
       "      <td>NaN</td>\n",
       "      <td>NaN</td>\n",
       "    </tr>\n",
       "    <tr>\n",
       "      <th>0</th>\n",
       "      <td>3</td>\n",
       "      <td>7a521937c3f224121eaa8e1ba102d51e</td>\n",
       "      <td>{\"cutoff\": \"quantile_0.25\", \"eval_fairness_gro...</td>\n",
       "      <td>22.181441</td>\n",
       "      <td>89710</td>\n",
       "      <td>1.0</td>\n",
       "      <td>0.199041</td>\n",
       "      <td>0.772746</td>\n",
       "      <td>0.176428</td>\n",
       "      <td>0.800878</td>\n",
       "      <td>...</td>\n",
       "      <td>0.125446</td>\n",
       "      <td>0.172239</td>\n",
       "      <td>0.875853</td>\n",
       "      <td>0.676812</td>\n",
       "      <td>0.035895</td>\n",
       "      <td>0.075055</td>\n",
       "      <td>0.886027</td>\n",
       "      <td>0.709600</td>\n",
       "      <td>20540.0</td>\n",
       "      <td>69170.0</td>\n",
       "    </tr>\n",
       "  </tbody>\n",
       "</table>\n",
       "<p>4 rows × 50 columns</p>\n",
       "</div>"
      ],
      "text/plain": [
       "  run_no                       universe_id  \\\n",
       "0      3  7a521937c3f224121eaa8e1ba102d51e   \n",
       "0      3  7a521937c3f224121eaa8e1ba102d51e   \n",
       "0      3  7a521937c3f224121eaa8e1ba102d51e   \n",
       "0      3  7a521937c3f224121eaa8e1ba102d51e   \n",
       "\n",
       "                                   universe_settings  execution_time  \\\n",
       "0  {\"cutoff\": \"quantile_0.1\", \"eval_fairness_grou...       22.181441   \n",
       "0  {\"cutoff\": \"quantile_0.1\", \"eval_fairness_grou...       22.181441   \n",
       "0  {\"cutoff\": \"quantile_0.25\", \"eval_fairness_gro...       22.181441   \n",
       "0  {\"cutoff\": \"quantile_0.25\", \"eval_fairness_gro...       22.181441   \n",
       "\n",
       "   test_size_n  test_size_frac  fair_main_equalized_odds_difference  \\\n",
       "0        89710             1.0                             0.104553   \n",
       "0        89710             1.0                             0.104553   \n",
       "0        89710             1.0                             0.199041   \n",
       "0        89710             1.0                             0.199041   \n",
       "\n",
       "   fair_main_equalized_odds_ratio  fair_main_demographic_parity_difference  \\\n",
       "0                        0.892006                                 0.092125   \n",
       "0                        0.892006                                 0.092125   \n",
       "0                        0.772746                                 0.176428   \n",
       "0                        0.772746                                 0.176428   \n",
       "\n",
       "   fair_main_demographic_parity_ratio  ...  perf_grp_precision_0  \\\n",
       "0                            0.905127  ...                   NaN   \n",
       "0                            0.905127  ...              0.117924   \n",
       "0                            0.800878  ...                   NaN   \n",
       "0                            0.800878  ...              0.125446   \n",
       "\n",
       "   perf_grp_precision_1  perf_grp_false positive rate_0  \\\n",
       "0                   NaN                             NaN   \n",
       "0              0.147268                        0.968138   \n",
       "0                   NaN                             NaN   \n",
       "0              0.172239                        0.875853   \n",
       "\n",
       "   perf_grp_false positive rate_1  perf_grp_false negative rate_0  \\\n",
       "0                             NaN                             NaN   \n",
       "0                        0.863585                        0.006757   \n",
       "0                             NaN                             NaN   \n",
       "0                        0.676812                        0.035895   \n",
       "\n",
       "   perf_grp_false negative rate_1  perf_grp_selection rate_0  \\\n",
       "0                             NaN                        NaN   \n",
       "0                        0.020460                   0.971032   \n",
       "0                             NaN                        NaN   \n",
       "0                        0.075055                   0.886027   \n",
       "\n",
       "   perf_grp_selection rate_1  perf_grp_count_0  perf_grp_count_1  \n",
       "0                        NaN               NaN               NaN  \n",
       "0                   0.878907           20540.0           69170.0  \n",
       "0                        NaN               NaN               NaN  \n",
       "0                   0.709600           20540.0           69170.0  \n",
       "\n",
       "[4 rows x 50 columns]"
      ]
     },
     "execution_count": 64,
     "metadata": {},
     "output_type": "execute_result"
    }
   ],
   "source": [
    "final_output = universe_analysis.generate_final_output(\n",
    "    y_pred_prob=probs_test,\n",
    "    y_test=y_true,\n",
    "    org_test=org_test,\n",
    "    filter_data=filter_sub_universe_data,\n",
    "    cp_metrics_df=cp_metrics_df,\n",
    "    save=True,\n",
    ")\n",
    "final_output"
   ]
  },
  {
   "cell_type": "code",
   "execution_count": null,
   "id": "8b80a1ff",
   "metadata": {
    "papermill": {
     "duration": 0.014316,
     "end_time": "2025-08-19T18:32:46.314857",
     "exception": false,
     "start_time": "2025-08-19T18:32:46.300541",
     "status": "completed"
    },
    "tags": []
   },
   "outputs": [],
   "source": []
  },
  {
   "cell_type": "code",
   "execution_count": null,
   "id": "275c9fad",
   "metadata": {
    "papermill": {
     "duration": 0.014532,
     "end_time": "2025-08-19T18:32:46.344082",
     "exception": false,
     "start_time": "2025-08-19T18:32:46.329550",
     "status": "completed"
    },
    "tags": []
   },
   "outputs": [],
   "source": []
  }
 ],
 "metadata": {
  "celltoolbar": "Tags",
  "kernelspec": {
   "display_name": "Python (CMA Fairness)",
   "language": "python",
   "name": "cma_fair_env"
  },
  "language_info": {
   "codemirror_mode": {
    "name": "ipython",
    "version": 3
   },
   "file_extension": ".py",
   "mimetype": "text/x-python",
   "name": "python",
   "nbconvert_exporter": "python",
   "pygments_lexer": "ipython3",
   "version": "3.10.12"
  },
  "papermill": {
   "default_parameters": {},
   "duration": 33.775957,
   "end_time": "2025-08-19T18:32:47.182289",
   "environment_variables": {},
   "exception": null,
   "input_path": "universe_analysis.ipynb",
   "output_path": "output/runs/3/notebooks/m_3-7a521937c3f224121eaa8e1ba102d51e.ipynb",
   "parameters": {
    "output_dir": "output",
    "run_no": "3",
    "seed": "2023",
    "universe": "{\"cutoff\": [\"quantile_0.1\", \"quantile_0.25\"], \"eval_fairness_grouping\": [\"majority-minority\", \"nationality-all\"], \"exclude_features\": \"age\", \"exclude_subgroups\": \"keep-all\", \"model\": \"penalized_logreg\", \"scale\": \"scale\", \"training_size\": \"5k\", \"training_year\": \"2012_14\"}",
    "universe_id": "7a521937c3f224121eaa8e1ba102d51e"
   },
   "start_time": "2025-08-19T18:32:13.406332",
   "version": "2.6.0"
  }
 },
 "nbformat": 4,
 "nbformat_minor": 5
}