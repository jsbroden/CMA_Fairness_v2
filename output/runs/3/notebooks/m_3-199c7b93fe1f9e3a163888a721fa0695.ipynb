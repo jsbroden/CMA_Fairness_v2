{
 "cells": [
  {
   "cell_type": "markdown",
   "id": "ef23dbb3",
   "metadata": {
    "papermill": {
     "duration": 0.022757,
     "end_time": "2025-08-19T18:20:08.384020",
     "exception": false,
     "start_time": "2025-08-19T18:20:08.361263",
     "status": "completed"
    },
    "tags": []
   },
   "source": [
    "# Setup"
   ]
  },
  {
   "cell_type": "code",
   "execution_count": 1,
   "id": "0bc8e7dc",
   "metadata": {
    "execution": {
     "iopub.execute_input": "2025-08-19T18:20:08.406677Z",
     "iopub.status.busy": "2025-08-19T18:20:08.406204Z",
     "iopub.status.idle": "2025-08-19T18:20:08.416404Z",
     "shell.execute_reply": "2025-08-19T18:20:08.415623Z"
    },
    "papermill": {
     "duration": 0.02187,
     "end_time": "2025-08-19T18:20:08.418353",
     "exception": false,
     "start_time": "2025-08-19T18:20:08.396483",
     "status": "completed"
    },
    "tags": []
   },
   "outputs": [
    {
     "name": "stdout",
     "output_type": "stream",
     "text": [
      "/dss/dsshome1/0C/ra93lal2/cma/CMA_Fairness_v2\n"
     ]
    },
    {
     "name": "stderr",
     "output_type": "stream",
     "text": [
      "/dss/dsshome1/0C/ra93lal2/.local/share/virtualenvs/CMA_Fairness_v2-3j10GkSs/lib/python3.10/site-packages/IPython/core/magics/osm.py:393: UserWarning: This is now an optional IPython functionality, using bookmarks requires you to install the `pickleshare` library.\n",
      "  bkms = self.shell.db.get('bookmarks', {})\n",
      "/dss/dsshome1/0C/ra93lal2/.local/share/virtualenvs/CMA_Fairness_v2-3j10GkSs/lib/python3.10/site-packages/IPython/core/magics/osm.py:417: UserWarning: This is now an optional IPython functionality, setting dhist requires you to install the `pickleshare` library.\n",
      "  self.shell.db['dhist'] = compress_dhist(dhist)[-100:]\n"
     ]
    }
   ],
   "source": [
    "%cd ~/cma/CMA_Fairness_v2"
   ]
  },
  {
   "cell_type": "markdown",
   "id": "9d235661",
   "metadata": {
    "papermill": {
     "duration": 0.008763,
     "end_time": "2025-08-19T18:20:08.437137",
     "exception": false,
     "start_time": "2025-08-19T18:20:08.428374",
     "status": "completed"
    },
    "tags": []
   },
   "source": [
    "The following cell holds the definition of our parameters, these values can be overriden by rendering the with e.g. the following command:\n",
    "\n",
    "papermill -p alpha 0.2 -p ratio 0.3 universe_analysis.ipynb output/test_run.ipynb"
   ]
  },
  {
   "cell_type": "code",
   "execution_count": 2,
   "id": "4a789d8e",
   "metadata": {
    "execution": {
     "iopub.execute_input": "2025-08-19T18:20:08.456319Z",
     "iopub.status.busy": "2025-08-19T18:20:08.455882Z",
     "iopub.status.idle": "2025-08-19T18:20:08.460559Z",
     "shell.execute_reply": "2025-08-19T18:20:08.459739Z"
    },
    "papermill": {
     "duration": 0.015841,
     "end_time": "2025-08-19T18:20:08.462132",
     "exception": false,
     "start_time": "2025-08-19T18:20:08.446291",
     "status": "completed"
    },
    "tags": []
   },
   "outputs": [
    {
     "name": "stdout",
     "output_type": "stream",
     "text": [
      "Current working directory: /dss/dsshome1/0C/ra93lal2/cma/CMA_Fairness_v2\n"
     ]
    }
   ],
   "source": [
    "import os\n",
    "print(\"Current working directory:\", os.getcwd())"
   ]
  },
  {
   "cell_type": "code",
   "execution_count": 3,
   "id": "4132aaed",
   "metadata": {
    "execution": {
     "iopub.execute_input": "2025-08-19T18:20:08.481122Z",
     "iopub.status.busy": "2025-08-19T18:20:08.480725Z",
     "iopub.status.idle": "2025-08-19T18:20:08.485870Z",
     "shell.execute_reply": "2025-08-19T18:20:08.485094Z"
    },
    "papermill": {
     "duration": 0.016165,
     "end_time": "2025-08-19T18:20:08.487182",
     "exception": false,
     "start_time": "2025-08-19T18:20:08.471017",
     "status": "completed"
    },
    "tags": [
     "parameters"
    ]
   },
   "outputs": [],
   "source": [
    "run_no = 0\n",
    "universe_id = \"test\"\n",
    "universe = {\n",
    "    \"training_size\": \"5k\", # \"25k\", \"5k\", \"1k\"\n",
    "    \"training_year\": \"2012_14\", # \"2014\", \"2012_14\", \"2010_14\"\n",
    "    \"scale\": \"scale\", # \"scale\", \"do-not-scale\",\n",
    "    \"model\": \"elasticnet\", # \"logreg\", \"penalized_logreg\", \"rf\", \"gbm\", \"elasticnet\"\n",
    "    \"cutoff\": [\"quantile_0.15\", \"quantile_0.30\"],\n",
    "    \"exclude_features\": \"age\", # \"none\", \"nationality\", \"sex\", \"nationality-sex\", \"age\"\n",
    "    \"exclude_subgroups\": \"drop-non-german\", # \"keep-all\", \"drop-non-german\"\n",
    "    \"eval_fairness_grouping\": [\"majority-minority\", \"nationality-all\"]\n",
    "}\n",
    "\n",
    "output_dir=\"./output\"\n",
    "seed=0"
   ]
  },
  {
   "cell_type": "code",
   "execution_count": 4,
   "id": "e5acf58e",
   "metadata": {
    "execution": {
     "iopub.execute_input": "2025-08-19T18:20:08.508105Z",
     "iopub.status.busy": "2025-08-19T18:20:08.507300Z",
     "iopub.status.idle": "2025-08-19T18:20:08.511868Z",
     "shell.execute_reply": "2025-08-19T18:20:08.511117Z"
    },
    "papermill": {
     "duration": 0.015523,
     "end_time": "2025-08-19T18:20:08.513104",
     "exception": false,
     "start_time": "2025-08-19T18:20:08.497581",
     "status": "completed"
    },
    "tags": [
     "injected-parameters"
    ]
   },
   "outputs": [],
   "source": [
    "# Parameters\n",
    "universe_id = \"199c7b93fe1f9e3a163888a721fa0695\"\n",
    "run_no = \"3\"\n",
    "universe = \"{\\\"cutoff\\\": [\\\"quantile_0.1\\\", \\\"quantile_0.25\\\"], \\\"eval_fairness_grouping\\\": [\\\"majority-minority\\\", \\\"nationality-all\\\"], \\\"exclude_features\\\": \\\"age\\\", \\\"exclude_subgroups\\\": \\\"keep-all\\\", \\\"model\\\": \\\"rf\\\", \\\"scale\\\": \\\"do-not-scale\\\", \\\"training_size\\\": \\\"25k\\\", \\\"training_year\\\": \\\"2010_14\\\"}\"\n",
    "output_dir = \"output\"\n",
    "seed = \"2023\"\n"
   ]
  },
  {
   "cell_type": "code",
   "execution_count": 5,
   "id": "a5d7941f",
   "metadata": {
    "execution": {
     "iopub.execute_input": "2025-08-19T18:20:08.533943Z",
     "iopub.status.busy": "2025-08-19T18:20:08.533105Z",
     "iopub.status.idle": "2025-08-19T18:20:08.541196Z",
     "shell.execute_reply": "2025-08-19T18:20:08.538992Z"
    },
    "papermill": {
     "duration": 0.019924,
     "end_time": "2025-08-19T18:20:08.542688",
     "exception": false,
     "start_time": "2025-08-19T18:20:08.522764",
     "status": "completed"
    },
    "tags": []
   },
   "outputs": [],
   "source": [
    "import json\n",
    "if isinstance(universe, str):\n",
    "    universe = json.loads(universe)"
   ]
  },
  {
   "cell_type": "code",
   "execution_count": 6,
   "id": "7076ccb1",
   "metadata": {
    "execution": {
     "iopub.execute_input": "2025-08-19T18:20:08.566662Z",
     "iopub.status.busy": "2025-08-19T18:20:08.565242Z",
     "iopub.status.idle": "2025-08-19T18:20:08.627720Z",
     "shell.execute_reply": "2025-08-19T18:20:08.626945Z"
    },
    "papermill": {
     "duration": 0.076239,
     "end_time": "2025-08-19T18:20:08.630424",
     "exception": false,
     "start_time": "2025-08-19T18:20:08.554185",
     "status": "completed"
    },
    "tags": []
   },
   "outputs": [],
   "source": [
    "# Auto-reload the custom package\n",
    "%load_ext autoreload\n",
    "%autoreload 1\n",
    "%aimport fairness_multiverse"
   ]
  },
  {
   "cell_type": "code",
   "execution_count": 7,
   "id": "94c8eb93",
   "metadata": {
    "execution": {
     "iopub.execute_input": "2025-08-19T18:20:08.678775Z",
     "iopub.status.busy": "2025-08-19T18:20:08.675684Z",
     "iopub.status.idle": "2025-08-19T18:20:10.216239Z",
     "shell.execute_reply": "2025-08-19T18:20:10.215316Z"
    },
    "papermill": {
     "duration": 1.565377,
     "end_time": "2025-08-19T18:20:10.218389",
     "exception": false,
     "start_time": "2025-08-19T18:20:08.653012",
     "status": "completed"
    },
    "tags": []
   },
   "outputs": [],
   "source": [
    "from fairness_multiverse.universe import UniverseAnalysis\n",
    "\n",
    "universe_analysis = UniverseAnalysis(\n",
    "    run_no = run_no,\n",
    "    universe_id = universe_id,\n",
    "    universe = universe,\n",
    "    output_dir=output_dir,\n",
    ")"
   ]
  },
  {
   "cell_type": "code",
   "execution_count": 8,
   "id": "2a6381cf",
   "metadata": {
    "execution": {
     "iopub.execute_input": "2025-08-19T18:20:10.241994Z",
     "iopub.status.busy": "2025-08-19T18:20:10.241490Z",
     "iopub.status.idle": "2025-08-19T18:20:10.249090Z",
     "shell.execute_reply": "2025-08-19T18:20:10.247912Z"
    },
    "papermill": {
     "duration": 0.019415,
     "end_time": "2025-08-19T18:20:10.250518",
     "exception": false,
     "start_time": "2025-08-19T18:20:10.231103",
     "status": "completed"
    },
    "tags": []
   },
   "outputs": [
    {
     "name": "stdout",
     "output_type": "stream",
     "text": [
      "Using Seed: 2023\n"
     ]
    }
   ],
   "source": [
    "import numpy as np\n",
    "parsed_seed = int(seed)\n",
    "np.random.seed(parsed_seed)\n",
    "print(f\"Using Seed: {parsed_seed}\")"
   ]
  },
  {
   "cell_type": "markdown",
   "id": "b6e958b4",
   "metadata": {
    "papermill": {
     "duration": 0.010044,
     "end_time": "2025-08-19T18:20:10.270529",
     "exception": false,
     "start_time": "2025-08-19T18:20:10.260485",
     "status": "completed"
    },
    "tags": []
   },
   "source": [
    "# Loading Data"
   ]
  },
  {
   "cell_type": "code",
   "execution_count": 9,
   "id": "98701482",
   "metadata": {
    "execution": {
     "iopub.execute_input": "2025-08-19T18:20:10.292121Z",
     "iopub.status.busy": "2025-08-19T18:20:10.290947Z",
     "iopub.status.idle": "2025-08-19T18:20:20.524861Z",
     "shell.execute_reply": "2025-08-19T18:20:20.523940Z"
    },
    "papermill": {
     "duration": 10.246443,
     "end_time": "2025-08-19T18:20:20.526274",
     "exception": false,
     "start_time": "2025-08-19T18:20:10.279831",
     "status": "completed"
    },
    "tags": []
   },
   "outputs": [
    {
     "name": "stdout",
     "output_type": "stream",
     "text": [
      "Loading SIAB data from cache: data/siab_cached.csv.gz\n"
     ]
    },
    {
     "name": "stdout",
     "output_type": "stream",
     "text": [
      "(643690, 164)\n"
     ]
    }
   ],
   "source": [
    "from pathlib import Path\n",
    "import pandas as pd\n",
    "\n",
    "# File paths\n",
    "raw_file = Path(\"data/raw/siab.csv\")\n",
    "cache_file = Path(\"data/siab_cached.csv.gz\")\n",
    "\n",
    "# Ensure cache directory exists\n",
    "cache_file.parent.mkdir(parents=True, exist_ok=True)\n",
    "\n",
    "# Load with simple caching\n",
    "if cache_file.exists():\n",
    "    print(f\"Loading SIAB data from cache: {cache_file}\")\n",
    "    siab = pd.read_csv(cache_file, compression='gzip')\n",
    "else:\n",
    "    print(f\"Cache not found. Reading raw SIAB data: {raw_file}\")\n",
    "    siab = pd.read_csv(raw_file)\n",
    "    siab.to_csv(cache_file, index=False, compression='gzip')\n",
    "    print(f\"Cached SIAB data to: {cache_file}\")\n",
    "\n",
    "print(siab.shape)"
   ]
  },
  {
   "cell_type": "code",
   "execution_count": 10,
   "id": "058d2abb",
   "metadata": {
    "execution": {
     "iopub.execute_input": "2025-08-19T18:20:20.549740Z",
     "iopub.status.busy": "2025-08-19T18:20:20.549209Z",
     "iopub.status.idle": "2025-08-19T18:20:20.737600Z",
     "shell.execute_reply": "2025-08-19T18:20:20.736865Z"
    },
    "papermill": {
     "duration": 0.200405,
     "end_time": "2025-08-19T18:20:20.739162",
     "exception": false,
     "start_time": "2025-08-19T18:20:20.538757",
     "status": "completed"
    },
    "tags": []
   },
   "outputs": [
    {
     "data": {
      "text/html": [
       "<div>\n",
       "<style scoped>\n",
       "    .dataframe tbody tr th:only-of-type {\n",
       "        vertical-align: middle;\n",
       "    }\n",
       "\n",
       "    .dataframe tbody tr th {\n",
       "        vertical-align: top;\n",
       "    }\n",
       "\n",
       "    .dataframe thead th {\n",
       "        text-align: right;\n",
       "    }\n",
       "</style>\n",
       "<table border=\"1\" class=\"dataframe\">\n",
       "  <thead>\n",
       "    <tr style=\"text-align: right;\">\n",
       "      <th></th>\n",
       "      <th>persnr</th>\n",
       "      <th>year</th>\n",
       "      <th>nrEntry</th>\n",
       "      <th>ltue</th>\n",
       "      <th>employed_before</th>\n",
       "      <th>receipt_leh_before</th>\n",
       "      <th>receipt_lhg_before</th>\n",
       "      <th>se_before</th>\n",
       "      <th>ASU_notue_seeking_before</th>\n",
       "      <th>ASU_other_before</th>\n",
       "      <th>...</th>\n",
       "      <th>minijob_tot_dur_byage</th>\n",
       "      <th>ft_tot_dur_byage</th>\n",
       "      <th>befrist_tot_dur_byage</th>\n",
       "      <th>leih_tot_dur_byage</th>\n",
       "      <th>LHG_tot_dur_byage</th>\n",
       "      <th>LEH_tot_dur_byage</th>\n",
       "      <th>almp_tot_dur_byage</th>\n",
       "      <th>almp_aw_tot_dur_byage</th>\n",
       "      <th>se_tot_dur_byage</th>\n",
       "      <th>seeking1_tot_dur_byage</th>\n",
       "    </tr>\n",
       "  </thead>\n",
       "  <tbody>\n",
       "    <tr>\n",
       "      <th>0</th>\n",
       "      <td>7</td>\n",
       "      <td>2015</td>\n",
       "      <td>1</td>\n",
       "      <td>0</td>\n",
       "      <td>1</td>\n",
       "      <td>0</td>\n",
       "      <td>0</td>\n",
       "      <td>0</td>\n",
       "      <td>1</td>\n",
       "      <td>0</td>\n",
       "      <td>...</td>\n",
       "      <td>0.000000</td>\n",
       "      <td>0.000000</td>\n",
       "      <td>15.043478</td>\n",
       "      <td>0.000000</td>\n",
       "      <td>0.000000</td>\n",
       "      <td>0.000000</td>\n",
       "      <td>0.000000</td>\n",
       "      <td>0.000000</td>\n",
       "      <td>0.000000</td>\n",
       "      <td>0.000000</td>\n",
       "    </tr>\n",
       "    <tr>\n",
       "      <th>1</th>\n",
       "      <td>18</td>\n",
       "      <td>2010</td>\n",
       "      <td>1</td>\n",
       "      <td>1</td>\n",
       "      <td>0</td>\n",
       "      <td>0</td>\n",
       "      <td>0</td>\n",
       "      <td>0</td>\n",
       "      <td>0</td>\n",
       "      <td>0</td>\n",
       "      <td>...</td>\n",
       "      <td>0.000000</td>\n",
       "      <td>0.000000</td>\n",
       "      <td>0.000000</td>\n",
       "      <td>0.000000</td>\n",
       "      <td>0.000000</td>\n",
       "      <td>0.000000</td>\n",
       "      <td>0.000000</td>\n",
       "      <td>0.000000</td>\n",
       "      <td>0.000000</td>\n",
       "      <td>0.000000</td>\n",
       "    </tr>\n",
       "    <tr>\n",
       "      <th>2</th>\n",
       "      <td>18</td>\n",
       "      <td>2011</td>\n",
       "      <td>2</td>\n",
       "      <td>0</td>\n",
       "      <td>1</td>\n",
       "      <td>0</td>\n",
       "      <td>1</td>\n",
       "      <td>0</td>\n",
       "      <td>1</td>\n",
       "      <td>0</td>\n",
       "      <td>...</td>\n",
       "      <td>2.714286</td>\n",
       "      <td>2.714286</td>\n",
       "      <td>0.000000</td>\n",
       "      <td>0.000000</td>\n",
       "      <td>10.775510</td>\n",
       "      <td>0.000000</td>\n",
       "      <td>8.367347</td>\n",
       "      <td>0.000000</td>\n",
       "      <td>0.000000</td>\n",
       "      <td>9.836735</td>\n",
       "    </tr>\n",
       "    <tr>\n",
       "      <th>3</th>\n",
       "      <td>18</td>\n",
       "      <td>2012</td>\n",
       "      <td>3</td>\n",
       "      <td>0</td>\n",
       "      <td>1</td>\n",
       "      <td>0</td>\n",
       "      <td>1</td>\n",
       "      <td>0</td>\n",
       "      <td>1</td>\n",
       "      <td>0</td>\n",
       "      <td>...</td>\n",
       "      <td>4.200000</td>\n",
       "      <td>4.200000</td>\n",
       "      <td>0.000000</td>\n",
       "      <td>0.000000</td>\n",
       "      <td>12.100000</td>\n",
       "      <td>0.000000</td>\n",
       "      <td>9.400000</td>\n",
       "      <td>0.000000</td>\n",
       "      <td>0.000000</td>\n",
       "      <td>9.960000</td>\n",
       "    </tr>\n",
       "    <tr>\n",
       "      <th>4</th>\n",
       "      <td>18</td>\n",
       "      <td>2012</td>\n",
       "      <td>4</td>\n",
       "      <td>0</td>\n",
       "      <td>1</td>\n",
       "      <td>0</td>\n",
       "      <td>1</td>\n",
       "      <td>0</td>\n",
       "      <td>1</td>\n",
       "      <td>0</td>\n",
       "      <td>...</td>\n",
       "      <td>5.460000</td>\n",
       "      <td>5.460000</td>\n",
       "      <td>0.000000</td>\n",
       "      <td>0.000000</td>\n",
       "      <td>13.360000</td>\n",
       "      <td>0.000000</td>\n",
       "      <td>10.320000</td>\n",
       "      <td>0.000000</td>\n",
       "      <td>0.000000</td>\n",
       "      <td>10.280000</td>\n",
       "    </tr>\n",
       "    <tr>\n",
       "      <th>...</th>\n",
       "      <td>...</td>\n",
       "      <td>...</td>\n",
       "      <td>...</td>\n",
       "      <td>...</td>\n",
       "      <td>...</td>\n",
       "      <td>...</td>\n",
       "      <td>...</td>\n",
       "      <td>...</td>\n",
       "      <td>...</td>\n",
       "      <td>...</td>\n",
       "      <td>...</td>\n",
       "      <td>...</td>\n",
       "      <td>...</td>\n",
       "      <td>...</td>\n",
       "      <td>...</td>\n",
       "      <td>...</td>\n",
       "      <td>...</td>\n",
       "      <td>...</td>\n",
       "      <td>...</td>\n",
       "      <td>...</td>\n",
       "      <td>...</td>\n",
       "    </tr>\n",
       "    <tr>\n",
       "      <th>643685</th>\n",
       "      <td>1827860</td>\n",
       "      <td>2013</td>\n",
       "      <td>1</td>\n",
       "      <td>0</td>\n",
       "      <td>0</td>\n",
       "      <td>0</td>\n",
       "      <td>1</td>\n",
       "      <td>0</td>\n",
       "      <td>0</td>\n",
       "      <td>1</td>\n",
       "      <td>...</td>\n",
       "      <td>0.000000</td>\n",
       "      <td>0.000000</td>\n",
       "      <td>0.000000</td>\n",
       "      <td>0.000000</td>\n",
       "      <td>0.612903</td>\n",
       "      <td>0.000000</td>\n",
       "      <td>0.000000</td>\n",
       "      <td>0.000000</td>\n",
       "      <td>0.000000</td>\n",
       "      <td>0.000000</td>\n",
       "    </tr>\n",
       "    <tr>\n",
       "      <th>643686</th>\n",
       "      <td>1827860</td>\n",
       "      <td>2015</td>\n",
       "      <td>2</td>\n",
       "      <td>1</td>\n",
       "      <td>0</td>\n",
       "      <td>0</td>\n",
       "      <td>1</td>\n",
       "      <td>0</td>\n",
       "      <td>1</td>\n",
       "      <td>0</td>\n",
       "      <td>...</td>\n",
       "      <td>0.000000</td>\n",
       "      <td>0.000000</td>\n",
       "      <td>0.212121</td>\n",
       "      <td>0.212121</td>\n",
       "      <td>17.363636</td>\n",
       "      <td>0.000000</td>\n",
       "      <td>8.909091</td>\n",
       "      <td>0.000000</td>\n",
       "      <td>0.000000</td>\n",
       "      <td>7.121212</td>\n",
       "    </tr>\n",
       "    <tr>\n",
       "      <th>643687</th>\n",
       "      <td>1827860</td>\n",
       "      <td>2016</td>\n",
       "      <td>3</td>\n",
       "      <td>1</td>\n",
       "      <td>0</td>\n",
       "      <td>0</td>\n",
       "      <td>1</td>\n",
       "      <td>1</td>\n",
       "      <td>0</td>\n",
       "      <td>1</td>\n",
       "      <td>...</td>\n",
       "      <td>0.000000</td>\n",
       "      <td>0.000000</td>\n",
       "      <td>0.294118</td>\n",
       "      <td>0.205882</td>\n",
       "      <td>34.705882</td>\n",
       "      <td>0.000000</td>\n",
       "      <td>10.352941</td>\n",
       "      <td>1.705882</td>\n",
       "      <td>1.705882</td>\n",
       "      <td>23.911765</td>\n",
       "    </tr>\n",
       "    <tr>\n",
       "      <th>643688</th>\n",
       "      <td>1827869</td>\n",
       "      <td>2013</td>\n",
       "      <td>1</td>\n",
       "      <td>1</td>\n",
       "      <td>1</td>\n",
       "      <td>0</td>\n",
       "      <td>0</td>\n",
       "      <td>0</td>\n",
       "      <td>1</td>\n",
       "      <td>0</td>\n",
       "      <td>...</td>\n",
       "      <td>0.000000</td>\n",
       "      <td>0.000000</td>\n",
       "      <td>0.000000</td>\n",
       "      <td>0.000000</td>\n",
       "      <td>0.000000</td>\n",
       "      <td>0.525424</td>\n",
       "      <td>0.000000</td>\n",
       "      <td>0.000000</td>\n",
       "      <td>0.000000</td>\n",
       "      <td>0.000000</td>\n",
       "    </tr>\n",
       "    <tr>\n",
       "      <th>643689</th>\n",
       "      <td>1827869</td>\n",
       "      <td>2014</td>\n",
       "      <td>2</td>\n",
       "      <td>0</td>\n",
       "      <td>0</td>\n",
       "      <td>1</td>\n",
       "      <td>0</td>\n",
       "      <td>0</td>\n",
       "      <td>1</td>\n",
       "      <td>0</td>\n",
       "      <td>...</td>\n",
       "      <td>0.000000</td>\n",
       "      <td>0.666667</td>\n",
       "      <td>0.666667</td>\n",
       "      <td>0.000000</td>\n",
       "      <td>0.000000</td>\n",
       "      <td>8.950000</td>\n",
       "      <td>1.033333</td>\n",
       "      <td>0.083333</td>\n",
       "      <td>0.083333</td>\n",
       "      <td>8.133333</td>\n",
       "    </tr>\n",
       "  </tbody>\n",
       "</table>\n",
       "<p>643690 rows × 164 columns</p>\n",
       "</div>"
      ],
      "text/plain": [
       "         persnr  year  nrEntry  ltue  employed_before  receipt_leh_before  \\\n",
       "0             7  2015        1     0                1                   0   \n",
       "1            18  2010        1     1                0                   0   \n",
       "2            18  2011        2     0                1                   0   \n",
       "3            18  2012        3     0                1                   0   \n",
       "4            18  2012        4     0                1                   0   \n",
       "...         ...   ...      ...   ...              ...                 ...   \n",
       "643685  1827860  2013        1     0                0                   0   \n",
       "643686  1827860  2015        2     1                0                   0   \n",
       "643687  1827860  2016        3     1                0                   0   \n",
       "643688  1827869  2013        1     1                1                   0   \n",
       "643689  1827869  2014        2     0                0                   1   \n",
       "\n",
       "        receipt_lhg_before  se_before  ASU_notue_seeking_before  \\\n",
       "0                        0          0                         1   \n",
       "1                        0          0                         0   \n",
       "2                        1          0                         1   \n",
       "3                        1          0                         1   \n",
       "4                        1          0                         1   \n",
       "...                    ...        ...                       ...   \n",
       "643685                   1          0                         0   \n",
       "643686                   1          0                         1   \n",
       "643687                   1          1                         0   \n",
       "643688                   0          0                         1   \n",
       "643689                   0          0                         1   \n",
       "\n",
       "        ASU_other_before  ...  minijob_tot_dur_byage  ft_tot_dur_byage  \\\n",
       "0                      0  ...               0.000000          0.000000   \n",
       "1                      0  ...               0.000000          0.000000   \n",
       "2                      0  ...               2.714286          2.714286   \n",
       "3                      0  ...               4.200000          4.200000   \n",
       "4                      0  ...               5.460000          5.460000   \n",
       "...                  ...  ...                    ...               ...   \n",
       "643685                 1  ...               0.000000          0.000000   \n",
       "643686                 0  ...               0.000000          0.000000   \n",
       "643687                 1  ...               0.000000          0.000000   \n",
       "643688                 0  ...               0.000000          0.000000   \n",
       "643689                 0  ...               0.000000          0.666667   \n",
       "\n",
       "        befrist_tot_dur_byage  leih_tot_dur_byage  LHG_tot_dur_byage  \\\n",
       "0                   15.043478            0.000000           0.000000   \n",
       "1                    0.000000            0.000000           0.000000   \n",
       "2                    0.000000            0.000000          10.775510   \n",
       "3                    0.000000            0.000000          12.100000   \n",
       "4                    0.000000            0.000000          13.360000   \n",
       "...                       ...                 ...                ...   \n",
       "643685               0.000000            0.000000           0.612903   \n",
       "643686               0.212121            0.212121          17.363636   \n",
       "643687               0.294118            0.205882          34.705882   \n",
       "643688               0.000000            0.000000           0.000000   \n",
       "643689               0.666667            0.000000           0.000000   \n",
       "\n",
       "        LEH_tot_dur_byage  almp_tot_dur_byage  almp_aw_tot_dur_byage  \\\n",
       "0                0.000000            0.000000               0.000000   \n",
       "1                0.000000            0.000000               0.000000   \n",
       "2                0.000000            8.367347               0.000000   \n",
       "3                0.000000            9.400000               0.000000   \n",
       "4                0.000000           10.320000               0.000000   \n",
       "...                   ...                 ...                    ...   \n",
       "643685           0.000000            0.000000               0.000000   \n",
       "643686           0.000000            8.909091               0.000000   \n",
       "643687           0.000000           10.352941               1.705882   \n",
       "643688           0.525424            0.000000               0.000000   \n",
       "643689           8.950000            1.033333               0.083333   \n",
       "\n",
       "        se_tot_dur_byage  seeking1_tot_dur_byage  \n",
       "0               0.000000                0.000000  \n",
       "1               0.000000                0.000000  \n",
       "2               0.000000                9.836735  \n",
       "3               0.000000                9.960000  \n",
       "4               0.000000               10.280000  \n",
       "...                  ...                     ...  \n",
       "643685          0.000000                0.000000  \n",
       "643686          0.000000                7.121212  \n",
       "643687          1.705882               23.911765  \n",
       "643688          0.000000                0.000000  \n",
       "643689          0.083333                8.133333  \n",
       "\n",
       "[643690 rows x 164 columns]"
      ]
     },
     "execution_count": 10,
     "metadata": {},
     "output_type": "execute_result"
    }
   ],
   "source": [
    "siab"
   ]
  },
  {
   "cell_type": "markdown",
   "id": "1f87e805",
   "metadata": {
    "papermill": {
     "duration": 0.013839,
     "end_time": "2025-08-19T18:20:20.766558",
     "exception": false,
     "start_time": "2025-08-19T18:20:20.752719",
     "status": "completed"
    },
    "tags": []
   },
   "source": [
    "# Splitting Data and Setting Training Data Size"
   ]
  },
  {
   "cell_type": "code",
   "execution_count": 11,
   "id": "910ae358",
   "metadata": {
    "execution": {
     "iopub.execute_input": "2025-08-19T18:20:20.788415Z",
     "iopub.status.busy": "2025-08-19T18:20:20.787985Z",
     "iopub.status.idle": "2025-08-19T18:20:22.232114Z",
     "shell.execute_reply": "2025-08-19T18:20:22.230922Z"
    },
    "papermill": {
     "duration": 1.456424,
     "end_time": "2025-08-19T18:20:22.233605",
     "exception": false,
     "start_time": "2025-08-19T18:20:20.777181",
     "status": "completed"
    },
    "tags": []
   },
   "outputs": [],
   "source": [
    "from fairness_multiverse.universe import sample_by_year_size\n",
    "\n",
    "siab_train = sample_by_year_size(siab,\n",
    "                               training_year=universe[\"training_year\"],\n",
    "                               training_size=universe[\"training_size\"])"
   ]
  },
  {
   "cell_type": "code",
   "execution_count": 12,
   "id": "919c8ff5",
   "metadata": {
    "execution": {
     "iopub.execute_input": "2025-08-19T18:20:22.263971Z",
     "iopub.status.busy": "2025-08-19T18:20:22.263575Z",
     "iopub.status.idle": "2025-08-19T18:20:22.271194Z",
     "shell.execute_reply": "2025-08-19T18:20:22.270578Z"
    },
    "papermill": {
     "duration": 0.024822,
     "end_time": "2025-08-19T18:20:22.273910",
     "exception": false,
     "start_time": "2025-08-19T18:20:22.249088",
     "status": "completed"
    },
    "tags": []
   },
   "outputs": [
    {
     "data": {
      "text/plain": [
       "(25000, 164)"
      ]
     },
     "execution_count": 12,
     "metadata": {},
     "output_type": "execute_result"
    }
   ],
   "source": [
    "siab_train.shape"
   ]
  },
  {
   "cell_type": "code",
   "execution_count": 13,
   "id": "feb13bf4",
   "metadata": {
    "execution": {
     "iopub.execute_input": "2025-08-19T18:20:22.295734Z",
     "iopub.status.busy": "2025-08-19T18:20:22.295432Z",
     "iopub.status.idle": "2025-08-19T18:20:22.304160Z",
     "shell.execute_reply": "2025-08-19T18:20:22.303533Z"
    },
    "papermill": {
     "duration": 0.026144,
     "end_time": "2025-08-19T18:20:22.310774",
     "exception": false,
     "start_time": "2025-08-19T18:20:22.284630",
     "status": "completed"
    },
    "tags": []
   },
   "outputs": [
    {
     "data": {
      "text/plain": [
       "year\n",
       "2010    5000\n",
       "2011    5000\n",
       "2012    5000\n",
       "2013    5000\n",
       "2014    5000\n",
       "dtype: int64"
      ]
     },
     "metadata": {},
     "output_type": "display_data"
    }
   ],
   "source": [
    "display(siab_train.groupby(\"year\").size())"
   ]
  },
  {
   "cell_type": "code",
   "execution_count": 14,
   "id": "0997782f",
   "metadata": {
    "execution": {
     "iopub.execute_input": "2025-08-19T18:20:22.348467Z",
     "iopub.status.busy": "2025-08-19T18:20:22.348151Z",
     "iopub.status.idle": "2025-08-19T18:20:22.655508Z",
     "shell.execute_reply": "2025-08-19T18:20:22.654790Z"
    },
    "papermill": {
     "duration": 0.327559,
     "end_time": "2025-08-19T18:20:22.657414",
     "exception": false,
     "start_time": "2025-08-19T18:20:22.329855",
     "status": "completed"
    },
    "tags": []
   },
   "outputs": [],
   "source": [
    "#siab_train = siab_s[siab_s.year < 2015]\n",
    "siab_calib = siab[siab.year == 2015]\n",
    "siab_test = siab[siab.year == 2016]"
   ]
  },
  {
   "cell_type": "code",
   "execution_count": 15,
   "id": "2c1e4012",
   "metadata": {
    "execution": {
     "iopub.execute_input": "2025-08-19T18:20:22.679932Z",
     "iopub.status.busy": "2025-08-19T18:20:22.679625Z",
     "iopub.status.idle": "2025-08-19T18:20:22.684275Z",
     "shell.execute_reply": "2025-08-19T18:20:22.683353Z"
    },
    "papermill": {
     "duration": 0.018462,
     "end_time": "2025-08-19T18:20:22.686809",
     "exception": false,
     "start_time": "2025-08-19T18:20:22.668347",
     "status": "completed"
    },
    "tags": []
   },
   "outputs": [],
   "source": [
    "#siab_calib.shape"
   ]
  },
  {
   "cell_type": "code",
   "execution_count": 16,
   "id": "f66b54ca",
   "metadata": {
    "execution": {
     "iopub.execute_input": "2025-08-19T18:20:22.720335Z",
     "iopub.status.busy": "2025-08-19T18:20:22.719448Z",
     "iopub.status.idle": "2025-08-19T18:20:22.726130Z",
     "shell.execute_reply": "2025-08-19T18:20:22.724926Z"
    },
    "papermill": {
     "duration": 0.027159,
     "end_time": "2025-08-19T18:20:22.729736",
     "exception": false,
     "start_time": "2025-08-19T18:20:22.702577",
     "status": "completed"
    },
    "tags": []
   },
   "outputs": [],
   "source": [
    "#siab_test.shape"
   ]
  },
  {
   "cell_type": "code",
   "execution_count": 17,
   "id": "27e4384d",
   "metadata": {
    "execution": {
     "iopub.execute_input": "2025-08-19T18:20:22.757963Z",
     "iopub.status.busy": "2025-08-19T18:20:22.757488Z",
     "iopub.status.idle": "2025-08-19T18:20:22.772132Z",
     "shell.execute_reply": "2025-08-19T18:20:22.770939Z"
    },
    "papermill": {
     "duration": 0.034654,
     "end_time": "2025-08-19T18:20:22.780649",
     "exception": false,
     "start_time": "2025-08-19T18:20:22.745995",
     "status": "completed"
    },
    "tags": []
   },
   "outputs": [],
   "source": [
    "X_train = siab_train.iloc[:,4:164]\n",
    "y_train = siab_train.iloc[:, [3]]"
   ]
  },
  {
   "cell_type": "code",
   "execution_count": 18,
   "id": "08ee8389",
   "metadata": {
    "execution": {
     "iopub.execute_input": "2025-08-19T18:20:22.804407Z",
     "iopub.status.busy": "2025-08-19T18:20:22.803259Z",
     "iopub.status.idle": "2025-08-19T18:20:22.858981Z",
     "shell.execute_reply": "2025-08-19T18:20:22.857565Z"
    },
    "papermill": {
     "duration": 0.070531,
     "end_time": "2025-08-19T18:20:22.862317",
     "exception": false,
     "start_time": "2025-08-19T18:20:22.791786",
     "status": "completed"
    },
    "tags": []
   },
   "outputs": [],
   "source": [
    "X_calib = siab_calib.iloc[:,4:164]\n",
    "y_calib = siab_calib.iloc[:, [3]]"
   ]
  },
  {
   "cell_type": "code",
   "execution_count": 19,
   "id": "b7ff42e0",
   "metadata": {
    "execution": {
     "iopub.execute_input": "2025-08-19T18:20:22.901077Z",
     "iopub.status.busy": "2025-08-19T18:20:22.899974Z",
     "iopub.status.idle": "2025-08-19T18:20:22.962174Z",
     "shell.execute_reply": "2025-08-19T18:20:22.961397Z"
    },
    "papermill": {
     "duration": 0.078661,
     "end_time": "2025-08-19T18:20:22.965205",
     "exception": false,
     "start_time": "2025-08-19T18:20:22.886544",
     "status": "completed"
    },
    "tags": []
   },
   "outputs": [],
   "source": [
    "X_test = siab_test.iloc[:,4:164]\n",
    "y_true = siab_test.iloc[:, [3]]"
   ]
  },
  {
   "cell_type": "code",
   "execution_count": 20,
   "id": "0275101e",
   "metadata": {
    "execution": {
     "iopub.execute_input": "2025-08-19T18:20:23.003105Z",
     "iopub.status.busy": "2025-08-19T18:20:23.001821Z",
     "iopub.status.idle": "2025-08-19T18:20:23.146732Z",
     "shell.execute_reply": "2025-08-19T18:20:23.145889Z"
    },
    "papermill": {
     "duration": 0.159994,
     "end_time": "2025-08-19T18:20:23.148382",
     "exception": false,
     "start_time": "2025-08-19T18:20:22.988388",
     "status": "completed"
    },
    "tags": []
   },
   "outputs": [],
   "source": [
    "# Auxiliary data needed downstream in the pipeline\n",
    "\n",
    "org_train = X_train.copy()\n",
    "org_test = X_test.copy()\n",
    "org_calib = X_calib.copy()"
   ]
  },
  {
   "cell_type": "markdown",
   "id": "b461e618",
   "metadata": {
    "papermill": {
     "duration": 0.010979,
     "end_time": "2025-08-19T18:20:23.173626",
     "exception": false,
     "start_time": "2025-08-19T18:20:23.162647",
     "status": "completed"
    },
    "tags": []
   },
   "source": [
    "# Preprocessing Data"
   ]
  },
  {
   "cell_type": "code",
   "execution_count": 21,
   "id": "78e74c4b",
   "metadata": {
    "execution": {
     "iopub.execute_input": "2025-08-19T18:20:23.197282Z",
     "iopub.status.busy": "2025-08-19T18:20:23.195951Z",
     "iopub.status.idle": "2025-08-19T18:20:23.207526Z",
     "shell.execute_reply": "2025-08-19T18:20:23.205747Z"
    },
    "papermill": {
     "duration": 0.02538,
     "end_time": "2025-08-19T18:20:23.209207",
     "exception": false,
     "start_time": "2025-08-19T18:20:23.183827",
     "status": "completed"
    },
    "tags": []
   },
   "outputs": [],
   "source": [
    "# EXCLUDE PROTECTED FEATURES\n",
    "# --------------------------\n",
    "\n",
    "excluded_features = universe[\"exclude_features\"].split(\"-\")\n",
    "excluded_features_dictionary = {\n",
    "    \"nationality\": [\"maxdeutsch1\", \"maxdeutsch.Missing.\"],\n",
    "    \"sex\": [\"frau1\"],\n",
    "    \"age\": [\"age\"],\n",
    "}"
   ]
  },
  {
   "cell_type": "code",
   "execution_count": 22,
   "id": "f8e63555",
   "metadata": {
    "execution": {
     "iopub.execute_input": "2025-08-19T18:20:23.236906Z",
     "iopub.status.busy": "2025-08-19T18:20:23.235749Z",
     "iopub.status.idle": "2025-08-19T18:20:23.245336Z",
     "shell.execute_reply": "2025-08-19T18:20:23.243649Z"
    },
    "papermill": {
     "duration": 0.023817,
     "end_time": "2025-08-19T18:20:23.247199",
     "exception": false,
     "start_time": "2025-08-19T18:20:23.223382",
     "status": "completed"
    },
    "tags": []
   },
   "outputs": [],
   "source": [
    "excluded_features_columns = [\n",
    "    excluded_features_dictionary[f] for f in excluded_features if len(f) > 0 and f != \"none\"\n",
    "]"
   ]
  },
  {
   "cell_type": "code",
   "execution_count": 23,
   "id": "da781f7c",
   "metadata": {
    "execution": {
     "iopub.execute_input": "2025-08-19T18:20:23.274026Z",
     "iopub.status.busy": "2025-08-19T18:20:23.272895Z",
     "iopub.status.idle": "2025-08-19T18:20:23.285841Z",
     "shell.execute_reply": "2025-08-19T18:20:23.283924Z"
    },
    "papermill": {
     "duration": 0.026294,
     "end_time": "2025-08-19T18:20:23.287267",
     "exception": false,
     "start_time": "2025-08-19T18:20:23.260973",
     "status": "completed"
    },
    "tags": []
   },
   "outputs": [],
   "source": [
    "from fairness_multiverse.universe import flatten_once\n",
    "\n",
    "excluded_features_columns = flatten_once(excluded_features_columns)"
   ]
  },
  {
   "cell_type": "code",
   "execution_count": 24,
   "id": "37fef0f0",
   "metadata": {
    "execution": {
     "iopub.execute_input": "2025-08-19T18:20:23.313507Z",
     "iopub.status.busy": "2025-08-19T18:20:23.313132Z",
     "iopub.status.idle": "2025-08-19T18:20:23.351605Z",
     "shell.execute_reply": "2025-08-19T18:20:23.349934Z"
    },
    "papermill": {
     "duration": 0.058845,
     "end_time": "2025-08-19T18:20:23.360266",
     "exception": false,
     "start_time": "2025-08-19T18:20:23.301421",
     "status": "completed"
    },
    "tags": []
   },
   "outputs": [
    {
     "name": "stdout",
     "output_type": "stream",
     "text": [
      "Dropping features: ['age']\n"
     ]
    }
   ],
   "source": [
    "if len(excluded_features_columns) > 0:\n",
    "    print(f\"Dropping features: {excluded_features_columns}\")\n",
    "    X_train.drop(excluded_features_columns, axis=1, inplace=True)"
   ]
  },
  {
   "cell_type": "code",
   "execution_count": 25,
   "id": "d029e3e9",
   "metadata": {
    "execution": {
     "iopub.execute_input": "2025-08-19T18:20:23.392621Z",
     "iopub.status.busy": "2025-08-19T18:20:23.390741Z",
     "iopub.status.idle": "2025-08-19T18:20:23.464771Z",
     "shell.execute_reply": "2025-08-19T18:20:23.463222Z"
    },
    "papermill": {
     "duration": 0.090668,
     "end_time": "2025-08-19T18:20:23.468539",
     "exception": false,
     "start_time": "2025-08-19T18:20:23.377871",
     "status": "completed"
    },
    "tags": []
   },
   "outputs": [
    {
     "name": "stdout",
     "output_type": "stream",
     "text": [
      "Dropping features: ['age']\n"
     ]
    }
   ],
   "source": [
    "if len(excluded_features_columns) > 0:\n",
    "    print(f\"Dropping features: {excluded_features_columns}\")\n",
    "    X_test.drop(excluded_features_columns, axis=1, inplace=True)"
   ]
  },
  {
   "cell_type": "code",
   "execution_count": 26,
   "id": "01d571f0",
   "metadata": {
    "execution": {
     "iopub.execute_input": "2025-08-19T18:20:23.503798Z",
     "iopub.status.busy": "2025-08-19T18:20:23.502747Z",
     "iopub.status.idle": "2025-08-19T18:20:23.572379Z",
     "shell.execute_reply": "2025-08-19T18:20:23.570932Z"
    },
    "papermill": {
     "duration": 0.087172,
     "end_time": "2025-08-19T18:20:23.576567",
     "exception": false,
     "start_time": "2025-08-19T18:20:23.489395",
     "status": "completed"
    },
    "tags": []
   },
   "outputs": [
    {
     "name": "stdout",
     "output_type": "stream",
     "text": [
      "Dropping features: ['age']\n"
     ]
    }
   ],
   "source": [
    "if len(excluded_features_columns) > 0:\n",
    "    print(f\"Dropping features: {excluded_features_columns}\")\n",
    "    X_calib.drop(excluded_features_columns, axis=1, inplace=True)"
   ]
  },
  {
   "cell_type": "code",
   "execution_count": 27,
   "id": "3037356e",
   "metadata": {
    "execution": {
     "iopub.execute_input": "2025-08-19T18:20:23.612927Z",
     "iopub.status.busy": "2025-08-19T18:20:23.611664Z",
     "iopub.status.idle": "2025-08-19T18:20:23.622547Z",
     "shell.execute_reply": "2025-08-19T18:20:23.620928Z"
    },
    "papermill": {
     "duration": 0.02687,
     "end_time": "2025-08-19T18:20:23.624299",
     "exception": false,
     "start_time": "2025-08-19T18:20:23.597429",
     "status": "completed"
    },
    "tags": []
   },
   "outputs": [],
   "source": [
    "# EXCLUDE CERTAIN SUBGROUPS\n",
    "# -------------------------\n",
    "\n",
    "mode = universe.get(\"exclude_subgroups\", \"keep-all\") # Defaults to \"keep-all\" if the key is missing."
   ]
  },
  {
   "cell_type": "code",
   "execution_count": 28,
   "id": "9d1e63fd",
   "metadata": {
    "execution": {
     "iopub.execute_input": "2025-08-19T18:20:23.652618Z",
     "iopub.status.busy": "2025-08-19T18:20:23.651408Z",
     "iopub.status.idle": "2025-08-19T18:20:23.664308Z",
     "shell.execute_reply": "2025-08-19T18:20:23.663021Z"
    },
    "papermill": {
     "duration": 0.027708,
     "end_time": "2025-08-19T18:20:23.665850",
     "exception": false,
     "start_time": "2025-08-19T18:20:23.638142",
     "status": "completed"
    },
    "tags": []
   },
   "outputs": [],
   "source": [
    "if mode == \"keep-all\":\n",
    "    keep_mask = pd.Series(True, index=org_train.index)\n",
    "\n",
    "elif mode == \"drop-non-german\":\n",
    "    keep_mask = (org_train[\"maxdeutsch1\"] == 1) & (org_train[\"maxdeutsch.Missing.\"] == 0)\n",
    "\n",
    "else:\n",
    "    raise ValueError(f\"Unsupported mode for exclude_subgroups: {mode}\")"
   ]
  },
  {
   "cell_type": "code",
   "execution_count": 29,
   "id": "d3b65474",
   "metadata": {
    "execution": {
     "iopub.execute_input": "2025-08-19T18:20:23.694723Z",
     "iopub.status.busy": "2025-08-19T18:20:23.693575Z",
     "iopub.status.idle": "2025-08-19T18:20:23.706871Z",
     "shell.execute_reply": "2025-08-19T18:20:23.705176Z"
    },
    "papermill": {
     "duration": 0.02826,
     "end_time": "2025-08-19T18:20:23.708725",
     "exception": false,
     "start_time": "2025-08-19T18:20:23.680465",
     "status": "completed"
    },
    "tags": []
   },
   "outputs": [],
   "source": [
    "n_drop = (~keep_mask).sum() # Calculates how many rows are set to be dropped\n",
    "if n_drop > 0:\n",
    "    pct = n_drop / len(keep_mask) * 100\n",
    "    print(f\"Dropping {n_drop} rows ({pct:.2f}%) where mode='{mode}'\")"
   ]
  },
  {
   "cell_type": "code",
   "execution_count": 30,
   "id": "f44389b3",
   "metadata": {
    "execution": {
     "iopub.execute_input": "2025-08-19T18:20:23.741110Z",
     "iopub.status.busy": "2025-08-19T18:20:23.739958Z",
     "iopub.status.idle": "2025-08-19T18:20:23.767096Z",
     "shell.execute_reply": "2025-08-19T18:20:23.766080Z"
    },
    "papermill": {
     "duration": 0.043202,
     "end_time": "2025-08-19T18:20:23.768943",
     "exception": false,
     "start_time": "2025-08-19T18:20:23.725741",
     "status": "completed"
    },
    "tags": []
   },
   "outputs": [],
   "source": [
    "X_train = X_train[keep_mask]"
   ]
  },
  {
   "cell_type": "code",
   "execution_count": 31,
   "id": "ceca8c2a",
   "metadata": {
    "execution": {
     "iopub.execute_input": "2025-08-19T18:20:23.807631Z",
     "iopub.status.busy": "2025-08-19T18:20:23.806426Z",
     "iopub.status.idle": "2025-08-19T18:20:23.820040Z",
     "shell.execute_reply": "2025-08-19T18:20:23.818153Z"
    },
    "papermill": {
     "duration": 0.030828,
     "end_time": "2025-08-19T18:20:23.822107",
     "exception": false,
     "start_time": "2025-08-19T18:20:23.791279",
     "status": "completed"
    },
    "tags": []
   },
   "outputs": [],
   "source": [
    "y_train = y_train[keep_mask]"
   ]
  },
  {
   "cell_type": "markdown",
   "id": "04d31e2f",
   "metadata": {
    "papermill": {
     "duration": 0.011905,
     "end_time": "2025-08-19T18:20:23.851216",
     "exception": false,
     "start_time": "2025-08-19T18:20:23.839311",
     "status": "completed"
    },
    "tags": []
   },
   "source": [
    "# Model Training"
   ]
  },
  {
   "cell_type": "code",
   "execution_count": 32,
   "id": "db991733",
   "metadata": {
    "execution": {
     "iopub.execute_input": "2025-08-19T18:20:23.876137Z",
     "iopub.status.busy": "2025-08-19T18:20:23.874659Z",
     "iopub.status.idle": "2025-08-19T18:20:24.000520Z",
     "shell.execute_reply": "2025-08-19T18:20:23.999632Z"
    },
    "papermill": {
     "duration": 0.140153,
     "end_time": "2025-08-19T18:20:24.002187",
     "exception": false,
     "start_time": "2025-08-19T18:20:23.862034",
     "status": "completed"
    },
    "tags": []
   },
   "outputs": [],
   "source": [
    "from sklearn.linear_model import LogisticRegression\n",
    "from sklearn.ensemble import GradientBoostingClassifier, RandomForestClassifier\n",
    "\n",
    "if (universe[\"model\"] == \"logreg\"):\n",
    "    model = LogisticRegression() #penalty=\"none\", solver=\"newton-cg\", max_iter=1)\n",
    "elif (universe[\"model\"] == \"penalized_logreg\"):\n",
    "    model = LogisticRegression(penalty=\"l2\", C=0.1) #, solver=\"newton-cg\", max_iter=1)\n",
    "elif (universe[\"model\"] == \"rf\"):\n",
    "    model = RandomForestClassifier() # n_estimators=100, n_jobs=-1\n",
    "elif (universe[\"model\"] == \"gbm\"):\n",
    "    model = GradientBoostingClassifier()\n",
    "elif (universe[\"model\"] == \"elasticnet\"):\n",
    "    model = LogisticRegression(penalty = 'elasticnet', solver = 'saga', l1_ratio = 0.5) # max_iter=5000\n",
    "else:\n",
    "    raise \"Unsupported universe.model\""
   ]
  },
  {
   "cell_type": "code",
   "execution_count": 33,
   "id": "a4b5cd25",
   "metadata": {
    "execution": {
     "iopub.execute_input": "2025-08-19T18:20:24.026298Z",
     "iopub.status.busy": "2025-08-19T18:20:24.025733Z",
     "iopub.status.idle": "2025-08-19T18:20:24.032267Z",
     "shell.execute_reply": "2025-08-19T18:20:24.031484Z"
    },
    "papermill": {
     "duration": 0.020003,
     "end_time": "2025-08-19T18:20:24.033609",
     "exception": false,
     "start_time": "2025-08-19T18:20:24.013606",
     "status": "completed"
    },
    "tags": []
   },
   "outputs": [],
   "source": [
    "from sklearn.pipeline import Pipeline\n",
    "from sklearn.preprocessing import StandardScaler\n",
    "\n",
    "model = Pipeline([\n",
    "    #(\"continuous_processor\", continuous_processor),\n",
    "    #(\"categorical_preprocessor\", categorical_preprocessor),\n",
    "    (\"scale\", StandardScaler() if universe[\"scale\"] == \"scale\" else None), \n",
    "    (\"model\", model),\n",
    "])"
   ]
  },
  {
   "cell_type": "code",
   "execution_count": 34,
   "id": "283a904d",
   "metadata": {
    "execution": {
     "iopub.execute_input": "2025-08-19T18:20:24.059972Z",
     "iopub.status.busy": "2025-08-19T18:20:24.059078Z",
     "iopub.status.idle": "2025-08-19T18:20:32.745967Z",
     "shell.execute_reply": "2025-08-19T18:20:32.744743Z"
    },
    "papermill": {
     "duration": 8.702714,
     "end_time": "2025-08-19T18:20:32.749495",
     "exception": false,
     "start_time": "2025-08-19T18:20:24.046781",
     "status": "completed"
    },
    "tags": []
   },
   "outputs": [
    {
     "data": {
      "text/html": [
       "<style>#sk-container-id-1 {color: black;background-color: white;}#sk-container-id-1 pre{padding: 0;}#sk-container-id-1 div.sk-toggleable {background-color: white;}#sk-container-id-1 label.sk-toggleable__label {cursor: pointer;display: block;width: 100%;margin-bottom: 0;padding: 0.3em;box-sizing: border-box;text-align: center;}#sk-container-id-1 label.sk-toggleable__label-arrow:before {content: \"▸\";float: left;margin-right: 0.25em;color: #696969;}#sk-container-id-1 label.sk-toggleable__label-arrow:hover:before {color: black;}#sk-container-id-1 div.sk-estimator:hover label.sk-toggleable__label-arrow:before {color: black;}#sk-container-id-1 div.sk-toggleable__content {max-height: 0;max-width: 0;overflow: hidden;text-align: left;background-color: #f0f8ff;}#sk-container-id-1 div.sk-toggleable__content pre {margin: 0.2em;color: black;border-radius: 0.25em;background-color: #f0f8ff;}#sk-container-id-1 input.sk-toggleable__control:checked~div.sk-toggleable__content {max-height: 200px;max-width: 100%;overflow: auto;}#sk-container-id-1 input.sk-toggleable__control:checked~label.sk-toggleable__label-arrow:before {content: \"▾\";}#sk-container-id-1 div.sk-estimator input.sk-toggleable__control:checked~label.sk-toggleable__label {background-color: #d4ebff;}#sk-container-id-1 div.sk-label input.sk-toggleable__control:checked~label.sk-toggleable__label {background-color: #d4ebff;}#sk-container-id-1 input.sk-hidden--visually {border: 0;clip: rect(1px 1px 1px 1px);clip: rect(1px, 1px, 1px, 1px);height: 1px;margin: -1px;overflow: hidden;padding: 0;position: absolute;width: 1px;}#sk-container-id-1 div.sk-estimator {font-family: monospace;background-color: #f0f8ff;border: 1px dotted black;border-radius: 0.25em;box-sizing: border-box;margin-bottom: 0.5em;}#sk-container-id-1 div.sk-estimator:hover {background-color: #d4ebff;}#sk-container-id-1 div.sk-parallel-item::after {content: \"\";width: 100%;border-bottom: 1px solid gray;flex-grow: 1;}#sk-container-id-1 div.sk-label:hover label.sk-toggleable__label {background-color: #d4ebff;}#sk-container-id-1 div.sk-serial::before {content: \"\";position: absolute;border-left: 1px solid gray;box-sizing: border-box;top: 0;bottom: 0;left: 50%;z-index: 0;}#sk-container-id-1 div.sk-serial {display: flex;flex-direction: column;align-items: center;background-color: white;padding-right: 0.2em;padding-left: 0.2em;position: relative;}#sk-container-id-1 div.sk-item {position: relative;z-index: 1;}#sk-container-id-1 div.sk-parallel {display: flex;align-items: stretch;justify-content: center;background-color: white;position: relative;}#sk-container-id-1 div.sk-item::before, #sk-container-id-1 div.sk-parallel-item::before {content: \"\";position: absolute;border-left: 1px solid gray;box-sizing: border-box;top: 0;bottom: 0;left: 50%;z-index: -1;}#sk-container-id-1 div.sk-parallel-item {display: flex;flex-direction: column;z-index: 1;position: relative;background-color: white;}#sk-container-id-1 div.sk-parallel-item:first-child::after {align-self: flex-end;width: 50%;}#sk-container-id-1 div.sk-parallel-item:last-child::after {align-self: flex-start;width: 50%;}#sk-container-id-1 div.sk-parallel-item:only-child::after {width: 0;}#sk-container-id-1 div.sk-dashed-wrapped {border: 1px dashed gray;margin: 0 0.4em 0.5em 0.4em;box-sizing: border-box;padding-bottom: 0.4em;background-color: white;}#sk-container-id-1 div.sk-label label {font-family: monospace;font-weight: bold;display: inline-block;line-height: 1.2em;}#sk-container-id-1 div.sk-label-container {text-align: center;}#sk-container-id-1 div.sk-container {/* jupyter's `normalize.less` sets `[hidden] { display: none; }` but bootstrap.min.css set `[hidden] { display: none !important; }` so we also need the `!important` here to be able to override the default hidden behavior on the sphinx rendered scikit-learn.org. See: https://github.com/scikit-learn/scikit-learn/issues/21755 */display: inline-block !important;position: relative;}#sk-container-id-1 div.sk-text-repr-fallback {display: none;}</style><div id=\"sk-container-id-1\" class=\"sk-top-container\"><div class=\"sk-text-repr-fallback\"><pre>Pipeline(steps=[(&#x27;scale&#x27;, None), (&#x27;model&#x27;, RandomForestClassifier())])</pre><b>In a Jupyter environment, please rerun this cell to show the HTML representation or trust the notebook. <br />On GitHub, the HTML representation is unable to render, please try loading this page with nbviewer.org.</b></div><div class=\"sk-container\" hidden><div class=\"sk-item sk-dashed-wrapped\"><div class=\"sk-label-container\"><div class=\"sk-label sk-toggleable\"><input class=\"sk-toggleable__control sk-hidden--visually\" id=\"sk-estimator-id-1\" type=\"checkbox\" ><label for=\"sk-estimator-id-1\" class=\"sk-toggleable__label sk-toggleable__label-arrow\">Pipeline</label><div class=\"sk-toggleable__content\"><pre>Pipeline(steps=[(&#x27;scale&#x27;, None), (&#x27;model&#x27;, RandomForestClassifier())])</pre></div></div></div><div class=\"sk-serial\"><div class=\"sk-item\"><div class=\"sk-estimator sk-toggleable\"><input class=\"sk-toggleable__control sk-hidden--visually\" id=\"sk-estimator-id-2\" type=\"checkbox\" ><label for=\"sk-estimator-id-2\" class=\"sk-toggleable__label sk-toggleable__label-arrow\">None</label><div class=\"sk-toggleable__content\"><pre>None</pre></div></div></div><div class=\"sk-item\"><div class=\"sk-estimator sk-toggleable\"><input class=\"sk-toggleable__control sk-hidden--visually\" id=\"sk-estimator-id-3\" type=\"checkbox\" ><label for=\"sk-estimator-id-3\" class=\"sk-toggleable__label sk-toggleable__label-arrow\">RandomForestClassifier</label><div class=\"sk-toggleable__content\"><pre>RandomForestClassifier()</pre></div></div></div></div></div></div></div>"
      ],
      "text/plain": [
       "Pipeline(steps=[('scale', None), ('model', RandomForestClassifier())])"
      ]
     },
     "execution_count": 34,
     "metadata": {},
     "output_type": "execute_result"
    }
   ],
   "source": [
    "model.fit(X_train, y_train.values.ravel())"
   ]
  },
  {
   "cell_type": "code",
   "execution_count": 35,
   "id": "6e15e313",
   "metadata": {
    "execution": {
     "iopub.execute_input": "2025-08-19T18:20:32.811010Z",
     "iopub.status.busy": "2025-08-19T18:20:32.810205Z",
     "iopub.status.idle": "2025-08-19T18:20:35.471673Z",
     "shell.execute_reply": "2025-08-19T18:20:35.470699Z"
    },
    "papermill": {
     "duration": 2.680096,
     "end_time": "2025-08-19T18:20:35.474036",
     "exception": false,
     "start_time": "2025-08-19T18:20:32.793940",
     "status": "completed"
    },
    "tags": []
   },
   "outputs": [
    {
     "data": {
      "text/plain": [
       "0.8676624679522907"
      ]
     },
     "execution_count": 35,
     "metadata": {},
     "output_type": "execute_result"
    }
   ],
   "source": [
    "from fairness_multiverse.universe import predict_w_threshold\n",
    "\n",
    "probs_test = model.predict_proba(X_test)\n",
    "\n",
    "'''\n",
    "Below code returns a boolean array (or binary 0/1 array depending on how it’s used) where each element \n",
    "is True if the probability of class 1 is greater than or equal to the threshold, and False otherwise.\n",
    "'''\n",
    "y_pred_default = predict_w_threshold(probs_test, 0.5)\n",
    "\n",
    "from sklearn.metrics import accuracy_score\n",
    "\n",
    "# Naive prediction\n",
    "accuracy_score(y_true = y_true, y_pred = y_pred_default)"
   ]
  },
  {
   "cell_type": "code",
   "execution_count": 36,
   "id": "6f14067c",
   "metadata": {
    "execution": {
     "iopub.execute_input": "2025-08-19T18:20:35.516933Z",
     "iopub.status.busy": "2025-08-19T18:20:35.515752Z",
     "iopub.status.idle": "2025-08-19T18:20:38.047172Z",
     "shell.execute_reply": "2025-08-19T18:20:38.046126Z"
    },
    "papermill": {
     "duration": 2.54887,
     "end_time": "2025-08-19T18:20:38.049564",
     "exception": false,
     "start_time": "2025-08-19T18:20:35.500694",
     "status": "completed"
    },
    "tags": []
   },
   "outputs": [
    {
     "data": {
      "text/plain": [
       "array([0, 0, 0, ..., 0, 0, 0])"
      ]
     },
     "execution_count": 36,
     "metadata": {},
     "output_type": "execute_result"
    }
   ],
   "source": [
    "model.predict(X_test)"
   ]
  },
  {
   "cell_type": "markdown",
   "id": "3759920c",
   "metadata": {
    "papermill": {
     "duration": 0.015736,
     "end_time": "2025-08-19T18:20:38.089149",
     "exception": false,
     "start_time": "2025-08-19T18:20:38.073413",
     "status": "completed"
    },
    "tags": []
   },
   "source": [
    "# Conformal Prediction"
   ]
  },
  {
   "cell_type": "code",
   "execution_count": 37,
   "id": "14b27f59",
   "metadata": {
    "execution": {
     "iopub.execute_input": "2025-08-19T18:20:38.116016Z",
     "iopub.status.busy": "2025-08-19T18:20:38.114648Z",
     "iopub.status.idle": "2025-08-19T18:20:38.124615Z",
     "shell.execute_reply": "2025-08-19T18:20:38.122960Z"
    },
    "papermill": {
     "duration": 0.025594,
     "end_time": "2025-08-19T18:20:38.126286",
     "exception": false,
     "start_time": "2025-08-19T18:20:38.100692",
     "status": "completed"
    },
    "tags": []
   },
   "outputs": [],
   "source": [
    "# Miscoverage level for conformal prediction (10% allowed error rate => 90% target coverage)\n",
    "alpha = 0.1"
   ]
  },
  {
   "cell_type": "code",
   "execution_count": 38,
   "id": "59102472",
   "metadata": {
    "execution": {
     "iopub.execute_input": "2025-08-19T18:20:38.154251Z",
     "iopub.status.busy": "2025-08-19T18:20:38.153172Z",
     "iopub.status.idle": "2025-08-19T18:20:40.707839Z",
     "shell.execute_reply": "2025-08-19T18:20:40.706588Z"
    },
    "papermill": {
     "duration": 2.570192,
     "end_time": "2025-08-19T18:20:40.709479",
     "exception": false,
     "start_time": "2025-08-19T18:20:38.139287",
     "status": "completed"
    },
    "tags": []
   },
   "outputs": [],
   "source": [
    "probs_calib = model.predict_proba(X_calib)"
   ]
  },
  {
   "cell_type": "code",
   "execution_count": 39,
   "id": "a792d4dd",
   "metadata": {
    "execution": {
     "iopub.execute_input": "2025-08-19T18:20:40.741200Z",
     "iopub.status.busy": "2025-08-19T18:20:40.740853Z",
     "iopub.status.idle": "2025-08-19T18:20:40.749543Z",
     "shell.execute_reply": "2025-08-19T18:20:40.747985Z"
    },
    "papermill": {
     "duration": 0.031894,
     "end_time": "2025-08-19T18:20:40.753131",
     "exception": false,
     "start_time": "2025-08-19T18:20:40.721237",
     "status": "completed"
    },
    "tags": []
   },
   "outputs": [],
   "source": [
    "y_calib = y_calib.values.ravel().astype(int)"
   ]
  },
  {
   "cell_type": "code",
   "execution_count": 40,
   "id": "650fd033",
   "metadata": {
    "execution": {
     "iopub.execute_input": "2025-08-19T18:20:40.791943Z",
     "iopub.status.busy": "2025-08-19T18:20:40.791037Z",
     "iopub.status.idle": "2025-08-19T18:20:40.804290Z",
     "shell.execute_reply": "2025-08-19T18:20:40.803098Z"
    },
    "papermill": {
     "duration": 0.028144,
     "end_time": "2025-08-19T18:20:40.806188",
     "exception": false,
     "start_time": "2025-08-19T18:20:40.778044",
     "status": "completed"
    },
    "tags": []
   },
   "outputs": [],
   "source": [
    "from fairness_multiverse.conformal import compute_nc_scores\n",
    "\n",
    "# Compute nonconformity scores on calibration set (1 - probability of true class)\n",
    "nc_scores = compute_nc_scores(probs_calib, y_calib)"
   ]
  },
  {
   "cell_type": "code",
   "execution_count": 41,
   "id": "28ada44c",
   "metadata": {
    "execution": {
     "iopub.execute_input": "2025-08-19T18:20:40.838055Z",
     "iopub.status.busy": "2025-08-19T18:20:40.836871Z",
     "iopub.status.idle": "2025-08-19T18:20:40.848567Z",
     "shell.execute_reply": "2025-08-19T18:20:40.846916Z"
    },
    "papermill": {
     "duration": 0.027368,
     "end_time": "2025-08-19T18:20:40.850544",
     "exception": false,
     "start_time": "2025-08-19T18:20:40.823176",
     "status": "completed"
    },
    "tags": []
   },
   "outputs": [],
   "source": [
    "from fairness_multiverse.conformal import find_threshold\n",
    "\n",
    "# Find conformal threshold q_hat for the given alpha (split conformal method)\n",
    "q_hat = find_threshold(nc_scores, alpha)"
   ]
  },
  {
   "cell_type": "code",
   "execution_count": 42,
   "id": "df56469e",
   "metadata": {
    "execution": {
     "iopub.execute_input": "2025-08-19T18:20:40.888764Z",
     "iopub.status.busy": "2025-08-19T18:20:40.877399Z",
     "iopub.status.idle": "2025-08-19T18:20:40.897897Z",
     "shell.execute_reply": "2025-08-19T18:20:40.897155Z"
    },
    "papermill": {
     "duration": 0.034956,
     "end_time": "2025-08-19T18:20:40.899626",
     "exception": false,
     "start_time": "2025-08-19T18:20:40.864670",
     "status": "completed"
    },
    "tags": []
   },
   "outputs": [
    {
     "data": {
      "text/plain": [
       "0.6599999999999999"
      ]
     },
     "execution_count": 42,
     "metadata": {},
     "output_type": "execute_result"
    }
   ],
   "source": [
    "q_hat"
   ]
  },
  {
   "cell_type": "code",
   "execution_count": 43,
   "id": "aa1f5faa",
   "metadata": {
    "execution": {
     "iopub.execute_input": "2025-08-19T18:20:40.924445Z",
     "iopub.status.busy": "2025-08-19T18:20:40.924188Z",
     "iopub.status.idle": "2025-08-19T18:20:43.817995Z",
     "shell.execute_reply": "2025-08-19T18:20:43.817227Z"
    },
    "papermill": {
     "duration": 2.90772,
     "end_time": "2025-08-19T18:20:43.819595",
     "exception": false,
     "start_time": "2025-08-19T18:20:40.911875",
     "status": "completed"
    },
    "tags": []
   },
   "outputs": [],
   "source": [
    "from fairness_multiverse.conformal import predict_conformal_sets\n",
    "\n",
    "# Generate prediction sets for each test example\n",
    "pred_sets = predict_conformal_sets(model, X_test, q_hat)"
   ]
  },
  {
   "cell_type": "code",
   "execution_count": 44,
   "id": "97f67a6b",
   "metadata": {
    "execution": {
     "iopub.execute_input": "2025-08-19T18:20:43.846689Z",
     "iopub.status.busy": "2025-08-19T18:20:43.845752Z",
     "iopub.status.idle": "2025-08-19T18:20:43.853960Z",
     "shell.execute_reply": "2025-08-19T18:20:43.852721Z"
    },
    "papermill": {
     "duration": 0.023474,
     "end_time": "2025-08-19T18:20:43.855562",
     "exception": false,
     "start_time": "2025-08-19T18:20:43.832088",
     "status": "completed"
    },
    "tags": []
   },
   "outputs": [],
   "source": [
    "y_true = y_true.squeeze()"
   ]
  },
  {
   "cell_type": "code",
   "execution_count": 45,
   "id": "e700e9a7",
   "metadata": {
    "execution": {
     "iopub.execute_input": "2025-08-19T18:20:43.882796Z",
     "iopub.status.busy": "2025-08-19T18:20:43.881799Z",
     "iopub.status.idle": "2025-08-19T18:20:44.392336Z",
     "shell.execute_reply": "2025-08-19T18:20:44.391101Z"
    },
    "papermill": {
     "duration": 0.527051,
     "end_time": "2025-08-19T18:20:44.395860",
     "exception": false,
     "start_time": "2025-08-19T18:20:43.868809",
     "status": "completed"
    },
    "tags": []
   },
   "outputs": [],
   "source": [
    "from fairness_multiverse.conformal import evaluate_sets\n",
    "\n",
    "# Evaluate coverage and average set size on test data\n",
    "metrics = evaluate_sets(pred_sets, y_true)"
   ]
  },
  {
   "cell_type": "markdown",
   "id": "efbacec0",
   "metadata": {
    "papermill": {
     "duration": 0.012848,
     "end_time": "2025-08-19T18:20:44.434133",
     "exception": false,
     "start_time": "2025-08-19T18:20:44.421285",
     "status": "completed"
    },
    "tags": []
   },
   "source": [
    "# CP Metrics"
   ]
  },
  {
   "cell_type": "code",
   "execution_count": 46,
   "id": "9de55fb1",
   "metadata": {
    "execution": {
     "iopub.execute_input": "2025-08-19T18:20:44.459943Z",
     "iopub.status.busy": "2025-08-19T18:20:44.458866Z",
     "iopub.status.idle": "2025-08-19T18:20:44.469917Z",
     "shell.execute_reply": "2025-08-19T18:20:44.468726Z"
    },
    "papermill": {
     "duration": 0.026,
     "end_time": "2025-08-19T18:20:44.471640",
     "exception": false,
     "start_time": "2025-08-19T18:20:44.445640",
     "status": "completed"
    },
    "tags": []
   },
   "outputs": [
    {
     "data": {
      "text/plain": [
       "{'coverage': 0.9144576970237431, 'avg_size': 1.1418793891427934}"
      ]
     },
     "execution_count": 46,
     "metadata": {},
     "output_type": "execute_result"
    }
   ],
   "source": [
    "metrics"
   ]
  },
  {
   "cell_type": "code",
   "execution_count": 47,
   "id": "64c340a1",
   "metadata": {
    "execution": {
     "iopub.execute_input": "2025-08-19T18:20:44.499534Z",
     "iopub.status.busy": "2025-08-19T18:20:44.498642Z",
     "iopub.status.idle": "2025-08-19T18:20:44.508315Z",
     "shell.execute_reply": "2025-08-19T18:20:44.507020Z"
    },
    "papermill": {
     "duration": 0.024317,
     "end_time": "2025-08-19T18:20:44.509948",
     "exception": false,
     "start_time": "2025-08-19T18:20:44.485631",
     "status": "completed"
    },
    "tags": []
   },
   "outputs": [],
   "source": [
    "example_universe = universe.copy()\n",
    "universe_training_year = example_universe.get(\"training_year\")\n",
    "universe_training_size = example_universe.get(\"training_size\")\n",
    "universe_scale = example_universe.get(\"scale\")\n",
    "universe_model = example_universe.get(\"model\")\n",
    "universe_exclude_features = example_universe.get(\"exclude_features\")\n",
    "universe_exclude_subgroups = example_universe.get(\"exclude_subgroups\")"
   ]
  },
  {
   "cell_type": "code",
   "execution_count": 48,
   "id": "dbb53cb4",
   "metadata": {
    "execution": {
     "iopub.execute_input": "2025-08-19T18:20:44.538420Z",
     "iopub.status.busy": "2025-08-19T18:20:44.537315Z",
     "iopub.status.idle": "2025-08-19T18:20:44.546669Z",
     "shell.execute_reply": "2025-08-19T18:20:44.545436Z"
    },
    "papermill": {
     "duration": 0.023734,
     "end_time": "2025-08-19T18:20:44.548121",
     "exception": false,
     "start_time": "2025-08-19T18:20:44.524387",
     "status": "completed"
    },
    "tags": []
   },
   "outputs": [],
   "source": [
    "cp_metrics_dict = {\n",
    "    \"universe_id\": [universe_id],\n",
    "    \"universe_training_year\": [universe_training_year],\n",
    "    \"universe_training_size\": [universe_training_size],\n",
    "    \"universe_scale\": [universe_scale],\n",
    "    \"universe_model\": [universe_model],\n",
    "    \"universe_exclude_features\": [universe_exclude_features],\n",
    "    \"universe_exclude_subgroups\": [universe_exclude_subgroups],\n",
    "    \"q_hat\": [q_hat],\n",
    "    \"coverage\": [metrics[\"coverage\"]],\n",
    "    \"avg_size\": [metrics[\"avg_size\"]],\n",
    "}"
   ]
  },
  {
   "cell_type": "code",
   "execution_count": 49,
   "id": "0d70d4b2",
   "metadata": {
    "execution": {
     "iopub.execute_input": "2025-08-19T18:20:44.576191Z",
     "iopub.status.busy": "2025-08-19T18:20:44.575384Z",
     "iopub.status.idle": "2025-08-19T18:20:44.585859Z",
     "shell.execute_reply": "2025-08-19T18:20:44.584625Z"
    },
    "papermill": {
     "duration": 0.024878,
     "end_time": "2025-08-19T18:20:44.587389",
     "exception": false,
     "start_time": "2025-08-19T18:20:44.562511",
     "status": "completed"
    },
    "tags": []
   },
   "outputs": [],
   "source": [
    "cp_metrics_df = pd.DataFrame(cp_metrics_dict)"
   ]
  },
  {
   "cell_type": "code",
   "execution_count": 50,
   "id": "b494403c",
   "metadata": {
    "execution": {
     "iopub.execute_input": "2025-08-19T18:20:44.614345Z",
     "iopub.status.busy": "2025-08-19T18:20:44.613538Z",
     "iopub.status.idle": "2025-08-19T18:20:44.637083Z",
     "shell.execute_reply": "2025-08-19T18:20:44.635936Z"
    },
    "papermill": {
     "duration": 0.038646,
     "end_time": "2025-08-19T18:20:44.639394",
     "exception": false,
     "start_time": "2025-08-19T18:20:44.600748",
     "status": "completed"
    },
    "tags": []
   },
   "outputs": [
    {
     "data": {
      "text/html": [
       "<div>\n",
       "<style scoped>\n",
       "    .dataframe tbody tr th:only-of-type {\n",
       "        vertical-align: middle;\n",
       "    }\n",
       "\n",
       "    .dataframe tbody tr th {\n",
       "        vertical-align: top;\n",
       "    }\n",
       "\n",
       "    .dataframe thead th {\n",
       "        text-align: right;\n",
       "    }\n",
       "</style>\n",
       "<table border=\"1\" class=\"dataframe\">\n",
       "  <thead>\n",
       "    <tr style=\"text-align: right;\">\n",
       "      <th></th>\n",
       "      <th>universe_id</th>\n",
       "      <th>universe_training_year</th>\n",
       "      <th>universe_training_size</th>\n",
       "      <th>universe_scale</th>\n",
       "      <th>universe_model</th>\n",
       "      <th>universe_exclude_features</th>\n",
       "      <th>universe_exclude_subgroups</th>\n",
       "      <th>q_hat</th>\n",
       "      <th>coverage</th>\n",
       "      <th>avg_size</th>\n",
       "    </tr>\n",
       "  </thead>\n",
       "  <tbody>\n",
       "    <tr>\n",
       "      <th>0</th>\n",
       "      <td>199c7b93fe1f9e3a163888a721fa0695</td>\n",
       "      <td>2010_14</td>\n",
       "      <td>25k</td>\n",
       "      <td>do-not-scale</td>\n",
       "      <td>rf</td>\n",
       "      <td>age</td>\n",
       "      <td>keep-all</td>\n",
       "      <td>0.66</td>\n",
       "      <td>0.914458</td>\n",
       "      <td>1.141879</td>\n",
       "    </tr>\n",
       "  </tbody>\n",
       "</table>\n",
       "</div>"
      ],
      "text/plain": [
       "                        universe_id universe_training_year  \\\n",
       "0  199c7b93fe1f9e3a163888a721fa0695                2010_14   \n",
       "\n",
       "  universe_training_size universe_scale universe_model  \\\n",
       "0                    25k   do-not-scale             rf   \n",
       "\n",
       "  universe_exclude_features universe_exclude_subgroups  q_hat  coverage  \\\n",
       "0                       age                   keep-all   0.66  0.914458   \n",
       "\n",
       "   avg_size  \n",
       "0  1.141879  "
      ]
     },
     "execution_count": 50,
     "metadata": {},
     "output_type": "execute_result"
    }
   ],
   "source": [
    "cp_metrics_df"
   ]
  },
  {
   "cell_type": "markdown",
   "id": "ed608b0b",
   "metadata": {
    "papermill": {
     "duration": 0.012222,
     "end_time": "2025-08-19T18:20:44.669578",
     "exception": false,
     "start_time": "2025-08-19T18:20:44.657356",
     "status": "completed"
    },
    "tags": []
   },
   "source": [
    "Conditional coverage & looking at subgroups"
   ]
  },
  {
   "cell_type": "code",
   "execution_count": 51,
   "id": "8968c366",
   "metadata": {
    "execution": {
     "iopub.execute_input": "2025-08-19T18:20:44.695327Z",
     "iopub.status.busy": "2025-08-19T18:20:44.694385Z",
     "iopub.status.idle": "2025-08-19T18:20:44.948254Z",
     "shell.execute_reply": "2025-08-19T18:20:44.947097Z"
    },
    "papermill": {
     "duration": 0.270531,
     "end_time": "2025-08-19T18:20:44.951686",
     "exception": false,
     "start_time": "2025-08-19T18:20:44.681155",
     "status": "completed"
    },
    "tags": []
   },
   "outputs": [],
   "source": [
    "from fairness_multiverse.conformal import build_cp_groups\n",
    "\n",
    "cp_groups_df = build_cp_groups(pred_sets, y_true, X_test.index, org_test)"
   ]
  },
  {
   "cell_type": "code",
   "execution_count": 52,
   "id": "292ddabf",
   "metadata": {
    "execution": {
     "iopub.execute_input": "2025-08-19T18:20:45.005836Z",
     "iopub.status.busy": "2025-08-19T18:20:45.005325Z",
     "iopub.status.idle": "2025-08-19T18:20:45.864168Z",
     "shell.execute_reply": "2025-08-19T18:20:45.863314Z"
    },
    "papermill": {
     "duration": 0.888715,
     "end_time": "2025-08-19T18:20:45.865691",
     "exception": false,
     "start_time": "2025-08-19T18:20:44.976976",
     "status": "completed"
    },
    "tags": []
   },
   "outputs": [],
   "source": [
    "# Define covered = 1 if true_label is in the predicted set\n",
    "cp_groups_df['covered'] = cp_groups_df.apply(\n",
    "    lambda r: int(r['true_label'] in r['pred_set']),\n",
    "    axis=1\n",
    ")"
   ]
  },
  {
   "cell_type": "code",
   "execution_count": 53,
   "id": "3a261692",
   "metadata": {
    "execution": {
     "iopub.execute_input": "2025-08-19T18:20:45.893320Z",
     "iopub.status.busy": "2025-08-19T18:20:45.892302Z",
     "iopub.status.idle": "2025-08-19T18:20:45.916737Z",
     "shell.execute_reply": "2025-08-19T18:20:45.915788Z"
    },
    "papermill": {
     "duration": 0.040251,
     "end_time": "2025-08-19T18:20:45.918831",
     "exception": false,
     "start_time": "2025-08-19T18:20:45.878580",
     "status": "completed"
    },
    "tags": []
   },
   "outputs": [],
   "source": [
    "subgroups = ['frau1','nongerman','nongerman_male','nongerman_female']\n",
    "\n",
    "# Conditional coverage for subgroup==1\n",
    "cond_coverage = {\n",
    "    g: cp_groups_df.loc[cp_groups_df[g]==1, 'covered'].mean()\n",
    "    for g in subgroups\n",
    "}"
   ]
  },
  {
   "cell_type": "code",
   "execution_count": 54,
   "id": "894fd600",
   "metadata": {
    "execution": {
     "iopub.execute_input": "2025-08-19T18:20:45.951320Z",
     "iopub.status.busy": "2025-08-19T18:20:45.950414Z",
     "iopub.status.idle": "2025-08-19T18:20:45.960505Z",
     "shell.execute_reply": "2025-08-19T18:20:45.959178Z"
    },
    "papermill": {
     "duration": 0.02519,
     "end_time": "2025-08-19T18:20:45.962276",
     "exception": false,
     "start_time": "2025-08-19T18:20:45.937086",
     "status": "completed"
    },
    "tags": []
   },
   "outputs": [
    {
     "data": {
      "text/plain": [
       "{'frau1': 0.9132497641191535,\n",
       " 'nongerman': 0.9097288497164991,\n",
       " 'nongerman_male': 0.924795100423309,\n",
       " 'nongerman_female': 0.8847988077496274}"
      ]
     },
     "execution_count": 54,
     "metadata": {},
     "output_type": "execute_result"
    }
   ],
   "source": [
    "cond_coverage"
   ]
  },
  {
   "cell_type": "code",
   "execution_count": 55,
   "id": "942895c7",
   "metadata": {
    "execution": {
     "iopub.execute_input": "2025-08-19T18:20:45.990218Z",
     "iopub.status.busy": "2025-08-19T18:20:45.989235Z",
     "iopub.status.idle": "2025-08-19T18:20:46.000219Z",
     "shell.execute_reply": "2025-08-19T18:20:45.999016Z"
    },
    "papermill": {
     "duration": 0.02623,
     "end_time": "2025-08-19T18:20:46.002012",
     "exception": false,
     "start_time": "2025-08-19T18:20:45.975782",
     "status": "completed"
    },
    "tags": []
   },
   "outputs": [],
   "source": [
    "for subgroup, cov in cond_coverage.items():\n",
    "    cp_metrics_df[f\"cov_{subgroup}\"] = cov"
   ]
  },
  {
   "cell_type": "code",
   "execution_count": 56,
   "id": "3970120f",
   "metadata": {
    "execution": {
     "iopub.execute_input": "2025-08-19T18:20:46.031898Z",
     "iopub.status.busy": "2025-08-19T18:20:46.031036Z",
     "iopub.status.idle": "2025-08-19T18:20:46.058026Z",
     "shell.execute_reply": "2025-08-19T18:20:46.056745Z"
    },
    "papermill": {
     "duration": 0.043751,
     "end_time": "2025-08-19T18:20:46.061500",
     "exception": false,
     "start_time": "2025-08-19T18:20:46.017749",
     "status": "completed"
    },
    "tags": []
   },
   "outputs": [
    {
     "data": {
      "text/html": [
       "<div>\n",
       "<style scoped>\n",
       "    .dataframe tbody tr th:only-of-type {\n",
       "        vertical-align: middle;\n",
       "    }\n",
       "\n",
       "    .dataframe tbody tr th {\n",
       "        vertical-align: top;\n",
       "    }\n",
       "\n",
       "    .dataframe thead th {\n",
       "        text-align: right;\n",
       "    }\n",
       "</style>\n",
       "<table border=\"1\" class=\"dataframe\">\n",
       "  <thead>\n",
       "    <tr style=\"text-align: right;\">\n",
       "      <th></th>\n",
       "      <th>universe_id</th>\n",
       "      <th>universe_training_year</th>\n",
       "      <th>universe_training_size</th>\n",
       "      <th>universe_scale</th>\n",
       "      <th>universe_model</th>\n",
       "      <th>universe_exclude_features</th>\n",
       "      <th>universe_exclude_subgroups</th>\n",
       "      <th>q_hat</th>\n",
       "      <th>coverage</th>\n",
       "      <th>avg_size</th>\n",
       "      <th>cov_frau1</th>\n",
       "      <th>cov_nongerman</th>\n",
       "      <th>cov_nongerman_male</th>\n",
       "      <th>cov_nongerman_female</th>\n",
       "    </tr>\n",
       "  </thead>\n",
       "  <tbody>\n",
       "    <tr>\n",
       "      <th>0</th>\n",
       "      <td>199c7b93fe1f9e3a163888a721fa0695</td>\n",
       "      <td>2010_14</td>\n",
       "      <td>25k</td>\n",
       "      <td>do-not-scale</td>\n",
       "      <td>rf</td>\n",
       "      <td>age</td>\n",
       "      <td>keep-all</td>\n",
       "      <td>0.66</td>\n",
       "      <td>0.914458</td>\n",
       "      <td>1.141879</td>\n",
       "      <td>0.91325</td>\n",
       "      <td>0.909729</td>\n",
       "      <td>0.924795</td>\n",
       "      <td>0.884799</td>\n",
       "    </tr>\n",
       "  </tbody>\n",
       "</table>\n",
       "</div>"
      ],
      "text/plain": [
       "                        universe_id universe_training_year  \\\n",
       "0  199c7b93fe1f9e3a163888a721fa0695                2010_14   \n",
       "\n",
       "  universe_training_size universe_scale universe_model  \\\n",
       "0                    25k   do-not-scale             rf   \n",
       "\n",
       "  universe_exclude_features universe_exclude_subgroups  q_hat  coverage  \\\n",
       "0                       age                   keep-all   0.66  0.914458   \n",
       "\n",
       "   avg_size  cov_frau1  cov_nongerman  cov_nongerman_male  \\\n",
       "0  1.141879    0.91325       0.909729            0.924795   \n",
       "\n",
       "   cov_nongerman_female  \n",
       "0              0.884799  "
      ]
     },
     "execution_count": 56,
     "metadata": {},
     "output_type": "execute_result"
    }
   ],
   "source": [
    "cp_metrics_df"
   ]
  },
  {
   "cell_type": "markdown",
   "id": "3fc519cc",
   "metadata": {
    "papermill": {
     "duration": 0.01253,
     "end_time": "2025-08-19T18:20:46.094817",
     "exception": false,
     "start_time": "2025-08-19T18:20:46.082287",
     "status": "completed"
    },
    "tags": []
   },
   "source": [
    "# (Fairness) Metrics"
   ]
  },
  {
   "cell_type": "code",
   "execution_count": 57,
   "id": "a2e5e155",
   "metadata": {
    "execution": {
     "iopub.execute_input": "2025-08-19T18:20:46.121357Z",
     "iopub.status.busy": "2025-08-19T18:20:46.120302Z",
     "iopub.status.idle": "2025-08-19T18:20:46.149337Z",
     "shell.execute_reply": "2025-08-19T18:20:46.148161Z"
    },
    "papermill": {
     "duration": 0.04515,
     "end_time": "2025-08-19T18:20:46.151979",
     "exception": false,
     "start_time": "2025-08-19T18:20:46.106829",
     "status": "completed"
    },
    "tags": []
   },
   "outputs": [],
   "source": [
    "colname_to_bin = \"maxdeutsch1\"\n",
    "majority_value = org_train[colname_to_bin].mode()[0]\n",
    "\n",
    "org_test[\"majmin\"] = np.where(org_test[colname_to_bin] == majority_value, \"majority\", \"minority\")"
   ]
  },
  {
   "cell_type": "code",
   "execution_count": 58,
   "id": "17e3e4d5",
   "metadata": {
    "execution": {
     "iopub.execute_input": "2025-08-19T18:20:46.191304Z",
     "iopub.status.busy": "2025-08-19T18:20:46.190269Z",
     "iopub.status.idle": "2025-08-19T18:20:47.869974Z",
     "shell.execute_reply": "2025-08-19T18:20:47.868479Z"
    },
    "papermill": {
     "duration": 1.698288,
     "end_time": "2025-08-19T18:20:47.873689",
     "exception": false,
     "start_time": "2025-08-19T18:20:46.175401",
     "status": "completed"
    },
    "tags": []
   },
   "outputs": [],
   "source": [
    "example_universe = universe.copy()\n",
    "example_universe[\"cutoff\"] = example_universe[\"cutoff\"][0]\n",
    "example_universe[\"eval_fairness_grouping\"] = example_universe[\"eval_fairness_grouping\"][0]\n",
    "fairness_dict, metric_frame = universe_analysis.compute_metrics(\n",
    "    example_universe,\n",
    "    y_pred_prob=probs_test,\n",
    "    y_test=y_true,\n",
    "    org_test=org_test,\n",
    ")"
   ]
  },
  {
   "cell_type": "markdown",
   "id": "1fb7a0e9",
   "metadata": {
    "papermill": {
     "duration": 0.013418,
     "end_time": "2025-08-19T18:20:47.911818",
     "exception": false,
     "start_time": "2025-08-19T18:20:47.898400",
     "status": "completed"
    },
    "tags": []
   },
   "source": [
    "# Overall"
   ]
  },
  {
   "cell_type": "markdown",
   "id": "be1784b1",
   "metadata": {
    "papermill": {
     "duration": 0.012263,
     "end_time": "2025-08-19T18:20:47.936440",
     "exception": false,
     "start_time": "2025-08-19T18:20:47.924177",
     "status": "completed"
    },
    "tags": []
   },
   "source": [
    "Main fairness target: Equalized Odds. Seems to be a better fit than equal opportunity, since we're not only interested in Y = 1. Seems to be a better fit than demographic parity, since we also care about accuracy, not just equal distribution of preds.\n",
    "\n",
    "Pick column for computation of fairness metrics\n",
    "\n",
    "Performance\n",
    "Overall performance measures, most interesting in relation to the measures split by group below"
   ]
  },
  {
   "cell_type": "code",
   "execution_count": 59,
   "id": "b7672bee",
   "metadata": {
    "execution": {
     "iopub.execute_input": "2025-08-19T18:20:47.963952Z",
     "iopub.status.busy": "2025-08-19T18:20:47.963037Z",
     "iopub.status.idle": "2025-08-19T18:20:47.987855Z",
     "shell.execute_reply": "2025-08-19T18:20:47.986898Z"
    },
    "papermill": {
     "duration": 0.04118,
     "end_time": "2025-08-19T18:20:47.989725",
     "exception": false,
     "start_time": "2025-08-19T18:20:47.948545",
     "status": "completed"
    },
    "tags": []
   },
   "outputs": [
    {
     "data": {
      "text/plain": [
       "accuracy                   0.219485\n",
       "balanced accuracy          0.543198\n",
       "f1                         0.243387\n",
       "precision                  0.138975\n",
       "false positive rate        0.892228\n",
       "false negative rate        0.021376\n",
       "selection rate             0.903311\n",
       "count                  89710.000000\n",
       "dtype: float64"
      ]
     },
     "execution_count": 59,
     "metadata": {},
     "output_type": "execute_result"
    }
   ],
   "source": [
    "metric_frame.overall"
   ]
  },
  {
   "cell_type": "markdown",
   "id": "d93333c9",
   "metadata": {
    "papermill": {
     "duration": 0.025223,
     "end_time": "2025-08-19T18:20:48.030949",
     "exception": false,
     "start_time": "2025-08-19T18:20:48.005726",
     "status": "completed"
    },
    "tags": []
   },
   "source": [
    "By Group"
   ]
  },
  {
   "cell_type": "code",
   "execution_count": 60,
   "id": "52256966",
   "metadata": {
    "execution": {
     "iopub.execute_input": "2025-08-19T18:20:48.059313Z",
     "iopub.status.busy": "2025-08-19T18:20:48.058556Z",
     "iopub.status.idle": "2025-08-19T18:20:48.071146Z",
     "shell.execute_reply": "2025-08-19T18:20:48.070330Z"
    },
    "papermill": {
     "duration": 0.038898,
     "end_time": "2025-08-19T18:20:48.082089",
     "exception": false,
     "start_time": "2025-08-19T18:20:48.043191",
     "status": "completed"
    },
    "tags": []
   },
   "outputs": [
    {
     "data": {
      "text/html": [
       "<div>\n",
       "<style scoped>\n",
       "    .dataframe tbody tr th:only-of-type {\n",
       "        vertical-align: middle;\n",
       "    }\n",
       "\n",
       "    .dataframe tbody tr th {\n",
       "        vertical-align: top;\n",
       "    }\n",
       "\n",
       "    .dataframe thead th {\n",
       "        text-align: right;\n",
       "    }\n",
       "</style>\n",
       "<table border=\"1\" class=\"dataframe\">\n",
       "  <thead>\n",
       "    <tr style=\"text-align: right;\">\n",
       "      <th></th>\n",
       "      <th>accuracy</th>\n",
       "      <th>balanced accuracy</th>\n",
       "      <th>f1</th>\n",
       "      <th>precision</th>\n",
       "      <th>false positive rate</th>\n",
       "      <th>false negative rate</th>\n",
       "      <th>selection rate</th>\n",
       "      <th>count</th>\n",
       "    </tr>\n",
       "    <tr>\n",
       "      <th>majmin</th>\n",
       "      <th></th>\n",
       "      <th></th>\n",
       "      <th></th>\n",
       "      <th></th>\n",
       "      <th></th>\n",
       "      <th></th>\n",
       "      <th></th>\n",
       "      <th></th>\n",
       "    </tr>\n",
       "  </thead>\n",
       "  <tbody>\n",
       "    <tr>\n",
       "      <th>majority</th>\n",
       "      <td>0.215513</td>\n",
       "      <td>0.542377</td>\n",
       "      <td>0.249464</td>\n",
       "      <td>0.142783</td>\n",
       "      <td>0.901899</td>\n",
       "      <td>0.013348</td>\n",
       "      <td>0.913098</td>\n",
       "      <td>69170.0</td>\n",
       "    </tr>\n",
       "    <tr>\n",
       "      <th>minority</th>\n",
       "      <td>0.232863</td>\n",
       "      <td>0.543678</td>\n",
       "      <td>0.221684</td>\n",
       "      <td>0.125524</td>\n",
       "      <td>0.860280</td>\n",
       "      <td>0.052365</td>\n",
       "      <td>0.870351</td>\n",
       "      <td>20540.0</td>\n",
       "    </tr>\n",
       "  </tbody>\n",
       "</table>\n",
       "</div>"
      ],
      "text/plain": [
       "          accuracy  balanced accuracy        f1  precision  \\\n",
       "majmin                                                       \n",
       "majority  0.215513           0.542377  0.249464   0.142783   \n",
       "minority  0.232863           0.543678  0.221684   0.125524   \n",
       "\n",
       "          false positive rate  false negative rate  selection rate    count  \n",
       "majmin                                                                       \n",
       "majority             0.901899             0.013348        0.913098  69170.0  \n",
       "minority             0.860280             0.052365        0.870351  20540.0  "
      ]
     },
     "execution_count": 60,
     "metadata": {},
     "output_type": "execute_result"
    }
   ],
   "source": [
    "metric_frame.by_group"
   ]
  },
  {
   "cell_type": "code",
   "execution_count": 61,
   "id": "6e6c20ae",
   "metadata": {
    "execution": {
     "iopub.execute_input": "2025-08-19T18:20:48.114553Z",
     "iopub.status.busy": "2025-08-19T18:20:48.113649Z",
     "iopub.status.idle": "2025-08-19T18:20:49.942263Z",
     "shell.execute_reply": "2025-08-19T18:20:49.941028Z"
    },
    "papermill": {
     "duration": 1.844979,
     "end_time": "2025-08-19T18:20:49.943994",
     "exception": false,
     "start_time": "2025-08-19T18:20:48.099015",
     "status": "completed"
    },
    "tags": []
   },
   "outputs": [
    {
     "data": {
      "text/plain": [
       "array([[<Axes: title={'center': 'accuracy'}, xlabel='majmin'>,\n",
       "        <Axes: title={'center': 'balanced accuracy'}, xlabel='majmin'>,\n",
       "        <Axes: title={'center': 'f1'}, xlabel='majmin'>],\n",
       "       [<Axes: title={'center': 'precision'}, xlabel='majmin'>,\n",
       "        <Axes: title={'center': 'false positive rate'}, xlabel='majmin'>,\n",
       "        <Axes: title={'center': 'false negative rate'}, xlabel='majmin'>],\n",
       "       [<Axes: title={'center': 'selection rate'}, xlabel='majmin'>,\n",
       "        <Axes: title={'center': 'count'}, xlabel='majmin'>,\n",
       "        <Axes: xlabel='majmin'>]], dtype=object)"
      ]
     },
     "execution_count": 61,
     "metadata": {},
     "output_type": "execute_result"
    },
    {
     "data": {
      "image/png": "[encoded data removed]",
      "text/plain": [
       "<Figure size 1200x800 with 9 Axes>"
      ]
     },
     "metadata": {},
     "output_type": "display_data"
    }
   ],
   "source": [
    "# In a graphic\n",
    "metric_frame.by_group.plot.bar(\n",
    "    subplots=True,\n",
    "    layout=[3, 3],\n",
    "    legend=False,\n",
    "    figsize=[12, 8],\n",
    "    title=\"Show all metrics\",\n",
    ")"
   ]
  },
  {
   "cell_type": "markdown",
   "id": "b2e433ae",
   "metadata": {
    "papermill": {
     "duration": 0.013587,
     "end_time": "2025-08-19T18:20:49.972334",
     "exception": false,
     "start_time": "2025-08-19T18:20:49.958747",
     "status": "completed"
    },
    "tags": []
   },
   "source": [
    "# Final Output"
   ]
  },
  {
   "cell_type": "code",
   "execution_count": 62,
   "id": "3871301e",
   "metadata": {
    "execution": {
     "iopub.execute_input": "2025-08-19T18:20:50.001304Z",
     "iopub.status.busy": "2025-08-19T18:20:50.000589Z",
     "iopub.status.idle": "2025-08-19T18:20:50.009452Z",
     "shell.execute_reply": "2025-08-19T18:20:50.008241Z"
    },
    "papermill": {
     "duration": 0.029532,
     "end_time": "2025-08-19T18:20:50.015345",
     "exception": false,
     "start_time": "2025-08-19T18:20:49.985813",
     "status": "completed"
    },
    "tags": []
   },
   "outputs": [
    {
     "data": {
      "text/plain": [
       "4"
      ]
     },
     "execution_count": 62,
     "metadata": {},
     "output_type": "execute_result"
    }
   ],
   "source": [
    "sub_universes = universe_analysis.generate_sub_universes()\n",
    "len(sub_universes)"
   ]
  },
  {
   "cell_type": "code",
   "execution_count": 63,
   "id": "d9cfdaca",
   "metadata": {
    "execution": {
     "iopub.execute_input": "2025-08-19T18:20:50.056550Z",
     "iopub.status.busy": "2025-08-19T18:20:50.055573Z",
     "iopub.status.idle": "2025-08-19T18:20:50.066657Z",
     "shell.execute_reply": "2025-08-19T18:20:50.065022Z"
    },
    "papermill": {
     "duration": 0.028111,
     "end_time": "2025-08-19T18:20:50.068106",
     "exception": false,
     "start_time": "2025-08-19T18:20:50.039995",
     "status": "completed"
    },
    "tags": []
   },
   "outputs": [],
   "source": [
    "def filter_sub_universe_data(sub_universe, org_test):\n",
    "    # Keep all rows — no filtering\n",
    "    keep_rows_mask = np.ones(org_test.shape[0], dtype=bool)\n",
    "\n",
    "    print(f\"[INFO] Keeping all rows: {keep_rows_mask.sum()} rows retained.\")\n",
    "    return keep_rows_mask"
   ]
  },
  {
   "cell_type": "code",
   "execution_count": 64,
   "id": "2bc31ac1",
   "metadata": {
    "execution": {
     "iopub.execute_input": "2025-08-19T18:20:50.102699Z",
     "iopub.status.busy": "2025-08-19T18:20:50.101381Z",
     "iopub.status.idle": "2025-08-19T18:20:56.674566Z",
     "shell.execute_reply": "2025-08-19T18:20:56.673467Z"
    },
    "papermill": {
     "duration": 6.591489,
     "end_time": "2025-08-19T18:20:56.676660",
     "exception": false,
     "start_time": "2025-08-19T18:20:50.085171",
     "status": "completed"
    },
    "tags": []
   },
   "outputs": [
    {
     "name": "stdout",
     "output_type": "stream",
     "text": [
      "Stopping execution_time clock.\n",
      "[INFO] Keeping all rows: 89710 rows retained.\n"
     ]
    },
    {
     "name": "stdout",
     "output_type": "stream",
     "text": [
      "[INFO] Keeping all rows: 89710 rows retained.\n"
     ]
    },
    {
     "name": "stdout",
     "output_type": "stream",
     "text": [
      "[INFO] Keeping all rows: 89710 rows retained.\n"
     ]
    },
    {
     "name": "stdout",
     "output_type": "stream",
     "text": [
      "[INFO] Keeping all rows: 89710 rows retained.\n"
     ]
    },
    {
     "data": {
      "text/html": [
       "<div>\n",
       "<style scoped>\n",
       "    .dataframe tbody tr th:only-of-type {\n",
       "        vertical-align: middle;\n",
       "    }\n",
       "\n",
       "    .dataframe tbody tr th {\n",
       "        vertical-align: top;\n",
       "    }\n",
       "\n",
       "    .dataframe thead th {\n",
       "        text-align: right;\n",
       "    }\n",
       "</style>\n",
       "<table border=\"1\" class=\"dataframe\">\n",
       "  <thead>\n",
       "    <tr style=\"text-align: right;\">\n",
       "      <th></th>\n",
       "      <th>run_no</th>\n",
       "      <th>universe_id</th>\n",
       "      <th>universe_settings</th>\n",
       "      <th>execution_time</th>\n",
       "      <th>test_size_n</th>\n",
       "      <th>test_size_frac</th>\n",
       "      <th>fair_main_equalized_odds_difference</th>\n",
       "      <th>fair_main_equalized_odds_ratio</th>\n",
       "      <th>fair_main_demographic_parity_difference</th>\n",
       "      <th>fair_main_demographic_parity_ratio</th>\n",
       "      <th>...</th>\n",
       "      <th>perf_grp_precision_0</th>\n",
       "      <th>perf_grp_precision_1</th>\n",
       "      <th>perf_grp_false positive rate_0</th>\n",
       "      <th>perf_grp_false positive rate_1</th>\n",
       "      <th>perf_grp_false negative rate_0</th>\n",
       "      <th>perf_grp_false negative rate_1</th>\n",
       "      <th>perf_grp_selection rate_0</th>\n",
       "      <th>perf_grp_selection rate_1</th>\n",
       "      <th>perf_grp_count_0</th>\n",
       "      <th>perf_grp_count_1</th>\n",
       "    </tr>\n",
       "  </thead>\n",
       "  <tbody>\n",
       "    <tr>\n",
       "      <th>0</th>\n",
       "      <td>3</td>\n",
       "      <td>199c7b93fe1f9e3a163888a721fa0695</td>\n",
       "      <td>{\"cutoff\": \"quantile_0.1\", \"eval_fairness_grou...</td>\n",
       "      <td>39.940391</td>\n",
       "      <td>89710</td>\n",
       "      <td>1.0</td>\n",
       "      <td>0.041619</td>\n",
       "      <td>0.953853</td>\n",
       "      <td>0.042748</td>\n",
       "      <td>0.953184</td>\n",
       "      <td>...</td>\n",
       "      <td>NaN</td>\n",
       "      <td>NaN</td>\n",
       "      <td>NaN</td>\n",
       "      <td>NaN</td>\n",
       "      <td>NaN</td>\n",
       "      <td>NaN</td>\n",
       "      <td>NaN</td>\n",
       "      <td>NaN</td>\n",
       "      <td>NaN</td>\n",
       "      <td>NaN</td>\n",
       "    </tr>\n",
       "    <tr>\n",
       "      <th>0</th>\n",
       "      <td>3</td>\n",
       "      <td>199c7b93fe1f9e3a163888a721fa0695</td>\n",
       "      <td>{\"cutoff\": \"quantile_0.1\", \"eval_fairness_grou...</td>\n",
       "      <td>39.940391</td>\n",
       "      <td>89710</td>\n",
       "      <td>1.0</td>\n",
       "      <td>0.041619</td>\n",
       "      <td>0.953853</td>\n",
       "      <td>0.042748</td>\n",
       "      <td>0.953184</td>\n",
       "      <td>...</td>\n",
       "      <td>0.125524</td>\n",
       "      <td>0.142783</td>\n",
       "      <td>0.860280</td>\n",
       "      <td>0.901899</td>\n",
       "      <td>0.052365</td>\n",
       "      <td>0.013348</td>\n",
       "      <td>0.870351</td>\n",
       "      <td>0.913098</td>\n",
       "      <td>20540.0</td>\n",
       "      <td>69170.0</td>\n",
       "    </tr>\n",
       "    <tr>\n",
       "      <th>0</th>\n",
       "      <td>3</td>\n",
       "      <td>199c7b93fe1f9e3a163888a721fa0695</td>\n",
       "      <td>{\"cutoff\": \"quantile_0.25\", \"eval_fairness_gro...</td>\n",
       "      <td>39.940391</td>\n",
       "      <td>89710</td>\n",
       "      <td>1.0</td>\n",
       "      <td>0.069854</td>\n",
       "      <td>0.926529</td>\n",
       "      <td>0.044108</td>\n",
       "      <td>0.942704</td>\n",
       "      <td>...</td>\n",
       "      <td>NaN</td>\n",
       "      <td>NaN</td>\n",
       "      <td>NaN</td>\n",
       "      <td>NaN</td>\n",
       "      <td>NaN</td>\n",
       "      <td>NaN</td>\n",
       "      <td>NaN</td>\n",
       "      <td>NaN</td>\n",
       "      <td>NaN</td>\n",
       "      <td>NaN</td>\n",
       "    </tr>\n",
       "    <tr>\n",
       "      <th>0</th>\n",
       "      <td>3</td>\n",
       "      <td>199c7b93fe1f9e3a163888a721fa0695</td>\n",
       "      <td>{\"cutoff\": \"quantile_0.25\", \"eval_fairness_gro...</td>\n",
       "      <td>39.940391</td>\n",
       "      <td>89710</td>\n",
       "      <td>1.0</td>\n",
       "      <td>0.069854</td>\n",
       "      <td>0.926529</td>\n",
       "      <td>0.044108</td>\n",
       "      <td>0.942704</td>\n",
       "      <td>...</td>\n",
       "      <td>0.139944</td>\n",
       "      <td>0.163199</td>\n",
       "      <td>0.705481</td>\n",
       "      <td>0.742262</td>\n",
       "      <td>0.119088</td>\n",
       "      <td>0.049234</td>\n",
       "      <td>0.725706</td>\n",
       "      <td>0.769814</td>\n",
       "      <td>20540.0</td>\n",
       "      <td>69170.0</td>\n",
       "    </tr>\n",
       "  </tbody>\n",
       "</table>\n",
       "<p>4 rows × 50 columns</p>\n",
       "</div>"
      ],
      "text/plain": [
       "  run_no                       universe_id  \\\n",
       "0      3  199c7b93fe1f9e3a163888a721fa0695   \n",
       "0      3  199c7b93fe1f9e3a163888a721fa0695   \n",
       "0      3  199c7b93fe1f9e3a163888a721fa0695   \n",
       "0      3  199c7b93fe1f9e3a163888a721fa0695   \n",
       "\n",
       "                                   universe_settings  execution_time  \\\n",
       "0  {\"cutoff\": \"quantile_0.1\", \"eval_fairness_grou...       39.940391   \n",
       "0  {\"cutoff\": \"quantile_0.1\", \"eval_fairness_grou...       39.940391   \n",
       "0  {\"cutoff\": \"quantile_0.25\", \"eval_fairness_gro...       39.940391   \n",
       "0  {\"cutoff\": \"quantile_0.25\", \"eval_fairness_gro...       39.940391   \n",
       "\n",
       "   test_size_n  test_size_frac  fair_main_equalized_odds_difference  \\\n",
       "0        89710             1.0                             0.041619   \n",
       "0        89710             1.0                             0.041619   \n",
       "0        89710             1.0                             0.069854   \n",
       "0        89710             1.0                             0.069854   \n",
       "\n",
       "   fair_main_equalized_odds_ratio  fair_main_demographic_parity_difference  \\\n",
       "0                        0.953853                                 0.042748   \n",
       "0                        0.953853                                 0.042748   \n",
       "0                        0.926529                                 0.044108   \n",
       "0                        0.926529                                 0.044108   \n",
       "\n",
       "   fair_main_demographic_parity_ratio  ...  perf_grp_precision_0  \\\n",
       "0                            0.953184  ...                   NaN   \n",
       "0                            0.953184  ...              0.125524   \n",
       "0                            0.942704  ...                   NaN   \n",
       "0                            0.942704  ...              0.139944   \n",
       "\n",
       "   perf_grp_precision_1  perf_grp_false positive rate_0  \\\n",
       "0                   NaN                             NaN   \n",
       "0              0.142783                        0.860280   \n",
       "0                   NaN                             NaN   \n",
       "0              0.163199                        0.705481   \n",
       "\n",
       "   perf_grp_false positive rate_1  perf_grp_false negative rate_0  \\\n",
       "0                             NaN                             NaN   \n",
       "0                        0.901899                        0.052365   \n",
       "0                             NaN                             NaN   \n",
       "0                        0.742262                        0.119088   \n",
       "\n",
       "   perf_grp_false negative rate_1  perf_grp_selection rate_0  \\\n",
       "0                             NaN                        NaN   \n",
       "0                        0.013348                   0.870351   \n",
       "0                             NaN                        NaN   \n",
       "0                        0.049234                   0.725706   \n",
       "\n",
       "   perf_grp_selection rate_1  perf_grp_count_0  perf_grp_count_1  \n",
       "0                        NaN               NaN               NaN  \n",
       "0                   0.913098           20540.0           69170.0  \n",
       "0                        NaN               NaN               NaN  \n",
       "0                   0.769814           20540.0           69170.0  \n",
       "\n",
       "[4 rows x 50 columns]"
      ]
     },
     "execution_count": 64,
     "metadata": {},
     "output_type": "execute_result"
    }
   ],
   "source": [
    "final_output = universe_analysis.generate_final_output(\n",
    "    y_pred_prob=probs_test,\n",
    "    y_test=y_true,\n",
    "    org_test=org_test,\n",
    "    filter_data=filter_sub_universe_data,\n",
    "    cp_metrics_df=cp_metrics_df,\n",
    "    save=True,\n",
    ")\n",
    "final_output"
   ]
  },
  {
   "cell_type": "code",
   "execution_count": null,
   "id": "8b80a1ff",
   "metadata": {
    "papermill": {
     "duration": 0.015465,
     "end_time": "2025-08-19T18:20:56.714091",
     "exception": false,
     "start_time": "2025-08-19T18:20:56.698626",
     "status": "completed"
    },
    "tags": []
   },
   "outputs": [],
   "source": []
  },
  {
   "cell_type": "code",
   "execution_count": null,
   "id": "275c9fad",
   "metadata": {
    "papermill": {
     "duration": 0.014979,
     "end_time": "2025-08-19T18:20:56.744349",
     "exception": false,
     "start_time": "2025-08-19T18:20:56.729370",
     "status": "completed"
    },
    "tags": []
   },
   "outputs": [],
   "source": []
  }
 ],
 "metadata": {
  "celltoolbar": "Tags",
  "kernelspec": {
   "display_name": "Python (CMA Fairness)",
   "language": "python",
   "name": "cma_fair_env"
  },
  "language_info": {
   "codemirror_mode": {
    "name": "ipython",
    "version": 3
   },
   "file_extension": ".py",
   "mimetype": "text/x-python",
   "name": "python",
   "nbconvert_exporter": "python",
   "pygments_lexer": "ipython3",
   "version": "3.10.12"
  },
  "papermill": {
   "default_parameters": {},
   "duration": 50.360185,
   "end_time": "2025-08-19T18:20:57.715966",
   "environment_variables": {},
   "exception": null,
   "input_path": "universe_analysis.ipynb",
   "output_path": "output/runs/3/notebooks/m_3-199c7b93fe1f9e3a163888a721fa0695.ipynb",
   "parameters": {
    "output_dir": "output",
    "run_no": "3",
    "seed": "2023",
    "universe": "{\"cutoff\": [\"quantile_0.1\", \"quantile_0.25\"], \"eval_fairness_grouping\": [\"majority-minority\", \"nationality-all\"], \"exclude_features\": \"age\", \"exclude_subgroups\": \"keep-all\", \"model\": \"rf\", \"scale\": \"do-not-scale\", \"training_size\": \"25k\", \"training_year\": \"2010_14\"}",
    "universe_id": "199c7b93fe1f9e3a163888a721fa0695"
   },
   "start_time": "2025-08-19T18:20:07.355781",
   "version": "2.6.0"
  }
 },
 "nbformat": 4,
 "nbformat_minor": 5
}